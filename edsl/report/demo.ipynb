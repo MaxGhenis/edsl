{
 "cells": [
  {
   "cell_type": "code",
   "execution_count": null,
   "id": "5bb0ed8d-ad0f-4a04-b90c-b369b2d9b3e5",
   "metadata": {},
   "outputs": [],
   "source": [
    "from edsl.results.Results import Results\n",
    "results = Results.example()"
   ]
  },
  {
   "cell_type": "code",
   "execution_count": null,
   "id": "c6ab573b-99c7-4483-884e-add1a70e639c",
   "metadata": {},
   "outputs": [],
   "source": [
    "results.faceted_bar_chart"
   ]
  },
  {
   "cell_type": "code",
   "execution_count": null,
   "id": "849555a3-7429-4177-b7d0-18d98141b24b",
   "metadata": {},
   "outputs": [],
   "source": [
    "results.word_cloud_plot('answer.how_feeling_comment')"
   ]
  },
  {
   "cell_type": "code",
   "execution_count": null,
   "id": "266404b4-7e51-4817-aa53-6397692e079e",
   "metadata": {},
   "outputs": [],
   "source": [
    "results.select('answer.*').print(\n",
    "    html=True, \n",
    "    pretty_labels = {\"answer.how_feeling\":\"How feeling\"}, \n",
    "    interactive = True)"
   ]
  },
  {
   "cell_type": "code",
   "execution_count": null,
   "id": "162ac87d-cbae-4660-accc-0cae0809826f",
   "metadata": {},
   "outputs": [],
   "source": [
    "results.select('how_feeling').print(\n",
    "    html=True, \n",
    "    pretty_labels = {\"answer.how_feeling\":\"How feeling\"}, \n",
    "    )"
   ]
  },
  {
   "cell_type": "code",
   "execution_count": null,
   "id": "3a7d9305-0e40-43bd-b207-f718c510f0c7",
   "metadata": {},
   "outputs": [],
   "source": [
    "results.faceted_bar_chart"
   ]
  },
  {
   "cell_type": "code",
   "execution_count": null,
   "id": "f82b6d68-c817-47ff-8f83-6f373c6269a2",
   "metadata": {},
   "outputs": [],
   "source": [
    "results.tally(\"how_feeling\")"
   ]
  },
  {
   "cell_type": "code",
   "execution_count": null,
   "id": "5adaaedb-a898-4296-a807-1ed8cc954f1c",
   "metadata": {},
   "outputs": [],
   "source": [
    "results.bar_chart(\"how_feeling\", title = \"Here is a cool title\")"
   ]
  },
  {
   "cell_type": "code",
   "execution_count": null,
   "id": "05159cf5-ba81-4b62-893c-41c2b73652da",
   "metadata": {},
   "outputs": [],
   "source": [
    "# results.ordered_logit(\"how_feeling\", \"period\")"
   ]
  },
  {
   "cell_type": "code",
   "execution_count": null,
   "id": "6e9169cc-e365-485e-bf3c-0a7c0dfe9044",
   "metadata": {},
   "outputs": [],
   "source": [
    "results.faceted_bar_chart(\"how_feeling\", \"period\")"
   ]
  },
  {
   "cell_type": "code",
   "execution_count": null,
   "id": "e4e43b34-26ec-438a-841a-0ec8c2ab5ea5",
   "metadata": {},
   "outputs": [],
   "source": [
    "_ = [results.bar_chart(key) for key in results.all_keys ]"
   ]
  }
 ],
 "metadata": {
  "kernelspec": {
   "display_name": "Python 3 (ipykernel)",
   "language": "python",
   "name": "python3"
  },
  "language_info": {
   "codemirror_mode": {
    "name": "ipython",
    "version": 3
   },
   "file_extension": ".py",
   "mimetype": "text/x-python",
   "name": "python",
   "nbconvert_exporter": "python",
   "pygments_lexer": "ipython3"
  }
 },
 "nbformat": 4,
 "nbformat_minor": 5
}
