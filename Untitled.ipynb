{
 "cells": [
  {
   "cell_type": "code",
   "execution_count": 1,
   "id": "1db44611-bbf8-4a8f-81e9-9a62a08a59a0",
   "metadata": {},
   "outputs": [],
   "source": [
    "from edsl import QuestionFreeText, QuestionMultipleChoice, Scenario\n"
   ]
  },
  {
   "cell_type": "code",
   "execution_count": 16,
   "id": "8ba43435-2bb9-4dd6-b574-ca03bacc336f",
   "metadata": {},
   "outputs": [
    {
     "data": {
      "text/html": [
       "<pre style=\"white-space:pre;overflow-x:auto;line-height:normal;font-family:Menlo,'DejaVu Sans Mono',consolas,'Courier New',monospace\"><span style=\"font-weight: bold\">{</span><span style=\"color: #008000; text-decoration-color: #008000\">'translation'</span>: <span style=\"color: #008080; text-decoration-color: #008080; font-weight: bold\">0</span><span style=\"font-weight: bold\">}</span>\n",
       "</pre>\n"
      ],
      "text/plain": [
       "\u001b[1m{\u001b[0m\u001b[32m'translation'\u001b[0m: \u001b[1;36m0\u001b[0m\u001b[1m}\u001b[0m\n"
      ]
     },
     "metadata": {},
     "output_type": "display_data"
    },
    {
     "data": {
      "text/html": [
       "<pre style=\"white-space:pre;overflow-x:auto;line-height:normal;font-family:Menlo,'DejaVu Sans Mono',consolas,'Courier New',monospace\">┏━━━━━━━━━━━━━━┳━━━━━━━━━━━┳━━━━━━━━━━━━━━┓\n",
       "┃<span style=\"color: #800080; text-decoration-color: #800080; font-weight: bold\"> answer       </span>┃<span style=\"color: #800080; text-decoration-color: #800080; font-weight: bold\"> scenario  </span>┃<span style=\"color: #800080; text-decoration-color: #800080; font-weight: bold\"> scenario     </span>┃\n",
       "┃<span style=\"color: #800080; text-decoration-color: #800080; font-weight: bold\"> .translation </span>┃<span style=\"color: #800080; text-decoration-color: #800080; font-weight: bold\"> .language </span>┃<span style=\"color: #800080; text-decoration-color: #800080; font-weight: bold\"> .question    </span>┃\n",
       "┡━━━━━━━━━━━━━━╇━━━━━━━━━━━╇━━━━━━━━━━━━━━┩\n",
       "│<span style=\"color: #7f7f7f; text-decoration-color: #7f7f7f\"> 안녕하세요?  </span>│<span style=\"color: #7f7f7f; text-decoration-color: #7f7f7f\"> Korean    </span>│<span style=\"color: #7f7f7f; text-decoration-color: #7f7f7f\"> How are you? </span>│\n",
       "└──────────────┴───────────┴──────────────┘\n",
       "</pre>\n"
      ],
      "text/plain": [
       "┏━━━━━━━━━━━━━━┳━━━━━━━━━━━┳━━━━━━━━━━━━━━┓\n",
       "┃\u001b[1;35m \u001b[0m\u001b[1;35manswer      \u001b[0m\u001b[1;35m \u001b[0m┃\u001b[1;35m \u001b[0m\u001b[1;35mscenario \u001b[0m\u001b[1;35m \u001b[0m┃\u001b[1;35m \u001b[0m\u001b[1;35mscenario    \u001b[0m\u001b[1;35m \u001b[0m┃\n",
       "┃\u001b[1;35m \u001b[0m\u001b[1;35m.translation\u001b[0m\u001b[1;35m \u001b[0m┃\u001b[1;35m \u001b[0m\u001b[1;35m.language\u001b[0m\u001b[1;35m \u001b[0m┃\u001b[1;35m \u001b[0m\u001b[1;35m.question   \u001b[0m\u001b[1;35m \u001b[0m┃\n",
       "┡━━━━━━━━━━━━━━╇━━━━━━━━━━━╇━━━━━━━━━━━━━━┩\n",
       "│\u001b[2m \u001b[0m\u001b[2m안녕하세요? \u001b[0m\u001b[2m \u001b[0m│\u001b[2m \u001b[0m\u001b[2mKorean   \u001b[0m\u001b[2m \u001b[0m│\u001b[2m \u001b[0m\u001b[2mHow are you?\u001b[0m\u001b[2m \u001b[0m│\n",
       "└──────────────┴───────────┴──────────────┘\n"
      ]
     },
     "metadata": {},
     "output_type": "display_data"
    },
    {
     "data": {
      "text/html": [
       "<pre style=\"white-space:pre;overflow-x:auto;line-height:normal;font-family:Menlo,'DejaVu Sans Mono',consolas,'Courier New',monospace\"><span style=\"font-weight: bold\">{</span><span style=\"color: #008000; text-decoration-color: #008000\">'translation'</span>: <span style=\"color: #008080; text-decoration-color: #008080; font-weight: bold\">0</span><span style=\"font-weight: bold\">}</span>\n",
       "</pre>\n"
      ],
      "text/plain": [
       "\u001b[1m{\u001b[0m\u001b[32m'translation'\u001b[0m: \u001b[1;36m0\u001b[0m\u001b[1m}\u001b[0m\n"
      ]
     },
     "metadata": {},
     "output_type": "display_data"
    },
    {
     "data": {
      "text/html": [
       "<pre style=\"white-space:pre;overflow-x:auto;line-height:normal;font-family:Menlo,'DejaVu Sans Mono',consolas,'Courier New',monospace\"><span style=\"font-weight: bold\">{</span><span style=\"color: #008000; text-decoration-color: #008000\">'answer_in_korean'</span>: <span style=\"color: #008080; text-decoration-color: #008080; font-weight: bold\">0</span><span style=\"font-weight: bold\">}</span>\n",
       "</pre>\n"
      ],
      "text/plain": [
       "\u001b[1m{\u001b[0m\u001b[32m'answer_in_korean'\u001b[0m: \u001b[1;36m0\u001b[0m\u001b[1m}\u001b[0m\n"
      ]
     },
     "metadata": {},
     "output_type": "display_data"
    },
    {
     "data": {
      "text/html": [
       "<pre style=\"white-space:pre;overflow-x:auto;line-height:normal;font-family:Menlo,'DejaVu Sans Mono',consolas,'Courier New',monospace\"><span style=\"font-weight: bold\">{</span><span style=\"color: #008000; text-decoration-color: #008000\">'translation'</span>: <span style=\"color: #008080; text-decoration-color: #008080; font-weight: bold\">0</span><span style=\"font-weight: bold\">}</span>\n",
       "</pre>\n"
      ],
      "text/plain": [
       "\u001b[1m{\u001b[0m\u001b[32m'translation'\u001b[0m: \u001b[1;36m0\u001b[0m\u001b[1m}\u001b[0m\n"
      ]
     },
     "metadata": {},
     "output_type": "display_data"
    },
    {
     "data": {
      "text/plain": [
       "Dataset([{'answer.translation': ['Hello!']}])"
      ]
     },
     "execution_count": 16,
     "metadata": {},
     "output_type": "execute_result"
    }
   ],
   "source": [
    "from functools import partial \n",
    "\n",
    "q = QuestionFreeText(\n",
    "    question_text = \"Please translate this into {{language}}: {{ question}}\",\n",
    "    question_name = \"translation\")\n",
    "\n",
    "def translate(language, question):\n",
    "    scenario = Scenario({\"question\": question, \"language\": language})\n",
    "    results = q.by(scenario).run()\n",
    "    return results\n",
    "\n",
    "to_korean = partial(translate, \"Korean\")\n",
    "to_english = partial(translate, \"English\")\n",
    "\n",
    "to_korean(\"How are you?\").select(\"translation\", \"language\", \"question\").print()\n",
    "\n",
    "def answer_question_in_korean(question):\n",
    "    results = to_korean(question)\n",
    "    q = QuestionFreeText(question_text = results.select(\"translation\").first(), \n",
    "                         question_name = \"answer_in_korean\")\n",
    "    answer_results = q.run()\n",
    "    return answer_results\n",
    "\n",
    "answer_results = answer_question_in_korean(\"How are you?\")\n",
    "\n",
    "to_english(answer_results.select(\"answer_in_korean\").first()).select('answer.*')"
   ]
  }
 ],
 "metadata": {
  "kernelspec": {
   "display_name": "Python 3 (ipykernel)",
   "language": "python",
   "name": "python3"
  },
  "language_info": {
   "codemirror_mode": {
    "name": "ipython",
    "version": 3
   },
   "file_extension": ".py",
   "mimetype": "text/x-python",
   "name": "python",
   "nbconvert_exporter": "python",
   "pygments_lexer": "ipython3",
   "version": "3.10.10"
  }
 },
 "nbformat": 4,
 "nbformat_minor": 5
}
