{
 "cells": [
  {
   "cell_type": "code",
   "execution_count": null,
   "id": "9adf83ff-14e7-4a2b-9137-877a35f794df",
   "metadata": {},
   "outputs": [],
   "source": [
    "def exercise(module):\n",
    "    example = module.example()\n",
    "    example.print()\n",
    "\n",
    "def test_collection(registry):\n",
    "    to_test = registry.keys()\n",
    "    for class_name in to_test:\n",
    "        path = registry[class_name]\n",
    "        print(f\"For {class_name}\")\n",
    "        exercise(path)"
   ]
  },
  {
   "cell_type": "code",
   "execution_count": null,
   "id": "e817e0a5-d2f8-44eb-9f7e-c11eade35c20",
   "metadata": {},
   "outputs": [],
   "source": [
    "from edsl.data.Cache import Cache\n",
    "from edsl.results.Results import Results\n",
    "from edsl.results.Result import Result\n",
    "from edsl.Base import RegisterSubclassesMeta\n",
    "from edsl.questions.Question import RegisterQuestionsMeta\n",
    "from edsl.prompts.registry import RegisterPromptsMeta\n",
    "from edsl.language_models.LanguageModel import RegisterLanguageModelsMeta\n",
    "\n",
    "registry_classes = [\n",
    "    RegisterSubclassesMeta,\n",
    "    RegisterQuestionsMeta,\n",
    "    RegisterPromptsMeta, \n",
    "    RegisterLanguageModelsMeta\n",
    "]\n",
    "\n",
    "for registry_class in registry_classes:\n",
    "    registry = getattr(registry_class, \"_registry\")\n",
    "    test_collection(registry)"
   ]
  }
 ],
 "metadata": {
  "kernelspec": {
   "display_name": "Python 3 (ipykernel)",
   "language": "python",
   "name": "python3"
  },
  "language_info": {
   "codemirror_mode": {
    "name": "ipython",
    "version": 3
   },
   "file_extension": ".py",
   "mimetype": "text/x-python",
   "name": "python",
   "nbconvert_exporter": "python",
   "pygments_lexer": "ipython3"
  }
 },
 "nbformat": 4,
 "nbformat_minor": 5
}
