{
 "cells": [
  {
   "cell_type": "markdown",
   "id": "c64e76be-8006-4a57-8888-6b42cf92b941",
   "metadata": {},
   "source": [
    "https://digitalcommons.chapman.edu/cgi/viewcontent.cgi?article=1027&context=economics_articles"
   ]
  },
  {
   "cell_type": "code",
   "execution_count": 1,
   "id": "72d38cdd-8781-458b-b744-066a930d57e3",
   "metadata": {},
   "outputs": [],
   "source": [
    "from edsl import QuestionNumerical, Scenario, QuestionMultipleChoice, Survey\n",
    "\n",
    "s = Scenario({'value': {'John':10, 'Robin':9}, 'N':3, 'players': ['John', 'Robin']})\n",
    "\n",
    "q_b = QuestionNumerical(question_name = \"buyer\", \n",
    "                      question_text = \"\"\"\n",
    "                      You are a buyer in a market for a commodity.\n",
    "                      {% set player = scenario.players | random %}\n",
    "                      Your name is {{ player }}.\n",
    "                      Your value for the commodity is {{ scenario.value[player] }}.\n",
    "                      You can call out a bid to other traders in the market. \n",
    "                      You would be happy to get the good at your value, but you'd like to get it for less.\n",
    "                      Anything price you pay less than your value is pure profit.\n",
    "                      What is your bid?\n",
    "                      \"\"\")\n",
    "\n",
    "q_s = QuestionMultipleChoice(question_name = \"\"\"seller\"\"\", \n",
    "                      question_text = \"\"\"\n",
    "                      You are a seller in a market. \n",
    "                      Your value for the commodity is {{ scenario.value.Robin }}.\n",
    "                      There are {{ N }} other sellers and {{ N }} other buyers.\n",
    "                      You would be happy to sell the commodity at your value, but you'd like to get more for it.\n",
    "                      Anything price you pay more than your value is pure profit.\n",
    "                      There is one buyer offer for {{ buyer.answer }}\n",
    "                      \"\"\", \n",
    "                    question_options = [\"Accept an existing offer\", \"Ask for a different price\"]\n",
    "                          )\n",
    "q_s_ask = QuestionNumerical(question_name = \"seller_ask\", \n",
    "                      question_text = \"\"\"\n",
    "                      {{ seller.question_text }}\n",
    "                      You want to ask for a price. \n",
    "                      You chose {{ seller.answer }}.\n",
    "                      What is your ask?\n",
    "                      \"\"\")\n",
    "\n",
    "\n",
    "results = (Survey([q_b, q_s,q_s_ask])\n",
    "           .add_stop_rule('seller', '{{ seller.answer }} == \"Accept an existing offer\"')\n",
    "           .by(s)\n",
    "           .run(disable_remote_inference = True)\n",
    "          )"
   ]
  },
  {
   "cell_type": "code",
   "execution_count": 2,
   "id": "43c58754-fe0a-401e-b354-9eb901e32edb",
   "metadata": {},
   "outputs": [
    {
     "data": {
      "text/html": [
       "\n",
       "            <div style=\"max-height: 500px; overflow-y: auto;\">\n",
       "                <style type=\"text/css\">\n",
       "#T_5752a_row0_col0, #T_5752a_row0_col3 {\n",
       "  text-align: left;\n",
       "  background-color: #fff7fb;\n",
       "  color: #000000;\n",
       "}\n",
       "#T_5752a_row0_col1, #T_5752a_row0_col2, #T_5752a_row0_col4 {\n",
       "  text-align: left;\n",
       "}\n",
       "</style>\n",
       "<table id=\"T_5752a\">\n",
       "  <thead>\n",
       "    <tr>\n",
       "      <th class=\"blank level0\" >&nbsp;</th>\n",
       "      <th id=\"T_5752a_level0_col0\" class=\"col_heading level0 col0\" >answer.buyer</th>\n",
       "      <th id=\"T_5752a_level0_col1\" class=\"col_heading level0 col1\" >answer.seller</th>\n",
       "      <th id=\"T_5752a_level0_col2\" class=\"col_heading level0 col2\" >scenario.value</th>\n",
       "      <th id=\"T_5752a_level0_col3\" class=\"col_heading level0 col3\" >answer.seller_ask</th>\n",
       "      <th id=\"T_5752a_level0_col4\" class=\"col_heading level0 col4\" >prompt.buyer_user_prompt</th>\n",
       "    </tr>\n",
       "  </thead>\n",
       "  <tbody>\n",
       "    <tr>\n",
       "      <th id=\"T_5752a_level0_row0\" class=\"row_heading level0 row0\" >0</th>\n",
       "      <td id=\"T_5752a_row0_col0\" class=\"data row0 col0\" >8.500000</td>\n",
       "      <td id=\"T_5752a_row0_col1\" class=\"data row0 col1\" >Ask for a different price</td>\n",
       "      <td id=\"T_5752a_row0_col2\" class=\"data row0 col2\" >{'John': 10, 'Robin': 9}</td>\n",
       "      <td id=\"T_5752a_row0_col3\" class=\"data row0 col3\" >9.500000</td>\n",
       "      <td id=\"T_5752a_row0_col4\" class=\"data row0 col4\" >\n",
       "                      You are a buyer in a market for a commodity.\n",
       "                      \n",
       "                      Your name is John.\n",
       "                      Your value for the commodity is 10.\n",
       "                      You can call out a bid to other traders in the market. \n",
       "                      You would be happy to get the good at your value, but you'd like to get it for less.\n",
       "                      Anything price you pay less than your value is pure profit.\n",
       "                      What is your bid?\n",
       "                      \n",
       "\n",
       "This question requires a numerical response in the form of an integer or decimal (e.g., -12, 0, 1, 2, 3.45, ...).\n",
       "Respond with just your number on a single line.\n",
       "If your response is equivalent to zero, report '0'\n",
       "\n",
       "\n",
       "After the answer, put a comment explaining your choice on the next line.</td>\n",
       "    </tr>\n",
       "  </tbody>\n",
       "</table>\n",
       "\n",
       "            </div>\n",
       "            "
      ],
      "text/plain": [
       "Dataset([{'answer.buyer': [8.5]}, {'answer.seller': ['Ask for a different price']}, {'scenario.value': [{'John': 10, 'Robin': 9}]}, {'answer.seller_ask': [9.5]}, {'prompt.buyer_user_prompt': [Prompt(text=\"\"\"\n",
       "                      You are a buyer in a market for a commodity.\n",
       "                      \n",
       "                      Your name is John.\n",
       "                      Your value for the commodity is 10.\n",
       "                      You can call out a bid to other traders in the market. \n",
       "                      You would be happy to get the good at your value, but you'd like to get it for less.\n",
       "                      Anything price you pay less than your value is pure profit.\n",
       "                      What is your bid?\n",
       "                      \n",
       "\n",
       "This question requires a numerical response in the form of an integer or decimal (e.g., -12, 0, 1, 2, 3.45, ...).\n",
       "Respond with just your number on a single line.\n",
       "If your response is equivalent to zero, report '0'\n",
       "\n",
       "\n",
       "After the answer, put a comment explaining your choice on the next line.\"\"\")]}])"
      ]
     },
     "execution_count": 2,
     "metadata": {},
     "output_type": "execute_result"
    }
   ],
   "source": [
    "results.select('buyer', 'seller', 'scenario.value', 'seller_ask', 'prompt.buyer_user_prompt')"
   ]
  },
  {
   "cell_type": "code",
   "execution_count": 9,
   "id": "39d9dcb0-3fb0-45d5-a84f-bb72647e3f35",
   "metadata": {},
   "outputs": [
    {
     "data": {
      "text/plain": [
       "{'value': {'John': 10, 'Robin': 5},\n",
       " 'edsl_version': '0.1.47.dev1',\n",
       " 'edsl_class_name': 'Scenario'}"
      ]
     },
     "execution_count": 9,
     "metadata": {},
     "output_type": "execute_result"
    }
   ],
   "source": [
    "s.to_dict()"
   ]
  },
  {
   "cell_type": "code",
   "execution_count": 10,
   "id": "0c508686-9df9-431b-8904-ef0a21b20697",
   "metadata": {},
   "outputs": [],
   "source": [
    "from edsl import QuestionFreeText\n",
    "q = QuestionFreeText(\n",
    "    question_name = \"avg\", \n",
    "    question_text = \"\"\"\n",
    "{% set numbers = [1,2,3,4,5, 150] %}\n",
    "{% macro average(nums) %}\n",
    "  {# Check if the list is not empty to avoid division by zero #}\n",
    "  {% if nums|length > 0 %}\n",
    "    {# Use the sum filter directly on the list #}\n",
    "    {{ (nums|sum / nums|length)|float }}\n",
    "  {% else %}\n",
    "    {# Return 0 or some indication that the list was empty #}\n",
    "    {{ 0 }}\n",
    "  {% endif %}\n",
    "{% endmacro %}\n",
    "Is your favorite number less than {{ average(numbers) }}?\n",
    "    \"\"\")\n",
    "r = q.run(disable_remote_inference = True)"
   ]
  },
  {
   "cell_type": "code",
   "execution_count": 11,
   "id": "708507b4-d469-474a-958b-44db9acf154e",
   "metadata": {},
   "outputs": [
    {
     "data": {
      "text/html": [
       "\n",
       "            <div style=\"max-height: 500px; overflow-y: auto;\">\n",
       "                <style type=\"text/css\">\n",
       "#T_872da_row0_col0 {\n",
       "  text-align: left;\n",
       "}\n",
       "#T_872da_row0_col1 {\n",
       "  text-align: left;\n",
       "  background-color: #000000;\n",
       "  color: #f1f1f1;\n",
       "}\n",
       "</style>\n",
       "<table id=\"T_872da\">\n",
       "  <thead>\n",
       "    <tr>\n",
       "      <th class=\"blank level0\" >&nbsp;</th>\n",
       "      <th id=\"T_872da_level0_col0\" class=\"col_heading level0 col0\" >prompt.avg_user_prompt</th>\n",
       "      <th id=\"T_872da_level0_col1\" class=\"col_heading level0 col1\" >prompt.avg_system_prompt</th>\n",
       "    </tr>\n",
       "  </thead>\n",
       "  <tbody>\n",
       "    <tr>\n",
       "      <th id=\"T_872da_level0_row0\" class=\"row_heading level0 row0\" >0</th>\n",
       "      <td id=\"T_872da_row0_col0\" class=\"data row0 col0\" >\n",
       "\n",
       "\n",
       "Is your favorite number less than \n",
       "  \n",
       "  \n",
       "    \n",
       "    27.5\n",
       "  \n",
       "?\n",
       "    </td>\n",
       "      <td id=\"T_872da_row0_col1\" class=\"data row0 col1\" >nan</td>\n",
       "    </tr>\n",
       "  </tbody>\n",
       "</table>\n",
       "\n",
       "            </div>\n",
       "            "
      ],
      "text/plain": [
       "Dataset([{'prompt.avg_user_prompt': [Prompt(text=\"\"\"\n",
       "\n",
       "\n",
       "Is your favorite number less than \n",
       "  \n",
       "  \n",
       "    \n",
       "    27.5\n",
       "  \n",
       "?\n",
       "    \"\"\")]}, {'prompt.avg_system_prompt': [Prompt(text=\"\"\"\"\"\")]}])"
      ]
     },
     "execution_count": 11,
     "metadata": {},
     "output_type": "execute_result"
    }
   ],
   "source": [
    "r.select('prompt.*')"
   ]
  },
  {
   "cell_type": "code",
   "execution_count": null,
   "id": "1e05e8d5-7008-4caa-b1e9-ff33e7c276b5",
   "metadata": {},
   "outputs": [],
   "source": []
  }
 ],
 "metadata": {
  "kernelspec": {
   "display_name": "Python 3 (ipykernel)",
   "language": "python",
   "name": "python3"
  },
  "language_info": {
   "codemirror_mode": {
    "name": "ipython",
    "version": 3
   },
   "file_extension": ".py",
   "mimetype": "text/x-python",
   "name": "python",
   "nbconvert_exporter": "python",
   "pygments_lexer": "ipython3",
   "version": "3.11.0"
  }
 },
 "nbformat": 4,
 "nbformat_minor": 5
}
