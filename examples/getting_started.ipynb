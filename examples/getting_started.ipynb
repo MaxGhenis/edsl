{
 "cells": [
  {
   "cell_type": "code",
   "execution_count": 1,
   "metadata": {},
   "outputs": [],
   "source": [
    "import os\n",
    "os.environ.pop(\"OPENAI_API_KEY\", None)\n",
    "os.environ.pop(\"GOOGLE_API_KEY\", None)\n",
    "os.environ.pop(\"DEEP_INFRA_API_KEY\", None)"
   ]
  },
  {
   "cell_type": "code",
   "execution_count": 2,
   "metadata": {},
   "outputs": [
    {
     "name": "stdout",
     "output_type": "stream",
     "text": [
      "Please provide your OpenAI API key (https://platform.openai.com/api-keys).\n",
      "There are three ways you can do this:\n",
      "1. Set it as a regular environment variable\n",
      "2. Create a .env file and add `OPENAI_API_KEY=...` to it\n",
      "3. Enter the value below and press enter: \n",
      "Environment variable OPENAI_API_KEY set successfully to a.\n",
      "Please provide your Google API key (https://console.cloud.google.com/apis/credentials).\n",
      "There are three ways you can do this:\n",
      "1. Set it as a regular environment variable\n",
      "2. Create a .env file and add `GOOGLE_API_KEY=...` to it\n",
      "3. Enter the value below and press enter: \n",
      "Environment variable GOOGLE_API_KEY set successfully to a.\n",
      "Please provide your DeepInfra API key (https://deepinfra.com/).\n",
      "There are three ways you can do this:\n",
      "1. Set it as a regular environment variable\n",
      "2. Create a .env file and add `DEEP_INFRA_API_KEY=...` to it\n",
      "3. Enter the value below and press enter: \n",
      "Environment variable DEEP_INFRA_API_KEY set successfully to a.\n",
      "Here are the current configuration settings:\n",
      "EDSL_RUN_MODE        : production\n",
      "EDSL_DATABASE_PATH   : sqlite:////Users/apostolosfilippas/edsl/edsl/data/database.db\n",
      "EMERITUS_API_KEY     : local\n",
      "API_CALL_TIMEOUT_SEC : 60\n",
      "OPENAI_API_KEY       : a\n",
      "GOOGLE_API_KEY       : a\n",
      "DEEP_INFRA_API_KEY   : a\n"
     ]
    }
   ],
   "source": [
    "from edsl import CONFIG"
   ]
  },
  {
   "cell_type": "code",
   "execution_count": null,
   "metadata": {},
   "outputs": [],
   "source": [
    "from edsl.questions import QuestionMultipleChoice\n",
    "q = QuestionMultipleChoice.example()\n",
    "results = q.run()\n",
    "results"
   ]
  },
  {
   "cell_type": "code",
   "execution_count": null,
   "metadata": {},
   "outputs": [],
   "source": []
  }
 ],
 "metadata": {
  "kernelspec": {
   "display_name": ".venv",
   "language": "python",
   "name": "python3"
  },
  "language_info": {
   "codemirror_mode": {
    "name": "ipython",
    "version": 3
   },
   "file_extension": ".py",
   "mimetype": "text/x-python",
   "name": "python",
   "nbconvert_exporter": "python",
   "pygments_lexer": "ipython3",
   "version": "3.10.13"
  }
 },
 "nbformat": 4,
 "nbformat_minor": 2
}
