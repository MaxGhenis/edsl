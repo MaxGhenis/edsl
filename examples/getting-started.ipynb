{
 "cells": [
  {
   "cell_type": "markdown",
   "metadata": {},
   "source": [
    "\n",
    "#  📦 Installing EDSL\n",
    "\n",
    "### 1. In a venv through pip\n",
    "Install the package and its requirements through pip (preferrably in a venv)\n",
    "```bash\n",
    "python3 -m venv venv\n",
    "source venv/bin/activate\n",
    "pip install edsl\n",
    "```\n",
    "\n",
    "### 2. In a venv through GitHub\n",
    "You can install the latest version of the package through GitHub\n",
    "```bash\n",
    "git clone https://github.com/goemeritus/edsl\n",
    "cd edsl\n",
    "python3 -m venv venv\n",
    "source venv/bin/activate\n",
    "pip install -e .\n",
    "```\n",
    "\n",
    "### 3. Globally through pip\n",
    "You can install the package globally through pip. We recommend using a venv (see A. and B. above) to avoid conflicts with other packages.\n",
    "```bash\n",
    "pip install edsl\n",
    "```"
   ]
  },
  {
   "cell_type": "markdown",
   "metadata": {},
   "source": [
    "---\n",
    "# 🔑 Adding your API Keys\n",
    "\n",
    "Before we start, note that *you do not* have to provide all three keys. However, we recommend that you add your OPENAI key. This is the LLM that the package will use by default -- unless you specify otherwise.\n",
    "\n",
    "There are three ways to provide your API keys to EDSL:\n",
    "\n",
    "### 1. Setting the environment variables directly\n",
    "In your script, start with the following lines before importing EDSL:\n",
    "```python\n",
    "import os\n",
    "os.environ[\"OPEN_AI_API_KEY\"] = \"your-key-here\"\n",
    "os.environ[\"GOOGLE_API_KEY\"] = \"your-key-here\"\n",
    "os.environ[\"DEEP_INFRA_API_KEY\"] = \"your-key-here\" \n",
    "```\n",
    "Note that when using this method, you will have to provide your API keys every time you run your script.\n",
    "\n",
    "### 2. Using a .env file\n",
    "In your current working directory, create a file called `.env` and add the following lines:\n",
    "```bash\n",
    "OPEN_AI_API_KEY=your-key-here\n",
    "GOOGLE_API_KEY=your-key-here\n",
    "DEEP_INFRA_API_KEY=your-key-here\n",
    "```\n",
    "Using this method will allow you to run your script without having to provide your API keys every time. However, be careful to not accidentally share your `.env` file.\n",
    "\n",
    "\n",
    "### 3. Provide your keys to EDSL directly\n",
    "Upon importing any of the EDSL modules, you will be asked to provide your API keys. You will be asked for all three keys, but you can skip any of them by pressing enter.\n",
    "\n",
    "Note that when using this method, you will have to provide your API keys every time you run your script.\n"
   ]
  },
  {
   "cell_type": "markdown",
   "metadata": {},
   "source": [
    "---\n",
    "# 🐣 A simple example\n",
    "\n",
    "Here is the simplest way to run an LLM survey!"
   ]
  },
  {
   "cell_type": "code",
   "execution_count": null,
   "metadata": {},
   "outputs": [
    {
     "data": {
      "text/plain": [
       "QuestionMultipleChoice(question_text = 'How are you?', question_options = ['Good', 'Great', 'OK', 'Bad'], question_name = 'how_feeling', short_names_dict = {'Good': 'g', 'Great': 'gr', 'OK': 'ok', 'Bad': 'b'})"
      ]
     },
     "execution_count": null,
     "metadata": {},
     "output_type": "execute_result"
    }
   ],
   "source": [
    "from edsl import QuestionMultipleChoice\n",
    "\n",
    "# this will create an example question\n",
    "q = QuestionMultipleChoice.example()\n",
    "\n",
    "q"
   ]
  },
  {
   "cell_type": "code",
   "execution_count": null,
   "metadata": {},
   "outputs": [
    {
     "data": {
      "text/html": [
       "<pre style=\"white-space:pre;overflow-x:auto;line-height:normal;font-family:Menlo,'DejaVu Sans Mono',consolas,'Courier New',monospace\">Result <span style=\"color: #008080; text-decoration-color: #008080; font-weight: bold\">0</span>\n",
       "</pre>\n"
      ],
      "text/plain": [
       "Result \u001b[1;36m0\u001b[0m\n"
      ]
     },
     "metadata": {},
     "output_type": "display_data"
    },
    {
     "data": {
      "text/html": [
       "<pre style=\"white-space:pre;overflow-x:auto;line-height:normal;font-family:Menlo,'DejaVu Sans Mono',consolas,'Courier New',monospace\"><span style=\"font-style: italic\">                                                      Result                                                       </span>\n",
       "┏━━━━━━━━━━━┳━━━━━━━━━━━━━━━━━━━━━━━━━━━━━━━━━━━━━━━━━━━━━━━━━━━━━━━━━━━━━━━━━━━━━━━━━━━━━━━━━━━━━━━━━━━━━━━━━━━━━┓\n",
       "┃<span style=\"font-weight: bold\"> Attribute </span>┃<span style=\"font-weight: bold\"> Value                                                                                               </span>┃\n",
       "┡━━━━━━━━━━━╇━━━━━━━━━━━━━━━━━━━━━━━━━━━━━━━━━━━━━━━━━━━━━━━━━━━━━━━━━━━━━━━━━━━━━━━━━━━━━━━━━━━━━━━━━━━━━━━━━━━━━┩\n",
       "│<span style=\"font-weight: bold\"> agent     </span>│ Agent(traits = {})                                                                                  │\n",
       "│<span style=\"font-weight: bold\"> scenario  </span>│ {}                                                                                                  │\n",
       "│<span style=\"font-weight: bold\"> model     </span>│ LanguageModelOpenAIThreeFiveTurbo(model = 'gpt-3.5-turbo', parameters={'temperature': 0.5,          │\n",
       "│<span style=\"font-weight: bold\">           </span>│ 'max_tokens': 1000, 'top_p': 1, 'frequency_penalty': 0, 'presence_penalty': 0, 'use_cache': True})  │\n",
       "│<span style=\"font-weight: bold\"> iteration </span>│ 0                                                                                                   │\n",
       "│<span style=\"font-weight: bold\"> answer    </span>│ {'how_feeling': 'Great', 'how_feeling_comment': \"I'm feeling great today!\"}                         │\n",
       "│<span style=\"font-weight: bold\"> prompt    </span>│ {'how_feeling_user_prompt': {'text': 'You are being asked the following question: How are you?\\nThe │\n",
       "│<span style=\"font-weight: bold\">           </span>│ options are\\n\\n0: Good\\n\\n1: Great\\n\\n2: OK\\n\\n3: Bad\\n\\nReturn a valid JSON formatted like this,   │\n",
       "│<span style=\"font-weight: bold\">           </span>│ selecting only the number of the option:\\n{\"answer\": &lt;put answer code here&gt;, \"comment\": \"&lt;put       │\n",
       "│<span style=\"font-weight: bold\">           </span>│ explanation here&gt;\"}\\nOnly 1 option may be selected.', 'class_name': 'MultipleChoiceTurbo'},         │\n",
       "│<span style=\"font-weight: bold\">           </span>│ 'how_feeling_system_prompt': {'text': 'You are answering questions as if you were a human. Do not   │\n",
       "│<span style=\"font-weight: bold\">           </span>│ break character. You are an agent with the following persona:\\n{}', 'class_name':                   │\n",
       "│<span style=\"font-weight: bold\">           </span>│ 'AgentInstruction'}}                                                                                │\n",
       "└───────────┴─────────────────────────────────────────────────────────────────────────────────────────────────────┘\n",
       "</pre>\n"
      ],
      "text/plain": [
       "\u001b[3m                                                      Result                                                       \u001b[0m\n",
       "┏━━━━━━━━━━━┳━━━━━━━━━━━━━━━━━━━━━━━━━━━━━━━━━━━━━━━━━━━━━━━━━━━━━━━━━━━━━━━━━━━━━━━━━━━━━━━━━━━━━━━━━━━━━━━━━━━━━┓\n",
       "┃\u001b[1m \u001b[0m\u001b[1mAttribute\u001b[0m\u001b[1m \u001b[0m┃\u001b[1m \u001b[0m\u001b[1mValue                                                                                              \u001b[0m\u001b[1m \u001b[0m┃\n",
       "┡━━━━━━━━━━━╇━━━━━━━━━━━━━━━━━━━━━━━━━━━━━━━━━━━━━━━━━━━━━━━━━━━━━━━━━━━━━━━━━━━━━━━━━━━━━━━━━━━━━━━━━━━━━━━━━━━━━┩\n",
       "│\u001b[1m \u001b[0m\u001b[1magent    \u001b[0m\u001b[1m \u001b[0m│ Agent(traits = {})                                                                                  │\n",
       "│\u001b[1m \u001b[0m\u001b[1mscenario \u001b[0m\u001b[1m \u001b[0m│ {}                                                                                                  │\n",
       "│\u001b[1m \u001b[0m\u001b[1mmodel    \u001b[0m\u001b[1m \u001b[0m│ LanguageModelOpenAIThreeFiveTurbo(model = 'gpt-3.5-turbo', parameters={'temperature': 0.5,          │\n",
       "│\u001b[1m           \u001b[0m│ 'max_tokens': 1000, 'top_p': 1, 'frequency_penalty': 0, 'presence_penalty': 0, 'use_cache': True})  │\n",
       "│\u001b[1m \u001b[0m\u001b[1miteration\u001b[0m\u001b[1m \u001b[0m│ 0                                                                                                   │\n",
       "│\u001b[1m \u001b[0m\u001b[1manswer   \u001b[0m\u001b[1m \u001b[0m│ {'how_feeling': 'Great', 'how_feeling_comment': \"I'm feeling great today!\"}                         │\n",
       "│\u001b[1m \u001b[0m\u001b[1mprompt   \u001b[0m\u001b[1m \u001b[0m│ {'how_feeling_user_prompt': {'text': 'You are being asked the following question: How are you?\\nThe │\n",
       "│\u001b[1m           \u001b[0m│ options are\\n\\n0: Good\\n\\n1: Great\\n\\n2: OK\\n\\n3: Bad\\n\\nReturn a valid JSON formatted like this,   │\n",
       "│\u001b[1m           \u001b[0m│ selecting only the number of the option:\\n{\"answer\": <put answer code here>, \"comment\": \"<put       │\n",
       "│\u001b[1m           \u001b[0m│ explanation here>\"}\\nOnly 1 option may be selected.', 'class_name': 'MultipleChoiceTurbo'},         │\n",
       "│\u001b[1m           \u001b[0m│ 'how_feeling_system_prompt': {'text': 'You are answering questions as if you were a human. Do not   │\n",
       "│\u001b[1m           \u001b[0m│ break character. You are an agent with the following persona:\\n{}', 'class_name':                   │\n",
       "│\u001b[1m           \u001b[0m│ 'AgentInstruction'}}                                                                                │\n",
       "└───────────┴─────────────────────────────────────────────────────────────────────────────────────────────────────┘\n"
      ]
     },
     "metadata": {},
     "output_type": "display_data"
    },
    {
     "data": {
      "text/plain": [
       "Result 0\n",
       "                                                      Result                                                       \n",
       "┏━━━━━━━━━━━┳━━━━━━━━━━━━━━━━━━━━━━━━━━━━━━━━━━━━━━━━━━━━━━━━━━━━━━━━━━━━━━━━━━━━━━━━━━━━━━━━━━━━━━━━━━━━━━━━━━━━━┓\n",
       "┃ Attribute ┃ Value                                                                                               ┃\n",
       "┡━━━━━━━━━━━╇━━━━━━━━━━━━━━━━━━━━━━━━━━━━━━━━━━━━━━━━━━━━━━━━━━━━━━━━━━━━━━━━━━━━━━━━━━━━━━━━━━━━━━━━━━━━━━━━━━━━━┩\n",
       "│ agent     │ Agent(traits = {})                                                                                  │\n",
       "│ scenario  │ {}                                                                                                  │\n",
       "│ model     │ LanguageModelOpenAIThreeFiveTurbo(model = 'gpt-3.5-turbo', parameters={'temperature': 0.5,          │\n",
       "│           │ 'max_tokens': 1000, 'top_p': 1, 'frequency_penalty': 0, 'presence_penalty': 0, 'use_cache': True})  │\n",
       "│ iteration │ 0                                                                                                   │\n",
       "│ answer    │ {'how_feeling': 'Great', 'how_feeling_comment': \"I'm feeling great today!\"}                         │\n",
       "│ prompt    │ {'how_feeling_user_prompt': {'text': 'You are being asked the following question: How are you?\\nThe │\n",
       "│           │ options are\\n\\n0: Good\\n\\n1: Great\\n\\n2: OK\\n\\n3: Bad\\n\\nReturn a valid JSON formatted like this,   │\n",
       "│           │ selecting only the number of the option:\\n{\"answer\": <put answer code here>, \"comment\": \"<put       │\n",
       "│           │ explanation here>\"}\\nOnly 1 option may be selected.', 'class_name': 'MultipleChoiceTurbo'},         │\n",
       "│           │ 'how_feeling_system_prompt': {'text': 'You are answering questions as if you were a human. Do not   │\n",
       "│           │ break character. You are an agent with the following persona:\\n{}', 'class_name':                   │\n",
       "│           │ 'AgentInstruction'}}                                                                                │\n",
       "└───────────┴─────────────────────────────────────────────────────────────────────────────────────────────────────┘"
      ]
     },
     "execution_count": null,
     "metadata": {},
     "output_type": "execute_result"
    }
   ],
   "source": [
    "# this will answer the question using OpenAI's LLM\n",
    "result = q.run()\n",
    "\n",
    "result\n"
   ]
  },
  {
   "cell_type": "markdown",
   "metadata": {},
   "source": [
    "---\n",
    "# 🚀 Making your own survey\n",
    "\n",
    "To be added"
   ]
  }
 ],
 "metadata": {
  "kernelspec": {
   "display_name": ".venv",
   "language": "python",
   "name": "python3"
  },
  "language_info": {
   "codemirror_mode": {
    "name": "ipython",
    "version": 3
   },
   "file_extension": ".py",
   "mimetype": "text/x-python",
   "name": "python",
   "nbconvert_exporter": "python",
   "pygments_lexer": "ipython3"
  }
 },
 "nbformat": 4,
 "nbformat_minor": 2
}
