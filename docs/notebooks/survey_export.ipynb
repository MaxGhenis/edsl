{
 "cells": [
  {
   "cell_type": "markdown",
   "id": "73c75df2-8def-415f-802b-ae75f5af8071",
   "metadata": {},
   "source": [
    "# Exporting an EDSL survey to other platforms\n",
    "This notebook shows how to create a survey in [EDSL](https://docs.expectedparrot.com/) and export it to other survey platforms such as LimeSurvey and Google Forms. This can be useful for combining survey responses from AI agents and humans."
   ]
  },
  {
   "cell_type": "markdown",
   "id": "0d302bd9-326b-4a55-a223-7b6e0d0d47a7",
   "metadata": {},
   "source": [
    "### 1. Create questions\n",
    "EDSL comes with a variety of `Question` types. See examples of all question types [here](https://docs.expectedparrot.com/en/latest/questions.html).\n",
    "We start by importing the ones that we want to use and creating questions in the relevant templates:"
   ]
  },
  {
   "cell_type": "code",
   "execution_count": 1,
   "id": "126fe4cc-b324-4301-9946-77d3f9810802",
   "metadata": {},
   "outputs": [],
   "source": [
    "from edsl.questions import QuestionFreeText, QuestionMultipleChoice, QuestionYesNo, QuestionLinearScale\n",
    "\n",
    "q_firstname = QuestionFreeText(\n",
    "    question_name = \"first_name\",\n",
    "    question_text = \"What is your first name?\"\n",
    ")\n",
    "\n",
    "q_lastname = QuestionFreeText(\n",
    "    question_name = \"last_name\",\n",
    "    question_text = \"What is your last name?\"\n",
    ")\n",
    "\n",
    "q_email = QuestionFreeText(\n",
    "    question_name = \"email\",\n",
    "    question_text = \"What is your email address?\"\n",
    ")\n",
    "\n",
    "q_announcements = QuestionYesNo(\n",
    "    question_name = \"announcements\",\n",
    "    question_text = \"May we add you to our email announcements list?\"\n",
    ")\n",
    "\n",
    "q_hosted_inference = QuestionYesNo(\n",
    "    question_name = \"hosted_inference\",\n",
    "    question_text = \"Are you interested in alpha testing hosted inference?\"\n",
    ")\n",
    "\n",
    "q_use = QuestionFreeText(\n",
    "    question_name = \"use_case\",\n",
    "    question_text = \"What do you plan to use EDSL for?\"\n",
    ")\n",
    "\n",
    "q_started = QuestionYesNo(\n",
    "    question_name = \"started\",\n",
    "    question_text = \"Have you already started using EDSL?\"\n",
    ")\n",
    "\n",
    "q_install = QuestionMultipleChoice(\n",
    "    question_name = \"install\",\n",
    "    question_text = \"How was your experience installing the EDSL package?\",\n",
    "    question_options = [\"Very easy\", \"Somewhat easy\", \"Somewhat difficult\", \"Very difficult\", \"No basis for comment\"]\n",
    ")\n",
    "\n",
    "q_docs = QuestionMultipleChoice(\n",
    "    question_name = \"docs\",\n",
    "    question_text = \"How useful is the documentation?\",\n",
    "    question_options = [\"Very useful\", \"Somewhat useful\", \"Not useful\", \"No basis for comment\"]\n",
    ")\n",
    "\n",
    "q_examples = QuestionMultipleChoice(\n",
    "    question_name = \"examples\",\n",
    "    question_text = \"How useful are the tutorials and examples?\",\n",
    "    question_options = [\"Very useful\", \"Somewhat useful\", \"Not useful\", \"No basis for comment\"]\n",
    ")\n",
    "\n",
    "q_recommend = QuestionLinearScale(\n",
    "    question_name = \"recommend\",\n",
    "    question_text = \"On a scale from 0 to 10, how likely are you to recommend EDSL to others? (0 = Very unlikely, 10 = Very likely)\",\n",
    "    question_options = [0,1,2,3,4,5,6,7,8,9,10]\n",
    ")"
   ]
  },
  {
   "cell_type": "markdown",
   "id": "818b37bc-d9c3-4c0e-9772-f4d567f79b66",
   "metadata": {},
   "source": [
    "### 2. Construct a survey\n",
    "Next we add our questions to a `Survey`. Ours is straightforward, but see examples of ways to add conditional logic such as skip/stop rules to your survey [here](https://docs.expectedparrot.com/en/latest/surveys.html)."
   ]
  },
  {
   "cell_type": "code",
   "execution_count": 2,
   "id": "a1a0338d-0875-4362-b7fd-54422c73a9ed",
   "metadata": {},
   "outputs": [],
   "source": [
    "from edsl import Survey\n",
    "\n",
    "survey = Survey(questions = [\n",
    "    q_firstname, \n",
    "    q_lastname, \n",
    "    q_email, \n",
    "    q_announcements, \n",
    "    q_hosted_inference, \n",
    "    q_use, \n",
    "    q_started, \n",
    "    q_install, \n",
    "    q_docs, \n",
    "    q_examples, \n",
    "    q_recommend])"
   ]
  },
  {
   "cell_type": "markdown",
   "id": "dfee6154-4ff7-458f-beb7-e8f2d84b39f4",
   "metadata": {},
   "source": [
    "### 3. Export the survey\n",
    "Finally, we can export our survey to another survey platform by calling the `web` method and specifying the destination platform. Here we show how to export our survey to LimeSurvey and Google Forms.\n",
    "\n",
    "<b><i>Note: This method is launching soon! Please complete the survey and join our Discord for updates and announcements.</i></b>"
   ]
  },
  {
   "cell_type": "markdown",
   "id": "131fe88e-0ad9-4b35-b3bf-aacd0a55ec51",
   "metadata": {},
   "source": [
    "Export the survey to LimeSurvey:"
   ]
  },
  {
   "cell_type": "code",
   "execution_count": 3,
   "id": "fdc13881-7dbc-4d8f-a3d2-6456c15eab38",
   "metadata": {},
   "outputs": [],
   "source": [
    "ls_survey = survey.web(platform=\"lime_survey\")"
   ]
  },
  {
   "cell_type": "markdown",
   "id": "b07d5df5-db6c-41c2-9104-f39a025d957f",
   "metadata": {},
   "source": [
    "Show the new URL for the survey:"
   ]
  },
  {
   "cell_type": "code",
   "execution_count": 4,
   "id": "b2910126-2820-4a2b-8779-48e1beba9f58",
   "metadata": {},
   "outputs": [
    {
     "data": {
      "text/plain": [
       "'https://survey.expectedparrot.com/index.php/791757'"
      ]
     },
     "execution_count": 4,
     "metadata": {},
     "output_type": "execute_result"
    }
   ],
   "source": [
    "ls_survey.json()['data']['url']"
   ]
  },
  {
   "cell_type": "markdown",
   "id": "32a4a81a-40f2-4b76-8e7b-8cf492fcc22f",
   "metadata": {},
   "source": [
    "We can do the same for Google Forms and other platforms:"
   ]
  },
  {
   "cell_type": "code",
   "execution_count": 5,
   "id": "33284883-3b0f-4da1-917f-06ab39fca5df",
   "metadata": {},
   "outputs": [],
   "source": [
    "# gf_survey = survey.web(platform=\"google_forms\")\n",
    "# gf_survey.json()['data']['url']"
   ]
  },
  {
   "cell_type": "markdown",
   "id": "6f786881-b9e0-42a7-b229-253e67500475",
   "metadata": {},
   "source": [
    "Thanks for reading! Please let us know if you have any questions or feedback, and check out our docs for details on [getting started using EDSL](https://docs.expectedparrot.com/en/latest/starter_tutorial.html)."
   ]
  }
 ],
 "metadata": {
  "kernelspec": {
   "display_name": "Python 3 (ipykernel)",
   "language": "python",
   "name": "python3"
  },
  "language_info": {
   "codemirror_mode": {
    "name": "ipython",
    "version": 3
   },
   "file_extension": ".py",
   "mimetype": "text/x-python",
   "name": "python",
   "nbconvert_exporter": "python",
   "pygments_lexer": "ipython3",
   "version": "3.11.7"
  }
 },
 "nbformat": 4,
 "nbformat_minor": 5
}
