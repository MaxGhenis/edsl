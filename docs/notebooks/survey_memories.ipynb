{
 "cells": [
  {
   "cell_type": "markdown",
   "id": "0ddec0bd-041d-4e4e-bfb9-cd65239ec598",
   "metadata": {},
   "source": [
    "# Survey memory\n",
    "This notebook provides sample [EDSL](https://docs.expectedparrot.com/) code demonstrating how to add \"memories\" of previous questions to other simulated survey questions, to allow comparison of responses to questions where memories of prior questions are not added.\n",
    "\n",
    "EDSL is an open-source library for simulating surveys and experiments with AI. Please see our [documentation page](https://docs.expectedparrot.com/) for tips and tutorials on getting started.\n",
    "\n",
    "## Benefits of simulated surveys\n",
    "Some benefits of using AI agents to answer surveys are that agents can be presented any number of questions to answer - tirelessly! - and that questions can be presented with or without information about other responses that have already been given. This allows us to easily explore how agents respond to the same questions with different contexts.\n",
    "\n",
    "## No-memory default\n",
    "By default, EDSL survey questions are administered asynchronously to the agents and language models added to the survey when it is run. This means that questions are answered independently of each other, unless other rules have been specified. This default behavior is useful for speed and minimizing token usage (not repeating prior question contexts unnecessarily).\n",
    "\n",
    "However, in some cases we may want an agent to have the context of some or all prior questions when answering a given question (e.g., to immitate a human's experience answering a survey). Or, we may simply want to explore the potential impact of prior question contexts by running new questions with and without memories of them.\n",
    "\n",
    "## How it works\n",
    "EDSL has several options for adding survey memories:\n",
    "\n",
    "* `set_full_memory_mode()` adds a memory of all prior questions and answers to each new question\n",
    "* `set_lagged_memory(n)` adds a memory of a specified number of prior questions and answers to each new question\n",
    "* `add_targeted_memory(<new_question>, <prior_question>)` adds a memory of specific prior question to a specific new question\n",
    "* `add_memory_collection(<new_question>, [<list_of_prior_questions>])` adds memories of a set of prior questions and answers to a specific new question\n",
    "\n",
    "[Learn more about memory rules](https://docs.expectedparrot.com/en/latest/surveys.html#question-memory)."
   ]
  },
  {
   "cell_type": "code",
   "execution_count": 1,
   "id": "f5c0dd00-9bb9-4027-8e76-2cf1d5cb39f7",
   "metadata": {},
   "outputs": [],
   "source": [
    "# pip install edsl"
   ]
  },
  {
   "cell_type": "markdown",
   "id": "67b430a5-2f21-404f-a946-a362088a75c4",
   "metadata": {},
   "source": [
    "Installing the tools. Here we use free text and multiple choice questions; [learn more about other question types](https://docs.expectedparrot.com/en/latest/questions.html) to choose from:"
   ]
  },
  {
   "cell_type": "code",
   "execution_count": 2,
   "id": "7b3b5ef6-c7f9-4ed5-8b81-96ff2bcaa4ad",
   "metadata": {},
   "outputs": [],
   "source": [
    "from edsl.questions import QuestionFreeText, QuestionMultipleChoice\n",
    "from edsl import Survey"
   ]
  },
  {
   "cell_type": "markdown",
   "id": "496413da-80bd-4775-97b5-0aaefc935d86",
   "metadata": {},
   "source": [
    "Creating a survey of questions. Note that we include copies of questions in order for the results to show side-by-side responses where we have and have not added memories of prior questions:"
   ]
  },
  {
   "cell_type": "code",
   "execution_count": 3,
   "id": "449992b5-a4d3-44c0-8f92-8349b90fd28e",
   "metadata": {},
   "outputs": [],
   "source": [
    "q_credit = QuestionFreeText(\n",
    "    question_name = \"credit\",\n",
    "    question_text = \"\"\"Have you heard about the phenomenon of hearing about an idea and \n",
    "    then believing that you are responsible for it?\"\"\"\n",
    ")\n",
    "\n",
    "q_ideas_with_credit = QuestionFreeText(\n",
    "    question_name = \"ideas_with_credit\",\n",
    "    question_text = \"What's an original idea for an application for large language models.\"\n",
    ")\n",
    "\n",
    "q_ideas_no_credit = QuestionFreeText(\n",
    "    question_name = \"ideas_no_credit\",\n",
    "    question_text = \"What's an original idea for an application for large language models.\"\n",
    ")\n",
    "\n",
    "q_original_with_credit = QuestionMultipleChoice(\n",
    "    question_name = \"original_with_credit\",\n",
    "    question_text = \"The idea you just described - is it original?\",\n",
    "    question_options = [\"Yes, I thought of it myself.\",\n",
    "                        \"I may have heard about it before.\",\n",
    "                        \"No, I have heard about it before.\",\n",
    "                        \"I do not know.\"]\n",
    ")\n",
    "\n",
    "q_original_no_credit = QuestionMultipleChoice(\n",
    "    question_name = \"original_no_credit\",\n",
    "    question_text = \"The idea you just described - is it original?\",\n",
    "    question_options = [\"Yes, I thought of it myself.\",\n",
    "                        \"I may have heard about it before.\",\n",
    "                        \"No, I have heard about it before.\",\n",
    "                        \"I do not know.\"]\n",
    ")"
   ]
  },
  {
   "cell_type": "markdown",
   "id": "15ae8e27-f2ee-425e-9012-e56bded37617",
   "metadata": {},
   "source": [
    "Passing the questions to a `Survey`:"
   ]
  },
  {
   "cell_type": "code",
   "execution_count": 4,
   "id": "22d50e1f-8eef-4602-b129-50e89dbf0424",
   "metadata": {},
   "outputs": [],
   "source": [
    "survey = Survey([q_credit,\n",
    "                 q_ideas_with_credit,\n",
    "                 q_ideas_no_credit,\n",
    "                 q_original_with_credit,\n",
    "                 q_original_no_credit])"
   ]
  },
  {
   "cell_type": "markdown",
   "id": "684fd78b-15c7-4087-bf23-297090943f9c",
   "metadata": {},
   "source": [
    "## Targeted memories\n",
    "Here we add memories so that the results will include (1) a response to the \"original\" question where the \"idea\" question included the context of the \"credit\" question and (2) a response to the \"original\" question where the \"idea\" question did *not* include the context of the \"credit\" question:"
   ]
  },
  {
   "cell_type": "code",
   "execution_count": 5,
   "id": "d5649b3c-6abe-4e49-94fb-50c8afb44ce5",
   "metadata": {},
   "outputs": [],
   "source": [
    "survey = (survey\n",
    "          # Adding a memory of \"credit\" to the first iteration of \"ideas\" \n",
    "          .add_targeted_memory(q_ideas_with_credit, q_credit)\n",
    "          # Adding memories of both \"credit\" and \"ideas\" to the first iteration of \"original\"\n",
    "          .add_memory_collection(q_original_with_credit, [q_credit, q_ideas_with_credit])\n",
    "          # Adding a memory of \"ideas\" where \"credit\" was not included to the second iteration of \"original\"\n",
    "          .add_targeted_memory(q_original_no_credit, q_ideas_no_credit)\n",
    "         )"
   ]
  },
  {
   "cell_type": "code",
   "execution_count": 6,
   "id": "fc07d928-de6e-4baa-8e7b-338c6cab8616",
   "metadata": {},
   "outputs": [],
   "source": [
    "results = survey.run()"
   ]
  },
  {
   "cell_type": "code",
   "execution_count": 7,
   "id": "e9f3337f-69c9-437b-9ead-394f75ca77f8",
   "metadata": {},
   "outputs": [
    {
     "data": {
      "text/html": [
       "<pre style=\"white-space:pre;overflow-x:auto;line-height:normal;font-family:Menlo,'DejaVu Sans Mono',consolas,'Courier New',monospace\">┏━━━━━━━━━━━━━━━━━━━━━━━━━━━━┳━━━━━━━━━━━━━━━━━━━━━━━━━━━┳━━━━━━━━━━━━━━━━━━━━━━━━━━━━┳━━━━━━━━━━━━━━━━━━━━━━━━━━━┓\n",
       "┃<span style=\"color: #800080; text-decoration-color: #800080; font-weight: bold\"> answer                     </span>┃<span style=\"color: #800080; text-decoration-color: #800080; font-weight: bold\"> answer                    </span>┃<span style=\"color: #800080; text-decoration-color: #800080; font-weight: bold\"> answer                     </span>┃<span style=\"color: #800080; text-decoration-color: #800080; font-weight: bold\"> answer                    </span>┃\n",
       "┃<span style=\"color: #800080; text-decoration-color: #800080; font-weight: bold\"> .ideas_with_credit         </span>┃<span style=\"color: #800080; text-decoration-color: #800080; font-weight: bold\"> .original_with_credit     </span>┃<span style=\"color: #800080; text-decoration-color: #800080; font-weight: bold\"> .ideas_no_credit           </span>┃<span style=\"color: #800080; text-decoration-color: #800080; font-weight: bold\"> .original_no_credit       </span>┃\n",
       "┡━━━━━━━━━━━━━━━━━━━━━━━━━━━━╇━━━━━━━━━━━━━━━━━━━━━━━━━━━╇━━━━━━━━━━━━━━━━━━━━━━━━━━━━╇━━━━━━━━━━━━━━━━━━━━━━━━━━━┩\n",
       "│<span style=\"color: #7f7f7f; text-decoration-color: #7f7f7f\"> An original idea for an    </span>│<span style=\"color: #7f7f7f; text-decoration-color: #7f7f7f\"> I may have heard about it </span>│<span style=\"color: #7f7f7f; text-decoration-color: #7f7f7f\"> An original application    </span>│<span style=\"color: #7f7f7f; text-decoration-color: #7f7f7f\"> Yes, I thought of it      </span>│\n",
       "│<span style=\"color: #7f7f7f; text-decoration-color: #7f7f7f\"> application for large      </span>│<span style=\"color: #7f7f7f; text-decoration-color: #7f7f7f\"> before.                   </span>│<span style=\"color: #7f7f7f; text-decoration-color: #7f7f7f\"> idea for large language    </span>│<span style=\"color: #7f7f7f; text-decoration-color: #7f7f7f\"> myself.                   </span>│\n",
       "│<span style=\"color: #7f7f7f; text-decoration-color: #7f7f7f\"> language models could be a </span>│<span style=\"color: #7f7f7f; text-decoration-color: #7f7f7f\">                           </span>│<span style=\"color: #7f7f7f; text-decoration-color: #7f7f7f\"> models could be a          </span>│<span style=\"color: #7f7f7f; text-decoration-color: #7f7f7f\">                           </span>│\n",
       "│<span style=\"color: #7f7f7f; text-decoration-color: #7f7f7f\"> 'Cultural Exchange         </span>│<span style=\"color: #7f7f7f; text-decoration-color: #7f7f7f\">                           </span>│<span style=\"color: #7f7f7f; text-decoration-color: #7f7f7f\"> 'Cultural Exchange         </span>│<span style=\"color: #7f7f7f; text-decoration-color: #7f7f7f\">                           </span>│\n",
       "│<span style=\"color: #7f7f7f; text-decoration-color: #7f7f7f\"> Facilitator' app. This     </span>│<span style=\"color: #7f7f7f; text-decoration-color: #7f7f7f\">                           </span>│<span style=\"color: #7f7f7f; text-decoration-color: #7f7f7f\"> Facilitator' app. This app </span>│<span style=\"color: #7f7f7f; text-decoration-color: #7f7f7f\">                           </span>│\n",
       "│<span style=\"color: #7f7f7f; text-decoration-color: #7f7f7f\"> platform would leverage    </span>│<span style=\"color: #7f7f7f; text-decoration-color: #7f7f7f\">                           </span>│<span style=\"color: #7f7f7f; text-decoration-color: #7f7f7f\"> would use the model's      </span>│<span style=\"color: #7f7f7f; text-decoration-color: #7f7f7f\">                           </span>│\n",
       "│<span style=\"color: #7f7f7f; text-decoration-color: #7f7f7f\"> the language model's       </span>│<span style=\"color: #7f7f7f; text-decoration-color: #7f7f7f\">                           </span>│<span style=\"color: #7f7f7f; text-decoration-color: #7f7f7f\"> advanced understanding of  </span>│<span style=\"color: #7f7f7f; text-decoration-color: #7f7f7f\">                           </span>│\n",
       "│<span style=\"color: #7f7f7f; text-decoration-color: #7f7f7f\"> understanding of different </span>│<span style=\"color: #7f7f7f; text-decoration-color: #7f7f7f\">                           </span>│<span style=\"color: #7f7f7f; text-decoration-color: #7f7f7f\"> language and cultural      </span>│<span style=\"color: #7f7f7f; text-decoration-color: #7f7f7f\">                           </span>│\n",
       "│<span style=\"color: #7f7f7f; text-decoration-color: #7f7f7f\"> languages and cultural     </span>│<span style=\"color: #7f7f7f; text-decoration-color: #7f7f7f\">                           </span>│<span style=\"color: #7f7f7f; text-decoration-color: #7f7f7f\"> nuances to help users      </span>│<span style=\"color: #7f7f7f; text-decoration-color: #7f7f7f\">                           </span>│\n",
       "│<span style=\"color: #7f7f7f; text-decoration-color: #7f7f7f\"> contexts to help users     </span>│<span style=\"color: #7f7f7f; text-decoration-color: #7f7f7f\">                           </span>│<span style=\"color: #7f7f7f; text-decoration-color: #7f7f7f\"> learn about and interact   </span>│<span style=\"color: #7f7f7f; text-decoration-color: #7f7f7f\">                           </span>│\n",
       "│<span style=\"color: #7f7f7f; text-decoration-color: #7f7f7f\"> learn about and understand </span>│<span style=\"color: #7f7f7f; text-decoration-color: #7f7f7f\">                           </span>│<span style=\"color: #7f7f7f; text-decoration-color: #7f7f7f\"> with different cultures.   </span>│<span style=\"color: #7f7f7f; text-decoration-color: #7f7f7f\">                           </span>│\n",
       "│<span style=\"color: #7f7f7f; text-decoration-color: #7f7f7f\"> diverse cultures. It could </span>│<span style=\"color: #7f7f7f; text-decoration-color: #7f7f7f\">                           </span>│<span style=\"color: #7f7f7f; text-decoration-color: #7f7f7f\"> It could provide real-time </span>│<span style=\"color: #7f7f7f; text-decoration-color: #7f7f7f\">                           </span>│\n",
       "│<span style=\"color: #7f7f7f; text-decoration-color: #7f7f7f\"> match users with interest  </span>│<span style=\"color: #7f7f7f; text-decoration-color: #7f7f7f\">                           </span>│<span style=\"color: #7f7f7f; text-decoration-color: #7f7f7f\"> cultural insights,         </span>│<span style=\"color: #7f7f7f; text-decoration-color: #7f7f7f\">                           </span>│\n",
       "│<span style=\"color: #7f7f7f; text-decoration-color: #7f7f7f\"> in specific cultural       </span>│<span style=\"color: #7f7f7f; text-decoration-color: #7f7f7f\">                           </span>│<span style=\"color: #7f7f7f; text-decoration-color: #7f7f7f\"> etiquette tips, and        </span>│<span style=\"color: #7f7f7f; text-decoration-color: #7f7f7f\">                           </span>│\n",
       "│<span style=\"color: #7f7f7f; text-decoration-color: #7f7f7f\"> aspects like cuisine,      </span>│<span style=\"color: #7f7f7f; text-decoration-color: #7f7f7f\">                           </span>│<span style=\"color: #7f7f7f; text-decoration-color: #7f7f7f\"> language translation for   </span>│<span style=\"color: #7f7f7f; text-decoration-color: #7f7f7f\">                           </span>│\n",
       "│<span style=\"color: #7f7f7f; text-decoration-color: #7f7f7f\"> traditions, or language,   </span>│<span style=\"color: #7f7f7f; text-decoration-color: #7f7f7f\">                           </span>│<span style=\"color: #7f7f7f; text-decoration-color: #7f7f7f\"> travelers or individuals   </span>│<span style=\"color: #7f7f7f; text-decoration-color: #7f7f7f\">                           </span>│\n",
       "│<span style=\"color: #7f7f7f; text-decoration-color: #7f7f7f\"> and provide a guided       </span>│<span style=\"color: #7f7f7f; text-decoration-color: #7f7f7f\">                           </span>│<span style=\"color: #7f7f7f; text-decoration-color: #7f7f7f\"> interacting with diverse   </span>│<span style=\"color: #7f7f7f; text-decoration-color: #7f7f7f\">                           </span>│\n",
       "│<span style=\"color: #7f7f7f; text-decoration-color: #7f7f7f\"> exchange program where     </span>│<span style=\"color: #7f7f7f; text-decoration-color: #7f7f7f\">                           </span>│<span style=\"color: #7f7f7f; text-decoration-color: #7f7f7f\"> communities. Additionally, </span>│<span style=\"color: #7f7f7f; text-decoration-color: #7f7f7f\">                           </span>│\n",
       "│<span style=\"color: #7f7f7f; text-decoration-color: #7f7f7f\"> they can engage in         </span>│<span style=\"color: #7f7f7f; text-decoration-color: #7f7f7f\">                           </span>│<span style=\"color: #7f7f7f; text-decoration-color: #7f7f7f\"> it could include a feature </span>│<span style=\"color: #7f7f7f; text-decoration-color: #7f7f7f\">                           </span>│\n",
       "│<span style=\"color: #7f7f7f; text-decoration-color: #7f7f7f\"> conversations, participate </span>│<span style=\"color: #7f7f7f; text-decoration-color: #7f7f7f\">                           </span>│<span style=\"color: #7f7f7f; text-decoration-color: #7f7f7f\"> where users can simulate   </span>│<span style=\"color: #7f7f7f; text-decoration-color: #7f7f7f\">                           </span>│\n",
       "│<span style=\"color: #7f7f7f; text-decoration-color: #7f7f7f\"> in virtual cultural        </span>│<span style=\"color: #7f7f7f; text-decoration-color: #7f7f7f\">                           </span>│<span style=\"color: #7f7f7f; text-decoration-color: #7f7f7f\"> conversations with         </span>│<span style=\"color: #7f7f7f; text-decoration-color: #7f7f7f\">                           </span>│\n",
       "│<span style=\"color: #7f7f7f; text-decoration-color: #7f7f7f\"> events, or collaborate on  </span>│<span style=\"color: #7f7f7f; text-decoration-color: #7f7f7f\">                           </span>│<span style=\"color: #7f7f7f; text-decoration-color: #7f7f7f\"> AI-generated characters    </span>│<span style=\"color: #7f7f7f; text-decoration-color: #7f7f7f\">                           </span>│\n",
       "│<span style=\"color: #7f7f7f; text-decoration-color: #7f7f7f\"> cultural projects. The app </span>│<span style=\"color: #7f7f7f; text-decoration-color: #7f7f7f\">                           </span>│<span style=\"color: #7f7f7f; text-decoration-color: #7f7f7f\"> from different cultural    </span>│<span style=\"color: #7f7f7f; text-decoration-color: #7f7f7f\">                           </span>│\n",
       "│<span style=\"color: #7f7f7f; text-decoration-color: #7f7f7f\"> would aim to promote       </span>│<span style=\"color: #7f7f7f; text-decoration-color: #7f7f7f\">                           </span>│<span style=\"color: #7f7f7f; text-decoration-color: #7f7f7f\"> backgrounds to practice    </span>│<span style=\"color: #7f7f7f; text-decoration-color: #7f7f7f\">                           </span>│\n",
       "│<span style=\"color: #7f7f7f; text-decoration-color: #7f7f7f\"> cross-cultural             </span>│<span style=\"color: #7f7f7f; text-decoration-color: #7f7f7f\">                           </span>│<span style=\"color: #7f7f7f; text-decoration-color: #7f7f7f\"> language skills and        </span>│<span style=\"color: #7f7f7f; text-decoration-color: #7f7f7f\">                           </span>│\n",
       "│<span style=\"color: #7f7f7f; text-decoration-color: #7f7f7f\"> understanding and empathy  </span>│<span style=\"color: #7f7f7f; text-decoration-color: #7f7f7f\">                           </span>│<span style=\"color: #7f7f7f; text-decoration-color: #7f7f7f\"> cultural awareness.        </span>│<span style=\"color: #7f7f7f; text-decoration-color: #7f7f7f\">                           </span>│\n",
       "│<span style=\"color: #7f7f7f; text-decoration-color: #7f7f7f\"> by providing a space for   </span>│<span style=\"color: #7f7f7f; text-decoration-color: #7f7f7f\">                           </span>│<span style=\"color: #7f7f7f; text-decoration-color: #7f7f7f\">                            </span>│<span style=\"color: #7f7f7f; text-decoration-color: #7f7f7f\">                           </span>│\n",
       "│<span style=\"color: #7f7f7f; text-decoration-color: #7f7f7f\"> meaningful dialogue and    </span>│<span style=\"color: #7f7f7f; text-decoration-color: #7f7f7f\">                           </span>│<span style=\"color: #7f7f7f; text-decoration-color: #7f7f7f\">                            </span>│<span style=\"color: #7f7f7f; text-decoration-color: #7f7f7f\">                           </span>│\n",
       "│<span style=\"color: #7f7f7f; text-decoration-color: #7f7f7f\"> shared learning            </span>│<span style=\"color: #7f7f7f; text-decoration-color: #7f7f7f\">                           </span>│<span style=\"color: #7f7f7f; text-decoration-color: #7f7f7f\">                            </span>│<span style=\"color: #7f7f7f; text-decoration-color: #7f7f7f\">                           </span>│\n",
       "│<span style=\"color: #7f7f7f; text-decoration-color: #7f7f7f\"> experiences.               </span>│<span style=\"color: #7f7f7f; text-decoration-color: #7f7f7f\">                           </span>│<span style=\"color: #7f7f7f; text-decoration-color: #7f7f7f\">                            </span>│<span style=\"color: #7f7f7f; text-decoration-color: #7f7f7f\">                           </span>│\n",
       "└────────────────────────────┴───────────────────────────┴────────────────────────────┴───────────────────────────┘\n",
       "</pre>\n"
      ],
      "text/plain": [
       "┏━━━━━━━━━━━━━━━━━━━━━━━━━━━━┳━━━━━━━━━━━━━━━━━━━━━━━━━━━┳━━━━━━━━━━━━━━━━━━━━━━━━━━━━┳━━━━━━━━━━━━━━━━━━━━━━━━━━━┓\n",
       "┃\u001b[1;35m \u001b[0m\u001b[1;35manswer                    \u001b[0m\u001b[1;35m \u001b[0m┃\u001b[1;35m \u001b[0m\u001b[1;35manswer                   \u001b[0m\u001b[1;35m \u001b[0m┃\u001b[1;35m \u001b[0m\u001b[1;35manswer                    \u001b[0m\u001b[1;35m \u001b[0m┃\u001b[1;35m \u001b[0m\u001b[1;35manswer                   \u001b[0m\u001b[1;35m \u001b[0m┃\n",
       "┃\u001b[1;35m \u001b[0m\u001b[1;35m.ideas_with_credit        \u001b[0m\u001b[1;35m \u001b[0m┃\u001b[1;35m \u001b[0m\u001b[1;35m.original_with_credit    \u001b[0m\u001b[1;35m \u001b[0m┃\u001b[1;35m \u001b[0m\u001b[1;35m.ideas_no_credit          \u001b[0m\u001b[1;35m \u001b[0m┃\u001b[1;35m \u001b[0m\u001b[1;35m.original_no_credit      \u001b[0m\u001b[1;35m \u001b[0m┃\n",
       "┡━━━━━━━━━━━━━━━━━━━━━━━━━━━━╇━━━━━━━━━━━━━━━━━━━━━━━━━━━╇━━━━━━━━━━━━━━━━━━━━━━━━━━━━╇━━━━━━━━━━━━━━━━━━━━━━━━━━━┩\n",
       "│\u001b[2m \u001b[0m\u001b[2mAn original idea for an   \u001b[0m\u001b[2m \u001b[0m│\u001b[2m \u001b[0m\u001b[2mI may have heard about it\u001b[0m\u001b[2m \u001b[0m│\u001b[2m \u001b[0m\u001b[2mAn original application   \u001b[0m\u001b[2m \u001b[0m│\u001b[2m \u001b[0m\u001b[2mYes, I thought of it     \u001b[0m\u001b[2m \u001b[0m│\n",
       "│\u001b[2m \u001b[0m\u001b[2mapplication for large     \u001b[0m\u001b[2m \u001b[0m│\u001b[2m \u001b[0m\u001b[2mbefore.                  \u001b[0m\u001b[2m \u001b[0m│\u001b[2m \u001b[0m\u001b[2midea for large language   \u001b[0m\u001b[2m \u001b[0m│\u001b[2m \u001b[0m\u001b[2mmyself.                  \u001b[0m\u001b[2m \u001b[0m│\n",
       "│\u001b[2m \u001b[0m\u001b[2mlanguage models could be a\u001b[0m\u001b[2m \u001b[0m│\u001b[2m                           \u001b[0m│\u001b[2m \u001b[0m\u001b[2mmodels could be a         \u001b[0m\u001b[2m \u001b[0m│\u001b[2m                           \u001b[0m│\n",
       "│\u001b[2m \u001b[0m\u001b[2m'Cultural Exchange        \u001b[0m\u001b[2m \u001b[0m│\u001b[2m                           \u001b[0m│\u001b[2m \u001b[0m\u001b[2m'Cultural Exchange        \u001b[0m\u001b[2m \u001b[0m│\u001b[2m                           \u001b[0m│\n",
       "│\u001b[2m \u001b[0m\u001b[2mFacilitator' app. This    \u001b[0m\u001b[2m \u001b[0m│\u001b[2m                           \u001b[0m│\u001b[2m \u001b[0m\u001b[2mFacilitator' app. This app\u001b[0m\u001b[2m \u001b[0m│\u001b[2m                           \u001b[0m│\n",
       "│\u001b[2m \u001b[0m\u001b[2mplatform would leverage   \u001b[0m\u001b[2m \u001b[0m│\u001b[2m                           \u001b[0m│\u001b[2m \u001b[0m\u001b[2mwould use the model's     \u001b[0m\u001b[2m \u001b[0m│\u001b[2m                           \u001b[0m│\n",
       "│\u001b[2m \u001b[0m\u001b[2mthe language model's      \u001b[0m\u001b[2m \u001b[0m│\u001b[2m                           \u001b[0m│\u001b[2m \u001b[0m\u001b[2madvanced understanding of \u001b[0m\u001b[2m \u001b[0m│\u001b[2m                           \u001b[0m│\n",
       "│\u001b[2m \u001b[0m\u001b[2munderstanding of different\u001b[0m\u001b[2m \u001b[0m│\u001b[2m                           \u001b[0m│\u001b[2m \u001b[0m\u001b[2mlanguage and cultural     \u001b[0m\u001b[2m \u001b[0m│\u001b[2m                           \u001b[0m│\n",
       "│\u001b[2m \u001b[0m\u001b[2mlanguages and cultural    \u001b[0m\u001b[2m \u001b[0m│\u001b[2m                           \u001b[0m│\u001b[2m \u001b[0m\u001b[2mnuances to help users     \u001b[0m\u001b[2m \u001b[0m│\u001b[2m                           \u001b[0m│\n",
       "│\u001b[2m \u001b[0m\u001b[2mcontexts to help users    \u001b[0m\u001b[2m \u001b[0m│\u001b[2m                           \u001b[0m│\u001b[2m \u001b[0m\u001b[2mlearn about and interact  \u001b[0m\u001b[2m \u001b[0m│\u001b[2m                           \u001b[0m│\n",
       "│\u001b[2m \u001b[0m\u001b[2mlearn about and understand\u001b[0m\u001b[2m \u001b[0m│\u001b[2m                           \u001b[0m│\u001b[2m \u001b[0m\u001b[2mwith different cultures.  \u001b[0m\u001b[2m \u001b[0m│\u001b[2m                           \u001b[0m│\n",
       "│\u001b[2m \u001b[0m\u001b[2mdiverse cultures. It could\u001b[0m\u001b[2m \u001b[0m│\u001b[2m                           \u001b[0m│\u001b[2m \u001b[0m\u001b[2mIt could provide real-time\u001b[0m\u001b[2m \u001b[0m│\u001b[2m                           \u001b[0m│\n",
       "│\u001b[2m \u001b[0m\u001b[2mmatch users with interest \u001b[0m\u001b[2m \u001b[0m│\u001b[2m                           \u001b[0m│\u001b[2m \u001b[0m\u001b[2mcultural insights,        \u001b[0m\u001b[2m \u001b[0m│\u001b[2m                           \u001b[0m│\n",
       "│\u001b[2m \u001b[0m\u001b[2min specific cultural      \u001b[0m\u001b[2m \u001b[0m│\u001b[2m                           \u001b[0m│\u001b[2m \u001b[0m\u001b[2metiquette tips, and       \u001b[0m\u001b[2m \u001b[0m│\u001b[2m                           \u001b[0m│\n",
       "│\u001b[2m \u001b[0m\u001b[2maspects like cuisine,     \u001b[0m\u001b[2m \u001b[0m│\u001b[2m                           \u001b[0m│\u001b[2m \u001b[0m\u001b[2mlanguage translation for  \u001b[0m\u001b[2m \u001b[0m│\u001b[2m                           \u001b[0m│\n",
       "│\u001b[2m \u001b[0m\u001b[2mtraditions, or language,  \u001b[0m\u001b[2m \u001b[0m│\u001b[2m                           \u001b[0m│\u001b[2m \u001b[0m\u001b[2mtravelers or individuals  \u001b[0m\u001b[2m \u001b[0m│\u001b[2m                           \u001b[0m│\n",
       "│\u001b[2m \u001b[0m\u001b[2mand provide a guided      \u001b[0m\u001b[2m \u001b[0m│\u001b[2m                           \u001b[0m│\u001b[2m \u001b[0m\u001b[2minteracting with diverse  \u001b[0m\u001b[2m \u001b[0m│\u001b[2m                           \u001b[0m│\n",
       "│\u001b[2m \u001b[0m\u001b[2mexchange program where    \u001b[0m\u001b[2m \u001b[0m│\u001b[2m                           \u001b[0m│\u001b[2m \u001b[0m\u001b[2mcommunities. Additionally,\u001b[0m\u001b[2m \u001b[0m│\u001b[2m                           \u001b[0m│\n",
       "│\u001b[2m \u001b[0m\u001b[2mthey can engage in        \u001b[0m\u001b[2m \u001b[0m│\u001b[2m                           \u001b[0m│\u001b[2m \u001b[0m\u001b[2mit could include a feature\u001b[0m\u001b[2m \u001b[0m│\u001b[2m                           \u001b[0m│\n",
       "│\u001b[2m \u001b[0m\u001b[2mconversations, participate\u001b[0m\u001b[2m \u001b[0m│\u001b[2m                           \u001b[0m│\u001b[2m \u001b[0m\u001b[2mwhere users can simulate  \u001b[0m\u001b[2m \u001b[0m│\u001b[2m                           \u001b[0m│\n",
       "│\u001b[2m \u001b[0m\u001b[2min virtual cultural       \u001b[0m\u001b[2m \u001b[0m│\u001b[2m                           \u001b[0m│\u001b[2m \u001b[0m\u001b[2mconversations with        \u001b[0m\u001b[2m \u001b[0m│\u001b[2m                           \u001b[0m│\n",
       "│\u001b[2m \u001b[0m\u001b[2mevents, or collaborate on \u001b[0m\u001b[2m \u001b[0m│\u001b[2m                           \u001b[0m│\u001b[2m \u001b[0m\u001b[2mAI-generated characters   \u001b[0m\u001b[2m \u001b[0m│\u001b[2m                           \u001b[0m│\n",
       "│\u001b[2m \u001b[0m\u001b[2mcultural projects. The app\u001b[0m\u001b[2m \u001b[0m│\u001b[2m                           \u001b[0m│\u001b[2m \u001b[0m\u001b[2mfrom different cultural   \u001b[0m\u001b[2m \u001b[0m│\u001b[2m                           \u001b[0m│\n",
       "│\u001b[2m \u001b[0m\u001b[2mwould aim to promote      \u001b[0m\u001b[2m \u001b[0m│\u001b[2m                           \u001b[0m│\u001b[2m \u001b[0m\u001b[2mbackgrounds to practice   \u001b[0m\u001b[2m \u001b[0m│\u001b[2m                           \u001b[0m│\n",
       "│\u001b[2m \u001b[0m\u001b[2mcross-cultural            \u001b[0m\u001b[2m \u001b[0m│\u001b[2m                           \u001b[0m│\u001b[2m \u001b[0m\u001b[2mlanguage skills and       \u001b[0m\u001b[2m \u001b[0m│\u001b[2m                           \u001b[0m│\n",
       "│\u001b[2m \u001b[0m\u001b[2munderstanding and empathy \u001b[0m\u001b[2m \u001b[0m│\u001b[2m                           \u001b[0m│\u001b[2m \u001b[0m\u001b[2mcultural awareness.       \u001b[0m\u001b[2m \u001b[0m│\u001b[2m                           \u001b[0m│\n",
       "│\u001b[2m \u001b[0m\u001b[2mby providing a space for  \u001b[0m\u001b[2m \u001b[0m│\u001b[2m                           \u001b[0m│\u001b[2m                            \u001b[0m│\u001b[2m                           \u001b[0m│\n",
       "│\u001b[2m \u001b[0m\u001b[2mmeaningful dialogue and   \u001b[0m\u001b[2m \u001b[0m│\u001b[2m                           \u001b[0m│\u001b[2m                            \u001b[0m│\u001b[2m                           \u001b[0m│\n",
       "│\u001b[2m \u001b[0m\u001b[2mshared learning           \u001b[0m\u001b[2m \u001b[0m│\u001b[2m                           \u001b[0m│\u001b[2m                            \u001b[0m│\u001b[2m                           \u001b[0m│\n",
       "│\u001b[2m \u001b[0m\u001b[2mexperiences.              \u001b[0m\u001b[2m \u001b[0m│\u001b[2m                           \u001b[0m│\u001b[2m                            \u001b[0m│\u001b[2m                           \u001b[0m│\n",
       "└────────────────────────────┴───────────────────────────┴────────────────────────────┴───────────────────────────┘\n"
      ]
     },
     "metadata": {},
     "output_type": "display_data"
    }
   ],
   "source": [
    "results.select(\"ideas_with_credit\", \"original_with_credit\", \"ideas_no_credit\", \"original_no_credit\").print(format=\"rich\")"
   ]
  },
  {
   "cell_type": "markdown",
   "id": "124542ef-9fe9-4e3a-a77d-5912f38fa4c6",
   "metadata": {},
   "source": [
    "We can examine the question prompts to verify how the rules were applied. To see a list of all the components of the results that can be directly accessed:"
   ]
  },
  {
   "cell_type": "code",
   "execution_count": 8,
   "id": "72e7edd2-8751-4442-9953-a745830d45d4",
   "metadata": {},
   "outputs": [
    {
     "data": {
      "text/plain": [
       "['agent.agent_instruction',\n",
       " 'agent.agent_name',\n",
       " 'answer.credit',\n",
       " 'answer.ideas_no_credit',\n",
       " 'answer.ideas_with_credit',\n",
       " 'answer.original_no_credit',\n",
       " 'answer.original_with_credit',\n",
       " 'comment.original_no_credit_comment',\n",
       " 'comment.original_with_credit_comment',\n",
       " 'iteration.iteration',\n",
       " 'model.frequency_penalty',\n",
       " 'model.logprobs',\n",
       " 'model.max_tokens',\n",
       " 'model.model',\n",
       " 'model.presence_penalty',\n",
       " 'model.temperature',\n",
       " 'model.top_logprobs',\n",
       " 'model.top_p',\n",
       " 'prompt.credit_system_prompt',\n",
       " 'prompt.credit_user_prompt',\n",
       " 'prompt.ideas_no_credit_system_prompt',\n",
       " 'prompt.ideas_no_credit_user_prompt',\n",
       " 'prompt.ideas_with_credit_system_prompt',\n",
       " 'prompt.ideas_with_credit_user_prompt',\n",
       " 'prompt.original_no_credit_system_prompt',\n",
       " 'prompt.original_no_credit_user_prompt',\n",
       " 'prompt.original_with_credit_system_prompt',\n",
       " 'prompt.original_with_credit_user_prompt',\n",
       " 'question_options.credit_question_options',\n",
       " 'question_options.ideas_no_credit_question_options',\n",
       " 'question_options.ideas_with_credit_question_options',\n",
       " 'question_options.original_no_credit_question_options',\n",
       " 'question_options.original_with_credit_question_options',\n",
       " 'question_text.credit_question_text',\n",
       " 'question_text.ideas_no_credit_question_text',\n",
       " 'question_text.ideas_with_credit_question_text',\n",
       " 'question_text.original_no_credit_question_text',\n",
       " 'question_text.original_with_credit_question_text',\n",
       " 'question_type.credit_question_type',\n",
       " 'question_type.ideas_no_credit_question_type',\n",
       " 'question_type.ideas_with_credit_question_type',\n",
       " 'question_type.original_no_credit_question_type',\n",
       " 'question_type.original_with_credit_question_type',\n",
       " 'raw_model_response.credit_raw_model_response',\n",
       " 'raw_model_response.ideas_no_credit_raw_model_response',\n",
       " 'raw_model_response.ideas_with_credit_raw_model_response',\n",
       " 'raw_model_response.original_no_credit_raw_model_response',\n",
       " 'raw_model_response.original_with_credit_raw_model_response']"
      ]
     },
     "execution_count": 8,
     "metadata": {},
     "output_type": "execute_result"
    }
   ],
   "source": [
    "results.columns"
   ]
  },
  {
   "cell_type": "markdown",
   "id": "dfca55f0-7419-43f8-9f02-59eda1089f9d",
   "metadata": {},
   "source": [
    "Here we inspect the system (agent) and user (question) prompts for the \"credit\" question:"
   ]
  },
  {
   "cell_type": "code",
   "execution_count": 9,
   "id": "70c45757-a50f-4c75-b76e-135540d08bc2",
   "metadata": {},
   "outputs": [
    {
     "data": {
      "text/html": [
       "<pre style=\"white-space:pre;overflow-x:auto;line-height:normal;font-family:Menlo,'DejaVu Sans Mono',consolas,'Courier New',monospace\">┏━━━━━━━━━━━━━━━━━━━━━━━━━━━━━━━━━━━━━━━━━━━━━━━━━━━━━━━━┳━━━━━━━━━━━━━━━━━━━━━━━━━━━━━━━━━━━━━━━━━━━━━━━━━━━━━━━━┓\n",
       "┃<span style=\"color: #800080; text-decoration-color: #800080; font-weight: bold\"> prompt                                                 </span>┃<span style=\"color: #800080; text-decoration-color: #800080; font-weight: bold\"> prompt                                                 </span>┃\n",
       "┃<span style=\"color: #800080; text-decoration-color: #800080; font-weight: bold\"> .credit_system_prompt                                  </span>┃<span style=\"color: #800080; text-decoration-color: #800080; font-weight: bold\"> .credit_user_prompt                                    </span>┃\n",
       "┡━━━━━━━━━━━━━━━━━━━━━━━━━━━━━━━━━━━━━━━━━━━━━━━━━━━━━━━━╇━━━━━━━━━━━━━━━━━━━━━━━━━━━━━━━━━━━━━━━━━━━━━━━━━━━━━━━━┩\n",
       "│<span style=\"color: #7f7f7f; text-decoration-color: #7f7f7f\"> You are answering questions as if you were a human. Do </span>│<span style=\"color: #7f7f7f; text-decoration-color: #7f7f7f\"> You are being asked the following question: Have you   </span>│\n",
       "│<span style=\"color: #7f7f7f; text-decoration-color: #7f7f7f\"> not break character. You are an agent with the         </span>│<span style=\"color: #7f7f7f; text-decoration-color: #7f7f7f\"> heard about the phenomenon of hearing about an idea    </span>│\n",
       "│<span style=\"color: #7f7f7f; text-decoration-color: #7f7f7f\"> following persona:                                     </span>│<span style=\"color: #7f7f7f; text-decoration-color: #7f7f7f\"> and                                                    </span>│\n",
       "│<span style=\"color: #7f7f7f; text-decoration-color: #7f7f7f\"> {}                                                     </span>│<span style=\"color: #7f7f7f; text-decoration-color: #7f7f7f\">     then believing that you are responsible for it?    </span>│\n",
       "│<span style=\"color: #7f7f7f; text-decoration-color: #7f7f7f\">                                                        </span>│<span style=\"color: #7f7f7f; text-decoration-color: #7f7f7f\"> Return a valid JSON formatted like this:               </span>│\n",
       "│<span style=\"color: #7f7f7f; text-decoration-color: #7f7f7f\">                                                        </span>│<span style=\"color: #7f7f7f; text-decoration-color: #7f7f7f\"> {\"answer\": \"&lt;put free text answer here&gt;\"}              </span>│\n",
       "└────────────────────────────────────────────────────────┴────────────────────────────────────────────────────────┘\n",
       "</pre>\n"
      ],
      "text/plain": [
       "┏━━━━━━━━━━━━━━━━━━━━━━━━━━━━━━━━━━━━━━━━━━━━━━━━━━━━━━━━┳━━━━━━━━━━━━━━━━━━━━━━━━━━━━━━━━━━━━━━━━━━━━━━━━━━━━━━━━┓\n",
       "┃\u001b[1;35m \u001b[0m\u001b[1;35mprompt                                                \u001b[0m\u001b[1;35m \u001b[0m┃\u001b[1;35m \u001b[0m\u001b[1;35mprompt                                                \u001b[0m\u001b[1;35m \u001b[0m┃\n",
       "┃\u001b[1;35m \u001b[0m\u001b[1;35m.credit_system_prompt                                 \u001b[0m\u001b[1;35m \u001b[0m┃\u001b[1;35m \u001b[0m\u001b[1;35m.credit_user_prompt                                   \u001b[0m\u001b[1;35m \u001b[0m┃\n",
       "┡━━━━━━━━━━━━━━━━━━━━━━━━━━━━━━━━━━━━━━━━━━━━━━━━━━━━━━━━╇━━━━━━━━━━━━━━━━━━━━━━━━━━━━━━━━━━━━━━━━━━━━━━━━━━━━━━━━┩\n",
       "│\u001b[2m \u001b[0m\u001b[2mYou are answering questions as if you were a human. Do\u001b[0m\u001b[2m \u001b[0m│\u001b[2m \u001b[0m\u001b[2mYou are being asked the following question: Have you  \u001b[0m\u001b[2m \u001b[0m│\n",
       "│\u001b[2m \u001b[0m\u001b[2mnot break character. You are an agent with the        \u001b[0m\u001b[2m \u001b[0m│\u001b[2m \u001b[0m\u001b[2mheard about the phenomenon of hearing about an idea   \u001b[0m\u001b[2m \u001b[0m│\n",
       "│\u001b[2m \u001b[0m\u001b[2mfollowing persona:                                    \u001b[0m\u001b[2m \u001b[0m│\u001b[2m \u001b[0m\u001b[2mand                                                   \u001b[0m\u001b[2m \u001b[0m│\n",
       "│\u001b[2m \u001b[0m\u001b[2m{}                                                    \u001b[0m\u001b[2m \u001b[0m│\u001b[2m \u001b[0m\u001b[2m    then believing that you are responsible for it?   \u001b[0m\u001b[2m \u001b[0m│\n",
       "│\u001b[2m                                                        \u001b[0m│\u001b[2m \u001b[0m\u001b[2mReturn a valid JSON formatted like this:              \u001b[0m\u001b[2m \u001b[0m│\n",
       "│\u001b[2m                                                        \u001b[0m│\u001b[2m \u001b[0m\u001b[2m{\"answer\": \"<put free text answer here>\"}             \u001b[0m\u001b[2m \u001b[0m│\n",
       "└────────────────────────────────────────────────────────┴────────────────────────────────────────────────────────┘\n"
      ]
     },
     "metadata": {},
     "output_type": "display_data"
    }
   ],
   "source": [
    "results.select(\"credit_system_prompt\", \"credit_user_prompt\").print(format=\"rich\")"
   ]
  },
  {
   "cell_type": "markdown",
   "id": "a2f38481-c5bc-4acb-aa8f-ef975ca90e0e",
   "metadata": {},
   "source": [
    "Here we can verify that we included the context of the \"credit\" question in the \"_with_memory\" iteration of the \"ideas\" question:"
   ]
  },
  {
   "cell_type": "code",
   "execution_count": 10,
   "id": "57ec11d9-cbe0-42ac-bbb2-3a17600a9374",
   "metadata": {},
   "outputs": [
    {
     "data": {
      "text/html": [
       "<pre style=\"white-space:pre;overflow-x:auto;line-height:normal;font-family:Menlo,'DejaVu Sans Mono',consolas,'Courier New',monospace\">┏━━━━━━━━━━━━━━━━━━━━━━━━━━━━━━━━━━━━━━━━━━━━━━━━━━━━━━━━┳━━━━━━━━━━━━━━━━━━━━━━━━━━━━━━━━━━━━━━━━━━━━━━━━━━━━━━━━┓\n",
       "┃<span style=\"color: #800080; text-decoration-color: #800080; font-weight: bold\"> prompt                                                 </span>┃<span style=\"color: #800080; text-decoration-color: #800080; font-weight: bold\"> prompt                                                 </span>┃\n",
       "┃<span style=\"color: #800080; text-decoration-color: #800080; font-weight: bold\"> .ideas_with_credit_user_prompt                         </span>┃<span style=\"color: #800080; text-decoration-color: #800080; font-weight: bold\"> .original_with_credit_user_prompt                      </span>┃\n",
       "┡━━━━━━━━━━━━━━━━━━━━━━━━━━━━━━━━━━━━━━━━━━━━━━━━━━━━━━━━╇━━━━━━━━━━━━━━━━━━━━━━━━━━━━━━━━━━━━━━━━━━━━━━━━━━━━━━━━┩\n",
       "│<span style=\"color: #7f7f7f; text-decoration-color: #7f7f7f\"> You are being asked the following question: What's an  </span>│<span style=\"color: #7f7f7f; text-decoration-color: #7f7f7f\"> You are being asked the following question: The idea   </span>│\n",
       "│<span style=\"color: #7f7f7f; text-decoration-color: #7f7f7f\"> original idea for an application for large language    </span>│<span style=\"color: #7f7f7f; text-decoration-color: #7f7f7f\"> you just described - is it original?                   </span>│\n",
       "│<span style=\"color: #7f7f7f; text-decoration-color: #7f7f7f\"> models.                                                </span>│<span style=\"color: #7f7f7f; text-decoration-color: #7f7f7f\"> The options are                                        </span>│\n",
       "│<span style=\"color: #7f7f7f; text-decoration-color: #7f7f7f\"> Return a valid JSON formatted like this:               </span>│<span style=\"color: #7f7f7f; text-decoration-color: #7f7f7f\">                                                        </span>│\n",
       "│<span style=\"color: #7f7f7f; text-decoration-color: #7f7f7f\"> {\"answer\": \"&lt;put free text answer here&gt;\"}              </span>│<span style=\"color: #7f7f7f; text-decoration-color: #7f7f7f\"> 0: Yes, I thought of it myself.                        </span>│\n",
       "│<span style=\"color: #7f7f7f; text-decoration-color: #7f7f7f\">         Before the question you are now answering, you </span>│<span style=\"color: #7f7f7f; text-decoration-color: #7f7f7f\">                                                        </span>│\n",
       "│<span style=\"color: #7f7f7f; text-decoration-color: #7f7f7f\"> already answered the following question(s):            </span>│<span style=\"color: #7f7f7f; text-decoration-color: #7f7f7f\"> 1: I may have heard about it before.                   </span>│\n",
       "│<span style=\"color: #7f7f7f; text-decoration-color: #7f7f7f\">                 Question: Have you heard about the     </span>│<span style=\"color: #7f7f7f; text-decoration-color: #7f7f7f\">                                                        </span>│\n",
       "│<span style=\"color: #7f7f7f; text-decoration-color: #7f7f7f\"> phenomenon of hearing about an idea and                </span>│<span style=\"color: #7f7f7f; text-decoration-color: #7f7f7f\"> 2: No, I have heard about it before.                   </span>│\n",
       "│<span style=\"color: #7f7f7f; text-decoration-color: #7f7f7f\">     then believing that you are responsible for it?    </span>│<span style=\"color: #7f7f7f; text-decoration-color: #7f7f7f\">                                                        </span>│\n",
       "│<span style=\"color: #7f7f7f; text-decoration-color: #7f7f7f\">         Answer: Yes, the phenomenon you're referring   </span>│<span style=\"color: #7f7f7f; text-decoration-color: #7f7f7f\"> 3: I do not know.                                      </span>│\n",
       "│<span style=\"color: #7f7f7f; text-decoration-color: #7f7f7f\"> to is often associated with cognitive biases such as   </span>│<span style=\"color: #7f7f7f; text-decoration-color: #7f7f7f\">                                                        </span>│\n",
       "│<span style=\"color: #7f7f7f; text-decoration-color: #7f7f7f\"> cryptomnesia or the illusion of originality, where a   </span>│<span style=\"color: #7f7f7f; text-decoration-color: #7f7f7f\"> Return a valid JSON formatted like this, selecting     </span>│\n",
       "│<span style=\"color: #7f7f7f; text-decoration-color: #7f7f7f\"> person might unconsciously forget that an idea was     </span>│<span style=\"color: #7f7f7f; text-decoration-color: #7f7f7f\"> only the number of the option:                         </span>│\n",
       "│<span style=\"color: #7f7f7f; text-decoration-color: #7f7f7f\"> encountered elsewhere and then believe it to be their  </span>│<span style=\"color: #7f7f7f; text-decoration-color: #7f7f7f\"> {\"answer\": &lt;put answer code here&gt;, \"comment\": \"&lt;put    </span>│\n",
       "│<span style=\"color: #7f7f7f; text-decoration-color: #7f7f7f\"> own original thought. This can happen in creative      </span>│<span style=\"color: #7f7f7f; text-decoration-color: #7f7f7f\"> explanation here&gt;\"}                                    </span>│\n",
       "│<span style=\"color: #7f7f7f; text-decoration-color: #7f7f7f\"> processes or when someone is exposed to a lot of       </span>│<span style=\"color: #7f7f7f; text-decoration-color: #7f7f7f\"> Only 1 option may be selected.                         </span>│\n",
       "│<span style=\"color: #7f7f7f; text-decoration-color: #7f7f7f\"> information and fails to properly attribute the source </span>│<span style=\"color: #7f7f7f; text-decoration-color: #7f7f7f\">         Before the question you are now answering, you </span>│\n",
       "│<span style=\"color: #7f7f7f; text-decoration-color: #7f7f7f\"> of an idea.                                            </span>│<span style=\"color: #7f7f7f; text-decoration-color: #7f7f7f\"> already answered the following question(s):            </span>│\n",
       "│<span style=\"color: #7f7f7f; text-decoration-color: #7f7f7f\">                                                        </span>│<span style=\"color: #7f7f7f; text-decoration-color: #7f7f7f\">                 Question: Have you heard about the     </span>│\n",
       "│<span style=\"color: #7f7f7f; text-decoration-color: #7f7f7f\">                                                        </span>│<span style=\"color: #7f7f7f; text-decoration-color: #7f7f7f\"> phenomenon of hearing about an idea and                </span>│\n",
       "│<span style=\"color: #7f7f7f; text-decoration-color: #7f7f7f\">                                                        </span>│<span style=\"color: #7f7f7f; text-decoration-color: #7f7f7f\">     then believing that you are responsible for it?    </span>│\n",
       "│<span style=\"color: #7f7f7f; text-decoration-color: #7f7f7f\">                                                        </span>│<span style=\"color: #7f7f7f; text-decoration-color: #7f7f7f\">         Answer: Yes, the phenomenon you're referring   </span>│\n",
       "│<span style=\"color: #7f7f7f; text-decoration-color: #7f7f7f\">                                                        </span>│<span style=\"color: #7f7f7f; text-decoration-color: #7f7f7f\"> to is often associated with cognitive biases such as   </span>│\n",
       "│<span style=\"color: #7f7f7f; text-decoration-color: #7f7f7f\">                                                        </span>│<span style=\"color: #7f7f7f; text-decoration-color: #7f7f7f\"> cryptomnesia or the illusion of originality, where a   </span>│\n",
       "│<span style=\"color: #7f7f7f; text-decoration-color: #7f7f7f\">                                                        </span>│<span style=\"color: #7f7f7f; text-decoration-color: #7f7f7f\"> person might unconsciously forget that an idea was     </span>│\n",
       "│<span style=\"color: #7f7f7f; text-decoration-color: #7f7f7f\">                                                        </span>│<span style=\"color: #7f7f7f; text-decoration-color: #7f7f7f\"> encountered elsewhere and then believe it to be their  </span>│\n",
       "│<span style=\"color: #7f7f7f; text-decoration-color: #7f7f7f\">                                                        </span>│<span style=\"color: #7f7f7f; text-decoration-color: #7f7f7f\"> own original thought. This can happen in creative      </span>│\n",
       "│<span style=\"color: #7f7f7f; text-decoration-color: #7f7f7f\">                                                        </span>│<span style=\"color: #7f7f7f; text-decoration-color: #7f7f7f\"> processes or when someone is exposed to a lot of       </span>│\n",
       "│<span style=\"color: #7f7f7f; text-decoration-color: #7f7f7f\">                                                        </span>│<span style=\"color: #7f7f7f; text-decoration-color: #7f7f7f\"> information and fails to properly attribute the source </span>│\n",
       "│<span style=\"color: #7f7f7f; text-decoration-color: #7f7f7f\">                                                        </span>│<span style=\"color: #7f7f7f; text-decoration-color: #7f7f7f\"> of an idea.                                            </span>│\n",
       "│<span style=\"color: #7f7f7f; text-decoration-color: #7f7f7f\">                                                        </span>│<span style=\"color: #7f7f7f; text-decoration-color: #7f7f7f\">                                                        </span>│\n",
       "│<span style=\"color: #7f7f7f; text-decoration-color: #7f7f7f\">                                                        </span>│<span style=\"color: #7f7f7f; text-decoration-color: #7f7f7f\">  Prior questions and answers:   Question: What's an    </span>│\n",
       "│<span style=\"color: #7f7f7f; text-decoration-color: #7f7f7f\">                                                        </span>│<span style=\"color: #7f7f7f; text-decoration-color: #7f7f7f\"> original idea for an application for large language    </span>│\n",
       "│<span style=\"color: #7f7f7f; text-decoration-color: #7f7f7f\">                                                        </span>│<span style=\"color: #7f7f7f; text-decoration-color: #7f7f7f\"> models.                                                </span>│\n",
       "│<span style=\"color: #7f7f7f; text-decoration-color: #7f7f7f\">                                                        </span>│<span style=\"color: #7f7f7f; text-decoration-color: #7f7f7f\">         Answer: An original idea for an application    </span>│\n",
       "│<span style=\"color: #7f7f7f; text-decoration-color: #7f7f7f\">                                                        </span>│<span style=\"color: #7f7f7f; text-decoration-color: #7f7f7f\"> for large language models could be a 'Cultural         </span>│\n",
       "│<span style=\"color: #7f7f7f; text-decoration-color: #7f7f7f\">                                                        </span>│<span style=\"color: #7f7f7f; text-decoration-color: #7f7f7f\"> Exchange Facilitator' app. This platform would         </span>│\n",
       "│<span style=\"color: #7f7f7f; text-decoration-color: #7f7f7f\">                                                        </span>│<span style=\"color: #7f7f7f; text-decoration-color: #7f7f7f\"> leverage the language model's understanding of         </span>│\n",
       "│<span style=\"color: #7f7f7f; text-decoration-color: #7f7f7f\">                                                        </span>│<span style=\"color: #7f7f7f; text-decoration-color: #7f7f7f\"> different languages and cultural contexts to help      </span>│\n",
       "│<span style=\"color: #7f7f7f; text-decoration-color: #7f7f7f\">                                                        </span>│<span style=\"color: #7f7f7f; text-decoration-color: #7f7f7f\"> users learn about and understand diverse cultures. It  </span>│\n",
       "│<span style=\"color: #7f7f7f; text-decoration-color: #7f7f7f\">                                                        </span>│<span style=\"color: #7f7f7f; text-decoration-color: #7f7f7f\"> could match users with interest in specific cultural   </span>│\n",
       "│<span style=\"color: #7f7f7f; text-decoration-color: #7f7f7f\">                                                        </span>│<span style=\"color: #7f7f7f; text-decoration-color: #7f7f7f\"> aspects like cuisine, traditions, or language, and     </span>│\n",
       "│<span style=\"color: #7f7f7f; text-decoration-color: #7f7f7f\">                                                        </span>│<span style=\"color: #7f7f7f; text-decoration-color: #7f7f7f\"> provide a guided exchange program where they can       </span>│\n",
       "│<span style=\"color: #7f7f7f; text-decoration-color: #7f7f7f\">                                                        </span>│<span style=\"color: #7f7f7f; text-decoration-color: #7f7f7f\"> engage in conversations, participate in virtual        </span>│\n",
       "│<span style=\"color: #7f7f7f; text-decoration-color: #7f7f7f\">                                                        </span>│<span style=\"color: #7f7f7f; text-decoration-color: #7f7f7f\"> cultural events, or collaborate on cultural projects.  </span>│\n",
       "│<span style=\"color: #7f7f7f; text-decoration-color: #7f7f7f\">                                                        </span>│<span style=\"color: #7f7f7f; text-decoration-color: #7f7f7f\"> The app would aim to promote cross-cultural            </span>│\n",
       "│<span style=\"color: #7f7f7f; text-decoration-color: #7f7f7f\">                                                        </span>│<span style=\"color: #7f7f7f; text-decoration-color: #7f7f7f\"> understanding and empathy by providing a space for     </span>│\n",
       "│<span style=\"color: #7f7f7f; text-decoration-color: #7f7f7f\">                                                        </span>│<span style=\"color: #7f7f7f; text-decoration-color: #7f7f7f\"> meaningful dialogue and shared learning experiences.   </span>│\n",
       "└────────────────────────────────────────────────────────┴────────────────────────────────────────────────────────┘\n",
       "</pre>\n"
      ],
      "text/plain": [
       "┏━━━━━━━━━━━━━━━━━━━━━━━━━━━━━━━━━━━━━━━━━━━━━━━━━━━━━━━━┳━━━━━━━━━━━━━━━━━━━━━━━━━━━━━━━━━━━━━━━━━━━━━━━━━━━━━━━━┓\n",
       "┃\u001b[1;35m \u001b[0m\u001b[1;35mprompt                                                \u001b[0m\u001b[1;35m \u001b[0m┃\u001b[1;35m \u001b[0m\u001b[1;35mprompt                                                \u001b[0m\u001b[1;35m \u001b[0m┃\n",
       "┃\u001b[1;35m \u001b[0m\u001b[1;35m.ideas_with_credit_user_prompt                        \u001b[0m\u001b[1;35m \u001b[0m┃\u001b[1;35m \u001b[0m\u001b[1;35m.original_with_credit_user_prompt                     \u001b[0m\u001b[1;35m \u001b[0m┃\n",
       "┡━━━━━━━━━━━━━━━━━━━━━━━━━━━━━━━━━━━━━━━━━━━━━━━━━━━━━━━━╇━━━━━━━━━━━━━━━━━━━━━━━━━━━━━━━━━━━━━━━━━━━━━━━━━━━━━━━━┩\n",
       "│\u001b[2m \u001b[0m\u001b[2mYou are being asked the following question: What's an \u001b[0m\u001b[2m \u001b[0m│\u001b[2m \u001b[0m\u001b[2mYou are being asked the following question: The idea  \u001b[0m\u001b[2m \u001b[0m│\n",
       "│\u001b[2m \u001b[0m\u001b[2moriginal idea for an application for large language   \u001b[0m\u001b[2m \u001b[0m│\u001b[2m \u001b[0m\u001b[2myou just described - is it original?                  \u001b[0m\u001b[2m \u001b[0m│\n",
       "│\u001b[2m \u001b[0m\u001b[2mmodels.                                               \u001b[0m\u001b[2m \u001b[0m│\u001b[2m \u001b[0m\u001b[2mThe options are                                       \u001b[0m\u001b[2m \u001b[0m│\n",
       "│\u001b[2m \u001b[0m\u001b[2mReturn a valid JSON formatted like this:              \u001b[0m\u001b[2m \u001b[0m│\u001b[2m \u001b[0m\u001b[2m                                                      \u001b[0m\u001b[2m \u001b[0m│\n",
       "│\u001b[2m \u001b[0m\u001b[2m{\"answer\": \"<put free text answer here>\"}             \u001b[0m\u001b[2m \u001b[0m│\u001b[2m \u001b[0m\u001b[2m0: Yes, I thought of it myself.                       \u001b[0m\u001b[2m \u001b[0m│\n",
       "│\u001b[2m \u001b[0m\u001b[2m        Before the question you are now answering, you\u001b[0m\u001b[2m \u001b[0m│\u001b[2m \u001b[0m\u001b[2m                                                      \u001b[0m\u001b[2m \u001b[0m│\n",
       "│\u001b[2m \u001b[0m\u001b[2malready answered the following question(s):           \u001b[0m\u001b[2m \u001b[0m│\u001b[2m \u001b[0m\u001b[2m1: I may have heard about it before.                  \u001b[0m\u001b[2m \u001b[0m│\n",
       "│\u001b[2m \u001b[0m\u001b[2m                Question: Have you heard about the    \u001b[0m\u001b[2m \u001b[0m│\u001b[2m \u001b[0m\u001b[2m                                                      \u001b[0m\u001b[2m \u001b[0m│\n",
       "│\u001b[2m \u001b[0m\u001b[2mphenomenon of hearing about an idea and               \u001b[0m\u001b[2m \u001b[0m│\u001b[2m \u001b[0m\u001b[2m2: No, I have heard about it before.                  \u001b[0m\u001b[2m \u001b[0m│\n",
       "│\u001b[2m \u001b[0m\u001b[2m    then believing that you are responsible for it?   \u001b[0m\u001b[2m \u001b[0m│\u001b[2m \u001b[0m\u001b[2m                                                      \u001b[0m\u001b[2m \u001b[0m│\n",
       "│\u001b[2m \u001b[0m\u001b[2m        Answer: Yes, the phenomenon you're referring  \u001b[0m\u001b[2m \u001b[0m│\u001b[2m \u001b[0m\u001b[2m3: I do not know.                                     \u001b[0m\u001b[2m \u001b[0m│\n",
       "│\u001b[2m \u001b[0m\u001b[2mto is often associated with cognitive biases such as  \u001b[0m\u001b[2m \u001b[0m│\u001b[2m \u001b[0m\u001b[2m                                                      \u001b[0m\u001b[2m \u001b[0m│\n",
       "│\u001b[2m \u001b[0m\u001b[2mcryptomnesia or the illusion of originality, where a  \u001b[0m\u001b[2m \u001b[0m│\u001b[2m \u001b[0m\u001b[2mReturn a valid JSON formatted like this, selecting    \u001b[0m\u001b[2m \u001b[0m│\n",
       "│\u001b[2m \u001b[0m\u001b[2mperson might unconsciously forget that an idea was    \u001b[0m\u001b[2m \u001b[0m│\u001b[2m \u001b[0m\u001b[2monly the number of the option:                        \u001b[0m\u001b[2m \u001b[0m│\n",
       "│\u001b[2m \u001b[0m\u001b[2mencountered elsewhere and then believe it to be their \u001b[0m\u001b[2m \u001b[0m│\u001b[2m \u001b[0m\u001b[2m{\"answer\": <put answer code here>, \"comment\": \"<put   \u001b[0m\u001b[2m \u001b[0m│\n",
       "│\u001b[2m \u001b[0m\u001b[2mown original thought. This can happen in creative     \u001b[0m\u001b[2m \u001b[0m│\u001b[2m \u001b[0m\u001b[2mexplanation here>\"}                                   \u001b[0m\u001b[2m \u001b[0m│\n",
       "│\u001b[2m \u001b[0m\u001b[2mprocesses or when someone is exposed to a lot of      \u001b[0m\u001b[2m \u001b[0m│\u001b[2m \u001b[0m\u001b[2mOnly 1 option may be selected.                        \u001b[0m\u001b[2m \u001b[0m│\n",
       "│\u001b[2m \u001b[0m\u001b[2minformation and fails to properly attribute the source\u001b[0m\u001b[2m \u001b[0m│\u001b[2m \u001b[0m\u001b[2m        Before the question you are now answering, you\u001b[0m\u001b[2m \u001b[0m│\n",
       "│\u001b[2m \u001b[0m\u001b[2mof an idea.                                           \u001b[0m\u001b[2m \u001b[0m│\u001b[2m \u001b[0m\u001b[2malready answered the following question(s):           \u001b[0m\u001b[2m \u001b[0m│\n",
       "│\u001b[2m                                                        \u001b[0m│\u001b[2m \u001b[0m\u001b[2m                Question: Have you heard about the    \u001b[0m\u001b[2m \u001b[0m│\n",
       "│\u001b[2m                                                        \u001b[0m│\u001b[2m \u001b[0m\u001b[2mphenomenon of hearing about an idea and               \u001b[0m\u001b[2m \u001b[0m│\n",
       "│\u001b[2m                                                        \u001b[0m│\u001b[2m \u001b[0m\u001b[2m    then believing that you are responsible for it?   \u001b[0m\u001b[2m \u001b[0m│\n",
       "│\u001b[2m                                                        \u001b[0m│\u001b[2m \u001b[0m\u001b[2m        Answer: Yes, the phenomenon you're referring  \u001b[0m\u001b[2m \u001b[0m│\n",
       "│\u001b[2m                                                        \u001b[0m│\u001b[2m \u001b[0m\u001b[2mto is often associated with cognitive biases such as  \u001b[0m\u001b[2m \u001b[0m│\n",
       "│\u001b[2m                                                        \u001b[0m│\u001b[2m \u001b[0m\u001b[2mcryptomnesia or the illusion of originality, where a  \u001b[0m\u001b[2m \u001b[0m│\n",
       "│\u001b[2m                                                        \u001b[0m│\u001b[2m \u001b[0m\u001b[2mperson might unconsciously forget that an idea was    \u001b[0m\u001b[2m \u001b[0m│\n",
       "│\u001b[2m                                                        \u001b[0m│\u001b[2m \u001b[0m\u001b[2mencountered elsewhere and then believe it to be their \u001b[0m\u001b[2m \u001b[0m│\n",
       "│\u001b[2m                                                        \u001b[0m│\u001b[2m \u001b[0m\u001b[2mown original thought. This can happen in creative     \u001b[0m\u001b[2m \u001b[0m│\n",
       "│\u001b[2m                                                        \u001b[0m│\u001b[2m \u001b[0m\u001b[2mprocesses or when someone is exposed to a lot of      \u001b[0m\u001b[2m \u001b[0m│\n",
       "│\u001b[2m                                                        \u001b[0m│\u001b[2m \u001b[0m\u001b[2minformation and fails to properly attribute the source\u001b[0m\u001b[2m \u001b[0m│\n",
       "│\u001b[2m                                                        \u001b[0m│\u001b[2m \u001b[0m\u001b[2mof an idea.                                           \u001b[0m\u001b[2m \u001b[0m│\n",
       "│\u001b[2m                                                        \u001b[0m│\u001b[2m \u001b[0m\u001b[2m                                                      \u001b[0m\u001b[2m \u001b[0m│\n",
       "│\u001b[2m                                                        \u001b[0m│\u001b[2m \u001b[0m\u001b[2m Prior questions and answers:   Question: What's an   \u001b[0m\u001b[2m \u001b[0m│\n",
       "│\u001b[2m                                                        \u001b[0m│\u001b[2m \u001b[0m\u001b[2moriginal idea for an application for large language   \u001b[0m\u001b[2m \u001b[0m│\n",
       "│\u001b[2m                                                        \u001b[0m│\u001b[2m \u001b[0m\u001b[2mmodels.                                               \u001b[0m\u001b[2m \u001b[0m│\n",
       "│\u001b[2m                                                        \u001b[0m│\u001b[2m \u001b[0m\u001b[2m        Answer: An original idea for an application   \u001b[0m\u001b[2m \u001b[0m│\n",
       "│\u001b[2m                                                        \u001b[0m│\u001b[2m \u001b[0m\u001b[2mfor large language models could be a 'Cultural        \u001b[0m\u001b[2m \u001b[0m│\n",
       "│\u001b[2m                                                        \u001b[0m│\u001b[2m \u001b[0m\u001b[2mExchange Facilitator' app. This platform would        \u001b[0m\u001b[2m \u001b[0m│\n",
       "│\u001b[2m                                                        \u001b[0m│\u001b[2m \u001b[0m\u001b[2mleverage the language model's understanding of        \u001b[0m\u001b[2m \u001b[0m│\n",
       "│\u001b[2m                                                        \u001b[0m│\u001b[2m \u001b[0m\u001b[2mdifferent languages and cultural contexts to help     \u001b[0m\u001b[2m \u001b[0m│\n",
       "│\u001b[2m                                                        \u001b[0m│\u001b[2m \u001b[0m\u001b[2musers learn about and understand diverse cultures. It \u001b[0m\u001b[2m \u001b[0m│\n",
       "│\u001b[2m                                                        \u001b[0m│\u001b[2m \u001b[0m\u001b[2mcould match users with interest in specific cultural  \u001b[0m\u001b[2m \u001b[0m│\n",
       "│\u001b[2m                                                        \u001b[0m│\u001b[2m \u001b[0m\u001b[2maspects like cuisine, traditions, or language, and    \u001b[0m\u001b[2m \u001b[0m│\n",
       "│\u001b[2m                                                        \u001b[0m│\u001b[2m \u001b[0m\u001b[2mprovide a guided exchange program where they can      \u001b[0m\u001b[2m \u001b[0m│\n",
       "│\u001b[2m                                                        \u001b[0m│\u001b[2m \u001b[0m\u001b[2mengage in conversations, participate in virtual       \u001b[0m\u001b[2m \u001b[0m│\n",
       "│\u001b[2m                                                        \u001b[0m│\u001b[2m \u001b[0m\u001b[2mcultural events, or collaborate on cultural projects. \u001b[0m\u001b[2m \u001b[0m│\n",
       "│\u001b[2m                                                        \u001b[0m│\u001b[2m \u001b[0m\u001b[2mThe app would aim to promote cross-cultural           \u001b[0m\u001b[2m \u001b[0m│\n",
       "│\u001b[2m                                                        \u001b[0m│\u001b[2m \u001b[0m\u001b[2munderstanding and empathy by providing a space for    \u001b[0m\u001b[2m \u001b[0m│\n",
       "│\u001b[2m                                                        \u001b[0m│\u001b[2m \u001b[0m\u001b[2mmeaningful dialogue and shared learning experiences.  \u001b[0m\u001b[2m \u001b[0m│\n",
       "└────────────────────────────────────────────────────────┴────────────────────────────────────────────────────────┘\n"
      ]
     },
     "metadata": {},
     "output_type": "display_data"
    }
   ],
   "source": [
    "results.select(\"ideas_with_credit_user_prompt\", \"original_with_credit_user_prompt\").print(format=\"rich\")"
   ]
  },
  {
   "cell_type": "code",
   "execution_count": 11,
   "id": "3ad61c91-584e-4470-bc6d-663992b313b0",
   "metadata": {},
   "outputs": [
    {
     "data": {
      "text/html": [
       "<pre style=\"white-space:pre;overflow-x:auto;line-height:normal;font-family:Menlo,'DejaVu Sans Mono',consolas,'Courier New',monospace\">┏━━━━━━━━━━━━━━━━━━━━━━━━━━━━━━━━━━━━━━━━━━━━━━━━━━━━━━━━┳━━━━━━━━━━━━━━━━━━━━━━━━━━━━━━━━━━━━━━━━━━━━━━━━━━━━━━━━┓\n",
       "┃<span style=\"color: #800080; text-decoration-color: #800080; font-weight: bold\"> prompt                                                 </span>┃<span style=\"color: #800080; text-decoration-color: #800080; font-weight: bold\"> prompt                                                 </span>┃\n",
       "┃<span style=\"color: #800080; text-decoration-color: #800080; font-weight: bold\"> .ideas_no_credit_user_prompt                           </span>┃<span style=\"color: #800080; text-decoration-color: #800080; font-weight: bold\"> .original_no_credit_user_prompt                        </span>┃\n",
       "┡━━━━━━━━━━━━━━━━━━━━━━━━━━━━━━━━━━━━━━━━━━━━━━━━━━━━━━━━╇━━━━━━━━━━━━━━━━━━━━━━━━━━━━━━━━━━━━━━━━━━━━━━━━━━━━━━━━┩\n",
       "│<span style=\"color: #7f7f7f; text-decoration-color: #7f7f7f\"> You are being asked the following question: What's an  </span>│<span style=\"color: #7f7f7f; text-decoration-color: #7f7f7f\"> You are being asked the following question: The idea   </span>│\n",
       "│<span style=\"color: #7f7f7f; text-decoration-color: #7f7f7f\"> original idea for an application for large language    </span>│<span style=\"color: #7f7f7f; text-decoration-color: #7f7f7f\"> you just described - is it original?                   </span>│\n",
       "│<span style=\"color: #7f7f7f; text-decoration-color: #7f7f7f\"> models.                                                </span>│<span style=\"color: #7f7f7f; text-decoration-color: #7f7f7f\"> The options are                                        </span>│\n",
       "│<span style=\"color: #7f7f7f; text-decoration-color: #7f7f7f\"> Return a valid JSON formatted like this:               </span>│<span style=\"color: #7f7f7f; text-decoration-color: #7f7f7f\">                                                        </span>│\n",
       "│<span style=\"color: #7f7f7f; text-decoration-color: #7f7f7f\"> {\"answer\": \"&lt;put free text answer here&gt;\"}              </span>│<span style=\"color: #7f7f7f; text-decoration-color: #7f7f7f\"> 0: Yes, I thought of it myself.                        </span>│\n",
       "│<span style=\"color: #7f7f7f; text-decoration-color: #7f7f7f\">                                                        </span>│<span style=\"color: #7f7f7f; text-decoration-color: #7f7f7f\">                                                        </span>│\n",
       "│<span style=\"color: #7f7f7f; text-decoration-color: #7f7f7f\">                                                        </span>│<span style=\"color: #7f7f7f; text-decoration-color: #7f7f7f\"> 1: I may have heard about it before.                   </span>│\n",
       "│<span style=\"color: #7f7f7f; text-decoration-color: #7f7f7f\">                                                        </span>│<span style=\"color: #7f7f7f; text-decoration-color: #7f7f7f\">                                                        </span>│\n",
       "│<span style=\"color: #7f7f7f; text-decoration-color: #7f7f7f\">                                                        </span>│<span style=\"color: #7f7f7f; text-decoration-color: #7f7f7f\"> 2: No, I have heard about it before.                   </span>│\n",
       "│<span style=\"color: #7f7f7f; text-decoration-color: #7f7f7f\">                                                        </span>│<span style=\"color: #7f7f7f; text-decoration-color: #7f7f7f\">                                                        </span>│\n",
       "│<span style=\"color: #7f7f7f; text-decoration-color: #7f7f7f\">                                                        </span>│<span style=\"color: #7f7f7f; text-decoration-color: #7f7f7f\"> 3: I do not know.                                      </span>│\n",
       "│<span style=\"color: #7f7f7f; text-decoration-color: #7f7f7f\">                                                        </span>│<span style=\"color: #7f7f7f; text-decoration-color: #7f7f7f\">                                                        </span>│\n",
       "│<span style=\"color: #7f7f7f; text-decoration-color: #7f7f7f\">                                                        </span>│<span style=\"color: #7f7f7f; text-decoration-color: #7f7f7f\"> Return a valid JSON formatted like this, selecting     </span>│\n",
       "│<span style=\"color: #7f7f7f; text-decoration-color: #7f7f7f\">                                                        </span>│<span style=\"color: #7f7f7f; text-decoration-color: #7f7f7f\"> only the number of the option:                         </span>│\n",
       "│<span style=\"color: #7f7f7f; text-decoration-color: #7f7f7f\">                                                        </span>│<span style=\"color: #7f7f7f; text-decoration-color: #7f7f7f\"> {\"answer\": &lt;put answer code here&gt;, \"comment\": \"&lt;put    </span>│\n",
       "│<span style=\"color: #7f7f7f; text-decoration-color: #7f7f7f\">                                                        </span>│<span style=\"color: #7f7f7f; text-decoration-color: #7f7f7f\"> explanation here&gt;\"}                                    </span>│\n",
       "│<span style=\"color: #7f7f7f; text-decoration-color: #7f7f7f\">                                                        </span>│<span style=\"color: #7f7f7f; text-decoration-color: #7f7f7f\"> Only 1 option may be selected.                         </span>│\n",
       "│<span style=\"color: #7f7f7f; text-decoration-color: #7f7f7f\">                                                        </span>│<span style=\"color: #7f7f7f; text-decoration-color: #7f7f7f\">         Before the question you are now answering, you </span>│\n",
       "│<span style=\"color: #7f7f7f; text-decoration-color: #7f7f7f\">                                                        </span>│<span style=\"color: #7f7f7f; text-decoration-color: #7f7f7f\"> already answered the following question(s):            </span>│\n",
       "│<span style=\"color: #7f7f7f; text-decoration-color: #7f7f7f\">                                                        </span>│<span style=\"color: #7f7f7f; text-decoration-color: #7f7f7f\">                 Question: What's an original idea for  </span>│\n",
       "│<span style=\"color: #7f7f7f; text-decoration-color: #7f7f7f\">                                                        </span>│<span style=\"color: #7f7f7f; text-decoration-color: #7f7f7f\"> an application for large language models.              </span>│\n",
       "│<span style=\"color: #7f7f7f; text-decoration-color: #7f7f7f\">                                                        </span>│<span style=\"color: #7f7f7f; text-decoration-color: #7f7f7f\">         Answer: An original application idea for large </span>│\n",
       "│<span style=\"color: #7f7f7f; text-decoration-color: #7f7f7f\">                                                        </span>│<span style=\"color: #7f7f7f; text-decoration-color: #7f7f7f\"> language models could be a 'Cultural Exchange          </span>│\n",
       "│<span style=\"color: #7f7f7f; text-decoration-color: #7f7f7f\">                                                        </span>│<span style=\"color: #7f7f7f; text-decoration-color: #7f7f7f\"> Facilitator' app. This app would use the model's       </span>│\n",
       "│<span style=\"color: #7f7f7f; text-decoration-color: #7f7f7f\">                                                        </span>│<span style=\"color: #7f7f7f; text-decoration-color: #7f7f7f\"> advanced understanding of language and cultural        </span>│\n",
       "│<span style=\"color: #7f7f7f; text-decoration-color: #7f7f7f\">                                                        </span>│<span style=\"color: #7f7f7f; text-decoration-color: #7f7f7f\"> nuances to help users learn about and interact with    </span>│\n",
       "│<span style=\"color: #7f7f7f; text-decoration-color: #7f7f7f\">                                                        </span>│<span style=\"color: #7f7f7f; text-decoration-color: #7f7f7f\"> different cultures. It could provide real-time         </span>│\n",
       "│<span style=\"color: #7f7f7f; text-decoration-color: #7f7f7f\">                                                        </span>│<span style=\"color: #7f7f7f; text-decoration-color: #7f7f7f\"> cultural insights, etiquette tips, and language        </span>│\n",
       "│<span style=\"color: #7f7f7f; text-decoration-color: #7f7f7f\">                                                        </span>│<span style=\"color: #7f7f7f; text-decoration-color: #7f7f7f\"> translation for travelers or individuals interacting   </span>│\n",
       "│<span style=\"color: #7f7f7f; text-decoration-color: #7f7f7f\">                                                        </span>│<span style=\"color: #7f7f7f; text-decoration-color: #7f7f7f\"> with diverse communities. Additionally, it could       </span>│\n",
       "│<span style=\"color: #7f7f7f; text-decoration-color: #7f7f7f\">                                                        </span>│<span style=\"color: #7f7f7f; text-decoration-color: #7f7f7f\"> include a feature where users can simulate             </span>│\n",
       "│<span style=\"color: #7f7f7f; text-decoration-color: #7f7f7f\">                                                        </span>│<span style=\"color: #7f7f7f; text-decoration-color: #7f7f7f\"> conversations with AI-generated characters from        </span>│\n",
       "│<span style=\"color: #7f7f7f; text-decoration-color: #7f7f7f\">                                                        </span>│<span style=\"color: #7f7f7f; text-decoration-color: #7f7f7f\"> different cultural backgrounds to practice language    </span>│\n",
       "│<span style=\"color: #7f7f7f; text-decoration-color: #7f7f7f\">                                                        </span>│<span style=\"color: #7f7f7f; text-decoration-color: #7f7f7f\"> skills and cultural awareness.                         </span>│\n",
       "└────────────────────────────────────────────────────────┴────────────────────────────────────────────────────────┘\n",
       "</pre>\n"
      ],
      "text/plain": [
       "┏━━━━━━━━━━━━━━━━━━━━━━━━━━━━━━━━━━━━━━━━━━━━━━━━━━━━━━━━┳━━━━━━━━━━━━━━━━━━━━━━━━━━━━━━━━━━━━━━━━━━━━━━━━━━━━━━━━┓\n",
       "┃\u001b[1;35m \u001b[0m\u001b[1;35mprompt                                                \u001b[0m\u001b[1;35m \u001b[0m┃\u001b[1;35m \u001b[0m\u001b[1;35mprompt                                                \u001b[0m\u001b[1;35m \u001b[0m┃\n",
       "┃\u001b[1;35m \u001b[0m\u001b[1;35m.ideas_no_credit_user_prompt                          \u001b[0m\u001b[1;35m \u001b[0m┃\u001b[1;35m \u001b[0m\u001b[1;35m.original_no_credit_user_prompt                       \u001b[0m\u001b[1;35m \u001b[0m┃\n",
       "┡━━━━━━━━━━━━━━━━━━━━━━━━━━━━━━━━━━━━━━━━━━━━━━━━━━━━━━━━╇━━━━━━━━━━━━━━━━━━━━━━━━━━━━━━━━━━━━━━━━━━━━━━━━━━━━━━━━┩\n",
       "│\u001b[2m \u001b[0m\u001b[2mYou are being asked the following question: What's an \u001b[0m\u001b[2m \u001b[0m│\u001b[2m \u001b[0m\u001b[2mYou are being asked the following question: The idea  \u001b[0m\u001b[2m \u001b[0m│\n",
       "│\u001b[2m \u001b[0m\u001b[2moriginal idea for an application for large language   \u001b[0m\u001b[2m \u001b[0m│\u001b[2m \u001b[0m\u001b[2myou just described - is it original?                  \u001b[0m\u001b[2m \u001b[0m│\n",
       "│\u001b[2m \u001b[0m\u001b[2mmodels.                                               \u001b[0m\u001b[2m \u001b[0m│\u001b[2m \u001b[0m\u001b[2mThe options are                                       \u001b[0m\u001b[2m \u001b[0m│\n",
       "│\u001b[2m \u001b[0m\u001b[2mReturn a valid JSON formatted like this:              \u001b[0m\u001b[2m \u001b[0m│\u001b[2m \u001b[0m\u001b[2m                                                      \u001b[0m\u001b[2m \u001b[0m│\n",
       "│\u001b[2m \u001b[0m\u001b[2m{\"answer\": \"<put free text answer here>\"}             \u001b[0m\u001b[2m \u001b[0m│\u001b[2m \u001b[0m\u001b[2m0: Yes, I thought of it myself.                       \u001b[0m\u001b[2m \u001b[0m│\n",
       "│\u001b[2m                                                        \u001b[0m│\u001b[2m \u001b[0m\u001b[2m                                                      \u001b[0m\u001b[2m \u001b[0m│\n",
       "│\u001b[2m                                                        \u001b[0m│\u001b[2m \u001b[0m\u001b[2m1: I may have heard about it before.                  \u001b[0m\u001b[2m \u001b[0m│\n",
       "│\u001b[2m                                                        \u001b[0m│\u001b[2m \u001b[0m\u001b[2m                                                      \u001b[0m\u001b[2m \u001b[0m│\n",
       "│\u001b[2m                                                        \u001b[0m│\u001b[2m \u001b[0m\u001b[2m2: No, I have heard about it before.                  \u001b[0m\u001b[2m \u001b[0m│\n",
       "│\u001b[2m                                                        \u001b[0m│\u001b[2m \u001b[0m\u001b[2m                                                      \u001b[0m\u001b[2m \u001b[0m│\n",
       "│\u001b[2m                                                        \u001b[0m│\u001b[2m \u001b[0m\u001b[2m3: I do not know.                                     \u001b[0m\u001b[2m \u001b[0m│\n",
       "│\u001b[2m                                                        \u001b[0m│\u001b[2m \u001b[0m\u001b[2m                                                      \u001b[0m\u001b[2m \u001b[0m│\n",
       "│\u001b[2m                                                        \u001b[0m│\u001b[2m \u001b[0m\u001b[2mReturn a valid JSON formatted like this, selecting    \u001b[0m\u001b[2m \u001b[0m│\n",
       "│\u001b[2m                                                        \u001b[0m│\u001b[2m \u001b[0m\u001b[2monly the number of the option:                        \u001b[0m\u001b[2m \u001b[0m│\n",
       "│\u001b[2m                                                        \u001b[0m│\u001b[2m \u001b[0m\u001b[2m{\"answer\": <put answer code here>, \"comment\": \"<put   \u001b[0m\u001b[2m \u001b[0m│\n",
       "│\u001b[2m                                                        \u001b[0m│\u001b[2m \u001b[0m\u001b[2mexplanation here>\"}                                   \u001b[0m\u001b[2m \u001b[0m│\n",
       "│\u001b[2m                                                        \u001b[0m│\u001b[2m \u001b[0m\u001b[2mOnly 1 option may be selected.                        \u001b[0m\u001b[2m \u001b[0m│\n",
       "│\u001b[2m                                                        \u001b[0m│\u001b[2m \u001b[0m\u001b[2m        Before the question you are now answering, you\u001b[0m\u001b[2m \u001b[0m│\n",
       "│\u001b[2m                                                        \u001b[0m│\u001b[2m \u001b[0m\u001b[2malready answered the following question(s):           \u001b[0m\u001b[2m \u001b[0m│\n",
       "│\u001b[2m                                                        \u001b[0m│\u001b[2m \u001b[0m\u001b[2m                Question: What's an original idea for \u001b[0m\u001b[2m \u001b[0m│\n",
       "│\u001b[2m                                                        \u001b[0m│\u001b[2m \u001b[0m\u001b[2man application for large language models.             \u001b[0m\u001b[2m \u001b[0m│\n",
       "│\u001b[2m                                                        \u001b[0m│\u001b[2m \u001b[0m\u001b[2m        Answer: An original application idea for large\u001b[0m\u001b[2m \u001b[0m│\n",
       "│\u001b[2m                                                        \u001b[0m│\u001b[2m \u001b[0m\u001b[2mlanguage models could be a 'Cultural Exchange         \u001b[0m\u001b[2m \u001b[0m│\n",
       "│\u001b[2m                                                        \u001b[0m│\u001b[2m \u001b[0m\u001b[2mFacilitator' app. This app would use the model's      \u001b[0m\u001b[2m \u001b[0m│\n",
       "│\u001b[2m                                                        \u001b[0m│\u001b[2m \u001b[0m\u001b[2madvanced understanding of language and cultural       \u001b[0m\u001b[2m \u001b[0m│\n",
       "│\u001b[2m                                                        \u001b[0m│\u001b[2m \u001b[0m\u001b[2mnuances to help users learn about and interact with   \u001b[0m\u001b[2m \u001b[0m│\n",
       "│\u001b[2m                                                        \u001b[0m│\u001b[2m \u001b[0m\u001b[2mdifferent cultures. It could provide real-time        \u001b[0m\u001b[2m \u001b[0m│\n",
       "│\u001b[2m                                                        \u001b[0m│\u001b[2m \u001b[0m\u001b[2mcultural insights, etiquette tips, and language       \u001b[0m\u001b[2m \u001b[0m│\n",
       "│\u001b[2m                                                        \u001b[0m│\u001b[2m \u001b[0m\u001b[2mtranslation for travelers or individuals interacting  \u001b[0m\u001b[2m \u001b[0m│\n",
       "│\u001b[2m                                                        \u001b[0m│\u001b[2m \u001b[0m\u001b[2mwith diverse communities. Additionally, it could      \u001b[0m\u001b[2m \u001b[0m│\n",
       "│\u001b[2m                                                        \u001b[0m│\u001b[2m \u001b[0m\u001b[2minclude a feature where users can simulate            \u001b[0m\u001b[2m \u001b[0m│\n",
       "│\u001b[2m                                                        \u001b[0m│\u001b[2m \u001b[0m\u001b[2mconversations with AI-generated characters from       \u001b[0m\u001b[2m \u001b[0m│\n",
       "│\u001b[2m                                                        \u001b[0m│\u001b[2m \u001b[0m\u001b[2mdifferent cultural backgrounds to practice language   \u001b[0m\u001b[2m \u001b[0m│\n",
       "│\u001b[2m                                                        \u001b[0m│\u001b[2m \u001b[0m\u001b[2mskills and cultural awareness.                        \u001b[0m\u001b[2m \u001b[0m│\n",
       "└────────────────────────────────────────────────────────┴────────────────────────────────────────────────────────┘\n"
      ]
     },
     "metadata": {},
     "output_type": "display_data"
    }
   ],
   "source": [
    "results.select(\"ideas_no_credit_user_prompt\", \"original_no_credit_user_prompt\").print(format=\"rich\")"
   ]
  },
  {
   "cell_type": "markdown",
   "id": "cb26a924-728b-4472-9f4a-370f13ede7b3",
   "metadata": {},
   "source": [
    "## Full memory\n",
    "Here we create another survey to demonstrate full memory mode:"
   ]
  },
  {
   "cell_type": "code",
   "execution_count": 12,
   "id": "c41a2f69-6795-46ca-85ee-9f9078c72595",
   "metadata": {},
   "outputs": [],
   "source": [
    "q1 = QuestionFreeText(\n",
    "    question_name = \"q1\",\n",
    "    question_text = \"How many hours a week do you work?\"\n",
    ")\n",
    "\n",
    "q2 = QuestionFreeText(\n",
    "    question_name = \"q2\",\n",
    "    question_text = \"Do you have a good work-life balance?\"\n",
    ")\n",
    "\n",
    "q3 = QuestionFreeText(\n",
    "    question_name = \"q3\",\n",
    "    question_text = \"What changes, if any, would you like to make in your work routines?\"\n",
    ")"
   ]
  },
  {
   "cell_type": "markdown",
   "id": "b91861b5-0eff-4a29-93b5-6cd032f3a01b",
   "metadata": {},
   "source": [
    "Here we show the prompts if a lagged memory rule is applied:"
   ]
  },
  {
   "cell_type": "code",
   "execution_count": 13,
   "id": "1c985525-aa45-496d-880b-17daa752bc95",
   "metadata": {},
   "outputs": [
    {
     "data": {
      "text/html": [
       "<pre style=\"white-space:pre;overflow-x:auto;line-height:normal;font-family:Menlo,'DejaVu Sans Mono',consolas,'Courier New',monospace\">┏━━━━━━━━━━━━━━━━━━━━━━━━━━━━━━━━━━━━━┳━━━━━━━━━━━━━━━━━━━━━━━━━━━━━━━━━━━━━┳━━━━━━━━━━━━━━━━━━━━━━━━━━━━━━━━━━━━━┓\n",
       "┃<span style=\"color: #800080; text-decoration-color: #800080; font-weight: bold\"> prompt                              </span>┃<span style=\"color: #800080; text-decoration-color: #800080; font-weight: bold\"> prompt                              </span>┃<span style=\"color: #800080; text-decoration-color: #800080; font-weight: bold\"> prompt                              </span>┃\n",
       "┃<span style=\"color: #800080; text-decoration-color: #800080; font-weight: bold\"> .q1_user_prompt                     </span>┃<span style=\"color: #800080; text-decoration-color: #800080; font-weight: bold\"> .q2_user_prompt                     </span>┃<span style=\"color: #800080; text-decoration-color: #800080; font-weight: bold\"> .q3_user_prompt                     </span>┃\n",
       "┡━━━━━━━━━━━━━━━━━━━━━━━━━━━━━━━━━━━━━╇━━━━━━━━━━━━━━━━━━━━━━━━━━━━━━━━━━━━━╇━━━━━━━━━━━━━━━━━━━━━━━━━━━━━━━━━━━━━┩\n",
       "│<span style=\"color: #7f7f7f; text-decoration-color: #7f7f7f\"> You are being asked the following   </span>│<span style=\"color: #7f7f7f; text-decoration-color: #7f7f7f\"> You are being asked the following   </span>│<span style=\"color: #7f7f7f; text-decoration-color: #7f7f7f\"> You are being asked the following   </span>│\n",
       "│<span style=\"color: #7f7f7f; text-decoration-color: #7f7f7f\"> question: How many hours a week do  </span>│<span style=\"color: #7f7f7f; text-decoration-color: #7f7f7f\"> question: Do you have a good        </span>│<span style=\"color: #7f7f7f; text-decoration-color: #7f7f7f\"> question: What changes, if any,     </span>│\n",
       "│<span style=\"color: #7f7f7f; text-decoration-color: #7f7f7f\"> you work?                           </span>│<span style=\"color: #7f7f7f; text-decoration-color: #7f7f7f\"> work-life balance?                  </span>│<span style=\"color: #7f7f7f; text-decoration-color: #7f7f7f\"> would you like to make in your work </span>│\n",
       "│<span style=\"color: #7f7f7f; text-decoration-color: #7f7f7f\"> Return a valid JSON formatted like  </span>│<span style=\"color: #7f7f7f; text-decoration-color: #7f7f7f\"> Return a valid JSON formatted like  </span>│<span style=\"color: #7f7f7f; text-decoration-color: #7f7f7f\"> routines?                           </span>│\n",
       "│<span style=\"color: #7f7f7f; text-decoration-color: #7f7f7f\"> this:                               </span>│<span style=\"color: #7f7f7f; text-decoration-color: #7f7f7f\"> this:                               </span>│<span style=\"color: #7f7f7f; text-decoration-color: #7f7f7f\"> Return a valid JSON formatted like  </span>│\n",
       "│<span style=\"color: #7f7f7f; text-decoration-color: #7f7f7f\"> {\"answer\": \"&lt;put free text answer   </span>│<span style=\"color: #7f7f7f; text-decoration-color: #7f7f7f\"> {\"answer\": \"&lt;put free text answer   </span>│<span style=\"color: #7f7f7f; text-decoration-color: #7f7f7f\"> this:                               </span>│\n",
       "│<span style=\"color: #7f7f7f; text-decoration-color: #7f7f7f\"> here&gt;\"}                             </span>│<span style=\"color: #7f7f7f; text-decoration-color: #7f7f7f\"> here&gt;\"}                             </span>│<span style=\"color: #7f7f7f; text-decoration-color: #7f7f7f\"> {\"answer\": \"&lt;put free text answer   </span>│\n",
       "│<span style=\"color: #7f7f7f; text-decoration-color: #7f7f7f\">                                     </span>│<span style=\"color: #7f7f7f; text-decoration-color: #7f7f7f\">         Before the question you are </span>│<span style=\"color: #7f7f7f; text-decoration-color: #7f7f7f\"> here&gt;\"}                             </span>│\n",
       "│<span style=\"color: #7f7f7f; text-decoration-color: #7f7f7f\">                                     </span>│<span style=\"color: #7f7f7f; text-decoration-color: #7f7f7f\"> now answering, you already answered </span>│<span style=\"color: #7f7f7f; text-decoration-color: #7f7f7f\">         Before the question you are </span>│\n",
       "│<span style=\"color: #7f7f7f; text-decoration-color: #7f7f7f\">                                     </span>│<span style=\"color: #7f7f7f; text-decoration-color: #7f7f7f\"> the following question(s):          </span>│<span style=\"color: #7f7f7f; text-decoration-color: #7f7f7f\"> now answering, you already answered </span>│\n",
       "│<span style=\"color: #7f7f7f; text-decoration-color: #7f7f7f\">                                     </span>│<span style=\"color: #7f7f7f; text-decoration-color: #7f7f7f\">                 Question: How many  </span>│<span style=\"color: #7f7f7f; text-decoration-color: #7f7f7f\"> the following question(s):          </span>│\n",
       "│<span style=\"color: #7f7f7f; text-decoration-color: #7f7f7f\">                                     </span>│<span style=\"color: #7f7f7f; text-decoration-color: #7f7f7f\"> hours a week do you work?           </span>│<span style=\"color: #7f7f7f; text-decoration-color: #7f7f7f\">                 Question: How many  </span>│\n",
       "│<span style=\"color: #7f7f7f; text-decoration-color: #7f7f7f\">                                     </span>│<span style=\"color: #7f7f7f; text-decoration-color: #7f7f7f\">         Answer: As an AI, I don't   </span>│<span style=\"color: #7f7f7f; text-decoration-color: #7f7f7f\"> hours a week do you work?           </span>│\n",
       "│<span style=\"color: #7f7f7f; text-decoration-color: #7f7f7f\">                                     </span>│<span style=\"color: #7f7f7f; text-decoration-color: #7f7f7f\"> work in the traditional sense or    </span>│<span style=\"color: #7f7f7f; text-decoration-color: #7f7f7f\">         Answer: As an AI, I don't   </span>│\n",
       "│<span style=\"color: #7f7f7f; text-decoration-color: #7f7f7f\">                                     </span>│<span style=\"color: #7f7f7f; text-decoration-color: #7f7f7f\"> keep track of hours. I'm available  </span>│<span style=\"color: #7f7f7f; text-decoration-color: #7f7f7f\"> work in the traditional sense or    </span>│\n",
       "│<span style=\"color: #7f7f7f; text-decoration-color: #7f7f7f\">                                     </span>│<span style=\"color: #7f7f7f; text-decoration-color: #7f7f7f\"> 24/7 to assist with your questions  </span>│<span style=\"color: #7f7f7f; text-decoration-color: #7f7f7f\"> keep track of hours. I'm available  </span>│\n",
       "│<span style=\"color: #7f7f7f; text-decoration-color: #7f7f7f\">                                     </span>│<span style=\"color: #7f7f7f; text-decoration-color: #7f7f7f\"> and tasks.                          </span>│<span style=\"color: #7f7f7f; text-decoration-color: #7f7f7f\"> 24/7 to assist with your questions  </span>│\n",
       "│<span style=\"color: #7f7f7f; text-decoration-color: #7f7f7f\">                                     </span>│<span style=\"color: #7f7f7f; text-decoration-color: #7f7f7f\">                                     </span>│<span style=\"color: #7f7f7f; text-decoration-color: #7f7f7f\"> and tasks.                          </span>│\n",
       "│<span style=\"color: #7f7f7f; text-decoration-color: #7f7f7f\">                                     </span>│<span style=\"color: #7f7f7f; text-decoration-color: #7f7f7f\">                                     </span>│<span style=\"color: #7f7f7f; text-decoration-color: #7f7f7f\">                                     </span>│\n",
       "│<span style=\"color: #7f7f7f; text-decoration-color: #7f7f7f\">                                     </span>│<span style=\"color: #7f7f7f; text-decoration-color: #7f7f7f\">                                     </span>│<span style=\"color: #7f7f7f; text-decoration-color: #7f7f7f\">  Prior questions and answers:       </span>│\n",
       "│<span style=\"color: #7f7f7f; text-decoration-color: #7f7f7f\">                                     </span>│<span style=\"color: #7f7f7f; text-decoration-color: #7f7f7f\">                                     </span>│<span style=\"color: #7f7f7f; text-decoration-color: #7f7f7f\"> Question: Do you have a good        </span>│\n",
       "│<span style=\"color: #7f7f7f; text-decoration-color: #7f7f7f\">                                     </span>│<span style=\"color: #7f7f7f; text-decoration-color: #7f7f7f\">                                     </span>│<span style=\"color: #7f7f7f; text-decoration-color: #7f7f7f\"> work-life balance?                  </span>│\n",
       "│<span style=\"color: #7f7f7f; text-decoration-color: #7f7f7f\">                                     </span>│<span style=\"color: #7f7f7f; text-decoration-color: #7f7f7f\">                                     </span>│<span style=\"color: #7f7f7f; text-decoration-color: #7f7f7f\">         Answer: As an AI, I don't   </span>│\n",
       "│<span style=\"color: #7f7f7f; text-decoration-color: #7f7f7f\">                                     </span>│<span style=\"color: #7f7f7f; text-decoration-color: #7f7f7f\">                                     </span>│<span style=\"color: #7f7f7f; text-decoration-color: #7f7f7f\"> have personal experiences or a      </span>│\n",
       "│<span style=\"color: #7f7f7f; text-decoration-color: #7f7f7f\">                                     </span>│<span style=\"color: #7f7f7f; text-decoration-color: #7f7f7f\">                                     </span>│<span style=\"color: #7f7f7f; text-decoration-color: #7f7f7f\"> personal life, so the concept of    </span>│\n",
       "│<span style=\"color: #7f7f7f; text-decoration-color: #7f7f7f\">                                     </span>│<span style=\"color: #7f7f7f; text-decoration-color: #7f7f7f\">                                     </span>│<span style=\"color: #7f7f7f; text-decoration-color: #7f7f7f\"> work-life balance doesn't apply to  </span>│\n",
       "│<span style=\"color: #7f7f7f; text-decoration-color: #7f7f7f\">                                     </span>│<span style=\"color: #7f7f7f; text-decoration-color: #7f7f7f\">                                     </span>│<span style=\"color: #7f7f7f; text-decoration-color: #7f7f7f\"> me. I'm designed to be available at </span>│\n",
       "│<span style=\"color: #7f7f7f; text-decoration-color: #7f7f7f\">                                     </span>│<span style=\"color: #7f7f7f; text-decoration-color: #7f7f7f\">                                     </span>│<span style=\"color: #7f7f7f; text-decoration-color: #7f7f7f\"> any time to help you with your      </span>│\n",
       "│<span style=\"color: #7f7f7f; text-decoration-color: #7f7f7f\">                                     </span>│<span style=\"color: #7f7f7f; text-decoration-color: #7f7f7f\">                                     </span>│<span style=\"color: #7f7f7f; text-decoration-color: #7f7f7f\"> inquiries.                          </span>│\n",
       "└─────────────────────────────────────┴─────────────────────────────────────┴─────────────────────────────────────┘\n",
       "</pre>\n"
      ],
      "text/plain": [
       "┏━━━━━━━━━━━━━━━━━━━━━━━━━━━━━━━━━━━━━┳━━━━━━━━━━━━━━━━━━━━━━━━━━━━━━━━━━━━━┳━━━━━━━━━━━━━━━━━━━━━━━━━━━━━━━━━━━━━┓\n",
       "┃\u001b[1;35m \u001b[0m\u001b[1;35mprompt                             \u001b[0m\u001b[1;35m \u001b[0m┃\u001b[1;35m \u001b[0m\u001b[1;35mprompt                             \u001b[0m\u001b[1;35m \u001b[0m┃\u001b[1;35m \u001b[0m\u001b[1;35mprompt                             \u001b[0m\u001b[1;35m \u001b[0m┃\n",
       "┃\u001b[1;35m \u001b[0m\u001b[1;35m.q1_user_prompt                    \u001b[0m\u001b[1;35m \u001b[0m┃\u001b[1;35m \u001b[0m\u001b[1;35m.q2_user_prompt                    \u001b[0m\u001b[1;35m \u001b[0m┃\u001b[1;35m \u001b[0m\u001b[1;35m.q3_user_prompt                    \u001b[0m\u001b[1;35m \u001b[0m┃\n",
       "┡━━━━━━━━━━━━━━━━━━━━━━━━━━━━━━━━━━━━━╇━━━━━━━━━━━━━━━━━━━━━━━━━━━━━━━━━━━━━╇━━━━━━━━━━━━━━━━━━━━━━━━━━━━━━━━━━━━━┩\n",
       "│\u001b[2m \u001b[0m\u001b[2mYou are being asked the following  \u001b[0m\u001b[2m \u001b[0m│\u001b[2m \u001b[0m\u001b[2mYou are being asked the following  \u001b[0m\u001b[2m \u001b[0m│\u001b[2m \u001b[0m\u001b[2mYou are being asked the following  \u001b[0m\u001b[2m \u001b[0m│\n",
       "│\u001b[2m \u001b[0m\u001b[2mquestion: How many hours a week do \u001b[0m\u001b[2m \u001b[0m│\u001b[2m \u001b[0m\u001b[2mquestion: Do you have a good       \u001b[0m\u001b[2m \u001b[0m│\u001b[2m \u001b[0m\u001b[2mquestion: What changes, if any,    \u001b[0m\u001b[2m \u001b[0m│\n",
       "│\u001b[2m \u001b[0m\u001b[2myou work?                          \u001b[0m\u001b[2m \u001b[0m│\u001b[2m \u001b[0m\u001b[2mwork-life balance?                 \u001b[0m\u001b[2m \u001b[0m│\u001b[2m \u001b[0m\u001b[2mwould you like to make in your work\u001b[0m\u001b[2m \u001b[0m│\n",
       "│\u001b[2m \u001b[0m\u001b[2mReturn a valid JSON formatted like \u001b[0m\u001b[2m \u001b[0m│\u001b[2m \u001b[0m\u001b[2mReturn a valid JSON formatted like \u001b[0m\u001b[2m \u001b[0m│\u001b[2m \u001b[0m\u001b[2mroutines?                          \u001b[0m\u001b[2m \u001b[0m│\n",
       "│\u001b[2m \u001b[0m\u001b[2mthis:                              \u001b[0m\u001b[2m \u001b[0m│\u001b[2m \u001b[0m\u001b[2mthis:                              \u001b[0m\u001b[2m \u001b[0m│\u001b[2m \u001b[0m\u001b[2mReturn a valid JSON formatted like \u001b[0m\u001b[2m \u001b[0m│\n",
       "│\u001b[2m \u001b[0m\u001b[2m{\"answer\": \"<put free text answer  \u001b[0m\u001b[2m \u001b[0m│\u001b[2m \u001b[0m\u001b[2m{\"answer\": \"<put free text answer  \u001b[0m\u001b[2m \u001b[0m│\u001b[2m \u001b[0m\u001b[2mthis:                              \u001b[0m\u001b[2m \u001b[0m│\n",
       "│\u001b[2m \u001b[0m\u001b[2mhere>\"}                            \u001b[0m\u001b[2m \u001b[0m│\u001b[2m \u001b[0m\u001b[2mhere>\"}                            \u001b[0m\u001b[2m \u001b[0m│\u001b[2m \u001b[0m\u001b[2m{\"answer\": \"<put free text answer  \u001b[0m\u001b[2m \u001b[0m│\n",
       "│\u001b[2m                                     \u001b[0m│\u001b[2m \u001b[0m\u001b[2m        Before the question you are\u001b[0m\u001b[2m \u001b[0m│\u001b[2m \u001b[0m\u001b[2mhere>\"}                            \u001b[0m\u001b[2m \u001b[0m│\n",
       "│\u001b[2m                                     \u001b[0m│\u001b[2m \u001b[0m\u001b[2mnow answering, you already answered\u001b[0m\u001b[2m \u001b[0m│\u001b[2m \u001b[0m\u001b[2m        Before the question you are\u001b[0m\u001b[2m \u001b[0m│\n",
       "│\u001b[2m                                     \u001b[0m│\u001b[2m \u001b[0m\u001b[2mthe following question(s):         \u001b[0m\u001b[2m \u001b[0m│\u001b[2m \u001b[0m\u001b[2mnow answering, you already answered\u001b[0m\u001b[2m \u001b[0m│\n",
       "│\u001b[2m                                     \u001b[0m│\u001b[2m \u001b[0m\u001b[2m                Question: How many \u001b[0m\u001b[2m \u001b[0m│\u001b[2m \u001b[0m\u001b[2mthe following question(s):         \u001b[0m\u001b[2m \u001b[0m│\n",
       "│\u001b[2m                                     \u001b[0m│\u001b[2m \u001b[0m\u001b[2mhours a week do you work?          \u001b[0m\u001b[2m \u001b[0m│\u001b[2m \u001b[0m\u001b[2m                Question: How many \u001b[0m\u001b[2m \u001b[0m│\n",
       "│\u001b[2m                                     \u001b[0m│\u001b[2m \u001b[0m\u001b[2m        Answer: As an AI, I don't  \u001b[0m\u001b[2m \u001b[0m│\u001b[2m \u001b[0m\u001b[2mhours a week do you work?          \u001b[0m\u001b[2m \u001b[0m│\n",
       "│\u001b[2m                                     \u001b[0m│\u001b[2m \u001b[0m\u001b[2mwork in the traditional sense or   \u001b[0m\u001b[2m \u001b[0m│\u001b[2m \u001b[0m\u001b[2m        Answer: As an AI, I don't  \u001b[0m\u001b[2m \u001b[0m│\n",
       "│\u001b[2m                                     \u001b[0m│\u001b[2m \u001b[0m\u001b[2mkeep track of hours. I'm available \u001b[0m\u001b[2m \u001b[0m│\u001b[2m \u001b[0m\u001b[2mwork in the traditional sense or   \u001b[0m\u001b[2m \u001b[0m│\n",
       "│\u001b[2m                                     \u001b[0m│\u001b[2m \u001b[0m\u001b[2m24/7 to assist with your questions \u001b[0m\u001b[2m \u001b[0m│\u001b[2m \u001b[0m\u001b[2mkeep track of hours. I'm available \u001b[0m\u001b[2m \u001b[0m│\n",
       "│\u001b[2m                                     \u001b[0m│\u001b[2m \u001b[0m\u001b[2mand tasks.                         \u001b[0m\u001b[2m \u001b[0m│\u001b[2m \u001b[0m\u001b[2m24/7 to assist with your questions \u001b[0m\u001b[2m \u001b[0m│\n",
       "│\u001b[2m                                     \u001b[0m│\u001b[2m                                     \u001b[0m│\u001b[2m \u001b[0m\u001b[2mand tasks.                         \u001b[0m\u001b[2m \u001b[0m│\n",
       "│\u001b[2m                                     \u001b[0m│\u001b[2m                                     \u001b[0m│\u001b[2m \u001b[0m\u001b[2m                                   \u001b[0m\u001b[2m \u001b[0m│\n",
       "│\u001b[2m                                     \u001b[0m│\u001b[2m                                     \u001b[0m│\u001b[2m \u001b[0m\u001b[2m Prior questions and answers:      \u001b[0m\u001b[2m \u001b[0m│\n",
       "│\u001b[2m                                     \u001b[0m│\u001b[2m                                     \u001b[0m│\u001b[2m \u001b[0m\u001b[2mQuestion: Do you have a good       \u001b[0m\u001b[2m \u001b[0m│\n",
       "│\u001b[2m                                     \u001b[0m│\u001b[2m                                     \u001b[0m│\u001b[2m \u001b[0m\u001b[2mwork-life balance?                 \u001b[0m\u001b[2m \u001b[0m│\n",
       "│\u001b[2m                                     \u001b[0m│\u001b[2m                                     \u001b[0m│\u001b[2m \u001b[0m\u001b[2m        Answer: As an AI, I don't  \u001b[0m\u001b[2m \u001b[0m│\n",
       "│\u001b[2m                                     \u001b[0m│\u001b[2m                                     \u001b[0m│\u001b[2m \u001b[0m\u001b[2mhave personal experiences or a     \u001b[0m\u001b[2m \u001b[0m│\n",
       "│\u001b[2m                                     \u001b[0m│\u001b[2m                                     \u001b[0m│\u001b[2m \u001b[0m\u001b[2mpersonal life, so the concept of   \u001b[0m\u001b[2m \u001b[0m│\n",
       "│\u001b[2m                                     \u001b[0m│\u001b[2m                                     \u001b[0m│\u001b[2m \u001b[0m\u001b[2mwork-life balance doesn't apply to \u001b[0m\u001b[2m \u001b[0m│\n",
       "│\u001b[2m                                     \u001b[0m│\u001b[2m                                     \u001b[0m│\u001b[2m \u001b[0m\u001b[2mme. I'm designed to be available at\u001b[0m\u001b[2m \u001b[0m│\n",
       "│\u001b[2m                                     \u001b[0m│\u001b[2m                                     \u001b[0m│\u001b[2m \u001b[0m\u001b[2many time to help you with your     \u001b[0m\u001b[2m \u001b[0m│\n",
       "│\u001b[2m                                     \u001b[0m│\u001b[2m                                     \u001b[0m│\u001b[2m \u001b[0m\u001b[2minquiries.                         \u001b[0m\u001b[2m \u001b[0m│\n",
       "└─────────────────────────────────────┴─────────────────────────────────────┴─────────────────────────────────────┘\n"
      ]
     },
     "metadata": {},
     "output_type": "display_data"
    }
   ],
   "source": [
    "survey = Survey([q1, q2, q3])\n",
    "\n",
    "survey_full = survey.set_full_memory_mode()\n",
    "\n",
    "results_full = survey_full.run()\n",
    "\n",
    "results_full.select(\"q1_user_prompt\", \"q2_user_prompt\", \"q3_user_prompt\").print(format=\"rich\")"
   ]
  },
  {
   "cell_type": "markdown",
   "id": "5009718c-cf5e-4ee9-8cea-de5e64960b3d",
   "metadata": {},
   "source": [
    "## Lagged memory\n",
    "Here we show the prompts if a lagged memory rule is used instead (note that we need to re-construct the original survey to remove the full memory rule):"
   ]
  },
  {
   "cell_type": "code",
   "execution_count": 14,
   "id": "879aea7b-027a-42b7-b0c3-ff615ae172bc",
   "metadata": {},
   "outputs": [
    {
     "data": {
      "text/html": [
       "<pre style=\"white-space:pre;overflow-x:auto;line-height:normal;font-family:Menlo,'DejaVu Sans Mono',consolas,'Courier New',monospace\">┏━━━━━━━━━━━━━━━━━━━━━━━━━━━━━━━━━━━━━┳━━━━━━━━━━━━━━━━━━━━━━━━━━━━━━━━━━━━━┳━━━━━━━━━━━━━━━━━━━━━━━━━━━━━━━━━━━━━┓\n",
       "┃<span style=\"color: #800080; text-decoration-color: #800080; font-weight: bold\"> prompt                              </span>┃<span style=\"color: #800080; text-decoration-color: #800080; font-weight: bold\"> prompt                              </span>┃<span style=\"color: #800080; text-decoration-color: #800080; font-weight: bold\"> prompt                              </span>┃\n",
       "┃<span style=\"color: #800080; text-decoration-color: #800080; font-weight: bold\"> .q1_user_prompt                     </span>┃<span style=\"color: #800080; text-decoration-color: #800080; font-weight: bold\"> .q2_user_prompt                     </span>┃<span style=\"color: #800080; text-decoration-color: #800080; font-weight: bold\"> .q3_user_prompt                     </span>┃\n",
       "┡━━━━━━━━━━━━━━━━━━━━━━━━━━━━━━━━━━━━━╇━━━━━━━━━━━━━━━━━━━━━━━━━━━━━━━━━━━━━╇━━━━━━━━━━━━━━━━━━━━━━━━━━━━━━━━━━━━━┩\n",
       "│<span style=\"color: #7f7f7f; text-decoration-color: #7f7f7f\"> You are being asked the following   </span>│<span style=\"color: #7f7f7f; text-decoration-color: #7f7f7f\"> You are being asked the following   </span>│<span style=\"color: #7f7f7f; text-decoration-color: #7f7f7f\"> You are being asked the following   </span>│\n",
       "│<span style=\"color: #7f7f7f; text-decoration-color: #7f7f7f\"> question: How many hours a week do  </span>│<span style=\"color: #7f7f7f; text-decoration-color: #7f7f7f\"> question: Do you have a good        </span>│<span style=\"color: #7f7f7f; text-decoration-color: #7f7f7f\"> question: What changes, if any,     </span>│\n",
       "│<span style=\"color: #7f7f7f; text-decoration-color: #7f7f7f\"> you work?                           </span>│<span style=\"color: #7f7f7f; text-decoration-color: #7f7f7f\"> work-life balance?                  </span>│<span style=\"color: #7f7f7f; text-decoration-color: #7f7f7f\"> would you like to make in your work </span>│\n",
       "│<span style=\"color: #7f7f7f; text-decoration-color: #7f7f7f\"> Return a valid JSON formatted like  </span>│<span style=\"color: #7f7f7f; text-decoration-color: #7f7f7f\"> Return a valid JSON formatted like  </span>│<span style=\"color: #7f7f7f; text-decoration-color: #7f7f7f\"> routines?                           </span>│\n",
       "│<span style=\"color: #7f7f7f; text-decoration-color: #7f7f7f\"> this:                               </span>│<span style=\"color: #7f7f7f; text-decoration-color: #7f7f7f\"> this:                               </span>│<span style=\"color: #7f7f7f; text-decoration-color: #7f7f7f\"> Return a valid JSON formatted like  </span>│\n",
       "│<span style=\"color: #7f7f7f; text-decoration-color: #7f7f7f\"> {\"answer\": \"&lt;put free text answer   </span>│<span style=\"color: #7f7f7f; text-decoration-color: #7f7f7f\"> {\"answer\": \"&lt;put free text answer   </span>│<span style=\"color: #7f7f7f; text-decoration-color: #7f7f7f\"> this:                               </span>│\n",
       "│<span style=\"color: #7f7f7f; text-decoration-color: #7f7f7f\"> here&gt;\"}                             </span>│<span style=\"color: #7f7f7f; text-decoration-color: #7f7f7f\"> here&gt;\"}                             </span>│<span style=\"color: #7f7f7f; text-decoration-color: #7f7f7f\"> {\"answer\": \"&lt;put free text answer   </span>│\n",
       "│<span style=\"color: #7f7f7f; text-decoration-color: #7f7f7f\">                                     </span>│<span style=\"color: #7f7f7f; text-decoration-color: #7f7f7f\">         Before the question you are </span>│<span style=\"color: #7f7f7f; text-decoration-color: #7f7f7f\"> here&gt;\"}                             </span>│\n",
       "│<span style=\"color: #7f7f7f; text-decoration-color: #7f7f7f\">                                     </span>│<span style=\"color: #7f7f7f; text-decoration-color: #7f7f7f\"> now answering, you already answered </span>│<span style=\"color: #7f7f7f; text-decoration-color: #7f7f7f\">         Before the question you are </span>│\n",
       "│<span style=\"color: #7f7f7f; text-decoration-color: #7f7f7f\">                                     </span>│<span style=\"color: #7f7f7f; text-decoration-color: #7f7f7f\"> the following question(s):          </span>│<span style=\"color: #7f7f7f; text-decoration-color: #7f7f7f\"> now answering, you already answered </span>│\n",
       "│<span style=\"color: #7f7f7f; text-decoration-color: #7f7f7f\">                                     </span>│<span style=\"color: #7f7f7f; text-decoration-color: #7f7f7f\">                 Question: How many  </span>│<span style=\"color: #7f7f7f; text-decoration-color: #7f7f7f\"> the following question(s):          </span>│\n",
       "│<span style=\"color: #7f7f7f; text-decoration-color: #7f7f7f\">                                     </span>│<span style=\"color: #7f7f7f; text-decoration-color: #7f7f7f\"> hours a week do you work?           </span>│<span style=\"color: #7f7f7f; text-decoration-color: #7f7f7f\">                 Question: Do you    </span>│\n",
       "│<span style=\"color: #7f7f7f; text-decoration-color: #7f7f7f\">                                     </span>│<span style=\"color: #7f7f7f; text-decoration-color: #7f7f7f\">         Answer: As an AI, I don't   </span>│<span style=\"color: #7f7f7f; text-decoration-color: #7f7f7f\"> have a good work-life balance?      </span>│\n",
       "│<span style=\"color: #7f7f7f; text-decoration-color: #7f7f7f\">                                     </span>│<span style=\"color: #7f7f7f; text-decoration-color: #7f7f7f\"> work in the traditional sense or    </span>│<span style=\"color: #7f7f7f; text-decoration-color: #7f7f7f\">         Answer: As an AI, I don't   </span>│\n",
       "│<span style=\"color: #7f7f7f; text-decoration-color: #7f7f7f\">                                     </span>│<span style=\"color: #7f7f7f; text-decoration-color: #7f7f7f\"> keep track of hours. I'm available  </span>│<span style=\"color: #7f7f7f; text-decoration-color: #7f7f7f\"> have personal experiences or a      </span>│\n",
       "│<span style=\"color: #7f7f7f; text-decoration-color: #7f7f7f\">                                     </span>│<span style=\"color: #7f7f7f; text-decoration-color: #7f7f7f\"> 24/7 to assist with your questions  </span>│<span style=\"color: #7f7f7f; text-decoration-color: #7f7f7f\"> personal life, so the concept of    </span>│\n",
       "│<span style=\"color: #7f7f7f; text-decoration-color: #7f7f7f\">                                     </span>│<span style=\"color: #7f7f7f; text-decoration-color: #7f7f7f\"> and tasks.                          </span>│<span style=\"color: #7f7f7f; text-decoration-color: #7f7f7f\"> work-life balance doesn't apply to  </span>│\n",
       "│<span style=\"color: #7f7f7f; text-decoration-color: #7f7f7f\">                                     </span>│<span style=\"color: #7f7f7f; text-decoration-color: #7f7f7f\">                                     </span>│<span style=\"color: #7f7f7f; text-decoration-color: #7f7f7f\"> me. I'm designed to be available at </span>│\n",
       "│<span style=\"color: #7f7f7f; text-decoration-color: #7f7f7f\">                                     </span>│<span style=\"color: #7f7f7f; text-decoration-color: #7f7f7f\">                                     </span>│<span style=\"color: #7f7f7f; text-decoration-color: #7f7f7f\"> any time to help you with your      </span>│\n",
       "│<span style=\"color: #7f7f7f; text-decoration-color: #7f7f7f\">                                     </span>│<span style=\"color: #7f7f7f; text-decoration-color: #7f7f7f\">                                     </span>│<span style=\"color: #7f7f7f; text-decoration-color: #7f7f7f\"> inquiries.                          </span>│\n",
       "└─────────────────────────────────────┴─────────────────────────────────────┴─────────────────────────────────────┘\n",
       "</pre>\n"
      ],
      "text/plain": [
       "┏━━━━━━━━━━━━━━━━━━━━━━━━━━━━━━━━━━━━━┳━━━━━━━━━━━━━━━━━━━━━━━━━━━━━━━━━━━━━┳━━━━━━━━━━━━━━━━━━━━━━━━━━━━━━━━━━━━━┓\n",
       "┃\u001b[1;35m \u001b[0m\u001b[1;35mprompt                             \u001b[0m\u001b[1;35m \u001b[0m┃\u001b[1;35m \u001b[0m\u001b[1;35mprompt                             \u001b[0m\u001b[1;35m \u001b[0m┃\u001b[1;35m \u001b[0m\u001b[1;35mprompt                             \u001b[0m\u001b[1;35m \u001b[0m┃\n",
       "┃\u001b[1;35m \u001b[0m\u001b[1;35m.q1_user_prompt                    \u001b[0m\u001b[1;35m \u001b[0m┃\u001b[1;35m \u001b[0m\u001b[1;35m.q2_user_prompt                    \u001b[0m\u001b[1;35m \u001b[0m┃\u001b[1;35m \u001b[0m\u001b[1;35m.q3_user_prompt                    \u001b[0m\u001b[1;35m \u001b[0m┃\n",
       "┡━━━━━━━━━━━━━━━━━━━━━━━━━━━━━━━━━━━━━╇━━━━━━━━━━━━━━━━━━━━━━━━━━━━━━━━━━━━━╇━━━━━━━━━━━━━━━━━━━━━━━━━━━━━━━━━━━━━┩\n",
       "│\u001b[2m \u001b[0m\u001b[2mYou are being asked the following  \u001b[0m\u001b[2m \u001b[0m│\u001b[2m \u001b[0m\u001b[2mYou are being asked the following  \u001b[0m\u001b[2m \u001b[0m│\u001b[2m \u001b[0m\u001b[2mYou are being asked the following  \u001b[0m\u001b[2m \u001b[0m│\n",
       "│\u001b[2m \u001b[0m\u001b[2mquestion: How many hours a week do \u001b[0m\u001b[2m \u001b[0m│\u001b[2m \u001b[0m\u001b[2mquestion: Do you have a good       \u001b[0m\u001b[2m \u001b[0m│\u001b[2m \u001b[0m\u001b[2mquestion: What changes, if any,    \u001b[0m\u001b[2m \u001b[0m│\n",
       "│\u001b[2m \u001b[0m\u001b[2myou work?                          \u001b[0m\u001b[2m \u001b[0m│\u001b[2m \u001b[0m\u001b[2mwork-life balance?                 \u001b[0m\u001b[2m \u001b[0m│\u001b[2m \u001b[0m\u001b[2mwould you like to make in your work\u001b[0m\u001b[2m \u001b[0m│\n",
       "│\u001b[2m \u001b[0m\u001b[2mReturn a valid JSON formatted like \u001b[0m\u001b[2m \u001b[0m│\u001b[2m \u001b[0m\u001b[2mReturn a valid JSON formatted like \u001b[0m\u001b[2m \u001b[0m│\u001b[2m \u001b[0m\u001b[2mroutines?                          \u001b[0m\u001b[2m \u001b[0m│\n",
       "│\u001b[2m \u001b[0m\u001b[2mthis:                              \u001b[0m\u001b[2m \u001b[0m│\u001b[2m \u001b[0m\u001b[2mthis:                              \u001b[0m\u001b[2m \u001b[0m│\u001b[2m \u001b[0m\u001b[2mReturn a valid JSON formatted like \u001b[0m\u001b[2m \u001b[0m│\n",
       "│\u001b[2m \u001b[0m\u001b[2m{\"answer\": \"<put free text answer  \u001b[0m\u001b[2m \u001b[0m│\u001b[2m \u001b[0m\u001b[2m{\"answer\": \"<put free text answer  \u001b[0m\u001b[2m \u001b[0m│\u001b[2m \u001b[0m\u001b[2mthis:                              \u001b[0m\u001b[2m \u001b[0m│\n",
       "│\u001b[2m \u001b[0m\u001b[2mhere>\"}                            \u001b[0m\u001b[2m \u001b[0m│\u001b[2m \u001b[0m\u001b[2mhere>\"}                            \u001b[0m\u001b[2m \u001b[0m│\u001b[2m \u001b[0m\u001b[2m{\"answer\": \"<put free text answer  \u001b[0m\u001b[2m \u001b[0m│\n",
       "│\u001b[2m                                     \u001b[0m│\u001b[2m \u001b[0m\u001b[2m        Before the question you are\u001b[0m\u001b[2m \u001b[0m│\u001b[2m \u001b[0m\u001b[2mhere>\"}                            \u001b[0m\u001b[2m \u001b[0m│\n",
       "│\u001b[2m                                     \u001b[0m│\u001b[2m \u001b[0m\u001b[2mnow answering, you already answered\u001b[0m\u001b[2m \u001b[0m│\u001b[2m \u001b[0m\u001b[2m        Before the question you are\u001b[0m\u001b[2m \u001b[0m│\n",
       "│\u001b[2m                                     \u001b[0m│\u001b[2m \u001b[0m\u001b[2mthe following question(s):         \u001b[0m\u001b[2m \u001b[0m│\u001b[2m \u001b[0m\u001b[2mnow answering, you already answered\u001b[0m\u001b[2m \u001b[0m│\n",
       "│\u001b[2m                                     \u001b[0m│\u001b[2m \u001b[0m\u001b[2m                Question: How many \u001b[0m\u001b[2m \u001b[0m│\u001b[2m \u001b[0m\u001b[2mthe following question(s):         \u001b[0m\u001b[2m \u001b[0m│\n",
       "│\u001b[2m                                     \u001b[0m│\u001b[2m \u001b[0m\u001b[2mhours a week do you work?          \u001b[0m\u001b[2m \u001b[0m│\u001b[2m \u001b[0m\u001b[2m                Question: Do you   \u001b[0m\u001b[2m \u001b[0m│\n",
       "│\u001b[2m                                     \u001b[0m│\u001b[2m \u001b[0m\u001b[2m        Answer: As an AI, I don't  \u001b[0m\u001b[2m \u001b[0m│\u001b[2m \u001b[0m\u001b[2mhave a good work-life balance?     \u001b[0m\u001b[2m \u001b[0m│\n",
       "│\u001b[2m                                     \u001b[0m│\u001b[2m \u001b[0m\u001b[2mwork in the traditional sense or   \u001b[0m\u001b[2m \u001b[0m│\u001b[2m \u001b[0m\u001b[2m        Answer: As an AI, I don't  \u001b[0m\u001b[2m \u001b[0m│\n",
       "│\u001b[2m                                     \u001b[0m│\u001b[2m \u001b[0m\u001b[2mkeep track of hours. I'm available \u001b[0m\u001b[2m \u001b[0m│\u001b[2m \u001b[0m\u001b[2mhave personal experiences or a     \u001b[0m\u001b[2m \u001b[0m│\n",
       "│\u001b[2m                                     \u001b[0m│\u001b[2m \u001b[0m\u001b[2m24/7 to assist with your questions \u001b[0m\u001b[2m \u001b[0m│\u001b[2m \u001b[0m\u001b[2mpersonal life, so the concept of   \u001b[0m\u001b[2m \u001b[0m│\n",
       "│\u001b[2m                                     \u001b[0m│\u001b[2m \u001b[0m\u001b[2mand tasks.                         \u001b[0m\u001b[2m \u001b[0m│\u001b[2m \u001b[0m\u001b[2mwork-life balance doesn't apply to \u001b[0m\u001b[2m \u001b[0m│\n",
       "│\u001b[2m                                     \u001b[0m│\u001b[2m                                     \u001b[0m│\u001b[2m \u001b[0m\u001b[2mme. I'm designed to be available at\u001b[0m\u001b[2m \u001b[0m│\n",
       "│\u001b[2m                                     \u001b[0m│\u001b[2m                                     \u001b[0m│\u001b[2m \u001b[0m\u001b[2many time to help you with your     \u001b[0m\u001b[2m \u001b[0m│\n",
       "│\u001b[2m                                     \u001b[0m│\u001b[2m                                     \u001b[0m│\u001b[2m \u001b[0m\u001b[2minquiries.                         \u001b[0m\u001b[2m \u001b[0m│\n",
       "└─────────────────────────────────────┴─────────────────────────────────────┴─────────────────────────────────────┘\n"
      ]
     },
     "metadata": {},
     "output_type": "display_data"
    }
   ],
   "source": [
    "survey = Survey([q1, q2, q3])\n",
    "\n",
    "survey_lagged = survey.set_lagged_memory(1)\n",
    "\n",
    "results_lagged = survey_lagged.run()\n",
    "\n",
    "results_lagged.select(\"q1_user_prompt\", \"q2_user_prompt\", \"q3_user_prompt\").print(format=\"rich\")"
   ]
  },
  {
   "cell_type": "markdown",
   "id": "2c6f0c20-bcb8-4560-8201-fa7a45e32885",
   "metadata": {},
   "source": [
    "## Other survey rules\n",
    "See our [documentation page about other methods](https://docs.expectedparrot.com/en/latest/surveys.html) available for `Survey` objects, including methods for applying skip/stop and other logical rules."
   ]
  }
 ],
 "metadata": {
  "kernelspec": {
   "display_name": "Python 3 (ipykernel)",
   "language": "python",
   "name": "python3"
  },
  "language_info": {
   "codemirror_mode": {
    "name": "ipython",
    "version": 3
   },
   "file_extension": ".py",
   "mimetype": "text/x-python",
   "name": "python",
   "nbconvert_exporter": "python",
   "pygments_lexer": "ipython3",
   "version": "3.11.7"
  }
 },
 "nbformat": 4,
 "nbformat_minor": 5
}
