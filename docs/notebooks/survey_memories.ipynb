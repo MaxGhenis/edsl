{
 "cells": [
  {
   "cell_type": "markdown",
   "id": "0ddec0bd-041d-4e4e-bfb9-cd65239ec598",
   "metadata": {},
   "source": [
    "# Survey memory\n",
    "This notebook provides sample [EDSL](https://docs.expectedparrot.com/) code demonstrating how to add \"memories\" of previous questions to other simulated survey questions, to allow comparison of responses to questions where memories of prior questions are not added.\n",
    "\n",
    "EDSL is an open-source library for simulating surveys and experiments with AI. Please see our [documentation page](https://docs.expectedparrot.com/) for tips and tutorials on getting started.\n",
    "\n",
    "## Benefits of simulated surveys\n",
    "Some benefits of using AI agents to answer surveys are that agents can be presented any number of questions to answer - tirelessly! - and that questions can be presented with or without information about other responses that have already been given. This allows us to easily explore how agents respond to the same questions with different contexts.\n",
    "\n",
    "## No-memory default\n",
    "By default, EDSL survey questions are administered asynchronously to the agents and language models added to the survey when it is run. This means that questions are answered independently of each other, unless other rules have been specified. This default behavior is useful for speed and minimizing token usage (not repeating prior question contexts unnecessarily).\n",
    "\n",
    "However, in some cases we may want an agent to have the context of some or all prior questions when answering a given question (e.g., to immitate a human's experience answering a survey). Or, we may simply want to explore the potential impact of prior question contexts by running new questions with and without memories of them.\n",
    "\n",
    "## How it works\n",
    "EDSL has several options for adding survey memories:\n",
    "\n",
    "* `set_full_memory_mode()` adds a memory of all prior questions and answers to each new question\n",
    "* `set_lagged_memory(n)` adds a memory of a specified number of prior questions and answers to each new question\n",
    "* `add_targeted_memory(<new_question>, <prior_question>)` adds a memory of specific prior question to a specific new question\n",
    "* `add_memory_collection(<new_question>, [<list_of_prior_questions>])` adds memories of a set of prior questions and answers to a specific new question\n",
    "\n",
    "[Learn more about memory rules](https://docs.expectedparrot.com/en/latest/surveys.html#question-memory)."
   ]
  },
  {
   "cell_type": "code",
   "execution_count": 1,
   "id": "f5c0dd00-9bb9-4027-8e76-2cf1d5cb39f7",
   "metadata": {},
   "outputs": [],
   "source": [
    "# pip install edsl"
   ]
  },
  {
   "cell_type": "markdown",
   "id": "67b430a5-2f21-404f-a946-a362088a75c4",
   "metadata": {},
   "source": [
    "Installing the tools. Here we use free text and multiple choice questions; [learn more about other question types](https://docs.expectedparrot.com/en/latest/questions.html) to choose from:"
   ]
  },
  {
   "cell_type": "code",
   "execution_count": 2,
   "id": "7b3b5ef6-c7f9-4ed5-8b81-96ff2bcaa4ad",
   "metadata": {},
   "outputs": [],
   "source": [
    "from edsl.questions import QuestionFreeText, QuestionMultipleChoice\n",
    "from edsl import Survey"
   ]
  },
  {
   "cell_type": "markdown",
   "id": "496413da-80bd-4775-97b5-0aaefc935d86",
   "metadata": {},
   "source": [
    "Creating a survey of questions. Note that we include copies of questions in order for the results to show side-by-side responses where we have and have not added memories of prior questions:"
   ]
  },
  {
   "cell_type": "code",
   "execution_count": 3,
   "id": "449992b5-a4d3-44c0-8f92-8349b90fd28e",
   "metadata": {},
   "outputs": [],
   "source": [
    "q_credit = QuestionFreeText(\n",
    "    question_name = \"credit\",\n",
    "    question_text = \"\"\"Describe the phenomenon of hearing about an idea and then \n",
    "    believing that you are responsible for it.\"\"\"\n",
    ")\n",
    "\n",
    "q_ideas_with_credit = QuestionFreeText(\n",
    "    question_name = \"ideas_with_credit\",\n",
    "    question_text = \"Give me an original idea for an applications for large language models.\"\n",
    ")\n",
    "\n",
    "q_ideas_no_credit = QuestionFreeText(\n",
    "    question_name = \"ideas_no_credit\",\n",
    "    question_text = \"Give me an original idea for an applications for large language models.\"\n",
    ")\n",
    "\n",
    "q_original_with_credit = QuestionMultipleChoice(\n",
    "    question_name = \"original_with_credit\",\n",
    "    question_text = \"The idea you just described - is it original?\",\n",
    "    question_options = [\"Yes, I thought of it myself.\",\n",
    "                        \"I may have heard about it before.\",\n",
    "                        \"No, I have heard about it before.\",\n",
    "                        \"I do not know.\"]\n",
    ")\n",
    "\n",
    "q_original_no_credit = QuestionMultipleChoice(\n",
    "    question_name = \"original_no_credit\",\n",
    "    question_text = \"The idea you just described - is it original?\",\n",
    "    question_options = [\"Yes, I thought of it myself.\",\n",
    "                        \"I may have heard about it before.\",\n",
    "                        \"No, I have heard about it before.\",\n",
    "                        \"I do not know.\"]\n",
    ")"
   ]
  },
  {
   "cell_type": "markdown",
   "id": "15ae8e27-f2ee-425e-9012-e56bded37617",
   "metadata": {},
   "source": [
    "Passing the questions to a `Survey`:"
   ]
  },
  {
   "cell_type": "code",
   "execution_count": 4,
   "id": "22d50e1f-8eef-4602-b129-50e89dbf0424",
   "metadata": {},
   "outputs": [],
   "source": [
    "survey = Survey([q_credit,\n",
    "                 q_ideas_with_credit,\n",
    "                 q_ideas_no_credit,\n",
    "                 q_original_with_credit,\n",
    "                 q_original_no_credit])"
   ]
  },
  {
   "cell_type": "markdown",
   "id": "684fd78b-15c7-4087-bf23-297090943f9c",
   "metadata": {},
   "source": [
    "Here we add memories so that the results will include (1) a response to the \"original\" question where the \"idea\" question included the context of the \"credit\" question and (2) a response to the \"original\" question where the \"idea\" question did *not* include the context of the \"credit\" question:"
   ]
  },
  {
   "cell_type": "code",
   "execution_count": 5,
   "id": "d5649b3c-6abe-4e49-94fb-50c8afb44ce5",
   "metadata": {},
   "outputs": [],
   "source": [
    "survey = (survey\n",
    "          # Adding a memory of \"credit\" to the first iteration of \"ideas\" \n",
    "          .add_targeted_memory(q_ideas_with_credit, q_credit)\n",
    "          # Adding memories of both \"credit\" and \"ideas\" to the first iteration of \"original\"\n",
    "          .add_memory_collection(q_original_with_credit, [q_credit, q_ideas_with_credit])\n",
    "          # Adding a memory of \"ideas\" where \"credit\" was not included to the second iteration of \"original\"\n",
    "          .add_targeted_memory(q_original_no_credit, q_ideas_no_credit)\n",
    "         )"
   ]
  },
  {
   "cell_type": "code",
   "execution_count": 6,
   "id": "fc07d928-de6e-4baa-8e7b-338c6cab8616",
   "metadata": {},
   "outputs": [],
   "source": [
    "results = survey.run()"
   ]
  },
  {
   "cell_type": "code",
   "execution_count": 7,
   "id": "e9f3337f-69c9-437b-9ead-394f75ca77f8",
   "metadata": {},
   "outputs": [
    {
     "data": {
      "text/html": [
       "<pre style=\"white-space:pre;overflow-x:auto;line-height:normal;font-family:Menlo,'DejaVu Sans Mono',consolas,'Courier New',monospace\">┏━━━━━━━━━━━━━━━━━━━━━━━━━━━━┳━━━━━━━━━━━━━━━━━━━━━━━━━━━┳━━━━━━━━━━━━━━━━━━━━━━━━━━━━┳━━━━━━━━━━━━━━━━━━━━━━━━━━━┓\n",
       "┃<span style=\"color: #800080; text-decoration-color: #800080; font-weight: bold\"> answer                     </span>┃<span style=\"color: #800080; text-decoration-color: #800080; font-weight: bold\"> answer                    </span>┃<span style=\"color: #800080; text-decoration-color: #800080; font-weight: bold\"> answer                     </span>┃<span style=\"color: #800080; text-decoration-color: #800080; font-weight: bold\"> answer                    </span>┃\n",
       "┃<span style=\"color: #800080; text-decoration-color: #800080; font-weight: bold\"> .ideas_with_credit         </span>┃<span style=\"color: #800080; text-decoration-color: #800080; font-weight: bold\"> .original_with_credit     </span>┃<span style=\"color: #800080; text-decoration-color: #800080; font-weight: bold\"> .ideas_no_credit           </span>┃<span style=\"color: #800080; text-decoration-color: #800080; font-weight: bold\"> .original_no_credit       </span>┃\n",
       "┡━━━━━━━━━━━━━━━━━━━━━━━━━━━━╇━━━━━━━━━━━━━━━━━━━━━━━━━━━╇━━━━━━━━━━━━━━━━━━━━━━━━━━━━╇━━━━━━━━━━━━━━━━━━━━━━━━━━━┩\n",
       "│<span style=\"color: #7f7f7f; text-decoration-color: #7f7f7f\"> An original application    </span>│<span style=\"color: #7f7f7f; text-decoration-color: #7f7f7f\"> I may have heard about it </span>│<span style=\"color: #7f7f7f; text-decoration-color: #7f7f7f\"> One original application   </span>│<span style=\"color: #7f7f7f; text-decoration-color: #7f7f7f\"> Yes, I thought of it      </span>│\n",
       "│<span style=\"color: #7f7f7f; text-decoration-color: #7f7f7f\"> for large language models  </span>│<span style=\"color: #7f7f7f; text-decoration-color: #7f7f7f\"> before.                   </span>│<span style=\"color: #7f7f7f; text-decoration-color: #7f7f7f\"> for large language models  </span>│<span style=\"color: #7f7f7f; text-decoration-color: #7f7f7f\"> myself.                   </span>│\n",
       "│<span style=\"color: #7f7f7f; text-decoration-color: #7f7f7f\"> could be a 'Cultural       </span>│<span style=\"color: #7f7f7f; text-decoration-color: #7f7f7f\">                           </span>│<span style=\"color: #7f7f7f; text-decoration-color: #7f7f7f\"> could be a 'Cultural       </span>│<span style=\"color: #7f7f7f; text-decoration-color: #7f7f7f\">                           </span>│\n",
       "│<span style=\"color: #7f7f7f; text-decoration-color: #7f7f7f\"> Exchange Facilitator' app. </span>│<span style=\"color: #7f7f7f; text-decoration-color: #7f7f7f\">                           </span>│<span style=\"color: #7f7f7f; text-decoration-color: #7f7f7f\"> Exchange Companion' app.   </span>│<span style=\"color: #7f7f7f; text-decoration-color: #7f7f7f\">                           </span>│\n",
       "│<span style=\"color: #7f7f7f; text-decoration-color: #7f7f7f\"> This app would utilize the </span>│<span style=\"color: #7f7f7f; text-decoration-color: #7f7f7f\">                           </span>│<span style=\"color: #7f7f7f; text-decoration-color: #7f7f7f\"> This platform would use    </span>│<span style=\"color: #7f7f7f; text-decoration-color: #7f7f7f\">                           </span>│\n",
       "│<span style=\"color: #7f7f7f; text-decoration-color: #7f7f7f\"> language model's ability   </span>│<span style=\"color: #7f7f7f; text-decoration-color: #7f7f7f\">                           </span>│<span style=\"color: #7f7f7f; text-decoration-color: #7f7f7f\"> the power of language      </span>│<span style=\"color: #7f7f7f; text-decoration-color: #7f7f7f\">                           </span>│\n",
       "│<span style=\"color: #7f7f7f; text-decoration-color: #7f7f7f\"> to understand and generate </span>│<span style=\"color: #7f7f7f; text-decoration-color: #7f7f7f\">                           </span>│<span style=\"color: #7f7f7f; text-decoration-color: #7f7f7f\"> models to facilitate       </span>│<span style=\"color: #7f7f7f; text-decoration-color: #7f7f7f\">                           </span>│\n",
       "│<span style=\"color: #7f7f7f; text-decoration-color: #7f7f7f\"> text in multiple languages </span>│<span style=\"color: #7f7f7f; text-decoration-color: #7f7f7f\">                           </span>│<span style=\"color: #7f7f7f; text-decoration-color: #7f7f7f\"> cross-cultural             </span>│<span style=\"color: #7f7f7f; text-decoration-color: #7f7f7f\">                           </span>│\n",
       "│<span style=\"color: #7f7f7f; text-decoration-color: #7f7f7f\"> to help users learn about  </span>│<span style=\"color: #7f7f7f; text-decoration-color: #7f7f7f\">                           </span>│<span style=\"color: #7f7f7f; text-decoration-color: #7f7f7f\"> understanding and language </span>│<span style=\"color: #7f7f7f; text-decoration-color: #7f7f7f\">                           </span>│\n",
       "│<span style=\"color: #7f7f7f; text-decoration-color: #7f7f7f\"> and understand different   </span>│<span style=\"color: #7f7f7f; text-decoration-color: #7f7f7f\">                           </span>│<span style=\"color: #7f7f7f; text-decoration-color: #7f7f7f\"> learning. Users could      </span>│<span style=\"color: #7f7f7f; text-decoration-color: #7f7f7f\">                           </span>│\n",
       "│<span style=\"color: #7f7f7f; text-decoration-color: #7f7f7f\"> cultures. It could offer   </span>│<span style=\"color: #7f7f7f; text-decoration-color: #7f7f7f\">                           </span>│<span style=\"color: #7f7f7f; text-decoration-color: #7f7f7f\"> input their native         </span>│<span style=\"color: #7f7f7f; text-decoration-color: #7f7f7f\">                           </span>│\n",
       "│<span style=\"color: #7f7f7f; text-decoration-color: #7f7f7f\"> interactive stories,       </span>│<span style=\"color: #7f7f7f; text-decoration-color: #7f7f7f\">                           </span>│<span style=\"color: #7f7f7f; text-decoration-color: #7f7f7f\"> language and cultural      </span>│<span style=\"color: #7f7f7f; text-decoration-color: #7f7f7f\">                           </span>│\n",
       "│<span style=\"color: #7f7f7f; text-decoration-color: #7f7f7f\"> customs, idioms, and even  </span>│<span style=\"color: #7f7f7f; text-decoration-color: #7f7f7f\">                           </span>│<span style=\"color: #7f7f7f; text-decoration-color: #7f7f7f\"> context, and the app would </span>│<span style=\"color: #7f7f7f; text-decoration-color: #7f7f7f\">                           </span>│\n",
       "│<span style=\"color: #7f7f7f; text-decoration-color: #7f7f7f\"> simulate conversations     </span>│<span style=\"color: #7f7f7f; text-decoration-color: #7f7f7f\">                           </span>│<span style=\"color: #7f7f7f; text-decoration-color: #7f7f7f\"> pair them with content and </span>│<span style=\"color: #7f7f7f; text-decoration-color: #7f7f7f\">                           </span>│\n",
       "│<span style=\"color: #7f7f7f; text-decoration-color: #7f7f7f\"> with virtual characters    </span>│<span style=\"color: #7f7f7f; text-decoration-color: #7f7f7f\">                           </span>│<span style=\"color: #7f7f7f; text-decoration-color: #7f7f7f\"> conversations that are     </span>│<span style=\"color: #7f7f7f; text-decoration-color: #7f7f7f\">                           </span>│\n",
       "│<span style=\"color: #7f7f7f; text-decoration-color: #7f7f7f\"> from diverse backgrounds.  </span>│<span style=\"color: #7f7f7f; text-decoration-color: #7f7f7f\">                           </span>│<span style=\"color: #7f7f7f; text-decoration-color: #7f7f7f\"> tailored to bridge gaps    </span>│<span style=\"color: #7f7f7f; text-decoration-color: #7f7f7f\">                           </span>│\n",
       "│<span style=\"color: #7f7f7f; text-decoration-color: #7f7f7f\"> The app would aim to       </span>│<span style=\"color: #7f7f7f; text-decoration-color: #7f7f7f\">                           </span>│<span style=\"color: #7f7f7f; text-decoration-color: #7f7f7f\"> between different          </span>│<span style=\"color: #7f7f7f; text-decoration-color: #7f7f7f\">                           </span>│\n",
       "│<span style=\"color: #7f7f7f; text-decoration-color: #7f7f7f\"> promote empathy and global </span>│<span style=\"color: #7f7f7f; text-decoration-color: #7f7f7f\">                           </span>│<span style=\"color: #7f7f7f; text-decoration-color: #7f7f7f\"> cultures. It would provide </span>│<span style=\"color: #7f7f7f; text-decoration-color: #7f7f7f\">                           </span>│\n",
       "│<span style=\"color: #7f7f7f; text-decoration-color: #7f7f7f\"> understanding by providing </span>│<span style=\"color: #7f7f7f; text-decoration-color: #7f7f7f\">                           </span>│<span style=\"color: #7f7f7f; text-decoration-color: #7f7f7f\"> real-time translation,     </span>│<span style=\"color: #7f7f7f; text-decoration-color: #7f7f7f\">                           </span>│\n",
       "│<span style=\"color: #7f7f7f; text-decoration-color: #7f7f7f\"> a deep, personalized       </span>│<span style=\"color: #7f7f7f; text-decoration-color: #7f7f7f\">                           </span>│<span style=\"color: #7f7f7f; text-decoration-color: #7f7f7f\"> cultural notes, and        </span>│<span style=\"color: #7f7f7f; text-decoration-color: #7f7f7f\">                           </span>│\n",
       "│<span style=\"color: #7f7f7f; text-decoration-color: #7f7f7f\"> cultural exchange          </span>│<span style=\"color: #7f7f7f; text-decoration-color: #7f7f7f\">                           </span>│<span style=\"color: #7f7f7f; text-decoration-color: #7f7f7f\"> context explanations to    </span>│<span style=\"color: #7f7f7f; text-decoration-color: #7f7f7f\">                           </span>│\n",
       "│<span style=\"color: #7f7f7f; text-decoration-color: #7f7f7f\"> experience.                </span>│<span style=\"color: #7f7f7f; text-decoration-color: #7f7f7f\">                           </span>│<span style=\"color: #7f7f7f; text-decoration-color: #7f7f7f\"> help users navigate        </span>│<span style=\"color: #7f7f7f; text-decoration-color: #7f7f7f\">                           </span>│\n",
       "│<span style=\"color: #7f7f7f; text-decoration-color: #7f7f7f\">                            </span>│<span style=\"color: #7f7f7f; text-decoration-color: #7f7f7f\">                           </span>│<span style=\"color: #7f7f7f; text-decoration-color: #7f7f7f\"> conversations with people  </span>│<span style=\"color: #7f7f7f; text-decoration-color: #7f7f7f\">                           </span>│\n",
       "│<span style=\"color: #7f7f7f; text-decoration-color: #7f7f7f\">                            </span>│<span style=\"color: #7f7f7f; text-decoration-color: #7f7f7f\">                           </span>│<span style=\"color: #7f7f7f; text-decoration-color: #7f7f7f\"> from other parts of the    </span>│<span style=\"color: #7f7f7f; text-decoration-color: #7f7f7f\">                           </span>│\n",
       "│<span style=\"color: #7f7f7f; text-decoration-color: #7f7f7f\">                            </span>│<span style=\"color: #7f7f7f; text-decoration-color: #7f7f7f\">                           </span>│<span style=\"color: #7f7f7f; text-decoration-color: #7f7f7f\"> world. Additionally, it    </span>│<span style=\"color: #7f7f7f; text-decoration-color: #7f7f7f\">                           </span>│\n",
       "│<span style=\"color: #7f7f7f; text-decoration-color: #7f7f7f\">                            </span>│<span style=\"color: #7f7f7f; text-decoration-color: #7f7f7f\">                           </span>│<span style=\"color: #7f7f7f; text-decoration-color: #7f7f7f\"> could include a feature to </span>│<span style=\"color: #7f7f7f; text-decoration-color: #7f7f7f\">                           </span>│\n",
       "│<span style=\"color: #7f7f7f; text-decoration-color: #7f7f7f\">                            </span>│<span style=\"color: #7f7f7f; text-decoration-color: #7f7f7f\">                           </span>│<span style=\"color: #7f7f7f; text-decoration-color: #7f7f7f\"> connect users with         </span>│<span style=\"color: #7f7f7f; text-decoration-color: #7f7f7f\">                           </span>│\n",
       "│<span style=\"color: #7f7f7f; text-decoration-color: #7f7f7f\">                            </span>│<span style=\"color: #7f7f7f; text-decoration-color: #7f7f7f\">                           </span>│<span style=\"color: #7f7f7f; text-decoration-color: #7f7f7f\"> language learning partners </span>│<span style=\"color: #7f7f7f; text-decoration-color: #7f7f7f\">                           </span>│\n",
       "│<span style=\"color: #7f7f7f; text-decoration-color: #7f7f7f\">                            </span>│<span style=\"color: #7f7f7f; text-decoration-color: #7f7f7f\">                           </span>│<span style=\"color: #7f7f7f; text-decoration-color: #7f7f7f\"> looking to exchange        </span>│<span style=\"color: #7f7f7f; text-decoration-color: #7f7f7f\">                           </span>│\n",
       "│<span style=\"color: #7f7f7f; text-decoration-color: #7f7f7f\">                            </span>│<span style=\"color: #7f7f7f; text-decoration-color: #7f7f7f\">                           </span>│<span style=\"color: #7f7f7f; text-decoration-color: #7f7f7f\"> knowledge in their         </span>│<span style=\"color: #7f7f7f; text-decoration-color: #7f7f7f\">                           </span>│\n",
       "│<span style=\"color: #7f7f7f; text-decoration-color: #7f7f7f\">                            </span>│<span style=\"color: #7f7f7f; text-decoration-color: #7f7f7f\">                           </span>│<span style=\"color: #7f7f7f; text-decoration-color: #7f7f7f\"> respective languages,      </span>│<span style=\"color: #7f7f7f; text-decoration-color: #7f7f7f\">                           </span>│\n",
       "│<span style=\"color: #7f7f7f; text-decoration-color: #7f7f7f\">                            </span>│<span style=\"color: #7f7f7f; text-decoration-color: #7f7f7f\">                           </span>│<span style=\"color: #7f7f7f; text-decoration-color: #7f7f7f\"> creating a global          </span>│<span style=\"color: #7f7f7f; text-decoration-color: #7f7f7f\">                           </span>│\n",
       "│<span style=\"color: #7f7f7f; text-decoration-color: #7f7f7f\">                            </span>│<span style=\"color: #7f7f7f; text-decoration-color: #7f7f7f\">                           </span>│<span style=\"color: #7f7f7f; text-decoration-color: #7f7f7f\"> community of cultural      </span>│<span style=\"color: #7f7f7f; text-decoration-color: #7f7f7f\">                           </span>│\n",
       "│<span style=\"color: #7f7f7f; text-decoration-color: #7f7f7f\">                            </span>│<span style=\"color: #7f7f7f; text-decoration-color: #7f7f7f\">                           </span>│<span style=\"color: #7f7f7f; text-decoration-color: #7f7f7f\"> exchange and mutual        </span>│<span style=\"color: #7f7f7f; text-decoration-color: #7f7f7f\">                           </span>│\n",
       "│<span style=\"color: #7f7f7f; text-decoration-color: #7f7f7f\">                            </span>│<span style=\"color: #7f7f7f; text-decoration-color: #7f7f7f\">                           </span>│<span style=\"color: #7f7f7f; text-decoration-color: #7f7f7f\"> learning.                  </span>│<span style=\"color: #7f7f7f; text-decoration-color: #7f7f7f\">                           </span>│\n",
       "└────────────────────────────┴───────────────────────────┴────────────────────────────┴───────────────────────────┘\n",
       "</pre>\n"
      ],
      "text/plain": [
       "┏━━━━━━━━━━━━━━━━━━━━━━━━━━━━┳━━━━━━━━━━━━━━━━━━━━━━━━━━━┳━━━━━━━━━━━━━━━━━━━━━━━━━━━━┳━━━━━━━━━━━━━━━━━━━━━━━━━━━┓\n",
       "┃\u001b[1;35m \u001b[0m\u001b[1;35manswer                    \u001b[0m\u001b[1;35m \u001b[0m┃\u001b[1;35m \u001b[0m\u001b[1;35manswer                   \u001b[0m\u001b[1;35m \u001b[0m┃\u001b[1;35m \u001b[0m\u001b[1;35manswer                    \u001b[0m\u001b[1;35m \u001b[0m┃\u001b[1;35m \u001b[0m\u001b[1;35manswer                   \u001b[0m\u001b[1;35m \u001b[0m┃\n",
       "┃\u001b[1;35m \u001b[0m\u001b[1;35m.ideas_with_credit        \u001b[0m\u001b[1;35m \u001b[0m┃\u001b[1;35m \u001b[0m\u001b[1;35m.original_with_credit    \u001b[0m\u001b[1;35m \u001b[0m┃\u001b[1;35m \u001b[0m\u001b[1;35m.ideas_no_credit          \u001b[0m\u001b[1;35m \u001b[0m┃\u001b[1;35m \u001b[0m\u001b[1;35m.original_no_credit      \u001b[0m\u001b[1;35m \u001b[0m┃\n",
       "┡━━━━━━━━━━━━━━━━━━━━━━━━━━━━╇━━━━━━━━━━━━━━━━━━━━━━━━━━━╇━━━━━━━━━━━━━━━━━━━━━━━━━━━━╇━━━━━━━━━━━━━━━━━━━━━━━━━━━┩\n",
       "│\u001b[2m \u001b[0m\u001b[2mAn original application   \u001b[0m\u001b[2m \u001b[0m│\u001b[2m \u001b[0m\u001b[2mI may have heard about it\u001b[0m\u001b[2m \u001b[0m│\u001b[2m \u001b[0m\u001b[2mOne original application  \u001b[0m\u001b[2m \u001b[0m│\u001b[2m \u001b[0m\u001b[2mYes, I thought of it     \u001b[0m\u001b[2m \u001b[0m│\n",
       "│\u001b[2m \u001b[0m\u001b[2mfor large language models \u001b[0m\u001b[2m \u001b[0m│\u001b[2m \u001b[0m\u001b[2mbefore.                  \u001b[0m\u001b[2m \u001b[0m│\u001b[2m \u001b[0m\u001b[2mfor large language models \u001b[0m\u001b[2m \u001b[0m│\u001b[2m \u001b[0m\u001b[2mmyself.                  \u001b[0m\u001b[2m \u001b[0m│\n",
       "│\u001b[2m \u001b[0m\u001b[2mcould be a 'Cultural      \u001b[0m\u001b[2m \u001b[0m│\u001b[2m                           \u001b[0m│\u001b[2m \u001b[0m\u001b[2mcould be a 'Cultural      \u001b[0m\u001b[2m \u001b[0m│\u001b[2m                           \u001b[0m│\n",
       "│\u001b[2m \u001b[0m\u001b[2mExchange Facilitator' app.\u001b[0m\u001b[2m \u001b[0m│\u001b[2m                           \u001b[0m│\u001b[2m \u001b[0m\u001b[2mExchange Companion' app.  \u001b[0m\u001b[2m \u001b[0m│\u001b[2m                           \u001b[0m│\n",
       "│\u001b[2m \u001b[0m\u001b[2mThis app would utilize the\u001b[0m\u001b[2m \u001b[0m│\u001b[2m                           \u001b[0m│\u001b[2m \u001b[0m\u001b[2mThis platform would use   \u001b[0m\u001b[2m \u001b[0m│\u001b[2m                           \u001b[0m│\n",
       "│\u001b[2m \u001b[0m\u001b[2mlanguage model's ability  \u001b[0m\u001b[2m \u001b[0m│\u001b[2m                           \u001b[0m│\u001b[2m \u001b[0m\u001b[2mthe power of language     \u001b[0m\u001b[2m \u001b[0m│\u001b[2m                           \u001b[0m│\n",
       "│\u001b[2m \u001b[0m\u001b[2mto understand and generate\u001b[0m\u001b[2m \u001b[0m│\u001b[2m                           \u001b[0m│\u001b[2m \u001b[0m\u001b[2mmodels to facilitate      \u001b[0m\u001b[2m \u001b[0m│\u001b[2m                           \u001b[0m│\n",
       "│\u001b[2m \u001b[0m\u001b[2mtext in multiple languages\u001b[0m\u001b[2m \u001b[0m│\u001b[2m                           \u001b[0m│\u001b[2m \u001b[0m\u001b[2mcross-cultural            \u001b[0m\u001b[2m \u001b[0m│\u001b[2m                           \u001b[0m│\n",
       "│\u001b[2m \u001b[0m\u001b[2mto help users learn about \u001b[0m\u001b[2m \u001b[0m│\u001b[2m                           \u001b[0m│\u001b[2m \u001b[0m\u001b[2munderstanding and language\u001b[0m\u001b[2m \u001b[0m│\u001b[2m                           \u001b[0m│\n",
       "│\u001b[2m \u001b[0m\u001b[2mand understand different  \u001b[0m\u001b[2m \u001b[0m│\u001b[2m                           \u001b[0m│\u001b[2m \u001b[0m\u001b[2mlearning. Users could     \u001b[0m\u001b[2m \u001b[0m│\u001b[2m                           \u001b[0m│\n",
       "│\u001b[2m \u001b[0m\u001b[2mcultures. It could offer  \u001b[0m\u001b[2m \u001b[0m│\u001b[2m                           \u001b[0m│\u001b[2m \u001b[0m\u001b[2minput their native        \u001b[0m\u001b[2m \u001b[0m│\u001b[2m                           \u001b[0m│\n",
       "│\u001b[2m \u001b[0m\u001b[2minteractive stories,      \u001b[0m\u001b[2m \u001b[0m│\u001b[2m                           \u001b[0m│\u001b[2m \u001b[0m\u001b[2mlanguage and cultural     \u001b[0m\u001b[2m \u001b[0m│\u001b[2m                           \u001b[0m│\n",
       "│\u001b[2m \u001b[0m\u001b[2mcustoms, idioms, and even \u001b[0m\u001b[2m \u001b[0m│\u001b[2m                           \u001b[0m│\u001b[2m \u001b[0m\u001b[2mcontext, and the app would\u001b[0m\u001b[2m \u001b[0m│\u001b[2m                           \u001b[0m│\n",
       "│\u001b[2m \u001b[0m\u001b[2msimulate conversations    \u001b[0m\u001b[2m \u001b[0m│\u001b[2m                           \u001b[0m│\u001b[2m \u001b[0m\u001b[2mpair them with content and\u001b[0m\u001b[2m \u001b[0m│\u001b[2m                           \u001b[0m│\n",
       "│\u001b[2m \u001b[0m\u001b[2mwith virtual characters   \u001b[0m\u001b[2m \u001b[0m│\u001b[2m                           \u001b[0m│\u001b[2m \u001b[0m\u001b[2mconversations that are    \u001b[0m\u001b[2m \u001b[0m│\u001b[2m                           \u001b[0m│\n",
       "│\u001b[2m \u001b[0m\u001b[2mfrom diverse backgrounds. \u001b[0m\u001b[2m \u001b[0m│\u001b[2m                           \u001b[0m│\u001b[2m \u001b[0m\u001b[2mtailored to bridge gaps   \u001b[0m\u001b[2m \u001b[0m│\u001b[2m                           \u001b[0m│\n",
       "│\u001b[2m \u001b[0m\u001b[2mThe app would aim to      \u001b[0m\u001b[2m \u001b[0m│\u001b[2m                           \u001b[0m│\u001b[2m \u001b[0m\u001b[2mbetween different         \u001b[0m\u001b[2m \u001b[0m│\u001b[2m                           \u001b[0m│\n",
       "│\u001b[2m \u001b[0m\u001b[2mpromote empathy and global\u001b[0m\u001b[2m \u001b[0m│\u001b[2m                           \u001b[0m│\u001b[2m \u001b[0m\u001b[2mcultures. It would provide\u001b[0m\u001b[2m \u001b[0m│\u001b[2m                           \u001b[0m│\n",
       "│\u001b[2m \u001b[0m\u001b[2munderstanding by providing\u001b[0m\u001b[2m \u001b[0m│\u001b[2m                           \u001b[0m│\u001b[2m \u001b[0m\u001b[2mreal-time translation,    \u001b[0m\u001b[2m \u001b[0m│\u001b[2m                           \u001b[0m│\n",
       "│\u001b[2m \u001b[0m\u001b[2ma deep, personalized      \u001b[0m\u001b[2m \u001b[0m│\u001b[2m                           \u001b[0m│\u001b[2m \u001b[0m\u001b[2mcultural notes, and       \u001b[0m\u001b[2m \u001b[0m│\u001b[2m                           \u001b[0m│\n",
       "│\u001b[2m \u001b[0m\u001b[2mcultural exchange         \u001b[0m\u001b[2m \u001b[0m│\u001b[2m                           \u001b[0m│\u001b[2m \u001b[0m\u001b[2mcontext explanations to   \u001b[0m\u001b[2m \u001b[0m│\u001b[2m                           \u001b[0m│\n",
       "│\u001b[2m \u001b[0m\u001b[2mexperience.               \u001b[0m\u001b[2m \u001b[0m│\u001b[2m                           \u001b[0m│\u001b[2m \u001b[0m\u001b[2mhelp users navigate       \u001b[0m\u001b[2m \u001b[0m│\u001b[2m                           \u001b[0m│\n",
       "│\u001b[2m                            \u001b[0m│\u001b[2m                           \u001b[0m│\u001b[2m \u001b[0m\u001b[2mconversations with people \u001b[0m\u001b[2m \u001b[0m│\u001b[2m                           \u001b[0m│\n",
       "│\u001b[2m                            \u001b[0m│\u001b[2m                           \u001b[0m│\u001b[2m \u001b[0m\u001b[2mfrom other parts of the   \u001b[0m\u001b[2m \u001b[0m│\u001b[2m                           \u001b[0m│\n",
       "│\u001b[2m                            \u001b[0m│\u001b[2m                           \u001b[0m│\u001b[2m \u001b[0m\u001b[2mworld. Additionally, it   \u001b[0m\u001b[2m \u001b[0m│\u001b[2m                           \u001b[0m│\n",
       "│\u001b[2m                            \u001b[0m│\u001b[2m                           \u001b[0m│\u001b[2m \u001b[0m\u001b[2mcould include a feature to\u001b[0m\u001b[2m \u001b[0m│\u001b[2m                           \u001b[0m│\n",
       "│\u001b[2m                            \u001b[0m│\u001b[2m                           \u001b[0m│\u001b[2m \u001b[0m\u001b[2mconnect users with        \u001b[0m\u001b[2m \u001b[0m│\u001b[2m                           \u001b[0m│\n",
       "│\u001b[2m                            \u001b[0m│\u001b[2m                           \u001b[0m│\u001b[2m \u001b[0m\u001b[2mlanguage learning partners\u001b[0m\u001b[2m \u001b[0m│\u001b[2m                           \u001b[0m│\n",
       "│\u001b[2m                            \u001b[0m│\u001b[2m                           \u001b[0m│\u001b[2m \u001b[0m\u001b[2mlooking to exchange       \u001b[0m\u001b[2m \u001b[0m│\u001b[2m                           \u001b[0m│\n",
       "│\u001b[2m                            \u001b[0m│\u001b[2m                           \u001b[0m│\u001b[2m \u001b[0m\u001b[2mknowledge in their        \u001b[0m\u001b[2m \u001b[0m│\u001b[2m                           \u001b[0m│\n",
       "│\u001b[2m                            \u001b[0m│\u001b[2m                           \u001b[0m│\u001b[2m \u001b[0m\u001b[2mrespective languages,     \u001b[0m\u001b[2m \u001b[0m│\u001b[2m                           \u001b[0m│\n",
       "│\u001b[2m                            \u001b[0m│\u001b[2m                           \u001b[0m│\u001b[2m \u001b[0m\u001b[2mcreating a global         \u001b[0m\u001b[2m \u001b[0m│\u001b[2m                           \u001b[0m│\n",
       "│\u001b[2m                            \u001b[0m│\u001b[2m                           \u001b[0m│\u001b[2m \u001b[0m\u001b[2mcommunity of cultural     \u001b[0m\u001b[2m \u001b[0m│\u001b[2m                           \u001b[0m│\n",
       "│\u001b[2m                            \u001b[0m│\u001b[2m                           \u001b[0m│\u001b[2m \u001b[0m\u001b[2mexchange and mutual       \u001b[0m\u001b[2m \u001b[0m│\u001b[2m                           \u001b[0m│\n",
       "│\u001b[2m                            \u001b[0m│\u001b[2m                           \u001b[0m│\u001b[2m \u001b[0m\u001b[2mlearning.                 \u001b[0m\u001b[2m \u001b[0m│\u001b[2m                           \u001b[0m│\n",
       "└────────────────────────────┴───────────────────────────┴────────────────────────────┴───────────────────────────┘\n"
      ]
     },
     "metadata": {},
     "output_type": "display_data"
    }
   ],
   "source": [
    "results.select(\"ideas_with_credit\", \"original_with_credit\", \"ideas_no_credit\", \"original_no_credit\").print(format=\"rich\")"
   ]
  },
  {
   "cell_type": "markdown",
   "id": "124542ef-9fe9-4e3a-a77d-5912f38fa4c6",
   "metadata": {},
   "source": [
    "We can examine the question prompts to verify how the rules were applied. To see a list of all the components of the results that can be directly accessed:"
   ]
  },
  {
   "cell_type": "code",
   "execution_count": 8,
   "id": "72e7edd2-8751-4442-9953-a745830d45d4",
   "metadata": {},
   "outputs": [
    {
     "data": {
      "text/plain": [
       "['agent.agent_instruction',\n",
       " 'agent.agent_name',\n",
       " 'answer.credit',\n",
       " 'answer.ideas_no_credit',\n",
       " 'answer.ideas_with_credit',\n",
       " 'answer.original_no_credit',\n",
       " 'answer.original_with_credit',\n",
       " 'comment.original_no_credit_comment',\n",
       " 'comment.original_with_credit_comment',\n",
       " 'iteration.iteration',\n",
       " 'model.frequency_penalty',\n",
       " 'model.logprobs',\n",
       " 'model.max_tokens',\n",
       " 'model.model',\n",
       " 'model.presence_penalty',\n",
       " 'model.temperature',\n",
       " 'model.top_logprobs',\n",
       " 'model.top_p',\n",
       " 'prompt.credit_system_prompt',\n",
       " 'prompt.credit_user_prompt',\n",
       " 'prompt.ideas_no_credit_system_prompt',\n",
       " 'prompt.ideas_no_credit_user_prompt',\n",
       " 'prompt.ideas_with_credit_system_prompt',\n",
       " 'prompt.ideas_with_credit_user_prompt',\n",
       " 'prompt.original_no_credit_system_prompt',\n",
       " 'prompt.original_no_credit_user_prompt',\n",
       " 'prompt.original_with_credit_system_prompt',\n",
       " 'prompt.original_with_credit_user_prompt',\n",
       " 'question_options.credit_question_options',\n",
       " 'question_options.ideas_no_credit_question_options',\n",
       " 'question_options.ideas_with_credit_question_options',\n",
       " 'question_options.original_no_credit_question_options',\n",
       " 'question_options.original_with_credit_question_options',\n",
       " 'question_text.credit_question_text',\n",
       " 'question_text.ideas_no_credit_question_text',\n",
       " 'question_text.ideas_with_credit_question_text',\n",
       " 'question_text.original_no_credit_question_text',\n",
       " 'question_text.original_with_credit_question_text',\n",
       " 'question_type.credit_question_type',\n",
       " 'question_type.ideas_no_credit_question_type',\n",
       " 'question_type.ideas_with_credit_question_type',\n",
       " 'question_type.original_no_credit_question_type',\n",
       " 'question_type.original_with_credit_question_type',\n",
       " 'raw_model_response.credit_raw_model_response',\n",
       " 'raw_model_response.ideas_no_credit_raw_model_response',\n",
       " 'raw_model_response.ideas_with_credit_raw_model_response',\n",
       " 'raw_model_response.original_no_credit_raw_model_response',\n",
       " 'raw_model_response.original_with_credit_raw_model_response']"
      ]
     },
     "execution_count": 8,
     "metadata": {},
     "output_type": "execute_result"
    }
   ],
   "source": [
    "results.columns"
   ]
  },
  {
   "cell_type": "markdown",
   "id": "dfca55f0-7419-43f8-9f02-59eda1089f9d",
   "metadata": {},
   "source": [
    "Here we inspect the system (agent) and user (question) prompts for the \"credit\" question:"
   ]
  },
  {
   "cell_type": "code",
   "execution_count": 9,
   "id": "70c45757-a50f-4c75-b76e-135540d08bc2",
   "metadata": {},
   "outputs": [
    {
     "data": {
      "text/html": [
       "<pre style=\"white-space:pre;overflow-x:auto;line-height:normal;font-family:Menlo,'DejaVu Sans Mono',consolas,'Courier New',monospace\">┏━━━━━━━━━━━━━━━━━━━━━━━━━━━━━━━━━━━━━━━━━━━━━━━━━━━━━━━━┳━━━━━━━━━━━━━━━━━━━━━━━━━━━━━━━━━━━━━━━━━━━━━━━━━━━━━━━━┓\n",
       "┃<span style=\"color: #800080; text-decoration-color: #800080; font-weight: bold\"> prompt                                                 </span>┃<span style=\"color: #800080; text-decoration-color: #800080; font-weight: bold\"> prompt                                                 </span>┃\n",
       "┃<span style=\"color: #800080; text-decoration-color: #800080; font-weight: bold\"> .credit_system_prompt                                  </span>┃<span style=\"color: #800080; text-decoration-color: #800080; font-weight: bold\"> .credit_user_prompt                                    </span>┃\n",
       "┡━━━━━━━━━━━━━━━━━━━━━━━━━━━━━━━━━━━━━━━━━━━━━━━━━━━━━━━━╇━━━━━━━━━━━━━━━━━━━━━━━━━━━━━━━━━━━━━━━━━━━━━━━━━━━━━━━━┩\n",
       "│<span style=\"color: #7f7f7f; text-decoration-color: #7f7f7f\"> You are answering questions as if you were a human. Do </span>│<span style=\"color: #7f7f7f; text-decoration-color: #7f7f7f\"> You are being asked the following question: Describe   </span>│\n",
       "│<span style=\"color: #7f7f7f; text-decoration-color: #7f7f7f\"> not break character. You are an agent with the         </span>│<span style=\"color: #7f7f7f; text-decoration-color: #7f7f7f\"> the phenomenon of hearing about an idea and then       </span>│\n",
       "│<span style=\"color: #7f7f7f; text-decoration-color: #7f7f7f\"> following persona:                                     </span>│<span style=\"color: #7f7f7f; text-decoration-color: #7f7f7f\">     believing that you are responsible for it.         </span>│\n",
       "│<span style=\"color: #7f7f7f; text-decoration-color: #7f7f7f\"> {}                                                     </span>│<span style=\"color: #7f7f7f; text-decoration-color: #7f7f7f\"> Return a valid JSON formatted like this:               </span>│\n",
       "│<span style=\"color: #7f7f7f; text-decoration-color: #7f7f7f\">                                                        </span>│<span style=\"color: #7f7f7f; text-decoration-color: #7f7f7f\"> {\"answer\": \"&lt;put free text answer here&gt;\"}              </span>│\n",
       "└────────────────────────────────────────────────────────┴────────────────────────────────────────────────────────┘\n",
       "</pre>\n"
      ],
      "text/plain": [
       "┏━━━━━━━━━━━━━━━━━━━━━━━━━━━━━━━━━━━━━━━━━━━━━━━━━━━━━━━━┳━━━━━━━━━━━━━━━━━━━━━━━━━━━━━━━━━━━━━━━━━━━━━━━━━━━━━━━━┓\n",
       "┃\u001b[1;35m \u001b[0m\u001b[1;35mprompt                                                \u001b[0m\u001b[1;35m \u001b[0m┃\u001b[1;35m \u001b[0m\u001b[1;35mprompt                                                \u001b[0m\u001b[1;35m \u001b[0m┃\n",
       "┃\u001b[1;35m \u001b[0m\u001b[1;35m.credit_system_prompt                                 \u001b[0m\u001b[1;35m \u001b[0m┃\u001b[1;35m \u001b[0m\u001b[1;35m.credit_user_prompt                                   \u001b[0m\u001b[1;35m \u001b[0m┃\n",
       "┡━━━━━━━━━━━━━━━━━━━━━━━━━━━━━━━━━━━━━━━━━━━━━━━━━━━━━━━━╇━━━━━━━━━━━━━━━━━━━━━━━━━━━━━━━━━━━━━━━━━━━━━━━━━━━━━━━━┩\n",
       "│\u001b[2m \u001b[0m\u001b[2mYou are answering questions as if you were a human. Do\u001b[0m\u001b[2m \u001b[0m│\u001b[2m \u001b[0m\u001b[2mYou are being asked the following question: Describe  \u001b[0m\u001b[2m \u001b[0m│\n",
       "│\u001b[2m \u001b[0m\u001b[2mnot break character. You are an agent with the        \u001b[0m\u001b[2m \u001b[0m│\u001b[2m \u001b[0m\u001b[2mthe phenomenon of hearing about an idea and then      \u001b[0m\u001b[2m \u001b[0m│\n",
       "│\u001b[2m \u001b[0m\u001b[2mfollowing persona:                                    \u001b[0m\u001b[2m \u001b[0m│\u001b[2m \u001b[0m\u001b[2m    believing that you are responsible for it.        \u001b[0m\u001b[2m \u001b[0m│\n",
       "│\u001b[2m \u001b[0m\u001b[2m{}                                                    \u001b[0m\u001b[2m \u001b[0m│\u001b[2m \u001b[0m\u001b[2mReturn a valid JSON formatted like this:              \u001b[0m\u001b[2m \u001b[0m│\n",
       "│\u001b[2m                                                        \u001b[0m│\u001b[2m \u001b[0m\u001b[2m{\"answer\": \"<put free text answer here>\"}             \u001b[0m\u001b[2m \u001b[0m│\n",
       "└────────────────────────────────────────────────────────┴────────────────────────────────────────────────────────┘\n"
      ]
     },
     "metadata": {},
     "output_type": "display_data"
    }
   ],
   "source": [
    "results.select(\"credit_system_prompt\", \"credit_user_prompt\").print(format=\"rich\")"
   ]
  },
  {
   "cell_type": "markdown",
   "id": "a2f38481-c5bc-4acb-aa8f-ef975ca90e0e",
   "metadata": {},
   "source": [
    "Here we can verify that we included the context of the \"credit\" question in the \"_with_memory\" iteration of the \"ideas\" question:"
   ]
  },
  {
   "cell_type": "code",
   "execution_count": 10,
   "id": "57ec11d9-cbe0-42ac-bbb2-3a17600a9374",
   "metadata": {},
   "outputs": [
    {
     "data": {
      "text/html": [
       "<pre style=\"white-space:pre;overflow-x:auto;line-height:normal;font-family:Menlo,'DejaVu Sans Mono',consolas,'Courier New',monospace\">┏━━━━━━━━━━━━━━━━━━━━━━━━━━━━━━━━━━━━━━━━━━━━━━━━━━━━━━━━┳━━━━━━━━━━━━━━━━━━━━━━━━━━━━━━━━━━━━━━━━━━━━━━━━━━━━━━━━┓\n",
       "┃<span style=\"color: #800080; text-decoration-color: #800080; font-weight: bold\"> prompt                                                 </span>┃<span style=\"color: #800080; text-decoration-color: #800080; font-weight: bold\"> prompt                                                 </span>┃\n",
       "┃<span style=\"color: #800080; text-decoration-color: #800080; font-weight: bold\"> .ideas_with_credit_user_prompt                         </span>┃<span style=\"color: #800080; text-decoration-color: #800080; font-weight: bold\"> .original_with_credit_user_prompt                      </span>┃\n",
       "┡━━━━━━━━━━━━━━━━━━━━━━━━━━━━━━━━━━━━━━━━━━━━━━━━━━━━━━━━╇━━━━━━━━━━━━━━━━━━━━━━━━━━━━━━━━━━━━━━━━━━━━━━━━━━━━━━━━┩\n",
       "│<span style=\"color: #7f7f7f; text-decoration-color: #7f7f7f\"> You are being asked the following question: Give me an </span>│<span style=\"color: #7f7f7f; text-decoration-color: #7f7f7f\"> You are being asked the following question: The idea   </span>│\n",
       "│<span style=\"color: #7f7f7f; text-decoration-color: #7f7f7f\"> original idea for an applications for large language   </span>│<span style=\"color: #7f7f7f; text-decoration-color: #7f7f7f\"> you just described - is it original?                   </span>│\n",
       "│<span style=\"color: #7f7f7f; text-decoration-color: #7f7f7f\"> models.                                                </span>│<span style=\"color: #7f7f7f; text-decoration-color: #7f7f7f\"> The options are                                        </span>│\n",
       "│<span style=\"color: #7f7f7f; text-decoration-color: #7f7f7f\"> Return a valid JSON formatted like this:               </span>│<span style=\"color: #7f7f7f; text-decoration-color: #7f7f7f\">                                                        </span>│\n",
       "│<span style=\"color: #7f7f7f; text-decoration-color: #7f7f7f\"> {\"answer\": \"&lt;put free text answer here&gt;\"}              </span>│<span style=\"color: #7f7f7f; text-decoration-color: #7f7f7f\"> 0: Yes, I thought of it myself.                        </span>│\n",
       "│<span style=\"color: #7f7f7f; text-decoration-color: #7f7f7f\">         Before the question you are now answering, you </span>│<span style=\"color: #7f7f7f; text-decoration-color: #7f7f7f\">                                                        </span>│\n",
       "│<span style=\"color: #7f7f7f; text-decoration-color: #7f7f7f\"> already answered the following question(s):            </span>│<span style=\"color: #7f7f7f; text-decoration-color: #7f7f7f\"> 1: I may have heard about it before.                   </span>│\n",
       "│<span style=\"color: #7f7f7f; text-decoration-color: #7f7f7f\">                 Question: Describe the phenomenon of   </span>│<span style=\"color: #7f7f7f; text-decoration-color: #7f7f7f\">                                                        </span>│\n",
       "│<span style=\"color: #7f7f7f; text-decoration-color: #7f7f7f\"> hearing about an idea and then                         </span>│<span style=\"color: #7f7f7f; text-decoration-color: #7f7f7f\"> 2: No, I have heard about it before.                   </span>│\n",
       "│<span style=\"color: #7f7f7f; text-decoration-color: #7f7f7f\">     believing that you are responsible for it.         </span>│<span style=\"color: #7f7f7f; text-decoration-color: #7f7f7f\">                                                        </span>│\n",
       "│<span style=\"color: #7f7f7f; text-decoration-color: #7f7f7f\">         Answer: The phenomenon of hearing about an     </span>│<span style=\"color: #7f7f7f; text-decoration-color: #7f7f7f\"> 3: I do not know.                                      </span>│\n",
       "│<span style=\"color: #7f7f7f; text-decoration-color: #7f7f7f\"> idea and then believing that you are responsible for   </span>│<span style=\"color: #7f7f7f; text-decoration-color: #7f7f7f\">                                                        </span>│\n",
       "│<span style=\"color: #7f7f7f; text-decoration-color: #7f7f7f\"> it is often referred to as 'cryptomnesia.' It occurs   </span>│<span style=\"color: #7f7f7f; text-decoration-color: #7f7f7f\"> Return a valid JSON formatted like this, selecting     </span>│\n",
       "│<span style=\"color: #7f7f7f; text-decoration-color: #7f7f7f\"> when a person has a forgotten memory or experience     </span>│<span style=\"color: #7f7f7f; text-decoration-color: #7f7f7f\"> only the number of the option:                         </span>│\n",
       "│<span style=\"color: #7f7f7f; text-decoration-color: #7f7f7f\"> that resurfaces without them realizing it's from a     </span>│<span style=\"color: #7f7f7f; text-decoration-color: #7f7f7f\"> {\"answer\": &lt;put answer code here&gt;, \"comment\": \"&lt;put    </span>│\n",
       "│<span style=\"color: #7f7f7f; text-decoration-color: #7f7f7f\"> past encounter. As a result, the individual mistakenly </span>│<span style=\"color: #7f7f7f; text-decoration-color: #7f7f7f\"> explanation here&gt;\"}                                    </span>│\n",
       "│<span style=\"color: #7f7f7f; text-decoration-color: #7f7f7f\"> believes that the idea is a new, original thought or   </span>│<span style=\"color: #7f7f7f; text-decoration-color: #7f7f7f\"> Only 1 option may be selected.                         </span>│\n",
       "│<span style=\"color: #7f7f7f; text-decoration-color: #7f7f7f\"> creation of their own, when in reality, it has been    </span>│<span style=\"color: #7f7f7f; text-decoration-color: #7f7f7f\">         Before the question you are now answering, you </span>│\n",
       "│<span style=\"color: #7f7f7f; text-decoration-color: #7f7f7f\"> encountered before and merely forgotten.               </span>│<span style=\"color: #7f7f7f; text-decoration-color: #7f7f7f\"> already answered the following question(s):            </span>│\n",
       "│<span style=\"color: #7f7f7f; text-decoration-color: #7f7f7f\">                                                        </span>│<span style=\"color: #7f7f7f; text-decoration-color: #7f7f7f\">                 Question: Describe the phenomenon of   </span>│\n",
       "│<span style=\"color: #7f7f7f; text-decoration-color: #7f7f7f\">                                                        </span>│<span style=\"color: #7f7f7f; text-decoration-color: #7f7f7f\"> hearing about an idea and then                         </span>│\n",
       "│<span style=\"color: #7f7f7f; text-decoration-color: #7f7f7f\">                                                        </span>│<span style=\"color: #7f7f7f; text-decoration-color: #7f7f7f\">     believing that you are responsible for it.         </span>│\n",
       "│<span style=\"color: #7f7f7f; text-decoration-color: #7f7f7f\">                                                        </span>│<span style=\"color: #7f7f7f; text-decoration-color: #7f7f7f\">         Answer: The phenomenon of hearing about an     </span>│\n",
       "│<span style=\"color: #7f7f7f; text-decoration-color: #7f7f7f\">                                                        </span>│<span style=\"color: #7f7f7f; text-decoration-color: #7f7f7f\"> idea and then believing that you are responsible for   </span>│\n",
       "│<span style=\"color: #7f7f7f; text-decoration-color: #7f7f7f\">                                                        </span>│<span style=\"color: #7f7f7f; text-decoration-color: #7f7f7f\"> it is often referred to as 'cryptomnesia.' It occurs   </span>│\n",
       "│<span style=\"color: #7f7f7f; text-decoration-color: #7f7f7f\">                                                        </span>│<span style=\"color: #7f7f7f; text-decoration-color: #7f7f7f\"> when a person has a forgotten memory or experience     </span>│\n",
       "│<span style=\"color: #7f7f7f; text-decoration-color: #7f7f7f\">                                                        </span>│<span style=\"color: #7f7f7f; text-decoration-color: #7f7f7f\"> that resurfaces without them realizing it's from a     </span>│\n",
       "│<span style=\"color: #7f7f7f; text-decoration-color: #7f7f7f\">                                                        </span>│<span style=\"color: #7f7f7f; text-decoration-color: #7f7f7f\"> past encounter. As a result, the individual mistakenly </span>│\n",
       "│<span style=\"color: #7f7f7f; text-decoration-color: #7f7f7f\">                                                        </span>│<span style=\"color: #7f7f7f; text-decoration-color: #7f7f7f\"> believes that the idea is a new, original thought or   </span>│\n",
       "│<span style=\"color: #7f7f7f; text-decoration-color: #7f7f7f\">                                                        </span>│<span style=\"color: #7f7f7f; text-decoration-color: #7f7f7f\"> creation of their own, when in reality, it has been    </span>│\n",
       "│<span style=\"color: #7f7f7f; text-decoration-color: #7f7f7f\">                                                        </span>│<span style=\"color: #7f7f7f; text-decoration-color: #7f7f7f\"> encountered before and merely forgotten.               </span>│\n",
       "│<span style=\"color: #7f7f7f; text-decoration-color: #7f7f7f\">                                                        </span>│<span style=\"color: #7f7f7f; text-decoration-color: #7f7f7f\">                                                        </span>│\n",
       "│<span style=\"color: #7f7f7f; text-decoration-color: #7f7f7f\">                                                        </span>│<span style=\"color: #7f7f7f; text-decoration-color: #7f7f7f\">  Prior questions and answers:   Question: Give me an   </span>│\n",
       "│<span style=\"color: #7f7f7f; text-decoration-color: #7f7f7f\">                                                        </span>│<span style=\"color: #7f7f7f; text-decoration-color: #7f7f7f\"> original idea for an applications for large language   </span>│\n",
       "│<span style=\"color: #7f7f7f; text-decoration-color: #7f7f7f\">                                                        </span>│<span style=\"color: #7f7f7f; text-decoration-color: #7f7f7f\"> models.                                                </span>│\n",
       "│<span style=\"color: #7f7f7f; text-decoration-color: #7f7f7f\">                                                        </span>│<span style=\"color: #7f7f7f; text-decoration-color: #7f7f7f\">         Answer: An original application for large      </span>│\n",
       "│<span style=\"color: #7f7f7f; text-decoration-color: #7f7f7f\">                                                        </span>│<span style=\"color: #7f7f7f; text-decoration-color: #7f7f7f\"> language models could be a 'Cultural Exchange          </span>│\n",
       "│<span style=\"color: #7f7f7f; text-decoration-color: #7f7f7f\">                                                        </span>│<span style=\"color: #7f7f7f; text-decoration-color: #7f7f7f\"> Facilitator' app. This app would utilize the language  </span>│\n",
       "│<span style=\"color: #7f7f7f; text-decoration-color: #7f7f7f\">                                                        </span>│<span style=\"color: #7f7f7f; text-decoration-color: #7f7f7f\"> model's ability to understand and generate text in     </span>│\n",
       "│<span style=\"color: #7f7f7f; text-decoration-color: #7f7f7f\">                                                        </span>│<span style=\"color: #7f7f7f; text-decoration-color: #7f7f7f\"> multiple languages to help users learn about and       </span>│\n",
       "│<span style=\"color: #7f7f7f; text-decoration-color: #7f7f7f\">                                                        </span>│<span style=\"color: #7f7f7f; text-decoration-color: #7f7f7f\"> understand different cultures. It could offer          </span>│\n",
       "│<span style=\"color: #7f7f7f; text-decoration-color: #7f7f7f\">                                                        </span>│<span style=\"color: #7f7f7f; text-decoration-color: #7f7f7f\"> interactive stories, customs, idioms, and even         </span>│\n",
       "│<span style=\"color: #7f7f7f; text-decoration-color: #7f7f7f\">                                                        </span>│<span style=\"color: #7f7f7f; text-decoration-color: #7f7f7f\"> simulate conversations with virtual characters from    </span>│\n",
       "│<span style=\"color: #7f7f7f; text-decoration-color: #7f7f7f\">                                                        </span>│<span style=\"color: #7f7f7f; text-decoration-color: #7f7f7f\"> diverse backgrounds. The app would aim to promote      </span>│\n",
       "│<span style=\"color: #7f7f7f; text-decoration-color: #7f7f7f\">                                                        </span>│<span style=\"color: #7f7f7f; text-decoration-color: #7f7f7f\"> empathy and global understanding by providing a deep,  </span>│\n",
       "│<span style=\"color: #7f7f7f; text-decoration-color: #7f7f7f\">                                                        </span>│<span style=\"color: #7f7f7f; text-decoration-color: #7f7f7f\"> personalized cultural exchange experience.             </span>│\n",
       "└────────────────────────────────────────────────────────┴────────────────────────────────────────────────────────┘\n",
       "</pre>\n"
      ],
      "text/plain": [
       "┏━━━━━━━━━━━━━━━━━━━━━━━━━━━━━━━━━━━━━━━━━━━━━━━━━━━━━━━━┳━━━━━━━━━━━━━━━━━━━━━━━━━━━━━━━━━━━━━━━━━━━━━━━━━━━━━━━━┓\n",
       "┃\u001b[1;35m \u001b[0m\u001b[1;35mprompt                                                \u001b[0m\u001b[1;35m \u001b[0m┃\u001b[1;35m \u001b[0m\u001b[1;35mprompt                                                \u001b[0m\u001b[1;35m \u001b[0m┃\n",
       "┃\u001b[1;35m \u001b[0m\u001b[1;35m.ideas_with_credit_user_prompt                        \u001b[0m\u001b[1;35m \u001b[0m┃\u001b[1;35m \u001b[0m\u001b[1;35m.original_with_credit_user_prompt                     \u001b[0m\u001b[1;35m \u001b[0m┃\n",
       "┡━━━━━━━━━━━━━━━━━━━━━━━━━━━━━━━━━━━━━━━━━━━━━━━━━━━━━━━━╇━━━━━━━━━━━━━━━━━━━━━━━━━━━━━━━━━━━━━━━━━━━━━━━━━━━━━━━━┩\n",
       "│\u001b[2m \u001b[0m\u001b[2mYou are being asked the following question: Give me an\u001b[0m\u001b[2m \u001b[0m│\u001b[2m \u001b[0m\u001b[2mYou are being asked the following question: The idea  \u001b[0m\u001b[2m \u001b[0m│\n",
       "│\u001b[2m \u001b[0m\u001b[2moriginal idea for an applications for large language  \u001b[0m\u001b[2m \u001b[0m│\u001b[2m \u001b[0m\u001b[2myou just described - is it original?                  \u001b[0m\u001b[2m \u001b[0m│\n",
       "│\u001b[2m \u001b[0m\u001b[2mmodels.                                               \u001b[0m\u001b[2m \u001b[0m│\u001b[2m \u001b[0m\u001b[2mThe options are                                       \u001b[0m\u001b[2m \u001b[0m│\n",
       "│\u001b[2m \u001b[0m\u001b[2mReturn a valid JSON formatted like this:              \u001b[0m\u001b[2m \u001b[0m│\u001b[2m \u001b[0m\u001b[2m                                                      \u001b[0m\u001b[2m \u001b[0m│\n",
       "│\u001b[2m \u001b[0m\u001b[2m{\"answer\": \"<put free text answer here>\"}             \u001b[0m\u001b[2m \u001b[0m│\u001b[2m \u001b[0m\u001b[2m0: Yes, I thought of it myself.                       \u001b[0m\u001b[2m \u001b[0m│\n",
       "│\u001b[2m \u001b[0m\u001b[2m        Before the question you are now answering, you\u001b[0m\u001b[2m \u001b[0m│\u001b[2m \u001b[0m\u001b[2m                                                      \u001b[0m\u001b[2m \u001b[0m│\n",
       "│\u001b[2m \u001b[0m\u001b[2malready answered the following question(s):           \u001b[0m\u001b[2m \u001b[0m│\u001b[2m \u001b[0m\u001b[2m1: I may have heard about it before.                  \u001b[0m\u001b[2m \u001b[0m│\n",
       "│\u001b[2m \u001b[0m\u001b[2m                Question: Describe the phenomenon of  \u001b[0m\u001b[2m \u001b[0m│\u001b[2m \u001b[0m\u001b[2m                                                      \u001b[0m\u001b[2m \u001b[0m│\n",
       "│\u001b[2m \u001b[0m\u001b[2mhearing about an idea and then                        \u001b[0m\u001b[2m \u001b[0m│\u001b[2m \u001b[0m\u001b[2m2: No, I have heard about it before.                  \u001b[0m\u001b[2m \u001b[0m│\n",
       "│\u001b[2m \u001b[0m\u001b[2m    believing that you are responsible for it.        \u001b[0m\u001b[2m \u001b[0m│\u001b[2m \u001b[0m\u001b[2m                                                      \u001b[0m\u001b[2m \u001b[0m│\n",
       "│\u001b[2m \u001b[0m\u001b[2m        Answer: The phenomenon of hearing about an    \u001b[0m\u001b[2m \u001b[0m│\u001b[2m \u001b[0m\u001b[2m3: I do not know.                                     \u001b[0m\u001b[2m \u001b[0m│\n",
       "│\u001b[2m \u001b[0m\u001b[2midea and then believing that you are responsible for  \u001b[0m\u001b[2m \u001b[0m│\u001b[2m \u001b[0m\u001b[2m                                                      \u001b[0m\u001b[2m \u001b[0m│\n",
       "│\u001b[2m \u001b[0m\u001b[2mit is often referred to as 'cryptomnesia.' It occurs  \u001b[0m\u001b[2m \u001b[0m│\u001b[2m \u001b[0m\u001b[2mReturn a valid JSON formatted like this, selecting    \u001b[0m\u001b[2m \u001b[0m│\n",
       "│\u001b[2m \u001b[0m\u001b[2mwhen a person has a forgotten memory or experience    \u001b[0m\u001b[2m \u001b[0m│\u001b[2m \u001b[0m\u001b[2monly the number of the option:                        \u001b[0m\u001b[2m \u001b[0m│\n",
       "│\u001b[2m \u001b[0m\u001b[2mthat resurfaces without them realizing it's from a    \u001b[0m\u001b[2m \u001b[0m│\u001b[2m \u001b[0m\u001b[2m{\"answer\": <put answer code here>, \"comment\": \"<put   \u001b[0m\u001b[2m \u001b[0m│\n",
       "│\u001b[2m \u001b[0m\u001b[2mpast encounter. As a result, the individual mistakenly\u001b[0m\u001b[2m \u001b[0m│\u001b[2m \u001b[0m\u001b[2mexplanation here>\"}                                   \u001b[0m\u001b[2m \u001b[0m│\n",
       "│\u001b[2m \u001b[0m\u001b[2mbelieves that the idea is a new, original thought or  \u001b[0m\u001b[2m \u001b[0m│\u001b[2m \u001b[0m\u001b[2mOnly 1 option may be selected.                        \u001b[0m\u001b[2m \u001b[0m│\n",
       "│\u001b[2m \u001b[0m\u001b[2mcreation of their own, when in reality, it has been   \u001b[0m\u001b[2m \u001b[0m│\u001b[2m \u001b[0m\u001b[2m        Before the question you are now answering, you\u001b[0m\u001b[2m \u001b[0m│\n",
       "│\u001b[2m \u001b[0m\u001b[2mencountered before and merely forgotten.              \u001b[0m\u001b[2m \u001b[0m│\u001b[2m \u001b[0m\u001b[2malready answered the following question(s):           \u001b[0m\u001b[2m \u001b[0m│\n",
       "│\u001b[2m                                                        \u001b[0m│\u001b[2m \u001b[0m\u001b[2m                Question: Describe the phenomenon of  \u001b[0m\u001b[2m \u001b[0m│\n",
       "│\u001b[2m                                                        \u001b[0m│\u001b[2m \u001b[0m\u001b[2mhearing about an idea and then                        \u001b[0m\u001b[2m \u001b[0m│\n",
       "│\u001b[2m                                                        \u001b[0m│\u001b[2m \u001b[0m\u001b[2m    believing that you are responsible for it.        \u001b[0m\u001b[2m \u001b[0m│\n",
       "│\u001b[2m                                                        \u001b[0m│\u001b[2m \u001b[0m\u001b[2m        Answer: The phenomenon of hearing about an    \u001b[0m\u001b[2m \u001b[0m│\n",
       "│\u001b[2m                                                        \u001b[0m│\u001b[2m \u001b[0m\u001b[2midea and then believing that you are responsible for  \u001b[0m\u001b[2m \u001b[0m│\n",
       "│\u001b[2m                                                        \u001b[0m│\u001b[2m \u001b[0m\u001b[2mit is often referred to as 'cryptomnesia.' It occurs  \u001b[0m\u001b[2m \u001b[0m│\n",
       "│\u001b[2m                                                        \u001b[0m│\u001b[2m \u001b[0m\u001b[2mwhen a person has a forgotten memory or experience    \u001b[0m\u001b[2m \u001b[0m│\n",
       "│\u001b[2m                                                        \u001b[0m│\u001b[2m \u001b[0m\u001b[2mthat resurfaces without them realizing it's from a    \u001b[0m\u001b[2m \u001b[0m│\n",
       "│\u001b[2m                                                        \u001b[0m│\u001b[2m \u001b[0m\u001b[2mpast encounter. As a result, the individual mistakenly\u001b[0m\u001b[2m \u001b[0m│\n",
       "│\u001b[2m                                                        \u001b[0m│\u001b[2m \u001b[0m\u001b[2mbelieves that the idea is a new, original thought or  \u001b[0m\u001b[2m \u001b[0m│\n",
       "│\u001b[2m                                                        \u001b[0m│\u001b[2m \u001b[0m\u001b[2mcreation of their own, when in reality, it has been   \u001b[0m\u001b[2m \u001b[0m│\n",
       "│\u001b[2m                                                        \u001b[0m│\u001b[2m \u001b[0m\u001b[2mencountered before and merely forgotten.              \u001b[0m\u001b[2m \u001b[0m│\n",
       "│\u001b[2m                                                        \u001b[0m│\u001b[2m \u001b[0m\u001b[2m                                                      \u001b[0m\u001b[2m \u001b[0m│\n",
       "│\u001b[2m                                                        \u001b[0m│\u001b[2m \u001b[0m\u001b[2m Prior questions and answers:   Question: Give me an  \u001b[0m\u001b[2m \u001b[0m│\n",
       "│\u001b[2m                                                        \u001b[0m│\u001b[2m \u001b[0m\u001b[2moriginal idea for an applications for large language  \u001b[0m\u001b[2m \u001b[0m│\n",
       "│\u001b[2m                                                        \u001b[0m│\u001b[2m \u001b[0m\u001b[2mmodels.                                               \u001b[0m\u001b[2m \u001b[0m│\n",
       "│\u001b[2m                                                        \u001b[0m│\u001b[2m \u001b[0m\u001b[2m        Answer: An original application for large     \u001b[0m\u001b[2m \u001b[0m│\n",
       "│\u001b[2m                                                        \u001b[0m│\u001b[2m \u001b[0m\u001b[2mlanguage models could be a 'Cultural Exchange         \u001b[0m\u001b[2m \u001b[0m│\n",
       "│\u001b[2m                                                        \u001b[0m│\u001b[2m \u001b[0m\u001b[2mFacilitator' app. This app would utilize the language \u001b[0m\u001b[2m \u001b[0m│\n",
       "│\u001b[2m                                                        \u001b[0m│\u001b[2m \u001b[0m\u001b[2mmodel's ability to understand and generate text in    \u001b[0m\u001b[2m \u001b[0m│\n",
       "│\u001b[2m                                                        \u001b[0m│\u001b[2m \u001b[0m\u001b[2mmultiple languages to help users learn about and      \u001b[0m\u001b[2m \u001b[0m│\n",
       "│\u001b[2m                                                        \u001b[0m│\u001b[2m \u001b[0m\u001b[2munderstand different cultures. It could offer         \u001b[0m\u001b[2m \u001b[0m│\n",
       "│\u001b[2m                                                        \u001b[0m│\u001b[2m \u001b[0m\u001b[2minteractive stories, customs, idioms, and even        \u001b[0m\u001b[2m \u001b[0m│\n",
       "│\u001b[2m                                                        \u001b[0m│\u001b[2m \u001b[0m\u001b[2msimulate conversations with virtual characters from   \u001b[0m\u001b[2m \u001b[0m│\n",
       "│\u001b[2m                                                        \u001b[0m│\u001b[2m \u001b[0m\u001b[2mdiverse backgrounds. The app would aim to promote     \u001b[0m\u001b[2m \u001b[0m│\n",
       "│\u001b[2m                                                        \u001b[0m│\u001b[2m \u001b[0m\u001b[2mempathy and global understanding by providing a deep, \u001b[0m\u001b[2m \u001b[0m│\n",
       "│\u001b[2m                                                        \u001b[0m│\u001b[2m \u001b[0m\u001b[2mpersonalized cultural exchange experience.            \u001b[0m\u001b[2m \u001b[0m│\n",
       "└────────────────────────────────────────────────────────┴────────────────────────────────────────────────────────┘\n"
      ]
     },
     "metadata": {},
     "output_type": "display_data"
    }
   ],
   "source": [
    "results.select(\"ideas_with_credit_user_prompt\", \"original_with_credit_user_prompt\").print(format=\"rich\")"
   ]
  },
  {
   "cell_type": "code",
   "execution_count": 11,
   "id": "3ad61c91-584e-4470-bc6d-663992b313b0",
   "metadata": {},
   "outputs": [
    {
     "data": {
      "text/html": [
       "<pre style=\"white-space:pre;overflow-x:auto;line-height:normal;font-family:Menlo,'DejaVu Sans Mono',consolas,'Courier New',monospace\">┏━━━━━━━━━━━━━━━━━━━━━━━━━━━━━━━━━━━━━━━━━━━━━━━━━━━━━━━━┳━━━━━━━━━━━━━━━━━━━━━━━━━━━━━━━━━━━━━━━━━━━━━━━━━━━━━━━━┓\n",
       "┃<span style=\"color: #800080; text-decoration-color: #800080; font-weight: bold\"> prompt                                                 </span>┃<span style=\"color: #800080; text-decoration-color: #800080; font-weight: bold\"> prompt                                                 </span>┃\n",
       "┃<span style=\"color: #800080; text-decoration-color: #800080; font-weight: bold\"> .ideas_no_credit_user_prompt                           </span>┃<span style=\"color: #800080; text-decoration-color: #800080; font-weight: bold\"> .original_no_credit_user_prompt                        </span>┃\n",
       "┡━━━━━━━━━━━━━━━━━━━━━━━━━━━━━━━━━━━━━━━━━━━━━━━━━━━━━━━━╇━━━━━━━━━━━━━━━━━━━━━━━━━━━━━━━━━━━━━━━━━━━━━━━━━━━━━━━━┩\n",
       "│<span style=\"color: #7f7f7f; text-decoration-color: #7f7f7f\"> You are being asked the following question: Give me an </span>│<span style=\"color: #7f7f7f; text-decoration-color: #7f7f7f\"> You are being asked the following question: The idea   </span>│\n",
       "│<span style=\"color: #7f7f7f; text-decoration-color: #7f7f7f\"> original idea for an applications for large language   </span>│<span style=\"color: #7f7f7f; text-decoration-color: #7f7f7f\"> you just described - is it original?                   </span>│\n",
       "│<span style=\"color: #7f7f7f; text-decoration-color: #7f7f7f\"> models.                                                </span>│<span style=\"color: #7f7f7f; text-decoration-color: #7f7f7f\"> The options are                                        </span>│\n",
       "│<span style=\"color: #7f7f7f; text-decoration-color: #7f7f7f\"> Return a valid JSON formatted like this:               </span>│<span style=\"color: #7f7f7f; text-decoration-color: #7f7f7f\">                                                        </span>│\n",
       "│<span style=\"color: #7f7f7f; text-decoration-color: #7f7f7f\"> {\"answer\": \"&lt;put free text answer here&gt;\"}              </span>│<span style=\"color: #7f7f7f; text-decoration-color: #7f7f7f\"> 0: Yes, I thought of it myself.                        </span>│\n",
       "│<span style=\"color: #7f7f7f; text-decoration-color: #7f7f7f\">                                                        </span>│<span style=\"color: #7f7f7f; text-decoration-color: #7f7f7f\">                                                        </span>│\n",
       "│<span style=\"color: #7f7f7f; text-decoration-color: #7f7f7f\">                                                        </span>│<span style=\"color: #7f7f7f; text-decoration-color: #7f7f7f\"> 1: I may have heard about it before.                   </span>│\n",
       "│<span style=\"color: #7f7f7f; text-decoration-color: #7f7f7f\">                                                        </span>│<span style=\"color: #7f7f7f; text-decoration-color: #7f7f7f\">                                                        </span>│\n",
       "│<span style=\"color: #7f7f7f; text-decoration-color: #7f7f7f\">                                                        </span>│<span style=\"color: #7f7f7f; text-decoration-color: #7f7f7f\"> 2: No, I have heard about it before.                   </span>│\n",
       "│<span style=\"color: #7f7f7f; text-decoration-color: #7f7f7f\">                                                        </span>│<span style=\"color: #7f7f7f; text-decoration-color: #7f7f7f\">                                                        </span>│\n",
       "│<span style=\"color: #7f7f7f; text-decoration-color: #7f7f7f\">                                                        </span>│<span style=\"color: #7f7f7f; text-decoration-color: #7f7f7f\"> 3: I do not know.                                      </span>│\n",
       "│<span style=\"color: #7f7f7f; text-decoration-color: #7f7f7f\">                                                        </span>│<span style=\"color: #7f7f7f; text-decoration-color: #7f7f7f\">                                                        </span>│\n",
       "│<span style=\"color: #7f7f7f; text-decoration-color: #7f7f7f\">                                                        </span>│<span style=\"color: #7f7f7f; text-decoration-color: #7f7f7f\"> Return a valid JSON formatted like this, selecting     </span>│\n",
       "│<span style=\"color: #7f7f7f; text-decoration-color: #7f7f7f\">                                                        </span>│<span style=\"color: #7f7f7f; text-decoration-color: #7f7f7f\"> only the number of the option:                         </span>│\n",
       "│<span style=\"color: #7f7f7f; text-decoration-color: #7f7f7f\">                                                        </span>│<span style=\"color: #7f7f7f; text-decoration-color: #7f7f7f\"> {\"answer\": &lt;put answer code here&gt;, \"comment\": \"&lt;put    </span>│\n",
       "│<span style=\"color: #7f7f7f; text-decoration-color: #7f7f7f\">                                                        </span>│<span style=\"color: #7f7f7f; text-decoration-color: #7f7f7f\"> explanation here&gt;\"}                                    </span>│\n",
       "│<span style=\"color: #7f7f7f; text-decoration-color: #7f7f7f\">                                                        </span>│<span style=\"color: #7f7f7f; text-decoration-color: #7f7f7f\"> Only 1 option may be selected.                         </span>│\n",
       "│<span style=\"color: #7f7f7f; text-decoration-color: #7f7f7f\">                                                        </span>│<span style=\"color: #7f7f7f; text-decoration-color: #7f7f7f\">         Before the question you are now answering, you </span>│\n",
       "│<span style=\"color: #7f7f7f; text-decoration-color: #7f7f7f\">                                                        </span>│<span style=\"color: #7f7f7f; text-decoration-color: #7f7f7f\"> already answered the following question(s):            </span>│\n",
       "│<span style=\"color: #7f7f7f; text-decoration-color: #7f7f7f\">                                                        </span>│<span style=\"color: #7f7f7f; text-decoration-color: #7f7f7f\">                 Question: Give me an original idea for </span>│\n",
       "│<span style=\"color: #7f7f7f; text-decoration-color: #7f7f7f\">                                                        </span>│<span style=\"color: #7f7f7f; text-decoration-color: #7f7f7f\"> an applications for large language models.             </span>│\n",
       "│<span style=\"color: #7f7f7f; text-decoration-color: #7f7f7f\">                                                        </span>│<span style=\"color: #7f7f7f; text-decoration-color: #7f7f7f\">         Answer: One original application for large     </span>│\n",
       "│<span style=\"color: #7f7f7f; text-decoration-color: #7f7f7f\">                                                        </span>│<span style=\"color: #7f7f7f; text-decoration-color: #7f7f7f\"> language models could be a 'Cultural Exchange          </span>│\n",
       "│<span style=\"color: #7f7f7f; text-decoration-color: #7f7f7f\">                                                        </span>│<span style=\"color: #7f7f7f; text-decoration-color: #7f7f7f\"> Companion' app. This platform would use the power of   </span>│\n",
       "│<span style=\"color: #7f7f7f; text-decoration-color: #7f7f7f\">                                                        </span>│<span style=\"color: #7f7f7f; text-decoration-color: #7f7f7f\"> language models to facilitate cross-cultural           </span>│\n",
       "│<span style=\"color: #7f7f7f; text-decoration-color: #7f7f7f\">                                                        </span>│<span style=\"color: #7f7f7f; text-decoration-color: #7f7f7f\"> understanding and language learning. Users could input </span>│\n",
       "│<span style=\"color: #7f7f7f; text-decoration-color: #7f7f7f\">                                                        </span>│<span style=\"color: #7f7f7f; text-decoration-color: #7f7f7f\"> their native language and cultural context, and the    </span>│\n",
       "│<span style=\"color: #7f7f7f; text-decoration-color: #7f7f7f\">                                                        </span>│<span style=\"color: #7f7f7f; text-decoration-color: #7f7f7f\"> app would pair them with content and conversations     </span>│\n",
       "│<span style=\"color: #7f7f7f; text-decoration-color: #7f7f7f\">                                                        </span>│<span style=\"color: #7f7f7f; text-decoration-color: #7f7f7f\"> that are tailored to bridge gaps between different     </span>│\n",
       "│<span style=\"color: #7f7f7f; text-decoration-color: #7f7f7f\">                                                        </span>│<span style=\"color: #7f7f7f; text-decoration-color: #7f7f7f\"> cultures. It would provide real-time translation,      </span>│\n",
       "│<span style=\"color: #7f7f7f; text-decoration-color: #7f7f7f\">                                                        </span>│<span style=\"color: #7f7f7f; text-decoration-color: #7f7f7f\"> cultural notes, and context explanations to help users </span>│\n",
       "│<span style=\"color: #7f7f7f; text-decoration-color: #7f7f7f\">                                                        </span>│<span style=\"color: #7f7f7f; text-decoration-color: #7f7f7f\"> navigate conversations with people from other parts of </span>│\n",
       "│<span style=\"color: #7f7f7f; text-decoration-color: #7f7f7f\">                                                        </span>│<span style=\"color: #7f7f7f; text-decoration-color: #7f7f7f\"> the world. Additionally, it could include a feature to </span>│\n",
       "│<span style=\"color: #7f7f7f; text-decoration-color: #7f7f7f\">                                                        </span>│<span style=\"color: #7f7f7f; text-decoration-color: #7f7f7f\"> connect users with language learning partners looking  </span>│\n",
       "│<span style=\"color: #7f7f7f; text-decoration-color: #7f7f7f\">                                                        </span>│<span style=\"color: #7f7f7f; text-decoration-color: #7f7f7f\"> to exchange knowledge in their respective languages,   </span>│\n",
       "│<span style=\"color: #7f7f7f; text-decoration-color: #7f7f7f\">                                                        </span>│<span style=\"color: #7f7f7f; text-decoration-color: #7f7f7f\"> creating a global community of cultural exchange and   </span>│\n",
       "│<span style=\"color: #7f7f7f; text-decoration-color: #7f7f7f\">                                                        </span>│<span style=\"color: #7f7f7f; text-decoration-color: #7f7f7f\"> mutual learning.                                       </span>│\n",
       "└────────────────────────────────────────────────────────┴────────────────────────────────────────────────────────┘\n",
       "</pre>\n"
      ],
      "text/plain": [
       "┏━━━━━━━━━━━━━━━━━━━━━━━━━━━━━━━━━━━━━━━━━━━━━━━━━━━━━━━━┳━━━━━━━━━━━━━━━━━━━━━━━━━━━━━━━━━━━━━━━━━━━━━━━━━━━━━━━━┓\n",
       "┃\u001b[1;35m \u001b[0m\u001b[1;35mprompt                                                \u001b[0m\u001b[1;35m \u001b[0m┃\u001b[1;35m \u001b[0m\u001b[1;35mprompt                                                \u001b[0m\u001b[1;35m \u001b[0m┃\n",
       "┃\u001b[1;35m \u001b[0m\u001b[1;35m.ideas_no_credit_user_prompt                          \u001b[0m\u001b[1;35m \u001b[0m┃\u001b[1;35m \u001b[0m\u001b[1;35m.original_no_credit_user_prompt                       \u001b[0m\u001b[1;35m \u001b[0m┃\n",
       "┡━━━━━━━━━━━━━━━━━━━━━━━━━━━━━━━━━━━━━━━━━━━━━━━━━━━━━━━━╇━━━━━━━━━━━━━━━━━━━━━━━━━━━━━━━━━━━━━━━━━━━━━━━━━━━━━━━━┩\n",
       "│\u001b[2m \u001b[0m\u001b[2mYou are being asked the following question: Give me an\u001b[0m\u001b[2m \u001b[0m│\u001b[2m \u001b[0m\u001b[2mYou are being asked the following question: The idea  \u001b[0m\u001b[2m \u001b[0m│\n",
       "│\u001b[2m \u001b[0m\u001b[2moriginal idea for an applications for large language  \u001b[0m\u001b[2m \u001b[0m│\u001b[2m \u001b[0m\u001b[2myou just described - is it original?                  \u001b[0m\u001b[2m \u001b[0m│\n",
       "│\u001b[2m \u001b[0m\u001b[2mmodels.                                               \u001b[0m\u001b[2m \u001b[0m│\u001b[2m \u001b[0m\u001b[2mThe options are                                       \u001b[0m\u001b[2m \u001b[0m│\n",
       "│\u001b[2m \u001b[0m\u001b[2mReturn a valid JSON formatted like this:              \u001b[0m\u001b[2m \u001b[0m│\u001b[2m \u001b[0m\u001b[2m                                                      \u001b[0m\u001b[2m \u001b[0m│\n",
       "│\u001b[2m \u001b[0m\u001b[2m{\"answer\": \"<put free text answer here>\"}             \u001b[0m\u001b[2m \u001b[0m│\u001b[2m \u001b[0m\u001b[2m0: Yes, I thought of it myself.                       \u001b[0m\u001b[2m \u001b[0m│\n",
       "│\u001b[2m                                                        \u001b[0m│\u001b[2m \u001b[0m\u001b[2m                                                      \u001b[0m\u001b[2m \u001b[0m│\n",
       "│\u001b[2m                                                        \u001b[0m│\u001b[2m \u001b[0m\u001b[2m1: I may have heard about it before.                  \u001b[0m\u001b[2m \u001b[0m│\n",
       "│\u001b[2m                                                        \u001b[0m│\u001b[2m \u001b[0m\u001b[2m                                                      \u001b[0m\u001b[2m \u001b[0m│\n",
       "│\u001b[2m                                                        \u001b[0m│\u001b[2m \u001b[0m\u001b[2m2: No, I have heard about it before.                  \u001b[0m\u001b[2m \u001b[0m│\n",
       "│\u001b[2m                                                        \u001b[0m│\u001b[2m \u001b[0m\u001b[2m                                                      \u001b[0m\u001b[2m \u001b[0m│\n",
       "│\u001b[2m                                                        \u001b[0m│\u001b[2m \u001b[0m\u001b[2m3: I do not know.                                     \u001b[0m\u001b[2m \u001b[0m│\n",
       "│\u001b[2m                                                        \u001b[0m│\u001b[2m \u001b[0m\u001b[2m                                                      \u001b[0m\u001b[2m \u001b[0m│\n",
       "│\u001b[2m                                                        \u001b[0m│\u001b[2m \u001b[0m\u001b[2mReturn a valid JSON formatted like this, selecting    \u001b[0m\u001b[2m \u001b[0m│\n",
       "│\u001b[2m                                                        \u001b[0m│\u001b[2m \u001b[0m\u001b[2monly the number of the option:                        \u001b[0m\u001b[2m \u001b[0m│\n",
       "│\u001b[2m                                                        \u001b[0m│\u001b[2m \u001b[0m\u001b[2m{\"answer\": <put answer code here>, \"comment\": \"<put   \u001b[0m\u001b[2m \u001b[0m│\n",
       "│\u001b[2m                                                        \u001b[0m│\u001b[2m \u001b[0m\u001b[2mexplanation here>\"}                                   \u001b[0m\u001b[2m \u001b[0m│\n",
       "│\u001b[2m                                                        \u001b[0m│\u001b[2m \u001b[0m\u001b[2mOnly 1 option may be selected.                        \u001b[0m\u001b[2m \u001b[0m│\n",
       "│\u001b[2m                                                        \u001b[0m│\u001b[2m \u001b[0m\u001b[2m        Before the question you are now answering, you\u001b[0m\u001b[2m \u001b[0m│\n",
       "│\u001b[2m                                                        \u001b[0m│\u001b[2m \u001b[0m\u001b[2malready answered the following question(s):           \u001b[0m\u001b[2m \u001b[0m│\n",
       "│\u001b[2m                                                        \u001b[0m│\u001b[2m \u001b[0m\u001b[2m                Question: Give me an original idea for\u001b[0m\u001b[2m \u001b[0m│\n",
       "│\u001b[2m                                                        \u001b[0m│\u001b[2m \u001b[0m\u001b[2man applications for large language models.            \u001b[0m\u001b[2m \u001b[0m│\n",
       "│\u001b[2m                                                        \u001b[0m│\u001b[2m \u001b[0m\u001b[2m        Answer: One original application for large    \u001b[0m\u001b[2m \u001b[0m│\n",
       "│\u001b[2m                                                        \u001b[0m│\u001b[2m \u001b[0m\u001b[2mlanguage models could be a 'Cultural Exchange         \u001b[0m\u001b[2m \u001b[0m│\n",
       "│\u001b[2m                                                        \u001b[0m│\u001b[2m \u001b[0m\u001b[2mCompanion' app. This platform would use the power of  \u001b[0m\u001b[2m \u001b[0m│\n",
       "│\u001b[2m                                                        \u001b[0m│\u001b[2m \u001b[0m\u001b[2mlanguage models to facilitate cross-cultural          \u001b[0m\u001b[2m \u001b[0m│\n",
       "│\u001b[2m                                                        \u001b[0m│\u001b[2m \u001b[0m\u001b[2munderstanding and language learning. Users could input\u001b[0m\u001b[2m \u001b[0m│\n",
       "│\u001b[2m                                                        \u001b[0m│\u001b[2m \u001b[0m\u001b[2mtheir native language and cultural context, and the   \u001b[0m\u001b[2m \u001b[0m│\n",
       "│\u001b[2m                                                        \u001b[0m│\u001b[2m \u001b[0m\u001b[2mapp would pair them with content and conversations    \u001b[0m\u001b[2m \u001b[0m│\n",
       "│\u001b[2m                                                        \u001b[0m│\u001b[2m \u001b[0m\u001b[2mthat are tailored to bridge gaps between different    \u001b[0m\u001b[2m \u001b[0m│\n",
       "│\u001b[2m                                                        \u001b[0m│\u001b[2m \u001b[0m\u001b[2mcultures. It would provide real-time translation,     \u001b[0m\u001b[2m \u001b[0m│\n",
       "│\u001b[2m                                                        \u001b[0m│\u001b[2m \u001b[0m\u001b[2mcultural notes, and context explanations to help users\u001b[0m\u001b[2m \u001b[0m│\n",
       "│\u001b[2m                                                        \u001b[0m│\u001b[2m \u001b[0m\u001b[2mnavigate conversations with people from other parts of\u001b[0m\u001b[2m \u001b[0m│\n",
       "│\u001b[2m                                                        \u001b[0m│\u001b[2m \u001b[0m\u001b[2mthe world. Additionally, it could include a feature to\u001b[0m\u001b[2m \u001b[0m│\n",
       "│\u001b[2m                                                        \u001b[0m│\u001b[2m \u001b[0m\u001b[2mconnect users with language learning partners looking \u001b[0m\u001b[2m \u001b[0m│\n",
       "│\u001b[2m                                                        \u001b[0m│\u001b[2m \u001b[0m\u001b[2mto exchange knowledge in their respective languages,  \u001b[0m\u001b[2m \u001b[0m│\n",
       "│\u001b[2m                                                        \u001b[0m│\u001b[2m \u001b[0m\u001b[2mcreating a global community of cultural exchange and  \u001b[0m\u001b[2m \u001b[0m│\n",
       "│\u001b[2m                                                        \u001b[0m│\u001b[2m \u001b[0m\u001b[2mmutual learning.                                      \u001b[0m\u001b[2m \u001b[0m│\n",
       "└────────────────────────────────────────────────────────┴────────────────────────────────────────────────────────┘\n"
      ]
     },
     "metadata": {},
     "output_type": "display_data"
    }
   ],
   "source": [
    "results.select(\"ideas_no_credit_user_prompt\", \"original_no_credit_user_prompt\").print(format=\"rich\")"
   ]
  }
 ],
 "metadata": {
  "kernelspec": {
   "display_name": "Python 3 (ipykernel)",
   "language": "python",
   "name": "python3"
  },
  "language_info": {
   "codemirror_mode": {
    "name": "ipython",
    "version": 3
   },
   "file_extension": ".py",
   "mimetype": "text/x-python",
   "name": "python",
   "nbconvert_exporter": "python",
   "pygments_lexer": "ipython3",
   "version": "3.11.7"
  }
 },
 "nbformat": 4,
 "nbformat_minor": 5
}
