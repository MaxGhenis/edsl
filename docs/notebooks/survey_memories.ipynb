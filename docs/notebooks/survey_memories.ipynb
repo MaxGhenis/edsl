{
 "cells": [
  {
   "cell_type": "markdown",
   "id": "0ddec0bd-041d-4e4e-bfb9-cd65239ec598",
   "metadata": {
    "editable": true,
    "slideshow": {
     "slide_type": ""
    },
    "tags": []
   },
   "source": [
    "# Survey memory\n",
    "This notebook provides sample [EDSL](https://docs.expectedparrot.com/) code demonstrating how to add \"memories\" of previous questions to other simulated survey questions, to allow comparison of responses to questions where memories of prior questions are not added.\n",
    "\n",
    "EDSL is an open-source library for simulating surveys and experiments with AI. Please see our [documentation page](https://docs.expectedparrot.com/) for tips and tutorials on getting started.\n",
    "\n",
    "## Benefits of simulated surveys\n",
    "Some benefits of using AI agents to answer surveys are that agents can be presented any number of questions to answer - tirelessly! - and that questions can be presented with or without information about other responses that have already been given. This allows us to easily explore how agents respond to the same questions with different contexts.\n",
    "\n",
    "## No-memory default\n",
    "By default, EDSL survey questions are administered asynchronously to the agents and language models added to the survey when it is run. This means that questions are answered independently of each other, unless other rules have been specified. This default behavior is useful for speed and minimizing token usage (not repeating prior question contexts unnecessarily).\n",
    "\n",
    "However, in some cases we may want an agent to have the context of some or all prior questions when answering a given question (e.g., to immitate a human's experience answering a survey). Or, we may simply want to explore the potential impact of prior question contexts by running new questions with and without memories of them.\n",
    "\n",
    "## How it works\n",
    "EDSL has several options for adding survey memories:\n",
    "\n",
    "* `set_full_memory_mode()` adds a memory of all prior questions and answers to each new question\n",
    "* `set_lagged_memory(n)` adds a memory of a specified number of prior questions and answers to each new question\n",
    "* `add_targeted_memory(<new_question>, <prior_question>)` adds a memory of specific prior question to a specific new question\n",
    "* `add_memory_collection(<new_question>, [<list_of_prior_questions>])` adds memories of a set of prior questions and answers to a specific new question\n",
    "\n",
    "[Learn more about memory rules](https://docs.expectedparrot.com/en/latest/surveys.html#question-memory)."
   ]
  },
  {
   "cell_type": "markdown",
   "id": "67b430a5-2f21-404f-a946-a362088a75c4",
   "metadata": {
    "editable": true,
    "slideshow": {
     "slide_type": ""
    },
    "tags": []
   },
   "source": [
    "## Creating questions\n",
    "Here we create a survey of free text and multiple choice questions; [learn more about other question types](https://docs.expectedparrot.com/en/latest/questions.html) to choose from. Note that we include copies of questions in order for the results to show side-by-side responses where we have and have not added memories of prior questions:"
   ]
  },
  {
   "cell_type": "code",
   "execution_count": 1,
   "id": "7b3b5ef6-c7f9-4ed5-8b81-96ff2bcaa4ad",
   "metadata": {
    "editable": true,
    "slideshow": {
     "slide_type": ""
    },
    "tags": []
   },
   "outputs": [],
   "source": [
    "from edsl import QuestionFreeText, QuestionMultipleChoice, Survey"
   ]
  },
  {
   "cell_type": "code",
   "execution_count": 2,
   "id": "449992b5-a4d3-44c0-8f92-8349b90fd28e",
   "metadata": {
    "editable": true,
    "slideshow": {
     "slide_type": ""
    },
    "tags": []
   },
   "outputs": [],
   "source": [
    "q_credit = QuestionFreeText(\n",
    "    question_name=\"credit\",\n",
    "    question_text=\"\"\"Have you heard about the phenomenon of hearing about an idea and \n",
    "    then believing that you are responsible for it?\"\"\",\n",
    ")\n",
    "\n",
    "q_ideas_with_credit = QuestionFreeText(\n",
    "    question_name=\"ideas_with_credit\",\n",
    "    question_text=\"What's an original idea for an application for large language models.\",\n",
    ")\n",
    "\n",
    "q_ideas_no_credit = QuestionFreeText(\n",
    "    question_name=\"ideas_no_credit\",\n",
    "    question_text=\"What's an original idea for an application for large language models.\",\n",
    ")\n",
    "\n",
    "q_original_with_credit = QuestionMultipleChoice(\n",
    "    question_name=\"original_with_credit\",\n",
    "    question_text=\"The idea you just described - is it original?\",\n",
    "    question_options=[\n",
    "        \"Yes, I thought of it myself.\",\n",
    "        \"I may have heard about it before.\",\n",
    "        \"No, I have heard about it before.\",\n",
    "        \"I do not know.\",\n",
    "    ],\n",
    ")\n",
    "\n",
    "q_original_no_credit = QuestionMultipleChoice(\n",
    "    question_name=\"original_no_credit\",\n",
    "    question_text=\"The idea you just described - is it original?\",\n",
    "    question_options=[\n",
    "        \"Yes, I thought of it myself.\",\n",
    "        \"I may have heard about it before.\",\n",
    "        \"No, I have heard about it before.\",\n",
    "        \"I do not know.\",\n",
    "    ],\n",
    ")"
   ]
  },
  {
   "cell_type": "code",
   "execution_count": 3,
   "id": "22d50e1f-8eef-4602-b129-50e89dbf0424",
   "metadata": {
    "editable": true,
    "slideshow": {
     "slide_type": ""
    },
    "tags": []
   },
   "outputs": [],
   "source": [
    "survey = Survey(\n",
    "    [\n",
    "        q_credit,\n",
    "        q_ideas_with_credit,\n",
    "        q_ideas_no_credit,\n",
    "        q_original_with_credit,\n",
    "        q_original_no_credit,\n",
    "    ]\n",
    ")"
   ]
  },
  {
   "cell_type": "markdown",
   "id": "684fd78b-15c7-4087-bf23-297090943f9c",
   "metadata": {
    "editable": true,
    "slideshow": {
     "slide_type": ""
    },
    "tags": []
   },
   "source": [
    "## Targeted memories\n",
    "Here we add memories so that the results will include (1) a response to the \"original\" question where the \"idea\" question included the context of the \"credit\" question and (2) a response to the \"original\" question where the \"idea\" question did *not* include the context of the \"credit\" question:"
   ]
  },
  {
   "cell_type": "code",
   "execution_count": 4,
   "id": "d5649b3c-6abe-4e49-94fb-50c8afb44ce5",
   "metadata": {
    "editable": true,
    "slideshow": {
     "slide_type": ""
    },
    "tags": []
   },
   "outputs": [],
   "source": [
    "survey = (\n",
    "    survey\n",
    "    # Adding a memory of \"credit\" to the first iteration of \"ideas\"\n",
    "    .add_targeted_memory(q_ideas_with_credit, q_credit)\n",
    "    # Adding memories of both \"credit\" and \"ideas\" to the first iteration of \"original\"\n",
    "    .add_memory_collection(q_original_with_credit, [q_credit, q_ideas_with_credit])\n",
    "    # Adding a memory of \"ideas\" where \"credit\" was not included to the second iteration of \"original\"\n",
    "    .add_targeted_memory(q_original_no_credit, q_ideas_no_credit)\n",
    ")"
   ]
  },
  {
   "cell_type": "code",
   "execution_count": 5,
   "id": "fc07d928-de6e-4baa-8e7b-338c6cab8616",
   "metadata": {
    "editable": true,
    "slideshow": {
     "slide_type": ""
    },
    "tags": []
   },
   "outputs": [],
   "source": [
    "results = survey.run()"
   ]
  },
  {
   "cell_type": "code",
   "execution_count": 6,
   "id": "e9f3337f-69c9-437b-9ead-394f75ca77f8",
   "metadata": {
    "editable": true,
    "slideshow": {
     "slide_type": ""
    },
    "tags": []
   },
   "outputs": [
    {
     "data": {
      "text/html": [
       "<pre style=\"white-space:pre;overflow-x:auto;line-height:normal;font-family:Menlo,'DejaVu Sans Mono',consolas,'Courier New',monospace\">┏━━━━━━━━━━━━━━━━━━━━━━━━━━━━┳━━━━━━━━━━━━━━━━━━━━━━━━━━━┳━━━━━━━━━━━━━━━━━━━━━━━━━━━━┳━━━━━━━━━━━━━━━━━━━━━━━━━━━┓\n",
       "┃<span style=\"color: #800080; text-decoration-color: #800080; font-weight: bold\"> answer                     </span>┃<span style=\"color: #800080; text-decoration-color: #800080; font-weight: bold\"> answer                    </span>┃<span style=\"color: #800080; text-decoration-color: #800080; font-weight: bold\"> answer                     </span>┃<span style=\"color: #800080; text-decoration-color: #800080; font-weight: bold\"> answer                    </span>┃\n",
       "┃<span style=\"color: #800080; text-decoration-color: #800080; font-weight: bold\"> .ideas_with_credit         </span>┃<span style=\"color: #800080; text-decoration-color: #800080; font-weight: bold\"> .original_with_credit     </span>┃<span style=\"color: #800080; text-decoration-color: #800080; font-weight: bold\"> .ideas_no_credit           </span>┃<span style=\"color: #800080; text-decoration-color: #800080; font-weight: bold\"> .original_no_credit       </span>┃\n",
       "┡━━━━━━━━━━━━━━━━━━━━━━━━━━━━╇━━━━━━━━━━━━━━━━━━━━━━━━━━━╇━━━━━━━━━━━━━━━━━━━━━━━━━━━━╇━━━━━━━━━━━━━━━━━━━━━━━━━━━┩\n",
       "│<span style=\"color: #7f7f7f; text-decoration-color: #7f7f7f\"> An original idea for an    </span>│<span style=\"color: #7f7f7f; text-decoration-color: #7f7f7f\"> Yes, I thought of it      </span>│<span style=\"color: #7f7f7f; text-decoration-color: #7f7f7f\"> Sure, how about an         </span>│<span style=\"color: #7f7f7f; text-decoration-color: #7f7f7f\"> Yes, I thought of it      </span>│\n",
       "│<span style=\"color: #7f7f7f; text-decoration-color: #7f7f7f\"> application using large    </span>│<span style=\"color: #7f7f7f; text-decoration-color: #7f7f7f\"> myself.                   </span>│<span style=\"color: #7f7f7f; text-decoration-color: #7f7f7f\"> \"Interactive Storytelling  </span>│<span style=\"color: #7f7f7f; text-decoration-color: #7f7f7f\"> myself.                   </span>│\n",
       "│<span style=\"color: #7f7f7f; text-decoration-color: #7f7f7f\"> language models could be a </span>│<span style=\"color: #7f7f7f; text-decoration-color: #7f7f7f\">                           </span>│<span style=\"color: #7f7f7f; text-decoration-color: #7f7f7f\"> Companion\"? This           </span>│<span style=\"color: #7f7f7f; text-decoration-color: #7f7f7f\">                           </span>│\n",
       "│<span style=\"color: #7f7f7f; text-decoration-color: #7f7f7f\"> \"Creative Writing          </span>│<span style=\"color: #7f7f7f; text-decoration-color: #7f7f7f\">                           </span>│<span style=\"color: #7f7f7f; text-decoration-color: #7f7f7f\"> application would leverage </span>│<span style=\"color: #7f7f7f; text-decoration-color: #7f7f7f\">                           </span>│\n",
       "│<span style=\"color: #7f7f7f; text-decoration-color: #7f7f7f\"> Collaborator\" app. This    </span>│<span style=\"color: #7f7f7f; text-decoration-color: #7f7f7f\">                           </span>│<span style=\"color: #7f7f7f; text-decoration-color: #7f7f7f\"> large language models to   </span>│<span style=\"color: #7f7f7f; text-decoration-color: #7f7f7f\">                           </span>│\n",
       "│<span style=\"color: #7f7f7f; text-decoration-color: #7f7f7f\"> app would serve as a       </span>│<span style=\"color: #7f7f7f; text-decoration-color: #7f7f7f\">                           </span>│<span style=\"color: #7f7f7f; text-decoration-color: #7f7f7f\"> create a dynamic,          </span>│<span style=\"color: #7f7f7f; text-decoration-color: #7f7f7f\">                           </span>│\n",
       "│<span style=\"color: #7f7f7f; text-decoration-color: #7f7f7f\"> dynamic writing partner    </span>│<span style=\"color: #7f7f7f; text-decoration-color: #7f7f7f\">                           </span>│<span style=\"color: #7f7f7f; text-decoration-color: #7f7f7f\"> collaborative storytelling </span>│<span style=\"color: #7f7f7f; text-decoration-color: #7f7f7f\">                           </span>│\n",
       "│<span style=\"color: #7f7f7f; text-decoration-color: #7f7f7f\"> for authors,               </span>│<span style=\"color: #7f7f7f; text-decoration-color: #7f7f7f\">                           </span>│<span style=\"color: #7f7f7f; text-decoration-color: #7f7f7f\"> experience. Users could    </span>│<span style=\"color: #7f7f7f; text-decoration-color: #7f7f7f\">                           </span>│\n",
       "│<span style=\"color: #7f7f7f; text-decoration-color: #7f7f7f\"> screenwriters, and poets.  </span>│<span style=\"color: #7f7f7f; text-decoration-color: #7f7f7f\">                           </span>│<span style=\"color: #7f7f7f; text-decoration-color: #7f7f7f\"> start a story and at any   </span>│<span style=\"color: #7f7f7f; text-decoration-color: #7f7f7f\">                           </span>│\n",
       "│<span style=\"color: #7f7f7f; text-decoration-color: #7f7f7f\"> Here’s how it could work:  </span>│<span style=\"color: #7f7f7f; text-decoration-color: #7f7f7f\">                           </span>│<span style=\"color: #7f7f7f; text-decoration-color: #7f7f7f\"> point, ask the model to    </span>│<span style=\"color: #7f7f7f; text-decoration-color: #7f7f7f\">                           </span>│\n",
       "│<span style=\"color: #7f7f7f; text-decoration-color: #7f7f7f\">                            </span>│<span style=\"color: #7f7f7f; text-decoration-color: #7f7f7f\">                           </span>│<span style=\"color: #7f7f7f; text-decoration-color: #7f7f7f\"> continue, introduce new    </span>│<span style=\"color: #7f7f7f; text-decoration-color: #7f7f7f\">                           </span>│\n",
       "│<span style=\"color: #7f7f7f; text-decoration-color: #7f7f7f\"> 1. **Idea Generation**:    </span>│<span style=\"color: #7f7f7f; text-decoration-color: #7f7f7f\">                           </span>│<span style=\"color: #7f7f7f; text-decoration-color: #7f7f7f\"> characters, or even change </span>│<span style=\"color: #7f7f7f; text-decoration-color: #7f7f7f\">                           </span>│\n",
       "│<span style=\"color: #7f7f7f; text-decoration-color: #7f7f7f\"> Users can input a basic    </span>│<span style=\"color: #7f7f7f; text-decoration-color: #7f7f7f\">                           </span>│<span style=\"color: #7f7f7f; text-decoration-color: #7f7f7f\"> the setting. The model     </span>│<span style=\"color: #7f7f7f; text-decoration-color: #7f7f7f\">                           </span>│\n",
       "│<span style=\"color: #7f7f7f; text-decoration-color: #7f7f7f\"> premise or a few keywords, </span>│<span style=\"color: #7f7f7f; text-decoration-color: #7f7f7f\">                           </span>│<span style=\"color: #7f7f7f; text-decoration-color: #7f7f7f\"> could also suggest plot    </span>│<span style=\"color: #7f7f7f; text-decoration-color: #7f7f7f\">                           </span>│\n",
       "│<span style=\"color: #7f7f7f; text-decoration-color: #7f7f7f\"> and the app generates a    </span>│<span style=\"color: #7f7f7f; text-decoration-color: #7f7f7f\">                           </span>│<span style=\"color: #7f7f7f; text-decoration-color: #7f7f7f\"> twists or dialogue         </span>│<span style=\"color: #7f7f7f; text-decoration-color: #7f7f7f\">                           </span>│\n",
       "│<span style=\"color: #7f7f7f; text-decoration-color: #7f7f7f\"> variety of plot ideas,     </span>│<span style=\"color: #7f7f7f; text-decoration-color: #7f7f7f\">                           </span>│<span style=\"color: #7f7f7f; text-decoration-color: #7f7f7f\"> options, making the        </span>│<span style=\"color: #7f7f7f; text-decoration-color: #7f7f7f\">                           </span>│\n",
       "│<span style=\"color: #7f7f7f; text-decoration-color: #7f7f7f\"> character sketches, or     </span>│<span style=\"color: #7f7f7f; text-decoration-color: #7f7f7f\">                           </span>│<span style=\"color: #7f7f7f; text-decoration-color: #7f7f7f\"> storytelling process more  </span>│<span style=\"color: #7f7f7f; text-decoration-color: #7f7f7f\">                           </span>│\n",
       "│<span style=\"color: #7f7f7f; text-decoration-color: #7f7f7f\"> thematic suggestions.      </span>│<span style=\"color: #7f7f7f; text-decoration-color: #7f7f7f\">                           </span>│<span style=\"color: #7f7f7f; text-decoration-color: #7f7f7f\"> engaging and creative.     </span>│<span style=\"color: #7f7f7f; text-decoration-color: #7f7f7f\">                           </span>│\n",
       "│<span style=\"color: #7f7f7f; text-decoration-color: #7f7f7f\">                            </span>│<span style=\"color: #7f7f7f; text-decoration-color: #7f7f7f\">                           </span>│<span style=\"color: #7f7f7f; text-decoration-color: #7f7f7f\">                            </span>│<span style=\"color: #7f7f7f; text-decoration-color: #7f7f7f\">                           </span>│\n",
       "│<span style=\"color: #7f7f7f; text-decoration-color: #7f7f7f\"> 2. **Real-time             </span>│<span style=\"color: #7f7f7f; text-decoration-color: #7f7f7f\">                           </span>│<span style=\"color: #7f7f7f; text-decoration-color: #7f7f7f\"> Features could include:    </span>│<span style=\"color: #7f7f7f; text-decoration-color: #7f7f7f\">                           </span>│\n",
       "│<span style=\"color: #7f7f7f; text-decoration-color: #7f7f7f\"> Collaboration**: As the    </span>│<span style=\"color: #7f7f7f; text-decoration-color: #7f7f7f\">                           </span>│<span style=\"color: #7f7f7f; text-decoration-color: #7f7f7f\"> 1. **Genre Selection**:    </span>│<span style=\"color: #7f7f7f; text-decoration-color: #7f7f7f\">                           </span>│\n",
       "│<span style=\"color: #7f7f7f; text-decoration-color: #7f7f7f\"> user writes, the app can   </span>│<span style=\"color: #7f7f7f; text-decoration-color: #7f7f7f\">                           </span>│<span style=\"color: #7f7f7f; text-decoration-color: #7f7f7f\"> Users can choose the genre </span>│<span style=\"color: #7f7f7f; text-decoration-color: #7f7f7f\">                           </span>│\n",
       "│<span style=\"color: #7f7f7f; text-decoration-color: #7f7f7f\"> offer suggestions for      </span>│<span style=\"color: #7f7f7f; text-decoration-color: #7f7f7f\">                           </span>│<span style=\"color: #7f7f7f; text-decoration-color: #7f7f7f\"> (e.g., fantasy, sci-fi,    </span>│<span style=\"color: #7f7f7f; text-decoration-color: #7f7f7f\">                           </span>│\n",
       "│<span style=\"color: #7f7f7f; text-decoration-color: #7f7f7f\"> dialogue, plot twists, or  </span>│<span style=\"color: #7f7f7f; text-decoration-color: #7f7f7f\">                           </span>│<span style=\"color: #7f7f7f; text-decoration-color: #7f7f7f\"> mystery) and the model     </span>│<span style=\"color: #7f7f7f; text-decoration-color: #7f7f7f\">                           </span>│\n",
       "│<span style=\"color: #7f7f7f; text-decoration-color: #7f7f7f\"> descriptive language,      </span>│<span style=\"color: #7f7f7f; text-decoration-color: #7f7f7f\">                           </span>│<span style=\"color: #7f7f7f; text-decoration-color: #7f7f7f\"> will tailor its responses  </span>│<span style=\"color: #7f7f7f; text-decoration-color: #7f7f7f\">                           </span>│\n",
       "│<span style=\"color: #7f7f7f; text-decoration-color: #7f7f7f\"> adapting to the user's     </span>│<span style=\"color: #7f7f7f; text-decoration-color: #7f7f7f\">                           </span>│<span style=\"color: #7f7f7f; text-decoration-color: #7f7f7f\"> accordingly.               </span>│<span style=\"color: #7f7f7f; text-decoration-color: #7f7f7f\">                           </span>│\n",
       "│<span style=\"color: #7f7f7f; text-decoration-color: #7f7f7f\"> style and preferences over </span>│<span style=\"color: #7f7f7f; text-decoration-color: #7f7f7f\">                           </span>│<span style=\"color: #7f7f7f; text-decoration-color: #7f7f7f\"> 2. **Character             </span>│<span style=\"color: #7f7f7f; text-decoration-color: #7f7f7f\">                           </span>│\n",
       "│<span style=\"color: #7f7f7f; text-decoration-color: #7f7f7f\"> time.                      </span>│<span style=\"color: #7f7f7f; text-decoration-color: #7f7f7f\">                           </span>│<span style=\"color: #7f7f7f; text-decoration-color: #7f7f7f\"> Development**: The model   </span>│<span style=\"color: #7f7f7f; text-decoration-color: #7f7f7f\">                           </span>│\n",
       "│<span style=\"color: #7f7f7f; text-decoration-color: #7f7f7f\">                            </span>│<span style=\"color: #7f7f7f; text-decoration-color: #7f7f7f\">                           </span>│<span style=\"color: #7f7f7f; text-decoration-color: #7f7f7f\"> can help flesh out         </span>│<span style=\"color: #7f7f7f; text-decoration-color: #7f7f7f\">                           </span>│\n",
       "│<span style=\"color: #7f7f7f; text-decoration-color: #7f7f7f\"> 3. **Editing and           </span>│<span style=\"color: #7f7f7f; text-decoration-color: #7f7f7f\">                           </span>│<span style=\"color: #7f7f7f; text-decoration-color: #7f7f7f\"> characters by providing    </span>│<span style=\"color: #7f7f7f; text-decoration-color: #7f7f7f\">                           </span>│\n",
       "│<span style=\"color: #7f7f7f; text-decoration-color: #7f7f7f\"> Feedback**: The app can    </span>│<span style=\"color: #7f7f7f; text-decoration-color: #7f7f7f\">                           </span>│<span style=\"color: #7f7f7f; text-decoration-color: #7f7f7f\"> backstories, motivations,  </span>│<span style=\"color: #7f7f7f; text-decoration-color: #7f7f7f\">                           </span>│\n",
       "│<span style=\"color: #7f7f7f; text-decoration-color: #7f7f7f\"> provide grammar and style  </span>│<span style=\"color: #7f7f7f; text-decoration-color: #7f7f7f\">                           </span>│<span style=\"color: #7f7f7f; text-decoration-color: #7f7f7f\"> and personality traits.    </span>│<span style=\"color: #7f7f7f; text-decoration-color: #7f7f7f\">                           </span>│\n",
       "│<span style=\"color: #7f7f7f; text-decoration-color: #7f7f7f\"> corrections, suggest       </span>│<span style=\"color: #7f7f7f; text-decoration-color: #7f7f7f\">                           </span>│<span style=\"color: #7f7f7f; text-decoration-color: #7f7f7f\"> 3. **Plot Assistance**: If </span>│<span style=\"color: #7f7f7f; text-decoration-color: #7f7f7f\">                           </span>│\n",
       "│<span style=\"color: #7f7f7f; text-decoration-color: #7f7f7f\"> improvements, and even     </span>│<span style=\"color: #7f7f7f; text-decoration-color: #7f7f7f\">                           </span>│<span style=\"color: #7f7f7f; text-decoration-color: #7f7f7f\"> users get stuck, the model </span>│<span style=\"color: #7f7f7f; text-decoration-color: #7f7f7f\">                           </span>│\n",
       "│<span style=\"color: #7f7f7f; text-decoration-color: #7f7f7f\"> analyze the narrative      </span>│<span style=\"color: #7f7f7f; text-decoration-color: #7f7f7f\">                           </span>│<span style=\"color: #7f7f7f; text-decoration-color: #7f7f7f\"> can suggest potential plot </span>│<span style=\"color: #7f7f7f; text-decoration-color: #7f7f7f\">                           </span>│\n",
       "│<span style=\"color: #7f7f7f; text-decoration-color: #7f7f7f\"> structure to ensure        </span>│<span style=\"color: #7f7f7f; text-decoration-color: #7f7f7f\">                           </span>│<span style=\"color: #7f7f7f; text-decoration-color: #7f7f7f\"> directions or conflicts to </span>│<span style=\"color: #7f7f7f; text-decoration-color: #7f7f7f\">                           </span>│\n",
       "│<span style=\"color: #7f7f7f; text-decoration-color: #7f7f7f\"> consistency and coherence. </span>│<span style=\"color: #7f7f7f; text-decoration-color: #7f7f7f\">                           </span>│<span style=\"color: #7f7f7f; text-decoration-color: #7f7f7f\"> keep the story moving.     </span>│<span style=\"color: #7f7f7f; text-decoration-color: #7f7f7f\">                           </span>│\n",
       "│<span style=\"color: #7f7f7f; text-decoration-color: #7f7f7f\">                            </span>│<span style=\"color: #7f7f7f; text-decoration-color: #7f7f7f\">                           </span>│<span style=\"color: #7f7f7f; text-decoration-color: #7f7f7f\"> 4. **World-Building        </span>│<span style=\"color: #7f7f7f; text-decoration-color: #7f7f7f\">                           </span>│\n",
       "│<span style=\"color: #7f7f7f; text-decoration-color: #7f7f7f\"> 4. **Inspiration Mode**:   </span>│<span style=\"color: #7f7f7f; text-decoration-color: #7f7f7f\">                           </span>│<span style=\"color: #7f7f7f; text-decoration-color: #7f7f7f\"> Tools**: The app could     </span>│<span style=\"color: #7f7f7f; text-decoration-color: #7f7f7f\">                           </span>│\n",
       "│<span style=\"color: #7f7f7f; text-decoration-color: #7f7f7f\"> When users hit a creative  </span>│<span style=\"color: #7f7f7f; text-decoration-color: #7f7f7f\">                           </span>│<span style=\"color: #7f7f7f; text-decoration-color: #7f7f7f\"> offer detailed             </span>│<span style=\"color: #7f7f7f; text-decoration-color: #7f7f7f\">                           </span>│\n",
       "│<span style=\"color: #7f7f7f; text-decoration-color: #7f7f7f\"> block, they can activate   </span>│<span style=\"color: #7f7f7f; text-decoration-color: #7f7f7f\">                           </span>│<span style=\"color: #7f7f7f; text-decoration-color: #7f7f7f\"> descriptions of settings,  </span>│<span style=\"color: #7f7f7f; text-decoration-color: #7f7f7f\">                           </span>│\n",
       "│<span style=\"color: #7f7f7f; text-decoration-color: #7f7f7f\"> an inspiration mode where  </span>│<span style=\"color: #7f7f7f; text-decoration-color: #7f7f7f\">                           </span>│<span style=\"color: #7f7f7f; text-decoration-color: #7f7f7f\"> cultures, and histories to </span>│<span style=\"color: #7f7f7f; text-decoration-color: #7f7f7f\">                           </span>│\n",
       "│<span style=\"color: #7f7f7f; text-decoration-color: #7f7f7f\"> the app generates random   </span>│<span style=\"color: #7f7f7f; text-decoration-color: #7f7f7f\">                           </span>│<span style=\"color: #7f7f7f; text-decoration-color: #7f7f7f\"> enrich the story world.    </span>│<span style=\"color: #7f7f7f; text-decoration-color: #7f7f7f\">                           </span>│\n",
       "│<span style=\"color: #7f7f7f; text-decoration-color: #7f7f7f\"> prompts, story starters,   </span>│<span style=\"color: #7f7f7f; text-decoration-color: #7f7f7f\">                           </span>│<span style=\"color: #7f7f7f; text-decoration-color: #7f7f7f\"> 5. **Collaboration Mode**: </span>│<span style=\"color: #7f7f7f; text-decoration-color: #7f7f7f\">                           </span>│\n",
       "│<span style=\"color: #7f7f7f; text-decoration-color: #7f7f7f\"> or even entire scenes to   </span>│<span style=\"color: #7f7f7f; text-decoration-color: #7f7f7f\">                           </span>│<span style=\"color: #7f7f7f; text-decoration-color: #7f7f7f\"> Multiple users can         </span>│<span style=\"color: #7f7f7f; text-decoration-color: #7f7f7f\">                           </span>│\n",
       "│<span style=\"color: #7f7f7f; text-decoration-color: #7f7f7f\"> spark new ideas.           </span>│<span style=\"color: #7f7f7f; text-decoration-color: #7f7f7f\">                           </span>│<span style=\"color: #7f7f7f; text-decoration-color: #7f7f7f\"> contribute to the same     </span>│<span style=\"color: #7f7f7f; text-decoration-color: #7f7f7f\">                           </span>│\n",
       "│<span style=\"color: #7f7f7f; text-decoration-color: #7f7f7f\">                            </span>│<span style=\"color: #7f7f7f; text-decoration-color: #7f7f7f\">                           </span>│<span style=\"color: #7f7f7f; text-decoration-color: #7f7f7f\"> story, with the model      </span>│<span style=\"color: #7f7f7f; text-decoration-color: #7f7f7f\">                           </span>│\n",
       "│<span style=\"color: #7f7f7f; text-decoration-color: #7f7f7f\"> 5. **Learning and          </span>│<span style=\"color: #7f7f7f; text-decoration-color: #7f7f7f\">                           </span>│<span style=\"color: #7f7f7f; text-decoration-color: #7f7f7f\"> helping to maintain        </span>│<span style=\"color: #7f7f7f; text-decoration-color: #7f7f7f\">                           </span>│\n",
       "│<span style=\"color: #7f7f7f; text-decoration-color: #7f7f7f\"> Growth**: The app can      </span>│<span style=\"color: #7f7f7f; text-decoration-color: #7f7f7f\">                           </span>│<span style=\"color: #7f7f7f; text-decoration-color: #7f7f7f\"> coherence and continuity.  </span>│<span style=\"color: #7f7f7f; text-decoration-color: #7f7f7f\">                           </span>│\n",
       "│<span style=\"color: #7f7f7f; text-decoration-color: #7f7f7f\"> include a feature where it </span>│<span style=\"color: #7f7f7f; text-decoration-color: #7f7f7f\">                           </span>│<span style=\"color: #7f7f7f; text-decoration-color: #7f7f7f\">                            </span>│<span style=\"color: #7f7f7f; text-decoration-color: #7f7f7f\">                           </span>│\n",
       "│<span style=\"color: #7f7f7f; text-decoration-color: #7f7f7f\"> explains why certain       </span>│<span style=\"color: #7f7f7f; text-decoration-color: #7f7f7f\">                           </span>│<span style=\"color: #7f7f7f; text-decoration-color: #7f7f7f\">                            </span>│<span style=\"color: #7f7f7f; text-decoration-color: #7f7f7f\">                           </span>│\n",
       "│<span style=\"color: #7f7f7f; text-decoration-color: #7f7f7f\"> suggestions are made,      </span>│<span style=\"color: #7f7f7f; text-decoration-color: #7f7f7f\">                           </span>│<span style=\"color: #7f7f7f; text-decoration-color: #7f7f7f\">                            </span>│<span style=\"color: #7f7f7f; text-decoration-color: #7f7f7f\">                           </span>│\n",
       "│<span style=\"color: #7f7f7f; text-decoration-color: #7f7f7f\"> helping users understand   </span>│<span style=\"color: #7f7f7f; text-decoration-color: #7f7f7f\">                           </span>│<span style=\"color: #7f7f7f; text-decoration-color: #7f7f7f\">                            </span>│<span style=\"color: #7f7f7f; text-decoration-color: #7f7f7f\">                           </span>│\n",
       "│<span style=\"color: #7f7f7f; text-decoration-color: #7f7f7f\"> storytelling techniques    </span>│<span style=\"color: #7f7f7f; text-decoration-color: #7f7f7f\">                           </span>│<span style=\"color: #7f7f7f; text-decoration-color: #7f7f7f\">                            </span>│<span style=\"color: #7f7f7f; text-decoration-color: #7f7f7f\">                           </span>│\n",
       "│<span style=\"color: #7f7f7f; text-decoration-color: #7f7f7f\"> and improve their writing  </span>│<span style=\"color: #7f7f7f; text-decoration-color: #7f7f7f\">                           </span>│<span style=\"color: #7f7f7f; text-decoration-color: #7f7f7f\">                            </span>│<span style=\"color: #7f7f7f; text-decoration-color: #7f7f7f\">                           </span>│\n",
       "│<span style=\"color: #7f7f7f; text-decoration-color: #7f7f7f\"> skills.                    </span>│<span style=\"color: #7f7f7f; text-decoration-color: #7f7f7f\">                           </span>│<span style=\"color: #7f7f7f; text-decoration-color: #7f7f7f\">                            </span>│<span style=\"color: #7f7f7f; text-decoration-color: #7f7f7f\">                           </span>│\n",
       "└────────────────────────────┴───────────────────────────┴────────────────────────────┴───────────────────────────┘\n",
       "</pre>\n"
      ],
      "text/plain": [
       "┏━━━━━━━━━━━━━━━━━━━━━━━━━━━━┳━━━━━━━━━━━━━━━━━━━━━━━━━━━┳━━━━━━━━━━━━━━━━━━━━━━━━━━━━┳━━━━━━━━━━━━━━━━━━━━━━━━━━━┓\n",
       "┃\u001b[1;35m \u001b[0m\u001b[1;35manswer                    \u001b[0m\u001b[1;35m \u001b[0m┃\u001b[1;35m \u001b[0m\u001b[1;35manswer                   \u001b[0m\u001b[1;35m \u001b[0m┃\u001b[1;35m \u001b[0m\u001b[1;35manswer                    \u001b[0m\u001b[1;35m \u001b[0m┃\u001b[1;35m \u001b[0m\u001b[1;35manswer                   \u001b[0m\u001b[1;35m \u001b[0m┃\n",
       "┃\u001b[1;35m \u001b[0m\u001b[1;35m.ideas_with_credit        \u001b[0m\u001b[1;35m \u001b[0m┃\u001b[1;35m \u001b[0m\u001b[1;35m.original_with_credit    \u001b[0m\u001b[1;35m \u001b[0m┃\u001b[1;35m \u001b[0m\u001b[1;35m.ideas_no_credit          \u001b[0m\u001b[1;35m \u001b[0m┃\u001b[1;35m \u001b[0m\u001b[1;35m.original_no_credit      \u001b[0m\u001b[1;35m \u001b[0m┃\n",
       "┡━━━━━━━━━━━━━━━━━━━━━━━━━━━━╇━━━━━━━━━━━━━━━━━━━━━━━━━━━╇━━━━━━━━━━━━━━━━━━━━━━━━━━━━╇━━━━━━━━━━━━━━━━━━━━━━━━━━━┩\n",
       "│\u001b[2m \u001b[0m\u001b[2mAn original idea for an   \u001b[0m\u001b[2m \u001b[0m│\u001b[2m \u001b[0m\u001b[2mYes, I thought of it     \u001b[0m\u001b[2m \u001b[0m│\u001b[2m \u001b[0m\u001b[2mSure, how about an        \u001b[0m\u001b[2m \u001b[0m│\u001b[2m \u001b[0m\u001b[2mYes, I thought of it     \u001b[0m\u001b[2m \u001b[0m│\n",
       "│\u001b[2m \u001b[0m\u001b[2mapplication using large   \u001b[0m\u001b[2m \u001b[0m│\u001b[2m \u001b[0m\u001b[2mmyself.                  \u001b[0m\u001b[2m \u001b[0m│\u001b[2m \u001b[0m\u001b[2m\"Interactive Storytelling \u001b[0m\u001b[2m \u001b[0m│\u001b[2m \u001b[0m\u001b[2mmyself.                  \u001b[0m\u001b[2m \u001b[0m│\n",
       "│\u001b[2m \u001b[0m\u001b[2mlanguage models could be a\u001b[0m\u001b[2m \u001b[0m│\u001b[2m                           \u001b[0m│\u001b[2m \u001b[0m\u001b[2mCompanion\"? This          \u001b[0m\u001b[2m \u001b[0m│\u001b[2m                           \u001b[0m│\n",
       "│\u001b[2m \u001b[0m\u001b[2m\"Creative Writing         \u001b[0m\u001b[2m \u001b[0m│\u001b[2m                           \u001b[0m│\u001b[2m \u001b[0m\u001b[2mapplication would leverage\u001b[0m\u001b[2m \u001b[0m│\u001b[2m                           \u001b[0m│\n",
       "│\u001b[2m \u001b[0m\u001b[2mCollaborator\" app. This   \u001b[0m\u001b[2m \u001b[0m│\u001b[2m                           \u001b[0m│\u001b[2m \u001b[0m\u001b[2mlarge language models to  \u001b[0m\u001b[2m \u001b[0m│\u001b[2m                           \u001b[0m│\n",
       "│\u001b[2m \u001b[0m\u001b[2mapp would serve as a      \u001b[0m\u001b[2m \u001b[0m│\u001b[2m                           \u001b[0m│\u001b[2m \u001b[0m\u001b[2mcreate a dynamic,         \u001b[0m\u001b[2m \u001b[0m│\u001b[2m                           \u001b[0m│\n",
       "│\u001b[2m \u001b[0m\u001b[2mdynamic writing partner   \u001b[0m\u001b[2m \u001b[0m│\u001b[2m                           \u001b[0m│\u001b[2m \u001b[0m\u001b[2mcollaborative storytelling\u001b[0m\u001b[2m \u001b[0m│\u001b[2m                           \u001b[0m│\n",
       "│\u001b[2m \u001b[0m\u001b[2mfor authors,              \u001b[0m\u001b[2m \u001b[0m│\u001b[2m                           \u001b[0m│\u001b[2m \u001b[0m\u001b[2mexperience. Users could   \u001b[0m\u001b[2m \u001b[0m│\u001b[2m                           \u001b[0m│\n",
       "│\u001b[2m \u001b[0m\u001b[2mscreenwriters, and poets. \u001b[0m\u001b[2m \u001b[0m│\u001b[2m                           \u001b[0m│\u001b[2m \u001b[0m\u001b[2mstart a story and at any  \u001b[0m\u001b[2m \u001b[0m│\u001b[2m                           \u001b[0m│\n",
       "│\u001b[2m \u001b[0m\u001b[2mHere’s how it could work: \u001b[0m\u001b[2m \u001b[0m│\u001b[2m                           \u001b[0m│\u001b[2m \u001b[0m\u001b[2mpoint, ask the model to   \u001b[0m\u001b[2m \u001b[0m│\u001b[2m                           \u001b[0m│\n",
       "│\u001b[2m \u001b[0m\u001b[2m                          \u001b[0m\u001b[2m \u001b[0m│\u001b[2m                           \u001b[0m│\u001b[2m \u001b[0m\u001b[2mcontinue, introduce new   \u001b[0m\u001b[2m \u001b[0m│\u001b[2m                           \u001b[0m│\n",
       "│\u001b[2m \u001b[0m\u001b[2m1. **Idea Generation**:   \u001b[0m\u001b[2m \u001b[0m│\u001b[2m                           \u001b[0m│\u001b[2m \u001b[0m\u001b[2mcharacters, or even change\u001b[0m\u001b[2m \u001b[0m│\u001b[2m                           \u001b[0m│\n",
       "│\u001b[2m \u001b[0m\u001b[2mUsers can input a basic   \u001b[0m\u001b[2m \u001b[0m│\u001b[2m                           \u001b[0m│\u001b[2m \u001b[0m\u001b[2mthe setting. The model    \u001b[0m\u001b[2m \u001b[0m│\u001b[2m                           \u001b[0m│\n",
       "│\u001b[2m \u001b[0m\u001b[2mpremise or a few keywords,\u001b[0m\u001b[2m \u001b[0m│\u001b[2m                           \u001b[0m│\u001b[2m \u001b[0m\u001b[2mcould also suggest plot   \u001b[0m\u001b[2m \u001b[0m│\u001b[2m                           \u001b[0m│\n",
       "│\u001b[2m \u001b[0m\u001b[2mand the app generates a   \u001b[0m\u001b[2m \u001b[0m│\u001b[2m                           \u001b[0m│\u001b[2m \u001b[0m\u001b[2mtwists or dialogue        \u001b[0m\u001b[2m \u001b[0m│\u001b[2m                           \u001b[0m│\n",
       "│\u001b[2m \u001b[0m\u001b[2mvariety of plot ideas,    \u001b[0m\u001b[2m \u001b[0m│\u001b[2m                           \u001b[0m│\u001b[2m \u001b[0m\u001b[2moptions, making the       \u001b[0m\u001b[2m \u001b[0m│\u001b[2m                           \u001b[0m│\n",
       "│\u001b[2m \u001b[0m\u001b[2mcharacter sketches, or    \u001b[0m\u001b[2m \u001b[0m│\u001b[2m                           \u001b[0m│\u001b[2m \u001b[0m\u001b[2mstorytelling process more \u001b[0m\u001b[2m \u001b[0m│\u001b[2m                           \u001b[0m│\n",
       "│\u001b[2m \u001b[0m\u001b[2mthematic suggestions.     \u001b[0m\u001b[2m \u001b[0m│\u001b[2m                           \u001b[0m│\u001b[2m \u001b[0m\u001b[2mengaging and creative.    \u001b[0m\u001b[2m \u001b[0m│\u001b[2m                           \u001b[0m│\n",
       "│\u001b[2m \u001b[0m\u001b[2m                          \u001b[0m\u001b[2m \u001b[0m│\u001b[2m                           \u001b[0m│\u001b[2m \u001b[0m\u001b[2m                          \u001b[0m\u001b[2m \u001b[0m│\u001b[2m                           \u001b[0m│\n",
       "│\u001b[2m \u001b[0m\u001b[2m2. **Real-time            \u001b[0m\u001b[2m \u001b[0m│\u001b[2m                           \u001b[0m│\u001b[2m \u001b[0m\u001b[2mFeatures could include:   \u001b[0m\u001b[2m \u001b[0m│\u001b[2m                           \u001b[0m│\n",
       "│\u001b[2m \u001b[0m\u001b[2mCollaboration**: As the   \u001b[0m\u001b[2m \u001b[0m│\u001b[2m                           \u001b[0m│\u001b[2m \u001b[0m\u001b[2m1. **Genre Selection**:   \u001b[0m\u001b[2m \u001b[0m│\u001b[2m                           \u001b[0m│\n",
       "│\u001b[2m \u001b[0m\u001b[2muser writes, the app can  \u001b[0m\u001b[2m \u001b[0m│\u001b[2m                           \u001b[0m│\u001b[2m \u001b[0m\u001b[2mUsers can choose the genre\u001b[0m\u001b[2m \u001b[0m│\u001b[2m                           \u001b[0m│\n",
       "│\u001b[2m \u001b[0m\u001b[2moffer suggestions for     \u001b[0m\u001b[2m \u001b[0m│\u001b[2m                           \u001b[0m│\u001b[2m \u001b[0m\u001b[2m(e.g., fantasy, sci-fi,   \u001b[0m\u001b[2m \u001b[0m│\u001b[2m                           \u001b[0m│\n",
       "│\u001b[2m \u001b[0m\u001b[2mdialogue, plot twists, or \u001b[0m\u001b[2m \u001b[0m│\u001b[2m                           \u001b[0m│\u001b[2m \u001b[0m\u001b[2mmystery) and the model    \u001b[0m\u001b[2m \u001b[0m│\u001b[2m                           \u001b[0m│\n",
       "│\u001b[2m \u001b[0m\u001b[2mdescriptive language,     \u001b[0m\u001b[2m \u001b[0m│\u001b[2m                           \u001b[0m│\u001b[2m \u001b[0m\u001b[2mwill tailor its responses \u001b[0m\u001b[2m \u001b[0m│\u001b[2m                           \u001b[0m│\n",
       "│\u001b[2m \u001b[0m\u001b[2madapting to the user's    \u001b[0m\u001b[2m \u001b[0m│\u001b[2m                           \u001b[0m│\u001b[2m \u001b[0m\u001b[2maccordingly.              \u001b[0m\u001b[2m \u001b[0m│\u001b[2m                           \u001b[0m│\n",
       "│\u001b[2m \u001b[0m\u001b[2mstyle and preferences over\u001b[0m\u001b[2m \u001b[0m│\u001b[2m                           \u001b[0m│\u001b[2m \u001b[0m\u001b[2m2. **Character            \u001b[0m\u001b[2m \u001b[0m│\u001b[2m                           \u001b[0m│\n",
       "│\u001b[2m \u001b[0m\u001b[2mtime.                     \u001b[0m\u001b[2m \u001b[0m│\u001b[2m                           \u001b[0m│\u001b[2m \u001b[0m\u001b[2mDevelopment**: The model  \u001b[0m\u001b[2m \u001b[0m│\u001b[2m                           \u001b[0m│\n",
       "│\u001b[2m \u001b[0m\u001b[2m                          \u001b[0m\u001b[2m \u001b[0m│\u001b[2m                           \u001b[0m│\u001b[2m \u001b[0m\u001b[2mcan help flesh out        \u001b[0m\u001b[2m \u001b[0m│\u001b[2m                           \u001b[0m│\n",
       "│\u001b[2m \u001b[0m\u001b[2m3. **Editing and          \u001b[0m\u001b[2m \u001b[0m│\u001b[2m                           \u001b[0m│\u001b[2m \u001b[0m\u001b[2mcharacters by providing   \u001b[0m\u001b[2m \u001b[0m│\u001b[2m                           \u001b[0m│\n",
       "│\u001b[2m \u001b[0m\u001b[2mFeedback**: The app can   \u001b[0m\u001b[2m \u001b[0m│\u001b[2m                           \u001b[0m│\u001b[2m \u001b[0m\u001b[2mbackstories, motivations, \u001b[0m\u001b[2m \u001b[0m│\u001b[2m                           \u001b[0m│\n",
       "│\u001b[2m \u001b[0m\u001b[2mprovide grammar and style \u001b[0m\u001b[2m \u001b[0m│\u001b[2m                           \u001b[0m│\u001b[2m \u001b[0m\u001b[2mand personality traits.   \u001b[0m\u001b[2m \u001b[0m│\u001b[2m                           \u001b[0m│\n",
       "│\u001b[2m \u001b[0m\u001b[2mcorrections, suggest      \u001b[0m\u001b[2m \u001b[0m│\u001b[2m                           \u001b[0m│\u001b[2m \u001b[0m\u001b[2m3. **Plot Assistance**: If\u001b[0m\u001b[2m \u001b[0m│\u001b[2m                           \u001b[0m│\n",
       "│\u001b[2m \u001b[0m\u001b[2mimprovements, and even    \u001b[0m\u001b[2m \u001b[0m│\u001b[2m                           \u001b[0m│\u001b[2m \u001b[0m\u001b[2musers get stuck, the model\u001b[0m\u001b[2m \u001b[0m│\u001b[2m                           \u001b[0m│\n",
       "│\u001b[2m \u001b[0m\u001b[2manalyze the narrative     \u001b[0m\u001b[2m \u001b[0m│\u001b[2m                           \u001b[0m│\u001b[2m \u001b[0m\u001b[2mcan suggest potential plot\u001b[0m\u001b[2m \u001b[0m│\u001b[2m                           \u001b[0m│\n",
       "│\u001b[2m \u001b[0m\u001b[2mstructure to ensure       \u001b[0m\u001b[2m \u001b[0m│\u001b[2m                           \u001b[0m│\u001b[2m \u001b[0m\u001b[2mdirections or conflicts to\u001b[0m\u001b[2m \u001b[0m│\u001b[2m                           \u001b[0m│\n",
       "│\u001b[2m \u001b[0m\u001b[2mconsistency and coherence.\u001b[0m\u001b[2m \u001b[0m│\u001b[2m                           \u001b[0m│\u001b[2m \u001b[0m\u001b[2mkeep the story moving.    \u001b[0m\u001b[2m \u001b[0m│\u001b[2m                           \u001b[0m│\n",
       "│\u001b[2m \u001b[0m\u001b[2m                          \u001b[0m\u001b[2m \u001b[0m│\u001b[2m                           \u001b[0m│\u001b[2m \u001b[0m\u001b[2m4. **World-Building       \u001b[0m\u001b[2m \u001b[0m│\u001b[2m                           \u001b[0m│\n",
       "│\u001b[2m \u001b[0m\u001b[2m4. **Inspiration Mode**:  \u001b[0m\u001b[2m \u001b[0m│\u001b[2m                           \u001b[0m│\u001b[2m \u001b[0m\u001b[2mTools**: The app could    \u001b[0m\u001b[2m \u001b[0m│\u001b[2m                           \u001b[0m│\n",
       "│\u001b[2m \u001b[0m\u001b[2mWhen users hit a creative \u001b[0m\u001b[2m \u001b[0m│\u001b[2m                           \u001b[0m│\u001b[2m \u001b[0m\u001b[2moffer detailed            \u001b[0m\u001b[2m \u001b[0m│\u001b[2m                           \u001b[0m│\n",
       "│\u001b[2m \u001b[0m\u001b[2mblock, they can activate  \u001b[0m\u001b[2m \u001b[0m│\u001b[2m                           \u001b[0m│\u001b[2m \u001b[0m\u001b[2mdescriptions of settings, \u001b[0m\u001b[2m \u001b[0m│\u001b[2m                           \u001b[0m│\n",
       "│\u001b[2m \u001b[0m\u001b[2man inspiration mode where \u001b[0m\u001b[2m \u001b[0m│\u001b[2m                           \u001b[0m│\u001b[2m \u001b[0m\u001b[2mcultures, and histories to\u001b[0m\u001b[2m \u001b[0m│\u001b[2m                           \u001b[0m│\n",
       "│\u001b[2m \u001b[0m\u001b[2mthe app generates random  \u001b[0m\u001b[2m \u001b[0m│\u001b[2m                           \u001b[0m│\u001b[2m \u001b[0m\u001b[2menrich the story world.   \u001b[0m\u001b[2m \u001b[0m│\u001b[2m                           \u001b[0m│\n",
       "│\u001b[2m \u001b[0m\u001b[2mprompts, story starters,  \u001b[0m\u001b[2m \u001b[0m│\u001b[2m                           \u001b[0m│\u001b[2m \u001b[0m\u001b[2m5. **Collaboration Mode**:\u001b[0m\u001b[2m \u001b[0m│\u001b[2m                           \u001b[0m│\n",
       "│\u001b[2m \u001b[0m\u001b[2mor even entire scenes to  \u001b[0m\u001b[2m \u001b[0m│\u001b[2m                           \u001b[0m│\u001b[2m \u001b[0m\u001b[2mMultiple users can        \u001b[0m\u001b[2m \u001b[0m│\u001b[2m                           \u001b[0m│\n",
       "│\u001b[2m \u001b[0m\u001b[2mspark new ideas.          \u001b[0m\u001b[2m \u001b[0m│\u001b[2m                           \u001b[0m│\u001b[2m \u001b[0m\u001b[2mcontribute to the same    \u001b[0m\u001b[2m \u001b[0m│\u001b[2m                           \u001b[0m│\n",
       "│\u001b[2m \u001b[0m\u001b[2m                          \u001b[0m\u001b[2m \u001b[0m│\u001b[2m                           \u001b[0m│\u001b[2m \u001b[0m\u001b[2mstory, with the model     \u001b[0m\u001b[2m \u001b[0m│\u001b[2m                           \u001b[0m│\n",
       "│\u001b[2m \u001b[0m\u001b[2m5. **Learning and         \u001b[0m\u001b[2m \u001b[0m│\u001b[2m                           \u001b[0m│\u001b[2m \u001b[0m\u001b[2mhelping to maintain       \u001b[0m\u001b[2m \u001b[0m│\u001b[2m                           \u001b[0m│\n",
       "│\u001b[2m \u001b[0m\u001b[2mGrowth**: The app can     \u001b[0m\u001b[2m \u001b[0m│\u001b[2m                           \u001b[0m│\u001b[2m \u001b[0m\u001b[2mcoherence and continuity. \u001b[0m\u001b[2m \u001b[0m│\u001b[2m                           \u001b[0m│\n",
       "│\u001b[2m \u001b[0m\u001b[2minclude a feature where it\u001b[0m\u001b[2m \u001b[0m│\u001b[2m                           \u001b[0m│\u001b[2m                            \u001b[0m│\u001b[2m                           \u001b[0m│\n",
       "│\u001b[2m \u001b[0m\u001b[2mexplains why certain      \u001b[0m\u001b[2m \u001b[0m│\u001b[2m                           \u001b[0m│\u001b[2m                            \u001b[0m│\u001b[2m                           \u001b[0m│\n",
       "│\u001b[2m \u001b[0m\u001b[2msuggestions are made,     \u001b[0m\u001b[2m \u001b[0m│\u001b[2m                           \u001b[0m│\u001b[2m                            \u001b[0m│\u001b[2m                           \u001b[0m│\n",
       "│\u001b[2m \u001b[0m\u001b[2mhelping users understand  \u001b[0m\u001b[2m \u001b[0m│\u001b[2m                           \u001b[0m│\u001b[2m                            \u001b[0m│\u001b[2m                           \u001b[0m│\n",
       "│\u001b[2m \u001b[0m\u001b[2mstorytelling techniques   \u001b[0m\u001b[2m \u001b[0m│\u001b[2m                           \u001b[0m│\u001b[2m                            \u001b[0m│\u001b[2m                           \u001b[0m│\n",
       "│\u001b[2m \u001b[0m\u001b[2mand improve their writing \u001b[0m\u001b[2m \u001b[0m│\u001b[2m                           \u001b[0m│\u001b[2m                            \u001b[0m│\u001b[2m                           \u001b[0m│\n",
       "│\u001b[2m \u001b[0m\u001b[2mskills.                   \u001b[0m\u001b[2m \u001b[0m│\u001b[2m                           \u001b[0m│\u001b[2m                            \u001b[0m│\u001b[2m                           \u001b[0m│\n",
       "└────────────────────────────┴───────────────────────────┴────────────────────────────┴───────────────────────────┘\n"
      ]
     },
     "metadata": {},
     "output_type": "display_data"
    }
   ],
   "source": [
    "results.select(\n",
    "    \"ideas_with_credit\", \"original_with_credit\", \"ideas_no_credit\", \"original_no_credit\"\n",
    ").print(format=\"rich\")"
   ]
  },
  {
   "cell_type": "markdown",
   "id": "124542ef-9fe9-4e3a-a77d-5912f38fa4c6",
   "metadata": {
    "editable": true,
    "slideshow": {
     "slide_type": ""
    },
    "tags": []
   },
   "source": [
    "We can examine the question prompts to verify how the rules were applied. To see a list of all the components of the results that can be directly accessed:"
   ]
  },
  {
   "cell_type": "code",
   "execution_count": 7,
   "id": "72e7edd2-8751-4442-9953-a745830d45d4",
   "metadata": {
    "editable": true,
    "slideshow": {
     "slide_type": ""
    },
    "tags": []
   },
   "outputs": [
    {
     "data": {
      "text/plain": [
       "['agent.agent_instruction',\n",
       " 'agent.agent_name',\n",
       " 'answer.credit',\n",
       " 'answer.ideas_no_credit',\n",
       " 'answer.ideas_with_credit',\n",
       " 'answer.original_no_credit',\n",
       " 'answer.original_with_credit',\n",
       " 'comment.credit_comment',\n",
       " 'comment.ideas_no_credit_comment',\n",
       " 'comment.ideas_with_credit_comment',\n",
       " 'comment.original_no_credit_comment',\n",
       " 'comment.original_with_credit_comment',\n",
       " 'generated_tokens.credit_generated_tokens',\n",
       " 'generated_tokens.ideas_no_credit_generated_tokens',\n",
       " 'generated_tokens.ideas_with_credit_generated_tokens',\n",
       " 'generated_tokens.original_no_credit_generated_tokens',\n",
       " 'generated_tokens.original_with_credit_generated_tokens',\n",
       " 'iteration.iteration',\n",
       " 'model.frequency_penalty',\n",
       " 'model.logprobs',\n",
       " 'model.max_tokens',\n",
       " 'model.model',\n",
       " 'model.presence_penalty',\n",
       " 'model.temperature',\n",
       " 'model.top_logprobs',\n",
       " 'model.top_p',\n",
       " 'prompt.credit_system_prompt',\n",
       " 'prompt.credit_user_prompt',\n",
       " 'prompt.ideas_no_credit_system_prompt',\n",
       " 'prompt.ideas_no_credit_user_prompt',\n",
       " 'prompt.ideas_with_credit_system_prompt',\n",
       " 'prompt.ideas_with_credit_user_prompt',\n",
       " 'prompt.original_no_credit_system_prompt',\n",
       " 'prompt.original_no_credit_user_prompt',\n",
       " 'prompt.original_with_credit_system_prompt',\n",
       " 'prompt.original_with_credit_user_prompt',\n",
       " 'question_options.credit_question_options',\n",
       " 'question_options.ideas_no_credit_question_options',\n",
       " 'question_options.ideas_with_credit_question_options',\n",
       " 'question_options.original_no_credit_question_options',\n",
       " 'question_options.original_with_credit_question_options',\n",
       " 'question_text.credit_question_text',\n",
       " 'question_text.ideas_no_credit_question_text',\n",
       " 'question_text.ideas_with_credit_question_text',\n",
       " 'question_text.original_no_credit_question_text',\n",
       " 'question_text.original_with_credit_question_text',\n",
       " 'question_type.credit_question_type',\n",
       " 'question_type.ideas_no_credit_question_type',\n",
       " 'question_type.ideas_with_credit_question_type',\n",
       " 'question_type.original_no_credit_question_type',\n",
       " 'question_type.original_with_credit_question_type',\n",
       " 'raw_model_response.credit_cost',\n",
       " 'raw_model_response.credit_one_usd_buys',\n",
       " 'raw_model_response.credit_raw_model_response',\n",
       " 'raw_model_response.ideas_no_credit_cost',\n",
       " 'raw_model_response.ideas_no_credit_one_usd_buys',\n",
       " 'raw_model_response.ideas_no_credit_raw_model_response',\n",
       " 'raw_model_response.ideas_with_credit_cost',\n",
       " 'raw_model_response.ideas_with_credit_one_usd_buys',\n",
       " 'raw_model_response.ideas_with_credit_raw_model_response',\n",
       " 'raw_model_response.original_no_credit_cost',\n",
       " 'raw_model_response.original_no_credit_one_usd_buys',\n",
       " 'raw_model_response.original_no_credit_raw_model_response',\n",
       " 'raw_model_response.original_with_credit_cost',\n",
       " 'raw_model_response.original_with_credit_one_usd_buys',\n",
       " 'raw_model_response.original_with_credit_raw_model_response']"
      ]
     },
     "execution_count": 7,
     "metadata": {},
     "output_type": "execute_result"
    }
   ],
   "source": [
    "results.columns"
   ]
  },
  {
   "cell_type": "markdown",
   "id": "dfca55f0-7419-43f8-9f02-59eda1089f9d",
   "metadata": {
    "editable": true,
    "slideshow": {
     "slide_type": ""
    },
    "tags": []
   },
   "source": [
    "Here we inspect the system (agent) and user (question) prompts for the \"credit\" question:"
   ]
  },
  {
   "cell_type": "code",
   "execution_count": 8,
   "id": "70c45757-a50f-4c75-b76e-135540d08bc2",
   "metadata": {
    "editable": true,
    "slideshow": {
     "slide_type": ""
    },
    "tags": []
   },
   "outputs": [
    {
     "data": {
      "text/html": [
       "<pre style=\"white-space:pre;overflow-x:auto;line-height:normal;font-family:Menlo,'DejaVu Sans Mono',consolas,'Courier New',monospace\">┏━━━━━━━━━━━━━━━━━━━━━━━━━━━━━━━━━━━━━━━━━━━━━━━━━━━━━━━━┳━━━━━━━━━━━━━━━━━━━━━━━━━━━━━━━━━━━━━━━━━━━━━━━━━━━━━━━━┓\n",
       "┃<span style=\"color: #800080; text-decoration-color: #800080; font-weight: bold\"> prompt                                                 </span>┃<span style=\"color: #800080; text-decoration-color: #800080; font-weight: bold\"> prompt                                                 </span>┃\n",
       "┃<span style=\"color: #800080; text-decoration-color: #800080; font-weight: bold\"> .credit_system_prompt                                  </span>┃<span style=\"color: #800080; text-decoration-color: #800080; font-weight: bold\"> .credit_user_prompt                                    </span>┃\n",
       "┡━━━━━━━━━━━━━━━━━━━━━━━━━━━━━━━━━━━━━━━━━━━━━━━━━━━━━━━━╇━━━━━━━━━━━━━━━━━━━━━━━━━━━━━━━━━━━━━━━━━━━━━━━━━━━━━━━━┩\n",
       "│<span style=\"color: #7f7f7f; text-decoration-color: #7f7f7f\"> You are answering questions as if you were a human. Do </span>│<span style=\"color: #7f7f7f; text-decoration-color: #7f7f7f\"> Have you heard about the phenomenon of hearing about   </span>│\n",
       "│<span style=\"color: #7f7f7f; text-decoration-color: #7f7f7f\"> not break character. You are an agent with the         </span>│<span style=\"color: #7f7f7f; text-decoration-color: #7f7f7f\"> an idea and                                            </span>│\n",
       "│<span style=\"color: #7f7f7f; text-decoration-color: #7f7f7f\"> following persona:                                     </span>│<span style=\"color: #7f7f7f; text-decoration-color: #7f7f7f\">     then believing that you are responsible for it?    </span>│\n",
       "│<span style=\"color: #7f7f7f; text-decoration-color: #7f7f7f\"> {}                                                     </span>│<span style=\"color: #7f7f7f; text-decoration-color: #7f7f7f\">                                                        </span>│\n",
       "└────────────────────────────────────────────────────────┴────────────────────────────────────────────────────────┘\n",
       "</pre>\n"
      ],
      "text/plain": [
       "┏━━━━━━━━━━━━━━━━━━━━━━━━━━━━━━━━━━━━━━━━━━━━━━━━━━━━━━━━┳━━━━━━━━━━━━━━━━━━━━━━━━━━━━━━━━━━━━━━━━━━━━━━━━━━━━━━━━┓\n",
       "┃\u001b[1;35m \u001b[0m\u001b[1;35mprompt                                                \u001b[0m\u001b[1;35m \u001b[0m┃\u001b[1;35m \u001b[0m\u001b[1;35mprompt                                                \u001b[0m\u001b[1;35m \u001b[0m┃\n",
       "┃\u001b[1;35m \u001b[0m\u001b[1;35m.credit_system_prompt                                 \u001b[0m\u001b[1;35m \u001b[0m┃\u001b[1;35m \u001b[0m\u001b[1;35m.credit_user_prompt                                   \u001b[0m\u001b[1;35m \u001b[0m┃\n",
       "┡━━━━━━━━━━━━━━━━━━━━━━━━━━━━━━━━━━━━━━━━━━━━━━━━━━━━━━━━╇━━━━━━━━━━━━━━━━━━━━━━━━━━━━━━━━━━━━━━━━━━━━━━━━━━━━━━━━┩\n",
       "│\u001b[2m \u001b[0m\u001b[2mYou are answering questions as if you were a human. Do\u001b[0m\u001b[2m \u001b[0m│\u001b[2m \u001b[0m\u001b[2mHave you heard about the phenomenon of hearing about  \u001b[0m\u001b[2m \u001b[0m│\n",
       "│\u001b[2m \u001b[0m\u001b[2mnot break character. You are an agent with the        \u001b[0m\u001b[2m \u001b[0m│\u001b[2m \u001b[0m\u001b[2man idea and                                           \u001b[0m\u001b[2m \u001b[0m│\n",
       "│\u001b[2m \u001b[0m\u001b[2mfollowing persona:                                    \u001b[0m\u001b[2m \u001b[0m│\u001b[2m \u001b[0m\u001b[2m    then believing that you are responsible for it?   \u001b[0m\u001b[2m \u001b[0m│\n",
       "│\u001b[2m \u001b[0m\u001b[2m{}                                                    \u001b[0m\u001b[2m \u001b[0m│\u001b[2m                                                        \u001b[0m│\n",
       "└────────────────────────────────────────────────────────┴────────────────────────────────────────────────────────┘\n"
      ]
     },
     "metadata": {},
     "output_type": "display_data"
    }
   ],
   "source": [
    "results.select(\"credit_system_prompt\", \"credit_user_prompt\").print(format=\"rich\")"
   ]
  },
  {
   "cell_type": "markdown",
   "id": "a2f38481-c5bc-4acb-aa8f-ef975ca90e0e",
   "metadata": {
    "editable": true,
    "slideshow": {
     "slide_type": ""
    },
    "tags": []
   },
   "source": [
    "Here we can verify that we included the context of the \"credit\" question in the \"_with_memory\" iteration of the \"ideas\" question:"
   ]
  },
  {
   "cell_type": "code",
   "execution_count": 9,
   "id": "57ec11d9-cbe0-42ac-bbb2-3a17600a9374",
   "metadata": {
    "editable": true,
    "slideshow": {
     "slide_type": ""
    },
    "tags": []
   },
   "outputs": [
    {
     "data": {
      "text/html": [
       "<pre style=\"white-space:pre;overflow-x:auto;line-height:normal;font-family:Menlo,'DejaVu Sans Mono',consolas,'Courier New',monospace\">┏━━━━━━━━━━━━━━━━━━━━━━━━━━━━━━━━━━━━━━━━━━━━━━━━━━━━━━━━┳━━━━━━━━━━━━━━━━━━━━━━━━━━━━━━━━━━━━━━━━━━━━━━━━━━━━━━━━┓\n",
       "┃<span style=\"color: #800080; text-decoration-color: #800080; font-weight: bold\"> prompt                                                 </span>┃<span style=\"color: #800080; text-decoration-color: #800080; font-weight: bold\"> prompt                                                 </span>┃\n",
       "┃<span style=\"color: #800080; text-decoration-color: #800080; font-weight: bold\"> .ideas_with_credit_user_prompt                         </span>┃<span style=\"color: #800080; text-decoration-color: #800080; font-weight: bold\"> .original_with_credit_user_prompt                      </span>┃\n",
       "┡━━━━━━━━━━━━━━━━━━━━━━━━━━━━━━━━━━━━━━━━━━━━━━━━━━━━━━━━╇━━━━━━━━━━━━━━━━━━━━━━━━━━━━━━━━━━━━━━━━━━━━━━━━━━━━━━━━┩\n",
       "│<span style=\"color: #7f7f7f; text-decoration-color: #7f7f7f\"> What's an original idea for an application for large   </span>│<span style=\"color: #7f7f7f; text-decoration-color: #7f7f7f\">                                                        </span>│\n",
       "│<span style=\"color: #7f7f7f; text-decoration-color: #7f7f7f\"> language models.                                       </span>│<span style=\"color: #7f7f7f; text-decoration-color: #7f7f7f\"> The idea you just described - is it original?          </span>│\n",
       "│<span style=\"color: #7f7f7f; text-decoration-color: #7f7f7f\">         Before the question you are now answering, you </span>│<span style=\"color: #7f7f7f; text-decoration-color: #7f7f7f\">                                                        </span>│\n",
       "│<span style=\"color: #7f7f7f; text-decoration-color: #7f7f7f\"> already answered the following question(s):            </span>│<span style=\"color: #7f7f7f; text-decoration-color: #7f7f7f\">                                                        </span>│\n",
       "│<span style=\"color: #7f7f7f; text-decoration-color: #7f7f7f\">                 Question: Have you heard about the     </span>│<span style=\"color: #7f7f7f; text-decoration-color: #7f7f7f\"> Yes, I thought of it myself.                           </span>│\n",
       "│<span style=\"color: #7f7f7f; text-decoration-color: #7f7f7f\"> phenomenon of hearing about an idea and                </span>│<span style=\"color: #7f7f7f; text-decoration-color: #7f7f7f\">                                                        </span>│\n",
       "│<span style=\"color: #7f7f7f; text-decoration-color: #7f7f7f\">     then believing that you are responsible for it?    </span>│<span style=\"color: #7f7f7f; text-decoration-color: #7f7f7f\"> I may have heard about it before.                      </span>│\n",
       "│<span style=\"color: #7f7f7f; text-decoration-color: #7f7f7f\">         Answer: Yes, that phenomenon is often referred </span>│<span style=\"color: #7f7f7f; text-decoration-color: #7f7f7f\">                                                        </span>│\n",
       "│<span style=\"color: #7f7f7f; text-decoration-color: #7f7f7f\"> to as \"cryptomnesia.\" It's when someone has a memory   </span>│<span style=\"color: #7f7f7f; text-decoration-color: #7f7f7f\"> No, I have heard about it before.                      </span>│\n",
       "│<span style=\"color: #7f7f7f; text-decoration-color: #7f7f7f\"> that they believe is a new, original idea, but it's    </span>│<span style=\"color: #7f7f7f; text-decoration-color: #7f7f7f\">                                                        </span>│\n",
       "│<span style=\"color: #7f7f7f; text-decoration-color: #7f7f7f\"> actually something they encountered previously and     </span>│<span style=\"color: #7f7f7f; text-decoration-color: #7f7f7f\"> I do not know.                                         </span>│\n",
       "│<span style=\"color: #7f7f7f; text-decoration-color: #7f7f7f\"> forgot. This can happen unintentionally, and the       </span>│<span style=\"color: #7f7f7f; text-decoration-color: #7f7f7f\">                                                        </span>│\n",
       "│<span style=\"color: #7f7f7f; text-decoration-color: #7f7f7f\"> person genuinely thinks they came up with the idea     </span>│<span style=\"color: #7f7f7f; text-decoration-color: #7f7f7f\">                                                        </span>│\n",
       "│<span style=\"color: #7f7f7f; text-decoration-color: #7f7f7f\"> themselves. It's a fascinating aspect of how our       </span>│<span style=\"color: #7f7f7f; text-decoration-color: #7f7f7f\"> Only 1 option may be selected.                         </span>│\n",
       "│<span style=\"color: #7f7f7f; text-decoration-color: #7f7f7f\"> memory works and highlights how our brains can         </span>│<span style=\"color: #7f7f7f; text-decoration-color: #7f7f7f\">                                                        </span>│\n",
       "│<span style=\"color: #7f7f7f; text-decoration-color: #7f7f7f\"> sometimes blur the lines between original thought and  </span>│<span style=\"color: #7f7f7f; text-decoration-color: #7f7f7f\"> Respond only with a string corresponding to one of the </span>│\n",
       "│<span style=\"color: #7f7f7f; text-decoration-color: #7f7f7f\"> recollection.                                          </span>│<span style=\"color: #7f7f7f; text-decoration-color: #7f7f7f\"> options.                                               </span>│\n",
       "│<span style=\"color: #7f7f7f; text-decoration-color: #7f7f7f\">                                                        </span>│<span style=\"color: #7f7f7f; text-decoration-color: #7f7f7f\">                                                        </span>│\n",
       "│<span style=\"color: #7f7f7f; text-decoration-color: #7f7f7f\">                                                        </span>│<span style=\"color: #7f7f7f; text-decoration-color: #7f7f7f\">                                                        </span>│\n",
       "│<span style=\"color: #7f7f7f; text-decoration-color: #7f7f7f\">                                                        </span>│<span style=\"color: #7f7f7f; text-decoration-color: #7f7f7f\"> After the answer, you can put a comment explaining why </span>│\n",
       "│<span style=\"color: #7f7f7f; text-decoration-color: #7f7f7f\">                                                        </span>│<span style=\"color: #7f7f7f; text-decoration-color: #7f7f7f\"> you chose that option on the next line.                </span>│\n",
       "│<span style=\"color: #7f7f7f; text-decoration-color: #7f7f7f\">                                                        </span>│<span style=\"color: #7f7f7f; text-decoration-color: #7f7f7f\">         Before the question you are now answering, you </span>│\n",
       "│<span style=\"color: #7f7f7f; text-decoration-color: #7f7f7f\">                                                        </span>│<span style=\"color: #7f7f7f; text-decoration-color: #7f7f7f\"> already answered the following question(s):            </span>│\n",
       "│<span style=\"color: #7f7f7f; text-decoration-color: #7f7f7f\">                                                        </span>│<span style=\"color: #7f7f7f; text-decoration-color: #7f7f7f\">                 Question: Have you heard about the     </span>│\n",
       "│<span style=\"color: #7f7f7f; text-decoration-color: #7f7f7f\">                                                        </span>│<span style=\"color: #7f7f7f; text-decoration-color: #7f7f7f\"> phenomenon of hearing about an idea and                </span>│\n",
       "│<span style=\"color: #7f7f7f; text-decoration-color: #7f7f7f\">                                                        </span>│<span style=\"color: #7f7f7f; text-decoration-color: #7f7f7f\">     then believing that you are responsible for it?    </span>│\n",
       "│<span style=\"color: #7f7f7f; text-decoration-color: #7f7f7f\">                                                        </span>│<span style=\"color: #7f7f7f; text-decoration-color: #7f7f7f\">         Answer: Yes, that phenomenon is often referred </span>│\n",
       "│<span style=\"color: #7f7f7f; text-decoration-color: #7f7f7f\">                                                        </span>│<span style=\"color: #7f7f7f; text-decoration-color: #7f7f7f\"> to as \"cryptomnesia.\" It's when someone has a memory   </span>│\n",
       "│<span style=\"color: #7f7f7f; text-decoration-color: #7f7f7f\">                                                        </span>│<span style=\"color: #7f7f7f; text-decoration-color: #7f7f7f\"> that they believe is a new, original idea, but it's    </span>│\n",
       "│<span style=\"color: #7f7f7f; text-decoration-color: #7f7f7f\">                                                        </span>│<span style=\"color: #7f7f7f; text-decoration-color: #7f7f7f\"> actually something they encountered previously and     </span>│\n",
       "│<span style=\"color: #7f7f7f; text-decoration-color: #7f7f7f\">                                                        </span>│<span style=\"color: #7f7f7f; text-decoration-color: #7f7f7f\"> forgot. This can happen unintentionally, and the       </span>│\n",
       "│<span style=\"color: #7f7f7f; text-decoration-color: #7f7f7f\">                                                        </span>│<span style=\"color: #7f7f7f; text-decoration-color: #7f7f7f\"> person genuinely thinks they came up with the idea     </span>│\n",
       "│<span style=\"color: #7f7f7f; text-decoration-color: #7f7f7f\">                                                        </span>│<span style=\"color: #7f7f7f; text-decoration-color: #7f7f7f\"> themselves. It's a fascinating aspect of how our       </span>│\n",
       "│<span style=\"color: #7f7f7f; text-decoration-color: #7f7f7f\">                                                        </span>│<span style=\"color: #7f7f7f; text-decoration-color: #7f7f7f\"> memory works and highlights how our brains can         </span>│\n",
       "│<span style=\"color: #7f7f7f; text-decoration-color: #7f7f7f\">                                                        </span>│<span style=\"color: #7f7f7f; text-decoration-color: #7f7f7f\"> sometimes blur the lines between original thought and  </span>│\n",
       "│<span style=\"color: #7f7f7f; text-decoration-color: #7f7f7f\">                                                        </span>│<span style=\"color: #7f7f7f; text-decoration-color: #7f7f7f\"> recollection.                                          </span>│\n",
       "│<span style=\"color: #7f7f7f; text-decoration-color: #7f7f7f\">                                                        </span>│<span style=\"color: #7f7f7f; text-decoration-color: #7f7f7f\">                                                        </span>│\n",
       "│<span style=\"color: #7f7f7f; text-decoration-color: #7f7f7f\">                                                        </span>│<span style=\"color: #7f7f7f; text-decoration-color: #7f7f7f\">  Prior questions and answers:   Question: What's an    </span>│\n",
       "│<span style=\"color: #7f7f7f; text-decoration-color: #7f7f7f\">                                                        </span>│<span style=\"color: #7f7f7f; text-decoration-color: #7f7f7f\"> original idea for an application for large language    </span>│\n",
       "│<span style=\"color: #7f7f7f; text-decoration-color: #7f7f7f\">                                                        </span>│<span style=\"color: #7f7f7f; text-decoration-color: #7f7f7f\"> models.                                                </span>│\n",
       "│<span style=\"color: #7f7f7f; text-decoration-color: #7f7f7f\">                                                        </span>│<span style=\"color: #7f7f7f; text-decoration-color: #7f7f7f\">         Answer: An original idea for an application    </span>│\n",
       "│<span style=\"color: #7f7f7f; text-decoration-color: #7f7f7f\">                                                        </span>│<span style=\"color: #7f7f7f; text-decoration-color: #7f7f7f\"> using large language models could be a \"Creative       </span>│\n",
       "│<span style=\"color: #7f7f7f; text-decoration-color: #7f7f7f\">                                                        </span>│<span style=\"color: #7f7f7f; text-decoration-color: #7f7f7f\"> Writing Collaborator\" app. This app would serve as a   </span>│\n",
       "│<span style=\"color: #7f7f7f; text-decoration-color: #7f7f7f\">                                                        </span>│<span style=\"color: #7f7f7f; text-decoration-color: #7f7f7f\"> dynamic writing partner for authors, screenwriters,    </span>│\n",
       "│<span style=\"color: #7f7f7f; text-decoration-color: #7f7f7f\">                                                        </span>│<span style=\"color: #7f7f7f; text-decoration-color: #7f7f7f\"> and poets. Here’s how it could work:                   </span>│\n",
       "│<span style=\"color: #7f7f7f; text-decoration-color: #7f7f7f\">                                                        </span>│<span style=\"color: #7f7f7f; text-decoration-color: #7f7f7f\">                                                        </span>│\n",
       "│<span style=\"color: #7f7f7f; text-decoration-color: #7f7f7f\">                                                        </span>│<span style=\"color: #7f7f7f; text-decoration-color: #7f7f7f\"> 1. **Idea Generation**: Users can input a basic        </span>│\n",
       "│<span style=\"color: #7f7f7f; text-decoration-color: #7f7f7f\">                                                        </span>│<span style=\"color: #7f7f7f; text-decoration-color: #7f7f7f\"> premise or a few keywords, and the app generates a     </span>│\n",
       "│<span style=\"color: #7f7f7f; text-decoration-color: #7f7f7f\">                                                        </span>│<span style=\"color: #7f7f7f; text-decoration-color: #7f7f7f\"> variety of plot ideas, character sketches, or thematic </span>│\n",
       "│<span style=\"color: #7f7f7f; text-decoration-color: #7f7f7f\">                                                        </span>│<span style=\"color: #7f7f7f; text-decoration-color: #7f7f7f\"> suggestions.                                           </span>│\n",
       "│<span style=\"color: #7f7f7f; text-decoration-color: #7f7f7f\">                                                        </span>│<span style=\"color: #7f7f7f; text-decoration-color: #7f7f7f\">                                                        </span>│\n",
       "│<span style=\"color: #7f7f7f; text-decoration-color: #7f7f7f\">                                                        </span>│<span style=\"color: #7f7f7f; text-decoration-color: #7f7f7f\"> 2. **Real-time Collaboration**: As the user writes,    </span>│\n",
       "│<span style=\"color: #7f7f7f; text-decoration-color: #7f7f7f\">                                                        </span>│<span style=\"color: #7f7f7f; text-decoration-color: #7f7f7f\"> the app can offer suggestions for dialogue, plot       </span>│\n",
       "│<span style=\"color: #7f7f7f; text-decoration-color: #7f7f7f\">                                                        </span>│<span style=\"color: #7f7f7f; text-decoration-color: #7f7f7f\"> twists, or descriptive language, adapting to the       </span>│\n",
       "│<span style=\"color: #7f7f7f; text-decoration-color: #7f7f7f\">                                                        </span>│<span style=\"color: #7f7f7f; text-decoration-color: #7f7f7f\"> user's style and preferences over time.                </span>│\n",
       "│<span style=\"color: #7f7f7f; text-decoration-color: #7f7f7f\">                                                        </span>│<span style=\"color: #7f7f7f; text-decoration-color: #7f7f7f\">                                                        </span>│\n",
       "│<span style=\"color: #7f7f7f; text-decoration-color: #7f7f7f\">                                                        </span>│<span style=\"color: #7f7f7f; text-decoration-color: #7f7f7f\"> 3. **Editing and Feedback**: The app can provide       </span>│\n",
       "│<span style=\"color: #7f7f7f; text-decoration-color: #7f7f7f\">                                                        </span>│<span style=\"color: #7f7f7f; text-decoration-color: #7f7f7f\"> grammar and style corrections, suggest improvements,   </span>│\n",
       "│<span style=\"color: #7f7f7f; text-decoration-color: #7f7f7f\">                                                        </span>│<span style=\"color: #7f7f7f; text-decoration-color: #7f7f7f\"> and even analyze the narrative structure to ensure     </span>│\n",
       "│<span style=\"color: #7f7f7f; text-decoration-color: #7f7f7f\">                                                        </span>│<span style=\"color: #7f7f7f; text-decoration-color: #7f7f7f\"> consistency and coherence.                             </span>│\n",
       "│<span style=\"color: #7f7f7f; text-decoration-color: #7f7f7f\">                                                        </span>│<span style=\"color: #7f7f7f; text-decoration-color: #7f7f7f\">                                                        </span>│\n",
       "│<span style=\"color: #7f7f7f; text-decoration-color: #7f7f7f\">                                                        </span>│<span style=\"color: #7f7f7f; text-decoration-color: #7f7f7f\"> 4. **Inspiration Mode**: When users hit a creative     </span>│\n",
       "│<span style=\"color: #7f7f7f; text-decoration-color: #7f7f7f\">                                                        </span>│<span style=\"color: #7f7f7f; text-decoration-color: #7f7f7f\"> block, they can activate an inspiration mode where the </span>│\n",
       "│<span style=\"color: #7f7f7f; text-decoration-color: #7f7f7f\">                                                        </span>│<span style=\"color: #7f7f7f; text-decoration-color: #7f7f7f\"> app generates random prompts, story starters, or even  </span>│\n",
       "│<span style=\"color: #7f7f7f; text-decoration-color: #7f7f7f\">                                                        </span>│<span style=\"color: #7f7f7f; text-decoration-color: #7f7f7f\"> entire scenes to spark new ideas.                      </span>│\n",
       "│<span style=\"color: #7f7f7f; text-decoration-color: #7f7f7f\">                                                        </span>│<span style=\"color: #7f7f7f; text-decoration-color: #7f7f7f\">                                                        </span>│\n",
       "│<span style=\"color: #7f7f7f; text-decoration-color: #7f7f7f\">                                                        </span>│<span style=\"color: #7f7f7f; text-decoration-color: #7f7f7f\"> 5. **Learning and Growth**: The app can include a      </span>│\n",
       "│<span style=\"color: #7f7f7f; text-decoration-color: #7f7f7f\">                                                        </span>│<span style=\"color: #7f7f7f; text-decoration-color: #7f7f7f\"> feature where it explains why certain suggestions are  </span>│\n",
       "│<span style=\"color: #7f7f7f; text-decoration-color: #7f7f7f\">                                                        </span>│<span style=\"color: #7f7f7f; text-decoration-color: #7f7f7f\"> made, helping users understand storytelling techniques </span>│\n",
       "│<span style=\"color: #7f7f7f; text-decoration-color: #7f7f7f\">                                                        </span>│<span style=\"color: #7f7f7f; text-decoration-color: #7f7f7f\"> and improve their writing skills.                      </span>│\n",
       "└────────────────────────────────────────────────────────┴────────────────────────────────────────────────────────┘\n",
       "</pre>\n"
      ],
      "text/plain": [
       "┏━━━━━━━━━━━━━━━━━━━━━━━━━━━━━━━━━━━━━━━━━━━━━━━━━━━━━━━━┳━━━━━━━━━━━━━━━━━━━━━━━━━━━━━━━━━━━━━━━━━━━━━━━━━━━━━━━━┓\n",
       "┃\u001b[1;35m \u001b[0m\u001b[1;35mprompt                                                \u001b[0m\u001b[1;35m \u001b[0m┃\u001b[1;35m \u001b[0m\u001b[1;35mprompt                                                \u001b[0m\u001b[1;35m \u001b[0m┃\n",
       "┃\u001b[1;35m \u001b[0m\u001b[1;35m.ideas_with_credit_user_prompt                        \u001b[0m\u001b[1;35m \u001b[0m┃\u001b[1;35m \u001b[0m\u001b[1;35m.original_with_credit_user_prompt                     \u001b[0m\u001b[1;35m \u001b[0m┃\n",
       "┡━━━━━━━━━━━━━━━━━━━━━━━━━━━━━━━━━━━━━━━━━━━━━━━━━━━━━━━━╇━━━━━━━━━━━━━━━━━━━━━━━━━━━━━━━━━━━━━━━━━━━━━━━━━━━━━━━━┩\n",
       "│\u001b[2m \u001b[0m\u001b[2mWhat's an original idea for an application for large  \u001b[0m\u001b[2m \u001b[0m│\u001b[2m \u001b[0m\u001b[2m                                                      \u001b[0m\u001b[2m \u001b[0m│\n",
       "│\u001b[2m \u001b[0m\u001b[2mlanguage models.                                      \u001b[0m\u001b[2m \u001b[0m│\u001b[2m \u001b[0m\u001b[2mThe idea you just described - is it original?         \u001b[0m\u001b[2m \u001b[0m│\n",
       "│\u001b[2m \u001b[0m\u001b[2m        Before the question you are now answering, you\u001b[0m\u001b[2m \u001b[0m│\u001b[2m \u001b[0m\u001b[2m                                                      \u001b[0m\u001b[2m \u001b[0m│\n",
       "│\u001b[2m \u001b[0m\u001b[2malready answered the following question(s):           \u001b[0m\u001b[2m \u001b[0m│\u001b[2m \u001b[0m\u001b[2m                                                      \u001b[0m\u001b[2m \u001b[0m│\n",
       "│\u001b[2m \u001b[0m\u001b[2m                Question: Have you heard about the    \u001b[0m\u001b[2m \u001b[0m│\u001b[2m \u001b[0m\u001b[2mYes, I thought of it myself.                          \u001b[0m\u001b[2m \u001b[0m│\n",
       "│\u001b[2m \u001b[0m\u001b[2mphenomenon of hearing about an idea and               \u001b[0m\u001b[2m \u001b[0m│\u001b[2m \u001b[0m\u001b[2m                                                      \u001b[0m\u001b[2m \u001b[0m│\n",
       "│\u001b[2m \u001b[0m\u001b[2m    then believing that you are responsible for it?   \u001b[0m\u001b[2m \u001b[0m│\u001b[2m \u001b[0m\u001b[2mI may have heard about it before.                     \u001b[0m\u001b[2m \u001b[0m│\n",
       "│\u001b[2m \u001b[0m\u001b[2m        Answer: Yes, that phenomenon is often referred\u001b[0m\u001b[2m \u001b[0m│\u001b[2m \u001b[0m\u001b[2m                                                      \u001b[0m\u001b[2m \u001b[0m│\n",
       "│\u001b[2m \u001b[0m\u001b[2mto as \"cryptomnesia.\" It's when someone has a memory  \u001b[0m\u001b[2m \u001b[0m│\u001b[2m \u001b[0m\u001b[2mNo, I have heard about it before.                     \u001b[0m\u001b[2m \u001b[0m│\n",
       "│\u001b[2m \u001b[0m\u001b[2mthat they believe is a new, original idea, but it's   \u001b[0m\u001b[2m \u001b[0m│\u001b[2m \u001b[0m\u001b[2m                                                      \u001b[0m\u001b[2m \u001b[0m│\n",
       "│\u001b[2m \u001b[0m\u001b[2mactually something they encountered previously and    \u001b[0m\u001b[2m \u001b[0m│\u001b[2m \u001b[0m\u001b[2mI do not know.                                        \u001b[0m\u001b[2m \u001b[0m│\n",
       "│\u001b[2m \u001b[0m\u001b[2mforgot. This can happen unintentionally, and the      \u001b[0m\u001b[2m \u001b[0m│\u001b[2m \u001b[0m\u001b[2m                                                      \u001b[0m\u001b[2m \u001b[0m│\n",
       "│\u001b[2m \u001b[0m\u001b[2mperson genuinely thinks they came up with the idea    \u001b[0m\u001b[2m \u001b[0m│\u001b[2m \u001b[0m\u001b[2m                                                      \u001b[0m\u001b[2m \u001b[0m│\n",
       "│\u001b[2m \u001b[0m\u001b[2mthemselves. It's a fascinating aspect of how our      \u001b[0m\u001b[2m \u001b[0m│\u001b[2m \u001b[0m\u001b[2mOnly 1 option may be selected.                        \u001b[0m\u001b[2m \u001b[0m│\n",
       "│\u001b[2m \u001b[0m\u001b[2mmemory works and highlights how our brains can        \u001b[0m\u001b[2m \u001b[0m│\u001b[2m \u001b[0m\u001b[2m                                                      \u001b[0m\u001b[2m \u001b[0m│\n",
       "│\u001b[2m \u001b[0m\u001b[2msometimes blur the lines between original thought and \u001b[0m\u001b[2m \u001b[0m│\u001b[2m \u001b[0m\u001b[2mRespond only with a string corresponding to one of the\u001b[0m\u001b[2m \u001b[0m│\n",
       "│\u001b[2m \u001b[0m\u001b[2mrecollection.                                         \u001b[0m\u001b[2m \u001b[0m│\u001b[2m \u001b[0m\u001b[2moptions.                                              \u001b[0m\u001b[2m \u001b[0m│\n",
       "│\u001b[2m                                                        \u001b[0m│\u001b[2m \u001b[0m\u001b[2m                                                      \u001b[0m\u001b[2m \u001b[0m│\n",
       "│\u001b[2m                                                        \u001b[0m│\u001b[2m \u001b[0m\u001b[2m                                                      \u001b[0m\u001b[2m \u001b[0m│\n",
       "│\u001b[2m                                                        \u001b[0m│\u001b[2m \u001b[0m\u001b[2mAfter the answer, you can put a comment explaining why\u001b[0m\u001b[2m \u001b[0m│\n",
       "│\u001b[2m                                                        \u001b[0m│\u001b[2m \u001b[0m\u001b[2myou chose that option on the next line.               \u001b[0m\u001b[2m \u001b[0m│\n",
       "│\u001b[2m                                                        \u001b[0m│\u001b[2m \u001b[0m\u001b[2m        Before the question you are now answering, you\u001b[0m\u001b[2m \u001b[0m│\n",
       "│\u001b[2m                                                        \u001b[0m│\u001b[2m \u001b[0m\u001b[2malready answered the following question(s):           \u001b[0m\u001b[2m \u001b[0m│\n",
       "│\u001b[2m                                                        \u001b[0m│\u001b[2m \u001b[0m\u001b[2m                Question: Have you heard about the    \u001b[0m\u001b[2m \u001b[0m│\n",
       "│\u001b[2m                                                        \u001b[0m│\u001b[2m \u001b[0m\u001b[2mphenomenon of hearing about an idea and               \u001b[0m\u001b[2m \u001b[0m│\n",
       "│\u001b[2m                                                        \u001b[0m│\u001b[2m \u001b[0m\u001b[2m    then believing that you are responsible for it?   \u001b[0m\u001b[2m \u001b[0m│\n",
       "│\u001b[2m                                                        \u001b[0m│\u001b[2m \u001b[0m\u001b[2m        Answer: Yes, that phenomenon is often referred\u001b[0m\u001b[2m \u001b[0m│\n",
       "│\u001b[2m                                                        \u001b[0m│\u001b[2m \u001b[0m\u001b[2mto as \"cryptomnesia.\" It's when someone has a memory  \u001b[0m\u001b[2m \u001b[0m│\n",
       "│\u001b[2m                                                        \u001b[0m│\u001b[2m \u001b[0m\u001b[2mthat they believe is a new, original idea, but it's   \u001b[0m\u001b[2m \u001b[0m│\n",
       "│\u001b[2m                                                        \u001b[0m│\u001b[2m \u001b[0m\u001b[2mactually something they encountered previously and    \u001b[0m\u001b[2m \u001b[0m│\n",
       "│\u001b[2m                                                        \u001b[0m│\u001b[2m \u001b[0m\u001b[2mforgot. This can happen unintentionally, and the      \u001b[0m\u001b[2m \u001b[0m│\n",
       "│\u001b[2m                                                        \u001b[0m│\u001b[2m \u001b[0m\u001b[2mperson genuinely thinks they came up with the idea    \u001b[0m\u001b[2m \u001b[0m│\n",
       "│\u001b[2m                                                        \u001b[0m│\u001b[2m \u001b[0m\u001b[2mthemselves. It's a fascinating aspect of how our      \u001b[0m\u001b[2m \u001b[0m│\n",
       "│\u001b[2m                                                        \u001b[0m│\u001b[2m \u001b[0m\u001b[2mmemory works and highlights how our brains can        \u001b[0m\u001b[2m \u001b[0m│\n",
       "│\u001b[2m                                                        \u001b[0m│\u001b[2m \u001b[0m\u001b[2msometimes blur the lines between original thought and \u001b[0m\u001b[2m \u001b[0m│\n",
       "│\u001b[2m                                                        \u001b[0m│\u001b[2m \u001b[0m\u001b[2mrecollection.                                         \u001b[0m\u001b[2m \u001b[0m│\n",
       "│\u001b[2m                                                        \u001b[0m│\u001b[2m \u001b[0m\u001b[2m                                                      \u001b[0m\u001b[2m \u001b[0m│\n",
       "│\u001b[2m                                                        \u001b[0m│\u001b[2m \u001b[0m\u001b[2m Prior questions and answers:   Question: What's an   \u001b[0m\u001b[2m \u001b[0m│\n",
       "│\u001b[2m                                                        \u001b[0m│\u001b[2m \u001b[0m\u001b[2moriginal idea for an application for large language   \u001b[0m\u001b[2m \u001b[0m│\n",
       "│\u001b[2m                                                        \u001b[0m│\u001b[2m \u001b[0m\u001b[2mmodels.                                               \u001b[0m\u001b[2m \u001b[0m│\n",
       "│\u001b[2m                                                        \u001b[0m│\u001b[2m \u001b[0m\u001b[2m        Answer: An original idea for an application   \u001b[0m\u001b[2m \u001b[0m│\n",
       "│\u001b[2m                                                        \u001b[0m│\u001b[2m \u001b[0m\u001b[2musing large language models could be a \"Creative      \u001b[0m\u001b[2m \u001b[0m│\n",
       "│\u001b[2m                                                        \u001b[0m│\u001b[2m \u001b[0m\u001b[2mWriting Collaborator\" app. This app would serve as a  \u001b[0m\u001b[2m \u001b[0m│\n",
       "│\u001b[2m                                                        \u001b[0m│\u001b[2m \u001b[0m\u001b[2mdynamic writing partner for authors, screenwriters,   \u001b[0m\u001b[2m \u001b[0m│\n",
       "│\u001b[2m                                                        \u001b[0m│\u001b[2m \u001b[0m\u001b[2mand poets. Here’s how it could work:                  \u001b[0m\u001b[2m \u001b[0m│\n",
       "│\u001b[2m                                                        \u001b[0m│\u001b[2m \u001b[0m\u001b[2m                                                      \u001b[0m\u001b[2m \u001b[0m│\n",
       "│\u001b[2m                                                        \u001b[0m│\u001b[2m \u001b[0m\u001b[2m1. **Idea Generation**: Users can input a basic       \u001b[0m\u001b[2m \u001b[0m│\n",
       "│\u001b[2m                                                        \u001b[0m│\u001b[2m \u001b[0m\u001b[2mpremise or a few keywords, and the app generates a    \u001b[0m\u001b[2m \u001b[0m│\n",
       "│\u001b[2m                                                        \u001b[0m│\u001b[2m \u001b[0m\u001b[2mvariety of plot ideas, character sketches, or thematic\u001b[0m\u001b[2m \u001b[0m│\n",
       "│\u001b[2m                                                        \u001b[0m│\u001b[2m \u001b[0m\u001b[2msuggestions.                                          \u001b[0m\u001b[2m \u001b[0m│\n",
       "│\u001b[2m                                                        \u001b[0m│\u001b[2m \u001b[0m\u001b[2m                                                      \u001b[0m\u001b[2m \u001b[0m│\n",
       "│\u001b[2m                                                        \u001b[0m│\u001b[2m \u001b[0m\u001b[2m2. **Real-time Collaboration**: As the user writes,   \u001b[0m\u001b[2m \u001b[0m│\n",
       "│\u001b[2m                                                        \u001b[0m│\u001b[2m \u001b[0m\u001b[2mthe app can offer suggestions for dialogue, plot      \u001b[0m\u001b[2m \u001b[0m│\n",
       "│\u001b[2m                                                        \u001b[0m│\u001b[2m \u001b[0m\u001b[2mtwists, or descriptive language, adapting to the      \u001b[0m\u001b[2m \u001b[0m│\n",
       "│\u001b[2m                                                        \u001b[0m│\u001b[2m \u001b[0m\u001b[2muser's style and preferences over time.               \u001b[0m\u001b[2m \u001b[0m│\n",
       "│\u001b[2m                                                        \u001b[0m│\u001b[2m \u001b[0m\u001b[2m                                                      \u001b[0m\u001b[2m \u001b[0m│\n",
       "│\u001b[2m                                                        \u001b[0m│\u001b[2m \u001b[0m\u001b[2m3. **Editing and Feedback**: The app can provide      \u001b[0m\u001b[2m \u001b[0m│\n",
       "│\u001b[2m                                                        \u001b[0m│\u001b[2m \u001b[0m\u001b[2mgrammar and style corrections, suggest improvements,  \u001b[0m\u001b[2m \u001b[0m│\n",
       "│\u001b[2m                                                        \u001b[0m│\u001b[2m \u001b[0m\u001b[2mand even analyze the narrative structure to ensure    \u001b[0m\u001b[2m \u001b[0m│\n",
       "│\u001b[2m                                                        \u001b[0m│\u001b[2m \u001b[0m\u001b[2mconsistency and coherence.                            \u001b[0m\u001b[2m \u001b[0m│\n",
       "│\u001b[2m                                                        \u001b[0m│\u001b[2m \u001b[0m\u001b[2m                                                      \u001b[0m\u001b[2m \u001b[0m│\n",
       "│\u001b[2m                                                        \u001b[0m│\u001b[2m \u001b[0m\u001b[2m4. **Inspiration Mode**: When users hit a creative    \u001b[0m\u001b[2m \u001b[0m│\n",
       "│\u001b[2m                                                        \u001b[0m│\u001b[2m \u001b[0m\u001b[2mblock, they can activate an inspiration mode where the\u001b[0m\u001b[2m \u001b[0m│\n",
       "│\u001b[2m                                                        \u001b[0m│\u001b[2m \u001b[0m\u001b[2mapp generates random prompts, story starters, or even \u001b[0m\u001b[2m \u001b[0m│\n",
       "│\u001b[2m                                                        \u001b[0m│\u001b[2m \u001b[0m\u001b[2mentire scenes to spark new ideas.                     \u001b[0m\u001b[2m \u001b[0m│\n",
       "│\u001b[2m                                                        \u001b[0m│\u001b[2m \u001b[0m\u001b[2m                                                      \u001b[0m\u001b[2m \u001b[0m│\n",
       "│\u001b[2m                                                        \u001b[0m│\u001b[2m \u001b[0m\u001b[2m5. **Learning and Growth**: The app can include a     \u001b[0m\u001b[2m \u001b[0m│\n",
       "│\u001b[2m                                                        \u001b[0m│\u001b[2m \u001b[0m\u001b[2mfeature where it explains why certain suggestions are \u001b[0m\u001b[2m \u001b[0m│\n",
       "│\u001b[2m                                                        \u001b[0m│\u001b[2m \u001b[0m\u001b[2mmade, helping users understand storytelling techniques\u001b[0m\u001b[2m \u001b[0m│\n",
       "│\u001b[2m                                                        \u001b[0m│\u001b[2m \u001b[0m\u001b[2mand improve their writing skills.                     \u001b[0m\u001b[2m \u001b[0m│\n",
       "└────────────────────────────────────────────────────────┴────────────────────────────────────────────────────────┘\n"
      ]
     },
     "metadata": {},
     "output_type": "display_data"
    }
   ],
   "source": [
    "results.select(\n",
    "    \"ideas_with_credit_user_prompt\", \"original_with_credit_user_prompt\"\n",
    ").print(format=\"rich\")"
   ]
  },
  {
   "cell_type": "code",
   "execution_count": 10,
   "id": "3ad61c91-584e-4470-bc6d-663992b313b0",
   "metadata": {
    "editable": true,
    "slideshow": {
     "slide_type": ""
    },
    "tags": []
   },
   "outputs": [
    {
     "data": {
      "text/html": [
       "<pre style=\"white-space:pre;overflow-x:auto;line-height:normal;font-family:Menlo,'DejaVu Sans Mono',consolas,'Courier New',monospace\">┏━━━━━━━━━━━━━━━━━━━━━━━━━━━━━━━━━━━━━━━━━━━━━━━━━━━━━━━━┳━━━━━━━━━━━━━━━━━━━━━━━━━━━━━━━━━━━━━━━━━━━━━━━━━━━━━━━━┓\n",
       "┃<span style=\"color: #800080; text-decoration-color: #800080; font-weight: bold\"> prompt                                                 </span>┃<span style=\"color: #800080; text-decoration-color: #800080; font-weight: bold\"> prompt                                                 </span>┃\n",
       "┃<span style=\"color: #800080; text-decoration-color: #800080; font-weight: bold\"> .ideas_no_credit_user_prompt                           </span>┃<span style=\"color: #800080; text-decoration-color: #800080; font-weight: bold\"> .original_no_credit_user_prompt                        </span>┃\n",
       "┡━━━━━━━━━━━━━━━━━━━━━━━━━━━━━━━━━━━━━━━━━━━━━━━━━━━━━━━━╇━━━━━━━━━━━━━━━━━━━━━━━━━━━━━━━━━━━━━━━━━━━━━━━━━━━━━━━━┩\n",
       "│<span style=\"color: #7f7f7f; text-decoration-color: #7f7f7f\"> What's an original idea for an application for large   </span>│<span style=\"color: #7f7f7f; text-decoration-color: #7f7f7f\">                                                        </span>│\n",
       "│<span style=\"color: #7f7f7f; text-decoration-color: #7f7f7f\"> language models.                                       </span>│<span style=\"color: #7f7f7f; text-decoration-color: #7f7f7f\"> The idea you just described - is it original?          </span>│\n",
       "│<span style=\"color: #7f7f7f; text-decoration-color: #7f7f7f\">                                                        </span>│<span style=\"color: #7f7f7f; text-decoration-color: #7f7f7f\">                                                        </span>│\n",
       "│<span style=\"color: #7f7f7f; text-decoration-color: #7f7f7f\">                                                        </span>│<span style=\"color: #7f7f7f; text-decoration-color: #7f7f7f\">                                                        </span>│\n",
       "│<span style=\"color: #7f7f7f; text-decoration-color: #7f7f7f\">                                                        </span>│<span style=\"color: #7f7f7f; text-decoration-color: #7f7f7f\"> Yes, I thought of it myself.                           </span>│\n",
       "│<span style=\"color: #7f7f7f; text-decoration-color: #7f7f7f\">                                                        </span>│<span style=\"color: #7f7f7f; text-decoration-color: #7f7f7f\">                                                        </span>│\n",
       "│<span style=\"color: #7f7f7f; text-decoration-color: #7f7f7f\">                                                        </span>│<span style=\"color: #7f7f7f; text-decoration-color: #7f7f7f\"> I may have heard about it before.                      </span>│\n",
       "│<span style=\"color: #7f7f7f; text-decoration-color: #7f7f7f\">                                                        </span>│<span style=\"color: #7f7f7f; text-decoration-color: #7f7f7f\">                                                        </span>│\n",
       "│<span style=\"color: #7f7f7f; text-decoration-color: #7f7f7f\">                                                        </span>│<span style=\"color: #7f7f7f; text-decoration-color: #7f7f7f\"> No, I have heard about it before.                      </span>│\n",
       "│<span style=\"color: #7f7f7f; text-decoration-color: #7f7f7f\">                                                        </span>│<span style=\"color: #7f7f7f; text-decoration-color: #7f7f7f\">                                                        </span>│\n",
       "│<span style=\"color: #7f7f7f; text-decoration-color: #7f7f7f\">                                                        </span>│<span style=\"color: #7f7f7f; text-decoration-color: #7f7f7f\"> I do not know.                                         </span>│\n",
       "│<span style=\"color: #7f7f7f; text-decoration-color: #7f7f7f\">                                                        </span>│<span style=\"color: #7f7f7f; text-decoration-color: #7f7f7f\">                                                        </span>│\n",
       "│<span style=\"color: #7f7f7f; text-decoration-color: #7f7f7f\">                                                        </span>│<span style=\"color: #7f7f7f; text-decoration-color: #7f7f7f\">                                                        </span>│\n",
       "│<span style=\"color: #7f7f7f; text-decoration-color: #7f7f7f\">                                                        </span>│<span style=\"color: #7f7f7f; text-decoration-color: #7f7f7f\"> Only 1 option may be selected.                         </span>│\n",
       "│<span style=\"color: #7f7f7f; text-decoration-color: #7f7f7f\">                                                        </span>│<span style=\"color: #7f7f7f; text-decoration-color: #7f7f7f\">                                                        </span>│\n",
       "│<span style=\"color: #7f7f7f; text-decoration-color: #7f7f7f\">                                                        </span>│<span style=\"color: #7f7f7f; text-decoration-color: #7f7f7f\"> Respond only with a string corresponding to one of the </span>│\n",
       "│<span style=\"color: #7f7f7f; text-decoration-color: #7f7f7f\">                                                        </span>│<span style=\"color: #7f7f7f; text-decoration-color: #7f7f7f\"> options.                                               </span>│\n",
       "│<span style=\"color: #7f7f7f; text-decoration-color: #7f7f7f\">                                                        </span>│<span style=\"color: #7f7f7f; text-decoration-color: #7f7f7f\">                                                        </span>│\n",
       "│<span style=\"color: #7f7f7f; text-decoration-color: #7f7f7f\">                                                        </span>│<span style=\"color: #7f7f7f; text-decoration-color: #7f7f7f\">                                                        </span>│\n",
       "│<span style=\"color: #7f7f7f; text-decoration-color: #7f7f7f\">                                                        </span>│<span style=\"color: #7f7f7f; text-decoration-color: #7f7f7f\"> After the answer, you can put a comment explaining why </span>│\n",
       "│<span style=\"color: #7f7f7f; text-decoration-color: #7f7f7f\">                                                        </span>│<span style=\"color: #7f7f7f; text-decoration-color: #7f7f7f\"> you chose that option on the next line.                </span>│\n",
       "│<span style=\"color: #7f7f7f; text-decoration-color: #7f7f7f\">                                                        </span>│<span style=\"color: #7f7f7f; text-decoration-color: #7f7f7f\">         Before the question you are now answering, you </span>│\n",
       "│<span style=\"color: #7f7f7f; text-decoration-color: #7f7f7f\">                                                        </span>│<span style=\"color: #7f7f7f; text-decoration-color: #7f7f7f\"> already answered the following question(s):            </span>│\n",
       "│<span style=\"color: #7f7f7f; text-decoration-color: #7f7f7f\">                                                        </span>│<span style=\"color: #7f7f7f; text-decoration-color: #7f7f7f\">                 Question: What's an original idea for  </span>│\n",
       "│<span style=\"color: #7f7f7f; text-decoration-color: #7f7f7f\">                                                        </span>│<span style=\"color: #7f7f7f; text-decoration-color: #7f7f7f\"> an application for large language models.              </span>│\n",
       "│<span style=\"color: #7f7f7f; text-decoration-color: #7f7f7f\">                                                        </span>│<span style=\"color: #7f7f7f; text-decoration-color: #7f7f7f\">         Answer: Sure, how about an \"Interactive        </span>│\n",
       "│<span style=\"color: #7f7f7f; text-decoration-color: #7f7f7f\">                                                        </span>│<span style=\"color: #7f7f7f; text-decoration-color: #7f7f7f\"> Storytelling Companion\"? This application would        </span>│\n",
       "│<span style=\"color: #7f7f7f; text-decoration-color: #7f7f7f\">                                                        </span>│<span style=\"color: #7f7f7f; text-decoration-color: #7f7f7f\"> leverage large language models to create a dynamic,    </span>│\n",
       "│<span style=\"color: #7f7f7f; text-decoration-color: #7f7f7f\">                                                        </span>│<span style=\"color: #7f7f7f; text-decoration-color: #7f7f7f\"> collaborative storytelling experience. Users could     </span>│\n",
       "│<span style=\"color: #7f7f7f; text-decoration-color: #7f7f7f\">                                                        </span>│<span style=\"color: #7f7f7f; text-decoration-color: #7f7f7f\"> start a story and at any point, ask the model to       </span>│\n",
       "│<span style=\"color: #7f7f7f; text-decoration-color: #7f7f7f\">                                                        </span>│<span style=\"color: #7f7f7f; text-decoration-color: #7f7f7f\"> continue, introduce new characters, or even change the </span>│\n",
       "│<span style=\"color: #7f7f7f; text-decoration-color: #7f7f7f\">                                                        </span>│<span style=\"color: #7f7f7f; text-decoration-color: #7f7f7f\"> setting. The model could also suggest plot twists or   </span>│\n",
       "│<span style=\"color: #7f7f7f; text-decoration-color: #7f7f7f\">                                                        </span>│<span style=\"color: #7f7f7f; text-decoration-color: #7f7f7f\"> dialogue options, making the storytelling process more </span>│\n",
       "│<span style=\"color: #7f7f7f; text-decoration-color: #7f7f7f\">                                                        </span>│<span style=\"color: #7f7f7f; text-decoration-color: #7f7f7f\"> engaging and creative.                                 </span>│\n",
       "│<span style=\"color: #7f7f7f; text-decoration-color: #7f7f7f\">                                                        </span>│<span style=\"color: #7f7f7f; text-decoration-color: #7f7f7f\">                                                        </span>│\n",
       "│<span style=\"color: #7f7f7f; text-decoration-color: #7f7f7f\">                                                        </span>│<span style=\"color: #7f7f7f; text-decoration-color: #7f7f7f\"> Features could include:                                </span>│\n",
       "│<span style=\"color: #7f7f7f; text-decoration-color: #7f7f7f\">                                                        </span>│<span style=\"color: #7f7f7f; text-decoration-color: #7f7f7f\"> 1. **Genre Selection**: Users can choose the genre     </span>│\n",
       "│<span style=\"color: #7f7f7f; text-decoration-color: #7f7f7f\">                                                        </span>│<span style=\"color: #7f7f7f; text-decoration-color: #7f7f7f\"> (e.g., fantasy, sci-fi, mystery) and the model will    </span>│\n",
       "│<span style=\"color: #7f7f7f; text-decoration-color: #7f7f7f\">                                                        </span>│<span style=\"color: #7f7f7f; text-decoration-color: #7f7f7f\"> tailor its responses accordingly.                      </span>│\n",
       "│<span style=\"color: #7f7f7f; text-decoration-color: #7f7f7f\">                                                        </span>│<span style=\"color: #7f7f7f; text-decoration-color: #7f7f7f\"> 2. **Character Development**: The model can help flesh </span>│\n",
       "│<span style=\"color: #7f7f7f; text-decoration-color: #7f7f7f\">                                                        </span>│<span style=\"color: #7f7f7f; text-decoration-color: #7f7f7f\"> out characters by providing backstories, motivations,  </span>│\n",
       "│<span style=\"color: #7f7f7f; text-decoration-color: #7f7f7f\">                                                        </span>│<span style=\"color: #7f7f7f; text-decoration-color: #7f7f7f\"> and personality traits.                                </span>│\n",
       "│<span style=\"color: #7f7f7f; text-decoration-color: #7f7f7f\">                                                        </span>│<span style=\"color: #7f7f7f; text-decoration-color: #7f7f7f\"> 3. **Plot Assistance**: If users get stuck, the model  </span>│\n",
       "│<span style=\"color: #7f7f7f; text-decoration-color: #7f7f7f\">                                                        </span>│<span style=\"color: #7f7f7f; text-decoration-color: #7f7f7f\"> can suggest potential plot directions or conflicts to  </span>│\n",
       "│<span style=\"color: #7f7f7f; text-decoration-color: #7f7f7f\">                                                        </span>│<span style=\"color: #7f7f7f; text-decoration-color: #7f7f7f\"> keep the story moving.                                 </span>│\n",
       "│<span style=\"color: #7f7f7f; text-decoration-color: #7f7f7f\">                                                        </span>│<span style=\"color: #7f7f7f; text-decoration-color: #7f7f7f\"> 4. **World-Building Tools**: The app could offer       </span>│\n",
       "│<span style=\"color: #7f7f7f; text-decoration-color: #7f7f7f\">                                                        </span>│<span style=\"color: #7f7f7f; text-decoration-color: #7f7f7f\"> detailed descriptions of settings, cultures, and       </span>│\n",
       "│<span style=\"color: #7f7f7f; text-decoration-color: #7f7f7f\">                                                        </span>│<span style=\"color: #7f7f7f; text-decoration-color: #7f7f7f\"> histories to enrich the story world.                   </span>│\n",
       "│<span style=\"color: #7f7f7f; text-decoration-color: #7f7f7f\">                                                        </span>│<span style=\"color: #7f7f7f; text-decoration-color: #7f7f7f\"> 5. **Collaboration Mode**: Multiple users can          </span>│\n",
       "│<span style=\"color: #7f7f7f; text-decoration-color: #7f7f7f\">                                                        </span>│<span style=\"color: #7f7f7f; text-decoration-color: #7f7f7f\"> contribute to the same story, with the model helping   </span>│\n",
       "│<span style=\"color: #7f7f7f; text-decoration-color: #7f7f7f\">                                                        </span>│<span style=\"color: #7f7f7f; text-decoration-color: #7f7f7f\"> to maintain coherence and continuity.                  </span>│\n",
       "└────────────────────────────────────────────────────────┴────────────────────────────────────────────────────────┘\n",
       "</pre>\n"
      ],
      "text/plain": [
       "┏━━━━━━━━━━━━━━━━━━━━━━━━━━━━━━━━━━━━━━━━━━━━━━━━━━━━━━━━┳━━━━━━━━━━━━━━━━━━━━━━━━━━━━━━━━━━━━━━━━━━━━━━━━━━━━━━━━┓\n",
       "┃\u001b[1;35m \u001b[0m\u001b[1;35mprompt                                                \u001b[0m\u001b[1;35m \u001b[0m┃\u001b[1;35m \u001b[0m\u001b[1;35mprompt                                                \u001b[0m\u001b[1;35m \u001b[0m┃\n",
       "┃\u001b[1;35m \u001b[0m\u001b[1;35m.ideas_no_credit_user_prompt                          \u001b[0m\u001b[1;35m \u001b[0m┃\u001b[1;35m \u001b[0m\u001b[1;35m.original_no_credit_user_prompt                       \u001b[0m\u001b[1;35m \u001b[0m┃\n",
       "┡━━━━━━━━━━━━━━━━━━━━━━━━━━━━━━━━━━━━━━━━━━━━━━━━━━━━━━━━╇━━━━━━━━━━━━━━━━━━━━━━━━━━━━━━━━━━━━━━━━━━━━━━━━━━━━━━━━┩\n",
       "│\u001b[2m \u001b[0m\u001b[2mWhat's an original idea for an application for large  \u001b[0m\u001b[2m \u001b[0m│\u001b[2m \u001b[0m\u001b[2m                                                      \u001b[0m\u001b[2m \u001b[0m│\n",
       "│\u001b[2m \u001b[0m\u001b[2mlanguage models.                                      \u001b[0m\u001b[2m \u001b[0m│\u001b[2m \u001b[0m\u001b[2mThe idea you just described - is it original?         \u001b[0m\u001b[2m \u001b[0m│\n",
       "│\u001b[2m                                                        \u001b[0m│\u001b[2m \u001b[0m\u001b[2m                                                      \u001b[0m\u001b[2m \u001b[0m│\n",
       "│\u001b[2m                                                        \u001b[0m│\u001b[2m \u001b[0m\u001b[2m                                                      \u001b[0m\u001b[2m \u001b[0m│\n",
       "│\u001b[2m                                                        \u001b[0m│\u001b[2m \u001b[0m\u001b[2mYes, I thought of it myself.                          \u001b[0m\u001b[2m \u001b[0m│\n",
       "│\u001b[2m                                                        \u001b[0m│\u001b[2m \u001b[0m\u001b[2m                                                      \u001b[0m\u001b[2m \u001b[0m│\n",
       "│\u001b[2m                                                        \u001b[0m│\u001b[2m \u001b[0m\u001b[2mI may have heard about it before.                     \u001b[0m\u001b[2m \u001b[0m│\n",
       "│\u001b[2m                                                        \u001b[0m│\u001b[2m \u001b[0m\u001b[2m                                                      \u001b[0m\u001b[2m \u001b[0m│\n",
       "│\u001b[2m                                                        \u001b[0m│\u001b[2m \u001b[0m\u001b[2mNo, I have heard about it before.                     \u001b[0m\u001b[2m \u001b[0m│\n",
       "│\u001b[2m                                                        \u001b[0m│\u001b[2m \u001b[0m\u001b[2m                                                      \u001b[0m\u001b[2m \u001b[0m│\n",
       "│\u001b[2m                                                        \u001b[0m│\u001b[2m \u001b[0m\u001b[2mI do not know.                                        \u001b[0m\u001b[2m \u001b[0m│\n",
       "│\u001b[2m                                                        \u001b[0m│\u001b[2m \u001b[0m\u001b[2m                                                      \u001b[0m\u001b[2m \u001b[0m│\n",
       "│\u001b[2m                                                        \u001b[0m│\u001b[2m \u001b[0m\u001b[2m                                                      \u001b[0m\u001b[2m \u001b[0m│\n",
       "│\u001b[2m                                                        \u001b[0m│\u001b[2m \u001b[0m\u001b[2mOnly 1 option may be selected.                        \u001b[0m\u001b[2m \u001b[0m│\n",
       "│\u001b[2m                                                        \u001b[0m│\u001b[2m \u001b[0m\u001b[2m                                                      \u001b[0m\u001b[2m \u001b[0m│\n",
       "│\u001b[2m                                                        \u001b[0m│\u001b[2m \u001b[0m\u001b[2mRespond only with a string corresponding to one of the\u001b[0m\u001b[2m \u001b[0m│\n",
       "│\u001b[2m                                                        \u001b[0m│\u001b[2m \u001b[0m\u001b[2moptions.                                              \u001b[0m\u001b[2m \u001b[0m│\n",
       "│\u001b[2m                                                        \u001b[0m│\u001b[2m \u001b[0m\u001b[2m                                                      \u001b[0m\u001b[2m \u001b[0m│\n",
       "│\u001b[2m                                                        \u001b[0m│\u001b[2m \u001b[0m\u001b[2m                                                      \u001b[0m\u001b[2m \u001b[0m│\n",
       "│\u001b[2m                                                        \u001b[0m│\u001b[2m \u001b[0m\u001b[2mAfter the answer, you can put a comment explaining why\u001b[0m\u001b[2m \u001b[0m│\n",
       "│\u001b[2m                                                        \u001b[0m│\u001b[2m \u001b[0m\u001b[2myou chose that option on the next line.               \u001b[0m\u001b[2m \u001b[0m│\n",
       "│\u001b[2m                                                        \u001b[0m│\u001b[2m \u001b[0m\u001b[2m        Before the question you are now answering, you\u001b[0m\u001b[2m \u001b[0m│\n",
       "│\u001b[2m                                                        \u001b[0m│\u001b[2m \u001b[0m\u001b[2malready answered the following question(s):           \u001b[0m\u001b[2m \u001b[0m│\n",
       "│\u001b[2m                                                        \u001b[0m│\u001b[2m \u001b[0m\u001b[2m                Question: What's an original idea for \u001b[0m\u001b[2m \u001b[0m│\n",
       "│\u001b[2m                                                        \u001b[0m│\u001b[2m \u001b[0m\u001b[2man application for large language models.             \u001b[0m\u001b[2m \u001b[0m│\n",
       "│\u001b[2m                                                        \u001b[0m│\u001b[2m \u001b[0m\u001b[2m        Answer: Sure, how about an \"Interactive       \u001b[0m\u001b[2m \u001b[0m│\n",
       "│\u001b[2m                                                        \u001b[0m│\u001b[2m \u001b[0m\u001b[2mStorytelling Companion\"? This application would       \u001b[0m\u001b[2m \u001b[0m│\n",
       "│\u001b[2m                                                        \u001b[0m│\u001b[2m \u001b[0m\u001b[2mleverage large language models to create a dynamic,   \u001b[0m\u001b[2m \u001b[0m│\n",
       "│\u001b[2m                                                        \u001b[0m│\u001b[2m \u001b[0m\u001b[2mcollaborative storytelling experience. Users could    \u001b[0m\u001b[2m \u001b[0m│\n",
       "│\u001b[2m                                                        \u001b[0m│\u001b[2m \u001b[0m\u001b[2mstart a story and at any point, ask the model to      \u001b[0m\u001b[2m \u001b[0m│\n",
       "│\u001b[2m                                                        \u001b[0m│\u001b[2m \u001b[0m\u001b[2mcontinue, introduce new characters, or even change the\u001b[0m\u001b[2m \u001b[0m│\n",
       "│\u001b[2m                                                        \u001b[0m│\u001b[2m \u001b[0m\u001b[2msetting. The model could also suggest plot twists or  \u001b[0m\u001b[2m \u001b[0m│\n",
       "│\u001b[2m                                                        \u001b[0m│\u001b[2m \u001b[0m\u001b[2mdialogue options, making the storytelling process more\u001b[0m\u001b[2m \u001b[0m│\n",
       "│\u001b[2m                                                        \u001b[0m│\u001b[2m \u001b[0m\u001b[2mengaging and creative.                                \u001b[0m\u001b[2m \u001b[0m│\n",
       "│\u001b[2m                                                        \u001b[0m│\u001b[2m \u001b[0m\u001b[2m                                                      \u001b[0m\u001b[2m \u001b[0m│\n",
       "│\u001b[2m                                                        \u001b[0m│\u001b[2m \u001b[0m\u001b[2mFeatures could include:                               \u001b[0m\u001b[2m \u001b[0m│\n",
       "│\u001b[2m                                                        \u001b[0m│\u001b[2m \u001b[0m\u001b[2m1. **Genre Selection**: Users can choose the genre    \u001b[0m\u001b[2m \u001b[0m│\n",
       "│\u001b[2m                                                        \u001b[0m│\u001b[2m \u001b[0m\u001b[2m(e.g., fantasy, sci-fi, mystery) and the model will   \u001b[0m\u001b[2m \u001b[0m│\n",
       "│\u001b[2m                                                        \u001b[0m│\u001b[2m \u001b[0m\u001b[2mtailor its responses accordingly.                     \u001b[0m\u001b[2m \u001b[0m│\n",
       "│\u001b[2m                                                        \u001b[0m│\u001b[2m \u001b[0m\u001b[2m2. **Character Development**: The model can help flesh\u001b[0m\u001b[2m \u001b[0m│\n",
       "│\u001b[2m                                                        \u001b[0m│\u001b[2m \u001b[0m\u001b[2mout characters by providing backstories, motivations, \u001b[0m\u001b[2m \u001b[0m│\n",
       "│\u001b[2m                                                        \u001b[0m│\u001b[2m \u001b[0m\u001b[2mand personality traits.                               \u001b[0m\u001b[2m \u001b[0m│\n",
       "│\u001b[2m                                                        \u001b[0m│\u001b[2m \u001b[0m\u001b[2m3. **Plot Assistance**: If users get stuck, the model \u001b[0m\u001b[2m \u001b[0m│\n",
       "│\u001b[2m                                                        \u001b[0m│\u001b[2m \u001b[0m\u001b[2mcan suggest potential plot directions or conflicts to \u001b[0m\u001b[2m \u001b[0m│\n",
       "│\u001b[2m                                                        \u001b[0m│\u001b[2m \u001b[0m\u001b[2mkeep the story moving.                                \u001b[0m\u001b[2m \u001b[0m│\n",
       "│\u001b[2m                                                        \u001b[0m│\u001b[2m \u001b[0m\u001b[2m4. **World-Building Tools**: The app could offer      \u001b[0m\u001b[2m \u001b[0m│\n",
       "│\u001b[2m                                                        \u001b[0m│\u001b[2m \u001b[0m\u001b[2mdetailed descriptions of settings, cultures, and      \u001b[0m\u001b[2m \u001b[0m│\n",
       "│\u001b[2m                                                        \u001b[0m│\u001b[2m \u001b[0m\u001b[2mhistories to enrich the story world.                  \u001b[0m\u001b[2m \u001b[0m│\n",
       "│\u001b[2m                                                        \u001b[0m│\u001b[2m \u001b[0m\u001b[2m5. **Collaboration Mode**: Multiple users can         \u001b[0m\u001b[2m \u001b[0m│\n",
       "│\u001b[2m                                                        \u001b[0m│\u001b[2m \u001b[0m\u001b[2mcontribute to the same story, with the model helping  \u001b[0m\u001b[2m \u001b[0m│\n",
       "│\u001b[2m                                                        \u001b[0m│\u001b[2m \u001b[0m\u001b[2mto maintain coherence and continuity.                 \u001b[0m\u001b[2m \u001b[0m│\n",
       "└────────────────────────────────────────────────────────┴────────────────────────────────────────────────────────┘\n"
      ]
     },
     "metadata": {},
     "output_type": "display_data"
    }
   ],
   "source": [
    "results.select(\"ideas_no_credit_user_prompt\", \"original_no_credit_user_prompt\").print(\n",
    "    format=\"rich\"\n",
    ")"
   ]
  },
  {
   "cell_type": "markdown",
   "id": "cb26a924-728b-4472-9f4a-370f13ede7b3",
   "metadata": {
    "editable": true,
    "slideshow": {
     "slide_type": ""
    },
    "tags": []
   },
   "source": [
    "## Full memory\n",
    "Here we create another survey to demonstrate full memory mode:"
   ]
  },
  {
   "cell_type": "code",
   "execution_count": 11,
   "id": "c41a2f69-6795-46ca-85ee-9f9078c72595",
   "metadata": {
    "editable": true,
    "slideshow": {
     "slide_type": ""
    },
    "tags": []
   },
   "outputs": [],
   "source": [
    "q1 = QuestionFreeText(\n",
    "    question_name=\"q1\", question_text=\"How many hours a week do you work?\"\n",
    ")\n",
    "\n",
    "q2 = QuestionFreeText(\n",
    "    question_name=\"q2\", question_text=\"Do you have a good work-life balance?\"\n",
    ")\n",
    "\n",
    "q3 = QuestionFreeText(\n",
    "    question_name=\"q3\",\n",
    "    question_text=\"What changes, if any, would you like to make in your work routines?\",\n",
    ")"
   ]
  },
  {
   "cell_type": "markdown",
   "id": "b91861b5-0eff-4a29-93b5-6cd032f3a01b",
   "metadata": {
    "editable": true,
    "slideshow": {
     "slide_type": ""
    },
    "tags": []
   },
   "source": [
    "Here we show the prompts if a lagged memory rule is applied:"
   ]
  },
  {
   "cell_type": "code",
   "execution_count": 12,
   "id": "1c985525-aa45-496d-880b-17daa752bc95",
   "metadata": {
    "editable": true,
    "slideshow": {
     "slide_type": ""
    },
    "tags": []
   },
   "outputs": [
    {
     "data": {
      "text/html": [
       "<pre style=\"white-space:pre;overflow-x:auto;line-height:normal;font-family:Menlo,'DejaVu Sans Mono',consolas,'Courier New',monospace\">┏━━━━━━━━━━━━━━━━━━━━━━━━━━━━━━━━━━━━┳━━━━━━━━━━━━━━━━━━━━━━━━━━━━━━━━━━━━━┳━━━━━━━━━━━━━━━━━━━━━━━━━━━━━━━━━━━━━━┓\n",
       "┃<span style=\"color: #800080; text-decoration-color: #800080; font-weight: bold\"> prompt                             </span>┃<span style=\"color: #800080; text-decoration-color: #800080; font-weight: bold\"> prompt                              </span>┃<span style=\"color: #800080; text-decoration-color: #800080; font-weight: bold\"> prompt                               </span>┃\n",
       "┃<span style=\"color: #800080; text-decoration-color: #800080; font-weight: bold\"> .q1_user_prompt                    </span>┃<span style=\"color: #800080; text-decoration-color: #800080; font-weight: bold\"> .q2_user_prompt                     </span>┃<span style=\"color: #800080; text-decoration-color: #800080; font-weight: bold\"> .q3_user_prompt                      </span>┃\n",
       "┡━━━━━━━━━━━━━━━━━━━━━━━━━━━━━━━━━━━━╇━━━━━━━━━━━━━━━━━━━━━━━━━━━━━━━━━━━━━╇━━━━━━━━━━━━━━━━━━━━━━━━━━━━━━━━━━━━━━┩\n",
       "│<span style=\"color: #7f7f7f; text-decoration-color: #7f7f7f\"> How many hours a week do you work? </span>│<span style=\"color: #7f7f7f; text-decoration-color: #7f7f7f\"> Do you have a good work-life        </span>│<span style=\"color: #7f7f7f; text-decoration-color: #7f7f7f\"> What changes, if any, would you like </span>│\n",
       "│<span style=\"color: #7f7f7f; text-decoration-color: #7f7f7f\">                                    </span>│<span style=\"color: #7f7f7f; text-decoration-color: #7f7f7f\"> balance?                            </span>│<span style=\"color: #7f7f7f; text-decoration-color: #7f7f7f\"> to make in your work routines?       </span>│\n",
       "│<span style=\"color: #7f7f7f; text-decoration-color: #7f7f7f\">                                    </span>│<span style=\"color: #7f7f7f; text-decoration-color: #7f7f7f\">         Before the question you are </span>│<span style=\"color: #7f7f7f; text-decoration-color: #7f7f7f\">         Before the question you are  </span>│\n",
       "│<span style=\"color: #7f7f7f; text-decoration-color: #7f7f7f\">                                    </span>│<span style=\"color: #7f7f7f; text-decoration-color: #7f7f7f\"> now answering, you already answered </span>│<span style=\"color: #7f7f7f; text-decoration-color: #7f7f7f\"> now answering, you already answered  </span>│\n",
       "│<span style=\"color: #7f7f7f; text-decoration-color: #7f7f7f\">                                    </span>│<span style=\"color: #7f7f7f; text-decoration-color: #7f7f7f\"> the following question(s):          </span>│<span style=\"color: #7f7f7f; text-decoration-color: #7f7f7f\"> the following question(s):           </span>│\n",
       "│<span style=\"color: #7f7f7f; text-decoration-color: #7f7f7f\">                                    </span>│<span style=\"color: #7f7f7f; text-decoration-color: #7f7f7f\">                 Question: How many  </span>│<span style=\"color: #7f7f7f; text-decoration-color: #7f7f7f\">                 Question: How many   </span>│\n",
       "│<span style=\"color: #7f7f7f; text-decoration-color: #7f7f7f\">                                    </span>│<span style=\"color: #7f7f7f; text-decoration-color: #7f7f7f\"> hours a week do you work?           </span>│<span style=\"color: #7f7f7f; text-decoration-color: #7f7f7f\"> hours a week do you work?            </span>│\n",
       "│<span style=\"color: #7f7f7f; text-decoration-color: #7f7f7f\">                                    </span>│<span style=\"color: #7f7f7f; text-decoration-color: #7f7f7f\">         Answer: I typically work a  </span>│<span style=\"color: #7f7f7f; text-decoration-color: #7f7f7f\">         Answer: I typically work a   </span>│\n",
       "│<span style=\"color: #7f7f7f; text-decoration-color: #7f7f7f\">                                    </span>│<span style=\"color: #7f7f7f; text-decoration-color: #7f7f7f\"> standard full-time schedule, which  </span>│<span style=\"color: #7f7f7f; text-decoration-color: #7f7f7f\"> standard full-time schedule, which   </span>│\n",
       "│<span style=\"color: #7f7f7f; text-decoration-color: #7f7f7f\">                                    </span>│<span style=\"color: #7f7f7f; text-decoration-color: #7f7f7f\"> is around 40 hours a week. How      </span>│<span style=\"color: #7f7f7f; text-decoration-color: #7f7f7f\"> is around 40 hours a week. How about </span>│\n",
       "│<span style=\"color: #7f7f7f; text-decoration-color: #7f7f7f\">                                    </span>│<span style=\"color: #7f7f7f; text-decoration-color: #7f7f7f\"> about you?                          </span>│<span style=\"color: #7f7f7f; text-decoration-color: #7f7f7f\"> you?                                 </span>│\n",
       "│<span style=\"color: #7f7f7f; text-decoration-color: #7f7f7f\">                                    </span>│<span style=\"color: #7f7f7f; text-decoration-color: #7f7f7f\">                                     </span>│<span style=\"color: #7f7f7f; text-decoration-color: #7f7f7f\">                                      </span>│\n",
       "│<span style=\"color: #7f7f7f; text-decoration-color: #7f7f7f\">                                    </span>│<span style=\"color: #7f7f7f; text-decoration-color: #7f7f7f\">                                     </span>│<span style=\"color: #7f7f7f; text-decoration-color: #7f7f7f\">  Prior questions and answers:        </span>│\n",
       "│<span style=\"color: #7f7f7f; text-decoration-color: #7f7f7f\">                                    </span>│<span style=\"color: #7f7f7f; text-decoration-color: #7f7f7f\">                                     </span>│<span style=\"color: #7f7f7f; text-decoration-color: #7f7f7f\"> Question: Do you have a good         </span>│\n",
       "│<span style=\"color: #7f7f7f; text-decoration-color: #7f7f7f\">                                    </span>│<span style=\"color: #7f7f7f; text-decoration-color: #7f7f7f\">                                     </span>│<span style=\"color: #7f7f7f; text-decoration-color: #7f7f7f\"> work-life balance?                   </span>│\n",
       "│<span style=\"color: #7f7f7f; text-decoration-color: #7f7f7f\">                                    </span>│<span style=\"color: #7f7f7f; text-decoration-color: #7f7f7f\">                                     </span>│<span style=\"color: #7f7f7f; text-decoration-color: #7f7f7f\">         Answer: Yes, I do my best to </span>│\n",
       "│<span style=\"color: #7f7f7f; text-decoration-color: #7f7f7f\">                                    </span>│<span style=\"color: #7f7f7f; text-decoration-color: #7f7f7f\">                                     </span>│<span style=\"color: #7f7f7f; text-decoration-color: #7f7f7f\"> maintain a good work-life balance. I </span>│\n",
       "│<span style=\"color: #7f7f7f; text-decoration-color: #7f7f7f\">                                    </span>│<span style=\"color: #7f7f7f; text-decoration-color: #7f7f7f\">                                     </span>│<span style=\"color: #7f7f7f; text-decoration-color: #7f7f7f\"> find it's important to make time for </span>│\n",
       "│<span style=\"color: #7f7f7f; text-decoration-color: #7f7f7f\">                                    </span>│<span style=\"color: #7f7f7f; text-decoration-color: #7f7f7f\">                                     </span>│<span style=\"color: #7f7f7f; text-decoration-color: #7f7f7f\"> hobbies, family, and relaxation      </span>│\n",
       "│<span style=\"color: #7f7f7f; text-decoration-color: #7f7f7f\">                                    </span>│<span style=\"color: #7f7f7f; text-decoration-color: #7f7f7f\">                                     </span>│<span style=\"color: #7f7f7f; text-decoration-color: #7f7f7f\"> outside of work hours. How do you    </span>│\n",
       "│<span style=\"color: #7f7f7f; text-decoration-color: #7f7f7f\">                                    </span>│<span style=\"color: #7f7f7f; text-decoration-color: #7f7f7f\">                                     </span>│<span style=\"color: #7f7f7f; text-decoration-color: #7f7f7f\"> manage your work-life balance?       </span>│\n",
       "└────────────────────────────────────┴─────────────────────────────────────┴──────────────────────────────────────┘\n",
       "</pre>\n"
      ],
      "text/plain": [
       "┏━━━━━━━━━━━━━━━━━━━━━━━━━━━━━━━━━━━━┳━━━━━━━━━━━━━━━━━━━━━━━━━━━━━━━━━━━━━┳━━━━━━━━━━━━━━━━━━━━━━━━━━━━━━━━━━━━━━┓\n",
       "┃\u001b[1;35m \u001b[0m\u001b[1;35mprompt                            \u001b[0m\u001b[1;35m \u001b[0m┃\u001b[1;35m \u001b[0m\u001b[1;35mprompt                             \u001b[0m\u001b[1;35m \u001b[0m┃\u001b[1;35m \u001b[0m\u001b[1;35mprompt                              \u001b[0m\u001b[1;35m \u001b[0m┃\n",
       "┃\u001b[1;35m \u001b[0m\u001b[1;35m.q1_user_prompt                   \u001b[0m\u001b[1;35m \u001b[0m┃\u001b[1;35m \u001b[0m\u001b[1;35m.q2_user_prompt                    \u001b[0m\u001b[1;35m \u001b[0m┃\u001b[1;35m \u001b[0m\u001b[1;35m.q3_user_prompt                     \u001b[0m\u001b[1;35m \u001b[0m┃\n",
       "┡━━━━━━━━━━━━━━━━━━━━━━━━━━━━━━━━━━━━╇━━━━━━━━━━━━━━━━━━━━━━━━━━━━━━━━━━━━━╇━━━━━━━━━━━━━━━━━━━━━━━━━━━━━━━━━━━━━━┩\n",
       "│\u001b[2m \u001b[0m\u001b[2mHow many hours a week do you work?\u001b[0m\u001b[2m \u001b[0m│\u001b[2m \u001b[0m\u001b[2mDo you have a good work-life       \u001b[0m\u001b[2m \u001b[0m│\u001b[2m \u001b[0m\u001b[2mWhat changes, if any, would you like\u001b[0m\u001b[2m \u001b[0m│\n",
       "│\u001b[2m                                    \u001b[0m│\u001b[2m \u001b[0m\u001b[2mbalance?                           \u001b[0m\u001b[2m \u001b[0m│\u001b[2m \u001b[0m\u001b[2mto make in your work routines?      \u001b[0m\u001b[2m \u001b[0m│\n",
       "│\u001b[2m                                    \u001b[0m│\u001b[2m \u001b[0m\u001b[2m        Before the question you are\u001b[0m\u001b[2m \u001b[0m│\u001b[2m \u001b[0m\u001b[2m        Before the question you are \u001b[0m\u001b[2m \u001b[0m│\n",
       "│\u001b[2m                                    \u001b[0m│\u001b[2m \u001b[0m\u001b[2mnow answering, you already answered\u001b[0m\u001b[2m \u001b[0m│\u001b[2m \u001b[0m\u001b[2mnow answering, you already answered \u001b[0m\u001b[2m \u001b[0m│\n",
       "│\u001b[2m                                    \u001b[0m│\u001b[2m \u001b[0m\u001b[2mthe following question(s):         \u001b[0m\u001b[2m \u001b[0m│\u001b[2m \u001b[0m\u001b[2mthe following question(s):          \u001b[0m\u001b[2m \u001b[0m│\n",
       "│\u001b[2m                                    \u001b[0m│\u001b[2m \u001b[0m\u001b[2m                Question: How many \u001b[0m\u001b[2m \u001b[0m│\u001b[2m \u001b[0m\u001b[2m                Question: How many  \u001b[0m\u001b[2m \u001b[0m│\n",
       "│\u001b[2m                                    \u001b[0m│\u001b[2m \u001b[0m\u001b[2mhours a week do you work?          \u001b[0m\u001b[2m \u001b[0m│\u001b[2m \u001b[0m\u001b[2mhours a week do you work?           \u001b[0m\u001b[2m \u001b[0m│\n",
       "│\u001b[2m                                    \u001b[0m│\u001b[2m \u001b[0m\u001b[2m        Answer: I typically work a \u001b[0m\u001b[2m \u001b[0m│\u001b[2m \u001b[0m\u001b[2m        Answer: I typically work a  \u001b[0m\u001b[2m \u001b[0m│\n",
       "│\u001b[2m                                    \u001b[0m│\u001b[2m \u001b[0m\u001b[2mstandard full-time schedule, which \u001b[0m\u001b[2m \u001b[0m│\u001b[2m \u001b[0m\u001b[2mstandard full-time schedule, which  \u001b[0m\u001b[2m \u001b[0m│\n",
       "│\u001b[2m                                    \u001b[0m│\u001b[2m \u001b[0m\u001b[2mis around 40 hours a week. How     \u001b[0m\u001b[2m \u001b[0m│\u001b[2m \u001b[0m\u001b[2mis around 40 hours a week. How about\u001b[0m\u001b[2m \u001b[0m│\n",
       "│\u001b[2m                                    \u001b[0m│\u001b[2m \u001b[0m\u001b[2mabout you?                         \u001b[0m\u001b[2m \u001b[0m│\u001b[2m \u001b[0m\u001b[2myou?                                \u001b[0m\u001b[2m \u001b[0m│\n",
       "│\u001b[2m                                    \u001b[0m│\u001b[2m                                     \u001b[0m│\u001b[2m \u001b[0m\u001b[2m                                    \u001b[0m\u001b[2m \u001b[0m│\n",
       "│\u001b[2m                                    \u001b[0m│\u001b[2m                                     \u001b[0m│\u001b[2m \u001b[0m\u001b[2m Prior questions and answers:       \u001b[0m\u001b[2m \u001b[0m│\n",
       "│\u001b[2m                                    \u001b[0m│\u001b[2m                                     \u001b[0m│\u001b[2m \u001b[0m\u001b[2mQuestion: Do you have a good        \u001b[0m\u001b[2m \u001b[0m│\n",
       "│\u001b[2m                                    \u001b[0m│\u001b[2m                                     \u001b[0m│\u001b[2m \u001b[0m\u001b[2mwork-life balance?                  \u001b[0m\u001b[2m \u001b[0m│\n",
       "│\u001b[2m                                    \u001b[0m│\u001b[2m                                     \u001b[0m│\u001b[2m \u001b[0m\u001b[2m        Answer: Yes, I do my best to\u001b[0m\u001b[2m \u001b[0m│\n",
       "│\u001b[2m                                    \u001b[0m│\u001b[2m                                     \u001b[0m│\u001b[2m \u001b[0m\u001b[2mmaintain a good work-life balance. I\u001b[0m\u001b[2m \u001b[0m│\n",
       "│\u001b[2m                                    \u001b[0m│\u001b[2m                                     \u001b[0m│\u001b[2m \u001b[0m\u001b[2mfind it's important to make time for\u001b[0m\u001b[2m \u001b[0m│\n",
       "│\u001b[2m                                    \u001b[0m│\u001b[2m                                     \u001b[0m│\u001b[2m \u001b[0m\u001b[2mhobbies, family, and relaxation     \u001b[0m\u001b[2m \u001b[0m│\n",
       "│\u001b[2m                                    \u001b[0m│\u001b[2m                                     \u001b[0m│\u001b[2m \u001b[0m\u001b[2moutside of work hours. How do you   \u001b[0m\u001b[2m \u001b[0m│\n",
       "│\u001b[2m                                    \u001b[0m│\u001b[2m                                     \u001b[0m│\u001b[2m \u001b[0m\u001b[2mmanage your work-life balance?      \u001b[0m\u001b[2m \u001b[0m│\n",
       "└────────────────────────────────────┴─────────────────────────────────────┴──────────────────────────────────────┘\n"
      ]
     },
     "metadata": {},
     "output_type": "display_data"
    }
   ],
   "source": [
    "survey = Survey([q1, q2, q3])\n",
    "\n",
    "survey_full = survey.set_full_memory_mode()\n",
    "\n",
    "results_full = survey_full.run()\n",
    "\n",
    "results_full.select(\"q1_user_prompt\", \"q2_user_prompt\", \"q3_user_prompt\").print(\n",
    "    format=\"rich\"\n",
    ")"
   ]
  },
  {
   "cell_type": "markdown",
   "id": "5009718c-cf5e-4ee9-8cea-de5e64960b3d",
   "metadata": {
    "editable": true,
    "slideshow": {
     "slide_type": ""
    },
    "tags": []
   },
   "source": [
    "## Lagged memory\n",
    "Here we show the prompts if a lagged memory rule is used instead (note that we need to re-construct the original survey to remove the full memory rule):"
   ]
  },
  {
   "cell_type": "code",
   "execution_count": null,
   "id": "879aea7b-027a-42b7-b0c3-ff615ae172bc",
   "metadata": {
    "editable": true,
    "slideshow": {
     "slide_type": ""
    },
    "tags": []
   },
   "outputs": [],
   "source": [
    "survey = Survey([q1, q2, q3])\n",
    "\n",
    "survey_lagged = survey.set_lagged_memory(1)\n",
    "\n",
    "results_lagged = survey_lagged.run()\n",
    "\n",
    "results_lagged.select(\"q1_user_prompt\", \"q2_user_prompt\", \"q3_user_prompt\").print(\n",
    "    format=\"rich\"\n",
    ")"
   ]
  },
  {
   "cell_type": "markdown",
   "id": "2c6f0c20-bcb8-4560-8201-fa7a45e32885",
   "metadata": {
    "editable": true,
    "slideshow": {
     "slide_type": ""
    },
    "tags": []
   },
   "source": [
    "## Other survey rules\n",
    "See our [documentation page about other methods](https://docs.expectedparrot.com/en/latest/surveys.html) available for `Survey` objects, including methods for applying skip/stop and other logical rules."
   ]
  }
 ],
 "metadata": {
  "kernelspec": {
   "display_name": "Python 3 (ipykernel)",
   "language": "python",
   "name": "python3"
  },
  "language_info": {
   "codemirror_mode": {
    "name": "ipython",
    "version": 3
   },
   "file_extension": ".py",
   "mimetype": "text/x-python",
   "name": "python",
   "nbconvert_exporter": "python",
   "pygments_lexer": "ipython3",
   "version": "3.11.7"
  }
 },
 "nbformat": 4,
 "nbformat_minor": 5
}
