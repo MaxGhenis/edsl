{
 "cells": [
  {
   "cell_type": "markdown",
   "metadata": {
    "cell_id": "d4d5c2583fc14fdb895e689f40ba6737",
    "deepnote_cell_type": "markdown"
   },
   "source": [
    "# Cognitive testing & LLM biases\n",
    "This notebook shows how to use `edsl` to investigate whether LLMs demonstrate bias towards content that they generate or improve compared with content generated or improved by other LLMs. "
   ]
  },
  {
   "cell_type": "markdown",
   "metadata": {},
   "source": [
    "[![Open In Colab](https://colab.research.google.com/assets/colab-badge.svg)](https://colab.research.google.com/github/expectedparrot/edsl/blob/main/docs/notebooks/explore_llm_biases.ipynb)"
   ]
  },
  {
   "cell_type": "code",
   "execution_count": 1,
   "metadata": {
    "cell_id": "83ac608cf73d49f2a35d9cf45c2b7c75",
    "deepnote_cell_type": "code"
   },
   "outputs": [],
   "source": [
    "# ! pip install edsl"
   ]
  },
  {
   "cell_type": "code",
   "execution_count": 2,
   "metadata": {
    "cell_id": "4fa4d5aa948642b1972b84993e35f685",
    "deepnote_cell_type": "code",
    "deepnote_to_be_reexecuted": false,
    "execution_millis": 205,
    "execution_start": 1709310900433,
    "source_hash": null
   },
   "outputs": [],
   "source": [
    "from edsl.questions import QuestionFreeText, QuestionLinearScale\n",
    "from edsl import Agent, Model"
   ]
  },
  {
   "cell_type": "code",
   "execution_count": 3,
   "metadata": {
    "cell_id": "23db6fc089a3479f88c8e11849353a74",
    "deepnote_cell_type": "code"
   },
   "outputs": [
    {
     "data": {
      "text/plain": [
       "['claude-3-haiku-20240307',\n",
       " 'claude-3-opus-20240229',\n",
       " 'claude-3-sonnet-20240229',\n",
       " 'dbrx-instruct',\n",
       " 'gemini_pro',\n",
       " 'gpt-3.5-turbo',\n",
       " 'gpt-4-1106-preview',\n",
       " 'llama-2-13b-chat-hf',\n",
       " 'llama-2-70b-chat-hf',\n",
       " 'mixtral-8x7B-instruct-v0.1']"
      ]
     },
     "execution_count": 3,
     "metadata": {},
     "output_type": "execute_result"
    }
   ],
   "source": [
    "Model.available()"
   ]
  },
  {
   "cell_type": "markdown",
   "metadata": {
    "cell_id": "cc1f7bddab344d378e8ce81dfea70a69",
    "deepnote_cell_type": "markdown"
   },
   "source": [
    "We select a set of models and instruct them to generate some content:"
   ]
  },
  {
   "cell_type": "code",
   "execution_count": 4,
   "metadata": {
    "cell_id": "747d40bea4eb41b5a89d8b374216837e",
    "deepnote_cell_type": "code"
   },
   "outputs": [],
   "source": [
    "models = [\n",
    "    Model('gpt-3.5-turbo', cache=False), \n",
    "    Model('gpt-4-1106-preview', cache=False), \n",
    "    Model('mixtral-8x7B-instruct-v0.1', cache=False)\n",
    "]"
   ]
  },
  {
   "cell_type": "code",
   "execution_count": 5,
   "metadata": {
    "cell_id": "1325605571cc41a194255b80b2fb2f87",
    "deepnote_cell_type": "code"
   },
   "outputs": [],
   "source": [
    "q_example = QuestionFreeText(\n",
    "    question_name = \"example\",\n",
    "    question_text = \"Draft a detailed executive summary for a resume for an average software engineer.\"\n",
    ")"
   ]
  },
  {
   "cell_type": "code",
   "execution_count": 6,
   "metadata": {
    "cell_id": "724ca2c7a38f4164a225ed4a8dcc2b1f",
    "deepnote_cell_type": "code"
   },
   "outputs": [],
   "source": [
    "r_example = q_example.by(models).run()"
   ]
  },
  {
   "cell_type": "code",
   "execution_count": 7,
   "metadata": {
    "cell_id": "c68d3be8bada402ea17184b978abfa70",
    "deepnote_cell_type": "code"
   },
   "outputs": [
    {
     "data": {
      "text/html": [
       "<pre style=\"white-space:pre;overflow-x:auto;line-height:normal;font-family:Menlo,'DejaVu Sans Mono',consolas,'Courier New',monospace\">┏━━━━━━━━━━━━━━━━━━━━━━━━━━━━┳━━━━━━━━━━━━━━━━━━━━━━━━━━━━━━━━━━━━━━━━━━━━━━━━━━━━━━━━━━━━━━━━━━━━━━━━━━━━━━━━━━━━┓\n",
       "┃<span style=\"color: #800080; text-decoration-color: #800080; font-weight: bold\"> model                      </span>┃<span style=\"color: #800080; text-decoration-color: #800080; font-weight: bold\"> answer                                                                             </span>┃\n",
       "┃<span style=\"color: #800080; text-decoration-color: #800080; font-weight: bold\"> .model                     </span>┃<span style=\"color: #800080; text-decoration-color: #800080; font-weight: bold\"> .example                                                                           </span>┃\n",
       "┡━━━━━━━━━━━━━━━━━━━━━━━━━━━━╇━━━━━━━━━━━━━━━━━━━━━━━━━━━━━━━━━━━━━━━━━━━━━━━━━━━━━━━━━━━━━━━━━━━━━━━━━━━━━━━━━━━━┩\n",
       "│<span style=\"color: #7f7f7f; text-decoration-color: #7f7f7f\"> gpt-3.5-turbo              </span>│<span style=\"color: #7f7f7f; text-decoration-color: #7f7f7f\"> As a seasoned software engineer with 5 years of experience, I have a proven track  </span>│\n",
       "│<span style=\"color: #7f7f7f; text-decoration-color: #7f7f7f\">                            </span>│<span style=\"color: #7f7f7f; text-decoration-color: #7f7f7f\"> record of designing and implementing complex software solutions. Skilled in        </span>│\n",
       "│<span style=\"color: #7f7f7f; text-decoration-color: #7f7f7f\">                            </span>│<span style=\"color: #7f7f7f; text-decoration-color: #7f7f7f\"> multiple programming languages such as Java, Python, and JavaScript, I have        </span>│\n",
       "│<span style=\"color: #7f7f7f; text-decoration-color: #7f7f7f\">                            </span>│<span style=\"color: #7f7f7f; text-decoration-color: #7f7f7f\"> successfully delivered projects on time and within budget. With a strong           </span>│\n",
       "│<span style=\"color: #7f7f7f; text-decoration-color: #7f7f7f\">                            </span>│<span style=\"color: #7f7f7f; text-decoration-color: #7f7f7f\"> background in software development methodologies and a passion for innovation, I   </span>│\n",
       "│<span style=\"color: #7f7f7f; text-decoration-color: #7f7f7f\">                            </span>│<span style=\"color: #7f7f7f; text-decoration-color: #7f7f7f\"> am eager to contribute my expertise to a dynamic team.                             </span>│\n",
       "├────────────────────────────┼────────────────────────────────────────────────────────────────────────────────────┤\n",
       "│<span style=\"color: #7f7f7f; text-decoration-color: #7f7f7f\"> gpt-4-1106-preview         </span>│<span style=\"color: #7f7f7f; text-decoration-color: #7f7f7f\"> Executive Summary: A dedicated and results-driven software engineer with a proven  </span>│\n",
       "│<span style=\"color: #7f7f7f; text-decoration-color: #7f7f7f\">                            </span>│<span style=\"color: #7f7f7f; text-decoration-color: #7f7f7f\"> track record of designing, implementing, and maintaining complex software systems. </span>│\n",
       "│<span style=\"color: #7f7f7f; text-decoration-color: #7f7f7f\">                            </span>│<span style=\"color: #7f7f7f; text-decoration-color: #7f7f7f\"> Possesses a strong foundation in computer science principles, coupled with         </span>│\n",
       "│<span style=\"color: #7f7f7f; text-decoration-color: #7f7f7f\">                            </span>│<span style=\"color: #7f7f7f; text-decoration-color: #7f7f7f\"> hands-on experience in full-stack development, database management, and cloud      </span>│\n",
       "│<span style=\"color: #7f7f7f; text-decoration-color: #7f7f7f\">                            </span>│<span style=\"color: #7f7f7f; text-decoration-color: #7f7f7f\"> technologies. Adept at collaborating with cross-functional teams and excelling in  </span>│\n",
       "│<span style=\"color: #7f7f7f; text-decoration-color: #7f7f7f\">                            </span>│<span style=\"color: #7f7f7f; text-decoration-color: #7f7f7f\"> agile environments. Brings a problem-solving mindset and a commitment to           </span>│\n",
       "│<span style=\"color: #7f7f7f; text-decoration-color: #7f7f7f\">                            </span>│<span style=\"color: #7f7f7f; text-decoration-color: #7f7f7f\"> delivering high-quality, scalable, and efficient software solutions that meet      </span>│\n",
       "│<span style=\"color: #7f7f7f; text-decoration-color: #7f7f7f\">                            </span>│<span style=\"color: #7f7f7f; text-decoration-color: #7f7f7f\"> business objectives. Eager to contribute technical expertise as well as innovative </span>│\n",
       "│<span style=\"color: #7f7f7f; text-decoration-color: #7f7f7f\">                            </span>│<span style=\"color: #7f7f7f; text-decoration-color: #7f7f7f\"> thinking to a dynamic team.                                                        </span>│\n",
       "├────────────────────────────┼────────────────────────────────────────────────────────────────────────────────────┤\n",
       "│<span style=\"color: #7f7f7f; text-decoration-color: #7f7f7f\"> mixtral-8x7B-instruct-v0.1 </span>│<span style=\"color: #7f7f7f; text-decoration-color: #7f7f7f\"> Executive Summary: Highly skilled and motivated Software Engineer with over 5      </span>│\n",
       "│<span style=\"color: #7f7f7f; text-decoration-color: #7f7f7f\">                            </span>│<span style=\"color: #7f7f7f; text-decoration-color: #7f7f7f\"> years of experience in designing, developing, and maintaining complex software     </span>│\n",
       "│<span style=\"color: #7f7f7f; text-decoration-color: #7f7f7f\">                            </span>│<span style=\"color: #7f7f7f; text-decoration-color: #7f7f7f\"> systems. Proven ability to work in a fast-paced, dynamic environment and           </span>│\n",
       "│<span style=\"color: #7f7f7f; text-decoration-color: #7f7f7f\">                            </span>│<span style=\"color: #7f7f7f; text-decoration-color: #7f7f7f\"> collaborate effectively with cross-functional teams. Strong problem-solving skills </span>│\n",
       "│<span style=\"color: #7f7f7f; text-decoration-color: #7f7f7f\">                            </span>│<span style=\"color: #7f7f7f; text-decoration-color: #7f7f7f\"> and expertise in a variety of programming languages, including Java, Python, and   </span>│\n",
       "│<span style=\"color: #7f7f7f; text-decoration-color: #7f7f7f\">                            </span>│<span style=\"color: #7f7f7f; text-decoration-color: #7f7f7f\"> C++. Demonstrated ability to deliver high-quality software solutions on time and   </span>│\n",
       "│<span style=\"color: #7f7f7f; text-decoration-color: #7f7f7f\">                            </span>│<span style=\"color: #7f7f7f; text-decoration-color: #7f7f7f\"> within budget. Committed to staying up-to-date with the latest industry trends and </span>│\n",
       "│<span style=\"color: #7f7f7f; text-decoration-color: #7f7f7f\">                            </span>│<span style=\"color: #7f7f7f; text-decoration-color: #7f7f7f\"> best practices. Seeking an opportunity to leverage my skills and experience to     </span>│\n",
       "│<span style=\"color: #7f7f7f; text-decoration-color: #7f7f7f\">                            </span>│<span style=\"color: #7f7f7f; text-decoration-color: #7f7f7f\"> contribute to the success of a forward-thinking organization.                      </span>│\n",
       "└────────────────────────────┴────────────────────────────────────────────────────────────────────────────────────┘\n",
       "</pre>\n"
      ],
      "text/plain": [
       "┏━━━━━━━━━━━━━━━━━━━━━━━━━━━━┳━━━━━━━━━━━━━━━━━━━━━━━━━━━━━━━━━━━━━━━━━━━━━━━━━━━━━━━━━━━━━━━━━━━━━━━━━━━━━━━━━━━━┓\n",
       "┃\u001b[1;35m \u001b[0m\u001b[1;35mmodel                     \u001b[0m\u001b[1;35m \u001b[0m┃\u001b[1;35m \u001b[0m\u001b[1;35manswer                                                                            \u001b[0m\u001b[1;35m \u001b[0m┃\n",
       "┃\u001b[1;35m \u001b[0m\u001b[1;35m.model                    \u001b[0m\u001b[1;35m \u001b[0m┃\u001b[1;35m \u001b[0m\u001b[1;35m.example                                                                          \u001b[0m\u001b[1;35m \u001b[0m┃\n",
       "┡━━━━━━━━━━━━━━━━━━━━━━━━━━━━╇━━━━━━━━━━━━━━━━━━━━━━━━━━━━━━━━━━━━━━━━━━━━━━━━━━━━━━━━━━━━━━━━━━━━━━━━━━━━━━━━━━━━┩\n",
       "│\u001b[2m \u001b[0m\u001b[2mgpt-3.5-turbo             \u001b[0m\u001b[2m \u001b[0m│\u001b[2m \u001b[0m\u001b[2mAs a seasoned software engineer with 5 years of experience, I have a proven track \u001b[0m\u001b[2m \u001b[0m│\n",
       "│\u001b[2m                            \u001b[0m│\u001b[2m \u001b[0m\u001b[2mrecord of designing and implementing complex software solutions. Skilled in       \u001b[0m\u001b[2m \u001b[0m│\n",
       "│\u001b[2m                            \u001b[0m│\u001b[2m \u001b[0m\u001b[2mmultiple programming languages such as Java, Python, and JavaScript, I have       \u001b[0m\u001b[2m \u001b[0m│\n",
       "│\u001b[2m                            \u001b[0m│\u001b[2m \u001b[0m\u001b[2msuccessfully delivered projects on time and within budget. With a strong          \u001b[0m\u001b[2m \u001b[0m│\n",
       "│\u001b[2m                            \u001b[0m│\u001b[2m \u001b[0m\u001b[2mbackground in software development methodologies and a passion for innovation, I  \u001b[0m\u001b[2m \u001b[0m│\n",
       "│\u001b[2m                            \u001b[0m│\u001b[2m \u001b[0m\u001b[2mam eager to contribute my expertise to a dynamic team.                            \u001b[0m\u001b[2m \u001b[0m│\n",
       "├────────────────────────────┼────────────────────────────────────────────────────────────────────────────────────┤\n",
       "│\u001b[2m \u001b[0m\u001b[2mgpt-4-1106-preview        \u001b[0m\u001b[2m \u001b[0m│\u001b[2m \u001b[0m\u001b[2mExecutive Summary: A dedicated and results-driven software engineer with a proven \u001b[0m\u001b[2m \u001b[0m│\n",
       "│\u001b[2m                            \u001b[0m│\u001b[2m \u001b[0m\u001b[2mtrack record of designing, implementing, and maintaining complex software systems.\u001b[0m\u001b[2m \u001b[0m│\n",
       "│\u001b[2m                            \u001b[0m│\u001b[2m \u001b[0m\u001b[2mPossesses a strong foundation in computer science principles, coupled with        \u001b[0m\u001b[2m \u001b[0m│\n",
       "│\u001b[2m                            \u001b[0m│\u001b[2m \u001b[0m\u001b[2mhands-on experience in full-stack development, database management, and cloud     \u001b[0m\u001b[2m \u001b[0m│\n",
       "│\u001b[2m                            \u001b[0m│\u001b[2m \u001b[0m\u001b[2mtechnologies. Adept at collaborating with cross-functional teams and excelling in \u001b[0m\u001b[2m \u001b[0m│\n",
       "│\u001b[2m                            \u001b[0m│\u001b[2m \u001b[0m\u001b[2magile environments. Brings a problem-solving mindset and a commitment to          \u001b[0m\u001b[2m \u001b[0m│\n",
       "│\u001b[2m                            \u001b[0m│\u001b[2m \u001b[0m\u001b[2mdelivering high-quality, scalable, and efficient software solutions that meet     \u001b[0m\u001b[2m \u001b[0m│\n",
       "│\u001b[2m                            \u001b[0m│\u001b[2m \u001b[0m\u001b[2mbusiness objectives. Eager to contribute technical expertise as well as innovative\u001b[0m\u001b[2m \u001b[0m│\n",
       "│\u001b[2m                            \u001b[0m│\u001b[2m \u001b[0m\u001b[2mthinking to a dynamic team.                                                       \u001b[0m\u001b[2m \u001b[0m│\n",
       "├────────────────────────────┼────────────────────────────────────────────────────────────────────────────────────┤\n",
       "│\u001b[2m \u001b[0m\u001b[2mmixtral-8x7B-instruct-v0.1\u001b[0m\u001b[2m \u001b[0m│\u001b[2m \u001b[0m\u001b[2mExecutive Summary: Highly skilled and motivated Software Engineer with over 5     \u001b[0m\u001b[2m \u001b[0m│\n",
       "│\u001b[2m                            \u001b[0m│\u001b[2m \u001b[0m\u001b[2myears of experience in designing, developing, and maintaining complex software    \u001b[0m\u001b[2m \u001b[0m│\n",
       "│\u001b[2m                            \u001b[0m│\u001b[2m \u001b[0m\u001b[2msystems. Proven ability to work in a fast-paced, dynamic environment and          \u001b[0m\u001b[2m \u001b[0m│\n",
       "│\u001b[2m                            \u001b[0m│\u001b[2m \u001b[0m\u001b[2mcollaborate effectively with cross-functional teams. Strong problem-solving skills\u001b[0m\u001b[2m \u001b[0m│\n",
       "│\u001b[2m                            \u001b[0m│\u001b[2m \u001b[0m\u001b[2mand expertise in a variety of programming languages, including Java, Python, and  \u001b[0m\u001b[2m \u001b[0m│\n",
       "│\u001b[2m                            \u001b[0m│\u001b[2m \u001b[0m\u001b[2mC++. Demonstrated ability to deliver high-quality software solutions on time and  \u001b[0m\u001b[2m \u001b[0m│\n",
       "│\u001b[2m                            \u001b[0m│\u001b[2m \u001b[0m\u001b[2mwithin budget. Committed to staying up-to-date with the latest industry trends and\u001b[0m\u001b[2m \u001b[0m│\n",
       "│\u001b[2m                            \u001b[0m│\u001b[2m \u001b[0m\u001b[2mbest practices. Seeking an opportunity to leverage my skills and experience to    \u001b[0m\u001b[2m \u001b[0m│\n",
       "│\u001b[2m                            \u001b[0m│\u001b[2m \u001b[0m\u001b[2mcontribute to the success of a forward-thinking organization.                     \u001b[0m\u001b[2m \u001b[0m│\n",
       "└────────────────────────────┴────────────────────────────────────────────────────────────────────────────────────┘\n"
      ]
     },
     "metadata": {},
     "output_type": "display_data"
    }
   ],
   "source": [
    "r_example.select('model.model','answer.example').print()"
   ]
  },
  {
   "cell_type": "code",
   "execution_count": 8,
   "metadata": {
    "cell_id": "a5463945931943d4ab4c7bcf48b95e03",
    "deepnote_cell_type": "code"
   },
   "outputs": [],
   "source": [
    "resumes = r_example.to_pandas()"
   ]
  },
  {
   "cell_type": "code",
   "execution_count": 9,
   "metadata": {
    "cell_id": "054ec708d2f84854b971127f64ff2054",
    "deepnote_cell_type": "code"
   },
   "outputs": [
    {
     "data": {
      "text/plain": [
       "Index(['agent.agent_name', 'answer.example', 'iteration.iteration',\n",
       "       'model.frequency_penalty', 'model.logprobs', 'model.max_new_tokens',\n",
       "       'model.max_tokens', 'model.model', 'model.presence_penalty',\n",
       "       'model.stopSequences', 'model.temperature', 'model.top_k',\n",
       "       'model.top_logprobs', 'model.top_p', 'model.use_cache',\n",
       "       'prompt.example_system_prompt', 'prompt.example_user_prompt',\n",
       "       'raw_model_response.example_raw_model_response'],\n",
       "      dtype='object')"
      ]
     },
     "execution_count": 9,
     "metadata": {},
     "output_type": "execute_result"
    }
   ],
   "source": [
    "resumes.columns"
   ]
  },
  {
   "cell_type": "code",
   "execution_count": 10,
   "metadata": {
    "cell_id": "d709a7f360e747d4881dc50e139fbd05",
    "deepnote_cell_type": "code"
   },
   "outputs": [
    {
     "data": {
      "text/html": [
       "<div>\n",
       "<style scoped>\n",
       "    .dataframe tbody tr th:only-of-type {\n",
       "        vertical-align: middle;\n",
       "    }\n",
       "\n",
       "    .dataframe tbody tr th {\n",
       "        vertical-align: top;\n",
       "    }\n",
       "\n",
       "    .dataframe thead th {\n",
       "        text-align: right;\n",
       "    }\n",
       "</style>\n",
       "<table border=\"1\" class=\"dataframe\">\n",
       "  <thead>\n",
       "    <tr style=\"text-align: right;\">\n",
       "      <th></th>\n",
       "      <th>model.model</th>\n",
       "      <th>answer.example</th>\n",
       "    </tr>\n",
       "  </thead>\n",
       "  <tbody>\n",
       "    <tr>\n",
       "      <th>0</th>\n",
       "      <td>gpt-3.5-turbo</td>\n",
       "      <td>As a seasoned software engineer with 5 years o...</td>\n",
       "    </tr>\n",
       "    <tr>\n",
       "      <th>1</th>\n",
       "      <td>gpt-4-1106-preview</td>\n",
       "      <td>Executive Summary: A dedicated and results-dri...</td>\n",
       "    </tr>\n",
       "    <tr>\n",
       "      <th>2</th>\n",
       "      <td>mixtral-8x7B-instruct-v0.1</td>\n",
       "      <td>Executive Summary: Highly skilled and motivate...</td>\n",
       "    </tr>\n",
       "  </tbody>\n",
       "</table>\n",
       "</div>"
      ],
      "text/plain": [
       "                  model.model  \\\n",
       "0               gpt-3.5-turbo   \n",
       "1          gpt-4-1106-preview   \n",
       "2  mixtral-8x7B-instruct-v0.1   \n",
       "\n",
       "                                      answer.example  \n",
       "0  As a seasoned software engineer with 5 years o...  \n",
       "1  Executive Summary: A dedicated and results-dri...  \n",
       "2  Executive Summary: Highly skilled and motivate...  "
      ]
     },
     "execution_count": 10,
     "metadata": {},
     "output_type": "execute_result"
    }
   ],
   "source": [
    "resumes[['model.model','answer.example']]"
   ]
  },
  {
   "cell_type": "code",
   "execution_count": 11,
   "metadata": {
    "cell_id": "8290f1d4df0242dd8c2d20ee5a342b5b",
    "deepnote_cell_type": "code"
   },
   "outputs": [],
   "source": [
    "import pandas as pd"
   ]
  },
  {
   "cell_type": "code",
   "execution_count": 12,
   "metadata": {
    "cell_id": "e26b27c4551148678954104ac44de1ec",
    "deepnote_cell_type": "code"
   },
   "outputs": [],
   "source": [
    "resumes_dict = pd.Series(resumes['answer.example'].values, index=resumes['model.model']).to_dict()"
   ]
  },
  {
   "cell_type": "code",
   "execution_count": 13,
   "metadata": {
    "cell_id": "e40a94ea7c074f73a4239941b0234d01",
    "deepnote_cell_type": "code"
   },
   "outputs": [
    {
     "data": {
      "text/plain": [
       "{'gpt-3.5-turbo': 'As a seasoned software engineer with 5 years of experience, I have a proven track record of designing and implementing complex software solutions. Skilled in multiple programming languages such as Java, Python, and JavaScript, I have successfully delivered projects on time and within budget. With a strong background in software development methodologies and a passion for innovation, I am eager to contribute my expertise to a dynamic team.',\n",
       " 'gpt-4-1106-preview': 'Executive Summary: A dedicated and results-driven software engineer with a proven track record of designing, implementing, and maintaining complex software systems. Possesses a strong foundation in computer science principles, coupled with hands-on experience in full-stack development, database management, and cloud technologies. Adept at collaborating with cross-functional teams and excelling in agile environments. Brings a problem-solving mindset and a commitment to delivering high-quality, scalable, and efficient software solutions that meet business objectives. Eager to contribute technical expertise as well as innovative thinking to a dynamic team.',\n",
       " 'mixtral-8x7B-instruct-v0.1': 'Executive Summary: Highly skilled and motivated Software Engineer with over 5 years of experience in designing, developing, and maintaining complex software systems. Proven ability to work in a fast-paced, dynamic environment and collaborate effectively with cross-functional teams. Strong problem-solving skills and expertise in a variety of programming languages, including Java, Python, and C++. Demonstrated ability to deliver high-quality software solutions on time and within budget. Committed to staying up-to-date with the latest industry trends and best practices. Seeking an opportunity to leverage my skills and experience to contribute to the success of a forward-thinking organization.'}"
      ]
     },
     "execution_count": 13,
     "metadata": {},
     "output_type": "execute_result"
    }
   ],
   "source": [
    "resumes_dict"
   ]
  },
  {
   "cell_type": "markdown",
   "metadata": {
    "cell_id": "0b3371b274b746169557c49ac3daec93",
    "deepnote_cell_type": "markdown"
   },
   "source": [
    "Here we draft some personas that we will instruct the selected LLMs to reference in reviewing the improved versions of the resume:"
   ]
  },
  {
   "cell_type": "code",
   "execution_count": 14,
   "metadata": {
    "cell_id": "b8268de5dc924b25ad2db2f187b50ad0",
    "deepnote_cell_type": "code"
   },
   "outputs": [],
   "source": [
    "q_hr = QuestionFreeText(\n",
    "    question_name = 'hr',\n",
    "    question_text = 'Draft a persona of someone who works in human resources.'\n",
    ")"
   ]
  },
  {
   "cell_type": "code",
   "execution_count": 15,
   "metadata": {
    "cell_id": "7ed786a1934f4040a6b3569c974a7116",
    "deepnote_cell_type": "code"
   },
   "outputs": [],
   "source": [
    "q_se = QuestionFreeText(\n",
    "    question_name = 'se',\n",
    "    question_text = 'Draft a persona of a senior engineer.'\n",
    ")"
   ]
  },
  {
   "cell_type": "code",
   "execution_count": 16,
   "metadata": {
    "cell_id": "c853ce65b90c4919a6f7494418b9d462",
    "deepnote_cell_type": "code"
   },
   "outputs": [],
   "source": [
    "r_hr = q_hr.run()"
   ]
  },
  {
   "cell_type": "code",
   "execution_count": 17,
   "metadata": {
    "cell_id": "f6e71a1498924aed95ff0de1d9d53348",
    "deepnote_cell_type": "code"
   },
   "outputs": [],
   "source": [
    "r_se = q_se.run()"
   ]
  },
  {
   "cell_type": "code",
   "execution_count": 18,
   "metadata": {
    "cell_id": "25d2bf9a9ce94c95bf5d0d9f646b931d",
    "deepnote_cell_type": "code"
   },
   "outputs": [
    {
     "data": {
      "text/html": [
       "<pre style=\"white-space:pre;overflow-x:auto;line-height:normal;font-family:Menlo,'DejaVu Sans Mono',consolas,'Courier New',monospace\">┏━━━━━━━━━━━━━━━━━━━━━━━━━━━━━━━━━━━━━━━━━━━━━━━━━━━━━━━━━━━━━━━━━━━━━━━━━━━━━━━━━━━━━━━━━━━━━━━━━━━━━━━━━━━━━━━━━┓\n",
       "┃<span style=\"color: #800080; text-decoration-color: #800080; font-weight: bold\"> answer                                                                                                          </span>┃\n",
       "┃<span style=\"color: #800080; text-decoration-color: #800080; font-weight: bold\"> .hr                                                                                                             </span>┃\n",
       "┡━━━━━━━━━━━━━━━━━━━━━━━━━━━━━━━━━━━━━━━━━━━━━━━━━━━━━━━━━━━━━━━━━━━━━━━━━━━━━━━━━━━━━━━━━━━━━━━━━━━━━━━━━━━━━━━━━┩\n",
       "│<span style=\"color: #7f7f7f; text-decoration-color: #7f7f7f\"> Name: Samantha Jones                                                                                            </span>│\n",
       "│<span style=\"color: #7f7f7f; text-decoration-color: #7f7f7f\"> Title: Human Resources Manager                                                                                  </span>│\n",
       "│<span style=\"color: #7f7f7f; text-decoration-color: #7f7f7f\"> Industry: Technology                                                                                            </span>│\n",
       "│<span style=\"color: #7f7f7f; text-decoration-color: #7f7f7f\"> Years of Experience: 8                                                                                          </span>│\n",
       "│<span style=\"color: #7f7f7f; text-decoration-color: #7f7f7f\"> Education: Bachelor's degree in Human Resource Management                                                       </span>│\n",
       "│<span style=\"color: #7f7f7f; text-decoration-color: #7f7f7f\"> Skills: Employee relations, recruitment, performance management, employment law, benefits administration,       </span>│\n",
       "│<span style=\"color: #7f7f7f; text-decoration-color: #7f7f7f\"> conflict resolution, training and development                                                                   </span>│\n",
       "│<span style=\"color: #7f7f7f; text-decoration-color: #7f7f7f\"> Personality Traits: Empathetic, strong communicator, approachable, problem-solver, ethical, organized           </span>│\n",
       "│<span style=\"color: #7f7f7f; text-decoration-color: #7f7f7f\"> Hobbies: Volunteering at local nonprofits, reading leadership books, practicing yoga                            </span>│\n",
       "│<span style=\"color: #7f7f7f; text-decoration-color: #7f7f7f\"> Career Goals: To create a workplace culture that fosters growth, satisfaction, and productivity, and to         </span>│\n",
       "│<span style=\"color: #7f7f7f; text-decoration-color: #7f7f7f\"> eventually become a Director of Human Resources                                                                 </span>│\n",
       "└─────────────────────────────────────────────────────────────────────────────────────────────────────────────────┘\n",
       "</pre>\n"
      ],
      "text/plain": [
       "┏━━━━━━━━━━━━━━━━━━━━━━━━━━━━━━━━━━━━━━━━━━━━━━━━━━━━━━━━━━━━━━━━━━━━━━━━━━━━━━━━━━━━━━━━━━━━━━━━━━━━━━━━━━━━━━━━━┓\n",
       "┃\u001b[1;35m \u001b[0m\u001b[1;35manswer                                                                                                         \u001b[0m\u001b[1;35m \u001b[0m┃\n",
       "┃\u001b[1;35m \u001b[0m\u001b[1;35m.hr                                                                                                            \u001b[0m\u001b[1;35m \u001b[0m┃\n",
       "┡━━━━━━━━━━━━━━━━━━━━━━━━━━━━━━━━━━━━━━━━━━━━━━━━━━━━━━━━━━━━━━━━━━━━━━━━━━━━━━━━━━━━━━━━━━━━━━━━━━━━━━━━━━━━━━━━━┩\n",
       "│\u001b[2m \u001b[0m\u001b[2mName: Samantha Jones                                                                                           \u001b[0m\u001b[2m \u001b[0m│\n",
       "│\u001b[2m \u001b[0m\u001b[2mTitle: Human Resources Manager                                                                                 \u001b[0m\u001b[2m \u001b[0m│\n",
       "│\u001b[2m \u001b[0m\u001b[2mIndustry: Technology                                                                                           \u001b[0m\u001b[2m \u001b[0m│\n",
       "│\u001b[2m \u001b[0m\u001b[2mYears of Experience: 8                                                                                         \u001b[0m\u001b[2m \u001b[0m│\n",
       "│\u001b[2m \u001b[0m\u001b[2mEducation: Bachelor's degree in Human Resource Management                                                      \u001b[0m\u001b[2m \u001b[0m│\n",
       "│\u001b[2m \u001b[0m\u001b[2mSkills: Employee relations, recruitment, performance management, employment law, benefits administration,      \u001b[0m\u001b[2m \u001b[0m│\n",
       "│\u001b[2m \u001b[0m\u001b[2mconflict resolution, training and development                                                                  \u001b[0m\u001b[2m \u001b[0m│\n",
       "│\u001b[2m \u001b[0m\u001b[2mPersonality Traits: Empathetic, strong communicator, approachable, problem-solver, ethical, organized          \u001b[0m\u001b[2m \u001b[0m│\n",
       "│\u001b[2m \u001b[0m\u001b[2mHobbies: Volunteering at local nonprofits, reading leadership books, practicing yoga                           \u001b[0m\u001b[2m \u001b[0m│\n",
       "│\u001b[2m \u001b[0m\u001b[2mCareer Goals: To create a workplace culture that fosters growth, satisfaction, and productivity, and to        \u001b[0m\u001b[2m \u001b[0m│\n",
       "│\u001b[2m \u001b[0m\u001b[2meventually become a Director of Human Resources                                                                \u001b[0m\u001b[2m \u001b[0m│\n",
       "└─────────────────────────────────────────────────────────────────────────────────────────────────────────────────┘\n"
      ]
     },
     "metadata": {},
     "output_type": "display_data"
    }
   ],
   "source": [
    "r_hr.select('answer.hr').print()"
   ]
  },
  {
   "cell_type": "code",
   "execution_count": 19,
   "metadata": {
    "cell_id": "d59a0099a30d4f2aa277d0c32be457c4",
    "deepnote_cell_type": "code"
   },
   "outputs": [
    {
     "data": {
      "text/html": [
       "<pre style=\"white-space:pre;overflow-x:auto;line-height:normal;font-family:Menlo,'DejaVu Sans Mono',consolas,'Courier New',monospace\">┏━━━━━━━━━━━━━━━━━━━━━━━━━━━━━━━━━━━━━━━━━━━━━━━━━━━━━━━━━━━━━━━━━━━━━━━━━━━━━━━━━━━━━━━━━━━━━━━━━━━━━━━━━━━━━━━━━┓\n",
       "┃<span style=\"color: #800080; text-decoration-color: #800080; font-weight: bold\"> answer                                                                                                          </span>┃\n",
       "┃<span style=\"color: #800080; text-decoration-color: #800080; font-weight: bold\"> .se                                                                                                             </span>┃\n",
       "┡━━━━━━━━━━━━━━━━━━━━━━━━━━━━━━━━━━━━━━━━━━━━━━━━━━━━━━━━━━━━━━━━━━━━━━━━━━━━━━━━━━━━━━━━━━━━━━━━━━━━━━━━━━━━━━━━━┩\n",
       "│<span style=\"color: #7f7f7f; text-decoration-color: #7f7f7f\"> Name: Alex Reed                                                                                                 </span>│\n",
       "│<span style=\"color: #7f7f7f; text-decoration-color: #7f7f7f\"> Age: 42                                                                                                         </span>│\n",
       "│<span style=\"color: #7f7f7f; text-decoration-color: #7f7f7f\"> Profession: Senior Engineer                                                                                     </span>│\n",
       "│<span style=\"color: #7f7f7f; text-decoration-color: #7f7f7f\"> Industry: Software Development                                                                                  </span>│\n",
       "│<span style=\"color: #7f7f7f; text-decoration-color: #7f7f7f\"> Experience: 20 years                                                                                            </span>│\n",
       "│<span style=\"color: #7f7f7f; text-decoration-color: #7f7f7f\"> Skills: Expert in software architecture, proficient in multiple programming languages (Java, C++, Python),      </span>│\n",
       "│<span style=\"color: #7f7f7f; text-decoration-color: #7f7f7f\"> experienced with Agile and DevOps methodologies, strong background in system design and scalability.            </span>│\n",
       "│<span style=\"color: #7f7f7f; text-decoration-color: #7f7f7f\"> Education: Master's degree in Computer Science                                                                  </span>│\n",
       "│<span style=\"color: #7f7f7f; text-decoration-color: #7f7f7f\"> Certifications: Certified Scrum Master, AWS Certified Solutions Architect                                       </span>│\n",
       "│<span style=\"color: #7f7f7f; text-decoration-color: #7f7f7f\"> Interests: Mentoring junior engineers, staying abreast of the latest technology trends, contributing to open    </span>│\n",
       "│<span style=\"color: #7f7f7f; text-decoration-color: #7f7f7f\"> source projects.                                                                                                </span>│\n",
       "│<span style=\"color: #7f7f7f; text-decoration-color: #7f7f7f\"> Personality Traits: Analytical thinker, problem-solver, team player, excellent communicator, leadership         </span>│\n",
       "│<span style=\"color: #7f7f7f; text-decoration-color: #7f7f7f\"> qualities.                                                                                                      </span>│\n",
       "│<span style=\"color: #7f7f7f; text-decoration-color: #7f7f7f\"> Career Goals: To lead innovative projects that push the boundaries of technology, to mentor the next generation </span>│\n",
       "│<span style=\"color: #7f7f7f; text-decoration-color: #7f7f7f\"> of engineers, and to contribute to the strategic direction of the company.                                      </span>│\n",
       "└─────────────────────────────────────────────────────────────────────────────────────────────────────────────────┘\n",
       "</pre>\n"
      ],
      "text/plain": [
       "┏━━━━━━━━━━━━━━━━━━━━━━━━━━━━━━━━━━━━━━━━━━━━━━━━━━━━━━━━━━━━━━━━━━━━━━━━━━━━━━━━━━━━━━━━━━━━━━━━━━━━━━━━━━━━━━━━━┓\n",
       "┃\u001b[1;35m \u001b[0m\u001b[1;35manswer                                                                                                         \u001b[0m\u001b[1;35m \u001b[0m┃\n",
       "┃\u001b[1;35m \u001b[0m\u001b[1;35m.se                                                                                                            \u001b[0m\u001b[1;35m \u001b[0m┃\n",
       "┡━━━━━━━━━━━━━━━━━━━━━━━━━━━━━━━━━━━━━━━━━━━━━━━━━━━━━━━━━━━━━━━━━━━━━━━━━━━━━━━━━━━━━━━━━━━━━━━━━━━━━━━━━━━━━━━━━┩\n",
       "│\u001b[2m \u001b[0m\u001b[2mName: Alex Reed                                                                                                \u001b[0m\u001b[2m \u001b[0m│\n",
       "│\u001b[2m \u001b[0m\u001b[2mAge: 42                                                                                                        \u001b[0m\u001b[2m \u001b[0m│\n",
       "│\u001b[2m \u001b[0m\u001b[2mProfession: Senior Engineer                                                                                    \u001b[0m\u001b[2m \u001b[0m│\n",
       "│\u001b[2m \u001b[0m\u001b[2mIndustry: Software Development                                                                                 \u001b[0m\u001b[2m \u001b[0m│\n",
       "│\u001b[2m \u001b[0m\u001b[2mExperience: 20 years                                                                                           \u001b[0m\u001b[2m \u001b[0m│\n",
       "│\u001b[2m \u001b[0m\u001b[2mSkills: Expert in software architecture, proficient in multiple programming languages (Java, C++, Python),     \u001b[0m\u001b[2m \u001b[0m│\n",
       "│\u001b[2m \u001b[0m\u001b[2mexperienced with Agile and DevOps methodologies, strong background in system design and scalability.           \u001b[0m\u001b[2m \u001b[0m│\n",
       "│\u001b[2m \u001b[0m\u001b[2mEducation: Master's degree in Computer Science                                                                 \u001b[0m\u001b[2m \u001b[0m│\n",
       "│\u001b[2m \u001b[0m\u001b[2mCertifications: Certified Scrum Master, AWS Certified Solutions Architect                                      \u001b[0m\u001b[2m \u001b[0m│\n",
       "│\u001b[2m \u001b[0m\u001b[2mInterests: Mentoring junior engineers, staying abreast of the latest technology trends, contributing to open   \u001b[0m\u001b[2m \u001b[0m│\n",
       "│\u001b[2m \u001b[0m\u001b[2msource projects.                                                                                               \u001b[0m\u001b[2m \u001b[0m│\n",
       "│\u001b[2m \u001b[0m\u001b[2mPersonality Traits: Analytical thinker, problem-solver, team player, excellent communicator, leadership        \u001b[0m\u001b[2m \u001b[0m│\n",
       "│\u001b[2m \u001b[0m\u001b[2mqualities.                                                                                                     \u001b[0m\u001b[2m \u001b[0m│\n",
       "│\u001b[2m \u001b[0m\u001b[2mCareer Goals: To lead innovative projects that push the boundaries of technology, to mentor the next generation\u001b[0m\u001b[2m \u001b[0m│\n",
       "│\u001b[2m \u001b[0m\u001b[2mof engineers, and to contribute to the strategic direction of the company.                                     \u001b[0m\u001b[2m \u001b[0m│\n",
       "└─────────────────────────────────────────────────────────────────────────────────────────────────────────────────┘\n"
      ]
     },
     "metadata": {},
     "output_type": "display_data"
    }
   ],
   "source": [
    "r_se.select('answer.se').print()"
   ]
  },
  {
   "cell_type": "markdown",
   "metadata": {
    "cell_id": "f92c9d9fb30c4575bfcf6110b39b1a4c",
    "deepnote_cell_type": "markdown"
   },
   "source": [
    "We use the personas to construct agents:"
   ]
  },
  {
   "cell_type": "code",
   "execution_count": 20,
   "metadata": {
    "cell_id": "fc29b6eb47e544d195b834c8f08f35ac",
    "deepnote_cell_type": "code"
   },
   "outputs": [],
   "source": [
    "personas = ['', r_hr[0]['answer']['hr'], r_se[0]['answer']['se']]"
   ]
  },
  {
   "cell_type": "code",
   "execution_count": 21,
   "metadata": {
    "cell_id": "9638f3bdae704c788b23e73eff275cd8",
    "deepnote_cell_type": "code"
   },
   "outputs": [],
   "source": [
    "agents = [\n",
    "    Agent(traits={'role':'', 'persona':''}),\n",
    "    Agent(traits={'role':'Human resources', 'persona':r_hr[0]['answer']['hr']}),\n",
    "    Agent(traits={'role':'Senior engineer', 'persona':r_se[0]['answer']['se']})\n",
    "]"
   ]
  },
  {
   "cell_type": "code",
   "execution_count": 22,
   "metadata": {
    "cell_id": "b18126210a8b4e79b27059820d8f045d",
    "deepnote_cell_type": "code"
   },
   "outputs": [
    {
     "data": {
      "text/plain": [
       "[Agent(traits = {'role': '', 'persona': ''}),\n",
       " Agent(traits = {'role': 'Human resources', 'persona': \"Name: Samantha Jones\\nTitle: Human Resources Manager\\nIndustry: Technology\\nYears of Experience: 8\\nEducation: Bachelor's degree in Human Resource Management\\nSkills: Employee relations, recruitment, performance management, employment law, benefits administration, conflict resolution, training and development\\nPersonality Traits: Empathetic, strong communicator, approachable, problem-solver, ethical, organized\\nHobbies: Volunteering at local nonprofits, reading leadership books, practicing yoga\\nCareer Goals: To create a workplace culture that fosters growth, satisfaction, and productivity, and to eventually become a Director of Human Resources\"}),\n",
       " Agent(traits = {'role': 'Senior engineer', 'persona': \"Name: Alex Reed\\nAge: 42\\nProfession: Senior Engineer\\nIndustry: Software Development\\nExperience: 20 years\\nSkills: Expert in software architecture, proficient in multiple programming languages (Java, C++, Python), experienced with Agile and DevOps methodologies, strong background in system design and scalability.\\nEducation: Master's degree in Computer Science\\nCertifications: Certified Scrum Master, AWS Certified Solutions Architect\\nInterests: Mentoring junior engineers, staying abreast of the latest technology trends, contributing to open source projects.\\nPersonality Traits: Analytical thinker, problem-solver, team player, excellent communicator, leadership qualities.\\nCareer Goals: To lead innovative projects that push the boundaries of technology, to mentor the next generation of engineers, and to contribute to the strategic direction of the company.\"})]"
      ]
     },
     "execution_count": 22,
     "metadata": {},
     "output_type": "execute_result"
    }
   ],
   "source": [
    "agents"
   ]
  },
  {
   "cell_type": "markdown",
   "metadata": {
    "cell_id": "09c51c4a264248d3a6ca865d70844279",
    "deepnote_cell_type": "markdown"
   },
   "source": [
    "Next we define some methods for improving the resume and then critiquing the improvements:"
   ]
  },
  {
   "cell_type": "code",
   "execution_count": 23,
   "metadata": {
    "cell_id": "1a71d23bcd2542d6bdba54145c269d9a",
    "deepnote_cell_type": "code"
   },
   "outputs": [],
   "source": [
    "def improve(resume, model):\n",
    "    q_improve = QuestionFreeText(\n",
    "        question_name = \"improve\",\n",
    "        question_text = \"Draft an improved version of the following resume: \" + resume\n",
    "    )\t\n",
    "    r_improve = q_improve.by(model).run()\n",
    "    return r_improve[0]['answer']['improve']"
   ]
  },
  {
   "cell_type": "code",
   "execution_count": 24,
   "metadata": {
    "cell_id": "f8fb97ffca1843968fa6c1d32201b68c",
    "deepnote_cell_type": "code"
   },
   "outputs": [],
   "source": [
    "def score(resume, agent, model):\n",
    "    q_score = QuestionLinearScale(\n",
    "        question_name = \"score\",\n",
    "        question_text = \"Rank the following resume on a scale from 0 (lowest) to 10 (highest): \" + resume,\n",
    "        question_options = [0,1,2,3,4,5,6,7,8,9,10]\n",
    "    )\n",
    "    r_score = q_score.by(agent).by(model).run()\n",
    "    return r_score[0]['answer']['score']"
   ]
  },
  {
   "cell_type": "code",
   "execution_count": 25,
   "metadata": {
    "cell_id": "7fc5ec0ee5334279a7afad7f2762cba6",
    "deepnote_cell_type": "code"
   },
   "outputs": [],
   "source": [
    "results = []\n",
    "\n",
    "for drafting_model, resume in resumes_dict.items():\n",
    "    \n",
    "    for improving_model in models:\n",
    "        improved_resume = improve(resume, improving_model)\n",
    "    \n",
    "        for scoring_model in models:\n",
    "            for agent in agents:\n",
    "                score_result = score(improved_resume, agent, scoring_model)\n",
    "                            \n",
    "                result = {\n",
    "                    'drafting_model': drafting_model,\n",
    "                    'improving_model': improving_model.model,\n",
    "                    'scoring_model': scoring_model.model,\n",
    "                    'score': score_result,\n",
    "                    'persona': agent.traits['role']\n",
    "                }\n",
    "                results.append(result)"
   ]
  },
  {
   "cell_type": "code",
   "execution_count": 26,
   "metadata": {
    "cell_id": "3c6c893d2a67475098ac97e2ac3dd4ba",
    "deepnote_cell_type": "code"
   },
   "outputs": [],
   "source": [
    "df = pd.DataFrame(results)"
   ]
  },
  {
   "cell_type": "code",
   "execution_count": 27,
   "metadata": {
    "cell_id": "0d72aecb87e64cf0bbb4a8f68a3c63a4",
    "deepnote_cell_type": "code"
   },
   "outputs": [
    {
     "name": "stdout",
     "output_type": "stream",
     "text": [
      "                drafting_model             improving_model               scoring_model score          persona\n",
      "0                gpt-3.5-turbo               gpt-3.5-turbo               gpt-3.5-turbo     9                 \n",
      "1                gpt-3.5-turbo               gpt-3.5-turbo               gpt-3.5-turbo     8  Human resources\n",
      "2                gpt-3.5-turbo               gpt-3.5-turbo               gpt-3.5-turbo     7  Senior engineer\n",
      "3                gpt-3.5-turbo               gpt-3.5-turbo          gpt-4-1106-preview     8                 \n",
      "4                gpt-3.5-turbo               gpt-3.5-turbo          gpt-4-1106-preview     8  Human resources\n",
      "5                gpt-3.5-turbo               gpt-3.5-turbo          gpt-4-1106-preview     7  Senior engineer\n",
      "6                gpt-3.5-turbo               gpt-3.5-turbo  mixtral-8x7B-instruct-v0.1     9                 \n",
      "7                gpt-3.5-turbo               gpt-3.5-turbo  mixtral-8x7B-instruct-v0.1     8  Human resources\n",
      "8                gpt-3.5-turbo               gpt-3.5-turbo  mixtral-8x7B-instruct-v0.1     7  Senior engineer\n",
      "9                gpt-3.5-turbo          gpt-4-1106-preview               gpt-3.5-turbo     9                 \n",
      "10               gpt-3.5-turbo          gpt-4-1106-preview               gpt-3.5-turbo     8  Human resources\n",
      "11               gpt-3.5-turbo          gpt-4-1106-preview               gpt-3.5-turbo     7  Senior engineer\n",
      "12               gpt-3.5-turbo          gpt-4-1106-preview          gpt-4-1106-preview     8                 \n",
      "13               gpt-3.5-turbo          gpt-4-1106-preview          gpt-4-1106-preview     8  Human resources\n",
      "14               gpt-3.5-turbo          gpt-4-1106-preview          gpt-4-1106-preview     7  Senior engineer\n",
      "15               gpt-3.5-turbo          gpt-4-1106-preview  mixtral-8x7B-instruct-v0.1     9                 \n",
      "16               gpt-3.5-turbo          gpt-4-1106-preview  mixtral-8x7B-instruct-v0.1     8  Human resources\n",
      "17               gpt-3.5-turbo          gpt-4-1106-preview  mixtral-8x7B-instruct-v0.1     7  Senior engineer\n",
      "18               gpt-3.5-turbo  mixtral-8x7B-instruct-v0.1               gpt-3.5-turbo     9                 \n",
      "19               gpt-3.5-turbo  mixtral-8x7B-instruct-v0.1               gpt-3.5-turbo     8  Human resources\n",
      "20               gpt-3.5-turbo  mixtral-8x7B-instruct-v0.1               gpt-3.5-turbo     8  Senior engineer\n",
      "21               gpt-3.5-turbo  mixtral-8x7B-instruct-v0.1          gpt-4-1106-preview     7                 \n",
      "22               gpt-3.5-turbo  mixtral-8x7B-instruct-v0.1          gpt-4-1106-preview     7  Human resources\n",
      "23               gpt-3.5-turbo  mixtral-8x7B-instruct-v0.1          gpt-4-1106-preview     7  Senior engineer\n",
      "24               gpt-3.5-turbo  mixtral-8x7B-instruct-v0.1  mixtral-8x7B-instruct-v0.1     8                 \n",
      "25               gpt-3.5-turbo  mixtral-8x7B-instruct-v0.1  mixtral-8x7B-instruct-v0.1     8  Human resources\n",
      "26               gpt-3.5-turbo  mixtral-8x7B-instruct-v0.1  mixtral-8x7B-instruct-v0.1     7  Senior engineer\n",
      "27          gpt-4-1106-preview               gpt-3.5-turbo               gpt-3.5-turbo     9                 \n",
      "28          gpt-4-1106-preview               gpt-3.5-turbo               gpt-3.5-turbo     8  Human resources\n",
      "29          gpt-4-1106-preview               gpt-3.5-turbo               gpt-3.5-turbo     9  Senior engineer\n",
      "30          gpt-4-1106-preview               gpt-3.5-turbo          gpt-4-1106-preview     8                 \n",
      "31          gpt-4-1106-preview               gpt-3.5-turbo          gpt-4-1106-preview     8  Human resources\n",
      "32          gpt-4-1106-preview               gpt-3.5-turbo          gpt-4-1106-preview     8  Senior engineer\n",
      "33          gpt-4-1106-preview               gpt-3.5-turbo  mixtral-8x7B-instruct-v0.1    10                 \n",
      "34          gpt-4-1106-preview               gpt-3.5-turbo  mixtral-8x7B-instruct-v0.1     8  Human resources\n",
      "35          gpt-4-1106-preview               gpt-3.5-turbo  mixtral-8x7B-instruct-v0.1     8  Senior engineer\n",
      "36          gpt-4-1106-preview          gpt-4-1106-preview               gpt-3.5-turbo     9                 \n",
      "37          gpt-4-1106-preview          gpt-4-1106-preview               gpt-3.5-turbo     8  Human resources\n",
      "38          gpt-4-1106-preview          gpt-4-1106-preview               gpt-3.5-turbo     9  Senior engineer\n",
      "39          gpt-4-1106-preview          gpt-4-1106-preview          gpt-4-1106-preview     8                 \n",
      "40          gpt-4-1106-preview          gpt-4-1106-preview          gpt-4-1106-preview     8  Human resources\n",
      "41          gpt-4-1106-preview          gpt-4-1106-preview          gpt-4-1106-preview     8  Senior engineer\n",
      "42          gpt-4-1106-preview          gpt-4-1106-preview  mixtral-8x7B-instruct-v0.1    10                 \n",
      "43          gpt-4-1106-preview          gpt-4-1106-preview  mixtral-8x7B-instruct-v0.1     8  Human resources\n",
      "44          gpt-4-1106-preview          gpt-4-1106-preview  mixtral-8x7B-instruct-v0.1     9  Senior engineer\n",
      "45          gpt-4-1106-preview  mixtral-8x7B-instruct-v0.1               gpt-3.5-turbo     9                 \n",
      "46          gpt-4-1106-preview  mixtral-8x7B-instruct-v0.1               gpt-3.5-turbo     9  Human resources\n",
      "47          gpt-4-1106-preview  mixtral-8x7B-instruct-v0.1               gpt-3.5-turbo     8  Senior engineer\n",
      "48          gpt-4-1106-preview  mixtral-8x7B-instruct-v0.1          gpt-4-1106-preview     8                 \n",
      "49          gpt-4-1106-preview  mixtral-8x7B-instruct-v0.1          gpt-4-1106-preview     8  Human resources\n",
      "50          gpt-4-1106-preview  mixtral-8x7B-instruct-v0.1          gpt-4-1106-preview     8  Senior engineer\n",
      "51          gpt-4-1106-preview  mixtral-8x7B-instruct-v0.1  mixtral-8x7B-instruct-v0.1     9                 \n",
      "52          gpt-4-1106-preview  mixtral-8x7B-instruct-v0.1  mixtral-8x7B-instruct-v0.1     8  Human resources\n",
      "53          gpt-4-1106-preview  mixtral-8x7B-instruct-v0.1  mixtral-8x7B-instruct-v0.1     8  Senior engineer\n",
      "54  mixtral-8x7B-instruct-v0.1               gpt-3.5-turbo               gpt-3.5-turbo     9                 \n",
      "55  mixtral-8x7B-instruct-v0.1               gpt-3.5-turbo               gpt-3.5-turbo     8  Human resources\n",
      "56  mixtral-8x7B-instruct-v0.1               gpt-3.5-turbo               gpt-3.5-turbo     8  Senior engineer\n",
      "57  mixtral-8x7B-instruct-v0.1               gpt-3.5-turbo          gpt-4-1106-preview     8                 \n",
      "58  mixtral-8x7B-instruct-v0.1               gpt-3.5-turbo          gpt-4-1106-preview     8  Human resources\n",
      "59  mixtral-8x7B-instruct-v0.1               gpt-3.5-turbo          gpt-4-1106-preview     8  Senior engineer\n",
      "60  mixtral-8x7B-instruct-v0.1               gpt-3.5-turbo  mixtral-8x7B-instruct-v0.1     9                 \n",
      "61  mixtral-8x7B-instruct-v0.1               gpt-3.5-turbo  mixtral-8x7B-instruct-v0.1     8  Human resources\n",
      "62  mixtral-8x7B-instruct-v0.1               gpt-3.5-turbo  mixtral-8x7B-instruct-v0.1     8  Senior engineer\n",
      "63  mixtral-8x7B-instruct-v0.1          gpt-4-1106-preview               gpt-3.5-turbo     9                 \n",
      "64  mixtral-8x7B-instruct-v0.1          gpt-4-1106-preview               gpt-3.5-turbo     8  Human resources\n",
      "65  mixtral-8x7B-instruct-v0.1          gpt-4-1106-preview               gpt-3.5-turbo     8  Senior engineer\n",
      "66  mixtral-8x7B-instruct-v0.1          gpt-4-1106-preview          gpt-4-1106-preview     8                 \n",
      "67  mixtral-8x7B-instruct-v0.1          gpt-4-1106-preview          gpt-4-1106-preview     8  Human resources\n",
      "68  mixtral-8x7B-instruct-v0.1          gpt-4-1106-preview          gpt-4-1106-preview     7  Senior engineer\n",
      "69  mixtral-8x7B-instruct-v0.1          gpt-4-1106-preview  mixtral-8x7B-instruct-v0.1     9                 \n",
      "70  mixtral-8x7B-instruct-v0.1          gpt-4-1106-preview  mixtral-8x7B-instruct-v0.1     8  Human resources\n",
      "71  mixtral-8x7B-instruct-v0.1          gpt-4-1106-preview  mixtral-8x7B-instruct-v0.1     8  Senior engineer\n",
      "72  mixtral-8x7B-instruct-v0.1  mixtral-8x7B-instruct-v0.1               gpt-3.5-turbo     9                 \n",
      "73  mixtral-8x7B-instruct-v0.1  mixtral-8x7B-instruct-v0.1               gpt-3.5-turbo     8  Human resources\n",
      "74  mixtral-8x7B-instruct-v0.1  mixtral-8x7B-instruct-v0.1               gpt-3.5-turbo     8  Senior engineer\n",
      "75  mixtral-8x7B-instruct-v0.1  mixtral-8x7B-instruct-v0.1          gpt-4-1106-preview     8                 \n",
      "76  mixtral-8x7B-instruct-v0.1  mixtral-8x7B-instruct-v0.1          gpt-4-1106-preview     8  Human resources\n",
      "77  mixtral-8x7B-instruct-v0.1  mixtral-8x7B-instruct-v0.1          gpt-4-1106-preview     8  Senior engineer\n",
      "78  mixtral-8x7B-instruct-v0.1  mixtral-8x7B-instruct-v0.1  mixtral-8x7B-instruct-v0.1    10                 \n",
      "79  mixtral-8x7B-instruct-v0.1  mixtral-8x7B-instruct-v0.1  mixtral-8x7B-instruct-v0.1     8  Human resources\n",
      "80  mixtral-8x7B-instruct-v0.1  mixtral-8x7B-instruct-v0.1  mixtral-8x7B-instruct-v0.1     8  Senior engineer\n"
     ]
    }
   ],
   "source": [
    "pd.set_option('display.max_rows', None) \n",
    "pd.set_option('display.width', 1000)\n",
    "print(df)"
   ]
  },
  {
   "cell_type": "markdown",
   "metadata": {
    "cell_id": "487636651f6c4220a5dcc49afb04d0af",
    "deepnote_cell_type": "markdown"
   },
   "source": [
    "---\n",
    "<p style=\"font-size: 14px;\">Copyright © 2024 Expected Parrot, Inc. All rights reserved.   <a href=\"www.expectedparrot.com\" style=\"color:#130061\">www.expectedparrot.com</a></p>"
   ]
  }
 ],
 "metadata": {
  "deepnote_execution_queue": [],
  "deepnote_notebook_id": "6d1e666ba52649708894044c2a755567",
  "deepnote_persisted_session": {
   "createdAt": "2024-03-01T17:07:23.650Z"
  },
  "kernelspec": {
   "display_name": "Python 3 (ipykernel)",
   "language": "python",
   "name": "python3"
  },
  "language_info": {
   "codemirror_mode": {
    "name": "ipython",
    "version": 3
   },
   "file_extension": ".py",
   "mimetype": "text/x-python",
   "name": "python",
   "nbconvert_exporter": "python",
   "pygments_lexer": "ipython3",
   "version": "3.11.7"
  }
 },
 "nbformat": 4,
 "nbformat_minor": 4
}
