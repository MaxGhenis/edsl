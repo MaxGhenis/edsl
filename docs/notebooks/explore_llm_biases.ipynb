{
 "cells": [
  {
   "cell_type": "markdown",
   "metadata": {
    "cell_id": "d4d5c2583fc14fdb895e689f40ba6737",
    "deepnote_cell_type": "markdown",
    "editable": true,
    "slideshow": {
     "slide_type": ""
    },
    "tags": []
   },
   "source": [
    "# Cognitive testing & LLM biases\n",
    "This notebook provides example code for using [EDSL](https://docs.expectedparrot.com) to investigate biases of large language models. \n",
    "\n",
    "[EDSL is an open-source library](https://github.com/expectedparrot/edsl) for simulating surveys, experiments and other research with AI agents and large language models. \n",
    "Before running the code below, please ensure that you have [installed the EDSL library](https://docs.expectedparrot.com/en/latest/installation.html) and either [activated remote inference](https://docs.expectedparrot.com/en/latest/remote_inference.html) from your [Coop account](https://docs.expectedparrot.com/en/latest/coop.html) or [stored API keys](https://docs.expectedparrot.com/en/latest/api_keys.html) for the language models that you want to use with EDSL. Please also see our [documentation page](https://docs.expectedparrot.com/) for tips and tutorials on getting started using EDSL."
   ]
  },
  {
   "cell_type": "markdown",
   "metadata": {
    "editable": true,
    "slideshow": {
     "slide_type": ""
    },
    "tags": []
   },
   "source": [
    "## Selecting language models\n",
    "To check a list of models currently available to use with EDSL:"
   ]
  },
  {
   "cell_type": "code",
   "execution_count": 1,
   "metadata": {
    "cell_id": "4fa4d5aa948642b1972b84993e35f685",
    "deepnote_cell_type": "code",
    "deepnote_to_be_reexecuted": false,
    "editable": true,
    "execution_millis": 205,
    "execution_start": 1709310900433,
    "slideshow": {
     "slide_type": ""
    },
    "source_hash": null,
    "tags": []
   },
   "outputs": [
    {
     "data": {
      "text/plain": [
       "<bound method Model.available of Available models: [['Austism/chronos-hermes-13b-v2', 'deep_infra', 0], ['BAAI/bge-base-en-v1.5', 'together', 1], ['BAAI/bge-large-en-v1.5', 'together', 2], ['Gryphe/MythoMax-L2-13b', 'deep_infra', 3], ['Gryphe/MythoMax-L2-13b', 'together', 4], ['Gryphe/MythoMax-L2-13b-Lite', 'together', 5], ['Meta-Llama/Llama-Guard-7b', 'together', 6], ['NousResearch/Nous-Hermes-2-Mixtral-8x7B-DPO', 'together', 7], ['NousResearch/Nous-Hermes-2-Yi-34B', 'together', 8], ['Qwen/Qwen1.5-110B-Chat', 'together', 9], ['Qwen/Qwen1.5-72B-Chat', 'together', 10], ['Qwen/Qwen2-72B-Instruct', 'deep_infra', 11], ['Qwen/Qwen2-72B-Instruct', 'together', 12], ['Qwen/Qwen2-7B-Instruct', 'deep_infra', 13], ['Qwen/Qwen2.5-72B-Instruct', 'deep_infra', 14], ['Salesforce/Llama-Rank-V1', 'together', 15], ['Sao10K/L3-70B-Euryale-v2.1', 'deep_infra', 16], ['Sao10K/L3.1-70B-Euryale-v2.2', 'deep_infra', 17], ['WhereIsAI/UAE-Large-V1', 'together', 18], ['amazon.titan-text-express-v1', 'bedrock', 19], ['amazon.titan-text-lite-v1', 'bedrock', 20], ['anthropic.claude-3-5-sonnet-20240620-v1:0', 'bedrock', 21], ['anthropic.claude-3-haiku-20240307-v1:0', 'bedrock', 22], ['anthropic.claude-3-opus-20240229-v1:0', 'bedrock', 23], ['anthropic.claude-3-sonnet-20240229-v1:0', 'bedrock', 24], ['anthropic.claude-instant-v1', 'bedrock', 25], ['anthropic.claude-v2', 'bedrock', 26], ['anthropic.claude-v2:1', 'bedrock', 27], ['azure:gpt-4o', 'azure', 28], ['azure:gpt-4o-mini', 'azure', 29], ['chatgpt-4o-latest', 'openai', 30], ['claude-3-5-sonnet-20240620', 'anthropic', 31], ['claude-3-haiku-20240307', 'anthropic', 32], ['claude-3-opus-20240229', 'anthropic', 33], ['claude-3-sonnet-20240229', 'anthropic', 34], ['codellama/CodeLlama-34b-Instruct-hf', 'together', 35], ['codestral-2405', 'mistral', 36], ['cohere.command-light-text-v14', 'bedrock', 37], ['cohere.command-r-plus-v1:0', 'bedrock', 38], ['cohere.command-r-v1:0', 'bedrock', 39], ['cohere.command-text-v14', 'bedrock', 40], ['curie:ft-emeritus-2022-11-30-12-58-24', 'openai', 41], ['curie:ft-emeritus-2022-12-01-01-04-36', 'openai', 42], ['curie:ft-emeritus-2022-12-01-01-51-20', 'openai', 43], ['curie:ft-emeritus-2022-12-01-14-16-46', 'openai', 44], ['curie:ft-emeritus-2022-12-01-14-28-00', 'openai', 45], ['curie:ft-emeritus-2022-12-01-14-49-45', 'openai', 46], ['curie:ft-emeritus-2022-12-01-15-29-32', 'openai', 47], ['curie:ft-emeritus-2022-12-01-15-42-25', 'openai', 48], ['curie:ft-emeritus-2022-12-01-15-52-24', 'openai', 49], ['curie:ft-emeritus-2022-12-01-16-40-12', 'openai', 50], ['cursor/Llama-3-8b-hf', 'together', 51], ['databricks/dbrx-instruct', 'together', 52], ['davinci:ft-emeritus-2022-11-30-14-57-33', 'openai', 53], ['deepseek-ai/deepseek-llm-67b-chat', 'together', 54], ['gemini-1.0-pro', 'google', 55], ['gemini-1.5-flash', 'google', 56], ['gemini-1.5-pro', 'google', 57], ['gemini-pro', 'google', 58], ['gemma-7b-it', 'groq', 59], ['gemma2-9b-it', 'groq', 60], ['google/gemma-2-27b-it', 'deep_infra', 61], ['google/gemma-2-27b-it', 'together', 62], ['google/gemma-2-9b-it', 'deep_infra', 63], ['google/gemma-2-9b-it', 'together', 64], ['google/gemma-2b-it', 'together', 65], ['gpt-3.5-turbo', 'openai', 66], ['gpt-3.5-turbo-0125', 'openai', 67], ['gpt-3.5-turbo-1106', 'openai', 68], ['gpt-3.5-turbo-16k', 'openai', 69], ['gpt-4', 'openai', 70], ['gpt-4-0125-preview', 'openai', 71], ['gpt-4-0613', 'openai', 72], ['gpt-4-1106-preview', 'openai', 73], ['gpt-4-turbo', 'openai', 74], ['gpt-4-turbo-2024-04-09', 'openai', 75], ['gpt-4-turbo-preview', 'openai', 76], ['gpt-4o', 'openai', 77], ['gpt-4o-2024-05-13', 'openai', 78], ['gpt-4o-2024-08-06', 'openai', 79], ['gpt-4o-2024-11-20', 'openai', 80], ['gpt-4o-audio-preview', 'openai', 81], ['gpt-4o-audio-preview-2024-10-01', 'openai', 82], ['gpt-4o-mini', 'openai', 83], ['gpt-4o-mini-2024-07-18', 'openai', 84], ['gpt-4o-realtime-preview', 'openai', 85], ['gpt-4o-realtime-preview-2024-10-01', 'openai', 86], ['lizpreciatior/lzlv_70b_fp16_hf', 'deep_infra', 87], ['llama-3.1-70b-versatile', 'groq', 88], ['llama-3.1-8b-instant', 'groq', 89], ['llama-3.1-sonar-huge-128k-online', 'perplexity', 90], ['llama-3.1-sonar-large-128k-online', 'perplexity', 91], ['llama-3.1-sonar-small-128k-online', 'perplexity', 92], ['llama-guard-3-8b', 'groq', 93], ['llama3-70b-8192', 'groq', 94], ['llama3-8b-8192', 'groq', 95], ['llama3-groq-70b-8192-tool-use-preview', 'groq', 96], ['llama3-groq-8b-8192-tool-use-preview', 'groq', 97], ['meta-llama/Llama-2-13b-chat-hf', 'together', 98], ['meta-llama/Llama-2-70b-hf', 'together', 99], ['meta-llama/Llama-2-7b-chat-hf', 'together', 100], ['meta-llama/Llama-3-70b-chat-hf', 'together', 101], ['meta-llama/Llama-3-8b-chat-hf', 'together', 102], ['meta-llama/LlamaGuard-2-8b', 'together', 103], ['meta-llama/Meta-Llama-3-70B-Instruct', 'deep_infra', 104], ['meta-llama/Meta-Llama-3-70B-Instruct-Lite', 'together', 105], ['meta-llama/Meta-Llama-3-70B-Instruct-Turbo', 'together', 106], ['meta-llama/Meta-Llama-3-8B-Instruct', 'deep_infra', 107], ['meta-llama/Meta-Llama-3-8B-Instruct-Lite', 'together', 108], ['meta-llama/Meta-Llama-3-8B-Instruct-Turbo', 'together', 109], ['meta-llama/Meta-Llama-3.1-405B-Instruct', 'deep_infra', 110], ['meta-llama/Meta-Llama-3.1-405B-Instruct-Turbo', 'together', 111], ['meta-llama/Meta-Llama-3.1-70B-Instruct', 'deep_infra', 112], ['meta-llama/Meta-Llama-3.1-70B-Instruct-Turbo', 'together', 113], ['meta-llama/Meta-Llama-3.1-8B-Instruct', 'deep_infra', 114], ['meta-llama/Meta-Llama-3.1-8B-Instruct-Turbo', 'together', 115], ['meta-llama/Meta-Llama-Guard-3-8B', 'together', 116], ['meta.llama3-1-405b-instruct-v1:0', 'bedrock', 117], ['meta.llama3-1-70b-instruct-v1:0', 'bedrock', 118], ['meta.llama3-1-8b-instruct-v1:0', 'bedrock', 119], ['meta.llama3-70b-instruct-v1:0', 'bedrock', 120], ['meta.llama3-8b-instruct-v1:0', 'bedrock', 121], ['microsoft/Phi-3-medium-4k-instruct', 'deep_infra', 122], ['microsoft/WizardLM-2-7B', 'deep_infra', 123], ['microsoft/WizardLM-2-8x22B', 'deep_infra', 124], ['microsoft/WizardLM-2-8x22B', 'together', 125], ['mistral-embed', 'mistral', 126], ['mistral-large-2407', 'mistral', 127], ['mistral-medium-latest', 'mistral', 128], ['mistral-small-2409', 'mistral', 129], ['mistral-small-latest', 'mistral', 130], ['mistral.mistral-7b-instruct-v0:2', 'bedrock', 131], ['mistral.mistral-large-2402-v1:0', 'bedrock', 132], ['mistral.mixtral-8x7b-instruct-v0:1', 'bedrock', 133], ['mistralai/Mistral-7B-Instruct-v0.1', 'together', 134], ['mistralai/Mistral-7B-Instruct-v0.2', 'together', 135], ['mistralai/Mistral-7B-Instruct-v0.3', 'deep_infra', 136], ['mistralai/Mistral-7B-Instruct-v0.3', 'together', 137], ['mistralai/Mistral-7B-v0.1', 'together', 138], ['mistralai/Mistral-Nemo-Instruct-2407', 'deep_infra', 139], ['mistralai/Mixtral-8x22B-Instruct-v0.1', 'together', 140], ['mistralai/Mixtral-8x7B-Instruct-v0.1', 'deep_infra', 141], ['mistralai/Mixtral-8x7B-Instruct-v0.1', 'together', 142], ['mistralai/Mixtral-8x7B-v0.1', 'together', 143], ['mixtral-8x7b-32768', 'groq', 144], ['o1-mini', 'openai', 145], ['o1-mini-2024-09-12', 'openai', 146], ['o1-preview', 'openai', 147], ['o1-preview-2024-09-12', 'openai', 148], ['omni-moderation-2024-09-26', 'openai', 149], ['omni-moderation-latest', 'openai', 150], ['open-mistral-7b', 'mistral', 151], ['open-mistral-nemo-2407', 'mistral', 152], ['open-mixtral-8x22b', 'mistral', 153], ['open-mixtral-8x7b', 'mistral', 154], ['openbmb/MiniCPM-Llama3-V-2_5', 'deep_infra', 155], ['openchat/openchat_3.5', 'deep_infra', 156], ['pixtral-12b-2409', 'mistral', 157], ['test', 'test', 158], ['togethercomputer/StripedHyena-Nous-7B', 'together', 159], ['togethercomputer/m2-bert-80M-2k-retrieval', 'together', 160], ['togethercomputer/m2-bert-80M-32k-retrieval', 'together', 161], ['togethercomputer/m2-bert-80M-8k-retrieval', 'together', 162], ['upstage/SOLAR-10.7B-Instruct-v1.0', 'together', 163]]\n",
       "\n",
       "To create an instance, you can do: \n",
       ">>> m = Model('gpt-4-1106-preview', temperature=0.5, ...)\n",
       "\n",
       "To get the default model, you can leave out the model name. \n",
       "To see the available models, you can do:\n",
       ">>> Model.available()\n",
       ">"
      ]
     },
     "execution_count": 1,
     "metadata": {},
     "output_type": "execute_result"
    }
   ],
   "source": [
    "from edsl import ModelList, Model\n",
    "\n",
    "Model.available "
   ]
  },
  {
   "cell_type": "markdown",
   "metadata": {
    "cell_id": "cc1f7bddab344d378e8ce81dfea70a69",
    "deepnote_cell_type": "markdown",
    "editable": true,
    "slideshow": {
     "slide_type": ""
    },
    "tags": []
   },
   "source": [
    "We select models to use by creating `Model` objects that can be added to a survey when when it is run. If we do not specify a model, the default model is used with the survey.\n",
    "\n",
    "To check the current default model:"
   ]
  },
  {
   "cell_type": "code",
   "execution_count": 2,
   "metadata": {
    "editable": true,
    "slideshow": {
     "slide_type": ""
    },
    "tags": []
   },
   "outputs": [
    {
     "data": {
      "text/html": [
       "<p><a href=''>LanguageModel</a></p>\n",
       "        <style>\n",
       "            :root {\n",
       "  --containerHeight: 290px;\n",
       "  --headerColor: blue;\n",
       "}\n",
       "\n",
       ".table-container {\n",
       "    height: var(--containerHeight) !important;\n",
       "    width: 100%;\n",
       "    overflow: auto;  /* This enables both horizontal and vertical scrolling */\n",
       "    border: 1px solid #d4d4d4;\n",
       "    background: transparent;\n",
       "    position: relative;  /* Create stacking context for sticky header */\n",
       "}\n",
       "\n",
       ".scroll-table {\n",
       "    /* Remove width: 100% to prevent table from being constrained */\n",
       "    /* min-width: 100% ensures table takes at least full container width */\n",
       "    min-width: 100%;\n",
       "    border-collapse: separate;\n",
       "    border-spacing: 4px;\n",
       "    background: transparent;\n",
       "    table-layout: auto;  /* Allow table to size based on content */\n",
       "}\n",
       "\n",
       ".scroll-table th {\n",
       "    background: transparent;  /* Semi-transparent background to ensure text readability */\n",
       "    position: sticky;\n",
       "    top: 0;\n",
       "    z-index: 1;\n",
       "    text-align: left !important;\n",
       "    padding: 8px;\n",
       "    font-weight: bold;\n",
       "    white-space: nowrap;  /* Prevent header text from wrapping */\n",
       "    min-width: 100px;    /* Ensure minimum column width */\n",
       "    backdrop-filter: blur(8px);  /* Optional: adds extra clarity */\n",
       "    color: var(--headerColor);\n",
       "}\n",
       "\n",
       ".scroll-table td {\n",
       "    padding: 8px;\n",
       "    text-align: left !important;\n",
       "    white-space: pre-wrap;\n",
       "    word-wrap: break-word;\n",
       "    vertical-align: top;\n",
       "    color: inherit;\n",
       "    border-bottom: none;\n",
       "    background: transparent;\n",
       "    min-width: 100px;    /* Match header minimum width */\n",
       "}\n",
       "\n",
       ".scroll-table tbody tr:hover {\n",
       "    background: transparent;\n",
       "}\n",
       "\n",
       "/* Additional rule to ensure header background is truly transparent */\n",
       ".scroll-table thead tr {\n",
       "    background: transparent !important;\n",
       "}\n",
       "\n",
       "/* Add shadow to indicate scrollable content */\n",
       ".table-container::after {\n",
       "    content: '';\n",
       "    position: absolute;\n",
       "    top: 0;\n",
       "    right: 0;\n",
       "    bottom: 0;\n",
       "    width: 5px;\n",
       "    background: linear-gradient(to right, transparent, rgba(242, 6, 6, 0.1));\n",
       "    pointer-events: none;\n",
       "    opacity: 0;\n",
       "    transition: opacity 0.3s;\n",
       "}\n",
       "\n",
       ".table-container:hover::after {\n",
       "    opacity: 1;\n",
       "}\n",
       "\n",
       "/* Handle Jupyter notebook specific styling */\n",
       ".jp-OutputArea-output .table-container {\n",
       "    max-width: 100%;\n",
       "    margin: 0;\n",
       "    overflow-x: auto;\n",
       "}\n",
       "        </style>\n",
       "        <div class=\"table-container\">\n",
       "            <div class=\"scroll-table-wrapper\">\n",
       "                <table class=\"scroll-table\">\n",
       "<thead>\n",
       "<tr><th>key                         </th><th>value  </th></tr>\n",
       "</thead>\n",
       "<tbody>\n",
       "<tr><td>model                       </td><td>gpt-4o </td></tr>\n",
       "<tr><td>parameters:temperature      </td><td>0.5    </td></tr>\n",
       "<tr><td>parameters:max_tokens       </td><td>1000   </td></tr>\n",
       "<tr><td>parameters:top_p            </td><td>1      </td></tr>\n",
       "<tr><td>parameters:frequency_penalty</td><td>0      </td></tr>\n",
       "<tr><td>parameters:presence_penalty </td><td>0      </td></tr>\n",
       "<tr><td>parameters:logprobs         </td><td>False  </td></tr>\n",
       "<tr><td>parameters:top_logprobs     </td><td>3      </td></tr>\n",
       "</tbody>\n",
       "</table>\n",
       "            </div>\n",
       "        </div>\n",
       "        "
      ],
      "text/plain": [
       "Model(model_name = 'gpt-4o', temperature = 0.5, max_tokens = 1000, top_p = 1, frequency_penalty = 0, presence_penalty = 0, logprobs = False, top_logprobs = 3)"
      ]
     },
     "execution_count": 2,
     "metadata": {},
     "output_type": "execute_result"
    }
   ],
   "source": [
    "Model()"
   ]
  },
  {
   "cell_type": "markdown",
   "metadata": {
    "editable": true,
    "slideshow": {
     "slide_type": ""
    },
    "tags": []
   },
   "source": [
    "Here we select several models to compare their responses for the survey that we create in the steps below:"
   ]
  },
  {
   "cell_type": "code",
   "execution_count": 3,
   "metadata": {
    "cell_id": "747d40bea4eb41b5a89d8b374216837e",
    "deepnote_cell_type": "code",
    "editable": true,
    "slideshow": {
     "slide_type": ""
    },
    "tags": []
   },
   "outputs": [],
   "source": [
    "models = ModelList(\n",
    "    Model(m) for m in [\"gemini-pro\", \"gpt-4o\", \"claude-3-5-sonnet-20240620\"]\n",
    ")"
   ]
  },
  {
   "cell_type": "markdown",
   "metadata": {
    "editable": true,
    "slideshow": {
     "slide_type": ""
    },
    "tags": []
   },
   "source": [
    "## Generating content\n",
    "EDSL comes with a variety of standard survey question types, such as multiple choice, free text, etc. These can be selected based on the desired format of the response. See details about all types [here](https://docs.expectedparrot.com/en/latest/questions.html#question-type-classes). We can use `QuestionFreeText` to prompt the models to generate some content for our experiment:"
   ]
  },
  {
   "cell_type": "code",
   "execution_count": 4,
   "metadata": {
    "cell_id": "1325605571cc41a194255b80b2fb2f87",
    "deepnote_cell_type": "code",
    "editable": true,
    "slideshow": {
     "slide_type": ""
    },
    "tags": []
   },
   "outputs": [],
   "source": [
    "from edsl import QuestionFreeText\n",
    "\n",
    "q = QuestionFreeText(\n",
    "    question_name=\"haiku\",\n",
    "    question_text=\"Draft a haiku about the weather in New England. Return only the haiku.\"\n",
    ")"
   ]
  },
  {
   "cell_type": "markdown",
   "metadata": {
    "editable": true,
    "slideshow": {
     "slide_type": ""
    },
    "tags": []
   },
   "source": [
    "We generate a response to the question by adding the models to use with the `by` method and then calling the `run` method. This generates a `Results` object with a `Result` for each response to the question:"
   ]
  },
  {
   "cell_type": "code",
   "execution_count": 5,
   "metadata": {
    "cell_id": "724ca2c7a38f4164a225ed4a8dcc2b1f",
    "deepnote_cell_type": "code",
    "editable": true,
    "slideshow": {
     "slide_type": ""
    },
    "tags": []
   },
   "outputs": [
    {
     "data": {
      "text/html": [
       "\n",
       "            <div style=\"border: 1px solid #ccc; margin: 10px 0; max-width: 800px;\">\n",
       "                <div onclick=\"document.getElementById('content-706348cd-0305-4509-8e2d-04795368748a').style.display = document.getElementById('content-706348cd-0305-4509-8e2d-04795368748a').style.display === 'none' ? 'block' : 'none';\n",
       "                             document.getElementById('arrow-706348cd-0305-4509-8e2d-04795368748a').innerHTML = document.getElementById('content-706348cd-0305-4509-8e2d-04795368748a').style.display === 'none' ? '▶' : '▼';\"\n",
       "                     style=\"padding: 10px; background: #f5f5f5; cursor: pointer;\">\n",
       "                    <span id=\"arrow-706348cd-0305-4509-8e2d-04795368748a\">▼</span> Remote Job Log (2024-12-14 10:50:58)\n",
       "                </div>\n",
       "                <div id=\"content-706348cd-0305-4509-8e2d-04795368748a\" style=\"padding: 10px; display: block;\">\n",
       "                    <div style=\"border-left: 3px solid #3b82f6; padding: 5px 10px; margin: 5px 0;\">Remote inference activated. Sending job to server...</div>\n",
       "<div style=\"border-left: 3px solid #3b82f6; padding: 5px 10px; margin: 5px 0;\">Your survey is running at the Expected Parrot server...</div>\n",
       "<div style=\"border-left: 3px solid #3b82f6; padding: 5px 10px; margin: 5px 0;\">Job sent to server. (Job uuid=3461cf2f-4e08-4425-89a8-6d62d2711918).</div>\n",
       "<div style=\"border-left: 3px solid #3b82f6; padding: 5px 10px; margin: 5px 0;\">Job details are available at your Coop account <a href=\"https://www.expectedparrot.com/home/remote-inferencehttps://www.expectedparrot.com/home/remote-inference\" target=\"_blank\" style=\"color: #3b82f6; text-decoration: underline;\">https://www.expectedparrot.com/home/remote-inferencehttps://www.expectedparrot.com/home/remote-inference</a></div>\n",
       "<div style=\"border-left: 3px solid #3b82f6; padding: 5px 10px; margin: 5px 0;\">View job progress here: <a href=\"https://www.expectedparrot.com/home/remote-job-progress/3461cf2f-4e08-4425-89a8-6d62d2711918\" target=\"_blank\" style=\"color: #3b82f6; text-decoration: underline;\">https://www.expectedparrot.com/home/remote-job-progress/3461cf2f-4e08-4425-89a8-6d62d2711918</a></div>\n",
       "<div style=\"border-left: 3px solid #3b82f6; padding: 5px 10px; margin: 5px 0;\">Job status: queued - last update: 2024-12-14 10:50:40 AM</div>\n",
       "<div style=\"border-left: 3px solid #3b82f6; padding: 5px 10px; margin: 5px 0;\">Job status: running - last update: 2024-12-14 10:50:44 AM</div>\n",
       "<div style=\"border-left: 3px solid #3b82f6; padding: 5px 10px; margin: 5px 0;\">Job status: running - last update: 2024-12-14 10:50:47 AM</div>\n",
       "<div style=\"border-left: 3px solid #3b82f6; padding: 5px 10px; margin: 5px 0;\">Job status: running - last update: 2024-12-14 10:50:51 AM</div>\n",
       "<div style=\"border-left: 3px solid #3b82f6; padding: 5px 10px; margin: 5px 0;\">Job status: running - last update: 2024-12-14 10:50:55 AM</div>\n",
       "<div style=\"border-left: 3px solid #22c55e; padding: 5px 10px; margin: 5px 0;\">Job completed and Results stored on Coop: <a href=\"https://www.expectedparrot.com/content/3c2d3f05-8d17-4ede-b464-d7481524a8aa\" target=\"_blank\" style=\"color: #3b82f6; text-decoration: underline;\">https://www.expectedparrot.com/content/3c2d3f05-8d17-4ede-b464-d7481524a8aa</a></div>\n",
       "                </div>\n",
       "            </div>\n",
       "        "
      ],
      "text/plain": [
       "<IPython.core.display.HTML object>"
      ]
     },
     "metadata": {},
     "output_type": "display_data"
    }
   ],
   "source": [
    "results = q.by(models).run()"
   ]
  },
  {
   "cell_type": "markdown",
   "metadata": {
    "editable": true,
    "slideshow": {
     "slide_type": ""
    },
    "tags": []
   },
   "source": [
    "To see a list of all components of results:"
   ]
  },
  {
   "cell_type": "code",
   "execution_count": 6,
   "metadata": {
    "cell_id": "054ec708d2f84854b971127f64ff2054",
    "deepnote_cell_type": "code",
    "editable": true,
    "slideshow": {
     "slide_type": ""
    },
    "tags": []
   },
   "outputs": [
    {
     "data": {
      "text/html": [
       "\n",
       "        <style>\n",
       "            :root {\n",
       "  --containerHeight: 400px;\n",
       "  --headerColor: blue;\n",
       "}\n",
       "\n",
       ".table-container {\n",
       "    height: var(--containerHeight) !important;\n",
       "    width: 100%;\n",
       "    overflow: auto;  /* This enables both horizontal and vertical scrolling */\n",
       "    border: 1px solid #d4d4d4;\n",
       "    background: transparent;\n",
       "    position: relative;  /* Create stacking context for sticky header */\n",
       "}\n",
       "\n",
       ".scroll-table {\n",
       "    /* Remove width: 100% to prevent table from being constrained */\n",
       "    /* min-width: 100% ensures table takes at least full container width */\n",
       "    min-width: 100%;\n",
       "    border-collapse: separate;\n",
       "    border-spacing: 4px;\n",
       "    background: transparent;\n",
       "    table-layout: auto;  /* Allow table to size based on content */\n",
       "}\n",
       "\n",
       ".scroll-table th {\n",
       "    background: transparent;  /* Semi-transparent background to ensure text readability */\n",
       "    position: sticky;\n",
       "    top: 0;\n",
       "    z-index: 1;\n",
       "    text-align: left !important;\n",
       "    padding: 8px;\n",
       "    font-weight: bold;\n",
       "    white-space: nowrap;  /* Prevent header text from wrapping */\n",
       "    min-width: 100px;    /* Ensure minimum column width */\n",
       "    backdrop-filter: blur(8px);  /* Optional: adds extra clarity */\n",
       "    color: var(--headerColor);\n",
       "}\n",
       "\n",
       ".scroll-table td {\n",
       "    padding: 8px;\n",
       "    text-align: left !important;\n",
       "    white-space: pre-wrap;\n",
       "    word-wrap: break-word;\n",
       "    vertical-align: top;\n",
       "    color: inherit;\n",
       "    border-bottom: none;\n",
       "    background: transparent;\n",
       "    min-width: 100px;    /* Match header minimum width */\n",
       "}\n",
       "\n",
       ".scroll-table tbody tr:hover {\n",
       "    background: transparent;\n",
       "}\n",
       "\n",
       "/* Additional rule to ensure header background is truly transparent */\n",
       ".scroll-table thead tr {\n",
       "    background: transparent !important;\n",
       "}\n",
       "\n",
       "/* Add shadow to indicate scrollable content */\n",
       ".table-container::after {\n",
       "    content: '';\n",
       "    position: absolute;\n",
       "    top: 0;\n",
       "    right: 0;\n",
       "    bottom: 0;\n",
       "    width: 5px;\n",
       "    background: linear-gradient(to right, transparent, rgba(242, 6, 6, 0.1));\n",
       "    pointer-events: none;\n",
       "    opacity: 0;\n",
       "    transition: opacity 0.3s;\n",
       "}\n",
       "\n",
       ".table-container:hover::after {\n",
       "    opacity: 1;\n",
       "}\n",
       "\n",
       "/* Handle Jupyter notebook specific styling */\n",
       ".jp-OutputArea-output .table-container {\n",
       "    max-width: 100%;\n",
       "    margin: 0;\n",
       "    overflow-x: auto;\n",
       "}\n",
       "        </style>\n",
       "        <div class=\"table-container\">\n",
       "            <div class=\"scroll-table-wrapper\">\n",
       "                <table class=\"scroll-table\">\n",
       "<thead>\n",
       "<tr><th>0                                          </th></tr>\n",
       "</thead>\n",
       "<tbody>\n",
       "<tr><td>agent.agent_instruction                    </td></tr>\n",
       "<tr><td>agent.agent_name                           </td></tr>\n",
       "<tr><td>answer.haiku                               </td></tr>\n",
       "<tr><td>comment.haiku_comment                      </td></tr>\n",
       "<tr><td>generated_tokens.haiku_generated_tokens    </td></tr>\n",
       "<tr><td>iteration.iteration                        </td></tr>\n",
       "<tr><td>model.frequency_penalty                    </td></tr>\n",
       "<tr><td>model.logprobs                             </td></tr>\n",
       "<tr><td>model.maxOutputTokens                      </td></tr>\n",
       "<tr><td>model.max_tokens                           </td></tr>\n",
       "<tr><td>model.model                                </td></tr>\n",
       "<tr><td>model.presence_penalty                     </td></tr>\n",
       "<tr><td>model.stopSequences                        </td></tr>\n",
       "<tr><td>model.temperature                          </td></tr>\n",
       "<tr><td>model.topK                                 </td></tr>\n",
       "<tr><td>model.topP                                 </td></tr>\n",
       "<tr><td>model.top_logprobs                         </td></tr>\n",
       "<tr><td>model.top_p                                </td></tr>\n",
       "<tr><td>prompt.haiku_system_prompt                 </td></tr>\n",
       "<tr><td>prompt.haiku_user_prompt                   </td></tr>\n",
       "<tr><td>question_options.haiku_question_options    </td></tr>\n",
       "<tr><td>question_text.haiku_question_text          </td></tr>\n",
       "<tr><td>question_type.haiku_question_type          </td></tr>\n",
       "<tr><td>raw_model_response.haiku_cost              </td></tr>\n",
       "<tr><td>raw_model_response.haiku_one_usd_buys      </td></tr>\n",
       "<tr><td>raw_model_response.haiku_raw_model_response</td></tr>\n",
       "</tbody>\n",
       "</table>\n",
       "            </div>\n",
       "        </div>\n",
       "        "
      ],
      "text/plain": [
       "PrettyList(['agent.agent_instruction',\n",
       "            'agent.agent_name',\n",
       "            'answer.haiku',\n",
       "            'comment.haiku_comment',\n",
       "            'generated_tokens.haiku_generated_tokens',\n",
       "            'iteration.iteration',\n",
       "            'model.frequency_penalty',\n",
       "            'model.logprobs',\n",
       "            'model.maxOutputTokens',\n",
       "            'model.max_tokens',\n",
       "            'model.model',\n",
       "            'model.presence_penalty',\n",
       "            'model.stopSequences',\n",
       "            'model.temperature',\n",
       "            'model.topK',\n",
       "            'model.topP',\n",
       "            'model.top_logprobs',\n",
       "            'model.top_p',\n",
       "            'prompt.haiku_system_prompt',\n",
       "            'prompt.haiku_user_prompt',\n",
       "            'question_options.haiku_question_options',\n",
       "            'question_text.haiku_question_text',\n",
       "            'question_type.haiku_question_type',\n",
       "            'raw_model_response.haiku_cost',\n",
       "            'raw_model_response.haiku_one_usd_buys',\n",
       "            'raw_model_response.haiku_raw_model_response'])"
      ]
     },
     "execution_count": 6,
     "metadata": {},
     "output_type": "execute_result"
    }
   ],
   "source": [
    "results.columns "
   ]
  },
  {
   "cell_type": "markdown",
   "metadata": {
    "editable": true,
    "slideshow": {
     "slide_type": ""
    },
    "tags": []
   },
   "source": [
    "We can inspect components of the results individually:"
   ]
  },
  {
   "cell_type": "code",
   "execution_count": 7,
   "metadata": {
    "cell_id": "c68d3be8bada402ea17184b978abfa70",
    "deepnote_cell_type": "code",
    "editable": true,
    "slideshow": {
     "slide_type": ""
    },
    "tags": []
   },
   "outputs": [
    {
     "data": {
      "text/html": [
       "\n",
       "        <style>\n",
       "            :root {\n",
       "  --containerHeight: 140px;\n",
       "  --headerColor: blue;\n",
       "}\n",
       "\n",
       ".table-container {\n",
       "    height: var(--containerHeight) !important;\n",
       "    width: 100%;\n",
       "    overflow: auto;  /* This enables both horizontal and vertical scrolling */\n",
       "    border: 1px solid #d4d4d4;\n",
       "    background: transparent;\n",
       "    position: relative;  /* Create stacking context for sticky header */\n",
       "}\n",
       "\n",
       ".scroll-table {\n",
       "    /* Remove width: 100% to prevent table from being constrained */\n",
       "    /* min-width: 100% ensures table takes at least full container width */\n",
       "    min-width: 100%;\n",
       "    border-collapse: separate;\n",
       "    border-spacing: 4px;\n",
       "    background: transparent;\n",
       "    table-layout: auto;  /* Allow table to size based on content */\n",
       "}\n",
       "\n",
       ".scroll-table th {\n",
       "    background: transparent;  /* Semi-transparent background to ensure text readability */\n",
       "    position: sticky;\n",
       "    top: 0;\n",
       "    z-index: 1;\n",
       "    text-align: left !important;\n",
       "    padding: 8px;\n",
       "    font-weight: bold;\n",
       "    white-space: nowrap;  /* Prevent header text from wrapping */\n",
       "    min-width: 100px;    /* Ensure minimum column width */\n",
       "    backdrop-filter: blur(8px);  /* Optional: adds extra clarity */\n",
       "    color: var(--headerColor);\n",
       "}\n",
       "\n",
       ".scroll-table td {\n",
       "    padding: 8px;\n",
       "    text-align: left !important;\n",
       "    white-space: pre-wrap;\n",
       "    word-wrap: break-word;\n",
       "    vertical-align: top;\n",
       "    color: inherit;\n",
       "    border-bottom: none;\n",
       "    background: transparent;\n",
       "    min-width: 100px;    /* Match header minimum width */\n",
       "}\n",
       "\n",
       ".scroll-table tbody tr:hover {\n",
       "    background: transparent;\n",
       "}\n",
       "\n",
       "/* Additional rule to ensure header background is truly transparent */\n",
       ".scroll-table thead tr {\n",
       "    background: transparent !important;\n",
       "}\n",
       "\n",
       "/* Add shadow to indicate scrollable content */\n",
       ".table-container::after {\n",
       "    content: '';\n",
       "    position: absolute;\n",
       "    top: 0;\n",
       "    right: 0;\n",
       "    bottom: 0;\n",
       "    width: 5px;\n",
       "    background: linear-gradient(to right, transparent, rgba(242, 6, 6, 0.1));\n",
       "    pointer-events: none;\n",
       "    opacity: 0;\n",
       "    transition: opacity 0.3s;\n",
       "}\n",
       "\n",
       ".table-container:hover::after {\n",
       "    opacity: 1;\n",
       "}\n",
       "\n",
       "/* Handle Jupyter notebook specific styling */\n",
       ".jp-OutputArea-output .table-container {\n",
       "    max-width: 100%;\n",
       "    margin: 0;\n",
       "    overflow-x: auto;\n",
       "}\n",
       "        </style>\n",
       "        <div class=\"table-container\">\n",
       "            <div class=\"scroll-table-wrapper\">\n",
       "                <table class=\"scroll-table\">\n",
       "<thead>\n",
       "<tr><th>model.model               </th><th>answer.haiku  </th></tr>\n",
       "</thead>\n",
       "<tbody>\n",
       "<tr><td>gemini-pro                </td><td>Snow in winter&#x27;s grasp,\n",
       "Autumn&#x27;s leaves in vibrant hues,               </td></tr>\n",
       "<tr><td>gpt-4o                    </td><td>Crisp leaves whispering,  \n",
       "Misty mornings, fleeting sun—               </td></tr>\n",
       "<tr><td>claude-3-5-sonnet-20240620</td><td>Fickle seasons change\n",
       "Snow melts, flowers bloom, leaves fall               </td></tr>\n",
       "</tbody>\n",
       "</table>\n",
       "            </div>\n",
       "        </div>\n",
       "        "
      ],
      "text/plain": [
       "Dataset([{'model.model': ['gemini-pro', 'gpt-4o', 'claude-3-5-sonnet-20240620']}, {'answer.haiku': [\"Snow in winter's grasp,\\nAutumn's leaves in vibrant hues,\", 'Crisp leaves whispering,  \\nMisty mornings, fleeting sun—', 'Fickle seasons change\\nSnow melts, flowers bloom, leaves fall']}])"
      ]
     },
     "execution_count": 7,
     "metadata": {},
     "output_type": "execute_result"
    }
   ],
   "source": [
    "results.select(\"model\", \"haiku\")"
   ]
  },
  {
   "cell_type": "markdown",
   "metadata": {
    "cell_id": "09c51c4a264248d3a6ca865d70844279",
    "deepnote_cell_type": "markdown",
    "editable": true,
    "slideshow": {
     "slide_type": ""
    },
    "tags": []
   },
   "source": [
    "## Conducting a review\n",
    "Next we create a question to have a model evaluating a response that we use as an input to the new question:"
   ]
  },
  {
   "cell_type": "code",
   "execution_count": 8,
   "metadata": {
    "editable": true,
    "slideshow": {
     "slide_type": ""
    },
    "tags": []
   },
   "outputs": [],
   "source": [
    "from edsl import QuestionLinearScale\n",
    "\n",
    "q_score = QuestionLinearScale(\n",
    "    question_name=\"score\",\n",
    "    question_text=\"Score the following haiku on a scale from 0 to 10: {{ haiku }}\",\n",
    "    question_options=[0, 1, 2, 3, 4, 5, 6, 7, 8, 9, 10],\n",
    "    option_labels={0: \"Very poor\", 10: \"Excellent\"},\n",
    ")"
   ]
  },
  {
   "cell_type": "markdown",
   "metadata": {
    "editable": true,
    "slideshow": {
     "slide_type": ""
    },
    "tags": []
   },
   "source": [
    "## Parameterizing questions\n",
    "We use `Scenario` objects to add each response to the new question. EDSL comes with many methods for creating scenarios from different data sources (PDFs, CSVs, docs, images, lists, etc.), as well as `Results` objects:"
   ]
  },
  {
   "cell_type": "code",
   "execution_count": 9,
   "metadata": {
    "editable": true,
    "slideshow": {
     "slide_type": ""
    },
    "tags": []
   },
   "outputs": [
    {
     "data": {
      "text/html": [
       "<p><a href='https://docs.expectedparrot.com/en/latest/scenarios.html#scenariolist'>ScenarioList</a> scenarios: 3; keys: ['haiku', 'drafting_model'];</p>\n",
       "        <style>\n",
       "            :root {\n",
       "  --containerHeight: 140px;\n",
       "  --headerColor: blue;\n",
       "}\n",
       "\n",
       ".table-container {\n",
       "    height: var(--containerHeight) !important;\n",
       "    width: 100%;\n",
       "    overflow: auto;  /* This enables both horizontal and vertical scrolling */\n",
       "    border: 1px solid #d4d4d4;\n",
       "    background: transparent;\n",
       "    position: relative;  /* Create stacking context for sticky header */\n",
       "}\n",
       "\n",
       ".scroll-table {\n",
       "    /* Remove width: 100% to prevent table from being constrained */\n",
       "    /* min-width: 100% ensures table takes at least full container width */\n",
       "    min-width: 100%;\n",
       "    border-collapse: separate;\n",
       "    border-spacing: 4px;\n",
       "    background: transparent;\n",
       "    table-layout: auto;  /* Allow table to size based on content */\n",
       "}\n",
       "\n",
       ".scroll-table th {\n",
       "    background: transparent;  /* Semi-transparent background to ensure text readability */\n",
       "    position: sticky;\n",
       "    top: 0;\n",
       "    z-index: 1;\n",
       "    text-align: left !important;\n",
       "    padding: 8px;\n",
       "    font-weight: bold;\n",
       "    white-space: nowrap;  /* Prevent header text from wrapping */\n",
       "    min-width: 100px;    /* Ensure minimum column width */\n",
       "    backdrop-filter: blur(8px);  /* Optional: adds extra clarity */\n",
       "    color: var(--headerColor);\n",
       "}\n",
       "\n",
       ".scroll-table td {\n",
       "    padding: 8px;\n",
       "    text-align: left !important;\n",
       "    white-space: pre-wrap;\n",
       "    word-wrap: break-word;\n",
       "    vertical-align: top;\n",
       "    color: inherit;\n",
       "    border-bottom: none;\n",
       "    background: transparent;\n",
       "    min-width: 100px;    /* Match header minimum width */\n",
       "}\n",
       "\n",
       ".scroll-table tbody tr:hover {\n",
       "    background: transparent;\n",
       "}\n",
       "\n",
       "/* Additional rule to ensure header background is truly transparent */\n",
       ".scroll-table thead tr {\n",
       "    background: transparent !important;\n",
       "}\n",
       "\n",
       "/* Add shadow to indicate scrollable content */\n",
       ".table-container::after {\n",
       "    content: '';\n",
       "    position: absolute;\n",
       "    top: 0;\n",
       "    right: 0;\n",
       "    bottom: 0;\n",
       "    width: 5px;\n",
       "    background: linear-gradient(to right, transparent, rgba(242, 6, 6, 0.1));\n",
       "    pointer-events: none;\n",
       "    opacity: 0;\n",
       "    transition: opacity 0.3s;\n",
       "}\n",
       "\n",
       ".table-container:hover::after {\n",
       "    opacity: 1;\n",
       "}\n",
       "\n",
       "/* Handle Jupyter notebook specific styling */\n",
       ".jp-OutputArea-output .table-container {\n",
       "    max-width: 100%;\n",
       "    margin: 0;\n",
       "    overflow-x: auto;\n",
       "}\n",
       "        </style>\n",
       "        <div class=\"table-container\">\n",
       "            <div class=\"scroll-table-wrapper\">\n",
       "                <table class=\"scroll-table\">\n",
       "<thead>\n",
       "<tr><th>haiku  </th><th>drafting_model            </th></tr>\n",
       "</thead>\n",
       "<tbody>\n",
       "<tr><td>Snow in winter&#x27;s grasp,\n",
       "Autumn&#x27;s leaves in vibrant hues,        </td><td>gemini-pro                </td></tr>\n",
       "<tr><td>Crisp leaves whispering,  \n",
       "Misty mornings, fleeting sun—        </td><td>gpt-4o                    </td></tr>\n",
       "<tr><td>Fickle seasons change\n",
       "Snow melts, flowers bloom, leaves fall        </td><td>claude-3-5-sonnet-20240620</td></tr>\n",
       "</tbody>\n",
       "</table>\n",
       "            </div>\n",
       "        </div>\n",
       "        "
      ],
      "text/plain": [
       "ScenarioList([Scenario({'haiku': \"Snow in winter's grasp,\\nAutumn's leaves in vibrant hues,\", 'drafting_model': 'gemini-pro'}), Scenario({'haiku': 'Crisp leaves whispering,  \\nMisty mornings, fleeting sun—', 'drafting_model': 'gpt-4o'}), Scenario({'haiku': 'Fickle seasons change\\nSnow melts, flowers bloom, leaves fall', 'drafting_model': 'claude-3-5-sonnet-20240620'})])"
      ]
     },
     "execution_count": 9,
     "metadata": {},
     "output_type": "execute_result"
    }
   ],
   "source": [
    "scenarios = (\n",
    "    results.to_scenario_list()\n",
    "    .select(\"model\", \"haiku\")\n",
    "    .rename({\"model\":\"drafting_model\"}) # renaming the 'model' field to distinguish the evaluating model \n",
    ")\n",
    "scenarios"
   ]
  },
  {
   "cell_type": "markdown",
   "metadata": {
    "editable": true,
    "slideshow": {
     "slide_type": ""
    },
    "tags": []
   },
   "source": [
    "Finally, we conduct the evaluation by having each model score each haiku that was generated (without information about whether the model itself was the source):"
   ]
  },
  {
   "cell_type": "code",
   "execution_count": 10,
   "metadata": {
    "editable": true,
    "slideshow": {
     "slide_type": ""
    },
    "tags": []
   },
   "outputs": [
    {
     "data": {
      "text/html": [
       "\n",
       "            <div style=\"border: 1px solid #ccc; margin: 10px 0; max-width: 800px;\">\n",
       "                <div onclick=\"document.getElementById('content-1fe9f6b2-6a76-4812-96d8-93df7583649a').style.display = document.getElementById('content-1fe9f6b2-6a76-4812-96d8-93df7583649a').style.display === 'none' ? 'block' : 'none';\n",
       "                             document.getElementById('arrow-1fe9f6b2-6a76-4812-96d8-93df7583649a').innerHTML = document.getElementById('content-1fe9f6b2-6a76-4812-96d8-93df7583649a').style.display === 'none' ? '▶' : '▼';\"\n",
       "                     style=\"padding: 10px; background: #f5f5f5; cursor: pointer;\">\n",
       "                    <span id=\"arrow-1fe9f6b2-6a76-4812-96d8-93df7583649a\">▼</span> Remote Job Log (2024-12-14 10:52:03)\n",
       "                </div>\n",
       "                <div id=\"content-1fe9f6b2-6a76-4812-96d8-93df7583649a\" style=\"padding: 10px; display: block;\">\n",
       "                    <div style=\"border-left: 3px solid #3b82f6; padding: 5px 10px; margin: 5px 0;\">Remote inference activated. Sending job to server...</div>\n",
       "<div style=\"border-left: 3px solid #3b82f6; padding: 5px 10px; margin: 5px 0;\">Your survey is running at the Expected Parrot server...</div>\n",
       "<div style=\"border-left: 3px solid #3b82f6; padding: 5px 10px; margin: 5px 0;\">Job sent to server. (Job uuid=88f1bd9e-9ce5-45f8-b37e-03539648ec09).</div>\n",
       "<div style=\"border-left: 3px solid #3b82f6; padding: 5px 10px; margin: 5px 0;\">Job details are available at your Coop account <a href=\"https://www.expectedparrot.com/home/remote-inferencehttps://www.expectedparrot.com/home/remote-inference\" target=\"_blank\" style=\"color: #3b82f6; text-decoration: underline;\">https://www.expectedparrot.com/home/remote-inferencehttps://www.expectedparrot.com/home/remote-inference</a></div>\n",
       "<div style=\"border-left: 3px solid #3b82f6; padding: 5px 10px; margin: 5px 0;\">View job progress here: <a href=\"https://www.expectedparrot.com/home/remote-job-progress/88f1bd9e-9ce5-45f8-b37e-03539648ec09\" target=\"_blank\" style=\"color: #3b82f6; text-decoration: underline;\">https://www.expectedparrot.com/home/remote-job-progress/88f1bd9e-9ce5-45f8-b37e-03539648ec09</a></div>\n",
       "<div style=\"border-left: 3px solid #3b82f6; padding: 5px 10px; margin: 5px 0;\">Job status: queued - last update: 2024-12-14 10:51:33 AM</div>\n",
       "<div style=\"border-left: 3px solid #3b82f6; padding: 5px 10px; margin: 5px 0;\">Job status: running - last update: 2024-12-14 10:51:36 AM</div>\n",
       "<div style=\"border-left: 3px solid #3b82f6; padding: 5px 10px; margin: 5px 0;\">Job status: running - last update: 2024-12-14 10:51:40 AM</div>\n",
       "<div style=\"border-left: 3px solid #3b82f6; padding: 5px 10px; margin: 5px 0;\">Job status: running - last update: 2024-12-14 10:51:44 AM</div>\n",
       "<div style=\"border-left: 3px solid #3b82f6; padding: 5px 10px; margin: 5px 0;\">Job status: running - last update: 2024-12-14 10:51:48 AM</div>\n",
       "<div style=\"border-left: 3px solid #3b82f6; padding: 5px 10px; margin: 5px 0;\">Job status: running - last update: 2024-12-14 10:51:52 AM</div>\n",
       "<div style=\"border-left: 3px solid #3b82f6; padding: 5px 10px; margin: 5px 0;\">Job status: running - last update: 2024-12-14 10:51:55 AM</div>\n",
       "<div style=\"border-left: 3px solid #22c55e; padding: 5px 10px; margin: 5px 0;\">Job completed and Results stored on Coop: <a href=\"https://www.expectedparrot.com/content/e8ae6a06-f1d9-4e71-97ee-62e80acfd776\" target=\"_blank\" style=\"color: #3b82f6; text-decoration: underline;\">https://www.expectedparrot.com/content/e8ae6a06-f1d9-4e71-97ee-62e80acfd776</a></div>\n",
       "                </div>\n",
       "            </div>\n",
       "        "
      ],
      "text/plain": [
       "<IPython.core.display.HTML object>"
      ]
     },
     "metadata": {},
     "output_type": "display_data"
    }
   ],
   "source": [
    "results = q_score.by(scenarios).by(models).run()"
   ]
  },
  {
   "cell_type": "code",
   "execution_count": 16,
   "metadata": {
    "editable": true,
    "slideshow": {
     "slide_type": ""
    },
    "tags": []
   },
   "outputs": [
    {
     "data": {
      "text/html": [
       "\n",
       "        <style>\n",
       "            :root {\n",
       "  --containerHeight: 400px;\n",
       "  --headerColor: blue;\n",
       "}\n",
       "\n",
       ".table-container {\n",
       "    height: var(--containerHeight) !important;\n",
       "    width: 100%;\n",
       "    overflow: auto;  /* This enables both horizontal and vertical scrolling */\n",
       "    border: 1px solid #d4d4d4;\n",
       "    background: transparent;\n",
       "    position: relative;  /* Create stacking context for sticky header */\n",
       "}\n",
       "\n",
       ".scroll-table {\n",
       "    /* Remove width: 100% to prevent table from being constrained */\n",
       "    /* min-width: 100% ensures table takes at least full container width */\n",
       "    min-width: 100%;\n",
       "    border-collapse: separate;\n",
       "    border-spacing: 4px;\n",
       "    background: transparent;\n",
       "    table-layout: auto;  /* Allow table to size based on content */\n",
       "}\n",
       "\n",
       ".scroll-table th {\n",
       "    background: transparent;  /* Semi-transparent background to ensure text readability */\n",
       "    position: sticky;\n",
       "    top: 0;\n",
       "    z-index: 1;\n",
       "    text-align: left !important;\n",
       "    padding: 8px;\n",
       "    font-weight: bold;\n",
       "    white-space: nowrap;  /* Prevent header text from wrapping */\n",
       "    min-width: 100px;    /* Ensure minimum column width */\n",
       "    backdrop-filter: blur(8px);  /* Optional: adds extra clarity */\n",
       "    color: var(--headerColor);\n",
       "}\n",
       "\n",
       ".scroll-table td {\n",
       "    padding: 8px;\n",
       "    text-align: left !important;\n",
       "    white-space: pre-wrap;\n",
       "    word-wrap: break-word;\n",
       "    vertical-align: top;\n",
       "    color: inherit;\n",
       "    border-bottom: none;\n",
       "    background: transparent;\n",
       "    min-width: 100px;    /* Match header minimum width */\n",
       "}\n",
       "\n",
       ".scroll-table tbody tr:hover {\n",
       "    background: transparent;\n",
       "}\n",
       "\n",
       "/* Additional rule to ensure header background is truly transparent */\n",
       ".scroll-table thead tr {\n",
       "    background: transparent !important;\n",
       "}\n",
       "\n",
       "/* Add shadow to indicate scrollable content */\n",
       ".table-container::after {\n",
       "    content: '';\n",
       "    position: absolute;\n",
       "    top: 0;\n",
       "    right: 0;\n",
       "    bottom: 0;\n",
       "    width: 5px;\n",
       "    background: linear-gradient(to right, transparent, rgba(242, 6, 6, 0.1));\n",
       "    pointer-events: none;\n",
       "    opacity: 0;\n",
       "    transition: opacity 0.3s;\n",
       "}\n",
       "\n",
       ".table-container:hover::after {\n",
       "    opacity: 1;\n",
       "}\n",
       "\n",
       "/* Handle Jupyter notebook specific styling */\n",
       ".jp-OutputArea-output .table-container {\n",
       "    max-width: 100%;\n",
       "    margin: 0;\n",
       "    overflow-x: auto;\n",
       "}\n",
       "        </style>\n",
       "        <div class=\"table-container\">\n",
       "            <div class=\"scroll-table-wrapper\">\n",
       "                <table class=\"scroll-table\">\n",
       "<thead>\n",
       "<tr><th>0                                          </th></tr>\n",
       "</thead>\n",
       "<tbody>\n",
       "<tr><td>agent.agent_instruction                    </td></tr>\n",
       "<tr><td>agent.agent_name                           </td></tr>\n",
       "<tr><td>answer.score                               </td></tr>\n",
       "<tr><td>comment.score_comment                      </td></tr>\n",
       "<tr><td>generated_tokens.score_generated_tokens    </td></tr>\n",
       "<tr><td>iteration.iteration                        </td></tr>\n",
       "<tr><td>model.frequency_penalty                    </td></tr>\n",
       "<tr><td>model.logprobs                             </td></tr>\n",
       "<tr><td>model.maxOutputTokens                      </td></tr>\n",
       "<tr><td>model.max_tokens                           </td></tr>\n",
       "<tr><td>model.model                                </td></tr>\n",
       "<tr><td>model.presence_penalty                     </td></tr>\n",
       "<tr><td>model.stopSequences                        </td></tr>\n",
       "<tr><td>model.temperature                          </td></tr>\n",
       "<tr><td>model.topK                                 </td></tr>\n",
       "<tr><td>model.topP                                 </td></tr>\n",
       "<tr><td>model.top_logprobs                         </td></tr>\n",
       "<tr><td>model.top_p                                </td></tr>\n",
       "<tr><td>prompt.score_system_prompt                 </td></tr>\n",
       "<tr><td>prompt.score_user_prompt                   </td></tr>\n",
       "<tr><td>question_options.score_question_options    </td></tr>\n",
       "<tr><td>question_text.score_question_text          </td></tr>\n",
       "<tr><td>question_type.score_question_type          </td></tr>\n",
       "<tr><td>raw_model_response.score_cost              </td></tr>\n",
       "<tr><td>raw_model_response.score_one_usd_buys      </td></tr>\n",
       "<tr><td>raw_model_response.score_raw_model_response</td></tr>\n",
       "<tr><td>scenario.drafting_model                    </td></tr>\n",
       "<tr><td>scenario.haiku                             </td></tr>\n",
       "</tbody>\n",
       "</table>\n",
       "            </div>\n",
       "        </div>\n",
       "        "
      ],
      "text/plain": [
       "PrettyList(['agent.agent_instruction',\n",
       "            'agent.agent_name',\n",
       "            'answer.score',\n",
       "            'comment.score_comment',\n",
       "            'generated_tokens.score_generated_tokens',\n",
       "            'iteration.iteration',\n",
       "            'model.frequency_penalty',\n",
       "            'model.logprobs',\n",
       "            'model.maxOutputTokens',\n",
       "            'model.max_tokens',\n",
       "            'model.model',\n",
       "            'model.presence_penalty',\n",
       "            'model.stopSequences',\n",
       "            'model.temperature',\n",
       "            'model.topK',\n",
       "            'model.topP',\n",
       "            'model.top_logprobs',\n",
       "            'model.top_p',\n",
       "            'prompt.score_system_prompt',\n",
       "            'prompt.score_user_prompt',\n",
       "            'question_options.score_question_options',\n",
       "            'question_text.score_question_text',\n",
       "            'question_type.score_question_type',\n",
       "            'raw_model_response.score_cost',\n",
       "            'raw_model_response.score_one_usd_buys',\n",
       "            'raw_model_response.score_raw_model_response',\n",
       "            'scenario.drafting_model',\n",
       "            'scenario.haiku'])"
      ]
     },
     "execution_count": 16,
     "metadata": {},
     "output_type": "execute_result"
    }
   ],
   "source": [
    "results.columns"
   ]
  },
  {
   "cell_type": "code",
   "execution_count": 17,
   "metadata": {
    "editable": true,
    "slideshow": {
     "slide_type": ""
    },
    "tags": []
   },
   "outputs": [
    {
     "data": {
      "text/html": [
       "<pre style=\"white-space:pre;overflow-x:auto;line-height:normal;font-family:Menlo,'DejaVu Sans Mono',consolas,'Courier New',monospace\"></pre>\n"
      ],
      "text/plain": []
     },
     "metadata": {},
     "output_type": "display_data"
    },
    {
     "data": {
      "text/html": [
       "\n",
       "        <style>\n",
       "            :root {\n",
       "  --containerHeight: 320px;\n",
       "  --headerColor: blue;\n",
       "}\n",
       "\n",
       ".table-container {\n",
       "    height: var(--containerHeight) !important;\n",
       "    width: 100%;\n",
       "    overflow: auto;  /* This enables both horizontal and vertical scrolling */\n",
       "    border: 1px solid #d4d4d4;\n",
       "    background: transparent;\n",
       "    position: relative;  /* Create stacking context for sticky header */\n",
       "}\n",
       "\n",
       ".scroll-table {\n",
       "    /* Remove width: 100% to prevent table from being constrained */\n",
       "    /* min-width: 100% ensures table takes at least full container width */\n",
       "    min-width: 100%;\n",
       "    border-collapse: separate;\n",
       "    border-spacing: 4px;\n",
       "    background: transparent;\n",
       "    table-layout: auto;  /* Allow table to size based on content */\n",
       "}\n",
       "\n",
       ".scroll-table th {\n",
       "    background: transparent;  /* Semi-transparent background to ensure text readability */\n",
       "    position: sticky;\n",
       "    top: 0;\n",
       "    z-index: 1;\n",
       "    text-align: left !important;\n",
       "    padding: 8px;\n",
       "    font-weight: bold;\n",
       "    white-space: nowrap;  /* Prevent header text from wrapping */\n",
       "    min-width: 100px;    /* Ensure minimum column width */\n",
       "    backdrop-filter: blur(8px);  /* Optional: adds extra clarity */\n",
       "    color: var(--headerColor);\n",
       "}\n",
       "\n",
       ".scroll-table td {\n",
       "    padding: 8px;\n",
       "    text-align: left !important;\n",
       "    white-space: pre-wrap;\n",
       "    word-wrap: break-word;\n",
       "    vertical-align: top;\n",
       "    color: inherit;\n",
       "    border-bottom: none;\n",
       "    background: transparent;\n",
       "    min-width: 100px;    /* Match header minimum width */\n",
       "}\n",
       "\n",
       ".scroll-table tbody tr:hover {\n",
       "    background: transparent;\n",
       "}\n",
       "\n",
       "/* Additional rule to ensure header background is truly transparent */\n",
       ".scroll-table thead tr {\n",
       "    background: transparent !important;\n",
       "}\n",
       "\n",
       "/* Add shadow to indicate scrollable content */\n",
       ".table-container::after {\n",
       "    content: '';\n",
       "    position: absolute;\n",
       "    top: 0;\n",
       "    right: 0;\n",
       "    bottom: 0;\n",
       "    width: 5px;\n",
       "    background: linear-gradient(to right, transparent, rgba(242, 6, 6, 0.1));\n",
       "    pointer-events: none;\n",
       "    opacity: 0;\n",
       "    transition: opacity 0.3s;\n",
       "}\n",
       "\n",
       ".table-container:hover::after {\n",
       "    opacity: 1;\n",
       "}\n",
       "\n",
       "/* Handle Jupyter notebook specific styling */\n",
       ".jp-OutputArea-output .table-container {\n",
       "    max-width: 100%;\n",
       "    margin: 0;\n",
       "    overflow-x: auto;\n",
       "}\n",
       "        </style>\n",
       "        <div class=\"table-container\">\n",
       "            <div class=\"scroll-table-wrapper\">\n",
       "                <table class=\"scroll-table\">\n",
       "<thead>\n",
       "<tr><th>Drafting model            </th><th>Scoring model             </th><th style=\"text-align: right;\">  Score</th><th>Haiku  </th></tr>\n",
       "</thead>\n",
       "<tbody>\n",
       "<tr><td>claude-3-5-sonnet-20240620</td><td>claude-3-5-sonnet-20240620</td><td style=\"text-align: right;\">      8</td><td>Fickle seasons change\n",
       "Snow melts, flowers bloom, leaves fall        </td></tr>\n",
       "<tr><td>claude-3-5-sonnet-20240620</td><td>gemini-pro                </td><td style=\"text-align: right;\">      5</td><td>Fickle seasons change\n",
       "Snow melts, flowers bloom, leaves fall        </td></tr>\n",
       "<tr><td>claude-3-5-sonnet-20240620</td><td>gpt-4o                    </td><td style=\"text-align: right;\">      6</td><td>Fickle seasons change\n",
       "Snow melts, flowers bloom, leaves fall        </td></tr>\n",
       "<tr><td>gemini-pro                </td><td>claude-3-5-sonnet-20240620</td><td style=\"text-align: right;\">      5</td><td>Snow in winter&#x27;s grasp,\n",
       "Autumn&#x27;s leaves in vibrant hues,        </td></tr>\n",
       "<tr><td>gemini-pro                </td><td>gemini-pro                </td><td style=\"text-align: right;\">      8</td><td>Snow in winter&#x27;s grasp,\n",
       "Autumn&#x27;s leaves in vibrant hues,        </td></tr>\n",
       "<tr><td>gemini-pro                </td><td>gpt-4o                    </td><td style=\"text-align: right;\">      3</td><td>Snow in winter&#x27;s grasp,\n",
       "Autumn&#x27;s leaves in vibrant hues,        </td></tr>\n",
       "<tr><td>gpt-4o                    </td><td>claude-3-5-sonnet-20240620</td><td style=\"text-align: right;\">      8</td><td>Crisp leaves whispering,  \n",
       "Misty mornings, fleeting sun—        </td></tr>\n",
       "<tr><td>gpt-4o                    </td><td>gemini-pro                </td><td style=\"text-align: right;\">      7</td><td>Crisp leaves whispering,  \n",
       "Misty mornings, fleeting sun—        </td></tr>\n",
       "<tr><td>gpt-4o                    </td><td>gpt-4o                    </td><td style=\"text-align: right;\">      8</td><td>Crisp leaves whispering,  \n",
       "Misty mornings, fleeting sun—        </td></tr>\n",
       "</tbody>\n",
       "</table>\n",
       "            </div>\n",
       "        </div>\n",
       "        "
      ],
      "text/plain": [
       "┏━━━━━━━━━━━━━━━━━━━━━━━━━━━━┳━━━━━━━━━━━━━━━━━━━━━━━━━━━━┳━━━━━━━┳━━━━━━━━━━━━━━━━━━━━━━━━━━━━━━━━━━━━━━━━┓\n",
       "┃\u001b[1m \u001b[0m\u001b[1mDrafting model            \u001b[0m\u001b[1m \u001b[0m┃\u001b[1m \u001b[0m\u001b[1mScoring model             \u001b[0m\u001b[1m \u001b[0m┃\u001b[1m \u001b[0m\u001b[1mScore\u001b[0m\u001b[1m \u001b[0m┃\u001b[1m \u001b[0m\u001b[1mHaiku                                 \u001b[0m\u001b[1m \u001b[0m┃\n",
       "┡━━━━━━━━━━━━━━━━━━━━━━━━━━━━╇━━━━━━━━━━━━━━━━━━━━━━━━━━━━╇━━━━━━━╇━━━━━━━━━━━━━━━━━━━━━━━━━━━━━━━━━━━━━━━━┩\n",
       "│ claude-3-5-sonnet-20240620 │ claude-3-5-sonnet-20240620 │ 8     │ Fickle seasons change                  │\n",
       "│                            │                            │       │ Snow melts, flowers bloom, leaves fall │\n",
       "├────────────────────────────┼────────────────────────────┼───────┼────────────────────────────────────────┤\n",
       "│ claude-3-5-sonnet-20240620 │ gemini-pro                 │ 5     │ Fickle seasons change                  │\n",
       "│                            │                            │       │ Snow melts, flowers bloom, leaves fall │\n",
       "├────────────────────────────┼────────────────────────────┼───────┼────────────────────────────────────────┤\n",
       "│ claude-3-5-sonnet-20240620 │ gpt-4o                     │ 6     │ Fickle seasons change                  │\n",
       "│                            │                            │       │ Snow melts, flowers bloom, leaves fall │\n",
       "├────────────────────────────┼────────────────────────────┼───────┼────────────────────────────────────────┤\n",
       "│ gemini-pro                 │ claude-3-5-sonnet-20240620 │ 5     │ Snow in winter's grasp,                │\n",
       "│                            │                            │       │ Autumn's leaves in vibrant hues,       │\n",
       "├────────────────────────────┼────────────────────────────┼───────┼────────────────────────────────────────┤\n",
       "│ gemini-pro                 │ gemini-pro                 │ 8     │ Snow in winter's grasp,                │\n",
       "│                            │                            │       │ Autumn's leaves in vibrant hues,       │\n",
       "├────────────────────────────┼────────────────────────────┼───────┼────────────────────────────────────────┤\n",
       "│ gemini-pro                 │ gpt-4o                     │ 3     │ Snow in winter's grasp,                │\n",
       "│                            │                            │       │ Autumn's leaves in vibrant hues,       │\n",
       "├────────────────────────────┼────────────────────────────┼───────┼────────────────────────────────────────┤\n",
       "│ gpt-4o                     │ claude-3-5-sonnet-20240620 │ 8     │ Crisp leaves whispering,               │\n",
       "│                            │                            │       │ Misty mornings, fleeting sun—          │\n",
       "├────────────────────────────┼────────────────────────────┼───────┼────────────────────────────────────────┤\n",
       "│ gpt-4o                     │ gemini-pro                 │ 7     │ Crisp leaves whispering,               │\n",
       "│                            │                            │       │ Misty mornings, fleeting sun—          │\n",
       "├────────────────────────────┼────────────────────────────┼───────┼────────────────────────────────────────┤\n",
       "│ gpt-4o                     │ gpt-4o                     │ 8     │ Crisp leaves whispering,               │\n",
       "│                            │                            │       │ Misty mornings, fleeting sun—          │\n",
       "└────────────────────────────┴────────────────────────────┴───────┴────────────────────────────────────────┘"
      ]
     },
     "execution_count": 17,
     "metadata": {},
     "output_type": "execute_result"
    }
   ],
   "source": [
    "(\n",
    "    results.sort_by(\"drafting_model\", \"model\")\n",
    "    .select(\"drafting_model\", \"model\", \"score\", \"haiku\")\n",
    "    .print(\n",
    "        pretty_labels = {\n",
    "            \"scenario.drafting_model\": \"Drafting model\",\n",
    "            \"model.model\": \"Scoring model\",\n",
    "            \"answer.score\": \"Score\",\n",
    "            \"scenario.haiku\": \"Haiku\"\n",
    "        }\n",
    "    )\n",
    ")"
   ]
  },
  {
   "cell_type": "markdown",
   "metadata": {
    "editable": true,
    "slideshow": {
     "slide_type": ""
    },
    "tags": []
   },
   "source": [
    "## Posting to the Coop\n",
    "The [Coop](https://www.expectedparrot.com/content/explore) is a platform for creating, storing and sharing LLM-based research.\n",
    "It is fully integrated with EDSL and accessible from your workspace or Coop account page.\n",
    "Learn more about [creating an account](https://www.expectedparrot.com/login) and [using the Coop](https://docs.expectedparrot.com/en/latest/coop.html).\n",
    "\n",
    "Here we post this notebook:"
   ]
  },
  {
   "cell_type": "code",
   "execution_count": 18,
   "metadata": {
    "editable": true,
    "slideshow": {
     "slide_type": ""
    },
    "tags": [
     "skip-execution"
    ]
   },
   "outputs": [],
   "source": [
    "from edsl import Notebook"
   ]
  },
  {
   "cell_type": "code",
   "execution_count": 19,
   "metadata": {
    "editable": true,
    "slideshow": {
     "slide_type": ""
    },
    "tags": [
     "skip-execution"
    ]
   },
   "outputs": [],
   "source": [
    "n = Notebook(path = \"explore_llm_biases.ipynb\")"
   ]
  },
  {
   "cell_type": "code",
   "execution_count": 20,
   "metadata": {
    "editable": true,
    "slideshow": {
     "slide_type": ""
    },
    "tags": [
     "skip-execution"
    ]
   },
   "outputs": [
    {
     "data": {
      "text/plain": [
       "{'description': 'Example code for comparing model responses and biases',\n",
       " 'object_type': 'notebook',\n",
       " 'url': 'https://www.expectedparrot.com/content/76b22376-49ad-43b2-aca7-8384c1ade626',\n",
       " 'uuid': '76b22376-49ad-43b2-aca7-8384c1ade626',\n",
       " 'version': '0.1.39.dev1',\n",
       " 'visibility': 'public'}"
      ]
     },
     "execution_count": 20,
     "metadata": {},
     "output_type": "execute_result"
    }
   ],
   "source": [
    "info = n.push(description = \"Example code for comparing model responses and biases\", visibility = \"public\")\n",
    "info"
   ]
  },
  {
   "cell_type": "markdown",
   "metadata": {
    "editable": true,
    "slideshow": {
     "slide_type": ""
    },
    "tags": []
   },
   "source": [
    "To update an object:"
   ]
  },
  {
   "cell_type": "code",
   "execution_count": 21,
   "metadata": {
    "editable": true,
    "slideshow": {
     "slide_type": ""
    },
    "tags": [
     "skip-execution"
    ]
   },
   "outputs": [],
   "source": [
    "n = Notebook(path = \"explore_llm_biases.ipynb\") # resave it"
   ]
  },
  {
   "cell_type": "code",
   "execution_count": 22,
   "metadata": {
    "editable": true,
    "slideshow": {
     "slide_type": ""
    },
    "tags": [
     "skip-execution"
    ]
   },
   "outputs": [
    {
     "data": {
      "text/plain": [
       "{'status': 'success'}"
      ]
     },
     "execution_count": 22,
     "metadata": {},
     "output_type": "execute_result"
    }
   ],
   "source": [
    "n.patch(uuid = info[\"uuid\"], value = n)"
   ]
  }
 ],
 "metadata": {
  "deepnote_execution_queue": [],
  "deepnote_notebook_id": "6d1e666ba52649708894044c2a755567",
  "deepnote_persisted_session": {
   "createdAt": "2024-03-01T17:07:23.650Z"
  },
  "kernelspec": {
   "display_name": "Python 3 (ipykernel)",
   "language": "python",
   "name": "python3"
  },
  "language_info": {
   "codemirror_mode": {
    "name": "ipython",
    "version": 3
   },
   "file_extension": ".py",
   "mimetype": "text/x-python",
   "name": "python",
   "nbconvert_exporter": "python",
   "pygments_lexer": "ipython3",
   "version": "3.11.7"
  }
 },
 "nbformat": 4,
 "nbformat_minor": 4
}
