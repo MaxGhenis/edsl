{
 "cells": [
  {
   "cell_type": "markdown",
   "id": "446fbff6-9d9b-456a-88c6-3a279f50dca6",
   "metadata": {
    "editable": true,
    "slideshow": {
     "slide_type": ""
    },
    "tags": []
   },
   "source": [
    "# Save & load objects\n",
    "This notebook demonstrates methods for [saving](https://github.com/expectedparrot/edsl/blob/69429fe1dba63867eab57973edb39930b2a7d510/edsl/base/Base.py#L104) and [loading](https://github.com/expectedparrot/edsl/blob/69429fe1dba63867eab57973edb39930b2a7d510/edsl/base/Base.py#L145) EDSL objects locally."
   ]
  },
  {
   "cell_type": "code",
   "execution_count": 1,
   "id": "bd43c553-812c-4722-8851-6125329a8427",
   "metadata": {
    "editable": true,
    "slideshow": {
     "slide_type": ""
    },
    "tags": []
   },
   "outputs": [],
   "source": [
    "from edsl import QuestionFreeText, Survey, ScenarioList, Scenario, AgentList, Agent"
   ]
  },
  {
   "cell_type": "markdown",
   "id": "350bbef8-8f40-4478-8818-3d2b7480a608",
   "metadata": {
    "editable": true,
    "slideshow": {
     "slide_type": ""
    },
    "tags": []
   },
   "source": [
    "## Example objects\n",
    "You can call the `example()` method on any object to see and use an example:"
   ]
  },
  {
   "cell_type": "code",
   "execution_count": 2,
   "id": "c07b3a03-0df9-4c27-9e39-183f9aade30e",
   "metadata": {
    "editable": true,
    "slideshow": {
     "slide_type": ""
    },
    "tags": []
   },
   "outputs": [],
   "source": [
    "my_question = QuestionFreeText.example()\n",
    "my_survey = Survey.example()\n",
    "my_scenariolist = ScenarioList.example()\n",
    "my_scenario = Scenario.example()\n",
    "my_agentlist = AgentList.example()\n",
    "my_agent = Agent.example()"
   ]
  },
  {
   "cell_type": "markdown",
   "id": "0248c2e0-f37a-4f6f-813d-b9f3e7c3c282",
   "metadata": {
    "editable": true,
    "slideshow": {
     "slide_type": ""
    },
    "tags": []
   },
   "source": [
    "## Saving objects \n",
    "You can call the `save()` method on an object to save it as a compressed json file:"
   ]
  },
  {
   "cell_type": "code",
   "execution_count": 3,
   "id": "e0eb637e-bbec-43df-9f13-93c24c7e00ab",
   "metadata": {
    "editable": true,
    "slideshow": {
     "slide_type": ""
    },
    "tags": []
   },
   "outputs": [
    {
     "name": "stdout",
     "output_type": "stream",
     "text": [
      "Saved to saved_question.json.gz\n",
      "Saved to saved_survey.json.gz\n",
      "Saved to saved_scenariolist.json.gz\n",
      "Saved to saved_scenario.json.gz\n",
      "Saved to saved_agentlist.json.gz\n",
      "Saved to saved_agent.json.gz\n"
     ]
    }
   ],
   "source": [
    "my_question.save(\"saved_question\")\n",
    "my_survey.save(\"saved_survey\")\n",
    "my_scenariolist.save(\"saved_scenariolist\")\n",
    "my_scenario.save(\"saved_scenario\")\n",
    "my_agentlist.save(\"saved_agentlist\")\n",
    "my_agent.save(\"saved_agent\")"
   ]
  },
  {
   "cell_type": "markdown",
   "id": "16485c33-d0f3-4cca-8f97-8cd36fc3e6a9",
   "metadata": {
    "editable": true,
    "slideshow": {
     "slide_type": ""
    },
    "tags": []
   },
   "source": [
    "## Loading objects\n",
    "You can call the `load()` method on an object class to create an object from a json file:"
   ]
  },
  {
   "cell_type": "code",
   "execution_count": 4,
   "id": "80103a00-a16d-411c-a58f-96f41d0ac7a7",
   "metadata": {
    "editable": true,
    "slideshow": {
     "slide_type": ""
    },
    "tags": []
   },
   "outputs": [],
   "source": [
    "my_saved_question = QuestionFreeText.load(\"saved_question.json.gz\")\n",
    "my_saved_survey = Survey.load(\"saved_survey.json.gz\")\n",
    "my_saved_scenariolist = ScenarioList.load(\"saved_scenariolist.json.gz\")\n",
    "my_saved_scenario = Scenario.load(\"saved_scenario.json.gz\")\n",
    "my_saved_agentlist = AgentList.load(\"saved_agentlist.json.gz\")\n",
    "my_saved_agent = Agent.load(\"saved_agent.json.gz\")"
   ]
  },
  {
   "cell_type": "markdown",
   "id": "1768c46d-6aa2-433d-a803-b307837c65f0",
   "metadata": {
    "editable": true,
    "slideshow": {
     "slide_type": ""
    },
    "tags": []
   },
   "source": [
    "## Compare\n",
    "Here we verify the original and saved/loaded objects are identical:"
   ]
  },
  {
   "cell_type": "code",
   "execution_count": 5,
   "id": "72acabab-1f97-4005-a134-a562e8d000f2",
   "metadata": {
    "editable": true,
    "slideshow": {
     "slide_type": ""
    },
    "tags": []
   },
   "outputs": [
    {
     "data": {
      "text/plain": [
       "True"
      ]
     },
     "execution_count": 5,
     "metadata": {},
     "output_type": "execute_result"
    }
   ],
   "source": [
    "my_question == my_saved_question"
   ]
  },
  {
   "cell_type": "code",
   "execution_count": 6,
   "id": "15cd2ed7-7300-429a-8bf2-34ace42297fd",
   "metadata": {
    "editable": true,
    "slideshow": {
     "slide_type": ""
    },
    "tags": []
   },
   "outputs": [
    {
     "data": {
      "text/plain": [
       "True"
      ]
     },
     "execution_count": 6,
     "metadata": {},
     "output_type": "execute_result"
    }
   ],
   "source": [
    "my_survey == my_saved_survey"
   ]
  },
  {
   "cell_type": "code",
   "execution_count": 7,
   "id": "afe9a71b-cfe6-4fd3-b0d0-417437d51418",
   "metadata": {
    "editable": true,
    "slideshow": {
     "slide_type": ""
    },
    "tags": []
   },
   "outputs": [
    {
     "data": {
      "text/plain": [
       "True"
      ]
     },
     "execution_count": 7,
     "metadata": {},
     "output_type": "execute_result"
    }
   ],
   "source": [
    "my_scenariolist == my_saved_scenariolist"
   ]
  },
  {
   "cell_type": "code",
   "execution_count": 8,
   "id": "191e573b-e4c9-4e09-9f43-c2302c7050a2",
   "metadata": {
    "editable": true,
    "slideshow": {
     "slide_type": ""
    },
    "tags": []
   },
   "outputs": [
    {
     "data": {
      "text/plain": [
       "True"
      ]
     },
     "execution_count": 8,
     "metadata": {},
     "output_type": "execute_result"
    }
   ],
   "source": [
    "my_scenario == my_saved_scenario"
   ]
  },
  {
   "cell_type": "code",
   "execution_count": 9,
   "id": "5ef5b4cc-9279-4844-81a7-c48540e3c162",
   "metadata": {
    "editable": true,
    "slideshow": {
     "slide_type": ""
    },
    "tags": []
   },
   "outputs": [
    {
     "data": {
      "text/plain": [
       "True"
      ]
     },
     "execution_count": 9,
     "metadata": {},
     "output_type": "execute_result"
    }
   ],
   "source": [
    "my_agentlist == my_saved_agentlist"
   ]
  },
  {
   "cell_type": "code",
   "execution_count": 10,
   "id": "c1f9328f-674c-49a0-9a74-010646f5d330",
   "metadata": {
    "editable": true,
    "slideshow": {
     "slide_type": ""
    },
    "tags": []
   },
   "outputs": [
    {
     "data": {
      "text/plain": [
       "True"
      ]
     },
     "execution_count": 10,
     "metadata": {},
     "output_type": "execute_result"
    }
   ],
   "source": [
    "my_agent == my_saved_agent"
   ]
  },
  {
   "cell_type": "markdown",
   "id": "5a0db248-ccc9-4101-a012-e9e5cfd1d393",
   "metadata": {
    "editable": true,
    "slideshow": {
     "slide_type": ""
    },
    "tags": [
     "skip-execution"
    ]
   },
   "source": [
    "## Posting to Coop\n",
    "Here we post all the objects and this notebook to the Coop.\n",
    "Learn more about [using the Coop](https://docs.expectedparrot.com/en/latest/coop.html)."
   ]
  },
  {
   "cell_type": "code",
   "execution_count": 11,
   "id": "5ccb72e4-d2e8-446c-950b-fe1827d2df5c",
   "metadata": {
    "editable": true,
    "slideshow": {
     "slide_type": ""
    },
    "tags": [
     "skip-execution"
    ]
   },
   "outputs": [
    {
     "data": {
      "text/plain": [
       "{'description': 'Example free text question',\n",
       " 'object_type': 'question',\n",
       " 'url': 'https://www.expectedparrot.com/content/2dad2cbd-4472-4777-bdf3-d14d1281e972',\n",
       " 'uuid': '2dad2cbd-4472-4777-bdf3-d14d1281e972',\n",
       " 'version': '0.1.47.dev1',\n",
       " 'visibility': 'public'}"
      ]
     },
     "execution_count": 11,
     "metadata": {},
     "output_type": "execute_result"
    }
   ],
   "source": [
    "my_question.push(\n",
    "    description = \"Example free text question\", \n",
    "    alias = \"example-free-text-question\",\n",
    "    visibility = \"public\"\n",
    ")"
   ]
  },
  {
   "cell_type": "code",
   "execution_count": 13,
   "id": "fda8bcbf-49e1-43de-9129-15bec4de7d74",
   "metadata": {
    "editable": true,
    "slideshow": {
     "slide_type": ""
    },
    "tags": [
     "skip-execution"
    ]
   },
   "outputs": [
    {
     "data": {
      "text/plain": [
       "{'description': 'Example survey',\n",
       " 'object_type': 'survey',\n",
       " 'url': 'https://www.expectedparrot.com/content/b66948bb-ca91-4d22-a5b3-2f3fcbe83c6b',\n",
       " 'uuid': 'b66948bb-ca91-4d22-a5b3-2f3fcbe83c6b',\n",
       " 'version': '0.1.47.dev1',\n",
       " 'visibility': 'public'}"
      ]
     },
     "execution_count": 13,
     "metadata": {},
     "output_type": "execute_result"
    }
   ],
   "source": [
    "my_survey.push(\n",
    "    description = \"Example survey\", \n",
    "    alias = \"another-example-survey\",\n",
    "    visibility = \"public\"\n",
    ")"
   ]
  },
  {
   "cell_type": "code",
   "execution_count": 14,
   "id": "87ad34e9-e8e4-4450-a6ad-fd7352c581e4",
   "metadata": {
    "editable": true,
    "slideshow": {
     "slide_type": ""
    },
    "tags": [
     "skip-execution"
    ]
   },
   "outputs": [
    {
     "data": {
      "text/plain": [
       "{'description': 'Example scenario list',\n",
       " 'object_type': 'scenario_list',\n",
       " 'url': 'https://www.expectedparrot.com/content/da5c78da-3342-4de5-8184-89958edc3a1e',\n",
       " 'uuid': 'da5c78da-3342-4de5-8184-89958edc3a1e',\n",
       " 'version': '0.1.47.dev1',\n",
       " 'visibility': 'public'}"
      ]
     },
     "execution_count": 14,
     "metadata": {},
     "output_type": "execute_result"
    }
   ],
   "source": [
    "my_scenariolist.push(\n",
    "    description = \"Example scenario list\", \n",
    "    alias = \"example-scenario-list\",\n",
    "    visibility = \"public\"\n",
    ")"
   ]
  },
  {
   "cell_type": "code",
   "execution_count": 15,
   "id": "367d1d0d-216e-4f2d-bc97-9c6ab97ba35a",
   "metadata": {
    "editable": true,
    "slideshow": {
     "slide_type": ""
    },
    "tags": [
     "skip-execution"
    ]
   },
   "outputs": [
    {
     "data": {
      "text/plain": [
       "{'description': 'Example scenario',\n",
       " 'object_type': 'scenario',\n",
       " 'url': 'https://www.expectedparrot.com/content/48f16cf2-4c2b-40f2-9b06-bfba007fb3cb',\n",
       " 'uuid': '48f16cf2-4c2b-40f2-9b06-bfba007fb3cb',\n",
       " 'version': '0.1.47.dev1',\n",
       " 'visibility': 'public'}"
      ]
     },
     "execution_count": 15,
     "metadata": {},
     "output_type": "execute_result"
    }
   ],
   "source": [
    "my_scenario.push(\n",
    "    description = \"Example scenario\", \n",
    "    alias = \"example-scenario\",\n",
    "    visibility = \"public\"\n",
    ")"
   ]
  },
  {
   "cell_type": "code",
   "execution_count": 16,
   "id": "226a0d92-31a4-4294-a03e-d6848fbbc029",
   "metadata": {
    "editable": true,
    "slideshow": {
     "slide_type": ""
    },
    "tags": [
     "skip-execution"
    ]
   },
   "outputs": [
    {
     "data": {
      "text/plain": [
       "{'description': 'Example agent list',\n",
       " 'object_type': 'agent_list',\n",
       " 'url': 'https://www.expectedparrot.com/content/a8697706-fddc-4cee-9a61-2362f0c313c1',\n",
       " 'uuid': 'a8697706-fddc-4cee-9a61-2362f0c313c1',\n",
       " 'version': '0.1.47.dev1',\n",
       " 'visibility': 'public'}"
      ]
     },
     "execution_count": 16,
     "metadata": {},
     "output_type": "execute_result"
    }
   ],
   "source": [
    "my_agentlist.push(\n",
    "    description = \"Example agent list\", \n",
    "    alias = \"example-agent-list\",\n",
    "    visibility = \"public\"\n",
    ")"
   ]
  },
  {
   "cell_type": "code",
   "execution_count": 17,
   "id": "73e1e9ec-8807-47f5-8135-27e03ab62666",
   "metadata": {
    "editable": true,
    "slideshow": {
     "slide_type": ""
    },
    "tags": [
     "skip-execution"
    ]
   },
   "outputs": [
    {
     "data": {
      "text/plain": [
       "{'description': 'Example agent',\n",
       " 'object_type': 'agent',\n",
       " 'url': 'https://www.expectedparrot.com/content/0e067661-8104-4d10-a2ee-0058ec1510c1',\n",
       " 'uuid': '0e067661-8104-4d10-a2ee-0058ec1510c1',\n",
       " 'version': '0.1.47.dev1',\n",
       " 'visibility': 'public'}"
      ]
     },
     "execution_count": 17,
     "metadata": {},
     "output_type": "execute_result"
    }
   ],
   "source": [
    "my_agent.push(\n",
    "    description = \"Example agent\", \n",
    "    alias = \"example-agent\",\n",
    "    visibility = \"public\"\n",
    ")"
   ]
  },
  {
   "cell_type": "markdown",
   "id": "a38a2d93-85d4-488d-b117-204cb7c97c97",
   "metadata": {
    "editable": true,
    "slideshow": {
     "slide_type": ""
    },
    "tags": []
   },
   "source": [
    "Here we post this notebook:"
   ]
  },
  {
   "cell_type": "code",
   "execution_count": 19,
   "id": "08983b5c-b6ce-44f4-ad8c-8505db6b290e",
   "metadata": {
    "editable": true,
    "slideshow": {
     "slide_type": ""
    },
    "tags": [
     "skip-execution"
    ]
   },
   "outputs": [],
   "source": [
    "from edsl import Notebook\n",
    "\n",
    "nb = Notebook(\"save_load_objects_locally.ipynb\")\n",
    "\n",
    "if refresh := False:\n",
    "    nb.push(\n",
    "        description = \"Methods for saving and loading objects locally\", \n",
    "        alias = \"load-save-local-objects-notebook\",\n",
    "        visibility = \"public\"\n",
    "    )\n",
    "else:\n",
    "    nb.patch('c4847503-55c0-4267-be37-8415a7f17fac', value = nb)"
   ]
  }
 ],
 "metadata": {
  "kernelspec": {
   "display_name": "Python 3 (ipykernel)",
   "language": "python",
   "name": "python3"
  },
  "language_info": {
   "codemirror_mode": {
    "name": "ipython",
    "version": 3
   },
   "file_extension": ".py",
   "mimetype": "text/x-python",
   "name": "python",
   "nbconvert_exporter": "python",
   "pygments_lexer": "ipython3",
   "version": "3.11.7"
  }
 },
 "nbformat": 4,
 "nbformat_minor": 5
}
