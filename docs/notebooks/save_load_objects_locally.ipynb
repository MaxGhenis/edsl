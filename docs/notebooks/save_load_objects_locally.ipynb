{
 "cells": [
  {
   "cell_type": "markdown",
   "id": "446fbff6-9d9b-456a-88c6-3a279f50dca6",
   "metadata": {},
   "source": [
    "# Save & load objects\n",
    "This notebook demonstrates methods for [saving](https://github.com/expectedparrot/edsl/blob/69429fe1dba63867eab57973edb39930b2a7d510/edsl/base/Base.py#L104) and [loading](https://github.com/expectedparrot/edsl/blob/69429fe1dba63867eab57973edb39930b2a7d510/edsl/base/Base.py#L145) EDSL objects locally."
   ]
  },
  {
   "cell_type": "code",
   "execution_count": 1,
   "id": "bd43c553-812c-4722-8851-6125329a8427",
   "metadata": {},
   "outputs": [],
   "source": [
    "from edsl import QuestionFreeText, Survey, ScenarioList, Scenario, AgentList, Agent"
   ]
  },
  {
   "cell_type": "markdown",
   "id": "350bbef8-8f40-4478-8818-3d2b7480a608",
   "metadata": {},
   "source": [
    "## Example objects\n",
    "You can call the `example()` method on any object to see and use an example:"
   ]
  },
  {
   "cell_type": "code",
   "execution_count": 2,
   "id": "c07b3a03-0df9-4c27-9e39-183f9aade30e",
   "metadata": {},
   "outputs": [],
   "source": [
    "my_question = QuestionFreeText.example()\n",
    "my_survey = Survey.example()\n",
    "my_scenariolist = ScenarioList.example()\n",
    "my_scenario = Scenario.example()\n",
    "my_agentlist = AgentList.example()\n",
    "my_agent = Agent.example()"
   ]
  },
  {
   "cell_type": "markdown",
   "id": "0248c2e0-f37a-4f6f-813d-b9f3e7c3c282",
   "metadata": {},
   "source": [
    "## Saving objects \n",
    "You can call the `save()` method on an object to save it as a compressed json file:"
   ]
  },
  {
   "cell_type": "code",
   "execution_count": 3,
   "id": "e0eb637e-bbec-43df-9f13-93c24c7e00ab",
   "metadata": {},
   "outputs": [
    {
     "name": "stdout",
     "output_type": "stream",
     "text": [
      "Saved to saved_question.json.gz\n",
      "Saved to saved_survey.json.gz\n",
      "Saved to saved_scenariolist.json.gz\n",
      "Saved to saved_scenario.json.gz\n",
      "Saved to saved_agentlist.json.gz\n",
      "Saved to saved_agent.json.gz\n"
     ]
    }
   ],
   "source": [
    "my_question.save(\"saved_question\")\n",
    "my_survey.save(\"saved_survey\")\n",
    "my_scenariolist.save(\"saved_scenariolist\")\n",
    "my_scenario.save(\"saved_scenario\")\n",
    "my_agentlist.save(\"saved_agentlist\")\n",
    "my_agent.save(\"saved_agent\")"
   ]
  },
  {
   "cell_type": "markdown",
   "id": "16485c33-d0f3-4cca-8f97-8cd36fc3e6a9",
   "metadata": {},
   "source": [
    "## Loading objects\n",
    "You can call the `load()` method on an object class to create an object from a json file:"
   ]
  },
  {
   "cell_type": "code",
   "execution_count": 4,
   "id": "80103a00-a16d-411c-a58f-96f41d0ac7a7",
   "metadata": {},
   "outputs": [],
   "source": [
    "my_saved_question = QuestionFreeText.load(\"saved_question.json.gz\")\n",
    "my_saved_survey = Survey.load(\"saved_survey.json.gz\")\n",
    "my_saved_scenariolist = ScenarioList.load(\"saved_scenariolist.json.gz\")\n",
    "my_saved_scenario = Scenario.load(\"saved_scenario.json.gz\")\n",
    "my_saved_agentlist = AgentList.load(\"saved_agentlist.json.gz\")\n",
    "my_saved_agent = Agent.load(\"saved_agent.json.gz\")"
   ]
  },
  {
   "cell_type": "markdown",
   "id": "1768c46d-6aa2-433d-a803-b307837c65f0",
   "metadata": {},
   "source": [
    "## Compare\n",
    "Here we verify the original and saved/loaded objects are identical:"
   ]
  },
  {
   "cell_type": "code",
   "execution_count": 5,
   "id": "72acabab-1f97-4005-a134-a562e8d000f2",
   "metadata": {},
   "outputs": [
    {
     "data": {
      "text/plain": [
       "True"
      ]
     },
     "execution_count": 5,
     "metadata": {},
     "output_type": "execute_result"
    }
   ],
   "source": [
    "my_question == my_saved_question"
   ]
  },
  {
   "cell_type": "code",
   "execution_count": 6,
   "id": "15cd2ed7-7300-429a-8bf2-34ace42297fd",
   "metadata": {},
   "outputs": [
    {
     "data": {
      "text/plain": [
       "True"
      ]
     },
     "execution_count": 6,
     "metadata": {},
     "output_type": "execute_result"
    }
   ],
   "source": [
    "my_survey == my_saved_survey"
   ]
  },
  {
   "cell_type": "code",
   "execution_count": 7,
   "id": "afe9a71b-cfe6-4fd3-b0d0-417437d51418",
   "metadata": {},
   "outputs": [
    {
     "data": {
      "text/plain": [
       "True"
      ]
     },
     "execution_count": 7,
     "metadata": {},
     "output_type": "execute_result"
    }
   ],
   "source": [
    "my_scenariolist == my_saved_scenariolist"
   ]
  },
  {
   "cell_type": "code",
   "execution_count": 8,
   "id": "191e573b-e4c9-4e09-9f43-c2302c7050a2",
   "metadata": {},
   "outputs": [
    {
     "data": {
      "text/plain": [
       "True"
      ]
     },
     "execution_count": 8,
     "metadata": {},
     "output_type": "execute_result"
    }
   ],
   "source": [
    "my_scenario == my_saved_scenario"
   ]
  },
  {
   "cell_type": "code",
   "execution_count": 9,
   "id": "5ef5b4cc-9279-4844-81a7-c48540e3c162",
   "metadata": {},
   "outputs": [
    {
     "data": {
      "text/plain": [
       "True"
      ]
     },
     "execution_count": 9,
     "metadata": {},
     "output_type": "execute_result"
    }
   ],
   "source": [
    "my_agentlist == my_saved_agentlist"
   ]
  },
  {
   "cell_type": "code",
   "execution_count": 10,
   "id": "c1f9328f-674c-49a0-9a74-010646f5d330",
   "metadata": {},
   "outputs": [
    {
     "data": {
      "text/plain": [
       "True"
      ]
     },
     "execution_count": 10,
     "metadata": {},
     "output_type": "execute_result"
    }
   ],
   "source": [
    "my_agent == my_saved_agent"
   ]
  },
  {
   "cell_type": "markdown",
   "id": "5a0db248-ccc9-4101-a012-e9e5cfd1d393",
   "metadata": {
    "editable": true,
    "slideshow": {
     "slide_type": ""
    },
    "tags": [
     "skip-execution"
    ]
   },
   "source": [
    "## Posting to Coop\n",
    "Here we post all the objects and this notebook to the Coop.\n",
    "Learn more about [using the Coop](https://docs.expectedparrot.com/en/latest/coop.html)."
   ]
  },
  {
   "cell_type": "code",
   "execution_count": 11,
   "id": "5ccb72e4-d2e8-446c-950b-fe1827d2df5c",
   "metadata": {
    "editable": true,
    "slideshow": {
     "slide_type": ""
    },
    "tags": [
     "skip-execution"
    ]
   },
   "outputs": [
    {
     "data": {
      "text/plain": [
       "{'description': 'Example free text question',\n",
       " 'object_type': 'question',\n",
       " 'url': 'https://www.expectedparrot.com/content/8abffbe4-9f28-4f31-adcb-c8b14a748c98',\n",
       " 'uuid': '8abffbe4-9f28-4f31-adcb-c8b14a748c98',\n",
       " 'version': '0.1.36.dev1',\n",
       " 'visibility': 'public'}"
      ]
     },
     "execution_count": 11,
     "metadata": {},
     "output_type": "execute_result"
    }
   ],
   "source": [
    "my_question.push(description = \"Example free text question\", visibility = \"public\")"
   ]
  },
  {
   "cell_type": "code",
   "execution_count": 12,
   "id": "fda8bcbf-49e1-43de-9129-15bec4de7d74",
   "metadata": {
    "editable": true,
    "slideshow": {
     "slide_type": ""
    },
    "tags": [
     "skip-execution"
    ]
   },
   "outputs": [
    {
     "data": {
      "text/plain": [
       "{'description': 'Example survey',\n",
       " 'object_type': 'survey',\n",
       " 'url': 'https://www.expectedparrot.com/content/453f02b3-f6a8-46bf-b3f3-bde14a47d9a4',\n",
       " 'uuid': '453f02b3-f6a8-46bf-b3f3-bde14a47d9a4',\n",
       " 'version': '0.1.36.dev1',\n",
       " 'visibility': 'public'}"
      ]
     },
     "execution_count": 12,
     "metadata": {},
     "output_type": "execute_result"
    }
   ],
   "source": [
    "my_survey.push(description = \"Example survey\", visibility = \"public\")"
   ]
  },
  {
   "cell_type": "code",
   "execution_count": 13,
   "id": "87ad34e9-e8e4-4450-a6ad-fd7352c581e4",
   "metadata": {
    "editable": true,
    "slideshow": {
     "slide_type": ""
    },
    "tags": [
     "skip-execution"
    ]
   },
   "outputs": [
    {
     "data": {
      "text/plain": [
       "{'description': 'Example scenario list',\n",
       " 'object_type': 'scenario_list',\n",
       " 'url': 'https://www.expectedparrot.com/content/555e9059-144a-41f4-9c83-ac97cccda3e5',\n",
       " 'uuid': '555e9059-144a-41f4-9c83-ac97cccda3e5',\n",
       " 'version': '0.1.36.dev1',\n",
       " 'visibility': 'public'}"
      ]
     },
     "execution_count": 13,
     "metadata": {},
     "output_type": "execute_result"
    }
   ],
   "source": [
    "my_scenariolist.push(description = \"Example scenario list\", visibility = \"public\")"
   ]
  },
  {
   "cell_type": "code",
   "execution_count": 14,
   "id": "367d1d0d-216e-4f2d-bc97-9c6ab97ba35a",
   "metadata": {
    "editable": true,
    "slideshow": {
     "slide_type": ""
    },
    "tags": [
     "skip-execution"
    ]
   },
   "outputs": [
    {
     "data": {
      "text/plain": [
       "{'description': 'Example scenario',\n",
       " 'object_type': 'scenario',\n",
       " 'url': 'https://www.expectedparrot.com/content/083a3aaa-2496-4f98-aafb-6a12bf74987d',\n",
       " 'uuid': '083a3aaa-2496-4f98-aafb-6a12bf74987d',\n",
       " 'version': '0.1.36.dev1',\n",
       " 'visibility': 'public'}"
      ]
     },
     "execution_count": 14,
     "metadata": {},
     "output_type": "execute_result"
    }
   ],
   "source": [
    "my_scenario.push(description = \"Example scenario\", visibility = \"public\")"
   ]
  },
  {
   "cell_type": "code",
   "execution_count": 15,
   "id": "226a0d92-31a4-4294-a03e-d6848fbbc029",
   "metadata": {
    "editable": true,
    "slideshow": {
     "slide_type": ""
    },
    "tags": [
     "skip-execution"
    ]
   },
   "outputs": [
    {
     "data": {
      "text/plain": [
       "{'description': 'Example agent list',\n",
       " 'object_type': 'agent_list',\n",
       " 'url': 'https://www.expectedparrot.com/content/9bc1fd36-8a81-4c01-9764-57fdd9756b83',\n",
       " 'uuid': '9bc1fd36-8a81-4c01-9764-57fdd9756b83',\n",
       " 'version': '0.1.36.dev1',\n",
       " 'visibility': 'public'}"
      ]
     },
     "execution_count": 15,
     "metadata": {},
     "output_type": "execute_result"
    }
   ],
   "source": [
    "my_agentlist.push(description = \"Example agent list\", visibility = \"public\")"
   ]
  },
  {
   "cell_type": "code",
   "execution_count": 16,
   "id": "73e1e9ec-8807-47f5-8135-27e03ab62666",
   "metadata": {
    "editable": true,
    "slideshow": {
     "slide_type": ""
    },
    "tags": [
     "skip-execution"
    ]
   },
   "outputs": [
    {
     "data": {
      "text/plain": [
       "{'description': 'Example agent',\n",
       " 'object_type': 'agent',\n",
       " 'url': 'https://www.expectedparrot.com/content/58fb1d4c-fc30-48c6-8316-53783a40d2e7',\n",
       " 'uuid': '58fb1d4c-fc30-48c6-8316-53783a40d2e7',\n",
       " 'version': '0.1.36.dev1',\n",
       " 'visibility': 'public'}"
      ]
     },
     "execution_count": 16,
     "metadata": {},
     "output_type": "execute_result"
    }
   ],
   "source": [
    "my_agent.push(description = \"Example agent\", visibility = \"public\")"
   ]
  },
  {
   "cell_type": "code",
   "execution_count": 17,
   "id": "08983b5c-b6ce-44f4-ad8c-8505db6b290e",
   "metadata": {
    "editable": true,
    "slideshow": {
     "slide_type": ""
    },
    "tags": [
     "skip-execution"
    ]
   },
   "outputs": [],
   "source": [
    "from edsl import Notebook"
   ]
  },
  {
   "cell_type": "code",
   "execution_count": 18,
   "id": "b87774e1-31c7-4890-8cb9-c2523d722dae",
   "metadata": {
    "editable": true,
    "slideshow": {
     "slide_type": ""
    },
    "tags": [
     "skip-execution"
    ]
   },
   "outputs": [],
   "source": [
    "n = Notebook(path = \"save_load_objects_locally.ipynb\")"
   ]
  },
  {
   "cell_type": "code",
   "execution_count": 19,
   "id": "d7c07b81-b6a8-4cf7-9269-9ac93c58606a",
   "metadata": {
    "editable": true,
    "slideshow": {
     "slide_type": ""
    },
    "tags": [
     "skip-execution"
    ]
   },
   "outputs": [
    {
     "data": {
      "text/plain": [
       "{'description': 'Methods for saving and loading objects locally',\n",
       " 'object_type': 'notebook',\n",
       " 'url': 'https://www.expectedparrot.com/content/5496e997-b04e-4cf8-bd25-25180f2768fd',\n",
       " 'uuid': '5496e997-b04e-4cf8-bd25-25180f2768fd',\n",
       " 'version': '0.1.36.dev1',\n",
       " 'visibility': 'public'}"
      ]
     },
     "execution_count": 19,
     "metadata": {},
     "output_type": "execute_result"
    }
   ],
   "source": [
    "n.push(description = \"Methods for saving and loading objects locally\", visibility = \"public\")"
   ]
  },
  {
   "cell_type": "markdown",
   "id": "05a15882-0545-4cad-b06d-394b882d446b",
   "metadata": {},
   "source": [
    "## Update an object at the Coop"
   ]
  },
  {
   "cell_type": "code",
   "execution_count": 20,
   "id": "e6cb7bd5-053b-4490-96fd-9fd4b6cf6701",
   "metadata": {
    "editable": true,
    "slideshow": {
     "slide_type": ""
    },
    "tags": [
     "skip-execution"
    ]
   },
   "outputs": [],
   "source": [
    "n = Notebook(path = \"save_load_objects_locally.ipynb\") # resave the object"
   ]
  },
  {
   "cell_type": "code",
   "execution_count": 21,
   "id": "99d10301-343d-4125-852f-93ca0c4a966f",
   "metadata": {
    "editable": true,
    "slideshow": {
     "slide_type": ""
    },
    "tags": [
     "skip-execution"
    ]
   },
   "outputs": [
    {
     "data": {
      "text/plain": [
       "{'status': 'success'}"
      ]
     },
     "execution_count": 21,
     "metadata": {},
     "output_type": "execute_result"
    }
   ],
   "source": [
    "n.patch(uuid = \"5496e997-b04e-4cf8-bd25-25180f2768fd\", value = n)"
   ]
  }
 ],
 "metadata": {
  "kernelspec": {
   "display_name": "Python 3 (ipykernel)",
   "language": "python",
   "name": "python3"
  },
  "language_info": {
   "codemirror_mode": {
    "name": "ipython",
    "version": 3
   },
   "file_extension": ".py",
   "mimetype": "text/x-python",
   "name": "python",
   "nbconvert_exporter": "python",
   "pygments_lexer": "ipython3",
   "version": "3.11.7"
  }
 },
 "nbformat": 4,
 "nbformat_minor": 5
}
