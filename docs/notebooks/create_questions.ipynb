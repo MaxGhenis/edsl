{
 "cells": [
  {
   "cell_type": "markdown",
   "metadata": {
    "cell_id": "222dfedff7194fed919240ae6eb7fc9e",
    "deepnote_app_block_visible": true,
    "deepnote_cell_type": "markdown"
   },
   "source": [
    "# Creating Questions\n",
    "This notebook contains code for creating different types of questions in `edsl`. It shows how to see available question types, create `Question` objects, administer them to AI agents and inspect the responses."
   ]
  },
  {
   "cell_type": "markdown",
   "metadata": {},
   "source": [
    "[![Open In Colab](https://colab.research.google.com/assets/colab-badge.svg)](https://colab.research.google.com/github/expectedparrot/edsl/blob/main/examples/create_questions.ipynb)"
   ]
  },
  {
   "cell_type": "code",
   "execution_count": 1,
   "metadata": {
    "cell_id": "83e4db32d37a48d692c632d9224ae5a6",
    "deepnote_app_block_visible": true,
    "deepnote_cell_type": "code"
   },
   "outputs": [],
   "source": [
    "# Install the edsl package \n",
    "# ! pip install edsl"
   ]
  },
  {
   "cell_type": "markdown",
   "metadata": {
    "cell_id": "a3ba54d1e3f645678813fb4a0b2c48d4",
    "deepnote_app_block_visible": true,
    "deepnote_cell_type": "markdown"
   },
   "source": [
    "## Multiple Choice\n",
    "A multiple choice question prompts the respondent to select a single option from a given set of options."
   ]
  },
  {
   "cell_type": "code",
   "execution_count": 2,
   "metadata": {
    "allow_embed": "code",
    "cell_id": "f1ad17f996da45279e7348c06fcf6af4",
    "deepnote_app_block_visible": true,
    "deepnote_cell_type": "code",
    "deepnote_to_be_reexecuted": false,
    "execution_millis": 35,
    "execution_start": 1710805156124,
    "source_hash": null
   },
   "outputs": [],
   "source": [
    "# Install the question type class\n",
    "from edsl.questions import QuestionMultipleChoice\n",
    "\n",
    "# Construct a question in the question type template\n",
    "q_mc = QuestionMultipleChoice(\n",
    "    question_name = \"q_mc\",\n",
    "    question_text = \"How often do you shop for clothes?\",\n",
    "    question_options = [\n",
    "        \"Rarely or never\",\n",
    "        \"Annually\",\n",
    "        \"Seasonally\",\n",
    "        \"Monthly\",\n",
    "        \"Daily\"\n",
    "    ]\n",
    ")"
   ]
  },
  {
   "cell_type": "markdown",
   "metadata": {
    "cell_id": "92bbc509629f4bb7a9a096c89f717386",
    "deepnote_app_block_visible": true,
    "deepnote_cell_type": "markdown"
   },
   "source": [
    "## Checkbox\n",
    "A checkbox question prompts the respondent to select one or more of the given options, which are returned as a list."
   ]
  },
  {
   "cell_type": "code",
   "execution_count": 3,
   "metadata": {
    "allow_embed": "code",
    "cell_id": "2b17ff3f679b4cb8a84678d8e6604021",
    "deepnote_app_block_visible": true,
    "deepnote_cell_type": "code",
    "deepnote_to_be_reexecuted": false,
    "execution_millis": 105,
    "execution_start": 1710805191053,
    "source_hash": null
   },
   "outputs": [],
   "source": [
    "from edsl.questions import QuestionCheckBox\n",
    "\n",
    "q_cb = QuestionCheckBox(\n",
    "    question_name = \"q_cb\",\n",
    "    question_text = \"\"\"Which of the following factors are important to you in making decisions about clothes shopping? \n",
    "    Select all that apply.\"\"\",\n",
    "    question_options = [\n",
    "        \"Price\",\n",
    "        \"Quality\",\n",
    "        \"Brand Reputation\",\n",
    "        \"Style and Design\",\n",
    "        \"Fit and Comfort\",\n",
    "        \"Customer Reviews and Recommendations\",\n",
    "        \"Ethical and Sustainable Practices\",\n",
    "        \"Return Policy\",\n",
    "        \"Convenience\",\n",
    "        \"Other\"\n",
    "    ],\n",
    "    min_selections = 1, # This is optional\n",
    "    max_selections = 3  # This is optional\n",
    ")"
   ]
  },
  {
   "cell_type": "markdown",
   "metadata": {
    "cell_id": "3a34bfaf59dc44d4bb6dd816d77c3c50",
    "deepnote_app_block_visible": true,
    "deepnote_cell_type": "markdown"
   },
   "source": [
    "## Linear Scale\n",
    "A linear scale question prompts the respondent to choose from a set of numerical options."
   ]
  },
  {
   "cell_type": "code",
   "execution_count": 4,
   "metadata": {
    "allow_embed": "code",
    "cell_id": "ac616cd80351428fa13892e797406490",
    "deepnote_app_block_visible": true,
    "deepnote_cell_type": "code",
    "deepnote_to_be_reexecuted": false,
    "execution_millis": 13,
    "execution_start": 1710805218096,
    "source_hash": null
   },
   "outputs": [],
   "source": [
    "from edsl.questions import QuestionLinearScale\n",
    "\n",
    "q_ls = QuestionLinearScale(\n",
    "    question_name = \"q_ls\",\n",
    "    question_text = \"On a scale from 0 to 10, how much do you typically enjoy clothes shopping?\",\n",
    "    question_options = [0,1,2,3,4,5,6,7,8,9,10],\n",
    "    option_labels = {0: \"Not at all\", 10: \"Very much\"} # This is optional\n",
    ")"
   ]
  },
  {
   "cell_type": "markdown",
   "metadata": {
    "cell_id": "73d355c2960d48fe9d5ddba92e899f09",
    "deepnote_app_block_visible": true,
    "deepnote_cell_type": "markdown"
   },
   "source": [
    "## Yes / No\n",
    "A yes/no question requires the respondent to respond \"yes\" or \"no\". Response options are set by default and not modifiable. To include other options use a multiple choice question."
   ]
  },
  {
   "cell_type": "code",
   "execution_count": 5,
   "metadata": {
    "allow_embed": "code",
    "cell_id": "890dc7c0e2f045edb75346c3e764c23a",
    "deepnote_app_block_visible": true,
    "deepnote_cell_type": "code",
    "deepnote_to_be_reexecuted": false,
    "execution_millis": 108,
    "execution_start": 1710805223624,
    "source_hash": null
   },
   "outputs": [],
   "source": [
    "from edsl.questions import QuestionYesNo\n",
    "\n",
    "q_yn = QuestionYesNo(\n",
    "    question_name = \"q_yn\",\n",
    "    question_text = \"Have you ever felt excluded or frustrated by the standard sizes of the fashion industry?\", \n",
    ")"
   ]
  },
  {
   "cell_type": "markdown",
   "metadata": {
    "cell_id": "1db440afd71d46039490181514578291",
    "deepnote_app_block_visible": true,
    "deepnote_cell_type": "markdown"
   },
   "source": [
    "## Budget\n",
    "A budget question prompts the respondent to allocation a specified sum among a set of options."
   ]
  },
  {
   "cell_type": "code",
   "execution_count": 6,
   "metadata": {
    "allow_embed": "code",
    "cell_id": "70979438f66f45e79e25796fcea66eb5",
    "deepnote_app_block_visible": true,
    "deepnote_cell_type": "code",
    "deepnote_to_be_reexecuted": false,
    "execution_millis": 83,
    "execution_start": 1710805253604,
    "source_hash": null
   },
   "outputs": [],
   "source": [
    "from edsl.questions import QuestionBudget\n",
    "\n",
    "q_bg = QuestionBudget(\n",
    "    question_name = \"q_bg\",\n",
    "    question_text = \"\"\"Estimate the percentage of your total time spent shopping for clothes in each of the \n",
    "    following modes.\"\"\",\n",
    "    question_options=[\n",
    "        \"Online\",\n",
    "        \"Malls\",\n",
    "        \"Freestanding stores\",\n",
    "        \"Mail order catalogs\",\n",
    "        \"Other\"\n",
    "    ],\n",
    "    budget_sum = 100\n",
    ")"
   ]
  },
  {
   "cell_type": "markdown",
   "metadata": {
    "cell_id": "7a57974cd2c54ae389707768e361e55d",
    "deepnote_app_block_visible": true,
    "deepnote_cell_type": "markdown"
   },
   "source": [
    "## Free Text\n",
    "A free text question prompts the respondent to provide a short unstructured response."
   ]
  },
  {
   "cell_type": "code",
   "execution_count": 7,
   "metadata": {
    "allow_embed": "code",
    "cell_id": "975f947c0b3041a6bb56c2be712ecc5a",
    "deepnote_app_block_visible": true,
    "deepnote_cell_type": "code",
    "deepnote_to_be_reexecuted": false,
    "execution_millis": 90,
    "execution_start": 1710805207451,
    "source_hash": null
   },
   "outputs": [],
   "source": [
    "from edsl.questions import QuestionFreeText\n",
    "\n",
    "q_ft = QuestionFreeText(\n",
    "    question_name = \"q_ft\",\n",
    "    question_text = \"What improvements would you like to see in options for clothes shopping?\"\n",
    ")"
   ]
  },
  {
   "cell_type": "markdown",
   "metadata": {
    "cell_id": "eb3993d8face40e9b34a5b13fd7bcbfb",
    "deepnote_app_block_visible": true,
    "deepnote_cell_type": "markdown"
   },
   "source": [
    "## List\n",
    "A list question prompts the respondent to provide a response in the form of a list. This can be a convenient way to reformat free text questions."
   ]
  },
  {
   "cell_type": "code",
   "execution_count": 8,
   "metadata": {
    "allow_embed": "code",
    "cell_id": "94e430250d3e4468afc353d6d64e92b7",
    "deepnote_app_block_visible": true,
    "deepnote_cell_type": "code",
    "deepnote_to_be_reexecuted": false,
    "execution_millis": 35,
    "execution_start": 1710805365304,
    "source_hash": null
   },
   "outputs": [],
   "source": [
    "from edsl.questions import QuestionList\n",
    "\n",
    "q_li = QuestionList(\n",
    "    question_name = \"q_li\",\n",
    "    question_text = \"What considerations are important to youin shopping for clothes?\"\n",
    ")"
   ]
  },
  {
   "cell_type": "markdown",
   "metadata": {
    "cell_id": "67c81fd8482141489be26434583b8820",
    "deepnote_app_block_visible": true,
    "deepnote_cell_type": "markdown"
   },
   "source": [
    "## Numerical\n",
    "A numerical question prompts the respondent to provide a response that is a number. "
   ]
  },
  {
   "cell_type": "code",
   "execution_count": 9,
   "metadata": {
    "allow_embed": "code",
    "cell_id": "b3c06ee221a54bf3a414049031627352",
    "deepnote_app_block_visible": true,
    "deepnote_cell_type": "code",
    "deepnote_to_be_reexecuted": false,
    "execution_millis": 57,
    "execution_start": 1710805369037,
    "source_hash": null
   },
   "outputs": [],
   "source": [
    "from edsl.questions import QuestionNumerical\n",
    "\n",
    "q_nu = QuestionNumerical(\n",
    "    question_name = \"q_nu\",\n",
    "    question_text = \"Estimate the amount of money that you spent on clothing in the past year (in $USD).\"\n",
    ")"
   ]
  },
  {
   "cell_type": "markdown",
   "metadata": {
    "cell_id": "1fdbee5a83b74681843fd3a0673c6930",
    "deepnote_app_block_visible": true,
    "deepnote_cell_type": "markdown"
   },
   "source": [
    "## Extract\n",
    "A question type thatprompts the respondent to provide a response in the form of a dictionary, where the keys and example values are provided. "
   ]
  },
  {
   "cell_type": "code",
   "execution_count": 10,
   "metadata": {
    "allow_embed": false,
    "cell_id": "4defaa1ba59a417485055349e7c4c037",
    "deepnote_app_block_visible": true,
    "deepnote_cell_type": "code",
    "deepnote_to_be_reexecuted": false,
    "execution_millis": 91,
    "execution_start": 1710805405692,
    "source_hash": null
   },
   "outputs": [],
   "source": [
    "from edsl.questions import QuestionExtract\n",
    "\n",
    "q_ex = QuestionExtract(\n",
    "    question_name = \"q_ex\",\n",
    "    question_text = \"\"\"Consider all of the articles of clothing in your closet. \n",
    "    Identify the categories of clothing that are most and least valuable to you.\"\"\",\n",
    "    answer_template = {\n",
    "        \"most_valuable\": \"socks\", \n",
    "        \"least_valuable\": \"shoes\"\n",
    "        }\n",
    ")"
   ]
  },
  {
   "cell_type": "markdown",
   "metadata": {
    "cell_id": "0735d5d26aa6417696b7ff926952ddb3",
    "deepnote_app_block_visible": true,
    "deepnote_cell_type": "markdown"
   },
   "source": [
    "## Administering questions\n",
    "Here we administer each question to the default LLM. We do this by simply appending the `run()` method to a question. (See how to administer questions and surveys to specific agent personas and LLMs in example [Agents](https://examples.expectedparrot.com/example_agent/) and [Surveys](https://examples.expectedparrot.com/example_survey/).)"
   ]
  },
  {
   "cell_type": "code",
   "execution_count": 11,
   "metadata": {
    "cell_id": "d87fa5b46fea4713ac4c075b48412e58",
    "deepnote_app_block_visible": true,
    "deepnote_cell_type": "code",
    "deepnote_to_be_reexecuted": false,
    "execution_millis": 24607,
    "execution_start": 1710805464612,
    "source_hash": null
   },
   "outputs": [],
   "source": [
    "result_mc = q_mc.run()\n",
    "result_cb = q_cb.run()\n",
    "result_ls = q_ls.run()\n",
    "result_yn = q_yn.run()\n",
    "result_bg = q_bg.run()\n",
    "result_ft = q_ft.run()\n",
    "result_li = q_li.run()\n",
    "result_nu = q_nu.run()\n",
    "result_ex = q_ex.run()"
   ]
  },
  {
   "cell_type": "markdown",
   "metadata": {
    "cell_id": "abbdd490e493477da705c316c25072ae",
    "deepnote_app_block_visible": true,
    "deepnote_cell_type": "markdown"
   },
   "source": [
    "<p>We can select the fields to inspect (e.g., just the response):</p>"
   ]
  },
  {
   "cell_type": "code",
   "execution_count": 12,
   "metadata": {
    "cell_id": "0e528d5edb8d458cbea5cdf2d5d98098",
    "deepnote_app_block_visible": true,
    "deepnote_cell_type": "code",
    "deepnote_to_be_reexecuted": false,
    "execution_millis": 219,
    "execution_start": 1710805493279,
    "source_hash": null
   },
   "outputs": [
    {
     "data": {
      "text/html": [
       "<pre style=\"white-space:pre;overflow-x:auto;line-height:normal;font-family:Menlo,'DejaVu Sans Mono',consolas,'Courier New',monospace\">┏━━━━━━━━━━━━┓\n",
       "┃<span style=\"color: #800080; text-decoration-color: #800080; font-weight: bold\"> answer     </span>┃\n",
       "┃<span style=\"color: #800080; text-decoration-color: #800080; font-weight: bold\"> .q_mc      </span>┃\n",
       "┡━━━━━━━━━━━━┩\n",
       "│<span style=\"color: #7f7f7f; text-decoration-color: #7f7f7f\"> Seasonally </span>│\n",
       "└────────────┘\n",
       "</pre>\n"
      ],
      "text/plain": [
       "┏━━━━━━━━━━━━┓\n",
       "┃\u001b[1;35m \u001b[0m\u001b[1;35manswer    \u001b[0m\u001b[1;35m \u001b[0m┃\n",
       "┃\u001b[1;35m \u001b[0m\u001b[1;35m.q_mc     \u001b[0m\u001b[1;35m \u001b[0m┃\n",
       "┡━━━━━━━━━━━━┩\n",
       "│\u001b[2m \u001b[0m\u001b[2mSeasonally\u001b[0m\u001b[2m \u001b[0m│\n",
       "└────────────┘\n"
      ]
     },
     "metadata": {},
     "output_type": "display_data"
    },
    {
     "data": {
      "text/html": [
       "<pre style=\"white-space:pre;overflow-x:auto;line-height:normal;font-family:Menlo,'DejaVu Sans Mono',consolas,'Courier New',monospace\">┏━━━━━━━━━━━━━━━━━━━━━━━━━━━━━━━━━━━━━━━━━━━━━━━━━━━━┓\n",
       "┃<span style=\"color: #800080; text-decoration-color: #800080; font-weight: bold\"> answer                                             </span>┃\n",
       "┃<span style=\"color: #800080; text-decoration-color: #800080; font-weight: bold\"> .q_cb                                              </span>┃\n",
       "┡━━━━━━━━━━━━━━━━━━━━━━━━━━━━━━━━━━━━━━━━━━━━━━━━━━━━┩\n",
       "│<span style=\"color: #7f7f7f; text-decoration-color: #7f7f7f\"> ['Quality', 'Style and Design', 'Fit and Comfort'] </span>│\n",
       "└────────────────────────────────────────────────────┘\n",
       "</pre>\n"
      ],
      "text/plain": [
       "┏━━━━━━━━━━━━━━━━━━━━━━━━━━━━━━━━━━━━━━━━━━━━━━━━━━━━┓\n",
       "┃\u001b[1;35m \u001b[0m\u001b[1;35manswer                                            \u001b[0m\u001b[1;35m \u001b[0m┃\n",
       "┃\u001b[1;35m \u001b[0m\u001b[1;35m.q_cb                                             \u001b[0m\u001b[1;35m \u001b[0m┃\n",
       "┡━━━━━━━━━━━━━━━━━━━━━━━━━━━━━━━━━━━━━━━━━━━━━━━━━━━━┩\n",
       "│\u001b[2m \u001b[0m\u001b[2m['Quality', 'Style and Design', 'Fit and Comfort']\u001b[0m\u001b[2m \u001b[0m│\n",
       "└────────────────────────────────────────────────────┘\n"
      ]
     },
     "metadata": {},
     "output_type": "display_data"
    },
    {
     "data": {
      "text/html": [
       "<pre style=\"white-space:pre;overflow-x:auto;line-height:normal;font-family:Menlo,'DejaVu Sans Mono',consolas,'Courier New',monospace\">┏━━━━━━━━┓\n",
       "┃<span style=\"color: #800080; text-decoration-color: #800080; font-weight: bold\"> answer </span>┃\n",
       "┃<span style=\"color: #800080; text-decoration-color: #800080; font-weight: bold\"> .q_ls  </span>┃\n",
       "┡━━━━━━━━┩\n",
       "│<span style=\"color: #7f7f7f; text-decoration-color: #7f7f7f\"> 5      </span>│\n",
       "└────────┘\n",
       "</pre>\n"
      ],
      "text/plain": [
       "┏━━━━━━━━┓\n",
       "┃\u001b[1;35m \u001b[0m\u001b[1;35manswer\u001b[0m\u001b[1;35m \u001b[0m┃\n",
       "┃\u001b[1;35m \u001b[0m\u001b[1;35m.q_ls \u001b[0m\u001b[1;35m \u001b[0m┃\n",
       "┡━━━━━━━━┩\n",
       "│\u001b[2m \u001b[0m\u001b[2m5     \u001b[0m\u001b[2m \u001b[0m│\n",
       "└────────┘\n"
      ]
     },
     "metadata": {},
     "output_type": "display_data"
    },
    {
     "data": {
      "text/html": [
       "<pre style=\"white-space:pre;overflow-x:auto;line-height:normal;font-family:Menlo,'DejaVu Sans Mono',consolas,'Courier New',monospace\">┏━━━━━━━━┓\n",
       "┃<span style=\"color: #800080; text-decoration-color: #800080; font-weight: bold\"> answer </span>┃\n",
       "┃<span style=\"color: #800080; text-decoration-color: #800080; font-weight: bold\"> .q_yn  </span>┃\n",
       "┡━━━━━━━━┩\n",
       "│<span style=\"color: #7f7f7f; text-decoration-color: #7f7f7f\"> Yes    </span>│\n",
       "└────────┘\n",
       "</pre>\n"
      ],
      "text/plain": [
       "┏━━━━━━━━┓\n",
       "┃\u001b[1;35m \u001b[0m\u001b[1;35manswer\u001b[0m\u001b[1;35m \u001b[0m┃\n",
       "┃\u001b[1;35m \u001b[0m\u001b[1;35m.q_yn \u001b[0m\u001b[1;35m \u001b[0m┃\n",
       "┡━━━━━━━━┩\n",
       "│\u001b[2m \u001b[0m\u001b[2mYes   \u001b[0m\u001b[2m \u001b[0m│\n",
       "└────────┘\n"
      ]
     },
     "metadata": {},
     "output_type": "display_data"
    },
    {
     "data": {
      "text/html": [
       "<pre style=\"white-space:pre;overflow-x:auto;line-height:normal;font-family:Menlo,'DejaVu Sans Mono',consolas,'Courier New',monospace\">┏━━━━━━━━━━━━━━━━━━━━━━━━━━━━━━━━━━━━━━━━━━━━━━━━━━━━━━━━━━━━━━━━━━━━━━━━━━━━━━━━━━━━━━━━━━━━━━━━━━━━━━━━┓\n",
       "┃<span style=\"color: #800080; text-decoration-color: #800080; font-weight: bold\"> answer                                                                                                 </span>┃\n",
       "┃<span style=\"color: #800080; text-decoration-color: #800080; font-weight: bold\"> .q_bg                                                                                                  </span>┃\n",
       "┡━━━━━━━━━━━━━━━━━━━━━━━━━━━━━━━━━━━━━━━━━━━━━━━━━━━━━━━━━━━━━━━━━━━━━━━━━━━━━━━━━━━━━━━━━━━━━━━━━━━━━━━━┩\n",
       "│<span style=\"color: #7f7f7f; text-decoration-color: #7f7f7f\"> [{'Online': 40}, {'Malls': 40}, {'Freestanding stores': 15}, {'Mail order catalogs': 0}, {'Other': 5}] </span>│\n",
       "└────────────────────────────────────────────────────────────────────────────────────────────────────────┘\n",
       "</pre>\n"
      ],
      "text/plain": [
       "┏━━━━━━━━━━━━━━━━━━━━━━━━━━━━━━━━━━━━━━━━━━━━━━━━━━━━━━━━━━━━━━━━━━━━━━━━━━━━━━━━━━━━━━━━━━━━━━━━━━━━━━━━┓\n",
       "┃\u001b[1;35m \u001b[0m\u001b[1;35manswer                                                                                                \u001b[0m\u001b[1;35m \u001b[0m┃\n",
       "┃\u001b[1;35m \u001b[0m\u001b[1;35m.q_bg                                                                                                 \u001b[0m\u001b[1;35m \u001b[0m┃\n",
       "┡━━━━━━━━━━━━━━━━━━━━━━━━━━━━━━━━━━━━━━━━━━━━━━━━━━━━━━━━━━━━━━━━━━━━━━━━━━━━━━━━━━━━━━━━━━━━━━━━━━━━━━━━┩\n",
       "│\u001b[2m \u001b[0m\u001b[2m[{'Online': 40}, {'Malls': 40}, {'Freestanding stores': 15}, {'Mail order catalogs': 0}, {'Other': 5}]\u001b[0m\u001b[2m \u001b[0m│\n",
       "└────────────────────────────────────────────────────────────────────────────────────────────────────────┘\n"
      ]
     },
     "metadata": {},
     "output_type": "display_data"
    },
    {
     "data": {
      "text/html": [
       "<pre style=\"white-space:pre;overflow-x:auto;line-height:normal;font-family:Menlo,'DejaVu Sans Mono',consolas,'Courier New',monospace\">┏━━━━━━━━━━━━━━━━━━━━━━━━━━━━━━━━━━━━━━━━━━━━━━━━━━━━━━━━━━━━━━━━━━━━━━━━━━━━━━━━━━━━━━━━━━━━━━━━━━━━━━━━━━━━━━━━━┓\n",
       "┃<span style=\"color: #800080; text-decoration-color: #800080; font-weight: bold\"> answer                                                                                                          </span>┃\n",
       "┃<span style=\"color: #800080; text-decoration-color: #800080; font-weight: bold\"> .q_ft                                                                                                           </span>┃\n",
       "┡━━━━━━━━━━━━━━━━━━━━━━━━━━━━━━━━━━━━━━━━━━━━━━━━━━━━━━━━━━━━━━━━━━━━━━━━━━━━━━━━━━━━━━━━━━━━━━━━━━━━━━━━━━━━━━━━━┩\n",
       "│<span style=\"color: #7f7f7f; text-decoration-color: #7f7f7f\"> I'd like to see more diverse sizing options to accommodate different body types, including petite, plus, and    </span>│\n",
       "│<span style=\"color: #7f7f7f; text-decoration-color: #7f7f7f\"> tall ranges. It would also be beneficial to have more sustainable and eco-friendly clothing options readily     </span>│\n",
       "│<span style=\"color: #7f7f7f; text-decoration-color: #7f7f7f\"> available. Additionally, incorporating advanced virtual fitting technology could help online shoppers find the  </span>│\n",
       "│<span style=\"color: #7f7f7f; text-decoration-color: #7f7f7f\"> perfect fit without the guesswork. Lastly, having more personalized recommendations based on past purchases and </span>│\n",
       "│<span style=\"color: #7f7f7f; text-decoration-color: #7f7f7f\"> preferences could enhance the shopping experience.                                                              </span>│\n",
       "└─────────────────────────────────────────────────────────────────────────────────────────────────────────────────┘\n",
       "</pre>\n"
      ],
      "text/plain": [
       "┏━━━━━━━━━━━━━━━━━━━━━━━━━━━━━━━━━━━━━━━━━━━━━━━━━━━━━━━━━━━━━━━━━━━━━━━━━━━━━━━━━━━━━━━━━━━━━━━━━━━━━━━━━━━━━━━━━┓\n",
       "┃\u001b[1;35m \u001b[0m\u001b[1;35manswer                                                                                                         \u001b[0m\u001b[1;35m \u001b[0m┃\n",
       "┃\u001b[1;35m \u001b[0m\u001b[1;35m.q_ft                                                                                                          \u001b[0m\u001b[1;35m \u001b[0m┃\n",
       "┡━━━━━━━━━━━━━━━━━━━━━━━━━━━━━━━━━━━━━━━━━━━━━━━━━━━━━━━━━━━━━━━━━━━━━━━━━━━━━━━━━━━━━━━━━━━━━━━━━━━━━━━━━━━━━━━━━┩\n",
       "│\u001b[2m \u001b[0m\u001b[2mI'd like to see more diverse sizing options to accommodate different body types, including petite, plus, and   \u001b[0m\u001b[2m \u001b[0m│\n",
       "│\u001b[2m \u001b[0m\u001b[2mtall ranges. It would also be beneficial to have more sustainable and eco-friendly clothing options readily    \u001b[0m\u001b[2m \u001b[0m│\n",
       "│\u001b[2m \u001b[0m\u001b[2mavailable. Additionally, incorporating advanced virtual fitting technology could help online shoppers find the \u001b[0m\u001b[2m \u001b[0m│\n",
       "│\u001b[2m \u001b[0m\u001b[2mperfect fit without the guesswork. Lastly, having more personalized recommendations based on past purchases and\u001b[0m\u001b[2m \u001b[0m│\n",
       "│\u001b[2m \u001b[0m\u001b[2mpreferences could enhance the shopping experience.                                                             \u001b[0m\u001b[2m \u001b[0m│\n",
       "└─────────────────────────────────────────────────────────────────────────────────────────────────────────────────┘\n"
      ]
     },
     "metadata": {},
     "output_type": "display_data"
    },
    {
     "data": {
      "text/html": [
       "<pre style=\"white-space:pre;overflow-x:auto;line-height:normal;font-family:Menlo,'DejaVu Sans Mono',consolas,'Courier New',monospace\">┏━━━━━━━━━━━━━━━━━━━━━━━━━━━━━━━━━━━━━━━━━━━━━━━━━━━━━━━━━━━━━━━━━━━━━━━━━━━━━━━━━━━━━━━━━━━━━━━━━━━━━━━━━━━━━━━━━┓\n",
       "┃<span style=\"color: #800080; text-decoration-color: #800080; font-weight: bold\"> answer                                                                                                          </span>┃\n",
       "┃<span style=\"color: #800080; text-decoration-color: #800080; font-weight: bold\"> .q_li                                                                                                           </span>┃\n",
       "┡━━━━━━━━━━━━━━━━━━━━━━━━━━━━━━━━━━━━━━━━━━━━━━━━━━━━━━━━━━━━━━━━━━━━━━━━━━━━━━━━━━━━━━━━━━━━━━━━━━━━━━━━━━━━━━━━━┩\n",
       "│<span style=\"color: #7f7f7f; text-decoration-color: #7f7f7f\"> ['fit', 'comfort', 'quality', 'style', 'price', 'fabric', 'brand', 'sustainability', 'versatility', 'occasion', </span>│\n",
       "│<span style=\"color: #7f7f7f; text-decoration-color: #7f7f7f\"> 'seasonality', 'color', 'maintenance', 'return policy', 'reviews']                                              </span>│\n",
       "└─────────────────────────────────────────────────────────────────────────────────────────────────────────────────┘\n",
       "</pre>\n"
      ],
      "text/plain": [
       "┏━━━━━━━━━━━━━━━━━━━━━━━━━━━━━━━━━━━━━━━━━━━━━━━━━━━━━━━━━━━━━━━━━━━━━━━━━━━━━━━━━━━━━━━━━━━━━━━━━━━━━━━━━━━━━━━━━┓\n",
       "┃\u001b[1;35m \u001b[0m\u001b[1;35manswer                                                                                                         \u001b[0m\u001b[1;35m \u001b[0m┃\n",
       "┃\u001b[1;35m \u001b[0m\u001b[1;35m.q_li                                                                                                          \u001b[0m\u001b[1;35m \u001b[0m┃\n",
       "┡━━━━━━━━━━━━━━━━━━━━━━━━━━━━━━━━━━━━━━━━━━━━━━━━━━━━━━━━━━━━━━━━━━━━━━━━━━━━━━━━━━━━━━━━━━━━━━━━━━━━━━━━━━━━━━━━━┩\n",
       "│\u001b[2m \u001b[0m\u001b[2m['fit', 'comfort', 'quality', 'style', 'price', 'fabric', 'brand', 'sustainability', 'versatility', 'occasion',\u001b[0m\u001b[2m \u001b[0m│\n",
       "│\u001b[2m \u001b[0m\u001b[2m'seasonality', 'color', 'maintenance', 'return policy', 'reviews']                                             \u001b[0m\u001b[2m \u001b[0m│\n",
       "└─────────────────────────────────────────────────────────────────────────────────────────────────────────────────┘\n"
      ]
     },
     "metadata": {},
     "output_type": "display_data"
    },
    {
     "data": {
      "text/html": [
       "<pre style=\"white-space:pre;overflow-x:auto;line-height:normal;font-family:Menlo,'DejaVu Sans Mono',consolas,'Courier New',monospace\">┏━━━━━━━━┓\n",
       "┃<span style=\"color: #800080; text-decoration-color: #800080; font-weight: bold\"> answer </span>┃\n",
       "┃<span style=\"color: #800080; text-decoration-color: #800080; font-weight: bold\"> .q_nu  </span>┃\n",
       "┡━━━━━━━━┩\n",
       "│<span style=\"color: #7f7f7f; text-decoration-color: #7f7f7f\"> 500    </span>│\n",
       "└────────┘\n",
       "</pre>\n"
      ],
      "text/plain": [
       "┏━━━━━━━━┓\n",
       "┃\u001b[1;35m \u001b[0m\u001b[1;35manswer\u001b[0m\u001b[1;35m \u001b[0m┃\n",
       "┃\u001b[1;35m \u001b[0m\u001b[1;35m.q_nu \u001b[0m\u001b[1;35m \u001b[0m┃\n",
       "┡━━━━━━━━┩\n",
       "│\u001b[2m \u001b[0m\u001b[2m500   \u001b[0m\u001b[2m \u001b[0m│\n",
       "└────────┘\n"
      ]
     },
     "metadata": {},
     "output_type": "display_data"
    },
    {
     "data": {
      "text/html": [
       "<pre style=\"white-space:pre;overflow-x:auto;line-height:normal;font-family:Menlo,'DejaVu Sans Mono',consolas,'Courier New',monospace\">┏━━━━━━━━━━━━━━━━━━━━━━━━━━━━━━━━━━━━━━━━━━━━━━━━━━━━━┓\n",
       "┃<span style=\"color: #800080; text-decoration-color: #800080; font-weight: bold\"> answer                                              </span>┃\n",
       "┃<span style=\"color: #800080; text-decoration-color: #800080; font-weight: bold\"> .q_ex                                               </span>┃\n",
       "┡━━━━━━━━━━━━━━━━━━━━━━━━━━━━━━━━━━━━━━━━━━━━━━━━━━━━━┩\n",
       "│<span style=\"color: #7f7f7f; text-decoration-color: #7f7f7f\"> {'most_valuable': 'null', 'least_valuable': 'null'} </span>│\n",
       "└─────────────────────────────────────────────────────┘\n",
       "</pre>\n"
      ],
      "text/plain": [
       "┏━━━━━━━━━━━━━━━━━━━━━━━━━━━━━━━━━━━━━━━━━━━━━━━━━━━━━┓\n",
       "┃\u001b[1;35m \u001b[0m\u001b[1;35manswer                                             \u001b[0m\u001b[1;35m \u001b[0m┃\n",
       "┃\u001b[1;35m \u001b[0m\u001b[1;35m.q_ex                                              \u001b[0m\u001b[1;35m \u001b[0m┃\n",
       "┡━━━━━━━━━━━━━━━━━━━━━━━━━━━━━━━━━━━━━━━━━━━━━━━━━━━━━┩\n",
       "│\u001b[2m \u001b[0m\u001b[2m{'most_valuable': 'null', 'least_valuable': 'null'}\u001b[0m\u001b[2m \u001b[0m│\n",
       "└─────────────────────────────────────────────────────┘\n"
      ]
     },
     "metadata": {},
     "output_type": "display_data"
    }
   ],
   "source": [
    "result_mc.select(\"q_mc\").print()\n",
    "result_cb.select(\"q_cb\").print()\n",
    "result_ls.select(\"q_ls\").print()\n",
    "result_yn.select(\"q_yn\").print()\n",
    "result_bg.select(\"q_bg\").print()\n",
    "result_ft.select(\"q_ft\").print()\n",
    "result_li.select(\"q_li\").print()\n",
    "result_nu.select(\"q_nu\").print()\n",
    "result_ex.select(\"q_ex\").print()"
   ]
  },
  {
   "cell_type": "markdown",
   "metadata": {
    "cell_id": "eb6469986c104ec5b255b3a43a0b3b14",
    "deepnote_app_block_visible": true,
    "deepnote_cell_type": "markdown"
   },
   "source": [
    "<p>We can add some pretty labels to our tables:</p>"
   ]
  },
  {
   "cell_type": "code",
   "execution_count": 13,
   "metadata": {
    "cell_id": "c0a1fdd2d8fc447e9629b9d9a5e0c127",
    "deepnote_app_block_visible": true,
    "deepnote_cell_type": "code",
    "deepnote_to_be_reexecuted": false,
    "execution_millis": 269,
    "execution_start": 1710805500614,
    "source_hash": null
   },
   "outputs": [
    {
     "data": {
      "text/html": [
       "<pre style=\"white-space:pre;overflow-x:auto;line-height:normal;font-family:Menlo,'DejaVu Sans Mono',consolas,'Courier New',monospace\">┏━━━━━━━━━━━━━━━━━━━━━━━━━━━━━━━━━━━━┓\n",
       "┃<span style=\"color: #800080; text-decoration-color: #800080; font-weight: bold\"> How often do you shop for clothes? </span>┃\n",
       "┡━━━━━━━━━━━━━━━━━━━━━━━━━━━━━━━━━━━━┩\n",
       "│<span style=\"color: #7f7f7f; text-decoration-color: #7f7f7f\"> Seasonally                         </span>│\n",
       "└────────────────────────────────────┘\n",
       "</pre>\n"
      ],
      "text/plain": [
       "┏━━━━━━━━━━━━━━━━━━━━━━━━━━━━━━━━━━━━┓\n",
       "┃\u001b[1;35m \u001b[0m\u001b[1;35mHow often do you shop for clothes?\u001b[0m\u001b[1;35m \u001b[0m┃\n",
       "┡━━━━━━━━━━━━━━━━━━━━━━━━━━━━━━━━━━━━┩\n",
       "│\u001b[2m \u001b[0m\u001b[2mSeasonally                        \u001b[0m\u001b[2m \u001b[0m│\n",
       "└────────────────────────────────────┘\n"
      ]
     },
     "metadata": {},
     "output_type": "display_data"
    },
    {
     "data": {
      "text/html": [
       "<pre style=\"white-space:pre;overflow-x:auto;line-height:normal;font-family:Menlo,'DejaVu Sans Mono',consolas,'Courier New',monospace\">┏━━━━━━━━━━━━━━━━━━━━━━━━━━━━━━━━━━━━━━━━━━━━━━━━━━━━━━━━━━━━━━━━━━━━━━━━━━━━━━━━━━━━━━━━━━━━━━━━━━┓\n",
       "┃<span style=\"color: #800080; text-decoration-color: #800080; font-weight: bold\"> Which of the following factors are important to you in making decisions about clothes shopping?  </span>┃\n",
       "┃<span style=\"color: #800080; text-decoration-color: #800080; font-weight: bold\">     Select all that apply                                                                        </span>┃\n",
       "┃<span style=\"color: #800080; text-decoration-color: #800080; font-weight: bold\"> .                                                                                                </span>┃\n",
       "┡━━━━━━━━━━━━━━━━━━━━━━━━━━━━━━━━━━━━━━━━━━━━━━━━━━━━━━━━━━━━━━━━━━━━━━━━━━━━━━━━━━━━━━━━━━━━━━━━━━┩\n",
       "│<span style=\"color: #7f7f7f; text-decoration-color: #7f7f7f\"> ['Quality', 'Style and Design', 'Fit and Comfort']                                               </span>│\n",
       "└──────────────────────────────────────────────────────────────────────────────────────────────────┘\n",
       "</pre>\n"
      ],
      "text/plain": [
       "┏━━━━━━━━━━━━━━━━━━━━━━━━━━━━━━━━━━━━━━━━━━━━━━━━━━━━━━━━━━━━━━━━━━━━━━━━━━━━━━━━━━━━━━━━━━━━━━━━━━┓\n",
       "┃\u001b[1;35m \u001b[0m\u001b[1;35mWhich of the following factors are important to you in making decisions about clothes shopping? \u001b[0m\u001b[1;35m \u001b[0m┃\n",
       "┃\u001b[1;35m \u001b[0m\u001b[1;35m    Select all that apply                                                                       \u001b[0m\u001b[1;35m \u001b[0m┃\n",
       "┃\u001b[1;35m \u001b[0m\u001b[1;35m.                                                                                               \u001b[0m\u001b[1;35m \u001b[0m┃\n",
       "┡━━━━━━━━━━━━━━━━━━━━━━━━━━━━━━━━━━━━━━━━━━━━━━━━━━━━━━━━━━━━━━━━━━━━━━━━━━━━━━━━━━━━━━━━━━━━━━━━━━┩\n",
       "│\u001b[2m \u001b[0m\u001b[2m['Quality', 'Style and Design', 'Fit and Comfort']                                              \u001b[0m\u001b[2m \u001b[0m│\n",
       "└──────────────────────────────────────────────────────────────────────────────────────────────────┘\n"
      ]
     },
     "metadata": {},
     "output_type": "display_data"
    },
    {
     "data": {
      "text/html": [
       "<pre style=\"white-space:pre;overflow-x:auto;line-height:normal;font-family:Menlo,'DejaVu Sans Mono',consolas,'Courier New',monospace\">┏━━━━━━━━━━━━━━━━━━━━━━━━━━━━━━━━━━━━━━━━━━━━━━━━━━━━━━━━━━━━━━━━━━━━━━━━━━━━┓\n",
       "┃<span style=\"color: #800080; text-decoration-color: #800080; font-weight: bold\"> On a scale from 0 to 10, how much do you typically enjoy clothes shopping? </span>┃\n",
       "┡━━━━━━━━━━━━━━━━━━━━━━━━━━━━━━━━━━━━━━━━━━━━━━━━━━━━━━━━━━━━━━━━━━━━━━━━━━━━┩\n",
       "│<span style=\"color: #7f7f7f; text-decoration-color: #7f7f7f\"> 5                                                                          </span>│\n",
       "└────────────────────────────────────────────────────────────────────────────┘\n",
       "</pre>\n"
      ],
      "text/plain": [
       "┏━━━━━━━━━━━━━━━━━━━━━━━━━━━━━━━━━━━━━━━━━━━━━━━━━━━━━━━━━━━━━━━━━━━━━━━━━━━━┓\n",
       "┃\u001b[1;35m \u001b[0m\u001b[1;35mOn a scale from 0 to 10, how much do you typically enjoy clothes shopping?\u001b[0m\u001b[1;35m \u001b[0m┃\n",
       "┡━━━━━━━━━━━━━━━━━━━━━━━━━━━━━━━━━━━━━━━━━━━━━━━━━━━━━━━━━━━━━━━━━━━━━━━━━━━━┩\n",
       "│\u001b[2m \u001b[0m\u001b[2m5                                                                         \u001b[0m\u001b[2m \u001b[0m│\n",
       "└────────────────────────────────────────────────────────────────────────────┘\n"
      ]
     },
     "metadata": {},
     "output_type": "display_data"
    },
    {
     "data": {
      "text/html": [
       "<pre style=\"white-space:pre;overflow-x:auto;line-height:normal;font-family:Menlo,'DejaVu Sans Mono',consolas,'Courier New',monospace\">┏━━━━━━━━━━━━━━━━━━━━━━━━━━━━━━━━━━━━━━━━━━━━━━━━━━━━━━━━━━━━━━━━━━━━━━━━━━━━━━━━━━━━━━━━━━┓\n",
       "┃<span style=\"color: #800080; text-decoration-color: #800080; font-weight: bold\"> Have you ever felt excluded or frustrated by the standard sizes of the fashion industry? </span>┃\n",
       "┡━━━━━━━━━━━━━━━━━━━━━━━━━━━━━━━━━━━━━━━━━━━━━━━━━━━━━━━━━━━━━━━━━━━━━━━━━━━━━━━━━━━━━━━━━━┩\n",
       "│<span style=\"color: #7f7f7f; text-decoration-color: #7f7f7f\"> Yes                                                                                      </span>│\n",
       "└──────────────────────────────────────────────────────────────────────────────────────────┘\n",
       "</pre>\n"
      ],
      "text/plain": [
       "┏━━━━━━━━━━━━━━━━━━━━━━━━━━━━━━━━━━━━━━━━━━━━━━━━━━━━━━━━━━━━━━━━━━━━━━━━━━━━━━━━━━━━━━━━━━┓\n",
       "┃\u001b[1;35m \u001b[0m\u001b[1;35mHave you ever felt excluded or frustrated by the standard sizes of the fashion industry?\u001b[0m\u001b[1;35m \u001b[0m┃\n",
       "┡━━━━━━━━━━━━━━━━━━━━━━━━━━━━━━━━━━━━━━━━━━━━━━━━━━━━━━━━━━━━━━━━━━━━━━━━━━━━━━━━━━━━━━━━━━┩\n",
       "│\u001b[2m \u001b[0m\u001b[2mYes                                                                                     \u001b[0m\u001b[2m \u001b[0m│\n",
       "└──────────────────────────────────────────────────────────────────────────────────────────┘\n"
      ]
     },
     "metadata": {},
     "output_type": "display_data"
    },
    {
     "data": {
      "text/html": [
       "<pre style=\"white-space:pre;overflow-x:auto;line-height:normal;font-family:Menlo,'DejaVu Sans Mono',consolas,'Courier New',monospace\">┏━━━━━━━━━━━━━━━━━━━━━━━━━━━━━━━━━━━━━━━━━━━━━━━━━━━━━━━━━━━━━━━━━━━━━━━━━━━━━━━━━━━━━━━━━━━━━━━━━━━━━━━━┓\n",
       "┃<span style=\"color: #800080; text-decoration-color: #800080; font-weight: bold\"> Estimate the percentage of your total time spent shopping for clothes in each of the                   </span>┃\n",
       "┃<span style=\"color: #800080; text-decoration-color: #800080; font-weight: bold\">     following modes                                                                                    </span>┃\n",
       "┃<span style=\"color: #800080; text-decoration-color: #800080; font-weight: bold\"> .                                                                                                      </span>┃\n",
       "┡━━━━━━━━━━━━━━━━━━━━━━━━━━━━━━━━━━━━━━━━━━━━━━━━━━━━━━━━━━━━━━━━━━━━━━━━━━━━━━━━━━━━━━━━━━━━━━━━━━━━━━━━┩\n",
       "│<span style=\"color: #7f7f7f; text-decoration-color: #7f7f7f\"> [{'Online': 40}, {'Malls': 40}, {'Freestanding stores': 15}, {'Mail order catalogs': 0}, {'Other': 5}] </span>│\n",
       "└────────────────────────────────────────────────────────────────────────────────────────────────────────┘\n",
       "</pre>\n"
      ],
      "text/plain": [
       "┏━━━━━━━━━━━━━━━━━━━━━━━━━━━━━━━━━━━━━━━━━━━━━━━━━━━━━━━━━━━━━━━━━━━━━━━━━━━━━━━━━━━━━━━━━━━━━━━━━━━━━━━━┓\n",
       "┃\u001b[1;35m \u001b[0m\u001b[1;35mEstimate the percentage of your total time spent shopping for clothes in each of the                  \u001b[0m\u001b[1;35m \u001b[0m┃\n",
       "┃\u001b[1;35m \u001b[0m\u001b[1;35m    following modes                                                                                   \u001b[0m\u001b[1;35m \u001b[0m┃\n",
       "┃\u001b[1;35m \u001b[0m\u001b[1;35m.                                                                                                     \u001b[0m\u001b[1;35m \u001b[0m┃\n",
       "┡━━━━━━━━━━━━━━━━━━━━━━━━━━━━━━━━━━━━━━━━━━━━━━━━━━━━━━━━━━━━━━━━━━━━━━━━━━━━━━━━━━━━━━━━━━━━━━━━━━━━━━━━┩\n",
       "│\u001b[2m \u001b[0m\u001b[2m[{'Online': 40}, {'Malls': 40}, {'Freestanding stores': 15}, {'Mail order catalogs': 0}, {'Other': 5}]\u001b[0m\u001b[2m \u001b[0m│\n",
       "└────────────────────────────────────────────────────────────────────────────────────────────────────────┘\n"
      ]
     },
     "metadata": {},
     "output_type": "display_data"
    },
    {
     "data": {
      "text/html": [
       "<pre style=\"white-space:pre;overflow-x:auto;line-height:normal;font-family:Menlo,'DejaVu Sans Mono',consolas,'Courier New',monospace\">┏━━━━━━━━━━━━━━━━━━━━━━━━━━━━━━━━━━━━━━━━━━━━━━━━━━━━━━━━━━━━━━━━━━━━━━━━━━━━━━━━━━━━━━━━━━━━━━━━━━━━━━━━━━━━━━━━━┓\n",
       "┃<span style=\"color: #800080; text-decoration-color: #800080; font-weight: bold\"> What improvements would you like to see in options for clothes shopping?                                        </span>┃\n",
       "┡━━━━━━━━━━━━━━━━━━━━━━━━━━━━━━━━━━━━━━━━━━━━━━━━━━━━━━━━━━━━━━━━━━━━━━━━━━━━━━━━━━━━━━━━━━━━━━━━━━━━━━━━━━━━━━━━━┩\n",
       "│<span style=\"color: #7f7f7f; text-decoration-color: #7f7f7f\"> I'd like to see more diverse sizing options to accommodate different body types, including petite, plus, and    </span>│\n",
       "│<span style=\"color: #7f7f7f; text-decoration-color: #7f7f7f\"> tall ranges. It would also be beneficial to have more sustainable and eco-friendly clothing options readily     </span>│\n",
       "│<span style=\"color: #7f7f7f; text-decoration-color: #7f7f7f\"> available. Additionally, incorporating advanced virtual fitting technology could help online shoppers find the  </span>│\n",
       "│<span style=\"color: #7f7f7f; text-decoration-color: #7f7f7f\"> perfect fit without the guesswork. Lastly, having more personalized recommendations based on past purchases and </span>│\n",
       "│<span style=\"color: #7f7f7f; text-decoration-color: #7f7f7f\"> preferences could enhance the shopping experience.                                                              </span>│\n",
       "└─────────────────────────────────────────────────────────────────────────────────────────────────────────────────┘\n",
       "</pre>\n"
      ],
      "text/plain": [
       "┏━━━━━━━━━━━━━━━━━━━━━━━━━━━━━━━━━━━━━━━━━━━━━━━━━━━━━━━━━━━━━━━━━━━━━━━━━━━━━━━━━━━━━━━━━━━━━━━━━━━━━━━━━━━━━━━━━┓\n",
       "┃\u001b[1;35m \u001b[0m\u001b[1;35mWhat improvements would you like to see in options for clothes shopping?                                       \u001b[0m\u001b[1;35m \u001b[0m┃\n",
       "┡━━━━━━━━━━━━━━━━━━━━━━━━━━━━━━━━━━━━━━━━━━━━━━━━━━━━━━━━━━━━━━━━━━━━━━━━━━━━━━━━━━━━━━━━━━━━━━━━━━━━━━━━━━━━━━━━━┩\n",
       "│\u001b[2m \u001b[0m\u001b[2mI'd like to see more diverse sizing options to accommodate different body types, including petite, plus, and   \u001b[0m\u001b[2m \u001b[0m│\n",
       "│\u001b[2m \u001b[0m\u001b[2mtall ranges. It would also be beneficial to have more sustainable and eco-friendly clothing options readily    \u001b[0m\u001b[2m \u001b[0m│\n",
       "│\u001b[2m \u001b[0m\u001b[2mavailable. Additionally, incorporating advanced virtual fitting technology could help online shoppers find the \u001b[0m\u001b[2m \u001b[0m│\n",
       "│\u001b[2m \u001b[0m\u001b[2mperfect fit without the guesswork. Lastly, having more personalized recommendations based on past purchases and\u001b[0m\u001b[2m \u001b[0m│\n",
       "│\u001b[2m \u001b[0m\u001b[2mpreferences could enhance the shopping experience.                                                             \u001b[0m\u001b[2m \u001b[0m│\n",
       "└─────────────────────────────────────────────────────────────────────────────────────────────────────────────────┘\n"
      ]
     },
     "metadata": {},
     "output_type": "display_data"
    },
    {
     "data": {
      "text/html": [
       "<pre style=\"white-space:pre;overflow-x:auto;line-height:normal;font-family:Menlo,'DejaVu Sans Mono',consolas,'Courier New',monospace\">┏━━━━━━━━━━━━━━━━━━━━━━━━━━━━━━━━━━━━━━━━━━━━━━━━━━━━━━━━━━━━━━━━━━━━━━━━━━━━━━━━━━━━━━━━━━━━━━━━━━━━━━━━━━━━━━━━━┓\n",
       "┃<span style=\"color: #800080; text-decoration-color: #800080; font-weight: bold\"> What considerations are important to youin shopping for clothes?                                                </span>┃\n",
       "┡━━━━━━━━━━━━━━━━━━━━━━━━━━━━━━━━━━━━━━━━━━━━━━━━━━━━━━━━━━━━━━━━━━━━━━━━━━━━━━━━━━━━━━━━━━━━━━━━━━━━━━━━━━━━━━━━━┩\n",
       "│<span style=\"color: #7f7f7f; text-decoration-color: #7f7f7f\"> ['fit', 'comfort', 'quality', 'style', 'price', 'fabric', 'brand', 'sustainability', 'versatility', 'occasion', </span>│\n",
       "│<span style=\"color: #7f7f7f; text-decoration-color: #7f7f7f\"> 'seasonality', 'color', 'maintenance', 'return policy', 'reviews']                                              </span>│\n",
       "└─────────────────────────────────────────────────────────────────────────────────────────────────────────────────┘\n",
       "</pre>\n"
      ],
      "text/plain": [
       "┏━━━━━━━━━━━━━━━━━━━━━━━━━━━━━━━━━━━━━━━━━━━━━━━━━━━━━━━━━━━━━━━━━━━━━━━━━━━━━━━━━━━━━━━━━━━━━━━━━━━━━━━━━━━━━━━━━┓\n",
       "┃\u001b[1;35m \u001b[0m\u001b[1;35mWhat considerations are important to youin shopping for clothes?                                               \u001b[0m\u001b[1;35m \u001b[0m┃\n",
       "┡━━━━━━━━━━━━━━━━━━━━━━━━━━━━━━━━━━━━━━━━━━━━━━━━━━━━━━━━━━━━━━━━━━━━━━━━━━━━━━━━━━━━━━━━━━━━━━━━━━━━━━━━━━━━━━━━━┩\n",
       "│\u001b[2m \u001b[0m\u001b[2m['fit', 'comfort', 'quality', 'style', 'price', 'fabric', 'brand', 'sustainability', 'versatility', 'occasion',\u001b[0m\u001b[2m \u001b[0m│\n",
       "│\u001b[2m \u001b[0m\u001b[2m'seasonality', 'color', 'maintenance', 'return policy', 'reviews']                                             \u001b[0m\u001b[2m \u001b[0m│\n",
       "└─────────────────────────────────────────────────────────────────────────────────────────────────────────────────┘\n"
      ]
     },
     "metadata": {},
     "output_type": "display_data"
    },
    {
     "data": {
      "text/html": [
       "<pre style=\"white-space:pre;overflow-x:auto;line-height:normal;font-family:Menlo,'DejaVu Sans Mono',consolas,'Courier New',monospace\">┏━━━━━━━━━━━━━━━━━━━━━━━━━━━━━━━━━━━━━━━━━━━━━━━━━━━━━━━━━━━━━━━━━━━━━━━━━━━━━━━━━━━━┓\n",
       "┃<span style=\"color: #800080; text-decoration-color: #800080; font-weight: bold\"> Estimate the amount of money that you spent on clothing in the past year (in $USD) </span>┃\n",
       "┃<span style=\"color: #800080; text-decoration-color: #800080; font-weight: bold\"> .                                                                                  </span>┃\n",
       "┡━━━━━━━━━━━━━━━━━━━━━━━━━━━━━━━━━━━━━━━━━━━━━━━━━━━━━━━━━━━━━━━━━━━━━━━━━━━━━━━━━━━━┩\n",
       "│<span style=\"color: #7f7f7f; text-decoration-color: #7f7f7f\"> 500                                                                                </span>│\n",
       "└────────────────────────────────────────────────────────────────────────────────────┘\n",
       "</pre>\n"
      ],
      "text/plain": [
       "┏━━━━━━━━━━━━━━━━━━━━━━━━━━━━━━━━━━━━━━━━━━━━━━━━━━━━━━━━━━━━━━━━━━━━━━━━━━━━━━━━━━━━┓\n",
       "┃\u001b[1;35m \u001b[0m\u001b[1;35mEstimate the amount of money that you spent on clothing in the past year (in $USD)\u001b[0m\u001b[1;35m \u001b[0m┃\n",
       "┃\u001b[1;35m \u001b[0m\u001b[1;35m.                                                                                 \u001b[0m\u001b[1;35m \u001b[0m┃\n",
       "┡━━━━━━━━━━━━━━━━━━━━━━━━━━━━━━━━━━━━━━━━━━━━━━━━━━━━━━━━━━━━━━━━━━━━━━━━━━━━━━━━━━━━┩\n",
       "│\u001b[2m \u001b[0m\u001b[2m500                                                                               \u001b[0m\u001b[2m \u001b[0m│\n",
       "└────────────────────────────────────────────────────────────────────────────────────┘\n"
      ]
     },
     "metadata": {},
     "output_type": "display_data"
    },
    {
     "data": {
      "text/html": [
       "<pre style=\"white-space:pre;overflow-x:auto;line-height:normal;font-family:Menlo,'DejaVu Sans Mono',consolas,'Courier New',monospace\">┏━━━━━━━━━━━━━━━━━━━━━━━━━━━━━━━━━━━━━━━━━━━━━━━━━━━━━━━━━━━━━━━━━━━━━━━━━━━━━━━━━┓\n",
       "┃<span style=\"color: #800080; text-decoration-color: #800080; font-weight: bold\"> Consider all of the articles of clothing in your closet                         </span>┃\n",
       "┃<span style=\"color: #800080; text-decoration-color: #800080; font-weight: bold\"> .                                                                               </span>┃\n",
       "┃<span style=\"color: #800080; text-decoration-color: #800080; font-weight: bold\">     Identify the categories of clothing that are most and least valuable to you </span>┃\n",
       "┃<span style=\"color: #800080; text-decoration-color: #800080; font-weight: bold\"> .                                                                               </span>┃\n",
       "┡━━━━━━━━━━━━━━━━━━━━━━━━━━━━━━━━━━━━━━━━━━━━━━━━━━━━━━━━━━━━━━━━━━━━━━━━━━━━━━━━━┩\n",
       "│<span style=\"color: #7f7f7f; text-decoration-color: #7f7f7f\"> {'most_valuable': 'null', 'least_valuable': 'null'}                             </span>│\n",
       "└─────────────────────────────────────────────────────────────────────────────────┘\n",
       "</pre>\n"
      ],
      "text/plain": [
       "┏━━━━━━━━━━━━━━━━━━━━━━━━━━━━━━━━━━━━━━━━━━━━━━━━━━━━━━━━━━━━━━━━━━━━━━━━━━━━━━━━━┓\n",
       "┃\u001b[1;35m \u001b[0m\u001b[1;35mConsider all of the articles of clothing in your closet                        \u001b[0m\u001b[1;35m \u001b[0m┃\n",
       "┃\u001b[1;35m \u001b[0m\u001b[1;35m.                                                                              \u001b[0m\u001b[1;35m \u001b[0m┃\n",
       "┃\u001b[1;35m \u001b[0m\u001b[1;35m    Identify the categories of clothing that are most and least valuable to you\u001b[0m\u001b[1;35m \u001b[0m┃\n",
       "┃\u001b[1;35m \u001b[0m\u001b[1;35m.                                                                              \u001b[0m\u001b[1;35m \u001b[0m┃\n",
       "┡━━━━━━━━━━━━━━━━━━━━━━━━━━━━━━━━━━━━━━━━━━━━━━━━━━━━━━━━━━━━━━━━━━━━━━━━━━━━━━━━━┩\n",
       "│\u001b[2m \u001b[0m\u001b[2m{'most_valuable': 'null', 'least_valuable': 'null'}                            \u001b[0m\u001b[2m \u001b[0m│\n",
       "└─────────────────────────────────────────────────────────────────────────────────┘\n"
      ]
     },
     "metadata": {},
     "output_type": "display_data"
    }
   ],
   "source": [
    "result_mc.select(\"q_mc\").print(pretty_labels={\"answer.q_mc\":q_mc.question_text})\n",
    "result_cb.select(\"q_cb\").print(pretty_labels={\"answer.q_cb\":q_cb.question_text})\n",
    "result_ls.select(\"q_ls\").print(pretty_labels={\"answer.q_ls\":q_ls.question_text})\n",
    "result_yn.select(\"q_yn\").print(pretty_labels={\"answer.q_yn\":q_yn.question_text})\n",
    "result_bg.select(\"q_bg\").print(pretty_labels={\"answer.q_bg\":q_bg.question_text})\n",
    "result_ft.select(\"q_ft\").print(pretty_labels={\"answer.q_ft\":q_ft.question_text})\n",
    "result_li.select(\"q_li\").print(pretty_labels={\"answer.q_li\":q_li.question_text})\n",
    "result_nu.select(\"q_nu\").print(pretty_labels={\"answer.q_nu\":q_nu.question_text})\n",
    "result_ex.select(\"q_ex\").print(pretty_labels={\"answer.q_ex\":q_ex.question_text})"
   ]
  },
  {
   "cell_type": "markdown",
   "metadata": {
    "cell_id": "e8ae8f6d35634c8ebb4a4ae7149fe7c7",
    "deepnote_app_block_visible": true,
    "deepnote_cell_type": "markdown"
   },
   "source": [
    "## Constructing a survey\n",
    "We can also combine our questions into a survey to adminster them asynchronously:"
   ]
  },
  {
   "cell_type": "code",
   "execution_count": 14,
   "metadata": {
    "cell_id": "f94fb91ea93f48a18a4e6bd957898e1d",
    "deepnote_app_block_visible": true,
    "deepnote_cell_type": "code",
    "deepnote_to_be_reexecuted": false,
    "execution_millis": 2003,
    "execution_start": 1710805614325,
    "source_hash": null
   },
   "outputs": [],
   "source": [
    "from edsl import Survey \n",
    "\n",
    "survey = Survey(questions = [\n",
    "    q_mc,\n",
    "    q_cb,\n",
    "    q_ls,\n",
    "    q_yn,\n",
    "    q_bg,\n",
    "    q_ft,\n",
    "    q_li,\n",
    "    q_nu,\n",
    "    q_ex\n",
    "])\n",
    "\n",
    "results = survey.run()"
   ]
  },
  {
   "cell_type": "code",
   "execution_count": 15,
   "metadata": {
    "allow_embed": false,
    "cell_id": "711b1af75abf4d8ea86b5f746591daba",
    "deepnote_app_block_visible": true,
    "deepnote_cell_type": "code",
    "deepnote_to_be_reexecuted": false,
    "execution_millis": 39,
    "execution_start": 1710805621764,
    "source_hash": null
   },
   "outputs": [
    {
     "data": {
      "text/html": [
       "<pre style=\"white-space:pre;overflow-x:auto;line-height:normal;font-family:Menlo,'DejaVu Sans Mono',consolas,'Courier New',monospace\">┏━━━━━━━━━━━━┳━━━━━━━━━━━━━━━━━━━━━━━━━━━━━━━━━━━━━━━━┳━━━━━━━━┳━━━━━━━━┳━━━━━━━━━━━━━━━━━━━━━━━━━━━━━━━━━━━━━━━━━┓\n",
       "┃<span style=\"color: #800080; text-decoration-color: #800080; font-weight: bold\"> answer     </span>┃<span style=\"color: #800080; text-decoration-color: #800080; font-weight: bold\"> answer                                 </span>┃<span style=\"color: #800080; text-decoration-color: #800080; font-weight: bold\"> answer </span>┃<span style=\"color: #800080; text-decoration-color: #800080; font-weight: bold\"> answer </span>┃<span style=\"color: #800080; text-decoration-color: #800080; font-weight: bold\"> answer                                  </span>┃\n",
       "┃<span style=\"color: #800080; text-decoration-color: #800080; font-weight: bold\"> .q_mc      </span>┃<span style=\"color: #800080; text-decoration-color: #800080; font-weight: bold\"> .q_cb                                  </span>┃<span style=\"color: #800080; text-decoration-color: #800080; font-weight: bold\"> .q_ls  </span>┃<span style=\"color: #800080; text-decoration-color: #800080; font-weight: bold\"> .q_yn  </span>┃<span style=\"color: #800080; text-decoration-color: #800080; font-weight: bold\"> .q_bg                                   </span>┃\n",
       "┡━━━━━━━━━━━━╇━━━━━━━━━━━━━━━━━━━━━━━━━━━━━━━━━━━━━━━━╇━━━━━━━━╇━━━━━━━━╇━━━━━━━━━━━━━━━━━━━━━━━━━━━━━━━━━━━━━━━━━┩\n",
       "│<span style=\"color: #7f7f7f; text-decoration-color: #7f7f7f\"> Seasonally </span>│<span style=\"color: #7f7f7f; text-decoration-color: #7f7f7f\"> ['Quality', 'Style and Design', 'Fit   </span>│<span style=\"color: #7f7f7f; text-decoration-color: #7f7f7f\"> 5      </span>│<span style=\"color: #7f7f7f; text-decoration-color: #7f7f7f\"> Yes    </span>│<span style=\"color: #7f7f7f; text-decoration-color: #7f7f7f\"> [{'Online': 40}, {'Malls': 40},         </span>│\n",
       "│<span style=\"color: #7f7f7f; text-decoration-color: #7f7f7f\">            </span>│<span style=\"color: #7f7f7f; text-decoration-color: #7f7f7f\"> and Comfort']                          </span>│<span style=\"color: #7f7f7f; text-decoration-color: #7f7f7f\">        </span>│<span style=\"color: #7f7f7f; text-decoration-color: #7f7f7f\">        </span>│<span style=\"color: #7f7f7f; text-decoration-color: #7f7f7f\"> {'Freestanding stores': 15}, {'Mail     </span>│\n",
       "│<span style=\"color: #7f7f7f; text-decoration-color: #7f7f7f\">            </span>│<span style=\"color: #7f7f7f; text-decoration-color: #7f7f7f\">                                        </span>│<span style=\"color: #7f7f7f; text-decoration-color: #7f7f7f\">        </span>│<span style=\"color: #7f7f7f; text-decoration-color: #7f7f7f\">        </span>│<span style=\"color: #7f7f7f; text-decoration-color: #7f7f7f\"> order catalogs': 0}, {'Other': 5}]      </span>│\n",
       "└────────────┴────────────────────────────────────────┴────────┴────────┴─────────────────────────────────────────┘\n",
       "</pre>\n"
      ],
      "text/plain": [
       "┏━━━━━━━━━━━━┳━━━━━━━━━━━━━━━━━━━━━━━━━━━━━━━━━━━━━━━━┳━━━━━━━━┳━━━━━━━━┳━━━━━━━━━━━━━━━━━━━━━━━━━━━━━━━━━━━━━━━━━┓\n",
       "┃\u001b[1;35m \u001b[0m\u001b[1;35manswer    \u001b[0m\u001b[1;35m \u001b[0m┃\u001b[1;35m \u001b[0m\u001b[1;35manswer                                \u001b[0m\u001b[1;35m \u001b[0m┃\u001b[1;35m \u001b[0m\u001b[1;35manswer\u001b[0m\u001b[1;35m \u001b[0m┃\u001b[1;35m \u001b[0m\u001b[1;35manswer\u001b[0m\u001b[1;35m \u001b[0m┃\u001b[1;35m \u001b[0m\u001b[1;35manswer                                 \u001b[0m\u001b[1;35m \u001b[0m┃\n",
       "┃\u001b[1;35m \u001b[0m\u001b[1;35m.q_mc     \u001b[0m\u001b[1;35m \u001b[0m┃\u001b[1;35m \u001b[0m\u001b[1;35m.q_cb                                 \u001b[0m\u001b[1;35m \u001b[0m┃\u001b[1;35m \u001b[0m\u001b[1;35m.q_ls \u001b[0m\u001b[1;35m \u001b[0m┃\u001b[1;35m \u001b[0m\u001b[1;35m.q_yn \u001b[0m\u001b[1;35m \u001b[0m┃\u001b[1;35m \u001b[0m\u001b[1;35m.q_bg                                  \u001b[0m\u001b[1;35m \u001b[0m┃\n",
       "┡━━━━━━━━━━━━╇━━━━━━━━━━━━━━━━━━━━━━━━━━━━━━━━━━━━━━━━╇━━━━━━━━╇━━━━━━━━╇━━━━━━━━━━━━━━━━━━━━━━━━━━━━━━━━━━━━━━━━━┩\n",
       "│\u001b[2m \u001b[0m\u001b[2mSeasonally\u001b[0m\u001b[2m \u001b[0m│\u001b[2m \u001b[0m\u001b[2m['Quality', 'Style and Design', 'Fit  \u001b[0m\u001b[2m \u001b[0m│\u001b[2m \u001b[0m\u001b[2m5     \u001b[0m\u001b[2m \u001b[0m│\u001b[2m \u001b[0m\u001b[2mYes   \u001b[0m\u001b[2m \u001b[0m│\u001b[2m \u001b[0m\u001b[2m[{'Online': 40}, {'Malls': 40},        \u001b[0m\u001b[2m \u001b[0m│\n",
       "│\u001b[2m            \u001b[0m│\u001b[2m \u001b[0m\u001b[2mand Comfort']                         \u001b[0m\u001b[2m \u001b[0m│\u001b[2m        \u001b[0m│\u001b[2m        \u001b[0m│\u001b[2m \u001b[0m\u001b[2m{'Freestanding stores': 15}, {'Mail    \u001b[0m\u001b[2m \u001b[0m│\n",
       "│\u001b[2m            \u001b[0m│\u001b[2m                                        \u001b[0m│\u001b[2m        \u001b[0m│\u001b[2m        \u001b[0m│\u001b[2m \u001b[0m\u001b[2morder catalogs': 0}, {'Other': 5}]     \u001b[0m\u001b[2m \u001b[0m│\n",
       "└────────────┴────────────────────────────────────────┴────────┴────────┴─────────────────────────────────────────┘\n"
      ]
     },
     "metadata": {},
     "output_type": "display_data"
    }
   ],
   "source": [
    "results.select(\"q_mc\", \"q_cb\", \"q_ls\", \"q_yn\", \"q_bg\").print()"
   ]
  },
  {
   "cell_type": "code",
   "execution_count": 16,
   "metadata": {
    "allow_embed": false,
    "cell_id": "efb65b2d8408429797d928e4a48548d0",
    "deepnote_app_block_visible": true,
    "deepnote_cell_type": "code",
    "deepnote_to_be_reexecuted": false,
    "execution_millis": 13,
    "execution_start": 1710805631000,
    "source_hash": null
   },
   "outputs": [
    {
     "data": {
      "text/html": [
       "<pre style=\"white-space:pre;overflow-x:auto;line-height:normal;font-family:Menlo,'DejaVu Sans Mono',consolas,'Courier New',monospace\">┏━━━━━━━━━━━━━━━━━━━━━━━━━━━━━━━━━━┳━━━━━━━━━━━━━━━━━━━━━━━━━━━━━━━━━━┳━━━━━━━━┳━━━━━━━━━━━━━━━━━━━━━━━━━━━━━━━━━━┓\n",
       "┃<span style=\"color: #800080; text-decoration-color: #800080; font-weight: bold\"> answer                           </span>┃<span style=\"color: #800080; text-decoration-color: #800080; font-weight: bold\"> answer                           </span>┃<span style=\"color: #800080; text-decoration-color: #800080; font-weight: bold\"> answer </span>┃<span style=\"color: #800080; text-decoration-color: #800080; font-weight: bold\"> answer                           </span>┃\n",
       "┃<span style=\"color: #800080; text-decoration-color: #800080; font-weight: bold\"> .q_ft                            </span>┃<span style=\"color: #800080; text-decoration-color: #800080; font-weight: bold\"> .q_li                            </span>┃<span style=\"color: #800080; text-decoration-color: #800080; font-weight: bold\"> .q_nu  </span>┃<span style=\"color: #800080; text-decoration-color: #800080; font-weight: bold\"> .q_ex                            </span>┃\n",
       "┡━━━━━━━━━━━━━━━━━━━━━━━━━━━━━━━━━━╇━━━━━━━━━━━━━━━━━━━━━━━━━━━━━━━━━━╇━━━━━━━━╇━━━━━━━━━━━━━━━━━━━━━━━━━━━━━━━━━━┩\n",
       "│<span style=\"color: #7f7f7f; text-decoration-color: #7f7f7f\"> I'd like to see more diverse     </span>│<span style=\"color: #7f7f7f; text-decoration-color: #7f7f7f\"> ['fit', 'comfort', 'quality',    </span>│<span style=\"color: #7f7f7f; text-decoration-color: #7f7f7f\"> 500    </span>│<span style=\"color: #7f7f7f; text-decoration-color: #7f7f7f\"> {'most_valuable': 'null',        </span>│\n",
       "│<span style=\"color: #7f7f7f; text-decoration-color: #7f7f7f\"> sizing options to accommodate    </span>│<span style=\"color: #7f7f7f; text-decoration-color: #7f7f7f\"> 'style', 'price', 'fabric',      </span>│<span style=\"color: #7f7f7f; text-decoration-color: #7f7f7f\">        </span>│<span style=\"color: #7f7f7f; text-decoration-color: #7f7f7f\"> 'least_valuable': 'null'}        </span>│\n",
       "│<span style=\"color: #7f7f7f; text-decoration-color: #7f7f7f\"> different body types, including  </span>│<span style=\"color: #7f7f7f; text-decoration-color: #7f7f7f\"> 'brand', 'sustainability',       </span>│<span style=\"color: #7f7f7f; text-decoration-color: #7f7f7f\">        </span>│<span style=\"color: #7f7f7f; text-decoration-color: #7f7f7f\">                                  </span>│\n",
       "│<span style=\"color: #7f7f7f; text-decoration-color: #7f7f7f\"> petite, plus, and tall ranges.   </span>│<span style=\"color: #7f7f7f; text-decoration-color: #7f7f7f\"> 'versatility', 'occasion',       </span>│<span style=\"color: #7f7f7f; text-decoration-color: #7f7f7f\">        </span>│<span style=\"color: #7f7f7f; text-decoration-color: #7f7f7f\">                                  </span>│\n",
       "│<span style=\"color: #7f7f7f; text-decoration-color: #7f7f7f\"> It would also be beneficial to   </span>│<span style=\"color: #7f7f7f; text-decoration-color: #7f7f7f\"> 'seasonality', 'color',          </span>│<span style=\"color: #7f7f7f; text-decoration-color: #7f7f7f\">        </span>│<span style=\"color: #7f7f7f; text-decoration-color: #7f7f7f\">                                  </span>│\n",
       "│<span style=\"color: #7f7f7f; text-decoration-color: #7f7f7f\"> have more sustainable and        </span>│<span style=\"color: #7f7f7f; text-decoration-color: #7f7f7f\"> 'maintenance', 'return policy',  </span>│<span style=\"color: #7f7f7f; text-decoration-color: #7f7f7f\">        </span>│<span style=\"color: #7f7f7f; text-decoration-color: #7f7f7f\">                                  </span>│\n",
       "│<span style=\"color: #7f7f7f; text-decoration-color: #7f7f7f\"> eco-friendly clothing options    </span>│<span style=\"color: #7f7f7f; text-decoration-color: #7f7f7f\"> 'reviews']                       </span>│<span style=\"color: #7f7f7f; text-decoration-color: #7f7f7f\">        </span>│<span style=\"color: #7f7f7f; text-decoration-color: #7f7f7f\">                                  </span>│\n",
       "│<span style=\"color: #7f7f7f; text-decoration-color: #7f7f7f\"> readily available. Additionally, </span>│<span style=\"color: #7f7f7f; text-decoration-color: #7f7f7f\">                                  </span>│<span style=\"color: #7f7f7f; text-decoration-color: #7f7f7f\">        </span>│<span style=\"color: #7f7f7f; text-decoration-color: #7f7f7f\">                                  </span>│\n",
       "│<span style=\"color: #7f7f7f; text-decoration-color: #7f7f7f\"> incorporating advanced virtual   </span>│<span style=\"color: #7f7f7f; text-decoration-color: #7f7f7f\">                                  </span>│<span style=\"color: #7f7f7f; text-decoration-color: #7f7f7f\">        </span>│<span style=\"color: #7f7f7f; text-decoration-color: #7f7f7f\">                                  </span>│\n",
       "│<span style=\"color: #7f7f7f; text-decoration-color: #7f7f7f\"> fitting technology could help    </span>│<span style=\"color: #7f7f7f; text-decoration-color: #7f7f7f\">                                  </span>│<span style=\"color: #7f7f7f; text-decoration-color: #7f7f7f\">        </span>│<span style=\"color: #7f7f7f; text-decoration-color: #7f7f7f\">                                  </span>│\n",
       "│<span style=\"color: #7f7f7f; text-decoration-color: #7f7f7f\"> online shoppers find the perfect </span>│<span style=\"color: #7f7f7f; text-decoration-color: #7f7f7f\">                                  </span>│<span style=\"color: #7f7f7f; text-decoration-color: #7f7f7f\">        </span>│<span style=\"color: #7f7f7f; text-decoration-color: #7f7f7f\">                                  </span>│\n",
       "│<span style=\"color: #7f7f7f; text-decoration-color: #7f7f7f\"> fit without the guesswork.       </span>│<span style=\"color: #7f7f7f; text-decoration-color: #7f7f7f\">                                  </span>│<span style=\"color: #7f7f7f; text-decoration-color: #7f7f7f\">        </span>│<span style=\"color: #7f7f7f; text-decoration-color: #7f7f7f\">                                  </span>│\n",
       "│<span style=\"color: #7f7f7f; text-decoration-color: #7f7f7f\"> Lastly, having more personalized </span>│<span style=\"color: #7f7f7f; text-decoration-color: #7f7f7f\">                                  </span>│<span style=\"color: #7f7f7f; text-decoration-color: #7f7f7f\">        </span>│<span style=\"color: #7f7f7f; text-decoration-color: #7f7f7f\">                                  </span>│\n",
       "│<span style=\"color: #7f7f7f; text-decoration-color: #7f7f7f\"> recommendations based on past    </span>│<span style=\"color: #7f7f7f; text-decoration-color: #7f7f7f\">                                  </span>│<span style=\"color: #7f7f7f; text-decoration-color: #7f7f7f\">        </span>│<span style=\"color: #7f7f7f; text-decoration-color: #7f7f7f\">                                  </span>│\n",
       "│<span style=\"color: #7f7f7f; text-decoration-color: #7f7f7f\"> purchases and preferences could  </span>│<span style=\"color: #7f7f7f; text-decoration-color: #7f7f7f\">                                  </span>│<span style=\"color: #7f7f7f; text-decoration-color: #7f7f7f\">        </span>│<span style=\"color: #7f7f7f; text-decoration-color: #7f7f7f\">                                  </span>│\n",
       "│<span style=\"color: #7f7f7f; text-decoration-color: #7f7f7f\"> enhance the shopping experience. </span>│<span style=\"color: #7f7f7f; text-decoration-color: #7f7f7f\">                                  </span>│<span style=\"color: #7f7f7f; text-decoration-color: #7f7f7f\">        </span>│<span style=\"color: #7f7f7f; text-decoration-color: #7f7f7f\">                                  </span>│\n",
       "└──────────────────────────────────┴──────────────────────────────────┴────────┴──────────────────────────────────┘\n",
       "</pre>\n"
      ],
      "text/plain": [
       "┏━━━━━━━━━━━━━━━━━━━━━━━━━━━━━━━━━━┳━━━━━━━━━━━━━━━━━━━━━━━━━━━━━━━━━━┳━━━━━━━━┳━━━━━━━━━━━━━━━━━━━━━━━━━━━━━━━━━━┓\n",
       "┃\u001b[1;35m \u001b[0m\u001b[1;35manswer                          \u001b[0m\u001b[1;35m \u001b[0m┃\u001b[1;35m \u001b[0m\u001b[1;35manswer                          \u001b[0m\u001b[1;35m \u001b[0m┃\u001b[1;35m \u001b[0m\u001b[1;35manswer\u001b[0m\u001b[1;35m \u001b[0m┃\u001b[1;35m \u001b[0m\u001b[1;35manswer                          \u001b[0m\u001b[1;35m \u001b[0m┃\n",
       "┃\u001b[1;35m \u001b[0m\u001b[1;35m.q_ft                           \u001b[0m\u001b[1;35m \u001b[0m┃\u001b[1;35m \u001b[0m\u001b[1;35m.q_li                           \u001b[0m\u001b[1;35m \u001b[0m┃\u001b[1;35m \u001b[0m\u001b[1;35m.q_nu \u001b[0m\u001b[1;35m \u001b[0m┃\u001b[1;35m \u001b[0m\u001b[1;35m.q_ex                           \u001b[0m\u001b[1;35m \u001b[0m┃\n",
       "┡━━━━━━━━━━━━━━━━━━━━━━━━━━━━━━━━━━╇━━━━━━━━━━━━━━━━━━━━━━━━━━━━━━━━━━╇━━━━━━━━╇━━━━━━━━━━━━━━━━━━━━━━━━━━━━━━━━━━┩\n",
       "│\u001b[2m \u001b[0m\u001b[2mI'd like to see more diverse    \u001b[0m\u001b[2m \u001b[0m│\u001b[2m \u001b[0m\u001b[2m['fit', 'comfort', 'quality',   \u001b[0m\u001b[2m \u001b[0m│\u001b[2m \u001b[0m\u001b[2m500   \u001b[0m\u001b[2m \u001b[0m│\u001b[2m \u001b[0m\u001b[2m{'most_valuable': 'null',       \u001b[0m\u001b[2m \u001b[0m│\n",
       "│\u001b[2m \u001b[0m\u001b[2msizing options to accommodate   \u001b[0m\u001b[2m \u001b[0m│\u001b[2m \u001b[0m\u001b[2m'style', 'price', 'fabric',     \u001b[0m\u001b[2m \u001b[0m│\u001b[2m        \u001b[0m│\u001b[2m \u001b[0m\u001b[2m'least_valuable': 'null'}       \u001b[0m\u001b[2m \u001b[0m│\n",
       "│\u001b[2m \u001b[0m\u001b[2mdifferent body types, including \u001b[0m\u001b[2m \u001b[0m│\u001b[2m \u001b[0m\u001b[2m'brand', 'sustainability',      \u001b[0m\u001b[2m \u001b[0m│\u001b[2m        \u001b[0m│\u001b[2m                                  \u001b[0m│\n",
       "│\u001b[2m \u001b[0m\u001b[2mpetite, plus, and tall ranges.  \u001b[0m\u001b[2m \u001b[0m│\u001b[2m \u001b[0m\u001b[2m'versatility', 'occasion',      \u001b[0m\u001b[2m \u001b[0m│\u001b[2m        \u001b[0m│\u001b[2m                                  \u001b[0m│\n",
       "│\u001b[2m \u001b[0m\u001b[2mIt would also be beneficial to  \u001b[0m\u001b[2m \u001b[0m│\u001b[2m \u001b[0m\u001b[2m'seasonality', 'color',         \u001b[0m\u001b[2m \u001b[0m│\u001b[2m        \u001b[0m│\u001b[2m                                  \u001b[0m│\n",
       "│\u001b[2m \u001b[0m\u001b[2mhave more sustainable and       \u001b[0m\u001b[2m \u001b[0m│\u001b[2m \u001b[0m\u001b[2m'maintenance', 'return policy', \u001b[0m\u001b[2m \u001b[0m│\u001b[2m        \u001b[0m│\u001b[2m                                  \u001b[0m│\n",
       "│\u001b[2m \u001b[0m\u001b[2meco-friendly clothing options   \u001b[0m\u001b[2m \u001b[0m│\u001b[2m \u001b[0m\u001b[2m'reviews']                      \u001b[0m\u001b[2m \u001b[0m│\u001b[2m        \u001b[0m│\u001b[2m                                  \u001b[0m│\n",
       "│\u001b[2m \u001b[0m\u001b[2mreadily available. Additionally,\u001b[0m\u001b[2m \u001b[0m│\u001b[2m                                  \u001b[0m│\u001b[2m        \u001b[0m│\u001b[2m                                  \u001b[0m│\n",
       "│\u001b[2m \u001b[0m\u001b[2mincorporating advanced virtual  \u001b[0m\u001b[2m \u001b[0m│\u001b[2m                                  \u001b[0m│\u001b[2m        \u001b[0m│\u001b[2m                                  \u001b[0m│\n",
       "│\u001b[2m \u001b[0m\u001b[2mfitting technology could help   \u001b[0m\u001b[2m \u001b[0m│\u001b[2m                                  \u001b[0m│\u001b[2m        \u001b[0m│\u001b[2m                                  \u001b[0m│\n",
       "│\u001b[2m \u001b[0m\u001b[2monline shoppers find the perfect\u001b[0m\u001b[2m \u001b[0m│\u001b[2m                                  \u001b[0m│\u001b[2m        \u001b[0m│\u001b[2m                                  \u001b[0m│\n",
       "│\u001b[2m \u001b[0m\u001b[2mfit without the guesswork.      \u001b[0m\u001b[2m \u001b[0m│\u001b[2m                                  \u001b[0m│\u001b[2m        \u001b[0m│\u001b[2m                                  \u001b[0m│\n",
       "│\u001b[2m \u001b[0m\u001b[2mLastly, having more personalized\u001b[0m\u001b[2m \u001b[0m│\u001b[2m                                  \u001b[0m│\u001b[2m        \u001b[0m│\u001b[2m                                  \u001b[0m│\n",
       "│\u001b[2m \u001b[0m\u001b[2mrecommendations based on past   \u001b[0m\u001b[2m \u001b[0m│\u001b[2m                                  \u001b[0m│\u001b[2m        \u001b[0m│\u001b[2m                                  \u001b[0m│\n",
       "│\u001b[2m \u001b[0m\u001b[2mpurchases and preferences could \u001b[0m\u001b[2m \u001b[0m│\u001b[2m                                  \u001b[0m│\u001b[2m        \u001b[0m│\u001b[2m                                  \u001b[0m│\n",
       "│\u001b[2m \u001b[0m\u001b[2menhance the shopping experience.\u001b[0m\u001b[2m \u001b[0m│\u001b[2m                                  \u001b[0m│\u001b[2m        \u001b[0m│\u001b[2m                                  \u001b[0m│\n",
       "└──────────────────────────────────┴──────────────────────────────────┴────────┴──────────────────────────────────┘\n"
      ]
     },
     "metadata": {},
     "output_type": "display_data"
    }
   ],
   "source": [
    "results.select(\"q_ft\", \"q_li\", \"q_nu\", \"q_ex\").print()"
   ]
  },
  {
   "cell_type": "markdown",
   "metadata": {
    "cell_id": "05471df5adc646abb539dffb6002b4df",
    "deepnote_app_block_visible": true,
    "deepnote_cell_type": "markdown"
   },
   "source": [
    "## Parameterizing questions\n",
    "We can create different versions or scenarios of questions by parameterizing them:"
   ]
  },
  {
   "cell_type": "code",
   "execution_count": 17,
   "metadata": {
    "cell_id": "23fe91d998304903a86d2504bdd8fff8",
    "deepnote_app_block_visible": true,
    "deepnote_cell_type": "code",
    "deepnote_to_be_reexecuted": false,
    "execution_millis": 3265,
    "execution_start": 1710805884064,
    "source_hash": null
   },
   "outputs": [
    {
     "data": {
      "text/html": [
       "<pre style=\"white-space:pre;overflow-x:auto;line-height:normal;font-family:Menlo,'DejaVu Sans Mono',consolas,'Courier New',monospace\">┏━━━━━━━━━━┳━━━━━━━━━━━━━━━━━━━━━━━┓\n",
       "┃<span style=\"color: #800080; text-decoration-color: #800080; font-weight: bold\"> scenario </span>┃<span style=\"color: #800080; text-decoration-color: #800080; font-weight: bold\"> answer                </span>┃\n",
       "┃<span style=\"color: #800080; text-decoration-color: #800080; font-weight: bold\"> .item    </span>┃<span style=\"color: #800080; text-decoration-color: #800080; font-weight: bold\"> .annual_item_spending </span>┃\n",
       "┡━━━━━━━━━━╇━━━━━━━━━━━━━━━━━━━━━━━┩\n",
       "│<span style=\"color: #7f7f7f; text-decoration-color: #7f7f7f\"> shoes    </span>│<span style=\"color: #7f7f7f; text-decoration-color: #7f7f7f\"> 0                     </span>│\n",
       "├──────────┼───────────────────────┤\n",
       "│<span style=\"color: #7f7f7f; text-decoration-color: #7f7f7f\"> hats     </span>│<span style=\"color: #7f7f7f; text-decoration-color: #7f7f7f\"> 0                     </span>│\n",
       "├──────────┼───────────────────────┤\n",
       "│<span style=\"color: #7f7f7f; text-decoration-color: #7f7f7f\"> tshirts  </span>│<span style=\"color: #7f7f7f; text-decoration-color: #7f7f7f\"> 0                     </span>│\n",
       "└──────────┴───────────────────────┘\n",
       "</pre>\n"
      ],
      "text/plain": [
       "┏━━━━━━━━━━┳━━━━━━━━━━━━━━━━━━━━━━━┓\n",
       "┃\u001b[1;35m \u001b[0m\u001b[1;35mscenario\u001b[0m\u001b[1;35m \u001b[0m┃\u001b[1;35m \u001b[0m\u001b[1;35manswer               \u001b[0m\u001b[1;35m \u001b[0m┃\n",
       "┃\u001b[1;35m \u001b[0m\u001b[1;35m.item   \u001b[0m\u001b[1;35m \u001b[0m┃\u001b[1;35m \u001b[0m\u001b[1;35m.annual_item_spending\u001b[0m\u001b[1;35m \u001b[0m┃\n",
       "┡━━━━━━━━━━╇━━━━━━━━━━━━━━━━━━━━━━━┩\n",
       "│\u001b[2m \u001b[0m\u001b[2mshoes   \u001b[0m\u001b[2m \u001b[0m│\u001b[2m \u001b[0m\u001b[2m0                    \u001b[0m\u001b[2m \u001b[0m│\n",
       "├──────────┼───────────────────────┤\n",
       "│\u001b[2m \u001b[0m\u001b[2mhats    \u001b[0m\u001b[2m \u001b[0m│\u001b[2m \u001b[0m\u001b[2m0                    \u001b[0m\u001b[2m \u001b[0m│\n",
       "├──────────┼───────────────────────┤\n",
       "│\u001b[2m \u001b[0m\u001b[2mtshirts \u001b[0m\u001b[2m \u001b[0m│\u001b[2m \u001b[0m\u001b[2m0                    \u001b[0m\u001b[2m \u001b[0m│\n",
       "└──────────┴───────────────────────┘\n"
      ]
     },
     "metadata": {},
     "output_type": "display_data"
    }
   ],
   "source": [
    "from edsl import Scenario\n",
    "\n",
    "scenarios = [Scenario({\"item\":i}) for i in [\"shoes\", \"hats\", \"tshirts\"]]\n",
    "\n",
    "q = QuestionNumerical(\n",
    "    question_name = \"annual_item_spending\",\n",
    "    question_text = \"How much do you spend shopping for {{ item }} on an annual basis (in $USD)?\",\n",
    ")\n",
    "\n",
    "results = q.by(scenarios).run()\n",
    "results.select(\"scenario.*\", \"annual_item_spending\").print()"
   ]
  },
  {
   "cell_type": "markdown",
   "metadata": {
    "cell_id": "3b7a2f758cf54a069956baa7787e847a",
    "deepnote_app_block_visible": true,
    "deepnote_cell_type": "markdown"
   },
   "source": [
    "### Filtering results\n",
    "We can filter results by adding a logical expression to the `select()` method. Note that all question types other than free text automatically include a \"comment\" field for the response:"
   ]
  },
  {
   "cell_type": "code",
   "execution_count": 18,
   "metadata": {
    "cell_id": "af8c8dd8da2646a08f77077b1e095f6b",
    "deepnote_app_block_visible": true,
    "deepnote_cell_type": "code",
    "deepnote_to_be_reexecuted": false,
    "execution_millis": 211,
    "execution_start": 1710805903337,
    "source_hash": null
   },
   "outputs": [
    {
     "data": {
      "text/html": [
       "<pre style=\"white-space:pre;overflow-x:auto;line-height:normal;font-family:Menlo,'DejaVu Sans Mono',consolas,'Courier New',monospace\">┏━━━━━━━━━━┳━━━━━━━━━━━━━━━━━━━━━━━┳━━━━━━━━━━━━━━━━━━━━━━━━━━━━━━━━━━━━━━━━━━━━━━━━━━━━━━━━━━━━━━━━━━━━━━━━━━━━━━┓\n",
       "┃<span style=\"color: #800080; text-decoration-color: #800080; font-weight: bold\"> scenario </span>┃<span style=\"color: #800080; text-decoration-color: #800080; font-weight: bold\"> answer                </span>┃<span style=\"color: #800080; text-decoration-color: #800080; font-weight: bold\"> answer                                                                       </span>┃\n",
       "┃<span style=\"color: #800080; text-decoration-color: #800080; font-weight: bold\"> .item    </span>┃<span style=\"color: #800080; text-decoration-color: #800080; font-weight: bold\"> .annual_item_spending </span>┃<span style=\"color: #800080; text-decoration-color: #800080; font-weight: bold\"> .annual_item_spending_comment                                                </span>┃\n",
       "┡━━━━━━━━━━╇━━━━━━━━━━━━━━━━━━━━━━━╇━━━━━━━━━━━━━━━━━━━━━━━━━━━━━━━━━━━━━━━━━━━━━━━━━━━━━━━━━━━━━━━━━━━━━━━━━━━━━━┩\n",
       "│<span style=\"color: #7f7f7f; text-decoration-color: #7f7f7f\"> shoes    </span>│<span style=\"color: #7f7f7f; text-decoration-color: #7f7f7f\"> 0                     </span>│<span style=\"color: #7f7f7f; text-decoration-color: #7f7f7f\"> As an AI, I do not have physical needs or financial resources, so I do not   </span>│\n",
       "│<span style=\"color: #7f7f7f; text-decoration-color: #7f7f7f\">          </span>│<span style=\"color: #7f7f7f; text-decoration-color: #7f7f7f\">                       </span>│<span style=\"color: #7f7f7f; text-decoration-color: #7f7f7f\"> spend money on shoes or anything else.                                       </span>│\n",
       "└──────────┴───────────────────────┴──────────────────────────────────────────────────────────────────────────────┘\n",
       "</pre>\n"
      ],
      "text/plain": [
       "┏━━━━━━━━━━┳━━━━━━━━━━━━━━━━━━━━━━━┳━━━━━━━━━━━━━━━━━━━━━━━━━━━━━━━━━━━━━━━━━━━━━━━━━━━━━━━━━━━━━━━━━━━━━━━━━━━━━━┓\n",
       "┃\u001b[1;35m \u001b[0m\u001b[1;35mscenario\u001b[0m\u001b[1;35m \u001b[0m┃\u001b[1;35m \u001b[0m\u001b[1;35manswer               \u001b[0m\u001b[1;35m \u001b[0m┃\u001b[1;35m \u001b[0m\u001b[1;35manswer                                                                      \u001b[0m\u001b[1;35m \u001b[0m┃\n",
       "┃\u001b[1;35m \u001b[0m\u001b[1;35m.item   \u001b[0m\u001b[1;35m \u001b[0m┃\u001b[1;35m \u001b[0m\u001b[1;35m.annual_item_spending\u001b[0m\u001b[1;35m \u001b[0m┃\u001b[1;35m \u001b[0m\u001b[1;35m.annual_item_spending_comment                                               \u001b[0m\u001b[1;35m \u001b[0m┃\n",
       "┡━━━━━━━━━━╇━━━━━━━━━━━━━━━━━━━━━━━╇━━━━━━━━━━━━━━━━━━━━━━━━━━━━━━━━━━━━━━━━━━━━━━━━━━━━━━━━━━━━━━━━━━━━━━━━━━━━━━┩\n",
       "│\u001b[2m \u001b[0m\u001b[2mshoes   \u001b[0m\u001b[2m \u001b[0m│\u001b[2m \u001b[0m\u001b[2m0                    \u001b[0m\u001b[2m \u001b[0m│\u001b[2m \u001b[0m\u001b[2mAs an AI, I do not have physical needs or financial resources, so I do not  \u001b[0m\u001b[2m \u001b[0m│\n",
       "│\u001b[2m          \u001b[0m│\u001b[2m                       \u001b[0m│\u001b[2m \u001b[0m\u001b[2mspend money on shoes or anything else.                                      \u001b[0m\u001b[2m \u001b[0m│\n",
       "└──────────┴───────────────────────┴──────────────────────────────────────────────────────────────────────────────┘\n"
      ]
     },
     "metadata": {},
     "output_type": "display_data"
    }
   ],
   "source": [
    "(results\n",
    ".filter(\"scenario.item == 'shoes'\")\n",
    ".select(\"scenario.item\", \"answer.*\")\n",
    ".print()\n",
    ")"
   ]
  },
  {
   "cell_type": "markdown",
   "metadata": {
    "cell_id": "1251d5adc9ec4f0cbe8a62631bea7b5f",
    "deepnote_app_block_visible": true,
    "deepnote_cell_type": "markdown"
   },
   "source": [
    "## Adding AI agents\n",
    "We can design an agent with a persona to reference in responding to the survey questions:"
   ]
  },
  {
   "cell_type": "code",
   "execution_count": 19,
   "metadata": {
    "cell_id": "df3f54efd5b24d78b3638efb1efe5d0e",
    "deepnote_app_block_visible": true,
    "deepnote_cell_type": "code",
    "deepnote_to_be_reexecuted": false,
    "execution_millis": 4860,
    "execution_start": 1710805912804,
    "source_hash": null
   },
   "outputs": [
    {
     "data": {
      "text/html": [
       "<pre style=\"white-space:pre;overflow-x:auto;line-height:normal;font-family:Menlo,'DejaVu Sans Mono',consolas,'Courier New',monospace\">┏━━━━━━━━━━━━━━━━━━━━━━━━━━━━━━━━━━━━━━┳━━━━━━━━━━━━━━━━━━━━━━━━━━━━━━━━━━━━━━━━━━━━━━━━━━━━━━━━━━━━━━━━━━━━━━━━━━┓\n",
       "┃<span style=\"color: #800080; text-decoration-color: #800080; font-weight: bold\"> agent                                </span>┃<span style=\"color: #800080; text-decoration-color: #800080; font-weight: bold\"> answer                                                                   </span>┃\n",
       "┃<span style=\"color: #800080; text-decoration-color: #800080; font-weight: bold\"> .persona                             </span>┃<span style=\"color: #800080; text-decoration-color: #800080; font-weight: bold\"> .q_ft                                                                    </span>┃\n",
       "┡━━━━━━━━━━━━━━━━━━━━━━━━━━━━━━━━━━━━━━╇━━━━━━━━━━━━━━━━━━━━━━━━━━━━━━━━━━━━━━━━━━━━━━━━━━━━━━━━━━━━━━━━━━━━━━━━━━┩\n",
       "│<span style=\"color: #7f7f7f; text-decoration-color: #7f7f7f\"> You are an expert in fashion design. </span>│<span style=\"color: #7f7f7f; text-decoration-color: #7f7f7f\"> I would like to see improvements in the areas of personalization,        </span>│\n",
       "│<span style=\"color: #7f7f7f; text-decoration-color: #7f7f7f\">                                      </span>│<span style=\"color: #7f7f7f; text-decoration-color: #7f7f7f\"> sustainability, and technology integration for clothes shopping.         </span>│\n",
       "│<span style=\"color: #7f7f7f; text-decoration-color: #7f7f7f\">                                      </span>│<span style=\"color: #7f7f7f; text-decoration-color: #7f7f7f\"> Personalization could involve offering more bespoke services online,     </span>│\n",
       "│<span style=\"color: #7f7f7f; text-decoration-color: #7f7f7f\">                                      </span>│<span style=\"color: #7f7f7f; text-decoration-color: #7f7f7f\"> allowing customers to tailor their clothing to their exact measurements  </span>│\n",
       "│<span style=\"color: #7f7f7f; text-decoration-color: #7f7f7f\">                                      </span>│<span style=\"color: #7f7f7f; text-decoration-color: #7f7f7f\"> and style preferences. Sustainability improvements could include a wider </span>│\n",
       "│<span style=\"color: #7f7f7f; text-decoration-color: #7f7f7f\">                                      </span>│<span style=\"color: #7f7f7f; text-decoration-color: #7f7f7f\"> range of eco-friendly materials and transparent supply chain             </span>│\n",
       "│<span style=\"color: #7f7f7f; text-decoration-color: #7f7f7f\">                                      </span>│<span style=\"color: #7f7f7f; text-decoration-color: #7f7f7f\"> information, enabling consumers to make informed choices about the       </span>│\n",
       "│<span style=\"color: #7f7f7f; text-decoration-color: #7f7f7f\">                                      </span>│<span style=\"color: #7f7f7f; text-decoration-color: #7f7f7f\"> environmental impact of their purchases. Lastly, technology integration  </span>│\n",
       "│<span style=\"color: #7f7f7f; text-decoration-color: #7f7f7f\">                                      </span>│<span style=\"color: #7f7f7f; text-decoration-color: #7f7f7f\"> could enhance the shopping experience through virtual fitting rooms,     </span>│\n",
       "│<span style=\"color: #7f7f7f; text-decoration-color: #7f7f7f\">                                      </span>│<span style=\"color: #7f7f7f; text-decoration-color: #7f7f7f\"> AI-based style assistants, and augmented reality features that allow     </span>│\n",
       "│<span style=\"color: #7f7f7f; text-decoration-color: #7f7f7f\">                                      </span>│<span style=\"color: #7f7f7f; text-decoration-color: #7f7f7f\"> customers to visualize clothes on their bodies without the need to visit </span>│\n",
       "│<span style=\"color: #7f7f7f; text-decoration-color: #7f7f7f\">                                      </span>│<span style=\"color: #7f7f7f; text-decoration-color: #7f7f7f\"> a store physically.                                                      </span>│\n",
       "└──────────────────────────────────────┴──────────────────────────────────────────────────────────────────────────┘\n",
       "</pre>\n"
      ],
      "text/plain": [
       "┏━━━━━━━━━━━━━━━━━━━━━━━━━━━━━━━━━━━━━━┳━━━━━━━━━━━━━━━━━━━━━━━━━━━━━━━━━━━━━━━━━━━━━━━━━━━━━━━━━━━━━━━━━━━━━━━━━━┓\n",
       "┃\u001b[1;35m \u001b[0m\u001b[1;35magent                               \u001b[0m\u001b[1;35m \u001b[0m┃\u001b[1;35m \u001b[0m\u001b[1;35manswer                                                                  \u001b[0m\u001b[1;35m \u001b[0m┃\n",
       "┃\u001b[1;35m \u001b[0m\u001b[1;35m.persona                            \u001b[0m\u001b[1;35m \u001b[0m┃\u001b[1;35m \u001b[0m\u001b[1;35m.q_ft                                                                   \u001b[0m\u001b[1;35m \u001b[0m┃\n",
       "┡━━━━━━━━━━━━━━━━━━━━━━━━━━━━━━━━━━━━━━╇━━━━━━━━━━━━━━━━━━━━━━━━━━━━━━━━━━━━━━━━━━━━━━━━━━━━━━━━━━━━━━━━━━━━━━━━━━┩\n",
       "│\u001b[2m \u001b[0m\u001b[2mYou are an expert in fashion design.\u001b[0m\u001b[2m \u001b[0m│\u001b[2m \u001b[0m\u001b[2mI would like to see improvements in the areas of personalization,       \u001b[0m\u001b[2m \u001b[0m│\n",
       "│\u001b[2m                                      \u001b[0m│\u001b[2m \u001b[0m\u001b[2msustainability, and technology integration for clothes shopping.        \u001b[0m\u001b[2m \u001b[0m│\n",
       "│\u001b[2m                                      \u001b[0m│\u001b[2m \u001b[0m\u001b[2mPersonalization could involve offering more bespoke services online,    \u001b[0m\u001b[2m \u001b[0m│\n",
       "│\u001b[2m                                      \u001b[0m│\u001b[2m \u001b[0m\u001b[2mallowing customers to tailor their clothing to their exact measurements \u001b[0m\u001b[2m \u001b[0m│\n",
       "│\u001b[2m                                      \u001b[0m│\u001b[2m \u001b[0m\u001b[2mand style preferences. Sustainability improvements could include a wider\u001b[0m\u001b[2m \u001b[0m│\n",
       "│\u001b[2m                                      \u001b[0m│\u001b[2m \u001b[0m\u001b[2mrange of eco-friendly materials and transparent supply chain            \u001b[0m\u001b[2m \u001b[0m│\n",
       "│\u001b[2m                                      \u001b[0m│\u001b[2m \u001b[0m\u001b[2minformation, enabling consumers to make informed choices about the      \u001b[0m\u001b[2m \u001b[0m│\n",
       "│\u001b[2m                                      \u001b[0m│\u001b[2m \u001b[0m\u001b[2menvironmental impact of their purchases. Lastly, technology integration \u001b[0m\u001b[2m \u001b[0m│\n",
       "│\u001b[2m                                      \u001b[0m│\u001b[2m \u001b[0m\u001b[2mcould enhance the shopping experience through virtual fitting rooms,    \u001b[0m\u001b[2m \u001b[0m│\n",
       "│\u001b[2m                                      \u001b[0m│\u001b[2m \u001b[0m\u001b[2mAI-based style assistants, and augmented reality features that allow    \u001b[0m\u001b[2m \u001b[0m│\n",
       "│\u001b[2m                                      \u001b[0m│\u001b[2m \u001b[0m\u001b[2mcustomers to visualize clothes on their bodies without the need to visit\u001b[0m\u001b[2m \u001b[0m│\n",
       "│\u001b[2m                                      \u001b[0m│\u001b[2m \u001b[0m\u001b[2ma store physically.                                                     \u001b[0m\u001b[2m \u001b[0m│\n",
       "└──────────────────────────────────────┴──────────────────────────────────────────────────────────────────────────┘\n"
      ]
     },
     "metadata": {},
     "output_type": "display_data"
    }
   ],
   "source": [
    "from edsl import Agent \n",
    "\n",
    "agent = Agent(name = \"Fashion expert\", traits = {\"persona\": \"You are an expert in fashion design.\"})\n",
    "\n",
    "results = survey.by(agent).run()\n",
    "results.select(\"persona\", \"answer.q_ft\").print()"
   ]
  },
  {
   "cell_type": "markdown",
   "metadata": {
    "cell_id": "a7e690d6f04f4594a0745b75fb76ee65",
    "deepnote_app_block_visible": true,
    "deepnote_cell_type": "markdown"
   },
   "source": [
    "## Adding question memory\n",
    "We can include a \"memory\" of a prior question/answer in the prompt for a subsequent question. Here we include the question and response to q_mc in the prompt for q_ft and inspect it:"
   ]
  },
  {
   "cell_type": "code",
   "execution_count": 20,
   "metadata": {
    "cell_id": "46c7d981f9d342ef838fc9fb998ad44d",
    "deepnote_app_block_visible": true,
    "deepnote_cell_type": "code",
    "deepnote_to_be_reexecuted": false,
    "execution_millis": 4485,
    "execution_start": 1710805921889,
    "source_hash": null
   },
   "outputs": [],
   "source": [
    "survey = Survey(questions = [\n",
    "    q_mc,\n",
    "    q_cb,\n",
    "    q_ls,\n",
    "    q_yn,\n",
    "    q_bg,\n",
    "    q_ft,\n",
    "    q_li,\n",
    "    q_nu,\n",
    "    q_ex\n",
    "])\n",
    "survey.add_targeted_memory(q_ft, q_mc)\n",
    "\n",
    "results = survey.by(agent).run()"
   ]
  },
  {
   "cell_type": "code",
   "execution_count": 21,
   "metadata": {
    "allow_embed": false,
    "cell_id": "2da37c938ff542549ffee6d0ee8a7614",
    "deepnote_app_block_visible": true,
    "deepnote_cell_type": "code",
    "deepnote_to_be_reexecuted": false,
    "execution_millis": 321,
    "execution_start": 1710805928483,
    "source_hash": null
   },
   "outputs": [
    {
     "data": {
      "text/html": [
       "<pre style=\"white-space:pre;overflow-x:auto;line-height:normal;font-family:Menlo,'DejaVu Sans Mono',consolas,'Courier New',monospace\">┏━━━━━━━━━━━━━━━━━━━━━━━━━━━━━━━━━━━━┳━━━━━━━━━━━━━━━━━━━━━━━━━━━━━━━━━━━━━┳━━━━━━━━━━━━━━━━━━━━━━━━━━━━━━━━━━━━━━┓\n",
       "┃<span style=\"color: #800080; text-decoration-color: #800080; font-weight: bold\">                                    </span>┃<span style=\"color: #800080; text-decoration-color: #800080; font-weight: bold\"> (Free text)                         </span>┃<span style=\"color: #800080; text-decoration-color: #800080; font-weight: bold\">                                      </span>┃\n",
       "┃<span style=\"color: #800080; text-decoration-color: #800080; font-weight: bold\">                                    </span>┃<span style=\"color: #800080; text-decoration-color: #800080; font-weight: bold\"> What improvements would you like to </span>┃<span style=\"color: #800080; text-decoration-color: #800080; font-weight: bold\">                                      </span>┃\n",
       "┃<span style=\"color: #800080; text-decoration-color: #800080; font-weight: bold\"> (Multiple choice)                  </span>┃<span style=\"color: #800080; text-decoration-color: #800080; font-weight: bold\"> see in options for clothes          </span>┃<span style=\"color: #800080; text-decoration-color: #800080; font-weight: bold\">                                      </span>┃\n",
       "┃<span style=\"color: #800080; text-decoration-color: #800080; font-weight: bold\"> How often do you shop for clothes? </span>┃<span style=\"color: #800080; text-decoration-color: #800080; font-weight: bold\"> shopping?                           </span>┃<span style=\"color: #800080; text-decoration-color: #800080; font-weight: bold\"> Prompt for free text question        </span>┃\n",
       "┡━━━━━━━━━━━━━━━━━━━━━━━━━━━━━━━━━━━━╇━━━━━━━━━━━━━━━━━━━━━━━━━━━━━━━━━━━━━╇━━━━━━━━━━━━━━━━━━━━━━━━━━━━━━━━━━━━━━┩\n",
       "│<span style=\"color: #7f7f7f; text-decoration-color: #7f7f7f\"> Seasonally                         </span>│<span style=\"color: #7f7f7f; text-decoration-color: #7f7f7f\"> I would like to see a more          </span>│<span style=\"color: #7f7f7f; text-decoration-color: #7f7f7f\"> {'text': 'You are being asked the    </span>│\n",
       "│<span style=\"color: #7f7f7f; text-decoration-color: #7f7f7f\">                                    </span>│<span style=\"color: #7f7f7f; text-decoration-color: #7f7f7f\"> personalized shopping experience    </span>│<span style=\"color: #7f7f7f; text-decoration-color: #7f7f7f\"> following question: What             </span>│\n",
       "│<span style=\"color: #7f7f7f; text-decoration-color: #7f7f7f\">                                    </span>│<span style=\"color: #7f7f7f; text-decoration-color: #7f7f7f\"> with the help of AI and augmented   </span>│<span style=\"color: #7f7f7f; text-decoration-color: #7f7f7f\"> improvements would you like to see   </span>│\n",
       "│<span style=\"color: #7f7f7f; text-decoration-color: #7f7f7f\">                                    </span>│<span style=\"color: #7f7f7f; text-decoration-color: #7f7f7f\"> reality that allows customers to    </span>│<span style=\"color: #7f7f7f; text-decoration-color: #7f7f7f\"> in options for clothes               </span>│\n",
       "│<span style=\"color: #7f7f7f; text-decoration-color: #7f7f7f\">                                    </span>│<span style=\"color: #7f7f7f; text-decoration-color: #7f7f7f\"> try on clothes virtually before     </span>│<span style=\"color: #7f7f7f; text-decoration-color: #7f7f7f\"> shopping?\\nReturn a valid JSON       </span>│\n",
       "│<span style=\"color: #7f7f7f; text-decoration-color: #7f7f7f\">                                    </span>│<span style=\"color: #7f7f7f; text-decoration-color: #7f7f7f\"> making a purchase. Additionally, I  </span>│<span style=\"color: #7f7f7f; text-decoration-color: #7f7f7f\"> formatted like this:\\n{\"answer\":     </span>│\n",
       "│<span style=\"color: #7f7f7f; text-decoration-color: #7f7f7f\">                                    </span>│<span style=\"color: #7f7f7f; text-decoration-color: #7f7f7f\"> believe there should be a greater   </span>│<span style=\"color: #7f7f7f; text-decoration-color: #7f7f7f\"> \"&lt;put free text answer here&gt;\"}\\n     </span>│\n",
       "│<span style=\"color: #7f7f7f; text-decoration-color: #7f7f7f\">                                    </span>│<span style=\"color: #7f7f7f; text-decoration-color: #7f7f7f\"> emphasis on sustainable and         </span>│<span style=\"color: #7f7f7f; text-decoration-color: #7f7f7f\"> Before the question you are now      </span>│\n",
       "│<span style=\"color: #7f7f7f; text-decoration-color: #7f7f7f\">                                    </span>│<span style=\"color: #7f7f7f; text-decoration-color: #7f7f7f\"> ethically produced clothing         </span>│<span style=\"color: #7f7f7f; text-decoration-color: #7f7f7f\"> answering, you already answered the  </span>│\n",
       "│<span style=\"color: #7f7f7f; text-decoration-color: #7f7f7f\">                                    </span>│<span style=\"color: #7f7f7f; text-decoration-color: #7f7f7f\"> options, with transparent supply    </span>│<span style=\"color: #7f7f7f; text-decoration-color: #7f7f7f\"> following question(s):\\n             </span>│\n",
       "│<span style=\"color: #7f7f7f; text-decoration-color: #7f7f7f\">                                    </span>│<span style=\"color: #7f7f7f; text-decoration-color: #7f7f7f\"> chain information readily available </span>│<span style=\"color: #7f7f7f; text-decoration-color: #7f7f7f\"> \\tQuestion: How often do you shop    </span>│\n",
       "│<span style=\"color: #7f7f7f; text-decoration-color: #7f7f7f\">                                    </span>│<span style=\"color: #7f7f7f; text-decoration-color: #7f7f7f\"> for consumers. Improved size        </span>│<span style=\"color: #7f7f7f; text-decoration-color: #7f7f7f\"> for clothes?\\n\\tAnswer: Seasonally', </span>│\n",
       "│<span style=\"color: #7f7f7f; text-decoration-color: #7f7f7f\">                                    </span>│<span style=\"color: #7f7f7f; text-decoration-color: #7f7f7f\"> inclusivity across all brands would </span>│<span style=\"color: #7f7f7f; text-decoration-color: #7f7f7f\"> 'class_name': 'FreeText'}            </span>│\n",
       "│<span style=\"color: #7f7f7f; text-decoration-color: #7f7f7f\">                                    </span>│<span style=\"color: #7f7f7f; text-decoration-color: #7f7f7f\"> also be a significant step forward, </span>│<span style=\"color: #7f7f7f; text-decoration-color: #7f7f7f\">                                      </span>│\n",
       "│<span style=\"color: #7f7f7f; text-decoration-color: #7f7f7f\">                                    </span>│<span style=\"color: #7f7f7f; text-decoration-color: #7f7f7f\"> ensuring that everyone has access   </span>│<span style=\"color: #7f7f7f; text-decoration-color: #7f7f7f\">                                      </span>│\n",
       "│<span style=\"color: #7f7f7f; text-decoration-color: #7f7f7f\">                                    </span>│<span style=\"color: #7f7f7f; text-decoration-color: #7f7f7f\"> to fashionable clothing that fits   </span>│<span style=\"color: #7f7f7f; text-decoration-color: #7f7f7f\">                                      </span>│\n",
       "│<span style=\"color: #7f7f7f; text-decoration-color: #7f7f7f\">                                    </span>│<span style=\"color: #7f7f7f; text-decoration-color: #7f7f7f\"> well. Lastly, integrating           </span>│<span style=\"color: #7f7f7f; text-decoration-color: #7f7f7f\">                                      </span>│\n",
       "│<span style=\"color: #7f7f7f; text-decoration-color: #7f7f7f\">                                    </span>│<span style=\"color: #7f7f7f; text-decoration-color: #7f7f7f\"> technology to streamline the        </span>│<span style=\"color: #7f7f7f; text-decoration-color: #7f7f7f\">                                      </span>│\n",
       "│<span style=\"color: #7f7f7f; text-decoration-color: #7f7f7f\">                                    </span>│<span style=\"color: #7f7f7f; text-decoration-color: #7f7f7f\"> checkout process and reduce wait    </span>│<span style=\"color: #7f7f7f; text-decoration-color: #7f7f7f\">                                      </span>│\n",
       "│<span style=\"color: #7f7f7f; text-decoration-color: #7f7f7f\">                                    </span>│<span style=\"color: #7f7f7f; text-decoration-color: #7f7f7f\"> times would enhance the overall     </span>│<span style=\"color: #7f7f7f; text-decoration-color: #7f7f7f\">                                      </span>│\n",
       "│<span style=\"color: #7f7f7f; text-decoration-color: #7f7f7f\">                                    </span>│<span style=\"color: #7f7f7f; text-decoration-color: #7f7f7f\"> shopping experience.                </span>│<span style=\"color: #7f7f7f; text-decoration-color: #7f7f7f\">                                      </span>│\n",
       "└────────────────────────────────────┴─────────────────────────────────────┴──────────────────────────────────────┘\n",
       "</pre>\n"
      ],
      "text/plain": [
       "┏━━━━━━━━━━━━━━━━━━━━━━━━━━━━━━━━━━━━┳━━━━━━━━━━━━━━━━━━━━━━━━━━━━━━━━━━━━━┳━━━━━━━━━━━━━━━━━━━━━━━━━━━━━━━━━━━━━━┓\n",
       "┃\u001b[1;35m                                    \u001b[0m┃\u001b[1;35m \u001b[0m\u001b[1;35m(Free text)                        \u001b[0m\u001b[1;35m \u001b[0m┃\u001b[1;35m                                      \u001b[0m┃\n",
       "┃\u001b[1;35m                                    \u001b[0m┃\u001b[1;35m \u001b[0m\u001b[1;35mWhat improvements would you like to\u001b[0m\u001b[1;35m \u001b[0m┃\u001b[1;35m                                      \u001b[0m┃\n",
       "┃\u001b[1;35m \u001b[0m\u001b[1;35m(Multiple choice)                 \u001b[0m\u001b[1;35m \u001b[0m┃\u001b[1;35m \u001b[0m\u001b[1;35msee in options for clothes         \u001b[0m\u001b[1;35m \u001b[0m┃\u001b[1;35m                                      \u001b[0m┃\n",
       "┃\u001b[1;35m \u001b[0m\u001b[1;35mHow often do you shop for clothes?\u001b[0m\u001b[1;35m \u001b[0m┃\u001b[1;35m \u001b[0m\u001b[1;35mshopping?                          \u001b[0m\u001b[1;35m \u001b[0m┃\u001b[1;35m \u001b[0m\u001b[1;35mPrompt for free text question       \u001b[0m\u001b[1;35m \u001b[0m┃\n",
       "┡━━━━━━━━━━━━━━━━━━━━━━━━━━━━━━━━━━━━╇━━━━━━━━━━━━━━━━━━━━━━━━━━━━━━━━━━━━━╇━━━━━━━━━━━━━━━━━━━━━━━━━━━━━━━━━━━━━━┩\n",
       "│\u001b[2m \u001b[0m\u001b[2mSeasonally                        \u001b[0m\u001b[2m \u001b[0m│\u001b[2m \u001b[0m\u001b[2mI would like to see a more         \u001b[0m\u001b[2m \u001b[0m│\u001b[2m \u001b[0m\u001b[2m{'text': 'You are being asked the   \u001b[0m\u001b[2m \u001b[0m│\n",
       "│\u001b[2m                                    \u001b[0m│\u001b[2m \u001b[0m\u001b[2mpersonalized shopping experience   \u001b[0m\u001b[2m \u001b[0m│\u001b[2m \u001b[0m\u001b[2mfollowing question: What            \u001b[0m\u001b[2m \u001b[0m│\n",
       "│\u001b[2m                                    \u001b[0m│\u001b[2m \u001b[0m\u001b[2mwith the help of AI and augmented  \u001b[0m\u001b[2m \u001b[0m│\u001b[2m \u001b[0m\u001b[2mimprovements would you like to see  \u001b[0m\u001b[2m \u001b[0m│\n",
       "│\u001b[2m                                    \u001b[0m│\u001b[2m \u001b[0m\u001b[2mreality that allows customers to   \u001b[0m\u001b[2m \u001b[0m│\u001b[2m \u001b[0m\u001b[2min options for clothes              \u001b[0m\u001b[2m \u001b[0m│\n",
       "│\u001b[2m                                    \u001b[0m│\u001b[2m \u001b[0m\u001b[2mtry on clothes virtually before    \u001b[0m\u001b[2m \u001b[0m│\u001b[2m \u001b[0m\u001b[2mshopping?\\nReturn a valid JSON      \u001b[0m\u001b[2m \u001b[0m│\n",
       "│\u001b[2m                                    \u001b[0m│\u001b[2m \u001b[0m\u001b[2mmaking a purchase. Additionally, I \u001b[0m\u001b[2m \u001b[0m│\u001b[2m \u001b[0m\u001b[2mformatted like this:\\n{\"answer\":    \u001b[0m\u001b[2m \u001b[0m│\n",
       "│\u001b[2m                                    \u001b[0m│\u001b[2m \u001b[0m\u001b[2mbelieve there should be a greater  \u001b[0m\u001b[2m \u001b[0m│\u001b[2m \u001b[0m\u001b[2m\"<put free text answer here>\"}\\n    \u001b[0m\u001b[2m \u001b[0m│\n",
       "│\u001b[2m                                    \u001b[0m│\u001b[2m \u001b[0m\u001b[2memphasis on sustainable and        \u001b[0m\u001b[2m \u001b[0m│\u001b[2m \u001b[0m\u001b[2mBefore the question you are now     \u001b[0m\u001b[2m \u001b[0m│\n",
       "│\u001b[2m                                    \u001b[0m│\u001b[2m \u001b[0m\u001b[2methically produced clothing        \u001b[0m\u001b[2m \u001b[0m│\u001b[2m \u001b[0m\u001b[2manswering, you already answered the \u001b[0m\u001b[2m \u001b[0m│\n",
       "│\u001b[2m                                    \u001b[0m│\u001b[2m \u001b[0m\u001b[2moptions, with transparent supply   \u001b[0m\u001b[2m \u001b[0m│\u001b[2m \u001b[0m\u001b[2mfollowing question(s):\\n            \u001b[0m\u001b[2m \u001b[0m│\n",
       "│\u001b[2m                                    \u001b[0m│\u001b[2m \u001b[0m\u001b[2mchain information readily available\u001b[0m\u001b[2m \u001b[0m│\u001b[2m \u001b[0m\u001b[2m\\tQuestion: How often do you shop   \u001b[0m\u001b[2m \u001b[0m│\n",
       "│\u001b[2m                                    \u001b[0m│\u001b[2m \u001b[0m\u001b[2mfor consumers. Improved size       \u001b[0m\u001b[2m \u001b[0m│\u001b[2m \u001b[0m\u001b[2mfor clothes?\\n\\tAnswer: Seasonally',\u001b[0m\u001b[2m \u001b[0m│\n",
       "│\u001b[2m                                    \u001b[0m│\u001b[2m \u001b[0m\u001b[2minclusivity across all brands would\u001b[0m\u001b[2m \u001b[0m│\u001b[2m \u001b[0m\u001b[2m'class_name': 'FreeText'}           \u001b[0m\u001b[2m \u001b[0m│\n",
       "│\u001b[2m                                    \u001b[0m│\u001b[2m \u001b[0m\u001b[2malso be a significant step forward,\u001b[0m\u001b[2m \u001b[0m│\u001b[2m                                      \u001b[0m│\n",
       "│\u001b[2m                                    \u001b[0m│\u001b[2m \u001b[0m\u001b[2mensuring that everyone has access  \u001b[0m\u001b[2m \u001b[0m│\u001b[2m                                      \u001b[0m│\n",
       "│\u001b[2m                                    \u001b[0m│\u001b[2m \u001b[0m\u001b[2mto fashionable clothing that fits  \u001b[0m\u001b[2m \u001b[0m│\u001b[2m                                      \u001b[0m│\n",
       "│\u001b[2m                                    \u001b[0m│\u001b[2m \u001b[0m\u001b[2mwell. Lastly, integrating          \u001b[0m\u001b[2m \u001b[0m│\u001b[2m                                      \u001b[0m│\n",
       "│\u001b[2m                                    \u001b[0m│\u001b[2m \u001b[0m\u001b[2mtechnology to streamline the       \u001b[0m\u001b[2m \u001b[0m│\u001b[2m                                      \u001b[0m│\n",
       "│\u001b[2m                                    \u001b[0m│\u001b[2m \u001b[0m\u001b[2mcheckout process and reduce wait   \u001b[0m\u001b[2m \u001b[0m│\u001b[2m                                      \u001b[0m│\n",
       "│\u001b[2m                                    \u001b[0m│\u001b[2m \u001b[0m\u001b[2mtimes would enhance the overall    \u001b[0m\u001b[2m \u001b[0m│\u001b[2m                                      \u001b[0m│\n",
       "│\u001b[2m                                    \u001b[0m│\u001b[2m \u001b[0m\u001b[2mshopping experience.               \u001b[0m\u001b[2m \u001b[0m│\u001b[2m                                      \u001b[0m│\n",
       "└────────────────────────────────────┴─────────────────────────────────────┴──────────────────────────────────────┘\n"
      ]
     },
     "metadata": {},
     "output_type": "display_data"
    }
   ],
   "source": [
    "(results\n",
    ".select(\"q_mc\", \"q_ft_user_prompt\", \"q_ft\")\n",
    ".print({\n",
    "    \"answer.q_mc\": \"(Multiple choice) \\n\" + q_mc.question_text, \n",
    "    \"prompt.q_ft_user_prompt\": \"Prompt for free text question\",\n",
    "    \"answer.q_ft\": \"(Free text) \\n\" + q_ft.question_text\n",
    "    }) \n",
    ")"
   ]
  },
  {
   "cell_type": "markdown",
   "metadata": {
    "cell_id": "c9466e0ccd424e728743ff7de0ff27c6",
    "deepnote_app_block_visible": true,
    "deepnote_cell_type": "markdown"
   },
   "source": [
    "## Specifying language models\n",
    "We can specify the language models to use in running a survey:"
   ]
  },
  {
   "cell_type": "code",
   "execution_count": 22,
   "metadata": {
    "cell_id": "e16cb3a8554e43b79d7f3caeda48c296",
    "deepnote_app_block_visible": true,
    "deepnote_cell_type": "code",
    "deepnote_to_be_reexecuted": false,
    "execution_millis": 100,
    "execution_start": 1710805934071,
    "source_hash": null
   },
   "outputs": [
    {
     "data": {
      "text/plain": [
       "['claude-3-haiku-20240307',\n",
       " 'claude-3-opus-20240229',\n",
       " 'claude-3-sonnet-20240229',\n",
       " 'dbrx-instruct',\n",
       " 'gemini_pro',\n",
       " 'gpt-3.5-turbo',\n",
       " 'gpt-4-1106-preview',\n",
       " 'llama-2-13b-chat-hf',\n",
       " 'llama-2-70b-chat-hf',\n",
       " 'mixtral-8x7B-instruct-v0.1']"
      ]
     },
     "execution_count": 22,
     "metadata": {},
     "output_type": "execute_result"
    }
   ],
   "source": [
    "from edsl import Model \n",
    "\n",
    "Model.available()"
   ]
  },
  {
   "cell_type": "code",
   "execution_count": 23,
   "metadata": {
    "allow_embed": false,
    "cell_id": "44cf6e37b0bb475e8b12720039878834",
    "deepnote_app_block_visible": true,
    "deepnote_cell_type": "code",
    "deepnote_to_be_reexecuted": false,
    "execution_millis": 11285,
    "execution_start": 1710805937200,
    "source_hash": null
   },
   "outputs": [
    {
     "data": {
      "text/html": [
       "<pre style=\"white-space:pre;overflow-x:auto;line-height:normal;font-family:Menlo,'DejaVu Sans Mono',consolas,'Courier New',monospace\">┏━━━━━━━━━━━━━━━━━━━━┳━━━━━━━━━━━━━━━━━━━━━━━━━━━━━━━━━━━━━━━━━━━━━━┳━━━━━━━━━━━━━━━━━━━━━━━━━━━━━━━━━━━━━━━━━━━━━┓\n",
       "┃<span style=\"color: #800080; text-decoration-color: #800080; font-weight: bold\"> model              </span>┃<span style=\"color: #800080; text-decoration-color: #800080; font-weight: bold\"> answer                                       </span>┃<span style=\"color: #800080; text-decoration-color: #800080; font-weight: bold\"> answer                                      </span>┃\n",
       "┃<span style=\"color: #800080; text-decoration-color: #800080; font-weight: bold\"> .model             </span>┃<span style=\"color: #800080; text-decoration-color: #800080; font-weight: bold\"> .q_bg                                        </span>┃<span style=\"color: #800080; text-decoration-color: #800080; font-weight: bold\"> .q_li                                       </span>┃\n",
       "┡━━━━━━━━━━━━━━━━━━━━╇━━━━━━━━━━━━━━━━━━━━━━━━━━━━━━━━━━━━━━━━━━━━━━╇━━━━━━━━━━━━━━━━━━━━━━━━━━━━━━━━━━━━━━━━━━━━━┩\n",
       "│<span style=\"color: #7f7f7f; text-decoration-color: #7f7f7f\"> gpt-4-1106-preview </span>│<span style=\"color: #7f7f7f; text-decoration-color: #7f7f7f\"> [{'Online': 40}, {'Malls': 30},              </span>│<span style=\"color: #7f7f7f; text-decoration-color: #7f7f7f\"> ['Fit', 'Material', 'Quality', 'Style',     </span>│\n",
       "│<span style=\"color: #7f7f7f; text-decoration-color: #7f7f7f\">                    </span>│<span style=\"color: #7f7f7f; text-decoration-color: #7f7f7f\"> {'Freestanding stores': 20}, {'Mail order    </span>│<span style=\"color: #7f7f7f; text-decoration-color: #7f7f7f\"> 'Trendiness', 'Comfort', 'Brand             </span>│\n",
       "│<span style=\"color: #7f7f7f; text-decoration-color: #7f7f7f\">                    </span>│<span style=\"color: #7f7f7f; text-decoration-color: #7f7f7f\"> catalogs': 5}, {'Other': 5}]                 </span>│<span style=\"color: #7f7f7f; text-decoration-color: #7f7f7f\"> reputation', 'Sustainability', 'Price',     </span>│\n",
       "│<span style=\"color: #7f7f7f; text-decoration-color: #7f7f7f\">                    </span>│<span style=\"color: #7f7f7f; text-decoration-color: #7f7f7f\">                                              </span>│<span style=\"color: #7f7f7f; text-decoration-color: #7f7f7f\"> 'Versatility', 'Care instructions',         </span>│\n",
       "│<span style=\"color: #7f7f7f; text-decoration-color: #7f7f7f\">                    </span>│<span style=\"color: #7f7f7f; text-decoration-color: #7f7f7f\">                                              </span>│<span style=\"color: #7f7f7f; text-decoration-color: #7f7f7f\"> 'Color']                                    </span>│\n",
       "├────────────────────┼──────────────────────────────────────────────┼─────────────────────────────────────────────┤\n",
       "│<span style=\"color: #7f7f7f; text-decoration-color: #7f7f7f\"> gpt-3.5-turbo      </span>│<span style=\"color: #7f7f7f; text-decoration-color: #7f7f7f\"> [{'Online': 40}, {'Malls': 30},              </span>│<span style=\"color: #7f7f7f; text-decoration-color: #7f7f7f\"> ['fabric quality', 'fit', 'design',         </span>│\n",
       "│<span style=\"color: #7f7f7f; text-decoration-color: #7f7f7f\">                    </span>│<span style=\"color: #7f7f7f; text-decoration-color: #7f7f7f\"> {'Freestanding stores': 20}, {'Mail order    </span>│<span style=\"color: #7f7f7f; text-decoration-color: #7f7f7f\"> 'color', 'style', 'price']                  </span>│\n",
       "│<span style=\"color: #7f7f7f; text-decoration-color: #7f7f7f\">                    </span>│<span style=\"color: #7f7f7f; text-decoration-color: #7f7f7f\"> catalogs': 5}, {'Other': 5}]                 </span>│<span style=\"color: #7f7f7f; text-decoration-color: #7f7f7f\">                                             </span>│\n",
       "└────────────────────┴──────────────────────────────────────────────┴─────────────────────────────────────────────┘\n",
       "</pre>\n"
      ],
      "text/plain": [
       "┏━━━━━━━━━━━━━━━━━━━━┳━━━━━━━━━━━━━━━━━━━━━━━━━━━━━━━━━━━━━━━━━━━━━━┳━━━━━━━━━━━━━━━━━━━━━━━━━━━━━━━━━━━━━━━━━━━━━┓\n",
       "┃\u001b[1;35m \u001b[0m\u001b[1;35mmodel             \u001b[0m\u001b[1;35m \u001b[0m┃\u001b[1;35m \u001b[0m\u001b[1;35manswer                                      \u001b[0m\u001b[1;35m \u001b[0m┃\u001b[1;35m \u001b[0m\u001b[1;35manswer                                     \u001b[0m\u001b[1;35m \u001b[0m┃\n",
       "┃\u001b[1;35m \u001b[0m\u001b[1;35m.model            \u001b[0m\u001b[1;35m \u001b[0m┃\u001b[1;35m \u001b[0m\u001b[1;35m.q_bg                                       \u001b[0m\u001b[1;35m \u001b[0m┃\u001b[1;35m \u001b[0m\u001b[1;35m.q_li                                      \u001b[0m\u001b[1;35m \u001b[0m┃\n",
       "┡━━━━━━━━━━━━━━━━━━━━╇━━━━━━━━━━━━━━━━━━━━━━━━━━━━━━━━━━━━━━━━━━━━━━╇━━━━━━━━━━━━━━━━━━━━━━━━━━━━━━━━━━━━━━━━━━━━━┩\n",
       "│\u001b[2m \u001b[0m\u001b[2mgpt-4-1106-preview\u001b[0m\u001b[2m \u001b[0m│\u001b[2m \u001b[0m\u001b[2m[{'Online': 40}, {'Malls': 30},             \u001b[0m\u001b[2m \u001b[0m│\u001b[2m \u001b[0m\u001b[2m['Fit', 'Material', 'Quality', 'Style',    \u001b[0m\u001b[2m \u001b[0m│\n",
       "│\u001b[2m                    \u001b[0m│\u001b[2m \u001b[0m\u001b[2m{'Freestanding stores': 20}, {'Mail order   \u001b[0m\u001b[2m \u001b[0m│\u001b[2m \u001b[0m\u001b[2m'Trendiness', 'Comfort', 'Brand            \u001b[0m\u001b[2m \u001b[0m│\n",
       "│\u001b[2m                    \u001b[0m│\u001b[2m \u001b[0m\u001b[2mcatalogs': 5}, {'Other': 5}]                \u001b[0m\u001b[2m \u001b[0m│\u001b[2m \u001b[0m\u001b[2mreputation', 'Sustainability', 'Price',    \u001b[0m\u001b[2m \u001b[0m│\n",
       "│\u001b[2m                    \u001b[0m│\u001b[2m                                              \u001b[0m│\u001b[2m \u001b[0m\u001b[2m'Versatility', 'Care instructions',        \u001b[0m\u001b[2m \u001b[0m│\n",
       "│\u001b[2m                    \u001b[0m│\u001b[2m                                              \u001b[0m│\u001b[2m \u001b[0m\u001b[2m'Color']                                   \u001b[0m\u001b[2m \u001b[0m│\n",
       "├────────────────────┼──────────────────────────────────────────────┼─────────────────────────────────────────────┤\n",
       "│\u001b[2m \u001b[0m\u001b[2mgpt-3.5-turbo     \u001b[0m\u001b[2m \u001b[0m│\u001b[2m \u001b[0m\u001b[2m[{'Online': 40}, {'Malls': 30},             \u001b[0m\u001b[2m \u001b[0m│\u001b[2m \u001b[0m\u001b[2m['fabric quality', 'fit', 'design',        \u001b[0m\u001b[2m \u001b[0m│\n",
       "│\u001b[2m                    \u001b[0m│\u001b[2m \u001b[0m\u001b[2m{'Freestanding stores': 20}, {'Mail order   \u001b[0m\u001b[2m \u001b[0m│\u001b[2m \u001b[0m\u001b[2m'color', 'style', 'price']                 \u001b[0m\u001b[2m \u001b[0m│\n",
       "│\u001b[2m                    \u001b[0m│\u001b[2m \u001b[0m\u001b[2mcatalogs': 5}, {'Other': 5}]                \u001b[0m\u001b[2m \u001b[0m│\u001b[2m                                             \u001b[0m│\n",
       "└────────────────────┴──────────────────────────────────────────────┴─────────────────────────────────────────────┘\n"
      ]
     },
     "metadata": {},
     "output_type": "display_data"
    }
   ],
   "source": [
    "models = [Model(m) for m in ['gpt-3.5-turbo', 'gpt-4-1106-preview']]\n",
    "\n",
    "results = survey.by(agent).by(models).run()\n",
    "results.select(\"model.model\", \"q_bg\", \"q_li\").print()"
   ]
  },
  {
   "cell_type": "markdown",
   "metadata": {
    "cell_id": "cdb19fe7afdb485488df22de2d1319a4",
    "deepnote_app_block_visible": true,
    "deepnote_cell_type": "markdown"
   },
   "source": [
    "## Show columns\n",
    "We can check a list all of the components of the results with the `columns` method:"
   ]
  },
  {
   "cell_type": "code",
   "execution_count": 24,
   "metadata": {
    "allow_embed": false,
    "cell_id": "b19c5f4aa34942e393b393f9d1fa2e89",
    "deepnote_app_block_visible": true,
    "deepnote_cell_type": "code",
    "deepnote_to_be_reexecuted": false,
    "execution_millis": 3873,
    "execution_start": 1710805952297,
    "source_hash": null
   },
   "outputs": [
    {
     "data": {
      "text/plain": [
       "['agent.agent_name',\n",
       " 'agent.persona',\n",
       " 'answer.q_mc',\n",
       " 'answer.q_mc_comment',\n",
       " 'iteration.iteration',\n",
       " 'model.frequency_penalty',\n",
       " 'model.logprobs',\n",
       " 'model.max_tokens',\n",
       " 'model.model',\n",
       " 'model.presence_penalty',\n",
       " 'model.temperature',\n",
       " 'model.top_logprobs',\n",
       " 'model.top_p',\n",
       " 'prompt.q_mc_system_prompt',\n",
       " 'prompt.q_mc_user_prompt',\n",
       " 'raw_model_response.q_mc_raw_model_response',\n",
       " 'scenario.item']"
      ]
     },
     "execution_count": 24,
     "metadata": {},
     "output_type": "execute_result"
    }
   ],
   "source": [
    "results = q_mc.by(scenarios).by(agent).by(models).run()\n",
    "results.columns"
   ]
  },
  {
   "cell_type": "markdown",
   "metadata": {
    "cell_id": "f73c1524c72744ddbf9f7274213d1051",
    "deepnote_app_block_visible": true,
    "deepnote_cell_type": "markdown"
   },
   "source": [
    "---\n",
    "<p style=\"font-size: 14px;\">Copyright © 2024 Expected Parrot, Inc. All rights reserved.   <a href=\"www.expectedparrot.com\" style=\"color:#130061\">www.expectedparrot.com</a></p>"
   ]
  }
 ],
 "metadata": {
  "deepnote_app_clear_outputs": false,
  "deepnote_app_layout": "powerful-article",
  "deepnote_app_reactivity_enabled": true,
  "deepnote_app_width": "full-width",
  "deepnote_execution_queue": [],
  "deepnote_notebook_id": "17430978a5634fc4ada3127b6b9bcd66",
  "kernelspec": {
   "display_name": "Python 3 (ipykernel)",
   "language": "python",
   "name": "python3"
  },
  "language_info": {
   "codemirror_mode": {
    "name": "ipython",
    "version": 3
   },
   "file_extension": ".py",
   "mimetype": "text/x-python",
   "name": "python",
   "nbconvert_exporter": "python",
   "pygments_lexer": "ipython3",
   "version": "3.11.7"
  }
 },
 "nbformat": 4,
 "nbformat_minor": 4
}
