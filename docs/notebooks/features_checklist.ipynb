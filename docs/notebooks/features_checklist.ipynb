{
 "cells": [
  {
   "cell_type": "markdown",
   "id": "5bf729a8-d2fa-4c36-803d-2d3530789c50",
   "metadata": {},
   "source": [
    "# Survey features checklist\n",
    "This notebook provides a checklist of key features of EDSL for use in reviewing the logic and contents of a survey and ensuring that it will run as you intend it to.\n",
    "\n",
    "## Support\n",
    "Please reach out to us with any questions or issues! \n",
    "Send an email to **info@expectedparrot.com** or post a message at [Discord]().\n",
    "\n",
    "## Understanding how EDSL works\n",
    "At its core, EDSL is built on the concept of a [`Question`](https://docs.expectedparrot.com/en/latest/questions.html) being answered by an AI [`Agent`](https://docs.expectedparrot.com/en/latest/agents.html), which uses a large language [`Model`](https://docs.expectedparrot.com/en/latest/language_models.html) to generate a response, returning it as a formatted [`Result`](https://docs.expectedparrot.com/en/latest/results.html). \n",
    "A typical workflow consists of the following steps:\n",
    "\n",
    "1. Construct questions of different types (multiple choice, free text, etc.) and combine them in a survey. Learn about [question types](https://docs.expectedparrot.com/en/latest/questions.html).\n",
    "2. *Optional:* Add data or content to your questions (from CSVs, PDFs, docs, images, etc.). Learn about [scenarios](https://docs.expectedparrot.com/en/latest/scenarios.html).\n",
    "3. *Optional:* Add rules or logic to specify how questions should be presented (e.g., skip/stop rules, or including context of other questions). Learn about [survey rules](https://docs.expectedparrot.com/en/latest/surveys.html).\n",
    "4. *Optional:* Design or import personas for AI agents to answer the questions. Learn about [agents](https://docs.expectedparrot.com/en/latest/agents.html).\n",
    "5. Select language models to generate responses. EDSL works with hundreds of popular [models](https://docs.expectedparrot.com/en/latest/language_models.html) to choose from.\n",
    "6. Run the survey and get a formatted dataset of results. Use built-in methods for analyzing them.\n",
    "7. *Optional:* Store and share your work at the [Coop](https://www.expectedparrot.com/content/explore): a platform for AI research that is fully integrated with EDSL. Learn more.\n",
    "\n",
    "## Key features\n",
    "\n",
    "* **Skip/stop rules:** Is logic for skipping questions correctly expressed in the rules?\n",
    "* **Question memory:** Does any `question_text` depend on information in or responses to other questions in the survey, either impliedly or expressly?\n",
    "\n",
    "## Common errors\n",
    "\n",
    "\n",
    "In reviewing your survey, there may be questions that require information from other questions in the survey, either in whole or in part.\n",
    "\n",
    "**Incomplete question options** \n",
    "* Use `QuestionYesNo` when you only want to allow \"Yes\" or \"No\" responses.\n",
    "* Use `QuestionMultipleChoice` when you want a model to select one option only.\n",
    "* Use `QuestionCheckBox` when you want to allow a model to make multiple (or no) selections, or specify a number of selections.\n",
    "\n",
    "**Wrong question type**\n",
    "\n",
    "**Missing context**\n",
    "* The model does not have enough information to answer the question. Context of another question is needed, e.g., the response, or any content that has been added to a prior question for the model to evaluate. Learn about [piping]() questions and adding [question memory]().\n",
    "* A question text says multiple options may be selected, but the question type is multiple choice.\n",
    "* The question options c\n",
    "\n",
    "\n",
    "\n",
    "## Tools for auto-importing survey data\n",
    "EDSL also provides features for importing data to use in surveys:\n",
    "\n",
    "### Conjure\n",
    "The `Conjure` module allows you to impoort a file of survey data (SPSS, CSV) and automatically generate EDSL objects based on it:\n",
    "\n",
    "* A `Survey` consisting of the original survey questions.\n",
    "* An `AgentList` of agents representing the original respondents, with traits for their original responses.\n",
    "* A `Results` dataset of the original responses that you can analyze with EDSL's built-in methods for analyzing any survey responses.\n",
    "\n",
    "[Learn more]().\n",
    "\n",
    "\n",
    "### Tools for generating question scenarios\n",
    "EDSL provides many methods for automatically formatting data or content to be used with a survey.\n",
    "[Learn more]() about creating and using `Scenario` and `ScenarioList` objects for texts, docs, PDFs, images, CSVs, tables and other data types that you want to add to survey questions or store with survey results as metadata. "
   ]
  },
  {
   "cell_type": "code",
   "execution_count": null,
   "id": "8a3648d5-d5f8-4590-8438-a3b947f0546a",
   "metadata": {},
   "outputs": [],
   "source": []
  },
  {
   "cell_type": "markdown",
   "id": "7084700c-c3f2-4a97-aa48-cffad346e845",
   "metadata": {},
   "source": [
    "## Skip/stop rules"
   ]
  },
  {
   "cell_type": "markdown",
   "id": "35f8ed28-2727-439f-a182-5e5828aec81c",
   "metadata": {},
   "source": [
    "## Question memory\n",
    "`Question` objects are combined in a `Survey` in order to administer them to a model (or multiple models) at once.\n",
    "By default, questions are administered asynchronously, meaning that the presentation of one question does not include any context of other questions in the survey, unless you specify otherwise. \n",
    "This default functionality saves time and reduces token costs.\n",
    "It also allows you to fine tune and readily compare responses with different contexts.\n",
    "\n"
   ]
  },
  {
   "cell_type": "code",
   "execution_count": null,
   "id": "5afad6a5-f506-4272-9b92-015c62fddc9a",
   "metadata": {},
   "outputs": [],
   "source": [
    "from edsl import QuestionYesNo, QuestionFreeText, Survey\n",
    "\n",
    "q_own_car = QuestionYesNo(\n",
    "    question_name = \"own_car\",\n",
    "    question_text = \"Do you currently own a car?\"\n",
    ")\n",
    "\n",
    "q_color = QuestionFreeText(\n",
    "    question_name = \"color\",\n",
    "    question_text = \"What color is your car?\" # We need to add a rule to skip this question if the prior answer is \"No\"\n",
    ")\n",
    "\n",
    "q_commute = QuestionMultipleChoice(\n",
    "    question_name = \"commute_car\",\n",
    "    question_text = \"How often do you commute to work by car?\" # We may want to add the context of the answer to the first question for coherence\n",
    ")\n",
    "\n",
    "survey = Survey([q_own_car, q_color])"
   ]
  },
  {
   "cell_type": "markdown",
   "id": "beac293a-7054-41b0-92ee-ca692e4fcdfa",
   "metadata": {},
   "source": [
    "### Skip rule"
   ]
  },
  {
   "cell_type": "code",
   "execution_count": null,
   "id": "cacf4264-82ec-4d11-9600-05096f8cbec8",
   "metadata": {},
   "outputs": [],
   "source": [
    "skip_survey = survey.add_skip_rule(\"color\", \"own_car == 'No'\")"
   ]
  },
  {
   "cell_type": "markdown",
   "id": "b5605542-ff2e-4c57-8c57-6304d17b2dc1",
   "metadata": {},
   "source": [
    "### Stop rule"
   ]
  },
  {
   "cell_type": "code",
   "execution_count": null,
   "id": "77b09545-c310-44d5-a1f3-ebdb78de4501",
   "metadata": {},
   "outputs": [],
   "source": [
    "stop_survey = survey.add_stop_rule(\"commute_car\", \"own_car\")"
   ]
  },
  {
   "cell_type": "markdown",
   "id": "c3a27503-c531-405b-abe2-b1f8b9da4553",
   "metadata": {},
   "source": [
    "### Targeted question memory"
   ]
  },
  {
   "cell_type": "code",
   "execution_count": null,
   "id": "7f85e55c-038f-49b0-95fe-4907798b052e",
   "metadata": {},
   "outputs": [],
   "source": [
    "targeted_memory_survey = survey.add_targeted_memory(\"color\", \"own_car == 'No'\")"
   ]
  },
  {
   "cell_type": "markdown",
   "id": "6360c9b8-e698-4ecc-9a60-94a5122c7af2",
   "metadata": {},
   "source": [
    "### Full question memory"
   ]
  },
  {
   "cell_type": "code",
   "execution_count": null,
   "id": "d2625e29-7bf3-40d7-b88f-2de8662a1593",
   "metadata": {},
   "outputs": [],
   "source": [
    "full_memory_survey = survey.set_full_memory_mode()"
   ]
  }
 ],
 "metadata": {
  "kernelspec": {
   "display_name": "Python 3 (ipykernel)",
   "language": "python",
   "name": "python3"
  },
  "language_info": {
   "codemirror_mode": {
    "name": "ipython",
    "version": 3
   },
   "file_extension": ".py",
   "mimetype": "text/x-python",
   "name": "python",
   "nbconvert_exporter": "python",
   "pygments_lexer": "ipython3",
   "version": "3.11.7"
  }
 },
 "nbformat": 4,
 "nbformat_minor": 5
}
