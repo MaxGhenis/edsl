{
 "cells": [
  {
   "cell_type": "markdown",
   "id": "f3e05c2b-1f28-466d-9a54-8b7c554c9d1e",
   "metadata": {},
   "source": [
    "# Using EDSL to sense check data\n",
    "This notebook provides example code for sense checking survey data using [EDSL](https://docs.expectedparrot.com), an open-source library for simulating surveys, experiments and market research with AI agents and large language models. \n",
    "\n",
    "## Contents\n",
    "Using a set of responses to a survey about online marketplaces as an example, we demonstrate EDSL methods for: \n",
    "\n",
    "1. Evaluating survey questions (e.g., for clarity and improvements)\n",
    "2. Analyzing each respondent's set of answers (e.g., to summarize or identify sentiment, themes, etc.)\n",
    "3. Reviewing each answer individually (e.g., to evaluate its relevance or usefulness)\n",
    "\n",
    "## Coop\n",
    "We also show how to post EDSL questions, surveys, results and notebooks (like this one) to the [Coop: a new platform for creating and sharing LLM-based research](https://www.expectedparrot.com/explore). \n",
    "\n",
    "## How EDSL works\n",
    "EDSL is a flexible library that can be used to perform a broad variety of research tasks. A typical workflow consists of the following steps:\n",
    "\n",
    "* Construct questions in EDSL \n",
    "* Add data to the questions (e.g., for data labeling tasks)\n",
    "* Use an AI agent to answer the questions\n",
    "* Select a language model to generate the answers\n",
    "* Analyze results in a formatted dataset\n",
    "\n",
    "## Technical setup\n",
    "Before running the code below please ensure that you have completed setup:\n",
    "\n",
    "* [Install](https://docs.expectedparrot.com/en/latest/installation.html) the EDSL library.\n",
    "* Create a [Coop account](https://www.expectedparrot.com/login) and activate [remote inference](https://docs.expectedparrot.com/en/latest/remote_inference.html) OR store your own [API Keys](https://docs.expectedparrot.com/en/latest/api_keys.html) for language models that you want to use.\n",
    "\n",
    "Our [Starter Tutorial](https://docs.expectedparrot.com/en/latest/starter_tutorial.html) provides examples of EDSL basic components. "
   ]
  },
  {
   "cell_type": "markdown",
   "id": "f1986963-2a7f-4bd7-9f0b-0e3ccfb00e02",
   "metadata": {},
   "source": [
    "## Example data\n",
    "Our example data is a CSV consisting of several questions and a few rows of responses:"
   ]
  },
  {
   "cell_type": "code",
   "execution_count": 1,
   "id": "51927530-fbed-4d80-b280-d54bdcc99cba",
   "metadata": {},
   "outputs": [
    {
     "data": {
      "text/html": [
       "<div>\n",
       "<style scoped>\n",
       "    .dataframe tbody tr th:only-of-type {\n",
       "        vertical-align: middle;\n",
       "    }\n",
       "\n",
       "    .dataframe tbody tr th {\n",
       "        vertical-align: top;\n",
       "    }\n",
       "\n",
       "    .dataframe thead th {\n",
       "        text-align: right;\n",
       "    }\n",
       "</style>\n",
       "<table border=\"1\" class=\"dataframe\">\n",
       "  <thead>\n",
       "    <tr style=\"text-align: right;\">\n",
       "      <th></th>\n",
       "      <th>Respondent ID</th>\n",
       "      <th>What do you like most about using our online marketplace?</th>\n",
       "      <th>What is one feature you would like to see added to improve your shopping experience?</th>\n",
       "      <th>Can you describe a recent experience where you were dissatisfied with our service?</th>\n",
       "      <th>How do you feel about the current product search and filtering options?</th>\n",
       "      <th>Is there anything else you would like to share about your experience with us?</th>\n",
       "    </tr>\n",
       "  </thead>\n",
       "  <tbody>\n",
       "    <tr>\n",
       "      <th>0</th>\n",
       "      <td>101</td>\n",
       "      <td>The wide variety of products and the ease of use.</td>\n",
       "      <td>It would be great to have a personalized recom...</td>\n",
       "      <td>I was disappointed when an item I ordered arri...</td>\n",
       "      <td>The search and filtering options are intuitive...</td>\n",
       "      <td>No, keep up the great work!</td>\n",
       "    </tr>\n",
       "    <tr>\n",
       "      <th>1</th>\n",
       "      <td>102</td>\n",
       "      <td>I enjoy the simplicity of the interface.</td>\n",
       "      <td>A feature that helps compare similar products ...</td>\n",
       "      <td>No complaints here.</td>\n",
       "      <td>I find the product search to be pretty effective.</td>\n",
       "      <td>I think the sky is a beautiful shade of purple...</td>\n",
       "    </tr>\n",
       "    <tr>\n",
       "      <th>2</th>\n",
       "      <td>103</td>\n",
       "      <td>The platform is user-friendly and offers a vas...</td>\n",
       "      <td>Would love to see an option to save and compar...</td>\n",
       "      <td>My delivery was late by a few days, which was ...</td>\n",
       "      <td>It’s okay.</td>\n",
       "      <td>No.</td>\n",
       "    </tr>\n",
       "  </tbody>\n",
       "</table>\n",
       "</div>"
      ],
      "text/plain": [
       "   Respondent ID What do you like most about using our online marketplace?  \\\n",
       "0            101  The wide variety of products and the ease of use.          \n",
       "1            102           I enjoy the simplicity of the interface.          \n",
       "2            103  The platform is user-friendly and offers a vas...          \n",
       "\n",
       "  What is one feature you would like to see added to improve your shopping experience?  \\\n",
       "0  It would be great to have a personalized recom...                                     \n",
       "1  A feature that helps compare similar products ...                                     \n",
       "2  Would love to see an option to save and compar...                                     \n",
       "\n",
       "  Can you describe a recent experience where you were dissatisfied with our service?  \\\n",
       "0  I was disappointed when an item I ordered arri...                                   \n",
       "1                                No complaints here.                                   \n",
       "2  My delivery was late by a few days, which was ...                                   \n",
       "\n",
       "  How do you feel about the current product search and filtering options?  \\\n",
       "0  The search and filtering options are intuitive...                        \n",
       "1  I find the product search to be pretty effective.                        \n",
       "2                                         It’s okay.                        \n",
       "\n",
       "  Is there anything else you would like to share about your experience with us?  \n",
       "0                        No, keep up the great work!                             \n",
       "1  I think the sky is a beautiful shade of purple...                             \n",
       "2                                                No.                             "
      ]
     },
     "execution_count": 1,
     "metadata": {},
     "output_type": "execute_result"
    }
   ],
   "source": [
    "import pandas as pd\n",
    "\n",
    "df = pd.read_csv(\"marketplace_survey_results.csv\")\n",
    "df"
   ]
  },
  {
   "cell_type": "markdown",
   "id": "1f73e0f9-1af9-41ae-901e-53fc64a3c545",
   "metadata": {},
   "source": [
    "## Creating questions about the data\n",
    "There are many questions we might want to ask about the data, such as:\n",
    "\n",
    "* Does this survey question have any logical or syntactical problems? {{ *question* }}\n",
    "* What is the overall sentiment of this respondent's answers? {{ *responses* }}\n",
    "* Is this answer responsive to the question that was asked? {{ *question* }} {{ *answer* }}"
   ]
  },
  {
   "cell_type": "markdown",
   "id": "57c30c86-ac26-4d0f-a8be-fc95e5d2ad85",
   "metadata": {},
   "source": [
    "## Question types\n",
    "EDSL comes with many common question types that we can select from based on the form of the response that we want to get back from the model: multiple choice, checkbox, linear scale, free text, etc. [Learn more about EDSL question types](https://docs.expectedparrot.com/en/latest/questions.html).\n",
    "\n",
    "Here we construct `Question` objects for the questions that we want to ask about the data, using `{{ placeholders }}` for the information that we will add to the questions in the steps that follow:"
   ]
  },
  {
   "cell_type": "code",
   "execution_count": 2,
   "id": "d79f413a-ae95-4493-9d2f-ab573b08b635",
   "metadata": {},
   "outputs": [],
   "source": [
    "from edsl import QuestionFreeText, QuestionMultipleChoice, QuestionYesNo"
   ]
  },
  {
   "cell_type": "code",
   "execution_count": 3,
   "id": "21a46fac-9bc6-4fad-9b47-91ea04f896a3",
   "metadata": {},
   "outputs": [],
   "source": [
    "q_logic = QuestionFreeText(\n",
    "    question_name = \"logic\",\n",
    "    question_text = \"Describe any logical or syntactical problems in the following survey question: {{ question }}\"\n",
    ")\n",
    "\n"
   ]
  },
  {
   "cell_type": "code",
   "execution_count": 4,
   "id": "3f85f392-3807-4672-8b7e-ef83526c46f2",
   "metadata": {},
   "outputs": [],
   "source": [
    "q_sentiment = QuestionMultipleChoice(\n",
    "    question_name = \"sentiment\",\n",
    "    question_text = \"What is the overall sentiment of this respondent's survey answers? {{ responses }}\",\n",
    "    question_options = [\"Very unsatisfied\", \"Somewhat unsatisfied\", \"Somewhat satisfied\", \"Very satisfied\"]\n",
    ")"
   ]
  },
  {
   "cell_type": "code",
   "execution_count": 5,
   "id": "dc72fa3a-a338-4705-9b01-53f461724422",
   "metadata": {},
   "outputs": [],
   "source": [
    "q_responsive = QuestionYesNo(\n",
    "    question_name = \"responsive\",\n",
    "    question_text = \"Is this answer responsive to the question that was asked? Question: {{ question }} Answer: {{ answer }}\"\n",
    ")"
   ]
  },
  {
   "cell_type": "markdown",
   "id": "d0431ad6-62a1-45b1-91ec-6b872e6050c8",
   "metadata": {},
   "source": [
    "## Adding survey data to the questions\n",
    "Next we'll add our data to our questions. This can be done efficiently by creating a `ScenarioList` representing the data. The individual `Scenario` objects in the list can be constructed in a variety of ways depending on the information that we want to include in a particular question.\n",
    "\n",
    "We start by calling the `from_csv()` method to create a `ScenarioList` for the data in its original form. We can see that this generates a `Scenario` dictionary for each respondent's set of answers with key/value pairs for the individual questions and answers: "
   ]
  },
  {
   "cell_type": "code",
   "execution_count": 6,
   "id": "ec4b239d-c991-4e6f-b9ab-c369a990a748",
   "metadata": {},
   "outputs": [],
   "source": [
    "from edsl import ScenarioList"
   ]
  },
  {
   "cell_type": "code",
   "execution_count": 7,
   "id": "d3d88d16-48d7-419a-9562-558825c08fff",
   "metadata": {},
   "outputs": [
    {
     "data": {
      "text/html": [
       "<div class=\"highlight\"><pre><span></span><span class=\"p\">{</span>\n",
       "<span class=\"w\">    </span><span class=\"nt\">&quot;scenarios&quot;</span><span class=\"p\">:</span><span class=\"w\"> </span><span class=\"p\">[</span>\n",
       "<span class=\"w\">        </span><span class=\"p\">{</span>\n",
       "<span class=\"w\">            </span><span class=\"nt\">&quot;Respondent ID&quot;</span><span class=\"p\">:</span><span class=\"w\"> </span><span class=\"s2\">&quot;101&quot;</span><span class=\"p\">,</span>\n",
       "<span class=\"w\">            </span><span class=\"nt\">&quot;What do you like most about using our online marketplace?&quot;</span><span class=\"p\">:</span><span class=\"w\"> </span><span class=\"s2\">&quot;The wide variety of products and the ease of use.&quot;</span><span class=\"p\">,</span>\n",
       "<span class=\"w\">            </span><span class=\"nt\">&quot;What is one feature you would like to see added to improve your shopping experience?&quot;</span><span class=\"p\">:</span><span class=\"w\"> </span><span class=\"s2\">&quot;It would be great to have a personalized recommendation system based on my browsing history.&quot;</span><span class=\"p\">,</span>\n",
       "<span class=\"w\">            </span><span class=\"nt\">&quot;Can you describe a recent experience where you were dissatisfied with our service?&quot;</span><span class=\"p\">:</span><span class=\"w\"> </span><span class=\"s2\">&quot;I was disappointed when an item I ordered arrived damaged, but customer service quickly resolved it.&quot;</span><span class=\"p\">,</span>\n",
       "<span class=\"w\">            </span><span class=\"nt\">&quot;How do you feel about the current product search and filtering options?&quot;</span><span class=\"p\">:</span><span class=\"w\"> </span><span class=\"s2\">&quot;The search and filtering options are intuitive and work well for me.&quot;</span><span class=\"p\">,</span>\n",
       "<span class=\"w\">            </span><span class=\"nt\">&quot;Is there anything else you would like to share about your experience with us?&quot;</span><span class=\"p\">:</span><span class=\"w\"> </span><span class=\"s2\">&quot;No, keep up the great work!&quot;</span>\n",
       "<span class=\"w\">        </span><span class=\"p\">},</span>\n",
       "<span class=\"w\">        </span><span class=\"p\">{</span>\n",
       "<span class=\"w\">            </span><span class=\"nt\">&quot;Respondent ID&quot;</span><span class=\"p\">:</span><span class=\"w\"> </span><span class=\"s2\">&quot;102&quot;</span><span class=\"p\">,</span>\n",
       "<span class=\"w\">            </span><span class=\"nt\">&quot;What do you like most about using our online marketplace?&quot;</span><span class=\"p\">:</span><span class=\"w\"> </span><span class=\"s2\">&quot;I enjoy the simplicity of the interface.&quot;</span><span class=\"p\">,</span>\n",
       "<span class=\"w\">            </span><span class=\"nt\">&quot;What is one feature you would like to see added to improve your shopping experience?&quot;</span><span class=\"p\">:</span><span class=\"w\"> </span><span class=\"s2\">&quot;A feature that helps compare similar products side by side would be useful.&quot;</span><span class=\"p\">,</span>\n",
       "<span class=\"w\">            </span><span class=\"nt\">&quot;Can you describe a recent experience where you were dissatisfied with our service?&quot;</span><span class=\"p\">:</span><span class=\"w\"> </span><span class=\"s2\">&quot;No complaints here.&quot;</span><span class=\"p\">,</span>\n",
       "<span class=\"w\">            </span><span class=\"nt\">&quot;How do you feel about the current product search and filtering options?&quot;</span><span class=\"p\">:</span><span class=\"w\"> </span><span class=\"s2\">&quot;I find the product search to be pretty effective.&quot;</span><span class=\"p\">,</span>\n",
       "<span class=\"w\">            </span><span class=\"nt\">&quot;Is there anything else you would like to share about your experience with us?&quot;</span><span class=\"p\">:</span><span class=\"w\"> </span><span class=\"s2\">&quot;I think the sky is a beautiful shade of purple today.&quot;</span>\n",
       "<span class=\"w\">        </span><span class=\"p\">},</span>\n",
       "<span class=\"w\">        </span><span class=\"p\">{</span>\n",
       "<span class=\"w\">            </span><span class=\"nt\">&quot;Respondent ID&quot;</span><span class=\"p\">:</span><span class=\"w\"> </span><span class=\"s2\">&quot;103&quot;</span><span class=\"p\">,</span>\n",
       "<span class=\"w\">            </span><span class=\"nt\">&quot;What do you like most about using our online marketplace?&quot;</span><span class=\"p\">:</span><span class=\"w\"> </span><span class=\"s2\">&quot;The platform is user-friendly and offers a vast selection of products.&quot;</span><span class=\"p\">,</span>\n",
       "<span class=\"w\">            </span><span class=\"nt\">&quot;What is one feature you would like to see added to improve your shopping experience?&quot;</span><span class=\"p\">:</span><span class=\"w\"> </span><span class=\"s2\">&quot;Would love to see an option to save and compare different products.&quot;</span><span class=\"p\">,</span>\n",
       "<span class=\"w\">            </span><span class=\"nt\">&quot;Can you describe a recent experience where you were dissatisfied with our service?&quot;</span><span class=\"p\">:</span><span class=\"w\"> </span><span class=\"s2\">&quot;My delivery was late by a few days, which was frustrating.&quot;</span><span class=\"p\">,</span>\n",
       "<span class=\"w\">            </span><span class=\"nt\">&quot;How do you feel about the current product search and filtering options?&quot;</span><span class=\"p\">:</span><span class=\"w\"> </span><span class=\"s2\">&quot;It\\u2019s okay.&quot;</span><span class=\"p\">,</span>\n",
       "<span class=\"w\">            </span><span class=\"nt\">&quot;Is there anything else you would like to share about your experience with us?&quot;</span><span class=\"p\">:</span><span class=\"w\"> </span><span class=\"s2\">&quot;No.&quot;</span>\n",
       "<span class=\"w\">        </span><span class=\"p\">}</span>\n",
       "<span class=\"w\">    </span><span class=\"p\">]</span>\n",
       "<span class=\"p\">}</span>\n",
       "</pre></div>\n"
      ],
      "text/plain": [
       "ScenarioList([Scenario({'Respondent ID': '101', 'What do you like most about using our online marketplace?': 'The wide variety of products and the ease of use.', 'What is one feature you would like to see added to improve your shopping experience?': 'It would be great to have a personalized recommendation system based on my browsing history.', 'Can you describe a recent experience where you were dissatisfied with our service?': 'I was disappointed when an item I ordered arrived damaged, but customer service quickly resolved it.', 'How do you feel about the current product search and filtering options?': 'The search and filtering options are intuitive and work well for me.', 'Is there anything else you would like to share about your experience with us?': 'No, keep up the great work!'}), Scenario({'Respondent ID': '102', 'What do you like most about using our online marketplace?': 'I enjoy the simplicity of the interface.', 'What is one feature you would like to see added to improve your shopping experience?': 'A feature that helps compare similar products side by side would be useful.', 'Can you describe a recent experience where you were dissatisfied with our service?': 'No complaints here.', 'How do you feel about the current product search and filtering options?': 'I find the product search to be pretty effective.', 'Is there anything else you would like to share about your experience with us?': 'I think the sky is a beautiful shade of purple today.'}), Scenario({'Respondent ID': '103', 'What do you like most about using our online marketplace?': 'The platform is user-friendly and offers a vast selection of products.', 'What is one feature you would like to see added to improve your shopping experience?': 'Would love to see an option to save and compare different products.', 'Can you describe a recent experience where you were dissatisfied with our service?': 'My delivery was late by a few days, which was frustrating.', 'How do you feel about the current product search and filtering options?': 'It’s okay.', 'Is there anything else you would like to share about your experience with us?': 'No.'})])"
      ]
     },
     "execution_count": 7,
     "metadata": {},
     "output_type": "execute_result"
    }
   ],
   "source": [
    "sl = ScenarioList.from_csv(\"marketplace_survey_results.csv\")\n",
    "sl"
   ]
  },
  {
   "cell_type": "markdown",
   "id": "86cceffb-bc56-4e60-8687-da56f61128c9",
   "metadata": {},
   "source": [
    "## Evaluating the questions\n",
    "For our first question we want to create a `Scenario` for each survey question:"
   ]
  },
  {
   "cell_type": "code",
   "execution_count": 8,
   "id": "a54ced10-a684-4510-ad7a-85b2f886e61c",
   "metadata": {},
   "outputs": [],
   "source": [
    "from edsl import QuestionFreeText, Survey\n",
    "\n",
    "q_logic = QuestionFreeText(\n",
    "    question_name = \"logic\",\n",
    "    question_text = \"Describe any logical or syntactical problems in the following survey question: {{ question }}\"\n",
    ")\n",
    "\n",
    "q_improved = QuestionFreeText(\n",
    "    question_name = \"improved\",\n",
    "    question_text = \"Please draft an improved version of the survey question. Return only the revised question text.\"\n",
    ")\n",
    "\n",
    "survey = Survey([q_logic, q_improved]).add_targeted_memory(q_improved, q_logic)"
   ]
  },
  {
   "cell_type": "markdown",
   "id": "74982aec-3d58-44f2-aaa5-b9753ec71da0",
   "metadata": {},
   "source": [
    "The survey questions are the `parameters` of the `ScenarioList` created above:"
   ]
  },
  {
   "cell_type": "code",
   "execution_count": 9,
   "id": "a7ae21a0-fdca-4d74-b09f-34176ab3e5e2",
   "metadata": {},
   "outputs": [
    {
     "data": {
      "text/plain": [
       "['How do you feel about the current product search and filtering options?',\n",
       " 'What do you like most about using our online marketplace?',\n",
       " 'Is there anything else you would like to share about your experience with us?',\n",
       " 'Can you describe a recent experience where you were dissatisfied with our service?',\n",
       " 'Respondent ID',\n",
       " 'What is one feature you would like to see added to improve your shopping experience?']"
      ]
     },
     "execution_count": 9,
     "metadata": {},
     "output_type": "execute_result"
    }
   ],
   "source": [
    "questions = list(sl.parameters)\n",
    "questions"
   ]
  },
  {
   "cell_type": "markdown",
   "id": "160ce53e-1e04-4537-952b-2abb045d9a00",
   "metadata": {},
   "source": [
    "We can pass them to the `from_list()` method to create a new `ScenarioList`, specifying that the key for each `Scenario` will be `question` in order to match the parameter of our logic question:"
   ]
  },
  {
   "cell_type": "code",
   "execution_count": 10,
   "id": "47e56caa-696e-4510-98f0-1e3044584cce",
   "metadata": {},
   "outputs": [
    {
     "data": {
      "text/html": [
       "<div class=\"highlight\"><pre><span></span><span class=\"p\">{</span>\n",
       "<span class=\"w\">    </span><span class=\"nt\">&quot;scenarios&quot;</span><span class=\"p\">:</span><span class=\"w\"> </span><span class=\"p\">[</span>\n",
       "<span class=\"w\">        </span><span class=\"p\">{</span>\n",
       "<span class=\"w\">            </span><span class=\"nt\">&quot;question&quot;</span><span class=\"p\">:</span><span class=\"w\"> </span><span class=\"s2\">&quot;How do you feel about the current product search and filtering options?&quot;</span>\n",
       "<span class=\"w\">        </span><span class=\"p\">},</span>\n",
       "<span class=\"w\">        </span><span class=\"p\">{</span>\n",
       "<span class=\"w\">            </span><span class=\"nt\">&quot;question&quot;</span><span class=\"p\">:</span><span class=\"w\"> </span><span class=\"s2\">&quot;What do you like most about using our online marketplace?&quot;</span>\n",
       "<span class=\"w\">        </span><span class=\"p\">},</span>\n",
       "<span class=\"w\">        </span><span class=\"p\">{</span>\n",
       "<span class=\"w\">            </span><span class=\"nt\">&quot;question&quot;</span><span class=\"p\">:</span><span class=\"w\"> </span><span class=\"s2\">&quot;Is there anything else you would like to share about your experience with us?&quot;</span>\n",
       "<span class=\"w\">        </span><span class=\"p\">},</span>\n",
       "<span class=\"w\">        </span><span class=\"p\">{</span>\n",
       "<span class=\"w\">            </span><span class=\"nt\">&quot;question&quot;</span><span class=\"p\">:</span><span class=\"w\"> </span><span class=\"s2\">&quot;Can you describe a recent experience where you were dissatisfied with our service?&quot;</span>\n",
       "<span class=\"w\">        </span><span class=\"p\">},</span>\n",
       "<span class=\"w\">        </span><span class=\"p\">{</span>\n",
       "<span class=\"w\">            </span><span class=\"nt\">&quot;question&quot;</span><span class=\"p\">:</span><span class=\"w\"> </span><span class=\"s2\">&quot;Respondent ID&quot;</span>\n",
       "<span class=\"w\">        </span><span class=\"p\">},</span>\n",
       "<span class=\"w\">        </span><span class=\"p\">{</span>\n",
       "<span class=\"w\">            </span><span class=\"nt\">&quot;question&quot;</span><span class=\"p\">:</span><span class=\"w\"> </span><span class=\"s2\">&quot;What is one feature you would like to see added to improve your shopping experience?&quot;</span>\n",
       "<span class=\"w\">        </span><span class=\"p\">}</span>\n",
       "<span class=\"w\">    </span><span class=\"p\">]</span>\n",
       "<span class=\"p\">}</span>\n",
       "</pre></div>\n"
      ],
      "text/plain": [
       "ScenarioList([Scenario({'question': 'How do you feel about the current product search and filtering options?'}), Scenario({'question': 'What do you like most about using our online marketplace?'}), Scenario({'question': 'Is there anything else you would like to share about your experience with us?'}), Scenario({'question': 'Can you describe a recent experience where you were dissatisfied with our service?'}), Scenario({'question': 'Respondent ID'}), Scenario({'question': 'What is one feature you would like to see added to improve your shopping experience?'})])"
      ]
     },
     "execution_count": 10,
     "metadata": {},
     "output_type": "execute_result"
    }
   ],
   "source": [
    "sl_questions = ScenarioList.from_list(\"question\", questions)\n",
    "sl_questions"
   ]
  },
  {
   "cell_type": "markdown",
   "id": "9b81e0e9-e943-46b4-9b7a-80abe151adc9",
   "metadata": {},
   "source": [
    "We add the scenarios to the survey when we run it:"
   ]
  },
  {
   "cell_type": "code",
   "execution_count": 11,
   "id": "f97b52a1-4beb-4bdb-bea6-dbf48934b7dc",
   "metadata": {},
   "outputs": [],
   "source": [
    "results = survey.by(sl_questions).run()"
   ]
  },
  {
   "cell_type": "markdown",
   "id": "5514c06c-2c09-4a9d-b010-c16fb8872b07",
   "metadata": {},
   "source": [
    "This generates a dataset of `Results` that we can access with built-in methods for analysis:"
   ]
  },
  {
   "cell_type": "code",
   "execution_count": 12,
   "id": "024203f8-f34f-4bf1-afb5-faeee4aefbd3",
   "metadata": {},
   "outputs": [
    {
     "data": {
      "text/html": [
       "<pre style=\"white-space:pre;overflow-x:auto;line-height:normal;font-family:Menlo,'DejaVu Sans Mono',consolas,'Courier New',monospace\">┏━━━━━━━━━━━━━━━━━━━━━━━━━━━━━━━━━━━━━┳━━━━━━━━━━━━━━━━━━━━━━━━━━━━━━━━━━━━━┳━━━━━━━━━━━━━━━━━━━━━━━━━━━━━━━━━━━━━┓\n",
       "┃<span style=\"color: #800080; text-decoration-color: #800080; font-weight: bold\"> scenario                            </span>┃<span style=\"color: #800080; text-decoration-color: #800080; font-weight: bold\"> answer                              </span>┃<span style=\"color: #800080; text-decoration-color: #800080; font-weight: bold\"> answer                              </span>┃\n",
       "┃<span style=\"color: #800080; text-decoration-color: #800080; font-weight: bold\"> .question                           </span>┃<span style=\"color: #800080; text-decoration-color: #800080; font-weight: bold\"> .logic                              </span>┃<span style=\"color: #800080; text-decoration-color: #800080; font-weight: bold\"> .improved                           </span>┃\n",
       "┡━━━━━━━━━━━━━━━━━━━━━━━━━━━━━━━━━━━━━╇━━━━━━━━━━━━━━━━━━━━━━━━━━━━━━━━━━━━━╇━━━━━━━━━━━━━━━━━━━━━━━━━━━━━━━━━━━━━┩\n",
       "│<span style=\"color: #7f7f7f; text-decoration-color: #7f7f7f\"> How do you feel about the current   </span>│<span style=\"color: #7f7f7f; text-decoration-color: #7f7f7f\"> The survey question 'How do you     </span>│<span style=\"color: #7f7f7f; text-decoration-color: #7f7f7f\"> On a scale of 1 to 5, how satisfied </span>│\n",
       "│<span style=\"color: #7f7f7f; text-decoration-color: #7f7f7f\"> product search and filtering        </span>│<span style=\"color: #7f7f7f; text-decoration-color: #7f7f7f\"> feel about the current product      </span>│<span style=\"color: #7f7f7f; text-decoration-color: #7f7f7f\"> are you with the current product    </span>│\n",
       "│<span style=\"color: #7f7f7f; text-decoration-color: #7f7f7f\"> options?                            </span>│<span style=\"color: #7f7f7f; text-decoration-color: #7f7f7f\"> search and filtering options?' is   </span>│<span style=\"color: #7f7f7f; text-decoration-color: #7f7f7f\"> search functionality, and how       </span>│\n",
       "│<span style=\"color: #7f7f7f; text-decoration-color: #7f7f7f\">                                     </span>│<span style=\"color: #7f7f7f; text-decoration-color: #7f7f7f\"> generally clear but could be        </span>│<span style=\"color: #7f7f7f; text-decoration-color: #7f7f7f\"> satisfied are you with the product  </span>│\n",
       "│<span style=\"color: #7f7f7f; text-decoration-color: #7f7f7f\">                                     </span>│<span style=\"color: #7f7f7f; text-decoration-color: #7f7f7f\"> improved by being more specific. It </span>│<span style=\"color: #7f7f7f; text-decoration-color: #7f7f7f\"> filtering options available on our  </span>│\n",
       "│<span style=\"color: #7f7f7f; text-decoration-color: #7f7f7f\">                                     </span>│<span style=\"color: #7f7f7f; text-decoration-color: #7f7f7f\"> combines two different aspects      </span>│<span style=\"color: #7f7f7f; text-decoration-color: #7f7f7f\"> website?                            </span>│\n",
       "│<span style=\"color: #7f7f7f; text-decoration-color: #7f7f7f\">                                     </span>│<span style=\"color: #7f7f7f; text-decoration-color: #7f7f7f\"> (search and filtering) into one     </span>│<span style=\"color: #7f7f7f; text-decoration-color: #7f7f7f\">                                     </span>│\n",
       "│<span style=\"color: #7f7f7f; text-decoration-color: #7f7f7f\">                                     </span>│<span style=\"color: #7f7f7f; text-decoration-color: #7f7f7f\"> question, which might confuse the   </span>│<span style=\"color: #7f7f7f; text-decoration-color: #7f7f7f\">                                     </span>│\n",
       "│<span style=\"color: #7f7f7f; text-decoration-color: #7f7f7f\">                                     </span>│<span style=\"color: #7f7f7f; text-decoration-color: #7f7f7f\"> respondent if they have different   </span>│<span style=\"color: #7f7f7f; text-decoration-color: #7f7f7f\">                                     </span>│\n",
       "│<span style=\"color: #7f7f7f; text-decoration-color: #7f7f7f\">                                     </span>│<span style=\"color: #7f7f7f; text-decoration-color: #7f7f7f\"> feelings about each aspect. To      </span>│<span style=\"color: #7f7f7f; text-decoration-color: #7f7f7f\">                                     </span>│\n",
       "│<span style=\"color: #7f7f7f; text-decoration-color: #7f7f7f\">                                     </span>│<span style=\"color: #7f7f7f; text-decoration-color: #7f7f7f\"> address this, the question could be </span>│<span style=\"color: #7f7f7f; text-decoration-color: #7f7f7f\">                                     </span>│\n",
       "│<span style=\"color: #7f7f7f; text-decoration-color: #7f7f7f\">                                     </span>│<span style=\"color: #7f7f7f; text-decoration-color: #7f7f7f\"> split into two separate questions   </span>│<span style=\"color: #7f7f7f; text-decoration-color: #7f7f7f\">                                     </span>│\n",
       "│<span style=\"color: #7f7f7f; text-decoration-color: #7f7f7f\">                                     </span>│<span style=\"color: #7f7f7f; text-decoration-color: #7f7f7f\"> to allow for more specific feedback </span>│<span style=\"color: #7f7f7f; text-decoration-color: #7f7f7f\">                                     </span>│\n",
       "│<span style=\"color: #7f7f7f; text-decoration-color: #7f7f7f\">                                     </span>│<span style=\"color: #7f7f7f; text-decoration-color: #7f7f7f\"> on each feature. Additionally, the  </span>│<span style=\"color: #7f7f7f; text-decoration-color: #7f7f7f\">                                     </span>│\n",
       "│<span style=\"color: #7f7f7f; text-decoration-color: #7f7f7f\">                                     </span>│<span style=\"color: #7f7f7f; text-decoration-color: #7f7f7f\"> question is asking for a subjective </span>│<span style=\"color: #7f7f7f; text-decoration-color: #7f7f7f\">                                     </span>│\n",
       "│<span style=\"color: #7f7f7f; text-decoration-color: #7f7f7f\">                                     </span>│<span style=\"color: #7f7f7f; text-decoration-color: #7f7f7f\"> feeling, which may result in varied </span>│<span style=\"color: #7f7f7f; text-decoration-color: #7f7f7f\">                                     </span>│\n",
       "│<span style=\"color: #7f7f7f; text-decoration-color: #7f7f7f\">                                     </span>│<span style=\"color: #7f7f7f; text-decoration-color: #7f7f7f\"> and qualitative data that can be    </span>│<span style=\"color: #7f7f7f; text-decoration-color: #7f7f7f\">                                     </span>│\n",
       "│<span style=\"color: #7f7f7f; text-decoration-color: #7f7f7f\">                                     </span>│<span style=\"color: #7f7f7f; text-decoration-color: #7f7f7f\"> difficult to quantify. Including a  </span>│<span style=\"color: #7f7f7f; text-decoration-color: #7f7f7f\">                                     </span>│\n",
       "│<span style=\"color: #7f7f7f; text-decoration-color: #7f7f7f\">                                     </span>│<span style=\"color: #7f7f7f; text-decoration-color: #7f7f7f\"> scale or specific aspects to rate   </span>│<span style=\"color: #7f7f7f; text-decoration-color: #7f7f7f\">                                     </span>│\n",
       "│<span style=\"color: #7f7f7f; text-decoration-color: #7f7f7f\">                                     </span>│<span style=\"color: #7f7f7f; text-decoration-color: #7f7f7f\"> could help in quantifying the       </span>│<span style=\"color: #7f7f7f; text-decoration-color: #7f7f7f\">                                     </span>│\n",
       "│<span style=\"color: #7f7f7f; text-decoration-color: #7f7f7f\">                                     </span>│<span style=\"color: #7f7f7f; text-decoration-color: #7f7f7f\"> responses.                          </span>│<span style=\"color: #7f7f7f; text-decoration-color: #7f7f7f\">                                     </span>│\n",
       "├─────────────────────────────────────┼─────────────────────────────────────┼─────────────────────────────────────┤\n",
       "│<span style=\"color: #7f7f7f; text-decoration-color: #7f7f7f\"> What do you like most about using   </span>│<span style=\"color: #7f7f7f; text-decoration-color: #7f7f7f\"> The survey question seems to be     </span>│<span style=\"color: #7f7f7f; text-decoration-color: #7f7f7f\"> What features of our online         </span>│\n",
       "│<span style=\"color: #7f7f7f; text-decoration-color: #7f7f7f\"> our online marketplace?             </span>│<span style=\"color: #7f7f7f; text-decoration-color: #7f7f7f\"> clear and straightforward without   </span>│<span style=\"color: #7f7f7f; text-decoration-color: #7f7f7f\"> marketplace do you find most        </span>│\n",
       "│<span style=\"color: #7f7f7f; text-decoration-color: #7f7f7f\">                                     </span>│<span style=\"color: #7f7f7f; text-decoration-color: #7f7f7f\"> any apparent logical or syntactical </span>│<span style=\"color: #7f7f7f; text-decoration-color: #7f7f7f\"> beneficial? Please rank the         </span>│\n",
       "│<span style=\"color: #7f7f7f; text-decoration-color: #7f7f7f\">                                     </span>│<span style=\"color: #7f7f7f; text-decoration-color: #7f7f7f\"> problems. It asks for a subjective  </span>│<span style=\"color: #7f7f7f; text-decoration-color: #7f7f7f\"> following aspects from most to      </span>│\n",
       "│<span style=\"color: #7f7f7f; text-decoration-color: #7f7f7f\">                                     </span>│<span style=\"color: #7f7f7f; text-decoration-color: #7f7f7f\"> response regarding the user's       </span>│<span style=\"color: #7f7f7f; text-decoration-color: #7f7f7f\"> least preferred: ease of use,       </span>│\n",
       "│<span style=\"color: #7f7f7f; text-decoration-color: #7f7f7f\">                                     </span>│<span style=\"color: #7f7f7f; text-decoration-color: #7f7f7f\"> preference about the online         </span>│<span style=\"color: #7f7f7f; text-decoration-color: #7f7f7f\"> product variety, customer service,  </span>│\n",
       "│<span style=\"color: #7f7f7f; text-decoration-color: #7f7f7f\">                                     </span>│<span style=\"color: #7f7f7f; text-decoration-color: #7f7f7f\"> marketplace. However, if the survey </span>│<span style=\"color: #7f7f7f; text-decoration-color: #7f7f7f\"> pricing, and site performance.      </span>│\n",
       "│<span style=\"color: #7f7f7f; text-decoration-color: #7f7f7f\">                                     </span>│<span style=\"color: #7f7f7f; text-decoration-color: #7f7f7f\"> aims to collect structured data, it </span>│<span style=\"color: #7f7f7f; text-decoration-color: #7f7f7f\">                                     </span>│\n",
       "│<span style=\"color: #7f7f7f; text-decoration-color: #7f7f7f\">                                     </span>│<span style=\"color: #7f7f7f; text-decoration-color: #7f7f7f\"> might be beneficial to provide      </span>│<span style=\"color: #7f7f7f; text-decoration-color: #7f7f7f\">                                     </span>│\n",
       "│<span style=\"color: #7f7f7f; text-decoration-color: #7f7f7f\">                                     </span>│<span style=\"color: #7f7f7f; text-decoration-color: #7f7f7f\"> specific options or a scale for the </span>│<span style=\"color: #7f7f7f; text-decoration-color: #7f7f7f\">                                     </span>│\n",
       "│<span style=\"color: #7f7f7f; text-decoration-color: #7f7f7f\">                                     </span>│<span style=\"color: #7f7f7f; text-decoration-color: #7f7f7f\"> respondents to choose from to       </span>│<span style=\"color: #7f7f7f; text-decoration-color: #7f7f7f\">                                     </span>│\n",
       "│<span style=\"color: #7f7f7f; text-decoration-color: #7f7f7f\">                                     </span>│<span style=\"color: #7f7f7f; text-decoration-color: #7f7f7f\"> quantify the results. Otherwise,    </span>│<span style=\"color: #7f7f7f; text-decoration-color: #7f7f7f\">                                     </span>│\n",
       "│<span style=\"color: #7f7f7f; text-decoration-color: #7f7f7f\">                                     </span>│<span style=\"color: #7f7f7f; text-decoration-color: #7f7f7f\"> the open-ended nature of the        </span>│<span style=\"color: #7f7f7f; text-decoration-color: #7f7f7f\">                                     </span>│\n",
       "│<span style=\"color: #7f7f7f; text-decoration-color: #7f7f7f\">                                     </span>│<span style=\"color: #7f7f7f; text-decoration-color: #7f7f7f\"> question should elicit qualitative  </span>│<span style=\"color: #7f7f7f; text-decoration-color: #7f7f7f\">                                     </span>│\n",
       "│<span style=\"color: #7f7f7f; text-decoration-color: #7f7f7f\">                                     </span>│<span style=\"color: #7f7f7f; text-decoration-color: #7f7f7f\"> feedback.                           </span>│<span style=\"color: #7f7f7f; text-decoration-color: #7f7f7f\">                                     </span>│\n",
       "├─────────────────────────────────────┼─────────────────────────────────────┼─────────────────────────────────────┤\n",
       "│<span style=\"color: #7f7f7f; text-decoration-color: #7f7f7f\"> Is there anything else you would    </span>│<span style=\"color: #7f7f7f; text-decoration-color: #7f7f7f\"> The survey question provided does   </span>│<span style=\"color: #7f7f7f; text-decoration-color: #7f7f7f\"> Is there any additional feedback or </span>│\n",
       "│<span style=\"color: #7f7f7f; text-decoration-color: #7f7f7f\"> like to share about your experience </span>│<span style=\"color: #7f7f7f; text-decoration-color: #7f7f7f\"> not appear to have any inherent     </span>│<span style=\"color: #7f7f7f; text-decoration-color: #7f7f7f\"> comments you would like to share    </span>│\n",
       "│<span style=\"color: #7f7f7f; text-decoration-color: #7f7f7f\"> with us?                            </span>│<span style=\"color: #7f7f7f; text-decoration-color: #7f7f7f\"> logical or syntactical problems. It </span>│<span style=\"color: #7f7f7f; text-decoration-color: #7f7f7f\"> about your experience with us?      </span>│\n",
       "│<span style=\"color: #7f7f7f; text-decoration-color: #7f7f7f\">                                     </span>│<span style=\"color: #7f7f7f; text-decoration-color: #7f7f7f\"> is an open-ended question that      </span>│<span style=\"color: #7f7f7f; text-decoration-color: #7f7f7f\">                                     </span>│\n",
       "│<span style=\"color: #7f7f7f; text-decoration-color: #7f7f7f\">                                     </span>│<span style=\"color: #7f7f7f; text-decoration-color: #7f7f7f\"> allows respondents to provide any   </span>│<span style=\"color: #7f7f7f; text-decoration-color: #7f7f7f\">                                     </span>│\n",
       "│<span style=\"color: #7f7f7f; text-decoration-color: #7f7f7f\">                                     </span>│<span style=\"color: #7f7f7f; text-decoration-color: #7f7f7f\"> additional feedback or comments     </span>│<span style=\"color: #7f7f7f; text-decoration-color: #7f7f7f\">                                     </span>│\n",
       "│<span style=\"color: #7f7f7f; text-decoration-color: #7f7f7f\">                                     </span>│<span style=\"color: #7f7f7f; text-decoration-color: #7f7f7f\"> they may have about their           </span>│<span style=\"color: #7f7f7f; text-decoration-color: #7f7f7f\">                                     </span>│\n",
       "│<span style=\"color: #7f7f7f; text-decoration-color: #7f7f7f\">                                     </span>│<span style=\"color: #7f7f7f; text-decoration-color: #7f7f7f\"> experience.                         </span>│<span style=\"color: #7f7f7f; text-decoration-color: #7f7f7f\">                                     </span>│\n",
       "├─────────────────────────────────────┼─────────────────────────────────────┼─────────────────────────────────────┤\n",
       "│<span style=\"color: #7f7f7f; text-decoration-color: #7f7f7f\"> Can you describe a recent           </span>│<span style=\"color: #7f7f7f; text-decoration-color: #7f7f7f\"> The survey question assumes that    </span>│<span style=\"color: #7f7f7f; text-decoration-color: #7f7f7f\"> Have you had any recent experiences </span>│\n",
       "│<span style=\"color: #7f7f7f; text-decoration-color: #7f7f7f\"> experience where you were           </span>│<span style=\"color: #7f7f7f; text-decoration-color: #7f7f7f\"> the respondent has had a            </span>│<span style=\"color: #7f7f7f; text-decoration-color: #7f7f7f\"> with our service that did not meet  </span>│\n",
       "│<span style=\"color: #7f7f7f; text-decoration-color: #7f7f7f\"> dissatisfied with our service?      </span>│<span style=\"color: #7f7f7f; text-decoration-color: #7f7f7f\"> dissatisfactory experience, which   </span>│<span style=\"color: #7f7f7f; text-decoration-color: #7f7f7f\"> your expectations? If yes, please   </span>│\n",
       "│<span style=\"color: #7f7f7f; text-decoration-color: #7f7f7f\">                                     </span>│<span style=\"color: #7f7f7f; text-decoration-color: #7f7f7f\"> could introduce bias. A more        </span>│<span style=\"color: #7f7f7f; text-decoration-color: #7f7f7f\"> describe.                           </span>│\n",
       "│<span style=\"color: #7f7f7f; text-decoration-color: #7f7f7f\">                                     </span>│<span style=\"color: #7f7f7f; text-decoration-color: #7f7f7f\"> neutral phrasing that allows for    </span>│<span style=\"color: #7f7f7f; text-decoration-color: #7f7f7f\">                                     </span>│\n",
       "│<span style=\"color: #7f7f7f; text-decoration-color: #7f7f7f\">                                     </span>│<span style=\"color: #7f7f7f; text-decoration-color: #7f7f7f\"> the possibility of not having had a </span>│<span style=\"color: #7f7f7f; text-decoration-color: #7f7f7f\">                                     </span>│\n",
       "│<span style=\"color: #7f7f7f; text-decoration-color: #7f7f7f\">                                     </span>│<span style=\"color: #7f7f7f; text-decoration-color: #7f7f7f\"> negative experience might be more   </span>│<span style=\"color: #7f7f7f; text-decoration-color: #7f7f7f\">                                     </span>│\n",
       "│<span style=\"color: #7f7f7f; text-decoration-color: #7f7f7f\">                                     </span>│<span style=\"color: #7f7f7f; text-decoration-color: #7f7f7f\"> appropriate.                        </span>│<span style=\"color: #7f7f7f; text-decoration-color: #7f7f7f\">                                     </span>│\n",
       "├─────────────────────────────────────┼─────────────────────────────────────┼─────────────────────────────────────┤\n",
       "│<span style=\"color: #7f7f7f; text-decoration-color: #7f7f7f\"> Respondent ID                       </span>│<span style=\"color: #7f7f7f; text-decoration-color: #7f7f7f\"> &lt;put free text answer here&gt;         </span>│<span style=\"color: #7f7f7f; text-decoration-color: #7f7f7f\"> Please enter your Respondent ID:    </span>│\n",
       "├─────────────────────────────────────┼─────────────────────────────────────┼─────────────────────────────────────┤\n",
       "│<span style=\"color: #7f7f7f; text-decoration-color: #7f7f7f\"> What is one feature you would like  </span>│<span style=\"color: #7f7f7f; text-decoration-color: #7f7f7f\"> The survey question seems clear in  </span>│<span style=\"color: #7f7f7f; text-decoration-color: #7f7f7f\"> Is there any particular feature you </span>│\n",
       "│<span style=\"color: #7f7f7f; text-decoration-color: #7f7f7f\"> to see added to improve your        </span>│<span style=\"color: #7f7f7f; text-decoration-color: #7f7f7f\"> its intent, asking for a single     </span>│<span style=\"color: #7f7f7f; text-decoration-color: #7f7f7f\"> feel would enhance your shopping    </span>│\n",
       "│<span style=\"color: #7f7f7f; text-decoration-color: #7f7f7f\"> shopping experience?                </span>│<span style=\"color: #7f7f7f; text-decoration-color: #7f7f7f\"> feature suggestion to improve the   </span>│<span style=\"color: #7f7f7f; text-decoration-color: #7f7f7f\"> experience with us?                 </span>│\n",
       "│<span style=\"color: #7f7f7f; text-decoration-color: #7f7f7f\">                                     </span>│<span style=\"color: #7f7f7f; text-decoration-color: #7f7f7f\"> shopping experience. However, it    </span>│<span style=\"color: #7f7f7f; text-decoration-color: #7f7f7f\">                                     </span>│\n",
       "│<span style=\"color: #7f7f7f; text-decoration-color: #7f7f7f\">                                     </span>│<span style=\"color: #7f7f7f; text-decoration-color: #7f7f7f\"> could be considered leading by      </span>│<span style=\"color: #7f7f7f; text-decoration-color: #7f7f7f\">                                     </span>│\n",
       "│<span style=\"color: #7f7f7f; text-decoration-color: #7f7f7f\">                                     </span>│<span style=\"color: #7f7f7f; text-decoration-color: #7f7f7f\"> implying that the shopping          </span>│<span style=\"color: #7f7f7f; text-decoration-color: #7f7f7f\">                                     </span>│\n",
       "│<span style=\"color: #7f7f7f; text-decoration-color: #7f7f7f\">                                     </span>│<span style=\"color: #7f7f7f; text-decoration-color: #7f7f7f\"> experience needs improvement. To be </span>│<span style=\"color: #7f7f7f; text-decoration-color: #7f7f7f\">                                     </span>│\n",
       "│<span style=\"color: #7f7f7f; text-decoration-color: #7f7f7f\">                                     </span>│<span style=\"color: #7f7f7f; text-decoration-color: #7f7f7f\"> more neutral, it could ask 'Is      </span>│<span style=\"color: #7f7f7f; text-decoration-color: #7f7f7f\">                                     </span>│\n",
       "│<span style=\"color: #7f7f7f; text-decoration-color: #7f7f7f\">                                     </span>│<span style=\"color: #7f7f7f; text-decoration-color: #7f7f7f\"> there a feature you would like to   </span>│<span style=\"color: #7f7f7f; text-decoration-color: #7f7f7f\">                                     </span>│\n",
       "│<span style=\"color: #7f7f7f; text-decoration-color: #7f7f7f\">                                     </span>│<span style=\"color: #7f7f7f; text-decoration-color: #7f7f7f\"> see added to enhance your shopping  </span>│<span style=\"color: #7f7f7f; text-decoration-color: #7f7f7f\">                                     </span>│\n",
       "│<span style=\"color: #7f7f7f; text-decoration-color: #7f7f7f\">                                     </span>│<span style=\"color: #7f7f7f; text-decoration-color: #7f7f7f\"> experience?' Additionally, the      </span>│<span style=\"color: #7f7f7f; text-decoration-color: #7f7f7f\">                                     </span>│\n",
       "│<span style=\"color: #7f7f7f; text-decoration-color: #7f7f7f\">                                     </span>│<span style=\"color: #7f7f7f; text-decoration-color: #7f7f7f\"> question assumes the respondent has </span>│<span style=\"color: #7f7f7f; text-decoration-color: #7f7f7f\">                                     </span>│\n",
       "│<span style=\"color: #7f7f7f; text-decoration-color: #7f7f7f\">                                     </span>│<span style=\"color: #7f7f7f; text-decoration-color: #7f7f7f\"> a shopping experience with the      </span>│<span style=\"color: #7f7f7f; text-decoration-color: #7f7f7f\">                                     </span>│\n",
       "│<span style=\"color: #7f7f7f; text-decoration-color: #7f7f7f\">                                     </span>│<span style=\"color: #7f7f7f; text-decoration-color: #7f7f7f\"> service in question, which may not  </span>│<span style=\"color: #7f7f7f; text-decoration-color: #7f7f7f\">                                     </span>│\n",
       "│<span style=\"color: #7f7f7f; text-decoration-color: #7f7f7f\">                                     </span>│<span style=\"color: #7f7f7f; text-decoration-color: #7f7f7f\"> be the case. To address this, the   </span>│<span style=\"color: #7f7f7f; text-decoration-color: #7f7f7f\">                                     </span>│\n",
       "│<span style=\"color: #7f7f7f; text-decoration-color: #7f7f7f\">                                     </span>│<span style=\"color: #7f7f7f; text-decoration-color: #7f7f7f\"> survey could include a preliminary  </span>│<span style=\"color: #7f7f7f; text-decoration-color: #7f7f7f\">                                     </span>│\n",
       "│<span style=\"color: #7f7f7f; text-decoration-color: #7f7f7f\">                                     </span>│<span style=\"color: #7f7f7f; text-decoration-color: #7f7f7f\"> question to confirm the             </span>│<span style=\"color: #7f7f7f; text-decoration-color: #7f7f7f\">                                     </span>│\n",
       "│<span style=\"color: #7f7f7f; text-decoration-color: #7f7f7f\">                                     </span>│<span style=\"color: #7f7f7f; text-decoration-color: #7f7f7f\"> respondent's familiarity with the   </span>│<span style=\"color: #7f7f7f; text-decoration-color: #7f7f7f\">                                     </span>│\n",
       "│<span style=\"color: #7f7f7f; text-decoration-color: #7f7f7f\">                                     </span>│<span style=\"color: #7f7f7f; text-decoration-color: #7f7f7f\"> shopping experience being           </span>│<span style=\"color: #7f7f7f; text-decoration-color: #7f7f7f\">                                     </span>│\n",
       "│<span style=\"color: #7f7f7f; text-decoration-color: #7f7f7f\">                                     </span>│<span style=\"color: #7f7f7f; text-decoration-color: #7f7f7f\"> evaluated.                          </span>│<span style=\"color: #7f7f7f; text-decoration-color: #7f7f7f\">                                     </span>│\n",
       "└─────────────────────────────────────┴─────────────────────────────────────┴─────────────────────────────────────┘\n",
       "</pre>\n"
      ],
      "text/plain": [
       "┏━━━━━━━━━━━━━━━━━━━━━━━━━━━━━━━━━━━━━┳━━━━━━━━━━━━━━━━━━━━━━━━━━━━━━━━━━━━━┳━━━━━━━━━━━━━━━━━━━━━━━━━━━━━━━━━━━━━┓\n",
       "┃\u001b[1;35m \u001b[0m\u001b[1;35mscenario                           \u001b[0m\u001b[1;35m \u001b[0m┃\u001b[1;35m \u001b[0m\u001b[1;35manswer                             \u001b[0m\u001b[1;35m \u001b[0m┃\u001b[1;35m \u001b[0m\u001b[1;35manswer                             \u001b[0m\u001b[1;35m \u001b[0m┃\n",
       "┃\u001b[1;35m \u001b[0m\u001b[1;35m.question                          \u001b[0m\u001b[1;35m \u001b[0m┃\u001b[1;35m \u001b[0m\u001b[1;35m.logic                             \u001b[0m\u001b[1;35m \u001b[0m┃\u001b[1;35m \u001b[0m\u001b[1;35m.improved                          \u001b[0m\u001b[1;35m \u001b[0m┃\n",
       "┡━━━━━━━━━━━━━━━━━━━━━━━━━━━━━━━━━━━━━╇━━━━━━━━━━━━━━━━━━━━━━━━━━━━━━━━━━━━━╇━━━━━━━━━━━━━━━━━━━━━━━━━━━━━━━━━━━━━┩\n",
       "│\u001b[2m \u001b[0m\u001b[2mHow do you feel about the current  \u001b[0m\u001b[2m \u001b[0m│\u001b[2m \u001b[0m\u001b[2mThe survey question 'How do you    \u001b[0m\u001b[2m \u001b[0m│\u001b[2m \u001b[0m\u001b[2mOn a scale of 1 to 5, how satisfied\u001b[0m\u001b[2m \u001b[0m│\n",
       "│\u001b[2m \u001b[0m\u001b[2mproduct search and filtering       \u001b[0m\u001b[2m \u001b[0m│\u001b[2m \u001b[0m\u001b[2mfeel about the current product     \u001b[0m\u001b[2m \u001b[0m│\u001b[2m \u001b[0m\u001b[2mare you with the current product   \u001b[0m\u001b[2m \u001b[0m│\n",
       "│\u001b[2m \u001b[0m\u001b[2moptions?                           \u001b[0m\u001b[2m \u001b[0m│\u001b[2m \u001b[0m\u001b[2msearch and filtering options?' is  \u001b[0m\u001b[2m \u001b[0m│\u001b[2m \u001b[0m\u001b[2msearch functionality, and how      \u001b[0m\u001b[2m \u001b[0m│\n",
       "│\u001b[2m                                     \u001b[0m│\u001b[2m \u001b[0m\u001b[2mgenerally clear but could be       \u001b[0m\u001b[2m \u001b[0m│\u001b[2m \u001b[0m\u001b[2msatisfied are you with the product \u001b[0m\u001b[2m \u001b[0m│\n",
       "│\u001b[2m                                     \u001b[0m│\u001b[2m \u001b[0m\u001b[2mimproved by being more specific. It\u001b[0m\u001b[2m \u001b[0m│\u001b[2m \u001b[0m\u001b[2mfiltering options available on our \u001b[0m\u001b[2m \u001b[0m│\n",
       "│\u001b[2m                                     \u001b[0m│\u001b[2m \u001b[0m\u001b[2mcombines two different aspects     \u001b[0m\u001b[2m \u001b[0m│\u001b[2m \u001b[0m\u001b[2mwebsite?                           \u001b[0m\u001b[2m \u001b[0m│\n",
       "│\u001b[2m                                     \u001b[0m│\u001b[2m \u001b[0m\u001b[2m(search and filtering) into one    \u001b[0m\u001b[2m \u001b[0m│\u001b[2m                                     \u001b[0m│\n",
       "│\u001b[2m                                     \u001b[0m│\u001b[2m \u001b[0m\u001b[2mquestion, which might confuse the  \u001b[0m\u001b[2m \u001b[0m│\u001b[2m                                     \u001b[0m│\n",
       "│\u001b[2m                                     \u001b[0m│\u001b[2m \u001b[0m\u001b[2mrespondent if they have different  \u001b[0m\u001b[2m \u001b[0m│\u001b[2m                                     \u001b[0m│\n",
       "│\u001b[2m                                     \u001b[0m│\u001b[2m \u001b[0m\u001b[2mfeelings about each aspect. To     \u001b[0m\u001b[2m \u001b[0m│\u001b[2m                                     \u001b[0m│\n",
       "│\u001b[2m                                     \u001b[0m│\u001b[2m \u001b[0m\u001b[2maddress this, the question could be\u001b[0m\u001b[2m \u001b[0m│\u001b[2m                                     \u001b[0m│\n",
       "│\u001b[2m                                     \u001b[0m│\u001b[2m \u001b[0m\u001b[2msplit into two separate questions  \u001b[0m\u001b[2m \u001b[0m│\u001b[2m                                     \u001b[0m│\n",
       "│\u001b[2m                                     \u001b[0m│\u001b[2m \u001b[0m\u001b[2mto allow for more specific feedback\u001b[0m\u001b[2m \u001b[0m│\u001b[2m                                     \u001b[0m│\n",
       "│\u001b[2m                                     \u001b[0m│\u001b[2m \u001b[0m\u001b[2mon each feature. Additionally, the \u001b[0m\u001b[2m \u001b[0m│\u001b[2m                                     \u001b[0m│\n",
       "│\u001b[2m                                     \u001b[0m│\u001b[2m \u001b[0m\u001b[2mquestion is asking for a subjective\u001b[0m\u001b[2m \u001b[0m│\u001b[2m                                     \u001b[0m│\n",
       "│\u001b[2m                                     \u001b[0m│\u001b[2m \u001b[0m\u001b[2mfeeling, which may result in varied\u001b[0m\u001b[2m \u001b[0m│\u001b[2m                                     \u001b[0m│\n",
       "│\u001b[2m                                     \u001b[0m│\u001b[2m \u001b[0m\u001b[2mand qualitative data that can be   \u001b[0m\u001b[2m \u001b[0m│\u001b[2m                                     \u001b[0m│\n",
       "│\u001b[2m                                     \u001b[0m│\u001b[2m \u001b[0m\u001b[2mdifficult to quantify. Including a \u001b[0m\u001b[2m \u001b[0m│\u001b[2m                                     \u001b[0m│\n",
       "│\u001b[2m                                     \u001b[0m│\u001b[2m \u001b[0m\u001b[2mscale or specific aspects to rate  \u001b[0m\u001b[2m \u001b[0m│\u001b[2m                                     \u001b[0m│\n",
       "│\u001b[2m                                     \u001b[0m│\u001b[2m \u001b[0m\u001b[2mcould help in quantifying the      \u001b[0m\u001b[2m \u001b[0m│\u001b[2m                                     \u001b[0m│\n",
       "│\u001b[2m                                     \u001b[0m│\u001b[2m \u001b[0m\u001b[2mresponses.                         \u001b[0m\u001b[2m \u001b[0m│\u001b[2m                                     \u001b[0m│\n",
       "├─────────────────────────────────────┼─────────────────────────────────────┼─────────────────────────────────────┤\n",
       "│\u001b[2m \u001b[0m\u001b[2mWhat do you like most about using  \u001b[0m\u001b[2m \u001b[0m│\u001b[2m \u001b[0m\u001b[2mThe survey question seems to be    \u001b[0m\u001b[2m \u001b[0m│\u001b[2m \u001b[0m\u001b[2mWhat features of our online        \u001b[0m\u001b[2m \u001b[0m│\n",
       "│\u001b[2m \u001b[0m\u001b[2mour online marketplace?            \u001b[0m\u001b[2m \u001b[0m│\u001b[2m \u001b[0m\u001b[2mclear and straightforward without  \u001b[0m\u001b[2m \u001b[0m│\u001b[2m \u001b[0m\u001b[2mmarketplace do you find most       \u001b[0m\u001b[2m \u001b[0m│\n",
       "│\u001b[2m                                     \u001b[0m│\u001b[2m \u001b[0m\u001b[2many apparent logical or syntactical\u001b[0m\u001b[2m \u001b[0m│\u001b[2m \u001b[0m\u001b[2mbeneficial? Please rank the        \u001b[0m\u001b[2m \u001b[0m│\n",
       "│\u001b[2m                                     \u001b[0m│\u001b[2m \u001b[0m\u001b[2mproblems. It asks for a subjective \u001b[0m\u001b[2m \u001b[0m│\u001b[2m \u001b[0m\u001b[2mfollowing aspects from most to     \u001b[0m\u001b[2m \u001b[0m│\n",
       "│\u001b[2m                                     \u001b[0m│\u001b[2m \u001b[0m\u001b[2mresponse regarding the user's      \u001b[0m\u001b[2m \u001b[0m│\u001b[2m \u001b[0m\u001b[2mleast preferred: ease of use,      \u001b[0m\u001b[2m \u001b[0m│\n",
       "│\u001b[2m                                     \u001b[0m│\u001b[2m \u001b[0m\u001b[2mpreference about the online        \u001b[0m\u001b[2m \u001b[0m│\u001b[2m \u001b[0m\u001b[2mproduct variety, customer service, \u001b[0m\u001b[2m \u001b[0m│\n",
       "│\u001b[2m                                     \u001b[0m│\u001b[2m \u001b[0m\u001b[2mmarketplace. However, if the survey\u001b[0m\u001b[2m \u001b[0m│\u001b[2m \u001b[0m\u001b[2mpricing, and site performance.     \u001b[0m\u001b[2m \u001b[0m│\n",
       "│\u001b[2m                                     \u001b[0m│\u001b[2m \u001b[0m\u001b[2maims to collect structured data, it\u001b[0m\u001b[2m \u001b[0m│\u001b[2m                                     \u001b[0m│\n",
       "│\u001b[2m                                     \u001b[0m│\u001b[2m \u001b[0m\u001b[2mmight be beneficial to provide     \u001b[0m\u001b[2m \u001b[0m│\u001b[2m                                     \u001b[0m│\n",
       "│\u001b[2m                                     \u001b[0m│\u001b[2m \u001b[0m\u001b[2mspecific options or a scale for the\u001b[0m\u001b[2m \u001b[0m│\u001b[2m                                     \u001b[0m│\n",
       "│\u001b[2m                                     \u001b[0m│\u001b[2m \u001b[0m\u001b[2mrespondents to choose from to      \u001b[0m\u001b[2m \u001b[0m│\u001b[2m                                     \u001b[0m│\n",
       "│\u001b[2m                                     \u001b[0m│\u001b[2m \u001b[0m\u001b[2mquantify the results. Otherwise,   \u001b[0m\u001b[2m \u001b[0m│\u001b[2m                                     \u001b[0m│\n",
       "│\u001b[2m                                     \u001b[0m│\u001b[2m \u001b[0m\u001b[2mthe open-ended nature of the       \u001b[0m\u001b[2m \u001b[0m│\u001b[2m                                     \u001b[0m│\n",
       "│\u001b[2m                                     \u001b[0m│\u001b[2m \u001b[0m\u001b[2mquestion should elicit qualitative \u001b[0m\u001b[2m \u001b[0m│\u001b[2m                                     \u001b[0m│\n",
       "│\u001b[2m                                     \u001b[0m│\u001b[2m \u001b[0m\u001b[2mfeedback.                          \u001b[0m\u001b[2m \u001b[0m│\u001b[2m                                     \u001b[0m│\n",
       "├─────────────────────────────────────┼─────────────────────────────────────┼─────────────────────────────────────┤\n",
       "│\u001b[2m \u001b[0m\u001b[2mIs there anything else you would   \u001b[0m\u001b[2m \u001b[0m│\u001b[2m \u001b[0m\u001b[2mThe survey question provided does  \u001b[0m\u001b[2m \u001b[0m│\u001b[2m \u001b[0m\u001b[2mIs there any additional feedback or\u001b[0m\u001b[2m \u001b[0m│\n",
       "│\u001b[2m \u001b[0m\u001b[2mlike to share about your experience\u001b[0m\u001b[2m \u001b[0m│\u001b[2m \u001b[0m\u001b[2mnot appear to have any inherent    \u001b[0m\u001b[2m \u001b[0m│\u001b[2m \u001b[0m\u001b[2mcomments you would like to share   \u001b[0m\u001b[2m \u001b[0m│\n",
       "│\u001b[2m \u001b[0m\u001b[2mwith us?                           \u001b[0m\u001b[2m \u001b[0m│\u001b[2m \u001b[0m\u001b[2mlogical or syntactical problems. It\u001b[0m\u001b[2m \u001b[0m│\u001b[2m \u001b[0m\u001b[2mabout your experience with us?     \u001b[0m\u001b[2m \u001b[0m│\n",
       "│\u001b[2m                                     \u001b[0m│\u001b[2m \u001b[0m\u001b[2mis an open-ended question that     \u001b[0m\u001b[2m \u001b[0m│\u001b[2m                                     \u001b[0m│\n",
       "│\u001b[2m                                     \u001b[0m│\u001b[2m \u001b[0m\u001b[2mallows respondents to provide any  \u001b[0m\u001b[2m \u001b[0m│\u001b[2m                                     \u001b[0m│\n",
       "│\u001b[2m                                     \u001b[0m│\u001b[2m \u001b[0m\u001b[2madditional feedback or comments    \u001b[0m\u001b[2m \u001b[0m│\u001b[2m                                     \u001b[0m│\n",
       "│\u001b[2m                                     \u001b[0m│\u001b[2m \u001b[0m\u001b[2mthey may have about their          \u001b[0m\u001b[2m \u001b[0m│\u001b[2m                                     \u001b[0m│\n",
       "│\u001b[2m                                     \u001b[0m│\u001b[2m \u001b[0m\u001b[2mexperience.                        \u001b[0m\u001b[2m \u001b[0m│\u001b[2m                                     \u001b[0m│\n",
       "├─────────────────────────────────────┼─────────────────────────────────────┼─────────────────────────────────────┤\n",
       "│\u001b[2m \u001b[0m\u001b[2mCan you describe a recent          \u001b[0m\u001b[2m \u001b[0m│\u001b[2m \u001b[0m\u001b[2mThe survey question assumes that   \u001b[0m\u001b[2m \u001b[0m│\u001b[2m \u001b[0m\u001b[2mHave you had any recent experiences\u001b[0m\u001b[2m \u001b[0m│\n",
       "│\u001b[2m \u001b[0m\u001b[2mexperience where you were          \u001b[0m\u001b[2m \u001b[0m│\u001b[2m \u001b[0m\u001b[2mthe respondent has had a           \u001b[0m\u001b[2m \u001b[0m│\u001b[2m \u001b[0m\u001b[2mwith our service that did not meet \u001b[0m\u001b[2m \u001b[0m│\n",
       "│\u001b[2m \u001b[0m\u001b[2mdissatisfied with our service?     \u001b[0m\u001b[2m \u001b[0m│\u001b[2m \u001b[0m\u001b[2mdissatisfactory experience, which  \u001b[0m\u001b[2m \u001b[0m│\u001b[2m \u001b[0m\u001b[2myour expectations? If yes, please  \u001b[0m\u001b[2m \u001b[0m│\n",
       "│\u001b[2m                                     \u001b[0m│\u001b[2m \u001b[0m\u001b[2mcould introduce bias. A more       \u001b[0m\u001b[2m \u001b[0m│\u001b[2m \u001b[0m\u001b[2mdescribe.                          \u001b[0m\u001b[2m \u001b[0m│\n",
       "│\u001b[2m                                     \u001b[0m│\u001b[2m \u001b[0m\u001b[2mneutral phrasing that allows for   \u001b[0m\u001b[2m \u001b[0m│\u001b[2m                                     \u001b[0m│\n",
       "│\u001b[2m                                     \u001b[0m│\u001b[2m \u001b[0m\u001b[2mthe possibility of not having had a\u001b[0m\u001b[2m \u001b[0m│\u001b[2m                                     \u001b[0m│\n",
       "│\u001b[2m                                     \u001b[0m│\u001b[2m \u001b[0m\u001b[2mnegative experience might be more  \u001b[0m\u001b[2m \u001b[0m│\u001b[2m                                     \u001b[0m│\n",
       "│\u001b[2m                                     \u001b[0m│\u001b[2m \u001b[0m\u001b[2mappropriate.                       \u001b[0m\u001b[2m \u001b[0m│\u001b[2m                                     \u001b[0m│\n",
       "├─────────────────────────────────────┼─────────────────────────────────────┼─────────────────────────────────────┤\n",
       "│\u001b[2m \u001b[0m\u001b[2mRespondent ID                      \u001b[0m\u001b[2m \u001b[0m│\u001b[2m \u001b[0m\u001b[2m<put free text answer here>        \u001b[0m\u001b[2m \u001b[0m│\u001b[2m \u001b[0m\u001b[2mPlease enter your Respondent ID:   \u001b[0m\u001b[2m \u001b[0m│\n",
       "├─────────────────────────────────────┼─────────────────────────────────────┼─────────────────────────────────────┤\n",
       "│\u001b[2m \u001b[0m\u001b[2mWhat is one feature you would like \u001b[0m\u001b[2m \u001b[0m│\u001b[2m \u001b[0m\u001b[2mThe survey question seems clear in \u001b[0m\u001b[2m \u001b[0m│\u001b[2m \u001b[0m\u001b[2mIs there any particular feature you\u001b[0m\u001b[2m \u001b[0m│\n",
       "│\u001b[2m \u001b[0m\u001b[2mto see added to improve your       \u001b[0m\u001b[2m \u001b[0m│\u001b[2m \u001b[0m\u001b[2mits intent, asking for a single    \u001b[0m\u001b[2m \u001b[0m│\u001b[2m \u001b[0m\u001b[2mfeel would enhance your shopping   \u001b[0m\u001b[2m \u001b[0m│\n",
       "│\u001b[2m \u001b[0m\u001b[2mshopping experience?               \u001b[0m\u001b[2m \u001b[0m│\u001b[2m \u001b[0m\u001b[2mfeature suggestion to improve the  \u001b[0m\u001b[2m \u001b[0m│\u001b[2m \u001b[0m\u001b[2mexperience with us?                \u001b[0m\u001b[2m \u001b[0m│\n",
       "│\u001b[2m                                     \u001b[0m│\u001b[2m \u001b[0m\u001b[2mshopping experience. However, it   \u001b[0m\u001b[2m \u001b[0m│\u001b[2m                                     \u001b[0m│\n",
       "│\u001b[2m                                     \u001b[0m│\u001b[2m \u001b[0m\u001b[2mcould be considered leading by     \u001b[0m\u001b[2m \u001b[0m│\u001b[2m                                     \u001b[0m│\n",
       "│\u001b[2m                                     \u001b[0m│\u001b[2m \u001b[0m\u001b[2mimplying that the shopping         \u001b[0m\u001b[2m \u001b[0m│\u001b[2m                                     \u001b[0m│\n",
       "│\u001b[2m                                     \u001b[0m│\u001b[2m \u001b[0m\u001b[2mexperience needs improvement. To be\u001b[0m\u001b[2m \u001b[0m│\u001b[2m                                     \u001b[0m│\n",
       "│\u001b[2m                                     \u001b[0m│\u001b[2m \u001b[0m\u001b[2mmore neutral, it could ask 'Is     \u001b[0m\u001b[2m \u001b[0m│\u001b[2m                                     \u001b[0m│\n",
       "│\u001b[2m                                     \u001b[0m│\u001b[2m \u001b[0m\u001b[2mthere a feature you would like to  \u001b[0m\u001b[2m \u001b[0m│\u001b[2m                                     \u001b[0m│\n",
       "│\u001b[2m                                     \u001b[0m│\u001b[2m \u001b[0m\u001b[2msee added to enhance your shopping \u001b[0m\u001b[2m \u001b[0m│\u001b[2m                                     \u001b[0m│\n",
       "│\u001b[2m                                     \u001b[0m│\u001b[2m \u001b[0m\u001b[2mexperience?' Additionally, the     \u001b[0m\u001b[2m \u001b[0m│\u001b[2m                                     \u001b[0m│\n",
       "│\u001b[2m                                     \u001b[0m│\u001b[2m \u001b[0m\u001b[2mquestion assumes the respondent has\u001b[0m\u001b[2m \u001b[0m│\u001b[2m                                     \u001b[0m│\n",
       "│\u001b[2m                                     \u001b[0m│\u001b[2m \u001b[0m\u001b[2ma shopping experience with the     \u001b[0m\u001b[2m \u001b[0m│\u001b[2m                                     \u001b[0m│\n",
       "│\u001b[2m                                     \u001b[0m│\u001b[2m \u001b[0m\u001b[2mservice in question, which may not \u001b[0m\u001b[2m \u001b[0m│\u001b[2m                                     \u001b[0m│\n",
       "│\u001b[2m                                     \u001b[0m│\u001b[2m \u001b[0m\u001b[2mbe the case. To address this, the  \u001b[0m\u001b[2m \u001b[0m│\u001b[2m                                     \u001b[0m│\n",
       "│\u001b[2m                                     \u001b[0m│\u001b[2m \u001b[0m\u001b[2msurvey could include a preliminary \u001b[0m\u001b[2m \u001b[0m│\u001b[2m                                     \u001b[0m│\n",
       "│\u001b[2m                                     \u001b[0m│\u001b[2m \u001b[0m\u001b[2mquestion to confirm the            \u001b[0m\u001b[2m \u001b[0m│\u001b[2m                                     \u001b[0m│\n",
       "│\u001b[2m                                     \u001b[0m│\u001b[2m \u001b[0m\u001b[2mrespondent's familiarity with the  \u001b[0m\u001b[2m \u001b[0m│\u001b[2m                                     \u001b[0m│\n",
       "│\u001b[2m                                     \u001b[0m│\u001b[2m \u001b[0m\u001b[2mshopping experience being          \u001b[0m\u001b[2m \u001b[0m│\u001b[2m                                     \u001b[0m│\n",
       "│\u001b[2m                                     \u001b[0m│\u001b[2m \u001b[0m\u001b[2mevaluated.                         \u001b[0m\u001b[2m \u001b[0m│\u001b[2m                                     \u001b[0m│\n",
       "└─────────────────────────────────────┴─────────────────────────────────────┴─────────────────────────────────────┘\n"
      ]
     },
     "metadata": {},
     "output_type": "display_data"
    }
   ],
   "source": [
    "results.select(\"question\", \"logic\", \"improved\").print(format=\"rich\")"
   ]
  },
  {
   "cell_type": "markdown",
   "id": "c3600745-b0d5-46c2-96b6-fcce28e2672a",
   "metadata": {},
   "source": [
    "[Learn more about working with results](https://docs.expectedparrot.com/en/latest/results.html)."
   ]
  },
  {
   "cell_type": "markdown",
   "id": "6b2fbf86-b028-481a-880d-afd4db83a6d9",
   "metadata": {},
   "source": [
    "## Evaluating respondents' collective answers\n",
    "Next we can create a `ScenarioList` for each respondent's answers to use with our question about sentiment:"
   ]
  },
  {
   "cell_type": "code",
   "execution_count": 13,
   "id": "18f7b68d-e1ad-4942-a69c-ed81e2b72e73",
   "metadata": {},
   "outputs": [
    {
     "data": {
      "text/html": [
       "<div class=\"highlight\"><pre><span></span><span class=\"p\">{</span>\n",
       "<span class=\"w\">    </span><span class=\"nt\">&quot;scenarios&quot;</span><span class=\"p\">:</span><span class=\"w\"> </span><span class=\"p\">[</span>\n",
       "<span class=\"w\">        </span><span class=\"p\">{</span>\n",
       "<span class=\"w\">            </span><span class=\"nt\">&quot;responses&quot;</span><span class=\"p\">:</span><span class=\"w\"> </span><span class=\"p\">{</span>\n",
       "<span class=\"w\">                </span><span class=\"nt\">&quot;Respondent ID&quot;</span><span class=\"p\">:</span><span class=\"w\"> </span><span class=\"s2\">&quot;101&quot;</span><span class=\"p\">,</span>\n",
       "<span class=\"w\">                </span><span class=\"nt\">&quot;What do you like most about using our online marketplace?&quot;</span><span class=\"p\">:</span><span class=\"w\"> </span><span class=\"s2\">&quot;The wide variety of products and the ease of use.&quot;</span><span class=\"p\">,</span>\n",
       "<span class=\"w\">                </span><span class=\"nt\">&quot;What is one feature you would like to see added to improve your shopping experience?&quot;</span><span class=\"p\">:</span><span class=\"w\"> </span><span class=\"s2\">&quot;It would be great to have a personalized recommendation system based on my browsing history.&quot;</span><span class=\"p\">,</span>\n",
       "<span class=\"w\">                </span><span class=\"nt\">&quot;Can you describe a recent experience where you were dissatisfied with our service?&quot;</span><span class=\"p\">:</span><span class=\"w\"> </span><span class=\"s2\">&quot;I was disappointed when an item I ordered arrived damaged, but customer service quickly resolved it.&quot;</span><span class=\"p\">,</span>\n",
       "<span class=\"w\">                </span><span class=\"nt\">&quot;How do you feel about the current product search and filtering options?&quot;</span><span class=\"p\">:</span><span class=\"w\"> </span><span class=\"s2\">&quot;The search and filtering options are intuitive and work well for me.&quot;</span><span class=\"p\">,</span>\n",
       "<span class=\"w\">                </span><span class=\"nt\">&quot;Is there anything else you would like to share about your experience with us?&quot;</span><span class=\"p\">:</span><span class=\"w\"> </span><span class=\"s2\">&quot;No, keep up the great work!&quot;</span><span class=\"p\">,</span>\n",
       "<span class=\"w\">                </span><span class=\"nt\">&quot;edsl_version&quot;</span><span class=\"p\">:</span><span class=\"w\"> </span><span class=\"s2\">&quot;0.1.33.dev1&quot;</span><span class=\"p\">,</span>\n",
       "<span class=\"w\">                </span><span class=\"nt\">&quot;edsl_class_name&quot;</span><span class=\"p\">:</span><span class=\"w\"> </span><span class=\"s2\">&quot;Scenario&quot;</span>\n",
       "<span class=\"w\">            </span><span class=\"p\">}</span>\n",
       "<span class=\"w\">        </span><span class=\"p\">},</span>\n",
       "<span class=\"w\">        </span><span class=\"p\">{</span>\n",
       "<span class=\"w\">            </span><span class=\"nt\">&quot;responses&quot;</span><span class=\"p\">:</span><span class=\"w\"> </span><span class=\"p\">{</span>\n",
       "<span class=\"w\">                </span><span class=\"nt\">&quot;Respondent ID&quot;</span><span class=\"p\">:</span><span class=\"w\"> </span><span class=\"s2\">&quot;102&quot;</span><span class=\"p\">,</span>\n",
       "<span class=\"w\">                </span><span class=\"nt\">&quot;What do you like most about using our online marketplace?&quot;</span><span class=\"p\">:</span><span class=\"w\"> </span><span class=\"s2\">&quot;I enjoy the simplicity of the interface.&quot;</span><span class=\"p\">,</span>\n",
       "<span class=\"w\">                </span><span class=\"nt\">&quot;What is one feature you would like to see added to improve your shopping experience?&quot;</span><span class=\"p\">:</span><span class=\"w\"> </span><span class=\"s2\">&quot;A feature that helps compare similar products side by side would be useful.&quot;</span><span class=\"p\">,</span>\n",
       "<span class=\"w\">                </span><span class=\"nt\">&quot;Can you describe a recent experience where you were dissatisfied with our service?&quot;</span><span class=\"p\">:</span><span class=\"w\"> </span><span class=\"s2\">&quot;No complaints here.&quot;</span><span class=\"p\">,</span>\n",
       "<span class=\"w\">                </span><span class=\"nt\">&quot;How do you feel about the current product search and filtering options?&quot;</span><span class=\"p\">:</span><span class=\"w\"> </span><span class=\"s2\">&quot;I find the product search to be pretty effective.&quot;</span><span class=\"p\">,</span>\n",
       "<span class=\"w\">                </span><span class=\"nt\">&quot;Is there anything else you would like to share about your experience with us?&quot;</span><span class=\"p\">:</span><span class=\"w\"> </span><span class=\"s2\">&quot;I think the sky is a beautiful shade of purple today.&quot;</span><span class=\"p\">,</span>\n",
       "<span class=\"w\">                </span><span class=\"nt\">&quot;edsl_version&quot;</span><span class=\"p\">:</span><span class=\"w\"> </span><span class=\"s2\">&quot;0.1.33.dev1&quot;</span><span class=\"p\">,</span>\n",
       "<span class=\"w\">                </span><span class=\"nt\">&quot;edsl_class_name&quot;</span><span class=\"p\">:</span><span class=\"w\"> </span><span class=\"s2\">&quot;Scenario&quot;</span>\n",
       "<span class=\"w\">            </span><span class=\"p\">}</span>\n",
       "<span class=\"w\">        </span><span class=\"p\">},</span>\n",
       "<span class=\"w\">        </span><span class=\"p\">{</span>\n",
       "<span class=\"w\">            </span><span class=\"nt\">&quot;responses&quot;</span><span class=\"p\">:</span><span class=\"w\"> </span><span class=\"p\">{</span>\n",
       "<span class=\"w\">                </span><span class=\"nt\">&quot;Respondent ID&quot;</span><span class=\"p\">:</span><span class=\"w\"> </span><span class=\"s2\">&quot;103&quot;</span><span class=\"p\">,</span>\n",
       "<span class=\"w\">                </span><span class=\"nt\">&quot;What do you like most about using our online marketplace?&quot;</span><span class=\"p\">:</span><span class=\"w\"> </span><span class=\"s2\">&quot;The platform is user-friendly and offers a vast selection of products.&quot;</span><span class=\"p\">,</span>\n",
       "<span class=\"w\">                </span><span class=\"nt\">&quot;What is one feature you would like to see added to improve your shopping experience?&quot;</span><span class=\"p\">:</span><span class=\"w\"> </span><span class=\"s2\">&quot;Would love to see an option to save and compare different products.&quot;</span><span class=\"p\">,</span>\n",
       "<span class=\"w\">                </span><span class=\"nt\">&quot;Can you describe a recent experience where you were dissatisfied with our service?&quot;</span><span class=\"p\">:</span><span class=\"w\"> </span><span class=\"s2\">&quot;My delivery was late by a few days, which was frustrating.&quot;</span><span class=\"p\">,</span>\n",
       "<span class=\"w\">                </span><span class=\"nt\">&quot;How do you feel about the current product search and filtering options?&quot;</span><span class=\"p\">:</span><span class=\"w\"> </span><span class=\"s2\">&quot;It\\u2019s okay.&quot;</span><span class=\"p\">,</span>\n",
       "<span class=\"w\">                </span><span class=\"nt\">&quot;Is there anything else you would like to share about your experience with us?&quot;</span><span class=\"p\">:</span><span class=\"w\"> </span><span class=\"s2\">&quot;No.&quot;</span><span class=\"p\">,</span>\n",
       "<span class=\"w\">                </span><span class=\"nt\">&quot;edsl_version&quot;</span><span class=\"p\">:</span><span class=\"w\"> </span><span class=\"s2\">&quot;0.1.33.dev1&quot;</span><span class=\"p\">,</span>\n",
       "<span class=\"w\">                </span><span class=\"nt\">&quot;edsl_class_name&quot;</span><span class=\"p\">:</span><span class=\"w\"> </span><span class=\"s2\">&quot;Scenario&quot;</span>\n",
       "<span class=\"w\">            </span><span class=\"p\">}</span>\n",
       "<span class=\"w\">        </span><span class=\"p\">}</span>\n",
       "<span class=\"w\">    </span><span class=\"p\">]</span>\n",
       "<span class=\"p\">}</span>\n",
       "</pre></div>\n"
      ],
      "text/plain": [
       "ScenarioList([Scenario({'responses': {'Respondent ID': '101', 'What do you like most about using our online marketplace?': 'The wide variety of products and the ease of use.', 'What is one feature you would like to see added to improve your shopping experience?': 'It would be great to have a personalized recommendation system based on my browsing history.', 'Can you describe a recent experience where you were dissatisfied with our service?': 'I was disappointed when an item I ordered arrived damaged, but customer service quickly resolved it.', 'How do you feel about the current product search and filtering options?': 'The search and filtering options are intuitive and work well for me.', 'Is there anything else you would like to share about your experience with us?': 'No, keep up the great work!', 'edsl_version': '0.1.33.dev1', 'edsl_class_name': 'Scenario'}}), Scenario({'responses': {'Respondent ID': '102', 'What do you like most about using our online marketplace?': 'I enjoy the simplicity of the interface.', 'What is one feature you would like to see added to improve your shopping experience?': 'A feature that helps compare similar products side by side would be useful.', 'Can you describe a recent experience where you were dissatisfied with our service?': 'No complaints here.', 'How do you feel about the current product search and filtering options?': 'I find the product search to be pretty effective.', 'Is there anything else you would like to share about your experience with us?': 'I think the sky is a beautiful shade of purple today.', 'edsl_version': '0.1.33.dev1', 'edsl_class_name': 'Scenario'}}), Scenario({'responses': {'Respondent ID': '103', 'What do you like most about using our online marketplace?': 'The platform is user-friendly and offers a vast selection of products.', 'What is one feature you would like to see added to improve your shopping experience?': 'Would love to see an option to save and compare different products.', 'Can you describe a recent experience where you were dissatisfied with our service?': 'My delivery was late by a few days, which was frustrating.', 'How do you feel about the current product search and filtering options?': 'It’s okay.', 'Is there anything else you would like to share about your experience with us?': 'No.', 'edsl_version': '0.1.33.dev1', 'edsl_class_name': 'Scenario'}})])"
      ]
     },
     "execution_count": 13,
     "metadata": {},
     "output_type": "execute_result"
    }
   ],
   "source": [
    "sl_responses = ScenarioList.from_list(\"responses\", sl['scenarios'])\n",
    "sl_responses"
   ]
  },
  {
   "cell_type": "markdown",
   "id": "da335730-735b-4f20-a901-48a4cadbaf1f",
   "metadata": {},
   "source": [
    "Next we add these scenarios to our sentiment question (and any others we want to add) and run it:"
   ]
  },
  {
   "cell_type": "code",
   "execution_count": 14,
   "id": "7c2a93b2-8e84-46b3-926e-c30bf0e0ce2b",
   "metadata": {},
   "outputs": [],
   "source": [
    "from edsl import QuestionMultipleChoice, QuestionLinearScale, Survey\n",
    "\n",
    "q_sentiment = QuestionMultipleChoice(\n",
    "    question_name = \"sentiment\",\n",
    "    question_text = \"What is the overall sentiment of this respondent's survey answers? {{ responses }}\",\n",
    "    question_options = [\"Very unsatisfied\", \"Somewhat unsatisfied\", \"Somewhat satisfied\", \"Very satisfied\"]\n",
    ")\n",
    "\n",
    "q_recommend = QuestionLinearScale(\n",
    "    question_name = \"recommend\",\n",
    "    question_text = \"On a scale from 1 to 5, how likely do you think this respondent is to recommend the company to a friend? {{ responses }}\",\n",
    "    question_options = [1, 2, 3, 4, 5],\n",
    "    option_labels = {1:\"Not at all likely\", 5:\"Very likely\"}\n",
    ")\n",
    "\n",
    "survey = Survey([q_sentiment, q_recommend])"
   ]
  },
  {
   "cell_type": "code",
   "execution_count": 15,
   "id": "01f51911-d4ea-4acf-9e8d-fb05d2f76e80",
   "metadata": {},
   "outputs": [],
   "source": [
    "results = survey.by(sl_responses).run()"
   ]
  },
  {
   "cell_type": "code",
   "execution_count": 16,
   "id": "826d4a2d-f75f-42e3-8734-fa1b128c212c",
   "metadata": {},
   "outputs": [
    {
     "data": {
      "text/html": [
       "<pre style=\"white-space:pre;overflow-x:auto;line-height:normal;font-family:Menlo,'DejaVu Sans Mono',consolas,'Courier New',monospace\">┏━━━━━━━━━━━━━━━━━━━━━━━━━━━━━━━━━━━━━━━━━━━━━━━━━━━━━━━━━━━━━━━━━━━━━━━━━━━━━━━┳━━━━━━━━━━━━━━━━━━━━┳━━━━━━━━━━━━┓\n",
       "┃<span style=\"color: #800080; text-decoration-color: #800080; font-weight: bold\"> scenario                                                                      </span>┃<span style=\"color: #800080; text-decoration-color: #800080; font-weight: bold\"> answer             </span>┃<span style=\"color: #800080; text-decoration-color: #800080; font-weight: bold\"> answer     </span>┃\n",
       "┃<span style=\"color: #800080; text-decoration-color: #800080; font-weight: bold\"> .responses                                                                    </span>┃<span style=\"color: #800080; text-decoration-color: #800080; font-weight: bold\"> .sentiment         </span>┃<span style=\"color: #800080; text-decoration-color: #800080; font-weight: bold\"> .recommend </span>┃\n",
       "┡━━━━━━━━━━━━━━━━━━━━━━━━━━━━━━━━━━━━━━━━━━━━━━━━━━━━━━━━━━━━━━━━━━━━━━━━━━━━━━━╇━━━━━━━━━━━━━━━━━━━━╇━━━━━━━━━━━━┩\n",
       "│<span style=\"color: #7f7f7f; text-decoration-color: #7f7f7f\"> {'Respondent ID': '101', 'What do you like most about using our online        </span>│<span style=\"color: #7f7f7f; text-decoration-color: #7f7f7f\"> Somewhat satisfied </span>│<span style=\"color: #7f7f7f; text-decoration-color: #7f7f7f\"> 4          </span>│\n",
       "│<span style=\"color: #7f7f7f; text-decoration-color: #7f7f7f\"> marketplace?': 'The wide variety of products and the ease of use.', 'What is  </span>│<span style=\"color: #7f7f7f; text-decoration-color: #7f7f7f\">                    </span>│<span style=\"color: #7f7f7f; text-decoration-color: #7f7f7f\">            </span>│\n",
       "│<span style=\"color: #7f7f7f; text-decoration-color: #7f7f7f\"> one feature you would like to see added to improve your shopping              </span>│<span style=\"color: #7f7f7f; text-decoration-color: #7f7f7f\">                    </span>│<span style=\"color: #7f7f7f; text-decoration-color: #7f7f7f\">            </span>│\n",
       "│<span style=\"color: #7f7f7f; text-decoration-color: #7f7f7f\"> experience?': 'It would be great to have a personalized recommendation system </span>│<span style=\"color: #7f7f7f; text-decoration-color: #7f7f7f\">                    </span>│<span style=\"color: #7f7f7f; text-decoration-color: #7f7f7f\">            </span>│\n",
       "│<span style=\"color: #7f7f7f; text-decoration-color: #7f7f7f\"> based on my browsing history.', 'Can you describe a recent experience where   </span>│<span style=\"color: #7f7f7f; text-decoration-color: #7f7f7f\">                    </span>│<span style=\"color: #7f7f7f; text-decoration-color: #7f7f7f\">            </span>│\n",
       "│<span style=\"color: #7f7f7f; text-decoration-color: #7f7f7f\"> you were dissatisfied with our service?': 'I was disappointed when an item I  </span>│<span style=\"color: #7f7f7f; text-decoration-color: #7f7f7f\">                    </span>│<span style=\"color: #7f7f7f; text-decoration-color: #7f7f7f\">            </span>│\n",
       "│<span style=\"color: #7f7f7f; text-decoration-color: #7f7f7f\"> ordered arrived damaged, but customer service quickly resolved it.', 'How do  </span>│<span style=\"color: #7f7f7f; text-decoration-color: #7f7f7f\">                    </span>│<span style=\"color: #7f7f7f; text-decoration-color: #7f7f7f\">            </span>│\n",
       "│<span style=\"color: #7f7f7f; text-decoration-color: #7f7f7f\"> you feel about the current product search and filtering options?': 'The       </span>│<span style=\"color: #7f7f7f; text-decoration-color: #7f7f7f\">                    </span>│<span style=\"color: #7f7f7f; text-decoration-color: #7f7f7f\">            </span>│\n",
       "│<span style=\"color: #7f7f7f; text-decoration-color: #7f7f7f\"> search and filtering options are intuitive and work well for me.', 'Is there  </span>│<span style=\"color: #7f7f7f; text-decoration-color: #7f7f7f\">                    </span>│<span style=\"color: #7f7f7f; text-decoration-color: #7f7f7f\">            </span>│\n",
       "│<span style=\"color: #7f7f7f; text-decoration-color: #7f7f7f\"> anything else you would like to share about your experience with us?': 'No,   </span>│<span style=\"color: #7f7f7f; text-decoration-color: #7f7f7f\">                    </span>│<span style=\"color: #7f7f7f; text-decoration-color: #7f7f7f\">            </span>│\n",
       "│<span style=\"color: #7f7f7f; text-decoration-color: #7f7f7f\"> keep up the great work!', 'edsl_version': '0.1.33.dev1', 'edsl_class_name':   </span>│<span style=\"color: #7f7f7f; text-decoration-color: #7f7f7f\">                    </span>│<span style=\"color: #7f7f7f; text-decoration-color: #7f7f7f\">            </span>│\n",
       "│<span style=\"color: #7f7f7f; text-decoration-color: #7f7f7f\"> 'Scenario'}                                                                   </span>│<span style=\"color: #7f7f7f; text-decoration-color: #7f7f7f\">                    </span>│<span style=\"color: #7f7f7f; text-decoration-color: #7f7f7f\">            </span>│\n",
       "├───────────────────────────────────────────────────────────────────────────────┼────────────────────┼────────────┤\n",
       "│<span style=\"color: #7f7f7f; text-decoration-color: #7f7f7f\"> {'Respondent ID': '102', 'What do you like most about using our online        </span>│<span style=\"color: #7f7f7f; text-decoration-color: #7f7f7f\"> Somewhat satisfied </span>│<span style=\"color: #7f7f7f; text-decoration-color: #7f7f7f\"> 4          </span>│\n",
       "│<span style=\"color: #7f7f7f; text-decoration-color: #7f7f7f\"> marketplace?': 'I enjoy the simplicity of the interface.', 'What is one       </span>│<span style=\"color: #7f7f7f; text-decoration-color: #7f7f7f\">                    </span>│<span style=\"color: #7f7f7f; text-decoration-color: #7f7f7f\">            </span>│\n",
       "│<span style=\"color: #7f7f7f; text-decoration-color: #7f7f7f\"> feature you would like to see added to improve your shopping experience?': 'A </span>│<span style=\"color: #7f7f7f; text-decoration-color: #7f7f7f\">                    </span>│<span style=\"color: #7f7f7f; text-decoration-color: #7f7f7f\">            </span>│\n",
       "│<span style=\"color: #7f7f7f; text-decoration-color: #7f7f7f\"> feature that helps compare similar products side by side would be useful.',   </span>│<span style=\"color: #7f7f7f; text-decoration-color: #7f7f7f\">                    </span>│<span style=\"color: #7f7f7f; text-decoration-color: #7f7f7f\">            </span>│\n",
       "│<span style=\"color: #7f7f7f; text-decoration-color: #7f7f7f\"> 'Can you describe a recent experience where you were dissatisfied with our    </span>│<span style=\"color: #7f7f7f; text-decoration-color: #7f7f7f\">                    </span>│<span style=\"color: #7f7f7f; text-decoration-color: #7f7f7f\">            </span>│\n",
       "│<span style=\"color: #7f7f7f; text-decoration-color: #7f7f7f\"> service?': 'No complaints here.', 'How do you feel about the current product  </span>│<span style=\"color: #7f7f7f; text-decoration-color: #7f7f7f\">                    </span>│<span style=\"color: #7f7f7f; text-decoration-color: #7f7f7f\">            </span>│\n",
       "│<span style=\"color: #7f7f7f; text-decoration-color: #7f7f7f\"> search and filtering options?': 'I find the product search to be pretty       </span>│<span style=\"color: #7f7f7f; text-decoration-color: #7f7f7f\">                    </span>│<span style=\"color: #7f7f7f; text-decoration-color: #7f7f7f\">            </span>│\n",
       "│<span style=\"color: #7f7f7f; text-decoration-color: #7f7f7f\"> effective.', 'Is there anything else you would like to share about your       </span>│<span style=\"color: #7f7f7f; text-decoration-color: #7f7f7f\">                    </span>│<span style=\"color: #7f7f7f; text-decoration-color: #7f7f7f\">            </span>│\n",
       "│<span style=\"color: #7f7f7f; text-decoration-color: #7f7f7f\"> experience with us?': 'I think the sky is a beautiful shade of purple         </span>│<span style=\"color: #7f7f7f; text-decoration-color: #7f7f7f\">                    </span>│<span style=\"color: #7f7f7f; text-decoration-color: #7f7f7f\">            </span>│\n",
       "│<span style=\"color: #7f7f7f; text-decoration-color: #7f7f7f\"> today.', 'edsl_version': '0.1.33.dev1', 'edsl_class_name': 'Scenario'}        </span>│<span style=\"color: #7f7f7f; text-decoration-color: #7f7f7f\">                    </span>│<span style=\"color: #7f7f7f; text-decoration-color: #7f7f7f\">            </span>│\n",
       "├───────────────────────────────────────────────────────────────────────────────┼────────────────────┼────────────┤\n",
       "│<span style=\"color: #7f7f7f; text-decoration-color: #7f7f7f\"> {'Respondent ID': '103', 'What do you like most about using our online        </span>│<span style=\"color: #7f7f7f; text-decoration-color: #7f7f7f\"> Somewhat satisfied </span>│<span style=\"color: #7f7f7f; text-decoration-color: #7f7f7f\"> 3          </span>│\n",
       "│<span style=\"color: #7f7f7f; text-decoration-color: #7f7f7f\"> marketplace?': 'The platform is user-friendly and offers a vast selection of  </span>│<span style=\"color: #7f7f7f; text-decoration-color: #7f7f7f\">                    </span>│<span style=\"color: #7f7f7f; text-decoration-color: #7f7f7f\">            </span>│\n",
       "│<span style=\"color: #7f7f7f; text-decoration-color: #7f7f7f\"> products.', 'What is one feature you would like to see added to improve your  </span>│<span style=\"color: #7f7f7f; text-decoration-color: #7f7f7f\">                    </span>│<span style=\"color: #7f7f7f; text-decoration-color: #7f7f7f\">            </span>│\n",
       "│<span style=\"color: #7f7f7f; text-decoration-color: #7f7f7f\"> shopping experience?': 'Would love to see an option to save and compare       </span>│<span style=\"color: #7f7f7f; text-decoration-color: #7f7f7f\">                    </span>│<span style=\"color: #7f7f7f; text-decoration-color: #7f7f7f\">            </span>│\n",
       "│<span style=\"color: #7f7f7f; text-decoration-color: #7f7f7f\"> different products.', 'Can you describe a recent experience where you were    </span>│<span style=\"color: #7f7f7f; text-decoration-color: #7f7f7f\">                    </span>│<span style=\"color: #7f7f7f; text-decoration-color: #7f7f7f\">            </span>│\n",
       "│<span style=\"color: #7f7f7f; text-decoration-color: #7f7f7f\"> dissatisfied with our service?': 'My delivery was late by a few days, which   </span>│<span style=\"color: #7f7f7f; text-decoration-color: #7f7f7f\">                    </span>│<span style=\"color: #7f7f7f; text-decoration-color: #7f7f7f\">            </span>│\n",
       "│<span style=\"color: #7f7f7f; text-decoration-color: #7f7f7f\"> was frustrating.', 'How do you feel about the current product search and      </span>│<span style=\"color: #7f7f7f; text-decoration-color: #7f7f7f\">                    </span>│<span style=\"color: #7f7f7f; text-decoration-color: #7f7f7f\">            </span>│\n",
       "│<span style=\"color: #7f7f7f; text-decoration-color: #7f7f7f\"> filtering options?': 'It’s okay.', 'Is there anything else you would like to  </span>│<span style=\"color: #7f7f7f; text-decoration-color: #7f7f7f\">                    </span>│<span style=\"color: #7f7f7f; text-decoration-color: #7f7f7f\">            </span>│\n",
       "│<span style=\"color: #7f7f7f; text-decoration-color: #7f7f7f\"> share about your experience with us?': 'No.', 'edsl_version': '0.1.33.dev1',  </span>│<span style=\"color: #7f7f7f; text-decoration-color: #7f7f7f\">                    </span>│<span style=\"color: #7f7f7f; text-decoration-color: #7f7f7f\">            </span>│\n",
       "│<span style=\"color: #7f7f7f; text-decoration-color: #7f7f7f\"> 'edsl_class_name': 'Scenario'}                                                </span>│<span style=\"color: #7f7f7f; text-decoration-color: #7f7f7f\">                    </span>│<span style=\"color: #7f7f7f; text-decoration-color: #7f7f7f\">            </span>│\n",
       "└───────────────────────────────────────────────────────────────────────────────┴────────────────────┴────────────┘\n",
       "</pre>\n"
      ],
      "text/plain": [
       "┏━━━━━━━━━━━━━━━━━━━━━━━━━━━━━━━━━━━━━━━━━━━━━━━━━━━━━━━━━━━━━━━━━━━━━━━━━━━━━━━┳━━━━━━━━━━━━━━━━━━━━┳━━━━━━━━━━━━┓\n",
       "┃\u001b[1;35m \u001b[0m\u001b[1;35mscenario                                                                     \u001b[0m\u001b[1;35m \u001b[0m┃\u001b[1;35m \u001b[0m\u001b[1;35manswer            \u001b[0m\u001b[1;35m \u001b[0m┃\u001b[1;35m \u001b[0m\u001b[1;35manswer    \u001b[0m\u001b[1;35m \u001b[0m┃\n",
       "┃\u001b[1;35m \u001b[0m\u001b[1;35m.responses                                                                   \u001b[0m\u001b[1;35m \u001b[0m┃\u001b[1;35m \u001b[0m\u001b[1;35m.sentiment        \u001b[0m\u001b[1;35m \u001b[0m┃\u001b[1;35m \u001b[0m\u001b[1;35m.recommend\u001b[0m\u001b[1;35m \u001b[0m┃\n",
       "┡━━━━━━━━━━━━━━━━━━━━━━━━━━━━━━━━━━━━━━━━━━━━━━━━━━━━━━━━━━━━━━━━━━━━━━━━━━━━━━━╇━━━━━━━━━━━━━━━━━━━━╇━━━━━━━━━━━━┩\n",
       "│\u001b[2m \u001b[0m\u001b[2m{'Respondent ID': '101', 'What do you like most about using our online       \u001b[0m\u001b[2m \u001b[0m│\u001b[2m \u001b[0m\u001b[2mSomewhat satisfied\u001b[0m\u001b[2m \u001b[0m│\u001b[2m \u001b[0m\u001b[2m4         \u001b[0m\u001b[2m \u001b[0m│\n",
       "│\u001b[2m \u001b[0m\u001b[2mmarketplace?': 'The wide variety of products and the ease of use.', 'What is \u001b[0m\u001b[2m \u001b[0m│\u001b[2m                    \u001b[0m│\u001b[2m            \u001b[0m│\n",
       "│\u001b[2m \u001b[0m\u001b[2mone feature you would like to see added to improve your shopping             \u001b[0m\u001b[2m \u001b[0m│\u001b[2m                    \u001b[0m│\u001b[2m            \u001b[0m│\n",
       "│\u001b[2m \u001b[0m\u001b[2mexperience?': 'It would be great to have a personalized recommendation system\u001b[0m\u001b[2m \u001b[0m│\u001b[2m                    \u001b[0m│\u001b[2m            \u001b[0m│\n",
       "│\u001b[2m \u001b[0m\u001b[2mbased on my browsing history.', 'Can you describe a recent experience where  \u001b[0m\u001b[2m \u001b[0m│\u001b[2m                    \u001b[0m│\u001b[2m            \u001b[0m│\n",
       "│\u001b[2m \u001b[0m\u001b[2myou were dissatisfied with our service?': 'I was disappointed when an item I \u001b[0m\u001b[2m \u001b[0m│\u001b[2m                    \u001b[0m│\u001b[2m            \u001b[0m│\n",
       "│\u001b[2m \u001b[0m\u001b[2mordered arrived damaged, but customer service quickly resolved it.', 'How do \u001b[0m\u001b[2m \u001b[0m│\u001b[2m                    \u001b[0m│\u001b[2m            \u001b[0m│\n",
       "│\u001b[2m \u001b[0m\u001b[2myou feel about the current product search and filtering options?': 'The      \u001b[0m\u001b[2m \u001b[0m│\u001b[2m                    \u001b[0m│\u001b[2m            \u001b[0m│\n",
       "│\u001b[2m \u001b[0m\u001b[2msearch and filtering options are intuitive and work well for me.', 'Is there \u001b[0m\u001b[2m \u001b[0m│\u001b[2m                    \u001b[0m│\u001b[2m            \u001b[0m│\n",
       "│\u001b[2m \u001b[0m\u001b[2manything else you would like to share about your experience with us?': 'No,  \u001b[0m\u001b[2m \u001b[0m│\u001b[2m                    \u001b[0m│\u001b[2m            \u001b[0m│\n",
       "│\u001b[2m \u001b[0m\u001b[2mkeep up the great work!', 'edsl_version': '0.1.33.dev1', 'edsl_class_name':  \u001b[0m\u001b[2m \u001b[0m│\u001b[2m                    \u001b[0m│\u001b[2m            \u001b[0m│\n",
       "│\u001b[2m \u001b[0m\u001b[2m'Scenario'}                                                                  \u001b[0m\u001b[2m \u001b[0m│\u001b[2m                    \u001b[0m│\u001b[2m            \u001b[0m│\n",
       "├───────────────────────────────────────────────────────────────────────────────┼────────────────────┼────────────┤\n",
       "│\u001b[2m \u001b[0m\u001b[2m{'Respondent ID': '102', 'What do you like most about using our online       \u001b[0m\u001b[2m \u001b[0m│\u001b[2m \u001b[0m\u001b[2mSomewhat satisfied\u001b[0m\u001b[2m \u001b[0m│\u001b[2m \u001b[0m\u001b[2m4         \u001b[0m\u001b[2m \u001b[0m│\n",
       "│\u001b[2m \u001b[0m\u001b[2mmarketplace?': 'I enjoy the simplicity of the interface.', 'What is one      \u001b[0m\u001b[2m \u001b[0m│\u001b[2m                    \u001b[0m│\u001b[2m            \u001b[0m│\n",
       "│\u001b[2m \u001b[0m\u001b[2mfeature you would like to see added to improve your shopping experience?': 'A\u001b[0m\u001b[2m \u001b[0m│\u001b[2m                    \u001b[0m│\u001b[2m            \u001b[0m│\n",
       "│\u001b[2m \u001b[0m\u001b[2mfeature that helps compare similar products side by side would be useful.',  \u001b[0m\u001b[2m \u001b[0m│\u001b[2m                    \u001b[0m│\u001b[2m            \u001b[0m│\n",
       "│\u001b[2m \u001b[0m\u001b[2m'Can you describe a recent experience where you were dissatisfied with our   \u001b[0m\u001b[2m \u001b[0m│\u001b[2m                    \u001b[0m│\u001b[2m            \u001b[0m│\n",
       "│\u001b[2m \u001b[0m\u001b[2mservice?': 'No complaints here.', 'How do you feel about the current product \u001b[0m\u001b[2m \u001b[0m│\u001b[2m                    \u001b[0m│\u001b[2m            \u001b[0m│\n",
       "│\u001b[2m \u001b[0m\u001b[2msearch and filtering options?': 'I find the product search to be pretty      \u001b[0m\u001b[2m \u001b[0m│\u001b[2m                    \u001b[0m│\u001b[2m            \u001b[0m│\n",
       "│\u001b[2m \u001b[0m\u001b[2meffective.', 'Is there anything else you would like to share about your      \u001b[0m\u001b[2m \u001b[0m│\u001b[2m                    \u001b[0m│\u001b[2m            \u001b[0m│\n",
       "│\u001b[2m \u001b[0m\u001b[2mexperience with us?': 'I think the sky is a beautiful shade of purple        \u001b[0m\u001b[2m \u001b[0m│\u001b[2m                    \u001b[0m│\u001b[2m            \u001b[0m│\n",
       "│\u001b[2m \u001b[0m\u001b[2mtoday.', 'edsl_version': '0.1.33.dev1', 'edsl_class_name': 'Scenario'}       \u001b[0m\u001b[2m \u001b[0m│\u001b[2m                    \u001b[0m│\u001b[2m            \u001b[0m│\n",
       "├───────────────────────────────────────────────────────────────────────────────┼────────────────────┼────────────┤\n",
       "│\u001b[2m \u001b[0m\u001b[2m{'Respondent ID': '103', 'What do you like most about using our online       \u001b[0m\u001b[2m \u001b[0m│\u001b[2m \u001b[0m\u001b[2mSomewhat satisfied\u001b[0m\u001b[2m \u001b[0m│\u001b[2m \u001b[0m\u001b[2m3         \u001b[0m\u001b[2m \u001b[0m│\n",
       "│\u001b[2m \u001b[0m\u001b[2mmarketplace?': 'The platform is user-friendly and offers a vast selection of \u001b[0m\u001b[2m \u001b[0m│\u001b[2m                    \u001b[0m│\u001b[2m            \u001b[0m│\n",
       "│\u001b[2m \u001b[0m\u001b[2mproducts.', 'What is one feature you would like to see added to improve your \u001b[0m\u001b[2m \u001b[0m│\u001b[2m                    \u001b[0m│\u001b[2m            \u001b[0m│\n",
       "│\u001b[2m \u001b[0m\u001b[2mshopping experience?': 'Would love to see an option to save and compare      \u001b[0m\u001b[2m \u001b[0m│\u001b[2m                    \u001b[0m│\u001b[2m            \u001b[0m│\n",
       "│\u001b[2m \u001b[0m\u001b[2mdifferent products.', 'Can you describe a recent experience where you were   \u001b[0m\u001b[2m \u001b[0m│\u001b[2m                    \u001b[0m│\u001b[2m            \u001b[0m│\n",
       "│\u001b[2m \u001b[0m\u001b[2mdissatisfied with our service?': 'My delivery was late by a few days, which  \u001b[0m\u001b[2m \u001b[0m│\u001b[2m                    \u001b[0m│\u001b[2m            \u001b[0m│\n",
       "│\u001b[2m \u001b[0m\u001b[2mwas frustrating.', 'How do you feel about the current product search and     \u001b[0m\u001b[2m \u001b[0m│\u001b[2m                    \u001b[0m│\u001b[2m            \u001b[0m│\n",
       "│\u001b[2m \u001b[0m\u001b[2mfiltering options?': 'It’s okay.', 'Is there anything else you would like to \u001b[0m\u001b[2m \u001b[0m│\u001b[2m                    \u001b[0m│\u001b[2m            \u001b[0m│\n",
       "│\u001b[2m \u001b[0m\u001b[2mshare about your experience with us?': 'No.', 'edsl_version': '0.1.33.dev1', \u001b[0m\u001b[2m \u001b[0m│\u001b[2m                    \u001b[0m│\u001b[2m            \u001b[0m│\n",
       "│\u001b[2m \u001b[0m\u001b[2m'edsl_class_name': 'Scenario'}                                               \u001b[0m\u001b[2m \u001b[0m│\u001b[2m                    \u001b[0m│\u001b[2m            \u001b[0m│\n",
       "└───────────────────────────────────────────────────────────────────────────────┴────────────────────┴────────────┘\n"
      ]
     },
     "metadata": {},
     "output_type": "display_data"
    }
   ],
   "source": [
    "results.select(\"responses\", \"sentiment\", \"recommend\").print(format=\"rich\")"
   ]
  },
  {
   "cell_type": "markdown",
   "id": "9eab586f-8a28-4992-9fec-d43cbe771c9e",
   "metadata": {},
   "source": [
    "## Evaluating individual answers\n",
    "Next we create a `ScenarioList` for each individual question and answer to use with our question about the responsiveness of each answer. We can use the `unpivot()` method to expand the scenarios by desired identifiers (e.g., respondent ID):"
   ]
  },
  {
   "cell_type": "code",
   "execution_count": 17,
   "id": "b95f76a2-0527-4283-8162-9079db248bd7",
   "metadata": {},
   "outputs": [
    {
     "data": {
      "text/html": [
       "<div class=\"highlight\"><pre><span></span><span class=\"p\">{</span>\n",
       "<span class=\"w\">    </span><span class=\"nt\">&quot;scenarios&quot;</span><span class=\"p\">:</span><span class=\"w\"> </span><span class=\"p\">[</span>\n",
       "<span class=\"w\">        </span><span class=\"p\">{</span>\n",
       "<span class=\"w\">            </span><span class=\"nt\">&quot;Respondent ID&quot;</span><span class=\"p\">:</span><span class=\"w\"> </span><span class=\"s2\">&quot;101&quot;</span><span class=\"p\">,</span>\n",
       "<span class=\"w\">            </span><span class=\"nt\">&quot;variable&quot;</span><span class=\"p\">:</span><span class=\"w\"> </span><span class=\"s2\">&quot;What do you like most about using our online marketplace?&quot;</span><span class=\"p\">,</span>\n",
       "<span class=\"w\">            </span><span class=\"nt\">&quot;value&quot;</span><span class=\"p\">:</span><span class=\"w\"> </span><span class=\"s2\">&quot;The wide variety of products and the ease of use.&quot;</span>\n",
       "<span class=\"w\">        </span><span class=\"p\">},</span>\n",
       "<span class=\"w\">        </span><span class=\"p\">{</span>\n",
       "<span class=\"w\">            </span><span class=\"nt\">&quot;Respondent ID&quot;</span><span class=\"p\">:</span><span class=\"w\"> </span><span class=\"s2\">&quot;101&quot;</span><span class=\"p\">,</span>\n",
       "<span class=\"w\">            </span><span class=\"nt\">&quot;variable&quot;</span><span class=\"p\">:</span><span class=\"w\"> </span><span class=\"s2\">&quot;What is one feature you would like to see added to improve your shopping experience?&quot;</span><span class=\"p\">,</span>\n",
       "<span class=\"w\">            </span><span class=\"nt\">&quot;value&quot;</span><span class=\"p\">:</span><span class=\"w\"> </span><span class=\"s2\">&quot;It would be great to have a personalized recommendation system based on my browsing history.&quot;</span>\n",
       "<span class=\"w\">        </span><span class=\"p\">},</span>\n",
       "<span class=\"w\">        </span><span class=\"p\">{</span>\n",
       "<span class=\"w\">            </span><span class=\"nt\">&quot;Respondent ID&quot;</span><span class=\"p\">:</span><span class=\"w\"> </span><span class=\"s2\">&quot;101&quot;</span><span class=\"p\">,</span>\n",
       "<span class=\"w\">            </span><span class=\"nt\">&quot;variable&quot;</span><span class=\"p\">:</span><span class=\"w\"> </span><span class=\"s2\">&quot;Can you describe a recent experience where you were dissatisfied with our service?&quot;</span><span class=\"p\">,</span>\n",
       "<span class=\"w\">            </span><span class=\"nt\">&quot;value&quot;</span><span class=\"p\">:</span><span class=\"w\"> </span><span class=\"s2\">&quot;I was disappointed when an item I ordered arrived damaged, but customer service quickly resolved it.&quot;</span>\n",
       "<span class=\"w\">        </span><span class=\"p\">},</span>\n",
       "<span class=\"w\">        </span><span class=\"p\">{</span>\n",
       "<span class=\"w\">            </span><span class=\"nt\">&quot;Respondent ID&quot;</span><span class=\"p\">:</span><span class=\"w\"> </span><span class=\"s2\">&quot;101&quot;</span><span class=\"p\">,</span>\n",
       "<span class=\"w\">            </span><span class=\"nt\">&quot;variable&quot;</span><span class=\"p\">:</span><span class=\"w\"> </span><span class=\"s2\">&quot;How do you feel about the current product search and filtering options?&quot;</span><span class=\"p\">,</span>\n",
       "<span class=\"w\">            </span><span class=\"nt\">&quot;value&quot;</span><span class=\"p\">:</span><span class=\"w\"> </span><span class=\"s2\">&quot;The search and filtering options are intuitive and work well for me.&quot;</span>\n",
       "<span class=\"w\">        </span><span class=\"p\">},</span>\n",
       "<span class=\"w\">        </span><span class=\"p\">{</span>\n",
       "<span class=\"w\">            </span><span class=\"nt\">&quot;Respondent ID&quot;</span><span class=\"p\">:</span><span class=\"w\"> </span><span class=\"s2\">&quot;101&quot;</span><span class=\"p\">,</span>\n",
       "<span class=\"w\">            </span><span class=\"nt\">&quot;variable&quot;</span><span class=\"p\">:</span><span class=\"w\"> </span><span class=\"s2\">&quot;Is there anything else you would like to share about your experience with us?&quot;</span><span class=\"p\">,</span>\n",
       "<span class=\"w\">            </span><span class=\"nt\">&quot;value&quot;</span><span class=\"p\">:</span><span class=\"w\"> </span><span class=\"s2\">&quot;No, keep up the great work!&quot;</span>\n",
       "<span class=\"w\">        </span><span class=\"p\">},</span>\n",
       "<span class=\"w\">        </span><span class=\"p\">{</span>\n",
       "<span class=\"w\">            </span><span class=\"nt\">&quot;Respondent ID&quot;</span><span class=\"p\">:</span><span class=\"w\"> </span><span class=\"s2\">&quot;102&quot;</span><span class=\"p\">,</span>\n",
       "<span class=\"w\">            </span><span class=\"nt\">&quot;variable&quot;</span><span class=\"p\">:</span><span class=\"w\"> </span><span class=\"s2\">&quot;What do you like most about using our online marketplace?&quot;</span><span class=\"p\">,</span>\n",
       "<span class=\"w\">            </span><span class=\"nt\">&quot;value&quot;</span><span class=\"p\">:</span><span class=\"w\"> </span><span class=\"s2\">&quot;I enjoy the simplicity of the interface.&quot;</span>\n",
       "<span class=\"w\">        </span><span class=\"p\">},</span>\n",
       "<span class=\"w\">        </span><span class=\"p\">{</span>\n",
       "<span class=\"w\">            </span><span class=\"nt\">&quot;Respondent ID&quot;</span><span class=\"p\">:</span><span class=\"w\"> </span><span class=\"s2\">&quot;102&quot;</span><span class=\"p\">,</span>\n",
       "<span class=\"w\">            </span><span class=\"nt\">&quot;variable&quot;</span><span class=\"p\">:</span><span class=\"w\"> </span><span class=\"s2\">&quot;What is one feature you would like to see added to improve your shopping experience?&quot;</span><span class=\"p\">,</span>\n",
       "<span class=\"w\">            </span><span class=\"nt\">&quot;value&quot;</span><span class=\"p\">:</span><span class=\"w\"> </span><span class=\"s2\">&quot;A feature that helps compare similar products side by side would be useful.&quot;</span>\n",
       "<span class=\"w\">        </span><span class=\"p\">},</span>\n",
       "<span class=\"w\">        </span><span class=\"p\">{</span>\n",
       "<span class=\"w\">            </span><span class=\"nt\">&quot;Respondent ID&quot;</span><span class=\"p\">:</span><span class=\"w\"> </span><span class=\"s2\">&quot;102&quot;</span><span class=\"p\">,</span>\n",
       "<span class=\"w\">            </span><span class=\"nt\">&quot;variable&quot;</span><span class=\"p\">:</span><span class=\"w\"> </span><span class=\"s2\">&quot;Can you describe a recent experience where you were dissatisfied with our service?&quot;</span><span class=\"p\">,</span>\n",
       "<span class=\"w\">            </span><span class=\"nt\">&quot;value&quot;</span><span class=\"p\">:</span><span class=\"w\"> </span><span class=\"s2\">&quot;No complaints here.&quot;</span>\n",
       "<span class=\"w\">        </span><span class=\"p\">},</span>\n",
       "<span class=\"w\">        </span><span class=\"p\">{</span>\n",
       "<span class=\"w\">            </span><span class=\"nt\">&quot;Respondent ID&quot;</span><span class=\"p\">:</span><span class=\"w\"> </span><span class=\"s2\">&quot;102&quot;</span><span class=\"p\">,</span>\n",
       "<span class=\"w\">            </span><span class=\"nt\">&quot;variable&quot;</span><span class=\"p\">:</span><span class=\"w\"> </span><span class=\"s2\">&quot;How do you feel about the current product search and filtering options?&quot;</span><span class=\"p\">,</span>\n",
       "<span class=\"w\">            </span><span class=\"nt\">&quot;value&quot;</span><span class=\"p\">:</span><span class=\"w\"> </span><span class=\"s2\">&quot;I find the product search to be pretty effective.&quot;</span>\n",
       "<span class=\"w\">        </span><span class=\"p\">},</span>\n",
       "<span class=\"w\">        </span><span class=\"p\">{</span>\n",
       "<span class=\"w\">            </span><span class=\"nt\">&quot;Respondent ID&quot;</span><span class=\"p\">:</span><span class=\"w\"> </span><span class=\"s2\">&quot;102&quot;</span><span class=\"p\">,</span>\n",
       "<span class=\"w\">            </span><span class=\"nt\">&quot;variable&quot;</span><span class=\"p\">:</span><span class=\"w\"> </span><span class=\"s2\">&quot;Is there anything else you would like to share about your experience with us?&quot;</span><span class=\"p\">,</span>\n",
       "<span class=\"w\">            </span><span class=\"nt\">&quot;value&quot;</span><span class=\"p\">:</span><span class=\"w\"> </span><span class=\"s2\">&quot;I think the sky is a beautiful shade of purple today.&quot;</span>\n",
       "<span class=\"w\">        </span><span class=\"p\">},</span>\n",
       "<span class=\"w\">        </span><span class=\"p\">{</span>\n",
       "<span class=\"w\">            </span><span class=\"nt\">&quot;Respondent ID&quot;</span><span class=\"p\">:</span><span class=\"w\"> </span><span class=\"s2\">&quot;103&quot;</span><span class=\"p\">,</span>\n",
       "<span class=\"w\">            </span><span class=\"nt\">&quot;variable&quot;</span><span class=\"p\">:</span><span class=\"w\"> </span><span class=\"s2\">&quot;What do you like most about using our online marketplace?&quot;</span><span class=\"p\">,</span>\n",
       "<span class=\"w\">            </span><span class=\"nt\">&quot;value&quot;</span><span class=\"p\">:</span><span class=\"w\"> </span><span class=\"s2\">&quot;The platform is user-friendly and offers a vast selection of products.&quot;</span>\n",
       "<span class=\"w\">        </span><span class=\"p\">},</span>\n",
       "<span class=\"w\">        </span><span class=\"p\">{</span>\n",
       "<span class=\"w\">            </span><span class=\"nt\">&quot;Respondent ID&quot;</span><span class=\"p\">:</span><span class=\"w\"> </span><span class=\"s2\">&quot;103&quot;</span><span class=\"p\">,</span>\n",
       "<span class=\"w\">            </span><span class=\"nt\">&quot;variable&quot;</span><span class=\"p\">:</span><span class=\"w\"> </span><span class=\"s2\">&quot;What is one feature you would like to see added to improve your shopping experience?&quot;</span><span class=\"p\">,</span>\n",
       "<span class=\"w\">            </span><span class=\"nt\">&quot;value&quot;</span><span class=\"p\">:</span><span class=\"w\"> </span><span class=\"s2\">&quot;Would love to see an option to save and compare different products.&quot;</span>\n",
       "<span class=\"w\">        </span><span class=\"p\">},</span>\n",
       "<span class=\"w\">        </span><span class=\"p\">{</span>\n",
       "<span class=\"w\">            </span><span class=\"nt\">&quot;Respondent ID&quot;</span><span class=\"p\">:</span><span class=\"w\"> </span><span class=\"s2\">&quot;103&quot;</span><span class=\"p\">,</span>\n",
       "<span class=\"w\">            </span><span class=\"nt\">&quot;variable&quot;</span><span class=\"p\">:</span><span class=\"w\"> </span><span class=\"s2\">&quot;Can you describe a recent experience where you were dissatisfied with our service?&quot;</span><span class=\"p\">,</span>\n",
       "<span class=\"w\">            </span><span class=\"nt\">&quot;value&quot;</span><span class=\"p\">:</span><span class=\"w\"> </span><span class=\"s2\">&quot;My delivery was late by a few days, which was frustrating.&quot;</span>\n",
       "<span class=\"w\">        </span><span class=\"p\">},</span>\n",
       "<span class=\"w\">        </span><span class=\"p\">{</span>\n",
       "<span class=\"w\">            </span><span class=\"nt\">&quot;Respondent ID&quot;</span><span class=\"p\">:</span><span class=\"w\"> </span><span class=\"s2\">&quot;103&quot;</span><span class=\"p\">,</span>\n",
       "<span class=\"w\">            </span><span class=\"nt\">&quot;variable&quot;</span><span class=\"p\">:</span><span class=\"w\"> </span><span class=\"s2\">&quot;How do you feel about the current product search and filtering options?&quot;</span><span class=\"p\">,</span>\n",
       "<span class=\"w\">            </span><span class=\"nt\">&quot;value&quot;</span><span class=\"p\">:</span><span class=\"w\"> </span><span class=\"s2\">&quot;It\\u2019s okay.&quot;</span>\n",
       "<span class=\"w\">        </span><span class=\"p\">},</span>\n",
       "<span class=\"w\">        </span><span class=\"p\">{</span>\n",
       "<span class=\"w\">            </span><span class=\"nt\">&quot;Respondent ID&quot;</span><span class=\"p\">:</span><span class=\"w\"> </span><span class=\"s2\">&quot;103&quot;</span><span class=\"p\">,</span>\n",
       "<span class=\"w\">            </span><span class=\"nt\">&quot;variable&quot;</span><span class=\"p\">:</span><span class=\"w\"> </span><span class=\"s2\">&quot;Is there anything else you would like to share about your experience with us?&quot;</span><span class=\"p\">,</span>\n",
       "<span class=\"w\">            </span><span class=\"nt\">&quot;value&quot;</span><span class=\"p\">:</span><span class=\"w\"> </span><span class=\"s2\">&quot;No.&quot;</span>\n",
       "<span class=\"w\">        </span><span class=\"p\">}</span>\n",
       "<span class=\"w\">    </span><span class=\"p\">]</span>\n",
       "<span class=\"p\">}</span>\n",
       "</pre></div>\n"
      ],
      "text/plain": [
       "ScenarioList([Scenario({'Respondent ID': '101', 'variable': 'What do you like most about using our online marketplace?', 'value': 'The wide variety of products and the ease of use.'}), Scenario({'Respondent ID': '101', 'variable': 'What is one feature you would like to see added to improve your shopping experience?', 'value': 'It would be great to have a personalized recommendation system based on my browsing history.'}), Scenario({'Respondent ID': '101', 'variable': 'Can you describe a recent experience where you were dissatisfied with our service?', 'value': 'I was disappointed when an item I ordered arrived damaged, but customer service quickly resolved it.'}), Scenario({'Respondent ID': '101', 'variable': 'How do you feel about the current product search and filtering options?', 'value': 'The search and filtering options are intuitive and work well for me.'}), Scenario({'Respondent ID': '101', 'variable': 'Is there anything else you would like to share about your experience with us?', 'value': 'No, keep up the great work!'}), Scenario({'Respondent ID': '102', 'variable': 'What do you like most about using our online marketplace?', 'value': 'I enjoy the simplicity of the interface.'}), Scenario({'Respondent ID': '102', 'variable': 'What is one feature you would like to see added to improve your shopping experience?', 'value': 'A feature that helps compare similar products side by side would be useful.'}), Scenario({'Respondent ID': '102', 'variable': 'Can you describe a recent experience where you were dissatisfied with our service?', 'value': 'No complaints here.'}), Scenario({'Respondent ID': '102', 'variable': 'How do you feel about the current product search and filtering options?', 'value': 'I find the product search to be pretty effective.'}), Scenario({'Respondent ID': '102', 'variable': 'Is there anything else you would like to share about your experience with us?', 'value': 'I think the sky is a beautiful shade of purple today.'}), Scenario({'Respondent ID': '103', 'variable': 'What do you like most about using our online marketplace?', 'value': 'The platform is user-friendly and offers a vast selection of products.'}), Scenario({'Respondent ID': '103', 'variable': 'What is one feature you would like to see added to improve your shopping experience?', 'value': 'Would love to see an option to save and compare different products.'}), Scenario({'Respondent ID': '103', 'variable': 'Can you describe a recent experience where you were dissatisfied with our service?', 'value': 'My delivery was late by a few days, which was frustrating.'}), Scenario({'Respondent ID': '103', 'variable': 'How do you feel about the current product search and filtering options?', 'value': 'It’s okay.'}), Scenario({'Respondent ID': '103', 'variable': 'Is there anything else you would like to share about your experience with us?', 'value': 'No.'})])"
      ]
     },
     "execution_count": 17,
     "metadata": {},
     "output_type": "execute_result"
    }
   ],
   "source": [
    "sl_qa = sl.unpivot(id_vars = [\"Respondent ID\"])\n",
    "sl_qa"
   ]
  },
  {
   "cell_type": "markdown",
   "id": "d42e6d13-aa2a-4f07-890f-5075d40f318e",
   "metadata": {},
   "source": [
    "We can call the `rename()` method to rename the keys as desired to match our question parameters syntax:"
   ]
  },
  {
   "cell_type": "code",
   "execution_count": 18,
   "id": "4dc47dc0-0a8a-4b3f-88ac-6d6f3dea54a8",
   "metadata": {},
   "outputs": [
    {
     "data": {
      "text/html": [
       "<div class=\"highlight\"><pre><span></span><span class=\"p\">{</span>\n",
       "<span class=\"w\">    </span><span class=\"nt\">&quot;scenarios&quot;</span><span class=\"p\">:</span><span class=\"w\"> </span><span class=\"p\">[</span>\n",
       "<span class=\"w\">        </span><span class=\"p\">{</span>\n",
       "<span class=\"w\">            </span><span class=\"nt\">&quot;id&quot;</span><span class=\"p\">:</span><span class=\"w\"> </span><span class=\"s2\">&quot;101&quot;</span><span class=\"p\">,</span>\n",
       "<span class=\"w\">            </span><span class=\"nt\">&quot;question&quot;</span><span class=\"p\">:</span><span class=\"w\"> </span><span class=\"s2\">&quot;What do you like most about using our online marketplace?&quot;</span><span class=\"p\">,</span>\n",
       "<span class=\"w\">            </span><span class=\"nt\">&quot;answer&quot;</span><span class=\"p\">:</span><span class=\"w\"> </span><span class=\"s2\">&quot;The wide variety of products and the ease of use.&quot;</span>\n",
       "<span class=\"w\">        </span><span class=\"p\">},</span>\n",
       "<span class=\"w\">        </span><span class=\"p\">{</span>\n",
       "<span class=\"w\">            </span><span class=\"nt\">&quot;id&quot;</span><span class=\"p\">:</span><span class=\"w\"> </span><span class=\"s2\">&quot;101&quot;</span><span class=\"p\">,</span>\n",
       "<span class=\"w\">            </span><span class=\"nt\">&quot;question&quot;</span><span class=\"p\">:</span><span class=\"w\"> </span><span class=\"s2\">&quot;What is one feature you would like to see added to improve your shopping experience?&quot;</span><span class=\"p\">,</span>\n",
       "<span class=\"w\">            </span><span class=\"nt\">&quot;answer&quot;</span><span class=\"p\">:</span><span class=\"w\"> </span><span class=\"s2\">&quot;It would be great to have a personalized recommendation system based on my browsing history.&quot;</span>\n",
       "<span class=\"w\">        </span><span class=\"p\">},</span>\n",
       "<span class=\"w\">        </span><span class=\"p\">{</span>\n",
       "<span class=\"w\">            </span><span class=\"nt\">&quot;id&quot;</span><span class=\"p\">:</span><span class=\"w\"> </span><span class=\"s2\">&quot;101&quot;</span><span class=\"p\">,</span>\n",
       "<span class=\"w\">            </span><span class=\"nt\">&quot;question&quot;</span><span class=\"p\">:</span><span class=\"w\"> </span><span class=\"s2\">&quot;Can you describe a recent experience where you were dissatisfied with our service?&quot;</span><span class=\"p\">,</span>\n",
       "<span class=\"w\">            </span><span class=\"nt\">&quot;answer&quot;</span><span class=\"p\">:</span><span class=\"w\"> </span><span class=\"s2\">&quot;I was disappointed when an item I ordered arrived damaged, but customer service quickly resolved it.&quot;</span>\n",
       "<span class=\"w\">        </span><span class=\"p\">},</span>\n",
       "<span class=\"w\">        </span><span class=\"p\">{</span>\n",
       "<span class=\"w\">            </span><span class=\"nt\">&quot;id&quot;</span><span class=\"p\">:</span><span class=\"w\"> </span><span class=\"s2\">&quot;101&quot;</span><span class=\"p\">,</span>\n",
       "<span class=\"w\">            </span><span class=\"nt\">&quot;question&quot;</span><span class=\"p\">:</span><span class=\"w\"> </span><span class=\"s2\">&quot;How do you feel about the current product search and filtering options?&quot;</span><span class=\"p\">,</span>\n",
       "<span class=\"w\">            </span><span class=\"nt\">&quot;answer&quot;</span><span class=\"p\">:</span><span class=\"w\"> </span><span class=\"s2\">&quot;The search and filtering options are intuitive and work well for me.&quot;</span>\n",
       "<span class=\"w\">        </span><span class=\"p\">},</span>\n",
       "<span class=\"w\">        </span><span class=\"p\">{</span>\n",
       "<span class=\"w\">            </span><span class=\"nt\">&quot;id&quot;</span><span class=\"p\">:</span><span class=\"w\"> </span><span class=\"s2\">&quot;101&quot;</span><span class=\"p\">,</span>\n",
       "<span class=\"w\">            </span><span class=\"nt\">&quot;question&quot;</span><span class=\"p\">:</span><span class=\"w\"> </span><span class=\"s2\">&quot;Is there anything else you would like to share about your experience with us?&quot;</span><span class=\"p\">,</span>\n",
       "<span class=\"w\">            </span><span class=\"nt\">&quot;answer&quot;</span><span class=\"p\">:</span><span class=\"w\"> </span><span class=\"s2\">&quot;No, keep up the great work!&quot;</span>\n",
       "<span class=\"w\">        </span><span class=\"p\">},</span>\n",
       "<span class=\"w\">        </span><span class=\"p\">{</span>\n",
       "<span class=\"w\">            </span><span class=\"nt\">&quot;id&quot;</span><span class=\"p\">:</span><span class=\"w\"> </span><span class=\"s2\">&quot;102&quot;</span><span class=\"p\">,</span>\n",
       "<span class=\"w\">            </span><span class=\"nt\">&quot;question&quot;</span><span class=\"p\">:</span><span class=\"w\"> </span><span class=\"s2\">&quot;What do you like most about using our online marketplace?&quot;</span><span class=\"p\">,</span>\n",
       "<span class=\"w\">            </span><span class=\"nt\">&quot;answer&quot;</span><span class=\"p\">:</span><span class=\"w\"> </span><span class=\"s2\">&quot;I enjoy the simplicity of the interface.&quot;</span>\n",
       "<span class=\"w\">        </span><span class=\"p\">},</span>\n",
       "<span class=\"w\">        </span><span class=\"p\">{</span>\n",
       "<span class=\"w\">            </span><span class=\"nt\">&quot;id&quot;</span><span class=\"p\">:</span><span class=\"w\"> </span><span class=\"s2\">&quot;102&quot;</span><span class=\"p\">,</span>\n",
       "<span class=\"w\">            </span><span class=\"nt\">&quot;question&quot;</span><span class=\"p\">:</span><span class=\"w\"> </span><span class=\"s2\">&quot;What is one feature you would like to see added to improve your shopping experience?&quot;</span><span class=\"p\">,</span>\n",
       "<span class=\"w\">            </span><span class=\"nt\">&quot;answer&quot;</span><span class=\"p\">:</span><span class=\"w\"> </span><span class=\"s2\">&quot;A feature that helps compare similar products side by side would be useful.&quot;</span>\n",
       "<span class=\"w\">        </span><span class=\"p\">},</span>\n",
       "<span class=\"w\">        </span><span class=\"p\">{</span>\n",
       "<span class=\"w\">            </span><span class=\"nt\">&quot;id&quot;</span><span class=\"p\">:</span><span class=\"w\"> </span><span class=\"s2\">&quot;102&quot;</span><span class=\"p\">,</span>\n",
       "<span class=\"w\">            </span><span class=\"nt\">&quot;question&quot;</span><span class=\"p\">:</span><span class=\"w\"> </span><span class=\"s2\">&quot;Can you describe a recent experience where you were dissatisfied with our service?&quot;</span><span class=\"p\">,</span>\n",
       "<span class=\"w\">            </span><span class=\"nt\">&quot;answer&quot;</span><span class=\"p\">:</span><span class=\"w\"> </span><span class=\"s2\">&quot;No complaints here.&quot;</span>\n",
       "<span class=\"w\">        </span><span class=\"p\">},</span>\n",
       "<span class=\"w\">        </span><span class=\"p\">{</span>\n",
       "<span class=\"w\">            </span><span class=\"nt\">&quot;id&quot;</span><span class=\"p\">:</span><span class=\"w\"> </span><span class=\"s2\">&quot;102&quot;</span><span class=\"p\">,</span>\n",
       "<span class=\"w\">            </span><span class=\"nt\">&quot;question&quot;</span><span class=\"p\">:</span><span class=\"w\"> </span><span class=\"s2\">&quot;How do you feel about the current product search and filtering options?&quot;</span><span class=\"p\">,</span>\n",
       "<span class=\"w\">            </span><span class=\"nt\">&quot;answer&quot;</span><span class=\"p\">:</span><span class=\"w\"> </span><span class=\"s2\">&quot;I find the product search to be pretty effective.&quot;</span>\n",
       "<span class=\"w\">        </span><span class=\"p\">},</span>\n",
       "<span class=\"w\">        </span><span class=\"p\">{</span>\n",
       "<span class=\"w\">            </span><span class=\"nt\">&quot;id&quot;</span><span class=\"p\">:</span><span class=\"w\"> </span><span class=\"s2\">&quot;102&quot;</span><span class=\"p\">,</span>\n",
       "<span class=\"w\">            </span><span class=\"nt\">&quot;question&quot;</span><span class=\"p\">:</span><span class=\"w\"> </span><span class=\"s2\">&quot;Is there anything else you would like to share about your experience with us?&quot;</span><span class=\"p\">,</span>\n",
       "<span class=\"w\">            </span><span class=\"nt\">&quot;answer&quot;</span><span class=\"p\">:</span><span class=\"w\"> </span><span class=\"s2\">&quot;I think the sky is a beautiful shade of purple today.&quot;</span>\n",
       "<span class=\"w\">        </span><span class=\"p\">},</span>\n",
       "<span class=\"w\">        </span><span class=\"p\">{</span>\n",
       "<span class=\"w\">            </span><span class=\"nt\">&quot;id&quot;</span><span class=\"p\">:</span><span class=\"w\"> </span><span class=\"s2\">&quot;103&quot;</span><span class=\"p\">,</span>\n",
       "<span class=\"w\">            </span><span class=\"nt\">&quot;question&quot;</span><span class=\"p\">:</span><span class=\"w\"> </span><span class=\"s2\">&quot;What do you like most about using our online marketplace?&quot;</span><span class=\"p\">,</span>\n",
       "<span class=\"w\">            </span><span class=\"nt\">&quot;answer&quot;</span><span class=\"p\">:</span><span class=\"w\"> </span><span class=\"s2\">&quot;The platform is user-friendly and offers a vast selection of products.&quot;</span>\n",
       "<span class=\"w\">        </span><span class=\"p\">},</span>\n",
       "<span class=\"w\">        </span><span class=\"p\">{</span>\n",
       "<span class=\"w\">            </span><span class=\"nt\">&quot;id&quot;</span><span class=\"p\">:</span><span class=\"w\"> </span><span class=\"s2\">&quot;103&quot;</span><span class=\"p\">,</span>\n",
       "<span class=\"w\">            </span><span class=\"nt\">&quot;question&quot;</span><span class=\"p\">:</span><span class=\"w\"> </span><span class=\"s2\">&quot;What is one feature you would like to see added to improve your shopping experience?&quot;</span><span class=\"p\">,</span>\n",
       "<span class=\"w\">            </span><span class=\"nt\">&quot;answer&quot;</span><span class=\"p\">:</span><span class=\"w\"> </span><span class=\"s2\">&quot;Would love to see an option to save and compare different products.&quot;</span>\n",
       "<span class=\"w\">        </span><span class=\"p\">},</span>\n",
       "<span class=\"w\">        </span><span class=\"p\">{</span>\n",
       "<span class=\"w\">            </span><span class=\"nt\">&quot;id&quot;</span><span class=\"p\">:</span><span class=\"w\"> </span><span class=\"s2\">&quot;103&quot;</span><span class=\"p\">,</span>\n",
       "<span class=\"w\">            </span><span class=\"nt\">&quot;question&quot;</span><span class=\"p\">:</span><span class=\"w\"> </span><span class=\"s2\">&quot;Can you describe a recent experience where you were dissatisfied with our service?&quot;</span><span class=\"p\">,</span>\n",
       "<span class=\"w\">            </span><span class=\"nt\">&quot;answer&quot;</span><span class=\"p\">:</span><span class=\"w\"> </span><span class=\"s2\">&quot;My delivery was late by a few days, which was frustrating.&quot;</span>\n",
       "<span class=\"w\">        </span><span class=\"p\">},</span>\n",
       "<span class=\"w\">        </span><span class=\"p\">{</span>\n",
       "<span class=\"w\">            </span><span class=\"nt\">&quot;id&quot;</span><span class=\"p\">:</span><span class=\"w\"> </span><span class=\"s2\">&quot;103&quot;</span><span class=\"p\">,</span>\n",
       "<span class=\"w\">            </span><span class=\"nt\">&quot;question&quot;</span><span class=\"p\">:</span><span class=\"w\"> </span><span class=\"s2\">&quot;How do you feel about the current product search and filtering options?&quot;</span><span class=\"p\">,</span>\n",
       "<span class=\"w\">            </span><span class=\"nt\">&quot;answer&quot;</span><span class=\"p\">:</span><span class=\"w\"> </span><span class=\"s2\">&quot;It\\u2019s okay.&quot;</span>\n",
       "<span class=\"w\">        </span><span class=\"p\">},</span>\n",
       "<span class=\"w\">        </span><span class=\"p\">{</span>\n",
       "<span class=\"w\">            </span><span class=\"nt\">&quot;id&quot;</span><span class=\"p\">:</span><span class=\"w\"> </span><span class=\"s2\">&quot;103&quot;</span><span class=\"p\">,</span>\n",
       "<span class=\"w\">            </span><span class=\"nt\">&quot;question&quot;</span><span class=\"p\">:</span><span class=\"w\"> </span><span class=\"s2\">&quot;Is there anything else you would like to share about your experience with us?&quot;</span><span class=\"p\">,</span>\n",
       "<span class=\"w\">            </span><span class=\"nt\">&quot;answer&quot;</span><span class=\"p\">:</span><span class=\"w\"> </span><span class=\"s2\">&quot;No.&quot;</span>\n",
       "<span class=\"w\">        </span><span class=\"p\">}</span>\n",
       "<span class=\"w\">    </span><span class=\"p\">]</span>\n",
       "<span class=\"p\">}</span>\n",
       "</pre></div>\n"
      ],
      "text/plain": [
       "ScenarioList([Scenario({'id': '101', 'question': 'What do you like most about using our online marketplace?', 'answer': 'The wide variety of products and the ease of use.'}), Scenario({'id': '101', 'question': 'What is one feature you would like to see added to improve your shopping experience?', 'answer': 'It would be great to have a personalized recommendation system based on my browsing history.'}), Scenario({'id': '101', 'question': 'Can you describe a recent experience where you were dissatisfied with our service?', 'answer': 'I was disappointed when an item I ordered arrived damaged, but customer service quickly resolved it.'}), Scenario({'id': '101', 'question': 'How do you feel about the current product search and filtering options?', 'answer': 'The search and filtering options are intuitive and work well for me.'}), Scenario({'id': '101', 'question': 'Is there anything else you would like to share about your experience with us?', 'answer': 'No, keep up the great work!'}), Scenario({'id': '102', 'question': 'What do you like most about using our online marketplace?', 'answer': 'I enjoy the simplicity of the interface.'}), Scenario({'id': '102', 'question': 'What is one feature you would like to see added to improve your shopping experience?', 'answer': 'A feature that helps compare similar products side by side would be useful.'}), Scenario({'id': '102', 'question': 'Can you describe a recent experience where you were dissatisfied with our service?', 'answer': 'No complaints here.'}), Scenario({'id': '102', 'question': 'How do you feel about the current product search and filtering options?', 'answer': 'I find the product search to be pretty effective.'}), Scenario({'id': '102', 'question': 'Is there anything else you would like to share about your experience with us?', 'answer': 'I think the sky is a beautiful shade of purple today.'}), Scenario({'id': '103', 'question': 'What do you like most about using our online marketplace?', 'answer': 'The platform is user-friendly and offers a vast selection of products.'}), Scenario({'id': '103', 'question': 'What is one feature you would like to see added to improve your shopping experience?', 'answer': 'Would love to see an option to save and compare different products.'}), Scenario({'id': '103', 'question': 'Can you describe a recent experience where you were dissatisfied with our service?', 'answer': 'My delivery was late by a few days, which was frustrating.'}), Scenario({'id': '103', 'question': 'How do you feel about the current product search and filtering options?', 'answer': 'It’s okay.'}), Scenario({'id': '103', 'question': 'Is there anything else you would like to share about your experience with us?', 'answer': 'No.'})])"
      ]
     },
     "execution_count": 18,
     "metadata": {},
     "output_type": "execute_result"
    }
   ],
   "source": [
    "sl_qa = sl_qa.rename({\"Respondent ID\": \"id\", \"variable\": \"question\", \"value\": \"answer\"})\n",
    "sl_qa"
   ]
  },
  {
   "cell_type": "code",
   "execution_count": 19,
   "id": "076719cb-fd16-4f75-90e3-fc1554d6c5ca",
   "metadata": {},
   "outputs": [],
   "source": [
    "from edsl import QuestionYesNo\n",
    "\n",
    "q_responsive = QuestionYesNo(\n",
    "    question_name = \"responsive\",\n",
    "    question_text = \"Is this answer responsive to the question that was asked? Question: {{ question }} Answer: {{ answer }}\"\n",
    ")"
   ]
  },
  {
   "cell_type": "code",
   "execution_count": 20,
   "id": "1f1e524c-9525-4683-aade-4f3bb33b238a",
   "metadata": {},
   "outputs": [],
   "source": [
    "results = q_responsive.by(sl_qa).run()"
   ]
  },
  {
   "cell_type": "code",
   "execution_count": 21,
   "id": "99b90830-46c8-40a8-b1b0-d6bc79c42cbb",
   "metadata": {},
   "outputs": [
    {
     "data": {
      "text/html": [
       "<pre style=\"white-space:pre;overflow-x:auto;line-height:normal;font-family:Menlo,'DejaVu Sans Mono',consolas,'Courier New',monospace\">┏━━━━━━━━━━┳━━━━━━━━━━━━━━━━━━━━━━━━━━━━━━━━━━━━━━━━━━━━━━━━━━━┳━━━━━━━━━━━━━━━━━━━━━━━━━━━━━━━━━━━━━━━━━━━━━━━━━━┓\n",
       "┃<span style=\"color: #800080; text-decoration-color: #800080; font-weight: bold\"> scenario </span>┃<span style=\"color: #800080; text-decoration-color: #800080; font-weight: bold\"> scenario                                          </span>┃<span style=\"color: #800080; text-decoration-color: #800080; font-weight: bold\"> scenario                                         </span>┃\n",
       "┃<span style=\"color: #800080; text-decoration-color: #800080; font-weight: bold\"> .id      </span>┃<span style=\"color: #800080; text-decoration-color: #800080; font-weight: bold\"> .question                                         </span>┃<span style=\"color: #800080; text-decoration-color: #800080; font-weight: bold\"> .answer                                          </span>┃\n",
       "┡━━━━━━━━━━╇━━━━━━━━━━━━━━━━━━━━━━━━━━━━━━━━━━━━━━━━━━━━━━━━━━━╇━━━━━━━━━━━━━━━━━━━━━━━━━━━━━━━━━━━━━━━━━━━━━━━━━━┩\n",
       "│<span style=\"color: #7f7f7f; text-decoration-color: #7f7f7f\"> 102      </span>│<span style=\"color: #7f7f7f; text-decoration-color: #7f7f7f\"> Can you describe a recent experience where you    </span>│<span style=\"color: #7f7f7f; text-decoration-color: #7f7f7f\"> No complaints here.                              </span>│\n",
       "│<span style=\"color: #7f7f7f; text-decoration-color: #7f7f7f\">          </span>│<span style=\"color: #7f7f7f; text-decoration-color: #7f7f7f\"> were dissatisfied with our service?               </span>│<span style=\"color: #7f7f7f; text-decoration-color: #7f7f7f\">                                                  </span>│\n",
       "├──────────┼───────────────────────────────────────────────────┼──────────────────────────────────────────────────┤\n",
       "│<span style=\"color: #7f7f7f; text-decoration-color: #7f7f7f\"> 102      </span>│<span style=\"color: #7f7f7f; text-decoration-color: #7f7f7f\"> Is there anything else you would like to share    </span>│<span style=\"color: #7f7f7f; text-decoration-color: #7f7f7f\"> I think the sky is a beautiful shade of purple   </span>│\n",
       "│<span style=\"color: #7f7f7f; text-decoration-color: #7f7f7f\">          </span>│<span style=\"color: #7f7f7f; text-decoration-color: #7f7f7f\"> about your experience with us?                    </span>│<span style=\"color: #7f7f7f; text-decoration-color: #7f7f7f\"> today.                                           </span>│\n",
       "└──────────┴───────────────────────────────────────────────────┴──────────────────────────────────────────────────┘\n",
       "</pre>\n"
      ],
      "text/plain": [
       "┏━━━━━━━━━━┳━━━━━━━━━━━━━━━━━━━━━━━━━━━━━━━━━━━━━━━━━━━━━━━━━━━┳━━━━━━━━━━━━━━━━━━━━━━━━━━━━━━━━━━━━━━━━━━━━━━━━━━┓\n",
       "┃\u001b[1;35m \u001b[0m\u001b[1;35mscenario\u001b[0m\u001b[1;35m \u001b[0m┃\u001b[1;35m \u001b[0m\u001b[1;35mscenario                                         \u001b[0m\u001b[1;35m \u001b[0m┃\u001b[1;35m \u001b[0m\u001b[1;35mscenario                                        \u001b[0m\u001b[1;35m \u001b[0m┃\n",
       "┃\u001b[1;35m \u001b[0m\u001b[1;35m.id     \u001b[0m\u001b[1;35m \u001b[0m┃\u001b[1;35m \u001b[0m\u001b[1;35m.question                                        \u001b[0m\u001b[1;35m \u001b[0m┃\u001b[1;35m \u001b[0m\u001b[1;35m.answer                                         \u001b[0m\u001b[1;35m \u001b[0m┃\n",
       "┡━━━━━━━━━━╇━━━━━━━━━━━━━━━━━━━━━━━━━━━━━━━━━━━━━━━━━━━━━━━━━━━╇━━━━━━━━━━━━━━━━━━━━━━━━━━━━━━━━━━━━━━━━━━━━━━━━━━┩\n",
       "│\u001b[2m \u001b[0m\u001b[2m102     \u001b[0m\u001b[2m \u001b[0m│\u001b[2m \u001b[0m\u001b[2mCan you describe a recent experience where you   \u001b[0m\u001b[2m \u001b[0m│\u001b[2m \u001b[0m\u001b[2mNo complaints here.                             \u001b[0m\u001b[2m \u001b[0m│\n",
       "│\u001b[2m          \u001b[0m│\u001b[2m \u001b[0m\u001b[2mwere dissatisfied with our service?              \u001b[0m\u001b[2m \u001b[0m│\u001b[2m                                                  \u001b[0m│\n",
       "├──────────┼───────────────────────────────────────────────────┼──────────────────────────────────────────────────┤\n",
       "│\u001b[2m \u001b[0m\u001b[2m102     \u001b[0m\u001b[2m \u001b[0m│\u001b[2m \u001b[0m\u001b[2mIs there anything else you would like to share   \u001b[0m\u001b[2m \u001b[0m│\u001b[2m \u001b[0m\u001b[2mI think the sky is a beautiful shade of purple  \u001b[0m\u001b[2m \u001b[0m│\n",
       "│\u001b[2m          \u001b[0m│\u001b[2m \u001b[0m\u001b[2mabout your experience with us?                   \u001b[0m\u001b[2m \u001b[0m│\u001b[2m \u001b[0m\u001b[2mtoday.                                          \u001b[0m\u001b[2m \u001b[0m│\n",
       "└──────────┴───────────────────────────────────────────────────┴──────────────────────────────────────────────────┘\n"
      ]
     },
     "metadata": {},
     "output_type": "display_data"
    }
   ],
   "source": [
    "(results\n",
    " .filter(\"responsive == 'No'\")\n",
    " .select(\"id\", \"question\", \"answer\")\n",
    " .print(format=\"rich\")\n",
    ")"
   ]
  },
  {
   "cell_type": "markdown",
   "id": "eeac0787-133c-45aa-8abc-4fe40863b1b9",
   "metadata": {},
   "source": [
    "## Uploading content to the Coop\n",
    "[Coop](https://www.expectedparrot.com/explore) is a new platform for creating, storing and sharing LLM-based research. It is fully integrated with EDSL, and a convenient place to post and access surveys, agents, results and notebooks. [Learn more about using the Coop](https://docs.expectedparrot.com/en/latest/coop.html).\n",
    "\n",
    "Here we post the contents of this notebook:"
   ]
  },
  {
   "cell_type": "code",
   "execution_count": 22,
   "id": "b10a033e-037c-4a09-90fe-f9fbc7a20702",
   "metadata": {},
   "outputs": [],
   "source": [
    "from edsl import Notebook"
   ]
  },
  {
   "cell_type": "code",
   "execution_count": 23,
   "id": "5c624e10-eb2f-487c-9f60-83fe4c7b8627",
   "metadata": {},
   "outputs": [],
   "source": [
    "n = Notebook(path = \"scenariolist_unpivot.ipynb\")"
   ]
  },
  {
   "cell_type": "code",
   "execution_count": 24,
   "id": "f9b53a2a-66bd-4752-8323-663c3f7c37a2",
   "metadata": {},
   "outputs": [
    {
     "data": {
      "text/plain": [
       "{'description': 'ScenarioList methods for sense checking survey data',\n",
       " 'object_type': 'notebook',\n",
       " 'url': 'https://www.expectedparrot.com/content/a8346e52-3284-4734-9e10-8d755059192f',\n",
       " 'uuid': 'a8346e52-3284-4734-9e10-8d755059192f',\n",
       " 'version': '0.1.33.dev1',\n",
       " 'visibility': 'public'}"
      ]
     },
     "execution_count": 24,
     "metadata": {},
     "output_type": "execute_result"
    }
   ],
   "source": [
    "n.push(description = \"ScenarioList methods for sense checking survey data\", visibility = \"public\")"
   ]
  },
  {
   "cell_type": "markdown",
   "id": "56d44c9f-92dd-4e09-9d18-224acc0972fd",
   "metadata": {},
   "source": [
    "To update an object at the Coop:"
   ]
  },
  {
   "cell_type": "code",
   "execution_count": 25,
   "id": "32f4d28a-cad6-4694-b2b3-5af8664602a6",
   "metadata": {},
   "outputs": [
    {
     "data": {
      "text/plain": [
       "{'status': 'success'}"
      ]
     },
     "execution_count": 25,
     "metadata": {},
     "output_type": "execute_result"
    }
   ],
   "source": [
    "n = Notebook(path = \"scenariolist_unpivot.ipynb\")\n",
    "\n",
    "n.patch(uuid = \"a8346e52-3284-4734-9e10-8d755059192f\", value = n)"
   ]
  },
  {
   "cell_type": "code",
   "execution_count": null,
   "id": "095c8130-9190-4cc5-b669-dd90030a943e",
   "metadata": {},
   "outputs": [],
   "source": []
  }
 ],
 "metadata": {
  "kernelspec": {
   "display_name": "Python 3 (ipykernel)",
   "language": "python",
   "name": "python3"
  },
  "language_info": {
   "codemirror_mode": {
    "name": "ipython",
    "version": 3
   },
   "file_extension": ".py",
   "mimetype": "text/x-python",
   "name": "python",
   "nbconvert_exporter": "python",
   "pygments_lexer": "ipython3",
   "version": "3.11.7"
  }
 },
 "nbformat": 4,
 "nbformat_minor": 5
}
