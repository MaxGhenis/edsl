{
 "cells": [
  {
   "cell_type": "markdown",
   "id": "f3e05c2b-1f28-466d-9a54-8b7c554c9d1e",
   "metadata": {
    "editable": true,
    "slideshow": {
     "slide_type": ""
    },
    "tags": []
   },
   "source": [
    "# Using EDSL to sense check data\n",
    "This notebook provides example code for sense checking survey data using [EDSL](https://docs.expectedparrot.com), an open-source library for simulating surveys, experiments and market research with AI agents and large language models. \n",
    "\n",
    "## Contents\n",
    "Using a set of responses to a survey about online marketplaces as an example, we demonstrate EDSL methods for: \n",
    "\n",
    "1. Evaluating survey questions (e.g., for clarity and improvements)\n",
    "2. Analyzing each respondent's set of answers (e.g., to summarize or identify sentiment, themes, etc.)\n",
    "3. Reviewing each answer individually (e.g., to evaluate its relevance or usefulness)\n",
    "\n",
    "## Coop\n",
    "We also show how to post EDSL questions, surveys, results and notebooks (like this one) to [Coop: an integrated platform for creating and sharing LLM-based research](https://www.expectedparrot.com/explore). \n",
    "\n",
    "## How EDSL works\n",
    "EDSL is a flexible library that can be used to perform a broad variety of research tasks. A typical workflow consists of the following steps:\n",
    "\n",
    "* Construct questions  \n",
    "* Add data to the questions (e.g., for data labeling tasks)\n",
    "* Use an AI agent to answer the questions\n",
    "* Select a language model to generate the answers\n",
    "* Analyze results in a formatted dataset\n",
    "\n",
    "## Technical setup\n",
    "Before running the code below please ensure that you have completed setup:\n",
    "\n",
    "* [Install](https://docs.expectedparrot.com/en/latest/installation.html) the EDSL library.\n",
    "* Create a [Coop account](https://www.expectedparrot.com/login) and activate [remote inference](https://docs.expectedparrot.com/en/latest/remote_inference.html) OR store your own [API Keys](https://docs.expectedparrot.com/en/latest/api_keys.html) for language models that you want to use.\n",
    "\n",
    "Our [Starter Tutorial](https://docs.expectedparrot.com/en/latest/starter_tutorial.html) provides examples of EDSL basic components. "
   ]
  },
  {
   "cell_type": "markdown",
   "id": "f1986963-2a7f-4bd7-9f0b-0e3ccfb00e02",
   "metadata": {
    "editable": true,
    "slideshow": {
     "slide_type": ""
    },
    "tags": []
   },
   "source": [
    "## Example data\n",
    "Our example data is a CSV consisting of several questions and a few rows of responses.\n",
    "Here we store it at the Coop and then re-import it.\n",
    "\n",
    "To post an object:\n",
    "\n",
    "    from edsl import FileStore\n",
    "    \n",
    "    fs = FileStore(\"marketplace_survey_results.csv\")\n",
    "    fs.push(description = \"mock marketplace survey results\")\n",
    "\n",
    "This returns details of the object we can use to retrieve it:\n",
    "\n",
    "    {'description': 'mock marketplace survey results',\n",
    "     'object_type': 'scenario',\n",
    "     'url': 'https://www.expectedparrot.com/content/7e8d0aa8-dfc6-42e5-90a6-4b428d0d9b4c',\n",
    "     'uuid': '7e8d0aa8-dfc6-42e5-90a6-4b428d0d9b4c',\n",
    "     'version': '0.1.47.dev1',\n",
    "     'visibility': 'unlisted'}"
   ]
  },
  {
   "cell_type": "code",
   "execution_count": 1,
   "id": "6f7c3ed3-97c4-4f18-ad0d-4c149a3f844b",
   "metadata": {
    "editable": true,
    "slideshow": {
     "slide_type": ""
    },
    "tags": []
   },
   "outputs": [],
   "source": [
    "from edsl import FileStore"
   ]
  },
  {
   "cell_type": "code",
   "execution_count": 2,
   "id": "43a3ea5e-d7be-4e13-80e3-a9abfb144ed3",
   "metadata": {
    "editable": true,
    "slideshow": {
     "slide_type": ""
    },
    "tags": []
   },
   "outputs": [],
   "source": [
    "csv_file = FileStore.pull(\"7e8d0aa8-dfc6-42e5-90a6-4b428d0d9b4c\")"
   ]
  },
  {
   "cell_type": "markdown",
   "id": "1f73e0f9-1af9-41ae-901e-53fc64a3c545",
   "metadata": {
    "editable": true,
    "slideshow": {
     "slide_type": ""
    },
    "tags": []
   },
   "source": [
    "## Creating questions about the data\n",
    "There are many questions we might want to ask about the data, such as:\n",
    "\n",
    "* Does this survey question have any logical or syntactical problems? {{ *question* }}\n",
    "* What is the overall sentiment of this respondent's answers? {{ *responses* }}\n",
    "* Is this answer responsive to the question that was asked? {{ *question* }} {{ *answer* }}"
   ]
  },
  {
   "cell_type": "markdown",
   "id": "57c30c86-ac26-4d0f-a8be-fc95e5d2ad85",
   "metadata": {
    "editable": true,
    "slideshow": {
     "slide_type": ""
    },
    "tags": []
   },
   "source": [
    "## Question types\n",
    "EDSL comes with many common question types that we can select from based on the form of the response that we want to get back from the model: multiple choice, checkbox, linear scale, free text, etc. [Learn more about EDSL question types](https://docs.expectedparrot.com/en/latest/questions.html).\n",
    "\n",
    "Here we construct `Question` objects for the questions that we want to ask about the data, using `{{ placeholders }}` for the information that we will add to the questions in the steps that follow:"
   ]
  },
  {
   "cell_type": "code",
   "execution_count": 3,
   "id": "d79f413a-ae95-4493-9d2f-ab573b08b635",
   "metadata": {
    "editable": true,
    "slideshow": {
     "slide_type": ""
    },
    "tags": []
   },
   "outputs": [],
   "source": [
    "from edsl import QuestionFreeText, QuestionMultipleChoice, QuestionYesNo"
   ]
  },
  {
   "cell_type": "code",
   "execution_count": 4,
   "id": "21a46fac-9bc6-4fad-9b47-91ea04f896a3",
   "metadata": {
    "editable": true,
    "slideshow": {
     "slide_type": ""
    },
    "tags": []
   },
   "outputs": [],
   "source": [
    "q_logic = QuestionFreeText(\n",
    "    question_name = \"logic\",\n",
    "    question_text = \"Describe any logical or syntactical problems in the following survey question: {{ scenario.question }}\"\n",
    ")"
   ]
  },
  {
   "cell_type": "code",
   "execution_count": 5,
   "id": "3f85f392-3807-4672-8b7e-ef83526c46f2",
   "metadata": {
    "editable": true,
    "slideshow": {
     "slide_type": ""
    },
    "tags": []
   },
   "outputs": [],
   "source": [
    "q_sentiment = QuestionMultipleChoice(\n",
    "    question_name = \"sentiment\",\n",
    "    question_text = \"What is the overall sentiment of this respondent's survey answers? {{ scenario.responses }}\",\n",
    "    question_options = [\"Very unsatisfied\", \"Somewhat unsatisfied\", \"Somewhat satisfied\", \"Very satisfied\"]\n",
    ")"
   ]
  },
  {
   "cell_type": "code",
   "execution_count": 6,
   "id": "dc72fa3a-a338-4705-9b01-53f461724422",
   "metadata": {
    "editable": true,
    "slideshow": {
     "slide_type": ""
    },
    "tags": []
   },
   "outputs": [],
   "source": [
    "q_responsive = QuestionYesNo(\n",
    "    question_name = \"responsive\",\n",
    "    question_text = \"Is this answer responsive to the question that was asked? Question: {{ scenario.question }} Answer: {{ scenario.answer }}\"\n",
    ")"
   ]
  },
  {
   "cell_type": "markdown",
   "id": "d0431ad6-62a1-45b1-91ec-6b872e6050c8",
   "metadata": {
    "editable": true,
    "slideshow": {
     "slide_type": ""
    },
    "tags": []
   },
   "source": [
    "## Adding survey data to the questions\n",
    "Next we'll add our data to our questions. This can be done efficiently by creating a `ScenarioList` representing the data. The individual `Scenario` objects in the list can be constructed in a variety of ways depending on the information that we want to include in a particular question.\n",
    "\n",
    "We start by calling the `from_csv()` method to create a `ScenarioList` for the data in its original form. We can see that this generates a `Scenario` dictionary for each respondent's set of answers with key/value pairs for the individual questions and answers: "
   ]
  },
  {
   "cell_type": "code",
   "execution_count": 7,
   "id": "ec4b239d-c991-4e6f-b9ab-c369a990a748",
   "metadata": {
    "editable": true,
    "slideshow": {
     "slide_type": ""
    },
    "tags": []
   },
   "outputs": [],
   "source": [
    "from edsl import ScenarioList"
   ]
  },
  {
   "cell_type": "code",
   "execution_count": 8,
   "id": "d3d88d16-48d7-419a-9562-558825c08fff",
   "metadata": {
    "editable": true,
    "slideshow": {
     "slide_type": ""
    },
    "tags": []
   },
   "outputs": [
    {
     "data": {
      "text/html": [
       "<p><a href='https://docs.expectedparrot.com/en/latest/scenarios.html#scenariolist'>ScenarioList</a> scenarios: 3; keys: ['How do you feel about the current product search and filtering options?', 'Can you describe a recent experience where you were dissatisfied with our service?', 'Respondent ID', 'What is one feature you would like to see added to improve your shopping experience?', 'What do you like most about using our online marketplace?', 'Is there anything else you would like to share about your experience with us?'];</p>\n",
       "            <div style=\"max-height: 500px; overflow-y: auto;\">\n",
       "                <style type=\"text/css\">\n",
       "#T_dde25_row0_col0 {\n",
       "  text-align: left;\n",
       "  background-color: #fff7fb;\n",
       "  color: #000000;\n",
       "}\n",
       "#T_dde25_row0_col1, #T_dde25_row0_col2, #T_dde25_row0_col3, #T_dde25_row0_col4, #T_dde25_row0_col5, #T_dde25_row1_col1, #T_dde25_row1_col2, #T_dde25_row1_col3, #T_dde25_row1_col4, #T_dde25_row1_col5, #T_dde25_row2_col1, #T_dde25_row2_col2, #T_dde25_row2_col3, #T_dde25_row2_col4, #T_dde25_row2_col5 {\n",
       "  text-align: left;\n",
       "}\n",
       "#T_dde25_row1_col0 {\n",
       "  text-align: left;\n",
       "  background-color: #73a9cf;\n",
       "  color: #f1f1f1;\n",
       "}\n",
       "#T_dde25_row2_col0 {\n",
       "  text-align: left;\n",
       "  background-color: #023858;\n",
       "  color: #f1f1f1;\n",
       "}\n",
       "</style>\n",
       "<table id=\"T_dde25\">\n",
       "  <thead>\n",
       "    <tr>\n",
       "      <th class=\"blank level0\" >&nbsp;</th>\n",
       "      <th id=\"T_dde25_level0_col0\" class=\"col_heading level0 col0\" >Respondent ID</th>\n",
       "      <th id=\"T_dde25_level0_col1\" class=\"col_heading level0 col1\" >What do you like most about using our online marketplace?</th>\n",
       "      <th id=\"T_dde25_level0_col2\" class=\"col_heading level0 col2\" >What is one feature you would like to see added to improve your shopping experience?</th>\n",
       "      <th id=\"T_dde25_level0_col3\" class=\"col_heading level0 col3\" >Can you describe a recent experience where you were dissatisfied with our service?</th>\n",
       "      <th id=\"T_dde25_level0_col4\" class=\"col_heading level0 col4\" >How do you feel about the current product search and filtering options?</th>\n",
       "      <th id=\"T_dde25_level0_col5\" class=\"col_heading level0 col5\" >Is there anything else you would like to share about your experience with us?</th>\n",
       "    </tr>\n",
       "  </thead>\n",
       "  <tbody>\n",
       "    <tr>\n",
       "      <th id=\"T_dde25_level0_row0\" class=\"row_heading level0 row0\" >0</th>\n",
       "      <td id=\"T_dde25_row0_col0\" class=\"data row0 col0\" >101</td>\n",
       "      <td id=\"T_dde25_row0_col1\" class=\"data row0 col1\" >The wide variety of products and the ease of use.</td>\n",
       "      <td id=\"T_dde25_row0_col2\" class=\"data row0 col2\" >It would be great to have a personalized recommendation system based on my browsing history.</td>\n",
       "      <td id=\"T_dde25_row0_col3\" class=\"data row0 col3\" >I was disappointed when an item I ordered arrived damaged, but customer service quickly resolved it.</td>\n",
       "      <td id=\"T_dde25_row0_col4\" class=\"data row0 col4\" >The search and filtering options are intuitive and work well for me.</td>\n",
       "      <td id=\"T_dde25_row0_col5\" class=\"data row0 col5\" >No, keep up the great work!</td>\n",
       "    </tr>\n",
       "    <tr>\n",
       "      <th id=\"T_dde25_level0_row1\" class=\"row_heading level0 row1\" >1</th>\n",
       "      <td id=\"T_dde25_row1_col0\" class=\"data row1 col0\" >102</td>\n",
       "      <td id=\"T_dde25_row1_col1\" class=\"data row1 col1\" >I enjoy the simplicity of the interface.</td>\n",
       "      <td id=\"T_dde25_row1_col2\" class=\"data row1 col2\" >A feature that helps compare similar products side by side would be useful.</td>\n",
       "      <td id=\"T_dde25_row1_col3\" class=\"data row1 col3\" >No complaints here.</td>\n",
       "      <td id=\"T_dde25_row1_col4\" class=\"data row1 col4\" >I find the product search to be pretty effective.</td>\n",
       "      <td id=\"T_dde25_row1_col5\" class=\"data row1 col5\" >I think the sky is a beautiful shade of purple today.</td>\n",
       "    </tr>\n",
       "    <tr>\n",
       "      <th id=\"T_dde25_level0_row2\" class=\"row_heading level0 row2\" >2</th>\n",
       "      <td id=\"T_dde25_row2_col0\" class=\"data row2 col0\" >103</td>\n",
       "      <td id=\"T_dde25_row2_col1\" class=\"data row2 col1\" >The platform is user-friendly and offers a vast selection of products.</td>\n",
       "      <td id=\"T_dde25_row2_col2\" class=\"data row2 col2\" >Would love to see an option to save and compare different products.</td>\n",
       "      <td id=\"T_dde25_row2_col3\" class=\"data row2 col3\" >My delivery was late by a few days, which was frustrating.</td>\n",
       "      <td id=\"T_dde25_row2_col4\" class=\"data row2 col4\" >It’s okay.</td>\n",
       "      <td id=\"T_dde25_row2_col5\" class=\"data row2 col5\" >No.</td>\n",
       "    </tr>\n",
       "  </tbody>\n",
       "</table>\n",
       "\n",
       "            </div>\n",
       "            "
      ],
      "text/plain": [
       "ScenarioList([Scenario({'Respondent ID': '101', 'What do you like most about using our online marketplace?': 'The wide variety of products and the ease of use.', 'What is one feature you would like to see added to improve your shopping experience?': 'It would be great to have a personalized recommendation system based on my browsing history.', 'Can you describe a recent experience where you were dissatisfied with our service?': 'I was disappointed when an item I ordered arrived damaged, but customer service quickly resolved it.', 'How do you feel about the current product search and filtering options?': 'The search and filtering options are intuitive and work well for me.', 'Is there anything else you would like to share about your experience with us?': 'No, keep up the great work!'}), Scenario({'Respondent ID': '102', 'What do you like most about using our online marketplace?': 'I enjoy the simplicity of the interface.', 'What is one feature you would like to see added to improve your shopping experience?': 'A feature that helps compare similar products side by side would be useful.', 'Can you describe a recent experience where you were dissatisfied with our service?': 'No complaints here.', 'How do you feel about the current product search and filtering options?': 'I find the product search to be pretty effective.', 'Is there anything else you would like to share about your experience with us?': 'I think the sky is a beautiful shade of purple today.'}), Scenario({'Respondent ID': '103', 'What do you like most about using our online marketplace?': 'The platform is user-friendly and offers a vast selection of products.', 'What is one feature you would like to see added to improve your shopping experience?': 'Would love to see an option to save and compare different products.', 'Can you describe a recent experience where you were dissatisfied with our service?': 'My delivery was late by a few days, which was frustrating.', 'How do you feel about the current product search and filtering options?': 'It’s okay.', 'Is there anything else you would like to share about your experience with us?': 'No.'})])"
      ]
     },
     "execution_count": 8,
     "metadata": {},
     "output_type": "execute_result"
    }
   ],
   "source": [
    "sl = ScenarioList.from_csv(csv_file.to_tempfile()) # replace with CSV file name if importing a local file\n",
    "sl"
   ]
  },
  {
   "cell_type": "markdown",
   "id": "86cceffb-bc56-4e60-8687-da56f61128c9",
   "metadata": {
    "editable": true,
    "slideshow": {
     "slide_type": ""
    },
    "tags": []
   },
   "source": [
    "## Evaluating the questions\n",
    "For our first question we want to create a `Scenario` for each survey question:"
   ]
  },
  {
   "cell_type": "code",
   "execution_count": 9,
   "id": "a54ced10-a684-4510-ad7a-85b2f886e61c",
   "metadata": {
    "editable": true,
    "slideshow": {
     "slide_type": ""
    },
    "tags": []
   },
   "outputs": [],
   "source": [
    "from edsl import QuestionFreeText, Survey\n",
    "\n",
    "q_logic = QuestionFreeText(\n",
    "    question_name = \"logic\",\n",
    "    question_text = \"Describe any logical or syntactical problems in the following survey question: {{ scenario.question }}\"\n",
    ")\n",
    "\n",
    "q_improved = QuestionFreeText(\n",
    "    question_name = \"improved\",\n",
    "    question_text = \"Please draft an improved version of the survey question. Return only the revised question text.\"\n",
    ")\n",
    "\n",
    "survey = Survey([q_logic, q_improved]).add_targeted_memory(q_improved, q_logic)"
   ]
  },
  {
   "cell_type": "markdown",
   "id": "74982aec-3d58-44f2-aaa5-b9753ec71da0",
   "metadata": {
    "editable": true,
    "slideshow": {
     "slide_type": ""
    },
    "tags": []
   },
   "source": [
    "The survey questions are the `parameters` of the `ScenarioList` created above:"
   ]
  },
  {
   "cell_type": "code",
   "execution_count": 10,
   "id": "a7ae21a0-fdca-4d74-b09f-34176ab3e5e2",
   "metadata": {
    "editable": true,
    "slideshow": {
     "slide_type": ""
    },
    "tags": []
   },
   "outputs": [
    {
     "data": {
      "text/plain": [
       "['How do you feel about the current product search and filtering options?',\n",
       " 'Can you describe a recent experience where you were dissatisfied with our service?',\n",
       " 'Respondent ID',\n",
       " 'What is one feature you would like to see added to improve your shopping experience?',\n",
       " 'What do you like most about using our online marketplace?',\n",
       " 'Is there anything else you would like to share about your experience with us?']"
      ]
     },
     "execution_count": 10,
     "metadata": {},
     "output_type": "execute_result"
    }
   ],
   "source": [
    "questions = list(sl.parameters)\n",
    "questions"
   ]
  },
  {
   "cell_type": "markdown",
   "id": "160ce53e-1e04-4537-952b-2abb045d9a00",
   "metadata": {
    "editable": true,
    "slideshow": {
     "slide_type": ""
    },
    "tags": []
   },
   "source": [
    "We can pass them to the `from_list()` method to create a new `ScenarioList`, specifying that the key for each `Scenario` will be `question` in order to match the parameter of our logic question:"
   ]
  },
  {
   "cell_type": "code",
   "execution_count": 11,
   "id": "47e56caa-696e-4510-98f0-1e3044584cce",
   "metadata": {
    "editable": true,
    "slideshow": {
     "slide_type": ""
    },
    "tags": []
   },
   "outputs": [
    {
     "data": {
      "text/html": [
       "<p><a href='https://docs.expectedparrot.com/en/latest/scenarios.html#scenariolist'>ScenarioList</a> scenarios: 6; keys: ['question'];</p>\n",
       "            <div style=\"max-height: 500px; overflow-y: auto;\">\n",
       "                <style type=\"text/css\">\n",
       "#T_6d84d_row0_col0, #T_6d84d_row1_col0, #T_6d84d_row2_col0, #T_6d84d_row3_col0, #T_6d84d_row4_col0, #T_6d84d_row5_col0 {\n",
       "  text-align: left;\n",
       "}\n",
       "</style>\n",
       "<table id=\"T_6d84d\">\n",
       "  <thead>\n",
       "    <tr>\n",
       "      <th class=\"blank level0\" >&nbsp;</th>\n",
       "      <th id=\"T_6d84d_level0_col0\" class=\"col_heading level0 col0\" >question</th>\n",
       "    </tr>\n",
       "  </thead>\n",
       "  <tbody>\n",
       "    <tr>\n",
       "      <th id=\"T_6d84d_level0_row0\" class=\"row_heading level0 row0\" >0</th>\n",
       "      <td id=\"T_6d84d_row0_col0\" class=\"data row0 col0\" >How do you feel about the current product search and filtering options?</td>\n",
       "    </tr>\n",
       "    <tr>\n",
       "      <th id=\"T_6d84d_level0_row1\" class=\"row_heading level0 row1\" >1</th>\n",
       "      <td id=\"T_6d84d_row1_col0\" class=\"data row1 col0\" >Can you describe a recent experience where you were dissatisfied with our service?</td>\n",
       "    </tr>\n",
       "    <tr>\n",
       "      <th id=\"T_6d84d_level0_row2\" class=\"row_heading level0 row2\" >2</th>\n",
       "      <td id=\"T_6d84d_row2_col0\" class=\"data row2 col0\" >Respondent ID</td>\n",
       "    </tr>\n",
       "    <tr>\n",
       "      <th id=\"T_6d84d_level0_row3\" class=\"row_heading level0 row3\" >3</th>\n",
       "      <td id=\"T_6d84d_row3_col0\" class=\"data row3 col0\" >What is one feature you would like to see added to improve your shopping experience?</td>\n",
       "    </tr>\n",
       "    <tr>\n",
       "      <th id=\"T_6d84d_level0_row4\" class=\"row_heading level0 row4\" >4</th>\n",
       "      <td id=\"T_6d84d_row4_col0\" class=\"data row4 col0\" >What do you like most about using our online marketplace?</td>\n",
       "    </tr>\n",
       "    <tr>\n",
       "      <th id=\"T_6d84d_level0_row5\" class=\"row_heading level0 row5\" >5</th>\n",
       "      <td id=\"T_6d84d_row5_col0\" class=\"data row5 col0\" >Is there anything else you would like to share about your experience with us?</td>\n",
       "    </tr>\n",
       "  </tbody>\n",
       "</table>\n",
       "\n",
       "            </div>\n",
       "            "
      ],
      "text/plain": [
       "ScenarioList([Scenario({'question': 'How do you feel about the current product search and filtering options?'}), Scenario({'question': 'Can you describe a recent experience where you were dissatisfied with our service?'}), Scenario({'question': 'Respondent ID'}), Scenario({'question': 'What is one feature you would like to see added to improve your shopping experience?'}), Scenario({'question': 'What do you like most about using our online marketplace?'}), Scenario({'question': 'Is there anything else you would like to share about your experience with us?'})])"
      ]
     },
     "execution_count": 11,
     "metadata": {},
     "output_type": "execute_result"
    }
   ],
   "source": [
    "sl_questions = ScenarioList.from_list(\"question\", questions)\n",
    "sl_questions"
   ]
  },
  {
   "cell_type": "markdown",
   "id": "9b81e0e9-e943-46b4-9b7a-80abe151adc9",
   "metadata": {
    "editable": true,
    "slideshow": {
     "slide_type": ""
    },
    "tags": []
   },
   "source": [
    "We select a model to use, and then add the scenarios to the survey when we run it:"
   ]
  },
  {
   "cell_type": "code",
   "execution_count": 12,
   "id": "caa10cca-b0c2-4a87-95f0-0682b0f68def",
   "metadata": {
    "editable": true,
    "slideshow": {
     "slide_type": ""
    },
    "tags": []
   },
   "outputs": [],
   "source": [
    "from edsl import Model\n",
    "\n",
    "m = Model(\"gemini-1.5-flash\")"
   ]
  },
  {
   "cell_type": "code",
   "execution_count": 13,
   "id": "f97b52a1-4beb-4bdb-bea6-dbf48934b7dc",
   "metadata": {
    "editable": true,
    "slideshow": {
     "slide_type": ""
    },
    "tags": []
   },
   "outputs": [
    {
     "data": {
      "text/html": [
       "\n",
       "            <!-- #region Remove Inference Info -->\n",
       "            <div id=\"logger-4f6cc49b-8e5a-4954-a5ec-dff229fd27e7\" class=\"job-logger\">\n",
       "                <div class=\"job-logger-header\">\n",
       "                    <span>\n",
       "                        <span id=\"arrow-4f6cc49b-8e5a-4954-a5ec-dff229fd27e7\">▼</span> \n",
       "                        Job Status (2025-03-03 12:31:33)\n",
       "                    </span>\n",
       "                </div>\n",
       "                <div id=\"content-4f6cc49b-8e5a-4954-a5ec-dff229fd27e7\" style=\"display: block;\">\n",
       "                    <table class=\"job-logger-table\">\n",
       "                        \n",
       "            <tr>\n",
       "                <td class=\"job-logger-cell job-logger-label\">Job UUID</td>\n",
       "                <td class=\"job-logger-cell job-logger-value\">d256dc74-6bcf-4bcd-b077-6af3c31423b2</td>\n",
       "            </tr>\n",
       "        \n",
       "            <tr>\n",
       "                <td class=\"job-logger-cell job-logger-label\">Progress Bar URL</td>\n",
       "                <td class=\"job-logger-cell job-logger-value\"><a href=\"https://www.expectedparrot.com/home/remote-job-progress/d256dc74-6bcf-4bcd-b077-6af3c31423b2\" target=\"_blank\" class=\"job-logger-link\">https://www.expectedparrot.com/home/remote-job-progress/d256dc74-6bcf-4bcd-b077-6af3c31423b2</a></td>\n",
       "            </tr>\n",
       "        \n",
       "            <tr>\n",
       "                <td class=\"job-logger-cell job-logger-label\">Exceptions Report URL</td>\n",
       "                <td class=\"job-logger-cell job-logger-value\">None</td>\n",
       "            </tr>\n",
       "        \n",
       "            <tr>\n",
       "                <td class=\"job-logger-cell job-logger-label\">Results UUID</td>\n",
       "                <td class=\"job-logger-cell job-logger-value\">2e465f6b-0fe7-4076-af66-07ef6a3640e8</td>\n",
       "            </tr>\n",
       "        \n",
       "            <tr>\n",
       "                <td class=\"job-logger-cell job-logger-label\">Results URL</td>\n",
       "                <td class=\"job-logger-cell job-logger-value\"><a href=\"https://www.expectedparrot.com/content/2e465f6b-0fe7-4076-af66-07ef6a3640e8\" target=\"_blank\" class=\"job-logger-link\">https://www.expectedparrot.com/content/2e465f6b-0fe7-4076-af66-07ef6a3640e8</a></td>\n",
       "            </tr>\n",
       "        \n",
       "                    </table>\n",
       "                    \n",
       "                <div class=\"job-logger-status\">\n",
       "                    <span style=\"margin-right: 8px;\" class=\"job-logger-success\">✓</span><strong>Current Status:</strong> Job completed and Results stored on Coop: <a href=\"https://www.expectedparrot.com/content/2e465f6b-0fe7-4076-af66-07ef6a3640e8\" target=\"_blank\" class=\"job-logger-link\">https://www.expectedparrot.com/content/2e465f6b-0fe7-4076-af66-07ef6a3640e8</a>\n",
       "                </div>\n",
       "            \n",
       "                </div>\n",
       "            </div>\n",
       "            <!-- # endregion -->\n",
       "        "
      ],
      "text/plain": [
       "<IPython.core.display.HTML object>"
      ]
     },
     "metadata": {},
     "output_type": "display_data"
    },
    {
     "data": {
      "text/html": [
       "\n",
       "        <style>\n",
       "            /* Base theme variables */\n",
       "            :root {\n",
       "                --jl-bg-primary: #ffffff;\n",
       "                --jl-bg-secondary: #f5f5f5;\n",
       "                --jl-border-color: #e0e0e0;\n",
       "                --jl-text-primary: #24292e;\n",
       "                --jl-text-secondary: #586069;\n",
       "                --jl-link-color: #0366d6;\n",
       "                --jl-success-color: #28a745;\n",
       "                --jl-error-color: #d73a49;\n",
       "                --jl-header-bg: #f1f1f1;\n",
       "            }\n",
       "            \n",
       "            /* Dark theme variables */\n",
       "            .theme-dark {\n",
       "                --jl-bg-primary: #1e1e1e;\n",
       "                --jl-bg-secondary: #252526;\n",
       "                --jl-border-color: #2d2d2d;\n",
       "                --jl-text-primary: #cccccc;\n",
       "                --jl-text-secondary: #999999;\n",
       "                --jl-link-color: #4e94ce;\n",
       "                --jl-success-color: #89d185;\n",
       "                --jl-error-color: #f14c4c;\n",
       "                --jl-header-bg: #333333;\n",
       "            }\n",
       "\n",
       "            /* High contrast theme variables */\n",
       "            .theme-high-contrast {\n",
       "                --jl-bg-primary: #000000;\n",
       "                --jl-bg-secondary: #1a1a1a;\n",
       "                --jl-border-color: #404040;\n",
       "                --jl-text-primary: #ffffff;\n",
       "                --jl-text-secondary: #cccccc;\n",
       "                --jl-link-color: #66b3ff;\n",
       "                --jl-success-color: #00ff00;\n",
       "                --jl-error-color: #ff0000;\n",
       "                --jl-header-bg: #262626;\n",
       "            }\n",
       "            \n",
       "            .job-logger {\n",
       "                font-family: system-ui, -apple-system, sans-serif;\n",
       "                max-width: 800px;\n",
       "                margin: 10px 0;\n",
       "                color: var(--jl-text-primary);\n",
       "                box-shadow: 0 1px 3px rgba(0,0,0,0.12);\n",
       "                border-radius: 4px;\n",
       "                overflow: hidden;\n",
       "            }\n",
       "            \n",
       "            .job-logger-header {\n",
       "                padding: 12px 16px;\n",
       "                background: var(--jl-header-bg);\n",
       "                border: none;\n",
       "                border-radius: 4px 4px 0 0;\n",
       "                cursor: pointer;\n",
       "                color: var(--jl-text-primary);\n",
       "                user-select: none;\n",
       "                font-weight: 500;\n",
       "                letter-spacing: 0.3px;\n",
       "                display: flex;\n",
       "                justify-content: space-between;\n",
       "                align-items: center;\n",
       "            }\n",
       "            \n",
       "            .theme-select {\n",
       "                padding: 4px 8px;\n",
       "                border-radius: 4px;\n",
       "                border: 1px solid var(--jl-border-color);\n",
       "                background: var(--jl-bg-primary);\n",
       "                color: var(--jl-text-primary);\n",
       "                font-size: 0.9em;\n",
       "            }\n",
       "            \n",
       "            .job-logger-table {\n",
       "                width: 100%;\n",
       "                border-collapse: separate;\n",
       "                border-spacing: 0;\n",
       "                background: var(--jl-bg-primary);\n",
       "                border: 1px solid var(--jl-border-color);\n",
       "                margin-top: -1px;\n",
       "            }\n",
       "            \n",
       "            .job-logger-cell {\n",
       "                padding: 12px 16px;\n",
       "                border-bottom: 1px solid var(--jl-border-color);\n",
       "                line-height: 1.4;\n",
       "            }\n",
       "            \n",
       "            .job-logger-label {\n",
       "                font-weight: 500;\n",
       "                color: var(--jl-text-primary);\n",
       "                width: 25%;\n",
       "                background: var(--jl-bg-secondary);\n",
       "            }\n",
       "            \n",
       "            .job-logger-value {\n",
       "                color: var(--jl-text-secondary);\n",
       "                word-break: break-word;\n",
       "            }\n",
       "            \n",
       "            .job-logger-status {\n",
       "                margin: 0;\n",
       "                padding: 12px 16px;\n",
       "                background-color: var(--jl-bg-secondary);\n",
       "                border: 1px solid var(--jl-border-color);\n",
       "                border-top: none;\n",
       "                border-radius: 0 0 4px 4px;\n",
       "                color: var(--jl-text-primary);\n",
       "                font-size: 0.95em;\n",
       "            }\n",
       "        </style>\n",
       "        \n",
       "        <script>\n",
       "            class ThemeManager {\n",
       "                constructor(logId, initialTheme = 'auto') {\n",
       "                    this.logId = logId;\n",
       "                    this.currentTheme = initialTheme;\n",
       "                    this.darkModeMediaQuery = window.matchMedia('(prefers-color-scheme: dark)');\n",
       "                    this.init();\n",
       "                }\n",
       "                \n",
       "                init() {\n",
       "                    this.setupThemeSwitcher();\n",
       "                    this.updateTheme(this.currentTheme);\n",
       "                    \n",
       "                    this.darkModeMediaQuery.addListener(() => {\n",
       "                        if (this.currentTheme === 'auto') {\n",
       "                            this.updateTheme('auto');\n",
       "                        }\n",
       "                    });\n",
       "                }\n",
       "                \n",
       "                setupThemeSwitcher() {\n",
       "                    const logger = document.querySelector(`#logger-${this.logId}`);\n",
       "                    if (!logger) return;\n",
       "                    \n",
       "                    const switcher = document.createElement('div');\n",
       "                    switcher.className = 'theme-switcher';\n",
       "                    switcher.innerHTML = `\n",
       "                        <select id=\"theme-select-${this.logId}\" class=\"theme-select\">\n",
       "                            <option value=\"auto\">Auto</option>\n",
       "                            <option value=\"light\">Light</option>\n",
       "                            <option value=\"dark\">Dark</option>\n",
       "                            <option value=\"high-contrast\">High Contrast</option>\n",
       "                        </select>\n",
       "                    `;\n",
       "                    \n",
       "                    const header = logger.querySelector('.job-logger-header');\n",
       "                    header.appendChild(switcher);\n",
       "                    \n",
       "                    const select = switcher.querySelector('select');\n",
       "                    select.value = this.currentTheme;\n",
       "                    select.addEventListener('change', (e) => {\n",
       "                        this.updateTheme(e.target.value);\n",
       "                    });\n",
       "                }\n",
       "                \n",
       "                updateTheme(theme) {\n",
       "                    const logger = document.querySelector(`#logger-${this.logId}`);\n",
       "                    if (!logger) return;\n",
       "                    \n",
       "                    this.currentTheme = theme;\n",
       "                    \n",
       "                    logger.classList.remove('theme-light', 'theme-dark', 'theme-high-contrast');\n",
       "                    \n",
       "                    if (theme === 'auto') {\n",
       "                        const isDark = this.darkModeMediaQuery.matches;\n",
       "                        logger.classList.add(isDark ? 'theme-dark' : 'theme-light');\n",
       "                    } else {\n",
       "                        logger.classList.add(`theme-${theme}`);\n",
       "                    }\n",
       "                    \n",
       "                    try {\n",
       "                        localStorage.setItem('jobLoggerTheme', theme);\n",
       "                    } catch (e) {\n",
       "                        console.warn('Unable to save theme preference:', e);\n",
       "                    }\n",
       "                }\n",
       "            }\n",
       "            \n",
       "            window.initThemeManager = (logId, initialTheme) => {\n",
       "                new ThemeManager(logId, initialTheme);\n",
       "            };\n",
       "        </script>\n",
       "        \n",
       "        <script>\n",
       "            document.addEventListener('DOMContentLoaded', () => {\n",
       "                window.initThemeManager('4f6cc49b-8e5a-4954-a5ec-dff229fd27e7', 'auto');\n",
       "            });\n",
       "        </script>\n",
       "        "
      ],
      "text/plain": [
       "<IPython.core.display.HTML object>"
      ]
     },
     "metadata": {},
     "output_type": "display_data"
    }
   ],
   "source": [
    "results = survey.by(sl_questions).by(m).run()"
   ]
  },
  {
   "cell_type": "markdown",
   "id": "5514c06c-2c09-4a9d-b010-c16fb8872b07",
   "metadata": {
    "editable": true,
    "slideshow": {
     "slide_type": ""
    },
    "tags": []
   },
   "source": [
    "This generates a dataset of `Results` that we can access with built-in methods for analysis:"
   ]
  },
  {
   "cell_type": "code",
   "execution_count": 14,
   "id": "024203f8-f34f-4bf1-afb5-faeee4aefbd3",
   "metadata": {
    "editable": true,
    "slideshow": {
     "slide_type": ""
    },
    "tags": []
   },
   "outputs": [
    {
     "data": {
      "text/html": [
       "\n",
       "            <div style=\"max-height: 500px; overflow-y: auto;\">\n",
       "                <style type=\"text/css\">\n",
       "#T_8fc20_row0_col0, #T_8fc20_row0_col1, #T_8fc20_row0_col2, #T_8fc20_row1_col0, #T_8fc20_row1_col1, #T_8fc20_row1_col2, #T_8fc20_row2_col0, #T_8fc20_row2_col1, #T_8fc20_row2_col2, #T_8fc20_row3_col0, #T_8fc20_row3_col1, #T_8fc20_row3_col2, #T_8fc20_row4_col0, #T_8fc20_row4_col1, #T_8fc20_row4_col2, #T_8fc20_row5_col0, #T_8fc20_row5_col1, #T_8fc20_row5_col2 {\n",
       "  text-align: left;\n",
       "}\n",
       "</style>\n",
       "<table id=\"T_8fc20\">\n",
       "  <thead>\n",
       "    <tr>\n",
       "      <th class=\"blank level0\" >&nbsp;</th>\n",
       "      <th id=\"T_8fc20_level0_col0\" class=\"col_heading level0 col0\" >scenario.question</th>\n",
       "      <th id=\"T_8fc20_level0_col1\" class=\"col_heading level0 col1\" >answer.logic</th>\n",
       "      <th id=\"T_8fc20_level0_col2\" class=\"col_heading level0 col2\" >answer.improved</th>\n",
       "    </tr>\n",
       "  </thead>\n",
       "  <tbody>\n",
       "    <tr>\n",
       "      <th id=\"T_8fc20_level0_row0\" class=\"row_heading level0 row0\" >0</th>\n",
       "      <td id=\"T_8fc20_row0_col0\" class=\"data row0 col0\" >How do you feel about the current product search and filtering options?</td>\n",
       "      <td id=\"T_8fc20_row0_col1\" class=\"data row0 col1\" >The question \"How do you feel about the current product search and filtering options?\" has a few potential problems:\n",
       "\n",
       "* **Too broad and subjective:**  \"How do you feel\" is very open-ended.  It doesn't provide a framework for the respondent to answer concisely or consistently.  One person might describe a general feeling (\"Frustrated\"), while another might launch into a detailed account of specific issues. This makes the data difficult to analyze and compare.\n",
       "\n",
       "* **Ambiguous scope:**  \"Current product search and filtering options\" is vague.  Does it refer to all products on the site?  A specific product category?  The respondent might interpret this differently than the survey creator intended.  More specificity is needed.\n",
       "\n",
       "* **Lacks specific prompts for feedback:** The question doesn't guide the respondent towards specific aspects of the search and filtering.  It would be better to break this down into multiple questions focusing on individual aspects, like ease of use, accuracy of results, speed, clarity of filters, etc.\n",
       "\n",
       "\n",
       "To improve the question, it could be broken down into several more specific questions, such as:\n",
       "\n",
       "* \"How easy was it to find the products you were looking for?\" (with a rating scale)\n",
       "* \"How accurate were the search results?\" (with a rating scale)\n",
       "* \"How would you rate the speed of the search?\" (with a rating scale)\n",
       "* \"Were the filtering options clear and easy to understand?\" (yes/no or rating scale)\n",
       "* \"What, if anything, could be improved about the search and filtering options?\" (open-ended text box)\n",
       "\n",
       "\n",
       "This approach provides more structured data, allowing for more meaningful analysis and actionable insights.</td>\n",
       "      <td id=\"T_8fc20_row0_col2\" class=\"data row0 col2\" >How easy was it to find the products you were looking for?</td>\n",
       "    </tr>\n",
       "    <tr>\n",
       "      <th id=\"T_8fc20_level0_row1\" class=\"row_heading level0 row1\" >1</th>\n",
       "      <td id=\"T_8fc20_row1_col0\" class=\"data row1 col0\" >Can you describe a recent experience where you were dissatisfied with our service?</td>\n",
       "      <td id=\"T_8fc20_row1_col1\" class=\"data row1 col1\" >The question \"Can you describe a recent experience where you were dissatisfied with our service?\" has a few potential problems:\n",
       "\n",
       "* **Leading Question:** It presupposes that the respondent *has* had a negative experience.  This can lead to biased responses, as people might feel pressured to provide a negative experience even if they don't have one, or they might downplay positive experiences to fit the framing of the question.  A neutral question would be better.\n",
       "\n",
       "* **Ambiguous \"our service\":**  Depending on the context, \"our service\" might be unclear.  If the survey is for a large organization with many departments or services, the respondent might not know which aspect of the service the question refers to.  Being more specific is crucial.\n",
       "\n",
       "* **\"Recent\" is undefined:** What constitutes \"recent\"? A week? A month? A year?  Defining a timeframe would make the responses more consistent and comparable.\n",
       "\n",
       "* **Cognitive burden:** Asking for a full description can be demanding.  It might be more effective to break the question down into smaller, more manageable parts, perhaps starting with a rating scale of satisfaction and then only asking for a description if the rating is low.\n",
       "\n",
       "\n",
       "In short, the question is too broad and leading, making it less likely to yield reliable and insightful data.  A better approach would involve multiple, more specific and neutral questions.</td>\n",
       "      <td id=\"T_8fc20_row1_col2\" class=\"data row1 col2\" >On a scale of 1 to 5, with 1 being very dissatisfied and 5 being very satisfied, how satisfied were you with [specific service or aspect of service] during the past [specific timeframe, e.g., month]?</td>\n",
       "    </tr>\n",
       "    <tr>\n",
       "      <th id=\"T_8fc20_level0_row2\" class=\"row_heading level0 row2\" >2</th>\n",
       "      <td id=\"T_8fc20_row2_col0\" class=\"data row2 col0\" >Respondent ID</td>\n",
       "      <td id=\"T_8fc20_row2_col1\" class=\"data row2 col1\" >\"Respondent ID\" is not a survey *question*; it's a field for identifying the respondent's data.  It's not something you *ask* the respondent, but rather something you assign or they provide (e.g., a study number, an email address used for identification).  Therefore, the problem isn't logical or syntactical within the phrase itself, but rather its inappropriate use as a survey *question*.  It's a data entry field, not a question prompting a response from the participant.</td>\n",
       "      <td id=\"T_8fc20_row2_col2\" class=\"data row2 col2\" >What is your Respondent ID?</td>\n",
       "    </tr>\n",
       "    <tr>\n",
       "      <th id=\"T_8fc20_level0_row3\" class=\"row_heading level0 row3\" >3</th>\n",
       "      <td id=\"T_8fc20_row3_col0\" class=\"data row3 col0\" >What is one feature you would like to see added to improve your shopping experience?</td>\n",
       "      <td id=\"T_8fc20_row3_col1\" class=\"data row3 col1\" >The main problem is that the question is **too open-ended and lacks constraints**.  This can lead to several issues:\n",
       "\n",
       "* **Difficult to analyze:** Responses will vary wildly, making it hard to categorize and analyze the data effectively.  You'll get a wide range of features, some highly specific and others very broad, making it difficult to identify trends or prioritize improvements.\n",
       "\n",
       "* **Bias towards highly specific requests:**  Instead of focusing on overarching needs, respondents might focus on niche features that only affect a small portion of the user base.\n",
       "\n",
       "* **Potential for irrelevant answers:** Some responses might be completely unrelated to improving the shopping experience (e.g., \"better customer service\" which is a broad category itself, not a specific feature).\n",
       "\n",
       "* **Difficulty in comparing responses:**  Comparing \"faster checkout\" with \"a better mobile app\" is difficult because they address different aspects of the shopping experience.\n",
       "\n",
       "\n",
       "To improve the question, consider:\n",
       "\n",
       "* **Providing a list of options:** Offer a multiple-choice question with pre-defined features, allowing for \"other\" as a free-text field for truly unique suggestions.\n",
       "* **Focusing on specific aspects of the shopping experience:** Instead of a general question, ask about specific areas like checkout, search functionality, or product information.  For example: \"What could we improve about our checkout process to make it faster and easier?\"\n",
       "* **Using rating scales:**  Combine the open-ended question with a rating scale for each feature to gauge the importance of different improvements.\n",
       "\n",
       "\n",
       "In short, while the question is understandable, its lack of structure makes it unsuitable for collecting meaningful and analyzable data.</td>\n",
       "      <td id=\"T_8fc20_row3_col2\" class=\"data row3 col2\" >What could we improve about our checkout process to make it faster and easier?</td>\n",
       "    </tr>\n",
       "    <tr>\n",
       "      <th id=\"T_8fc20_level0_row4\" class=\"row_heading level0 row4\" >4</th>\n",
       "      <td id=\"T_8fc20_row4_col0\" class=\"data row4 col0\" >What do you like most about using our online marketplace?</td>\n",
       "      <td id=\"T_8fc20_row4_col1\" class=\"data row4 col1\" >The main problem with the question \"What do you like most about using our online marketplace?\" is that it's **too open-ended and lacks structure**.  This can lead to several issues:\n",
       "\n",
       "* **Difficult to analyze:**  Responses will be highly varied and qualitative, making it hard to quantify results or identify common themes easily.  It requires significant manual coding and interpretation, which is time-consuming and prone to subjective bias.\n",
       "\n",
       "* **Potential for irrelevant answers:** Respondents might focus on things outside the scope of the marketplace itself (e.g., \"I like online shopping in general\").\n",
       "\n",
       "* **Bias towards positive responses:** The question only asks for what people *like* most, neglecting negative aspects or areas for improvement.  A more balanced approach would include questions about dislikes or suggestions for improvement.\n",
       "\n",
       "* **Difficulty for respondents:**  Some users might struggle to articulate their most liked aspect concisely, leading to incomplete or rambling answers.\n",
       "\n",
       "\n",
       "To improve the question, consider:\n",
       "\n",
       "* **Using multiple-choice options:** Offer a pre-defined list of aspects (e.g., ease of use, product selection, customer service, price, etc.) allowing for quantitative analysis.\n",
       "\n",
       "* **Using a rating scale:**  Combine the multiple-choice options with a rating scale (e.g., 1-5 stars) for each aspect.\n",
       "\n",
       "* **Adding open-ended follow-up questions:** After the multiple-choice/rating scale section, include an optional open-ended question allowing respondents to elaborate on their choices.  This balances quantitative and qualitative data collection.\n",
       "\n",
       "In short, while the question is understandable, its lack of structure makes it inefficient and less informative for data analysis.  A more structured approach is needed to gather useful insights.</td>\n",
       "      <td id=\"T_8fc20_row4_col2\" class=\"data row4 col2\" >How satisfied are you with the following aspects of our online marketplace? (Please rate each on a scale of 1 to 5, where 1 is very dissatisfied and 5 is very satisfied.)</td>\n",
       "    </tr>\n",
       "    <tr>\n",
       "      <th id=\"T_8fc20_level0_row5\" class=\"row_heading level0 row5\" >5</th>\n",
       "      <td id=\"T_8fc20_row5_col0\" class=\"data row5 col0\" >Is there anything else you would like to share about your experience with us?</td>\n",
       "      <td id=\"T_8fc20_row5_col1\" class=\"data row5 col1\" >The question \"Is there anything else you would like to share about your experience with us?\" has a few potential problems, mostly related to its openness and lack of guidance:\n",
       "\n",
       "* **Too open-ended:**  It's so broad that respondents might struggle to know where to begin.  They might share irrelevant information, provide overly lengthy responses making analysis difficult, or simply not know what to say.\n",
       "\n",
       "* **Lack of specificity:**  \"Your experience with us\" is vague.  Was it a single interaction, a product, a service, a period of time?  The more specific the question, the more useful the responses.\n",
       "\n",
       "* **Potential for bias:** The phrasing is slightly leading.  The word \"else\" implies there's already been *something* shared, potentially influencing the respondent to think they *must* add something further, even if they have nothing more to say.\n",
       "\n",
       "* **No guidance on format:**  Should respondents write a paragraph, a list, or just a single sentence?  Providing some guidance on the desired response length or format would improve the quality and consistency of the data.\n",
       "\n",
       "In short, while seemingly innocuous, the question lacks the structure and guidance needed for effective survey design.  It could be improved significantly by making it more specific and providing clearer instructions.</td>\n",
       "      <td id=\"T_8fc20_row5_col2\" class=\"data row5 col2\" >Thinking about your recent experience with us, is there anything specific you'd like to share regarding [Specific aspect of experience, e.g., the product, the service, your interaction with our support team]?  Please limit your response to [Number] sentences or less.</td>\n",
       "    </tr>\n",
       "  </tbody>\n",
       "</table>\n",
       "\n",
       "            </div>\n",
       "            "
      ],
      "text/plain": [
       "Dataset([{'scenario.question': ['How do you feel about the current product search and filtering options?', 'Can you describe a recent experience where you were dissatisfied with our service?', 'Respondent ID', 'What is one feature you would like to see added to improve your shopping experience?', 'What do you like most about using our online marketplace?', 'Is there anything else you would like to share about your experience with us?']}, {'answer.logic': ['The question \"How do you feel about the current product search and filtering options?\" has a few potential problems:\\n\\n* **Too broad and subjective:**  \"How do you feel\" is very open-ended.  It doesn\\'t provide a framework for the respondent to answer concisely or consistently.  One person might describe a general feeling (\"Frustrated\"), while another might launch into a detailed account of specific issues. This makes the data difficult to analyze and compare.\\n\\n* **Ambiguous scope:**  \"Current product search and filtering options\" is vague.  Does it refer to all products on the site?  A specific product category?  The respondent might interpret this differently than the survey creator intended.  More specificity is needed.\\n\\n* **Lacks specific prompts for feedback:** The question doesn\\'t guide the respondent towards specific aspects of the search and filtering.  It would be better to break this down into multiple questions focusing on individual aspects, like ease of use, accuracy of results, speed, clarity of filters, etc.\\n\\n\\nTo improve the question, it could be broken down into several more specific questions, such as:\\n\\n* \"How easy was it to find the products you were looking for?\" (with a rating scale)\\n* \"How accurate were the search results?\" (with a rating scale)\\n* \"How would you rate the speed of the search?\" (with a rating scale)\\n* \"Were the filtering options clear and easy to understand?\" (yes/no or rating scale)\\n* \"What, if anything, could be improved about the search and filtering options?\" (open-ended text box)\\n\\n\\nThis approach provides more structured data, allowing for more meaningful analysis and actionable insights.', 'The question \"Can you describe a recent experience where you were dissatisfied with our service?\" has a few potential problems:\\n\\n* **Leading Question:** It presupposes that the respondent *has* had a negative experience.  This can lead to biased responses, as people might feel pressured to provide a negative experience even if they don\\'t have one, or they might downplay positive experiences to fit the framing of the question.  A neutral question would be better.\\n\\n* **Ambiguous \"our service\":**  Depending on the context, \"our service\" might be unclear.  If the survey is for a large organization with many departments or services, the respondent might not know which aspect of the service the question refers to.  Being more specific is crucial.\\n\\n* **\"Recent\" is undefined:** What constitutes \"recent\"? A week? A month? A year?  Defining a timeframe would make the responses more consistent and comparable.\\n\\n* **Cognitive burden:** Asking for a full description can be demanding.  It might be more effective to break the question down into smaller, more manageable parts, perhaps starting with a rating scale of satisfaction and then only asking for a description if the rating is low.\\n\\n\\nIn short, the question is too broad and leading, making it less likely to yield reliable and insightful data.  A better approach would involve multiple, more specific and neutral questions.', '\"Respondent ID\" is not a survey *question*; it\\'s a field for identifying the respondent\\'s data.  It\\'s not something you *ask* the respondent, but rather something you assign or they provide (e.g., a study number, an email address used for identification).  Therefore, the problem isn\\'t logical or syntactical within the phrase itself, but rather its inappropriate use as a survey *question*.  It\\'s a data entry field, not a question prompting a response from the participant.', 'The main problem is that the question is **too open-ended and lacks constraints**.  This can lead to several issues:\\n\\n* **Difficult to analyze:** Responses will vary wildly, making it hard to categorize and analyze the data effectively.  You\\'ll get a wide range of features, some highly specific and others very broad, making it difficult to identify trends or prioritize improvements.\\n\\n* **Bias towards highly specific requests:**  Instead of focusing on overarching needs, respondents might focus on niche features that only affect a small portion of the user base.\\n\\n* **Potential for irrelevant answers:** Some responses might be completely unrelated to improving the shopping experience (e.g., \"better customer service\" which is a broad category itself, not a specific feature).\\n\\n* **Difficulty in comparing responses:**  Comparing \"faster checkout\" with \"a better mobile app\" is difficult because they address different aspects of the shopping experience.\\n\\n\\nTo improve the question, consider:\\n\\n* **Providing a list of options:** Offer a multiple-choice question with pre-defined features, allowing for \"other\" as a free-text field for truly unique suggestions.\\n* **Focusing on specific aspects of the shopping experience:** Instead of a general question, ask about specific areas like checkout, search functionality, or product information.  For example: \"What could we improve about our checkout process to make it faster and easier?\"\\n* **Using rating scales:**  Combine the open-ended question with a rating scale for each feature to gauge the importance of different improvements.\\n\\n\\nIn short, while the question is understandable, its lack of structure makes it unsuitable for collecting meaningful and analyzable data.', 'The main problem with the question \"What do you like most about using our online marketplace?\" is that it\\'s **too open-ended and lacks structure**.  This can lead to several issues:\\n\\n* **Difficult to analyze:**  Responses will be highly varied and qualitative, making it hard to quantify results or identify common themes easily.  It requires significant manual coding and interpretation, which is time-consuming and prone to subjective bias.\\n\\n* **Potential for irrelevant answers:** Respondents might focus on things outside the scope of the marketplace itself (e.g., \"I like online shopping in general\").\\n\\n* **Bias towards positive responses:** The question only asks for what people *like* most, neglecting negative aspects or areas for improvement.  A more balanced approach would include questions about dislikes or suggestions for improvement.\\n\\n* **Difficulty for respondents:**  Some users might struggle to articulate their most liked aspect concisely, leading to incomplete or rambling answers.\\n\\n\\nTo improve the question, consider:\\n\\n* **Using multiple-choice options:** Offer a pre-defined list of aspects (e.g., ease of use, product selection, customer service, price, etc.) allowing for quantitative analysis.\\n\\n* **Using a rating scale:**  Combine the multiple-choice options with a rating scale (e.g., 1-5 stars) for each aspect.\\n\\n* **Adding open-ended follow-up questions:** After the multiple-choice/rating scale section, include an optional open-ended question allowing respondents to elaborate on their choices.  This balances quantitative and qualitative data collection.\\n\\nIn short, while the question is understandable, its lack of structure makes it inefficient and less informative for data analysis.  A more structured approach is needed to gather useful insights.', 'The question \"Is there anything else you would like to share about your experience with us?\" has a few potential problems, mostly related to its openness and lack of guidance:\\n\\n* **Too open-ended:**  It\\'s so broad that respondents might struggle to know where to begin.  They might share irrelevant information, provide overly lengthy responses making analysis difficult, or simply not know what to say.\\n\\n* **Lack of specificity:**  \"Your experience with us\" is vague.  Was it a single interaction, a product, a service, a period of time?  The more specific the question, the more useful the responses.\\n\\n* **Potential for bias:** The phrasing is slightly leading.  The word \"else\" implies there\\'s already been *something* shared, potentially influencing the respondent to think they *must* add something further, even if they have nothing more to say.\\n\\n* **No guidance on format:**  Should respondents write a paragraph, a list, or just a single sentence?  Providing some guidance on the desired response length or format would improve the quality and consistency of the data.\\n\\nIn short, while seemingly innocuous, the question lacks the structure and guidance needed for effective survey design.  It could be improved significantly by making it more specific and providing clearer instructions.']}, {'answer.improved': ['How easy was it to find the products you were looking for?', 'On a scale of 1 to 5, with 1 being very dissatisfied and 5 being very satisfied, how satisfied were you with [specific service or aspect of service] during the past [specific timeframe, e.g., month]?', 'What is your Respondent ID?', 'What could we improve about our checkout process to make it faster and easier?', 'How satisfied are you with the following aspects of our online marketplace? (Please rate each on a scale of 1 to 5, where 1 is very dissatisfied and 5 is very satisfied.)', \"Thinking about your recent experience with us, is there anything specific you'd like to share regarding [Specific aspect of experience, e.g., the product, the service, your interaction with our support team]?  Please limit your response to [Number] sentences or less.\"]}])"
      ]
     },
     "execution_count": 14,
     "metadata": {},
     "output_type": "execute_result"
    }
   ],
   "source": [
    "results.select(\"question\", \"logic\", \"improved\")"
   ]
  },
  {
   "cell_type": "markdown",
   "id": "c3600745-b0d5-46c2-96b6-fcce28e2672a",
   "metadata": {
    "editable": true,
    "slideshow": {
     "slide_type": ""
    },
    "tags": []
   },
   "source": [
    "[Learn more about working with results](https://docs.expectedparrot.com/en/latest/results.html)."
   ]
  },
  {
   "cell_type": "markdown",
   "id": "6b2fbf86-b028-481a-880d-afd4db83a6d9",
   "metadata": {
    "editable": true,
    "slideshow": {
     "slide_type": ""
    },
    "tags": []
   },
   "source": [
    "## Evaluating respondents' collective answers\n",
    "Next we can create a `ScenarioList` for each respondent's answers to use with our question about sentiment:"
   ]
  },
  {
   "cell_type": "code",
   "execution_count": 15,
   "id": "18f7b68d-e1ad-4942-a69c-ed81e2b72e73",
   "metadata": {
    "editable": true,
    "slideshow": {
     "slide_type": ""
    },
    "tags": []
   },
   "outputs": [
    {
     "data": {
      "text/html": [
       "<p><a href='https://docs.expectedparrot.com/en/latest/scenarios.html#scenariolist'>ScenarioList</a> scenarios: 3; keys: ['responses'];</p>\n",
       "            <div style=\"max-height: 500px; overflow-y: auto;\">\n",
       "                <style type=\"text/css\">\n",
       "#T_9e1cb_row0_col0, #T_9e1cb_row1_col0, #T_9e1cb_row2_col0 {\n",
       "  text-align: left;\n",
       "}\n",
       "</style>\n",
       "<table id=\"T_9e1cb\">\n",
       "  <thead>\n",
       "    <tr>\n",
       "      <th class=\"blank level0\" >&nbsp;</th>\n",
       "      <th id=\"T_9e1cb_level0_col0\" class=\"col_heading level0 col0\" >responses</th>\n",
       "    </tr>\n",
       "  </thead>\n",
       "  <tbody>\n",
       "    <tr>\n",
       "      <th id=\"T_9e1cb_level0_row0\" class=\"row_heading level0 row0\" >0</th>\n",
       "      <td id=\"T_9e1cb_row0_col0\" class=\"data row0 col0\" >{'Respondent ID': '101', 'What do you like most about using our online marketplace?': 'The wide variety of products and the ease of use.', 'What is one feature you would like to see added to improve your shopping experience?': 'It would be great to have a personalized recommendation system based on my browsing history.', 'Can you describe a recent experience where you were dissatisfied with our service?': 'I was disappointed when an item I ordered arrived damaged, but customer service quickly resolved it.', 'How do you feel about the current product search and filtering options?': 'The search and filtering options are intuitive and work well for me.', 'Is there anything else you would like to share about your experience with us?': 'No, keep up the great work!'}</td>\n",
       "    </tr>\n",
       "    <tr>\n",
       "      <th id=\"T_9e1cb_level0_row1\" class=\"row_heading level0 row1\" >1</th>\n",
       "      <td id=\"T_9e1cb_row1_col0\" class=\"data row1 col0\" >{'Respondent ID': '102', 'What do you like most about using our online marketplace?': 'I enjoy the simplicity of the interface.', 'What is one feature you would like to see added to improve your shopping experience?': 'A feature that helps compare similar products side by side would be useful.', 'Can you describe a recent experience where you were dissatisfied with our service?': 'No complaints here.', 'How do you feel about the current product search and filtering options?': 'I find the product search to be pretty effective.', 'Is there anything else you would like to share about your experience with us?': 'I think the sky is a beautiful shade of purple today.'}</td>\n",
       "    </tr>\n",
       "    <tr>\n",
       "      <th id=\"T_9e1cb_level0_row2\" class=\"row_heading level0 row2\" >2</th>\n",
       "      <td id=\"T_9e1cb_row2_col0\" class=\"data row2 col0\" >{'Respondent ID': '103', 'What do you like most about using our online marketplace?': 'The platform is user-friendly and offers a vast selection of products.', 'What is one feature you would like to see added to improve your shopping experience?': 'Would love to see an option to save and compare different products.', 'Can you describe a recent experience where you were dissatisfied with our service?': 'My delivery was late by a few days, which was frustrating.', 'How do you feel about the current product search and filtering options?': 'It’s okay.', 'Is there anything else you would like to share about your experience with us?': 'No.'}</td>\n",
       "    </tr>\n",
       "  </tbody>\n",
       "</table>\n",
       "\n",
       "            </div>\n",
       "            "
      ],
      "text/plain": [
       "ScenarioList([Scenario({'responses': {'Respondent ID': '101', 'What do you like most about using our online marketplace?': 'The wide variety of products and the ease of use.', 'What is one feature you would like to see added to improve your shopping experience?': 'It would be great to have a personalized recommendation system based on my browsing history.', 'Can you describe a recent experience where you were dissatisfied with our service?': 'I was disappointed when an item I ordered arrived damaged, but customer service quickly resolved it.', 'How do you feel about the current product search and filtering options?': 'The search and filtering options are intuitive and work well for me.', 'Is there anything else you would like to share about your experience with us?': 'No, keep up the great work!'}}), Scenario({'responses': {'Respondent ID': '102', 'What do you like most about using our online marketplace?': 'I enjoy the simplicity of the interface.', 'What is one feature you would like to see added to improve your shopping experience?': 'A feature that helps compare similar products side by side would be useful.', 'Can you describe a recent experience where you were dissatisfied with our service?': 'No complaints here.', 'How do you feel about the current product search and filtering options?': 'I find the product search to be pretty effective.', 'Is there anything else you would like to share about your experience with us?': 'I think the sky is a beautiful shade of purple today.'}}), Scenario({'responses': {'Respondent ID': '103', 'What do you like most about using our online marketplace?': 'The platform is user-friendly and offers a vast selection of products.', 'What is one feature you would like to see added to improve your shopping experience?': 'Would love to see an option to save and compare different products.', 'Can you describe a recent experience where you were dissatisfied with our service?': 'My delivery was late by a few days, which was frustrating.', 'How do you feel about the current product search and filtering options?': 'It’s okay.', 'Is there anything else you would like to share about your experience with us?': 'No.'}})])"
      ]
     },
     "execution_count": 15,
     "metadata": {},
     "output_type": "execute_result"
    }
   ],
   "source": [
    "sl_responses = ScenarioList.from_list(\"responses\", sl['scenarios'])\n",
    "sl_responses"
   ]
  },
  {
   "cell_type": "markdown",
   "id": "da335730-735b-4f20-a901-48a4cadbaf1f",
   "metadata": {
    "editable": true,
    "slideshow": {
     "slide_type": ""
    },
    "tags": []
   },
   "source": [
    "Next we add these scenarios to our sentiment question (and any others we want to add) and run it:"
   ]
  },
  {
   "cell_type": "code",
   "execution_count": 16,
   "id": "7c2a93b2-8e84-46b3-926e-c30bf0e0ce2b",
   "metadata": {
    "editable": true,
    "slideshow": {
     "slide_type": ""
    },
    "tags": []
   },
   "outputs": [],
   "source": [
    "from edsl import QuestionMultipleChoice, QuestionLinearScale, Survey\n",
    "\n",
    "q_sentiment = QuestionMultipleChoice(\n",
    "    question_name = \"sentiment\",\n",
    "    question_text = \"What is the overall sentiment of this respondent's survey answers? {{ scenario.responses }}\",\n",
    "    question_options = [\"Very unsatisfied\", \"Somewhat unsatisfied\", \"Somewhat satisfied\", \"Very satisfied\"]\n",
    ")\n",
    "\n",
    "q_recommend = QuestionLinearScale(\n",
    "    question_name = \"recommend\",\n",
    "    question_text = \"On a scale from 1 to 5, how likely do you think this respondent is to recommend the company to a friend? {{ scenario.responses }}\",\n",
    "    question_options = [1, 2, 3, 4, 5],\n",
    "    option_labels = {1:\"Not at all likely\", 5:\"Very likely\"}\n",
    ")\n",
    "\n",
    "survey = Survey([q_sentiment, q_recommend])"
   ]
  },
  {
   "cell_type": "code",
   "execution_count": 17,
   "id": "01f51911-d4ea-4acf-9e8d-fb05d2f76e80",
   "metadata": {
    "editable": true,
    "slideshow": {
     "slide_type": ""
    },
    "tags": []
   },
   "outputs": [
    {
     "data": {
      "text/html": [
       "\n",
       "            <!-- #region Remove Inference Info -->\n",
       "            <div id=\"logger-04af72fb-1d00-487d-890b-2f8c9606c47d\" class=\"job-logger\">\n",
       "                <div class=\"job-logger-header\">\n",
       "                    <span>\n",
       "                        <span id=\"arrow-04af72fb-1d00-487d-890b-2f8c9606c47d\">▼</span> \n",
       "                        Job Status (2025-03-03 12:31:55)\n",
       "                    </span>\n",
       "                </div>\n",
       "                <div id=\"content-04af72fb-1d00-487d-890b-2f8c9606c47d\" style=\"display: block;\">\n",
       "                    <table class=\"job-logger-table\">\n",
       "                        \n",
       "            <tr>\n",
       "                <td class=\"job-logger-cell job-logger-label\">Job UUID</td>\n",
       "                <td class=\"job-logger-cell job-logger-value\">263f9a82-710d-4c9d-861e-c50bb75b0bd7</td>\n",
       "            </tr>\n",
       "        \n",
       "            <tr>\n",
       "                <td class=\"job-logger-cell job-logger-label\">Progress Bar URL</td>\n",
       "                <td class=\"job-logger-cell job-logger-value\"><a href=\"https://www.expectedparrot.com/home/remote-job-progress/263f9a82-710d-4c9d-861e-c50bb75b0bd7\" target=\"_blank\" class=\"job-logger-link\">https://www.expectedparrot.com/home/remote-job-progress/263f9a82-710d-4c9d-861e-c50bb75b0bd7</a></td>\n",
       "            </tr>\n",
       "        \n",
       "            <tr>\n",
       "                <td class=\"job-logger-cell job-logger-label\">Exceptions Report URL</td>\n",
       "                <td class=\"job-logger-cell job-logger-value\">None</td>\n",
       "            </tr>\n",
       "        \n",
       "            <tr>\n",
       "                <td class=\"job-logger-cell job-logger-label\">Results UUID</td>\n",
       "                <td class=\"job-logger-cell job-logger-value\">808ef30a-6c5f-40f8-a837-fa5ee77571c6</td>\n",
       "            </tr>\n",
       "        \n",
       "            <tr>\n",
       "                <td class=\"job-logger-cell job-logger-label\">Results URL</td>\n",
       "                <td class=\"job-logger-cell job-logger-value\"><a href=\"https://www.expectedparrot.com/content/808ef30a-6c5f-40f8-a837-fa5ee77571c6\" target=\"_blank\" class=\"job-logger-link\">https://www.expectedparrot.com/content/808ef30a-6c5f-40f8-a837-fa5ee77571c6</a></td>\n",
       "            </tr>\n",
       "        \n",
       "                    </table>\n",
       "                    \n",
       "                <div class=\"job-logger-status\">\n",
       "                    <span style=\"margin-right: 8px;\" class=\"job-logger-success\">✓</span><strong>Current Status:</strong> Job completed and Results stored on Coop: <a href=\"https://www.expectedparrot.com/content/808ef30a-6c5f-40f8-a837-fa5ee77571c6\" target=\"_blank\" class=\"job-logger-link\">https://www.expectedparrot.com/content/808ef30a-6c5f-40f8-a837-fa5ee77571c6</a>\n",
       "                </div>\n",
       "            \n",
       "                </div>\n",
       "            </div>\n",
       "            <!-- # endregion -->\n",
       "        "
      ],
      "text/plain": [
       "<IPython.core.display.HTML object>"
      ]
     },
     "metadata": {},
     "output_type": "display_data"
    },
    {
     "data": {
      "text/html": [
       "\n",
       "        <style>\n",
       "            /* Base theme variables */\n",
       "            :root {\n",
       "                --jl-bg-primary: #ffffff;\n",
       "                --jl-bg-secondary: #f5f5f5;\n",
       "                --jl-border-color: #e0e0e0;\n",
       "                --jl-text-primary: #24292e;\n",
       "                --jl-text-secondary: #586069;\n",
       "                --jl-link-color: #0366d6;\n",
       "                --jl-success-color: #28a745;\n",
       "                --jl-error-color: #d73a49;\n",
       "                --jl-header-bg: #f1f1f1;\n",
       "            }\n",
       "            \n",
       "            /* Dark theme variables */\n",
       "            .theme-dark {\n",
       "                --jl-bg-primary: #1e1e1e;\n",
       "                --jl-bg-secondary: #252526;\n",
       "                --jl-border-color: #2d2d2d;\n",
       "                --jl-text-primary: #cccccc;\n",
       "                --jl-text-secondary: #999999;\n",
       "                --jl-link-color: #4e94ce;\n",
       "                --jl-success-color: #89d185;\n",
       "                --jl-error-color: #f14c4c;\n",
       "                --jl-header-bg: #333333;\n",
       "            }\n",
       "\n",
       "            /* High contrast theme variables */\n",
       "            .theme-high-contrast {\n",
       "                --jl-bg-primary: #000000;\n",
       "                --jl-bg-secondary: #1a1a1a;\n",
       "                --jl-border-color: #404040;\n",
       "                --jl-text-primary: #ffffff;\n",
       "                --jl-text-secondary: #cccccc;\n",
       "                --jl-link-color: #66b3ff;\n",
       "                --jl-success-color: #00ff00;\n",
       "                --jl-error-color: #ff0000;\n",
       "                --jl-header-bg: #262626;\n",
       "            }\n",
       "            \n",
       "            .job-logger {\n",
       "                font-family: system-ui, -apple-system, sans-serif;\n",
       "                max-width: 800px;\n",
       "                margin: 10px 0;\n",
       "                color: var(--jl-text-primary);\n",
       "                box-shadow: 0 1px 3px rgba(0,0,0,0.12);\n",
       "                border-radius: 4px;\n",
       "                overflow: hidden;\n",
       "            }\n",
       "            \n",
       "            .job-logger-header {\n",
       "                padding: 12px 16px;\n",
       "                background: var(--jl-header-bg);\n",
       "                border: none;\n",
       "                border-radius: 4px 4px 0 0;\n",
       "                cursor: pointer;\n",
       "                color: var(--jl-text-primary);\n",
       "                user-select: none;\n",
       "                font-weight: 500;\n",
       "                letter-spacing: 0.3px;\n",
       "                display: flex;\n",
       "                justify-content: space-between;\n",
       "                align-items: center;\n",
       "            }\n",
       "            \n",
       "            .theme-select {\n",
       "                padding: 4px 8px;\n",
       "                border-radius: 4px;\n",
       "                border: 1px solid var(--jl-border-color);\n",
       "                background: var(--jl-bg-primary);\n",
       "                color: var(--jl-text-primary);\n",
       "                font-size: 0.9em;\n",
       "            }\n",
       "            \n",
       "            .job-logger-table {\n",
       "                width: 100%;\n",
       "                border-collapse: separate;\n",
       "                border-spacing: 0;\n",
       "                background: var(--jl-bg-primary);\n",
       "                border: 1px solid var(--jl-border-color);\n",
       "                margin-top: -1px;\n",
       "            }\n",
       "            \n",
       "            .job-logger-cell {\n",
       "                padding: 12px 16px;\n",
       "                border-bottom: 1px solid var(--jl-border-color);\n",
       "                line-height: 1.4;\n",
       "            }\n",
       "            \n",
       "            .job-logger-label {\n",
       "                font-weight: 500;\n",
       "                color: var(--jl-text-primary);\n",
       "                width: 25%;\n",
       "                background: var(--jl-bg-secondary);\n",
       "            }\n",
       "            \n",
       "            .job-logger-value {\n",
       "                color: var(--jl-text-secondary);\n",
       "                word-break: break-word;\n",
       "            }\n",
       "            \n",
       "            .job-logger-status {\n",
       "                margin: 0;\n",
       "                padding: 12px 16px;\n",
       "                background-color: var(--jl-bg-secondary);\n",
       "                border: 1px solid var(--jl-border-color);\n",
       "                border-top: none;\n",
       "                border-radius: 0 0 4px 4px;\n",
       "                color: var(--jl-text-primary);\n",
       "                font-size: 0.95em;\n",
       "            }\n",
       "        </style>\n",
       "        \n",
       "        <script>\n",
       "            class ThemeManager {\n",
       "                constructor(logId, initialTheme = 'auto') {\n",
       "                    this.logId = logId;\n",
       "                    this.currentTheme = initialTheme;\n",
       "                    this.darkModeMediaQuery = window.matchMedia('(prefers-color-scheme: dark)');\n",
       "                    this.init();\n",
       "                }\n",
       "                \n",
       "                init() {\n",
       "                    this.setupThemeSwitcher();\n",
       "                    this.updateTheme(this.currentTheme);\n",
       "                    \n",
       "                    this.darkModeMediaQuery.addListener(() => {\n",
       "                        if (this.currentTheme === 'auto') {\n",
       "                            this.updateTheme('auto');\n",
       "                        }\n",
       "                    });\n",
       "                }\n",
       "                \n",
       "                setupThemeSwitcher() {\n",
       "                    const logger = document.querySelector(`#logger-${this.logId}`);\n",
       "                    if (!logger) return;\n",
       "                    \n",
       "                    const switcher = document.createElement('div');\n",
       "                    switcher.className = 'theme-switcher';\n",
       "                    switcher.innerHTML = `\n",
       "                        <select id=\"theme-select-${this.logId}\" class=\"theme-select\">\n",
       "                            <option value=\"auto\">Auto</option>\n",
       "                            <option value=\"light\">Light</option>\n",
       "                            <option value=\"dark\">Dark</option>\n",
       "                            <option value=\"high-contrast\">High Contrast</option>\n",
       "                        </select>\n",
       "                    `;\n",
       "                    \n",
       "                    const header = logger.querySelector('.job-logger-header');\n",
       "                    header.appendChild(switcher);\n",
       "                    \n",
       "                    const select = switcher.querySelector('select');\n",
       "                    select.value = this.currentTheme;\n",
       "                    select.addEventListener('change', (e) => {\n",
       "                        this.updateTheme(e.target.value);\n",
       "                    });\n",
       "                }\n",
       "                \n",
       "                updateTheme(theme) {\n",
       "                    const logger = document.querySelector(`#logger-${this.logId}`);\n",
       "                    if (!logger) return;\n",
       "                    \n",
       "                    this.currentTheme = theme;\n",
       "                    \n",
       "                    logger.classList.remove('theme-light', 'theme-dark', 'theme-high-contrast');\n",
       "                    \n",
       "                    if (theme === 'auto') {\n",
       "                        const isDark = this.darkModeMediaQuery.matches;\n",
       "                        logger.classList.add(isDark ? 'theme-dark' : 'theme-light');\n",
       "                    } else {\n",
       "                        logger.classList.add(`theme-${theme}`);\n",
       "                    }\n",
       "                    \n",
       "                    try {\n",
       "                        localStorage.setItem('jobLoggerTheme', theme);\n",
       "                    } catch (e) {\n",
       "                        console.warn('Unable to save theme preference:', e);\n",
       "                    }\n",
       "                }\n",
       "            }\n",
       "            \n",
       "            window.initThemeManager = (logId, initialTheme) => {\n",
       "                new ThemeManager(logId, initialTheme);\n",
       "            };\n",
       "        </script>\n",
       "        \n",
       "        <script>\n",
       "            document.addEventListener('DOMContentLoaded', () => {\n",
       "                window.initThemeManager('04af72fb-1d00-487d-890b-2f8c9606c47d', 'auto');\n",
       "            });\n",
       "        </script>\n",
       "        "
      ],
      "text/plain": [
       "<IPython.core.display.HTML object>"
      ]
     },
     "metadata": {},
     "output_type": "display_data"
    }
   ],
   "source": [
    "results = survey.by(sl_responses).by(m).run()"
   ]
  },
  {
   "cell_type": "code",
   "execution_count": 18,
   "id": "826d4a2d-f75f-42e3-8734-fa1b128c212c",
   "metadata": {
    "editable": true,
    "slideshow": {
     "slide_type": ""
    },
    "tags": []
   },
   "outputs": [
    {
     "data": {
      "text/html": [
       "\n",
       "            <div style=\"max-height: 500px; overflow-y: auto;\">\n",
       "                <style type=\"text/css\">\n",
       "#T_25e16_row0_col0, #T_25e16_row0_col1, #T_25e16_row1_col0, #T_25e16_row1_col1, #T_25e16_row2_col0, #T_25e16_row2_col1 {\n",
       "  text-align: left;\n",
       "}\n",
       "#T_25e16_row0_col2 {\n",
       "  text-align: left;\n",
       "  background-color: #023858;\n",
       "  color: #f1f1f1;\n",
       "}\n",
       "#T_25e16_row1_col2 {\n",
       "  text-align: left;\n",
       "  background-color: #73a9cf;\n",
       "  color: #f1f1f1;\n",
       "}\n",
       "#T_25e16_row2_col2 {\n",
       "  text-align: left;\n",
       "  background-color: #fff7fb;\n",
       "  color: #000000;\n",
       "}\n",
       "</style>\n",
       "<table id=\"T_25e16\">\n",
       "  <thead>\n",
       "    <tr>\n",
       "      <th class=\"blank level0\" >&nbsp;</th>\n",
       "      <th id=\"T_25e16_level0_col0\" class=\"col_heading level0 col0\" >scenario.responses</th>\n",
       "      <th id=\"T_25e16_level0_col1\" class=\"col_heading level0 col1\" >answer.sentiment</th>\n",
       "      <th id=\"T_25e16_level0_col2\" class=\"col_heading level0 col2\" >answer.recommend</th>\n",
       "    </tr>\n",
       "  </thead>\n",
       "  <tbody>\n",
       "    <tr>\n",
       "      <th id=\"T_25e16_level0_row0\" class=\"row_heading level0 row0\" >0</th>\n",
       "      <td id=\"T_25e16_row0_col0\" class=\"data row0 col0\" >{'Respondent ID': '101', 'What do you like most about using our online marketplace?': 'The wide variety of products and the ease of use.', 'What is one feature you would like to see added to improve your shopping experience?': 'It would be great to have a personalized recommendation system based on my browsing history.', 'Can you describe a recent experience where you were dissatisfied with our service?': 'I was disappointed when an item I ordered arrived damaged, but customer service quickly resolved it.', 'How do you feel about the current product search and filtering options?': 'The search and filtering options are intuitive and work well for me.', 'Is there anything else you would like to share about your experience with us?': 'No, keep up the great work!'}</td>\n",
       "      <td id=\"T_25e16_row0_col1\" class=\"data row0 col1\" >Very satisfied</td>\n",
       "      <td id=\"T_25e16_row0_col2\" class=\"data row0 col2\" >5</td>\n",
       "    </tr>\n",
       "    <tr>\n",
       "      <th id=\"T_25e16_level0_row1\" class=\"row_heading level0 row1\" >1</th>\n",
       "      <td id=\"T_25e16_row1_col0\" class=\"data row1 col0\" >{'Respondent ID': '102', 'What do you like most about using our online marketplace?': 'I enjoy the simplicity of the interface.', 'What is one feature you would like to see added to improve your shopping experience?': 'A feature that helps compare similar products side by side would be useful.', 'Can you describe a recent experience where you were dissatisfied with our service?': 'No complaints here.', 'How do you feel about the current product search and filtering options?': 'I find the product search to be pretty effective.', 'Is there anything else you would like to share about your experience with us?': 'I think the sky is a beautiful shade of purple today.'}</td>\n",
       "      <td id=\"T_25e16_row1_col1\" class=\"data row1 col1\" >Very satisfied</td>\n",
       "      <td id=\"T_25e16_row1_col2\" class=\"data row1 col2\" >4</td>\n",
       "    </tr>\n",
       "    <tr>\n",
       "      <th id=\"T_25e16_level0_row2\" class=\"row_heading level0 row2\" >2</th>\n",
       "      <td id=\"T_25e16_row2_col0\" class=\"data row2 col0\" >{'Respondent ID': '103', 'What do you like most about using our online marketplace?': 'The platform is user-friendly and offers a vast selection of products.', 'What is one feature you would like to see added to improve your shopping experience?': 'Would love to see an option to save and compare different products.', 'Can you describe a recent experience where you were dissatisfied with our service?': 'My delivery was late by a few days, which was frustrating.', 'How do you feel about the current product search and filtering options?': 'It’s okay.', 'Is there anything else you would like to share about your experience with us?': 'No.'}</td>\n",
       "      <td id=\"T_25e16_row2_col1\" class=\"data row2 col1\" >Somewhat satisfied</td>\n",
       "      <td id=\"T_25e16_row2_col2\" class=\"data row2 col2\" >3</td>\n",
       "    </tr>\n",
       "  </tbody>\n",
       "</table>\n",
       "\n",
       "            </div>\n",
       "            "
      ],
      "text/plain": [
       "Dataset([{'scenario.responses': [{'Respondent ID': '101', 'What do you like most about using our online marketplace?': 'The wide variety of products and the ease of use.', 'What is one feature you would like to see added to improve your shopping experience?': 'It would be great to have a personalized recommendation system based on my browsing history.', 'Can you describe a recent experience where you were dissatisfied with our service?': 'I was disappointed when an item I ordered arrived damaged, but customer service quickly resolved it.', 'How do you feel about the current product search and filtering options?': 'The search and filtering options are intuitive and work well for me.', 'Is there anything else you would like to share about your experience with us?': 'No, keep up the great work!'}, {'Respondent ID': '102', 'What do you like most about using our online marketplace?': 'I enjoy the simplicity of the interface.', 'What is one feature you would like to see added to improve your shopping experience?': 'A feature that helps compare similar products side by side would be useful.', 'Can you describe a recent experience where you were dissatisfied with our service?': 'No complaints here.', 'How do you feel about the current product search and filtering options?': 'I find the product search to be pretty effective.', 'Is there anything else you would like to share about your experience with us?': 'I think the sky is a beautiful shade of purple today.'}, {'Respondent ID': '103', 'What do you like most about using our online marketplace?': 'The platform is user-friendly and offers a vast selection of products.', 'What is one feature you would like to see added to improve your shopping experience?': 'Would love to see an option to save and compare different products.', 'Can you describe a recent experience where you were dissatisfied with our service?': 'My delivery was late by a few days, which was frustrating.', 'How do you feel about the current product search and filtering options?': 'It’s okay.', 'Is there anything else you would like to share about your experience with us?': 'No.'}]}, {'answer.sentiment': ['Very satisfied', 'Very satisfied', 'Somewhat satisfied']}, {'answer.recommend': [5, 4, 3]}])"
      ]
     },
     "execution_count": 18,
     "metadata": {},
     "output_type": "execute_result"
    }
   ],
   "source": [
    "results.select(\"responses\", \"sentiment\", \"recommend\")"
   ]
  },
  {
   "cell_type": "markdown",
   "id": "9eab586f-8a28-4992-9fec-d43cbe771c9e",
   "metadata": {
    "editable": true,
    "slideshow": {
     "slide_type": ""
    },
    "tags": []
   },
   "source": [
    "## Evaluating individual answers\n",
    "Next we create a `ScenarioList` for each individual question and answer to use with our question about the responsiveness of each answer. We can use the `unpivot()` method to expand the scenarios by desired identifiers (e.g., respondent ID):"
   ]
  },
  {
   "cell_type": "code",
   "execution_count": 19,
   "id": "b95f76a2-0527-4283-8162-9079db248bd7",
   "metadata": {
    "editable": true,
    "slideshow": {
     "slide_type": ""
    },
    "tags": []
   },
   "outputs": [
    {
     "data": {
      "text/html": [
       "<p><a href='https://docs.expectedparrot.com/en/latest/scenarios.html#scenariolist'>ScenarioList</a> scenarios: 15; keys: ['variable', 'Respondent ID', 'value'];</p>\n",
       "            <div style=\"max-height: 500px; overflow-y: auto;\">\n",
       "                <style type=\"text/css\">\n",
       "#T_8e95d_row0_col0, #T_8e95d_row1_col0, #T_8e95d_row2_col0, #T_8e95d_row3_col0, #T_8e95d_row4_col0 {\n",
       "  text-align: left;\n",
       "  background-color: #fff7fb;\n",
       "  color: #000000;\n",
       "}\n",
       "#T_8e95d_row0_col1, #T_8e95d_row0_col2, #T_8e95d_row1_col1, #T_8e95d_row1_col2, #T_8e95d_row2_col1, #T_8e95d_row2_col2, #T_8e95d_row3_col1, #T_8e95d_row3_col2, #T_8e95d_row4_col1, #T_8e95d_row4_col2, #T_8e95d_row5_col1, #T_8e95d_row5_col2, #T_8e95d_row6_col1, #T_8e95d_row6_col2, #T_8e95d_row7_col1, #T_8e95d_row7_col2, #T_8e95d_row8_col1, #T_8e95d_row8_col2, #T_8e95d_row9_col1, #T_8e95d_row9_col2, #T_8e95d_row10_col1, #T_8e95d_row10_col2, #T_8e95d_row11_col1, #T_8e95d_row11_col2, #T_8e95d_row12_col1, #T_8e95d_row12_col2, #T_8e95d_row13_col1, #T_8e95d_row13_col2, #T_8e95d_row14_col1, #T_8e95d_row14_col2 {\n",
       "  text-align: left;\n",
       "}\n",
       "#T_8e95d_row5_col0, #T_8e95d_row6_col0, #T_8e95d_row7_col0, #T_8e95d_row8_col0, #T_8e95d_row9_col0 {\n",
       "  text-align: left;\n",
       "  background-color: #73a9cf;\n",
       "  color: #f1f1f1;\n",
       "}\n",
       "#T_8e95d_row10_col0, #T_8e95d_row11_col0, #T_8e95d_row12_col0, #T_8e95d_row13_col0, #T_8e95d_row14_col0 {\n",
       "  text-align: left;\n",
       "  background-color: #023858;\n",
       "  color: #f1f1f1;\n",
       "}\n",
       "</style>\n",
       "<table id=\"T_8e95d\">\n",
       "  <thead>\n",
       "    <tr>\n",
       "      <th class=\"blank level0\" >&nbsp;</th>\n",
       "      <th id=\"T_8e95d_level0_col0\" class=\"col_heading level0 col0\" >Respondent ID</th>\n",
       "      <th id=\"T_8e95d_level0_col1\" class=\"col_heading level0 col1\" >variable</th>\n",
       "      <th id=\"T_8e95d_level0_col2\" class=\"col_heading level0 col2\" >value</th>\n",
       "    </tr>\n",
       "  </thead>\n",
       "  <tbody>\n",
       "    <tr>\n",
       "      <th id=\"T_8e95d_level0_row0\" class=\"row_heading level0 row0\" >0</th>\n",
       "      <td id=\"T_8e95d_row0_col0\" class=\"data row0 col0\" >101</td>\n",
       "      <td id=\"T_8e95d_row0_col1\" class=\"data row0 col1\" >What do you like most about using our online marketplace?</td>\n",
       "      <td id=\"T_8e95d_row0_col2\" class=\"data row0 col2\" >The wide variety of products and the ease of use.</td>\n",
       "    </tr>\n",
       "    <tr>\n",
       "      <th id=\"T_8e95d_level0_row1\" class=\"row_heading level0 row1\" >1</th>\n",
       "      <td id=\"T_8e95d_row1_col0\" class=\"data row1 col0\" >101</td>\n",
       "      <td id=\"T_8e95d_row1_col1\" class=\"data row1 col1\" >What is one feature you would like to see added to improve your shopping experience?</td>\n",
       "      <td id=\"T_8e95d_row1_col2\" class=\"data row1 col2\" >It would be great to have a personalized recommendation system based on my browsing history.</td>\n",
       "    </tr>\n",
       "    <tr>\n",
       "      <th id=\"T_8e95d_level0_row2\" class=\"row_heading level0 row2\" >2</th>\n",
       "      <td id=\"T_8e95d_row2_col0\" class=\"data row2 col0\" >101</td>\n",
       "      <td id=\"T_8e95d_row2_col1\" class=\"data row2 col1\" >Can you describe a recent experience where you were dissatisfied with our service?</td>\n",
       "      <td id=\"T_8e95d_row2_col2\" class=\"data row2 col2\" >I was disappointed when an item I ordered arrived damaged, but customer service quickly resolved it.</td>\n",
       "    </tr>\n",
       "    <tr>\n",
       "      <th id=\"T_8e95d_level0_row3\" class=\"row_heading level0 row3\" >3</th>\n",
       "      <td id=\"T_8e95d_row3_col0\" class=\"data row3 col0\" >101</td>\n",
       "      <td id=\"T_8e95d_row3_col1\" class=\"data row3 col1\" >How do you feel about the current product search and filtering options?</td>\n",
       "      <td id=\"T_8e95d_row3_col2\" class=\"data row3 col2\" >The search and filtering options are intuitive and work well for me.</td>\n",
       "    </tr>\n",
       "    <tr>\n",
       "      <th id=\"T_8e95d_level0_row4\" class=\"row_heading level0 row4\" >4</th>\n",
       "      <td id=\"T_8e95d_row4_col0\" class=\"data row4 col0\" >101</td>\n",
       "      <td id=\"T_8e95d_row4_col1\" class=\"data row4 col1\" >Is there anything else you would like to share about your experience with us?</td>\n",
       "      <td id=\"T_8e95d_row4_col2\" class=\"data row4 col2\" >No, keep up the great work!</td>\n",
       "    </tr>\n",
       "    <tr>\n",
       "      <th id=\"T_8e95d_level0_row5\" class=\"row_heading level0 row5\" >5</th>\n",
       "      <td id=\"T_8e95d_row5_col0\" class=\"data row5 col0\" >102</td>\n",
       "      <td id=\"T_8e95d_row5_col1\" class=\"data row5 col1\" >What do you like most about using our online marketplace?</td>\n",
       "      <td id=\"T_8e95d_row5_col2\" class=\"data row5 col2\" >I enjoy the simplicity of the interface.</td>\n",
       "    </tr>\n",
       "    <tr>\n",
       "      <th id=\"T_8e95d_level0_row6\" class=\"row_heading level0 row6\" >6</th>\n",
       "      <td id=\"T_8e95d_row6_col0\" class=\"data row6 col0\" >102</td>\n",
       "      <td id=\"T_8e95d_row6_col1\" class=\"data row6 col1\" >What is one feature you would like to see added to improve your shopping experience?</td>\n",
       "      <td id=\"T_8e95d_row6_col2\" class=\"data row6 col2\" >A feature that helps compare similar products side by side would be useful.</td>\n",
       "    </tr>\n",
       "    <tr>\n",
       "      <th id=\"T_8e95d_level0_row7\" class=\"row_heading level0 row7\" >7</th>\n",
       "      <td id=\"T_8e95d_row7_col0\" class=\"data row7 col0\" >102</td>\n",
       "      <td id=\"T_8e95d_row7_col1\" class=\"data row7 col1\" >Can you describe a recent experience where you were dissatisfied with our service?</td>\n",
       "      <td id=\"T_8e95d_row7_col2\" class=\"data row7 col2\" >No complaints here.</td>\n",
       "    </tr>\n",
       "    <tr>\n",
       "      <th id=\"T_8e95d_level0_row8\" class=\"row_heading level0 row8\" >8</th>\n",
       "      <td id=\"T_8e95d_row8_col0\" class=\"data row8 col0\" >102</td>\n",
       "      <td id=\"T_8e95d_row8_col1\" class=\"data row8 col1\" >How do you feel about the current product search and filtering options?</td>\n",
       "      <td id=\"T_8e95d_row8_col2\" class=\"data row8 col2\" >I find the product search to be pretty effective.</td>\n",
       "    </tr>\n",
       "    <tr>\n",
       "      <th id=\"T_8e95d_level0_row9\" class=\"row_heading level0 row9\" >9</th>\n",
       "      <td id=\"T_8e95d_row9_col0\" class=\"data row9 col0\" >102</td>\n",
       "      <td id=\"T_8e95d_row9_col1\" class=\"data row9 col1\" >Is there anything else you would like to share about your experience with us?</td>\n",
       "      <td id=\"T_8e95d_row9_col2\" class=\"data row9 col2\" >I think the sky is a beautiful shade of purple today.</td>\n",
       "    </tr>\n",
       "    <tr>\n",
       "      <th id=\"T_8e95d_level0_row10\" class=\"row_heading level0 row10\" >10</th>\n",
       "      <td id=\"T_8e95d_row10_col0\" class=\"data row10 col0\" >103</td>\n",
       "      <td id=\"T_8e95d_row10_col1\" class=\"data row10 col1\" >What do you like most about using our online marketplace?</td>\n",
       "      <td id=\"T_8e95d_row10_col2\" class=\"data row10 col2\" >The platform is user-friendly and offers a vast selection of products.</td>\n",
       "    </tr>\n",
       "    <tr>\n",
       "      <th id=\"T_8e95d_level0_row11\" class=\"row_heading level0 row11\" >11</th>\n",
       "      <td id=\"T_8e95d_row11_col0\" class=\"data row11 col0\" >103</td>\n",
       "      <td id=\"T_8e95d_row11_col1\" class=\"data row11 col1\" >What is one feature you would like to see added to improve your shopping experience?</td>\n",
       "      <td id=\"T_8e95d_row11_col2\" class=\"data row11 col2\" >Would love to see an option to save and compare different products.</td>\n",
       "    </tr>\n",
       "    <tr>\n",
       "      <th id=\"T_8e95d_level0_row12\" class=\"row_heading level0 row12\" >12</th>\n",
       "      <td id=\"T_8e95d_row12_col0\" class=\"data row12 col0\" >103</td>\n",
       "      <td id=\"T_8e95d_row12_col1\" class=\"data row12 col1\" >Can you describe a recent experience where you were dissatisfied with our service?</td>\n",
       "      <td id=\"T_8e95d_row12_col2\" class=\"data row12 col2\" >My delivery was late by a few days, which was frustrating.</td>\n",
       "    </tr>\n",
       "    <tr>\n",
       "      <th id=\"T_8e95d_level0_row13\" class=\"row_heading level0 row13\" >13</th>\n",
       "      <td id=\"T_8e95d_row13_col0\" class=\"data row13 col0\" >103</td>\n",
       "      <td id=\"T_8e95d_row13_col1\" class=\"data row13 col1\" >How do you feel about the current product search and filtering options?</td>\n",
       "      <td id=\"T_8e95d_row13_col2\" class=\"data row13 col2\" >It’s okay.</td>\n",
       "    </tr>\n",
       "    <tr>\n",
       "      <th id=\"T_8e95d_level0_row14\" class=\"row_heading level0 row14\" >14</th>\n",
       "      <td id=\"T_8e95d_row14_col0\" class=\"data row14 col0\" >103</td>\n",
       "      <td id=\"T_8e95d_row14_col1\" class=\"data row14 col1\" >Is there anything else you would like to share about your experience with us?</td>\n",
       "      <td id=\"T_8e95d_row14_col2\" class=\"data row14 col2\" >No.</td>\n",
       "    </tr>\n",
       "  </tbody>\n",
       "</table>\n",
       "\n",
       "            </div>\n",
       "            "
      ],
      "text/plain": [
       "ScenarioList([Scenario({'Respondent ID': '101', 'variable': 'What do you like most about using our online marketplace?', 'value': 'The wide variety of products and the ease of use.'}), Scenario({'Respondent ID': '101', 'variable': 'What is one feature you would like to see added to improve your shopping experience?', 'value': 'It would be great to have a personalized recommendation system based on my browsing history.'}), Scenario({'Respondent ID': '101', 'variable': 'Can you describe a recent experience where you were dissatisfied with our service?', 'value': 'I was disappointed when an item I ordered arrived damaged, but customer service quickly resolved it.'}), Scenario({'Respondent ID': '101', 'variable': 'How do you feel about the current product search and filtering options?', 'value': 'The search and filtering options are intuitive and work well for me.'}), Scenario({'Respondent ID': '101', 'variable': 'Is there anything else you would like to share about your experience with us?', 'value': 'No, keep up the great work!'}), Scenario({'Respondent ID': '102', 'variable': 'What do you like most about using our online marketplace?', 'value': 'I enjoy the simplicity of the interface.'}), Scenario({'Respondent ID': '102', 'variable': 'What is one feature you would like to see added to improve your shopping experience?', 'value': 'A feature that helps compare similar products side by side would be useful.'}), Scenario({'Respondent ID': '102', 'variable': 'Can you describe a recent experience where you were dissatisfied with our service?', 'value': 'No complaints here.'}), Scenario({'Respondent ID': '102', 'variable': 'How do you feel about the current product search and filtering options?', 'value': 'I find the product search to be pretty effective.'}), Scenario({'Respondent ID': '102', 'variable': 'Is there anything else you would like to share about your experience with us?', 'value': 'I think the sky is a beautiful shade of purple today.'}), Scenario({'Respondent ID': '103', 'variable': 'What do you like most about using our online marketplace?', 'value': 'The platform is user-friendly and offers a vast selection of products.'}), Scenario({'Respondent ID': '103', 'variable': 'What is one feature you would like to see added to improve your shopping experience?', 'value': 'Would love to see an option to save and compare different products.'}), Scenario({'Respondent ID': '103', 'variable': 'Can you describe a recent experience where you were dissatisfied with our service?', 'value': 'My delivery was late by a few days, which was frustrating.'}), Scenario({'Respondent ID': '103', 'variable': 'How do you feel about the current product search and filtering options?', 'value': 'It’s okay.'}), Scenario({'Respondent ID': '103', 'variable': 'Is there anything else you would like to share about your experience with us?', 'value': 'No.'})])"
      ]
     },
     "execution_count": 19,
     "metadata": {},
     "output_type": "execute_result"
    }
   ],
   "source": [
    "sl_qa = sl.unpivot(id_vars = [\"Respondent ID\"])\n",
    "sl_qa"
   ]
  },
  {
   "cell_type": "markdown",
   "id": "d42e6d13-aa2a-4f07-890f-5075d40f318e",
   "metadata": {
    "editable": true,
    "slideshow": {
     "slide_type": ""
    },
    "tags": []
   },
   "source": [
    "We can call the `rename()` method to rename the keys as desired to match our question parameters syntax:"
   ]
  },
  {
   "cell_type": "code",
   "execution_count": 20,
   "id": "4dc47dc0-0a8a-4b3f-88ac-6d6f3dea54a8",
   "metadata": {
    "editable": true,
    "slideshow": {
     "slide_type": ""
    },
    "tags": []
   },
   "outputs": [
    {
     "data": {
      "text/html": [
       "<p><a href='https://docs.expectedparrot.com/en/latest/scenarios.html#scenariolist'>ScenarioList</a> scenarios: 15; keys: ['answer', 'question', 'id'];</p>\n",
       "            <div style=\"max-height: 500px; overflow-y: auto;\">\n",
       "                <style type=\"text/css\">\n",
       "#T_f89a1_row0_col0, #T_f89a1_row1_col0, #T_f89a1_row2_col0, #T_f89a1_row3_col0, #T_f89a1_row4_col0 {\n",
       "  text-align: left;\n",
       "  background-color: #fff7fb;\n",
       "  color: #000000;\n",
       "}\n",
       "#T_f89a1_row0_col1, #T_f89a1_row0_col2, #T_f89a1_row1_col1, #T_f89a1_row1_col2, #T_f89a1_row2_col1, #T_f89a1_row2_col2, #T_f89a1_row3_col1, #T_f89a1_row3_col2, #T_f89a1_row4_col1, #T_f89a1_row4_col2, #T_f89a1_row5_col1, #T_f89a1_row5_col2, #T_f89a1_row6_col1, #T_f89a1_row6_col2, #T_f89a1_row7_col1, #T_f89a1_row7_col2, #T_f89a1_row8_col1, #T_f89a1_row8_col2, #T_f89a1_row9_col1, #T_f89a1_row9_col2, #T_f89a1_row10_col1, #T_f89a1_row10_col2, #T_f89a1_row11_col1, #T_f89a1_row11_col2, #T_f89a1_row12_col1, #T_f89a1_row12_col2, #T_f89a1_row13_col1, #T_f89a1_row13_col2, #T_f89a1_row14_col1, #T_f89a1_row14_col2 {\n",
       "  text-align: left;\n",
       "}\n",
       "#T_f89a1_row5_col0, #T_f89a1_row6_col0, #T_f89a1_row7_col0, #T_f89a1_row8_col0, #T_f89a1_row9_col0 {\n",
       "  text-align: left;\n",
       "  background-color: #73a9cf;\n",
       "  color: #f1f1f1;\n",
       "}\n",
       "#T_f89a1_row10_col0, #T_f89a1_row11_col0, #T_f89a1_row12_col0, #T_f89a1_row13_col0, #T_f89a1_row14_col0 {\n",
       "  text-align: left;\n",
       "  background-color: #023858;\n",
       "  color: #f1f1f1;\n",
       "}\n",
       "</style>\n",
       "<table id=\"T_f89a1\">\n",
       "  <thead>\n",
       "    <tr>\n",
       "      <th class=\"blank level0\" >&nbsp;</th>\n",
       "      <th id=\"T_f89a1_level0_col0\" class=\"col_heading level0 col0\" >id</th>\n",
       "      <th id=\"T_f89a1_level0_col1\" class=\"col_heading level0 col1\" >question</th>\n",
       "      <th id=\"T_f89a1_level0_col2\" class=\"col_heading level0 col2\" >answer</th>\n",
       "    </tr>\n",
       "  </thead>\n",
       "  <tbody>\n",
       "    <tr>\n",
       "      <th id=\"T_f89a1_level0_row0\" class=\"row_heading level0 row0\" >0</th>\n",
       "      <td id=\"T_f89a1_row0_col0\" class=\"data row0 col0\" >101</td>\n",
       "      <td id=\"T_f89a1_row0_col1\" class=\"data row0 col1\" >What do you like most about using our online marketplace?</td>\n",
       "      <td id=\"T_f89a1_row0_col2\" class=\"data row0 col2\" >The wide variety of products and the ease of use.</td>\n",
       "    </tr>\n",
       "    <tr>\n",
       "      <th id=\"T_f89a1_level0_row1\" class=\"row_heading level0 row1\" >1</th>\n",
       "      <td id=\"T_f89a1_row1_col0\" class=\"data row1 col0\" >101</td>\n",
       "      <td id=\"T_f89a1_row1_col1\" class=\"data row1 col1\" >What is one feature you would like to see added to improve your shopping experience?</td>\n",
       "      <td id=\"T_f89a1_row1_col2\" class=\"data row1 col2\" >It would be great to have a personalized recommendation system based on my browsing history.</td>\n",
       "    </tr>\n",
       "    <tr>\n",
       "      <th id=\"T_f89a1_level0_row2\" class=\"row_heading level0 row2\" >2</th>\n",
       "      <td id=\"T_f89a1_row2_col0\" class=\"data row2 col0\" >101</td>\n",
       "      <td id=\"T_f89a1_row2_col1\" class=\"data row2 col1\" >Can you describe a recent experience where you were dissatisfied with our service?</td>\n",
       "      <td id=\"T_f89a1_row2_col2\" class=\"data row2 col2\" >I was disappointed when an item I ordered arrived damaged, but customer service quickly resolved it.</td>\n",
       "    </tr>\n",
       "    <tr>\n",
       "      <th id=\"T_f89a1_level0_row3\" class=\"row_heading level0 row3\" >3</th>\n",
       "      <td id=\"T_f89a1_row3_col0\" class=\"data row3 col0\" >101</td>\n",
       "      <td id=\"T_f89a1_row3_col1\" class=\"data row3 col1\" >How do you feel about the current product search and filtering options?</td>\n",
       "      <td id=\"T_f89a1_row3_col2\" class=\"data row3 col2\" >The search and filtering options are intuitive and work well for me.</td>\n",
       "    </tr>\n",
       "    <tr>\n",
       "      <th id=\"T_f89a1_level0_row4\" class=\"row_heading level0 row4\" >4</th>\n",
       "      <td id=\"T_f89a1_row4_col0\" class=\"data row4 col0\" >101</td>\n",
       "      <td id=\"T_f89a1_row4_col1\" class=\"data row4 col1\" >Is there anything else you would like to share about your experience with us?</td>\n",
       "      <td id=\"T_f89a1_row4_col2\" class=\"data row4 col2\" >No, keep up the great work!</td>\n",
       "    </tr>\n",
       "    <tr>\n",
       "      <th id=\"T_f89a1_level0_row5\" class=\"row_heading level0 row5\" >5</th>\n",
       "      <td id=\"T_f89a1_row5_col0\" class=\"data row5 col0\" >102</td>\n",
       "      <td id=\"T_f89a1_row5_col1\" class=\"data row5 col1\" >What do you like most about using our online marketplace?</td>\n",
       "      <td id=\"T_f89a1_row5_col2\" class=\"data row5 col2\" >I enjoy the simplicity of the interface.</td>\n",
       "    </tr>\n",
       "    <tr>\n",
       "      <th id=\"T_f89a1_level0_row6\" class=\"row_heading level0 row6\" >6</th>\n",
       "      <td id=\"T_f89a1_row6_col0\" class=\"data row6 col0\" >102</td>\n",
       "      <td id=\"T_f89a1_row6_col1\" class=\"data row6 col1\" >What is one feature you would like to see added to improve your shopping experience?</td>\n",
       "      <td id=\"T_f89a1_row6_col2\" class=\"data row6 col2\" >A feature that helps compare similar products side by side would be useful.</td>\n",
       "    </tr>\n",
       "    <tr>\n",
       "      <th id=\"T_f89a1_level0_row7\" class=\"row_heading level0 row7\" >7</th>\n",
       "      <td id=\"T_f89a1_row7_col0\" class=\"data row7 col0\" >102</td>\n",
       "      <td id=\"T_f89a1_row7_col1\" class=\"data row7 col1\" >Can you describe a recent experience where you were dissatisfied with our service?</td>\n",
       "      <td id=\"T_f89a1_row7_col2\" class=\"data row7 col2\" >No complaints here.</td>\n",
       "    </tr>\n",
       "    <tr>\n",
       "      <th id=\"T_f89a1_level0_row8\" class=\"row_heading level0 row8\" >8</th>\n",
       "      <td id=\"T_f89a1_row8_col0\" class=\"data row8 col0\" >102</td>\n",
       "      <td id=\"T_f89a1_row8_col1\" class=\"data row8 col1\" >How do you feel about the current product search and filtering options?</td>\n",
       "      <td id=\"T_f89a1_row8_col2\" class=\"data row8 col2\" >I find the product search to be pretty effective.</td>\n",
       "    </tr>\n",
       "    <tr>\n",
       "      <th id=\"T_f89a1_level0_row9\" class=\"row_heading level0 row9\" >9</th>\n",
       "      <td id=\"T_f89a1_row9_col0\" class=\"data row9 col0\" >102</td>\n",
       "      <td id=\"T_f89a1_row9_col1\" class=\"data row9 col1\" >Is there anything else you would like to share about your experience with us?</td>\n",
       "      <td id=\"T_f89a1_row9_col2\" class=\"data row9 col2\" >I think the sky is a beautiful shade of purple today.</td>\n",
       "    </tr>\n",
       "    <tr>\n",
       "      <th id=\"T_f89a1_level0_row10\" class=\"row_heading level0 row10\" >10</th>\n",
       "      <td id=\"T_f89a1_row10_col0\" class=\"data row10 col0\" >103</td>\n",
       "      <td id=\"T_f89a1_row10_col1\" class=\"data row10 col1\" >What do you like most about using our online marketplace?</td>\n",
       "      <td id=\"T_f89a1_row10_col2\" class=\"data row10 col2\" >The platform is user-friendly and offers a vast selection of products.</td>\n",
       "    </tr>\n",
       "    <tr>\n",
       "      <th id=\"T_f89a1_level0_row11\" class=\"row_heading level0 row11\" >11</th>\n",
       "      <td id=\"T_f89a1_row11_col0\" class=\"data row11 col0\" >103</td>\n",
       "      <td id=\"T_f89a1_row11_col1\" class=\"data row11 col1\" >What is one feature you would like to see added to improve your shopping experience?</td>\n",
       "      <td id=\"T_f89a1_row11_col2\" class=\"data row11 col2\" >Would love to see an option to save and compare different products.</td>\n",
       "    </tr>\n",
       "    <tr>\n",
       "      <th id=\"T_f89a1_level0_row12\" class=\"row_heading level0 row12\" >12</th>\n",
       "      <td id=\"T_f89a1_row12_col0\" class=\"data row12 col0\" >103</td>\n",
       "      <td id=\"T_f89a1_row12_col1\" class=\"data row12 col1\" >Can you describe a recent experience where you were dissatisfied with our service?</td>\n",
       "      <td id=\"T_f89a1_row12_col2\" class=\"data row12 col2\" >My delivery was late by a few days, which was frustrating.</td>\n",
       "    </tr>\n",
       "    <tr>\n",
       "      <th id=\"T_f89a1_level0_row13\" class=\"row_heading level0 row13\" >13</th>\n",
       "      <td id=\"T_f89a1_row13_col0\" class=\"data row13 col0\" >103</td>\n",
       "      <td id=\"T_f89a1_row13_col1\" class=\"data row13 col1\" >How do you feel about the current product search and filtering options?</td>\n",
       "      <td id=\"T_f89a1_row13_col2\" class=\"data row13 col2\" >It’s okay.</td>\n",
       "    </tr>\n",
       "    <tr>\n",
       "      <th id=\"T_f89a1_level0_row14\" class=\"row_heading level0 row14\" >14</th>\n",
       "      <td id=\"T_f89a1_row14_col0\" class=\"data row14 col0\" >103</td>\n",
       "      <td id=\"T_f89a1_row14_col1\" class=\"data row14 col1\" >Is there anything else you would like to share about your experience with us?</td>\n",
       "      <td id=\"T_f89a1_row14_col2\" class=\"data row14 col2\" >No.</td>\n",
       "    </tr>\n",
       "  </tbody>\n",
       "</table>\n",
       "\n",
       "            </div>\n",
       "            "
      ],
      "text/plain": [
       "ScenarioList([Scenario({'id': '101', 'question': 'What do you like most about using our online marketplace?', 'answer': 'The wide variety of products and the ease of use.'}), Scenario({'id': '101', 'question': 'What is one feature you would like to see added to improve your shopping experience?', 'answer': 'It would be great to have a personalized recommendation system based on my browsing history.'}), Scenario({'id': '101', 'question': 'Can you describe a recent experience where you were dissatisfied with our service?', 'answer': 'I was disappointed when an item I ordered arrived damaged, but customer service quickly resolved it.'}), Scenario({'id': '101', 'question': 'How do you feel about the current product search and filtering options?', 'answer': 'The search and filtering options are intuitive and work well for me.'}), Scenario({'id': '101', 'question': 'Is there anything else you would like to share about your experience with us?', 'answer': 'No, keep up the great work!'}), Scenario({'id': '102', 'question': 'What do you like most about using our online marketplace?', 'answer': 'I enjoy the simplicity of the interface.'}), Scenario({'id': '102', 'question': 'What is one feature you would like to see added to improve your shopping experience?', 'answer': 'A feature that helps compare similar products side by side would be useful.'}), Scenario({'id': '102', 'question': 'Can you describe a recent experience where you were dissatisfied with our service?', 'answer': 'No complaints here.'}), Scenario({'id': '102', 'question': 'How do you feel about the current product search and filtering options?', 'answer': 'I find the product search to be pretty effective.'}), Scenario({'id': '102', 'question': 'Is there anything else you would like to share about your experience with us?', 'answer': 'I think the sky is a beautiful shade of purple today.'}), Scenario({'id': '103', 'question': 'What do you like most about using our online marketplace?', 'answer': 'The platform is user-friendly and offers a vast selection of products.'}), Scenario({'id': '103', 'question': 'What is one feature you would like to see added to improve your shopping experience?', 'answer': 'Would love to see an option to save and compare different products.'}), Scenario({'id': '103', 'question': 'Can you describe a recent experience where you were dissatisfied with our service?', 'answer': 'My delivery was late by a few days, which was frustrating.'}), Scenario({'id': '103', 'question': 'How do you feel about the current product search and filtering options?', 'answer': 'It’s okay.'}), Scenario({'id': '103', 'question': 'Is there anything else you would like to share about your experience with us?', 'answer': 'No.'})])"
      ]
     },
     "execution_count": 20,
     "metadata": {},
     "output_type": "execute_result"
    }
   ],
   "source": [
    "sl_qa = sl_qa.rename({\"Respondent ID\": \"id\", \"variable\": \"question\", \"value\": \"answer\"})\n",
    "sl_qa"
   ]
  },
  {
   "cell_type": "code",
   "execution_count": 21,
   "id": "076719cb-fd16-4f75-90e3-fc1554d6c5ca",
   "metadata": {
    "editable": true,
    "slideshow": {
     "slide_type": ""
    },
    "tags": []
   },
   "outputs": [],
   "source": [
    "from edsl import QuestionYesNo\n",
    "\n",
    "q_responsive = QuestionYesNo(\n",
    "    question_name = \"responsive\",\n",
    "    question_text = \"Is this answer responsive to the question that was asked? Question: {{ scenario.question }} Answer: {{ scenario.answer }}\"\n",
    ")"
   ]
  },
  {
   "cell_type": "code",
   "execution_count": 22,
   "id": "1f1e524c-9525-4683-aade-4f3bb33b238a",
   "metadata": {
    "editable": true,
    "slideshow": {
     "slide_type": ""
    },
    "tags": []
   },
   "outputs": [
    {
     "data": {
      "text/html": [
       "\n",
       "            <!-- #region Remove Inference Info -->\n",
       "            <div id=\"logger-5bb8c11d-0c66-41eb-b1d0-8d77c2eca84e\" class=\"job-logger\">\n",
       "                <div class=\"job-logger-header\">\n",
       "                    <span>\n",
       "                        <span id=\"arrow-5bb8c11d-0c66-41eb-b1d0-8d77c2eca84e\">▼</span> \n",
       "                        Job Status (2025-03-03 12:32:13)\n",
       "                    </span>\n",
       "                </div>\n",
       "                <div id=\"content-5bb8c11d-0c66-41eb-b1d0-8d77c2eca84e\" style=\"display: block;\">\n",
       "                    <table class=\"job-logger-table\">\n",
       "                        \n",
       "            <tr>\n",
       "                <td class=\"job-logger-cell job-logger-label\">Job UUID</td>\n",
       "                <td class=\"job-logger-cell job-logger-value\">75824a15-efb7-4447-af29-6cba2b10219d</td>\n",
       "            </tr>\n",
       "        \n",
       "            <tr>\n",
       "                <td class=\"job-logger-cell job-logger-label\">Progress Bar URL</td>\n",
       "                <td class=\"job-logger-cell job-logger-value\"><a href=\"https://www.expectedparrot.com/home/remote-job-progress/75824a15-efb7-4447-af29-6cba2b10219d\" target=\"_blank\" class=\"job-logger-link\">https://www.expectedparrot.com/home/remote-job-progress/75824a15-efb7-4447-af29-6cba2b10219d</a></td>\n",
       "            </tr>\n",
       "        \n",
       "            <tr>\n",
       "                <td class=\"job-logger-cell job-logger-label\">Exceptions Report URL</td>\n",
       "                <td class=\"job-logger-cell job-logger-value\">None</td>\n",
       "            </tr>\n",
       "        \n",
       "            <tr>\n",
       "                <td class=\"job-logger-cell job-logger-label\">Results UUID</td>\n",
       "                <td class=\"job-logger-cell job-logger-value\">acb2b7b6-8688-4a4f-bcab-b10552ef87f8</td>\n",
       "            </tr>\n",
       "        \n",
       "            <tr>\n",
       "                <td class=\"job-logger-cell job-logger-label\">Results URL</td>\n",
       "                <td class=\"job-logger-cell job-logger-value\"><a href=\"https://www.expectedparrot.com/content/acb2b7b6-8688-4a4f-bcab-b10552ef87f8\" target=\"_blank\" class=\"job-logger-link\">https://www.expectedparrot.com/content/acb2b7b6-8688-4a4f-bcab-b10552ef87f8</a></td>\n",
       "            </tr>\n",
       "        \n",
       "                    </table>\n",
       "                    \n",
       "                <div class=\"job-logger-status\">\n",
       "                    <span style=\"margin-right: 8px;\" class=\"job-logger-success\">✓</span><strong>Current Status:</strong> Job completed and Results stored on Coop: <a href=\"https://www.expectedparrot.com/content/acb2b7b6-8688-4a4f-bcab-b10552ef87f8\" target=\"_blank\" class=\"job-logger-link\">https://www.expectedparrot.com/content/acb2b7b6-8688-4a4f-bcab-b10552ef87f8</a>\n",
       "                </div>\n",
       "            \n",
       "                </div>\n",
       "            </div>\n",
       "            <!-- # endregion -->\n",
       "        "
      ],
      "text/plain": [
       "<IPython.core.display.HTML object>"
      ]
     },
     "metadata": {},
     "output_type": "display_data"
    },
    {
     "data": {
      "text/html": [
       "\n",
       "        <style>\n",
       "            /* Base theme variables */\n",
       "            :root {\n",
       "                --jl-bg-primary: #ffffff;\n",
       "                --jl-bg-secondary: #f5f5f5;\n",
       "                --jl-border-color: #e0e0e0;\n",
       "                --jl-text-primary: #24292e;\n",
       "                --jl-text-secondary: #586069;\n",
       "                --jl-link-color: #0366d6;\n",
       "                --jl-success-color: #28a745;\n",
       "                --jl-error-color: #d73a49;\n",
       "                --jl-header-bg: #f1f1f1;\n",
       "            }\n",
       "            \n",
       "            /* Dark theme variables */\n",
       "            .theme-dark {\n",
       "                --jl-bg-primary: #1e1e1e;\n",
       "                --jl-bg-secondary: #252526;\n",
       "                --jl-border-color: #2d2d2d;\n",
       "                --jl-text-primary: #cccccc;\n",
       "                --jl-text-secondary: #999999;\n",
       "                --jl-link-color: #4e94ce;\n",
       "                --jl-success-color: #89d185;\n",
       "                --jl-error-color: #f14c4c;\n",
       "                --jl-header-bg: #333333;\n",
       "            }\n",
       "\n",
       "            /* High contrast theme variables */\n",
       "            .theme-high-contrast {\n",
       "                --jl-bg-primary: #000000;\n",
       "                --jl-bg-secondary: #1a1a1a;\n",
       "                --jl-border-color: #404040;\n",
       "                --jl-text-primary: #ffffff;\n",
       "                --jl-text-secondary: #cccccc;\n",
       "                --jl-link-color: #66b3ff;\n",
       "                --jl-success-color: #00ff00;\n",
       "                --jl-error-color: #ff0000;\n",
       "                --jl-header-bg: #262626;\n",
       "            }\n",
       "            \n",
       "            .job-logger {\n",
       "                font-family: system-ui, -apple-system, sans-serif;\n",
       "                max-width: 800px;\n",
       "                margin: 10px 0;\n",
       "                color: var(--jl-text-primary);\n",
       "                box-shadow: 0 1px 3px rgba(0,0,0,0.12);\n",
       "                border-radius: 4px;\n",
       "                overflow: hidden;\n",
       "            }\n",
       "            \n",
       "            .job-logger-header {\n",
       "                padding: 12px 16px;\n",
       "                background: var(--jl-header-bg);\n",
       "                border: none;\n",
       "                border-radius: 4px 4px 0 0;\n",
       "                cursor: pointer;\n",
       "                color: var(--jl-text-primary);\n",
       "                user-select: none;\n",
       "                font-weight: 500;\n",
       "                letter-spacing: 0.3px;\n",
       "                display: flex;\n",
       "                justify-content: space-between;\n",
       "                align-items: center;\n",
       "            }\n",
       "            \n",
       "            .theme-select {\n",
       "                padding: 4px 8px;\n",
       "                border-radius: 4px;\n",
       "                border: 1px solid var(--jl-border-color);\n",
       "                background: var(--jl-bg-primary);\n",
       "                color: var(--jl-text-primary);\n",
       "                font-size: 0.9em;\n",
       "            }\n",
       "            \n",
       "            .job-logger-table {\n",
       "                width: 100%;\n",
       "                border-collapse: separate;\n",
       "                border-spacing: 0;\n",
       "                background: var(--jl-bg-primary);\n",
       "                border: 1px solid var(--jl-border-color);\n",
       "                margin-top: -1px;\n",
       "            }\n",
       "            \n",
       "            .job-logger-cell {\n",
       "                padding: 12px 16px;\n",
       "                border-bottom: 1px solid var(--jl-border-color);\n",
       "                line-height: 1.4;\n",
       "            }\n",
       "            \n",
       "            .job-logger-label {\n",
       "                font-weight: 500;\n",
       "                color: var(--jl-text-primary);\n",
       "                width: 25%;\n",
       "                background: var(--jl-bg-secondary);\n",
       "            }\n",
       "            \n",
       "            .job-logger-value {\n",
       "                color: var(--jl-text-secondary);\n",
       "                word-break: break-word;\n",
       "            }\n",
       "            \n",
       "            .job-logger-status {\n",
       "                margin: 0;\n",
       "                padding: 12px 16px;\n",
       "                background-color: var(--jl-bg-secondary);\n",
       "                border: 1px solid var(--jl-border-color);\n",
       "                border-top: none;\n",
       "                border-radius: 0 0 4px 4px;\n",
       "                color: var(--jl-text-primary);\n",
       "                font-size: 0.95em;\n",
       "            }\n",
       "        </style>\n",
       "        \n",
       "        <script>\n",
       "            class ThemeManager {\n",
       "                constructor(logId, initialTheme = 'auto') {\n",
       "                    this.logId = logId;\n",
       "                    this.currentTheme = initialTheme;\n",
       "                    this.darkModeMediaQuery = window.matchMedia('(prefers-color-scheme: dark)');\n",
       "                    this.init();\n",
       "                }\n",
       "                \n",
       "                init() {\n",
       "                    this.setupThemeSwitcher();\n",
       "                    this.updateTheme(this.currentTheme);\n",
       "                    \n",
       "                    this.darkModeMediaQuery.addListener(() => {\n",
       "                        if (this.currentTheme === 'auto') {\n",
       "                            this.updateTheme('auto');\n",
       "                        }\n",
       "                    });\n",
       "                }\n",
       "                \n",
       "                setupThemeSwitcher() {\n",
       "                    const logger = document.querySelector(`#logger-${this.logId}`);\n",
       "                    if (!logger) return;\n",
       "                    \n",
       "                    const switcher = document.createElement('div');\n",
       "                    switcher.className = 'theme-switcher';\n",
       "                    switcher.innerHTML = `\n",
       "                        <select id=\"theme-select-${this.logId}\" class=\"theme-select\">\n",
       "                            <option value=\"auto\">Auto</option>\n",
       "                            <option value=\"light\">Light</option>\n",
       "                            <option value=\"dark\">Dark</option>\n",
       "                            <option value=\"high-contrast\">High Contrast</option>\n",
       "                        </select>\n",
       "                    `;\n",
       "                    \n",
       "                    const header = logger.querySelector('.job-logger-header');\n",
       "                    header.appendChild(switcher);\n",
       "                    \n",
       "                    const select = switcher.querySelector('select');\n",
       "                    select.value = this.currentTheme;\n",
       "                    select.addEventListener('change', (e) => {\n",
       "                        this.updateTheme(e.target.value);\n",
       "                    });\n",
       "                }\n",
       "                \n",
       "                updateTheme(theme) {\n",
       "                    const logger = document.querySelector(`#logger-${this.logId}`);\n",
       "                    if (!logger) return;\n",
       "                    \n",
       "                    this.currentTheme = theme;\n",
       "                    \n",
       "                    logger.classList.remove('theme-light', 'theme-dark', 'theme-high-contrast');\n",
       "                    \n",
       "                    if (theme === 'auto') {\n",
       "                        const isDark = this.darkModeMediaQuery.matches;\n",
       "                        logger.classList.add(isDark ? 'theme-dark' : 'theme-light');\n",
       "                    } else {\n",
       "                        logger.classList.add(`theme-${theme}`);\n",
       "                    }\n",
       "                    \n",
       "                    try {\n",
       "                        localStorage.setItem('jobLoggerTheme', theme);\n",
       "                    } catch (e) {\n",
       "                        console.warn('Unable to save theme preference:', e);\n",
       "                    }\n",
       "                }\n",
       "            }\n",
       "            \n",
       "            window.initThemeManager = (logId, initialTheme) => {\n",
       "                new ThemeManager(logId, initialTheme);\n",
       "            };\n",
       "        </script>\n",
       "        \n",
       "        <script>\n",
       "            document.addEventListener('DOMContentLoaded', () => {\n",
       "                window.initThemeManager('5bb8c11d-0c66-41eb-b1d0-8d77c2eca84e', 'auto');\n",
       "            });\n",
       "        </script>\n",
       "        "
      ],
      "text/plain": [
       "<IPython.core.display.HTML object>"
      ]
     },
     "metadata": {},
     "output_type": "display_data"
    }
   ],
   "source": [
    "results = q_responsive.by(sl_qa).by(m).run()"
   ]
  },
  {
   "cell_type": "code",
   "execution_count": 23,
   "id": "99b90830-46c8-40a8-b1b0-d6bc79c42cbb",
   "metadata": {
    "editable": true,
    "slideshow": {
     "slide_type": ""
    },
    "tags": []
   },
   "outputs": [
    {
     "data": {
      "text/html": [
       "\n",
       "            <div style=\"max-height: 500px; overflow-y: auto;\">\n",
       "                <style type=\"text/css\">\n",
       "#T_80986_row0_col0, #T_80986_row1_col0 {\n",
       "  text-align: left;\n",
       "  background-color: #fff7fb;\n",
       "  color: #000000;\n",
       "}\n",
       "#T_80986_row0_col1, #T_80986_row0_col2, #T_80986_row1_col1, #T_80986_row1_col2, #T_80986_row2_col1, #T_80986_row2_col2, #T_80986_row3_col1, #T_80986_row3_col2, #T_80986_row4_col1, #T_80986_row4_col2, #T_80986_row5_col1, #T_80986_row5_col2 {\n",
       "  text-align: left;\n",
       "}\n",
       "#T_80986_row2_col0, #T_80986_row3_col0, #T_80986_row4_col0 {\n",
       "  text-align: left;\n",
       "  background-color: #73a9cf;\n",
       "  color: #f1f1f1;\n",
       "}\n",
       "#T_80986_row5_col0 {\n",
       "  text-align: left;\n",
       "  background-color: #023858;\n",
       "  color: #f1f1f1;\n",
       "}\n",
       "</style>\n",
       "<table id=\"T_80986\">\n",
       "  <thead>\n",
       "    <tr>\n",
       "      <th class=\"blank level0\" >&nbsp;</th>\n",
       "      <th id=\"T_80986_level0_col0\" class=\"col_heading level0 col0\" >scenario.id</th>\n",
       "      <th id=\"T_80986_level0_col1\" class=\"col_heading level0 col1\" >scenario.question</th>\n",
       "      <th id=\"T_80986_level0_col2\" class=\"col_heading level0 col2\" >scenario.answer</th>\n",
       "    </tr>\n",
       "  </thead>\n",
       "  <tbody>\n",
       "    <tr>\n",
       "      <th id=\"T_80986_level0_row0\" class=\"row_heading level0 row0\" >0</th>\n",
       "      <td id=\"T_80986_row0_col0\" class=\"data row0 col0\" >101</td>\n",
       "      <td id=\"T_80986_row0_col1\" class=\"data row0 col1\" >Can you describe a recent experience where you were dissatisfied with our service?</td>\n",
       "      <td id=\"T_80986_row0_col2\" class=\"data row0 col2\" >I was disappointed when an item I ordered arrived damaged, but customer service quickly resolved it.</td>\n",
       "    </tr>\n",
       "    <tr>\n",
       "      <th id=\"T_80986_level0_row1\" class=\"row_heading level0 row1\" >1</th>\n",
       "      <td id=\"T_80986_row1_col0\" class=\"data row1 col0\" >101</td>\n",
       "      <td id=\"T_80986_row1_col1\" class=\"data row1 col1\" >Is there anything else you would like to share about your experience with us?</td>\n",
       "      <td id=\"T_80986_row1_col2\" class=\"data row1 col2\" >No, keep up the great work!</td>\n",
       "    </tr>\n",
       "    <tr>\n",
       "      <th id=\"T_80986_level0_row2\" class=\"row_heading level0 row2\" >2</th>\n",
       "      <td id=\"T_80986_row2_col0\" class=\"data row2 col0\" >102</td>\n",
       "      <td id=\"T_80986_row2_col1\" class=\"data row2 col1\" >Can you describe a recent experience where you were dissatisfied with our service?</td>\n",
       "      <td id=\"T_80986_row2_col2\" class=\"data row2 col2\" >No complaints here.</td>\n",
       "    </tr>\n",
       "    <tr>\n",
       "      <th id=\"T_80986_level0_row3\" class=\"row_heading level0 row3\" >3</th>\n",
       "      <td id=\"T_80986_row3_col0\" class=\"data row3 col0\" >102</td>\n",
       "      <td id=\"T_80986_row3_col1\" class=\"data row3 col1\" >How do you feel about the current product search and filtering options?</td>\n",
       "      <td id=\"T_80986_row3_col2\" class=\"data row3 col2\" >I find the product search to be pretty effective.</td>\n",
       "    </tr>\n",
       "    <tr>\n",
       "      <th id=\"T_80986_level0_row4\" class=\"row_heading level0 row4\" >4</th>\n",
       "      <td id=\"T_80986_row4_col0\" class=\"data row4 col0\" >102</td>\n",
       "      <td id=\"T_80986_row4_col1\" class=\"data row4 col1\" >Is there anything else you would like to share about your experience with us?</td>\n",
       "      <td id=\"T_80986_row4_col2\" class=\"data row4 col2\" >I think the sky is a beautiful shade of purple today.</td>\n",
       "    </tr>\n",
       "    <tr>\n",
       "      <th id=\"T_80986_level0_row5\" class=\"row_heading level0 row5\" >5</th>\n",
       "      <td id=\"T_80986_row5_col0\" class=\"data row5 col0\" >103</td>\n",
       "      <td id=\"T_80986_row5_col1\" class=\"data row5 col1\" >How do you feel about the current product search and filtering options?</td>\n",
       "      <td id=\"T_80986_row5_col2\" class=\"data row5 col2\" >It’s okay.</td>\n",
       "    </tr>\n",
       "  </tbody>\n",
       "</table>\n",
       "\n",
       "            </div>\n",
       "            "
      ],
      "text/plain": [
       "Dataset([{'scenario.id': ['101', '101', '102', '102', '102', '103']}, {'scenario.question': ['Can you describe a recent experience where you were dissatisfied with our service?', 'Is there anything else you would like to share about your experience with us?', 'Can you describe a recent experience where you were dissatisfied with our service?', 'How do you feel about the current product search and filtering options?', 'Is there anything else you would like to share about your experience with us?', 'How do you feel about the current product search and filtering options?']}, {'scenario.answer': ['I was disappointed when an item I ordered arrived damaged, but customer service quickly resolved it.', 'No, keep up the great work!', 'No complaints here.', 'I find the product search to be pretty effective.', 'I think the sky is a beautiful shade of purple today.', 'It’s okay.']}])"
      ]
     },
     "execution_count": 23,
     "metadata": {},
     "output_type": "execute_result"
    }
   ],
   "source": [
    "(\n",
    "    results\n",
    "    .filter(\"responsive == 'No'\")\n",
    "    .select(\"id\", \"question\", \"answer\")\n",
    ")"
   ]
  },
  {
   "cell_type": "markdown",
   "id": "eeac0787-133c-45aa-8abc-4fe40863b1b9",
   "metadata": {
    "editable": true,
    "slideshow": {
     "slide_type": ""
    },
    "tags": []
   },
   "source": [
    "## Uploading content to Coop\n",
    "[Coop](https://www.expectedparrot.com/content/content/explore) is a new platform for creating, storing and sharing LLM-based research. It is fully integrated with EDSL, and a convenient place to post and access surveys, agents, results and notebooks. [Learn more about using the Coop](https://docs.expectedparrot.com/en/latest/coop.html).\n",
    "\n",
    "Here we post the contents of this notebook:"
   ]
  },
  {
   "cell_type": "code",
   "execution_count": 26,
   "id": "c288913c-900b-477a-8e10-8352d393aa03",
   "metadata": {
    "editable": true,
    "slideshow": {
     "slide_type": ""
    },
    "tags": [
     "skip-execution"
    ]
   },
   "outputs": [],
   "source": [
    "from edsl import Notebook\n",
    "\n",
    "nb = Notebook(path = \"scenariolist_unpivot.ipynb\")\n",
    "\n",
    "if refresh := False:\n",
    "    nb.push(\n",
    "        description = \"ScenarioList methods for sense checking survey data\", \n",
    "        alias = \"scenariolist-sense-checking-survey-notebook\",\n",
    "        visibility = \"public\"\n",
    "    )\n",
    "else:\n",
    "    nb.patch('aad6b4f6-f7f3-4d67-9a79-8ce105f289fd', value = nb)"
   ]
  }
 ],
 "metadata": {
  "kernelspec": {
   "display_name": "Python 3 (ipykernel)",
   "language": "python",
   "name": "python3"
  },
  "language_info": {
   "codemirror_mode": {
    "name": "ipython",
    "version": 3
   },
   "file_extension": ".py",
   "mimetype": "text/x-python",
   "name": "python",
   "nbconvert_exporter": "python",
   "pygments_lexer": "ipython3",
   "version": "3.11.7"
  }
 },
 "nbformat": 4,
 "nbformat_minor": 5
}
