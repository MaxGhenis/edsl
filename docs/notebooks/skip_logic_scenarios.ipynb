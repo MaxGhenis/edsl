{
 "cells": [
  {
   "cell_type": "markdown",
   "id": "326dc3be-a063-4ccd-bb4d-8be25b616d48",
   "metadata": {},
   "source": [
    "# Skip logic & scenarios\n",
    "This notebook provides example EDSL code for using a language model to simulate a survey that uses skip logic in different ways to determine which questions and variations of questions are administered based on responses to other questions in the survey. \n",
    "\n",
    "In the first example below we construct a survey of questions and then add a rule to skip a particular question based on the response to a prior question.\n",
    "\n",
    "In the second example we create different versions of questions and combine them in a survey. Then we add rules to skip the certain versions of the questions based on a response to another version of a question. \n",
    "\n",
    "[EDSL is an open-source library](https://github.com/expectedparrot/edsl) for simulating surveys, experiments and other research with AI agents and large language models. \n",
    "Before running the code below, please ensure that you have [installed the EDSL library](https://docs.expectedparrot.com/en/latest/installation.html) and either [activated remote inference](https://docs.expectedparrot.com/en/latest/remote_inference.html) from your [Coop account](https://docs.expectedparrot.com/en/latest/coop.html) or [stored API keys](https://docs.expectedparrot.com/en/latest/api_keys.html) for the language models that you want to use with EDSL. Please also see our [documentation page](https://docs.expectedparrot.com/) for tips and tutorials on getting started using EDSL."
   ]
  },
  {
   "cell_type": "markdown",
   "id": "5a3a9a93-a127-4bea-a7dd-785e58575eeb",
   "metadata": {},
   "source": [
    "## Example 1\n",
    "In the first example below we construct questions, combine them in a survey, and add a rule to skip the second question based on the response to the first question.\n",
    "Then we create scenarios for the questions that will be added to the questions when the survey is run.\n",
    "The effect of this is that the second question will be skipped based on the response to the first question for each individual scenario."
   ]
  },
  {
   "cell_type": "markdown",
   "id": "3b6c6df1-eda2-441d-b95a-0777ea16dd3f",
   "metadata": {},
   "source": [
    "Import the tools:"
   ]
  },
  {
   "cell_type": "code",
   "execution_count": 1,
   "id": "f17855be-e5a3-471d-871b-98ea56ac9cc1",
   "metadata": {},
   "outputs": [],
   "source": [
    "from edsl import QuestionYesNo, QuestionNumerical, QuestionMultipleChoice, Survey, ScenarioList, Scenario, AgentList, Agent, Model"
   ]
  },
  {
   "cell_type": "markdown",
   "id": "e17385cc-aeed-4356-84ed-753218a3c15a",
   "metadata": {},
   "source": [
    "Construct questions:"
   ]
  },
  {
   "cell_type": "code",
   "execution_count": 2,
   "id": "ee25ca3f-96e4-4b5c-9571-0664eb8cc8d1",
   "metadata": {},
   "outputs": [],
   "source": [
    "q1 = QuestionYesNo(\n",
    "    question_name = \"recent_purchase\",\n",
    "    question_text = \"In the last year have you or anyone in your household purchased any {{ item }}?\",\n",
    ")\n",
    "\n",
    "q2 = QuestionNumerical(\n",
    "    question_name = \"amount\",\n",
    "    question_text = \"In the last year, how much did your household spend on {{ item }} (in USD)?\"\n",
    ")\n",
    "\n",
    "q3 = QuestionMultipleChoice(\n",
    "    question_name = \"next_purchase\",\n",
    "    question_text = \"When do you next expect to purchase {{ item }}?\", \n",
    "    question_options = [\n",
    "        \"Never\",\n",
    "        \"Within the next month\",\n",
    "        \"Within the next year\",\n",
    "        \"I do not know\"\n",
    "    ]\n",
    ")"
   ]
  },
  {
   "cell_type": "markdown",
   "id": "7ebc5dca-f020-475a-81e2-08113d85c4eb",
   "metadata": {},
   "source": [
    "Combine the questions in a survey to administer them together:"
   ]
  },
  {
   "cell_type": "code",
   "execution_count": 3,
   "id": "5cc6d4e7-592b-4e6e-961b-d4ab879a6fdd",
   "metadata": {},
   "outputs": [],
   "source": [
    "survey = Survey([q1, q2, q3])"
   ]
  },
  {
   "cell_type": "markdown",
   "id": "947b0d60-7054-43f8-b852-f9f022461fb9",
   "metadata": {},
   "source": [
    "Add a rule to skip q2 based on the response to q1:"
   ]
  },
  {
   "cell_type": "code",
   "execution_count": 4,
   "id": "9fccfcf1-3f2a-4ce2-a61e-6500fa910a3f",
   "metadata": {},
   "outputs": [],
   "source": [
    "survey = survey.add_skip_rule(q2, \"recent_purchase == 'No'\")"
   ]
  },
  {
   "cell_type": "markdown",
   "id": "98f70b2f-7cd4-45bc-8f56-f015bb64d3b5",
   "metadata": {},
   "source": [
    "Create scenarios for the \"item\" in each question:"
   ]
  },
  {
   "cell_type": "code",
   "execution_count": 5,
   "id": "5646f987-46cd-4b4a-8a58-dc3d1dc6b97b",
   "metadata": {},
   "outputs": [],
   "source": [
    "s = ScenarioList(\n",
    "    Scenario({\"item\":item}) for item in [\"electronics\", \"phones\"]\n",
    ")"
   ]
  },
  {
   "cell_type": "markdown",
   "id": "6e98f7e8-f088-4343-a2e3-a5f81d362fb2",
   "metadata": {},
   "source": [
    "Create agents to answer the questions:"
   ]
  },
  {
   "cell_type": "code",
   "execution_count": 6,
   "id": "0138a8f5-e1f4-4d1f-81c0-5bbbc2cde952",
   "metadata": {},
   "outputs": [],
   "source": [
    "a = AgentList(\n",
    "    Agent({\"annual_income\":income, \"age\":age}) for income in [\"under $100,000\", \"$100,000-250,000\", \"above $250,000\"] for age in [30, 50, 70] \n",
    ")"
   ]
  },
  {
   "cell_type": "markdown",
   "id": "10d46e3f-3769-42b5-b0ce-8d22bbbe75fa",
   "metadata": {},
   "source": [
    "Select a model to generate the responses:"
   ]
  },
  {
   "cell_type": "code",
   "execution_count": 7,
   "id": "7b510221-5a71-4cc3-8e00-b23ceb3d260c",
   "metadata": {},
   "outputs": [],
   "source": [
    "m = Model(\"gemini-1.5-flash\")"
   ]
  },
  {
   "cell_type": "markdown",
   "id": "00de6976-de22-42cc-8ac3-e3ad7a91f42b",
   "metadata": {},
   "source": [
    "Run the survey with the scenarios, agent and model:"
   ]
  },
  {
   "cell_type": "code",
   "execution_count": 8,
   "id": "5b505c69-d982-4811-b4f7-15afefd28a06",
   "metadata": {},
   "outputs": [
    {
     "name": "stdout",
     "output_type": "stream",
     "text": [
      "Job completed and Results stored on Coop (Results uuid=b335006d-d2ba-425e-9668-a7ef9d679a31).\n"
     ]
    }
   ],
   "source": [
    "results = survey.by(s).by(a).by(m).run(remote_inference_description = \"Example survey with skip rule\")"
   ]
  },
  {
   "cell_type": "markdown",
   "id": "5bb1efcf-78c7-4f9b-ac14-e5336f58bfc1",
   "metadata": {},
   "source": [
    "Inspect the responses. We can see by a \"None\" response that a question was skipped:"
   ]
  },
  {
   "cell_type": "code",
   "execution_count": 9,
   "id": "c75ce7bf-6f6a-4309-973a-9b33c12a10d7",
   "metadata": {},
   "outputs": [
    {
     "data": {
      "text/html": [
       "<pre style=\"white-space:pre;overflow-x:auto;line-height:normal;font-family:Menlo,'DejaVu Sans Mono',consolas,'Courier New',monospace\">┏━━━━━━━━━━━━━━━━━━┳━━━━━━━━━━━━━━━━━━┳━━━━━━━┳━━━━━━━━━━━━━┳━━━━━━━━━━━━━━━━━━┳━━━━━━━━━┳━━━━━━━━━━━━━━━━━━━━━━┓\n",
       "┃<span style=\"color: #800080; text-decoration-color: #800080; font-weight: bold\"> model            </span>┃<span style=\"color: #800080; text-decoration-color: #800080; font-weight: bold\"> agent            </span>┃<span style=\"color: #800080; text-decoration-color: #800080; font-weight: bold\"> agent </span>┃<span style=\"color: #800080; text-decoration-color: #800080; font-weight: bold\"> scenario    </span>┃<span style=\"color: #800080; text-decoration-color: #800080; font-weight: bold\"> answer           </span>┃<span style=\"color: #800080; text-decoration-color: #800080; font-weight: bold\"> answer  </span>┃<span style=\"color: #800080; text-decoration-color: #800080; font-weight: bold\"> answer               </span>┃\n",
       "┃<span style=\"color: #800080; text-decoration-color: #800080; font-weight: bold\"> .model           </span>┃<span style=\"color: #800080; text-decoration-color: #800080; font-weight: bold\"> .annual_income   </span>┃<span style=\"color: #800080; text-decoration-color: #800080; font-weight: bold\"> .age  </span>┃<span style=\"color: #800080; text-decoration-color: #800080; font-weight: bold\"> .item       </span>┃<span style=\"color: #800080; text-decoration-color: #800080; font-weight: bold\"> .recent_purchase </span>┃<span style=\"color: #800080; text-decoration-color: #800080; font-weight: bold\"> .amount </span>┃<span style=\"color: #800080; text-decoration-color: #800080; font-weight: bold\"> .next_purchase       </span>┃\n",
       "┡━━━━━━━━━━━━━━━━━━╇━━━━━━━━━━━━━━━━━━╇━━━━━━━╇━━━━━━━━━━━━━╇━━━━━━━━━━━━━━━━━━╇━━━━━━━━━╇━━━━━━━━━━━━━━━━━━━━━━┩\n",
       "│<span style=\"color: #7f7f7f; text-decoration-color: #7f7f7f\"> gemini-1.5-flash </span>│<span style=\"color: #7f7f7f; text-decoration-color: #7f7f7f\"> $100,000-250,000 </span>│<span style=\"color: #7f7f7f; text-decoration-color: #7f7f7f\"> 30    </span>│<span style=\"color: #7f7f7f; text-decoration-color: #7f7f7f\"> electronics </span>│<span style=\"color: #7f7f7f; text-decoration-color: #7f7f7f\"> Yes              </span>│<span style=\"color: #7f7f7f; text-decoration-color: #7f7f7f\"> 1500    </span>│<span style=\"color: #7f7f7f; text-decoration-color: #7f7f7f\"> Within the next year </span>│\n",
       "├──────────────────┼──────────────────┼───────┼─────────────┼──────────────────┼─────────┼──────────────────────┤\n",
       "│<span style=\"color: #7f7f7f; text-decoration-color: #7f7f7f\"> gemini-1.5-flash </span>│<span style=\"color: #7f7f7f; text-decoration-color: #7f7f7f\"> $100,000-250,000 </span>│<span style=\"color: #7f7f7f; text-decoration-color: #7f7f7f\"> 30    </span>│<span style=\"color: #7f7f7f; text-decoration-color: #7f7f7f\"> phones      </span>│<span style=\"color: #7f7f7f; text-decoration-color: #7f7f7f\"> Yes              </span>│<span style=\"color: #7f7f7f; text-decoration-color: #7f7f7f\"> 1000    </span>│<span style=\"color: #7f7f7f; text-decoration-color: #7f7f7f\"> Within the next year </span>│\n",
       "├──────────────────┼──────────────────┼───────┼─────────────┼──────────────────┼─────────┼──────────────────────┤\n",
       "│<span style=\"color: #7f7f7f; text-decoration-color: #7f7f7f\"> gemini-1.5-flash </span>│<span style=\"color: #7f7f7f; text-decoration-color: #7f7f7f\"> $100,000-250,000 </span>│<span style=\"color: #7f7f7f; text-decoration-color: #7f7f7f\"> 50    </span>│<span style=\"color: #7f7f7f; text-decoration-color: #7f7f7f\"> electronics </span>│<span style=\"color: #7f7f7f; text-decoration-color: #7f7f7f\"> Yes              </span>│<span style=\"color: #7f7f7f; text-decoration-color: #7f7f7f\"> 1500    </span>│<span style=\"color: #7f7f7f; text-decoration-color: #7f7f7f\"> Within the next year </span>│\n",
       "├──────────────────┼──────────────────┼───────┼─────────────┼──────────────────┼─────────┼──────────────────────┤\n",
       "│<span style=\"color: #7f7f7f; text-decoration-color: #7f7f7f\"> gemini-1.5-flash </span>│<span style=\"color: #7f7f7f; text-decoration-color: #7f7f7f\"> $100,000-250,000 </span>│<span style=\"color: #7f7f7f; text-decoration-color: #7f7f7f\"> 50    </span>│<span style=\"color: #7f7f7f; text-decoration-color: #7f7f7f\"> phones      </span>│<span style=\"color: #7f7f7f; text-decoration-color: #7f7f7f\"> No               </span>│<span style=\"color: #7f7f7f; text-decoration-color: #7f7f7f\"> None    </span>│<span style=\"color: #7f7f7f; text-decoration-color: #7f7f7f\"> Within the next year </span>│\n",
       "├──────────────────┼──────────────────┼───────┼─────────────┼──────────────────┼─────────┼──────────────────────┤\n",
       "│<span style=\"color: #7f7f7f; text-decoration-color: #7f7f7f\"> gemini-1.5-flash </span>│<span style=\"color: #7f7f7f; text-decoration-color: #7f7f7f\"> $100,000-250,000 </span>│<span style=\"color: #7f7f7f; text-decoration-color: #7f7f7f\"> 70    </span>│<span style=\"color: #7f7f7f; text-decoration-color: #7f7f7f\"> electronics </span>│<span style=\"color: #7f7f7f; text-decoration-color: #7f7f7f\"> No               </span>│<span style=\"color: #7f7f7f; text-decoration-color: #7f7f7f\"> None    </span>│<span style=\"color: #7f7f7f; text-decoration-color: #7f7f7f\"> Within the next year </span>│\n",
       "├──────────────────┼──────────────────┼───────┼─────────────┼──────────────────┼─────────┼──────────────────────┤\n",
       "│<span style=\"color: #7f7f7f; text-decoration-color: #7f7f7f\"> gemini-1.5-flash </span>│<span style=\"color: #7f7f7f; text-decoration-color: #7f7f7f\"> $100,000-250,000 </span>│<span style=\"color: #7f7f7f; text-decoration-color: #7f7f7f\"> 70    </span>│<span style=\"color: #7f7f7f; text-decoration-color: #7f7f7f\"> phones      </span>│<span style=\"color: #7f7f7f; text-decoration-color: #7f7f7f\"> No               </span>│<span style=\"color: #7f7f7f; text-decoration-color: #7f7f7f\"> None    </span>│<span style=\"color: #7f7f7f; text-decoration-color: #7f7f7f\"> Never                </span>│\n",
       "├──────────────────┼──────────────────┼───────┼─────────────┼──────────────────┼─────────┼──────────────────────┤\n",
       "│<span style=\"color: #7f7f7f; text-decoration-color: #7f7f7f\"> gemini-1.5-flash </span>│<span style=\"color: #7f7f7f; text-decoration-color: #7f7f7f\"> above $250,000   </span>│<span style=\"color: #7f7f7f; text-decoration-color: #7f7f7f\"> 30    </span>│<span style=\"color: #7f7f7f; text-decoration-color: #7f7f7f\"> electronics </span>│<span style=\"color: #7f7f7f; text-decoration-color: #7f7f7f\"> Yes              </span>│<span style=\"color: #7f7f7f; text-decoration-color: #7f7f7f\"> 10000   </span>│<span style=\"color: #7f7f7f; text-decoration-color: #7f7f7f\"> Within the next year </span>│\n",
       "├──────────────────┼──────────────────┼───────┼─────────────┼──────────────────┼─────────┼──────────────────────┤\n",
       "│<span style=\"color: #7f7f7f; text-decoration-color: #7f7f7f\"> gemini-1.5-flash </span>│<span style=\"color: #7f7f7f; text-decoration-color: #7f7f7f\"> above $250,000   </span>│<span style=\"color: #7f7f7f; text-decoration-color: #7f7f7f\"> 30    </span>│<span style=\"color: #7f7f7f; text-decoration-color: #7f7f7f\"> phones      </span>│<span style=\"color: #7f7f7f; text-decoration-color: #7f7f7f\"> Yes              </span>│<span style=\"color: #7f7f7f; text-decoration-color: #7f7f7f\"> 1000    </span>│<span style=\"color: #7f7f7f; text-decoration-color: #7f7f7f\"> Within the next year </span>│\n",
       "├──────────────────┼──────────────────┼───────┼─────────────┼──────────────────┼─────────┼──────────────────────┤\n",
       "│<span style=\"color: #7f7f7f; text-decoration-color: #7f7f7f\"> gemini-1.5-flash </span>│<span style=\"color: #7f7f7f; text-decoration-color: #7f7f7f\"> above $250,000   </span>│<span style=\"color: #7f7f7f; text-decoration-color: #7f7f7f\"> 50    </span>│<span style=\"color: #7f7f7f; text-decoration-color: #7f7f7f\"> electronics </span>│<span style=\"color: #7f7f7f; text-decoration-color: #7f7f7f\"> Yes              </span>│<span style=\"color: #7f7f7f; text-decoration-color: #7f7f7f\"> 5000    </span>│<span style=\"color: #7f7f7f; text-decoration-color: #7f7f7f\"> Within the next year </span>│\n",
       "├──────────────────┼──────────────────┼───────┼─────────────┼──────────────────┼─────────┼──────────────────────┤\n",
       "│<span style=\"color: #7f7f7f; text-decoration-color: #7f7f7f\"> gemini-1.5-flash </span>│<span style=\"color: #7f7f7f; text-decoration-color: #7f7f7f\"> above $250,000   </span>│<span style=\"color: #7f7f7f; text-decoration-color: #7f7f7f\"> 50    </span>│<span style=\"color: #7f7f7f; text-decoration-color: #7f7f7f\"> phones      </span>│<span style=\"color: #7f7f7f; text-decoration-color: #7f7f7f\"> No               </span>│<span style=\"color: #7f7f7f; text-decoration-color: #7f7f7f\"> None    </span>│<span style=\"color: #7f7f7f; text-decoration-color: #7f7f7f\"> Within the next year </span>│\n",
       "├──────────────────┼──────────────────┼───────┼─────────────┼──────────────────┼─────────┼──────────────────────┤\n",
       "│<span style=\"color: #7f7f7f; text-decoration-color: #7f7f7f\"> gemini-1.5-flash </span>│<span style=\"color: #7f7f7f; text-decoration-color: #7f7f7f\"> above $250,000   </span>│<span style=\"color: #7f7f7f; text-decoration-color: #7f7f7f\"> 70    </span>│<span style=\"color: #7f7f7f; text-decoration-color: #7f7f7f\"> electronics </span>│<span style=\"color: #7f7f7f; text-decoration-color: #7f7f7f\"> No               </span>│<span style=\"color: #7f7f7f; text-decoration-color: #7f7f7f\"> None    </span>│<span style=\"color: #7f7f7f; text-decoration-color: #7f7f7f\"> Never                </span>│\n",
       "├──────────────────┼──────────────────┼───────┼─────────────┼──────────────────┼─────────┼──────────────────────┤\n",
       "│<span style=\"color: #7f7f7f; text-decoration-color: #7f7f7f\"> gemini-1.5-flash </span>│<span style=\"color: #7f7f7f; text-decoration-color: #7f7f7f\"> above $250,000   </span>│<span style=\"color: #7f7f7f; text-decoration-color: #7f7f7f\"> 70    </span>│<span style=\"color: #7f7f7f; text-decoration-color: #7f7f7f\"> phones      </span>│<span style=\"color: #7f7f7f; text-decoration-color: #7f7f7f\"> No               </span>│<span style=\"color: #7f7f7f; text-decoration-color: #7f7f7f\"> None    </span>│<span style=\"color: #7f7f7f; text-decoration-color: #7f7f7f\"> Never                </span>│\n",
       "├──────────────────┼──────────────────┼───────┼─────────────┼──────────────────┼─────────┼──────────────────────┤\n",
       "│<span style=\"color: #7f7f7f; text-decoration-color: #7f7f7f\"> gemini-1.5-flash </span>│<span style=\"color: #7f7f7f; text-decoration-color: #7f7f7f\"> under $100,000   </span>│<span style=\"color: #7f7f7f; text-decoration-color: #7f7f7f\"> 30    </span>│<span style=\"color: #7f7f7f; text-decoration-color: #7f7f7f\"> electronics </span>│<span style=\"color: #7f7f7f; text-decoration-color: #7f7f7f\"> Yes              </span>│<span style=\"color: #7f7f7f; text-decoration-color: #7f7f7f\"> 500     </span>│<span style=\"color: #7f7f7f; text-decoration-color: #7f7f7f\"> Within the next year </span>│\n",
       "├──────────────────┼──────────────────┼───────┼─────────────┼──────────────────┼─────────┼──────────────────────┤\n",
       "│<span style=\"color: #7f7f7f; text-decoration-color: #7f7f7f\"> gemini-1.5-flash </span>│<span style=\"color: #7f7f7f; text-decoration-color: #7f7f7f\"> under $100,000   </span>│<span style=\"color: #7f7f7f; text-decoration-color: #7f7f7f\"> 30    </span>│<span style=\"color: #7f7f7f; text-decoration-color: #7f7f7f\"> phones      </span>│<span style=\"color: #7f7f7f; text-decoration-color: #7f7f7f\"> No               </span>│<span style=\"color: #7f7f7f; text-decoration-color: #7f7f7f\"> None    </span>│<span style=\"color: #7f7f7f; text-decoration-color: #7f7f7f\"> Within the next year </span>│\n",
       "├──────────────────┼──────────────────┼───────┼─────────────┼──────────────────┼─────────┼──────────────────────┤\n",
       "│<span style=\"color: #7f7f7f; text-decoration-color: #7f7f7f\"> gemini-1.5-flash </span>│<span style=\"color: #7f7f7f; text-decoration-color: #7f7f7f\"> under $100,000   </span>│<span style=\"color: #7f7f7f; text-decoration-color: #7f7f7f\"> 50    </span>│<span style=\"color: #7f7f7f; text-decoration-color: #7f7f7f\"> electronics </span>│<span style=\"color: #7f7f7f; text-decoration-color: #7f7f7f\"> No               </span>│<span style=\"color: #7f7f7f; text-decoration-color: #7f7f7f\"> None    </span>│<span style=\"color: #7f7f7f; text-decoration-color: #7f7f7f\"> Within the next year </span>│\n",
       "├──────────────────┼──────────────────┼───────┼─────────────┼──────────────────┼─────────┼──────────────────────┤\n",
       "│<span style=\"color: #7f7f7f; text-decoration-color: #7f7f7f\"> gemini-1.5-flash </span>│<span style=\"color: #7f7f7f; text-decoration-color: #7f7f7f\"> under $100,000   </span>│<span style=\"color: #7f7f7f; text-decoration-color: #7f7f7f\"> 50    </span>│<span style=\"color: #7f7f7f; text-decoration-color: #7f7f7f\"> phones      </span>│<span style=\"color: #7f7f7f; text-decoration-color: #7f7f7f\"> No               </span>│<span style=\"color: #7f7f7f; text-decoration-color: #7f7f7f\"> None    </span>│<span style=\"color: #7f7f7f; text-decoration-color: #7f7f7f\"> Within the next year </span>│\n",
       "├──────────────────┼──────────────────┼───────┼─────────────┼──────────────────┼─────────┼──────────────────────┤\n",
       "│<span style=\"color: #7f7f7f; text-decoration-color: #7f7f7f\"> gemini-1.5-flash </span>│<span style=\"color: #7f7f7f; text-decoration-color: #7f7f7f\"> under $100,000   </span>│<span style=\"color: #7f7f7f; text-decoration-color: #7f7f7f\"> 70    </span>│<span style=\"color: #7f7f7f; text-decoration-color: #7f7f7f\"> electronics </span>│<span style=\"color: #7f7f7f; text-decoration-color: #7f7f7f\"> No               </span>│<span style=\"color: #7f7f7f; text-decoration-color: #7f7f7f\"> None    </span>│<span style=\"color: #7f7f7f; text-decoration-color: #7f7f7f\"> Never                </span>│\n",
       "├──────────────────┼──────────────────┼───────┼─────────────┼──────────────────┼─────────┼──────────────────────┤\n",
       "│<span style=\"color: #7f7f7f; text-decoration-color: #7f7f7f\"> gemini-1.5-flash </span>│<span style=\"color: #7f7f7f; text-decoration-color: #7f7f7f\"> under $100,000   </span>│<span style=\"color: #7f7f7f; text-decoration-color: #7f7f7f\"> 70    </span>│<span style=\"color: #7f7f7f; text-decoration-color: #7f7f7f\"> phones      </span>│<span style=\"color: #7f7f7f; text-decoration-color: #7f7f7f\"> No               </span>│<span style=\"color: #7f7f7f; text-decoration-color: #7f7f7f\"> None    </span>│<span style=\"color: #7f7f7f; text-decoration-color: #7f7f7f\"> Never                </span>│\n",
       "└──────────────────┴──────────────────┴───────┴─────────────┴──────────────────┴─────────┴──────────────────────┘\n",
       "</pre>\n"
      ],
      "text/plain": [
       "┏━━━━━━━━━━━━━━━━━━┳━━━━━━━━━━━━━━━━━━┳━━━━━━━┳━━━━━━━━━━━━━┳━━━━━━━━━━━━━━━━━━┳━━━━━━━━━┳━━━━━━━━━━━━━━━━━━━━━━┓\n",
       "┃\u001b[1;35m \u001b[0m\u001b[1;35mmodel           \u001b[0m\u001b[1;35m \u001b[0m┃\u001b[1;35m \u001b[0m\u001b[1;35magent           \u001b[0m\u001b[1;35m \u001b[0m┃\u001b[1;35m \u001b[0m\u001b[1;35magent\u001b[0m\u001b[1;35m \u001b[0m┃\u001b[1;35m \u001b[0m\u001b[1;35mscenario   \u001b[0m\u001b[1;35m \u001b[0m┃\u001b[1;35m \u001b[0m\u001b[1;35manswer          \u001b[0m\u001b[1;35m \u001b[0m┃\u001b[1;35m \u001b[0m\u001b[1;35manswer \u001b[0m\u001b[1;35m \u001b[0m┃\u001b[1;35m \u001b[0m\u001b[1;35manswer              \u001b[0m\u001b[1;35m \u001b[0m┃\n",
       "┃\u001b[1;35m \u001b[0m\u001b[1;35m.model          \u001b[0m\u001b[1;35m \u001b[0m┃\u001b[1;35m \u001b[0m\u001b[1;35m.annual_income  \u001b[0m\u001b[1;35m \u001b[0m┃\u001b[1;35m \u001b[0m\u001b[1;35m.age \u001b[0m\u001b[1;35m \u001b[0m┃\u001b[1;35m \u001b[0m\u001b[1;35m.item      \u001b[0m\u001b[1;35m \u001b[0m┃\u001b[1;35m \u001b[0m\u001b[1;35m.recent_purchase\u001b[0m\u001b[1;35m \u001b[0m┃\u001b[1;35m \u001b[0m\u001b[1;35m.amount\u001b[0m\u001b[1;35m \u001b[0m┃\u001b[1;35m \u001b[0m\u001b[1;35m.next_purchase      \u001b[0m\u001b[1;35m \u001b[0m┃\n",
       "┡━━━━━━━━━━━━━━━━━━╇━━━━━━━━━━━━━━━━━━╇━━━━━━━╇━━━━━━━━━━━━━╇━━━━━━━━━━━━━━━━━━╇━━━━━━━━━╇━━━━━━━━━━━━━━━━━━━━━━┩\n",
       "│\u001b[2m \u001b[0m\u001b[2mgemini-1.5-flash\u001b[0m\u001b[2m \u001b[0m│\u001b[2m \u001b[0m\u001b[2m$100,000-250,000\u001b[0m\u001b[2m \u001b[0m│\u001b[2m \u001b[0m\u001b[2m30   \u001b[0m\u001b[2m \u001b[0m│\u001b[2m \u001b[0m\u001b[2melectronics\u001b[0m\u001b[2m \u001b[0m│\u001b[2m \u001b[0m\u001b[2mYes             \u001b[0m\u001b[2m \u001b[0m│\u001b[2m \u001b[0m\u001b[2m1500   \u001b[0m\u001b[2m \u001b[0m│\u001b[2m \u001b[0m\u001b[2mWithin the next year\u001b[0m\u001b[2m \u001b[0m│\n",
       "├──────────────────┼──────────────────┼───────┼─────────────┼──────────────────┼─────────┼──────────────────────┤\n",
       "│\u001b[2m \u001b[0m\u001b[2mgemini-1.5-flash\u001b[0m\u001b[2m \u001b[0m│\u001b[2m \u001b[0m\u001b[2m$100,000-250,000\u001b[0m\u001b[2m \u001b[0m│\u001b[2m \u001b[0m\u001b[2m30   \u001b[0m\u001b[2m \u001b[0m│\u001b[2m \u001b[0m\u001b[2mphones     \u001b[0m\u001b[2m \u001b[0m│\u001b[2m \u001b[0m\u001b[2mYes             \u001b[0m\u001b[2m \u001b[0m│\u001b[2m \u001b[0m\u001b[2m1000   \u001b[0m\u001b[2m \u001b[0m│\u001b[2m \u001b[0m\u001b[2mWithin the next year\u001b[0m\u001b[2m \u001b[0m│\n",
       "├──────────────────┼──────────────────┼───────┼─────────────┼──────────────────┼─────────┼──────────────────────┤\n",
       "│\u001b[2m \u001b[0m\u001b[2mgemini-1.5-flash\u001b[0m\u001b[2m \u001b[0m│\u001b[2m \u001b[0m\u001b[2m$100,000-250,000\u001b[0m\u001b[2m \u001b[0m│\u001b[2m \u001b[0m\u001b[2m50   \u001b[0m\u001b[2m \u001b[0m│\u001b[2m \u001b[0m\u001b[2melectronics\u001b[0m\u001b[2m \u001b[0m│\u001b[2m \u001b[0m\u001b[2mYes             \u001b[0m\u001b[2m \u001b[0m│\u001b[2m \u001b[0m\u001b[2m1500   \u001b[0m\u001b[2m \u001b[0m│\u001b[2m \u001b[0m\u001b[2mWithin the next year\u001b[0m\u001b[2m \u001b[0m│\n",
       "├──────────────────┼──────────────────┼───────┼─────────────┼──────────────────┼─────────┼──────────────────────┤\n",
       "│\u001b[2m \u001b[0m\u001b[2mgemini-1.5-flash\u001b[0m\u001b[2m \u001b[0m│\u001b[2m \u001b[0m\u001b[2m$100,000-250,000\u001b[0m\u001b[2m \u001b[0m│\u001b[2m \u001b[0m\u001b[2m50   \u001b[0m\u001b[2m \u001b[0m│\u001b[2m \u001b[0m\u001b[2mphones     \u001b[0m\u001b[2m \u001b[0m│\u001b[2m \u001b[0m\u001b[2mNo              \u001b[0m\u001b[2m \u001b[0m│\u001b[2m \u001b[0m\u001b[2mNone   \u001b[0m\u001b[2m \u001b[0m│\u001b[2m \u001b[0m\u001b[2mWithin the next year\u001b[0m\u001b[2m \u001b[0m│\n",
       "├──────────────────┼──────────────────┼───────┼─────────────┼──────────────────┼─────────┼──────────────────────┤\n",
       "│\u001b[2m \u001b[0m\u001b[2mgemini-1.5-flash\u001b[0m\u001b[2m \u001b[0m│\u001b[2m \u001b[0m\u001b[2m$100,000-250,000\u001b[0m\u001b[2m \u001b[0m│\u001b[2m \u001b[0m\u001b[2m70   \u001b[0m\u001b[2m \u001b[0m│\u001b[2m \u001b[0m\u001b[2melectronics\u001b[0m\u001b[2m \u001b[0m│\u001b[2m \u001b[0m\u001b[2mNo              \u001b[0m\u001b[2m \u001b[0m│\u001b[2m \u001b[0m\u001b[2mNone   \u001b[0m\u001b[2m \u001b[0m│\u001b[2m \u001b[0m\u001b[2mWithin the next year\u001b[0m\u001b[2m \u001b[0m│\n",
       "├──────────────────┼──────────────────┼───────┼─────────────┼──────────────────┼─────────┼──────────────────────┤\n",
       "│\u001b[2m \u001b[0m\u001b[2mgemini-1.5-flash\u001b[0m\u001b[2m \u001b[0m│\u001b[2m \u001b[0m\u001b[2m$100,000-250,000\u001b[0m\u001b[2m \u001b[0m│\u001b[2m \u001b[0m\u001b[2m70   \u001b[0m\u001b[2m \u001b[0m│\u001b[2m \u001b[0m\u001b[2mphones     \u001b[0m\u001b[2m \u001b[0m│\u001b[2m \u001b[0m\u001b[2mNo              \u001b[0m\u001b[2m \u001b[0m│\u001b[2m \u001b[0m\u001b[2mNone   \u001b[0m\u001b[2m \u001b[0m│\u001b[2m \u001b[0m\u001b[2mNever               \u001b[0m\u001b[2m \u001b[0m│\n",
       "├──────────────────┼──────────────────┼───────┼─────────────┼──────────────────┼─────────┼──────────────────────┤\n",
       "│\u001b[2m \u001b[0m\u001b[2mgemini-1.5-flash\u001b[0m\u001b[2m \u001b[0m│\u001b[2m \u001b[0m\u001b[2mabove $250,000  \u001b[0m\u001b[2m \u001b[0m│\u001b[2m \u001b[0m\u001b[2m30   \u001b[0m\u001b[2m \u001b[0m│\u001b[2m \u001b[0m\u001b[2melectronics\u001b[0m\u001b[2m \u001b[0m│\u001b[2m \u001b[0m\u001b[2mYes             \u001b[0m\u001b[2m \u001b[0m│\u001b[2m \u001b[0m\u001b[2m10000  \u001b[0m\u001b[2m \u001b[0m│\u001b[2m \u001b[0m\u001b[2mWithin the next year\u001b[0m\u001b[2m \u001b[0m│\n",
       "├──────────────────┼──────────────────┼───────┼─────────────┼──────────────────┼─────────┼──────────────────────┤\n",
       "│\u001b[2m \u001b[0m\u001b[2mgemini-1.5-flash\u001b[0m\u001b[2m \u001b[0m│\u001b[2m \u001b[0m\u001b[2mabove $250,000  \u001b[0m\u001b[2m \u001b[0m│\u001b[2m \u001b[0m\u001b[2m30   \u001b[0m\u001b[2m \u001b[0m│\u001b[2m \u001b[0m\u001b[2mphones     \u001b[0m\u001b[2m \u001b[0m│\u001b[2m \u001b[0m\u001b[2mYes             \u001b[0m\u001b[2m \u001b[0m│\u001b[2m \u001b[0m\u001b[2m1000   \u001b[0m\u001b[2m \u001b[0m│\u001b[2m \u001b[0m\u001b[2mWithin the next year\u001b[0m\u001b[2m \u001b[0m│\n",
       "├──────────────────┼──────────────────┼───────┼─────────────┼──────────────────┼─────────┼──────────────────────┤\n",
       "│\u001b[2m \u001b[0m\u001b[2mgemini-1.5-flash\u001b[0m\u001b[2m \u001b[0m│\u001b[2m \u001b[0m\u001b[2mabove $250,000  \u001b[0m\u001b[2m \u001b[0m│\u001b[2m \u001b[0m\u001b[2m50   \u001b[0m\u001b[2m \u001b[0m│\u001b[2m \u001b[0m\u001b[2melectronics\u001b[0m\u001b[2m \u001b[0m│\u001b[2m \u001b[0m\u001b[2mYes             \u001b[0m\u001b[2m \u001b[0m│\u001b[2m \u001b[0m\u001b[2m5000   \u001b[0m\u001b[2m \u001b[0m│\u001b[2m \u001b[0m\u001b[2mWithin the next year\u001b[0m\u001b[2m \u001b[0m│\n",
       "├──────────────────┼──────────────────┼───────┼─────────────┼──────────────────┼─────────┼──────────────────────┤\n",
       "│\u001b[2m \u001b[0m\u001b[2mgemini-1.5-flash\u001b[0m\u001b[2m \u001b[0m│\u001b[2m \u001b[0m\u001b[2mabove $250,000  \u001b[0m\u001b[2m \u001b[0m│\u001b[2m \u001b[0m\u001b[2m50   \u001b[0m\u001b[2m \u001b[0m│\u001b[2m \u001b[0m\u001b[2mphones     \u001b[0m\u001b[2m \u001b[0m│\u001b[2m \u001b[0m\u001b[2mNo              \u001b[0m\u001b[2m \u001b[0m│\u001b[2m \u001b[0m\u001b[2mNone   \u001b[0m\u001b[2m \u001b[0m│\u001b[2m \u001b[0m\u001b[2mWithin the next year\u001b[0m\u001b[2m \u001b[0m│\n",
       "├──────────────────┼──────────────────┼───────┼─────────────┼──────────────────┼─────────┼──────────────────────┤\n",
       "│\u001b[2m \u001b[0m\u001b[2mgemini-1.5-flash\u001b[0m\u001b[2m \u001b[0m│\u001b[2m \u001b[0m\u001b[2mabove $250,000  \u001b[0m\u001b[2m \u001b[0m│\u001b[2m \u001b[0m\u001b[2m70   \u001b[0m\u001b[2m \u001b[0m│\u001b[2m \u001b[0m\u001b[2melectronics\u001b[0m\u001b[2m \u001b[0m│\u001b[2m \u001b[0m\u001b[2mNo              \u001b[0m\u001b[2m \u001b[0m│\u001b[2m \u001b[0m\u001b[2mNone   \u001b[0m\u001b[2m \u001b[0m│\u001b[2m \u001b[0m\u001b[2mNever               \u001b[0m\u001b[2m \u001b[0m│\n",
       "├──────────────────┼──────────────────┼───────┼─────────────┼──────────────────┼─────────┼──────────────────────┤\n",
       "│\u001b[2m \u001b[0m\u001b[2mgemini-1.5-flash\u001b[0m\u001b[2m \u001b[0m│\u001b[2m \u001b[0m\u001b[2mabove $250,000  \u001b[0m\u001b[2m \u001b[0m│\u001b[2m \u001b[0m\u001b[2m70   \u001b[0m\u001b[2m \u001b[0m│\u001b[2m \u001b[0m\u001b[2mphones     \u001b[0m\u001b[2m \u001b[0m│\u001b[2m \u001b[0m\u001b[2mNo              \u001b[0m\u001b[2m \u001b[0m│\u001b[2m \u001b[0m\u001b[2mNone   \u001b[0m\u001b[2m \u001b[0m│\u001b[2m \u001b[0m\u001b[2mNever               \u001b[0m\u001b[2m \u001b[0m│\n",
       "├──────────────────┼──────────────────┼───────┼─────────────┼──────────────────┼─────────┼──────────────────────┤\n",
       "│\u001b[2m \u001b[0m\u001b[2mgemini-1.5-flash\u001b[0m\u001b[2m \u001b[0m│\u001b[2m \u001b[0m\u001b[2munder $100,000  \u001b[0m\u001b[2m \u001b[0m│\u001b[2m \u001b[0m\u001b[2m30   \u001b[0m\u001b[2m \u001b[0m│\u001b[2m \u001b[0m\u001b[2melectronics\u001b[0m\u001b[2m \u001b[0m│\u001b[2m \u001b[0m\u001b[2mYes             \u001b[0m\u001b[2m \u001b[0m│\u001b[2m \u001b[0m\u001b[2m500    \u001b[0m\u001b[2m \u001b[0m│\u001b[2m \u001b[0m\u001b[2mWithin the next year\u001b[0m\u001b[2m \u001b[0m│\n",
       "├──────────────────┼──────────────────┼───────┼─────────────┼──────────────────┼─────────┼──────────────────────┤\n",
       "│\u001b[2m \u001b[0m\u001b[2mgemini-1.5-flash\u001b[0m\u001b[2m \u001b[0m│\u001b[2m \u001b[0m\u001b[2munder $100,000  \u001b[0m\u001b[2m \u001b[0m│\u001b[2m \u001b[0m\u001b[2m30   \u001b[0m\u001b[2m \u001b[0m│\u001b[2m \u001b[0m\u001b[2mphones     \u001b[0m\u001b[2m \u001b[0m│\u001b[2m \u001b[0m\u001b[2mNo              \u001b[0m\u001b[2m \u001b[0m│\u001b[2m \u001b[0m\u001b[2mNone   \u001b[0m\u001b[2m \u001b[0m│\u001b[2m \u001b[0m\u001b[2mWithin the next year\u001b[0m\u001b[2m \u001b[0m│\n",
       "├──────────────────┼──────────────────┼───────┼─────────────┼──────────────────┼─────────┼──────────────────────┤\n",
       "│\u001b[2m \u001b[0m\u001b[2mgemini-1.5-flash\u001b[0m\u001b[2m \u001b[0m│\u001b[2m \u001b[0m\u001b[2munder $100,000  \u001b[0m\u001b[2m \u001b[0m│\u001b[2m \u001b[0m\u001b[2m50   \u001b[0m\u001b[2m \u001b[0m│\u001b[2m \u001b[0m\u001b[2melectronics\u001b[0m\u001b[2m \u001b[0m│\u001b[2m \u001b[0m\u001b[2mNo              \u001b[0m\u001b[2m \u001b[0m│\u001b[2m \u001b[0m\u001b[2mNone   \u001b[0m\u001b[2m \u001b[0m│\u001b[2m \u001b[0m\u001b[2mWithin the next year\u001b[0m\u001b[2m \u001b[0m│\n",
       "├──────────────────┼──────────────────┼───────┼─────────────┼──────────────────┼─────────┼──────────────────────┤\n",
       "│\u001b[2m \u001b[0m\u001b[2mgemini-1.5-flash\u001b[0m\u001b[2m \u001b[0m│\u001b[2m \u001b[0m\u001b[2munder $100,000  \u001b[0m\u001b[2m \u001b[0m│\u001b[2m \u001b[0m\u001b[2m50   \u001b[0m\u001b[2m \u001b[0m│\u001b[2m \u001b[0m\u001b[2mphones     \u001b[0m\u001b[2m \u001b[0m│\u001b[2m \u001b[0m\u001b[2mNo              \u001b[0m\u001b[2m \u001b[0m│\u001b[2m \u001b[0m\u001b[2mNone   \u001b[0m\u001b[2m \u001b[0m│\u001b[2m \u001b[0m\u001b[2mWithin the next year\u001b[0m\u001b[2m \u001b[0m│\n",
       "├──────────────────┼──────────────────┼───────┼─────────────┼──────────────────┼─────────┼──────────────────────┤\n",
       "│\u001b[2m \u001b[0m\u001b[2mgemini-1.5-flash\u001b[0m\u001b[2m \u001b[0m│\u001b[2m \u001b[0m\u001b[2munder $100,000  \u001b[0m\u001b[2m \u001b[0m│\u001b[2m \u001b[0m\u001b[2m70   \u001b[0m\u001b[2m \u001b[0m│\u001b[2m \u001b[0m\u001b[2melectronics\u001b[0m\u001b[2m \u001b[0m│\u001b[2m \u001b[0m\u001b[2mNo              \u001b[0m\u001b[2m \u001b[0m│\u001b[2m \u001b[0m\u001b[2mNone   \u001b[0m\u001b[2m \u001b[0m│\u001b[2m \u001b[0m\u001b[2mNever               \u001b[0m\u001b[2m \u001b[0m│\n",
       "├──────────────────┼──────────────────┼───────┼─────────────┼──────────────────┼─────────┼──────────────────────┤\n",
       "│\u001b[2m \u001b[0m\u001b[2mgemini-1.5-flash\u001b[0m\u001b[2m \u001b[0m│\u001b[2m \u001b[0m\u001b[2munder $100,000  \u001b[0m\u001b[2m \u001b[0m│\u001b[2m \u001b[0m\u001b[2m70   \u001b[0m\u001b[2m \u001b[0m│\u001b[2m \u001b[0m\u001b[2mphones     \u001b[0m\u001b[2m \u001b[0m│\u001b[2m \u001b[0m\u001b[2mNo              \u001b[0m\u001b[2m \u001b[0m│\u001b[2m \u001b[0m\u001b[2mNone   \u001b[0m\u001b[2m \u001b[0m│\u001b[2m \u001b[0m\u001b[2mNever               \u001b[0m\u001b[2m \u001b[0m│\n",
       "└──────────────────┴──────────────────┴───────┴─────────────┴──────────────────┴─────────┴──────────────────────┘\n"
      ]
     },
     "metadata": {},
     "output_type": "display_data"
    }
   ],
   "source": [
    "(\n",
    "    results\n",
    "    .sort_by(\"annual_income\", \"age\", \"item\")\n",
    "    .select(\"model\", \"annual_income\", \"age\", \"item\", \"recent_purchase\", \"amount\", \"next_purchase\")\n",
    "    .print(format=\"rich\")\n",
    ")"
   ]
  },
  {
   "cell_type": "markdown",
   "id": "c0ff3475-32b7-4f69-afcb-187d7940f8cb",
   "metadata": {},
   "source": [
    "## Example 2\n",
    "In the next example, we use the same scenarios to create versions of the questions *before we combine them in a survey*.\n",
    "This allows us to add a skip rule based on a question/scenario combination, as opposed to skipping a question for all scenarios:"
   ]
  },
  {
   "cell_type": "code",
   "execution_count": 10,
   "id": "d5403d2b-5a6f-42e0-914f-7bbfbad770a7",
   "metadata": {},
   "outputs": [],
   "source": [
    "q1 = QuestionYesNo(\n",
    "    question_name = \"recent_purchase_{{ item }}\",\n",
    "    question_text = \"In the last year have you or anyone in your household purchased any {{ item }}?\",\n",
    ")\n",
    "\n",
    "q2 = QuestionNumerical(\n",
    "    question_name = \"amount_{{ item }}\",\n",
    "    question_text = \"In the last year, how much did your household spend on {{ item }} (in USD)?\"\n",
    ")\n",
    "\n",
    "q3 = QuestionMultipleChoice(\n",
    "    question_name = \"next_purchase_{{ item }}\",\n",
    "    question_text = \"When do you next expect to purchase {{ item }}?\", \n",
    "    question_options = [\n",
    "        \"Never\",\n",
    "        \"Within the next month\",\n",
    "        \"Within the next year\",\n",
    "        \"I do not know\"\n",
    "    ]\n",
    ")"
   ]
  },
  {
   "cell_type": "code",
   "execution_count": 11,
   "id": "4f4ed1df-a053-4991-b05b-38df8258bb21",
   "metadata": {},
   "outputs": [
    {
     "data": {
      "text/plain": [
       "[Question('yes_no', question_name = \"\"\"recent_purchase_electronics\"\"\", question_text = \"\"\"In the last year have you or anyone in your household purchased any electronics?\"\"\", question_options = ['No', 'Yes']),\n",
       " Question('yes_no', question_name = \"\"\"recent_purchase_phones\"\"\", question_text = \"\"\"In the last year have you or anyone in your household purchased any phones?\"\"\", question_options = ['No', 'Yes']),\n",
       " Question('numerical', question_name = \"\"\"amount_electronics\"\"\", question_text = \"\"\"In the last year, how much did your household spend on electronics (in USD)?\"\"\", min_value = None, max_value = None),\n",
       " Question('numerical', question_name = \"\"\"amount_phones\"\"\", question_text = \"\"\"In the last year, how much did your household spend on phones (in USD)?\"\"\", min_value = None, max_value = None),\n",
       " Question('multiple_choice', question_name = \"\"\"next_purchase_electronics\"\"\", question_text = \"\"\"When do you next expect to purchase electronics?\"\"\", question_options = ['Never', 'Within the next month', 'Within the next year', 'I do not know']),\n",
       " Question('multiple_choice', question_name = \"\"\"next_purchase_phones\"\"\", question_text = \"\"\"When do you next expect to purchase phones?\"\"\", question_options = ['Never', 'Within the next month', 'Within the next year', 'I do not know'])]"
      ]
     },
     "execution_count": 11,
     "metadata": {},
     "output_type": "execute_result"
    }
   ],
   "source": [
    "questions = q1.loop(s) + q2.loop(s) + q3.loop(s)\n",
    "questions"
   ]
  },
  {
   "cell_type": "markdown",
   "id": "f6d68b14-4d9c-4b53-a0e7-08fbc9a46e3c",
   "metadata": {},
   "source": [
    "Combine the questions in a survey to administer them together:"
   ]
  },
  {
   "cell_type": "code",
   "execution_count": 12,
   "id": "a21df018-9f73-41f6-8c90-973032129882",
   "metadata": {},
   "outputs": [],
   "source": [
    "survey = Survey(questions)"
   ]
  },
  {
   "cell_type": "markdown",
   "id": "5ec1b4ab-5a7b-4d47-95ec-6f0f851c4eeb",
   "metadata": {},
   "source": [
    "Here we add different rules specifying that questions with one scenario (phones) should be administered or skipped based on the answer to a question with another scenario (electronics):"
   ]
  },
  {
   "cell_type": "code",
   "execution_count": 13,
   "id": "68935294-5fe4-4dbb-acdb-3786033e8788",
   "metadata": {},
   "outputs": [],
   "source": [
    "survey = (\n",
    "    survey\n",
    "    .add_skip_rule(\"recent_purchase_phones\", \"recent_purchase_electronics == 'No'\")\n",
    "    .add_skip_rule(\"amount_phones\", \"recent_purchase_electronics == 'No'\")\n",
    "    .add_skip_rule(\"next_purchase_phones\", \"recent_purchase_electronics == 'No'\")\n",
    ")"
   ]
  },
  {
   "cell_type": "markdown",
   "id": "c6926d5a-7448-4028-9494-44915bc331ca",
   "metadata": {},
   "source": [
    "Run the survey with the scenarios, agents and model:"
   ]
  },
  {
   "cell_type": "code",
   "execution_count": 14,
   "id": "04bf5f89-1ed0-4d3f-a79a-a4f3bc219d7e",
   "metadata": {},
   "outputs": [
    {
     "name": "stdout",
     "output_type": "stream",
     "text": [
      "Job completed and Results stored on Coop (Results uuid=546de935-a15b-4599-b2b6-9efe495bb6ae).\n"
     ]
    }
   ],
   "source": [
    "results = survey.by(a).by(m).run(remote_inference_description = \"Survey with skip logic and scenarios\")"
   ]
  },
  {
   "cell_type": "markdown",
   "id": "1a532e9e-53cf-40d3-b7cf-4ff523a5db46",
   "metadata": {},
   "source": [
    "There is no \"scenario\" field in results because the scenarios were already added to questions:"
   ]
  },
  {
   "cell_type": "code",
   "execution_count": 15,
   "id": "b29519d9-8d4a-4c6f-806e-6da779482b04",
   "metadata": {},
   "outputs": [
    {
     "data": {
      "text/html": [
       "<pre style=\"white-space:pre;overflow-x:auto;line-height:normal;font-family:Menlo,'DejaVu Sans Mono',consolas,'Courier New',monospace\">┏━━━━━━━━━━━━┳━━━━━━━━━━━━┳━━━━━━━┳━━━━━━━━━━━━┳━━━━━━━━━━━━┳━━━━━━━━━━━━┳━━━━━━━━━━━━━┳━━━━━━━━━━━━┳━━━━━━━━━━━━━┓\n",
       "┃<span style=\"color: #800080; text-decoration-color: #800080; font-weight: bold\"> model      </span>┃<span style=\"color: #800080; text-decoration-color: #800080; font-weight: bold\"> agent      </span>┃<span style=\"color: #800080; text-decoration-color: #800080; font-weight: bold\"> agent </span>┃<span style=\"color: #800080; text-decoration-color: #800080; font-weight: bold\"> answer     </span>┃<span style=\"color: #800080; text-decoration-color: #800080; font-weight: bold\"> answer     </span>┃<span style=\"color: #800080; text-decoration-color: #800080; font-weight: bold\"> answer     </span>┃<span style=\"color: #800080; text-decoration-color: #800080; font-weight: bold\"> answer      </span>┃<span style=\"color: #800080; text-decoration-color: #800080; font-weight: bold\"> answer     </span>┃<span style=\"color: #800080; text-decoration-color: #800080; font-weight: bold\"> answer      </span>┃\n",
       "┃<span style=\"color: #800080; text-decoration-color: #800080; font-weight: bold\"> .model     </span>┃<span style=\"color: #800080; text-decoration-color: #800080; font-weight: bold\"> .annual_i… </span>┃<span style=\"color: #800080; text-decoration-color: #800080; font-weight: bold\"> .age  </span>┃<span style=\"color: #800080; text-decoration-color: #800080; font-weight: bold\"> .recent_p… </span>┃<span style=\"color: #800080; text-decoration-color: #800080; font-weight: bold\"> .amount_e… </span>┃<span style=\"color: #800080; text-decoration-color: #800080; font-weight: bold\"> .next_pur… </span>┃<span style=\"color: #800080; text-decoration-color: #800080; font-weight: bold\"> .recent_pu… </span>┃<span style=\"color: #800080; text-decoration-color: #800080; font-weight: bold\"> .amount_p… </span>┃<span style=\"color: #800080; text-decoration-color: #800080; font-weight: bold\"> .next_purc… </span>┃\n",
       "┡━━━━━━━━━━━━╇━━━━━━━━━━━━╇━━━━━━━╇━━━━━━━━━━━━╇━━━━━━━━━━━━╇━━━━━━━━━━━━╇━━━━━━━━━━━━━╇━━━━━━━━━━━━╇━━━━━━━━━━━━━┩\n",
       "│<span style=\"color: #7f7f7f; text-decoration-color: #7f7f7f\"> gemini-1.… </span>│<span style=\"color: #7f7f7f; text-decoration-color: #7f7f7f\"> $100,000-… </span>│<span style=\"color: #7f7f7f; text-decoration-color: #7f7f7f\"> 30    </span>│<span style=\"color: #7f7f7f; text-decoration-color: #7f7f7f\"> Yes        </span>│<span style=\"color: #7f7f7f; text-decoration-color: #7f7f7f\"> 1500       </span>│<span style=\"color: #7f7f7f; text-decoration-color: #7f7f7f\"> Within the </span>│<span style=\"color: #7f7f7f; text-decoration-color: #7f7f7f\"> Yes         </span>│<span style=\"color: #7f7f7f; text-decoration-color: #7f7f7f\"> 1000       </span>│<span style=\"color: #7f7f7f; text-decoration-color: #7f7f7f\"> Within the  </span>│\n",
       "│<span style=\"color: #7f7f7f; text-decoration-color: #7f7f7f\">            </span>│<span style=\"color: #7f7f7f; text-decoration-color: #7f7f7f\">            </span>│<span style=\"color: #7f7f7f; text-decoration-color: #7f7f7f\">       </span>│<span style=\"color: #7f7f7f; text-decoration-color: #7f7f7f\">            </span>│<span style=\"color: #7f7f7f; text-decoration-color: #7f7f7f\">            </span>│<span style=\"color: #7f7f7f; text-decoration-color: #7f7f7f\"> next year  </span>│<span style=\"color: #7f7f7f; text-decoration-color: #7f7f7f\">             </span>│<span style=\"color: #7f7f7f; text-decoration-color: #7f7f7f\">            </span>│<span style=\"color: #7f7f7f; text-decoration-color: #7f7f7f\"> next year   </span>│\n",
       "├────────────┼────────────┼───────┼────────────┼────────────┼────────────┼─────────────┼────────────┼─────────────┤\n",
       "│<span style=\"color: #7f7f7f; text-decoration-color: #7f7f7f\"> gemini-1.… </span>│<span style=\"color: #7f7f7f; text-decoration-color: #7f7f7f\"> $100,000-… </span>│<span style=\"color: #7f7f7f; text-decoration-color: #7f7f7f\"> 50    </span>│<span style=\"color: #7f7f7f; text-decoration-color: #7f7f7f\"> Yes        </span>│<span style=\"color: #7f7f7f; text-decoration-color: #7f7f7f\"> 1500       </span>│<span style=\"color: #7f7f7f; text-decoration-color: #7f7f7f\"> Within the </span>│<span style=\"color: #7f7f7f; text-decoration-color: #7f7f7f\"> No          </span>│<span style=\"color: #7f7f7f; text-decoration-color: #7f7f7f\"> 1000       </span>│<span style=\"color: #7f7f7f; text-decoration-color: #7f7f7f\"> Within the  </span>│\n",
       "│<span style=\"color: #7f7f7f; text-decoration-color: #7f7f7f\">            </span>│<span style=\"color: #7f7f7f; text-decoration-color: #7f7f7f\">            </span>│<span style=\"color: #7f7f7f; text-decoration-color: #7f7f7f\">       </span>│<span style=\"color: #7f7f7f; text-decoration-color: #7f7f7f\">            </span>│<span style=\"color: #7f7f7f; text-decoration-color: #7f7f7f\">            </span>│<span style=\"color: #7f7f7f; text-decoration-color: #7f7f7f\"> next year  </span>│<span style=\"color: #7f7f7f; text-decoration-color: #7f7f7f\">             </span>│<span style=\"color: #7f7f7f; text-decoration-color: #7f7f7f\">            </span>│<span style=\"color: #7f7f7f; text-decoration-color: #7f7f7f\"> next year   </span>│\n",
       "├────────────┼────────────┼───────┼────────────┼────────────┼────────────┼─────────────┼────────────┼─────────────┤\n",
       "│<span style=\"color: #7f7f7f; text-decoration-color: #7f7f7f\"> gemini-1.… </span>│<span style=\"color: #7f7f7f; text-decoration-color: #7f7f7f\"> $100,000-… </span>│<span style=\"color: #7f7f7f; text-decoration-color: #7f7f7f\"> 70    </span>│<span style=\"color: #7f7f7f; text-decoration-color: #7f7f7f\"> No         </span>│<span style=\"color: #7f7f7f; text-decoration-color: #7f7f7f\"> 500        </span>│<span style=\"color: #7f7f7f; text-decoration-color: #7f7f7f\"> Within the </span>│<span style=\"color: #7f7f7f; text-decoration-color: #7f7f7f\"> None        </span>│<span style=\"color: #7f7f7f; text-decoration-color: #7f7f7f\"> None       </span>│<span style=\"color: #7f7f7f; text-decoration-color: #7f7f7f\"> None        </span>│\n",
       "│<span style=\"color: #7f7f7f; text-decoration-color: #7f7f7f\">            </span>│<span style=\"color: #7f7f7f; text-decoration-color: #7f7f7f\">            </span>│<span style=\"color: #7f7f7f; text-decoration-color: #7f7f7f\">       </span>│<span style=\"color: #7f7f7f; text-decoration-color: #7f7f7f\">            </span>│<span style=\"color: #7f7f7f; text-decoration-color: #7f7f7f\">            </span>│<span style=\"color: #7f7f7f; text-decoration-color: #7f7f7f\"> next year  </span>│<span style=\"color: #7f7f7f; text-decoration-color: #7f7f7f\">             </span>│<span style=\"color: #7f7f7f; text-decoration-color: #7f7f7f\">            </span>│<span style=\"color: #7f7f7f; text-decoration-color: #7f7f7f\">             </span>│\n",
       "├────────────┼────────────┼───────┼────────────┼────────────┼────────────┼─────────────┼────────────┼─────────────┤\n",
       "│<span style=\"color: #7f7f7f; text-decoration-color: #7f7f7f\"> gemini-1.… </span>│<span style=\"color: #7f7f7f; text-decoration-color: #7f7f7f\"> above      </span>│<span style=\"color: #7f7f7f; text-decoration-color: #7f7f7f\"> 30    </span>│<span style=\"color: #7f7f7f; text-decoration-color: #7f7f7f\"> Yes        </span>│<span style=\"color: #7f7f7f; text-decoration-color: #7f7f7f\"> 10000      </span>│<span style=\"color: #7f7f7f; text-decoration-color: #7f7f7f\"> Within the </span>│<span style=\"color: #7f7f7f; text-decoration-color: #7f7f7f\"> Yes         </span>│<span style=\"color: #7f7f7f; text-decoration-color: #7f7f7f\"> 1000       </span>│<span style=\"color: #7f7f7f; text-decoration-color: #7f7f7f\"> Within the  </span>│\n",
       "│<span style=\"color: #7f7f7f; text-decoration-color: #7f7f7f\">            </span>│<span style=\"color: #7f7f7f; text-decoration-color: #7f7f7f\"> $250,000   </span>│<span style=\"color: #7f7f7f; text-decoration-color: #7f7f7f\">       </span>│<span style=\"color: #7f7f7f; text-decoration-color: #7f7f7f\">            </span>│<span style=\"color: #7f7f7f; text-decoration-color: #7f7f7f\">            </span>│<span style=\"color: #7f7f7f; text-decoration-color: #7f7f7f\"> next year  </span>│<span style=\"color: #7f7f7f; text-decoration-color: #7f7f7f\">             </span>│<span style=\"color: #7f7f7f; text-decoration-color: #7f7f7f\">            </span>│<span style=\"color: #7f7f7f; text-decoration-color: #7f7f7f\"> next year   </span>│\n",
       "├────────────┼────────────┼───────┼────────────┼────────────┼────────────┼─────────────┼────────────┼─────────────┤\n",
       "│<span style=\"color: #7f7f7f; text-decoration-color: #7f7f7f\"> gemini-1.… </span>│<span style=\"color: #7f7f7f; text-decoration-color: #7f7f7f\"> above      </span>│<span style=\"color: #7f7f7f; text-decoration-color: #7f7f7f\"> 50    </span>│<span style=\"color: #7f7f7f; text-decoration-color: #7f7f7f\"> Yes        </span>│<span style=\"color: #7f7f7f; text-decoration-color: #7f7f7f\"> 5000       </span>│<span style=\"color: #7f7f7f; text-decoration-color: #7f7f7f\"> Within the </span>│<span style=\"color: #7f7f7f; text-decoration-color: #7f7f7f\"> No          </span>│<span style=\"color: #7f7f7f; text-decoration-color: #7f7f7f\"> 1000       </span>│<span style=\"color: #7f7f7f; text-decoration-color: #7f7f7f\"> Within the  </span>│\n",
       "│<span style=\"color: #7f7f7f; text-decoration-color: #7f7f7f\">            </span>│<span style=\"color: #7f7f7f; text-decoration-color: #7f7f7f\"> $250,000   </span>│<span style=\"color: #7f7f7f; text-decoration-color: #7f7f7f\">       </span>│<span style=\"color: #7f7f7f; text-decoration-color: #7f7f7f\">            </span>│<span style=\"color: #7f7f7f; text-decoration-color: #7f7f7f\">            </span>│<span style=\"color: #7f7f7f; text-decoration-color: #7f7f7f\"> next year  </span>│<span style=\"color: #7f7f7f; text-decoration-color: #7f7f7f\">             </span>│<span style=\"color: #7f7f7f; text-decoration-color: #7f7f7f\">            </span>│<span style=\"color: #7f7f7f; text-decoration-color: #7f7f7f\"> next year   </span>│\n",
       "├────────────┼────────────┼───────┼────────────┼────────────┼────────────┼─────────────┼────────────┼─────────────┤\n",
       "│<span style=\"color: #7f7f7f; text-decoration-color: #7f7f7f\"> gemini-1.… </span>│<span style=\"color: #7f7f7f; text-decoration-color: #7f7f7f\"> above      </span>│<span style=\"color: #7f7f7f; text-decoration-color: #7f7f7f\"> 70    </span>│<span style=\"color: #7f7f7f; text-decoration-color: #7f7f7f\"> No         </span>│<span style=\"color: #7f7f7f; text-decoration-color: #7f7f7f\"> 0          </span>│<span style=\"color: #7f7f7f; text-decoration-color: #7f7f7f\"> Never      </span>│<span style=\"color: #7f7f7f; text-decoration-color: #7f7f7f\"> None        </span>│<span style=\"color: #7f7f7f; text-decoration-color: #7f7f7f\"> None       </span>│<span style=\"color: #7f7f7f; text-decoration-color: #7f7f7f\"> None        </span>│\n",
       "│<span style=\"color: #7f7f7f; text-decoration-color: #7f7f7f\">            </span>│<span style=\"color: #7f7f7f; text-decoration-color: #7f7f7f\"> $250,000   </span>│<span style=\"color: #7f7f7f; text-decoration-color: #7f7f7f\">       </span>│<span style=\"color: #7f7f7f; text-decoration-color: #7f7f7f\">            </span>│<span style=\"color: #7f7f7f; text-decoration-color: #7f7f7f\">            </span>│<span style=\"color: #7f7f7f; text-decoration-color: #7f7f7f\">            </span>│<span style=\"color: #7f7f7f; text-decoration-color: #7f7f7f\">             </span>│<span style=\"color: #7f7f7f; text-decoration-color: #7f7f7f\">            </span>│<span style=\"color: #7f7f7f; text-decoration-color: #7f7f7f\">             </span>│\n",
       "├────────────┼────────────┼───────┼────────────┼────────────┼────────────┼─────────────┼────────────┼─────────────┤\n",
       "│<span style=\"color: #7f7f7f; text-decoration-color: #7f7f7f\"> gemini-1.… </span>│<span style=\"color: #7f7f7f; text-decoration-color: #7f7f7f\"> under      </span>│<span style=\"color: #7f7f7f; text-decoration-color: #7f7f7f\"> 30    </span>│<span style=\"color: #7f7f7f; text-decoration-color: #7f7f7f\"> Yes        </span>│<span style=\"color: #7f7f7f; text-decoration-color: #7f7f7f\"> 500        </span>│<span style=\"color: #7f7f7f; text-decoration-color: #7f7f7f\"> Within the </span>│<span style=\"color: #7f7f7f; text-decoration-color: #7f7f7f\"> No          </span>│<span style=\"color: #7f7f7f; text-decoration-color: #7f7f7f\"> 1000       </span>│<span style=\"color: #7f7f7f; text-decoration-color: #7f7f7f\"> Within the  </span>│\n",
       "│<span style=\"color: #7f7f7f; text-decoration-color: #7f7f7f\">            </span>│<span style=\"color: #7f7f7f; text-decoration-color: #7f7f7f\"> $100,000   </span>│<span style=\"color: #7f7f7f; text-decoration-color: #7f7f7f\">       </span>│<span style=\"color: #7f7f7f; text-decoration-color: #7f7f7f\">            </span>│<span style=\"color: #7f7f7f; text-decoration-color: #7f7f7f\">            </span>│<span style=\"color: #7f7f7f; text-decoration-color: #7f7f7f\"> next year  </span>│<span style=\"color: #7f7f7f; text-decoration-color: #7f7f7f\">             </span>│<span style=\"color: #7f7f7f; text-decoration-color: #7f7f7f\">            </span>│<span style=\"color: #7f7f7f; text-decoration-color: #7f7f7f\"> next year   </span>│\n",
       "├────────────┼────────────┼───────┼────────────┼────────────┼────────────┼─────────────┼────────────┼─────────────┤\n",
       "│<span style=\"color: #7f7f7f; text-decoration-color: #7f7f7f\"> gemini-1.… </span>│<span style=\"color: #7f7f7f; text-decoration-color: #7f7f7f\"> under      </span>│<span style=\"color: #7f7f7f; text-decoration-color: #7f7f7f\"> 50    </span>│<span style=\"color: #7f7f7f; text-decoration-color: #7f7f7f\"> No         </span>│<span style=\"color: #7f7f7f; text-decoration-color: #7f7f7f\"> 500        </span>│<span style=\"color: #7f7f7f; text-decoration-color: #7f7f7f\"> Within the </span>│<span style=\"color: #7f7f7f; text-decoration-color: #7f7f7f\"> None        </span>│<span style=\"color: #7f7f7f; text-decoration-color: #7f7f7f\"> None       </span>│<span style=\"color: #7f7f7f; text-decoration-color: #7f7f7f\"> None        </span>│\n",
       "│<span style=\"color: #7f7f7f; text-decoration-color: #7f7f7f\">            </span>│<span style=\"color: #7f7f7f; text-decoration-color: #7f7f7f\"> $100,000   </span>│<span style=\"color: #7f7f7f; text-decoration-color: #7f7f7f\">       </span>│<span style=\"color: #7f7f7f; text-decoration-color: #7f7f7f\">            </span>│<span style=\"color: #7f7f7f; text-decoration-color: #7f7f7f\">            </span>│<span style=\"color: #7f7f7f; text-decoration-color: #7f7f7f\"> next year  </span>│<span style=\"color: #7f7f7f; text-decoration-color: #7f7f7f\">             </span>│<span style=\"color: #7f7f7f; text-decoration-color: #7f7f7f\">            </span>│<span style=\"color: #7f7f7f; text-decoration-color: #7f7f7f\">             </span>│\n",
       "├────────────┼────────────┼───────┼────────────┼────────────┼────────────┼─────────────┼────────────┼─────────────┤\n",
       "│<span style=\"color: #7f7f7f; text-decoration-color: #7f7f7f\"> gemini-1.… </span>│<span style=\"color: #7f7f7f; text-decoration-color: #7f7f7f\"> under      </span>│<span style=\"color: #7f7f7f; text-decoration-color: #7f7f7f\"> 70    </span>│<span style=\"color: #7f7f7f; text-decoration-color: #7f7f7f\"> No         </span>│<span style=\"color: #7f7f7f; text-decoration-color: #7f7f7f\"> 0          </span>│<span style=\"color: #7f7f7f; text-decoration-color: #7f7f7f\"> Never      </span>│<span style=\"color: #7f7f7f; text-decoration-color: #7f7f7f\"> None        </span>│<span style=\"color: #7f7f7f; text-decoration-color: #7f7f7f\"> None       </span>│<span style=\"color: #7f7f7f; text-decoration-color: #7f7f7f\"> None        </span>│\n",
       "│<span style=\"color: #7f7f7f; text-decoration-color: #7f7f7f\">            </span>│<span style=\"color: #7f7f7f; text-decoration-color: #7f7f7f\"> $100,000   </span>│<span style=\"color: #7f7f7f; text-decoration-color: #7f7f7f\">       </span>│<span style=\"color: #7f7f7f; text-decoration-color: #7f7f7f\">            </span>│<span style=\"color: #7f7f7f; text-decoration-color: #7f7f7f\">            </span>│<span style=\"color: #7f7f7f; text-decoration-color: #7f7f7f\">            </span>│<span style=\"color: #7f7f7f; text-decoration-color: #7f7f7f\">             </span>│<span style=\"color: #7f7f7f; text-decoration-color: #7f7f7f\">            </span>│<span style=\"color: #7f7f7f; text-decoration-color: #7f7f7f\">             </span>│\n",
       "└────────────┴────────────┴───────┴────────────┴────────────┴────────────┴─────────────┴────────────┴─────────────┘\n",
       "</pre>\n"
      ],
      "text/plain": [
       "┏━━━━━━━━━━━━┳━━━━━━━━━━━━┳━━━━━━━┳━━━━━━━━━━━━┳━━━━━━━━━━━━┳━━━━━━━━━━━━┳━━━━━━━━━━━━━┳━━━━━━━━━━━━┳━━━━━━━━━━━━━┓\n",
       "┃\u001b[1;35m \u001b[0m\u001b[1;35mmodel     \u001b[0m\u001b[1;35m \u001b[0m┃\u001b[1;35m \u001b[0m\u001b[1;35magent     \u001b[0m\u001b[1;35m \u001b[0m┃\u001b[1;35m \u001b[0m\u001b[1;35magent\u001b[0m\u001b[1;35m \u001b[0m┃\u001b[1;35m \u001b[0m\u001b[1;35manswer    \u001b[0m\u001b[1;35m \u001b[0m┃\u001b[1;35m \u001b[0m\u001b[1;35manswer    \u001b[0m\u001b[1;35m \u001b[0m┃\u001b[1;35m \u001b[0m\u001b[1;35manswer    \u001b[0m\u001b[1;35m \u001b[0m┃\u001b[1;35m \u001b[0m\u001b[1;35manswer     \u001b[0m\u001b[1;35m \u001b[0m┃\u001b[1;35m \u001b[0m\u001b[1;35manswer    \u001b[0m\u001b[1;35m \u001b[0m┃\u001b[1;35m \u001b[0m\u001b[1;35manswer     \u001b[0m\u001b[1;35m \u001b[0m┃\n",
       "┃\u001b[1;35m \u001b[0m\u001b[1;35m.model    \u001b[0m\u001b[1;35m \u001b[0m┃\u001b[1;35m \u001b[0m\u001b[1;35m.annual_i…\u001b[0m\u001b[1;35m \u001b[0m┃\u001b[1;35m \u001b[0m\u001b[1;35m.age \u001b[0m\u001b[1;35m \u001b[0m┃\u001b[1;35m \u001b[0m\u001b[1;35m.recent_p…\u001b[0m\u001b[1;35m \u001b[0m┃\u001b[1;35m \u001b[0m\u001b[1;35m.amount_e…\u001b[0m\u001b[1;35m \u001b[0m┃\u001b[1;35m \u001b[0m\u001b[1;35m.next_pur…\u001b[0m\u001b[1;35m \u001b[0m┃\u001b[1;35m \u001b[0m\u001b[1;35m.recent_pu…\u001b[0m\u001b[1;35m \u001b[0m┃\u001b[1;35m \u001b[0m\u001b[1;35m.amount_p…\u001b[0m\u001b[1;35m \u001b[0m┃\u001b[1;35m \u001b[0m\u001b[1;35m.next_purc…\u001b[0m\u001b[1;35m \u001b[0m┃\n",
       "┡━━━━━━━━━━━━╇━━━━━━━━━━━━╇━━━━━━━╇━━━━━━━━━━━━╇━━━━━━━━━━━━╇━━━━━━━━━━━━╇━━━━━━━━━━━━━╇━━━━━━━━━━━━╇━━━━━━━━━━━━━┩\n",
       "│\u001b[2m \u001b[0m\u001b[2mgemini-1.…\u001b[0m\u001b[2m \u001b[0m│\u001b[2m \u001b[0m\u001b[2m$100,000-…\u001b[0m\u001b[2m \u001b[0m│\u001b[2m \u001b[0m\u001b[2m30   \u001b[0m\u001b[2m \u001b[0m│\u001b[2m \u001b[0m\u001b[2mYes       \u001b[0m\u001b[2m \u001b[0m│\u001b[2m \u001b[0m\u001b[2m1500      \u001b[0m\u001b[2m \u001b[0m│\u001b[2m \u001b[0m\u001b[2mWithin the\u001b[0m\u001b[2m \u001b[0m│\u001b[2m \u001b[0m\u001b[2mYes        \u001b[0m\u001b[2m \u001b[0m│\u001b[2m \u001b[0m\u001b[2m1000      \u001b[0m\u001b[2m \u001b[0m│\u001b[2m \u001b[0m\u001b[2mWithin the \u001b[0m\u001b[2m \u001b[0m│\n",
       "│\u001b[2m            \u001b[0m│\u001b[2m            \u001b[0m│\u001b[2m       \u001b[0m│\u001b[2m            \u001b[0m│\u001b[2m            \u001b[0m│\u001b[2m \u001b[0m\u001b[2mnext year \u001b[0m\u001b[2m \u001b[0m│\u001b[2m             \u001b[0m│\u001b[2m            \u001b[0m│\u001b[2m \u001b[0m\u001b[2mnext year  \u001b[0m\u001b[2m \u001b[0m│\n",
       "├────────────┼────────────┼───────┼────────────┼────────────┼────────────┼─────────────┼────────────┼─────────────┤\n",
       "│\u001b[2m \u001b[0m\u001b[2mgemini-1.…\u001b[0m\u001b[2m \u001b[0m│\u001b[2m \u001b[0m\u001b[2m$100,000-…\u001b[0m\u001b[2m \u001b[0m│\u001b[2m \u001b[0m\u001b[2m50   \u001b[0m\u001b[2m \u001b[0m│\u001b[2m \u001b[0m\u001b[2mYes       \u001b[0m\u001b[2m \u001b[0m│\u001b[2m \u001b[0m\u001b[2m1500      \u001b[0m\u001b[2m \u001b[0m│\u001b[2m \u001b[0m\u001b[2mWithin the\u001b[0m\u001b[2m \u001b[0m│\u001b[2m \u001b[0m\u001b[2mNo         \u001b[0m\u001b[2m \u001b[0m│\u001b[2m \u001b[0m\u001b[2m1000      \u001b[0m\u001b[2m \u001b[0m│\u001b[2m \u001b[0m\u001b[2mWithin the \u001b[0m\u001b[2m \u001b[0m│\n",
       "│\u001b[2m            \u001b[0m│\u001b[2m            \u001b[0m│\u001b[2m       \u001b[0m│\u001b[2m            \u001b[0m│\u001b[2m            \u001b[0m│\u001b[2m \u001b[0m\u001b[2mnext year \u001b[0m\u001b[2m \u001b[0m│\u001b[2m             \u001b[0m│\u001b[2m            \u001b[0m│\u001b[2m \u001b[0m\u001b[2mnext year  \u001b[0m\u001b[2m \u001b[0m│\n",
       "├────────────┼────────────┼───────┼────────────┼────────────┼────────────┼─────────────┼────────────┼─────────────┤\n",
       "│\u001b[2m \u001b[0m\u001b[2mgemini-1.…\u001b[0m\u001b[2m \u001b[0m│\u001b[2m \u001b[0m\u001b[2m$100,000-…\u001b[0m\u001b[2m \u001b[0m│\u001b[2m \u001b[0m\u001b[2m70   \u001b[0m\u001b[2m \u001b[0m│\u001b[2m \u001b[0m\u001b[2mNo        \u001b[0m\u001b[2m \u001b[0m│\u001b[2m \u001b[0m\u001b[2m500       \u001b[0m\u001b[2m \u001b[0m│\u001b[2m \u001b[0m\u001b[2mWithin the\u001b[0m\u001b[2m \u001b[0m│\u001b[2m \u001b[0m\u001b[2mNone       \u001b[0m\u001b[2m \u001b[0m│\u001b[2m \u001b[0m\u001b[2mNone      \u001b[0m\u001b[2m \u001b[0m│\u001b[2m \u001b[0m\u001b[2mNone       \u001b[0m\u001b[2m \u001b[0m│\n",
       "│\u001b[2m            \u001b[0m│\u001b[2m            \u001b[0m│\u001b[2m       \u001b[0m│\u001b[2m            \u001b[0m│\u001b[2m            \u001b[0m│\u001b[2m \u001b[0m\u001b[2mnext year \u001b[0m\u001b[2m \u001b[0m│\u001b[2m             \u001b[0m│\u001b[2m            \u001b[0m│\u001b[2m             \u001b[0m│\n",
       "├────────────┼────────────┼───────┼────────────┼────────────┼────────────┼─────────────┼────────────┼─────────────┤\n",
       "│\u001b[2m \u001b[0m\u001b[2mgemini-1.…\u001b[0m\u001b[2m \u001b[0m│\u001b[2m \u001b[0m\u001b[2mabove     \u001b[0m\u001b[2m \u001b[0m│\u001b[2m \u001b[0m\u001b[2m30   \u001b[0m\u001b[2m \u001b[0m│\u001b[2m \u001b[0m\u001b[2mYes       \u001b[0m\u001b[2m \u001b[0m│\u001b[2m \u001b[0m\u001b[2m10000     \u001b[0m\u001b[2m \u001b[0m│\u001b[2m \u001b[0m\u001b[2mWithin the\u001b[0m\u001b[2m \u001b[0m│\u001b[2m \u001b[0m\u001b[2mYes        \u001b[0m\u001b[2m \u001b[0m│\u001b[2m \u001b[0m\u001b[2m1000      \u001b[0m\u001b[2m \u001b[0m│\u001b[2m \u001b[0m\u001b[2mWithin the \u001b[0m\u001b[2m \u001b[0m│\n",
       "│\u001b[2m            \u001b[0m│\u001b[2m \u001b[0m\u001b[2m$250,000  \u001b[0m\u001b[2m \u001b[0m│\u001b[2m       \u001b[0m│\u001b[2m            \u001b[0m│\u001b[2m            \u001b[0m│\u001b[2m \u001b[0m\u001b[2mnext year \u001b[0m\u001b[2m \u001b[0m│\u001b[2m             \u001b[0m│\u001b[2m            \u001b[0m│\u001b[2m \u001b[0m\u001b[2mnext year  \u001b[0m\u001b[2m \u001b[0m│\n",
       "├────────────┼────────────┼───────┼────────────┼────────────┼────────────┼─────────────┼────────────┼─────────────┤\n",
       "│\u001b[2m \u001b[0m\u001b[2mgemini-1.…\u001b[0m\u001b[2m \u001b[0m│\u001b[2m \u001b[0m\u001b[2mabove     \u001b[0m\u001b[2m \u001b[0m│\u001b[2m \u001b[0m\u001b[2m50   \u001b[0m\u001b[2m \u001b[0m│\u001b[2m \u001b[0m\u001b[2mYes       \u001b[0m\u001b[2m \u001b[0m│\u001b[2m \u001b[0m\u001b[2m5000      \u001b[0m\u001b[2m \u001b[0m│\u001b[2m \u001b[0m\u001b[2mWithin the\u001b[0m\u001b[2m \u001b[0m│\u001b[2m \u001b[0m\u001b[2mNo         \u001b[0m\u001b[2m \u001b[0m│\u001b[2m \u001b[0m\u001b[2m1000      \u001b[0m\u001b[2m \u001b[0m│\u001b[2m \u001b[0m\u001b[2mWithin the \u001b[0m\u001b[2m \u001b[0m│\n",
       "│\u001b[2m            \u001b[0m│\u001b[2m \u001b[0m\u001b[2m$250,000  \u001b[0m\u001b[2m \u001b[0m│\u001b[2m       \u001b[0m│\u001b[2m            \u001b[0m│\u001b[2m            \u001b[0m│\u001b[2m \u001b[0m\u001b[2mnext year \u001b[0m\u001b[2m \u001b[0m│\u001b[2m             \u001b[0m│\u001b[2m            \u001b[0m│\u001b[2m \u001b[0m\u001b[2mnext year  \u001b[0m\u001b[2m \u001b[0m│\n",
       "├────────────┼────────────┼───────┼────────────┼────────────┼────────────┼─────────────┼────────────┼─────────────┤\n",
       "│\u001b[2m \u001b[0m\u001b[2mgemini-1.…\u001b[0m\u001b[2m \u001b[0m│\u001b[2m \u001b[0m\u001b[2mabove     \u001b[0m\u001b[2m \u001b[0m│\u001b[2m \u001b[0m\u001b[2m70   \u001b[0m\u001b[2m \u001b[0m│\u001b[2m \u001b[0m\u001b[2mNo        \u001b[0m\u001b[2m \u001b[0m│\u001b[2m \u001b[0m\u001b[2m0         \u001b[0m\u001b[2m \u001b[0m│\u001b[2m \u001b[0m\u001b[2mNever     \u001b[0m\u001b[2m \u001b[0m│\u001b[2m \u001b[0m\u001b[2mNone       \u001b[0m\u001b[2m \u001b[0m│\u001b[2m \u001b[0m\u001b[2mNone      \u001b[0m\u001b[2m \u001b[0m│\u001b[2m \u001b[0m\u001b[2mNone       \u001b[0m\u001b[2m \u001b[0m│\n",
       "│\u001b[2m            \u001b[0m│\u001b[2m \u001b[0m\u001b[2m$250,000  \u001b[0m\u001b[2m \u001b[0m│\u001b[2m       \u001b[0m│\u001b[2m            \u001b[0m│\u001b[2m            \u001b[0m│\u001b[2m            \u001b[0m│\u001b[2m             \u001b[0m│\u001b[2m            \u001b[0m│\u001b[2m             \u001b[0m│\n",
       "├────────────┼────────────┼───────┼────────────┼────────────┼────────────┼─────────────┼────────────┼─────────────┤\n",
       "│\u001b[2m \u001b[0m\u001b[2mgemini-1.…\u001b[0m\u001b[2m \u001b[0m│\u001b[2m \u001b[0m\u001b[2munder     \u001b[0m\u001b[2m \u001b[0m│\u001b[2m \u001b[0m\u001b[2m30   \u001b[0m\u001b[2m \u001b[0m│\u001b[2m \u001b[0m\u001b[2mYes       \u001b[0m\u001b[2m \u001b[0m│\u001b[2m \u001b[0m\u001b[2m500       \u001b[0m\u001b[2m \u001b[0m│\u001b[2m \u001b[0m\u001b[2mWithin the\u001b[0m\u001b[2m \u001b[0m│\u001b[2m \u001b[0m\u001b[2mNo         \u001b[0m\u001b[2m \u001b[0m│\u001b[2m \u001b[0m\u001b[2m1000      \u001b[0m\u001b[2m \u001b[0m│\u001b[2m \u001b[0m\u001b[2mWithin the \u001b[0m\u001b[2m \u001b[0m│\n",
       "│\u001b[2m            \u001b[0m│\u001b[2m \u001b[0m\u001b[2m$100,000  \u001b[0m\u001b[2m \u001b[0m│\u001b[2m       \u001b[0m│\u001b[2m            \u001b[0m│\u001b[2m            \u001b[0m│\u001b[2m \u001b[0m\u001b[2mnext year \u001b[0m\u001b[2m \u001b[0m│\u001b[2m             \u001b[0m│\u001b[2m            \u001b[0m│\u001b[2m \u001b[0m\u001b[2mnext year  \u001b[0m\u001b[2m \u001b[0m│\n",
       "├────────────┼────────────┼───────┼────────────┼────────────┼────────────┼─────────────┼────────────┼─────────────┤\n",
       "│\u001b[2m \u001b[0m\u001b[2mgemini-1.…\u001b[0m\u001b[2m \u001b[0m│\u001b[2m \u001b[0m\u001b[2munder     \u001b[0m\u001b[2m \u001b[0m│\u001b[2m \u001b[0m\u001b[2m50   \u001b[0m\u001b[2m \u001b[0m│\u001b[2m \u001b[0m\u001b[2mNo        \u001b[0m\u001b[2m \u001b[0m│\u001b[2m \u001b[0m\u001b[2m500       \u001b[0m\u001b[2m \u001b[0m│\u001b[2m \u001b[0m\u001b[2mWithin the\u001b[0m\u001b[2m \u001b[0m│\u001b[2m \u001b[0m\u001b[2mNone       \u001b[0m\u001b[2m \u001b[0m│\u001b[2m \u001b[0m\u001b[2mNone      \u001b[0m\u001b[2m \u001b[0m│\u001b[2m \u001b[0m\u001b[2mNone       \u001b[0m\u001b[2m \u001b[0m│\n",
       "│\u001b[2m            \u001b[0m│\u001b[2m \u001b[0m\u001b[2m$100,000  \u001b[0m\u001b[2m \u001b[0m│\u001b[2m       \u001b[0m│\u001b[2m            \u001b[0m│\u001b[2m            \u001b[0m│\u001b[2m \u001b[0m\u001b[2mnext year \u001b[0m\u001b[2m \u001b[0m│\u001b[2m             \u001b[0m│\u001b[2m            \u001b[0m│\u001b[2m             \u001b[0m│\n",
       "├────────────┼────────────┼───────┼────────────┼────────────┼────────────┼─────────────┼────────────┼─────────────┤\n",
       "│\u001b[2m \u001b[0m\u001b[2mgemini-1.…\u001b[0m\u001b[2m \u001b[0m│\u001b[2m \u001b[0m\u001b[2munder     \u001b[0m\u001b[2m \u001b[0m│\u001b[2m \u001b[0m\u001b[2m70   \u001b[0m\u001b[2m \u001b[0m│\u001b[2m \u001b[0m\u001b[2mNo        \u001b[0m\u001b[2m \u001b[0m│\u001b[2m \u001b[0m\u001b[2m0         \u001b[0m\u001b[2m \u001b[0m│\u001b[2m \u001b[0m\u001b[2mNever     \u001b[0m\u001b[2m \u001b[0m│\u001b[2m \u001b[0m\u001b[2mNone       \u001b[0m\u001b[2m \u001b[0m│\u001b[2m \u001b[0m\u001b[2mNone      \u001b[0m\u001b[2m \u001b[0m│\u001b[2m \u001b[0m\u001b[2mNone       \u001b[0m\u001b[2m \u001b[0m│\n",
       "│\u001b[2m            \u001b[0m│\u001b[2m \u001b[0m\u001b[2m$100,000  \u001b[0m\u001b[2m \u001b[0m│\u001b[2m       \u001b[0m│\u001b[2m            \u001b[0m│\u001b[2m            \u001b[0m│\u001b[2m            \u001b[0m│\u001b[2m             \u001b[0m│\u001b[2m            \u001b[0m│\u001b[2m             \u001b[0m│\n",
       "└────────────┴────────────┴───────┴────────────┴────────────┴────────────┴─────────────┴────────────┴─────────────┘\n"
      ]
     },
     "metadata": {},
     "output_type": "display_data"
    }
   ],
   "source": [
    "(\n",
    "    results\n",
    "    .sort_by(\"annual_income\", \"age\")\n",
    "    .select(\"model\", \"annual_income\", \"age\", \"recent_purchase_electronics\", \"amount_electronics\", \"next_purchase_electronics\", \"recent_purchase_phones\", \"amount_phones\", \"next_purchase_phones\")\n",
    "    .print(format=\"rich\")\n",
    ")"
   ]
  },
  {
   "cell_type": "markdown",
   "id": "d64e617a-92ca-417a-bf8e-8423b7bdf81f",
   "metadata": {},
   "source": [
    "## Posting to the Coop\n",
    "Here we post this notebook to the Coop. [Learn more](https://docs.expectedparrot.com/en/latest/coop.html)."
   ]
  },
  {
   "cell_type": "code",
   "execution_count": 16,
   "id": "e6271adb-6b40-40ff-940e-35be53a790bf",
   "metadata": {
    "editable": true,
    "slideshow": {
     "slide_type": ""
    },
    "tags": [
     "skip-execution"
    ]
   },
   "outputs": [],
   "source": [
    "from edsl import Notebook"
   ]
  },
  {
   "cell_type": "code",
   "execution_count": 20,
   "id": "2f627fd2-11f9-4da5-9c5b-760201f0b6be",
   "metadata": {
    "editable": true,
    "slideshow": {
     "slide_type": ""
    },
    "tags": [
     "skip-execution"
    ]
   },
   "outputs": [],
   "source": [
    "n = Notebook(path = \"skip_logic_scenarios.ipynb\")"
   ]
  },
  {
   "cell_type": "code",
   "execution_count": 21,
   "id": "427af26d-aae9-4613-b162-48064fd8cfcd",
   "metadata": {
    "editable": true,
    "slideshow": {
     "slide_type": ""
    },
    "tags": [
     "skip-execution"
    ]
   },
   "outputs": [
    {
     "data": {
      "text/plain": [
       "{'description': 'Using skip logic with question scenarios',\n",
       " 'object_type': 'notebook',\n",
       " 'url': 'https://www.expectedparrot.com/content/b52683f5-d8bb-44ff-9ea7-0cbb8576f354',\n",
       " 'uuid': 'b52683f5-d8bb-44ff-9ea7-0cbb8576f354',\n",
       " 'version': '0.1.36.dev1',\n",
       " 'visibility': 'public'}"
      ]
     },
     "execution_count": 21,
     "metadata": {},
     "output_type": "execute_result"
    }
   ],
   "source": [
    "n.push(description = \"Using skip logic with question scenarios\", visibility = \"public\")"
   ]
  },
  {
   "cell_type": "markdown",
   "id": "bde2a6d9-1a48-45bc-8737-064b2b88ce47",
   "metadata": {},
   "source": [
    "Updating an object at the Coop:"
   ]
  },
  {
   "cell_type": "code",
   "execution_count": 24,
   "id": "a9822836-6954-4045-9008-b1942f3cce75",
   "metadata": {
    "editable": true,
    "slideshow": {
     "slide_type": ""
    },
    "tags": [
     "skip-execution"
    ]
   },
   "outputs": [],
   "source": [
    "n = Notebook(path = \"skip_logic_scenarios.ipynb\") # resave"
   ]
  },
  {
   "cell_type": "code",
   "execution_count": 25,
   "id": "2406bada-3ab0-400c-a226-bf92379eba06",
   "metadata": {
    "editable": true,
    "slideshow": {
     "slide_type": ""
    },
    "tags": [
     "skip-execution"
    ]
   },
   "outputs": [
    {
     "data": {
      "text/plain": [
       "{'status': 'success'}"
      ]
     },
     "execution_count": 25,
     "metadata": {},
     "output_type": "execute_result"
    }
   ],
   "source": [
    "n.patch(uuid = \"b52683f5-d8bb-44ff-9ea7-0cbb8576f354\", value = n)"
   ]
  }
 ],
 "metadata": {
  "kernelspec": {
   "display_name": "Python 3 (ipykernel)",
   "language": "python",
   "name": "python3"
  },
  "language_info": {
   "codemirror_mode": {
    "name": "ipython",
    "version": 3
   },
   "file_extension": ".py",
   "mimetype": "text/x-python",
   "name": "python",
   "nbconvert_exporter": "python",
   "pygments_lexer": "ipython3",
   "version": "3.11.7"
  }
 },
 "nbformat": 4,
 "nbformat_minor": 5
}
