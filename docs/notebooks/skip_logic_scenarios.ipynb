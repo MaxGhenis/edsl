{
 "cells": [
  {
   "cell_type": "markdown",
   "id": "326dc3be-a063-4ccd-bb4d-8be25b616d48",
   "metadata": {
    "editable": true,
    "slideshow": {
     "slide_type": ""
    },
    "tags": []
   },
   "source": [
    "# Skip logic & scenarios\n",
    "This notebook provides example EDSL code for using a language model to simulate a survey that uses skip logic: rules for determining which questions are administered based on responses to other questions in the survey. \n",
    "\n",
    "In the first example below we construct a survey of questions and then add a rule to skip one question based on the response to another question.\n",
    "\n",
    "In the second example we add some complexity. We first create different \"scenarios\" (versions) of questions and combine them in a survey. Then we add multiple rules to skip specific versions of the questions based on responses to a particular version of a question. \n",
    "\n",
    "[EDSL is an open-source library](https://github.com/expectedparrot/edsl) for simulating surveys, experiments and other research with AI agents and large language models. \n",
    "Before running the code below, please ensure that you have [installed the EDSL library](https://docs.expectedparrot.com/en/latest/installation.html) and either [activated remote inference](https://docs.expectedparrot.com/en/latest/remote_inference.html) from your [Coop account](https://docs.expectedparrot.com/en/latest/coop.html) or [stored API keys](https://docs.expectedparrot.com/en/latest/api_keys.html) for the language models that you want to use with EDSL. Please also see our [documentation page](https://docs.expectedparrot.com/) for tips and tutorials on getting started using EDSL."
   ]
  },
  {
   "cell_type": "markdown",
   "id": "5a3a9a93-a127-4bea-a7dd-785e58575eeb",
   "metadata": {
    "editable": true,
    "slideshow": {
     "slide_type": ""
    },
    "tags": []
   },
   "source": [
    "## Example 1\n",
    "In the first example below we construct questions, combine them in a survey, and add a rule to skip the second question based on the response to the first question.\n",
    "Then we create `Scenario` objects for contents that will be added to the questions when the survey is run.\n",
    "The effect of this is that the second question will be skipped based on the response to the first question for each individual scenario."
   ]
  },
  {
   "cell_type": "markdown",
   "id": "3b6c6df1-eda2-441d-b95a-0777ea16dd3f",
   "metadata": {
    "editable": true,
    "slideshow": {
     "slide_type": ""
    },
    "tags": []
   },
   "source": [
    "We start by constructing questions:"
   ]
  },
  {
   "cell_type": "code",
   "execution_count": 1,
   "id": "ee25ca3f-96e4-4b5c-9571-0664eb8cc8d1",
   "metadata": {
    "editable": true,
    "slideshow": {
     "slide_type": ""
    },
    "tags": []
   },
   "outputs": [],
   "source": [
    "from edsl import QuestionYesNo, QuestionNumerical, QuestionMultipleChoice\n",
    "\n",
    "q1 = QuestionYesNo(\n",
    "    question_name = \"recent_purchase\",\n",
    "    question_text = \"In the last year have you or anyone in your household purchased any {{ item }}?\",\n",
    ")\n",
    "\n",
    "q2 = QuestionNumerical(\n",
    "    question_name = \"amount\",\n",
    "    question_text = \"In the last year, how much did your household spend on {{ item }} (in USD)?\"\n",
    ")\n",
    "\n",
    "q3 = QuestionMultipleChoice(\n",
    "    question_name = \"next_purchase\",\n",
    "    question_text = \"When do you next expect to purchase {{ item }}?\", \n",
    "    question_options = [\n",
    "        \"Never\",\n",
    "        \"Within the next month\",\n",
    "        \"Within the next year\",\n",
    "        \"I do not know\"\n",
    "    ]\n",
    ")"
   ]
  },
  {
   "cell_type": "markdown",
   "id": "7ebc5dca-f020-475a-81e2-08113d85c4eb",
   "metadata": {
    "editable": true,
    "slideshow": {
     "slide_type": ""
    },
    "tags": []
   },
   "source": [
    "We combine the questions in a survey to administer them together:"
   ]
  },
  {
   "cell_type": "code",
   "execution_count": 2,
   "id": "5cc6d4e7-592b-4e6e-961b-d4ab879a6fdd",
   "metadata": {
    "editable": true,
    "slideshow": {
     "slide_type": ""
    },
    "tags": []
   },
   "outputs": [
    {
     "data": {
      "text/html": [
       "<p><a href='https://docs.expectedparrot.com/en/latest/surveys.html'>Survey</a> # questions: 3; question_name list: ['recent_purchase', 'amount', 'next_purchase'];</p>\n",
       "            <div style=\"max-height: 500px; overflow-y: auto;\">\n",
       "                <style type=\"text/css\">\n",
       "#T_e3e0e_row0_col0, #T_e3e0e_row0_col1, #T_e3e0e_row0_col2, #T_e3e0e_row0_col3, #T_e3e0e_row1_col0, #T_e3e0e_row1_col1, #T_e3e0e_row1_col2, #T_e3e0e_row1_col3, #T_e3e0e_row2_col0, #T_e3e0e_row2_col1, #T_e3e0e_row2_col2, #T_e3e0e_row2_col3 {\n",
       "  text-align: left;\n",
       "}\n",
       "</style>\n",
       "<table id=\"T_e3e0e\">\n",
       "  <thead>\n",
       "    <tr>\n",
       "      <th class=\"blank level0\" >&nbsp;</th>\n",
       "      <th id=\"T_e3e0e_level0_col0\" class=\"col_heading level0 col0\" >question_options</th>\n",
       "      <th id=\"T_e3e0e_level0_col1\" class=\"col_heading level0 col1\" >question_text</th>\n",
       "      <th id=\"T_e3e0e_level0_col2\" class=\"col_heading level0 col2\" >question_name</th>\n",
       "      <th id=\"T_e3e0e_level0_col3\" class=\"col_heading level0 col3\" >question_type</th>\n",
       "    </tr>\n",
       "  </thead>\n",
       "  <tbody>\n",
       "    <tr>\n",
       "      <th id=\"T_e3e0e_level0_row0\" class=\"row_heading level0 row0\" >0</th>\n",
       "      <td id=\"T_e3e0e_row0_col0\" class=\"data row0 col0\" >['No', 'Yes']</td>\n",
       "      <td id=\"T_e3e0e_row0_col1\" class=\"data row0 col1\" >In the last year have you or anyone in your household purchased any {{ item }}?</td>\n",
       "      <td id=\"T_e3e0e_row0_col2\" class=\"data row0 col2\" >recent_purchase</td>\n",
       "      <td id=\"T_e3e0e_row0_col3\" class=\"data row0 col3\" >yes_no</td>\n",
       "    </tr>\n",
       "    <tr>\n",
       "      <th id=\"T_e3e0e_level0_row1\" class=\"row_heading level0 row1\" >1</th>\n",
       "      <td id=\"T_e3e0e_row1_col0\" class=\"data row1 col0\" >nan</td>\n",
       "      <td id=\"T_e3e0e_row1_col1\" class=\"data row1 col1\" >In the last year, how much did your household spend on {{ item }} (in USD)?</td>\n",
       "      <td id=\"T_e3e0e_row1_col2\" class=\"data row1 col2\" >amount</td>\n",
       "      <td id=\"T_e3e0e_row1_col3\" class=\"data row1 col3\" >numerical</td>\n",
       "    </tr>\n",
       "    <tr>\n",
       "      <th id=\"T_e3e0e_level0_row2\" class=\"row_heading level0 row2\" >2</th>\n",
       "      <td id=\"T_e3e0e_row2_col0\" class=\"data row2 col0\" >['Never', 'Within the next month', 'Within the next year', 'I do not know']</td>\n",
       "      <td id=\"T_e3e0e_row2_col1\" class=\"data row2 col1\" >When do you next expect to purchase {{ item }}?</td>\n",
       "      <td id=\"T_e3e0e_row2_col2\" class=\"data row2 col2\" >next_purchase</td>\n",
       "      <td id=\"T_e3e0e_row2_col3\" class=\"data row2 col3\" >multiple_choice</td>\n",
       "    </tr>\n",
       "  </tbody>\n",
       "</table>\n",
       "\n",
       "            </div>\n",
       "            "
      ],
      "text/plain": [
       "Survey(questions=[Question('yes_no', question_name = \"\"\"recent_purchase\"\"\", question_text = \"\"\"In the last year have you or anyone in your household purchased any {{ item }}?\"\"\", question_options = ['No', 'Yes']), Question('numerical', question_name = \"\"\"amount\"\"\", question_text = \"\"\"In the last year, how much did your household spend on {{ item }} (in USD)?\"\"\", min_value = None, max_value = None), Question('multiple_choice', question_name = \"\"\"next_purchase\"\"\", question_text = \"\"\"When do you next expect to purchase {{ item }}?\"\"\", question_options = ['Never', 'Within the next month', 'Within the next year', 'I do not know'])], memory_plan={}, rule_collection=RuleCollection(rules=[Rule(current_q=0, expression=\"True\", next_q=1, priority=-1, question_name_to_index={'recent_purchase': 0}, before_rule=False), Rule(current_q=1, expression=\"True\", next_q=2, priority=-1, question_name_to_index={'recent_purchase': 0, 'amount': 1}, before_rule=False), Rule(current_q=2, expression=\"True\", next_q=3, priority=-1, question_name_to_index={'recent_purchase': 0, 'amount': 1, 'next_purchase': 2}, before_rule=False)], num_questions=3), question_groups={}, questions_to_randomize=[])"
      ]
     },
     "execution_count": 2,
     "metadata": {},
     "output_type": "execute_result"
    }
   ],
   "source": [
    "from edsl import Survey\n",
    "\n",
    "survey = Survey(questions = [q1, q2, q3])\n",
    "survey"
   ]
  },
  {
   "cell_type": "markdown",
   "id": "947b0d60-7054-43f8-b852-f9f022461fb9",
   "metadata": {
    "editable": true,
    "slideshow": {
     "slide_type": ""
    },
    "tags": []
   },
   "source": [
    "Here we add a rule to skip q2 based on the response to q1:"
   ]
  },
  {
   "cell_type": "code",
   "execution_count": 3,
   "id": "9fccfcf1-3f2a-4ce2-a61e-6500fa910a3f",
   "metadata": {
    "editable": true,
    "slideshow": {
     "slide_type": ""
    },
    "tags": []
   },
   "outputs": [],
   "source": [
    "survey = survey.add_skip_rule(q2, \"recent_purchase == 'No'\")"
   ]
  },
  {
   "cell_type": "markdown",
   "id": "98f70b2f-7cd4-45bc-8f56-f015bb64d3b5",
   "metadata": {
    "editable": true,
    "slideshow": {
     "slide_type": ""
    },
    "tags": []
   },
   "source": [
    "Next we create scenarios for the \"item\" to be used with each question:"
   ]
  },
  {
   "cell_type": "code",
   "execution_count": 4,
   "id": "5646f987-46cd-4b4a-8a58-dc3d1dc6b97b",
   "metadata": {
    "editable": true,
    "slideshow": {
     "slide_type": ""
    },
    "tags": []
   },
   "outputs": [],
   "source": [
    "from edsl import Scenario, ScenarioList\n",
    "\n",
    "s = ScenarioList(\n",
    "    Scenario({\"item\":item}) for item in [\"electronics\", \"phones\"]\n",
    ")"
   ]
  },
  {
   "cell_type": "markdown",
   "id": "cdefb766-8b17-42a8-919b-035c9b895073",
   "metadata": {},
   "source": [
    "Note that we could also use a method for the data type that we are using--this is equivalent:"
   ]
  },
  {
   "cell_type": "code",
   "execution_count": 5,
   "id": "e50bea5e-242e-46ad-aa51-2db478b4573f",
   "metadata": {},
   "outputs": [
    {
     "data": {
      "text/html": [
       "<p><a href='https://docs.expectedparrot.com/en/latest/scenarios.html#scenariolist'>ScenarioList</a> scenarios: 2; keys: ['item'];</p>\n",
       "            <div style=\"max-height: 500px; overflow-y: auto;\">\n",
       "                <style type=\"text/css\">\n",
       "#T_c6a39_row0_col0, #T_c6a39_row1_col0 {\n",
       "  text-align: left;\n",
       "}\n",
       "</style>\n",
       "<table id=\"T_c6a39\">\n",
       "  <thead>\n",
       "    <tr>\n",
       "      <th class=\"blank level0\" >&nbsp;</th>\n",
       "      <th id=\"T_c6a39_level0_col0\" class=\"col_heading level0 col0\" >item</th>\n",
       "    </tr>\n",
       "  </thead>\n",
       "  <tbody>\n",
       "    <tr>\n",
       "      <th id=\"T_c6a39_level0_row0\" class=\"row_heading level0 row0\" >0</th>\n",
       "      <td id=\"T_c6a39_row0_col0\" class=\"data row0 col0\" >electronics</td>\n",
       "    </tr>\n",
       "    <tr>\n",
       "      <th id=\"T_c6a39_level0_row1\" class=\"row_heading level0 row1\" >1</th>\n",
       "      <td id=\"T_c6a39_row1_col0\" class=\"data row1 col0\" >phones</td>\n",
       "    </tr>\n",
       "  </tbody>\n",
       "</table>\n",
       "\n",
       "            </div>\n",
       "            "
      ],
      "text/plain": [
       "ScenarioList([Scenario({'item': 'electronics'}), Scenario({'item': 'phones'})])"
      ]
     },
     "execution_count": 5,
     "metadata": {},
     "output_type": "execute_result"
    }
   ],
   "source": [
    "s = ScenarioList.from_list(\"item\", [\"electronics\", \"phones\"])\n",
    "s"
   ]
  },
  {
   "cell_type": "markdown",
   "id": "6e98f7e8-f088-4343-a2e3-a5f81d362fb2",
   "metadata": {
    "editable": true,
    "slideshow": {
     "slide_type": ""
    },
    "tags": []
   },
   "source": [
    "Next we create some agent personas to answer the questions:"
   ]
  },
  {
   "cell_type": "code",
   "execution_count": 6,
   "id": "0138a8f5-e1f4-4d1f-81c0-5bbbc2cde952",
   "metadata": {
    "editable": true,
    "slideshow": {
     "slide_type": ""
    },
    "tags": []
   },
   "outputs": [
    {
     "data": {
      "text/html": [
       "<p><a href='https://docs.expectedparrot.com/en/latest/agents.html#agentlist-class'>AgentList</a> agents: 9;</p>\n",
       "            <div style=\"max-height: 500px; overflow-y: auto;\">\n",
       "                <style type=\"text/css\">\n",
       "#T_ba8d0_row0_col0, #T_ba8d0_row1_col0, #T_ba8d0_row2_col0, #T_ba8d0_row3_col0, #T_ba8d0_row4_col0, #T_ba8d0_row5_col0, #T_ba8d0_row6_col0, #T_ba8d0_row7_col0, #T_ba8d0_row8_col0 {\n",
       "  text-align: left;\n",
       "}\n",
       "#T_ba8d0_row0_col1, #T_ba8d0_row3_col1, #T_ba8d0_row6_col1 {\n",
       "  text-align: left;\n",
       "  background-color: #fff7fb;\n",
       "  color: #000000;\n",
       "}\n",
       "#T_ba8d0_row1_col1, #T_ba8d0_row4_col1, #T_ba8d0_row7_col1 {\n",
       "  text-align: left;\n",
       "  background-color: #73a9cf;\n",
       "  color: #f1f1f1;\n",
       "}\n",
       "#T_ba8d0_row2_col1, #T_ba8d0_row5_col1, #T_ba8d0_row8_col1 {\n",
       "  text-align: left;\n",
       "  background-color: #023858;\n",
       "  color: #f1f1f1;\n",
       "}\n",
       "</style>\n",
       "<table id=\"T_ba8d0\">\n",
       "  <thead>\n",
       "    <tr>\n",
       "      <th class=\"blank level0\" >&nbsp;</th>\n",
       "      <th id=\"T_ba8d0_level0_col0\" class=\"col_heading level0 col0\" >annual_income</th>\n",
       "      <th id=\"T_ba8d0_level0_col1\" class=\"col_heading level0 col1\" >age</th>\n",
       "    </tr>\n",
       "  </thead>\n",
       "  <tbody>\n",
       "    <tr>\n",
       "      <th id=\"T_ba8d0_level0_row0\" class=\"row_heading level0 row0\" >0</th>\n",
       "      <td id=\"T_ba8d0_row0_col0\" class=\"data row0 col0\" >under $100,000</td>\n",
       "      <td id=\"T_ba8d0_row0_col1\" class=\"data row0 col1\" >30</td>\n",
       "    </tr>\n",
       "    <tr>\n",
       "      <th id=\"T_ba8d0_level0_row1\" class=\"row_heading level0 row1\" >1</th>\n",
       "      <td id=\"T_ba8d0_row1_col0\" class=\"data row1 col0\" >under $100,000</td>\n",
       "      <td id=\"T_ba8d0_row1_col1\" class=\"data row1 col1\" >50</td>\n",
       "    </tr>\n",
       "    <tr>\n",
       "      <th id=\"T_ba8d0_level0_row2\" class=\"row_heading level0 row2\" >2</th>\n",
       "      <td id=\"T_ba8d0_row2_col0\" class=\"data row2 col0\" >under $100,000</td>\n",
       "      <td id=\"T_ba8d0_row2_col1\" class=\"data row2 col1\" >70</td>\n",
       "    </tr>\n",
       "    <tr>\n",
       "      <th id=\"T_ba8d0_level0_row3\" class=\"row_heading level0 row3\" >3</th>\n",
       "      <td id=\"T_ba8d0_row3_col0\" class=\"data row3 col0\" >$100,000-250,000</td>\n",
       "      <td id=\"T_ba8d0_row3_col1\" class=\"data row3 col1\" >30</td>\n",
       "    </tr>\n",
       "    <tr>\n",
       "      <th id=\"T_ba8d0_level0_row4\" class=\"row_heading level0 row4\" >4</th>\n",
       "      <td id=\"T_ba8d0_row4_col0\" class=\"data row4 col0\" >$100,000-250,000</td>\n",
       "      <td id=\"T_ba8d0_row4_col1\" class=\"data row4 col1\" >50</td>\n",
       "    </tr>\n",
       "    <tr>\n",
       "      <th id=\"T_ba8d0_level0_row5\" class=\"row_heading level0 row5\" >5</th>\n",
       "      <td id=\"T_ba8d0_row5_col0\" class=\"data row5 col0\" >$100,000-250,000</td>\n",
       "      <td id=\"T_ba8d0_row5_col1\" class=\"data row5 col1\" >70</td>\n",
       "    </tr>\n",
       "    <tr>\n",
       "      <th id=\"T_ba8d0_level0_row6\" class=\"row_heading level0 row6\" >6</th>\n",
       "      <td id=\"T_ba8d0_row6_col0\" class=\"data row6 col0\" >above $250,000</td>\n",
       "      <td id=\"T_ba8d0_row6_col1\" class=\"data row6 col1\" >30</td>\n",
       "    </tr>\n",
       "    <tr>\n",
       "      <th id=\"T_ba8d0_level0_row7\" class=\"row_heading level0 row7\" >7</th>\n",
       "      <td id=\"T_ba8d0_row7_col0\" class=\"data row7 col0\" >above $250,000</td>\n",
       "      <td id=\"T_ba8d0_row7_col1\" class=\"data row7 col1\" >50</td>\n",
       "    </tr>\n",
       "    <tr>\n",
       "      <th id=\"T_ba8d0_level0_row8\" class=\"row_heading level0 row8\" >8</th>\n",
       "      <td id=\"T_ba8d0_row8_col0\" class=\"data row8 col0\" >above $250,000</td>\n",
       "      <td id=\"T_ba8d0_row8_col1\" class=\"data row8 col1\" >70</td>\n",
       "    </tr>\n",
       "  </tbody>\n",
       "</table>\n",
       "\n",
       "            </div>\n",
       "            "
      ],
      "text/plain": [
       "AgentList([Agent(traits = {'annual_income': 'under $100,000', 'age': 30}), Agent(traits = {'annual_income': 'under $100,000', 'age': 50}), Agent(traits = {'annual_income': 'under $100,000', 'age': 70}), Agent(traits = {'annual_income': '$100,000-250,000', 'age': 30}), Agent(traits = {'annual_income': '$100,000-250,000', 'age': 50}), Agent(traits = {'annual_income': '$100,000-250,000', 'age': 70}), Agent(traits = {'annual_income': 'above $250,000', 'age': 30}), Agent(traits = {'annual_income': 'above $250,000', 'age': 50}), Agent(traits = {'annual_income': 'above $250,000', 'age': 70})])"
      ]
     },
     "execution_count": 6,
     "metadata": {},
     "output_type": "execute_result"
    }
   ],
   "source": [
    "from edsl import Agent, AgentList\n",
    "\n",
    "income_levels = [\"under $100,000\", \"$100,000-250,000\", \"above $250,000\"]\n",
    "ages = [30, 50, 70] \n",
    "\n",
    "a = AgentList(\n",
    "    Agent({\"annual_income\":income, \"age\":age}) for income in income_levels for age in ages\n",
    ")\n",
    "a"
   ]
  },
  {
   "cell_type": "markdown",
   "id": "10d46e3f-3769-42b5-b0ce-8d22bbbe75fa",
   "metadata": {
    "editable": true,
    "slideshow": {
     "slide_type": ""
    },
    "tags": []
   },
   "source": [
    "Next we select a model to generate the responses ([check available models and pricing](https://www.expectedparrot.com/getting-started/coop-pricing)):"
   ]
  },
  {
   "cell_type": "code",
   "execution_count": 7,
   "id": "7b510221-5a71-4cc3-8e00-b23ceb3d260c",
   "metadata": {
    "editable": true,
    "slideshow": {
     "slide_type": ""
    },
    "tags": []
   },
   "outputs": [],
   "source": [
    "from edsl import Model\n",
    "\n",
    "m = Model(\"gemini-1.5-flash\")"
   ]
  },
  {
   "cell_type": "markdown",
   "id": "aca2bc1a-5eaf-4ce3-a260-15efa1d91bae",
   "metadata": {},
   "source": [
    "We can inspect (or modify) the default parameters of the model that will be used:"
   ]
  },
  {
   "cell_type": "code",
   "execution_count": 8,
   "id": "cb45ecc6-28d9-4bb2-8493-b946d7e7b212",
   "metadata": {},
   "outputs": [
    {
     "data": {
      "text/html": [
       "<p><a href=''>gemini-1.5-flash</a></p>\n",
       "            <div style=\"max-height: 500px; overflow-y: auto;\">\n",
       "                <style type=\"text/css\">\n",
       "#T_5fffd_row0_col0, #T_5fffd_row0_col1, #T_5fffd_row1_col0, #T_5fffd_row1_col1, #T_5fffd_row2_col0, #T_5fffd_row2_col1, #T_5fffd_row3_col0, #T_5fffd_row3_col1, #T_5fffd_row4_col0, #T_5fffd_row4_col1, #T_5fffd_row5_col0, #T_5fffd_row5_col1, #T_5fffd_row6_col0, #T_5fffd_row6_col1 {\n",
       "  text-align: left;\n",
       "}\n",
       "</style>\n",
       "<table id=\"T_5fffd\">\n",
       "  <thead>\n",
       "    <tr>\n",
       "      <th class=\"blank level0\" >&nbsp;</th>\n",
       "      <th id=\"T_5fffd_level0_col0\" class=\"col_heading level0 col0\" >key</th>\n",
       "      <th id=\"T_5fffd_level0_col1\" class=\"col_heading level0 col1\" >value</th>\n",
       "    </tr>\n",
       "  </thead>\n",
       "  <tbody>\n",
       "    <tr>\n",
       "      <th id=\"T_5fffd_level0_row0\" class=\"row_heading level0 row0\" >0</th>\n",
       "      <td id=\"T_5fffd_row0_col0\" class=\"data row0 col0\" >model</td>\n",
       "      <td id=\"T_5fffd_row0_col1\" class=\"data row0 col1\" >gemini-1.5-flash</td>\n",
       "    </tr>\n",
       "    <tr>\n",
       "      <th id=\"T_5fffd_level0_row1\" class=\"row_heading level0 row1\" >1</th>\n",
       "      <td id=\"T_5fffd_row1_col0\" class=\"data row1 col0\" >parameters:temperature</td>\n",
       "      <td id=\"T_5fffd_row1_col1\" class=\"data row1 col1\" >0.500000</td>\n",
       "    </tr>\n",
       "    <tr>\n",
       "      <th id=\"T_5fffd_level0_row2\" class=\"row_heading level0 row2\" >2</th>\n",
       "      <td id=\"T_5fffd_row2_col0\" class=\"data row2 col0\" >parameters:topP</td>\n",
       "      <td id=\"T_5fffd_row2_col1\" class=\"data row2 col1\" >1</td>\n",
       "    </tr>\n",
       "    <tr>\n",
       "      <th id=\"T_5fffd_level0_row3\" class=\"row_heading level0 row3\" >3</th>\n",
       "      <td id=\"T_5fffd_row3_col0\" class=\"data row3 col0\" >parameters:topK</td>\n",
       "      <td id=\"T_5fffd_row3_col1\" class=\"data row3 col1\" >1</td>\n",
       "    </tr>\n",
       "    <tr>\n",
       "      <th id=\"T_5fffd_level0_row4\" class=\"row_heading level0 row4\" >4</th>\n",
       "      <td id=\"T_5fffd_row4_col0\" class=\"data row4 col0\" >parameters:maxOutputTokens</td>\n",
       "      <td id=\"T_5fffd_row4_col1\" class=\"data row4 col1\" >2048</td>\n",
       "    </tr>\n",
       "    <tr>\n",
       "      <th id=\"T_5fffd_level0_row5\" class=\"row_heading level0 row5\" >5</th>\n",
       "      <td id=\"T_5fffd_row5_col0\" class=\"data row5 col0\" >parameters:stopSequences</td>\n",
       "      <td id=\"T_5fffd_row5_col1\" class=\"data row5 col1\" >[]</td>\n",
       "    </tr>\n",
       "    <tr>\n",
       "      <th id=\"T_5fffd_level0_row6\" class=\"row_heading level0 row6\" >6</th>\n",
       "      <td id=\"T_5fffd_row6_col0\" class=\"data row6 col0\" >inference_service</td>\n",
       "      <td id=\"T_5fffd_row6_col1\" class=\"data row6 col1\" >google</td>\n",
       "    </tr>\n",
       "  </tbody>\n",
       "</table>\n",
       "\n",
       "            </div>\n",
       "            "
      ],
      "text/plain": [
       "Model(model_name = 'gemini-1.5-flash', temperature = 0.5, topP = 1, topK = 1, maxOutputTokens = 2048, stopSequences = [])"
      ]
     },
     "execution_count": 8,
     "metadata": {},
     "output_type": "execute_result"
    }
   ],
   "source": [
    "m"
   ]
  },
  {
   "cell_type": "markdown",
   "id": "00de6976-de22-42cc-8ac3-e3ad7a91f42b",
   "metadata": {
    "editable": true,
    "slideshow": {
     "slide_type": ""
    },
    "tags": []
   },
   "source": [
    "We run the survey by adding any scenarios, agents and models and then calling the `run`:"
   ]
  },
  {
   "cell_type": "code",
   "execution_count": 9,
   "id": "5b505c69-d982-4811-b4f7-15afefd28a06",
   "metadata": {
    "editable": true,
    "slideshow": {
     "slide_type": ""
    },
    "tags": []
   },
   "outputs": [
    {
     "data": {
      "text/html": [
       "\n",
       "            <!-- #region Remove Inference Info -->\n",
       "            <div id=\"logger-ae9d2d2b-1b32-4f78-ba1a-3ce160f89f7a\" class=\"job-logger\">\n",
       "                <div class=\"job-logger-header\">\n",
       "                    <span>\n",
       "                        <span id=\"arrow-ae9d2d2b-1b32-4f78-ba1a-3ce160f89f7a\">▼</span> \n",
       "                        Job Status (2025-02-07 20:38:44)\n",
       "                    </span>\n",
       "                </div>\n",
       "                <div id=\"content-ae9d2d2b-1b32-4f78-ba1a-3ce160f89f7a\" style=\"display: block;\">\n",
       "                    <table class=\"job-logger-table\">\n",
       "                        \n",
       "            <tr>\n",
       "                <td class=\"job-logger-cell job-logger-label\">Job UUID</td>\n",
       "                <td class=\"job-logger-cell job-logger-value\">ff33201a-883b-43f8-9ef1-be05f5d07f24</td>\n",
       "            </tr>\n",
       "        \n",
       "            <tr>\n",
       "                <td class=\"job-logger-cell job-logger-label\">Progress Bar URL</td>\n",
       "                <td class=\"job-logger-cell job-logger-value\"><a href=\"https://www.expectedparrot.com/home/remote-job-progress/ff33201a-883b-43f8-9ef1-be05f5d07f24\" target=\"_blank\" class=\"job-logger-link\">https://www.expectedparrot.com/home/remote-job-progress/ff33201a-883b-43f8-9ef1-be05f5d07f24</a></td>\n",
       "            </tr>\n",
       "        \n",
       "            <tr>\n",
       "                <td class=\"job-logger-cell job-logger-label\">Exceptions Report URL</td>\n",
       "                <td class=\"job-logger-cell job-logger-value\">None</td>\n",
       "            </tr>\n",
       "        \n",
       "            <tr>\n",
       "                <td class=\"job-logger-cell job-logger-label\">Results UUID</td>\n",
       "                <td class=\"job-logger-cell job-logger-value\">ec83bd1b-6790-4a08-870c-8c6a2f135aa2</td>\n",
       "            </tr>\n",
       "        \n",
       "            <tr>\n",
       "                <td class=\"job-logger-cell job-logger-label\">Results URL</td>\n",
       "                <td class=\"job-logger-cell job-logger-value\"><a href=\"https://www.expectedparrot.com/content/ec83bd1b-6790-4a08-870c-8c6a2f135aa2\" target=\"_blank\" class=\"job-logger-link\">https://www.expectedparrot.com/content/ec83bd1b-6790-4a08-870c-8c6a2f135aa2</a></td>\n",
       "            </tr>\n",
       "        \n",
       "                    </table>\n",
       "                    \n",
       "                <div class=\"job-logger-status\">\n",
       "                    <span style=\"margin-right: 8px;\" class=\"job-logger-success\">✓</span><strong>Current Status:</strong> Job completed and Results stored on Coop: <a href=\"https://www.expectedparrot.com/content/ec83bd1b-6790-4a08-870c-8c6a2f135aa2\" target=\"_blank\" class=\"job-logger-link\">https://www.expectedparrot.com/content/ec83bd1b-6790-4a08-870c-8c6a2f135aa2</a>\n",
       "                </div>\n",
       "            \n",
       "                </div>\n",
       "            </div>\n",
       "            <!-- # endregion -->\n",
       "        "
      ],
      "text/plain": [
       "<IPython.core.display.HTML object>"
      ]
     },
     "metadata": {},
     "output_type": "display_data"
    },
    {
     "data": {
      "text/html": [
       "\n",
       "        <style>\n",
       "            /* Base theme variables */\n",
       "            :root {\n",
       "                --jl-bg-primary: #ffffff;\n",
       "                --jl-bg-secondary: #f5f5f5;\n",
       "                --jl-border-color: #e0e0e0;\n",
       "                --jl-text-primary: #24292e;\n",
       "                --jl-text-secondary: #586069;\n",
       "                --jl-link-color: #0366d6;\n",
       "                --jl-success-color: #28a745;\n",
       "                --jl-error-color: #d73a49;\n",
       "                --jl-header-bg: #f1f1f1;\n",
       "            }\n",
       "            \n",
       "            /* Dark theme variables */\n",
       "            .theme-dark {\n",
       "                --jl-bg-primary: #1e1e1e;\n",
       "                --jl-bg-secondary: #252526;\n",
       "                --jl-border-color: #2d2d2d;\n",
       "                --jl-text-primary: #cccccc;\n",
       "                --jl-text-secondary: #999999;\n",
       "                --jl-link-color: #4e94ce;\n",
       "                --jl-success-color: #89d185;\n",
       "                --jl-error-color: #f14c4c;\n",
       "                --jl-header-bg: #333333;\n",
       "            }\n",
       "\n",
       "            /* High contrast theme variables */\n",
       "            .theme-high-contrast {\n",
       "                --jl-bg-primary: #000000;\n",
       "                --jl-bg-secondary: #1a1a1a;\n",
       "                --jl-border-color: #404040;\n",
       "                --jl-text-primary: #ffffff;\n",
       "                --jl-text-secondary: #cccccc;\n",
       "                --jl-link-color: #66b3ff;\n",
       "                --jl-success-color: #00ff00;\n",
       "                --jl-error-color: #ff0000;\n",
       "                --jl-header-bg: #262626;\n",
       "            }\n",
       "            \n",
       "            .job-logger {\n",
       "                font-family: system-ui, -apple-system, sans-serif;\n",
       "                max-width: 800px;\n",
       "                margin: 10px 0;\n",
       "                color: var(--jl-text-primary);\n",
       "                box-shadow: 0 1px 3px rgba(0,0,0,0.12);\n",
       "                border-radius: 4px;\n",
       "                overflow: hidden;\n",
       "            }\n",
       "            \n",
       "            .job-logger-header {\n",
       "                padding: 12px 16px;\n",
       "                background: var(--jl-header-bg);\n",
       "                border: none;\n",
       "                border-radius: 4px 4px 0 0;\n",
       "                cursor: pointer;\n",
       "                color: var(--jl-text-primary);\n",
       "                user-select: none;\n",
       "                font-weight: 500;\n",
       "                letter-spacing: 0.3px;\n",
       "                display: flex;\n",
       "                justify-content: space-between;\n",
       "                align-items: center;\n",
       "            }\n",
       "            \n",
       "            .theme-select {\n",
       "                padding: 4px 8px;\n",
       "                border-radius: 4px;\n",
       "                border: 1px solid var(--jl-border-color);\n",
       "                background: var(--jl-bg-primary);\n",
       "                color: var(--jl-text-primary);\n",
       "                font-size: 0.9em;\n",
       "            }\n",
       "            \n",
       "            .job-logger-table {\n",
       "                width: 100%;\n",
       "                border-collapse: separate;\n",
       "                border-spacing: 0;\n",
       "                background: var(--jl-bg-primary);\n",
       "                border: 1px solid var(--jl-border-color);\n",
       "                margin-top: -1px;\n",
       "            }\n",
       "            \n",
       "            .job-logger-cell {\n",
       "                padding: 12px 16px;\n",
       "                border-bottom: 1px solid var(--jl-border-color);\n",
       "                line-height: 1.4;\n",
       "            }\n",
       "            \n",
       "            .job-logger-label {\n",
       "                font-weight: 500;\n",
       "                color: var(--jl-text-primary);\n",
       "                width: 25%;\n",
       "                background: var(--jl-bg-secondary);\n",
       "            }\n",
       "            \n",
       "            .job-logger-value {\n",
       "                color: var(--jl-text-secondary);\n",
       "                word-break: break-word;\n",
       "            }\n",
       "            \n",
       "            .job-logger-status {\n",
       "                margin: 0;\n",
       "                padding: 12px 16px;\n",
       "                background-color: var(--jl-bg-secondary);\n",
       "                border: 1px solid var(--jl-border-color);\n",
       "                border-top: none;\n",
       "                border-radius: 0 0 4px 4px;\n",
       "                color: var(--jl-text-primary);\n",
       "                font-size: 0.95em;\n",
       "            }\n",
       "        </style>\n",
       "        \n",
       "        <script>\n",
       "            class ThemeManager {\n",
       "                constructor(logId, initialTheme = 'auto') {\n",
       "                    this.logId = logId;\n",
       "                    this.currentTheme = initialTheme;\n",
       "                    this.darkModeMediaQuery = window.matchMedia('(prefers-color-scheme: dark)');\n",
       "                    this.init();\n",
       "                }\n",
       "                \n",
       "                init() {\n",
       "                    this.setupThemeSwitcher();\n",
       "                    this.updateTheme(this.currentTheme);\n",
       "                    \n",
       "                    this.darkModeMediaQuery.addListener(() => {\n",
       "                        if (this.currentTheme === 'auto') {\n",
       "                            this.updateTheme('auto');\n",
       "                        }\n",
       "                    });\n",
       "                }\n",
       "                \n",
       "                setupThemeSwitcher() {\n",
       "                    const logger = document.querySelector(`#logger-${this.logId}`);\n",
       "                    if (!logger) return;\n",
       "                    \n",
       "                    const switcher = document.createElement('div');\n",
       "                    switcher.className = 'theme-switcher';\n",
       "                    switcher.innerHTML = `\n",
       "                        <select id=\"theme-select-${this.logId}\" class=\"theme-select\">\n",
       "                            <option value=\"auto\">Auto</option>\n",
       "                            <option value=\"light\">Light</option>\n",
       "                            <option value=\"dark\">Dark</option>\n",
       "                            <option value=\"high-contrast\">High Contrast</option>\n",
       "                        </select>\n",
       "                    `;\n",
       "                    \n",
       "                    const header = logger.querySelector('.job-logger-header');\n",
       "                    header.appendChild(switcher);\n",
       "                    \n",
       "                    const select = switcher.querySelector('select');\n",
       "                    select.value = this.currentTheme;\n",
       "                    select.addEventListener('change', (e) => {\n",
       "                        this.updateTheme(e.target.value);\n",
       "                    });\n",
       "                }\n",
       "                \n",
       "                updateTheme(theme) {\n",
       "                    const logger = document.querySelector(`#logger-${this.logId}`);\n",
       "                    if (!logger) return;\n",
       "                    \n",
       "                    this.currentTheme = theme;\n",
       "                    \n",
       "                    logger.classList.remove('theme-light', 'theme-dark', 'theme-high-contrast');\n",
       "                    \n",
       "                    if (theme === 'auto') {\n",
       "                        const isDark = this.darkModeMediaQuery.matches;\n",
       "                        logger.classList.add(isDark ? 'theme-dark' : 'theme-light');\n",
       "                    } else {\n",
       "                        logger.classList.add(`theme-${theme}`);\n",
       "                    }\n",
       "                    \n",
       "                    try {\n",
       "                        localStorage.setItem('jobLoggerTheme', theme);\n",
       "                    } catch (e) {\n",
       "                        console.warn('Unable to save theme preference:', e);\n",
       "                    }\n",
       "                }\n",
       "            }\n",
       "            \n",
       "            window.initThemeManager = (logId, initialTheme) => {\n",
       "                new ThemeManager(logId, initialTheme);\n",
       "            };\n",
       "        </script>\n",
       "        \n",
       "        <script>\n",
       "            document.addEventListener('DOMContentLoaded', () => {\n",
       "                window.initThemeManager('ae9d2d2b-1b32-4f78-ba1a-3ce160f89f7a', 'auto');\n",
       "            });\n",
       "        </script>\n",
       "        "
      ],
      "text/plain": [
       "<IPython.core.display.HTML object>"
      ]
     },
     "metadata": {},
     "output_type": "display_data"
    }
   ],
   "source": [
    "results = survey.by(s).by(a).by(m).run()"
   ]
  },
  {
   "cell_type": "markdown",
   "id": "5bb1efcf-78c7-4f9b-ac14-e5336f58bfc1",
   "metadata": {
    "editable": true,
    "slideshow": {
     "slide_type": ""
    },
    "tags": []
   },
   "source": [
    "We can inspect a list of the columns of the dataset of results that has been generated:"
   ]
  },
  {
   "cell_type": "code",
   "execution_count": 10,
   "id": "271f2199-6394-44b3-b32d-33f17a67ca0e",
   "metadata": {},
   "outputs": [
    {
     "data": {
      "text/html": [
       "\n",
       "            <div style=\"max-height: 500px; overflow-y: auto;\">\n",
       "                <style type=\"text/css\">\n",
       "#T_22b7a_row0_col0, #T_22b7a_row1_col0, #T_22b7a_row2_col0, #T_22b7a_row3_col0, #T_22b7a_row4_col0, #T_22b7a_row5_col0, #T_22b7a_row6_col0, #T_22b7a_row7_col0, #T_22b7a_row8_col0, #T_22b7a_row9_col0, #T_22b7a_row10_col0, #T_22b7a_row11_col0, #T_22b7a_row12_col0, #T_22b7a_row13_col0, #T_22b7a_row14_col0, #T_22b7a_row15_col0, #T_22b7a_row16_col0, #T_22b7a_row17_col0, #T_22b7a_row18_col0, #T_22b7a_row19_col0, #T_22b7a_row20_col0, #T_22b7a_row21_col0, #T_22b7a_row22_col0, #T_22b7a_row23_col0, #T_22b7a_row24_col0, #T_22b7a_row25_col0, #T_22b7a_row26_col0, #T_22b7a_row27_col0, #T_22b7a_row28_col0, #T_22b7a_row29_col0, #T_22b7a_row30_col0, #T_22b7a_row31_col0, #T_22b7a_row32_col0, #T_22b7a_row33_col0, #T_22b7a_row34_col0, #T_22b7a_row35_col0, #T_22b7a_row36_col0, #T_22b7a_row37_col0, #T_22b7a_row38_col0, #T_22b7a_row39_col0, #T_22b7a_row40_col0, #T_22b7a_row41_col0, #T_22b7a_row42_col0, #T_22b7a_row43_col0, #T_22b7a_row44_col0, #T_22b7a_row45_col0, #T_22b7a_row46_col0, #T_22b7a_row47_col0, #T_22b7a_row48_col0, #T_22b7a_row49_col0, #T_22b7a_row50_col0, #T_22b7a_row51_col0, #T_22b7a_row52_col0, #T_22b7a_row53_col0, #T_22b7a_row54_col0 {\n",
       "  text-align: left;\n",
       "}\n",
       "</style>\n",
       "<table id=\"T_22b7a\">\n",
       "  <thead>\n",
       "    <tr>\n",
       "      <th class=\"blank level0\" >&nbsp;</th>\n",
       "      <th id=\"T_22b7a_level0_col0\" class=\"col_heading level0 col0\" >0</th>\n",
       "    </tr>\n",
       "  </thead>\n",
       "  <tbody>\n",
       "    <tr>\n",
       "      <th id=\"T_22b7a_level0_row0\" class=\"row_heading level0 row0\" >0</th>\n",
       "      <td id=\"T_22b7a_row0_col0\" class=\"data row0 col0\" >agent.age</td>\n",
       "    </tr>\n",
       "    <tr>\n",
       "      <th id=\"T_22b7a_level0_row1\" class=\"row_heading level0 row1\" >1</th>\n",
       "      <td id=\"T_22b7a_row1_col0\" class=\"data row1 col0\" >agent.agent_index</td>\n",
       "    </tr>\n",
       "    <tr>\n",
       "      <th id=\"T_22b7a_level0_row2\" class=\"row_heading level0 row2\" >2</th>\n",
       "      <td id=\"T_22b7a_row2_col0\" class=\"data row2 col0\" >agent.agent_instruction</td>\n",
       "    </tr>\n",
       "    <tr>\n",
       "      <th id=\"T_22b7a_level0_row3\" class=\"row_heading level0 row3\" >3</th>\n",
       "      <td id=\"T_22b7a_row3_col0\" class=\"data row3 col0\" >agent.agent_name</td>\n",
       "    </tr>\n",
       "    <tr>\n",
       "      <th id=\"T_22b7a_level0_row4\" class=\"row_heading level0 row4\" >4</th>\n",
       "      <td id=\"T_22b7a_row4_col0\" class=\"data row4 col0\" >agent.annual_income</td>\n",
       "    </tr>\n",
       "    <tr>\n",
       "      <th id=\"T_22b7a_level0_row5\" class=\"row_heading level0 row5\" >5</th>\n",
       "      <td id=\"T_22b7a_row5_col0\" class=\"data row5 col0\" >answer.amount</td>\n",
       "    </tr>\n",
       "    <tr>\n",
       "      <th id=\"T_22b7a_level0_row6\" class=\"row_heading level0 row6\" >6</th>\n",
       "      <td id=\"T_22b7a_row6_col0\" class=\"data row6 col0\" >answer.next_purchase</td>\n",
       "    </tr>\n",
       "    <tr>\n",
       "      <th id=\"T_22b7a_level0_row7\" class=\"row_heading level0 row7\" >7</th>\n",
       "      <td id=\"T_22b7a_row7_col0\" class=\"data row7 col0\" >answer.recent_purchase</td>\n",
       "    </tr>\n",
       "    <tr>\n",
       "      <th id=\"T_22b7a_level0_row8\" class=\"row_heading level0 row8\" >8</th>\n",
       "      <td id=\"T_22b7a_row8_col0\" class=\"data row8 col0\" >cache_keys.amount_cache_key</td>\n",
       "    </tr>\n",
       "    <tr>\n",
       "      <th id=\"T_22b7a_level0_row9\" class=\"row_heading level0 row9\" >9</th>\n",
       "      <td id=\"T_22b7a_row9_col0\" class=\"data row9 col0\" >cache_keys.next_purchase_cache_key</td>\n",
       "    </tr>\n",
       "    <tr>\n",
       "      <th id=\"T_22b7a_level0_row10\" class=\"row_heading level0 row10\" >10</th>\n",
       "      <td id=\"T_22b7a_row10_col0\" class=\"data row10 col0\" >cache_keys.recent_purchase_cache_key</td>\n",
       "    </tr>\n",
       "    <tr>\n",
       "      <th id=\"T_22b7a_level0_row11\" class=\"row_heading level0 row11\" >11</th>\n",
       "      <td id=\"T_22b7a_row11_col0\" class=\"data row11 col0\" >cache_used.amount_cache_used</td>\n",
       "    </tr>\n",
       "    <tr>\n",
       "      <th id=\"T_22b7a_level0_row12\" class=\"row_heading level0 row12\" >12</th>\n",
       "      <td id=\"T_22b7a_row12_col0\" class=\"data row12 col0\" >cache_used.next_purchase_cache_used</td>\n",
       "    </tr>\n",
       "    <tr>\n",
       "      <th id=\"T_22b7a_level0_row13\" class=\"row_heading level0 row13\" >13</th>\n",
       "      <td id=\"T_22b7a_row13_col0\" class=\"data row13 col0\" >cache_used.recent_purchase_cache_used</td>\n",
       "    </tr>\n",
       "    <tr>\n",
       "      <th id=\"T_22b7a_level0_row14\" class=\"row_heading level0 row14\" >14</th>\n",
       "      <td id=\"T_22b7a_row14_col0\" class=\"data row14 col0\" >comment.amount_comment</td>\n",
       "    </tr>\n",
       "    <tr>\n",
       "      <th id=\"T_22b7a_level0_row15\" class=\"row_heading level0 row15\" >15</th>\n",
       "      <td id=\"T_22b7a_row15_col0\" class=\"data row15 col0\" >comment.next_purchase_comment</td>\n",
       "    </tr>\n",
       "    <tr>\n",
       "      <th id=\"T_22b7a_level0_row16\" class=\"row_heading level0 row16\" >16</th>\n",
       "      <td id=\"T_22b7a_row16_col0\" class=\"data row16 col0\" >comment.recent_purchase_comment</td>\n",
       "    </tr>\n",
       "    <tr>\n",
       "      <th id=\"T_22b7a_level0_row17\" class=\"row_heading level0 row17\" >17</th>\n",
       "      <td id=\"T_22b7a_row17_col0\" class=\"data row17 col0\" >generated_tokens.amount_generated_tokens</td>\n",
       "    </tr>\n",
       "    <tr>\n",
       "      <th id=\"T_22b7a_level0_row18\" class=\"row_heading level0 row18\" >18</th>\n",
       "      <td id=\"T_22b7a_row18_col0\" class=\"data row18 col0\" >generated_tokens.next_purchase_generated_tokens</td>\n",
       "    </tr>\n",
       "    <tr>\n",
       "      <th id=\"T_22b7a_level0_row19\" class=\"row_heading level0 row19\" >19</th>\n",
       "      <td id=\"T_22b7a_row19_col0\" class=\"data row19 col0\" >generated_tokens.recent_purchase_generated_tokens</td>\n",
       "    </tr>\n",
       "    <tr>\n",
       "      <th id=\"T_22b7a_level0_row20\" class=\"row_heading level0 row20\" >20</th>\n",
       "      <td id=\"T_22b7a_row20_col0\" class=\"data row20 col0\" >iteration.iteration</td>\n",
       "    </tr>\n",
       "    <tr>\n",
       "      <th id=\"T_22b7a_level0_row21\" class=\"row_heading level0 row21\" >21</th>\n",
       "      <td id=\"T_22b7a_row21_col0\" class=\"data row21 col0\" >model.inference_service</td>\n",
       "    </tr>\n",
       "    <tr>\n",
       "      <th id=\"T_22b7a_level0_row22\" class=\"row_heading level0 row22\" >22</th>\n",
       "      <td id=\"T_22b7a_row22_col0\" class=\"data row22 col0\" >model.maxOutputTokens</td>\n",
       "    </tr>\n",
       "    <tr>\n",
       "      <th id=\"T_22b7a_level0_row23\" class=\"row_heading level0 row23\" >23</th>\n",
       "      <td id=\"T_22b7a_row23_col0\" class=\"data row23 col0\" >model.model</td>\n",
       "    </tr>\n",
       "    <tr>\n",
       "      <th id=\"T_22b7a_level0_row24\" class=\"row_heading level0 row24\" >24</th>\n",
       "      <td id=\"T_22b7a_row24_col0\" class=\"data row24 col0\" >model.model_index</td>\n",
       "    </tr>\n",
       "    <tr>\n",
       "      <th id=\"T_22b7a_level0_row25\" class=\"row_heading level0 row25\" >25</th>\n",
       "      <td id=\"T_22b7a_row25_col0\" class=\"data row25 col0\" >model.stopSequences</td>\n",
       "    </tr>\n",
       "    <tr>\n",
       "      <th id=\"T_22b7a_level0_row26\" class=\"row_heading level0 row26\" >26</th>\n",
       "      <td id=\"T_22b7a_row26_col0\" class=\"data row26 col0\" >model.temperature</td>\n",
       "    </tr>\n",
       "    <tr>\n",
       "      <th id=\"T_22b7a_level0_row27\" class=\"row_heading level0 row27\" >27</th>\n",
       "      <td id=\"T_22b7a_row27_col0\" class=\"data row27 col0\" >model.topK</td>\n",
       "    </tr>\n",
       "    <tr>\n",
       "      <th id=\"T_22b7a_level0_row28\" class=\"row_heading level0 row28\" >28</th>\n",
       "      <td id=\"T_22b7a_row28_col0\" class=\"data row28 col0\" >model.topP</td>\n",
       "    </tr>\n",
       "    <tr>\n",
       "      <th id=\"T_22b7a_level0_row29\" class=\"row_heading level0 row29\" >29</th>\n",
       "      <td id=\"T_22b7a_row29_col0\" class=\"data row29 col0\" >prompt.amount_system_prompt</td>\n",
       "    </tr>\n",
       "    <tr>\n",
       "      <th id=\"T_22b7a_level0_row30\" class=\"row_heading level0 row30\" >30</th>\n",
       "      <td id=\"T_22b7a_row30_col0\" class=\"data row30 col0\" >prompt.amount_user_prompt</td>\n",
       "    </tr>\n",
       "    <tr>\n",
       "      <th id=\"T_22b7a_level0_row31\" class=\"row_heading level0 row31\" >31</th>\n",
       "      <td id=\"T_22b7a_row31_col0\" class=\"data row31 col0\" >prompt.next_purchase_system_prompt</td>\n",
       "    </tr>\n",
       "    <tr>\n",
       "      <th id=\"T_22b7a_level0_row32\" class=\"row_heading level0 row32\" >32</th>\n",
       "      <td id=\"T_22b7a_row32_col0\" class=\"data row32 col0\" >prompt.next_purchase_user_prompt</td>\n",
       "    </tr>\n",
       "    <tr>\n",
       "      <th id=\"T_22b7a_level0_row33\" class=\"row_heading level0 row33\" >33</th>\n",
       "      <td id=\"T_22b7a_row33_col0\" class=\"data row33 col0\" >prompt.recent_purchase_system_prompt</td>\n",
       "    </tr>\n",
       "    <tr>\n",
       "      <th id=\"T_22b7a_level0_row34\" class=\"row_heading level0 row34\" >34</th>\n",
       "      <td id=\"T_22b7a_row34_col0\" class=\"data row34 col0\" >prompt.recent_purchase_user_prompt</td>\n",
       "    </tr>\n",
       "    <tr>\n",
       "      <th id=\"T_22b7a_level0_row35\" class=\"row_heading level0 row35\" >35</th>\n",
       "      <td id=\"T_22b7a_row35_col0\" class=\"data row35 col0\" >question_options.amount_question_options</td>\n",
       "    </tr>\n",
       "    <tr>\n",
       "      <th id=\"T_22b7a_level0_row36\" class=\"row_heading level0 row36\" >36</th>\n",
       "      <td id=\"T_22b7a_row36_col0\" class=\"data row36 col0\" >question_options.next_purchase_question_options</td>\n",
       "    </tr>\n",
       "    <tr>\n",
       "      <th id=\"T_22b7a_level0_row37\" class=\"row_heading level0 row37\" >37</th>\n",
       "      <td id=\"T_22b7a_row37_col0\" class=\"data row37 col0\" >question_options.recent_purchase_question_options</td>\n",
       "    </tr>\n",
       "    <tr>\n",
       "      <th id=\"T_22b7a_level0_row38\" class=\"row_heading level0 row38\" >38</th>\n",
       "      <td id=\"T_22b7a_row38_col0\" class=\"data row38 col0\" >question_text.amount_question_text</td>\n",
       "    </tr>\n",
       "    <tr>\n",
       "      <th id=\"T_22b7a_level0_row39\" class=\"row_heading level0 row39\" >39</th>\n",
       "      <td id=\"T_22b7a_row39_col0\" class=\"data row39 col0\" >question_text.next_purchase_question_text</td>\n",
       "    </tr>\n",
       "    <tr>\n",
       "      <th id=\"T_22b7a_level0_row40\" class=\"row_heading level0 row40\" >40</th>\n",
       "      <td id=\"T_22b7a_row40_col0\" class=\"data row40 col0\" >question_text.recent_purchase_question_text</td>\n",
       "    </tr>\n",
       "    <tr>\n",
       "      <th id=\"T_22b7a_level0_row41\" class=\"row_heading level0 row41\" >41</th>\n",
       "      <td id=\"T_22b7a_row41_col0\" class=\"data row41 col0\" >question_type.amount_question_type</td>\n",
       "    </tr>\n",
       "    <tr>\n",
       "      <th id=\"T_22b7a_level0_row42\" class=\"row_heading level0 row42\" >42</th>\n",
       "      <td id=\"T_22b7a_row42_col0\" class=\"data row42 col0\" >question_type.next_purchase_question_type</td>\n",
       "    </tr>\n",
       "    <tr>\n",
       "      <th id=\"T_22b7a_level0_row43\" class=\"row_heading level0 row43\" >43</th>\n",
       "      <td id=\"T_22b7a_row43_col0\" class=\"data row43 col0\" >question_type.recent_purchase_question_type</td>\n",
       "    </tr>\n",
       "    <tr>\n",
       "      <th id=\"T_22b7a_level0_row44\" class=\"row_heading level0 row44\" >44</th>\n",
       "      <td id=\"T_22b7a_row44_col0\" class=\"data row44 col0\" >raw_model_response.amount_cost</td>\n",
       "    </tr>\n",
       "    <tr>\n",
       "      <th id=\"T_22b7a_level0_row45\" class=\"row_heading level0 row45\" >45</th>\n",
       "      <td id=\"T_22b7a_row45_col0\" class=\"data row45 col0\" >raw_model_response.amount_one_usd_buys</td>\n",
       "    </tr>\n",
       "    <tr>\n",
       "      <th id=\"T_22b7a_level0_row46\" class=\"row_heading level0 row46\" >46</th>\n",
       "      <td id=\"T_22b7a_row46_col0\" class=\"data row46 col0\" >raw_model_response.amount_raw_model_response</td>\n",
       "    </tr>\n",
       "    <tr>\n",
       "      <th id=\"T_22b7a_level0_row47\" class=\"row_heading level0 row47\" >47</th>\n",
       "      <td id=\"T_22b7a_row47_col0\" class=\"data row47 col0\" >raw_model_response.next_purchase_cost</td>\n",
       "    </tr>\n",
       "    <tr>\n",
       "      <th id=\"T_22b7a_level0_row48\" class=\"row_heading level0 row48\" >48</th>\n",
       "      <td id=\"T_22b7a_row48_col0\" class=\"data row48 col0\" >raw_model_response.next_purchase_one_usd_buys</td>\n",
       "    </tr>\n",
       "    <tr>\n",
       "      <th id=\"T_22b7a_level0_row49\" class=\"row_heading level0 row49\" >49</th>\n",
       "      <td id=\"T_22b7a_row49_col0\" class=\"data row49 col0\" >raw_model_response.next_purchase_raw_model_response</td>\n",
       "    </tr>\n",
       "    <tr>\n",
       "      <th id=\"T_22b7a_level0_row50\" class=\"row_heading level0 row50\" >50</th>\n",
       "      <td id=\"T_22b7a_row50_col0\" class=\"data row50 col0\" >raw_model_response.recent_purchase_cost</td>\n",
       "    </tr>\n",
       "    <tr>\n",
       "      <th id=\"T_22b7a_level0_row51\" class=\"row_heading level0 row51\" >51</th>\n",
       "      <td id=\"T_22b7a_row51_col0\" class=\"data row51 col0\" >raw_model_response.recent_purchase_one_usd_buys</td>\n",
       "    </tr>\n",
       "    <tr>\n",
       "      <th id=\"T_22b7a_level0_row52\" class=\"row_heading level0 row52\" >52</th>\n",
       "      <td id=\"T_22b7a_row52_col0\" class=\"data row52 col0\" >raw_model_response.recent_purchase_raw_model_response</td>\n",
       "    </tr>\n",
       "    <tr>\n",
       "      <th id=\"T_22b7a_level0_row53\" class=\"row_heading level0 row53\" >53</th>\n",
       "      <td id=\"T_22b7a_row53_col0\" class=\"data row53 col0\" >scenario.item</td>\n",
       "    </tr>\n",
       "    <tr>\n",
       "      <th id=\"T_22b7a_level0_row54\" class=\"row_heading level0 row54\" >54</th>\n",
       "      <td id=\"T_22b7a_row54_col0\" class=\"data row54 col0\" >scenario.scenario_index</td>\n",
       "    </tr>\n",
       "  </tbody>\n",
       "</table>\n",
       "\n",
       "            </div>\n",
       "            "
      ],
      "text/plain": [
       "PrettyList(['agent.age',\n",
       "            'agent.agent_index',\n",
       "            'agent.agent_instruction',\n",
       "            'agent.agent_name',\n",
       "            'agent.annual_income',\n",
       "            'answer.amount',\n",
       "            'answer.next_purchase',\n",
       "            'answer.recent_purchase',\n",
       "            'cache_keys.amount_cache_key',\n",
       "            'cache_keys.next_purchase_cache_key',\n",
       "            'cache_keys.recent_purchase_cache_key',\n",
       "            'cache_used.amount_cache_used',\n",
       "            'cache_used.next_purchase_cache_used',\n",
       "            'cache_used.recent_purchase_cache_used',\n",
       "            'comment.amount_comment',\n",
       "            'comment.next_purchase_comment',\n",
       "            'comment.recent_purchase_comment',\n",
       "            'generated_tokens.amount_generated_tokens',\n",
       "            'generated_tokens.next_purchase_generated_tokens',\n",
       "            'generated_tokens.recent_purchase_generated_tokens',\n",
       "            'iteration.iteration',\n",
       "            'model.inference_service',\n",
       "            'model.maxOutputTokens',\n",
       "            'model.model',\n",
       "            'model.model_index',\n",
       "            'model.stopSequences',\n",
       "            'model.temperature',\n",
       "            'model.topK',\n",
       "            'model.topP',\n",
       "            'prompt.amount_system_prompt',\n",
       "            'prompt.amount_user_prompt',\n",
       "            'prompt.next_purchase_system_prompt',\n",
       "            'prompt.next_purchase_user_prompt',\n",
       "            'prompt.recent_purchase_system_prompt',\n",
       "            'prompt.recent_purchase_user_prompt',\n",
       "            'question_options.amount_question_options',\n",
       "            'question_options.next_purchase_question_options',\n",
       "            'question_options.recent_purchase_question_options',\n",
       "            'question_text.amount_question_text',\n",
       "            'question_text.next_purchase_question_text',\n",
       "            'question_text.recent_purchase_question_text',\n",
       "            'question_type.amount_question_type',\n",
       "            'question_type.next_purchase_question_type',\n",
       "            'question_type.recent_purchase_question_type',\n",
       "            'raw_model_response.amount_cost',\n",
       "            'raw_model_response.amount_one_usd_buys',\n",
       "            'raw_model_response.amount_raw_model_response',\n",
       "            'raw_model_response.next_purchase_cost',\n",
       "            'raw_model_response.next_purchase_one_usd_buys',\n",
       "            'raw_model_response.next_purchase_raw_model_response',\n",
       "            'raw_model_response.recent_purchase_cost',\n",
       "            'raw_model_response.recent_purchase_one_usd_buys',\n",
       "            'raw_model_response.recent_purchase_raw_model_response',\n",
       "            'scenario.item',\n",
       "            'scenario.scenario_index'])"
      ]
     },
     "execution_count": 10,
     "metadata": {},
     "output_type": "execute_result"
    }
   ],
   "source": [
    "results.columns"
   ]
  },
  {
   "cell_type": "markdown",
   "id": "d139ffb0-8ec0-4448-9985-4bad63768f1c",
   "metadata": {},
   "source": [
    "We can select and inspect any components of the results.\n",
    "We can see by a \"None\" response that a question was skipped:"
   ]
  },
  {
   "cell_type": "code",
   "execution_count": 11,
   "id": "c75ce7bf-6f6a-4309-973a-9b33c12a10d7",
   "metadata": {
    "editable": true,
    "slideshow": {
     "slide_type": ""
    },
    "tags": []
   },
   "outputs": [
    {
     "data": {
      "text/html": [
       "\n",
       "            <div style=\"max-height: 500px; overflow-y: auto;\">\n",
       "                <style type=\"text/css\">\n",
       "#T_7d512_row0_col0, #T_7d512_row0_col1, #T_7d512_row0_col3, #T_7d512_row0_col4, #T_7d512_row0_col6, #T_7d512_row1_col0, #T_7d512_row1_col1, #T_7d512_row1_col3, #T_7d512_row1_col4, #T_7d512_row1_col6, #T_7d512_row2_col0, #T_7d512_row2_col1, #T_7d512_row2_col3, #T_7d512_row2_col4, #T_7d512_row2_col6, #T_7d512_row3_col0, #T_7d512_row3_col1, #T_7d512_row3_col3, #T_7d512_row3_col4, #T_7d512_row3_col6, #T_7d512_row4_col0, #T_7d512_row4_col1, #T_7d512_row4_col3, #T_7d512_row4_col4, #T_7d512_row4_col6, #T_7d512_row5_col0, #T_7d512_row5_col1, #T_7d512_row5_col3, #T_7d512_row5_col4, #T_7d512_row5_col6, #T_7d512_row6_col0, #T_7d512_row6_col1, #T_7d512_row6_col3, #T_7d512_row6_col4, #T_7d512_row6_col6, #T_7d512_row7_col0, #T_7d512_row7_col1, #T_7d512_row7_col3, #T_7d512_row7_col4, #T_7d512_row7_col6, #T_7d512_row8_col0, #T_7d512_row8_col1, #T_7d512_row8_col3, #T_7d512_row8_col4, #T_7d512_row8_col6, #T_7d512_row9_col0, #T_7d512_row9_col1, #T_7d512_row9_col3, #T_7d512_row9_col4, #T_7d512_row9_col6, #T_7d512_row10_col0, #T_7d512_row10_col1, #T_7d512_row10_col3, #T_7d512_row10_col4, #T_7d512_row10_col6, #T_7d512_row11_col0, #T_7d512_row11_col1, #T_7d512_row11_col3, #T_7d512_row11_col4, #T_7d512_row11_col6, #T_7d512_row12_col0, #T_7d512_row12_col1, #T_7d512_row12_col3, #T_7d512_row12_col4, #T_7d512_row12_col6, #T_7d512_row13_col0, #T_7d512_row13_col1, #T_7d512_row13_col3, #T_7d512_row13_col4, #T_7d512_row13_col6, #T_7d512_row14_col0, #T_7d512_row14_col1, #T_7d512_row14_col3, #T_7d512_row14_col4, #T_7d512_row14_col6, #T_7d512_row15_col0, #T_7d512_row15_col1, #T_7d512_row15_col3, #T_7d512_row15_col4, #T_7d512_row15_col6, #T_7d512_row16_col0, #T_7d512_row16_col1, #T_7d512_row16_col3, #T_7d512_row16_col4, #T_7d512_row16_col6, #T_7d512_row17_col0, #T_7d512_row17_col1, #T_7d512_row17_col3, #T_7d512_row17_col4, #T_7d512_row17_col6 {\n",
       "  text-align: left;\n",
       "}\n",
       "#T_7d512_row0_col2, #T_7d512_row1_col2, #T_7d512_row6_col2, #T_7d512_row7_col2, #T_7d512_row7_col5, #T_7d512_row12_col2, #T_7d512_row13_col2 {\n",
       "  text-align: left;\n",
       "  background-color: #fff7fb;\n",
       "  color: #000000;\n",
       "}\n",
       "#T_7d512_row0_col5, #T_7d512_row2_col2, #T_7d512_row2_col5, #T_7d512_row3_col2, #T_7d512_row8_col2, #T_7d512_row9_col2, #T_7d512_row9_col5, #T_7d512_row14_col2, #T_7d512_row15_col2 {\n",
       "  text-align: left;\n",
       "  background-color: #73a9cf;\n",
       "  color: #f1f1f1;\n",
       "}\n",
       "#T_7d512_row1_col5, #T_7d512_row5_col5, #T_7d512_row11_col5, #T_7d512_row13_col5, #T_7d512_row14_col5, #T_7d512_row15_col5, #T_7d512_row16_col5, #T_7d512_row17_col5 {\n",
       "  text-align: left;\n",
       "  background-color: #000000;\n",
       "  color: #f1f1f1;\n",
       "}\n",
       "#T_7d512_row3_col5 {\n",
       "  text-align: left;\n",
       "  background-color: #d2d3e7;\n",
       "  color: #000000;\n",
       "}\n",
       "#T_7d512_row4_col2, #T_7d512_row5_col2, #T_7d512_row6_col5, #T_7d512_row8_col5, #T_7d512_row10_col2, #T_7d512_row10_col5, #T_7d512_row11_col2, #T_7d512_row16_col2, #T_7d512_row17_col2 {\n",
       "  text-align: left;\n",
       "  background-color: #023858;\n",
       "  color: #f1f1f1;\n",
       "}\n",
       "#T_7d512_row4_col5 {\n",
       "  text-align: left;\n",
       "  background-color: #f0eaf4;\n",
       "  color: #000000;\n",
       "}\n",
       "#T_7d512_row12_col5 {\n",
       "  text-align: left;\n",
       "  background-color: #f9f2f8;\n",
       "  color: #000000;\n",
       "}\n",
       "</style>\n",
       "<table id=\"T_7d512\">\n",
       "  <thead>\n",
       "    <tr>\n",
       "      <th class=\"blank level0\" >&nbsp;</th>\n",
       "      <th id=\"T_7d512_level0_col0\" class=\"col_heading level0 col0\" >model.model</th>\n",
       "      <th id=\"T_7d512_level0_col1\" class=\"col_heading level0 col1\" >agent.annual_income</th>\n",
       "      <th id=\"T_7d512_level0_col2\" class=\"col_heading level0 col2\" >agent.age</th>\n",
       "      <th id=\"T_7d512_level0_col3\" class=\"col_heading level0 col3\" >scenario.item</th>\n",
       "      <th id=\"T_7d512_level0_col4\" class=\"col_heading level0 col4\" >answer.recent_purchase</th>\n",
       "      <th id=\"T_7d512_level0_col5\" class=\"col_heading level0 col5\" >answer.amount</th>\n",
       "      <th id=\"T_7d512_level0_col6\" class=\"col_heading level0 col6\" >answer.next_purchase</th>\n",
       "    </tr>\n",
       "  </thead>\n",
       "  <tbody>\n",
       "    <tr>\n",
       "      <th id=\"T_7d512_level0_row0\" class=\"row_heading level0 row0\" >0</th>\n",
       "      <td id=\"T_7d512_row0_col0\" class=\"data row0 col0\" >gemini-1.5-flash</td>\n",
       "      <td id=\"T_7d512_row0_col1\" class=\"data row0 col1\" >$100,000-250,000</td>\n",
       "      <td id=\"T_7d512_row0_col2\" class=\"data row0 col2\" >30</td>\n",
       "      <td id=\"T_7d512_row0_col3\" class=\"data row0 col3\" >electronics</td>\n",
       "      <td id=\"T_7d512_row0_col4\" class=\"data row0 col4\" >Yes</td>\n",
       "      <td id=\"T_7d512_row0_col5\" class=\"data row0 col5\" >2500.000000</td>\n",
       "      <td id=\"T_7d512_row0_col6\" class=\"data row0 col6\" >Within the next year</td>\n",
       "    </tr>\n",
       "    <tr>\n",
       "      <th id=\"T_7d512_level0_row1\" class=\"row_heading level0 row1\" >1</th>\n",
       "      <td id=\"T_7d512_row1_col0\" class=\"data row1 col0\" >gemini-1.5-flash</td>\n",
       "      <td id=\"T_7d512_row1_col1\" class=\"data row1 col1\" >$100,000-250,000</td>\n",
       "      <td id=\"T_7d512_row1_col2\" class=\"data row1 col2\" >30</td>\n",
       "      <td id=\"T_7d512_row1_col3\" class=\"data row1 col3\" >phones</td>\n",
       "      <td id=\"T_7d512_row1_col4\" class=\"data row1 col4\" >No</td>\n",
       "      <td id=\"T_7d512_row1_col5\" class=\"data row1 col5\" >nan</td>\n",
       "      <td id=\"T_7d512_row1_col6\" class=\"data row1 col6\" >Within the next year</td>\n",
       "    </tr>\n",
       "    <tr>\n",
       "      <th id=\"T_7d512_level0_row2\" class=\"row_heading level0 row2\" >2</th>\n",
       "      <td id=\"T_7d512_row2_col0\" class=\"data row2 col0\" >gemini-1.5-flash</td>\n",
       "      <td id=\"T_7d512_row2_col1\" class=\"data row2 col1\" >$100,000-250,000</td>\n",
       "      <td id=\"T_7d512_row2_col2\" class=\"data row2 col2\" >50</td>\n",
       "      <td id=\"T_7d512_row2_col3\" class=\"data row2 col3\" >electronics</td>\n",
       "      <td id=\"T_7d512_row2_col4\" class=\"data row2 col4\" >Yes</td>\n",
       "      <td id=\"T_7d512_row2_col5\" class=\"data row2 col5\" >2500.000000</td>\n",
       "      <td id=\"T_7d512_row2_col6\" class=\"data row2 col6\" >Within the next year</td>\n",
       "    </tr>\n",
       "    <tr>\n",
       "      <th id=\"T_7d512_level0_row3\" class=\"row_heading level0 row3\" >3</th>\n",
       "      <td id=\"T_7d512_row3_col0\" class=\"data row3 col0\" >gemini-1.5-flash</td>\n",
       "      <td id=\"T_7d512_row3_col1\" class=\"data row3 col1\" >$100,000-250,000</td>\n",
       "      <td id=\"T_7d512_row3_col2\" class=\"data row3 col2\" >50</td>\n",
       "      <td id=\"T_7d512_row3_col3\" class=\"data row3 col3\" >phones</td>\n",
       "      <td id=\"T_7d512_row3_col4\" class=\"data row3 col4\" >Yes</td>\n",
       "      <td id=\"T_7d512_row3_col5\" class=\"data row3 col5\" >1200.000000</td>\n",
       "      <td id=\"T_7d512_row3_col6\" class=\"data row3 col6\" >Within the next year</td>\n",
       "    </tr>\n",
       "    <tr>\n",
       "      <th id=\"T_7d512_level0_row4\" class=\"row_heading level0 row4\" >4</th>\n",
       "      <td id=\"T_7d512_row4_col0\" class=\"data row4 col0\" >gemini-1.5-flash</td>\n",
       "      <td id=\"T_7d512_row4_col1\" class=\"data row4 col1\" >$100,000-250,000</td>\n",
       "      <td id=\"T_7d512_row4_col2\" class=\"data row4 col2\" >70</td>\n",
       "      <td id=\"T_7d512_row4_col3\" class=\"data row4 col3\" >electronics</td>\n",
       "      <td id=\"T_7d512_row4_col4\" class=\"data row4 col4\" >Yes</td>\n",
       "      <td id=\"T_7d512_row4_col5\" class=\"data row4 col5\" >500.000000</td>\n",
       "      <td id=\"T_7d512_row4_col6\" class=\"data row4 col6\" >Within the next year</td>\n",
       "    </tr>\n",
       "    <tr>\n",
       "      <th id=\"T_7d512_level0_row5\" class=\"row_heading level0 row5\" >5</th>\n",
       "      <td id=\"T_7d512_row5_col0\" class=\"data row5 col0\" >gemini-1.5-flash</td>\n",
       "      <td id=\"T_7d512_row5_col1\" class=\"data row5 col1\" >$100,000-250,000</td>\n",
       "      <td id=\"T_7d512_row5_col2\" class=\"data row5 col2\" >70</td>\n",
       "      <td id=\"T_7d512_row5_col3\" class=\"data row5 col3\" >phones</td>\n",
       "      <td id=\"T_7d512_row5_col4\" class=\"data row5 col4\" >No</td>\n",
       "      <td id=\"T_7d512_row5_col5\" class=\"data row5 col5\" >nan</td>\n",
       "      <td id=\"T_7d512_row5_col6\" class=\"data row5 col6\" >Within the next year</td>\n",
       "    </tr>\n",
       "    <tr>\n",
       "      <th id=\"T_7d512_level0_row6\" class=\"row_heading level0 row6\" >6</th>\n",
       "      <td id=\"T_7d512_row6_col0\" class=\"data row6 col0\" >gemini-1.5-flash</td>\n",
       "      <td id=\"T_7d512_row6_col1\" class=\"data row6 col1\" >above $250,000</td>\n",
       "      <td id=\"T_7d512_row6_col2\" class=\"data row6 col2\" >30</td>\n",
       "      <td id=\"T_7d512_row6_col3\" class=\"data row6 col3\" >electronics</td>\n",
       "      <td id=\"T_7d512_row6_col4\" class=\"data row6 col4\" >Yes</td>\n",
       "      <td id=\"T_7d512_row6_col5\" class=\"data row6 col5\" >5000.000000</td>\n",
       "      <td id=\"T_7d512_row6_col6\" class=\"data row6 col6\" >Within the next year</td>\n",
       "    </tr>\n",
       "    <tr>\n",
       "      <th id=\"T_7d512_level0_row7\" class=\"row_heading level0 row7\" >7</th>\n",
       "      <td id=\"T_7d512_row7_col0\" class=\"data row7 col0\" >gemini-1.5-flash</td>\n",
       "      <td id=\"T_7d512_row7_col1\" class=\"data row7 col1\" >above $250,000</td>\n",
       "      <td id=\"T_7d512_row7_col2\" class=\"data row7 col2\" >30</td>\n",
       "      <td id=\"T_7d512_row7_col3\" class=\"data row7 col3\" >phones</td>\n",
       "      <td id=\"T_7d512_row7_col4\" class=\"data row7 col4\" >Yes</td>\n",
       "      <td id=\"T_7d512_row7_col5\" class=\"data row7 col5\" >0.000000</td>\n",
       "      <td id=\"T_7d512_row7_col6\" class=\"data row7 col6\" >Within the next year</td>\n",
       "    </tr>\n",
       "    <tr>\n",
       "      <th id=\"T_7d512_level0_row8\" class=\"row_heading level0 row8\" >8</th>\n",
       "      <td id=\"T_7d512_row8_col0\" class=\"data row8 col0\" >gemini-1.5-flash</td>\n",
       "      <td id=\"T_7d512_row8_col1\" class=\"data row8 col1\" >above $250,000</td>\n",
       "      <td id=\"T_7d512_row8_col2\" class=\"data row8 col2\" >50</td>\n",
       "      <td id=\"T_7d512_row8_col3\" class=\"data row8 col3\" >electronics</td>\n",
       "      <td id=\"T_7d512_row8_col4\" class=\"data row8 col4\" >Yes</td>\n",
       "      <td id=\"T_7d512_row8_col5\" class=\"data row8 col5\" >5000.000000</td>\n",
       "      <td id=\"T_7d512_row8_col6\" class=\"data row8 col6\" >Within the next year</td>\n",
       "    </tr>\n",
       "    <tr>\n",
       "      <th id=\"T_7d512_level0_row9\" class=\"row_heading level0 row9\" >9</th>\n",
       "      <td id=\"T_7d512_row9_col0\" class=\"data row9 col0\" >gemini-1.5-flash</td>\n",
       "      <td id=\"T_7d512_row9_col1\" class=\"data row9 col1\" >above $250,000</td>\n",
       "      <td id=\"T_7d512_row9_col2\" class=\"data row9 col2\" >50</td>\n",
       "      <td id=\"T_7d512_row9_col3\" class=\"data row9 col3\" >phones</td>\n",
       "      <td id=\"T_7d512_row9_col4\" class=\"data row9 col4\" >Yes</td>\n",
       "      <td id=\"T_7d512_row9_col5\" class=\"data row9 col5\" >2500.000000</td>\n",
       "      <td id=\"T_7d512_row9_col6\" class=\"data row9 col6\" >Within the next year</td>\n",
       "    </tr>\n",
       "    <tr>\n",
       "      <th id=\"T_7d512_level0_row10\" class=\"row_heading level0 row10\" >10</th>\n",
       "      <td id=\"T_7d512_row10_col0\" class=\"data row10 col0\" >gemini-1.5-flash</td>\n",
       "      <td id=\"T_7d512_row10_col1\" class=\"data row10 col1\" >above $250,000</td>\n",
       "      <td id=\"T_7d512_row10_col2\" class=\"data row10 col2\" >70</td>\n",
       "      <td id=\"T_7d512_row10_col3\" class=\"data row10 col3\" >electronics</td>\n",
       "      <td id=\"T_7d512_row10_col4\" class=\"data row10 col4\" >Yes</td>\n",
       "      <td id=\"T_7d512_row10_col5\" class=\"data row10 col5\" >5000.000000</td>\n",
       "      <td id=\"T_7d512_row10_col6\" class=\"data row10 col6\" >Within the next year</td>\n",
       "    </tr>\n",
       "    <tr>\n",
       "      <th id=\"T_7d512_level0_row11\" class=\"row_heading level0 row11\" >11</th>\n",
       "      <td id=\"T_7d512_row11_col0\" class=\"data row11 col0\" >gemini-1.5-flash</td>\n",
       "      <td id=\"T_7d512_row11_col1\" class=\"data row11 col1\" >above $250,000</td>\n",
       "      <td id=\"T_7d512_row11_col2\" class=\"data row11 col2\" >70</td>\n",
       "      <td id=\"T_7d512_row11_col3\" class=\"data row11 col3\" >phones</td>\n",
       "      <td id=\"T_7d512_row11_col4\" class=\"data row11 col4\" >No</td>\n",
       "      <td id=\"T_7d512_row11_col5\" class=\"data row11 col5\" >nan</td>\n",
       "      <td id=\"T_7d512_row11_col6\" class=\"data row11 col6\" >Never</td>\n",
       "    </tr>\n",
       "    <tr>\n",
       "      <th id=\"T_7d512_level0_row12\" class=\"row_heading level0 row12\" >12</th>\n",
       "      <td id=\"T_7d512_row12_col0\" class=\"data row12 col0\" >gemini-1.5-flash</td>\n",
       "      <td id=\"T_7d512_row12_col1\" class=\"data row12 col1\" >under $100,000</td>\n",
       "      <td id=\"T_7d512_row12_col2\" class=\"data row12 col2\" >30</td>\n",
       "      <td id=\"T_7d512_row12_col3\" class=\"data row12 col3\" >electronics</td>\n",
       "      <td id=\"T_7d512_row12_col4\" class=\"data row12 col4\" >Yes</td>\n",
       "      <td id=\"T_7d512_row12_col5\" class=\"data row12 col5\" >200.000000</td>\n",
       "      <td id=\"T_7d512_row12_col6\" class=\"data row12 col6\" >Within the next year</td>\n",
       "    </tr>\n",
       "    <tr>\n",
       "      <th id=\"T_7d512_level0_row13\" class=\"row_heading level0 row13\" >13</th>\n",
       "      <td id=\"T_7d512_row13_col0\" class=\"data row13 col0\" >gemini-1.5-flash</td>\n",
       "      <td id=\"T_7d512_row13_col1\" class=\"data row13 col1\" >under $100,000</td>\n",
       "      <td id=\"T_7d512_row13_col2\" class=\"data row13 col2\" >30</td>\n",
       "      <td id=\"T_7d512_row13_col3\" class=\"data row13 col3\" >phones</td>\n",
       "      <td id=\"T_7d512_row13_col4\" class=\"data row13 col4\" >No</td>\n",
       "      <td id=\"T_7d512_row13_col5\" class=\"data row13 col5\" >nan</td>\n",
       "      <td id=\"T_7d512_row13_col6\" class=\"data row13 col6\" >Within the next year</td>\n",
       "    </tr>\n",
       "    <tr>\n",
       "      <th id=\"T_7d512_level0_row14\" class=\"row_heading level0 row14\" >14</th>\n",
       "      <td id=\"T_7d512_row14_col0\" class=\"data row14 col0\" >gemini-1.5-flash</td>\n",
       "      <td id=\"T_7d512_row14_col1\" class=\"data row14 col1\" >under $100,000</td>\n",
       "      <td id=\"T_7d512_row14_col2\" class=\"data row14 col2\" >50</td>\n",
       "      <td id=\"T_7d512_row14_col3\" class=\"data row14 col3\" >electronics</td>\n",
       "      <td id=\"T_7d512_row14_col4\" class=\"data row14 col4\" >No</td>\n",
       "      <td id=\"T_7d512_row14_col5\" class=\"data row14 col5\" >nan</td>\n",
       "      <td id=\"T_7d512_row14_col6\" class=\"data row14 col6\" >Within the next year</td>\n",
       "    </tr>\n",
       "    <tr>\n",
       "      <th id=\"T_7d512_level0_row15\" class=\"row_heading level0 row15\" >15</th>\n",
       "      <td id=\"T_7d512_row15_col0\" class=\"data row15 col0\" >gemini-1.5-flash</td>\n",
       "      <td id=\"T_7d512_row15_col1\" class=\"data row15 col1\" >under $100,000</td>\n",
       "      <td id=\"T_7d512_row15_col2\" class=\"data row15 col2\" >50</td>\n",
       "      <td id=\"T_7d512_row15_col3\" class=\"data row15 col3\" >phones</td>\n",
       "      <td id=\"T_7d512_row15_col4\" class=\"data row15 col4\" >No</td>\n",
       "      <td id=\"T_7d512_row15_col5\" class=\"data row15 col5\" >nan</td>\n",
       "      <td id=\"T_7d512_row15_col6\" class=\"data row15 col6\" >Within the next year</td>\n",
       "    </tr>\n",
       "    <tr>\n",
       "      <th id=\"T_7d512_level0_row16\" class=\"row_heading level0 row16\" >16</th>\n",
       "      <td id=\"T_7d512_row16_col0\" class=\"data row16 col0\" >gemini-1.5-flash</td>\n",
       "      <td id=\"T_7d512_row16_col1\" class=\"data row16 col1\" >under $100,000</td>\n",
       "      <td id=\"T_7d512_row16_col2\" class=\"data row16 col2\" >70</td>\n",
       "      <td id=\"T_7d512_row16_col3\" class=\"data row16 col3\" >electronics</td>\n",
       "      <td id=\"T_7d512_row16_col4\" class=\"data row16 col4\" >No</td>\n",
       "      <td id=\"T_7d512_row16_col5\" class=\"data row16 col5\" >nan</td>\n",
       "      <td id=\"T_7d512_row16_col6\" class=\"data row16 col6\" >Within the next year</td>\n",
       "    </tr>\n",
       "    <tr>\n",
       "      <th id=\"T_7d512_level0_row17\" class=\"row_heading level0 row17\" >17</th>\n",
       "      <td id=\"T_7d512_row17_col0\" class=\"data row17 col0\" >gemini-1.5-flash</td>\n",
       "      <td id=\"T_7d512_row17_col1\" class=\"data row17 col1\" >under $100,000</td>\n",
       "      <td id=\"T_7d512_row17_col2\" class=\"data row17 col2\" >70</td>\n",
       "      <td id=\"T_7d512_row17_col3\" class=\"data row17 col3\" >phones</td>\n",
       "      <td id=\"T_7d512_row17_col4\" class=\"data row17 col4\" >No</td>\n",
       "      <td id=\"T_7d512_row17_col5\" class=\"data row17 col5\" >nan</td>\n",
       "      <td id=\"T_7d512_row17_col6\" class=\"data row17 col6\" >Never</td>\n",
       "    </tr>\n",
       "  </tbody>\n",
       "</table>\n",
       "\n",
       "            </div>\n",
       "            "
      ],
      "text/plain": [
       "Dataset([{'model.model': ['gemini-1.5-flash', 'gemini-1.5-flash', 'gemini-1.5-flash', 'gemini-1.5-flash', 'gemini-1.5-flash', 'gemini-1.5-flash', 'gemini-1.5-flash', 'gemini-1.5-flash', 'gemini-1.5-flash', 'gemini-1.5-flash', 'gemini-1.5-flash', 'gemini-1.5-flash', 'gemini-1.5-flash', 'gemini-1.5-flash', 'gemini-1.5-flash', 'gemini-1.5-flash', 'gemini-1.5-flash', 'gemini-1.5-flash']}, {'agent.annual_income': ['$100,000-250,000', '$100,000-250,000', '$100,000-250,000', '$100,000-250,000', '$100,000-250,000', '$100,000-250,000', 'above $250,000', 'above $250,000', 'above $250,000', 'above $250,000', 'above $250,000', 'above $250,000', 'under $100,000', 'under $100,000', 'under $100,000', 'under $100,000', 'under $100,000', 'under $100,000']}, {'agent.age': [30, 30, 50, 50, 70, 70, 30, 30, 50, 50, 70, 70, 30, 30, 50, 50, 70, 70]}, {'scenario.item': ['electronics', 'phones', 'electronics', 'phones', 'electronics', 'phones', 'electronics', 'phones', 'electronics', 'phones', 'electronics', 'phones', 'electronics', 'phones', 'electronics', 'phones', 'electronics', 'phones']}, {'answer.recent_purchase': ['Yes', 'No', 'Yes', 'Yes', 'Yes', 'No', 'Yes', 'Yes', 'Yes', 'Yes', 'Yes', 'No', 'Yes', 'No', 'No', 'No', 'No', 'No']}, {'answer.amount': [2500, None, 2500, 1200, 500, None, 5000, 0, 5000, 2500, 5000, None, 200, None, None, None, None, None]}, {'answer.next_purchase': ['Within the next year', 'Within the next year', 'Within the next year', 'Within the next year', 'Within the next year', 'Within the next year', 'Within the next year', 'Within the next year', 'Within the next year', 'Within the next year', 'Within the next year', 'Never', 'Within the next year', 'Within the next year', 'Within the next year', 'Within the next year', 'Within the next year', 'Never']}])"
      ]
     },
     "execution_count": 11,
     "metadata": {},
     "output_type": "execute_result"
    }
   ],
   "source": [
    "(\n",
    "    results\n",
    "    .sort_by(\"annual_income\", \"age\", \"item\")\n",
    "    .select(\"model\", \"annual_income\", \"age\", \"item\", \"recent_purchase\", \"amount\", \"next_purchase\")\n",
    ")"
   ]
  },
  {
   "cell_type": "markdown",
   "id": "c0ff3475-32b7-4f69-afcb-187d7940f8cb",
   "metadata": {
    "editable": true,
    "slideshow": {
     "slide_type": ""
    },
    "tags": []
   },
   "source": [
    "## Example 2\n",
    "In the next example, we use the same scenarios to create versions of the questions *before we combine them in a survey*.\n",
    "This allows us to add a skip rule based on a question/scenario combination, as opposed to skipping a question for all scenarios:"
   ]
  },
  {
   "cell_type": "code",
   "execution_count": 12,
   "id": "d5403d2b-5a6f-42e0-914f-7bbfbad770a7",
   "metadata": {
    "editable": true,
    "slideshow": {
     "slide_type": ""
    },
    "tags": []
   },
   "outputs": [],
   "source": [
    "q1 = QuestionYesNo(\n",
    "    question_name = \"recent_purchase_{{ item }}\",\n",
    "    question_text = \"In the last year have you or anyone in your household purchased any {{ item }}?\",\n",
    ")\n",
    "\n",
    "q2 = QuestionNumerical(\n",
    "    question_name = \"amount_{{ item }}\",\n",
    "    question_text = \"In the last year, how much did your household spend on {{ item }} (in USD)?\"\n",
    ")\n",
    "\n",
    "q3 = QuestionMultipleChoice(\n",
    "    question_name = \"next_purchase_{{ item }}\",\n",
    "    question_text = \"When do you next expect to purchase {{ item }}?\", \n",
    "    question_options = [\n",
    "        \"Never\",\n",
    "        \"Within the next month\",\n",
    "        \"Within the next year\",\n",
    "        \"I do not know\"\n",
    "    ]\n",
    ")"
   ]
  },
  {
   "cell_type": "markdown",
   "id": "1d28cbf0-e2d0-4d95-9aaf-e9e2113bee23",
   "metadata": {},
   "source": [
    "The `loop` method creates new versions of questions with scenarios already inserted:"
   ]
  },
  {
   "cell_type": "code",
   "execution_count": 13,
   "id": "4f4ed1df-a053-4991-b05b-38df8258bb21",
   "metadata": {
    "editable": true,
    "slideshow": {
     "slide_type": ""
    },
    "tags": []
   },
   "outputs": [
    {
     "data": {
      "text/plain": [
       "[Question('yes_no', question_name = \"\"\"recent_purchase_electronics\"\"\", question_text = \"\"\"In the last year have you or anyone in your household purchased any electronics?\"\"\", question_options = ['No', 'Yes']),\n",
       " Question('yes_no', question_name = \"\"\"recent_purchase_phones\"\"\", question_text = \"\"\"In the last year have you or anyone in your household purchased any phones?\"\"\", question_options = ['No', 'Yes']),\n",
       " Question('numerical', question_name = \"\"\"amount_electronics\"\"\", question_text = \"\"\"In the last year, how much did your household spend on electronics (in USD)?\"\"\", min_value = None, max_value = None),\n",
       " Question('numerical', question_name = \"\"\"amount_phones\"\"\", question_text = \"\"\"In the last year, how much did your household spend on phones (in USD)?\"\"\", min_value = None, max_value = None),\n",
       " Question('multiple_choice', question_name = \"\"\"next_purchase_electronics\"\"\", question_text = \"\"\"When do you next expect to purchase electronics?\"\"\", question_options = ['Never', 'Within the next month', 'Within the next year', 'I do not know']),\n",
       " Question('multiple_choice', question_name = \"\"\"next_purchase_phones\"\"\", question_text = \"\"\"When do you next expect to purchase phones?\"\"\", question_options = ['Never', 'Within the next month', 'Within the next year', 'I do not know'])]"
      ]
     },
     "execution_count": 13,
     "metadata": {},
     "output_type": "execute_result"
    }
   ],
   "source": [
    "questions = q1.loop(s) + q2.loop(s) + q3.loop(s)\n",
    "questions"
   ]
  },
  {
   "cell_type": "markdown",
   "id": "f6d68b14-4d9c-4b53-a0e7-08fbc9a46e3c",
   "metadata": {
    "editable": true,
    "slideshow": {
     "slide_type": ""
    },
    "tags": []
   },
   "source": [
    "We combine the questions in a survey to administer them together the same as before:"
   ]
  },
  {
   "cell_type": "code",
   "execution_count": 14,
   "id": "a21df018-9f73-41f6-8c90-973032129882",
   "metadata": {
    "editable": true,
    "slideshow": {
     "slide_type": ""
    },
    "tags": []
   },
   "outputs": [],
   "source": [
    "survey = Survey(questions)"
   ]
  },
  {
   "cell_type": "markdown",
   "id": "5ec1b4ab-5a7b-4d47-95ec-6f0f851c4eeb",
   "metadata": {
    "editable": true,
    "slideshow": {
     "slide_type": ""
    },
    "tags": []
   },
   "source": [
    "Here we add different rules specifying that questions with one scenario (phones) should be administered or skipped based on the answer to a question with another scenario (electronics):"
   ]
  },
  {
   "cell_type": "code",
   "execution_count": 15,
   "id": "68935294-5fe4-4dbb-acdb-3786033e8788",
   "metadata": {
    "editable": true,
    "slideshow": {
     "slide_type": ""
    },
    "tags": []
   },
   "outputs": [],
   "source": [
    "survey = (\n",
    "    survey\n",
    "    .add_skip_rule(\"recent_purchase_phones\", \"recent_purchase_electronics == 'No'\")\n",
    "    .add_skip_rule(\"amount_phones\", \"recent_purchase_electronics == 'No'\")\n",
    "    .add_skip_rule(\"next_purchase_phones\", \"recent_purchase_electronics == 'No'\")\n",
    ")"
   ]
  },
  {
   "cell_type": "markdown",
   "id": "c6926d5a-7448-4028-9494-44915bc331ca",
   "metadata": {
    "editable": true,
    "slideshow": {
     "slide_type": ""
    },
    "tags": []
   },
   "source": [
    "Here we run the survey with the scenarios, agents and model:"
   ]
  },
  {
   "cell_type": "code",
   "execution_count": 16,
   "id": "04bf5f89-1ed0-4d3f-a79a-a4f3bc219d7e",
   "metadata": {
    "editable": true,
    "slideshow": {
     "slide_type": ""
    },
    "tags": []
   },
   "outputs": [
    {
     "data": {
      "text/html": [
       "\n",
       "            <!-- #region Remove Inference Info -->\n",
       "            <div id=\"logger-54d500e1-216e-4259-bb1a-f2cc0ce92be4\" class=\"job-logger\">\n",
       "                <div class=\"job-logger-header\">\n",
       "                    <span>\n",
       "                        <span id=\"arrow-54d500e1-216e-4259-bb1a-f2cc0ce92be4\">▼</span> \n",
       "                        Job Status (2025-02-07 20:38:58)\n",
       "                    </span>\n",
       "                </div>\n",
       "                <div id=\"content-54d500e1-216e-4259-bb1a-f2cc0ce92be4\" style=\"display: block;\">\n",
       "                    <table class=\"job-logger-table\">\n",
       "                        \n",
       "            <tr>\n",
       "                <td class=\"job-logger-cell job-logger-label\">Job UUID</td>\n",
       "                <td class=\"job-logger-cell job-logger-value\">0091c2e7-ff4f-4e3d-be9e-087d0cf56925</td>\n",
       "            </tr>\n",
       "        \n",
       "            <tr>\n",
       "                <td class=\"job-logger-cell job-logger-label\">Progress Bar URL</td>\n",
       "                <td class=\"job-logger-cell job-logger-value\"><a href=\"https://www.expectedparrot.com/home/remote-job-progress/0091c2e7-ff4f-4e3d-be9e-087d0cf56925\" target=\"_blank\" class=\"job-logger-link\">https://www.expectedparrot.com/home/remote-job-progress/0091c2e7-ff4f-4e3d-be9e-087d0cf56925</a></td>\n",
       "            </tr>\n",
       "        \n",
       "            <tr>\n",
       "                <td class=\"job-logger-cell job-logger-label\">Exceptions Report URL</td>\n",
       "                <td class=\"job-logger-cell job-logger-value\"><a href=\"https://www.expectedparrot.com/home/remote-inference/error/306bf45f-4455-45d3-be90-cf24161f22c0\" target=\"_blank\" class=\"job-logger-link\">https://www.expectedparrot.com/home/remote-inference/error/306bf45f-4455-45d3-be90-cf24161f22c0</a></td>\n",
       "            </tr>\n",
       "        \n",
       "            <tr>\n",
       "                <td class=\"job-logger-cell job-logger-label\">Results UUID</td>\n",
       "                <td class=\"job-logger-cell job-logger-value\">ba911ca1-436a-4465-ba18-6cc8ad9476a3</td>\n",
       "            </tr>\n",
       "        \n",
       "            <tr>\n",
       "                <td class=\"job-logger-cell job-logger-label\">Results URL</td>\n",
       "                <td class=\"job-logger-cell job-logger-value\"><a href=\"https://www.expectedparrot.com/content/ba911ca1-436a-4465-ba18-6cc8ad9476a3\" target=\"_blank\" class=\"job-logger-link\">https://www.expectedparrot.com/content/ba911ca1-436a-4465-ba18-6cc8ad9476a3</a></td>\n",
       "            </tr>\n",
       "        \n",
       "                    </table>\n",
       "                    \n",
       "                <div class=\"job-logger-status\">\n",
       "                    <span style=\"margin-right: 8px;\" class=\"job-logger-success\">✓</span><strong>Current Status:</strong> Job completed and Results stored on Coop: <a href=\"https://www.expectedparrot.com/content/ba911ca1-436a-4465-ba18-6cc8ad9476a3\" target=\"_blank\" class=\"job-logger-link\">https://www.expectedparrot.com/content/ba911ca1-436a-4465-ba18-6cc8ad9476a3</a>\n",
       "                </div>\n",
       "            \n",
       "                </div>\n",
       "            </div>\n",
       "            <!-- # endregion -->\n",
       "        "
      ],
      "text/plain": [
       "<IPython.core.display.HTML object>"
      ]
     },
     "metadata": {},
     "output_type": "display_data"
    },
    {
     "data": {
      "text/html": [
       "\n",
       "        <style>\n",
       "            /* Base theme variables */\n",
       "            :root {\n",
       "                --jl-bg-primary: #ffffff;\n",
       "                --jl-bg-secondary: #f5f5f5;\n",
       "                --jl-border-color: #e0e0e0;\n",
       "                --jl-text-primary: #24292e;\n",
       "                --jl-text-secondary: #586069;\n",
       "                --jl-link-color: #0366d6;\n",
       "                --jl-success-color: #28a745;\n",
       "                --jl-error-color: #d73a49;\n",
       "                --jl-header-bg: #f1f1f1;\n",
       "            }\n",
       "            \n",
       "            /* Dark theme variables */\n",
       "            .theme-dark {\n",
       "                --jl-bg-primary: #1e1e1e;\n",
       "                --jl-bg-secondary: #252526;\n",
       "                --jl-border-color: #2d2d2d;\n",
       "                --jl-text-primary: #cccccc;\n",
       "                --jl-text-secondary: #999999;\n",
       "                --jl-link-color: #4e94ce;\n",
       "                --jl-success-color: #89d185;\n",
       "                --jl-error-color: #f14c4c;\n",
       "                --jl-header-bg: #333333;\n",
       "            }\n",
       "\n",
       "            /* High contrast theme variables */\n",
       "            .theme-high-contrast {\n",
       "                --jl-bg-primary: #000000;\n",
       "                --jl-bg-secondary: #1a1a1a;\n",
       "                --jl-border-color: #404040;\n",
       "                --jl-text-primary: #ffffff;\n",
       "                --jl-text-secondary: #cccccc;\n",
       "                --jl-link-color: #66b3ff;\n",
       "                --jl-success-color: #00ff00;\n",
       "                --jl-error-color: #ff0000;\n",
       "                --jl-header-bg: #262626;\n",
       "            }\n",
       "            \n",
       "            .job-logger {\n",
       "                font-family: system-ui, -apple-system, sans-serif;\n",
       "                max-width: 800px;\n",
       "                margin: 10px 0;\n",
       "                color: var(--jl-text-primary);\n",
       "                box-shadow: 0 1px 3px rgba(0,0,0,0.12);\n",
       "                border-radius: 4px;\n",
       "                overflow: hidden;\n",
       "            }\n",
       "            \n",
       "            .job-logger-header {\n",
       "                padding: 12px 16px;\n",
       "                background: var(--jl-header-bg);\n",
       "                border: none;\n",
       "                border-radius: 4px 4px 0 0;\n",
       "                cursor: pointer;\n",
       "                color: var(--jl-text-primary);\n",
       "                user-select: none;\n",
       "                font-weight: 500;\n",
       "                letter-spacing: 0.3px;\n",
       "                display: flex;\n",
       "                justify-content: space-between;\n",
       "                align-items: center;\n",
       "            }\n",
       "            \n",
       "            .theme-select {\n",
       "                padding: 4px 8px;\n",
       "                border-radius: 4px;\n",
       "                border: 1px solid var(--jl-border-color);\n",
       "                background: var(--jl-bg-primary);\n",
       "                color: var(--jl-text-primary);\n",
       "                font-size: 0.9em;\n",
       "            }\n",
       "            \n",
       "            .job-logger-table {\n",
       "                width: 100%;\n",
       "                border-collapse: separate;\n",
       "                border-spacing: 0;\n",
       "                background: var(--jl-bg-primary);\n",
       "                border: 1px solid var(--jl-border-color);\n",
       "                margin-top: -1px;\n",
       "            }\n",
       "            \n",
       "            .job-logger-cell {\n",
       "                padding: 12px 16px;\n",
       "                border-bottom: 1px solid var(--jl-border-color);\n",
       "                line-height: 1.4;\n",
       "            }\n",
       "            \n",
       "            .job-logger-label {\n",
       "                font-weight: 500;\n",
       "                color: var(--jl-text-primary);\n",
       "                width: 25%;\n",
       "                background: var(--jl-bg-secondary);\n",
       "            }\n",
       "            \n",
       "            .job-logger-value {\n",
       "                color: var(--jl-text-secondary);\n",
       "                word-break: break-word;\n",
       "            }\n",
       "            \n",
       "            .job-logger-status {\n",
       "                margin: 0;\n",
       "                padding: 12px 16px;\n",
       "                background-color: var(--jl-bg-secondary);\n",
       "                border: 1px solid var(--jl-border-color);\n",
       "                border-top: none;\n",
       "                border-radius: 0 0 4px 4px;\n",
       "                color: var(--jl-text-primary);\n",
       "                font-size: 0.95em;\n",
       "            }\n",
       "        </style>\n",
       "        \n",
       "        <script>\n",
       "            class ThemeManager {\n",
       "                constructor(logId, initialTheme = 'auto') {\n",
       "                    this.logId = logId;\n",
       "                    this.currentTheme = initialTheme;\n",
       "                    this.darkModeMediaQuery = window.matchMedia('(prefers-color-scheme: dark)');\n",
       "                    this.init();\n",
       "                }\n",
       "                \n",
       "                init() {\n",
       "                    this.setupThemeSwitcher();\n",
       "                    this.updateTheme(this.currentTheme);\n",
       "                    \n",
       "                    this.darkModeMediaQuery.addListener(() => {\n",
       "                        if (this.currentTheme === 'auto') {\n",
       "                            this.updateTheme('auto');\n",
       "                        }\n",
       "                    });\n",
       "                }\n",
       "                \n",
       "                setupThemeSwitcher() {\n",
       "                    const logger = document.querySelector(`#logger-${this.logId}`);\n",
       "                    if (!logger) return;\n",
       "                    \n",
       "                    const switcher = document.createElement('div');\n",
       "                    switcher.className = 'theme-switcher';\n",
       "                    switcher.innerHTML = `\n",
       "                        <select id=\"theme-select-${this.logId}\" class=\"theme-select\">\n",
       "                            <option value=\"auto\">Auto</option>\n",
       "                            <option value=\"light\">Light</option>\n",
       "                            <option value=\"dark\">Dark</option>\n",
       "                            <option value=\"high-contrast\">High Contrast</option>\n",
       "                        </select>\n",
       "                    `;\n",
       "                    \n",
       "                    const header = logger.querySelector('.job-logger-header');\n",
       "                    header.appendChild(switcher);\n",
       "                    \n",
       "                    const select = switcher.querySelector('select');\n",
       "                    select.value = this.currentTheme;\n",
       "                    select.addEventListener('change', (e) => {\n",
       "                        this.updateTheme(e.target.value);\n",
       "                    });\n",
       "                }\n",
       "                \n",
       "                updateTheme(theme) {\n",
       "                    const logger = document.querySelector(`#logger-${this.logId}`);\n",
       "                    if (!logger) return;\n",
       "                    \n",
       "                    this.currentTheme = theme;\n",
       "                    \n",
       "                    logger.classList.remove('theme-light', 'theme-dark', 'theme-high-contrast');\n",
       "                    \n",
       "                    if (theme === 'auto') {\n",
       "                        const isDark = this.darkModeMediaQuery.matches;\n",
       "                        logger.classList.add(isDark ? 'theme-dark' : 'theme-light');\n",
       "                    } else {\n",
       "                        logger.classList.add(`theme-${theme}`);\n",
       "                    }\n",
       "                    \n",
       "                    try {\n",
       "                        localStorage.setItem('jobLoggerTheme', theme);\n",
       "                    } catch (e) {\n",
       "                        console.warn('Unable to save theme preference:', e);\n",
       "                    }\n",
       "                }\n",
       "            }\n",
       "            \n",
       "            window.initThemeManager = (logId, initialTheme) => {\n",
       "                new ThemeManager(logId, initialTheme);\n",
       "            };\n",
       "        </script>\n",
       "        \n",
       "        <script>\n",
       "            document.addEventListener('DOMContentLoaded', () => {\n",
       "                window.initThemeManager('54d500e1-216e-4259-bb1a-f2cc0ce92be4', 'auto');\n",
       "            });\n",
       "        </script>\n",
       "        "
      ],
      "text/plain": [
       "<IPython.core.display.HTML object>"
      ]
     },
     "metadata": {},
     "output_type": "display_data"
    }
   ],
   "source": [
    "results = survey.by(a).by(m).run()"
   ]
  },
  {
   "cell_type": "markdown",
   "id": "1a532e9e-53cf-40d3-b7cf-4ff523a5db46",
   "metadata": {
    "editable": true,
    "slideshow": {
     "slide_type": ""
    },
    "tags": []
   },
   "source": [
    "There is no \"scenario\" field in results because the scenarios were already added to questions.\n",
    "Instead, there are separate columns for each version of a question:"
   ]
  },
  {
   "cell_type": "code",
   "execution_count": 17,
   "id": "b29519d9-8d4a-4c6f-806e-6da779482b04",
   "metadata": {
    "editable": true,
    "slideshow": {
     "slide_type": ""
    },
    "tags": []
   },
   "outputs": [
    {
     "data": {
      "text/html": [
       "\n",
       "            <div style=\"max-height: 500px; overflow-y: auto;\">\n",
       "                <style type=\"text/css\">\n",
       "#T_03144_row0_col0, #T_03144_row0_col1, #T_03144_row0_col3, #T_03144_row0_col5, #T_03144_row0_col6, #T_03144_row0_col8, #T_03144_row1_col0, #T_03144_row1_col1, #T_03144_row1_col3, #T_03144_row1_col5, #T_03144_row1_col6, #T_03144_row1_col8, #T_03144_row2_col0, #T_03144_row2_col1, #T_03144_row2_col3, #T_03144_row2_col5, #T_03144_row2_col6, #T_03144_row2_col8, #T_03144_row3_col0, #T_03144_row3_col1, #T_03144_row3_col3, #T_03144_row3_col5, #T_03144_row3_col6, #T_03144_row3_col8, #T_03144_row4_col0, #T_03144_row4_col1, #T_03144_row4_col3, #T_03144_row4_col5, #T_03144_row4_col6, #T_03144_row4_col8, #T_03144_row5_col0, #T_03144_row5_col1, #T_03144_row5_col3, #T_03144_row5_col5, #T_03144_row5_col6, #T_03144_row5_col8, #T_03144_row6_col0, #T_03144_row6_col1, #T_03144_row6_col3, #T_03144_row6_col5, #T_03144_row6_col6, #T_03144_row6_col8, #T_03144_row7_col0, #T_03144_row7_col1, #T_03144_row7_col3, #T_03144_row7_col5, #T_03144_row7_col6, #T_03144_row7_col8, #T_03144_row8_col0, #T_03144_row8_col1, #T_03144_row8_col3, #T_03144_row8_col5, #T_03144_row8_col6, #T_03144_row8_col8 {\n",
       "  text-align: left;\n",
       "}\n",
       "#T_03144_row0_col2, #T_03144_row2_col7, #T_03144_row3_col2, #T_03144_row3_col7, #T_03144_row5_col7, #T_03144_row6_col2, #T_03144_row8_col4 {\n",
       "  text-align: left;\n",
       "  background-color: #fff7fb;\n",
       "  color: #000000;\n",
       "}\n",
       "#T_03144_row0_col4, #T_03144_row1_col2, #T_03144_row1_col4, #T_03144_row4_col2, #T_03144_row7_col2 {\n",
       "  text-align: left;\n",
       "  background-color: #73a9cf;\n",
       "  color: #f1f1f1;\n",
       "}\n",
       "#T_03144_row0_col7, #T_03144_row1_col7 {\n",
       "  text-align: left;\n",
       "  background-color: #7dacd1;\n",
       "  color: #f1f1f1;\n",
       "}\n",
       "#T_03144_row2_col2, #T_03144_row3_col4, #T_03144_row4_col4, #T_03144_row4_col7, #T_03144_row5_col2, #T_03144_row5_col4, #T_03144_row8_col2 {\n",
       "  text-align: left;\n",
       "  background-color: #023858;\n",
       "  color: #f1f1f1;\n",
       "}\n",
       "#T_03144_row2_col4 {\n",
       "  text-align: left;\n",
       "  background-color: #f0eaf4;\n",
       "  color: #000000;\n",
       "}\n",
       "#T_03144_row6_col4 {\n",
       "  text-align: left;\n",
       "  background-color: #f9f2f8;\n",
       "  color: #000000;\n",
       "}\n",
       "#T_03144_row6_col7 {\n",
       "  text-align: left;\n",
       "  background-color: #d2d3e7;\n",
       "  color: #000000;\n",
       "}\n",
       "#T_03144_row7_col4 {\n",
       "  text-align: left;\n",
       "  background-color: #f8f1f8;\n",
       "  color: #000000;\n",
       "}\n",
       "#T_03144_row7_col7, #T_03144_row8_col7 {\n",
       "  text-align: left;\n",
       "  background-color: #000000;\n",
       "  color: #f1f1f1;\n",
       "}\n",
       "</style>\n",
       "<table id=\"T_03144\">\n",
       "  <thead>\n",
       "    <tr>\n",
       "      <th class=\"blank level0\" >&nbsp;</th>\n",
       "      <th id=\"T_03144_level0_col0\" class=\"col_heading level0 col0\" >model.model</th>\n",
       "      <th id=\"T_03144_level0_col1\" class=\"col_heading level0 col1\" >agent.annual_income</th>\n",
       "      <th id=\"T_03144_level0_col2\" class=\"col_heading level0 col2\" >agent.age</th>\n",
       "      <th id=\"T_03144_level0_col3\" class=\"col_heading level0 col3\" >answer.recent_purchase_electronics</th>\n",
       "      <th id=\"T_03144_level0_col4\" class=\"col_heading level0 col4\" >answer.amount_electronics</th>\n",
       "      <th id=\"T_03144_level0_col5\" class=\"col_heading level0 col5\" >answer.next_purchase_electronics</th>\n",
       "      <th id=\"T_03144_level0_col6\" class=\"col_heading level0 col6\" >answer.recent_purchase_phones</th>\n",
       "      <th id=\"T_03144_level0_col7\" class=\"col_heading level0 col7\" >answer.amount_phones</th>\n",
       "      <th id=\"T_03144_level0_col8\" class=\"col_heading level0 col8\" >answer.next_purchase_phones</th>\n",
       "    </tr>\n",
       "  </thead>\n",
       "  <tbody>\n",
       "    <tr>\n",
       "      <th id=\"T_03144_level0_row0\" class=\"row_heading level0 row0\" >0</th>\n",
       "      <td id=\"T_03144_row0_col0\" class=\"data row0 col0\" >gemini-1.5-flash</td>\n",
       "      <td id=\"T_03144_row0_col1\" class=\"data row0 col1\" >$100,000-250,000</td>\n",
       "      <td id=\"T_03144_row0_col2\" class=\"data row0 col2\" >30</td>\n",
       "      <td id=\"T_03144_row0_col3\" class=\"data row0 col3\" >Yes</td>\n",
       "      <td id=\"T_03144_row0_col4\" class=\"data row0 col4\" >2500</td>\n",
       "      <td id=\"T_03144_row0_col5\" class=\"data row0 col5\" >Within the next year</td>\n",
       "      <td id=\"T_03144_row0_col6\" class=\"data row0 col6\" >No</td>\n",
       "      <td id=\"T_03144_row0_col7\" class=\"data row0 col7\" >1200.000000</td>\n",
       "      <td id=\"T_03144_row0_col8\" class=\"data row0 col8\" >Within the next year</td>\n",
       "    </tr>\n",
       "    <tr>\n",
       "      <th id=\"T_03144_level0_row1\" class=\"row_heading level0 row1\" >1</th>\n",
       "      <td id=\"T_03144_row1_col0\" class=\"data row1 col0\" >gemini-1.5-flash</td>\n",
       "      <td id=\"T_03144_row1_col1\" class=\"data row1 col1\" >$100,000-250,000</td>\n",
       "      <td id=\"T_03144_row1_col2\" class=\"data row1 col2\" >50</td>\n",
       "      <td id=\"T_03144_row1_col3\" class=\"data row1 col3\" >Yes</td>\n",
       "      <td id=\"T_03144_row1_col4\" class=\"data row1 col4\" >2500</td>\n",
       "      <td id=\"T_03144_row1_col5\" class=\"data row1 col5\" >Within the next year</td>\n",
       "      <td id=\"T_03144_row1_col6\" class=\"data row1 col6\" >Yes</td>\n",
       "      <td id=\"T_03144_row1_col7\" class=\"data row1 col7\" >1200.000000</td>\n",
       "      <td id=\"T_03144_row1_col8\" class=\"data row1 col8\" >Within the next year</td>\n",
       "    </tr>\n",
       "    <tr>\n",
       "      <th id=\"T_03144_level0_row2\" class=\"row_heading level0 row2\" >2</th>\n",
       "      <td id=\"T_03144_row2_col0\" class=\"data row2 col0\" >gemini-1.5-flash</td>\n",
       "      <td id=\"T_03144_row2_col1\" class=\"data row2 col1\" >$100,000-250,000</td>\n",
       "      <td id=\"T_03144_row2_col2\" class=\"data row2 col2\" >70</td>\n",
       "      <td id=\"T_03144_row2_col3\" class=\"data row2 col3\" >Yes</td>\n",
       "      <td id=\"T_03144_row2_col4\" class=\"data row2 col4\" >500</td>\n",
       "      <td id=\"T_03144_row2_col5\" class=\"data row2 col5\" >Within the next year</td>\n",
       "      <td id=\"T_03144_row2_col6\" class=\"data row2 col6\" >No</td>\n",
       "      <td id=\"T_03144_row2_col7\" class=\"data row2 col7\" >0.000000</td>\n",
       "      <td id=\"T_03144_row2_col8\" class=\"data row2 col8\" >Within the next year</td>\n",
       "    </tr>\n",
       "    <tr>\n",
       "      <th id=\"T_03144_level0_row3\" class=\"row_heading level0 row3\" >3</th>\n",
       "      <td id=\"T_03144_row3_col0\" class=\"data row3 col0\" >gemini-1.5-flash</td>\n",
       "      <td id=\"T_03144_row3_col1\" class=\"data row3 col1\" >above $250,000</td>\n",
       "      <td id=\"T_03144_row3_col2\" class=\"data row3 col2\" >30</td>\n",
       "      <td id=\"T_03144_row3_col3\" class=\"data row3 col3\" >Yes</td>\n",
       "      <td id=\"T_03144_row3_col4\" class=\"data row3 col4\" >5000</td>\n",
       "      <td id=\"T_03144_row3_col5\" class=\"data row3 col5\" >Within the next year</td>\n",
       "      <td id=\"T_03144_row3_col6\" class=\"data row3 col6\" >Yes</td>\n",
       "      <td id=\"T_03144_row3_col7\" class=\"data row3 col7\" >0.000000</td>\n",
       "      <td id=\"T_03144_row3_col8\" class=\"data row3 col8\" >Within the next year</td>\n",
       "    </tr>\n",
       "    <tr>\n",
       "      <th id=\"T_03144_level0_row4\" class=\"row_heading level0 row4\" >4</th>\n",
       "      <td id=\"T_03144_row4_col0\" class=\"data row4 col0\" >gemini-1.5-flash</td>\n",
       "      <td id=\"T_03144_row4_col1\" class=\"data row4 col1\" >above $250,000</td>\n",
       "      <td id=\"T_03144_row4_col2\" class=\"data row4 col2\" >50</td>\n",
       "      <td id=\"T_03144_row4_col3\" class=\"data row4 col3\" >Yes</td>\n",
       "      <td id=\"T_03144_row4_col4\" class=\"data row4 col4\" >5000</td>\n",
       "      <td id=\"T_03144_row4_col5\" class=\"data row4 col5\" >Within the next year</td>\n",
       "      <td id=\"T_03144_row4_col6\" class=\"data row4 col6\" >Yes</td>\n",
       "      <td id=\"T_03144_row4_col7\" class=\"data row4 col7\" >2500.000000</td>\n",
       "      <td id=\"T_03144_row4_col8\" class=\"data row4 col8\" >Within the next year</td>\n",
       "    </tr>\n",
       "    <tr>\n",
       "      <th id=\"T_03144_level0_row5\" class=\"row_heading level0 row5\" >5</th>\n",
       "      <td id=\"T_03144_row5_col0\" class=\"data row5 col0\" >gemini-1.5-flash</td>\n",
       "      <td id=\"T_03144_row5_col1\" class=\"data row5 col1\" >above $250,000</td>\n",
       "      <td id=\"T_03144_row5_col2\" class=\"data row5 col2\" >70</td>\n",
       "      <td id=\"T_03144_row5_col3\" class=\"data row5 col3\" >Yes</td>\n",
       "      <td id=\"T_03144_row5_col4\" class=\"data row5 col4\" >5000</td>\n",
       "      <td id=\"T_03144_row5_col5\" class=\"data row5 col5\" >Within the next year</td>\n",
       "      <td id=\"T_03144_row5_col6\" class=\"data row5 col6\" >No</td>\n",
       "      <td id=\"T_03144_row5_col7\" class=\"data row5 col7\" >0.000000</td>\n",
       "      <td id=\"T_03144_row5_col8\" class=\"data row5 col8\" >Never</td>\n",
       "    </tr>\n",
       "    <tr>\n",
       "      <th id=\"T_03144_level0_row6\" class=\"row_heading level0 row6\" >6</th>\n",
       "      <td id=\"T_03144_row6_col0\" class=\"data row6 col0\" >gemini-1.5-flash</td>\n",
       "      <td id=\"T_03144_row6_col1\" class=\"data row6 col1\" >under $100,000</td>\n",
       "      <td id=\"T_03144_row6_col2\" class=\"data row6 col2\" >30</td>\n",
       "      <td id=\"T_03144_row6_col3\" class=\"data row6 col3\" >Yes</td>\n",
       "      <td id=\"T_03144_row6_col4\" class=\"data row6 col4\" >200</td>\n",
       "      <td id=\"T_03144_row6_col5\" class=\"data row6 col5\" >Within the next year</td>\n",
       "      <td id=\"T_03144_row6_col6\" class=\"data row6 col6\" >No</td>\n",
       "      <td id=\"T_03144_row6_col7\" class=\"data row6 col7\" >600.000000</td>\n",
       "      <td id=\"T_03144_row6_col8\" class=\"data row6 col8\" >Within the next year</td>\n",
       "    </tr>\n",
       "    <tr>\n",
       "      <th id=\"T_03144_level0_row7\" class=\"row_heading level0 row7\" >7</th>\n",
       "      <td id=\"T_03144_row7_col0\" class=\"data row7 col0\" >gemini-1.5-flash</td>\n",
       "      <td id=\"T_03144_row7_col1\" class=\"data row7 col1\" >under $100,000</td>\n",
       "      <td id=\"T_03144_row7_col2\" class=\"data row7 col2\" >50</td>\n",
       "      <td id=\"T_03144_row7_col3\" class=\"data row7 col3\" >No</td>\n",
       "      <td id=\"T_03144_row7_col4\" class=\"data row7 col4\" >250</td>\n",
       "      <td id=\"T_03144_row7_col5\" class=\"data row7 col5\" >Within the next year</td>\n",
       "      <td id=\"T_03144_row7_col6\" class=\"data row7 col6\" >nan</td>\n",
       "      <td id=\"T_03144_row7_col7\" class=\"data row7 col7\" >nan</td>\n",
       "      <td id=\"T_03144_row7_col8\" class=\"data row7 col8\" >nan</td>\n",
       "    </tr>\n",
       "    <tr>\n",
       "      <th id=\"T_03144_level0_row8\" class=\"row_heading level0 row8\" >8</th>\n",
       "      <td id=\"T_03144_row8_col0\" class=\"data row8 col0\" >gemini-1.5-flash</td>\n",
       "      <td id=\"T_03144_row8_col1\" class=\"data row8 col1\" >under $100,000</td>\n",
       "      <td id=\"T_03144_row8_col2\" class=\"data row8 col2\" >70</td>\n",
       "      <td id=\"T_03144_row8_col3\" class=\"data row8 col3\" >No</td>\n",
       "      <td id=\"T_03144_row8_col4\" class=\"data row8 col4\" >0</td>\n",
       "      <td id=\"T_03144_row8_col5\" class=\"data row8 col5\" >Within the next year</td>\n",
       "      <td id=\"T_03144_row8_col6\" class=\"data row8 col6\" >nan</td>\n",
       "      <td id=\"T_03144_row8_col7\" class=\"data row8 col7\" >nan</td>\n",
       "      <td id=\"T_03144_row8_col8\" class=\"data row8 col8\" >nan</td>\n",
       "    </tr>\n",
       "  </tbody>\n",
       "</table>\n",
       "\n",
       "            </div>\n",
       "            "
      ],
      "text/plain": [
       "Dataset([{'model.model': ['gemini-1.5-flash', 'gemini-1.5-flash', 'gemini-1.5-flash', 'gemini-1.5-flash', 'gemini-1.5-flash', 'gemini-1.5-flash', 'gemini-1.5-flash', 'gemini-1.5-flash', 'gemini-1.5-flash']}, {'agent.annual_income': ['$100,000-250,000', '$100,000-250,000', '$100,000-250,000', 'above $250,000', 'above $250,000', 'above $250,000', 'under $100,000', 'under $100,000', 'under $100,000']}, {'agent.age': [30, 50, 70, 30, 50, 70, 30, 50, 70]}, {'answer.recent_purchase_electronics': ['Yes', 'Yes', 'Yes', 'Yes', 'Yes', 'Yes', 'Yes', 'No', 'No']}, {'answer.amount_electronics': [2500, 2500, 500, 5000, 5000, 5000, 200, 250, 0]}, {'answer.next_purchase_electronics': ['Within the next year', 'Within the next year', 'Within the next year', 'Within the next year', 'Within the next year', 'Within the next year', 'Within the next year', 'Within the next year', 'Within the next year']}, {'answer.recent_purchase_phones': ['No', 'Yes', 'No', 'Yes', 'Yes', 'No', 'No', None, None]}, {'answer.amount_phones': [1200, 1200, 0, 0, 2500, 0, 600, None, None]}, {'answer.next_purchase_phones': ['Within the next year', 'Within the next year', 'Within the next year', 'Within the next year', 'Within the next year', 'Never', 'Within the next year', None, None]}])"
      ]
     },
     "execution_count": 17,
     "metadata": {},
     "output_type": "execute_result"
    }
   ],
   "source": [
    "(\n",
    "    results\n",
    "    .sort_by(\"annual_income\", \"age\")\n",
    "    .select(\"model\", \"annual_income\", \"age\", \"recent_purchase_electronics\", \"amount_electronics\", \"next_purchase_electronics\", \"recent_purchase_phones\", \"amount_phones\", \"next_purchase_phones\")\n",
    ")"
   ]
  },
  {
   "cell_type": "markdown",
   "id": "d64e617a-92ca-417a-bf8e-8423b7bdf81f",
   "metadata": {
    "editable": true,
    "slideshow": {
     "slide_type": ""
    },
    "tags": []
   },
   "source": [
    "## Posting to the Coop\n",
    "Here we post this notebook to the Coop, a free platform for creating and sharing AI-based research (learn more about [how it works](https://docs.expectedparrot.com/en/latest/coop.html)):"
   ]
  },
  {
   "cell_type": "code",
   "execution_count": 18,
   "id": "e6271adb-6b40-40ff-940e-35be53a790bf",
   "metadata": {
    "editable": true,
    "slideshow": {
     "slide_type": ""
    },
    "tags": [
     "skip-execution"
    ]
   },
   "outputs": [],
   "source": [
    "from edsl import Notebook"
   ]
  },
  {
   "cell_type": "code",
   "execution_count": 19,
   "id": "2f627fd2-11f9-4da5-9c5b-760201f0b6be",
   "metadata": {
    "editable": true,
    "slideshow": {
     "slide_type": ""
    },
    "tags": [
     "skip-execution"
    ]
   },
   "outputs": [],
   "source": [
    "n = Notebook(path = \"skip_logic_scenarios.ipynb\")"
   ]
  },
  {
   "cell_type": "code",
   "execution_count": 20,
   "id": "427af26d-aae9-4613-b162-48064fd8cfcd",
   "metadata": {
    "editable": true,
    "slideshow": {
     "slide_type": ""
    },
    "tags": [
     "skip-execution"
    ]
   },
   "outputs": [
    {
     "data": {
      "text/plain": [
       "{'description': 'Using skip logic with question scenarios',\n",
       " 'object_type': 'notebook',\n",
       " 'url': 'https://www.expectedparrot.com/content/ba541892-b397-437f-a72c-c95f23750540',\n",
       " 'uuid': 'ba541892-b397-437f-a72c-c95f23750540',\n",
       " 'version': '0.1.43.dev1',\n",
       " 'visibility': 'public'}"
      ]
     },
     "execution_count": 20,
     "metadata": {},
     "output_type": "execute_result"
    }
   ],
   "source": [
    "info = n.push(description = \"Using skip logic with question scenarios\", visibility = \"public\")\n",
    "info"
   ]
  },
  {
   "cell_type": "markdown",
   "id": "bde2a6d9-1a48-45bc-8737-064b2b88ce47",
   "metadata": {
    "editable": true,
    "slideshow": {
     "slide_type": ""
    },
    "tags": []
   },
   "source": [
    "Updating an object at the Coop:"
   ]
  },
  {
   "cell_type": "code",
   "execution_count": 21,
   "id": "3c653c6a-86a6-49fd-9568-817805bcf6b6",
   "metadata": {
    "editable": true,
    "slideshow": {
     "slide_type": ""
    },
    "tags": [
     "skip-execution"
    ]
   },
   "outputs": [],
   "source": [
    "n = Notebook(path = \"skip_logic_scenarios.ipynb\") # resave"
   ]
  },
  {
   "cell_type": "code",
   "execution_count": 22,
   "id": "10d20aaa-76f9-4e3c-a2db-9288d4498829",
   "metadata": {
    "editable": true,
    "slideshow": {
     "slide_type": ""
    },
    "tags": [
     "skip-execution"
    ]
   },
   "outputs": [
    {
     "data": {
      "text/plain": [
       "{'status': 'success'}"
      ]
     },
     "execution_count": 22,
     "metadata": {},
     "output_type": "execute_result"
    }
   ],
   "source": [
    "n.patch(uuid = info[\"uuid\"], value = n)"
   ]
  }
 ],
 "metadata": {
  "kernelspec": {
   "display_name": "Python 3 (ipykernel)",
   "language": "python",
   "name": "python3"
  },
  "language_info": {
   "codemirror_mode": {
    "name": "ipython",
    "version": 3
   },
   "file_extension": ".py",
   "mimetype": "text/x-python",
   "name": "python",
   "nbconvert_exporter": "python",
   "pygments_lexer": "ipython3",
   "version": "3.11.7"
  }
 },
 "nbformat": 4,
 "nbformat_minor": 5
}
