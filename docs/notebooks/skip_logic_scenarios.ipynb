{
 "cells": [
  {
   "cell_type": "markdown",
   "id": "326dc3be-a063-4ccd-bb4d-8be25b616d48",
   "metadata": {
    "editable": true,
    "slideshow": {
     "slide_type": ""
    },
    "tags": []
   },
   "source": [
    "# Skip logic & scenarios\n",
    "This notebook provides example EDSL code for using a language model to simulate a survey that uses skip logic in different ways to determine which questions and variations of questions are administered based on responses to other questions in the survey. \n",
    "\n",
    "In the first example below we construct a survey of questions and then add a rule to skip a particular question based on the response to a prior question.\n",
    "\n",
    "In the second example we create different versions of questions and combine them in a survey. Then we add rules to skip the certain versions of the questions based on a response to another version of a question. \n",
    "\n",
    "[EDSL is an open-source library](https://github.com/expectedparrot/edsl) for simulating surveys, experiments and other research with AI agents and large language models. \n",
    "Before running the code below, please ensure that you have [installed the EDSL library](https://docs.expectedparrot.com/en/latest/installation.html) and either [activated remote inference](https://docs.expectedparrot.com/en/latest/remote_inference.html) from your [Coop account](https://docs.expectedparrot.com/en/latest/coop.html) or [stored API keys](https://docs.expectedparrot.com/en/latest/api_keys.html) for the language models that you want to use with EDSL. Please also see our [documentation page](https://docs.expectedparrot.com/) for tips and tutorials on getting started using EDSL."
   ]
  },
  {
   "cell_type": "markdown",
   "id": "5a3a9a93-a127-4bea-a7dd-785e58575eeb",
   "metadata": {
    "editable": true,
    "slideshow": {
     "slide_type": ""
    },
    "tags": []
   },
   "source": [
    "## Example 1\n",
    "In the first example below we construct questions, combine them in a survey, and add a rule to skip the second question based on the response to the first question.\n",
    "Then we create scenarios for the questions that will be added to the questions when the survey is run.\n",
    "The effect of this is that the second question will be skipped based on the response to the first question for each individual scenario."
   ]
  },
  {
   "cell_type": "markdown",
   "id": "3b6c6df1-eda2-441d-b95a-0777ea16dd3f",
   "metadata": {
    "editable": true,
    "slideshow": {
     "slide_type": ""
    },
    "tags": []
   },
   "source": [
    "Import the tools:"
   ]
  },
  {
   "cell_type": "code",
   "execution_count": 1,
   "id": "f17855be-e5a3-471d-871b-98ea56ac9cc1",
   "metadata": {
    "editable": true,
    "slideshow": {
     "slide_type": ""
    },
    "tags": []
   },
   "outputs": [],
   "source": [
    "from edsl import QuestionYesNo, QuestionNumerical, QuestionMultipleChoice, Survey, ScenarioList, Scenario, AgentList, Agent, Model"
   ]
  },
  {
   "cell_type": "markdown",
   "id": "e17385cc-aeed-4356-84ed-753218a3c15a",
   "metadata": {
    "editable": true,
    "slideshow": {
     "slide_type": ""
    },
    "tags": []
   },
   "source": [
    "Construct questions:"
   ]
  },
  {
   "cell_type": "code",
   "execution_count": 2,
   "id": "ee25ca3f-96e4-4b5c-9571-0664eb8cc8d1",
   "metadata": {
    "editable": true,
    "slideshow": {
     "slide_type": ""
    },
    "tags": []
   },
   "outputs": [],
   "source": [
    "q1 = QuestionYesNo(\n",
    "    question_name = \"recent_purchase\",\n",
    "    question_text = \"In the last year have you or anyone in your household purchased any {{ item }}?\",\n",
    ")\n",
    "\n",
    "q2 = QuestionNumerical(\n",
    "    question_name = \"amount\",\n",
    "    question_text = \"In the last year, how much did your household spend on {{ item }} (in USD)?\"\n",
    ")\n",
    "\n",
    "q3 = QuestionMultipleChoice(\n",
    "    question_name = \"next_purchase\",\n",
    "    question_text = \"When do you next expect to purchase {{ item }}?\", \n",
    "    question_options = [\n",
    "        \"Never\",\n",
    "        \"Within the next month\",\n",
    "        \"Within the next year\",\n",
    "        \"I do not know\"\n",
    "    ]\n",
    ")"
   ]
  },
  {
   "cell_type": "markdown",
   "id": "7ebc5dca-f020-475a-81e2-08113d85c4eb",
   "metadata": {
    "editable": true,
    "slideshow": {
     "slide_type": ""
    },
    "tags": []
   },
   "source": [
    "Combine the questions in a survey to administer them together:"
   ]
  },
  {
   "cell_type": "code",
   "execution_count": 3,
   "id": "5cc6d4e7-592b-4e6e-961b-d4ab879a6fdd",
   "metadata": {
    "editable": true,
    "slideshow": {
     "slide_type": ""
    },
    "tags": []
   },
   "outputs": [],
   "source": [
    "survey = Survey([q1, q2, q3])"
   ]
  },
  {
   "cell_type": "markdown",
   "id": "947b0d60-7054-43f8-b852-f9f022461fb9",
   "metadata": {
    "editable": true,
    "slideshow": {
     "slide_type": ""
    },
    "tags": []
   },
   "source": [
    "Add a rule to skip q2 based on the response to q1:"
   ]
  },
  {
   "cell_type": "code",
   "execution_count": 4,
   "id": "9fccfcf1-3f2a-4ce2-a61e-6500fa910a3f",
   "metadata": {
    "editable": true,
    "slideshow": {
     "slide_type": ""
    },
    "tags": []
   },
   "outputs": [],
   "source": [
    "survey = survey.add_skip_rule(q2, \"recent_purchase == 'No'\")"
   ]
  },
  {
   "cell_type": "markdown",
   "id": "98f70b2f-7cd4-45bc-8f56-f015bb64d3b5",
   "metadata": {
    "editable": true,
    "slideshow": {
     "slide_type": ""
    },
    "tags": []
   },
   "source": [
    "Create scenarios for the \"item\" in each question:"
   ]
  },
  {
   "cell_type": "code",
   "execution_count": 5,
   "id": "5646f987-46cd-4b4a-8a58-dc3d1dc6b97b",
   "metadata": {
    "editable": true,
    "slideshow": {
     "slide_type": ""
    },
    "tags": []
   },
   "outputs": [],
   "source": [
    "s = ScenarioList(\n",
    "    Scenario({\"item\":item}) for item in [\"electronics\", \"phones\"]\n",
    ")"
   ]
  },
  {
   "cell_type": "markdown",
   "id": "6e98f7e8-f088-4343-a2e3-a5f81d362fb2",
   "metadata": {
    "editable": true,
    "slideshow": {
     "slide_type": ""
    },
    "tags": []
   },
   "source": [
    "Create agents to answer the questions:"
   ]
  },
  {
   "cell_type": "code",
   "execution_count": 6,
   "id": "0138a8f5-e1f4-4d1f-81c0-5bbbc2cde952",
   "metadata": {
    "editable": true,
    "slideshow": {
     "slide_type": ""
    },
    "tags": []
   },
   "outputs": [],
   "source": [
    "a = AgentList(\n",
    "    Agent({\"annual_income\":income, \"age\":age}) for income in [\"under $100,000\", \"$100,000-250,000\", \"above $250,000\"] for age in [30, 50, 70] \n",
    ")"
   ]
  },
  {
   "cell_type": "markdown",
   "id": "10d46e3f-3769-42b5-b0ce-8d22bbbe75fa",
   "metadata": {
    "editable": true,
    "slideshow": {
     "slide_type": ""
    },
    "tags": []
   },
   "source": [
    "Select a model to generate the responses:"
   ]
  },
  {
   "cell_type": "code",
   "execution_count": 7,
   "id": "7b510221-5a71-4cc3-8e00-b23ceb3d260c",
   "metadata": {
    "editable": true,
    "slideshow": {
     "slide_type": ""
    },
    "tags": []
   },
   "outputs": [],
   "source": [
    "m = Model(\"gemini-1.5-flash\")"
   ]
  },
  {
   "cell_type": "markdown",
   "id": "00de6976-de22-42cc-8ac3-e3ad7a91f42b",
   "metadata": {
    "editable": true,
    "slideshow": {
     "slide_type": ""
    },
    "tags": []
   },
   "source": [
    "Run the survey with the scenarios, agent and model:"
   ]
  },
  {
   "cell_type": "code",
   "execution_count": 8,
   "id": "5b505c69-d982-4811-b4f7-15afefd28a06",
   "metadata": {
    "editable": true,
    "slideshow": {
     "slide_type": ""
    },
    "tags": []
   },
   "outputs": [
    {
     "data": {
      "text/html": [
       "\n",
       "            <!-- #region Remove Inference Info -->\n",
       "            <div id=\"logger-a80846eb-aca8-421c-8c52-bd9d55588dd3\" class=\"job-logger\">\n",
       "                <div class=\"job-logger-header\">\n",
       "                    <span>\n",
       "                        <span id=\"arrow-a80846eb-aca8-421c-8c52-bd9d55588dd3\">▼</span> \n",
       "                        Job Status (2024-12-28 15:24:34)\n",
       "                    </span>\n",
       "                </div>\n",
       "                <div id=\"content-a80846eb-aca8-421c-8c52-bd9d55588dd3\" style=\"display: block;\">\n",
       "                    <table class=\"job-logger-table\">\n",
       "                        \n",
       "            <tr>\n",
       "                <td class=\"job-logger-cell job-logger-label\">Job UUID</td>\n",
       "                <td class=\"job-logger-cell job-logger-value\">f9db513e-8a2f-4da7-9705-7816f1086346</td>\n",
       "            </tr>\n",
       "        \n",
       "            <tr>\n",
       "                <td class=\"job-logger-cell job-logger-label\">Progress Bar URL</td>\n",
       "                <td class=\"job-logger-cell job-logger-value\"><a href=\"https://www.expectedparrot.com/home/remote-job-progress/f9db513e-8a2f-4da7-9705-7816f1086346\" target=\"_blank\" class=\"job-logger-link\">https://www.expectedparrot.com/home/remote-job-progress/f9db513e-8a2f-4da7-9705-7816f1086346</a></td>\n",
       "            </tr>\n",
       "        \n",
       "            <tr>\n",
       "                <td class=\"job-logger-cell job-logger-label\">Error Report URL</td>\n",
       "                <td class=\"job-logger-cell job-logger-value\">None</td>\n",
       "            </tr>\n",
       "        \n",
       "            <tr>\n",
       "                <td class=\"job-logger-cell job-logger-label\">Results UUID</td>\n",
       "                <td class=\"job-logger-cell job-logger-value\">c752ea5f-8824-451c-9bc0-bdb9e87b911c</td>\n",
       "            </tr>\n",
       "        \n",
       "            <tr>\n",
       "                <td class=\"job-logger-cell job-logger-label\">Results URL</td>\n",
       "                <td class=\"job-logger-cell job-logger-value\">None</td>\n",
       "            </tr>\n",
       "        \n",
       "                    </table>\n",
       "                    \n",
       "                <div class=\"job-logger-status\">\n",
       "                    <span style=\"margin-right: 8px;\" class=\"job-logger-success\">✓</span><strong>Current Status:</strong> Job completed and Results stored on Coop: <a href=\"https://www.expectedparrot.com/content/c752ea5f-8824-451c-9bc0-bdb9e87b911c\" target=\"_blank\" class=\"job-logger-link\">https://www.expectedparrot.com/content/c752ea5f-8824-451c-9bc0-bdb9e87b911c</a>\n",
       "                </div>\n",
       "            \n",
       "                </div>\n",
       "            </div>\n",
       "            <!-- # endregion -->\n",
       "        "
      ],
      "text/plain": [
       "<IPython.core.display.HTML object>"
      ]
     },
     "metadata": {},
     "output_type": "display_data"
    },
    {
     "data": {
      "text/html": [
       "\n",
       "        <style>\n",
       "            /* Base theme variables */\n",
       "            :root {\n",
       "                --jl-bg-primary: #ffffff;\n",
       "                --jl-bg-secondary: #f5f5f5;\n",
       "                --jl-border-color: #e0e0e0;\n",
       "                --jl-text-primary: #24292e;\n",
       "                --jl-text-secondary: #586069;\n",
       "                --jl-link-color: #0366d6;\n",
       "                --jl-success-color: #28a745;\n",
       "                --jl-error-color: #d73a49;\n",
       "                --jl-header-bg: #f1f1f1;\n",
       "            }\n",
       "            \n",
       "            /* Dark theme variables */\n",
       "            .theme-dark {\n",
       "                --jl-bg-primary: #1e1e1e;\n",
       "                --jl-bg-secondary: #252526;\n",
       "                --jl-border-color: #2d2d2d;\n",
       "                --jl-text-primary: #cccccc;\n",
       "                --jl-text-secondary: #999999;\n",
       "                --jl-link-color: #4e94ce;\n",
       "                --jl-success-color: #89d185;\n",
       "                --jl-error-color: #f14c4c;\n",
       "                --jl-header-bg: #333333;\n",
       "            }\n",
       "\n",
       "            /* High contrast theme variables */\n",
       "            .theme-high-contrast {\n",
       "                --jl-bg-primary: #000000;\n",
       "                --jl-bg-secondary: #1a1a1a;\n",
       "                --jl-border-color: #404040;\n",
       "                --jl-text-primary: #ffffff;\n",
       "                --jl-text-secondary: #cccccc;\n",
       "                --jl-link-color: #66b3ff;\n",
       "                --jl-success-color: #00ff00;\n",
       "                --jl-error-color: #ff0000;\n",
       "                --jl-header-bg: #262626;\n",
       "            }\n",
       "            \n",
       "            .job-logger {\n",
       "                font-family: system-ui, -apple-system, sans-serif;\n",
       "                max-width: 800px;\n",
       "                margin: 10px 0;\n",
       "                color: var(--jl-text-primary);\n",
       "                box-shadow: 0 1px 3px rgba(0,0,0,0.12);\n",
       "                border-radius: 4px;\n",
       "                overflow: hidden;\n",
       "            }\n",
       "            \n",
       "            .job-logger-header {\n",
       "                padding: 12px 16px;\n",
       "                background: var(--jl-header-bg);\n",
       "                border: none;\n",
       "                border-radius: 4px 4px 0 0;\n",
       "                cursor: pointer;\n",
       "                color: var(--jl-text-primary);\n",
       "                user-select: none;\n",
       "                font-weight: 500;\n",
       "                letter-spacing: 0.3px;\n",
       "                display: flex;\n",
       "                justify-content: space-between;\n",
       "                align-items: center;\n",
       "            }\n",
       "            \n",
       "            .theme-select {\n",
       "                padding: 4px 8px;\n",
       "                border-radius: 4px;\n",
       "                border: 1px solid var(--jl-border-color);\n",
       "                background: var(--jl-bg-primary);\n",
       "                color: var(--jl-text-primary);\n",
       "                font-size: 0.9em;\n",
       "            }\n",
       "            \n",
       "            .job-logger-table {\n",
       "                width: 100%;\n",
       "                border-collapse: separate;\n",
       "                border-spacing: 0;\n",
       "                background: var(--jl-bg-primary);\n",
       "                border: 1px solid var(--jl-border-color);\n",
       "                margin-top: -1px;\n",
       "            }\n",
       "            \n",
       "            .job-logger-cell {\n",
       "                padding: 12px 16px;\n",
       "                border-bottom: 1px solid var(--jl-border-color);\n",
       "                line-height: 1.4;\n",
       "            }\n",
       "            \n",
       "            .job-logger-label {\n",
       "                font-weight: 500;\n",
       "                color: var(--jl-text-primary);\n",
       "                width: 25%;\n",
       "                background: var(--jl-bg-secondary);\n",
       "            }\n",
       "            \n",
       "            .job-logger-value {\n",
       "                color: var(--jl-text-secondary);\n",
       "                word-break: break-word;\n",
       "            }\n",
       "            \n",
       "            .job-logger-status {\n",
       "                margin: 0;\n",
       "                padding: 12px 16px;\n",
       "                background-color: var(--jl-bg-secondary);\n",
       "                border: 1px solid var(--jl-border-color);\n",
       "                border-top: none;\n",
       "                border-radius: 0 0 4px 4px;\n",
       "                color: var(--jl-text-primary);\n",
       "                font-size: 0.95em;\n",
       "            }\n",
       "        </style>\n",
       "        \n",
       "        <script>\n",
       "            class ThemeManager {\n",
       "                constructor(logId, initialTheme = 'auto') {\n",
       "                    this.logId = logId;\n",
       "                    this.currentTheme = initialTheme;\n",
       "                    this.darkModeMediaQuery = window.matchMedia('(prefers-color-scheme: dark)');\n",
       "                    this.init();\n",
       "                }\n",
       "                \n",
       "                init() {\n",
       "                    this.setupThemeSwitcher();\n",
       "                    this.updateTheme(this.currentTheme);\n",
       "                    \n",
       "                    this.darkModeMediaQuery.addListener(() => {\n",
       "                        if (this.currentTheme === 'auto') {\n",
       "                            this.updateTheme('auto');\n",
       "                        }\n",
       "                    });\n",
       "                }\n",
       "                \n",
       "                setupThemeSwitcher() {\n",
       "                    const logger = document.querySelector(`#logger-${this.logId}`);\n",
       "                    if (!logger) return;\n",
       "                    \n",
       "                    const switcher = document.createElement('div');\n",
       "                    switcher.className = 'theme-switcher';\n",
       "                    switcher.innerHTML = `\n",
       "                        <select id=\"theme-select-${this.logId}\" class=\"theme-select\">\n",
       "                            <option value=\"auto\">Auto</option>\n",
       "                            <option value=\"light\">Light</option>\n",
       "                            <option value=\"dark\">Dark</option>\n",
       "                            <option value=\"high-contrast\">High Contrast</option>\n",
       "                        </select>\n",
       "                    `;\n",
       "                    \n",
       "                    const header = logger.querySelector('.job-logger-header');\n",
       "                    header.appendChild(switcher);\n",
       "                    \n",
       "                    const select = switcher.querySelector('select');\n",
       "                    select.value = this.currentTheme;\n",
       "                    select.addEventListener('change', (e) => {\n",
       "                        this.updateTheme(e.target.value);\n",
       "                    });\n",
       "                }\n",
       "                \n",
       "                updateTheme(theme) {\n",
       "                    const logger = document.querySelector(`#logger-${this.logId}`);\n",
       "                    if (!logger) return;\n",
       "                    \n",
       "                    this.currentTheme = theme;\n",
       "                    \n",
       "                    logger.classList.remove('theme-light', 'theme-dark', 'theme-high-contrast');\n",
       "                    \n",
       "                    if (theme === 'auto') {\n",
       "                        const isDark = this.darkModeMediaQuery.matches;\n",
       "                        logger.classList.add(isDark ? 'theme-dark' : 'theme-light');\n",
       "                    } else {\n",
       "                        logger.classList.add(`theme-${theme}`);\n",
       "                    }\n",
       "                    \n",
       "                    try {\n",
       "                        localStorage.setItem('jobLoggerTheme', theme);\n",
       "                    } catch (e) {\n",
       "                        console.warn('Unable to save theme preference:', e);\n",
       "                    }\n",
       "                }\n",
       "            }\n",
       "            \n",
       "            window.initThemeManager = (logId, initialTheme) => {\n",
       "                new ThemeManager(logId, initialTheme);\n",
       "            };\n",
       "        </script>\n",
       "        \n",
       "        <script>\n",
       "            document.addEventListener('DOMContentLoaded', () => {\n",
       "                window.initThemeManager('a80846eb-aca8-421c-8c52-bd9d55588dd3', 'auto');\n",
       "            });\n",
       "        </script>\n",
       "        "
      ],
      "text/plain": [
       "<IPython.core.display.HTML object>"
      ]
     },
     "metadata": {},
     "output_type": "display_data"
    }
   ],
   "source": [
    "results = survey.by(s).by(a).by(m).run()"
   ]
  },
  {
   "cell_type": "markdown",
   "id": "5bb1efcf-78c7-4f9b-ac14-e5336f58bfc1",
   "metadata": {
    "editable": true,
    "slideshow": {
     "slide_type": ""
    },
    "tags": []
   },
   "source": [
    "Inspect the responses. We can see by a \"None\" response that a question was skipped:"
   ]
  },
  {
   "cell_type": "code",
   "execution_count": 9,
   "id": "c75ce7bf-6f6a-4309-973a-9b33c12a10d7",
   "metadata": {
    "editable": true,
    "slideshow": {
     "slide_type": ""
    },
    "tags": []
   },
   "outputs": [
    {
     "data": {
      "text/html": [
       "\n",
       "            <div style=\"max-height: 500px; overflow-y: auto;\">\n",
       "                <style type=\"text/css\">\n",
       "#T_11f27_row0_col0, #T_11f27_row0_col1, #T_11f27_row0_col3, #T_11f27_row0_col4, #T_11f27_row0_col6, #T_11f27_row1_col0, #T_11f27_row1_col1, #T_11f27_row1_col3, #T_11f27_row1_col4, #T_11f27_row1_col6, #T_11f27_row2_col0, #T_11f27_row2_col1, #T_11f27_row2_col3, #T_11f27_row2_col4, #T_11f27_row2_col6, #T_11f27_row3_col0, #T_11f27_row3_col1, #T_11f27_row3_col3, #T_11f27_row3_col4, #T_11f27_row3_col6, #T_11f27_row4_col0, #T_11f27_row4_col1, #T_11f27_row4_col3, #T_11f27_row4_col4, #T_11f27_row4_col6, #T_11f27_row5_col0, #T_11f27_row5_col1, #T_11f27_row5_col3, #T_11f27_row5_col4, #T_11f27_row5_col6, #T_11f27_row6_col0, #T_11f27_row6_col1, #T_11f27_row6_col3, #T_11f27_row6_col4, #T_11f27_row6_col6, #T_11f27_row7_col0, #T_11f27_row7_col1, #T_11f27_row7_col3, #T_11f27_row7_col4, #T_11f27_row7_col6, #T_11f27_row8_col0, #T_11f27_row8_col1, #T_11f27_row8_col3, #T_11f27_row8_col4, #T_11f27_row8_col6, #T_11f27_row9_col0, #T_11f27_row9_col1, #T_11f27_row9_col3, #T_11f27_row9_col4, #T_11f27_row9_col6, #T_11f27_row10_col0, #T_11f27_row10_col1, #T_11f27_row10_col3, #T_11f27_row10_col4, #T_11f27_row10_col6, #T_11f27_row11_col0, #T_11f27_row11_col1, #T_11f27_row11_col3, #T_11f27_row11_col4, #T_11f27_row11_col6, #T_11f27_row12_col0, #T_11f27_row12_col1, #T_11f27_row12_col3, #T_11f27_row12_col4, #T_11f27_row12_col6, #T_11f27_row13_col0, #T_11f27_row13_col1, #T_11f27_row13_col3, #T_11f27_row13_col4, #T_11f27_row13_col6, #T_11f27_row14_col0, #T_11f27_row14_col1, #T_11f27_row14_col3, #T_11f27_row14_col4, #T_11f27_row14_col6, #T_11f27_row15_col0, #T_11f27_row15_col1, #T_11f27_row15_col3, #T_11f27_row15_col4, #T_11f27_row15_col6, #T_11f27_row16_col0, #T_11f27_row16_col1, #T_11f27_row16_col3, #T_11f27_row16_col4, #T_11f27_row16_col6, #T_11f27_row17_col0, #T_11f27_row17_col1, #T_11f27_row17_col3, #T_11f27_row17_col4, #T_11f27_row17_col6 {\n",
       "  text-align: left;\n",
       "}\n",
       "#T_11f27_row0_col2, #T_11f27_row1_col2, #T_11f27_row6_col2, #T_11f27_row7_col2, #T_11f27_row7_col5, #T_11f27_row10_col5, #T_11f27_row12_col2, #T_11f27_row12_col5, #T_11f27_row13_col2 {\n",
       "  text-align: left;\n",
       "  background-color: #fff7fb;\n",
       "  color: #000000;\n",
       "}\n",
       "#T_11f27_row0_col5, #T_11f27_row2_col5 {\n",
       "  text-align: left;\n",
       "  background-color: #e3e0ee;\n",
       "  color: #000000;\n",
       "}\n",
       "#T_11f27_row1_col5, #T_11f27_row3_col5, #T_11f27_row9_col5 {\n",
       "  text-align: left;\n",
       "  background-color: #f3edf5;\n",
       "  color: #000000;\n",
       "}\n",
       "#T_11f27_row2_col2, #T_11f27_row3_col2, #T_11f27_row8_col2, #T_11f27_row9_col2, #T_11f27_row14_col2, #T_11f27_row15_col2 {\n",
       "  text-align: left;\n",
       "  background-color: #73a9cf;\n",
       "  color: #f1f1f1;\n",
       "}\n",
       "#T_11f27_row4_col2, #T_11f27_row5_col2, #T_11f27_row8_col5, #T_11f27_row10_col2, #T_11f27_row11_col2, #T_11f27_row16_col2, #T_11f27_row17_col2 {\n",
       "  text-align: left;\n",
       "  background-color: #023858;\n",
       "  color: #f1f1f1;\n",
       "}\n",
       "#T_11f27_row4_col5 {\n",
       "  text-align: left;\n",
       "  background-color: #faf3f9;\n",
       "  color: #000000;\n",
       "}\n",
       "#T_11f27_row5_col5, #T_11f27_row11_col5, #T_11f27_row13_col5, #T_11f27_row14_col5, #T_11f27_row15_col5, #T_11f27_row16_col5, #T_11f27_row17_col5 {\n",
       "  text-align: left;\n",
       "  background-color: #000000;\n",
       "  color: #f1f1f1;\n",
       "}\n",
       "#T_11f27_row6_col5 {\n",
       "  text-align: left;\n",
       "  background-color: #b4c4df;\n",
       "  color: #000000;\n",
       "}\n",
       "</style>\n",
       "<table id=\"T_11f27\">\n",
       "  <thead>\n",
       "    <tr>\n",
       "      <th class=\"blank level0\" >&nbsp;</th>\n",
       "      <th id=\"T_11f27_level0_col0\" class=\"col_heading level0 col0\" >model.model</th>\n",
       "      <th id=\"T_11f27_level0_col1\" class=\"col_heading level0 col1\" >agent.annual_income</th>\n",
       "      <th id=\"T_11f27_level0_col2\" class=\"col_heading level0 col2\" >agent.age</th>\n",
       "      <th id=\"T_11f27_level0_col3\" class=\"col_heading level0 col3\" >scenario.item</th>\n",
       "      <th id=\"T_11f27_level0_col4\" class=\"col_heading level0 col4\" >answer.recent_purchase</th>\n",
       "      <th id=\"T_11f27_level0_col5\" class=\"col_heading level0 col5\" >answer.amount</th>\n",
       "      <th id=\"T_11f27_level0_col6\" class=\"col_heading level0 col6\" >answer.next_purchase</th>\n",
       "    </tr>\n",
       "  </thead>\n",
       "  <tbody>\n",
       "    <tr>\n",
       "      <th id=\"T_11f27_level0_row0\" class=\"row_heading level0 row0\" >0</th>\n",
       "      <td id=\"T_11f27_row0_col0\" class=\"data row0 col0\" >gemini-1.5-flash</td>\n",
       "      <td id=\"T_11f27_row0_col1\" class=\"data row0 col1\" >$100,000-250,000</td>\n",
       "      <td id=\"T_11f27_row0_col2\" class=\"data row0 col2\" >30</td>\n",
       "      <td id=\"T_11f27_row0_col3\" class=\"data row0 col3\" >electronics</td>\n",
       "      <td id=\"T_11f27_row0_col4\" class=\"data row0 col4\" >Yes</td>\n",
       "      <td id=\"T_11f27_row0_col5\" class=\"data row0 col5\" >2500.000000</td>\n",
       "      <td id=\"T_11f27_row0_col6\" class=\"data row0 col6\" >Within the next year</td>\n",
       "    </tr>\n",
       "    <tr>\n",
       "      <th id=\"T_11f27_level0_row1\" class=\"row_heading level0 row1\" >1</th>\n",
       "      <td id=\"T_11f27_row1_col0\" class=\"data row1 col0\" >gemini-1.5-flash</td>\n",
       "      <td id=\"T_11f27_row1_col1\" class=\"data row1 col1\" >$100,000-250,000</td>\n",
       "      <td id=\"T_11f27_row1_col2\" class=\"data row1 col2\" >30</td>\n",
       "      <td id=\"T_11f27_row1_col3\" class=\"data row1 col3\" >phones</td>\n",
       "      <td id=\"T_11f27_row1_col4\" class=\"data row1 col4\" >Yes</td>\n",
       "      <td id=\"T_11f27_row1_col5\" class=\"data row1 col5\" >1200.000000</td>\n",
       "      <td id=\"T_11f27_row1_col6\" class=\"data row1 col6\" >Within the next year</td>\n",
       "    </tr>\n",
       "    <tr>\n",
       "      <th id=\"T_11f27_level0_row2\" class=\"row_heading level0 row2\" >2</th>\n",
       "      <td id=\"T_11f27_row2_col0\" class=\"data row2 col0\" >gemini-1.5-flash</td>\n",
       "      <td id=\"T_11f27_row2_col1\" class=\"data row2 col1\" >$100,000-250,000</td>\n",
       "      <td id=\"T_11f27_row2_col2\" class=\"data row2 col2\" >50</td>\n",
       "      <td id=\"T_11f27_row2_col3\" class=\"data row2 col3\" >electronics</td>\n",
       "      <td id=\"T_11f27_row2_col4\" class=\"data row2 col4\" >Yes</td>\n",
       "      <td id=\"T_11f27_row2_col5\" class=\"data row2 col5\" >2500.000000</td>\n",
       "      <td id=\"T_11f27_row2_col6\" class=\"data row2 col6\" >Within the next year</td>\n",
       "    </tr>\n",
       "    <tr>\n",
       "      <th id=\"T_11f27_level0_row3\" class=\"row_heading level0 row3\" >3</th>\n",
       "      <td id=\"T_11f27_row3_col0\" class=\"data row3 col0\" >gemini-1.5-flash</td>\n",
       "      <td id=\"T_11f27_row3_col1\" class=\"data row3 col1\" >$100,000-250,000</td>\n",
       "      <td id=\"T_11f27_row3_col2\" class=\"data row3 col2\" >50</td>\n",
       "      <td id=\"T_11f27_row3_col3\" class=\"data row3 col3\" >phones</td>\n",
       "      <td id=\"T_11f27_row3_col4\" class=\"data row3 col4\" >Yes</td>\n",
       "      <td id=\"T_11f27_row3_col5\" class=\"data row3 col5\" >1200.000000</td>\n",
       "      <td id=\"T_11f27_row3_col6\" class=\"data row3 col6\" >Within the next year</td>\n",
       "    </tr>\n",
       "    <tr>\n",
       "      <th id=\"T_11f27_level0_row4\" class=\"row_heading level0 row4\" >4</th>\n",
       "      <td id=\"T_11f27_row4_col0\" class=\"data row4 col0\" >gemini-1.5-flash</td>\n",
       "      <td id=\"T_11f27_row4_col1\" class=\"data row4 col1\" >$100,000-250,000</td>\n",
       "      <td id=\"T_11f27_row4_col2\" class=\"data row4 col2\" >70</td>\n",
       "      <td id=\"T_11f27_row4_col3\" class=\"data row4 col3\" >electronics</td>\n",
       "      <td id=\"T_11f27_row4_col4\" class=\"data row4 col4\" >Yes</td>\n",
       "      <td id=\"T_11f27_row4_col5\" class=\"data row4 col5\" >500.000000</td>\n",
       "      <td id=\"T_11f27_row4_col6\" class=\"data row4 col6\" >Within the next year</td>\n",
       "    </tr>\n",
       "    <tr>\n",
       "      <th id=\"T_11f27_level0_row5\" class=\"row_heading level0 row5\" >5</th>\n",
       "      <td id=\"T_11f27_row5_col0\" class=\"data row5 col0\" >gemini-1.5-flash</td>\n",
       "      <td id=\"T_11f27_row5_col1\" class=\"data row5 col1\" >$100,000-250,000</td>\n",
       "      <td id=\"T_11f27_row5_col2\" class=\"data row5 col2\" >70</td>\n",
       "      <td id=\"T_11f27_row5_col3\" class=\"data row5 col3\" >phones</td>\n",
       "      <td id=\"T_11f27_row5_col4\" class=\"data row5 col4\" >No</td>\n",
       "      <td id=\"T_11f27_row5_col5\" class=\"data row5 col5\" >nan</td>\n",
       "      <td id=\"T_11f27_row5_col6\" class=\"data row5 col6\" >Within the next year</td>\n",
       "    </tr>\n",
       "    <tr>\n",
       "      <th id=\"T_11f27_level0_row6\" class=\"row_heading level0 row6\" >6</th>\n",
       "      <td id=\"T_11f27_row6_col0\" class=\"data row6 col0\" >gemini-1.5-flash</td>\n",
       "      <td id=\"T_11f27_row6_col1\" class=\"data row6 col1\" >above $250,000</td>\n",
       "      <td id=\"T_11f27_row6_col2\" class=\"data row6 col2\" >30</td>\n",
       "      <td id=\"T_11f27_row6_col3\" class=\"data row6 col3\" >electronics</td>\n",
       "      <td id=\"T_11f27_row6_col4\" class=\"data row6 col4\" >Yes</td>\n",
       "      <td id=\"T_11f27_row6_col5\" class=\"data row6 col5\" >5000.000000</td>\n",
       "      <td id=\"T_11f27_row6_col6\" class=\"data row6 col6\" >Within the next year</td>\n",
       "    </tr>\n",
       "    <tr>\n",
       "      <th id=\"T_11f27_level0_row7\" class=\"row_heading level0 row7\" >7</th>\n",
       "      <td id=\"T_11f27_row7_col0\" class=\"data row7 col0\" >gemini-1.5-flash</td>\n",
       "      <td id=\"T_11f27_row7_col1\" class=\"data row7 col1\" >above $250,000</td>\n",
       "      <td id=\"T_11f27_row7_col2\" class=\"data row7 col2\" >30</td>\n",
       "      <td id=\"T_11f27_row7_col3\" class=\"data row7 col3\" >phones</td>\n",
       "      <td id=\"T_11f27_row7_col4\" class=\"data row7 col4\" >Yes</td>\n",
       "      <td id=\"T_11f27_row7_col5\" class=\"data row7 col5\" >0.000000</td>\n",
       "      <td id=\"T_11f27_row7_col6\" class=\"data row7 col6\" >Within the next year</td>\n",
       "    </tr>\n",
       "    <tr>\n",
       "      <th id=\"T_11f27_level0_row8\" class=\"row_heading level0 row8\" >8</th>\n",
       "      <td id=\"T_11f27_row8_col0\" class=\"data row8 col0\" >gemini-1.5-flash</td>\n",
       "      <td id=\"T_11f27_row8_col1\" class=\"data row8 col1\" >above $250,000</td>\n",
       "      <td id=\"T_11f27_row8_col2\" class=\"data row8 col2\" >50</td>\n",
       "      <td id=\"T_11f27_row8_col3\" class=\"data row8 col3\" >electronics</td>\n",
       "      <td id=\"T_11f27_row8_col4\" class=\"data row8 col4\" >Yes</td>\n",
       "      <td id=\"T_11f27_row8_col5\" class=\"data row8 col5\" >15000.000000</td>\n",
       "      <td id=\"T_11f27_row8_col6\" class=\"data row8 col6\" >Within the next year</td>\n",
       "    </tr>\n",
       "    <tr>\n",
       "      <th id=\"T_11f27_level0_row9\" class=\"row_heading level0 row9\" >9</th>\n",
       "      <td id=\"T_11f27_row9_col0\" class=\"data row9 col0\" >gemini-1.5-flash</td>\n",
       "      <td id=\"T_11f27_row9_col1\" class=\"data row9 col1\" >above $250,000</td>\n",
       "      <td id=\"T_11f27_row9_col2\" class=\"data row9 col2\" >50</td>\n",
       "      <td id=\"T_11f27_row9_col3\" class=\"data row9 col3\" >phones</td>\n",
       "      <td id=\"T_11f27_row9_col4\" class=\"data row9 col4\" >Yes</td>\n",
       "      <td id=\"T_11f27_row9_col5\" class=\"data row9 col5\" >1200.000000</td>\n",
       "      <td id=\"T_11f27_row9_col6\" class=\"data row9 col6\" >Within the next year</td>\n",
       "    </tr>\n",
       "    <tr>\n",
       "      <th id=\"T_11f27_level0_row10\" class=\"row_heading level0 row10\" >10</th>\n",
       "      <td id=\"T_11f27_row10_col0\" class=\"data row10 col0\" >gemini-1.5-flash</td>\n",
       "      <td id=\"T_11f27_row10_col1\" class=\"data row10 col1\" >above $250,000</td>\n",
       "      <td id=\"T_11f27_row10_col2\" class=\"data row10 col2\" >70</td>\n",
       "      <td id=\"T_11f27_row10_col3\" class=\"data row10 col3\" >electronics</td>\n",
       "      <td id=\"T_11f27_row10_col4\" class=\"data row10 col4\" >Yes</td>\n",
       "      <td id=\"T_11f27_row10_col5\" class=\"data row10 col5\" >0.000000</td>\n",
       "      <td id=\"T_11f27_row10_col6\" class=\"data row10 col6\" >Within the next year</td>\n",
       "    </tr>\n",
       "    <tr>\n",
       "      <th id=\"T_11f27_level0_row11\" class=\"row_heading level0 row11\" >11</th>\n",
       "      <td id=\"T_11f27_row11_col0\" class=\"data row11 col0\" >gemini-1.5-flash</td>\n",
       "      <td id=\"T_11f27_row11_col1\" class=\"data row11 col1\" >above $250,000</td>\n",
       "      <td id=\"T_11f27_row11_col2\" class=\"data row11 col2\" >70</td>\n",
       "      <td id=\"T_11f27_row11_col3\" class=\"data row11 col3\" >phones</td>\n",
       "      <td id=\"T_11f27_row11_col4\" class=\"data row11 col4\" >No</td>\n",
       "      <td id=\"T_11f27_row11_col5\" class=\"data row11 col5\" >nan</td>\n",
       "      <td id=\"T_11f27_row11_col6\" class=\"data row11 col6\" >Never</td>\n",
       "    </tr>\n",
       "    <tr>\n",
       "      <th id=\"T_11f27_level0_row12\" class=\"row_heading level0 row12\" >12</th>\n",
       "      <td id=\"T_11f27_row12_col0\" class=\"data row12 col0\" >gemini-1.5-flash</td>\n",
       "      <td id=\"T_11f27_row12_col1\" class=\"data row12 col1\" >under $100,000</td>\n",
       "      <td id=\"T_11f27_row12_col2\" class=\"data row12 col2\" >30</td>\n",
       "      <td id=\"T_11f27_row12_col3\" class=\"data row12 col3\" >electronics</td>\n",
       "      <td id=\"T_11f27_row12_col4\" class=\"data row12 col4\" >Yes</td>\n",
       "      <td id=\"T_11f27_row12_col5\" class=\"data row12 col5\" >0.000000</td>\n",
       "      <td id=\"T_11f27_row12_col6\" class=\"data row12 col6\" >Within the next year</td>\n",
       "    </tr>\n",
       "    <tr>\n",
       "      <th id=\"T_11f27_level0_row13\" class=\"row_heading level0 row13\" >13</th>\n",
       "      <td id=\"T_11f27_row13_col0\" class=\"data row13 col0\" >gemini-1.5-flash</td>\n",
       "      <td id=\"T_11f27_row13_col1\" class=\"data row13 col1\" >under $100,000</td>\n",
       "      <td id=\"T_11f27_row13_col2\" class=\"data row13 col2\" >30</td>\n",
       "      <td id=\"T_11f27_row13_col3\" class=\"data row13 col3\" >phones</td>\n",
       "      <td id=\"T_11f27_row13_col4\" class=\"data row13 col4\" >No</td>\n",
       "      <td id=\"T_11f27_row13_col5\" class=\"data row13 col5\" >nan</td>\n",
       "      <td id=\"T_11f27_row13_col6\" class=\"data row13 col6\" >Within the next year</td>\n",
       "    </tr>\n",
       "    <tr>\n",
       "      <th id=\"T_11f27_level0_row14\" class=\"row_heading level0 row14\" >14</th>\n",
       "      <td id=\"T_11f27_row14_col0\" class=\"data row14 col0\" >gemini-1.5-flash</td>\n",
       "      <td id=\"T_11f27_row14_col1\" class=\"data row14 col1\" >under $100,000</td>\n",
       "      <td id=\"T_11f27_row14_col2\" class=\"data row14 col2\" >50</td>\n",
       "      <td id=\"T_11f27_row14_col3\" class=\"data row14 col3\" >electronics</td>\n",
       "      <td id=\"T_11f27_row14_col4\" class=\"data row14 col4\" >No</td>\n",
       "      <td id=\"T_11f27_row14_col5\" class=\"data row14 col5\" >nan</td>\n",
       "      <td id=\"T_11f27_row14_col6\" class=\"data row14 col6\" >Within the next year</td>\n",
       "    </tr>\n",
       "    <tr>\n",
       "      <th id=\"T_11f27_level0_row15\" class=\"row_heading level0 row15\" >15</th>\n",
       "      <td id=\"T_11f27_row15_col0\" class=\"data row15 col0\" >gemini-1.5-flash</td>\n",
       "      <td id=\"T_11f27_row15_col1\" class=\"data row15 col1\" >under $100,000</td>\n",
       "      <td id=\"T_11f27_row15_col2\" class=\"data row15 col2\" >50</td>\n",
       "      <td id=\"T_11f27_row15_col3\" class=\"data row15 col3\" >phones</td>\n",
       "      <td id=\"T_11f27_row15_col4\" class=\"data row15 col4\" >No</td>\n",
       "      <td id=\"T_11f27_row15_col5\" class=\"data row15 col5\" >nan</td>\n",
       "      <td id=\"T_11f27_row15_col6\" class=\"data row15 col6\" >Within the next year</td>\n",
       "    </tr>\n",
       "    <tr>\n",
       "      <th id=\"T_11f27_level0_row16\" class=\"row_heading level0 row16\" >16</th>\n",
       "      <td id=\"T_11f27_row16_col0\" class=\"data row16 col0\" >gemini-1.5-flash</td>\n",
       "      <td id=\"T_11f27_row16_col1\" class=\"data row16 col1\" >under $100,000</td>\n",
       "      <td id=\"T_11f27_row16_col2\" class=\"data row16 col2\" >70</td>\n",
       "      <td id=\"T_11f27_row16_col3\" class=\"data row16 col3\" >electronics</td>\n",
       "      <td id=\"T_11f27_row16_col4\" class=\"data row16 col4\" >No</td>\n",
       "      <td id=\"T_11f27_row16_col5\" class=\"data row16 col5\" >nan</td>\n",
       "      <td id=\"T_11f27_row16_col6\" class=\"data row16 col6\" >Within the next year</td>\n",
       "    </tr>\n",
       "    <tr>\n",
       "      <th id=\"T_11f27_level0_row17\" class=\"row_heading level0 row17\" >17</th>\n",
       "      <td id=\"T_11f27_row17_col0\" class=\"data row17 col0\" >gemini-1.5-flash</td>\n",
       "      <td id=\"T_11f27_row17_col1\" class=\"data row17 col1\" >under $100,000</td>\n",
       "      <td id=\"T_11f27_row17_col2\" class=\"data row17 col2\" >70</td>\n",
       "      <td id=\"T_11f27_row17_col3\" class=\"data row17 col3\" >phones</td>\n",
       "      <td id=\"T_11f27_row17_col4\" class=\"data row17 col4\" >No</td>\n",
       "      <td id=\"T_11f27_row17_col5\" class=\"data row17 col5\" >nan</td>\n",
       "      <td id=\"T_11f27_row17_col6\" class=\"data row17 col6\" >Never</td>\n",
       "    </tr>\n",
       "  </tbody>\n",
       "</table>\n",
       "\n",
       "            </div>\n",
       "            "
      ],
      "text/plain": [
       "Dataset([{'model.model': ['gemini-1.5-flash', 'gemini-1.5-flash', 'gemini-1.5-flash', 'gemini-1.5-flash', 'gemini-1.5-flash', 'gemini-1.5-flash', 'gemini-1.5-flash', 'gemini-1.5-flash', 'gemini-1.5-flash', 'gemini-1.5-flash', 'gemini-1.5-flash', 'gemini-1.5-flash', 'gemini-1.5-flash', 'gemini-1.5-flash', 'gemini-1.5-flash', 'gemini-1.5-flash', 'gemini-1.5-flash', 'gemini-1.5-flash']}, {'agent.annual_income': ['$100,000-250,000', '$100,000-250,000', '$100,000-250,000', '$100,000-250,000', '$100,000-250,000', '$100,000-250,000', 'above $250,000', 'above $250,000', 'above $250,000', 'above $250,000', 'above $250,000', 'above $250,000', 'under $100,000', 'under $100,000', 'under $100,000', 'under $100,000', 'under $100,000', 'under $100,000']}, {'agent.age': [30, 30, 50, 50, 70, 70, 30, 30, 50, 50, 70, 70, 30, 30, 50, 50, 70, 70]}, {'scenario.item': ['electronics', 'phones', 'electronics', 'phones', 'electronics', 'phones', 'electronics', 'phones', 'electronics', 'phones', 'electronics', 'phones', 'electronics', 'phones', 'electronics', 'phones', 'electronics', 'phones']}, {'answer.recent_purchase': ['Yes', 'Yes', 'Yes', 'Yes', 'Yes', 'No', 'Yes', 'Yes', 'Yes', 'Yes', 'Yes', 'No', 'Yes', 'No', 'No', 'No', 'No', 'No']}, {'answer.amount': [2500, 1200, 2500, 1200, 500, None, 5000, 0, 15000, 1200, 0, None, 0, None, None, None, None, None]}, {'answer.next_purchase': ['Within the next year', 'Within the next year', 'Within the next year', 'Within the next year', 'Within the next year', 'Within the next year', 'Within the next year', 'Within the next year', 'Within the next year', 'Within the next year', 'Within the next year', 'Never', 'Within the next year', 'Within the next year', 'Within the next year', 'Within the next year', 'Within the next year', 'Never']}])"
      ]
     },
     "execution_count": 9,
     "metadata": {},
     "output_type": "execute_result"
    }
   ],
   "source": [
    "(\n",
    "    results\n",
    "    .sort_by(\"annual_income\", \"age\", \"item\")\n",
    "    .select(\"model\", \"annual_income\", \"age\", \"item\", \"recent_purchase\", \"amount\", \"next_purchase\")\n",
    ")"
   ]
  },
  {
   "cell_type": "markdown",
   "id": "c0ff3475-32b7-4f69-afcb-187d7940f8cb",
   "metadata": {
    "editable": true,
    "slideshow": {
     "slide_type": ""
    },
    "tags": []
   },
   "source": [
    "## Example 2\n",
    "In the next example, we use the same scenarios to create versions of the questions *before we combine them in a survey*.\n",
    "This allows us to add a skip rule based on a question/scenario combination, as opposed to skipping a question for all scenarios:"
   ]
  },
  {
   "cell_type": "code",
   "execution_count": 10,
   "id": "d5403d2b-5a6f-42e0-914f-7bbfbad770a7",
   "metadata": {
    "editable": true,
    "slideshow": {
     "slide_type": ""
    },
    "tags": []
   },
   "outputs": [],
   "source": [
    "q1 = QuestionYesNo(\n",
    "    question_name = \"recent_purchase_{{ item }}\",\n",
    "    question_text = \"In the last year have you or anyone in your household purchased any {{ item }}?\",\n",
    ")\n",
    "\n",
    "q2 = QuestionNumerical(\n",
    "    question_name = \"amount_{{ item }}\",\n",
    "    question_text = \"In the last year, how much did your household spend on {{ item }} (in USD)?\"\n",
    ")\n",
    "\n",
    "q3 = QuestionMultipleChoice(\n",
    "    question_name = \"next_purchase_{{ item }}\",\n",
    "    question_text = \"When do you next expect to purchase {{ item }}?\", \n",
    "    question_options = [\n",
    "        \"Never\",\n",
    "        \"Within the next month\",\n",
    "        \"Within the next year\",\n",
    "        \"I do not know\"\n",
    "    ]\n",
    ")"
   ]
  },
  {
   "cell_type": "code",
   "execution_count": 11,
   "id": "4f4ed1df-a053-4991-b05b-38df8258bb21",
   "metadata": {
    "editable": true,
    "slideshow": {
     "slide_type": ""
    },
    "tags": []
   },
   "outputs": [
    {
     "data": {
      "text/plain": [
       "[Question('yes_no', question_name = \"\"\"recent_purchase_electronics\"\"\", question_text = \"\"\"In the last year have you or anyone in your household purchased any electronics?\"\"\", question_options = ['No', 'Yes']),\n",
       " Question('yes_no', question_name = \"\"\"recent_purchase_phones\"\"\", question_text = \"\"\"In the last year have you or anyone in your household purchased any phones?\"\"\", question_options = ['No', 'Yes']),\n",
       " Question('numerical', question_name = \"\"\"amount_electronics\"\"\", question_text = \"\"\"In the last year, how much did your household spend on electronics (in USD)?\"\"\", min_value = None, max_value = None),\n",
       " Question('numerical', question_name = \"\"\"amount_phones\"\"\", question_text = \"\"\"In the last year, how much did your household spend on phones (in USD)?\"\"\", min_value = None, max_value = None),\n",
       " Question('multiple_choice', question_name = \"\"\"next_purchase_electronics\"\"\", question_text = \"\"\"When do you next expect to purchase electronics?\"\"\", question_options = ['Never', 'Within the next month', 'Within the next year', 'I do not know']),\n",
       " Question('multiple_choice', question_name = \"\"\"next_purchase_phones\"\"\", question_text = \"\"\"When do you next expect to purchase phones?\"\"\", question_options = ['Never', 'Within the next month', 'Within the next year', 'I do not know'])]"
      ]
     },
     "execution_count": 11,
     "metadata": {},
     "output_type": "execute_result"
    }
   ],
   "source": [
    "questions = q1.loop(s) + q2.loop(s) + q3.loop(s)\n",
    "questions"
   ]
  },
  {
   "cell_type": "markdown",
   "id": "f6d68b14-4d9c-4b53-a0e7-08fbc9a46e3c",
   "metadata": {
    "editable": true,
    "slideshow": {
     "slide_type": ""
    },
    "tags": []
   },
   "source": [
    "Combine the questions in a survey to administer them together:"
   ]
  },
  {
   "cell_type": "code",
   "execution_count": 12,
   "id": "a21df018-9f73-41f6-8c90-973032129882",
   "metadata": {
    "editable": true,
    "slideshow": {
     "slide_type": ""
    },
    "tags": []
   },
   "outputs": [],
   "source": [
    "survey = Survey(questions)"
   ]
  },
  {
   "cell_type": "markdown",
   "id": "5ec1b4ab-5a7b-4d47-95ec-6f0f851c4eeb",
   "metadata": {
    "editable": true,
    "slideshow": {
     "slide_type": ""
    },
    "tags": []
   },
   "source": [
    "Here we add different rules specifying that questions with one scenario (phones) should be administered or skipped based on the answer to a question with another scenario (electronics):"
   ]
  },
  {
   "cell_type": "code",
   "execution_count": 13,
   "id": "68935294-5fe4-4dbb-acdb-3786033e8788",
   "metadata": {
    "editable": true,
    "slideshow": {
     "slide_type": ""
    },
    "tags": []
   },
   "outputs": [],
   "source": [
    "survey = (\n",
    "    survey\n",
    "    .add_skip_rule(\"recent_purchase_phones\", \"recent_purchase_electronics == 'No'\")\n",
    "    .add_skip_rule(\"amount_phones\", \"recent_purchase_electronics == 'No'\")\n",
    "    .add_skip_rule(\"next_purchase_phones\", \"recent_purchase_electronics == 'No'\")\n",
    ")"
   ]
  },
  {
   "cell_type": "markdown",
   "id": "c6926d5a-7448-4028-9494-44915bc331ca",
   "metadata": {
    "editable": true,
    "slideshow": {
     "slide_type": ""
    },
    "tags": []
   },
   "source": [
    "Run the survey with the scenarios, agents and model:"
   ]
  },
  {
   "cell_type": "code",
   "execution_count": 14,
   "id": "04bf5f89-1ed0-4d3f-a79a-a4f3bc219d7e",
   "metadata": {
    "editable": true,
    "slideshow": {
     "slide_type": ""
    },
    "tags": []
   },
   "outputs": [
    {
     "data": {
      "text/html": [
       "\n",
       "            <!-- #region Remove Inference Info -->\n",
       "            <div id=\"logger-10cdd3e3-6941-4a5a-a736-3fe5e746ba14\" class=\"job-logger\">\n",
       "                <div class=\"job-logger-header\">\n",
       "                    <span>\n",
       "                        <span id=\"arrow-10cdd3e3-6941-4a5a-a736-3fe5e746ba14\">▼</span> \n",
       "                        Job Status (2024-12-28 15:24:56)\n",
       "                    </span>\n",
       "                </div>\n",
       "                <div id=\"content-10cdd3e3-6941-4a5a-a736-3fe5e746ba14\" style=\"display: block;\">\n",
       "                    <table class=\"job-logger-table\">\n",
       "                        \n",
       "            <tr>\n",
       "                <td class=\"job-logger-cell job-logger-label\">Job UUID</td>\n",
       "                <td class=\"job-logger-cell job-logger-value\">f58d69cd-7cd8-463b-ba7c-c0bca9e952c2</td>\n",
       "            </tr>\n",
       "        \n",
       "            <tr>\n",
       "                <td class=\"job-logger-cell job-logger-label\">Progress Bar URL</td>\n",
       "                <td class=\"job-logger-cell job-logger-value\"><a href=\"https://www.expectedparrot.com/home/remote-job-progress/f58d69cd-7cd8-463b-ba7c-c0bca9e952c2\" target=\"_blank\" class=\"job-logger-link\">https://www.expectedparrot.com/home/remote-job-progress/f58d69cd-7cd8-463b-ba7c-c0bca9e952c2</a></td>\n",
       "            </tr>\n",
       "        \n",
       "            <tr>\n",
       "                <td class=\"job-logger-cell job-logger-label\">Error Report URL</td>\n",
       "                <td class=\"job-logger-cell job-logger-value\"><a href=\"https://www.expectedparrot.com/home/remote-inference/error/c470ca6b-310d-4e83-8fa0-08b71f979cfd\" target=\"_blank\" class=\"job-logger-link\">https://www.expectedparrot.com/home/remote-inference/error/c470ca6b-310d-4e83-8fa0-08b71f979cfd</a></td>\n",
       "            </tr>\n",
       "        \n",
       "            <tr>\n",
       "                <td class=\"job-logger-cell job-logger-label\">Results UUID</td>\n",
       "                <td class=\"job-logger-cell job-logger-value\">3cd20420-37be-4e20-8baf-137b5d2211b0</td>\n",
       "            </tr>\n",
       "        \n",
       "            <tr>\n",
       "                <td class=\"job-logger-cell job-logger-label\">Results URL</td>\n",
       "                <td class=\"job-logger-cell job-logger-value\">None</td>\n",
       "            </tr>\n",
       "        \n",
       "                    </table>\n",
       "                    \n",
       "                <div class=\"job-logger-status\">\n",
       "                    <span style=\"margin-right: 8px;\" class=\"job-logger-success\">✓</span><strong>Current Status:</strong> Job completed and Results stored on Coop: <a href=\"https://www.expectedparrot.com/content/3cd20420-37be-4e20-8baf-137b5d2211b0\" target=\"_blank\" class=\"job-logger-link\">https://www.expectedparrot.com/content/3cd20420-37be-4e20-8baf-137b5d2211b0</a>\n",
       "                </div>\n",
       "            \n",
       "                </div>\n",
       "            </div>\n",
       "            <!-- # endregion -->\n",
       "        "
      ],
      "text/plain": [
       "<IPython.core.display.HTML object>"
      ]
     },
     "metadata": {},
     "output_type": "display_data"
    },
    {
     "data": {
      "text/html": [
       "\n",
       "        <style>\n",
       "            /* Base theme variables */\n",
       "            :root {\n",
       "                --jl-bg-primary: #ffffff;\n",
       "                --jl-bg-secondary: #f5f5f5;\n",
       "                --jl-border-color: #e0e0e0;\n",
       "                --jl-text-primary: #24292e;\n",
       "                --jl-text-secondary: #586069;\n",
       "                --jl-link-color: #0366d6;\n",
       "                --jl-success-color: #28a745;\n",
       "                --jl-error-color: #d73a49;\n",
       "                --jl-header-bg: #f1f1f1;\n",
       "            }\n",
       "            \n",
       "            /* Dark theme variables */\n",
       "            .theme-dark {\n",
       "                --jl-bg-primary: #1e1e1e;\n",
       "                --jl-bg-secondary: #252526;\n",
       "                --jl-border-color: #2d2d2d;\n",
       "                --jl-text-primary: #cccccc;\n",
       "                --jl-text-secondary: #999999;\n",
       "                --jl-link-color: #4e94ce;\n",
       "                --jl-success-color: #89d185;\n",
       "                --jl-error-color: #f14c4c;\n",
       "                --jl-header-bg: #333333;\n",
       "            }\n",
       "\n",
       "            /* High contrast theme variables */\n",
       "            .theme-high-contrast {\n",
       "                --jl-bg-primary: #000000;\n",
       "                --jl-bg-secondary: #1a1a1a;\n",
       "                --jl-border-color: #404040;\n",
       "                --jl-text-primary: #ffffff;\n",
       "                --jl-text-secondary: #cccccc;\n",
       "                --jl-link-color: #66b3ff;\n",
       "                --jl-success-color: #00ff00;\n",
       "                --jl-error-color: #ff0000;\n",
       "                --jl-header-bg: #262626;\n",
       "            }\n",
       "            \n",
       "            .job-logger {\n",
       "                font-family: system-ui, -apple-system, sans-serif;\n",
       "                max-width: 800px;\n",
       "                margin: 10px 0;\n",
       "                color: var(--jl-text-primary);\n",
       "                box-shadow: 0 1px 3px rgba(0,0,0,0.12);\n",
       "                border-radius: 4px;\n",
       "                overflow: hidden;\n",
       "            }\n",
       "            \n",
       "            .job-logger-header {\n",
       "                padding: 12px 16px;\n",
       "                background: var(--jl-header-bg);\n",
       "                border: none;\n",
       "                border-radius: 4px 4px 0 0;\n",
       "                cursor: pointer;\n",
       "                color: var(--jl-text-primary);\n",
       "                user-select: none;\n",
       "                font-weight: 500;\n",
       "                letter-spacing: 0.3px;\n",
       "                display: flex;\n",
       "                justify-content: space-between;\n",
       "                align-items: center;\n",
       "            }\n",
       "            \n",
       "            .theme-select {\n",
       "                padding: 4px 8px;\n",
       "                border-radius: 4px;\n",
       "                border: 1px solid var(--jl-border-color);\n",
       "                background: var(--jl-bg-primary);\n",
       "                color: var(--jl-text-primary);\n",
       "                font-size: 0.9em;\n",
       "            }\n",
       "            \n",
       "            .job-logger-table {\n",
       "                width: 100%;\n",
       "                border-collapse: separate;\n",
       "                border-spacing: 0;\n",
       "                background: var(--jl-bg-primary);\n",
       "                border: 1px solid var(--jl-border-color);\n",
       "                margin-top: -1px;\n",
       "            }\n",
       "            \n",
       "            .job-logger-cell {\n",
       "                padding: 12px 16px;\n",
       "                border-bottom: 1px solid var(--jl-border-color);\n",
       "                line-height: 1.4;\n",
       "            }\n",
       "            \n",
       "            .job-logger-label {\n",
       "                font-weight: 500;\n",
       "                color: var(--jl-text-primary);\n",
       "                width: 25%;\n",
       "                background: var(--jl-bg-secondary);\n",
       "            }\n",
       "            \n",
       "            .job-logger-value {\n",
       "                color: var(--jl-text-secondary);\n",
       "                word-break: break-word;\n",
       "            }\n",
       "            \n",
       "            .job-logger-status {\n",
       "                margin: 0;\n",
       "                padding: 12px 16px;\n",
       "                background-color: var(--jl-bg-secondary);\n",
       "                border: 1px solid var(--jl-border-color);\n",
       "                border-top: none;\n",
       "                border-radius: 0 0 4px 4px;\n",
       "                color: var(--jl-text-primary);\n",
       "                font-size: 0.95em;\n",
       "            }\n",
       "        </style>\n",
       "        \n",
       "        <script>\n",
       "            class ThemeManager {\n",
       "                constructor(logId, initialTheme = 'auto') {\n",
       "                    this.logId = logId;\n",
       "                    this.currentTheme = initialTheme;\n",
       "                    this.darkModeMediaQuery = window.matchMedia('(prefers-color-scheme: dark)');\n",
       "                    this.init();\n",
       "                }\n",
       "                \n",
       "                init() {\n",
       "                    this.setupThemeSwitcher();\n",
       "                    this.updateTheme(this.currentTheme);\n",
       "                    \n",
       "                    this.darkModeMediaQuery.addListener(() => {\n",
       "                        if (this.currentTheme === 'auto') {\n",
       "                            this.updateTheme('auto');\n",
       "                        }\n",
       "                    });\n",
       "                }\n",
       "                \n",
       "                setupThemeSwitcher() {\n",
       "                    const logger = document.querySelector(`#logger-${this.logId}`);\n",
       "                    if (!logger) return;\n",
       "                    \n",
       "                    const switcher = document.createElement('div');\n",
       "                    switcher.className = 'theme-switcher';\n",
       "                    switcher.innerHTML = `\n",
       "                        <select id=\"theme-select-${this.logId}\" class=\"theme-select\">\n",
       "                            <option value=\"auto\">Auto</option>\n",
       "                            <option value=\"light\">Light</option>\n",
       "                            <option value=\"dark\">Dark</option>\n",
       "                            <option value=\"high-contrast\">High Contrast</option>\n",
       "                        </select>\n",
       "                    `;\n",
       "                    \n",
       "                    const header = logger.querySelector('.job-logger-header');\n",
       "                    header.appendChild(switcher);\n",
       "                    \n",
       "                    const select = switcher.querySelector('select');\n",
       "                    select.value = this.currentTheme;\n",
       "                    select.addEventListener('change', (e) => {\n",
       "                        this.updateTheme(e.target.value);\n",
       "                    });\n",
       "                }\n",
       "                \n",
       "                updateTheme(theme) {\n",
       "                    const logger = document.querySelector(`#logger-${this.logId}`);\n",
       "                    if (!logger) return;\n",
       "                    \n",
       "                    this.currentTheme = theme;\n",
       "                    \n",
       "                    logger.classList.remove('theme-light', 'theme-dark', 'theme-high-contrast');\n",
       "                    \n",
       "                    if (theme === 'auto') {\n",
       "                        const isDark = this.darkModeMediaQuery.matches;\n",
       "                        logger.classList.add(isDark ? 'theme-dark' : 'theme-light');\n",
       "                    } else {\n",
       "                        logger.classList.add(`theme-${theme}`);\n",
       "                    }\n",
       "                    \n",
       "                    try {\n",
       "                        localStorage.setItem('jobLoggerTheme', theme);\n",
       "                    } catch (e) {\n",
       "                        console.warn('Unable to save theme preference:', e);\n",
       "                    }\n",
       "                }\n",
       "            }\n",
       "            \n",
       "            window.initThemeManager = (logId, initialTheme) => {\n",
       "                new ThemeManager(logId, initialTheme);\n",
       "            };\n",
       "        </script>\n",
       "        \n",
       "        <script>\n",
       "            document.addEventListener('DOMContentLoaded', () => {\n",
       "                window.initThemeManager('10cdd3e3-6941-4a5a-a736-3fe5e746ba14', 'auto');\n",
       "            });\n",
       "        </script>\n",
       "        "
      ],
      "text/plain": [
       "<IPython.core.display.HTML object>"
      ]
     },
     "metadata": {},
     "output_type": "display_data"
    }
   ],
   "source": [
    "results = survey.by(a).by(m).run()"
   ]
  },
  {
   "cell_type": "markdown",
   "id": "1a532e9e-53cf-40d3-b7cf-4ff523a5db46",
   "metadata": {
    "editable": true,
    "slideshow": {
     "slide_type": ""
    },
    "tags": []
   },
   "source": [
    "There is no \"scenario\" field in results because the scenarios were already added to questions:"
   ]
  },
  {
   "cell_type": "code",
   "execution_count": 15,
   "id": "b29519d9-8d4a-4c6f-806e-6da779482b04",
   "metadata": {
    "editable": true,
    "slideshow": {
     "slide_type": ""
    },
    "tags": []
   },
   "outputs": [
    {
     "data": {
      "text/html": [
       "\n",
       "            <div style=\"max-height: 500px; overflow-y: auto;\">\n",
       "                <style type=\"text/css\">\n",
       "#T_f44de_row0_col0, #T_f44de_row0_col1, #T_f44de_row0_col3, #T_f44de_row0_col5, #T_f44de_row0_col6, #T_f44de_row0_col8, #T_f44de_row1_col0, #T_f44de_row1_col1, #T_f44de_row1_col3, #T_f44de_row1_col5, #T_f44de_row1_col6, #T_f44de_row1_col8, #T_f44de_row2_col0, #T_f44de_row2_col1, #T_f44de_row2_col3, #T_f44de_row2_col5, #T_f44de_row2_col6, #T_f44de_row2_col8, #T_f44de_row3_col0, #T_f44de_row3_col1, #T_f44de_row3_col3, #T_f44de_row3_col5, #T_f44de_row3_col6, #T_f44de_row3_col8, #T_f44de_row4_col0, #T_f44de_row4_col1, #T_f44de_row4_col3, #T_f44de_row4_col5, #T_f44de_row4_col6, #T_f44de_row4_col8, #T_f44de_row5_col0, #T_f44de_row5_col1, #T_f44de_row5_col3, #T_f44de_row5_col5, #T_f44de_row5_col6, #T_f44de_row5_col8, #T_f44de_row6_col0, #T_f44de_row6_col1, #T_f44de_row6_col3, #T_f44de_row6_col5, #T_f44de_row6_col6, #T_f44de_row6_col8, #T_f44de_row7_col0, #T_f44de_row7_col1, #T_f44de_row7_col3, #T_f44de_row7_col5, #T_f44de_row7_col6, #T_f44de_row7_col8, #T_f44de_row8_col0, #T_f44de_row8_col1, #T_f44de_row8_col3, #T_f44de_row8_col5, #T_f44de_row8_col6, #T_f44de_row8_col8 {\n",
       "  text-align: left;\n",
       "}\n",
       "#T_f44de_row0_col2, #T_f44de_row3_col2, #T_f44de_row3_col7, #T_f44de_row5_col4, #T_f44de_row5_col7, #T_f44de_row6_col2, #T_f44de_row6_col4, #T_f44de_row8_col4 {\n",
       "  text-align: left;\n",
       "  background-color: #fff7fb;\n",
       "  color: #000000;\n",
       "}\n",
       "#T_f44de_row0_col4, #T_f44de_row1_col4 {\n",
       "  text-align: left;\n",
       "  background-color: #e3e0ee;\n",
       "  color: #000000;\n",
       "}\n",
       "#T_f44de_row0_col7, #T_f44de_row1_col7, #T_f44de_row2_col2, #T_f44de_row2_col7, #T_f44de_row4_col4, #T_f44de_row4_col7, #T_f44de_row5_col2, #T_f44de_row8_col2 {\n",
       "  text-align: left;\n",
       "  background-color: #023858;\n",
       "  color: #f1f1f1;\n",
       "}\n",
       "#T_f44de_row1_col2, #T_f44de_row4_col2, #T_f44de_row6_col7, #T_f44de_row7_col2 {\n",
       "  text-align: left;\n",
       "  background-color: #73a9cf;\n",
       "  color: #f1f1f1;\n",
       "}\n",
       "#T_f44de_row2_col4 {\n",
       "  text-align: left;\n",
       "  background-color: #faf3f9;\n",
       "  color: #000000;\n",
       "}\n",
       "#T_f44de_row3_col4 {\n",
       "  text-align: left;\n",
       "  background-color: #b4c4df;\n",
       "  color: #000000;\n",
       "}\n",
       "#T_f44de_row7_col4, #T_f44de_row7_col7, #T_f44de_row8_col7 {\n",
       "  text-align: left;\n",
       "  background-color: #000000;\n",
       "  color: #f1f1f1;\n",
       "}\n",
       "</style>\n",
       "<table id=\"T_f44de\">\n",
       "  <thead>\n",
       "    <tr>\n",
       "      <th class=\"blank level0\" >&nbsp;</th>\n",
       "      <th id=\"T_f44de_level0_col0\" class=\"col_heading level0 col0\" >model.model</th>\n",
       "      <th id=\"T_f44de_level0_col1\" class=\"col_heading level0 col1\" >agent.annual_income</th>\n",
       "      <th id=\"T_f44de_level0_col2\" class=\"col_heading level0 col2\" >agent.age</th>\n",
       "      <th id=\"T_f44de_level0_col3\" class=\"col_heading level0 col3\" >answer.recent_purchase_electronics</th>\n",
       "      <th id=\"T_f44de_level0_col4\" class=\"col_heading level0 col4\" >answer.amount_electronics</th>\n",
       "      <th id=\"T_f44de_level0_col5\" class=\"col_heading level0 col5\" >answer.next_purchase_electronics</th>\n",
       "      <th id=\"T_f44de_level0_col6\" class=\"col_heading level0 col6\" >answer.recent_purchase_phones</th>\n",
       "      <th id=\"T_f44de_level0_col7\" class=\"col_heading level0 col7\" >answer.amount_phones</th>\n",
       "      <th id=\"T_f44de_level0_col8\" class=\"col_heading level0 col8\" >answer.next_purchase_phones</th>\n",
       "    </tr>\n",
       "  </thead>\n",
       "  <tbody>\n",
       "    <tr>\n",
       "      <th id=\"T_f44de_level0_row0\" class=\"row_heading level0 row0\" >0</th>\n",
       "      <td id=\"T_f44de_row0_col0\" class=\"data row0 col0\" >gemini-1.5-flash</td>\n",
       "      <td id=\"T_f44de_row0_col1\" class=\"data row0 col1\" >$100,000-250,000</td>\n",
       "      <td id=\"T_f44de_row0_col2\" class=\"data row0 col2\" >30</td>\n",
       "      <td id=\"T_f44de_row0_col3\" class=\"data row0 col3\" >Yes</td>\n",
       "      <td id=\"T_f44de_row0_col4\" class=\"data row0 col4\" >2500.000000</td>\n",
       "      <td id=\"T_f44de_row0_col5\" class=\"data row0 col5\" >Within the next year</td>\n",
       "      <td id=\"T_f44de_row0_col6\" class=\"data row0 col6\" >Yes</td>\n",
       "      <td id=\"T_f44de_row0_col7\" class=\"data row0 col7\" >1200.000000</td>\n",
       "      <td id=\"T_f44de_row0_col8\" class=\"data row0 col8\" >Within the next year</td>\n",
       "    </tr>\n",
       "    <tr>\n",
       "      <th id=\"T_f44de_level0_row1\" class=\"row_heading level0 row1\" >1</th>\n",
       "      <td id=\"T_f44de_row1_col0\" class=\"data row1 col0\" >gemini-1.5-flash</td>\n",
       "      <td id=\"T_f44de_row1_col1\" class=\"data row1 col1\" >$100,000-250,000</td>\n",
       "      <td id=\"T_f44de_row1_col2\" class=\"data row1 col2\" >50</td>\n",
       "      <td id=\"T_f44de_row1_col3\" class=\"data row1 col3\" >Yes</td>\n",
       "      <td id=\"T_f44de_row1_col4\" class=\"data row1 col4\" >2500.000000</td>\n",
       "      <td id=\"T_f44de_row1_col5\" class=\"data row1 col5\" >Within the next year</td>\n",
       "      <td id=\"T_f44de_row1_col6\" class=\"data row1 col6\" >Yes</td>\n",
       "      <td id=\"T_f44de_row1_col7\" class=\"data row1 col7\" >1200.000000</td>\n",
       "      <td id=\"T_f44de_row1_col8\" class=\"data row1 col8\" >Within the next year</td>\n",
       "    </tr>\n",
       "    <tr>\n",
       "      <th id=\"T_f44de_level0_row2\" class=\"row_heading level0 row2\" >2</th>\n",
       "      <td id=\"T_f44de_row2_col0\" class=\"data row2 col0\" >gemini-1.5-flash</td>\n",
       "      <td id=\"T_f44de_row2_col1\" class=\"data row2 col1\" >$100,000-250,000</td>\n",
       "      <td id=\"T_f44de_row2_col2\" class=\"data row2 col2\" >70</td>\n",
       "      <td id=\"T_f44de_row2_col3\" class=\"data row2 col3\" >Yes</td>\n",
       "      <td id=\"T_f44de_row2_col4\" class=\"data row2 col4\" >500.000000</td>\n",
       "      <td id=\"T_f44de_row2_col5\" class=\"data row2 col5\" >Within the next year</td>\n",
       "      <td id=\"T_f44de_row2_col6\" class=\"data row2 col6\" >No</td>\n",
       "      <td id=\"T_f44de_row2_col7\" class=\"data row2 col7\" >1200.000000</td>\n",
       "      <td id=\"T_f44de_row2_col8\" class=\"data row2 col8\" >Within the next year</td>\n",
       "    </tr>\n",
       "    <tr>\n",
       "      <th id=\"T_f44de_level0_row3\" class=\"row_heading level0 row3\" >3</th>\n",
       "      <td id=\"T_f44de_row3_col0\" class=\"data row3 col0\" >gemini-1.5-flash</td>\n",
       "      <td id=\"T_f44de_row3_col1\" class=\"data row3 col1\" >above $250,000</td>\n",
       "      <td id=\"T_f44de_row3_col2\" class=\"data row3 col2\" >30</td>\n",
       "      <td id=\"T_f44de_row3_col3\" class=\"data row3 col3\" >Yes</td>\n",
       "      <td id=\"T_f44de_row3_col4\" class=\"data row3 col4\" >5000.000000</td>\n",
       "      <td id=\"T_f44de_row3_col5\" class=\"data row3 col5\" >Within the next year</td>\n",
       "      <td id=\"T_f44de_row3_col6\" class=\"data row3 col6\" >Yes</td>\n",
       "      <td id=\"T_f44de_row3_col7\" class=\"data row3 col7\" >0.000000</td>\n",
       "      <td id=\"T_f44de_row3_col8\" class=\"data row3 col8\" >Within the next year</td>\n",
       "    </tr>\n",
       "    <tr>\n",
       "      <th id=\"T_f44de_level0_row4\" class=\"row_heading level0 row4\" >4</th>\n",
       "      <td id=\"T_f44de_row4_col0\" class=\"data row4 col0\" >gemini-1.5-flash</td>\n",
       "      <td id=\"T_f44de_row4_col1\" class=\"data row4 col1\" >above $250,000</td>\n",
       "      <td id=\"T_f44de_row4_col2\" class=\"data row4 col2\" >50</td>\n",
       "      <td id=\"T_f44de_row4_col3\" class=\"data row4 col3\" >Yes</td>\n",
       "      <td id=\"T_f44de_row4_col4\" class=\"data row4 col4\" >15000.000000</td>\n",
       "      <td id=\"T_f44de_row4_col5\" class=\"data row4 col5\" >Within the next year</td>\n",
       "      <td id=\"T_f44de_row4_col6\" class=\"data row4 col6\" >Yes</td>\n",
       "      <td id=\"T_f44de_row4_col7\" class=\"data row4 col7\" >1200.000000</td>\n",
       "      <td id=\"T_f44de_row4_col8\" class=\"data row4 col8\" >Within the next year</td>\n",
       "    </tr>\n",
       "    <tr>\n",
       "      <th id=\"T_f44de_level0_row5\" class=\"row_heading level0 row5\" >5</th>\n",
       "      <td id=\"T_f44de_row5_col0\" class=\"data row5 col0\" >gemini-1.5-flash</td>\n",
       "      <td id=\"T_f44de_row5_col1\" class=\"data row5 col1\" >above $250,000</td>\n",
       "      <td id=\"T_f44de_row5_col2\" class=\"data row5 col2\" >70</td>\n",
       "      <td id=\"T_f44de_row5_col3\" class=\"data row5 col3\" >Yes</td>\n",
       "      <td id=\"T_f44de_row5_col4\" class=\"data row5 col4\" >0.000000</td>\n",
       "      <td id=\"T_f44de_row5_col5\" class=\"data row5 col5\" >Within the next year</td>\n",
       "      <td id=\"T_f44de_row5_col6\" class=\"data row5 col6\" >No</td>\n",
       "      <td id=\"T_f44de_row5_col7\" class=\"data row5 col7\" >0.000000</td>\n",
       "      <td id=\"T_f44de_row5_col8\" class=\"data row5 col8\" >Never</td>\n",
       "    </tr>\n",
       "    <tr>\n",
       "      <th id=\"T_f44de_level0_row6\" class=\"row_heading level0 row6\" >6</th>\n",
       "      <td id=\"T_f44de_row6_col0\" class=\"data row6 col0\" >gemini-1.5-flash</td>\n",
       "      <td id=\"T_f44de_row6_col1\" class=\"data row6 col1\" >under $100,000</td>\n",
       "      <td id=\"T_f44de_row6_col2\" class=\"data row6 col2\" >30</td>\n",
       "      <td id=\"T_f44de_row6_col3\" class=\"data row6 col3\" >Yes</td>\n",
       "      <td id=\"T_f44de_row6_col4\" class=\"data row6 col4\" >0.000000</td>\n",
       "      <td id=\"T_f44de_row6_col5\" class=\"data row6 col5\" >Within the next year</td>\n",
       "      <td id=\"T_f44de_row6_col6\" class=\"data row6 col6\" >No</td>\n",
       "      <td id=\"T_f44de_row6_col7\" class=\"data row6 col7\" >600.000000</td>\n",
       "      <td id=\"T_f44de_row6_col8\" class=\"data row6 col8\" >Within the next year</td>\n",
       "    </tr>\n",
       "    <tr>\n",
       "      <th id=\"T_f44de_level0_row7\" class=\"row_heading level0 row7\" >7</th>\n",
       "      <td id=\"T_f44de_row7_col0\" class=\"data row7 col0\" >gemini-1.5-flash</td>\n",
       "      <td id=\"T_f44de_row7_col1\" class=\"data row7 col1\" >under $100,000</td>\n",
       "      <td id=\"T_f44de_row7_col2\" class=\"data row7 col2\" >50</td>\n",
       "      <td id=\"T_f44de_row7_col3\" class=\"data row7 col3\" >No</td>\n",
       "      <td id=\"T_f44de_row7_col4\" class=\"data row7 col4\" >nan</td>\n",
       "      <td id=\"T_f44de_row7_col5\" class=\"data row7 col5\" >Within the next year</td>\n",
       "      <td id=\"T_f44de_row7_col6\" class=\"data row7 col6\" >nan</td>\n",
       "      <td id=\"T_f44de_row7_col7\" class=\"data row7 col7\" >nan</td>\n",
       "      <td id=\"T_f44de_row7_col8\" class=\"data row7 col8\" >nan</td>\n",
       "    </tr>\n",
       "    <tr>\n",
       "      <th id=\"T_f44de_level0_row8\" class=\"row_heading level0 row8\" >8</th>\n",
       "      <td id=\"T_f44de_row8_col0\" class=\"data row8 col0\" >gemini-1.5-flash</td>\n",
       "      <td id=\"T_f44de_row8_col1\" class=\"data row8 col1\" >under $100,000</td>\n",
       "      <td id=\"T_f44de_row8_col2\" class=\"data row8 col2\" >70</td>\n",
       "      <td id=\"T_f44de_row8_col3\" class=\"data row8 col3\" >No</td>\n",
       "      <td id=\"T_f44de_row8_col4\" class=\"data row8 col4\" >0.000000</td>\n",
       "      <td id=\"T_f44de_row8_col5\" class=\"data row8 col5\" >Within the next year</td>\n",
       "      <td id=\"T_f44de_row8_col6\" class=\"data row8 col6\" >nan</td>\n",
       "      <td id=\"T_f44de_row8_col7\" class=\"data row8 col7\" >nan</td>\n",
       "      <td id=\"T_f44de_row8_col8\" class=\"data row8 col8\" >nan</td>\n",
       "    </tr>\n",
       "  </tbody>\n",
       "</table>\n",
       "\n",
       "            </div>\n",
       "            "
      ],
      "text/plain": [
       "Dataset([{'model.model': ['gemini-1.5-flash', 'gemini-1.5-flash', 'gemini-1.5-flash', 'gemini-1.5-flash', 'gemini-1.5-flash', 'gemini-1.5-flash', 'gemini-1.5-flash', 'gemini-1.5-flash', 'gemini-1.5-flash']}, {'agent.annual_income': ['$100,000-250,000', '$100,000-250,000', '$100,000-250,000', 'above $250,000', 'above $250,000', 'above $250,000', 'under $100,000', 'under $100,000', 'under $100,000']}, {'agent.age': [30, 50, 70, 30, 50, 70, 30, 50, 70]}, {'answer.recent_purchase_electronics': ['Yes', 'Yes', 'Yes', 'Yes', 'Yes', 'Yes', 'Yes', 'No', 'No']}, {'answer.amount_electronics': [2500, 2500, 500, 5000, 15000, 0, 0, None, 0]}, {'answer.next_purchase_electronics': ['Within the next year', 'Within the next year', 'Within the next year', 'Within the next year', 'Within the next year', 'Within the next year', 'Within the next year', 'Within the next year', 'Within the next year']}, {'answer.recent_purchase_phones': ['Yes', 'Yes', 'No', 'Yes', 'Yes', 'No', 'No', None, None]}, {'answer.amount_phones': [1200, 1200, 1200, 0, 1200, 0, 600, None, None]}, {'answer.next_purchase_phones': ['Within the next year', 'Within the next year', 'Within the next year', 'Within the next year', 'Within the next year', 'Never', 'Within the next year', None, None]}])"
      ]
     },
     "execution_count": 15,
     "metadata": {},
     "output_type": "execute_result"
    }
   ],
   "source": [
    "(\n",
    "    results\n",
    "    .sort_by(\"annual_income\", \"age\")\n",
    "    .select(\"model\", \"annual_income\", \"age\", \"recent_purchase_electronics\", \"amount_electronics\", \"next_purchase_electronics\", \"recent_purchase_phones\", \"amount_phones\", \"next_purchase_phones\")\n",
    ")"
   ]
  },
  {
   "cell_type": "markdown",
   "id": "d64e617a-92ca-417a-bf8e-8423b7bdf81f",
   "metadata": {
    "editable": true,
    "slideshow": {
     "slide_type": ""
    },
    "tags": []
   },
   "source": [
    "## Posting to the Coop\n",
    "Here we post this notebook to the Coop. [Learn more](https://docs.expectedparrot.com/en/latest/coop.html)."
   ]
  },
  {
   "cell_type": "code",
   "execution_count": 16,
   "id": "e6271adb-6b40-40ff-940e-35be53a790bf",
   "metadata": {
    "editable": true,
    "slideshow": {
     "slide_type": ""
    },
    "tags": [
     "skip-execution"
    ]
   },
   "outputs": [],
   "source": [
    "from edsl import Notebook"
   ]
  },
  {
   "cell_type": "code",
   "execution_count": 17,
   "id": "2f627fd2-11f9-4da5-9c5b-760201f0b6be",
   "metadata": {
    "editable": true,
    "slideshow": {
     "slide_type": ""
    },
    "tags": [
     "skip-execution"
    ]
   },
   "outputs": [],
   "source": [
    "n = Notebook(path = \"skip_logic_scenarios.ipynb\")"
   ]
  },
  {
   "cell_type": "code",
   "execution_count": 18,
   "id": "427af26d-aae9-4613-b162-48064fd8cfcd",
   "metadata": {
    "editable": true,
    "slideshow": {
     "slide_type": ""
    },
    "tags": [
     "skip-execution"
    ]
   },
   "outputs": [
    {
     "data": {
      "text/plain": [
       "{'description': 'Using skip logic with question scenarios',\n",
       " 'object_type': 'notebook',\n",
       " 'url': 'https://www.expectedparrot.com/content/22cfeb7c-0689-46c9-aba9-776b5531b521',\n",
       " 'uuid': '22cfeb7c-0689-46c9-aba9-776b5531b521',\n",
       " 'version': '0.1.39.dev2',\n",
       " 'visibility': 'public'}"
      ]
     },
     "execution_count": 18,
     "metadata": {},
     "output_type": "execute_result"
    }
   ],
   "source": [
    "info = n.push(description = \"Using skip logic with question scenarios\", visibility = \"public\")\n",
    "info"
   ]
  },
  {
   "cell_type": "markdown",
   "id": "bde2a6d9-1a48-45bc-8737-064b2b88ce47",
   "metadata": {
    "editable": true,
    "slideshow": {
     "slide_type": ""
    },
    "tags": []
   },
   "source": [
    "Updating an object at the Coop:"
   ]
  },
  {
   "cell_type": "code",
   "execution_count": 19,
   "id": "a6eca557-534e-4547-9b6b-04efb7fad2f0",
   "metadata": {
    "editable": true,
    "slideshow": {
     "slide_type": ""
    },
    "tags": [
     "skip-execution"
    ]
   },
   "outputs": [],
   "source": [
    "n = Notebook(path = \"skip_logic_scenarios.ipynb\") # resave"
   ]
  },
  {
   "cell_type": "code",
   "execution_count": 20,
   "id": "9f15c3a1-c8c5-482b-88dd-91915564c5e3",
   "metadata": {
    "editable": true,
    "slideshow": {
     "slide_type": ""
    },
    "tags": [
     "skip-execution"
    ]
   },
   "outputs": [
    {
     "data": {
      "text/plain": [
       "{'status': 'success'}"
      ]
     },
     "execution_count": 20,
     "metadata": {},
     "output_type": "execute_result"
    }
   ],
   "source": [
    "n.patch(uuid = info[\"uuid\"], value = n)"
   ]
  }
 ],
 "metadata": {
  "kernelspec": {
   "display_name": "Python 3 (ipykernel)",
   "language": "python",
   "name": "python3"
  },
  "language_info": {
   "codemirror_mode": {
    "name": "ipython",
    "version": 3
   },
   "file_extension": ".py",
   "mimetype": "text/x-python",
   "name": "python",
   "nbconvert_exporter": "python",
   "pygments_lexer": "ipython3",
   "version": "3.11.7"
  }
 },
 "nbformat": 4,
 "nbformat_minor": 5
}
