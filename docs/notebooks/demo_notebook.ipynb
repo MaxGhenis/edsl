{
 "cells": [
  {
   "cell_type": "markdown",
   "id": "a397a1f1-f46f-481c-9505-147f337d0a00",
   "metadata": {},
   "source": [
    "# This is a demo Notebook!\n",
    "It's a file named \"demo_notebook.ipynb\" that you can [view or download at the Coop]() or from [GitHub](https://github.com/expectedparrot/edsl/blob/main/docs/notebooks/demo_notebook.ipynb).\n",
    "\n",
    "## Creating a `Notebook` object\n",
    "We create a `Notebook` object by importing the class and passing the file path to the constructor:"
   ]
  },
  {
   "cell_type": "code",
   "execution_count": 1,
   "id": "2d1f75ee-9477-4b5a-8549-0a69b51bad73",
   "metadata": {},
   "outputs": [],
   "source": [
    "from edsl import Notebook\n",
    "\n",
    "notebook = Notebook(path=\"demo_notebook.ipynb\")"
   ]
  },
  {
   "cell_type": "markdown",
   "id": "75fd9eab-537c-4ce0-853f-487a212497c0",
   "metadata": {},
   "source": [
    "## Posting to the Coop\n",
    "We post a notebook to the Coop the same way as we do other EDSL objects - by calling the `push()` method on it and optionally passing a `description` and `visibility` status. \n",
    "The default visibility status is `unlisted` (not searchable); otherwise objects can be posted as `private` or `public`.\n",
    "[Learn more](https://docs.expectedparrot.com/en/latest/coop.html) about working with objects at the Coop.\n",
    "\n",
    "Here we post the notebook, and optionally also save the information in order to recall it later:"
   ]
  },
  {
   "cell_type": "code",
   "execution_count": 2,
   "id": "789e70e0-ec75-4abf-964d-23e05ec1d687",
   "metadata": {},
   "outputs": [],
   "source": [
    "info = notebook.push(description = \"This is a demo notebook\", visibility = \"public\")"
   ]
  },
  {
   "cell_type": "markdown",
   "id": "716b306a-d575-4efb-8bac-ef0158d33072",
   "metadata": {},
   "source": [
    "We can verify the description and visibility that were passed, and have the `uuid` on hand for updating or deleting later: "
   ]
  },
  {
   "cell_type": "code",
   "execution_count": 3,
   "id": "5ac609f2-33c1-413f-8498-ba098fc04019",
   "metadata": {},
   "outputs": [
    {
     "data": {
      "text/plain": [
       "{'description': 'This is a demo notebook',\n",
       " 'object_type': 'notebook',\n",
       " 'url': 'https://www.expectedparrot.com/content/ffa113f4-4f2a-407b-8fc6-27bdf5e69d2f',\n",
       " 'uuid': 'ffa113f4-4f2a-407b-8fc6-27bdf5e69d2f',\n",
       " 'version': '0.1.35',\n",
       " 'visibility': 'public'}"
      ]
     },
     "execution_count": 3,
     "metadata": {},
     "output_type": "execute_result"
    }
   ],
   "source": [
    "info"
   ]
  },
  {
   "cell_type": "markdown",
   "id": "284507a8-a254-4fa8-a501-eb7b368f609a",
   "metadata": {},
   "source": [
    "## Updating a notebook at the Coop\n",
    "We also update a notebook the same way as we do other EDSL objects - by calling the `patch()` method on it and passing the `uuid` of the object, together with the parameters to be updated: the `description`, the `visibility` and/or the `value` (the object itself).\n",
    "\n",
    "Here we change just the visibility:"
   ]
  },
  {
   "cell_type": "code",
   "execution_count": 4,
   "id": "8570da47-0c99-4e8f-8c7e-6c9903abffcc",
   "metadata": {},
   "outputs": [
    {
     "data": {
      "text/plain": [
       "{'status': 'success'}"
      ]
     },
     "execution_count": 4,
     "metadata": {},
     "output_type": "execute_result"
    }
   ],
   "source": [
    "notebook.patch(uuid = info[\"uuid\"], visibility = \"unlisted\")"
   ]
  },
  {
   "cell_type": "markdown",
   "id": "bb00b6ff-200d-4519-8604-9a9d863eefee",
   "metadata": {},
   "source": [
    "Here we update the contents of the notebook itself:"
   ]
  },
  {
   "cell_type": "code",
   "execution_count": 5,
   "id": "7b50a12c-f1b1-4445-882c-02c384dbcef3",
   "metadata": {},
   "outputs": [
    {
     "data": {
      "text/plain": [
       "{'status': 'success'}"
      ]
     },
     "execution_count": 5,
     "metadata": {},
     "output_type": "execute_result"
    }
   ],
   "source": [
    "notebook = Notebook(path=\"demo_notebook.ipynb\") # resaving the notebook\n",
    "\n",
    "notebook.patch(uuid = info[\"uuid\"], value = notebook)"
   ]
  },
  {
   "cell_type": "markdown",
   "id": "665a7e3b-0cf2-4d3c-83db-fceb64e28181",
   "metadata": {},
   "source": [
    "## Deleting a notebook\n",
    "We delete a notebook the same way as we do other EDSL objects - by calling the `delete()` method on the constructor and passing it the `uuid` of the object.\n",
    "\n",
    "*Note:* This code is commented out to preserve the object at the Coop!"
   ]
  },
  {
   "cell_type": "code",
   "execution_count": null,
   "id": "3229519e-759b-4d77-93ab-6f26e6f6ff06",
   "metadata": {},
   "outputs": [],
   "source": [
    "# Notebook.delete(info[\"uuid\"])"
   ]
  },
  {
   "cell_type": "markdown",
   "id": "2aa9c8c5-792d-4e70-97b4-d99696fb5aac",
   "metadata": {},
   "source": [
    "You can also delete or edit an object manually from your Coop account."
   ]
  },
  {
   "cell_type": "markdown",
   "id": "e65d472f-5e87-40b6-85fb-55fb41254c93",
   "metadata": {},
   "source": [
    "## Learn more\n",
    "Learn more about methods for posting notebooks to the Coop here: https://docs.expectedparrot.com/en/latest/notebooks.html"
   ]
  }
 ],
 "metadata": {
  "kernelspec": {
   "display_name": "Python 3 (ipykernel)",
   "language": "python",
   "name": "python3"
  },
  "language_info": {
   "codemirror_mode": {
    "name": "ipython",
    "version": 3
   },
   "file_extension": ".py",
   "mimetype": "text/x-python",
   "name": "python",
   "nbconvert_exporter": "python",
   "pygments_lexer": "ipython3",
   "version": "3.11.7"
  }
 },
 "nbformat": 4,
 "nbformat_minor": 5
}
