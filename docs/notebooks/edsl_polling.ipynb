{
 "cells": [
  {
   "cell_type": "markdown",
   "id": "26ac0233-ca5b-442f-aa3a-2f78aedcf938",
   "metadata": {},
   "source": [
    "# Using EDSL for AI polling\n",
    "This notebook demonstrates methods for conducting surveys with AI agents using [EDSL](https://github.com/expectedparrot/edsl), an open-source Python library for simulating social science research with large language models. EDSL is developed by [Expected Parrot](https://www.expectedparrot.com), a start-up building tools for AI-powered research.\n",
    "\n",
    "### Contents\n",
    "The sections below include:\n",
    "\n",
    "1. **Creating an AI agent:** Basic steps to construct an AI agent.\n",
    "4. **Administering questions:** How to create questions and prompt agents to answer them.\n",
    "5. **Selecting language models:** Specify language models that you want to use to generate responses.\n",
    "6. **Analyzing results:** Examples of built-in methods for analyzing responses as datasets.\n",
    "7. **Designing agent traits:** How to construct agents with complex personas and traits.\n",
    "8. **Converting surveys into EDSL:** Import other surveys into EDSL to analyze and extend them with agents.\n",
    "9. **Constructing agents from survey data:** Use survey responses to construct agents representing respondents. \n",
    "\n",
    "### Sample data: *Cooperative Election Study Common Content, 2022*\n",
    "For purposes of demonstration, we use data from the [**Cooperative Election Study Common Content, 2022**](https://dataverse.harvard.edu/dataset.xhtml?persistentId=doi%3A10.7910/DVN/PR4L8P) in several ways:\n",
    "\n",
    "* In this notebook we use lists of respondent attributes from the *Breakdown of National Vote for U.S. House (CES validated voters)* ([CES Guide 2022](https://dataverse.harvard.edu/file.xhtml?fileId=7359254&version=4.0) pp.24-25) to design agents with combinations of the attributes, and then administer questions to them.\n",
    "\n",
    "Companion notebooks:\n",
    "\n",
    "* In [Working with CES data in EDSL](https://docs.expectedparrot.com/en/latest/notebooks/ces_data_edsl.html) we reconstruct the [2022 CES Pre-Election Questionnaire](https://dataverse.harvard.edu/file.xhtml?fileId=6987030&version=4.0) in EDSL. The formatted questions can be modified and administered to agents in new surveys as desired. The notebook also contains dictionaries of the CES questions and answer codebook for convenience in working with the data.\n",
    "* In [Creating agents for survey respondents](https://docs.expectedparrot.com/en/latest/notebooks/ces_agents.html) we use the [dataset of responses to the 2022 CES Pre-Election Questionnaire](https://dataverse.harvard.edu/file.xhtml?fileId=10140882&version=4.0) to create agents representing the respondents, and administer follow-on questions with them.\n",
    "\n",
    "### Reference & contact\n",
    "Documentation for the EDSL package is available at [https://docs/expectedparrot.com](https://docs/expectedparrot.com).\n",
    "You can also find example code, tutorials and notebooks for a variety of use cases.\n",
    "\n",
    "Please let us know if you have any questions or encounter issues working with this data:\n",
    "\n",
    "* Discord: https://discord.com/invite/mxAYkjfy9m\n",
    "* Email: info@expectedparrot.com\n",
    "\n",
    "### Technical setup\n",
    "EDSL is compatible with Python 3.9-3.12.\n",
    "\n",
    "See instructions on [installing the EDSL library](https://docs.expectedparrot.com/en/latest/installation.html) and [storing API keys](https://docs.expectedparrot.com/en/latest/api_keys.html) for the language models that you want to use.\n",
    "In examples below where no model is specified, EDSL will use GPT 4 by default (an API key for OpenAI is required).\n",
    "We also show how to use different models."
   ]
  },
  {
   "cell_type": "markdown",
   "id": "0727ccd1-39c7-4423-8162-141e07007c05",
   "metadata": {},
   "source": [
    "### Creating an AI agent\n",
    "In this section we show how to create an AI agent and give it desired attributes.\n",
    "For more details on constructing and using AI agents please see our [documentation page on agents](https://docs.expectedparrot.com/en/latest/agents.html).\n",
    "\n",
    "We start by importing the tools for creating agents:"
   ]
  },
  {
   "cell_type": "code",
   "execution_count": 1,
   "id": "e1181ff3-b30b-4ade-9fc1-5e820e429448",
   "metadata": {},
   "outputs": [],
   "source": [
    "from edsl import Agent"
   ]
  },
  {
   "cell_type": "markdown",
   "id": "6bc64671-2090-46c8-a152-8ee18569ca28",
   "metadata": {},
   "source": [
    "Here we create a simple `Agent` and pass it a dictionary of `traits`. We optionally include a narrative persona and also specify traits individually for use in segmenting and analyzing survey responses:"
   ]
  },
  {
   "cell_type": "code",
   "execution_count": 2,
   "id": "37320a86-f3da-48be-b47c-213421ac8267",
   "metadata": {},
   "outputs": [],
   "source": [
    "agent = Agent(traits = {\"persona\": \"You are 55-year-old research scientist living in Cambridge, Massachusetts.\", \n",
    "                        \"occupation\": \"Research scientist\", \n",
    "                        \"location\": \"Cambridge, Massachusetts\", \n",
    "                        \"age\":55})"
   ]
  },
  {
   "cell_type": "markdown",
   "id": "d8064714-8a89-4f2f-80db-3b58d2d9c9f8",
   "metadata": {},
   "source": [
    "We can access the traits directly:"
   ]
  },
  {
   "cell_type": "code",
   "execution_count": 3,
   "id": "571fdccc-56f8-42c1-acac-f3b80021c7e7",
   "metadata": {},
   "outputs": [
    {
     "data": {
      "text/plain": [
       "'Cambridge, Massachusetts'"
      ]
     },
     "execution_count": 3,
     "metadata": {},
     "output_type": "execute_result"
    }
   ],
   "source": [
    "agent.location"
   ]
  },
  {
   "cell_type": "markdown",
   "id": "c33d229d-2f20-4664-8088-897bd5724875",
   "metadata": {},
   "source": [
    "### Designing agent panels\n",
    "We can also create panels of agents in an `AgentList` and administer surveys to all of the agents at once. \n",
    "Here we construct combinations of traits from lists of respondent attributes in the [CES Guide](https://dataverse.harvard.edu/file.xhtml?fileId=7359254&version=4.0) (see source details above). \n",
    "(Information can be imported from a variety of data source types; [see documentation for details](https://docs.expectedparrot.com/en/latest/).)"
   ]
  },
  {
   "cell_type": "code",
   "execution_count": 4,
   "id": "4ac90960-5695-4d19-8d3f-e330a0094f8b",
   "metadata": {},
   "outputs": [],
   "source": [
    "sex = [\"Male\", \"Female\"]\n",
    "race = [\"White\", \"Black\", \"Hispanic\", \"Asian\", \"Other\"]\n",
    "age = [\"18-29\", \"30-44\", \"45-64\", \"65 and over\"]\n",
    "education = [\"High school or less\", \"Some college/assoc. degree\", \"College/graduate\", \"Postgraduate study\"]\n",
    "income = [\"Under $30,000\", \"$30,000 to $49,999\", \"$50,000 to $99,999\", \"$100,000 to $199,999\", \"$200,000 or more\"]\n",
    "party_affiliation = [\"Democrat\", \"Republican\", \"Independent/Other\"]\n",
    "political_ideology = [\"Liberal\", \"Moderate\", \"Conservative\", \"Unsure\"]\n",
    "religion = [\"Protestant/other Christian\", \"Catholic\", \"Jewish\", \"Something else\", \"None\"]\n",
    "evangelical = [\"Yes\", \"No\"]\n",
    "married = [\"Yes\", \"No\"]\n",
    "lgbt = [\"Yes\", \"No\"]"
   ]
  },
  {
   "cell_type": "markdown",
   "id": "a220c2e3-0a64-4a02-9b25-9b0e0eee6ea0",
   "metadata": {},
   "source": [
    "Here we create a method to generate a list of agents with randomly selected combinations of traits:"
   ]
  },
  {
   "cell_type": "code",
   "execution_count": 5,
   "id": "2f38ec86-b246-4bd8-9291-e953d3cb2814",
   "metadata": {},
   "outputs": [],
   "source": [
    "from edsl import AgentList\n",
    "import random\n",
    "\n",
    "def generate_random_agents(num_agents):\n",
    "    agents = []\n",
    "    for _ in range(num_agents):\n",
    "        agent_traits = {\n",
    "            \"sex\": random.choice(sex),\n",
    "            \"race\": random.choice(race),\n",
    "            \"age\": random.choice(age),\n",
    "            \"education\": random.choice(education),\n",
    "            \"income\": random.choice(income),\n",
    "            \"party_affiliation\": random.choice(party_affiliation),\n",
    "            \"political_ideology\": random.choice(political_ideology),\n",
    "            \"religion\": random.choice(religion),\n",
    "            \"evangelical\": random.choice(evangelical),\n",
    "            \"married\": random.choice(married),\n",
    "            \"lgbt\": random.choice(lgbt)\n",
    "        }\n",
    "        agents.append(Agent(traits=agent_traits))\n",
    "        \n",
    "    return AgentList(agents)"
   ]
  },
  {
   "cell_type": "markdown",
   "id": "d497822f-b47f-4ab6-be4e-b1867f2410d4",
   "metadata": {},
   "source": [
    "Example usage:"
   ]
  },
  {
   "cell_type": "code",
   "execution_count": 6,
   "id": "b9b7d2af-6e71-4bff-b704-3040cf65d995",
   "metadata": {},
   "outputs": [],
   "source": [
    "num_agents = 3  \n",
    "agents = generate_random_agents(num_agents)"
   ]
  },
  {
   "cell_type": "markdown",
   "id": "aed2e847-0702-44d1-82b6-db79f01e3134",
   "metadata": {},
   "source": [
    "### Agent instructions\n",
    "If we want to give all the agents a special instruction, we can optionally pass an `instruction` to the agents (this can also be done when the agents are created):"
   ]
  },
  {
   "cell_type": "code",
   "execution_count": 7,
   "id": "00bf11de-ed1c-463d-b9ff-502364d9a4c6",
   "metadata": {},
   "outputs": [],
   "source": [
    "for agent in agents:\n",
    "    agent.instruction = \"Today is July 1, 2022.\""
   ]
  },
  {
   "cell_type": "markdown",
   "id": "8a7eb4ae-6a39-4b97-a229-e5f69706ec8c",
   "metadata": {},
   "source": [
    "We can inspect the agents that have been created:"
   ]
  },
  {
   "cell_type": "code",
   "execution_count": 8,
   "id": "9cc0aa05-8dca-478b-9e63-a30f5d59e748",
   "metadata": {},
   "outputs": [
    {
     "data": {
      "text/html": [
       "<div class=\"highlight\"><pre><span></span><span class=\"p\">[</span>\n",
       "<span class=\"w\">    </span><span class=\"p\">{</span>\n",
       "<span class=\"w\">        </span><span class=\"nt\">&quot;traits&quot;</span><span class=\"p\">:</span><span class=\"w\"> </span><span class=\"p\">{</span>\n",
       "<span class=\"w\">            </span><span class=\"nt\">&quot;sex&quot;</span><span class=\"p\">:</span><span class=\"w\"> </span><span class=\"s2\">&quot;Female&quot;</span><span class=\"p\">,</span>\n",
       "<span class=\"w\">            </span><span class=\"nt\">&quot;race&quot;</span><span class=\"p\">:</span><span class=\"w\"> </span><span class=\"s2\">&quot;Other&quot;</span><span class=\"p\">,</span>\n",
       "<span class=\"w\">            </span><span class=\"nt\">&quot;age&quot;</span><span class=\"p\">:</span><span class=\"w\"> </span><span class=\"s2\">&quot;45-64&quot;</span><span class=\"p\">,</span>\n",
       "<span class=\"w\">            </span><span class=\"nt\">&quot;education&quot;</span><span class=\"p\">:</span><span class=\"w\"> </span><span class=\"s2\">&quot;College/graduate&quot;</span><span class=\"p\">,</span>\n",
       "<span class=\"w\">            </span><span class=\"nt\">&quot;income&quot;</span><span class=\"p\">:</span><span class=\"w\"> </span><span class=\"s2\">&quot;Under $30,000&quot;</span><span class=\"p\">,</span>\n",
       "<span class=\"w\">            </span><span class=\"nt\">&quot;party_affiliation&quot;</span><span class=\"p\">:</span><span class=\"w\"> </span><span class=\"s2\">&quot;Independent/Other&quot;</span><span class=\"p\">,</span>\n",
       "<span class=\"w\">            </span><span class=\"nt\">&quot;political_ideology&quot;</span><span class=\"p\">:</span><span class=\"w\"> </span><span class=\"s2\">&quot;Liberal&quot;</span><span class=\"p\">,</span>\n",
       "<span class=\"w\">            </span><span class=\"nt\">&quot;religion&quot;</span><span class=\"p\">:</span><span class=\"w\"> </span><span class=\"s2\">&quot;Protestant/other Christian&quot;</span><span class=\"p\">,</span>\n",
       "<span class=\"w\">            </span><span class=\"nt\">&quot;evangelical&quot;</span><span class=\"p\">:</span><span class=\"w\"> </span><span class=\"s2\">&quot;No&quot;</span><span class=\"p\">,</span>\n",
       "<span class=\"w\">            </span><span class=\"nt\">&quot;married&quot;</span><span class=\"p\">:</span><span class=\"w\"> </span><span class=\"s2\">&quot;No&quot;</span><span class=\"p\">,</span>\n",
       "<span class=\"w\">            </span><span class=\"nt\">&quot;lgbt&quot;</span><span class=\"p\">:</span><span class=\"w\"> </span><span class=\"s2\">&quot;Yes&quot;</span>\n",
       "<span class=\"w\">        </span><span class=\"p\">},</span>\n",
       "<span class=\"w\">        </span><span class=\"nt\">&quot;instruction&quot;</span><span class=\"p\">:</span><span class=\"w\"> </span><span class=\"s2\">&quot;Today is July 1, 2022.&quot;</span><span class=\"p\">,</span>\n",
       "<span class=\"w\">        </span><span class=\"nt\">&quot;edsl_version&quot;</span><span class=\"p\">:</span><span class=\"w\"> </span><span class=\"s2\">&quot;0.1.29.dev6&quot;</span><span class=\"p\">,</span>\n",
       "<span class=\"w\">        </span><span class=\"nt\">&quot;edsl_class_name&quot;</span><span class=\"p\">:</span><span class=\"w\"> </span><span class=\"s2\">&quot;Agent&quot;</span>\n",
       "<span class=\"w\">    </span><span class=\"p\">},</span>\n",
       "<span class=\"w\">    </span><span class=\"p\">{</span>\n",
       "<span class=\"w\">        </span><span class=\"nt\">&quot;traits&quot;</span><span class=\"p\">:</span><span class=\"w\"> </span><span class=\"p\">{</span>\n",
       "<span class=\"w\">            </span><span class=\"nt\">&quot;sex&quot;</span><span class=\"p\">:</span><span class=\"w\"> </span><span class=\"s2\">&quot;Female&quot;</span><span class=\"p\">,</span>\n",
       "<span class=\"w\">            </span><span class=\"nt\">&quot;race&quot;</span><span class=\"p\">:</span><span class=\"w\"> </span><span class=\"s2\">&quot;Asian&quot;</span><span class=\"p\">,</span>\n",
       "<span class=\"w\">            </span><span class=\"nt\">&quot;age&quot;</span><span class=\"p\">:</span><span class=\"w\"> </span><span class=\"s2\">&quot;65 and over&quot;</span><span class=\"p\">,</span>\n",
       "<span class=\"w\">            </span><span class=\"nt\">&quot;education&quot;</span><span class=\"p\">:</span><span class=\"w\"> </span><span class=\"s2\">&quot;College/graduate&quot;</span><span class=\"p\">,</span>\n",
       "<span class=\"w\">            </span><span class=\"nt\">&quot;income&quot;</span><span class=\"p\">:</span><span class=\"w\"> </span><span class=\"s2\">&quot;$100,000 to $199,999&quot;</span><span class=\"p\">,</span>\n",
       "<span class=\"w\">            </span><span class=\"nt\">&quot;party_affiliation&quot;</span><span class=\"p\">:</span><span class=\"w\"> </span><span class=\"s2\">&quot;Independent/Other&quot;</span><span class=\"p\">,</span>\n",
       "<span class=\"w\">            </span><span class=\"nt\">&quot;political_ideology&quot;</span><span class=\"p\">:</span><span class=\"w\"> </span><span class=\"s2\">&quot;Conservative&quot;</span><span class=\"p\">,</span>\n",
       "<span class=\"w\">            </span><span class=\"nt\">&quot;religion&quot;</span><span class=\"p\">:</span><span class=\"w\"> </span><span class=\"s2\">&quot;Catholic&quot;</span><span class=\"p\">,</span>\n",
       "<span class=\"w\">            </span><span class=\"nt\">&quot;evangelical&quot;</span><span class=\"p\">:</span><span class=\"w\"> </span><span class=\"s2\">&quot;Yes&quot;</span><span class=\"p\">,</span>\n",
       "<span class=\"w\">            </span><span class=\"nt\">&quot;married&quot;</span><span class=\"p\">:</span><span class=\"w\"> </span><span class=\"s2\">&quot;Yes&quot;</span><span class=\"p\">,</span>\n",
       "<span class=\"w\">            </span><span class=\"nt\">&quot;lgbt&quot;</span><span class=\"p\">:</span><span class=\"w\"> </span><span class=\"s2\">&quot;No&quot;</span>\n",
       "<span class=\"w\">        </span><span class=\"p\">},</span>\n",
       "<span class=\"w\">        </span><span class=\"nt\">&quot;instruction&quot;</span><span class=\"p\">:</span><span class=\"w\"> </span><span class=\"s2\">&quot;Today is July 1, 2022.&quot;</span><span class=\"p\">,</span>\n",
       "<span class=\"w\">        </span><span class=\"nt\">&quot;edsl_version&quot;</span><span class=\"p\">:</span><span class=\"w\"> </span><span class=\"s2\">&quot;0.1.29.dev6&quot;</span><span class=\"p\">,</span>\n",
       "<span class=\"w\">        </span><span class=\"nt\">&quot;edsl_class_name&quot;</span><span class=\"p\">:</span><span class=\"w\"> </span><span class=\"s2\">&quot;Agent&quot;</span>\n",
       "<span class=\"w\">    </span><span class=\"p\">},</span>\n",
       "<span class=\"w\">    </span><span class=\"p\">{</span>\n",
       "<span class=\"w\">        </span><span class=\"nt\">&quot;traits&quot;</span><span class=\"p\">:</span><span class=\"w\"> </span><span class=\"p\">{</span>\n",
       "<span class=\"w\">            </span><span class=\"nt\">&quot;sex&quot;</span><span class=\"p\">:</span><span class=\"w\"> </span><span class=\"s2\">&quot;Female&quot;</span><span class=\"p\">,</span>\n",
       "<span class=\"w\">            </span><span class=\"nt\">&quot;race&quot;</span><span class=\"p\">:</span><span class=\"w\"> </span><span class=\"s2\">&quot;Black&quot;</span><span class=\"p\">,</span>\n",
       "<span class=\"w\">            </span><span class=\"nt\">&quot;age&quot;</span><span class=\"p\">:</span><span class=\"w\"> </span><span class=\"s2\">&quot;18-29&quot;</span><span class=\"p\">,</span>\n",
       "<span class=\"w\">            </span><span class=\"nt\">&quot;education&quot;</span><span class=\"p\">:</span><span class=\"w\"> </span><span class=\"s2\">&quot;High school or less&quot;</span><span class=\"p\">,</span>\n",
       "<span class=\"w\">            </span><span class=\"nt\">&quot;income&quot;</span><span class=\"p\">:</span><span class=\"w\"> </span><span class=\"s2\">&quot;$50,000 to $99,999&quot;</span><span class=\"p\">,</span>\n",
       "<span class=\"w\">            </span><span class=\"nt\">&quot;party_affiliation&quot;</span><span class=\"p\">:</span><span class=\"w\"> </span><span class=\"s2\">&quot;Democrat&quot;</span><span class=\"p\">,</span>\n",
       "<span class=\"w\">            </span><span class=\"nt\">&quot;political_ideology&quot;</span><span class=\"p\">:</span><span class=\"w\"> </span><span class=\"s2\">&quot;Moderate&quot;</span><span class=\"p\">,</span>\n",
       "<span class=\"w\">            </span><span class=\"nt\">&quot;religion&quot;</span><span class=\"p\">:</span><span class=\"w\"> </span><span class=\"s2\">&quot;Protestant/other Christian&quot;</span><span class=\"p\">,</span>\n",
       "<span class=\"w\">            </span><span class=\"nt\">&quot;evangelical&quot;</span><span class=\"p\">:</span><span class=\"w\"> </span><span class=\"s2\">&quot;No&quot;</span><span class=\"p\">,</span>\n",
       "<span class=\"w\">            </span><span class=\"nt\">&quot;married&quot;</span><span class=\"p\">:</span><span class=\"w\"> </span><span class=\"s2\">&quot;No&quot;</span><span class=\"p\">,</span>\n",
       "<span class=\"w\">            </span><span class=\"nt\">&quot;lgbt&quot;</span><span class=\"p\">:</span><span class=\"w\"> </span><span class=\"s2\">&quot;Yes&quot;</span>\n",
       "<span class=\"w\">        </span><span class=\"p\">},</span>\n",
       "<span class=\"w\">        </span><span class=\"nt\">&quot;instruction&quot;</span><span class=\"p\">:</span><span class=\"w\"> </span><span class=\"s2\">&quot;Today is July 1, 2022.&quot;</span><span class=\"p\">,</span>\n",
       "<span class=\"w\">        </span><span class=\"nt\">&quot;edsl_version&quot;</span><span class=\"p\">:</span><span class=\"w\"> </span><span class=\"s2\">&quot;0.1.29.dev6&quot;</span><span class=\"p\">,</span>\n",
       "<span class=\"w\">        </span><span class=\"nt\">&quot;edsl_class_name&quot;</span><span class=\"p\">:</span><span class=\"w\"> </span><span class=\"s2\">&quot;Agent&quot;</span>\n",
       "<span class=\"w\">    </span><span class=\"p\">}</span>\n",
       "<span class=\"p\">]</span>\n",
       "</pre></div>\n"
      ],
      "text/plain": [
       "AgentList([Agent(traits = {'sex': 'Female', 'race': 'Other', 'age': '45-64', 'education': 'College/graduate', 'income': 'Under $30,000', 'party_affiliation': 'Independent/Other', 'political_ideology': 'Liberal', 'religion': 'Protestant/other Christian', 'evangelical': 'No', 'married': 'No', 'lgbt': 'Yes'}, instruction = \"\"\"Today is July 1, 2022.\"\"\"), Agent(traits = {'sex': 'Female', 'race': 'Asian', 'age': '65 and over', 'education': 'College/graduate', 'income': '$100,000 to $199,999', 'party_affiliation': 'Independent/Other', 'political_ideology': 'Conservative', 'religion': 'Catholic', 'evangelical': 'Yes', 'married': 'Yes', 'lgbt': 'No'}, instruction = \"\"\"Today is July 1, 2022.\"\"\"), Agent(traits = {'sex': 'Female', 'race': 'Black', 'age': '18-29', 'education': 'High school or less', 'income': '$50,000 to $99,999', 'party_affiliation': 'Democrat', 'political_ideology': 'Moderate', 'religion': 'Protestant/other Christian', 'evangelical': 'No', 'married': 'No', 'lgbt': 'Yes'}, instruction = \"\"\"Today is July 1, 2022.\"\"\")])"
      ]
     },
     "execution_count": 8,
     "metadata": {},
     "output_type": "execute_result"
    }
   ],
   "source": [
    "agents"
   ]
  },
  {
   "cell_type": "markdown",
   "id": "0b30ccdb-5627-496a-805f-72fbd541bc1f",
   "metadata": {},
   "source": [
    "### Creating questions\n",
    "An `Agent` is designed to be assigned questions to answer. \n",
    "In this section we construct questions in the form of `Question` objects, combine them into a `Survey`, administer it to some sample agents (from above), and inspect the responses in the dataset of `Results` that is generated.\n",
    "\n",
    "EDSL comes with many question types that we can select from based on the form of the response that we want to get back from the language model (free text, linear scale, checkbox, etc.). See [examples of all question types](https://docs.expectedparrot.com/en/latest/questions.html).\n",
    "\n",
    "Here we create a multiple choice question from the [CES Pre-Election Questionnaire](https://dataverse.harvard.edu/file.xhtml?fileId=6987030&version=4.0) (the response will be a selection from the list of options that we include) and compose a follow-up free text question (the response will be unstructured text):"
   ]
  },
  {
   "cell_type": "code",
   "execution_count": 9,
   "id": "db579249-c9d1-4754-98f7-88b91721659b",
   "metadata": {},
   "outputs": [],
   "source": [
    "from edsl import QuestionMultipleChoice, QuestionFreeText\n",
    "\n",
    "# From the CES pre-election questionnaire\n",
    "q_pid3 = QuestionMultipleChoice(\n",
    "    question_name = \"pid3\",\n",
    "    question_text = \"Generally speaking, do you think of yourself as a ...?\",\n",
    "    question_options = [\"Democrat\", \"Republican\", \"Independent\", \"Other\", \"Not sure\"]\n",
    ")\n",
    "\n",
    "# Potential follow-up question\n",
    "q_views = QuestionFreeText(\n",
    "    question_name = \"views\",\n",
    "    question_text = \"Describe your political views.\"\n",
    ")"
   ]
  },
  {
   "cell_type": "markdown",
   "id": "b6c3db0d-c235-4bb6-863a-d150798ce53a",
   "metadata": {},
   "source": [
    "We combine the questions into a `Survey` to administer them together:"
   ]
  },
  {
   "cell_type": "code",
   "execution_count": 10,
   "id": "290d0bc7-185c-4218-9744-eb636405d827",
   "metadata": {},
   "outputs": [],
   "source": [
    "from edsl import Survey\n",
    "\n",
    "survey = Survey([q_pid3, q_views])"
   ]
  },
  {
   "cell_type": "markdown",
   "id": "2d8118b6-e253-4428-a7f2-557b1a6b802f",
   "metadata": {},
   "source": [
    "### Administering a survey\n",
    "We administer a survey by calling the `run` method, after (optionally) adding agents with the `by` method:"
   ]
  },
  {
   "cell_type": "code",
   "execution_count": 11,
   "id": "c96419b4-eff9-40e5-b8ec-e59a4a9ea929",
   "metadata": {},
   "outputs": [],
   "source": [
    "results = survey.by(agents).run()"
   ]
  },
  {
   "cell_type": "markdown",
   "id": "afec2ac1-ac70-4dea-bdb6-3df0a6c45b49",
   "metadata": {},
   "source": [
    "We can show a list of all the components of the `Results` that have been generated, and see that the results include information about the agents, questions, models, prompts and responses:"
   ]
  },
  {
   "cell_type": "code",
   "execution_count": 12,
   "id": "c512d6d3-d446-4cb7-9fec-eed4e3cc3305",
   "metadata": {},
   "outputs": [
    {
     "data": {
      "text/plain": [
       "['agent.age',\n",
       " 'agent.agent_instruction',\n",
       " 'agent.agent_name',\n",
       " 'agent.education',\n",
       " 'agent.evangelical',\n",
       " 'agent.income',\n",
       " 'agent.lgbt',\n",
       " 'agent.married',\n",
       " 'agent.party_affiliation',\n",
       " 'agent.political_ideology',\n",
       " 'agent.race',\n",
       " 'agent.religion',\n",
       " 'agent.sex',\n",
       " 'answer.pid3',\n",
       " 'answer.views',\n",
       " 'comment.pid3_comment',\n",
       " 'iteration.iteration',\n",
       " 'model.frequency_penalty',\n",
       " 'model.logprobs',\n",
       " 'model.max_tokens',\n",
       " 'model.model',\n",
       " 'model.presence_penalty',\n",
       " 'model.temperature',\n",
       " 'model.top_logprobs',\n",
       " 'model.top_p',\n",
       " 'prompt.pid3_system_prompt',\n",
       " 'prompt.pid3_user_prompt',\n",
       " 'prompt.views_system_prompt',\n",
       " 'prompt.views_user_prompt',\n",
       " 'question_options.pid3_question_options',\n",
       " 'question_options.views_question_options',\n",
       " 'question_text.pid3_question_text',\n",
       " 'question_text.views_question_text',\n",
       " 'question_type.pid3_question_type',\n",
       " 'question_type.views_question_type',\n",
       " 'raw_model_response.pid3_raw_model_response',\n",
       " 'raw_model_response.views_raw_model_response']"
      ]
     },
     "execution_count": 12,
     "metadata": {},
     "output_type": "execute_result"
    }
   ],
   "source": [
    "results.columns"
   ]
  },
  {
   "cell_type": "markdown",
   "id": "059512f1-9033-4eff-b38d-8ac163bab7de",
   "metadata": {},
   "source": [
    "We can select and print components of the `Results` in a table (see examples of all [methods for analyzing results](https://docs.expectedparrot.com/en/latest/results.html)):"
   ]
  },
  {
   "cell_type": "code",
   "execution_count": 13,
   "id": "83bace91-f42e-40f0-a4a9-589d974e4d00",
   "metadata": {},
   "outputs": [
    {
     "data": {
      "text/html": [
       "<pre style=\"white-space:pre;overflow-x:auto;line-height:normal;font-family:Menlo,'DejaVu Sans Mono',consolas,'Courier New',monospace\">┏━━━━━━━━━━━━━┳━━━━━━━━━━━━━━━━━━━━━┳━━━━━━━━━━━━━┳━━━━━━━━━━━━━━━━━━━━━━━━━━━━━━━━━━━━━━━━━━━━━━━━━━━━━━━━━━━━━━━┓\n",
       "┃<span style=\"color: #800080; text-decoration-color: #800080; font-weight: bold\"> agent       </span>┃<span style=\"color: #800080; text-decoration-color: #800080; font-weight: bold\"> agent               </span>┃<span style=\"color: #800080; text-decoration-color: #800080; font-weight: bold\"> answer      </span>┃<span style=\"color: #800080; text-decoration-color: #800080; font-weight: bold\"> answer                                                        </span>┃\n",
       "┃<span style=\"color: #800080; text-decoration-color: #800080; font-weight: bold\"> .age        </span>┃<span style=\"color: #800080; text-decoration-color: #800080; font-weight: bold\"> .education          </span>┃<span style=\"color: #800080; text-decoration-color: #800080; font-weight: bold\"> .pid3       </span>┃<span style=\"color: #800080; text-decoration-color: #800080; font-weight: bold\"> .views                                                        </span>┃\n",
       "┡━━━━━━━━━━━━━╇━━━━━━━━━━━━━━━━━━━━━╇━━━━━━━━━━━━━╇━━━━━━━━━━━━━━━━━━━━━━━━━━━━━━━━━━━━━━━━━━━━━━━━━━━━━━━━━━━━━━━┩\n",
       "│<span style=\"color: #7f7f7f; text-decoration-color: #7f7f7f\"> 18-29       </span>│<span style=\"color: #7f7f7f; text-decoration-color: #7f7f7f\"> High school or less </span>│<span style=\"color: #7f7f7f; text-decoration-color: #7f7f7f\"> Democrat    </span>│<span style=\"color: #7f7f7f; text-decoration-color: #7f7f7f\"> My political views are moderate within the Democratic party.  </span>│\n",
       "│<span style=\"color: #7f7f7f; text-decoration-color: #7f7f7f\">             </span>│<span style=\"color: #7f7f7f; text-decoration-color: #7f7f7f\">                     </span>│<span style=\"color: #7f7f7f; text-decoration-color: #7f7f7f\">             </span>│<span style=\"color: #7f7f7f; text-decoration-color: #7f7f7f\"> I believe in the importance of balancing progressive ideas    </span>│\n",
       "│<span style=\"color: #7f7f7f; text-decoration-color: #7f7f7f\">             </span>│<span style=\"color: #7f7f7f; text-decoration-color: #7f7f7f\">                     </span>│<span style=\"color: #7f7f7f; text-decoration-color: #7f7f7f\">             </span>│<span style=\"color: #7f7f7f; text-decoration-color: #7f7f7f\"> with practical solutions that can be realistically            </span>│\n",
       "│<span style=\"color: #7f7f7f; text-decoration-color: #7f7f7f\">             </span>│<span style=\"color: #7f7f7f; text-decoration-color: #7f7f7f\">                     </span>│<span style=\"color: #7f7f7f; text-decoration-color: #7f7f7f\">             </span>│<span style=\"color: #7f7f7f; text-decoration-color: #7f7f7f\"> implemented. I support equal rights for all, including the    </span>│\n",
       "│<span style=\"color: #7f7f7f; text-decoration-color: #7f7f7f\">             </span>│<span style=\"color: #7f7f7f; text-decoration-color: #7f7f7f\">                     </span>│<span style=\"color: #7f7f7f; text-decoration-color: #7f7f7f\">             </span>│<span style=\"color: #7f7f7f; text-decoration-color: #7f7f7f\"> LGBTQ+ community, and I advocate for social justice and       </span>│\n",
       "│<span style=\"color: #7f7f7f; text-decoration-color: #7f7f7f\">             </span>│<span style=\"color: #7f7f7f; text-decoration-color: #7f7f7f\">                     </span>│<span style=\"color: #7f7f7f; text-decoration-color: #7f7f7f\">             </span>│<span style=\"color: #7f7f7f; text-decoration-color: #7f7f7f\"> economic policies that aim to reduce inequality. As a young   </span>│\n",
       "│<span style=\"color: #7f7f7f; text-decoration-color: #7f7f7f\">             </span>│<span style=\"color: #7f7f7f; text-decoration-color: #7f7f7f\">                     </span>│<span style=\"color: #7f7f7f; text-decoration-color: #7f7f7f\">             </span>│<span style=\"color: #7f7f7f; text-decoration-color: #7f7f7f\"> black woman, issues like police reform, affordable            </span>│\n",
       "│<span style=\"color: #7f7f7f; text-decoration-color: #7f7f7f\">             </span>│<span style=\"color: #7f7f7f; text-decoration-color: #7f7f7f\">                     </span>│<span style=\"color: #7f7f7f; text-decoration-color: #7f7f7f\">             </span>│<span style=\"color: #7f7f7f; text-decoration-color: #7f7f7f\"> healthcare, and education are particularly important to me. I </span>│\n",
       "│<span style=\"color: #7f7f7f; text-decoration-color: #7f7f7f\">             </span>│<span style=\"color: #7f7f7f; text-decoration-color: #7f7f7f\">                     </span>│<span style=\"color: #7f7f7f; text-decoration-color: #7f7f7f\">             </span>│<span style=\"color: #7f7f7f; text-decoration-color: #7f7f7f\"> value the principles of democracy and strive for a government </span>│\n",
       "│<span style=\"color: #7f7f7f; text-decoration-color: #7f7f7f\">             </span>│<span style=\"color: #7f7f7f; text-decoration-color: #7f7f7f\">                     </span>│<span style=\"color: #7f7f7f; text-decoration-color: #7f7f7f\">             </span>│<span style=\"color: #7f7f7f; text-decoration-color: #7f7f7f\"> that represents the diversity and needs of its people.        </span>│\n",
       "├─────────────┼─────────────────────┼─────────────┼───────────────────────────────────────────────────────────────┤\n",
       "│<span style=\"color: #7f7f7f; text-decoration-color: #7f7f7f\"> 65 and over </span>│<span style=\"color: #7f7f7f; text-decoration-color: #7f7f7f\"> College/graduate    </span>│<span style=\"color: #7f7f7f; text-decoration-color: #7f7f7f\"> Independent </span>│<span style=\"color: #7f7f7f; text-decoration-color: #7f7f7f\"> As a conservative individual, my political views are guided   </span>│\n",
       "│<span style=\"color: #7f7f7f; text-decoration-color: #7f7f7f\">             </span>│<span style=\"color: #7f7f7f; text-decoration-color: #7f7f7f\">                     </span>│<span style=\"color: #7f7f7f; text-decoration-color: #7f7f7f\">             </span>│<span style=\"color: #7f7f7f; text-decoration-color: #7f7f7f\"> by a belief in limited government, personal responsibility,   </span>│\n",
       "│<span style=\"color: #7f7f7f; text-decoration-color: #7f7f7f\">             </span>│<span style=\"color: #7f7f7f; text-decoration-color: #7f7f7f\">                     </span>│<span style=\"color: #7f7f7f; text-decoration-color: #7f7f7f\">             </span>│<span style=\"color: #7f7f7f; text-decoration-color: #7f7f7f\"> and traditional values. I value the importance of family, the </span>│\n",
       "│<span style=\"color: #7f7f7f; text-decoration-color: #7f7f7f\">             </span>│<span style=\"color: #7f7f7f; text-decoration-color: #7f7f7f\">                     </span>│<span style=\"color: #7f7f7f; text-decoration-color: #7f7f7f\">             </span>│<span style=\"color: #7f7f7f; text-decoration-color: #7f7f7f\"> sanctity of life, and the importance of religious freedom. I  </span>│\n",
       "│<span style=\"color: #7f7f7f; text-decoration-color: #7f7f7f\">             </span>│<span style=\"color: #7f7f7f; text-decoration-color: #7f7f7f\">                     </span>│<span style=\"color: #7f7f7f; text-decoration-color: #7f7f7f\">             </span>│<span style=\"color: #7f7f7f; text-decoration-color: #7f7f7f\"> am fiscally conservative, supporting policies that encourage  </span>│\n",
       "│<span style=\"color: #7f7f7f; text-decoration-color: #7f7f7f\">             </span>│<span style=\"color: #7f7f7f; text-decoration-color: #7f7f7f\">                     </span>│<span style=\"color: #7f7f7f; text-decoration-color: #7f7f7f\">             </span>│<span style=\"color: #7f7f7f; text-decoration-color: #7f7f7f\"> economic growth and fiscal responsibility. While I am open to </span>│\n",
       "│<span style=\"color: #7f7f7f; text-decoration-color: #7f7f7f\">             </span>│<span style=\"color: #7f7f7f; text-decoration-color: #7f7f7f\">                     </span>│<span style=\"color: #7f7f7f; text-decoration-color: #7f7f7f\">             </span>│<span style=\"color: #7f7f7f; text-decoration-color: #7f7f7f\"> hearing different perspectives, I tend to support policies    </span>│\n",
       "│<span style=\"color: #7f7f7f; text-decoration-color: #7f7f7f\">             </span>│<span style=\"color: #7f7f7f; text-decoration-color: #7f7f7f\">                     </span>│<span style=\"color: #7f7f7f; text-decoration-color: #7f7f7f\">             </span>│<span style=\"color: #7f7f7f; text-decoration-color: #7f7f7f\"> that I believe will uphold the nation's moral fabric, protect </span>│\n",
       "│<span style=\"color: #7f7f7f; text-decoration-color: #7f7f7f\">             </span>│<span style=\"color: #7f7f7f; text-decoration-color: #7f7f7f\">                     </span>│<span style=\"color: #7f7f7f; text-decoration-color: #7f7f7f\">             </span>│<span style=\"color: #7f7f7f; text-decoration-color: #7f7f7f\"> its sovereignty, and foster an environment where individuals  </span>│\n",
       "│<span style=\"color: #7f7f7f; text-decoration-color: #7f7f7f\">             </span>│<span style=\"color: #7f7f7f; text-decoration-color: #7f7f7f\">                     </span>│<span style=\"color: #7f7f7f; text-decoration-color: #7f7f7f\">             </span>│<span style=\"color: #7f7f7f; text-decoration-color: #7f7f7f\"> and businesses can thrive without excessive government        </span>│\n",
       "│<span style=\"color: #7f7f7f; text-decoration-color: #7f7f7f\">             </span>│<span style=\"color: #7f7f7f; text-decoration-color: #7f7f7f\">                     </span>│<span style=\"color: #7f7f7f; text-decoration-color: #7f7f7f\">             </span>│<span style=\"color: #7f7f7f; text-decoration-color: #7f7f7f\"> intervention. As an independent voter, I carefully consider   </span>│\n",
       "│<span style=\"color: #7f7f7f; text-decoration-color: #7f7f7f\">             </span>│<span style=\"color: #7f7f7f; text-decoration-color: #7f7f7f\">                     </span>│<span style=\"color: #7f7f7f; text-decoration-color: #7f7f7f\">             </span>│<span style=\"color: #7f7f7f; text-decoration-color: #7f7f7f\"> each issue on its own merits rather than following a party    </span>│\n",
       "│<span style=\"color: #7f7f7f; text-decoration-color: #7f7f7f\">             </span>│<span style=\"color: #7f7f7f; text-decoration-color: #7f7f7f\">                     </span>│<span style=\"color: #7f7f7f; text-decoration-color: #7f7f7f\">             </span>│<span style=\"color: #7f7f7f; text-decoration-color: #7f7f7f\"> line.                                                         </span>│\n",
       "├─────────────┼─────────────────────┼─────────────┼───────────────────────────────────────────────────────────────┤\n",
       "│<span style=\"color: #7f7f7f; text-decoration-color: #7f7f7f\"> 45-64       </span>│<span style=\"color: #7f7f7f; text-decoration-color: #7f7f7f\"> College/graduate    </span>│<span style=\"color: #7f7f7f; text-decoration-color: #7f7f7f\"> Independent </span>│<span style=\"color: #7f7f7f; text-decoration-color: #7f7f7f\"> As an independent with liberal leanings, my political views   </span>│\n",
       "│<span style=\"color: #7f7f7f; text-decoration-color: #7f7f7f\">             </span>│<span style=\"color: #7f7f7f; text-decoration-color: #7f7f7f\">                     </span>│<span style=\"color: #7f7f7f; text-decoration-color: #7f7f7f\">             </span>│<span style=\"color: #7f7f7f; text-decoration-color: #7f7f7f\"> are centered around the importance of social equality,        </span>│\n",
       "│<span style=\"color: #7f7f7f; text-decoration-color: #7f7f7f\">             </span>│<span style=\"color: #7f7f7f; text-decoration-color: #7f7f7f\">                     </span>│<span style=\"color: #7f7f7f; text-decoration-color: #7f7f7f\">             </span>│<span style=\"color: #7f7f7f; text-decoration-color: #7f7f7f\"> environmental protection, and the defense of individual       </span>│\n",
       "│<span style=\"color: #7f7f7f; text-decoration-color: #7f7f7f\">             </span>│<span style=\"color: #7f7f7f; text-decoration-color: #7f7f7f\">                     </span>│<span style=\"color: #7f7f7f; text-decoration-color: #7f7f7f\">             </span>│<span style=\"color: #7f7f7f; text-decoration-color: #7f7f7f\"> rights, particularly concerning the LGBTQ+ community, given   </span>│\n",
       "│<span style=\"color: #7f7f7f; text-decoration-color: #7f7f7f\">             </span>│<span style=\"color: #7f7f7f; text-decoration-color: #7f7f7f\">                     </span>│<span style=\"color: #7f7f7f; text-decoration-color: #7f7f7f\">             </span>│<span style=\"color: #7f7f7f; text-decoration-color: #7f7f7f\"> my personal identification. I believe in a government that    </span>│\n",
       "│<span style=\"color: #7f7f7f; text-decoration-color: #7f7f7f\">             </span>│<span style=\"color: #7f7f7f; text-decoration-color: #7f7f7f\">                     </span>│<span style=\"color: #7f7f7f; text-decoration-color: #7f7f7f\">             </span>│<span style=\"color: #7f7f7f; text-decoration-color: #7f7f7f\"> actively works to reduce economic disparities, supports       </span>│\n",
       "│<span style=\"color: #7f7f7f; text-decoration-color: #7f7f7f\">             </span>│<span style=\"color: #7f7f7f; text-decoration-color: #7f7f7f\">                     </span>│<span style=\"color: #7f7f7f; text-decoration-color: #7f7f7f\">             </span>│<span style=\"color: #7f7f7f; text-decoration-color: #7f7f7f\"> comprehensive healthcare for all, and invests in education.   </span>│\n",
       "│<span style=\"color: #7f7f7f; text-decoration-color: #7f7f7f\">             </span>│<span style=\"color: #7f7f7f; text-decoration-color: #7f7f7f\">                     </span>│<span style=\"color: #7f7f7f; text-decoration-color: #7f7f7f\">             </span>│<span style=\"color: #7f7f7f; text-decoration-color: #7f7f7f\"> While I am not strictly tied to any political party, I tend   </span>│\n",
       "│<span style=\"color: #7f7f7f; text-decoration-color: #7f7f7f\">             </span>│<span style=\"color: #7f7f7f; text-decoration-color: #7f7f7f\">                     </span>│<span style=\"color: #7f7f7f; text-decoration-color: #7f7f7f\">             </span>│<span style=\"color: #7f7f7f; text-decoration-color: #7f7f7f\"> to support policies and candidates that prioritize social     </span>│\n",
       "│<span style=\"color: #7f7f7f; text-decoration-color: #7f7f7f\">             </span>│<span style=\"color: #7f7f7f; text-decoration-color: #7f7f7f\">                     </span>│<span style=\"color: #7f7f7f; text-decoration-color: #7f7f7f\">             </span>│<span style=\"color: #7f7f7f; text-decoration-color: #7f7f7f\"> justice, civil liberties, and a more inclusive society. As a  </span>│\n",
       "│<span style=\"color: #7f7f7f; text-decoration-color: #7f7f7f\">             </span>│<span style=\"color: #7f7f7f; text-decoration-color: #7f7f7f\">                     </span>│<span style=\"color: #7f7f7f; text-decoration-color: #7f7f7f\">             </span>│<span style=\"color: #7f7f7f; text-decoration-color: #7f7f7f\"> Protestant Christian, I also value compassion and community   </span>│\n",
       "│<span style=\"color: #7f7f7f; text-decoration-color: #7f7f7f\">             </span>│<span style=\"color: #7f7f7f; text-decoration-color: #7f7f7f\">                     </span>│<span style=\"color: #7f7f7f; text-decoration-color: #7f7f7f\">             </span>│<span style=\"color: #7f7f7f; text-decoration-color: #7f7f7f\"> support, which inform my stance on issues like welfare and    </span>│\n",
       "│<span style=\"color: #7f7f7f; text-decoration-color: #7f7f7f\">             </span>│<span style=\"color: #7f7f7f; text-decoration-color: #7f7f7f\">                     </span>│<span style=\"color: #7f7f7f; text-decoration-color: #7f7f7f\">             </span>│<span style=\"color: #7f7f7f; text-decoration-color: #7f7f7f\"> immigration. My views are reflective of a broader perspective </span>│\n",
       "│<span style=\"color: #7f7f7f; text-decoration-color: #7f7f7f\">             </span>│<span style=\"color: #7f7f7f; text-decoration-color: #7f7f7f\">                     </span>│<span style=\"color: #7f7f7f; text-decoration-color: #7f7f7f\">             </span>│<span style=\"color: #7f7f7f; text-decoration-color: #7f7f7f\"> that values diversity and progressive change.                 </span>│\n",
       "└─────────────┴─────────────────────┴─────────────┴───────────────────────────────────────────────────────────────┘\n",
       "</pre>\n"
      ],
      "text/plain": [
       "┏━━━━━━━━━━━━━┳━━━━━━━━━━━━━━━━━━━━━┳━━━━━━━━━━━━━┳━━━━━━━━━━━━━━━━━━━━━━━━━━━━━━━━━━━━━━━━━━━━━━━━━━━━━━━━━━━━━━━┓\n",
       "┃\u001b[1;35m \u001b[0m\u001b[1;35magent      \u001b[0m\u001b[1;35m \u001b[0m┃\u001b[1;35m \u001b[0m\u001b[1;35magent              \u001b[0m\u001b[1;35m \u001b[0m┃\u001b[1;35m \u001b[0m\u001b[1;35manswer     \u001b[0m\u001b[1;35m \u001b[0m┃\u001b[1;35m \u001b[0m\u001b[1;35manswer                                                       \u001b[0m\u001b[1;35m \u001b[0m┃\n",
       "┃\u001b[1;35m \u001b[0m\u001b[1;35m.age       \u001b[0m\u001b[1;35m \u001b[0m┃\u001b[1;35m \u001b[0m\u001b[1;35m.education         \u001b[0m\u001b[1;35m \u001b[0m┃\u001b[1;35m \u001b[0m\u001b[1;35m.pid3      \u001b[0m\u001b[1;35m \u001b[0m┃\u001b[1;35m \u001b[0m\u001b[1;35m.views                                                       \u001b[0m\u001b[1;35m \u001b[0m┃\n",
       "┡━━━━━━━━━━━━━╇━━━━━━━━━━━━━━━━━━━━━╇━━━━━━━━━━━━━╇━━━━━━━━━━━━━━━━━━━━━━━━━━━━━━━━━━━━━━━━━━━━━━━━━━━━━━━━━━━━━━━┩\n",
       "│\u001b[2m \u001b[0m\u001b[2m18-29      \u001b[0m\u001b[2m \u001b[0m│\u001b[2m \u001b[0m\u001b[2mHigh school or less\u001b[0m\u001b[2m \u001b[0m│\u001b[2m \u001b[0m\u001b[2mDemocrat   \u001b[0m\u001b[2m \u001b[0m│\u001b[2m \u001b[0m\u001b[2mMy political views are moderate within the Democratic party. \u001b[0m\u001b[2m \u001b[0m│\n",
       "│\u001b[2m             \u001b[0m│\u001b[2m                     \u001b[0m│\u001b[2m             \u001b[0m│\u001b[2m \u001b[0m\u001b[2mI believe in the importance of balancing progressive ideas   \u001b[0m\u001b[2m \u001b[0m│\n",
       "│\u001b[2m             \u001b[0m│\u001b[2m                     \u001b[0m│\u001b[2m             \u001b[0m│\u001b[2m \u001b[0m\u001b[2mwith practical solutions that can be realistically           \u001b[0m\u001b[2m \u001b[0m│\n",
       "│\u001b[2m             \u001b[0m│\u001b[2m                     \u001b[0m│\u001b[2m             \u001b[0m│\u001b[2m \u001b[0m\u001b[2mimplemented. I support equal rights for all, including the   \u001b[0m\u001b[2m \u001b[0m│\n",
       "│\u001b[2m             \u001b[0m│\u001b[2m                     \u001b[0m│\u001b[2m             \u001b[0m│\u001b[2m \u001b[0m\u001b[2mLGBTQ+ community, and I advocate for social justice and      \u001b[0m\u001b[2m \u001b[0m│\n",
       "│\u001b[2m             \u001b[0m│\u001b[2m                     \u001b[0m│\u001b[2m             \u001b[0m│\u001b[2m \u001b[0m\u001b[2meconomic policies that aim to reduce inequality. As a young  \u001b[0m\u001b[2m \u001b[0m│\n",
       "│\u001b[2m             \u001b[0m│\u001b[2m                     \u001b[0m│\u001b[2m             \u001b[0m│\u001b[2m \u001b[0m\u001b[2mblack woman, issues like police reform, affordable           \u001b[0m\u001b[2m \u001b[0m│\n",
       "│\u001b[2m             \u001b[0m│\u001b[2m                     \u001b[0m│\u001b[2m             \u001b[0m│\u001b[2m \u001b[0m\u001b[2mhealthcare, and education are particularly important to me. I\u001b[0m\u001b[2m \u001b[0m│\n",
       "│\u001b[2m             \u001b[0m│\u001b[2m                     \u001b[0m│\u001b[2m             \u001b[0m│\u001b[2m \u001b[0m\u001b[2mvalue the principles of democracy and strive for a government\u001b[0m\u001b[2m \u001b[0m│\n",
       "│\u001b[2m             \u001b[0m│\u001b[2m                     \u001b[0m│\u001b[2m             \u001b[0m│\u001b[2m \u001b[0m\u001b[2mthat represents the diversity and needs of its people.       \u001b[0m\u001b[2m \u001b[0m│\n",
       "├─────────────┼─────────────────────┼─────────────┼───────────────────────────────────────────────────────────────┤\n",
       "│\u001b[2m \u001b[0m\u001b[2m65 and over\u001b[0m\u001b[2m \u001b[0m│\u001b[2m \u001b[0m\u001b[2mCollege/graduate   \u001b[0m\u001b[2m \u001b[0m│\u001b[2m \u001b[0m\u001b[2mIndependent\u001b[0m\u001b[2m \u001b[0m│\u001b[2m \u001b[0m\u001b[2mAs a conservative individual, my political views are guided  \u001b[0m\u001b[2m \u001b[0m│\n",
       "│\u001b[2m             \u001b[0m│\u001b[2m                     \u001b[0m│\u001b[2m             \u001b[0m│\u001b[2m \u001b[0m\u001b[2mby a belief in limited government, personal responsibility,  \u001b[0m\u001b[2m \u001b[0m│\n",
       "│\u001b[2m             \u001b[0m│\u001b[2m                     \u001b[0m│\u001b[2m             \u001b[0m│\u001b[2m \u001b[0m\u001b[2mand traditional values. I value the importance of family, the\u001b[0m\u001b[2m \u001b[0m│\n",
       "│\u001b[2m             \u001b[0m│\u001b[2m                     \u001b[0m│\u001b[2m             \u001b[0m│\u001b[2m \u001b[0m\u001b[2msanctity of life, and the importance of religious freedom. I \u001b[0m\u001b[2m \u001b[0m│\n",
       "│\u001b[2m             \u001b[0m│\u001b[2m                     \u001b[0m│\u001b[2m             \u001b[0m│\u001b[2m \u001b[0m\u001b[2mam fiscally conservative, supporting policies that encourage \u001b[0m\u001b[2m \u001b[0m│\n",
       "│\u001b[2m             \u001b[0m│\u001b[2m                     \u001b[0m│\u001b[2m             \u001b[0m│\u001b[2m \u001b[0m\u001b[2meconomic growth and fiscal responsibility. While I am open to\u001b[0m\u001b[2m \u001b[0m│\n",
       "│\u001b[2m             \u001b[0m│\u001b[2m                     \u001b[0m│\u001b[2m             \u001b[0m│\u001b[2m \u001b[0m\u001b[2mhearing different perspectives, I tend to support policies   \u001b[0m\u001b[2m \u001b[0m│\n",
       "│\u001b[2m             \u001b[0m│\u001b[2m                     \u001b[0m│\u001b[2m             \u001b[0m│\u001b[2m \u001b[0m\u001b[2mthat I believe will uphold the nation's moral fabric, protect\u001b[0m\u001b[2m \u001b[0m│\n",
       "│\u001b[2m             \u001b[0m│\u001b[2m                     \u001b[0m│\u001b[2m             \u001b[0m│\u001b[2m \u001b[0m\u001b[2mits sovereignty, and foster an environment where individuals \u001b[0m\u001b[2m \u001b[0m│\n",
       "│\u001b[2m             \u001b[0m│\u001b[2m                     \u001b[0m│\u001b[2m             \u001b[0m│\u001b[2m \u001b[0m\u001b[2mand businesses can thrive without excessive government       \u001b[0m\u001b[2m \u001b[0m│\n",
       "│\u001b[2m             \u001b[0m│\u001b[2m                     \u001b[0m│\u001b[2m             \u001b[0m│\u001b[2m \u001b[0m\u001b[2mintervention. As an independent voter, I carefully consider  \u001b[0m\u001b[2m \u001b[0m│\n",
       "│\u001b[2m             \u001b[0m│\u001b[2m                     \u001b[0m│\u001b[2m             \u001b[0m│\u001b[2m \u001b[0m\u001b[2meach issue on its own merits rather than following a party   \u001b[0m\u001b[2m \u001b[0m│\n",
       "│\u001b[2m             \u001b[0m│\u001b[2m                     \u001b[0m│\u001b[2m             \u001b[0m│\u001b[2m \u001b[0m\u001b[2mline.                                                        \u001b[0m\u001b[2m \u001b[0m│\n",
       "├─────────────┼─────────────────────┼─────────────┼───────────────────────────────────────────────────────────────┤\n",
       "│\u001b[2m \u001b[0m\u001b[2m45-64      \u001b[0m\u001b[2m \u001b[0m│\u001b[2m \u001b[0m\u001b[2mCollege/graduate   \u001b[0m\u001b[2m \u001b[0m│\u001b[2m \u001b[0m\u001b[2mIndependent\u001b[0m\u001b[2m \u001b[0m│\u001b[2m \u001b[0m\u001b[2mAs an independent with liberal leanings, my political views  \u001b[0m\u001b[2m \u001b[0m│\n",
       "│\u001b[2m             \u001b[0m│\u001b[2m                     \u001b[0m│\u001b[2m             \u001b[0m│\u001b[2m \u001b[0m\u001b[2mare centered around the importance of social equality,       \u001b[0m\u001b[2m \u001b[0m│\n",
       "│\u001b[2m             \u001b[0m│\u001b[2m                     \u001b[0m│\u001b[2m             \u001b[0m│\u001b[2m \u001b[0m\u001b[2menvironmental protection, and the defense of individual      \u001b[0m\u001b[2m \u001b[0m│\n",
       "│\u001b[2m             \u001b[0m│\u001b[2m                     \u001b[0m│\u001b[2m             \u001b[0m│\u001b[2m \u001b[0m\u001b[2mrights, particularly concerning the LGBTQ+ community, given  \u001b[0m\u001b[2m \u001b[0m│\n",
       "│\u001b[2m             \u001b[0m│\u001b[2m                     \u001b[0m│\u001b[2m             \u001b[0m│\u001b[2m \u001b[0m\u001b[2mmy personal identification. I believe in a government that   \u001b[0m\u001b[2m \u001b[0m│\n",
       "│\u001b[2m             \u001b[0m│\u001b[2m                     \u001b[0m│\u001b[2m             \u001b[0m│\u001b[2m \u001b[0m\u001b[2mactively works to reduce economic disparities, supports      \u001b[0m\u001b[2m \u001b[0m│\n",
       "│\u001b[2m             \u001b[0m│\u001b[2m                     \u001b[0m│\u001b[2m             \u001b[0m│\u001b[2m \u001b[0m\u001b[2mcomprehensive healthcare for all, and invests in education.  \u001b[0m\u001b[2m \u001b[0m│\n",
       "│\u001b[2m             \u001b[0m│\u001b[2m                     \u001b[0m│\u001b[2m             \u001b[0m│\u001b[2m \u001b[0m\u001b[2mWhile I am not strictly tied to any political party, I tend  \u001b[0m\u001b[2m \u001b[0m│\n",
       "│\u001b[2m             \u001b[0m│\u001b[2m                     \u001b[0m│\u001b[2m             \u001b[0m│\u001b[2m \u001b[0m\u001b[2mto support policies and candidates that prioritize social    \u001b[0m\u001b[2m \u001b[0m│\n",
       "│\u001b[2m             \u001b[0m│\u001b[2m                     \u001b[0m│\u001b[2m             \u001b[0m│\u001b[2m \u001b[0m\u001b[2mjustice, civil liberties, and a more inclusive society. As a \u001b[0m\u001b[2m \u001b[0m│\n",
       "│\u001b[2m             \u001b[0m│\u001b[2m                     \u001b[0m│\u001b[2m             \u001b[0m│\u001b[2m \u001b[0m\u001b[2mProtestant Christian, I also value compassion and community  \u001b[0m\u001b[2m \u001b[0m│\n",
       "│\u001b[2m             \u001b[0m│\u001b[2m                     \u001b[0m│\u001b[2m             \u001b[0m│\u001b[2m \u001b[0m\u001b[2msupport, which inform my stance on issues like welfare and   \u001b[0m\u001b[2m \u001b[0m│\n",
       "│\u001b[2m             \u001b[0m│\u001b[2m                     \u001b[0m│\u001b[2m             \u001b[0m│\u001b[2m \u001b[0m\u001b[2mimmigration. My views are reflective of a broader perspective\u001b[0m\u001b[2m \u001b[0m│\n",
       "│\u001b[2m             \u001b[0m│\u001b[2m                     \u001b[0m│\u001b[2m             \u001b[0m│\u001b[2m \u001b[0m\u001b[2mthat values diversity and progressive change.                \u001b[0m\u001b[2m \u001b[0m│\n",
       "└─────────────┴─────────────────────┴─────────────┴───────────────────────────────────────────────────────────────┘\n"
      ]
     },
     "metadata": {},
     "output_type": "display_data"
    }
   ],
   "source": [
    "(results\n",
    " .select(\"age\", \"education\", \"pid3\", \"views\")\n",
    " .print(format=\"rich\")\n",
    ")"
   ]
  },
  {
   "cell_type": "markdown",
   "id": "e429de3f-c858-48a7-b201-f95317f4b22d",
   "metadata": {},
   "source": [
    "### Answer commentary\n",
    "Question types other than free text automatically include a `comment` field for the agent to provide any unstructured commentary on its response to a question. This is useful in ensuring that responses are formatted as specified, providing an outlet for model verbosity. For example, in `results.columns` we can see that there is a field `comment.pid3_comment`. We can inspect this field as we do any other component of results. Here we also apply some `pretty_labels` to our table for readability:"
   ]
  },
  {
   "cell_type": "code",
   "execution_count": 14,
   "id": "d938b306-1cde-4d96-bcff-bb7c91f58305",
   "metadata": {},
   "outputs": [
    {
     "data": {
      "text/html": [
       "<pre style=\"white-space:pre;overflow-x:auto;line-height:normal;font-family:Menlo,'DejaVu Sans Mono',consolas,'Courier New',monospace\">┏━━━━━━━━━━━━━┳━━━━━━━━━━━━━━━━━━━━━━━━━━━━━━━━━━━━━━━━━━━━━━━━━━━━━━━━━━━━━━━━━━━━━━━━━━━━━━━━━━━━━━━━━━━━━━━━━━━┓\n",
       "┃<span style=\"color: #800080; text-decoration-color: #800080; font-weight: bold\"> Party       </span>┃<span style=\"color: #800080; text-decoration-color: #800080; font-weight: bold\"> Comment                                                                                           </span>┃\n",
       "┡━━━━━━━━━━━━━╇━━━━━━━━━━━━━━━━━━━━━━━━━━━━━━━━━━━━━━━━━━━━━━━━━━━━━━━━━━━━━━━━━━━━━━━━━━━━━━━━━━━━━━━━━━━━━━━━━━━┩\n",
       "│<span style=\"color: #7f7f7f; text-decoration-color: #7f7f7f\"> Democrat    </span>│<span style=\"color: #7f7f7f; text-decoration-color: #7f7f7f\"> I align with the Democratic Party and its values, and I identify as a Democrat.                   </span>│\n",
       "├─────────────┼───────────────────────────────────────────────────────────────────────────────────────────────────┤\n",
       "│<span style=\"color: #7f7f7f; text-decoration-color: #7f7f7f\"> Independent </span>│<span style=\"color: #7f7f7f; text-decoration-color: #7f7f7f\"> As an independent thinker with conservative views, I align myself with the Independent category,  </span>│\n",
       "│<span style=\"color: #7f7f7f; text-decoration-color: #7f7f7f\">             </span>│<span style=\"color: #7f7f7f; text-decoration-color: #7f7f7f\"> as I do not strictly adhere to the platforms of the major political parties.                      </span>│\n",
       "├─────────────┼───────────────────────────────────────────────────────────────────────────────────────────────────┤\n",
       "│<span style=\"color: #7f7f7f; text-decoration-color: #7f7f7f\"> Independent </span>│<span style=\"color: #7f7f7f; text-decoration-color: #7f7f7f\"> As someone who identifies as an Independent with liberal views, I align most with the Independent </span>│\n",
       "│<span style=\"color: #7f7f7f; text-decoration-color: #7f7f7f\">             </span>│<span style=\"color: #7f7f7f; text-decoration-color: #7f7f7f\"> category.                                                                                         </span>│\n",
       "└─────────────┴───────────────────────────────────────────────────────────────────────────────────────────────────┘\n",
       "</pre>\n"
      ],
      "text/plain": [
       "┏━━━━━━━━━━━━━┳━━━━━━━━━━━━━━━━━━━━━━━━━━━━━━━━━━━━━━━━━━━━━━━━━━━━━━━━━━━━━━━━━━━━━━━━━━━━━━━━━━━━━━━━━━━━━━━━━━━┓\n",
       "┃\u001b[1;35m \u001b[0m\u001b[1;35mParty      \u001b[0m\u001b[1;35m \u001b[0m┃\u001b[1;35m \u001b[0m\u001b[1;35mComment                                                                                          \u001b[0m\u001b[1;35m \u001b[0m┃\n",
       "┡━━━━━━━━━━━━━╇━━━━━━━━━━━━━━━━━━━━━━━━━━━━━━━━━━━━━━━━━━━━━━━━━━━━━━━━━━━━━━━━━━━━━━━━━━━━━━━━━━━━━━━━━━━━━━━━━━━┩\n",
       "│\u001b[2m \u001b[0m\u001b[2mDemocrat   \u001b[0m\u001b[2m \u001b[0m│\u001b[2m \u001b[0m\u001b[2mI align with the Democratic Party and its values, and I identify as a Democrat.                  \u001b[0m\u001b[2m \u001b[0m│\n",
       "├─────────────┼───────────────────────────────────────────────────────────────────────────────────────────────────┤\n",
       "│\u001b[2m \u001b[0m\u001b[2mIndependent\u001b[0m\u001b[2m \u001b[0m│\u001b[2m \u001b[0m\u001b[2mAs an independent thinker with conservative views, I align myself with the Independent category, \u001b[0m\u001b[2m \u001b[0m│\n",
       "│\u001b[2m             \u001b[0m│\u001b[2m \u001b[0m\u001b[2mas I do not strictly adhere to the platforms of the major political parties.                     \u001b[0m\u001b[2m \u001b[0m│\n",
       "├─────────────┼───────────────────────────────────────────────────────────────────────────────────────────────────┤\n",
       "│\u001b[2m \u001b[0m\u001b[2mIndependent\u001b[0m\u001b[2m \u001b[0m│\u001b[2m \u001b[0m\u001b[2mAs someone who identifies as an Independent with liberal views, I align most with the Independent\u001b[0m\u001b[2m \u001b[0m│\n",
       "│\u001b[2m             \u001b[0m│\u001b[2m \u001b[0m\u001b[2mcategory.                                                                                        \u001b[0m\u001b[2m \u001b[0m│\n",
       "└─────────────┴───────────────────────────────────────────────────────────────────────────────────────────────────┘\n"
      ]
     },
     "metadata": {},
     "output_type": "display_data"
    }
   ],
   "source": [
    "(results\n",
    " .select(\"pid3\", \"pid3_comment\")\n",
    " .print(pretty_labels = {\"answer.pid3\":\"Party\", \n",
    "                         \"comment.pid3_comment\":\"Comment\"},\n",
    "        format=\"rich\")\n",
    ")"
   ]
  },
  {
   "cell_type": "markdown",
   "id": "06fe9b09-0fa4-424b-8b97-e96dfdd1c3e5",
   "metadata": {},
   "source": [
    "### Selecting language models\n",
    "As mentioned above, if we do not specify a language model GPT 4 is used by default. \n",
    "We can also specify other language models to use in generating results, and compare responses for them.\n",
    "\n",
    "To see a list of all available models (uncomment the code):"
   ]
  },
  {
   "cell_type": "code",
   "execution_count": 15,
   "id": "c156b3f4-4243-40ad-baf0-2dea9e769bf1",
   "metadata": {},
   "outputs": [],
   "source": [
    "from edsl import Model, ModelList\n",
    "\n",
    "# Model.available()"
   ]
  },
  {
   "cell_type": "markdown",
   "id": "7305613d-6aad-4bb2-b190-a2ca648d10d3",
   "metadata": {},
   "source": [
    "To check models you have stored API keys for (uncomment the code):"
   ]
  },
  {
   "cell_type": "code",
   "execution_count": 16,
   "id": "198cc57a-18e3-470f-9f91-39bf8060e97a",
   "metadata": {},
   "outputs": [],
   "source": [
    "# Model.check_models()"
   ]
  },
  {
   "cell_type": "markdown",
   "id": "a37c8e4d-2052-4bd4-8802-2e667036321f",
   "metadata": {},
   "source": [
    "To select models for a survey, pass the model names to `Model` objects:"
   ]
  },
  {
   "cell_type": "code",
   "execution_count": 17,
   "id": "0c11f717-1e30-48e0-90de-e765e82f8c6b",
   "metadata": {},
   "outputs": [],
   "source": [
    "models = ModelList(\n",
    "    Model(m) for m in [\"gpt-3.5-turbo\", \"gpt-4\"]\n",
    ")"
   ]
  },
  {
   "cell_type": "markdown",
   "id": "015b8459-793b-4198-93d3-0b7409133489",
   "metadata": {},
   "source": [
    "We add a `Model` or list of models to a survey with the `by` method, the same as we do agents:"
   ]
  },
  {
   "cell_type": "code",
   "execution_count": 18,
   "id": "99301514-5920-4b61-ad27-aff665f54de7",
   "metadata": {},
   "outputs": [
    {
     "data": {
      "text/html": [
       "<pre style=\"white-space:pre;overflow-x:auto;line-height:normal;font-family:Menlo,'DejaVu Sans Mono',consolas,'Courier New',monospace\">┏━━━━━━━━━━━━━━━┳━━━━━━━━━━━━━┳━━━━━━━━━━━━━━━━━━━━━━━━━━━━━━━━━━━━━━━━━━━━━━━━━━━━━━━━━━━━━━━━━━━━━━━━━━━━━━━━━━━┓\n",
       "┃<span style=\"color: #800080; text-decoration-color: #800080; font-weight: bold\"> model         </span>┃<span style=\"color: #800080; text-decoration-color: #800080; font-weight: bold\"> answer      </span>┃<span style=\"color: #800080; text-decoration-color: #800080; font-weight: bold\"> comment                                                                           </span>┃\n",
       "┃<span style=\"color: #800080; text-decoration-color: #800080; font-weight: bold\"> .model        </span>┃<span style=\"color: #800080; text-decoration-color: #800080; font-weight: bold\"> .pid3       </span>┃<span style=\"color: #800080; text-decoration-color: #800080; font-weight: bold\"> .pid3_comment                                                                     </span>┃\n",
       "┡━━━━━━━━━━━━━━━╇━━━━━━━━━━━━━╇━━━━━━━━━━━━━━━━━━━━━━━━━━━━━━━━━━━━━━━━━━━━━━━━━━━━━━━━━━━━━━━━━━━━━━━━━━━━━━━━━━━┩\n",
       "│<span style=\"color: #7f7f7f; text-decoration-color: #7f7f7f\"> gpt-3.5-turbo </span>│<span style=\"color: #7f7f7f; text-decoration-color: #7f7f7f\"> Other       </span>│<span style=\"color: #7f7f7f; text-decoration-color: #7f7f7f\"> I consider myself as an Independent/Other due to my conservative views and        </span>│\n",
       "│<span style=\"color: #7f7f7f; text-decoration-color: #7f7f7f\">               </span>│<span style=\"color: #7f7f7f; text-decoration-color: #7f7f7f\">             </span>│<span style=\"color: #7f7f7f; text-decoration-color: #7f7f7f\"> independent thinking.                                                             </span>│\n",
       "├───────────────┼─────────────┼───────────────────────────────────────────────────────────────────────────────────┤\n",
       "│<span style=\"color: #7f7f7f; text-decoration-color: #7f7f7f\"> gpt-3.5-turbo </span>│<span style=\"color: #7f7f7f; text-decoration-color: #7f7f7f\"> Democrat    </span>│<span style=\"color: #7f7f7f; text-decoration-color: #7f7f7f\"> I think of myself as a Democrat based on my party affiliation.                    </span>│\n",
       "├───────────────┼─────────────┼───────────────────────────────────────────────────────────────────────────────────┤\n",
       "│<span style=\"color: #7f7f7f; text-decoration-color: #7f7f7f\"> gpt-3.5-turbo </span>│<span style=\"color: #7f7f7f; text-decoration-color: #7f7f7f\"> Independent </span>│<span style=\"color: #7f7f7f; text-decoration-color: #7f7f7f\"> I think of myself as an Independent because I do not align strictly with either   </span>│\n",
       "│<span style=\"color: #7f7f7f; text-decoration-color: #7f7f7f\">               </span>│<span style=\"color: #7f7f7f; text-decoration-color: #7f7f7f\">             </span>│<span style=\"color: #7f7f7f; text-decoration-color: #7f7f7f\"> the Democratic or Republican party. I prefer to evaluate each issue independently </span>│\n",
       "│<span style=\"color: #7f7f7f; text-decoration-color: #7f7f7f\">               </span>│<span style=\"color: #7f7f7f; text-decoration-color: #7f7f7f\">             </span>│<span style=\"color: #7f7f7f; text-decoration-color: #7f7f7f\"> and make decisions based on my own beliefs and values.                            </span>│\n",
       "├───────────────┼─────────────┼───────────────────────────────────────────────────────────────────────────────────┤\n",
       "│<span style=\"color: #7f7f7f; text-decoration-color: #7f7f7f\"> gpt-4         </span>│<span style=\"color: #7f7f7f; text-decoration-color: #7f7f7f\"> Independent </span>│<span style=\"color: #7f7f7f; text-decoration-color: #7f7f7f\"> As an individual who identifies as Independent/Other in terms of party            </span>│\n",
       "│<span style=\"color: #7f7f7f; text-decoration-color: #7f7f7f\">               </span>│<span style=\"color: #7f7f7f; text-decoration-color: #7f7f7f\">             </span>│<span style=\"color: #7f7f7f; text-decoration-color: #7f7f7f\"> affiliation, I would classify myself as an Independent. Although my political     </span>│\n",
       "│<span style=\"color: #7f7f7f; text-decoration-color: #7f7f7f\">               </span>│<span style=\"color: #7f7f7f; text-decoration-color: #7f7f7f\">             </span>│<span style=\"color: #7f7f7f; text-decoration-color: #7f7f7f\"> ideology leans towards liberal, I prefer not to align myself strictly with the    </span>│\n",
       "│<span style=\"color: #7f7f7f; text-decoration-color: #7f7f7f\">               </span>│<span style=\"color: #7f7f7f; text-decoration-color: #7f7f7f\">             </span>│<span style=\"color: #7f7f7f; text-decoration-color: #7f7f7f\"> Democratic party, believing in the importance of evaluating each issue and        </span>│\n",
       "│<span style=\"color: #7f7f7f; text-decoration-color: #7f7f7f\">               </span>│<span style=\"color: #7f7f7f; text-decoration-color: #7f7f7f\">             </span>│<span style=\"color: #7f7f7f; text-decoration-color: #7f7f7f\"> candidate independently.                                                          </span>│\n",
       "├───────────────┼─────────────┼───────────────────────────────────────────────────────────────────────────────────┤\n",
       "│<span style=\"color: #7f7f7f; text-decoration-color: #7f7f7f\"> gpt-4         </span>│<span style=\"color: #7f7f7f; text-decoration-color: #7f7f7f\"> Independent </span>│<span style=\"color: #7f7f7f; text-decoration-color: #7f7f7f\"> As an independent, I do not align myself strictly with either the Democratic or   </span>│\n",
       "│<span style=\"color: #7f7f7f; text-decoration-color: #7f7f7f\">               </span>│<span style=\"color: #7f7f7f; text-decoration-color: #7f7f7f\">             </span>│<span style=\"color: #7f7f7f; text-decoration-color: #7f7f7f\"> Republican party. I prefer to evaluate each issue on its own merits rather than   </span>│\n",
       "│<span style=\"color: #7f7f7f; text-decoration-color: #7f7f7f\">               </span>│<span style=\"color: #7f7f7f; text-decoration-color: #7f7f7f\">             </span>│<span style=\"color: #7f7f7f; text-decoration-color: #7f7f7f\"> adhering to a party line. My conservative leanings influence my decisions, but I  </span>│\n",
       "│<span style=\"color: #7f7f7f; text-decoration-color: #7f7f7f\">               </span>│<span style=\"color: #7f7f7f; text-decoration-color: #7f7f7f\">             </span>│<span style=\"color: #7f7f7f; text-decoration-color: #7f7f7f\"> maintain my independence in political matters.                                    </span>│\n",
       "├───────────────┼─────────────┼───────────────────────────────────────────────────────────────────────────────────┤\n",
       "│<span style=\"color: #7f7f7f; text-decoration-color: #7f7f7f\"> gpt-4         </span>│<span style=\"color: #7f7f7f; text-decoration-color: #7f7f7f\"> Democrat    </span>│<span style=\"color: #7f7f7f; text-decoration-color: #7f7f7f\"> I identify myself as a Democrat, aligning with the party's values and principles. </span>│\n",
       "└───────────────┴─────────────┴───────────────────────────────────────────────────────────────────────────────────┘\n",
       "</pre>\n"
      ],
      "text/plain": [
       "┏━━━━━━━━━━━━━━━┳━━━━━━━━━━━━━┳━━━━━━━━━━━━━━━━━━━━━━━━━━━━━━━━━━━━━━━━━━━━━━━━━━━━━━━━━━━━━━━━━━━━━━━━━━━━━━━━━━━┓\n",
       "┃\u001b[1;35m \u001b[0m\u001b[1;35mmodel        \u001b[0m\u001b[1;35m \u001b[0m┃\u001b[1;35m \u001b[0m\u001b[1;35manswer     \u001b[0m\u001b[1;35m \u001b[0m┃\u001b[1;35m \u001b[0m\u001b[1;35mcomment                                                                          \u001b[0m\u001b[1;35m \u001b[0m┃\n",
       "┃\u001b[1;35m \u001b[0m\u001b[1;35m.model       \u001b[0m\u001b[1;35m \u001b[0m┃\u001b[1;35m \u001b[0m\u001b[1;35m.pid3      \u001b[0m\u001b[1;35m \u001b[0m┃\u001b[1;35m \u001b[0m\u001b[1;35m.pid3_comment                                                                    \u001b[0m\u001b[1;35m \u001b[0m┃\n",
       "┡━━━━━━━━━━━━━━━╇━━━━━━━━━━━━━╇━━━━━━━━━━━━━━━━━━━━━━━━━━━━━━━━━━━━━━━━━━━━━━━━━━━━━━━━━━━━━━━━━━━━━━━━━━━━━━━━━━━┩\n",
       "│\u001b[2m \u001b[0m\u001b[2mgpt-3.5-turbo\u001b[0m\u001b[2m \u001b[0m│\u001b[2m \u001b[0m\u001b[2mOther      \u001b[0m\u001b[2m \u001b[0m│\u001b[2m \u001b[0m\u001b[2mI consider myself as an Independent/Other due to my conservative views and       \u001b[0m\u001b[2m \u001b[0m│\n",
       "│\u001b[2m               \u001b[0m│\u001b[2m             \u001b[0m│\u001b[2m \u001b[0m\u001b[2mindependent thinking.                                                            \u001b[0m\u001b[2m \u001b[0m│\n",
       "├───────────────┼─────────────┼───────────────────────────────────────────────────────────────────────────────────┤\n",
       "│\u001b[2m \u001b[0m\u001b[2mgpt-3.5-turbo\u001b[0m\u001b[2m \u001b[0m│\u001b[2m \u001b[0m\u001b[2mDemocrat   \u001b[0m\u001b[2m \u001b[0m│\u001b[2m \u001b[0m\u001b[2mI think of myself as a Democrat based on my party affiliation.                   \u001b[0m\u001b[2m \u001b[0m│\n",
       "├───────────────┼─────────────┼───────────────────────────────────────────────────────────────────────────────────┤\n",
       "│\u001b[2m \u001b[0m\u001b[2mgpt-3.5-turbo\u001b[0m\u001b[2m \u001b[0m│\u001b[2m \u001b[0m\u001b[2mIndependent\u001b[0m\u001b[2m \u001b[0m│\u001b[2m \u001b[0m\u001b[2mI think of myself as an Independent because I do not align strictly with either  \u001b[0m\u001b[2m \u001b[0m│\n",
       "│\u001b[2m               \u001b[0m│\u001b[2m             \u001b[0m│\u001b[2m \u001b[0m\u001b[2mthe Democratic or Republican party. I prefer to evaluate each issue independently\u001b[0m\u001b[2m \u001b[0m│\n",
       "│\u001b[2m               \u001b[0m│\u001b[2m             \u001b[0m│\u001b[2m \u001b[0m\u001b[2mand make decisions based on my own beliefs and values.                           \u001b[0m\u001b[2m \u001b[0m│\n",
       "├───────────────┼─────────────┼───────────────────────────────────────────────────────────────────────────────────┤\n",
       "│\u001b[2m \u001b[0m\u001b[2mgpt-4        \u001b[0m\u001b[2m \u001b[0m│\u001b[2m \u001b[0m\u001b[2mIndependent\u001b[0m\u001b[2m \u001b[0m│\u001b[2m \u001b[0m\u001b[2mAs an individual who identifies as Independent/Other in terms of party           \u001b[0m\u001b[2m \u001b[0m│\n",
       "│\u001b[2m               \u001b[0m│\u001b[2m             \u001b[0m│\u001b[2m \u001b[0m\u001b[2maffiliation, I would classify myself as an Independent. Although my political    \u001b[0m\u001b[2m \u001b[0m│\n",
       "│\u001b[2m               \u001b[0m│\u001b[2m             \u001b[0m│\u001b[2m \u001b[0m\u001b[2mideology leans towards liberal, I prefer not to align myself strictly with the   \u001b[0m\u001b[2m \u001b[0m│\n",
       "│\u001b[2m               \u001b[0m│\u001b[2m             \u001b[0m│\u001b[2m \u001b[0m\u001b[2mDemocratic party, believing in the importance of evaluating each issue and       \u001b[0m\u001b[2m \u001b[0m│\n",
       "│\u001b[2m               \u001b[0m│\u001b[2m             \u001b[0m│\u001b[2m \u001b[0m\u001b[2mcandidate independently.                                                         \u001b[0m\u001b[2m \u001b[0m│\n",
       "├───────────────┼─────────────┼───────────────────────────────────────────────────────────────────────────────────┤\n",
       "│\u001b[2m \u001b[0m\u001b[2mgpt-4        \u001b[0m\u001b[2m \u001b[0m│\u001b[2m \u001b[0m\u001b[2mIndependent\u001b[0m\u001b[2m \u001b[0m│\u001b[2m \u001b[0m\u001b[2mAs an independent, I do not align myself strictly with either the Democratic or  \u001b[0m\u001b[2m \u001b[0m│\n",
       "│\u001b[2m               \u001b[0m│\u001b[2m             \u001b[0m│\u001b[2m \u001b[0m\u001b[2mRepublican party. I prefer to evaluate each issue on its own merits rather than  \u001b[0m\u001b[2m \u001b[0m│\n",
       "│\u001b[2m               \u001b[0m│\u001b[2m             \u001b[0m│\u001b[2m \u001b[0m\u001b[2madhering to a party line. My conservative leanings influence my decisions, but I \u001b[0m\u001b[2m \u001b[0m│\n",
       "│\u001b[2m               \u001b[0m│\u001b[2m             \u001b[0m│\u001b[2m \u001b[0m\u001b[2mmaintain my independence in political matters.                                   \u001b[0m\u001b[2m \u001b[0m│\n",
       "├───────────────┼─────────────┼───────────────────────────────────────────────────────────────────────────────────┤\n",
       "│\u001b[2m \u001b[0m\u001b[2mgpt-4        \u001b[0m\u001b[2m \u001b[0m│\u001b[2m \u001b[0m\u001b[2mDemocrat   \u001b[0m\u001b[2m \u001b[0m│\u001b[2m \u001b[0m\u001b[2mI identify myself as a Democrat, aligning with the party's values and principles.\u001b[0m\u001b[2m \u001b[0m│\n",
       "└───────────────┴─────────────┴───────────────────────────────────────────────────────────────────────────────────┘\n"
      ]
     },
     "metadata": {},
     "output_type": "display_data"
    }
   ],
   "source": [
    "results = survey.by(agents).by(models).run()\n",
    "\n",
    "results.select(\"model\", \"pid3\", \"pid3_comment\").print(format=\"rich\")"
   ]
  },
  {
   "cell_type": "markdown",
   "id": "97ed64f8-369d-4cea-9a41-0c6fc2ebe446",
   "metadata": {},
   "source": [
    "Learn more about [specifying language models](https://docs.expectedparrot.com/en/latest/language_models.html)."
   ]
  },
  {
   "cell_type": "markdown",
   "id": "5d80e31a-a9f9-4ff1-976a-d14e39ff6b71",
   "metadata": {},
   "source": [
    "### Question context & memory\n",
    "Survey questions are administered asynchronously by default, for efficiency. \n",
    "If we want an agent to have the context of one or more prior questions when presented a new question we can apply a rule specifying the questions and answers to add to the new question prompt:"
   ]
  },
  {
   "cell_type": "code",
   "execution_count": 19,
   "id": "aa8f377c-8da1-437e-a52c-01d3a5baed9f",
   "metadata": {},
   "outputs": [],
   "source": [
    "from edsl import QuestionMultipleChoice, QuestionFreeText, Survey\n",
    "\n",
    "# From the CES pre-election questionnaire\n",
    "q_CC22_309e = QuestionMultipleChoice(\n",
    "    question_name=\"CC22_309e\",\n",
    "    question_text=\"Would you say that in general your health is...\",\n",
    "    question_options=[\"Excellent\", \"Very good\", \"Good\", \"Fair\", \"Poor\"]\n",
    ")\n",
    "\n",
    "q_CC22_309f = QuestionMultipleChoice(\n",
    "    question_name=\"CC22_309f\",\n",
    "    question_text=\"Would you say that in general your mental health is...\",\n",
    "    question_options=[\"Excellent\", \"Very good\", \"Good\", \"Fair\", \"Poor\"]\n",
    ")\n",
    "\n",
    "survey = Survey([q_CC22_309e, q_CC22_309f])"
   ]
  },
  {
   "cell_type": "markdown",
   "id": "8686e316-3180-4e12-8ab9-a7f364959a25",
   "metadata": {},
   "source": [
    "Here we add a memory of `q_CC22_309e` when administering `q_CC22_309f` and show the prompts that were administered:"
   ]
  },
  {
   "cell_type": "code",
   "execution_count": 20,
   "id": "88dc88b9-ee79-4010-84b3-aead1fcd7c68",
   "metadata": {},
   "outputs": [],
   "source": [
    "survey = survey.add_targeted_memory(q_CC22_309f, q_CC22_309e)"
   ]
  },
  {
   "cell_type": "code",
   "execution_count": 21,
   "id": "cd5c848e-2c23-4cf2-833e-65be8f33a9d8",
   "metadata": {},
   "outputs": [],
   "source": [
    "results = survey.run()"
   ]
  },
  {
   "cell_type": "code",
   "execution_count": 22,
   "id": "a573a00a-5e0d-4937-9d58-097267614eaf",
   "metadata": {},
   "outputs": [
    {
     "data": {
      "text/html": [
       "<pre style=\"white-space:pre;overflow-x:auto;line-height:normal;font-family:Menlo,'DejaVu Sans Mono',consolas,'Courier New',monospace\">┏━━━━━━━━━━━━━━━━━━━━━━━━━━━━━━━━━━━━━━━━━━━┳━━━━━━━━━━━━━━━━━━━━━━━━━━━━━━━━━━━━━━━━━━━┳━━━━━━━━━━━━┳━━━━━━━━━━━━┓\n",
       "┃<span style=\"color: #800080; text-decoration-color: #800080; font-weight: bold\"> prompt                                    </span>┃<span style=\"color: #800080; text-decoration-color: #800080; font-weight: bold\"> prompt                                    </span>┃<span style=\"color: #800080; text-decoration-color: #800080; font-weight: bold\"> answer     </span>┃<span style=\"color: #800080; text-decoration-color: #800080; font-weight: bold\"> answer     </span>┃\n",
       "┃<span style=\"color: #800080; text-decoration-color: #800080; font-weight: bold\"> .CC22_309e_user_prompt                    </span>┃<span style=\"color: #800080; text-decoration-color: #800080; font-weight: bold\"> .CC22_309f_user_prompt                    </span>┃<span style=\"color: #800080; text-decoration-color: #800080; font-weight: bold\"> .CC22_309e </span>┃<span style=\"color: #800080; text-decoration-color: #800080; font-weight: bold\"> .CC22_309f </span>┃\n",
       "┡━━━━━━━━━━━━━━━━━━━━━━━━━━━━━━━━━━━━━━━━━━━╇━━━━━━━━━━━━━━━━━━━━━━━━━━━━━━━━━━━━━━━━━━━╇━━━━━━━━━━━━╇━━━━━━━━━━━━┩\n",
       "│<span style=\"color: #7f7f7f; text-decoration-color: #7f7f7f\"> You are being asked the following         </span>│<span style=\"color: #7f7f7f; text-decoration-color: #7f7f7f\"> You are being asked the following         </span>│<span style=\"color: #7f7f7f; text-decoration-color: #7f7f7f\"> Good       </span>│<span style=\"color: #7f7f7f; text-decoration-color: #7f7f7f\"> Good       </span>│\n",
       "│<span style=\"color: #7f7f7f; text-decoration-color: #7f7f7f\"> question: Would you say that in general   </span>│<span style=\"color: #7f7f7f; text-decoration-color: #7f7f7f\"> question: Would you say that in general   </span>│<span style=\"color: #7f7f7f; text-decoration-color: #7f7f7f\">            </span>│<span style=\"color: #7f7f7f; text-decoration-color: #7f7f7f\">            </span>│\n",
       "│<span style=\"color: #7f7f7f; text-decoration-color: #7f7f7f\"> your health is...                         </span>│<span style=\"color: #7f7f7f; text-decoration-color: #7f7f7f\"> your mental health is...                  </span>│<span style=\"color: #7f7f7f; text-decoration-color: #7f7f7f\">            </span>│<span style=\"color: #7f7f7f; text-decoration-color: #7f7f7f\">            </span>│\n",
       "│<span style=\"color: #7f7f7f; text-decoration-color: #7f7f7f\"> The options are                           </span>│<span style=\"color: #7f7f7f; text-decoration-color: #7f7f7f\"> The options are                           </span>│<span style=\"color: #7f7f7f; text-decoration-color: #7f7f7f\">            </span>│<span style=\"color: #7f7f7f; text-decoration-color: #7f7f7f\">            </span>│\n",
       "│<span style=\"color: #7f7f7f; text-decoration-color: #7f7f7f\">                                           </span>│<span style=\"color: #7f7f7f; text-decoration-color: #7f7f7f\">                                           </span>│<span style=\"color: #7f7f7f; text-decoration-color: #7f7f7f\">            </span>│<span style=\"color: #7f7f7f; text-decoration-color: #7f7f7f\">            </span>│\n",
       "│<span style=\"color: #7f7f7f; text-decoration-color: #7f7f7f\"> 0: Excellent                              </span>│<span style=\"color: #7f7f7f; text-decoration-color: #7f7f7f\"> 0: Excellent                              </span>│<span style=\"color: #7f7f7f; text-decoration-color: #7f7f7f\">            </span>│<span style=\"color: #7f7f7f; text-decoration-color: #7f7f7f\">            </span>│\n",
       "│<span style=\"color: #7f7f7f; text-decoration-color: #7f7f7f\">                                           </span>│<span style=\"color: #7f7f7f; text-decoration-color: #7f7f7f\">                                           </span>│<span style=\"color: #7f7f7f; text-decoration-color: #7f7f7f\">            </span>│<span style=\"color: #7f7f7f; text-decoration-color: #7f7f7f\">            </span>│\n",
       "│<span style=\"color: #7f7f7f; text-decoration-color: #7f7f7f\"> 1: Very good                              </span>│<span style=\"color: #7f7f7f; text-decoration-color: #7f7f7f\"> 1: Very good                              </span>│<span style=\"color: #7f7f7f; text-decoration-color: #7f7f7f\">            </span>│<span style=\"color: #7f7f7f; text-decoration-color: #7f7f7f\">            </span>│\n",
       "│<span style=\"color: #7f7f7f; text-decoration-color: #7f7f7f\">                                           </span>│<span style=\"color: #7f7f7f; text-decoration-color: #7f7f7f\">                                           </span>│<span style=\"color: #7f7f7f; text-decoration-color: #7f7f7f\">            </span>│<span style=\"color: #7f7f7f; text-decoration-color: #7f7f7f\">            </span>│\n",
       "│<span style=\"color: #7f7f7f; text-decoration-color: #7f7f7f\"> 2: Good                                   </span>│<span style=\"color: #7f7f7f; text-decoration-color: #7f7f7f\"> 2: Good                                   </span>│<span style=\"color: #7f7f7f; text-decoration-color: #7f7f7f\">            </span>│<span style=\"color: #7f7f7f; text-decoration-color: #7f7f7f\">            </span>│\n",
       "│<span style=\"color: #7f7f7f; text-decoration-color: #7f7f7f\">                                           </span>│<span style=\"color: #7f7f7f; text-decoration-color: #7f7f7f\">                                           </span>│<span style=\"color: #7f7f7f; text-decoration-color: #7f7f7f\">            </span>│<span style=\"color: #7f7f7f; text-decoration-color: #7f7f7f\">            </span>│\n",
       "│<span style=\"color: #7f7f7f; text-decoration-color: #7f7f7f\"> 3: Fair                                   </span>│<span style=\"color: #7f7f7f; text-decoration-color: #7f7f7f\"> 3: Fair                                   </span>│<span style=\"color: #7f7f7f; text-decoration-color: #7f7f7f\">            </span>│<span style=\"color: #7f7f7f; text-decoration-color: #7f7f7f\">            </span>│\n",
       "│<span style=\"color: #7f7f7f; text-decoration-color: #7f7f7f\">                                           </span>│<span style=\"color: #7f7f7f; text-decoration-color: #7f7f7f\">                                           </span>│<span style=\"color: #7f7f7f; text-decoration-color: #7f7f7f\">            </span>│<span style=\"color: #7f7f7f; text-decoration-color: #7f7f7f\">            </span>│\n",
       "│<span style=\"color: #7f7f7f; text-decoration-color: #7f7f7f\"> 4: Poor                                   </span>│<span style=\"color: #7f7f7f; text-decoration-color: #7f7f7f\"> 4: Poor                                   </span>│<span style=\"color: #7f7f7f; text-decoration-color: #7f7f7f\">            </span>│<span style=\"color: #7f7f7f; text-decoration-color: #7f7f7f\">            </span>│\n",
       "│<span style=\"color: #7f7f7f; text-decoration-color: #7f7f7f\">                                           </span>│<span style=\"color: #7f7f7f; text-decoration-color: #7f7f7f\">                                           </span>│<span style=\"color: #7f7f7f; text-decoration-color: #7f7f7f\">            </span>│<span style=\"color: #7f7f7f; text-decoration-color: #7f7f7f\">            </span>│\n",
       "│<span style=\"color: #7f7f7f; text-decoration-color: #7f7f7f\"> Return a valid JSON formatted like this,  </span>│<span style=\"color: #7f7f7f; text-decoration-color: #7f7f7f\"> Return a valid JSON formatted like this,  </span>│<span style=\"color: #7f7f7f; text-decoration-color: #7f7f7f\">            </span>│<span style=\"color: #7f7f7f; text-decoration-color: #7f7f7f\">            </span>│\n",
       "│<span style=\"color: #7f7f7f; text-decoration-color: #7f7f7f\"> selecting only the number of the option:  </span>│<span style=\"color: #7f7f7f; text-decoration-color: #7f7f7f\"> selecting only the number of the option:  </span>│<span style=\"color: #7f7f7f; text-decoration-color: #7f7f7f\">            </span>│<span style=\"color: #7f7f7f; text-decoration-color: #7f7f7f\">            </span>│\n",
       "│<span style=\"color: #7f7f7f; text-decoration-color: #7f7f7f\"> {\"answer\": &lt;put answer code here&gt;,        </span>│<span style=\"color: #7f7f7f; text-decoration-color: #7f7f7f\"> {\"answer\": &lt;put answer code here&gt;,        </span>│<span style=\"color: #7f7f7f; text-decoration-color: #7f7f7f\">            </span>│<span style=\"color: #7f7f7f; text-decoration-color: #7f7f7f\">            </span>│\n",
       "│<span style=\"color: #7f7f7f; text-decoration-color: #7f7f7f\"> \"comment\": \"&lt;put explanation here&gt;\"}      </span>│<span style=\"color: #7f7f7f; text-decoration-color: #7f7f7f\"> \"comment\": \"&lt;put explanation here&gt;\"}      </span>│<span style=\"color: #7f7f7f; text-decoration-color: #7f7f7f\">            </span>│<span style=\"color: #7f7f7f; text-decoration-color: #7f7f7f\">            </span>│\n",
       "│<span style=\"color: #7f7f7f; text-decoration-color: #7f7f7f\"> Only 1 option may be selected.            </span>│<span style=\"color: #7f7f7f; text-decoration-color: #7f7f7f\"> Only 1 option may be selected.            </span>│<span style=\"color: #7f7f7f; text-decoration-color: #7f7f7f\">            </span>│<span style=\"color: #7f7f7f; text-decoration-color: #7f7f7f\">            </span>│\n",
       "│<span style=\"color: #7f7f7f; text-decoration-color: #7f7f7f\">                                           </span>│<span style=\"color: #7f7f7f; text-decoration-color: #7f7f7f\">         Before the question you are now   </span>│<span style=\"color: #7f7f7f; text-decoration-color: #7f7f7f\">            </span>│<span style=\"color: #7f7f7f; text-decoration-color: #7f7f7f\">            </span>│\n",
       "│<span style=\"color: #7f7f7f; text-decoration-color: #7f7f7f\">                                           </span>│<span style=\"color: #7f7f7f; text-decoration-color: #7f7f7f\"> answering, you already answered the       </span>│<span style=\"color: #7f7f7f; text-decoration-color: #7f7f7f\">            </span>│<span style=\"color: #7f7f7f; text-decoration-color: #7f7f7f\">            </span>│\n",
       "│<span style=\"color: #7f7f7f; text-decoration-color: #7f7f7f\">                                           </span>│<span style=\"color: #7f7f7f; text-decoration-color: #7f7f7f\"> following question(s):                    </span>│<span style=\"color: #7f7f7f; text-decoration-color: #7f7f7f\">            </span>│<span style=\"color: #7f7f7f; text-decoration-color: #7f7f7f\">            </span>│\n",
       "│<span style=\"color: #7f7f7f; text-decoration-color: #7f7f7f\">                                           </span>│<span style=\"color: #7f7f7f; text-decoration-color: #7f7f7f\">                 Question: Would you say   </span>│<span style=\"color: #7f7f7f; text-decoration-color: #7f7f7f\">            </span>│<span style=\"color: #7f7f7f; text-decoration-color: #7f7f7f\">            </span>│\n",
       "│<span style=\"color: #7f7f7f; text-decoration-color: #7f7f7f\">                                           </span>│<span style=\"color: #7f7f7f; text-decoration-color: #7f7f7f\"> that in general your health is...         </span>│<span style=\"color: #7f7f7f; text-decoration-color: #7f7f7f\">            </span>│<span style=\"color: #7f7f7f; text-decoration-color: #7f7f7f\">            </span>│\n",
       "│<span style=\"color: #7f7f7f; text-decoration-color: #7f7f7f\">                                           </span>│<span style=\"color: #7f7f7f; text-decoration-color: #7f7f7f\">         Answer: Good                      </span>│<span style=\"color: #7f7f7f; text-decoration-color: #7f7f7f\">            </span>│<span style=\"color: #7f7f7f; text-decoration-color: #7f7f7f\">            </span>│\n",
       "└───────────────────────────────────────────┴───────────────────────────────────────────┴────────────┴────────────┘\n",
       "</pre>\n"
      ],
      "text/plain": [
       "┏━━━━━━━━━━━━━━━━━━━━━━━━━━━━━━━━━━━━━━━━━━━┳━━━━━━━━━━━━━━━━━━━━━━━━━━━━━━━━━━━━━━━━━━━┳━━━━━━━━━━━━┳━━━━━━━━━━━━┓\n",
       "┃\u001b[1;35m \u001b[0m\u001b[1;35mprompt                                   \u001b[0m\u001b[1;35m \u001b[0m┃\u001b[1;35m \u001b[0m\u001b[1;35mprompt                                   \u001b[0m\u001b[1;35m \u001b[0m┃\u001b[1;35m \u001b[0m\u001b[1;35manswer    \u001b[0m\u001b[1;35m \u001b[0m┃\u001b[1;35m \u001b[0m\u001b[1;35manswer    \u001b[0m\u001b[1;35m \u001b[0m┃\n",
       "┃\u001b[1;35m \u001b[0m\u001b[1;35m.CC22_309e_user_prompt                   \u001b[0m\u001b[1;35m \u001b[0m┃\u001b[1;35m \u001b[0m\u001b[1;35m.CC22_309f_user_prompt                   \u001b[0m\u001b[1;35m \u001b[0m┃\u001b[1;35m \u001b[0m\u001b[1;35m.CC22_309e\u001b[0m\u001b[1;35m \u001b[0m┃\u001b[1;35m \u001b[0m\u001b[1;35m.CC22_309f\u001b[0m\u001b[1;35m \u001b[0m┃\n",
       "┡━━━━━━━━━━━━━━━━━━━━━━━━━━━━━━━━━━━━━━━━━━━╇━━━━━━━━━━━━━━━━━━━━━━━━━━━━━━━━━━━━━━━━━━━╇━━━━━━━━━━━━╇━━━━━━━━━━━━┩\n",
       "│\u001b[2m \u001b[0m\u001b[2mYou are being asked the following        \u001b[0m\u001b[2m \u001b[0m│\u001b[2m \u001b[0m\u001b[2mYou are being asked the following        \u001b[0m\u001b[2m \u001b[0m│\u001b[2m \u001b[0m\u001b[2mGood      \u001b[0m\u001b[2m \u001b[0m│\u001b[2m \u001b[0m\u001b[2mGood      \u001b[0m\u001b[2m \u001b[0m│\n",
       "│\u001b[2m \u001b[0m\u001b[2mquestion: Would you say that in general  \u001b[0m\u001b[2m \u001b[0m│\u001b[2m \u001b[0m\u001b[2mquestion: Would you say that in general  \u001b[0m\u001b[2m \u001b[0m│\u001b[2m            \u001b[0m│\u001b[2m            \u001b[0m│\n",
       "│\u001b[2m \u001b[0m\u001b[2myour health is...                        \u001b[0m\u001b[2m \u001b[0m│\u001b[2m \u001b[0m\u001b[2myour mental health is...                 \u001b[0m\u001b[2m \u001b[0m│\u001b[2m            \u001b[0m│\u001b[2m            \u001b[0m│\n",
       "│\u001b[2m \u001b[0m\u001b[2mThe options are                          \u001b[0m\u001b[2m \u001b[0m│\u001b[2m \u001b[0m\u001b[2mThe options are                          \u001b[0m\u001b[2m \u001b[0m│\u001b[2m            \u001b[0m│\u001b[2m            \u001b[0m│\n",
       "│\u001b[2m \u001b[0m\u001b[2m                                         \u001b[0m\u001b[2m \u001b[0m│\u001b[2m \u001b[0m\u001b[2m                                         \u001b[0m\u001b[2m \u001b[0m│\u001b[2m            \u001b[0m│\u001b[2m            \u001b[0m│\n",
       "│\u001b[2m \u001b[0m\u001b[2m0: Excellent                             \u001b[0m\u001b[2m \u001b[0m│\u001b[2m \u001b[0m\u001b[2m0: Excellent                             \u001b[0m\u001b[2m \u001b[0m│\u001b[2m            \u001b[0m│\u001b[2m            \u001b[0m│\n",
       "│\u001b[2m \u001b[0m\u001b[2m                                         \u001b[0m\u001b[2m \u001b[0m│\u001b[2m \u001b[0m\u001b[2m                                         \u001b[0m\u001b[2m \u001b[0m│\u001b[2m            \u001b[0m│\u001b[2m            \u001b[0m│\n",
       "│\u001b[2m \u001b[0m\u001b[2m1: Very good                             \u001b[0m\u001b[2m \u001b[0m│\u001b[2m \u001b[0m\u001b[2m1: Very good                             \u001b[0m\u001b[2m \u001b[0m│\u001b[2m            \u001b[0m│\u001b[2m            \u001b[0m│\n",
       "│\u001b[2m \u001b[0m\u001b[2m                                         \u001b[0m\u001b[2m \u001b[0m│\u001b[2m \u001b[0m\u001b[2m                                         \u001b[0m\u001b[2m \u001b[0m│\u001b[2m            \u001b[0m│\u001b[2m            \u001b[0m│\n",
       "│\u001b[2m \u001b[0m\u001b[2m2: Good                                  \u001b[0m\u001b[2m \u001b[0m│\u001b[2m \u001b[0m\u001b[2m2: Good                                  \u001b[0m\u001b[2m \u001b[0m│\u001b[2m            \u001b[0m│\u001b[2m            \u001b[0m│\n",
       "│\u001b[2m \u001b[0m\u001b[2m                                         \u001b[0m\u001b[2m \u001b[0m│\u001b[2m \u001b[0m\u001b[2m                                         \u001b[0m\u001b[2m \u001b[0m│\u001b[2m            \u001b[0m│\u001b[2m            \u001b[0m│\n",
       "│\u001b[2m \u001b[0m\u001b[2m3: Fair                                  \u001b[0m\u001b[2m \u001b[0m│\u001b[2m \u001b[0m\u001b[2m3: Fair                                  \u001b[0m\u001b[2m \u001b[0m│\u001b[2m            \u001b[0m│\u001b[2m            \u001b[0m│\n",
       "│\u001b[2m \u001b[0m\u001b[2m                                         \u001b[0m\u001b[2m \u001b[0m│\u001b[2m \u001b[0m\u001b[2m                                         \u001b[0m\u001b[2m \u001b[0m│\u001b[2m            \u001b[0m│\u001b[2m            \u001b[0m│\n",
       "│\u001b[2m \u001b[0m\u001b[2m4: Poor                                  \u001b[0m\u001b[2m \u001b[0m│\u001b[2m \u001b[0m\u001b[2m4: Poor                                  \u001b[0m\u001b[2m \u001b[0m│\u001b[2m            \u001b[0m│\u001b[2m            \u001b[0m│\n",
       "│\u001b[2m \u001b[0m\u001b[2m                                         \u001b[0m\u001b[2m \u001b[0m│\u001b[2m \u001b[0m\u001b[2m                                         \u001b[0m\u001b[2m \u001b[0m│\u001b[2m            \u001b[0m│\u001b[2m            \u001b[0m│\n",
       "│\u001b[2m \u001b[0m\u001b[2mReturn a valid JSON formatted like this, \u001b[0m\u001b[2m \u001b[0m│\u001b[2m \u001b[0m\u001b[2mReturn a valid JSON formatted like this, \u001b[0m\u001b[2m \u001b[0m│\u001b[2m            \u001b[0m│\u001b[2m            \u001b[0m│\n",
       "│\u001b[2m \u001b[0m\u001b[2mselecting only the number of the option: \u001b[0m\u001b[2m \u001b[0m│\u001b[2m \u001b[0m\u001b[2mselecting only the number of the option: \u001b[0m\u001b[2m \u001b[0m│\u001b[2m            \u001b[0m│\u001b[2m            \u001b[0m│\n",
       "│\u001b[2m \u001b[0m\u001b[2m{\"answer\": <put answer code here>,       \u001b[0m\u001b[2m \u001b[0m│\u001b[2m \u001b[0m\u001b[2m{\"answer\": <put answer code here>,       \u001b[0m\u001b[2m \u001b[0m│\u001b[2m            \u001b[0m│\u001b[2m            \u001b[0m│\n",
       "│\u001b[2m \u001b[0m\u001b[2m\"comment\": \"<put explanation here>\"}     \u001b[0m\u001b[2m \u001b[0m│\u001b[2m \u001b[0m\u001b[2m\"comment\": \"<put explanation here>\"}     \u001b[0m\u001b[2m \u001b[0m│\u001b[2m            \u001b[0m│\u001b[2m            \u001b[0m│\n",
       "│\u001b[2m \u001b[0m\u001b[2mOnly 1 option may be selected.           \u001b[0m\u001b[2m \u001b[0m│\u001b[2m \u001b[0m\u001b[2mOnly 1 option may be selected.           \u001b[0m\u001b[2m \u001b[0m│\u001b[2m            \u001b[0m│\u001b[2m            \u001b[0m│\n",
       "│\u001b[2m                                           \u001b[0m│\u001b[2m \u001b[0m\u001b[2m        Before the question you are now  \u001b[0m\u001b[2m \u001b[0m│\u001b[2m            \u001b[0m│\u001b[2m            \u001b[0m│\n",
       "│\u001b[2m                                           \u001b[0m│\u001b[2m \u001b[0m\u001b[2manswering, you already answered the      \u001b[0m\u001b[2m \u001b[0m│\u001b[2m            \u001b[0m│\u001b[2m            \u001b[0m│\n",
       "│\u001b[2m                                           \u001b[0m│\u001b[2m \u001b[0m\u001b[2mfollowing question(s):                   \u001b[0m\u001b[2m \u001b[0m│\u001b[2m            \u001b[0m│\u001b[2m            \u001b[0m│\n",
       "│\u001b[2m                                           \u001b[0m│\u001b[2m \u001b[0m\u001b[2m                Question: Would you say  \u001b[0m\u001b[2m \u001b[0m│\u001b[2m            \u001b[0m│\u001b[2m            \u001b[0m│\n",
       "│\u001b[2m                                           \u001b[0m│\u001b[2m \u001b[0m\u001b[2mthat in general your health is...        \u001b[0m\u001b[2m \u001b[0m│\u001b[2m            \u001b[0m│\u001b[2m            \u001b[0m│\n",
       "│\u001b[2m                                           \u001b[0m│\u001b[2m \u001b[0m\u001b[2m        Answer: Good                     \u001b[0m\u001b[2m \u001b[0m│\u001b[2m            \u001b[0m│\u001b[2m            \u001b[0m│\n",
       "└───────────────────────────────────────────┴───────────────────────────────────────────┴────────────┴────────────┘\n"
      ]
     },
     "metadata": {},
     "output_type": "display_data"
    }
   ],
   "source": [
    "(results\n",
    " .select(\"CC22_309e_user_prompt\", \"CC22_309e\", \"CC22_309f_user_prompt\", \"CC22_309f\")\n",
    " .print(format=\"rich\")\n",
    ")"
   ]
  },
  {
   "cell_type": "markdown",
   "id": "e51b13a4-d4b3-4df7-9130-0275d44d998e",
   "metadata": {},
   "source": [
    "See examples of [all methods for applying question context and memories](https://docs.expectedparrot.com/en/latest/surveys.html) (e.g., full memory of all prior questions, or a subset of questions)."
   ]
  },
  {
   "cell_type": "markdown",
   "id": "06386ab3-8012-4d5d-b417-442cd0500dd1",
   "metadata": {},
   "source": [
    "### Piping questions\n",
    "We can also pipe individual components of questions into other questions. Here we use the answer to `inputstate` in the question text for `CC22_320d`:"
   ]
  },
  {
   "cell_type": "code",
   "execution_count": 23,
   "id": "0026531b-abc8-4d50-bcd0-0804742b5da5",
   "metadata": {
    "scrolled": true
   },
   "outputs": [
    {
     "data": {
      "text/html": [
       "<pre style=\"white-space:pre;overflow-x:auto;line-height:normal;font-family:Menlo,'DejaVu Sans Mono',consolas,'Courier New',monospace\">┏━━━━━━━━━━━━━┳━━━━━━━━━━━━━━━━━━━━━┳━━━━━━━━━━━━━━━━━━━━━━━━━━━━━━━━━━━━━━━━━━━━━━━━━━━━━━━━━━━━━━━━━━━━━━━━━━━━━┓\n",
       "┃<span style=\"color: #800080; text-decoration-color: #800080; font-weight: bold\"> answer      </span>┃<span style=\"color: #800080; text-decoration-color: #800080; font-weight: bold\"> answer              </span>┃<span style=\"color: #800080; text-decoration-color: #800080; font-weight: bold\"> prompt                                                                      </span>┃\n",
       "┃<span style=\"color: #800080; text-decoration-color: #800080; font-weight: bold\"> .inputstate </span>┃<span style=\"color: #800080; text-decoration-color: #800080; font-weight: bold\"> .CC22_320d          </span>┃<span style=\"color: #800080; text-decoration-color: #800080; font-weight: bold\"> .CC22_320d_user_prompt                                                      </span>┃\n",
       "┡━━━━━━━━━━━━━╇━━━━━━━━━━━━━━━━━━━━━╇━━━━━━━━━━━━━━━━━━━━━━━━━━━━━━━━━━━━━━━━━━━━━━━━━━━━━━━━━━━━━━━━━━━━━━━━━━━━━┩\n",
       "│<span style=\"color: #7f7f7f; text-decoration-color: #7f7f7f\"> Washington  </span>│<span style=\"color: #7f7f7f; text-decoration-color: #7f7f7f\"> Not sure            </span>│<span style=\"color: #7f7f7f; text-decoration-color: #7f7f7f\"> You are being asked the following question: Do you approve of the way the   </span>│\n",
       "│<span style=\"color: #7f7f7f; text-decoration-color: #7f7f7f\">             </span>│<span style=\"color: #7f7f7f; text-decoration-color: #7f7f7f\">                     </span>│<span style=\"color: #7f7f7f; text-decoration-color: #7f7f7f\"> Governor of Washington is doing their job?                                  </span>│\n",
       "│<span style=\"color: #7f7f7f; text-decoration-color: #7f7f7f\">             </span>│<span style=\"color: #7f7f7f; text-decoration-color: #7f7f7f\">                     </span>│<span style=\"color: #7f7f7f; text-decoration-color: #7f7f7f\"> The options are                                                             </span>│\n",
       "│<span style=\"color: #7f7f7f; text-decoration-color: #7f7f7f\">             </span>│<span style=\"color: #7f7f7f; text-decoration-color: #7f7f7f\">                     </span>│<span style=\"color: #7f7f7f; text-decoration-color: #7f7f7f\">                                                                             </span>│\n",
       "│<span style=\"color: #7f7f7f; text-decoration-color: #7f7f7f\">             </span>│<span style=\"color: #7f7f7f; text-decoration-color: #7f7f7f\">                     </span>│<span style=\"color: #7f7f7f; text-decoration-color: #7f7f7f\"> 0: Strongly approve                                                         </span>│\n",
       "│<span style=\"color: #7f7f7f; text-decoration-color: #7f7f7f\">             </span>│<span style=\"color: #7f7f7f; text-decoration-color: #7f7f7f\">                     </span>│<span style=\"color: #7f7f7f; text-decoration-color: #7f7f7f\">                                                                             </span>│\n",
       "│<span style=\"color: #7f7f7f; text-decoration-color: #7f7f7f\">             </span>│<span style=\"color: #7f7f7f; text-decoration-color: #7f7f7f\">                     </span>│<span style=\"color: #7f7f7f; text-decoration-color: #7f7f7f\"> 1: Somewhat approve                                                         </span>│\n",
       "│<span style=\"color: #7f7f7f; text-decoration-color: #7f7f7f\">             </span>│<span style=\"color: #7f7f7f; text-decoration-color: #7f7f7f\">                     </span>│<span style=\"color: #7f7f7f; text-decoration-color: #7f7f7f\">                                                                             </span>│\n",
       "│<span style=\"color: #7f7f7f; text-decoration-color: #7f7f7f\">             </span>│<span style=\"color: #7f7f7f; text-decoration-color: #7f7f7f\">                     </span>│<span style=\"color: #7f7f7f; text-decoration-color: #7f7f7f\"> 2: Somewhat disapprove                                                      </span>│\n",
       "│<span style=\"color: #7f7f7f; text-decoration-color: #7f7f7f\">             </span>│<span style=\"color: #7f7f7f; text-decoration-color: #7f7f7f\">                     </span>│<span style=\"color: #7f7f7f; text-decoration-color: #7f7f7f\">                                                                             </span>│\n",
       "│<span style=\"color: #7f7f7f; text-decoration-color: #7f7f7f\">             </span>│<span style=\"color: #7f7f7f; text-decoration-color: #7f7f7f\">                     </span>│<span style=\"color: #7f7f7f; text-decoration-color: #7f7f7f\"> 3: Strongly disapprove                                                      </span>│\n",
       "│<span style=\"color: #7f7f7f; text-decoration-color: #7f7f7f\">             </span>│<span style=\"color: #7f7f7f; text-decoration-color: #7f7f7f\">                     </span>│<span style=\"color: #7f7f7f; text-decoration-color: #7f7f7f\">                                                                             </span>│\n",
       "│<span style=\"color: #7f7f7f; text-decoration-color: #7f7f7f\">             </span>│<span style=\"color: #7f7f7f; text-decoration-color: #7f7f7f\">                     </span>│<span style=\"color: #7f7f7f; text-decoration-color: #7f7f7f\"> 4: Not sure                                                                 </span>│\n",
       "│<span style=\"color: #7f7f7f; text-decoration-color: #7f7f7f\">             </span>│<span style=\"color: #7f7f7f; text-decoration-color: #7f7f7f\">                     </span>│<span style=\"color: #7f7f7f; text-decoration-color: #7f7f7f\">                                                                             </span>│\n",
       "│<span style=\"color: #7f7f7f; text-decoration-color: #7f7f7f\">             </span>│<span style=\"color: #7f7f7f; text-decoration-color: #7f7f7f\">                     </span>│<span style=\"color: #7f7f7f; text-decoration-color: #7f7f7f\"> Return a valid JSON formatted like this, selecting only the number of the   </span>│\n",
       "│<span style=\"color: #7f7f7f; text-decoration-color: #7f7f7f\">             </span>│<span style=\"color: #7f7f7f; text-decoration-color: #7f7f7f\">                     </span>│<span style=\"color: #7f7f7f; text-decoration-color: #7f7f7f\"> option:                                                                     </span>│\n",
       "│<span style=\"color: #7f7f7f; text-decoration-color: #7f7f7f\">             </span>│<span style=\"color: #7f7f7f; text-decoration-color: #7f7f7f\">                     </span>│<span style=\"color: #7f7f7f; text-decoration-color: #7f7f7f\"> {\"answer\": &lt;put answer code here&gt;, \"comment\": \"&lt;put explanation here&gt;\"}     </span>│\n",
       "│<span style=\"color: #7f7f7f; text-decoration-color: #7f7f7f\">             </span>│<span style=\"color: #7f7f7f; text-decoration-color: #7f7f7f\">                     </span>│<span style=\"color: #7f7f7f; text-decoration-color: #7f7f7f\"> Only 1 option may be selected.                                              </span>│\n",
       "├─────────────┼─────────────────────┼─────────────────────────────────────────────────────────────────────────────┤\n",
       "│<span style=\"color: #7f7f7f; text-decoration-color: #7f7f7f\"> California  </span>│<span style=\"color: #7f7f7f; text-decoration-color: #7f7f7f\"> Not sure            </span>│<span style=\"color: #7f7f7f; text-decoration-color: #7f7f7f\"> You are being asked the following question: Do you approve of the way the   </span>│\n",
       "│<span style=\"color: #7f7f7f; text-decoration-color: #7f7f7f\">             </span>│<span style=\"color: #7f7f7f; text-decoration-color: #7f7f7f\">                     </span>│<span style=\"color: #7f7f7f; text-decoration-color: #7f7f7f\"> Governor of California is doing their job?                                  </span>│\n",
       "│<span style=\"color: #7f7f7f; text-decoration-color: #7f7f7f\">             </span>│<span style=\"color: #7f7f7f; text-decoration-color: #7f7f7f\">                     </span>│<span style=\"color: #7f7f7f; text-decoration-color: #7f7f7f\"> The options are                                                             </span>│\n",
       "│<span style=\"color: #7f7f7f; text-decoration-color: #7f7f7f\">             </span>│<span style=\"color: #7f7f7f; text-decoration-color: #7f7f7f\">                     </span>│<span style=\"color: #7f7f7f; text-decoration-color: #7f7f7f\">                                                                             </span>│\n",
       "│<span style=\"color: #7f7f7f; text-decoration-color: #7f7f7f\">             </span>│<span style=\"color: #7f7f7f; text-decoration-color: #7f7f7f\">                     </span>│<span style=\"color: #7f7f7f; text-decoration-color: #7f7f7f\"> 0: Strongly approve                                                         </span>│\n",
       "│<span style=\"color: #7f7f7f; text-decoration-color: #7f7f7f\">             </span>│<span style=\"color: #7f7f7f; text-decoration-color: #7f7f7f\">                     </span>│<span style=\"color: #7f7f7f; text-decoration-color: #7f7f7f\">                                                                             </span>│\n",
       "│<span style=\"color: #7f7f7f; text-decoration-color: #7f7f7f\">             </span>│<span style=\"color: #7f7f7f; text-decoration-color: #7f7f7f\">                     </span>│<span style=\"color: #7f7f7f; text-decoration-color: #7f7f7f\"> 1: Somewhat approve                                                         </span>│\n",
       "│<span style=\"color: #7f7f7f; text-decoration-color: #7f7f7f\">             </span>│<span style=\"color: #7f7f7f; text-decoration-color: #7f7f7f\">                     </span>│<span style=\"color: #7f7f7f; text-decoration-color: #7f7f7f\">                                                                             </span>│\n",
       "│<span style=\"color: #7f7f7f; text-decoration-color: #7f7f7f\">             </span>│<span style=\"color: #7f7f7f; text-decoration-color: #7f7f7f\">                     </span>│<span style=\"color: #7f7f7f; text-decoration-color: #7f7f7f\"> 2: Somewhat disapprove                                                      </span>│\n",
       "│<span style=\"color: #7f7f7f; text-decoration-color: #7f7f7f\">             </span>│<span style=\"color: #7f7f7f; text-decoration-color: #7f7f7f\">                     </span>│<span style=\"color: #7f7f7f; text-decoration-color: #7f7f7f\">                                                                             </span>│\n",
       "│<span style=\"color: #7f7f7f; text-decoration-color: #7f7f7f\">             </span>│<span style=\"color: #7f7f7f; text-decoration-color: #7f7f7f\">                     </span>│<span style=\"color: #7f7f7f; text-decoration-color: #7f7f7f\"> 3: Strongly disapprove                                                      </span>│\n",
       "│<span style=\"color: #7f7f7f; text-decoration-color: #7f7f7f\">             </span>│<span style=\"color: #7f7f7f; text-decoration-color: #7f7f7f\">                     </span>│<span style=\"color: #7f7f7f; text-decoration-color: #7f7f7f\">                                                                             </span>│\n",
       "│<span style=\"color: #7f7f7f; text-decoration-color: #7f7f7f\">             </span>│<span style=\"color: #7f7f7f; text-decoration-color: #7f7f7f\">                     </span>│<span style=\"color: #7f7f7f; text-decoration-color: #7f7f7f\"> 4: Not sure                                                                 </span>│\n",
       "│<span style=\"color: #7f7f7f; text-decoration-color: #7f7f7f\">             </span>│<span style=\"color: #7f7f7f; text-decoration-color: #7f7f7f\">                     </span>│<span style=\"color: #7f7f7f; text-decoration-color: #7f7f7f\">                                                                             </span>│\n",
       "│<span style=\"color: #7f7f7f; text-decoration-color: #7f7f7f\">             </span>│<span style=\"color: #7f7f7f; text-decoration-color: #7f7f7f\">                     </span>│<span style=\"color: #7f7f7f; text-decoration-color: #7f7f7f\"> Return a valid JSON formatted like this, selecting only the number of the   </span>│\n",
       "│<span style=\"color: #7f7f7f; text-decoration-color: #7f7f7f\">             </span>│<span style=\"color: #7f7f7f; text-decoration-color: #7f7f7f\">                     </span>│<span style=\"color: #7f7f7f; text-decoration-color: #7f7f7f\"> option:                                                                     </span>│\n",
       "│<span style=\"color: #7f7f7f; text-decoration-color: #7f7f7f\">             </span>│<span style=\"color: #7f7f7f; text-decoration-color: #7f7f7f\">                     </span>│<span style=\"color: #7f7f7f; text-decoration-color: #7f7f7f\"> {\"answer\": &lt;put answer code here&gt;, \"comment\": \"&lt;put explanation here&gt;\"}     </span>│\n",
       "│<span style=\"color: #7f7f7f; text-decoration-color: #7f7f7f\">             </span>│<span style=\"color: #7f7f7f; text-decoration-color: #7f7f7f\">                     </span>│<span style=\"color: #7f7f7f; text-decoration-color: #7f7f7f\"> Only 1 option may be selected.                                              </span>│\n",
       "├─────────────┼─────────────────────┼─────────────────────────────────────────────────────────────────────────────┤\n",
       "│<span style=\"color: #7f7f7f; text-decoration-color: #7f7f7f\"> California  </span>│<span style=\"color: #7f7f7f; text-decoration-color: #7f7f7f\"> Strongly disapprove </span>│<span style=\"color: #7f7f7f; text-decoration-color: #7f7f7f\"> You are being asked the following question: Do you approve of the way the   </span>│\n",
       "│<span style=\"color: #7f7f7f; text-decoration-color: #7f7f7f\">             </span>│<span style=\"color: #7f7f7f; text-decoration-color: #7f7f7f\">                     </span>│<span style=\"color: #7f7f7f; text-decoration-color: #7f7f7f\"> Governor of California is doing their job?                                  </span>│\n",
       "│<span style=\"color: #7f7f7f; text-decoration-color: #7f7f7f\">             </span>│<span style=\"color: #7f7f7f; text-decoration-color: #7f7f7f\">                     </span>│<span style=\"color: #7f7f7f; text-decoration-color: #7f7f7f\"> The options are                                                             </span>│\n",
       "│<span style=\"color: #7f7f7f; text-decoration-color: #7f7f7f\">             </span>│<span style=\"color: #7f7f7f; text-decoration-color: #7f7f7f\">                     </span>│<span style=\"color: #7f7f7f; text-decoration-color: #7f7f7f\">                                                                             </span>│\n",
       "│<span style=\"color: #7f7f7f; text-decoration-color: #7f7f7f\">             </span>│<span style=\"color: #7f7f7f; text-decoration-color: #7f7f7f\">                     </span>│<span style=\"color: #7f7f7f; text-decoration-color: #7f7f7f\"> 0: Strongly approve                                                         </span>│\n",
       "│<span style=\"color: #7f7f7f; text-decoration-color: #7f7f7f\">             </span>│<span style=\"color: #7f7f7f; text-decoration-color: #7f7f7f\">                     </span>│<span style=\"color: #7f7f7f; text-decoration-color: #7f7f7f\">                                                                             </span>│\n",
       "│<span style=\"color: #7f7f7f; text-decoration-color: #7f7f7f\">             </span>│<span style=\"color: #7f7f7f; text-decoration-color: #7f7f7f\">                     </span>│<span style=\"color: #7f7f7f; text-decoration-color: #7f7f7f\"> 1: Somewhat approve                                                         </span>│\n",
       "│<span style=\"color: #7f7f7f; text-decoration-color: #7f7f7f\">             </span>│<span style=\"color: #7f7f7f; text-decoration-color: #7f7f7f\">                     </span>│<span style=\"color: #7f7f7f; text-decoration-color: #7f7f7f\">                                                                             </span>│\n",
       "│<span style=\"color: #7f7f7f; text-decoration-color: #7f7f7f\">             </span>│<span style=\"color: #7f7f7f; text-decoration-color: #7f7f7f\">                     </span>│<span style=\"color: #7f7f7f; text-decoration-color: #7f7f7f\"> 2: Somewhat disapprove                                                      </span>│\n",
       "│<span style=\"color: #7f7f7f; text-decoration-color: #7f7f7f\">             </span>│<span style=\"color: #7f7f7f; text-decoration-color: #7f7f7f\">                     </span>│<span style=\"color: #7f7f7f; text-decoration-color: #7f7f7f\">                                                                             </span>│\n",
       "│<span style=\"color: #7f7f7f; text-decoration-color: #7f7f7f\">             </span>│<span style=\"color: #7f7f7f; text-decoration-color: #7f7f7f\">                     </span>│<span style=\"color: #7f7f7f; text-decoration-color: #7f7f7f\"> 3: Strongly disapprove                                                      </span>│\n",
       "│<span style=\"color: #7f7f7f; text-decoration-color: #7f7f7f\">             </span>│<span style=\"color: #7f7f7f; text-decoration-color: #7f7f7f\">                     </span>│<span style=\"color: #7f7f7f; text-decoration-color: #7f7f7f\">                                                                             </span>│\n",
       "│<span style=\"color: #7f7f7f; text-decoration-color: #7f7f7f\">             </span>│<span style=\"color: #7f7f7f; text-decoration-color: #7f7f7f\">                     </span>│<span style=\"color: #7f7f7f; text-decoration-color: #7f7f7f\"> 4: Not sure                                                                 </span>│\n",
       "│<span style=\"color: #7f7f7f; text-decoration-color: #7f7f7f\">             </span>│<span style=\"color: #7f7f7f; text-decoration-color: #7f7f7f\">                     </span>│<span style=\"color: #7f7f7f; text-decoration-color: #7f7f7f\">                                                                             </span>│\n",
       "│<span style=\"color: #7f7f7f; text-decoration-color: #7f7f7f\">             </span>│<span style=\"color: #7f7f7f; text-decoration-color: #7f7f7f\">                     </span>│<span style=\"color: #7f7f7f; text-decoration-color: #7f7f7f\"> Return a valid JSON formatted like this, selecting only the number of the   </span>│\n",
       "│<span style=\"color: #7f7f7f; text-decoration-color: #7f7f7f\">             </span>│<span style=\"color: #7f7f7f; text-decoration-color: #7f7f7f\">                     </span>│<span style=\"color: #7f7f7f; text-decoration-color: #7f7f7f\"> option:                                                                     </span>│\n",
       "│<span style=\"color: #7f7f7f; text-decoration-color: #7f7f7f\">             </span>│<span style=\"color: #7f7f7f; text-decoration-color: #7f7f7f\">                     </span>│<span style=\"color: #7f7f7f; text-decoration-color: #7f7f7f\"> {\"answer\": &lt;put answer code here&gt;, \"comment\": \"&lt;put explanation here&gt;\"}     </span>│\n",
       "│<span style=\"color: #7f7f7f; text-decoration-color: #7f7f7f\">             </span>│<span style=\"color: #7f7f7f; text-decoration-color: #7f7f7f\">                     </span>│<span style=\"color: #7f7f7f; text-decoration-color: #7f7f7f\"> Only 1 option may be selected.                                              </span>│\n",
       "└─────────────┴─────────────────────┴─────────────────────────────────────────────────────────────────────────────┘\n",
       "</pre>\n"
      ],
      "text/plain": [
       "┏━━━━━━━━━━━━━┳━━━━━━━━━━━━━━━━━━━━━┳━━━━━━━━━━━━━━━━━━━━━━━━━━━━━━━━━━━━━━━━━━━━━━━━━━━━━━━━━━━━━━━━━━━━━━━━━━━━━┓\n",
       "┃\u001b[1;35m \u001b[0m\u001b[1;35manswer     \u001b[0m\u001b[1;35m \u001b[0m┃\u001b[1;35m \u001b[0m\u001b[1;35manswer             \u001b[0m\u001b[1;35m \u001b[0m┃\u001b[1;35m \u001b[0m\u001b[1;35mprompt                                                                     \u001b[0m\u001b[1;35m \u001b[0m┃\n",
       "┃\u001b[1;35m \u001b[0m\u001b[1;35m.inputstate\u001b[0m\u001b[1;35m \u001b[0m┃\u001b[1;35m \u001b[0m\u001b[1;35m.CC22_320d         \u001b[0m\u001b[1;35m \u001b[0m┃\u001b[1;35m \u001b[0m\u001b[1;35m.CC22_320d_user_prompt                                                     \u001b[0m\u001b[1;35m \u001b[0m┃\n",
       "┡━━━━━━━━━━━━━╇━━━━━━━━━━━━━━━━━━━━━╇━━━━━━━━━━━━━━━━━━━━━━━━━━━━━━━━━━━━━━━━━━━━━━━━━━━━━━━━━━━━━━━━━━━━━━━━━━━━━┩\n",
       "│\u001b[2m \u001b[0m\u001b[2mWashington \u001b[0m\u001b[2m \u001b[0m│\u001b[2m \u001b[0m\u001b[2mNot sure           \u001b[0m\u001b[2m \u001b[0m│\u001b[2m \u001b[0m\u001b[2mYou are being asked the following question: Do you approve of the way the  \u001b[0m\u001b[2m \u001b[0m│\n",
       "│\u001b[2m             \u001b[0m│\u001b[2m                     \u001b[0m│\u001b[2m \u001b[0m\u001b[2mGovernor of Washington is doing their job?                                 \u001b[0m\u001b[2m \u001b[0m│\n",
       "│\u001b[2m             \u001b[0m│\u001b[2m                     \u001b[0m│\u001b[2m \u001b[0m\u001b[2mThe options are                                                            \u001b[0m\u001b[2m \u001b[0m│\n",
       "│\u001b[2m             \u001b[0m│\u001b[2m                     \u001b[0m│\u001b[2m \u001b[0m\u001b[2m                                                                           \u001b[0m\u001b[2m \u001b[0m│\n",
       "│\u001b[2m             \u001b[0m│\u001b[2m                     \u001b[0m│\u001b[2m \u001b[0m\u001b[2m0: Strongly approve                                                        \u001b[0m\u001b[2m \u001b[0m│\n",
       "│\u001b[2m             \u001b[0m│\u001b[2m                     \u001b[0m│\u001b[2m \u001b[0m\u001b[2m                                                                           \u001b[0m\u001b[2m \u001b[0m│\n",
       "│\u001b[2m             \u001b[0m│\u001b[2m                     \u001b[0m│\u001b[2m \u001b[0m\u001b[2m1: Somewhat approve                                                        \u001b[0m\u001b[2m \u001b[0m│\n",
       "│\u001b[2m             \u001b[0m│\u001b[2m                     \u001b[0m│\u001b[2m \u001b[0m\u001b[2m                                                                           \u001b[0m\u001b[2m \u001b[0m│\n",
       "│\u001b[2m             \u001b[0m│\u001b[2m                     \u001b[0m│\u001b[2m \u001b[0m\u001b[2m2: Somewhat disapprove                                                     \u001b[0m\u001b[2m \u001b[0m│\n",
       "│\u001b[2m             \u001b[0m│\u001b[2m                     \u001b[0m│\u001b[2m \u001b[0m\u001b[2m                                                                           \u001b[0m\u001b[2m \u001b[0m│\n",
       "│\u001b[2m             \u001b[0m│\u001b[2m                     \u001b[0m│\u001b[2m \u001b[0m\u001b[2m3: Strongly disapprove                                                     \u001b[0m\u001b[2m \u001b[0m│\n",
       "│\u001b[2m             \u001b[0m│\u001b[2m                     \u001b[0m│\u001b[2m \u001b[0m\u001b[2m                                                                           \u001b[0m\u001b[2m \u001b[0m│\n",
       "│\u001b[2m             \u001b[0m│\u001b[2m                     \u001b[0m│\u001b[2m \u001b[0m\u001b[2m4: Not sure                                                                \u001b[0m\u001b[2m \u001b[0m│\n",
       "│\u001b[2m             \u001b[0m│\u001b[2m                     \u001b[0m│\u001b[2m \u001b[0m\u001b[2m                                                                           \u001b[0m\u001b[2m \u001b[0m│\n",
       "│\u001b[2m             \u001b[0m│\u001b[2m                     \u001b[0m│\u001b[2m \u001b[0m\u001b[2mReturn a valid JSON formatted like this, selecting only the number of the  \u001b[0m\u001b[2m \u001b[0m│\n",
       "│\u001b[2m             \u001b[0m│\u001b[2m                     \u001b[0m│\u001b[2m \u001b[0m\u001b[2moption:                                                                    \u001b[0m\u001b[2m \u001b[0m│\n",
       "│\u001b[2m             \u001b[0m│\u001b[2m                     \u001b[0m│\u001b[2m \u001b[0m\u001b[2m{\"answer\": <put answer code here>, \"comment\": \"<put explanation here>\"}    \u001b[0m\u001b[2m \u001b[0m│\n",
       "│\u001b[2m             \u001b[0m│\u001b[2m                     \u001b[0m│\u001b[2m \u001b[0m\u001b[2mOnly 1 option may be selected.                                             \u001b[0m\u001b[2m \u001b[0m│\n",
       "├─────────────┼─────────────────────┼─────────────────────────────────────────────────────────────────────────────┤\n",
       "│\u001b[2m \u001b[0m\u001b[2mCalifornia \u001b[0m\u001b[2m \u001b[0m│\u001b[2m \u001b[0m\u001b[2mNot sure           \u001b[0m\u001b[2m \u001b[0m│\u001b[2m \u001b[0m\u001b[2mYou are being asked the following question: Do you approve of the way the  \u001b[0m\u001b[2m \u001b[0m│\n",
       "│\u001b[2m             \u001b[0m│\u001b[2m                     \u001b[0m│\u001b[2m \u001b[0m\u001b[2mGovernor of California is doing their job?                                 \u001b[0m\u001b[2m \u001b[0m│\n",
       "│\u001b[2m             \u001b[0m│\u001b[2m                     \u001b[0m│\u001b[2m \u001b[0m\u001b[2mThe options are                                                            \u001b[0m\u001b[2m \u001b[0m│\n",
       "│\u001b[2m             \u001b[0m│\u001b[2m                     \u001b[0m│\u001b[2m \u001b[0m\u001b[2m                                                                           \u001b[0m\u001b[2m \u001b[0m│\n",
       "│\u001b[2m             \u001b[0m│\u001b[2m                     \u001b[0m│\u001b[2m \u001b[0m\u001b[2m0: Strongly approve                                                        \u001b[0m\u001b[2m \u001b[0m│\n",
       "│\u001b[2m             \u001b[0m│\u001b[2m                     \u001b[0m│\u001b[2m \u001b[0m\u001b[2m                                                                           \u001b[0m\u001b[2m \u001b[0m│\n",
       "│\u001b[2m             \u001b[0m│\u001b[2m                     \u001b[0m│\u001b[2m \u001b[0m\u001b[2m1: Somewhat approve                                                        \u001b[0m\u001b[2m \u001b[0m│\n",
       "│\u001b[2m             \u001b[0m│\u001b[2m                     \u001b[0m│\u001b[2m \u001b[0m\u001b[2m                                                                           \u001b[0m\u001b[2m \u001b[0m│\n",
       "│\u001b[2m             \u001b[0m│\u001b[2m                     \u001b[0m│\u001b[2m \u001b[0m\u001b[2m2: Somewhat disapprove                                                     \u001b[0m\u001b[2m \u001b[0m│\n",
       "│\u001b[2m             \u001b[0m│\u001b[2m                     \u001b[0m│\u001b[2m \u001b[0m\u001b[2m                                                                           \u001b[0m\u001b[2m \u001b[0m│\n",
       "│\u001b[2m             \u001b[0m│\u001b[2m                     \u001b[0m│\u001b[2m \u001b[0m\u001b[2m3: Strongly disapprove                                                     \u001b[0m\u001b[2m \u001b[0m│\n",
       "│\u001b[2m             \u001b[0m│\u001b[2m                     \u001b[0m│\u001b[2m \u001b[0m\u001b[2m                                                                           \u001b[0m\u001b[2m \u001b[0m│\n",
       "│\u001b[2m             \u001b[0m│\u001b[2m                     \u001b[0m│\u001b[2m \u001b[0m\u001b[2m4: Not sure                                                                \u001b[0m\u001b[2m \u001b[0m│\n",
       "│\u001b[2m             \u001b[0m│\u001b[2m                     \u001b[0m│\u001b[2m \u001b[0m\u001b[2m                                                                           \u001b[0m\u001b[2m \u001b[0m│\n",
       "│\u001b[2m             \u001b[0m│\u001b[2m                     \u001b[0m│\u001b[2m \u001b[0m\u001b[2mReturn a valid JSON formatted like this, selecting only the number of the  \u001b[0m\u001b[2m \u001b[0m│\n",
       "│\u001b[2m             \u001b[0m│\u001b[2m                     \u001b[0m│\u001b[2m \u001b[0m\u001b[2moption:                                                                    \u001b[0m\u001b[2m \u001b[0m│\n",
       "│\u001b[2m             \u001b[0m│\u001b[2m                     \u001b[0m│\u001b[2m \u001b[0m\u001b[2m{\"answer\": <put answer code here>, \"comment\": \"<put explanation here>\"}    \u001b[0m\u001b[2m \u001b[0m│\n",
       "│\u001b[2m             \u001b[0m│\u001b[2m                     \u001b[0m│\u001b[2m \u001b[0m\u001b[2mOnly 1 option may be selected.                                             \u001b[0m\u001b[2m \u001b[0m│\n",
       "├─────────────┼─────────────────────┼─────────────────────────────────────────────────────────────────────────────┤\n",
       "│\u001b[2m \u001b[0m\u001b[2mCalifornia \u001b[0m\u001b[2m \u001b[0m│\u001b[2m \u001b[0m\u001b[2mStrongly disapprove\u001b[0m\u001b[2m \u001b[0m│\u001b[2m \u001b[0m\u001b[2mYou are being asked the following question: Do you approve of the way the  \u001b[0m\u001b[2m \u001b[0m│\n",
       "│\u001b[2m             \u001b[0m│\u001b[2m                     \u001b[0m│\u001b[2m \u001b[0m\u001b[2mGovernor of California is doing their job?                                 \u001b[0m\u001b[2m \u001b[0m│\n",
       "│\u001b[2m             \u001b[0m│\u001b[2m                     \u001b[0m│\u001b[2m \u001b[0m\u001b[2mThe options are                                                            \u001b[0m\u001b[2m \u001b[0m│\n",
       "│\u001b[2m             \u001b[0m│\u001b[2m                     \u001b[0m│\u001b[2m \u001b[0m\u001b[2m                                                                           \u001b[0m\u001b[2m \u001b[0m│\n",
       "│\u001b[2m             \u001b[0m│\u001b[2m                     \u001b[0m│\u001b[2m \u001b[0m\u001b[2m0: Strongly approve                                                        \u001b[0m\u001b[2m \u001b[0m│\n",
       "│\u001b[2m             \u001b[0m│\u001b[2m                     \u001b[0m│\u001b[2m \u001b[0m\u001b[2m                                                                           \u001b[0m\u001b[2m \u001b[0m│\n",
       "│\u001b[2m             \u001b[0m│\u001b[2m                     \u001b[0m│\u001b[2m \u001b[0m\u001b[2m1: Somewhat approve                                                        \u001b[0m\u001b[2m \u001b[0m│\n",
       "│\u001b[2m             \u001b[0m│\u001b[2m                     \u001b[0m│\u001b[2m \u001b[0m\u001b[2m                                                                           \u001b[0m\u001b[2m \u001b[0m│\n",
       "│\u001b[2m             \u001b[0m│\u001b[2m                     \u001b[0m│\u001b[2m \u001b[0m\u001b[2m2: Somewhat disapprove                                                     \u001b[0m\u001b[2m \u001b[0m│\n",
       "│\u001b[2m             \u001b[0m│\u001b[2m                     \u001b[0m│\u001b[2m \u001b[0m\u001b[2m                                                                           \u001b[0m\u001b[2m \u001b[0m│\n",
       "│\u001b[2m             \u001b[0m│\u001b[2m                     \u001b[0m│\u001b[2m \u001b[0m\u001b[2m3: Strongly disapprove                                                     \u001b[0m\u001b[2m \u001b[0m│\n",
       "│\u001b[2m             \u001b[0m│\u001b[2m                     \u001b[0m│\u001b[2m \u001b[0m\u001b[2m                                                                           \u001b[0m\u001b[2m \u001b[0m│\n",
       "│\u001b[2m             \u001b[0m│\u001b[2m                     \u001b[0m│\u001b[2m \u001b[0m\u001b[2m4: Not sure                                                                \u001b[0m\u001b[2m \u001b[0m│\n",
       "│\u001b[2m             \u001b[0m│\u001b[2m                     \u001b[0m│\u001b[2m \u001b[0m\u001b[2m                                                                           \u001b[0m\u001b[2m \u001b[0m│\n",
       "│\u001b[2m             \u001b[0m│\u001b[2m                     \u001b[0m│\u001b[2m \u001b[0m\u001b[2mReturn a valid JSON formatted like this, selecting only the number of the  \u001b[0m\u001b[2m \u001b[0m│\n",
       "│\u001b[2m             \u001b[0m│\u001b[2m                     \u001b[0m│\u001b[2m \u001b[0m\u001b[2moption:                                                                    \u001b[0m\u001b[2m \u001b[0m│\n",
       "│\u001b[2m             \u001b[0m│\u001b[2m                     \u001b[0m│\u001b[2m \u001b[0m\u001b[2m{\"answer\": <put answer code here>, \"comment\": \"<put explanation here>\"}    \u001b[0m\u001b[2m \u001b[0m│\n",
       "│\u001b[2m             \u001b[0m│\u001b[2m                     \u001b[0m│\u001b[2m \u001b[0m\u001b[2mOnly 1 option may be selected.                                             \u001b[0m\u001b[2m \u001b[0m│\n",
       "└─────────────┴─────────────────────┴─────────────────────────────────────────────────────────────────────────────┘\n"
      ]
     },
     "metadata": {},
     "output_type": "display_data"
    }
   ],
   "source": [
    "from edsl import QuestionMultipleChoice, Survey\n",
    "\n",
    "q_inputstate = QuestionMultipleChoice(\n",
    "    question_name = \"inputstate\",\n",
    "    question_text = \"What is your State of Residence?\",\n",
    "    question_options = [\n",
    "        \"Alabama\", \"Alaska\", \"Arizona\", \"Arkansas\", \"California\", \"Colorado\", \"Connecticut\", \"Delaware\",\n",
    "        \"District of Columbia\", \"Florida\", \"Georgia\", \"Hawaii\", \"Idaho\", \"Illinois\", \"Indiana\", \"Iowa\",\n",
    "        \"Kansas\", \"Kentucky\", \"Louisiana\", \"Maine\", \"Maryland\", \"Massachusetts\", \"Michigan\", \"Minnesota\",\n",
    "        \"Mississippi\", \"Missouri\", \"Montana\", \"Nebraska\", \"Nevada\", \"New Hampshire\", \"New Jersey\",\n",
    "        \"New Mexico\", \"New York\", \"North Carolina\", \"North Dakota\", \"Ohio\", \"Oklahoma\", \"Oregon\",\n",
    "        \"Pennsylvania\", \"Rhode Island\", \"South Carolina\", \"South Dakota\", \"Tennessee\", \"Texas\", \"Utah\",\n",
    "        \"Vermont\", \"Virginia\", \"Washington\", \"West Virginia\", \"Wisconsin\", \"Wyoming\"\n",
    "    ]\n",
    ")\n",
    "\n",
    "q_CC22_320d = QuestionMultipleChoice(\n",
    "    question_name = \"CC22_320d\",\n",
    "    question_text = \"Do you approve of the way the Governor of {{ inputstate.answer }} is doing their job?\",\n",
    "    question_options = [\n",
    "        \"Strongly approve\",\n",
    "        \"Somewhat approve\",\n",
    "        \"Somewhat disapprove\",\n",
    "        \"Strongly disapprove\",\n",
    "        \"Not sure\"\n",
    "    ]\n",
    ")\n",
    "\n",
    "survey = Survey([q_inputstate, q_CC22_320d])\n",
    "\n",
    "results = survey.by(agents).run()\n",
    "\n",
    "results.select(\"inputstate\", \"CC22_320d_user_prompt\", \"CC22_320d\").print(format=\"rich\")"
   ]
  },
  {
   "cell_type": "markdown",
   "id": "a197d2aa-da00-4dae-ac46-88014606ae33",
   "metadata": {},
   "source": [
    "### Survey rules & conditions\n",
    "We can apply survey rules and conditions to administer relevant follow-up questions based on responses to questions.\n",
    "For example, here we add skip rules to a set of questions by calling the method `add_skip_rule()` and passing the target question and the condition to evaluate (questions not administered will show a `None` response):"
   ]
  },
  {
   "cell_type": "code",
   "execution_count": 24,
   "id": "b030f09f-6888-4043-98e5-7b914ef0feab",
   "metadata": {},
   "outputs": [
    {
     "data": {
      "text/html": [
       "<pre style=\"white-space:pre;overflow-x:auto;line-height:normal;font-family:Menlo,'DejaVu Sans Mono',consolas,'Courier New',monospace\">┏━━━━━━━━━━━━━━━━━━━━━━━━━━━━━━━━━━━━┳━━━━━━━━━━━━┳━━━━━━━━━━━━┳━━━━━━━━━━━━┳━━━━━━━━━━━━━━━━━━━━━━━━━━━━━━━━━━━━━┓\n",
       "┃<span style=\"color: #800080; text-decoration-color: #800080; font-weight: bold\"> answer                             </span>┃<span style=\"color: #800080; text-decoration-color: #800080; font-weight: bold\"> answer     </span>┃<span style=\"color: #800080; text-decoration-color: #800080; font-weight: bold\"> answer     </span>┃<span style=\"color: #800080; text-decoration-color: #800080; font-weight: bold\"> answer     </span>┃<span style=\"color: #800080; text-decoration-color: #800080; font-weight: bold\"> answer                              </span>┃\n",
       "┃<span style=\"color: #800080; text-decoration-color: #800080; font-weight: bold\"> .CC22_300                          </span>┃<span style=\"color: #800080; text-decoration-color: #800080; font-weight: bold\"> .CC22_300a </span>┃<span style=\"color: #800080; text-decoration-color: #800080; font-weight: bold\"> .CC22_300b </span>┃<span style=\"color: #800080; text-decoration-color: #800080; font-weight: bold\"> .CC22_300c </span>┃<span style=\"color: #800080; text-decoration-color: #800080; font-weight: bold\"> .CC22_300d                          </span>┃\n",
       "┡━━━━━━━━━━━━━━━━━━━━━━━━━━━━━━━━━━━━╇━━━━━━━━━━━━╇━━━━━━━━━━━━╇━━━━━━━━━━━━╇━━━━━━━━━━━━━━━━━━━━━━━━━━━━━━━━━━━━━┩\n",
       "│<span style=\"color: #7f7f7f; text-decoration-color: #7f7f7f\"> ['Used social media (such as       </span>│<span style=\"color: #7f7f7f; text-decoration-color: #7f7f7f\"> None       </span>│<span style=\"color: #7f7f7f; text-decoration-color: #7f7f7f\"> None       </span>│<span style=\"color: #7f7f7f; text-decoration-color: #7f7f7f\"> None       </span>│<span style=\"color: #7f7f7f; text-decoration-color: #7f7f7f\"> Read a story or watched a video     </span>│\n",
       "│<span style=\"color: #7f7f7f; text-decoration-color: #7f7f7f\"> Facebook or Youtube)']             </span>│<span style=\"color: #7f7f7f; text-decoration-color: #7f7f7f\">            </span>│<span style=\"color: #7f7f7f; text-decoration-color: #7f7f7f\">            </span>│<span style=\"color: #7f7f7f; text-decoration-color: #7f7f7f\">            </span>│<span style=\"color: #7f7f7f; text-decoration-color: #7f7f7f\"> about politics                      </span>│\n",
       "├────────────────────────────────────┼────────────┼────────────┼────────────┼─────────────────────────────────────┤\n",
       "│<span style=\"color: #7f7f7f; text-decoration-color: #7f7f7f\"> ['Watched TV news', 'Read a        </span>│<span style=\"color: #7f7f7f; text-decoration-color: #7f7f7f\"> Both       </span>│<span style=\"color: #7f7f7f; text-decoration-color: #7f7f7f\"> Fox News   </span>│<span style=\"color: #7f7f7f; text-decoration-color: #7f7f7f\"> Both       </span>│<span style=\"color: #7f7f7f; text-decoration-color: #7f7f7f\"> None                                </span>│\n",
       "│<span style=\"color: #7f7f7f; text-decoration-color: #7f7f7f\"> newspaper in print or online']     </span>│<span style=\"color: #7f7f7f; text-decoration-color: #7f7f7f\">            </span>│<span style=\"color: #7f7f7f; text-decoration-color: #7f7f7f\">            </span>│<span style=\"color: #7f7f7f; text-decoration-color: #7f7f7f\">            </span>│<span style=\"color: #7f7f7f; text-decoration-color: #7f7f7f\">                                     </span>│\n",
       "├────────────────────────────────────┼────────────┼────────────┼────────────┼─────────────────────────────────────┤\n",
       "│<span style=\"color: #7f7f7f; text-decoration-color: #7f7f7f\"> ['Used social media (such as       </span>│<span style=\"color: #7f7f7f; text-decoration-color: #7f7f7f\"> Both       </span>│<span style=\"color: #7f7f7f; text-decoration-color: #7f7f7f\"> CNN        </span>│<span style=\"color: #7f7f7f; text-decoration-color: #7f7f7f\"> Online     </span>│<span style=\"color: #7f7f7f; text-decoration-color: #7f7f7f\"> Read a story or watched a video     </span>│\n",
       "│<span style=\"color: #7f7f7f; text-decoration-color: #7f7f7f\"> Facebook or Youtube)', 'Watched TV </span>│<span style=\"color: #7f7f7f; text-decoration-color: #7f7f7f\">            </span>│<span style=\"color: #7f7f7f; text-decoration-color: #7f7f7f\">            </span>│<span style=\"color: #7f7f7f; text-decoration-color: #7f7f7f\">            </span>│<span style=\"color: #7f7f7f; text-decoration-color: #7f7f7f\"> about politics                      </span>│\n",
       "│<span style=\"color: #7f7f7f; text-decoration-color: #7f7f7f\"> news', 'Read a newspaper in print  </span>│<span style=\"color: #7f7f7f; text-decoration-color: #7f7f7f\">            </span>│<span style=\"color: #7f7f7f; text-decoration-color: #7f7f7f\">            </span>│<span style=\"color: #7f7f7f; text-decoration-color: #7f7f7f\">            </span>│<span style=\"color: #7f7f7f; text-decoration-color: #7f7f7f\">                                     </span>│\n",
       "│<span style=\"color: #7f7f7f; text-decoration-color: #7f7f7f\"> or online']                        </span>│<span style=\"color: #7f7f7f; text-decoration-color: #7f7f7f\">            </span>│<span style=\"color: #7f7f7f; text-decoration-color: #7f7f7f\">            </span>│<span style=\"color: #7f7f7f; text-decoration-color: #7f7f7f\">            </span>│<span style=\"color: #7f7f7f; text-decoration-color: #7f7f7f\">                                     </span>│\n",
       "└────────────────────────────────────┴────────────┴────────────┴────────────┴─────────────────────────────────────┘\n",
       "</pre>\n"
      ],
      "text/plain": [
       "┏━━━━━━━━━━━━━━━━━━━━━━━━━━━━━━━━━━━━┳━━━━━━━━━━━━┳━━━━━━━━━━━━┳━━━━━━━━━━━━┳━━━━━━━━━━━━━━━━━━━━━━━━━━━━━━━━━━━━━┓\n",
       "┃\u001b[1;35m \u001b[0m\u001b[1;35manswer                            \u001b[0m\u001b[1;35m \u001b[0m┃\u001b[1;35m \u001b[0m\u001b[1;35manswer    \u001b[0m\u001b[1;35m \u001b[0m┃\u001b[1;35m \u001b[0m\u001b[1;35manswer    \u001b[0m\u001b[1;35m \u001b[0m┃\u001b[1;35m \u001b[0m\u001b[1;35manswer    \u001b[0m\u001b[1;35m \u001b[0m┃\u001b[1;35m \u001b[0m\u001b[1;35manswer                             \u001b[0m\u001b[1;35m \u001b[0m┃\n",
       "┃\u001b[1;35m \u001b[0m\u001b[1;35m.CC22_300                         \u001b[0m\u001b[1;35m \u001b[0m┃\u001b[1;35m \u001b[0m\u001b[1;35m.CC22_300a\u001b[0m\u001b[1;35m \u001b[0m┃\u001b[1;35m \u001b[0m\u001b[1;35m.CC22_300b\u001b[0m\u001b[1;35m \u001b[0m┃\u001b[1;35m \u001b[0m\u001b[1;35m.CC22_300c\u001b[0m\u001b[1;35m \u001b[0m┃\u001b[1;35m \u001b[0m\u001b[1;35m.CC22_300d                         \u001b[0m\u001b[1;35m \u001b[0m┃\n",
       "┡━━━━━━━━━━━━━━━━━━━━━━━━━━━━━━━━━━━━╇━━━━━━━━━━━━╇━━━━━━━━━━━━╇━━━━━━━━━━━━╇━━━━━━━━━━━━━━━━━━━━━━━━━━━━━━━━━━━━━┩\n",
       "│\u001b[2m \u001b[0m\u001b[2m['Used social media (such as      \u001b[0m\u001b[2m \u001b[0m│\u001b[2m \u001b[0m\u001b[2mNone      \u001b[0m\u001b[2m \u001b[0m│\u001b[2m \u001b[0m\u001b[2mNone      \u001b[0m\u001b[2m \u001b[0m│\u001b[2m \u001b[0m\u001b[2mNone      \u001b[0m\u001b[2m \u001b[0m│\u001b[2m \u001b[0m\u001b[2mRead a story or watched a video    \u001b[0m\u001b[2m \u001b[0m│\n",
       "│\u001b[2m \u001b[0m\u001b[2mFacebook or Youtube)']            \u001b[0m\u001b[2m \u001b[0m│\u001b[2m            \u001b[0m│\u001b[2m            \u001b[0m│\u001b[2m            \u001b[0m│\u001b[2m \u001b[0m\u001b[2mabout politics                     \u001b[0m\u001b[2m \u001b[0m│\n",
       "├────────────────────────────────────┼────────────┼────────────┼────────────┼─────────────────────────────────────┤\n",
       "│\u001b[2m \u001b[0m\u001b[2m['Watched TV news', 'Read a       \u001b[0m\u001b[2m \u001b[0m│\u001b[2m \u001b[0m\u001b[2mBoth      \u001b[0m\u001b[2m \u001b[0m│\u001b[2m \u001b[0m\u001b[2mFox News  \u001b[0m\u001b[2m \u001b[0m│\u001b[2m \u001b[0m\u001b[2mBoth      \u001b[0m\u001b[2m \u001b[0m│\u001b[2m \u001b[0m\u001b[2mNone                               \u001b[0m\u001b[2m \u001b[0m│\n",
       "│\u001b[2m \u001b[0m\u001b[2mnewspaper in print or online']    \u001b[0m\u001b[2m \u001b[0m│\u001b[2m            \u001b[0m│\u001b[2m            \u001b[0m│\u001b[2m            \u001b[0m│\u001b[2m                                     \u001b[0m│\n",
       "├────────────────────────────────────┼────────────┼────────────┼────────────┼─────────────────────────────────────┤\n",
       "│\u001b[2m \u001b[0m\u001b[2m['Used social media (such as      \u001b[0m\u001b[2m \u001b[0m│\u001b[2m \u001b[0m\u001b[2mBoth      \u001b[0m\u001b[2m \u001b[0m│\u001b[2m \u001b[0m\u001b[2mCNN       \u001b[0m\u001b[2m \u001b[0m│\u001b[2m \u001b[0m\u001b[2mOnline    \u001b[0m\u001b[2m \u001b[0m│\u001b[2m \u001b[0m\u001b[2mRead a story or watched a video    \u001b[0m\u001b[2m \u001b[0m│\n",
       "│\u001b[2m \u001b[0m\u001b[2mFacebook or Youtube)', 'Watched TV\u001b[0m\u001b[2m \u001b[0m│\u001b[2m            \u001b[0m│\u001b[2m            \u001b[0m│\u001b[2m            \u001b[0m│\u001b[2m \u001b[0m\u001b[2mabout politics                     \u001b[0m\u001b[2m \u001b[0m│\n",
       "│\u001b[2m \u001b[0m\u001b[2mnews', 'Read a newspaper in print \u001b[0m\u001b[2m \u001b[0m│\u001b[2m            \u001b[0m│\u001b[2m            \u001b[0m│\u001b[2m            \u001b[0m│\u001b[2m                                     \u001b[0m│\n",
       "│\u001b[2m \u001b[0m\u001b[2mor online']                       \u001b[0m\u001b[2m \u001b[0m│\u001b[2m            \u001b[0m│\u001b[2m            \u001b[0m│\u001b[2m            \u001b[0m│\u001b[2m                                     \u001b[0m│\n",
       "└────────────────────────────────────┴────────────┴────────────┴────────────┴─────────────────────────────────────┘\n"
      ]
     },
     "metadata": {},
     "output_type": "display_data"
    }
   ],
   "source": [
    "from edsl import QuestionCheckBox, QuestionMultipleChoice, Survey\n",
    "\n",
    "# From the CES pre-election questionnaire\n",
    "q_CC22_300 = QuestionCheckBox( # Use checkbox to allow the agent to select multiple options\n",
    "    question_name = \"CC22_300\",\n",
    "    question_text = \"In the past 24 hours have you... (check all that apply)\",\n",
    "    question_options = [\n",
    "        \"Used social media (such as Facebook or Youtube)\",\n",
    "        \"Watched TV news\",\n",
    "        \"Read a newspaper in print or online\",\n",
    "        \"Listened to a radio news program or talk radio\",\n",
    "        \"None of these\"\n",
    "    ]\n",
    ")\n",
    "\n",
    "# Skip this question if the agent does not select \"Watched TV news\"\n",
    "q_CC22_300a = QuestionMultipleChoice(\n",
    "    question_name = \"CC22_300a\",\n",
    "    question_text = \"Did you watch local news, national news, or both?\",\n",
    "    question_options = [\"Local Newscast\", \"National Newscast\", \"Both\"]\n",
    ")\n",
    "\n",
    "# Skip this question if the agent does not select \"Watched TV news\"\n",
    "q_CC22_300b = QuestionMultipleChoice(\n",
    "    question_name = \"CC22_300b\",\n",
    "    question_text = \"Which of these networks did you watch?\",\n",
    "    question_options = [\"ABC\", \"CBS\", \"NBC\", \"CNN\", \"Fox News\", \"MSNBC\", \"PBS\", \"Other\"]\n",
    ")\n",
    "\n",
    "# Skip this question if the agent does not select \"Read a newspaper...\"\n",
    "q_CC22_300c = QuestionMultipleChoice(\n",
    "    question_name = \"CC22_300c\",\n",
    "    question_text = \"Did you read a print newspaper, an online newspaper, or both?\",\n",
    "    question_options = [\"Print\", \"Online\", \"Both\"]\n",
    ")\n",
    "\n",
    "# Skip this question if the agent does not select \"Used social media...\"\n",
    "q_CC22_300d = QuestionMultipleChoice(\n",
    "    question_name = \"CC22_300d\",\n",
    "    question_text = \"In the past 24 hours, did you do any of the following on social media (such as Facebook, Youtube or Twitter)?\",\n",
    "    question_options = [\n",
    "        \"Posted a story, photo, video or link about politics\",\n",
    "        \"Posted a comment about politics\",\n",
    "        \"Read a story or watched a video about politics\",\n",
    "        \"Followed a political event\",\n",
    "        \"Forwarded a story, photo, video or link about politics to friends\",\n",
    "        \"None of the above\"\n",
    "    ]\n",
    ")\n",
    "\n",
    "survey_CC22_300 = (Survey([q_CC22_300, q_CC22_300a, q_CC22_300b, q_CC22_300c, q_CC22_300d])\n",
    "                   .add_skip_rule(q_CC22_300a, \"'Watched TV news' not in CC22_300\")\n",
    "                   .add_skip_rule(q_CC22_300b, \"'Watched TV news' not in CC22_300\")\n",
    "                   .add_skip_rule(q_CC22_300c, \"'Read a newspaper in print or online' not in CC22_300\")\n",
    "                   .add_skip_rule(q_CC22_300d, \"'Used social media (such as Facebook or Youtube)' not in CC22_300\")\n",
    "                  )\n",
    "\n",
    "results_CC22_300 = survey_CC22_300.by(agents).run()\n",
    "\n",
    "results_CC22_300.select(\"CC22_300\", \"CC22_300a\", \"CC22_300b\", \"CC22_300c\", \"CC22_300d\").print(format=\"rich\")"
   ]
  },
  {
   "cell_type": "markdown",
   "id": "f6758e76-5766-4df5-9941-0cb3f91740cc",
   "metadata": {},
   "source": [
    "Here we use `add_stop_rule()` to end the survey based on the response to an initial question (an option selection that makes the second question unnecessary):"
   ]
  },
  {
   "cell_type": "code",
   "execution_count": 25,
   "id": "78a6d030-4fb9-4733-b797-af163796b0b2",
   "metadata": {},
   "outputs": [
    {
     "data": {
      "text/html": [
       "<pre style=\"white-space:pre;overflow-x:auto;line-height:normal;font-family:Menlo,'DejaVu Sans Mono',consolas,'Courier New',monospace\">┏━━━━━━━━━━━━━━━━━━━━━━━┳━━━━━━━━━┓\n",
       "┃<span style=\"color: #800080; text-decoration-color: #800080; font-weight: bold\"> answer                </span>┃<span style=\"color: #800080; text-decoration-color: #800080; font-weight: bold\"> answer  </span>┃\n",
       "┃<span style=\"color: #800080; text-decoration-color: #800080; font-weight: bold\"> .employ               </span>┃<span style=\"color: #800080; text-decoration-color: #800080; font-weight: bold\"> .hadjob </span>┃\n",
       "┡━━━━━━━━━━━━━━━━━━━━━━━╇━━━━━━━━━┩\n",
       "│<span style=\"color: #7f7f7f; text-decoration-color: #7f7f7f\"> Working part time now </span>│<span style=\"color: #7f7f7f; text-decoration-color: #7f7f7f\"> None    </span>│\n",
       "├───────────────────────┼─────────┤\n",
       "│<span style=\"color: #7f7f7f; text-decoration-color: #7f7f7f\"> Working full time now </span>│<span style=\"color: #7f7f7f; text-decoration-color: #7f7f7f\"> None    </span>│\n",
       "├───────────────────────┼─────────┤\n",
       "│<span style=\"color: #7f7f7f; text-decoration-color: #7f7f7f\"> Retired               </span>│<span style=\"color: #7f7f7f; text-decoration-color: #7f7f7f\"> Yes     </span>│\n",
       "└───────────────────────┴─────────┘\n",
       "</pre>\n"
      ],
      "text/plain": [
       "┏━━━━━━━━━━━━━━━━━━━━━━━┳━━━━━━━━━┓\n",
       "┃\u001b[1;35m \u001b[0m\u001b[1;35manswer               \u001b[0m\u001b[1;35m \u001b[0m┃\u001b[1;35m \u001b[0m\u001b[1;35manswer \u001b[0m\u001b[1;35m \u001b[0m┃\n",
       "┃\u001b[1;35m \u001b[0m\u001b[1;35m.employ              \u001b[0m\u001b[1;35m \u001b[0m┃\u001b[1;35m \u001b[0m\u001b[1;35m.hadjob\u001b[0m\u001b[1;35m \u001b[0m┃\n",
       "┡━━━━━━━━━━━━━━━━━━━━━━━╇━━━━━━━━━┩\n",
       "│\u001b[2m \u001b[0m\u001b[2mWorking part time now\u001b[0m\u001b[2m \u001b[0m│\u001b[2m \u001b[0m\u001b[2mNone   \u001b[0m\u001b[2m \u001b[0m│\n",
       "├───────────────────────┼─────────┤\n",
       "│\u001b[2m \u001b[0m\u001b[2mWorking full time now\u001b[0m\u001b[2m \u001b[0m│\u001b[2m \u001b[0m\u001b[2mNone   \u001b[0m\u001b[2m \u001b[0m│\n",
       "├───────────────────────┼─────────┤\n",
       "│\u001b[2m \u001b[0m\u001b[2mRetired              \u001b[0m\u001b[2m \u001b[0m│\u001b[2m \u001b[0m\u001b[2mYes    \u001b[0m\u001b[2m \u001b[0m│\n",
       "└───────────────────────┴─────────┘\n"
      ]
     },
     "metadata": {},
     "output_type": "display_data"
    }
   ],
   "source": [
    "from edsl import QuestionMultipleChoice, QuestionYesNo, Survey\n",
    "\n",
    "# From the CES pre-election questionnaire\n",
    "q_employ = QuestionMultipleChoice(\n",
    "    question_name=\"employ\",\n",
    "    question_text=\"Which of the following best describes your current employment status?\",\n",
    "    question_options=[\n",
    "        \"Working full time now\",\n",
    "        \"Working part time now\",\n",
    "        \"Temporarily laid off\",\n",
    "        \"Unemployed\",\n",
    "        \"Retired\",\n",
    "        \"Permanently disabled\",\n",
    "        \"Taking care of home or family\",\n",
    "        \"Student\",\n",
    "        \"Other\"\n",
    "    ]\n",
    ")\n",
    "\n",
    "q_hadjob = QuestionYesNo(\n",
    "    question_name=\"hadjob\",\n",
    "    question_text=\"At any time over the past five years, have you had a job?\"\n",
    ")\n",
    "\n",
    "survey = (Survey([q_employ, q_hadjob])\n",
    "          .add_stop_rule(q_employ, \"employ in ['Working full time now', 'Working part time now', 'Temporarily laid off']\")\n",
    "         )\n",
    "\n",
    "results = survey.by(agents).run()\n",
    "\n",
    "results.select(\"employ\", \"hadjob\").print(format=\"rich\")"
   ]
  },
  {
   "cell_type": "markdown",
   "id": "105c9b18-d69a-4be4-b147-f845da129869",
   "metadata": {},
   "source": [
    "### Combining survey methods\n",
    "Here we apply multiple methods at once: we add a memory of `region` to the prompt for `inputzip`, then pipe the answer to `inputzip` into the question text of `votereg_f`, and a stop rule if the answer to `votereg` is not \"Yes\" (i.e., do not administer `votereg_f`):"
   ]
  },
  {
   "cell_type": "code",
   "execution_count": 26,
   "id": "07e0230b-df24-4c0a-a59f-1474484ba19c",
   "metadata": {
    "scrolled": true
   },
   "outputs": [
    {
     "data": {
      "text/html": [
       "<pre style=\"white-space:pre;overflow-x:auto;line-height:normal;font-family:Menlo,'DejaVu Sans Mono',consolas,'Courier New',monospace\">┏━━━━━━━━━┳━━━━━━━━━━━┳━━━━━━━━━━┳━━━━━━━━━━━━┳━━━━━━━━━━━━━━━━━━━━━━━━━━━━━━━━━━━━━━━━━━━━━━━━━━━━━━━━━━━━━━━━━━━┓\n",
       "┃<span style=\"color: #800080; text-decoration-color: #800080; font-weight: bold\"> answer  </span>┃<span style=\"color: #800080; text-decoration-color: #800080; font-weight: bold\"> answer    </span>┃<span style=\"color: #800080; text-decoration-color: #800080; font-weight: bold\"> answer   </span>┃<span style=\"color: #800080; text-decoration-color: #800080; font-weight: bold\"> answer     </span>┃<span style=\"color: #800080; text-decoration-color: #800080; font-weight: bold\"> prompt                                                            </span>┃\n",
       "┃<span style=\"color: #800080; text-decoration-color: #800080; font-weight: bold\"> .region </span>┃<span style=\"color: #800080; text-decoration-color: #800080; font-weight: bold\"> .inputzip </span>┃<span style=\"color: #800080; text-decoration-color: #800080; font-weight: bold\"> .votereg </span>┃<span style=\"color: #800080; text-decoration-color: #800080; font-weight: bold\"> .votereg_f </span>┃<span style=\"color: #800080; text-decoration-color: #800080; font-weight: bold\"> .votereg_f_user_prompt                                            </span>┃\n",
       "┡━━━━━━━━━╇━━━━━━━━━━━╇━━━━━━━━━━╇━━━━━━━━━━━━╇━━━━━━━━━━━━━━━━━━━━━━━━━━━━━━━━━━━━━━━━━━━━━━━━━━━━━━━━━━━━━━━━━━━┩\n",
       "│<span style=\"color: #7f7f7f; text-decoration-color: #7f7f7f\"> South   </span>│<span style=\"color: #7f7f7f; text-decoration-color: #7f7f7f\"> ['30309'] </span>│<span style=\"color: #7f7f7f; text-decoration-color: #7f7f7f\"> Yes      </span>│<span style=\"color: #7f7f7f; text-decoration-color: #7f7f7f\"> No         </span>│<span style=\"color: #7f7f7f; text-decoration-color: #7f7f7f\"> You are being asked the following question: Is 30309 the zip code </span>│\n",
       "│<span style=\"color: #7f7f7f; text-decoration-color: #7f7f7f\">         </span>│<span style=\"color: #7f7f7f; text-decoration-color: #7f7f7f\">           </span>│<span style=\"color: #7f7f7f; text-decoration-color: #7f7f7f\">          </span>│<span style=\"color: #7f7f7f; text-decoration-color: #7f7f7f\">            </span>│<span style=\"color: #7f7f7f; text-decoration-color: #7f7f7f\"> where you are registered to vote?                                 </span>│\n",
       "│<span style=\"color: #7f7f7f; text-decoration-color: #7f7f7f\">         </span>│<span style=\"color: #7f7f7f; text-decoration-color: #7f7f7f\">           </span>│<span style=\"color: #7f7f7f; text-decoration-color: #7f7f7f\">          </span>│<span style=\"color: #7f7f7f; text-decoration-color: #7f7f7f\">            </span>│<span style=\"color: #7f7f7f; text-decoration-color: #7f7f7f\"> The options are                                                   </span>│\n",
       "│<span style=\"color: #7f7f7f; text-decoration-color: #7f7f7f\">         </span>│<span style=\"color: #7f7f7f; text-decoration-color: #7f7f7f\">           </span>│<span style=\"color: #7f7f7f; text-decoration-color: #7f7f7f\">          </span>│<span style=\"color: #7f7f7f; text-decoration-color: #7f7f7f\">            </span>│<span style=\"color: #7f7f7f; text-decoration-color: #7f7f7f\">                                                                   </span>│\n",
       "│<span style=\"color: #7f7f7f; text-decoration-color: #7f7f7f\">         </span>│<span style=\"color: #7f7f7f; text-decoration-color: #7f7f7f\">           </span>│<span style=\"color: #7f7f7f; text-decoration-color: #7f7f7f\">          </span>│<span style=\"color: #7f7f7f; text-decoration-color: #7f7f7f\">            </span>│<span style=\"color: #7f7f7f; text-decoration-color: #7f7f7f\"> 0: Yes                                                            </span>│\n",
       "│<span style=\"color: #7f7f7f; text-decoration-color: #7f7f7f\">         </span>│<span style=\"color: #7f7f7f; text-decoration-color: #7f7f7f\">           </span>│<span style=\"color: #7f7f7f; text-decoration-color: #7f7f7f\">          </span>│<span style=\"color: #7f7f7f; text-decoration-color: #7f7f7f\">            </span>│<span style=\"color: #7f7f7f; text-decoration-color: #7f7f7f\">                                                                   </span>│\n",
       "│<span style=\"color: #7f7f7f; text-decoration-color: #7f7f7f\">         </span>│<span style=\"color: #7f7f7f; text-decoration-color: #7f7f7f\">           </span>│<span style=\"color: #7f7f7f; text-decoration-color: #7f7f7f\">          </span>│<span style=\"color: #7f7f7f; text-decoration-color: #7f7f7f\">            </span>│<span style=\"color: #7f7f7f; text-decoration-color: #7f7f7f\"> 1: No                                                             </span>│\n",
       "│<span style=\"color: #7f7f7f; text-decoration-color: #7f7f7f\">         </span>│<span style=\"color: #7f7f7f; text-decoration-color: #7f7f7f\">           </span>│<span style=\"color: #7f7f7f; text-decoration-color: #7f7f7f\">          </span>│<span style=\"color: #7f7f7f; text-decoration-color: #7f7f7f\">            </span>│<span style=\"color: #7f7f7f; text-decoration-color: #7f7f7f\">                                                                   </span>│\n",
       "│<span style=\"color: #7f7f7f; text-decoration-color: #7f7f7f\">         </span>│<span style=\"color: #7f7f7f; text-decoration-color: #7f7f7f\">           </span>│<span style=\"color: #7f7f7f; text-decoration-color: #7f7f7f\">          </span>│<span style=\"color: #7f7f7f; text-decoration-color: #7f7f7f\">            </span>│<span style=\"color: #7f7f7f; text-decoration-color: #7f7f7f\"> Return a valid JSON formatted like this, selecting only the       </span>│\n",
       "│<span style=\"color: #7f7f7f; text-decoration-color: #7f7f7f\">         </span>│<span style=\"color: #7f7f7f; text-decoration-color: #7f7f7f\">           </span>│<span style=\"color: #7f7f7f; text-decoration-color: #7f7f7f\">          </span>│<span style=\"color: #7f7f7f; text-decoration-color: #7f7f7f\">            </span>│<span style=\"color: #7f7f7f; text-decoration-color: #7f7f7f\"> number of the option:                                             </span>│\n",
       "│<span style=\"color: #7f7f7f; text-decoration-color: #7f7f7f\">         </span>│<span style=\"color: #7f7f7f; text-decoration-color: #7f7f7f\">           </span>│<span style=\"color: #7f7f7f; text-decoration-color: #7f7f7f\">          </span>│<span style=\"color: #7f7f7f; text-decoration-color: #7f7f7f\">            </span>│<span style=\"color: #7f7f7f; text-decoration-color: #7f7f7f\"> {\"answer\": &lt;put answer code here&gt;, \"comment\": \"&lt;put explanation   </span>│\n",
       "│<span style=\"color: #7f7f7f; text-decoration-color: #7f7f7f\">         </span>│<span style=\"color: #7f7f7f; text-decoration-color: #7f7f7f\">           </span>│<span style=\"color: #7f7f7f; text-decoration-color: #7f7f7f\">          </span>│<span style=\"color: #7f7f7f; text-decoration-color: #7f7f7f\">            </span>│<span style=\"color: #7f7f7f; text-decoration-color: #7f7f7f\"> here&gt;\"}                                                           </span>│\n",
       "│<span style=\"color: #7f7f7f; text-decoration-color: #7f7f7f\">         </span>│<span style=\"color: #7f7f7f; text-decoration-color: #7f7f7f\">           </span>│<span style=\"color: #7f7f7f; text-decoration-color: #7f7f7f\">          </span>│<span style=\"color: #7f7f7f; text-decoration-color: #7f7f7f\">            </span>│<span style=\"color: #7f7f7f; text-decoration-color: #7f7f7f\"> Only 1 option may be selected.                                    </span>│\n",
       "├─────────┼───────────┼──────────┼────────────┼───────────────────────────────────────────────────────────────────┤\n",
       "│<span style=\"color: #7f7f7f; text-decoration-color: #7f7f7f\"> West    </span>│<span style=\"color: #7f7f7f; text-decoration-color: #7f7f7f\"> ['90001'] </span>│<span style=\"color: #7f7f7f; text-decoration-color: #7f7f7f\"> Yes      </span>│<span style=\"color: #7f7f7f; text-decoration-color: #7f7f7f\"> No         </span>│<span style=\"color: #7f7f7f; text-decoration-color: #7f7f7f\"> You are being asked the following question: Is 90001 the zip code </span>│\n",
       "│<span style=\"color: #7f7f7f; text-decoration-color: #7f7f7f\">         </span>│<span style=\"color: #7f7f7f; text-decoration-color: #7f7f7f\">           </span>│<span style=\"color: #7f7f7f; text-decoration-color: #7f7f7f\">          </span>│<span style=\"color: #7f7f7f; text-decoration-color: #7f7f7f\">            </span>│<span style=\"color: #7f7f7f; text-decoration-color: #7f7f7f\"> where you are registered to vote?                                 </span>│\n",
       "│<span style=\"color: #7f7f7f; text-decoration-color: #7f7f7f\">         </span>│<span style=\"color: #7f7f7f; text-decoration-color: #7f7f7f\">           </span>│<span style=\"color: #7f7f7f; text-decoration-color: #7f7f7f\">          </span>│<span style=\"color: #7f7f7f; text-decoration-color: #7f7f7f\">            </span>│<span style=\"color: #7f7f7f; text-decoration-color: #7f7f7f\"> The options are                                                   </span>│\n",
       "│<span style=\"color: #7f7f7f; text-decoration-color: #7f7f7f\">         </span>│<span style=\"color: #7f7f7f; text-decoration-color: #7f7f7f\">           </span>│<span style=\"color: #7f7f7f; text-decoration-color: #7f7f7f\">          </span>│<span style=\"color: #7f7f7f; text-decoration-color: #7f7f7f\">            </span>│<span style=\"color: #7f7f7f; text-decoration-color: #7f7f7f\">                                                                   </span>│\n",
       "│<span style=\"color: #7f7f7f; text-decoration-color: #7f7f7f\">         </span>│<span style=\"color: #7f7f7f; text-decoration-color: #7f7f7f\">           </span>│<span style=\"color: #7f7f7f; text-decoration-color: #7f7f7f\">          </span>│<span style=\"color: #7f7f7f; text-decoration-color: #7f7f7f\">            </span>│<span style=\"color: #7f7f7f; text-decoration-color: #7f7f7f\"> 0: Yes                                                            </span>│\n",
       "│<span style=\"color: #7f7f7f; text-decoration-color: #7f7f7f\">         </span>│<span style=\"color: #7f7f7f; text-decoration-color: #7f7f7f\">           </span>│<span style=\"color: #7f7f7f; text-decoration-color: #7f7f7f\">          </span>│<span style=\"color: #7f7f7f; text-decoration-color: #7f7f7f\">            </span>│<span style=\"color: #7f7f7f; text-decoration-color: #7f7f7f\">                                                                   </span>│\n",
       "│<span style=\"color: #7f7f7f; text-decoration-color: #7f7f7f\">         </span>│<span style=\"color: #7f7f7f; text-decoration-color: #7f7f7f\">           </span>│<span style=\"color: #7f7f7f; text-decoration-color: #7f7f7f\">          </span>│<span style=\"color: #7f7f7f; text-decoration-color: #7f7f7f\">            </span>│<span style=\"color: #7f7f7f; text-decoration-color: #7f7f7f\"> 1: No                                                             </span>│\n",
       "│<span style=\"color: #7f7f7f; text-decoration-color: #7f7f7f\">         </span>│<span style=\"color: #7f7f7f; text-decoration-color: #7f7f7f\">           </span>│<span style=\"color: #7f7f7f; text-decoration-color: #7f7f7f\">          </span>│<span style=\"color: #7f7f7f; text-decoration-color: #7f7f7f\">            </span>│<span style=\"color: #7f7f7f; text-decoration-color: #7f7f7f\">                                                                   </span>│\n",
       "│<span style=\"color: #7f7f7f; text-decoration-color: #7f7f7f\">         </span>│<span style=\"color: #7f7f7f; text-decoration-color: #7f7f7f\">           </span>│<span style=\"color: #7f7f7f; text-decoration-color: #7f7f7f\">          </span>│<span style=\"color: #7f7f7f; text-decoration-color: #7f7f7f\">            </span>│<span style=\"color: #7f7f7f; text-decoration-color: #7f7f7f\"> Return a valid JSON formatted like this, selecting only the       </span>│\n",
       "│<span style=\"color: #7f7f7f; text-decoration-color: #7f7f7f\">         </span>│<span style=\"color: #7f7f7f; text-decoration-color: #7f7f7f\">           </span>│<span style=\"color: #7f7f7f; text-decoration-color: #7f7f7f\">          </span>│<span style=\"color: #7f7f7f; text-decoration-color: #7f7f7f\">            </span>│<span style=\"color: #7f7f7f; text-decoration-color: #7f7f7f\"> number of the option:                                             </span>│\n",
       "│<span style=\"color: #7f7f7f; text-decoration-color: #7f7f7f\">         </span>│<span style=\"color: #7f7f7f; text-decoration-color: #7f7f7f\">           </span>│<span style=\"color: #7f7f7f; text-decoration-color: #7f7f7f\">          </span>│<span style=\"color: #7f7f7f; text-decoration-color: #7f7f7f\">            </span>│<span style=\"color: #7f7f7f; text-decoration-color: #7f7f7f\"> {\"answer\": &lt;put answer code here&gt;, \"comment\": \"&lt;put explanation   </span>│\n",
       "│<span style=\"color: #7f7f7f; text-decoration-color: #7f7f7f\">         </span>│<span style=\"color: #7f7f7f; text-decoration-color: #7f7f7f\">           </span>│<span style=\"color: #7f7f7f; text-decoration-color: #7f7f7f\">          </span>│<span style=\"color: #7f7f7f; text-decoration-color: #7f7f7f\">            </span>│<span style=\"color: #7f7f7f; text-decoration-color: #7f7f7f\"> here&gt;\"}                                                           </span>│\n",
       "│<span style=\"color: #7f7f7f; text-decoration-color: #7f7f7f\">         </span>│<span style=\"color: #7f7f7f; text-decoration-color: #7f7f7f\">           </span>│<span style=\"color: #7f7f7f; text-decoration-color: #7f7f7f\">          </span>│<span style=\"color: #7f7f7f; text-decoration-color: #7f7f7f\">            </span>│<span style=\"color: #7f7f7f; text-decoration-color: #7f7f7f\"> Only 1 option may be selected.                                    </span>│\n",
       "├─────────┼───────────┼──────────┼────────────┼───────────────────────────────────────────────────────────────────┤\n",
       "│<span style=\"color: #7f7f7f; text-decoration-color: #7f7f7f\"> South   </span>│<span style=\"color: #7f7f7f; text-decoration-color: #7f7f7f\"> ['30309'] </span>│<span style=\"color: #7f7f7f; text-decoration-color: #7f7f7f\"> Yes      </span>│<span style=\"color: #7f7f7f; text-decoration-color: #7f7f7f\"> No         </span>│<span style=\"color: #7f7f7f; text-decoration-color: #7f7f7f\"> You are being asked the following question: Is 30309 the zip code </span>│\n",
       "│<span style=\"color: #7f7f7f; text-decoration-color: #7f7f7f\">         </span>│<span style=\"color: #7f7f7f; text-decoration-color: #7f7f7f\">           </span>│<span style=\"color: #7f7f7f; text-decoration-color: #7f7f7f\">          </span>│<span style=\"color: #7f7f7f; text-decoration-color: #7f7f7f\">            </span>│<span style=\"color: #7f7f7f; text-decoration-color: #7f7f7f\"> where you are registered to vote?                                 </span>│\n",
       "│<span style=\"color: #7f7f7f; text-decoration-color: #7f7f7f\">         </span>│<span style=\"color: #7f7f7f; text-decoration-color: #7f7f7f\">           </span>│<span style=\"color: #7f7f7f; text-decoration-color: #7f7f7f\">          </span>│<span style=\"color: #7f7f7f; text-decoration-color: #7f7f7f\">            </span>│<span style=\"color: #7f7f7f; text-decoration-color: #7f7f7f\"> The options are                                                   </span>│\n",
       "│<span style=\"color: #7f7f7f; text-decoration-color: #7f7f7f\">         </span>│<span style=\"color: #7f7f7f; text-decoration-color: #7f7f7f\">           </span>│<span style=\"color: #7f7f7f; text-decoration-color: #7f7f7f\">          </span>│<span style=\"color: #7f7f7f; text-decoration-color: #7f7f7f\">            </span>│<span style=\"color: #7f7f7f; text-decoration-color: #7f7f7f\">                                                                   </span>│\n",
       "│<span style=\"color: #7f7f7f; text-decoration-color: #7f7f7f\">         </span>│<span style=\"color: #7f7f7f; text-decoration-color: #7f7f7f\">           </span>│<span style=\"color: #7f7f7f; text-decoration-color: #7f7f7f\">          </span>│<span style=\"color: #7f7f7f; text-decoration-color: #7f7f7f\">            </span>│<span style=\"color: #7f7f7f; text-decoration-color: #7f7f7f\"> 0: Yes                                                            </span>│\n",
       "│<span style=\"color: #7f7f7f; text-decoration-color: #7f7f7f\">         </span>│<span style=\"color: #7f7f7f; text-decoration-color: #7f7f7f\">           </span>│<span style=\"color: #7f7f7f; text-decoration-color: #7f7f7f\">          </span>│<span style=\"color: #7f7f7f; text-decoration-color: #7f7f7f\">            </span>│<span style=\"color: #7f7f7f; text-decoration-color: #7f7f7f\">                                                                   </span>│\n",
       "│<span style=\"color: #7f7f7f; text-decoration-color: #7f7f7f\">         </span>│<span style=\"color: #7f7f7f; text-decoration-color: #7f7f7f\">           </span>│<span style=\"color: #7f7f7f; text-decoration-color: #7f7f7f\">          </span>│<span style=\"color: #7f7f7f; text-decoration-color: #7f7f7f\">            </span>│<span style=\"color: #7f7f7f; text-decoration-color: #7f7f7f\"> 1: No                                                             </span>│\n",
       "│<span style=\"color: #7f7f7f; text-decoration-color: #7f7f7f\">         </span>│<span style=\"color: #7f7f7f; text-decoration-color: #7f7f7f\">           </span>│<span style=\"color: #7f7f7f; text-decoration-color: #7f7f7f\">          </span>│<span style=\"color: #7f7f7f; text-decoration-color: #7f7f7f\">            </span>│<span style=\"color: #7f7f7f; text-decoration-color: #7f7f7f\">                                                                   </span>│\n",
       "│<span style=\"color: #7f7f7f; text-decoration-color: #7f7f7f\">         </span>│<span style=\"color: #7f7f7f; text-decoration-color: #7f7f7f\">           </span>│<span style=\"color: #7f7f7f; text-decoration-color: #7f7f7f\">          </span>│<span style=\"color: #7f7f7f; text-decoration-color: #7f7f7f\">            </span>│<span style=\"color: #7f7f7f; text-decoration-color: #7f7f7f\"> Return a valid JSON formatted like this, selecting only the       </span>│\n",
       "│<span style=\"color: #7f7f7f; text-decoration-color: #7f7f7f\">         </span>│<span style=\"color: #7f7f7f; text-decoration-color: #7f7f7f\">           </span>│<span style=\"color: #7f7f7f; text-decoration-color: #7f7f7f\">          </span>│<span style=\"color: #7f7f7f; text-decoration-color: #7f7f7f\">            </span>│<span style=\"color: #7f7f7f; text-decoration-color: #7f7f7f\"> number of the option:                                             </span>│\n",
       "│<span style=\"color: #7f7f7f; text-decoration-color: #7f7f7f\">         </span>│<span style=\"color: #7f7f7f; text-decoration-color: #7f7f7f\">           </span>│<span style=\"color: #7f7f7f; text-decoration-color: #7f7f7f\">          </span>│<span style=\"color: #7f7f7f; text-decoration-color: #7f7f7f\">            </span>│<span style=\"color: #7f7f7f; text-decoration-color: #7f7f7f\"> {\"answer\": &lt;put answer code here&gt;, \"comment\": \"&lt;put explanation   </span>│\n",
       "│<span style=\"color: #7f7f7f; text-decoration-color: #7f7f7f\">         </span>│<span style=\"color: #7f7f7f; text-decoration-color: #7f7f7f\">           </span>│<span style=\"color: #7f7f7f; text-decoration-color: #7f7f7f\">          </span>│<span style=\"color: #7f7f7f; text-decoration-color: #7f7f7f\">            </span>│<span style=\"color: #7f7f7f; text-decoration-color: #7f7f7f\"> here&gt;\"}                                                           </span>│\n",
       "│<span style=\"color: #7f7f7f; text-decoration-color: #7f7f7f\">         </span>│<span style=\"color: #7f7f7f; text-decoration-color: #7f7f7f\">           </span>│<span style=\"color: #7f7f7f; text-decoration-color: #7f7f7f\">          </span>│<span style=\"color: #7f7f7f; text-decoration-color: #7f7f7f\">            </span>│<span style=\"color: #7f7f7f; text-decoration-color: #7f7f7f\"> Only 1 option may be selected.                                    </span>│\n",
       "└─────────┴───────────┴──────────┴────────────┴───────────────────────────────────────────────────────────────────┘\n",
       "</pre>\n"
      ],
      "text/plain": [
       "┏━━━━━━━━━┳━━━━━━━━━━━┳━━━━━━━━━━┳━━━━━━━━━━━━┳━━━━━━━━━━━━━━━━━━━━━━━━━━━━━━━━━━━━━━━━━━━━━━━━━━━━━━━━━━━━━━━━━━━┓\n",
       "┃\u001b[1;35m \u001b[0m\u001b[1;35manswer \u001b[0m\u001b[1;35m \u001b[0m┃\u001b[1;35m \u001b[0m\u001b[1;35manswer   \u001b[0m\u001b[1;35m \u001b[0m┃\u001b[1;35m \u001b[0m\u001b[1;35manswer  \u001b[0m\u001b[1;35m \u001b[0m┃\u001b[1;35m \u001b[0m\u001b[1;35manswer    \u001b[0m\u001b[1;35m \u001b[0m┃\u001b[1;35m \u001b[0m\u001b[1;35mprompt                                                           \u001b[0m\u001b[1;35m \u001b[0m┃\n",
       "┃\u001b[1;35m \u001b[0m\u001b[1;35m.region\u001b[0m\u001b[1;35m \u001b[0m┃\u001b[1;35m \u001b[0m\u001b[1;35m.inputzip\u001b[0m\u001b[1;35m \u001b[0m┃\u001b[1;35m \u001b[0m\u001b[1;35m.votereg\u001b[0m\u001b[1;35m \u001b[0m┃\u001b[1;35m \u001b[0m\u001b[1;35m.votereg_f\u001b[0m\u001b[1;35m \u001b[0m┃\u001b[1;35m \u001b[0m\u001b[1;35m.votereg_f_user_prompt                                           \u001b[0m\u001b[1;35m \u001b[0m┃\n",
       "┡━━━━━━━━━╇━━━━━━━━━━━╇━━━━━━━━━━╇━━━━━━━━━━━━╇━━━━━━━━━━━━━━━━━━━━━━━━━━━━━━━━━━━━━━━━━━━━━━━━━━━━━━━━━━━━━━━━━━━┩\n",
       "│\u001b[2m \u001b[0m\u001b[2mSouth  \u001b[0m\u001b[2m \u001b[0m│\u001b[2m \u001b[0m\u001b[2m['30309']\u001b[0m\u001b[2m \u001b[0m│\u001b[2m \u001b[0m\u001b[2mYes     \u001b[0m\u001b[2m \u001b[0m│\u001b[2m \u001b[0m\u001b[2mNo        \u001b[0m\u001b[2m \u001b[0m│\u001b[2m \u001b[0m\u001b[2mYou are being asked the following question: Is 30309 the zip code\u001b[0m\u001b[2m \u001b[0m│\n",
       "│\u001b[2m         \u001b[0m│\u001b[2m           \u001b[0m│\u001b[2m          \u001b[0m│\u001b[2m            \u001b[0m│\u001b[2m \u001b[0m\u001b[2mwhere you are registered to vote?                                \u001b[0m\u001b[2m \u001b[0m│\n",
       "│\u001b[2m         \u001b[0m│\u001b[2m           \u001b[0m│\u001b[2m          \u001b[0m│\u001b[2m            \u001b[0m│\u001b[2m \u001b[0m\u001b[2mThe options are                                                  \u001b[0m\u001b[2m \u001b[0m│\n",
       "│\u001b[2m         \u001b[0m│\u001b[2m           \u001b[0m│\u001b[2m          \u001b[0m│\u001b[2m            \u001b[0m│\u001b[2m \u001b[0m\u001b[2m                                                                 \u001b[0m\u001b[2m \u001b[0m│\n",
       "│\u001b[2m         \u001b[0m│\u001b[2m           \u001b[0m│\u001b[2m          \u001b[0m│\u001b[2m            \u001b[0m│\u001b[2m \u001b[0m\u001b[2m0: Yes                                                           \u001b[0m\u001b[2m \u001b[0m│\n",
       "│\u001b[2m         \u001b[0m│\u001b[2m           \u001b[0m│\u001b[2m          \u001b[0m│\u001b[2m            \u001b[0m│\u001b[2m \u001b[0m\u001b[2m                                                                 \u001b[0m\u001b[2m \u001b[0m│\n",
       "│\u001b[2m         \u001b[0m│\u001b[2m           \u001b[0m│\u001b[2m          \u001b[0m│\u001b[2m            \u001b[0m│\u001b[2m \u001b[0m\u001b[2m1: No                                                            \u001b[0m\u001b[2m \u001b[0m│\n",
       "│\u001b[2m         \u001b[0m│\u001b[2m           \u001b[0m│\u001b[2m          \u001b[0m│\u001b[2m            \u001b[0m│\u001b[2m \u001b[0m\u001b[2m                                                                 \u001b[0m\u001b[2m \u001b[0m│\n",
       "│\u001b[2m         \u001b[0m│\u001b[2m           \u001b[0m│\u001b[2m          \u001b[0m│\u001b[2m            \u001b[0m│\u001b[2m \u001b[0m\u001b[2mReturn a valid JSON formatted like this, selecting only the      \u001b[0m\u001b[2m \u001b[0m│\n",
       "│\u001b[2m         \u001b[0m│\u001b[2m           \u001b[0m│\u001b[2m          \u001b[0m│\u001b[2m            \u001b[0m│\u001b[2m \u001b[0m\u001b[2mnumber of the option:                                            \u001b[0m\u001b[2m \u001b[0m│\n",
       "│\u001b[2m         \u001b[0m│\u001b[2m           \u001b[0m│\u001b[2m          \u001b[0m│\u001b[2m            \u001b[0m│\u001b[2m \u001b[0m\u001b[2m{\"answer\": <put answer code here>, \"comment\": \"<put explanation  \u001b[0m\u001b[2m \u001b[0m│\n",
       "│\u001b[2m         \u001b[0m│\u001b[2m           \u001b[0m│\u001b[2m          \u001b[0m│\u001b[2m            \u001b[0m│\u001b[2m \u001b[0m\u001b[2mhere>\"}                                                          \u001b[0m\u001b[2m \u001b[0m│\n",
       "│\u001b[2m         \u001b[0m│\u001b[2m           \u001b[0m│\u001b[2m          \u001b[0m│\u001b[2m            \u001b[0m│\u001b[2m \u001b[0m\u001b[2mOnly 1 option may be selected.                                   \u001b[0m\u001b[2m \u001b[0m│\n",
       "├─────────┼───────────┼──────────┼────────────┼───────────────────────────────────────────────────────────────────┤\n",
       "│\u001b[2m \u001b[0m\u001b[2mWest   \u001b[0m\u001b[2m \u001b[0m│\u001b[2m \u001b[0m\u001b[2m['90001']\u001b[0m\u001b[2m \u001b[0m│\u001b[2m \u001b[0m\u001b[2mYes     \u001b[0m\u001b[2m \u001b[0m│\u001b[2m \u001b[0m\u001b[2mNo        \u001b[0m\u001b[2m \u001b[0m│\u001b[2m \u001b[0m\u001b[2mYou are being asked the following question: Is 90001 the zip code\u001b[0m\u001b[2m \u001b[0m│\n",
       "│\u001b[2m         \u001b[0m│\u001b[2m           \u001b[0m│\u001b[2m          \u001b[0m│\u001b[2m            \u001b[0m│\u001b[2m \u001b[0m\u001b[2mwhere you are registered to vote?                                \u001b[0m\u001b[2m \u001b[0m│\n",
       "│\u001b[2m         \u001b[0m│\u001b[2m           \u001b[0m│\u001b[2m          \u001b[0m│\u001b[2m            \u001b[0m│\u001b[2m \u001b[0m\u001b[2mThe options are                                                  \u001b[0m\u001b[2m \u001b[0m│\n",
       "│\u001b[2m         \u001b[0m│\u001b[2m           \u001b[0m│\u001b[2m          \u001b[0m│\u001b[2m            \u001b[0m│\u001b[2m \u001b[0m\u001b[2m                                                                 \u001b[0m\u001b[2m \u001b[0m│\n",
       "│\u001b[2m         \u001b[0m│\u001b[2m           \u001b[0m│\u001b[2m          \u001b[0m│\u001b[2m            \u001b[0m│\u001b[2m \u001b[0m\u001b[2m0: Yes                                                           \u001b[0m\u001b[2m \u001b[0m│\n",
       "│\u001b[2m         \u001b[0m│\u001b[2m           \u001b[0m│\u001b[2m          \u001b[0m│\u001b[2m            \u001b[0m│\u001b[2m \u001b[0m\u001b[2m                                                                 \u001b[0m\u001b[2m \u001b[0m│\n",
       "│\u001b[2m         \u001b[0m│\u001b[2m           \u001b[0m│\u001b[2m          \u001b[0m│\u001b[2m            \u001b[0m│\u001b[2m \u001b[0m\u001b[2m1: No                                                            \u001b[0m\u001b[2m \u001b[0m│\n",
       "│\u001b[2m         \u001b[0m│\u001b[2m           \u001b[0m│\u001b[2m          \u001b[0m│\u001b[2m            \u001b[0m│\u001b[2m \u001b[0m\u001b[2m                                                                 \u001b[0m\u001b[2m \u001b[0m│\n",
       "│\u001b[2m         \u001b[0m│\u001b[2m           \u001b[0m│\u001b[2m          \u001b[0m│\u001b[2m            \u001b[0m│\u001b[2m \u001b[0m\u001b[2mReturn a valid JSON formatted like this, selecting only the      \u001b[0m\u001b[2m \u001b[0m│\n",
       "│\u001b[2m         \u001b[0m│\u001b[2m           \u001b[0m│\u001b[2m          \u001b[0m│\u001b[2m            \u001b[0m│\u001b[2m \u001b[0m\u001b[2mnumber of the option:                                            \u001b[0m\u001b[2m \u001b[0m│\n",
       "│\u001b[2m         \u001b[0m│\u001b[2m           \u001b[0m│\u001b[2m          \u001b[0m│\u001b[2m            \u001b[0m│\u001b[2m \u001b[0m\u001b[2m{\"answer\": <put answer code here>, \"comment\": \"<put explanation  \u001b[0m\u001b[2m \u001b[0m│\n",
       "│\u001b[2m         \u001b[0m│\u001b[2m           \u001b[0m│\u001b[2m          \u001b[0m│\u001b[2m            \u001b[0m│\u001b[2m \u001b[0m\u001b[2mhere>\"}                                                          \u001b[0m\u001b[2m \u001b[0m│\n",
       "│\u001b[2m         \u001b[0m│\u001b[2m           \u001b[0m│\u001b[2m          \u001b[0m│\u001b[2m            \u001b[0m│\u001b[2m \u001b[0m\u001b[2mOnly 1 option may be selected.                                   \u001b[0m\u001b[2m \u001b[0m│\n",
       "├─────────┼───────────┼──────────┼────────────┼───────────────────────────────────────────────────────────────────┤\n",
       "│\u001b[2m \u001b[0m\u001b[2mSouth  \u001b[0m\u001b[2m \u001b[0m│\u001b[2m \u001b[0m\u001b[2m['30309']\u001b[0m\u001b[2m \u001b[0m│\u001b[2m \u001b[0m\u001b[2mYes     \u001b[0m\u001b[2m \u001b[0m│\u001b[2m \u001b[0m\u001b[2mNo        \u001b[0m\u001b[2m \u001b[0m│\u001b[2m \u001b[0m\u001b[2mYou are being asked the following question: Is 30309 the zip code\u001b[0m\u001b[2m \u001b[0m│\n",
       "│\u001b[2m         \u001b[0m│\u001b[2m           \u001b[0m│\u001b[2m          \u001b[0m│\u001b[2m            \u001b[0m│\u001b[2m \u001b[0m\u001b[2mwhere you are registered to vote?                                \u001b[0m\u001b[2m \u001b[0m│\n",
       "│\u001b[2m         \u001b[0m│\u001b[2m           \u001b[0m│\u001b[2m          \u001b[0m│\u001b[2m            \u001b[0m│\u001b[2m \u001b[0m\u001b[2mThe options are                                                  \u001b[0m\u001b[2m \u001b[0m│\n",
       "│\u001b[2m         \u001b[0m│\u001b[2m           \u001b[0m│\u001b[2m          \u001b[0m│\u001b[2m            \u001b[0m│\u001b[2m \u001b[0m\u001b[2m                                                                 \u001b[0m\u001b[2m \u001b[0m│\n",
       "│\u001b[2m         \u001b[0m│\u001b[2m           \u001b[0m│\u001b[2m          \u001b[0m│\u001b[2m            \u001b[0m│\u001b[2m \u001b[0m\u001b[2m0: Yes                                                           \u001b[0m\u001b[2m \u001b[0m│\n",
       "│\u001b[2m         \u001b[0m│\u001b[2m           \u001b[0m│\u001b[2m          \u001b[0m│\u001b[2m            \u001b[0m│\u001b[2m \u001b[0m\u001b[2m                                                                 \u001b[0m\u001b[2m \u001b[0m│\n",
       "│\u001b[2m         \u001b[0m│\u001b[2m           \u001b[0m│\u001b[2m          \u001b[0m│\u001b[2m            \u001b[0m│\u001b[2m \u001b[0m\u001b[2m1: No                                                            \u001b[0m\u001b[2m \u001b[0m│\n",
       "│\u001b[2m         \u001b[0m│\u001b[2m           \u001b[0m│\u001b[2m          \u001b[0m│\u001b[2m            \u001b[0m│\u001b[2m \u001b[0m\u001b[2m                                                                 \u001b[0m\u001b[2m \u001b[0m│\n",
       "│\u001b[2m         \u001b[0m│\u001b[2m           \u001b[0m│\u001b[2m          \u001b[0m│\u001b[2m            \u001b[0m│\u001b[2m \u001b[0m\u001b[2mReturn a valid JSON formatted like this, selecting only the      \u001b[0m\u001b[2m \u001b[0m│\n",
       "│\u001b[2m         \u001b[0m│\u001b[2m           \u001b[0m│\u001b[2m          \u001b[0m│\u001b[2m            \u001b[0m│\u001b[2m \u001b[0m\u001b[2mnumber of the option:                                            \u001b[0m\u001b[2m \u001b[0m│\n",
       "│\u001b[2m         \u001b[0m│\u001b[2m           \u001b[0m│\u001b[2m          \u001b[0m│\u001b[2m            \u001b[0m│\u001b[2m \u001b[0m\u001b[2m{\"answer\": <put answer code here>, \"comment\": \"<put explanation  \u001b[0m\u001b[2m \u001b[0m│\n",
       "│\u001b[2m         \u001b[0m│\u001b[2m           \u001b[0m│\u001b[2m          \u001b[0m│\u001b[2m            \u001b[0m│\u001b[2m \u001b[0m\u001b[2mhere>\"}                                                          \u001b[0m\u001b[2m \u001b[0m│\n",
       "│\u001b[2m         \u001b[0m│\u001b[2m           \u001b[0m│\u001b[2m          \u001b[0m│\u001b[2m            \u001b[0m│\u001b[2m \u001b[0m\u001b[2mOnly 1 option may be selected.                                   \u001b[0m\u001b[2m \u001b[0m│\n",
       "└─────────┴───────────┴──────────┴────────────┴───────────────────────────────────────────────────────────────────┘\n"
      ]
     },
     "metadata": {},
     "output_type": "display_data"
    }
   ],
   "source": [
    "from edsl import QuestionMultipleChoice, QuestionList, QuestionYesNo, Survey\n",
    "\n",
    "# From the CES pre-election questionnaire\n",
    "q_region = QuestionMultipleChoice(\n",
    "    question_name=\"region\",\n",
    "    question_text=\"In which census region do you live?\",\n",
    "    question_options=[\"Northeast\", \"Midwest\", \"South\", \"West\"]\n",
    ")\n",
    "\n",
    "q_inputzip = QuestionList(\n",
    "    question_name = \"inputzip\",\n",
    "    question_text = \"So that we can ask you about the news and events in your area, in what zip code do you currently reside?\",\n",
    "    max_list_items = 1\n",
    ")\n",
    "\n",
    "q_votereg = QuestionMultipleChoice(\n",
    "    question_name = \"votereg\",\n",
    "    question_text = \"Are you registered to vote?\",\n",
    "    question_options = [\"Yes\", \"No\", \"Don't know\"]\n",
    ")\n",
    "\n",
    "q_votereg_f = QuestionYesNo(\n",
    "    question_name = \"votereg_f\",\n",
    "    question_text = \"Is {{ inputzip.answer[0] }} the zip code where you are registered to vote?\"\n",
    ")\n",
    "\n",
    "survey = (Survey([q_region, q_inputzip, q_votereg, q_votereg_f])\n",
    "          .add_targeted_memory(q_inputzip, q_region)\n",
    "          .add_stop_rule(q_votereg, \"votereg != 'Yes'\")\n",
    "         )\n",
    "\n",
    "results = survey.by(agents).run()\n",
    "\n",
    "results.select(\"region\", \"inputzip\", \"votereg\", \"votereg_f_user_prompt\", \"votereg_f\").print(format=\"rich\")"
   ]
  },
  {
   "cell_type": "markdown",
   "id": "03a340c8-0ceb-4fa5-a0b5-45576fe1d6c6",
   "metadata": {},
   "source": [
    "See more details on [all survey methods](https://docs.expectedparrot.com/en/latest/surveys.html)."
   ]
  },
  {
   "cell_type": "markdown",
   "id": "62e2a150-e2d2-4f5d-af30-5949d4beaab8",
   "metadata": {},
   "source": [
    "### Parameterizing questions\n",
    "We can create variations of questions using `Scenario` objects for content that we want to add to questions.\n",
    "This allows us to efficiently administer multiple versions of questions at once.\n",
    "We start by using a `{{ parameter }}` in a question:"
   ]
  },
  {
   "cell_type": "code",
   "execution_count": 27,
   "id": "2a3215e1-c2c7-41b4-b0fa-eb2cc50ade07",
   "metadata": {},
   "outputs": [],
   "source": [
    "from edsl import QuestionMultipleChoice, Survey\n",
    "\n",
    "# Modified from the CES pre-election questionnaire\n",
    "q_votereg = QuestionMultipleChoice(\n",
    "    question_name = \"votereg\",\n",
    "    question_text = \"Are you {{ status }}?\",\n",
    "    question_options = [\"Yes\", \"No\", \"Don't know\"]\n",
    ")\n",
    "\n",
    "survey = Survey([q_votereg])"
   ]
  },
  {
   "cell_type": "markdown",
   "id": "3687a925-0b27-42fa-af5d-287e299c2e6a",
   "metadata": {},
   "source": [
    "Next we create a `Scenario` for each text that we want to insert in the question:"
   ]
  },
  {
   "cell_type": "code",
   "execution_count": 28,
   "id": "1b3d02e0-64bf-4439-867c-ed183197ce2c",
   "metadata": {},
   "outputs": [],
   "source": [
    "from edsl import Scenario, ScenarioList\n",
    "\n",
    "statuses = [\"registered to vote\", # original CES question \n",
    "            \"enrolled in school\",\n",
    "            \"employed full- or part-time\",\n",
    "            \"married or in a domestic partnership\", \n",
    "            \"licensed to drive\"\n",
    "           ]\n",
    "\n",
    "scenarios = ScenarioList(\n",
    "    Scenario({\"status\":s}) for s in statuses\n",
    ")"
   ]
  },
  {
   "cell_type": "code",
   "execution_count": 29,
   "id": "a33be772-2a51-4175-825d-ed282119095e",
   "metadata": {},
   "outputs": [],
   "source": [
    "results = survey.by(scenarios).by(agents).run()"
   ]
  },
  {
   "cell_type": "code",
   "execution_count": 30,
   "id": "1f1abf16-3bb1-4d3d-9f22-458dde3b3b14",
   "metadata": {},
   "outputs": [
    {
     "data": {
      "text/html": [
       "<pre style=\"white-space:pre;overflow-x:auto;line-height:normal;font-family:Menlo,'DejaVu Sans Mono',consolas,'Courier New',monospace\">┏━━━━━━━━━━━━━┳━━━━━━━━━━━━━━━━━━━━━┳━━━━━━━━┳━━━━━━━━━━━━━━━━━━━━━━━━━━━━━━━━━━━━━━┳━━━━━━━━━━┓\n",
       "┃<span style=\"color: #800080; text-decoration-color: #800080; font-weight: bold\"> agent       </span>┃<span style=\"color: #800080; text-decoration-color: #800080; font-weight: bold\"> agent               </span>┃<span style=\"color: #800080; text-decoration-color: #800080; font-weight: bold\"> agent  </span>┃<span style=\"color: #800080; text-decoration-color: #800080; font-weight: bold\"> scenario                             </span>┃<span style=\"color: #800080; text-decoration-color: #800080; font-weight: bold\"> answer   </span>┃\n",
       "┃<span style=\"color: #800080; text-decoration-color: #800080; font-weight: bold\"> .age        </span>┃<span style=\"color: #800080; text-decoration-color: #800080; font-weight: bold\"> .education          </span>┃<span style=\"color: #800080; text-decoration-color: #800080; font-weight: bold\"> .sex   </span>┃<span style=\"color: #800080; text-decoration-color: #800080; font-weight: bold\"> .status                              </span>┃<span style=\"color: #800080; text-decoration-color: #800080; font-weight: bold\"> .votereg </span>┃\n",
       "┡━━━━━━━━━━━━━╇━━━━━━━━━━━━━━━━━━━━━╇━━━━━━━━╇━━━━━━━━━━━━━━━━━━━━━━━━━━━━━━━━━━━━━━╇━━━━━━━━━━┩\n",
       "│<span style=\"color: #7f7f7f; text-decoration-color: #7f7f7f\"> 18-29       </span>│<span style=\"color: #7f7f7f; text-decoration-color: #7f7f7f\"> High school or less </span>│<span style=\"color: #7f7f7f; text-decoration-color: #7f7f7f\"> Female </span>│<span style=\"color: #7f7f7f; text-decoration-color: #7f7f7f\"> employed full- or part-time          </span>│<span style=\"color: #7f7f7f; text-decoration-color: #7f7f7f\"> Yes      </span>│\n",
       "├─────────────┼─────────────────────┼────────┼──────────────────────────────────────┼──────────┤\n",
       "│<span style=\"color: #7f7f7f; text-decoration-color: #7f7f7f\"> 45-64       </span>│<span style=\"color: #7f7f7f; text-decoration-color: #7f7f7f\"> College/graduate    </span>│<span style=\"color: #7f7f7f; text-decoration-color: #7f7f7f\"> Female </span>│<span style=\"color: #7f7f7f; text-decoration-color: #7f7f7f\"> employed full- or part-time          </span>│<span style=\"color: #7f7f7f; text-decoration-color: #7f7f7f\"> No       </span>│\n",
       "├─────────────┼─────────────────────┼────────┼──────────────────────────────────────┼──────────┤\n",
       "│<span style=\"color: #7f7f7f; text-decoration-color: #7f7f7f\"> 65 and over </span>│<span style=\"color: #7f7f7f; text-decoration-color: #7f7f7f\"> College/graduate    </span>│<span style=\"color: #7f7f7f; text-decoration-color: #7f7f7f\"> Female </span>│<span style=\"color: #7f7f7f; text-decoration-color: #7f7f7f\"> employed full- or part-time          </span>│<span style=\"color: #7f7f7f; text-decoration-color: #7f7f7f\"> No       </span>│\n",
       "├─────────────┼─────────────────────┼────────┼──────────────────────────────────────┼──────────┤\n",
       "│<span style=\"color: #7f7f7f; text-decoration-color: #7f7f7f\"> 18-29       </span>│<span style=\"color: #7f7f7f; text-decoration-color: #7f7f7f\"> High school or less </span>│<span style=\"color: #7f7f7f; text-decoration-color: #7f7f7f\"> Female </span>│<span style=\"color: #7f7f7f; text-decoration-color: #7f7f7f\"> enrolled in school                   </span>│<span style=\"color: #7f7f7f; text-decoration-color: #7f7f7f\"> No       </span>│\n",
       "├─────────────┼─────────────────────┼────────┼──────────────────────────────────────┼──────────┤\n",
       "│<span style=\"color: #7f7f7f; text-decoration-color: #7f7f7f\"> 45-64       </span>│<span style=\"color: #7f7f7f; text-decoration-color: #7f7f7f\"> College/graduate    </span>│<span style=\"color: #7f7f7f; text-decoration-color: #7f7f7f\"> Female </span>│<span style=\"color: #7f7f7f; text-decoration-color: #7f7f7f\"> enrolled in school                   </span>│<span style=\"color: #7f7f7f; text-decoration-color: #7f7f7f\"> No       </span>│\n",
       "├─────────────┼─────────────────────┼────────┼──────────────────────────────────────┼──────────┤\n",
       "│<span style=\"color: #7f7f7f; text-decoration-color: #7f7f7f\"> 65 and over </span>│<span style=\"color: #7f7f7f; text-decoration-color: #7f7f7f\"> College/graduate    </span>│<span style=\"color: #7f7f7f; text-decoration-color: #7f7f7f\"> Female </span>│<span style=\"color: #7f7f7f; text-decoration-color: #7f7f7f\"> enrolled in school                   </span>│<span style=\"color: #7f7f7f; text-decoration-color: #7f7f7f\"> No       </span>│\n",
       "├─────────────┼─────────────────────┼────────┼──────────────────────────────────────┼──────────┤\n",
       "│<span style=\"color: #7f7f7f; text-decoration-color: #7f7f7f\"> 18-29       </span>│<span style=\"color: #7f7f7f; text-decoration-color: #7f7f7f\"> High school or less </span>│<span style=\"color: #7f7f7f; text-decoration-color: #7f7f7f\"> Female </span>│<span style=\"color: #7f7f7f; text-decoration-color: #7f7f7f\"> licensed to drive                    </span>│<span style=\"color: #7f7f7f; text-decoration-color: #7f7f7f\"> Yes      </span>│\n",
       "├─────────────┼─────────────────────┼────────┼──────────────────────────────────────┼──────────┤\n",
       "│<span style=\"color: #7f7f7f; text-decoration-color: #7f7f7f\"> 45-64       </span>│<span style=\"color: #7f7f7f; text-decoration-color: #7f7f7f\"> College/graduate    </span>│<span style=\"color: #7f7f7f; text-decoration-color: #7f7f7f\"> Female </span>│<span style=\"color: #7f7f7f; text-decoration-color: #7f7f7f\"> licensed to drive                    </span>│<span style=\"color: #7f7f7f; text-decoration-color: #7f7f7f\"> Yes      </span>│\n",
       "├─────────────┼─────────────────────┼────────┼──────────────────────────────────────┼──────────┤\n",
       "│<span style=\"color: #7f7f7f; text-decoration-color: #7f7f7f\"> 65 and over </span>│<span style=\"color: #7f7f7f; text-decoration-color: #7f7f7f\"> College/graduate    </span>│<span style=\"color: #7f7f7f; text-decoration-color: #7f7f7f\"> Female </span>│<span style=\"color: #7f7f7f; text-decoration-color: #7f7f7f\"> licensed to drive                    </span>│<span style=\"color: #7f7f7f; text-decoration-color: #7f7f7f\"> Yes      </span>│\n",
       "├─────────────┼─────────────────────┼────────┼──────────────────────────────────────┼──────────┤\n",
       "│<span style=\"color: #7f7f7f; text-decoration-color: #7f7f7f\"> 18-29       </span>│<span style=\"color: #7f7f7f; text-decoration-color: #7f7f7f\"> High school or less </span>│<span style=\"color: #7f7f7f; text-decoration-color: #7f7f7f\"> Female </span>│<span style=\"color: #7f7f7f; text-decoration-color: #7f7f7f\"> married or in a domestic partnership </span>│<span style=\"color: #7f7f7f; text-decoration-color: #7f7f7f\"> No       </span>│\n",
       "├─────────────┼─────────────────────┼────────┼──────────────────────────────────────┼──────────┤\n",
       "│<span style=\"color: #7f7f7f; text-decoration-color: #7f7f7f\"> 45-64       </span>│<span style=\"color: #7f7f7f; text-decoration-color: #7f7f7f\"> College/graduate    </span>│<span style=\"color: #7f7f7f; text-decoration-color: #7f7f7f\"> Female </span>│<span style=\"color: #7f7f7f; text-decoration-color: #7f7f7f\"> married or in a domestic partnership </span>│<span style=\"color: #7f7f7f; text-decoration-color: #7f7f7f\"> No       </span>│\n",
       "├─────────────┼─────────────────────┼────────┼──────────────────────────────────────┼──────────┤\n",
       "│<span style=\"color: #7f7f7f; text-decoration-color: #7f7f7f\"> 65 and over </span>│<span style=\"color: #7f7f7f; text-decoration-color: #7f7f7f\"> College/graduate    </span>│<span style=\"color: #7f7f7f; text-decoration-color: #7f7f7f\"> Female </span>│<span style=\"color: #7f7f7f; text-decoration-color: #7f7f7f\"> married or in a domestic partnership </span>│<span style=\"color: #7f7f7f; text-decoration-color: #7f7f7f\"> Yes      </span>│\n",
       "├─────────────┼─────────────────────┼────────┼──────────────────────────────────────┼──────────┤\n",
       "│<span style=\"color: #7f7f7f; text-decoration-color: #7f7f7f\"> 18-29       </span>│<span style=\"color: #7f7f7f; text-decoration-color: #7f7f7f\"> High school or less </span>│<span style=\"color: #7f7f7f; text-decoration-color: #7f7f7f\"> Female </span>│<span style=\"color: #7f7f7f; text-decoration-color: #7f7f7f\"> registered to vote                   </span>│<span style=\"color: #7f7f7f; text-decoration-color: #7f7f7f\"> Yes      </span>│\n",
       "├─────────────┼─────────────────────┼────────┼──────────────────────────────────────┼──────────┤\n",
       "│<span style=\"color: #7f7f7f; text-decoration-color: #7f7f7f\"> 45-64       </span>│<span style=\"color: #7f7f7f; text-decoration-color: #7f7f7f\"> College/graduate    </span>│<span style=\"color: #7f7f7f; text-decoration-color: #7f7f7f\"> Female </span>│<span style=\"color: #7f7f7f; text-decoration-color: #7f7f7f\"> registered to vote                   </span>│<span style=\"color: #7f7f7f; text-decoration-color: #7f7f7f\"> Yes      </span>│\n",
       "├─────────────┼─────────────────────┼────────┼──────────────────────────────────────┼──────────┤\n",
       "│<span style=\"color: #7f7f7f; text-decoration-color: #7f7f7f\"> 65 and over </span>│<span style=\"color: #7f7f7f; text-decoration-color: #7f7f7f\"> College/graduate    </span>│<span style=\"color: #7f7f7f; text-decoration-color: #7f7f7f\"> Female </span>│<span style=\"color: #7f7f7f; text-decoration-color: #7f7f7f\"> registered to vote                   </span>│<span style=\"color: #7f7f7f; text-decoration-color: #7f7f7f\"> Yes      </span>│\n",
       "└─────────────┴─────────────────────┴────────┴──────────────────────────────────────┴──────────┘\n",
       "</pre>\n"
      ],
      "text/plain": [
       "┏━━━━━━━━━━━━━┳━━━━━━━━━━━━━━━━━━━━━┳━━━━━━━━┳━━━━━━━━━━━━━━━━━━━━━━━━━━━━━━━━━━━━━━┳━━━━━━━━━━┓\n",
       "┃\u001b[1;35m \u001b[0m\u001b[1;35magent      \u001b[0m\u001b[1;35m \u001b[0m┃\u001b[1;35m \u001b[0m\u001b[1;35magent              \u001b[0m\u001b[1;35m \u001b[0m┃\u001b[1;35m \u001b[0m\u001b[1;35magent \u001b[0m\u001b[1;35m \u001b[0m┃\u001b[1;35m \u001b[0m\u001b[1;35mscenario                            \u001b[0m\u001b[1;35m \u001b[0m┃\u001b[1;35m \u001b[0m\u001b[1;35manswer  \u001b[0m\u001b[1;35m \u001b[0m┃\n",
       "┃\u001b[1;35m \u001b[0m\u001b[1;35m.age       \u001b[0m\u001b[1;35m \u001b[0m┃\u001b[1;35m \u001b[0m\u001b[1;35m.education         \u001b[0m\u001b[1;35m \u001b[0m┃\u001b[1;35m \u001b[0m\u001b[1;35m.sex  \u001b[0m\u001b[1;35m \u001b[0m┃\u001b[1;35m \u001b[0m\u001b[1;35m.status                             \u001b[0m\u001b[1;35m \u001b[0m┃\u001b[1;35m \u001b[0m\u001b[1;35m.votereg\u001b[0m\u001b[1;35m \u001b[0m┃\n",
       "┡━━━━━━━━━━━━━╇━━━━━━━━━━━━━━━━━━━━━╇━━━━━━━━╇━━━━━━━━━━━━━━━━━━━━━━━━━━━━━━━━━━━━━━╇━━━━━━━━━━┩\n",
       "│\u001b[2m \u001b[0m\u001b[2m18-29      \u001b[0m\u001b[2m \u001b[0m│\u001b[2m \u001b[0m\u001b[2mHigh school or less\u001b[0m\u001b[2m \u001b[0m│\u001b[2m \u001b[0m\u001b[2mFemale\u001b[0m\u001b[2m \u001b[0m│\u001b[2m \u001b[0m\u001b[2memployed full- or part-time         \u001b[0m\u001b[2m \u001b[0m│\u001b[2m \u001b[0m\u001b[2mYes     \u001b[0m\u001b[2m \u001b[0m│\n",
       "├─────────────┼─────────────────────┼────────┼──────────────────────────────────────┼──────────┤\n",
       "│\u001b[2m \u001b[0m\u001b[2m45-64      \u001b[0m\u001b[2m \u001b[0m│\u001b[2m \u001b[0m\u001b[2mCollege/graduate   \u001b[0m\u001b[2m \u001b[0m│\u001b[2m \u001b[0m\u001b[2mFemale\u001b[0m\u001b[2m \u001b[0m│\u001b[2m \u001b[0m\u001b[2memployed full- or part-time         \u001b[0m\u001b[2m \u001b[0m│\u001b[2m \u001b[0m\u001b[2mNo      \u001b[0m\u001b[2m \u001b[0m│\n",
       "├─────────────┼─────────────────────┼────────┼──────────────────────────────────────┼──────────┤\n",
       "│\u001b[2m \u001b[0m\u001b[2m65 and over\u001b[0m\u001b[2m \u001b[0m│\u001b[2m \u001b[0m\u001b[2mCollege/graduate   \u001b[0m\u001b[2m \u001b[0m│\u001b[2m \u001b[0m\u001b[2mFemale\u001b[0m\u001b[2m \u001b[0m│\u001b[2m \u001b[0m\u001b[2memployed full- or part-time         \u001b[0m\u001b[2m \u001b[0m│\u001b[2m \u001b[0m\u001b[2mNo      \u001b[0m\u001b[2m \u001b[0m│\n",
       "├─────────────┼─────────────────────┼────────┼──────────────────────────────────────┼──────────┤\n",
       "│\u001b[2m \u001b[0m\u001b[2m18-29      \u001b[0m\u001b[2m \u001b[0m│\u001b[2m \u001b[0m\u001b[2mHigh school or less\u001b[0m\u001b[2m \u001b[0m│\u001b[2m \u001b[0m\u001b[2mFemale\u001b[0m\u001b[2m \u001b[0m│\u001b[2m \u001b[0m\u001b[2menrolled in school                  \u001b[0m\u001b[2m \u001b[0m│\u001b[2m \u001b[0m\u001b[2mNo      \u001b[0m\u001b[2m \u001b[0m│\n",
       "├─────────────┼─────────────────────┼────────┼──────────────────────────────────────┼──────────┤\n",
       "│\u001b[2m \u001b[0m\u001b[2m45-64      \u001b[0m\u001b[2m \u001b[0m│\u001b[2m \u001b[0m\u001b[2mCollege/graduate   \u001b[0m\u001b[2m \u001b[0m│\u001b[2m \u001b[0m\u001b[2mFemale\u001b[0m\u001b[2m \u001b[0m│\u001b[2m \u001b[0m\u001b[2menrolled in school                  \u001b[0m\u001b[2m \u001b[0m│\u001b[2m \u001b[0m\u001b[2mNo      \u001b[0m\u001b[2m \u001b[0m│\n",
       "├─────────────┼─────────────────────┼────────┼──────────────────────────────────────┼──────────┤\n",
       "│\u001b[2m \u001b[0m\u001b[2m65 and over\u001b[0m\u001b[2m \u001b[0m│\u001b[2m \u001b[0m\u001b[2mCollege/graduate   \u001b[0m\u001b[2m \u001b[0m│\u001b[2m \u001b[0m\u001b[2mFemale\u001b[0m\u001b[2m \u001b[0m│\u001b[2m \u001b[0m\u001b[2menrolled in school                  \u001b[0m\u001b[2m \u001b[0m│\u001b[2m \u001b[0m\u001b[2mNo      \u001b[0m\u001b[2m \u001b[0m│\n",
       "├─────────────┼─────────────────────┼────────┼──────────────────────────────────────┼──────────┤\n",
       "│\u001b[2m \u001b[0m\u001b[2m18-29      \u001b[0m\u001b[2m \u001b[0m│\u001b[2m \u001b[0m\u001b[2mHigh school or less\u001b[0m\u001b[2m \u001b[0m│\u001b[2m \u001b[0m\u001b[2mFemale\u001b[0m\u001b[2m \u001b[0m│\u001b[2m \u001b[0m\u001b[2mlicensed to drive                   \u001b[0m\u001b[2m \u001b[0m│\u001b[2m \u001b[0m\u001b[2mYes     \u001b[0m\u001b[2m \u001b[0m│\n",
       "├─────────────┼─────────────────────┼────────┼──────────────────────────────────────┼──────────┤\n",
       "│\u001b[2m \u001b[0m\u001b[2m45-64      \u001b[0m\u001b[2m \u001b[0m│\u001b[2m \u001b[0m\u001b[2mCollege/graduate   \u001b[0m\u001b[2m \u001b[0m│\u001b[2m \u001b[0m\u001b[2mFemale\u001b[0m\u001b[2m \u001b[0m│\u001b[2m \u001b[0m\u001b[2mlicensed to drive                   \u001b[0m\u001b[2m \u001b[0m│\u001b[2m \u001b[0m\u001b[2mYes     \u001b[0m\u001b[2m \u001b[0m│\n",
       "├─────────────┼─────────────────────┼────────┼──────────────────────────────────────┼──────────┤\n",
       "│\u001b[2m \u001b[0m\u001b[2m65 and over\u001b[0m\u001b[2m \u001b[0m│\u001b[2m \u001b[0m\u001b[2mCollege/graduate   \u001b[0m\u001b[2m \u001b[0m│\u001b[2m \u001b[0m\u001b[2mFemale\u001b[0m\u001b[2m \u001b[0m│\u001b[2m \u001b[0m\u001b[2mlicensed to drive                   \u001b[0m\u001b[2m \u001b[0m│\u001b[2m \u001b[0m\u001b[2mYes     \u001b[0m\u001b[2m \u001b[0m│\n",
       "├─────────────┼─────────────────────┼────────┼──────────────────────────────────────┼──────────┤\n",
       "│\u001b[2m \u001b[0m\u001b[2m18-29      \u001b[0m\u001b[2m \u001b[0m│\u001b[2m \u001b[0m\u001b[2mHigh school or less\u001b[0m\u001b[2m \u001b[0m│\u001b[2m \u001b[0m\u001b[2mFemale\u001b[0m\u001b[2m \u001b[0m│\u001b[2m \u001b[0m\u001b[2mmarried or in a domestic partnership\u001b[0m\u001b[2m \u001b[0m│\u001b[2m \u001b[0m\u001b[2mNo      \u001b[0m\u001b[2m \u001b[0m│\n",
       "├─────────────┼─────────────────────┼────────┼──────────────────────────────────────┼──────────┤\n",
       "│\u001b[2m \u001b[0m\u001b[2m45-64      \u001b[0m\u001b[2m \u001b[0m│\u001b[2m \u001b[0m\u001b[2mCollege/graduate   \u001b[0m\u001b[2m \u001b[0m│\u001b[2m \u001b[0m\u001b[2mFemale\u001b[0m\u001b[2m \u001b[0m│\u001b[2m \u001b[0m\u001b[2mmarried or in a domestic partnership\u001b[0m\u001b[2m \u001b[0m│\u001b[2m \u001b[0m\u001b[2mNo      \u001b[0m\u001b[2m \u001b[0m│\n",
       "├─────────────┼─────────────────────┼────────┼──────────────────────────────────────┼──────────┤\n",
       "│\u001b[2m \u001b[0m\u001b[2m65 and over\u001b[0m\u001b[2m \u001b[0m│\u001b[2m \u001b[0m\u001b[2mCollege/graduate   \u001b[0m\u001b[2m \u001b[0m│\u001b[2m \u001b[0m\u001b[2mFemale\u001b[0m\u001b[2m \u001b[0m│\u001b[2m \u001b[0m\u001b[2mmarried or in a domestic partnership\u001b[0m\u001b[2m \u001b[0m│\u001b[2m \u001b[0m\u001b[2mYes     \u001b[0m\u001b[2m \u001b[0m│\n",
       "├─────────────┼─────────────────────┼────────┼──────────────────────────────────────┼──────────┤\n",
       "│\u001b[2m \u001b[0m\u001b[2m18-29      \u001b[0m\u001b[2m \u001b[0m│\u001b[2m \u001b[0m\u001b[2mHigh school or less\u001b[0m\u001b[2m \u001b[0m│\u001b[2m \u001b[0m\u001b[2mFemale\u001b[0m\u001b[2m \u001b[0m│\u001b[2m \u001b[0m\u001b[2mregistered to vote                  \u001b[0m\u001b[2m \u001b[0m│\u001b[2m \u001b[0m\u001b[2mYes     \u001b[0m\u001b[2m \u001b[0m│\n",
       "├─────────────┼─────────────────────┼────────┼──────────────────────────────────────┼──────────┤\n",
       "│\u001b[2m \u001b[0m\u001b[2m45-64      \u001b[0m\u001b[2m \u001b[0m│\u001b[2m \u001b[0m\u001b[2mCollege/graduate   \u001b[0m\u001b[2m \u001b[0m│\u001b[2m \u001b[0m\u001b[2mFemale\u001b[0m\u001b[2m \u001b[0m│\u001b[2m \u001b[0m\u001b[2mregistered to vote                  \u001b[0m\u001b[2m \u001b[0m│\u001b[2m \u001b[0m\u001b[2mYes     \u001b[0m\u001b[2m \u001b[0m│\n",
       "├─────────────┼─────────────────────┼────────┼──────────────────────────────────────┼──────────┤\n",
       "│\u001b[2m \u001b[0m\u001b[2m65 and over\u001b[0m\u001b[2m \u001b[0m│\u001b[2m \u001b[0m\u001b[2mCollege/graduate   \u001b[0m\u001b[2m \u001b[0m│\u001b[2m \u001b[0m\u001b[2mFemale\u001b[0m\u001b[2m \u001b[0m│\u001b[2m \u001b[0m\u001b[2mregistered to vote                  \u001b[0m\u001b[2m \u001b[0m│\u001b[2m \u001b[0m\u001b[2mYes     \u001b[0m\u001b[2m \u001b[0m│\n",
       "└─────────────┴─────────────────────┴────────┴──────────────────────────────────────┴──────────┘\n"
      ]
     },
     "metadata": {},
     "output_type": "display_data"
    }
   ],
   "source": [
    "(results\n",
    " .sort_by(\"status\", \"age\")\n",
    " .select(\"age\", \"education\", \"sex\", \"status\", \"votereg\")\n",
    " .print(format=\"rich\")\n",
    ")"
   ]
  },
  {
   "cell_type": "markdown",
   "id": "cfe873dd-5d89-4f4d-9b52-ecf5db74f9b1",
   "metadata": {},
   "source": [
    "### Using the CES responses to create agents\n",
    "See the companion notebooks for complete sets of CES questions reformatted in EDSL and examples of using survey responses to construct agents representing respondents:\n",
    "\n",
    "* [CES questionnaires in EDSL]()\n",
    "* [Using CES responses to construct agents]()"
   ]
  }
 ],
 "metadata": {
  "kernelspec": {
   "display_name": "Python 3 (ipykernel)",
   "language": "python",
   "name": "python3"
  },
  "language_info": {
   "codemirror_mode": {
    "name": "ipython",
    "version": 3
   },
   "file_extension": ".py",
   "mimetype": "text/x-python",
   "name": "python",
   "nbconvert_exporter": "python",
   "pygments_lexer": "ipython3",
   "version": "3.11.7"
  }
 },
 "nbformat": 4,
 "nbformat_minor": 5
}
