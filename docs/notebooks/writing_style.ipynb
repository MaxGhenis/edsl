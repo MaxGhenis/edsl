{
 "cells": [
  {
   "cell_type": "markdown",
   "id": "c57a4e42-5866-4a29-9f93-5712c1a3892a",
   "metadata": {},
   "source": [
    "# Stylized content\n",
    "This notebook provides a quick example of how to use [EDSL](https://docs.expectedparrot.com/) to prompt an AI agent to immitate a writing style in drafting some content. \n",
    "\n",
    "EDSL is an open-source library for simulating surveys and experiements with language models. Please see our [documentation page](https://docs.expectedparrot.com/) for tips and tutorials on getting started.\n",
    "*Thanks [Lori Berenberg for inspiring this demo](https://x.com/loriberenberg/status/1794012658271654103)!*"
   ]
  },
  {
   "cell_type": "markdown",
   "id": "a21ba173-07ba-4427-975d-f05304b15dab",
   "metadata": {},
   "source": [
    "## Constructing a question\n",
    "EDSL comes with a variety of question types that we can choose from based on the form of the response that we want to get back from the model (multiple choice, free text, linear scale, etc.). Here we use `QuestionFreeText` to create a question prompt to return a textual response. We compose the question with a writing sample, and then use `Scenario` objects to run the question for any different topics that we want the agent to write about. This allows us to run all the versions of the question at once:"
   ]
  },
  {
   "cell_type": "code",
   "execution_count": 1,
   "id": "4cdeac1d-b5b0-4108-9315-6ed747891999",
   "metadata": {},
   "outputs": [],
   "source": [
    "# pip install edsl"
   ]
  },
  {
   "cell_type": "code",
   "execution_count": 2,
   "id": "0bf0d868-2e58-4fdc-9515-0f0cf359ea52",
   "metadata": {},
   "outputs": [],
   "source": [
    "from edsl.questions import QuestionFreeText\n",
    "from edsl import Scenario\n",
    "\n",
    "my_example = \"\"\"Arrr, matey, let me tell ye about bein' 45! 'Tis a grand age, like a fine rum \n",
    "that's been aged to perfection in the hold of an ol' ship. Ye've sailed through the squalls \n",
    "and storms of life, and now ye're ridin' the calm seas with the wind at yer back. Yer beard \n",
    "may be a bit grayer, and yer joints creak like an old wooden deck, but ye've got the wisdom \n",
    "of the seven seas and the tales to prove it! Ye've charted yer course, found yer treasure, \n",
    "and now ye're ready for new horizons and uncharted waters. So hoist the sails and set a course \n",
    "for adventure, because at 45, the horizon is as bright as a golden sunset over the open ocean. \n",
    "There's a whole world out there still to explore, filled with new treasures and mysteries \n",
    "awaitin' a bold soul like yerself. Aye, it's a fine time to be alive, with the world at yer \n",
    "feet, a hearty 'yo ho ho' in yer heart, and a spirit ready for new explorations!\n",
    "\"\"\"\n",
    "\n",
    "q = QuestionFreeText(\n",
    "    question_name = \"my_style\",\n",
    "    question_text = \"Here's an example of my writing style: \" + my_example +\n",
    "    \"Draft a paragraph about {{ topic }} in my style.\"\n",
    ")\n",
    "\n",
    "topics = [Scenario({\"topic\":t}) for t in [\"parrots\", \"holiday weekends\", \"fun with language models\"]]"
   ]
  },
  {
   "cell_type": "markdown",
   "id": "146888b5-fc10-4d25-8162-6821469e9764",
   "metadata": {},
   "source": [
    "## Generating content\n",
    "We simulate responses by adding the scenarios to the question and running it. This generates a `Results` object that we can readily analyze (learn more about [built-in methods for analyzing results](https://docs.expectedparrot.com/en/latest/results.html)):"
   ]
  },
  {
   "cell_type": "code",
   "execution_count": 3,
   "id": "11a1d562-e1a5-4fbe-a97d-647307023d34",
   "metadata": {},
   "outputs": [],
   "source": [
    "results = q.by(topics).run()"
   ]
  },
  {
   "cell_type": "markdown",
   "id": "0ec13041-ce56-4f05-884c-566c59e546e2",
   "metadata": {},
   "source": [
    "Here we select the topics and responses and print them in a table:"
   ]
  },
  {
   "cell_type": "code",
   "execution_count": 4,
   "id": "fa64d9d6-8821-4ec9-b771-3b0b920bee9d",
   "metadata": {},
   "outputs": [
    {
     "data": {
      "text/html": [
       "<pre style=\"white-space:pre;overflow-x:auto;line-height:normal;font-family:Menlo,'DejaVu Sans Mono',consolas,'Courier New',monospace\">┏━━━━━━━━━━━━━━━━━━━━━━━━━━┳━━━━━━━━━━━━━━━━━━━━━━━━━━━━━━━━━━━━━━━━━━━━━━━━━━━━━━━━━━━━━━━━━━━━━━━━━━━━━━━━━━━━━━┓\n",
       "┃<span style=\"color: #800080; text-decoration-color: #800080; font-weight: bold\"> scenario                 </span>┃<span style=\"color: #800080; text-decoration-color: #800080; font-weight: bold\"> answer                                                                               </span>┃\n",
       "┃<span style=\"color: #800080; text-decoration-color: #800080; font-weight: bold\"> .topic                   </span>┃<span style=\"color: #800080; text-decoration-color: #800080; font-weight: bold\"> .my_style                                                                            </span>┃\n",
       "┡━━━━━━━━━━━━━━━━━━━━━━━━━━╇━━━━━━━━━━━━━━━━━━━━━━━━━━━━━━━━━━━━━━━━━━━━━━━━━━━━━━━━━━━━━━━━━━━━━━━━━━━━━━━━━━━━━━┩\n",
       "│<span style=\"color: #7f7f7f; text-decoration-color: #7f7f7f\"> parrots                  </span>│<span style=\"color: #7f7f7f; text-decoration-color: #7f7f7f\"> Arrr, gather 'round, ye salty sea dogs, and I'll spin ye a yarn about the most       </span>│\n",
       "│<span style=\"color: #7f7f7f; text-decoration-color: #7f7f7f\">                          </span>│<span style=\"color: #7f7f7f; text-decoration-color: #7f7f7f\"> colorful scallywags to ever set wing upon the briny deep – the parrots! Aye, these   </span>│\n",
       "│<span style=\"color: #7f7f7f; text-decoration-color: #7f7f7f\">                          </span>│<span style=\"color: #7f7f7f; text-decoration-color: #7f7f7f\"> be the feathered jewels of the tropics, squawkin' with the voice of a bo'sun and as  </span>│\n",
       "│<span style=\"color: #7f7f7f; text-decoration-color: #7f7f7f\">                          </span>│<span style=\"color: #7f7f7f; text-decoration-color: #7f7f7f\"> vibrant as a treasure chest overflowin' with doubloons. They be the loyal companions </span>│\n",
       "│<span style=\"color: #7f7f7f; text-decoration-color: #7f7f7f\">                          </span>│<span style=\"color: #7f7f7f; text-decoration-color: #7f7f7f\"> of many a pirate, sharin' tales and secrets like no other creature on the seven      </span>│\n",
       "│<span style=\"color: #7f7f7f; text-decoration-color: #7f7f7f\">                          </span>│<span style=\"color: #7f7f7f; text-decoration-color: #7f7f7f\"> seas. With plumage as brilliant as the Jolly Roger in the noonday sun, and eyes      </span>│\n",
       "│<span style=\"color: #7f7f7f; text-decoration-color: #7f7f7f\">                          </span>│<span style=\"color: #7f7f7f; text-decoration-color: #7f7f7f\"> sparklin' with the mischief of a thousand rogues, these be the true free spirits of  </span>│\n",
       "│<span style=\"color: #7f7f7f; text-decoration-color: #7f7f7f\">                          </span>│<span style=\"color: #7f7f7f; text-decoration-color: #7f7f7f\"> the skies. They navigate the trade winds with the ease of an old salt, and their     </span>│\n",
       "│<span style=\"color: #7f7f7f; text-decoration-color: #7f7f7f\">                          </span>│<span style=\"color: #7f7f7f; text-decoration-color: #7f7f7f\"> raucous calls be like the siren songs of the islands, beckonin' ye to shores untold. </span>│\n",
       "│<span style=\"color: #7f7f7f; text-decoration-color: #7f7f7f\">                          </span>│<span style=\"color: #7f7f7f; text-decoration-color: #7f7f7f\"> So, if ye ever find yerself a fine feathered mate, cherish the bond, for a parrot    </span>│\n",
       "│<span style=\"color: #7f7f7f; text-decoration-color: #7f7f7f\">                          </span>│<span style=\"color: #7f7f7f; text-decoration-color: #7f7f7f\"> ain't just a bird – 'tis a winged marauder with a heart as bold as the most daring   </span>│\n",
       "│<span style=\"color: #7f7f7f; text-decoration-color: #7f7f7f\">                          </span>│<span style=\"color: #7f7f7f; text-decoration-color: #7f7f7f\"> of pirates, and a friendship as rich as the most coveted booty!                      </span>│\n",
       "├──────────────────────────┼──────────────────────────────────────────────────────────────────────────────────────┤\n",
       "│<span style=\"color: #7f7f7f; text-decoration-color: #7f7f7f\"> holiday weekends         </span>│<span style=\"color: #7f7f7f; text-decoration-color: #7f7f7f\"> Ahoy, me hearties, let's gab 'bout the joy of holiday weekends! They be like a       </span>│\n",
       "│<span style=\"color: #7f7f7f; text-decoration-color: #7f7f7f\">                          </span>│<span style=\"color: #7f7f7f; text-decoration-color: #7f7f7f\"> treasure chest brimmin' with golden moments, a time when the sails of work are       </span>│\n",
       "│<span style=\"color: #7f7f7f; text-decoration-color: #7f7f7f\">                          </span>│<span style=\"color: #7f7f7f; text-decoration-color: #7f7f7f\"> lowered, and we navigate to the isle of rest and merriment. 'Tis the span when we    </span>│\n",
       "│<span style=\"color: #7f7f7f; text-decoration-color: #7f7f7f\">                          </span>│<span style=\"color: #7f7f7f; text-decoration-color: #7f7f7f\"> drop anchor from the daily toil and bask under the Jolly Roger of relaxation. We     </span>│\n",
       "│<span style=\"color: #7f7f7f; text-decoration-color: #7f7f7f\">                          </span>│<span style=\"color: #7f7f7f; text-decoration-color: #7f7f7f\"> feast like kings on fine grub, share tales with our crew, and the air is filled with </span>│\n",
       "│<span style=\"color: #7f7f7f; text-decoration-color: #7f7f7f\">                          </span>│<span style=\"color: #7f7f7f; text-decoration-color: #7f7f7f\"> the melody of sea shanties and laughter. The seas of routine be calm, and the spirit </span>│\n",
       "│<span style=\"color: #7f7f7f; text-decoration-color: #7f7f7f\">                          </span>│<span style=\"color: #7f7f7f; text-decoration-color: #7f7f7f\"> of freedom flies high as the crow's nest. Whether we be beachcombers soakin' in the  </span>│\n",
       "│<span style=\"color: #7f7f7f; text-decoration-color: #7f7f7f\">                          </span>│<span style=\"color: #7f7f7f; text-decoration-color: #7f7f7f\"> sun or swashbucklers on a backyard adventure, holiday weekends are the plunder we    </span>│\n",
       "│<span style=\"color: #7f7f7f; text-decoration-color: #7f7f7f\">                          </span>│<span style=\"color: #7f7f7f; text-decoration-color: #7f7f7f\"> seek, a time to recharge our souls and set sail towards the workweek with renewed    </span>│\n",
       "│<span style=\"color: #7f7f7f; text-decoration-color: #7f7f7f\">                          </span>│<span style=\"color: #7f7f7f; text-decoration-color: #7f7f7f\"> vigor and a hearty 'yo ho ho' upon our lips!                                         </span>│\n",
       "├──────────────────────────┼──────────────────────────────────────────────────────────────────────────────────────┤\n",
       "│<span style=\"color: #7f7f7f; text-decoration-color: #7f7f7f\"> fun with language models </span>│<span style=\"color: #7f7f7f; text-decoration-color: #7f7f7f\"> Ahoy, ye language model enthusiasts and digital buccaneers! Let me spin ye a yarn    </span>│\n",
       "│<span style=\"color: #7f7f7f; text-decoration-color: #7f7f7f\">                          </span>│<span style=\"color: #7f7f7f; text-decoration-color: #7f7f7f\"> about the rollicking adventures with these clever cogs and gears of the virtual sea. </span>│\n",
       "│<span style=\"color: #7f7f7f; text-decoration-color: #7f7f7f\">                          </span>│<span style=\"color: #7f7f7f; text-decoration-color: #7f7f7f\"> 'Tis like havin' a parrot on yer shoulder that's been taught by the smartest         </span>│\n",
       "│<span style=\"color: #7f7f7f; text-decoration-color: #7f7f7f\">                          </span>│<span style=\"color: #7f7f7f; text-decoration-color: #7f7f7f\"> scallywags under the stars. These models, they be like a treasure map, leadin' us to </span>│\n",
       "│<span style=\"color: #7f7f7f; text-decoration-color: #7f7f7f\">                          </span>│<span style=\"color: #7f7f7f; text-decoration-color: #7f7f7f\"> the X that marks the spot of boundless knowledge. Ye can ask 'em to pen ye a ballad, </span>│\n",
       "│<span style=\"color: #7f7f7f; text-decoration-color: #7f7f7f\">                          </span>│<span style=\"color: #7f7f7f; text-decoration-color: #7f7f7f\"> a sea shanty, or even craft tales of legendary beasts from the deep. They'll weave   </span>│\n",
       "│<span style=\"color: #7f7f7f; text-decoration-color: #7f7f7f\">                          </span>│<span style=\"color: #7f7f7f; text-decoration-color: #7f7f7f\"> ye stories as rich as a galleon laden with doubloons, and as surprising as a kraken  </span>│\n",
       "│<span style=\"color: #7f7f7f; text-decoration-color: #7f7f7f\">                          </span>│<span style=\"color: #7f7f7f; text-decoration-color: #7f7f7f\"> risin' from the depths. So, gather 'round, me hearties, and let's set sail in this   </span>│\n",
       "│<span style=\"color: #7f7f7f; text-decoration-color: #7f7f7f\">                          </span>│<span style=\"color: #7f7f7f; text-decoration-color: #7f7f7f\"> grand adventure with our trusty language model at the helm. We'll navigate through   </span>│\n",
       "│<span style=\"color: #7f7f7f; text-decoration-color: #7f7f7f\">                          </span>│<span style=\"color: #7f7f7f; text-decoration-color: #7f7f7f\"> the Isles of Inquiry, skirt the whirlpools of Wit, and maybe, just maybe, find       </span>│\n",
       "│<span style=\"color: #7f7f7f; text-decoration-color: #7f7f7f\">                          </span>│<span style=\"color: #7f7f7f; text-decoration-color: #7f7f7f\"> ourselves a new world of understanding. Yo ho ho, it's a coder's life for me, with a </span>│\n",
       "│<span style=\"color: #7f7f7f; text-decoration-color: #7f7f7f\">                          </span>│<span style=\"color: #7f7f7f; text-decoration-color: #7f7f7f\"> keyboard for a cutlass and a screen for the endless sea!                             </span>│\n",
       "└──────────────────────────┴──────────────────────────────────────────────────────────────────────────────────────┘\n",
       "</pre>\n"
      ],
      "text/plain": [
       "┏━━━━━━━━━━━━━━━━━━━━━━━━━━┳━━━━━━━━━━━━━━━━━━━━━━━━━━━━━━━━━━━━━━━━━━━━━━━━━━━━━━━━━━━━━━━━━━━━━━━━━━━━━━━━━━━━━━┓\n",
       "┃\u001b[1;35m \u001b[0m\u001b[1;35mscenario                \u001b[0m\u001b[1;35m \u001b[0m┃\u001b[1;35m \u001b[0m\u001b[1;35manswer                                                                              \u001b[0m\u001b[1;35m \u001b[0m┃\n",
       "┃\u001b[1;35m \u001b[0m\u001b[1;35m.topic                  \u001b[0m\u001b[1;35m \u001b[0m┃\u001b[1;35m \u001b[0m\u001b[1;35m.my_style                                                                           \u001b[0m\u001b[1;35m \u001b[0m┃\n",
       "┡━━━━━━━━━━━━━━━━━━━━━━━━━━╇━━━━━━━━━━━━━━━━━━━━━━━━━━━━━━━━━━━━━━━━━━━━━━━━━━━━━━━━━━━━━━━━━━━━━━━━━━━━━━━━━━━━━━┩\n",
       "│\u001b[2m \u001b[0m\u001b[2mparrots                 \u001b[0m\u001b[2m \u001b[0m│\u001b[2m \u001b[0m\u001b[2mArrr, gather 'round, ye salty sea dogs, and I'll spin ye a yarn about the most      \u001b[0m\u001b[2m \u001b[0m│\n",
       "│\u001b[2m                          \u001b[0m│\u001b[2m \u001b[0m\u001b[2mcolorful scallywags to ever set wing upon the briny deep – the parrots! Aye, these  \u001b[0m\u001b[2m \u001b[0m│\n",
       "│\u001b[2m                          \u001b[0m│\u001b[2m \u001b[0m\u001b[2mbe the feathered jewels of the tropics, squawkin' with the voice of a bo'sun and as \u001b[0m\u001b[2m \u001b[0m│\n",
       "│\u001b[2m                          \u001b[0m│\u001b[2m \u001b[0m\u001b[2mvibrant as a treasure chest overflowin' with doubloons. They be the loyal companions\u001b[0m\u001b[2m \u001b[0m│\n",
       "│\u001b[2m                          \u001b[0m│\u001b[2m \u001b[0m\u001b[2mof many a pirate, sharin' tales and secrets like no other creature on the seven     \u001b[0m\u001b[2m \u001b[0m│\n",
       "│\u001b[2m                          \u001b[0m│\u001b[2m \u001b[0m\u001b[2mseas. With plumage as brilliant as the Jolly Roger in the noonday sun, and eyes     \u001b[0m\u001b[2m \u001b[0m│\n",
       "│\u001b[2m                          \u001b[0m│\u001b[2m \u001b[0m\u001b[2msparklin' with the mischief of a thousand rogues, these be the true free spirits of \u001b[0m\u001b[2m \u001b[0m│\n",
       "│\u001b[2m                          \u001b[0m│\u001b[2m \u001b[0m\u001b[2mthe skies. They navigate the trade winds with the ease of an old salt, and their    \u001b[0m\u001b[2m \u001b[0m│\n",
       "│\u001b[2m                          \u001b[0m│\u001b[2m \u001b[0m\u001b[2mraucous calls be like the siren songs of the islands, beckonin' ye to shores untold.\u001b[0m\u001b[2m \u001b[0m│\n",
       "│\u001b[2m                          \u001b[0m│\u001b[2m \u001b[0m\u001b[2mSo, if ye ever find yerself a fine feathered mate, cherish the bond, for a parrot   \u001b[0m\u001b[2m \u001b[0m│\n",
       "│\u001b[2m                          \u001b[0m│\u001b[2m \u001b[0m\u001b[2main't just a bird – 'tis a winged marauder with a heart as bold as the most daring  \u001b[0m\u001b[2m \u001b[0m│\n",
       "│\u001b[2m                          \u001b[0m│\u001b[2m \u001b[0m\u001b[2mof pirates, and a friendship as rich as the most coveted booty!                     \u001b[0m\u001b[2m \u001b[0m│\n",
       "├──────────────────────────┼──────────────────────────────────────────────────────────────────────────────────────┤\n",
       "│\u001b[2m \u001b[0m\u001b[2mholiday weekends        \u001b[0m\u001b[2m \u001b[0m│\u001b[2m \u001b[0m\u001b[2mAhoy, me hearties, let's gab 'bout the joy of holiday weekends! They be like a      \u001b[0m\u001b[2m \u001b[0m│\n",
       "│\u001b[2m                          \u001b[0m│\u001b[2m \u001b[0m\u001b[2mtreasure chest brimmin' with golden moments, a time when the sails of work are      \u001b[0m\u001b[2m \u001b[0m│\n",
       "│\u001b[2m                          \u001b[0m│\u001b[2m \u001b[0m\u001b[2mlowered, and we navigate to the isle of rest and merriment. 'Tis the span when we   \u001b[0m\u001b[2m \u001b[0m│\n",
       "│\u001b[2m                          \u001b[0m│\u001b[2m \u001b[0m\u001b[2mdrop anchor from the daily toil and bask under the Jolly Roger of relaxation. We    \u001b[0m\u001b[2m \u001b[0m│\n",
       "│\u001b[2m                          \u001b[0m│\u001b[2m \u001b[0m\u001b[2mfeast like kings on fine grub, share tales with our crew, and the air is filled with\u001b[0m\u001b[2m \u001b[0m│\n",
       "│\u001b[2m                          \u001b[0m│\u001b[2m \u001b[0m\u001b[2mthe melody of sea shanties and laughter. The seas of routine be calm, and the spirit\u001b[0m\u001b[2m \u001b[0m│\n",
       "│\u001b[2m                          \u001b[0m│\u001b[2m \u001b[0m\u001b[2mof freedom flies high as the crow's nest. Whether we be beachcombers soakin' in the \u001b[0m\u001b[2m \u001b[0m│\n",
       "│\u001b[2m                          \u001b[0m│\u001b[2m \u001b[0m\u001b[2msun or swashbucklers on a backyard adventure, holiday weekends are the plunder we   \u001b[0m\u001b[2m \u001b[0m│\n",
       "│\u001b[2m                          \u001b[0m│\u001b[2m \u001b[0m\u001b[2mseek, a time to recharge our souls and set sail towards the workweek with renewed   \u001b[0m\u001b[2m \u001b[0m│\n",
       "│\u001b[2m                          \u001b[0m│\u001b[2m \u001b[0m\u001b[2mvigor and a hearty 'yo ho ho' upon our lips!                                        \u001b[0m\u001b[2m \u001b[0m│\n",
       "├──────────────────────────┼──────────────────────────────────────────────────────────────────────────────────────┤\n",
       "│\u001b[2m \u001b[0m\u001b[2mfun with language models\u001b[0m\u001b[2m \u001b[0m│\u001b[2m \u001b[0m\u001b[2mAhoy, ye language model enthusiasts and digital buccaneers! Let me spin ye a yarn   \u001b[0m\u001b[2m \u001b[0m│\n",
       "│\u001b[2m                          \u001b[0m│\u001b[2m \u001b[0m\u001b[2mabout the rollicking adventures with these clever cogs and gears of the virtual sea.\u001b[0m\u001b[2m \u001b[0m│\n",
       "│\u001b[2m                          \u001b[0m│\u001b[2m \u001b[0m\u001b[2m'Tis like havin' a parrot on yer shoulder that's been taught by the smartest        \u001b[0m\u001b[2m \u001b[0m│\n",
       "│\u001b[2m                          \u001b[0m│\u001b[2m \u001b[0m\u001b[2mscallywags under the stars. These models, they be like a treasure map, leadin' us to\u001b[0m\u001b[2m \u001b[0m│\n",
       "│\u001b[2m                          \u001b[0m│\u001b[2m \u001b[0m\u001b[2mthe X that marks the spot of boundless knowledge. Ye can ask 'em to pen ye a ballad,\u001b[0m\u001b[2m \u001b[0m│\n",
       "│\u001b[2m                          \u001b[0m│\u001b[2m \u001b[0m\u001b[2ma sea shanty, or even craft tales of legendary beasts from the deep. They'll weave  \u001b[0m\u001b[2m \u001b[0m│\n",
       "│\u001b[2m                          \u001b[0m│\u001b[2m \u001b[0m\u001b[2mye stories as rich as a galleon laden with doubloons, and as surprising as a kraken \u001b[0m\u001b[2m \u001b[0m│\n",
       "│\u001b[2m                          \u001b[0m│\u001b[2m \u001b[0m\u001b[2mrisin' from the depths. So, gather 'round, me hearties, and let's set sail in this  \u001b[0m\u001b[2m \u001b[0m│\n",
       "│\u001b[2m                          \u001b[0m│\u001b[2m \u001b[0m\u001b[2mgrand adventure with our trusty language model at the helm. We'll navigate through  \u001b[0m\u001b[2m \u001b[0m│\n",
       "│\u001b[2m                          \u001b[0m│\u001b[2m \u001b[0m\u001b[2mthe Isles of Inquiry, skirt the whirlpools of Wit, and maybe, just maybe, find      \u001b[0m\u001b[2m \u001b[0m│\n",
       "│\u001b[2m                          \u001b[0m│\u001b[2m \u001b[0m\u001b[2mourselves a new world of understanding. Yo ho ho, it's a coder's life for me, with a\u001b[0m\u001b[2m \u001b[0m│\n",
       "│\u001b[2m                          \u001b[0m│\u001b[2m \u001b[0m\u001b[2mkeyboard for a cutlass and a screen for the endless sea!                            \u001b[0m\u001b[2m \u001b[0m│\n",
       "└──────────────────────────┴──────────────────────────────────────────────────────────────────────────────────────┘\n"
      ]
     },
     "metadata": {},
     "output_type": "display_data"
    }
   ],
   "source": [
    "results.select(\"topic\", \"my_style\").print(format=\"rich\")"
   ]
  },
  {
   "cell_type": "markdown",
   "id": "bd4337d8-715d-418d-96f0-27293ce31d97",
   "metadata": {},
   "source": [
    "Check out our [documentation page](https://docs.expectedparrot.com/) for many other demo notebooks and tutorials!"
   ]
  }
 ],
 "metadata": {
  "kernelspec": {
   "display_name": "Python 3 (ipykernel)",
   "language": "python",
   "name": "python3"
  },
  "language_info": {
   "codemirror_mode": {
    "name": "ipython",
    "version": 3
   },
   "file_extension": ".py",
   "mimetype": "text/x-python",
   "name": "python",
   "nbconvert_exporter": "python",
   "pygments_lexer": "ipython3",
   "version": "3.11.7"
  }
 },
 "nbformat": 4,
 "nbformat_minor": 5
}
