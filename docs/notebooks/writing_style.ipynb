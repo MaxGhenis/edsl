{
 "cells": [
  {
   "cell_type": "markdown",
   "id": "c57a4e42-5866-4a29-9f93-5712c1a3892a",
   "metadata": {
    "editable": true,
    "slideshow": {
     "slide_type": ""
    },
    "tags": []
   },
   "source": [
    "# Stylized content\n",
    "This notebook provides a quick example of how to use [EDSL](https://docs.expectedparrot.com/) to prompt an AI agent to immitate a writing style in drafting some content. \n",
    "\n",
    "EDSL is an open-source library for simulating surveys and experiements with language models. Please see our [documentation page](https://docs.expectedparrot.com/) for tips and tutorials on getting started.\n",
    "*Thanks [Lori Berenberg for inspiring this demo](https://x.com/loriberenberg/status/1794012658271654103)!*"
   ]
  },
  {
   "cell_type": "markdown",
   "id": "a21ba173-07ba-4427-975d-f05304b15dab",
   "metadata": {
    "editable": true,
    "slideshow": {
     "slide_type": ""
    },
    "tags": []
   },
   "source": [
    "## Constructing a question\n",
    "EDSL comes with a variety of question types that we can choose from based on the form of the response that we want to get back from the model (multiple choice, free text, linear scale, etc.). Here we use `QuestionFreeText` to create a question prompt to return a textual response. We compose the question with a writing sample, and then use `Scenario` objects to run the question for any different topics that we want the agent to write about. This allows us to run all the versions of the question at once:"
   ]
  },
  {
   "cell_type": "code",
   "execution_count": 1,
   "id": "0bf0d868-2e58-4fdc-9515-0f0cf359ea52",
   "metadata": {
    "editable": true,
    "slideshow": {
     "slide_type": ""
    },
    "tags": []
   },
   "outputs": [],
   "source": [
    "from edsl import QuestionFreeText, ScenarioList, Scenario\n",
    "\n",
    "my_example = \"\"\"Arrr, matey, let me tell ye about bein' 45! 'Tis a grand age, like a fine rum \n",
    "that's been aged to perfection in the hold of an ol' ship. Ye've sailed through the squalls \n",
    "and storms of life, and now ye're ridin' the calm seas with the wind at yer back. Yer beard \n",
    "may be a bit grayer, and yer joints creak like an old wooden deck, but ye've got the wisdom \n",
    "of the seven seas and the tales to prove it! Ye've charted yer course, found yer treasure, \n",
    "and now ye're ready for new horizons and uncharted waters. So hoist the sails and set a course \n",
    "for adventure, because at 45, the horizon is as bright as a golden sunset over the open ocean. \n",
    "There's a whole world out there still to explore, filled with new treasures and mysteries \n",
    "awaitin' a bold soul like yerself. Aye, it's a fine time to be alive, with the world at yer \n",
    "feet, a hearty 'yo ho ho' in yer heart, and a spirit ready for new explorations!\n",
    "\"\"\"\n",
    "\n",
    "q = QuestionFreeText(\n",
    "    question_name=\"my_style\",\n",
    "    question_text=\"Here's an example of my writing style: \"\n",
    "    + my_example\n",
    "    + \"Draft a paragraph about {{ scenario.topic }} in my style.\",\n",
    ")\n",
    "\n",
    "topics = ScenarioList(\n",
    "    Scenario({\"topic\": t}) for t in [\"parrots\", \"holiday weekends\", \"fun with language models\"]\n",
    ")"
   ]
  },
  {
   "cell_type": "markdown",
   "id": "146888b5-fc10-4d25-8162-6821469e9764",
   "metadata": {
    "editable": true,
    "slideshow": {
     "slide_type": ""
    },
    "tags": []
   },
   "source": [
    "## Generating content\n",
    "We simulate responses by adding the scenarios to the question and running it. This generates a `Results` object that we can readily analyze (learn more about [built-in methods for analyzing results](https://docs.expectedparrot.com/en/latest/results.html)):"
   ]
  },
  {
   "cell_type": "code",
   "execution_count": 2,
   "id": "11a1d562-e1a5-4fbe-a97d-647307023d34",
   "metadata": {
    "editable": true,
    "slideshow": {
     "slide_type": ""
    },
    "tags": []
   },
   "outputs": [
    {
     "data": {
      "text/html": [
       "\n",
       "            <!-- #region Remove Inference Info -->\n",
       "            <div id=\"logger-b1376525-112f-42e5-bb25-41c9e0bf7e5c\" class=\"job-logger\">\n",
       "                <div class=\"job-logger-header\">\n",
       "                    <span>\n",
       "                        <span id=\"arrow-b1376525-112f-42e5-bb25-41c9e0bf7e5c\">▼</span> \n",
       "                        Job Status (2025-03-03 12:57:48)\n",
       "                    </span>\n",
       "                </div>\n",
       "                <div id=\"content-b1376525-112f-42e5-bb25-41c9e0bf7e5c\" style=\"display: block;\">\n",
       "                    <table class=\"job-logger-table\">\n",
       "                        \n",
       "            <tr>\n",
       "                <td class=\"job-logger-cell job-logger-label\">Job UUID</td>\n",
       "                <td class=\"job-logger-cell job-logger-value\">3e707bb5-8c5a-4015-ad62-338f4aa71bef</td>\n",
       "            </tr>\n",
       "        \n",
       "            <tr>\n",
       "                <td class=\"job-logger-cell job-logger-label\">Progress Bar URL</td>\n",
       "                <td class=\"job-logger-cell job-logger-value\"><a href=\"https://www.expectedparrot.com/home/remote-job-progress/3e707bb5-8c5a-4015-ad62-338f4aa71bef\" target=\"_blank\" class=\"job-logger-link\">https://www.expectedparrot.com/home/remote-job-progress/3e707bb5-8c5a-4015-ad62-338f4aa71bef</a></td>\n",
       "            </tr>\n",
       "        \n",
       "            <tr>\n",
       "                <td class=\"job-logger-cell job-logger-label\">Exceptions Report URL</td>\n",
       "                <td class=\"job-logger-cell job-logger-value\">None</td>\n",
       "            </tr>\n",
       "        \n",
       "            <tr>\n",
       "                <td class=\"job-logger-cell job-logger-label\">Results UUID</td>\n",
       "                <td class=\"job-logger-cell job-logger-value\">40257b61-eb71-4396-b14e-0bf65f441260</td>\n",
       "            </tr>\n",
       "        \n",
       "            <tr>\n",
       "                <td class=\"job-logger-cell job-logger-label\">Results URL</td>\n",
       "                <td class=\"job-logger-cell job-logger-value\"><a href=\"https://www.expectedparrot.com/content/40257b61-eb71-4396-b14e-0bf65f441260\" target=\"_blank\" class=\"job-logger-link\">https://www.expectedparrot.com/content/40257b61-eb71-4396-b14e-0bf65f441260</a></td>\n",
       "            </tr>\n",
       "        \n",
       "                    </table>\n",
       "                    \n",
       "                <div class=\"job-logger-status\">\n",
       "                    <span style=\"margin-right: 8px;\" class=\"job-logger-success\">✓</span><strong>Current Status:</strong> Job completed and Results stored on Coop: <a href=\"https://www.expectedparrot.com/content/40257b61-eb71-4396-b14e-0bf65f441260\" target=\"_blank\" class=\"job-logger-link\">https://www.expectedparrot.com/content/40257b61-eb71-4396-b14e-0bf65f441260</a>\n",
       "                </div>\n",
       "            \n",
       "                </div>\n",
       "            </div>\n",
       "            <!-- # endregion -->\n",
       "        "
      ],
      "text/plain": [
       "<IPython.core.display.HTML object>"
      ]
     },
     "metadata": {},
     "output_type": "display_data"
    },
    {
     "data": {
      "text/html": [
       "\n",
       "        <style>\n",
       "            /* Base theme variables */\n",
       "            :root {\n",
       "                --jl-bg-primary: #ffffff;\n",
       "                --jl-bg-secondary: #f5f5f5;\n",
       "                --jl-border-color: #e0e0e0;\n",
       "                --jl-text-primary: #24292e;\n",
       "                --jl-text-secondary: #586069;\n",
       "                --jl-link-color: #0366d6;\n",
       "                --jl-success-color: #28a745;\n",
       "                --jl-error-color: #d73a49;\n",
       "                --jl-header-bg: #f1f1f1;\n",
       "            }\n",
       "            \n",
       "            /* Dark theme variables */\n",
       "            .theme-dark {\n",
       "                --jl-bg-primary: #1e1e1e;\n",
       "                --jl-bg-secondary: #252526;\n",
       "                --jl-border-color: #2d2d2d;\n",
       "                --jl-text-primary: #cccccc;\n",
       "                --jl-text-secondary: #999999;\n",
       "                --jl-link-color: #4e94ce;\n",
       "                --jl-success-color: #89d185;\n",
       "                --jl-error-color: #f14c4c;\n",
       "                --jl-header-bg: #333333;\n",
       "            }\n",
       "\n",
       "            /* High contrast theme variables */\n",
       "            .theme-high-contrast {\n",
       "                --jl-bg-primary: #000000;\n",
       "                --jl-bg-secondary: #1a1a1a;\n",
       "                --jl-border-color: #404040;\n",
       "                --jl-text-primary: #ffffff;\n",
       "                --jl-text-secondary: #cccccc;\n",
       "                --jl-link-color: #66b3ff;\n",
       "                --jl-success-color: #00ff00;\n",
       "                --jl-error-color: #ff0000;\n",
       "                --jl-header-bg: #262626;\n",
       "            }\n",
       "            \n",
       "            .job-logger {\n",
       "                font-family: system-ui, -apple-system, sans-serif;\n",
       "                max-width: 800px;\n",
       "                margin: 10px 0;\n",
       "                color: var(--jl-text-primary);\n",
       "                box-shadow: 0 1px 3px rgba(0,0,0,0.12);\n",
       "                border-radius: 4px;\n",
       "                overflow: hidden;\n",
       "            }\n",
       "            \n",
       "            .job-logger-header {\n",
       "                padding: 12px 16px;\n",
       "                background: var(--jl-header-bg);\n",
       "                border: none;\n",
       "                border-radius: 4px 4px 0 0;\n",
       "                cursor: pointer;\n",
       "                color: var(--jl-text-primary);\n",
       "                user-select: none;\n",
       "                font-weight: 500;\n",
       "                letter-spacing: 0.3px;\n",
       "                display: flex;\n",
       "                justify-content: space-between;\n",
       "                align-items: center;\n",
       "            }\n",
       "            \n",
       "            .theme-select {\n",
       "                padding: 4px 8px;\n",
       "                border-radius: 4px;\n",
       "                border: 1px solid var(--jl-border-color);\n",
       "                background: var(--jl-bg-primary);\n",
       "                color: var(--jl-text-primary);\n",
       "                font-size: 0.9em;\n",
       "            }\n",
       "            \n",
       "            .job-logger-table {\n",
       "                width: 100%;\n",
       "                border-collapse: separate;\n",
       "                border-spacing: 0;\n",
       "                background: var(--jl-bg-primary);\n",
       "                border: 1px solid var(--jl-border-color);\n",
       "                margin-top: -1px;\n",
       "            }\n",
       "            \n",
       "            .job-logger-cell {\n",
       "                padding: 12px 16px;\n",
       "                border-bottom: 1px solid var(--jl-border-color);\n",
       "                line-height: 1.4;\n",
       "            }\n",
       "            \n",
       "            .job-logger-label {\n",
       "                font-weight: 500;\n",
       "                color: var(--jl-text-primary);\n",
       "                width: 25%;\n",
       "                background: var(--jl-bg-secondary);\n",
       "            }\n",
       "            \n",
       "            .job-logger-value {\n",
       "                color: var(--jl-text-secondary);\n",
       "                word-break: break-word;\n",
       "            }\n",
       "            \n",
       "            .job-logger-status {\n",
       "                margin: 0;\n",
       "                padding: 12px 16px;\n",
       "                background-color: var(--jl-bg-secondary);\n",
       "                border: 1px solid var(--jl-border-color);\n",
       "                border-top: none;\n",
       "                border-radius: 0 0 4px 4px;\n",
       "                color: var(--jl-text-primary);\n",
       "                font-size: 0.95em;\n",
       "            }\n",
       "        </style>\n",
       "        \n",
       "        <script>\n",
       "            class ThemeManager {\n",
       "                constructor(logId, initialTheme = 'auto') {\n",
       "                    this.logId = logId;\n",
       "                    this.currentTheme = initialTheme;\n",
       "                    this.darkModeMediaQuery = window.matchMedia('(prefers-color-scheme: dark)');\n",
       "                    this.init();\n",
       "                }\n",
       "                \n",
       "                init() {\n",
       "                    this.setupThemeSwitcher();\n",
       "                    this.updateTheme(this.currentTheme);\n",
       "                    \n",
       "                    this.darkModeMediaQuery.addListener(() => {\n",
       "                        if (this.currentTheme === 'auto') {\n",
       "                            this.updateTheme('auto');\n",
       "                        }\n",
       "                    });\n",
       "                }\n",
       "                \n",
       "                setupThemeSwitcher() {\n",
       "                    const logger = document.querySelector(`#logger-${this.logId}`);\n",
       "                    if (!logger) return;\n",
       "                    \n",
       "                    const switcher = document.createElement('div');\n",
       "                    switcher.className = 'theme-switcher';\n",
       "                    switcher.innerHTML = `\n",
       "                        <select id=\"theme-select-${this.logId}\" class=\"theme-select\">\n",
       "                            <option value=\"auto\">Auto</option>\n",
       "                            <option value=\"light\">Light</option>\n",
       "                            <option value=\"dark\">Dark</option>\n",
       "                            <option value=\"high-contrast\">High Contrast</option>\n",
       "                        </select>\n",
       "                    `;\n",
       "                    \n",
       "                    const header = logger.querySelector('.job-logger-header');\n",
       "                    header.appendChild(switcher);\n",
       "                    \n",
       "                    const select = switcher.querySelector('select');\n",
       "                    select.value = this.currentTheme;\n",
       "                    select.addEventListener('change', (e) => {\n",
       "                        this.updateTheme(e.target.value);\n",
       "                    });\n",
       "                }\n",
       "                \n",
       "                updateTheme(theme) {\n",
       "                    const logger = document.querySelector(`#logger-${this.logId}`);\n",
       "                    if (!logger) return;\n",
       "                    \n",
       "                    this.currentTheme = theme;\n",
       "                    \n",
       "                    logger.classList.remove('theme-light', 'theme-dark', 'theme-high-contrast');\n",
       "                    \n",
       "                    if (theme === 'auto') {\n",
       "                        const isDark = this.darkModeMediaQuery.matches;\n",
       "                        logger.classList.add(isDark ? 'theme-dark' : 'theme-light');\n",
       "                    } else {\n",
       "                        logger.classList.add(`theme-${theme}`);\n",
       "                    }\n",
       "                    \n",
       "                    try {\n",
       "                        localStorage.setItem('jobLoggerTheme', theme);\n",
       "                    } catch (e) {\n",
       "                        console.warn('Unable to save theme preference:', e);\n",
       "                    }\n",
       "                }\n",
       "            }\n",
       "            \n",
       "            window.initThemeManager = (logId, initialTheme) => {\n",
       "                new ThemeManager(logId, initialTheme);\n",
       "            };\n",
       "        </script>\n",
       "        \n",
       "        <script>\n",
       "            document.addEventListener('DOMContentLoaded', () => {\n",
       "                window.initThemeManager('b1376525-112f-42e5-bb25-41c9e0bf7e5c', 'auto');\n",
       "            });\n",
       "        </script>\n",
       "        "
      ],
      "text/plain": [
       "<IPython.core.display.HTML object>"
      ]
     },
     "metadata": {},
     "output_type": "display_data"
    }
   ],
   "source": [
    "results = q.by(topics).run()"
   ]
  },
  {
   "cell_type": "markdown",
   "id": "0ec13041-ce56-4f05-884c-566c59e546e2",
   "metadata": {
    "editable": true,
    "slideshow": {
     "slide_type": ""
    },
    "tags": []
   },
   "source": [
    "Here we select the topics and responses and print them in a table:"
   ]
  },
  {
   "cell_type": "code",
   "execution_count": 3,
   "id": "fa64d9d6-8821-4ec9-b771-3b0b920bee9d",
   "metadata": {
    "editable": true,
    "slideshow": {
     "slide_type": ""
    },
    "tags": []
   },
   "outputs": [
    {
     "data": {
      "text/html": [
       "\n",
       "            <div style=\"max-height: 500px; overflow-y: auto;\">\n",
       "                <style type=\"text/css\">\n",
       "#T_889e9_row0_col0, #T_889e9_row0_col1, #T_889e9_row1_col0, #T_889e9_row1_col1, #T_889e9_row2_col0, #T_889e9_row2_col1 {\n",
       "  text-align: left;\n",
       "}\n",
       "</style>\n",
       "<table id=\"T_889e9\">\n",
       "  <thead>\n",
       "    <tr>\n",
       "      <th class=\"blank level0\" >&nbsp;</th>\n",
       "      <th id=\"T_889e9_level0_col0\" class=\"col_heading level0 col0\" >scenario.topic</th>\n",
       "      <th id=\"T_889e9_level0_col1\" class=\"col_heading level0 col1\" >answer.my_style</th>\n",
       "    </tr>\n",
       "  </thead>\n",
       "  <tbody>\n",
       "    <tr>\n",
       "      <th id=\"T_889e9_level0_row0\" class=\"row_heading level0 row0\" >0</th>\n",
       "      <td id=\"T_889e9_row0_col0\" class=\"data row0 col0\" >parrots</td>\n",
       "      <td id=\"T_889e9_row0_col1\" class=\"data row0 col1\" >Arrr, matey, let me spin ye a yarn about the feathered buccaneers of the skies – the parrots! These vibrant creatures be like the jeweled treasures of the jungle, with plumage as colorful as a pirate's finest silks. Smart as a whip they are, with voices that echo the hearty laughter of a ship's crew on a moonlit night. Aye, a parrot be more than just a companion; it's a trusty lookout perched on yer shoulder, sharer of secrets and tales of old. With eyes as keen as a sailor's spotting land after months at sea, they see the world in ways we can only dream of. So raise a toast to these winged mates, who bring a dash of the exotic to our everyday voyages, and remind us that even in the heart of the fiercest storm, there's always a bit of color and song to lift our spirits. Yo ho ho, and a cracker for Polly!</td>\n",
       "    </tr>\n",
       "    <tr>\n",
       "      <th id=\"T_889e9_level0_row1\" class=\"row_heading level0 row1\" >1</th>\n",
       "      <td id=\"T_889e9_row1_col0\" class=\"data row1 col0\" >holiday weekends</td>\n",
       "      <td id=\"T_889e9_row1_col1\" class=\"data row1 col1\" >Arrr, gather 'round, ye scallywags, for let me spin ye a yarn about holiday weekends! 'Tis like findin' a hidden cove, where the sands are golden and the tides gentle, offerin' a respite from the daily grind of sailin' the high seas. These be the days when time slows, like a ship driftin' lazily in a sun-dappled bay, givin' ye a chance to drop anchor and revel in the simple joys of life. Whether ye be gatherin' with yer crew for a grand feast or settin' off on a small adventure to explore new shores, a holiday weekend be a treasure chest of moments, ripe for the takin'. The air is filled with the laughter of shipmates and the clinkin' of tankards, as stories of old voyages are spun and new plans are hatched. So raise yer flag, mates, and make the most of these precious days, for they be the pearls strung upon the necklace of life's grand journey. Aye, a holiday weekend is a fine treasure, indeed, and one worth cherishin' with all the gusto of a pirate king!</td>\n",
       "    </tr>\n",
       "    <tr>\n",
       "      <th id=\"T_889e9_level0_row2\" class=\"row_heading level0 row2\" >2</th>\n",
       "      <td id=\"T_889e9_row2_col0\" class=\"data row2 col0\" >fun with language models</td>\n",
       "      <td id=\"T_889e9_row2_col1\" class=\"data row2 col1\" >Arrr, matey, let me spin ye a yarn about the jolly adventure of dabblin' with language models! 'Tis like havin' a trusty parrot on yer shoulder, whisperin' secrets of the written word into yer ear. These clever contraptions be like a treasure chest full of words, ready to spill forth tales as grand as the seven seas. Just a few taps of the keys, and ye've got a crew of words ready to set sail on the vast ocean of imagination. They be like the wind in yer sails, guidin' ye through uncharted waters of creativity, where every sentence is a new horizon and every paragraph a golden doubloon. Aye, with a language model at yer side, ye're never short of a tale to tell or a riddle to unravel. So hoist yer quill and set a course for literary adventure, for the world of words is as boundless as the sea itself, and there's no end to the wonders ye'll discover!</td>\n",
       "    </tr>\n",
       "  </tbody>\n",
       "</table>\n",
       "\n",
       "            </div>\n",
       "            "
      ],
      "text/plain": [
       "Dataset([{'scenario.topic': ['parrots', 'holiday weekends', 'fun with language models']}, {'answer.my_style': [\"Arrr, matey, let me spin ye a yarn about the feathered buccaneers of the skies – the parrots! These vibrant creatures be like the jeweled treasures of the jungle, with plumage as colorful as a pirate's finest silks. Smart as a whip they are, with voices that echo the hearty laughter of a ship's crew on a moonlit night. Aye, a parrot be more than just a companion; it's a trusty lookout perched on yer shoulder, sharer of secrets and tales of old. With eyes as keen as a sailor's spotting land after months at sea, they see the world in ways we can only dream of. So raise a toast to these winged mates, who bring a dash of the exotic to our everyday voyages, and remind us that even in the heart of the fiercest storm, there's always a bit of color and song to lift our spirits. Yo ho ho, and a cracker for Polly!\", \"Arrr, gather 'round, ye scallywags, for let me spin ye a yarn about holiday weekends! 'Tis like findin' a hidden cove, where the sands are golden and the tides gentle, offerin' a respite from the daily grind of sailin' the high seas. These be the days when time slows, like a ship driftin' lazily in a sun-dappled bay, givin' ye a chance to drop anchor and revel in the simple joys of life. Whether ye be gatherin' with yer crew for a grand feast or settin' off on a small adventure to explore new shores, a holiday weekend be a treasure chest of moments, ripe for the takin'. The air is filled with the laughter of shipmates and the clinkin' of tankards, as stories of old voyages are spun and new plans are hatched. So raise yer flag, mates, and make the most of these precious days, for they be the pearls strung upon the necklace of life's grand journey. Aye, a holiday weekend is a fine treasure, indeed, and one worth cherishin' with all the gusto of a pirate king!\", \"Arrr, matey, let me spin ye a yarn about the jolly adventure of dabblin' with language models! 'Tis like havin' a trusty parrot on yer shoulder, whisperin' secrets of the written word into yer ear. These clever contraptions be like a treasure chest full of words, ready to spill forth tales as grand as the seven seas. Just a few taps of the keys, and ye've got a crew of words ready to set sail on the vast ocean of imagination. They be like the wind in yer sails, guidin' ye through uncharted waters of creativity, where every sentence is a new horizon and every paragraph a golden doubloon. Aye, with a language model at yer side, ye're never short of a tale to tell or a riddle to unravel. So hoist yer quill and set a course for literary adventure, for the world of words is as boundless as the sea itself, and there's no end to the wonders ye'll discover!\"]}])"
      ]
     },
     "execution_count": 3,
     "metadata": {},
     "output_type": "execute_result"
    }
   ],
   "source": [
    "results.select(\"topic\", \"my_style\")"
   ]
  },
  {
   "cell_type": "markdown",
   "id": "bd4337d8-715d-418d-96f0-27293ce31d97",
   "metadata": {
    "editable": true,
    "slideshow": {
     "slide_type": ""
    },
    "tags": []
   },
   "source": [
    "Check out our [documentation page](https://docs.expectedparrot.com/) for many other demo notebooks and tutorials!"
   ]
  }
 ],
 "metadata": {
  "kernelspec": {
   "display_name": "Python 3 (ipykernel)",
   "language": "python",
   "name": "python3"
  },
  "language_info": {
   "codemirror_mode": {
    "name": "ipython",
    "version": 3
   },
   "file_extension": ".py",
   "mimetype": "text/x-python",
   "name": "python",
   "nbconvert_exporter": "python",
   "pygments_lexer": "ipython3",
   "version": "3.11.7"
  }
 },
 "nbformat": 4,
 "nbformat_minor": 5
}
