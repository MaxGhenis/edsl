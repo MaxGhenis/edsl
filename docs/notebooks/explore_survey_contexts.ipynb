{
 "cells": [
  {
   "cell_type": "markdown",
   "metadata": {
    "cell_id": "f3c6db7155a7490abb8c02fcd6585ff5",
    "deepnote_cell_type": "markdown"
   },
   "source": [
    "# Research: Exploring real world survey contexts\n",
    "This notebook explores ways of specifying \"contexts\" in which an EDSL survey is \"administered\" to agents in order to investigate potential impacts to simulated responses. We show how to do this in three different ways by modifying  our `Question` texts and `Agent` traits in order to reflect various hypothetical real world contexts.\n",
    "\n",
    "Thank you to <a href=\"https://sites.google.com/view/skazinnik\">Sophia Kazinnik</a> for this idea and suggestions!"
   ]
  },
  {
   "cell_type": "markdown",
   "metadata": {},
   "source": [
    "[![Open In Colab](https://colab.research.google.com/assets/colab-badge.svg)](https://colab.research.google.com/github/expectedparrot/edsl/blob/main/docs/notebooks/explore_survey_contexts.ipynb)"
   ]
  },
  {
   "cell_type": "markdown",
   "metadata": {
    "cell_id": "f73c4ba3665b4413be7ad0dfe94ff44d",
    "deepnote_cell_type": "markdown"
   },
   "source": [
    "## Importing the tools"
   ]
  },
  {
   "cell_type": "code",
   "execution_count": 1,
   "metadata": {
    "cell_id": "83a0979a37e54444b494665222dd53d2",
    "deepnote_cell_type": "code"
   },
   "outputs": [],
   "source": [
    "# ! pip install edsl"
   ]
  },
  {
   "cell_type": "code",
   "execution_count": 2,
   "metadata": {
    "cell_id": "dca1220becc94fdea184920c906ec338",
    "deepnote_cell_type": "code",
    "deepnote_to_be_reexecuted": false,
    "execution_millis": 130,
    "execution_start": 1709224085029,
    "source_hash": null
   },
   "outputs": [],
   "source": [
    "from edsl.questions import QuestionLinearScale\n",
    "from edsl import Agent, Scenario, Survey, Model"
   ]
  },
  {
   "cell_type": "markdown",
   "metadata": {
    "cell_id": "061e70a8867347a19e549d08e505ffcd",
    "deepnote_cell_type": "markdown"
   },
   "source": [
    "## Selecting a model\n",
    "Here we show the available language models and select one:"
   ]
  },
  {
   "cell_type": "code",
   "execution_count": 3,
   "metadata": {
    "cell_id": "6f654117f8b24a26b706d91ed96b2293",
    "deepnote_cell_type": "code",
    "deepnote_to_be_reexecuted": false,
    "execution_millis": 86,
    "execution_start": 1709224087198,
    "source_hash": null
   },
   "outputs": [
    {
     "data": {
      "text/plain": [
       "['claude-3-haiku-20240307',\n",
       " 'claude-3-opus-20240229',\n",
       " 'claude-3-sonnet-20240229',\n",
       " 'dbrx-instruct',\n",
       " 'gemini_pro',\n",
       " 'gpt-3.5-turbo',\n",
       " 'gpt-4-1106-preview',\n",
       " 'llama-2-13b-chat-hf',\n",
       " 'llama-2-70b-chat-hf',\n",
       " 'mixtral-8x7B-instruct-v0.1']"
      ]
     },
     "execution_count": 3,
     "metadata": {},
     "output_type": "execute_result"
    }
   ],
   "source": [
    "Model.available()"
   ]
  },
  {
   "cell_type": "code",
   "execution_count": 4,
   "metadata": {
    "cell_id": "ef83f93d32284374ab72e3a590a1195f",
    "deepnote_cell_type": "code",
    "deepnote_to_be_reexecuted": false,
    "execution_millis": 78,
    "execution_start": 1709224089145,
    "source_hash": null
   },
   "outputs": [],
   "source": [
    "m = Model('gpt-4-1106-preview') "
   ]
  },
  {
   "cell_type": "markdown",
   "metadata": {
    "cell_id": "86589e6ea5774d49b7a2ac8f28a027ee",
    "deepnote_cell_type": "markdown"
   },
   "source": [
    "## Creating some contexts for our survey\n",
    "Here we identify some example contexts to use in administering our survey:"
   ]
  },
  {
   "cell_type": "code",
   "execution_count": 5,
   "metadata": {
    "cell_id": "cec90f93224241d4ab3ff1bf68f79f98",
    "deepnote_cell_type": "code",
    "deepnote_to_be_reexecuted": false,
    "execution_millis": 29,
    "execution_start": 1709224090781,
    "source_hash": null
   },
   "outputs": [],
   "source": [
    "respondent_ages = [\"You are a teenager (13-19 years old).\", \n",
    "                   \"You are college age (20-24 years old).\", \n",
    "                   \"You are a young adult (25-39 years old).\",\n",
    "                   \"You are middle-aged (40-59 years old).\", \n",
    "                   \"You are a senior citizen (60 or more years old).\"]\n",
    "\n",
    "survey_contexts = [\"\",\n",
    "                   \"You are answering an online survey.\",\n",
    "                   \"You are being interviewed by a researcher.\",\n",
    "                   \"You are participating in a focus group of peers.\",\n",
    "                   \"You are participating in a focus group of people of all ages and backgrounds.\"]"
   ]
  },
  {
   "cell_type": "markdown",
   "metadata": {
    "cell_id": "4443c38faaa541a8be80b81b01e3c365",
    "deepnote_cell_type": "markdown"
   },
   "source": [
    "## Adding contexts to question texts\n",
    "We can apply contexts by creating versions of our questions where each context is inserted directly into the question texts as a `Scenario` of the question:"
   ]
  },
  {
   "cell_type": "code",
   "execution_count": 6,
   "metadata": {
    "cell_id": "7f80c9d2d13348f081d5e23aba3eb527",
    "deepnote_cell_type": "code",
    "deepnote_to_be_reexecuted": false,
    "execution_millis": 20,
    "execution_start": 1709224092796,
    "source_hash": null
   },
   "outputs": [],
   "source": [
    "q_exercise = QuestionLinearScale(\n",
    "    question_name = \"exercise\",\n",
    "    question_text = \"How many times do you typically exercise each week? ({{age}} {{context}})\",\n",
    "    question_options = [0,1,2,3,4,5,6,7]\n",
    ")\n",
    "\n",
    "q_dessert = QuestionLinearScale(\n",
    "    question_name = \"dessert\",\n",
    "    question_text = \"How many times do you typically eat dessert each week?  ({{age}} {{context}})\",\n",
    "    question_options = [0,1,2,3,4,5,6,7]\n",
    ")\n",
    "\n",
    "survey = Survey([q_exercise, q_dessert])"
   ]
  },
  {
   "cell_type": "code",
   "execution_count": 7,
   "metadata": {
    "cell_id": "5999da10c72648879385e25f9e0024d7",
    "deepnote_cell_type": "code",
    "deepnote_to_be_reexecuted": false,
    "execution_millis": 39,
    "execution_start": 1709224094197,
    "source_hash": null
   },
   "outputs": [],
   "source": [
    "scenarios = [Scenario({\"age\":a, \"context\":c}) for a in respondent_ages for c in survey_contexts]"
   ]
  },
  {
   "cell_type": "code",
   "execution_count": 8,
   "metadata": {
    "cell_id": "9d245c41698f4454bd9e27494ddde592",
    "deepnote_cell_type": "code",
    "deepnote_to_be_reexecuted": false,
    "execution_millis": 2236,
    "execution_start": 1709224096062,
    "source_hash": null
   },
   "outputs": [],
   "source": [
    "results = survey.by(scenarios).by(m).run()"
   ]
  },
  {
   "cell_type": "code",
   "execution_count": 9,
   "metadata": {
    "cell_id": "7881fe73f2ac4ca1a20a00249b5cb4da",
    "deepnote_cell_type": "code",
    "deepnote_to_be_reexecuted": false,
    "execution_millis": 229,
    "execution_start": 1709224098301,
    "source_hash": null
   },
   "outputs": [
    {
     "data": {
      "text/html": [
       "<table id=\"myTable\" class=\"display\">\n",
       "  <thead>\n",
       "  <tr>\n",
       "    <th>scenario.age</th>\n",
       "    <th>scenario.context</th>\n",
       "    <th>answer.exercise</th>\n",
       "    <th>answer.dessert</th>\n",
       "  </tr>\n",
       "  </thead>\n",
       "</tbody>\n",
       "  <tr>\n",
       "    <td>You are a teenager (13-19 years old).</td>\n",
       "    <td>You are answering an online survey.</td>\n",
       "    <td>3</td>\n",
       "    <td>2</td>\n",
       "  </tr>\n",
       "  <tr>\n",
       "    <td>You are middle-aged (40-59 years old).</td>\n",
       "    <td>You are being interviewed by a researcher.</td>\n",
       "    <td>3</td>\n",
       "    <td>2</td>\n",
       "  </tr>\n",
       "  <tr>\n",
       "    <td>You are a senior citizen (60 or more years old).</td>\n",
       "    <td></td>\n",
       "    <td>3</td>\n",
       "    <td>1</td>\n",
       "  </tr>\n",
       "  <tr>\n",
       "    <td>You are college age (20-24 years old).</td>\n",
       "    <td>You are participating in a focus group of peers.</td>\n",
       "    <td>3</td>\n",
       "    <td>2</td>\n",
       "  </tr>\n",
       "  <tr>\n",
       "    <td>You are a young adult (25-39 years old).</td>\n",
       "    <td>You are participating in a focus group of people of all ages and backgrounds.</td>\n",
       "    <td>3</td>\n",
       "    <td>2</td>\n",
       "  </tr>\n",
       "  <tr>\n",
       "    <td>You are a young adult (25-39 years old).</td>\n",
       "    <td></td>\n",
       "    <td>3</td>\n",
       "    <td>2</td>\n",
       "  </tr>\n",
       "  <tr>\n",
       "    <td>You are a young adult (25-39 years old).</td>\n",
       "    <td>You are answering an online survey.</td>\n",
       "    <td>3</td>\n",
       "    <td>2</td>\n",
       "  </tr>\n",
       "  <tr>\n",
       "    <td>You are a teenager (13-19 years old).</td>\n",
       "    <td>You are being interviewed by a researcher.</td>\n",
       "    <td>3</td>\n",
       "    <td>2</td>\n",
       "  </tr>\n",
       "  <tr>\n",
       "    <td>You are a senior citizen (60 or more years old).</td>\n",
       "    <td>You are being interviewed by a researcher.</td>\n",
       "    <td>3</td>\n",
       "    <td>2</td>\n",
       "  </tr>\n",
       "  <tr>\n",
       "    <td>You are middle-aged (40-59 years old).</td>\n",
       "    <td>You are answering an online survey.</td>\n",
       "    <td>3</td>\n",
       "    <td>2</td>\n",
       "  </tr>\n",
       "  <tr>\n",
       "    <td>You are a young adult (25-39 years old).</td>\n",
       "    <td>You are participating in a focus group of peers.</td>\n",
       "    <td>3</td>\n",
       "    <td>2</td>\n",
       "  </tr>\n",
       "  <tr>\n",
       "    <td>You are a teenager (13-19 years old).</td>\n",
       "    <td>You are participating in a focus group of people of all ages and backgrounds.</td>\n",
       "    <td>3</td>\n",
       "    <td>2</td>\n",
       "  </tr>\n",
       "  <tr>\n",
       "    <td>You are middle-aged (40-59 years old).</td>\n",
       "    <td>You are participating in a focus group of people of all ages and backgrounds.</td>\n",
       "    <td>3</td>\n",
       "    <td>2</td>\n",
       "  </tr>\n",
       "  <tr>\n",
       "    <td>You are a teenager (13-19 years old).</td>\n",
       "    <td></td>\n",
       "    <td>3</td>\n",
       "    <td>3</td>\n",
       "  </tr>\n",
       "  <tr>\n",
       "    <td>You are college age (20-24 years old).</td>\n",
       "    <td>You are being interviewed by a researcher.</td>\n",
       "    <td>3</td>\n",
       "    <td>2</td>\n",
       "  </tr>\n",
       "  <tr>\n",
       "    <td>You are a senior citizen (60 or more years old).</td>\n",
       "    <td>You are participating in a focus group of peers.</td>\n",
       "    <td>3</td>\n",
       "    <td>2</td>\n",
       "  </tr>\n",
       "  <tr>\n",
       "    <td>You are a senior citizen (60 or more years old).</td>\n",
       "    <td>You are answering an online survey.</td>\n",
       "    <td>3</td>\n",
       "    <td>1</td>\n",
       "  </tr>\n",
       "  <tr>\n",
       "    <td>You are a senior citizen (60 or more years old).</td>\n",
       "    <td>You are participating in a focus group of people of all ages and backgrounds.</td>\n",
       "    <td>3</td>\n",
       "    <td>2</td>\n",
       "  </tr>\n",
       "  <tr>\n",
       "    <td>You are college age (20-24 years old).</td>\n",
       "    <td>You are participating in a focus group of people of all ages and backgrounds.</td>\n",
       "    <td>3</td>\n",
       "    <td>2</td>\n",
       "  </tr>\n",
       "  <tr>\n",
       "    <td>You are middle-aged (40-59 years old).</td>\n",
       "    <td>You are participating in a focus group of peers.</td>\n",
       "    <td>3</td>\n",
       "    <td>2</td>\n",
       "  </tr>\n",
       "  <tr>\n",
       "    <td>You are college age (20-24 years old).</td>\n",
       "    <td>You are answering an online survey.</td>\n",
       "    <td>3</td>\n",
       "    <td>2</td>\n",
       "  </tr>\n",
       "  <tr>\n",
       "    <td>You are college age (20-24 years old).</td>\n",
       "    <td></td>\n",
       "    <td>3</td>\n",
       "    <td>2</td>\n",
       "  </tr>\n",
       "  <tr>\n",
       "    <td>You are a teenager (13-19 years old).</td>\n",
       "    <td>You are participating in a focus group of peers.</td>\n",
       "    <td>3</td>\n",
       "    <td>2</td>\n",
       "  </tr>\n",
       "  <tr>\n",
       "    <td>You are a young adult (25-39 years old).</td>\n",
       "    <td>You are being interviewed by a researcher.</td>\n",
       "    <td>3</td>\n",
       "    <td>2</td>\n",
       "  </tr>\n",
       "  <tr>\n",
       "    <td>You are middle-aged (40-59 years old).</td>\n",
       "    <td></td>\n",
       "    <td>3</td>\n",
       "    <td>2</td>\n",
       "  </tr>\n",
       "</tbody>\n",
       "</table>"
      ],
      "text/plain": [
       "<IPython.core.display.HTML object>"
      ]
     },
     "metadata": {},
     "output_type": "display_data"
    }
   ],
   "source": [
    "results.select(\"age\", \"context\", \"exercise\", \"dessert\").print()"
   ]
  },
  {
   "cell_type": "markdown",
   "metadata": {
    "cell_id": "218ad5e67cd14fc68fcbb3da47ef6506",
    "deepnote_cell_type": "markdown"
   },
   "source": [
    "## Adding context to agent traits\n",
    "Another method is to specify agent traits and survey contexts via `Agent` traits instead of the question texts:"
   ]
  },
  {
   "cell_type": "code",
   "execution_count": 10,
   "metadata": {
    "cell_id": "bc3480cd7928461681de4965c6a8de37",
    "deepnote_cell_type": "code",
    "deepnote_to_be_reexecuted": false,
    "execution_millis": 85,
    "execution_start": 1709224100813,
    "source_hash": null
   },
   "outputs": [],
   "source": [
    "q_exercise = QuestionLinearScale(\n",
    "    question_name = \"exercise\",\n",
    "    question_text = \"How many times do you exercise each week?\",\n",
    "    question_options = [0,1,2,3,4,5,6,7]\n",
    ")\n",
    "\n",
    "q_dessert = QuestionLinearScale(\n",
    "    question_name = \"dessert\",\n",
    "    question_text = \"How many times do you eat dessert each week?\",\n",
    "    question_options = [0,1,2,3,4,5,6,7]\n",
    ")\n",
    "\n",
    "survey = Survey([q_exercise, q_dessert])"
   ]
  },
  {
   "cell_type": "code",
   "execution_count": 11,
   "metadata": {
    "cell_id": "142f436f17ae4da88a6f1f8e91beebc8",
    "deepnote_cell_type": "code",
    "deepnote_to_be_reexecuted": false,
    "execution_millis": 63,
    "execution_start": 1709224102971,
    "source_hash": null
   },
   "outputs": [],
   "source": [
    "agents = [Agent(traits = {\"age\":a, \"context\":c}) for a in respondent_ages for c in survey_contexts]"
   ]
  },
  {
   "cell_type": "code",
   "execution_count": 12,
   "metadata": {
    "cell_id": "21f3fef6d52f467c917fd67249d73e90",
    "deepnote_cell_type": "code",
    "deepnote_to_be_reexecuted": false,
    "execution_millis": 29277,
    "execution_start": 1709224106119,
    "source_hash": null
   },
   "outputs": [],
   "source": [
    "results = survey.by(agents).by(m).run()"
   ]
  },
  {
   "cell_type": "code",
   "execution_count": 13,
   "metadata": {
    "cell_id": "2032f110cafe42b4a3a9525b16fc9542",
    "deepnote_cell_type": "code",
    "deepnote_to_be_reexecuted": false,
    "execution_millis": 228,
    "execution_start": 1709224145066,
    "source_hash": null
   },
   "outputs": [
    {
     "data": {
      "text/html": [
       "<table id=\"myTable\" class=\"display\">\n",
       "  <thead>\n",
       "  <tr>\n",
       "    <th>agent.age</th>\n",
       "    <th>agent.context</th>\n",
       "    <th>answer.exercise</th>\n",
       "    <th>answer.dessert</th>\n",
       "  </tr>\n",
       "  </thead>\n",
       "</tbody>\n",
       "  <tr>\n",
       "    <td>You are middle-aged (40-59 years old).</td>\n",
       "    <td>You are answering an online survey.</td>\n",
       "    <td>3</td>\n",
       "    <td>2</td>\n",
       "  </tr>\n",
       "  <tr>\n",
       "    <td>You are college age (20-24 years old).</td>\n",
       "    <td></td>\n",
       "    <td>3</td>\n",
       "    <td>2</td>\n",
       "  </tr>\n",
       "  <tr>\n",
       "    <td>You are a teenager (13-19 years old).</td>\n",
       "    <td>You are answering an online survey.</td>\n",
       "    <td>2</td>\n",
       "    <td>2</td>\n",
       "  </tr>\n",
       "  <tr>\n",
       "    <td>You are a teenager (13-19 years old).</td>\n",
       "    <td></td>\n",
       "    <td>3</td>\n",
       "    <td>2</td>\n",
       "  </tr>\n",
       "  <tr>\n",
       "    <td>You are a senior citizen (60 or more years old).</td>\n",
       "    <td>You are being interviewed by a researcher.</td>\n",
       "    <td>3</td>\n",
       "    <td>2</td>\n",
       "  </tr>\n",
       "  <tr>\n",
       "    <td>You are a young adult (25-39 years old).</td>\n",
       "    <td>You are participating in a focus group of peers.</td>\n",
       "    <td>3</td>\n",
       "    <td>2</td>\n",
       "  </tr>\n",
       "  <tr>\n",
       "    <td>You are a teenager (13-19 years old).</td>\n",
       "    <td>You are participating in a focus group of people of all ages and backgrounds.</td>\n",
       "    <td>4</td>\n",
       "    <td>2</td>\n",
       "  </tr>\n",
       "  <tr>\n",
       "    <td>You are a teenager (13-19 years old).</td>\n",
       "    <td>You are participating in a focus group of peers.</td>\n",
       "    <td>3</td>\n",
       "    <td>2</td>\n",
       "  </tr>\n",
       "  <tr>\n",
       "    <td>You are a senior citizen (60 or more years old).</td>\n",
       "    <td>You are participating in a focus group of people of all ages and backgrounds.</td>\n",
       "    <td>3</td>\n",
       "    <td>1</td>\n",
       "  </tr>\n",
       "  <tr>\n",
       "    <td>You are middle-aged (40-59 years old).</td>\n",
       "    <td></td>\n",
       "    <td>3</td>\n",
       "    <td>1</td>\n",
       "  </tr>\n",
       "  <tr>\n",
       "    <td>You are middle-aged (40-59 years old).</td>\n",
       "    <td>You are participating in a focus group of people of all ages and backgrounds.</td>\n",
       "    <td>3</td>\n",
       "    <td>2</td>\n",
       "  </tr>\n",
       "  <tr>\n",
       "    <td>You are a young adult (25-39 years old).</td>\n",
       "    <td>You are answering an online survey.</td>\n",
       "    <td>3</td>\n",
       "    <td>2</td>\n",
       "  </tr>\n",
       "  <tr>\n",
       "    <td>You are a young adult (25-39 years old).</td>\n",
       "    <td>You are participating in a focus group of people of all ages and backgrounds.</td>\n",
       "    <td>3</td>\n",
       "    <td>2</td>\n",
       "  </tr>\n",
       "  <tr>\n",
       "    <td>You are a senior citizen (60 or more years old).</td>\n",
       "    <td>You are answering an online survey.</td>\n",
       "    <td>3</td>\n",
       "    <td>1</td>\n",
       "  </tr>\n",
       "  <tr>\n",
       "    <td>You are a young adult (25-39 years old).</td>\n",
       "    <td>You are being interviewed by a researcher.</td>\n",
       "    <td>3</td>\n",
       "    <td>2</td>\n",
       "  </tr>\n",
       "  <tr>\n",
       "    <td>You are middle-aged (40-59 years old).</td>\n",
       "    <td>You are being interviewed by a researcher.</td>\n",
       "    <td>3</td>\n",
       "    <td>2</td>\n",
       "  </tr>\n",
       "  <tr>\n",
       "    <td>You are a young adult (25-39 years old).</td>\n",
       "    <td></td>\n",
       "    <td>3</td>\n",
       "    <td>1</td>\n",
       "  </tr>\n",
       "  <tr>\n",
       "    <td>You are college age (20-24 years old).</td>\n",
       "    <td>You are being interviewed by a researcher.</td>\n",
       "    <td>3</td>\n",
       "    <td>2</td>\n",
       "  </tr>\n",
       "  <tr>\n",
       "    <td>You are a senior citizen (60 or more years old).</td>\n",
       "    <td></td>\n",
       "    <td>3</td>\n",
       "    <td>1</td>\n",
       "  </tr>\n",
       "  <tr>\n",
       "    <td>You are college age (20-24 years old).</td>\n",
       "    <td>You are participating in a focus group of peers.</td>\n",
       "    <td>3</td>\n",
       "    <td>2</td>\n",
       "  </tr>\n",
       "  <tr>\n",
       "    <td>You are college age (20-24 years old).</td>\n",
       "    <td>You are answering an online survey.</td>\n",
       "    <td>3</td>\n",
       "    <td>2</td>\n",
       "  </tr>\n",
       "  <tr>\n",
       "    <td>You are middle-aged (40-59 years old).</td>\n",
       "    <td>You are participating in a focus group of peers.</td>\n",
       "    <td>3</td>\n",
       "    <td>1</td>\n",
       "  </tr>\n",
       "  <tr>\n",
       "    <td>You are a teenager (13-19 years old).</td>\n",
       "    <td>You are being interviewed by a researcher.</td>\n",
       "    <td>4</td>\n",
       "    <td>2</td>\n",
       "  </tr>\n",
       "  <tr>\n",
       "    <td>You are a senior citizen (60 or more years old).</td>\n",
       "    <td>You are participating in a focus group of peers.</td>\n",
       "    <td>3</td>\n",
       "    <td>1</td>\n",
       "  </tr>\n",
       "  <tr>\n",
       "    <td>You are college age (20-24 years old).</td>\n",
       "    <td>You are participating in a focus group of people of all ages and backgrounds.</td>\n",
       "    <td>3</td>\n",
       "    <td>2</td>\n",
       "  </tr>\n",
       "</tbody>\n",
       "</table>"
      ],
      "text/plain": [
       "<IPython.core.display.HTML object>"
      ]
     },
     "metadata": {},
     "output_type": "display_data"
    }
   ],
   "source": [
    "results.select(\"age\", \"context\", \"exercise\", \"dessert\").print()"
   ]
  },
  {
   "cell_type": "markdown",
   "metadata": {
    "cell_id": "70bc578bf4b0463fb302da5ff47a795e",
    "deepnote_cell_type": "markdown"
   },
   "source": [
    "## Adding contexts to question texts and agent traits\n",
    "Here we use both `Agent` traits and `Scenario` contexts in the question texts:"
   ]
  },
  {
   "cell_type": "code",
   "execution_count": 14,
   "metadata": {
    "cell_id": "4a8cce9fc0964847b2268b3c8d517015",
    "deepnote_cell_type": "code",
    "deepnote_to_be_reexecuted": false,
    "execution_millis": 103,
    "execution_start": 1709224176147,
    "source_hash": null
   },
   "outputs": [],
   "source": [
    "q_exercise = QuestionLinearScale(\n",
    "    question_name = \"exercise\",\n",
    "    question_text = \"How many times do you exercise each week? ({{context}})\",\n",
    "    question_options = [0,1,2,3,4,5,6,7]\n",
    ")\n",
    "\n",
    "q_dessert = QuestionLinearScale(\n",
    "    question_name = \"dessert\",\n",
    "    question_text = \"How many times do you eat dessert each week? ({{context}})\",\n",
    "    question_options = [0,1,2,3,4,5,6,7]\n",
    ")\n",
    "\n",
    "survey = Survey([q_exercise, q_dessert])"
   ]
  },
  {
   "cell_type": "code",
   "execution_count": 15,
   "metadata": {
    "cell_id": "7da20cdfe36b4fb6a91fd09f5da8dbc4",
    "deepnote_cell_type": "code",
    "deepnote_to_be_reexecuted": false,
    "execution_millis": 78,
    "execution_start": 1709224185077,
    "source_hash": null
   },
   "outputs": [],
   "source": [
    "scenarios = [Scenario({\"context\":c}) for c in survey_contexts]"
   ]
  },
  {
   "cell_type": "code",
   "execution_count": 16,
   "metadata": {
    "cell_id": "7bce20e9082c46ce8a27b5c81dea00ae",
    "deepnote_cell_type": "code",
    "deepnote_to_be_reexecuted": false,
    "execution_millis": 71,
    "execution_start": 1709224194297,
    "source_hash": null
   },
   "outputs": [],
   "source": [
    "agents = [Agent(traits = {\"age\":a}) for a in respondent_ages]"
   ]
  },
  {
   "cell_type": "code",
   "execution_count": 17,
   "metadata": {
    "cell_id": "b60b1a9eff5e4e6e9a78d40b91a0f48f",
    "deepnote_cell_type": "code",
    "deepnote_to_be_reexecuted": false,
    "execution_millis": 40017,
    "execution_start": 1709224197982,
    "source_hash": null
   },
   "outputs": [],
   "source": [
    "results = survey.by(scenarios).by(agents).by(m).run()"
   ]
  },
  {
   "cell_type": "code",
   "execution_count": 18,
   "metadata": {
    "cell_id": "307f53ab447f4a0e9dd56046694e07d2",
    "deepnote_cell_type": "code",
    "deepnote_to_be_reexecuted": false,
    "execution_millis": 297,
    "execution_start": 1709224267970,
    "source_hash": null
   },
   "outputs": [
    {
     "data": {
      "text/html": [
       "<table id=\"myTable\" class=\"display\">\n",
       "  <thead>\n",
       "  <tr>\n",
       "    <th>agent.age</th>\n",
       "    <th>scenario.context</th>\n",
       "    <th>answer.exercise</th>\n",
       "    <th>answer.dessert</th>\n",
       "  </tr>\n",
       "  </thead>\n",
       "</tbody>\n",
       "  <tr>\n",
       "    <td>You are middle-aged (40-59 years old).</td>\n",
       "    <td>You are being interviewed by a researcher.</td>\n",
       "    <td>3</td>\n",
       "    <td>1</td>\n",
       "  </tr>\n",
       "  <tr>\n",
       "    <td>You are a senior citizen (60 or more years old).</td>\n",
       "    <td>You are answering an online survey.</td>\n",
       "    <td>3</td>\n",
       "    <td>2</td>\n",
       "  </tr>\n",
       "  <tr>\n",
       "    <td>You are a teenager (13-19 years old).</td>\n",
       "    <td>You are being interviewed by a researcher.</td>\n",
       "    <td>4</td>\n",
       "    <td>2</td>\n",
       "  </tr>\n",
       "  <tr>\n",
       "    <td>You are a young adult (25-39 years old).</td>\n",
       "    <td>You are being interviewed by a researcher.</td>\n",
       "    <td>3</td>\n",
       "    <td>2</td>\n",
       "  </tr>\n",
       "  <tr>\n",
       "    <td>You are middle-aged (40-59 years old).</td>\n",
       "    <td>You are answering an online survey.</td>\n",
       "    <td>3</td>\n",
       "    <td>1</td>\n",
       "  </tr>\n",
       "  <tr>\n",
       "    <td>You are middle-aged (40-59 years old).</td>\n",
       "    <td></td>\n",
       "    <td>3</td>\n",
       "    <td>1</td>\n",
       "  </tr>\n",
       "  <tr>\n",
       "    <td>You are a teenager (13-19 years old).</td>\n",
       "    <td>You are participating in a focus group of people of all ages and backgrounds.</td>\n",
       "    <td>2</td>\n",
       "    <td>3</td>\n",
       "  </tr>\n",
       "  <tr>\n",
       "    <td>You are a teenager (13-19 years old).</td>\n",
       "    <td>You are answering an online survey.</td>\n",
       "    <td>3</td>\n",
       "    <td>3</td>\n",
       "  </tr>\n",
       "  <tr>\n",
       "    <td>You are a teenager (13-19 years old).</td>\n",
       "    <td>You are participating in a focus group of peers.</td>\n",
       "    <td>3</td>\n",
       "    <td>2</td>\n",
       "  </tr>\n",
       "  <tr>\n",
       "    <td>You are a teenager (13-19 years old).</td>\n",
       "    <td></td>\n",
       "    <td>3</td>\n",
       "    <td>2</td>\n",
       "  </tr>\n",
       "  <tr>\n",
       "    <td>You are college age (20-24 years old).</td>\n",
       "    <td></td>\n",
       "    <td>3</td>\n",
       "    <td>2</td>\n",
       "  </tr>\n",
       "  <tr>\n",
       "    <td>You are a senior citizen (60 or more years old).</td>\n",
       "    <td>You are participating in a focus group of peers.</td>\n",
       "    <td>3</td>\n",
       "    <td>2</td>\n",
       "  </tr>\n",
       "  <tr>\n",
       "    <td>You are a senior citizen (60 or more years old).</td>\n",
       "    <td>You are being interviewed by a researcher.</td>\n",
       "    <td>3</td>\n",
       "    <td>1</td>\n",
       "  </tr>\n",
       "  <tr>\n",
       "    <td>You are a senior citizen (60 or more years old).</td>\n",
       "    <td>You are participating in a focus group of people of all ages and backgrounds.</td>\n",
       "    <td>3</td>\n",
       "    <td>1</td>\n",
       "  </tr>\n",
       "  <tr>\n",
       "    <td>You are college age (20-24 years old).</td>\n",
       "    <td>You are participating in a focus group of people of all ages and backgrounds.</td>\n",
       "    <td>3</td>\n",
       "    <td>2</td>\n",
       "  </tr>\n",
       "  <tr>\n",
       "    <td>You are middle-aged (40-59 years old).</td>\n",
       "    <td>You are participating in a focus group of people of all ages and backgrounds.</td>\n",
       "    <td>2</td>\n",
       "    <td>2</td>\n",
       "  </tr>\n",
       "  <tr>\n",
       "    <td>You are middle-aged (40-59 years old).</td>\n",
       "    <td>You are participating in a focus group of peers.</td>\n",
       "    <td>3</td>\n",
       "    <td>2</td>\n",
       "  </tr>\n",
       "  <tr>\n",
       "    <td>You are college age (20-24 years old).</td>\n",
       "    <td>You are being interviewed by a researcher.</td>\n",
       "    <td>3</td>\n",
       "    <td>1</td>\n",
       "  </tr>\n",
       "  <tr>\n",
       "    <td>You are a young adult (25-39 years old).</td>\n",
       "    <td></td>\n",
       "    <td>3</td>\n",
       "    <td>2</td>\n",
       "  </tr>\n",
       "  <tr>\n",
       "    <td>You are college age (20-24 years old).</td>\n",
       "    <td>You are participating in a focus group of peers.</td>\n",
       "    <td>3</td>\n",
       "    <td>2</td>\n",
       "  </tr>\n",
       "  <tr>\n",
       "    <td>You are college age (20-24 years old).</td>\n",
       "    <td>You are answering an online survey.</td>\n",
       "    <td>3</td>\n",
       "    <td>2</td>\n",
       "  </tr>\n",
       "  <tr>\n",
       "    <td>You are a young adult (25-39 years old).</td>\n",
       "    <td>You are participating in a focus group of people of all ages and backgrounds.</td>\n",
       "    <td>3</td>\n",
       "    <td>2</td>\n",
       "  </tr>\n",
       "  <tr>\n",
       "    <td>You are a young adult (25-39 years old).</td>\n",
       "    <td>You are participating in a focus group of peers.</td>\n",
       "    <td>3</td>\n",
       "    <td>2</td>\n",
       "  </tr>\n",
       "  <tr>\n",
       "    <td>You are a young adult (25-39 years old).</td>\n",
       "    <td>You are answering an online survey.</td>\n",
       "    <td>3</td>\n",
       "    <td>1</td>\n",
       "  </tr>\n",
       "  <tr>\n",
       "    <td>You are a senior citizen (60 or more years old).</td>\n",
       "    <td></td>\n",
       "    <td>3</td>\n",
       "    <td>1</td>\n",
       "  </tr>\n",
       "</tbody>\n",
       "</table>"
      ],
      "text/plain": [
       "<IPython.core.display.HTML object>"
      ]
     },
     "metadata": {},
     "output_type": "display_data"
    }
   ],
   "source": [
    "results.select(\"age\", \"context\", \"exercise\", \"dessert\").print()"
   ]
  },
  {
   "cell_type": "markdown",
   "metadata": {
    "cell_id": "be5a9444ac8441758180441e29f2d24d",
    "deepnote_cell_type": "markdown"
   },
   "source": [
    "## Compare prompts\n",
    "We can compare the prompts that we used which are accessible as fields of the results:"
   ]
  },
  {
   "cell_type": "code",
   "execution_count": 19,
   "metadata": {
    "cell_id": "6faf620e0fee44b8b4617b31e7b86d4a",
    "deepnote_cell_type": "code",
    "deepnote_to_be_reexecuted": false,
    "execution_millis": 19,
    "execution_start": 1709224318690,
    "source_hash": null
   },
   "outputs": [
    {
     "data": {
      "text/plain": [
       "['agent.age',\n",
       " 'agent.agent_name',\n",
       " 'answer.dessert',\n",
       " 'answer.dessert_comment',\n",
       " 'answer.exercise',\n",
       " 'answer.exercise_comment',\n",
       " 'iteration.iteration',\n",
       " 'model.frequency_penalty',\n",
       " 'model.logprobs',\n",
       " 'model.max_tokens',\n",
       " 'model.model',\n",
       " 'model.presence_penalty',\n",
       " 'model.temperature',\n",
       " 'model.top_logprobs',\n",
       " 'model.top_p',\n",
       " 'prompt.dessert_system_prompt',\n",
       " 'prompt.dessert_user_prompt',\n",
       " 'prompt.exercise_system_prompt',\n",
       " 'prompt.exercise_user_prompt',\n",
       " 'raw_model_response.dessert_raw_model_response',\n",
       " 'raw_model_response.exercise_raw_model_response',\n",
       " 'scenario.context']"
      ]
     },
     "execution_count": 19,
     "metadata": {},
     "output_type": "execute_result"
    }
   ],
   "source": [
    "results.columns"
   ]
  },
  {
   "cell_type": "code",
   "execution_count": 20,
   "metadata": {
    "allow_embed": false,
    "cell_id": "c5030806746d444c93a64e5fc404d1b8",
    "deepnote_cell_type": "code",
    "deepnote_to_be_reexecuted": false,
    "execution_millis": 129,
    "execution_start": 1709224342861,
    "source_hash": null
   },
   "outputs": [
    {
     "data": {
      "text/html": [
       "<table id=\"myTable\" class=\"display\">\n",
       "  <thead>\n",
       "  <tr>\n",
       "    <th>prompt.dessert_system_prompt</th>\n",
       "    <th>prompt.dessert_user_prompt</th>\n",
       "    <th>prompt.exercise_user_prompt</th>\n",
       "    <th>prompt.exercise_system_prompt</th>\n",
       "  </tr>\n",
       "  </thead>\n",
       "</tbody>\n",
       "  <tr>\n",
       "    <td>{'text': \"You are answering questions as if you were a human. Do not break character. You are an agent with the following persona:\\n{'age': 'You are middle-aged (40-59 years old).'}\", 'class_name': 'AgentInstruction'}</td>\n",
       "    <td>{'text': 'You are being asked the following question: How many times do you eat dessert each week? (You are being interviewed by a researcher.)\\nThe options are\\n\\n0: 0\\n\\n1: 1\\n\\n2: 2\\n\\n3: 3\\n\\n4: 4\\n\\n5: 5\\n\\n6: 6\\n\\n7: 7\\n\\nReturn a valid JSON formatted like this, selecting only the code of the option (codes start at 0):\\n{\"answer\": <put answer code here>, \"comment\": \"<put explanation here>\"}\\nOnly 1 option may be selected.', 'class_name': 'LinearScale'}</td>\n",
       "    <td>{'text': 'You are being asked the following question: How many times do you exercise each week? (You are being interviewed by a researcher.)\\nThe options are\\n\\n0: 0\\n\\n1: 1\\n\\n2: 2\\n\\n3: 3\\n\\n4: 4\\n\\n5: 5\\n\\n6: 6\\n\\n7: 7\\n\\nReturn a valid JSON formatted like this, selecting only the code of the option (codes start at 0):\\n{\"answer\": <put answer code here>, \"comment\": \"<put explanation here>\"}\\nOnly 1 option may be selected.', 'class_name': 'LinearScale'}</td>\n",
       "    <td>{'text': \"You are answering questions as if you were a human. Do not break character. You are an agent with the following persona:\\n{'age': 'You are middle-aged (40-59 years old).'}\", 'class_name': 'AgentInstruction'}</td>\n",
       "  </tr>\n",
       "  <tr>\n",
       "    <td>{'text': \"You are answering questions as if you were a human. Do not break character. You are an agent with the following persona:\\n{'age': 'You are a senior citizen (60 or more years old).'}\", 'class_name': 'AgentInstruction'}</td>\n",
       "    <td>{'text': 'You are being asked the following question: How many times do you eat dessert each week? (You are answering an online survey.)\\nThe options are\\n\\n0: 0\\n\\n1: 1\\n\\n2: 2\\n\\n3: 3\\n\\n4: 4\\n\\n5: 5\\n\\n6: 6\\n\\n7: 7\\n\\nReturn a valid JSON formatted like this, selecting only the code of the option (codes start at 0):\\n{\"answer\": <put answer code here>, \"comment\": \"<put explanation here>\"}\\nOnly 1 option may be selected.', 'class_name': 'LinearScale'}</td>\n",
       "    <td>{'text': 'You are being asked the following question: How many times do you exercise each week? (You are answering an online survey.)\\nThe options are\\n\\n0: 0\\n\\n1: 1\\n\\n2: 2\\n\\n3: 3\\n\\n4: 4\\n\\n5: 5\\n\\n6: 6\\n\\n7: 7\\n\\nReturn a valid JSON formatted like this, selecting only the code of the option (codes start at 0):\\n{\"answer\": <put answer code here>, \"comment\": \"<put explanation here>\"}\\nOnly 1 option may be selected.', 'class_name': 'LinearScale'}</td>\n",
       "    <td>{'text': \"You are answering questions as if you were a human. Do not break character. You are an agent with the following persona:\\n{'age': 'You are a senior citizen (60 or more years old).'}\", 'class_name': 'AgentInstruction'}</td>\n",
       "  </tr>\n",
       "  <tr>\n",
       "    <td>{'text': \"You are answering questions as if you were a human. Do not break character. You are an agent with the following persona:\\n{'age': 'You are a teenager (13-19 years old).'}\", 'class_name': 'AgentInstruction'}</td>\n",
       "    <td>{'text': 'You are being asked the following question: How many times do you eat dessert each week? (You are being interviewed by a researcher.)\\nThe options are\\n\\n0: 0\\n\\n1: 1\\n\\n2: 2\\n\\n3: 3\\n\\n4: 4\\n\\n5: 5\\n\\n6: 6\\n\\n7: 7\\n\\nReturn a valid JSON formatted like this, selecting only the code of the option (codes start at 0):\\n{\"answer\": <put answer code here>, \"comment\": \"<put explanation here>\"}\\nOnly 1 option may be selected.', 'class_name': 'LinearScale'}</td>\n",
       "    <td>{'text': 'You are being asked the following question: How many times do you exercise each week? (You are being interviewed by a researcher.)\\nThe options are\\n\\n0: 0\\n\\n1: 1\\n\\n2: 2\\n\\n3: 3\\n\\n4: 4\\n\\n5: 5\\n\\n6: 6\\n\\n7: 7\\n\\nReturn a valid JSON formatted like this, selecting only the code of the option (codes start at 0):\\n{\"answer\": <put answer code here>, \"comment\": \"<put explanation here>\"}\\nOnly 1 option may be selected.', 'class_name': 'LinearScale'}</td>\n",
       "    <td>{'text': \"You are answering questions as if you were a human. Do not break character. You are an agent with the following persona:\\n{'age': 'You are a teenager (13-19 years old).'}\", 'class_name': 'AgentInstruction'}</td>\n",
       "  </tr>\n",
       "  <tr>\n",
       "    <td>{'text': \"You are answering questions as if you were a human. Do not break character. You are an agent with the following persona:\\n{'age': 'You are a young adult (25-39 years old).'}\", 'class_name': 'AgentInstruction'}</td>\n",
       "    <td>{'text': 'You are being asked the following question: How many times do you eat dessert each week? (You are being interviewed by a researcher.)\\nThe options are\\n\\n0: 0\\n\\n1: 1\\n\\n2: 2\\n\\n3: 3\\n\\n4: 4\\n\\n5: 5\\n\\n6: 6\\n\\n7: 7\\n\\nReturn a valid JSON formatted like this, selecting only the code of the option (codes start at 0):\\n{\"answer\": <put answer code here>, \"comment\": \"<put explanation here>\"}\\nOnly 1 option may be selected.', 'class_name': 'LinearScale'}</td>\n",
       "    <td>{'text': 'You are being asked the following question: How many times do you exercise each week? (You are being interviewed by a researcher.)\\nThe options are\\n\\n0: 0\\n\\n1: 1\\n\\n2: 2\\n\\n3: 3\\n\\n4: 4\\n\\n5: 5\\n\\n6: 6\\n\\n7: 7\\n\\nReturn a valid JSON formatted like this, selecting only the code of the option (codes start at 0):\\n{\"answer\": <put answer code here>, \"comment\": \"<put explanation here>\"}\\nOnly 1 option may be selected.', 'class_name': 'LinearScale'}</td>\n",
       "    <td>{'text': \"You are answering questions as if you were a human. Do not break character. You are an agent with the following persona:\\n{'age': 'You are a young adult (25-39 years old).'}\", 'class_name': 'AgentInstruction'}</td>\n",
       "  </tr>\n",
       "  <tr>\n",
       "    <td>{'text': \"You are answering questions as if you were a human. Do not break character. You are an agent with the following persona:\\n{'age': 'You are middle-aged (40-59 years old).'}\", 'class_name': 'AgentInstruction'}</td>\n",
       "    <td>{'text': 'You are being asked the following question: How many times do you eat dessert each week? (You are answering an online survey.)\\nThe options are\\n\\n0: 0\\n\\n1: 1\\n\\n2: 2\\n\\n3: 3\\n\\n4: 4\\n\\n5: 5\\n\\n6: 6\\n\\n7: 7\\n\\nReturn a valid JSON formatted like this, selecting only the code of the option (codes start at 0):\\n{\"answer\": <put answer code here>, \"comment\": \"<put explanation here>\"}\\nOnly 1 option may be selected.', 'class_name': 'LinearScale'}</td>\n",
       "    <td>{'text': 'You are being asked the following question: How many times do you exercise each week? (You are answering an online survey.)\\nThe options are\\n\\n0: 0\\n\\n1: 1\\n\\n2: 2\\n\\n3: 3\\n\\n4: 4\\n\\n5: 5\\n\\n6: 6\\n\\n7: 7\\n\\nReturn a valid JSON formatted like this, selecting only the code of the option (codes start at 0):\\n{\"answer\": <put answer code here>, \"comment\": \"<put explanation here>\"}\\nOnly 1 option may be selected.', 'class_name': 'LinearScale'}</td>\n",
       "    <td>{'text': \"You are answering questions as if you were a human. Do not break character. You are an agent with the following persona:\\n{'age': 'You are middle-aged (40-59 years old).'}\", 'class_name': 'AgentInstruction'}</td>\n",
       "  </tr>\n",
       "  <tr>\n",
       "    <td>{'text': \"You are answering questions as if you were a human. Do not break character. You are an agent with the following persona:\\n{'age': 'You are middle-aged (40-59 years old).'}\", 'class_name': 'AgentInstruction'}</td>\n",
       "    <td>{'text': 'You are being asked the following question: How many times do you eat dessert each week? ()\\nThe options are\\n\\n0: 0\\n\\n1: 1\\n\\n2: 2\\n\\n3: 3\\n\\n4: 4\\n\\n5: 5\\n\\n6: 6\\n\\n7: 7\\n\\nReturn a valid JSON formatted like this, selecting only the code of the option (codes start at 0):\\n{\"answer\": <put answer code here>, \"comment\": \"<put explanation here>\"}\\nOnly 1 option may be selected.', 'class_name': 'LinearScale'}</td>\n",
       "    <td>{'text': 'You are being asked the following question: How many times do you exercise each week? ()\\nThe options are\\n\\n0: 0\\n\\n1: 1\\n\\n2: 2\\n\\n3: 3\\n\\n4: 4\\n\\n5: 5\\n\\n6: 6\\n\\n7: 7\\n\\nReturn a valid JSON formatted like this, selecting only the code of the option (codes start at 0):\\n{\"answer\": <put answer code here>, \"comment\": \"<put explanation here>\"}\\nOnly 1 option may be selected.', 'class_name': 'LinearScale'}</td>\n",
       "    <td>{'text': \"You are answering questions as if you were a human. Do not break character. You are an agent with the following persona:\\n{'age': 'You are middle-aged (40-59 years old).'}\", 'class_name': 'AgentInstruction'}</td>\n",
       "  </tr>\n",
       "  <tr>\n",
       "    <td>{'text': \"You are answering questions as if you were a human. Do not break character. You are an agent with the following persona:\\n{'age': 'You are a teenager (13-19 years old).'}\", 'class_name': 'AgentInstruction'}</td>\n",
       "    <td>{'text': 'You are being asked the following question: How many times do you eat dessert each week? (You are participating in a focus group of people of all ages and backgrounds.)\\nThe options are\\n\\n0: 0\\n\\n1: 1\\n\\n2: 2\\n\\n3: 3\\n\\n4: 4\\n\\n5: 5\\n\\n6: 6\\n\\n7: 7\\n\\nReturn a valid JSON formatted like this, selecting only the code of the option (codes start at 0):\\n{\"answer\": <put answer code here>, \"comment\": \"<put explanation here>\"}\\nOnly 1 option may be selected.', 'class_name': 'LinearScale'}</td>\n",
       "    <td>{'text': 'You are being asked the following question: How many times do you exercise each week? (You are participating in a focus group of people of all ages and backgrounds.)\\nThe options are\\n\\n0: 0\\n\\n1: 1\\n\\n2: 2\\n\\n3: 3\\n\\n4: 4\\n\\n5: 5\\n\\n6: 6\\n\\n7: 7\\n\\nReturn a valid JSON formatted like this, selecting only the code of the option (codes start at 0):\\n{\"answer\": <put answer code here>, \"comment\": \"<put explanation here>\"}\\nOnly 1 option may be selected.', 'class_name': 'LinearScale'}</td>\n",
       "    <td>{'text': \"You are answering questions as if you were a human. Do not break character. You are an agent with the following persona:\\n{'age': 'You are a teenager (13-19 years old).'}\", 'class_name': 'AgentInstruction'}</td>\n",
       "  </tr>\n",
       "  <tr>\n",
       "    <td>{'text': \"You are answering questions as if you were a human. Do not break character. You are an agent with the following persona:\\n{'age': 'You are a teenager (13-19 years old).'}\", 'class_name': 'AgentInstruction'}</td>\n",
       "    <td>{'text': 'You are being asked the following question: How many times do you eat dessert each week? (You are answering an online survey.)\\nThe options are\\n\\n0: 0\\n\\n1: 1\\n\\n2: 2\\n\\n3: 3\\n\\n4: 4\\n\\n5: 5\\n\\n6: 6\\n\\n7: 7\\n\\nReturn a valid JSON formatted like this, selecting only the code of the option (codes start at 0):\\n{\"answer\": <put answer code here>, \"comment\": \"<put explanation here>\"}\\nOnly 1 option may be selected.', 'class_name': 'LinearScale'}</td>\n",
       "    <td>{'text': 'You are being asked the following question: How many times do you exercise each week? (You are answering an online survey.)\\nThe options are\\n\\n0: 0\\n\\n1: 1\\n\\n2: 2\\n\\n3: 3\\n\\n4: 4\\n\\n5: 5\\n\\n6: 6\\n\\n7: 7\\n\\nReturn a valid JSON formatted like this, selecting only the code of the option (codes start at 0):\\n{\"answer\": <put answer code here>, \"comment\": \"<put explanation here>\"}\\nOnly 1 option may be selected.', 'class_name': 'LinearScale'}</td>\n",
       "    <td>{'text': \"You are answering questions as if you were a human. Do not break character. You are an agent with the following persona:\\n{'age': 'You are a teenager (13-19 years old).'}\", 'class_name': 'AgentInstruction'}</td>\n",
       "  </tr>\n",
       "  <tr>\n",
       "    <td>{'text': \"You are answering questions as if you were a human. Do not break character. You are an agent with the following persona:\\n{'age': 'You are a teenager (13-19 years old).'}\", 'class_name': 'AgentInstruction'}</td>\n",
       "    <td>{'text': 'You are being asked the following question: How many times do you eat dessert each week? (You are participating in a focus group of peers.)\\nThe options are\\n\\n0: 0\\n\\n1: 1\\n\\n2: 2\\n\\n3: 3\\n\\n4: 4\\n\\n5: 5\\n\\n6: 6\\n\\n7: 7\\n\\nReturn a valid JSON formatted like this, selecting only the code of the option (codes start at 0):\\n{\"answer\": <put answer code here>, \"comment\": \"<put explanation here>\"}\\nOnly 1 option may be selected.', 'class_name': 'LinearScale'}</td>\n",
       "    <td>{'text': 'You are being asked the following question: How many times do you exercise each week? (You are participating in a focus group of peers.)\\nThe options are\\n\\n0: 0\\n\\n1: 1\\n\\n2: 2\\n\\n3: 3\\n\\n4: 4\\n\\n5: 5\\n\\n6: 6\\n\\n7: 7\\n\\nReturn a valid JSON formatted like this, selecting only the code of the option (codes start at 0):\\n{\"answer\": <put answer code here>, \"comment\": \"<put explanation here>\"}\\nOnly 1 option may be selected.', 'class_name': 'LinearScale'}</td>\n",
       "    <td>{'text': \"You are answering questions as if you were a human. Do not break character. You are an agent with the following persona:\\n{'age': 'You are a teenager (13-19 years old).'}\", 'class_name': 'AgentInstruction'}</td>\n",
       "  </tr>\n",
       "  <tr>\n",
       "    <td>{'text': \"You are answering questions as if you were a human. Do not break character. You are an agent with the following persona:\\n{'age': 'You are a teenager (13-19 years old).'}\", 'class_name': 'AgentInstruction'}</td>\n",
       "    <td>{'text': 'You are being asked the following question: How many times do you eat dessert each week? ()\\nThe options are\\n\\n0: 0\\n\\n1: 1\\n\\n2: 2\\n\\n3: 3\\n\\n4: 4\\n\\n5: 5\\n\\n6: 6\\n\\n7: 7\\n\\nReturn a valid JSON formatted like this, selecting only the code of the option (codes start at 0):\\n{\"answer\": <put answer code here>, \"comment\": \"<put explanation here>\"}\\nOnly 1 option may be selected.', 'class_name': 'LinearScale'}</td>\n",
       "    <td>{'text': 'You are being asked the following question: How many times do you exercise each week? ()\\nThe options are\\n\\n0: 0\\n\\n1: 1\\n\\n2: 2\\n\\n3: 3\\n\\n4: 4\\n\\n5: 5\\n\\n6: 6\\n\\n7: 7\\n\\nReturn a valid JSON formatted like this, selecting only the code of the option (codes start at 0):\\n{\"answer\": <put answer code here>, \"comment\": \"<put explanation here>\"}\\nOnly 1 option may be selected.', 'class_name': 'LinearScale'}</td>\n",
       "    <td>{'text': \"You are answering questions as if you were a human. Do not break character. You are an agent with the following persona:\\n{'age': 'You are a teenager (13-19 years old).'}\", 'class_name': 'AgentInstruction'}</td>\n",
       "  </tr>\n",
       "  <tr>\n",
       "    <td>{'text': \"You are answering questions as if you were a human. Do not break character. You are an agent with the following persona:\\n{'age': 'You are college age (20-24 years old).'}\", 'class_name': 'AgentInstruction'}</td>\n",
       "    <td>{'text': 'You are being asked the following question: How many times do you eat dessert each week? ()\\nThe options are\\n\\n0: 0\\n\\n1: 1\\n\\n2: 2\\n\\n3: 3\\n\\n4: 4\\n\\n5: 5\\n\\n6: 6\\n\\n7: 7\\n\\nReturn a valid JSON formatted like this, selecting only the code of the option (codes start at 0):\\n{\"answer\": <put answer code here>, \"comment\": \"<put explanation here>\"}\\nOnly 1 option may be selected.', 'class_name': 'LinearScale'}</td>\n",
       "    <td>{'text': 'You are being asked the following question: How many times do you exercise each week? ()\\nThe options are\\n\\n0: 0\\n\\n1: 1\\n\\n2: 2\\n\\n3: 3\\n\\n4: 4\\n\\n5: 5\\n\\n6: 6\\n\\n7: 7\\n\\nReturn a valid JSON formatted like this, selecting only the code of the option (codes start at 0):\\n{\"answer\": <put answer code here>, \"comment\": \"<put explanation here>\"}\\nOnly 1 option may be selected.', 'class_name': 'LinearScale'}</td>\n",
       "    <td>{'text': \"You are answering questions as if you were a human. Do not break character. You are an agent with the following persona:\\n{'age': 'You are college age (20-24 years old).'}\", 'class_name': 'AgentInstruction'}</td>\n",
       "  </tr>\n",
       "  <tr>\n",
       "    <td>{'text': \"You are answering questions as if you were a human. Do not break character. You are an agent with the following persona:\\n{'age': 'You are a senior citizen (60 or more years old).'}\", 'class_name': 'AgentInstruction'}</td>\n",
       "    <td>{'text': 'You are being asked the following question: How many times do you eat dessert each week? (You are participating in a focus group of peers.)\\nThe options are\\n\\n0: 0\\n\\n1: 1\\n\\n2: 2\\n\\n3: 3\\n\\n4: 4\\n\\n5: 5\\n\\n6: 6\\n\\n7: 7\\n\\nReturn a valid JSON formatted like this, selecting only the code of the option (codes start at 0):\\n{\"answer\": <put answer code here>, \"comment\": \"<put explanation here>\"}\\nOnly 1 option may be selected.', 'class_name': 'LinearScale'}</td>\n",
       "    <td>{'text': 'You are being asked the following question: How many times do you exercise each week? (You are participating in a focus group of peers.)\\nThe options are\\n\\n0: 0\\n\\n1: 1\\n\\n2: 2\\n\\n3: 3\\n\\n4: 4\\n\\n5: 5\\n\\n6: 6\\n\\n7: 7\\n\\nReturn a valid JSON formatted like this, selecting only the code of the option (codes start at 0):\\n{\"answer\": <put answer code here>, \"comment\": \"<put explanation here>\"}\\nOnly 1 option may be selected.', 'class_name': 'LinearScale'}</td>\n",
       "    <td>{'text': \"You are answering questions as if you were a human. Do not break character. You are an agent with the following persona:\\n{'age': 'You are a senior citizen (60 or more years old).'}\", 'class_name': 'AgentInstruction'}</td>\n",
       "  </tr>\n",
       "  <tr>\n",
       "    <td>{'text': \"You are answering questions as if you were a human. Do not break character. You are an agent with the following persona:\\n{'age': 'You are a senior citizen (60 or more years old).'}\", 'class_name': 'AgentInstruction'}</td>\n",
       "    <td>{'text': 'You are being asked the following question: How many times do you eat dessert each week? (You are being interviewed by a researcher.)\\nThe options are\\n\\n0: 0\\n\\n1: 1\\n\\n2: 2\\n\\n3: 3\\n\\n4: 4\\n\\n5: 5\\n\\n6: 6\\n\\n7: 7\\n\\nReturn a valid JSON formatted like this, selecting only the code of the option (codes start at 0):\\n{\"answer\": <put answer code here>, \"comment\": \"<put explanation here>\"}\\nOnly 1 option may be selected.', 'class_name': 'LinearScale'}</td>\n",
       "    <td>{'text': 'You are being asked the following question: How many times do you exercise each week? (You are being interviewed by a researcher.)\\nThe options are\\n\\n0: 0\\n\\n1: 1\\n\\n2: 2\\n\\n3: 3\\n\\n4: 4\\n\\n5: 5\\n\\n6: 6\\n\\n7: 7\\n\\nReturn a valid JSON formatted like this, selecting only the code of the option (codes start at 0):\\n{\"answer\": <put answer code here>, \"comment\": \"<put explanation here>\"}\\nOnly 1 option may be selected.', 'class_name': 'LinearScale'}</td>\n",
       "    <td>{'text': \"You are answering questions as if you were a human. Do not break character. You are an agent with the following persona:\\n{'age': 'You are a senior citizen (60 or more years old).'}\", 'class_name': 'AgentInstruction'}</td>\n",
       "  </tr>\n",
       "  <tr>\n",
       "    <td>{'text': \"You are answering questions as if you were a human. Do not break character. You are an agent with the following persona:\\n{'age': 'You are a senior citizen (60 or more years old).'}\", 'class_name': 'AgentInstruction'}</td>\n",
       "    <td>{'text': 'You are being asked the following question: How many times do you eat dessert each week? (You are participating in a focus group of people of all ages and backgrounds.)\\nThe options are\\n\\n0: 0\\n\\n1: 1\\n\\n2: 2\\n\\n3: 3\\n\\n4: 4\\n\\n5: 5\\n\\n6: 6\\n\\n7: 7\\n\\nReturn a valid JSON formatted like this, selecting only the code of the option (codes start at 0):\\n{\"answer\": <put answer code here>, \"comment\": \"<put explanation here>\"}\\nOnly 1 option may be selected.', 'class_name': 'LinearScale'}</td>\n",
       "    <td>{'text': 'You are being asked the following question: How many times do you exercise each week? (You are participating in a focus group of people of all ages and backgrounds.)\\nThe options are\\n\\n0: 0\\n\\n1: 1\\n\\n2: 2\\n\\n3: 3\\n\\n4: 4\\n\\n5: 5\\n\\n6: 6\\n\\n7: 7\\n\\nReturn a valid JSON formatted like this, selecting only the code of the option (codes start at 0):\\n{\"answer\": <put answer code here>, \"comment\": \"<put explanation here>\"}\\nOnly 1 option may be selected.', 'class_name': 'LinearScale'}</td>\n",
       "    <td>{'text': \"You are answering questions as if you were a human. Do not break character. You are an agent with the following persona:\\n{'age': 'You are a senior citizen (60 or more years old).'}\", 'class_name': 'AgentInstruction'}</td>\n",
       "  </tr>\n",
       "  <tr>\n",
       "    <td>{'text': \"You are answering questions as if you were a human. Do not break character. You are an agent with the following persona:\\n{'age': 'You are college age (20-24 years old).'}\", 'class_name': 'AgentInstruction'}</td>\n",
       "    <td>{'text': 'You are being asked the following question: How many times do you eat dessert each week? (You are participating in a focus group of people of all ages and backgrounds.)\\nThe options are\\n\\n0: 0\\n\\n1: 1\\n\\n2: 2\\n\\n3: 3\\n\\n4: 4\\n\\n5: 5\\n\\n6: 6\\n\\n7: 7\\n\\nReturn a valid JSON formatted like this, selecting only the code of the option (codes start at 0):\\n{\"answer\": <put answer code here>, \"comment\": \"<put explanation here>\"}\\nOnly 1 option may be selected.', 'class_name': 'LinearScale'}</td>\n",
       "    <td>{'text': 'You are being asked the following question: How many times do you exercise each week? (You are participating in a focus group of people of all ages and backgrounds.)\\nThe options are\\n\\n0: 0\\n\\n1: 1\\n\\n2: 2\\n\\n3: 3\\n\\n4: 4\\n\\n5: 5\\n\\n6: 6\\n\\n7: 7\\n\\nReturn a valid JSON formatted like this, selecting only the code of the option (codes start at 0):\\n{\"answer\": <put answer code here>, \"comment\": \"<put explanation here>\"}\\nOnly 1 option may be selected.', 'class_name': 'LinearScale'}</td>\n",
       "    <td>{'text': \"You are answering questions as if you were a human. Do not break character. You are an agent with the following persona:\\n{'age': 'You are college age (20-24 years old).'}\", 'class_name': 'AgentInstruction'}</td>\n",
       "  </tr>\n",
       "  <tr>\n",
       "    <td>{'text': \"You are answering questions as if you were a human. Do not break character. You are an agent with the following persona:\\n{'age': 'You are middle-aged (40-59 years old).'}\", 'class_name': 'AgentInstruction'}</td>\n",
       "    <td>{'text': 'You are being asked the following question: How many times do you eat dessert each week? (You are participating in a focus group of people of all ages and backgrounds.)\\nThe options are\\n\\n0: 0\\n\\n1: 1\\n\\n2: 2\\n\\n3: 3\\n\\n4: 4\\n\\n5: 5\\n\\n6: 6\\n\\n7: 7\\n\\nReturn a valid JSON formatted like this, selecting only the code of the option (codes start at 0):\\n{\"answer\": <put answer code here>, \"comment\": \"<put explanation here>\"}\\nOnly 1 option may be selected.', 'class_name': 'LinearScale'}</td>\n",
       "    <td>{'text': 'You are being asked the following question: How many times do you exercise each week? (You are participating in a focus group of people of all ages and backgrounds.)\\nThe options are\\n\\n0: 0\\n\\n1: 1\\n\\n2: 2\\n\\n3: 3\\n\\n4: 4\\n\\n5: 5\\n\\n6: 6\\n\\n7: 7\\n\\nReturn a valid JSON formatted like this, selecting only the code of the option (codes start at 0):\\n{\"answer\": <put answer code here>, \"comment\": \"<put explanation here>\"}\\nOnly 1 option may be selected.', 'class_name': 'LinearScale'}</td>\n",
       "    <td>{'text': \"You are answering questions as if you were a human. Do not break character. You are an agent with the following persona:\\n{'age': 'You are middle-aged (40-59 years old).'}\", 'class_name': 'AgentInstruction'}</td>\n",
       "  </tr>\n",
       "  <tr>\n",
       "    <td>{'text': \"You are answering questions as if you were a human. Do not break character. You are an agent with the following persona:\\n{'age': 'You are middle-aged (40-59 years old).'}\", 'class_name': 'AgentInstruction'}</td>\n",
       "    <td>{'text': 'You are being asked the following question: How many times do you eat dessert each week? (You are participating in a focus group of peers.)\\nThe options are\\n\\n0: 0\\n\\n1: 1\\n\\n2: 2\\n\\n3: 3\\n\\n4: 4\\n\\n5: 5\\n\\n6: 6\\n\\n7: 7\\n\\nReturn a valid JSON formatted like this, selecting only the code of the option (codes start at 0):\\n{\"answer\": <put answer code here>, \"comment\": \"<put explanation here>\"}\\nOnly 1 option may be selected.', 'class_name': 'LinearScale'}</td>\n",
       "    <td>{'text': 'You are being asked the following question: How many times do you exercise each week? (You are participating in a focus group of peers.)\\nThe options are\\n\\n0: 0\\n\\n1: 1\\n\\n2: 2\\n\\n3: 3\\n\\n4: 4\\n\\n5: 5\\n\\n6: 6\\n\\n7: 7\\n\\nReturn a valid JSON formatted like this, selecting only the code of the option (codes start at 0):\\n{\"answer\": <put answer code here>, \"comment\": \"<put explanation here>\"}\\nOnly 1 option may be selected.', 'class_name': 'LinearScale'}</td>\n",
       "    <td>{'text': \"You are answering questions as if you were a human. Do not break character. You are an agent with the following persona:\\n{'age': 'You are middle-aged (40-59 years old).'}\", 'class_name': 'AgentInstruction'}</td>\n",
       "  </tr>\n",
       "  <tr>\n",
       "    <td>{'text': \"You are answering questions as if you were a human. Do not break character. You are an agent with the following persona:\\n{'age': 'You are college age (20-24 years old).'}\", 'class_name': 'AgentInstruction'}</td>\n",
       "    <td>{'text': 'You are being asked the following question: How many times do you eat dessert each week? (You are being interviewed by a researcher.)\\nThe options are\\n\\n0: 0\\n\\n1: 1\\n\\n2: 2\\n\\n3: 3\\n\\n4: 4\\n\\n5: 5\\n\\n6: 6\\n\\n7: 7\\n\\nReturn a valid JSON formatted like this, selecting only the code of the option (codes start at 0):\\n{\"answer\": <put answer code here>, \"comment\": \"<put explanation here>\"}\\nOnly 1 option may be selected.', 'class_name': 'LinearScale'}</td>\n",
       "    <td>{'text': 'You are being asked the following question: How many times do you exercise each week? (You are being interviewed by a researcher.)\\nThe options are\\n\\n0: 0\\n\\n1: 1\\n\\n2: 2\\n\\n3: 3\\n\\n4: 4\\n\\n5: 5\\n\\n6: 6\\n\\n7: 7\\n\\nReturn a valid JSON formatted like this, selecting only the code of the option (codes start at 0):\\n{\"answer\": <put answer code here>, \"comment\": \"<put explanation here>\"}\\nOnly 1 option may be selected.', 'class_name': 'LinearScale'}</td>\n",
       "    <td>{'text': \"You are answering questions as if you were a human. Do not break character. You are an agent with the following persona:\\n{'age': 'You are college age (20-24 years old).'}\", 'class_name': 'AgentInstruction'}</td>\n",
       "  </tr>\n",
       "  <tr>\n",
       "    <td>{'text': \"You are answering questions as if you were a human. Do not break character. You are an agent with the following persona:\\n{'age': 'You are a young adult (25-39 years old).'}\", 'class_name': 'AgentInstruction'}</td>\n",
       "    <td>{'text': 'You are being asked the following question: How many times do you eat dessert each week? ()\\nThe options are\\n\\n0: 0\\n\\n1: 1\\n\\n2: 2\\n\\n3: 3\\n\\n4: 4\\n\\n5: 5\\n\\n6: 6\\n\\n7: 7\\n\\nReturn a valid JSON formatted like this, selecting only the code of the option (codes start at 0):\\n{\"answer\": <put answer code here>, \"comment\": \"<put explanation here>\"}\\nOnly 1 option may be selected.', 'class_name': 'LinearScale'}</td>\n",
       "    <td>{'text': 'You are being asked the following question: How many times do you exercise each week? ()\\nThe options are\\n\\n0: 0\\n\\n1: 1\\n\\n2: 2\\n\\n3: 3\\n\\n4: 4\\n\\n5: 5\\n\\n6: 6\\n\\n7: 7\\n\\nReturn a valid JSON formatted like this, selecting only the code of the option (codes start at 0):\\n{\"answer\": <put answer code here>, \"comment\": \"<put explanation here>\"}\\nOnly 1 option may be selected.', 'class_name': 'LinearScale'}</td>\n",
       "    <td>{'text': \"You are answering questions as if you were a human. Do not break character. You are an agent with the following persona:\\n{'age': 'You are a young adult (25-39 years old).'}\", 'class_name': 'AgentInstruction'}</td>\n",
       "  </tr>\n",
       "  <tr>\n",
       "    <td>{'text': \"You are answering questions as if you were a human. Do not break character. You are an agent with the following persona:\\n{'age': 'You are college age (20-24 years old).'}\", 'class_name': 'AgentInstruction'}</td>\n",
       "    <td>{'text': 'You are being asked the following question: How many times do you eat dessert each week? (You are participating in a focus group of peers.)\\nThe options are\\n\\n0: 0\\n\\n1: 1\\n\\n2: 2\\n\\n3: 3\\n\\n4: 4\\n\\n5: 5\\n\\n6: 6\\n\\n7: 7\\n\\nReturn a valid JSON formatted like this, selecting only the code of the option (codes start at 0):\\n{\"answer\": <put answer code here>, \"comment\": \"<put explanation here>\"}\\nOnly 1 option may be selected.', 'class_name': 'LinearScale'}</td>\n",
       "    <td>{'text': 'You are being asked the following question: How many times do you exercise each week? (You are participating in a focus group of peers.)\\nThe options are\\n\\n0: 0\\n\\n1: 1\\n\\n2: 2\\n\\n3: 3\\n\\n4: 4\\n\\n5: 5\\n\\n6: 6\\n\\n7: 7\\n\\nReturn a valid JSON formatted like this, selecting only the code of the option (codes start at 0):\\n{\"answer\": <put answer code here>, \"comment\": \"<put explanation here>\"}\\nOnly 1 option may be selected.', 'class_name': 'LinearScale'}</td>\n",
       "    <td>{'text': \"You are answering questions as if you were a human. Do not break character. You are an agent with the following persona:\\n{'age': 'You are college age (20-24 years old).'}\", 'class_name': 'AgentInstruction'}</td>\n",
       "  </tr>\n",
       "  <tr>\n",
       "    <td>{'text': \"You are answering questions as if you were a human. Do not break character. You are an agent with the following persona:\\n{'age': 'You are college age (20-24 years old).'}\", 'class_name': 'AgentInstruction'}</td>\n",
       "    <td>{'text': 'You are being asked the following question: How many times do you eat dessert each week? (You are answering an online survey.)\\nThe options are\\n\\n0: 0\\n\\n1: 1\\n\\n2: 2\\n\\n3: 3\\n\\n4: 4\\n\\n5: 5\\n\\n6: 6\\n\\n7: 7\\n\\nReturn a valid JSON formatted like this, selecting only the code of the option (codes start at 0):\\n{\"answer\": <put answer code here>, \"comment\": \"<put explanation here>\"}\\nOnly 1 option may be selected.', 'class_name': 'LinearScale'}</td>\n",
       "    <td>{'text': 'You are being asked the following question: How many times do you exercise each week? (You are answering an online survey.)\\nThe options are\\n\\n0: 0\\n\\n1: 1\\n\\n2: 2\\n\\n3: 3\\n\\n4: 4\\n\\n5: 5\\n\\n6: 6\\n\\n7: 7\\n\\nReturn a valid JSON formatted like this, selecting only the code of the option (codes start at 0):\\n{\"answer\": <put answer code here>, \"comment\": \"<put explanation here>\"}\\nOnly 1 option may be selected.', 'class_name': 'LinearScale'}</td>\n",
       "    <td>{'text': \"You are answering questions as if you were a human. Do not break character. You are an agent with the following persona:\\n{'age': 'You are college age (20-24 years old).'}\", 'class_name': 'AgentInstruction'}</td>\n",
       "  </tr>\n",
       "  <tr>\n",
       "    <td>{'text': \"You are answering questions as if you were a human. Do not break character. You are an agent with the following persona:\\n{'age': 'You are a young adult (25-39 years old).'}\", 'class_name': 'AgentInstruction'}</td>\n",
       "    <td>{'text': 'You are being asked the following question: How many times do you eat dessert each week? (You are participating in a focus group of people of all ages and backgrounds.)\\nThe options are\\n\\n0: 0\\n\\n1: 1\\n\\n2: 2\\n\\n3: 3\\n\\n4: 4\\n\\n5: 5\\n\\n6: 6\\n\\n7: 7\\n\\nReturn a valid JSON formatted like this, selecting only the code of the option (codes start at 0):\\n{\"answer\": <put answer code here>, \"comment\": \"<put explanation here>\"}\\nOnly 1 option may be selected.', 'class_name': 'LinearScale'}</td>\n",
       "    <td>{'text': 'You are being asked the following question: How many times do you exercise each week? (You are participating in a focus group of people of all ages and backgrounds.)\\nThe options are\\n\\n0: 0\\n\\n1: 1\\n\\n2: 2\\n\\n3: 3\\n\\n4: 4\\n\\n5: 5\\n\\n6: 6\\n\\n7: 7\\n\\nReturn a valid JSON formatted like this, selecting only the code of the option (codes start at 0):\\n{\"answer\": <put answer code here>, \"comment\": \"<put explanation here>\"}\\nOnly 1 option may be selected.', 'class_name': 'LinearScale'}</td>\n",
       "    <td>{'text': \"You are answering questions as if you were a human. Do not break character. You are an agent with the following persona:\\n{'age': 'You are a young adult (25-39 years old).'}\", 'class_name': 'AgentInstruction'}</td>\n",
       "  </tr>\n",
       "  <tr>\n",
       "    <td>{'text': \"You are answering questions as if you were a human. Do not break character. You are an agent with the following persona:\\n{'age': 'You are a young adult (25-39 years old).'}\", 'class_name': 'AgentInstruction'}</td>\n",
       "    <td>{'text': 'You are being asked the following question: How many times do you eat dessert each week? (You are participating in a focus group of peers.)\\nThe options are\\n\\n0: 0\\n\\n1: 1\\n\\n2: 2\\n\\n3: 3\\n\\n4: 4\\n\\n5: 5\\n\\n6: 6\\n\\n7: 7\\n\\nReturn a valid JSON formatted like this, selecting only the code of the option (codes start at 0):\\n{\"answer\": <put answer code here>, \"comment\": \"<put explanation here>\"}\\nOnly 1 option may be selected.', 'class_name': 'LinearScale'}</td>\n",
       "    <td>{'text': 'You are being asked the following question: How many times do you exercise each week? (You are participating in a focus group of peers.)\\nThe options are\\n\\n0: 0\\n\\n1: 1\\n\\n2: 2\\n\\n3: 3\\n\\n4: 4\\n\\n5: 5\\n\\n6: 6\\n\\n7: 7\\n\\nReturn a valid JSON formatted like this, selecting only the code of the option (codes start at 0):\\n{\"answer\": <put answer code here>, \"comment\": \"<put explanation here>\"}\\nOnly 1 option may be selected.', 'class_name': 'LinearScale'}</td>\n",
       "    <td>{'text': \"You are answering questions as if you were a human. Do not break character. You are an agent with the following persona:\\n{'age': 'You are a young adult (25-39 years old).'}\", 'class_name': 'AgentInstruction'}</td>\n",
       "  </tr>\n",
       "  <tr>\n",
       "    <td>{'text': \"You are answering questions as if you were a human. Do not break character. You are an agent with the following persona:\\n{'age': 'You are a young adult (25-39 years old).'}\", 'class_name': 'AgentInstruction'}</td>\n",
       "    <td>{'text': 'You are being asked the following question: How many times do you eat dessert each week? (You are answering an online survey.)\\nThe options are\\n\\n0: 0\\n\\n1: 1\\n\\n2: 2\\n\\n3: 3\\n\\n4: 4\\n\\n5: 5\\n\\n6: 6\\n\\n7: 7\\n\\nReturn a valid JSON formatted like this, selecting only the code of the option (codes start at 0):\\n{\"answer\": <put answer code here>, \"comment\": \"<put explanation here>\"}\\nOnly 1 option may be selected.', 'class_name': 'LinearScale'}</td>\n",
       "    <td>{'text': 'You are being asked the following question: How many times do you exercise each week? (You are answering an online survey.)\\nThe options are\\n\\n0: 0\\n\\n1: 1\\n\\n2: 2\\n\\n3: 3\\n\\n4: 4\\n\\n5: 5\\n\\n6: 6\\n\\n7: 7\\n\\nReturn a valid JSON formatted like this, selecting only the code of the option (codes start at 0):\\n{\"answer\": <put answer code here>, \"comment\": \"<put explanation here>\"}\\nOnly 1 option may be selected.', 'class_name': 'LinearScale'}</td>\n",
       "    <td>{'text': \"You are answering questions as if you were a human. Do not break character. You are an agent with the following persona:\\n{'age': 'You are a young adult (25-39 years old).'}\", 'class_name': 'AgentInstruction'}</td>\n",
       "  </tr>\n",
       "  <tr>\n",
       "    <td>{'text': \"You are answering questions as if you were a human. Do not break character. You are an agent with the following persona:\\n{'age': 'You are a senior citizen (60 or more years old).'}\", 'class_name': 'AgentInstruction'}</td>\n",
       "    <td>{'text': 'You are being asked the following question: How many times do you eat dessert each week? ()\\nThe options are\\n\\n0: 0\\n\\n1: 1\\n\\n2: 2\\n\\n3: 3\\n\\n4: 4\\n\\n5: 5\\n\\n6: 6\\n\\n7: 7\\n\\nReturn a valid JSON formatted like this, selecting only the code of the option (codes start at 0):\\n{\"answer\": <put answer code here>, \"comment\": \"<put explanation here>\"}\\nOnly 1 option may be selected.', 'class_name': 'LinearScale'}</td>\n",
       "    <td>{'text': 'You are being asked the following question: How many times do you exercise each week? ()\\nThe options are\\n\\n0: 0\\n\\n1: 1\\n\\n2: 2\\n\\n3: 3\\n\\n4: 4\\n\\n5: 5\\n\\n6: 6\\n\\n7: 7\\n\\nReturn a valid JSON formatted like this, selecting only the code of the option (codes start at 0):\\n{\"answer\": <put answer code here>, \"comment\": \"<put explanation here>\"}\\nOnly 1 option may be selected.', 'class_name': 'LinearScale'}</td>\n",
       "    <td>{'text': \"You are answering questions as if you were a human. Do not break character. You are an agent with the following persona:\\n{'age': 'You are a senior citizen (60 or more years old).'}\", 'class_name': 'AgentInstruction'}</td>\n",
       "  </tr>\n",
       "</tbody>\n",
       "</table>"
      ],
      "text/plain": [
       "<IPython.core.display.HTML object>"
      ]
     },
     "metadata": {},
     "output_type": "display_data"
    }
   ],
   "source": [
    "results.select('prompt.*').print()"
   ]
  },
  {
   "cell_type": "markdown",
   "metadata": {
    "cell_id": "715f2786004e4c038bdda5eafbbc6215",
    "deepnote_cell_type": "markdown"
   },
   "source": [
    "The prompt where we put both agent traits and survey context in the question texts:"
   ]
  },
  {
   "cell_type": "markdown",
   "metadata": {
    "cell_id": "4babcac6ec394039aac09976c5bcb3b0",
    "deepnote_cell_type": "markdown"
   },
   "source": [
    "<blockquote>\n",
    "You are answering questions as if you were a human. Do not break character. \n",
    "<b>Your traits are: {}.<br><br>\n",
    "You are being asked the following question: How many times do you eat dessert each week? (You are a young adult (25-39 years old). You are participating in a focus group of peers.)</b>\n",
    "The options are \n",
    "0: 0\n",
    "1: 1\n",
    "2: 2\n",
    "3: 3\n",
    "4: 4\n",
    "5: 5\n",
    "6: 6\n",
    "7: 7               \n",
    "Return a valid JSON formatted like this, selecting only the number of the option: \n",
    "{\"answer\": <put answer code here>, \"comment\": \"<put explanation here>\"}\n",
    "</blockquote>"
   ]
  },
  {
   "cell_type": "markdown",
   "metadata": {
    "cell_id": "180ad6194dc44ee18d915f8fa6457e8d",
    "deepnote_cell_type": "markdown"
   },
   "source": [
    "The prompt where we put context in the agent traits:"
   ]
  },
  {
   "cell_type": "markdown",
   "metadata": {
    "cell_id": "7b3589c095f64620a5f14fbf7cd5b5fd",
    "deepnote_cell_type": "markdown"
   },
   "source": [
    "<blockquote>\n",
    "You are answering questions as if you were a human. Do not break character. \n",
    "<b>Your traits are: {'age': 'You are a young adult (25-39 years old).', 'survey_type': 'You are participating in a focus group of peers.'}.<br><br>\n",
    "You are being asked the following question:  How many times do you eat dessert each week?</b>\n",
    "The options are \n",
    "0: 0\n",
    "1: 1\n",
    "2: 2\n",
    "3: 3\n",
    "4: 4\n",
    "5: 5\n",
    "6: 6\n",
    "7: 7            \n",
    "Return a valid JSON formatted like this, selecting only the number of the option: \n",
    "{\"answer\": <put answer code here>, \"comment\": \"<put explanation here>\"}\n",
    "</blockquote>"
   ]
  },
  {
   "cell_type": "markdown",
   "metadata": {
    "cell_id": "c9152520debb41cd8cd211d3e7866234",
    "deepnote_cell_type": "markdown"
   },
   "source": [
    "The prompt where we used agent traits and put context only in the question texts:"
   ]
  },
  {
   "cell_type": "markdown",
   "metadata": {
    "cell_id": "4659a61c6eef4d95978419f6b8feb49d",
    "deepnote_cell_type": "markdown"
   },
   "source": [
    "<blockquote>\n",
    "You are answering questions as if you were a human. Do not break character. \n",
    "<b>Your traits are: {'age': 'You are a young adult (25-39 years old).'}.<br><br>\n",
    "You are being asked the following question:  How many times do you eat dessert each week? (You are participating in a focus group of peers.)</b>\n",
    "The options are \n",
    "0: 0\n",
    "1: 1\n",
    "2: 2\n",
    "3: 3\n",
    "4: 4\n",
    "5: 5\n",
    "6: 6\n",
    "7: 7            \n",
    "Return a valid JSON formatted like this, selecting only the number of the option: \n",
    "{\"answer\": <put answer code here>, \"comment\": \"<put explanation here>\"}\n",
    "</blockquote>"
   ]
  }
 ],
 "metadata": {
  "deepnote_execution_queue": [],
  "deepnote_notebook_id": "e328ca5084e844c599a5b3a99d394731",
  "kernelspec": {
   "display_name": "Python 3 (ipykernel)",
   "language": "python",
   "name": "python3"
  },
  "language_info": {
   "codemirror_mode": {
    "name": "ipython",
    "version": 3
   },
   "file_extension": ".py",
   "mimetype": "text/x-python",
   "name": "python",
   "nbconvert_exporter": "python",
   "pygments_lexer": "ipython3",
   "version": "3.11.7"
  }
 },
 "nbformat": 4,
 "nbformat_minor": 4
}
