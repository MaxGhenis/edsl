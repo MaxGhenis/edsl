{
 "cells": [
  {
   "cell_type": "markdown",
   "id": "73c75df2-8def-415f-802b-ae75f5af8071",
   "metadata": {},
   "source": [
    "# Export a survey to other platforms\n",
    "This notebook shows how to create a survey in [EDSL](https://docs.expectedparrot.com/) and export it to other survey platforms such as LimeSurvey, Google Forms, Qualtrics and SurveyMonkey. This can be useful for combining survey responses from AI agents and humans.\n",
    "\n",
    "In the steps below we create a survey to sign up for updates from Expected Parrot and export it to LimeSurvey, an open-source platform for (human) surveys.\n",
    "\n",
    "<b><i>Note: This feature is launching soon! Please sign up for updates by following the link to the survey that we create below. Thank you!</i></b>"
   ]
  },
  {
   "cell_type": "markdown",
   "id": "0d302bd9-326b-4a55-a223-7b6e0d0d47a7",
   "metadata": {},
   "source": [
    "### Step 1: Create questions\n",
    "EDSL comes with a variety of `Question` types. See examples of all question types [here](https://docs.expectedparrot.com/en/latest/questions.html).\n",
    "We start by importing the ones that we want to use and creating questions in the relevant templates:"
   ]
  },
  {
   "cell_type": "code",
   "execution_count": 1,
   "id": "126fe4cc-b324-4301-9946-77d3f9810802",
   "metadata": {},
   "outputs": [],
   "source": [
    "from edsl.questions import QuestionFreeText, QuestionMultipleChoice, QuestionYesNo, QuestionLinearScale\n",
    "\n",
    "q_firstname = QuestionFreeText(\n",
    "    question_name = \"first_name\",\n",
    "    question_text = \"What is your first name?\"\n",
    ")\n",
    "\n",
    "q_lastname = QuestionFreeText(\n",
    "    question_name = \"last_name\",\n",
    "    question_text = \"What is your last name?\"\n",
    ")\n",
    "\n",
    "q_email = QuestionFreeText(\n",
    "    question_name = \"email\",\n",
    "    question_text = \"What is your email address?\"\n",
    ")\n",
    "\n",
    "q_announcements = QuestionYesNo(\n",
    "    question_name = \"announcements\",\n",
    "    question_text = \"May we add you to our email announcements list?\"\n",
    ")\n",
    "\n",
    "q_alpha_testing = QuestionYesNo(\n",
    "    question_name = \"alpha_testing\",\n",
    "    question_text = \"Are you interested in alpha testing new features?\"\n",
    ")\n",
    "\n",
    "q_use = QuestionFreeText(\n",
    "    question_name = \"use_case\",\n",
    "    question_text = \"If you're willing to share, we'd love to hear what you're using EDSL for!\"\n",
    ")\n",
    "\n",
    "q_started = QuestionFreeText(\n",
    "    question_name = \"started\",\n",
    "    question_text = \"If you have any questions or comments about your experience so far, please let us know!\"\n",
    ")"
   ]
  },
  {
   "cell_type": "markdown",
   "id": "818b37bc-d9c3-4c0e-9772-f4d567f79b66",
   "metadata": {},
   "source": [
    "### Step 2: Construct a survey\n",
    "Next we add our questions to a `Survey`. Ours is straightforward, but see examples of ways to add conditional logic such as skip/stop rules to your survey [here](https://docs.expectedparrot.com/en/latest/surveys.html)."
   ]
  },
  {
   "cell_type": "code",
   "execution_count": 2,
   "id": "a1a0338d-0875-4362-b7fd-54422c73a9ed",
   "metadata": {},
   "outputs": [],
   "source": [
    "from edsl import Survey\n",
    "\n",
    "survey = Survey(questions = [\n",
    "    q_firstname, \n",
    "    q_lastname, \n",
    "    q_email, \n",
    "    q_announcements, \n",
    "    q_alpha_testing, \n",
    "    q_use, \n",
    "    q_started])"
   ]
  },
  {
   "cell_type": "markdown",
   "id": "dfee6154-4ff7-458f-beb7-e8f2d84b39f4",
   "metadata": {},
   "source": [
    "### Step 3: Export the survey\n",
    "When our survey is ready we can export it to other survey platforms by calling the `web` method and specifying the destination platform. Here we export our survey to LimeSurvey and get the URL to share with non-AI audiences:"
   ]
  },
  {
   "cell_type": "code",
   "execution_count": 3,
   "id": "fdc13881-7dbc-4d8f-a3d2-6456c15eab38",
   "metadata": {},
   "outputs": [],
   "source": [
    "signup_survey = survey.web(platform=\"lime_survey\")"
   ]
  },
  {
   "cell_type": "markdown",
   "id": "b07d5df5-db6c-41c2-9104-f39a025d957f",
   "metadata": {},
   "source": [
    "Show the new URL for the survey:"
   ]
  },
  {
   "cell_type": "code",
   "execution_count": 4,
   "id": "b2910126-2820-4a2b-8779-48e1beba9f58",
   "metadata": {},
   "outputs": [
    {
     "data": {
      "text/plain": [
       "'https://survey.expectedparrot.com/index.php/132345'"
      ]
     },
     "execution_count": 4,
     "metadata": {},
     "output_type": "execute_result"
    }
   ],
   "source": [
    "signup_survey.json()['data']['url']"
   ]
  },
  {
   "cell_type": "markdown",
   "id": "6f786881-b9e0-42a7-b229-253e67500475",
   "metadata": {},
   "source": [
    "Thanks for reading! Please let us know if you have any questions or feedback, and check out our docs for details on [getting started using EDSL](https://docs.expectedparrot.com/en/latest/starter_tutorial.html)."
   ]
  }
 ],
 "metadata": {
  "kernelspec": {
   "display_name": "Python 3 (ipykernel)",
   "language": "python",
   "name": "python3"
  },
  "language_info": {
   "codemirror_mode": {
    "name": "ipython",
    "version": 3
   },
   "file_extension": ".py",
   "mimetype": "text/x-python",
   "name": "python",
   "nbconvert_exporter": "python",
   "pygments_lexer": "ipython3",
   "version": "3.11.7"
  }
 },
 "nbformat": 4,
 "nbformat_minor": 5
}
