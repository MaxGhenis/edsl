{
 "cells": [
  {
   "cell_type": "markdown",
   "id": "8932508c-9e34-4992-bae0-ee7cf22cdf49",
   "metadata": {
    "editable": true,
    "slideshow": {
     "slide_type": ""
    },
    "tags": []
   },
   "source": [
    "# Analyzing customer service calls\n",
    "This notebook provides sample [EDSL](https://docs.expectedparrot.com/) code for conducting an analysis of textual content with AI agents and large language models. Using a set of transcripts of mock customer calls as an example, we use EDSL to prompt an AI agent to identify the callers' names, emails, questions and requests and return the results as a formatted dataset. The code is readily editable for reviewing other content, giving the agent different personas, and prompting the agent to extract other information.\n",
    "\n",
    "## Technical setup\n",
    "Before running the code below, please ensure that you have [installed the EDSL library](https://docs.expectedparrot.com/en/latest/installation.html) and either [activated remote inference](https://docs.expectedparrot.com/en/latest/remote_inference.html) from your [Coop account](https://docs.expectedparrot.com/en/latest/coop.html) or [stored API keys](https://docs.expectedparrot.com/en/latest/api_keys.html) for the language models that you want to use with EDSL. Please also see our [documentation page](https://docs.expectedparrot.com/) for tips and tutorials on getting started using EDSL."
   ]
  },
  {
   "cell_type": "markdown",
   "id": "0870ea06-1e54-4747-b7a6-84470879faa1",
   "metadata": {
    "editable": true,
    "slideshow": {
     "slide_type": ""
    },
    "tags": []
   },
   "source": [
    "## Constructing questions about the data\n",
    "We start by constructing questions about the content we want to analyze. \n",
    "[EDSL comes with a variety of question types](https://docs.expectedparrot.com/en/latest/questions.html) that we can choose from based on the form of the response that we want to get back from the model (multiple choice, linear scale, free text, etc.). \n",
    "Here we use `QuestionFreeText` to get the caller names and emails and `QuestionList` to list out any questions and requests of the callers, with a `{{ placeholder }}` for a transcript:"
   ]
  },
  {
   "cell_type": "code",
   "execution_count": 1,
   "id": "7a89784e-5970-4d00-89f3-5209619e88b4",
   "metadata": {
    "editable": true,
    "slideshow": {
     "slide_type": ""
    },
    "tags": []
   },
   "outputs": [],
   "source": [
    "from edsl import QuestionFreeText, QuestionList\n",
    "\n",
    "# Construct questions in the relevant question type templates\n",
    "# Use a placeholder for the transcripts to be reviewed\n",
    "q_name = QuestionFreeText(\n",
    "    question_name=\"name\",\n",
    "    question_text=\"\"\"\n",
    "    What is caller's name? Transcript: {{ scenario.transcript }}\n",
    "    Return just the name of the caller.\n",
    "    \"\"\",\n",
    ")\n",
    "\n",
    "q_email = QuestionFreeText(\n",
    "    question_name=\"email\",\n",
    "    question_text=\"\"\"What is caller's email address? Transcript: {{ scenario.transcript }}\n",
    "    Return just the email address.\n",
    "    \"\"\",\n",
    ")\n",
    "\n",
    "q_questions = QuestionList(\n",
    "    question_name=\"questions\",\n",
    "    question_text=\"What questions does the caller have? Transcript: {{ scenario.transcript }}?\",\n",
    ")\n",
    "\n",
    "q_requests = QuestionList(\n",
    "    question_name=\"requests\",\n",
    "    question_text=\"What is the caller requesting? Transcript: {{ scenario.transcript }}?\",\n",
    ")"
   ]
  },
  {
   "cell_type": "markdown",
   "id": "3ebd95f5-948e-4fbe-848f-b6cc9899f944",
   "metadata": {
    "editable": true,
    "slideshow": {
     "slide_type": ""
    },
    "tags": []
   },
   "source": [
    "## Creating a survey\n",
    "We combine the questions into a `Survey` in order to administer them all together:"
   ]
  },
  {
   "cell_type": "code",
   "execution_count": 2,
   "id": "8bb84bbd-c8d8-462e-9e4f-ae5088d6bf3b",
   "metadata": {
    "editable": true,
    "slideshow": {
     "slide_type": ""
    },
    "tags": []
   },
   "outputs": [],
   "source": [
    "from edsl import Survey\n",
    "\n",
    "survey = Survey([q_name, q_email, q_questions, q_requests])"
   ]
  },
  {
   "cell_type": "markdown",
   "id": "88231780-b81f-4f9c-b817-a04295015339",
   "metadata": {
    "editable": true,
    "slideshow": {
     "slide_type": ""
    },
    "tags": []
   },
   "source": [
    "## Adding context to questions\n",
    "Next we import a dataset of transcripts to add to the questions, creating a `Scenario` dictionary for each transcript. \n",
    "[EDSL provides methods for importing content from many different data sources](https://docs.expectedparrot.com/en/latest/scenarios.html), including PDFs, CSVs, docs, images, tables, lists, dicts, etc. \n",
    "Here we use a CSV of texts, [retrieved from the Coop](https://www.expectedparrot.com/content/01474c60-d02b-4874-a577-953e870d8bff):"
   ]
  },
  {
   "cell_type": "code",
   "execution_count": 3,
   "id": "34a8908f-3722-4e70-82f2-468c3b60a4d3",
   "metadata": {
    "editable": true,
    "slideshow": {
     "slide_type": ""
    },
    "tags": []
   },
   "outputs": [],
   "source": [
    "from edsl import FileStore\n",
    "\n",
    "csv_file = FileStore.pull('01474c60-d02b-4874-a577-953e870d8bff') "
   ]
  },
  {
   "cell_type": "code",
   "execution_count": 4,
   "id": "5e4983a5-bc02-4aa7-bf10-40f6f08a47c5",
   "metadata": {
    "editable": true,
    "slideshow": {
     "slide_type": ""
    },
    "tags": []
   },
   "outputs": [],
   "source": [
    "from edsl import ScenarioList, Scenario\n",
    "\n",
    "scenarios = ScenarioList.from_csv(csv_file.to_tempfile()) "
   ]
  },
  {
   "cell_type": "markdown",
   "id": "ddd2d761-d875-4404-b388-36db33fc05bf",
   "metadata": {
    "editable": true,
    "slideshow": {
     "slide_type": ""
    },
    "tags": []
   },
   "source": [
    "We can inspect the scenarios ([and rename or edit them as desired](https://docs.expectedparrot.com/en/latest/scenarios.html)):"
   ]
  },
  {
   "cell_type": "code",
   "execution_count": 5,
   "id": "e031482f-c3de-48b7-99c1-0dbd7f1a1666",
   "metadata": {
    "editable": true,
    "slideshow": {
     "slide_type": ""
    },
    "tags": []
   },
   "outputs": [
    {
     "data": {
      "text/html": [
       "<p><a href='https://docs.expectedparrot.com/en/latest/scenarios.html#scenariolist'>ScenarioList</a> scenarios: 10; keys: ['transcript'];</p>\n",
       "            <div style=\"max-height: 500px; overflow-y: auto;\">\n",
       "                <style type=\"text/css\">\n",
       "#T_da60c_row0_col0, #T_da60c_row1_col0, #T_da60c_row2_col0, #T_da60c_row3_col0, #T_da60c_row4_col0, #T_da60c_row5_col0, #T_da60c_row6_col0, #T_da60c_row7_col0, #T_da60c_row8_col0, #T_da60c_row9_col0 {\n",
       "  text-align: left;\n",
       "}\n",
       "</style>\n",
       "<table id=\"T_da60c\">\n",
       "  <thead>\n",
       "    <tr>\n",
       "      <th class=\"blank level0\" >&nbsp;</th>\n",
       "      <th id=\"T_da60c_level0_col0\" class=\"col_heading level0 col0\" >transcript</th>\n",
       "    </tr>\n",
       "  </thead>\n",
       "  <tbody>\n",
       "    <tr>\n",
       "      <th id=\"T_da60c_level0_row0\" class=\"row_heading level0 row0\" >0</th>\n",
       "      <td id=\"T_da60c_row0_col0\" class=\"data row0 col0\" >\"Agent: Good morning, thank you for calling Renovation Software Solutions. How can I assist you today? Customer: Hi, I'm having trouble with the 3D rendering feature. It seems to crash every time I try to add a new room. Agent: I'm sorry to hear that. Let me check if there are any known issues with the 3D rendering feature. Can you tell me which version of the software you're using? Customer: I'm using version 5.3.2 on a Windows 10 PC. Agent: Thank you. There was a recent update that might resolve this issue. Please make sure your software is updated to the latest version. If the problem persists, we can arrange a remote support session to troubleshoot further. Could I have your name and email address to send you further instructions? Customer: Sure, it's Emily Davis, emily.davis@example.com. Agent: Great, I'll send the instructions to your email. I'll update the software and try again. If it still crashes, I'll call back. Thanks for your help. Agent: You're welcome. Have a great day! [Caller sounded frustrated]\",</td>\n",
       "    </tr>\n",
       "    <tr>\n",
       "      <th id=\"T_da60c_level0_row1\" class=\"row_heading level0 row1\" >1</th>\n",
       "      <td id=\"T_da60c_row1_col0\" class=\"data row1 col0\" >\"Agent: Good afternoon, Renovation Software Solutions. How may I help you? Customer: Hi, I'm looking for a tutorial on how to use the budget tracking feature. Is there a video or a guide available? Agent: Yes, we have several resources available. You can find tutorial videos and step-by-step guides on our website under the 'Support' section. If you need further assistance, we can also schedule a live demo with one of our specialists. Could I get your name and email address to send you the details? Customer: That sounds perfect. My name is Sarah Johnson, and my email is sarah.johnson@example.com. Agent: Thank you, Sarah. I'll send you the details shortly. Have a great day! Customer: Thank you! Agent: My pleasure. Have a great day! [Caller sounded satisfied]\",</td>\n",
       "    </tr>\n",
       "    <tr>\n",
       "      <th id=\"T_da60c_level0_row2\" class=\"row_heading level0 row2\" >2</th>\n",
       "      <td id=\"T_da60c_row2_col0\" class=\"data row2 col0\" >\"Agent: Hello, thank you for calling Renovation Software Solutions. How can I assist you today? Customer: Hi, I need help with my account. I can't seem to reset my password, and I'm locked out. Agent: I'm sorry to hear that. Let's get that sorted out. Can you provide me with your email address associated with the account? Customer: Sure, it's mike.thomas@example.com. Agent: And may I have your name, please? Customer: Mike Thomas. Agent: Thank you, Mike. I'll send you a password reset link. Please check your email and follow the instructions. If you don't receive the email within a few minutes, check your spam folder or give us a call back. Customer: Got it. I'll keep an eye out for the email. Thanks for your help. Agent: You're welcome. Have a great day!\",</td>\n",
       "    </tr>\n",
       "    <tr>\n",
       "      <th id=\"T_da60c_level0_row3\" class=\"row_heading level0 row3\" >3</th>\n",
       "      <td id=\"T_da60c_row3_col0\" class=\"data row3 col0\" >\"Agent: Good morning, Renovation Software Solutions. How may I help you today? Customer: Hi, I'm interested in upgrading my subscription plan. What are the options available? Agent: We offer several subscription plans to suit different needs. Our standard plan includes basic features, while our premium plan includes advanced tools and priority support. You can find detailed information on our website or I can email you a comparison chart. Customer: Please email me the comparison chart. My email is laura.miller@example.com. Agent: Certainly. Could I get your name as well? Customer: Laura Miller. Agent: Thank you, Laura. I'll send that over right away. If you have any questions after reviewing it, feel free to contact us. Customer: Will do. Thanks a lot! Agent: You're welcome. Have a great day!\",</td>\n",
       "    </tr>\n",
       "    <tr>\n",
       "      <th id=\"T_da60c_level0_row4\" class=\"row_heading level0 row4\" >4</th>\n",
       "      <td id=\"T_da60c_row4_col0\" class=\"data row4 col0\" >\"Agent: Good afternoon, thank you for calling Renovation Software Solutions. How can I help you today? Customer: Hi, I'm having an issue with exporting my project to PDF. The file seems to be corrupted every time I try. Agent: I'm sorry to hear that. Can you tell me which version of the software you're using and the operating system? Customer: I'm using version 5.3.2 on macOS. Agent: Thank you. This issue can sometimes be resolved by updating to the latest version of the software. If the problem persists, please try reinstalling the software. If you continue to experience issues, our technical support team can assist you further. Could I get your name and email address for follow-up? Customer: My name is Jason Lee, and my email is jason.lee@example.com. Agent: Thanks, Jason. I'll make sure our support team reaches out if needed. Have a great day! Customer: I'll try updating and reinstalling. If that doesn't work, I'll reach out again. Thanks for your help. Agent: You're welcome. Have a great day!\",</td>\n",
       "    </tr>\n",
       "    <tr>\n",
       "      <th id=\"T_da60c_level0_row5\" class=\"row_heading level0 row5\" >5</th>\n",
       "      <td id=\"T_da60c_row5_col0\" class=\"data row5 col0\" >\"Agent: Good morning, Renovation Software Solutions. How may I help you today? Customer: Hi, I have a question about your collaboration tools. Can multiple users work on the same project simultaneously? Agent: Yes, our software supports real-time collaboration, allowing multiple users to work on the same project at the same time. You'll need to invite team members to your project, and they can join and make changes live. Could I have your name and email address to send you detailed instructions? Customer: My name is Olivia Brown, and my email is olivia.brown@example.com. Agent: Perfect, Olivia. I'll send you the instructions right away. Customer: That's great! How do I invite team members to my project? Agent: You can invite team members by clicking on the 'Invite' button within your project. Enter their email addresses, and they'll receive an invitation to join your project. Customer: Perfect. Thanks for the information. Agent: You're welcome. Have a great day! [Caller sounded curious]\",</td>\n",
       "    </tr>\n",
       "    <tr>\n",
       "      <th id=\"T_da60c_level0_row6\" class=\"row_heading level0 row6\" >6</th>\n",
       "      <td id=\"T_da60c_row6_col0\" class=\"data row6 col0\" >\"Agent: Good afternoon, thank you for calling Renovation Software Solutions. How can I assist you today? Customer: Hi, I'm trying to generate a cost estimate for my renovation project, but the numbers don't seem to add up correctly. Agent: I'm sorry to hear that. Let's take a look. Are you using the automated cost estimation tool, or are you entering costs manually? Customer: I'm using the automated tool. Agent: Sometimes, the cost estimation tool needs to be calibrated based on your specific inputs. Make sure all your project details are entered accurately. If you continue to see discrepancies, our support team can help you adjust the settings. Could I get your name and email address for follow-up? Customer: My name is Kevin Turner, and my email is kevin.turner@example.com. Agent: Thanks, Kevin. I'll make sure our support team follows up with you if needed. Customer: I'll double-check my inputs and try again. If I still have issues, I'll call back. Thank you. Agent: You're welcome. Have a great day! [Caller sounded frustrated]\",</td>\n",
       "    </tr>\n",
       "    <tr>\n",
       "      <th id=\"T_da60c_level0_row7\" class=\"row_heading level0 row7\" >7</th>\n",
       "      <td id=\"T_da60c_row7_col0\" class=\"data row7 col0\" >\"Agent: Good morning, thank you for calling Renovation Software Solutions. How can I help you today? Customer: Hi, I'm having trouble accessing my saved projects. They don't appear in my account anymore. Agent: I'm sorry to hear that. Let me check your account. Can you provide me with your username or email address? Customer: My username is buildmaster123. Agent: And could I have your name and email address as well? Customer: Sure, it's Lisa Harris, lisa.harris@example.com. Agent: Thank you, Lisa. It appears there was a synchronization issue. I've re-synced your account, and your projects should now be visible. Please log out and log back in to check. Customer: Great, I see them now. Thanks for your help! Agent: You're welcome. Have a great day!\",</td>\n",
       "    </tr>\n",
       "    <tr>\n",
       "      <th id=\"T_da60c_level0_row8\" class=\"row_heading level0 row8\" >8</th>\n",
       "      <td id=\"T_da60c_row8_col0\" class=\"data row8 col0\" >\"Agent: Good afternoon, Renovation Software Solutions. How may I assist you today? Customer: Hi, I have a suggestion for a new feature. It would be great to have a tool that helps with project scheduling and timelines. Agent: Thank you for your suggestion. We always appreciate feedback from our users. I'll pass this on to our development team for consideration. Is there anything specific you'd like to see in this scheduling tool? Customer: It would be helpful to have Gantt charts and reminders for key milestones. Agent: That's a great idea. I'll make sure to include your details in the feedback. Could I get your name and email address in case we need more information? Customer: Sure, it's Daniel Moore, daniel.moore@example.com. Agent: Thanks, Daniel. We appreciate your input. Customer: You're welcome. Thanks for listening. Agent: My pleasure. Have a great day!\",</td>\n",
       "    </tr>\n",
       "    <tr>\n",
       "      <th id=\"T_da60c_level0_row9\" class=\"row_heading level0 row9\" >9</th>\n",
       "      <td id=\"T_da60c_row9_col0\" class=\"data row9 col0\" >\"Agent: Good morning, Renovation Software Solutions. How may I assist you today? Customer: Hi, I'm considering purchasing your software, but I have a few questions about the trial period. Agent: I'd be happy to help. Our trial period lasts for 30 days and gives you access to all the features of our premium plan. You can explore the software and see if it meets your needs before committing to a subscription. Could I get your name and email address to set up your trial account? Customer: My name is Amanda Clark, and my email is amanda.clark@example.com. Agent: Thank you, Amanda. You can switch between plans at any time during the trial period to see which one suits you best. Customer: Excellent. I'll sign up for the trial and see how it goes. Thank you for the information. Agent: You're welcome. Enjoy exploring our software, and feel free to reach out if you have any questions. Customer: Will do. Thanks again! Agent: Have a great day! [Caller sounded enthusiastic]\",</td>\n",
       "    </tr>\n",
       "  </tbody>\n",
       "</table>\n",
       "\n",
       "            </div>\n",
       "            "
      ],
      "text/plain": [
       "ScenarioList([Scenario({'transcript': '\"Agent: Good morning, thank you for calling Renovation Software Solutions. How can I assist you today? Customer: Hi, I\\'m having trouble with the 3D rendering feature. It seems to crash every time I try to add a new room. Agent: I\\'m sorry to hear that. Let me check if there are any known issues with the 3D rendering feature. Can you tell me which version of the software you\\'re using? Customer: I\\'m using version 5.3.2 on a Windows 10 PC. Agent: Thank you. There was a recent update that might resolve this issue. Please make sure your software is updated to the latest version. If the problem persists, we can arrange a remote support session to troubleshoot further. Could I have your name and email address to send you further instructions? Customer: Sure, it\\'s Emily Davis, emily.davis@example.com. Agent: Great, I\\'ll send the instructions to your email. I\\'ll update the software and try again. If it still crashes, I\\'ll call back. Thanks for your help. Agent: You\\'re welcome. Have a great day! [Caller sounded frustrated]\",'}), Scenario({'transcript': '\"Agent: Good afternoon, Renovation Software Solutions. How may I help you? Customer: Hi, I\\'m looking for a tutorial on how to use the budget tracking feature. Is there a video or a guide available? Agent: Yes, we have several resources available. You can find tutorial videos and step-by-step guides on our website under the \\'Support\\' section. If you need further assistance, we can also schedule a live demo with one of our specialists. Could I get your name and email address to send you the details? Customer: That sounds perfect. My name is Sarah Johnson, and my email is sarah.johnson@example.com. Agent: Thank you, Sarah. I\\'ll send you the details shortly. Have a great day! Customer: Thank you! Agent: My pleasure. Have a great day! [Caller sounded satisfied]\",'}), Scenario({'transcript': '\"Agent: Hello, thank you for calling Renovation Software Solutions. How can I assist you today? Customer: Hi, I need help with my account. I can\\'t seem to reset my password, and I\\'m locked out. Agent: I\\'m sorry to hear that. Let\\'s get that sorted out. Can you provide me with your email address associated with the account? Customer: Sure, it\\'s mike.thomas@example.com. Agent: And may I have your name, please? Customer: Mike Thomas. Agent: Thank you, Mike. I\\'ll send you a password reset link. Please check your email and follow the instructions. If you don\\'t receive the email within a few minutes, check your spam folder or give us a call back. Customer: Got it. I\\'ll keep an eye out for the email. Thanks for your help. Agent: You\\'re welcome. Have a great day!\",'}), Scenario({'transcript': '\"Agent: Good morning, Renovation Software Solutions. How may I help you today? Customer: Hi, I\\'m interested in upgrading my subscription plan. What are the options available? Agent: We offer several subscription plans to suit different needs. Our standard plan includes basic features, while our premium plan includes advanced tools and priority support. You can find detailed information on our website or I can email you a comparison chart. Customer: Please email me the comparison chart. My email is laura.miller@example.com. Agent: Certainly. Could I get your name as well? Customer: Laura Miller. Agent: Thank you, Laura. I\\'ll send that over right away. If you have any questions after reviewing it, feel free to contact us. Customer: Will do. Thanks a lot! Agent: You\\'re welcome. Have a great day!\",'}), Scenario({'transcript': '\"Agent: Good afternoon, thank you for calling Renovation Software Solutions. How can I help you today? Customer: Hi, I\\'m having an issue with exporting my project to PDF. The file seems to be corrupted every time I try. Agent: I\\'m sorry to hear that. Can you tell me which version of the software you\\'re using and the operating system? Customer: I\\'m using version 5.3.2 on macOS. Agent: Thank you. This issue can sometimes be resolved by updating to the latest version of the software. If the problem persists, please try reinstalling the software. If you continue to experience issues, our technical support team can assist you further. Could I get your name and email address for follow-up? Customer: My name is Jason Lee, and my email is jason.lee@example.com. Agent: Thanks, Jason. I\\'ll make sure our support team reaches out if needed. Have a great day! Customer: I\\'ll try updating and reinstalling. If that doesn\\'t work, I\\'ll reach out again. Thanks for your help. Agent: You\\'re welcome. Have a great day!\",'}), Scenario({'transcript': '\"Agent: Good morning, Renovation Software Solutions. How may I help you today? Customer: Hi, I have a question about your collaboration tools. Can multiple users work on the same project simultaneously? Agent: Yes, our software supports real-time collaboration, allowing multiple users to work on the same project at the same time. You\\'ll need to invite team members to your project, and they can join and make changes live. Could I have your name and email address to send you detailed instructions? Customer: My name is Olivia Brown, and my email is olivia.brown@example.com. Agent: Perfect, Olivia. I\\'ll send you the instructions right away. Customer: That\\'s great! How do I invite team members to my project? Agent: You can invite team members by clicking on the \\'Invite\\' button within your project. Enter their email addresses, and they\\'ll receive an invitation to join your project. Customer: Perfect. Thanks for the information. Agent: You\\'re welcome. Have a great day! [Caller sounded curious]\",'}), Scenario({'transcript': '\"Agent: Good afternoon, thank you for calling Renovation Software Solutions. How can I assist you today? Customer: Hi, I\\'m trying to generate a cost estimate for my renovation project, but the numbers don\\'t seem to add up correctly. Agent: I\\'m sorry to hear that. Let\\'s take a look. Are you using the automated cost estimation tool, or are you entering costs manually? Customer: I\\'m using the automated tool. Agent: Sometimes, the cost estimation tool needs to be calibrated based on your specific inputs. Make sure all your project details are entered accurately. If you continue to see discrepancies, our support team can help you adjust the settings. Could I get your name and email address for follow-up? Customer: My name is Kevin Turner, and my email is kevin.turner@example.com. Agent: Thanks, Kevin. I\\'ll make sure our support team follows up with you if needed. Customer: I\\'ll double-check my inputs and try again. If I still have issues, I\\'ll call back. Thank you. Agent: You\\'re welcome. Have a great day! [Caller sounded frustrated]\",'}), Scenario({'transcript': '\"Agent: Good morning, thank you for calling Renovation Software Solutions. How can I help you today? Customer: Hi, I\\'m having trouble accessing my saved projects. They don\\'t appear in my account anymore. Agent: I\\'m sorry to hear that. Let me check your account. Can you provide me with your username or email address? Customer: My username is buildmaster123. Agent: And could I have your name and email address as well? Customer: Sure, it\\'s Lisa Harris, lisa.harris@example.com. Agent: Thank you, Lisa. It appears there was a synchronization issue. I\\'ve re-synced your account, and your projects should now be visible. Please log out and log back in to check. Customer: Great, I see them now. Thanks for your help! Agent: You\\'re welcome. Have a great day!\",'}), Scenario({'transcript': '\"Agent: Good afternoon, Renovation Software Solutions. How may I assist you today? Customer: Hi, I have a suggestion for a new feature. It would be great to have a tool that helps with project scheduling and timelines. Agent: Thank you for your suggestion. We always appreciate feedback from our users. I\\'ll pass this on to our development team for consideration. Is there anything specific you\\'d like to see in this scheduling tool? Customer: It would be helpful to have Gantt charts and reminders for key milestones. Agent: That\\'s a great idea. I\\'ll make sure to include your details in the feedback. Could I get your name and email address in case we need more information? Customer: Sure, it\\'s Daniel Moore, daniel.moore@example.com. Agent: Thanks, Daniel. We appreciate your input. Customer: You\\'re welcome. Thanks for listening. Agent: My pleasure. Have a great day!\",'}), Scenario({'transcript': '\"Agent: Good morning, Renovation Software Solutions. How may I assist you today? Customer: Hi, I\\'m considering purchasing your software, but I have a few questions about the trial period. Agent: I\\'d be happy to help. Our trial period lasts for 30 days and gives you access to all the features of our premium plan. You can explore the software and see if it meets your needs before committing to a subscription. Could I get your name and email address to set up your trial account? Customer: My name is Amanda Clark, and my email is amanda.clark@example.com. Agent: Thank you, Amanda. You can switch between plans at any time during the trial period to see which one suits you best. Customer: Excellent. I\\'ll sign up for the trial and see how it goes. Thank you for the information. Agent: You\\'re welcome. Enjoy exploring our software, and feel free to reach out if you have any questions. Customer: Will do. Thanks again! Agent: Have a great day! [Caller sounded enthusiastic]\",'})])"
      ]
     },
     "execution_count": 5,
     "metadata": {},
     "output_type": "execute_result"
    }
   ],
   "source": [
    "scenarios"
   ]
  },
  {
   "cell_type": "markdown",
   "id": "b971e79c-0dbd-49cf-ade5-ccf5b0616af7",
   "metadata": {
    "editable": true,
    "slideshow": {
     "slide_type": ""
    },
    "tags": []
   },
   "source": [
    "## Designing an AI agent to answer the survey\n",
    "We can create a persona for an AI `Agent` that a language model will use to answer the questions, and give it instructions on the task:"
   ]
  },
  {
   "cell_type": "code",
   "execution_count": 6,
   "id": "fd087fec-8e0a-414c-b30c-77adf4f41dfd",
   "metadata": {
    "editable": true,
    "slideshow": {
     "slide_type": ""
    },
    "tags": []
   },
   "outputs": [],
   "source": [
    "from edsl import Agent\n",
    "\n",
    "agent = Agent(\n",
    "    traits={\"persona\": \"Customer service agent\"},\n",
    "    instruction=\"You are answering questions about transcripts of customer service calls.\",\n",
    ")"
   ]
  },
  {
   "cell_type": "markdown",
   "id": "bdc23b0d-4f0d-4676-b3d3-896d4f612de3",
   "metadata": {
    "editable": true,
    "slideshow": {
     "slide_type": ""
    },
    "tags": []
   },
   "source": [
    "## Selecting a language model\n",
    "We can select one or more specific models to generate the responses (if no model is specified the default model is used).\n",
    "\n",
    "To see a list of all available models:"
   ]
  },
  {
   "cell_type": "code",
   "execution_count": 7,
   "id": "91381d20-175d-42fa-92c2-d5936f9d82b8",
   "metadata": {
    "editable": true,
    "slideshow": {
     "slide_type": ""
    },
    "tags": []
   },
   "outputs": [],
   "source": [
    "from edsl import Model\n",
    "\n",
    "# Model.available()"
   ]
  },
  {
   "cell_type": "markdown",
   "id": "0cffdca2-24ae-436e-9d7b-775b72913128",
   "metadata": {
    "editable": true,
    "slideshow": {
     "slide_type": ""
    },
    "tags": []
   },
   "source": [
    "To check the current default model:"
   ]
  },
  {
   "cell_type": "code",
   "execution_count": 8,
   "id": "fe48f229-047f-4f71-8511-7021e9c799a6",
   "metadata": {
    "editable": true,
    "slideshow": {
     "slide_type": ""
    },
    "tags": []
   },
   "outputs": [
    {
     "data": {
      "text/html": [
       "<p><a href=''>LanguageModel</a></p>\n",
       "            <div style=\"max-height: 500px; overflow-y: auto;\">\n",
       "                <style type=\"text/css\">\n",
       "#T_7299c_row0_col0, #T_7299c_row0_col1, #T_7299c_row1_col0, #T_7299c_row1_col1, #T_7299c_row2_col0, #T_7299c_row2_col1, #T_7299c_row3_col0, #T_7299c_row3_col1, #T_7299c_row4_col0, #T_7299c_row4_col1, #T_7299c_row5_col0, #T_7299c_row5_col1, #T_7299c_row6_col0, #T_7299c_row6_col1, #T_7299c_row7_col0, #T_7299c_row7_col1, #T_7299c_row8_col0, #T_7299c_row8_col1 {\n",
       "  text-align: left;\n",
       "}\n",
       "</style>\n",
       "<table id=\"T_7299c\">\n",
       "  <thead>\n",
       "    <tr>\n",
       "      <th class=\"blank level0\" >&nbsp;</th>\n",
       "      <th id=\"T_7299c_level0_col0\" class=\"col_heading level0 col0\" >key</th>\n",
       "      <th id=\"T_7299c_level0_col1\" class=\"col_heading level0 col1\" >value</th>\n",
       "    </tr>\n",
       "  </thead>\n",
       "  <tbody>\n",
       "    <tr>\n",
       "      <th id=\"T_7299c_level0_row0\" class=\"row_heading level0 row0\" >0</th>\n",
       "      <td id=\"T_7299c_row0_col0\" class=\"data row0 col0\" >model</td>\n",
       "      <td id=\"T_7299c_row0_col1\" class=\"data row0 col1\" >gpt-4o</td>\n",
       "    </tr>\n",
       "    <tr>\n",
       "      <th id=\"T_7299c_level0_row1\" class=\"row_heading level0 row1\" >1</th>\n",
       "      <td id=\"T_7299c_row1_col0\" class=\"data row1 col0\" >parameters:temperature</td>\n",
       "      <td id=\"T_7299c_row1_col1\" class=\"data row1 col1\" >0.500000</td>\n",
       "    </tr>\n",
       "    <tr>\n",
       "      <th id=\"T_7299c_level0_row2\" class=\"row_heading level0 row2\" >2</th>\n",
       "      <td id=\"T_7299c_row2_col0\" class=\"data row2 col0\" >parameters:max_tokens</td>\n",
       "      <td id=\"T_7299c_row2_col1\" class=\"data row2 col1\" >1000</td>\n",
       "    </tr>\n",
       "    <tr>\n",
       "      <th id=\"T_7299c_level0_row3\" class=\"row_heading level0 row3\" >3</th>\n",
       "      <td id=\"T_7299c_row3_col0\" class=\"data row3 col0\" >parameters:top_p</td>\n",
       "      <td id=\"T_7299c_row3_col1\" class=\"data row3 col1\" >1</td>\n",
       "    </tr>\n",
       "    <tr>\n",
       "      <th id=\"T_7299c_level0_row4\" class=\"row_heading level0 row4\" >4</th>\n",
       "      <td id=\"T_7299c_row4_col0\" class=\"data row4 col0\" >parameters:frequency_penalty</td>\n",
       "      <td id=\"T_7299c_row4_col1\" class=\"data row4 col1\" >0</td>\n",
       "    </tr>\n",
       "    <tr>\n",
       "      <th id=\"T_7299c_level0_row5\" class=\"row_heading level0 row5\" >5</th>\n",
       "      <td id=\"T_7299c_row5_col0\" class=\"data row5 col0\" >parameters:presence_penalty</td>\n",
       "      <td id=\"T_7299c_row5_col1\" class=\"data row5 col1\" >0</td>\n",
       "    </tr>\n",
       "    <tr>\n",
       "      <th id=\"T_7299c_level0_row6\" class=\"row_heading level0 row6\" >6</th>\n",
       "      <td id=\"T_7299c_row6_col0\" class=\"data row6 col0\" >parameters:logprobs</td>\n",
       "      <td id=\"T_7299c_row6_col1\" class=\"data row6 col1\" >False</td>\n",
       "    </tr>\n",
       "    <tr>\n",
       "      <th id=\"T_7299c_level0_row7\" class=\"row_heading level0 row7\" >7</th>\n",
       "      <td id=\"T_7299c_row7_col0\" class=\"data row7 col0\" >parameters:top_logprobs</td>\n",
       "      <td id=\"T_7299c_row7_col1\" class=\"data row7 col1\" >3</td>\n",
       "    </tr>\n",
       "    <tr>\n",
       "      <th id=\"T_7299c_level0_row8\" class=\"row_heading level0 row8\" >8</th>\n",
       "      <td id=\"T_7299c_row8_col0\" class=\"data row8 col0\" >inference_service</td>\n",
       "      <td id=\"T_7299c_row8_col1\" class=\"data row8 col1\" >openai</td>\n",
       "    </tr>\n",
       "  </tbody>\n",
       "</table>\n",
       "\n",
       "            </div>\n",
       "            "
      ],
      "text/plain": [
       "Model(model_name = 'gpt-4o', temperature = 0.5, max_tokens = 1000, top_p = 1, frequency_penalty = 0, presence_penalty = 0, logprobs = False, top_logprobs = 3)"
      ]
     },
     "execution_count": 8,
     "metadata": {},
     "output_type": "execute_result"
    }
   ],
   "source": [
    "Model()"
   ]
  },
  {
   "cell_type": "markdown",
   "id": "73aa528d-6102-40e5-8e7d-bf9d2981e471",
   "metadata": {
    "editable": true,
    "slideshow": {
     "slide_type": ""
    },
    "tags": []
   },
   "source": [
    "Here we select a model:"
   ]
  },
  {
   "cell_type": "code",
   "execution_count": 9,
   "id": "6168aee3-3c21-4720-bd45-01e735acc591",
   "metadata": {
    "editable": true,
    "slideshow": {
     "slide_type": ""
    },
    "tags": []
   },
   "outputs": [],
   "source": [
    "model = Model(\"gpt-4o\")"
   ]
  },
  {
   "cell_type": "markdown",
   "id": "c9642f41-0406-4884-9775-621ade53ab64",
   "metadata": {
    "editable": true,
    "slideshow": {
     "slide_type": ""
    },
    "tags": []
   },
   "source": [
    "## Getting responses\n",
    "We generate responses by adding the scenarios, agent and model to the survey and then calling the `run()` method:"
   ]
  },
  {
   "cell_type": "code",
   "execution_count": 10,
   "id": "16d7e03b-ea6b-42ec-aceb-295901b3ae21",
   "metadata": {
    "editable": true,
    "slideshow": {
     "slide_type": ""
    },
    "tags": []
   },
   "outputs": [
    {
     "data": {
      "text/html": [
       "\n",
       "            <!-- #region Remove Inference Info -->\n",
       "            <div id=\"logger-57569431-1325-4c48-8595-d0d9785ea468\" class=\"job-logger\">\n",
       "                <div class=\"job-logger-header\">\n",
       "                    <span>\n",
       "                        <span id=\"arrow-57569431-1325-4c48-8595-d0d9785ea468\">▼</span> \n",
       "                        Job Status (2025-03-03 12:43:19)\n",
       "                    </span>\n",
       "                </div>\n",
       "                <div id=\"content-57569431-1325-4c48-8595-d0d9785ea468\" style=\"display: block;\">\n",
       "                    <table class=\"job-logger-table\">\n",
       "                        \n",
       "            <tr>\n",
       "                <td class=\"job-logger-cell job-logger-label\">Job UUID</td>\n",
       "                <td class=\"job-logger-cell job-logger-value\">f18b8bfc-e9b4-42e2-9bce-10d40026d988</td>\n",
       "            </tr>\n",
       "        \n",
       "            <tr>\n",
       "                <td class=\"job-logger-cell job-logger-label\">Progress Bar URL</td>\n",
       "                <td class=\"job-logger-cell job-logger-value\"><a href=\"https://www.expectedparrot.com/home/remote-job-progress/f18b8bfc-e9b4-42e2-9bce-10d40026d988\" target=\"_blank\" class=\"job-logger-link\">https://www.expectedparrot.com/home/remote-job-progress/f18b8bfc-e9b4-42e2-9bce-10d40026d988</a></td>\n",
       "            </tr>\n",
       "        \n",
       "            <tr>\n",
       "                <td class=\"job-logger-cell job-logger-label\">Exceptions Report URL</td>\n",
       "                <td class=\"job-logger-cell job-logger-value\">None</td>\n",
       "            </tr>\n",
       "        \n",
       "            <tr>\n",
       "                <td class=\"job-logger-cell job-logger-label\">Results UUID</td>\n",
       "                <td class=\"job-logger-cell job-logger-value\">6cd9406b-08ab-4187-a6af-1f6fa6f7677b</td>\n",
       "            </tr>\n",
       "        \n",
       "            <tr>\n",
       "                <td class=\"job-logger-cell job-logger-label\">Results URL</td>\n",
       "                <td class=\"job-logger-cell job-logger-value\"><a href=\"https://www.expectedparrot.com/content/6cd9406b-08ab-4187-a6af-1f6fa6f7677b\" target=\"_blank\" class=\"job-logger-link\">https://www.expectedparrot.com/content/6cd9406b-08ab-4187-a6af-1f6fa6f7677b</a></td>\n",
       "            </tr>\n",
       "        \n",
       "                    </table>\n",
       "                    \n",
       "                <div class=\"job-logger-status\">\n",
       "                    <span style=\"margin-right: 8px;\" class=\"job-logger-success\">✓</span><strong>Current Status:</strong> Job completed and Results stored on Coop: <a href=\"https://www.expectedparrot.com/content/6cd9406b-08ab-4187-a6af-1f6fa6f7677b\" target=\"_blank\" class=\"job-logger-link\">https://www.expectedparrot.com/content/6cd9406b-08ab-4187-a6af-1f6fa6f7677b</a>\n",
       "                </div>\n",
       "            \n",
       "                </div>\n",
       "            </div>\n",
       "            <!-- # endregion -->\n",
       "        "
      ],
      "text/plain": [
       "<IPython.core.display.HTML object>"
      ]
     },
     "metadata": {},
     "output_type": "display_data"
    },
    {
     "data": {
      "text/html": [
       "\n",
       "        <style>\n",
       "            /* Base theme variables */\n",
       "            :root {\n",
       "                --jl-bg-primary: #ffffff;\n",
       "                --jl-bg-secondary: #f5f5f5;\n",
       "                --jl-border-color: #e0e0e0;\n",
       "                --jl-text-primary: #24292e;\n",
       "                --jl-text-secondary: #586069;\n",
       "                --jl-link-color: #0366d6;\n",
       "                --jl-success-color: #28a745;\n",
       "                --jl-error-color: #d73a49;\n",
       "                --jl-header-bg: #f1f1f1;\n",
       "            }\n",
       "            \n",
       "            /* Dark theme variables */\n",
       "            .theme-dark {\n",
       "                --jl-bg-primary: #1e1e1e;\n",
       "                --jl-bg-secondary: #252526;\n",
       "                --jl-border-color: #2d2d2d;\n",
       "                --jl-text-primary: #cccccc;\n",
       "                --jl-text-secondary: #999999;\n",
       "                --jl-link-color: #4e94ce;\n",
       "                --jl-success-color: #89d185;\n",
       "                --jl-error-color: #f14c4c;\n",
       "                --jl-header-bg: #333333;\n",
       "            }\n",
       "\n",
       "            /* High contrast theme variables */\n",
       "            .theme-high-contrast {\n",
       "                --jl-bg-primary: #000000;\n",
       "                --jl-bg-secondary: #1a1a1a;\n",
       "                --jl-border-color: #404040;\n",
       "                --jl-text-primary: #ffffff;\n",
       "                --jl-text-secondary: #cccccc;\n",
       "                --jl-link-color: #66b3ff;\n",
       "                --jl-success-color: #00ff00;\n",
       "                --jl-error-color: #ff0000;\n",
       "                --jl-header-bg: #262626;\n",
       "            }\n",
       "            \n",
       "            .job-logger {\n",
       "                font-family: system-ui, -apple-system, sans-serif;\n",
       "                max-width: 800px;\n",
       "                margin: 10px 0;\n",
       "                color: var(--jl-text-primary);\n",
       "                box-shadow: 0 1px 3px rgba(0,0,0,0.12);\n",
       "                border-radius: 4px;\n",
       "                overflow: hidden;\n",
       "            }\n",
       "            \n",
       "            .job-logger-header {\n",
       "                padding: 12px 16px;\n",
       "                background: var(--jl-header-bg);\n",
       "                border: none;\n",
       "                border-radius: 4px 4px 0 0;\n",
       "                cursor: pointer;\n",
       "                color: var(--jl-text-primary);\n",
       "                user-select: none;\n",
       "                font-weight: 500;\n",
       "                letter-spacing: 0.3px;\n",
       "                display: flex;\n",
       "                justify-content: space-between;\n",
       "                align-items: center;\n",
       "            }\n",
       "            \n",
       "            .theme-select {\n",
       "                padding: 4px 8px;\n",
       "                border-radius: 4px;\n",
       "                border: 1px solid var(--jl-border-color);\n",
       "                background: var(--jl-bg-primary);\n",
       "                color: var(--jl-text-primary);\n",
       "                font-size: 0.9em;\n",
       "            }\n",
       "            \n",
       "            .job-logger-table {\n",
       "                width: 100%;\n",
       "                border-collapse: separate;\n",
       "                border-spacing: 0;\n",
       "                background: var(--jl-bg-primary);\n",
       "                border: 1px solid var(--jl-border-color);\n",
       "                margin-top: -1px;\n",
       "            }\n",
       "            \n",
       "            .job-logger-cell {\n",
       "                padding: 12px 16px;\n",
       "                border-bottom: 1px solid var(--jl-border-color);\n",
       "                line-height: 1.4;\n",
       "            }\n",
       "            \n",
       "            .job-logger-label {\n",
       "                font-weight: 500;\n",
       "                color: var(--jl-text-primary);\n",
       "                width: 25%;\n",
       "                background: var(--jl-bg-secondary);\n",
       "            }\n",
       "            \n",
       "            .job-logger-value {\n",
       "                color: var(--jl-text-secondary);\n",
       "                word-break: break-word;\n",
       "            }\n",
       "            \n",
       "            .job-logger-status {\n",
       "                margin: 0;\n",
       "                padding: 12px 16px;\n",
       "                background-color: var(--jl-bg-secondary);\n",
       "                border: 1px solid var(--jl-border-color);\n",
       "                border-top: none;\n",
       "                border-radius: 0 0 4px 4px;\n",
       "                color: var(--jl-text-primary);\n",
       "                font-size: 0.95em;\n",
       "            }\n",
       "        </style>\n",
       "        \n",
       "        <script>\n",
       "            class ThemeManager {\n",
       "                constructor(logId, initialTheme = 'auto') {\n",
       "                    this.logId = logId;\n",
       "                    this.currentTheme = initialTheme;\n",
       "                    this.darkModeMediaQuery = window.matchMedia('(prefers-color-scheme: dark)');\n",
       "                    this.init();\n",
       "                }\n",
       "                \n",
       "                init() {\n",
       "                    this.setupThemeSwitcher();\n",
       "                    this.updateTheme(this.currentTheme);\n",
       "                    \n",
       "                    this.darkModeMediaQuery.addListener(() => {\n",
       "                        if (this.currentTheme === 'auto') {\n",
       "                            this.updateTheme('auto');\n",
       "                        }\n",
       "                    });\n",
       "                }\n",
       "                \n",
       "                setupThemeSwitcher() {\n",
       "                    const logger = document.querySelector(`#logger-${this.logId}`);\n",
       "                    if (!logger) return;\n",
       "                    \n",
       "                    const switcher = document.createElement('div');\n",
       "                    switcher.className = 'theme-switcher';\n",
       "                    switcher.innerHTML = `\n",
       "                        <select id=\"theme-select-${this.logId}\" class=\"theme-select\">\n",
       "                            <option value=\"auto\">Auto</option>\n",
       "                            <option value=\"light\">Light</option>\n",
       "                            <option value=\"dark\">Dark</option>\n",
       "                            <option value=\"high-contrast\">High Contrast</option>\n",
       "                        </select>\n",
       "                    `;\n",
       "                    \n",
       "                    const header = logger.querySelector('.job-logger-header');\n",
       "                    header.appendChild(switcher);\n",
       "                    \n",
       "                    const select = switcher.querySelector('select');\n",
       "                    select.value = this.currentTheme;\n",
       "                    select.addEventListener('change', (e) => {\n",
       "                        this.updateTheme(e.target.value);\n",
       "                    });\n",
       "                }\n",
       "                \n",
       "                updateTheme(theme) {\n",
       "                    const logger = document.querySelector(`#logger-${this.logId}`);\n",
       "                    if (!logger) return;\n",
       "                    \n",
       "                    this.currentTheme = theme;\n",
       "                    \n",
       "                    logger.classList.remove('theme-light', 'theme-dark', 'theme-high-contrast');\n",
       "                    \n",
       "                    if (theme === 'auto') {\n",
       "                        const isDark = this.darkModeMediaQuery.matches;\n",
       "                        logger.classList.add(isDark ? 'theme-dark' : 'theme-light');\n",
       "                    } else {\n",
       "                        logger.classList.add(`theme-${theme}`);\n",
       "                    }\n",
       "                    \n",
       "                    try {\n",
       "                        localStorage.setItem('jobLoggerTheme', theme);\n",
       "                    } catch (e) {\n",
       "                        console.warn('Unable to save theme preference:', e);\n",
       "                    }\n",
       "                }\n",
       "            }\n",
       "            \n",
       "            window.initThemeManager = (logId, initialTheme) => {\n",
       "                new ThemeManager(logId, initialTheme);\n",
       "            };\n",
       "        </script>\n",
       "        \n",
       "        <script>\n",
       "            document.addEventListener('DOMContentLoaded', () => {\n",
       "                window.initThemeManager('57569431-1325-4c48-8595-d0d9785ea468', 'auto');\n",
       "            });\n",
       "        </script>\n",
       "        "
      ],
      "text/plain": [
       "<IPython.core.display.HTML object>"
      ]
     },
     "metadata": {},
     "output_type": "display_data"
    }
   ],
   "source": [
    "results = survey.by(scenarios).by(agent).by(model).run()"
   ]
  },
  {
   "cell_type": "markdown",
   "id": "cd7434e2-5dc7-45c9-b708-737ad2178234",
   "metadata": {
    "editable": true,
    "slideshow": {
     "slide_type": ""
    },
    "tags": []
   },
   "source": [
    "This generates a dataset of `Results` that we can begin analyzing. \n",
    "EDSL comes with [built-in methods for analyzing results](https://docs.expectedparrot.com/en/latest/results.html).\n",
    "For example, we can print the responses in a table:"
   ]
  },
  {
   "cell_type": "code",
   "execution_count": 11,
   "id": "d64e159e-2ab1-40fb-9573-00151330f3a0",
   "metadata": {
    "editable": true,
    "slideshow": {
     "slide_type": ""
    },
    "tags": []
   },
   "outputs": [
    {
     "data": {
      "text/html": [
       "\n",
       "            <div style=\"max-height: 500px; overflow-y: auto;\">\n",
       "                <style type=\"text/css\">\n",
       "#T_9138c_row0_col0, #T_9138c_row0_col1, #T_9138c_row0_col2, #T_9138c_row0_col3, #T_9138c_row1_col0, #T_9138c_row1_col1, #T_9138c_row1_col2, #T_9138c_row1_col3, #T_9138c_row2_col0, #T_9138c_row2_col1, #T_9138c_row2_col2, #T_9138c_row2_col3, #T_9138c_row3_col0, #T_9138c_row3_col1, #T_9138c_row3_col2, #T_9138c_row3_col3, #T_9138c_row4_col0, #T_9138c_row4_col1, #T_9138c_row4_col2, #T_9138c_row4_col3, #T_9138c_row5_col0, #T_9138c_row5_col1, #T_9138c_row5_col2, #T_9138c_row5_col3, #T_9138c_row6_col0, #T_9138c_row6_col1, #T_9138c_row6_col2, #T_9138c_row6_col3, #T_9138c_row7_col0, #T_9138c_row7_col1, #T_9138c_row7_col2, #T_9138c_row7_col3, #T_9138c_row8_col0, #T_9138c_row8_col1, #T_9138c_row8_col2, #T_9138c_row8_col3, #T_9138c_row9_col0, #T_9138c_row9_col1, #T_9138c_row9_col2, #T_9138c_row9_col3 {\n",
       "  text-align: left;\n",
       "}\n",
       "</style>\n",
       "<table id=\"T_9138c\">\n",
       "  <thead>\n",
       "    <tr>\n",
       "      <th class=\"blank level0\" >&nbsp;</th>\n",
       "      <th id=\"T_9138c_level0_col0\" class=\"col_heading level0 col0\" >answer.name</th>\n",
       "      <th id=\"T_9138c_level0_col1\" class=\"col_heading level0 col1\" >answer.email</th>\n",
       "      <th id=\"T_9138c_level0_col2\" class=\"col_heading level0 col2\" >answer.questions</th>\n",
       "      <th id=\"T_9138c_level0_col3\" class=\"col_heading level0 col3\" >answer.requests</th>\n",
       "    </tr>\n",
       "  </thead>\n",
       "  <tbody>\n",
       "    <tr>\n",
       "      <th id=\"T_9138c_level0_row0\" class=\"row_heading level0 row0\" >0</th>\n",
       "      <td id=\"T_9138c_row0_col0\" class=\"data row0 col0\" >Emily Davis</td>\n",
       "      <td id=\"T_9138c_row0_col1\" class=\"data row0 col1\" >emily.davis@example.com</td>\n",
       "      <td id=\"T_9138c_row0_col2\" class=\"data row0 col2\" >[\"I'm having trouble with the 3D rendering feature\", \"Which version of the software you're using?\", 'Could I have your name and email address to send you further instructions?']</td>\n",
       "      <td id=\"T_9138c_row0_col3\" class=\"data row0 col3\" >['Help with 3D rendering feature crashing', 'Version update to resolve issue', 'Remote support session instructions']</td>\n",
       "    </tr>\n",
       "    <tr>\n",
       "      <th id=\"T_9138c_level0_row1\" class=\"row_heading level0 row1\" >1</th>\n",
       "      <td id=\"T_9138c_row1_col0\" class=\"data row1 col0\" >Sarah Johnson</td>\n",
       "      <td id=\"T_9138c_row1_col1\" class=\"data row1 col1\" >sarah.johnson@example.com</td>\n",
       "      <td id=\"T_9138c_row1_col2\" class=\"data row1 col2\" >['Is there a video or a guide available?']</td>\n",
       "      <td id=\"T_9138c_row1_col3\" class=\"data row1 col3\" >['tutorial on how to use the budget tracking feature', 'video or a guide']</td>\n",
       "    </tr>\n",
       "    <tr>\n",
       "      <th id=\"T_9138c_level0_row2\" class=\"row_heading level0 row2\" >2</th>\n",
       "      <td id=\"T_9138c_row2_col0\" class=\"data row2 col0\" >Mike Thomas</td>\n",
       "      <td id=\"T_9138c_row2_col1\" class=\"data row2 col1\" >mike.thomas@example.com</td>\n",
       "      <td id=\"T_9138c_row2_col2\" class=\"data row2 col2\" >['I need help with my account', \"I can't seem to reset my password\", \"I'm locked out\"]</td>\n",
       "      <td id=\"T_9138c_row2_col3\" class=\"data row2 col3\" >['Help with account', 'Password reset', 'Locked out of account']</td>\n",
       "    </tr>\n",
       "    <tr>\n",
       "      <th id=\"T_9138c_level0_row3\" class=\"row_heading level0 row3\" >3</th>\n",
       "      <td id=\"T_9138c_row3_col0\" class=\"data row3 col0\" >Laura Miller</td>\n",
       "      <td id=\"T_9138c_row3_col1\" class=\"data row3 col1\" >laura.miller@example.com</td>\n",
       "      <td id=\"T_9138c_row3_col2\" class=\"data row3 col2\" >['What are the options available?']</td>\n",
       "      <td id=\"T_9138c_row3_col3\" class=\"data row3 col3\" >['upgrading subscription plan', 'email comparison chart']</td>\n",
       "    </tr>\n",
       "    <tr>\n",
       "      <th id=\"T_9138c_level0_row4\" class=\"row_heading level0 row4\" >4</th>\n",
       "      <td id=\"T_9138c_row4_col0\" class=\"data row4 col0\" >Jason Lee</td>\n",
       "      <td id=\"T_9138c_row4_col1\" class=\"data row4 col1\" >jason.lee@example.com</td>\n",
       "      <td id=\"T_9138c_row4_col2\" class=\"data row4 col2\" >['How can I resolve the issue with exporting my project to PDF?', 'Which version of the software should I use?', \"What should I do if updating and reinstalling doesn't work?\"]</td>\n",
       "      <td id=\"T_9138c_row4_col3\" class=\"data row4 col3\" >['Issue with exporting project to PDF', 'Assistance with corrupted file', 'Follow-up from technical support']</td>\n",
       "    </tr>\n",
       "    <tr>\n",
       "      <th id=\"T_9138c_level0_row5\" class=\"row_heading level0 row5\" >5</th>\n",
       "      <td id=\"T_9138c_row5_col0\" class=\"data row5 col0\" >Olivia Brown</td>\n",
       "      <td id=\"T_9138c_row5_col1\" class=\"data row5 col1\" >olivia.brown@example.com</td>\n",
       "      <td id=\"T_9138c_row5_col2\" class=\"data row5 col2\" >['Can multiple users work on the same project simultaneously?', 'How do I invite team members to my project?']</td>\n",
       "      <td id=\"T_9138c_row5_col3\" class=\"data row5 col3\" >['If multiple users can work on the same project simultaneously', 'How to invite team members to a project']</td>\n",
       "    </tr>\n",
       "    <tr>\n",
       "      <th id=\"T_9138c_level0_row6\" class=\"row_heading level0 row6\" >6</th>\n",
       "      <td id=\"T_9138c_row6_col0\" class=\"data row6 col0\" >Kevin Turner</td>\n",
       "      <td id=\"T_9138c_row6_col1\" class=\"data row6 col1\" >kevin.turner@example.com</td>\n",
       "      <td id=\"T_9138c_row6_col2\" class=\"data row6 col2\" >['How can I generate a cost estimate for my renovation project?', \"Why don't the numbers add up correctly?\"]</td>\n",
       "      <td id=\"T_9138c_row6_col3\" class=\"data row6 col3\" >['Generate a cost estimate for a renovation project', 'Assistance with automated cost estimation tool']</td>\n",
       "    </tr>\n",
       "    <tr>\n",
       "      <th id=\"T_9138c_level0_row7\" class=\"row_heading level0 row7\" >7</th>\n",
       "      <td id=\"T_9138c_row7_col0\" class=\"data row7 col0\" >Lisa Harris</td>\n",
       "      <td id=\"T_9138c_row7_col1\" class=\"data row7 col1\" >lisa.harris@example.com</td>\n",
       "      <td id=\"T_9138c_row7_col2\" class=\"data row7 col2\" >[\"I'm having trouble accessing my saved projects\", \"They don't appear in my account anymore\"]</td>\n",
       "      <td id=\"T_9138c_row7_col3\" class=\"data row7 col3\" >['Accessing saved projects']</td>\n",
       "    </tr>\n",
       "    <tr>\n",
       "      <th id=\"T_9138c_level0_row8\" class=\"row_heading level0 row8\" >8</th>\n",
       "      <td id=\"T_9138c_row8_col0\" class=\"data row8 col0\" >Daniel Moore</td>\n",
       "      <td id=\"T_9138c_row8_col1\" class=\"data row8 col1\" >daniel.moore@example.com</td>\n",
       "      <td id=\"T_9138c_row8_col2\" class=\"data row8 col2\" >[\"Is there anything specific you'd like to see in this scheduling tool?\"]</td>\n",
       "      <td id=\"T_9138c_row8_col3\" class=\"data row8 col3\" >['a tool that helps with project scheduling and timelines', 'Gantt charts', 'reminders for key milestones']</td>\n",
       "    </tr>\n",
       "    <tr>\n",
       "      <th id=\"T_9138c_level0_row9\" class=\"row_heading level0 row9\" >9</th>\n",
       "      <td id=\"T_9138c_row9_col0\" class=\"data row9 col0\" >Amanda Clark</td>\n",
       "      <td id=\"T_9138c_row9_col1\" class=\"data row9 col1\" >amanda.clark@example.com</td>\n",
       "      <td id=\"T_9138c_row9_col2\" class=\"data row9 col2\" >['Questions about the trial period']</td>\n",
       "      <td id=\"T_9138c_row9_col3\" class=\"data row9 col3\" >['Information about the trial period']</td>\n",
       "    </tr>\n",
       "  </tbody>\n",
       "</table>\n",
       "\n",
       "            </div>\n",
       "            "
      ],
      "text/plain": [
       "Dataset([{'answer.name': ['Emily Davis', 'Sarah Johnson', 'Mike Thomas', 'Laura Miller', 'Jason Lee', 'Olivia Brown', 'Kevin Turner', 'Lisa Harris', 'Daniel Moore', 'Amanda Clark']}, {'answer.email': ['emily.davis@example.com', 'sarah.johnson@example.com', 'mike.thomas@example.com', 'laura.miller@example.com', 'jason.lee@example.com', 'olivia.brown@example.com', 'kevin.turner@example.com', 'lisa.harris@example.com', 'daniel.moore@example.com', 'amanda.clark@example.com']}, {'answer.questions': [[\"I'm having trouble with the 3D rendering feature\", \"Which version of the software you're using?\", 'Could I have your name and email address to send you further instructions?'], ['Is there a video or a guide available?'], ['I need help with my account', \"I can't seem to reset my password\", \"I'm locked out\"], ['What are the options available?'], ['How can I resolve the issue with exporting my project to PDF?', 'Which version of the software should I use?', \"What should I do if updating and reinstalling doesn't work?\"], ['Can multiple users work on the same project simultaneously?', 'How do I invite team members to my project?'], ['How can I generate a cost estimate for my renovation project?', \"Why don't the numbers add up correctly?\"], [\"I'm having trouble accessing my saved projects\", \"They don't appear in my account anymore\"], [\"Is there anything specific you'd like to see in this scheduling tool?\"], ['Questions about the trial period']]}, {'answer.requests': [['Help with 3D rendering feature crashing', 'Version update to resolve issue', 'Remote support session instructions'], ['tutorial on how to use the budget tracking feature', 'video or a guide'], ['Help with account', 'Password reset', 'Locked out of account'], ['upgrading subscription plan', 'email comparison chart'], ['Issue with exporting project to PDF', 'Assistance with corrupted file', 'Follow-up from technical support'], ['If multiple users can work on the same project simultaneously', 'How to invite team members to a project'], ['Generate a cost estimate for a renovation project', 'Assistance with automated cost estimation tool'], ['Accessing saved projects'], ['a tool that helps with project scheduling and timelines', 'Gantt charts', 'reminders for key milestones'], ['Information about the trial period']]}])"
      ]
     },
     "execution_count": 11,
     "metadata": {},
     "output_type": "execute_result"
    }
   ],
   "source": [
    "results.select(\"name\", \"email\", \"questions\", \"requests\")"
   ]
  },
  {
   "cell_type": "markdown",
   "id": "c0e8fddf-2389-4ae9-a5ec-0daa74efa2d7",
   "metadata": {
    "editable": true,
    "slideshow": {
     "slide_type": ""
    },
    "tags": []
   },
   "source": [
    "## Quantifying responses\n",
    "We can use the lists of caller questions and requests to quantify them (how often do they appear in the calls?). We start by prompting an agent to synthesize the lists into comprehensive lists that we can use as question options for new questions:"
   ]
  },
  {
   "cell_type": "code",
   "execution_count": 12,
   "id": "4a2f43db-7128-4918-97c1-d55c8b7e7f53",
   "metadata": {
    "editable": true,
    "slideshow": {
     "slide_type": ""
    },
    "tags": []
   },
   "outputs": [
    {
     "data": {
      "text/plain": [
       "19"
      ]
     },
     "execution_count": 12,
     "metadata": {},
     "output_type": "execute_result"
    }
   ],
   "source": [
    "caller_questions = results.select(\"questions\").to_list(flatten=True)\n",
    "len(caller_questions)"
   ]
  },
  {
   "cell_type": "code",
   "execution_count": 13,
   "id": "58057d4b-2c12-4de6-a56e-a9f308ed33f5",
   "metadata": {
    "editable": true,
    "slideshow": {
     "slide_type": ""
    },
    "tags": []
   },
   "outputs": [
    {
     "data": {
      "text/plain": [
       "22"
      ]
     },
     "execution_count": 13,
     "metadata": {},
     "output_type": "execute_result"
    }
   ],
   "source": [
    "caller_requests = results.select(\"requests\").to_list(flatten=True)\n",
    "len(caller_requests)"
   ]
  },
  {
   "cell_type": "code",
   "execution_count": 14,
   "id": "20179f02-a7b1-4388-8c2f-632dc523d63f",
   "metadata": {
    "editable": true,
    "slideshow": {
     "slide_type": ""
    },
    "tags": []
   },
   "outputs": [
    {
     "data": {
      "text/html": [
       "\n",
       "            <!-- #region Remove Inference Info -->\n",
       "            <div id=\"logger-458548e3-a3fe-4808-acfa-e7d5db28fb33\" class=\"job-logger\">\n",
       "                <div class=\"job-logger-header\">\n",
       "                    <span>\n",
       "                        <span id=\"arrow-458548e3-a3fe-4808-acfa-e7d5db28fb33\">▼</span> \n",
       "                        Job Status (2025-03-03 12:43:42)\n",
       "                    </span>\n",
       "                </div>\n",
       "                <div id=\"content-458548e3-a3fe-4808-acfa-e7d5db28fb33\" style=\"display: block;\">\n",
       "                    <table class=\"job-logger-table\">\n",
       "                        \n",
       "            <tr>\n",
       "                <td class=\"job-logger-cell job-logger-label\">Job UUID</td>\n",
       "                <td class=\"job-logger-cell job-logger-value\">eeff2d3b-9551-4ef7-bcc4-f3dfc765d907</td>\n",
       "            </tr>\n",
       "        \n",
       "            <tr>\n",
       "                <td class=\"job-logger-cell job-logger-label\">Progress Bar URL</td>\n",
       "                <td class=\"job-logger-cell job-logger-value\"><a href=\"https://www.expectedparrot.com/home/remote-job-progress/eeff2d3b-9551-4ef7-bcc4-f3dfc765d907\" target=\"_blank\" class=\"job-logger-link\">https://www.expectedparrot.com/home/remote-job-progress/eeff2d3b-9551-4ef7-bcc4-f3dfc765d907</a></td>\n",
       "            </tr>\n",
       "        \n",
       "            <tr>\n",
       "                <td class=\"job-logger-cell job-logger-label\">Exceptions Report URL</td>\n",
       "                <td class=\"job-logger-cell job-logger-value\">None</td>\n",
       "            </tr>\n",
       "        \n",
       "            <tr>\n",
       "                <td class=\"job-logger-cell job-logger-label\">Results UUID</td>\n",
       "                <td class=\"job-logger-cell job-logger-value\">287f32bb-6ca2-48a4-a9eb-5e6cdd0437eb</td>\n",
       "            </tr>\n",
       "        \n",
       "            <tr>\n",
       "                <td class=\"job-logger-cell job-logger-label\">Results URL</td>\n",
       "                <td class=\"job-logger-cell job-logger-value\"><a href=\"https://www.expectedparrot.com/content/287f32bb-6ca2-48a4-a9eb-5e6cdd0437eb\" target=\"_blank\" class=\"job-logger-link\">https://www.expectedparrot.com/content/287f32bb-6ca2-48a4-a9eb-5e6cdd0437eb</a></td>\n",
       "            </tr>\n",
       "        \n",
       "                    </table>\n",
       "                    \n",
       "                <div class=\"job-logger-status\">\n",
       "                    <span style=\"margin-right: 8px;\" class=\"job-logger-success\">✓</span><strong>Current Status:</strong> Job completed and Results stored on Coop: <a href=\"https://www.expectedparrot.com/content/287f32bb-6ca2-48a4-a9eb-5e6cdd0437eb\" target=\"_blank\" class=\"job-logger-link\">https://www.expectedparrot.com/content/287f32bb-6ca2-48a4-a9eb-5e6cdd0437eb</a>\n",
       "                </div>\n",
       "            \n",
       "                </div>\n",
       "            </div>\n",
       "            <!-- # endregion -->\n",
       "        "
      ],
      "text/plain": [
       "<IPython.core.display.HTML object>"
      ]
     },
     "metadata": {},
     "output_type": "display_data"
    },
    {
     "data": {
      "text/html": [
       "\n",
       "        <style>\n",
       "            /* Base theme variables */\n",
       "            :root {\n",
       "                --jl-bg-primary: #ffffff;\n",
       "                --jl-bg-secondary: #f5f5f5;\n",
       "                --jl-border-color: #e0e0e0;\n",
       "                --jl-text-primary: #24292e;\n",
       "                --jl-text-secondary: #586069;\n",
       "                --jl-link-color: #0366d6;\n",
       "                --jl-success-color: #28a745;\n",
       "                --jl-error-color: #d73a49;\n",
       "                --jl-header-bg: #f1f1f1;\n",
       "            }\n",
       "            \n",
       "            /* Dark theme variables */\n",
       "            .theme-dark {\n",
       "                --jl-bg-primary: #1e1e1e;\n",
       "                --jl-bg-secondary: #252526;\n",
       "                --jl-border-color: #2d2d2d;\n",
       "                --jl-text-primary: #cccccc;\n",
       "                --jl-text-secondary: #999999;\n",
       "                --jl-link-color: #4e94ce;\n",
       "                --jl-success-color: #89d185;\n",
       "                --jl-error-color: #f14c4c;\n",
       "                --jl-header-bg: #333333;\n",
       "            }\n",
       "\n",
       "            /* High contrast theme variables */\n",
       "            .theme-high-contrast {\n",
       "                --jl-bg-primary: #000000;\n",
       "                --jl-bg-secondary: #1a1a1a;\n",
       "                --jl-border-color: #404040;\n",
       "                --jl-text-primary: #ffffff;\n",
       "                --jl-text-secondary: #cccccc;\n",
       "                --jl-link-color: #66b3ff;\n",
       "                --jl-success-color: #00ff00;\n",
       "                --jl-error-color: #ff0000;\n",
       "                --jl-header-bg: #262626;\n",
       "            }\n",
       "            \n",
       "            .job-logger {\n",
       "                font-family: system-ui, -apple-system, sans-serif;\n",
       "                max-width: 800px;\n",
       "                margin: 10px 0;\n",
       "                color: var(--jl-text-primary);\n",
       "                box-shadow: 0 1px 3px rgba(0,0,0,0.12);\n",
       "                border-radius: 4px;\n",
       "                overflow: hidden;\n",
       "            }\n",
       "            \n",
       "            .job-logger-header {\n",
       "                padding: 12px 16px;\n",
       "                background: var(--jl-header-bg);\n",
       "                border: none;\n",
       "                border-radius: 4px 4px 0 0;\n",
       "                cursor: pointer;\n",
       "                color: var(--jl-text-primary);\n",
       "                user-select: none;\n",
       "                font-weight: 500;\n",
       "                letter-spacing: 0.3px;\n",
       "                display: flex;\n",
       "                justify-content: space-between;\n",
       "                align-items: center;\n",
       "            }\n",
       "            \n",
       "            .theme-select {\n",
       "                padding: 4px 8px;\n",
       "                border-radius: 4px;\n",
       "                border: 1px solid var(--jl-border-color);\n",
       "                background: var(--jl-bg-primary);\n",
       "                color: var(--jl-text-primary);\n",
       "                font-size: 0.9em;\n",
       "            }\n",
       "            \n",
       "            .job-logger-table {\n",
       "                width: 100%;\n",
       "                border-collapse: separate;\n",
       "                border-spacing: 0;\n",
       "                background: var(--jl-bg-primary);\n",
       "                border: 1px solid var(--jl-border-color);\n",
       "                margin-top: -1px;\n",
       "            }\n",
       "            \n",
       "            .job-logger-cell {\n",
       "                padding: 12px 16px;\n",
       "                border-bottom: 1px solid var(--jl-border-color);\n",
       "                line-height: 1.4;\n",
       "            }\n",
       "            \n",
       "            .job-logger-label {\n",
       "                font-weight: 500;\n",
       "                color: var(--jl-text-primary);\n",
       "                width: 25%;\n",
       "                background: var(--jl-bg-secondary);\n",
       "            }\n",
       "            \n",
       "            .job-logger-value {\n",
       "                color: var(--jl-text-secondary);\n",
       "                word-break: break-word;\n",
       "            }\n",
       "            \n",
       "            .job-logger-status {\n",
       "                margin: 0;\n",
       "                padding: 12px 16px;\n",
       "                background-color: var(--jl-bg-secondary);\n",
       "                border: 1px solid var(--jl-border-color);\n",
       "                border-top: none;\n",
       "                border-radius: 0 0 4px 4px;\n",
       "                color: var(--jl-text-primary);\n",
       "                font-size: 0.95em;\n",
       "            }\n",
       "        </style>\n",
       "        \n",
       "        <script>\n",
       "            class ThemeManager {\n",
       "                constructor(logId, initialTheme = 'auto') {\n",
       "                    this.logId = logId;\n",
       "                    this.currentTheme = initialTheme;\n",
       "                    this.darkModeMediaQuery = window.matchMedia('(prefers-color-scheme: dark)');\n",
       "                    this.init();\n",
       "                }\n",
       "                \n",
       "                init() {\n",
       "                    this.setupThemeSwitcher();\n",
       "                    this.updateTheme(this.currentTheme);\n",
       "                    \n",
       "                    this.darkModeMediaQuery.addListener(() => {\n",
       "                        if (this.currentTheme === 'auto') {\n",
       "                            this.updateTheme('auto');\n",
       "                        }\n",
       "                    });\n",
       "                }\n",
       "                \n",
       "                setupThemeSwitcher() {\n",
       "                    const logger = document.querySelector(`#logger-${this.logId}`);\n",
       "                    if (!logger) return;\n",
       "                    \n",
       "                    const switcher = document.createElement('div');\n",
       "                    switcher.className = 'theme-switcher';\n",
       "                    switcher.innerHTML = `\n",
       "                        <select id=\"theme-select-${this.logId}\" class=\"theme-select\">\n",
       "                            <option value=\"auto\">Auto</option>\n",
       "                            <option value=\"light\">Light</option>\n",
       "                            <option value=\"dark\">Dark</option>\n",
       "                            <option value=\"high-contrast\">High Contrast</option>\n",
       "                        </select>\n",
       "                    `;\n",
       "                    \n",
       "                    const header = logger.querySelector('.job-logger-header');\n",
       "                    header.appendChild(switcher);\n",
       "                    \n",
       "                    const select = switcher.querySelector('select');\n",
       "                    select.value = this.currentTheme;\n",
       "                    select.addEventListener('change', (e) => {\n",
       "                        this.updateTheme(e.target.value);\n",
       "                    });\n",
       "                }\n",
       "                \n",
       "                updateTheme(theme) {\n",
       "                    const logger = document.querySelector(`#logger-${this.logId}`);\n",
       "                    if (!logger) return;\n",
       "                    \n",
       "                    this.currentTheme = theme;\n",
       "                    \n",
       "                    logger.classList.remove('theme-light', 'theme-dark', 'theme-high-contrast');\n",
       "                    \n",
       "                    if (theme === 'auto') {\n",
       "                        const isDark = this.darkModeMediaQuery.matches;\n",
       "                        logger.classList.add(isDark ? 'theme-dark' : 'theme-light');\n",
       "                    } else {\n",
       "                        logger.classList.add(`theme-${theme}`);\n",
       "                    }\n",
       "                    \n",
       "                    try {\n",
       "                        localStorage.setItem('jobLoggerTheme', theme);\n",
       "                    } catch (e) {\n",
       "                        console.warn('Unable to save theme preference:', e);\n",
       "                    }\n",
       "                }\n",
       "            }\n",
       "            \n",
       "            window.initThemeManager = (logId, initialTheme) => {\n",
       "                new ThemeManager(logId, initialTheme);\n",
       "            };\n",
       "        </script>\n",
       "        \n",
       "        <script>\n",
       "            document.addEventListener('DOMContentLoaded', () => {\n",
       "                window.initThemeManager('458548e3-a3fe-4808-acfa-e7d5db28fb33', 'auto');\n",
       "            });\n",
       "        </script>\n",
       "        "
      ],
      "text/plain": [
       "<IPython.core.display.HTML object>"
      ]
     },
     "metadata": {},
     "output_type": "display_data"
    }
   ],
   "source": [
    "q_condense = QuestionList(\n",
    "    question_name=\"condense\",\n",
    "    question_text=\"\"\"\n",
    "    You have reviewed a set of call transcripts and compiled a detailed list of {{ scenario.topic }}. \n",
    "    Now you are being asked to condense this list into a more generalized but comprehensive \n",
    "    list that can be used to quanitfy the {{ scenario.topic }} efficiently (i.e., combine like items \n",
    "    on the list). Here is the list to be condensed: {{ scenario.list }}\n",
    "    \"\"\",\n",
    "    max_list_items=10,  # Optional\n",
    ")\n",
    "\n",
    "scenarios = ScenarioList([\n",
    "    Scenario({\"topic\": \"caller questions\", \"list\": caller_questions}),\n",
    "    Scenario({\"topic\": \"caller requests\", \"list\": caller_requests}),\n",
    "])\n",
    "\n",
    "condensed_lists = q_condense.by(scenarios).run()"
   ]
  },
  {
   "cell_type": "code",
   "execution_count": 15,
   "id": "e080107d-40a5-4439-90ce-a67c1aaa9c44",
   "metadata": {
    "editable": true,
    "slideshow": {
     "slide_type": ""
    },
    "tags": []
   },
   "outputs": [
    {
     "data": {
      "text/html": [
       "\n",
       "            <div style=\"max-height: 500px; overflow-y: auto;\">\n",
       "                <style type=\"text/css\">\n",
       "#T_74e8d_row0_col0, #T_74e8d_row0_col1, #T_74e8d_row1_col0, #T_74e8d_row1_col1 {\n",
       "  text-align: left;\n",
       "}\n",
       "</style>\n",
       "<table id=\"T_74e8d\">\n",
       "  <thead>\n",
       "    <tr>\n",
       "      <th class=\"blank level0\" >&nbsp;</th>\n",
       "      <th id=\"T_74e8d_level0_col0\" class=\"col_heading level0 col0\" >scenario.topic</th>\n",
       "      <th id=\"T_74e8d_level0_col1\" class=\"col_heading level0 col1\" >answer.condense</th>\n",
       "    </tr>\n",
       "  </thead>\n",
       "  <tbody>\n",
       "    <tr>\n",
       "      <th id=\"T_74e8d_level0_row0\" class=\"row_heading level0 row0\" >0</th>\n",
       "      <td id=\"T_74e8d_row0_col0\" class=\"data row0 col0\" >caller questions</td>\n",
       "      <td id=\"T_74e8d_row0_col1\" class=\"data row0 col1\" >['Technical issues with software features', 'Version and update inquiries', 'Account access and password issues', 'Guides and instructional resources', 'Project collaboration and team management', 'Exporting and file management issues', 'Cost estimation and project calculations', 'Data access and retrieval issues', 'Feedback and feature requests', 'Trial period questions']</td>\n",
       "    </tr>\n",
       "    <tr>\n",
       "      <th id=\"T_74e8d_level0_row1\" class=\"row_heading level0 row1\" >1</th>\n",
       "      <td id=\"T_74e8d_row1_col0\" class=\"data row1 col0\" >caller requests</td>\n",
       "      <td id=\"T_74e8d_row1_col1\" class=\"data row1 col1\" >['Technical support and troubleshooting', 'Account access and security', 'Subscription and billing inquiries', 'Feature usage tutorials and guides', 'Project collaboration and management', 'Software updates and version issues', 'Exporting and file handling', 'Automated tools and estimation', 'Trial period information', 'Remote support and follow-up']</td>\n",
       "    </tr>\n",
       "  </tbody>\n",
       "</table>\n",
       "\n",
       "            </div>\n",
       "            "
      ],
      "text/plain": [
       "Dataset([{'scenario.topic': ['caller questions', 'caller requests']}, {'answer.condense': [['Technical issues with software features', 'Version and update inquiries', 'Account access and password issues', 'Guides and instructional resources', 'Project collaboration and team management', 'Exporting and file management issues', 'Cost estimation and project calculations', 'Data access and retrieval issues', 'Feedback and feature requests', 'Trial period questions'], ['Technical support and troubleshooting', 'Account access and security', 'Subscription and billing inquiries', 'Feature usage tutorials and guides', 'Project collaboration and management', 'Software updates and version issues', 'Exporting and file handling', 'Automated tools and estimation', 'Trial period information', 'Remote support and follow-up']]}])"
      ]
     },
     "execution_count": 15,
     "metadata": {},
     "output_type": "execute_result"
    }
   ],
   "source": [
    "condensed_lists.select(\"topic\", \"condense\")"
   ]
  },
  {
   "cell_type": "markdown",
   "id": "2eea9f63-adf2-4ef9-bde2-ebf9d2c61433",
   "metadata": {
    "editable": true,
    "slideshow": {
     "slide_type": ""
    },
    "tags": []
   },
   "source": [
    "We can use the condensed lists as options for new questions quantifying the topics:"
   ]
  },
  {
   "cell_type": "code",
   "execution_count": 16,
   "id": "dbd4702c-e983-449d-a135-de9434798fda",
   "metadata": {
    "editable": true,
    "slideshow": {
     "slide_type": ""
    },
    "tags": []
   },
   "outputs": [
    {
     "data": {
      "text/plain": [
       "['Technical issues with software features',\n",
       " 'Version and update inquiries',\n",
       " 'Account access and password issues',\n",
       " 'Guides and instructional resources',\n",
       " 'Project collaboration and team management',\n",
       " 'Exporting and file management issues',\n",
       " 'Cost estimation and project calculations',\n",
       " 'Data access and retrieval issues',\n",
       " 'Feedback and feature requests',\n",
       " 'Trial period questions']"
      ]
     },
     "execution_count": 16,
     "metadata": {},
     "output_type": "execute_result"
    }
   ],
   "source": [
    "condensed_questions = (\n",
    "    condensed_lists.filter(\"topic == 'caller questions'\").select(\"condense\").first()\n",
    ")\n",
    "condensed_questions"
   ]
  },
  {
   "cell_type": "code",
   "execution_count": 17,
   "id": "702fe3f9-bedc-4f46-a3bc-b83147e6bfc0",
   "metadata": {
    "editable": true,
    "slideshow": {
     "slide_type": ""
    },
    "tags": []
   },
   "outputs": [
    {
     "data": {
      "text/plain": [
       "['Technical support and troubleshooting',\n",
       " 'Account access and security',\n",
       " 'Subscription and billing inquiries',\n",
       " 'Feature usage tutorials and guides',\n",
       " 'Project collaboration and management',\n",
       " 'Software updates and version issues',\n",
       " 'Exporting and file handling',\n",
       " 'Automated tools and estimation',\n",
       " 'Trial period information',\n",
       " 'Remote support and follow-up']"
      ]
     },
     "execution_count": 17,
     "metadata": {},
     "output_type": "execute_result"
    }
   ],
   "source": [
    "condensed_requests = (\n",
    "    condensed_lists.filter(\"topic == 'caller requests'\").select(\"condense\").first()\n",
    ")\n",
    "condensed_requests"
   ]
  },
  {
   "cell_type": "code",
   "execution_count": 18,
   "id": "83f61405-e3c5-430f-b170-72b63dbb3974",
   "metadata": {
    "editable": true,
    "slideshow": {
     "slide_type": ""
    },
    "tags": []
   },
   "outputs": [],
   "source": [
    "from edsl import QuestionCheckBox\n",
    "\n",
    "q_questions_agg = QuestionCheckBox(\n",
    "    question_name=\"questions_agg\",\n",
    "    question_text=\"\"\"\n",
    "    Review the following call transcript and then identify the topic(s)\n",
    "    that the caller has questions about. Transcript: {{ scenario.transcript }}\n",
    "    \"\"\",\n",
    "    question_options=condensed_questions + [\"Something else\", \"None of these\"],\n",
    ")\n",
    "\n",
    "q_requests_agg = QuestionCheckBox(\n",
    "    question_name=\"requests_agg\",\n",
    "    question_text=\"\"\"\n",
    "    Review the following call transcript and then identify the topic(s)\n",
    "    that the caller has requests about. Transcript: {{ scenario.transcript }}\n",
    "    \"\"\",\n",
    "    question_options=condensed_requests + [\"Something else\", \"None of these\"],\n",
    ")\n",
    "\n",
    "survey = Survey([q_questions_agg, q_requests_agg])"
   ]
  },
  {
   "cell_type": "markdown",
   "id": "5286f3b6-b71f-4173-a409-6faa4c03eceb",
   "metadata": {
    "editable": true,
    "slideshow": {
     "slide_type": ""
    },
    "tags": []
   },
   "source": [
    "We can use the results of the initial survey as scenarios of our follow-on questions. The `to_scenario_list()` method lets us do this in a single step:"
   ]
  },
  {
   "cell_type": "code",
   "execution_count": 19,
   "id": "940495f8-bacf-4bde-9c1a-4593a3781679",
   "metadata": {
    "editable": true,
    "slideshow": {
     "slide_type": ""
    },
    "tags": []
   },
   "outputs": [
    {
     "data": {
      "text/html": [
       "<p><a href='https://docs.expectedparrot.com/en/latest/scenarios.html'>Scenario</a></p>\n",
       "            <div style=\"max-height: 500px; overflow-y: auto;\">\n",
       "                <style type=\"text/css\">\n",
       "#T_4e300_row0_col0, #T_4e300_row0_col1, #T_4e300_row1_col0, #T_4e300_row1_col1, #T_4e300_row2_col0, #T_4e300_row2_col1 {\n",
       "  text-align: left;\n",
       "}\n",
       "</style>\n",
       "<table id=\"T_4e300\">\n",
       "  <thead>\n",
       "    <tr>\n",
       "      <th class=\"blank level0\" >&nbsp;</th>\n",
       "      <th id=\"T_4e300_level0_col0\" class=\"col_heading level0 col0\" >key</th>\n",
       "      <th id=\"T_4e300_level0_col1\" class=\"col_heading level0 col1\" >value</th>\n",
       "    </tr>\n",
       "  </thead>\n",
       "  <tbody>\n",
       "    <tr>\n",
       "      <th id=\"T_4e300_level0_row0\" class=\"row_heading level0 row0\" >0</th>\n",
       "      <td id=\"T_4e300_row0_col0\" class=\"data row0 col0\" >name</td>\n",
       "      <td id=\"T_4e300_row0_col1\" class=\"data row0 col1\" >Emily Davis</td>\n",
       "    </tr>\n",
       "    <tr>\n",
       "      <th id=\"T_4e300_level0_row1\" class=\"row_heading level0 row1\" >1</th>\n",
       "      <td id=\"T_4e300_row1_col0\" class=\"data row1 col0\" >email</td>\n",
       "      <td id=\"T_4e300_row1_col1\" class=\"data row1 col1\" >emily.davis@example.com</td>\n",
       "    </tr>\n",
       "    <tr>\n",
       "      <th id=\"T_4e300_level0_row2\" class=\"row_heading level0 row2\" >2</th>\n",
       "      <td id=\"T_4e300_row2_col0\" class=\"data row2 col0\" >transcript</td>\n",
       "      <td id=\"T_4e300_row2_col1\" class=\"data row2 col1\" >\"Agent: Good morning, thank you for calling Renovation Software Solutions. How can I assist you today? Customer: Hi, I'm having trouble with the 3D rendering feature. It seems to crash every time I try to add a new room. Agent: I'm sorry to hear that. Let me check if there are any known issues with the 3D rendering feature. Can you tell me which version of the software you're using? Customer: I'm using version 5.3.2 on a Windows 10 PC. Agent: Thank you. There was a recent update that might resolve this issue. Please make sure your software is updated to the latest version. If the problem persists, we can arrange a remote support session to troubleshoot further. Could I have your name and email address to send you further instructions? Customer: Sure, it's Emily Davis, emily.davis@example.com. Agent: Great, I'll send the instructions to your email. I'll update the software and try again. If it still crashes, I'll call back. Thanks for your help. Agent: You're welcome. Have a great day! [Caller sounded frustrated]\",</td>\n",
       "    </tr>\n",
       "  </tbody>\n",
       "</table>\n",
       "\n",
       "            </div>\n",
       "            "
      ],
      "text/plain": [
       "Scenario({'name': 'Emily Davis', 'email': 'emily.davis@example.com', 'transcript': '\"Agent: Good morning, thank you for calling Renovation Software Solutions. How can I assist you today? Customer: Hi, I\\'m having trouble with the 3D rendering feature. It seems to crash every time I try to add a new room. Agent: I\\'m sorry to hear that. Let me check if there are any known issues with the 3D rendering feature. Can you tell me which version of the software you\\'re using? Customer: I\\'m using version 5.3.2 on a Windows 10 PC. Agent: Thank you. There was a recent update that might resolve this issue. Please make sure your software is updated to the latest version. If the problem persists, we can arrange a remote support session to troubleshoot further. Could I have your name and email address to send you further instructions? Customer: Sure, it\\'s Emily Davis, emily.davis@example.com. Agent: Great, I\\'ll send the instructions to your email. I\\'ll update the software and try again. If it still crashes, I\\'ll call back. Thanks for your help. Agent: You\\'re welcome. Have a great day! [Caller sounded frustrated]\",'})"
      ]
     },
     "execution_count": 19,
     "metadata": {},
     "output_type": "execute_result"
    }
   ],
   "source": [
    "scenarios = results.select(\"name\", \"email\", \"transcript\").to_scenario_list(\n",
    "    remove_prefix=True\n",
    ")\n",
    "scenarios[0]"
   ]
  },
  {
   "cell_type": "code",
   "execution_count": 20,
   "id": "3ba3b401-31b8-42f6-a2af-5e252105dde8",
   "metadata": {
    "editable": true,
    "slideshow": {
     "slide_type": ""
    },
    "tags": []
   },
   "outputs": [
    {
     "data": {
      "text/html": [
       "\n",
       "            <!-- #region Remove Inference Info -->\n",
       "            <div id=\"logger-639a55d0-f95e-4c0b-b55d-d821e6abb712\" class=\"job-logger\">\n",
       "                <div class=\"job-logger-header\">\n",
       "                    <span>\n",
       "                        <span id=\"arrow-639a55d0-f95e-4c0b-b55d-d821e6abb712\">▼</span> \n",
       "                        Job Status (2025-03-03 12:44:09)\n",
       "                    </span>\n",
       "                </div>\n",
       "                <div id=\"content-639a55d0-f95e-4c0b-b55d-d821e6abb712\" style=\"display: block;\">\n",
       "                    <table class=\"job-logger-table\">\n",
       "                        \n",
       "            <tr>\n",
       "                <td class=\"job-logger-cell job-logger-label\">Job UUID</td>\n",
       "                <td class=\"job-logger-cell job-logger-value\">993b0967-7b65-4019-93cc-dedf46716636</td>\n",
       "            </tr>\n",
       "        \n",
       "            <tr>\n",
       "                <td class=\"job-logger-cell job-logger-label\">Progress Bar URL</td>\n",
       "                <td class=\"job-logger-cell job-logger-value\"><a href=\"https://www.expectedparrot.com/home/remote-job-progress/993b0967-7b65-4019-93cc-dedf46716636\" target=\"_blank\" class=\"job-logger-link\">https://www.expectedparrot.com/home/remote-job-progress/993b0967-7b65-4019-93cc-dedf46716636</a></td>\n",
       "            </tr>\n",
       "        \n",
       "            <tr>\n",
       "                <td class=\"job-logger-cell job-logger-label\">Exceptions Report URL</td>\n",
       "                <td class=\"job-logger-cell job-logger-value\">None</td>\n",
       "            </tr>\n",
       "        \n",
       "            <tr>\n",
       "                <td class=\"job-logger-cell job-logger-label\">Results UUID</td>\n",
       "                <td class=\"job-logger-cell job-logger-value\">344831cd-7a6e-4952-b4ca-9bfd6c141024</td>\n",
       "            </tr>\n",
       "        \n",
       "            <tr>\n",
       "                <td class=\"job-logger-cell job-logger-label\">Results URL</td>\n",
       "                <td class=\"job-logger-cell job-logger-value\"><a href=\"https://www.expectedparrot.com/content/344831cd-7a6e-4952-b4ca-9bfd6c141024\" target=\"_blank\" class=\"job-logger-link\">https://www.expectedparrot.com/content/344831cd-7a6e-4952-b4ca-9bfd6c141024</a></td>\n",
       "            </tr>\n",
       "        \n",
       "                    </table>\n",
       "                    \n",
       "                <div class=\"job-logger-status\">\n",
       "                    <span style=\"margin-right: 8px;\" class=\"job-logger-success\">✓</span><strong>Current Status:</strong> Job completed and Results stored on Coop: <a href=\"https://www.expectedparrot.com/content/344831cd-7a6e-4952-b4ca-9bfd6c141024\" target=\"_blank\" class=\"job-logger-link\">https://www.expectedparrot.com/content/344831cd-7a6e-4952-b4ca-9bfd6c141024</a>\n",
       "                </div>\n",
       "            \n",
       "                </div>\n",
       "            </div>\n",
       "            <!-- # endregion -->\n",
       "        "
      ],
      "text/plain": [
       "<IPython.core.display.HTML object>"
      ]
     },
     "metadata": {},
     "output_type": "display_data"
    },
    {
     "data": {
      "text/html": [
       "\n",
       "        <style>\n",
       "            /* Base theme variables */\n",
       "            :root {\n",
       "                --jl-bg-primary: #ffffff;\n",
       "                --jl-bg-secondary: #f5f5f5;\n",
       "                --jl-border-color: #e0e0e0;\n",
       "                --jl-text-primary: #24292e;\n",
       "                --jl-text-secondary: #586069;\n",
       "                --jl-link-color: #0366d6;\n",
       "                --jl-success-color: #28a745;\n",
       "                --jl-error-color: #d73a49;\n",
       "                --jl-header-bg: #f1f1f1;\n",
       "            }\n",
       "            \n",
       "            /* Dark theme variables */\n",
       "            .theme-dark {\n",
       "                --jl-bg-primary: #1e1e1e;\n",
       "                --jl-bg-secondary: #252526;\n",
       "                --jl-border-color: #2d2d2d;\n",
       "                --jl-text-primary: #cccccc;\n",
       "                --jl-text-secondary: #999999;\n",
       "                --jl-link-color: #4e94ce;\n",
       "                --jl-success-color: #89d185;\n",
       "                --jl-error-color: #f14c4c;\n",
       "                --jl-header-bg: #333333;\n",
       "            }\n",
       "\n",
       "            /* High contrast theme variables */\n",
       "            .theme-high-contrast {\n",
       "                --jl-bg-primary: #000000;\n",
       "                --jl-bg-secondary: #1a1a1a;\n",
       "                --jl-border-color: #404040;\n",
       "                --jl-text-primary: #ffffff;\n",
       "                --jl-text-secondary: #cccccc;\n",
       "                --jl-link-color: #66b3ff;\n",
       "                --jl-success-color: #00ff00;\n",
       "                --jl-error-color: #ff0000;\n",
       "                --jl-header-bg: #262626;\n",
       "            }\n",
       "            \n",
       "            .job-logger {\n",
       "                font-family: system-ui, -apple-system, sans-serif;\n",
       "                max-width: 800px;\n",
       "                margin: 10px 0;\n",
       "                color: var(--jl-text-primary);\n",
       "                box-shadow: 0 1px 3px rgba(0,0,0,0.12);\n",
       "                border-radius: 4px;\n",
       "                overflow: hidden;\n",
       "            }\n",
       "            \n",
       "            .job-logger-header {\n",
       "                padding: 12px 16px;\n",
       "                background: var(--jl-header-bg);\n",
       "                border: none;\n",
       "                border-radius: 4px 4px 0 0;\n",
       "                cursor: pointer;\n",
       "                color: var(--jl-text-primary);\n",
       "                user-select: none;\n",
       "                font-weight: 500;\n",
       "                letter-spacing: 0.3px;\n",
       "                display: flex;\n",
       "                justify-content: space-between;\n",
       "                align-items: center;\n",
       "            }\n",
       "            \n",
       "            .theme-select {\n",
       "                padding: 4px 8px;\n",
       "                border-radius: 4px;\n",
       "                border: 1px solid var(--jl-border-color);\n",
       "                background: var(--jl-bg-primary);\n",
       "                color: var(--jl-text-primary);\n",
       "                font-size: 0.9em;\n",
       "            }\n",
       "            \n",
       "            .job-logger-table {\n",
       "                width: 100%;\n",
       "                border-collapse: separate;\n",
       "                border-spacing: 0;\n",
       "                background: var(--jl-bg-primary);\n",
       "                border: 1px solid var(--jl-border-color);\n",
       "                margin-top: -1px;\n",
       "            }\n",
       "            \n",
       "            .job-logger-cell {\n",
       "                padding: 12px 16px;\n",
       "                border-bottom: 1px solid var(--jl-border-color);\n",
       "                line-height: 1.4;\n",
       "            }\n",
       "            \n",
       "            .job-logger-label {\n",
       "                font-weight: 500;\n",
       "                color: var(--jl-text-primary);\n",
       "                width: 25%;\n",
       "                background: var(--jl-bg-secondary);\n",
       "            }\n",
       "            \n",
       "            .job-logger-value {\n",
       "                color: var(--jl-text-secondary);\n",
       "                word-break: break-word;\n",
       "            }\n",
       "            \n",
       "            .job-logger-status {\n",
       "                margin: 0;\n",
       "                padding: 12px 16px;\n",
       "                background-color: var(--jl-bg-secondary);\n",
       "                border: 1px solid var(--jl-border-color);\n",
       "                border-top: none;\n",
       "                border-radius: 0 0 4px 4px;\n",
       "                color: var(--jl-text-primary);\n",
       "                font-size: 0.95em;\n",
       "            }\n",
       "        </style>\n",
       "        \n",
       "        <script>\n",
       "            class ThemeManager {\n",
       "                constructor(logId, initialTheme = 'auto') {\n",
       "                    this.logId = logId;\n",
       "                    this.currentTheme = initialTheme;\n",
       "                    this.darkModeMediaQuery = window.matchMedia('(prefers-color-scheme: dark)');\n",
       "                    this.init();\n",
       "                }\n",
       "                \n",
       "                init() {\n",
       "                    this.setupThemeSwitcher();\n",
       "                    this.updateTheme(this.currentTheme);\n",
       "                    \n",
       "                    this.darkModeMediaQuery.addListener(() => {\n",
       "                        if (this.currentTheme === 'auto') {\n",
       "                            this.updateTheme('auto');\n",
       "                        }\n",
       "                    });\n",
       "                }\n",
       "                \n",
       "                setupThemeSwitcher() {\n",
       "                    const logger = document.querySelector(`#logger-${this.logId}`);\n",
       "                    if (!logger) return;\n",
       "                    \n",
       "                    const switcher = document.createElement('div');\n",
       "                    switcher.className = 'theme-switcher';\n",
       "                    switcher.innerHTML = `\n",
       "                        <select id=\"theme-select-${this.logId}\" class=\"theme-select\">\n",
       "                            <option value=\"auto\">Auto</option>\n",
       "                            <option value=\"light\">Light</option>\n",
       "                            <option value=\"dark\">Dark</option>\n",
       "                            <option value=\"high-contrast\">High Contrast</option>\n",
       "                        </select>\n",
       "                    `;\n",
       "                    \n",
       "                    const header = logger.querySelector('.job-logger-header');\n",
       "                    header.appendChild(switcher);\n",
       "                    \n",
       "                    const select = switcher.querySelector('select');\n",
       "                    select.value = this.currentTheme;\n",
       "                    select.addEventListener('change', (e) => {\n",
       "                        this.updateTheme(e.target.value);\n",
       "                    });\n",
       "                }\n",
       "                \n",
       "                updateTheme(theme) {\n",
       "                    const logger = document.querySelector(`#logger-${this.logId}`);\n",
       "                    if (!logger) return;\n",
       "                    \n",
       "                    this.currentTheme = theme;\n",
       "                    \n",
       "                    logger.classList.remove('theme-light', 'theme-dark', 'theme-high-contrast');\n",
       "                    \n",
       "                    if (theme === 'auto') {\n",
       "                        const isDark = this.darkModeMediaQuery.matches;\n",
       "                        logger.classList.add(isDark ? 'theme-dark' : 'theme-light');\n",
       "                    } else {\n",
       "                        logger.classList.add(`theme-${theme}`);\n",
       "                    }\n",
       "                    \n",
       "                    try {\n",
       "                        localStorage.setItem('jobLoggerTheme', theme);\n",
       "                    } catch (e) {\n",
       "                        console.warn('Unable to save theme preference:', e);\n",
       "                    }\n",
       "                }\n",
       "            }\n",
       "            \n",
       "            window.initThemeManager = (logId, initialTheme) => {\n",
       "                new ThemeManager(logId, initialTheme);\n",
       "            };\n",
       "        </script>\n",
       "        \n",
       "        <script>\n",
       "            document.addEventListener('DOMContentLoaded', () => {\n",
       "                window.initThemeManager('639a55d0-f95e-4c0b-b55d-d821e6abb712', 'auto');\n",
       "            });\n",
       "        </script>\n",
       "        "
      ],
      "text/plain": [
       "<IPython.core.display.HTML object>"
      ]
     },
     "metadata": {},
     "output_type": "display_data"
    }
   ],
   "source": [
    "agg_results = survey.by(scenarios).by(agent).run()"
   ]
  },
  {
   "cell_type": "code",
   "execution_count": 21,
   "id": "e32389c3-7d31-4f95-b566-dd0a95bf617a",
   "metadata": {
    "editable": true,
    "slideshow": {
     "slide_type": ""
    },
    "tags": []
   },
   "outputs": [
    {
     "data": {
      "text/html": [
       "\n",
       "            <div style=\"max-height: 500px; overflow-y: auto;\">\n",
       "                <style type=\"text/css\">\n",
       "#T_12355_row0_col0, #T_12355_row1_col0, #T_12355_row2_col0, #T_12355_row3_col0, #T_12355_row4_col0, #T_12355_row5_col0, #T_12355_row6_col0, #T_12355_row7_col0, #T_12355_row8_col0, #T_12355_row9_col0, #T_12355_row10_col0, #T_12355_row11_col0, #T_12355_row12_col0, #T_12355_row13_col0, #T_12355_row14_col0, #T_12355_row15_col0, #T_12355_row16_col0, #T_12355_row17_col0, #T_12355_row18_col0, #T_12355_row19_col0, #T_12355_row20_col0, #T_12355_row21_col0, #T_12355_row22_col0, #T_12355_row23_col0, #T_12355_row24_col0, #T_12355_row25_col0, #T_12355_row26_col0, #T_12355_row27_col0, #T_12355_row28_col0, #T_12355_row29_col0, #T_12355_row30_col0, #T_12355_row31_col0, #T_12355_row32_col0, #T_12355_row33_col0, #T_12355_row34_col0, #T_12355_row35_col0, #T_12355_row36_col0, #T_12355_row37_col0, #T_12355_row38_col0, #T_12355_row39_col0, #T_12355_row40_col0, #T_12355_row41_col0, #T_12355_row42_col0, #T_12355_row43_col0, #T_12355_row44_col0 {\n",
       "  text-align: left;\n",
       "}\n",
       "</style>\n",
       "<table id=\"T_12355\">\n",
       "  <thead>\n",
       "    <tr>\n",
       "      <th class=\"blank level0\" >&nbsp;</th>\n",
       "      <th id=\"T_12355_level0_col0\" class=\"col_heading level0 col0\" >0</th>\n",
       "    </tr>\n",
       "  </thead>\n",
       "  <tbody>\n",
       "    <tr>\n",
       "      <th id=\"T_12355_level0_row0\" class=\"row_heading level0 row0\" >0</th>\n",
       "      <td id=\"T_12355_row0_col0\" class=\"data row0 col0\" >agent.agent_index</td>\n",
       "    </tr>\n",
       "    <tr>\n",
       "      <th id=\"T_12355_level0_row1\" class=\"row_heading level0 row1\" >1</th>\n",
       "      <td id=\"T_12355_row1_col0\" class=\"data row1 col0\" >agent.agent_instruction</td>\n",
       "    </tr>\n",
       "    <tr>\n",
       "      <th id=\"T_12355_level0_row2\" class=\"row_heading level0 row2\" >2</th>\n",
       "      <td id=\"T_12355_row2_col0\" class=\"data row2 col0\" >agent.agent_name</td>\n",
       "    </tr>\n",
       "    <tr>\n",
       "      <th id=\"T_12355_level0_row3\" class=\"row_heading level0 row3\" >3</th>\n",
       "      <td id=\"T_12355_row3_col0\" class=\"data row3 col0\" >agent.persona</td>\n",
       "    </tr>\n",
       "    <tr>\n",
       "      <th id=\"T_12355_level0_row4\" class=\"row_heading level0 row4\" >4</th>\n",
       "      <td id=\"T_12355_row4_col0\" class=\"data row4 col0\" >answer.questions_agg</td>\n",
       "    </tr>\n",
       "    <tr>\n",
       "      <th id=\"T_12355_level0_row5\" class=\"row_heading level0 row5\" >5</th>\n",
       "      <td id=\"T_12355_row5_col0\" class=\"data row5 col0\" >answer.requests_agg</td>\n",
       "    </tr>\n",
       "    <tr>\n",
       "      <th id=\"T_12355_level0_row6\" class=\"row_heading level0 row6\" >6</th>\n",
       "      <td id=\"T_12355_row6_col0\" class=\"data row6 col0\" >cache_keys.questions_agg_cache_key</td>\n",
       "    </tr>\n",
       "    <tr>\n",
       "      <th id=\"T_12355_level0_row7\" class=\"row_heading level0 row7\" >7</th>\n",
       "      <td id=\"T_12355_row7_col0\" class=\"data row7 col0\" >cache_keys.requests_agg_cache_key</td>\n",
       "    </tr>\n",
       "    <tr>\n",
       "      <th id=\"T_12355_level0_row8\" class=\"row_heading level0 row8\" >8</th>\n",
       "      <td id=\"T_12355_row8_col0\" class=\"data row8 col0\" >cache_used.questions_agg_cache_used</td>\n",
       "    </tr>\n",
       "    <tr>\n",
       "      <th id=\"T_12355_level0_row9\" class=\"row_heading level0 row9\" >9</th>\n",
       "      <td id=\"T_12355_row9_col0\" class=\"data row9 col0\" >cache_used.requests_agg_cache_used</td>\n",
       "    </tr>\n",
       "    <tr>\n",
       "      <th id=\"T_12355_level0_row10\" class=\"row_heading level0 row10\" >10</th>\n",
       "      <td id=\"T_12355_row10_col0\" class=\"data row10 col0\" >comment.questions_agg_comment</td>\n",
       "    </tr>\n",
       "    <tr>\n",
       "      <th id=\"T_12355_level0_row11\" class=\"row_heading level0 row11\" >11</th>\n",
       "      <td id=\"T_12355_row11_col0\" class=\"data row11 col0\" >comment.requests_agg_comment</td>\n",
       "    </tr>\n",
       "    <tr>\n",
       "      <th id=\"T_12355_level0_row12\" class=\"row_heading level0 row12\" >12</th>\n",
       "      <td id=\"T_12355_row12_col0\" class=\"data row12 col0\" >generated_tokens.questions_agg_generated_tokens</td>\n",
       "    </tr>\n",
       "    <tr>\n",
       "      <th id=\"T_12355_level0_row13\" class=\"row_heading level0 row13\" >13</th>\n",
       "      <td id=\"T_12355_row13_col0\" class=\"data row13 col0\" >generated_tokens.requests_agg_generated_tokens</td>\n",
       "    </tr>\n",
       "    <tr>\n",
       "      <th id=\"T_12355_level0_row14\" class=\"row_heading level0 row14\" >14</th>\n",
       "      <td id=\"T_12355_row14_col0\" class=\"data row14 col0\" >iteration.iteration</td>\n",
       "    </tr>\n",
       "    <tr>\n",
       "      <th id=\"T_12355_level0_row15\" class=\"row_heading level0 row15\" >15</th>\n",
       "      <td id=\"T_12355_row15_col0\" class=\"data row15 col0\" >model.frequency_penalty</td>\n",
       "    </tr>\n",
       "    <tr>\n",
       "      <th id=\"T_12355_level0_row16\" class=\"row_heading level0 row16\" >16</th>\n",
       "      <td id=\"T_12355_row16_col0\" class=\"data row16 col0\" >model.inference_service</td>\n",
       "    </tr>\n",
       "    <tr>\n",
       "      <th id=\"T_12355_level0_row17\" class=\"row_heading level0 row17\" >17</th>\n",
       "      <td id=\"T_12355_row17_col0\" class=\"data row17 col0\" >model.logprobs</td>\n",
       "    </tr>\n",
       "    <tr>\n",
       "      <th id=\"T_12355_level0_row18\" class=\"row_heading level0 row18\" >18</th>\n",
       "      <td id=\"T_12355_row18_col0\" class=\"data row18 col0\" >model.max_tokens</td>\n",
       "    </tr>\n",
       "    <tr>\n",
       "      <th id=\"T_12355_level0_row19\" class=\"row_heading level0 row19\" >19</th>\n",
       "      <td id=\"T_12355_row19_col0\" class=\"data row19 col0\" >model.model</td>\n",
       "    </tr>\n",
       "    <tr>\n",
       "      <th id=\"T_12355_level0_row20\" class=\"row_heading level0 row20\" >20</th>\n",
       "      <td id=\"T_12355_row20_col0\" class=\"data row20 col0\" >model.model_index</td>\n",
       "    </tr>\n",
       "    <tr>\n",
       "      <th id=\"T_12355_level0_row21\" class=\"row_heading level0 row21\" >21</th>\n",
       "      <td id=\"T_12355_row21_col0\" class=\"data row21 col0\" >model.presence_penalty</td>\n",
       "    </tr>\n",
       "    <tr>\n",
       "      <th id=\"T_12355_level0_row22\" class=\"row_heading level0 row22\" >22</th>\n",
       "      <td id=\"T_12355_row22_col0\" class=\"data row22 col0\" >model.temperature</td>\n",
       "    </tr>\n",
       "    <tr>\n",
       "      <th id=\"T_12355_level0_row23\" class=\"row_heading level0 row23\" >23</th>\n",
       "      <td id=\"T_12355_row23_col0\" class=\"data row23 col0\" >model.top_logprobs</td>\n",
       "    </tr>\n",
       "    <tr>\n",
       "      <th id=\"T_12355_level0_row24\" class=\"row_heading level0 row24\" >24</th>\n",
       "      <td id=\"T_12355_row24_col0\" class=\"data row24 col0\" >model.top_p</td>\n",
       "    </tr>\n",
       "    <tr>\n",
       "      <th id=\"T_12355_level0_row25\" class=\"row_heading level0 row25\" >25</th>\n",
       "      <td id=\"T_12355_row25_col0\" class=\"data row25 col0\" >prompt.questions_agg_system_prompt</td>\n",
       "    </tr>\n",
       "    <tr>\n",
       "      <th id=\"T_12355_level0_row26\" class=\"row_heading level0 row26\" >26</th>\n",
       "      <td id=\"T_12355_row26_col0\" class=\"data row26 col0\" >prompt.questions_agg_user_prompt</td>\n",
       "    </tr>\n",
       "    <tr>\n",
       "      <th id=\"T_12355_level0_row27\" class=\"row_heading level0 row27\" >27</th>\n",
       "      <td id=\"T_12355_row27_col0\" class=\"data row27 col0\" >prompt.requests_agg_system_prompt</td>\n",
       "    </tr>\n",
       "    <tr>\n",
       "      <th id=\"T_12355_level0_row28\" class=\"row_heading level0 row28\" >28</th>\n",
       "      <td id=\"T_12355_row28_col0\" class=\"data row28 col0\" >prompt.requests_agg_user_prompt</td>\n",
       "    </tr>\n",
       "    <tr>\n",
       "      <th id=\"T_12355_level0_row29\" class=\"row_heading level0 row29\" >29</th>\n",
       "      <td id=\"T_12355_row29_col0\" class=\"data row29 col0\" >question_options.questions_agg_question_options</td>\n",
       "    </tr>\n",
       "    <tr>\n",
       "      <th id=\"T_12355_level0_row30\" class=\"row_heading level0 row30\" >30</th>\n",
       "      <td id=\"T_12355_row30_col0\" class=\"data row30 col0\" >question_options.requests_agg_question_options</td>\n",
       "    </tr>\n",
       "    <tr>\n",
       "      <th id=\"T_12355_level0_row31\" class=\"row_heading level0 row31\" >31</th>\n",
       "      <td id=\"T_12355_row31_col0\" class=\"data row31 col0\" >question_text.questions_agg_question_text</td>\n",
       "    </tr>\n",
       "    <tr>\n",
       "      <th id=\"T_12355_level0_row32\" class=\"row_heading level0 row32\" >32</th>\n",
       "      <td id=\"T_12355_row32_col0\" class=\"data row32 col0\" >question_text.requests_agg_question_text</td>\n",
       "    </tr>\n",
       "    <tr>\n",
       "      <th id=\"T_12355_level0_row33\" class=\"row_heading level0 row33\" >33</th>\n",
       "      <td id=\"T_12355_row33_col0\" class=\"data row33 col0\" >question_type.questions_agg_question_type</td>\n",
       "    </tr>\n",
       "    <tr>\n",
       "      <th id=\"T_12355_level0_row34\" class=\"row_heading level0 row34\" >34</th>\n",
       "      <td id=\"T_12355_row34_col0\" class=\"data row34 col0\" >question_type.requests_agg_question_type</td>\n",
       "    </tr>\n",
       "    <tr>\n",
       "      <th id=\"T_12355_level0_row35\" class=\"row_heading level0 row35\" >35</th>\n",
       "      <td id=\"T_12355_row35_col0\" class=\"data row35 col0\" >raw_model_response.questions_agg_cost</td>\n",
       "    </tr>\n",
       "    <tr>\n",
       "      <th id=\"T_12355_level0_row36\" class=\"row_heading level0 row36\" >36</th>\n",
       "      <td id=\"T_12355_row36_col0\" class=\"data row36 col0\" >raw_model_response.questions_agg_one_usd_buys</td>\n",
       "    </tr>\n",
       "    <tr>\n",
       "      <th id=\"T_12355_level0_row37\" class=\"row_heading level0 row37\" >37</th>\n",
       "      <td id=\"T_12355_row37_col0\" class=\"data row37 col0\" >raw_model_response.questions_agg_raw_model_response</td>\n",
       "    </tr>\n",
       "    <tr>\n",
       "      <th id=\"T_12355_level0_row38\" class=\"row_heading level0 row38\" >38</th>\n",
       "      <td id=\"T_12355_row38_col0\" class=\"data row38 col0\" >raw_model_response.requests_agg_cost</td>\n",
       "    </tr>\n",
       "    <tr>\n",
       "      <th id=\"T_12355_level0_row39\" class=\"row_heading level0 row39\" >39</th>\n",
       "      <td id=\"T_12355_row39_col0\" class=\"data row39 col0\" >raw_model_response.requests_agg_one_usd_buys</td>\n",
       "    </tr>\n",
       "    <tr>\n",
       "      <th id=\"T_12355_level0_row40\" class=\"row_heading level0 row40\" >40</th>\n",
       "      <td id=\"T_12355_row40_col0\" class=\"data row40 col0\" >raw_model_response.requests_agg_raw_model_response</td>\n",
       "    </tr>\n",
       "    <tr>\n",
       "      <th id=\"T_12355_level0_row41\" class=\"row_heading level0 row41\" >41</th>\n",
       "      <td id=\"T_12355_row41_col0\" class=\"data row41 col0\" >scenario.email</td>\n",
       "    </tr>\n",
       "    <tr>\n",
       "      <th id=\"T_12355_level0_row42\" class=\"row_heading level0 row42\" >42</th>\n",
       "      <td id=\"T_12355_row42_col0\" class=\"data row42 col0\" >scenario.name</td>\n",
       "    </tr>\n",
       "    <tr>\n",
       "      <th id=\"T_12355_level0_row43\" class=\"row_heading level0 row43\" >43</th>\n",
       "      <td id=\"T_12355_row43_col0\" class=\"data row43 col0\" >scenario.scenario_index</td>\n",
       "    </tr>\n",
       "    <tr>\n",
       "      <th id=\"T_12355_level0_row44\" class=\"row_heading level0 row44\" >44</th>\n",
       "      <td id=\"T_12355_row44_col0\" class=\"data row44 col0\" >scenario.transcript</td>\n",
       "    </tr>\n",
       "  </tbody>\n",
       "</table>\n",
       "\n",
       "            </div>\n",
       "            "
      ],
      "text/plain": [
       "PrettyList(['agent.agent_index',\n",
       "            'agent.agent_instruction',\n",
       "            'agent.agent_name',\n",
       "            'agent.persona',\n",
       "            'answer.questions_agg',\n",
       "            'answer.requests_agg',\n",
       "            'cache_keys.questions_agg_cache_key',\n",
       "            'cache_keys.requests_agg_cache_key',\n",
       "            'cache_used.questions_agg_cache_used',\n",
       "            'cache_used.requests_agg_cache_used',\n",
       "            'comment.questions_agg_comment',\n",
       "            'comment.requests_agg_comment',\n",
       "            'generated_tokens.questions_agg_generated_tokens',\n",
       "            'generated_tokens.requests_agg_generated_tokens',\n",
       "            'iteration.iteration',\n",
       "            'model.frequency_penalty',\n",
       "            'model.inference_service',\n",
       "            'model.logprobs',\n",
       "            'model.max_tokens',\n",
       "            'model.model',\n",
       "            'model.model_index',\n",
       "            'model.presence_penalty',\n",
       "            'model.temperature',\n",
       "            'model.top_logprobs',\n",
       "            'model.top_p',\n",
       "            'prompt.questions_agg_system_prompt',\n",
       "            'prompt.questions_agg_user_prompt',\n",
       "            'prompt.requests_agg_system_prompt',\n",
       "            'prompt.requests_agg_user_prompt',\n",
       "            'question_options.questions_agg_question_options',\n",
       "            'question_options.requests_agg_question_options',\n",
       "            'question_text.questions_agg_question_text',\n",
       "            'question_text.requests_agg_question_text',\n",
       "            'question_type.questions_agg_question_type',\n",
       "            'question_type.requests_agg_question_type',\n",
       "            'raw_model_response.questions_agg_cost',\n",
       "            'raw_model_response.questions_agg_one_usd_buys',\n",
       "            'raw_model_response.questions_agg_raw_model_response',\n",
       "            'raw_model_response.requests_agg_cost',\n",
       "            'raw_model_response.requests_agg_one_usd_buys',\n",
       "            'raw_model_response.requests_agg_raw_model_response',\n",
       "            'scenario.email',\n",
       "            'scenario.name',\n",
       "            'scenario.scenario_index',\n",
       "            'scenario.transcript'])"
      ]
     },
     "execution_count": 21,
     "metadata": {},
     "output_type": "execute_result"
    }
   ],
   "source": [
    "agg_results.columns"
   ]
  },
  {
   "cell_type": "code",
   "execution_count": 22,
   "id": "11b32d96-6911-4190-945f-cc254c395c23",
   "metadata": {
    "editable": true,
    "slideshow": {
     "slide_type": ""
    },
    "tags": []
   },
   "outputs": [
    {
     "data": {
      "text/html": [
       "\n",
       "            <div style=\"max-height: 500px; overflow-y: auto;\">\n",
       "                <style type=\"text/css\">\n",
       "#T_f0e67_row0_col0, #T_f0e67_row0_col1, #T_f0e67_row1_col0, #T_f0e67_row1_col1, #T_f0e67_row2_col0, #T_f0e67_row2_col1, #T_f0e67_row3_col0, #T_f0e67_row3_col1, #T_f0e67_row4_col0, #T_f0e67_row4_col1, #T_f0e67_row5_col0, #T_f0e67_row5_col1, #T_f0e67_row6_col0, #T_f0e67_row6_col1, #T_f0e67_row7_col0, #T_f0e67_row7_col1, #T_f0e67_row8_col0, #T_f0e67_row8_col1, #T_f0e67_row9_col0, #T_f0e67_row9_col1 {\n",
       "  text-align: left;\n",
       "}\n",
       "</style>\n",
       "<table id=\"T_f0e67\">\n",
       "  <thead>\n",
       "    <tr>\n",
       "      <th class=\"blank level0\" >&nbsp;</th>\n",
       "      <th id=\"T_f0e67_level0_col0\" class=\"col_heading level0 col0\" >answer.questions_agg</th>\n",
       "      <th id=\"T_f0e67_level0_col1\" class=\"col_heading level0 col1\" >answer.requests_agg</th>\n",
       "    </tr>\n",
       "  </thead>\n",
       "  <tbody>\n",
       "    <tr>\n",
       "      <th id=\"T_f0e67_level0_row0\" class=\"row_heading level0 row0\" >0</th>\n",
       "      <td id=\"T_f0e67_row0_col0\" class=\"data row0 col0\" >['Technical issues with software features', 'Version and update inquiries']</td>\n",
       "      <td id=\"T_f0e67_row0_col1\" class=\"data row0 col1\" >['Technical support and troubleshooting', 'Software updates and version issues', 'Remote support and follow-up']</td>\n",
       "    </tr>\n",
       "    <tr>\n",
       "      <th id=\"T_f0e67_level0_row1\" class=\"row_heading level0 row1\" >1</th>\n",
       "      <td id=\"T_f0e67_row1_col0\" class=\"data row1 col0\" >['Guides and instructional resources']</td>\n",
       "      <td id=\"T_f0e67_row1_col1\" class=\"data row1 col1\" >['Feature usage tutorials and guides']</td>\n",
       "    </tr>\n",
       "    <tr>\n",
       "      <th id=\"T_f0e67_level0_row2\" class=\"row_heading level0 row2\" >2</th>\n",
       "      <td id=\"T_f0e67_row2_col0\" class=\"data row2 col0\" >['Account access and password issues']</td>\n",
       "      <td id=\"T_f0e67_row2_col1\" class=\"data row2 col1\" >['Account access and security']</td>\n",
       "    </tr>\n",
       "    <tr>\n",
       "      <th id=\"T_f0e67_level0_row3\" class=\"row_heading level0 row3\" >3</th>\n",
       "      <td id=\"T_f0e67_row3_col0\" class=\"data row3 col0\" >['Something else']</td>\n",
       "      <td id=\"T_f0e67_row3_col1\" class=\"data row3 col1\" >['Subscription and billing inquiries']</td>\n",
       "    </tr>\n",
       "    <tr>\n",
       "      <th id=\"T_f0e67_level0_row4\" class=\"row_heading level0 row4\" >4</th>\n",
       "      <td id=\"T_f0e67_row4_col0\" class=\"data row4 col0\" >['Technical issues with software features', 'Version and update inquiries', 'Exporting and file management issues']</td>\n",
       "      <td id=\"T_f0e67_row4_col1\" class=\"data row4 col1\" >['Technical support and troubleshooting', 'Software updates and version issues', 'Exporting and file handling']</td>\n",
       "    </tr>\n",
       "    <tr>\n",
       "      <th id=\"T_f0e67_level0_row5\" class=\"row_heading level0 row5\" >5</th>\n",
       "      <td id=\"T_f0e67_row5_col0\" class=\"data row5 col0\" >['Project collaboration and team management', 'Guides and instructional resources']</td>\n",
       "      <td id=\"T_f0e67_row5_col1\" class=\"data row5 col1\" >['Feature usage tutorials and guides', 'Project collaboration and management']</td>\n",
       "    </tr>\n",
       "    <tr>\n",
       "      <th id=\"T_f0e67_level0_row6\" class=\"row_heading level0 row6\" >6</th>\n",
       "      <td id=\"T_f0e67_row6_col0\" class=\"data row6 col0\" >['Technical issues with software features', 'Cost estimation and project calculations']</td>\n",
       "      <td id=\"T_f0e67_row6_col1\" class=\"data row6 col1\" >['Technical support and troubleshooting', 'Automated tools and estimation', 'Remote support and follow-up']</td>\n",
       "    </tr>\n",
       "    <tr>\n",
       "      <th id=\"T_f0e67_level0_row7\" class=\"row_heading level0 row7\" >7</th>\n",
       "      <td id=\"T_f0e67_row7_col0\" class=\"data row7 col0\" >['Technical issues with software features', 'Data access and retrieval issues']</td>\n",
       "      <td id=\"T_f0e67_row7_col1\" class=\"data row7 col1\" >['Technical support and troubleshooting', 'Account access and security']</td>\n",
       "    </tr>\n",
       "    <tr>\n",
       "      <th id=\"T_f0e67_level0_row8\" class=\"row_heading level0 row8\" >8</th>\n",
       "      <td id=\"T_f0e67_row8_col0\" class=\"data row8 col0\" >['Feedback and feature requests']</td>\n",
       "      <td id=\"T_f0e67_row8_col1\" class=\"data row8 col1\" >['Something else']</td>\n",
       "    </tr>\n",
       "    <tr>\n",
       "      <th id=\"T_f0e67_level0_row9\" class=\"row_heading level0 row9\" >9</th>\n",
       "      <td id=\"T_f0e67_row9_col0\" class=\"data row9 col0\" >['Trial period questions']</td>\n",
       "      <td id=\"T_f0e67_row9_col1\" class=\"data row9 col1\" >['Trial period information']</td>\n",
       "    </tr>\n",
       "  </tbody>\n",
       "</table>\n",
       "\n",
       "            </div>\n",
       "            "
      ],
      "text/plain": [
       "Dataset([{'answer.questions_agg': [['Technical issues with software features', 'Version and update inquiries'], ['Guides and instructional resources'], ['Account access and password issues'], ['Something else'], ['Technical issues with software features', 'Version and update inquiries', 'Exporting and file management issues'], ['Project collaboration and team management', 'Guides and instructional resources'], ['Technical issues with software features', 'Cost estimation and project calculations'], ['Technical issues with software features', 'Data access and retrieval issues'], ['Feedback and feature requests'], ['Trial period questions']]}, {'answer.requests_agg': [['Technical support and troubleshooting', 'Software updates and version issues', 'Remote support and follow-up'], ['Feature usage tutorials and guides'], ['Account access and security'], ['Subscription and billing inquiries'], ['Technical support and troubleshooting', 'Software updates and version issues', 'Exporting and file handling'], ['Feature usage tutorials and guides', 'Project collaboration and management'], ['Technical support and troubleshooting', 'Automated tools and estimation', 'Remote support and follow-up'], ['Technical support and troubleshooting', 'Account access and security'], ['Something else'], ['Trial period information']]}])"
      ]
     },
     "execution_count": 22,
     "metadata": {},
     "output_type": "execute_result"
    }
   ],
   "source": [
    "agg_results.select(\"questions_agg\", \"requests_agg\")"
   ]
  },
  {
   "cell_type": "markdown",
   "id": "9afdbffd-4cd2-4417-9b3e-9c97e2c0a537",
   "metadata": {
    "editable": true,
    "slideshow": {
     "slide_type": ""
    },
    "tags": []
   },
   "source": [
    "## Visualizations\n",
    "We can turn the results into a dataframe and inspect the totals:"
   ]
  },
  {
   "cell_type": "code",
   "execution_count": 23,
   "id": "5426e180-d5d0-4d51-a8b8-e2691948147f",
   "metadata": {
    "editable": true,
    "slideshow": {
     "slide_type": ""
    },
    "tags": []
   },
   "outputs": [],
   "source": [
    "import matplotlib.pyplot as plt\n",
    "import ast"
   ]
  },
  {
   "cell_type": "code",
   "execution_count": 24,
   "id": "35162f8b-d28b-4974-a172-1fedf5416a2f",
   "metadata": {
    "editable": true,
    "slideshow": {
     "slide_type": ""
    },
    "tags": []
   },
   "outputs": [],
   "source": [
    "df = agg_results.to_pandas(remove_prefix=True)"
   ]
  },
  {
   "cell_type": "code",
   "execution_count": 25,
   "id": "647ec30b-f5ce-4ecd-96a7-bdcabd3163bc",
   "metadata": {
    "editable": true,
    "slideshow": {
     "slide_type": ""
    },
    "tags": []
   },
   "outputs": [],
   "source": [
    "# Convert the string representations of lists to actual lists\n",
    "df[\"questions_agg\"] = df[\"questions_agg\"].apply(ast.literal_eval)\n",
    "df[\"requests_agg\"] = df[\"requests_agg\"].apply(ast.literal_eval)\n",
    "\n",
    "# Explode the lists into individual rows\n",
    "questions_exploded = df.explode(\"questions_agg\")\n",
    "requests_exploded = df.explode(\"requests_agg\")\n",
    "\n",
    "# Count the frequency of each item\n",
    "questions_counts = questions_exploded[\"questions_agg\"].value_counts().reset_index()\n",
    "questions_counts.columns = [\"Question\", \"Count\"]\n",
    "\n",
    "requests_counts = requests_exploded[\"requests_agg\"].value_counts().reset_index()\n",
    "requests_counts.columns = [\"Request\", \"Count\"]"
   ]
  },
  {
   "cell_type": "code",
   "execution_count": 26,
   "id": "e9fd5f3c-bae6-4b9c-a8ec-fe77122b48d4",
   "metadata": {
    "editable": true,
    "slideshow": {
     "slide_type": ""
    },
    "tags": []
   },
   "outputs": [
    {
     "data": {
      "image/png": "[encoded data removed]",
      "text/plain": [
       "<Figure size 1400x700 with 2 Axes>"
      ]
     },
     "metadata": {},
     "output_type": "display_data"
    }
   ],
   "source": [
    "# Plotting\n",
    "fig, axes = plt.subplots(1, 2, figsize=(14, 7))\n",
    "\n",
    "# Bar plot for questions\n",
    "axes[0].barh(questions_counts[\"Question\"], questions_counts[\"Count\"], color=\"skyblue\")\n",
    "axes[0].set_title(\"Frequency of Questions\")\n",
    "axes[0].set_xlabel(\"Count\")\n",
    "axes[0].set_ylabel(\"Question\")\n",
    "\n",
    "# Bar plot for requests\n",
    "axes[1].barh(requests_counts[\"Request\"], requests_counts[\"Count\"], color=\"lightgreen\")\n",
    "axes[1].set_title(\"Frequency of Requests\")\n",
    "axes[1].set_xlabel(\"Count\")\n",
    "axes[1].set_ylabel(\"Request\")\n",
    "\n",
    "plt.tight_layout()\n",
    "plt.show()"
   ]
  },
  {
   "cell_type": "code",
   "execution_count": 27,
   "id": "ab83ed70-1e7b-491c-8351-3ff1e4a1e42c",
   "metadata": {
    "editable": true,
    "slideshow": {
     "slide_type": ""
    },
    "tags": []
   },
   "outputs": [
    {
     "name": "stdout",
     "output_type": "stream",
     "text": [
      "Questions Count Table:\n",
      "                                     Question  Count\n",
      "0     Technical issues with software features      4\n",
      "1                Version and update inquiries      2\n",
      "2          Guides and instructional resources      2\n",
      "3          Account access and password issues      1\n",
      "4                              Something else      1\n",
      "5        Exporting and file management issues      1\n",
      "6   Project collaboration and team management      1\n",
      "7    Cost estimation and project calculations      1\n",
      "8            Data access and retrieval issues      1\n",
      "9               Feedback and feature requests      1\n",
      "10                     Trial period questions      1\n",
      "\n",
      "Requests Count Table:\n",
      "                                  Request  Count\n",
      "0   Technical support and troubleshooting      4\n",
      "1     Software updates and version issues      2\n",
      "2            Remote support and follow-up      2\n",
      "3      Feature usage tutorials and guides      2\n",
      "4             Account access and security      2\n",
      "5      Subscription and billing inquiries      1\n",
      "6             Exporting and file handling      1\n",
      "7    Project collaboration and management      1\n",
      "8          Automated tools and estimation      1\n",
      "9                          Something else      1\n",
      "10               Trial period information      1\n"
     ]
    }
   ],
   "source": [
    "# Display the counts\n",
    "print(\"Questions Count Table:\")\n",
    "print(questions_counts)\n",
    "\n",
    "print(\"\\nRequests Count Table:\")\n",
    "print(requests_counts)"
   ]
  },
  {
   "cell_type": "markdown",
   "id": "aba48919-1a60-4a60-b0cd-a959fd07b5e4",
   "metadata": {
    "editable": true,
    "slideshow": {
     "slide_type": ""
    },
    "tags": []
   },
   "source": [
    "## Exporting results\n",
    "We can export the results as a CSV:"
   ]
  },
  {
   "cell_type": "code",
   "execution_count": 28,
   "id": "ca2530c9-6f83-457b-8db0-ab5227a9730d",
   "metadata": {
    "editable": true,
    "slideshow": {
     "slide_type": ""
    },
    "tags": []
   },
   "outputs": [
    {
     "name": "stdout",
     "output_type": "stream",
     "text": [
      "File written to customer_calls_analysis.csv\n"
     ]
    }
   ],
   "source": [
    "agg_results.to_csv(\"customer_calls_analysis.csv\")"
   ]
  },
  {
   "cell_type": "markdown",
   "id": "fbaa8a4d-b2e3-4241-bab7-c62123ed2252",
   "metadata": {
    "editable": true,
    "slideshow": {
     "slide_type": ""
    },
    "tags": []
   },
   "source": [
    "Please see our [documentation page](https://docs.expectedparrot.com/) for examples of other methods and use cases!"
   ]
  },
  {
   "cell_type": "markdown",
   "id": "67ec93b9-8828-4a58-bfa6-a8050b884326",
   "metadata": {
    "editable": true,
    "slideshow": {
     "slide_type": ""
    },
    "tags": []
   },
   "source": [
    "## Posting content to the Coop"
   ]
  },
  {
   "cell_type": "code",
   "execution_count": null,
   "id": "56bf69ff-9089-40b5-af7a-0f2c3102c51b",
   "metadata": {
    "editable": true,
    "slideshow": {
     "slide_type": ""
    },
    "tags": [
     "skip-execution"
    ]
   },
   "outputs": [],
   "source": [
    "from edsl import Notebook\n",
    "\n",
    "nb = Notebook(path = \"summarizing_transcripts.ipynb\")\n",
    "\n",
    "if refresh := False:\n",
    "    nb.push(\n",
    "        description = \"Example code for summarizing transcripts\", \n",
    "        alias = \"summarizing-transcripts-notebook\",\n",
    "        visibility = \"public\"\n",
    "    )\n",
    "else:\n",
    "    nb.patch(\"https://www.expectedparrot.com/content/RobinHorton/summarizing-transcripts-notebook\", value = nb)"
   ]
  }
 ],
 "metadata": {
  "kernelspec": {
   "display_name": "Python 3 (ipykernel)",
   "language": "python",
   "name": "python3"
  },
  "language_info": {
   "codemirror_mode": {
    "name": "ipython",
    "version": 3
   },
   "file_extension": ".py",
   "mimetype": "text/x-python",
   "name": "python",
   "nbconvert_exporter": "python",
   "pygments_lexer": "ipython3",
   "version": "3.11.7"
  }
 },
 "nbformat": 4,
 "nbformat_minor": 5
}
