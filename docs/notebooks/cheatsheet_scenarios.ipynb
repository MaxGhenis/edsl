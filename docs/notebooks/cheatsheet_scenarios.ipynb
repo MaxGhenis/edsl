{
 "cells": [
  {
   "cell_type": "markdown",
   "id": "fb8b90ca-2153-4d39-a765-67e1a6e5946a",
   "metadata": {},
   "source": [
    "# Cheatsheet: Scenarios\n",
    "This notebook provides quick examples of methods for using `Scenario` objects to add data or other content to your [EDSL](https://docs.expectedparrot.com/) survey questions. Scenarios allow you to efficiently administer multiple versions of questions at once, such as data labeling/exploration tasks where you want to answer the same questions about every piece of data in a dataset.\n",
    "\n",
    "[EDSL](https://github.com/expectedparrot/edsl) is an open-source Python library for simulating surveys, experiments and other research with AI agents and large language models. Please see our [documentation page](https://docs.expectedparrot.com/) for information and tutorials on getting started, and more details on [methods for working with scenarios](https://docs.expectedparrot.com/en/latest/scenarios.html) that are shown here.\n",
    "\n",
    "## Importing the tools\n",
    "We start by importing the relevant tools (see [installation instructions](https://docs.expectedparrot.com/en/latest/installation.html)):"
   ]
  },
  {
   "cell_type": "code",
   "execution_count": 1,
   "id": "1d1b5511-d4ee-4e11-a945-c04f93947a0d",
   "metadata": {},
   "outputs": [],
   "source": [
    "# ! pip install edsl"
   ]
  },
  {
   "cell_type": "code",
   "execution_count": 3,
   "id": "50709c04-a140-4a14-9c6d-8a8371acd94a",
   "metadata": {},
   "outputs": [],
   "source": [
    "from edsl import Scenario, ScenarioList"
   ]
  },
  {
   "cell_type": "markdown",
   "id": "9199db50-c70e-47eb-a301-93f869ab6722",
   "metadata": {},
   "source": [
    "## Inspect an example\n",
    "A `Scenario` contains a dictionary of keys and values representing data or content to be added to (inserted in) questions. We can call the `example()` method to inspect an example scenario:"
   ]
  },
  {
   "cell_type": "code",
   "execution_count": 4,
   "id": "89747872-2149-4aae-a4b7-4541cfd4ac39",
   "metadata": {},
   "outputs": [
    {
     "data": {
      "text/html": [
       "<div class=\"highlight\"><pre><span></span><span class=\"p\">{</span>\n",
       "<span class=\"w\">    </span><span class=\"nt\">&quot;persona&quot;</span><span class=\"p\">:</span><span class=\"w\"> </span><span class=\"s2\">&quot;A reseacher studying whether LLMs can be used to generate surveys.&quot;</span>\n",
       "<span class=\"p\">}</span>\n",
       "</pre></div>\n"
      ],
      "text/plain": [
       "Scenario({'persona': 'A reseacher studying whether LLMs can be used to generate surveys.'})"
      ]
     },
     "execution_count": 4,
     "metadata": {},
     "output_type": "execute_result"
    }
   ],
   "source": [
    "example_scenario = Scenario.example()\n",
    "example_scenario"
   ]
  },
  {
   "cell_type": "markdown",
   "id": "da70b88d-d6d0-400f-8401-ae19e1b2f423",
   "metadata": {},
   "source": [
    "(Note that scenarios function similarly to `traits` we can design for AI `Agents` that we want to use to answer survey questions. [Learn more about designing agents](https://docs.expectedparrot.com/en/latest/agents.html) for simulating surveys and experiments.)"
   ]
  },
  {
   "cell_type": "markdown",
   "id": "2962a269-e2d6-4806-bbd2-10f4ea115a40",
   "metadata": {},
   "source": [
    "## Using a scenario\n",
    "To use a scenario, we create a `Question` with a `{{ placeholder }}` for the scenario key and then add the scenario to the question (or survey) when we run it (see [examples of all question types](https://docs.expectedparrot.com/en/latest/questions.html)):"
   ]
  },
  {
   "cell_type": "code",
   "execution_count": 14,
   "id": "0fe40743-c051-4f05-b09d-53756b1b1768",
   "metadata": {},
   "outputs": [],
   "source": [
    "from edsl.questions import QuestionFreeText, QuestionList\n",
    "from edsl import Survey\n",
    "\n",
    "q1 = QuestionFreeText(\n",
    "    question_name = \"background\",\n",
    "    question_text = \"Draft a sample bio for this researcher: {{ persona }}\"\n",
    ")\n",
    "q2 = QuestionList(\n",
    "    question_name = \"interests\",\n",
    "    question_text = \"Identify some potential interests of this researcher: {{ persona }}\"\n",
    ")\n",
    "survey = Survey(questions = [q1, q2])\n",
    "\n",
    "results = survey.by(example_scenario).run()"
   ]
  },
  {
   "cell_type": "code",
   "execution_count": 16,
   "id": "43a03e00-5346-423c-a416-afba1a5c6746",
   "metadata": {},
   "outputs": [
    {
     "data": {
      "text/html": [
       "<pre style=\"white-space:pre;overflow-x:auto;line-height:normal;font-family:Menlo,'DejaVu Sans Mono',consolas,'Courier New',monospace\">┏━━━━━━━━━━━━━━━━━━━━━━━━━━━━━━━━━━━━━┳━━━━━━━━━━━━━━━━━━━━━━━━━━━━━━━━━━━━━┳━━━━━━━━━━━━━━━━━━━━━━━━━━━━━━━━━━━━━┓\n",
       "┃<span style=\"color: #800080; text-decoration-color: #800080; font-weight: bold\"> scenario                            </span>┃<span style=\"color: #800080; text-decoration-color: #800080; font-weight: bold\"> answer                              </span>┃<span style=\"color: #800080; text-decoration-color: #800080; font-weight: bold\"> answer                              </span>┃\n",
       "┃<span style=\"color: #800080; text-decoration-color: #800080; font-weight: bold\"> .persona                            </span>┃<span style=\"color: #800080; text-decoration-color: #800080; font-weight: bold\"> .background                         </span>┃<span style=\"color: #800080; text-decoration-color: #800080; font-weight: bold\"> .interests                          </span>┃\n",
       "┡━━━━━━━━━━━━━━━━━━━━━━━━━━━━━━━━━━━━━╇━━━━━━━━━━━━━━━━━━━━━━━━━━━━━━━━━━━━━╇━━━━━━━━━━━━━━━━━━━━━━━━━━━━━━━━━━━━━┩\n",
       "│<span style=\"color: #7f7f7f; text-decoration-color: #7f7f7f\"> A reseacher studying whether LLMs   </span>│<span style=\"color: #7f7f7f; text-decoration-color: #7f7f7f\"> Dr. Alex Rivera is a pioneering     </span>│<span style=\"color: #7f7f7f; text-decoration-color: #7f7f7f\"> ['natural language processing',     </span>│\n",
       "│<span style=\"color: #7f7f7f; text-decoration-color: #7f7f7f\"> can be used to generate surveys.    </span>│<span style=\"color: #7f7f7f; text-decoration-color: #7f7f7f\"> researcher in the field of          </span>│<span style=\"color: #7f7f7f; text-decoration-color: #7f7f7f\"> 'survey methodology', 'machine      </span>│\n",
       "│<span style=\"color: #7f7f7f; text-decoration-color: #7f7f7f\">                                     </span>│<span style=\"color: #7f7f7f; text-decoration-color: #7f7f7f\"> computational linguistics,          </span>│<span style=\"color: #7f7f7f; text-decoration-color: #7f7f7f\"> learning', 'data collection         </span>│\n",
       "│<span style=\"color: #7f7f7f; text-decoration-color: #7f7f7f\">                                     </span>│<span style=\"color: #7f7f7f; text-decoration-color: #7f7f7f\"> specifically focusing on the        </span>│<span style=\"color: #7f7f7f; text-decoration-color: #7f7f7f\"> automation', 'human-computer        </span>│\n",
       "│<span style=\"color: #7f7f7f; text-decoration-color: #7f7f7f\">                                     </span>│<span style=\"color: #7f7f7f; text-decoration-color: #7f7f7f\"> capabilities and applications of    </span>│<span style=\"color: #7f7f7f; text-decoration-color: #7f7f7f\"> interaction', 'artificial           </span>│\n",
       "│<span style=\"color: #7f7f7f; text-decoration-color: #7f7f7f\">                                     </span>│<span style=\"color: #7f7f7f; text-decoration-color: #7f7f7f\"> Large Language Models (LLMs). With  </span>│<span style=\"color: #7f7f7f; text-decoration-color: #7f7f7f\"> intelligence ethics', 'response     </span>│\n",
       "│<span style=\"color: #7f7f7f; text-decoration-color: #7f7f7f\">                                     </span>│<span style=\"color: #7f7f7f; text-decoration-color: #7f7f7f\"> a Ph.D. in Artificial Intelligence  </span>│<span style=\"color: #7f7f7f; text-decoration-color: #7f7f7f\"> quality assessment', 'question      </span>│\n",
       "│<span style=\"color: #7f7f7f; text-decoration-color: #7f7f7f\">                                     </span>│<span style=\"color: #7f7f7f; text-decoration-color: #7f7f7f\"> from MIT, Dr. Rivera has dedicated  </span>│<span style=\"color: #7f7f7f; text-decoration-color: #7f7f7f\"> generation algorithms',             </span>│\n",
       "│<span style=\"color: #7f7f7f; text-decoration-color: #7f7f7f\">                                     </span>│<span style=\"color: #7f7f7f; text-decoration-color: #7f7f7f\"> over a decade to exploring the      </span>│<span style=\"color: #7f7f7f; text-decoration-color: #7f7f7f\"> 'computational linguistics', 'user  </span>│\n",
       "│<span style=\"color: #7f7f7f; text-decoration-color: #7f7f7f\">                                     </span>│<span style=\"color: #7f7f7f; text-decoration-color: #7f7f7f\"> intersection of machine learning    </span>│<span style=\"color: #7f7f7f; text-decoration-color: #7f7f7f\"> experience design']                 </span>│\n",
       "│<span style=\"color: #7f7f7f; text-decoration-color: #7f7f7f\">                                     </span>│<span style=\"color: #7f7f7f; text-decoration-color: #7f7f7f\"> and natural language processing.    </span>│<span style=\"color: #7f7f7f; text-decoration-color: #7f7f7f\">                                     </span>│\n",
       "│<span style=\"color: #7f7f7f; text-decoration-color: #7f7f7f\">                                     </span>│<span style=\"color: #7f7f7f; text-decoration-color: #7f7f7f\"> Currently, their groundbreaking     </span>│<span style=\"color: #7f7f7f; text-decoration-color: #7f7f7f\">                                     </span>│\n",
       "│<span style=\"color: #7f7f7f; text-decoration-color: #7f7f7f\">                                     </span>│<span style=\"color: #7f7f7f; text-decoration-color: #7f7f7f\"> work investigates the potential of  </span>│<span style=\"color: #7f7f7f; text-decoration-color: #7f7f7f\">                                     </span>│\n",
       "│<span style=\"color: #7f7f7f; text-decoration-color: #7f7f7f\">                                     </span>│<span style=\"color: #7f7f7f; text-decoration-color: #7f7f7f\"> LLMs to autonomously generate       </span>│<span style=\"color: #7f7f7f; text-decoration-color: #7f7f7f\">                                     </span>│\n",
       "│<span style=\"color: #7f7f7f; text-decoration-color: #7f7f7f\">                                     </span>│<span style=\"color: #7f7f7f; text-decoration-color: #7f7f7f\"> surveys that can adapt to various   </span>│<span style=\"color: #7f7f7f; text-decoration-color: #7f7f7f\">                                     </span>│\n",
       "│<span style=\"color: #7f7f7f; text-decoration-color: #7f7f7f\">                                     </span>│<span style=\"color: #7f7f7f; text-decoration-color: #7f7f7f\"> research contexts and yield         </span>│<span style=\"color: #7f7f7f; text-decoration-color: #7f7f7f\">                                     </span>│\n",
       "│<span style=\"color: #7f7f7f; text-decoration-color: #7f7f7f\">                                     </span>│<span style=\"color: #7f7f7f; text-decoration-color: #7f7f7f\"> high-quality data. Dr. Rivera's     </span>│<span style=\"color: #7f7f7f; text-decoration-color: #7f7f7f\">                                     </span>│\n",
       "│<span style=\"color: #7f7f7f; text-decoration-color: #7f7f7f\">                                     </span>│<span style=\"color: #7f7f7f; text-decoration-color: #7f7f7f\"> publications have become seminal    </span>│<span style=\"color: #7f7f7f; text-decoration-color: #7f7f7f\">                                     </span>│\n",
       "│<span style=\"color: #7f7f7f; text-decoration-color: #7f7f7f\">                                     </span>│<span style=\"color: #7f7f7f; text-decoration-color: #7f7f7f\"> readings in advanced AI courses,    </span>│<span style=\"color: #7f7f7f; text-decoration-color: #7f7f7f\">                                     </span>│\n",
       "│<span style=\"color: #7f7f7f; text-decoration-color: #7f7f7f\">                                     </span>│<span style=\"color: #7f7f7f; text-decoration-color: #7f7f7f\"> and they frequently speak at        </span>│<span style=\"color: #7f7f7f; text-decoration-color: #7f7f7f\">                                     </span>│\n",
       "│<span style=\"color: #7f7f7f; text-decoration-color: #7f7f7f\">                                     </span>│<span style=\"color: #7f7f7f; text-decoration-color: #7f7f7f\"> international conferences. Their    </span>│<span style=\"color: #7f7f7f; text-decoration-color: #7f7f7f\">                                     </span>│\n",
       "│<span style=\"color: #7f7f7f; text-decoration-color: #7f7f7f\">                                     </span>│<span style=\"color: #7f7f7f; text-decoration-color: #7f7f7f\"> research aims to revolutionize the  </span>│<span style=\"color: #7f7f7f; text-decoration-color: #7f7f7f\">                                     </span>│\n",
       "│<span style=\"color: #7f7f7f; text-decoration-color: #7f7f7f\">                                     </span>│<span style=\"color: #7f7f7f; text-decoration-color: #7f7f7f\"> way we collect information, making  </span>│<span style=\"color: #7f7f7f; text-decoration-color: #7f7f7f\">                                     </span>│\n",
       "│<span style=\"color: #7f7f7f; text-decoration-color: #7f7f7f\">                                     </span>│<span style=\"color: #7f7f7f; text-decoration-color: #7f7f7f\"> it more efficient and accessible    </span>│<span style=\"color: #7f7f7f; text-decoration-color: #7f7f7f\">                                     </span>│\n",
       "│<span style=\"color: #7f7f7f; text-decoration-color: #7f7f7f\">                                     </span>│<span style=\"color: #7f7f7f; text-decoration-color: #7f7f7f\"> across diverse fields.              </span>│<span style=\"color: #7f7f7f; text-decoration-color: #7f7f7f\">                                     </span>│\n",
       "└─────────────────────────────────────┴─────────────────────────────────────┴─────────────────────────────────────┘\n",
       "</pre>\n"
      ],
      "text/plain": [
       "┏━━━━━━━━━━━━━━━━━━━━━━━━━━━━━━━━━━━━━┳━━━━━━━━━━━━━━━━━━━━━━━━━━━━━━━━━━━━━┳━━━━━━━━━━━━━━━━━━━━━━━━━━━━━━━━━━━━━┓\n",
       "┃\u001b[1;35m \u001b[0m\u001b[1;35mscenario                           \u001b[0m\u001b[1;35m \u001b[0m┃\u001b[1;35m \u001b[0m\u001b[1;35manswer                             \u001b[0m\u001b[1;35m \u001b[0m┃\u001b[1;35m \u001b[0m\u001b[1;35manswer                             \u001b[0m\u001b[1;35m \u001b[0m┃\n",
       "┃\u001b[1;35m \u001b[0m\u001b[1;35m.persona                           \u001b[0m\u001b[1;35m \u001b[0m┃\u001b[1;35m \u001b[0m\u001b[1;35m.background                        \u001b[0m\u001b[1;35m \u001b[0m┃\u001b[1;35m \u001b[0m\u001b[1;35m.interests                         \u001b[0m\u001b[1;35m \u001b[0m┃\n",
       "┡━━━━━━━━━━━━━━━━━━━━━━━━━━━━━━━━━━━━━╇━━━━━━━━━━━━━━━━━━━━━━━━━━━━━━━━━━━━━╇━━━━━━━━━━━━━━━━━━━━━━━━━━━━━━━━━━━━━┩\n",
       "│\u001b[2m \u001b[0m\u001b[2mA reseacher studying whether LLMs  \u001b[0m\u001b[2m \u001b[0m│\u001b[2m \u001b[0m\u001b[2mDr. Alex Rivera is a pioneering    \u001b[0m\u001b[2m \u001b[0m│\u001b[2m \u001b[0m\u001b[2m['natural language processing',    \u001b[0m\u001b[2m \u001b[0m│\n",
       "│\u001b[2m \u001b[0m\u001b[2mcan be used to generate surveys.   \u001b[0m\u001b[2m \u001b[0m│\u001b[2m \u001b[0m\u001b[2mresearcher in the field of         \u001b[0m\u001b[2m \u001b[0m│\u001b[2m \u001b[0m\u001b[2m'survey methodology', 'machine     \u001b[0m\u001b[2m \u001b[0m│\n",
       "│\u001b[2m                                     \u001b[0m│\u001b[2m \u001b[0m\u001b[2mcomputational linguistics,         \u001b[0m\u001b[2m \u001b[0m│\u001b[2m \u001b[0m\u001b[2mlearning', 'data collection        \u001b[0m\u001b[2m \u001b[0m│\n",
       "│\u001b[2m                                     \u001b[0m│\u001b[2m \u001b[0m\u001b[2mspecifically focusing on the       \u001b[0m\u001b[2m \u001b[0m│\u001b[2m \u001b[0m\u001b[2mautomation', 'human-computer       \u001b[0m\u001b[2m \u001b[0m│\n",
       "│\u001b[2m                                     \u001b[0m│\u001b[2m \u001b[0m\u001b[2mcapabilities and applications of   \u001b[0m\u001b[2m \u001b[0m│\u001b[2m \u001b[0m\u001b[2minteraction', 'artificial          \u001b[0m\u001b[2m \u001b[0m│\n",
       "│\u001b[2m                                     \u001b[0m│\u001b[2m \u001b[0m\u001b[2mLarge Language Models (LLMs). With \u001b[0m\u001b[2m \u001b[0m│\u001b[2m \u001b[0m\u001b[2mintelligence ethics', 'response    \u001b[0m\u001b[2m \u001b[0m│\n",
       "│\u001b[2m                                     \u001b[0m│\u001b[2m \u001b[0m\u001b[2ma Ph.D. in Artificial Intelligence \u001b[0m\u001b[2m \u001b[0m│\u001b[2m \u001b[0m\u001b[2mquality assessment', 'question     \u001b[0m\u001b[2m \u001b[0m│\n",
       "│\u001b[2m                                     \u001b[0m│\u001b[2m \u001b[0m\u001b[2mfrom MIT, Dr. Rivera has dedicated \u001b[0m\u001b[2m \u001b[0m│\u001b[2m \u001b[0m\u001b[2mgeneration algorithms',            \u001b[0m\u001b[2m \u001b[0m│\n",
       "│\u001b[2m                                     \u001b[0m│\u001b[2m \u001b[0m\u001b[2mover a decade to exploring the     \u001b[0m\u001b[2m \u001b[0m│\u001b[2m \u001b[0m\u001b[2m'computational linguistics', 'user \u001b[0m\u001b[2m \u001b[0m│\n",
       "│\u001b[2m                                     \u001b[0m│\u001b[2m \u001b[0m\u001b[2mintersection of machine learning   \u001b[0m\u001b[2m \u001b[0m│\u001b[2m \u001b[0m\u001b[2mexperience design']                \u001b[0m\u001b[2m \u001b[0m│\n",
       "│\u001b[2m                                     \u001b[0m│\u001b[2m \u001b[0m\u001b[2mand natural language processing.   \u001b[0m\u001b[2m \u001b[0m│\u001b[2m                                     \u001b[0m│\n",
       "│\u001b[2m                                     \u001b[0m│\u001b[2m \u001b[0m\u001b[2mCurrently, their groundbreaking    \u001b[0m\u001b[2m \u001b[0m│\u001b[2m                                     \u001b[0m│\n",
       "│\u001b[2m                                     \u001b[0m│\u001b[2m \u001b[0m\u001b[2mwork investigates the potential of \u001b[0m\u001b[2m \u001b[0m│\u001b[2m                                     \u001b[0m│\n",
       "│\u001b[2m                                     \u001b[0m│\u001b[2m \u001b[0m\u001b[2mLLMs to autonomously generate      \u001b[0m\u001b[2m \u001b[0m│\u001b[2m                                     \u001b[0m│\n",
       "│\u001b[2m                                     \u001b[0m│\u001b[2m \u001b[0m\u001b[2msurveys that can adapt to various  \u001b[0m\u001b[2m \u001b[0m│\u001b[2m                                     \u001b[0m│\n",
       "│\u001b[2m                                     \u001b[0m│\u001b[2m \u001b[0m\u001b[2mresearch contexts and yield        \u001b[0m\u001b[2m \u001b[0m│\u001b[2m                                     \u001b[0m│\n",
       "│\u001b[2m                                     \u001b[0m│\u001b[2m \u001b[0m\u001b[2mhigh-quality data. Dr. Rivera's    \u001b[0m\u001b[2m \u001b[0m│\u001b[2m                                     \u001b[0m│\n",
       "│\u001b[2m                                     \u001b[0m│\u001b[2m \u001b[0m\u001b[2mpublications have become seminal   \u001b[0m\u001b[2m \u001b[0m│\u001b[2m                                     \u001b[0m│\n",
       "│\u001b[2m                                     \u001b[0m│\u001b[2m \u001b[0m\u001b[2mreadings in advanced AI courses,   \u001b[0m\u001b[2m \u001b[0m│\u001b[2m                                     \u001b[0m│\n",
       "│\u001b[2m                                     \u001b[0m│\u001b[2m \u001b[0m\u001b[2mand they frequently speak at       \u001b[0m\u001b[2m \u001b[0m│\u001b[2m                                     \u001b[0m│\n",
       "│\u001b[2m                                     \u001b[0m│\u001b[2m \u001b[0m\u001b[2minternational conferences. Their   \u001b[0m\u001b[2m \u001b[0m│\u001b[2m                                     \u001b[0m│\n",
       "│\u001b[2m                                     \u001b[0m│\u001b[2m \u001b[0m\u001b[2mresearch aims to revolutionize the \u001b[0m\u001b[2m \u001b[0m│\u001b[2m                                     \u001b[0m│\n",
       "│\u001b[2m                                     \u001b[0m│\u001b[2m \u001b[0m\u001b[2mway we collect information, making \u001b[0m\u001b[2m \u001b[0m│\u001b[2m                                     \u001b[0m│\n",
       "│\u001b[2m                                     \u001b[0m│\u001b[2m \u001b[0m\u001b[2mit more efficient and accessible   \u001b[0m\u001b[2m \u001b[0m│\u001b[2m                                     \u001b[0m│\n",
       "│\u001b[2m                                     \u001b[0m│\u001b[2m \u001b[0m\u001b[2macross diverse fields.             \u001b[0m\u001b[2m \u001b[0m│\u001b[2m                                     \u001b[0m│\n",
       "└─────────────────────────────────────┴─────────────────────────────────────┴─────────────────────────────────────┘\n"
      ]
     },
     "metadata": {},
     "output_type": "display_data"
    }
   ],
   "source": [
    "results.select(\"persona\", \"background\", \"interests\").print(format=\"rich\")"
   ]
  },
  {
   "cell_type": "markdown",
   "id": "2d06c8ea-fb37-4ac2-a463-9dda3d391fcf",
   "metadata": {},
   "source": [
    "(Learn more about how to [construct surveys](https://docs.expectedparrot.com/en/latest/surveys.html) and [analyze results](https://docs.expectedparrot.com/en/latest/results.html).)"
   ]
  },
  {
   "cell_type": "markdown",
   "id": "6fe06b36-515e-4011-b8d1-79d205ee65c4",
   "metadata": {},
   "source": [
    "## Create a scenario\n",
    "We create a scenario by passing a dictionary to a new `Scenario` object:"
   ]
  },
  {
   "cell_type": "code",
   "execution_count": 6,
   "id": "49bb76da-cc9e-4e13-8ecc-3da82866f428",
   "metadata": {},
   "outputs": [
    {
     "data": {
      "text/html": [
       "<div class=\"highlight\"><pre><span></span><span class=\"p\">{</span>\n",
       "<span class=\"w\">    </span><span class=\"nt\">&quot;age&quot;</span><span class=\"p\">:</span><span class=\"w\"> </span><span class=\"mi\">45</span>\n",
       "<span class=\"p\">}</span>\n",
       "</pre></div>\n"
      ],
      "text/plain": [
       "Scenario({'age': 45})"
      ]
     },
     "execution_count": 6,
     "metadata": {},
     "output_type": "execute_result"
    }
   ],
   "source": [
    "my_scenario = Scenario({\"age\":45})\n",
    "my_scenario"
   ]
  },
  {
   "cell_type": "markdown",
   "id": "8e9b016f-b470-4dcc-874c-d5df9e806ac9",
   "metadata": {},
   "source": [
    "Create a list of scenarios:"
   ]
  },
  {
   "cell_type": "code",
   "execution_count": 6,
   "id": "1dfcc985-7020-48f7-8bf8-cacd2c026b7d",
   "metadata": {},
   "outputs": [
    {
     "data": {
      "text/plain": [
       "[Scenario({'age': 45}),\n",
       " Scenario({'age': 46}),\n",
       " Scenario({'age': 47}),\n",
       " Scenario({'age': 48}),\n",
       " Scenario({'age': 49})]"
      ]
     },
     "execution_count": 6,
     "metadata": {},
     "output_type": "execute_result"
    }
   ],
   "source": [
    "sl = [Scenario({\"age\":a}) for a in range(45,50)]\n",
    "sl"
   ]
  },
  {
   "cell_type": "markdown",
   "id": "a26e776d-af78-45e0-abf8-e1d26bcadee6",
   "metadata": {},
   "source": [
    "Use a scenario:"
   ]
  },
  {
   "cell_type": "code",
   "execution_count": null,
   "id": "b1210795-501c-43d1-931e-9f93609a1ae6",
   "metadata": {},
   "outputs": [],
   "source": [
    "from edsl.questions import QuestionFreeText\n",
    "\n",
    "q = QuestionFreeText(\n",
    "    question_name = \"example\",\n",
    "    question_text = \"Have you encountered this type of researcher before: {{ persona }}\"\n",
    ")\n",
    "\n",
    "results = q.by(s).run()\n",
    "results.select(\"persona\", \"answer.*\").print(format=\"rich\")"
   ]
  },
  {
   "cell_type": "code",
   "execution_count": null,
   "id": "48406539-9376-4017-ab6f-f66c1f4bafa1",
   "metadata": {},
   "outputs": [],
   "source": []
  },
  {
   "cell_type": "markdown",
   "id": "1152d800-889b-4eae-9f24-f4b0aba1782f",
   "metadata": {},
   "source": [
    "Rename a key in a scenario dictionary:"
   ]
  },
  {
   "cell_type": "code",
   "execution_count": 3,
   "id": "b2fadc80-24bf-4c93-a667-0df28ebcd5e2",
   "metadata": {},
   "outputs": [
    {
     "data": {
      "text/html": [
       "<div class=\"highlight\"><pre><span></span><span class=\"p\">{</span>\n",
       "<span class=\"w\">    </span><span class=\"nt\">&quot;role&quot;</span><span class=\"p\">:</span><span class=\"w\"> </span><span class=\"s2\">&quot;A reseacher studying whether LLMs can be used to generate surveys.&quot;</span>\n",
       "<span class=\"p\">}</span>\n",
       "</pre></div>\n"
      ],
      "text/plain": [
       "Scenario({'role': 'A reseacher studying whether LLMs can be used to generate surveys.'})"
      ]
     },
     "execution_count": 3,
     "metadata": {},
     "output_type": "execute_result"
    }
   ],
   "source": [
    "s = s.rename({\"persona\": \"role\"})\n",
    "s"
   ]
  },
  {
   "cell_type": "markdown",
   "id": "e563279a-1e3c-43ef-9481-df3212746122",
   "metadata": {},
   "source": [
    "Replicate a scenario to create a list of scenarios:"
   ]
  },
  {
   "cell_type": "code",
   "execution_count": 4,
   "id": "2c05b099-3be8-4efa-a1e6-2a94dc2cdc7a",
   "metadata": {},
   "outputs": [
    {
     "data": {
      "text/html": [
       "<div class=\"highlight\"><pre><span></span><span class=\"p\">{</span>\n",
       "<span class=\"w\">    </span><span class=\"nt\">&quot;scenarios&quot;</span><span class=\"p\">:</span><span class=\"w\"> </span><span class=\"p\">[</span>\n",
       "<span class=\"w\">        </span><span class=\"p\">{</span>\n",
       "<span class=\"w\">            </span><span class=\"nt\">&quot;persona&quot;</span><span class=\"p\">:</span><span class=\"w\"> </span><span class=\"s2\">&quot;A reseacher studying whether LLMs can be used to generate surveys.&quot;</span>\n",
       "<span class=\"w\">        </span><span class=\"p\">},</span>\n",
       "<span class=\"w\">        </span><span class=\"p\">{</span>\n",
       "<span class=\"w\">            </span><span class=\"nt\">&quot;persona&quot;</span><span class=\"p\">:</span><span class=\"w\"> </span><span class=\"s2\">&quot;A reseacher studying whether LLMs can be used to generate surveys.&quot;</span>\n",
       "<span class=\"w\">        </span><span class=\"p\">},</span>\n",
       "<span class=\"w\">        </span><span class=\"p\">{</span>\n",
       "<span class=\"w\">            </span><span class=\"nt\">&quot;persona&quot;</span><span class=\"p\">:</span><span class=\"w\"> </span><span class=\"s2\">&quot;A reseacher studying whether LLMs can be used to generate surveys.&quot;</span>\n",
       "<span class=\"w\">        </span><span class=\"p\">},</span>\n",
       "<span class=\"w\">        </span><span class=\"p\">{</span>\n",
       "<span class=\"w\">            </span><span class=\"nt\">&quot;persona&quot;</span><span class=\"p\">:</span><span class=\"w\"> </span><span class=\"s2\">&quot;A reseacher studying whether LLMs can be used to generate surveys.&quot;</span>\n",
       "<span class=\"w\">        </span><span class=\"p\">}</span>\n",
       "<span class=\"w\">    </span><span class=\"p\">]</span>\n",
       "<span class=\"p\">}</span>\n",
       "</pre></div>\n"
      ],
      "text/plain": [
       "ScenarioList([Scenario({'persona': 'A reseacher studying whether LLMs can be used to generate surveys.'}), Scenario({'persona': 'A reseacher studying whether LLMs can be used to generate surveys.'}), Scenario({'persona': 'A reseacher studying whether LLMs can be used to generate surveys.'}), Scenario({'persona': 'A reseacher studying whether LLMs can be used to generate surveys.'})])"
      ]
     },
     "execution_count": 4,
     "metadata": {},
     "output_type": "execute_result"
    }
   ],
   "source": [
    "sl = ScenarioList(Scenario.example().replicate(n=4))\n",
    "sl"
   ]
  },
  {
   "cell_type": "markdown",
   "id": "563b9726-5262-4f62-a9dd-0fe6febfe7d6",
   "metadata": {},
   "source": [
    "Take a sample from the list:"
   ]
  },
  {
   "cell_type": "code",
   "execution_count": 5,
   "id": "a4a177a3-7ce5-48a0-be38-b0a3ecd698f3",
   "metadata": {},
   "outputs": [
    {
     "data": {
      "text/html": [
       "<div class=\"highlight\"><pre><span></span><span class=\"p\">{</span>\n",
       "<span class=\"w\">    </span><span class=\"nt\">&quot;scenarios&quot;</span><span class=\"p\">:</span><span class=\"w\"> </span><span class=\"p\">[</span>\n",
       "<span class=\"w\">        </span><span class=\"p\">{</span>\n",
       "<span class=\"w\">            </span><span class=\"nt\">&quot;persona&quot;</span><span class=\"p\">:</span><span class=\"w\"> </span><span class=\"s2\">&quot;A reseacher studying whether LLMs can be used to generate surveys.&quot;</span>\n",
       "<span class=\"w\">        </span><span class=\"p\">},</span>\n",
       "<span class=\"w\">        </span><span class=\"p\">{</span>\n",
       "<span class=\"w\">            </span><span class=\"nt\">&quot;persona&quot;</span><span class=\"p\">:</span><span class=\"w\"> </span><span class=\"s2\">&quot;A reseacher studying whether LLMs can be used to generate surveys.&quot;</span>\n",
       "<span class=\"w\">        </span><span class=\"p\">}</span>\n",
       "<span class=\"w\">    </span><span class=\"p\">]</span>\n",
       "<span class=\"p\">}</span>\n",
       "</pre></div>\n"
      ],
      "text/plain": [
       "ScenarioList([Scenario({'persona': 'A reseacher studying whether LLMs can be used to generate surveys.'}), Scenario({'persona': 'A reseacher studying whether LLMs can be used to generate surveys.'})])"
      ]
     },
     "execution_count": 5,
     "metadata": {},
     "output_type": "execute_result"
    }
   ],
   "source": [
    "sl_sample = sl.sample(n=2)\n",
    "sl_sample"
   ]
  },
  {
   "cell_type": "code",
   "execution_count": null,
   "id": "78bd14a1-0450-4d9f-acdf-ddda1fe14cfb",
   "metadata": {},
   "outputs": [],
   "source": [
    "\n",
    "chunk(field, num_words: int | None = None, num_lines: int | None = None, include_original=False, hash_original=False)→ ScenarioList[source]\n",
    "Split a field into chunks of a given size.\n",
    "\n",
    "Parameters\n",
    ":\n",
    "field – The field to split.\n",
    "\n",
    "num_words – The number of words in each chunk.\n",
    "\n",
    "num_lines – The number of lines in each chunk.\n",
    "\n",
    "include_original – Whether to include the original field in the new scenarios.\n",
    "\n",
    "hash_original – Whether to hash the original field in the new scenarios.\n",
    "\n",
    "If you specify include_original, the original field will be included in the new scenarios with an “_original” suffix.\n",
    "\n",
    "Either num_words or num_lines must be specified, but not both. The hash_original is useful if you do not want to store the original text, but still want a unique identifier for it.\n",
    "\n"
   ]
  }
 ],
 "metadata": {
  "kernelspec": {
   "display_name": "Python 3 (ipykernel)",
   "language": "python",
   "name": "python3"
  },
  "language_info": {
   "codemirror_mode": {
    "name": "ipython",
    "version": 3
   },
   "file_extension": ".py",
   "mimetype": "text/x-python",
   "name": "python",
   "nbconvert_exporter": "python",
   "pygments_lexer": "ipython3",
   "version": "3.11.7"
  }
 },
 "nbformat": 4,
 "nbformat_minor": 5
}
