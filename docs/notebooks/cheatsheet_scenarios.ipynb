{
 "cells": [
  {
   "cell_type": "markdown",
   "id": "fb8b90ca-2153-4d39-a765-67e1a6e5946a",
   "metadata": {},
   "source": [
    "# Cheatsheet: Scenarios\n",
    "This notebook provides quick examples of methods for using `Scenario` objects to add data or other content to your [EDSL](https://docs.expectedparrot.com/) survey questions. Scenarios allow you to efficiently administer multiple versions of questions at once, which can be useful in conducting experiments and labeling/exploration tasks where you want to answer the same questions about many different things, such as every piece of data in a dataset, or a collection of texts or other content.\n",
    "\n",
    "Below we show how to each of the following:\n",
    "\n",
    "* Inspect an example scenario\n",
    "* Use a scenario in a question\n",
    "* Create scenarios\n",
    "* Combine scenarios\n",
    "* Replicate scenarios\n",
    "* Rename scenario keys\n",
    "* Sample scenarios\n",
    "* Select and drop scenarios\n",
    "* Slice/chunk text as scenarios\n",
    "* Turn PDFs into scenarios\n",
    "* Turn images into scenarios\n",
    "* Add metadata to scenarios\n",
    "\n",
    "<i>[EDSL](https://github.com/expectedparrot/edsl) is an open-source Python library for simulating surveys, experiments and other research with AI agents and large language models. Please see our [documentation page](https://docs.expectedparrot.com/) for information and tutorials on getting started, and more details on [methods for working with scenarios](https://docs.expectedparrot.com/en/latest/scenarios.html) that are shown here.</i>\n",
    "\n",
    "## Importing the tools\n",
    "We start by importing the relevant tools (see [installation instructions](https://docs.expectedparrot.com/en/latest/installation.html)):"
   ]
  },
  {
   "cell_type": "code",
   "execution_count": 1,
   "id": "1d1b5511-d4ee-4e11-a945-c04f93947a0d",
   "metadata": {},
   "outputs": [],
   "source": [
    "# ! pip install edsl"
   ]
  },
  {
   "cell_type": "code",
   "execution_count": 2,
   "id": "50709c04-a140-4a14-9c6d-8a8371acd94a",
   "metadata": {},
   "outputs": [],
   "source": [
    "from edsl import Scenario, ScenarioList"
   ]
  },
  {
   "cell_type": "markdown",
   "id": "9199db50-c70e-47eb-a301-93f869ab6722",
   "metadata": {},
   "source": [
    "## Inspecting an example\n",
    "A `Scenario` contains a dictionary of keys and values representing data or content to be added to (inserted in) the `question_text` field of a `Question` object (see [examples of all question types](https://docs.expectedparrot.com/en/latest/questions.html)). We can call the `example()` method to inspect an example scenario:"
   ]
  },
  {
   "cell_type": "code",
   "execution_count": 3,
   "id": "89747872-2149-4aae-a4b7-4541cfd4ac39",
   "metadata": {},
   "outputs": [
    {
     "data": {
      "text/html": [
       "<div class=\"highlight\"><pre><span></span><span class=\"p\">{</span>\n",
       "<span class=\"w\">    </span><span class=\"nt\">&quot;persona&quot;</span><span class=\"p\">:</span><span class=\"w\"> </span><span class=\"s2\">&quot;A reseacher studying whether LLMs can be used to generate surveys.&quot;</span>\n",
       "<span class=\"p\">}</span>\n",
       "</pre></div>\n"
      ],
      "text/plain": [
       "Scenario({'persona': 'A reseacher studying whether LLMs can be used to generate surveys.'})"
      ]
     },
     "execution_count": 3,
     "metadata": {},
     "output_type": "execute_result"
    }
   ],
   "source": [
    "example_scenario = Scenario.example()\n",
    "example_scenario"
   ]
  },
  {
   "cell_type": "markdown",
   "id": "e7ea1ca8-e988-4521-99c6-387a0ed7a64c",
   "metadata": {},
   "source": [
    "We can also see an example `ScenarioList`, which is a dictionary containing a list of scenarios:"
   ]
  },
  {
   "cell_type": "code",
   "execution_count": 4,
   "id": "34a04dc9-df95-4cc7-aa03-f886d2c7342e",
   "metadata": {},
   "outputs": [
    {
     "data": {
      "text/html": [
       "<div class=\"highlight\"><pre><span></span><span class=\"p\">{</span>\n",
       "<span class=\"w\">    </span><span class=\"nt\">&quot;scenarios&quot;</span><span class=\"p\">:</span><span class=\"w\"> </span><span class=\"p\">[</span>\n",
       "<span class=\"w\">        </span><span class=\"p\">{</span>\n",
       "<span class=\"w\">            </span><span class=\"nt\">&quot;persona&quot;</span><span class=\"p\">:</span><span class=\"w\"> </span><span class=\"s2\">&quot;A reseacher studying whether LLMs can be used to generate surveys.&quot;</span>\n",
       "<span class=\"w\">        </span><span class=\"p\">},</span>\n",
       "<span class=\"w\">        </span><span class=\"p\">{</span>\n",
       "<span class=\"w\">            </span><span class=\"nt\">&quot;persona&quot;</span><span class=\"p\">:</span><span class=\"w\"> </span><span class=\"s2\">&quot;A reseacher studying whether LLMs can be used to generate surveys.&quot;</span>\n",
       "<span class=\"w\">        </span><span class=\"p\">}</span>\n",
       "<span class=\"w\">    </span><span class=\"p\">]</span>\n",
       "<span class=\"p\">}</span>\n",
       "</pre></div>\n"
      ],
      "text/plain": [
       "ScenarioList([Scenario({'persona': 'A reseacher studying whether LLMs can be used to generate surveys.'}), Scenario({'persona': 'A reseacher studying whether LLMs can be used to generate surveys.'})])"
      ]
     },
     "execution_count": 4,
     "metadata": {},
     "output_type": "execute_result"
    }
   ],
   "source": [
    "example_scenariolist = ScenarioList.example()\n",
    "example_scenariolist"
   ]
  },
  {
   "cell_type": "markdown",
   "id": "2962a269-e2d6-4806-bbd2-10f4ea115a40",
   "metadata": {},
   "source": [
    "## Using a Scenario\n",
    "To use a scenario, we create a `Question` with a `{{ placeholder }}` in the `question_text` matching the scenario key. Then we call the `by()` method to add the scenario to the individual question or `Survey` (a [collection of questions](https://docs.expectedparrot.com/en/latest/surveys.html)) when we run it:"
   ]
  },
  {
   "cell_type": "code",
   "execution_count": 5,
   "id": "0fe40743-c051-4f05-b09d-53756b1b1768",
   "metadata": {},
   "outputs": [],
   "source": [
    "# Import question types\n",
    "from edsl.questions import QuestionFreeText, QuestionList\n",
    "from edsl import Survey\n",
    "\n",
    "# Create questions in the relevant templates with placeholders\n",
    "q1 = QuestionFreeText(\n",
    "    question_name = \"background\",\n",
    "    question_text = \"Draft a sample bio for this researcher: {{ persona }}\"\n",
    ")\n",
    "q2 = QuestionList(\n",
    "    question_name = \"interests\",\n",
    "    question_text = \"Identify some potential interests of this researcher: {{ persona }}\"\n",
    ")\n",
    "\n",
    "# Combine questions into a survey to administer them together\n",
    "survey = Survey(questions = [q1, q2])\n",
    "\n",
    "# Run the survey with the scenarios to generate a dataset of results\n",
    "results = survey.by(example_scenario).run()"
   ]
  },
  {
   "cell_type": "code",
   "execution_count": 6,
   "id": "43a03e00-5346-423c-a416-afba1a5c6746",
   "metadata": {},
   "outputs": [
    {
     "data": {
      "text/html": [
       "<pre style=\"white-space:pre;overflow-x:auto;line-height:normal;font-family:Menlo,'DejaVu Sans Mono',consolas,'Courier New',monospace\">┏━━━━━━━━━━━━━━━━━━━━━━━━━━━━━━━━━━━━━┳━━━━━━━━━━━━━━━━━━━━━━━━━━━━━━━━━━━━━┳━━━━━━━━━━━━━━━━━━━━━━━━━━━━━━━━━━━━━┓\n",
       "┃<span style=\"color: #800080; text-decoration-color: #800080; font-weight: bold\"> scenario                            </span>┃<span style=\"color: #800080; text-decoration-color: #800080; font-weight: bold\"> answer                              </span>┃<span style=\"color: #800080; text-decoration-color: #800080; font-weight: bold\"> answer                              </span>┃\n",
       "┃<span style=\"color: #800080; text-decoration-color: #800080; font-weight: bold\"> .persona                            </span>┃<span style=\"color: #800080; text-decoration-color: #800080; font-weight: bold\"> .background                         </span>┃<span style=\"color: #800080; text-decoration-color: #800080; font-weight: bold\"> .interests                          </span>┃\n",
       "┡━━━━━━━━━━━━━━━━━━━━━━━━━━━━━━━━━━━━━╇━━━━━━━━━━━━━━━━━━━━━━━━━━━━━━━━━━━━━╇━━━━━━━━━━━━━━━━━━━━━━━━━━━━━━━━━━━━━┩\n",
       "│<span style=\"color: #7f7f7f; text-decoration-color: #7f7f7f\"> A reseacher studying whether LLMs   </span>│<span style=\"color: #7f7f7f; text-decoration-color: #7f7f7f\"> Dr. Alex Rivera is a pioneering     </span>│<span style=\"color: #7f7f7f; text-decoration-color: #7f7f7f\"> ['natural language processing',     </span>│\n",
       "│<span style=\"color: #7f7f7f; text-decoration-color: #7f7f7f\"> can be used to generate surveys.    </span>│<span style=\"color: #7f7f7f; text-decoration-color: #7f7f7f\"> researcher in the field of          </span>│<span style=\"color: #7f7f7f; text-decoration-color: #7f7f7f\"> 'survey methodology', 'machine      </span>│\n",
       "│<span style=\"color: #7f7f7f; text-decoration-color: #7f7f7f\">                                     </span>│<span style=\"color: #7f7f7f; text-decoration-color: #7f7f7f\"> computational linguistics,          </span>│<span style=\"color: #7f7f7f; text-decoration-color: #7f7f7f\"> learning', 'data collection         </span>│\n",
       "│<span style=\"color: #7f7f7f; text-decoration-color: #7f7f7f\">                                     </span>│<span style=\"color: #7f7f7f; text-decoration-color: #7f7f7f\"> specifically focusing on the        </span>│<span style=\"color: #7f7f7f; text-decoration-color: #7f7f7f\"> automation', 'human-computer        </span>│\n",
       "│<span style=\"color: #7f7f7f; text-decoration-color: #7f7f7f\">                                     </span>│<span style=\"color: #7f7f7f; text-decoration-color: #7f7f7f\"> capabilities and applications of    </span>│<span style=\"color: #7f7f7f; text-decoration-color: #7f7f7f\"> interaction', 'artificial           </span>│\n",
       "│<span style=\"color: #7f7f7f; text-decoration-color: #7f7f7f\">                                     </span>│<span style=\"color: #7f7f7f; text-decoration-color: #7f7f7f\"> Large Language Models (LLMs). With  </span>│<span style=\"color: #7f7f7f; text-decoration-color: #7f7f7f\"> intelligence ethics', 'response     </span>│\n",
       "│<span style=\"color: #7f7f7f; text-decoration-color: #7f7f7f\">                                     </span>│<span style=\"color: #7f7f7f; text-decoration-color: #7f7f7f\"> a Ph.D. in Artificial Intelligence  </span>│<span style=\"color: #7f7f7f; text-decoration-color: #7f7f7f\"> quality assessment', 'question      </span>│\n",
       "│<span style=\"color: #7f7f7f; text-decoration-color: #7f7f7f\">                                     </span>│<span style=\"color: #7f7f7f; text-decoration-color: #7f7f7f\"> from MIT, Dr. Rivera has dedicated  </span>│<span style=\"color: #7f7f7f; text-decoration-color: #7f7f7f\"> generation algorithms',             </span>│\n",
       "│<span style=\"color: #7f7f7f; text-decoration-color: #7f7f7f\">                                     </span>│<span style=\"color: #7f7f7f; text-decoration-color: #7f7f7f\"> over a decade to exploring the      </span>│<span style=\"color: #7f7f7f; text-decoration-color: #7f7f7f\"> 'computational linguistics', 'user  </span>│\n",
       "│<span style=\"color: #7f7f7f; text-decoration-color: #7f7f7f\">                                     </span>│<span style=\"color: #7f7f7f; text-decoration-color: #7f7f7f\"> intersection of machine learning    </span>│<span style=\"color: #7f7f7f; text-decoration-color: #7f7f7f\"> experience design']                 </span>│\n",
       "│<span style=\"color: #7f7f7f; text-decoration-color: #7f7f7f\">                                     </span>│<span style=\"color: #7f7f7f; text-decoration-color: #7f7f7f\"> and natural language processing.    </span>│<span style=\"color: #7f7f7f; text-decoration-color: #7f7f7f\">                                     </span>│\n",
       "│<span style=\"color: #7f7f7f; text-decoration-color: #7f7f7f\">                                     </span>│<span style=\"color: #7f7f7f; text-decoration-color: #7f7f7f\"> Currently, their groundbreaking     </span>│<span style=\"color: #7f7f7f; text-decoration-color: #7f7f7f\">                                     </span>│\n",
       "│<span style=\"color: #7f7f7f; text-decoration-color: #7f7f7f\">                                     </span>│<span style=\"color: #7f7f7f; text-decoration-color: #7f7f7f\"> work investigates the potential of  </span>│<span style=\"color: #7f7f7f; text-decoration-color: #7f7f7f\">                                     </span>│\n",
       "│<span style=\"color: #7f7f7f; text-decoration-color: #7f7f7f\">                                     </span>│<span style=\"color: #7f7f7f; text-decoration-color: #7f7f7f\"> LLMs to autonomously generate       </span>│<span style=\"color: #7f7f7f; text-decoration-color: #7f7f7f\">                                     </span>│\n",
       "│<span style=\"color: #7f7f7f; text-decoration-color: #7f7f7f\">                                     </span>│<span style=\"color: #7f7f7f; text-decoration-color: #7f7f7f\"> surveys that can adapt to various   </span>│<span style=\"color: #7f7f7f; text-decoration-color: #7f7f7f\">                                     </span>│\n",
       "│<span style=\"color: #7f7f7f; text-decoration-color: #7f7f7f\">                                     </span>│<span style=\"color: #7f7f7f; text-decoration-color: #7f7f7f\"> research contexts and yield         </span>│<span style=\"color: #7f7f7f; text-decoration-color: #7f7f7f\">                                     </span>│\n",
       "│<span style=\"color: #7f7f7f; text-decoration-color: #7f7f7f\">                                     </span>│<span style=\"color: #7f7f7f; text-decoration-color: #7f7f7f\"> high-quality data. Dr. Rivera's     </span>│<span style=\"color: #7f7f7f; text-decoration-color: #7f7f7f\">                                     </span>│\n",
       "│<span style=\"color: #7f7f7f; text-decoration-color: #7f7f7f\">                                     </span>│<span style=\"color: #7f7f7f; text-decoration-color: #7f7f7f\"> publications have become seminal    </span>│<span style=\"color: #7f7f7f; text-decoration-color: #7f7f7f\">                                     </span>│\n",
       "│<span style=\"color: #7f7f7f; text-decoration-color: #7f7f7f\">                                     </span>│<span style=\"color: #7f7f7f; text-decoration-color: #7f7f7f\"> readings in advanced AI courses,    </span>│<span style=\"color: #7f7f7f; text-decoration-color: #7f7f7f\">                                     </span>│\n",
       "│<span style=\"color: #7f7f7f; text-decoration-color: #7f7f7f\">                                     </span>│<span style=\"color: #7f7f7f; text-decoration-color: #7f7f7f\"> and they frequently speak at        </span>│<span style=\"color: #7f7f7f; text-decoration-color: #7f7f7f\">                                     </span>│\n",
       "│<span style=\"color: #7f7f7f; text-decoration-color: #7f7f7f\">                                     </span>│<span style=\"color: #7f7f7f; text-decoration-color: #7f7f7f\"> international conferences. Their    </span>│<span style=\"color: #7f7f7f; text-decoration-color: #7f7f7f\">                                     </span>│\n",
       "│<span style=\"color: #7f7f7f; text-decoration-color: #7f7f7f\">                                     </span>│<span style=\"color: #7f7f7f; text-decoration-color: #7f7f7f\"> research aims to revolutionize the  </span>│<span style=\"color: #7f7f7f; text-decoration-color: #7f7f7f\">                                     </span>│\n",
       "│<span style=\"color: #7f7f7f; text-decoration-color: #7f7f7f\">                                     </span>│<span style=\"color: #7f7f7f; text-decoration-color: #7f7f7f\"> way we collect information, making  </span>│<span style=\"color: #7f7f7f; text-decoration-color: #7f7f7f\">                                     </span>│\n",
       "│<span style=\"color: #7f7f7f; text-decoration-color: #7f7f7f\">                                     </span>│<span style=\"color: #7f7f7f; text-decoration-color: #7f7f7f\"> it more efficient and accessible    </span>│<span style=\"color: #7f7f7f; text-decoration-color: #7f7f7f\">                                     </span>│\n",
       "│<span style=\"color: #7f7f7f; text-decoration-color: #7f7f7f\">                                     </span>│<span style=\"color: #7f7f7f; text-decoration-color: #7f7f7f\"> across diverse fields.              </span>│<span style=\"color: #7f7f7f; text-decoration-color: #7f7f7f\">                                     </span>│\n",
       "└─────────────────────────────────────┴─────────────────────────────────────┴─────────────────────────────────────┘\n",
       "</pre>\n"
      ],
      "text/plain": [
       "┏━━━━━━━━━━━━━━━━━━━━━━━━━━━━━━━━━━━━━┳━━━━━━━━━━━━━━━━━━━━━━━━━━━━━━━━━━━━━┳━━━━━━━━━━━━━━━━━━━━━━━━━━━━━━━━━━━━━┓\n",
       "┃\u001b[1;35m \u001b[0m\u001b[1;35mscenario                           \u001b[0m\u001b[1;35m \u001b[0m┃\u001b[1;35m \u001b[0m\u001b[1;35manswer                             \u001b[0m\u001b[1;35m \u001b[0m┃\u001b[1;35m \u001b[0m\u001b[1;35manswer                             \u001b[0m\u001b[1;35m \u001b[0m┃\n",
       "┃\u001b[1;35m \u001b[0m\u001b[1;35m.persona                           \u001b[0m\u001b[1;35m \u001b[0m┃\u001b[1;35m \u001b[0m\u001b[1;35m.background                        \u001b[0m\u001b[1;35m \u001b[0m┃\u001b[1;35m \u001b[0m\u001b[1;35m.interests                         \u001b[0m\u001b[1;35m \u001b[0m┃\n",
       "┡━━━━━━━━━━━━━━━━━━━━━━━━━━━━━━━━━━━━━╇━━━━━━━━━━━━━━━━━━━━━━━━━━━━━━━━━━━━━╇━━━━━━━━━━━━━━━━━━━━━━━━━━━━━━━━━━━━━┩\n",
       "│\u001b[2m \u001b[0m\u001b[2mA reseacher studying whether LLMs  \u001b[0m\u001b[2m \u001b[0m│\u001b[2m \u001b[0m\u001b[2mDr. Alex Rivera is a pioneering    \u001b[0m\u001b[2m \u001b[0m│\u001b[2m \u001b[0m\u001b[2m['natural language processing',    \u001b[0m\u001b[2m \u001b[0m│\n",
       "│\u001b[2m \u001b[0m\u001b[2mcan be used to generate surveys.   \u001b[0m\u001b[2m \u001b[0m│\u001b[2m \u001b[0m\u001b[2mresearcher in the field of         \u001b[0m\u001b[2m \u001b[0m│\u001b[2m \u001b[0m\u001b[2m'survey methodology', 'machine     \u001b[0m\u001b[2m \u001b[0m│\n",
       "│\u001b[2m                                     \u001b[0m│\u001b[2m \u001b[0m\u001b[2mcomputational linguistics,         \u001b[0m\u001b[2m \u001b[0m│\u001b[2m \u001b[0m\u001b[2mlearning', 'data collection        \u001b[0m\u001b[2m \u001b[0m│\n",
       "│\u001b[2m                                     \u001b[0m│\u001b[2m \u001b[0m\u001b[2mspecifically focusing on the       \u001b[0m\u001b[2m \u001b[0m│\u001b[2m \u001b[0m\u001b[2mautomation', 'human-computer       \u001b[0m\u001b[2m \u001b[0m│\n",
       "│\u001b[2m                                     \u001b[0m│\u001b[2m \u001b[0m\u001b[2mcapabilities and applications of   \u001b[0m\u001b[2m \u001b[0m│\u001b[2m \u001b[0m\u001b[2minteraction', 'artificial          \u001b[0m\u001b[2m \u001b[0m│\n",
       "│\u001b[2m                                     \u001b[0m│\u001b[2m \u001b[0m\u001b[2mLarge Language Models (LLMs). With \u001b[0m\u001b[2m \u001b[0m│\u001b[2m \u001b[0m\u001b[2mintelligence ethics', 'response    \u001b[0m\u001b[2m \u001b[0m│\n",
       "│\u001b[2m                                     \u001b[0m│\u001b[2m \u001b[0m\u001b[2ma Ph.D. in Artificial Intelligence \u001b[0m\u001b[2m \u001b[0m│\u001b[2m \u001b[0m\u001b[2mquality assessment', 'question     \u001b[0m\u001b[2m \u001b[0m│\n",
       "│\u001b[2m                                     \u001b[0m│\u001b[2m \u001b[0m\u001b[2mfrom MIT, Dr. Rivera has dedicated \u001b[0m\u001b[2m \u001b[0m│\u001b[2m \u001b[0m\u001b[2mgeneration algorithms',            \u001b[0m\u001b[2m \u001b[0m│\n",
       "│\u001b[2m                                     \u001b[0m│\u001b[2m \u001b[0m\u001b[2mover a decade to exploring the     \u001b[0m\u001b[2m \u001b[0m│\u001b[2m \u001b[0m\u001b[2m'computational linguistics', 'user \u001b[0m\u001b[2m \u001b[0m│\n",
       "│\u001b[2m                                     \u001b[0m│\u001b[2m \u001b[0m\u001b[2mintersection of machine learning   \u001b[0m\u001b[2m \u001b[0m│\u001b[2m \u001b[0m\u001b[2mexperience design']                \u001b[0m\u001b[2m \u001b[0m│\n",
       "│\u001b[2m                                     \u001b[0m│\u001b[2m \u001b[0m\u001b[2mand natural language processing.   \u001b[0m\u001b[2m \u001b[0m│\u001b[2m                                     \u001b[0m│\n",
       "│\u001b[2m                                     \u001b[0m│\u001b[2m \u001b[0m\u001b[2mCurrently, their groundbreaking    \u001b[0m\u001b[2m \u001b[0m│\u001b[2m                                     \u001b[0m│\n",
       "│\u001b[2m                                     \u001b[0m│\u001b[2m \u001b[0m\u001b[2mwork investigates the potential of \u001b[0m\u001b[2m \u001b[0m│\u001b[2m                                     \u001b[0m│\n",
       "│\u001b[2m                                     \u001b[0m│\u001b[2m \u001b[0m\u001b[2mLLMs to autonomously generate      \u001b[0m\u001b[2m \u001b[0m│\u001b[2m                                     \u001b[0m│\n",
       "│\u001b[2m                                     \u001b[0m│\u001b[2m \u001b[0m\u001b[2msurveys that can adapt to various  \u001b[0m\u001b[2m \u001b[0m│\u001b[2m                                     \u001b[0m│\n",
       "│\u001b[2m                                     \u001b[0m│\u001b[2m \u001b[0m\u001b[2mresearch contexts and yield        \u001b[0m\u001b[2m \u001b[0m│\u001b[2m                                     \u001b[0m│\n",
       "│\u001b[2m                                     \u001b[0m│\u001b[2m \u001b[0m\u001b[2mhigh-quality data. Dr. Rivera's    \u001b[0m\u001b[2m \u001b[0m│\u001b[2m                                     \u001b[0m│\n",
       "│\u001b[2m                                     \u001b[0m│\u001b[2m \u001b[0m\u001b[2mpublications have become seminal   \u001b[0m\u001b[2m \u001b[0m│\u001b[2m                                     \u001b[0m│\n",
       "│\u001b[2m                                     \u001b[0m│\u001b[2m \u001b[0m\u001b[2mreadings in advanced AI courses,   \u001b[0m\u001b[2m \u001b[0m│\u001b[2m                                     \u001b[0m│\n",
       "│\u001b[2m                                     \u001b[0m│\u001b[2m \u001b[0m\u001b[2mand they frequently speak at       \u001b[0m\u001b[2m \u001b[0m│\u001b[2m                                     \u001b[0m│\n",
       "│\u001b[2m                                     \u001b[0m│\u001b[2m \u001b[0m\u001b[2minternational conferences. Their   \u001b[0m\u001b[2m \u001b[0m│\u001b[2m                                     \u001b[0m│\n",
       "│\u001b[2m                                     \u001b[0m│\u001b[2m \u001b[0m\u001b[2mresearch aims to revolutionize the \u001b[0m\u001b[2m \u001b[0m│\u001b[2m                                     \u001b[0m│\n",
       "│\u001b[2m                                     \u001b[0m│\u001b[2m \u001b[0m\u001b[2mway we collect information, making \u001b[0m\u001b[2m \u001b[0m│\u001b[2m                                     \u001b[0m│\n",
       "│\u001b[2m                                     \u001b[0m│\u001b[2m \u001b[0m\u001b[2mit more efficient and accessible   \u001b[0m\u001b[2m \u001b[0m│\u001b[2m                                     \u001b[0m│\n",
       "│\u001b[2m                                     \u001b[0m│\u001b[2m \u001b[0m\u001b[2macross diverse fields.             \u001b[0m\u001b[2m \u001b[0m│\u001b[2m                                     \u001b[0m│\n",
       "└─────────────────────────────────────┴─────────────────────────────────────┴─────────────────────────────────────┘\n"
      ]
     },
     "metadata": {},
     "output_type": "display_data"
    }
   ],
   "source": [
    "# Print a table of selected components of the results\n",
    "results.select(\"persona\", \"background\", \"interests\").print(format=\"rich\")"
   ]
  },
  {
   "cell_type": "markdown",
   "id": "2d06c8ea-fb37-4ac2-a463-9dda3d391fcf",
   "metadata": {},
   "source": [
    "Note that the `by()` method can take an individual `Scenario` or a list of scenarios (examples below). Learn more about how to [construct surveys](https://docs.expectedparrot.com/en/latest/surveys.html) and [analyze results](https://docs.expectedparrot.com/en/latest/results.html)."
   ]
  },
  {
   "cell_type": "markdown",
   "id": "6fe06b36-515e-4011-b8d1-79d205ee65c4",
   "metadata": {},
   "source": [
    "## Creating a Scenario\n",
    "We create a scenario by passing a dictionary to a `Scenario` object:"
   ]
  },
  {
   "cell_type": "code",
   "execution_count": 7,
   "id": "49bb76da-cc9e-4e13-8ecc-3da82866f428",
   "metadata": {},
   "outputs": [
    {
     "data": {
      "text/html": [
       "<div class=\"highlight\"><pre><span></span><span class=\"p\">{</span>\n",
       "<span class=\"w\">    </span><span class=\"nt\">&quot;weather&quot;</span><span class=\"p\">:</span><span class=\"w\"> </span><span class=\"s2\">&quot;sunny&quot;</span>\n",
       "<span class=\"p\">}</span>\n",
       "</pre></div>\n"
      ],
      "text/plain": [
       "Scenario({'weather': 'sunny'})"
      ]
     },
     "execution_count": 7,
     "metadata": {},
     "output_type": "execute_result"
    }
   ],
   "source": [
    "weather_scenario = Scenario({\"weather\":\"sunny\"})\n",
    "weather_scenario"
   ]
  },
  {
   "cell_type": "markdown",
   "id": "8e9b016f-b470-4dcc-874c-d5df9e806ac9",
   "metadata": {},
   "source": [
    "## Creating a ScenarioList\n",
    "It can be useful to create a set of scenarios all at once. This can be done by constructing a list of `Scenario` objects or a `ScenarioList`. Compare a list of `Scenario` objects:"
   ]
  },
  {
   "cell_type": "code",
   "execution_count": 8,
   "id": "1dfcc985-7020-48f7-8bf8-cacd2c026b7d",
   "metadata": {},
   "outputs": [
    {
     "data": {
      "text/plain": [
       "[Scenario({'weather': 'sunny'}),\n",
       " Scenario({'weather': 'cloudy'}),\n",
       " Scenario({'weather': 'rainy'}),\n",
       " Scenario({'weather': 'snowy'})]"
      ]
     },
     "execution_count": 8,
     "metadata": {},
     "output_type": "execute_result"
    }
   ],
   "source": [
    "weather_scenarios = [Scenario({\"weather\":w}) for w in [\"sunny\", \"cloudy\", \"rainy\", \"snowy\"]]\n",
    "weather_scenarios"
   ]
  },
  {
   "cell_type": "markdown",
   "id": "aca9fb74-3f1c-4b90-9360-b2e09d662869",
   "metadata": {},
   "source": [
    "Alternatively, we can create a `ScenarioList` which has a key `scenarios` and a list of scenarios as the values:"
   ]
  },
  {
   "cell_type": "code",
   "execution_count": 9,
   "id": "bfbbc8f1-c409-47c0-9c3a-027128d70389",
   "metadata": {},
   "outputs": [
    {
     "data": {
      "text/html": [
       "<div class=\"highlight\"><pre><span></span><span class=\"p\">{</span>\n",
       "<span class=\"w\">    </span><span class=\"nt\">&quot;scenarios&quot;</span><span class=\"p\">:</span><span class=\"w\"> </span><span class=\"p\">[</span>\n",
       "<span class=\"w\">        </span><span class=\"p\">{</span>\n",
       "<span class=\"w\">            </span><span class=\"nt\">&quot;persona&quot;</span><span class=\"p\">:</span><span class=\"w\"> </span><span class=\"s2\">&quot;A reseacher studying whether LLMs can be used to generate surveys.&quot;</span>\n",
       "<span class=\"w\">        </span><span class=\"p\">},</span>\n",
       "<span class=\"w\">        </span><span class=\"p\">{</span>\n",
       "<span class=\"w\">            </span><span class=\"nt\">&quot;persona&quot;</span><span class=\"p\">:</span><span class=\"w\"> </span><span class=\"s2\">&quot;A reseacher studying whether LLMs can be used to generate surveys.&quot;</span>\n",
       "<span class=\"w\">        </span><span class=\"p\">}</span>\n",
       "<span class=\"w\">    </span><span class=\"p\">]</span>\n",
       "<span class=\"p\">}</span>\n",
       "</pre></div>\n"
      ],
      "text/plain": [
       "ScenarioList([Scenario({'persona': 'A reseacher studying whether LLMs can be used to generate surveys.'}), Scenario({'persona': 'A reseacher studying whether LLMs can be used to generate surveys.'})])"
      ]
     },
     "execution_count": 9,
     "metadata": {},
     "output_type": "execute_result"
    }
   ],
   "source": [
    "example_scenariolist = ScenarioList.example()\n",
    "example_scenariolist"
   ]
  },
  {
   "cell_type": "code",
   "execution_count": 10,
   "id": "aa7f08c0-5ce6-473a-82f0-0f0fc3367dca",
   "metadata": {},
   "outputs": [
    {
     "data": {
      "text/html": [
       "<div class=\"highlight\"><pre><span></span><span class=\"p\">{</span>\n",
       "<span class=\"w\">    </span><span class=\"nt\">&quot;scenarios&quot;</span><span class=\"p\">:</span><span class=\"w\"> </span><span class=\"p\">[</span>\n",
       "<span class=\"w\">        </span><span class=\"p\">{</span>\n",
       "<span class=\"w\">            </span><span class=\"nt\">&quot;weather&quot;</span><span class=\"p\">:</span><span class=\"w\"> </span><span class=\"s2\">&quot;sunny&quot;</span>\n",
       "<span class=\"w\">        </span><span class=\"p\">},</span>\n",
       "<span class=\"w\">        </span><span class=\"p\">{</span>\n",
       "<span class=\"w\">            </span><span class=\"nt\">&quot;weather&quot;</span><span class=\"p\">:</span><span class=\"w\"> </span><span class=\"s2\">&quot;cloudy&quot;</span>\n",
       "<span class=\"w\">        </span><span class=\"p\">},</span>\n",
       "<span class=\"w\">        </span><span class=\"p\">{</span>\n",
       "<span class=\"w\">            </span><span class=\"nt\">&quot;weather&quot;</span><span class=\"p\">:</span><span class=\"w\"> </span><span class=\"s2\">&quot;rainy&quot;</span>\n",
       "<span class=\"w\">        </span><span class=\"p\">},</span>\n",
       "<span class=\"w\">        </span><span class=\"p\">{</span>\n",
       "<span class=\"w\">            </span><span class=\"nt\">&quot;weather&quot;</span><span class=\"p\">:</span><span class=\"w\"> </span><span class=\"s2\">&quot;snowy&quot;</span>\n",
       "<span class=\"w\">        </span><span class=\"p\">}</span>\n",
       "<span class=\"w\">    </span><span class=\"p\">]</span>\n",
       "<span class=\"p\">}</span>\n",
       "</pre></div>\n"
      ],
      "text/plain": [
       "ScenarioList([Scenario({'weather': 'sunny'}), Scenario({'weather': 'cloudy'}), Scenario({'weather': 'rainy'}), Scenario({'weather': 'snowy'})])"
      ]
     },
     "execution_count": 10,
     "metadata": {},
     "output_type": "execute_result"
    }
   ],
   "source": [
    "weather_scenariolist = ScenarioList([Scenario({\"weather\":w}) for w in [\"sunny\", \"cloudy\", \"rainy\", \"snowy\"]])\n",
    "weather_scenariolist"
   ]
  },
  {
   "cell_type": "markdown",
   "id": "2509c519-a7a6-4207-a73a-383a6ec3ef16",
   "metadata": {},
   "source": [
    "## Combining scenarios\n",
    "We can add scenarios together to create a single new scenario with an extended dictionary:"
   ]
  },
  {
   "cell_type": "code",
   "execution_count": 11,
   "id": "4ed72054-a95a-4420-80e7-6d5511b6618a",
   "metadata": {},
   "outputs": [
    {
     "data": {
      "text/html": [
       "<div class=\"highlight\"><pre><span></span><span class=\"p\">{</span>\n",
       "<span class=\"w\">    </span><span class=\"nt\">&quot;food&quot;</span><span class=\"p\">:</span><span class=\"w\"> </span><span class=\"s2\">&quot;apple&quot;</span><span class=\"p\">,</span>\n",
       "<span class=\"w\">    </span><span class=\"nt\">&quot;drink&quot;</span><span class=\"p\">:</span><span class=\"w\"> </span><span class=\"s2\">&quot;juice&quot;</span>\n",
       "<span class=\"p\">}</span>\n",
       "</pre></div>\n"
      ],
      "text/plain": [
       "Scenario({'food': 'apple', 'drink': 'juice'})"
      ]
     },
     "execution_count": 11,
     "metadata": {},
     "output_type": "execute_result"
    }
   ],
   "source": [
    "scenario1 = Scenario({\"food\": \"apple\"})\n",
    "scenario2 = Scenario({\"drink\": \"juice\"})\n",
    "\n",
    "snack_scenario = scenario1 + scenario2\n",
    "snack_scenario"
   ]
  },
  {
   "cell_type": "markdown",
   "id": "e563279a-1e3c-43ef-9481-df3212746122",
   "metadata": {},
   "source": [
    "## Replicating scenarios\n",
    "We can replicate a scenario to create a `ScenarioList`:"
   ]
  },
  {
   "cell_type": "code",
   "execution_count": 12,
   "id": "2c05b099-3be8-4efa-a1e6-2a94dc2cdc7a",
   "metadata": {},
   "outputs": [
    {
     "data": {
      "text/html": [
       "<div class=\"highlight\"><pre><span></span><span class=\"p\">{</span>\n",
       "<span class=\"w\">    </span><span class=\"nt\">&quot;scenarios&quot;</span><span class=\"p\">:</span><span class=\"w\"> </span><span class=\"p\">[</span>\n",
       "<span class=\"w\">        </span><span class=\"p\">{</span>\n",
       "<span class=\"w\">            </span><span class=\"nt\">&quot;persona&quot;</span><span class=\"p\">:</span><span class=\"w\"> </span><span class=\"s2\">&quot;A reseacher studying whether LLMs can be used to generate surveys.&quot;</span>\n",
       "<span class=\"w\">        </span><span class=\"p\">},</span>\n",
       "<span class=\"w\">        </span><span class=\"p\">{</span>\n",
       "<span class=\"w\">            </span><span class=\"nt\">&quot;persona&quot;</span><span class=\"p\">:</span><span class=\"w\"> </span><span class=\"s2\">&quot;A reseacher studying whether LLMs can be used to generate surveys.&quot;</span>\n",
       "<span class=\"w\">        </span><span class=\"p\">},</span>\n",
       "<span class=\"w\">        </span><span class=\"p\">{</span>\n",
       "<span class=\"w\">            </span><span class=\"nt\">&quot;persona&quot;</span><span class=\"p\">:</span><span class=\"w\"> </span><span class=\"s2\">&quot;A reseacher studying whether LLMs can be used to generate surveys.&quot;</span>\n",
       "<span class=\"w\">        </span><span class=\"p\">}</span>\n",
       "<span class=\"w\">    </span><span class=\"p\">]</span>\n",
       "<span class=\"p\">}</span>\n",
       "</pre></div>\n"
      ],
      "text/plain": [
       "ScenarioList([Scenario({'persona': 'A reseacher studying whether LLMs can be used to generate surveys.'}), Scenario({'persona': 'A reseacher studying whether LLMs can be used to generate surveys.'}), Scenario({'persona': 'A reseacher studying whether LLMs can be used to generate surveys.'})])"
      ]
     },
     "execution_count": 12,
     "metadata": {},
     "output_type": "execute_result"
    }
   ],
   "source": [
    "personas_scenariolist = Scenario.example().replicate(n=3)\n",
    "personas_scenariolist"
   ]
  },
  {
   "cell_type": "markdown",
   "id": "1152d800-889b-4eae-9f24-f4b0aba1782f",
   "metadata": {},
   "source": [
    "## Renaming scenarios\n",
    "We can call the `rename()` method to rename the fields (keys) of a `Scenario`:"
   ]
  },
  {
   "cell_type": "code",
   "execution_count": 13,
   "id": "b2fadc80-24bf-4c93-a667-0df28ebcd5e2",
   "metadata": {},
   "outputs": [
    {
     "data": {
      "text/html": [
       "<div class=\"highlight\"><pre><span></span><span class=\"p\">{</span>\n",
       "<span class=\"w\">    </span><span class=\"nt\">&quot;role&quot;</span><span class=\"p\">:</span><span class=\"w\"> </span><span class=\"s2\">&quot;A reseacher studying whether LLMs can be used to generate surveys.&quot;</span>\n",
       "<span class=\"p\">}</span>\n",
       "</pre></div>\n"
      ],
      "text/plain": [
       "Scenario({'role': 'A reseacher studying whether LLMs can be used to generate surveys.'})"
      ]
     },
     "execution_count": 13,
     "metadata": {},
     "output_type": "execute_result"
    }
   ],
   "source": [
    "role_scenario = Scenario.example().rename({\"persona\": \"role\"})\n",
    "role_scenario"
   ]
  },
  {
   "cell_type": "markdown",
   "id": "9f7f2235-1462-4ef1-8952-4f22b80fc0bc",
   "metadata": {},
   "source": [
    "The method can also be called on a `ScenarioList`:"
   ]
  },
  {
   "cell_type": "code",
   "execution_count": 14,
   "id": "a3b4f819-1919-4c46-8534-4be14eaebf23",
   "metadata": {},
   "outputs": [
    {
     "data": {
      "text/html": [
       "<div class=\"highlight\"><pre><span></span><span class=\"p\">{</span>\n",
       "<span class=\"w\">    </span><span class=\"nt\">&quot;scenarios&quot;</span><span class=\"p\">:</span><span class=\"w\"> </span><span class=\"p\">[</span>\n",
       "<span class=\"w\">        </span><span class=\"p\">{</span>\n",
       "<span class=\"w\">            </span><span class=\"nt\">&quot;first_name&quot;</span><span class=\"p\">:</span><span class=\"w\"> </span><span class=\"s2\">&quot;Apostolos&quot;</span>\n",
       "<span class=\"w\">        </span><span class=\"p\">},</span>\n",
       "<span class=\"w\">        </span><span class=\"p\">{</span>\n",
       "<span class=\"w\">            </span><span class=\"nt\">&quot;first_name&quot;</span><span class=\"p\">:</span><span class=\"w\"> </span><span class=\"s2\">&quot;John&quot;</span>\n",
       "<span class=\"w\">        </span><span class=\"p\">},</span>\n",
       "<span class=\"w\">        </span><span class=\"p\">{</span>\n",
       "<span class=\"w\">            </span><span class=\"nt\">&quot;first_name&quot;</span><span class=\"p\">:</span><span class=\"w\"> </span><span class=\"s2\">&quot;Robin&quot;</span>\n",
       "<span class=\"w\">        </span><span class=\"p\">}</span>\n",
       "<span class=\"w\">    </span><span class=\"p\">]</span>\n",
       "<span class=\"p\">}</span>\n",
       "</pre></div>\n"
      ],
      "text/plain": [
       "ScenarioList([Scenario({'first_name': 'Apostolos'}), Scenario({'first_name': 'John'}), Scenario({'first_name': 'Robin'})])"
      ]
     },
     "execution_count": 14,
     "metadata": {},
     "output_type": "execute_result"
    }
   ],
   "source": [
    "scenariolist = ScenarioList([Scenario({\"name\": \"Apostolos\"}), Scenario({\"name\": \"John\"}),  Scenario({\"name\": \"Robin\"})])\n",
    "\n",
    "renamed_scenariolist = scenariolist.rename({\"name\": \"first_name\"})\n",
    "renamed_scenariolist"
   ]
  },
  {
   "cell_type": "markdown",
   "id": "563b9726-5262-4f62-a9dd-0fe6febfe7d6",
   "metadata": {},
   "source": [
    "## Sampling\n",
    "We can call the `sample()` method to take a sample from a `ScenarioList`:"
   ]
  },
  {
   "cell_type": "code",
   "execution_count": 15,
   "id": "a4a177a3-7ce5-48a0-be38-b0a3ecd698f3",
   "metadata": {},
   "outputs": [
    {
     "data": {
      "text/html": [
       "<div class=\"highlight\"><pre><span></span><span class=\"p\">{</span>\n",
       "<span class=\"w\">    </span><span class=\"nt\">&quot;scenarios&quot;</span><span class=\"p\">:</span><span class=\"w\"> </span><span class=\"p\">[</span>\n",
       "<span class=\"w\">        </span><span class=\"p\">{</span>\n",
       "<span class=\"w\">            </span><span class=\"nt\">&quot;weather&quot;</span><span class=\"p\">:</span><span class=\"w\"> </span><span class=\"s2\">&quot;rainy&quot;</span>\n",
       "<span class=\"w\">        </span><span class=\"p\">},</span>\n",
       "<span class=\"w\">        </span><span class=\"p\">{</span>\n",
       "<span class=\"w\">            </span><span class=\"nt\">&quot;weather&quot;</span><span class=\"p\">:</span><span class=\"w\"> </span><span class=\"s2\">&quot;cloudy&quot;</span>\n",
       "<span class=\"w\">        </span><span class=\"p\">}</span>\n",
       "<span class=\"w\">    </span><span class=\"p\">]</span>\n",
       "<span class=\"p\">}</span>\n",
       "</pre></div>\n"
      ],
      "text/plain": [
       "ScenarioList([Scenario({'weather': 'rainy'}), Scenario({'weather': 'cloudy'})])"
      ]
     },
     "execution_count": 15,
     "metadata": {},
     "output_type": "execute_result"
    }
   ],
   "source": [
    "weather_scenariolist = ScenarioList([Scenario({\"weather\":w}) for w in [\"sunny\", \"cloudy\", \"rainy\", \"snowy\"]])\n",
    "\n",
    "sample = weather_scenariolist.sample(n=2)\n",
    "sample"
   ]
  },
  {
   "cell_type": "markdown",
   "id": "210d76a5-fbff-4c4b-94a6-93ea66cc727d",
   "metadata": {},
   "source": [
    "## Selecting and dropping scenarios\n",
    "We can call the `select()` and `drop()` methods on a `ScenarioList` to include and exclude specified fields from the scenarios:"
   ]
  },
  {
   "cell_type": "code",
   "execution_count": 16,
   "id": "948582c4-f77e-43c2-8911-5b018e8b5cd8",
   "metadata": {},
   "outputs": [
    {
     "data": {
      "text/html": [
       "<div class=\"highlight\"><pre><span></span><span class=\"p\">{</span>\n",
       "<span class=\"w\">    </span><span class=\"nt\">&quot;scenarios&quot;</span><span class=\"p\">:</span><span class=\"w\"> </span><span class=\"p\">[</span>\n",
       "<span class=\"w\">        </span><span class=\"p\">{</span>\n",
       "<span class=\"w\">            </span><span class=\"nt\">&quot;food&quot;</span><span class=\"p\">:</span><span class=\"w\"> </span><span class=\"s2\">&quot;apple&quot;</span>\n",
       "<span class=\"w\">        </span><span class=\"p\">},</span>\n",
       "<span class=\"w\">        </span><span class=\"p\">{</span>\n",
       "<span class=\"w\">            </span><span class=\"nt\">&quot;food&quot;</span><span class=\"p\">:</span><span class=\"w\"> </span><span class=\"s2\">&quot;banana&quot;</span>\n",
       "<span class=\"w\">        </span><span class=\"p\">}</span>\n",
       "<span class=\"w\">    </span><span class=\"p\">]</span>\n",
       "<span class=\"p\">}</span>\n",
       "</pre></div>\n"
      ],
      "text/plain": [
       "ScenarioList([Scenario({'food': 'apple'}), Scenario({'food': 'banana'})])"
      ]
     },
     "execution_count": 16,
     "metadata": {},
     "output_type": "execute_result"
    }
   ],
   "source": [
    "snacks_scenariolist = ScenarioList([Scenario({\"food\": \"apple\", \"drink\": \"water\"}), Scenario({\"food\": \"banana\", \"drink\": \"milk\"})])\n",
    "\n",
    "food_scenariolist = snacks_scenariolist.select(\"food\")\n",
    "food_scenariolist"
   ]
  },
  {
   "cell_type": "code",
   "execution_count": 17,
   "id": "edef31a5-ec16-4aff-94dd-b87315726158",
   "metadata": {},
   "outputs": [
    {
     "data": {
      "text/html": [
       "<div class=\"highlight\"><pre><span></span><span class=\"p\">{</span>\n",
       "<span class=\"w\">    </span><span class=\"nt\">&quot;scenarios&quot;</span><span class=\"p\">:</span><span class=\"w\"> </span><span class=\"p\">[</span>\n",
       "<span class=\"w\">        </span><span class=\"p\">{</span>\n",
       "<span class=\"w\">            </span><span class=\"nt\">&quot;drink&quot;</span><span class=\"p\">:</span><span class=\"w\"> </span><span class=\"s2\">&quot;water&quot;</span>\n",
       "<span class=\"w\">        </span><span class=\"p\">},</span>\n",
       "<span class=\"w\">        </span><span class=\"p\">{</span>\n",
       "<span class=\"w\">            </span><span class=\"nt\">&quot;drink&quot;</span><span class=\"p\">:</span><span class=\"w\"> </span><span class=\"s2\">&quot;milk&quot;</span>\n",
       "<span class=\"w\">        </span><span class=\"p\">}</span>\n",
       "<span class=\"w\">    </span><span class=\"p\">]</span>\n",
       "<span class=\"p\">}</span>\n",
       "</pre></div>\n"
      ],
      "text/plain": [
       "ScenarioList([Scenario({'drink': 'water'}), Scenario({'drink': 'milk'})])"
      ]
     },
     "execution_count": 17,
     "metadata": {},
     "output_type": "execute_result"
    }
   ],
   "source": [
    "drink_scenariolist = snacks_scenariolist.drop(\"food\")\n",
    "drink_scenariolist"
   ]
  },
  {
   "cell_type": "markdown",
   "id": "448a029f-883b-407e-9744-e1444e500dc9",
   "metadata": {},
   "source": [
    "## Adding metadata to scenarios\n",
    "Note that we can create fields in scenarios without including them in the `question_text`. This will cause the fields to be present in the `Results` dataset, which can be useful for adding metadata to your questions and results. [See more examples here](https://docs.expectedparrot.com/en/latest/notebooks/adding_metadata.html).\n",
    "\n",
    "Example usage:"
   ]
  },
  {
   "cell_type": "code",
   "execution_count": 18,
   "id": "feed384f-479a-44d8-bd70-bdd5e624d51b",
   "metadata": {},
   "outputs": [
    {
     "data": {
      "text/plain": [
       "[Scenario({'title': '1999', 'musician': 'Prince', 'genre': 'pop'}),\n",
       " Scenario({'title': '1979', 'musician': 'The Smashing Pumpkins', 'genre': 'alt'}),\n",
       " Scenario({'title': '1901', 'musician': 'Phoenix', 'genre': 'indie'})]"
      ]
     },
     "execution_count": 18,
     "metadata": {},
     "output_type": "execute_result"
    }
   ],
   "source": [
    "songs = [\n",
    "    [\"1999\", \"Prince\", \"pop\"],\n",
    "    [\"1979\", \"The Smashing Pumpkins\", \"alt\"],\n",
    "    [\"1901\", \"Phoenix\", \"indie\"]\n",
    "]\n",
    "metadata_scenarios = [Scenario({\"title\":t, \"musician\":m, \"genre\":g}) for [t,m,g] in songs]\n",
    "metadata_scenarios"
   ]
  },
  {
   "cell_type": "code",
   "execution_count": 19,
   "id": "5bc8b903-b37e-4c8b-8e6d-8a554fee6598",
   "metadata": {},
   "outputs": [
    {
     "data": {
      "text/html": [
       "<pre style=\"white-space:pre;overflow-x:auto;line-height:normal;font-family:Menlo,'DejaVu Sans Mono',consolas,'Courier New',monospace\">┏━━━━━━━━━━━━━━━━━━━━━━━┳━━━━━━━━━━┳━━━━━━━━━━┳━━━━━━━━━━━━━━━━━━━━━━━━━━━━━━━━━━━━━━━━━━━━━━━━━━━━━━━━━━━━━━━━━━━┓\n",
       "┃<span style=\"color: #800080; text-decoration-color: #800080; font-weight: bold\"> scenario              </span>┃<span style=\"color: #800080; text-decoration-color: #800080; font-weight: bold\"> scenario </span>┃<span style=\"color: #800080; text-decoration-color: #800080; font-weight: bold\"> scenario </span>┃<span style=\"color: #800080; text-decoration-color: #800080; font-weight: bold\"> answer                                                            </span>┃\n",
       "┃<span style=\"color: #800080; text-decoration-color: #800080; font-weight: bold\"> .musician             </span>┃<span style=\"color: #800080; text-decoration-color: #800080; font-weight: bold\"> .title   </span>┃<span style=\"color: #800080; text-decoration-color: #800080; font-weight: bold\"> .genre   </span>┃<span style=\"color: #800080; text-decoration-color: #800080; font-weight: bold\"> .song                                                             </span>┃\n",
       "┡━━━━━━━━━━━━━━━━━━━━━━━╇━━━━━━━━━━╇━━━━━━━━━━╇━━━━━━━━━━━━━━━━━━━━━━━━━━━━━━━━━━━━━━━━━━━━━━━━━━━━━━━━━━━━━━━━━━━┩\n",
       "│<span style=\"color: #7f7f7f; text-decoration-color: #7f7f7f\"> Prince                </span>│<span style=\"color: #7f7f7f; text-decoration-color: #7f7f7f\"> 1999     </span>│<span style=\"color: #7f7f7f; text-decoration-color: #7f7f7f\"> pop      </span>│<span style=\"color: #7f7f7f; text-decoration-color: #7f7f7f\"> The song '1999' by Prince is about the celebration and enjoyment  </span>│\n",
       "│<span style=\"color: #7f7f7f; text-decoration-color: #7f7f7f\">                       </span>│<span style=\"color: #7f7f7f; text-decoration-color: #7f7f7f\">          </span>│<span style=\"color: #7f7f7f; text-decoration-color: #7f7f7f\">          </span>│<span style=\"color: #7f7f7f; text-decoration-color: #7f7f7f\"> of life in the face of the looming threat of the year 2000, which </span>│\n",
       "│<span style=\"color: #7f7f7f; text-decoration-color: #7f7f7f\">                       </span>│<span style=\"color: #7f7f7f; text-decoration-color: #7f7f7f\">          </span>│<span style=\"color: #7f7f7f; text-decoration-color: #7f7f7f\">          </span>│<span style=\"color: #7f7f7f; text-decoration-color: #7f7f7f\"> at the time was associated with the end of the world or a major   </span>│\n",
       "│<span style=\"color: #7f7f7f; text-decoration-color: #7f7f7f\">                       </span>│<span style=\"color: #7f7f7f; text-decoration-color: #7f7f7f\">          </span>│<span style=\"color: #7f7f7f; text-decoration-color: #7f7f7f\">          </span>│<span style=\"color: #7f7f7f; text-decoration-color: #7f7f7f\"> catastrophic event (Y2K). Prince encourages listeners to let go   </span>│\n",
       "│<span style=\"color: #7f7f7f; text-decoration-color: #7f7f7f\">                       </span>│<span style=\"color: #7f7f7f; text-decoration-color: #7f7f7f\">          </span>│<span style=\"color: #7f7f7f; text-decoration-color: #7f7f7f\">          </span>│<span style=\"color: #7f7f7f; text-decoration-color: #7f7f7f\"> of their worries and to party like it's 1999, suggesting that if  </span>│\n",
       "│<span style=\"color: #7f7f7f; text-decoration-color: #7f7f7f\">                       </span>│<span style=\"color: #7f7f7f; text-decoration-color: #7f7f7f\">          </span>│<span style=\"color: #7f7f7f; text-decoration-color: #7f7f7f\">          </span>│<span style=\"color: #7f7f7f; text-decoration-color: #7f7f7f\"> the world is going to end, they should live life to the fullest   </span>│\n",
       "│<span style=\"color: #7f7f7f; text-decoration-color: #7f7f7f\">                       </span>│<span style=\"color: #7f7f7f; text-decoration-color: #7f7f7f\">          </span>│<span style=\"color: #7f7f7f; text-decoration-color: #7f7f7f\">          </span>│<span style=\"color: #7f7f7f; text-decoration-color: #7f7f7f\"> and have a good time without fear.                                </span>│\n",
       "├───────────────────────┼──────────┼──────────┼───────────────────────────────────────────────────────────────────┤\n",
       "│<span style=\"color: #7f7f7f; text-decoration-color: #7f7f7f\"> The Smashing Pumpkins </span>│<span style=\"color: #7f7f7f; text-decoration-color: #7f7f7f\"> 1979     </span>│<span style=\"color: #7f7f7f; text-decoration-color: #7f7f7f\"> alt      </span>│<span style=\"color: #7f7f7f; text-decoration-color: #7f7f7f\"> The song '1979' by The Smashing Pumpkins captures the essence of  </span>│\n",
       "│<span style=\"color: #7f7f7f; text-decoration-color: #7f7f7f\">                       </span>│<span style=\"color: #7f7f7f; text-decoration-color: #7f7f7f\">          </span>│<span style=\"color: #7f7f7f; text-decoration-color: #7f7f7f\">          </span>│<span style=\"color: #7f7f7f; text-decoration-color: #7f7f7f\"> youth and the transition from adolescence into adulthood. It      </span>│\n",
       "│<span style=\"color: #7f7f7f; text-decoration-color: #7f7f7f\">                       </span>│<span style=\"color: #7f7f7f; text-decoration-color: #7f7f7f\">          </span>│<span style=\"color: #7f7f7f; text-decoration-color: #7f7f7f\">          </span>│<span style=\"color: #7f7f7f; text-decoration-color: #7f7f7f\"> reflects on the nostalgia of teenage years, the feeling of        </span>│\n",
       "│<span style=\"color: #7f7f7f; text-decoration-color: #7f7f7f\">                       </span>│<span style=\"color: #7f7f7f; text-decoration-color: #7f7f7f\">          </span>│<span style=\"color: #7f7f7f; text-decoration-color: #7f7f7f\">          </span>│<span style=\"color: #7f7f7f; text-decoration-color: #7f7f7f\"> freedom, and the bittersweet nature of growing up. The lyrics and </span>│\n",
       "│<span style=\"color: #7f7f7f; text-decoration-color: #7f7f7f\">                       </span>│<span style=\"color: #7f7f7f; text-decoration-color: #7f7f7f\">          </span>│<span style=\"color: #7f7f7f; text-decoration-color: #7f7f7f\">          </span>│<span style=\"color: #7f7f7f; text-decoration-color: #7f7f7f\"> mood of the song evoke memories of carefree moments, rebellious   </span>│\n",
       "│<span style=\"color: #7f7f7f; text-decoration-color: #7f7f7f\">                       </span>│<span style=\"color: #7f7f7f; text-decoration-color: #7f7f7f\">          </span>│<span style=\"color: #7f7f7f; text-decoration-color: #7f7f7f\">          </span>│<span style=\"color: #7f7f7f; text-decoration-color: #7f7f7f\"> adventures, and the yearning to hold onto the fleeting innocence  </span>│\n",
       "│<span style=\"color: #7f7f7f; text-decoration-color: #7f7f7f\">                       </span>│<span style=\"color: #7f7f7f; text-decoration-color: #7f7f7f\">          </span>│<span style=\"color: #7f7f7f; text-decoration-color: #7f7f7f\">          </span>│<span style=\"color: #7f7f7f; text-decoration-color: #7f7f7f\"> of youth amidst the inevitable passage of time.                   </span>│\n",
       "├───────────────────────┼──────────┼──────────┼───────────────────────────────────────────────────────────────────┤\n",
       "│<span style=\"color: #7f7f7f; text-decoration-color: #7f7f7f\"> Phoenix               </span>│<span style=\"color: #7f7f7f; text-decoration-color: #7f7f7f\"> 1901     </span>│<span style=\"color: #7f7f7f; text-decoration-color: #7f7f7f\"> indie    </span>│<span style=\"color: #7f7f7f; text-decoration-color: #7f7f7f\"> The song '1901' by the French indie rock band Phoenix is often    </span>│\n",
       "│<span style=\"color: #7f7f7f; text-decoration-color: #7f7f7f\">                       </span>│<span style=\"color: #7f7f7f; text-decoration-color: #7f7f7f\">          </span>│<span style=\"color: #7f7f7f; text-decoration-color: #7f7f7f\">          </span>│<span style=\"color: #7f7f7f; text-decoration-color: #7f7f7f\"> interpreted as a nostalgic reflection on the past and the changes </span>│\n",
       "│<span style=\"color: #7f7f7f; text-decoration-color: #7f7f7f\">                       </span>│<span style=\"color: #7f7f7f; text-decoration-color: #7f7f7f\">          </span>│<span style=\"color: #7f7f7f; text-decoration-color: #7f7f7f\">          </span>│<span style=\"color: #7f7f7f; text-decoration-color: #7f7f7f\"> that come with time. It's about looking back at the turn of the   </span>│\n",
       "│<span style=\"color: #7f7f7f; text-decoration-color: #7f7f7f\">                       </span>│<span style=\"color: #7f7f7f; text-decoration-color: #7f7f7f\">          </span>│<span style=\"color: #7f7f7f; text-decoration-color: #7f7f7f\">          </span>│<span style=\"color: #7f7f7f; text-decoration-color: #7f7f7f\"> 20th century with a sense of wonder and melancholy, possibly      </span>│\n",
       "│<span style=\"color: #7f7f7f; text-decoration-color: #7f7f7f\">                       </span>│<span style=\"color: #7f7f7f; text-decoration-color: #7f7f7f\">          </span>│<span style=\"color: #7f7f7f; text-decoration-color: #7f7f7f\">          </span>│<span style=\"color: #7f7f7f; text-decoration-color: #7f7f7f\"> touching on themes of youth, progress, and the fleeting nature of </span>│\n",
       "│<span style=\"color: #7f7f7f; text-decoration-color: #7f7f7f\">                       </span>│<span style=\"color: #7f7f7f; text-decoration-color: #7f7f7f\">          </span>│<span style=\"color: #7f7f7f; text-decoration-color: #7f7f7f\">          </span>│<span style=\"color: #7f7f7f; text-decoration-color: #7f7f7f\"> life. The lyrics suggest a mix of personal and historical         </span>│\n",
       "│<span style=\"color: #7f7f7f; text-decoration-color: #7f7f7f\">                       </span>│<span style=\"color: #7f7f7f; text-decoration-color: #7f7f7f\">          </span>│<span style=\"color: #7f7f7f; text-decoration-color: #7f7f7f\">          </span>│<span style=\"color: #7f7f7f; text-decoration-color: #7f7f7f\"> perspectives, evoking images of a bygone era while also relating  </span>│\n",
       "│<span style=\"color: #7f7f7f; text-decoration-color: #7f7f7f\">                       </span>│<span style=\"color: #7f7f7f; text-decoration-color: #7f7f7f\">          </span>│<span style=\"color: #7f7f7f; text-decoration-color: #7f7f7f\">          </span>│<span style=\"color: #7f7f7f; text-decoration-color: #7f7f7f\"> to the universal human experience of growing older and yearning   </span>│\n",
       "│<span style=\"color: #7f7f7f; text-decoration-color: #7f7f7f\">                       </span>│<span style=\"color: #7f7f7f; text-decoration-color: #7f7f7f\">          </span>│<span style=\"color: #7f7f7f; text-decoration-color: #7f7f7f\">          </span>│<span style=\"color: #7f7f7f; text-decoration-color: #7f7f7f\"> for the simplicity of earlier times.                              </span>│\n",
       "└───────────────────────┴──────────┴──────────┴───────────────────────────────────────────────────────────────────┘\n",
       "</pre>\n"
      ],
      "text/plain": [
       "┏━━━━━━━━━━━━━━━━━━━━━━━┳━━━━━━━━━━┳━━━━━━━━━━┳━━━━━━━━━━━━━━━━━━━━━━━━━━━━━━━━━━━━━━━━━━━━━━━━━━━━━━━━━━━━━━━━━━━┓\n",
       "┃\u001b[1;35m \u001b[0m\u001b[1;35mscenario             \u001b[0m\u001b[1;35m \u001b[0m┃\u001b[1;35m \u001b[0m\u001b[1;35mscenario\u001b[0m\u001b[1;35m \u001b[0m┃\u001b[1;35m \u001b[0m\u001b[1;35mscenario\u001b[0m\u001b[1;35m \u001b[0m┃\u001b[1;35m \u001b[0m\u001b[1;35manswer                                                           \u001b[0m\u001b[1;35m \u001b[0m┃\n",
       "┃\u001b[1;35m \u001b[0m\u001b[1;35m.musician            \u001b[0m\u001b[1;35m \u001b[0m┃\u001b[1;35m \u001b[0m\u001b[1;35m.title  \u001b[0m\u001b[1;35m \u001b[0m┃\u001b[1;35m \u001b[0m\u001b[1;35m.genre  \u001b[0m\u001b[1;35m \u001b[0m┃\u001b[1;35m \u001b[0m\u001b[1;35m.song                                                            \u001b[0m\u001b[1;35m \u001b[0m┃\n",
       "┡━━━━━━━━━━━━━━━━━━━━━━━╇━━━━━━━━━━╇━━━━━━━━━━╇━━━━━━━━━━━━━━━━━━━━━━━━━━━━━━━━━━━━━━━━━━━━━━━━━━━━━━━━━━━━━━━━━━━┩\n",
       "│\u001b[2m \u001b[0m\u001b[2mPrince               \u001b[0m\u001b[2m \u001b[0m│\u001b[2m \u001b[0m\u001b[2m1999    \u001b[0m\u001b[2m \u001b[0m│\u001b[2m \u001b[0m\u001b[2mpop     \u001b[0m\u001b[2m \u001b[0m│\u001b[2m \u001b[0m\u001b[2mThe song '1999' by Prince is about the celebration and enjoyment \u001b[0m\u001b[2m \u001b[0m│\n",
       "│\u001b[2m                       \u001b[0m│\u001b[2m          \u001b[0m│\u001b[2m          \u001b[0m│\u001b[2m \u001b[0m\u001b[2mof life in the face of the looming threat of the year 2000, which\u001b[0m\u001b[2m \u001b[0m│\n",
       "│\u001b[2m                       \u001b[0m│\u001b[2m          \u001b[0m│\u001b[2m          \u001b[0m│\u001b[2m \u001b[0m\u001b[2mat the time was associated with the end of the world or a major  \u001b[0m\u001b[2m \u001b[0m│\n",
       "│\u001b[2m                       \u001b[0m│\u001b[2m          \u001b[0m│\u001b[2m          \u001b[0m│\u001b[2m \u001b[0m\u001b[2mcatastrophic event (Y2K). Prince encourages listeners to let go  \u001b[0m\u001b[2m \u001b[0m│\n",
       "│\u001b[2m                       \u001b[0m│\u001b[2m          \u001b[0m│\u001b[2m          \u001b[0m│\u001b[2m \u001b[0m\u001b[2mof their worries and to party like it's 1999, suggesting that if \u001b[0m\u001b[2m \u001b[0m│\n",
       "│\u001b[2m                       \u001b[0m│\u001b[2m          \u001b[0m│\u001b[2m          \u001b[0m│\u001b[2m \u001b[0m\u001b[2mthe world is going to end, they should live life to the fullest  \u001b[0m\u001b[2m \u001b[0m│\n",
       "│\u001b[2m                       \u001b[0m│\u001b[2m          \u001b[0m│\u001b[2m          \u001b[0m│\u001b[2m \u001b[0m\u001b[2mand have a good time without fear.                               \u001b[0m\u001b[2m \u001b[0m│\n",
       "├───────────────────────┼──────────┼──────────┼───────────────────────────────────────────────────────────────────┤\n",
       "│\u001b[2m \u001b[0m\u001b[2mThe Smashing Pumpkins\u001b[0m\u001b[2m \u001b[0m│\u001b[2m \u001b[0m\u001b[2m1979    \u001b[0m\u001b[2m \u001b[0m│\u001b[2m \u001b[0m\u001b[2malt     \u001b[0m\u001b[2m \u001b[0m│\u001b[2m \u001b[0m\u001b[2mThe song '1979' by The Smashing Pumpkins captures the essence of \u001b[0m\u001b[2m \u001b[0m│\n",
       "│\u001b[2m                       \u001b[0m│\u001b[2m          \u001b[0m│\u001b[2m          \u001b[0m│\u001b[2m \u001b[0m\u001b[2myouth and the transition from adolescence into adulthood. It     \u001b[0m\u001b[2m \u001b[0m│\n",
       "│\u001b[2m                       \u001b[0m│\u001b[2m          \u001b[0m│\u001b[2m          \u001b[0m│\u001b[2m \u001b[0m\u001b[2mreflects on the nostalgia of teenage years, the feeling of       \u001b[0m\u001b[2m \u001b[0m│\n",
       "│\u001b[2m                       \u001b[0m│\u001b[2m          \u001b[0m│\u001b[2m          \u001b[0m│\u001b[2m \u001b[0m\u001b[2mfreedom, and the bittersweet nature of growing up. The lyrics and\u001b[0m\u001b[2m \u001b[0m│\n",
       "│\u001b[2m                       \u001b[0m│\u001b[2m          \u001b[0m│\u001b[2m          \u001b[0m│\u001b[2m \u001b[0m\u001b[2mmood of the song evoke memories of carefree moments, rebellious  \u001b[0m\u001b[2m \u001b[0m│\n",
       "│\u001b[2m                       \u001b[0m│\u001b[2m          \u001b[0m│\u001b[2m          \u001b[0m│\u001b[2m \u001b[0m\u001b[2madventures, and the yearning to hold onto the fleeting innocence \u001b[0m\u001b[2m \u001b[0m│\n",
       "│\u001b[2m                       \u001b[0m│\u001b[2m          \u001b[0m│\u001b[2m          \u001b[0m│\u001b[2m \u001b[0m\u001b[2mof youth amidst the inevitable passage of time.                  \u001b[0m\u001b[2m \u001b[0m│\n",
       "├───────────────────────┼──────────┼──────────┼───────────────────────────────────────────────────────────────────┤\n",
       "│\u001b[2m \u001b[0m\u001b[2mPhoenix              \u001b[0m\u001b[2m \u001b[0m│\u001b[2m \u001b[0m\u001b[2m1901    \u001b[0m\u001b[2m \u001b[0m│\u001b[2m \u001b[0m\u001b[2mindie   \u001b[0m\u001b[2m \u001b[0m│\u001b[2m \u001b[0m\u001b[2mThe song '1901' by the French indie rock band Phoenix is often   \u001b[0m\u001b[2m \u001b[0m│\n",
       "│\u001b[2m                       \u001b[0m│\u001b[2m          \u001b[0m│\u001b[2m          \u001b[0m│\u001b[2m \u001b[0m\u001b[2minterpreted as a nostalgic reflection on the past and the changes\u001b[0m\u001b[2m \u001b[0m│\n",
       "│\u001b[2m                       \u001b[0m│\u001b[2m          \u001b[0m│\u001b[2m          \u001b[0m│\u001b[2m \u001b[0m\u001b[2mthat come with time. It's about looking back at the turn of the  \u001b[0m\u001b[2m \u001b[0m│\n",
       "│\u001b[2m                       \u001b[0m│\u001b[2m          \u001b[0m│\u001b[2m          \u001b[0m│\u001b[2m \u001b[0m\u001b[2m20th century with a sense of wonder and melancholy, possibly     \u001b[0m\u001b[2m \u001b[0m│\n",
       "│\u001b[2m                       \u001b[0m│\u001b[2m          \u001b[0m│\u001b[2m          \u001b[0m│\u001b[2m \u001b[0m\u001b[2mtouching on themes of youth, progress, and the fleeting nature of\u001b[0m\u001b[2m \u001b[0m│\n",
       "│\u001b[2m                       \u001b[0m│\u001b[2m          \u001b[0m│\u001b[2m          \u001b[0m│\u001b[2m \u001b[0m\u001b[2mlife. The lyrics suggest a mix of personal and historical        \u001b[0m\u001b[2m \u001b[0m│\n",
       "│\u001b[2m                       \u001b[0m│\u001b[2m          \u001b[0m│\u001b[2m          \u001b[0m│\u001b[2m \u001b[0m\u001b[2mperspectives, evoking images of a bygone era while also relating \u001b[0m\u001b[2m \u001b[0m│\n",
       "│\u001b[2m                       \u001b[0m│\u001b[2m          \u001b[0m│\u001b[2m          \u001b[0m│\u001b[2m \u001b[0m\u001b[2mto the universal human experience of growing older and yearning  \u001b[0m\u001b[2m \u001b[0m│\n",
       "│\u001b[2m                       \u001b[0m│\u001b[2m          \u001b[0m│\u001b[2m          \u001b[0m│\u001b[2m \u001b[0m\u001b[2mfor the simplicity of earlier times.                             \u001b[0m\u001b[2m \u001b[0m│\n",
       "└───────────────────────┴──────────┴──────────┴───────────────────────────────────────────────────────────────────┘\n"
      ]
     },
     "metadata": {},
     "output_type": "display_data"
    }
   ],
   "source": [
    "q = QuestionFreeText(\n",
    "    question_name = \"song\",\n",
    "    question_text = \"What is this song about: {{ title }}\" # optionally omitting other fields in the scenarios\n",
    ")\n",
    "\n",
    "results = q.by(metadata_scenarios).run()\n",
    "results.select(\"scenario.*\", \"song\").print(format=\"rich\") # all scenario fields will be present"
   ]
  },
  {
   "cell_type": "markdown",
   "id": "82434368-7cea-4f5b-b96a-233181630ebf",
   "metadata": {},
   "source": [
    "Note that it does not matter if we use a list of `Scenario` objects or a `ScenarioList` with the same data--the scenarios are added to the survey in the same way when it is run:"
   ]
  },
  {
   "cell_type": "code",
   "execution_count": 20,
   "id": "d839ec12-87e4-4f87-975d-d6c1bb461958",
   "metadata": {},
   "outputs": [
    {
     "data": {
      "text/html": [
       "<div class=\"highlight\"><pre><span></span><span class=\"p\">{</span>\n",
       "<span class=\"w\">    </span><span class=\"nt\">&quot;scenarios&quot;</span><span class=\"p\">:</span><span class=\"w\"> </span><span class=\"p\">[</span>\n",
       "<span class=\"w\">        </span><span class=\"p\">{</span>\n",
       "<span class=\"w\">            </span><span class=\"nt\">&quot;title&quot;</span><span class=\"p\">:</span><span class=\"w\"> </span><span class=\"s2\">&quot;1999&quot;</span><span class=\"p\">,</span>\n",
       "<span class=\"w\">            </span><span class=\"nt\">&quot;musician&quot;</span><span class=\"p\">:</span><span class=\"w\"> </span><span class=\"s2\">&quot;Prince&quot;</span><span class=\"p\">,</span>\n",
       "<span class=\"w\">            </span><span class=\"nt\">&quot;genre&quot;</span><span class=\"p\">:</span><span class=\"w\"> </span><span class=\"s2\">&quot;pop&quot;</span>\n",
       "<span class=\"w\">        </span><span class=\"p\">},</span>\n",
       "<span class=\"w\">        </span><span class=\"p\">{</span>\n",
       "<span class=\"w\">            </span><span class=\"nt\">&quot;title&quot;</span><span class=\"p\">:</span><span class=\"w\"> </span><span class=\"s2\">&quot;1979&quot;</span><span class=\"p\">,</span>\n",
       "<span class=\"w\">            </span><span class=\"nt\">&quot;musician&quot;</span><span class=\"p\">:</span><span class=\"w\"> </span><span class=\"s2\">&quot;The Smashing Pumpkins&quot;</span><span class=\"p\">,</span>\n",
       "<span class=\"w\">            </span><span class=\"nt\">&quot;genre&quot;</span><span class=\"p\">:</span><span class=\"w\"> </span><span class=\"s2\">&quot;alt&quot;</span>\n",
       "<span class=\"w\">        </span><span class=\"p\">},</span>\n",
       "<span class=\"w\">        </span><span class=\"p\">{</span>\n",
       "<span class=\"w\">            </span><span class=\"nt\">&quot;title&quot;</span><span class=\"p\">:</span><span class=\"w\"> </span><span class=\"s2\">&quot;1901&quot;</span><span class=\"p\">,</span>\n",
       "<span class=\"w\">            </span><span class=\"nt\">&quot;musician&quot;</span><span class=\"p\">:</span><span class=\"w\"> </span><span class=\"s2\">&quot;Phoenix&quot;</span><span class=\"p\">,</span>\n",
       "<span class=\"w\">            </span><span class=\"nt\">&quot;genre&quot;</span><span class=\"p\">:</span><span class=\"w\"> </span><span class=\"s2\">&quot;indie&quot;</span>\n",
       "<span class=\"w\">        </span><span class=\"p\">}</span>\n",
       "<span class=\"w\">    </span><span class=\"p\">]</span>\n",
       "<span class=\"p\">}</span>\n",
       "</pre></div>\n"
      ],
      "text/plain": [
       "ScenarioList([Scenario({'title': '1999', 'musician': 'Prince', 'genre': 'pop'}), Scenario({'title': '1979', 'musician': 'The Smashing Pumpkins', 'genre': 'alt'}), Scenario({'title': '1901', 'musician': 'Phoenix', 'genre': 'indie'})])"
      ]
     },
     "execution_count": 20,
     "metadata": {},
     "output_type": "execute_result"
    }
   ],
   "source": [
    "songs = [\n",
    "    [\"1999\", \"Prince\", \"pop\"],\n",
    "    [\"1979\", \"The Smashing Pumpkins\", \"alt\"],\n",
    "    [\"1901\", \"Phoenix\", \"indie\"]\n",
    "]\n",
    "metadata_scenarios = ScenarioList([Scenario({\"title\":t, \"musician\":m, \"genre\":g}) for [t,m,g] in songs])\n",
    "metadata_scenarios"
   ]
  },
  {
   "cell_type": "code",
   "execution_count": 21,
   "id": "e7d9d6d7-01d3-41c1-81ef-3b0672038db5",
   "metadata": {},
   "outputs": [
    {
     "data": {
      "text/html": [
       "<pre style=\"white-space:pre;overflow-x:auto;line-height:normal;font-family:Menlo,'DejaVu Sans Mono',consolas,'Courier New',monospace\">┏━━━━━━━━━━━━━━━━━━━━━━━┳━━━━━━━━━━┳━━━━━━━━━━┳━━━━━━━━━━━━━━━━━━━━━━━━━━━━━━━━━━━━━━━━━━━━━━━━━━━━━━━━━━━━━━━━━━━┓\n",
       "┃<span style=\"color: #800080; text-decoration-color: #800080; font-weight: bold\"> scenario              </span>┃<span style=\"color: #800080; text-decoration-color: #800080; font-weight: bold\"> scenario </span>┃<span style=\"color: #800080; text-decoration-color: #800080; font-weight: bold\"> scenario </span>┃<span style=\"color: #800080; text-decoration-color: #800080; font-weight: bold\"> answer                                                            </span>┃\n",
       "┃<span style=\"color: #800080; text-decoration-color: #800080; font-weight: bold\"> .musician             </span>┃<span style=\"color: #800080; text-decoration-color: #800080; font-weight: bold\"> .title   </span>┃<span style=\"color: #800080; text-decoration-color: #800080; font-weight: bold\"> .genre   </span>┃<span style=\"color: #800080; text-decoration-color: #800080; font-weight: bold\"> .song                                                             </span>┃\n",
       "┡━━━━━━━━━━━━━━━━━━━━━━━╇━━━━━━━━━━╇━━━━━━━━━━╇━━━━━━━━━━━━━━━━━━━━━━━━━━━━━━━━━━━━━━━━━━━━━━━━━━━━━━━━━━━━━━━━━━━┩\n",
       "│<span style=\"color: #7f7f7f; text-decoration-color: #7f7f7f\"> Prince                </span>│<span style=\"color: #7f7f7f; text-decoration-color: #7f7f7f\"> 1999     </span>│<span style=\"color: #7f7f7f; text-decoration-color: #7f7f7f\"> pop      </span>│<span style=\"color: #7f7f7f; text-decoration-color: #7f7f7f\"> The song '1999' by Prince is about the celebration and enjoyment  </span>│\n",
       "│<span style=\"color: #7f7f7f; text-decoration-color: #7f7f7f\">                       </span>│<span style=\"color: #7f7f7f; text-decoration-color: #7f7f7f\">          </span>│<span style=\"color: #7f7f7f; text-decoration-color: #7f7f7f\">          </span>│<span style=\"color: #7f7f7f; text-decoration-color: #7f7f7f\"> of life in the face of the looming threat of the year 2000, which </span>│\n",
       "│<span style=\"color: #7f7f7f; text-decoration-color: #7f7f7f\">                       </span>│<span style=\"color: #7f7f7f; text-decoration-color: #7f7f7f\">          </span>│<span style=\"color: #7f7f7f; text-decoration-color: #7f7f7f\">          </span>│<span style=\"color: #7f7f7f; text-decoration-color: #7f7f7f\"> at the time was associated with the end of the world or a major   </span>│\n",
       "│<span style=\"color: #7f7f7f; text-decoration-color: #7f7f7f\">                       </span>│<span style=\"color: #7f7f7f; text-decoration-color: #7f7f7f\">          </span>│<span style=\"color: #7f7f7f; text-decoration-color: #7f7f7f\">          </span>│<span style=\"color: #7f7f7f; text-decoration-color: #7f7f7f\"> catastrophic event (Y2K). Prince encourages listeners to let go   </span>│\n",
       "│<span style=\"color: #7f7f7f; text-decoration-color: #7f7f7f\">                       </span>│<span style=\"color: #7f7f7f; text-decoration-color: #7f7f7f\">          </span>│<span style=\"color: #7f7f7f; text-decoration-color: #7f7f7f\">          </span>│<span style=\"color: #7f7f7f; text-decoration-color: #7f7f7f\"> of their worries and to party like it's 1999, suggesting that if  </span>│\n",
       "│<span style=\"color: #7f7f7f; text-decoration-color: #7f7f7f\">                       </span>│<span style=\"color: #7f7f7f; text-decoration-color: #7f7f7f\">          </span>│<span style=\"color: #7f7f7f; text-decoration-color: #7f7f7f\">          </span>│<span style=\"color: #7f7f7f; text-decoration-color: #7f7f7f\"> the world is going to end, they should live life to the fullest   </span>│\n",
       "│<span style=\"color: #7f7f7f; text-decoration-color: #7f7f7f\">                       </span>│<span style=\"color: #7f7f7f; text-decoration-color: #7f7f7f\">          </span>│<span style=\"color: #7f7f7f; text-decoration-color: #7f7f7f\">          </span>│<span style=\"color: #7f7f7f; text-decoration-color: #7f7f7f\"> and have a good time without fear.                                </span>│\n",
       "├───────────────────────┼──────────┼──────────┼───────────────────────────────────────────────────────────────────┤\n",
       "│<span style=\"color: #7f7f7f; text-decoration-color: #7f7f7f\"> The Smashing Pumpkins </span>│<span style=\"color: #7f7f7f; text-decoration-color: #7f7f7f\"> 1979     </span>│<span style=\"color: #7f7f7f; text-decoration-color: #7f7f7f\"> alt      </span>│<span style=\"color: #7f7f7f; text-decoration-color: #7f7f7f\"> The song '1979' by The Smashing Pumpkins captures the essence of  </span>│\n",
       "│<span style=\"color: #7f7f7f; text-decoration-color: #7f7f7f\">                       </span>│<span style=\"color: #7f7f7f; text-decoration-color: #7f7f7f\">          </span>│<span style=\"color: #7f7f7f; text-decoration-color: #7f7f7f\">          </span>│<span style=\"color: #7f7f7f; text-decoration-color: #7f7f7f\"> youth and the transition from adolescence into adulthood. It      </span>│\n",
       "│<span style=\"color: #7f7f7f; text-decoration-color: #7f7f7f\">                       </span>│<span style=\"color: #7f7f7f; text-decoration-color: #7f7f7f\">          </span>│<span style=\"color: #7f7f7f; text-decoration-color: #7f7f7f\">          </span>│<span style=\"color: #7f7f7f; text-decoration-color: #7f7f7f\"> reflects on the nostalgia of teenage years, the feeling of        </span>│\n",
       "│<span style=\"color: #7f7f7f; text-decoration-color: #7f7f7f\">                       </span>│<span style=\"color: #7f7f7f; text-decoration-color: #7f7f7f\">          </span>│<span style=\"color: #7f7f7f; text-decoration-color: #7f7f7f\">          </span>│<span style=\"color: #7f7f7f; text-decoration-color: #7f7f7f\"> freedom, and the bittersweet nature of growing up. The lyrics and </span>│\n",
       "│<span style=\"color: #7f7f7f; text-decoration-color: #7f7f7f\">                       </span>│<span style=\"color: #7f7f7f; text-decoration-color: #7f7f7f\">          </span>│<span style=\"color: #7f7f7f; text-decoration-color: #7f7f7f\">          </span>│<span style=\"color: #7f7f7f; text-decoration-color: #7f7f7f\"> mood of the song evoke memories of carefree moments, rebellious   </span>│\n",
       "│<span style=\"color: #7f7f7f; text-decoration-color: #7f7f7f\">                       </span>│<span style=\"color: #7f7f7f; text-decoration-color: #7f7f7f\">          </span>│<span style=\"color: #7f7f7f; text-decoration-color: #7f7f7f\">          </span>│<span style=\"color: #7f7f7f; text-decoration-color: #7f7f7f\"> adventures, and the yearning to hold onto the fleeting innocence  </span>│\n",
       "│<span style=\"color: #7f7f7f; text-decoration-color: #7f7f7f\">                       </span>│<span style=\"color: #7f7f7f; text-decoration-color: #7f7f7f\">          </span>│<span style=\"color: #7f7f7f; text-decoration-color: #7f7f7f\">          </span>│<span style=\"color: #7f7f7f; text-decoration-color: #7f7f7f\"> of youth amidst the inevitable passage of time.                   </span>│\n",
       "├───────────────────────┼──────────┼──────────┼───────────────────────────────────────────────────────────────────┤\n",
       "│<span style=\"color: #7f7f7f; text-decoration-color: #7f7f7f\"> Phoenix               </span>│<span style=\"color: #7f7f7f; text-decoration-color: #7f7f7f\"> 1901     </span>│<span style=\"color: #7f7f7f; text-decoration-color: #7f7f7f\"> indie    </span>│<span style=\"color: #7f7f7f; text-decoration-color: #7f7f7f\"> The song '1901' by the French indie rock band Phoenix is often    </span>│\n",
       "│<span style=\"color: #7f7f7f; text-decoration-color: #7f7f7f\">                       </span>│<span style=\"color: #7f7f7f; text-decoration-color: #7f7f7f\">          </span>│<span style=\"color: #7f7f7f; text-decoration-color: #7f7f7f\">          </span>│<span style=\"color: #7f7f7f; text-decoration-color: #7f7f7f\"> interpreted as a nostalgic reflection on the past and the changes </span>│\n",
       "│<span style=\"color: #7f7f7f; text-decoration-color: #7f7f7f\">                       </span>│<span style=\"color: #7f7f7f; text-decoration-color: #7f7f7f\">          </span>│<span style=\"color: #7f7f7f; text-decoration-color: #7f7f7f\">          </span>│<span style=\"color: #7f7f7f; text-decoration-color: #7f7f7f\"> that come with time. It's about looking back at the turn of the   </span>│\n",
       "│<span style=\"color: #7f7f7f; text-decoration-color: #7f7f7f\">                       </span>│<span style=\"color: #7f7f7f; text-decoration-color: #7f7f7f\">          </span>│<span style=\"color: #7f7f7f; text-decoration-color: #7f7f7f\">          </span>│<span style=\"color: #7f7f7f; text-decoration-color: #7f7f7f\"> 20th century with a sense of wonder and melancholy, possibly      </span>│\n",
       "│<span style=\"color: #7f7f7f; text-decoration-color: #7f7f7f\">                       </span>│<span style=\"color: #7f7f7f; text-decoration-color: #7f7f7f\">          </span>│<span style=\"color: #7f7f7f; text-decoration-color: #7f7f7f\">          </span>│<span style=\"color: #7f7f7f; text-decoration-color: #7f7f7f\"> touching on themes of youth, progress, and the fleeting nature of </span>│\n",
       "│<span style=\"color: #7f7f7f; text-decoration-color: #7f7f7f\">                       </span>│<span style=\"color: #7f7f7f; text-decoration-color: #7f7f7f\">          </span>│<span style=\"color: #7f7f7f; text-decoration-color: #7f7f7f\">          </span>│<span style=\"color: #7f7f7f; text-decoration-color: #7f7f7f\"> life. The lyrics suggest a mix of personal and historical         </span>│\n",
       "│<span style=\"color: #7f7f7f; text-decoration-color: #7f7f7f\">                       </span>│<span style=\"color: #7f7f7f; text-decoration-color: #7f7f7f\">          </span>│<span style=\"color: #7f7f7f; text-decoration-color: #7f7f7f\">          </span>│<span style=\"color: #7f7f7f; text-decoration-color: #7f7f7f\"> perspectives, evoking images of a bygone era while also relating  </span>│\n",
       "│<span style=\"color: #7f7f7f; text-decoration-color: #7f7f7f\">                       </span>│<span style=\"color: #7f7f7f; text-decoration-color: #7f7f7f\">          </span>│<span style=\"color: #7f7f7f; text-decoration-color: #7f7f7f\">          </span>│<span style=\"color: #7f7f7f; text-decoration-color: #7f7f7f\"> to the universal human experience of growing older and yearning   </span>│\n",
       "│<span style=\"color: #7f7f7f; text-decoration-color: #7f7f7f\">                       </span>│<span style=\"color: #7f7f7f; text-decoration-color: #7f7f7f\">          </span>│<span style=\"color: #7f7f7f; text-decoration-color: #7f7f7f\">          </span>│<span style=\"color: #7f7f7f; text-decoration-color: #7f7f7f\"> for the simplicity of earlier times.                              </span>│\n",
       "└───────────────────────┴──────────┴──────────┴───────────────────────────────────────────────────────────────────┘\n",
       "</pre>\n"
      ],
      "text/plain": [
       "┏━━━━━━━━━━━━━━━━━━━━━━━┳━━━━━━━━━━┳━━━━━━━━━━┳━━━━━━━━━━━━━━━━━━━━━━━━━━━━━━━━━━━━━━━━━━━━━━━━━━━━━━━━━━━━━━━━━━━┓\n",
       "┃\u001b[1;35m \u001b[0m\u001b[1;35mscenario             \u001b[0m\u001b[1;35m \u001b[0m┃\u001b[1;35m \u001b[0m\u001b[1;35mscenario\u001b[0m\u001b[1;35m \u001b[0m┃\u001b[1;35m \u001b[0m\u001b[1;35mscenario\u001b[0m\u001b[1;35m \u001b[0m┃\u001b[1;35m \u001b[0m\u001b[1;35manswer                                                           \u001b[0m\u001b[1;35m \u001b[0m┃\n",
       "┃\u001b[1;35m \u001b[0m\u001b[1;35m.musician            \u001b[0m\u001b[1;35m \u001b[0m┃\u001b[1;35m \u001b[0m\u001b[1;35m.title  \u001b[0m\u001b[1;35m \u001b[0m┃\u001b[1;35m \u001b[0m\u001b[1;35m.genre  \u001b[0m\u001b[1;35m \u001b[0m┃\u001b[1;35m \u001b[0m\u001b[1;35m.song                                                            \u001b[0m\u001b[1;35m \u001b[0m┃\n",
       "┡━━━━━━━━━━━━━━━━━━━━━━━╇━━━━━━━━━━╇━━━━━━━━━━╇━━━━━━━━━━━━━━━━━━━━━━━━━━━━━━━━━━━━━━━━━━━━━━━━━━━━━━━━━━━━━━━━━━━┩\n",
       "│\u001b[2m \u001b[0m\u001b[2mPrince               \u001b[0m\u001b[2m \u001b[0m│\u001b[2m \u001b[0m\u001b[2m1999    \u001b[0m\u001b[2m \u001b[0m│\u001b[2m \u001b[0m\u001b[2mpop     \u001b[0m\u001b[2m \u001b[0m│\u001b[2m \u001b[0m\u001b[2mThe song '1999' by Prince is about the celebration and enjoyment \u001b[0m\u001b[2m \u001b[0m│\n",
       "│\u001b[2m                       \u001b[0m│\u001b[2m          \u001b[0m│\u001b[2m          \u001b[0m│\u001b[2m \u001b[0m\u001b[2mof life in the face of the looming threat of the year 2000, which\u001b[0m\u001b[2m \u001b[0m│\n",
       "│\u001b[2m                       \u001b[0m│\u001b[2m          \u001b[0m│\u001b[2m          \u001b[0m│\u001b[2m \u001b[0m\u001b[2mat the time was associated with the end of the world or a major  \u001b[0m\u001b[2m \u001b[0m│\n",
       "│\u001b[2m                       \u001b[0m│\u001b[2m          \u001b[0m│\u001b[2m          \u001b[0m│\u001b[2m \u001b[0m\u001b[2mcatastrophic event (Y2K). Prince encourages listeners to let go  \u001b[0m\u001b[2m \u001b[0m│\n",
       "│\u001b[2m                       \u001b[0m│\u001b[2m          \u001b[0m│\u001b[2m          \u001b[0m│\u001b[2m \u001b[0m\u001b[2mof their worries and to party like it's 1999, suggesting that if \u001b[0m\u001b[2m \u001b[0m│\n",
       "│\u001b[2m                       \u001b[0m│\u001b[2m          \u001b[0m│\u001b[2m          \u001b[0m│\u001b[2m \u001b[0m\u001b[2mthe world is going to end, they should live life to the fullest  \u001b[0m\u001b[2m \u001b[0m│\n",
       "│\u001b[2m                       \u001b[0m│\u001b[2m          \u001b[0m│\u001b[2m          \u001b[0m│\u001b[2m \u001b[0m\u001b[2mand have a good time without fear.                               \u001b[0m\u001b[2m \u001b[0m│\n",
       "├───────────────────────┼──────────┼──────────┼───────────────────────────────────────────────────────────────────┤\n",
       "│\u001b[2m \u001b[0m\u001b[2mThe Smashing Pumpkins\u001b[0m\u001b[2m \u001b[0m│\u001b[2m \u001b[0m\u001b[2m1979    \u001b[0m\u001b[2m \u001b[0m│\u001b[2m \u001b[0m\u001b[2malt     \u001b[0m\u001b[2m \u001b[0m│\u001b[2m \u001b[0m\u001b[2mThe song '1979' by The Smashing Pumpkins captures the essence of \u001b[0m\u001b[2m \u001b[0m│\n",
       "│\u001b[2m                       \u001b[0m│\u001b[2m          \u001b[0m│\u001b[2m          \u001b[0m│\u001b[2m \u001b[0m\u001b[2myouth and the transition from adolescence into adulthood. It     \u001b[0m\u001b[2m \u001b[0m│\n",
       "│\u001b[2m                       \u001b[0m│\u001b[2m          \u001b[0m│\u001b[2m          \u001b[0m│\u001b[2m \u001b[0m\u001b[2mreflects on the nostalgia of teenage years, the feeling of       \u001b[0m\u001b[2m \u001b[0m│\n",
       "│\u001b[2m                       \u001b[0m│\u001b[2m          \u001b[0m│\u001b[2m          \u001b[0m│\u001b[2m \u001b[0m\u001b[2mfreedom, and the bittersweet nature of growing up. The lyrics and\u001b[0m\u001b[2m \u001b[0m│\n",
       "│\u001b[2m                       \u001b[0m│\u001b[2m          \u001b[0m│\u001b[2m          \u001b[0m│\u001b[2m \u001b[0m\u001b[2mmood of the song evoke memories of carefree moments, rebellious  \u001b[0m\u001b[2m \u001b[0m│\n",
       "│\u001b[2m                       \u001b[0m│\u001b[2m          \u001b[0m│\u001b[2m          \u001b[0m│\u001b[2m \u001b[0m\u001b[2madventures, and the yearning to hold onto the fleeting innocence \u001b[0m\u001b[2m \u001b[0m│\n",
       "│\u001b[2m                       \u001b[0m│\u001b[2m          \u001b[0m│\u001b[2m          \u001b[0m│\u001b[2m \u001b[0m\u001b[2mof youth amidst the inevitable passage of time.                  \u001b[0m\u001b[2m \u001b[0m│\n",
       "├───────────────────────┼──────────┼──────────┼───────────────────────────────────────────────────────────────────┤\n",
       "│\u001b[2m \u001b[0m\u001b[2mPhoenix              \u001b[0m\u001b[2m \u001b[0m│\u001b[2m \u001b[0m\u001b[2m1901    \u001b[0m\u001b[2m \u001b[0m│\u001b[2m \u001b[0m\u001b[2mindie   \u001b[0m\u001b[2m \u001b[0m│\u001b[2m \u001b[0m\u001b[2mThe song '1901' by the French indie rock band Phoenix is often   \u001b[0m\u001b[2m \u001b[0m│\n",
       "│\u001b[2m                       \u001b[0m│\u001b[2m          \u001b[0m│\u001b[2m          \u001b[0m│\u001b[2m \u001b[0m\u001b[2minterpreted as a nostalgic reflection on the past and the changes\u001b[0m\u001b[2m \u001b[0m│\n",
       "│\u001b[2m                       \u001b[0m│\u001b[2m          \u001b[0m│\u001b[2m          \u001b[0m│\u001b[2m \u001b[0m\u001b[2mthat come with time. It's about looking back at the turn of the  \u001b[0m\u001b[2m \u001b[0m│\n",
       "│\u001b[2m                       \u001b[0m│\u001b[2m          \u001b[0m│\u001b[2m          \u001b[0m│\u001b[2m \u001b[0m\u001b[2m20th century with a sense of wonder and melancholy, possibly     \u001b[0m\u001b[2m \u001b[0m│\n",
       "│\u001b[2m                       \u001b[0m│\u001b[2m          \u001b[0m│\u001b[2m          \u001b[0m│\u001b[2m \u001b[0m\u001b[2mtouching on themes of youth, progress, and the fleeting nature of\u001b[0m\u001b[2m \u001b[0m│\n",
       "│\u001b[2m                       \u001b[0m│\u001b[2m          \u001b[0m│\u001b[2m          \u001b[0m│\u001b[2m \u001b[0m\u001b[2mlife. The lyrics suggest a mix of personal and historical        \u001b[0m\u001b[2m \u001b[0m│\n",
       "│\u001b[2m                       \u001b[0m│\u001b[2m          \u001b[0m│\u001b[2m          \u001b[0m│\u001b[2m \u001b[0m\u001b[2mperspectives, evoking images of a bygone era while also relating \u001b[0m\u001b[2m \u001b[0m│\n",
       "│\u001b[2m                       \u001b[0m│\u001b[2m          \u001b[0m│\u001b[2m          \u001b[0m│\u001b[2m \u001b[0m\u001b[2mto the universal human experience of growing older and yearning  \u001b[0m\u001b[2m \u001b[0m│\n",
       "│\u001b[2m                       \u001b[0m│\u001b[2m          \u001b[0m│\u001b[2m          \u001b[0m│\u001b[2m \u001b[0m\u001b[2mfor the simplicity of earlier times.                             \u001b[0m\u001b[2m \u001b[0m│\n",
       "└───────────────────────┴──────────┴──────────┴───────────────────────────────────────────────────────────────────┘\n"
      ]
     },
     "metadata": {},
     "output_type": "display_data"
    }
   ],
   "source": [
    "q = QuestionFreeText(\n",
    "    question_name = \"song\",\n",
    "    question_text = \"What is this song about: {{ title }}\" # optionally omitting other fields in the scenarios\n",
    ")\n",
    "\n",
    "results = q.by(metadata_scenarios).run()\n",
    "results.select(\"scenario.*\", \"song\").print(format=\"rich\") # all scenario fields will be present"
   ]
  },
  {
   "cell_type": "markdown",
   "id": "e7e9ed18-7378-475e-b16b-9cca8c8fd7a5",
   "metadata": {},
   "source": [
    "## Chunking text\n",
    "We can use the `chunk()` method to turn a `Scenario` into a `ScenarioList` with specified slice/chunk sizes based on `num_words` or `num_lines`. Note that the field `_chunk` is created automatically, and `_original` is added if optional parameter `include_original` is used:"
   ]
  },
  {
   "cell_type": "code",
   "execution_count": 22,
   "id": "78bd14a1-0450-4d9f-acdf-ddda1fe14cfb",
   "metadata": {},
   "outputs": [
    {
     "data": {
      "text/html": [
       "<div class=\"highlight\"><pre><span></span><span class=\"p\">{</span>\n",
       "<span class=\"w\">    </span><span class=\"nt\">&quot;scenarios&quot;</span><span class=\"p\">:</span><span class=\"w\"> </span><span class=\"p\">[</span>\n",
       "<span class=\"w\">        </span><span class=\"p\">{</span>\n",
       "<span class=\"w\">            </span><span class=\"nt\">&quot;my_text&quot;</span><span class=\"p\">:</span><span class=\"w\"> </span><span class=\"s2\">&quot;This is a long text.&quot;</span><span class=\"p\">,</span>\n",
       "<span class=\"w\">            </span><span class=\"nt\">&quot;my_text_chunk&quot;</span><span class=\"p\">:</span><span class=\"w\"> </span><span class=\"mi\">0</span><span class=\"p\">,</span>\n",
       "<span class=\"w\">            </span><span class=\"nt\">&quot;my_text_original&quot;</span><span class=\"p\">:</span><span class=\"w\"> </span><span class=\"s2\">&quot;4aec42eda32b7f32bde8be6a6bc11125&quot;</span>\n",
       "<span class=\"w\">        </span><span class=\"p\">},</span>\n",
       "<span class=\"w\">        </span><span class=\"p\">{</span>\n",
       "<span class=\"w\">            </span><span class=\"nt\">&quot;my_text&quot;</span><span class=\"p\">:</span><span class=\"w\"> </span><span class=\"s2\">&quot;Pages and pages, oh my!&quot;</span><span class=\"p\">,</span>\n",
       "<span class=\"w\">            </span><span class=\"nt\">&quot;my_text_chunk&quot;</span><span class=\"p\">:</span><span class=\"w\"> </span><span class=\"mi\">1</span><span class=\"p\">,</span>\n",
       "<span class=\"w\">            </span><span class=\"nt\">&quot;my_text_original&quot;</span><span class=\"p\">:</span><span class=\"w\"> </span><span class=\"s2\">&quot;4aec42eda32b7f32bde8be6a6bc11125&quot;</span>\n",
       "<span class=\"w\">        </span><span class=\"p\">},</span>\n",
       "<span class=\"w\">        </span><span class=\"p\">{</span>\n",
       "<span class=\"w\">            </span><span class=\"nt\">&quot;my_text&quot;</span><span class=\"p\">:</span><span class=\"w\"> </span><span class=\"s2\">&quot;I need to chunk it.&quot;</span><span class=\"p\">,</span>\n",
       "<span class=\"w\">            </span><span class=\"nt\">&quot;my_text_chunk&quot;</span><span class=\"p\">:</span><span class=\"w\"> </span><span class=\"mi\">2</span><span class=\"p\">,</span>\n",
       "<span class=\"w\">            </span><span class=\"nt\">&quot;my_text_original&quot;</span><span class=\"p\">:</span><span class=\"w\"> </span><span class=\"s2\">&quot;4aec42eda32b7f32bde8be6a6bc11125&quot;</span>\n",
       "<span class=\"w\">        </span><span class=\"p\">}</span>\n",
       "<span class=\"w\">    </span><span class=\"p\">]</span>\n",
       "<span class=\"p\">}</span>\n",
       "</pre></div>\n"
      ],
      "text/plain": [
       "ScenarioList([Scenario({'my_text': 'This is a long text.', 'my_text_chunk': 0, 'my_text_original': '4aec42eda32b7f32bde8be6a6bc11125'}), Scenario({'my_text': 'Pages and pages, oh my!', 'my_text_chunk': 1, 'my_text_original': '4aec42eda32b7f32bde8be6a6bc11125'}), Scenario({'my_text': 'I need to chunk it.', 'my_text_chunk': 2, 'my_text_original': '4aec42eda32b7f32bde8be6a6bc11125'})])"
      ]
     },
     "execution_count": 22,
     "metadata": {},
     "output_type": "execute_result"
    }
   ],
   "source": [
    "my_haiku = \"\"\"\n",
    "This is a long text. \n",
    "Pages and pages, oh my!\n",
    "I need to chunk it.\n",
    "\"\"\"\n",
    "\n",
    "text_scenario = Scenario({\"my_text\": my_haiku})\n",
    "\n",
    "word_chunks_scenariolist = text_scenario.chunk(\"my_text\", \n",
    "                                               num_words = 5, # use num_words or num_lines but not both\n",
    "                                               include_original = True, # optional \n",
    "                                               hash_original = True # optional\n",
    ")\n",
    "word_chunks_scenariolist"
   ]
  },
  {
   "cell_type": "code",
   "execution_count": 23,
   "id": "f56b9fa1-0ac0-4437-bc38-10d55e233a33",
   "metadata": {},
   "outputs": [
    {
     "data": {
      "text/html": [
       "<div class=\"highlight\"><pre><span></span><span class=\"p\">{</span>\n",
       "<span class=\"w\">    </span><span class=\"nt\">&quot;scenarios&quot;</span><span class=\"p\">:</span><span class=\"w\"> </span><span class=\"p\">[</span>\n",
       "<span class=\"w\">        </span><span class=\"p\">{</span>\n",
       "<span class=\"w\">            </span><span class=\"nt\">&quot;my_text&quot;</span><span class=\"p\">:</span><span class=\"w\"> </span><span class=\"s2\">&quot;&quot;</span><span class=\"p\">,</span>\n",
       "<span class=\"w\">            </span><span class=\"nt\">&quot;my_text_chunk&quot;</span><span class=\"p\">:</span><span class=\"w\"> </span><span class=\"mi\">0</span>\n",
       "<span class=\"w\">        </span><span class=\"p\">},</span>\n",
       "<span class=\"w\">        </span><span class=\"p\">{</span>\n",
       "<span class=\"w\">            </span><span class=\"nt\">&quot;my_text&quot;</span><span class=\"p\">:</span><span class=\"w\"> </span><span class=\"s2\">&quot;This is a long text. &quot;</span><span class=\"p\">,</span>\n",
       "<span class=\"w\">            </span><span class=\"nt\">&quot;my_text_chunk&quot;</span><span class=\"p\">:</span><span class=\"w\"> </span><span class=\"mi\">1</span>\n",
       "<span class=\"w\">        </span><span class=\"p\">},</span>\n",
       "<span class=\"w\">        </span><span class=\"p\">{</span>\n",
       "<span class=\"w\">            </span><span class=\"nt\">&quot;my_text&quot;</span><span class=\"p\">:</span><span class=\"w\"> </span><span class=\"s2\">&quot;Pages and pages, oh my!&quot;</span><span class=\"p\">,</span>\n",
       "<span class=\"w\">            </span><span class=\"nt\">&quot;my_text_chunk&quot;</span><span class=\"p\">:</span><span class=\"w\"> </span><span class=\"mi\">2</span>\n",
       "<span class=\"w\">        </span><span class=\"p\">},</span>\n",
       "<span class=\"w\">        </span><span class=\"p\">{</span>\n",
       "<span class=\"w\">            </span><span class=\"nt\">&quot;my_text&quot;</span><span class=\"p\">:</span><span class=\"w\"> </span><span class=\"s2\">&quot;I need to chunk it.&quot;</span><span class=\"p\">,</span>\n",
       "<span class=\"w\">            </span><span class=\"nt\">&quot;my_text_chunk&quot;</span><span class=\"p\">:</span><span class=\"w\"> </span><span class=\"mi\">3</span>\n",
       "<span class=\"w\">        </span><span class=\"p\">},</span>\n",
       "<span class=\"w\">        </span><span class=\"p\">{</span>\n",
       "<span class=\"w\">            </span><span class=\"nt\">&quot;my_text&quot;</span><span class=\"p\">:</span><span class=\"w\"> </span><span class=\"s2\">&quot;&quot;</span><span class=\"p\">,</span>\n",
       "<span class=\"w\">            </span><span class=\"nt\">&quot;my_text_chunk&quot;</span><span class=\"p\">:</span><span class=\"w\"> </span><span class=\"mi\">4</span>\n",
       "<span class=\"w\">        </span><span class=\"p\">}</span>\n",
       "<span class=\"w\">    </span><span class=\"p\">]</span>\n",
       "<span class=\"p\">}</span>\n",
       "</pre></div>\n"
      ],
      "text/plain": [
       "ScenarioList([Scenario({'my_text': '', 'my_text_chunk': 0}), Scenario({'my_text': 'This is a long text. ', 'my_text_chunk': 1}), Scenario({'my_text': 'Pages and pages, oh my!', 'my_text_chunk': 2}), Scenario({'my_text': 'I need to chunk it.', 'my_text_chunk': 3}), Scenario({'my_text': '', 'my_text_chunk': 4})])"
      ]
     },
     "execution_count": 23,
     "metadata": {},
     "output_type": "execute_result"
    }
   ],
   "source": [
    "line_chunks_scenariolist = text_scenario.chunk(\"my_text\", \n",
    "                                               num_lines = 1\n",
    ")\n",
    "line_chunks_scenariolist"
   ]
  },
  {
   "cell_type": "markdown",
   "id": "1f953529-4bb0-452b-b0a4-4d27c64dc93e",
   "metadata": {},
   "source": [
    "## Tallying scenario values\n",
    "We can call the `tally()` method on a `ScenarioList` to tally numeric values for a specified key. It returns a dictionary with keys representing the number of each `Scenario` in the `ScenarioList` and values representing the tally of the key that was specified:"
   ]
  },
  {
   "cell_type": "code",
   "execution_count": 24,
   "id": "f2bc2618-39de-4b5b-9c16-f26d02256d28",
   "metadata": {},
   "outputs": [
    {
     "data": {
      "text/plain": [
       "{1: 1, 2: 1}"
      ]
     },
     "execution_count": 24,
     "metadata": {},
     "output_type": "execute_result"
    }
   ],
   "source": [
    "numeric_scenariolist = ScenarioList([Scenario({\"a\": 1, \"b\": 1}), Scenario({\"a\": 1, \"b\": 2})])\n",
    "\n",
    "tallied_scenariolist = numeric_scenariolist.tally(\"b\")\n",
    "tallied_scenariolist"
   ]
  },
  {
   "cell_type": "markdown",
   "id": "fe781216-0f50-4e3d-9c57-b2a8a6458a5f",
   "metadata": {},
   "source": [
    "## Expanding scenarios\n",
    "We can call the `expand()` method on a `ScenarioList` to expand it by a specified field. For example, if the values of a scenario key are a list we can pass that key to the method to generate a `Scenario` for each item in the list:"
   ]
  },
  {
   "cell_type": "markdown",
   "id": "a4b196ce-158b-455a-8faf-50396a697938",
   "metadata": {},
   "source": [
    "## Mutating scenarios\n",
    "We can call the `mutate()` method on a `ScenarioList` to add a key/value to each `Scenario` based on a logical expression:"
   ]
  },
  {
   "cell_type": "code",
   "execution_count": 25,
   "id": "6fb91031-fa6e-46b1-a69e-0e47da65d310",
   "metadata": {},
   "outputs": [
    {
     "data": {
      "text/html": [
       "<div class=\"highlight\"><pre><span></span><span class=\"p\">{</span>\n",
       "<span class=\"w\">    </span><span class=\"nt\">&quot;scenarios&quot;</span><span class=\"p\">:</span><span class=\"w\"> </span><span class=\"p\">[</span>\n",
       "<span class=\"w\">        </span><span class=\"p\">{</span>\n",
       "<span class=\"w\">            </span><span class=\"nt\">&quot;a&quot;</span><span class=\"p\">:</span><span class=\"w\"> </span><span class=\"mi\">1</span><span class=\"p\">,</span>\n",
       "<span class=\"w\">            </span><span class=\"nt\">&quot;b&quot;</span><span class=\"p\">:</span><span class=\"w\"> </span><span class=\"mi\">1</span><span class=\"p\">,</span>\n",
       "<span class=\"w\">            </span><span class=\"nt\">&quot;c&quot;</span><span class=\"p\">:</span><span class=\"w\"> </span><span class=\"mi\">2</span>\n",
       "<span class=\"w\">        </span><span class=\"p\">},</span>\n",
       "<span class=\"w\">        </span><span class=\"p\">{</span>\n",
       "<span class=\"w\">            </span><span class=\"nt\">&quot;a&quot;</span><span class=\"p\">:</span><span class=\"w\"> </span><span class=\"mi\">1</span><span class=\"p\">,</span>\n",
       "<span class=\"w\">            </span><span class=\"nt\">&quot;b&quot;</span><span class=\"p\">:</span><span class=\"w\"> </span><span class=\"mi\">2</span><span class=\"p\">,</span>\n",
       "<span class=\"w\">            </span><span class=\"nt\">&quot;c&quot;</span><span class=\"p\">:</span><span class=\"w\"> </span><span class=\"mi\">3</span>\n",
       "<span class=\"w\">        </span><span class=\"p\">}</span>\n",
       "<span class=\"w\">    </span><span class=\"p\">]</span>\n",
       "<span class=\"p\">}</span>\n",
       "</pre></div>\n"
      ],
      "text/plain": [
       "ScenarioList([Scenario({'a': 1, 'b': 1, 'c': 2}), Scenario({'a': 1, 'b': 2, 'c': 3})])"
      ]
     },
     "execution_count": 25,
     "metadata": {},
     "output_type": "execute_result"
    }
   ],
   "source": [
    "scenariolist = ScenarioList([Scenario({\"a\": 1, \"b\": 1}), Scenario({\"a\": 1, \"b\": 2})])\n",
    "\n",
    "mutated_scenariolist = scenariolist.mutate(\"c = a + b\")\n",
    "mutated_scenariolist"
   ]
  },
  {
   "cell_type": "markdown",
   "id": "ca93523f-6f4d-4d64-810e-a348dd226a8f",
   "metadata": {},
   "source": [
    "## Ordering scenarios\n",
    "We can call the `order_by()` method on a `ScenarioList` to order the scenarios by a field:"
   ]
  },
  {
   "cell_type": "code",
   "execution_count": 26,
   "id": "6aca1f0d-548f-4998-bbcb-3a5258d64842",
   "metadata": {},
   "outputs": [
    {
     "data": {
      "text/html": [
       "<div class=\"highlight\"><pre><span></span><span class=\"p\">{</span>\n",
       "<span class=\"w\">    </span><span class=\"nt\">&quot;scenarios&quot;</span><span class=\"p\">:</span><span class=\"w\"> </span><span class=\"p\">[</span>\n",
       "<span class=\"w\">        </span><span class=\"p\">{</span>\n",
       "<span class=\"w\">            </span><span class=\"nt\">&quot;a&quot;</span><span class=\"p\">:</span><span class=\"w\"> </span><span class=\"mi\">1</span><span class=\"p\">,</span>\n",
       "<span class=\"w\">            </span><span class=\"nt\">&quot;b&quot;</span><span class=\"p\">:</span><span class=\"w\"> </span><span class=\"mi\">1</span>\n",
       "<span class=\"w\">        </span><span class=\"p\">},</span>\n",
       "<span class=\"w\">        </span><span class=\"p\">{</span>\n",
       "<span class=\"w\">            </span><span class=\"nt\">&quot;a&quot;</span><span class=\"p\">:</span><span class=\"w\"> </span><span class=\"mi\">1</span><span class=\"p\">,</span>\n",
       "<span class=\"w\">            </span><span class=\"nt\">&quot;b&quot;</span><span class=\"p\">:</span><span class=\"w\"> </span><span class=\"mi\">2</span>\n",
       "<span class=\"w\">        </span><span class=\"p\">}</span>\n",
       "<span class=\"w\">    </span><span class=\"p\">]</span>\n",
       "<span class=\"p\">}</span>\n",
       "</pre></div>\n"
      ],
      "text/plain": [
       "ScenarioList([Scenario({'a': 1, 'b': 1}), Scenario({'a': 1, 'b': 2})])"
      ]
     },
     "execution_count": 26,
     "metadata": {},
     "output_type": "execute_result"
    }
   ],
   "source": [
    "unordered_scenariolist = ScenarioList([Scenario({\"a\": 1, \"b\": 1}), Scenario({\"a\": 1, \"b\": 2})])\n",
    "\n",
    "ordered_scenariolist = unordered_scenariolist.order_by(\"b\")\n",
    "ordered_scenariolist"
   ]
  },
  {
   "cell_type": "markdown",
   "id": "69053d8a-5263-4062-abda-40fcd625f73c",
   "metadata": {},
   "source": [
    "## Filtering scenarios\n",
    "We can call the `filter()` method on a `ScenarioList` to filer scenarios based on a conditional expression."
   ]
  },
  {
   "cell_type": "code",
   "execution_count": 27,
   "id": "5bb374dd-9400-4376-b289-ba2707de7945",
   "metadata": {},
   "outputs": [
    {
     "data": {
      "text/html": [
       "<div class=\"highlight\"><pre><span></span><span class=\"p\">{</span>\n",
       "<span class=\"w\">    </span><span class=\"nt\">&quot;scenarios&quot;</span><span class=\"p\">:</span><span class=\"w\"> </span><span class=\"p\">[</span>\n",
       "<span class=\"w\">        </span><span class=\"p\">{</span>\n",
       "<span class=\"w\">            </span><span class=\"nt\">&quot;a&quot;</span><span class=\"p\">:</span><span class=\"w\"> </span><span class=\"mi\">1</span><span class=\"p\">,</span>\n",
       "<span class=\"w\">            </span><span class=\"nt\">&quot;b&quot;</span><span class=\"p\">:</span><span class=\"w\"> </span><span class=\"mi\">2</span>\n",
       "<span class=\"w\">        </span><span class=\"p\">}</span>\n",
       "<span class=\"w\">    </span><span class=\"p\">]</span>\n",
       "<span class=\"p\">}</span>\n",
       "</pre></div>\n"
      ],
      "text/plain": [
       "ScenarioList([Scenario({'a': 1, 'b': 2})])"
      ]
     },
     "execution_count": 27,
     "metadata": {},
     "output_type": "execute_result"
    }
   ],
   "source": [
    "unfiltered_scenariolist = ScenarioList([Scenario({\"a\": 1, \"b\": 1}), Scenario({\"a\": 1, \"b\": 2})])\n",
    "\n",
    "filtered_scenariolist = unfiltered_scenariolist.filter(\"b == 2\")\n",
    "filtered_scenariolist"
   ]
  },
  {
   "cell_type": "markdown",
   "id": "707c2795-6647-4946-876a-c7500e421b41",
   "metadata": {},
   "source": [
    "## Create scenarios from a list\n",
    "We can call the `from_list()` method to create a `ScenarioList` from a list of values and a specified key:"
   ]
  },
  {
   "cell_type": "code",
   "execution_count": 28,
   "id": "1141b937-f96d-4e67-a9a7-59005c90b39c",
   "metadata": {},
   "outputs": [
    {
     "data": {
      "text/html": [
       "<div class=\"highlight\"><pre><span></span><span class=\"p\">{</span>\n",
       "<span class=\"w\">    </span><span class=\"nt\">&quot;scenarios&quot;</span><span class=\"p\">:</span><span class=\"w\"> </span><span class=\"p\">[</span>\n",
       "<span class=\"w\">        </span><span class=\"p\">{</span>\n",
       "<span class=\"w\">            </span><span class=\"nt\">&quot;name&quot;</span><span class=\"p\">:</span><span class=\"w\"> </span><span class=\"s2\">&quot;Apostolos&quot;</span>\n",
       "<span class=\"w\">        </span><span class=\"p\">},</span>\n",
       "<span class=\"w\">        </span><span class=\"p\">{</span>\n",
       "<span class=\"w\">            </span><span class=\"nt\">&quot;name&quot;</span><span class=\"p\">:</span><span class=\"w\"> </span><span class=\"s2\">&quot;John&quot;</span>\n",
       "<span class=\"w\">        </span><span class=\"p\">},</span>\n",
       "<span class=\"w\">        </span><span class=\"p\">{</span>\n",
       "<span class=\"w\">            </span><span class=\"nt\">&quot;name&quot;</span><span class=\"p\">:</span><span class=\"w\"> </span><span class=\"s2\">&quot;Robin&quot;</span>\n",
       "<span class=\"w\">        </span><span class=\"p\">}</span>\n",
       "<span class=\"w\">    </span><span class=\"p\">]</span>\n",
       "<span class=\"p\">}</span>\n",
       "</pre></div>\n"
      ],
      "text/plain": [
       "ScenarioList([Scenario({'name': 'Apostolos'}), Scenario({'name': 'John'}), Scenario({'name': 'Robin'})])"
      ]
     },
     "execution_count": 28,
     "metadata": {},
     "output_type": "execute_result"
    }
   ],
   "source": [
    "my_list = [\"Apostolos\", \"John\", \"Robin\"]\n",
    "\n",
    "scenariolist = ScenarioList.from_list(\"name\", my_list)\n",
    "scenariolist"
   ]
  },
  {
   "cell_type": "markdown",
   "id": "845929f8-b63e-46af-a210-85fd431aebf1",
   "metadata": {},
   "source": [
    "## Adding a list of values to individual scenarios\n",
    "We can call the `add_list()` method to add values to individual scenarios in a `ScenarioList`:"
   ]
  },
  {
   "cell_type": "code",
   "execution_count": 29,
   "id": "2e0e5540-89f7-4cbc-b566-8282473c76a1",
   "metadata": {},
   "outputs": [
    {
     "data": {
      "text/html": [
       "<div class=\"highlight\"><pre><span></span><span class=\"p\">{</span>\n",
       "<span class=\"w\">    </span><span class=\"nt\">&quot;scenarios&quot;</span><span class=\"p\">:</span><span class=\"w\"> </span><span class=\"p\">[</span>\n",
       "<span class=\"w\">        </span><span class=\"p\">{</span>\n",
       "<span class=\"w\">            </span><span class=\"nt\">&quot;weather&quot;</span><span class=\"p\">:</span><span class=\"w\"> </span><span class=\"s2\">&quot;sunny&quot;</span><span class=\"p\">,</span>\n",
       "<span class=\"w\">            </span><span class=\"nt\">&quot;preference&quot;</span><span class=\"p\">:</span><span class=\"w\"> </span><span class=\"s2\">&quot;high&quot;</span>\n",
       "<span class=\"w\">        </span><span class=\"p\">},</span>\n",
       "<span class=\"w\">        </span><span class=\"p\">{</span>\n",
       "<span class=\"w\">            </span><span class=\"nt\">&quot;weather&quot;</span><span class=\"p\">:</span><span class=\"w\"> </span><span class=\"s2\">&quot;rainy&quot;</span><span class=\"p\">,</span>\n",
       "<span class=\"w\">            </span><span class=\"nt\">&quot;preference&quot;</span><span class=\"p\">:</span><span class=\"w\"> </span><span class=\"s2\">&quot;low&quot;</span>\n",
       "<span class=\"w\">        </span><span class=\"p\">}</span>\n",
       "<span class=\"w\">    </span><span class=\"p\">]</span>\n",
       "<span class=\"p\">}</span>\n",
       "</pre></div>\n"
      ],
      "text/plain": [
       "ScenarioList([Scenario({'weather': 'sunny', 'preference': 'high'}), Scenario({'weather': 'rainy', 'preference': 'low'})])"
      ]
     },
     "execution_count": 29,
     "metadata": {},
     "output_type": "execute_result"
    }
   ],
   "source": [
    "scenariolist = ScenarioList([Scenario({\"weather\": \"sunny\"}), Scenario({\"weather\": \"rainy\"})])\n",
    "\n",
    "added_scenariolist = scenariolist.add_list(\"preference\", [\"high\", \"low\"])\n",
    "added_scenariolist"
   ]
  },
  {
   "cell_type": "markdown",
   "id": "5af7f98c-85d7-43d5-9389-3960416b17f3",
   "metadata": {},
   "source": [
    "## Adding values to all scenarios\n",
    "We can call the `add_value()` to add a value to all scenarios in a `ScenarioList`:"
   ]
  },
  {
   "cell_type": "code",
   "execution_count": 30,
   "id": "7a1df078-04fd-4126-8f91-99235ae6a569",
   "metadata": {},
   "outputs": [
    {
     "data": {
      "text/html": [
       "<div class=\"highlight\"><pre><span></span><span class=\"p\">{</span>\n",
       "<span class=\"w\">    </span><span class=\"nt\">&quot;scenarios&quot;</span><span class=\"p\">:</span><span class=\"w\"> </span><span class=\"p\">[</span>\n",
       "<span class=\"w\">        </span><span class=\"p\">{</span>\n",
       "<span class=\"w\">            </span><span class=\"nt\">&quot;name&quot;</span><span class=\"p\">:</span><span class=\"w\"> </span><span class=\"s2\">&quot;Apostolos&quot;</span><span class=\"p\">,</span>\n",
       "<span class=\"w\">            </span><span class=\"nt\">&quot;company&quot;</span><span class=\"p\">:</span><span class=\"w\"> </span><span class=\"s2\">&quot;Expected Parrot&quot;</span>\n",
       "<span class=\"w\">        </span><span class=\"p\">},</span>\n",
       "<span class=\"w\">        </span><span class=\"p\">{</span>\n",
       "<span class=\"w\">            </span><span class=\"nt\">&quot;name&quot;</span><span class=\"p\">:</span><span class=\"w\"> </span><span class=\"s2\">&quot;John&quot;</span><span class=\"p\">,</span>\n",
       "<span class=\"w\">            </span><span class=\"nt\">&quot;company&quot;</span><span class=\"p\">:</span><span class=\"w\"> </span><span class=\"s2\">&quot;Expected Parrot&quot;</span>\n",
       "<span class=\"w\">        </span><span class=\"p\">},</span>\n",
       "<span class=\"w\">        </span><span class=\"p\">{</span>\n",
       "<span class=\"w\">            </span><span class=\"nt\">&quot;name&quot;</span><span class=\"p\">:</span><span class=\"w\"> </span><span class=\"s2\">&quot;Robin&quot;</span><span class=\"p\">,</span>\n",
       "<span class=\"w\">            </span><span class=\"nt\">&quot;company&quot;</span><span class=\"p\">:</span><span class=\"w\"> </span><span class=\"s2\">&quot;Expected Parrot&quot;</span>\n",
       "<span class=\"w\">        </span><span class=\"p\">}</span>\n",
       "<span class=\"w\">    </span><span class=\"p\">]</span>\n",
       "<span class=\"p\">}</span>\n",
       "</pre></div>\n"
      ],
      "text/plain": [
       "ScenarioList([Scenario({'name': 'Apostolos', 'company': 'Expected Parrot'}), Scenario({'name': 'John', 'company': 'Expected Parrot'}), Scenario({'name': 'Robin', 'company': 'Expected Parrot'})])"
      ]
     },
     "execution_count": 30,
     "metadata": {},
     "output_type": "execute_result"
    }
   ],
   "source": [
    "scenariolist = ScenarioList([Scenario({\"name\": \"Apostolos\"}), Scenario({\"name\": \"John\"}),  Scenario({\"name\": \"Robin\"})])\n",
    "\n",
    "added_scenariolist = scenariolist.add_value(\"company\", \"Expected Parrot\")\n",
    "added_scenariolist"
   ]
  },
  {
   "cell_type": "markdown",
   "id": "ce77a691-a00f-4412-8474-94c59cf4e089",
   "metadata": {},
   "source": [
    "## Creating scenarios from a pandas DataFrame\n",
    "We can call the `from_pandas()` method to create a `ScenarioList` from a pandas DataFrame:"
   ]
  },
  {
   "cell_type": "code",
   "execution_count": 31,
   "id": "12e23bba-fa5e-48cb-b672-74fbd6606f48",
   "metadata": {},
   "outputs": [
    {
     "data": {
      "text/html": [
       "<div class=\"highlight\"><pre><span></span><span class=\"p\">{</span>\n",
       "<span class=\"w\">    </span><span class=\"nt\">&quot;scenarios&quot;</span><span class=\"p\">:</span><span class=\"w\"> </span><span class=\"p\">[</span>\n",
       "<span class=\"w\">        </span><span class=\"p\">{</span>\n",
       "<span class=\"w\">            </span><span class=\"nt\">&quot;name&quot;</span><span class=\"p\">:</span><span class=\"w\"> </span><span class=\"s2\">&quot;Apostolos&quot;</span><span class=\"p\">,</span>\n",
       "<span class=\"w\">            </span><span class=\"nt\">&quot;location&quot;</span><span class=\"p\">:</span><span class=\"w\"> </span><span class=\"s2\">&quot;New York&quot;</span>\n",
       "<span class=\"w\">        </span><span class=\"p\">},</span>\n",
       "<span class=\"w\">        </span><span class=\"p\">{</span>\n",
       "<span class=\"w\">            </span><span class=\"nt\">&quot;name&quot;</span><span class=\"p\">:</span><span class=\"w\"> </span><span class=\"s2\">&quot;John&quot;</span><span class=\"p\">,</span>\n",
       "<span class=\"w\">            </span><span class=\"nt\">&quot;location&quot;</span><span class=\"p\">:</span><span class=\"w\"> </span><span class=\"s2\">&quot;Cambridge&quot;</span>\n",
       "<span class=\"w\">        </span><span class=\"p\">},</span>\n",
       "<span class=\"w\">        </span><span class=\"p\">{</span>\n",
       "<span class=\"w\">            </span><span class=\"nt\">&quot;name&quot;</span><span class=\"p\">:</span><span class=\"w\"> </span><span class=\"s2\">&quot;Robin&quot;</span><span class=\"p\">,</span>\n",
       "<span class=\"w\">            </span><span class=\"nt\">&quot;location&quot;</span><span class=\"p\">:</span><span class=\"w\"> </span><span class=\"s2\">&quot;Cambridge&quot;</span>\n",
       "<span class=\"w\">        </span><span class=\"p\">}</span>\n",
       "<span class=\"w\">    </span><span class=\"p\">]</span>\n",
       "<span class=\"p\">}</span>\n",
       "</pre></div>\n"
      ],
      "text/plain": [
       "ScenarioList([Scenario({'name': 'Apostolos', 'location': 'New York'}), Scenario({'name': 'John', 'location': 'Cambridge'}), Scenario({'name': 'Robin', 'location': 'Cambridge'})])"
      ]
     },
     "execution_count": 31,
     "metadata": {},
     "output_type": "execute_result"
    }
   ],
   "source": [
    "import pandas as pd\n",
    "\n",
    "df = pd.DataFrame({\"name\": [\"Apostolos\", \"John\", \"Robin\"], \"location\": [\"New York\", \"Cambridge\", \"Cambridge\"]})\n",
    "\n",
    "scenariolist = ScenarioList.from_pandas(df)\n",
    "scenariolist"
   ]
  },
  {
   "cell_type": "markdown",
   "id": "4f19da37-da37-4e1b-909a-6d0ee80854ab",
   "metadata": {},
   "source": [
    "## Creating scenarios from a CSV\n",
    "We can call the `from_csv()` method to create a `ScenarioList` from a CSV:"
   ]
  },
  {
   "cell_type": "code",
   "execution_count": 32,
   "id": "19a2a9a6-1987-454c-844f-85ee7fc0660f",
   "metadata": {},
   "outputs": [
    {
     "data": {
      "text/html": [
       "<div class=\"highlight\"><pre><span></span><span class=\"p\">{</span>\n",
       "<span class=\"w\">    </span><span class=\"nt\">&quot;scenarios&quot;</span><span class=\"p\">:</span><span class=\"w\"> </span><span class=\"p\">[</span>\n",
       "<span class=\"w\">        </span><span class=\"p\">{</span>\n",
       "<span class=\"w\">            </span><span class=\"nt\">&quot;name&quot;</span><span class=\"p\">:</span><span class=\"w\"> </span><span class=\"s2\">&quot;Apostolos&quot;</span><span class=\"p\">,</span>\n",
       "<span class=\"w\">            </span><span class=\"nt\">&quot;location&quot;</span><span class=\"p\">:</span><span class=\"w\"> </span><span class=\"s2\">&quot;New York&quot;</span>\n",
       "<span class=\"w\">        </span><span class=\"p\">},</span>\n",
       "<span class=\"w\">        </span><span class=\"p\">{</span>\n",
       "<span class=\"w\">            </span><span class=\"nt\">&quot;name&quot;</span><span class=\"p\">:</span><span class=\"w\"> </span><span class=\"s2\">&quot;John&quot;</span><span class=\"p\">,</span>\n",
       "<span class=\"w\">            </span><span class=\"nt\">&quot;location&quot;</span><span class=\"p\">:</span><span class=\"w\"> </span><span class=\"s2\">&quot;Cambridge&quot;</span>\n",
       "<span class=\"w\">        </span><span class=\"p\">},</span>\n",
       "<span class=\"w\">        </span><span class=\"p\">{</span>\n",
       "<span class=\"w\">            </span><span class=\"nt\">&quot;name&quot;</span><span class=\"p\">:</span><span class=\"w\"> </span><span class=\"s2\">&quot;Robin&quot;</span><span class=\"p\">,</span>\n",
       "<span class=\"w\">            </span><span class=\"nt\">&quot;location&quot;</span><span class=\"p\">:</span><span class=\"w\"> </span><span class=\"s2\">&quot;Cambridge&quot;</span>\n",
       "<span class=\"w\">        </span><span class=\"p\">}</span>\n",
       "<span class=\"w\">    </span><span class=\"p\">]</span>\n",
       "<span class=\"p\">}</span>\n",
       "</pre></div>\n"
      ],
      "text/plain": [
       "ScenarioList([Scenario({'name': 'Apostolos', 'location': 'New York'}), Scenario({'name': 'John', 'location': 'Cambridge'}), Scenario({'name': 'Robin', 'location': 'Cambridge'})])"
      ]
     },
     "execution_count": 32,
     "metadata": {},
     "output_type": "execute_result"
    }
   ],
   "source": [
    "scenariolist = ScenarioList.from_csv(\"example.csv\")\n",
    "scenariolist"
   ]
  },
  {
   "cell_type": "markdown",
   "id": "106f0508-5aaa-4091-84c0-88b07e95182d",
   "metadata": {},
   "source": [
    "## Turn a `ScenarioList` into a dictionary\n",
    "We can call the `to_dict()` method to turn a `ScenarioList` into a dictionary:"
   ]
  },
  {
   "cell_type": "code",
   "execution_count": 33,
   "id": "695b1b12-13ff-49e9-b067-6cf9c696312f",
   "metadata": {},
   "outputs": [
    {
     "data": {
      "text/plain": [
       "{'scenarios': [{'name': 'Apostolos',\n",
       "   'edsl_version': '0.1.25',\n",
       "   'edsl_class_name': 'Scenario'},\n",
       "  {'name': 'John', 'edsl_version': '0.1.25', 'edsl_class_name': 'Scenario'},\n",
       "  {'name': 'Robin', 'edsl_version': '0.1.25', 'edsl_class_name': 'Scenario'}],\n",
       " 'edsl_version': '0.1.25',\n",
       " 'edsl_class_name': 'ScenarioList'}"
      ]
     },
     "execution_count": 33,
     "metadata": {},
     "output_type": "execute_result"
    }
   ],
   "source": [
    "scenariolist = ScenarioList([Scenario({\"name\": \"Apostolos\"}), Scenario({\"name\": \"John\"}),  Scenario({\"name\": \"Robin\"})])\n",
    "\n",
    "dict_scenariolist = scenariolist.to_dict()\n",
    "dict_scenariolist"
   ]
  },
  {
   "cell_type": "markdown",
   "id": "14cf5e27-fca0-49ba-b33a-2314beae758c",
   "metadata": {},
   "source": [
    "## Create a `ScenarioList` from a dictionary\n",
    "We can call the `from_dict()` method to create a `ScenarioList` from a dictionary. Note that the dictionary must contain a key \"scenarios\":"
   ]
  },
  {
   "cell_type": "code",
   "execution_count": 34,
   "id": "0428ce07-0cc1-4972-9752-8f3e46c28d53",
   "metadata": {},
   "outputs": [
    {
     "data": {
      "text/html": [
       "<div class=\"highlight\"><pre><span></span><span class=\"p\">{</span>\n",
       "<span class=\"w\">    </span><span class=\"nt\">&quot;scenarios&quot;</span><span class=\"p\">:</span><span class=\"w\"> </span><span class=\"p\">[</span>\n",
       "<span class=\"w\">        </span><span class=\"p\">{</span>\n",
       "<span class=\"w\">            </span><span class=\"nt\">&quot;name&quot;</span><span class=\"p\">:</span><span class=\"w\"> </span><span class=\"s2\">&quot;Apostolos&quot;</span><span class=\"p\">,</span>\n",
       "<span class=\"w\">            </span><span class=\"nt\">&quot;location&quot;</span><span class=\"p\">:</span><span class=\"w\"> </span><span class=\"s2\">&quot;New York&quot;</span>\n",
       "<span class=\"w\">        </span><span class=\"p\">},</span>\n",
       "<span class=\"w\">        </span><span class=\"p\">{</span>\n",
       "<span class=\"w\">            </span><span class=\"nt\">&quot;name&quot;</span><span class=\"p\">:</span><span class=\"w\"> </span><span class=\"s2\">&quot;John&quot;</span><span class=\"p\">,</span>\n",
       "<span class=\"w\">            </span><span class=\"nt\">&quot;location&quot;</span><span class=\"p\">:</span><span class=\"w\"> </span><span class=\"s2\">&quot;Cambridge&quot;</span>\n",
       "<span class=\"w\">        </span><span class=\"p\">},</span>\n",
       "<span class=\"w\">        </span><span class=\"p\">{</span>\n",
       "<span class=\"w\">            </span><span class=\"nt\">&quot;name&quot;</span><span class=\"p\">:</span><span class=\"w\"> </span><span class=\"s2\">&quot;Robin&quot;</span><span class=\"p\">,</span>\n",
       "<span class=\"w\">            </span><span class=\"nt\">&quot;location&quot;</span><span class=\"p\">:</span><span class=\"w\"> </span><span class=\"s2\">&quot;Cambridge&quot;</span>\n",
       "<span class=\"w\">        </span><span class=\"p\">}</span>\n",
       "<span class=\"w\">    </span><span class=\"p\">]</span>\n",
       "<span class=\"p\">}</span>\n",
       "</pre></div>\n"
      ],
      "text/plain": [
       "ScenarioList([Scenario({'name': 'Apostolos', 'location': 'New York'}), Scenario({'name': 'John', 'location': 'Cambridge'}), Scenario({'name': 'Robin', 'location': 'Cambridge'})])"
      ]
     },
     "execution_count": 34,
     "metadata": {},
     "output_type": "execute_result"
    }
   ],
   "source": [
    "my_dict = {\n",
    "    \"scenarios\": [\n",
    "        {\n",
    "            \"name\": \"Apostolos\",\n",
    "            \"location\": \"New York\"\n",
    "        },\n",
    "        {\n",
    "            \"name\": \"John\",\n",
    "            \"location\": \"Cambridge\"\n",
    "        },\n",
    "        {\n",
    "            \"name\": \"Robin\",\n",
    "            \"location\": \"Cambridge\"\n",
    "        }\n",
    "    ]\n",
    "}\n",
    "\n",
    "scenariolist = ScenarioList.from_dict(my_dict)\n",
    "scenariolist"
   ]
  },
  {
   "cell_type": "markdown",
   "id": "b5293645-b3e2-4486-97f0-85c83bdd5a48",
   "metadata": {},
   "source": [
    "## Turning PDF pages into scenarios\n",
    "We can call the `from_pdf()` method to turn the pages of a PDF or doc into a `ScenarioList`. Here we use it for John's paper <i>\"Large Language Models as Simulated Economic Agents: What Can We Learn from Homo Silicus?\"</i> ([link to paper](https://arxiv.org/pdf/2301.07543)). Note that the keys `filename`, `page` and `text` are automatically specified, so the `question_text` placeholder that we use for the scenarios must be `{{ text }}`:"
   ]
  },
  {
   "cell_type": "code",
   "execution_count": 35,
   "id": "9109ed24-02c9-4c41-99e4-8c2954fb530f",
   "metadata": {},
   "outputs": [
    {
     "data": {
      "text/html": [
       "<div class=\"highlight\"><pre><span></span><span class=\"p\">{</span>\n",
       "<span class=\"w\">    </span><span class=\"nt\">&quot;scenarios&quot;</span><span class=\"p\">:</span><span class=\"w\"> </span><span class=\"p\">[</span>\n",
       "<span class=\"w\">        </span><span class=\"p\">{</span>\n",
       "<span class=\"w\">            </span><span class=\"nt\">&quot;filename&quot;</span><span class=\"p\">:</span><span class=\"w\"> </span><span class=\"s2\">&quot;homo_silicus.pdf&quot;</span><span class=\"p\">,</span>\n",
       "<span class=\"w\">            </span><span class=\"nt\">&quot;page&quot;</span><span class=\"p\">:</span><span class=\"w\"> </span><span class=\"mi\">1</span><span class=\"p\">,</span>\n",
       "<span class=\"w\">            </span><span class=\"nt\">&quot;text&quot;</span><span class=\"p\">:</span><span class=\"w\"> </span><span class=\"s2\">&quot;Large Language Models as Simulated Economic Agents:\\nWhat Can We Learn from Homo Silicus?\\u2217\\nJohn J. Horton\\nMIT &amp; NBER\\nJanuary 19, 2023\\nAbstract\\nNewly-developed large language models (LLM)\\u2014because of how they are trained and\\ndesigned\\u2014are implicit computational models of humans\\u2014a homo silicus. LLMs can be\\nused like economists use homo economicus: they can be given endowments, information,\\npreferences, and so on, and then their behavior can be explored in scenarios via simulation.\\nExperiments using this approach, derived from Charness and Rabin (2002), Kahneman,\\nKnetsch and Thaler (1986), and Samuelson and Zeckhauser (1988) show qualitatively\\nsimilar results to the original, but it is also easy to try variations for fresh insights. LLMs\\ncould allow researchers to pilot studies via simulation \\ufb01rst, searching for novel social sci-\\nence insights to test in the real world.\\n\\u2217Thanks to the MIT Center for Collective Intelligence for generous o\\ufb00er of funding, though all the ex-\\nperiments here cost only about $50 to run. Thanks to Daniel Rock, Elliot Lipnowski, Hong-Yi TuYe, Daron\\nAcemoglu, Shakked Noy, Jimbo Brand, David Autor, and Mohammed Alsobay for their helpful conversations\\nand comments. Special thanks to Yo Shavit, who has been extremely generous with his time and thinking.\\nThanks to GPT-3 for all this work and helping me describe the technology. Author contact information, code,\\nand data are currently or will be available at http://www.john-joseph-horton.com/.\\n1\\narXiv:2301.07543v1  [econ.GN]  18 Jan 2023\\n&quot;</span>\n",
       "<span class=\"w\">        </span><span class=\"p\">},</span>\n",
       "<span class=\"w\">        </span><span class=\"p\">{</span>\n",
       "<span class=\"w\">            </span><span class=\"nt\">&quot;filename&quot;</span><span class=\"p\">:</span><span class=\"w\"> </span><span class=\"s2\">&quot;homo_silicus.pdf&quot;</span><span class=\"p\">,</span>\n",
       "<span class=\"w\">            </span><span class=\"nt\">&quot;page&quot;</span><span class=\"p\">:</span><span class=\"w\"> </span><span class=\"mi\">2</span><span class=\"p\">,</span>\n",
       "<span class=\"w\">            </span><span class=\"nt\">&quot;text&quot;</span><span class=\"p\">:</span><span class=\"w\"> </span><span class=\"s2\">&quot;1\\nIntroduction\\nMost economic research takes one of two forms: (a) \\u201cWhat would homo economicus do?\\u201d and\\nb) \\u201cWhat did homo sapiens actually do?\\u201d The (a)-type research takes a maintained model\\nof humans, homo economicus, and subjects it to various economic scenarios, endowed with\\ndi\\ufb00erent resources, preferences, information, etc., and then deducing behavior; this behavior\\ncan then be compared to the behavior of actual humans in (b)-type research.\\nIn this paper, I argue that newly developed large language models (LLM)\\u2014because of\\nhow they are trained and designed\\u2014can be thought of as implicit computational models of\\nhumans\\u2014a homo silicus.\\nThese models can be used the same way economists use homo\\neconomicus: they can be given endowments, put in scenarios, and then their behavior can\\nbe explored\\u2014though in the case of homo silicus, through computational simulation, not a\\nmathematical deduction.1 This is possible because LLMs can now respond realistically to a\\nwide range of textual inputs, giving responses similar to what we might expect from a human.\\nIt is essential to note that this is a new possibility\\u2014that LLMs of slightly older vintage are\\nunsuited for these tasks, as I will show.\\nI consider the reasons the reasons why AI experiments might be helpful in understand-\\ning actual humans. The core of the argument is that LLMs\\u2014by nature of their training\\nand design\\u2014are (1) computational models of humans and (2) likely possess a great deal of\\nlatent social information. For (1), the creators of LLMs have designed them to respond in\\nways similar to how a human would react to prompts\\u2014including prompts that are economic\\nscenarios. The design imperative to be \\u201crealistic\\u201d\\u2019 is why they can be thought of as com-\\nputational models of humans. For (2), these models likely capture latent social information\\nsuch as economic laws, decision-making heuristics, and common social preferences because\\nthe LLMs are trained on a corpus that contains a great deal of written text where people\\nreason about and discuss economic matters: What to buy, how to bargain, how to shop, how\\nto negotiate a job o\\ufb00er, how to make a job o\\ufb00er, how many hours to work, what to do when\\nprices increase, and so on.\\nLike all models, any particular homo silicus is wrong, but that judgment is separate from\\na decision about usefulness. To be clear, each homo silicus is a \\ufb02awed model and can often\\ngive responses far away from what is rational or even sensical. But ultimately, what will\\nmatter in practice is whether these AI experiments are practically valuable for generating\\ninsights. As such, the majority of the paper focuses on GPT-3 experiments.\\nEach experiment is motivated by a classic experiment in the behavioral economics lit-\\nerature.\\nI use Charness and Rabin (2002), Kahneman et al. (1986), and Samuelson and\\n1Lucas (1980) writes, \\u201cOne of the functions of theoretical economics is to provide fully articulated, arti\\ufb01cial\\neconomic systems that can serve as laboratories in which policies that would be prohibitively expensive to\\nexperiment with in actual economies can be tested out at much lower cost.\\u201d\\n2\\n&quot;</span>\n",
       "<span class=\"w\">        </span><span class=\"p\">}</span>\n",
       "<span class=\"w\">    </span><span class=\"p\">]</span>\n",
       "<span class=\"p\">}</span>\n",
       "</pre></div>\n"
      ],
      "text/plain": [
       "ScenarioList([Scenario({'filename': 'homo_silicus.pdf', 'page': 1, 'text': 'Large Language Models as Simulated Economic Agents:\\nWhat Can We Learn from Homo Silicus?∗\\nJohn J. Horton\\nMIT & NBER\\nJanuary 19, 2023\\nAbstract\\nNewly-developed large language models (LLM)—because of how they are trained and\\ndesigned—are implicit computational models of humans—a homo silicus. LLMs can be\\nused like economists use homo economicus: they can be given endowments, information,\\npreferences, and so on, and then their behavior can be explored in scenarios via simulation.\\nExperiments using this approach, derived from Charness and Rabin (2002), Kahneman,\\nKnetsch and Thaler (1986), and Samuelson and Zeckhauser (1988) show qualitatively\\nsimilar results to the original, but it is also easy to try variations for fresh insights. LLMs\\ncould allow researchers to pilot studies via simulation ﬁrst, searching for novel social sci-\\nence insights to test in the real world.\\n∗Thanks to the MIT Center for Collective Intelligence for generous oﬀer of funding, though all the ex-\\nperiments here cost only about $50 to run. Thanks to Daniel Rock, Elliot Lipnowski, Hong-Yi TuYe, Daron\\nAcemoglu, Shakked Noy, Jimbo Brand, David Autor, and Mohammed Alsobay for their helpful conversations\\nand comments. Special thanks to Yo Shavit, who has been extremely generous with his time and thinking.\\nThanks to GPT-3 for all this work and helping me describe the technology. Author contact information, code,\\nand data are currently or will be available at http://www.john-joseph-horton.com/.\\n1\\narXiv:2301.07543v1  [econ.GN]  18 Jan 2023\\n'}), Scenario({'filename': 'homo_silicus.pdf', 'page': 2, 'text': '1\\nIntroduction\\nMost economic research takes one of two forms: (a) “What would homo economicus do?” and\\nb) “What did homo sapiens actually do?” The (a)-type research takes a maintained model\\nof humans, homo economicus, and subjects it to various economic scenarios, endowed with\\ndiﬀerent resources, preferences, information, etc., and then deducing behavior; this behavior\\ncan then be compared to the behavior of actual humans in (b)-type research.\\nIn this paper, I argue that newly developed large language models (LLM)—because of\\nhow they are trained and designed—can be thought of as implicit computational models of\\nhumans—a homo silicus.\\nThese models can be used the same way economists use homo\\neconomicus: they can be given endowments, put in scenarios, and then their behavior can\\nbe explored—though in the case of homo silicus, through computational simulation, not a\\nmathematical deduction.1 This is possible because LLMs can now respond realistically to a\\nwide range of textual inputs, giving responses similar to what we might expect from a human.\\nIt is essential to note that this is a new possibility—that LLMs of slightly older vintage are\\nunsuited for these tasks, as I will show.\\nI consider the reasons the reasons why AI experiments might be helpful in understand-\\ning actual humans. The core of the argument is that LLMs—by nature of their training\\nand design—are (1) computational models of humans and (2) likely possess a great deal of\\nlatent social information. For (1), the creators of LLMs have designed them to respond in\\nways similar to how a human would react to prompts—including prompts that are economic\\nscenarios. The design imperative to be “realistic”’ is why they can be thought of as com-\\nputational models of humans. For (2), these models likely capture latent social information\\nsuch as economic laws, decision-making heuristics, and common social preferences because\\nthe LLMs are trained on a corpus that contains a great deal of written text where people\\nreason about and discuss economic matters: What to buy, how to bargain, how to shop, how\\nto negotiate a job oﬀer, how to make a job oﬀer, how many hours to work, what to do when\\nprices increase, and so on.\\nLike all models, any particular homo silicus is wrong, but that judgment is separate from\\na decision about usefulness. To be clear, each homo silicus is a ﬂawed model and can often\\ngive responses far away from what is rational or even sensical. But ultimately, what will\\nmatter in practice is whether these AI experiments are practically valuable for generating\\ninsights. As such, the majority of the paper focuses on GPT-3 experiments.\\nEach experiment is motivated by a classic experiment in the behavioral economics lit-\\nerature.\\nI use Charness and Rabin (2002), Kahneman et al. (1986), and Samuelson and\\n1Lucas (1980) writes, “One of the functions of theoretical economics is to provide fully articulated, artiﬁcial\\neconomic systems that can serve as laboratories in which policies that would be prohibitively expensive to\\nexperiment with in actual economies can be tested out at much lower cost.”\\n2\\n'})])"
      ]
     },
     "execution_count": 35,
     "metadata": {},
     "output_type": "execute_result"
    }
   ],
   "source": [
    "pdf_pages_scenariolist = ScenarioList.from_pdf(\"homo_silicus.pdf\")\n",
    "pdf_pages_scenariolist[0:2] # inspecting the first couple pages as scenarios"
   ]
  },
  {
   "cell_type": "markdown",
   "id": "5c52cfdc-1e03-440f-ba75-c136941f8a80",
   "metadata": {},
   "source": [
    "Example usage:"
   ]
  },
  {
   "cell_type": "markdown",
   "id": "eeecd0de-5337-49a1-8beb-1a1f436c9272",
   "metadata": {},
   "source": [
    "## Turning PDF pages into scenarios\n",
    "We can call the `from_pdf()` method to turn the pages of a PDF or doc into a `ScenarioList`. Here we use it for John's paper <i>\"Large Language Models as Simulated Economic Agents: What Can We Learn from Homo Silicus?\"</i> ([link to paper](https://arxiv.org/pdf/2301.07543)). Note that the keys `filename`, `page` and `text` are automatically specified, so the `question_text` placeholder that we use for the scenarios must be `{{ text }}`:"
   ]
  },
  {
   "cell_type": "code",
   "execution_count": 36,
   "id": "8d4a4b04-9129-4303-ad8d-7b8b6e068ea3",
   "metadata": {},
   "outputs": [],
   "source": [
    "homo_silicus_scenariolist = ScenarioList.from_pdf(\"homo_silicus.pdf\")"
   ]
  },
  {
   "cell_type": "markdown",
   "id": "8ee994b3-b3fa-42cf-9351-9d80bddce4f7",
   "metadata": {},
   "source": [
    "Here we inspect a couple pages:"
   ]
  },
  {
   "cell_type": "code",
   "execution_count": 37,
   "id": "bef4f468-13bc-4708-bd6b-74f098c8a1bc",
   "metadata": {},
   "outputs": [
    {
     "data": {
      "text/plain": [
       "[{'filename': 'homo_silicus.pdf',\n",
       "  'page': 1,\n",
       "  'text': 'Large Language Models as Simulated Economic Agents:\\nWhat Can We Learn from Homo Silicus?∗\\nJohn J. Horton\\nMIT & NBER\\nJanuary 19, 2023\\nAbstract\\nNewly-developed large language models (LLM)—because of how they are trained and\\ndesigned—are implicit computational models of humans—a homo silicus. LLMs can be\\nused like economists use homo economicus: they can be given endowments, information,\\npreferences, and so on, and then their behavior can be explored in scenarios via simulation.\\nExperiments using this approach, derived from Charness and Rabin (2002), Kahneman,\\nKnetsch and Thaler (1986), and Samuelson and Zeckhauser (1988) show qualitatively\\nsimilar results to the original, but it is also easy to try variations for fresh insights. LLMs\\ncould allow researchers to pilot studies via simulation ﬁrst, searching for novel social sci-\\nence insights to test in the real world.\\n∗Thanks to the MIT Center for Collective Intelligence for generous oﬀer of funding, though all the ex-\\nperiments here cost only about $50 to run. Thanks to Daniel Rock, Elliot Lipnowski, Hong-Yi TuYe, Daron\\nAcemoglu, Shakked Noy, Jimbo Brand, David Autor, and Mohammed Alsobay for their helpful conversations\\nand comments. Special thanks to Yo Shavit, who has been extremely generous with his time and thinking.\\nThanks to GPT-3 for all this work and helping me describe the technology. Author contact information, code,\\nand data are currently or will be available at http://www.john-joseph-horton.com/.\\n1\\narXiv:2301.07543v1  [econ.GN]  18 Jan 2023\\n',\n",
       "  'edsl_version': '0.1.25',\n",
       "  'edsl_class_name': 'Scenario'},\n",
       " {'filename': 'homo_silicus.pdf',\n",
       "  'page': 2,\n",
       "  'text': '1\\nIntroduction\\nMost economic research takes one of two forms: (a) “What would homo economicus do?” and\\nb) “What did homo sapiens actually do?” The (a)-type research takes a maintained model\\nof humans, homo economicus, and subjects it to various economic scenarios, endowed with\\ndiﬀerent resources, preferences, information, etc., and then deducing behavior; this behavior\\ncan then be compared to the behavior of actual humans in (b)-type research.\\nIn this paper, I argue that newly developed large language models (LLM)—because of\\nhow they are trained and designed—can be thought of as implicit computational models of\\nhumans—a homo silicus.\\nThese models can be used the same way economists use homo\\neconomicus: they can be given endowments, put in scenarios, and then their behavior can\\nbe explored—though in the case of homo silicus, through computational simulation, not a\\nmathematical deduction.1 This is possible because LLMs can now respond realistically to a\\nwide range of textual inputs, giving responses similar to what we might expect from a human.\\nIt is essential to note that this is a new possibility—that LLMs of slightly older vintage are\\nunsuited for these tasks, as I will show.\\nI consider the reasons the reasons why AI experiments might be helpful in understand-\\ning actual humans. The core of the argument is that LLMs—by nature of their training\\nand design—are (1) computational models of humans and (2) likely possess a great deal of\\nlatent social information. For (1), the creators of LLMs have designed them to respond in\\nways similar to how a human would react to prompts—including prompts that are economic\\nscenarios. The design imperative to be “realistic”’ is why they can be thought of as com-\\nputational models of humans. For (2), these models likely capture latent social information\\nsuch as economic laws, decision-making heuristics, and common social preferences because\\nthe LLMs are trained on a corpus that contains a great deal of written text where people\\nreason about and discuss economic matters: What to buy, how to bargain, how to shop, how\\nto negotiate a job oﬀer, how to make a job oﬀer, how many hours to work, what to do when\\nprices increase, and so on.\\nLike all models, any particular homo silicus is wrong, but that judgment is separate from\\na decision about usefulness. To be clear, each homo silicus is a ﬂawed model and can often\\ngive responses far away from what is rational or even sensical. But ultimately, what will\\nmatter in practice is whether these AI experiments are practically valuable for generating\\ninsights. As such, the majority of the paper focuses on GPT-3 experiments.\\nEach experiment is motivated by a classic experiment in the behavioral economics lit-\\nerature.\\nI use Charness and Rabin (2002), Kahneman et al. (1986), and Samuelson and\\n1Lucas (1980) writes, “One of the functions of theoretical economics is to provide fully articulated, artiﬁcial\\neconomic systems that can serve as laboratories in which policies that would be prohibitively expensive to\\nexperiment with in actual economies can be tested out at much lower cost.”\\n2\\n',\n",
       "  'edsl_version': '0.1.25',\n",
       "  'edsl_class_name': 'Scenario'}]"
      ]
     },
     "execution_count": 37,
     "metadata": {},
     "output_type": "execute_result"
    }
   ],
   "source": [
    "homo_silicus_scenariolist[\"scenarios\"][0:2]"
   ]
  },
  {
   "cell_type": "markdown",
   "id": "013b14d0-f9ca-46b1-a8ad-d4efbacfe0d4",
   "metadata": {},
   "source": [
    "Example usage--note that we can [sort results](https://docs.expectedparrot.com/en/latest/results.html#sorting-results) by any component, [filter results](https://docs.expectedparrot.com/en/latest/notebooks/docs_questions.html#Filtering-results) using conditional expressions, and also [limit how many results to display](https://docs.expectedparrot.com/en/latest/results.html#limiting-results):"
   ]
  },
  {
   "cell_type": "code",
   "execution_count": 38,
   "id": "8bc68380-83f0-4484-a8ba-9e138a49057c",
   "metadata": {},
   "outputs": [],
   "source": [
    "q = QuestionFreeText(\n",
    "    question_name = \"summarize\",\n",
    "    question_text = \"Summarize this page: {{ text }}\" \n",
    ")\n",
    "results = q.by(homo_silicus_scenariolist).run()"
   ]
  },
  {
   "cell_type": "code",
   "execution_count": 39,
   "id": "069a33d8-2b6e-4ce9-974b-f39789b8b4ae",
   "metadata": {},
   "outputs": [
    {
     "data": {
      "text/html": [
       "<pre style=\"white-space:pre;overflow-x:auto;line-height:normal;font-family:Menlo,'DejaVu Sans Mono',consolas,'Courier New',monospace\">┏━━━━━━━━━━┳━━━━━━━━━━━━━━━━━━━━━━━━━━━━━━━━━━━━━━━━━━━━━━━━━━━━━━━━━━━━━━━━━━━━━━━━━━━━━━━━━━━━━━━━━━━━━━━━━━━━━━┓\n",
       "┃<span style=\"color: #800080; text-decoration-color: #800080; font-weight: bold\"> scenario </span>┃<span style=\"color: #800080; text-decoration-color: #800080; font-weight: bold\"> answer                                                                                               </span>┃\n",
       "┃<span style=\"color: #800080; text-decoration-color: #800080; font-weight: bold\"> .page    </span>┃<span style=\"color: #800080; text-decoration-color: #800080; font-weight: bold\"> .summarize                                                                                           </span>┃\n",
       "┡━━━━━━━━━━╇━━━━━━━━━━━━━━━━━━━━━━━━━━━━━━━━━━━━━━━━━━━━━━━━━━━━━━━━━━━━━━━━━━━━━━━━━━━━━━━━━━━━━━━━━━━━━━━━━━━━━━┩\n",
       "│<span style=\"color: #7f7f7f; text-decoration-color: #7f7f7f\"> 2        </span>│<span style=\"color: #7f7f7f; text-decoration-color: #7f7f7f\"> The page introduces the concept of 'homo silicus,' a term for large language models (LLMs) that can  </span>│\n",
       "│<span style=\"color: #7f7f7f; text-decoration-color: #7f7f7f\">          </span>│<span style=\"color: #7f7f7f; text-decoration-color: #7f7f7f\"> be used as computational models of human behavior in economic research. The author suggests that     </span>│\n",
       "│<span style=\"color: #7f7f7f; text-decoration-color: #7f7f7f\">          </span>│<span style=\"color: #7f7f7f; text-decoration-color: #7f7f7f\"> these models can simulate human responses to various scenarios, much like the theoretical 'homo      </span>│\n",
       "│<span style=\"color: #7f7f7f; text-decoration-color: #7f7f7f\">          </span>│<span style=\"color: #7f7f7f; text-decoration-color: #7f7f7f\"> economicus,' but with the advantage of computational simulation. The paper argues that LLMs are      </span>│\n",
       "│<span style=\"color: #7f7f7f; text-decoration-color: #7f7f7f\">          </span>│<span style=\"color: #7f7f7f; text-decoration-color: #7f7f7f\"> designed to mimic human reactions and contain latent social information from the vast corpus they    </span>│\n",
       "│<span style=\"color: #7f7f7f; text-decoration-color: #7f7f7f\">          </span>│<span style=\"color: #7f7f7f; text-decoration-color: #7f7f7f\"> are trained on, which includes economic reasoning and decision-making. Despite their imperfections,  </span>│\n",
       "│<span style=\"color: #7f7f7f; text-decoration-color: #7f7f7f\">          </span>│<span style=\"color: #7f7f7f; text-decoration-color: #7f7f7f\"> the paper posits that LLMs can be useful for generating insights, especially in the context of       </span>│\n",
       "│<span style=\"color: #7f7f7f; text-decoration-color: #7f7f7f\">          </span>│<span style=\"color: #7f7f7f; text-decoration-color: #7f7f7f\"> behavioral economics experiments, and focuses on experiments using GPT-3 as examples.                </span>│\n",
       "├──────────┼──────────────────────────────────────────────────────────────────────────────────────────────────────┤\n",
       "│<span style=\"color: #7f7f7f; text-decoration-color: #7f7f7f\"> 3        </span>│<span style=\"color: #7f7f7f; text-decoration-color: #7f7f7f\"> The page summarizes experiments that explore how AI agents, specifically different models of GPT-3,  </span>│\n",
       "│<span style=\"color: #7f7f7f; text-decoration-color: #7f7f7f\">          </span>│<span style=\"color: #7f7f7f; text-decoration-color: #7f7f7f\"> respond to various economic and social scenarios. It discusses how AI behavior changes when endowed  </span>│\n",
       "│<span style=\"color: #7f7f7f; text-decoration-color: #7f7f7f\">          </span>│<span style=\"color: #7f7f7f; text-decoration-color: #7f7f7f\"> with different social preferences such as equity, efficiency, and self-interest in dictator games.   </span>│\n",
       "│<span style=\"color: #7f7f7f; text-decoration-color: #7f7f7f\">          </span>│<span style=\"color: #7f7f7f; text-decoration-color: #7f7f7f\"> It also examines AI responses to price gouging scenarios, showing that political views and the       </span>│\n",
       "│<span style=\"color: #7f7f7f; text-decoration-color: #7f7f7f\">          </span>│<span style=\"color: #7f7f7f; text-decoration-color: #7f7f7f\"> extent of price increases affect their judgments. The paper replicates a study on status quo bias in </span>│\n",
       "│<span style=\"color: #7f7f7f; text-decoration-color: #7f7f7f\">          </span>│<span style=\"color: #7f7f7f; text-decoration-color: #7f7f7f\"> budget allocation for car and highway safety, finding that even advanced AI models like              </span>│\n",
       "│<span style=\"color: #7f7f7f; text-decoration-color: #7f7f7f\">          </span>│<span style=\"color: #7f7f7f; text-decoration-color: #7f7f7f\"> text-davinci-003 exhibit this bias. Lastly, it discusses a hiring scenario influenced by a minimum   </span>│\n",
       "│<span style=\"color: #7f7f7f; text-decoration-color: #7f7f7f\">          </span>│<span style=\"color: #7f7f7f; text-decoration-color: #7f7f7f\"> wage field experiment, demonstrating that imposing a minimum wage can lead AI to prefer more         </span>│\n",
       "│<span style=\"color: #7f7f7f; text-decoration-color: #7f7f7f\">          </span>│<span style=\"color: #7f7f7f; text-decoration-color: #7f7f7f\"> experienced applicants. These experiments aim to compare AI behavior to human responses in similar   </span>│\n",
       "│<span style=\"color: #7f7f7f; text-decoration-color: #7f7f7f\">          </span>│<span style=\"color: #7f7f7f; text-decoration-color: #7f7f7f\"> situations.                                                                                          </span>│\n",
       "├──────────┼──────────────────────────────────────────────────────────────────────────────────────────────────────┤\n",
       "│<span style=\"color: #7f7f7f; text-decoration-color: #7f7f7f\"> 4        </span>│<span style=\"color: #7f7f7f; text-decoration-color: #7f7f7f\"> The page discusses the use of large language models (LLMs) like GPT-3 for conducting economic        </span>│\n",
       "│<span style=\"color: #7f7f7f; text-decoration-color: #7f7f7f\">          </span>│<span style=\"color: #7f7f7f; text-decoration-color: #7f7f7f\"> experiments in silico, which can be run quickly and inexpensively to explore parameters, test        </span>│\n",
       "│<span style=\"color: #7f7f7f; text-decoration-color: #7f7f7f\">          </span>│<span style=\"color: #7f7f7f; text-decoration-color: #7f7f7f\"> sensitivities to question wording, and predict behaviors, thereby guiding empirical research. The    </span>│\n",
       "│<span style=\"color: #7f7f7f; text-decoration-color: #7f7f7f\">          </span>│<span style=\"color: #7f7f7f; text-decoration-color: #7f7f7f\"> paper compares this approach to building 'toy models' in economics as a way to think through         </span>│\n",
       "│<span style=\"color: #7f7f7f; text-decoration-color: #7f7f7f\">          </span>│<span style=\"color: #7f7f7f; text-decoration-color: #7f7f7f\"> problems. It also notes a related paper by Aher, Arriaga, and Kalai (2022) on GPT-3's ability to     </span>│\n",
       "│<span style=\"color: #7f7f7f; text-decoration-color: #7f7f7f\">          </span>│<span style=\"color: #7f7f7f; text-decoration-color: #7f7f7f\"> replicate experimental results in psychology and linguistics. The unique contribution of this paper  </span>│\n",
       "│<span style=\"color: #7f7f7f; text-decoration-color: #7f7f7f\">          </span>│<span style=\"color: #7f7f7f; text-decoration-color: #7f7f7f\"> is its focus on the connection between LLM experiments and the research paradigms in economics,      </span>│\n",
       "│<span style=\"color: #7f7f7f; text-decoration-color: #7f7f7f\">          </span>│<span style=\"color: #7f7f7f; text-decoration-color: #7f7f7f\"> particularly the role of foundational assumptions like rationality. The paper suggests that LLMs can </span>│\n",
       "│<span style=\"color: #7f7f7f; text-decoration-color: #7f7f7f\">          </span>│<span style=\"color: #7f7f7f; text-decoration-color: #7f7f7f\"> be an indirect method to study human behavior, similar to how 'sciences of the artificial' abstract  </span>│\n",
       "│<span style=\"color: #7f7f7f; text-decoration-color: #7f7f7f\">          </span>│<span style=\"color: #7f7f7f; text-decoration-color: #7f7f7f\"> from the complexities of the real world to focus on systems optimization.                            </span>│\n",
       "└──────────┴──────────────────────────────────────────────────────────────────────────────────────────────────────┘\n",
       "</pre>\n"
      ],
      "text/plain": [
       "┏━━━━━━━━━━┳━━━━━━━━━━━━━━━━━━━━━━━━━━━━━━━━━━━━━━━━━━━━━━━━━━━━━━━━━━━━━━━━━━━━━━━━━━━━━━━━━━━━━━━━━━━━━━━━━━━━━━┓\n",
       "┃\u001b[1;35m \u001b[0m\u001b[1;35mscenario\u001b[0m\u001b[1;35m \u001b[0m┃\u001b[1;35m \u001b[0m\u001b[1;35manswer                                                                                              \u001b[0m\u001b[1;35m \u001b[0m┃\n",
       "┃\u001b[1;35m \u001b[0m\u001b[1;35m.page   \u001b[0m\u001b[1;35m \u001b[0m┃\u001b[1;35m \u001b[0m\u001b[1;35m.summarize                                                                                          \u001b[0m\u001b[1;35m \u001b[0m┃\n",
       "┡━━━━━━━━━━╇━━━━━━━━━━━━━━━━━━━━━━━━━━━━━━━━━━━━━━━━━━━━━━━━━━━━━━━━━━━━━━━━━━━━━━━━━━━━━━━━━━━━━━━━━━━━━━━━━━━━━━┩\n",
       "│\u001b[2m \u001b[0m\u001b[2m2       \u001b[0m\u001b[2m \u001b[0m│\u001b[2m \u001b[0m\u001b[2mThe page introduces the concept of 'homo silicus,' a term for large language models (LLMs) that can \u001b[0m\u001b[2m \u001b[0m│\n",
       "│\u001b[2m          \u001b[0m│\u001b[2m \u001b[0m\u001b[2mbe used as computational models of human behavior in economic research. The author suggests that    \u001b[0m\u001b[2m \u001b[0m│\n",
       "│\u001b[2m          \u001b[0m│\u001b[2m \u001b[0m\u001b[2mthese models can simulate human responses to various scenarios, much like the theoretical 'homo     \u001b[0m\u001b[2m \u001b[0m│\n",
       "│\u001b[2m          \u001b[0m│\u001b[2m \u001b[0m\u001b[2meconomicus,' but with the advantage of computational simulation. The paper argues that LLMs are     \u001b[0m\u001b[2m \u001b[0m│\n",
       "│\u001b[2m          \u001b[0m│\u001b[2m \u001b[0m\u001b[2mdesigned to mimic human reactions and contain latent social information from the vast corpus they   \u001b[0m\u001b[2m \u001b[0m│\n",
       "│\u001b[2m          \u001b[0m│\u001b[2m \u001b[0m\u001b[2mare trained on, which includes economic reasoning and decision-making. Despite their imperfections, \u001b[0m\u001b[2m \u001b[0m│\n",
       "│\u001b[2m          \u001b[0m│\u001b[2m \u001b[0m\u001b[2mthe paper posits that LLMs can be useful for generating insights, especially in the context of      \u001b[0m\u001b[2m \u001b[0m│\n",
       "│\u001b[2m          \u001b[0m│\u001b[2m \u001b[0m\u001b[2mbehavioral economics experiments, and focuses on experiments using GPT-3 as examples.               \u001b[0m\u001b[2m \u001b[0m│\n",
       "├──────────┼──────────────────────────────────────────────────────────────────────────────────────────────────────┤\n",
       "│\u001b[2m \u001b[0m\u001b[2m3       \u001b[0m\u001b[2m \u001b[0m│\u001b[2m \u001b[0m\u001b[2mThe page summarizes experiments that explore how AI agents, specifically different models of GPT-3, \u001b[0m\u001b[2m \u001b[0m│\n",
       "│\u001b[2m          \u001b[0m│\u001b[2m \u001b[0m\u001b[2mrespond to various economic and social scenarios. It discusses how AI behavior changes when endowed \u001b[0m\u001b[2m \u001b[0m│\n",
       "│\u001b[2m          \u001b[0m│\u001b[2m \u001b[0m\u001b[2mwith different social preferences such as equity, efficiency, and self-interest in dictator games.  \u001b[0m\u001b[2m \u001b[0m│\n",
       "│\u001b[2m          \u001b[0m│\u001b[2m \u001b[0m\u001b[2mIt also examines AI responses to price gouging scenarios, showing that political views and the      \u001b[0m\u001b[2m \u001b[0m│\n",
       "│\u001b[2m          \u001b[0m│\u001b[2m \u001b[0m\u001b[2mextent of price increases affect their judgments. The paper replicates a study on status quo bias in\u001b[0m\u001b[2m \u001b[0m│\n",
       "│\u001b[2m          \u001b[0m│\u001b[2m \u001b[0m\u001b[2mbudget allocation for car and highway safety, finding that even advanced AI models like             \u001b[0m\u001b[2m \u001b[0m│\n",
       "│\u001b[2m          \u001b[0m│\u001b[2m \u001b[0m\u001b[2mtext-davinci-003 exhibit this bias. Lastly, it discusses a hiring scenario influenced by a minimum  \u001b[0m\u001b[2m \u001b[0m│\n",
       "│\u001b[2m          \u001b[0m│\u001b[2m \u001b[0m\u001b[2mwage field experiment, demonstrating that imposing a minimum wage can lead AI to prefer more        \u001b[0m\u001b[2m \u001b[0m│\n",
       "│\u001b[2m          \u001b[0m│\u001b[2m \u001b[0m\u001b[2mexperienced applicants. These experiments aim to compare AI behavior to human responses in similar  \u001b[0m\u001b[2m \u001b[0m│\n",
       "│\u001b[2m          \u001b[0m│\u001b[2m \u001b[0m\u001b[2msituations.                                                                                         \u001b[0m\u001b[2m \u001b[0m│\n",
       "├──────────┼──────────────────────────────────────────────────────────────────────────────────────────────────────┤\n",
       "│\u001b[2m \u001b[0m\u001b[2m4       \u001b[0m\u001b[2m \u001b[0m│\u001b[2m \u001b[0m\u001b[2mThe page discusses the use of large language models (LLMs) like GPT-3 for conducting economic       \u001b[0m\u001b[2m \u001b[0m│\n",
       "│\u001b[2m          \u001b[0m│\u001b[2m \u001b[0m\u001b[2mexperiments in silico, which can be run quickly and inexpensively to explore parameters, test       \u001b[0m\u001b[2m \u001b[0m│\n",
       "│\u001b[2m          \u001b[0m│\u001b[2m \u001b[0m\u001b[2msensitivities to question wording, and predict behaviors, thereby guiding empirical research. The   \u001b[0m\u001b[2m \u001b[0m│\n",
       "│\u001b[2m          \u001b[0m│\u001b[2m \u001b[0m\u001b[2mpaper compares this approach to building 'toy models' in economics as a way to think through        \u001b[0m\u001b[2m \u001b[0m│\n",
       "│\u001b[2m          \u001b[0m│\u001b[2m \u001b[0m\u001b[2mproblems. It also notes a related paper by Aher, Arriaga, and Kalai (2022) on GPT-3's ability to    \u001b[0m\u001b[2m \u001b[0m│\n",
       "│\u001b[2m          \u001b[0m│\u001b[2m \u001b[0m\u001b[2mreplicate experimental results in psychology and linguistics. The unique contribution of this paper \u001b[0m\u001b[2m \u001b[0m│\n",
       "│\u001b[2m          \u001b[0m│\u001b[2m \u001b[0m\u001b[2mis its focus on the connection between LLM experiments and the research paradigms in economics,     \u001b[0m\u001b[2m \u001b[0m│\n",
       "│\u001b[2m          \u001b[0m│\u001b[2m \u001b[0m\u001b[2mparticularly the role of foundational assumptions like rationality. The paper suggests that LLMs can\u001b[0m\u001b[2m \u001b[0m│\n",
       "│\u001b[2m          \u001b[0m│\u001b[2m \u001b[0m\u001b[2mbe an indirect method to study human behavior, similar to how 'sciences of the artificial' abstract \u001b[0m\u001b[2m \u001b[0m│\n",
       "│\u001b[2m          \u001b[0m│\u001b[2m \u001b[0m\u001b[2mfrom the complexities of the real world to focus on systems optimization.                           \u001b[0m\u001b[2m \u001b[0m│\n",
       "└──────────┴──────────────────────────────────────────────────────────────────────────────────────────────────────┘\n"
      ]
     },
     "metadata": {},
     "output_type": "display_data"
    }
   ],
   "source": [
    "(results\n",
    " .sort_by(\"page\")\n",
    " .filter(\"page > 1\")\n",
    " .select(\"page\", \"summarize\")\n",
    " .print(format=\"rich\", max_rows = 3)\n",
    ")"
   ]
  },
  {
   "cell_type": "markdown",
   "id": "04de3a53-8143-4677-8f58-715e879a6887",
   "metadata": {},
   "source": [
    "## Using images as scenarios\n",
    "We can call the `from_image()` method to create a scenario for an image. Here we use it for Figure 1 in the <i>Home Silicus</i> paper.\n",
    "\n",
    "Note that this method must be used with a vision model (e.g., GPT-4o) and does not require the use of a `{{ placeholder }}` in the question text. The scenario keys `file_path` and `encoded_image` are generated automatically:"
   ]
  },
  {
   "cell_type": "code",
   "execution_count": 40,
   "id": "51d43987-0716-4dfa-ba6b-f9de3a6d2c32",
   "metadata": {},
   "outputs": [],
   "source": [
    "from edsl import Model\n",
    "\n",
    "model = Model(\"gpt-4o\")"
   ]
  },
  {
   "cell_type": "code",
   "execution_count": 41,
   "id": "371f9001-d5e4-46fe-b487-792afad46649",
   "metadata": {},
   "outputs": [],
   "source": [
    "image_scenario = Scenario.from_image(\"homo_silicus_figure1.png\")"
   ]
  },
  {
   "cell_type": "code",
   "execution_count": 42,
   "id": "f71785f9-74e1-4980-a48b-aecdf5506223",
   "metadata": {},
   "outputs": [
    {
     "data": {
      "text/plain": [
       "['file_path', 'encoded_image']"
      ]
     },
     "execution_count": 42,
     "metadata": {},
     "output_type": "execute_result"
    }
   ],
   "source": [
    "image_scenario.keys()"
   ]
  },
  {
   "cell_type": "markdown",
   "id": "c3392c42-2fd8-45d4-833c-e8a4435ed803",
   "metadata": {},
   "source": [
    "Example usage:"
   ]
  },
  {
   "cell_type": "code",
   "execution_count": 43,
   "id": "43eb415a-130e-4591-b181-87e9d046e35b",
   "metadata": {},
   "outputs": [
    {
     "data": {
      "text/html": [
       "<pre style=\"white-space:pre;overflow-x:auto;line-height:normal;font-family:Menlo,'DejaVu Sans Mono',consolas,'Courier New',monospace\">┏━━━━━━━━━━━━━━━━━━━━━━━━━━━━━━━━━━━━━━━━━━━━━━━━━━━━━━━━━━━━━━━━━━━━━━━━━━━━━━━━━━━━━━━━━━━━━━━━━━━━━━━━━━━━━━━━━┓\n",
       "┃<span style=\"color: #800080; text-decoration-color: #800080; font-weight: bold\"> answer                                                                                                          </span>┃\n",
       "┃<span style=\"color: #800080; text-decoration-color: #800080; font-weight: bold\"> .figure                                                                                                         </span>┃\n",
       "┡━━━━━━━━━━━━━━━━━━━━━━━━━━━━━━━━━━━━━━━━━━━━━━━━━━━━━━━━━━━━━━━━━━━━━━━━━━━━━━━━━━━━━━━━━━━━━━━━━━━━━━━━━━━━━━━━━┩\n",
       "│<span style=\"color: #7f7f7f; text-decoration-color: #7f7f7f\"> The graphic shows the choices made by different models and human subjects in simple tests, categorized by model </span>│\n",
       "│<span style=\"color: #7f7f7f; text-decoration-color: #7f7f7f\"> type and endowed 'personality.' The models compared are Advanced GPT-3 (davinci-003), Human Brain, and Prior    </span>│\n",
       "│<span style=\"color: #7f7f7f; text-decoration-color: #7f7f7f\"> GPT-3 (ada, babbage, curie-001). The choices are displayed for different scenarios, with the fraction of AI     </span>│\n",
       "│<span style=\"color: #7f7f7f; text-decoration-color: #7f7f7f\"> subjects choosing each option (left or right) shown. The scenarios are based on the Charness and Rabin (2002)   </span>│\n",
       "│<span style=\"color: #7f7f7f; text-decoration-color: #7f7f7f\"> study, with different endowments for GPT-3 models, such as 'You only care about fairness between players,' 'You </span>│\n",
       "│<span style=\"color: #7f7f7f; text-decoration-color: #7f7f7f\"> only care about total pay-off of both players,' and 'You only care about your own pay-off.' The results         </span>│\n",
       "│<span style=\"color: #7f7f7f; text-decoration-color: #7f7f7f\"> indicate the proportion of times each choice was made under different conditions.                               </span>│\n",
       "└─────────────────────────────────────────────────────────────────────────────────────────────────────────────────┘\n",
       "</pre>\n"
      ],
      "text/plain": [
       "┏━━━━━━━━━━━━━━━━━━━━━━━━━━━━━━━━━━━━━━━━━━━━━━━━━━━━━━━━━━━━━━━━━━━━━━━━━━━━━━━━━━━━━━━━━━━━━━━━━━━━━━━━━━━━━━━━━┓\n",
       "┃\u001b[1;35m \u001b[0m\u001b[1;35manswer                                                                                                         \u001b[0m\u001b[1;35m \u001b[0m┃\n",
       "┃\u001b[1;35m \u001b[0m\u001b[1;35m.figure                                                                                                        \u001b[0m\u001b[1;35m \u001b[0m┃\n",
       "┡━━━━━━━━━━━━━━━━━━━━━━━━━━━━━━━━━━━━━━━━━━━━━━━━━━━━━━━━━━━━━━━━━━━━━━━━━━━━━━━━━━━━━━━━━━━━━━━━━━━━━━━━━━━━━━━━━┩\n",
       "│\u001b[2m \u001b[0m\u001b[2mThe graphic shows the choices made by different models and human subjects in simple tests, categorized by model\u001b[0m\u001b[2m \u001b[0m│\n",
       "│\u001b[2m \u001b[0m\u001b[2mtype and endowed 'personality.' The models compared are Advanced GPT-3 (davinci-003), Human Brain, and Prior   \u001b[0m\u001b[2m \u001b[0m│\n",
       "│\u001b[2m \u001b[0m\u001b[2mGPT-3 (ada, babbage, curie-001). The choices are displayed for different scenarios, with the fraction of AI    \u001b[0m\u001b[2m \u001b[0m│\n",
       "│\u001b[2m \u001b[0m\u001b[2msubjects choosing each option (left or right) shown. The scenarios are based on the Charness and Rabin (2002)  \u001b[0m\u001b[2m \u001b[0m│\n",
       "│\u001b[2m \u001b[0m\u001b[2mstudy, with different endowments for GPT-3 models, such as 'You only care about fairness between players,' 'You\u001b[0m\u001b[2m \u001b[0m│\n",
       "│\u001b[2m \u001b[0m\u001b[2monly care about total pay-off of both players,' and 'You only care about your own pay-off.' The results        \u001b[0m\u001b[2m \u001b[0m│\n",
       "│\u001b[2m \u001b[0m\u001b[2mindicate the proportion of times each choice was made under different conditions.                              \u001b[0m\u001b[2m \u001b[0m│\n",
       "└─────────────────────────────────────────────────────────────────────────────────────────────────────────────────┘\n"
      ]
     },
     "metadata": {},
     "output_type": "display_data"
    }
   ],
   "source": [
    "q = QuestionFreeText(\n",
    "    question_name = \"figure\",\n",
    "    question_text = \"Explain the graphic on this page.\" # no scenario placeholder\n",
    ")\n",
    "\n",
    "results = q.by(image_scenario).by(model).run()\n",
    "results.select(\"figure\").print(format=\"rich\")"
   ]
  },
  {
   "cell_type": "code",
   "execution_count": 44,
   "id": "885ff13e-9881-40cc-a20c-dc079b0ea7ed",
   "metadata": {},
   "outputs": [
    {
     "data": {
      "text/html": [
       "<div class=\"highlight\"><pre><span></span><span class=\"p\">{</span>\n",
       "<span class=\"w\">    </span><span class=\"nt\">&quot;scenarios&quot;</span><span class=\"p\">:</span><span class=\"w\"> </span><span class=\"p\">[</span>\n",
       "<span class=\"w\">        </span><span class=\"p\">{</span>\n",
       "<span class=\"w\">            </span><span class=\"nt\">&quot;a&quot;</span><span class=\"p\">:</span><span class=\"w\"> </span><span class=\"mi\">1</span><span class=\"p\">,</span>\n",
       "<span class=\"w\">            </span><span class=\"nt\">&quot;b&quot;</span><span class=\"p\">:</span><span class=\"w\"> </span><span class=\"mi\">1</span>\n",
       "<span class=\"w\">        </span><span class=\"p\">},</span>\n",
       "<span class=\"w\">        </span><span class=\"p\">{</span>\n",
       "<span class=\"w\">            </span><span class=\"nt\">&quot;a&quot;</span><span class=\"p\">:</span><span class=\"w\"> </span><span class=\"mi\">1</span><span class=\"p\">,</span>\n",
       "<span class=\"w\">            </span><span class=\"nt\">&quot;b&quot;</span><span class=\"p\">:</span><span class=\"w\"> </span><span class=\"mi\">2</span>\n",
       "<span class=\"w\">        </span><span class=\"p\">},</span>\n",
       "<span class=\"w\">        </span><span class=\"p\">{</span>\n",
       "<span class=\"w\">            </span><span class=\"nt\">&quot;a&quot;</span><span class=\"p\">:</span><span class=\"w\"> </span><span class=\"mi\">1</span><span class=\"p\">,</span>\n",
       "<span class=\"w\">            </span><span class=\"nt\">&quot;b&quot;</span><span class=\"p\">:</span><span class=\"w\"> </span><span class=\"mi\">3</span>\n",
       "<span class=\"w\">        </span><span class=\"p\">}</span>\n",
       "<span class=\"w\">    </span><span class=\"p\">]</span>\n",
       "<span class=\"p\">}</span>\n",
       "</pre></div>\n"
      ],
      "text/plain": [
       "ScenarioList([Scenario({'a': 1, 'b': 1}), Scenario({'a': 1, 'b': 2}), Scenario({'a': 1, 'b': 3})])"
      ]
     },
     "execution_count": 44,
     "metadata": {},
     "output_type": "execute_result"
    }
   ],
   "source": [
    "scenariolist = ScenarioList([Scenario({\"a\":1, \"b\":[1,2,3]})])\n",
    "\n",
    "expanded_scenarios = scenariolist.expand(\"b\")\n",
    "expanded_scenarios"
   ]
  },
  {
   "cell_type": "markdown",
   "id": "51ac6653-8356-4ba3-aef2-72c8731bf5ee",
   "metadata": {},
   "source": [
    "## Generating code for scenarios\n",
    "We can call the `code()` method to generate the code for producing scenarios:"
   ]
  },
  {
   "cell_type": "code",
   "execution_count": 45,
   "id": "2fbbe33f-eae4-4c95-b815-bdd48492080a",
   "metadata": {},
   "outputs": [
    {
     "data": {
      "text/plain": [
       "['from edsl.scenarios.Scenario import Scenario\\nfrom edsl.scenarios.ScenarioList import ScenarioList',\n",
       " \"scenario_0 = Scenario({'persona': 'A reseacher studying whether LLMs can be used to generate surveys.'})\",\n",
       " \"scenario_1 = Scenario({'persona': 'A reseacher studying whether LLMs can be used to generate surveys.'})\",\n",
       " 'scenarios = ScenarioList([scenario_0, scenario_1])']"
      ]
     },
     "execution_count": 45,
     "metadata": {},
     "output_type": "execute_result"
    }
   ],
   "source": [
    "scenariolist = ScenarioList.example()\n",
    "\n",
    "scenariolist_code = scenariolist.code()\n",
    "scenariolist_code"
   ]
  },
  {
   "cell_type": "code",
   "execution_count": 46,
   "id": "6b5d458d-6769-4449-a97e-5f74c30d2ec1",
   "metadata": {},
   "outputs": [],
   "source": [
    "from edsl.scenarios.Scenario import Scenario\n",
    "from edsl.scenarios.ScenarioList import ScenarioList\n",
    "\n",
    "scenario_0 = Scenario({'persona': 'A reseacher studying whether LLMs can be used to generate surveys.'})\n",
    "scenario_1 = Scenario({'persona': 'A reseacher studying whether LLMs can be used to generate surveys.'})\n",
    "scenarios = ScenarioList([scenario_0, scenario_1])"
   ]
  },
  {
   "cell_type": "markdown",
   "id": "78fd1408-ac1e-4cab-87fc-e6a80758af61",
   "metadata": {},
   "source": [
    "## Converting a `ScenarioList` into an `AgentList`\n",
    "We can call the `to_agent_list()` method to convert a `ScenarioList` into an `AgentList`. Note that agent `traits` cannot include a \"name\" key as `agent_name` is a separate optional field of `Agent` objects:"
   ]
  },
  {
   "cell_type": "code",
   "execution_count": 47,
   "id": "e925684a-c495-4984-93aa-d87efce19369",
   "metadata": {},
   "outputs": [
    {
     "data": {
      "text/html": [
       "<div class=\"highlight\"><pre><span></span><span class=\"p\">[</span>\n",
       "<span class=\"w\">    </span><span class=\"p\">{</span>\n",
       "<span class=\"w\">        </span><span class=\"nt\">&quot;traits&quot;</span><span class=\"p\">:</span><span class=\"w\"> </span><span class=\"p\">{</span>\n",
       "<span class=\"w\">            </span><span class=\"nt\">&quot;first_name&quot;</span><span class=\"p\">:</span><span class=\"w\"> </span><span class=\"s2\">&quot;Apostolos&quot;</span><span class=\"p\">,</span>\n",
       "<span class=\"w\">            </span><span class=\"nt\">&quot;location&quot;</span><span class=\"p\">:</span><span class=\"w\"> </span><span class=\"s2\">&quot;New York&quot;</span>\n",
       "<span class=\"w\">        </span><span class=\"p\">},</span>\n",
       "<span class=\"w\">        </span><span class=\"nt\">&quot;edsl_version&quot;</span><span class=\"p\">:</span><span class=\"w\"> </span><span class=\"s2\">&quot;0.1.25&quot;</span><span class=\"p\">,</span>\n",
       "<span class=\"w\">        </span><span class=\"nt\">&quot;edsl_class_name&quot;</span><span class=\"p\">:</span><span class=\"w\"> </span><span class=\"s2\">&quot;Agent&quot;</span>\n",
       "<span class=\"w\">    </span><span class=\"p\">},</span>\n",
       "<span class=\"w\">    </span><span class=\"p\">{</span>\n",
       "<span class=\"w\">        </span><span class=\"nt\">&quot;traits&quot;</span><span class=\"p\">:</span><span class=\"w\"> </span><span class=\"p\">{</span>\n",
       "<span class=\"w\">            </span><span class=\"nt\">&quot;first_name&quot;</span><span class=\"p\">:</span><span class=\"w\"> </span><span class=\"s2\">&quot;John&quot;</span><span class=\"p\">,</span>\n",
       "<span class=\"w\">            </span><span class=\"nt\">&quot;location&quot;</span><span class=\"p\">:</span><span class=\"w\"> </span><span class=\"s2\">&quot;Cambridge&quot;</span>\n",
       "<span class=\"w\">        </span><span class=\"p\">},</span>\n",
       "<span class=\"w\">        </span><span class=\"nt\">&quot;edsl_version&quot;</span><span class=\"p\">:</span><span class=\"w\"> </span><span class=\"s2\">&quot;0.1.25&quot;</span><span class=\"p\">,</span>\n",
       "<span class=\"w\">        </span><span class=\"nt\">&quot;edsl_class_name&quot;</span><span class=\"p\">:</span><span class=\"w\"> </span><span class=\"s2\">&quot;Agent&quot;</span>\n",
       "<span class=\"w\">    </span><span class=\"p\">},</span>\n",
       "<span class=\"w\">    </span><span class=\"p\">{</span>\n",
       "<span class=\"w\">        </span><span class=\"nt\">&quot;traits&quot;</span><span class=\"p\">:</span><span class=\"w\"> </span><span class=\"p\">{</span>\n",
       "<span class=\"w\">            </span><span class=\"nt\">&quot;first_name&quot;</span><span class=\"p\">:</span><span class=\"w\"> </span><span class=\"s2\">&quot;Robin&quot;</span><span class=\"p\">,</span>\n",
       "<span class=\"w\">            </span><span class=\"nt\">&quot;location&quot;</span><span class=\"p\">:</span><span class=\"w\"> </span><span class=\"s2\">&quot;Cambridge&quot;</span>\n",
       "<span class=\"w\">        </span><span class=\"p\">},</span>\n",
       "<span class=\"w\">        </span><span class=\"nt\">&quot;edsl_version&quot;</span><span class=\"p\">:</span><span class=\"w\"> </span><span class=\"s2\">&quot;0.1.25&quot;</span><span class=\"p\">,</span>\n",
       "<span class=\"w\">        </span><span class=\"nt\">&quot;edsl_class_name&quot;</span><span class=\"p\">:</span><span class=\"w\"> </span><span class=\"s2\">&quot;Agent&quot;</span>\n",
       "<span class=\"w\">    </span><span class=\"p\">}</span>\n",
       "<span class=\"p\">]</span>\n",
       "</pre></div>\n"
      ],
      "text/plain": [
       "AgentList([Agent(traits = {'first_name': 'Apostolos', 'location': 'New York'}), Agent(traits = {'first_name': 'John', 'location': 'Cambridge'}), Agent(traits = {'first_name': 'Robin', 'location': 'Cambridge'})])"
      ]
     },
     "execution_count": 47,
     "metadata": {},
     "output_type": "execute_result"
    }
   ],
   "source": [
    "from edsl import AgentList\n",
    "\n",
    "scenariolist = ScenarioList([Scenario({\"first_name\": \"Apostolos\", \"location\": \"New York\"}), \n",
    "                             Scenario({\"first_name\": \"John\", \"location\": \"Cambridge\"}), \n",
    "                             Scenario({\"first_name\": \"Robin\", \"location\": \"Cambridge\"})])\n",
    "\n",
    "agentlist = scenariolist.to_agent_list()\n",
    "agentlist"
   ]
  },
  {
   "cell_type": "markdown",
   "id": "01e88be4-2129-4cfd-ab36-04bad540db53",
   "metadata": {},
   "source": [
    "(Note that scenarios function similarly to `traits` dictionaries that we pass to AI `Agents` that we can use to answer survey questions. [Learn more about designing AI agents](https://docs.expectedparrot.com/en/latest/agents.html) for simulating surveys and experiments.)"
   ]
  }
 ],
 "metadata": {
  "kernelspec": {
   "display_name": "Python 3 (ipykernel)",
   "language": "python",
   "name": "python3"
  },
  "language_info": {
   "codemirror_mode": {
    "name": "ipython",
    "version": 3
   },
   "file_extension": ".py",
   "mimetype": "text/x-python",
   "name": "python",
   "nbconvert_exporter": "python",
   "pygments_lexer": "ipython3",
   "version": "3.11.7"
  }
 },
 "nbformat": 4,
 "nbformat_minor": 5
}
