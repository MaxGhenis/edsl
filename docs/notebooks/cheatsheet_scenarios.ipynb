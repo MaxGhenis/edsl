{
 "cells": [
  {
   "cell_type": "markdown",
   "id": "fb8b90ca-2153-4d39-a765-67e1a6e5946a",
   "metadata": {},
   "source": [
    "# Cheatsheet: Scenarios\n",
    "This notebook provides quick examples of methods for using `Scenario` objects to add data or other content to your [EDSL](https://docs.expectedparrot.com/) survey questions. Scenarios allow you to efficiently administer multiple versions of questions at once, which can be useful in conducting experiments and labeling/exploration tasks where you want to answer the same questions about many different things, such as every piece of data in a dataset, or a collection of texts, websites, images or other content.\n",
    "\n",
    "In the examples below we show how to:\n",
    "\n",
    "* Inspect an example scenario\n",
    "* Use a scenario in a question\n",
    "* Create scenarios\n",
    "* Combine scenarios\n",
    "* Replicate scenarios\n",
    "* Rename scenario keys\n",
    "* Sample scenarios\n",
    "* Select and drop scenarios\n",
    "* Slice & chunk scenarios\n",
    "* Create scenarios for texts, PDFs, CSVs, URLs, HTML, images, dictionaries & lists\n",
    "* Add metadata to scenarios\n",
    "* Generate code for recreating scenarios\n",
    "\n",
    "## What is EDSL?\n",
    "[EDSL](https://github.com/expectedparrot/edsl) is an open-source Python library for simulating surveys, experiments and other research with AI agents and large language models. It is buily by [Expected Parrot] Please see our [documentation page](https://docs.expectedparrot.com/) for information and tutorials on getting started, and more details on [methods for working with scenarios](https://docs.expectedparrot.com/en/latest/scenarios.html) that are explored in this notebook.\n",
    "\n",
    "## How to use this notebook\n",
    "The examples in this notebook can be rerun or modified to use your own questions and data or content. We also post each example at the [Coop](https://www.expectedparrot.com/explore)--*a new platform for creating, storing and sharing LLM-based research using EDSL*--where you can interact with them directly as well. [Learn more about using the Coop](https://docs.expectedparrot.com/en/latest/coop.html) to conduct research.\n",
    "\n",
    "## Technical setup\n",
    "Before running the code below, ensure that you have (1) [installed](https://docs.expectedparrot.com/en/latest/installation.html) the EDSL library and (2) created a [Coop account](https://www.expectedparrot.com/login) to activate [remote inference](https://docs.expectedparrot.com/en/latest/remote_inference.html) or stored your own [API keys](https://docs.expectedparrot.com/en/latest/api_keys.html) for language models that you want to use with EDSL.\n",
    "\n",
    "## Importing the tools\n",
    "We start by importing the relevant tools:"
   ]
  },
  {
   "cell_type": "code",
   "execution_count": 1,
   "id": "50709c04-a140-4a14-9c6d-8a8371acd94a",
   "metadata": {},
   "outputs": [],
   "source": [
    "from edsl import Scenario, ScenarioList"
   ]
  },
  {
   "cell_type": "markdown",
   "id": "9199db50-c70e-47eb-a301-93f869ab6722",
   "metadata": {},
   "source": [
    "## Inspecting an example\n",
    "A `Scenario` contains a dictionary of keys and values representing data or content to be added to (inserted in) the `question_text` field of a `Question` object. We can call the `example()` method to inspect an example scenario:"
   ]
  },
  {
   "cell_type": "code",
   "execution_count": 2,
   "id": "89747872-2149-4aae-a4b7-4541cfd4ac39",
   "metadata": {},
   "outputs": [
    {
     "data": {
      "text/html": [
       "<div class=\"highlight\"><pre><span></span><span class=\"p\">{</span>\n",
       "<span class=\"w\">    </span><span class=\"nt\">&quot;persona&quot;</span><span class=\"p\">:</span><span class=\"w\"> </span><span class=\"s2\">&quot;A reseacher studying whether LLMs can be used to generate surveys.&quot;</span>\n",
       "<span class=\"p\">}</span>\n",
       "</pre></div>\n"
      ],
      "text/plain": [
       "Scenario({'persona': 'A reseacher studying whether LLMs can be used to generate surveys.'})"
      ]
     },
     "execution_count": 2,
     "metadata": {},
     "output_type": "execute_result"
    }
   ],
   "source": [
    "example_scenario = Scenario.example()\n",
    "example_scenario"
   ]
  },
  {
   "cell_type": "markdown",
   "id": "e7ea1ca8-e988-4521-99c6-387a0ed7a64c",
   "metadata": {},
   "source": [
    "We can also see an example `ScenarioList`, which is a dictionary containing a list of scenarios:"
   ]
  },
  {
   "cell_type": "code",
   "execution_count": 3,
   "id": "34a04dc9-df95-4cc7-aa03-f886d2c7342e",
   "metadata": {},
   "outputs": [
    {
     "data": {
      "text/html": [
       "<div class=\"highlight\"><pre><span></span><span class=\"p\">{</span>\n",
       "<span class=\"w\">    </span><span class=\"nt\">&quot;scenarios&quot;</span><span class=\"p\">:</span><span class=\"w\"> </span><span class=\"p\">[</span>\n",
       "<span class=\"w\">        </span><span class=\"p\">{</span>\n",
       "<span class=\"w\">            </span><span class=\"nt\">&quot;persona&quot;</span><span class=\"p\">:</span><span class=\"w\"> </span><span class=\"s2\">&quot;A reseacher studying whether LLMs can be used to generate surveys.&quot;</span>\n",
       "<span class=\"w\">        </span><span class=\"p\">},</span>\n",
       "<span class=\"w\">        </span><span class=\"p\">{</span>\n",
       "<span class=\"w\">            </span><span class=\"nt\">&quot;persona&quot;</span><span class=\"p\">:</span><span class=\"w\"> </span><span class=\"s2\">&quot;A reseacher studying whether LLMs can be used to generate surveys.&quot;</span>\n",
       "<span class=\"w\">        </span><span class=\"p\">}</span>\n",
       "<span class=\"w\">    </span><span class=\"p\">]</span>\n",
       "<span class=\"p\">}</span>\n",
       "</pre></div>\n"
      ],
      "text/plain": [
       "ScenarioList([Scenario({'persona': 'A reseacher studying whether LLMs can be used to generate surveys.'}), Scenario({'persona': 'A reseacher studying whether LLMs can be used to generate surveys.'})])"
      ]
     },
     "execution_count": 3,
     "metadata": {},
     "output_type": "execute_result"
    }
   ],
   "source": [
    "example_scenariolist = ScenarioList.example()\n",
    "example_scenariolist"
   ]
  },
  {
   "cell_type": "markdown",
   "id": "2962a269-e2d6-4806-bbd2-10f4ea115a40",
   "metadata": {},
   "source": [
    "## Using a Scenario\n",
    "To use a scenario:\n",
    "1. Create a `Question` (or a `Survey` of multiple questions) that includes a `{{ placeholder }}` in the `question_text` for each scenario key.\n",
    "2. Call the `by()` method on the question (or survey) and pass it the scenario (or list of scenarios). A new version of a question is automatically created with each scenario value.\n",
    "3. Call the `run()` method on the question (or survey) to send it to a language model. Responses are returned in a formatted dataset of results that includes details on all components.\n",
    "\n",
    "Here we construct a survey of questions using the example scenario from above, send it to a language model and inspect the results. If [remote inference](https://docs.expectedparrot.com/en/latest/remote_inference.html) is activated, the results are also automatically posted to the Coop:"
   ]
  },
  {
   "cell_type": "code",
   "execution_count": 4,
   "id": "0fe40743-c051-4f05-b09d-53756b1b1768",
   "metadata": {},
   "outputs": [
    {
     "ename": "SyntaxError",
     "evalue": "invalid decimal literal (InferenceServicesCollection.py, line 37)",
     "output_type": "error",
     "traceback": [
      "Traceback \u001b[0;36m(most recent call last)\u001b[0m:\n",
      "\u001b[0m  File \u001b[1;32m~/edsl/.venv/lib/python3.11/site-packages/IPython/core/interactiveshell.py:3550\u001b[0m in \u001b[1;35mrun_code\u001b[0m\n    exec(code_obj, self.user_global_ns, self.user_ns)\u001b[0m\n",
      "\u001b[0m  Cell \u001b[1;32mIn[4], line 18\u001b[0m\n    results = survey.by(example_scenario).run()\u001b[0m\n",
      "\u001b[0m  File \u001b[1;32m~/edsl/edsl/jobs/Jobs.py:554\u001b[0m in \u001b[1;35mrun\u001b[0m\n    results = self._run_local(\u001b[0m\n",
      "\u001b[0m  File \u001b[1;32m~/edsl/edsl/jobs/Jobs.py:638\u001b[0m in \u001b[1;35m_run_local\u001b[0m\n    results = JobsRunnerAsyncio(self).run(*args, **kwargs)\u001b[0m\n",
      "\u001b[0m  File \u001b[1;32m~/edsl/edsl/jobs/runners/JobsRunnerAsyncio.py:56\u001b[0m in \u001b[1;35m__init__\u001b[0m\n    self.interviews: List[\"Interview\"] = jobs.interviews()\u001b[0m\n",
      "\u001b[0m  File \u001b[1;32m~/edsl/edsl/jobs/Jobs.py:291\u001b[0m in \u001b[1;35minterviews\u001b[0m\n    return list(self._create_interviews())\u001b[0m\n",
      "\u001b[0m  File \u001b[1;32m~/edsl/edsl/jobs/Jobs.py:318\u001b[0m in \u001b[1;35m_create_interviews\u001b[0m\n    self.models = self.models or [Model()]\u001b[0m\n",
      "\u001b[0m  File \u001b[1;32m~/edsl/edsl/language_models/registry.py:36\u001b[0m in \u001b[1;35m__new__\u001b[0m\n    from edsl.inference_services.registry import default\u001b[0m\n",
      "\u001b[0;36m  File \u001b[0;32m~/edsl/edsl/inference_services/registry.py:1\u001b[0;36m\n\u001b[0;31m    from edsl.inference_services.InferenceServicesCollection import (\u001b[0;36m\n",
      "\u001b[0;36m  File \u001b[0;32m~/edsl/edsl/inference_services/InferenceServicesCollection.py:37\u001b[0;36m\u001b[0m\n\u001b[0;31m    >>>>>>> 9c6a26c17c82b83683815ca17e1af4210ba36568\u001b[0m\n\u001b[0m            ^\u001b[0m\n\u001b[0;31mSyntaxError\u001b[0m\u001b[0;31m:\u001b[0m invalid decimal literal\n"
     ]
    }
   ],
   "source": [
    "# Import question types\n",
    "from edsl import QuestionFreeText, QuestionList, Survey\n",
    "\n",
    "# Create questions in the relevant templates with placeholders for content to be inserted\n",
    "q1 = QuestionFreeText(\n",
    "    question_name = \"background\",\n",
    "    question_text = \"Draft a sample bio for this researcher: {{ persona }}\",\n",
    ")\n",
    "q2 = QuestionList(\n",
    "    question_name = \"interests\",\n",
    "    question_text = \"Identify some potential interests of this researcher: {{ persona }}\",\n",
    ")\n",
    "\n",
    "# Combine questions into a survey to administer them together\n",
    "survey = Survey(questions=[q1, q2])\n",
    "\n",
    "# Run the survey with the scenarios to generate a dataset of results\n",
    "results = survey.by(example_scenario).run()"
   ]
  },
  {
   "cell_type": "markdown",
   "id": "7c1ca09a-25fa-4605-bce7-16bb81914390",
   "metadata": {},
   "source": [
    "We can analyze the results at the Coop or using built-in [methods for working with results](https://docs.expectedparrot.com/en/latest/results.html) at your workspace:"
   ]
  },
  {
   "cell_type": "code",
   "execution_count": null,
   "id": "43a03e00-5346-423c-a416-afba1a5c6746",
   "metadata": {},
   "outputs": [],
   "source": [
    "# Print a table of selected components of the results\n",
    "results.select(\"persona\", \"background\", \"interests\").print(format=\"rich\")"
   ]
  },
  {
   "cell_type": "markdown",
   "id": "6fe06b36-515e-4011-b8d1-79d205ee65c4",
   "metadata": {},
   "source": [
    "## Creating a Scenario\n",
    "We create a scenario by passing a dictionary to a `Scenario` object:"
   ]
  },
  {
   "cell_type": "code",
   "execution_count": null,
   "id": "49bb76da-cc9e-4e13-8ecc-3da82866f428",
   "metadata": {},
   "outputs": [],
   "source": [
    "weather_scenario = Scenario({\"weather\": \"sunny\"})\n",
    "weather_scenario"
   ]
  },
  {
   "cell_type": "markdown",
   "id": "8e9b016f-b470-4dcc-874c-d5df9e806ac9",
   "metadata": {},
   "source": [
    "## Creating a ScenarioList\n",
    "It can be useful to create a set of scenarios all at once. This can be done by constructing a list of `Scenario` objects or a `ScenarioList`. Compare a list of `Scenario` objects:"
   ]
  },
  {
   "cell_type": "code",
   "execution_count": null,
   "id": "1dfcc985-7020-48f7-8bf8-cacd2c026b7d",
   "metadata": {},
   "outputs": [],
   "source": [
    "weather_scenarios = [\n",
    "    Scenario({\"weather\": w}) for w in [\"sunny\", \"cloudy\", \"rainy\", \"snowy\"]\n",
    "]\n",
    "weather_scenarios"
   ]
  },
  {
   "cell_type": "markdown",
   "id": "aca9fb74-3f1c-4b90-9360-b2e09d662869",
   "metadata": {},
   "source": [
    "Alternatively, we can create a `ScenarioList` which has a key `scenarios` and a list of scenarios as the values:"
   ]
  },
  {
   "cell_type": "code",
   "execution_count": null,
   "id": "bfbbc8f1-c409-47c0-9c3a-027128d70389",
   "metadata": {},
   "outputs": [],
   "source": [
    "example_scenariolist = ScenarioList.example()\n",
    "example_scenariolist"
   ]
  },
  {
   "cell_type": "code",
   "execution_count": null,
   "id": "aa7f08c0-5ce6-473a-82f0-0f0fc3367dca",
   "metadata": {},
   "outputs": [],
   "source": [
    "weather_scenariolist = ScenarioList(\n",
    "    [Scenario({\"weather\": w}) for w in [\"sunny\", \"cloudy\", \"rainy\", \"snowy\"]]\n",
    ")\n",
    "weather_scenariolist"
   ]
  },
  {
   "cell_type": "markdown",
   "id": "2509c519-a7a6-4207-a73a-383a6ec3ef16",
   "metadata": {},
   "source": [
    "## Combining scenarios\n",
    "We can add scenarios together to create a single new scenario with an extended dictionary:"
   ]
  },
  {
   "cell_type": "code",
   "execution_count": null,
   "id": "4ed72054-a95a-4420-80e7-6d5511b6618a",
   "metadata": {},
   "outputs": [],
   "source": [
    "scenario1 = Scenario({\"food\": \"apple\"})\n",
    "scenario2 = Scenario({\"drink\": \"juice\"})\n",
    "\n",
    "snack_scenario = scenario1 + scenario2\n",
    "snack_scenario"
   ]
  },
  {
   "cell_type": "markdown",
   "id": "e563279a-1e3c-43ef-9481-df3212746122",
   "metadata": {},
   "source": [
    "## Replicating scenarios\n",
    "We can replicate a scenario to create a `ScenarioList`:"
   ]
  },
  {
   "cell_type": "code",
   "execution_count": null,
   "id": "2c05b099-3be8-4efa-a1e6-2a94dc2cdc7a",
   "metadata": {},
   "outputs": [],
   "source": [
    "personas_scenariolist = Scenario.example().replicate(n=3)\n",
    "personas_scenariolist"
   ]
  },
  {
   "cell_type": "markdown",
   "id": "1152d800-889b-4eae-9f24-f4b0aba1782f",
   "metadata": {},
   "source": [
    "## Renaming scenarios\n",
    "We can call the `rename()` method to rename the fields (keys) of a `Scenario`:"
   ]
  },
  {
   "cell_type": "code",
   "execution_count": null,
   "id": "b2fadc80-24bf-4c93-a667-0df28ebcd5e2",
   "metadata": {},
   "outputs": [],
   "source": [
    "role_scenario = Scenario.example().rename({\"persona\": \"role\"})\n",
    "role_scenario"
   ]
  },
  {
   "cell_type": "markdown",
   "id": "9f7f2235-1462-4ef1-8952-4f22b80fc0bc",
   "metadata": {},
   "source": [
    "The method can also be called on a `ScenarioList`:"
   ]
  },
  {
   "cell_type": "code",
   "execution_count": null,
   "id": "a3b4f819-1919-4c46-8534-4be14eaebf23",
   "metadata": {},
   "outputs": [],
   "source": [
    "scenariolist = ScenarioList(\n",
    "    [\n",
    "        Scenario({\"name\": \"Apostolos\"}),\n",
    "        Scenario({\"name\": \"John\"}),\n",
    "        Scenario({\"name\": \"Robin\"}),\n",
    "    ]\n",
    ")\n",
    "\n",
    "renamed_scenariolist = scenariolist.rename({\"name\": \"first_name\"})\n",
    "renamed_scenariolist"
   ]
  },
  {
   "cell_type": "markdown",
   "id": "563b9726-5262-4f62-a9dd-0fe6febfe7d6",
   "metadata": {},
   "source": [
    "## Sampling\n",
    "We can call the `sample()` method to take a sample from a `ScenarioList`:"
   ]
  },
  {
   "cell_type": "code",
   "execution_count": null,
   "id": "a4a177a3-7ce5-48a0-be38-b0a3ecd698f3",
   "metadata": {},
   "outputs": [],
   "source": [
    "weather_scenariolist = ScenarioList(\n",
    "    [Scenario({\"weather\": w}) for w in [\"sunny\", \"cloudy\", \"rainy\", \"snowy\"]]\n",
    ")\n",
    "\n",
    "sample = weather_scenariolist.sample(n=2)\n",
    "sample"
   ]
  },
  {
   "cell_type": "markdown",
   "id": "210d76a5-fbff-4c4b-94a6-93ea66cc727d",
   "metadata": {},
   "source": [
    "## Selecting and dropping scenarios\n",
    "We can call the `select()` and `drop()` methods on a `ScenarioList` to include and exclude specified fields from the scenarios:"
   ]
  },
  {
   "cell_type": "code",
   "execution_count": null,
   "id": "948582c4-f77e-43c2-8911-5b018e8b5cd8",
   "metadata": {},
   "outputs": [],
   "source": [
    "snacks_scenariolist = ScenarioList(\n",
    "    [\n",
    "        Scenario({\"food\": \"apple\", \"drink\": \"water\"}),\n",
    "        Scenario({\"food\": \"banana\", \"drink\": \"milk\"}),\n",
    "    ]\n",
    ")\n",
    "\n",
    "food_scenariolist = snacks_scenariolist.select(\"food\")\n",
    "food_scenariolist"
   ]
  },
  {
   "cell_type": "code",
   "execution_count": null,
   "id": "edef31a5-ec16-4aff-94dd-b87315726158",
   "metadata": {},
   "outputs": [],
   "source": [
    "drink_scenariolist = snacks_scenariolist.drop(\"food\")\n",
    "drink_scenariolist"
   ]
  },
  {
   "cell_type": "markdown",
   "id": "448a029f-883b-407e-9744-e1444e500dc9",
   "metadata": {},
   "source": [
    "## Adding metadata to scenarios\n",
    "Note that we can create fields in scenarios without including them in the `question_text`. This will cause the fields to be present in the `Results` dataset, which can be useful for adding metadata to your questions and results. [See more examples here](https://docs.expectedparrot.com/en/latest/notebooks/adding_metadata.html).\n",
    "\n",
    "Example usage:"
   ]
  },
  {
   "cell_type": "code",
   "execution_count": null,
   "id": "feed384f-479a-44d8-bd70-bdd5e624d51b",
   "metadata": {},
   "outputs": [],
   "source": [
    "songs = [\n",
    "    [\"1999\", \"Prince\", \"pop\"],\n",
    "    [\"1979\", \"The Smashing Pumpkins\", \"alt\"],\n",
    "    [\"1901\", \"Phoenix\", \"indie\"],\n",
    "]\n",
    "metadata_scenarios = [\n",
    "    Scenario({\"title\": t, \"musician\": m, \"genre\": g}) for [t, m, g] in songs\n",
    "]\n",
    "metadata_scenarios"
   ]
  },
  {
   "cell_type": "code",
   "execution_count": null,
   "id": "5bc8b903-b37e-4c8b-8e6d-8a554fee6598",
   "metadata": {},
   "outputs": [],
   "source": [
    "q = QuestionFreeText(\n",
    "    question_name=\"song\",\n",
    "    question_text=\"What is this song about: {{ title }}\",  # optionally omitting other fields in the scenarios\n",
    ")\n",
    "\n",
    "results = q.by(metadata_scenarios).run()\n",
    "results.select(\"scenario.*\", \"song\").print(\n",
    "    format=\"rich\"\n",
    ")  # all scenario fields will be present"
   ]
  },
  {
   "cell_type": "markdown",
   "id": "82434368-7cea-4f5b-b96a-233181630ebf",
   "metadata": {},
   "source": [
    "Note that it does not matter if we use a list of `Scenario` objects or a `ScenarioList` with the same data--the scenarios are added to the survey in the same way when it is run:"
   ]
  },
  {
   "cell_type": "code",
   "execution_count": null,
   "id": "d839ec12-87e4-4f87-975d-d6c1bb461958",
   "metadata": {},
   "outputs": [],
   "source": [
    "songs = [\n",
    "    [\"1999\", \"Prince\", \"pop\"],\n",
    "    [\"1979\", \"The Smashing Pumpkins\", \"alt\"],\n",
    "    [\"1901\", \"Phoenix\", \"indie\"],\n",
    "]\n",
    "metadata_scenarios = ScenarioList(\n",
    "    [Scenario({\"title\": t, \"musician\": m, \"genre\": g}) for [t, m, g] in songs]\n",
    ")\n",
    "metadata_scenarios"
   ]
  },
  {
   "cell_type": "code",
   "execution_count": null,
   "id": "e7d9d6d7-01d3-41c1-81ef-3b0672038db5",
   "metadata": {},
   "outputs": [],
   "source": [
    "q = QuestionFreeText(\n",
    "    question_name=\"song\",\n",
    "    question_text=\"What is this song about: {{ title }}\",  # optionally omitting other fields in the scenarios\n",
    ")\n",
    "\n",
    "results = q.by(metadata_scenarios).run()\n",
    "results.select(\"scenario.*\", \"song\").print(\n",
    "    format=\"rich\"\n",
    ")  # all scenario fields will be present"
   ]
  },
  {
   "cell_type": "markdown",
   "id": "e7e9ed18-7378-475e-b16b-9cca8c8fd7a5",
   "metadata": {},
   "source": [
    "## Chunking text\n",
    "We can use the `chunk()` method to turn a `Scenario` into a `ScenarioList` with specified slice/chunk sizes based on `num_words` or `num_lines`. Note that the field `_chunk` is created automatically, and `_original` is added if optional parameter `include_original` is used:"
   ]
  },
  {
   "cell_type": "code",
   "execution_count": null,
   "id": "78bd14a1-0450-4d9f-acdf-ddda1fe14cfb",
   "metadata": {},
   "outputs": [],
   "source": [
    "my_haiku = \"\"\"\n",
    "This is a long text. \n",
    "Pages and pages, oh my!\n",
    "I need to chunk it.\n",
    "\"\"\"\n",
    "\n",
    "text_scenario = Scenario({\"my_text\": my_haiku})\n",
    "\n",
    "word_chunks_scenariolist = text_scenario.chunk(\n",
    "    \"my_text\",\n",
    "    num_words=5,  # use num_words or num_lines but not both\n",
    "    include_original=True,  # optional\n",
    "    hash_original=True,  # optional\n",
    ")\n",
    "word_chunks_scenariolist"
   ]
  },
  {
   "cell_type": "code",
   "execution_count": null,
   "id": "f56b9fa1-0ac0-4437-bc38-10d55e233a33",
   "metadata": {},
   "outputs": [],
   "source": [
    "line_chunks_scenariolist = text_scenario.chunk(\"my_text\", num_lines=1)\n",
    "line_chunks_scenariolist"
   ]
  },
  {
   "cell_type": "markdown",
   "id": "1f953529-4bb0-452b-b0a4-4d27c64dc93e",
   "metadata": {},
   "source": [
    "## Tallying scenario values\n",
    "We can call the `tally()` method on a `ScenarioList` to tally numeric values for a specified key. It returns a dictionary with keys representing the number of each `Scenario` in the `ScenarioList` and values representing the tally of the key that was specified:"
   ]
  },
  {
   "cell_type": "code",
   "execution_count": null,
   "id": "f2bc2618-39de-4b5b-9c16-f26d02256d28",
   "metadata": {},
   "outputs": [],
   "source": [
    "numeric_scenariolist = ScenarioList(\n",
    "    [Scenario({\"a\": 1, \"b\": 1}), Scenario({\"a\": 1, \"b\": 2})]\n",
    ")\n",
    "\n",
    "tallied_scenariolist = numeric_scenariolist.tally(\"b\")\n",
    "tallied_scenariolist"
   ]
  },
  {
   "cell_type": "markdown",
   "id": "fe781216-0f50-4e3d-9c57-b2a8a6458a5f",
   "metadata": {},
   "source": [
    "## Expanding scenarios\n",
    "We can call the `expand()` method on a `ScenarioList` to expand it by a specified field. For example, if the values of a scenario key are a list we can pass that key to the method to generate a `Scenario` for each item in the list:"
   ]
  },
  {
   "cell_type": "markdown",
   "id": "a4b196ce-158b-455a-8faf-50396a697938",
   "metadata": {},
   "source": [
    "## Mutating scenarios\n",
    "We can call the `mutate()` method on a `ScenarioList` to add a key/value to each `Scenario` based on a logical expression:"
   ]
  },
  {
   "cell_type": "code",
   "execution_count": null,
   "id": "6fb91031-fa6e-46b1-a69e-0e47da65d310",
   "metadata": {},
   "outputs": [],
   "source": [
    "scenariolist = ScenarioList([Scenario({\"a\": 1, \"b\": 1}), Scenario({\"a\": 1, \"b\": 2})])\n",
    "\n",
    "mutated_scenariolist = scenariolist.mutate(\"c = a + b\")\n",
    "mutated_scenariolist"
   ]
  },
  {
   "cell_type": "markdown",
   "id": "ca93523f-6f4d-4d64-810e-a348dd226a8f",
   "metadata": {},
   "source": [
    "## Ordering scenarios\n",
    "We can call the `order_by()` method on a `ScenarioList` to order the scenarios by a field:"
   ]
  },
  {
   "cell_type": "code",
   "execution_count": null,
   "id": "6aca1f0d-548f-4998-bbcb-3a5258d64842",
   "metadata": {},
   "outputs": [],
   "source": [
    "unordered_scenariolist = ScenarioList(\n",
    "    [Scenario({\"a\": 1, \"b\": 1}), Scenario({\"a\": 1, \"b\": 2})]\n",
    ")\n",
    "\n",
    "ordered_scenariolist = unordered_scenariolist.order_by(\"b\")\n",
    "ordered_scenariolist"
   ]
  },
  {
   "cell_type": "markdown",
   "id": "69053d8a-5263-4062-abda-40fcd625f73c",
   "metadata": {},
   "source": [
    "## Filtering scenarios\n",
    "We can call the `filter()` method on a `ScenarioList` to filer scenarios based on a conditional expression."
   ]
  },
  {
   "cell_type": "code",
   "execution_count": null,
   "id": "5bb374dd-9400-4376-b289-ba2707de7945",
   "metadata": {},
   "outputs": [],
   "source": [
    "unfiltered_scenariolist = ScenarioList(\n",
    "    [Scenario({\"a\": 1, \"b\": 1}), Scenario({\"a\": 1, \"b\": 2})]\n",
    ")\n",
    "\n",
    "filtered_scenariolist = unfiltered_scenariolist.filter(\"b == 2\")\n",
    "filtered_scenariolist"
   ]
  },
  {
   "cell_type": "markdown",
   "id": "707c2795-6647-4946-876a-c7500e421b41",
   "metadata": {},
   "source": [
    "## Create scenarios from a list\n",
    "We can call the `from_list()` method to create a `ScenarioList` from a list of values and a specified key:"
   ]
  },
  {
   "cell_type": "code",
   "execution_count": null,
   "id": "1141b937-f96d-4e67-a9a7-59005c90b39c",
   "metadata": {},
   "outputs": [],
   "source": [
    "my_list = [\"Apostolos\", \"John\", \"Robin\"]\n",
    "\n",
    "scenariolist = ScenarioList.from_list(\"name\", my_list)\n",
    "scenariolist"
   ]
  },
  {
   "cell_type": "markdown",
   "id": "845929f8-b63e-46af-a210-85fd431aebf1",
   "metadata": {},
   "source": [
    "## Adding a list of values to individual scenarios\n",
    "We can call the `add_list()` method to add values to individual scenarios in a `ScenarioList`:"
   ]
  },
  {
   "cell_type": "code",
   "execution_count": null,
   "id": "2e0e5540-89f7-4cbc-b566-8282473c76a1",
   "metadata": {},
   "outputs": [],
   "source": [
    "scenariolist = ScenarioList(\n",
    "    [Scenario({\"weather\": \"sunny\"}), Scenario({\"weather\": \"rainy\"})]\n",
    ")\n",
    "\n",
    "added_scenariolist = scenariolist.add_list(\"preference\", [\"high\", \"low\"])\n",
    "added_scenariolist"
   ]
  },
  {
   "cell_type": "markdown",
   "id": "5af7f98c-85d7-43d5-9389-3960416b17f3",
   "metadata": {},
   "source": [
    "## Adding values to all scenarios\n",
    "We can call the `add_value()` to add a value to all scenarios in a `ScenarioList`:"
   ]
  },
  {
   "cell_type": "code",
   "execution_count": null,
   "id": "7a1df078-04fd-4126-8f91-99235ae6a569",
   "metadata": {},
   "outputs": [],
   "source": [
    "scenariolist = ScenarioList(\n",
    "    [\n",
    "        Scenario({\"name\": \"Apostolos\"}),\n",
    "        Scenario({\"name\": \"John\"}),\n",
    "        Scenario({\"name\": \"Robin\"}),\n",
    "    ]\n",
    ")\n",
    "\n",
    "added_scenariolist = scenariolist.add_value(\"company\", \"Expected Parrot\")\n",
    "added_scenariolist"
   ]
  },
  {
   "cell_type": "markdown",
   "id": "ce77a691-a00f-4412-8474-94c59cf4e089",
   "metadata": {},
   "source": [
    "## Creating scenarios from a pandas DataFrame\n",
    "We can call the `from_pandas()` method to create a `ScenarioList` from a pandas DataFrame:"
   ]
  },
  {
   "cell_type": "code",
   "execution_count": null,
   "id": "12e23bba-fa5e-48cb-b672-74fbd6606f48",
   "metadata": {},
   "outputs": [],
   "source": [
    "import pandas as pd\n",
    "\n",
    "df = pd.DataFrame(\n",
    "    {\n",
    "        \"name\": [\"Apostolos\", \"John\", \"Robin\"],\n",
    "        \"location\": [\"New York\", \"Cambridge\", \"Cambridge\"],\n",
    "    }\n",
    ")\n",
    "\n",
    "scenariolist = ScenarioList.from_pandas(df)\n",
    "scenariolist"
   ]
  },
  {
   "cell_type": "markdown",
   "id": "4f19da37-da37-4e1b-909a-6d0ee80854ab",
   "metadata": {},
   "source": [
    "## Creating scenarios from a CSV\n",
    "We can call the `from_csv()` method to create a `ScenarioList` from a CSV:"
   ]
  },
  {
   "cell_type": "code",
   "execution_count": null,
   "id": "19a2a9a6-1987-454c-844f-85ee7fc0660f",
   "metadata": {},
   "outputs": [],
   "source": [
    "scenariolist = ScenarioList.from_csv(\"example.csv\")\n",
    "scenariolist"
   ]
  },
  {
   "cell_type": "markdown",
   "id": "106f0508-5aaa-4091-84c0-88b07e95182d",
   "metadata": {},
   "source": [
    "## Turn a ScenarioList into a dictionary\n",
    "We can call the `to_dict()` method to turn a `ScenarioList` into a dictionary:"
   ]
  },
  {
   "cell_type": "code",
   "execution_count": null,
   "id": "695b1b12-13ff-49e9-b067-6cf9c696312f",
   "metadata": {},
   "outputs": [],
   "source": [
    "scenariolist = ScenarioList(\n",
    "    [\n",
    "        Scenario({\"name\": \"Apostolos\"}),\n",
    "        Scenario({\"name\": \"John\"}),\n",
    "        Scenario({\"name\": \"Robin\"}),\n",
    "    ]\n",
    ")\n",
    "\n",
    "dict_scenariolist = scenariolist.to_dict()\n",
    "dict_scenariolist"
   ]
  },
  {
   "cell_type": "markdown",
   "id": "14cf5e27-fca0-49ba-b33a-2314beae758c",
   "metadata": {},
   "source": [
    "## Create a ScenarioList from a dictionary\n",
    "We can call the `from_dict()` method to create a `ScenarioList` from a dictionary. Note that the dictionary must contain a key \"scenarios\":"
   ]
  },
  {
   "cell_type": "markdown",
   "id": "b5293645-b3e2-4486-97f0-85c83bdd5a48",
   "metadata": {},
   "source": [
    "## Turning PDF pages into scenarios\n",
    "We can call the `from_pdf()` method to turn the pages of a PDF or doc into a `ScenarioList`. Here we use it for John's paper <i>\"Large Language Models as Simulated Economic Agents: What Can We Learn from Homo Silicus?\"</i> ([link to paper](https://arxiv.org/pdf/2301.07543)). Note that the keys `filename`, `page` and `text` are automatically specified, so the `question_text` placeholder that we use for the scenarios must be `{{ text }}`:"
   ]
  },
  {
   "cell_type": "code",
   "execution_count": null,
   "id": "9109ed24-02c9-4c41-99e4-8c2954fb530f",
   "metadata": {},
   "outputs": [],
   "source": [
    "pdf_pages_scenariolist = ScenarioList.from_pdf(\"homo_silicus.pdf\")\n",
    "pdf_pages_scenariolist[0:2]  # inspecting the first couple pages as scenarios"
   ]
  },
  {
   "cell_type": "markdown",
   "id": "5c52cfdc-1e03-440f-ba75-c136941f8a80",
   "metadata": {},
   "source": [
    "Example usage:"
   ]
  },
  {
   "cell_type": "markdown",
   "id": "eeecd0de-5337-49a1-8beb-1a1f436c9272",
   "metadata": {},
   "source": [
    "## Turning PDF pages into scenarios\n",
    "We can call the `from_pdf()` method to turn the pages of a PDF or doc into a `ScenarioList`. Here we use it for John's paper <i>\"Large Language Models as Simulated Economic Agents: What Can We Learn from Homo Silicus?\"</i> ([link to paper](https://arxiv.org/pdf/2301.07543)). Note that the keys `filename`, `page` and `text` are automatically specified, so the `question_text` placeholder that we use for the scenarios must be `{{ text }}`:"
   ]
  },
  {
   "cell_type": "code",
   "execution_count": null,
   "id": "8d4a4b04-9129-4303-ad8d-7b8b6e068ea3",
   "metadata": {},
   "outputs": [],
   "source": [
    "homo_silicus_scenariolist = ScenarioList.from_pdf(\"homo_silicus.pdf\")"
   ]
  },
  {
   "cell_type": "markdown",
   "id": "8ee994b3-b3fa-42cf-9351-9d80bddce4f7",
   "metadata": {},
   "source": [
    "Here we inspect a couple pages:"
   ]
  },
  {
   "cell_type": "code",
   "execution_count": null,
   "id": "bef4f468-13bc-4708-bd6b-74f098c8a1bc",
   "metadata": {},
   "outputs": [],
   "source": [
    "homo_silicus_scenariolist[\"scenarios\"][0:2]"
   ]
  },
  {
   "cell_type": "markdown",
   "id": "013b14d0-f9ca-46b1-a8ad-d4efbacfe0d4",
   "metadata": {},
   "source": [
    "Example usage--note that we can [sort results](https://docs.expectedparrot.com/en/latest/results.html#sorting-results) by any component, [filter results](https://docs.expectedparrot.com/en/latest/notebooks/docs_questions.html#Filtering-results) using conditional expressions, and also [limit how many results to display](https://docs.expectedparrot.com/en/latest/results.html#limiting-results):"
   ]
  },
  {
   "cell_type": "code",
   "execution_count": null,
   "id": "8bc68380-83f0-4484-a8ba-9e138a49057c",
   "metadata": {},
   "outputs": [],
   "source": [
    "q = QuestionFreeText(\n",
    "    question_name=\"summarize\", question_text=\"Summarize this page: {{ text }}\"\n",
    ")\n",
    "results = q.by(homo_silicus_scenariolist).run()"
   ]
  },
  {
   "cell_type": "code",
   "execution_count": null,
   "id": "069a33d8-2b6e-4ce9-974b-f39789b8b4ae",
   "metadata": {},
   "outputs": [],
   "source": [
    "(\n",
    "    results.sort_by(\"page\")\n",
    "    .filter(\"page > 1\")\n",
    "    .select(\"page\", \"summarize\")\n",
    "    .print(format=\"rich\", max_rows=3)\n",
    ")"
   ]
  },
  {
   "cell_type": "markdown",
   "id": "04de3a53-8143-4677-8f58-715e879a6887",
   "metadata": {},
   "source": [
    "## Using images as scenarios\n",
    "We can call the `from_image()` method to create a scenario for an image. Here we use it for Figure 1 in the <i>Home Silicus</i> paper.\n",
    "\n",
    "Note that this method must be used with a vision model (e.g., GPT-4o) and does not require the use of a `{{ placeholder }}` in the question text. The scenario keys `file_path` and `encoded_image` are generated automatically:"
   ]
  },
  {
   "cell_type": "code",
   "execution_count": null,
   "id": "51d43987-0716-4dfa-ba6b-f9de3a6d2c32",
   "metadata": {},
   "outputs": [],
   "source": [
    "from edsl import Model\n",
    "\n",
    "model = Model(\"gpt-4o\")"
   ]
  },
  {
   "cell_type": "code",
   "execution_count": null,
   "id": "371f9001-d5e4-46fe-b487-792afad46649",
   "metadata": {},
   "outputs": [],
   "source": [
    "image_scenario = Scenario.from_image(\"homo_silicus_figure1.png\")"
   ]
  },
  {
   "cell_type": "code",
   "execution_count": null,
   "id": "f71785f9-74e1-4980-a48b-aecdf5506223",
   "metadata": {},
   "outputs": [],
   "source": [
    "image_scenario.keys()"
   ]
  },
  {
   "cell_type": "markdown",
   "id": "c3392c42-2fd8-45d4-833c-e8a4435ed803",
   "metadata": {},
   "source": [
    "Example usage:"
   ]
  },
  {
   "cell_type": "code",
   "execution_count": null,
   "id": "43eb415a-130e-4591-b181-87e9d046e35b",
   "metadata": {},
   "outputs": [],
   "source": [
    "q = QuestionFreeText(\n",
    "    question_name=\"figure\",\n",
    "    question_text=\"Explain the graphic on this page.\",  # no scenario placeholder\n",
    ")\n",
    "\n",
    "results = q.by(image_scenario).by(model).run()\n",
    "results.select(\"figure\").print(format=\"rich\")"
   ]
  },
  {
   "cell_type": "code",
   "execution_count": null,
   "id": "885ff13e-9881-40cc-a20c-dc079b0ea7ed",
   "metadata": {},
   "outputs": [],
   "source": [
    "scenariolist = ScenarioList([Scenario({\"a\": 1, \"b\": [1, 2, 3]})])\n",
    "\n",
    "expanded_scenarios = scenariolist.expand(\"b\")\n",
    "expanded_scenarios"
   ]
  },
  {
   "cell_type": "markdown",
   "id": "51ac6653-8356-4ba3-aef2-72c8731bf5ee",
   "metadata": {},
   "source": [
    "## Generating code for scenarios\n",
    "We can call the `code()` method to generate the code for producing scenarios:"
   ]
  },
  {
   "cell_type": "code",
   "execution_count": null,
   "id": "2fbbe33f-eae4-4c95-b815-bdd48492080a",
   "metadata": {},
   "outputs": [],
   "source": [
    "scenariolist = ScenarioList.example()\n",
    "\n",
    "scenariolist_code = scenariolist.code()\n",
    "scenariolist_code"
   ]
  },
  {
   "cell_type": "code",
   "execution_count": null,
   "id": "6b5d458d-6769-4449-a97e-5f74c30d2ec1",
   "metadata": {},
   "outputs": [],
   "source": [
    "from edsl.scenarios.Scenario import Scenario\n",
    "from edsl.scenarios.ScenarioList import ScenarioList\n",
    "\n",
    "scenario_0 = Scenario(\n",
    "    {\"persona\": \"A reseacher studying whether LLMs can be used to generate surveys.\"}\n",
    ")\n",
    "scenario_1 = Scenario(\n",
    "    {\"persona\": \"A reseacher studying whether LLMs can be used to generate surveys.\"}\n",
    ")\n",
    "scenarios = ScenarioList([scenario_0, scenario_1])"
   ]
  },
  {
   "cell_type": "markdown",
   "id": "78fd1408-ac1e-4cab-87fc-e6a80758af61",
   "metadata": {},
   "source": [
    "## Converting a `ScenarioList` into an `AgentList`\n",
    "We can call the `to_agent_list()` method to convert a `ScenarioList` into an `AgentList`. Note that agent `traits` cannot include a \"name\" key as `agent_name` is a separate optional field of `Agent` objects:"
   ]
  },
  {
   "cell_type": "code",
   "execution_count": null,
   "id": "e925684a-c495-4984-93aa-d87efce19369",
   "metadata": {},
   "outputs": [],
   "source": [
    "from edsl import AgentList\n",
    "\n",
    "scenariolist = ScenarioList(\n",
    "    [\n",
    "        Scenario({\"first_name\": \"Apostolos\", \"location\": \"New York\"}),\n",
    "        Scenario({\"first_name\": \"John\", \"location\": \"Cambridge\"}),\n",
    "        Scenario({\"first_name\": \"Robin\", \"location\": \"Cambridge\"}),\n",
    "    ]\n",
    ")\n",
    "\n",
    "agentlist = scenariolist.to_agent_list()\n",
    "agentlist"
   ]
  },
  {
   "cell_type": "markdown",
   "id": "01e88be4-2129-4cfd-ab36-04bad540db53",
   "metadata": {},
   "source": [
    "(Note that scenarios function similarly to `traits` dictionaries that we pass to AI `Agents` that we can use to answer survey questions. [Learn more about designing AI agents](https://docs.expectedparrot.com/en/latest/agents.html) for simulating surveys and experiments.)"
   ]
  }
 ],
 "metadata": {
  "kernelspec": {
   "display_name": "Python 3 (ipykernel)",
   "language": "python",
   "name": "python3"
  },
  "language_info": {
   "codemirror_mode": {
    "name": "ipython",
    "version": 3
   },
   "file_extension": ".py",
   "mimetype": "text/x-python",
   "name": "python",
   "nbconvert_exporter": "python",
   "pygments_lexer": "ipython3",
   "version": "3.11.7"
  }
 },
 "nbformat": 4,
 "nbformat_minor": 5
}
