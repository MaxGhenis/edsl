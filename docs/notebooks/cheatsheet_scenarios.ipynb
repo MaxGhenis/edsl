{
 "cells": [
  {
   "cell_type": "markdown",
   "id": "fb8b90ca-2153-4d39-a765-67e1a6e5946a",
   "metadata": {
    "editable": true,
    "slideshow": {
     "slide_type": ""
    },
    "tags": []
   },
   "source": [
    "# Cheatsheet: Scenarios\n",
    "This notebook provides quick examples of methods for using `Scenario` and `ScenarioList` objects to add data or other content to your [EDSL](https://docs.expectedparrot.com/) survey questions. \n",
    "\n",
    "[EDSL](https://github.com/expectedparrot/edsl) is an open-source Python library for simulating surveys, experiments and other research with AI agents and large language models. It is built by [Expected Parrot](https://www.expectedparrot.com/about) and available under the MIT License. Please see our [documentation page](https://docs.expectedparrot.com/) for information and tutorials on getting started, and more details on [methods for working with scenarios](https://docs.expectedparrot.com/en/latest/scenarios.html) that are shown in this notebook.\n",
    "\n",
    "## Purpose\n",
    "Scenarios allow you to efficiently administer multiple versions of [questions](https://docs.expectedparrot.com/en/latest/questions.html) at once. This can be useful in conducting experiments, [data labeling](https://docs.expectedparrot.com/en/latest/notebooks/data_labeling_example.html) and other tasks where you want to answer the same questions about many different things, such as every piece of data in a dataset, or a collection of texts, websites, images or other content.\n",
    "\n",
    "## Contents\n",
    "In the examples below we demonstrate:\n",
    "\n",
    "* How to inspect, use, create, combine, replicate, modify, sample, slice, chunk, select and drop scenarios.\n",
    "* How to automatically generate scenarios from texts, PDFs, CSVs, webpages, images, dictionaries and lists.\n",
    "* How to use scenarios to add metadata to surveys.\n",
    "* How to generate code for recreating scenarios.\n",
    "* How to use scenarios to design AI agents to answer surveys.\n",
    "\n",
    "Let us know if you do not see a method that you want to use! Please [post a message at our Discord](https://discord.com/invite/mxAYkjfy9m) or send an email to info@expectedparrot.com.\n",
    "\n",
    "## How to use this notebook\n",
    "The examples below can be rerun or modified to use your own questions and data or content. They also include code for posting the objects at the [Coop](https://www.expectedparrot.com/explore): a new platform for creating, storing and sharing LLM-based research using EDSL. \n",
    "\n",
    "Learn more about [using the Coop](https://docs.expectedparrot.com/en/latest/coop.html) to conduct and share research.\n",
    "\n",
    "## Technical setup\n",
    "Before running the code below, ensure that you have:\n",
    "1. [Installed](https://docs.expectedparrot.com/en/latest/installation.html) the EDSL library.\n",
    "2. Created a [Coop account](https://www.expectedparrot.com/login) to activate [remote inference](https://docs.expectedparrot.com/en/latest/remote_inference.html) OR stored your own [API keys](https://docs.expectedparrot.com/en/latest/api_keys.html) for language models that you want to use with EDSL.\n",
    "\n",
    "## Importing the tools\n",
    "We start by importing the relevant tools for working with scenarios:"
   ]
  },
  {
   "cell_type": "code",
   "execution_count": 1,
   "id": "50709c04-a140-4a14-9c6d-8a8371acd94a",
   "metadata": {},
   "outputs": [],
   "source": [
    "from edsl import Scenario, ScenarioList"
   ]
  },
  {
   "cell_type": "markdown",
   "id": "9199db50-c70e-47eb-a301-93f869ab6722",
   "metadata": {},
   "source": [
    "## Inspecting an example\n",
    "A `Scenario` contains a dictionary of keys and values representing data or content to be added to (inserted in) the `question_text` field of a `Question` object. We can call the `example()` method to inspect an example scenario:"
   ]
  },
  {
   "cell_type": "code",
   "execution_count": 2,
   "id": "89747872-2149-4aae-a4b7-4541cfd4ac39",
   "metadata": {},
   "outputs": [
    {
     "data": {
      "text/html": [
       "<div class=\"highlight\"><pre><span></span><span class=\"p\">{</span>\n",
       "<span class=\"w\">    </span><span class=\"nt\">&quot;persona&quot;</span><span class=\"p\">:</span><span class=\"w\"> </span><span class=\"s2\">&quot;A reseacher studying whether LLMs can be used to generate surveys.&quot;</span>\n",
       "<span class=\"p\">}</span>\n",
       "</pre></div>\n"
      ],
      "text/plain": [
       "Scenario({'persona': 'A reseacher studying whether LLMs can be used to generate surveys.'})"
      ]
     },
     "execution_count": 2,
     "metadata": {},
     "output_type": "execute_result"
    }
   ],
   "source": [
    "example_scenario = Scenario.example()\n",
    "example_scenario"
   ]
  },
  {
   "cell_type": "markdown",
   "id": "e7ea1ca8-e988-4521-99c6-387a0ed7a64c",
   "metadata": {},
   "source": [
    "We can also see an example `ScenarioList`, which is a dictionary containing a list of scenarios:"
   ]
  },
  {
   "cell_type": "code",
   "execution_count": 3,
   "id": "34a04dc9-df95-4cc7-aa03-f886d2c7342e",
   "metadata": {},
   "outputs": [
    {
     "data": {
      "text/html": [
       "<div class=\"highlight\"><pre><span></span><span class=\"p\">{</span>\n",
       "<span class=\"w\">    </span><span class=\"nt\">&quot;scenarios&quot;</span><span class=\"p\">:</span><span class=\"w\"> </span><span class=\"p\">[</span>\n",
       "<span class=\"w\">        </span><span class=\"p\">{</span>\n",
       "<span class=\"w\">            </span><span class=\"nt\">&quot;persona&quot;</span><span class=\"p\">:</span><span class=\"w\"> </span><span class=\"s2\">&quot;A reseacher studying whether LLMs can be used to generate surveys.&quot;</span>\n",
       "<span class=\"w\">        </span><span class=\"p\">},</span>\n",
       "<span class=\"w\">        </span><span class=\"p\">{</span>\n",
       "<span class=\"w\">            </span><span class=\"nt\">&quot;persona&quot;</span><span class=\"p\">:</span><span class=\"w\"> </span><span class=\"s2\">&quot;A reseacher studying whether LLMs can be used to generate surveys.&quot;</span>\n",
       "<span class=\"w\">        </span><span class=\"p\">}</span>\n",
       "<span class=\"w\">    </span><span class=\"p\">]</span>\n",
       "<span class=\"p\">}</span>\n",
       "</pre></div>\n"
      ],
      "text/plain": [
       "ScenarioList([Scenario({'persona': 'A reseacher studying whether LLMs can be used to generate surveys.'}), Scenario({'persona': 'A reseacher studying whether LLMs can be used to generate surveys.'})])"
      ]
     },
     "execution_count": 3,
     "metadata": {},
     "output_type": "execute_result"
    }
   ],
   "source": [
    "example_scenariolist = ScenarioList.example()\n",
    "example_scenariolist"
   ]
  },
  {
   "cell_type": "markdown",
   "id": "2962a269-e2d6-4806-bbd2-10f4ea115a40",
   "metadata": {},
   "source": [
    "## Using a Scenario\n",
    "To use a scenario:\n",
    "1. Create a `Question` (or a `Survey` of multiple questions) that includes a `{{ placeholder }}` in the `question_text` for each scenario key.\n",
    "2. Call the `by()` method on the question (or survey) and pass it the scenario (or list of scenarios). A new version of a question is automatically created with each scenario value.\n",
    "3. Call the `run()` method on the question (or survey) to send it to a language model. Responses are returned in a formatted dataset of `Results` that includes details on all components.\n",
    "\n",
    "Here we construct a survey of questions using the example scenario from above, send it to a language model and inspect the results. If [remote inference](https://docs.expectedparrot.com/en/latest/remote_inference.html) is activated, the results are also automatically posted to the Coop. Otherwise, we can post any objects to the Coop by calling the `push()` method on them."
   ]
  },
  {
   "cell_type": "code",
   "execution_count": 4,
   "id": "0fe40743-c051-4f05-b09d-53756b1b1768",
   "metadata": {},
   "outputs": [],
   "source": [
    "# Import question types\n",
    "from edsl import QuestionFreeText, QuestionList, Survey\n",
    "\n",
    "# Create questions in the relevant templates with placeholders for content to be inserted\n",
    "q1 = QuestionFreeText(\n",
    "    question_name = \"background\",\n",
    "    question_text = \"Draft a sample bio for this researcher: {{ persona }}\",\n",
    ")\n",
    "q2 = QuestionList(\n",
    "    question_name = \"interests\",\n",
    "    question_text = \"Identify some potential interests of this researcher: {{ persona }}\",\n",
    ")\n",
    "\n",
    "# Combine questions into a survey to administer them together\n",
    "survey = Survey(questions=[q1, q2])\n",
    "\n",
    "# Run the survey with the scenarios to generate a dataset of results\n",
    "results = survey.by(example_scenario).run()"
   ]
  },
  {
   "cell_type": "markdown",
   "id": "1859c776-01ec-4242-a64e-8a6eb1031397",
   "metadata": {},
   "source": [
    "We have generated the results locally, and can post them and the survey at the Coop by calling the `push()` method, optionally passing a `description` and `visibility` status (default is `unlisted):"
   ]
  },
  {
   "cell_type": "code",
   "execution_count": 5,
   "id": "85597260-2d3f-42a9-b0ce-0d660c31623f",
   "metadata": {
<<<<<<< HEAD
    "editable": true,
    "slideshow": {
     "slide_type": ""
    },
=======
>>>>>>> e2511bc983e2d56c291c74341011e1893447095e
    "tags": [
     "skip-execution"
    ]
   },
   "outputs": [
    {
     "data": {
      "text/plain": [
       "{'description': 'Simple survey using the example scenario for a persona',\n",
       " 'object_type': 'survey',\n",
       " 'url': 'https://www.expectedparrot.com/content/644a4aa8-79b9-4336-b281-4a15e8643ab8',\n",
       " 'uuid': '644a4aa8-79b9-4336-b281-4a15e8643ab8',\n",
       " 'version': '0.1.31.dev4',\n",
       " 'visibility': 'public'}"
      ]
     },
     "execution_count": 5,
     "metadata": {},
     "output_type": "execute_result"
    }
   ],
   "source": [
    "survey.push(description = \"Simple survey using the example scenario for a persona\", visibility = \"public\")"
   ]
  },
  {
   "cell_type": "code",
   "execution_count": 6,
   "id": "4b3aed87-e38e-4d5b-9a69-7f0d2ddd1315",
   "metadata": {
<<<<<<< HEAD
    "editable": true,
    "slideshow": {
     "slide_type": ""
    },
=======
>>>>>>> e2511bc983e2d56c291c74341011e1893447095e
    "tags": [
     "skip-execution"
    ]
   },
   "outputs": [
    {
     "data": {
      "text/plain": [
       "{'description': 'Results of simple survey using the example scenario for a persona',\n",
       " 'object_type': 'results',\n",
       " 'url': 'https://www.expectedparrot.com/content/edc790c1-d95b-4a51-8732-b36ef0977147',\n",
       " 'uuid': 'edc790c1-d95b-4a51-8732-b36ef0977147',\n",
       " 'version': '0.1.31.dev4',\n",
       " 'visibility': 'public'}"
      ]
     },
     "execution_count": 6,
     "metadata": {},
     "output_type": "execute_result"
    }
   ],
   "source": [
    "results.push(description = \"Results of simple survey using the example scenario for a persona\", visibility = \"public\")"
   ]
  },
  {
   "cell_type": "markdown",
   "id": "7c1ca09a-25fa-4605-bce7-16bb81914390",
   "metadata": {},
   "source": [
    "We can analyze the results at the Coop or using built-in [methods for working with results](https://docs.expectedparrot.com/en/latest/results.html) at your workspace:"
   ]
  },
  {
   "cell_type": "code",
   "execution_count": 7,
   "id": "43a03e00-5346-423c-a416-afba1a5c6746",
   "metadata": {},
   "outputs": [
    {
     "data": {
      "text/html": [
       "<pre style=\"white-space:pre;overflow-x:auto;line-height:normal;font-family:Menlo,'DejaVu Sans Mono',consolas,'Courier New',monospace\">┏━━━━━━━━━━━━━━━━━━━━━━━━━━━━━━━━━━━━━┳━━━━━━━━━━━━━━━━━━━━━━━━━━━━━━━━━━━━━┳━━━━━━━━━━━━━━━━━━━━━━━━━━━━━━━━━━━━━┓\n",
       "┃<span style=\"color: #800080; text-decoration-color: #800080; font-weight: bold\"> scenario                            </span>┃<span style=\"color: #800080; text-decoration-color: #800080; font-weight: bold\"> answer                              </span>┃<span style=\"color: #800080; text-decoration-color: #800080; font-weight: bold\"> answer                              </span>┃\n",
       "┃<span style=\"color: #800080; text-decoration-color: #800080; font-weight: bold\"> .persona                            </span>┃<span style=\"color: #800080; text-decoration-color: #800080; font-weight: bold\"> .background                         </span>┃<span style=\"color: #800080; text-decoration-color: #800080; font-weight: bold\"> .interests                          </span>┃\n",
       "┡━━━━━━━━━━━━━━━━━━━━━━━━━━━━━━━━━━━━━╇━━━━━━━━━━━━━━━━━━━━━━━━━━━━━━━━━━━━━╇━━━━━━━━━━━━━━━━━━━━━━━━━━━━━━━━━━━━━┩\n",
       "│<span style=\"color: #7f7f7f; text-decoration-color: #7f7f7f\"> A reseacher studying whether LLMs   </span>│<span style=\"color: #7f7f7f; text-decoration-color: #7f7f7f\"> Dr. Alex Rivera is a pioneering     </span>│<span style=\"color: #7f7f7f; text-decoration-color: #7f7f7f\"> ['natural language processing',     </span>│\n",
       "│<span style=\"color: #7f7f7f; text-decoration-color: #7f7f7f\"> can be used to generate surveys.    </span>│<span style=\"color: #7f7f7f; text-decoration-color: #7f7f7f\"> researcher in the field of          </span>│<span style=\"color: #7f7f7f; text-decoration-color: #7f7f7f\"> 'survey design', 'machine           </span>│\n",
       "│<span style=\"color: #7f7f7f; text-decoration-color: #7f7f7f\">                                     </span>│<span style=\"color: #7f7f7f; text-decoration-color: #7f7f7f\"> artificial intelligence, focusing   </span>│<span style=\"color: #7f7f7f; text-decoration-color: #7f7f7f\"> learning', 'human-computer          </span>│\n",
       "│<span style=\"color: #7f7f7f; text-decoration-color: #7f7f7f\">                                     </span>│<span style=\"color: #7f7f7f; text-decoration-color: #7f7f7f\"> on the capabilities and             </span>│<span style=\"color: #7f7f7f; text-decoration-color: #7f7f7f\"> interaction', 'data collection      </span>│\n",
       "│<span style=\"color: #7f7f7f; text-decoration-color: #7f7f7f\">                                     </span>│<span style=\"color: #7f7f7f; text-decoration-color: #7f7f7f\"> applications of Large Language      </span>│<span style=\"color: #7f7f7f; text-decoration-color: #7f7f7f\"> methods', 'artificial intelligence  </span>│\n",
       "│<span style=\"color: #7f7f7f; text-decoration-color: #7f7f7f\">                                     </span>│<span style=\"color: #7f7f7f; text-decoration-color: #7f7f7f\"> Models (LLMs). With a Ph.D. in      </span>│<span style=\"color: #7f7f7f; text-decoration-color: #7f7f7f\"> ethics', 'response rate             </span>│\n",
       "│<span style=\"color: #7f7f7f; text-decoration-color: #7f7f7f\">                                     </span>│<span style=\"color: #7f7f7f; text-decoration-color: #7f7f7f\"> Computer Science and a passion for  </span>│<span style=\"color: #7f7f7f; text-decoration-color: #7f7f7f\"> optimization', 'text generation']   </span>│\n",
       "│<span style=\"color: #7f7f7f; text-decoration-color: #7f7f7f\">                                     </span>│<span style=\"color: #7f7f7f; text-decoration-color: #7f7f7f\"> advancing AI technology, Dr. Rivera </span>│<span style=\"color: #7f7f7f; text-decoration-color: #7f7f7f\">                                     </span>│\n",
       "│<span style=\"color: #7f7f7f; text-decoration-color: #7f7f7f\">                                     </span>│<span style=\"color: #7f7f7f; text-decoration-color: #7f7f7f\"> has dedicated their career to       </span>│<span style=\"color: #7f7f7f; text-decoration-color: #7f7f7f\">                                     </span>│\n",
       "│<span style=\"color: #7f7f7f; text-decoration-color: #7f7f7f\">                                     </span>│<span style=\"color: #7f7f7f; text-decoration-color: #7f7f7f\"> exploring how LLMs can be utilized  </span>│<span style=\"color: #7f7f7f; text-decoration-color: #7f7f7f\">                                     </span>│\n",
       "│<span style=\"color: #7f7f7f; text-decoration-color: #7f7f7f\">                                     </span>│<span style=\"color: #7f7f7f; text-decoration-color: #7f7f7f\"> to automate and optimize the        </span>│<span style=\"color: #7f7f7f; text-decoration-color: #7f7f7f\">                                     </span>│\n",
       "│<span style=\"color: #7f7f7f; text-decoration-color: #7f7f7f\">                                     </span>│<span style=\"color: #7f7f7f; text-decoration-color: #7f7f7f\"> creation of surveys. Their work     </span>│<span style=\"color: #7f7f7f; text-decoration-color: #7f7f7f\">                                     </span>│\n",
       "│<span style=\"color: #7f7f7f; text-decoration-color: #7f7f7f\">                                     </span>│<span style=\"color: #7f7f7f; text-decoration-color: #7f7f7f\"> investigates the potential for      </span>│<span style=\"color: #7f7f7f; text-decoration-color: #7f7f7f\">                                     </span>│\n",
       "│<span style=\"color: #7f7f7f; text-decoration-color: #7f7f7f\">                                     </span>│<span style=\"color: #7f7f7f; text-decoration-color: #7f7f7f\"> these models to understand nuanced  </span>│<span style=\"color: #7f7f7f; text-decoration-color: #7f7f7f\">                                     </span>│\n",
       "│<span style=\"color: #7f7f7f; text-decoration-color: #7f7f7f\">                                     </span>│<span style=\"color: #7f7f7f; text-decoration-color: #7f7f7f\"> human inquiries and generate        </span>│<span style=\"color: #7f7f7f; text-decoration-color: #7f7f7f\">                                     </span>│\n",
       "│<span style=\"color: #7f7f7f; text-decoration-color: #7f7f7f\">                                     </span>│<span style=\"color: #7f7f7f; text-decoration-color: #7f7f7f\"> questions that capture the depth    </span>│<span style=\"color: #7f7f7f; text-decoration-color: #7f7f7f\">                                     </span>│\n",
       "│<span style=\"color: #7f7f7f; text-decoration-color: #7f7f7f\">                                     </span>│<span style=\"color: #7f7f7f; text-decoration-color: #7f7f7f\"> and complexity of various research  </span>│<span style=\"color: #7f7f7f; text-decoration-color: #7f7f7f\">                                     </span>│\n",
       "│<span style=\"color: #7f7f7f; text-decoration-color: #7f7f7f\">                                     </span>│<span style=\"color: #7f7f7f; text-decoration-color: #7f7f7f\"> topics. Through their innovative    </span>│<span style=\"color: #7f7f7f; text-decoration-color: #7f7f7f\">                                     </span>│\n",
       "│<span style=\"color: #7f7f7f; text-decoration-color: #7f7f7f\">                                     </span>│<span style=\"color: #7f7f7f; text-decoration-color: #7f7f7f\"> studies, Dr. Rivera aims to         </span>│<span style=\"color: #7f7f7f; text-decoration-color: #7f7f7f\">                                     </span>│\n",
       "│<span style=\"color: #7f7f7f; text-decoration-color: #7f7f7f\">                                     </span>│<span style=\"color: #7f7f7f; text-decoration-color: #7f7f7f\"> revolutionize the way data is       </span>│<span style=\"color: #7f7f7f; text-decoration-color: #7f7f7f\">                                     </span>│\n",
       "│<span style=\"color: #7f7f7f; text-decoration-color: #7f7f7f\">                                     </span>│<span style=\"color: #7f7f7f; text-decoration-color: #7f7f7f\"> collected, enhancing the efficiency </span>│<span style=\"color: #7f7f7f; text-decoration-color: #7f7f7f\">                                     </span>│\n",
       "│<span style=\"color: #7f7f7f; text-decoration-color: #7f7f7f\">                                     </span>│<span style=\"color: #7f7f7f; text-decoration-color: #7f7f7f\"> and accuracy of survey-based        </span>│<span style=\"color: #7f7f7f; text-decoration-color: #7f7f7f\">                                     </span>│\n",
       "│<span style=\"color: #7f7f7f; text-decoration-color: #7f7f7f\">                                     </span>│<span style=\"color: #7f7f7f; text-decoration-color: #7f7f7f\"> research.                           </span>│<span style=\"color: #7f7f7f; text-decoration-color: #7f7f7f\">                                     </span>│\n",
       "└─────────────────────────────────────┴─────────────────────────────────────┴─────────────────────────────────────┘\n",
       "</pre>\n"
      ],
      "text/plain": [
       "┏━━━━━━━━━━━━━━━━━━━━━━━━━━━━━━━━━━━━━┳━━━━━━━━━━━━━━━━━━━━━━━━━━━━━━━━━━━━━┳━━━━━━━━━━━━━━━━━━━━━━━━━━━━━━━━━━━━━┓\n",
       "┃\u001b[1;35m \u001b[0m\u001b[1;35mscenario                           \u001b[0m\u001b[1;35m \u001b[0m┃\u001b[1;35m \u001b[0m\u001b[1;35manswer                             \u001b[0m\u001b[1;35m \u001b[0m┃\u001b[1;35m \u001b[0m\u001b[1;35manswer                             \u001b[0m\u001b[1;35m \u001b[0m┃\n",
       "┃\u001b[1;35m \u001b[0m\u001b[1;35m.persona                           \u001b[0m\u001b[1;35m \u001b[0m┃\u001b[1;35m \u001b[0m\u001b[1;35m.background                        \u001b[0m\u001b[1;35m \u001b[0m┃\u001b[1;35m \u001b[0m\u001b[1;35m.interests                         \u001b[0m\u001b[1;35m \u001b[0m┃\n",
       "┡━━━━━━━━━━━━━━━━━━━━━━━━━━━━━━━━━━━━━╇━━━━━━━━━━━━━━━━━━━━━━━━━━━━━━━━━━━━━╇━━━━━━━━━━━━━━━━━━━━━━━━━━━━━━━━━━━━━┩\n",
       "│\u001b[2m \u001b[0m\u001b[2mA reseacher studying whether LLMs  \u001b[0m\u001b[2m \u001b[0m│\u001b[2m \u001b[0m\u001b[2mDr. Alex Rivera is a pioneering    \u001b[0m\u001b[2m \u001b[0m│\u001b[2m \u001b[0m\u001b[2m['natural language processing',    \u001b[0m\u001b[2m \u001b[0m│\n",
       "│\u001b[2m \u001b[0m\u001b[2mcan be used to generate surveys.   \u001b[0m\u001b[2m \u001b[0m│\u001b[2m \u001b[0m\u001b[2mresearcher in the field of         \u001b[0m\u001b[2m \u001b[0m│\u001b[2m \u001b[0m\u001b[2m'survey design', 'machine          \u001b[0m\u001b[2m \u001b[0m│\n",
       "│\u001b[2m                                     \u001b[0m│\u001b[2m \u001b[0m\u001b[2martificial intelligence, focusing  \u001b[0m\u001b[2m \u001b[0m│\u001b[2m \u001b[0m\u001b[2mlearning', 'human-computer         \u001b[0m\u001b[2m \u001b[0m│\n",
       "│\u001b[2m                                     \u001b[0m│\u001b[2m \u001b[0m\u001b[2mon the capabilities and            \u001b[0m\u001b[2m \u001b[0m│\u001b[2m \u001b[0m\u001b[2minteraction', 'data collection     \u001b[0m\u001b[2m \u001b[0m│\n",
       "│\u001b[2m                                     \u001b[0m│\u001b[2m \u001b[0m\u001b[2mapplications of Large Language     \u001b[0m\u001b[2m \u001b[0m│\u001b[2m \u001b[0m\u001b[2mmethods', 'artificial intelligence \u001b[0m\u001b[2m \u001b[0m│\n",
       "│\u001b[2m                                     \u001b[0m│\u001b[2m \u001b[0m\u001b[2mModels (LLMs). With a Ph.D. in     \u001b[0m\u001b[2m \u001b[0m│\u001b[2m \u001b[0m\u001b[2methics', 'response rate            \u001b[0m\u001b[2m \u001b[0m│\n",
       "│\u001b[2m                                     \u001b[0m│\u001b[2m \u001b[0m\u001b[2mComputer Science and a passion for \u001b[0m\u001b[2m \u001b[0m│\u001b[2m \u001b[0m\u001b[2moptimization', 'text generation']  \u001b[0m\u001b[2m \u001b[0m│\n",
       "│\u001b[2m                                     \u001b[0m│\u001b[2m \u001b[0m\u001b[2madvancing AI technology, Dr. Rivera\u001b[0m\u001b[2m \u001b[0m│\u001b[2m                                     \u001b[0m│\n",
       "│\u001b[2m                                     \u001b[0m│\u001b[2m \u001b[0m\u001b[2mhas dedicated their career to      \u001b[0m\u001b[2m \u001b[0m│\u001b[2m                                     \u001b[0m│\n",
       "│\u001b[2m                                     \u001b[0m│\u001b[2m \u001b[0m\u001b[2mexploring how LLMs can be utilized \u001b[0m\u001b[2m \u001b[0m│\u001b[2m                                     \u001b[0m│\n",
       "│\u001b[2m                                     \u001b[0m│\u001b[2m \u001b[0m\u001b[2mto automate and optimize the       \u001b[0m\u001b[2m \u001b[0m│\u001b[2m                                     \u001b[0m│\n",
       "│\u001b[2m                                     \u001b[0m│\u001b[2m \u001b[0m\u001b[2mcreation of surveys. Their work    \u001b[0m\u001b[2m \u001b[0m│\u001b[2m                                     \u001b[0m│\n",
       "│\u001b[2m                                     \u001b[0m│\u001b[2m \u001b[0m\u001b[2minvestigates the potential for     \u001b[0m\u001b[2m \u001b[0m│\u001b[2m                                     \u001b[0m│\n",
       "│\u001b[2m                                     \u001b[0m│\u001b[2m \u001b[0m\u001b[2mthese models to understand nuanced \u001b[0m\u001b[2m \u001b[0m│\u001b[2m                                     \u001b[0m│\n",
       "│\u001b[2m                                     \u001b[0m│\u001b[2m \u001b[0m\u001b[2mhuman inquiries and generate       \u001b[0m\u001b[2m \u001b[0m│\u001b[2m                                     \u001b[0m│\n",
       "│\u001b[2m                                     \u001b[0m│\u001b[2m \u001b[0m\u001b[2mquestions that capture the depth   \u001b[0m\u001b[2m \u001b[0m│\u001b[2m                                     \u001b[0m│\n",
       "│\u001b[2m                                     \u001b[0m│\u001b[2m \u001b[0m\u001b[2mand complexity of various research \u001b[0m\u001b[2m \u001b[0m│\u001b[2m                                     \u001b[0m│\n",
       "│\u001b[2m                                     \u001b[0m│\u001b[2m \u001b[0m\u001b[2mtopics. Through their innovative   \u001b[0m\u001b[2m \u001b[0m│\u001b[2m                                     \u001b[0m│\n",
       "│\u001b[2m                                     \u001b[0m│\u001b[2m \u001b[0m\u001b[2mstudies, Dr. Rivera aims to        \u001b[0m\u001b[2m \u001b[0m│\u001b[2m                                     \u001b[0m│\n",
       "│\u001b[2m                                     \u001b[0m│\u001b[2m \u001b[0m\u001b[2mrevolutionize the way data is      \u001b[0m\u001b[2m \u001b[0m│\u001b[2m                                     \u001b[0m│\n",
       "│\u001b[2m                                     \u001b[0m│\u001b[2m \u001b[0m\u001b[2mcollected, enhancing the efficiency\u001b[0m\u001b[2m \u001b[0m│\u001b[2m                                     \u001b[0m│\n",
       "│\u001b[2m                                     \u001b[0m│\u001b[2m \u001b[0m\u001b[2mand accuracy of survey-based       \u001b[0m\u001b[2m \u001b[0m│\u001b[2m                                     \u001b[0m│\n",
       "│\u001b[2m                                     \u001b[0m│\u001b[2m \u001b[0m\u001b[2mresearch.                          \u001b[0m\u001b[2m \u001b[0m│\u001b[2m                                     \u001b[0m│\n",
       "└─────────────────────────────────────┴─────────────────────────────────────┴─────────────────────────────────────┘\n"
      ]
     },
     "metadata": {},
     "output_type": "display_data"
    }
   ],
   "source": [
    "# Print a table of selected components of the results\n",
    "results.select(\"persona\", \"background\", \"interests\").print(format=\"rich\")"
   ]
  },
  {
   "cell_type": "markdown",
   "id": "6fe06b36-515e-4011-b8d1-79d205ee65c4",
   "metadata": {},
   "source": [
    "## Creating a Scenario\n",
    "We create a scenario by passing a dictionary to a `Scenario` object:"
   ]
  },
  {
   "cell_type": "code",
   "execution_count": 8,
   "id": "49bb76da-cc9e-4e13-8ecc-3da82866f428",
   "metadata": {
    "editable": true,
    "slideshow": {
     "slide_type": ""
    },
    "tags": []
   },
   "outputs": [
    {
     "data": {
      "text/html": [
       "<div class=\"highlight\"><pre><span></span><span class=\"p\">{</span>\n",
       "<span class=\"w\">    </span><span class=\"nt\">&quot;weather&quot;</span><span class=\"p\">:</span><span class=\"w\"> </span><span class=\"s2\">&quot;sunny&quot;</span>\n",
       "<span class=\"p\">}</span>\n",
       "</pre></div>\n"
      ],
      "text/plain": [
       "Scenario({'weather': 'sunny'})"
      ]
     },
     "execution_count": 8,
     "metadata": {},
     "output_type": "execute_result"
    }
   ],
   "source": [
    "weather_scenario = Scenario({\"weather\": \"sunny\"})\n",
    "weather_scenario"
   ]
  },
  {
   "cell_type": "markdown",
   "id": "8e9b016f-b470-4dcc-874c-d5df9e806ac9",
   "metadata": {},
   "source": [
    "## Creating a ScenarioList\n",
    "It can be useful to create a set of scenarios all at once. This can be done by constructing a list of `Scenario` objects or a `ScenarioList`. Compare a list of `Scenario` objects:"
   ]
  },
  {
   "cell_type": "code",
   "execution_count": 9,
   "id": "1dfcc985-7020-48f7-8bf8-cacd2c026b7d",
   "metadata": {
    "editable": true,
    "slideshow": {
     "slide_type": ""
    },
    "tags": []
   },
   "outputs": [
    {
     "data": {
      "text/plain": [
       "[Scenario({'weather': 'sunny'}),\n",
       " Scenario({'weather': 'cloudy'}),\n",
       " Scenario({'weather': 'rainy'}),\n",
       " Scenario({'weather': 'snowy'})]"
      ]
     },
     "execution_count": 9,
     "metadata": {},
     "output_type": "execute_result"
    }
   ],
   "source": [
    "weather_scenarios = [\n",
    "    Scenario({\"weather\": w}) for w in [\"sunny\", \"cloudy\", \"rainy\", \"snowy\"]\n",
    "]\n",
    "weather_scenarios"
   ]
  },
  {
   "cell_type": "markdown",
   "id": "aca9fb74-3f1c-4b90-9360-b2e09d662869",
   "metadata": {},
   "source": [
    "Alternatively, we can create a `ScenarioList` which has a key `scenarios` and a list of scenarios as the values:"
   ]
  },
  {
   "cell_type": "code",
   "execution_count": 10,
   "id": "bfbbc8f1-c409-47c0-9c3a-027128d70389",
   "metadata": {},
   "outputs": [
    {
     "data": {
      "text/html": [
       "<div class=\"highlight\"><pre><span></span><span class=\"p\">{</span>\n",
       "<span class=\"w\">    </span><span class=\"nt\">&quot;scenarios&quot;</span><span class=\"p\">:</span><span class=\"w\"> </span><span class=\"p\">[</span>\n",
       "<span class=\"w\">        </span><span class=\"p\">{</span>\n",
       "<span class=\"w\">            </span><span class=\"nt\">&quot;persona&quot;</span><span class=\"p\">:</span><span class=\"w\"> </span><span class=\"s2\">&quot;A reseacher studying whether LLMs can be used to generate surveys.&quot;</span>\n",
       "<span class=\"w\">        </span><span class=\"p\">},</span>\n",
       "<span class=\"w\">        </span><span class=\"p\">{</span>\n",
       "<span class=\"w\">            </span><span class=\"nt\">&quot;persona&quot;</span><span class=\"p\">:</span><span class=\"w\"> </span><span class=\"s2\">&quot;A reseacher studying whether LLMs can be used to generate surveys.&quot;</span>\n",
       "<span class=\"w\">        </span><span class=\"p\">}</span>\n",
       "<span class=\"w\">    </span><span class=\"p\">]</span>\n",
       "<span class=\"p\">}</span>\n",
       "</pre></div>\n"
      ],
      "text/plain": [
       "ScenarioList([Scenario({'persona': 'A reseacher studying whether LLMs can be used to generate surveys.'}), Scenario({'persona': 'A reseacher studying whether LLMs can be used to generate surveys.'})])"
      ]
     },
     "execution_count": 10,
     "metadata": {},
     "output_type": "execute_result"
    }
   ],
   "source": [
    "example_scenariolist = ScenarioList.example()\n",
    "example_scenariolist"
   ]
  },
  {
   "cell_type": "code",
   "execution_count": 11,
   "id": "aa7f08c0-5ce6-473a-82f0-0f0fc3367dca",
   "metadata": {
    "editable": true,
    "slideshow": {
     "slide_type": ""
    },
    "tags": []
   },
   "outputs": [
    {
     "data": {
      "text/html": [
       "<div class=\"highlight\"><pre><span></span><span class=\"p\">{</span>\n",
       "<span class=\"w\">    </span><span class=\"nt\">&quot;scenarios&quot;</span><span class=\"p\">:</span><span class=\"w\"> </span><span class=\"p\">[</span>\n",
       "<span class=\"w\">        </span><span class=\"p\">{</span>\n",
       "<span class=\"w\">            </span><span class=\"nt\">&quot;weather&quot;</span><span class=\"p\">:</span><span class=\"w\"> </span><span class=\"s2\">&quot;sunny&quot;</span>\n",
       "<span class=\"w\">        </span><span class=\"p\">},</span>\n",
       "<span class=\"w\">        </span><span class=\"p\">{</span>\n",
       "<span class=\"w\">            </span><span class=\"nt\">&quot;weather&quot;</span><span class=\"p\">:</span><span class=\"w\"> </span><span class=\"s2\">&quot;cloudy&quot;</span>\n",
       "<span class=\"w\">        </span><span class=\"p\">},</span>\n",
       "<span class=\"w\">        </span><span class=\"p\">{</span>\n",
       "<span class=\"w\">            </span><span class=\"nt\">&quot;weather&quot;</span><span class=\"p\">:</span><span class=\"w\"> </span><span class=\"s2\">&quot;rainy&quot;</span>\n",
       "<span class=\"w\">        </span><span class=\"p\">},</span>\n",
       "<span class=\"w\">        </span><span class=\"p\">{</span>\n",
       "<span class=\"w\">            </span><span class=\"nt\">&quot;weather&quot;</span><span class=\"p\">:</span><span class=\"w\"> </span><span class=\"s2\">&quot;snowy&quot;</span>\n",
       "<span class=\"w\">        </span><span class=\"p\">}</span>\n",
       "<span class=\"w\">    </span><span class=\"p\">]</span>\n",
       "<span class=\"p\">}</span>\n",
       "</pre></div>\n"
      ],
      "text/plain": [
       "ScenarioList([Scenario({'weather': 'sunny'}), Scenario({'weather': 'cloudy'}), Scenario({'weather': 'rainy'}), Scenario({'weather': 'snowy'})])"
      ]
     },
     "execution_count": 11,
     "metadata": {},
     "output_type": "execute_result"
    }
   ],
   "source": [
    "weather_scenariolist = ScenarioList(\n",
    "    [Scenario({\"weather\": w}) for w in [\"sunny\", \"cloudy\", \"rainy\", \"snowy\"]]\n",
    ")\n",
    "weather_scenariolist"
   ]
  },
  {
   "cell_type": "code",
   "execution_count": 12,
   "id": "731d14b8-ecf9-4fc4-a930-673c427e6f32",
   "metadata": {
<<<<<<< HEAD
    "editable": true,
    "slideshow": {
     "slide_type": ""
    },
=======
>>>>>>> e2511bc983e2d56c291c74341011e1893447095e
    "tags": [
     "skip-execution"
    ]
   },
   "outputs": [
    {
     "data": {
      "text/plain": [
       "{'description': 'Weather scenarios',\n",
       " 'object_type': 'scenario_list',\n",
       " 'url': 'https://www.expectedparrot.com/content/5e65491e-6bdf-48f6-b2e0-55e1d2dd02d2',\n",
       " 'uuid': '5e65491e-6bdf-48f6-b2e0-55e1d2dd02d2',\n",
       " 'version': '0.1.31.dev4',\n",
       " 'visibility': 'public'}"
      ]
     },
     "execution_count": 12,
     "metadata": {},
     "output_type": "execute_result"
    }
   ],
   "source": [
    "weather_scenariolist.push(description=\"Weather scenarios\", visibility=\"public\")"
   ]
  },
  {
   "cell_type": "markdown",
   "id": "2509c519-a7a6-4207-a73a-383a6ec3ef16",
   "metadata": {},
   "source": [
    "## Combining scenarios\n",
    "We can add scenarios together to create a single new scenario with an extended dictionary:"
   ]
  },
  {
   "cell_type": "code",
   "execution_count": 13,
   "id": "4ed72054-a95a-4420-80e7-6d5511b6618a",
   "metadata": {},
   "outputs": [
    {
     "data": {
      "text/html": [
       "<div class=\"highlight\"><pre><span></span><span class=\"p\">{</span>\n",
       "<span class=\"w\">    </span><span class=\"nt\">&quot;food&quot;</span><span class=\"p\">:</span><span class=\"w\"> </span><span class=\"s2\">&quot;apple&quot;</span><span class=\"p\">,</span>\n",
       "<span class=\"w\">    </span><span class=\"nt\">&quot;drink&quot;</span><span class=\"p\">:</span><span class=\"w\"> </span><span class=\"s2\">&quot;juice&quot;</span>\n",
       "<span class=\"p\">}</span>\n",
       "</pre></div>\n"
      ],
      "text/plain": [
       "Scenario({'food': 'apple', 'drink': 'juice'})"
      ]
     },
     "execution_count": 13,
     "metadata": {},
     "output_type": "execute_result"
    }
   ],
   "source": [
    "scenario1 = Scenario({\"food\": \"apple\"})\n",
    "scenario2 = Scenario({\"drink\": \"juice\"})\n",
    "\n",
    "snack_scenario = scenario1 + scenario2\n",
    "snack_scenario"
   ]
  },
  {
   "cell_type": "markdown",
   "id": "e563279a-1e3c-43ef-9481-df3212746122",
   "metadata": {},
   "source": [
    "## Replicating scenarios\n",
    "We can replicate a scenario to create a `ScenarioList`:"
   ]
  },
  {
   "cell_type": "code",
   "execution_count": 14,
   "id": "2c05b099-3be8-4efa-a1e6-2a94dc2cdc7a",
   "metadata": {},
   "outputs": [
    {
     "data": {
      "text/html": [
       "<div class=\"highlight\"><pre><span></span><span class=\"p\">{</span>\n",
       "<span class=\"w\">    </span><span class=\"nt\">&quot;scenarios&quot;</span><span class=\"p\">:</span><span class=\"w\"> </span><span class=\"p\">[</span>\n",
       "<span class=\"w\">        </span><span class=\"p\">{</span>\n",
       "<span class=\"w\">            </span><span class=\"nt\">&quot;persona&quot;</span><span class=\"p\">:</span><span class=\"w\"> </span><span class=\"s2\">&quot;A reseacher studying whether LLMs can be used to generate surveys.&quot;</span>\n",
       "<span class=\"w\">        </span><span class=\"p\">},</span>\n",
       "<span class=\"w\">        </span><span class=\"p\">{</span>\n",
       "<span class=\"w\">            </span><span class=\"nt\">&quot;persona&quot;</span><span class=\"p\">:</span><span class=\"w\"> </span><span class=\"s2\">&quot;A reseacher studying whether LLMs can be used to generate surveys.&quot;</span>\n",
       "<span class=\"w\">        </span><span class=\"p\">},</span>\n",
       "<span class=\"w\">        </span><span class=\"p\">{</span>\n",
       "<span class=\"w\">            </span><span class=\"nt\">&quot;persona&quot;</span><span class=\"p\">:</span><span class=\"w\"> </span><span class=\"s2\">&quot;A reseacher studying whether LLMs can be used to generate surveys.&quot;</span>\n",
       "<span class=\"w\">        </span><span class=\"p\">}</span>\n",
       "<span class=\"w\">    </span><span class=\"p\">]</span>\n",
       "<span class=\"p\">}</span>\n",
       "</pre></div>\n"
      ],
      "text/plain": [
       "ScenarioList([Scenario({'persona': 'A reseacher studying whether LLMs can be used to generate surveys.'}), Scenario({'persona': 'A reseacher studying whether LLMs can be used to generate surveys.'}), Scenario({'persona': 'A reseacher studying whether LLMs can be used to generate surveys.'})])"
      ]
     },
     "execution_count": 14,
     "metadata": {},
     "output_type": "execute_result"
    }
   ],
   "source": [
    "personas_scenariolist = Scenario.example().replicate(n=3)\n",
    "personas_scenariolist"
   ]
  },
  {
   "cell_type": "markdown",
   "id": "1152d800-889b-4eae-9f24-f4b0aba1782f",
   "metadata": {},
   "source": [
    "## Renaming scenarios\n",
    "We can call the `rename()` method to rename the fields (keys) of a `Scenario`:"
   ]
  },
  {
   "cell_type": "code",
   "execution_count": 15,
   "id": "b2fadc80-24bf-4c93-a667-0df28ebcd5e2",
   "metadata": {},
   "outputs": [
    {
     "data": {
      "text/html": [
       "<div class=\"highlight\"><pre><span></span><span class=\"p\">{</span>\n",
       "<span class=\"w\">    </span><span class=\"nt\">&quot;role&quot;</span><span class=\"p\">:</span><span class=\"w\"> </span><span class=\"s2\">&quot;A reseacher studying whether LLMs can be used to generate surveys.&quot;</span>\n",
       "<span class=\"p\">}</span>\n",
       "</pre></div>\n"
      ],
      "text/plain": [
       "Scenario({'role': 'A reseacher studying whether LLMs can be used to generate surveys.'})"
      ]
     },
     "execution_count": 15,
     "metadata": {},
     "output_type": "execute_result"
    }
   ],
   "source": [
    "role_scenario = Scenario.example().rename({\"persona\": \"role\"})\n",
    "role_scenario"
   ]
  },
  {
   "cell_type": "markdown",
   "id": "9f7f2235-1462-4ef1-8952-4f22b80fc0bc",
   "metadata": {},
   "source": [
    "The method can also be called on a `ScenarioList`:"
   ]
  },
  {
   "cell_type": "code",
   "execution_count": 16,
   "id": "a3b4f819-1919-4c46-8534-4be14eaebf23",
   "metadata": {},
   "outputs": [
    {
     "data": {
      "text/html": [
       "<div class=\"highlight\"><pre><span></span><span class=\"p\">{</span>\n",
       "<span class=\"w\">    </span><span class=\"nt\">&quot;scenarios&quot;</span><span class=\"p\">:</span><span class=\"w\"> </span><span class=\"p\">[</span>\n",
       "<span class=\"w\">        </span><span class=\"p\">{</span>\n",
       "<span class=\"w\">            </span><span class=\"nt\">&quot;first_name&quot;</span><span class=\"p\">:</span><span class=\"w\"> </span><span class=\"s2\">&quot;Apostolos&quot;</span>\n",
       "<span class=\"w\">        </span><span class=\"p\">},</span>\n",
       "<span class=\"w\">        </span><span class=\"p\">{</span>\n",
       "<span class=\"w\">            </span><span class=\"nt\">&quot;first_name&quot;</span><span class=\"p\">:</span><span class=\"w\"> </span><span class=\"s2\">&quot;John&quot;</span>\n",
       "<span class=\"w\">        </span><span class=\"p\">},</span>\n",
       "<span class=\"w\">        </span><span class=\"p\">{</span>\n",
       "<span class=\"w\">            </span><span class=\"nt\">&quot;first_name&quot;</span><span class=\"p\">:</span><span class=\"w\"> </span><span class=\"s2\">&quot;Robin&quot;</span>\n",
       "<span class=\"w\">        </span><span class=\"p\">}</span>\n",
       "<span class=\"w\">    </span><span class=\"p\">]</span>\n",
       "<span class=\"p\">}</span>\n",
       "</pre></div>\n"
      ],
      "text/plain": [
       "ScenarioList([Scenario({'first_name': 'Apostolos'}), Scenario({'first_name': 'John'}), Scenario({'first_name': 'Robin'})])"
      ]
     },
     "execution_count": 16,
     "metadata": {},
     "output_type": "execute_result"
    }
   ],
   "source": [
    "scenariolist = ScenarioList(\n",
    "    [\n",
    "        Scenario({\"name\": \"Apostolos\"}),\n",
    "        Scenario({\"name\": \"John\"}),\n",
    "        Scenario({\"name\": \"Robin\"}),\n",
    "    ]\n",
    ")\n",
    "\n",
    "renamed_scenariolist = scenariolist.rename({\"name\": \"first_name\"})\n",
    "renamed_scenariolist"
   ]
  },
  {
   "cell_type": "markdown",
   "id": "563b9726-5262-4f62-a9dd-0fe6febfe7d6",
   "metadata": {},
   "source": [
    "## Sampling\n",
    "We can call the `sample()` method to take a sample from a `ScenarioList`:"
   ]
  },
  {
   "cell_type": "code",
   "execution_count": 17,
   "id": "a4a177a3-7ce5-48a0-be38-b0a3ecd698f3",
   "metadata": {},
   "outputs": [
    {
     "data": {
      "text/html": [
       "<div class=\"highlight\"><pre><span></span><span class=\"p\">{</span>\n",
       "<span class=\"w\">    </span><span class=\"nt\">&quot;scenarios&quot;</span><span class=\"p\">:</span><span class=\"w\"> </span><span class=\"p\">[</span>\n",
       "<span class=\"w\">        </span><span class=\"p\">{</span>\n",
       "<span class=\"w\">            </span><span class=\"nt\">&quot;weather&quot;</span><span class=\"p\">:</span><span class=\"w\"> </span><span class=\"s2\">&quot;cloudy&quot;</span>\n",
       "<span class=\"w\">        </span><span class=\"p\">},</span>\n",
       "<span class=\"w\">        </span><span class=\"p\">{</span>\n",
       "<span class=\"w\">            </span><span class=\"nt\">&quot;weather&quot;</span><span class=\"p\">:</span><span class=\"w\"> </span><span class=\"s2\">&quot;sunny&quot;</span>\n",
       "<span class=\"w\">        </span><span class=\"p\">}</span>\n",
       "<span class=\"w\">    </span><span class=\"p\">]</span>\n",
       "<span class=\"p\">}</span>\n",
       "</pre></div>\n"
      ],
      "text/plain": [
       "ScenarioList([Scenario({'weather': 'cloudy'}), Scenario({'weather': 'sunny'})])"
      ]
     },
     "execution_count": 17,
     "metadata": {},
     "output_type": "execute_result"
    }
   ],
   "source": [
    "weather_scenariolist = ScenarioList(\n",
    "    [Scenario({\"weather\": w}) for w in [\"sunny\", \"cloudy\", \"rainy\", \"snowy\"]]\n",
    ")\n",
    "\n",
    "sample = weather_scenariolist.sample(n=2)\n",
    "sample"
   ]
  },
  {
   "cell_type": "markdown",
   "id": "210d76a5-fbff-4c4b-94a6-93ea66cc727d",
   "metadata": {},
   "source": [
    "## Selecting and dropping scenarios\n",
    "We can call the `select()` and `drop()` methods on a `ScenarioList` to include and exclude specified fields from the scenarios:"
   ]
  },
  {
   "cell_type": "code",
   "execution_count": 18,
   "id": "948582c4-f77e-43c2-8911-5b018e8b5cd8",
   "metadata": {},
   "outputs": [
    {
     "data": {
      "text/html": [
       "<div class=\"highlight\"><pre><span></span><span class=\"p\">{</span>\n",
       "<span class=\"w\">    </span><span class=\"nt\">&quot;scenarios&quot;</span><span class=\"p\">:</span><span class=\"w\"> </span><span class=\"p\">[</span>\n",
       "<span class=\"w\">        </span><span class=\"p\">{</span>\n",
       "<span class=\"w\">            </span><span class=\"nt\">&quot;food&quot;</span><span class=\"p\">:</span><span class=\"w\"> </span><span class=\"s2\">&quot;apple&quot;</span>\n",
       "<span class=\"w\">        </span><span class=\"p\">},</span>\n",
       "<span class=\"w\">        </span><span class=\"p\">{</span>\n",
       "<span class=\"w\">            </span><span class=\"nt\">&quot;food&quot;</span><span class=\"p\">:</span><span class=\"w\"> </span><span class=\"s2\">&quot;banana&quot;</span>\n",
       "<span class=\"w\">        </span><span class=\"p\">}</span>\n",
       "<span class=\"w\">    </span><span class=\"p\">]</span>\n",
       "<span class=\"p\">}</span>\n",
       "</pre></div>\n"
      ],
      "text/plain": [
       "ScenarioList([Scenario({'food': 'apple'}), Scenario({'food': 'banana'})])"
      ]
     },
     "execution_count": 18,
     "metadata": {},
     "output_type": "execute_result"
    }
   ],
   "source": [
    "snacks_scenariolist = ScenarioList(\n",
    "    [\n",
    "        Scenario({\"food\": \"apple\", \"drink\": \"water\"}),\n",
    "        Scenario({\"food\": \"banana\", \"drink\": \"milk\"}),\n",
    "    ]\n",
    ")\n",
    "\n",
    "food_scenariolist = snacks_scenariolist.select(\"food\")\n",
    "food_scenariolist"
   ]
  },
  {
   "cell_type": "code",
   "execution_count": 19,
   "id": "edef31a5-ec16-4aff-94dd-b87315726158",
   "metadata": {},
   "outputs": [
    {
     "data": {
      "text/html": [
       "<div class=\"highlight\"><pre><span></span><span class=\"p\">{</span>\n",
       "<span class=\"w\">    </span><span class=\"nt\">&quot;scenarios&quot;</span><span class=\"p\">:</span><span class=\"w\"> </span><span class=\"p\">[</span>\n",
       "<span class=\"w\">        </span><span class=\"p\">{</span>\n",
       "<span class=\"w\">            </span><span class=\"nt\">&quot;drink&quot;</span><span class=\"p\">:</span><span class=\"w\"> </span><span class=\"s2\">&quot;water&quot;</span>\n",
       "<span class=\"w\">        </span><span class=\"p\">},</span>\n",
       "<span class=\"w\">        </span><span class=\"p\">{</span>\n",
       "<span class=\"w\">            </span><span class=\"nt\">&quot;drink&quot;</span><span class=\"p\">:</span><span class=\"w\"> </span><span class=\"s2\">&quot;milk&quot;</span>\n",
       "<span class=\"w\">        </span><span class=\"p\">}</span>\n",
       "<span class=\"w\">    </span><span class=\"p\">]</span>\n",
       "<span class=\"p\">}</span>\n",
       "</pre></div>\n"
      ],
      "text/plain": [
       "ScenarioList([Scenario({'drink': 'water'}), Scenario({'drink': 'milk'})])"
      ]
     },
     "execution_count": 19,
     "metadata": {},
     "output_type": "execute_result"
    }
   ],
   "source": [
    "drink_scenariolist = snacks_scenariolist.drop(\"food\")\n",
    "drink_scenariolist"
   ]
  },
  {
   "cell_type": "markdown",
   "id": "448a029f-883b-407e-9744-e1444e500dc9",
   "metadata": {},
   "source": [
    "## Adding metadata to scenarios\n",
    "Note that we can create fields in scenarios without including them in the `question_text`. This will cause the fields to be present in the `Results` dataset, which can be useful for adding metadata to your questions and results without needing to recombine data sources. [See more examples here](https://docs.expectedparrot.com/en/latest/notebooks/adding_metadata.html).\n",
    "\n",
    "Example usage:"
   ]
  },
  {
   "cell_type": "code",
   "execution_count": 20,
   "id": "d839ec12-87e4-4f87-975d-d6c1bb461958",
   "metadata": {},
   "outputs": [
    {
     "data": {
      "text/html": [
       "<div class=\"highlight\"><pre><span></span><span class=\"p\">{</span>\n",
       "<span class=\"w\">    </span><span class=\"nt\">&quot;scenarios&quot;</span><span class=\"p\">:</span><span class=\"w\"> </span><span class=\"p\">[</span>\n",
       "<span class=\"w\">        </span><span class=\"p\">{</span>\n",
       "<span class=\"w\">            </span><span class=\"nt\">&quot;title&quot;</span><span class=\"p\">:</span><span class=\"w\"> </span><span class=\"s2\">&quot;1999&quot;</span><span class=\"p\">,</span>\n",
       "<span class=\"w\">            </span><span class=\"nt\">&quot;musician&quot;</span><span class=\"p\">:</span><span class=\"w\"> </span><span class=\"s2\">&quot;Prince&quot;</span><span class=\"p\">,</span>\n",
       "<span class=\"w\">            </span><span class=\"nt\">&quot;genre&quot;</span><span class=\"p\">:</span><span class=\"w\"> </span><span class=\"s2\">&quot;pop&quot;</span>\n",
       "<span class=\"w\">        </span><span class=\"p\">},</span>\n",
       "<span class=\"w\">        </span><span class=\"p\">{</span>\n",
       "<span class=\"w\">            </span><span class=\"nt\">&quot;title&quot;</span><span class=\"p\">:</span><span class=\"w\"> </span><span class=\"s2\">&quot;1979&quot;</span><span class=\"p\">,</span>\n",
       "<span class=\"w\">            </span><span class=\"nt\">&quot;musician&quot;</span><span class=\"p\">:</span><span class=\"w\"> </span><span class=\"s2\">&quot;The Smashing Pumpkins&quot;</span><span class=\"p\">,</span>\n",
       "<span class=\"w\">            </span><span class=\"nt\">&quot;genre&quot;</span><span class=\"p\">:</span><span class=\"w\"> </span><span class=\"s2\">&quot;alt&quot;</span>\n",
       "<span class=\"w\">        </span><span class=\"p\">},</span>\n",
       "<span class=\"w\">        </span><span class=\"p\">{</span>\n",
       "<span class=\"w\">            </span><span class=\"nt\">&quot;title&quot;</span><span class=\"p\">:</span><span class=\"w\"> </span><span class=\"s2\">&quot;1901&quot;</span><span class=\"p\">,</span>\n",
       "<span class=\"w\">            </span><span class=\"nt\">&quot;musician&quot;</span><span class=\"p\">:</span><span class=\"w\"> </span><span class=\"s2\">&quot;Phoenix&quot;</span><span class=\"p\">,</span>\n",
       "<span class=\"w\">            </span><span class=\"nt\">&quot;genre&quot;</span><span class=\"p\">:</span><span class=\"w\"> </span><span class=\"s2\">&quot;indie&quot;</span>\n",
       "<span class=\"w\">        </span><span class=\"p\">}</span>\n",
       "<span class=\"w\">    </span><span class=\"p\">]</span>\n",
       "<span class=\"p\">}</span>\n",
       "</pre></div>\n"
      ],
      "text/plain": [
       "ScenarioList([Scenario({'title': '1999', 'musician': 'Prince', 'genre': 'pop'}), Scenario({'title': '1979', 'musician': 'The Smashing Pumpkins', 'genre': 'alt'}), Scenario({'title': '1901', 'musician': 'Phoenix', 'genre': 'indie'})])"
      ]
     },
     "execution_count": 20,
     "metadata": {},
     "output_type": "execute_result"
    }
   ],
   "source": [
    "songs = [\n",
    "    [\"1999\", \"Prince\", \"pop\"],\n",
    "    [\"1979\", \"The Smashing Pumpkins\", \"alt\"],\n",
    "    [\"1901\", \"Phoenix\", \"indie\"],\n",
    "]\n",
    "metadata_scenarios = ScenarioList(\n",
    "    [Scenario({\"title\": t, \"musician\": m, \"genre\": g}) for [t, m, g] in songs]\n",
    ")\n",
    "metadata_scenarios"
   ]
  },
  {
   "cell_type": "code",
   "execution_count": 21,
   "id": "e7d9d6d7-01d3-41c1-81ef-3b0672038db5",
   "metadata": {},
   "outputs": [
    {
     "data": {
      "text/html": [
       "<pre style=\"white-space:pre;overflow-x:auto;line-height:normal;font-family:Menlo,'DejaVu Sans Mono',consolas,'Courier New',monospace\">┏━━━━━━━━━━━━━━━━━━━━━━━┳━━━━━━━━━━┳━━━━━━━━━━┳━━━━━━━━━━━━━━━━━━━━━━━━━━━━━━━━━━━━━━━━━━━━━━━━━━━━━━━━━━━━━━━━━━━┓\n",
       "┃<span style=\"color: #800080; text-decoration-color: #800080; font-weight: bold\"> scenario              </span>┃<span style=\"color: #800080; text-decoration-color: #800080; font-weight: bold\"> scenario </span>┃<span style=\"color: #800080; text-decoration-color: #800080; font-weight: bold\"> scenario </span>┃<span style=\"color: #800080; text-decoration-color: #800080; font-weight: bold\"> answer                                                            </span>┃\n",
       "┃<span style=\"color: #800080; text-decoration-color: #800080; font-weight: bold\"> .musician             </span>┃<span style=\"color: #800080; text-decoration-color: #800080; font-weight: bold\"> .genre   </span>┃<span style=\"color: #800080; text-decoration-color: #800080; font-weight: bold\"> .title   </span>┃<span style=\"color: #800080; text-decoration-color: #800080; font-weight: bold\"> .song                                                             </span>┃\n",
       "┡━━━━━━━━━━━━━━━━━━━━━━━╇━━━━━━━━━━╇━━━━━━━━━━╇━━━━━━━━━━━━━━━━━━━━━━━━━━━━━━━━━━━━━━━━━━━━━━━━━━━━━━━━━━━━━━━━━━━┩\n",
       "│<span style=\"color: #7f7f7f; text-decoration-color: #7f7f7f\"> Prince                </span>│<span style=\"color: #7f7f7f; text-decoration-color: #7f7f7f\"> pop      </span>│<span style=\"color: #7f7f7f; text-decoration-color: #7f7f7f\"> 1999     </span>│<span style=\"color: #7f7f7f; text-decoration-color: #7f7f7f\"> The song '1999' by Prince is about the celebration of life and    </span>│\n",
       "│<span style=\"color: #7f7f7f; text-decoration-color: #7f7f7f\">                       </span>│<span style=\"color: #7f7f7f; text-decoration-color: #7f7f7f\">          </span>│<span style=\"color: #7f7f7f; text-decoration-color: #7f7f7f\">          </span>│<span style=\"color: #7f7f7f; text-decoration-color: #7f7f7f\"> the enjoyment of the present moment. It reflects the desire to    </span>│\n",
       "│<span style=\"color: #7f7f7f; text-decoration-color: #7f7f7f\">                       </span>│<span style=\"color: #7f7f7f; text-decoration-color: #7f7f7f\">          </span>│<span style=\"color: #7f7f7f; text-decoration-color: #7f7f7f\">          </span>│<span style=\"color: #7f7f7f; text-decoration-color: #7f7f7f\"> party and have a good time without worrying about the problems of </span>│\n",
       "│<span style=\"color: #7f7f7f; text-decoration-color: #7f7f7f\">                       </span>│<span style=\"color: #7f7f7f; text-decoration-color: #7f7f7f\">          </span>│<span style=\"color: #7f7f7f; text-decoration-color: #7f7f7f\">          </span>│<span style=\"color: #7f7f7f; text-decoration-color: #7f7f7f\"> the world, even with the looming threat of the millennium (the    </span>│\n",
       "│<span style=\"color: #7f7f7f; text-decoration-color: #7f7f7f\">                       </span>│<span style=\"color: #7f7f7f; text-decoration-color: #7f7f7f\">          </span>│<span style=\"color: #7f7f7f; text-decoration-color: #7f7f7f\">          </span>│<span style=\"color: #7f7f7f; text-decoration-color: #7f7f7f\"> year 2000) and potential apocalyptic events. The song suggests    </span>│\n",
       "│<span style=\"color: #7f7f7f; text-decoration-color: #7f7f7f\">                       </span>│<span style=\"color: #7f7f7f; text-decoration-color: #7f7f7f\">          </span>│<span style=\"color: #7f7f7f; text-decoration-color: #7f7f7f\">          </span>│<span style=\"color: #7f7f7f; text-decoration-color: #7f7f7f\"> that we should live life to the fullest and keep dancing as if    </span>│\n",
       "│<span style=\"color: #7f7f7f; text-decoration-color: #7f7f7f\">                       </span>│<span style=\"color: #7f7f7f; text-decoration-color: #7f7f7f\">          </span>│<span style=\"color: #7f7f7f; text-decoration-color: #7f7f7f\">          </span>│<span style=\"color: #7f7f7f; text-decoration-color: #7f7f7f\"> it's the last night, embracing the 'party like it's 1999' ethos.  </span>│\n",
       "├───────────────────────┼──────────┼──────────┼───────────────────────────────────────────────────────────────────┤\n",
       "│<span style=\"color: #7f7f7f; text-decoration-color: #7f7f7f\"> The Smashing Pumpkins </span>│<span style=\"color: #7f7f7f; text-decoration-color: #7f7f7f\"> alt      </span>│<span style=\"color: #7f7f7f; text-decoration-color: #7f7f7f\"> 1979     </span>│<span style=\"color: #7f7f7f; text-decoration-color: #7f7f7f\"> The song '1979' by The Smashing Pumpkins is about the transition  </span>│\n",
       "│<span style=\"color: #7f7f7f; text-decoration-color: #7f7f7f\">                       </span>│<span style=\"color: #7f7f7f; text-decoration-color: #7f7f7f\">          </span>│<span style=\"color: #7f7f7f; text-decoration-color: #7f7f7f\">          </span>│<span style=\"color: #7f7f7f; text-decoration-color: #7f7f7f\"> from youth to adulthood and the nostalgia and reflection that     </span>│\n",
       "│<span style=\"color: #7f7f7f; text-decoration-color: #7f7f7f\">                       </span>│<span style=\"color: #7f7f7f; text-decoration-color: #7f7f7f\">          </span>│<span style=\"color: #7f7f7f; text-decoration-color: #7f7f7f\">          </span>│<span style=\"color: #7f7f7f; text-decoration-color: #7f7f7f\"> comes with it. It captures the feeling of freedom and the         </span>│\n",
       "│<span style=\"color: #7f7f7f; text-decoration-color: #7f7f7f\">                       </span>│<span style=\"color: #7f7f7f; text-decoration-color: #7f7f7f\">          </span>│<span style=\"color: #7f7f7f; text-decoration-color: #7f7f7f\">          </span>│<span style=\"color: #7f7f7f; text-decoration-color: #7f7f7f\"> bittersweet nature of growing up, evoking memories of teenage     </span>│\n",
       "│<span style=\"color: #7f7f7f; text-decoration-color: #7f7f7f\">                       </span>│<span style=\"color: #7f7f7f; text-decoration-color: #7f7f7f\">          </span>│<span style=\"color: #7f7f7f; text-decoration-color: #7f7f7f\">          </span>│<span style=\"color: #7f7f7f; text-decoration-color: #7f7f7f\"> years and the desire to hold onto those fleeting moments of       </span>│\n",
       "│<span style=\"color: #7f7f7f; text-decoration-color: #7f7f7f\">                       </span>│<span style=\"color: #7f7f7f; text-decoration-color: #7f7f7f\">          </span>│<span style=\"color: #7f7f7f; text-decoration-color: #7f7f7f\">          </span>│<span style=\"color: #7f7f7f; text-decoration-color: #7f7f7f\"> youth. The song's title references the year 1979, which serves as </span>│\n",
       "│<span style=\"color: #7f7f7f; text-decoration-color: #7f7f7f\">                       </span>│<span style=\"color: #7f7f7f; text-decoration-color: #7f7f7f\">          </span>│<span style=\"color: #7f7f7f; text-decoration-color: #7f7f7f\">          </span>│<span style=\"color: #7f7f7f; text-decoration-color: #7f7f7f\"> a symbolic marker for this period of change and maturation.       </span>│\n",
       "├───────────────────────┼──────────┼──────────┼───────────────────────────────────────────────────────────────────┤\n",
       "│<span style=\"color: #7f7f7f; text-decoration-color: #7f7f7f\"> Phoenix               </span>│<span style=\"color: #7f7f7f; text-decoration-color: #7f7f7f\"> indie    </span>│<span style=\"color: #7f7f7f; text-decoration-color: #7f7f7f\"> 1901     </span>│<span style=\"color: #7f7f7f; text-decoration-color: #7f7f7f\"> The song '1901' by the French indie pop band Phoenix is often     </span>│\n",
       "│<span style=\"color: #7f7f7f; text-decoration-color: #7f7f7f\">                       </span>│<span style=\"color: #7f7f7f; text-decoration-color: #7f7f7f\">          </span>│<span style=\"color: #7f7f7f; text-decoration-color: #7f7f7f\">          </span>│<span style=\"color: #7f7f7f; text-decoration-color: #7f7f7f\"> interpreted as a nostalgic look back at the past, with references </span>│\n",
       "│<span style=\"color: #7f7f7f; text-decoration-color: #7f7f7f\">                       </span>│<span style=\"color: #7f7f7f; text-decoration-color: #7f7f7f\">          </span>│<span style=\"color: #7f7f7f; text-decoration-color: #7f7f7f\">          </span>│<span style=\"color: #7f7f7f; text-decoration-color: #7f7f7f\"> to the early 20th century. The lyrics mention falling and folding </span>│\n",
       "│<span style=\"color: #7f7f7f; text-decoration-color: #7f7f7f\">                       </span>│<span style=\"color: #7f7f7f; text-decoration-color: #7f7f7f\">          </span>│<span style=\"color: #7f7f7f; text-decoration-color: #7f7f7f\">          </span>│<span style=\"color: #7f7f7f; text-decoration-color: #7f7f7f\"> 'like an antiquated love,' which could suggest a reflection on    </span>│\n",
       "│<span style=\"color: #7f7f7f; text-decoration-color: #7f7f7f\">                       </span>│<span style=\"color: #7f7f7f; text-decoration-color: #7f7f7f\">          </span>│<span style=\"color: #7f7f7f; text-decoration-color: #7f7f7f\">          </span>│<span style=\"color: #7f7f7f; text-decoration-color: #7f7f7f\"> times gone by and the changes that come with the passing of time. </span>│\n",
       "│<span style=\"color: #7f7f7f; text-decoration-color: #7f7f7f\">                       </span>│<span style=\"color: #7f7f7f; text-decoration-color: #7f7f7f\">          </span>│<span style=\"color: #7f7f7f; text-decoration-color: #7f7f7f\">          </span>│<span style=\"color: #7f7f7f; text-decoration-color: #7f7f7f\"> The chorus of 'It's 20 seconds 'til the last call' might be       </span>│\n",
       "│<span style=\"color: #7f7f7f; text-decoration-color: #7f7f7f\">                       </span>│<span style=\"color: #7f7f7f; text-decoration-color: #7f7f7f\">          </span>│<span style=\"color: #7f7f7f; text-decoration-color: #7f7f7f\">          </span>│<span style=\"color: #7f7f7f; text-decoration-color: #7f7f7f\"> metaphorical for the last moments of a certain era or the end of  </span>│\n",
       "│<span style=\"color: #7f7f7f; text-decoration-color: #7f7f7f\">                       </span>│<span style=\"color: #7f7f7f; text-decoration-color: #7f7f7f\">          </span>│<span style=\"color: #7f7f7f; text-decoration-color: #7f7f7f\">          </span>│<span style=\"color: #7f7f7f; text-decoration-color: #7f7f7f\"> a personal period in someone's life. Overall, the song has a      </span>│\n",
       "│<span style=\"color: #7f7f7f; text-decoration-color: #7f7f7f\">                       </span>│<span style=\"color: #7f7f7f; text-decoration-color: #7f7f7f\">          </span>│<span style=\"color: #7f7f7f; text-decoration-color: #7f7f7f\">          </span>│<span style=\"color: #7f7f7f; text-decoration-color: #7f7f7f\"> sense of looking back on a bygone era with a mix of fondness and  </span>│\n",
       "│<span style=\"color: #7f7f7f; text-decoration-color: #7f7f7f\">                       </span>│<span style=\"color: #7f7f7f; text-decoration-color: #7f7f7f\">          </span>│<span style=\"color: #7f7f7f; text-decoration-color: #7f7f7f\">          </span>│<span style=\"color: #7f7f7f; text-decoration-color: #7f7f7f\"> the recognition that it is no longer attainable.                  </span>│\n",
       "└───────────────────────┴──────────┴──────────┴───────────────────────────────────────────────────────────────────┘\n",
       "</pre>\n"
      ],
      "text/plain": [
       "┏━━━━━━━━━━━━━━━━━━━━━━━┳━━━━━━━━━━┳━━━━━━━━━━┳━━━━━━━━━━━━━━━━━━━━━━━━━━━━━━━━━━━━━━━━━━━━━━━━━━━━━━━━━━━━━━━━━━━┓\n",
       "┃\u001b[1;35m \u001b[0m\u001b[1;35mscenario             \u001b[0m\u001b[1;35m \u001b[0m┃\u001b[1;35m \u001b[0m\u001b[1;35mscenario\u001b[0m\u001b[1;35m \u001b[0m┃\u001b[1;35m \u001b[0m\u001b[1;35mscenario\u001b[0m\u001b[1;35m \u001b[0m┃\u001b[1;35m \u001b[0m\u001b[1;35manswer                                                           \u001b[0m\u001b[1;35m \u001b[0m┃\n",
       "┃\u001b[1;35m \u001b[0m\u001b[1;35m.musician            \u001b[0m\u001b[1;35m \u001b[0m┃\u001b[1;35m \u001b[0m\u001b[1;35m.genre  \u001b[0m\u001b[1;35m \u001b[0m┃\u001b[1;35m \u001b[0m\u001b[1;35m.title  \u001b[0m\u001b[1;35m \u001b[0m┃\u001b[1;35m \u001b[0m\u001b[1;35m.song                                                            \u001b[0m\u001b[1;35m \u001b[0m┃\n",
       "┡━━━━━━━━━━━━━━━━━━━━━━━╇━━━━━━━━━━╇━━━━━━━━━━╇━━━━━━━━━━━━━━━━━━━━━━━━━━━━━━━━━━━━━━━━━━━━━━━━━━━━━━━━━━━━━━━━━━━┩\n",
       "│\u001b[2m \u001b[0m\u001b[2mPrince               \u001b[0m\u001b[2m \u001b[0m│\u001b[2m \u001b[0m\u001b[2mpop     \u001b[0m\u001b[2m \u001b[0m│\u001b[2m \u001b[0m\u001b[2m1999    \u001b[0m\u001b[2m \u001b[0m│\u001b[2m \u001b[0m\u001b[2mThe song '1999' by Prince is about the celebration of life and   \u001b[0m\u001b[2m \u001b[0m│\n",
       "│\u001b[2m                       \u001b[0m│\u001b[2m          \u001b[0m│\u001b[2m          \u001b[0m│\u001b[2m \u001b[0m\u001b[2mthe enjoyment of the present moment. It reflects the desire to   \u001b[0m\u001b[2m \u001b[0m│\n",
       "│\u001b[2m                       \u001b[0m│\u001b[2m          \u001b[0m│\u001b[2m          \u001b[0m│\u001b[2m \u001b[0m\u001b[2mparty and have a good time without worrying about the problems of\u001b[0m\u001b[2m \u001b[0m│\n",
       "│\u001b[2m                       \u001b[0m│\u001b[2m          \u001b[0m│\u001b[2m          \u001b[0m│\u001b[2m \u001b[0m\u001b[2mthe world, even with the looming threat of the millennium (the   \u001b[0m\u001b[2m \u001b[0m│\n",
       "│\u001b[2m                       \u001b[0m│\u001b[2m          \u001b[0m│\u001b[2m          \u001b[0m│\u001b[2m \u001b[0m\u001b[2myear 2000) and potential apocalyptic events. The song suggests   \u001b[0m\u001b[2m \u001b[0m│\n",
       "│\u001b[2m                       \u001b[0m│\u001b[2m          \u001b[0m│\u001b[2m          \u001b[0m│\u001b[2m \u001b[0m\u001b[2mthat we should live life to the fullest and keep dancing as if   \u001b[0m\u001b[2m \u001b[0m│\n",
       "│\u001b[2m                       \u001b[0m│\u001b[2m          \u001b[0m│\u001b[2m          \u001b[0m│\u001b[2m \u001b[0m\u001b[2mit's the last night, embracing the 'party like it's 1999' ethos. \u001b[0m\u001b[2m \u001b[0m│\n",
       "├───────────────────────┼──────────┼──────────┼───────────────────────────────────────────────────────────────────┤\n",
       "│\u001b[2m \u001b[0m\u001b[2mThe Smashing Pumpkins\u001b[0m\u001b[2m \u001b[0m│\u001b[2m \u001b[0m\u001b[2malt     \u001b[0m\u001b[2m \u001b[0m│\u001b[2m \u001b[0m\u001b[2m1979    \u001b[0m\u001b[2m \u001b[0m│\u001b[2m \u001b[0m\u001b[2mThe song '1979' by The Smashing Pumpkins is about the transition \u001b[0m\u001b[2m \u001b[0m│\n",
       "│\u001b[2m                       \u001b[0m│\u001b[2m          \u001b[0m│\u001b[2m          \u001b[0m│\u001b[2m \u001b[0m\u001b[2mfrom youth to adulthood and the nostalgia and reflection that    \u001b[0m\u001b[2m \u001b[0m│\n",
       "│\u001b[2m                       \u001b[0m│\u001b[2m          \u001b[0m│\u001b[2m          \u001b[0m│\u001b[2m \u001b[0m\u001b[2mcomes with it. It captures the feeling of freedom and the        \u001b[0m\u001b[2m \u001b[0m│\n",
       "│\u001b[2m                       \u001b[0m│\u001b[2m          \u001b[0m│\u001b[2m          \u001b[0m│\u001b[2m \u001b[0m\u001b[2mbittersweet nature of growing up, evoking memories of teenage    \u001b[0m\u001b[2m \u001b[0m│\n",
       "│\u001b[2m                       \u001b[0m│\u001b[2m          \u001b[0m│\u001b[2m          \u001b[0m│\u001b[2m \u001b[0m\u001b[2myears and the desire to hold onto those fleeting moments of      \u001b[0m\u001b[2m \u001b[0m│\n",
       "│\u001b[2m                       \u001b[0m│\u001b[2m          \u001b[0m│\u001b[2m          \u001b[0m│\u001b[2m \u001b[0m\u001b[2myouth. The song's title references the year 1979, which serves as\u001b[0m\u001b[2m \u001b[0m│\n",
       "│\u001b[2m                       \u001b[0m│\u001b[2m          \u001b[0m│\u001b[2m          \u001b[0m│\u001b[2m \u001b[0m\u001b[2ma symbolic marker for this period of change and maturation.      \u001b[0m\u001b[2m \u001b[0m│\n",
       "├───────────────────────┼──────────┼──────────┼───────────────────────────────────────────────────────────────────┤\n",
       "│\u001b[2m \u001b[0m\u001b[2mPhoenix              \u001b[0m\u001b[2m \u001b[0m│\u001b[2m \u001b[0m\u001b[2mindie   \u001b[0m\u001b[2m \u001b[0m│\u001b[2m \u001b[0m\u001b[2m1901    \u001b[0m\u001b[2m \u001b[0m│\u001b[2m \u001b[0m\u001b[2mThe song '1901' by the French indie pop band Phoenix is often    \u001b[0m\u001b[2m \u001b[0m│\n",
       "│\u001b[2m                       \u001b[0m│\u001b[2m          \u001b[0m│\u001b[2m          \u001b[0m│\u001b[2m \u001b[0m\u001b[2minterpreted as a nostalgic look back at the past, with references\u001b[0m\u001b[2m \u001b[0m│\n",
       "│\u001b[2m                       \u001b[0m│\u001b[2m          \u001b[0m│\u001b[2m          \u001b[0m│\u001b[2m \u001b[0m\u001b[2mto the early 20th century. The lyrics mention falling and folding\u001b[0m\u001b[2m \u001b[0m│\n",
       "│\u001b[2m                       \u001b[0m│\u001b[2m          \u001b[0m│\u001b[2m          \u001b[0m│\u001b[2m \u001b[0m\u001b[2m'like an antiquated love,' which could suggest a reflection on   \u001b[0m\u001b[2m \u001b[0m│\n",
       "│\u001b[2m                       \u001b[0m│\u001b[2m          \u001b[0m│\u001b[2m          \u001b[0m│\u001b[2m \u001b[0m\u001b[2mtimes gone by and the changes that come with the passing of time.\u001b[0m\u001b[2m \u001b[0m│\n",
       "│\u001b[2m                       \u001b[0m│\u001b[2m          \u001b[0m│\u001b[2m          \u001b[0m│\u001b[2m \u001b[0m\u001b[2mThe chorus of 'It's 20 seconds 'til the last call' might be      \u001b[0m\u001b[2m \u001b[0m│\n",
       "│\u001b[2m                       \u001b[0m│\u001b[2m          \u001b[0m│\u001b[2m          \u001b[0m│\u001b[2m \u001b[0m\u001b[2mmetaphorical for the last moments of a certain era or the end of \u001b[0m\u001b[2m \u001b[0m│\n",
       "│\u001b[2m                       \u001b[0m│\u001b[2m          \u001b[0m│\u001b[2m          \u001b[0m│\u001b[2m \u001b[0m\u001b[2ma personal period in someone's life. Overall, the song has a     \u001b[0m\u001b[2m \u001b[0m│\n",
       "│\u001b[2m                       \u001b[0m│\u001b[2m          \u001b[0m│\u001b[2m          \u001b[0m│\u001b[2m \u001b[0m\u001b[2msense of looking back on a bygone era with a mix of fondness and \u001b[0m\u001b[2m \u001b[0m│\n",
       "│\u001b[2m                       \u001b[0m│\u001b[2m          \u001b[0m│\u001b[2m          \u001b[0m│\u001b[2m \u001b[0m\u001b[2mthe recognition that it is no longer attainable.                 \u001b[0m\u001b[2m \u001b[0m│\n",
       "└───────────────────────┴──────────┴──────────┴───────────────────────────────────────────────────────────────────┘\n"
      ]
     },
     "metadata": {},
     "output_type": "display_data"
    }
   ],
   "source": [
    "q = QuestionFreeText(\n",
    "    question_name=\"song\",\n",
    "    question_text=\"What is this song about: {{ title }}\",  # optionally omitting other fields in the scenarios\n",
    ")\n",
    "\n",
    "results = q.by(metadata_scenarios).run()\n",
    "results.select(\"scenario.*\", \"song\").print(format=\"rich\")  # all scenario fields will be present"
   ]
  },
  {
   "cell_type": "markdown",
   "id": "e7e9ed18-7378-475e-b16b-9cca8c8fd7a5",
   "metadata": {},
   "source": [
    "## Chunking text\n",
    "We can use the `chunk()` method to turn a `Scenario` into a `ScenarioList` with specified slice/chunk sizes based on `num_words` or `num_lines`. Note that the field `_chunk` is created automatically, and `_original` is added if optional parameter `include_original` is used:"
   ]
  },
  {
   "cell_type": "code",
   "execution_count": 22,
   "id": "78bd14a1-0450-4d9f-acdf-ddda1fe14cfb",
   "metadata": {},
   "outputs": [
    {
     "data": {
      "text/html": [
       "<div class=\"highlight\"><pre><span></span><span class=\"p\">{</span>\n",
       "<span class=\"w\">    </span><span class=\"nt\">&quot;scenarios&quot;</span><span class=\"p\">:</span><span class=\"w\"> </span><span class=\"p\">[</span>\n",
       "<span class=\"w\">        </span><span class=\"p\">{</span>\n",
       "<span class=\"w\">            </span><span class=\"nt\">&quot;my_text&quot;</span><span class=\"p\">:</span><span class=\"w\"> </span><span class=\"s2\">&quot;This is a long text.&quot;</span><span class=\"p\">,</span>\n",
       "<span class=\"w\">            </span><span class=\"nt\">&quot;my_text_chunk&quot;</span><span class=\"p\">:</span><span class=\"w\"> </span><span class=\"mi\">0</span><span class=\"p\">,</span>\n",
       "<span class=\"w\">            </span><span class=\"nt\">&quot;my_text_original&quot;</span><span class=\"p\">:</span><span class=\"w\"> </span><span class=\"s2\">&quot;4aec42eda32b7f32bde8be6a6bc11125&quot;</span>\n",
       "<span class=\"w\">        </span><span class=\"p\">},</span>\n",
       "<span class=\"w\">        </span><span class=\"p\">{</span>\n",
       "<span class=\"w\">            </span><span class=\"nt\">&quot;my_text&quot;</span><span class=\"p\">:</span><span class=\"w\"> </span><span class=\"s2\">&quot;Pages and pages, oh my!&quot;</span><span class=\"p\">,</span>\n",
       "<span class=\"w\">            </span><span class=\"nt\">&quot;my_text_chunk&quot;</span><span class=\"p\">:</span><span class=\"w\"> </span><span class=\"mi\">1</span><span class=\"p\">,</span>\n",
       "<span class=\"w\">            </span><span class=\"nt\">&quot;my_text_original&quot;</span><span class=\"p\">:</span><span class=\"w\"> </span><span class=\"s2\">&quot;4aec42eda32b7f32bde8be6a6bc11125&quot;</span>\n",
       "<span class=\"w\">        </span><span class=\"p\">},</span>\n",
       "<span class=\"w\">        </span><span class=\"p\">{</span>\n",
       "<span class=\"w\">            </span><span class=\"nt\">&quot;my_text&quot;</span><span class=\"p\">:</span><span class=\"w\"> </span><span class=\"s2\">&quot;I need to chunk it.&quot;</span><span class=\"p\">,</span>\n",
       "<span class=\"w\">            </span><span class=\"nt\">&quot;my_text_chunk&quot;</span><span class=\"p\">:</span><span class=\"w\"> </span><span class=\"mi\">2</span><span class=\"p\">,</span>\n",
       "<span class=\"w\">            </span><span class=\"nt\">&quot;my_text_original&quot;</span><span class=\"p\">:</span><span class=\"w\"> </span><span class=\"s2\">&quot;4aec42eda32b7f32bde8be6a6bc11125&quot;</span>\n",
       "<span class=\"w\">        </span><span class=\"p\">}</span>\n",
       "<span class=\"w\">    </span><span class=\"p\">]</span>\n",
       "<span class=\"p\">}</span>\n",
       "</pre></div>\n"
      ],
      "text/plain": [
       "ScenarioList([Scenario({'my_text': 'This is a long text.', 'my_text_chunk': 0, 'my_text_original': '4aec42eda32b7f32bde8be6a6bc11125'}), Scenario({'my_text': 'Pages and pages, oh my!', 'my_text_chunk': 1, 'my_text_original': '4aec42eda32b7f32bde8be6a6bc11125'}), Scenario({'my_text': 'I need to chunk it.', 'my_text_chunk': 2, 'my_text_original': '4aec42eda32b7f32bde8be6a6bc11125'})])"
      ]
     },
     "execution_count": 22,
     "metadata": {},
     "output_type": "execute_result"
    }
   ],
   "source": [
    "my_haiku = \"\"\"\n",
    "This is a long text. \n",
    "Pages and pages, oh my!\n",
    "I need to chunk it.\n",
    "\"\"\"\n",
    "\n",
    "text_scenario = Scenario({\"my_text\": my_haiku})\n",
    "\n",
    "word_chunks_scenariolist = text_scenario.chunk(\n",
    "    \"my_text\",\n",
    "    num_words=5,  # use num_words or num_lines but not both\n",
    "    include_original=True,  # optional\n",
    "    hash_original=True,  # optional\n",
    ")\n",
    "word_chunks_scenariolist"
   ]
  },
  {
   "cell_type": "code",
   "execution_count": 23,
   "id": "f56b9fa1-0ac0-4437-bc38-10d55e233a33",
   "metadata": {},
   "outputs": [
    {
     "data": {
      "text/html": [
       "<div class=\"highlight\"><pre><span></span><span class=\"p\">{</span>\n",
       "<span class=\"w\">    </span><span class=\"nt\">&quot;scenarios&quot;</span><span class=\"p\">:</span><span class=\"w\"> </span><span class=\"p\">[</span>\n",
       "<span class=\"w\">        </span><span class=\"p\">{</span>\n",
       "<span class=\"w\">            </span><span class=\"nt\">&quot;my_text&quot;</span><span class=\"p\">:</span><span class=\"w\"> </span><span class=\"s2\">&quot;&quot;</span><span class=\"p\">,</span>\n",
       "<span class=\"w\">            </span><span class=\"nt\">&quot;my_text_chunk&quot;</span><span class=\"p\">:</span><span class=\"w\"> </span><span class=\"mi\">0</span>\n",
       "<span class=\"w\">        </span><span class=\"p\">},</span>\n",
       "<span class=\"w\">        </span><span class=\"p\">{</span>\n",
       "<span class=\"w\">            </span><span class=\"nt\">&quot;my_text&quot;</span><span class=\"p\">:</span><span class=\"w\"> </span><span class=\"s2\">&quot;This is a long text. &quot;</span><span class=\"p\">,</span>\n",
       "<span class=\"w\">            </span><span class=\"nt\">&quot;my_text_chunk&quot;</span><span class=\"p\">:</span><span class=\"w\"> </span><span class=\"mi\">1</span>\n",
       "<span class=\"w\">        </span><span class=\"p\">},</span>\n",
       "<span class=\"w\">        </span><span class=\"p\">{</span>\n",
       "<span class=\"w\">            </span><span class=\"nt\">&quot;my_text&quot;</span><span class=\"p\">:</span><span class=\"w\"> </span><span class=\"s2\">&quot;Pages and pages, oh my!&quot;</span><span class=\"p\">,</span>\n",
       "<span class=\"w\">            </span><span class=\"nt\">&quot;my_text_chunk&quot;</span><span class=\"p\">:</span><span class=\"w\"> </span><span class=\"mi\">2</span>\n",
       "<span class=\"w\">        </span><span class=\"p\">},</span>\n",
       "<span class=\"w\">        </span><span class=\"p\">{</span>\n",
       "<span class=\"w\">            </span><span class=\"nt\">&quot;my_text&quot;</span><span class=\"p\">:</span><span class=\"w\"> </span><span class=\"s2\">&quot;I need to chunk it.&quot;</span><span class=\"p\">,</span>\n",
       "<span class=\"w\">            </span><span class=\"nt\">&quot;my_text_chunk&quot;</span><span class=\"p\">:</span><span class=\"w\"> </span><span class=\"mi\">3</span>\n",
       "<span class=\"w\">        </span><span class=\"p\">},</span>\n",
       "<span class=\"w\">        </span><span class=\"p\">{</span>\n",
       "<span class=\"w\">            </span><span class=\"nt\">&quot;my_text&quot;</span><span class=\"p\">:</span><span class=\"w\"> </span><span class=\"s2\">&quot;&quot;</span><span class=\"p\">,</span>\n",
       "<span class=\"w\">            </span><span class=\"nt\">&quot;my_text_chunk&quot;</span><span class=\"p\">:</span><span class=\"w\"> </span><span class=\"mi\">4</span>\n",
       "<span class=\"w\">        </span><span class=\"p\">}</span>\n",
       "<span class=\"w\">    </span><span class=\"p\">]</span>\n",
       "<span class=\"p\">}</span>\n",
       "</pre></div>\n"
      ],
      "text/plain": [
       "ScenarioList([Scenario({'my_text': '', 'my_text_chunk': 0}), Scenario({'my_text': 'This is a long text. ', 'my_text_chunk': 1}), Scenario({'my_text': 'Pages and pages, oh my!', 'my_text_chunk': 2}), Scenario({'my_text': 'I need to chunk it.', 'my_text_chunk': 3}), Scenario({'my_text': '', 'my_text_chunk': 4})])"
      ]
     },
     "execution_count": 23,
     "metadata": {},
     "output_type": "execute_result"
    }
   ],
   "source": [
    "line_chunks_scenariolist = text_scenario.chunk(\"my_text\", num_lines=1)\n",
    "line_chunks_scenariolist"
   ]
  },
  {
   "cell_type": "markdown",
   "id": "1f953529-4bb0-452b-b0a4-4d27c64dc93e",
   "metadata": {},
   "source": [
    "## Tallying scenario values\n",
    "We can call the `tally()` method on a `ScenarioList` to tally numeric values for a specified key. It returns a dictionary with keys representing the number of each `Scenario` in the `ScenarioList` and values representing the tally of the key that was specified:"
   ]
  },
  {
   "cell_type": "code",
   "execution_count": 24,
   "id": "f2bc2618-39de-4b5b-9c16-f26d02256d28",
   "metadata": {},
   "outputs": [
    {
     "data": {
      "text/html": [
       "<div class=\"highlight\"><pre><span></span><span class=\"p\">[</span>\n",
       "<span class=\"w\">    </span><span class=\"p\">{</span>\n",
       "<span class=\"w\">        </span><span class=\"nt\">&quot;value&quot;</span><span class=\"p\">:</span><span class=\"w\"> </span><span class=\"p\">[</span>\n",
       "<span class=\"w\">            </span><span class=\"mi\">1</span><span class=\"p\">,</span>\n",
       "<span class=\"w\">            </span><span class=\"mi\">2</span>\n",
       "<span class=\"w\">        </span><span class=\"p\">]</span>\n",
       "<span class=\"w\">    </span><span class=\"p\">},</span>\n",
       "<span class=\"w\">    </span><span class=\"p\">{</span>\n",
       "<span class=\"w\">        </span><span class=\"nt\">&quot;count&quot;</span><span class=\"p\">:</span><span class=\"w\"> </span><span class=\"p\">[</span>\n",
       "<span class=\"w\">            </span><span class=\"mi\">1</span><span class=\"p\">,</span>\n",
       "<span class=\"w\">            </span><span class=\"mi\">1</span>\n",
       "<span class=\"w\">        </span><span class=\"p\">]</span>\n",
       "<span class=\"w\">    </span><span class=\"p\">}</span>\n",
       "<span class=\"p\">]</span>\n",
       "</pre></div>\n"
      ],
      "text/plain": [
       "Dataset([{'value': [1, 2]}, {'count': [1, 1]}])"
      ]
     },
     "execution_count": 24,
     "metadata": {},
     "output_type": "execute_result"
    }
   ],
   "source": [
    "numeric_scenariolist = ScenarioList(\n",
    "    [\n",
    "        Scenario({\"a\": 1, \"b\": 1}), \n",
    "        Scenario({\"a\": 1, \"b\": 2})\n",
    "    ]\n",
    ")\n",
    "\n",
    "tallied_scenariolist = numeric_scenariolist.tally(\"b\")\n",
    "tallied_scenariolist"
   ]
  },
  {
   "cell_type": "markdown",
   "id": "fe781216-0f50-4e3d-9c57-b2a8a6458a5f",
   "metadata": {},
   "source": [
    "## Expanding scenarios\n",
    "We can call the `expand()` method on a `ScenarioList` to expand it by a specified field. For example, if the values of a scenario key are a list we can pass that key to the method to generate a `Scenario` for each item in the list:"
   ]
  },
  {
   "cell_type": "code",
   "execution_count": 25,
   "id": "30385971-0628-417f-b323-1a0d9eb782b7",
   "metadata": {},
   "outputs": [
    {
     "data": {
      "text/html": [
       "<div class=\"highlight\"><pre><span></span><span class=\"p\">{</span>\n",
       "<span class=\"w\">    </span><span class=\"nt\">&quot;scenarios&quot;</span><span class=\"p\">:</span><span class=\"w\"> </span><span class=\"p\">[</span>\n",
       "<span class=\"w\">        </span><span class=\"p\">{</span>\n",
       "<span class=\"w\">            </span><span class=\"nt\">&quot;a&quot;</span><span class=\"p\">:</span><span class=\"w\"> </span><span class=\"mi\">1</span><span class=\"p\">,</span>\n",
       "<span class=\"w\">            </span><span class=\"nt\">&quot;b&quot;</span><span class=\"p\">:</span><span class=\"w\"> </span><span class=\"mi\">1</span>\n",
       "<span class=\"w\">        </span><span class=\"p\">},</span>\n",
       "<span class=\"w\">        </span><span class=\"p\">{</span>\n",
       "<span class=\"w\">            </span><span class=\"nt\">&quot;a&quot;</span><span class=\"p\">:</span><span class=\"w\"> </span><span class=\"mi\">1</span><span class=\"p\">,</span>\n",
       "<span class=\"w\">            </span><span class=\"nt\">&quot;b&quot;</span><span class=\"p\">:</span><span class=\"w\"> </span><span class=\"mi\">2</span>\n",
       "<span class=\"w\">        </span><span class=\"p\">}</span>\n",
       "<span class=\"w\">    </span><span class=\"p\">]</span>\n",
       "<span class=\"p\">}</span>\n",
       "</pre></div>\n"
      ],
      "text/plain": [
       "ScenarioList([Scenario({'a': 1, 'b': 1}), Scenario({'a': 1, 'b': 2})])"
      ]
     },
     "execution_count": 25,
     "metadata": {},
     "output_type": "execute_result"
    }
   ],
   "source": [
    "scenariolist = ScenarioList(\n",
    "    [\n",
    "        Scenario({\"a\":1, \"b\":[1, 2]})\n",
    "    ]\n",
    ")\n",
    "\n",
    "expanded_scenariolist = scenariolist.expand(\"b\")\n",
    "expanded_scenariolist"
   ]
  },
  {
   "cell_type": "markdown",
   "id": "a4b196ce-158b-455a-8faf-50396a697938",
   "metadata": {},
   "source": [
    "## Mutating scenarios\n",
    "We can call the `mutate()` method on a `ScenarioList` to add a key/value to each `Scenario` based on a logical expression:"
   ]
  },
  {
   "cell_type": "code",
   "execution_count": 26,
   "id": "6fb91031-fa6e-46b1-a69e-0e47da65d310",
   "metadata": {},
   "outputs": [
    {
     "data": {
      "text/html": [
       "<div class=\"highlight\"><pre><span></span><span class=\"p\">{</span>\n",
       "<span class=\"w\">    </span><span class=\"nt\">&quot;scenarios&quot;</span><span class=\"p\">:</span><span class=\"w\"> </span><span class=\"p\">[</span>\n",
       "<span class=\"w\">        </span><span class=\"p\">{</span>\n",
       "<span class=\"w\">            </span><span class=\"nt\">&quot;a&quot;</span><span class=\"p\">:</span><span class=\"w\"> </span><span class=\"mi\">1</span><span class=\"p\">,</span>\n",
       "<span class=\"w\">            </span><span class=\"nt\">&quot;b&quot;</span><span class=\"p\">:</span><span class=\"w\"> </span><span class=\"mi\">1</span><span class=\"p\">,</span>\n",
       "<span class=\"w\">            </span><span class=\"nt\">&quot;c&quot;</span><span class=\"p\">:</span><span class=\"w\"> </span><span class=\"mi\">2</span>\n",
       "<span class=\"w\">        </span><span class=\"p\">},</span>\n",
       "<span class=\"w\">        </span><span class=\"p\">{</span>\n",
       "<span class=\"w\">            </span><span class=\"nt\">&quot;a&quot;</span><span class=\"p\">:</span><span class=\"w\"> </span><span class=\"mi\">1</span><span class=\"p\">,</span>\n",
       "<span class=\"w\">            </span><span class=\"nt\">&quot;b&quot;</span><span class=\"p\">:</span><span class=\"w\"> </span><span class=\"mi\">2</span><span class=\"p\">,</span>\n",
       "<span class=\"w\">            </span><span class=\"nt\">&quot;c&quot;</span><span class=\"p\">:</span><span class=\"w\"> </span><span class=\"mi\">3</span>\n",
       "<span class=\"w\">        </span><span class=\"p\">}</span>\n",
       "<span class=\"w\">    </span><span class=\"p\">]</span>\n",
       "<span class=\"p\">}</span>\n",
       "</pre></div>\n"
      ],
      "text/plain": [
       "ScenarioList([Scenario({'a': 1, 'b': 1, 'c': 2}), Scenario({'a': 1, 'b': 2, 'c': 3})])"
      ]
     },
     "execution_count": 26,
     "metadata": {},
     "output_type": "execute_result"
    }
   ],
   "source": [
    "scenariolist = ScenarioList(\n",
    "    [\n",
    "        Scenario({\"a\": 1, \"b\": 1}), \n",
    "        Scenario({\"a\": 1, \"b\": 2})\n",
    "    ]\n",
    ")\n",
    "\n",
    "mutated_scenariolist = scenariolist.mutate(\"c = a + b\")\n",
    "mutated_scenariolist"
   ]
  },
  {
   "cell_type": "markdown",
   "id": "ca93523f-6f4d-4d64-810e-a348dd226a8f",
   "metadata": {},
   "source": [
    "## Ordering scenarios\n",
    "We can call the `order_by()` method on a `ScenarioList` to order the scenarios by a field:"
   ]
  },
  {
   "cell_type": "code",
   "execution_count": 27,
   "id": "6aca1f0d-548f-4998-bbcb-3a5258d64842",
   "metadata": {},
   "outputs": [
    {
     "data": {
      "text/html": [
       "<div class=\"highlight\"><pre><span></span><span class=\"p\">{</span>\n",
       "<span class=\"w\">    </span><span class=\"nt\">&quot;scenarios&quot;</span><span class=\"p\">:</span><span class=\"w\"> </span><span class=\"p\">[</span>\n",
       "<span class=\"w\">        </span><span class=\"p\">{</span>\n",
       "<span class=\"w\">            </span><span class=\"nt\">&quot;a&quot;</span><span class=\"p\">:</span><span class=\"w\"> </span><span class=\"mi\">1</span><span class=\"p\">,</span>\n",
       "<span class=\"w\">            </span><span class=\"nt\">&quot;b&quot;</span><span class=\"p\">:</span><span class=\"w\"> </span><span class=\"mi\">1</span>\n",
       "<span class=\"w\">        </span><span class=\"p\">},</span>\n",
       "<span class=\"w\">        </span><span class=\"p\">{</span>\n",
       "<span class=\"w\">            </span><span class=\"nt\">&quot;a&quot;</span><span class=\"p\">:</span><span class=\"w\"> </span><span class=\"mi\">1</span><span class=\"p\">,</span>\n",
       "<span class=\"w\">            </span><span class=\"nt\">&quot;b&quot;</span><span class=\"p\">:</span><span class=\"w\"> </span><span class=\"mi\">2</span>\n",
       "<span class=\"w\">        </span><span class=\"p\">}</span>\n",
       "<span class=\"w\">    </span><span class=\"p\">]</span>\n",
       "<span class=\"p\">}</span>\n",
       "</pre></div>\n"
      ],
      "text/plain": [
       "ScenarioList([Scenario({'a': 1, 'b': 1}), Scenario({'a': 1, 'b': 2})])"
      ]
     },
     "execution_count": 27,
     "metadata": {},
     "output_type": "execute_result"
    }
   ],
   "source": [
    "unordered_scenariolist = ScenarioList(\n",
    "    [\n",
    "        Scenario({\"a\": 1, \"b\": 1}), \n",
    "        Scenario({\"a\": 1, \"b\": 2})\n",
    "    ]\n",
    ")\n",
    "\n",
    "ordered_scenariolist = unordered_scenariolist.order_by(\"b\")\n",
    "ordered_scenariolist"
   ]
  },
  {
   "cell_type": "markdown",
   "id": "69053d8a-5263-4062-abda-40fcd625f73c",
   "metadata": {},
   "source": [
    "## Filtering scenarios\n",
    "We can call the `filter()` method on a `ScenarioList` to filer scenarios based on a conditional expression."
   ]
  },
  {
   "cell_type": "code",
   "execution_count": 28,
   "id": "5bb374dd-9400-4376-b289-ba2707de7945",
   "metadata": {},
   "outputs": [
    {
     "data": {
      "text/html": [
       "<div class=\"highlight\"><pre><span></span><span class=\"p\">{</span>\n",
       "<span class=\"w\">    </span><span class=\"nt\">&quot;scenarios&quot;</span><span class=\"p\">:</span><span class=\"w\"> </span><span class=\"p\">[</span>\n",
       "<span class=\"w\">        </span><span class=\"p\">{</span>\n",
       "<span class=\"w\">            </span><span class=\"nt\">&quot;a&quot;</span><span class=\"p\">:</span><span class=\"w\"> </span><span class=\"mi\">1</span><span class=\"p\">,</span>\n",
       "<span class=\"w\">            </span><span class=\"nt\">&quot;b&quot;</span><span class=\"p\">:</span><span class=\"w\"> </span><span class=\"mi\">2</span>\n",
       "<span class=\"w\">        </span><span class=\"p\">}</span>\n",
       "<span class=\"w\">    </span><span class=\"p\">]</span>\n",
       "<span class=\"p\">}</span>\n",
       "</pre></div>\n"
      ],
      "text/plain": [
       "ScenarioList([Scenario({'a': 1, 'b': 2})])"
      ]
     },
     "execution_count": 28,
     "metadata": {},
     "output_type": "execute_result"
    }
   ],
   "source": [
    "unfiltered_scenariolist = ScenarioList(\n",
    "    [\n",
    "        Scenario({\"a\": 1, \"b\": 1}), \n",
    "        Scenario({\"a\": 1, \"b\": 2})\n",
    "    ]\n",
    ")\n",
    "\n",
    "filtered_scenariolist = unfiltered_scenariolist.filter(\"b == 2\")\n",
    "filtered_scenariolist"
   ]
  },
  {
   "cell_type": "markdown",
   "id": "707c2795-6647-4946-876a-c7500e421b41",
   "metadata": {},
   "source": [
    "## Creating scenarios from a list\n",
    "We can call the `from_list()` method to create a `ScenarioList` from a list of values and a specified key:"
   ]
  },
  {
   "cell_type": "code",
   "execution_count": 29,
   "id": "1141b937-f96d-4e67-a9a7-59005c90b39c",
   "metadata": {},
   "outputs": [
    {
     "data": {
      "text/html": [
       "<div class=\"highlight\"><pre><span></span><span class=\"p\">{</span>\n",
       "<span class=\"w\">    </span><span class=\"nt\">&quot;scenarios&quot;</span><span class=\"p\">:</span><span class=\"w\"> </span><span class=\"p\">[</span>\n",
       "<span class=\"w\">        </span><span class=\"p\">{</span>\n",
       "<span class=\"w\">            </span><span class=\"nt\">&quot;name&quot;</span><span class=\"p\">:</span><span class=\"w\"> </span><span class=\"s2\">&quot;Apostolos&quot;</span>\n",
       "<span class=\"w\">        </span><span class=\"p\">},</span>\n",
       "<span class=\"w\">        </span><span class=\"p\">{</span>\n",
       "<span class=\"w\">            </span><span class=\"nt\">&quot;name&quot;</span><span class=\"p\">:</span><span class=\"w\"> </span><span class=\"s2\">&quot;John&quot;</span>\n",
       "<span class=\"w\">        </span><span class=\"p\">},</span>\n",
       "<span class=\"w\">        </span><span class=\"p\">{</span>\n",
       "<span class=\"w\">            </span><span class=\"nt\">&quot;name&quot;</span><span class=\"p\">:</span><span class=\"w\"> </span><span class=\"s2\">&quot;Robin&quot;</span>\n",
       "<span class=\"w\">        </span><span class=\"p\">}</span>\n",
       "<span class=\"w\">    </span><span class=\"p\">]</span>\n",
       "<span class=\"p\">}</span>\n",
       "</pre></div>\n"
      ],
      "text/plain": [
       "ScenarioList([Scenario({'name': 'Apostolos'}), Scenario({'name': 'John'}), Scenario({'name': 'Robin'})])"
      ]
     },
     "execution_count": 29,
     "metadata": {},
     "output_type": "execute_result"
    }
   ],
   "source": [
    "my_list = [\"Apostolos\", \"John\", \"Robin\"]\n",
    "\n",
    "scenariolist = ScenarioList.from_list(\"name\", my_list)\n",
    "scenariolist"
   ]
  },
  {
   "cell_type": "markdown",
   "id": "845929f8-b63e-46af-a210-85fd431aebf1",
   "metadata": {},
   "source": [
    "## Adding a list of values to individual scenarios\n",
    "We can call the `add_list()` method to add values to individual scenarios in a `ScenarioList`:"
   ]
  },
  {
   "cell_type": "code",
   "execution_count": 30,
   "id": "2e0e5540-89f7-4cbc-b566-8282473c76a1",
   "metadata": {},
   "outputs": [
    {
     "data": {
      "text/html": [
       "<div class=\"highlight\"><pre><span></span><span class=\"p\">{</span>\n",
       "<span class=\"w\">    </span><span class=\"nt\">&quot;scenarios&quot;</span><span class=\"p\">:</span><span class=\"w\"> </span><span class=\"p\">[</span>\n",
       "<span class=\"w\">        </span><span class=\"p\">{</span>\n",
       "<span class=\"w\">            </span><span class=\"nt\">&quot;weather&quot;</span><span class=\"p\">:</span><span class=\"w\"> </span><span class=\"s2\">&quot;sunny&quot;</span><span class=\"p\">,</span>\n",
       "<span class=\"w\">            </span><span class=\"nt\">&quot;preference&quot;</span><span class=\"p\">:</span><span class=\"w\"> </span><span class=\"s2\">&quot;high&quot;</span>\n",
       "<span class=\"w\">        </span><span class=\"p\">},</span>\n",
       "<span class=\"w\">        </span><span class=\"p\">{</span>\n",
       "<span class=\"w\">            </span><span class=\"nt\">&quot;weather&quot;</span><span class=\"p\">:</span><span class=\"w\"> </span><span class=\"s2\">&quot;rainy&quot;</span><span class=\"p\">,</span>\n",
       "<span class=\"w\">            </span><span class=\"nt\">&quot;preference&quot;</span><span class=\"p\">:</span><span class=\"w\"> </span><span class=\"s2\">&quot;low&quot;</span>\n",
       "<span class=\"w\">        </span><span class=\"p\">}</span>\n",
       "<span class=\"w\">    </span><span class=\"p\">]</span>\n",
       "<span class=\"p\">}</span>\n",
       "</pre></div>\n"
      ],
      "text/plain": [
       "ScenarioList([Scenario({'weather': 'sunny', 'preference': 'high'}), Scenario({'weather': 'rainy', 'preference': 'low'})])"
      ]
     },
     "execution_count": 30,
     "metadata": {},
     "output_type": "execute_result"
    }
   ],
   "source": [
    "scenariolist = ScenarioList(\n",
    "    [\n",
    "        Scenario({\"weather\": \"sunny\"}), \n",
    "        Scenario({\"weather\": \"rainy\"})\n",
    "    ]\n",
    ")\n",
    "\n",
    "added_scenariolist = scenariolist.add_list(\"preference\", [\"high\", \"low\"])\n",
    "added_scenariolist"
   ]
  },
  {
   "cell_type": "markdown",
   "id": "5af7f98c-85d7-43d5-9389-3960416b17f3",
   "metadata": {},
   "source": [
    "## Adding values to scenarios\n",
    "We can call the `add_value()` to add a value to all scenarios in a `ScenarioList`:"
   ]
  },
  {
   "cell_type": "code",
   "execution_count": 31,
   "id": "7a1df078-04fd-4126-8f91-99235ae6a569",
   "metadata": {},
   "outputs": [
    {
     "data": {
      "text/html": [
       "<div class=\"highlight\"><pre><span></span><span class=\"p\">{</span>\n",
       "<span class=\"w\">    </span><span class=\"nt\">&quot;scenarios&quot;</span><span class=\"p\">:</span><span class=\"w\"> </span><span class=\"p\">[</span>\n",
       "<span class=\"w\">        </span><span class=\"p\">{</span>\n",
       "<span class=\"w\">            </span><span class=\"nt\">&quot;name&quot;</span><span class=\"p\">:</span><span class=\"w\"> </span><span class=\"s2\">&quot;Apostolos&quot;</span><span class=\"p\">,</span>\n",
       "<span class=\"w\">            </span><span class=\"nt\">&quot;company&quot;</span><span class=\"p\">:</span><span class=\"w\"> </span><span class=\"s2\">&quot;Expected Parrot&quot;</span>\n",
       "<span class=\"w\">        </span><span class=\"p\">},</span>\n",
       "<span class=\"w\">        </span><span class=\"p\">{</span>\n",
       "<span class=\"w\">            </span><span class=\"nt\">&quot;name&quot;</span><span class=\"p\">:</span><span class=\"w\"> </span><span class=\"s2\">&quot;John&quot;</span><span class=\"p\">,</span>\n",
       "<span class=\"w\">            </span><span class=\"nt\">&quot;company&quot;</span><span class=\"p\">:</span><span class=\"w\"> </span><span class=\"s2\">&quot;Expected Parrot&quot;</span>\n",
       "<span class=\"w\">        </span><span class=\"p\">},</span>\n",
       "<span class=\"w\">        </span><span class=\"p\">{</span>\n",
       "<span class=\"w\">            </span><span class=\"nt\">&quot;name&quot;</span><span class=\"p\">:</span><span class=\"w\"> </span><span class=\"s2\">&quot;Robin&quot;</span><span class=\"p\">,</span>\n",
       "<span class=\"w\">            </span><span class=\"nt\">&quot;company&quot;</span><span class=\"p\">:</span><span class=\"w\"> </span><span class=\"s2\">&quot;Expected Parrot&quot;</span>\n",
       "<span class=\"w\">        </span><span class=\"p\">}</span>\n",
       "<span class=\"w\">    </span><span class=\"p\">]</span>\n",
       "<span class=\"p\">}</span>\n",
       "</pre></div>\n"
      ],
      "text/plain": [
       "ScenarioList([Scenario({'name': 'Apostolos', 'company': 'Expected Parrot'}), Scenario({'name': 'John', 'company': 'Expected Parrot'}), Scenario({'name': 'Robin', 'company': 'Expected Parrot'})])"
      ]
     },
     "execution_count": 31,
     "metadata": {},
     "output_type": "execute_result"
    }
   ],
   "source": [
    "scenariolist = ScenarioList(\n",
    "    [\n",
    "        Scenario({\"name\": \"Apostolos\"}),\n",
    "        Scenario({\"name\": \"John\"}),\n",
    "        Scenario({\"name\": \"Robin\"}),\n",
    "    ]\n",
    ")\n",
    "\n",
    "added_scenariolist = scenariolist.add_value(\"company\", \"Expected Parrot\")\n",
    "added_scenariolist"
   ]
  },
  {
   "cell_type": "markdown",
   "id": "ce77a691-a00f-4412-8474-94c59cf4e089",
   "metadata": {},
   "source": [
    "## Creating scenarios from a pandas DataFrame\n",
    "We can call the `from_pandas()` method to create a `ScenarioList` from a pandas DataFrame:"
   ]
  },
  {
   "cell_type": "code",
   "execution_count": 32,
   "id": "12e23bba-fa5e-48cb-b672-74fbd6606f48",
   "metadata": {
    "editable": true,
    "slideshow": {
     "slide_type": ""
    },
    "tags": []
   },
   "outputs": [
    {
     "data": {
      "text/html": [
       "<div class=\"highlight\"><pre><span></span><span class=\"p\">{</span>\n",
       "<span class=\"w\">    </span><span class=\"nt\">&quot;scenarios&quot;</span><span class=\"p\">:</span><span class=\"w\"> </span><span class=\"p\">[</span>\n",
       "<span class=\"w\">        </span><span class=\"p\">{</span>\n",
       "<span class=\"w\">            </span><span class=\"nt\">&quot;name&quot;</span><span class=\"p\">:</span><span class=\"w\"> </span><span class=\"s2\">&quot;Apostolos&quot;</span><span class=\"p\">,</span>\n",
       "<span class=\"w\">            </span><span class=\"nt\">&quot;location&quot;</span><span class=\"p\">:</span><span class=\"w\"> </span><span class=\"s2\">&quot;New York&quot;</span>\n",
       "<span class=\"w\">        </span><span class=\"p\">},</span>\n",
       "<span class=\"w\">        </span><span class=\"p\">{</span>\n",
       "<span class=\"w\">            </span><span class=\"nt\">&quot;name&quot;</span><span class=\"p\">:</span><span class=\"w\"> </span><span class=\"s2\">&quot;John&quot;</span><span class=\"p\">,</span>\n",
       "<span class=\"w\">            </span><span class=\"nt\">&quot;location&quot;</span><span class=\"p\">:</span><span class=\"w\"> </span><span class=\"s2\">&quot;Cambridge&quot;</span>\n",
       "<span class=\"w\">        </span><span class=\"p\">},</span>\n",
       "<span class=\"w\">        </span><span class=\"p\">{</span>\n",
       "<span class=\"w\">            </span><span class=\"nt\">&quot;name&quot;</span><span class=\"p\">:</span><span class=\"w\"> </span><span class=\"s2\">&quot;Robin&quot;</span><span class=\"p\">,</span>\n",
       "<span class=\"w\">            </span><span class=\"nt\">&quot;location&quot;</span><span class=\"p\">:</span><span class=\"w\"> </span><span class=\"s2\">&quot;Cambridge&quot;</span>\n",
       "<span class=\"w\">        </span><span class=\"p\">}</span>\n",
       "<span class=\"w\">    </span><span class=\"p\">]</span>\n",
       "<span class=\"p\">}</span>\n",
       "</pre></div>\n"
      ],
      "text/plain": [
       "ScenarioList([Scenario({'name': 'Apostolos', 'location': 'New York'}), Scenario({'name': 'John', 'location': 'Cambridge'}), Scenario({'name': 'Robin', 'location': 'Cambridge'})])"
      ]
     },
     "execution_count": 32,
     "metadata": {},
     "output_type": "execute_result"
    }
   ],
   "source": [
    "import pandas as pd\n",
    "\n",
    "df = pd.DataFrame(\n",
    "    {\n",
    "        \"name\": [\"Apostolos\", \"John\", \"Robin\"],\n",
    "        \"location\": [\"New York\", \"Cambridge\", \"Cambridge\"],\n",
    "    }\n",
    ")\n",
    "\n",
    "scenariolist = ScenarioList.from_pandas(df)\n",
    "scenariolist"
   ]
  },
  {
   "cell_type": "markdown",
   "id": "4f19da37-da37-4e1b-909a-6d0ee80854ab",
   "metadata": {},
   "source": [
    "## Creating scenarios from a CSV\n",
    "We can call the `from_csv()` method to create a `ScenarioList` from a CSV. Here we use the dataframe from above stored as a CSV:"
   ]
  },
  {
   "cell_type": "code",
   "execution_count": 33,
   "id": "d8db6f64-b209-48b5-8b98-b9f4ee367b65",
   "metadata": {},
   "outputs": [],
   "source": [
    "df.to_csv(\"scenarios_example.csv\", index=False)"
   ]
  },
  {
   "cell_type": "code",
   "execution_count": 34,
   "id": "19a2a9a6-1987-454c-844f-85ee7fc0660f",
   "metadata": {},
   "outputs": [
    {
     "data": {
      "text/html": [
       "<div class=\"highlight\"><pre><span></span><span class=\"p\">{</span>\n",
       "<span class=\"w\">    </span><span class=\"nt\">&quot;scenarios&quot;</span><span class=\"p\">:</span><span class=\"w\"> </span><span class=\"p\">[</span>\n",
       "<span class=\"w\">        </span><span class=\"p\">{</span>\n",
       "<span class=\"w\">            </span><span class=\"nt\">&quot;name&quot;</span><span class=\"p\">:</span><span class=\"w\"> </span><span class=\"s2\">&quot;Apostolos&quot;</span><span class=\"p\">,</span>\n",
       "<span class=\"w\">            </span><span class=\"nt\">&quot;location&quot;</span><span class=\"p\">:</span><span class=\"w\"> </span><span class=\"s2\">&quot;New York&quot;</span>\n",
       "<span class=\"w\">        </span><span class=\"p\">},</span>\n",
       "<span class=\"w\">        </span><span class=\"p\">{</span>\n",
       "<span class=\"w\">            </span><span class=\"nt\">&quot;name&quot;</span><span class=\"p\">:</span><span class=\"w\"> </span><span class=\"s2\">&quot;John&quot;</span><span class=\"p\">,</span>\n",
       "<span class=\"w\">            </span><span class=\"nt\">&quot;location&quot;</span><span class=\"p\">:</span><span class=\"w\"> </span><span class=\"s2\">&quot;Cambridge&quot;</span>\n",
       "<span class=\"w\">        </span><span class=\"p\">},</span>\n",
       "<span class=\"w\">        </span><span class=\"p\">{</span>\n",
       "<span class=\"w\">            </span><span class=\"nt\">&quot;name&quot;</span><span class=\"p\">:</span><span class=\"w\"> </span><span class=\"s2\">&quot;Robin&quot;</span><span class=\"p\">,</span>\n",
       "<span class=\"w\">            </span><span class=\"nt\">&quot;location&quot;</span><span class=\"p\">:</span><span class=\"w\"> </span><span class=\"s2\">&quot;Cambridge&quot;</span>\n",
       "<span class=\"w\">        </span><span class=\"p\">}</span>\n",
       "<span class=\"w\">    </span><span class=\"p\">]</span>\n",
       "<span class=\"p\">}</span>\n",
       "</pre></div>\n"
      ],
      "text/plain": [
       "ScenarioList([Scenario({'name': 'Apostolos', 'location': 'New York'}), Scenario({'name': 'John', 'location': 'Cambridge'}), Scenario({'name': 'Robin', 'location': 'Cambridge'})])"
      ]
     },
     "execution_count": 34,
     "metadata": {},
     "output_type": "execute_result"
    }
   ],
   "source": [
    "scenariolist = ScenarioList.from_csv(\"scenarios_example.csv\")\n",
    "scenariolist"
   ]
  },
  {
   "cell_type": "markdown",
   "id": "14cf5e27-fca0-49ba-b33a-2314beae758c",
   "metadata": {},
   "source": [
    "## Creating scenarios from a dictionary\n",
    "We can call the `from_dict()` method to create a `Scenario` or `ScenarioList` from a dictionary. Note that the dictionary must contain a key \"scenarios\":"
   ]
  },
  {
   "cell_type": "code",
   "execution_count": 35,
   "id": "c7ddc0f4-75c7-41ea-861a-be2f4937932d",
   "metadata": {},
   "outputs": [
    {
     "data": {
      "text/html": [
       "<div class=\"highlight\"><pre><span></span><span class=\"p\">{</span>\n",
       "<span class=\"w\">    </span><span class=\"nt\">&quot;name&quot;</span><span class=\"p\">:</span><span class=\"w\"> </span><span class=\"p\">[</span>\n",
       "<span class=\"w\">        </span><span class=\"s2\">&quot;Apostolos&quot;</span><span class=\"p\">,</span>\n",
       "<span class=\"w\">        </span><span class=\"s2\">&quot;John&quot;</span><span class=\"p\">,</span>\n",
       "<span class=\"w\">        </span><span class=\"s2\">&quot;Robin&quot;</span>\n",
       "<span class=\"w\">    </span><span class=\"p\">],</span>\n",
       "<span class=\"w\">    </span><span class=\"nt\">&quot;location&quot;</span><span class=\"p\">:</span><span class=\"w\"> </span><span class=\"p\">[</span>\n",
       "<span class=\"w\">        </span><span class=\"s2\">&quot;New York&quot;</span><span class=\"p\">,</span>\n",
       "<span class=\"w\">        </span><span class=\"s2\">&quot;Cambridge&quot;</span><span class=\"p\">,</span>\n",
       "<span class=\"w\">        </span><span class=\"s2\">&quot;Cambridge&quot;</span>\n",
       "<span class=\"w\">    </span><span class=\"p\">]</span>\n",
       "<span class=\"p\">}</span>\n",
       "</pre></div>\n"
      ],
      "text/plain": [
       "Scenario({'name': ['Apostolos', 'John', 'Robin'], 'location': ['New York', 'Cambridge', 'Cambridge']})"
      ]
     },
     "execution_count": 35,
     "metadata": {},
     "output_type": "execute_result"
    }
   ],
   "source": [
    "ep_founders = {\n",
    "    \"name\": [\"Apostolos\", \"John\", \"Robin\"],\n",
    "    \"location\": [\"New York\", \"Cambridge\", \"Cambridge\"]\n",
    "}\n",
    "\n",
    "ep_founders_scenario = Scenario().from_dict(ep_founders)\n",
    "ep_founders_scenario"
   ]
  },
  {
   "cell_type": "code",
   "execution_count": 36,
   "id": "5b467e49-7d18-4583-bba1-0b9f02a96900",
   "metadata": {},
   "outputs": [
    {
     "data": {
      "text/html": [
       "<div class=\"highlight\"><pre><span></span><span class=\"p\">{</span>\n",
       "<span class=\"w\">    </span><span class=\"nt\">&quot;scenarios&quot;</span><span class=\"p\">:</span><span class=\"w\"> </span><span class=\"p\">[</span>\n",
       "<span class=\"w\">        </span><span class=\"p\">{</span>\n",
       "<span class=\"w\">            </span><span class=\"nt\">&quot;name&quot;</span><span class=\"p\">:</span><span class=\"w\"> </span><span class=\"s2\">&quot;Apostolos&quot;</span>\n",
       "<span class=\"w\">        </span><span class=\"p\">},</span>\n",
       "<span class=\"w\">        </span><span class=\"p\">{</span>\n",
       "<span class=\"w\">            </span><span class=\"nt\">&quot;name&quot;</span><span class=\"p\">:</span><span class=\"w\"> </span><span class=\"s2\">&quot;John&quot;</span>\n",
       "<span class=\"w\">        </span><span class=\"p\">},</span>\n",
       "<span class=\"w\">        </span><span class=\"p\">{</span>\n",
       "<span class=\"w\">            </span><span class=\"nt\">&quot;name&quot;</span><span class=\"p\">:</span><span class=\"w\"> </span><span class=\"s2\">&quot;Robin&quot;</span>\n",
       "<span class=\"w\">        </span><span class=\"p\">}</span>\n",
       "<span class=\"w\">    </span><span class=\"p\">]</span>\n",
       "<span class=\"p\">}</span>\n",
       "</pre></div>\n"
      ],
      "text/plain": [
       "ScenarioList([Scenario({'name': 'Apostolos'}), Scenario({'name': 'John'}), Scenario({'name': 'Robin'})])"
      ]
     },
     "execution_count": 36,
     "metadata": {},
     "output_type": "execute_result"
    }
   ],
   "source": [
    "ep_founders_list = {\n",
    "    \"scenarios\": [\n",
    "        {\n",
    "            \"name\":\"Apostolos\"\n",
    "        },\n",
    "        {\n",
    "            \"name\":\"John\"\n",
    "        },\n",
    "        {\n",
    "            \"name\":\"Robin\"\n",
    "        }\n",
    "    ]\n",
    "}\n",
    "\n",
    "ep_founders_scenariolist = ScenarioList().from_dict(ep_founders_list)\n",
    "ep_founders_scenariolist"
   ]
  },
  {
   "cell_type": "markdown",
   "id": "106f0508-5aaa-4091-84c0-88b07e95182d",
   "metadata": {},
   "source": [
    "## Turning scenarios into a dictionary\n",
    "We can call the `to_dict()` method to turn a `Scenario` or `ScenarioList` into a dictionary:"
   ]
  },
  {
   "cell_type": "code",
   "execution_count": 37,
   "id": "695b1b12-13ff-49e9-b067-6cf9c696312f",
   "metadata": {},
   "outputs": [
    {
     "data": {
      "text/plain": [
       "{'scenarios': [{'name': 'Apostolos',\n",
       "   'edsl_version': '0.1.31.dev4',\n",
       "   'edsl_class_name': 'Scenario'},\n",
       "  {'name': 'John',\n",
       "   'edsl_version': '0.1.31.dev4',\n",
       "   'edsl_class_name': 'Scenario'},\n",
       "  {'name': 'Robin',\n",
       "   'edsl_version': '0.1.31.dev4',\n",
       "   'edsl_class_name': 'Scenario'}],\n",
       " 'edsl_version': '0.1.31.dev4',\n",
       " 'edsl_class_name': 'ScenarioList'}"
      ]
     },
     "execution_count": 37,
     "metadata": {},
     "output_type": "execute_result"
    }
   ],
   "source": [
    "scenariolist = ScenarioList(\n",
    "    [\n",
    "        Scenario({\"name\": \"Apostolos\"}),\n",
    "        Scenario({\"name\": \"John\"}),\n",
    "        Scenario({\"name\": \"Robin\"}),\n",
    "    ]\n",
    ")\n",
    "\n",
    "dict_scenariolist = scenariolist.to_dict()\n",
    "dict_scenariolist"
   ]
  },
  {
   "cell_type": "markdown",
   "id": "e8521d1d-534c-46e9-8a1c-1a3068250cbd",
   "metadata": {},
   "source": [
    "## Creating scenarios for webpages\n",
    "We can call the `from_url()` method to create a scenario for a webpage. Note that this automatically creates 2 keys `url` and `text` which can be used in questions (and modified as desired):"
   ]
  },
  {
   "cell_type": "code",
   "execution_count": 38,
   "id": "3fe00bf6-de60-4a1e-91f1-0870f4d3c589",
   "metadata": {},
   "outputs": [
    {
     "data": {
      "text/plain": [
       "['url', 'text']"
      ]
     },
     "execution_count": 38,
     "metadata": {},
     "output_type": "execute_result"
    }
   ],
   "source": [
    "scenario = Scenario.from_url(\"https://www.expectedparrot.com/about\")\n",
    "\n",
    "scenario.keys()"
   ]
  },
  {
   "cell_type": "markdown",
   "id": "d02c4d67-7a9c-491d-9f4d-50320f0f3a3c",
   "metadata": {},
   "source": [
    "Here we use the scenario to run some questions extracting information from the webpage:"
   ]
  },
  {
   "cell_type": "code",
   "execution_count": 39,
   "id": "18b74eac-2b8f-4324-8d23-b5e6509780e3",
   "metadata": {},
   "outputs": [],
   "source": [
    "from edsl import QuestionList, QuestionFreeText, Survey\n",
    "\n",
    "q_team = QuestionList(\n",
    "    question_name = \"team\",\n",
    "    question_text = \"Who is on the Expected Parrot team? {{ text }}\"\n",
    ")\n",
    "\n",
    "q_purpose = QuestionFreeText(\n",
    "    question_name = \"purpose\",\n",
    "    question_text = \"What is the purpose of Expected Parrot? {{ text }}\"\n",
    ")\n",
    "\n",
    "survey = Survey([q_team, q_purpose])\n",
    "\n",
    "results = survey.by(scenario).run()"
   ]
  },
  {
   "cell_type": "code",
   "execution_count": 40,
   "id": "7e717e43-f79f-436a-92a6-6c97754bd5e4",
   "metadata": {},
   "outputs": [
    {
     "data": {
      "text/html": [
       "<pre style=\"white-space:pre;overflow-x:auto;line-height:normal;font-family:Menlo,'DejaVu Sans Mono',consolas,'Courier New',monospace\">┏━━━━━━━━━━━━━━━━━━━━━━━━━━━━━━━━━━━━━┳━━━━━━━━━━━━━━━━━━━━━━━━━━━━━━━━━━━━━┳━━━━━━━━━━━━━━━━━━━━━━━━━━━━━━━━━━━━━┓\n",
       "┃<span style=\"color: #800080; text-decoration-color: #800080; font-weight: bold\"> scenario                            </span>┃<span style=\"color: #800080; text-decoration-color: #800080; font-weight: bold\"> answer                              </span>┃<span style=\"color: #800080; text-decoration-color: #800080; font-weight: bold\"> answer                              </span>┃\n",
       "┃<span style=\"color: #800080; text-decoration-color: #800080; font-weight: bold\"> .url                                </span>┃<span style=\"color: #800080; text-decoration-color: #800080; font-weight: bold\"> .team                               </span>┃<span style=\"color: #800080; text-decoration-color: #800080; font-weight: bold\"> .purpose                            </span>┃\n",
       "┡━━━━━━━━━━━━━━━━━━━━━━━━━━━━━━━━━━━━━╇━━━━━━━━━━━━━━━━━━━━━━━━━━━━━━━━━━━━━╇━━━━━━━━━━━━━━━━━━━━━━━━━━━━━━━━━━━━━┩\n",
       "│<span style=\"color: #7f7f7f; text-decoration-color: #7f7f7f\"> https://www.expectedparrot.com/abo… </span>│<span style=\"color: #7f7f7f; text-decoration-color: #7f7f7f\"> ['Robin Horton', 'John Horton',     </span>│<span style=\"color: #7f7f7f; text-decoration-color: #7f7f7f\"> Expected Parrot is a company        </span>│\n",
       "│<span style=\"color: #7f7f7f; text-decoration-color: #7f7f7f\">                                     </span>│<span style=\"color: #7f7f7f; text-decoration-color: #7f7f7f\"> 'Apostolos Filippas']               </span>│<span style=\"color: #7f7f7f; text-decoration-color: #7f7f7f\"> focused on creating research-backed </span>│\n",
       "│<span style=\"color: #7f7f7f; text-decoration-color: #7f7f7f\">                                     </span>│<span style=\"color: #7f7f7f; text-decoration-color: #7f7f7f\">                                     </span>│<span style=\"color: #7f7f7f; text-decoration-color: #7f7f7f\"> tools to advance computational      </span>│\n",
       "│<span style=\"color: #7f7f7f; text-decoration-color: #7f7f7f\">                                     </span>│<span style=\"color: #7f7f7f; text-decoration-color: #7f7f7f\">                                     </span>│<span style=\"color: #7f7f7f; text-decoration-color: #7f7f7f\"> social science. They leverage AI to </span>│\n",
       "│<span style=\"color: #7f7f7f; text-decoration-color: #7f7f7f\">                                     </span>│<span style=\"color: #7f7f7f; text-decoration-color: #7f7f7f\">                                     </span>│<span style=\"color: #7f7f7f; text-decoration-color: #7f7f7f\"> simulate surveys, experiments, and  </span>│\n",
       "│<span style=\"color: #7f7f7f; text-decoration-color: #7f7f7f\">                                     </span>│<span style=\"color: #7f7f7f; text-decoration-color: #7f7f7f\">                                     </span>│<span style=\"color: #7f7f7f; text-decoration-color: #7f7f7f\"> other empirical studies, which can  </span>│\n",
       "│<span style=\"color: #7f7f7f; text-decoration-color: #7f7f7f\">                                     </span>│<span style=\"color: #7f7f7f; text-decoration-color: #7f7f7f\">                                     </span>│<span style=\"color: #7f7f7f; text-decoration-color: #7f7f7f\"> be applied in social sciences,      </span>│\n",
       "│<span style=\"color: #7f7f7f; text-decoration-color: #7f7f7f\">                                     </span>│<span style=\"color: #7f7f7f; text-decoration-color: #7f7f7f\">                                     </span>│<span style=\"color: #7f7f7f; text-decoration-color: #7f7f7f\"> businesses, and other               </span>│\n",
       "│<span style=\"color: #7f7f7f; text-decoration-color: #7f7f7f\">                                     </span>│<span style=\"color: #7f7f7f; text-decoration-color: #7f7f7f\">                                     </span>│<span style=\"color: #7f7f7f; text-decoration-color: #7f7f7f\"> organizations. Their team is based  </span>│\n",
       "│<span style=\"color: #7f7f7f; text-decoration-color: #7f7f7f\">                                     </span>│<span style=\"color: #7f7f7f; text-decoration-color: #7f7f7f\">                                     </span>│<span style=\"color: #7f7f7f; text-decoration-color: #7f7f7f\"> in Cambridge, Massachusetts, and    </span>│\n",
       "│<span style=\"color: #7f7f7f; text-decoration-color: #7f7f7f\">                                     </span>│<span style=\"color: #7f7f7f; text-decoration-color: #7f7f7f\">                                     </span>│<span style=\"color: #7f7f7f; text-decoration-color: #7f7f7f\"> they have the backing of Bloomberg  </span>│\n",
       "│<span style=\"color: #7f7f7f; text-decoration-color: #7f7f7f\">                                     </span>│<span style=\"color: #7f7f7f; text-decoration-color: #7f7f7f\">                                     </span>│<span style=\"color: #7f7f7f; text-decoration-color: #7f7f7f\"> Beta. They offer opportunities for  </span>│\n",
       "│<span style=\"color: #7f7f7f; text-decoration-color: #7f7f7f\">                                     </span>│<span style=\"color: #7f7f7f; text-decoration-color: #7f7f7f\">                                     </span>│<span style=\"color: #7f7f7f; text-decoration-color: #7f7f7f\"> collaboration and are open to       </span>│\n",
       "│<span style=\"color: #7f7f7f; text-decoration-color: #7f7f7f\">                                     </span>│<span style=\"color: #7f7f7f; text-decoration-color: #7f7f7f\">                                     </span>│<span style=\"color: #7f7f7f; text-decoration-color: #7f7f7f\"> inquiries through their provided    </span>│\n",
       "│<span style=\"color: #7f7f7f; text-decoration-color: #7f7f7f\">                                     </span>│<span style=\"color: #7f7f7f; text-decoration-color: #7f7f7f\">                                     </span>│<span style=\"color: #7f7f7f; text-decoration-color: #7f7f7f\"> contact information.                </span>│\n",
       "└─────────────────────────────────────┴─────────────────────────────────────┴─────────────────────────────────────┘\n",
       "</pre>\n"
      ],
      "text/plain": [
       "┏━━━━━━━━━━━━━━━━━━━━━━━━━━━━━━━━━━━━━┳━━━━━━━━━━━━━━━━━━━━━━━━━━━━━━━━━━━━━┳━━━━━━━━━━━━━━━━━━━━━━━━━━━━━━━━━━━━━┓\n",
       "┃\u001b[1;35m \u001b[0m\u001b[1;35mscenario                           \u001b[0m\u001b[1;35m \u001b[0m┃\u001b[1;35m \u001b[0m\u001b[1;35manswer                             \u001b[0m\u001b[1;35m \u001b[0m┃\u001b[1;35m \u001b[0m\u001b[1;35manswer                             \u001b[0m\u001b[1;35m \u001b[0m┃\n",
       "┃\u001b[1;35m \u001b[0m\u001b[1;35m.url                               \u001b[0m\u001b[1;35m \u001b[0m┃\u001b[1;35m \u001b[0m\u001b[1;35m.team                              \u001b[0m\u001b[1;35m \u001b[0m┃\u001b[1;35m \u001b[0m\u001b[1;35m.purpose                           \u001b[0m\u001b[1;35m \u001b[0m┃\n",
       "┡━━━━━━━━━━━━━━━━━━━━━━━━━━━━━━━━━━━━━╇━━━━━━━━━━━━━━━━━━━━━━━━━━━━━━━━━━━━━╇━━━━━━━━━━━━━━━━━━━━━━━━━━━━━━━━━━━━━┩\n",
       "│\u001b[2m \u001b[0m\u001b[2mhttps://www.expectedparrot.com/abo…\u001b[0m\u001b[2m \u001b[0m│\u001b[2m \u001b[0m\u001b[2m['Robin Horton', 'John Horton',    \u001b[0m\u001b[2m \u001b[0m│\u001b[2m \u001b[0m\u001b[2mExpected Parrot is a company       \u001b[0m\u001b[2m \u001b[0m│\n",
       "│\u001b[2m                                     \u001b[0m│\u001b[2m \u001b[0m\u001b[2m'Apostolos Filippas']              \u001b[0m\u001b[2m \u001b[0m│\u001b[2m \u001b[0m\u001b[2mfocused on creating research-backed\u001b[0m\u001b[2m \u001b[0m│\n",
       "│\u001b[2m                                     \u001b[0m│\u001b[2m                                     \u001b[0m│\u001b[2m \u001b[0m\u001b[2mtools to advance computational     \u001b[0m\u001b[2m \u001b[0m│\n",
       "│\u001b[2m                                     \u001b[0m│\u001b[2m                                     \u001b[0m│\u001b[2m \u001b[0m\u001b[2msocial science. They leverage AI to\u001b[0m\u001b[2m \u001b[0m│\n",
       "│\u001b[2m                                     \u001b[0m│\u001b[2m                                     \u001b[0m│\u001b[2m \u001b[0m\u001b[2msimulate surveys, experiments, and \u001b[0m\u001b[2m \u001b[0m│\n",
       "│\u001b[2m                                     \u001b[0m│\u001b[2m                                     \u001b[0m│\u001b[2m \u001b[0m\u001b[2mother empirical studies, which can \u001b[0m\u001b[2m \u001b[0m│\n",
       "│\u001b[2m                                     \u001b[0m│\u001b[2m                                     \u001b[0m│\u001b[2m \u001b[0m\u001b[2mbe applied in social sciences,     \u001b[0m\u001b[2m \u001b[0m│\n",
       "│\u001b[2m                                     \u001b[0m│\u001b[2m                                     \u001b[0m│\u001b[2m \u001b[0m\u001b[2mbusinesses, and other              \u001b[0m\u001b[2m \u001b[0m│\n",
       "│\u001b[2m                                     \u001b[0m│\u001b[2m                                     \u001b[0m│\u001b[2m \u001b[0m\u001b[2morganizations. Their team is based \u001b[0m\u001b[2m \u001b[0m│\n",
       "│\u001b[2m                                     \u001b[0m│\u001b[2m                                     \u001b[0m│\u001b[2m \u001b[0m\u001b[2min Cambridge, Massachusetts, and   \u001b[0m\u001b[2m \u001b[0m│\n",
       "│\u001b[2m                                     \u001b[0m│\u001b[2m                                     \u001b[0m│\u001b[2m \u001b[0m\u001b[2mthey have the backing of Bloomberg \u001b[0m\u001b[2m \u001b[0m│\n",
       "│\u001b[2m                                     \u001b[0m│\u001b[2m                                     \u001b[0m│\u001b[2m \u001b[0m\u001b[2mBeta. They offer opportunities for \u001b[0m\u001b[2m \u001b[0m│\n",
       "│\u001b[2m                                     \u001b[0m│\u001b[2m                                     \u001b[0m│\u001b[2m \u001b[0m\u001b[2mcollaboration and are open to      \u001b[0m\u001b[2m \u001b[0m│\n",
       "│\u001b[2m                                     \u001b[0m│\u001b[2m                                     \u001b[0m│\u001b[2m \u001b[0m\u001b[2minquiries through their provided   \u001b[0m\u001b[2m \u001b[0m│\n",
       "│\u001b[2m                                     \u001b[0m│\u001b[2m                                     \u001b[0m│\u001b[2m \u001b[0m\u001b[2mcontact information.               \u001b[0m\u001b[2m \u001b[0m│\n",
       "└─────────────────────────────────────┴─────────────────────────────────────┴─────────────────────────────────────┘\n"
      ]
     },
     "metadata": {},
     "output_type": "display_data"
    }
   ],
   "source": [
    "results.select(\"url\", \"team\", \"purpose\").print(format=\"rich\")"
   ]
  },
  {
   "cell_type": "markdown",
   "id": "eeecd0de-5337-49a1-8beb-1a1f436c9272",
   "metadata": {},
   "source": [
    "## Creating scenarios for PDF pages\n",
    "We can call the `from_pdf()` method to turn the pages of a PDF or doc into a `Scenario` or `ScenarioList`. Here we use it for John's paper *\"Large Language Models as Simulated Economic Agents: What Can We Learn from Homo Silicus?\"* ([link to paper](https://arxiv.org/pdf/2301.07543)). Note that the keys `filename`, `page` and `text` are automatically specified, so the `question_text` placeholder that we use for the scenarios must be `{{ text }}`:"
   ]
  },
  {
   "cell_type": "code",
   "execution_count": 41,
   "id": "8d4a4b04-9129-4303-ad8d-7b8b6e068ea3",
   "metadata": {},
   "outputs": [],
   "source": [
    "import requests \n",
    "\n",
    "\n",
    "\n",
    "url = \"https://john-joseph-horton.com/papers/llm_ask.pdf\"\n",
    "response = requests.get(url)\n",
    "\n",
    "if response.status_code == 200:\n",
    "    with open(\"homo_silicus.pdf\", \"wb\") as file:\n",
    "        file.write(response.content)\n",
    "    print(\"PDF downloaded successfully.\")\n",
    "else:\n",
    "    print(f\"Failed to download PDF. Status code: {response.status_code}\")\n",
    "\n",
    "homo_silicus_scenariolist = ScenarioList.from_pdf(\"homo_silicus.pdf\")"
   ]
  },
  {
   "cell_type": "markdown",
   "id": "8ee994b3-b3fa-42cf-9351-9d80bddce4f7",
   "metadata": {},
   "source": [
    "Here we inspect a couple pages:"
   ]
  },
  {
   "cell_type": "code",
   "execution_count": 42,
   "id": "bef4f468-13bc-4708-bd6b-74f098c8a1bc",
   "metadata": {},
   "outputs": [
    {
     "data": {
      "text/plain": [
       "[{'filename': 'homo_silicus.pdf',\n",
       "  'page': 1,\n",
       "  'text': 'Large Language Models as Simulated Economic Agents:\\nWhat Can We Learn from Homo Silicus?∗\\nJohn J. Horton\\nMIT & NBER\\nJanuary 19, 2023\\nAbstract\\nNewly-developed large language models (LLM)—because of how they are trained and\\ndesigned—are implicit computational models of humans—a homo silicus. LLMs can be\\nused like economists use homo economicus: they can be given endowments, information,\\npreferences, and so on, and then their behavior can be explored in scenarios via simulation.\\nExperiments using this approach, derived from Charness and Rabin (2002), Kahneman,\\nKnetsch and Thaler (1986), and Samuelson and Zeckhauser (1988) show qualitatively\\nsimilar results to the original, but it is also easy to try variations for fresh insights. LLMs\\ncould allow researchers to pilot studies via simulation ﬁrst, searching for novel social sci-\\nence insights to test in the real world.\\n∗Thanks to the MIT Center for Collective Intelligence for generous oﬀer of funding, though all the ex-\\nperiments here cost only about $50 to run. Thanks to Daniel Rock, Elliot Lipnowski, Hong-Yi TuYe, Daron\\nAcemoglu, Shakked Noy, Jimbo Brand, David Autor, and Mohammed Alsobay for their helpful conversations\\nand comments. Special thanks to Yo Shavit, who has been extremely generous with his time and thinking.\\nThanks to GPT-3 for all this work and helping me describe the technology. Author contact information, code,\\nand data are currently or will be available at http://www.john-joseph-horton.com/.\\n1\\narXiv:2301.07543v1  [econ.GN]  18 Jan 2023\\n',\n",
       "  'edsl_version': '0.1.31.dev4',\n",
       "  'edsl_class_name': 'Scenario'},\n",
       " {'filename': 'homo_silicus.pdf',\n",
       "  'page': 2,\n",
       "  'text': '1\\nIntroduction\\nMost economic research takes one of two forms: (a) “What would homo economicus do?” and\\nb) “What did homo sapiens actually do?” The (a)-type research takes a maintained model\\nof humans, homo economicus, and subjects it to various economic scenarios, endowed with\\ndiﬀerent resources, preferences, information, etc., and then deducing behavior; this behavior\\ncan then be compared to the behavior of actual humans in (b)-type research.\\nIn this paper, I argue that newly developed large language models (LLM)—because of\\nhow they are trained and designed—can be thought of as implicit computational models of\\nhumans—a homo silicus.\\nThese models can be used the same way economists use homo\\neconomicus: they can be given endowments, put in scenarios, and then their behavior can\\nbe explored—though in the case of homo silicus, through computational simulation, not a\\nmathematical deduction.1 This is possible because LLMs can now respond realistically to a\\nwide range of textual inputs, giving responses similar to what we might expect from a human.\\nIt is essential to note that this is a new possibility—that LLMs of slightly older vintage are\\nunsuited for these tasks, as I will show.\\nI consider the reasons the reasons why AI experiments might be helpful in understand-\\ning actual humans. The core of the argument is that LLMs—by nature of their training\\nand design—are (1) computational models of humans and (2) likely possess a great deal of\\nlatent social information. For (1), the creators of LLMs have designed them to respond in\\nways similar to how a human would react to prompts—including prompts that are economic\\nscenarios. The design imperative to be “realistic”’ is why they can be thought of as com-\\nputational models of humans. For (2), these models likely capture latent social information\\nsuch as economic laws, decision-making heuristics, and common social preferences because\\nthe LLMs are trained on a corpus that contains a great deal of written text where people\\nreason about and discuss economic matters: What to buy, how to bargain, how to shop, how\\nto negotiate a job oﬀer, how to make a job oﬀer, how many hours to work, what to do when\\nprices increase, and so on.\\nLike all models, any particular homo silicus is wrong, but that judgment is separate from\\na decision about usefulness. To be clear, each homo silicus is a ﬂawed model and can often\\ngive responses far away from what is rational or even sensical. But ultimately, what will\\nmatter in practice is whether these AI experiments are practically valuable for generating\\ninsights. As such, the majority of the paper focuses on GPT-3 experiments.\\nEach experiment is motivated by a classic experiment in the behavioral economics lit-\\nerature.\\nI use Charness and Rabin (2002), Kahneman et al. (1986), and Samuelson and\\n1Lucas (1980) writes, “One of the functions of theoretical economics is to provide fully articulated, artiﬁcial\\neconomic systems that can serve as laboratories in which policies that would be prohibitively expensive to\\nexperiment with in actual economies can be tested out at much lower cost.”\\n2\\n',\n",
       "  'edsl_version': '0.1.31.dev4',\n",
       "  'edsl_class_name': 'Scenario'}]"
      ]
     },
     "execution_count": 42,
     "metadata": {},
     "output_type": "execute_result"
    }
   ],
   "source": [
    "homo_silicus_scenariolist[\"scenarios\"][0:2]"
   ]
  },
  {
   "cell_type": "markdown",
   "id": "013b14d0-f9ca-46b1-a8ad-d4efbacfe0d4",
   "metadata": {},
   "source": [
    "Example usage--note that we can [sort results](https://docs.expectedparrot.com/en/latest/results.html#sorting-results) by any component, [filter results](https://docs.expectedparrot.com/en/latest/notebooks/docs_questions.html#Filtering-results) using conditional expressions, and also [limit how many results to display](https://docs.expectedparrot.com/en/latest/results.html#limiting-results):"
   ]
  },
  {
   "cell_type": "code",
   "execution_count": 43,
   "id": "8bc68380-83f0-4484-a8ba-9e138a49057c",
   "metadata": {},
   "outputs": [],
   "source": [
    "q = QuestionFreeText(\n",
    "    question_name=\"summarize\", question_text=\"Summarize this page: {{ text }}\"\n",
    ")\n",
    "results = q.by(homo_silicus_scenariolist).run()"
   ]
  },
  {
   "cell_type": "code",
   "execution_count": 44,
   "id": "069a33d8-2b6e-4ce9-974b-f39789b8b4ae",
   "metadata": {},
   "outputs": [
    {
     "data": {
      "text/html": [
       "<pre style=\"white-space:pre;overflow-x:auto;line-height:normal;font-family:Menlo,'DejaVu Sans Mono',consolas,'Courier New',monospace\">┏━━━━━━━━━━┳━━━━━━━━━━━━━━━━━━━━━━━━━━━━━━━━━━━━━━━━━━━━━━━━━━━━━━━━━━━━━━━━━━━━━━━━━━━━━━━━━━━━━━━━━━━━━━━━━━━━━━┓\n",
       "┃<span style=\"color: #800080; text-decoration-color: #800080; font-weight: bold\"> scenario </span>┃<span style=\"color: #800080; text-decoration-color: #800080; font-weight: bold\"> answer                                                                                               </span>┃\n",
       "┃<span style=\"color: #800080; text-decoration-color: #800080; font-weight: bold\"> .page    </span>┃<span style=\"color: #800080; text-decoration-color: #800080; font-weight: bold\"> .summarize                                                                                           </span>┃\n",
       "┡━━━━━━━━━━╇━━━━━━━━━━━━━━━━━━━━━━━━━━━━━━━━━━━━━━━━━━━━━━━━━━━━━━━━━━━━━━━━━━━━━━━━━━━━━━━━━━━━━━━━━━━━━━━━━━━━━━┩\n",
       "│<span style=\"color: #7f7f7f; text-decoration-color: #7f7f7f\"> 2        </span>│<span style=\"color: #7f7f7f; text-decoration-color: #7f7f7f\"> This page introduces the concept of large language models (LLMs) as computational models of human    </span>│\n",
       "│<span style=\"color: #7f7f7f; text-decoration-color: #7f7f7f\">          </span>│<span style=\"color: #7f7f7f; text-decoration-color: #7f7f7f\"> behavior, termed as 'homo silicus.' It discusses how these models can be used in economic research   </span>│\n",
       "│<span style=\"color: #7f7f7f; text-decoration-color: #7f7f7f\">          </span>│<span style=\"color: #7f7f7f; text-decoration-color: #7f7f7f\"> to simulate human responses in various scenarios, similar to the theoretical 'homo economicus' used  </span>│\n",
       "│<span style=\"color: #7f7f7f; text-decoration-color: #7f7f7f\">          </span>│<span style=\"color: #7f7f7f; text-decoration-color: #7f7f7f\"> in traditional economic models. The LLMs, trained on vast corpora of human language, can provide     </span>│\n",
       "│<span style=\"color: #7f7f7f; text-decoration-color: #7f7f7f\">          </span>│<span style=\"color: #7f7f7f; text-decoration-color: #7f7f7f\"> insights into human economic behavior by capturing latent social information and economic reasoning. </span>│\n",
       "│<span style=\"color: #7f7f7f; text-decoration-color: #7f7f7f\">          </span>│<span style=\"color: #7f7f7f; text-decoration-color: #7f7f7f\"> While acknowledging that LLMs are imperfect models, the paper emphasizes their potential usefulness  </span>│\n",
       "│<span style=\"color: #7f7f7f; text-decoration-color: #7f7f7f\">          </span>│<span style=\"color: #7f7f7f; text-decoration-color: #7f7f7f\"> in generating valuable insights and focuses on experiments with GPT-3 that are motivated by classic  </span>│\n",
       "│<span style=\"color: #7f7f7f; text-decoration-color: #7f7f7f\">          </span>│<span style=\"color: #7f7f7f; text-decoration-color: #7f7f7f\"> behavioral economics studies.                                                                        </span>│\n",
       "├──────────┼──────────────────────────────────────────────────────────────────────────────────────────────────────┤\n",
       "│<span style=\"color: #7f7f7f; text-decoration-color: #7f7f7f\"> 3        </span>│<span style=\"color: #7f7f7f; text-decoration-color: #7f7f7f\"> The page summarizes a series of experiments designed to understand how AI, particularly the GPT-3    </span>│\n",
       "│<span style=\"color: #7f7f7f; text-decoration-color: #7f7f7f\">          </span>│<span style=\"color: #7f7f7f; text-decoration-color: #7f7f7f\"> model, responds to different economic scenarios and social preferences. The experiments include a    </span>│\n",
       "│<span style=\"color: #7f7f7f; text-decoration-color: #7f7f7f\">          </span>│<span style=\"color: #7f7f7f; text-decoration-color: #7f7f7f\"> unilateral dictator game demonstrating that AI behavior changes based on whether it is endowed with  </span>│\n",
       "│<span style=\"color: #7f7f7f; text-decoration-color: #7f7f7f\">          </span>│<span style=\"color: #7f7f7f; text-decoration-color: #7f7f7f\"> preferences for equity, efficiency, or self-interest. The AI tends to choose efficient outcomes by   </span>│\n",
       "│<span style=\"color: #7f7f7f; text-decoration-color: #7f7f7f\">          </span>│<span style=\"color: #7f7f7f; text-decoration-color: #7f7f7f\"> default, but only the advanced GPT-3 text-davinci-003 model can adapt its choices based on the given </span>│\n",
       "│<span style=\"color: #7f7f7f; text-decoration-color: #7f7f7f\">          </span>│<span style=\"color: #7f7f7f; text-decoration-color: #7f7f7f\"> preference. The paper also explores responses to price gouging, showing that AI views on fairness    </span>│\n",
       "│<span style=\"color: #7f7f7f; text-decoration-color: #7f7f7f\">          </span>│<span style=\"color: #7f7f7f; text-decoration-color: #7f7f7f\"> are influenced by the amount of price increase and political leanings, but not so much by framing.   </span>│\n",
       "│<span style=\"color: #7f7f7f; text-decoration-color: #7f7f7f\">          </span>│<span style=\"color: #7f7f7f; text-decoration-color: #7f7f7f\"> The status quo bias, where people prefer options presented as the current state, is replicated with  </span>│\n",
       "│<span style=\"color: #7f7f7f; text-decoration-color: #7f7f7f\">          </span>│<span style=\"color: #7f7f7f; text-decoration-color: #7f7f7f\"> AI when endowed with baseline views on car or highway safety. Lastly, a hiring scenario shows that   </span>│\n",
       "│<span style=\"color: #7f7f7f; text-decoration-color: #7f7f7f\">          </span>│<span style=\"color: #7f7f7f; text-decoration-color: #7f7f7f\"> imposing a minimum wage leads to AI hiring more experienced workers due to wage shifts, mirroring    </span>│\n",
       "│<span style=\"color: #7f7f7f; text-decoration-color: #7f7f7f\">          </span>│<span style=\"color: #7f7f7f; text-decoration-color: #7f7f7f\"> human employer behavior. These experiments aim to compare AI behavior with human responses in        </span>│\n",
       "│<span style=\"color: #7f7f7f; text-decoration-color: #7f7f7f\">          </span>│<span style=\"color: #7f7f7f; text-decoration-color: #7f7f7f\"> economic decision-making.                                                                            </span>│\n",
       "├──────────┼──────────────────────────────────────────────────────────────────────────────────────────────────────┤\n",
       "│<span style=\"color: #7f7f7f; text-decoration-color: #7f7f7f\"> 4        </span>│<span style=\"color: #7f7f7f; text-decoration-color: #7f7f7f\"> The page discusses the value of using large language models (LLMs) like GPT-3 for running economic   </span>│\n",
       "│<span style=\"color: #7f7f7f; text-decoration-color: #7f7f7f\">          </span>│<span style=\"color: #7f7f7f; text-decoration-color: #7f7f7f\"> experiments. It suggests that LLMs can simulate human-like responses in experiments quickly and      </span>│\n",
       "│<span style=\"color: #7f7f7f; text-decoration-color: #7f7f7f\">          </span>│<span style=\"color: #7f7f7f; text-decoration-color: #7f7f7f\"> cheaply, providing insights and guiding empirical work. This approach can explore parameter spaces,  </span>│\n",
       "│<span style=\"color: #7f7f7f; text-decoration-color: #7f7f7f\">          </span>│<span style=\"color: #7f7f7f; text-decoration-color: #7f7f7f\"> test sensitivity to question wording, and predict actual data patterns. The paper compares this to   </span>│\n",
       "│<span style=\"color: #7f7f7f; text-decoration-color: #7f7f7f\">          </span>│<span style=\"color: #7f7f7f; text-decoration-color: #7f7f7f\"> economists building 'toy models' to help think through problems. It contrasts with related work by   </span>│\n",
       "│<span style=\"color: #7f7f7f; text-decoration-color: #7f7f7f\">          </span>│<span style=\"color: #7f7f7f; text-decoration-color: #7f7f7f\"> showing LLMs' use in economic theories and the role of foundational assumptions like rationality.    </span>│\n",
       "│<span style=\"color: #7f7f7f; text-decoration-color: #7f7f7f\">          </span>│<span style=\"color: #7f7f7f; text-decoration-color: #7f7f7f\"> The page also provides a non-technical background on LLMs, arguing that a deep technical             </span>│\n",
       "│<span style=\"color: #7f7f7f; text-decoration-color: #7f7f7f\">          </span>│<span style=\"color: #7f7f7f; text-decoration-color: #7f7f7f\"> understanding is not necessary for their use in economics, similar to how economists don't need to   </span>│\n",
       "│<span style=\"color: #7f7f7f; text-decoration-color: #7f7f7f\">          </span>│<span style=\"color: #7f7f7f; text-decoration-color: #7f7f7f\"> study brain neurons. The page posits LLMs as a tool to indirectly study human behavior, rather than  </span>│\n",
       "│<span style=\"color: #7f7f7f; text-decoration-color: #7f7f7f\">          </span>│<span style=\"color: #7f7f7f; text-decoration-color: #7f7f7f\"> studying LLMs themselves or using them in productive processes.                                      </span>│\n",
       "└──────────┴──────────────────────────────────────────────────────────────────────────────────────────────────────┘\n",
       "</pre>\n"
      ],
      "text/plain": [
       "┏━━━━━━━━━━┳━━━━━━━━━━━━━━━━━━━━━━━━━━━━━━━━━━━━━━━━━━━━━━━━━━━━━━━━━━━━━━━━━━━━━━━━━━━━━━━━━━━━━━━━━━━━━━━━━━━━━━┓\n",
       "┃\u001b[1;35m \u001b[0m\u001b[1;35mscenario\u001b[0m\u001b[1;35m \u001b[0m┃\u001b[1;35m \u001b[0m\u001b[1;35manswer                                                                                              \u001b[0m\u001b[1;35m \u001b[0m┃\n",
       "┃\u001b[1;35m \u001b[0m\u001b[1;35m.page   \u001b[0m\u001b[1;35m \u001b[0m┃\u001b[1;35m \u001b[0m\u001b[1;35m.summarize                                                                                          \u001b[0m\u001b[1;35m \u001b[0m┃\n",
       "┡━━━━━━━━━━╇━━━━━━━━━━━━━━━━━━━━━━━━━━━━━━━━━━━━━━━━━━━━━━━━━━━━━━━━━━━━━━━━━━━━━━━━━━━━━━━━━━━━━━━━━━━━━━━━━━━━━━┩\n",
       "│\u001b[2m \u001b[0m\u001b[2m2       \u001b[0m\u001b[2m \u001b[0m│\u001b[2m \u001b[0m\u001b[2mThis page introduces the concept of large language models (LLMs) as computational models of human   \u001b[0m\u001b[2m \u001b[0m│\n",
       "│\u001b[2m          \u001b[0m│\u001b[2m \u001b[0m\u001b[2mbehavior, termed as 'homo silicus.' It discusses how these models can be used in economic research  \u001b[0m\u001b[2m \u001b[0m│\n",
       "│\u001b[2m          \u001b[0m│\u001b[2m \u001b[0m\u001b[2mto simulate human responses in various scenarios, similar to the theoretical 'homo economicus' used \u001b[0m\u001b[2m \u001b[0m│\n",
       "│\u001b[2m          \u001b[0m│\u001b[2m \u001b[0m\u001b[2min traditional economic models. The LLMs, trained on vast corpora of human language, can provide    \u001b[0m\u001b[2m \u001b[0m│\n",
       "│\u001b[2m          \u001b[0m│\u001b[2m \u001b[0m\u001b[2minsights into human economic behavior by capturing latent social information and economic reasoning.\u001b[0m\u001b[2m \u001b[0m│\n",
       "│\u001b[2m          \u001b[0m│\u001b[2m \u001b[0m\u001b[2mWhile acknowledging that LLMs are imperfect models, the paper emphasizes their potential usefulness \u001b[0m\u001b[2m \u001b[0m│\n",
       "│\u001b[2m          \u001b[0m│\u001b[2m \u001b[0m\u001b[2min generating valuable insights and focuses on experiments with GPT-3 that are motivated by classic \u001b[0m\u001b[2m \u001b[0m│\n",
       "│\u001b[2m          \u001b[0m│\u001b[2m \u001b[0m\u001b[2mbehavioral economics studies.                                                                       \u001b[0m\u001b[2m \u001b[0m│\n",
       "├──────────┼──────────────────────────────────────────────────────────────────────────────────────────────────────┤\n",
       "│\u001b[2m \u001b[0m\u001b[2m3       \u001b[0m\u001b[2m \u001b[0m│\u001b[2m \u001b[0m\u001b[2mThe page summarizes a series of experiments designed to understand how AI, particularly the GPT-3   \u001b[0m\u001b[2m \u001b[0m│\n",
       "│\u001b[2m          \u001b[0m│\u001b[2m \u001b[0m\u001b[2mmodel, responds to different economic scenarios and social preferences. The experiments include a   \u001b[0m\u001b[2m \u001b[0m│\n",
       "│\u001b[2m          \u001b[0m│\u001b[2m \u001b[0m\u001b[2munilateral dictator game demonstrating that AI behavior changes based on whether it is endowed with \u001b[0m\u001b[2m \u001b[0m│\n",
       "│\u001b[2m          \u001b[0m│\u001b[2m \u001b[0m\u001b[2mpreferences for equity, efficiency, or self-interest. The AI tends to choose efficient outcomes by  \u001b[0m\u001b[2m \u001b[0m│\n",
       "│\u001b[2m          \u001b[0m│\u001b[2m \u001b[0m\u001b[2mdefault, but only the advanced GPT-3 text-davinci-003 model can adapt its choices based on the given\u001b[0m\u001b[2m \u001b[0m│\n",
       "│\u001b[2m          \u001b[0m│\u001b[2m \u001b[0m\u001b[2mpreference. The paper also explores responses to price gouging, showing that AI views on fairness   \u001b[0m\u001b[2m \u001b[0m│\n",
       "│\u001b[2m          \u001b[0m│\u001b[2m \u001b[0m\u001b[2mare influenced by the amount of price increase and political leanings, but not so much by framing.  \u001b[0m\u001b[2m \u001b[0m│\n",
       "│\u001b[2m          \u001b[0m│\u001b[2m \u001b[0m\u001b[2mThe status quo bias, where people prefer options presented as the current state, is replicated with \u001b[0m\u001b[2m \u001b[0m│\n",
       "│\u001b[2m          \u001b[0m│\u001b[2m \u001b[0m\u001b[2mAI when endowed with baseline views on car or highway safety. Lastly, a hiring scenario shows that  \u001b[0m\u001b[2m \u001b[0m│\n",
       "│\u001b[2m          \u001b[0m│\u001b[2m \u001b[0m\u001b[2mimposing a minimum wage leads to AI hiring more experienced workers due to wage shifts, mirroring   \u001b[0m\u001b[2m \u001b[0m│\n",
       "│\u001b[2m          \u001b[0m│\u001b[2m \u001b[0m\u001b[2mhuman employer behavior. These experiments aim to compare AI behavior with human responses in       \u001b[0m\u001b[2m \u001b[0m│\n",
       "│\u001b[2m          \u001b[0m│\u001b[2m \u001b[0m\u001b[2meconomic decision-making.                                                                           \u001b[0m\u001b[2m \u001b[0m│\n",
       "├──────────┼──────────────────────────────────────────────────────────────────────────────────────────────────────┤\n",
       "│\u001b[2m \u001b[0m\u001b[2m4       \u001b[0m\u001b[2m \u001b[0m│\u001b[2m \u001b[0m\u001b[2mThe page discusses the value of using large language models (LLMs) like GPT-3 for running economic  \u001b[0m\u001b[2m \u001b[0m│\n",
       "│\u001b[2m          \u001b[0m│\u001b[2m \u001b[0m\u001b[2mexperiments. It suggests that LLMs can simulate human-like responses in experiments quickly and     \u001b[0m\u001b[2m \u001b[0m│\n",
       "│\u001b[2m          \u001b[0m│\u001b[2m \u001b[0m\u001b[2mcheaply, providing insights and guiding empirical work. This approach can explore parameter spaces, \u001b[0m\u001b[2m \u001b[0m│\n",
       "│\u001b[2m          \u001b[0m│\u001b[2m \u001b[0m\u001b[2mtest sensitivity to question wording, and predict actual data patterns. The paper compares this to  \u001b[0m\u001b[2m \u001b[0m│\n",
       "│\u001b[2m          \u001b[0m│\u001b[2m \u001b[0m\u001b[2meconomists building 'toy models' to help think through problems. It contrasts with related work by  \u001b[0m\u001b[2m \u001b[0m│\n",
       "│\u001b[2m          \u001b[0m│\u001b[2m \u001b[0m\u001b[2mshowing LLMs' use in economic theories and the role of foundational assumptions like rationality.   \u001b[0m\u001b[2m \u001b[0m│\n",
       "│\u001b[2m          \u001b[0m│\u001b[2m \u001b[0m\u001b[2mThe page also provides a non-technical background on LLMs, arguing that a deep technical            \u001b[0m\u001b[2m \u001b[0m│\n",
       "│\u001b[2m          \u001b[0m│\u001b[2m \u001b[0m\u001b[2munderstanding is not necessary for their use in economics, similar to how economists don't need to  \u001b[0m\u001b[2m \u001b[0m│\n",
       "│\u001b[2m          \u001b[0m│\u001b[2m \u001b[0m\u001b[2mstudy brain neurons. The page posits LLMs as a tool to indirectly study human behavior, rather than \u001b[0m\u001b[2m \u001b[0m│\n",
       "│\u001b[2m          \u001b[0m│\u001b[2m \u001b[0m\u001b[2mstudying LLMs themselves or using them in productive processes.                                     \u001b[0m\u001b[2m \u001b[0m│\n",
       "└──────────┴──────────────────────────────────────────────────────────────────────────────────────────────────────┘\n"
      ]
     },
     "metadata": {},
     "output_type": "display_data"
    }
   ],
   "source": [
    "(\n",
    "    results.sort_by(\"page\")\n",
    "    .filter(\"page > 1\")\n",
    "    .select(\"page\", \"summarize\")\n",
    "    .print(format=\"rich\", max_rows=3)\n",
    ")"
   ]
  },
  {
   "cell_type": "markdown",
   "id": "04de3a53-8143-4677-8f58-715e879a6887",
   "metadata": {},
   "source": [
    "## Creating scenarios for images\n",
    "We can call the `from_image()` method to create a scenario for an image. Here we use it for Figure 1 in the <i>Home Silicus</i> paper.\n",
    "\n",
    "Note that this method must be used with a vision model (e.g., GPT-4o) and does not require the use of a `{{ placeholder }}` in the question text. The scenario keys `file_path` and `encoded_image` are generated automatically:"
   ]
  },
  {
   "cell_type": "code",
   "execution_count": 45,
   "id": "51d43987-0716-4dfa-ba6b-f9de3a6d2c32",
   "metadata": {},
   "outputs": [],
   "source": [
    "from edsl import Model\n",
    "\n",
    "model = Model(\"gpt-4o\")"
   ]
  },
  {
   "cell_type": "code",
   "execution_count": 46,
   "id": "371f9001-d5e4-46fe-b487-792afad46649",
   "metadata": {},
   "outputs": [],
   "source": [
    "image_scenario = Scenario.from_image(\"homo_silicus_figure1.png\")"
   ]
  },
  {
   "cell_type": "code",
   "execution_count": 47,
   "id": "f71785f9-74e1-4980-a48b-aecdf5506223",
   "metadata": {},
   "outputs": [
    {
     "data": {
      "text/plain": [
       "['file_path', 'encoded_image']"
      ]
     },
     "execution_count": 47,
     "metadata": {},
     "output_type": "execute_result"
    }
   ],
   "source": [
    "image_scenario.keys()"
   ]
  },
  {
   "cell_type": "markdown",
   "id": "c3392c42-2fd8-45d4-833c-e8a4435ed803",
   "metadata": {},
   "source": [
    "Example usage:"
   ]
  },
  {
   "cell_type": "code",
   "execution_count": 48,
   "id": "43eb415a-130e-4591-b181-87e9d046e35b",
   "metadata": {},
   "outputs": [
    {
     "data": {
      "text/html": [
       "<pre style=\"white-space:pre;overflow-x:auto;line-height:normal;font-family:Menlo,'DejaVu Sans Mono',consolas,'Courier New',monospace\">┏━━━━━━━━━━━━━━━━━━━━━━━━━━━━━━━━━━━━━━━━━━━━━━━━━━━━━━━━━━━━━━━━━━━━━━━━━━━━━━━━━━━━━━━━━━━━━━━━━━━━━━━━━━━━━━━━━┓\n",
       "┃<span style=\"color: #800080; text-decoration-color: #800080; font-weight: bold\"> answer                                                                                                          </span>┃\n",
       "┃<span style=\"color: #800080; text-decoration-color: #800080; font-weight: bold\"> .figure                                                                                                         </span>┃\n",
       "┡━━━━━━━━━━━━━━━━━━━━━━━━━━━━━━━━━━━━━━━━━━━━━━━━━━━━━━━━━━━━━━━━━━━━━━━━━━━━━━━━━━━━━━━━━━━━━━━━━━━━━━━━━━━━━━━━━┩\n",
       "│<span style=\"color: #7f7f7f; text-decoration-color: #7f7f7f\"> The graphic illustrates the choices made by different models (Charness &amp; Rabin Population, GPT3 with various    </span>│\n",
       "│<span style=\"color: #7f7f7f; text-decoration-color: #7f7f7f\"> endowments, Advanced GPT3, Human Brain, and Prior GPT3) in a series of simple tests. Each row represents a      </span>│\n",
       "│<span style=\"color: #7f7f7f; text-decoration-color: #7f7f7f\"> different test scenario (Berk29, Berk26, etc.), and the columns show the fraction of subjects (either human or  </span>│\n",
       "│<span style=\"color: #7f7f7f; text-decoration-color: #7f7f7f\"> AI models) choosing each option (Left or Right). The numbers in the boxes represent the proportion of subjects  </span>│\n",
       "│<span style=\"color: #7f7f7f; text-decoration-color: #7f7f7f\"> choosing that option. The graphic compares how different models and endowments influence decision-making,       </span>│\n",
       "│<span style=\"color: #7f7f7f; text-decoration-color: #7f7f7f\"> highlighting variations in choices across different scenarios and model types.                                  </span>│\n",
       "└─────────────────────────────────────────────────────────────────────────────────────────────────────────────────┘\n",
       "</pre>\n"
      ],
      "text/plain": [
       "┏━━━━━━━━━━━━━━━━━━━━━━━━━━━━━━━━━━━━━━━━━━━━━━━━━━━━━━━━━━━━━━━━━━━━━━━━━━━━━━━━━━━━━━━━━━━━━━━━━━━━━━━━━━━━━━━━━┓\n",
       "┃\u001b[1;35m \u001b[0m\u001b[1;35manswer                                                                                                         \u001b[0m\u001b[1;35m \u001b[0m┃\n",
       "┃\u001b[1;35m \u001b[0m\u001b[1;35m.figure                                                                                                        \u001b[0m\u001b[1;35m \u001b[0m┃\n",
       "┡━━━━━━━━━━━━━━━━━━━━━━━━━━━━━━━━━━━━━━━━━━━━━━━━━━━━━━━━━━━━━━━━━━━━━━━━━━━━━━━━━━━━━━━━━━━━━━━━━━━━━━━━━━━━━━━━━┩\n",
       "│\u001b[2m \u001b[0m\u001b[2mThe graphic illustrates the choices made by different models (Charness & Rabin Population, GPT3 with various   \u001b[0m\u001b[2m \u001b[0m│\n",
       "│\u001b[2m \u001b[0m\u001b[2mendowments, Advanced GPT3, Human Brain, and Prior GPT3) in a series of simple tests. Each row represents a     \u001b[0m\u001b[2m \u001b[0m│\n",
       "│\u001b[2m \u001b[0m\u001b[2mdifferent test scenario (Berk29, Berk26, etc.), and the columns show the fraction of subjects (either human or \u001b[0m\u001b[2m \u001b[0m│\n",
       "│\u001b[2m \u001b[0m\u001b[2mAI models) choosing each option (Left or Right). The numbers in the boxes represent the proportion of subjects \u001b[0m\u001b[2m \u001b[0m│\n",
       "│\u001b[2m \u001b[0m\u001b[2mchoosing that option. The graphic compares how different models and endowments influence decision-making,      \u001b[0m\u001b[2m \u001b[0m│\n",
       "│\u001b[2m \u001b[0m\u001b[2mhighlighting variations in choices across different scenarios and model types.                                 \u001b[0m\u001b[2m \u001b[0m│\n",
       "└─────────────────────────────────────────────────────────────────────────────────────────────────────────────────┘\n"
      ]
     },
     "metadata": {},
     "output_type": "display_data"
    }
   ],
   "source": [
    "q = QuestionFreeText(\n",
    "    question_name=\"figure\",\n",
    "    question_text=\"Explain the graphic on this page.\",  # no scenario placeholder\n",
    ")\n",
    "\n",
    "results = q.by(image_scenario).by(model).run()\n",
    "results.select(\"figure\").print(format=\"rich\")"
   ]
  },
  {
   "cell_type": "markdown",
   "id": "51ac6653-8356-4ba3-aef2-72c8731bf5ee",
   "metadata": {},
   "source": [
    "## Generating code for scenarios\n",
    "We can call the `code()` method to generate the code for producing scenarios (it can also be copied directly at the Coop):"
   ]
  },
  {
   "cell_type": "code",
   "execution_count": 49,
   "id": "2fbbe33f-eae4-4c95-b815-bdd48492080a",
   "metadata": {},
   "outputs": [
    {
     "data": {
      "text/plain": [
       "['from edsl.scenarios.Scenario import Scenario\\nfrom edsl.scenarios.ScenarioList import ScenarioList',\n",
       " \"scenario_0 = Scenario({'persona': 'A reseacher studying whether LLMs can be used to generate surveys.'})\",\n",
       " \"scenario_1 = Scenario({'persona': 'A reseacher studying whether LLMs can be used to generate surveys.'})\",\n",
       " 'scenarios = ScenarioList([scenario_0, scenario_1])']"
      ]
     },
     "execution_count": 49,
     "metadata": {},
     "output_type": "execute_result"
    }
   ],
   "source": [
    "scenariolist = ScenarioList.example()\n",
    "\n",
    "scenariolist_code = scenariolist.code()\n",
    "scenariolist_code"
   ]
  },
  {
   "cell_type": "code",
   "execution_count": 50,
   "id": "6b5d458d-6769-4449-a97e-5f74c30d2ec1",
   "metadata": {
    "editable": true,
    "slideshow": {
     "slide_type": ""
    },
    "tags": []
   },
   "outputs": [],
   "source": [
    "from edsl import ScenarioList, Scenario\n",
    "\n",
    "scenario_0 = Scenario(\n",
    "    {\"persona\": \"A reseacher studying whether LLMs can be used to generate surveys.\"}\n",
    ")\n",
    "scenario_1 = Scenario(\n",
    "    {\"persona\": \"A reseacher studying whether LLMs can be used to generate surveys.\"}\n",
    ")\n",
    "scenarios = ScenarioList([scenario_0, scenario_1])"
   ]
  },
  {
   "cell_type": "markdown",
   "id": "78fd1408-ac1e-4cab-87fc-e6a80758af61",
   "metadata": {},
   "source": [
    "## Converting a `ScenarioList` into an `AgentList`\n",
    "We can call the `to_agent_list()` method to convert a `ScenarioList` into an `AgentList`. Note that agent `traits` cannot include a \"name\" key as `agent_name` is a separate optional field of `Agent` objects:"
   ]
  },
  {
   "cell_type": "code",
   "execution_count": 51,
   "id": "e925684a-c495-4984-93aa-d87efce19369",
   "metadata": {},
   "outputs": [
    {
     "data": {
      "text/html": [
       "<div class=\"highlight\"><pre><span></span><span class=\"p\">[</span>\n",
       "<span class=\"w\">    </span><span class=\"p\">{</span>\n",
       "<span class=\"w\">        </span><span class=\"nt\">&quot;traits&quot;</span><span class=\"p\">:</span><span class=\"w\"> </span><span class=\"p\">{</span>\n",
       "<span class=\"w\">            </span><span class=\"nt\">&quot;first_name&quot;</span><span class=\"p\">:</span><span class=\"w\"> </span><span class=\"s2\">&quot;Apostolos&quot;</span><span class=\"p\">,</span>\n",
       "<span class=\"w\">            </span><span class=\"nt\">&quot;location&quot;</span><span class=\"p\">:</span><span class=\"w\"> </span><span class=\"s2\">&quot;New York&quot;</span>\n",
       "<span class=\"w\">        </span><span class=\"p\">},</span>\n",
       "<span class=\"w\">        </span><span class=\"nt\">&quot;edsl_version&quot;</span><span class=\"p\">:</span><span class=\"w\"> </span><span class=\"s2\">&quot;0.1.31.dev4&quot;</span><span class=\"p\">,</span>\n",
       "<span class=\"w\">        </span><span class=\"nt\">&quot;edsl_class_name&quot;</span><span class=\"p\">:</span><span class=\"w\"> </span><span class=\"s2\">&quot;Agent&quot;</span>\n",
       "<span class=\"w\">    </span><span class=\"p\">},</span>\n",
       "<span class=\"w\">    </span><span class=\"p\">{</span>\n",
       "<span class=\"w\">        </span><span class=\"nt\">&quot;traits&quot;</span><span class=\"p\">:</span><span class=\"w\"> </span><span class=\"p\">{</span>\n",
       "<span class=\"w\">            </span><span class=\"nt\">&quot;first_name&quot;</span><span class=\"p\">:</span><span class=\"w\"> </span><span class=\"s2\">&quot;John&quot;</span><span class=\"p\">,</span>\n",
       "<span class=\"w\">            </span><span class=\"nt\">&quot;location&quot;</span><span class=\"p\">:</span><span class=\"w\"> </span><span class=\"s2\">&quot;Cambridge&quot;</span>\n",
       "<span class=\"w\">        </span><span class=\"p\">},</span>\n",
       "<span class=\"w\">        </span><span class=\"nt\">&quot;edsl_version&quot;</span><span class=\"p\">:</span><span class=\"w\"> </span><span class=\"s2\">&quot;0.1.31.dev4&quot;</span><span class=\"p\">,</span>\n",
       "<span class=\"w\">        </span><span class=\"nt\">&quot;edsl_class_name&quot;</span><span class=\"p\">:</span><span class=\"w\"> </span><span class=\"s2\">&quot;Agent&quot;</span>\n",
       "<span class=\"w\">    </span><span class=\"p\">},</span>\n",
       "<span class=\"w\">    </span><span class=\"p\">{</span>\n",
       "<span class=\"w\">        </span><span class=\"nt\">&quot;traits&quot;</span><span class=\"p\">:</span><span class=\"w\"> </span><span class=\"p\">{</span>\n",
       "<span class=\"w\">            </span><span class=\"nt\">&quot;first_name&quot;</span><span class=\"p\">:</span><span class=\"w\"> </span><span class=\"s2\">&quot;Robin&quot;</span><span class=\"p\">,</span>\n",
       "<span class=\"w\">            </span><span class=\"nt\">&quot;location&quot;</span><span class=\"p\">:</span><span class=\"w\"> </span><span class=\"s2\">&quot;Cambridge&quot;</span>\n",
       "<span class=\"w\">        </span><span class=\"p\">},</span>\n",
       "<span class=\"w\">        </span><span class=\"nt\">&quot;edsl_version&quot;</span><span class=\"p\">:</span><span class=\"w\"> </span><span class=\"s2\">&quot;0.1.31.dev4&quot;</span><span class=\"p\">,</span>\n",
       "<span class=\"w\">        </span><span class=\"nt\">&quot;edsl_class_name&quot;</span><span class=\"p\">:</span><span class=\"w\"> </span><span class=\"s2\">&quot;Agent&quot;</span>\n",
       "<span class=\"w\">    </span><span class=\"p\">}</span>\n",
       "<span class=\"p\">]</span>\n",
       "</pre></div>\n"
      ],
      "text/plain": [
       "AgentList([Agent(traits = {'first_name': 'Apostolos', 'location': 'New York'}), Agent(traits = {'first_name': 'John', 'location': 'Cambridge'}), Agent(traits = {'first_name': 'Robin', 'location': 'Cambridge'})])"
      ]
     },
     "execution_count": 51,
     "metadata": {},
     "output_type": "execute_result"
    }
   ],
   "source": [
    "from edsl import AgentList\n",
    "\n",
    "scenariolist = ScenarioList(\n",
    "    [\n",
    "        Scenario({\"first_name\": \"Apostolos\", \"location\": \"New York\"}),\n",
    "        Scenario({\"first_name\": \"John\", \"location\": \"Cambridge\"}),\n",
    "        Scenario({\"first_name\": \"Robin\", \"location\": \"Cambridge\"}),\n",
    "    ]\n",
    ")\n",
    "\n",
    "agentlist = scenariolist.to_agent_list()\n",
    "agentlist"
   ]
  },
  {
   "cell_type": "markdown",
   "id": "01e88be4-2129-4cfd-ab36-04bad540db53",
   "metadata": {},
   "source": [
    "Note that scenarios function similarly to `traits` dictionaries that we pass to AI `Agents` that we can use to answer survey questions. [Learn more about designing AI agents](https://docs.expectedparrot.com/en/latest/agents.html) for simulating surveys and experiments."
   ]
  },
  {
   "cell_type": "markdown",
   "id": "97db34a9-72b4-499f-b87f-8b64e160e50a",
   "metadata": {},
   "source": [
    "## Posting content to the Coop\n",
    "Here we post this notebook to the Coop:"
   ]
  },
  {
   "cell_type": "code",
   "execution_count": 52,
   "id": "19c6f818-ea03-45eb-963b-1ac8bdc091d3",
   "metadata": {
<<<<<<< HEAD
    "editable": true,
    "slideshow": {
     "slide_type": ""
    },
=======
>>>>>>> e2511bc983e2d56c291c74341011e1893447095e
    "tags": [
     "skip-execution"
    ]
   },
   "outputs": [
    {
     "data": {
      "text/plain": [
       "{'description': 'Cheatsheet: Scenarios',\n",
       " 'object_type': 'notebook',\n",
       " 'url': 'https://www.expectedparrot.com/content/a300c6b6-4972-447f-aa9c-4413f45419ec',\n",
       " 'uuid': 'a300c6b6-4972-447f-aa9c-4413f45419ec',\n",
       " 'version': '0.1.31.dev4',\n",
       " 'visibility': 'public'}"
      ]
     },
     "execution_count": 52,
     "metadata": {},
     "output_type": "execute_result"
    }
   ],
   "source": [
    "from edsl import Notebook\n",
    "\n",
    "notebook = Notebook(path = \"cheatsheet_scenarios.ipynb\")\n",
    "\n",
    "notebook.push(description = \"Cheatsheet: Scenarios\", visibility = \"public\")"
   ]
  },
  {
   "cell_type": "markdown",
   "id": "3fd7339a-8920-4be7-99ac-e6fc62d53997",
   "metadata": {},
   "source": [
    "To update an object at the Coop (e.g., an updated copy of this  notebook):"
   ]
  },
  {
   "cell_type": "code",
   "execution_count": 54,
   "id": "6ff1a8f9-2977-4b6a-8812-2e05a795493b",
   "metadata": {
    "editable": true,
    "slideshow": {
     "slide_type": ""
    },
    "tags": [
     "skip-execution"
    ]
   },
   "outputs": [
    {
     "data": {
      "text/plain": [
       "{'status': 'success'}"
      ]
     },
     "execution_count": 54,
     "metadata": {},
     "output_type": "execute_result"
    }
   ],
   "source": [
    "updated_notebook = Notebook(path = \"cheatsheet_scenarios.ipynb\")\n",
    "\n",
    "updated_notebook.patch(uuid = \"a300c6b6-4972-447f-aa9c-4413f45419ec\", value = updated_notebook)"
   ]
  },
  {
   "cell_type": "code",
   "execution_count": null,
   "id": "02403dfe-e147-4464-9549-b943b31731eb",
   "metadata": {},
   "outputs": [],
   "source": []
  }
 ],
 "metadata": {
  "kernelspec": {
   "display_name": "Python 3 (ipykernel)",
   "language": "python",
   "name": "python3"
  },
  "language_info": {
   "codemirror_mode": {
    "name": "ipython",
    "version": 3
   },
   "file_extension": ".py",
   "mimetype": "text/x-python",
   "name": "python",
   "nbconvert_exporter": "python",
   "pygments_lexer": "ipython3",
   "version": "3.11.7"
  }
 },
 "nbformat": 4,
 "nbformat_minor": 5
}
