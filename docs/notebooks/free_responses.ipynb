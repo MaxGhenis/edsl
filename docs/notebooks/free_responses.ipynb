{
 "cells": [
  {
   "cell_type": "markdown",
   "metadata": {
    "cell_id": "ec7bff9839284f43b232a1f73a1b0d01",
    "deepnote_cell_type": "markdown",
    "editable": true,
    "slideshow": {
     "slide_type": ""
    },
    "tags": []
   },
   "source": [
    "# Exploring free text responses\n",
    "This notebook provide sample [EDSL](https://docs.expectedparrot.com/) code demonstrating ways of modifying instructions for free response questions.\n",
    "\n",
    "[EDSL is an open-source library](https://github.com/expectedparrot/edsl) for simulating surveys, experiments and other research with AI agents and large language models. \n",
    "Before running the code below, please ensure that you have [installed the EDSL library](https://docs.expectedparrot.com/en/latest/installation.html) and either [activated remote inference](https://docs.expectedparrot.com/en/latest/remote_inference.html) from your [Coop account](https://docs.expectedparrot.com/en/latest/coop.html) or [stored API keys](https://docs.expectedparrot.com/en/latest/api_keys.html) for the language models that you want to use with EDSL. Please also see our [documentation page](https://docs.expectedparrot.com/) for tips and tutorials on getting started using EDSL."
   ]
  },
  {
   "cell_type": "markdown",
   "metadata": {
    "cell_id": "06a07989c58947478dddc6d468e198c1",
    "deepnote_cell_type": "markdown",
    "editable": true,
    "slideshow": {
     "slide_type": ""
    },
    "tags": []
   },
   "source": [
    "## Creating free text questions"
   ]
  },
  {
   "cell_type": "code",
   "execution_count": 1,
   "metadata": {
    "allow_embed": false,
    "cell_id": "3d4afc60ef834467b09651bdb8a6fdee",
    "deepnote_cell_type": "code",
    "deepnote_to_be_reexecuted": false,
    "editable": true,
    "execution_millis": 44,
    "execution_start": 1709324936969,
    "slideshow": {
     "slide_type": ""
    },
    "source_hash": null,
    "tags": []
   },
   "outputs": [],
   "source": [
    "from edsl import QuestionFreeText\n",
    "\n",
    "q1 = QuestionFreeText(\n",
    "    question_name=\"pasttime\",\n",
    "    question_text=\"What is your favorite pasttime? {{ scenario.instruction }}\",\n",
    ")\n",
    "\n",
    "q2 = QuestionFreeText(\n",
    "    question_name=\"vacation\",\n",
    "    question_text=\"What is your favorite vacation destination? {{ scenario.instruction }}\",\n",
    ")"
   ]
  },
  {
   "cell_type": "markdown",
   "metadata": {
    "cell_id": "b27cf03d25c74d7c8758924581cacdca",
    "deepnote_cell_type": "markdown",
    "editable": true,
    "slideshow": {
     "slide_type": ""
    },
    "tags": []
   },
   "source": [
    "## Parameterizing the questions with special instructions"
   ]
  },
  {
   "cell_type": "code",
   "execution_count": 2,
   "metadata": {
    "allow_embed": false,
    "cell_id": "64f8254d2ad74fa3bfeb9fd4ce1fa146",
    "deepnote_cell_type": "code",
    "deepnote_to_be_reexecuted": false,
    "editable": true,
    "execution_millis": 28,
    "execution_start": 1709324944828,
    "slideshow": {
     "slide_type": ""
    },
    "source_hash": null,
    "tags": []
   },
   "outputs": [],
   "source": [
    "from edsl import ScenarioList\n",
    "\n",
    "special_instructions = [\n",
    "    \"Be as specific as possible.\",\n",
    "    \"Be concise!\",\n",
    "    \"Wax poetic here.\",\n",
    "]\n",
    "\n",
    "scenarios = ScenarioList.from_list(\"instruction\", special_instructions)"
   ]
  },
  {
   "cell_type": "markdown",
   "metadata": {
    "cell_id": "fb5d095500a5483ab4f70f65348517e9",
    "deepnote_cell_type": "markdown",
    "editable": true,
    "slideshow": {
     "slide_type": ""
    },
    "tags": []
   },
   "source": [
    "## Creating agent personas with specific survey contexts"
   ]
  },
  {
   "cell_type": "code",
   "execution_count": 3,
   "metadata": {
    "cell_id": "f95e093d35d041cfb67ff36908e4224e",
    "deepnote_cell_type": "code",
    "deepnote_to_be_reexecuted": false,
    "editable": true,
    "execution_millis": 83,
    "execution_start": 1709325742204,
    "slideshow": {
     "slide_type": ""
    },
    "source_hash": null,
    "tags": []
   },
   "outputs": [],
   "source": [
    "from edsl import AgentList, Agent\n",
    "\n",
    "personas = [\n",
    "    \"You are middle-aged.\",\n",
    "    \"You are a senior citizen.\",\n",
    "    \"You are a young adult.\",\n",
    "]\n",
    "\n",
    "instructions = [\n",
    "    \"You are handwriting answers in a paper survey.\",\n",
    "    \"You are typing answers in an online survey.\",\n",
    "    \"You are providing answers verbally to a researcher in a live interview.\",\n",
    "]\n",
    "\n",
    "agents = AgentList(\n",
    "    Agent(traits={\"persona\": p}, instruction=i) for p in personas for i in instructions\n",
    ")"
   ]
  },
  {
   "cell_type": "markdown",
   "metadata": {
    "cell_id": "d01c6f0aae7b496f8dfdd76f3bf9f5c0",
    "deepnote_cell_type": "markdown",
    "editable": true,
    "slideshow": {
     "slide_type": ""
    },
    "tags": []
   },
   "source": [
    "## Selecting LLMs"
   ]
  },
  {
   "cell_type": "code",
   "execution_count": 4,
   "metadata": {
    "cell_id": "ac9e2a4a310a46068524a95d437bd875",
    "deepnote_cell_type": "code",
    "deepnote_to_be_reexecuted": false,
    "editable": true,
    "execution_millis": 96,
    "execution_start": 1709324959824,
    "slideshow": {
     "slide_type": ""
    },
    "source_hash": null,
    "tags": []
   },
   "outputs": [],
   "source": [
    "from edsl import ModelList, Model\n",
    "\n",
    "models = ModelList(\n",
    "    Model(m) for m in [\"gpt-4o\", \"gemini-1.5-flash\"]\n",
    ")"
   ]
  },
  {
   "cell_type": "markdown",
   "metadata": {
    "cell_id": "9a3cf31278ab4302bdd49637524c2e09",
    "deepnote_cell_type": "markdown",
    "editable": true,
    "slideshow": {
     "slide_type": ""
    },
    "tags": []
   },
   "source": [
    "## Administering the survey"
   ]
  },
  {
   "cell_type": "code",
   "execution_count": 5,
   "metadata": {
    "cell_id": "b5831de78b6d48eeb1fdd09bf5251b3e",
    "deepnote_cell_type": "code",
    "deepnote_to_be_reexecuted": false,
    "editable": true,
    "execution_millis": 4404,
    "execution_start": 1709325820925,
    "slideshow": {
     "slide_type": ""
    },
    "source_hash": null,
    "tags": []
   },
   "outputs": [
    {
     "data": {
      "text/html": [
       "\n",
       "            <!-- #region Remove Inference Info -->\n",
       "            <div id=\"logger-db58553e-890c-4123-bc4b-a4da5e972614\" class=\"job-logger\">\n",
       "                <div class=\"job-logger-header\">\n",
       "                    <span>\n",
       "                        <span id=\"arrow-db58553e-890c-4123-bc4b-a4da5e972614\">▼</span> \n",
       "                        Job Status (2025-03-03 10:10:34)\n",
       "                    </span>\n",
       "                </div>\n",
       "                <div id=\"content-db58553e-890c-4123-bc4b-a4da5e972614\" style=\"display: block;\">\n",
       "                    <table class=\"job-logger-table\">\n",
       "                        \n",
       "            <tr>\n",
       "                <td class=\"job-logger-cell job-logger-label\">Job UUID</td>\n",
       "                <td class=\"job-logger-cell job-logger-value\">cf8c6b4b-5077-46e1-8fa2-0a5fb0f36c93</td>\n",
       "            </tr>\n",
       "        \n",
       "            <tr>\n",
       "                <td class=\"job-logger-cell job-logger-label\">Progress Bar URL</td>\n",
       "                <td class=\"job-logger-cell job-logger-value\"><a href=\"https://www.expectedparrot.com/home/remote-job-progress/cf8c6b4b-5077-46e1-8fa2-0a5fb0f36c93\" target=\"_blank\" class=\"job-logger-link\">https://www.expectedparrot.com/home/remote-job-progress/cf8c6b4b-5077-46e1-8fa2-0a5fb0f36c93</a></td>\n",
       "            </tr>\n",
       "        \n",
       "            <tr>\n",
       "                <td class=\"job-logger-cell job-logger-label\">Exceptions Report URL</td>\n",
       "                <td class=\"job-logger-cell job-logger-value\">None</td>\n",
       "            </tr>\n",
       "        \n",
       "            <tr>\n",
       "                <td class=\"job-logger-cell job-logger-label\">Results UUID</td>\n",
       "                <td class=\"job-logger-cell job-logger-value\">d8380efb-8455-4944-bf64-6716c261126a</td>\n",
       "            </tr>\n",
       "        \n",
       "            <tr>\n",
       "                <td class=\"job-logger-cell job-logger-label\">Results URL</td>\n",
       "                <td class=\"job-logger-cell job-logger-value\"><a href=\"https://www.expectedparrot.com/content/d8380efb-8455-4944-bf64-6716c261126a\" target=\"_blank\" class=\"job-logger-link\">https://www.expectedparrot.com/content/d8380efb-8455-4944-bf64-6716c261126a</a></td>\n",
       "            </tr>\n",
       "        \n",
       "                    </table>\n",
       "                    \n",
       "                <div class=\"job-logger-status\">\n",
       "                    <span style=\"margin-right: 8px;\" class=\"job-logger-success\">✓</span><strong>Current Status:</strong> Job completed and Results stored on Coop: <a href=\"https://www.expectedparrot.com/content/d8380efb-8455-4944-bf64-6716c261126a\" target=\"_blank\" class=\"job-logger-link\">https://www.expectedparrot.com/content/d8380efb-8455-4944-bf64-6716c261126a</a>\n",
       "                </div>\n",
       "            \n",
       "                </div>\n",
       "            </div>\n",
       "            <!-- # endregion -->\n",
       "        "
      ],
      "text/plain": [
       "<IPython.core.display.HTML object>"
      ]
     },
     "metadata": {},
     "output_type": "display_data"
    },
    {
     "data": {
      "text/html": [
       "\n",
       "        <style>\n",
       "            /* Base theme variables */\n",
       "            :root {\n",
       "                --jl-bg-primary: #ffffff;\n",
       "                --jl-bg-secondary: #f5f5f5;\n",
       "                --jl-border-color: #e0e0e0;\n",
       "                --jl-text-primary: #24292e;\n",
       "                --jl-text-secondary: #586069;\n",
       "                --jl-link-color: #0366d6;\n",
       "                --jl-success-color: #28a745;\n",
       "                --jl-error-color: #d73a49;\n",
       "                --jl-header-bg: #f1f1f1;\n",
       "            }\n",
       "            \n",
       "            /* Dark theme variables */\n",
       "            .theme-dark {\n",
       "                --jl-bg-primary: #1e1e1e;\n",
       "                --jl-bg-secondary: #252526;\n",
       "                --jl-border-color: #2d2d2d;\n",
       "                --jl-text-primary: #cccccc;\n",
       "                --jl-text-secondary: #999999;\n",
       "                --jl-link-color: #4e94ce;\n",
       "                --jl-success-color: #89d185;\n",
       "                --jl-error-color: #f14c4c;\n",
       "                --jl-header-bg: #333333;\n",
       "            }\n",
       "\n",
       "            /* High contrast theme variables */\n",
       "            .theme-high-contrast {\n",
       "                --jl-bg-primary: #000000;\n",
       "                --jl-bg-secondary: #1a1a1a;\n",
       "                --jl-border-color: #404040;\n",
       "                --jl-text-primary: #ffffff;\n",
       "                --jl-text-secondary: #cccccc;\n",
       "                --jl-link-color: #66b3ff;\n",
       "                --jl-success-color: #00ff00;\n",
       "                --jl-error-color: #ff0000;\n",
       "                --jl-header-bg: #262626;\n",
       "            }\n",
       "            \n",
       "            .job-logger {\n",
       "                font-family: system-ui, -apple-system, sans-serif;\n",
       "                max-width: 800px;\n",
       "                margin: 10px 0;\n",
       "                color: var(--jl-text-primary);\n",
       "                box-shadow: 0 1px 3px rgba(0,0,0,0.12);\n",
       "                border-radius: 4px;\n",
       "                overflow: hidden;\n",
       "            }\n",
       "            \n",
       "            .job-logger-header {\n",
       "                padding: 12px 16px;\n",
       "                background: var(--jl-header-bg);\n",
       "                border: none;\n",
       "                border-radius: 4px 4px 0 0;\n",
       "                cursor: pointer;\n",
       "                color: var(--jl-text-primary);\n",
       "                user-select: none;\n",
       "                font-weight: 500;\n",
       "                letter-spacing: 0.3px;\n",
       "                display: flex;\n",
       "                justify-content: space-between;\n",
       "                align-items: center;\n",
       "            }\n",
       "            \n",
       "            .theme-select {\n",
       "                padding: 4px 8px;\n",
       "                border-radius: 4px;\n",
       "                border: 1px solid var(--jl-border-color);\n",
       "                background: var(--jl-bg-primary);\n",
       "                color: var(--jl-text-primary);\n",
       "                font-size: 0.9em;\n",
       "            }\n",
       "            \n",
       "            .job-logger-table {\n",
       "                width: 100%;\n",
       "                border-collapse: separate;\n",
       "                border-spacing: 0;\n",
       "                background: var(--jl-bg-primary);\n",
       "                border: 1px solid var(--jl-border-color);\n",
       "                margin-top: -1px;\n",
       "            }\n",
       "            \n",
       "            .job-logger-cell {\n",
       "                padding: 12px 16px;\n",
       "                border-bottom: 1px solid var(--jl-border-color);\n",
       "                line-height: 1.4;\n",
       "            }\n",
       "            \n",
       "            .job-logger-label {\n",
       "                font-weight: 500;\n",
       "                color: var(--jl-text-primary);\n",
       "                width: 25%;\n",
       "                background: var(--jl-bg-secondary);\n",
       "            }\n",
       "            \n",
       "            .job-logger-value {\n",
       "                color: var(--jl-text-secondary);\n",
       "                word-break: break-word;\n",
       "            }\n",
       "            \n",
       "            .job-logger-status {\n",
       "                margin: 0;\n",
       "                padding: 12px 16px;\n",
       "                background-color: var(--jl-bg-secondary);\n",
       "                border: 1px solid var(--jl-border-color);\n",
       "                border-top: none;\n",
       "                border-radius: 0 0 4px 4px;\n",
       "                color: var(--jl-text-primary);\n",
       "                font-size: 0.95em;\n",
       "            }\n",
       "        </style>\n",
       "        \n",
       "        <script>\n",
       "            class ThemeManager {\n",
       "                constructor(logId, initialTheme = 'auto') {\n",
       "                    this.logId = logId;\n",
       "                    this.currentTheme = initialTheme;\n",
       "                    this.darkModeMediaQuery = window.matchMedia('(prefers-color-scheme: dark)');\n",
       "                    this.init();\n",
       "                }\n",
       "                \n",
       "                init() {\n",
       "                    this.setupThemeSwitcher();\n",
       "                    this.updateTheme(this.currentTheme);\n",
       "                    \n",
       "                    this.darkModeMediaQuery.addListener(() => {\n",
       "                        if (this.currentTheme === 'auto') {\n",
       "                            this.updateTheme('auto');\n",
       "                        }\n",
       "                    });\n",
       "                }\n",
       "                \n",
       "                setupThemeSwitcher() {\n",
       "                    const logger = document.querySelector(`#logger-${this.logId}`);\n",
       "                    if (!logger) return;\n",
       "                    \n",
       "                    const switcher = document.createElement('div');\n",
       "                    switcher.className = 'theme-switcher';\n",
       "                    switcher.innerHTML = `\n",
       "                        <select id=\"theme-select-${this.logId}\" class=\"theme-select\">\n",
       "                            <option value=\"auto\">Auto</option>\n",
       "                            <option value=\"light\">Light</option>\n",
       "                            <option value=\"dark\">Dark</option>\n",
       "                            <option value=\"high-contrast\">High Contrast</option>\n",
       "                        </select>\n",
       "                    `;\n",
       "                    \n",
       "                    const header = logger.querySelector('.job-logger-header');\n",
       "                    header.appendChild(switcher);\n",
       "                    \n",
       "                    const select = switcher.querySelector('select');\n",
       "                    select.value = this.currentTheme;\n",
       "                    select.addEventListener('change', (e) => {\n",
       "                        this.updateTheme(e.target.value);\n",
       "                    });\n",
       "                }\n",
       "                \n",
       "                updateTheme(theme) {\n",
       "                    const logger = document.querySelector(`#logger-${this.logId}`);\n",
       "                    if (!logger) return;\n",
       "                    \n",
       "                    this.currentTheme = theme;\n",
       "                    \n",
       "                    logger.classList.remove('theme-light', 'theme-dark', 'theme-high-contrast');\n",
       "                    \n",
       "                    if (theme === 'auto') {\n",
       "                        const isDark = this.darkModeMediaQuery.matches;\n",
       "                        logger.classList.add(isDark ? 'theme-dark' : 'theme-light');\n",
       "                    } else {\n",
       "                        logger.classList.add(`theme-${theme}`);\n",
       "                    }\n",
       "                    \n",
       "                    try {\n",
       "                        localStorage.setItem('jobLoggerTheme', theme);\n",
       "                    } catch (e) {\n",
       "                        console.warn('Unable to save theme preference:', e);\n",
       "                    }\n",
       "                }\n",
       "            }\n",
       "            \n",
       "            window.initThemeManager = (logId, initialTheme) => {\n",
       "                new ThemeManager(logId, initialTheme);\n",
       "            };\n",
       "        </script>\n",
       "        \n",
       "        <script>\n",
       "            document.addEventListener('DOMContentLoaded', () => {\n",
       "                window.initThemeManager('db58553e-890c-4123-bc4b-a4da5e972614', 'auto');\n",
       "            });\n",
       "        </script>\n",
       "        "
      ],
      "text/plain": [
       "<IPython.core.display.HTML object>"
      ]
     },
     "metadata": {},
     "output_type": "display_data"
    }
   ],
   "source": [
    "from edsl import Survey\n",
    "\n",
    "survey = Survey(questions = [q1, q2])\n",
    "\n",
    "results = survey.by(scenarios).by(agents).by(models).run()"
   ]
  },
  {
   "cell_type": "code",
   "execution_count": 6,
   "metadata": {
    "cell_id": "a81cd87d48694257b2acbdf8d4d2440a",
    "deepnote_cell_type": "code",
    "deepnote_to_be_reexecuted": false,
    "editable": true,
    "execution_millis": 260,
    "execution_start": 1709325838764,
    "slideshow": {
     "slide_type": ""
    },
    "source_hash": null,
    "tags": []
   },
   "outputs": [
    {
     "data": {
      "text/html": [
       "\n",
       "            <div style=\"max-height: 500px; overflow-y: auto;\">\n",
       "                <style type=\"text/css\">\n",
       "#T_5e1fa_row0_col0, #T_5e1fa_row0_col1, #T_5e1fa_row0_col2, #T_5e1fa_row0_col4, #T_5e1fa_row0_col5, #T_5e1fa_row0_col6, #T_5e1fa_row1_col0, #T_5e1fa_row1_col1, #T_5e1fa_row1_col2, #T_5e1fa_row1_col4, #T_5e1fa_row1_col5, #T_5e1fa_row1_col6, #T_5e1fa_row2_col0, #T_5e1fa_row2_col1, #T_5e1fa_row2_col2, #T_5e1fa_row2_col4, #T_5e1fa_row2_col5, #T_5e1fa_row2_col6, #T_5e1fa_row3_col0, #T_5e1fa_row3_col1, #T_5e1fa_row3_col2, #T_5e1fa_row3_col4, #T_5e1fa_row3_col5, #T_5e1fa_row3_col6, #T_5e1fa_row4_col0, #T_5e1fa_row4_col1, #T_5e1fa_row4_col2, #T_5e1fa_row4_col4, #T_5e1fa_row4_col5, #T_5e1fa_row4_col6, #T_5e1fa_row5_col0, #T_5e1fa_row5_col1, #T_5e1fa_row5_col2, #T_5e1fa_row5_col4, #T_5e1fa_row5_col5, #T_5e1fa_row5_col6, #T_5e1fa_row6_col0, #T_5e1fa_row6_col1, #T_5e1fa_row6_col2, #T_5e1fa_row6_col4, #T_5e1fa_row6_col5, #T_5e1fa_row6_col6, #T_5e1fa_row7_col0, #T_5e1fa_row7_col1, #T_5e1fa_row7_col2, #T_5e1fa_row7_col4, #T_5e1fa_row7_col5, #T_5e1fa_row7_col6, #T_5e1fa_row8_col0, #T_5e1fa_row8_col1, #T_5e1fa_row8_col2, #T_5e1fa_row8_col4, #T_5e1fa_row8_col5, #T_5e1fa_row8_col6 {\n",
       "  text-align: left;\n",
       "}\n",
       "#T_5e1fa_row0_col3, #T_5e1fa_row1_col3, #T_5e1fa_row2_col3, #T_5e1fa_row3_col3, #T_5e1fa_row4_col3, #T_5e1fa_row5_col3, #T_5e1fa_row6_col3, #T_5e1fa_row7_col3, #T_5e1fa_row8_col3 {\n",
       "  text-align: left;\n",
       "  background-color: #fff7fb;\n",
       "  color: #000000;\n",
       "}\n",
       "</style>\n",
       "<table id=\"T_5e1fa\">\n",
       "  <thead>\n",
       "    <tr>\n",
       "      <th class=\"blank level0\" >&nbsp;</th>\n",
       "      <th id=\"T_5e1fa_level0_col0\" class=\"col_heading level0 col0\" >model.model</th>\n",
       "      <th id=\"T_5e1fa_level0_col1\" class=\"col_heading level0 col1\" >agent.persona</th>\n",
       "      <th id=\"T_5e1fa_level0_col2\" class=\"col_heading level0 col2\" >agent.agent_instruction</th>\n",
       "      <th id=\"T_5e1fa_level0_col3\" class=\"col_heading level0 col3\" >scenario.scenario_index</th>\n",
       "      <th id=\"T_5e1fa_level0_col4\" class=\"col_heading level0 col4\" >scenario.instruction</th>\n",
       "      <th id=\"T_5e1fa_level0_col5\" class=\"col_heading level0 col5\" >answer.pasttime</th>\n",
       "      <th id=\"T_5e1fa_level0_col6\" class=\"col_heading level0 col6\" >answer.vacation</th>\n",
       "    </tr>\n",
       "  </thead>\n",
       "  <tbody>\n",
       "    <tr>\n",
       "      <th id=\"T_5e1fa_level0_row0\" class=\"row_heading level0 row0\" >0</th>\n",
       "      <td id=\"T_5e1fa_row0_col0\" class=\"data row0 col0\" >gpt-4o</td>\n",
       "      <td id=\"T_5e1fa_row0_col1\" class=\"data row0 col1\" >You are a senior citizen.</td>\n",
       "      <td id=\"T_5e1fa_row0_col2\" class=\"data row0 col2\" >You are handwriting answers in a paper survey.</td>\n",
       "      <td id=\"T_5e1fa_row0_col3\" class=\"data row0 col3\" >1</td>\n",
       "      <td id=\"T_5e1fa_row0_col4\" class=\"data row0 col4\" >Be concise!</td>\n",
       "      <td id=\"T_5e1fa_row0_col5\" class=\"data row0 col5\" >Reading historical novels.</td>\n",
       "      <td id=\"T_5e1fa_row0_col6\" class=\"data row0 col6\" >I love the peacefulness of the mountains.</td>\n",
       "    </tr>\n",
       "    <tr>\n",
       "      <th id=\"T_5e1fa_level0_row1\" class=\"row_heading level0 row1\" >1</th>\n",
       "      <td id=\"T_5e1fa_row1_col0\" class=\"data row1 col0\" >gpt-4o</td>\n",
       "      <td id=\"T_5e1fa_row1_col1\" class=\"data row1 col1\" >You are a senior citizen.</td>\n",
       "      <td id=\"T_5e1fa_row1_col2\" class=\"data row1 col2\" >You are providing answers verbally to a researcher in a live interview.</td>\n",
       "      <td id=\"T_5e1fa_row1_col3\" class=\"data row1 col3\" >1</td>\n",
       "      <td id=\"T_5e1fa_row1_col4\" class=\"data row1 col4\" >Be concise!</td>\n",
       "      <td id=\"T_5e1fa_row1_col5\" class=\"data row1 col5\" >I love gardening; it brings me peace and joy.</td>\n",
       "      <td id=\"T_5e1fa_row1_col6\" class=\"data row1 col6\" >I love visiting the serene countryside, especially places with beautiful gardens and historic sites.</td>\n",
       "    </tr>\n",
       "    <tr>\n",
       "      <th id=\"T_5e1fa_level0_row2\" class=\"row_heading level0 row2\" >2</th>\n",
       "      <td id=\"T_5e1fa_row2_col0\" class=\"data row2 col0\" >gpt-4o</td>\n",
       "      <td id=\"T_5e1fa_row2_col1\" class=\"data row2 col1\" >You are a senior citizen.</td>\n",
       "      <td id=\"T_5e1fa_row2_col2\" class=\"data row2 col2\" >You are typing answers in an online survey.</td>\n",
       "      <td id=\"T_5e1fa_row2_col3\" class=\"data row2 col3\" >1</td>\n",
       "      <td id=\"T_5e1fa_row2_col4\" class=\"data row2 col4\" >Be concise!</td>\n",
       "      <td id=\"T_5e1fa_row2_col5\" class=\"data row2 col5\" >Reading historical novels.</td>\n",
       "      <td id=\"T_5e1fa_row2_col6\" class=\"data row2 col6\" >I love visiting national parks for the tranquility and natural beauty.</td>\n",
       "    </tr>\n",
       "    <tr>\n",
       "      <th id=\"T_5e1fa_level0_row3\" class=\"row_heading level0 row3\" >3</th>\n",
       "      <td id=\"T_5e1fa_row3_col0\" class=\"data row3 col0\" >gpt-4o</td>\n",
       "      <td id=\"T_5e1fa_row3_col1\" class=\"data row3 col1\" >You are a young adult.</td>\n",
       "      <td id=\"T_5e1fa_row3_col2\" class=\"data row3 col2\" >You are handwriting answers in a paper survey.</td>\n",
       "      <td id=\"T_5e1fa_row3_col3\" class=\"data row3 col3\" >1</td>\n",
       "      <td id=\"T_5e1fa_row3_col4\" class=\"data row3 col4\" >Be concise!</td>\n",
       "      <td id=\"T_5e1fa_row3_col5\" class=\"data row3 col5\" >Playing video games.</td>\n",
       "      <td id=\"T_5e1fa_row3_col6\" class=\"data row3 col6\" >Japan!</td>\n",
       "    </tr>\n",
       "    <tr>\n",
       "      <th id=\"T_5e1fa_level0_row4\" class=\"row_heading level0 row4\" >4</th>\n",
       "      <td id=\"T_5e1fa_row4_col0\" class=\"data row4 col0\" >gpt-4o</td>\n",
       "      <td id=\"T_5e1fa_row4_col1\" class=\"data row4 col1\" >You are a young adult.</td>\n",
       "      <td id=\"T_5e1fa_row4_col2\" class=\"data row4 col2\" >You are providing answers verbally to a researcher in a live interview.</td>\n",
       "      <td id=\"T_5e1fa_row4_col3\" class=\"data row4 col3\" >1</td>\n",
       "      <td id=\"T_5e1fa_row4_col4\" class=\"data row4 col4\" >Be concise!</td>\n",
       "      <td id=\"T_5e1fa_row4_col5\" class=\"data row4 col5\" >I love playing video games.</td>\n",
       "      <td id=\"T_5e1fa_row4_col6\" class=\"data row4 col6\" >I love going to Japan. The mix of modern cities and traditional culture is amazing!</td>\n",
       "    </tr>\n",
       "    <tr>\n",
       "      <th id=\"T_5e1fa_level0_row5\" class=\"row_heading level0 row5\" >5</th>\n",
       "      <td id=\"T_5e1fa_row5_col0\" class=\"data row5 col0\" >gpt-4o</td>\n",
       "      <td id=\"T_5e1fa_row5_col1\" class=\"data row5 col1\" >You are a young adult.</td>\n",
       "      <td id=\"T_5e1fa_row5_col2\" class=\"data row5 col2\" >You are typing answers in an online survey.</td>\n",
       "      <td id=\"T_5e1fa_row5_col3\" class=\"data row5 col3\" >1</td>\n",
       "      <td id=\"T_5e1fa_row5_col4\" class=\"data row5 col4\" >Be concise!</td>\n",
       "      <td id=\"T_5e1fa_row5_col5\" class=\"data row5 col5\" >Exploring new music.</td>\n",
       "      <td id=\"T_5e1fa_row5_col6\" class=\"data row5 col6\" >Tokyo, for its vibrant culture and delicious food.</td>\n",
       "    </tr>\n",
       "    <tr>\n",
       "      <th id=\"T_5e1fa_level0_row6\" class=\"row_heading level0 row6\" >6</th>\n",
       "      <td id=\"T_5e1fa_row6_col0\" class=\"data row6 col0\" >gpt-4o</td>\n",
       "      <td id=\"T_5e1fa_row6_col1\" class=\"data row6 col1\" >You are middle-aged.</td>\n",
       "      <td id=\"T_5e1fa_row6_col2\" class=\"data row6 col2\" >You are handwriting answers in a paper survey.</td>\n",
       "      <td id=\"T_5e1fa_row6_col3\" class=\"data row6 col3\" >1</td>\n",
       "      <td id=\"T_5e1fa_row6_col4\" class=\"data row6 col4\" >Be concise!</td>\n",
       "      <td id=\"T_5e1fa_row6_col5\" class=\"data row6 col5\" >Reading novels.</td>\n",
       "      <td id=\"T_5e1fa_row6_col6\" class=\"data row6 col6\" >Italy.</td>\n",
       "    </tr>\n",
       "    <tr>\n",
       "      <th id=\"T_5e1fa_level0_row7\" class=\"row_heading level0 row7\" >7</th>\n",
       "      <td id=\"T_5e1fa_row7_col0\" class=\"data row7 col0\" >gpt-4o</td>\n",
       "      <td id=\"T_5e1fa_row7_col1\" class=\"data row7 col1\" >You are middle-aged.</td>\n",
       "      <td id=\"T_5e1fa_row7_col2\" class=\"data row7 col2\" >You are providing answers verbally to a researcher in a live interview.</td>\n",
       "      <td id=\"T_5e1fa_row7_col3\" class=\"data row7 col3\" >1</td>\n",
       "      <td id=\"T_5e1fa_row7_col4\" class=\"data row7 col4\" >Be concise!</td>\n",
       "      <td id=\"T_5e1fa_row7_col5\" class=\"data row7 col5\" >Reading historical fiction.</td>\n",
       "      <td id=\"T_5e1fa_row7_col6\" class=\"data row7 col6\" >I love visiting the serene landscapes of the Scottish Highlands.</td>\n",
       "    </tr>\n",
       "    <tr>\n",
       "      <th id=\"T_5e1fa_level0_row8\" class=\"row_heading level0 row8\" >8</th>\n",
       "      <td id=\"T_5e1fa_row8_col0\" class=\"data row8 col0\" >gpt-4o</td>\n",
       "      <td id=\"T_5e1fa_row8_col1\" class=\"data row8 col1\" >You are middle-aged.</td>\n",
       "      <td id=\"T_5e1fa_row8_col2\" class=\"data row8 col2\" >You are typing answers in an online survey.</td>\n",
       "      <td id=\"T_5e1fa_row8_col3\" class=\"data row8 col3\" >1</td>\n",
       "      <td id=\"T_5e1fa_row8_col4\" class=\"data row8 col4\" >Be concise!</td>\n",
       "      <td id=\"T_5e1fa_row8_col5\" class=\"data row8 col5\" >Reading historical novels.</td>\n",
       "      <td id=\"T_5e1fa_row8_col6\" class=\"data row8 col6\" >Italy.</td>\n",
       "    </tr>\n",
       "  </tbody>\n",
       "</table>\n",
       "\n",
       "            </div>\n",
       "            "
      ],
      "text/plain": [
       "Dataset([{'model.model': ['gpt-4o', 'gpt-4o', 'gpt-4o', 'gpt-4o', 'gpt-4o', 'gpt-4o', 'gpt-4o', 'gpt-4o', 'gpt-4o']}, {'agent.persona': ['You are a senior citizen.', 'You are a senior citizen.', 'You are a senior citizen.', 'You are a young adult.', 'You are a young adult.', 'You are a young adult.', 'You are middle-aged.', 'You are middle-aged.', 'You are middle-aged.']}, {'agent.agent_instruction': ['You are handwriting answers in a paper survey.', 'You are providing answers verbally to a researcher in a live interview.', 'You are typing answers in an online survey.', 'You are handwriting answers in a paper survey.', 'You are providing answers verbally to a researcher in a live interview.', 'You are typing answers in an online survey.', 'You are handwriting answers in a paper survey.', 'You are providing answers verbally to a researcher in a live interview.', 'You are typing answers in an online survey.']}, {'scenario.scenario_index': [1, 1, 1, 1, 1, 1, 1, 1, 1]}, {'scenario.instruction': ['Be concise!', 'Be concise!', 'Be concise!', 'Be concise!', 'Be concise!', 'Be concise!', 'Be concise!', 'Be concise!', 'Be concise!']}, {'answer.pasttime': ['Reading historical novels.', 'I love gardening; it brings me peace and joy.', 'Reading historical novels.', 'Playing video games.', 'I love playing video games.', 'Exploring new music.', 'Reading novels.', 'Reading historical fiction.', 'Reading historical novels.']}, {'answer.vacation': ['I love the peacefulness of the mountains.', 'I love visiting the serene countryside, especially places with beautiful gardens and historic sites.', 'I love visiting national parks for the tranquility and natural beauty.', 'Japan!', 'I love going to Japan. The mix of modern cities and traditional culture is amazing!', 'Tokyo, for its vibrant culture and delicious food.', 'Italy.', 'I love visiting the serene landscapes of the Scottish Highlands.', 'Italy.']}])"
      ]
     },
     "execution_count": 6,
     "metadata": {},
     "output_type": "execute_result"
    }
   ],
   "source": [
    "(\n",
    "    results\n",
    "    .filter(\"instruction == 'Be concise!' and model.model == 'gpt-4o'\")\n",
    "    .sort_by(\"model\", \"persona\", \"agent_instruction\")\n",
    "    .select(\"model\", \"persona\", \"agent_instruction\", \"scenario.*\", \"answer.*\")\n",
    ")"
   ]
  },
  {
   "cell_type": "markdown",
   "metadata": {
    "editable": true,
    "slideshow": {
     "slide_type": ""
    },
    "tags": []
   },
   "source": [
    "## Posting to Coop"
   ]
  },
  {
   "cell_type": "code",
   "execution_count": 8,
   "metadata": {
    "editable": true,
    "slideshow": {
     "slide_type": ""
    },
    "tags": [
     "skip-execution"
    ]
   },
   "outputs": [],
   "source": [
    "from edsl import Notebook\n",
    "\n",
    "nb = Notebook(\"free_responses.ipynb\")\n",
    "\n",
    "if refresh := False:\n",
    "    n.push(\n",
    "        description = \"Free responses example\", \n",
    "        alias = \"free-responses-example-notebook\",\n",
    "        visibility = \"public\"\n",
    "    )\n",
    "\n",
    "else:\n",
    "    nb.patch('279df9e3-e9b2-4d17-b747-def84f86ca15', value = nb)"
   ]
  }
 ],
 "metadata": {
  "deepnote_execution_queue": [],
  "deepnote_notebook_id": "d3f154103728408f827c7635320ab93f",
  "kernelspec": {
   "display_name": "Python 3 (ipykernel)",
   "language": "python",
   "name": "python3"
  },
  "language_info": {
   "codemirror_mode": {
    "name": "ipython",
    "version": 3
   },
   "file_extension": ".py",
   "mimetype": "text/x-python",
   "name": "python",
   "nbconvert_exporter": "python",
   "pygments_lexer": "ipython3",
   "version": "3.11.7"
  }
 },
 "nbformat": 4,
 "nbformat_minor": 4
}
