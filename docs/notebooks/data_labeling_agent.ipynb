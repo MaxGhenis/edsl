{
 "cells": [
  {
   "cell_type": "markdown",
   "metadata": {
    "cell_id": "8e6fbe42bf93461c9b6ef5c5e0a36e1f",
    "deepnote_cell_type": "markdown"
   },
   "source": [
    "# Data labeling agents\n",
    "\n",
    "This notebook shows how to conduct data labeling tasks using [EDSL](https://docs.expectedparrot.com), an open-source library for simulating surveys, experiments and other research with AI agents and large language models. This workflow consists of the following steps: \n",
    "\n",
    "1. Import data into EDSL \n",
    "2. Create questions about the data \n",
    "3. Design an AI agent to answer the questions\n",
    "4. Select a language model to generate responses\n",
    "5. Analyze results as a formatted dataset\n",
    "\n",
    "This workflow can be visualized as follows:\n",
    "<br><br>\n",
    "\n",
    "![general_survey](general_survey.png)\n",
    "\n",
    "<br><br>\n",
    "\n",
    "## Conducting agent-specific tasks\n",
    "We can add a layer of complexity to this generalized flow by creating different AI agents for subsets of the data to be reviewed. For example, we can design agents with specific \"expertise\" to review only the data that is relevant to that expertise. This can be useful if our data is sorted (or sortable) in some way that is important to our task. We can also use EDSL to prompt a language model to sort the data as needed.\n",
    "\n",
    "This modified workflow can be visualized as follows:\n",
    "<br><br>\n",
    "\n",
    "![agent_specific_survey](agent_specific_survey.png)\n",
    "\n",
    "<br><br>\n",
    "\n",
    "## Example task: Evaluating job posts \n",
    "Using a dataset of job posts as an example, in the steps below we create AI agents with expertise in the relevant job categories and then prompt them to evaluate relevant job posts in a variety of ways. The steps are:\n",
    "\n",
    "1. Import a dataset of job categories and job posts.\n",
    "2. Construct questions about the job posts and combine them in a survey. \n",
    "3. Design AI agents with job category expertise. \n",
    "4. Administer the survey to each agent with job posts for the relevant category.\n",
    "5. Inspect the results using built-in methods for analysis. \n",
    "\n",
    "## Technical setup\n",
    "Before running the code below please ensure that you have completed setup:\n",
    "\n",
    "* [Install EDSL](https://docs.expectedparrot.com/en/latest/installation.html).\n",
    "* Create a [Coop account](https://www.expectedparrot.com/login) and activate [remote inference](https://docs.expectedparrot.com/en/latest/remote_inference.html) OR store your own [API Keys](https://docs.expectedparrot.com/en/latest/api_keys.html) for language models that you want to use.\n",
    "\n",
    "Our [Starter Tutorial](https://docs.expectedparrot.com/en/latest/starter_tutorial.html) provides examples of EDSL basic components. An introductory [data labeling example notebook](https://docs.expectedparrot.com/en/latest/notebooks/data_labeling_example.html) may also be useful to you."
   ]
  },
  {
   "cell_type": "markdown",
   "metadata": {
    "cell_id": "5cf0086b8055450a80a521d078541e73",
    "deepnote_cell_type": "markdown"
   },
   "source": [
    "## Import the tools\n",
    "We start by selecting question types and survey components that we will use.\n",
    "Please see the [EDSL Docs](https://docs.expectedparrot.com/en/latest/index.html) for examples of all [question types](https://docs.expectedparrot.com/en/latest/questions.html) and details on these basic components."
   ]
  },
  {
   "cell_type": "code",
   "execution_count": 1,
   "metadata": {
    "cell_id": "ad63d10eca16428d987447306bf166b4",
    "deepnote_cell_type": "code",
    "deepnote_to_be_reexecuted": false,
    "execution_millis": 162,
    "execution_start": 1708266462944,
    "source_hash": null
   },
   "outputs": [],
   "source": [
    "from edsl import (\n",
    "    QuestionMultipleChoice, QuestionFreeText, QuestionLinearScale, QuestionList, QuestionNumerical,\n",
    "    Survey, ScenarioList, Scenario, AgentList, Agent, ModelList, Model\n",
    ")"
   ]
  },
  {
   "cell_type": "markdown",
   "metadata": {
    "cell_id": "2ba2f232a29f4616adc9bdfa8e61827c",
    "deepnote_cell_type": "markdown"
   },
   "source": [
    "## Import data \n",
    "Next we import a dataset for review, using `Scenario` objects to represent the individual data that will be added to each of our data labeling questions. "
   ]
  },
  {
   "cell_type": "code",
   "execution_count": 2,
   "metadata": {},
   "outputs": [],
   "source": [
    "scenarios = ScenarioList.from_csv(\"job_posts.csv\")"
   ]
  },
  {
   "cell_type": "markdown",
   "metadata": {},
   "source": [
    "We can inspect the scenarios that have been created and edit them as desired. [Learn more about working with scenarios](https://docs.expectedparrot.com/en/latest/scenarios.html)."
   ]
  },
  {
   "cell_type": "code",
   "execution_count": 3,
   "metadata": {},
   "outputs": [
    {
     "data": {
      "text/html": [
       "<div class=\"highlight\"><pre><span></span><span class=\"p\">{</span>\n",
       "<span class=\"w\">    </span><span class=\"nt\">&quot;scenarios&quot;</span><span class=\"p\">:</span><span class=\"w\"> </span><span class=\"p\">[</span>\n",
       "<span class=\"w\">        </span><span class=\"p\">{</span>\n",
       "<span class=\"w\">            </span><span class=\"nt\">&quot;job_category&quot;</span><span class=\"p\">:</span><span class=\"w\"> </span><span class=\"s2\">&quot;Graphic Design&quot;</span><span class=\"p\">,</span>\n",
       "<span class=\"w\">            </span><span class=\"nt\">&quot;job_title&quot;</span><span class=\"p\">:</span><span class=\"w\"> </span><span class=\"s2\">&quot;Logo Design for New Startup&quot;</span><span class=\"p\">,</span>\n",
       "<span class=\"w\">            </span><span class=\"nt\">&quot;job_post&quot;</span><span class=\"p\">:</span><span class=\"w\"> </span><span class=\"s2\">&quot;We are a new tech startup looking for a creative designer to create a unique logo for our brand. The logo should be modern and represent innovation. Please provide portfolio examples.&quot;</span>\n",
       "<span class=\"w\">        </span><span class=\"p\">},</span>\n",
       "<span class=\"w\">        </span><span class=\"p\">{</span>\n",
       "<span class=\"w\">            </span><span class=\"nt\">&quot;job_category&quot;</span><span class=\"p\">:</span><span class=\"w\"> </span><span class=\"s2\">&quot;Graphic Design&quot;</span><span class=\"p\">,</span>\n",
       "<span class=\"w\">            </span><span class=\"nt\">&quot;job_title&quot;</span><span class=\"p\">:</span><span class=\"w\"> </span><span class=\"s2\">&quot;Brochure Design&quot;</span><span class=\"p\">,</span>\n",
       "<span class=\"w\">            </span><span class=\"nt\">&quot;job_post&quot;</span><span class=\"p\">:</span><span class=\"w\"> </span><span class=\"s2\">&quot;Looking for an experienced designer to create a professional brochure for our real estate company. The brochure should highlight our services and properties. Must be delivered in print-ready format.&quot;</span>\n",
       "<span class=\"w\">        </span><span class=\"p\">},</span>\n",
       "<span class=\"w\">        </span><span class=\"p\">{</span>\n",
       "<span class=\"w\">            </span><span class=\"nt\">&quot;job_category&quot;</span><span class=\"p\">:</span><span class=\"w\"> </span><span class=\"s2\">&quot;Graphic Design&quot;</span><span class=\"p\">,</span>\n",
       "<span class=\"w\">            </span><span class=\"nt\">&quot;job_title&quot;</span><span class=\"p\">:</span><span class=\"w\"> </span><span class=\"s2\">&quot;Social Media Graphics&quot;</span><span class=\"p\">,</span>\n",
       "<span class=\"w\">            </span><span class=\"nt\">&quot;job_post&quot;</span><span class=\"p\">:</span><span class=\"w\"> </span><span class=\"s2\">&quot;Need a designer to create eye-catching social media graphics for our upcoming campaign. We need a set of 10 images optimized for Instagram and Facebook.&quot;</span>\n",
       "<span class=\"w\">        </span><span class=\"p\">},</span>\n",
       "<span class=\"w\">        </span><span class=\"p\">{</span>\n",
       "<span class=\"w\">            </span><span class=\"nt\">&quot;job_category&quot;</span><span class=\"p\">:</span><span class=\"w\"> </span><span class=\"s2\">&quot;Graphic Design&quot;</span><span class=\"p\">,</span>\n",
       "<span class=\"w\">            </span><span class=\"nt\">&quot;job_title&quot;</span><span class=\"p\">:</span><span class=\"w\"> </span><span class=\"s2\">&quot;Website Banner Design&quot;</span><span class=\"p\">,</span>\n",
       "<span class=\"w\">            </span><span class=\"nt\">&quot;job_post&quot;</span><span class=\"p\">:</span><span class=\"w\"> </span><span class=\"s2\">&quot;Seeking a skilled designer to create a series of banners for our e-commerce website. Banners should be consistent with our brand\\u2019s aesthetic. Please include examples of previous work.&quot;</span>\n",
       "<span class=\"w\">        </span><span class=\"p\">},</span>\n",
       "<span class=\"w\">        </span><span class=\"p\">{</span>\n",
       "<span class=\"w\">            </span><span class=\"nt\">&quot;job_category&quot;</span><span class=\"p\">:</span><span class=\"w\"> </span><span class=\"s2\">&quot;Web Development&quot;</span><span class=\"p\">,</span>\n",
       "<span class=\"w\">            </span><span class=\"nt\">&quot;job_title&quot;</span><span class=\"p\">:</span><span class=\"w\"> </span><span class=\"s2\">&quot;WordPress Website Setup&quot;</span><span class=\"p\">,</span>\n",
       "<span class=\"w\">            </span><span class=\"nt\">&quot;job_post&quot;</span><span class=\"p\">:</span><span class=\"w\"> </span><span class=\"s2\">&quot;We need a developer to set up a WordPress site for our small business. The site should be responsive and include a contact form, blog, and e-commerce functionality. Experience with WooCommerce is a plus.&quot;</span>\n",
       "<span class=\"w\">        </span><span class=\"p\">},</span>\n",
       "<span class=\"w\">        </span><span class=\"p\">{</span>\n",
       "<span class=\"w\">            </span><span class=\"nt\">&quot;job_category&quot;</span><span class=\"p\">:</span><span class=\"w\"> </span><span class=\"s2\">&quot;Web Development&quot;</span><span class=\"p\">,</span>\n",
       "<span class=\"w\">            </span><span class=\"nt\">&quot;job_title&quot;</span><span class=\"p\">:</span><span class=\"w\"> </span><span class=\"s2\">&quot;Custom Web Application Development&quot;</span><span class=\"p\">,</span>\n",
       "<span class=\"w\">            </span><span class=\"nt\">&quot;job_post&quot;</span><span class=\"p\">:</span><span class=\"w\"> </span><span class=\"s2\">&quot;Looking for a full-stack developer to build a custom web application for managing employee schedules. The app should include a login system, user roles, and reporting features.&quot;</span>\n",
       "<span class=\"w\">        </span><span class=\"p\">},</span>\n",
       "<span class=\"w\">        </span><span class=\"p\">{</span>\n",
       "<span class=\"w\">            </span><span class=\"nt\">&quot;job_category&quot;</span><span class=\"p\">:</span><span class=\"w\"> </span><span class=\"s2\">&quot;Web Development&quot;</span><span class=\"p\">,</span>\n",
       "<span class=\"w\">            </span><span class=\"nt\">&quot;job_title&quot;</span><span class=\"p\">:</span><span class=\"w\"> </span><span class=\"s2\">&quot;Shopify Store Customization&quot;</span><span class=\"p\">,</span>\n",
       "<span class=\"w\">            </span><span class=\"nt\">&quot;job_post&quot;</span><span class=\"p\">:</span><span class=\"w\"> </span><span class=\"s2\">&quot;Seeking a Shopify expert to customize our online store. We need theme adjustments, product page enhancements, and integration with third-party tools.&quot;</span>\n",
       "<span class=\"w\">        </span><span class=\"p\">},</span>\n",
       "<span class=\"w\">        </span><span class=\"p\">{</span>\n",
       "<span class=\"w\">            </span><span class=\"nt\">&quot;job_category&quot;</span><span class=\"p\">:</span><span class=\"w\"> </span><span class=\"s2\">&quot;Web Development&quot;</span><span class=\"p\">,</span>\n",
       "<span class=\"w\">            </span><span class=\"nt\">&quot;job_title&quot;</span><span class=\"p\">:</span><span class=\"w\"> </span><span class=\"s2\">&quot;API Integration&quot;</span><span class=\"p\">,</span>\n",
       "<span class=\"w\">            </span><span class=\"nt\">&quot;job_post&quot;</span><span class=\"p\">:</span><span class=\"w\"> </span><span class=\"s2\">&quot;Need a developer to integrate our existing CRM system with an external API. The integration should sync customer data in real-time. Previous experience with similar projects required.&quot;</span>\n",
       "<span class=\"w\">        </span><span class=\"p\">},</span>\n",
       "<span class=\"w\">        </span><span class=\"p\">{</span>\n",
       "<span class=\"w\">            </span><span class=\"nt\">&quot;job_category&quot;</span><span class=\"p\">:</span><span class=\"w\"> </span><span class=\"s2\">&quot;Content Writing&quot;</span><span class=\"p\">,</span>\n",
       "<span class=\"w\">            </span><span class=\"nt\">&quot;job_title&quot;</span><span class=\"p\">:</span><span class=\"w\"> </span><span class=\"s2\">&quot;Blog Post Writing&quot;</span><span class=\"p\">,</span>\n",
       "<span class=\"w\">            </span><span class=\"nt\">&quot;job_post&quot;</span><span class=\"p\">:</span><span class=\"w\"> </span><span class=\"s2\">&quot;Looking for a skilled writer to produce 5 blog posts on digital marketing topics. Each post should be 800-1000 words, well-researched, and SEO-optimized.&quot;</span>\n",
       "<span class=\"w\">        </span><span class=\"p\">},</span>\n",
       "<span class=\"w\">        </span><span class=\"p\">{</span>\n",
       "<span class=\"w\">            </span><span class=\"nt\">&quot;job_category&quot;</span><span class=\"p\">:</span><span class=\"w\"> </span><span class=\"s2\">&quot;Content Writing&quot;</span><span class=\"p\">,</span>\n",
       "<span class=\"w\">            </span><span class=\"nt\">&quot;job_title&quot;</span><span class=\"p\">:</span><span class=\"w\"> </span><span class=\"s2\">&quot;Product Description Writing&quot;</span><span class=\"p\">,</span>\n",
       "<span class=\"w\">            </span><span class=\"nt\">&quot;job_post&quot;</span><span class=\"p\">:</span><span class=\"w\"> </span><span class=\"s2\">&quot;We need a writer to craft compelling product descriptions for our online store. Each description should highlight the key features and benefits of the product.&quot;</span>\n",
       "<span class=\"w\">        </span><span class=\"p\">},</span>\n",
       "<span class=\"w\">        </span><span class=\"p\">{</span>\n",
       "<span class=\"w\">            </span><span class=\"nt\">&quot;job_category&quot;</span><span class=\"p\">:</span><span class=\"w\"> </span><span class=\"s2\">&quot;Content Writing&quot;</span><span class=\"p\">,</span>\n",
       "<span class=\"w\">            </span><span class=\"nt\">&quot;job_title&quot;</span><span class=\"p\">:</span><span class=\"w\"> </span><span class=\"s2\">&quot;Technical Writing for Software Documentation&quot;</span><span class=\"p\">,</span>\n",
       "<span class=\"w\">            </span><span class=\"nt\">&quot;job_post&quot;</span><span class=\"p\">:</span><span class=\"w\"> </span><span class=\"s2\">&quot;Seeking an experienced technical writer to create user manuals and API documentation for our software product. Must have a background in tech writing and be familiar with software development terminology.&quot;</span>\n",
       "<span class=\"w\">        </span><span class=\"p\">},</span>\n",
       "<span class=\"w\">        </span><span class=\"p\">{</span>\n",
       "<span class=\"w\">            </span><span class=\"nt\">&quot;job_category&quot;</span><span class=\"p\">:</span><span class=\"w\"> </span><span class=\"s2\">&quot;Content Writing&quot;</span><span class=\"p\">,</span>\n",
       "<span class=\"w\">            </span><span class=\"nt\">&quot;job_title&quot;</span><span class=\"p\">:</span><span class=\"w\"> </span><span class=\"s2\">&quot;Website Copywriting&quot;</span><span class=\"p\">,</span>\n",
       "<span class=\"w\">            </span><span class=\"nt\">&quot;job_post&quot;</span><span class=\"p\">:</span><span class=\"w\"> </span><span class=\"s2\">&quot;Looking for a copywriter to create persuasive content for our company\\u2019s website. The content should be clear, concise, and align with our brand voice.&quot;</span>\n",
       "<span class=\"w\">        </span><span class=\"p\">},</span>\n",
       "<span class=\"w\">        </span><span class=\"p\">{</span>\n",
       "<span class=\"w\">            </span><span class=\"nt\">&quot;job_category&quot;</span><span class=\"p\">:</span><span class=\"w\"> </span><span class=\"s2\">&quot;Digital Marketing&quot;</span><span class=\"p\">,</span>\n",
       "<span class=\"w\">            </span><span class=\"nt\">&quot;job_title&quot;</span><span class=\"p\">:</span><span class=\"w\"> </span><span class=\"s2\">&quot;Social Media Management&quot;</span><span class=\"p\">,</span>\n",
       "<span class=\"w\">            </span><span class=\"nt\">&quot;job_post&quot;</span><span class=\"p\">:</span><span class=\"w\"> </span><span class=\"s2\">&quot;We are looking for a social media manager to handle our Instagram and Twitter accounts. Responsibilities include content creation, scheduling posts, and engaging with followers.&quot;</span>\n",
       "<span class=\"w\">        </span><span class=\"p\">},</span>\n",
       "<span class=\"w\">        </span><span class=\"p\">{</span>\n",
       "<span class=\"w\">            </span><span class=\"nt\">&quot;job_category&quot;</span><span class=\"p\">:</span><span class=\"w\"> </span><span class=\"s2\">&quot;Digital Marketing&quot;</span><span class=\"p\">,</span>\n",
       "<span class=\"w\">            </span><span class=\"nt\">&quot;job_title&quot;</span><span class=\"p\">:</span><span class=\"w\"> </span><span class=\"s2\">&quot;SEO Optimization&quot;</span><span class=\"p\">,</span>\n",
       "<span class=\"w\">            </span><span class=\"nt\">&quot;job_post&quot;</span><span class=\"p\">:</span><span class=\"w\"> </span><span class=\"s2\">&quot;Need an SEO expert to optimize our website for search engines. The project includes keyword research, on-page optimization, and link-building strategies.&quot;</span>\n",
       "<span class=\"w\">        </span><span class=\"p\">},</span>\n",
       "<span class=\"w\">        </span><span class=\"p\">{</span>\n",
       "<span class=\"w\">            </span><span class=\"nt\">&quot;job_category&quot;</span><span class=\"p\">:</span><span class=\"w\"> </span><span class=\"s2\">&quot;Digital Marketing&quot;</span><span class=\"p\">,</span>\n",
       "<span class=\"w\">            </span><span class=\"nt\">&quot;job_title&quot;</span><span class=\"p\">:</span><span class=\"w\"> </span><span class=\"s2\">&quot;Google Ads Campaign Management&quot;</span><span class=\"p\">,</span>\n",
       "<span class=\"w\">            </span><span class=\"nt\">&quot;job_post&quot;</span><span class=\"p\">:</span><span class=\"w\"> </span><span class=\"s2\">&quot;Looking for a PPC specialist to manage our Google Ads campaigns. The goal is to increase traffic and conversions for our online store.&quot;</span>\n",
       "<span class=\"w\">        </span><span class=\"p\">},</span>\n",
       "<span class=\"w\">        </span><span class=\"p\">{</span>\n",
       "<span class=\"w\">            </span><span class=\"nt\">&quot;job_category&quot;</span><span class=\"p\">:</span><span class=\"w\"> </span><span class=\"s2\">&quot;Digital Marketing&quot;</span><span class=\"p\">,</span>\n",
       "<span class=\"w\">            </span><span class=\"nt\">&quot;job_title&quot;</span><span class=\"p\">:</span><span class=\"w\"> </span><span class=\"s2\">&quot;Email Marketing Campaign&quot;</span><span class=\"p\">,</span>\n",
       "<span class=\"w\">            </span><span class=\"nt\">&quot;job_post&quot;</span><span class=\"p\">:</span><span class=\"w\"> </span><span class=\"s2\">&quot;Seeking an email marketing expert to design and execute a series of email campaigns for our new product launch. Experience with Mailchimp is preferred.&quot;</span>\n",
       "<span class=\"w\">        </span><span class=\"p\">},</span>\n",
       "<span class=\"w\">        </span><span class=\"p\">{</span>\n",
       "<span class=\"w\">            </span><span class=\"nt\">&quot;job_category&quot;</span><span class=\"p\">:</span><span class=\"w\"> </span><span class=\"s2\">&quot;Graphic Design&quot;</span><span class=\"p\">,</span>\n",
       "<span class=\"w\">            </span><span class=\"nt\">&quot;job_title&quot;</span><span class=\"p\">:</span><span class=\"w\"> </span><span class=\"s2\">&quot;Infographic Design&quot;</span><span class=\"p\">,</span>\n",
       "<span class=\"w\">            </span><span class=\"nt\">&quot;job_post&quot;</span><span class=\"p\">:</span><span class=\"w\"> </span><span class=\"s2\">&quot;We need a designer to create a visually appealing infographic based on our provided data. The infographic should be easy to understand and shareable on social media.&quot;</span>\n",
       "<span class=\"w\">        </span><span class=\"p\">},</span>\n",
       "<span class=\"w\">        </span><span class=\"p\">{</span>\n",
       "<span class=\"w\">            </span><span class=\"nt\">&quot;job_category&quot;</span><span class=\"p\">:</span><span class=\"w\"> </span><span class=\"s2\">&quot;Web Development&quot;</span><span class=\"p\">,</span>\n",
       "<span class=\"w\">            </span><span class=\"nt\">&quot;job_title&quot;</span><span class=\"p\">:</span><span class=\"w\"> </span><span class=\"s2\">&quot;Landing Page Development&quot;</span><span class=\"p\">,</span>\n",
       "<span class=\"w\">            </span><span class=\"nt\">&quot;job_post&quot;</span><span class=\"p\">:</span><span class=\"w\"> </span><span class=\"s2\">&quot;Looking for a developer to create a high-converting landing page for our marketing campaign. The page should be optimized for mobile and desktop users.&quot;</span>\n",
       "<span class=\"w\">        </span><span class=\"p\">},</span>\n",
       "<span class=\"w\">        </span><span class=\"p\">{</span>\n",
       "<span class=\"w\">            </span><span class=\"nt\">&quot;job_category&quot;</span><span class=\"p\">:</span><span class=\"w\"> </span><span class=\"s2\">&quot;Content Writing&quot;</span><span class=\"p\">,</span>\n",
       "<span class=\"w\">            </span><span class=\"nt\">&quot;job_title&quot;</span><span class=\"p\">:</span><span class=\"w\"> </span><span class=\"s2\">&quot;Press Release Writing&quot;</span><span class=\"p\">,</span>\n",
       "<span class=\"w\">            </span><span class=\"nt\">&quot;job_post&quot;</span><span class=\"p\">:</span><span class=\"w\"> </span><span class=\"s2\">&quot;We need a writer to draft a press release for our upcoming product launch. The release should be attention-grabbing and follow industry standards.&quot;</span>\n",
       "<span class=\"w\">        </span><span class=\"p\">},</span>\n",
       "<span class=\"w\">        </span><span class=\"p\">{</span>\n",
       "<span class=\"w\">            </span><span class=\"nt\">&quot;job_category&quot;</span><span class=\"p\">:</span><span class=\"w\"> </span><span class=\"s2\">&quot;Digital Marketing&quot;</span><span class=\"p\">,</span>\n",
       "<span class=\"w\">            </span><span class=\"nt\">&quot;job_title&quot;</span><span class=\"p\">:</span><span class=\"w\"> </span><span class=\"s2\">&quot;Content Marketing Strategy&quot;</span><span class=\"p\">,</span>\n",
       "<span class=\"w\">            </span><span class=\"nt\">&quot;job_post&quot;</span><span class=\"p\">:</span><span class=\"w\"> </span><span class=\"s2\">&quot;Seeking a content marketing strategist to develop a comprehensive plan to increase our online visibility. The strategy should include content creation, distribution, and performance tracking.&quot;</span>\n",
       "<span class=\"w\">        </span><span class=\"p\">}</span>\n",
       "<span class=\"w\">    </span><span class=\"p\">]</span>\n",
       "<span class=\"p\">}</span>\n",
       "</pre></div>\n"
      ],
      "text/plain": [
       "ScenarioList([Scenario({'job_category': 'Graphic Design', 'job_title': 'Logo Design for New Startup', 'job_post': 'We are a new tech startup looking for a creative designer to create a unique logo for our brand. The logo should be modern and represent innovation. Please provide portfolio examples.'}), Scenario({'job_category': 'Graphic Design', 'job_title': 'Brochure Design', 'job_post': 'Looking for an experienced designer to create a professional brochure for our real estate company. The brochure should highlight our services and properties. Must be delivered in print-ready format.'}), Scenario({'job_category': 'Graphic Design', 'job_title': 'Social Media Graphics', 'job_post': 'Need a designer to create eye-catching social media graphics for our upcoming campaign. We need a set of 10 images optimized for Instagram and Facebook.'}), Scenario({'job_category': 'Graphic Design', 'job_title': 'Website Banner Design', 'job_post': 'Seeking a skilled designer to create a series of banners for our e-commerce website. Banners should be consistent with our brand’s aesthetic. Please include examples of previous work.'}), Scenario({'job_category': 'Web Development', 'job_title': 'WordPress Website Setup', 'job_post': 'We need a developer to set up a WordPress site for our small business. The site should be responsive and include a contact form, blog, and e-commerce functionality. Experience with WooCommerce is a plus.'}), Scenario({'job_category': 'Web Development', 'job_title': 'Custom Web Application Development', 'job_post': 'Looking for a full-stack developer to build a custom web application for managing employee schedules. The app should include a login system, user roles, and reporting features.'}), Scenario({'job_category': 'Web Development', 'job_title': 'Shopify Store Customization', 'job_post': 'Seeking a Shopify expert to customize our online store. We need theme adjustments, product page enhancements, and integration with third-party tools.'}), Scenario({'job_category': 'Web Development', 'job_title': 'API Integration', 'job_post': 'Need a developer to integrate our existing CRM system with an external API. The integration should sync customer data in real-time. Previous experience with similar projects required.'}), Scenario({'job_category': 'Content Writing', 'job_title': 'Blog Post Writing', 'job_post': 'Looking for a skilled writer to produce 5 blog posts on digital marketing topics. Each post should be 800-1000 words, well-researched, and SEO-optimized.'}), Scenario({'job_category': 'Content Writing', 'job_title': 'Product Description Writing', 'job_post': 'We need a writer to craft compelling product descriptions for our online store. Each description should highlight the key features and benefits of the product.'}), Scenario({'job_category': 'Content Writing', 'job_title': 'Technical Writing for Software Documentation', 'job_post': 'Seeking an experienced technical writer to create user manuals and API documentation for our software product. Must have a background in tech writing and be familiar with software development terminology.'}), Scenario({'job_category': 'Content Writing', 'job_title': 'Website Copywriting', 'job_post': 'Looking for a copywriter to create persuasive content for our company’s website. The content should be clear, concise, and align with our brand voice.'}), Scenario({'job_category': 'Digital Marketing', 'job_title': 'Social Media Management', 'job_post': 'We are looking for a social media manager to handle our Instagram and Twitter accounts. Responsibilities include content creation, scheduling posts, and engaging with followers.'}), Scenario({'job_category': 'Digital Marketing', 'job_title': 'SEO Optimization', 'job_post': 'Need an SEO expert to optimize our website for search engines. The project includes keyword research, on-page optimization, and link-building strategies.'}), Scenario({'job_category': 'Digital Marketing', 'job_title': 'Google Ads Campaign Management', 'job_post': 'Looking for a PPC specialist to manage our Google Ads campaigns. The goal is to increase traffic and conversions for our online store.'}), Scenario({'job_category': 'Digital Marketing', 'job_title': 'Email Marketing Campaign', 'job_post': 'Seeking an email marketing expert to design and execute a series of email campaigns for our new product launch. Experience with Mailchimp is preferred.'}), Scenario({'job_category': 'Graphic Design', 'job_title': 'Infographic Design', 'job_post': 'We need a designer to create a visually appealing infographic based on our provided data. The infographic should be easy to understand and shareable on social media.'}), Scenario({'job_category': 'Web Development', 'job_title': 'Landing Page Development', 'job_post': 'Looking for a developer to create a high-converting landing page for our marketing campaign. The page should be optimized for mobile and desktop users.'}), Scenario({'job_category': 'Content Writing', 'job_title': 'Press Release Writing', 'job_post': 'We need a writer to draft a press release for our upcoming product launch. The release should be attention-grabbing and follow industry standards.'}), Scenario({'job_category': 'Digital Marketing', 'job_title': 'Content Marketing Strategy', 'job_post': 'Seeking a content marketing strategist to develop a comprehensive plan to increase our online visibility. The strategy should include content creation, distribution, and performance tracking.'})])"
      ]
     },
     "execution_count": 3,
     "metadata": {},
     "output_type": "execute_result"
    }
   ],
   "source": [
    "scenarios"
   ]
  },
  {
   "cell_type": "markdown",
   "metadata": {
    "cell_id": "6b5968a43bfa418eb07381bc91924950",
    "deepnote_cell_type": "markdown"
   },
   "source": [
    "## Construct questions about the data\n",
    "Next we construct questions to ask about the job posts, selecting question types based on the form of the response that we want to get back from the language model (multiple choice, linear scale, free text, numerical, etc.--see [examples of all question types](https://docs.expectedparrot.com/en/latest/questions.html)). We include a `{{ placeholder }}` for the scenario keys in order to parameterize each question with each job post and category when we run the survey:"
   ]
  },
  {
   "cell_type": "code",
   "execution_count": 4,
   "metadata": {},
   "outputs": [],
   "source": [
    "q_skills = QuestionList(\n",
    "    question_name=\"skills\",\n",
    "    question_text=\"\"\"\n",
    "    Consider the following job category and job post at an online labor marketplace. \n",
    "    Job category: {{ job_category }}\n",
    "    Job post: {{ job_post }}\n",
    "    What are some key skills required for this job?\n",
    "    \"\"\",\n",
    ")\n",
    "\n",
    "q_experience = QuestionMultipleChoice(\n",
    "    question_name=\"experience\",\n",
    "    question_text=\"\"\"\n",
    "    Consider the following job category and job post at an online labor marketplace. \n",
    "    Job category: {{ job_category }}\n",
    "    Job post: {{ job_post }}\n",
    "    What level of experience is required for this job?\n",
    "    \"\"\",\n",
    "    question_options=[\"Entry-level\", \"Mid-level\", \"Senior-level\"],\n",
    ")\n",
    "\n",
    "q_days = QuestionNumerical(\n",
    "    question_name=\"days\",\n",
    "    question_text=\"\"\"\n",
    "    Consider the following job category and job post at an online labor marketplace. \n",
    "    Job category: {{ job_category }}\n",
    "    Job post: {{ job_post }}\n",
    "    Estimate the number of days until this job post is fulfilled.\n",
    "    \"\"\",\n",
    ")"
   ]
  },
  {
   "cell_type": "markdown",
   "metadata": {
    "cell_id": "42cf40f52e664ad2b2db23d530309182",
    "deepnote_cell_type": "markdown"
   },
   "source": [
    "## Combining questions into a Survey\n",
    "Next we combine our questions into a survey that will be administered to the AI agents. By default, the questions will be administered asynchronously. If desired, we can also specify survey rules (skip/stop logic) and within-survey memories of prior questions and responses. See the EDSL Docs for details on methods for [applying survey rules](https://docs.expectedparrot.com/en/latest/surveys.html#applying-survey-rules)."
   ]
  },
  {
   "cell_type": "code",
   "execution_count": 5,
   "metadata": {
    "cell_id": "5813fa2b15fc4680a54171d0a381bf6c",
    "deepnote_cell_type": "code",
    "deepnote_to_be_reexecuted": false,
    "execution_millis": 69,
    "execution_start": 1708101246817,
    "source_hash": null
   },
   "outputs": [],
   "source": [
    "survey = Survey(questions=[q_skills, q_experience, q_days])"
   ]
  },
  {
   "cell_type": "markdown",
   "metadata": {
    "cell_id": "cdab4016b3ce4e15906da7e42078be59",
    "deepnote_cell_type": "markdown"
   },
   "source": [
    "## Creating personas for Agents\n",
    "Next we draft personas for AI agents that will answer the questions. For each job category we construct an AI agent that is an expert in the category. Agents are constructed by passing a dictionary of `traits` to an `Agent` object. [Learn more about designing AI agents](https://docs.expectedparrot.com/en/latest/agents.html) to answer surveys."
   ]
  },
  {
   "cell_type": "markdown",
   "metadata": {},
   "source": [
    "To get the set of job categories from the scenarios:"
   ]
  },
  {
   "cell_type": "code",
   "execution_count": 6,
   "metadata": {},
   "outputs": [
    {
     "data": {
      "text/plain": [
       "['Digital Marketing', 'Graphic Design', 'Content Writing', 'Web Development']"
      ]
     },
     "execution_count": 6,
     "metadata": {},
     "output_type": "execute_result"
    }
   ],
   "source": [
    "job_categories = list(set(scenarios.select(\"job_category\").to_list()))\n",
    "job_categories"
   ]
  },
  {
   "cell_type": "markdown",
   "metadata": {},
   "source": [
    "Next we use them to create an agent for each job category:"
   ]
  },
  {
   "cell_type": "code",
   "execution_count": 7,
   "metadata": {
    "cell_id": "849c5fba455a4500b42fa6ec6fd14c0a",
    "deepnote_cell_type": "code",
    "deepnote_to_be_reexecuted": false,
    "execution_millis": 93,
    "execution_start": 1708101249615,
    "source_hash": null
   },
   "outputs": [
    {
     "data": {
      "text/html": [
       "<div class=\"highlight\"><pre><span></span><span class=\"p\">[</span>\n",
       "<span class=\"w\">    </span><span class=\"p\">{</span>\n",
       "<span class=\"w\">        </span><span class=\"nt\">&quot;traits&quot;</span><span class=\"p\">:</span><span class=\"w\"> </span><span class=\"p\">{</span>\n",
       "<span class=\"w\">            </span><span class=\"nt\">&quot;persona&quot;</span><span class=\"p\">:</span><span class=\"w\"> </span><span class=\"s2\">&quot;You are an experienced freelancer on online labor marketplaces.&quot;</span><span class=\"p\">,</span>\n",
       "<span class=\"w\">            </span><span class=\"nt\">&quot;job_category&quot;</span><span class=\"p\">:</span><span class=\"w\"> </span><span class=\"s2\">&quot;Digital Marketing&quot;</span><span class=\"p\">,</span>\n",
       "<span class=\"w\">            </span><span class=\"nt\">&quot;expertise&quot;</span><span class=\"p\">:</span><span class=\"w\"> </span><span class=\"s2\">&quot;You regularly perform jobs in the following category: Digital Marketing.&quot;</span>\n",
       "<span class=\"w\">        </span><span class=\"p\">},</span>\n",
       "<span class=\"w\">        </span><span class=\"nt\">&quot;edsl_version&quot;</span><span class=\"p\">:</span><span class=\"w\"> </span><span class=\"s2\">&quot;0.1.32.dev1&quot;</span><span class=\"p\">,</span>\n",
       "<span class=\"w\">        </span><span class=\"nt\">&quot;edsl_class_name&quot;</span><span class=\"p\">:</span><span class=\"w\"> </span><span class=\"s2\">&quot;Agent&quot;</span>\n",
       "<span class=\"w\">    </span><span class=\"p\">},</span>\n",
       "<span class=\"w\">    </span><span class=\"p\">{</span>\n",
       "<span class=\"w\">        </span><span class=\"nt\">&quot;traits&quot;</span><span class=\"p\">:</span><span class=\"w\"> </span><span class=\"p\">{</span>\n",
       "<span class=\"w\">            </span><span class=\"nt\">&quot;persona&quot;</span><span class=\"p\">:</span><span class=\"w\"> </span><span class=\"s2\">&quot;You are an experienced freelancer on online labor marketplaces.&quot;</span><span class=\"p\">,</span>\n",
       "<span class=\"w\">            </span><span class=\"nt\">&quot;job_category&quot;</span><span class=\"p\">:</span><span class=\"w\"> </span><span class=\"s2\">&quot;Graphic Design&quot;</span><span class=\"p\">,</span>\n",
       "<span class=\"w\">            </span><span class=\"nt\">&quot;expertise&quot;</span><span class=\"p\">:</span><span class=\"w\"> </span><span class=\"s2\">&quot;You regularly perform jobs in the following category: Graphic Design.&quot;</span>\n",
       "<span class=\"w\">        </span><span class=\"p\">},</span>\n",
       "<span class=\"w\">        </span><span class=\"nt\">&quot;edsl_version&quot;</span><span class=\"p\">:</span><span class=\"w\"> </span><span class=\"s2\">&quot;0.1.32.dev1&quot;</span><span class=\"p\">,</span>\n",
       "<span class=\"w\">        </span><span class=\"nt\">&quot;edsl_class_name&quot;</span><span class=\"p\">:</span><span class=\"w\"> </span><span class=\"s2\">&quot;Agent&quot;</span>\n",
       "<span class=\"w\">    </span><span class=\"p\">},</span>\n",
       "<span class=\"w\">    </span><span class=\"p\">{</span>\n",
       "<span class=\"w\">        </span><span class=\"nt\">&quot;traits&quot;</span><span class=\"p\">:</span><span class=\"w\"> </span><span class=\"p\">{</span>\n",
       "<span class=\"w\">            </span><span class=\"nt\">&quot;persona&quot;</span><span class=\"p\">:</span><span class=\"w\"> </span><span class=\"s2\">&quot;You are an experienced freelancer on online labor marketplaces.&quot;</span><span class=\"p\">,</span>\n",
       "<span class=\"w\">            </span><span class=\"nt\">&quot;job_category&quot;</span><span class=\"p\">:</span><span class=\"w\"> </span><span class=\"s2\">&quot;Content Writing&quot;</span><span class=\"p\">,</span>\n",
       "<span class=\"w\">            </span><span class=\"nt\">&quot;expertise&quot;</span><span class=\"p\">:</span><span class=\"w\"> </span><span class=\"s2\">&quot;You regularly perform jobs in the following category: Content Writing.&quot;</span>\n",
       "<span class=\"w\">        </span><span class=\"p\">},</span>\n",
       "<span class=\"w\">        </span><span class=\"nt\">&quot;edsl_version&quot;</span><span class=\"p\">:</span><span class=\"w\"> </span><span class=\"s2\">&quot;0.1.32.dev1&quot;</span><span class=\"p\">,</span>\n",
       "<span class=\"w\">        </span><span class=\"nt\">&quot;edsl_class_name&quot;</span><span class=\"p\">:</span><span class=\"w\"> </span><span class=\"s2\">&quot;Agent&quot;</span>\n",
       "<span class=\"w\">    </span><span class=\"p\">},</span>\n",
       "<span class=\"w\">    </span><span class=\"p\">{</span>\n",
       "<span class=\"w\">        </span><span class=\"nt\">&quot;traits&quot;</span><span class=\"p\">:</span><span class=\"w\"> </span><span class=\"p\">{</span>\n",
       "<span class=\"w\">            </span><span class=\"nt\">&quot;persona&quot;</span><span class=\"p\">:</span><span class=\"w\"> </span><span class=\"s2\">&quot;You are an experienced freelancer on online labor marketplaces.&quot;</span><span class=\"p\">,</span>\n",
       "<span class=\"w\">            </span><span class=\"nt\">&quot;job_category&quot;</span><span class=\"p\">:</span><span class=\"w\"> </span><span class=\"s2\">&quot;Web Development&quot;</span><span class=\"p\">,</span>\n",
       "<span class=\"w\">            </span><span class=\"nt\">&quot;expertise&quot;</span><span class=\"p\">:</span><span class=\"w\"> </span><span class=\"s2\">&quot;You regularly perform jobs in the following category: Web Development.&quot;</span>\n",
       "<span class=\"w\">        </span><span class=\"p\">},</span>\n",
       "<span class=\"w\">        </span><span class=\"nt\">&quot;edsl_version&quot;</span><span class=\"p\">:</span><span class=\"w\"> </span><span class=\"s2\">&quot;0.1.32.dev1&quot;</span><span class=\"p\">,</span>\n",
       "<span class=\"w\">        </span><span class=\"nt\">&quot;edsl_class_name&quot;</span><span class=\"p\">:</span><span class=\"w\"> </span><span class=\"s2\">&quot;Agent&quot;</span>\n",
       "<span class=\"w\">    </span><span class=\"p\">}</span>\n",
       "<span class=\"p\">]</span>\n",
       "</pre></div>\n"
      ],
      "text/plain": [
       "AgentList([Agent(traits = {'persona': 'You are an experienced freelancer on online labor marketplaces.', 'job_category': 'Digital Marketing', 'expertise': 'You regularly perform jobs in the following category: Digital Marketing.'}), Agent(traits = {'persona': 'You are an experienced freelancer on online labor marketplaces.', 'job_category': 'Graphic Design', 'expertise': 'You regularly perform jobs in the following category: Graphic Design.'}), Agent(traits = {'persona': 'You are an experienced freelancer on online labor marketplaces.', 'job_category': 'Content Writing', 'expertise': 'You regularly perform jobs in the following category: Content Writing.'}), Agent(traits = {'persona': 'You are an experienced freelancer on online labor marketplaces.', 'job_category': 'Web Development', 'expertise': 'You regularly perform jobs in the following category: Web Development.'})])"
      ]
     },
     "execution_count": 7,
     "metadata": {},
     "output_type": "execute_result"
    }
   ],
   "source": [
    "agents = AgentList(\n",
    "    Agent(\n",
    "        traits = {\n",
    "            \"persona\": \"You are an experienced freelancer on online labor marketplaces.\",\n",
    "            \"job_category\": job_category,\n",
    "            \"expertise\": f\"You regularly perform jobs in the following category: {job_category}.\"\n",
    "        }\n",
    "    ) for job_category in job_categories\n",
    ")\n",
    "agents"
   ]
  },
  {
   "cell_type": "markdown",
   "metadata": {},
   "source": [
    "## Selecting language models\n",
    "EDSL works with many popular language models that we can select to generate the agents' responses to the survey. We can check a current list of available models:"
   ]
  },
  {
   "cell_type": "code",
   "execution_count": 8,
   "metadata": {},
   "outputs": [],
   "source": [
    "from edsl import Model\n",
    "\n",
    "# Model.available()"
   ]
  },
  {
   "cell_type": "markdown",
   "metadata": {},
   "source": [
    "If we do not specify a model to use, GPT 4 preview is used by default. Here we create a `Model` for GPT 4 that we will add to the survey when we run it:"
   ]
  },
  {
   "cell_type": "code",
   "execution_count": 9,
   "metadata": {},
   "outputs": [],
   "source": [
    "model = Model(\"gpt-4\")"
   ]
  },
  {
   "cell_type": "markdown",
   "metadata": {
    "cell_id": "5a71caf2a35b4eff897a35fe8e97339f",
    "deepnote_cell_type": "markdown"
   },
   "source": [
    "## Running the survey\n",
    "We administer a survey by appending the components with the `by()` method and then calling `run()` method. In the simplest case where we want a single agent or list of agents to answer all questions with the same scenarios, this takes the following form:\n",
    "\n",
    "`results = survey.by(scenarios).by(agents).by(models).run()`\n",
    "\n",
    "Here we have individual agents answer the questions only for category-specific job posts:"
   ]
  },
  {
   "cell_type": "code",
   "execution_count": 10,
   "metadata": {},
   "outputs": [],
   "source": [
    "results = {}\n",
    "\n",
    "for job_category in job_categories:\n",
    "    \n",
    "    # Create an agent for the job category\n",
    "    a = agents.filter(f\"job_category == '{job_category}'\")\n",
    "    \n",
    "    # Filter the relevant scenarios\n",
    "    s = scenarios.filter(f\"job_category == '{job_category}'\")\n",
    "\n",
    "    # Run the survey with the agent and scenarios\n",
    "    job_category_results = survey.by(s).by(a).run()\n",
    "\n",
    "    # Store the results\n",
    "    results[job_category] = job_category_results"
   ]
  },
  {
   "cell_type": "markdown",
   "metadata": {
    "cell_id": "2dd090bc153147b7b8e265b6b7f69af2",
    "deepnote_cell_type": "markdown"
   },
   "source": [
    "## Accessing Results\n",
    "In the previous step we created independent `Results` objects for our individual agents' survey results. In the next steps we show how to access results with built-in print and analytical methods."
   ]
  },
  {
   "cell_type": "markdown",
   "metadata": {
    "cell_id": "24af3724b5504f88a8b1e94119279717",
    "deepnote_cell_type": "markdown"
   },
   "source": [
    "We can identify the column names to select the fields that we want to inspect:"
   ]
  },
  {
   "cell_type": "code",
   "execution_count": 11,
   "metadata": {},
   "outputs": [
    {
     "data": {
      "text/plain": [
       "dict_keys(['Digital Marketing', 'Graphic Design', 'Content Writing', 'Web Development'])"
      ]
     },
     "execution_count": 11,
     "metadata": {},
     "output_type": "execute_result"
    }
   ],
   "source": [
    "results.keys()"
   ]
  },
  {
   "cell_type": "code",
   "execution_count": 12,
   "metadata": {
    "cell_id": "8ce75c056fa74612a4f70fbf98f41d69",
    "deepnote_cell_type": "code",
    "deepnote_to_be_reexecuted": false,
    "execution_millis": 31,
    "execution_start": 1708101392122,
    "source_hash": null
   },
   "outputs": [
    {
     "data": {
      "text/plain": [
       "['agent.agent_instruction',\n",
       " 'agent.agent_name',\n",
       " 'agent.expertise',\n",
       " 'agent.persona',\n",
       " 'answer.days',\n",
       " 'answer.experience',\n",
       " 'answer.skills',\n",
       " 'comment.days_comment',\n",
       " 'comment.experience_comment',\n",
       " 'comment.skills_comment',\n",
       " 'model.frequency_penalty',\n",
       " 'model.logprobs',\n",
       " 'model.max_tokens',\n",
       " 'model.model',\n",
       " 'model.presence_penalty',\n",
       " 'model.temperature',\n",
       " 'model.top_logprobs',\n",
       " 'model.top_p',\n",
       " 'prompt.days_system_prompt',\n",
       " 'prompt.days_user_prompt',\n",
       " 'prompt.experience_system_prompt',\n",
       " 'prompt.experience_user_prompt',\n",
       " 'prompt.skills_system_prompt',\n",
       " 'prompt.skills_user_prompt',\n",
       " 'question_options.days_question_options',\n",
       " 'question_options.experience_question_options',\n",
       " 'question_options.skills_question_options',\n",
       " 'question_text.days_question_text',\n",
       " 'question_text.experience_question_text',\n",
       " 'question_text.skills_question_text',\n",
       " 'question_type.days_question_type',\n",
       " 'question_type.experience_question_type',\n",
       " 'question_type.skills_question_type',\n",
       " 'raw_model_response.days_raw_model_response',\n",
       " 'raw_model_response.experience_raw_model_response',\n",
       " 'raw_model_response.skills_raw_model_response',\n",
       " 'scenario.job_category',\n",
       " 'scenario.job_post',\n",
       " 'scenario.job_title']"
      ]
     },
     "execution_count": 12,
     "metadata": {},
     "output_type": "execute_result"
    }
   ],
   "source": [
    "results[\"Graphic Design\"].columns"
   ]
  },
  {
   "cell_type": "markdown",
   "metadata": {
    "cell_id": "ae4341c811e54ae88fa3518ee36d49e4",
    "deepnote_cell_type": "markdown"
   },
   "source": [
    "We can select individual fields in a variety of ways:"
   ]
  },
  {
   "cell_type": "code",
   "execution_count": 13,
   "metadata": {
    "cell_id": "bd5af76f6f554a738897c11351f181ce",
    "deepnote_cell_type": "code",
    "deepnote_to_be_reexecuted": false,
    "execution_millis": 184,
    "execution_start": 1708101394654,
    "source_hash": null
   },
   "outputs": [
    {
     "data": {
      "text/html": [
       "\n",
       "    <style>\n",
       "        table {\n",
       "            width: 100%;\n",
       "            border-collapse: collapse;\n",
       "        }\n",
       "        table, th, td {\n",
       "            border: 1px solid black;\n",
       "        }\n",
       "        th, td {\n",
       "            padding: 10px;\n",
       "            text-align: left;\n",
       "        }\n",
       "    </style>\n",
       "    <table id=\"myTable\" class=\"display\">\n",
       "  <thead>\n",
       "  <tr>\n",
       "    <th>scenario.job_post</th>\n",
       "    <th>answer.skills</th>\n",
       "    <th>answer.experience</th>\n",
       "    <th>answer.days</th>\n",
       "  </tr>\n",
       "  </thead>\n",
       "</tbody>\n",
       "  <tr>\n",
       "    <td>We are a new tech startup looking for a creative designer to create a unique logo for our brand. The logo should be modern and represent innovation. Please provide portfolio examples.</td>\n",
       "    <td>['Creativity', 'Adobe Creative Suite proficiency', 'Branding', 'Typography', 'Color Theory', 'Vector Graphic Design', 'Sketching', 'Understanding of Modern Design Trends', 'Communication', 'Conceptual Thinking']</td>\n",
       "    <td>Mid-level</td>\n",
       "    <td>7</td>\n",
       "  </tr>\n",
       "  <tr>\n",
       "    <td>Looking for an experienced designer to create a professional brochure for our real estate company. The brochure should highlight our services and properties. Must be delivered in print-ready format.</td>\n",
       "    <td>['Adobe InDesign', 'Adobe Photoshop', 'Layout Design', 'Typography', 'Print Design', 'Color Theory', 'Branding', 'Attention to Detail', 'Communication Skills', 'Time Management']</td>\n",
       "    <td>Mid-level</td>\n",
       "    <td>14</td>\n",
       "  </tr>\n",
       "  <tr>\n",
       "    <td>Need a designer to create eye-catching social media graphics for our upcoming campaign. We need a set of 10 images optimized for Instagram and Facebook.</td>\n",
       "    <td>['Adobe Photoshop', 'Adobe Illustrator', 'Graphic Design', 'Social Media Branding', 'Creative Conceptualization', 'Layout and Composition', 'Typography', 'Color Theory', 'Image Optimization', 'Content Scheduling', 'Marketing', 'Visual Communication', 'Attention to Detail', 'Time Management']</td>\n",
       "    <td>Mid-level</td>\n",
       "    <td>7</td>\n",
       "  </tr>\n",
       "  <tr>\n",
       "    <td>Seeking a skilled designer to create a series of banners for our e-commerce website. Banners should be consistent with our brand’s aesthetic. Please include examples of previous work.</td>\n",
       "    <td>['Adobe Photoshop', 'Adobe Illustrator', 'Graphic Design', 'Branding', 'Visual Communication', 'Creativity', 'Typography', 'Layout Design', 'Color Theory', 'Marketing', 'UX/UI Principles', 'Attention to Detail', 'Time Management']</td>\n",
       "    <td>Mid-level</td>\n",
       "    <td>7</td>\n",
       "  </tr>\n",
       "  <tr>\n",
       "    <td>We need a designer to create a visually appealing infographic based on our provided data. The infographic should be easy to understand and shareable on social media.</td>\n",
       "    <td>['Data visualization', 'Graphic design', 'Creativity', 'Attention to detail', 'Typography', 'Color theory', 'Branding', 'Layout and composition', 'Software proficiency (e.g., Adobe Creative Suite)', 'Social media understanding']</td>\n",
       "    <td>Mid-level</td>\n",
       "    <td>7</td>\n",
       "  </tr>\n",
       "</tbody>\n",
       "</table>"
      ],
      "text/plain": [
       "<IPython.core.display.HTML object>"
      ]
     },
     "metadata": {},
     "output_type": "display_data"
    }
   ],
   "source": [
    "(results[\"Graphic Design\"].select(\"job_post\", \"skills\", \"experience\", \"days\").print())"
   ]
  },
  {
   "cell_type": "markdown",
   "metadata": {
    "cell_id": "0f535499070d4d06bcbdc79368419a64",
    "deepnote_cell_type": "markdown"
   },
   "source": [
    "We can apply some labels to our table for readability. Note that each question field also automatically includes a `<question>_comment` field for any commentary by the LLM on the question:"
   ]
  },
  {
   "cell_type": "code",
   "execution_count": 14,
   "metadata": {
    "cell_id": "1432c4631ad24979b917d5cc189395f9",
    "deepnote_cell_type": "code",
    "deepnote_to_be_reexecuted": false,
    "execution_millis": 191,
    "execution_start": 1708101579124,
    "source_hash": null
   },
   "outputs": [
    {
     "data": {
      "text/html": [
       "\n",
       "    <style>\n",
       "        table {\n",
       "            width: 100%;\n",
       "            border-collapse: collapse;\n",
       "        }\n",
       "        table, th, td {\n",
       "            border: 1px solid black;\n",
       "        }\n",
       "        th, td {\n",
       "            padding: 10px;\n",
       "            text-align: left;\n",
       "        }\n",
       "    </style>\n",
       "    <table id=\"myTable\" class=\"display\">\n",
       "  <thead>\n",
       "  <tr>\n",
       "    <th>Job post description</th>\n",
       "    <th>Experience level</th>\n",
       "    <th>comment.experience_comment</th>\n",
       "  </tr>\n",
       "  </thead>\n",
       "</tbody>\n",
       "  <tr>\n",
       "    <td>We are a new tech startup looking for a creative designer to create a unique logo for our brand. The logo should be modern and represent innovation. Please provide portfolio examples.</td>\n",
       "    <td>Mid-level</td>\n",
       "    <td>The job post specifies the need for a unique and modern logo that represents innovation, which implies a certain level of creative skill and understanding of brand identity. This typically requires more than just basic knowledge, suggesting that a mid-level designer with a solid portfolio would be suitable for this task. Entry-level might lack the experience in brand representation, and senior-level might be overqualified for just a logo design unless the startup is looking for a more comprehensive brand development strategy.</td>\n",
       "  </tr>\n",
       "  <tr>\n",
       "    <td>Looking for an experienced designer to create a professional brochure for our real estate company. The brochure should highlight our services and properties. Must be delivered in print-ready format.</td>\n",
       "    <td>Mid-level</td>\n",
       "    <td>Creating a professional brochure requires a designer who has a good understanding of layout, typography, and branding to effectively highlight the company's services and properties. Mid-level experience is suitable for this task as it requires someone who can deliver a polished, print-ready product without needing senior-level expertise, but is beyond the capabilities of most entry-level designers.</td>\n",
       "  </tr>\n",
       "  <tr>\n",
       "    <td>Need a designer to create eye-catching social media graphics for our upcoming campaign. We need a set of 10 images optimized for Instagram and Facebook.</td>\n",
       "    <td>Mid-level</td>\n",
       "    <td>Creating a set of eye-catching social media graphics requires someone with a good understanding of design principles and social media optimization. A mid-level designer would likely have the necessary skills and experience to execute this task effectively.</td>\n",
       "  </tr>\n",
       "  <tr>\n",
       "    <td>Seeking a skilled designer to create a series of banners for our e-commerce website. Banners should be consistent with our brand’s aesthetic. Please include examples of previous work.</td>\n",
       "    <td>Mid-level</td>\n",
       "    <td>Creating a series of banners that align with a brand's aesthetic requires a designer to have a good understanding of branding, design principles, and possibly some marketing knowledge. This typically goes beyond entry-level skills but doesn't necessarily require senior-level experience. Mid-level is appropriate as it assumes the designer has the necessary skills to create cohesive designs that can engage customers and represent the brand effectively.</td>\n",
       "  </tr>\n",
       "  <tr>\n",
       "    <td>We need a designer to create a visually appealing infographic based on our provided data. The infographic should be easy to understand and shareable on social media.</td>\n",
       "    <td>Mid-level</td>\n",
       "    <td>Creating an infographic that is both visually appealing and easy to understand requires a good grasp of design principles and the ability to present data in a clear and engaging way. This suggests that a mid-level designer with experience in creating infographics and understanding how to optimize them for social media would be well-suited for this job.</td>\n",
       "  </tr>\n",
       "</tbody>\n",
       "</table>"
      ],
      "text/plain": [
       "<IPython.core.display.HTML object>"
      ]
     },
     "metadata": {},
     "output_type": "display_data"
    }
   ],
   "source": [
    "(\n",
    "    results[\"Graphic Design\"]\n",
    "    .select(\"job_post\", \"experience\", \"experience_comment\")\n",
    "    .print(\n",
    "        pretty_labels={\n",
    "            \"scenario.job_post\": \"Job post description\",\n",
    "            \"answer.experience\": \"Experience level\",\n",
    "            \"answer.experience_comment\": \"Comment\",\n",
    "        }\n",
    "    )\n",
    ")"
   ]
  },
  {
   "cell_type": "markdown",
   "metadata": {
    "cell_id": "624df25730a54bc09553173f5fb01847",
    "deepnote_cell_type": "markdown"
   },
   "source": [
    "We can also access results as a SQL table (called `self`) with the `.sql()` method, choosing between a \"wide\" horizontal view of all fields and a \"long\" vertical view, and optionally removing the column name prefixes 'agent', 'model', 'prompt', etc.:"
   ]
  },
  {
   "cell_type": "code",
   "execution_count": 15,
   "metadata": {
    "cell_id": "8ea1010307b243f1a0ce8b1bf326b090",
    "deepnote_cell_type": "code",
    "deepnote_to_be_reexecuted": false,
    "execution_millis": 223,
    "execution_start": 1708101592807,
    "source_hash": null
   },
   "outputs": [
    {
     "data": {
      "text/html": [
       "<div>\n",
       "<style scoped>\n",
       "    .dataframe tbody tr th:only-of-type {\n",
       "        vertical-align: middle;\n",
       "    }\n",
       "\n",
       "    .dataframe tbody tr th {\n",
       "        vertical-align: top;\n",
       "    }\n",
       "\n",
       "    .dataframe thead th {\n",
       "        text-align: right;\n",
       "    }\n",
       "</style>\n",
       "<table border=\"1\" class=\"dataframe\">\n",
       "  <thead>\n",
       "    <tr style=\"text-align: right;\">\n",
       "      <th></th>\n",
       "      <th>id</th>\n",
       "      <th>data_type</th>\n",
       "      <th>key</th>\n",
       "      <th>value</th>\n",
       "    </tr>\n",
       "  </thead>\n",
       "  <tbody>\n",
       "    <tr>\n",
       "      <th>0</th>\n",
       "      <td>0</td>\n",
       "      <td>agent</td>\n",
       "      <td>persona</td>\n",
       "      <td>You are an experienced freelancer on online la...</td>\n",
       "    </tr>\n",
       "    <tr>\n",
       "      <th>1</th>\n",
       "      <td>0</td>\n",
       "      <td>agent</td>\n",
       "      <td>job_category</td>\n",
       "      <td>Graphic Design</td>\n",
       "    </tr>\n",
       "    <tr>\n",
       "      <th>2</th>\n",
       "      <td>0</td>\n",
       "      <td>agent</td>\n",
       "      <td>expertise</td>\n",
       "      <td>You regularly perform jobs in the following ca...</td>\n",
       "    </tr>\n",
       "    <tr>\n",
       "      <th>3</th>\n",
       "      <td>0</td>\n",
       "      <td>agent</td>\n",
       "      <td>agent_name</td>\n",
       "      <td>Agent_0</td>\n",
       "    </tr>\n",
       "    <tr>\n",
       "      <th>4</th>\n",
       "      <td>0</td>\n",
       "      <td>agent</td>\n",
       "      <td>agent_instruction</td>\n",
       "      <td>You are answering questions as if you were a h...</td>\n",
       "    </tr>\n",
       "    <tr>\n",
       "      <th>...</th>\n",
       "      <td>...</td>\n",
       "      <td>...</td>\n",
       "      <td>...</td>\n",
       "      <td>...</td>\n",
       "    </tr>\n",
       "    <tr>\n",
       "      <th>210</th>\n",
       "      <td>4</td>\n",
       "      <td>question_type</td>\n",
       "      <td>experience_question_type</td>\n",
       "      <td>multiple_choice</td>\n",
       "    </tr>\n",
       "    <tr>\n",
       "      <th>211</th>\n",
       "      <td>4</td>\n",
       "      <td>question_type</td>\n",
       "      <td>days_question_type</td>\n",
       "      <td>numerical</td>\n",
       "    </tr>\n",
       "    <tr>\n",
       "      <th>212</th>\n",
       "      <td>4</td>\n",
       "      <td>comment</td>\n",
       "      <td>skills_comment</td>\n",
       "      <td>These skills are essential for creating an eff...</td>\n",
       "    </tr>\n",
       "    <tr>\n",
       "      <th>213</th>\n",
       "      <td>4</td>\n",
       "      <td>comment</td>\n",
       "      <td>experience_comment</td>\n",
       "      <td>Creating an infographic that is both visually ...</td>\n",
       "    </tr>\n",
       "    <tr>\n",
       "      <th>214</th>\n",
       "      <td>4</td>\n",
       "      <td>comment</td>\n",
       "      <td>days_comment</td>\n",
       "      <td>Based on my experience, graphic design jobs li...</td>\n",
       "    </tr>\n",
       "  </tbody>\n",
       "</table>\n",
       "<p>215 rows × 4 columns</p>\n",
       "</div>"
      ],
      "text/plain": [
       "     id      data_type                       key  \\\n",
       "0     0          agent                   persona   \n",
       "1     0          agent              job_category   \n",
       "2     0          agent                 expertise   \n",
       "3     0          agent                agent_name   \n",
       "4     0          agent         agent_instruction   \n",
       "..   ..            ...                       ...   \n",
       "210   4  question_type  experience_question_type   \n",
       "211   4  question_type        days_question_type   \n",
       "212   4        comment            skills_comment   \n",
       "213   4        comment        experience_comment   \n",
       "214   4        comment              days_comment   \n",
       "\n",
       "                                                 value  \n",
       "0    You are an experienced freelancer on online la...  \n",
       "1                                       Graphic Design  \n",
       "2    You regularly perform jobs in the following ca...  \n",
       "3                                              Agent_0  \n",
       "4    You are answering questions as if you were a h...  \n",
       "..                                                 ...  \n",
       "210                                    multiple_choice  \n",
       "211                                          numerical  \n",
       "212  These skills are essential for creating an eff...  \n",
       "213  Creating an infographic that is both visually ...  \n",
       "214  Based on my experience, graphic design jobs li...  \n",
       "\n",
       "[215 rows x 4 columns]"
      ]
     },
     "execution_count": 15,
     "metadata": {},
     "output_type": "execute_result"
    }
   ],
   "source": [
    "results[\"Graphic Design\"].sql(\"select * from self\", shape=\"long\")"
   ]
  },
  {
   "cell_type": "markdown",
   "metadata": {},
   "source": [
    "## Posting content at the Coop\n",
    "We can post any EDSL objects to the Coop, including this notebook:"
   ]
  },
  {
   "cell_type": "code",
   "execution_count": 16,
   "metadata": {},
   "outputs": [
    {
     "data": {
      "text/plain": [
       "{'description': 'Agents for job posts data labeling task',\n",
       " 'object_type': 'agent_list',\n",
       " 'url': 'https://www.expectedparrot.com/content/48ca9a15-b503-4da4-8b98-ab7dd906571c',\n",
       " 'uuid': '48ca9a15-b503-4da4-8b98-ab7dd906571c',\n",
       " 'version': '0.1.32.dev1',\n",
       " 'visibility': 'public'}"
      ]
     },
     "execution_count": 16,
     "metadata": {},
     "output_type": "execute_result"
    }
   ],
   "source": [
    "agents.push(description = \"Agents for job posts data labeling task\", visibility = \"public\")"
   ]
  },
  {
   "cell_type": "code",
   "execution_count": 17,
   "metadata": {},
   "outputs": [
    {
     "data": {
      "text/plain": [
       "{'description': 'Survey for job posts data labeling task',\n",
       " 'object_type': 'survey',\n",
       " 'url': 'https://www.expectedparrot.com/content/c0ec7ac9-dd25-4599-9544-4bede16060a2',\n",
       " 'uuid': 'c0ec7ac9-dd25-4599-9544-4bede16060a2',\n",
       " 'version': '0.1.32.dev1',\n",
       " 'visibility': 'public'}"
      ]
     },
     "execution_count": 17,
     "metadata": {},
     "output_type": "execute_result"
    }
   ],
   "source": [
    "survey.push(description = \"Survey for job posts data labeling task\", visibility = \"public\")"
   ]
  },
  {
   "cell_type": "code",
   "execution_count": 18,
   "metadata": {},
   "outputs": [],
   "source": [
    "for job_category in job_categories:\n",
    "    results[job_category].push(description = f\"Results for job posts data labeling task: {job_category}\", visibility = \"public\")"
   ]
  },
  {
   "cell_type": "code",
   "execution_count": 19,
   "metadata": {},
   "outputs": [
    {
     "data": {
      "text/plain": [
       "{'description': 'Example code for data labeling using agents',\n",
       " 'object_type': 'notebook',\n",
       " 'url': 'https://www.expectedparrot.com/content/75e4f590-9b1f-482e-bd80-f9d1fb454f2e',\n",
       " 'uuid': '75e4f590-9b1f-482e-bd80-f9d1fb454f2e',\n",
       " 'version': '0.1.32.dev1',\n",
       " 'visibility': 'public'}"
      ]
     },
     "execution_count": 19,
     "metadata": {},
     "output_type": "execute_result"
    }
   ],
   "source": [
    "from edsl import Notebook\n",
    "\n",
    "n = Notebook(path = \"data_labeling_agent.ipynb\")\n",
    "\n",
    "n.push(description = \"Example code for data labeling using agents\", visibility = \"public\")"
   ]
  },
  {
   "cell_type": "markdown",
   "metadata": {},
   "source": [
    "To update an object:"
   ]
  },
  {
   "cell_type": "code",
   "execution_count": 22,
   "metadata": {},
   "outputs": [
    {
     "data": {
      "text/plain": [
       "{'status': 'success'}"
      ]
     },
     "execution_count": 22,
     "metadata": {},
     "output_type": "execute_result"
    }
   ],
   "source": [
    "n = Notebook(path = \"data_labeling_agent.ipynb\")\n",
    "\n",
    "n.patch(uuid = \"75e4f590-9b1f-482e-bd80-f9d1fb454f2e\", value = n)"
   ]
  },
  {
   "cell_type": "markdown",
   "metadata": {},
   "source": [
    "Learn more about [using the Coop](https://docs.expectedparrot.com/en/latest/coop.html) to conduct LLM-based research."
   ]
  }
 ],
 "metadata": {
  "deepnote_execution_queue": [],
  "deepnote_notebook_id": "ed823c7d26d6410cb357d0b81ff95d80",
  "kernelspec": {
   "display_name": "Python 3 (ipykernel)",
   "language": "python",
   "name": "python3"
  },
  "language_info": {
   "codemirror_mode": {
    "name": "ipython",
    "version": 3
   },
   "file_extension": ".py",
   "mimetype": "text/x-python",
   "name": "python",
   "nbconvert_exporter": "python",
   "pygments_lexer": "ipython3",
   "version": "3.11.7"
  }
 },
 "nbformat": 4,
 "nbformat_minor": 4
}
