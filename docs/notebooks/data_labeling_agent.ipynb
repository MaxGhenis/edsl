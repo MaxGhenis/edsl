{
 "cells": [
  {
   "cell_type": "markdown",
   "metadata": {
    "cell_id": "8e6fbe42bf93461c9b6ef5c5e0a36e1f",
    "deepnote_cell_type": "markdown"
   },
   "source": [
    "# Data labeling agents\n",
    "\n",
    "This notebook shows how to use EDSL to perform complex data labeling tasks. This is accomplished with the following generalized steps: \n",
    "<br>\n",
    "1. We identify data to be labeled. <br>\n",
    "2. We construct the data labeling tasks as a question or series of questions about the data, e.g., <i>Select the most relevant category for the following text: {{ text }}.</i> The questions can be qualitative or quantitative, and be formatted in typical types of survey questions (multiple choice, free text, linear scale, etc.). <br>\n",
    "3. We draft personas for AI agents to reference in responding to the questions, e.g., <i>You are an expert in ...</i> <br>\n",
    "4. We administer the survey to the agents with the data as inputs to the questions. <br>\n",
    "<br>\n",
    "<img src=\"general_survey.png\">\n",
    "<br><br>\n",
    "\n",
    "## Conducting agent-specific tasks\n",
    "We can add a layer of complexity to this generalized flow by administering the survey to each agent with a specific subset of the data, such as <i>data that is relevant to the agent's persona</i>. This can be useful if our data is sorted (or sortable) in some way that is important to our task. We can also use the tools to sort the data as needed.\n",
    "\n",
    "We can visualize this modified flow as follows:\n",
    "<img src=\"agent_specific_survey.png\">\n",
    "<br><br>\n",
    "\n",
    "## An example case: Evaluating job posts \n",
    "Using a dataset of job posts as an example, we show how to create AI agents with relevant backgrounds and prompt them to evaluate and categorize the posts in a variety of ways. This exercise consists of the following steps:\n",
    "<br>\n",
    "1. We use the tools to create a dataset of job categories and mock job posts.<br>\n",
    "2. We construct questions that we will ask about each of the job posts and combine them into a survey. <br>\n",
    "3. We create AI agents with category expertise for each of the job categories. <br>\n",
    "4. We administer the survey to each agent with (only) the job posts for the relevant category. <br>\n",
    "5. We show how to access the results using built-in methods for analysis. <br>\n",
    "\n",
    "## Technical setup\n",
    "Before running the code below please see instructions on:\n",
    "\n",
    "* [Installing EDSL](https://docs.expectedparrot.com/en/latest/installation.html) and\n",
    "* [Storing API Keys](https://docs.expectedparrot.com/en/latest/api_keys.html) for the language models that you want to use.\n",
    "\n",
    "Our [Starter Tutorial](https://docs.expectedparrot.com/en/latest/starter_tutorial.html) provides examples of EDSL basic components.\n",
    "\n",
    "A simpler [data labeling example notebook](https://docs.expectedparrot.com/en/latest/notebooks/data_labeling_example.html) may also be useful to you."
   ]
  },
  {
   "cell_type": "markdown",
   "metadata": {
    "cell_id": "5cf0086b8055450a80a521d078541e73",
    "deepnote_cell_type": "markdown"
   },
   "source": [
    "## Importing the tools\n",
    "We start by selecting question types and survey components that we will use.\n",
    "Please see the [EDSL Docs](https://docs.expectedparrot.com/en/latest/index.html) for examples of all question types and details on these basic components."
   ]
  },
  {
   "cell_type": "code",
   "execution_count": 1,
   "metadata": {
    "cell_id": "fd5afe4f10d94ee8813d2e9a275600a2",
    "deepnote_cell_type": "code"
   },
   "outputs": [],
   "source": [
    "# ! pip install edsl"
   ]
  },
  {
   "cell_type": "code",
   "execution_count": 2,
   "metadata": {
    "cell_id": "ad63d10eca16428d987447306bf166b4",
    "deepnote_cell_type": "code",
    "deepnote_to_be_reexecuted": false,
    "execution_millis": 162,
    "execution_start": 1708266462944,
    "source_hash": null
   },
   "outputs": [],
   "source": [
    "from edsl.questions import QuestionMultipleChoice, QuestionFreeText, QuestionLinearScale, QuestionList, QuestionNumerical\n",
    "from edsl import Scenario, Survey, Agent, Model"
   ]
  },
  {
   "cell_type": "markdown",
   "metadata": {
    "cell_id": "2ba2f232a29f4616adc9bdfa8e61827c",
    "deepnote_cell_type": "markdown"
   },
   "source": [
    "## Identifying data for review\n",
    "Next we identify a dataset for review. For purposes of demonstration, we use the tools to create a dataset of job categories and mock job posts. \n",
    "\n",
    "<b>Skip these steps to import your own data.</b>"
   ]
  },
  {
   "cell_type": "code",
   "execution_count": 3,
   "metadata": {
    "cell_id": "3796b548b3b14eff8dc0ddfa87cb5ec4",
    "deepnote_cell_type": "code",
    "deepnote_to_be_reexecuted": false,
    "execution_millis": 71,
    "execution_start": 1708266512561,
    "source_hash": null
   },
   "outputs": [],
   "source": [
    "# Example method for importing your data\n",
    "# import csv\n",
    "# data = []\n",
    "# with open(\"data.csv\", \"r\") as f: \n",
    "#     reader = csv.reader(f)\n",
    "#     header = next(reader)\n",
    "#     for row in reader: \n",
    "#         data.append(row)"
   ]
  },
  {
   "cell_type": "markdown",
   "metadata": {
    "cell_id": "7d9c186135e24e7f9b3fe82f2f3474d4",
    "deepnote_cell_type": "markdown"
   },
   "source": [
    "Our dataset will consist of a column of job categories and a column of job posts for those categories. We'll go into more detail on the methods that we use to do this in later steps."
   ]
  },
  {
   "cell_type": "code",
   "execution_count": 4,
   "metadata": {
    "cell_id": "6c030abd3da244008a429acae7652f9b",
    "deepnote_cell_type": "code",
    "deepnote_to_be_reexecuted": false,
    "execution_millis": 96,
    "execution_start": 1708266598225,
    "source_hash": null
   },
   "outputs": [],
   "source": [
    "# Skip this step and upload your real dataset, modifying columns as needed.\n",
    "\n",
    "import pandas as pd \n",
    "\n",
    "def create_job_categories(num_categories, model):\n",
    "    # Create a list of job categories\n",
    "    q_job_categories = QuestionList(\n",
    "        question_name = \"job_categories\",\n",
    "        question_text = f\"\"\"{ num_categories } categories of jobs commonly posted at an \n",
    "        online labor marketplace (e.g., 'Graphic Design'). Return each category as an item of the list.\"\"\"\n",
    "    )\n",
    "    job_categories_list = q_job_categories.by(model).run().select(\"job_categories\").to_list()[0]\n",
    "    return job_categories_list\n",
    "\n",
    "def create_job_posts(num_posts, job_category, model):\n",
    "    # Create job posts for a category\n",
    "    q_job_posts = QuestionList(\n",
    "        question_name = \"job_posts\",\n",
    "        question_text = f\"\"\"Draft descriptions for { num_posts } job posts in the following \n",
    "        category of an online labor marketplace: { job_category }.\"\"\"\n",
    "    )\n",
    "    job_posts_list = q_job_posts.by(model).run().select(\"job_posts\").to_list()[0]\n",
    "    return job_posts_list\n",
    "\n",
    "def create_data(num_categories, num_posts, model):\n",
    "    jobs_data = pd.DataFrame(columns=[\"job_category\", \"job_post\"])\n",
    "    job_categories_list = create_job_categories(num_categories, model)    \n",
    "        \n",
    "    for job_category in job_categories_list:\n",
    "        # Because of how job posts are typically structured, we expect this to return a list with a\n",
    "        # dict for each job post. We turn each job post dict into a string to add it to our dataset.\n",
    "        job_posts_list = create_job_posts(num_posts, job_category, model)\n",
    "\n",
    "        for job_post in job_posts_list:\n",
    "            row_df = pd.DataFrame([[job_category, job_post]], columns=[\"job_category\", \"job_post\"])\n",
    "            jobs_data = pd.concat([jobs_data, row_df], ignore_index=True)\n",
    "    \n",
    "    return jobs_data"
   ]
  },
  {
   "cell_type": "code",
   "execution_count": 5,
   "metadata": {
    "cell_id": "cebdcf6144f04b99852f6e48eb188db4",
    "deepnote_cell_type": "code",
    "deepnote_to_be_reexecuted": false,
    "execution_millis": 87884,
    "execution_start": 1708266613377,
    "source_hash": null
   },
   "outputs": [
    {
     "name": "stdout",
     "output_type": "stream",
     "text": [
      "      job_category                                           job_post\n",
      "0   Graphic Design  {'title': 'Creative Graphic Designer', 'descri...\n",
      "1   Graphic Design  {'title': 'Junior Graphic Designer', 'descript...\n",
      "2   Graphic Design  {'title': 'Freelance Graphic Designer', 'descr...\n",
      "3  Web Development  {'title': 'Front-End Developer', 'description'...\n",
      "4  Web Development  {'title': 'Back-End Developer', 'description':...\n",
      "5  Web Development  {'title': 'Full Stack Developer', 'description...\n",
      "6  Content Writing  {'Title': 'Freelance Lifestyle Blog Writer', '...\n",
      "7  Content Writing  {'Title': 'Tech Industry Content Creator', 'De...\n",
      "8  Content Writing  {'Title': 'Social Media Copywriter', 'Descript...\n"
     ]
    }
   ],
   "source": [
    "df = create_data(num_categories=3, num_posts=3, model=Model('gpt-4-1106-preview'))\n",
    "print(df)"
   ]
  },
  {
   "cell_type": "markdown",
   "metadata": {
    "cell_id": "6b5968a43bfa418eb07381bc91924950",
    "deepnote_cell_type": "markdown"
   },
   "source": [
    "## Constructing questions about the data\n",
    "Next we construct questions to ask about the job posts, selecting question types based on the form of the response that we want (multiple choice, linear scale, free text, numerical, etc.--see [examples of all question types](https://docs.expectedparrot.com/en/latest/questions.html)). We design the questions with placeholders that we will use to parameterize each question with each job post and category when we run it:"
   ]
  },
  {
   "cell_type": "code",
   "execution_count": 6,
   "metadata": {},
   "outputs": [],
   "source": [
    "q_skills = QuestionList(\n",
    "    question_name = \"skills\",\n",
    "    question_text = \"\"\"\n",
    "        Consider the following job category and job post at an online labor marketplace. \n",
    "        Job category: {{ job_category }}\n",
    "        Job post: {{ job_post }}\n",
    "        What are some key skills required for this job?\"\"\"\n",
    ")\n",
    "\n",
    "q_experience = QuestionMultipleChoice(\n",
    "    question_name = \"experience\",\n",
    "    question_text = \"\"\"\n",
    "        Consider the following job category and job post at an online labor marketplace. \n",
    "        Job category: {{ job_category }}\n",
    "        Job post: {{ job_post }}\n",
    "        What level of experience is required for this job?\"\"\",\n",
    "    question_options = [\n",
    "        \"Entry-level\",\n",
    "        \"Mid-level\",\n",
    "        \"Senior-level\"]\n",
    ")\n",
    "\n",
    "q_days = QuestionNumerical(\n",
    "    question_name = \"days\",\n",
    "    question_text = \"\"\"\n",
    "        Consider the following job category and job post at an online labor marketplace. \n",
    "        Job category: {{ job_category }}\n",
    "        Job post: {{ job_post }}\n",
    "        Estimate the number of days until this job post is fulfilled.\"\"\"\n",
    ")"
   ]
  },
  {
   "cell_type": "markdown",
   "metadata": {
    "cell_id": "42cf40f52e664ad2b2db23d530309182",
    "deepnote_cell_type": "markdown"
   },
   "source": [
    "## Combining questions into a Survey\n",
    "Next we combine our questions into a survey that will be administered to the AI agents. By default, the questions will be administered asynchronously. If desired, we can also specify survey rules (skip/stop logic) and within-survey memories of prior questions and responses. See the EDSL Docs for details on methods for [applying survey rules](https://docs.expectedparrot.com/en/latest/surveys.html#applying-survey-rules)."
   ]
  },
  {
   "cell_type": "code",
   "execution_count": 7,
   "metadata": {
    "cell_id": "5813fa2b15fc4680a54171d0a381bf6c",
    "deepnote_cell_type": "code",
    "deepnote_to_be_reexecuted": false,
    "execution_millis": 69,
    "execution_start": 1708101246817,
    "source_hash": null
   },
   "outputs": [],
   "source": [
    "from edsl import Survey\n",
    "\n",
    "jobs_survey = Survey(questions = [q_skills, q_experience, q_days])"
   ]
  },
  {
   "cell_type": "markdown",
   "metadata": {
    "cell_id": "cdab4016b3ce4e15906da7e42078be59",
    "deepnote_cell_type": "markdown"
   },
   "source": [
    "## Creating personas for Agents\n",
    "Next we draft personas for AI agents that will answer the questions. For each job category we construct an AI agent that is an expert in the category. Agents are constructed by passing a dictionary of `traits` to an `Agent` object. We can use the `.example()` method to see an example:"
   ]
  },
  {
   "cell_type": "code",
   "execution_count": 8,
   "metadata": {
    "cell_id": "849c5fba455a4500b42fa6ec6fd14c0a",
    "deepnote_cell_type": "code",
    "deepnote_to_be_reexecuted": false,
    "execution_millis": 93,
    "execution_start": 1708101249615,
    "source_hash": null
   },
   "outputs": [
    {
     "data": {
      "text/html": [
       "<pre style=\"white-space:pre;overflow-x:auto;line-height:normal;font-family:Menlo,'DejaVu Sans Mono',consolas,'Courier New',monospace\"><span style=\"font-weight: bold\">{</span>\n",
       "  <span style=\"color: #000080; text-decoration-color: #000080; font-weight: bold\">\"traits\"</span>: <span style=\"font-weight: bold\">{</span>\n",
       "    <span style=\"color: #000080; text-decoration-color: #000080; font-weight: bold\">\"age\"</span>: <span style=\"color: #008080; text-decoration-color: #008080; font-weight: bold\">22</span>,\n",
       "    <span style=\"color: #000080; text-decoration-color: #000080; font-weight: bold\">\"hair\"</span>: <span style=\"color: #008000; text-decoration-color: #008000\">\"brown\"</span>,\n",
       "    <span style=\"color: #000080; text-decoration-color: #000080; font-weight: bold\">\"height\"</span>: <span style=\"color: #008080; text-decoration-color: #008080; font-weight: bold\">5.5</span>\n",
       "  <span style=\"font-weight: bold\">}</span>\n",
       "<span style=\"font-weight: bold\">}</span>\n",
       "</pre>\n"
      ],
      "text/plain": [
       "\u001b[1m{\u001b[0m\n",
       "  \u001b[1;34m\"traits\"\u001b[0m: \u001b[1m{\u001b[0m\n",
       "    \u001b[1;34m\"age\"\u001b[0m: \u001b[1;36m22\u001b[0m,\n",
       "    \u001b[1;34m\"hair\"\u001b[0m: \u001b[32m\"brown\"\u001b[0m,\n",
       "    \u001b[1;34m\"height\"\u001b[0m: \u001b[1;36m5.5\u001b[0m\n",
       "  \u001b[1m}\u001b[0m\n",
       "\u001b[1m}\u001b[0m\n"
      ]
     },
     "metadata": {},
     "output_type": "display_data"
    },
    {
     "data": {
      "text/html": [
       "<div class=\"highlight\"><pre><span></span><span class=\"p\">{</span>\n",
       "<span class=\"w\">    </span><span class=\"nt\">&quot;traits&quot;</span><span class=\"p\">:</span><span class=\"w\"> </span><span class=\"p\">{</span>\n",
       "<span class=\"w\">        </span><span class=\"nt\">&quot;age&quot;</span><span class=\"p\">:</span><span class=\"w\"> </span><span class=\"mi\">22</span><span class=\"p\">,</span>\n",
       "<span class=\"w\">        </span><span class=\"nt\">&quot;hair&quot;</span><span class=\"p\">:</span><span class=\"w\"> </span><span class=\"s2\">&quot;brown&quot;</span><span class=\"p\">,</span>\n",
       "<span class=\"w\">        </span><span class=\"nt\">&quot;height&quot;</span><span class=\"p\">:</span><span class=\"w\"> </span><span class=\"mf\">5.5</span>\n",
       "<span class=\"w\">    </span><span class=\"p\">}</span>\n",
       "<span class=\"p\">}</span>\n",
       "</pre></div>\n"
      ],
      "text/plain": [
       "Agent(traits = {'age': 22, 'hair': 'brown', 'height': 5.5})"
      ]
     },
     "execution_count": 8,
     "metadata": {},
     "output_type": "execute_result"
    }
   ],
   "source": [
    "Agent.example()"
   ]
  },
  {
   "cell_type": "markdown",
   "metadata": {
    "cell_id": "3f09411183b049ffa793aa5ff410d589",
    "deepnote_cell_type": "markdown"
   },
   "source": [
    "An agent can also take an optional `name` and parameterized `traits`. For example:"
   ]
  },
  {
   "cell_type": "code",
   "execution_count": 9,
   "metadata": {
    "cell_id": "3589f70ed86440e5b16a37ebe9700e01",
    "deepnote_cell_type": "code",
    "deepnote_to_be_reexecuted": false,
    "execution_millis": 68,
    "execution_start": 1708101251161,
    "source_hash": null
   },
   "outputs": [
    {
     "data": {
      "text/html": [
       "<pre style=\"white-space:pre;overflow-x:auto;line-height:normal;font-family:Menlo,'DejaVu Sans Mono',consolas,'Courier New',monospace\"><span style=\"font-style: italic\">                                                 Agent Attributes                                                  </span>\n",
       "┏━━━━━━━━━━━━━━━━━━━━━━━━━┳━━━━━━━━━━━━━━━━━━━━━━━━━━━━━━━━━━━━━━━━━━━━━━━━━━━━━━━━━━━━━━━━━━━━━━━━━━━━━━━━━━━━━━━┓\n",
       "┃<span style=\"font-weight: bold\"> Attribute               </span>┃<span style=\"font-weight: bold\"> Value                                                                                 </span>┃\n",
       "┡━━━━━━━━━━━━━━━━━━━━━━━━━╇━━━━━━━━━━━━━━━━━━━━━━━━━━━━━━━━━━━━━━━━━━━━━━━━━━━━━━━━━━━━━━━━━━━━━━━━━━━━━━━━━━━━━━━┩\n",
       "│<span style=\"font-weight: bold\"> _name                   </span>│<span style=\"font-weight: bold\"> 'Example agent'                                                                       </span>│\n",
       "│<span style=\"font-weight: bold\"> _traits                 </span>│<span style=\"font-weight: bold\"> {'base_persona': 'You are an experienced freelancer on online labor marketplaces.',   </span>│\n",
       "│<span style=\"font-weight: bold\">                         </span>│<span style=\"font-weight: bold\"> 'expertise': 'You regularly perform jobs in the following category: Web design.'}     </span>│\n",
       "│<span style=\"font-weight: bold\"> _codebook               </span>│<span style=\"font-weight: bold\"> {}                                                                                    </span>│\n",
       "│<span style=\"font-weight: bold\"> _instruction            </span>│<span style=\"font-weight: bold\"> 'You are answering questions as if you were a human. Do not break character.'         </span>│\n",
       "│<span style=\"font-weight: bold\"> set_instructions        </span>│<span style=\"font-weight: bold\"> False                                                                                 </span>│\n",
       "│<span style=\"font-weight: bold\"> dynamic_traits_function </span>│<span style=\"font-weight: bold\"> None                                                                                  </span>│\n",
       "│<span style=\"font-weight: bold\"> current_question        </span>│<span style=\"font-weight: bold\"> None                                                                                  </span>│\n",
       "└─────────────────────────┴───────────────────────────────────────────────────────────────────────────────────────┘\n",
       "</pre>\n"
      ],
      "text/plain": [
       "\u001b[3m                                                 Agent Attributes                                                  \u001b[0m\n",
       "┏━━━━━━━━━━━━━━━━━━━━━━━━━┳━━━━━━━━━━━━━━━━━━━━━━━━━━━━━━━━━━━━━━━━━━━━━━━━━━━━━━━━━━━━━━━━━━━━━━━━━━━━━━━━━━━━━━━┓\n",
       "┃\u001b[1m \u001b[0m\u001b[1mAttribute              \u001b[0m\u001b[1m \u001b[0m┃\u001b[1m \u001b[0m\u001b[1mValue                                                                                \u001b[0m\u001b[1m \u001b[0m┃\n",
       "┡━━━━━━━━━━━━━━━━━━━━━━━━━╇━━━━━━━━━━━━━━━━━━━━━━━━━━━━━━━━━━━━━━━━━━━━━━━━━━━━━━━━━━━━━━━━━━━━━━━━━━━━━━━━━━━━━━━┩\n",
       "│\u001b[1m \u001b[0m\u001b[1m_name                  \u001b[0m\u001b[1m \u001b[0m│\u001b[1m \u001b[0m\u001b[1m'Example agent'                                                                      \u001b[0m\u001b[1m \u001b[0m│\n",
       "│\u001b[1m \u001b[0m\u001b[1m_traits                \u001b[0m\u001b[1m \u001b[0m│\u001b[1m \u001b[0m\u001b[1m{'base_persona': 'You are an experienced freelancer on online labor marketplaces.',  \u001b[0m\u001b[1m \u001b[0m│\n",
       "│\u001b[1m                         \u001b[0m│\u001b[1m \u001b[0m\u001b[1m'expertise': 'You regularly perform jobs in the following category: Web design.'}    \u001b[0m\u001b[1m \u001b[0m│\n",
       "│\u001b[1m \u001b[0m\u001b[1m_codebook              \u001b[0m\u001b[1m \u001b[0m│\u001b[1m \u001b[0m\u001b[1m{}                                                                                   \u001b[0m\u001b[1m \u001b[0m│\n",
       "│\u001b[1m \u001b[0m\u001b[1m_instruction           \u001b[0m\u001b[1m \u001b[0m│\u001b[1m \u001b[0m\u001b[1m'You are answering questions as if you were a human. Do not break character.'        \u001b[0m\u001b[1m \u001b[0m│\n",
       "│\u001b[1m \u001b[0m\u001b[1mset_instructions       \u001b[0m\u001b[1m \u001b[0m│\u001b[1m \u001b[0m\u001b[1mFalse                                                                                \u001b[0m\u001b[1m \u001b[0m│\n",
       "│\u001b[1m \u001b[0m\u001b[1mdynamic_traits_function\u001b[0m\u001b[1m \u001b[0m│\u001b[1m \u001b[0m\u001b[1mNone                                                                                 \u001b[0m\u001b[1m \u001b[0m│\n",
       "│\u001b[1m \u001b[0m\u001b[1mcurrent_question       \u001b[0m\u001b[1m \u001b[0m│\u001b[1m \u001b[0m\u001b[1mNone                                                                                 \u001b[0m\u001b[1m \u001b[0m│\n",
       "└─────────────────────────┴───────────────────────────────────────────────────────────────────────────────────────┘\n"
      ]
     },
     "metadata": {},
     "output_type": "display_data"
    }
   ],
   "source": [
    "job_category = \"Web design\"\n",
    "base_persona = \"You are an experienced freelancer on online labor marketplaces.\"\n",
    "expertise = f\"You regularly perform jobs in the following category: { job_category }.\"\n",
    "\n",
    "example_agent = Agent(name = \"Example agent\", traits = {\"base_persona\": base_persona, \"expertise\": expertise})\n",
    "example_agent.print()"
   ]
  },
  {
   "cell_type": "markdown",
   "metadata": {
    "cell_id": "ab45772cb190424b9cdfbcddaace1c54",
    "deepnote_cell_type": "markdown"
   },
   "source": [
    "## Parameterizing questions with Scenarios\n",
    "We will have each agent answer the survey for the set of job posts that is relevant to the agent's expertise. We do this by creating a \"scenario\" for each question. We can call the `example.()` method again to see how a `Scenario` is constructed:"
   ]
  },
  {
   "cell_type": "code",
   "execution_count": 10,
   "metadata": {
    "cell_id": "7d3582c75c544077bec555c2c44ab25b",
    "deepnote_cell_type": "code",
    "deepnote_to_be_reexecuted": false,
    "execution_millis": 46,
    "execution_start": 1708101254958,
    "source_hash": null
   },
   "outputs": [
    {
     "data": {
      "text/html": [
       "<pre style=\"white-space:pre;overflow-x:auto;line-height:normal;font-family:Menlo,'DejaVu Sans Mono',consolas,'Courier New',monospace\"><span style=\"font-weight: bold\">{</span>\n",
       "  <span style=\"color: #000080; text-decoration-color: #000080; font-weight: bold\">\"persona\"</span>: <span style=\"color: #008000; text-decoration-color: #008000\">\"A reseacher studying whether LLMs can be used to generate surveys.\"</span>\n",
       "<span style=\"font-weight: bold\">}</span>\n",
       "</pre>\n"
      ],
      "text/plain": [
       "\u001b[1m{\u001b[0m\n",
       "  \u001b[1;34m\"persona\"\u001b[0m: \u001b[32m\"A reseacher studying whether LLMs can be used to generate surveys.\"\u001b[0m\n",
       "\u001b[1m}\u001b[0m\n"
      ]
     },
     "metadata": {},
     "output_type": "display_data"
    },
    {
     "data": {
      "text/html": [
       "<div class=\"highlight\"><pre><span></span><span class=\"p\">{</span>\n",
       "<span class=\"w\">    </span><span class=\"nt\">&quot;persona&quot;</span><span class=\"p\">:</span><span class=\"w\"> </span><span class=\"s2\">&quot;A reseacher studying whether LLMs can be used to generate surveys.&quot;</span>\n",
       "<span class=\"p\">}</span>\n",
       "</pre></div>\n"
      ],
      "text/plain": [
       "Scenario({'persona': 'A reseacher studying whether LLMs can be used to generate surveys.'})"
      ]
     },
     "execution_count": 10,
     "metadata": {},
     "output_type": "execute_result"
    }
   ],
   "source": [
    "Scenario.example()"
   ]
  },
  {
   "cell_type": "markdown",
   "metadata": {
    "cell_id": "64ec1b4f40d3443d93dc990dbe90f157",
    "deepnote_cell_type": "markdown"
   },
   "source": [
    "Here we create a scenario for each job category/job post pair in our dataset:"
   ]
  },
  {
   "cell_type": "code",
   "execution_count": 11,
   "metadata": {
    "cell_id": "d138d3d18d9a4c70b1dd0565166297af",
    "deepnote_cell_type": "code",
    "deepnote_to_be_reexecuted": false,
    "execution_millis": 220,
    "execution_start": 1708101256727,
    "source_hash": null
   },
   "outputs": [
    {
     "data": {
      "text/html": [
       "<pre style=\"white-space:pre;overflow-x:auto;line-height:normal;font-family:Menlo,'DejaVu Sans Mono',consolas,'Courier New',monospace\"><span style=\"font-style: italic\">                                                Scenario Attributes                                                </span>\n",
       "┏━━━━━━━━━━━┳━━━━━━━━━━━━━━━━━━━━━━━━━━━━━━━━━━━━━━━━━━━━━━━━━━━━━━━━━━━━━━━━━━━━━━━━━━━━━━━━━━━━━━━━━━━━━━━━━━━━━┓\n",
       "┃<span style=\"font-weight: bold\"> Attribute </span>┃<span style=\"font-weight: bold\"> Value                                                                                               </span>┃\n",
       "┡━━━━━━━━━━━╇━━━━━━━━━━━━━━━━━━━━━━━━━━━━━━━━━━━━━━━━━━━━━━━━━━━━━━━━━━━━━━━━━━━━━━━━━━━━━━━━━━━━━━━━━━━━━━━━━━━━━┩\n",
       "│<span style=\"font-weight: bold\"> data      </span>│<span style=\"font-weight: bold\"> {'job_category': 'Graphic Design', 'job_post': {'title': 'Creative Graphic Designer',               </span>│\n",
       "│<span style=\"font-weight: bold\">           </span>│<span style=\"font-weight: bold\"> 'description': 'Seeking a passionate and innovative Graphic Designer to join our creative team. The </span>│\n",
       "│<span style=\"font-weight: bold\">           </span>│<span style=\"font-weight: bold\"> ideal candidate will have a strong portfolio showcasing skills in Adobe Creative Suite, branding,   </span>│\n",
       "│<span style=\"font-weight: bold\">           </span>│<span style=\"font-weight: bold\"> and digital design. Responsibilities include creating visual concepts, developing graphics for      </span>│\n",
       "│<span style=\"font-weight: bold\">           </span>│<span style=\"font-weight: bold\"> product illustrations, logos, and websites, and selecting colors, images, text style, and layout.   </span>│\n",
       "│<span style=\"font-weight: bold\">           </span>│<span style=\"font-weight: bold\"> Minimum 3 years of professional design experience required.', 'qualifications': ['Proven graphic    </span>│\n",
       "│<span style=\"font-weight: bold\">           </span>│<span style=\"font-weight: bold\"> designing experience', 'A strong portfolio of illustrations or other graphics', 'Familiarity with   </span>│\n",
       "│<span style=\"font-weight: bold\">           </span>│<span style=\"font-weight: bold\"> design software and technologies (such as InDesign, Illustrator, Dreamweaver, Photoshop)', 'A keen  </span>│\n",
       "│<span style=\"font-weight: bold\">           </span>│<span style=\"font-weight: bold\"> eye for aesthetics and details', 'Excellent communication skills', 'Ability to work methodically    </span>│\n",
       "│<span style=\"font-weight: bold\">           </span>│<span style=\"font-weight: bold\"> and meet deadlines', 'Degree in Design, Fine Arts or related field is a plus'], 'type':             </span>│\n",
       "│<span style=\"font-weight: bold\">           </span>│<span style=\"font-weight: bold\"> 'Full-time'}}                                                                                       </span>│\n",
       "└───────────┴─────────────────────────────────────────────────────────────────────────────────────────────────────┘\n",
       "</pre>\n"
      ],
      "text/plain": [
       "\u001b[3m                                                Scenario Attributes                                                \u001b[0m\n",
       "┏━━━━━━━━━━━┳━━━━━━━━━━━━━━━━━━━━━━━━━━━━━━━━━━━━━━━━━━━━━━━━━━━━━━━━━━━━━━━━━━━━━━━━━━━━━━━━━━━━━━━━━━━━━━━━━━━━━┓\n",
       "┃\u001b[1m \u001b[0m\u001b[1mAttribute\u001b[0m\u001b[1m \u001b[0m┃\u001b[1m \u001b[0m\u001b[1mValue                                                                                              \u001b[0m\u001b[1m \u001b[0m┃\n",
       "┡━━━━━━━━━━━╇━━━━━━━━━━━━━━━━━━━━━━━━━━━━━━━━━━━━━━━━━━━━━━━━━━━━━━━━━━━━━━━━━━━━━━━━━━━━━━━━━━━━━━━━━━━━━━━━━━━━━┩\n",
       "│\u001b[1m \u001b[0m\u001b[1mdata     \u001b[0m\u001b[1m \u001b[0m│\u001b[1m \u001b[0m\u001b[1m{'job_category': 'Graphic Design', 'job_post': {'title': 'Creative Graphic Designer',              \u001b[0m\u001b[1m \u001b[0m│\n",
       "│\u001b[1m           \u001b[0m│\u001b[1m \u001b[0m\u001b[1m'description': 'Seeking a passionate and innovative Graphic Designer to join our creative team. The\u001b[0m\u001b[1m \u001b[0m│\n",
       "│\u001b[1m           \u001b[0m│\u001b[1m \u001b[0m\u001b[1mideal candidate will have a strong portfolio showcasing skills in Adobe Creative Suite, branding,  \u001b[0m\u001b[1m \u001b[0m│\n",
       "│\u001b[1m           \u001b[0m│\u001b[1m \u001b[0m\u001b[1mand digital design. Responsibilities include creating visual concepts, developing graphics for     \u001b[0m\u001b[1m \u001b[0m│\n",
       "│\u001b[1m           \u001b[0m│\u001b[1m \u001b[0m\u001b[1mproduct illustrations, logos, and websites, and selecting colors, images, text style, and layout.  \u001b[0m\u001b[1m \u001b[0m│\n",
       "│\u001b[1m           \u001b[0m│\u001b[1m \u001b[0m\u001b[1mMinimum 3 years of professional design experience required.', 'qualifications': ['Proven graphic   \u001b[0m\u001b[1m \u001b[0m│\n",
       "│\u001b[1m           \u001b[0m│\u001b[1m \u001b[0m\u001b[1mdesigning experience', 'A strong portfolio of illustrations or other graphics', 'Familiarity with  \u001b[0m\u001b[1m \u001b[0m│\n",
       "│\u001b[1m           \u001b[0m│\u001b[1m \u001b[0m\u001b[1mdesign software and technologies (such as InDesign, Illustrator, Dreamweaver, Photoshop)', 'A keen \u001b[0m\u001b[1m \u001b[0m│\n",
       "│\u001b[1m           \u001b[0m│\u001b[1m \u001b[0m\u001b[1meye for aesthetics and details', 'Excellent communication skills', 'Ability to work methodically   \u001b[0m\u001b[1m \u001b[0m│\n",
       "│\u001b[1m           \u001b[0m│\u001b[1m \u001b[0m\u001b[1mand meet deadlines', 'Degree in Design, Fine Arts or related field is a plus'], 'type':            \u001b[0m\u001b[1m \u001b[0m│\n",
       "│\u001b[1m           \u001b[0m│\u001b[1m \u001b[0m\u001b[1m'Full-time'}}                                                                                      \u001b[0m\u001b[1m \u001b[0m│\n",
       "└───────────┴─────────────────────────────────────────────────────────────────────────────────────────────────────┘\n"
      ]
     },
     "metadata": {},
     "output_type": "display_data"
    }
   ],
   "source": [
    "scenarios = [Scenario({\"job_category\": row[\"job_category\"], \"job_post\": row[\"job_post\"]}) for _, row in df.iterrows()]\n",
    "scenarios[0].print()"
   ]
  },
  {
   "cell_type": "markdown",
   "metadata": {},
   "source": [
    "## Selecting language models\n",
    "EDSL lets us select individual language models to use when generating survey results. We can check a current list of available language models:"
   ]
  },
  {
   "cell_type": "code",
   "execution_count": 12,
   "metadata": {},
   "outputs": [
    {
     "data": {
      "text/plain": [
       "[['01-ai/Yi-34B-Chat', 'deep_infra', 0],\n",
       " ['Austism/chronos-hermes-13b-v2', 'deep_infra', 1],\n",
       " ['Gryphe/MythoMax-L2-13b', 'deep_infra', 2],\n",
       " ['HuggingFaceH4/zephyr-orpo-141b-A35b-v0.1', 'deep_infra', 3],\n",
       " ['Phind/Phind-CodeLlama-34B-v2', 'deep_infra', 4],\n",
       " ['bigcode/starcoder2-15b', 'deep_infra', 5],\n",
       " ['claude-3-haiku-20240307', 'anthropic', 6],\n",
       " ['claude-3-opus-20240229', 'anthropic', 7],\n",
       " ['claude-3-sonnet-20240229', 'anthropic', 8],\n",
       " ['codellama/CodeLlama-34b-Instruct-hf', 'deep_infra', 9],\n",
       " ['codellama/CodeLlama-70b-Instruct-hf', 'deep_infra', 10],\n",
       " ['cognitivecomputations/dolphin-2.6-mixtral-8x7b', 'deep_infra', 11],\n",
       " ['databricks/dbrx-instruct', 'deep_infra', 12],\n",
       " ['deepinfra/airoboros-70b', 'deep_infra', 13],\n",
       " ['gemini-pro', 'google', 14],\n",
       " ['google/gemma-1.1-7b-it', 'deep_infra', 15],\n",
       " ['gpt-3.5-turbo', 'openai', 16],\n",
       " ['gpt-3.5-turbo-0125', 'openai', 17],\n",
       " ['gpt-3.5-turbo-0301', 'openai', 18],\n",
       " ['gpt-3.5-turbo-0613', 'openai', 19],\n",
       " ['gpt-3.5-turbo-1106', 'openai', 20],\n",
       " ['gpt-3.5-turbo-16k', 'openai', 21],\n",
       " ['gpt-3.5-turbo-16k-0613', 'openai', 22],\n",
       " ['gpt-3.5-turbo-instruct', 'openai', 23],\n",
       " ['gpt-3.5-turbo-instruct-0914', 'openai', 24],\n",
       " ['gpt-4', 'openai', 25],\n",
       " ['gpt-4-0125-preview', 'openai', 26],\n",
       " ['gpt-4-0613', 'openai', 27],\n",
       " ['gpt-4-1106-preview', 'openai', 28],\n",
       " ['gpt-4-1106-vision-preview', 'openai', 29],\n",
       " ['gpt-4-turbo', 'openai', 30],\n",
       " ['gpt-4-turbo-2024-04-09', 'openai', 31],\n",
       " ['gpt-4-turbo-preview', 'openai', 32],\n",
       " ['gpt-4-vision-preview', 'openai', 33],\n",
       " ['lizpreciatior/lzlv_70b_fp16_hf', 'deep_infra', 34],\n",
       " ['llava-hf/llava-1.5-7b-hf', 'deep_infra', 35],\n",
       " ['meta-llama/Llama-2-13b-chat-hf', 'deep_infra', 36],\n",
       " ['meta-llama/Llama-2-70b-chat-hf', 'deep_infra', 37],\n",
       " ['meta-llama/Llama-2-7b-chat-hf', 'deep_infra', 38],\n",
       " ['meta-llama/Meta-Llama-3-70B-Instruct', 'deep_infra', 39],\n",
       " ['meta-llama/Meta-Llama-3-8B-Instruct', 'deep_infra', 40],\n",
       " ['microsoft/WizardLM-2-7B', 'deep_infra', 41],\n",
       " ['microsoft/WizardLM-2-8x22B', 'deep_infra', 42],\n",
       " ['mistralai/Mistral-7B-Instruct-v0.1', 'deep_infra', 43],\n",
       " ['mistralai/Mistral-7B-Instruct-v0.2', 'deep_infra', 44],\n",
       " ['mistralai/Mixtral-8x22B-Instruct-v0.1', 'deep_infra', 45],\n",
       " ['mistralai/Mixtral-8x22B-v0.1', 'deep_infra', 46],\n",
       " ['mistralai/Mixtral-8x7B-Instruct-v0.1', 'deep_infra', 47],\n",
       " ['openchat/openchat_3.5', 'deep_infra', 48]]"
      ]
     },
     "execution_count": 12,
     "metadata": {},
     "output_type": "execute_result"
    }
   ],
   "source": [
    "from edsl import Model\n",
    "\n",
    "Model.available()"
   ]
  },
  {
   "cell_type": "markdown",
   "metadata": {},
   "source": [
    "We can also check the models for which we have properly stored API Keys (see [instructions](https://docs.expectedparrot.com/en/latest/api_keys.html))."
   ]
  },
  {
   "cell_type": "code",
   "execution_count": 13,
   "metadata": {},
   "outputs": [],
   "source": [
    "# Model.check_models()"
   ]
  },
  {
   "cell_type": "markdown",
   "metadata": {},
   "source": [
    "And then select any that we want to use for our survey:"
   ]
  },
  {
   "cell_type": "code",
   "execution_count": 14,
   "metadata": {},
   "outputs": [],
   "source": [
    "model = Model('gpt-4-1106-preview')"
   ]
  },
  {
   "cell_type": "markdown",
   "metadata": {},
   "source": [
    "Note that if we do not specify a model when we run a survey, GPT 4 is used by default."
   ]
  },
  {
   "cell_type": "markdown",
   "metadata": {
    "cell_id": "5a71caf2a35b4eff897a35fe8e97339f",
    "deepnote_cell_type": "markdown"
   },
   "source": [
    "## Running the survey\n",
    "We administer our survey by appending the components with the `.by()` method and then calling `.run()` method. In the simplest case where we want a single agent or list of agents to answer all questions with the same scenarios, this takes the following form:\n",
    "\n",
    "`results = survey.by(scenarios).by(agents).by(models).run()`\n",
    "\n",
    "We can create a method to have individual agents answer the questions for category-specific job posts:"
   ]
  },
  {
   "cell_type": "code",
   "execution_count": 15,
   "metadata": {
    "cell_id": "2f9002644ebd445bb083f215e0a4776d",
    "deepnote_cell_type": "code",
    "deepnote_to_be_reexecuted": false,
    "execution_millis": 74,
    "execution_start": 1708101260091,
    "source_hash": null
   },
   "outputs": [],
   "source": [
    "def data_labeling(df, survey):\n",
    "    results = {}\n",
    "    job_categories = df[\"job_category\"].unique()\n",
    "    for job_category in job_categories:\n",
    "        # print(job_category)\n",
    "        \n",
    "        # We create an agent with expertise in the job category\n",
    "        base_persona = \"You are an experienced freelancer on online labor marketplaces.\"\n",
    "        expertise = f\"You regularly perform jobs in the following category: { job_category }.\"\n",
    "        agent = Agent(name = job_category, traits = {\"base_persona\":base_persona, \"expertise\":expertise})\n",
    "        # agent.print()\n",
    "    \n",
    "        # We take the job posts in the job category as scenarios for the survey\n",
    "        df_category = df[df[\"job_category\"] == job_category]\n",
    "        scenarios = [Scenario({\"job_category\": row[\"job_category\"], \"job_post\": row[\"job_post\"]}) for _, row in df_category.iterrows()]\n",
    "        # print(scenarios)\n",
    "        \n",
    "        # We administer the survey to the agent with our selected LLM\n",
    "        job_category_results = survey.by(scenarios).by(agent).by(model).run()\n",
    "        # job_category_results.print()\n",
    "        \n",
    "        results[job_category] = job_category_results\n",
    "        \n",
    "    return results"
   ]
  },
  {
   "cell_type": "code",
   "execution_count": 16,
   "metadata": {
    "cell_id": "22b911bb16f945099d608396c0235663",
    "deepnote_cell_type": "code",
    "deepnote_to_be_reexecuted": false,
    "execution_millis": 85704,
    "execution_start": 1708101262537,
    "source_hash": null
   },
   "outputs": [],
   "source": [
    "results = data_labeling(df, jobs_survey)"
   ]
  },
  {
   "cell_type": "markdown",
   "metadata": {
    "cell_id": "2dd090bc153147b7b8e265b6b7f69af2",
    "deepnote_cell_type": "markdown"
   },
   "source": [
    "## Accessing Results\n",
    "In the previous step we created independent `Results` objects for our individual agents' survey results and stored them as a dictionary by job category for easy reference. (We also could have just created them separately, or as a list or some other convenient type.) In the next steps we show how to access results with built-in print and analytical methods."
   ]
  },
  {
   "cell_type": "markdown",
   "metadata": {
    "cell_id": "24af3724b5504f88a8b1e94119279717",
    "deepnote_cell_type": "markdown"
   },
   "source": [
    "We can identify the column names to select the fields that we want to inspect:"
   ]
  },
  {
   "cell_type": "code",
   "execution_count": 17,
   "metadata": {
    "cell_id": "8ce75c056fa74612a4f70fbf98f41d69",
    "deepnote_cell_type": "code",
    "deepnote_to_be_reexecuted": false,
    "execution_millis": 31,
    "execution_start": 1708101392122,
    "source_hash": null
   },
   "outputs": [
    {
     "data": {
      "text/plain": [
       "Index(['agent.agent_name', 'agent.base_persona', 'agent.expertise',\n",
       "       'answer.days', 'answer.days_comment', 'answer.experience',\n",
       "       'answer.experience_comment', 'answer.skills', 'answer.skills_comment',\n",
       "       'iteration.iteration', 'model.frequency_penalty', 'model.logprobs',\n",
       "       'model.max_tokens', 'model.model', 'model.presence_penalty',\n",
       "       'model.temperature', 'model.top_logprobs', 'model.top_p',\n",
       "       'prompt.days_system_prompt', 'prompt.days_user_prompt',\n",
       "       'prompt.experience_system_prompt', 'prompt.experience_user_prompt',\n",
       "       'prompt.skills_system_prompt', 'prompt.skills_user_prompt',\n",
       "       'raw_model_response.days_raw_model_response',\n",
       "       'raw_model_response.experience_raw_model_response',\n",
       "       'raw_model_response.skills_raw_model_response', 'scenario.job_category',\n",
       "       'scenario.job_post'],\n",
       "      dtype='object')"
      ]
     },
     "execution_count": 17,
     "metadata": {},
     "output_type": "execute_result"
    }
   ],
   "source": [
    "results[\"Graphic Design\"].to_pandas().columns"
   ]
  },
  {
   "cell_type": "markdown",
   "metadata": {
    "cell_id": "ae4341c811e54ae88fa3518ee36d49e4",
    "deepnote_cell_type": "markdown"
   },
   "source": [
    "We can select individual fields in a variety of ways:"
   ]
  },
  {
   "cell_type": "code",
   "execution_count": 18,
   "metadata": {
    "cell_id": "bd5af76f6f554a738897c11351f181ce",
    "deepnote_cell_type": "code",
    "deepnote_to_be_reexecuted": false,
    "execution_millis": 184,
    "execution_start": 1708101394654,
    "source_hash": null
   },
   "outputs": [
    {
     "data": {
      "text/html": [
       "<table id=\"myTable\" class=\"display\">\n",
       "  <thead>\n",
       "  <tr>\n",
       "    <th>scenario.job_post</th>\n",
       "    <th>answer.skills</th>\n",
       "    <th>answer.experience</th>\n",
       "    <th>answer.days</th>\n",
       "  </tr>\n",
       "  </thead>\n",
       "</tbody>\n",
       "  <tr>\n",
       "    <td>{'title': 'Creative Graphic Designer', 'description': 'Seeking a passionate and innovative Graphic Designer to join our creative team. The ideal candidate will have a strong portfolio showcasing skills in Adobe Creative Suite, branding, and digital design. Responsibilities include creating visual concepts, developing graphics for product illustrations, logos, and websites, and selecting colors, images, text style, and layout. Minimum 3 years of professional design experience required.', 'qualifications': ['Proven graphic designing experience', 'A strong portfolio of illustrations or other graphics', 'Familiarity with design software and technologies (such as InDesign, Illustrator, Dreamweaver, Photoshop)', 'A keen eye for aesthetics and details', 'Excellent communication skills', 'Ability to work methodically and meet deadlines', 'Degree in Design, Fine Arts or related field is a plus'], 'type': 'Full-time'}</td>\n",
       "    <td>['Adobe Creative Suite', 'branding', 'digital design', 'creating visual concepts', 'developing graphics', 'product illustrations', 'logo design', 'website design', 'selecting colors', 'image selection', 'text styling', 'layout design', 'graphic design experience', 'strong portfolio', 'InDesign', 'Illustrator', 'Dreamweaver', 'Photoshop', 'aesthetics', 'attention to detail', 'excellent communication skills', 'ability to meet deadlines']</td>\n",
       "    <td>Mid-level</td>\n",
       "    <td>14</td>\n",
       "  </tr>\n",
       "  <tr>\n",
       "    <td>{'title': 'Junior Graphic Designer', 'description': 'We are looking for a talented Junior Graphic Designer to create engaging and on-brand graphics for a variety of media. The candidate should have a basic understanding of design principles and be proficient in Adobe Photoshop and Illustrator. Tasks include photo editing, creating promotional materials, and assisting senior designers with larger projects. This is a perfect opportunity for recent graduates looking for industry experience.', 'qualifications': ['Basic knowledge of layouts, typography, line composition, color, and other graphic design fundamentals', 'Experience with graphic design software and tools', 'Strong analytical skills', 'Excellent eye for detail', 'Ability to absorb and apply constructive criticism', 'Relevant education or training'], 'type': 'Entry-level, Part-time'}</td>\n",
       "    <td>['Basic understanding of design principles', 'Proficiency in Adobe Photoshop', 'Proficiency in Adobe Illustrator', 'Photo editing', 'Creation of promotional materials', 'Collaboration with senior designers', 'Layouts', 'Typography', 'Line composition', 'Color theory', 'Graphic design fundamentals', 'Strong analytical skills', 'Excellent eye for detail', 'Receptiveness to constructive criticism']</td>\n",
       "    <td>Entry-level</td>\n",
       "    <td>14</td>\n",
       "  </tr>\n",
       "  <tr>\n",
       "    <td>{'title': 'Freelance Graphic Designer', 'description': 'Looking for a freelance Graphic Designer to work on a project basis. Must be able to translate requirements into design, communicate with clients to ensure the final graphics and layouts are visually appealing and on-brand. Should have experience in both print and electronic media and be able to take direction from written or spoken ideas and convert them seamlessly into images, layouts, and other designs.', 'qualifications': ['Significant experience as a graphic designer or in related field', 'Demonstrable graphic design skills with a strong portfolio', 'Proficiency with required desktop publishing tools, including Photoshop, InDesign, and Illustrator', 'A strong eye for visual composition', 'Able to give and receive constructive criticism', 'Experience with computer-aided design'], 'type': 'Contract'}</td>\n",
       "    <td>['Graphic design experience', 'Strong portfolio', 'Proficiency in Photoshop', 'Proficiency in InDesign', 'Proficiency in Illustrator', 'Visual composition', 'Client communication', 'Ability to translate requirements into design', 'Print and electronic media design', 'Ability to convert ideas into visual designs', 'Constructive criticism', 'Computer-aided design']</td>\n",
       "    <td>Mid-level</td>\n",
       "    <td>14</td>\n",
       "  </tr>\n",
       "</tbody>\n",
       "</table>"
      ],
      "text/plain": [
       "<IPython.core.display.HTML object>"
      ]
     },
     "metadata": {},
     "output_type": "display_data"
    }
   ],
   "source": [
    "(results[\"Graphic Design\"]\n",
    " .select(\"job_post\", \"skills\", \"experience\", \"days\")\n",
    " .print()\n",
    ")"
   ]
  },
  {
   "cell_type": "markdown",
   "metadata": {
    "cell_id": "0f535499070d4d06bcbdc79368419a64",
    "deepnote_cell_type": "markdown"
   },
   "source": [
    "We can apply some labels to our table for readability. Note that each question field also automatically includes a `<question>_comment` field for any commentary by the LLM on the question:"
   ]
  },
  {
   "cell_type": "code",
   "execution_count": 19,
   "metadata": {
    "cell_id": "1432c4631ad24979b917d5cc189395f9",
    "deepnote_cell_type": "code",
    "deepnote_to_be_reexecuted": false,
    "execution_millis": 191,
    "execution_start": 1708101579124,
    "source_hash": null
   },
   "outputs": [
    {
     "data": {
      "text/html": [
       "<table id=\"myTable\" class=\"display\">\n",
       "  <thead>\n",
       "  <tr>\n",
       "    <th>Job post description</th>\n",
       "    <th>Experience level</th>\n",
       "    <th>Comment</th>\n",
       "  </tr>\n",
       "  </thead>\n",
       "</tbody>\n",
       "  <tr>\n",
       "    <td>{'title': 'Creative Graphic Designer', 'description': 'Seeking a passionate and innovative Graphic Designer to join our creative team. The ideal candidate will have a strong portfolio showcasing skills in Adobe Creative Suite, branding, and digital design. Responsibilities include creating visual concepts, developing graphics for product illustrations, logos, and websites, and selecting colors, images, text style, and layout. Minimum 3 years of professional design experience required.', 'qualifications': ['Proven graphic designing experience', 'A strong portfolio of illustrations or other graphics', 'Familiarity with design software and technologies (such as InDesign, Illustrator, Dreamweaver, Photoshop)', 'A keen eye for aesthetics and details', 'Excellent communication skills', 'Ability to work methodically and meet deadlines', 'Degree in Design, Fine Arts or related field is a plus'], 'type': 'Full-time'}</td>\n",
       "    <td>Mid-level</td>\n",
       "    <td>The job post specifies a minimum of 3 years of professional design experience, which typically aligns with mid-level expertise. Entry-level positions often require less than 2 years of experience, while senior-level positions usually demand significantly more than 3 years and often involve leadership responsibilities that are not mentioned in this job post.</td>\n",
       "  </tr>\n",
       "  <tr>\n",
       "    <td>{'title': 'Junior Graphic Designer', 'description': 'We are looking for a talented Junior Graphic Designer to create engaging and on-brand graphics for a variety of media. The candidate should have a basic understanding of design principles and be proficient in Adobe Photoshop and Illustrator. Tasks include photo editing, creating promotional materials, and assisting senior designers with larger projects. This is a perfect opportunity for recent graduates looking for industry experience.', 'qualifications': ['Basic knowledge of layouts, typography, line composition, color, and other graphic design fundamentals', 'Experience with graphic design software and tools', 'Strong analytical skills', 'Excellent eye for detail', 'Ability to absorb and apply constructive criticism', 'Relevant education or training'], 'type': 'Entry-level, Part-time'}</td>\n",
       "    <td>Entry-level</td>\n",
       "    <td>The job post is for a 'Junior Graphic Designer' and it is described as a perfect opportunity for recent graduates looking for industry experience. The qualifications required are basic and fundamental knowledge of design principles, which aligns with entry-level expectations.</td>\n",
       "  </tr>\n",
       "  <tr>\n",
       "    <td>{'title': 'Freelance Graphic Designer', 'description': 'Looking for a freelance Graphic Designer to work on a project basis. Must be able to translate requirements into design, communicate with clients to ensure the final graphics and layouts are visually appealing and on-brand. Should have experience in both print and electronic media and be able to take direction from written or spoken ideas and convert them seamlessly into images, layouts, and other designs.', 'qualifications': ['Significant experience as a graphic designer or in related field', 'Demonstrable graphic design skills with a strong portfolio', 'Proficiency with required desktop publishing tools, including Photoshop, InDesign, and Illustrator', 'A strong eye for visual composition', 'Able to give and receive constructive criticism', 'Experience with computer-aided design'], 'type': 'Contract'}</td>\n",
       "    <td>Mid-level</td>\n",
       "    <td>The job post requires significant experience as a graphic designer, a strong portfolio, proficiency with advanced design software, and the ability to work with both print and electronic media. These requirements suggest that the job is not for entry-level candidates but rather for those with a mid-level of experience who have established skills and a track record of professional work.</td>\n",
       "  </tr>\n",
       "</tbody>\n",
       "</table>"
      ],
      "text/plain": [
       "<IPython.core.display.HTML object>"
      ]
     },
     "metadata": {},
     "output_type": "display_data"
    }
   ],
   "source": [
    "(results[\"Graphic Design\"]\n",
    " .select(\"job_post\", \"experience\", \"experience_comment\")\n",
    " .print(pretty_labels = {\n",
    "     \"scenario.job_post\":\"Job post description\",\n",
    "     \"answer.experience\":\"Experience level\",\n",
    "     \"answer.experience_comment\":\"Comment\"})\n",
    ")"
   ]
  },
  {
   "cell_type": "markdown",
   "metadata": {
    "cell_id": "624df25730a54bc09553173f5fb01847",
    "deepnote_cell_type": "markdown"
   },
   "source": [
    "We can also access results as a SQL table (called `self`) with the `.sql()` method, choosing between a \"wide\" horizontal view of all fields and a \"long\" vertical view, and optionally removing the column name prefixes 'agent', 'model', 'prompt', etc.:"
   ]
  },
  {
   "cell_type": "code",
   "execution_count": 20,
   "metadata": {
    "cell_id": "8ea1010307b243f1a0ce8b1bf326b090",
    "deepnote_cell_type": "code",
    "deepnote_to_be_reexecuted": false,
    "execution_millis": 223,
    "execution_start": 1708101592807,
    "source_hash": null
   },
   "outputs": [
    {
     "data": {
      "text/html": [
       "<div>\n",
       "<style scoped>\n",
       "    .dataframe tbody tr th:only-of-type {\n",
       "        vertical-align: middle;\n",
       "    }\n",
       "\n",
       "    .dataframe tbody tr th {\n",
       "        vertical-align: top;\n",
       "    }\n",
       "\n",
       "    .dataframe thead th {\n",
       "        text-align: right;\n",
       "    }\n",
       "</style>\n",
       "<table border=\"1\" class=\"dataframe\">\n",
       "  <thead>\n",
       "    <tr style=\"text-align: right;\">\n",
       "      <th></th>\n",
       "      <th>id</th>\n",
       "      <th>data_type</th>\n",
       "      <th>key</th>\n",
       "      <th>value</th>\n",
       "    </tr>\n",
       "  </thead>\n",
       "  <tbody>\n",
       "    <tr>\n",
       "      <th>0</th>\n",
       "      <td>0</td>\n",
       "      <td>agent</td>\n",
       "      <td>base_persona</td>\n",
       "      <td>You are an experienced freelancer on online la...</td>\n",
       "    </tr>\n",
       "    <tr>\n",
       "      <th>1</th>\n",
       "      <td>0</td>\n",
       "      <td>agent</td>\n",
       "      <td>expertise</td>\n",
       "      <td>You regularly perform jobs in the following ca...</td>\n",
       "    </tr>\n",
       "    <tr>\n",
       "      <th>2</th>\n",
       "      <td>0</td>\n",
       "      <td>agent</td>\n",
       "      <td>agent_name</td>\n",
       "      <td>Graphic Design</td>\n",
       "    </tr>\n",
       "    <tr>\n",
       "      <th>3</th>\n",
       "      <td>0</td>\n",
       "      <td>scenario</td>\n",
       "      <td>job_category</td>\n",
       "      <td>Graphic Design</td>\n",
       "    </tr>\n",
       "    <tr>\n",
       "      <th>4</th>\n",
       "      <td>0</td>\n",
       "      <td>scenario</td>\n",
       "      <td>job_post</td>\n",
       "      <td>{'title': 'Creative Graphic Designer', 'descri...</td>\n",
       "    </tr>\n",
       "    <tr>\n",
       "      <th>...</th>\n",
       "      <td>...</td>\n",
       "      <td>...</td>\n",
       "      <td>...</td>\n",
       "      <td>...</td>\n",
       "    </tr>\n",
       "    <tr>\n",
       "      <th>91</th>\n",
       "      <td>2</td>\n",
       "      <td>raw_model_response</td>\n",
       "      <td>days_raw_model_response</td>\n",
       "      <td>{'id': 'chatcmpl-9K6aG92IB7RyObilBBdepJnm5aozh...</td>\n",
       "    </tr>\n",
       "    <tr>\n",
       "      <th>92</th>\n",
       "      <td>2</td>\n",
       "      <td>iteration</td>\n",
       "      <td>iteration</td>\n",
       "      <td>0</td>\n",
       "    </tr>\n",
       "    <tr>\n",
       "      <th>93</th>\n",
       "      <td>2</td>\n",
       "      <td>question_text</td>\n",
       "      <td>skills_question_text</td>\n",
       "      <td>\\n        Consider the following job category ...</td>\n",
       "    </tr>\n",
       "    <tr>\n",
       "      <th>94</th>\n",
       "      <td>2</td>\n",
       "      <td>question_text</td>\n",
       "      <td>experience_question_text</td>\n",
       "      <td>\\n        Consider the following job category ...</td>\n",
       "    </tr>\n",
       "    <tr>\n",
       "      <th>95</th>\n",
       "      <td>2</td>\n",
       "      <td>question_text</td>\n",
       "      <td>days_question_text</td>\n",
       "      <td>\\n        Consider the following job category ...</td>\n",
       "    </tr>\n",
       "  </tbody>\n",
       "</table>\n",
       "<p>96 rows × 4 columns</p>\n",
       "</div>"
      ],
      "text/plain": [
       "    id           data_type                       key  \\\n",
       "0    0               agent              base_persona   \n",
       "1    0               agent                 expertise   \n",
       "2    0               agent                agent_name   \n",
       "3    0            scenario              job_category   \n",
       "4    0            scenario                  job_post   \n",
       "..  ..                 ...                       ...   \n",
       "91   2  raw_model_response   days_raw_model_response   \n",
       "92   2           iteration                 iteration   \n",
       "93   2       question_text      skills_question_text   \n",
       "94   2       question_text  experience_question_text   \n",
       "95   2       question_text        days_question_text   \n",
       "\n",
       "                                                value  \n",
       "0   You are an experienced freelancer on online la...  \n",
       "1   You regularly perform jobs in the following ca...  \n",
       "2                                      Graphic Design  \n",
       "3                                      Graphic Design  \n",
       "4   {'title': 'Creative Graphic Designer', 'descri...  \n",
       "..                                                ...  \n",
       "91  {'id': 'chatcmpl-9K6aG92IB7RyObilBBdepJnm5aozh...  \n",
       "92                                                  0  \n",
       "93  \\n        Consider the following job category ...  \n",
       "94  \\n        Consider the following job category ...  \n",
       "95  \\n        Consider the following job category ...  \n",
       "\n",
       "[96 rows x 4 columns]"
      ]
     },
     "execution_count": 20,
     "metadata": {},
     "output_type": "execute_result"
    }
   ],
   "source": [
    "results[\"Graphic Design\"].sql(\"select * from self\", shape=\"long\")"
   ]
  },
  {
   "cell_type": "markdown",
   "metadata": {},
   "source": [
    "## Other methods for data labeling\n",
    "We are working on a set of data labeling templates for different use cases. Please check the [EDSL Docs](https://docs.expectedparrot.com/en/latest/index.html): Notebooks for updates!"
   ]
  }
 ],
 "metadata": {
  "deepnote_execution_queue": [],
  "deepnote_notebook_id": "ed823c7d26d6410cb357d0b81ff95d80",
  "kernelspec": {
   "display_name": "Python 3 (ipykernel)",
   "language": "python",
   "name": "python3"
  },
  "language_info": {
   "codemirror_mode": {
    "name": "ipython",
    "version": 3
   },
   "file_extension": ".py",
   "mimetype": "text/x-python",
   "name": "python",
   "nbconvert_exporter": "python",
   "pygments_lexer": "ipython3",
   "version": "3.11.7"
  }
 },
 "nbformat": 4,
 "nbformat_minor": 4
}
