{
 "cells": [
  {
   "cell_type": "markdown",
   "id": "19b1b109-8704-406a-a79a-b2c7a899a580",
   "metadata": {},
   "source": [
    "# FileStore examples\n",
    "This notebook contains examples of methods for posting CSV, PDF and PNG files at the Coop to use with surveys. \n",
    "\n",
    "Please see more information in the [FileStore documentation page](https://docs.expectedparrot.com/filestore.html)."
   ]
  },
  {
   "cell_type": "markdown",
   "id": "4ed1f6b9-329c-4719-bd1b-a949704f529f",
   "metadata": {},
   "source": [
    "## CSV example"
   ]
  },
  {
   "cell_type": "code",
   "execution_count": 1,
   "id": "36b46c11-014d-4799-81f7-5148b652f119",
   "metadata": {
    "editable": true,
    "slideshow": {
     "slide_type": ""
    },
    "tags": []
   },
   "outputs": [],
   "source": [
    "from edsl import FileStore"
   ]
  },
  {
   "cell_type": "code",
   "execution_count": 2,
   "id": "38179c9c-a61e-4395-9955-d3e69573bf2a",
   "metadata": {},
   "outputs": [
    {
     "name": "stdout",
     "output_type": "stream",
     "text": [
      "CSV file written to temporary location: /var/folders/hb/dwj18mc102xgpl32mxjhlj_80000gn/T/tmp6u_9xg8a.csv\n"
     ]
    }
   ],
   "source": [
    "import csv\n",
    "import tempfile\n",
    "import os\n",
    "\n",
    "# Create a temporary file\n",
    "temp_file = tempfile.NamedTemporaryFile(suffix='.csv', delete=False)\n",
    "temp_file_path = temp_file.name\n",
    "\n",
    "# Sample data\n",
    "data = [\n",
    "    ['Name', 'Age', 'City'],\n",
    "    ['Alice', 28, 'New York'],\n",
    "    ['Bob', 32, 'San Francisco'],\n",
    "    ['Charlie', 25, 'Chicago'],\n",
    "    ['Diana', 30, 'Boston'],\n",
    "    ['Evan', 22, 'Seattle']\n",
    "]\n",
    "\n",
    "# Write data to the temporary CSV file\n",
    "with open(temp_file_path, 'w', newline='') as file:\n",
    "    writer = csv.writer(file)\n",
    "    writer.writerows(data)\n",
    "\n",
    "print(f\"CSV file written to temporary location: {temp_file_path}\")"
   ]
  },
  {
   "cell_type": "code",
   "execution_count": 3,
   "id": "ca865fa4-2524-46a1-8efa-2575ee24bbfe",
   "metadata": {},
   "outputs": [],
   "source": [
    "fs = FileStore(path = temp_file_path)"
   ]
  },
  {
   "cell_type": "code",
   "execution_count": 4,
   "id": "04ad9d54-6354-4a9e-92c5-5785b71a62a8",
   "metadata": {},
   "outputs": [
    {
     "data": {
      "text/html": [
       "<div>\n",
       "<style scoped>\n",
       "    .dataframe tbody tr th:only-of-type {\n",
       "        vertical-align: middle;\n",
       "    }\n",
       "\n",
       "    .dataframe tbody tr th {\n",
       "        vertical-align: top;\n",
       "    }\n",
       "\n",
       "    .dataframe thead th {\n",
       "        text-align: right;\n",
       "    }\n",
       "</style>\n",
       "<table border=\"1\" class=\"dataframe\">\n",
       "  <thead>\n",
       "    <tr style=\"text-align: right;\">\n",
       "      <th></th>\n",
       "      <th>Name</th>\n",
       "      <th>Age</th>\n",
       "      <th>City</th>\n",
       "    </tr>\n",
       "  </thead>\n",
       "  <tbody>\n",
       "    <tr>\n",
       "      <th>0</th>\n",
       "      <td>Alice</td>\n",
       "      <td>28</td>\n",
       "      <td>New York</td>\n",
       "    </tr>\n",
       "    <tr>\n",
       "      <th>1</th>\n",
       "      <td>Bob</td>\n",
       "      <td>32</td>\n",
       "      <td>San Francisco</td>\n",
       "    </tr>\n",
       "    <tr>\n",
       "      <th>2</th>\n",
       "      <td>Charlie</td>\n",
       "      <td>25</td>\n",
       "      <td>Chicago</td>\n",
       "    </tr>\n",
       "    <tr>\n",
       "      <th>3</th>\n",
       "      <td>Diana</td>\n",
       "      <td>30</td>\n",
       "      <td>Boston</td>\n",
       "    </tr>\n",
       "    <tr>\n",
       "      <th>4</th>\n",
       "      <td>Evan</td>\n",
       "      <td>22</td>\n",
       "      <td>Seattle</td>\n",
       "    </tr>\n",
       "  </tbody>\n",
       "</table>\n",
       "</div>"
      ],
      "text/plain": [
       "      Name  Age           City\n",
       "0    Alice   28       New York\n",
       "1      Bob   32  San Francisco\n",
       "2  Charlie   25        Chicago\n",
       "3    Diana   30         Boston\n",
       "4     Evan   22        Seattle"
      ]
     },
     "metadata": {},
     "output_type": "display_data"
    }
   ],
   "source": [
    "fs.view()"
   ]
  },
  {
   "cell_type": "code",
   "execution_count": 5,
   "id": "a4ba8826-67c5-461f-b693-d9018337965b",
   "metadata": {},
   "outputs": [],
   "source": [
    "if refresh := False:\n",
    "    info = fs.push(description = \"Example CSV FileStore object\", alias = \"csv-filestore-example\", visibility = \"public\")\n",
    "    print(info)\n",
    "else:\n",
    "    #info = FileStore.patch('f71f8979-f479-447a-93a0-fe54ed3ee495', value = fs)\n",
    "    #print(info)\n",
    "    fs.patch('f71f8979-f479-447a-93a0-fe54ed3ee495')\n",
    "    #FileStore.patch('https://www.expectedparrot.com/content/johnjhorton/csv-filestore-example', value = fs)"
   ]
  },
  {
   "cell_type": "code",
   "execution_count": 16,
   "id": "0bd55dc0-11f4-432d-af23-11e7a7bab2f4",
   "metadata": {},
   "outputs": [
    {
     "data": {
      "text/plain": [
       "{'status': 'success'}"
      ]
     },
     "execution_count": 16,
     "metadata": {},
     "output_type": "execute_result"
    }
   ],
   "source": [
    "FileStore.patch(url = \"https://www.expectedparrot.com/content/f71f8979-f479-447a-93a0-fe54ed3ee495\", value = fs)"
   ]
  },
  {
   "cell_type": "code",
   "execution_count": 6,
   "id": "1049c516-a475-484a-8203-a91a09a3a1d7",
   "metadata": {},
   "outputs": [
    {
     "data": {
      "text/plain": [
       "{'status': 'success'}"
      ]
     },
     "execution_count": 6,
     "metadata": {},
     "output_type": "execute_result"
    }
   ],
   "source": [
    "FileStore.patch('f71f8979-f479-447a-93a0-fe54ed3ee495', value = fs)"
   ]
  },
  {
   "cell_type": "code",
   "execution_count": 17,
   "id": "f36b327b-89be-478c-a709-4403467f5cb7",
   "metadata": {},
   "outputs": [
    {
     "ename": "CoopServerResponseError",
     "evalue": "[{'type': 'missing', 'loc': ['query', 'uuid'], 'msg': 'Field required', 'input': None, 'url': 'https://errors.pydantic.dev/2.8/v/missing'}]",
     "output_type": "error",
     "traceback": [
      "\u001b[0;31m---------------------------------------------------------------------------\u001b[0m",
      "\u001b[0;31mCoopServerResponseError\u001b[0m                   Traceback (most recent call last)",
      "Cell \u001b[0;32mIn[17], line 1\u001b[0m\n\u001b[0;32m----> 1\u001b[0m \u001b[43mFileStore\u001b[49m\u001b[38;5;241;43m.\u001b[39;49m\u001b[43mpatch\u001b[49m\u001b[43m(\u001b[49m\u001b[43murl\u001b[49m\u001b[43m \u001b[49m\u001b[38;5;241;43m=\u001b[39;49m\u001b[43m \u001b[49m\u001b[38;5;124;43m'\u001b[39;49m\u001b[38;5;124;43mhttps://www.expectedparrot.com/content/johnjhorton/csv-filestore-example\u001b[39;49m\u001b[38;5;124;43m'\u001b[39;49m\u001b[43m,\u001b[49m\u001b[43m \u001b[49m\u001b[43mvalue\u001b[49m\u001b[43m \u001b[49m\u001b[38;5;241;43m=\u001b[39;49m\u001b[43m \u001b[49m\u001b[43mfs\u001b[49m\u001b[43m)\u001b[49m\n",
      "File \u001b[0;32m~/tools/edsl/edsl/Base.py:119\u001b[0m, in \u001b[0;36mPersistenceMixin.patch\u001b[0;34m(cls, uuid, url, description, alias, value, visibility)\u001b[0m\n\u001b[1;32m    116\u001b[0m \u001b[38;5;28;01mfrom\u001b[39;00m\u001b[38;5;250m \u001b[39m\u001b[38;5;21;01medsl\u001b[39;00m\u001b[38;5;21;01m.\u001b[39;00m\u001b[38;5;21;01mcoop\u001b[39;00m\u001b[38;5;250m \u001b[39m\u001b[38;5;28;01mimport\u001b[39;00m Coop\n\u001b[1;32m    118\u001b[0m coop \u001b[38;5;241m=\u001b[39m Coop()\n\u001b[0;32m--> 119\u001b[0m \u001b[38;5;28;01mreturn\u001b[39;00m \u001b[43mcoop\u001b[49m\u001b[38;5;241;43m.\u001b[39;49m\u001b[43mpatch\u001b[49m\u001b[43m(\u001b[49m\u001b[43muuid\u001b[49m\u001b[43m,\u001b[49m\u001b[43m \u001b[49m\u001b[43murl\u001b[49m\u001b[43m,\u001b[49m\u001b[43m \u001b[49m\u001b[43mdescription\u001b[49m\u001b[43m,\u001b[49m\u001b[43m \u001b[49m\u001b[43malias\u001b[49m\u001b[43m,\u001b[49m\u001b[43m \u001b[49m\u001b[43mvalue\u001b[49m\u001b[43m,\u001b[49m\u001b[43m \u001b[49m\u001b[43mvisibility\u001b[49m\u001b[43m)\u001b[49m\n",
      "File \u001b[0;32m~/tools/edsl/edsl/coop/coop.py:501\u001b[0m, in \u001b[0;36mCoop.patch\u001b[0;34m(self, uuid, url, description, alias, value, visibility)\u001b[0m\n\u001b[1;32m    482\u001b[0m obj_uuid, _, _ \u001b[38;5;241m=\u001b[39m \u001b[38;5;28mself\u001b[39m\u001b[38;5;241m.\u001b[39m_resolve_uuid_or_alias(uuid, url)\n\u001b[1;32m    483\u001b[0m response \u001b[38;5;241m=\u001b[39m \u001b[38;5;28mself\u001b[39m\u001b[38;5;241m.\u001b[39m_send_server_request(\n\u001b[1;32m    484\u001b[0m     uri\u001b[38;5;241m=\u001b[39m\u001b[38;5;124mf\u001b[39m\u001b[38;5;124m\"\u001b[39m\u001b[38;5;124mapi/v0/object\u001b[39m\u001b[38;5;124m\"\u001b[39m,\n\u001b[1;32m    485\u001b[0m     method\u001b[38;5;241m=\u001b[39m\u001b[38;5;124m\"\u001b[39m\u001b[38;5;124mPATCH\u001b[39m\u001b[38;5;124m\"\u001b[39m,\n\u001b[0;32m   (...)\u001b[0m\n\u001b[1;32m    499\u001b[0m     },\n\u001b[1;32m    500\u001b[0m )\n\u001b[0;32m--> 501\u001b[0m \u001b[38;5;28;43mself\u001b[39;49m\u001b[38;5;241;43m.\u001b[39;49m\u001b[43m_resolve_server_response\u001b[49m\u001b[43m(\u001b[49m\u001b[43mresponse\u001b[49m\u001b[43m)\u001b[49m\n\u001b[1;32m    502\u001b[0m \u001b[38;5;28;01mreturn\u001b[39;00m response\u001b[38;5;241m.\u001b[39mjson()\n",
      "File \u001b[0;32m~/tools/edsl/edsl/coop/coop.py:240\u001b[0m, in \u001b[0;36mCoop._resolve_server_response\u001b[0;34m(self, response, check_api_key)\u001b[0m\n\u001b[1;32m    237\u001b[0m     \u001b[38;5;28mprint\u001b[39m(message)\n\u001b[1;32m    238\u001b[0m     message \u001b[38;5;241m=\u001b[39m \u001b[38;5;124m\"\u001b[39m\u001b[38;5;124mPlease provide an Expected Parrot API key.\u001b[39m\u001b[38;5;124m\"\u001b[39m\n\u001b[0;32m--> 240\u001b[0m \u001b[38;5;28;01mraise\u001b[39;00m CoopServerResponseError(message)\n",
      "\u001b[0;31mCoopServerResponseError\u001b[0m: [{'type': 'missing', 'loc': ['query', 'uuid'], 'msg': 'Field required', 'input': None, 'url': 'https://errors.pydantic.dev/2.8/v/missing'}]"
     ]
    }
   ],
   "source": [
    "FileStore.patch(url = 'https://www.expectedparrot.com/content/johnjhorton/csv-filestore-example', value = fs)"
   ]
  },
  {
   "cell_type": "markdown",
   "id": "b06d37ad-2a7a-4dac-8a5a-6e0e8fe7a7ec",
   "metadata": {
    "editable": true,
    "slideshow": {
     "slide_type": ""
    },
    "tags": []
   },
   "source": [
    "#### Posting"
   ]
  },
  {
   "cell_type": "markdown",
   "id": "70918576-9f1a-439d-9f0a-0c46a8ab3ec3",
   "metadata": {
    "editable": true,
    "slideshow": {
     "slide_type": ""
    },
    "tags": []
   },
   "source": [
    "#### Retrieving"
   ]
  },
  {
   "cell_type": "code",
   "execution_count": 3,
   "id": "7a152897-85ab-4d96-b1c8-64011cfd876b",
   "metadata": {
    "editable": true,
    "slideshow": {
     "slide_type": ""
    },
    "tags": []
   },
   "outputs": [],
   "source": [
    "csv_file = CSVFileStore.pull(info[\"uuid\"], expected_parrot_url=\"https://www.expectedparrot.com\")"
   ]
  },
  {
   "cell_type": "markdown",
   "id": "7edb283e-6d36-4b7e-a856-5e0ebab99152",
   "metadata": {},
   "source": [
    "#### Creating scenarios"
   ]
  },
  {
   "cell_type": "code",
   "execution_count": 4,
   "id": "b86e2701-2da3-42e8-ab1d-97e0025a7bb9",
   "metadata": {},
   "outputs": [],
   "source": [
    "from edsl import ScenarioList"
   ]
  },
  {
   "cell_type": "code",
   "execution_count": 5,
   "id": "53d11b2a-908a-4c5d-bdc0-b533840f8961",
   "metadata": {
    "editable": true,
    "slideshow": {
     "slide_type": ""
    },
    "tags": []
   },
   "outputs": [],
   "source": [
    "scenarios = ScenarioList.from_csv(csv_file.to_tempfile())"
   ]
  },
  {
   "cell_type": "markdown",
   "id": "d644f354-989c-4b53-a477-054238ba8f34",
   "metadata": {},
   "source": [
    "#### Inspecting scenarios"
   ]
  },
  {
   "cell_type": "code",
   "execution_count": 6,
   "id": "87492ebf-052b-45c8-9a52-9a83894adaa7",
   "metadata": {},
   "outputs": [
    {
     "data": {
      "text/html": [
       "<table>\n",
       "<thead>\n",
       "<tr><th>key            </th><th>value                    </th></tr>\n",
       "</thead>\n",
       "<tbody>\n",
       "<tr><td>EDSL Class name</td><td>ScenarioList             </td></tr>\n",
       "<tr><td># Scenarios    </td><td>3                        </td></tr>\n",
       "<tr><td>Scenario Keys  </td><td>[&#x27;message&#x27;, &#x27;date&#x27;, &#x27;id&#x27;]</td></tr>\n",
       "</tbody>\n",
       "</table><a href=https://docs.expectedparrot.com/en/latest/scenarios.html#scenariolist>(docs)</a>"
      ],
      "text/plain": [
       "ScenarioList([Scenario({'id': '1', 'date': '2024-09-21', 'message': \"'How are you?'\"}), Scenario({'id': '2', 'date': '2001-06-09', 'message': \"'A day to remember!'\"}), Scenario({'id': '3', 'date': '1979-03-26', 'message': \"'Happy birthday'\"})])"
      ]
     },
     "execution_count": 6,
     "metadata": {},
     "output_type": "execute_result"
    }
   ],
   "source": [
    "scenarios"
   ]
  },
  {
   "cell_type": "markdown",
   "id": "66517a28-57e5-490d-9b5c-19b7ff062db5",
   "metadata": {},
   "source": [
    "## PDF example"
   ]
  },
  {
   "cell_type": "code",
   "execution_count": 7,
   "id": "08f4fc2d-a817-419d-875d-501835fd7826",
   "metadata": {},
   "outputs": [],
   "source": [
    "from edsl.scenarios.FileStore import PDFFileStore"
   ]
  },
  {
   "cell_type": "markdown",
   "id": "9401dc7f-7a9f-45c9-9c7b-7ca1f86ca362",
   "metadata": {},
   "source": [
    "#### Posting"
   ]
  },
  {
   "cell_type": "code",
   "execution_count": 8,
   "id": "9c646b52-0cbb-447d-9d97-c5df5ce07a88",
   "metadata": {
    "editable": true,
    "slideshow": {
     "slide_type": ""
    },
    "tags": []
   },
   "outputs": [
    {
     "data": {
      "text/plain": [
       "{'description': 'File: top_secret.pdf',\n",
       " 'object_type': 'scenario',\n",
       " 'url': 'https://www.expectedparrot.com/content/71926d8d-df37-42bb-8b08-2cdbfdbfa430',\n",
       " 'uuid': '71926d8d-df37-42bb-8b08-2cdbfdbfa430',\n",
       " 'version': '0.1.38.dev1',\n",
       " 'visibility': 'unlisted'}"
      ]
     },
     "execution_count": 8,
     "metadata": {},
     "output_type": "execute_result"
    }
   ],
   "source": [
    "fs = PDFFileStore(\"top_secret.pdf\")\n",
    "info = fs.push()\n",
    "info"
   ]
  },
  {
   "cell_type": "markdown",
   "id": "251a920d-587f-47d6-be3d-df6c88e2b9d4",
   "metadata": {},
   "source": [
    "#### Retrieving"
   ]
  },
  {
   "cell_type": "code",
   "execution_count": 9,
   "id": "c2a6c85c-ea0a-44cc-8bf3-7ce3ce1e6753",
   "metadata": {
    "editable": true,
    "slideshow": {
     "slide_type": ""
    },
    "tags": []
   },
   "outputs": [],
   "source": [
    "pdf_file = PDFFileStore.pull(info[\"uuid\"], expected_parrot_url=\"https://www.expectedparrot.com\")"
   ]
  },
  {
   "cell_type": "markdown",
   "id": "bcfca6cc-9319-4e9e-9091-082ba278e69d",
   "metadata": {},
   "source": [
    "#### Creating scenarios"
   ]
  },
  {
   "cell_type": "code",
   "execution_count": 10,
   "id": "e9b681da-db15-4ef4-a7ab-8763f64a45cb",
   "metadata": {},
   "outputs": [],
   "source": [
    "from edsl import ScenarioList"
   ]
  },
  {
   "cell_type": "code",
   "execution_count": 11,
   "id": "214fd6f4-9996-4a06-939e-ed2c6b7a6ea3",
   "metadata": {},
   "outputs": [],
   "source": [
    "scenarios = ScenarioList.from_pdf(pdf_file.to_tempfile())"
   ]
  },
  {
   "cell_type": "markdown",
   "id": "74af3df7-7b33-4ba5-a0e8-c2c683559046",
   "metadata": {},
   "source": [
    "#### Checking scenario keys"
   ]
  },
  {
   "cell_type": "code",
   "execution_count": 12,
   "id": "b2ff8a00-b6f3-46d9-944d-e567f37343a3",
   "metadata": {},
   "outputs": [
    {
     "data": {
      "text/html": [
       "<table>\n",
       "<thead>\n",
       "<tr><th>key            </th><th>value                       </th></tr>\n",
       "</thead>\n",
       "<tbody>\n",
       "<tr><td>EDSL Class name</td><td>ScenarioList                </td></tr>\n",
       "<tr><td># Scenarios    </td><td>1                           </td></tr>\n",
       "<tr><td>Scenario Keys  </td><td>[&#x27;page&#x27;, &#x27;filename&#x27;, &#x27;text&#x27;]</td></tr>\n",
       "</tbody>\n",
       "</table><a href=https://docs.expectedparrot.com/en/latest/scenarios.html#scenariolist>(docs)</a>"
      ],
      "text/plain": [
       "ScenarioList([Scenario({'filename': 'tmpk3pu4y79.pdf', 'page': 1, 'text': ''})])"
      ]
     },
     "execution_count": 12,
     "metadata": {},
     "output_type": "execute_result"
    }
   ],
   "source": [
    "scenarios"
   ]
  },
  {
   "cell_type": "markdown",
   "id": "92ce1247-b744-4cf0-8dcc-95c5e338003c",
   "metadata": {},
   "source": [
    "## PNG example"
   ]
  },
  {
   "cell_type": "code",
   "execution_count": 13,
   "id": "1d286fb4-5aaf-4389-8dc1-c54d304c1478",
   "metadata": {},
   "outputs": [],
   "source": [
    "from edsl.scenarios.FileStore import PNGFileStore"
   ]
  },
  {
   "cell_type": "markdown",
   "id": "99820285-d3d9-4716-ac0e-3f69c245e5f2",
   "metadata": {},
   "source": [
    "#### Posting"
   ]
  },
  {
   "cell_type": "code",
   "execution_count": 14,
   "id": "3fe472d8-2c6f-482c-92cc-6f84503f3b83",
   "metadata": {
    "editable": true,
    "slideshow": {
     "slide_type": ""
    },
    "tags": []
   },
   "outputs": [
    {
     "data": {
      "text/plain": [
       "{'description': 'File: parrot_logo.png',\n",
       " 'object_type': 'scenario',\n",
       " 'url': 'https://www.expectedparrot.com/content/1bb4a1e4-bf1f-4267-9039-dcb5fab0e52a',\n",
       " 'uuid': '1bb4a1e4-bf1f-4267-9039-dcb5fab0e52a',\n",
       " 'version': '0.1.38.dev1',\n",
       " 'visibility': 'unlisted'}"
      ]
     },
     "execution_count": 14,
     "metadata": {},
     "output_type": "execute_result"
    }
   ],
   "source": [
    "fs = PNGFileStore(\"parrot_logo.png\")\n",
    "info = fs.push()\n",
    "info"
   ]
  },
  {
   "cell_type": "markdown",
   "id": "b8829f67-f257-4519-b1a5-b3530d86c940",
   "metadata": {},
   "source": [
    "#### Retrieving"
   ]
  },
  {
   "cell_type": "code",
   "execution_count": 15,
   "id": "382c843b-c357-4dc6-b14d-8c229a1218b6",
   "metadata": {},
   "outputs": [],
   "source": [
    "png_file = PNGFileStore.pull(info[\"uuid\"], expected_parrot_url=\"https://www.expectedparrot.com\")"
   ]
  },
  {
   "cell_type": "markdown",
   "id": "3add807d-1fe0-4352-b4d2-814c1cbaca3c",
   "metadata": {},
   "source": [
    "#### Creating a scenario"
   ]
  },
  {
   "cell_type": "code",
   "execution_count": 16,
   "id": "007b0b85-62db-46a0-a977-60d061e22a4f",
   "metadata": {},
   "outputs": [],
   "source": [
    "from edsl import Scenario"
   ]
  },
  {
   "cell_type": "code",
   "execution_count": 17,
   "id": "c2e9e10f-bc25-439a-bcf1-3a4ac859b548",
   "metadata": {},
   "outputs": [],
   "source": [
    "scenario = Scenario.from_image(png_file.to_tempfile(), \"parrot_logo\")"
   ]
  },
  {
   "cell_type": "markdown",
   "id": "826766db-c029-4877-b0a2-586db2e946bb",
   "metadata": {},
   "source": [
    "#### Checking scenario keys"
   ]
  },
  {
   "cell_type": "code",
   "execution_count": 18,
   "id": "5585dbca-3122-4afc-a710-fbca0f7e8095",
   "metadata": {},
   "outputs": [
    {
     "data": {
      "text/html": [
       "<pre><table>\n",
       "<thead>\n",
       "<tr><th>keys       </th><th>values                                                                                                                                                            </th></tr>\n",
       "</thead>\n",
       "<tbody>\n",
       "<tr><td>parrot_logo</td><td>{&#x27;base64_string&#x27;: &#x27;iVBORw0KGgoAAAANSUhEUgAAA8AAAAIc...F/wMG2xxIp+mtfQAAAABJRU5ErkJggg==&#x27;, &#x27;binary&#x27;: True, &#x27;external_locations&#x27;: {}, &#x27;mime_type&#x27;: &#x27;image/png&#x27;, ...}</td></tr>\n",
       "</tbody>\n",
       "</table></pre><a href='https://docs.expectedparrot.com/en/latest/scenarios.html'>(docs)</a></p>"
      ],
      "text/plain": [
       "Scenario({'parrot_logo': FileStore(path='/var/folders/j0/xq1nxxt51j7_1dgv8s116fmh0000gn/T/tmpj8b9exu1.png')})"
      ]
     },
     "execution_count": 18,
     "metadata": {},
     "output_type": "execute_result"
    }
   ],
   "source": [
    "scenario"
   ]
  },
  {
   "cell_type": "markdown",
   "id": "fb46b2da-322f-4d1f-952c-20fc2b76a673",
   "metadata": {},
   "source": [
    "#### Renaming a scenario key"
   ]
  },
  {
   "cell_type": "code",
   "execution_count": 19,
   "id": "da4eeb05-d14e-48e7-b52f-425b05820128",
   "metadata": {},
   "outputs": [],
   "source": [
    "scenario = scenario.rename({\"parrot_logo\": \"logo\"})"
   ]
  },
  {
   "cell_type": "code",
   "execution_count": 20,
   "id": "1bb592d7-7c7b-48dc-aa05-a24a2e1ef361",
   "metadata": {
    "editable": true,
    "slideshow": {
     "slide_type": ""
    },
    "tags": []
   },
   "outputs": [
    {
     "data": {
      "text/html": [
       "<pre><table>\n",
       "<thead>\n",
       "<tr><th>keys  </th><th>values                                                                                                                                                            </th></tr>\n",
       "</thead>\n",
       "<tbody>\n",
       "<tr><td>logo  </td><td>{&#x27;base64_string&#x27;: &#x27;iVBORw0KGgoAAAANSUhEUgAAA8AAAAIc...F/wMG2xxIp+mtfQAAAABJRU5ErkJggg==&#x27;, &#x27;binary&#x27;: True, &#x27;external_locations&#x27;: {}, &#x27;mime_type&#x27;: &#x27;image/png&#x27;, ...}</td></tr>\n",
       "</tbody>\n",
       "</table></pre><a href='https://docs.expectedparrot.com/en/latest/scenarios.html'>(docs)</a></p>"
      ],
      "text/plain": [
       "Scenario({'logo': FileStore(path='/var/folders/j0/xq1nxxt51j7_1dgv8s116fmh0000gn/T/tmpj8b9exu1.png')})"
      ]
     },
     "execution_count": 20,
     "metadata": {},
     "output_type": "execute_result"
    }
   ],
   "source": [
    "scenario"
   ]
  },
  {
   "cell_type": "markdown",
   "id": "5e9e7beb-f057-4ecc-99bf-8b6cd6cc79e2",
   "metadata": {},
   "source": [
    "## Posting to the Coop"
   ]
  },
  {
   "cell_type": "code",
   "execution_count": 21,
   "id": "7c055a14-0344-4879-a185-bbcf04f83f9d",
   "metadata": {
    "editable": true,
    "slideshow": {
     "slide_type": ""
    },
    "tags": [
     "skip-execution"
    ]
   },
   "outputs": [],
   "source": [
    "from edsl import Notebook"
   ]
  },
  {
   "cell_type": "code",
   "execution_count": 22,
   "id": "690ec917-0e28-453b-8407-9604912bfaef",
   "metadata": {
    "editable": true,
    "slideshow": {
     "slide_type": ""
    },
    "tags": [
     "skip-execution"
    ]
   },
   "outputs": [],
   "source": [
    "n = Notebook(path = \"filestore_examples.ipynb\")"
   ]
  },
  {
   "cell_type": "code",
   "execution_count": 23,
   "id": "e2000f36-972d-48b6-9d93-76c445351644",
   "metadata": {
    "editable": true,
    "slideshow": {
     "slide_type": ""
    },
    "tags": [
     "skip-execution"
    ]
   },
   "outputs": [],
   "source": [
    "info = n.push(description = \"FileStore examples\", visibility = \"public\")"
   ]
  },
  {
   "cell_type": "code",
   "execution_count": 24,
   "id": "39c458a2-63bd-4beb-b0ba-64f2f33b156b",
   "metadata": {
    "editable": true,
    "slideshow": {
     "slide_type": ""
    },
    "tags": [
     "skip-execution"
    ]
   },
   "outputs": [
    {
     "data": {
      "text/plain": [
       "{'description': 'FileStore examples',\n",
       " 'object_type': 'notebook',\n",
       " 'url': 'https://www.expectedparrot.com/content/c796425c-bdc2-4b35-840a-d2145b4b49d1',\n",
       " 'uuid': 'c796425c-bdc2-4b35-840a-d2145b4b49d1',\n",
       " 'version': '0.1.38.dev1',\n",
       " 'visibility': 'public'}"
      ]
     },
     "execution_count": 24,
     "metadata": {},
     "output_type": "execute_result"
    }
   ],
   "source": [
    "info"
   ]
  },
  {
   "cell_type": "markdown",
   "id": "1994f140-ff7f-4ab6-ad2e-b7d21a6e6548",
   "metadata": {},
   "source": [
    "To update an object at the Coop:"
   ]
  },
  {
   "cell_type": "code",
   "execution_count": 25,
   "id": "bdd2e565-4213-4a19-91a6-abb728a449d1",
   "metadata": {
    "editable": true,
    "slideshow": {
     "slide_type": ""
    },
    "tags": [
     "skip-execution"
    ]
   },
   "outputs": [],
   "source": [
    "n = Notebook(path = \"filestore_examples.ipynb\") # resave"
   ]
  },
  {
   "cell_type": "code",
   "execution_count": 26,
   "id": "4adedc43-7e9b-488a-9ef2-d10e2908a63d",
   "metadata": {
    "editable": true,
    "slideshow": {
     "slide_type": ""
    },
    "tags": [
     "skip-execution"
    ]
   },
   "outputs": [
    {
     "data": {
      "text/plain": [
       "{'status': 'success'}"
      ]
     },
     "execution_count": 26,
     "metadata": {},
     "output_type": "execute_result"
    }
   ],
   "source": [
    "n.patch(info[\"uuid\"], value = n)"
   ]
  }
 ],
 "metadata": {
  "kernelspec": {
   "display_name": "Python 3 (ipykernel)",
   "language": "python",
   "name": "python3"
  },
  "language_info": {
   "codemirror_mode": {
    "name": "ipython",
    "version": 3
   },
   "file_extension": ".py",
   "mimetype": "text/x-python",
   "name": "python",
   "nbconvert_exporter": "python",
   "pygments_lexer": "ipython3",
   "version": "3.11.0"
  }
 },
 "nbformat": 4,
 "nbformat_minor": 5
}
