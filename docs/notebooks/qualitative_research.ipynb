{
 "cells": [
  {
   "cell_type": "markdown",
   "metadata": {
    "cell_id": "251365f9b0cf44c6af498ad4f0f2c8b9",
    "deepnote_cell_type": "markdown"
   },
   "source": [
    "# Build a qualitative researcher & launch an interview\n",
    "This notebook provides sample [EDSL](https://docs.expectedparrot.com/) code for simulating qualitative research interviews. In a series of steps we construct an AI agent representing a qualitative researcher and launch an interview with specified topics and interview subjects.\n",
    "\n",
    "EDSL is an open-source library for simulating surveys and experiments with AI. Please see our [documentation page](https://docs.expectedparrot.com/) for tips and tutorials on getting started."
   ]
  },
  {
   "cell_type": "markdown",
   "metadata": {},
   "source": [
    "[![Open In Colab](https://colab.research.google.com/assets/colab-badge.svg)](https://colab.research.google.com/github/expectedparrot/edsl/blob/main/docs/notebooks/qualitative_research.ipynb)"
   ]
  },
  {
   "cell_type": "markdown",
   "metadata": {},
   "source": [
    "Importing tools:"
   ]
  },
  {
   "cell_type": "code",
   "execution_count": 1,
   "metadata": {
    "cell_id": "4739ffaef3b648a0becd6199543fd399",
    "deepnote_cell_type": "code",
    "deepnote_to_be_reexecuted": false,
    "execution_millis": 201,
    "execution_start": 1708272080711,
    "source_hash": null
   },
   "outputs": [],
   "source": [
    "from edsl.questions import QuestionFreeText\n",
    "from edsl import Agent, Scenario, Model\n",
    "\n",
    "import textwrap\n",
    "from rich import print"
   ]
  },
  {
   "cell_type": "markdown",
   "metadata": {},
   "source": [
    "EDSL works with many popular language models ([learn more](https://docs.expectedparrot.com/en/latest/language_models.html) about using models). Here we select one to use in running in our survey:"
   ]
  },
  {
   "cell_type": "code",
   "execution_count": 2,
   "metadata": {},
   "outputs": [],
   "source": [
    "model = Model(\"gpt-4-1106-preview\")"
   ]
  },
  {
   "cell_type": "markdown",
   "metadata": {},
   "source": [
    "Here we create methods for constructing agents representing a researcher and subject, and conducting an interview in the form of a survey that we can observe. (Learn more about [designing agents](https://docs.expectedparrot.com/en/latest/agents.html) and [running surveys](https://docs.expectedparrot.com/en/latest/surveys.html))."
   ]
  },
  {
   "cell_type": "code",
   "execution_count": 3,
   "metadata": {
    "cell_id": "95bfaac1642a4bc6a705a75c4106026a",
    "deepnote_cell_type": "code",
    "deepnote_to_be_reexecuted": true,
    "execution_millis": 218,
    "execution_start": 1708093138429,
    "source_hash": null
   },
   "outputs": [],
   "source": [
    "def construct_subject(name, traits = {}):\n",
    "    return Agent(name = name, traits = traits)\n",
    " \n",
    "def construct_researcher(product, topics):\n",
    "    background = textwrap.dedent(f\"\"\"\\\n",
    "    You are an expert qualitative researcher. You are researching this product: {product}. \n",
    "    You are interested in conducting interviews to learn people's views on the following topics relating \n",
    "    to the product: {topics}.\"\"\")\n",
    "\n",
    "    instruction = textwrap.dedent(f\"\"\"\\\n",
    "    You know to ask questions that are appropriate to the age and experience of an interview subject.\n",
    "    You know to not ask questions that an interview subject would not be able to answer, \n",
    "    e.g., if they are a young child, they probably will not be able to answer many questions about prices. \n",
    "    You ask excellent follow-up questions.    \n",
    "    \"\"\")\n",
    "    return Agent(traits = {'background': background}, instruction = instruction)\n",
    "\n",
    "def get_next_question(subject, researcher, dialog_so_far):\n",
    "    scenario = Scenario({'subject': str(subject.traits), 'dialog_so_far': dialog_so_far})\n",
    "    meta_q = QuestionFreeText(\n",
    "        question_name = \"next_question\",\n",
    "        question_text = \"\"\"\n",
    "        These are the biographic details of the interview subject: {{ subject }}\n",
    "        This is your current dialog with the interview subject: {{ dialog_so_far }}\n",
    "        What question you would ask the interview subject next?\n",
    "        \"\"\"\n",
    "    )\n",
    "    question_text = meta_q.by(model).by(researcher).by(scenario).run().select(\"next_question\").first()\n",
    "    return question_text\n",
    "\n",
    "def get_response_to_question(question_text, subject, dialog_so_far):\n",
    "    q_to_subject = QuestionFreeText(\n",
    "        question_name = \"question\",\n",
    "        question_text = f\"\"\"\n",
    "        This is your current dialog with the interview subject: {dialog_so_far}. \n",
    "        You are now being asked:\"\"\" + question_text \n",
    "    )\n",
    "    response = q_to_subject.by(model).by(subject).run().select(\"question\").first() \n",
    "    return response\n",
    "\n",
    "def ask_question(subject, researcher, dialog_so_far):\n",
    "    question_text = get_next_question(subject, researcher, dialog_so_far)\n",
    "    response = get_response_to_question(question_text, subject, dialog_so_far)\n",
    "    return {\"question\": question_text, \"response\": response}\n",
    "\n",
    "def dialog_to_string(d):\n",
    "    return \"\\n\".join([f\"Question: {d['question']}\\nResponse: {d['response']}\" for d in d])"
   ]
  },
  {
   "cell_type": "code",
   "execution_count": 4,
   "metadata": {
    "cell_id": "813b9e678f204fef85740674b19d694b",
    "deepnote_cell_type": "code",
    "deepnote_to_be_reexecuted": true,
    "execution_millis": 10558,
    "execution_start": 1708093438416,
    "source_hash": null
   },
   "outputs": [
    {
     "data": {
      "text/html": [
       "<pre style=\"white-space:pre;overflow-x:auto;line-height:normal;font-family:Menlo,'DejaVu Sans Mono',consolas,'Courier New',monospace\"><span style=\"font-weight: bold\">{</span>\n",
       "    <span style=\"color: #008000; text-decoration-color: #008000\">'question'</span>: <span style=\"color: #008000; text-decoration-color: #008000\">'What kind of music do you like to listen to, and how do you usually listen to it?'</span>,\n",
       "    <span style=\"color: #008000; text-decoration-color: #008000\">'response'</span>: <span style=\"color: #008000; text-decoration-color: #008000\">\"I really like listening to pop music and some K-pop because the songs are super catchy and fun to </span>\n",
       "<span style=\"color: #008000; text-decoration-color: #008000\">dance to! I usually listen to music on my phone with my headphones or sometimes I play it out loud in my room when </span>\n",
       "<span style=\"color: #008000; text-decoration-color: #008000\">I'm doing homework or just chilling.\"</span>\n",
       "<span style=\"font-weight: bold\">}</span>\n",
       "</pre>\n"
      ],
      "text/plain": [
       "\u001b[1m{\u001b[0m\n",
       "    \u001b[32m'question'\u001b[0m: \u001b[32m'What kind of music do you like to listen to, and how do you usually listen to it?'\u001b[0m,\n",
       "    \u001b[32m'response'\u001b[0m: \u001b[32m\"I really like listening to pop music and some K-pop because the songs are super catchy and fun to \u001b[0m\n",
       "\u001b[32mdance to! I usually listen to music on my phone with my headphones or sometimes I play it out loud in my room when \u001b[0m\n",
       "\u001b[32mI'm doing homework or just chilling.\"\u001b[0m\n",
       "\u001b[1m}\u001b[0m\n"
      ]
     },
     "metadata": {},
     "output_type": "display_data"
    }
   ],
   "source": [
    "subject = construct_subject(name = \"Alice\", traits = {'gender': \"female\", 'age': 12})\n",
    "researcher = construct_researcher(product = \"cassette tapes\", topics = \"technology, music\")\n",
    "result = ask_question(subject, researcher, \"\")\n",
    "print(result)"
   ]
  },
  {
   "cell_type": "code",
   "execution_count": 5,
   "metadata": {
    "cell_id": "20a3b3eb2ce941de9724cdd49af89f8a",
    "deepnote_cell_type": "code",
    "deepnote_to_be_reexecuted": true,
    "execution_millis": 114950,
    "execution_start": 1708093488533,
    "source_hash": null
   },
   "outputs": [
    {
     "data": {
      "text/html": [
       "<pre style=\"white-space:pre;overflow-x:auto;line-height:normal;font-family:Menlo,'DejaVu Sans Mono',consolas,'Courier New',monospace\"><span style=\"font-weight: bold\">{</span>\n",
       "    <span style=\"color: #008000; text-decoration-color: #008000\">'question'</span>: <span style=\"color: #008000; text-decoration-color: #008000\">'What kind of music do you like to listen to, and how do you usually listen to it?'</span>,\n",
       "    <span style=\"color: #008000; text-decoration-color: #008000\">'response'</span>: <span style=\"color: #008000; text-decoration-color: #008000\">\"I really like listening to pop music and some K-pop because the songs are super catchy and fun to </span>\n",
       "<span style=\"color: #008000; text-decoration-color: #008000\">dance to! I usually listen to music on my phone with my headphones or sometimes I play it out loud in my room when </span>\n",
       "<span style=\"color: #008000; text-decoration-color: #008000\">I'm doing homework or just chilling.\"</span>\n",
       "<span style=\"font-weight: bold\">}</span>\n",
       "</pre>\n"
      ],
      "text/plain": [
       "\u001b[1m{\u001b[0m\n",
       "    \u001b[32m'question'\u001b[0m: \u001b[32m'What kind of music do you like to listen to, and how do you usually listen to it?'\u001b[0m,\n",
       "    \u001b[32m'response'\u001b[0m: \u001b[32m\"I really like listening to pop music and some K-pop because the songs are super catchy and fun to \u001b[0m\n",
       "\u001b[32mdance to! I usually listen to music on my phone with my headphones or sometimes I play it out loud in my room when \u001b[0m\n",
       "\u001b[32mI'm doing homework or just chilling.\"\u001b[0m\n",
       "\u001b[1m}\u001b[0m\n"
      ]
     },
     "metadata": {},
     "output_type": "display_data"
    },
    {
     "data": {
      "text/html": [
       "<pre style=\"white-space:pre;overflow-x:auto;line-height:normal;font-family:Menlo,'DejaVu Sans Mono',consolas,'Courier New',monospace\"><span style=\"font-weight: bold\">{</span>\n",
       "    <span style=\"color: #008000; text-decoration-color: #008000\">'question'</span>: <span style=\"color: #008000; text-decoration-color: #008000\">'That sounds like a fun way to enjoy your favorite tunes! Do you ever use any other devices besides</span>\n",
       "<span style=\"color: #008000; text-decoration-color: #008000\">your phone to listen to music, like a CD player, radio, or maybe even a cassette player?'</span>,\n",
       "    <span style=\"color: #008000; text-decoration-color: #008000\">'response'</span>: <span style=\"color: #008000; text-decoration-color: #008000\">\"Oh, I mostly use my phone because it's super convenient, but I do have this small Bluetooth </span>\n",
       "<span style=\"color: #008000; text-decoration-color: #008000\">speaker that I connect to sometimes when I want the music to be really loud! My parents have a CD player in the </span>\n",
       "<span style=\"color: #008000; text-decoration-color: #008000\">living room that we use sometimes when they want to play their old CDs. I've never used a cassette player though – </span>\n",
       "<span style=\"color: #008000; text-decoration-color: #008000\">that's like, retro, right?\"</span>\n",
       "<span style=\"font-weight: bold\">}</span>\n",
       "</pre>\n"
      ],
      "text/plain": [
       "\u001b[1m{\u001b[0m\n",
       "    \u001b[32m'question'\u001b[0m: \u001b[32m'That sounds like a fun way to enjoy your favorite tunes! Do you ever use any other devices besides\u001b[0m\n",
       "\u001b[32myour phone to listen to music, like a CD player, radio, or maybe even a cassette player?'\u001b[0m,\n",
       "    \u001b[32m'response'\u001b[0m: \u001b[32m\"Oh, I mostly use my phone because it's super convenient, but I do have this small Bluetooth \u001b[0m\n",
       "\u001b[32mspeaker that I connect to sometimes when I want the music to be really loud! My parents have a CD player in the \u001b[0m\n",
       "\u001b[32mliving room that we use sometimes when they want to play their old CDs. I've never used a cassette player though – \u001b[0m\n",
       "\u001b[32mthat's like, retro, right?\"\u001b[0m\n",
       "\u001b[1m}\u001b[0m\n"
      ]
     },
     "metadata": {},
     "output_type": "display_data"
    },
    {
     "data": {
      "text/html": [
       "<pre style=\"white-space:pre;overflow-x:auto;line-height:normal;font-family:Menlo,'DejaVu Sans Mono',consolas,'Courier New',monospace\"><span style=\"font-weight: bold\">{</span>\n",
       "    <span style=\"color: #008000; text-decoration-color: #008000\">'question'</span>: <span style=\"color: #008000; text-decoration-color: #008000\">\"It's interesting to hear that you enjoy the convenience of your phone for music! Since you </span>\n",
       "<span style=\"color: #008000; text-decoration-color: #008000\">mentioned that you've never used a cassette player, what do you think about the idea of using older technology like</span>\n",
       "<span style=\"color: #008000; text-decoration-color: #008000\">cassette tapes to listen to music? Do you think it would be fun to try it out, or do you prefer sticking to more </span>\n",
       "<span style=\"color: #008000; text-decoration-color: #008000\">modern ways of listening to music?\"</span>,\n",
       "    <span style=\"color: #008000; text-decoration-color: #008000\">'response'</span>: <span style=\"color: #008000; text-decoration-color: #008000\">\"I think it would be kind of cool to try out a cassette player just to see what it was like for </span>\n",
       "<span style=\"color: #008000; text-decoration-color: #008000\">people to listen to music back then. It's like a little piece of history! I'm really into modern tech because it's </span>\n",
       "<span style=\"color: #008000; text-decoration-color: #008000\">easy to use and I can listen to whatever I want, whenever I want. But trying a cassette player could be a fun </span>\n",
       "<span style=\"color: #008000; text-decoration-color: #008000\">experience, even if it's just once or for a special occasion. It's always neat to learn how things used to be!\"</span>\n",
       "<span style=\"font-weight: bold\">}</span>\n",
       "</pre>\n"
      ],
      "text/plain": [
       "\u001b[1m{\u001b[0m\n",
       "    \u001b[32m'question'\u001b[0m: \u001b[32m\"It's interesting to hear that you enjoy the convenience of your phone for music! Since you \u001b[0m\n",
       "\u001b[32mmentioned that you've never used a cassette player, what do you think about the idea of using older technology like\u001b[0m\n",
       "\u001b[32mcassette tapes to listen to music? Do you think it would be fun to try it out, or do you prefer sticking to more \u001b[0m\n",
       "\u001b[32mmodern ways of listening to music?\"\u001b[0m,\n",
       "    \u001b[32m'response'\u001b[0m: \u001b[32m\"I think it would be kind of cool to try out a cassette player just to see what it was like for \u001b[0m\n",
       "\u001b[32mpeople to listen to music back then. It's like a little piece of history! I'm really into modern tech because it's \u001b[0m\n",
       "\u001b[32measy to use and I can listen to whatever I want, whenever I want. But trying a cassette player could be a fun \u001b[0m\n",
       "\u001b[32mexperience, even if it's just once or for a special occasion. It's always neat to learn how things used to be!\"\u001b[0m\n",
       "\u001b[1m}\u001b[0m\n"
      ]
     },
     "metadata": {},
     "output_type": "display_data"
    },
    {
     "data": {
      "text/html": [
       "<pre style=\"white-space:pre;overflow-x:auto;line-height:normal;font-family:Menlo,'DejaVu Sans Mono',consolas,'Courier New',monospace\"><span style=\"font-weight: bold\">{</span>\n",
       "    <span style=\"color: #008000; text-decoration-color: #008000\">'question'</span>: <span style=\"color: #008000; text-decoration-color: #008000\">\"That's a great perspective on experiencing history through music technology! If you had the chance</span>\n",
       "<span style=\"color: #008000; text-decoration-color: #008000\">to use a cassette player, what do you think would be the most interesting part about it? Would it be the physical </span>\n",
       "<span style=\"color: #008000; text-decoration-color: #008000\">aspect of handling tapes, the sound quality, or maybe the nostalgia it represents for earlier times?\"</span>,\n",
       "    <span style=\"color: #008000; text-decoration-color: #008000\">'response'</span>: <span style=\"color: #008000; text-decoration-color: #008000\">\"I think the most interesting part about using a cassette player would be the physical aspect of </span>\n",
       "<span style=\"color: #008000; text-decoration-color: #008000\">handling the tapes. It's so different from just tapping on a screen. You get to actually hold the cassette, flip it</span>\n",
       "<span style=\"color: #008000; text-decoration-color: #008000\">over, and push it into the player, which is kind of cool and hands-on. Plus, watching the tape spin inside the </span>\n",
       "<span style=\"color: #008000; text-decoration-color: #008000\">player must be pretty neat. I guess the sound quality would be interesting to compare too, since I'm used to </span>\n",
       "<span style=\"color: #008000; text-decoration-color: #008000\">digital music. The nostalgia part is more for my parents, but it would be fun to see what they get excited about!\"</span>\n",
       "<span style=\"font-weight: bold\">}</span>\n",
       "</pre>\n"
      ],
      "text/plain": [
       "\u001b[1m{\u001b[0m\n",
       "    \u001b[32m'question'\u001b[0m: \u001b[32m\"That's a great perspective on experiencing history through music technology! If you had the chance\u001b[0m\n",
       "\u001b[32mto use a cassette player, what do you think would be the most interesting part about it? Would it be the physical \u001b[0m\n",
       "\u001b[32maspect of handling tapes, the sound quality, or maybe the nostalgia it represents for earlier times?\"\u001b[0m,\n",
       "    \u001b[32m'response'\u001b[0m: \u001b[32m\"I think the most interesting part about using a cassette player would be the physical aspect of \u001b[0m\n",
       "\u001b[32mhandling the tapes. It's so different from just tapping on a screen. You get to actually hold the cassette, flip it\u001b[0m\n",
       "\u001b[32mover, and push it into the player, which is kind of cool and hands-on. Plus, watching the tape spin inside the \u001b[0m\n",
       "\u001b[32mplayer must be pretty neat. I guess the sound quality would be interesting to compare too, since I'm used to \u001b[0m\n",
       "\u001b[32mdigital music. The nostalgia part is more for my parents, but it would be fun to see what they get excited about!\"\u001b[0m\n",
       "\u001b[1m}\u001b[0m\n"
      ]
     },
     "metadata": {},
     "output_type": "display_data"
    },
    {
     "data": {
      "text/html": [
       "<pre style=\"white-space:pre;overflow-x:auto;line-height:normal;font-family:Menlo,'DejaVu Sans Mono',consolas,'Courier New',monospace\"><span style=\"font-weight: bold\">{</span>\n",
       "    <span style=\"color: #008000; text-decoration-color: #008000\">'question'</span>: <span style=\"color: #008000; text-decoration-color: #008000\">\"That's a thoughtful observation about the tactile experience! If you were to create a mixtape </span>\n",
       "<span style=\"color: #008000; text-decoration-color: #008000\">using a cassette, what songs would you choose to include on it, and why those particular songs?\"</span>,\n",
       "    <span style=\"color: #008000; text-decoration-color: #008000\">'response'</span>: <span style=\"color: #008000; text-decoration-color: #008000\">\"If I were to create a mixtape, I'd pick a bunch of my favorite pop and K-pop songs! I would </span>\n",
       "<span style=\"color: #008000; text-decoration-color: #008000\">include 'Dynamite' by BTS because it's so upbeat and makes me want to dance. Then I'd add 'drivers license' by </span>\n",
       "<span style=\"color: #008000; text-decoration-color: #008000\">Olivia Rodrigo because I love singing along to it. 'Shake It Off' by Taylor Swift would be on there too because </span>\n",
       "<span style=\"color: #008000; text-decoration-color: #008000\">it's super catchy and fun. I'd also choose some songs from BLACKPINK, like 'How You Like That,' because their music</span>\n",
       "<span style=\"color: #008000; text-decoration-color: #008000\">is really cool. And of course, I'd have to add some classic pop hits like 'Call Me Maybe' by Carly Rae Jepsen </span>\n",
       "<span style=\"color: #008000; text-decoration-color: #008000\">because it's a classic and everyone loves it. These songs are all special to me because they're the ones I always </span>\n",
       "<span style=\"color: #008000; text-decoration-color: #008000\">have on repeat and they just make me really happy whenever I hear them!\"</span>\n",
       "<span style=\"font-weight: bold\">}</span>\n",
       "</pre>\n"
      ],
      "text/plain": [
       "\u001b[1m{\u001b[0m\n",
       "    \u001b[32m'question'\u001b[0m: \u001b[32m\"That's a thoughtful observation about the tactile experience! If you were to create a mixtape \u001b[0m\n",
       "\u001b[32musing a cassette, what songs would you choose to include on it, and why those particular songs?\"\u001b[0m,\n",
       "    \u001b[32m'response'\u001b[0m: \u001b[32m\"If I were to create a mixtape, I'd pick a bunch of my favorite pop and K-pop songs! I would \u001b[0m\n",
       "\u001b[32minclude 'Dynamite' by BTS because it's so upbeat and makes me want to dance. Then I'd add 'drivers license' by \u001b[0m\n",
       "\u001b[32mOlivia Rodrigo because I love singing along to it. 'Shake It Off' by Taylor Swift would be on there too because \u001b[0m\n",
       "\u001b[32mit's super catchy and fun. I'd also choose some songs from BLACKPINK, like 'How You Like That,' because their music\u001b[0m\n",
       "\u001b[32mis really cool. And of course, I'd have to add some classic pop hits like 'Call Me Maybe' by Carly Rae Jepsen \u001b[0m\n",
       "\u001b[32mbecause it's a classic and everyone loves it. These songs are all special to me because they're the ones I always \u001b[0m\n",
       "\u001b[32mhave on repeat and they just make me really happy whenever I hear them!\"\u001b[0m\n",
       "\u001b[1m}\u001b[0m\n"
      ]
     },
     "metadata": {},
     "output_type": "display_data"
    },
    {
     "data": {
      "text/html": [
       "<pre style=\"white-space:pre;overflow-x:auto;line-height:normal;font-family:Menlo,'DejaVu Sans Mono',consolas,'Courier New',monospace\"><span style=\"font-weight: bold\">[</span>\n",
       "    <span style=\"font-weight: bold\">{</span>\n",
       "        <span style=\"color: #008000; text-decoration-color: #008000\">'question'</span>: <span style=\"color: #008000; text-decoration-color: #008000\">'What kind of music do you like to listen to, and how do you usually listen to it?'</span>,\n",
       "        <span style=\"color: #008000; text-decoration-color: #008000\">'response'</span>: <span style=\"color: #008000; text-decoration-color: #008000\">\"I really like listening to pop music and some K-pop because the songs are super catchy and fun</span>\n",
       "<span style=\"color: #008000; text-decoration-color: #008000\">to dance to! I usually listen to music on my phone with my headphones or sometimes I play it out loud in my room </span>\n",
       "<span style=\"color: #008000; text-decoration-color: #008000\">when I'm doing homework or just chilling.\"</span>\n",
       "    <span style=\"font-weight: bold\">}</span>,\n",
       "    <span style=\"font-weight: bold\">{</span>\n",
       "        <span style=\"color: #008000; text-decoration-color: #008000\">'question'</span>: <span style=\"color: #008000; text-decoration-color: #008000\">'That sounds like a fun way to enjoy your favorite tunes! Do you ever use any other devices </span>\n",
       "<span style=\"color: #008000; text-decoration-color: #008000\">besides your phone to listen to music, like a CD player, radio, or maybe even a cassette player?'</span>,\n",
       "        <span style=\"color: #008000; text-decoration-color: #008000\">'response'</span>: <span style=\"color: #008000; text-decoration-color: #008000\">\"Oh, I mostly use my phone because it's super convenient, but I do have this small Bluetooth </span>\n",
       "<span style=\"color: #008000; text-decoration-color: #008000\">speaker that I connect to sometimes when I want the music to be really loud! My parents have a CD player in the </span>\n",
       "<span style=\"color: #008000; text-decoration-color: #008000\">living room that we use sometimes when they want to play their old CDs. I've never used a cassette player though – </span>\n",
       "<span style=\"color: #008000; text-decoration-color: #008000\">that's like, retro, right?\"</span>\n",
       "    <span style=\"font-weight: bold\">}</span>,\n",
       "    <span style=\"font-weight: bold\">{</span>\n",
       "        <span style=\"color: #008000; text-decoration-color: #008000\">'question'</span>: <span style=\"color: #008000; text-decoration-color: #008000\">\"It's interesting to hear that you enjoy the convenience of your phone for music! Since you </span>\n",
       "<span style=\"color: #008000; text-decoration-color: #008000\">mentioned that you've never used a cassette player, what do you think about the idea of using older technology like</span>\n",
       "<span style=\"color: #008000; text-decoration-color: #008000\">cassette tapes to listen to music? Do you think it would be fun to try it out, or do you prefer sticking to more </span>\n",
       "<span style=\"color: #008000; text-decoration-color: #008000\">modern ways of listening to music?\"</span>,\n",
       "        <span style=\"color: #008000; text-decoration-color: #008000\">'response'</span>: <span style=\"color: #008000; text-decoration-color: #008000\">\"I think it would be kind of cool to try out a cassette player just to see what it was like for</span>\n",
       "<span style=\"color: #008000; text-decoration-color: #008000\">people to listen to music back then. It's like a little piece of history! I'm really into modern tech because it's </span>\n",
       "<span style=\"color: #008000; text-decoration-color: #008000\">easy to use and I can listen to whatever I want, whenever I want. But trying a cassette player could be a fun </span>\n",
       "<span style=\"color: #008000; text-decoration-color: #008000\">experience, even if it's just once or for a special occasion. It's always neat to learn how things used to be!\"</span>\n",
       "    <span style=\"font-weight: bold\">}</span>,\n",
       "    <span style=\"font-weight: bold\">{</span>\n",
       "        <span style=\"color: #008000; text-decoration-color: #008000\">'question'</span>: <span style=\"color: #008000; text-decoration-color: #008000\">\"That's a great perspective on experiencing history through music technology! If you had the </span>\n",
       "<span style=\"color: #008000; text-decoration-color: #008000\">chance to use a cassette player, what do you think would be the most interesting part about it? Would it be the </span>\n",
       "<span style=\"color: #008000; text-decoration-color: #008000\">physical aspect of handling tapes, the sound quality, or maybe the nostalgia it represents for earlier times?\"</span>,\n",
       "        <span style=\"color: #008000; text-decoration-color: #008000\">'response'</span>: <span style=\"color: #008000; text-decoration-color: #008000\">\"I think the most interesting part about using a cassette player would be the physical aspect </span>\n",
       "<span style=\"color: #008000; text-decoration-color: #008000\">of handling the tapes. It's so different from just tapping on a screen. You get to actually hold the cassette, flip</span>\n",
       "<span style=\"color: #008000; text-decoration-color: #008000\">it over, and push it into the player, which is kind of cool and hands-on. Plus, watching the tape spin inside the </span>\n",
       "<span style=\"color: #008000; text-decoration-color: #008000\">player must be pretty neat. I guess the sound quality would be interesting to compare too, since I'm used to </span>\n",
       "<span style=\"color: #008000; text-decoration-color: #008000\">digital music. The nostalgia part is more for my parents, but it would be fun to see what they get excited about!\"</span>\n",
       "    <span style=\"font-weight: bold\">}</span>,\n",
       "    <span style=\"font-weight: bold\">{</span>\n",
       "        <span style=\"color: #008000; text-decoration-color: #008000\">'question'</span>: <span style=\"color: #008000; text-decoration-color: #008000\">\"That's a thoughtful observation about the tactile experience! If you were to create a mixtape </span>\n",
       "<span style=\"color: #008000; text-decoration-color: #008000\">using a cassette, what songs would you choose to include on it, and why those particular songs?\"</span>,\n",
       "        <span style=\"color: #008000; text-decoration-color: #008000\">'response'</span>: <span style=\"color: #008000; text-decoration-color: #008000\">\"If I were to create a mixtape, I'd pick a bunch of my favorite pop and K-pop songs! I would </span>\n",
       "<span style=\"color: #008000; text-decoration-color: #008000\">include 'Dynamite' by BTS because it's so upbeat and makes me want to dance. Then I'd add 'drivers license' by </span>\n",
       "<span style=\"color: #008000; text-decoration-color: #008000\">Olivia Rodrigo because I love singing along to it. 'Shake It Off' by Taylor Swift would be on there too because </span>\n",
       "<span style=\"color: #008000; text-decoration-color: #008000\">it's super catchy and fun. I'd also choose some songs from BLACKPINK, like 'How You Like That,' because their music</span>\n",
       "<span style=\"color: #008000; text-decoration-color: #008000\">is really cool. And of course, I'd have to add some classic pop hits like 'Call Me Maybe' by Carly Rae Jepsen </span>\n",
       "<span style=\"color: #008000; text-decoration-color: #008000\">because it's a classic and everyone loves it. These songs are all special to me because they're the ones I always </span>\n",
       "<span style=\"color: #008000; text-decoration-color: #008000\">have on repeat and they just make me really happy whenever I hear them!\"</span>\n",
       "    <span style=\"font-weight: bold\">}</span>\n",
       "<span style=\"font-weight: bold\">]</span>\n",
       "</pre>\n"
      ],
      "text/plain": [
       "\u001b[1m[\u001b[0m\n",
       "    \u001b[1m{\u001b[0m\n",
       "        \u001b[32m'question'\u001b[0m: \u001b[32m'What kind of music do you like to listen to, and how do you usually listen to it?'\u001b[0m,\n",
       "        \u001b[32m'response'\u001b[0m: \u001b[32m\"I really like listening to pop music and some K-pop because the songs are super catchy and fun\u001b[0m\n",
       "\u001b[32mto dance to! I usually listen to music on my phone with my headphones or sometimes I play it out loud in my room \u001b[0m\n",
       "\u001b[32mwhen I'm doing homework or just chilling.\"\u001b[0m\n",
       "    \u001b[1m}\u001b[0m,\n",
       "    \u001b[1m{\u001b[0m\n",
       "        \u001b[32m'question'\u001b[0m: \u001b[32m'That sounds like a fun way to enjoy your favorite tunes! Do you ever use any other devices \u001b[0m\n",
       "\u001b[32mbesides your phone to listen to music, like a CD player, radio, or maybe even a cassette player?'\u001b[0m,\n",
       "        \u001b[32m'response'\u001b[0m: \u001b[32m\"Oh, I mostly use my phone because it's super convenient, but I do have this small Bluetooth \u001b[0m\n",
       "\u001b[32mspeaker that I connect to sometimes when I want the music to be really loud! My parents have a CD player in the \u001b[0m\n",
       "\u001b[32mliving room that we use sometimes when they want to play their old CDs. I've never used a cassette player though – \u001b[0m\n",
       "\u001b[32mthat's like, retro, right?\"\u001b[0m\n",
       "    \u001b[1m}\u001b[0m,\n",
       "    \u001b[1m{\u001b[0m\n",
       "        \u001b[32m'question'\u001b[0m: \u001b[32m\"It's interesting to hear that you enjoy the convenience of your phone for music! Since you \u001b[0m\n",
       "\u001b[32mmentioned that you've never used a cassette player, what do you think about the idea of using older technology like\u001b[0m\n",
       "\u001b[32mcassette tapes to listen to music? Do you think it would be fun to try it out, or do you prefer sticking to more \u001b[0m\n",
       "\u001b[32mmodern ways of listening to music?\"\u001b[0m,\n",
       "        \u001b[32m'response'\u001b[0m: \u001b[32m\"I think it would be kind of cool to try out a cassette player just to see what it was like for\u001b[0m\n",
       "\u001b[32mpeople to listen to music back then. It's like a little piece of history! I'm really into modern tech because it's \u001b[0m\n",
       "\u001b[32measy to use and I can listen to whatever I want, whenever I want. But trying a cassette player could be a fun \u001b[0m\n",
       "\u001b[32mexperience, even if it's just once or for a special occasion. It's always neat to learn how things used to be!\"\u001b[0m\n",
       "    \u001b[1m}\u001b[0m,\n",
       "    \u001b[1m{\u001b[0m\n",
       "        \u001b[32m'question'\u001b[0m: \u001b[32m\"That's a great perspective on experiencing history through music technology! If you had the \u001b[0m\n",
       "\u001b[32mchance to use a cassette player, what do you think would be the most interesting part about it? Would it be the \u001b[0m\n",
       "\u001b[32mphysical aspect of handling tapes, the sound quality, or maybe the nostalgia it represents for earlier times?\"\u001b[0m,\n",
       "        \u001b[32m'response'\u001b[0m: \u001b[32m\"I think the most interesting part about using a cassette player would be the physical aspect \u001b[0m\n",
       "\u001b[32mof handling the tapes. It's so different from just tapping on a screen. You get to actually hold the cassette, flip\u001b[0m\n",
       "\u001b[32mit over, and push it into the player, which is kind of cool and hands-on. Plus, watching the tape spin inside the \u001b[0m\n",
       "\u001b[32mplayer must be pretty neat. I guess the sound quality would be interesting to compare too, since I'm used to \u001b[0m\n",
       "\u001b[32mdigital music. The nostalgia part is more for my parents, but it would be fun to see what they get excited about!\"\u001b[0m\n",
       "    \u001b[1m}\u001b[0m,\n",
       "    \u001b[1m{\u001b[0m\n",
       "        \u001b[32m'question'\u001b[0m: \u001b[32m\"That's a thoughtful observation about the tactile experience! If you were to create a mixtape \u001b[0m\n",
       "\u001b[32musing a cassette, what songs would you choose to include on it, and why those particular songs?\"\u001b[0m,\n",
       "        \u001b[32m'response'\u001b[0m: \u001b[32m\"If I were to create a mixtape, I'd pick a bunch of my favorite pop and K-pop songs! I would \u001b[0m\n",
       "\u001b[32minclude 'Dynamite' by BTS because it's so upbeat and makes me want to dance. Then I'd add 'drivers license' by \u001b[0m\n",
       "\u001b[32mOlivia Rodrigo because I love singing along to it. 'Shake It Off' by Taylor Swift would be on there too because \u001b[0m\n",
       "\u001b[32mit's super catchy and fun. I'd also choose some songs from BLACKPINK, like 'How You Like That,' because their music\u001b[0m\n",
       "\u001b[32mis really cool. And of course, I'd have to add some classic pop hits like 'Call Me Maybe' by Carly Rae Jepsen \u001b[0m\n",
       "\u001b[32mbecause it's a classic and everyone loves it. These songs are all special to me because they're the ones I always \u001b[0m\n",
       "\u001b[32mhave on repeat and they just make me really happy whenever I hear them!\"\u001b[0m\n",
       "    \u001b[1m}\u001b[0m\n",
       "\u001b[1m]\u001b[0m\n"
      ]
     },
     "metadata": {},
     "output_type": "display_data"
    }
   ],
   "source": [
    "dialog_so_far = []\n",
    "for i in range(5):\n",
    "    result = ask_question(subject, researcher, dialog_to_string(dialog_so_far))\n",
    "    print(result)\n",
    "    dialog_so_far.append(result)\n",
    "print(dialog_so_far)"
   ]
  }
 ],
 "metadata": {
  "deepnote_execution_queue": [],
  "deepnote_notebook_id": "756eb677bdb4427c8bc5da1777a603cf",
  "kernelspec": {
   "display_name": "Python 3 (ipykernel)",
   "language": "python",
   "name": "python3"
  },
  "language_info": {
   "codemirror_mode": {
    "name": "ipython",
    "version": 3
   },
   "file_extension": ".py",
   "mimetype": "text/x-python",
   "name": "python",
   "nbconvert_exporter": "python",
   "pygments_lexer": "ipython3",
   "version": "3.11.7"
  }
 },
 "nbformat": 4,
 "nbformat_minor": 4
}
