{
 "cells": [
  {
   "cell_type": "markdown",
   "metadata": {
    "cell_id": "251365f9b0cf44c6af498ad4f0f2c8b9",
    "deepnote_cell_type": "markdown"
   },
   "source": [
    "# Application: Build a qualitative researcher & launch an interview\n",
    "This notebook uses EDSL to simulate qualitative research interviews. In a series of steps we construct an AI agent representing a qualitative researcher and launch an interview with specified topics and interview subjects."
   ]
  },
  {
   "cell_type": "markdown",
   "metadata": {},
   "source": [
    "[![Open In Colab](https://colab.research.google.com/assets/colab-badge.svg)](https://colab.research.google.com/github/expectedparrot/edsl/blob/main/docs/notebooks/qualitative_research.ipynb)"
   ]
  },
  {
   "cell_type": "code",
   "execution_count": 1,
   "metadata": {
    "cell_id": "767c37e6cfb74d65b32317731b0636b6",
    "deepnote_cell_type": "code"
   },
   "outputs": [],
   "source": [
    "# ! pip install edsl"
   ]
  },
  {
   "cell_type": "code",
   "execution_count": 2,
   "metadata": {
    "cell_id": "4739ffaef3b648a0becd6199543fd399",
    "deepnote_cell_type": "code",
    "deepnote_to_be_reexecuted": false,
    "execution_millis": 201,
    "execution_start": 1708272080711,
    "source_hash": null
   },
   "outputs": [],
   "source": [
    "from edsl import QuestionFreeText, Agent, Scenario, Model\n",
    "m = Model(\"gpt-4-1106-preview\")\n",
    "\n",
    "import textwrap\n",
    "from rich import print"
   ]
  },
  {
   "cell_type": "code",
   "execution_count": 3,
   "metadata": {
    "cell_id": "95bfaac1642a4bc6a705a75c4106026a",
    "deepnote_cell_type": "code",
    "deepnote_to_be_reexecuted": true,
    "execution_millis": 218,
    "execution_start": 1708093138429,
    "source_hash": null
   },
   "outputs": [],
   "source": [
    "def construct_subject(name, traits = {}):\n",
    "    return Agent(name = name, traits = traits)\n",
    " \n",
    "def construct_researcher(product, topics):\n",
    "    # Note we use an f-string to populate the background. \n",
    "    # This should probably be moved to the agent's instructions as a system prompt.\n",
    "    # Need to document Prompts! \n",
    "    background = textwrap.dedent(f\"\"\"\\\n",
    "    You are an expert qualitative researcher. \n",
    "    You are researching this product: {product}. \n",
    "    You are interested in conducting interviews to learn people's views on the following topics\n",
    "    relating to the product: {topics}. \n",
    "    You know to ask questions that are appropriate to the age and experience of an interview subject.\n",
    "    You know to not ask questions that an interview subject would not be able to answer, \n",
    "    e.g., if they are a young child, they probably will not be able to answer many questions about prices. \n",
    "    You ask excellent follow-up questions.    \n",
    "    \"\"\")\n",
    "    return Agent(traits = {'background': background})\n",
    "\n",
    "def get_next_question(subject, researcher, dialog_so_far):\n",
    "    scenario = Scenario({'subject': str(subject.traits), 'dialog_so_far': dialog_so_far})\n",
    "    meta_q = QuestionFreeText(\n",
    "        question_name = \"next_question\",\n",
    "        question_text = \"\"\"\n",
    "        These are the biographic details of the interview subject: {{ subject }}\n",
    "        This is your current dialog with the interview subject: {{ dialog_so_far }}\n",
    "        What question you would ask the interview subject next?\n",
    "        \"\"\"\n",
    "    )\n",
    "    question_text = meta_q.by(m).by(researcher).by(scenario).run().select(\"next_question\").first()\n",
    "    return question_text\n",
    "\n",
    "def get_response_to_question(question_text, subject, dialog_so_far):\n",
    "    q_to_subject = QuestionFreeText(\n",
    "        question_name = \"question\",\n",
    "        question_text = f\"\"\"\n",
    "        This is your current dialog with the interview subject: {dialog_so_far}. \n",
    "        You are now being asked:\"\"\" + question_text \n",
    "    )\n",
    "    response = q_to_subject.by(m).by(subject).run().select(\"question\").first() \n",
    "    return response\n",
    "\n",
    "def ask_question(subject, researcher, dialog_so_far):\n",
    "    question_text = get_next_question(subject, researcher, dialog_so_far)\n",
    "    response = get_response_to_question(question_text, subject, dialog_so_far)\n",
    "    return {\"question\": question_text, \"response\": response}\n",
    "\n",
    "def dialog_to_string(d):\n",
    "    return \"\\n\".join([f\"Question: {d['question']}\\nResponse: {d['response']}\" for d in d])"
   ]
  },
  {
   "cell_type": "code",
   "execution_count": 4,
   "metadata": {
    "cell_id": "813b9e678f204fef85740674b19d694b",
    "deepnote_cell_type": "code",
    "deepnote_to_be_reexecuted": true,
    "execution_millis": 10558,
    "execution_start": 1708093438416,
    "source_hash": null
   },
   "outputs": [
    {
     "data": {
      "text/html": [
       "<pre style=\"white-space:pre;overflow-x:auto;line-height:normal;font-family:Menlo,'DejaVu Sans Mono',consolas,'Courier New',monospace\"><span style=\"font-weight: bold\">{</span>\n",
       "    <span style=\"color: #008000; text-decoration-color: #008000\">'question'</span>: <span style=\"color: #008000; text-decoration-color: #008000\">'What kind of music do you like to listen to, and how do you usually listen to it? Do you use any </span>\n",
       "<span style=\"color: #008000; text-decoration-color: #008000\">apps or devices?'</span>,\n",
       "    <span style=\"color: #008000; text-decoration-color: #008000\">'response'</span>: <span style=\"color: #008000; text-decoration-color: #008000\">\"I really like listening to pop music and some K-pop too! It's super catchy and the dances are </span>\n",
       "<span style=\"color: #008000; text-decoration-color: #008000\">really cool. I usually listen to my music on my phone with headphones. My friends and I share playlists on Spotify,</span>\n",
       "<span style=\"color: #008000; text-decoration-color: #008000\">and sometimes I use YouTube to watch music videos, especially when I want to learn the dance moves!\"</span>\n",
       "<span style=\"font-weight: bold\">}</span>\n",
       "</pre>\n"
      ],
      "text/plain": [
       "\u001b[1m{\u001b[0m\n",
       "    \u001b[32m'question'\u001b[0m: \u001b[32m'What kind of music do you like to listen to, and how do you usually listen to it? Do you use any \u001b[0m\n",
       "\u001b[32mapps or devices?'\u001b[0m,\n",
       "    \u001b[32m'response'\u001b[0m: \u001b[32m\"I really like listening to pop music and some K-pop too! It's super catchy and the dances are \u001b[0m\n",
       "\u001b[32mreally cool. I usually listen to my music on my phone with headphones. My friends and I share playlists on Spotify,\u001b[0m\n",
       "\u001b[32mand sometimes I use YouTube to watch music videos, especially when I want to learn the dance moves!\"\u001b[0m\n",
       "\u001b[1m}\u001b[0m\n"
      ]
     },
     "metadata": {},
     "output_type": "display_data"
    }
   ],
   "source": [
    "subject = construct_subject(name = \"Alice\", traits = {'gender': \"female\", 'age': 12})\n",
    "researcher = construct_researcher(product = \"cassette tapes\", topics = \"technology, music\")\n",
    "result = ask_question(subject, researcher, \"\")\n",
    "print(result)"
   ]
  },
  {
   "cell_type": "code",
   "execution_count": 5,
   "metadata": {
    "cell_id": "20a3b3eb2ce941de9724cdd49af89f8a",
    "deepnote_cell_type": "code",
    "deepnote_to_be_reexecuted": true,
    "execution_millis": 114950,
    "execution_start": 1708093488533,
    "source_hash": null
   },
   "outputs": [
    {
     "data": {
      "text/html": [
       "<pre style=\"white-space:pre;overflow-x:auto;line-height:normal;font-family:Menlo,'DejaVu Sans Mono',consolas,'Courier New',monospace\"><span style=\"font-weight: bold\">{</span>\n",
       "    <span style=\"color: #008000; text-decoration-color: #008000\">'question'</span>: <span style=\"color: #008000; text-decoration-color: #008000\">'What kind of music do you like to listen to, and how do you usually listen to it? Do you use any </span>\n",
       "<span style=\"color: #008000; text-decoration-color: #008000\">apps or devices?'</span>,\n",
       "    <span style=\"color: #008000; text-decoration-color: #008000\">'response'</span>: <span style=\"color: #008000; text-decoration-color: #008000\">\"I really like listening to pop music and some K-pop too! It's super catchy and the dances are </span>\n",
       "<span style=\"color: #008000; text-decoration-color: #008000\">really cool. I usually listen to my music on my phone with headphones. My friends and I share playlists on Spotify,</span>\n",
       "<span style=\"color: #008000; text-decoration-color: #008000\">and sometimes I use YouTube to watch music videos, especially when I want to learn the dance moves!\"</span>\n",
       "<span style=\"font-weight: bold\">}</span>\n",
       "</pre>\n"
      ],
      "text/plain": [
       "\u001b[1m{\u001b[0m\n",
       "    \u001b[32m'question'\u001b[0m: \u001b[32m'What kind of music do you like to listen to, and how do you usually listen to it? Do you use any \u001b[0m\n",
       "\u001b[32mapps or devices?'\u001b[0m,\n",
       "    \u001b[32m'response'\u001b[0m: \u001b[32m\"I really like listening to pop music and some K-pop too! It's super catchy and the dances are \u001b[0m\n",
       "\u001b[32mreally cool. I usually listen to my music on my phone with headphones. My friends and I share playlists on Spotify,\u001b[0m\n",
       "\u001b[32mand sometimes I use YouTube to watch music videos, especially when I want to learn the dance moves!\"\u001b[0m\n",
       "\u001b[1m}\u001b[0m\n"
      ]
     },
     "metadata": {},
     "output_type": "display_data"
    },
    {
     "data": {
      "text/html": [
       "<pre style=\"white-space:pre;overflow-x:auto;line-height:normal;font-family:Menlo,'DejaVu Sans Mono',consolas,'Courier New',monospace\"><span style=\"font-weight: bold\">{</span>\n",
       "    <span style=\"color: #008000; text-decoration-color: #008000\">'question'</span>: <span style=\"color: #008000; text-decoration-color: #008000\">\"That's great! It sounds like you really enjoy the energy and visuals that come with pop and K-pop.</span>\n",
       "<span style=\"color: #008000; text-decoration-color: #008000\">Have you ever had the experience of listening to music on older formats like CD players or cassette tapes? If so, </span>\n",
       "<span style=\"color: #008000; text-decoration-color: #008000\">what did you think about that experience compared to using your phone and apps like Spotify and YouTube?\"</span>,\n",
       "    <span style=\"color: #008000; text-decoration-color: #008000\">'response'</span>: <span style=\"color: #008000; text-decoration-color: #008000\">\"Oh, I've never really used CD players or cassette tapes myself, but my parents have some old CDs </span>\n",
       "<span style=\"color: #008000; text-decoration-color: #008000\">and a tape player in the attic. They've shown me how they work once, and it was kind of cool, like a music time </span>\n",
       "<span style=\"color: #008000; text-decoration-color: #008000\">machine! But it's a lot more work to find the song you want, and you can’t make playlists as easily as on Spotify. </span>\n",
       "<span style=\"color: #008000; text-decoration-color: #008000\">I think using my phone is way more convenient because I can carry all my favorite songs with me and I don't have to</span>\n",
       "<span style=\"color: #008000; text-decoration-color: #008000\">carry around a bunch of CDs or tapes. Plus, on YouTube, I can see the music videos, and I don't think you can do </span>\n",
       "<span style=\"color: #008000; text-decoration-color: #008000\">that with CDs and tapes.\"</span>\n",
       "<span style=\"font-weight: bold\">}</span>\n",
       "</pre>\n"
      ],
      "text/plain": [
       "\u001b[1m{\u001b[0m\n",
       "    \u001b[32m'question'\u001b[0m: \u001b[32m\"That's great! It sounds like you really enjoy the energy and visuals that come with pop and K-pop.\u001b[0m\n",
       "\u001b[32mHave you ever had the experience of listening to music on older formats like CD players or cassette tapes? If so, \u001b[0m\n",
       "\u001b[32mwhat did you think about that experience compared to using your phone and apps like Spotify and YouTube?\"\u001b[0m,\n",
       "    \u001b[32m'response'\u001b[0m: \u001b[32m\"Oh, I've never really used CD players or cassette tapes myself, but my parents have some old CDs \u001b[0m\n",
       "\u001b[32mand a tape player in the attic. They've shown me how they work once, and it was kind of cool, like a music time \u001b[0m\n",
       "\u001b[32mmachine! But it's a lot more work to find the song you want, and you can’t make playlists as easily as on Spotify. \u001b[0m\n",
       "\u001b[32mI think using my phone is way more convenient because I can carry all my favorite songs with me and I don't have to\u001b[0m\n",
       "\u001b[32mcarry around a bunch of CDs or tapes. Plus, on YouTube, I can see the music videos, and I don't think you can do \u001b[0m\n",
       "\u001b[32mthat with CDs and tapes.\"\u001b[0m\n",
       "\u001b[1m}\u001b[0m\n"
      ]
     },
     "metadata": {},
     "output_type": "display_data"
    },
    {
     "data": {
      "text/html": [
       "<pre style=\"white-space:pre;overflow-x:auto;line-height:normal;font-family:Menlo,'DejaVu Sans Mono',consolas,'Courier New',monospace\"><span style=\"font-weight: bold\">{</span>\n",
       "    <span style=\"color: #008000; text-decoration-color: #008000\">'question'</span>: <span style=\"color: #008000; text-decoration-color: #008000\">\"It's fascinating to hear your perspective on the convenience of digital music platforms. Since you</span>\n",
       "<span style=\"color: #008000; text-decoration-color: #008000\">mentioned the idea of a 'music time machine,' I'm curious, do you feel like something is lost or gained in the way </span>\n",
       "<span style=\"color: #008000; text-decoration-color: #008000\">we experience music now, compared to the older formats like cassette tapes and CDs that your parents used? For </span>\n",
       "<span style=\"color: #008000; text-decoration-color: #008000\">example, the artwork, the physical collection, or maybe the anticipation of waiting for a song to come on?\"</span>,\n",
       "    <span style=\"color: #008000; text-decoration-color: #008000\">'response'</span>: <span style=\"color: #008000; text-decoration-color: #008000\">\"Yeah, I think there's something kind of special about the older ways of listening to music. Like, </span>\n",
       "<span style=\"color: #008000; text-decoration-color: #008000\">with CDs and tapes, you get to see the artwork on the cover and the little booklet inside that sometimes has the </span>\n",
       "<span style=\"color: #008000; text-decoration-color: #008000\">lyrics or pictures of the band. It's like having a little piece of the artist that you can hold onto. And I guess </span>\n",
       "<span style=\"color: #008000; text-decoration-color: #008000\">there's also that excitement when you're waiting for your favorite song to play on a tape or the radio, which you </span>\n",
       "<span style=\"color: #008000; text-decoration-color: #008000\">don't really get when you can just click and play any song instantly. But even though that stuff is cool, I still </span>\n",
       "<span style=\"color: #008000; text-decoration-color: #008000\">prefer being able to listen to music easily on my phone. It's just so much more convenient, and I can still see </span>\n",
       "<span style=\"color: #008000; text-decoration-color: #008000\">artwork and stuff online if I want to.\"</span>\n",
       "<span style=\"font-weight: bold\">}</span>\n",
       "</pre>\n"
      ],
      "text/plain": [
       "\u001b[1m{\u001b[0m\n",
       "    \u001b[32m'question'\u001b[0m: \u001b[32m\"It's fascinating to hear your perspective on the convenience of digital music platforms. Since you\u001b[0m\n",
       "\u001b[32mmentioned the idea of a 'music time machine,' I'm curious, do you feel like something is lost or gained in the way \u001b[0m\n",
       "\u001b[32mwe experience music now, compared to the older formats like cassette tapes and CDs that your parents used? For \u001b[0m\n",
       "\u001b[32mexample, the artwork, the physical collection, or maybe the anticipation of waiting for a song to come on?\"\u001b[0m,\n",
       "    \u001b[32m'response'\u001b[0m: \u001b[32m\"Yeah, I think there's something kind of special about the older ways of listening to music. Like, \u001b[0m\n",
       "\u001b[32mwith CDs and tapes, you get to see the artwork on the cover and the little booklet inside that sometimes has the \u001b[0m\n",
       "\u001b[32mlyrics or pictures of the band. It's like having a little piece of the artist that you can hold onto. And I guess \u001b[0m\n",
       "\u001b[32mthere's also that excitement when you're waiting for your favorite song to play on a tape or the radio, which you \u001b[0m\n",
       "\u001b[32mdon't really get when you can just click and play any song instantly. But even though that stuff is cool, I still \u001b[0m\n",
       "\u001b[32mprefer being able to listen to music easily on my phone. It's just so much more convenient, and I can still see \u001b[0m\n",
       "\u001b[32martwork and stuff online if I want to.\"\u001b[0m\n",
       "\u001b[1m}\u001b[0m\n"
      ]
     },
     "metadata": {},
     "output_type": "display_data"
    },
    {
     "data": {
      "text/html": [
       "<pre style=\"white-space:pre;overflow-x:auto;line-height:normal;font-family:Menlo,'DejaVu Sans Mono',consolas,'Courier New',monospace\"><span style=\"font-weight: bold\">{</span>\n",
       "    <span style=\"color: #008000; text-decoration-color: #008000\">'question'</span>: <span style=\"color: #008000; text-decoration-color: #008000\">\"You've given some thoughtful insights about the tangible aspects of older music formats. Given </span>\n",
       "<span style=\"color: #008000; text-decoration-color: #008000\">your appreciation for the artwork and the physical aspect of CDs and tapes, do you think you would enjoy collecting</span>\n",
       "<span style=\"color: #008000; text-decoration-color: #008000\">physical copies of music from your favorite artists, similar to how some people collect vinyl records as a hobby? </span>\n",
       "<span style=\"color: #008000; text-decoration-color: #008000\">Why or why not?\"</span>,\n",
       "    <span style=\"color: #008000; text-decoration-color: #008000\">'response'</span>: <span style=\"color: #008000; text-decoration-color: #008000\">\"I think it would be really cool to collect physical copies of music from my favorite artists! It's</span>\n",
       "<span style=\"color: #008000; text-decoration-color: #008000\">like having a piece of them and their art. Even though I love the convenience of digital music, having a special </span>\n",
       "<span style=\"color: #008000; text-decoration-color: #008000\">edition CD or a cool tape would be awesome because it's unique and has the artwork and maybe even some notes from </span>\n",
       "<span style=\"color: #008000; text-decoration-color: #008000\">the artists. It would be fun to have a collection to show to my friends and pass down later, kind of like a memory </span>\n",
       "<span style=\"color: #008000; text-decoration-color: #008000\">box of my favorite music. But I'd probably still listen to the music on my phone most of the time because it's </span>\n",
       "<span style=\"color: #008000; text-decoration-color: #008000\">easier. So, yeah, I would enjoy collecting them, but more as a hobby and not the main way I listen to music.\"</span>\n",
       "<span style=\"font-weight: bold\">}</span>\n",
       "</pre>\n"
      ],
      "text/plain": [
       "\u001b[1m{\u001b[0m\n",
       "    \u001b[32m'question'\u001b[0m: \u001b[32m\"You've given some thoughtful insights about the tangible aspects of older music formats. Given \u001b[0m\n",
       "\u001b[32myour appreciation for the artwork and the physical aspect of CDs and tapes, do you think you would enjoy collecting\u001b[0m\n",
       "\u001b[32mphysical copies of music from your favorite artists, similar to how some people collect vinyl records as a hobby? \u001b[0m\n",
       "\u001b[32mWhy or why not?\"\u001b[0m,\n",
       "    \u001b[32m'response'\u001b[0m: \u001b[32m\"I think it would be really cool to collect physical copies of music from my favorite artists! It's\u001b[0m\n",
       "\u001b[32mlike having a piece of them and their art. Even though I love the convenience of digital music, having a special \u001b[0m\n",
       "\u001b[32medition CD or a cool tape would be awesome because it's unique and has the artwork and maybe even some notes from \u001b[0m\n",
       "\u001b[32mthe artists. It would be fun to have a collection to show to my friends and pass down later, kind of like a memory \u001b[0m\n",
       "\u001b[32mbox of my favorite music. But I'd probably still listen to the music on my phone most of the time because it's \u001b[0m\n",
       "\u001b[32measier. So, yeah, I would enjoy collecting them, but more as a hobby and not the main way I listen to music.\"\u001b[0m\n",
       "\u001b[1m}\u001b[0m\n"
      ]
     },
     "metadata": {},
     "output_type": "display_data"
    },
    {
     "data": {
      "text/html": [
       "<pre style=\"white-space:pre;overflow-x:auto;line-height:normal;font-family:Menlo,'DejaVu Sans Mono',consolas,'Courier New',monospace\"><span style=\"font-weight: bold\">{</span>\n",
       "    <span style=\"color: #008000; text-decoration-color: #008000\">'question'</span>: <span style=\"color: #008000; text-decoration-color: #008000\">\"It's wonderful to hear that you see the value in both the convenience of digital music and the </span>\n",
       "<span style=\"color: #008000; text-decoration-color: #008000\">charm of physical collections. Considering your interest in possibly collecting CDs or tapes, how do you think your</span>\n",
       "<span style=\"color: #008000; text-decoration-color: #008000\">music listening experience might change if you had a collection of physical copies? Do you think you would engage </span>\n",
       "<span style=\"color: #008000; text-decoration-color: #008000\">with the music differently, perhaps by taking the time to sit and listen to an album all the way through, or by </span>\n",
       "<span style=\"color: #008000; text-decoration-color: #008000\">reading the liner notes and lyrics?\"</span>,\n",
       "    <span style=\"color: #008000; text-decoration-color: #008000\">'response'</span>: <span style=\"color: #008000; text-decoration-color: #008000\">\"If I had a collection of physical copies, I think my music listening experience would be a bit </span>\n",
       "<span style=\"color: #008000; text-decoration-color: #008000\">more intentional. I'd probably take the time to sit and really listen to an album from start to finish, which I </span>\n",
       "<span style=\"color: #008000; text-decoration-color: #008000\">don't do as much on my phone because I skip around a lot. Reading the liner notes and lyrics would be super cool </span>\n",
       "<span style=\"color: #008000; text-decoration-color: #008000\">too. It's like getting a behind-the-scenes look at what the artists were thinking. It would make me feel more </span>\n",
       "<span style=\"color: #008000; text-decoration-color: #008000\">connected to the music and the artists I love. Plus, it would be a fun way to spend time when I'm not on my phone </span>\n",
       "<span style=\"color: #008000; text-decoration-color: #008000\">or doing other activities.\"</span>\n",
       "<span style=\"font-weight: bold\">}</span>\n",
       "</pre>\n"
      ],
      "text/plain": [
       "\u001b[1m{\u001b[0m\n",
       "    \u001b[32m'question'\u001b[0m: \u001b[32m\"It's wonderful to hear that you see the value in both the convenience of digital music and the \u001b[0m\n",
       "\u001b[32mcharm of physical collections. Considering your interest in possibly collecting CDs or tapes, how do you think your\u001b[0m\n",
       "\u001b[32mmusic listening experience might change if you had a collection of physical copies? Do you think you would engage \u001b[0m\n",
       "\u001b[32mwith the music differently, perhaps by taking the time to sit and listen to an album all the way through, or by \u001b[0m\n",
       "\u001b[32mreading the liner notes and lyrics?\"\u001b[0m,\n",
       "    \u001b[32m'response'\u001b[0m: \u001b[32m\"If I had a collection of physical copies, I think my music listening experience would be a bit \u001b[0m\n",
       "\u001b[32mmore intentional. I'd probably take the time to sit and really listen to an album from start to finish, which I \u001b[0m\n",
       "\u001b[32mdon't do as much on my phone because I skip around a lot. Reading the liner notes and lyrics would be super cool \u001b[0m\n",
       "\u001b[32mtoo. It's like getting a behind-the-scenes look at what the artists were thinking. It would make me feel more \u001b[0m\n",
       "\u001b[32mconnected to the music and the artists I love. Plus, it would be a fun way to spend time when I'm not on my phone \u001b[0m\n",
       "\u001b[32mor doing other activities.\"\u001b[0m\n",
       "\u001b[1m}\u001b[0m\n"
      ]
     },
     "metadata": {},
     "output_type": "display_data"
    },
    {
     "data": {
      "text/html": [
       "<pre style=\"white-space:pre;overflow-x:auto;line-height:normal;font-family:Menlo,'DejaVu Sans Mono',consolas,'Courier New',monospace\"><span style=\"font-weight: bold\">[</span>\n",
       "    <span style=\"font-weight: bold\">{</span>\n",
       "        <span style=\"color: #008000; text-decoration-color: #008000\">'question'</span>: <span style=\"color: #008000; text-decoration-color: #008000\">'What kind of music do you like to listen to, and how do you usually listen to it? Do you use </span>\n",
       "<span style=\"color: #008000; text-decoration-color: #008000\">any apps or devices?'</span>,\n",
       "        <span style=\"color: #008000; text-decoration-color: #008000\">'response'</span>: <span style=\"color: #008000; text-decoration-color: #008000\">\"I really like listening to pop music and some K-pop too! It's super catchy and the dances are </span>\n",
       "<span style=\"color: #008000; text-decoration-color: #008000\">really cool. I usually listen to my music on my phone with headphones. My friends and I share playlists on Spotify,</span>\n",
       "<span style=\"color: #008000; text-decoration-color: #008000\">and sometimes I use YouTube to watch music videos, especially when I want to learn the dance moves!\"</span>\n",
       "    <span style=\"font-weight: bold\">}</span>,\n",
       "    <span style=\"font-weight: bold\">{</span>\n",
       "        <span style=\"color: #008000; text-decoration-color: #008000\">'question'</span>: <span style=\"color: #008000; text-decoration-color: #008000\">\"That's great! It sounds like you really enjoy the energy and visuals that come with pop and </span>\n",
       "<span style=\"color: #008000; text-decoration-color: #008000\">K-pop. Have you ever had the experience of listening to music on older formats like CD players or cassette tapes? </span>\n",
       "<span style=\"color: #008000; text-decoration-color: #008000\">If so, what did you think about that experience compared to using your phone and apps like Spotify and YouTube?\"</span>,\n",
       "        <span style=\"color: #008000; text-decoration-color: #008000\">'response'</span>: <span style=\"color: #008000; text-decoration-color: #008000\">\"Oh, I've never really used CD players or cassette tapes myself, but my parents have some old </span>\n",
       "<span style=\"color: #008000; text-decoration-color: #008000\">CDs and a tape player in the attic. They've shown me how they work once, and it was kind of cool, like a music time</span>\n",
       "<span style=\"color: #008000; text-decoration-color: #008000\">machine! But it's a lot more work to find the song you want, and you can’t make playlists as easily as on Spotify. </span>\n",
       "<span style=\"color: #008000; text-decoration-color: #008000\">I think using my phone is way more convenient because I can carry all my favorite songs with me and I don't have to</span>\n",
       "<span style=\"color: #008000; text-decoration-color: #008000\">carry around a bunch of CDs or tapes. Plus, on YouTube, I can see the music videos, and I don't think you can do </span>\n",
       "<span style=\"color: #008000; text-decoration-color: #008000\">that with CDs and tapes.\"</span>\n",
       "    <span style=\"font-weight: bold\">}</span>,\n",
       "    <span style=\"font-weight: bold\">{</span>\n",
       "        <span style=\"color: #008000; text-decoration-color: #008000\">'question'</span>: <span style=\"color: #008000; text-decoration-color: #008000\">\"It's fascinating to hear your perspective on the convenience of digital music platforms. Since</span>\n",
       "<span style=\"color: #008000; text-decoration-color: #008000\">you mentioned the idea of a 'music time machine,' I'm curious, do you feel like something is lost or gained in the </span>\n",
       "<span style=\"color: #008000; text-decoration-color: #008000\">way we experience music now, compared to the older formats like cassette tapes and CDs that your parents used? For </span>\n",
       "<span style=\"color: #008000; text-decoration-color: #008000\">example, the artwork, the physical collection, or maybe the anticipation of waiting for a song to come on?\"</span>,\n",
       "        <span style=\"color: #008000; text-decoration-color: #008000\">'response'</span>: <span style=\"color: #008000; text-decoration-color: #008000\">\"Yeah, I think there's something kind of special about the older ways of listening to music. </span>\n",
       "<span style=\"color: #008000; text-decoration-color: #008000\">Like, with CDs and tapes, you get to see the artwork on the cover and the little booklet inside that sometimes has </span>\n",
       "<span style=\"color: #008000; text-decoration-color: #008000\">the lyrics or pictures of the band. It's like having a little piece of the artist that you can hold onto. And I </span>\n",
       "<span style=\"color: #008000; text-decoration-color: #008000\">guess there's also that excitement when you're waiting for your favorite song to play on a tape or the radio, which</span>\n",
       "<span style=\"color: #008000; text-decoration-color: #008000\">you don't really get when you can just click and play any song instantly. But even though that stuff is cool, I </span>\n",
       "<span style=\"color: #008000; text-decoration-color: #008000\">still prefer being able to listen to music easily on my phone. It's just so much more convenient, and I can still </span>\n",
       "<span style=\"color: #008000; text-decoration-color: #008000\">see artwork and stuff online if I want to.\"</span>\n",
       "    <span style=\"font-weight: bold\">}</span>,\n",
       "    <span style=\"font-weight: bold\">{</span>\n",
       "        <span style=\"color: #008000; text-decoration-color: #008000\">'question'</span>: <span style=\"color: #008000; text-decoration-color: #008000\">\"You've given some thoughtful insights about the tangible aspects of older music formats. Given</span>\n",
       "<span style=\"color: #008000; text-decoration-color: #008000\">your appreciation for the artwork and the physical aspect of CDs and tapes, do you think you would enjoy collecting</span>\n",
       "<span style=\"color: #008000; text-decoration-color: #008000\">physical copies of music from your favorite artists, similar to how some people collect vinyl records as a hobby? </span>\n",
       "<span style=\"color: #008000; text-decoration-color: #008000\">Why or why not?\"</span>,\n",
       "        <span style=\"color: #008000; text-decoration-color: #008000\">'response'</span>: <span style=\"color: #008000; text-decoration-color: #008000\">\"I think it would be really cool to collect physical copies of music from my favorite artists! </span>\n",
       "<span style=\"color: #008000; text-decoration-color: #008000\">It's like having a piece of them and their art. Even though I love the convenience of digital music, having a </span>\n",
       "<span style=\"color: #008000; text-decoration-color: #008000\">special edition CD or a cool tape would be awesome because it's unique and has the artwork and maybe even some </span>\n",
       "<span style=\"color: #008000; text-decoration-color: #008000\">notes from the artists. It would be fun to have a collection to show to my friends and pass down later, kind of </span>\n",
       "<span style=\"color: #008000; text-decoration-color: #008000\">like a memory box of my favorite music. But I'd probably still listen to the music on my phone most of the time </span>\n",
       "<span style=\"color: #008000; text-decoration-color: #008000\">because it's easier. So, yeah, I would enjoy collecting them, but more as a hobby and not the main way I listen to </span>\n",
       "<span style=\"color: #008000; text-decoration-color: #008000\">music.\"</span>\n",
       "    <span style=\"font-weight: bold\">}</span>,\n",
       "    <span style=\"font-weight: bold\">{</span>\n",
       "        <span style=\"color: #008000; text-decoration-color: #008000\">'question'</span>: <span style=\"color: #008000; text-decoration-color: #008000\">\"It's wonderful to hear that you see the value in both the convenience of digital music and the</span>\n",
       "<span style=\"color: #008000; text-decoration-color: #008000\">charm of physical collections. Considering your interest in possibly collecting CDs or tapes, how do you think your</span>\n",
       "<span style=\"color: #008000; text-decoration-color: #008000\">music listening experience might change if you had a collection of physical copies? Do you think you would engage </span>\n",
       "<span style=\"color: #008000; text-decoration-color: #008000\">with the music differently, perhaps by taking the time to sit and listen to an album all the way through, or by </span>\n",
       "<span style=\"color: #008000; text-decoration-color: #008000\">reading the liner notes and lyrics?\"</span>,\n",
       "        <span style=\"color: #008000; text-decoration-color: #008000\">'response'</span>: <span style=\"color: #008000; text-decoration-color: #008000\">\"If I had a collection of physical copies, I think my music listening experience would be a bit</span>\n",
       "<span style=\"color: #008000; text-decoration-color: #008000\">more intentional. I'd probably take the time to sit and really listen to an album from start to finish, which I </span>\n",
       "<span style=\"color: #008000; text-decoration-color: #008000\">don't do as much on my phone because I skip around a lot. Reading the liner notes and lyrics would be super cool </span>\n",
       "<span style=\"color: #008000; text-decoration-color: #008000\">too. It's like getting a behind-the-scenes look at what the artists were thinking. It would make me feel more </span>\n",
       "<span style=\"color: #008000; text-decoration-color: #008000\">connected to the music and the artists I love. Plus, it would be a fun way to spend time when I'm not on my phone </span>\n",
       "<span style=\"color: #008000; text-decoration-color: #008000\">or doing other activities.\"</span>\n",
       "    <span style=\"font-weight: bold\">}</span>\n",
       "<span style=\"font-weight: bold\">]</span>\n",
       "</pre>\n"
      ],
      "text/plain": [
       "\u001b[1m[\u001b[0m\n",
       "    \u001b[1m{\u001b[0m\n",
       "        \u001b[32m'question'\u001b[0m: \u001b[32m'What kind of music do you like to listen to, and how do you usually listen to it? Do you use \u001b[0m\n",
       "\u001b[32many apps or devices?'\u001b[0m,\n",
       "        \u001b[32m'response'\u001b[0m: \u001b[32m\"I really like listening to pop music and some K-pop too! It's super catchy and the dances are \u001b[0m\n",
       "\u001b[32mreally cool. I usually listen to my music on my phone with headphones. My friends and I share playlists on Spotify,\u001b[0m\n",
       "\u001b[32mand sometimes I use YouTube to watch music videos, especially when I want to learn the dance moves!\"\u001b[0m\n",
       "    \u001b[1m}\u001b[0m,\n",
       "    \u001b[1m{\u001b[0m\n",
       "        \u001b[32m'question'\u001b[0m: \u001b[32m\"That's great! It sounds like you really enjoy the energy and visuals that come with pop and \u001b[0m\n",
       "\u001b[32mK-pop. Have you ever had the experience of listening to music on older formats like CD players or cassette tapes? \u001b[0m\n",
       "\u001b[32mIf so, what did you think about that experience compared to using your phone and apps like Spotify and YouTube?\"\u001b[0m,\n",
       "        \u001b[32m'response'\u001b[0m: \u001b[32m\"Oh, I've never really used CD players or cassette tapes myself, but my parents have some old \u001b[0m\n",
       "\u001b[32mCDs and a tape player in the attic. They've shown me how they work once, and it was kind of cool, like a music time\u001b[0m\n",
       "\u001b[32mmachine! But it's a lot more work to find the song you want, and you can’t make playlists as easily as on Spotify. \u001b[0m\n",
       "\u001b[32mI think using my phone is way more convenient because I can carry all my favorite songs with me and I don't have to\u001b[0m\n",
       "\u001b[32mcarry around a bunch of CDs or tapes. Plus, on YouTube, I can see the music videos, and I don't think you can do \u001b[0m\n",
       "\u001b[32mthat with CDs and tapes.\"\u001b[0m\n",
       "    \u001b[1m}\u001b[0m,\n",
       "    \u001b[1m{\u001b[0m\n",
       "        \u001b[32m'question'\u001b[0m: \u001b[32m\"It's fascinating to hear your perspective on the convenience of digital music platforms. Since\u001b[0m\n",
       "\u001b[32myou mentioned the idea of a 'music time machine,' I'm curious, do you feel like something is lost or gained in the \u001b[0m\n",
       "\u001b[32mway we experience music now, compared to the older formats like cassette tapes and CDs that your parents used? For \u001b[0m\n",
       "\u001b[32mexample, the artwork, the physical collection, or maybe the anticipation of waiting for a song to come on?\"\u001b[0m,\n",
       "        \u001b[32m'response'\u001b[0m: \u001b[32m\"Yeah, I think there's something kind of special about the older ways of listening to music. \u001b[0m\n",
       "\u001b[32mLike, with CDs and tapes, you get to see the artwork on the cover and the little booklet inside that sometimes has \u001b[0m\n",
       "\u001b[32mthe lyrics or pictures of the band. It's like having a little piece of the artist that you can hold onto. And I \u001b[0m\n",
       "\u001b[32mguess there's also that excitement when you're waiting for your favorite song to play on a tape or the radio, which\u001b[0m\n",
       "\u001b[32myou don't really get when you can just click and play any song instantly. But even though that stuff is cool, I \u001b[0m\n",
       "\u001b[32mstill prefer being able to listen to music easily on my phone. It's just so much more convenient, and I can still \u001b[0m\n",
       "\u001b[32msee artwork and stuff online if I want to.\"\u001b[0m\n",
       "    \u001b[1m}\u001b[0m,\n",
       "    \u001b[1m{\u001b[0m\n",
       "        \u001b[32m'question'\u001b[0m: \u001b[32m\"You've given some thoughtful insights about the tangible aspects of older music formats. Given\u001b[0m\n",
       "\u001b[32myour appreciation for the artwork and the physical aspect of CDs and tapes, do you think you would enjoy collecting\u001b[0m\n",
       "\u001b[32mphysical copies of music from your favorite artists, similar to how some people collect vinyl records as a hobby? \u001b[0m\n",
       "\u001b[32mWhy or why not?\"\u001b[0m,\n",
       "        \u001b[32m'response'\u001b[0m: \u001b[32m\"I think it would be really cool to collect physical copies of music from my favorite artists! \u001b[0m\n",
       "\u001b[32mIt's like having a piece of them and their art. Even though I love the convenience of digital music, having a \u001b[0m\n",
       "\u001b[32mspecial edition CD or a cool tape would be awesome because it's unique and has the artwork and maybe even some \u001b[0m\n",
       "\u001b[32mnotes from the artists. It would be fun to have a collection to show to my friends and pass down later, kind of \u001b[0m\n",
       "\u001b[32mlike a memory box of my favorite music. But I'd probably still listen to the music on my phone most of the time \u001b[0m\n",
       "\u001b[32mbecause it's easier. So, yeah, I would enjoy collecting them, but more as a hobby and not the main way I listen to \u001b[0m\n",
       "\u001b[32mmusic.\"\u001b[0m\n",
       "    \u001b[1m}\u001b[0m,\n",
       "    \u001b[1m{\u001b[0m\n",
       "        \u001b[32m'question'\u001b[0m: \u001b[32m\"It's wonderful to hear that you see the value in both the convenience of digital music and the\u001b[0m\n",
       "\u001b[32mcharm of physical collections. Considering your interest in possibly collecting CDs or tapes, how do you think your\u001b[0m\n",
       "\u001b[32mmusic listening experience might change if you had a collection of physical copies? Do you think you would engage \u001b[0m\n",
       "\u001b[32mwith the music differently, perhaps by taking the time to sit and listen to an album all the way through, or by \u001b[0m\n",
       "\u001b[32mreading the liner notes and lyrics?\"\u001b[0m,\n",
       "        \u001b[32m'response'\u001b[0m: \u001b[32m\"If I had a collection of physical copies, I think my music listening experience would be a bit\u001b[0m\n",
       "\u001b[32mmore intentional. I'd probably take the time to sit and really listen to an album from start to finish, which I \u001b[0m\n",
       "\u001b[32mdon't do as much on my phone because I skip around a lot. Reading the liner notes and lyrics would be super cool \u001b[0m\n",
       "\u001b[32mtoo. It's like getting a behind-the-scenes look at what the artists were thinking. It would make me feel more \u001b[0m\n",
       "\u001b[32mconnected to the music and the artists I love. Plus, it would be a fun way to spend time when I'm not on my phone \u001b[0m\n",
       "\u001b[32mor doing other activities.\"\u001b[0m\n",
       "    \u001b[1m}\u001b[0m\n",
       "\u001b[1m]\u001b[0m\n"
      ]
     },
     "metadata": {},
     "output_type": "display_data"
    }
   ],
   "source": [
    "dialog_so_far = []\n",
    "for i in range(5):\n",
    "    result = ask_question(subject, researcher, dialog_to_string(dialog_so_far))\n",
    "    print(result)\n",
    "    dialog_so_far.append(result)\n",
    "print(dialog_so_far)"
   ]
  },
  {
   "cell_type": "markdown",
   "metadata": {
    "cell_id": "d99c0db285324605b49badb331f95050",
    "deepnote_cell_type": "markdown"
   },
   "source": [
    "---\n",
    "<p style=\"font-size: 14px;\">Copyright © 2024 Expected Parrot, Inc. All rights reserved.   <a href=\"www.expectedparrot.com\" style=\"color:#130061\">www.expectedparrot.com</a></p>"
   ]
  }
 ],
 "metadata": {
  "deepnote_execution_queue": [],
  "deepnote_notebook_id": "756eb677bdb4427c8bc5da1777a603cf",
  "kernelspec": {
   "display_name": "Python 3 (ipykernel)",
   "language": "python",
   "name": "python3"
  },
  "language_info": {
   "codemirror_mode": {
    "name": "ipython",
    "version": 3
   },
   "file_extension": ".py",
   "mimetype": "text/x-python",
   "name": "python",
   "nbconvert_exporter": "python",
   "pygments_lexer": "ipython3",
   "version": "3.11.7"
  }
 },
 "nbformat": 4,
 "nbformat_minor": 4
}
