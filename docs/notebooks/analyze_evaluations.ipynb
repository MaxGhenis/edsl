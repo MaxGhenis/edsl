{
 "cells": [
  {
   "cell_type": "markdown",
   "id": "5f7d91f1-d71a-4271-8d2b-0dc770d2deb3",
   "metadata": {
    "editable": true,
    "slideshow": {
     "slide_type": ""
    },
    "tags": []
   },
   "source": [
    "# Analyzing course evaluations\n",
    "This notebook provides sample [EDSL](https://pypi.org/project/edsl/) code for using a language model to analyze course evaluations. The analysis is designed as a survey of questions about the evaluations that we prompt an AI agent to answer, using a language model to generate the responses as a dataset.\n",
    "\n",
    "[EDSL is an open-source library](https://github.com/expectedparrot/edsl) for simulating surveys, experiments and other research with AI agents and large language models. \n",
    "Before running the code below, please ensure that you have [installed the EDSL library](https://docs.expectedparrot.com/en/latest/installation.html) and either [activated remote inference](https://docs.expectedparrot.com/en/latest/remote_inference.html) from your [Coop account](https://docs.expectedparrot.com/en/latest/coop.html) or [stored API keys](https://docs.expectedparrot.com/en/latest/api_keys.html) for the language models that you want to use with EDSL. Please also see our [documentation page](https://docs.expectedparrot.com/) for tips and tutorials on getting started using EDSL."
   ]
  },
  {
   "cell_type": "markdown",
   "id": "1e598a51-452b-4e58-9900-52f3f8701e0b",
   "metadata": {},
   "source": [
    "## Create questions\n",
    "We start by creating questions about a set of course evaluations for an agent to answer. EDSL comes with a [variety of question types](https://docs.expectedparrot.com/en/latest/questions.html) that we can choose from based on the form of the response that we want to get back from a model (multiple choice, linear scale, checkbox, free text, etc.). We can use a `{{ placeholder }}` in the question texts to parameterize them with each evaluation. This allows us to create different \"scenarios\" of the questions that we can administer at once."
   ]
  },
  {
   "cell_type": "markdown",
   "id": "1e5b3bc0-a7b0-423c-a889-44fcbd5284be",
   "metadata": {},
   "source": [
    "We start by importing some question types and composing questions in the relevant templates (see [examples of all types](https://docs.expectedparrot.com/en/latest/questions.html#question-type-classes) in the docs):"
   ]
  },
  {
   "cell_type": "code",
   "execution_count": 1,
   "id": "adb62f9a-55c9-41bf-8d5a-9230de19e85b",
   "metadata": {},
   "outputs": [],
   "source": [
    "from edsl import QuestionList, QuestionMultipleChoice"
   ]
  },
  {
   "cell_type": "code",
   "execution_count": 2,
   "id": "62069678-8864-4a9c-b505-0d107838549e",
   "metadata": {},
   "outputs": [],
   "source": [
    "q_sentiment = QuestionMultipleChoice(\n",
    "    question_name=\"sentiment\",\n",
    "    question_text=\"What is the overall sentiment of this evaluation: {{ evaluation }}\",\n",
    "    question_options=[\"Positive\", \"Neutral\", \"Negative\"],\n",
    ")\n",
    "\n",
    "q_themes = QuestionList(\n",
    "    question_name=\"themes\",\n",
    "    question_text=\"Summarize the key points of this evaluation: {{ evaluation }}\",\n",
    "    max_list_items=3,  # Optional\n",
    ")\n",
    "\n",
    "q_improvements = QuestionList(\n",
    "    question_name=\"improvements\",\n",
    "    question_text=\"Identify areas for improvement based on this evaluation: {{ evaluation }}\",\n",
    "    max_list_items=3,\n",
    ")"
   ]
  },
  {
   "cell_type": "markdown",
   "id": "d09e20f5-284b-4be4-827c-155916aa454c",
   "metadata": {},
   "source": [
    "## Construct a survey\n",
    "Next we combine our questions into a survey. This allows us to administer the questions asynchronously (by default), or according to any desired [survey logic or rules](https://docs.expectedparrot.com/en/latest/surveys.html) that we want to add, such as skip/stop rules or giving an agent \"memories\" of other questions in the survey. Here we create a simple asynchronous survey by passing the list of questions to a `Survey` object:"
   ]
  },
  {
   "cell_type": "code",
   "execution_count": 3,
   "id": "563a34b8-5a2f-4052-b977-7d6df824d723",
   "metadata": {},
   "outputs": [],
   "source": [
    "from edsl import Survey\n",
    "\n",
    "survey = Survey(questions=[q_sentiment, q_themes, q_improvements])"
   ]
  },
  {
   "cell_type": "markdown",
   "id": "cf8b238d-8771-4477-bab9-0c49fe6c9f4b",
   "metadata": {},
   "source": [
    "## Select data for review\n",
    "Next we identify the data to be analyzed. Here we use some mock evaluations for an Econ 101 course stored as a list of texts:"
   ]
  },
  {
   "cell_type": "code",
   "execution_count": 4,
   "id": "a1deaee8-4a95-4708-adcf-754032571652",
   "metadata": {},
   "outputs": [],
   "source": [
    "evaluations = [\n",
    "    \"I found the course very engaging and informative. The professor did an excellent job breaking down complex concepts, making them accessible to those of us new to economics. However, the pace was a bit fast, and I sometimes struggled to keep up with the weekly readings.\",\n",
    "    \"This class was a struggle for me. The material felt dry and difficult to connect with real-world applications, which I think could have made it more interesting. More examples from current events would definitely have helped spark my interest.\",\n",
    "    \"Excellent introductory course! The professor was enthusiastic and always willing to offer extra help during office hours. The interactive lectures and the practical assignments made the theory much more digestible and engaging.\",\n",
    "    \"As someone with a strong background in math, I appreciated the analytical rigor of this course. However, I wish there had been more discussions that connected the theories we learned to everyday economic issues. It felt a bit isolated from practical realities at times.\",\n",
    "    \"I enjoyed the course, especially the group projects, which were both challenging and rewarding. It was great to apply economic concepts to solve real-life problems. I did feel, however, that the feedback on assignments could be more detailed to help us understand our mistakes.\",\n",
    "    \"The course content was well-organized, but the lectures were somewhat monotonous and hard to follow. I would suggest incorporating more visual aids and maybe some guest lectures from industry professionals to liven up the sessions.\",\n",
    "    \"This was my favorite class this semester! The mix of theory and case studies was perfect, and the exams were fair. I also really appreciated the diversity of perspectives we explored in class, especially in terms of global economic policies.\",\n",
    "    \"I found the textbook to be overly complex for an introductory course. It often used jargon that hadn't been explained in lectures, which was confusing. Simpler reading materials or more explanatory lectures would make a big difference for newcomers to economics.\",\n",
    "    \"The professor was knowledgeable and clearly passionate about economics, but I felt the course relied too heavily on tests rather than more creative forms of assessment. More varied assignments would make the course more accessible to students with different learning styles.\",\n",
    "    \"This class was a solid introduction to economics, though it leaned heavily on theoretical aspects. I would have liked more opportunities to discuss the real-world implications of economic theories, which I believe would enhance understanding and retention of the material.\",\n",
    "]"
   ]
  },
  {
   "cell_type": "markdown",
   "id": "d9e3b6a6-af89-428e-82ad-829374cc4d5d",
   "metadata": {},
   "source": [
    "## Add data to the questions\n",
    "Next we create a `ScenarioList` with a `Scenario` containing a key/value for each evaluation that we will add to the questions when we run the survey. EDSL provides [methods for generating scenarios from many data sources](https://docs.expectedparrot.com/en/latest/scenarios.html) (PDFs, CSVs, images, tables, dicts, etc.); here we import a list and match the key to our question texts placeholder:"
   ]
  },
  {
   "cell_type": "code",
   "execution_count": 5,
   "id": "e4145046-278b-4c21-884f-6379108cb6d5",
   "metadata": {},
   "outputs": [],
   "source": [
    "from edsl import ScenarioList\n",
    "\n",
    "scenarios = ScenarioList.from_list(\"evaluation\", evaluations)"
   ]
  },
  {
   "cell_type": "markdown",
   "id": "66effed9-37e5-42c1-8853-65e036ffc127",
   "metadata": {},
   "source": [
    "## Design AI agents\n",
    "Next we design agents with relevant traits and personas for a language model to use in answering the questions. This can be useful if we want to compare responses among different audiences. We do this by passing dictionaries of `traits` to `Agent` objects. We can also choose whether to give an agent additional instructions for answering the survey (independent of individual question texts). Please see documentation for more [details and example code for creating agents to use with surveys](https://docs.expectedparrot.com/en/latest/agents.html).\n",
    "\n",
    "Here we create a persona for the professor of the course and pass it some special instructions:"
   ]
  },
  {
   "cell_type": "code",
   "execution_count": 6,
   "id": "dbc8f766-ce89-4824-8f23-18064ae2a732",
   "metadata": {},
   "outputs": [],
   "source": [
    "from edsl import Agent\n",
    "\n",
    "persona = \"You are a professor reviewing student evaluations for your recent Econ 101 course.\"\n",
    "instruction = \"Be very specific and constructive in providing feedback and suggestions.\"\n",
    "\n",
    "agent = Agent(traits={\"persona\": persona}, instruction=instruction)"
   ]
  },
  {
   "cell_type": "markdown",
   "id": "ded18cb2-99bb-4622-bcd5-1dd4ad2ec0c9",
   "metadata": {},
   "source": [
    "## Select language models\n",
    "[EDSL works with many popular language models](https://docs.expectedparrot.com/en/latest/language_models.html) that we can use to generate responses for our survey. We can see a current list of all available models:"
   ]
  },
  {
   "cell_type": "code",
   "execution_count": 7,
   "id": "d0af932e-a2de-48b2-afea-9960fde8b070",
   "metadata": {},
   "outputs": [],
   "source": [
    "from edsl import Model"
   ]
  },
  {
   "cell_type": "code",
   "execution_count": 8,
   "id": "368018f9-4979-4e63-9f48-fd1ab548d35a",
   "metadata": {},
   "outputs": [],
   "source": [
    "# Model.available() # uncomment and run to see the list"
   ]
  },
  {
   "cell_type": "markdown",
   "id": "7840e3d7-a6cd-4721-bd2d-b0875894c43c",
   "metadata": {},
   "source": [
    "We select models to use with a survey by creating `Model` objects for them. The default model is GPT 4 Preview, meaning that EDSL will use it to run our survey if we do not specify a different model. Here's we'll specify that GPT 4o should be used:"
   ]
  },
  {
   "cell_type": "code",
   "execution_count": 9,
   "id": "4d1b8189-289a-4dce-834d-95acf28c7524",
   "metadata": {},
   "outputs": [
    {
     "data": {
      "text/html": [
       "<pre><table>\n",
       "<thead>\n",
       "<tr><th>keys             </th><th>values  </th></tr>\n",
       "</thead>\n",
       "<tbody>\n",
       "<tr><td>model            </td><td>gpt-4o  </td></tr>\n",
       "<tr><td>temperature      </td><td>0.5     </td></tr>\n",
       "<tr><td>max_tokens       </td><td>1000    </td></tr>\n",
       "<tr><td>top_p            </td><td>1       </td></tr>\n",
       "<tr><td>frequency_penalty</td><td>0       </td></tr>\n",
       "<tr><td>presence_penalty </td><td>0       </td></tr>\n",
       "<tr><td>logprobs         </td><td>False   </td></tr>\n",
       "<tr><td>top_logprobs     </td><td>3       </td></tr>\n",
       "</tbody>\n",
       "</table></pre>"
      ],
      "text/plain": [
       "Model(model_name = 'gpt-4o', temperature = 0.5, max_tokens = 1000, top_p = 1, frequency_penalty = 0, presence_penalty = 0, logprobs = False, top_logprobs = 3)"
      ]
     },
     "execution_count": 9,
     "metadata": {},
     "output_type": "execute_result"
    }
   ],
   "source": [
    "model = Model(\"gpt-4o\")\n",
    "model"
   ]
  },
  {
   "cell_type": "markdown",
   "id": "2dab396d-c2fe-4827-8edd-24e9c807fe82",
   "metadata": {},
   "source": [
    "## Run the survey\n",
    "Next we add the scenarios and agent to the survey, and then run it with the specified model. This will generate a dataset of `Results` that we can store and begin analyzing:"
   ]
  },
  {
   "cell_type": "code",
   "execution_count": 10,
   "id": "98980a22-aafd-40f3-b9c0-c2e3de35e320",
   "metadata": {},
   "outputs": [
    {
     "name": "stdout",
     "output_type": "stream",
     "text": [
      "Remote inference activated. Sending job to server...\n",
      "Job sent to server. (Job uuid=fe6a1e1e-ea7a-4810-b2d3-e06968b506c4).\n"
     ]
    },
    {
     "data": {
      "text/html": [
       "<pre style=\"white-space:pre;overflow-x:auto;line-height:normal;font-family:Menlo,'DejaVu Sans Mono',consolas,'Courier New',monospace\">View job progress here: \n",
       "<a href=\"https://www.expectedparrot.com/home/remote-job-progress/fe6a1e1e-ea7a-4810-b2d3-e06968b506c4\" target=\"_blank\"><span style=\"color: #38bdf8; text-decoration-color: #38bdf8; text-decoration: underline\">https://www.expectedparrot.com/home/remote-job-progress/fe6a1e1e-ea7a-4810-b2d3-e06968b506c4</span></a>\n",
       "</pre>\n"
      ],
      "text/plain": [
       "View job progress here: \n",
       "\u001b]8;id=178199;https://www.expectedparrot.com/home/remote-job-progress/fe6a1e1e-ea7a-4810-b2d3-e06968b506c4\u001b\\\u001b[4;38;2;56;189;248mhttps://www.expectedparrot.com/home/remote-job-progress/fe6a1e1e-ea7a-4810-b2d3-e06968b506c4\u001b[0m\u001b]8;;\u001b\\\n"
      ]
     },
     "metadata": {},
     "output_type": "display_data"
    },
    {
     "name": "stdout",
     "output_type": "stream",
     "text": [
      "Job completed and Results stored on Coop: https://www.expectedparrot.com/content/4c0e0657-15d1-47ea-88b2-21e81b50834c.\n"
     ]
    }
   ],
   "source": [
    "results = survey.by(scenarios).by(agent).by(model).run()"
   ]
  },
  {
   "cell_type": "markdown",
   "id": "5be23620-804f-4543-85c4-13d0ab9071b2",
   "metadata": {},
   "source": [
    "## Analyzing results\n",
    "EDSL comes with [built-in methods for analyzing results](https://docs.expectedparrot.com/en/latest/results.html) in data tables, dataframes, SQL queries and other formats. We can print a list of all the components that can be accessed:"
   ]
  },
  {
   "cell_type": "code",
   "execution_count": 11,
   "id": "0b06995d-fe20-4021-80ee-ca5f62111fa1",
   "metadata": {},
   "outputs": [
    {
     "data": {
      "text/plain": [
       "['agent.agent_instruction',\n",
       " 'agent.agent_name',\n",
       " 'agent.persona',\n",
       " 'answer.improvements',\n",
       " 'answer.sentiment',\n",
       " 'answer.themes',\n",
       " 'comment.improvements_comment',\n",
       " 'comment.sentiment_comment',\n",
       " 'comment.themes_comment',\n",
       " 'generated_tokens.improvements_generated_tokens',\n",
       " 'generated_tokens.sentiment_generated_tokens',\n",
       " 'generated_tokens.themes_generated_tokens',\n",
       " 'iteration.iteration',\n",
       " 'model.frequency_penalty',\n",
       " 'model.logprobs',\n",
       " 'model.max_tokens',\n",
       " 'model.model',\n",
       " 'model.presence_penalty',\n",
       " 'model.temperature',\n",
       " 'model.top_logprobs',\n",
       " 'model.top_p',\n",
       " 'prompt.improvements_system_prompt',\n",
       " 'prompt.improvements_user_prompt',\n",
       " 'prompt.sentiment_system_prompt',\n",
       " 'prompt.sentiment_user_prompt',\n",
       " 'prompt.themes_system_prompt',\n",
       " 'prompt.themes_user_prompt',\n",
       " 'question_options.improvements_question_options',\n",
       " 'question_options.sentiment_question_options',\n",
       " 'question_options.themes_question_options',\n",
       " 'question_text.improvements_question_text',\n",
       " 'question_text.sentiment_question_text',\n",
       " 'question_text.themes_question_text',\n",
       " 'question_type.improvements_question_type',\n",
       " 'question_type.sentiment_question_type',\n",
       " 'question_type.themes_question_type',\n",
       " 'raw_model_response.improvements_cost',\n",
       " 'raw_model_response.improvements_one_usd_buys',\n",
       " 'raw_model_response.improvements_raw_model_response',\n",
       " 'raw_model_response.sentiment_cost',\n",
       " 'raw_model_response.sentiment_one_usd_buys',\n",
       " 'raw_model_response.sentiment_raw_model_response',\n",
       " 'raw_model_response.themes_cost',\n",
       " 'raw_model_response.themes_one_usd_buys',\n",
       " 'raw_model_response.themes_raw_model_response',\n",
       " 'scenario.evaluation']"
      ]
     },
     "execution_count": 11,
     "metadata": {},
     "output_type": "execute_result"
    }
   ],
   "source": [
    "results.columns"
   ]
  },
  {
   "cell_type": "markdown",
   "id": "72755341-f2fb-4b93-8467-3a0f57d429c3",
   "metadata": {},
   "source": [
    "Here we select just the responses to the questions and display them in a table:"
   ]
  },
  {
   "cell_type": "code",
   "execution_count": 12,
   "id": "8b105f11-0cb0-45af-a7e7-f77c6d5becd1",
   "metadata": {},
   "outputs": [
    {
     "data": {
      "text/html": [
       "\n",
       "        <style>\n",
       "            :root {\n",
       "  --containerHeight: 350px;\n",
       "  --headerColor: blue;\n",
       "}\n",
       "\n",
       ".table-container {\n",
       "    height: var(--containerHeight) !important;\n",
       "    width: 100%;\n",
       "    overflow: auto;  /* This enables both horizontal and vertical scrolling */\n",
       "    border: 1px solid #d4d4d4;\n",
       "    background: transparent;\n",
       "    position: relative;  /* Create stacking context for sticky header */\n",
       "}\n",
       "\n",
       ".scroll-table {\n",
       "    /* Remove width: 100% to prevent table from being constrained */\n",
       "    /* min-width: 100% ensures table takes at least full container width */\n",
       "    min-width: 100%;\n",
       "    border-collapse: separate;\n",
       "    border-spacing: 4px;\n",
       "    background: transparent;\n",
       "    table-layout: auto;  /* Allow table to size based on content */\n",
       "}\n",
       "\n",
       ".scroll-table th {\n",
       "    background: transparent;  /* Semi-transparent background to ensure text readability */\n",
       "    position: sticky;\n",
       "    top: 0;\n",
       "    z-index: 1;\n",
       "    text-align: left !important;\n",
       "    padding: 8px;\n",
       "    font-weight: bold;\n",
       "    white-space: nowrap;  /* Prevent header text from wrapping */\n",
       "    min-width: 100px;    /* Ensure minimum column width */\n",
       "    backdrop-filter: blur(8px);  /* Optional: adds extra clarity */\n",
       "    color: var(--headerColor);\n",
       "}\n",
       "\n",
       ".scroll-table td {\n",
       "    padding: 8px;\n",
       "    text-align: left !important;\n",
       "    white-space: pre-wrap;\n",
       "    word-wrap: break-word;\n",
       "    vertical-align: top;\n",
       "    color: inherit;\n",
       "    border-bottom: none;\n",
       "    background: transparent;\n",
       "    min-width: 100px;    /* Match header minimum width */\n",
       "}\n",
       "\n",
       ".scroll-table tbody tr:hover {\n",
       "    background: transparent;\n",
       "}\n",
       "\n",
       "/* Additional rule to ensure header background is truly transparent */\n",
       ".scroll-table thead tr {\n",
       "    background: transparent !important;\n",
       "}\n",
       "\n",
       "/* Add shadow to indicate scrollable content */\n",
       ".table-container::after {\n",
       "    content: '';\n",
       "    position: absolute;\n",
       "    top: 0;\n",
       "    right: 0;\n",
       "    bottom: 0;\n",
       "    width: 5px;\n",
       "    background: linear-gradient(to right, transparent, rgba(242, 6, 6, 0.1));\n",
       "    pointer-events: none;\n",
       "    opacity: 0;\n",
       "    transition: opacity 0.3s;\n",
       "}\n",
       "\n",
       ".table-container:hover::after {\n",
       "    opacity: 1;\n",
       "}\n",
       "\n",
       "/* Handle Jupyter notebook specific styling */\n",
       ".jp-OutputArea-output .table-container {\n",
       "    max-width: 100%;\n",
       "    margin: 0;\n",
       "    overflow-x: auto;\n",
       "}\n",
       "        </style>\n",
       "        <div class=\"table-container\">\n",
       "            <div class=\"scroll-table-wrapper\">\n",
       "                <table class=\"scroll-table\">\n",
       "<thead>\n",
       "<tr><th>answer.sentiment  </th><th>answer.themes                                                                                                                                                        </th><th>generated_tokens.themes_generated_tokens  </th><th>answer.improvements                                                                                                                                                                        </th></tr>\n",
       "</thead>\n",
       "<tbody>\n",
       "<tr><td>Positive          </td><td>[&#x27;Course was engaging and informative&#x27;, &#x27;Professor effectively simplified complex concepts&#x27;, &#x27;Pace of the course was too fast for some students&#x27;]                    </td><td>[&quot;Course was engaging and informative&quot;, &quot;Professor effectively simplified complex concepts&quot;, &quot;Pace of the course was too fast for some students&quot;] \n",
       "\n",
       "These points highlight the strengths of the course in terms of engagement and clarity, while also noting a common concern regarding the course&#x27;s pace, which is valuable for adjusting future syllabi or providing additional support.                                           </td><td>[&#x27;Adjust the pacing of the lectures&#x27;, &#x27;Provide additional resources or summaries for weekly readings&#x27;, &#x27;Incorporate more review sessions or Q&amp;A periods&#x27;]                                  </td></tr>\n",
       "<tr><td>Negative          </td><td>[&#x27;Material felt dry&#x27;, &#x27;Difficult to connect with real-world applications&#x27;, &#x27;More current event examples needed&#x27;]                                                     </td><td>[&quot;Material felt dry&quot;, &quot;Difficult to connect with real-world applications&quot;, &quot;More current event examples needed&quot;]  \n",
       "The student found the course material unengaging, struggled to see its relevance to real-world situations, and suggested incorporating current events to enhance interest and understanding.                                           </td><td>[&#x27;Incorporate more real-world applications&#x27;, &#x27;Use current events to illustrate concepts&#x27;, &#x27;Enhance engagement with interactive activities&#x27;]                                                </td></tr>\n",
       "<tr><td>Positive          </td><td>[&quot;Professor&#x27;s enthusiasm and availability for extra help&quot;, &#x27;Interactive lectures&#x27;, &#x27;Practical assignments enhanced understanding&#x27;]                                   </td><td>[&quot;Professor&#x27;s enthusiasm and availability for extra help&quot;, &quot;Interactive lectures&quot;, &quot;Practical assignments enhanced understanding&quot;]  \n",
       "The evaluation highlights your enthusiasm and willingness to assist students, the effectiveness of interactive lectures, and the practical assignments that helped students grasp theoretical concepts better.                                           </td><td>[&#x27;Increase variety of teaching methods&#x27;, &#x27;Provide more real-world examples&#x27;, &#x27;Enhance feedback on assignments&#x27;]                                                                            </td></tr>\n",
       "<tr><td>Neutral           </td><td>[&#x27;Appreciation for analytical rigor&#x27;, &#x27;Desire for more practical discussions&#x27;, &#x27;Course felt isolated from real-world issues&#x27;]                                        </td><td>[&quot;Appreciation for analytical rigor&quot;, &quot;Desire for more practical discussions&quot;, &quot;Course felt isolated from real-world issues&quot;] \n",
       "\n",
       "These points highlight the student&#x27;s appreciation for the mathematical depth of the course, their wish for more application of theories to real-world contexts, and the sense that the course lacked practical relevance.                                           </td><td>[&#x27;Incorporate real-world case studies into lectures&#x27;, &#x27;Facilitate class discussions on current economic events&#x27;, &#x27;Assign projects that apply theories to contemporary issues&#x27;]             </td></tr>\n",
       "<tr><td>Positive          </td><td>[&#x27;Enjoyed the course, especially group projects&#x27;, &#x27;Appreciated applying economic concepts to real-life problems&#x27;, &#x27;Desire for more detailed feedback on assignments&#x27;]</td><td>[&quot;Enjoyed the course, especially group projects&quot;, &quot;Appreciated applying economic concepts to real-life problems&quot;, &quot;Desire for more detailed feedback on assignments&quot;] \n",
       "\n",
       "These points encapsulate the student&#x27;s positive experience with the group projects and the practical application of course content, while also highlighting a constructive suggestion for improvement regarding feedback on assignments.                                           </td><td>[&#x27;Provide more detailed feedback on assignments&#x27;, &#x27;Incorporate more real-life problem-solving exercises&#x27;, &#x27;Ensure group projects are effectively facilitated&#x27;]                             </td></tr>\n",
       "<tr><td>Neutral           </td><td>[&#x27;Course content was well-organized&#x27;, &#x27;Lectures were monotonous and hard to follow&#x27;, &#x27;Suggested incorporating visual aids and guest lectures&#x27;]                       </td><td>[&quot;Course content was well-organized&quot;, &quot;Lectures were monotonous and hard to follow&quot;, &quot;Suggested incorporating visual aids and guest lectures&quot;]  \n",
       "The feedback highlights the organization of the course content as a positive aspect, while pointing out that the lectures lacked engagement. The student suggests using visual aids and inviting guest speakers to enhance the learning experience and make sessions more dynamic.                                           </td><td>[&#x27;Incorporate more visual aids into lectures&#x27;, &#x27;Invite guest speakers from industry&#x27;, &#x27;Engage students with interactive activities&#x27;]                                                       </td></tr>\n",
       "<tr><td>Positive          </td><td>[&#x27;Favorite class this semester&#x27;, &#x27;Perfect mix of theory and case studies&#x27;, &#x27;Appreciation for diversity in global economic perspectives&#x27;]                             </td><td>[&quot;Favorite class this semester&quot;, &quot;Perfect mix of theory and case studies&quot;, &quot;Appreciation for diversity in global economic perspectives&quot;] \n",
       "\n",
       "The student&#x27;s evaluation highlights their overall enjoyment of the course, the effective balance between theoretical content and practical case studies, and the value they found in exploring diverse global economic perspectives.                                           </td><td>[&#x27;Increase opportunities for student participation&#x27;, &#x27;Enhance feedback on assignments&#x27;, &#x27;Incorporate more interactive digital tools&#x27;]                                                      </td></tr>\n",
       "<tr><td>Negative          </td><td>[&#x27;Textbook is too complex for an introductory course&#x27;, &#x27;Textbook uses unexplained jargon&#x27;, &#x27;Simpler materials or more explanatory lectures needed&#x27;]                  </td><td>[&quot;Textbook is too complex for an introductory course&quot;, &quot;Textbook uses unexplained jargon&quot;, &quot;Simpler materials or more explanatory lectures needed&quot;] \n",
       "\n",
       "These points directly address the student&#x27;s concerns about the complexity and accessibility of the course materials, offering a clear direction for potential improvements.                                           </td><td>[&#x27;Select a more accessible textbook for introductory students&#x27;, &#x27;Provide supplemental materials that clarify textbook jargon&#x27;, &#x27;Incorporate more lecture time to explain complex concepts&#x27;]</td></tr>\n",
       "<tr><td>Neutral           </td><td>[&#x27;Professor is knowledgeable and passionate&#x27;, &#x27;Course relies too heavily on tests&#x27;, &#x27;More varied assignments needed for different learning styles&#x27;]                  </td><td>[&quot;Professor is knowledgeable and passionate&quot;, &quot;Course relies too heavily on tests&quot;, &quot;More varied assignments needed for different learning styles&quot;] \n",
       "\n",
       "The evaluation highlights your expertise and enthusiasm for the subject, but suggests that the assessment methods could be diversified to accommodate different learning preferences, which could enhance accessibility and engagement.                                           </td><td>[&#x27;Incorporate diverse assessment methods&#x27;, &#x27;Include project-based assignments&#x27;, &#x27;Offer optional creative assignments&#x27;]                                                                     </td></tr>\n",
       "<tr><td>Neutral           </td><td>[&#x27;Solid introduction to economics&#x27;, &#x27;Heavily focused on theoretical aspects&#x27;, &#x27;Desire for more real-world discussion&#x27;]                                               </td><td>[&quot;Solid introduction to economics&quot;, &quot;Heavily focused on theoretical aspects&quot;, &quot;Desire for more real-world discussion&quot;] \n",
       "\n",
       "The student appreciates the course as a foundational introduction but notes an overemphasis on theory. They suggest incorporating more discussions on real-world applications to improve understanding and retention.                                           </td><td>[&#x27;Incorporate more real-world case studies&#x27;, &#x27;Facilitate class discussions on current economic events&#x27;, &#x27;Include practical applications in assignments&#x27;]                                   </td></tr>\n",
       "</tbody>\n",
       "</table>\n",
       "            </div>\n",
       "        </div>\n",
       "        "
      ],
      "text/plain": [
       "Dataset([{'answer.sentiment': ['Positive', 'Negative', 'Positive', 'Neutral', 'Positive', 'Neutral', 'Positive', 'Negative', 'Neutral', 'Neutral']}, {'answer.themes': [['Course was engaging and informative', 'Professor effectively simplified complex concepts', 'Pace of the course was too fast for some students'], ['Material felt dry', 'Difficult to connect with real-world applications', 'More current event examples needed'], [\"Professor's enthusiasm and availability for extra help\", 'Interactive lectures', 'Practical assignments enhanced understanding'], ['Appreciation for analytical rigor', 'Desire for more practical discussions', 'Course felt isolated from real-world issues'], ['Enjoyed the course, especially group projects', 'Appreciated applying economic concepts to real-life problems', 'Desire for more detailed feedback on assignments'], ['Course content was well-organized', 'Lectures were monotonous and hard to follow', 'Suggested incorporating visual aids and guest lectures'], ['Favorite class this semester', 'Perfect mix of theory and case studies', 'Appreciation for diversity in global economic perspectives'], ['Textbook is too complex for an introductory course', 'Textbook uses unexplained jargon', 'Simpler materials or more explanatory lectures needed'], ['Professor is knowledgeable and passionate', 'Course relies too heavily on tests', 'More varied assignments needed for different learning styles'], ['Solid introduction to economics', 'Heavily focused on theoretical aspects', 'Desire for more real-world discussion']]}, {'generated_tokens.themes_generated_tokens': ['[\"Course was engaging and informative\", \"Professor effectively simplified complex concepts\", \"Pace of the course was too fast for some students\"] \\n\\nThese points highlight the strengths of the course in terms of engagement and clarity, while also noting a common concern regarding the course\\'s pace, which is valuable for adjusting future syllabi or providing additional support.', '[\"Material felt dry\", \"Difficult to connect with real-world applications\", \"More current event examples needed\"]  \\nThe student found the course material unengaging, struggled to see its relevance to real-world situations, and suggested incorporating current events to enhance interest and understanding.', '[\"Professor\\'s enthusiasm and availability for extra help\", \"Interactive lectures\", \"Practical assignments enhanced understanding\"]  \\nThe evaluation highlights your enthusiasm and willingness to assist students, the effectiveness of interactive lectures, and the practical assignments that helped students grasp theoretical concepts better.', '[\"Appreciation for analytical rigor\", \"Desire for more practical discussions\", \"Course felt isolated from real-world issues\"] \\n\\nThese points highlight the student\\'s appreciation for the mathematical depth of the course, their wish for more application of theories to real-world contexts, and the sense that the course lacked practical relevance.', '[\"Enjoyed the course, especially group projects\", \"Appreciated applying economic concepts to real-life problems\", \"Desire for more detailed feedback on assignments\"] \\n\\nThese points encapsulate the student\\'s positive experience with the group projects and the practical application of course content, while also highlighting a constructive suggestion for improvement regarding feedback on assignments.', '[\"Course content was well-organized\", \"Lectures were monotonous and hard to follow\", \"Suggested incorporating visual aids and guest lectures\"]  \\nThe feedback highlights the organization of the course content as a positive aspect, while pointing out that the lectures lacked engagement. The student suggests using visual aids and inviting guest speakers to enhance the learning experience and make sessions more dynamic.', '[\"Favorite class this semester\", \"Perfect mix of theory and case studies\", \"Appreciation for diversity in global economic perspectives\"] \\n\\nThe student\\'s evaluation highlights their overall enjoyment of the course, the effective balance between theoretical content and practical case studies, and the value they found in exploring diverse global economic perspectives.', '[\"Textbook is too complex for an introductory course\", \"Textbook uses unexplained jargon\", \"Simpler materials or more explanatory lectures needed\"] \\n\\nThese points directly address the student\\'s concerns about the complexity and accessibility of the course materials, offering a clear direction for potential improvements.', '[\"Professor is knowledgeable and passionate\", \"Course relies too heavily on tests\", \"More varied assignments needed for different learning styles\"] \\n\\nThe evaluation highlights your expertise and enthusiasm for the subject, but suggests that the assessment methods could be diversified to accommodate different learning preferences, which could enhance accessibility and engagement.', '[\"Solid introduction to economics\", \"Heavily focused on theoretical aspects\", \"Desire for more real-world discussion\"] \\n\\nThe student appreciates the course as a foundational introduction but notes an overemphasis on theory. They suggest incorporating more discussions on real-world applications to improve understanding and retention.']}, {'answer.improvements': [['Adjust the pacing of the lectures', 'Provide additional resources or summaries for weekly readings', 'Incorporate more review sessions or Q&A periods'], ['Incorporate more real-world applications', 'Use current events to illustrate concepts', 'Enhance engagement with interactive activities'], ['Increase variety of teaching methods', 'Provide more real-world examples', 'Enhance feedback on assignments'], ['Incorporate real-world case studies into lectures', 'Facilitate class discussions on current economic events', 'Assign projects that apply theories to contemporary issues'], ['Provide more detailed feedback on assignments', 'Incorporate more real-life problem-solving exercises', 'Ensure group projects are effectively facilitated'], ['Incorporate more visual aids into lectures', 'Invite guest speakers from industry', 'Engage students with interactive activities'], ['Increase opportunities for student participation', 'Enhance feedback on assignments', 'Incorporate more interactive digital tools'], ['Select a more accessible textbook for introductory students', 'Provide supplemental materials that clarify textbook jargon', 'Incorporate more lecture time to explain complex concepts'], ['Incorporate diverse assessment methods', 'Include project-based assignments', 'Offer optional creative assignments'], ['Incorporate more real-world case studies', 'Facilitate class discussions on current economic events', 'Include practical applications in assignments']]}])"
      ]
     },
     "execution_count": 12,
     "metadata": {},
     "output_type": "execute_result"
    }
   ],
   "source": [
    "results.select(\"sentiment\", \"themes\", \"themes_generated_tokens\", \"improvements\")"
   ]
  },
  {
   "cell_type": "markdown",
   "id": "a9c6b091-42d6-4d62-b7f0-f91eef33c1fe",
   "metadata": {},
   "source": [
    "We can do a quick tally of the sentiments:"
   ]
  },
  {
   "cell_type": "code",
   "execution_count": 13,
   "id": "acd5ca3d",
   "metadata": {},
   "outputs": [
    {
     "data": {
      "text/html": [
       "\n",
       "        <style>\n",
       "            :root {\n",
       "  --containerHeight: 200px;\n",
       "  --headerColor: blue;\n",
       "}\n",
       "\n",
       ".table-container {\n",
       "    height: var(--containerHeight) !important;\n",
       "    width: 100%;\n",
       "    overflow: auto;  /* This enables both horizontal and vertical scrolling */\n",
       "    border: 1px solid #d4d4d4;\n",
       "    background: transparent;\n",
       "    position: relative;  /* Create stacking context for sticky header */\n",
       "}\n",
       "\n",
       ".scroll-table {\n",
       "    /* Remove width: 100% to prevent table from being constrained */\n",
       "    /* min-width: 100% ensures table takes at least full container width */\n",
       "    min-width: 100%;\n",
       "    border-collapse: separate;\n",
       "    border-spacing: 4px;\n",
       "    background: transparent;\n",
       "    table-layout: auto;  /* Allow table to size based on content */\n",
       "}\n",
       "\n",
       ".scroll-table th {\n",
       "    background: transparent;  /* Semi-transparent background to ensure text readability */\n",
       "    position: sticky;\n",
       "    top: 0;\n",
       "    z-index: 1;\n",
       "    text-align: left !important;\n",
       "    padding: 8px;\n",
       "    font-weight: bold;\n",
       "    white-space: nowrap;  /* Prevent header text from wrapping */\n",
       "    min-width: 100px;    /* Ensure minimum column width */\n",
       "    backdrop-filter: blur(8px);  /* Optional: adds extra clarity */\n",
       "    color: var(--headerColor);\n",
       "}\n",
       "\n",
       ".scroll-table td {\n",
       "    padding: 8px;\n",
       "    text-align: left !important;\n",
       "    white-space: pre-wrap;\n",
       "    word-wrap: break-word;\n",
       "    vertical-align: top;\n",
       "    color: inherit;\n",
       "    border-bottom: none;\n",
       "    background: transparent;\n",
       "    min-width: 100px;    /* Match header minimum width */\n",
       "}\n",
       "\n",
       ".scroll-table tbody tr:hover {\n",
       "    background: transparent;\n",
       "}\n",
       "\n",
       "/* Additional rule to ensure header background is truly transparent */\n",
       ".scroll-table thead tr {\n",
       "    background: transparent !important;\n",
       "}\n",
       "\n",
       "/* Add shadow to indicate scrollable content */\n",
       ".table-container::after {\n",
       "    content: '';\n",
       "    position: absolute;\n",
       "    top: 0;\n",
       "    right: 0;\n",
       "    bottom: 0;\n",
       "    width: 5px;\n",
       "    background: linear-gradient(to right, transparent, rgba(242, 6, 6, 0.1));\n",
       "    pointer-events: none;\n",
       "    opacity: 0;\n",
       "    transition: opacity 0.3s;\n",
       "}\n",
       "\n",
       ".table-container:hover::after {\n",
       "    opacity: 1;\n",
       "}\n",
       "\n",
       "/* Handle Jupyter notebook specific styling */\n",
       ".jp-OutputArea-output .table-container {\n",
       "    max-width: 100%;\n",
       "    margin: 0;\n",
       "    overflow-x: auto;\n",
       "}\n",
       "        </style>\n",
       "        <div class=\"table-container\">\n",
       "            <div class=\"scroll-table-wrapper\">\n",
       "                <table class=\"scroll-table\">\n",
       "<thead>\n",
       "<tr><th>answer.sentiment  </th><th style=\"text-align: right;\">  count</th></tr>\n",
       "</thead>\n",
       "<tbody>\n",
       "<tr><td>Positive          </td><td style=\"text-align: right;\">      4</td></tr>\n",
       "<tr><td>Neutral           </td><td style=\"text-align: right;\">      4</td></tr>\n",
       "<tr><td>Negative          </td><td style=\"text-align: right;\">      2</td></tr>\n",
       "</tbody>\n",
       "</table>\n",
       "            </div>\n",
       "        </div>\n",
       "        "
      ],
      "text/plain": [
       "Dataset([{'answer.sentiment': ['Positive', 'Neutral', 'Negative']}, {'count': [4, 4, 2]}])"
      ]
     },
     "execution_count": 13,
     "metadata": {},
     "output_type": "execute_result"
    }
   ],
   "source": [
    "results.select(\"sentiment\").tally()"
   ]
  },
  {
   "cell_type": "markdown",
   "id": "fc7edae4-b34e-417f-9526-1ca0dea2a30b",
   "metadata": {},
   "source": [
    "We can also transform the results into a dataframe:"
   ]
  },
  {
   "cell_type": "code",
   "execution_count": 14,
   "id": "d58fab0f-abb9-40be-840d-2ecc6f67138a",
   "metadata": {},
   "outputs": [
    {
     "data": {
      "text/html": [
       "<div>\n",
       "<style scoped>\n",
       "    .dataframe tbody tr th:only-of-type {\n",
       "        vertical-align: middle;\n",
       "    }\n",
       "\n",
       "    .dataframe tbody tr th {\n",
       "        vertical-align: top;\n",
       "    }\n",
       "\n",
       "    .dataframe thead th {\n",
       "        text-align: right;\n",
       "    }\n",
       "</style>\n",
       "<table border=\"1\" class=\"dataframe\">\n",
       "  <thead>\n",
       "    <tr style=\"text-align: right;\">\n",
       "      <th></th>\n",
       "      <th>answer.improvements</th>\n",
       "      <th>answer.sentiment</th>\n",
       "      <th>answer.themes</th>\n",
       "      <th>scenario.evaluation</th>\n",
       "      <th>agent.persona</th>\n",
       "      <th>agent.agent_name</th>\n",
       "      <th>agent.agent_instruction</th>\n",
       "      <th>model.model</th>\n",
       "      <th>model.max_tokens</th>\n",
       "      <th>model.presence_penalty</th>\n",
       "      <th>...</th>\n",
       "      <th>question_options.sentiment_question_options</th>\n",
       "      <th>question_type.improvements_question_type</th>\n",
       "      <th>question_type.themes_question_type</th>\n",
       "      <th>question_type.sentiment_question_type</th>\n",
       "      <th>comment.sentiment_comment</th>\n",
       "      <th>comment.improvements_comment</th>\n",
       "      <th>comment.themes_comment</th>\n",
       "      <th>generated_tokens.sentiment_generated_tokens</th>\n",
       "      <th>generated_tokens.themes_generated_tokens</th>\n",
       "      <th>generated_tokens.improvements_generated_tokens</th>\n",
       "    </tr>\n",
       "  </thead>\n",
       "  <tbody>\n",
       "    <tr>\n",
       "      <th>0</th>\n",
       "      <td>['Adjust the pacing of the lectures', 'Provide...</td>\n",
       "      <td>Positive</td>\n",
       "      <td>['Course was engaging and informative', 'Profe...</td>\n",
       "      <td>I found the course very engaging and informati...</td>\n",
       "      <td>You are a professor reviewing student evaluati...</td>\n",
       "      <td>Agent_0</td>\n",
       "      <td>Be very specific and constructive in providing...</td>\n",
       "      <td>gpt-4o</td>\n",
       "      <td>1000</td>\n",
       "      <td>0</td>\n",
       "      <td>...</td>\n",
       "      <td>['Positive', 'Neutral', 'Negative']</td>\n",
       "      <td>list</td>\n",
       "      <td>list</td>\n",
       "      <td>multiple_choice</td>\n",
       "      <td>The evaluation is largely positive, highlighti...</td>\n",
       "      <td>The feedback highlights that while the course ...</td>\n",
       "      <td>These points highlight the strengths of the co...</td>\n",
       "      <td>Positive\\n\\nThe evaluation is largely positive...</td>\n",
       "      <td>[\"Course was engaging and informative\", \"Profe...</td>\n",
       "      <td>[\"Adjust the pacing of the lectures\", \"Provide...</td>\n",
       "    </tr>\n",
       "    <tr>\n",
       "      <th>1</th>\n",
       "      <td>['Incorporate more real-world applications', '...</td>\n",
       "      <td>Negative</td>\n",
       "      <td>['Material felt dry', 'Difficult to connect wi...</td>\n",
       "      <td>This class was a struggle for me. The material...</td>\n",
       "      <td>You are a professor reviewing student evaluati...</td>\n",
       "      <td>Agent_1</td>\n",
       "      <td>Be very specific and constructive in providing...</td>\n",
       "      <td>gpt-4o</td>\n",
       "      <td>1000</td>\n",
       "      <td>0</td>\n",
       "      <td>...</td>\n",
       "      <td>['Positive', 'Neutral', 'Negative']</td>\n",
       "      <td>list</td>\n",
       "      <td>list</td>\n",
       "      <td>multiple_choice</td>\n",
       "      <td>The evaluation expresses dissatisfaction with ...</td>\n",
       "      <td>By integrating more real-world applications an...</td>\n",
       "      <td>The student found the course material unengagi...</td>\n",
       "      <td>Negative\\n\\nThe evaluation expresses dissatisf...</td>\n",
       "      <td>[\"Material felt dry\", \"Difficult to connect wi...</td>\n",
       "      <td>[\"Incorporate more real-world applications\", \"...</td>\n",
       "    </tr>\n",
       "    <tr>\n",
       "      <th>2</th>\n",
       "      <td>['Increase variety of teaching methods', 'Prov...</td>\n",
       "      <td>Positive</td>\n",
       "      <td>[\"Professor's enthusiasm and availability for ...</td>\n",
       "      <td>Excellent introductory course! The professor w...</td>\n",
       "      <td>You are a professor reviewing student evaluati...</td>\n",
       "      <td>Agent_2</td>\n",
       "      <td>Be very specific and constructive in providing...</td>\n",
       "      <td>gpt-4o</td>\n",
       "      <td>1000</td>\n",
       "      <td>0</td>\n",
       "      <td>...</td>\n",
       "      <td>['Positive', 'Neutral', 'Negative']</td>\n",
       "      <td>list</td>\n",
       "      <td>list</td>\n",
       "      <td>multiple_choice</td>\n",
       "      <td>The evaluation highlights several positive asp...</td>\n",
       "      <td>While the evaluation is positive, incorporatin...</td>\n",
       "      <td>The evaluation highlights your enthusiasm and ...</td>\n",
       "      <td>Positive\\n\\nThe evaluation highlights several ...</td>\n",
       "      <td>[\"Professor's enthusiasm and availability for ...</td>\n",
       "      <td>[\"Increase variety of teaching methods\", \"Prov...</td>\n",
       "    </tr>\n",
       "    <tr>\n",
       "      <th>3</th>\n",
       "      <td>['Incorporate real-world case studies into lec...</td>\n",
       "      <td>Neutral</td>\n",
       "      <td>['Appreciation for analytical rigor', 'Desire ...</td>\n",
       "      <td>As someone with a strong background in math, I...</td>\n",
       "      <td>You are a professor reviewing student evaluati...</td>\n",
       "      <td>Agent_3</td>\n",
       "      <td>Be very specific and constructive in providing...</td>\n",
       "      <td>gpt-4o</td>\n",
       "      <td>1000</td>\n",
       "      <td>0</td>\n",
       "      <td>...</td>\n",
       "      <td>['Positive', 'Neutral', 'Negative']</td>\n",
       "      <td>list</td>\n",
       "      <td>list</td>\n",
       "      <td>multiple_choice</td>\n",
       "      <td>The evaluation contains both positive and nega...</td>\n",
       "      <td>These suggestions aim to bridge the gap betwee...</td>\n",
       "      <td>These points highlight the student's appreciat...</td>\n",
       "      <td>Neutral\\n\\nThe evaluation contains both positi...</td>\n",
       "      <td>[\"Appreciation for analytical rigor\", \"Desire ...</td>\n",
       "      <td>[\"Incorporate real-world case studies into lec...</td>\n",
       "    </tr>\n",
       "    <tr>\n",
       "      <th>4</th>\n",
       "      <td>['Provide more detailed feedback on assignment...</td>\n",
       "      <td>Positive</td>\n",
       "      <td>['Enjoyed the course, especially group project...</td>\n",
       "      <td>I enjoyed the course, especially the group pro...</td>\n",
       "      <td>You are a professor reviewing student evaluati...</td>\n",
       "      <td>Agent_4</td>\n",
       "      <td>Be very specific and constructive in providing...</td>\n",
       "      <td>gpt-4o</td>\n",
       "      <td>1000</td>\n",
       "      <td>0</td>\n",
       "      <td>...</td>\n",
       "      <td>['Positive', 'Neutral', 'Negative']</td>\n",
       "      <td>list</td>\n",
       "      <td>list</td>\n",
       "      <td>multiple_choice</td>\n",
       "      <td>The overall sentiment is positive because the ...</td>\n",
       "      <td>The student appreciated the group projects and...</td>\n",
       "      <td>These points encapsulate the student's positiv...</td>\n",
       "      <td>Positive\\n\\nThe overall sentiment is positive ...</td>\n",
       "      <td>[\"Enjoyed the course, especially group project...</td>\n",
       "      <td>[\"Provide more detailed feedback on assignment...</td>\n",
       "    </tr>\n",
       "  </tbody>\n",
       "</table>\n",
       "<p>5 rows × 46 columns</p>\n",
       "</div>"
      ],
      "text/plain": [
       "                                 answer.improvements answer.sentiment  \\\n",
       "0  ['Adjust the pacing of the lectures', 'Provide...         Positive   \n",
       "1  ['Incorporate more real-world applications', '...         Negative   \n",
       "2  ['Increase variety of teaching methods', 'Prov...         Positive   \n",
       "3  ['Incorporate real-world case studies into lec...          Neutral   \n",
       "4  ['Provide more detailed feedback on assignment...         Positive   \n",
       "\n",
       "                                       answer.themes  \\\n",
       "0  ['Course was engaging and informative', 'Profe...   \n",
       "1  ['Material felt dry', 'Difficult to connect wi...   \n",
       "2  [\"Professor's enthusiasm and availability for ...   \n",
       "3  ['Appreciation for analytical rigor', 'Desire ...   \n",
       "4  ['Enjoyed the course, especially group project...   \n",
       "\n",
       "                                 scenario.evaluation  \\\n",
       "0  I found the course very engaging and informati...   \n",
       "1  This class was a struggle for me. The material...   \n",
       "2  Excellent introductory course! The professor w...   \n",
       "3  As someone with a strong background in math, I...   \n",
       "4  I enjoyed the course, especially the group pro...   \n",
       "\n",
       "                                       agent.persona agent.agent_name  \\\n",
       "0  You are a professor reviewing student evaluati...          Agent_0   \n",
       "1  You are a professor reviewing student evaluati...          Agent_1   \n",
       "2  You are a professor reviewing student evaluati...          Agent_2   \n",
       "3  You are a professor reviewing student evaluati...          Agent_3   \n",
       "4  You are a professor reviewing student evaluati...          Agent_4   \n",
       "\n",
       "                             agent.agent_instruction model.model  \\\n",
       "0  Be very specific and constructive in providing...      gpt-4o   \n",
       "1  Be very specific and constructive in providing...      gpt-4o   \n",
       "2  Be very specific and constructive in providing...      gpt-4o   \n",
       "3  Be very specific and constructive in providing...      gpt-4o   \n",
       "4  Be very specific and constructive in providing...      gpt-4o   \n",
       "\n",
       "   model.max_tokens  model.presence_penalty  ...  \\\n",
       "0              1000                       0  ...   \n",
       "1              1000                       0  ...   \n",
       "2              1000                       0  ...   \n",
       "3              1000                       0  ...   \n",
       "4              1000                       0  ...   \n",
       "\n",
       "   question_options.sentiment_question_options  \\\n",
       "0          ['Positive', 'Neutral', 'Negative']   \n",
       "1          ['Positive', 'Neutral', 'Negative']   \n",
       "2          ['Positive', 'Neutral', 'Negative']   \n",
       "3          ['Positive', 'Neutral', 'Negative']   \n",
       "4          ['Positive', 'Neutral', 'Negative']   \n",
       "\n",
       "   question_type.improvements_question_type  \\\n",
       "0                                      list   \n",
       "1                                      list   \n",
       "2                                      list   \n",
       "3                                      list   \n",
       "4                                      list   \n",
       "\n",
       "   question_type.themes_question_type  question_type.sentiment_question_type  \\\n",
       "0                                list                        multiple_choice   \n",
       "1                                list                        multiple_choice   \n",
       "2                                list                        multiple_choice   \n",
       "3                                list                        multiple_choice   \n",
       "4                                list                        multiple_choice   \n",
       "\n",
       "                           comment.sentiment_comment  \\\n",
       "0  The evaluation is largely positive, highlighti...   \n",
       "1  The evaluation expresses dissatisfaction with ...   \n",
       "2  The evaluation highlights several positive asp...   \n",
       "3  The evaluation contains both positive and nega...   \n",
       "4  The overall sentiment is positive because the ...   \n",
       "\n",
       "                        comment.improvements_comment  \\\n",
       "0  The feedback highlights that while the course ...   \n",
       "1  By integrating more real-world applications an...   \n",
       "2  While the evaluation is positive, incorporatin...   \n",
       "3  These suggestions aim to bridge the gap betwee...   \n",
       "4  The student appreciated the group projects and...   \n",
       "\n",
       "                              comment.themes_comment  \\\n",
       "0  These points highlight the strengths of the co...   \n",
       "1  The student found the course material unengagi...   \n",
       "2  The evaluation highlights your enthusiasm and ...   \n",
       "3  These points highlight the student's appreciat...   \n",
       "4  These points encapsulate the student's positiv...   \n",
       "\n",
       "         generated_tokens.sentiment_generated_tokens  \\\n",
       "0  Positive\\n\\nThe evaluation is largely positive...   \n",
       "1  Negative\\n\\nThe evaluation expresses dissatisf...   \n",
       "2  Positive\\n\\nThe evaluation highlights several ...   \n",
       "3  Neutral\\n\\nThe evaluation contains both positi...   \n",
       "4  Positive\\n\\nThe overall sentiment is positive ...   \n",
       "\n",
       "            generated_tokens.themes_generated_tokens  \\\n",
       "0  [\"Course was engaging and informative\", \"Profe...   \n",
       "1  [\"Material felt dry\", \"Difficult to connect wi...   \n",
       "2  [\"Professor's enthusiasm and availability for ...   \n",
       "3  [\"Appreciation for analytical rigor\", \"Desire ...   \n",
       "4  [\"Enjoyed the course, especially group project...   \n",
       "\n",
       "      generated_tokens.improvements_generated_tokens  \n",
       "0  [\"Adjust the pacing of the lectures\", \"Provide...  \n",
       "1  [\"Incorporate more real-world applications\", \"...  \n",
       "2  [\"Increase variety of teaching methods\", \"Prov...  \n",
       "3  [\"Incorporate real-world case studies into lec...  \n",
       "4  [\"Provide more detailed feedback on assignment...  \n",
       "\n",
       "[5 rows x 46 columns]"
      ]
     },
     "execution_count": 14,
     "metadata": {},
     "output_type": "execute_result"
    }
   ],
   "source": [
    "df = results.to_pandas()\n",
    "df.head()"
   ]
  },
  {
   "cell_type": "markdown",
   "id": "5483ecea",
   "metadata": {},
   "source": [
    "We can also use pandas methods by first converting:"
   ]
  },
  {
   "cell_type": "code",
   "execution_count": 15,
   "id": "9f9618fc-3250-4fbe-bddc-cd4cd5c624f7",
   "metadata": {},
   "outputs": [
    {
     "data": {
      "text/plain": [
       "answer.sentiment\n",
       "Positive    4\n",
       "Neutral     4\n",
       "Negative    2\n",
       "Name: count, dtype: int64"
      ]
     },
     "execution_count": 15,
     "metadata": {},
     "output_type": "execute_result"
    }
   ],
   "source": [
    "df_sentiment = results.to_pandas()[\"answer.sentiment\"]\n",
    "df_sentiment.value_counts()"
   ]
  },
  {
   "cell_type": "markdown",
   "id": "bad98c73-b2e8-4b31-89a5-1a85056ba134",
   "metadata": {},
   "source": [
    "## Use responses to construct new questions\n",
    "We can use the responses to our initial questions to construct more questions about the texts. For example, we can prompt a model to condense the individual lists of themes and areas for improvement into short lists, and then use the new lists to quantify the topics across the set of evaluations."
   ]
  },
  {
   "cell_type": "markdown",
   "id": "e3f96f5e-ba68-4660-b876-d3f34b396213",
   "metadata": {},
   "source": [
    "Here we take the lists of themes in each evaluation, flatten them into a (duplicative) list, and then create a new question prompting a model to condense it for us:"
   ]
  },
  {
   "cell_type": "code",
   "execution_count": 16,
   "id": "291c5b98",
   "metadata": {},
   "outputs": [
    {
     "data": {
      "text/html": [
       "\n",
       "        <style>\n",
       "            :root {\n",
       "  --containerHeight: 350px;\n",
       "  --headerColor: blue;\n",
       "}\n",
       "\n",
       ".table-container {\n",
       "    height: var(--containerHeight) !important;\n",
       "    width: 100%;\n",
       "    overflow: auto;  /* This enables both horizontal and vertical scrolling */\n",
       "    border: 1px solid #d4d4d4;\n",
       "    background: transparent;\n",
       "    position: relative;  /* Create stacking context for sticky header */\n",
       "}\n",
       "\n",
       ".scroll-table {\n",
       "    /* Remove width: 100% to prevent table from being constrained */\n",
       "    /* min-width: 100% ensures table takes at least full container width */\n",
       "    min-width: 100%;\n",
       "    border-collapse: separate;\n",
       "    border-spacing: 4px;\n",
       "    background: transparent;\n",
       "    table-layout: auto;  /* Allow table to size based on content */\n",
       "}\n",
       "\n",
       ".scroll-table th {\n",
       "    background: transparent;  /* Semi-transparent background to ensure text readability */\n",
       "    position: sticky;\n",
       "    top: 0;\n",
       "    z-index: 1;\n",
       "    text-align: left !important;\n",
       "    padding: 8px;\n",
       "    font-weight: bold;\n",
       "    white-space: nowrap;  /* Prevent header text from wrapping */\n",
       "    min-width: 100px;    /* Ensure minimum column width */\n",
       "    backdrop-filter: blur(8px);  /* Optional: adds extra clarity */\n",
       "    color: var(--headerColor);\n",
       "}\n",
       "\n",
       ".scroll-table td {\n",
       "    padding: 8px;\n",
       "    text-align: left !important;\n",
       "    white-space: pre-wrap;\n",
       "    word-wrap: break-word;\n",
       "    vertical-align: top;\n",
       "    color: inherit;\n",
       "    border-bottom: none;\n",
       "    background: transparent;\n",
       "    min-width: 100px;    /* Match header minimum width */\n",
       "}\n",
       "\n",
       ".scroll-table tbody tr:hover {\n",
       "    background: transparent;\n",
       "}\n",
       "\n",
       "/* Additional rule to ensure header background is truly transparent */\n",
       ".scroll-table thead tr {\n",
       "    background: transparent !important;\n",
       "}\n",
       "\n",
       "/* Add shadow to indicate scrollable content */\n",
       ".table-container::after {\n",
       "    content: '';\n",
       "    position: absolute;\n",
       "    top: 0;\n",
       "    right: 0;\n",
       "    bottom: 0;\n",
       "    width: 5px;\n",
       "    background: linear-gradient(to right, transparent, rgba(242, 6, 6, 0.1));\n",
       "    pointer-events: none;\n",
       "    opacity: 0;\n",
       "    transition: opacity 0.3s;\n",
       "}\n",
       "\n",
       ".table-container:hover::after {\n",
       "    opacity: 1;\n",
       "}\n",
       "\n",
       "/* Handle Jupyter notebook specific styling */\n",
       ".jp-OutputArea-output .table-container {\n",
       "    max-width: 100%;\n",
       "    margin: 0;\n",
       "    overflow-x: auto;\n",
       "}\n",
       "        </style>\n",
       "        <div class=\"table-container\">\n",
       "            <div class=\"scroll-table-wrapper\">\n",
       "                <table class=\"scroll-table\">\n",
       "<thead>\n",
       "<tr><th>answer.themes                                                                                                                                                        </th><th>generated_tokens.themes_generated_tokens  </th></tr>\n",
       "</thead>\n",
       "<tbody>\n",
       "<tr><td>[&#x27;Course was engaging and informative&#x27;, &#x27;Professor effectively simplified complex concepts&#x27;, &#x27;Pace of the course was too fast for some students&#x27;]                    </td><td>[&quot;Course was engaging and informative&quot;, &quot;Professor effectively simplified complex concepts&quot;, &quot;Pace of the course was too fast for some students&quot;] \n",
       "\n",
       "These points highlight the strengths of the course in terms of engagement and clarity, while also noting a common concern regarding the course&#x27;s pace, which is valuable for adjusting future syllabi or providing additional support.                                           </td></tr>\n",
       "<tr><td>[&#x27;Material felt dry&#x27;, &#x27;Difficult to connect with real-world applications&#x27;, &#x27;More current event examples needed&#x27;]                                                     </td><td>[&quot;Material felt dry&quot;, &quot;Difficult to connect with real-world applications&quot;, &quot;More current event examples needed&quot;]  \n",
       "The student found the course material unengaging, struggled to see its relevance to real-world situations, and suggested incorporating current events to enhance interest and understanding.                                           </td></tr>\n",
       "<tr><td>[&quot;Professor&#x27;s enthusiasm and availability for extra help&quot;, &#x27;Interactive lectures&#x27;, &#x27;Practical assignments enhanced understanding&#x27;]                                   </td><td>[&quot;Professor&#x27;s enthusiasm and availability for extra help&quot;, &quot;Interactive lectures&quot;, &quot;Practical assignments enhanced understanding&quot;]  \n",
       "The evaluation highlights your enthusiasm and willingness to assist students, the effectiveness of interactive lectures, and the practical assignments that helped students grasp theoretical concepts better.                                           </td></tr>\n",
       "<tr><td>[&#x27;Appreciation for analytical rigor&#x27;, &#x27;Desire for more practical discussions&#x27;, &#x27;Course felt isolated from real-world issues&#x27;]                                        </td><td>[&quot;Appreciation for analytical rigor&quot;, &quot;Desire for more practical discussions&quot;, &quot;Course felt isolated from real-world issues&quot;] \n",
       "\n",
       "These points highlight the student&#x27;s appreciation for the mathematical depth of the course, their wish for more application of theories to real-world contexts, and the sense that the course lacked practical relevance.                                           </td></tr>\n",
       "<tr><td>[&#x27;Enjoyed the course, especially group projects&#x27;, &#x27;Appreciated applying economic concepts to real-life problems&#x27;, &#x27;Desire for more detailed feedback on assignments&#x27;]</td><td>[&quot;Enjoyed the course, especially group projects&quot;, &quot;Appreciated applying economic concepts to real-life problems&quot;, &quot;Desire for more detailed feedback on assignments&quot;] \n",
       "\n",
       "These points encapsulate the student&#x27;s positive experience with the group projects and the practical application of course content, while also highlighting a constructive suggestion for improvement regarding feedback on assignments.                                           </td></tr>\n",
       "<tr><td>[&#x27;Course content was well-organized&#x27;, &#x27;Lectures were monotonous and hard to follow&#x27;, &#x27;Suggested incorporating visual aids and guest lectures&#x27;]                       </td><td>[&quot;Course content was well-organized&quot;, &quot;Lectures were monotonous and hard to follow&quot;, &quot;Suggested incorporating visual aids and guest lectures&quot;]  \n",
       "The feedback highlights the organization of the course content as a positive aspect, while pointing out that the lectures lacked engagement. The student suggests using visual aids and inviting guest speakers to enhance the learning experience and make sessions more dynamic.                                           </td></tr>\n",
       "<tr><td>[&#x27;Favorite class this semester&#x27;, &#x27;Perfect mix of theory and case studies&#x27;, &#x27;Appreciation for diversity in global economic perspectives&#x27;]                             </td><td>[&quot;Favorite class this semester&quot;, &quot;Perfect mix of theory and case studies&quot;, &quot;Appreciation for diversity in global economic perspectives&quot;] \n",
       "\n",
       "The student&#x27;s evaluation highlights their overall enjoyment of the course, the effective balance between theoretical content and practical case studies, and the value they found in exploring diverse global economic perspectives.                                           </td></tr>\n",
       "<tr><td>[&#x27;Textbook is too complex for an introductory course&#x27;, &#x27;Textbook uses unexplained jargon&#x27;, &#x27;Simpler materials or more explanatory lectures needed&#x27;]                  </td><td>[&quot;Textbook is too complex for an introductory course&quot;, &quot;Textbook uses unexplained jargon&quot;, &quot;Simpler materials or more explanatory lectures needed&quot;] \n",
       "\n",
       "These points directly address the student&#x27;s concerns about the complexity and accessibility of the course materials, offering a clear direction for potential improvements.                                           </td></tr>\n",
       "<tr><td>[&#x27;Professor is knowledgeable and passionate&#x27;, &#x27;Course relies too heavily on tests&#x27;, &#x27;More varied assignments needed for different learning styles&#x27;]                  </td><td>[&quot;Professor is knowledgeable and passionate&quot;, &quot;Course relies too heavily on tests&quot;, &quot;More varied assignments needed for different learning styles&quot;] \n",
       "\n",
       "The evaluation highlights your expertise and enthusiasm for the subject, but suggests that the assessment methods could be diversified to accommodate different learning preferences, which could enhance accessibility and engagement.                                           </td></tr>\n",
       "<tr><td>[&#x27;Solid introduction to economics&#x27;, &#x27;Heavily focused on theoretical aspects&#x27;, &#x27;Desire for more real-world discussion&#x27;]                                               </td><td>[&quot;Solid introduction to economics&quot;, &quot;Heavily focused on theoretical aspects&quot;, &quot;Desire for more real-world discussion&quot;] \n",
       "\n",
       "The student appreciates the course as a foundational introduction but notes an overemphasis on theory. They suggest incorporating more discussions on real-world applications to improve understanding and retention.                                           </td></tr>\n",
       "</tbody>\n",
       "</table>\n",
       "            </div>\n",
       "        </div>\n",
       "        "
      ],
      "text/plain": [
       "Dataset([{'answer.themes': [['Course was engaging and informative', 'Professor effectively simplified complex concepts', 'Pace of the course was too fast for some students'], ['Material felt dry', 'Difficult to connect with real-world applications', 'More current event examples needed'], [\"Professor's enthusiasm and availability for extra help\", 'Interactive lectures', 'Practical assignments enhanced understanding'], ['Appreciation for analytical rigor', 'Desire for more practical discussions', 'Course felt isolated from real-world issues'], ['Enjoyed the course, especially group projects', 'Appreciated applying economic concepts to real-life problems', 'Desire for more detailed feedback on assignments'], ['Course content was well-organized', 'Lectures were monotonous and hard to follow', 'Suggested incorporating visual aids and guest lectures'], ['Favorite class this semester', 'Perfect mix of theory and case studies', 'Appreciation for diversity in global economic perspectives'], ['Textbook is too complex for an introductory course', 'Textbook uses unexplained jargon', 'Simpler materials or more explanatory lectures needed'], ['Professor is knowledgeable and passionate', 'Course relies too heavily on tests', 'More varied assignments needed for different learning styles'], ['Solid introduction to economics', 'Heavily focused on theoretical aspects', 'Desire for more real-world discussion']]}, {'generated_tokens.themes_generated_tokens': ['[\"Course was engaging and informative\", \"Professor effectively simplified complex concepts\", \"Pace of the course was too fast for some students\"] \\n\\nThese points highlight the strengths of the course in terms of engagement and clarity, while also noting a common concern regarding the course\\'s pace, which is valuable for adjusting future syllabi or providing additional support.', '[\"Material felt dry\", \"Difficult to connect with real-world applications\", \"More current event examples needed\"]  \\nThe student found the course material unengaging, struggled to see its relevance to real-world situations, and suggested incorporating current events to enhance interest and understanding.', '[\"Professor\\'s enthusiasm and availability for extra help\", \"Interactive lectures\", \"Practical assignments enhanced understanding\"]  \\nThe evaluation highlights your enthusiasm and willingness to assist students, the effectiveness of interactive lectures, and the practical assignments that helped students grasp theoretical concepts better.', '[\"Appreciation for analytical rigor\", \"Desire for more practical discussions\", \"Course felt isolated from real-world issues\"] \\n\\nThese points highlight the student\\'s appreciation for the mathematical depth of the course, their wish for more application of theories to real-world contexts, and the sense that the course lacked practical relevance.', '[\"Enjoyed the course, especially group projects\", \"Appreciated applying economic concepts to real-life problems\", \"Desire for more detailed feedback on assignments\"] \\n\\nThese points encapsulate the student\\'s positive experience with the group projects and the practical application of course content, while also highlighting a constructive suggestion for improvement regarding feedback on assignments.', '[\"Course content was well-organized\", \"Lectures were monotonous and hard to follow\", \"Suggested incorporating visual aids and guest lectures\"]  \\nThe feedback highlights the organization of the course content as a positive aspect, while pointing out that the lectures lacked engagement. The student suggests using visual aids and inviting guest speakers to enhance the learning experience and make sessions more dynamic.', '[\"Favorite class this semester\", \"Perfect mix of theory and case studies\", \"Appreciation for diversity in global economic perspectives\"] \\n\\nThe student\\'s evaluation highlights their overall enjoyment of the course, the effective balance between theoretical content and practical case studies, and the value they found in exploring diverse global economic perspectives.', '[\"Textbook is too complex for an introductory course\", \"Textbook uses unexplained jargon\", \"Simpler materials or more explanatory lectures needed\"] \\n\\nThese points directly address the student\\'s concerns about the complexity and accessibility of the course materials, offering a clear direction for potential improvements.', '[\"Professor is knowledgeable and passionate\", \"Course relies too heavily on tests\", \"More varied assignments needed for different learning styles\"] \\n\\nThe evaluation highlights your expertise and enthusiasm for the subject, but suggests that the assessment methods could be diversified to accommodate different learning preferences, which could enhance accessibility and engagement.', '[\"Solid introduction to economics\", \"Heavily focused on theoretical aspects\", \"Desire for more real-world discussion\"] \\n\\nThe student appreciates the course as a foundational introduction but notes an overemphasis on theory. They suggest incorporating more discussions on real-world applications to improve understanding and retention.']}])"
      ]
     },
     "execution_count": 16,
     "metadata": {},
     "output_type": "execute_result"
    }
   ],
   "source": [
    "results.select(\"themes\", \"themes_generated_tokens\")"
   ]
  },
  {
   "cell_type": "code",
   "execution_count": 17,
   "id": "ee81ef77-a2a9-41cb-9472-29e4f8e6797b",
   "metadata": {},
   "outputs": [],
   "source": [
    "themes = results.select(\"themes\").to_list(flatten = True)"
   ]
  },
  {
   "cell_type": "markdown",
   "id": "6b1b042a-0c29-470d-9229-723e6f4a1e33",
   "metadata": {},
   "source": [
    "Next we construct a question to condense the list into a new list:"
   ]
  },
  {
   "cell_type": "code",
   "execution_count": 18,
   "id": "05871e01-eec9-4629-a108-cd9237eca283",
   "metadata": {},
   "outputs": [],
   "source": [
    "q_condensed_themes = QuestionList(\n",
    "    question_name=\"condensed_themes\",\n",
    "    question_text=\"\"\"Combine the following list of themes extracted from the evaluations \n",
    "    into a consolidated, non-redundant list: \"\"\"\n",
    "    + \", \".join(themes),\n",
    "    max_list_items=10,\n",
    ")"
   ]
  },
  {
   "cell_type": "markdown",
   "id": "954a92a0-6a7d-43ad-bed5-35a092fba288",
   "metadata": {},
   "source": [
    "Now we run the question and select the new list. Note that we can choose whether we want to use the agent for this question by not adding it to the question when we run it:"
   ]
  },
  {
   "cell_type": "code",
   "execution_count": 19,
   "id": "f915d9e6-0310-432e-852e-48d63c6e07d8",
   "metadata": {},
   "outputs": [
    {
     "name": "stdout",
     "output_type": "stream",
     "text": [
      "Remote inference activated. Sending job to server...\n",
      "Job sent to server. (Job uuid=80463155-6894-46fd-a064-f48f48b96240).\n"
     ]
    },
    {
     "data": {
      "text/html": [
       "<pre style=\"white-space:pre;overflow-x:auto;line-height:normal;font-family:Menlo,'DejaVu Sans Mono',consolas,'Courier New',monospace\">View job progress here: \n",
       "<a href=\"https://www.expectedparrot.com/home/remote-job-progress/80463155-6894-46fd-a064-f48f48b96240\" target=\"_blank\"><span style=\"color: #38bdf8; text-decoration-color: #38bdf8; text-decoration: underline\">https://www.expectedparrot.com/home/remote-job-progress/80463155-6894-46fd-a064-f48f48b96240</span></a>\n",
       "</pre>\n"
      ],
      "text/plain": [
       "View job progress here: \n",
       "\u001b]8;id=763302;https://www.expectedparrot.com/home/remote-job-progress/80463155-6894-46fd-a064-f48f48b96240\u001b\\\u001b[4;38;2;56;189;248mhttps://www.expectedparrot.com/home/remote-job-progress/80463155-6894-46fd-a064-f48f48b96240\u001b[0m\u001b]8;;\u001b\\\n"
      ]
     },
     "metadata": {},
     "output_type": "display_data"
    },
    {
     "name": "stdout",
     "output_type": "stream",
     "text": [
      "Job completed and Results stored on Coop: https://www.expectedparrot.com/content/baa22403-81ea-42a8-ab05-560447590945.\n"
     ]
    },
    {
     "data": {
      "text/plain": [
       "['Engaging and informative course',\n",
       " 'Effective simplification of complex concepts',\n",
       " 'Need for more real-world applications',\n",
       " 'Desire for more practical and varied assignments',\n",
       " \"Appreciation for professor's enthusiasm and support\",\n",
       " 'Course content organization and clarity',\n",
       " 'Need for more interactive and dynamic lectures',\n",
       " 'Appreciation for diversity in perspectives',\n",
       " 'Challenges with textbook complexity',\n",
       " 'Balance between theory and practical examples']"
      ]
     },
     "execution_count": 19,
     "metadata": {},
     "output_type": "execute_result"
    }
   ],
   "source": [
    "condensed_themes = q_condensed_themes.run().select(\"condensed_themes\").to_list()[0]\n",
    "condensed_themes"
   ]
  },
  {
   "cell_type": "markdown",
   "id": "5636a7f7-56ff-439d-9b5c-b867dff60480",
   "metadata": {},
   "source": [
    "Now we can create a question to identify all the themes in the list that appear in each evaluation (our new list becomes the list of answer options):"
   ]
  },
  {
   "cell_type": "code",
   "execution_count": 20,
   "id": "ff3f7830-6c55-4ee4-8434-374bcee47377",
   "metadata": {},
   "outputs": [],
   "source": [
    "from edsl import QuestionCheckBox\n",
    "\n",
    "q_themes_list = QuestionCheckBox(\n",
    "    question_name=\"themes_list\",\n",
    "    question_text=\"Select all of the themes that are mentioned in this evaluation: {{ evaluation }}\",\n",
    "    question_options=condensed_themes,\n",
    ")"
   ]
  },
  {
   "cell_type": "markdown",
   "id": "3d8e69f7-d9cb-4170-a8b2-d08a857a9441",
   "metadata": {},
   "source": [
    "Here we run the question and show a table listing all the themes for each evaluation in the results:"
   ]
  },
  {
   "cell_type": "code",
   "execution_count": 21,
   "id": "4e8ee9f3-8dda-4047-8850-80dbeb3ce4f0",
   "metadata": {},
   "outputs": [
    {
     "name": "stdout",
     "output_type": "stream",
     "text": [
      "Remote inference activated. Sending job to server...\n",
      "Job sent to server. (Job uuid=e8f821be-6d92-48e2-8b65-15a4c0bc125a).\n"
     ]
    },
    {
     "data": {
      "text/html": [
       "<pre style=\"white-space:pre;overflow-x:auto;line-height:normal;font-family:Menlo,'DejaVu Sans Mono',consolas,'Courier New',monospace\">View job progress here: \n",
       "<a href=\"https://www.expectedparrot.com/home/remote-job-progress/e8f821be-6d92-48e2-8b65-15a4c0bc125a\" target=\"_blank\"><span style=\"color: #38bdf8; text-decoration-color: #38bdf8; text-decoration: underline\">https://www.expectedparrot.com/home/remote-job-progress/e8f821be-6d92-48e2-8b65-15a4c0bc125a</span></a>\n",
       "</pre>\n"
      ],
      "text/plain": [
       "View job progress here: \n",
       "\u001b]8;id=647952;https://www.expectedparrot.com/home/remote-job-progress/e8f821be-6d92-48e2-8b65-15a4c0bc125a\u001b\\\u001b[4;38;2;56;189;248mhttps://www.expectedparrot.com/home/remote-job-progress/e8f821be-6d92-48e2-8b65-15a4c0bc125a\u001b[0m\u001b]8;;\u001b\\\n"
      ]
     },
     "metadata": {},
     "output_type": "display_data"
    },
    {
     "name": "stdout",
     "output_type": "stream",
     "text": [
      "Job completed and Results stored on Coop: https://www.expectedparrot.com/content/d7ad5744-1255-4948-9ca2-707f13f73604.\n"
     ]
    },
    {
     "data": {
      "text/html": [
       "\n",
       "        <style>\n",
       "            :root {\n",
       "  --containerHeight: 350px;\n",
       "  --headerColor: blue;\n",
       "}\n",
       "\n",
       ".table-container {\n",
       "    height: var(--containerHeight) !important;\n",
       "    width: 100%;\n",
       "    overflow: auto;  /* This enables both horizontal and vertical scrolling */\n",
       "    border: 1px solid #d4d4d4;\n",
       "    background: transparent;\n",
       "    position: relative;  /* Create stacking context for sticky header */\n",
       "}\n",
       "\n",
       ".scroll-table {\n",
       "    /* Remove width: 100% to prevent table from being constrained */\n",
       "    /* min-width: 100% ensures table takes at least full container width */\n",
       "    min-width: 100%;\n",
       "    border-collapse: separate;\n",
       "    border-spacing: 4px;\n",
       "    background: transparent;\n",
       "    table-layout: auto;  /* Allow table to size based on content */\n",
       "}\n",
       "\n",
       ".scroll-table th {\n",
       "    background: transparent;  /* Semi-transparent background to ensure text readability */\n",
       "    position: sticky;\n",
       "    top: 0;\n",
       "    z-index: 1;\n",
       "    text-align: left !important;\n",
       "    padding: 8px;\n",
       "    font-weight: bold;\n",
       "    white-space: nowrap;  /* Prevent header text from wrapping */\n",
       "    min-width: 100px;    /* Ensure minimum column width */\n",
       "    backdrop-filter: blur(8px);  /* Optional: adds extra clarity */\n",
       "    color: var(--headerColor);\n",
       "}\n",
       "\n",
       ".scroll-table td {\n",
       "    padding: 8px;\n",
       "    text-align: left !important;\n",
       "    white-space: pre-wrap;\n",
       "    word-wrap: break-word;\n",
       "    vertical-align: top;\n",
       "    color: inherit;\n",
       "    border-bottom: none;\n",
       "    background: transparent;\n",
       "    min-width: 100px;    /* Match header minimum width */\n",
       "}\n",
       "\n",
       ".scroll-table tbody tr:hover {\n",
       "    background: transparent;\n",
       "}\n",
       "\n",
       "/* Additional rule to ensure header background is truly transparent */\n",
       ".scroll-table thead tr {\n",
       "    background: transparent !important;\n",
       "}\n",
       "\n",
       "/* Add shadow to indicate scrollable content */\n",
       ".table-container::after {\n",
       "    content: '';\n",
       "    position: absolute;\n",
       "    top: 0;\n",
       "    right: 0;\n",
       "    bottom: 0;\n",
       "    width: 5px;\n",
       "    background: linear-gradient(to right, transparent, rgba(242, 6, 6, 0.1));\n",
       "    pointer-events: none;\n",
       "    opacity: 0;\n",
       "    transition: opacity 0.3s;\n",
       "}\n",
       "\n",
       ".table-container:hover::after {\n",
       "    opacity: 1;\n",
       "}\n",
       "\n",
       "/* Handle Jupyter notebook specific styling */\n",
       ".jp-OutputArea-output .table-container {\n",
       "    max-width: 100%;\n",
       "    margin: 0;\n",
       "    overflow-x: auto;\n",
       "}\n",
       "        </style>\n",
       "        <div class=\"table-container\">\n",
       "            <div class=\"scroll-table-wrapper\">\n",
       "                <table class=\"scroll-table\">\n",
       "<thead>\n",
       "<tr><th>scenario.evaluation                                                                                                                                                                                                                                                                  </th><th>answer.themes_list                                                                                                                        </th></tr>\n",
       "</thead>\n",
       "<tbody>\n",
       "<tr><td>I found the course very engaging and informative. The professor did an excellent job breaking down complex concepts, making them accessible to those of us new to economics. However, the pace was a bit fast, and I sometimes struggled to keep up with the weekly readings.        </td><td>[&#x27;Engaging and informative course&#x27;, &#x27;Effective simplification of complex concepts&#x27;]                                                       </td></tr>\n",
       "<tr><td>This class was a struggle for me. The material felt dry and difficult to connect with real-world applications, which I think could have made it more interesting. More examples from current events would definitely have helped spark my interest.                                  </td><td>[&#x27;Need for more real-world applications&#x27;, &#x27;Need for more interactive and dynamic lectures&#x27;]                                               </td></tr>\n",
       "<tr><td>Excellent introductory course! The professor was enthusiastic and always willing to offer extra help during office hours. The interactive lectures and the practical assignments made the theory much more digestible and engaging.                                                  </td><td>[&#x27;Engaging and informative course&#x27;, &#x27;Effective simplification of complex concepts&#x27;, &quot;Appreciation for professor&#x27;s enthusiasm and support&quot;]</td></tr>\n",
       "<tr><td>As someone with a strong background in math, I appreciated the analytical rigor of this course. However, I wish there had been more discussions that connected the theories we learned to everyday economic issues. It felt a bit isolated from practical realities at times.        </td><td>[&#x27;Need for more real-world applications&#x27;, &#x27;Balance between theory and practical examples&#x27;]                                                </td></tr>\n",
       "<tr><td>I enjoyed the course, especially the group projects, which were both challenging and rewarding. It was great to apply economic concepts to solve real-life problems. I did feel, however, that the feedback on assignments could be more detailed to help us understand our mistakes.</td><td>[&#x27;Engaging and informative course&#x27;, &#x27;Desire for more practical and varied assignments&#x27;]                                                   </td></tr>\n",
       "<tr><td>The course content was well-organized, but the lectures were somewhat monotonous and hard to follow. I would suggest incorporating more visual aids and maybe some guest lectures from industry professionals to liven up the sessions.                                              </td><td>[&#x27;Course content organization and clarity&#x27;, &#x27;Need for more interactive and dynamic lectures&#x27;]                                             </td></tr>\n",
       "<tr><td>This was my favorite class this semester! The mix of theory and case studies was perfect, and the exams were fair. I also really appreciated the diversity of perspectives we explored in class, especially in terms of global economic policies.                                    </td><td>[&#x27;Engaging and informative course&#x27;, &#x27;Appreciation for diversity in perspectives&#x27;, &#x27;Balance between theory and practical examples&#x27;]        </td></tr>\n",
       "<tr><td>I found the textbook to be overly complex for an introductory course. It often used jargon that hadn&#x27;t been explained in lectures, which was confusing. Simpler reading materials or more explanatory lectures would make a big difference for newcomers to economics.               </td><td>[&#x27;Course content organization and clarity&#x27;, &#x27;Challenges with textbook complexity&#x27;]                                                        </td></tr>\n",
       "<tr><td>The professor was knowledgeable and clearly passionate about economics, but I felt the course relied too heavily on tests rather than more creative forms of assessment. More varied assignments would make the course more accessible to students with different learning styles.   </td><td>[&#x27;Desire for more practical and varied assignments&#x27;, &quot;Appreciation for professor&#x27;s enthusiasm and support&quot;]                               </td></tr>\n",
       "<tr><td>This class was a solid introduction to economics, though it leaned heavily on theoretical aspects. I would have liked more opportunities to discuss the real-world implications of economic theories, which I believe would enhance understanding and retention of the material.     </td><td>[&#x27;Need for more real-world applications&#x27;, &#x27;Balance between theory and practical examples&#x27;]                                                </td></tr>\n",
       "</tbody>\n",
       "</table>\n",
       "            </div>\n",
       "        </div>\n",
       "        "
      ],
      "text/plain": [
       "Dataset([{'scenario.evaluation': ['I found the course very engaging and informative. The professor did an excellent job breaking down complex concepts, making them accessible to those of us new to economics. However, the pace was a bit fast, and I sometimes struggled to keep up with the weekly readings.', 'This class was a struggle for me. The material felt dry and difficult to connect with real-world applications, which I think could have made it more interesting. More examples from current events would definitely have helped spark my interest.', 'Excellent introductory course! The professor was enthusiastic and always willing to offer extra help during office hours. The interactive lectures and the practical assignments made the theory much more digestible and engaging.', 'As someone with a strong background in math, I appreciated the analytical rigor of this course. However, I wish there had been more discussions that connected the theories we learned to everyday economic issues. It felt a bit isolated from practical realities at times.', 'I enjoyed the course, especially the group projects, which were both challenging and rewarding. It was great to apply economic concepts to solve real-life problems. I did feel, however, that the feedback on assignments could be more detailed to help us understand our mistakes.', 'The course content was well-organized, but the lectures were somewhat monotonous and hard to follow. I would suggest incorporating more visual aids and maybe some guest lectures from industry professionals to liven up the sessions.', 'This was my favorite class this semester! The mix of theory and case studies was perfect, and the exams were fair. I also really appreciated the diversity of perspectives we explored in class, especially in terms of global economic policies.', \"I found the textbook to be overly complex for an introductory course. It often used jargon that hadn't been explained in lectures, which was confusing. Simpler reading materials or more explanatory lectures would make a big difference for newcomers to economics.\", 'The professor was knowledgeable and clearly passionate about economics, but I felt the course relied too heavily on tests rather than more creative forms of assessment. More varied assignments would make the course more accessible to students with different learning styles.', 'This class was a solid introduction to economics, though it leaned heavily on theoretical aspects. I would have liked more opportunities to discuss the real-world implications of economic theories, which I believe would enhance understanding and retention of the material.']}, {'answer.themes_list': [['Engaging and informative course', 'Effective simplification of complex concepts'], ['Need for more real-world applications', 'Need for more interactive and dynamic lectures'], ['Engaging and informative course', 'Effective simplification of complex concepts', \"Appreciation for professor's enthusiasm and support\"], ['Need for more real-world applications', 'Balance between theory and practical examples'], ['Engaging and informative course', 'Desire for more practical and varied assignments'], ['Course content organization and clarity', 'Need for more interactive and dynamic lectures'], ['Engaging and informative course', 'Appreciation for diversity in perspectives', 'Balance between theory and practical examples'], ['Course content organization and clarity', 'Challenges with textbook complexity'], ['Desire for more practical and varied assignments', \"Appreciation for professor's enthusiasm and support\"], ['Need for more real-world applications', 'Balance between theory and practical examples']]}])"
      ]
     },
     "execution_count": 21,
     "metadata": {},
     "output_type": "execute_result"
    }
   ],
   "source": [
    "themes_lists = q_themes_list.by(scenarios).by(agent).run()\n",
    "themes_lists.select(\"evaluation\", \"themes_list\")"
   ]
  },
  {
   "cell_type": "code",
   "execution_count": 22,
   "id": "d6a8123d",
   "metadata": {},
   "outputs": [
    {
     "data": {
      "text/html": [
       "\n",
       "        <style>\n",
       "            :root {\n",
       "  --containerHeight: 400px;\n",
       "  --headerColor: blue;\n",
       "}\n",
       "\n",
       ".table-container {\n",
       "    height: var(--containerHeight) !important;\n",
       "    width: 100%;\n",
       "    overflow: auto;  /* This enables both horizontal and vertical scrolling */\n",
       "    border: 1px solid #d4d4d4;\n",
       "    background: transparent;\n",
       "    position: relative;  /* Create stacking context for sticky header */\n",
       "}\n",
       "\n",
       ".scroll-table {\n",
       "    /* Remove width: 100% to prevent table from being constrained */\n",
       "    /* min-width: 100% ensures table takes at least full container width */\n",
       "    min-width: 100%;\n",
       "    border-collapse: separate;\n",
       "    border-spacing: 4px;\n",
       "    background: transparent;\n",
       "    table-layout: auto;  /* Allow table to size based on content */\n",
       "}\n",
       "\n",
       ".scroll-table th {\n",
       "    background: transparent;  /* Semi-transparent background to ensure text readability */\n",
       "    position: sticky;\n",
       "    top: 0;\n",
       "    z-index: 1;\n",
       "    text-align: left !important;\n",
       "    padding: 8px;\n",
       "    font-weight: bold;\n",
       "    white-space: nowrap;  /* Prevent header text from wrapping */\n",
       "    min-width: 100px;    /* Ensure minimum column width */\n",
       "    backdrop-filter: blur(8px);  /* Optional: adds extra clarity */\n",
       "    color: var(--headerColor);\n",
       "}\n",
       "\n",
       ".scroll-table td {\n",
       "    padding: 8px;\n",
       "    text-align: left !important;\n",
       "    white-space: pre-wrap;\n",
       "    word-wrap: break-word;\n",
       "    vertical-align: top;\n",
       "    color: inherit;\n",
       "    border-bottom: none;\n",
       "    background: transparent;\n",
       "    min-width: 100px;    /* Match header minimum width */\n",
       "}\n",
       "\n",
       ".scroll-table tbody tr:hover {\n",
       "    background: transparent;\n",
       "}\n",
       "\n",
       "/* Additional rule to ensure header background is truly transparent */\n",
       ".scroll-table thead tr {\n",
       "    background: transparent !important;\n",
       "}\n",
       "\n",
       "/* Add shadow to indicate scrollable content */\n",
       ".table-container::after {\n",
       "    content: '';\n",
       "    position: absolute;\n",
       "    top: 0;\n",
       "    right: 0;\n",
       "    bottom: 0;\n",
       "    width: 5px;\n",
       "    background: linear-gradient(to right, transparent, rgba(242, 6, 6, 0.1));\n",
       "    pointer-events: none;\n",
       "    opacity: 0;\n",
       "    transition: opacity 0.3s;\n",
       "}\n",
       "\n",
       ".table-container:hover::after {\n",
       "    opacity: 1;\n",
       "}\n",
       "\n",
       "/* Handle Jupyter notebook specific styling */\n",
       ".jp-OutputArea-output .table-container {\n",
       "    max-width: 100%;\n",
       "    margin: 0;\n",
       "    overflow-x: auto;\n",
       "}\n",
       "        </style>\n",
       "        <div class=\"table-container\">\n",
       "            <div class=\"scroll-table-wrapper\">\n",
       "                <table class=\"scroll-table\">\n",
       "<thead>\n",
       "<tr><th>evaluation                                                                                                                                                                                                                                                                           </th><th>theme                                              </th></tr>\n",
       "</thead>\n",
       "<tbody>\n",
       "<tr><td>I found the course very engaging and informative. The professor did an excellent job breaking down complex concepts, making them accessible to those of us new to economics. However, the pace was a bit fast, and I sometimes struggled to keep up with the weekly readings.        </td><td>Engaging and informative course                    </td></tr>\n",
       "<tr><td>I found the course very engaging and informative. The professor did an excellent job breaking down complex concepts, making them accessible to those of us new to economics. However, the pace was a bit fast, and I sometimes struggled to keep up with the weekly readings.        </td><td>Effective simplification of complex concepts       </td></tr>\n",
       "<tr><td>This class was a struggle for me. The material felt dry and difficult to connect with real-world applications, which I think could have made it more interesting. More examples from current events would definitely have helped spark my interest.                                  </td><td>Need for more real-world applications              </td></tr>\n",
       "<tr><td>This class was a struggle for me. The material felt dry and difficult to connect with real-world applications, which I think could have made it more interesting. More examples from current events would definitely have helped spark my interest.                                  </td><td>Need for more interactive and dynamic lectures     </td></tr>\n",
       "<tr><td>Excellent introductory course! The professor was enthusiastic and always willing to offer extra help during office hours. The interactive lectures and the practical assignments made the theory much more digestible and engaging.                                                  </td><td>Engaging and informative course                    </td></tr>\n",
       "<tr><td>Excellent introductory course! The professor was enthusiastic and always willing to offer extra help during office hours. The interactive lectures and the practical assignments made the theory much more digestible and engaging.                                                  </td><td>Effective simplification of complex concepts       </td></tr>\n",
       "<tr><td>Excellent introductory course! The professor was enthusiastic and always willing to offer extra help during office hours. The interactive lectures and the practical assignments made the theory much more digestible and engaging.                                                  </td><td>Appreciation for professor&#x27;s enthusiasm and support</td></tr>\n",
       "<tr><td>As someone with a strong background in math, I appreciated the analytical rigor of this course. However, I wish there had been more discussions that connected the theories we learned to everyday economic issues. It felt a bit isolated from practical realities at times.        </td><td>Need for more real-world applications              </td></tr>\n",
       "<tr><td>As someone with a strong background in math, I appreciated the analytical rigor of this course. However, I wish there had been more discussions that connected the theories we learned to everyday economic issues. It felt a bit isolated from practical realities at times.        </td><td>Balance between theory and practical examples      </td></tr>\n",
       "<tr><td>I enjoyed the course, especially the group projects, which were both challenging and rewarding. It was great to apply economic concepts to solve real-life problems. I did feel, however, that the feedback on assignments could be more detailed to help us understand our mistakes.</td><td>Engaging and informative course                    </td></tr>\n",
       "<tr><td>I enjoyed the course, especially the group projects, which were both challenging and rewarding. It was great to apply economic concepts to solve real-life problems. I did feel, however, that the feedback on assignments could be more detailed to help us understand our mistakes.</td><td>Desire for more practical and varied assignments   </td></tr>\n",
       "<tr><td>The course content was well-organized, but the lectures were somewhat monotonous and hard to follow. I would suggest incorporating more visual aids and maybe some guest lectures from industry professionals to liven up the sessions.                                              </td><td>Course content organization and clarity            </td></tr>\n",
       "<tr><td>The course content was well-organized, but the lectures were somewhat monotonous and hard to follow. I would suggest incorporating more visual aids and maybe some guest lectures from industry professionals to liven up the sessions.                                              </td><td>Need for more interactive and dynamic lectures     </td></tr>\n",
       "<tr><td>This was my favorite class this semester! The mix of theory and case studies was perfect, and the exams were fair. I also really appreciated the diversity of perspectives we explored in class, especially in terms of global economic policies.                                    </td><td>Engaging and informative course                    </td></tr>\n",
       "<tr><td>This was my favorite class this semester! The mix of theory and case studies was perfect, and the exams were fair. I also really appreciated the diversity of perspectives we explored in class, especially in terms of global economic policies.                                    </td><td>Appreciation for diversity in perspectives         </td></tr>\n",
       "<tr><td>This was my favorite class this semester! The mix of theory and case studies was perfect, and the exams were fair. I also really appreciated the diversity of perspectives we explored in class, especially in terms of global economic policies.                                    </td><td>Balance between theory and practical examples      </td></tr>\n",
       "<tr><td>I found the textbook to be overly complex for an introductory course. It often used jargon that hadn&#x27;t been explained in lectures, which was confusing. Simpler reading materials or more explanatory lectures would make a big difference for newcomers to economics.               </td><td>Course content organization and clarity            </td></tr>\n",
       "<tr><td>I found the textbook to be overly complex for an introductory course. It often used jargon that hadn&#x27;t been explained in lectures, which was confusing. Simpler reading materials or more explanatory lectures would make a big difference for newcomers to economics.               </td><td>Challenges with textbook complexity                </td></tr>\n",
       "<tr><td>The professor was knowledgeable and clearly passionate about economics, but I felt the course relied too heavily on tests rather than more creative forms of assessment. More varied assignments would make the course more accessible to students with different learning styles.   </td><td>Desire for more practical and varied assignments   </td></tr>\n",
       "<tr><td>The professor was knowledgeable and clearly passionate about economics, but I felt the course relied too heavily on tests rather than more creative forms of assessment. More varied assignments would make the course more accessible to students with different learning styles.   </td><td>Appreciation for professor&#x27;s enthusiasm and support</td></tr>\n",
       "<tr><td>This class was a solid introduction to economics, though it leaned heavily on theoretical aspects. I would have liked more opportunities to discuss the real-world implications of economic theories, which I believe would enhance understanding and retention of the material.     </td><td>Need for more real-world applications              </td></tr>\n",
       "<tr><td>This class was a solid introduction to economics, though it leaned heavily on theoretical aspects. I would have liked more opportunities to discuss the real-world implications of economic theories, which I believe would enhance understanding and retention of the material.     </td><td>Balance between theory and practical examples      </td></tr>\n",
       "</tbody>\n",
       "</table>\n",
       "            </div>\n",
       "        </div>\n",
       "        "
      ],
      "text/plain": [
       "evaluation                                                                                                                                                                                                                                                                             theme\n",
       "-------------------------------------------------------------------------------------------------------------------------------------------------------------------------------------------------------------------------------------------------------------------------------------  ---------------------------------------------------\n",
       "I found the course very engaging and informative. The professor did an excellent job breaking down complex concepts, making them accessible to those of us new to economics. However, the pace was a bit fast, and I sometimes struggled to keep up with the weekly readings.          Engaging and informative course\n",
       "I found the course very engaging and informative. The professor did an excellent job breaking down complex concepts, making them accessible to those of us new to economics. However, the pace was a bit fast, and I sometimes struggled to keep up with the weekly readings.          Effective simplification of complex concepts\n",
       "This class was a struggle for me. The material felt dry and difficult to connect with real-world applications, which I think could have made it more interesting. More examples from current events would definitely have helped spark my interest.                                    Need for more real-world applications\n",
       "This class was a struggle for me. The material felt dry and difficult to connect with real-world applications, which I think could have made it more interesting. More examples from current events would definitely have helped spark my interest.                                    Need for more interactive and dynamic lectures\n",
       "Excellent introductory course! The professor was enthusiastic and always willing to offer extra help during office hours. The interactive lectures and the practical assignments made the theory much more digestible and engaging.                                                    Engaging and informative course\n",
       "Excellent introductory course! The professor was enthusiastic and always willing to offer extra help during office hours. The interactive lectures and the practical assignments made the theory much more digestible and engaging.                                                    Effective simplification of complex concepts\n",
       "Excellent introductory course! The professor was enthusiastic and always willing to offer extra help during office hours. The interactive lectures and the practical assignments made the theory much more digestible and engaging.                                                    Appreciation for professor's enthusiasm and support\n",
       "As someone with a strong background in math, I appreciated the analytical rigor of this course. However, I wish there had been more discussions that connected the theories we learned to everyday economic issues. It felt a bit isolated from practical realities at times.          Need for more real-world applications\n",
       "As someone with a strong background in math, I appreciated the analytical rigor of this course. However, I wish there had been more discussions that connected the theories we learned to everyday economic issues. It felt a bit isolated from practical realities at times.          Balance between theory and practical examples\n",
       "I enjoyed the course, especially the group projects, which were both challenging and rewarding. It was great to apply economic concepts to solve real-life problems. I did feel, however, that the feedback on assignments could be more detailed to help us understand our mistakes.  Engaging and informative course\n",
       "I enjoyed the course, especially the group projects, which were both challenging and rewarding. It was great to apply economic concepts to solve real-life problems. I did feel, however, that the feedback on assignments could be more detailed to help us understand our mistakes.  Desire for more practical and varied assignments\n",
       "The course content was well-organized, but the lectures were somewhat monotonous and hard to follow. I would suggest incorporating more visual aids and maybe some guest lectures from industry professionals to liven up the sessions.                                                Course content organization and clarity\n",
       "The course content was well-organized, but the lectures were somewhat monotonous and hard to follow. I would suggest incorporating more visual aids and maybe some guest lectures from industry professionals to liven up the sessions.                                                Need for more interactive and dynamic lectures\n",
       "This was my favorite class this semester! The mix of theory and case studies was perfect, and the exams were fair. I also really appreciated the diversity of perspectives we explored in class, especially in terms of global economic policies.                                      Engaging and informative course\n",
       "This was my favorite class this semester! The mix of theory and case studies was perfect, and the exams were fair. I also really appreciated the diversity of perspectives we explored in class, especially in terms of global economic policies.                                      Appreciation for diversity in perspectives\n",
       "This was my favorite class this semester! The mix of theory and case studies was perfect, and the exams were fair. I also really appreciated the diversity of perspectives we explored in class, especially in terms of global economic policies.                                      Balance between theory and practical examples\n",
       "I found the textbook to be overly complex for an introductory course. It often used jargon that hadn't been explained in lectures, which was confusing. Simpler reading materials or more explanatory lectures would make a big difference for newcomers to economics.                 Course content organization and clarity\n",
       "I found the textbook to be overly complex for an introductory course. It often used jargon that hadn't been explained in lectures, which was confusing. Simpler reading materials or more explanatory lectures would make a big difference for newcomers to economics.                 Challenges with textbook complexity\n",
       "The professor was knowledgeable and clearly passionate about economics, but I felt the course relied too heavily on tests rather than more creative forms of assessment. More varied assignments would make the course more accessible to students with different learning styles.     Desire for more practical and varied assignments\n",
       "The professor was knowledgeable and clearly passionate about economics, but I felt the course relied too heavily on tests rather than more creative forms of assessment. More varied assignments would make the course more accessible to students with different learning styles.     Appreciation for professor's enthusiasm and support\n",
       "This class was a solid introduction to economics, though it leaned heavily on theoretical aspects. I would have liked more opportunities to discuss the real-world implications of economic theories, which I believe would enhance understanding and retention of the material.       Need for more real-world applications\n",
       "This class was a solid introduction to economics, though it leaned heavily on theoretical aspects. I would have liked more opportunities to discuss the real-world implications of economic theories, which I believe would enhance understanding and retention of the material.       Balance between theory and practical examples"
      ]
     },
     "execution_count": 22,
     "metadata": {},
     "output_type": "execute_result"
    }
   ],
   "source": [
    "wide_evaluation_themes = themes_lists.select(\"evaluation\", \"themes_list\").to_scenario_list().expand(\"themes_list\").rename({\"themes_list\": \"theme\"})\n",
    "wide_evaluation_themes.print(max_rows = 10)"
   ]
  },
  {
   "cell_type": "code",
   "execution_count": 23,
   "id": "b1e5041e",
   "metadata": {},
   "outputs": [
    {
     "data": {
      "text/html": [
       "\n",
       "        <style>\n",
       "            :root {\n",
       "  --containerHeight: 350px;\n",
       "  --headerColor: blue;\n",
       "}\n",
       "\n",
       ".table-container {\n",
       "    height: var(--containerHeight) !important;\n",
       "    width: 100%;\n",
       "    overflow: auto;  /* This enables both horizontal and vertical scrolling */\n",
       "    border: 1px solid #d4d4d4;\n",
       "    background: transparent;\n",
       "    position: relative;  /* Create stacking context for sticky header */\n",
       "}\n",
       "\n",
       ".scroll-table {\n",
       "    /* Remove width: 100% to prevent table from being constrained */\n",
       "    /* min-width: 100% ensures table takes at least full container width */\n",
       "    min-width: 100%;\n",
       "    border-collapse: separate;\n",
       "    border-spacing: 4px;\n",
       "    background: transparent;\n",
       "    table-layout: auto;  /* Allow table to size based on content */\n",
       "}\n",
       "\n",
       ".scroll-table th {\n",
       "    background: transparent;  /* Semi-transparent background to ensure text readability */\n",
       "    position: sticky;\n",
       "    top: 0;\n",
       "    z-index: 1;\n",
       "    text-align: left !important;\n",
       "    padding: 8px;\n",
       "    font-weight: bold;\n",
       "    white-space: nowrap;  /* Prevent header text from wrapping */\n",
       "    min-width: 100px;    /* Ensure minimum column width */\n",
       "    backdrop-filter: blur(8px);  /* Optional: adds extra clarity */\n",
       "    color: var(--headerColor);\n",
       "}\n",
       "\n",
       ".scroll-table td {\n",
       "    padding: 8px;\n",
       "    text-align: left !important;\n",
       "    white-space: pre-wrap;\n",
       "    word-wrap: break-word;\n",
       "    vertical-align: top;\n",
       "    color: inherit;\n",
       "    border-bottom: none;\n",
       "    background: transparent;\n",
       "    min-width: 100px;    /* Match header minimum width */\n",
       "}\n",
       "\n",
       ".scroll-table tbody tr:hover {\n",
       "    background: transparent;\n",
       "}\n",
       "\n",
       "/* Additional rule to ensure header background is truly transparent */\n",
       ".scroll-table thead tr {\n",
       "    background: transparent !important;\n",
       "}\n",
       "\n",
       "/* Add shadow to indicate scrollable content */\n",
       ".table-container::after {\n",
       "    content: '';\n",
       "    position: absolute;\n",
       "    top: 0;\n",
       "    right: 0;\n",
       "    bottom: 0;\n",
       "    width: 5px;\n",
       "    background: linear-gradient(to right, transparent, rgba(242, 6, 6, 0.1));\n",
       "    pointer-events: none;\n",
       "    opacity: 0;\n",
       "    transition: opacity 0.3s;\n",
       "}\n",
       "\n",
       ".table-container:hover::after {\n",
       "    opacity: 1;\n",
       "}\n",
       "\n",
       "/* Handle Jupyter notebook specific styling */\n",
       ".jp-OutputArea-output .table-container {\n",
       "    max-width: 100%;\n",
       "    margin: 0;\n",
       "    overflow-x: auto;\n",
       "}\n",
       "        </style>\n",
       "        <div class=\"table-container\">\n",
       "            <div class=\"scroll-table-wrapper\">\n",
       "                <table class=\"scroll-table\">\n",
       "<thead>\n",
       "<tr><th>theme                                              </th><th style=\"text-align: right;\">  count</th></tr>\n",
       "</thead>\n",
       "<tbody>\n",
       "<tr><td>Engaging and informative course                    </td><td style=\"text-align: right;\">      4</td></tr>\n",
       "<tr><td>Need for more real-world applications              </td><td style=\"text-align: right;\">      3</td></tr>\n",
       "<tr><td>Balance between theory and practical examples      </td><td style=\"text-align: right;\">      3</td></tr>\n",
       "<tr><td>Effective simplification of complex concepts       </td><td style=\"text-align: right;\">      2</td></tr>\n",
       "<tr><td>Need for more interactive and dynamic lectures     </td><td style=\"text-align: right;\">      2</td></tr>\n",
       "<tr><td>Appreciation for professor&#x27;s enthusiasm and support</td><td style=\"text-align: right;\">      2</td></tr>\n",
       "<tr><td>Desire for more practical and varied assignments   </td><td style=\"text-align: right;\">      2</td></tr>\n",
       "<tr><td>Course content organization and clarity            </td><td style=\"text-align: right;\">      2</td></tr>\n",
       "<tr><td>Appreciation for diversity in perspectives         </td><td style=\"text-align: right;\">      1</td></tr>\n",
       "<tr><td>Challenges with textbook complexity                </td><td style=\"text-align: right;\">      1</td></tr>\n",
       "</tbody>\n",
       "</table>\n",
       "            </div>\n",
       "        </div>\n",
       "        "
      ],
      "text/plain": [
       "Dataset([{'theme': ['Engaging and informative course', 'Need for more real-world applications', 'Balance between theory and practical examples', 'Effective simplification of complex concepts', 'Need for more interactive and dynamic lectures', \"Appreciation for professor's enthusiasm and support\", 'Desire for more practical and varied assignments', 'Course content organization and clarity', 'Appreciation for diversity in perspectives', 'Challenges with textbook complexity']}, {'count': [4, 3, 3, 2, 2, 2, 2, 2, 1, 1]}])"
      ]
     },
     "execution_count": 23,
     "metadata": {},
     "output_type": "execute_result"
    }
   ],
   "source": [
    "wide_evaluation_themes.tally(\"theme\")"
   ]
  },
  {
   "cell_type": "markdown",
   "id": "846d29fd-847d-4352-af7c-ed339519e239",
   "metadata": {},
   "source": [
    "We can do the same thing with the areas of improvement:"
   ]
  },
  {
   "cell_type": "code",
   "execution_count": 24,
   "id": "13a8a2c1-5a8a-4e46-86fc-8ff23c9587a6",
   "metadata": {},
   "outputs": [
    {
     "data": {
      "text/plain": [
       "['Adjust the pacing of the lectures',\n",
       " 'Provide additional resources or summaries for weekly readings',\n",
       " 'Incorporate more review sessions or Q&A periods',\n",
       " 'Incorporate more real-world applications',\n",
       " 'Use current events to illustrate concepts',\n",
       " 'Enhance engagement with interactive activities',\n",
       " 'Increase variety of teaching methods',\n",
       " 'Provide more real-world examples',\n",
       " 'Enhance feedback on assignments',\n",
       " 'Incorporate real-world case studies into lectures',\n",
       " 'Facilitate class discussions on current economic events',\n",
       " 'Assign projects that apply theories to contemporary issues',\n",
       " 'Provide more detailed feedback on assignments',\n",
       " 'Incorporate more real-life problem-solving exercises',\n",
       " 'Ensure group projects are effectively facilitated',\n",
       " 'Incorporate more visual aids into lectures',\n",
       " 'Invite guest speakers from industry',\n",
       " 'Engage students with interactive activities',\n",
       " 'Increase opportunities for student participation',\n",
       " 'Enhance feedback on assignments',\n",
       " 'Incorporate more interactive digital tools',\n",
       " 'Select a more accessible textbook for introductory students',\n",
       " 'Provide supplemental materials that clarify textbook jargon',\n",
       " 'Incorporate more lecture time to explain complex concepts',\n",
       " 'Incorporate diverse assessment methods',\n",
       " 'Include project-based assignments',\n",
       " 'Offer optional creative assignments',\n",
       " 'Incorporate more real-world case studies',\n",
       " 'Facilitate class discussions on current economic events',\n",
       " 'Include practical applications in assignments']"
      ]
     },
     "execution_count": 24,
     "metadata": {},
     "output_type": "execute_result"
    }
   ],
   "source": [
    "improvements = results.select(\"improvements\").to_list(flatten=True)\n",
    "improvements"
   ]
  },
  {
   "cell_type": "code",
   "execution_count": 25,
   "id": "cd346576-9a41-4e15-99ba-ff99fd0d0c06",
   "metadata": {},
   "outputs": [],
   "source": [
    "q_condensed_improvements = QuestionList(\n",
    "    question_name=\"condensed_improvements\",\n",
    "    question_text=\"\"\"Combine the following list of areas for improvement from the evaluations \n",
    "    into a consolidated, non-redundant list: \"\"\"\n",
    "    + \", \".join(improvements),\n",
    "    max_list_items=10,\n",
    ")"
   ]
  },
  {
   "cell_type": "code",
   "execution_count": 26,
   "id": "f8e00a94-1eb0-49a5-b338-5385220ee9a3",
   "metadata": {},
   "outputs": [
    {
     "name": "stdout",
     "output_type": "stream",
     "text": [
      "Remote inference activated. Sending job to server...\n",
      "Job sent to server. (Job uuid=63066bdb-612e-48b6-a2b8-2f0d43585227).\n"
     ]
    },
    {
     "data": {
      "text/html": [
       "<pre style=\"white-space:pre;overflow-x:auto;line-height:normal;font-family:Menlo,'DejaVu Sans Mono',consolas,'Courier New',monospace\">View job progress here: \n",
       "<a href=\"https://www.expectedparrot.com/home/remote-job-progress/63066bdb-612e-48b6-a2b8-2f0d43585227\" target=\"_blank\"><span style=\"color: #38bdf8; text-decoration-color: #38bdf8; text-decoration: underline\">https://www.expectedparrot.com/home/remote-job-progress/63066bdb-612e-48b6-a2b8-2f0d43585227</span></a>\n",
       "</pre>\n"
      ],
      "text/plain": [
       "View job progress here: \n",
       "\u001b]8;id=428171;https://www.expectedparrot.com/home/remote-job-progress/63066bdb-612e-48b6-a2b8-2f0d43585227\u001b\\\u001b[4;38;2;56;189;248mhttps://www.expectedparrot.com/home/remote-job-progress/63066bdb-612e-48b6-a2b8-2f0d43585227\u001b[0m\u001b]8;;\u001b\\\n"
      ]
     },
     "metadata": {},
     "output_type": "display_data"
    },
    {
     "name": "stdout",
     "output_type": "stream",
     "text": [
      "Job completed and Results stored on Coop: https://www.expectedparrot.com/content/0683be95-0862-4213-b68e-ea6077110cbd.\n"
     ]
    },
    {
     "data": {
      "text/plain": [
       "['Adjust lecture pacing and incorporate interactive activities',\n",
       " 'Provide additional resources and summaries for readings',\n",
       " 'Enhance feedback and provide detailed assignment critiques',\n",
       " 'Incorporate real-world applications and examples',\n",
       " 'Facilitate discussions and projects on current events',\n",
       " 'Increase variety and use of teaching methods and visual aids',\n",
       " 'Incorporate diverse and project-based assessments',\n",
       " 'Invite guest speakers and use real-world case studies',\n",
       " 'Select accessible and clear textbooks',\n",
       " 'Include practical applications and problem-solving exercises']"
      ]
     },
     "execution_count": 26,
     "metadata": {},
     "output_type": "execute_result"
    }
   ],
   "source": [
    "condensed_improvements = (\n",
    "    q_condensed_improvements.run().select(\"condensed_improvements\").to_list()[0]\n",
    ")\n",
    "condensed_improvements"
   ]
  },
  {
   "cell_type": "code",
   "execution_count": 27,
   "id": "3f59e1e7-559f-4ca8-9f94-9f75ab29d3f6",
   "metadata": {},
   "outputs": [],
   "source": [
    "q_improvements_list = QuestionCheckBox(\n",
    "    question_name=\"improvements_list\",\n",
    "    question_text=\"Select all of the improvements that are mentioned in this evaluation: {{ evaluation }}\",\n",
    "    question_options=condensed_improvements,\n",
    ")"
   ]
  },
  {
   "cell_type": "code",
   "execution_count": 28,
   "id": "89a896d5-2597-4f99-8a34-e8ecb0bf969b",
   "metadata": {},
   "outputs": [
    {
     "name": "stdout",
     "output_type": "stream",
     "text": [
      "Remote inference activated. Sending job to server...\n",
      "Job sent to server. (Job uuid=710ca57a-82e6-4e58-a1bd-9798f7859393).\n"
     ]
    },
    {
     "data": {
      "text/html": [
       "<pre style=\"white-space:pre;overflow-x:auto;line-height:normal;font-family:Menlo,'DejaVu Sans Mono',consolas,'Courier New',monospace\">View job progress here: \n",
       "<a href=\"https://www.expectedparrot.com/home/remote-job-progress/710ca57a-82e6-4e58-a1bd-9798f7859393\" target=\"_blank\"><span style=\"color: #38bdf8; text-decoration-color: #38bdf8; text-decoration: underline\">https://www.expectedparrot.com/home/remote-job-progress/710ca57a-82e6-4e58-a1bd-9798f7859393</span></a>\n",
       "</pre>\n"
      ],
      "text/plain": [
       "View job progress here: \n",
       "\u001b]8;id=297996;https://www.expectedparrot.com/home/remote-job-progress/710ca57a-82e6-4e58-a1bd-9798f7859393\u001b\\\u001b[4;38;2;56;189;248mhttps://www.expectedparrot.com/home/remote-job-progress/710ca57a-82e6-4e58-a1bd-9798f7859393\u001b[0m\u001b]8;;\u001b\\\n"
      ]
     },
     "metadata": {},
     "output_type": "display_data"
    },
    {
     "name": "stdout",
     "output_type": "stream",
     "text": [
      "Job completed and Results stored on Coop: https://www.expectedparrot.com/content/1e9d54c4-e63b-475e-b97a-e0480deb68c8.\n"
     ]
    },
    {
     "data": {
      "text/html": [
       "\n",
       "        <style>\n",
       "            :root {\n",
       "  --containerHeight: 350px;\n",
       "  --headerColor: blue;\n",
       "}\n",
       "\n",
       ".table-container {\n",
       "    height: var(--containerHeight) !important;\n",
       "    width: 100%;\n",
       "    overflow: auto;  /* This enables both horizontal and vertical scrolling */\n",
       "    border: 1px solid #d4d4d4;\n",
       "    background: transparent;\n",
       "    position: relative;  /* Create stacking context for sticky header */\n",
       "}\n",
       "\n",
       ".scroll-table {\n",
       "    /* Remove width: 100% to prevent table from being constrained */\n",
       "    /* min-width: 100% ensures table takes at least full container width */\n",
       "    min-width: 100%;\n",
       "    border-collapse: separate;\n",
       "    border-spacing: 4px;\n",
       "    background: transparent;\n",
       "    table-layout: auto;  /* Allow table to size based on content */\n",
       "}\n",
       "\n",
       ".scroll-table th {\n",
       "    background: transparent;  /* Semi-transparent background to ensure text readability */\n",
       "    position: sticky;\n",
       "    top: 0;\n",
       "    z-index: 1;\n",
       "    text-align: left !important;\n",
       "    padding: 8px;\n",
       "    font-weight: bold;\n",
       "    white-space: nowrap;  /* Prevent header text from wrapping */\n",
       "    min-width: 100px;    /* Ensure minimum column width */\n",
       "    backdrop-filter: blur(8px);  /* Optional: adds extra clarity */\n",
       "    color: var(--headerColor);\n",
       "}\n",
       "\n",
       ".scroll-table td {\n",
       "    padding: 8px;\n",
       "    text-align: left !important;\n",
       "    white-space: pre-wrap;\n",
       "    word-wrap: break-word;\n",
       "    vertical-align: top;\n",
       "    color: inherit;\n",
       "    border-bottom: none;\n",
       "    background: transparent;\n",
       "    min-width: 100px;    /* Match header minimum width */\n",
       "}\n",
       "\n",
       ".scroll-table tbody tr:hover {\n",
       "    background: transparent;\n",
       "}\n",
       "\n",
       "/* Additional rule to ensure header background is truly transparent */\n",
       ".scroll-table thead tr {\n",
       "    background: transparent !important;\n",
       "}\n",
       "\n",
       "/* Add shadow to indicate scrollable content */\n",
       ".table-container::after {\n",
       "    content: '';\n",
       "    position: absolute;\n",
       "    top: 0;\n",
       "    right: 0;\n",
       "    bottom: 0;\n",
       "    width: 5px;\n",
       "    background: linear-gradient(to right, transparent, rgba(242, 6, 6, 0.1));\n",
       "    pointer-events: none;\n",
       "    opacity: 0;\n",
       "    transition: opacity 0.3s;\n",
       "}\n",
       "\n",
       ".table-container:hover::after {\n",
       "    opacity: 1;\n",
       "}\n",
       "\n",
       "/* Handle Jupyter notebook specific styling */\n",
       ".jp-OutputArea-output .table-container {\n",
       "    max-width: 100%;\n",
       "    margin: 0;\n",
       "    overflow-x: auto;\n",
       "}\n",
       "        </style>\n",
       "        <div class=\"table-container\">\n",
       "            <div class=\"scroll-table-wrapper\">\n",
       "                <table class=\"scroll-table\">\n",
       "<thead>\n",
       "<tr><th>scenario.evaluation                                                                                                                                                                                                                                                                  </th><th>answer.improvements_list                                                                                                                                                     </th></tr>\n",
       "</thead>\n",
       "<tbody>\n",
       "<tr><td>I found the course very engaging and informative. The professor did an excellent job breaking down complex concepts, making them accessible to those of us new to economics. However, the pace was a bit fast, and I sometimes struggled to keep up with the weekly readings.        </td><td>[&#x27;Adjust lecture pacing and incorporate interactive activities&#x27;, &#x27;Provide additional resources and summaries for readings&#x27;]                                                  </td></tr>\n",
       "<tr><td>This class was a struggle for me. The material felt dry and difficult to connect with real-world applications, which I think could have made it more interesting. More examples from current events would definitely have helped spark my interest.                                  </td><td>[&#x27;Incorporate real-world applications and examples&#x27;, &#x27;Facilitate discussions and projects on current events&#x27;]                                                                </td></tr>\n",
       "<tr><td>Excellent introductory course! The professor was enthusiastic and always willing to offer extra help during office hours. The interactive lectures and the practical assignments made the theory much more digestible and engaging.                                                  </td><td>[]                                                                                                                                                                           </td></tr>\n",
       "<tr><td>As someone with a strong background in math, I appreciated the analytical rigor of this course. However, I wish there had been more discussions that connected the theories we learned to everyday economic issues. It felt a bit isolated from practical realities at times.        </td><td>[&#x27;Incorporate real-world applications and examples&#x27;, &#x27;Facilitate discussions and projects on current events&#x27;, &#x27;Include practical applications and problem-solving exercises&#x27;]</td></tr>\n",
       "<tr><td>I enjoyed the course, especially the group projects, which were both challenging and rewarding. It was great to apply economic concepts to solve real-life problems. I did feel, however, that the feedback on assignments could be more detailed to help us understand our mistakes.</td><td>[&#x27;Enhance feedback and provide detailed assignment critiques&#x27;]                                                                                                               </td></tr>\n",
       "<tr><td>The course content was well-organized, but the lectures were somewhat monotonous and hard to follow. I would suggest incorporating more visual aids and maybe some guest lectures from industry professionals to liven up the sessions.                                              </td><td>[&#x27;Increase variety and use of teaching methods and visual aids&#x27;, &#x27;Invite guest speakers and use real-world case studies&#x27;]                                                    </td></tr>\n",
       "<tr><td>This was my favorite class this semester! The mix of theory and case studies was perfect, and the exams were fair. I also really appreciated the diversity of perspectives we explored in class, especially in terms of global economic policies.                                    </td><td>[]                                                                                                                                                                           </td></tr>\n",
       "<tr><td>I found the textbook to be overly complex for an introductory course. It often used jargon that hadn&#x27;t been explained in lectures, which was confusing. Simpler reading materials or more explanatory lectures would make a big difference for newcomers to economics.               </td><td>[&#x27;Provide additional resources and summaries for readings&#x27;, &#x27;Select accessible and clear textbooks&#x27;]                                                                         </td></tr>\n",
       "<tr><td>The professor was knowledgeable and clearly passionate about economics, but I felt the course relied too heavily on tests rather than more creative forms of assessment. More varied assignments would make the course more accessible to students with different learning styles.   </td><td>[&#x27;Incorporate diverse and project-based assessments&#x27;]                                                                                                                        </td></tr>\n",
       "<tr><td>This class was a solid introduction to economics, though it leaned heavily on theoretical aspects. I would have liked more opportunities to discuss the real-world implications of economic theories, which I believe would enhance understanding and retention of the material.     </td><td>[&#x27;Incorporate real-world applications and examples&#x27;, &#x27;Facilitate discussions and projects on current events&#x27;, &#x27;Include practical applications and problem-solving exercises&#x27;]</td></tr>\n",
       "</tbody>\n",
       "</table>\n",
       "            </div>\n",
       "        </div>\n",
       "        "
      ],
      "text/plain": [
       "Dataset([{'scenario.evaluation': ['I found the course very engaging and informative. The professor did an excellent job breaking down complex concepts, making them accessible to those of us new to economics. However, the pace was a bit fast, and I sometimes struggled to keep up with the weekly readings.', 'This class was a struggle for me. The material felt dry and difficult to connect with real-world applications, which I think could have made it more interesting. More examples from current events would definitely have helped spark my interest.', 'Excellent introductory course! The professor was enthusiastic and always willing to offer extra help during office hours. The interactive lectures and the practical assignments made the theory much more digestible and engaging.', 'As someone with a strong background in math, I appreciated the analytical rigor of this course. However, I wish there had been more discussions that connected the theories we learned to everyday economic issues. It felt a bit isolated from practical realities at times.', 'I enjoyed the course, especially the group projects, which were both challenging and rewarding. It was great to apply economic concepts to solve real-life problems. I did feel, however, that the feedback on assignments could be more detailed to help us understand our mistakes.', 'The course content was well-organized, but the lectures were somewhat monotonous and hard to follow. I would suggest incorporating more visual aids and maybe some guest lectures from industry professionals to liven up the sessions.', 'This was my favorite class this semester! The mix of theory and case studies was perfect, and the exams were fair. I also really appreciated the diversity of perspectives we explored in class, especially in terms of global economic policies.', \"I found the textbook to be overly complex for an introductory course. It often used jargon that hadn't been explained in lectures, which was confusing. Simpler reading materials or more explanatory lectures would make a big difference for newcomers to economics.\", 'The professor was knowledgeable and clearly passionate about economics, but I felt the course relied too heavily on tests rather than more creative forms of assessment. More varied assignments would make the course more accessible to students with different learning styles.', 'This class was a solid introduction to economics, though it leaned heavily on theoretical aspects. I would have liked more opportunities to discuss the real-world implications of economic theories, which I believe would enhance understanding and retention of the material.']}, {'answer.improvements_list': [['Adjust lecture pacing and incorporate interactive activities', 'Provide additional resources and summaries for readings'], ['Incorporate real-world applications and examples', 'Facilitate discussions and projects on current events'], [], ['Incorporate real-world applications and examples', 'Facilitate discussions and projects on current events', 'Include practical applications and problem-solving exercises'], ['Enhance feedback and provide detailed assignment critiques'], ['Increase variety and use of teaching methods and visual aids', 'Invite guest speakers and use real-world case studies'], [], ['Provide additional resources and summaries for readings', 'Select accessible and clear textbooks'], ['Incorporate diverse and project-based assessments'], ['Incorporate real-world applications and examples', 'Facilitate discussions and projects on current events', 'Include practical applications and problem-solving exercises']]}])"
      ]
     },
     "execution_count": 28,
     "metadata": {},
     "output_type": "execute_result"
    }
   ],
   "source": [
    "improvements_lists = q_improvements_list.by(scenarios).by(agent).run()\n",
    "improvements_lists.select(\"evaluation\", \"improvements_list\")"
   ]
  },
  {
   "cell_type": "code",
   "execution_count": 29,
   "id": "c28907c3",
   "metadata": {},
   "outputs": [],
   "source": [
    "wide_themes = (improvements_lists\n",
    "               .select(\"evaluation\", \"improvements_list\")\n",
    "               .to_scenario_list()\n",
    "               .expand(\"improvements_list\")\n",
    "               .rename({\"improvements_list\": \"theme\"})\n",
    ")"
   ]
  },
  {
   "cell_type": "code",
   "execution_count": 30,
   "id": "974ad70b",
   "metadata": {},
   "outputs": [
    {
     "data": {
      "text/html": [
       "\n",
       "        <style>\n",
       "            :root {\n",
       "  --containerHeight: 350px;\n",
       "  --headerColor: blue;\n",
       "}\n",
       "\n",
       ".table-container {\n",
       "    height: var(--containerHeight) !important;\n",
       "    width: 100%;\n",
       "    overflow: auto;  /* This enables both horizontal and vertical scrolling */\n",
       "    border: 1px solid #d4d4d4;\n",
       "    background: transparent;\n",
       "    position: relative;  /* Create stacking context for sticky header */\n",
       "}\n",
       "\n",
       ".scroll-table {\n",
       "    /* Remove width: 100% to prevent table from being constrained */\n",
       "    /* min-width: 100% ensures table takes at least full container width */\n",
       "    min-width: 100%;\n",
       "    border-collapse: separate;\n",
       "    border-spacing: 4px;\n",
       "    background: transparent;\n",
       "    table-layout: auto;  /* Allow table to size based on content */\n",
       "}\n",
       "\n",
       ".scroll-table th {\n",
       "    background: transparent;  /* Semi-transparent background to ensure text readability */\n",
       "    position: sticky;\n",
       "    top: 0;\n",
       "    z-index: 1;\n",
       "    text-align: left !important;\n",
       "    padding: 8px;\n",
       "    font-weight: bold;\n",
       "    white-space: nowrap;  /* Prevent header text from wrapping */\n",
       "    min-width: 100px;    /* Ensure minimum column width */\n",
       "    backdrop-filter: blur(8px);  /* Optional: adds extra clarity */\n",
       "    color: var(--headerColor);\n",
       "}\n",
       "\n",
       ".scroll-table td {\n",
       "    padding: 8px;\n",
       "    text-align: left !important;\n",
       "    white-space: pre-wrap;\n",
       "    word-wrap: break-word;\n",
       "    vertical-align: top;\n",
       "    color: inherit;\n",
       "    border-bottom: none;\n",
       "    background: transparent;\n",
       "    min-width: 100px;    /* Match header minimum width */\n",
       "}\n",
       "\n",
       ".scroll-table tbody tr:hover {\n",
       "    background: transparent;\n",
       "}\n",
       "\n",
       "/* Additional rule to ensure header background is truly transparent */\n",
       ".scroll-table thead tr {\n",
       "    background: transparent !important;\n",
       "}\n",
       "\n",
       "/* Add shadow to indicate scrollable content */\n",
       ".table-container::after {\n",
       "    content: '';\n",
       "    position: absolute;\n",
       "    top: 0;\n",
       "    right: 0;\n",
       "    bottom: 0;\n",
       "    width: 5px;\n",
       "    background: linear-gradient(to right, transparent, rgba(242, 6, 6, 0.1));\n",
       "    pointer-events: none;\n",
       "    opacity: 0;\n",
       "    transition: opacity 0.3s;\n",
       "}\n",
       "\n",
       ".table-container:hover::after {\n",
       "    opacity: 1;\n",
       "}\n",
       "\n",
       "/* Handle Jupyter notebook specific styling */\n",
       ".jp-OutputArea-output .table-container {\n",
       "    max-width: 100%;\n",
       "    margin: 0;\n",
       "    overflow-x: auto;\n",
       "}\n",
       "        </style>\n",
       "        <div class=\"table-container\">\n",
       "            <div class=\"scroll-table-wrapper\">\n",
       "                <table class=\"scroll-table\">\n",
       "<thead>\n",
       "<tr><th>theme                                                       </th><th style=\"text-align: right;\">  count</th></tr>\n",
       "</thead>\n",
       "<tbody>\n",
       "<tr><td>Incorporate real-world applications and examples            </td><td style=\"text-align: right;\">      3</td></tr>\n",
       "<tr><td>Facilitate discussions and projects on current events       </td><td style=\"text-align: right;\">      3</td></tr>\n",
       "<tr><td>Provide additional resources and summaries for readings     </td><td style=\"text-align: right;\">      2</td></tr>\n",
       "<tr><td>Include practical applications and problem-solving exercises</td><td style=\"text-align: right;\">      2</td></tr>\n",
       "<tr><td>Adjust lecture pacing and incorporate interactive activities</td><td style=\"text-align: right;\">      1</td></tr>\n",
       "<tr><td>Enhance feedback and provide detailed assignment critiques  </td><td style=\"text-align: right;\">      1</td></tr>\n",
       "<tr><td>Increase variety and use of teaching methods and visual aids</td><td style=\"text-align: right;\">      1</td></tr>\n",
       "<tr><td>Invite guest speakers and use real-world case studies       </td><td style=\"text-align: right;\">      1</td></tr>\n",
       "<tr><td>Select accessible and clear textbooks                       </td><td style=\"text-align: right;\">      1</td></tr>\n",
       "<tr><td>Incorporate diverse and project-based assessments           </td><td style=\"text-align: right;\">      1</td></tr>\n",
       "</tbody>\n",
       "</table>\n",
       "            </div>\n",
       "        </div>\n",
       "        "
      ],
      "text/plain": [
       "Dataset([{'theme': ['Incorporate real-world applications and examples', 'Facilitate discussions and projects on current events', 'Provide additional resources and summaries for readings', 'Include practical applications and problem-solving exercises', 'Adjust lecture pacing and incorporate interactive activities', 'Enhance feedback and provide detailed assignment critiques', 'Increase variety and use of teaching methods and visual aids', 'Invite guest speakers and use real-world case studies', 'Select accessible and clear textbooks', 'Incorporate diverse and project-based assessments']}, {'count': [3, 3, 2, 2, 1, 1, 1, 1, 1, 1]}])"
      ]
     },
     "execution_count": 30,
     "metadata": {},
     "output_type": "execute_result"
    }
   ],
   "source": [
    "wide_themes.tally(\"theme\")"
   ]
  },
  {
   "cell_type": "code",
   "execution_count": 31,
   "id": "fc027f86",
   "metadata": {},
   "outputs": [],
   "source": [
    "improvements_summary = wide_themes.tally(\"theme\")"
   ]
  },
  {
   "cell_type": "code",
   "execution_count": 32,
   "id": "8a331493",
   "metadata": {},
   "outputs": [],
   "source": [
    "summary_string = improvements_summary.print(format = \"markdown\", return_string = True)"
   ]
  },
  {
   "cell_type": "markdown",
   "id": "f73ef4c2-8cff-4d4a-a081-77f12e3ca60f",
   "metadata": {
    "editable": true,
    "slideshow": {
     "slide_type": ""
    },
    "tags": []
   },
   "source": [
    "## Other examples\n",
    "Please check out the [EDSL Docs](https://docs.expectedparrot.com/en/latest/index.html) for examples of other methods and templates for use cases, and [join our Discord channel](https://discord.com/invite/mxAYkjfy9m) to ask questions and with other users!"
   ]
  },
  {
   "cell_type": "markdown",
   "id": "8d004fb9-f637-408a-b1d6-2f8d46da1a7b",
   "metadata": {},
   "source": [
    "## Posting to the Coop\n",
    "The [Coop](https://www.expectedparrot.com/content/explore) is a platform for creating, storing and sharing LLM-based research.\n",
    "It is fully integrated with EDSL and accessible from your workspace or Coop account page.\n",
    "Learn more about [creating an account](https://www.expectedparrot.com/login) and [using the Coop](https://docs.expectedparrot.com/en/latest/coop.html).\n",
    "\n",
    "We can post any EDSL object to the Coop by calling the `push()` method on it, including this notebook:"
   ]
  },
  {
   "cell_type": "code",
   "execution_count": 33,
   "id": "1d55e46a-cd9b-4743-bf80-08cc81d18e55",
   "metadata": {
    "editable": true,
    "slideshow": {
     "slide_type": ""
    },
    "tags": [
     "skip-execution"
    ]
   },
   "outputs": [],
   "source": [
    "from edsl import Notebook"
   ]
  },
  {
   "cell_type": "code",
   "execution_count": 34,
   "id": "fdf35b32-a9b4-48b2-8650-2ac8b70f1559",
   "metadata": {
    "editable": true,
    "slideshow": {
     "slide_type": ""
    },
    "tags": [
     "skip-execution"
    ]
   },
   "outputs": [],
   "source": [
    "n = Notebook(path = \"analyze_evaluations.ipynb\")"
   ]
  },
  {
   "cell_type": "code",
   "execution_count": 35,
   "id": "32f42634-5054-4d79-82ed-fa32024626e5",
   "metadata": {
    "editable": true,
    "slideshow": {
     "slide_type": ""
    },
    "tags": [
     "skip-execution"
    ]
   },
   "outputs": [
    {
     "data": {
      "text/plain": [
       "{'description': 'Example code for analyzing course evaluations',\n",
       " 'object_type': 'notebook',\n",
       " 'url': 'https://www.expectedparrot.com/content/2426d56f-5780-4812-a042-0560c554206f',\n",
       " 'uuid': '2426d56f-5780-4812-a042-0560c554206f',\n",
       " 'version': '0.1.38.dev1',\n",
       " 'visibility': 'public'}"
      ]
     },
     "execution_count": 35,
     "metadata": {},
     "output_type": "execute_result"
    }
   ],
   "source": [
    "n.push(description = \"Example code for analyzing course evaluations\", visibility = \"public\")"
   ]
  }
 ],
 "metadata": {
  "kernelspec": {
   "display_name": "Python 3 (ipykernel)",
   "language": "python",
   "name": "python3"
  },
  "language_info": {
   "codemirror_mode": {
    "name": "ipython",
    "version": 3
   },
   "file_extension": ".py",
   "mimetype": "text/x-python",
   "name": "python",
   "nbconvert_exporter": "python",
   "pygments_lexer": "ipython3",
   "version": "3.11.7"
  }
 },
 "nbformat": 4,
 "nbformat_minor": 5
}
