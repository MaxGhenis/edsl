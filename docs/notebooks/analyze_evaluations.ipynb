{
 "cells": [
  {
   "cell_type": "markdown",
   "id": "5f7d91f1-d71a-4271-8d2b-0dc770d2deb3",
   "metadata": {},
   "source": [
    "# Analyzing course evaluations\n",
    "This notebook provides sample EDSL code for using a language model to analyze a set of course evaluations. The analysis is designed as a survey of questions about the evaluations that we prompt an AI agent to answer, using a language model to generate the responses as a dataset.\n",
    "\n",
    "[EDSL](https://pypi.org/project/edsl/) is an open-source Python package for simulating surveys and experiments with AI agents and language models. Please [see our docs](https://docs.expectedparrot.com/en/latest/index.html#) for tips on getting started."
   ]
  },
  {
   "cell_type": "markdown",
   "id": "55d3eab2-f341-468e-b23f-ff4818227d11",
   "metadata": {},
   "source": [
    "## Technical setup\n",
    "Before running the code below, please see instructions for [installing EDSL](https://docs.expectedparrot.com/en/latest/installation.html) and [storing API keys](https://docs.expectedparrot.com/en/latest/api_keys.html) for the language models that you want to use. "
   ]
  },
  {
   "cell_type": "markdown",
   "id": "1e598a51-452b-4e58-9900-52f3f8701e0b",
   "metadata": {},
   "source": [
    "## Create questions\n",
    "We start by creating questions about the evaluations for an agent to answer. EDSL comes with a [variety of question types](https://docs.expectedparrot.com/en/latest/questions.html) (multiple choice, free text, etc.) that we can choose from based on the desired format of the response (e.g., a selection from a list of options, unstructured text, etc.). We can use a `{{ placeholder }}` in each question text in order to parameterize it with each evaluation. This allows us to create different \"scenarios\" of the questions that we can administer together."
   ]
  },
  {
   "cell_type": "markdown",
   "id": "1e5b3bc0-a7b0-423c-a889-44fcbd5284be",
   "metadata": {},
   "source": [
    "Here we select some question types:"
   ]
  },
  {
   "cell_type": "code",
   "execution_count": 1,
   "id": "adb62f9a-55c9-41bf-8d5a-9230de19e85b",
   "metadata": {},
   "outputs": [],
   "source": [
    "from edsl.questions import QuestionList, QuestionMultipleChoice"
   ]
  },
  {
   "cell_type": "markdown",
   "id": "c3bb0921-8181-44d8-bf52-f51b56f2f67b",
   "metadata": {},
   "source": [
    "Here we compose some questions in the relevant question type templates (see [examples of all types](https://docs.expectedparrot.com/en/latest/questions.html#question-type-classes) in the docs):"
   ]
  },
  {
   "cell_type": "code",
   "execution_count": 2,
   "id": "62069678-8864-4a9c-b505-0d107838549e",
   "metadata": {},
   "outputs": [],
   "source": [
    "q_sentiment = QuestionMultipleChoice(\n",
    "    question_name=\"sentiment\",\n",
    "    question_text=\"What is the overall sentiment of this evaluation: {{ evaluation }}\",\n",
    "    question_options=[\"Positive\", \"Neutral\", \"Negative\"],\n",
    ")\n",
    "\n",
    "q_themes = QuestionList(\n",
    "    question_name=\"themes\",\n",
    "    question_text=\"Summarize the key points of this evaluation: {{ evaluation }}\",\n",
    "    max_list_items=3,  # Optional\n",
    ")\n",
    "\n",
    "q_improvements = QuestionList(\n",
    "    question_name=\"improvements\",\n",
    "    question_text=\"Identify areas for improvement based on this evaluation: {{ evaluation }}\",\n",
    "    max_list_items=3,\n",
    ")"
   ]
  },
  {
   "cell_type": "markdown",
   "id": "d09e20f5-284b-4be4-827c-155916aa454c",
   "metadata": {},
   "source": [
    "## Construct a survey\n",
    "Next we combine our questions into a survey. This allows us to administer the questions asynchronously (by default), or according to any desired [survey logic or rules](https://docs.expectedparrot.com/en/latest/surveys.html) that we want to add, such as skip/stop rules or giving an agent \"memories\" of other questions in the survey. Here we create a simple asynchronous survey by passing the list of questions to a `Survey` object:"
   ]
  },
  {
   "cell_type": "code",
   "execution_count": 3,
   "id": "563a34b8-5a2f-4052-b977-7d6df824d723",
   "metadata": {},
   "outputs": [],
   "source": [
    "from edsl import Survey\n",
    "\n",
    "survey = Survey(questions=[q_sentiment, q_themes, q_improvements])"
   ]
  },
  {
   "cell_type": "markdown",
   "id": "cf8b238d-8771-4477-bab9-0c49fe6c9f4b",
   "metadata": {},
   "source": [
    "## Select data for review\n",
    "Next we identify the data to be analyzed. Here we use some mock evaluations for an Econ 101 course stored as a list of texts:"
   ]
  },
  {
   "cell_type": "code",
   "execution_count": 4,
   "id": "a1deaee8-4a95-4708-adcf-754032571652",
   "metadata": {},
   "outputs": [],
   "source": [
    "evaluations = [\n",
    "    \"I found the course very engaging and informative. The professor did an excellent job breaking down complex concepts, making them accessible to those of us new to economics. However, the pace was a bit fast, and I sometimes struggled to keep up with the weekly readings.\",\n",
    "    \"This class was a struggle for me. The material felt dry and difficult to connect with real-world applications, which I think could have made it more interesting. More examples from current events would definitely have helped spark my interest.\",\n",
    "    \"Excellent introductory course! The professor was enthusiastic and always willing to offer extra help during office hours. The interactive lectures and the practical assignments made the theory much more digestible and engaging.\",\n",
    "    \"As someone with a strong background in math, I appreciated the analytical rigor of this course. However, I wish there had been more discussions that connected the theories we learned to everyday economic issues. It felt a bit isolated from practical realities at times.\",\n",
    "    \"I enjoyed the course, especially the group projects, which were both challenging and rewarding. It was great to apply economic concepts to solve real-life problems. I did feel, however, that the feedback on assignments could be more detailed to help us understand our mistakes.\",\n",
    "    \"The course content was well-organized, but the lectures were somewhat monotonous and hard to follow. I would suggest incorporating more visual aids and maybe some guest lectures from industry professionals to liven up the sessions.\",\n",
    "    \"This was my favorite class this semester! The mix of theory and case studies was perfect, and the exams were fair. I also really appreciated the diversity of perspectives we explored in class, especially in terms of global economic policies.\",\n",
    "    \"I found the textbook to be overly complex for an introductory course. It often used jargon that hadn't been explained in lectures, which was confusing. Simpler reading materials or more explanatory lectures would make a big difference for newcomers to economics.\",\n",
    "    \"The professor was knowledgeable and clearly passionate about economics, but I felt the course relied too heavily on tests rather than more creative forms of assessment. More varied assignments would make the course more accessible to students with different learning styles.\",\n",
    "    \"This class was a solid introduction to economics, though it leaned heavily on theoretical aspects. I would have liked more opportunities to discuss the real-world implications of economic theories, which I believe would enhance understanding and retention of the material.\",\n",
    "]"
   ]
  },
  {
   "cell_type": "markdown",
   "id": "d9e3b6a6-af89-428e-82ad-829374cc4d5d",
   "metadata": {},
   "source": [
    "## Add data to the questions\n",
    "Next we create a `Scenario` for each evaluation that we will add to the questions when we run the survey:"
   ]
  },
  {
   "cell_type": "code",
   "execution_count": 5,
   "id": "e4145046-278b-4c21-884f-6379108cb6d5",
   "metadata": {},
   "outputs": [],
   "source": [
    "from edsl import ScenarioList\n",
    "\n",
    "scenarios = ScenarioList.from_list(\"evaluation\", evaluations)"
   ]
  },
  {
   "cell_type": "markdown",
   "id": "66effed9-37e5-42c1-8853-65e036ffc127",
   "metadata": {},
   "source": [
    "## Design AI agents\n",
    "Next we design agents with relevant traits and personas for the model to use in answering the questions. This can be useful if we want to compare responses among different audiences. We do this by passing a dictionaries of `traits` to `Agent` objects. We can also choose whether to give an agent additional instructions for ansering the survey (independent of individual question texts). Here we create a persona for the professor of the course and pass it some special instructions:"
   ]
  },
  {
   "cell_type": "code",
   "execution_count": 6,
   "id": "dbc8f766-ce89-4824-8f23-18064ae2a732",
   "metadata": {},
   "outputs": [],
   "source": [
    "from edsl import Agent\n",
    "\n",
    "persona = (\n",
    "    \"You are a professor reviewing student evaluations for your recent Econ 101 course.\"\n",
    ")\n",
    "instruction = \"Be very specific and constructive in providing feedback and suggestions.\"\n",
    "\n",
    "agent = Agent(traits={\"persona\": persona}, instruction=instruction)"
   ]
  },
  {
   "cell_type": "markdown",
   "id": "d212593d",
   "metadata": {},
   "source": []
  },
  {
   "cell_type": "markdown",
   "id": "ded18cb2-99bb-4622-bcd5-1dd4ad2ec0c9",
   "metadata": {},
   "source": [
    "## Select language models\n",
    "EDSL works with many popular language models that we can use to generate responses for our survey. We can see a current list of all available models:"
   ]
  },
  {
   "cell_type": "code",
   "execution_count": 7,
   "id": "d0af932e-a2de-48b2-afea-9960fde8b070",
   "metadata": {},
   "outputs": [],
   "source": [
    "from edsl import Model\n",
    "# To see available models, run 'Model.available()"
   ]
  },
  {
   "cell_type": "markdown",
   "id": "7840e3d7-a6cd-4721-bd2d-b0875894c43c",
   "metadata": {},
   "source": [
    "We select models to use with a survey by creating `Model` objects for them. The default model is GPT 4 Preview, meaning that EDSL will use it to run our survey if we do not specify a different model (with API keys stored). For purposes of demontration, we'll explicitly specify this model the way that we do any other model:"
   ]
  },
  {
   "cell_type": "code",
   "execution_count": 8,
   "id": "4d1b8189-289a-4dce-834d-95acf28c7524",
   "metadata": {},
   "outputs": [],
   "source": [
    "model = Model()"
   ]
  },
  {
   "cell_type": "markdown",
   "id": "2a93cb3f-dce5-49c5-865a-b01579697103",
   "metadata": {},
   "source": [
    "Learn more about available [language models and methods](https://docs.expectedparrot.com/en/latest/language_models.html)."
   ]
  },
  {
   "cell_type": "markdown",
   "id": "2dab396d-c2fe-4827-8edd-24e9c807fe82",
   "metadata": {},
   "source": [
    "## Run the survey\n",
    "Now we add the scenarios and agent to the survey, and then run it with the specified model. This will generate a dataset of responses that we can store and begin analyzing:"
   ]
  },
  {
   "cell_type": "code",
   "execution_count": 9,
   "id": "98980a22-aafd-40f3-b9c0-c2e3de35e320",
   "metadata": {},
   "outputs": [],
   "source": [
    "results = survey.by(scenarios).by(agent).by(model).run()"
   ]
  },
  {
   "cell_type": "markdown",
   "id": "5be23620-804f-4543-85c4-13d0ab9071b2",
   "metadata": {},
   "source": [
    "## Inspect the responses\n",
    "EDSL comes with [built-in methods for analyzing results](https://docs.expectedparrot.com/en/latest/results.html) in data tables, dataframes, SQL queries and other formats. We can print a list of all the components that can be accessed. Here we will just look at the first 5:"
   ]
  },
  {
   "cell_type": "code",
   "execution_count": 10,
   "id": "0b06995d-fe20-4021-80ee-ca5f62111fa1",
   "metadata": {},
   "outputs": [
    {
     "data": {
      "text/plain": [
       "['agent.agent_instruction',\n",
       " 'agent.agent_name',\n",
       " 'agent.persona',\n",
       " 'answer.improvements',\n",
       " 'answer.sentiment']"
      ]
     },
     "execution_count": 10,
     "metadata": {},
     "output_type": "execute_result"
    }
   ],
   "source": [
    "results.columns[:5]"
   ]
  },
  {
   "cell_type": "markdown",
   "id": "fc7edae4-b34e-417f-9526-1ca0dea2a30b",
   "metadata": {},
   "source": [
    "For example, we can transform the results into a dataframe:"
   ]
  },
  {
   "cell_type": "code",
   "execution_count": 11,
   "id": "d58fab0f-abb9-40be-840d-2ecc6f67138a",
   "metadata": {},
   "outputs": [
    {
     "data": {
      "text/html": [
       "<div>\n",
       "<style scoped>\n",
       "    .dataframe tbody tr th:only-of-type {\n",
       "        vertical-align: middle;\n",
       "    }\n",
       "\n",
       "    .dataframe tbody tr th {\n",
       "        vertical-align: top;\n",
       "    }\n",
       "\n",
       "    .dataframe thead th {\n",
       "        text-align: right;\n",
       "    }\n",
       "</style>\n",
       "<table border=\"1\" class=\"dataframe\">\n",
       "  <thead>\n",
       "    <tr style=\"text-align: right;\">\n",
       "      <th></th>\n",
       "      <th>answer.sentiment</th>\n",
       "      <th>answer.improvements</th>\n",
       "      <th>answer.themes</th>\n",
       "      <th>scenario.evaluation</th>\n",
       "      <th>agent.persona</th>\n",
       "      <th>agent.agent_name</th>\n",
       "      <th>agent.agent_instruction</th>\n",
       "      <th>model.presence_penalty</th>\n",
       "      <th>model.frequency_penalty</th>\n",
       "      <th>model.logprobs</th>\n",
       "      <th>...</th>\n",
       "      <th>question_text.sentiment_question_text</th>\n",
       "      <th>question_options.improvements_question_options</th>\n",
       "      <th>question_options.themes_question_options</th>\n",
       "      <th>question_options.sentiment_question_options</th>\n",
       "      <th>question_type.themes_question_type</th>\n",
       "      <th>question_type.sentiment_question_type</th>\n",
       "      <th>question_type.improvements_question_type</th>\n",
       "      <th>comment.sentiment_comment</th>\n",
       "      <th>comment.themes_comment</th>\n",
       "      <th>comment.improvements_comment</th>\n",
       "    </tr>\n",
       "  </thead>\n",
       "  <tbody>\n",
       "    <tr>\n",
       "      <th>0</th>\n",
       "      <td>Positive</td>\n",
       "      <td>['Adjust the course pacing', 'Provide addition...</td>\n",
       "      <td>['Course was engaging and informative', 'Profe...</td>\n",
       "      <td>I found the course very engaging and informati...</td>\n",
       "      <td>You are a professor reviewing student evaluati...</td>\n",
       "      <td>Agent_0</td>\n",
       "      <td>Be very specific and constructive in providing...</td>\n",
       "      <td>0</td>\n",
       "      <td>0</td>\n",
       "      <td>False</td>\n",
       "      <td>...</td>\n",
       "      <td>What is the overall sentiment of this evaluati...</td>\n",
       "      <td>NaN</td>\n",
       "      <td>NaN</td>\n",
       "      <td>['Positive', 'Neutral', 'Negative']</td>\n",
       "      <td>list</td>\n",
       "      <td>multiple_choice</td>\n",
       "      <td>list</td>\n",
       "      <td>The evaluation is generally positive, highligh...</td>\n",
       "      <td>The feedback highlights the positive aspects o...</td>\n",
       "      <td>The student's feedback indicates that while th...</td>\n",
       "    </tr>\n",
       "    <tr>\n",
       "      <th>1</th>\n",
       "      <td>Negative</td>\n",
       "      <td>['Incorporate more real-world examples into le...</td>\n",
       "      <td>['Student found the material dry and unengagin...</td>\n",
       "      <td>This class was a struggle for me. The material...</td>\n",
       "      <td>You are a professor reviewing student evaluati...</td>\n",
       "      <td>Agent_0</td>\n",
       "      <td>Be very specific and constructive in providing...</td>\n",
       "      <td>0</td>\n",
       "      <td>0</td>\n",
       "      <td>False</td>\n",
       "      <td>...</td>\n",
       "      <td>What is the overall sentiment of this evaluati...</td>\n",
       "      <td>NaN</td>\n",
       "      <td>NaN</td>\n",
       "      <td>['Positive', 'Neutral', 'Negative']</td>\n",
       "      <td>list</td>\n",
       "      <td>multiple_choice</td>\n",
       "      <td>list</td>\n",
       "      <td>The evaluation suggests that the student had d...</td>\n",
       "      <td>The student's evaluation indicates a need for ...</td>\n",
       "      <td>The feedback suggests that the student found t...</td>\n",
       "    </tr>\n",
       "    <tr>\n",
       "      <th>2</th>\n",
       "      <td>Positive</td>\n",
       "      <td>['Incorporate more real-world case studies', '...</td>\n",
       "      <td>['Enthusiastic teaching style', 'Availability ...</td>\n",
       "      <td>Excellent introductory course! The professor w...</td>\n",
       "      <td>You are a professor reviewing student evaluati...</td>\n",
       "      <td>Agent_0</td>\n",
       "      <td>Be very specific and constructive in providing...</td>\n",
       "      <td>0</td>\n",
       "      <td>0</td>\n",
       "      <td>False</td>\n",
       "      <td>...</td>\n",
       "      <td>What is the overall sentiment of this evaluati...</td>\n",
       "      <td>NaN</td>\n",
       "      <td>NaN</td>\n",
       "      <td>['Positive', 'Neutral', 'Negative']</td>\n",
       "      <td>list</td>\n",
       "      <td>multiple_choice</td>\n",
       "      <td>list</td>\n",
       "      <td>The evaluation is clearly appreciative of the ...</td>\n",
       "      <td>The feedback highlights the positive teaching ...</td>\n",
       "      <td>The feedback is generally positive, suggesting...</td>\n",
       "    </tr>\n",
       "    <tr>\n",
       "      <th>3</th>\n",
       "      <td>Neutral</td>\n",
       "      <td>['Incorporate more real-world examples into le...</td>\n",
       "      <td>['Appreciated analytical rigor', 'Desire for m...</td>\n",
       "      <td>As someone with a strong background in math, I...</td>\n",
       "      <td>You are a professor reviewing student evaluati...</td>\n",
       "      <td>Agent_0</td>\n",
       "      <td>Be very specific and constructive in providing...</td>\n",
       "      <td>0</td>\n",
       "      <td>0</td>\n",
       "      <td>False</td>\n",
       "      <td>...</td>\n",
       "      <td>What is the overall sentiment of this evaluati...</td>\n",
       "      <td>NaN</td>\n",
       "      <td>NaN</td>\n",
       "      <td>['Positive', 'Neutral', 'Negative']</td>\n",
       "      <td>list</td>\n",
       "      <td>multiple_choice</td>\n",
       "      <td>list</td>\n",
       "      <td>The evaluation suggests satisfaction with the ...</td>\n",
       "      <td>The student values the analytical aspect of th...</td>\n",
       "      <td>The feedback suggests that while the analytica...</td>\n",
       "    </tr>\n",
       "    <tr>\n",
       "      <th>4</th>\n",
       "      <td>Positive</td>\n",
       "      <td>['Provide more detailed feedback on assignment...</td>\n",
       "      <td>['Student appreciated group projects and pract...</td>\n",
       "      <td>I enjoyed the course, especially the group pro...</td>\n",
       "      <td>You are a professor reviewing student evaluati...</td>\n",
       "      <td>Agent_0</td>\n",
       "      <td>Be very specific and constructive in providing...</td>\n",
       "      <td>0</td>\n",
       "      <td>0</td>\n",
       "      <td>False</td>\n",
       "      <td>...</td>\n",
       "      <td>What is the overall sentiment of this evaluati...</td>\n",
       "      <td>NaN</td>\n",
       "      <td>NaN</td>\n",
       "      <td>['Positive', 'Neutral', 'Negative']</td>\n",
       "      <td>list</td>\n",
       "      <td>multiple_choice</td>\n",
       "      <td>list</td>\n",
       "      <td>The evaluation expresses enjoyment and appreci...</td>\n",
       "      <td>The feedback is constructive and highlights th...</td>\n",
       "      <td>The student appreciates the practical applicat...</td>\n",
       "    </tr>\n",
       "  </tbody>\n",
       "</table>\n",
       "<p>5 rows × 36 columns</p>\n",
       "</div>"
      ],
      "text/plain": [
       "  answer.sentiment                                answer.improvements  \\\n",
       "0         Positive  ['Adjust the course pacing', 'Provide addition...   \n",
       "1         Negative  ['Incorporate more real-world examples into le...   \n",
       "2         Positive  ['Incorporate more real-world case studies', '...   \n",
       "3          Neutral  ['Incorporate more real-world examples into le...   \n",
       "4         Positive  ['Provide more detailed feedback on assignment...   \n",
       "\n",
       "                                       answer.themes  \\\n",
       "0  ['Course was engaging and informative', 'Profe...   \n",
       "1  ['Student found the material dry and unengagin...   \n",
       "2  ['Enthusiastic teaching style', 'Availability ...   \n",
       "3  ['Appreciated analytical rigor', 'Desire for m...   \n",
       "4  ['Student appreciated group projects and pract...   \n",
       "\n",
       "                                 scenario.evaluation  \\\n",
       "0  I found the course very engaging and informati...   \n",
       "1  This class was a struggle for me. The material...   \n",
       "2  Excellent introductory course! The professor w...   \n",
       "3  As someone with a strong background in math, I...   \n",
       "4  I enjoyed the course, especially the group pro...   \n",
       "\n",
       "                                       agent.persona agent.agent_name  \\\n",
       "0  You are a professor reviewing student evaluati...          Agent_0   \n",
       "1  You are a professor reviewing student evaluati...          Agent_0   \n",
       "2  You are a professor reviewing student evaluati...          Agent_0   \n",
       "3  You are a professor reviewing student evaluati...          Agent_0   \n",
       "4  You are a professor reviewing student evaluati...          Agent_0   \n",
       "\n",
       "                             agent.agent_instruction  model.presence_penalty  \\\n",
       "0  Be very specific and constructive in providing...                       0   \n",
       "1  Be very specific and constructive in providing...                       0   \n",
       "2  Be very specific and constructive in providing...                       0   \n",
       "3  Be very specific and constructive in providing...                       0   \n",
       "4  Be very specific and constructive in providing...                       0   \n",
       "\n",
       "   model.frequency_penalty  model.logprobs  ...  \\\n",
       "0                        0           False  ...   \n",
       "1                        0           False  ...   \n",
       "2                        0           False  ...   \n",
       "3                        0           False  ...   \n",
       "4                        0           False  ...   \n",
       "\n",
       "               question_text.sentiment_question_text  \\\n",
       "0  What is the overall sentiment of this evaluati...   \n",
       "1  What is the overall sentiment of this evaluati...   \n",
       "2  What is the overall sentiment of this evaluati...   \n",
       "3  What is the overall sentiment of this evaluati...   \n",
       "4  What is the overall sentiment of this evaluati...   \n",
       "\n",
       "   question_options.improvements_question_options  \\\n",
       "0                                             NaN   \n",
       "1                                             NaN   \n",
       "2                                             NaN   \n",
       "3                                             NaN   \n",
       "4                                             NaN   \n",
       "\n",
       "   question_options.themes_question_options  \\\n",
       "0                                       NaN   \n",
       "1                                       NaN   \n",
       "2                                       NaN   \n",
       "3                                       NaN   \n",
       "4                                       NaN   \n",
       "\n",
       "   question_options.sentiment_question_options  \\\n",
       "0          ['Positive', 'Neutral', 'Negative']   \n",
       "1          ['Positive', 'Neutral', 'Negative']   \n",
       "2          ['Positive', 'Neutral', 'Negative']   \n",
       "3          ['Positive', 'Neutral', 'Negative']   \n",
       "4          ['Positive', 'Neutral', 'Negative']   \n",
       "\n",
       "  question_type.themes_question_type question_type.sentiment_question_type  \\\n",
       "0                               list                       multiple_choice   \n",
       "1                               list                       multiple_choice   \n",
       "2                               list                       multiple_choice   \n",
       "3                               list                       multiple_choice   \n",
       "4                               list                       multiple_choice   \n",
       "\n",
       "  question_type.improvements_question_type  \\\n",
       "0                                     list   \n",
       "1                                     list   \n",
       "2                                     list   \n",
       "3                                     list   \n",
       "4                                     list   \n",
       "\n",
       "                           comment.sentiment_comment  \\\n",
       "0  The evaluation is generally positive, highligh...   \n",
       "1  The evaluation suggests that the student had d...   \n",
       "2  The evaluation is clearly appreciative of the ...   \n",
       "3  The evaluation suggests satisfaction with the ...   \n",
       "4  The evaluation expresses enjoyment and appreci...   \n",
       "\n",
       "                              comment.themes_comment  \\\n",
       "0  The feedback highlights the positive aspects o...   \n",
       "1  The student's evaluation indicates a need for ...   \n",
       "2  The feedback highlights the positive teaching ...   \n",
       "3  The student values the analytical aspect of th...   \n",
       "4  The feedback is constructive and highlights th...   \n",
       "\n",
       "                        comment.improvements_comment  \n",
       "0  The student's feedback indicates that while th...  \n",
       "1  The feedback suggests that the student found t...  \n",
       "2  The feedback is generally positive, suggesting...  \n",
       "3  The feedback suggests that while the analytica...  \n",
       "4  The student appreciates the practical applicat...  \n",
       "\n",
       "[5 rows x 36 columns]"
      ]
     },
     "execution_count": 11,
     "metadata": {},
     "output_type": "execute_result"
    }
   ],
   "source": [
    "df = results.to_pandas()\n",
    "df.head()"
   ]
  },
  {
   "cell_type": "markdown",
   "id": "72755341-f2fb-4b93-8467-3a0f57d429c3",
   "metadata": {},
   "source": [
    "Here we select just the responses to the questions and display them in a table:"
   ]
  },
  {
   "cell_type": "code",
   "execution_count": 12,
   "id": "8b105f11-0cb0-45af-a7e7-f77c6d5becd1",
   "metadata": {},
   "outputs": [
    {
     "data": {
      "text/html": [
       "<pre style=\"white-space:pre;overflow-x:auto;line-height:normal;font-family:Menlo,'DejaVu Sans Mono',consolas,'Courier New',monospace\">┏━━━━━━━━━━━━┳━━━━━━━━━━━━━━━━━━━━━━━━━━━━━━━━━━━━━━━━━━━━━━━━━┳━━━━━━━━━━━━━━━━━━━━━━━━━━━━━━━━━━━━━━━━━━━━━━━━━━┓\n",
       "┃<span style=\"color: #800080; text-decoration-color: #800080; font-weight: bold\"> answer     </span>┃<span style=\"color: #800080; text-decoration-color: #800080; font-weight: bold\"> answer                                          </span>┃<span style=\"color: #800080; text-decoration-color: #800080; font-weight: bold\"> answer                                           </span>┃\n",
       "┃<span style=\"color: #800080; text-decoration-color: #800080; font-weight: bold\"> .sentiment </span>┃<span style=\"color: #800080; text-decoration-color: #800080; font-weight: bold\"> .themes                                         </span>┃<span style=\"color: #800080; text-decoration-color: #800080; font-weight: bold\"> .improvements                                    </span>┃\n",
       "┡━━━━━━━━━━━━╇━━━━━━━━━━━━━━━━━━━━━━━━━━━━━━━━━━━━━━━━━━━━━━━━━╇━━━━━━━━━━━━━━━━━━━━━━━━━━━━━━━━━━━━━━━━━━━━━━━━━━┩\n",
       "│<span style=\"color: #7f7f7f; text-decoration-color: #7f7f7f\"> Positive   </span>│<span style=\"color: #7f7f7f; text-decoration-color: #7f7f7f\"> ['Course was engaging and informative',         </span>│<span style=\"color: #7f7f7f; text-decoration-color: #7f7f7f\"> ['Adjust the course pacing', 'Provide additional </span>│\n",
       "│<span style=\"color: #7f7f7f; text-decoration-color: #7f7f7f\">            </span>│<span style=\"color: #7f7f7f; text-decoration-color: #7f7f7f\"> 'Professor effectively simplified complex       </span>│<span style=\"color: #7f7f7f; text-decoration-color: #7f7f7f\"> support for weekly readings', 'Consider          </span>│\n",
       "│<span style=\"color: #7f7f7f; text-decoration-color: #7f7f7f\">            </span>│<span style=\"color: #7f7f7f; text-decoration-color: #7f7f7f\"> concepts', 'Course pace was fast, making it     </span>│<span style=\"color: #7f7f7f; text-decoration-color: #7f7f7f\"> supplemental review sessions']                   </span>│\n",
       "│<span style=\"color: #7f7f7f; text-decoration-color: #7f7f7f\">            </span>│<span style=\"color: #7f7f7f; text-decoration-color: #7f7f7f\"> hard to keep up with readings']                 </span>│<span style=\"color: #7f7f7f; text-decoration-color: #7f7f7f\">                                                  </span>│\n",
       "├────────────┼─────────────────────────────────────────────────┼──────────────────────────────────────────────────┤\n",
       "│<span style=\"color: #7f7f7f; text-decoration-color: #7f7f7f\"> Negative   </span>│<span style=\"color: #7f7f7f; text-decoration-color: #7f7f7f\"> ['Student found the material dry and            </span>│<span style=\"color: #7f7f7f; text-decoration-color: #7f7f7f\"> ['Incorporate more real-world examples into      </span>│\n",
       "│<span style=\"color: #7f7f7f; text-decoration-color: #7f7f7f\">            </span>│<span style=\"color: #7f7f7f; text-decoration-color: #7f7f7f\"> unengaging', 'Difficulty in relating the        </span>│<span style=\"color: #7f7f7f; text-decoration-color: #7f7f7f\"> lectures', 'Use current events to illustrate     </span>│\n",
       "│<span style=\"color: #7f7f7f; text-decoration-color: #7f7f7f\">            </span>│<span style=\"color: #7f7f7f; text-decoration-color: #7f7f7f\"> material to real-world applications',           </span>│<span style=\"color: #7f7f7f; text-decoration-color: #7f7f7f\"> economic principles', 'Develop interactive class </span>│\n",
       "│<span style=\"color: #7f7f7f; text-decoration-color: #7f7f7f\">            </span>│<span style=\"color: #7f7f7f; text-decoration-color: #7f7f7f\"> 'Suggestion to include more current event       </span>│<span style=\"color: #7f7f7f; text-decoration-color: #7f7f7f\"> activities to enhance engagement']               </span>│\n",
       "│<span style=\"color: #7f7f7f; text-decoration-color: #7f7f7f\">            </span>│<span style=\"color: #7f7f7f; text-decoration-color: #7f7f7f\"> examples']                                      </span>│<span style=\"color: #7f7f7f; text-decoration-color: #7f7f7f\">                                                  </span>│\n",
       "├────────────┼─────────────────────────────────────────────────┼──────────────────────────────────────────────────┤\n",
       "│<span style=\"color: #7f7f7f; text-decoration-color: #7f7f7f\"> Positive   </span>│<span style=\"color: #7f7f7f; text-decoration-color: #7f7f7f\"> ['Enthusiastic teaching style', 'Availability   </span>│<span style=\"color: #7f7f7f; text-decoration-color: #7f7f7f\"> ['Incorporate more real-world case studies',     </span>│\n",
       "│<span style=\"color: #7f7f7f; text-decoration-color: #7f7f7f\">            </span>│<span style=\"color: #7f7f7f; text-decoration-color: #7f7f7f\"> for extra help', 'Effective use of interactive  </span>│<span style=\"color: #7f7f7f; text-decoration-color: #7f7f7f\"> 'Enhance the use of multimedia to supplement     </span>│\n",
       "│<span style=\"color: #7f7f7f; text-decoration-color: #7f7f7f\">            </span>│<span style=\"color: #7f7f7f; text-decoration-color: #7f7f7f\"> lectures and practical assignments']            </span>│<span style=\"color: #7f7f7f; text-decoration-color: #7f7f7f\"> lectures', 'Offer additional resources for       </span>│\n",
       "│<span style=\"color: #7f7f7f; text-decoration-color: #7f7f7f\">            </span>│<span style=\"color: #7f7f7f; text-decoration-color: #7f7f7f\">                                                 </span>│<span style=\"color: #7f7f7f; text-decoration-color: #7f7f7f\"> advanced study']                                 </span>│\n",
       "├────────────┼─────────────────────────────────────────────────┼──────────────────────────────────────────────────┤\n",
       "│<span style=\"color: #7f7f7f; text-decoration-color: #7f7f7f\"> Neutral    </span>│<span style=\"color: #7f7f7f; text-decoration-color: #7f7f7f\"> ['Appreciated analytical rigor', 'Desire for    </span>│<span style=\"color: #7f7f7f; text-decoration-color: #7f7f7f\"> ['Incorporate more real-world examples into      </span>│\n",
       "│<span style=\"color: #7f7f7f; text-decoration-color: #7f7f7f\">            </span>│<span style=\"color: #7f7f7f; text-decoration-color: #7f7f7f\"> more real-world applications', 'Felt theories   </span>│<span style=\"color: #7f7f7f; text-decoration-color: #7f7f7f\"> lectures', 'Facilitate class discussions on      </span>│\n",
       "│<span style=\"color: #7f7f7f; text-decoration-color: #7f7f7f\">            </span>│<span style=\"color: #7f7f7f; text-decoration-color: #7f7f7f\"> were isolated from practical realities']        </span>│<span style=\"color: #7f7f7f; text-decoration-color: #7f7f7f\"> current economic events', 'Assign case studies   </span>│\n",
       "│<span style=\"color: #7f7f7f; text-decoration-color: #7f7f7f\">            </span>│<span style=\"color: #7f7f7f; text-decoration-color: #7f7f7f\">                                                 </span>│<span style=\"color: #7f7f7f; text-decoration-color: #7f7f7f\"> or articles that relate theory to practice']     </span>│\n",
       "├────────────┼─────────────────────────────────────────────────┼──────────────────────────────────────────────────┤\n",
       "│<span style=\"color: #7f7f7f; text-decoration-color: #7f7f7f\"> Positive   </span>│<span style=\"color: #7f7f7f; text-decoration-color: #7f7f7f\"> ['Student appreciated group projects and        </span>│<span style=\"color: #7f7f7f; text-decoration-color: #7f7f7f\"> ['Provide more detailed feedback on              </span>│\n",
       "│<span style=\"color: #7f7f7f; text-decoration-color: #7f7f7f\">            </span>│<span style=\"color: #7f7f7f; text-decoration-color: #7f7f7f\"> practical application of economic concepts',    </span>│<span style=\"color: #7f7f7f; text-decoration-color: #7f7f7f\"> assignments', 'Clarify understanding of economic </span>│\n",
       "│<span style=\"color: #7f7f7f; text-decoration-color: #7f7f7f\">            </span>│<span style=\"color: #7f7f7f; text-decoration-color: #7f7f7f\"> 'Student desires more detailed feedback on      </span>│<span style=\"color: #7f7f7f; text-decoration-color: #7f7f7f\"> concepts through feedback', 'Offer additional    </span>│\n",
       "│<span style=\"color: #7f7f7f; text-decoration-color: #7f7f7f\">            </span>│<span style=\"color: #7f7f7f; text-decoration-color: #7f7f7f\"> assignments', 'Student enjoyed the course       </span>│<span style=\"color: #7f7f7f; text-decoration-color: #7f7f7f\"> resources or sessions to review common           </span>│\n",
       "│<span style=\"color: #7f7f7f; text-decoration-color: #7f7f7f\">            </span>│<span style=\"color: #7f7f7f; text-decoration-color: #7f7f7f\"> overall']                                       </span>│<span style=\"color: #7f7f7f; text-decoration-color: #7f7f7f\"> mistakes']                                       </span>│\n",
       "├────────────┼─────────────────────────────────────────────────┼──────────────────────────────────────────────────┤\n",
       "│<span style=\"color: #7f7f7f; text-decoration-color: #7f7f7f\"> Neutral    </span>│<span style=\"color: #7f7f7f; text-decoration-color: #7f7f7f\"> ['Course content organization is good',         </span>│<span style=\"color: #7f7f7f; text-decoration-color: #7f7f7f\"> ['Enhance lecture engagement through varied      </span>│\n",
       "│<span style=\"color: #7f7f7f; text-decoration-color: #7f7f7f\">            </span>│<span style=\"color: #7f7f7f; text-decoration-color: #7f7f7f\"> 'Lectures are monotonous and hard to follow',   </span>│<span style=\"color: #7f7f7f; text-decoration-color: #7f7f7f\"> teaching methods', 'Incorporate more visual aids </span>│\n",
       "│<span style=\"color: #7f7f7f; text-decoration-color: #7f7f7f\">            </span>│<span style=\"color: #7f7f7f; text-decoration-color: #7f7f7f\"> 'Incorporate more visual aids and guest         </span>│<span style=\"color: #7f7f7f; text-decoration-color: #7f7f7f\"> to support learning', 'Invite guest speakers to  </span>│\n",
       "│<span style=\"color: #7f7f7f; text-decoration-color: #7f7f7f\">            </span>│<span style=\"color: #7f7f7f; text-decoration-color: #7f7f7f\"> lectures']                                      </span>│<span style=\"color: #7f7f7f; text-decoration-color: #7f7f7f\"> provide practical insights']                     </span>│\n",
       "├────────────┼─────────────────────────────────────────────────┼──────────────────────────────────────────────────┤\n",
       "│<span style=\"color: #7f7f7f; text-decoration-color: #7f7f7f\"> Positive   </span>│<span style=\"color: #7f7f7f; text-decoration-color: #7f7f7f\"> ['Effective integration of theory and practical </span>│<span style=\"color: #7f7f7f; text-decoration-color: #7f7f7f\"> ['Explore additional interactive learning        </span>│\n",
       "│<span style=\"color: #7f7f7f; text-decoration-color: #7f7f7f\">            </span>│<span style=\"color: #7f7f7f; text-decoration-color: #7f7f7f\"> case studies', 'Fairness of examinations',      </span>│<span style=\"color: #7f7f7f; text-decoration-color: #7f7f7f\"> methods', 'Incorporate more current events into  </span>│\n",
       "│<span style=\"color: #7f7f7f; text-decoration-color: #7f7f7f\">            </span>│<span style=\"color: #7f7f7f; text-decoration-color: #7f7f7f\"> 'Inclusion of diverse global economic           </span>│<span style=\"color: #7f7f7f; text-decoration-color: #7f7f7f\"> the curriculum', 'Enhance online resources and   </span>│\n",
       "│<span style=\"color: #7f7f7f; text-decoration-color: #7f7f7f\">            </span>│<span style=\"color: #7f7f7f; text-decoration-color: #7f7f7f\"> perspectives']                                  </span>│<span style=\"color: #7f7f7f; text-decoration-color: #7f7f7f\"> support']                                        </span>│\n",
       "├────────────┼─────────────────────────────────────────────────┼──────────────────────────────────────────────────┤\n",
       "│<span style=\"color: #7f7f7f; text-decoration-color: #7f7f7f\"> Negative   </span>│<span style=\"color: #7f7f7f; text-decoration-color: #7f7f7f\"> ['Textbook complexity is high for an            </span>│<span style=\"color: #7f7f7f; text-decoration-color: #7f7f7f\"> ['Reevaluate textbook choice for appropriateness </span>│\n",
       "│<span style=\"color: #7f7f7f; text-decoration-color: #7f7f7f\">            </span>│<span style=\"color: #7f7f7f; text-decoration-color: #7f7f7f\"> introductory level', 'Jargon in the textbook is </span>│<span style=\"color: #7f7f7f; text-decoration-color: #7f7f7f\"> to course level', 'Incorporate a glossary or     </span>│\n",
       "│<span style=\"color: #7f7f7f; text-decoration-color: #7f7f7f\">            </span>│<span style=\"color: #7f7f7f; text-decoration-color: #7f7f7f\"> not adequately explained in lectures', 'Need    </span>│<span style=\"color: #7f7f7f; text-decoration-color: #7f7f7f\"> jargon explanations in lectures', 'Supplement    </span>│\n",
       "│<span style=\"color: #7f7f7f; text-decoration-color: #7f7f7f\">            </span>│<span style=\"color: #7f7f7f; text-decoration-color: #7f7f7f\"> for simpler reading materials or more           </span>│<span style=\"color: #7f7f7f; text-decoration-color: #7f7f7f\"> lectures with simpler reading materials']        </span>│\n",
       "│<span style=\"color: #7f7f7f; text-decoration-color: #7f7f7f\">            </span>│<span style=\"color: #7f7f7f; text-decoration-color: #7f7f7f\"> comprehensive lectures']                        </span>│<span style=\"color: #7f7f7f; text-decoration-color: #7f7f7f\">                                                  </span>│\n",
       "├────────────┼─────────────────────────────────────────────────┼──────────────────────────────────────────────────┤\n",
       "│<span style=\"color: #7f7f7f; text-decoration-color: #7f7f7f\"> Neutral    </span>│<span style=\"color: #7f7f7f; text-decoration-color: #7f7f7f\"> ['Professor is knowledgeable and passionate     </span>│<span style=\"color: #7f7f7f; text-decoration-color: #7f7f7f\"> ['Incorporate diverse assessment methods',       </span>│\n",
       "│<span style=\"color: #7f7f7f; text-decoration-color: #7f7f7f\">            </span>│<span style=\"color: #7f7f7f; text-decoration-color: #7f7f7f\"> about economics', 'Course overemphasizes tests  </span>│<span style=\"color: #7f7f7f; text-decoration-color: #7f7f7f\"> 'Explore alternative teaching strategies to      </span>│\n",
       "│<span style=\"color: #7f7f7f; text-decoration-color: #7f7f7f\">            </span>│<span style=\"color: #7f7f7f; text-decoration-color: #7f7f7f\"> for assessment', 'Calls for a variety of        </span>│<span style=\"color: #7f7f7f; text-decoration-color: #7f7f7f\"> accommodate different learning styles', 'Provide </span>│\n",
       "│<span style=\"color: #7f7f7f; text-decoration-color: #7f7f7f\">            </span>│<span style=\"color: #7f7f7f; text-decoration-color: #7f7f7f\"> assignments to cater to different learning      </span>│<span style=\"color: #7f7f7f; text-decoration-color: #7f7f7f\"> additional resources to support varied learning  </span>│\n",
       "│<span style=\"color: #7f7f7f; text-decoration-color: #7f7f7f\">            </span>│<span style=\"color: #7f7f7f; text-decoration-color: #7f7f7f\"> styles']                                        </span>│<span style=\"color: #7f7f7f; text-decoration-color: #7f7f7f\"> approaches']                                     </span>│\n",
       "├────────────┼─────────────────────────────────────────────────┼──────────────────────────────────────────────────┤\n",
       "│<span style=\"color: #7f7f7f; text-decoration-color: #7f7f7f\"> Neutral    </span>│<span style=\"color: #7f7f7f; text-decoration-color: #7f7f7f\"> ['Course provided a good foundational           </span>│<span style=\"color: #7f7f7f; text-decoration-color: #7f7f7f\"> ['Incorporate more real-world examples into the  </span>│\n",
       "│<span style=\"color: #7f7f7f; text-decoration-color: #7f7f7f\">            </span>│<span style=\"color: #7f7f7f; text-decoration-color: #7f7f7f\"> understanding of economics', 'Content was       </span>│<span style=\"color: #7f7f7f; text-decoration-color: #7f7f7f\"> curriculum', 'Facilitate discussions on current  </span>│\n",
       "│<span style=\"color: #7f7f7f; text-decoration-color: #7f7f7f\">            </span>│<span style=\"color: #7f7f7f; text-decoration-color: #7f7f7f\"> heavily focused on theory', 'Desire for more    </span>│<span style=\"color: #7f7f7f; text-decoration-color: #7f7f7f\"> economic events', 'Design assignments that apply </span>│\n",
       "│<span style=\"color: #7f7f7f; text-decoration-color: #7f7f7f\">            </span>│<span style=\"color: #7f7f7f; text-decoration-color: #7f7f7f\"> discussion on real-world applications of        </span>│<span style=\"color: #7f7f7f; text-decoration-color: #7f7f7f\"> theories to practical scenarios']                </span>│\n",
       "│<span style=\"color: #7f7f7f; text-decoration-color: #7f7f7f\">            </span>│<span style=\"color: #7f7f7f; text-decoration-color: #7f7f7f\"> economic theories']                             </span>│<span style=\"color: #7f7f7f; text-decoration-color: #7f7f7f\">                                                  </span>│\n",
       "└────────────┴─────────────────────────────────────────────────┴──────────────────────────────────────────────────┘\n",
       "</pre>\n"
      ],
      "text/plain": [
       "┏━━━━━━━━━━━━┳━━━━━━━━━━━━━━━━━━━━━━━━━━━━━━━━━━━━━━━━━━━━━━━━━┳━━━━━━━━━━━━━━━━━━━━━━━━━━━━━━━━━━━━━━━━━━━━━━━━━━┓\n",
       "┃\u001b[1;35m \u001b[0m\u001b[1;35manswer    \u001b[0m\u001b[1;35m \u001b[0m┃\u001b[1;35m \u001b[0m\u001b[1;35manswer                                         \u001b[0m\u001b[1;35m \u001b[0m┃\u001b[1;35m \u001b[0m\u001b[1;35manswer                                          \u001b[0m\u001b[1;35m \u001b[0m┃\n",
       "┃\u001b[1;35m \u001b[0m\u001b[1;35m.sentiment\u001b[0m\u001b[1;35m \u001b[0m┃\u001b[1;35m \u001b[0m\u001b[1;35m.themes                                        \u001b[0m\u001b[1;35m \u001b[0m┃\u001b[1;35m \u001b[0m\u001b[1;35m.improvements                                   \u001b[0m\u001b[1;35m \u001b[0m┃\n",
       "┡━━━━━━━━━━━━╇━━━━━━━━━━━━━━━━━━━━━━━━━━━━━━━━━━━━━━━━━━━━━━━━━╇━━━━━━━━━━━━━━━━━━━━━━━━━━━━━━━━━━━━━━━━━━━━━━━━━━┩\n",
       "│\u001b[2m \u001b[0m\u001b[2mPositive  \u001b[0m\u001b[2m \u001b[0m│\u001b[2m \u001b[0m\u001b[2m['Course was engaging and informative',        \u001b[0m\u001b[2m \u001b[0m│\u001b[2m \u001b[0m\u001b[2m['Adjust the course pacing', 'Provide additional\u001b[0m\u001b[2m \u001b[0m│\n",
       "│\u001b[2m            \u001b[0m│\u001b[2m \u001b[0m\u001b[2m'Professor effectively simplified complex      \u001b[0m\u001b[2m \u001b[0m│\u001b[2m \u001b[0m\u001b[2msupport for weekly readings', 'Consider         \u001b[0m\u001b[2m \u001b[0m│\n",
       "│\u001b[2m            \u001b[0m│\u001b[2m \u001b[0m\u001b[2mconcepts', 'Course pace was fast, making it    \u001b[0m\u001b[2m \u001b[0m│\u001b[2m \u001b[0m\u001b[2msupplemental review sessions']                  \u001b[0m\u001b[2m \u001b[0m│\n",
       "│\u001b[2m            \u001b[0m│\u001b[2m \u001b[0m\u001b[2mhard to keep up with readings']                \u001b[0m\u001b[2m \u001b[0m│\u001b[2m                                                  \u001b[0m│\n",
       "├────────────┼─────────────────────────────────────────────────┼──────────────────────────────────────────────────┤\n",
       "│\u001b[2m \u001b[0m\u001b[2mNegative  \u001b[0m\u001b[2m \u001b[0m│\u001b[2m \u001b[0m\u001b[2m['Student found the material dry and           \u001b[0m\u001b[2m \u001b[0m│\u001b[2m \u001b[0m\u001b[2m['Incorporate more real-world examples into     \u001b[0m\u001b[2m \u001b[0m│\n",
       "│\u001b[2m            \u001b[0m│\u001b[2m \u001b[0m\u001b[2munengaging', 'Difficulty in relating the       \u001b[0m\u001b[2m \u001b[0m│\u001b[2m \u001b[0m\u001b[2mlectures', 'Use current events to illustrate    \u001b[0m\u001b[2m \u001b[0m│\n",
       "│\u001b[2m            \u001b[0m│\u001b[2m \u001b[0m\u001b[2mmaterial to real-world applications',          \u001b[0m\u001b[2m \u001b[0m│\u001b[2m \u001b[0m\u001b[2meconomic principles', 'Develop interactive class\u001b[0m\u001b[2m \u001b[0m│\n",
       "│\u001b[2m            \u001b[0m│\u001b[2m \u001b[0m\u001b[2m'Suggestion to include more current event      \u001b[0m\u001b[2m \u001b[0m│\u001b[2m \u001b[0m\u001b[2mactivities to enhance engagement']              \u001b[0m\u001b[2m \u001b[0m│\n",
       "│\u001b[2m            \u001b[0m│\u001b[2m \u001b[0m\u001b[2mexamples']                                     \u001b[0m\u001b[2m \u001b[0m│\u001b[2m                                                  \u001b[0m│\n",
       "├────────────┼─────────────────────────────────────────────────┼──────────────────────────────────────────────────┤\n",
       "│\u001b[2m \u001b[0m\u001b[2mPositive  \u001b[0m\u001b[2m \u001b[0m│\u001b[2m \u001b[0m\u001b[2m['Enthusiastic teaching style', 'Availability  \u001b[0m\u001b[2m \u001b[0m│\u001b[2m \u001b[0m\u001b[2m['Incorporate more real-world case studies',    \u001b[0m\u001b[2m \u001b[0m│\n",
       "│\u001b[2m            \u001b[0m│\u001b[2m \u001b[0m\u001b[2mfor extra help', 'Effective use of interactive \u001b[0m\u001b[2m \u001b[0m│\u001b[2m \u001b[0m\u001b[2m'Enhance the use of multimedia to supplement    \u001b[0m\u001b[2m \u001b[0m│\n",
       "│\u001b[2m            \u001b[0m│\u001b[2m \u001b[0m\u001b[2mlectures and practical assignments']           \u001b[0m\u001b[2m \u001b[0m│\u001b[2m \u001b[0m\u001b[2mlectures', 'Offer additional resources for      \u001b[0m\u001b[2m \u001b[0m│\n",
       "│\u001b[2m            \u001b[0m│\u001b[2m                                                 \u001b[0m│\u001b[2m \u001b[0m\u001b[2madvanced study']                                \u001b[0m\u001b[2m \u001b[0m│\n",
       "├────────────┼─────────────────────────────────────────────────┼──────────────────────────────────────────────────┤\n",
       "│\u001b[2m \u001b[0m\u001b[2mNeutral   \u001b[0m\u001b[2m \u001b[0m│\u001b[2m \u001b[0m\u001b[2m['Appreciated analytical rigor', 'Desire for   \u001b[0m\u001b[2m \u001b[0m│\u001b[2m \u001b[0m\u001b[2m['Incorporate more real-world examples into     \u001b[0m\u001b[2m \u001b[0m│\n",
       "│\u001b[2m            \u001b[0m│\u001b[2m \u001b[0m\u001b[2mmore real-world applications', 'Felt theories  \u001b[0m\u001b[2m \u001b[0m│\u001b[2m \u001b[0m\u001b[2mlectures', 'Facilitate class discussions on     \u001b[0m\u001b[2m \u001b[0m│\n",
       "│\u001b[2m            \u001b[0m│\u001b[2m \u001b[0m\u001b[2mwere isolated from practical realities']       \u001b[0m\u001b[2m \u001b[0m│\u001b[2m \u001b[0m\u001b[2mcurrent economic events', 'Assign case studies  \u001b[0m\u001b[2m \u001b[0m│\n",
       "│\u001b[2m            \u001b[0m│\u001b[2m                                                 \u001b[0m│\u001b[2m \u001b[0m\u001b[2mor articles that relate theory to practice']    \u001b[0m\u001b[2m \u001b[0m│\n",
       "├────────────┼─────────────────────────────────────────────────┼──────────────────────────────────────────────────┤\n",
       "│\u001b[2m \u001b[0m\u001b[2mPositive  \u001b[0m\u001b[2m \u001b[0m│\u001b[2m \u001b[0m\u001b[2m['Student appreciated group projects and       \u001b[0m\u001b[2m \u001b[0m│\u001b[2m \u001b[0m\u001b[2m['Provide more detailed feedback on             \u001b[0m\u001b[2m \u001b[0m│\n",
       "│\u001b[2m            \u001b[0m│\u001b[2m \u001b[0m\u001b[2mpractical application of economic concepts',   \u001b[0m\u001b[2m \u001b[0m│\u001b[2m \u001b[0m\u001b[2massignments', 'Clarify understanding of economic\u001b[0m\u001b[2m \u001b[0m│\n",
       "│\u001b[2m            \u001b[0m│\u001b[2m \u001b[0m\u001b[2m'Student desires more detailed feedback on     \u001b[0m\u001b[2m \u001b[0m│\u001b[2m \u001b[0m\u001b[2mconcepts through feedback', 'Offer additional   \u001b[0m\u001b[2m \u001b[0m│\n",
       "│\u001b[2m            \u001b[0m│\u001b[2m \u001b[0m\u001b[2massignments', 'Student enjoyed the course      \u001b[0m\u001b[2m \u001b[0m│\u001b[2m \u001b[0m\u001b[2mresources or sessions to review common          \u001b[0m\u001b[2m \u001b[0m│\n",
       "│\u001b[2m            \u001b[0m│\u001b[2m \u001b[0m\u001b[2moverall']                                      \u001b[0m\u001b[2m \u001b[0m│\u001b[2m \u001b[0m\u001b[2mmistakes']                                      \u001b[0m\u001b[2m \u001b[0m│\n",
       "├────────────┼─────────────────────────────────────────────────┼──────────────────────────────────────────────────┤\n",
       "│\u001b[2m \u001b[0m\u001b[2mNeutral   \u001b[0m\u001b[2m \u001b[0m│\u001b[2m \u001b[0m\u001b[2m['Course content organization is good',        \u001b[0m\u001b[2m \u001b[0m│\u001b[2m \u001b[0m\u001b[2m['Enhance lecture engagement through varied     \u001b[0m\u001b[2m \u001b[0m│\n",
       "│\u001b[2m            \u001b[0m│\u001b[2m \u001b[0m\u001b[2m'Lectures are monotonous and hard to follow',  \u001b[0m\u001b[2m \u001b[0m│\u001b[2m \u001b[0m\u001b[2mteaching methods', 'Incorporate more visual aids\u001b[0m\u001b[2m \u001b[0m│\n",
       "│\u001b[2m            \u001b[0m│\u001b[2m \u001b[0m\u001b[2m'Incorporate more visual aids and guest        \u001b[0m\u001b[2m \u001b[0m│\u001b[2m \u001b[0m\u001b[2mto support learning', 'Invite guest speakers to \u001b[0m\u001b[2m \u001b[0m│\n",
       "│\u001b[2m            \u001b[0m│\u001b[2m \u001b[0m\u001b[2mlectures']                                     \u001b[0m\u001b[2m \u001b[0m│\u001b[2m \u001b[0m\u001b[2mprovide practical insights']                    \u001b[0m\u001b[2m \u001b[0m│\n",
       "├────────────┼─────────────────────────────────────────────────┼──────────────────────────────────────────────────┤\n",
       "│\u001b[2m \u001b[0m\u001b[2mPositive  \u001b[0m\u001b[2m \u001b[0m│\u001b[2m \u001b[0m\u001b[2m['Effective integration of theory and practical\u001b[0m\u001b[2m \u001b[0m│\u001b[2m \u001b[0m\u001b[2m['Explore additional interactive learning       \u001b[0m\u001b[2m \u001b[0m│\n",
       "│\u001b[2m            \u001b[0m│\u001b[2m \u001b[0m\u001b[2mcase studies', 'Fairness of examinations',     \u001b[0m\u001b[2m \u001b[0m│\u001b[2m \u001b[0m\u001b[2mmethods', 'Incorporate more current events into \u001b[0m\u001b[2m \u001b[0m│\n",
       "│\u001b[2m            \u001b[0m│\u001b[2m \u001b[0m\u001b[2m'Inclusion of diverse global economic          \u001b[0m\u001b[2m \u001b[0m│\u001b[2m \u001b[0m\u001b[2mthe curriculum', 'Enhance online resources and  \u001b[0m\u001b[2m \u001b[0m│\n",
       "│\u001b[2m            \u001b[0m│\u001b[2m \u001b[0m\u001b[2mperspectives']                                 \u001b[0m\u001b[2m \u001b[0m│\u001b[2m \u001b[0m\u001b[2msupport']                                       \u001b[0m\u001b[2m \u001b[0m│\n",
       "├────────────┼─────────────────────────────────────────────────┼──────────────────────────────────────────────────┤\n",
       "│\u001b[2m \u001b[0m\u001b[2mNegative  \u001b[0m\u001b[2m \u001b[0m│\u001b[2m \u001b[0m\u001b[2m['Textbook complexity is high for an           \u001b[0m\u001b[2m \u001b[0m│\u001b[2m \u001b[0m\u001b[2m['Reevaluate textbook choice for appropriateness\u001b[0m\u001b[2m \u001b[0m│\n",
       "│\u001b[2m            \u001b[0m│\u001b[2m \u001b[0m\u001b[2mintroductory level', 'Jargon in the textbook is\u001b[0m\u001b[2m \u001b[0m│\u001b[2m \u001b[0m\u001b[2mto course level', 'Incorporate a glossary or    \u001b[0m\u001b[2m \u001b[0m│\n",
       "│\u001b[2m            \u001b[0m│\u001b[2m \u001b[0m\u001b[2mnot adequately explained in lectures', 'Need   \u001b[0m\u001b[2m \u001b[0m│\u001b[2m \u001b[0m\u001b[2mjargon explanations in lectures', 'Supplement   \u001b[0m\u001b[2m \u001b[0m│\n",
       "│\u001b[2m            \u001b[0m│\u001b[2m \u001b[0m\u001b[2mfor simpler reading materials or more          \u001b[0m\u001b[2m \u001b[0m│\u001b[2m \u001b[0m\u001b[2mlectures with simpler reading materials']       \u001b[0m\u001b[2m \u001b[0m│\n",
       "│\u001b[2m            \u001b[0m│\u001b[2m \u001b[0m\u001b[2mcomprehensive lectures']                       \u001b[0m\u001b[2m \u001b[0m│\u001b[2m                                                  \u001b[0m│\n",
       "├────────────┼─────────────────────────────────────────────────┼──────────────────────────────────────────────────┤\n",
       "│\u001b[2m \u001b[0m\u001b[2mNeutral   \u001b[0m\u001b[2m \u001b[0m│\u001b[2m \u001b[0m\u001b[2m['Professor is knowledgeable and passionate    \u001b[0m\u001b[2m \u001b[0m│\u001b[2m \u001b[0m\u001b[2m['Incorporate diverse assessment methods',      \u001b[0m\u001b[2m \u001b[0m│\n",
       "│\u001b[2m            \u001b[0m│\u001b[2m \u001b[0m\u001b[2mabout economics', 'Course overemphasizes tests \u001b[0m\u001b[2m \u001b[0m│\u001b[2m \u001b[0m\u001b[2m'Explore alternative teaching strategies to     \u001b[0m\u001b[2m \u001b[0m│\n",
       "│\u001b[2m            \u001b[0m│\u001b[2m \u001b[0m\u001b[2mfor assessment', 'Calls for a variety of       \u001b[0m\u001b[2m \u001b[0m│\u001b[2m \u001b[0m\u001b[2maccommodate different learning styles', 'Provide\u001b[0m\u001b[2m \u001b[0m│\n",
       "│\u001b[2m            \u001b[0m│\u001b[2m \u001b[0m\u001b[2massignments to cater to different learning     \u001b[0m\u001b[2m \u001b[0m│\u001b[2m \u001b[0m\u001b[2madditional resources to support varied learning \u001b[0m\u001b[2m \u001b[0m│\n",
       "│\u001b[2m            \u001b[0m│\u001b[2m \u001b[0m\u001b[2mstyles']                                       \u001b[0m\u001b[2m \u001b[0m│\u001b[2m \u001b[0m\u001b[2mapproaches']                                    \u001b[0m\u001b[2m \u001b[0m│\n",
       "├────────────┼─────────────────────────────────────────────────┼──────────────────────────────────────────────────┤\n",
       "│\u001b[2m \u001b[0m\u001b[2mNeutral   \u001b[0m\u001b[2m \u001b[0m│\u001b[2m \u001b[0m\u001b[2m['Course provided a good foundational          \u001b[0m\u001b[2m \u001b[0m│\u001b[2m \u001b[0m\u001b[2m['Incorporate more real-world examples into the \u001b[0m\u001b[2m \u001b[0m│\n",
       "│\u001b[2m            \u001b[0m│\u001b[2m \u001b[0m\u001b[2munderstanding of economics', 'Content was      \u001b[0m\u001b[2m \u001b[0m│\u001b[2m \u001b[0m\u001b[2mcurriculum', 'Facilitate discussions on current \u001b[0m\u001b[2m \u001b[0m│\n",
       "│\u001b[2m            \u001b[0m│\u001b[2m \u001b[0m\u001b[2mheavily focused on theory', 'Desire for more   \u001b[0m\u001b[2m \u001b[0m│\u001b[2m \u001b[0m\u001b[2meconomic events', 'Design assignments that apply\u001b[0m\u001b[2m \u001b[0m│\n",
       "│\u001b[2m            \u001b[0m│\u001b[2m \u001b[0m\u001b[2mdiscussion on real-world applications of       \u001b[0m\u001b[2m \u001b[0m│\u001b[2m \u001b[0m\u001b[2mtheories to practical scenarios']               \u001b[0m\u001b[2m \u001b[0m│\n",
       "│\u001b[2m            \u001b[0m│\u001b[2m \u001b[0m\u001b[2meconomic theories']                            \u001b[0m\u001b[2m \u001b[0m│\u001b[2m                                                  \u001b[0m│\n",
       "└────────────┴─────────────────────────────────────────────────┴──────────────────────────────────────────────────┘\n"
      ]
     },
     "metadata": {},
     "output_type": "display_data"
    }
   ],
   "source": [
    "results.select(\"sentiment\", \"themes\", \"improvements\").print(format=\"rich\")"
   ]
  },
  {
   "cell_type": "markdown",
   "id": "a9c6b091-42d6-4d62-b7f0-f91eef33c1fe",
   "metadata": {},
   "source": [
    "We can do a quick tally of the sentiments:"
   ]
  },
  {
   "cell_type": "code",
   "execution_count": 13,
   "id": "acd5ca3d",
   "metadata": {},
   "outputs": [
    {
     "data": {
      "text/html": [
       "<pre style=\"white-space:pre;overflow-x:auto;line-height:normal;font-family:Menlo,'DejaVu Sans Mono',consolas,'Courier New',monospace\">┏━━━━━━━━━━┳━━━━━━━┓\n",
       "┃<span style=\"color: #800080; text-decoration-color: #800080; font-weight: bold\"> value    </span>┃<span style=\"color: #800080; text-decoration-color: #800080; font-weight: bold\"> count </span>┃\n",
       "┡━━━━━━━━━━╇━━━━━━━┩\n",
       "│<span style=\"color: #7f7f7f; text-decoration-color: #7f7f7f\"> Positive </span>│<span style=\"color: #7f7f7f; text-decoration-color: #7f7f7f\"> 4     </span>│\n",
       "├──────────┼───────┤\n",
       "│<span style=\"color: #7f7f7f; text-decoration-color: #7f7f7f\"> Neutral  </span>│<span style=\"color: #7f7f7f; text-decoration-color: #7f7f7f\"> 4     </span>│\n",
       "├──────────┼───────┤\n",
       "│<span style=\"color: #7f7f7f; text-decoration-color: #7f7f7f\"> Negative </span>│<span style=\"color: #7f7f7f; text-decoration-color: #7f7f7f\"> 2     </span>│\n",
       "└──────────┴───────┘\n",
       "</pre>\n"
      ],
      "text/plain": [
       "┏━━━━━━━━━━┳━━━━━━━┓\n",
       "┃\u001b[1;35m \u001b[0m\u001b[1;35mvalue   \u001b[0m\u001b[1;35m \u001b[0m┃\u001b[1;35m \u001b[0m\u001b[1;35mcount\u001b[0m\u001b[1;35m \u001b[0m┃\n",
       "┡━━━━━━━━━━╇━━━━━━━┩\n",
       "│\u001b[2m \u001b[0m\u001b[2mPositive\u001b[0m\u001b[2m \u001b[0m│\u001b[2m \u001b[0m\u001b[2m4    \u001b[0m\u001b[2m \u001b[0m│\n",
       "├──────────┼───────┤\n",
       "│\u001b[2m \u001b[0m\u001b[2mNeutral \u001b[0m\u001b[2m \u001b[0m│\u001b[2m \u001b[0m\u001b[2m4    \u001b[0m\u001b[2m \u001b[0m│\n",
       "├──────────┼───────┤\n",
       "│\u001b[2m \u001b[0m\u001b[2mNegative\u001b[0m\u001b[2m \u001b[0m│\u001b[2m \u001b[0m\u001b[2m2    \u001b[0m\u001b[2m \u001b[0m│\n",
       "└──────────┴───────┘\n"
      ]
     },
     "metadata": {},
     "output_type": "display_data"
    }
   ],
   "source": [
    "results.select(\"sentiment\").tally().print(format = \"rich\")"
   ]
  },
  {
   "cell_type": "markdown",
   "id": "5483ecea",
   "metadata": {},
   "source": [
    "We can also use pandas methods by first converting:"
   ]
  },
  {
   "cell_type": "code",
   "execution_count": 14,
   "id": "9f9618fc-3250-4fbe-bddc-cd4cd5c624f7",
   "metadata": {},
   "outputs": [
    {
     "data": {
      "text/plain": [
       "answer.sentiment\n",
       "Positive    4\n",
       "Neutral     4\n",
       "Negative    2\n",
       "Name: count, dtype: int64"
      ]
     },
     "execution_count": 14,
     "metadata": {},
     "output_type": "execute_result"
    }
   ],
   "source": [
    "df_sentiment = results.to_pandas()[\"answer.sentiment\"]\n",
    "df_sentiment.value_counts()"
   ]
  },
  {
   "cell_type": "markdown",
   "id": "bad98c73-b2e8-4b31-89a5-1a85056ba134",
   "metadata": {},
   "source": [
    "## Use responses to construct new questions\n",
    "We can use the responses to our initial questions to construct more questions about the texts. For example, we can prompt a model to condense the individual lists of themes and areas for improvement into short lists, and then use the new lists to quantify the topics across the set of evaluations."
   ]
  },
  {
   "cell_type": "markdown",
   "id": "e3f96f5e-ba68-4660-b876-d3f34b396213",
   "metadata": {},
   "source": [
    "Here we take the lists of themes in each evaluation, flatten them into a (duplicative) list, and then create a new question prompting a model to condense it for us:"
   ]
  },
  {
   "cell_type": "code",
   "execution_count": 15,
   "id": "ee81ef77-a2a9-41cb-9472-29e4f8e6797b",
   "metadata": {},
   "outputs": [
    {
     "data": {
      "text/plain": [
       "['Course was engaging and informative',\n",
       " 'Professor effectively simplified complex concepts',\n",
       " 'Course pace was fast, making it hard to keep up with readings',\n",
       " 'Student found the material dry and unengaging',\n",
       " 'Difficulty in relating the material to real-world applications',\n",
       " 'Suggestion to include more current event examples',\n",
       " 'Enthusiastic teaching style',\n",
       " 'Availability for extra help',\n",
       " 'Effective use of interactive lectures and practical assignments',\n",
       " 'Appreciated analytical rigor',\n",
       " 'Desire for more real-world applications',\n",
       " 'Felt theories were isolated from practical realities',\n",
       " 'Student appreciated group projects and practical application of economic concepts',\n",
       " 'Student desires more detailed feedback on assignments',\n",
       " 'Student enjoyed the course overall',\n",
       " 'Course content organization is good',\n",
       " 'Lectures are monotonous and hard to follow',\n",
       " 'Incorporate more visual aids and guest lectures',\n",
       " 'Effective integration of theory and practical case studies',\n",
       " 'Fairness of examinations',\n",
       " 'Inclusion of diverse global economic perspectives',\n",
       " 'Textbook complexity is high for an introductory level',\n",
       " 'Jargon in the textbook is not adequately explained in lectures',\n",
       " 'Need for simpler reading materials or more comprehensive lectures',\n",
       " 'Professor is knowledgeable and passionate about economics',\n",
       " 'Course overemphasizes tests for assessment',\n",
       " 'Calls for a variety of assignments to cater to different learning styles',\n",
       " 'Course provided a good foundational understanding of economics',\n",
       " 'Content was heavily focused on theory',\n",
       " 'Desire for more discussion on real-world applications of economic theories']"
      ]
     },
     "execution_count": 15,
     "metadata": {},
     "output_type": "execute_result"
    }
   ],
   "source": [
    "themes = results.select(\"themes\").to_list(flatten=True)\n",
    "themes"
   ]
  },
  {
   "cell_type": "markdown",
   "id": "6b1b042a-0c29-470d-9229-723e6f4a1e33",
   "metadata": {},
   "source": [
    "Next we construct a question to condense the list into a new list:"
   ]
  },
  {
   "cell_type": "code",
   "execution_count": 16,
   "id": "05871e01-eec9-4629-a108-cd9237eca283",
   "metadata": {},
   "outputs": [],
   "source": [
    "q_condensed_themes = QuestionList(\n",
    "    question_name=\"condensed_themes\",\n",
    "    question_text=\"\"\"Combine the following list of themes extracted from the evaluations \n",
    "    into a consolidated, non-redundant list: \"\"\"\n",
    "    + \", \".join(themes),\n",
    "    max_list_items=10,\n",
    ")"
   ]
  },
  {
   "cell_type": "markdown",
   "id": "954a92a0-6a7d-43ad-bed5-35a092fba288",
   "metadata": {},
   "source": [
    "Now we run the question and select the new list. Note that we can choose whether we want to use the agent for this question by not adding it to the question when we run it:"
   ]
  },
  {
   "cell_type": "code",
   "execution_count": 17,
   "id": "f915d9e6-0310-432e-852e-48d63c6e07d8",
   "metadata": {},
   "outputs": [],
   "source": [
    "condensed_themes = q_condensed_themes.run().select(\"condensed_themes\").to_list()[0]\n"
   ]
  },
  {
   "cell_type": "markdown",
   "id": "5636a7f7-56ff-439d-9b5c-b867dff60480",
   "metadata": {},
   "source": [
    "Now we can create a question to identify all the themes in the list that appear in each evaluation (our new list becomes the list of answer options):"
   ]
  },
  {
   "cell_type": "code",
   "execution_count": 18,
   "id": "ff3f7830-6c55-4ee4-8434-374bcee47377",
   "metadata": {},
   "outputs": [],
   "source": [
    "from edsl.questions import QuestionCheckBox\n",
    "\n",
    "q_themes_list = QuestionCheckBox(\n",
    "    question_name=\"themes_list\",\n",
    "    question_text=\"Select all of the themes that are mentioned in this evaluation: {{ evaluation }}\",\n",
    "    question_options=condensed_themes,\n",
    ")"
   ]
  },
  {
   "cell_type": "markdown",
   "id": "3d8e69f7-d9cb-4170-a8b2-d08a857a9441",
   "metadata": {},
   "source": [
    "Here we run the question and show a table listing all the themes for each evaluation in the results:"
   ]
  },
  {
   "cell_type": "code",
   "execution_count": 19,
   "id": "4e8ee9f3-8dda-4047-8850-80dbeb3ce4f0",
   "metadata": {},
   "outputs": [
    {
     "data": {
      "text/html": [
       "<pre style=\"white-space:pre;overflow-x:auto;line-height:normal;font-family:Menlo,'DejaVu Sans Mono',consolas,'Courier New',monospace\">┏━━━━━━━━━━━━━━━━━━━━━━━━━━━━━━━━━━━━━━━━━━━━━━━━━━━━━━━━┳━━━━━━━━━━━━━━━━━━━━━━━━━━━━━━━━━━━━━━━━━━━━━━━━━━━━━━━━┓\n",
       "┃<span style=\"color: #800080; text-decoration-color: #800080; font-weight: bold\"> scenario                                               </span>┃<span style=\"color: #800080; text-decoration-color: #800080; font-weight: bold\"> answer                                                 </span>┃\n",
       "┃<span style=\"color: #800080; text-decoration-color: #800080; font-weight: bold\"> .evaluation                                            </span>┃<span style=\"color: #800080; text-decoration-color: #800080; font-weight: bold\"> .themes_list                                           </span>┃\n",
       "┡━━━━━━━━━━━━━━━━━━━━━━━━━━━━━━━━━━━━━━━━━━━━━━━━━━━━━━━━╇━━━━━━━━━━━━━━━━━━━━━━━━━━━━━━━━━━━━━━━━━━━━━━━━━━━━━━━━┩\n",
       "│<span style=\"color: #7f7f7f; text-decoration-color: #7f7f7f\"> I found the course very engaging and informative. The  </span>│<span style=\"color: #7f7f7f; text-decoration-color: #7f7f7f\"> ['Course was engaging, informative, and provided a     </span>│\n",
       "│<span style=\"color: #7f7f7f; text-decoration-color: #7f7f7f\"> professor did an excellent job breaking down complex   </span>│<span style=\"color: #7f7f7f; text-decoration-color: #7f7f7f\"> good foundational understanding of economics',         </span>│\n",
       "│<span style=\"color: #7f7f7f; text-decoration-color: #7f7f7f\"> concepts, making them accessible to those of us new to </span>│<span style=\"color: #7f7f7f; text-decoration-color: #7f7f7f\"> 'Professor simplified complex concepts and was         </span>│\n",
       "│<span style=\"color: #7f7f7f; text-decoration-color: #7f7f7f\"> economics. However, the pace was a bit fast, and I     </span>│<span style=\"color: #7f7f7f; text-decoration-color: #7f7f7f\"> passionate about the subject', 'Need for better        </span>│\n",
       "│<span style=\"color: #7f7f7f; text-decoration-color: #7f7f7f\"> sometimes struggled to keep up with the weekly         </span>│<span style=\"color: #7f7f7f; text-decoration-color: #7f7f7f\"> pacing, more accessible reading materials, and diverse </span>│\n",
       "│<span style=\"color: #7f7f7f; text-decoration-color: #7f7f7f\"> readings.                                              </span>│<span style=\"color: #7f7f7f; text-decoration-color: #7f7f7f\"> assessment methods']                                   </span>│\n",
       "├────────────────────────────────────────────────────────┼────────────────────────────────────────────────────────┤\n",
       "│<span style=\"color: #7f7f7f; text-decoration-color: #7f7f7f\"> This class was a struggle for me. The material felt    </span>│<span style=\"color: #7f7f7f; text-decoration-color: #7f7f7f\"> ['Material sometimes found dry and challenging to      </span>│\n",
       "│<span style=\"color: #7f7f7f; text-decoration-color: #7f7f7f\"> dry and difficult to connect with real-world           </span>│<span style=\"color: #7f7f7f; text-decoration-color: #7f7f7f\"> relate to real-world applications', 'Demand for        </span>│\n",
       "│<span style=\"color: #7f7f7f; text-decoration-color: #7f7f7f\"> applications, which I think could have made it more    </span>│<span style=\"color: #7f7f7f; text-decoration-color: #7f7f7f\"> increased real-world examples, interactive lectures,   </span>│\n",
       "│<span style=\"color: #7f7f7f; text-decoration-color: #7f7f7f\"> interesting. More examples from current events would   </span>│<span style=\"color: #7f7f7f; text-decoration-color: #7f7f7f\"> and practical assignments']                            </span>│\n",
       "│<span style=\"color: #7f7f7f; text-decoration-color: #7f7f7f\"> definitely have helped spark my interest.              </span>│<span style=\"color: #7f7f7f; text-decoration-color: #7f7f7f\">                                                        </span>│\n",
       "├────────────────────────────────────────────────────────┼────────────────────────────────────────────────────────┤\n",
       "│<span style=\"color: #7f7f7f; text-decoration-color: #7f7f7f\"> Excellent introductory course! The professor was       </span>│<span style=\"color: #7f7f7f; text-decoration-color: #7f7f7f\"> ['Course was engaging, informative, and provided a     </span>│\n",
       "│<span style=\"color: #7f7f7f; text-decoration-color: #7f7f7f\"> enthusiastic and always willing to offer extra help    </span>│<span style=\"color: #7f7f7f; text-decoration-color: #7f7f7f\"> good foundational understanding of economics',         </span>│\n",
       "│<span style=\"color: #7f7f7f; text-decoration-color: #7f7f7f\"> during office hours. The interactive lectures and the  </span>│<span style=\"color: #7f7f7f; text-decoration-color: #7f7f7f\"> 'Professor simplified complex concepts and was         </span>│\n",
       "│<span style=\"color: #7f7f7f; text-decoration-color: #7f7f7f\"> practical assignments made the theory much more        </span>│<span style=\"color: #7f7f7f; text-decoration-color: #7f7f7f\"> passionate about the subject', 'Demand for increased   </span>│\n",
       "│<span style=\"color: #7f7f7f; text-decoration-color: #7f7f7f\"> digestible and engaging.                               </span>│<span style=\"color: #7f7f7f; text-decoration-color: #7f7f7f\"> real-world examples, interactive lectures, and         </span>│\n",
       "│<span style=\"color: #7f7f7f; text-decoration-color: #7f7f7f\">                                                        </span>│<span style=\"color: #7f7f7f; text-decoration-color: #7f7f7f\"> practical assignments', 'Appreciation for analytical   </span>│\n",
       "│<span style=\"color: #7f7f7f; text-decoration-color: #7f7f7f\">                                                        </span>│<span style=\"color: #7f7f7f; text-decoration-color: #7f7f7f\"> rigor, enthusiastic teaching style, and availability   </span>│\n",
       "│<span style=\"color: #7f7f7f; text-decoration-color: #7f7f7f\">                                                        </span>│<span style=\"color: #7f7f7f; text-decoration-color: #7f7f7f\"> for extra help']                                       </span>│\n",
       "├────────────────────────────────────────────────────────┼────────────────────────────────────────────────────────┤\n",
       "│<span style=\"color: #7f7f7f; text-decoration-color: #7f7f7f\"> As someone with a strong background in math, I         </span>│<span style=\"color: #7f7f7f; text-decoration-color: #7f7f7f\"> ['Material sometimes found dry and challenging to      </span>│\n",
       "│<span style=\"color: #7f7f7f; text-decoration-color: #7f7f7f\"> appreciated the analytical rigor of this course.       </span>│<span style=\"color: #7f7f7f; text-decoration-color: #7f7f7f\"> relate to real-world applications', 'Demand for        </span>│\n",
       "│<span style=\"color: #7f7f7f; text-decoration-color: #7f7f7f\"> However, I wish there had been more discussions that   </span>│<span style=\"color: #7f7f7f; text-decoration-color: #7f7f7f\"> increased real-world examples, interactive lectures,   </span>│\n",
       "│<span style=\"color: #7f7f7f; text-decoration-color: #7f7f7f\"> connected the theories we learned to everyday economic </span>│<span style=\"color: #7f7f7f; text-decoration-color: #7f7f7f\"> and practical assignments', 'Appreciation for          </span>│\n",
       "│<span style=\"color: #7f7f7f; text-decoration-color: #7f7f7f\"> issues. It felt a bit isolated from practical          </span>│<span style=\"color: #7f7f7f; text-decoration-color: #7f7f7f\"> analytical rigor, enthusiastic teaching style, and     </span>│\n",
       "│<span style=\"color: #7f7f7f; text-decoration-color: #7f7f7f\"> realities at times.                                    </span>│<span style=\"color: #7f7f7f; text-decoration-color: #7f7f7f\"> availability for extra help']                          </span>│\n",
       "├────────────────────────────────────────────────────────┼────────────────────────────────────────────────────────┤\n",
       "│<span style=\"color: #7f7f7f; text-decoration-color: #7f7f7f\"> I enjoyed the course, especially the group projects,   </span>│<span style=\"color: #7f7f7f; text-decoration-color: #7f7f7f\"> ['Course was engaging, informative, and provided a     </span>│\n",
       "│<span style=\"color: #7f7f7f; text-decoration-color: #7f7f7f\"> which were both challenging and rewarding. It was      </span>│<span style=\"color: #7f7f7f; text-decoration-color: #7f7f7f\"> good foundational understanding of economics', 'Demand </span>│\n",
       "│<span style=\"color: #7f7f7f; text-decoration-color: #7f7f7f\"> great to apply economic concepts to solve real-life    </span>│<span style=\"color: #7f7f7f; text-decoration-color: #7f7f7f\"> for increased real-world examples, interactive         </span>│\n",
       "│<span style=\"color: #7f7f7f; text-decoration-color: #7f7f7f\"> problems. I did feel, however, that the feedback on    </span>│<span style=\"color: #7f7f7f; text-decoration-color: #7f7f7f\"> lectures, and practical assignments', 'Desire for more </span>│\n",
       "│<span style=\"color: #7f7f7f; text-decoration-color: #7f7f7f\"> assignments could be more detailed to help us          </span>│<span style=\"color: #7f7f7f; text-decoration-color: #7f7f7f\"> detailed feedback, incorporation of visual aids, and   </span>│\n",
       "│<span style=\"color: #7f7f7f; text-decoration-color: #7f7f7f\"> understand our mistakes.                               </span>│<span style=\"color: #7f7f7f; text-decoration-color: #7f7f7f\"> guest lectures', 'Effective integration of theory with </span>│\n",
       "│<span style=\"color: #7f7f7f; text-decoration-color: #7f7f7f\">                                                        </span>│<span style=\"color: #7f7f7f; text-decoration-color: #7f7f7f\"> practical case studies, but a call for more discussion </span>│\n",
       "│<span style=\"color: #7f7f7f; text-decoration-color: #7f7f7f\">                                                        </span>│<span style=\"color: #7f7f7f; text-decoration-color: #7f7f7f\"> on applications']                                      </span>│\n",
       "├────────────────────────────────────────────────────────┼────────────────────────────────────────────────────────┤\n",
       "│<span style=\"color: #7f7f7f; text-decoration-color: #7f7f7f\"> The course content was well-organized, but the         </span>│<span style=\"color: #7f7f7f; text-decoration-color: #7f7f7f\"> ['Material sometimes found dry and challenging to      </span>│\n",
       "│<span style=\"color: #7f7f7f; text-decoration-color: #7f7f7f\"> lectures were somewhat monotonous and hard to follow.  </span>│<span style=\"color: #7f7f7f; text-decoration-color: #7f7f7f\"> relate to real-world applications', 'Demand for        </span>│\n",
       "│<span style=\"color: #7f7f7f; text-decoration-color: #7f7f7f\"> I would suggest incorporating more visual aids and     </span>│<span style=\"color: #7f7f7f; text-decoration-color: #7f7f7f\"> increased real-world examples, interactive lectures,   </span>│\n",
       "│<span style=\"color: #7f7f7f; text-decoration-color: #7f7f7f\"> maybe some guest lectures from industry professionals  </span>│<span style=\"color: #7f7f7f; text-decoration-color: #7f7f7f\"> and practical assignments', 'Desire for more detailed  </span>│\n",
       "│<span style=\"color: #7f7f7f; text-decoration-color: #7f7f7f\"> to liven up the sessions.                              </span>│<span style=\"color: #7f7f7f; text-decoration-color: #7f7f7f\"> feedback, incorporation of visual aids, and guest      </span>│\n",
       "│<span style=\"color: #7f7f7f; text-decoration-color: #7f7f7f\">                                                        </span>│<span style=\"color: #7f7f7f; text-decoration-color: #7f7f7f\"> lectures']                                             </span>│\n",
       "├────────────────────────────────────────────────────────┼────────────────────────────────────────────────────────┤\n",
       "│<span style=\"color: #7f7f7f; text-decoration-color: #7f7f7f\"> This was my favorite class this semester! The mix of   </span>│<span style=\"color: #7f7f7f; text-decoration-color: #7f7f7f\"> ['Course was engaging, informative, and provided a     </span>│\n",
       "│<span style=\"color: #7f7f7f; text-decoration-color: #7f7f7f\"> theory and case studies was perfect, and the exams     </span>│<span style=\"color: #7f7f7f; text-decoration-color: #7f7f7f\"> good foundational understanding of economics',         </span>│\n",
       "│<span style=\"color: #7f7f7f; text-decoration-color: #7f7f7f\"> were fair. I also really appreciated the diversity of  </span>│<span style=\"color: #7f7f7f; text-decoration-color: #7f7f7f\"> 'Effective integration of theory with practical case   </span>│\n",
       "│<span style=\"color: #7f7f7f; text-decoration-color: #7f7f7f\"> perspectives we explored in class, especially in terms </span>│<span style=\"color: #7f7f7f; text-decoration-color: #7f7f7f\"> studies, but a call for more discussion on             </span>│\n",
       "│<span style=\"color: #7f7f7f; text-decoration-color: #7f7f7f\"> of global economic policies.                           </span>│<span style=\"color: #7f7f7f; text-decoration-color: #7f7f7f\"> applications', 'Examinations considered fair, but a    </span>│\n",
       "│<span style=\"color: #7f7f7f; text-decoration-color: #7f7f7f\">                                                        </span>│<span style=\"color: #7f7f7f; text-decoration-color: #7f7f7f\"> variety of assignments are needed to cater to          </span>│\n",
       "│<span style=\"color: #7f7f7f; text-decoration-color: #7f7f7f\">                                                        </span>│<span style=\"color: #7f7f7f; text-decoration-color: #7f7f7f\"> different learning styles']                            </span>│\n",
       "├────────────────────────────────────────────────────────┼────────────────────────────────────────────────────────┤\n",
       "│<span style=\"color: #7f7f7f; text-decoration-color: #7f7f7f\"> I found the textbook to be overly complex for an       </span>│<span style=\"color: #7f7f7f; text-decoration-color: #7f7f7f\"> ['Textbook complexity and jargon need to be            </span>│\n",
       "│<span style=\"color: #7f7f7f; text-decoration-color: #7f7f7f\"> introductory course. It often used jargon that hadn't  </span>│<span style=\"color: #7f7f7f; text-decoration-color: #7f7f7f\"> addressed']                                            </span>│\n",
       "│<span style=\"color: #7f7f7f; text-decoration-color: #7f7f7f\"> been explained in lectures, which was confusing.       </span>│<span style=\"color: #7f7f7f; text-decoration-color: #7f7f7f\">                                                        </span>│\n",
       "│<span style=\"color: #7f7f7f; text-decoration-color: #7f7f7f\"> Simpler reading materials or more explanatory lectures </span>│<span style=\"color: #7f7f7f; text-decoration-color: #7f7f7f\">                                                        </span>│\n",
       "│<span style=\"color: #7f7f7f; text-decoration-color: #7f7f7f\"> would make a big difference for newcomers to           </span>│<span style=\"color: #7f7f7f; text-decoration-color: #7f7f7f\">                                                        </span>│\n",
       "│<span style=\"color: #7f7f7f; text-decoration-color: #7f7f7f\"> economics.                                             </span>│<span style=\"color: #7f7f7f; text-decoration-color: #7f7f7f\">                                                        </span>│\n",
       "├────────────────────────────────────────────────────────┼────────────────────────────────────────────────────────┤\n",
       "│<span style=\"color: #7f7f7f; text-decoration-color: #7f7f7f\"> The professor was knowledgeable and clearly passionate </span>│<span style=\"color: #7f7f7f; text-decoration-color: #7f7f7f\"> ['Professor simplified complex concepts and was        </span>│\n",
       "│<span style=\"color: #7f7f7f; text-decoration-color: #7f7f7f\"> about economics, but I felt the course relied too      </span>│<span style=\"color: #7f7f7f; text-decoration-color: #7f7f7f\"> passionate about the subject', 'Need for better        </span>│\n",
       "│<span style=\"color: #7f7f7f; text-decoration-color: #7f7f7f\"> heavily on tests rather than more creative forms of    </span>│<span style=\"color: #7f7f7f; text-decoration-color: #7f7f7f\"> pacing, more accessible reading materials, and diverse </span>│\n",
       "│<span style=\"color: #7f7f7f; text-decoration-color: #7f7f7f\"> assessment. More varied assignments would make the     </span>│<span style=\"color: #7f7f7f; text-decoration-color: #7f7f7f\"> assessment methods', 'Examinations considered fair,    </span>│\n",
       "│<span style=\"color: #7f7f7f; text-decoration-color: #7f7f7f\"> course more accessible to students with different      </span>│<span style=\"color: #7f7f7f; text-decoration-color: #7f7f7f\"> but a variety of assignments are needed to cater to    </span>│\n",
       "│<span style=\"color: #7f7f7f; text-decoration-color: #7f7f7f\"> learning styles.                                       </span>│<span style=\"color: #7f7f7f; text-decoration-color: #7f7f7f\"> different learning styles']                            </span>│\n",
       "├────────────────────────────────────────────────────────┼────────────────────────────────────────────────────────┤\n",
       "│<span style=\"color: #7f7f7f; text-decoration-color: #7f7f7f\"> This class was a solid introduction to economics,      </span>│<span style=\"color: #7f7f7f; text-decoration-color: #7f7f7f\"> ['Material sometimes found dry and challenging to      </span>│\n",
       "│<span style=\"color: #7f7f7f; text-decoration-color: #7f7f7f\"> though it leaned heavily on theoretical aspects. I     </span>│<span style=\"color: #7f7f7f; text-decoration-color: #7f7f7f\"> relate to real-world applications', 'Demand for        </span>│\n",
       "│<span style=\"color: #7f7f7f; text-decoration-color: #7f7f7f\"> would have liked more opportunities to discuss the     </span>│<span style=\"color: #7f7f7f; text-decoration-color: #7f7f7f\"> increased real-world examples, interactive lectures,   </span>│\n",
       "│<span style=\"color: #7f7f7f; text-decoration-color: #7f7f7f\"> real-world implications of economic theories, which I  </span>│<span style=\"color: #7f7f7f; text-decoration-color: #7f7f7f\"> and practical assignments']                            </span>│\n",
       "│<span style=\"color: #7f7f7f; text-decoration-color: #7f7f7f\"> believe would enhance understanding and retention of   </span>│<span style=\"color: #7f7f7f; text-decoration-color: #7f7f7f\">                                                        </span>│\n",
       "│<span style=\"color: #7f7f7f; text-decoration-color: #7f7f7f\"> the material.                                          </span>│<span style=\"color: #7f7f7f; text-decoration-color: #7f7f7f\">                                                        </span>│\n",
       "└────────────────────────────────────────────────────────┴────────────────────────────────────────────────────────┘\n",
       "</pre>\n"
      ],
      "text/plain": [
       "┏━━━━━━━━━━━━━━━━━━━━━━━━━━━━━━━━━━━━━━━━━━━━━━━━━━━━━━━━┳━━━━━━━━━━━━━━━━━━━━━━━━━━━━━━━━━━━━━━━━━━━━━━━━━━━━━━━━┓\n",
       "┃\u001b[1;35m \u001b[0m\u001b[1;35mscenario                                              \u001b[0m\u001b[1;35m \u001b[0m┃\u001b[1;35m \u001b[0m\u001b[1;35manswer                                                \u001b[0m\u001b[1;35m \u001b[0m┃\n",
       "┃\u001b[1;35m \u001b[0m\u001b[1;35m.evaluation                                           \u001b[0m\u001b[1;35m \u001b[0m┃\u001b[1;35m \u001b[0m\u001b[1;35m.themes_list                                          \u001b[0m\u001b[1;35m \u001b[0m┃\n",
       "┡━━━━━━━━━━━━━━━━━━━━━━━━━━━━━━━━━━━━━━━━━━━━━━━━━━━━━━━━╇━━━━━━━━━━━━━━━━━━━━━━━━━━━━━━━━━━━━━━━━━━━━━━━━━━━━━━━━┩\n",
       "│\u001b[2m \u001b[0m\u001b[2mI found the course very engaging and informative. The \u001b[0m\u001b[2m \u001b[0m│\u001b[2m \u001b[0m\u001b[2m['Course was engaging, informative, and provided a    \u001b[0m\u001b[2m \u001b[0m│\n",
       "│\u001b[2m \u001b[0m\u001b[2mprofessor did an excellent job breaking down complex  \u001b[0m\u001b[2m \u001b[0m│\u001b[2m \u001b[0m\u001b[2mgood foundational understanding of economics',        \u001b[0m\u001b[2m \u001b[0m│\n",
       "│\u001b[2m \u001b[0m\u001b[2mconcepts, making them accessible to those of us new to\u001b[0m\u001b[2m \u001b[0m│\u001b[2m \u001b[0m\u001b[2m'Professor simplified complex concepts and was        \u001b[0m\u001b[2m \u001b[0m│\n",
       "│\u001b[2m \u001b[0m\u001b[2meconomics. However, the pace was a bit fast, and I    \u001b[0m\u001b[2m \u001b[0m│\u001b[2m \u001b[0m\u001b[2mpassionate about the subject', 'Need for better       \u001b[0m\u001b[2m \u001b[0m│\n",
       "│\u001b[2m \u001b[0m\u001b[2msometimes struggled to keep up with the weekly        \u001b[0m\u001b[2m \u001b[0m│\u001b[2m \u001b[0m\u001b[2mpacing, more accessible reading materials, and diverse\u001b[0m\u001b[2m \u001b[0m│\n",
       "│\u001b[2m \u001b[0m\u001b[2mreadings.                                             \u001b[0m\u001b[2m \u001b[0m│\u001b[2m \u001b[0m\u001b[2massessment methods']                                  \u001b[0m\u001b[2m \u001b[0m│\n",
       "├────────────────────────────────────────────────────────┼────────────────────────────────────────────────────────┤\n",
       "│\u001b[2m \u001b[0m\u001b[2mThis class was a struggle for me. The material felt   \u001b[0m\u001b[2m \u001b[0m│\u001b[2m \u001b[0m\u001b[2m['Material sometimes found dry and challenging to     \u001b[0m\u001b[2m \u001b[0m│\n",
       "│\u001b[2m \u001b[0m\u001b[2mdry and difficult to connect with real-world          \u001b[0m\u001b[2m \u001b[0m│\u001b[2m \u001b[0m\u001b[2mrelate to real-world applications', 'Demand for       \u001b[0m\u001b[2m \u001b[0m│\n",
       "│\u001b[2m \u001b[0m\u001b[2mapplications, which I think could have made it more   \u001b[0m\u001b[2m \u001b[0m│\u001b[2m \u001b[0m\u001b[2mincreased real-world examples, interactive lectures,  \u001b[0m\u001b[2m \u001b[0m│\n",
       "│\u001b[2m \u001b[0m\u001b[2minteresting. More examples from current events would  \u001b[0m\u001b[2m \u001b[0m│\u001b[2m \u001b[0m\u001b[2mand practical assignments']                           \u001b[0m\u001b[2m \u001b[0m│\n",
       "│\u001b[2m \u001b[0m\u001b[2mdefinitely have helped spark my interest.             \u001b[0m\u001b[2m \u001b[0m│\u001b[2m                                                        \u001b[0m│\n",
       "├────────────────────────────────────────────────────────┼────────────────────────────────────────────────────────┤\n",
       "│\u001b[2m \u001b[0m\u001b[2mExcellent introductory course! The professor was      \u001b[0m\u001b[2m \u001b[0m│\u001b[2m \u001b[0m\u001b[2m['Course was engaging, informative, and provided a    \u001b[0m\u001b[2m \u001b[0m│\n",
       "│\u001b[2m \u001b[0m\u001b[2menthusiastic and always willing to offer extra help   \u001b[0m\u001b[2m \u001b[0m│\u001b[2m \u001b[0m\u001b[2mgood foundational understanding of economics',        \u001b[0m\u001b[2m \u001b[0m│\n",
       "│\u001b[2m \u001b[0m\u001b[2mduring office hours. The interactive lectures and the \u001b[0m\u001b[2m \u001b[0m│\u001b[2m \u001b[0m\u001b[2m'Professor simplified complex concepts and was        \u001b[0m\u001b[2m \u001b[0m│\n",
       "│\u001b[2m \u001b[0m\u001b[2mpractical assignments made the theory much more       \u001b[0m\u001b[2m \u001b[0m│\u001b[2m \u001b[0m\u001b[2mpassionate about the subject', 'Demand for increased  \u001b[0m\u001b[2m \u001b[0m│\n",
       "│\u001b[2m \u001b[0m\u001b[2mdigestible and engaging.                              \u001b[0m\u001b[2m \u001b[0m│\u001b[2m \u001b[0m\u001b[2mreal-world examples, interactive lectures, and        \u001b[0m\u001b[2m \u001b[0m│\n",
       "│\u001b[2m                                                        \u001b[0m│\u001b[2m \u001b[0m\u001b[2mpractical assignments', 'Appreciation for analytical  \u001b[0m\u001b[2m \u001b[0m│\n",
       "│\u001b[2m                                                        \u001b[0m│\u001b[2m \u001b[0m\u001b[2mrigor, enthusiastic teaching style, and availability  \u001b[0m\u001b[2m \u001b[0m│\n",
       "│\u001b[2m                                                        \u001b[0m│\u001b[2m \u001b[0m\u001b[2mfor extra help']                                      \u001b[0m\u001b[2m \u001b[0m│\n",
       "├────────────────────────────────────────────────────────┼────────────────────────────────────────────────────────┤\n",
       "│\u001b[2m \u001b[0m\u001b[2mAs someone with a strong background in math, I        \u001b[0m\u001b[2m \u001b[0m│\u001b[2m \u001b[0m\u001b[2m['Material sometimes found dry and challenging to     \u001b[0m\u001b[2m \u001b[0m│\n",
       "│\u001b[2m \u001b[0m\u001b[2mappreciated the analytical rigor of this course.      \u001b[0m\u001b[2m \u001b[0m│\u001b[2m \u001b[0m\u001b[2mrelate to real-world applications', 'Demand for       \u001b[0m\u001b[2m \u001b[0m│\n",
       "│\u001b[2m \u001b[0m\u001b[2mHowever, I wish there had been more discussions that  \u001b[0m\u001b[2m \u001b[0m│\u001b[2m \u001b[0m\u001b[2mincreased real-world examples, interactive lectures,  \u001b[0m\u001b[2m \u001b[0m│\n",
       "│\u001b[2m \u001b[0m\u001b[2mconnected the theories we learned to everyday economic\u001b[0m\u001b[2m \u001b[0m│\u001b[2m \u001b[0m\u001b[2mand practical assignments', 'Appreciation for         \u001b[0m\u001b[2m \u001b[0m│\n",
       "│\u001b[2m \u001b[0m\u001b[2missues. It felt a bit isolated from practical         \u001b[0m\u001b[2m \u001b[0m│\u001b[2m \u001b[0m\u001b[2manalytical rigor, enthusiastic teaching style, and    \u001b[0m\u001b[2m \u001b[0m│\n",
       "│\u001b[2m \u001b[0m\u001b[2mrealities at times.                                   \u001b[0m\u001b[2m \u001b[0m│\u001b[2m \u001b[0m\u001b[2mavailability for extra help']                         \u001b[0m\u001b[2m \u001b[0m│\n",
       "├────────────────────────────────────────────────────────┼────────────────────────────────────────────────────────┤\n",
       "│\u001b[2m \u001b[0m\u001b[2mI enjoyed the course, especially the group projects,  \u001b[0m\u001b[2m \u001b[0m│\u001b[2m \u001b[0m\u001b[2m['Course was engaging, informative, and provided a    \u001b[0m\u001b[2m \u001b[0m│\n",
       "│\u001b[2m \u001b[0m\u001b[2mwhich were both challenging and rewarding. It was     \u001b[0m\u001b[2m \u001b[0m│\u001b[2m \u001b[0m\u001b[2mgood foundational understanding of economics', 'Demand\u001b[0m\u001b[2m \u001b[0m│\n",
       "│\u001b[2m \u001b[0m\u001b[2mgreat to apply economic concepts to solve real-life   \u001b[0m\u001b[2m \u001b[0m│\u001b[2m \u001b[0m\u001b[2mfor increased real-world examples, interactive        \u001b[0m\u001b[2m \u001b[0m│\n",
       "│\u001b[2m \u001b[0m\u001b[2mproblems. I did feel, however, that the feedback on   \u001b[0m\u001b[2m \u001b[0m│\u001b[2m \u001b[0m\u001b[2mlectures, and practical assignments', 'Desire for more\u001b[0m\u001b[2m \u001b[0m│\n",
       "│\u001b[2m \u001b[0m\u001b[2massignments could be more detailed to help us         \u001b[0m\u001b[2m \u001b[0m│\u001b[2m \u001b[0m\u001b[2mdetailed feedback, incorporation of visual aids, and  \u001b[0m\u001b[2m \u001b[0m│\n",
       "│\u001b[2m \u001b[0m\u001b[2munderstand our mistakes.                              \u001b[0m\u001b[2m \u001b[0m│\u001b[2m \u001b[0m\u001b[2mguest lectures', 'Effective integration of theory with\u001b[0m\u001b[2m \u001b[0m│\n",
       "│\u001b[2m                                                        \u001b[0m│\u001b[2m \u001b[0m\u001b[2mpractical case studies, but a call for more discussion\u001b[0m\u001b[2m \u001b[0m│\n",
       "│\u001b[2m                                                        \u001b[0m│\u001b[2m \u001b[0m\u001b[2mon applications']                                     \u001b[0m\u001b[2m \u001b[0m│\n",
       "├────────────────────────────────────────────────────────┼────────────────────────────────────────────────────────┤\n",
       "│\u001b[2m \u001b[0m\u001b[2mThe course content was well-organized, but the        \u001b[0m\u001b[2m \u001b[0m│\u001b[2m \u001b[0m\u001b[2m['Material sometimes found dry and challenging to     \u001b[0m\u001b[2m \u001b[0m│\n",
       "│\u001b[2m \u001b[0m\u001b[2mlectures were somewhat monotonous and hard to follow. \u001b[0m\u001b[2m \u001b[0m│\u001b[2m \u001b[0m\u001b[2mrelate to real-world applications', 'Demand for       \u001b[0m\u001b[2m \u001b[0m│\n",
       "│\u001b[2m \u001b[0m\u001b[2mI would suggest incorporating more visual aids and    \u001b[0m\u001b[2m \u001b[0m│\u001b[2m \u001b[0m\u001b[2mincreased real-world examples, interactive lectures,  \u001b[0m\u001b[2m \u001b[0m│\n",
       "│\u001b[2m \u001b[0m\u001b[2mmaybe some guest lectures from industry professionals \u001b[0m\u001b[2m \u001b[0m│\u001b[2m \u001b[0m\u001b[2mand practical assignments', 'Desire for more detailed \u001b[0m\u001b[2m \u001b[0m│\n",
       "│\u001b[2m \u001b[0m\u001b[2mto liven up the sessions.                             \u001b[0m\u001b[2m \u001b[0m│\u001b[2m \u001b[0m\u001b[2mfeedback, incorporation of visual aids, and guest     \u001b[0m\u001b[2m \u001b[0m│\n",
       "│\u001b[2m                                                        \u001b[0m│\u001b[2m \u001b[0m\u001b[2mlectures']                                            \u001b[0m\u001b[2m \u001b[0m│\n",
       "├────────────────────────────────────────────────────────┼────────────────────────────────────────────────────────┤\n",
       "│\u001b[2m \u001b[0m\u001b[2mThis was my favorite class this semester! The mix of  \u001b[0m\u001b[2m \u001b[0m│\u001b[2m \u001b[0m\u001b[2m['Course was engaging, informative, and provided a    \u001b[0m\u001b[2m \u001b[0m│\n",
       "│\u001b[2m \u001b[0m\u001b[2mtheory and case studies was perfect, and the exams    \u001b[0m\u001b[2m \u001b[0m│\u001b[2m \u001b[0m\u001b[2mgood foundational understanding of economics',        \u001b[0m\u001b[2m \u001b[0m│\n",
       "│\u001b[2m \u001b[0m\u001b[2mwere fair. I also really appreciated the diversity of \u001b[0m\u001b[2m \u001b[0m│\u001b[2m \u001b[0m\u001b[2m'Effective integration of theory with practical case  \u001b[0m\u001b[2m \u001b[0m│\n",
       "│\u001b[2m \u001b[0m\u001b[2mperspectives we explored in class, especially in terms\u001b[0m\u001b[2m \u001b[0m│\u001b[2m \u001b[0m\u001b[2mstudies, but a call for more discussion on            \u001b[0m\u001b[2m \u001b[0m│\n",
       "│\u001b[2m \u001b[0m\u001b[2mof global economic policies.                          \u001b[0m\u001b[2m \u001b[0m│\u001b[2m \u001b[0m\u001b[2mapplications', 'Examinations considered fair, but a   \u001b[0m\u001b[2m \u001b[0m│\n",
       "│\u001b[2m                                                        \u001b[0m│\u001b[2m \u001b[0m\u001b[2mvariety of assignments are needed to cater to         \u001b[0m\u001b[2m \u001b[0m│\n",
       "│\u001b[2m                                                        \u001b[0m│\u001b[2m \u001b[0m\u001b[2mdifferent learning styles']                           \u001b[0m\u001b[2m \u001b[0m│\n",
       "├────────────────────────────────────────────────────────┼────────────────────────────────────────────────────────┤\n",
       "│\u001b[2m \u001b[0m\u001b[2mI found the textbook to be overly complex for an      \u001b[0m\u001b[2m \u001b[0m│\u001b[2m \u001b[0m\u001b[2m['Textbook complexity and jargon need to be           \u001b[0m\u001b[2m \u001b[0m│\n",
       "│\u001b[2m \u001b[0m\u001b[2mintroductory course. It often used jargon that hadn't \u001b[0m\u001b[2m \u001b[0m│\u001b[2m \u001b[0m\u001b[2maddressed']                                           \u001b[0m\u001b[2m \u001b[0m│\n",
       "│\u001b[2m \u001b[0m\u001b[2mbeen explained in lectures, which was confusing.      \u001b[0m\u001b[2m \u001b[0m│\u001b[2m                                                        \u001b[0m│\n",
       "│\u001b[2m \u001b[0m\u001b[2mSimpler reading materials or more explanatory lectures\u001b[0m\u001b[2m \u001b[0m│\u001b[2m                                                        \u001b[0m│\n",
       "│\u001b[2m \u001b[0m\u001b[2mwould make a big difference for newcomers to          \u001b[0m\u001b[2m \u001b[0m│\u001b[2m                                                        \u001b[0m│\n",
       "│\u001b[2m \u001b[0m\u001b[2meconomics.                                            \u001b[0m\u001b[2m \u001b[0m│\u001b[2m                                                        \u001b[0m│\n",
       "├────────────────────────────────────────────────────────┼────────────────────────────────────────────────────────┤\n",
       "│\u001b[2m \u001b[0m\u001b[2mThe professor was knowledgeable and clearly passionate\u001b[0m\u001b[2m \u001b[0m│\u001b[2m \u001b[0m\u001b[2m['Professor simplified complex concepts and was       \u001b[0m\u001b[2m \u001b[0m│\n",
       "│\u001b[2m \u001b[0m\u001b[2mabout economics, but I felt the course relied too     \u001b[0m\u001b[2m \u001b[0m│\u001b[2m \u001b[0m\u001b[2mpassionate about the subject', 'Need for better       \u001b[0m\u001b[2m \u001b[0m│\n",
       "│\u001b[2m \u001b[0m\u001b[2mheavily on tests rather than more creative forms of   \u001b[0m\u001b[2m \u001b[0m│\u001b[2m \u001b[0m\u001b[2mpacing, more accessible reading materials, and diverse\u001b[0m\u001b[2m \u001b[0m│\n",
       "│\u001b[2m \u001b[0m\u001b[2massessment. More varied assignments would make the    \u001b[0m\u001b[2m \u001b[0m│\u001b[2m \u001b[0m\u001b[2massessment methods', 'Examinations considered fair,   \u001b[0m\u001b[2m \u001b[0m│\n",
       "│\u001b[2m \u001b[0m\u001b[2mcourse more accessible to students with different     \u001b[0m\u001b[2m \u001b[0m│\u001b[2m \u001b[0m\u001b[2mbut a variety of assignments are needed to cater to   \u001b[0m\u001b[2m \u001b[0m│\n",
       "│\u001b[2m \u001b[0m\u001b[2mlearning styles.                                      \u001b[0m\u001b[2m \u001b[0m│\u001b[2m \u001b[0m\u001b[2mdifferent learning styles']                           \u001b[0m\u001b[2m \u001b[0m│\n",
       "├────────────────────────────────────────────────────────┼────────────────────────────────────────────────────────┤\n",
       "│\u001b[2m \u001b[0m\u001b[2mThis class was a solid introduction to economics,     \u001b[0m\u001b[2m \u001b[0m│\u001b[2m \u001b[0m\u001b[2m['Material sometimes found dry and challenging to     \u001b[0m\u001b[2m \u001b[0m│\n",
       "│\u001b[2m \u001b[0m\u001b[2mthough it leaned heavily on theoretical aspects. I    \u001b[0m\u001b[2m \u001b[0m│\u001b[2m \u001b[0m\u001b[2mrelate to real-world applications', 'Demand for       \u001b[0m\u001b[2m \u001b[0m│\n",
       "│\u001b[2m \u001b[0m\u001b[2mwould have liked more opportunities to discuss the    \u001b[0m\u001b[2m \u001b[0m│\u001b[2m \u001b[0m\u001b[2mincreased real-world examples, interactive lectures,  \u001b[0m\u001b[2m \u001b[0m│\n",
       "│\u001b[2m \u001b[0m\u001b[2mreal-world implications of economic theories, which I \u001b[0m\u001b[2m \u001b[0m│\u001b[2m \u001b[0m\u001b[2mand practical assignments']                           \u001b[0m\u001b[2m \u001b[0m│\n",
       "│\u001b[2m \u001b[0m\u001b[2mbelieve would enhance understanding and retention of  \u001b[0m\u001b[2m \u001b[0m│\u001b[2m                                                        \u001b[0m│\n",
       "│\u001b[2m \u001b[0m\u001b[2mthe material.                                         \u001b[0m\u001b[2m \u001b[0m│\u001b[2m                                                        \u001b[0m│\n",
       "└────────────────────────────────────────────────────────┴────────────────────────────────────────────────────────┘\n"
      ]
     },
     "metadata": {},
     "output_type": "display_data"
    }
   ],
   "source": [
    "themes_lists = q_themes_list.by(scenarios).by(agent).run()\n",
    "themes_lists.select(\"evaluation\", \"themes_list\").print(format=\"rich\")"
   ]
  },
  {
   "cell_type": "code",
   "execution_count": 20,
   "id": "d6a8123d",
   "metadata": {},
   "outputs": [
    {
     "data": {
      "text/html": [
       "\n",
       "    <style>\n",
       "        table {\n",
       "            width: 100%;\n",
       "            border-collapse: collapse;\n",
       "        }\n",
       "        table, th, td {\n",
       "            border: 1px solid black;\n",
       "        }\n",
       "        th, td {\n",
       "            padding: 10px;\n",
       "            text-align: left;\n",
       "        }\n",
       "    </style>\n",
       "    <table id=\"myTable\" class=\"display\">\n",
       "  <thead>\n",
       "  <tr>\n",
       "    <th>evaluation</th>\n",
       "    <th>theme</th>\n",
       "  </tr>\n",
       "  </thead>\n",
       "</tbody>\n",
       "  <tr>\n",
       "    <td>I found the course very engaging and informative. The professor did an excellent job breaking down complex concepts, making them accessible to those of us new to economics. However, the pace was a bit fast, and I sometimes struggled to keep up with the weekly readings.</td>\n",
       "    <td>Course was engaging, informative, and provided a good foundational understanding of economics</td>\n",
       "  </tr>\n",
       "  <tr>\n",
       "    <td>I found the course very engaging and informative. The professor did an excellent job breaking down complex concepts, making them accessible to those of us new to economics. However, the pace was a bit fast, and I sometimes struggled to keep up with the weekly readings.</td>\n",
       "    <td>Professor simplified complex concepts and was passionate about the subject</td>\n",
       "  </tr>\n",
       "  <tr>\n",
       "    <td>I found the course very engaging and informative. The professor did an excellent job breaking down complex concepts, making them accessible to those of us new to economics. However, the pace was a bit fast, and I sometimes struggled to keep up with the weekly readings.</td>\n",
       "    <td>Need for better pacing, more accessible reading materials, and diverse assessment methods</td>\n",
       "  </tr>\n",
       "  <tr>\n",
       "    <td>This class was a struggle for me. The material felt dry and difficult to connect with real-world applications, which I think could have made it more interesting. More examples from current events would definitely have helped spark my interest.</td>\n",
       "    <td>Material sometimes found dry and challenging to relate to real-world applications</td>\n",
       "  </tr>\n",
       "  <tr>\n",
       "    <td>This class was a struggle for me. The material felt dry and difficult to connect with real-world applications, which I think could have made it more interesting. More examples from current events would definitely have helped spark my interest.</td>\n",
       "    <td>Demand for increased real-world examples, interactive lectures, and practical assignments</td>\n",
       "  </tr>\n",
       "  <tr>\n",
       "    <td>Excellent introductory course! The professor was enthusiastic and always willing to offer extra help during office hours. The interactive lectures and the practical assignments made the theory much more digestible and engaging.</td>\n",
       "    <td>Course was engaging, informative, and provided a good foundational understanding of economics</td>\n",
       "  </tr>\n",
       "  <tr>\n",
       "    <td>Excellent introductory course! The professor was enthusiastic and always willing to offer extra help during office hours. The interactive lectures and the practical assignments made the theory much more digestible and engaging.</td>\n",
       "    <td>Professor simplified complex concepts and was passionate about the subject</td>\n",
       "  </tr>\n",
       "  <tr>\n",
       "    <td>Excellent introductory course! The professor was enthusiastic and always willing to offer extra help during office hours. The interactive lectures and the practical assignments made the theory much more digestible and engaging.</td>\n",
       "    <td>Demand for increased real-world examples, interactive lectures, and practical assignments</td>\n",
       "  </tr>\n",
       "  <tr>\n",
       "    <td>Excellent introductory course! The professor was enthusiastic and always willing to offer extra help during office hours. The interactive lectures and the practical assignments made the theory much more digestible and engaging.</td>\n",
       "    <td>Appreciation for analytical rigor, enthusiastic teaching style, and availability for extra help</td>\n",
       "  </tr>\n",
       "  <tr>\n",
       "    <td>As someone with a strong background in math, I appreciated the analytical rigor of this course. However, I wish there had been more discussions that connected the theories we learned to everyday economic issues. It felt a bit isolated from practical realities at times.</td>\n",
       "    <td>Material sometimes found dry and challenging to relate to real-world applications</td>\n",
       "  </tr>\n",
       "</tbody>\n",
       "</table>"
      ],
      "text/plain": [
       "<IPython.core.display.HTML object>"
      ]
     },
     "metadata": {},
     "output_type": "display_data"
    }
   ],
   "source": [
    "wide_evaluation_themes = themes_lists.select(\"evaluation\", \"themes_list\").to_scenario_list().expand(\"themes_list\").rename({\"themes_list\": \"theme\"})\n",
    "wide_evaluation_themes.print(max_rows = 10)"
   ]
  },
  {
   "cell_type": "code",
   "execution_count": 21,
   "id": "b1e5041e",
   "metadata": {},
   "outputs": [
    {
     "data": {
      "text/html": [
       "<pre style=\"white-space:pre;overflow-x:auto;line-height:normal;font-family:Menlo,'DejaVu Sans Mono',consolas,'Courier New',monospace\">┏━━━━━━━━━━━━━━━━━━━━━━━━━━━━━━━━━━━━━━━━━━━━━━━━━━━━━━━━━━━━━━━━━━━━━━━━━━━━━━━━━━━━━━━━━━━━━━━━━━━━━━━━━┳━━━━━━━┓\n",
       "┃<span style=\"color: #800080; text-decoration-color: #800080; font-weight: bold\"> value                                                                                                   </span>┃<span style=\"color: #800080; text-decoration-color: #800080; font-weight: bold\"> count </span>┃\n",
       "┡━━━━━━━━━━━━━━━━━━━━━━━━━━━━━━━━━━━━━━━━━━━━━━━━━━━━━━━━━━━━━━━━━━━━━━━━━━━━━━━━━━━━━━━━━━━━━━━━━━━━━━━━━╇━━━━━━━┩\n",
       "│<span style=\"color: #7f7f7f; text-decoration-color: #7f7f7f\"> Demand for increased real-world examples, interactive lectures, and practical assignments               </span>│<span style=\"color: #7f7f7f; text-decoration-color: #7f7f7f\"> 6     </span>│\n",
       "├─────────────────────────────────────────────────────────────────────────────────────────────────────────┼───────┤\n",
       "│<span style=\"color: #7f7f7f; text-decoration-color: #7f7f7f\"> Course was engaging, informative, and provided a good foundational understanding of economics           </span>│<span style=\"color: #7f7f7f; text-decoration-color: #7f7f7f\"> 4     </span>│\n",
       "├─────────────────────────────────────────────────────────────────────────────────────────────────────────┼───────┤\n",
       "│<span style=\"color: #7f7f7f; text-decoration-color: #7f7f7f\"> Material sometimes found dry and challenging to relate to real-world applications                       </span>│<span style=\"color: #7f7f7f; text-decoration-color: #7f7f7f\"> 4     </span>│\n",
       "├─────────────────────────────────────────────────────────────────────────────────────────────────────────┼───────┤\n",
       "│<span style=\"color: #7f7f7f; text-decoration-color: #7f7f7f\"> Professor simplified complex concepts and was passionate about the subject                              </span>│<span style=\"color: #7f7f7f; text-decoration-color: #7f7f7f\"> 3     </span>│\n",
       "├─────────────────────────────────────────────────────────────────────────────────────────────────────────┼───────┤\n",
       "│<span style=\"color: #7f7f7f; text-decoration-color: #7f7f7f\"> Need for better pacing, more accessible reading materials, and diverse assessment methods               </span>│<span style=\"color: #7f7f7f; text-decoration-color: #7f7f7f\"> 2     </span>│\n",
       "├─────────────────────────────────────────────────────────────────────────────────────────────────────────┼───────┤\n",
       "│<span style=\"color: #7f7f7f; text-decoration-color: #7f7f7f\"> Appreciation for analytical rigor, enthusiastic teaching style, and availability for extra help         </span>│<span style=\"color: #7f7f7f; text-decoration-color: #7f7f7f\"> 2     </span>│\n",
       "├─────────────────────────────────────────────────────────────────────────────────────────────────────────┼───────┤\n",
       "│<span style=\"color: #7f7f7f; text-decoration-color: #7f7f7f\"> Desire for more detailed feedback, incorporation of visual aids, and guest lectures                     </span>│<span style=\"color: #7f7f7f; text-decoration-color: #7f7f7f\"> 2     </span>│\n",
       "├─────────────────────────────────────────────────────────────────────────────────────────────────────────┼───────┤\n",
       "│<span style=\"color: #7f7f7f; text-decoration-color: #7f7f7f\"> Effective integration of theory with practical case studies, but a call for more discussion on          </span>│<span style=\"color: #7f7f7f; text-decoration-color: #7f7f7f\"> 2     </span>│\n",
       "│<span style=\"color: #7f7f7f; text-decoration-color: #7f7f7f\"> applications                                                                                            </span>│<span style=\"color: #7f7f7f; text-decoration-color: #7f7f7f\">       </span>│\n",
       "├─────────────────────────────────────────────────────────────────────────────────────────────────────────┼───────┤\n",
       "│<span style=\"color: #7f7f7f; text-decoration-color: #7f7f7f\"> Examinations considered fair, but a variety of assignments are needed to cater to different learning    </span>│<span style=\"color: #7f7f7f; text-decoration-color: #7f7f7f\"> 2     </span>│\n",
       "│<span style=\"color: #7f7f7f; text-decoration-color: #7f7f7f\"> styles                                                                                                  </span>│<span style=\"color: #7f7f7f; text-decoration-color: #7f7f7f\">       </span>│\n",
       "├─────────────────────────────────────────────────────────────────────────────────────────────────────────┼───────┤\n",
       "│<span style=\"color: #7f7f7f; text-decoration-color: #7f7f7f\"> Textbook complexity and jargon need to be addressed                                                     </span>│<span style=\"color: #7f7f7f; text-decoration-color: #7f7f7f\"> 1     </span>│\n",
       "└─────────────────────────────────────────────────────────────────────────────────────────────────────────┴───────┘\n",
       "</pre>\n"
      ],
      "text/plain": [
       "┏━━━━━━━━━━━━━━━━━━━━━━━━━━━━━━━━━━━━━━━━━━━━━━━━━━━━━━━━━━━━━━━━━━━━━━━━━━━━━━━━━━━━━━━━━━━━━━━━━━━━━━━━━┳━━━━━━━┓\n",
       "┃\u001b[1;35m \u001b[0m\u001b[1;35mvalue                                                                                                  \u001b[0m\u001b[1;35m \u001b[0m┃\u001b[1;35m \u001b[0m\u001b[1;35mcount\u001b[0m\u001b[1;35m \u001b[0m┃\n",
       "┡━━━━━━━━━━━━━━━━━━━━━━━━━━━━━━━━━━━━━━━━━━━━━━━━━━━━━━━━━━━━━━━━━━━━━━━━━━━━━━━━━━━━━━━━━━━━━━━━━━━━━━━━━╇━━━━━━━┩\n",
       "│\u001b[2m \u001b[0m\u001b[2mDemand for increased real-world examples, interactive lectures, and practical assignments              \u001b[0m\u001b[2m \u001b[0m│\u001b[2m \u001b[0m\u001b[2m6    \u001b[0m\u001b[2m \u001b[0m│\n",
       "├─────────────────────────────────────────────────────────────────────────────────────────────────────────┼───────┤\n",
       "│\u001b[2m \u001b[0m\u001b[2mCourse was engaging, informative, and provided a good foundational understanding of economics          \u001b[0m\u001b[2m \u001b[0m│\u001b[2m \u001b[0m\u001b[2m4    \u001b[0m\u001b[2m \u001b[0m│\n",
       "├─────────────────────────────────────────────────────────────────────────────────────────────────────────┼───────┤\n",
       "│\u001b[2m \u001b[0m\u001b[2mMaterial sometimes found dry and challenging to relate to real-world applications                      \u001b[0m\u001b[2m \u001b[0m│\u001b[2m \u001b[0m\u001b[2m4    \u001b[0m\u001b[2m \u001b[0m│\n",
       "├─────────────────────────────────────────────────────────────────────────────────────────────────────────┼───────┤\n",
       "│\u001b[2m \u001b[0m\u001b[2mProfessor simplified complex concepts and was passionate about the subject                             \u001b[0m\u001b[2m \u001b[0m│\u001b[2m \u001b[0m\u001b[2m3    \u001b[0m\u001b[2m \u001b[0m│\n",
       "├─────────────────────────────────────────────────────────────────────────────────────────────────────────┼───────┤\n",
       "│\u001b[2m \u001b[0m\u001b[2mNeed for better pacing, more accessible reading materials, and diverse assessment methods              \u001b[0m\u001b[2m \u001b[0m│\u001b[2m \u001b[0m\u001b[2m2    \u001b[0m\u001b[2m \u001b[0m│\n",
       "├─────────────────────────────────────────────────────────────────────────────────────────────────────────┼───────┤\n",
       "│\u001b[2m \u001b[0m\u001b[2mAppreciation for analytical rigor, enthusiastic teaching style, and availability for extra help        \u001b[0m\u001b[2m \u001b[0m│\u001b[2m \u001b[0m\u001b[2m2    \u001b[0m\u001b[2m \u001b[0m│\n",
       "├─────────────────────────────────────────────────────────────────────────────────────────────────────────┼───────┤\n",
       "│\u001b[2m \u001b[0m\u001b[2mDesire for more detailed feedback, incorporation of visual aids, and guest lectures                    \u001b[0m\u001b[2m \u001b[0m│\u001b[2m \u001b[0m\u001b[2m2    \u001b[0m\u001b[2m \u001b[0m│\n",
       "├─────────────────────────────────────────────────────────────────────────────────────────────────────────┼───────┤\n",
       "│\u001b[2m \u001b[0m\u001b[2mEffective integration of theory with practical case studies, but a call for more discussion on         \u001b[0m\u001b[2m \u001b[0m│\u001b[2m \u001b[0m\u001b[2m2    \u001b[0m\u001b[2m \u001b[0m│\n",
       "│\u001b[2m \u001b[0m\u001b[2mapplications                                                                                           \u001b[0m\u001b[2m \u001b[0m│\u001b[2m       \u001b[0m│\n",
       "├─────────────────────────────────────────────────────────────────────────────────────────────────────────┼───────┤\n",
       "│\u001b[2m \u001b[0m\u001b[2mExaminations considered fair, but a variety of assignments are needed to cater to different learning   \u001b[0m\u001b[2m \u001b[0m│\u001b[2m \u001b[0m\u001b[2m2    \u001b[0m\u001b[2m \u001b[0m│\n",
       "│\u001b[2m \u001b[0m\u001b[2mstyles                                                                                                 \u001b[0m\u001b[2m \u001b[0m│\u001b[2m       \u001b[0m│\n",
       "├─────────────────────────────────────────────────────────────────────────────────────────────────────────┼───────┤\n",
       "│\u001b[2m \u001b[0m\u001b[2mTextbook complexity and jargon need to be addressed                                                    \u001b[0m\u001b[2m \u001b[0m│\u001b[2m \u001b[0m\u001b[2m1    \u001b[0m\u001b[2m \u001b[0m│\n",
       "└─────────────────────────────────────────────────────────────────────────────────────────────────────────┴───────┘\n"
      ]
     },
     "metadata": {},
     "output_type": "display_data"
    }
   ],
   "source": [
    "wide_evaluation_themes.tally(\"theme\").print(format=\"rich\")"
   ]
  },
  {
   "cell_type": "markdown",
   "id": "4f633cdd-6541-47e9-875a-f90e1512cace",
   "metadata": {},
   "source": [
    "Now we can count the number of evaluations that mention each of the themes:"
   ]
  },
  {
   "cell_type": "markdown",
   "id": "846d29fd-847d-4352-af7c-ed339519e239",
   "metadata": {},
   "source": [
    "We can do the same thing with the areas of improvement:"
   ]
  },
  {
   "cell_type": "code",
   "execution_count": 22,
   "id": "13a8a2c1-5a8a-4e46-86fc-8ff23c9587a6",
   "metadata": {},
   "outputs": [
    {
     "data": {
      "text/plain": [
       "['Adjust the course pacing',\n",
       " 'Provide additional support for weekly readings',\n",
       " 'Consider supplemental review sessions',\n",
       " 'Incorporate more real-world examples into lectures',\n",
       " 'Use current events to illustrate economic principles',\n",
       " 'Develop interactive class activities to enhance engagement',\n",
       " 'Incorporate more real-world case studies',\n",
       " 'Enhance the use of multimedia to supplement lectures',\n",
       " 'Offer additional resources for advanced study',\n",
       " 'Incorporate more real-world examples into lectures',\n",
       " 'Facilitate class discussions on current economic events',\n",
       " 'Assign case studies or articles that relate theory to practice',\n",
       " 'Provide more detailed feedback on assignments',\n",
       " 'Clarify understanding of economic concepts through feedback',\n",
       " 'Offer additional resources or sessions to review common mistakes',\n",
       " 'Enhance lecture engagement through varied teaching methods',\n",
       " 'Incorporate more visual aids to support learning',\n",
       " 'Invite guest speakers to provide practical insights',\n",
       " 'Explore additional interactive learning methods',\n",
       " 'Incorporate more current events into the curriculum',\n",
       " 'Enhance online resources and support',\n",
       " 'Reevaluate textbook choice for appropriateness to course level',\n",
       " 'Incorporate a glossary or jargon explanations in lectures',\n",
       " 'Supplement lectures with simpler reading materials',\n",
       " 'Incorporate diverse assessment methods',\n",
       " 'Explore alternative teaching strategies to accommodate different learning styles',\n",
       " 'Provide additional resources to support varied learning approaches',\n",
       " 'Incorporate more real-world examples into the curriculum',\n",
       " 'Facilitate discussions on current economic events',\n",
       " 'Design assignments that apply theories to practical scenarios']"
      ]
     },
     "execution_count": 22,
     "metadata": {},
     "output_type": "execute_result"
    }
   ],
   "source": [
    "improvements = results.select(\"improvements\").to_list(flatten=True)\n",
    "improvements"
   ]
  },
  {
   "cell_type": "code",
   "execution_count": 23,
   "id": "cd346576-9a41-4e15-99ba-ff99fd0d0c06",
   "metadata": {},
   "outputs": [],
   "source": [
    "q_condensed_improvements = QuestionList(\n",
    "    question_name=\"condensed_improvements\",\n",
    "    question_text=\"\"\"Combine the following list of areas for improvement from the evaluations \n",
    "    into a consolidated, non-redundant list: \"\"\"\n",
    "    + \", \".join(improvements),\n",
    "    max_list_items=10,\n",
    ")"
   ]
  },
  {
   "cell_type": "code",
   "execution_count": 24,
   "id": "f8e00a94-1eb0-49a5-b338-5385220ee9a3",
   "metadata": {},
   "outputs": [
    {
     "data": {
      "text/plain": [
       "['Adjust course pacing',\n",
       " 'Provide additional support for weekly readings and resources for advanced study',\n",
       " 'Incorporate more real-world examples and case studies into lectures and assignments',\n",
       " 'Enhance engagement through interactive activities, varied teaching methods, and guest speakers',\n",
       " 'Use multimedia, visual aids, and diverse assessment methods to support learning',\n",
       " 'Facilitate class discussions on current economic events',\n",
       " 'Offer additional review sessions and resources to clarify concepts and address common mistakes',\n",
       " 'Enhance online resources and support',\n",
       " 'Reevaluate textbook choice and supplement with simpler materials and a glossary',\n",
       " 'Explore alternative teaching strategies to accommodate different learning styles']"
      ]
     },
     "execution_count": 24,
     "metadata": {},
     "output_type": "execute_result"
    }
   ],
   "source": [
    "condensed_improvements = (\n",
    "    q_condensed_improvements.run().select(\"condensed_improvements\").to_list()[0]\n",
    ")\n",
    "condensed_improvements"
   ]
  },
  {
   "cell_type": "code",
   "execution_count": 25,
   "id": "154fe917",
   "metadata": {},
   "outputs": [
    {
     "data": {
      "text/plain": [
       "['Adjust course pacing',\n",
       " 'Provide additional support for weekly readings and resources for advanced study',\n",
       " 'Incorporate more real-world examples and case studies into lectures and assignments',\n",
       " 'Enhance engagement through interactive activities, varied teaching methods, and guest speakers',\n",
       " 'Use multimedia, visual aids, and diverse assessment methods to support learning',\n",
       " 'Facilitate class discussions on current economic events',\n",
       " 'Offer additional review sessions and resources to clarify concepts and address common mistakes',\n",
       " 'Enhance online resources and support',\n",
       " 'Reevaluate textbook choice and supplement with simpler materials and a glossary',\n",
       " 'Explore alternative teaching strategies to accommodate different learning styles']"
      ]
     },
     "execution_count": 25,
     "metadata": {},
     "output_type": "execute_result"
    }
   ],
   "source": [
    "condensed_improvements"
   ]
  },
  {
   "cell_type": "code",
   "execution_count": 26,
   "id": "3f59e1e7-559f-4ca8-9f94-9f75ab29d3f6",
   "metadata": {},
   "outputs": [],
   "source": [
    "q_improvements_list = QuestionCheckBox(\n",
    "    question_name=\"improvements_list\",\n",
    "    question_text=\"Select all of the improvements that are mentioned in this evaluation: {{ evaluation }}\",\n",
    "    question_options=condensed_improvements,\n",
    ")"
   ]
  },
  {
   "cell_type": "code",
   "execution_count": 27,
   "id": "89a896d5-2597-4f99-8a34-e8ecb0bf969b",
   "metadata": {},
   "outputs": [
    {
     "data": {
      "text/html": [
       "<pre style=\"white-space:pre;overflow-x:auto;line-height:normal;font-family:Menlo,'DejaVu Sans Mono',consolas,'Courier New',monospace\">┏━━━━━━━━━━━━━━━━━━━━━━━━━━━━━━━━━━━━━━━━━━━━━━━━━━━━━━━━┳━━━━━━━━━━━━━━━━━━━━━━━━━━━━━━━━━━━━━━━━━━━━━━━━━━━━━━━━┓\n",
       "┃<span style=\"color: #800080; text-decoration-color: #800080; font-weight: bold\"> scenario                                               </span>┃<span style=\"color: #800080; text-decoration-color: #800080; font-weight: bold\"> answer                                                 </span>┃\n",
       "┃<span style=\"color: #800080; text-decoration-color: #800080; font-weight: bold\"> .evaluation                                            </span>┃<span style=\"color: #800080; text-decoration-color: #800080; font-weight: bold\"> .improvements_list                                     </span>┃\n",
       "┡━━━━━━━━━━━━━━━━━━━━━━━━━━━━━━━━━━━━━━━━━━━━━━━━━━━━━━━━╇━━━━━━━━━━━━━━━━━━━━━━━━━━━━━━━━━━━━━━━━━━━━━━━━━━━━━━━━┩\n",
       "│<span style=\"color: #7f7f7f; text-decoration-color: #7f7f7f\"> I found the course very engaging and informative. The  </span>│<span style=\"color: #7f7f7f; text-decoration-color: #7f7f7f\"> ['Adjust course pacing', 'Provide additional support   </span>│\n",
       "│<span style=\"color: #7f7f7f; text-decoration-color: #7f7f7f\"> professor did an excellent job breaking down complex   </span>│<span style=\"color: #7f7f7f; text-decoration-color: #7f7f7f\"> for weekly readings and resources for advanced study', </span>│\n",
       "│<span style=\"color: #7f7f7f; text-decoration-color: #7f7f7f\"> concepts, making them accessible to those of us new to </span>│<span style=\"color: #7f7f7f; text-decoration-color: #7f7f7f\"> 'Offer additional review sessions and resources to     </span>│\n",
       "│<span style=\"color: #7f7f7f; text-decoration-color: #7f7f7f\"> economics. However, the pace was a bit fast, and I     </span>│<span style=\"color: #7f7f7f; text-decoration-color: #7f7f7f\"> clarify concepts and address common mistakes']         </span>│\n",
       "│<span style=\"color: #7f7f7f; text-decoration-color: #7f7f7f\"> sometimes struggled to keep up with the weekly         </span>│<span style=\"color: #7f7f7f; text-decoration-color: #7f7f7f\">                                                        </span>│\n",
       "│<span style=\"color: #7f7f7f; text-decoration-color: #7f7f7f\"> readings.                                              </span>│<span style=\"color: #7f7f7f; text-decoration-color: #7f7f7f\">                                                        </span>│\n",
       "├────────────────────────────────────────────────────────┼────────────────────────────────────────────────────────┤\n",
       "│<span style=\"color: #7f7f7f; text-decoration-color: #7f7f7f\"> This class was a struggle for me. The material felt    </span>│<span style=\"color: #7f7f7f; text-decoration-color: #7f7f7f\"> ['Incorporate more real-world examples and case        </span>│\n",
       "│<span style=\"color: #7f7f7f; text-decoration-color: #7f7f7f\"> dry and difficult to connect with real-world           </span>│<span style=\"color: #7f7f7f; text-decoration-color: #7f7f7f\"> studies into lectures and assignments', 'Facilitate    </span>│\n",
       "│<span style=\"color: #7f7f7f; text-decoration-color: #7f7f7f\"> applications, which I think could have made it more    </span>│<span style=\"color: #7f7f7f; text-decoration-color: #7f7f7f\"> class discussions on current economic events']         </span>│\n",
       "│<span style=\"color: #7f7f7f; text-decoration-color: #7f7f7f\"> interesting. More examples from current events would   </span>│<span style=\"color: #7f7f7f; text-decoration-color: #7f7f7f\">                                                        </span>│\n",
       "│<span style=\"color: #7f7f7f; text-decoration-color: #7f7f7f\"> definitely have helped spark my interest.              </span>│<span style=\"color: #7f7f7f; text-decoration-color: #7f7f7f\">                                                        </span>│\n",
       "├────────────────────────────────────────────────────────┼────────────────────────────────────────────────────────┤\n",
       "│<span style=\"color: #7f7f7f; text-decoration-color: #7f7f7f\"> Excellent introductory course! The professor was       </span>│<span style=\"color: #7f7f7f; text-decoration-color: #7f7f7f\"> ['Enhance engagement through interactive activities,   </span>│\n",
       "│<span style=\"color: #7f7f7f; text-decoration-color: #7f7f7f\"> enthusiastic and always willing to offer extra help    </span>│<span style=\"color: #7f7f7f; text-decoration-color: #7f7f7f\"> varied teaching methods, and guest speakers',          </span>│\n",
       "│<span style=\"color: #7f7f7f; text-decoration-color: #7f7f7f\"> during office hours. The interactive lectures and the  </span>│<span style=\"color: #7f7f7f; text-decoration-color: #7f7f7f\"> 'Facilitate class discussions on current economic      </span>│\n",
       "│<span style=\"color: #7f7f7f; text-decoration-color: #7f7f7f\"> practical assignments made the theory much more        </span>│<span style=\"color: #7f7f7f; text-decoration-color: #7f7f7f\"> events']                                               </span>│\n",
       "│<span style=\"color: #7f7f7f; text-decoration-color: #7f7f7f\"> digestible and engaging.                               </span>│<span style=\"color: #7f7f7f; text-decoration-color: #7f7f7f\">                                                        </span>│\n",
       "├────────────────────────────────────────────────────────┼────────────────────────────────────────────────────────┤\n",
       "│<span style=\"color: #7f7f7f; text-decoration-color: #7f7f7f\"> As someone with a strong background in math, I         </span>│<span style=\"color: #7f7f7f; text-decoration-color: #7f7f7f\"> ['Incorporate more real-world examples and case        </span>│\n",
       "│<span style=\"color: #7f7f7f; text-decoration-color: #7f7f7f\"> appreciated the analytical rigor of this course.       </span>│<span style=\"color: #7f7f7f; text-decoration-color: #7f7f7f\"> studies into lectures and assignments', 'Facilitate    </span>│\n",
       "│<span style=\"color: #7f7f7f; text-decoration-color: #7f7f7f\"> However, I wish there had been more discussions that   </span>│<span style=\"color: #7f7f7f; text-decoration-color: #7f7f7f\"> class discussions on current economic events']         </span>│\n",
       "│<span style=\"color: #7f7f7f; text-decoration-color: #7f7f7f\"> connected the theories we learned to everyday economic </span>│<span style=\"color: #7f7f7f; text-decoration-color: #7f7f7f\">                                                        </span>│\n",
       "│<span style=\"color: #7f7f7f; text-decoration-color: #7f7f7f\"> issues. It felt a bit isolated from practical          </span>│<span style=\"color: #7f7f7f; text-decoration-color: #7f7f7f\">                                                        </span>│\n",
       "│<span style=\"color: #7f7f7f; text-decoration-color: #7f7f7f\"> realities at times.                                    </span>│<span style=\"color: #7f7f7f; text-decoration-color: #7f7f7f\">                                                        </span>│\n",
       "├────────────────────────────────────────────────────────┼────────────────────────────────────────────────────────┤\n",
       "│<span style=\"color: #7f7f7f; text-decoration-color: #7f7f7f\"> I enjoyed the course, especially the group projects,   </span>│<span style=\"color: #7f7f7f; text-decoration-color: #7f7f7f\"> ['Provide additional support for weekly readings and   </span>│\n",
       "│<span style=\"color: #7f7f7f; text-decoration-color: #7f7f7f\"> which were both challenging and rewarding. It was      </span>│<span style=\"color: #7f7f7f; text-decoration-color: #7f7f7f\"> resources for advanced study', 'Offer additional       </span>│\n",
       "│<span style=\"color: #7f7f7f; text-decoration-color: #7f7f7f\"> great to apply economic concepts to solve real-life    </span>│<span style=\"color: #7f7f7f; text-decoration-color: #7f7f7f\"> review sessions and resources to clarify concepts and  </span>│\n",
       "│<span style=\"color: #7f7f7f; text-decoration-color: #7f7f7f\"> problems. I did feel, however, that the feedback on    </span>│<span style=\"color: #7f7f7f; text-decoration-color: #7f7f7f\"> address common mistakes']                              </span>│\n",
       "│<span style=\"color: #7f7f7f; text-decoration-color: #7f7f7f\"> assignments could be more detailed to help us          </span>│<span style=\"color: #7f7f7f; text-decoration-color: #7f7f7f\">                                                        </span>│\n",
       "│<span style=\"color: #7f7f7f; text-decoration-color: #7f7f7f\"> understand our mistakes.                               </span>│<span style=\"color: #7f7f7f; text-decoration-color: #7f7f7f\">                                                        </span>│\n",
       "├────────────────────────────────────────────────────────┼────────────────────────────────────────────────────────┤\n",
       "│<span style=\"color: #7f7f7f; text-decoration-color: #7f7f7f\"> The course content was well-organized, but the         </span>│<span style=\"color: #7f7f7f; text-decoration-color: #7f7f7f\"> ['Enhance engagement through interactive activities,   </span>│\n",
       "│<span style=\"color: #7f7f7f; text-decoration-color: #7f7f7f\"> lectures were somewhat monotonous and hard to follow.  </span>│<span style=\"color: #7f7f7f; text-decoration-color: #7f7f7f\"> varied teaching methods, and guest speakers', 'Use     </span>│\n",
       "│<span style=\"color: #7f7f7f; text-decoration-color: #7f7f7f\"> I would suggest incorporating more visual aids and     </span>│<span style=\"color: #7f7f7f; text-decoration-color: #7f7f7f\"> multimedia, visual aids, and diverse assessment        </span>│\n",
       "│<span style=\"color: #7f7f7f; text-decoration-color: #7f7f7f\"> maybe some guest lectures from industry professionals  </span>│<span style=\"color: #7f7f7f; text-decoration-color: #7f7f7f\"> methods to support learning', 'Explore alternative     </span>│\n",
       "│<span style=\"color: #7f7f7f; text-decoration-color: #7f7f7f\"> to liven up the sessions.                              </span>│<span style=\"color: #7f7f7f; text-decoration-color: #7f7f7f\"> teaching strategies to accommodate different learning  </span>│\n",
       "│<span style=\"color: #7f7f7f; text-decoration-color: #7f7f7f\">                                                        </span>│<span style=\"color: #7f7f7f; text-decoration-color: #7f7f7f\"> styles']                                               </span>│\n",
       "├────────────────────────────────────────────────────────┼────────────────────────────────────────────────────────┤\n",
       "│<span style=\"color: #7f7f7f; text-decoration-color: #7f7f7f\"> This was my favorite class this semester! The mix of   </span>│<span style=\"color: #7f7f7f; text-decoration-color: #7f7f7f\"> ['Incorporate more real-world examples and case        </span>│\n",
       "│<span style=\"color: #7f7f7f; text-decoration-color: #7f7f7f\"> theory and case studies was perfect, and the exams     </span>│<span style=\"color: #7f7f7f; text-decoration-color: #7f7f7f\"> studies into lectures and assignments', 'Facilitate    </span>│\n",
       "│<span style=\"color: #7f7f7f; text-decoration-color: #7f7f7f\"> were fair. I also really appreciated the diversity of  </span>│<span style=\"color: #7f7f7f; text-decoration-color: #7f7f7f\"> class discussions on current economic events']         </span>│\n",
       "│<span style=\"color: #7f7f7f; text-decoration-color: #7f7f7f\"> perspectives we explored in class, especially in terms </span>│<span style=\"color: #7f7f7f; text-decoration-color: #7f7f7f\">                                                        </span>│\n",
       "│<span style=\"color: #7f7f7f; text-decoration-color: #7f7f7f\"> of global economic policies.                           </span>│<span style=\"color: #7f7f7f; text-decoration-color: #7f7f7f\">                                                        </span>│\n",
       "├────────────────────────────────────────────────────────┼────────────────────────────────────────────────────────┤\n",
       "│<span style=\"color: #7f7f7f; text-decoration-color: #7f7f7f\"> I found the textbook to be overly complex for an       </span>│<span style=\"color: #7f7f7f; text-decoration-color: #7f7f7f\"> ['Provide additional support for weekly readings and   </span>│\n",
       "│<span style=\"color: #7f7f7f; text-decoration-color: #7f7f7f\"> introductory course. It often used jargon that hadn't  </span>│<span style=\"color: #7f7f7f; text-decoration-color: #7f7f7f\"> resources for advanced study', 'Reevaluate textbook    </span>│\n",
       "│<span style=\"color: #7f7f7f; text-decoration-color: #7f7f7f\"> been explained in lectures, which was confusing.       </span>│<span style=\"color: #7f7f7f; text-decoration-color: #7f7f7f\"> choice and supplement with simpler materials and a     </span>│\n",
       "│<span style=\"color: #7f7f7f; text-decoration-color: #7f7f7f\"> Simpler reading materials or more explanatory lectures </span>│<span style=\"color: #7f7f7f; text-decoration-color: #7f7f7f\"> glossary']                                             </span>│\n",
       "│<span style=\"color: #7f7f7f; text-decoration-color: #7f7f7f\"> would make a big difference for newcomers to           </span>│<span style=\"color: #7f7f7f; text-decoration-color: #7f7f7f\">                                                        </span>│\n",
       "│<span style=\"color: #7f7f7f; text-decoration-color: #7f7f7f\"> economics.                                             </span>│<span style=\"color: #7f7f7f; text-decoration-color: #7f7f7f\">                                                        </span>│\n",
       "├────────────────────────────────────────────────────────┼────────────────────────────────────────────────────────┤\n",
       "│<span style=\"color: #7f7f7f; text-decoration-color: #7f7f7f\"> The professor was knowledgeable and clearly passionate </span>│<span style=\"color: #7f7f7f; text-decoration-color: #7f7f7f\"> ['Use multimedia, visual aids, and diverse assessment  </span>│\n",
       "│<span style=\"color: #7f7f7f; text-decoration-color: #7f7f7f\"> about economics, but I felt the course relied too      </span>│<span style=\"color: #7f7f7f; text-decoration-color: #7f7f7f\"> methods to support learning', 'Explore alternative     </span>│\n",
       "│<span style=\"color: #7f7f7f; text-decoration-color: #7f7f7f\"> heavily on tests rather than more creative forms of    </span>│<span style=\"color: #7f7f7f; text-decoration-color: #7f7f7f\"> teaching strategies to accommodate different learning  </span>│\n",
       "│<span style=\"color: #7f7f7f; text-decoration-color: #7f7f7f\"> assessment. More varied assignments would make the     </span>│<span style=\"color: #7f7f7f; text-decoration-color: #7f7f7f\"> styles']                                               </span>│\n",
       "│<span style=\"color: #7f7f7f; text-decoration-color: #7f7f7f\"> course more accessible to students with different      </span>│<span style=\"color: #7f7f7f; text-decoration-color: #7f7f7f\">                                                        </span>│\n",
       "│<span style=\"color: #7f7f7f; text-decoration-color: #7f7f7f\"> learning styles.                                       </span>│<span style=\"color: #7f7f7f; text-decoration-color: #7f7f7f\">                                                        </span>│\n",
       "├────────────────────────────────────────────────────────┼────────────────────────────────────────────────────────┤\n",
       "│<span style=\"color: #7f7f7f; text-decoration-color: #7f7f7f\"> This class was a solid introduction to economics,      </span>│<span style=\"color: #7f7f7f; text-decoration-color: #7f7f7f\"> ['Incorporate more real-world examples and case        </span>│\n",
       "│<span style=\"color: #7f7f7f; text-decoration-color: #7f7f7f\"> though it leaned heavily on theoretical aspects. I     </span>│<span style=\"color: #7f7f7f; text-decoration-color: #7f7f7f\"> studies into lectures and assignments', 'Facilitate    </span>│\n",
       "│<span style=\"color: #7f7f7f; text-decoration-color: #7f7f7f\"> would have liked more opportunities to discuss the     </span>│<span style=\"color: #7f7f7f; text-decoration-color: #7f7f7f\"> class discussions on current economic events']         </span>│\n",
       "│<span style=\"color: #7f7f7f; text-decoration-color: #7f7f7f\"> real-world implications of economic theories, which I  </span>│<span style=\"color: #7f7f7f; text-decoration-color: #7f7f7f\">                                                        </span>│\n",
       "│<span style=\"color: #7f7f7f; text-decoration-color: #7f7f7f\"> believe would enhance understanding and retention of   </span>│<span style=\"color: #7f7f7f; text-decoration-color: #7f7f7f\">                                                        </span>│\n",
       "│<span style=\"color: #7f7f7f; text-decoration-color: #7f7f7f\"> the material.                                          </span>│<span style=\"color: #7f7f7f; text-decoration-color: #7f7f7f\">                                                        </span>│\n",
       "└────────────────────────────────────────────────────────┴────────────────────────────────────────────────────────┘\n",
       "</pre>\n"
      ],
      "text/plain": [
       "┏━━━━━━━━━━━━━━━━━━━━━━━━━━━━━━━━━━━━━━━━━━━━━━━━━━━━━━━━┳━━━━━━━━━━━━━━━━━━━━━━━━━━━━━━━━━━━━━━━━━━━━━━━━━━━━━━━━┓\n",
       "┃\u001b[1;35m \u001b[0m\u001b[1;35mscenario                                              \u001b[0m\u001b[1;35m \u001b[0m┃\u001b[1;35m \u001b[0m\u001b[1;35manswer                                                \u001b[0m\u001b[1;35m \u001b[0m┃\n",
       "┃\u001b[1;35m \u001b[0m\u001b[1;35m.evaluation                                           \u001b[0m\u001b[1;35m \u001b[0m┃\u001b[1;35m \u001b[0m\u001b[1;35m.improvements_list                                    \u001b[0m\u001b[1;35m \u001b[0m┃\n",
       "┡━━━━━━━━━━━━━━━━━━━━━━━━━━━━━━━━━━━━━━━━━━━━━━━━━━━━━━━━╇━━━━━━━━━━━━━━━━━━━━━━━━━━━━━━━━━━━━━━━━━━━━━━━━━━━━━━━━┩\n",
       "│\u001b[2m \u001b[0m\u001b[2mI found the course very engaging and informative. The \u001b[0m\u001b[2m \u001b[0m│\u001b[2m \u001b[0m\u001b[2m['Adjust course pacing', 'Provide additional support  \u001b[0m\u001b[2m \u001b[0m│\n",
       "│\u001b[2m \u001b[0m\u001b[2mprofessor did an excellent job breaking down complex  \u001b[0m\u001b[2m \u001b[0m│\u001b[2m \u001b[0m\u001b[2mfor weekly readings and resources for advanced study',\u001b[0m\u001b[2m \u001b[0m│\n",
       "│\u001b[2m \u001b[0m\u001b[2mconcepts, making them accessible to those of us new to\u001b[0m\u001b[2m \u001b[0m│\u001b[2m \u001b[0m\u001b[2m'Offer additional review sessions and resources to    \u001b[0m\u001b[2m \u001b[0m│\n",
       "│\u001b[2m \u001b[0m\u001b[2meconomics. However, the pace was a bit fast, and I    \u001b[0m\u001b[2m \u001b[0m│\u001b[2m \u001b[0m\u001b[2mclarify concepts and address common mistakes']        \u001b[0m\u001b[2m \u001b[0m│\n",
       "│\u001b[2m \u001b[0m\u001b[2msometimes struggled to keep up with the weekly        \u001b[0m\u001b[2m \u001b[0m│\u001b[2m                                                        \u001b[0m│\n",
       "│\u001b[2m \u001b[0m\u001b[2mreadings.                                             \u001b[0m\u001b[2m \u001b[0m│\u001b[2m                                                        \u001b[0m│\n",
       "├────────────────────────────────────────────────────────┼────────────────────────────────────────────────────────┤\n",
       "│\u001b[2m \u001b[0m\u001b[2mThis class was a struggle for me. The material felt   \u001b[0m\u001b[2m \u001b[0m│\u001b[2m \u001b[0m\u001b[2m['Incorporate more real-world examples and case       \u001b[0m\u001b[2m \u001b[0m│\n",
       "│\u001b[2m \u001b[0m\u001b[2mdry and difficult to connect with real-world          \u001b[0m\u001b[2m \u001b[0m│\u001b[2m \u001b[0m\u001b[2mstudies into lectures and assignments', 'Facilitate   \u001b[0m\u001b[2m \u001b[0m│\n",
       "│\u001b[2m \u001b[0m\u001b[2mapplications, which I think could have made it more   \u001b[0m\u001b[2m \u001b[0m│\u001b[2m \u001b[0m\u001b[2mclass discussions on current economic events']        \u001b[0m\u001b[2m \u001b[0m│\n",
       "│\u001b[2m \u001b[0m\u001b[2minteresting. More examples from current events would  \u001b[0m\u001b[2m \u001b[0m│\u001b[2m                                                        \u001b[0m│\n",
       "│\u001b[2m \u001b[0m\u001b[2mdefinitely have helped spark my interest.             \u001b[0m\u001b[2m \u001b[0m│\u001b[2m                                                        \u001b[0m│\n",
       "├────────────────────────────────────────────────────────┼────────────────────────────────────────────────────────┤\n",
       "│\u001b[2m \u001b[0m\u001b[2mExcellent introductory course! The professor was      \u001b[0m\u001b[2m \u001b[0m│\u001b[2m \u001b[0m\u001b[2m['Enhance engagement through interactive activities,  \u001b[0m\u001b[2m \u001b[0m│\n",
       "│\u001b[2m \u001b[0m\u001b[2menthusiastic and always willing to offer extra help   \u001b[0m\u001b[2m \u001b[0m│\u001b[2m \u001b[0m\u001b[2mvaried teaching methods, and guest speakers',         \u001b[0m\u001b[2m \u001b[0m│\n",
       "│\u001b[2m \u001b[0m\u001b[2mduring office hours. The interactive lectures and the \u001b[0m\u001b[2m \u001b[0m│\u001b[2m \u001b[0m\u001b[2m'Facilitate class discussions on current economic     \u001b[0m\u001b[2m \u001b[0m│\n",
       "│\u001b[2m \u001b[0m\u001b[2mpractical assignments made the theory much more       \u001b[0m\u001b[2m \u001b[0m│\u001b[2m \u001b[0m\u001b[2mevents']                                              \u001b[0m\u001b[2m \u001b[0m│\n",
       "│\u001b[2m \u001b[0m\u001b[2mdigestible and engaging.                              \u001b[0m\u001b[2m \u001b[0m│\u001b[2m                                                        \u001b[0m│\n",
       "├────────────────────────────────────────────────────────┼────────────────────────────────────────────────────────┤\n",
       "│\u001b[2m \u001b[0m\u001b[2mAs someone with a strong background in math, I        \u001b[0m\u001b[2m \u001b[0m│\u001b[2m \u001b[0m\u001b[2m['Incorporate more real-world examples and case       \u001b[0m\u001b[2m \u001b[0m│\n",
       "│\u001b[2m \u001b[0m\u001b[2mappreciated the analytical rigor of this course.      \u001b[0m\u001b[2m \u001b[0m│\u001b[2m \u001b[0m\u001b[2mstudies into lectures and assignments', 'Facilitate   \u001b[0m\u001b[2m \u001b[0m│\n",
       "│\u001b[2m \u001b[0m\u001b[2mHowever, I wish there had been more discussions that  \u001b[0m\u001b[2m \u001b[0m│\u001b[2m \u001b[0m\u001b[2mclass discussions on current economic events']        \u001b[0m\u001b[2m \u001b[0m│\n",
       "│\u001b[2m \u001b[0m\u001b[2mconnected the theories we learned to everyday economic\u001b[0m\u001b[2m \u001b[0m│\u001b[2m                                                        \u001b[0m│\n",
       "│\u001b[2m \u001b[0m\u001b[2missues. It felt a bit isolated from practical         \u001b[0m\u001b[2m \u001b[0m│\u001b[2m                                                        \u001b[0m│\n",
       "│\u001b[2m \u001b[0m\u001b[2mrealities at times.                                   \u001b[0m\u001b[2m \u001b[0m│\u001b[2m                                                        \u001b[0m│\n",
       "├────────────────────────────────────────────────────────┼────────────────────────────────────────────────────────┤\n",
       "│\u001b[2m \u001b[0m\u001b[2mI enjoyed the course, especially the group projects,  \u001b[0m\u001b[2m \u001b[0m│\u001b[2m \u001b[0m\u001b[2m['Provide additional support for weekly readings and  \u001b[0m\u001b[2m \u001b[0m│\n",
       "│\u001b[2m \u001b[0m\u001b[2mwhich were both challenging and rewarding. It was     \u001b[0m\u001b[2m \u001b[0m│\u001b[2m \u001b[0m\u001b[2mresources for advanced study', 'Offer additional      \u001b[0m\u001b[2m \u001b[0m│\n",
       "│\u001b[2m \u001b[0m\u001b[2mgreat to apply economic concepts to solve real-life   \u001b[0m\u001b[2m \u001b[0m│\u001b[2m \u001b[0m\u001b[2mreview sessions and resources to clarify concepts and \u001b[0m\u001b[2m \u001b[0m│\n",
       "│\u001b[2m \u001b[0m\u001b[2mproblems. I did feel, however, that the feedback on   \u001b[0m\u001b[2m \u001b[0m│\u001b[2m \u001b[0m\u001b[2maddress common mistakes']                             \u001b[0m\u001b[2m \u001b[0m│\n",
       "│\u001b[2m \u001b[0m\u001b[2massignments could be more detailed to help us         \u001b[0m\u001b[2m \u001b[0m│\u001b[2m                                                        \u001b[0m│\n",
       "│\u001b[2m \u001b[0m\u001b[2munderstand our mistakes.                              \u001b[0m\u001b[2m \u001b[0m│\u001b[2m                                                        \u001b[0m│\n",
       "├────────────────────────────────────────────────────────┼────────────────────────────────────────────────────────┤\n",
       "│\u001b[2m \u001b[0m\u001b[2mThe course content was well-organized, but the        \u001b[0m\u001b[2m \u001b[0m│\u001b[2m \u001b[0m\u001b[2m['Enhance engagement through interactive activities,  \u001b[0m\u001b[2m \u001b[0m│\n",
       "│\u001b[2m \u001b[0m\u001b[2mlectures were somewhat monotonous and hard to follow. \u001b[0m\u001b[2m \u001b[0m│\u001b[2m \u001b[0m\u001b[2mvaried teaching methods, and guest speakers', 'Use    \u001b[0m\u001b[2m \u001b[0m│\n",
       "│\u001b[2m \u001b[0m\u001b[2mI would suggest incorporating more visual aids and    \u001b[0m\u001b[2m \u001b[0m│\u001b[2m \u001b[0m\u001b[2mmultimedia, visual aids, and diverse assessment       \u001b[0m\u001b[2m \u001b[0m│\n",
       "│\u001b[2m \u001b[0m\u001b[2mmaybe some guest lectures from industry professionals \u001b[0m\u001b[2m \u001b[0m│\u001b[2m \u001b[0m\u001b[2mmethods to support learning', 'Explore alternative    \u001b[0m\u001b[2m \u001b[0m│\n",
       "│\u001b[2m \u001b[0m\u001b[2mto liven up the sessions.                             \u001b[0m\u001b[2m \u001b[0m│\u001b[2m \u001b[0m\u001b[2mteaching strategies to accommodate different learning \u001b[0m\u001b[2m \u001b[0m│\n",
       "│\u001b[2m                                                        \u001b[0m│\u001b[2m \u001b[0m\u001b[2mstyles']                                              \u001b[0m\u001b[2m \u001b[0m│\n",
       "├────────────────────────────────────────────────────────┼────────────────────────────────────────────────────────┤\n",
       "│\u001b[2m \u001b[0m\u001b[2mThis was my favorite class this semester! The mix of  \u001b[0m\u001b[2m \u001b[0m│\u001b[2m \u001b[0m\u001b[2m['Incorporate more real-world examples and case       \u001b[0m\u001b[2m \u001b[0m│\n",
       "│\u001b[2m \u001b[0m\u001b[2mtheory and case studies was perfect, and the exams    \u001b[0m\u001b[2m \u001b[0m│\u001b[2m \u001b[0m\u001b[2mstudies into lectures and assignments', 'Facilitate   \u001b[0m\u001b[2m \u001b[0m│\n",
       "│\u001b[2m \u001b[0m\u001b[2mwere fair. I also really appreciated the diversity of \u001b[0m\u001b[2m \u001b[0m│\u001b[2m \u001b[0m\u001b[2mclass discussions on current economic events']        \u001b[0m\u001b[2m \u001b[0m│\n",
       "│\u001b[2m \u001b[0m\u001b[2mperspectives we explored in class, especially in terms\u001b[0m\u001b[2m \u001b[0m│\u001b[2m                                                        \u001b[0m│\n",
       "│\u001b[2m \u001b[0m\u001b[2mof global economic policies.                          \u001b[0m\u001b[2m \u001b[0m│\u001b[2m                                                        \u001b[0m│\n",
       "├────────────────────────────────────────────────────────┼────────────────────────────────────────────────────────┤\n",
       "│\u001b[2m \u001b[0m\u001b[2mI found the textbook to be overly complex for an      \u001b[0m\u001b[2m \u001b[0m│\u001b[2m \u001b[0m\u001b[2m['Provide additional support for weekly readings and  \u001b[0m\u001b[2m \u001b[0m│\n",
       "│\u001b[2m \u001b[0m\u001b[2mintroductory course. It often used jargon that hadn't \u001b[0m\u001b[2m \u001b[0m│\u001b[2m \u001b[0m\u001b[2mresources for advanced study', 'Reevaluate textbook   \u001b[0m\u001b[2m \u001b[0m│\n",
       "│\u001b[2m \u001b[0m\u001b[2mbeen explained in lectures, which was confusing.      \u001b[0m\u001b[2m \u001b[0m│\u001b[2m \u001b[0m\u001b[2mchoice and supplement with simpler materials and a    \u001b[0m\u001b[2m \u001b[0m│\n",
       "│\u001b[2m \u001b[0m\u001b[2mSimpler reading materials or more explanatory lectures\u001b[0m\u001b[2m \u001b[0m│\u001b[2m \u001b[0m\u001b[2mglossary']                                            \u001b[0m\u001b[2m \u001b[0m│\n",
       "│\u001b[2m \u001b[0m\u001b[2mwould make a big difference for newcomers to          \u001b[0m\u001b[2m \u001b[0m│\u001b[2m                                                        \u001b[0m│\n",
       "│\u001b[2m \u001b[0m\u001b[2meconomics.                                            \u001b[0m\u001b[2m \u001b[0m│\u001b[2m                                                        \u001b[0m│\n",
       "├────────────────────────────────────────────────────────┼────────────────────────────────────────────────────────┤\n",
       "│\u001b[2m \u001b[0m\u001b[2mThe professor was knowledgeable and clearly passionate\u001b[0m\u001b[2m \u001b[0m│\u001b[2m \u001b[0m\u001b[2m['Use multimedia, visual aids, and diverse assessment \u001b[0m\u001b[2m \u001b[0m│\n",
       "│\u001b[2m \u001b[0m\u001b[2mabout economics, but I felt the course relied too     \u001b[0m\u001b[2m \u001b[0m│\u001b[2m \u001b[0m\u001b[2mmethods to support learning', 'Explore alternative    \u001b[0m\u001b[2m \u001b[0m│\n",
       "│\u001b[2m \u001b[0m\u001b[2mheavily on tests rather than more creative forms of   \u001b[0m\u001b[2m \u001b[0m│\u001b[2m \u001b[0m\u001b[2mteaching strategies to accommodate different learning \u001b[0m\u001b[2m \u001b[0m│\n",
       "│\u001b[2m \u001b[0m\u001b[2massessment. More varied assignments would make the    \u001b[0m\u001b[2m \u001b[0m│\u001b[2m \u001b[0m\u001b[2mstyles']                                              \u001b[0m\u001b[2m \u001b[0m│\n",
       "│\u001b[2m \u001b[0m\u001b[2mcourse more accessible to students with different     \u001b[0m\u001b[2m \u001b[0m│\u001b[2m                                                        \u001b[0m│\n",
       "│\u001b[2m \u001b[0m\u001b[2mlearning styles.                                      \u001b[0m\u001b[2m \u001b[0m│\u001b[2m                                                        \u001b[0m│\n",
       "├────────────────────────────────────────────────────────┼────────────────────────────────────────────────────────┤\n",
       "│\u001b[2m \u001b[0m\u001b[2mThis class was a solid introduction to economics,     \u001b[0m\u001b[2m \u001b[0m│\u001b[2m \u001b[0m\u001b[2m['Incorporate more real-world examples and case       \u001b[0m\u001b[2m \u001b[0m│\n",
       "│\u001b[2m \u001b[0m\u001b[2mthough it leaned heavily on theoretical aspects. I    \u001b[0m\u001b[2m \u001b[0m│\u001b[2m \u001b[0m\u001b[2mstudies into lectures and assignments', 'Facilitate   \u001b[0m\u001b[2m \u001b[0m│\n",
       "│\u001b[2m \u001b[0m\u001b[2mwould have liked more opportunities to discuss the    \u001b[0m\u001b[2m \u001b[0m│\u001b[2m \u001b[0m\u001b[2mclass discussions on current economic events']        \u001b[0m\u001b[2m \u001b[0m│\n",
       "│\u001b[2m \u001b[0m\u001b[2mreal-world implications of economic theories, which I \u001b[0m\u001b[2m \u001b[0m│\u001b[2m                                                        \u001b[0m│\n",
       "│\u001b[2m \u001b[0m\u001b[2mbelieve would enhance understanding and retention of  \u001b[0m\u001b[2m \u001b[0m│\u001b[2m                                                        \u001b[0m│\n",
       "│\u001b[2m \u001b[0m\u001b[2mthe material.                                         \u001b[0m\u001b[2m \u001b[0m│\u001b[2m                                                        \u001b[0m│\n",
       "└────────────────────────────────────────────────────────┴────────────────────────────────────────────────────────┘\n"
      ]
     },
     "metadata": {},
     "output_type": "display_data"
    }
   ],
   "source": [
    "improvements_lists = q_improvements_list.by(scenarios).by(agent).run()\n",
    "improvements_lists.select(\"evaluation\", \"improvements_list\").print(format=\"rich\")"
   ]
  },
  {
   "cell_type": "code",
   "execution_count": 28,
   "id": "202e44f4",
   "metadata": {},
   "outputs": [],
   "source": [
    "# improvements_lists # this turns VS Code white!"
   ]
  },
  {
   "cell_type": "code",
   "execution_count": 29,
   "id": "c28907c3",
   "metadata": {},
   "outputs": [],
   "source": [
    "wide_themes = (improvements_lists\n",
    "               .select(\"evaluation\", \"improvements_list\")\n",
    "               .to_scenario_list()\n",
    "               .expand(\"improvements_list\")\n",
    "               .rename({\"improvements_list\": \"theme\"})\n",
    ")"
   ]
  },
  {
   "cell_type": "code",
   "execution_count": 30,
   "id": "974ad70b",
   "metadata": {},
   "outputs": [
    {
     "data": {
      "text/html": [
       "<pre style=\"white-space:pre;overflow-x:auto;line-height:normal;font-family:Menlo,'DejaVu Sans Mono',consolas,'Courier New',monospace\">┏━━━━━━━━━━━━━━━━━━━━━━━━━━━━━━━━━━━━━━━━━━━━━━━━━━━━━━━━━━━━━━━━━━━━━━━━━━━━━━━━━━━━━━━━━━━━━━━━┳━━━━━━━┓\n",
       "┃<span style=\"color: #800080; text-decoration-color: #800080; font-weight: bold\"> value                                                                                          </span>┃<span style=\"color: #800080; text-decoration-color: #800080; font-weight: bold\"> count </span>┃\n",
       "┡━━━━━━━━━━━━━━━━━━━━━━━━━━━━━━━━━━━━━━━━━━━━━━━━━━━━━━━━━━━━━━━━━━━━━━━━━━━━━━━━━━━━━━━━━━━━━━━━╇━━━━━━━┩\n",
       "│<span style=\"color: #7f7f7f; text-decoration-color: #7f7f7f\"> Facilitate class discussions on current economic events                                        </span>│<span style=\"color: #7f7f7f; text-decoration-color: #7f7f7f\"> 5     </span>│\n",
       "├────────────────────────────────────────────────────────────────────────────────────────────────┼───────┤\n",
       "│<span style=\"color: #7f7f7f; text-decoration-color: #7f7f7f\"> Incorporate more real-world examples and case studies into lectures and assignments            </span>│<span style=\"color: #7f7f7f; text-decoration-color: #7f7f7f\"> 4     </span>│\n",
       "├────────────────────────────────────────────────────────────────────────────────────────────────┼───────┤\n",
       "│<span style=\"color: #7f7f7f; text-decoration-color: #7f7f7f\"> Provide additional support for weekly readings and resources for advanced study                </span>│<span style=\"color: #7f7f7f; text-decoration-color: #7f7f7f\"> 3     </span>│\n",
       "├────────────────────────────────────────────────────────────────────────────────────────────────┼───────┤\n",
       "│<span style=\"color: #7f7f7f; text-decoration-color: #7f7f7f\"> Offer additional review sessions and resources to clarify concepts and address common mistakes </span>│<span style=\"color: #7f7f7f; text-decoration-color: #7f7f7f\"> 2     </span>│\n",
       "├────────────────────────────────────────────────────────────────────────────────────────────────┼───────┤\n",
       "│<span style=\"color: #7f7f7f; text-decoration-color: #7f7f7f\"> Enhance engagement through interactive activities, varied teaching methods, and guest speakers </span>│<span style=\"color: #7f7f7f; text-decoration-color: #7f7f7f\"> 2     </span>│\n",
       "├────────────────────────────────────────────────────────────────────────────────────────────────┼───────┤\n",
       "│<span style=\"color: #7f7f7f; text-decoration-color: #7f7f7f\"> Use multimedia, visual aids, and diverse assessment methods to support learning                </span>│<span style=\"color: #7f7f7f; text-decoration-color: #7f7f7f\"> 2     </span>│\n",
       "├────────────────────────────────────────────────────────────────────────────────────────────────┼───────┤\n",
       "│<span style=\"color: #7f7f7f; text-decoration-color: #7f7f7f\"> Explore alternative teaching strategies to accommodate different learning styles               </span>│<span style=\"color: #7f7f7f; text-decoration-color: #7f7f7f\"> 2     </span>│\n",
       "├────────────────────────────────────────────────────────────────────────────────────────────────┼───────┤\n",
       "│<span style=\"color: #7f7f7f; text-decoration-color: #7f7f7f\"> Adjust course pacing                                                                           </span>│<span style=\"color: #7f7f7f; text-decoration-color: #7f7f7f\"> 1     </span>│\n",
       "├────────────────────────────────────────────────────────────────────────────────────────────────┼───────┤\n",
       "│<span style=\"color: #7f7f7f; text-decoration-color: #7f7f7f\"> Reevaluate textbook choice and supplement with simpler materials and a glossary                </span>│<span style=\"color: #7f7f7f; text-decoration-color: #7f7f7f\"> 1     </span>│\n",
       "└────────────────────────────────────────────────────────────────────────────────────────────────┴───────┘\n",
       "</pre>\n"
      ],
      "text/plain": [
       "┏━━━━━━━━━━━━━━━━━━━━━━━━━━━━━━━━━━━━━━━━━━━━━━━━━━━━━━━━━━━━━━━━━━━━━━━━━━━━━━━━━━━━━━━━━━━━━━━━┳━━━━━━━┓\n",
       "┃\u001b[1;35m \u001b[0m\u001b[1;35mvalue                                                                                         \u001b[0m\u001b[1;35m \u001b[0m┃\u001b[1;35m \u001b[0m\u001b[1;35mcount\u001b[0m\u001b[1;35m \u001b[0m┃\n",
       "┡━━━━━━━━━━━━━━━━━━━━━━━━━━━━━━━━━━━━━━━━━━━━━━━━━━━━━━━━━━━━━━━━━━━━━━━━━━━━━━━━━━━━━━━━━━━━━━━━╇━━━━━━━┩\n",
       "│\u001b[2m \u001b[0m\u001b[2mFacilitate class discussions on current economic events                                       \u001b[0m\u001b[2m \u001b[0m│\u001b[2m \u001b[0m\u001b[2m5    \u001b[0m\u001b[2m \u001b[0m│\n",
       "├────────────────────────────────────────────────────────────────────────────────────────────────┼───────┤\n",
       "│\u001b[2m \u001b[0m\u001b[2mIncorporate more real-world examples and case studies into lectures and assignments           \u001b[0m\u001b[2m \u001b[0m│\u001b[2m \u001b[0m\u001b[2m4    \u001b[0m\u001b[2m \u001b[0m│\n",
       "├────────────────────────────────────────────────────────────────────────────────────────────────┼───────┤\n",
       "│\u001b[2m \u001b[0m\u001b[2mProvide additional support for weekly readings and resources for advanced study               \u001b[0m\u001b[2m \u001b[0m│\u001b[2m \u001b[0m\u001b[2m3    \u001b[0m\u001b[2m \u001b[0m│\n",
       "├────────────────────────────────────────────────────────────────────────────────────────────────┼───────┤\n",
       "│\u001b[2m \u001b[0m\u001b[2mOffer additional review sessions and resources to clarify concepts and address common mistakes\u001b[0m\u001b[2m \u001b[0m│\u001b[2m \u001b[0m\u001b[2m2    \u001b[0m\u001b[2m \u001b[0m│\n",
       "├────────────────────────────────────────────────────────────────────────────────────────────────┼───────┤\n",
       "│\u001b[2m \u001b[0m\u001b[2mEnhance engagement through interactive activities, varied teaching methods, and guest speakers\u001b[0m\u001b[2m \u001b[0m│\u001b[2m \u001b[0m\u001b[2m2    \u001b[0m\u001b[2m \u001b[0m│\n",
       "├────────────────────────────────────────────────────────────────────────────────────────────────┼───────┤\n",
       "│\u001b[2m \u001b[0m\u001b[2mUse multimedia, visual aids, and diverse assessment methods to support learning               \u001b[0m\u001b[2m \u001b[0m│\u001b[2m \u001b[0m\u001b[2m2    \u001b[0m\u001b[2m \u001b[0m│\n",
       "├────────────────────────────────────────────────────────────────────────────────────────────────┼───────┤\n",
       "│\u001b[2m \u001b[0m\u001b[2mExplore alternative teaching strategies to accommodate different learning styles              \u001b[0m\u001b[2m \u001b[0m│\u001b[2m \u001b[0m\u001b[2m2    \u001b[0m\u001b[2m \u001b[0m│\n",
       "├────────────────────────────────────────────────────────────────────────────────────────────────┼───────┤\n",
       "│\u001b[2m \u001b[0m\u001b[2mAdjust course pacing                                                                          \u001b[0m\u001b[2m \u001b[0m│\u001b[2m \u001b[0m\u001b[2m1    \u001b[0m\u001b[2m \u001b[0m│\n",
       "├────────────────────────────────────────────────────────────────────────────────────────────────┼───────┤\n",
       "│\u001b[2m \u001b[0m\u001b[2mReevaluate textbook choice and supplement with simpler materials and a glossary               \u001b[0m\u001b[2m \u001b[0m│\u001b[2m \u001b[0m\u001b[2m1    \u001b[0m\u001b[2m \u001b[0m│\n",
       "└────────────────────────────────────────────────────────────────────────────────────────────────┴───────┘\n"
      ]
     },
     "metadata": {},
     "output_type": "display_data"
    }
   ],
   "source": [
    "wide_themes.tally(\"theme\").print(format=\"rich\")"
   ]
  },
  {
   "cell_type": "code",
   "execution_count": 31,
   "id": "fc027f86",
   "metadata": {},
   "outputs": [],
   "source": [
    "improvements_summary = wide_themes.tally(\"theme\")"
   ]
  },
  {
   "cell_type": "code",
   "execution_count": 32,
   "id": "8a331493",
   "metadata": {},
   "outputs": [],
   "source": [
    "summary_string = improvements_summary.print(format = \"markdown\", return_string = True)"
   ]
  },
  {
   "cell_type": "markdown",
   "id": "fd739dc9-da05-4e39-ae23-bce83df78c23",
   "metadata": {},
   "source": [
    "## Summarize the review\n",
    "Here we create another question prompting the agent to summarize the analysis that was done, using the results of the prior steps:"
   ]
  },
  {
   "cell_type": "code",
   "execution_count": 33,
   "id": "4b6ae6f1-9ee6-46fb-a0d8-5e61acacf2e4",
   "metadata": {},
   "outputs": [
    {
     "data": {
      "text/html": [
       "<pre style=\"white-space:pre;overflow-x:auto;line-height:normal;font-family:Menlo,'DejaVu Sans Mono',consolas,'Courier New',monospace\">┏━━━━━━━━━━━━━━━━━━━━━━━━━━━━━━━━━━━━━━━━━━━━━━━━━━━━━━━━━━━━━━━━━━━━━━━━━━━━━━━━━━━━━━━━━━━━━━━━━━━━━━━━━━━━━━━━━┓\n",
       "┃<span style=\"color: #800080; text-decoration-color: #800080; font-weight: bold\"> answer                                                                                                          </span>┃\n",
       "┃<span style=\"color: #800080; text-decoration-color: #800080; font-weight: bold\"> .summary                                                                                                        </span>┃\n",
       "┡━━━━━━━━━━━━━━━━━━━━━━━━━━━━━━━━━━━━━━━━━━━━━━━━━━━━━━━━━━━━━━━━━━━━━━━━━━━━━━━━━━━━━━━━━━━━━━━━━━━━━━━━━━━━━━━━━┩\n",
       "│<span style=\"color: #7f7f7f; text-decoration-color: #7f7f7f\"> After reviewing the student evaluations for my Econ 101 course, I've observed a clear demand for the            </span>│\n",
       "│<span style=\"color: #7f7f7f; text-decoration-color: #7f7f7f\"> integration of more real-world examples and interactive elements into the curriculum. Six students have         </span>│\n",
       "│<span style=\"color: #7f7f7f; text-decoration-color: #7f7f7f\"> specifically mentioned a desire for practical assignments and interactive lectures, indicating a need to bridge </span>│\n",
       "│<span style=\"color: #7f7f7f; text-decoration-color: #7f7f7f\"> the gap between theoretical concepts and real-world applications. While four students have complimented the     </span>│\n",
       "│<span style=\"color: #7f7f7f; text-decoration-color: #7f7f7f\"> course for being engaging and informative, an equal number have pointed out that the material can sometimes be  </span>│\n",
       "│<span style=\"color: #7f7f7f; text-decoration-color: #7f7f7f\"> dry and challenging to relate to practical scenarios. This suggests that while the foundation of the course is  </span>│\n",
       "│<span style=\"color: #7f7f7f; text-decoration-color: #7f7f7f\"> solid, there is room for improvement in making the content more relatable and engaging.                         </span>│\n",
       "└─────────────────────────────────────────────────────────────────────────────────────────────────────────────────┘\n",
       "</pre>\n"
      ],
      "text/plain": [
       "┏━━━━━━━━━━━━━━━━━━━━━━━━━━━━━━━━━━━━━━━━━━━━━━━━━━━━━━━━━━━━━━━━━━━━━━━━━━━━━━━━━━━━━━━━━━━━━━━━━━━━━━━━━━━━━━━━━┓\n",
       "┃\u001b[1;35m \u001b[0m\u001b[1;35manswer                                                                                                         \u001b[0m\u001b[1;35m \u001b[0m┃\n",
       "┃\u001b[1;35m \u001b[0m\u001b[1;35m.summary                                                                                                       \u001b[0m\u001b[1;35m \u001b[0m┃\n",
       "┡━━━━━━━━━━━━━━━━━━━━━━━━━━━━━━━━━━━━━━━━━━━━━━━━━━━━━━━━━━━━━━━━━━━━━━━━━━━━━━━━━━━━━━━━━━━━━━━━━━━━━━━━━━━━━━━━━┩\n",
       "│\u001b[2m \u001b[0m\u001b[2mAfter reviewing the student evaluations for my Econ 101 course, I've observed a clear demand for the           \u001b[0m\u001b[2m \u001b[0m│\n",
       "│\u001b[2m \u001b[0m\u001b[2mintegration of more real-world examples and interactive elements into the curriculum. Six students have        \u001b[0m\u001b[2m \u001b[0m│\n",
       "│\u001b[2m \u001b[0m\u001b[2mspecifically mentioned a desire for practical assignments and interactive lectures, indicating a need to bridge\u001b[0m\u001b[2m \u001b[0m│\n",
       "│\u001b[2m \u001b[0m\u001b[2mthe gap between theoretical concepts and real-world applications. While four students have complimented the    \u001b[0m\u001b[2m \u001b[0m│\n",
       "│\u001b[2m \u001b[0m\u001b[2mcourse for being engaging and informative, an equal number have pointed out that the material can sometimes be \u001b[0m\u001b[2m \u001b[0m│\n",
       "│\u001b[2m \u001b[0m\u001b[2mdry and challenging to relate to practical scenarios. This suggests that while the foundation of the course is \u001b[0m\u001b[2m \u001b[0m│\n",
       "│\u001b[2m \u001b[0m\u001b[2msolid, there is room for improvement in making the content more relatable and engaging.                        \u001b[0m\u001b[2m \u001b[0m│\n",
       "└─────────────────────────────────────────────────────────────────────────────────────────────────────────────────┘\n"
      ]
     },
     "metadata": {},
     "output_type": "display_data"
    }
   ],
   "source": [
    "from edsl.questions import QuestionFreeText\n",
    "\n",
    "q_summary = QuestionFreeText(\n",
    "    question_name=\"summary\",\n",
    "    question_text=\"Consider the following analyses of the evaluations and draft a paragraph summarizing them.\"\n",
    "    + \"Evaluation counts by theme: \" + \n",
    "    wide_evaluation_themes.tally(\"theme\").print(format = \"markdown\", return_string = True)\n",
    "    + \"Evaluation counts by area of improvement:\"\n",
    "    + summary_string\n",
    ")\n",
    "\n",
    "summary = q_summary.by(agent).run()\n",
    "summary.select(\"summary\").print(format=\"rich\")"
   ]
  },
  {
   "cell_type": "markdown",
   "id": "f73ef4c2-8cff-4d4a-a081-77f12e3ca60f",
   "metadata": {},
   "source": [
    "## Other examples\n",
    "Please check out the [EDSL Docs](https://docs.expectedparrot.com/en/latest/index.html) for examples of other methods and templates for use cases, and [join our Discord channel](https://discord.com/invite/mxAYkjfy9m) to ask questions and with other users!"
   ]
  }
 ],
 "metadata": {
  "kernelspec": {
   "display_name": "Python 3 (ipykernel)",
   "language": "python",
   "name": "python3"
  },
  "language_info": {
   "codemirror_mode": {
    "name": "ipython",
    "version": 3
   },
   "file_extension": ".py",
   "mimetype": "text/x-python",
   "name": "python",
   "nbconvert_exporter": "python",
   "pygments_lexer": "ipython3",
   "version": "3.10.14"
  }
 },
 "nbformat": 4,
 "nbformat_minor": 5
}
