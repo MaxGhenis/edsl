{
 "cells": [
  {
   "cell_type": "markdown",
   "id": "5f7d91f1-d71a-4271-8d2b-0dc770d2deb3",
   "metadata": {},
   "source": [
    "# Analyzing course evaluations\n",
    "This notebook provides sample EDSL code for using a language model to analyze a set of course evaluations. The analysis is designed as a survey of questions about the evaluations answered by an AI agent using a language model to generate the responses as a dataset.\n",
    "\n",
    "[EDSL](https://pypi.org/project/edsl/) is an open-source Python package for simulating surveys and experiments with language models. Please [see our docs](https://docs.expectedparrot.com/en/latest/index.html#) to learn more about using it."
   ]
  },
  {
   "cell_type": "markdown",
   "id": "55d3eab2-f341-468e-b23f-ff4818227d11",
   "metadata": {},
   "source": [
    "## Technical setup\n",
    "Before running the code below, please see instructions for [installing EDSL](https://docs.expectedparrot.com/en/latest/installation.html) and [storing API keys](https://docs.expectedparrot.com/en/latest/api_keys.html) for the language models that you want to use."
   ]
  },
  {
   "cell_type": "code",
   "execution_count": 1,
   "id": "1656f8dc-802e-4fce-9eba-fcb4be0a5ea6",
   "metadata": {},
   "outputs": [],
   "source": [
    "# pip install edsl"
   ]
  },
  {
   "cell_type": "markdown",
   "id": "1e598a51-452b-4e58-9900-52f3f8701e0b",
   "metadata": {},
   "source": [
    "## Creating questions\n",
    "We start by creating questions about the evaluations for the agent to answer. EDSL comes with a [variety of question types](https://docs.expectedparrot.com/en/latest/questions.html) (multiple choice, free text, etc.) that we can choose from based on the desired format of the response. We can use a `{{ placeholder }}` in each question in order to parameterize it with each evaluation."
   ]
  },
  {
   "cell_type": "code",
   "execution_count": 2,
   "id": "adb62f9a-55c9-41bf-8d5a-9230de19e85b",
   "metadata": {},
   "outputs": [],
   "source": [
    "from edsl.questions import QuestionList, QuestionMultipleChoice"
   ]
  },
  {
   "cell_type": "code",
   "execution_count": 3,
   "id": "62069678-8864-4a9c-b505-0d107838549e",
   "metadata": {},
   "outputs": [],
   "source": [
    "q_themes = QuestionList(\n",
    "    question_name = \"themes\",\n",
    "    question_text = \"\"\"Consider the following evaluation, and then provide a sentence summarizing\n",
    "    each of the key points in it: {{ evaluation }}\"\"\",\n",
    "    max_list_items = 3\n",
    ")\n",
    "\n",
    "q_sentiment = QuestionMultipleChoice(\n",
    "    question_name = \"sentiment\",\n",
    "    question_text = \"What is the overall sentiment of the following evaluation: {{ evaluation }}\",\n",
    "    question_options = [\"Positive\", \"Neutral\", \"Negative\"]\n",
    ")\n",
    "\n",
    "q_improvement = QuestionList(\n",
    "    question_name = \"improvement\",\n",
    "    question_text = \"\"\"Based on the following evaluation, what are some ways you could improve \n",
    "    your course to receive more positive evaluations: {{ evaluation }}\"\"\"\n",
    ")"
   ]
  },
  {
   "cell_type": "markdown",
   "id": "d09e20f5-284b-4be4-827c-155916aa454c",
   "metadata": {},
   "source": [
    "## Construct a survey\n",
    "Next we combine our questions into a survey. This allows us to administer the questoins asynchronously (by default), or according to any desired [survey logic or rules](https://docs.expectedparrot.com/en/latest/surveys.html), such as skip/stop rules or giving the agent \"memories\" of other questions in the survey. Here we create a simple asynchronous survey by passing the list of questions to a survey object:"
   ]
  },
  {
   "cell_type": "code",
   "execution_count": 4,
   "id": "563a34b8-5a2f-4052-b977-7d6df824d723",
   "metadata": {},
   "outputs": [],
   "source": [
    "from edsl import Survey\n",
    "\n",
    "survey = Survey([q_themes, q_sentiment, q_improvement])"
   ]
  },
  {
   "cell_type": "markdown",
   "id": "cf8b238d-8771-4477-bab9-0c49fe6c9f4b",
   "metadata": {},
   "source": [
    "## Selecting data for review\n",
    "Next we identify the data to be analyzed. Here we use some mock evaluations for an Econ 101 course stored as a list of texts:"
   ]
  },
  {
   "cell_type": "code",
   "execution_count": 5,
   "id": "a1deaee8-4a95-4708-adcf-754032571652",
   "metadata": {},
   "outputs": [],
   "source": [
    "evaluations = [\n",
    "    \"The course was well-organized with clear objectives for each lecture. The professor was knowledgeable, but I wish there had been more real-world application of concepts. The exams were fair but challenging. Overall, a solid introduction to economics.\",\n",
    "    \"Econ 101 was tougher than I anticipated. The lectures moved too quickly through complex theories, making it hard to follow without additional self-study. I appreciated the comprehensive reading materials provided, though they could be quite dense at times.\",\n",
    "    \"I thoroughly enjoyed this course! The professor used a lot of current events to illustrate economic principles, which made the class engaging and relevant. Group projects were a highlight, fostering a practical understanding of the material.\",\n",
    "    \"The course content was interesting, but the teaching style wasn’t for me. Lectures were mostly theoretical with few interactive elements, which made it hard to stay engaged. A more hands-on approach would have been appreciated.\",\n",
    "    \"Excellent course with an enthusiastic instructor who made complex topics accessible and enjoyable. The PowerPoint slides were always clear and helpful for reviewing. Tests were fair, and I always felt well-prepared thanks to the thorough lectures.\",\n",
    "    \"I found the professor to be disorganized, often straying from the topic. Office hours, however, were incredibly helpful and allowed for one-on-one engagement with the material. More consistency in lecture themes would improve the course.\",\n",
    "    \"This was a great introductory course to economics with a lot of emphasis on mathematical models. For someone without a strong math background, this was a bit intimidating. More preliminary resources or a review session on math skills would be helpful.\",\n",
    "    \"The professor was passionate about economics, which made learning exciting. I loved the real-life examples used to explain economic theories. However, the grading seemed tough, and feedback on assignments was sometimes vague.\",\n",
    "    \"The class was well-structured with clear expectations set from the start. However, the professor's lectures were somewhat monotone, which made it difficult to maintain focus. More engaging presentations or guest speakers could liven up the content.\",\n",
    "    \"As a visual learner, I appreciated the use of charts and graphs to explain economic concepts. The homework was directly related to lecture material, which reinforced learning. I would have liked more group discussions to hear different perspectives.\",\n",
    "]"
   ]
  },
  {
   "cell_type": "markdown",
   "id": "d9e3b6a6-af89-428e-82ad-829374cc4d5d",
   "metadata": {},
   "source": [
    "## Add the data to the questions\n",
    "Next we add the data as \"scenarios\" of the questions in order to run each question for each evaluation:"
   ]
  },
  {
   "cell_type": "code",
   "execution_count": 6,
   "id": "e4145046-278b-4c21-884f-6379108cb6d5",
   "metadata": {},
   "outputs": [],
   "source": [
    "from edsl import Scenario\n",
    "\n",
    "scenarios = [Scenario({\"evaluation\":e}) for e in evaluations]"
   ]
  },
  {
   "cell_type": "markdown",
   "id": "66effed9-37e5-42c1-8853-65e036ffc127",
   "metadata": {},
   "source": [
    "## Design AI agents to answer the questions\n",
    "Next we can design agents with relevant traits and personas to answer the questions. Here we create a persona for the professor for the course. (We could also try some third parties with coaching or other expertise to compare their responses!)"
   ]
  },
  {
   "cell_type": "code",
   "execution_count": 7,
   "id": "dbc8f766-ce89-4824-8f23-18064ae2a732",
   "metadata": {},
   "outputs": [],
   "source": [
    "from edsl import Agent\n",
    "\n",
    "persona = \"You are a professor reviewing student evaluations for your recent Econ 101 course.\"\n",
    "\n",
    "agent = Agent(traits = {\"persona\": persona})"
   ]
  },
  {
   "cell_type": "markdown",
   "id": "2dab396d-c2fe-4827-8edd-24e9c807fe82",
   "metadata": {},
   "source": [
    "## Run the survey\n",
    "Next we add the scenarios and agent to the survey, and then run it. This will generate a dataset of responses that we can store and begin analyzing:"
   ]
  },
  {
   "cell_type": "code",
   "execution_count": 8,
   "id": "98980a22-aafd-40f3-b9c0-c2e3de35e320",
   "metadata": {},
   "outputs": [],
   "source": [
    "results = survey.by(scenarios).by(agent).run()"
   ]
  },
  {
   "cell_type": "markdown",
   "id": "5be23620-804f-4543-85c4-13d0ab9071b2",
   "metadata": {},
   "source": [
    "## Inspecting the responses\n",
    "EDSL comes with built-in methods for analyzing results in data tables, dataframes, SQL queries and other formats. We can print a list of all the components that can be accessed:"
   ]
  },
  {
   "cell_type": "code",
   "execution_count": 9,
   "id": "0b06995d-fe20-4021-80ee-ca5f62111fa1",
   "metadata": {},
   "outputs": [
    {
     "data": {
      "text/plain": [
       "['agent.agent_name',\n",
       " 'agent.persona',\n",
       " 'answer.improvement',\n",
       " 'answer.sentiment',\n",
       " 'answer.themes',\n",
       " 'comment.improvement_comment',\n",
       " 'comment.sentiment_comment',\n",
       " 'comment.themes_comment',\n",
       " 'iteration.iteration',\n",
       " 'model.frequency_penalty',\n",
       " 'model.logprobs',\n",
       " 'model.max_tokens',\n",
       " 'model.model',\n",
       " 'model.presence_penalty',\n",
       " 'model.temperature',\n",
       " 'model.top_logprobs',\n",
       " 'model.top_p',\n",
       " 'prompt.improvement_system_prompt',\n",
       " 'prompt.improvement_user_prompt',\n",
       " 'prompt.sentiment_system_prompt',\n",
       " 'prompt.sentiment_user_prompt',\n",
       " 'prompt.themes_system_prompt',\n",
       " 'prompt.themes_user_prompt',\n",
       " 'question_options.improvement_question_options',\n",
       " 'question_options.sentiment_question_options',\n",
       " 'question_options.themes_question_options',\n",
       " 'question_text.improvement_question_text',\n",
       " 'question_text.sentiment_question_text',\n",
       " 'question_text.themes_question_text',\n",
       " 'question_type.improvement_question_type',\n",
       " 'question_type.sentiment_question_type',\n",
       " 'question_type.themes_question_type',\n",
       " 'raw_model_response.improvement_raw_model_response',\n",
       " 'raw_model_response.sentiment_raw_model_response',\n",
       " 'raw_model_response.themes_raw_model_response',\n",
       " 'scenario.evaluation']"
      ]
     },
     "execution_count": 9,
     "metadata": {},
     "output_type": "execute_result"
    }
   ],
   "source": [
    "results.columns"
   ]
  },
  {
   "cell_type": "markdown",
   "id": "72755341-f2fb-4b93-8467-3a0f57d429c3",
   "metadata": {},
   "source": [
    "Here we select just the responses to the questions and display them in a table:"
   ]
  },
  {
   "cell_type": "code",
   "execution_count": 10,
   "id": "8b105f11-0cb0-45af-a7e7-f77c6d5becd1",
   "metadata": {},
   "outputs": [
    {
     "data": {
      "text/html": [
       "<pre style=\"white-space:pre;overflow-x:auto;line-height:normal;font-family:Menlo,'DejaVu Sans Mono',consolas,'Courier New',monospace\">┏━━━━━━━━━━━━━━━━━━━━━━━━━━━━━━━━━━━━━━━━━━━━━━━━━━┳━━━━━━━━━━━━┳━━━━━━━━━━━━━━━━━━━━━━━━━━━━━━━━━━━━━━━━━━━━━━━━━┓\n",
       "┃<span style=\"color: #800080; text-decoration-color: #800080; font-weight: bold\"> answer                                           </span>┃<span style=\"color: #800080; text-decoration-color: #800080; font-weight: bold\"> answer     </span>┃<span style=\"color: #800080; text-decoration-color: #800080; font-weight: bold\"> answer                                          </span>┃\n",
       "┃<span style=\"color: #800080; text-decoration-color: #800080; font-weight: bold\"> .themes                                          </span>┃<span style=\"color: #800080; text-decoration-color: #800080; font-weight: bold\"> .sentiment </span>┃<span style=\"color: #800080; text-decoration-color: #800080; font-weight: bold\"> .improvement                                    </span>┃\n",
       "┡━━━━━━━━━━━━━━━━━━━━━━━━━━━━━━━━━━━━━━━━━━━━━━━━━━╇━━━━━━━━━━━━╇━━━━━━━━━━━━━━━━━━━━━━━━━━━━━━━━━━━━━━━━━━━━━━━━━┩\n",
       "│<span style=\"color: #7f7f7f; text-decoration-color: #7f7f7f\"> ['Well-organized course', 'Desire for more       </span>│<span style=\"color: #7f7f7f; text-decoration-color: #7f7f7f\"> Positive   </span>│<span style=\"color: #7f7f7f; text-decoration-color: #7f7f7f\"> ['Incorporate case studies', 'Real-world        </span>│\n",
       "│<span style=\"color: #7f7f7f; text-decoration-color: #7f7f7f\"> real-world applications', 'Fair but challenging  </span>│<span style=\"color: #7f7f7f; text-decoration-color: #7f7f7f\">            </span>│<span style=\"color: #7f7f7f; text-decoration-color: #7f7f7f\"> examples', 'Guest speakers from industry',      </span>│\n",
       "│<span style=\"color: #7f7f7f; text-decoration-color: #7f7f7f\"> exams']                                          </span>│<span style=\"color: #7f7f7f; text-decoration-color: #7f7f7f\">            </span>│<span style=\"color: #7f7f7f; text-decoration-color: #7f7f7f\"> 'Interactive projects', 'Current events         </span>│\n",
       "│<span style=\"color: #7f7f7f; text-decoration-color: #7f7f7f\">                                                  </span>│<span style=\"color: #7f7f7f; text-decoration-color: #7f7f7f\">            </span>│<span style=\"color: #7f7f7f; text-decoration-color: #7f7f7f\"> discussions']                                   </span>│\n",
       "├──────────────────────────────────────────────────┼────────────┼─────────────────────────────────────────────────┤\n",
       "│<span style=\"color: #7f7f7f; text-decoration-color: #7f7f7f\"> ['Course difficulty', 'Fast-paced lectures',     </span>│<span style=\"color: #7f7f7f; text-decoration-color: #7f7f7f\"> Negative   </span>│<span style=\"color: #7f7f7f; text-decoration-color: #7f7f7f\"> ['Pace lectures appropriately', 'Simplify       </span>│\n",
       "│<span style=\"color: #7f7f7f; text-decoration-color: #7f7f7f\"> 'Comprehensive but dense readings']              </span>│<span style=\"color: #7f7f7f; text-decoration-color: #7f7f7f\">            </span>│<span style=\"color: #7f7f7f; text-decoration-color: #7f7f7f\"> complex theories', 'Provide summaries for       </span>│\n",
       "│<span style=\"color: #7f7f7f; text-decoration-color: #7f7f7f\">                                                  </span>│<span style=\"color: #7f7f7f; text-decoration-color: #7f7f7f\">            </span>│<span style=\"color: #7f7f7f; text-decoration-color: #7f7f7f\"> readings', 'Incorporate more in-class           </span>│\n",
       "│<span style=\"color: #7f7f7f; text-decoration-color: #7f7f7f\">                                                  </span>│<span style=\"color: #7f7f7f; text-decoration-color: #7f7f7f\">            </span>│<span style=\"color: #7f7f7f; text-decoration-color: #7f7f7f\"> examples', 'Offer supplemental instruction      </span>│\n",
       "│<span style=\"color: #7f7f7f; text-decoration-color: #7f7f7f\">                                                  </span>│<span style=\"color: #7f7f7f; text-decoration-color: #7f7f7f\">            </span>│<span style=\"color: #7f7f7f; text-decoration-color: #7f7f7f\"> sessions']                                      </span>│\n",
       "├──────────────────────────────────────────────────┼────────────┼─────────────────────────────────────────────────┤\n",
       "│<span style=\"color: #7f7f7f; text-decoration-color: #7f7f7f\"> ['enjoyed course', 'current events examples',    </span>│<span style=\"color: #7f7f7f; text-decoration-color: #7f7f7f\"> Positive   </span>│<span style=\"color: #7f7f7f; text-decoration-color: #7f7f7f\"> ['Incorporate more current events', 'Increase   </span>│\n",
       "│<span style=\"color: #7f7f7f; text-decoration-color: #7f7f7f\"> 'group projects beneficial']                     </span>│<span style=\"color: #7f7f7f; text-decoration-color: #7f7f7f\">            </span>│<span style=\"color: #7f7f7f; text-decoration-color: #7f7f7f\"> group project frequency', 'Ensure relevance to  </span>│\n",
       "│<span style=\"color: #7f7f7f; text-decoration-color: #7f7f7f\">                                                  </span>│<span style=\"color: #7f7f7f; text-decoration-color: #7f7f7f\">            </span>│<span style=\"color: #7f7f7f; text-decoration-color: #7f7f7f\"> real-world applications']                       </span>│\n",
       "├──────────────────────────────────────────────────┼────────────┼─────────────────────────────────────────────────┤\n",
       "│<span style=\"color: #7f7f7f; text-decoration-color: #7f7f7f\"> ['Interesting content', 'Teaching style          </span>│<span style=\"color: #7f7f7f; text-decoration-color: #7f7f7f\"> Negative   </span>│<span style=\"color: #7f7f7f; text-decoration-color: #7f7f7f\"> ['Incorporate interactive elements', 'Include   </span>│\n",
       "│<span style=\"color: #7f7f7f; text-decoration-color: #7f7f7f\"> mismatch', 'Desire for interactivity']           </span>│<span style=\"color: #7f7f7f; text-decoration-color: #7f7f7f\">            </span>│<span style=\"color: #7f7f7f; text-decoration-color: #7f7f7f\"> hands-on activities', 'Engage students with     </span>│\n",
       "│<span style=\"color: #7f7f7f; text-decoration-color: #7f7f7f\">                                                  </span>│<span style=\"color: #7f7f7f; text-decoration-color: #7f7f7f\">            </span>│<span style=\"color: #7f7f7f; text-decoration-color: #7f7f7f\"> practical examples', 'Use multimedia            </span>│\n",
       "│<span style=\"color: #7f7f7f; text-decoration-color: #7f7f7f\">                                                  </span>│<span style=\"color: #7f7f7f; text-decoration-color: #7f7f7f\">            </span>│<span style=\"color: #7f7f7f; text-decoration-color: #7f7f7f\"> resources', 'Encourage class participation',    </span>│\n",
       "│<span style=\"color: #7f7f7f; text-decoration-color: #7f7f7f\">                                                  </span>│<span style=\"color: #7f7f7f; text-decoration-color: #7f7f7f\">            </span>│<span style=\"color: #7f7f7f; text-decoration-color: #7f7f7f\"> 'Implement group work', 'Connect theory to      </span>│\n",
       "│<span style=\"color: #7f7f7f; text-decoration-color: #7f7f7f\">                                                  </span>│<span style=\"color: #7f7f7f; text-decoration-color: #7f7f7f\">            </span>│<span style=\"color: #7f7f7f; text-decoration-color: #7f7f7f\"> real-world scenarios']                          </span>│\n",
       "├──────────────────────────────────────────────────┼────────────┼─────────────────────────────────────────────────┤\n",
       "│<span style=\"color: #7f7f7f; text-decoration-color: #7f7f7f\"> ['Enthusiastic teaching', 'Effective PowerPoint  </span>│<span style=\"color: #7f7f7f; text-decoration-color: #7f7f7f\"> Positive   </span>│<span style=\"color: #7f7f7f; text-decoration-color: #7f7f7f\"> ['Incorporate more interactive elements',       </span>│\n",
       "│<span style=\"color: #7f7f7f; text-decoration-color: #7f7f7f\"> slides', 'Fair and well-prepared tests']         </span>│<span style=\"color: #7f7f7f; text-decoration-color: #7f7f7f\">            </span>│<span style=\"color: #7f7f7f; text-decoration-color: #7f7f7f\"> 'Include real-world applications', 'Provide     </span>│\n",
       "│<span style=\"color: #7f7f7f; text-decoration-color: #7f7f7f\">                                                  </span>│<span style=\"color: #7f7f7f; text-decoration-color: #7f7f7f\">            </span>│<span style=\"color: #7f7f7f; text-decoration-color: #7f7f7f\"> additional resources for complex topics',       </span>│\n",
       "│<span style=\"color: #7f7f7f; text-decoration-color: #7f7f7f\">                                                  </span>│<span style=\"color: #7f7f7f; text-decoration-color: #7f7f7f\">            </span>│<span style=\"color: #7f7f7f; text-decoration-color: #7f7f7f\"> 'Offer more office hours', 'Enhance student     </span>│\n",
       "│<span style=\"color: #7f7f7f; text-decoration-color: #7f7f7f\">                                                  </span>│<span style=\"color: #7f7f7f; text-decoration-color: #7f7f7f\">            </span>│<span style=\"color: #7f7f7f; text-decoration-color: #7f7f7f\"> engagement', 'Introduce guest speakers',        </span>│\n",
       "│<span style=\"color: #7f7f7f; text-decoration-color: #7f7f7f\">                                                  </span>│<span style=\"color: #7f7f7f; text-decoration-color: #7f7f7f\">            </span>│<span style=\"color: #7f7f7f; text-decoration-color: #7f7f7f\"> 'Update course materials regularly', 'Solicit   </span>│\n",
       "│<span style=\"color: #7f7f7f; text-decoration-color: #7f7f7f\">                                                  </span>│<span style=\"color: #7f7f7f; text-decoration-color: #7f7f7f\">            </span>│<span style=\"color: #7f7f7f; text-decoration-color: #7f7f7f\"> ongoing feedback']                              </span>│\n",
       "├──────────────────────────────────────────────────┼────────────┼─────────────────────────────────────────────────┤\n",
       "│<span style=\"color: #7f7f7f; text-decoration-color: #7f7f7f\"> ['disorganized lectures', 'helpful office        </span>│<span style=\"color: #7f7f7f; text-decoration-color: #7f7f7f\"> Neutral    </span>│<span style=\"color: #7f7f7f; text-decoration-color: #7f7f7f\"> ['improve organization', 'maintain focus on     </span>│\n",
       "│<span style=\"color: #7f7f7f; text-decoration-color: #7f7f7f\"> hours', 'needs consistent themes']               </span>│<span style=\"color: #7f7f7f; text-decoration-color: #7f7f7f\">            </span>│<span style=\"color: #7f7f7f; text-decoration-color: #7f7f7f\"> topic', 'consistent lecture themes']            </span>│\n",
       "├──────────────────────────────────────────────────┼────────────┼─────────────────────────────────────────────────┤\n",
       "│<span style=\"color: #7f7f7f; text-decoration-color: #7f7f7f\"> ['great introductory course', 'emphasis on       </span>│<span style=\"color: #7f7f7f; text-decoration-color: #7f7f7f\"> Neutral    </span>│<span style=\"color: #7f7f7f; text-decoration-color: #7f7f7f\"> ['Provide additional math resources', 'Host     </span>│\n",
       "│<span style=\"color: #7f7f7f; text-decoration-color: #7f7f7f\"> mathematical models', 'needs more math support'] </span>│<span style=\"color: #7f7f7f; text-decoration-color: #7f7f7f\">            </span>│<span style=\"color: #7f7f7f; text-decoration-color: #7f7f7f\"> review sessions', 'Offer math skill workshops', </span>│\n",
       "│<span style=\"color: #7f7f7f; text-decoration-color: #7f7f7f\">                                                  </span>│<span style=\"color: #7f7f7f; text-decoration-color: #7f7f7f\">            </span>│<span style=\"color: #7f7f7f; text-decoration-color: #7f7f7f\"> 'Create math tutorial videos', 'Incorporate     </span>│\n",
       "│<span style=\"color: #7f7f7f; text-decoration-color: #7f7f7f\">                                                  </span>│<span style=\"color: #7f7f7f; text-decoration-color: #7f7f7f\">            </span>│<span style=\"color: #7f7f7f; text-decoration-color: #7f7f7f\"> math support into office hours']                </span>│\n",
       "├──────────────────────────────────────────────────┼────────────┼─────────────────────────────────────────────────┤\n",
       "│<span style=\"color: #7f7f7f; text-decoration-color: #7f7f7f\"> ['Passionate teaching', 'Real-life examples',    </span>│<span style=\"color: #7f7f7f; text-decoration-color: #7f7f7f\"> Positive   </span>│<span style=\"color: #7f7f7f; text-decoration-color: #7f7f7f\"> ['Adjust grading scale', 'Provide detailed      </span>│\n",
       "│<span style=\"color: #7f7f7f; text-decoration-color: #7f7f7f\"> 'Tough grading and vague feedback']              </span>│<span style=\"color: #7f7f7f; text-decoration-color: #7f7f7f\">            </span>│<span style=\"color: #7f7f7f; text-decoration-color: #7f7f7f\"> feedback', 'Clarify grading criteria', 'Offer   </span>│\n",
       "│<span style=\"color: #7f7f7f; text-decoration-color: #7f7f7f\">                                                  </span>│<span style=\"color: #7f7f7f; text-decoration-color: #7f7f7f\">            </span>│<span style=\"color: #7f7f7f; text-decoration-color: #7f7f7f\"> additional support']                            </span>│\n",
       "├──────────────────────────────────────────────────┼────────────┼─────────────────────────────────────────────────┤\n",
       "│<span style=\"color: #7f7f7f; text-decoration-color: #7f7f7f\"> ['well-structured class', 'monotone lectures',   </span>│<span style=\"color: #7f7f7f; text-decoration-color: #7f7f7f\"> Neutral    </span>│<span style=\"color: #7f7f7f; text-decoration-color: #7f7f7f\"> ['varying tone', 'interactive activities',      </span>│\n",
       "│<span style=\"color: #7f7f7f; text-decoration-color: #7f7f7f\"> 'needs more engaging presentations']             </span>│<span style=\"color: #7f7f7f; text-decoration-color: #7f7f7f\">            </span>│<span style=\"color: #7f7f7f; text-decoration-color: #7f7f7f\"> 'multimedia usage', 'guest speakers',           </span>│\n",
       "│<span style=\"color: #7f7f7f; text-decoration-color: #7f7f7f\">                                                  </span>│<span style=\"color: #7f7f7f; text-decoration-color: #7f7f7f\">            </span>│<span style=\"color: #7f7f7f; text-decoration-color: #7f7f7f\"> 'discussion groups']                            </span>│\n",
       "├──────────────────────────────────────────────────┼────────────┼─────────────────────────────────────────────────┤\n",
       "│<span style=\"color: #7f7f7f; text-decoration-color: #7f7f7f\"> ['visual aids effective', 'homework aligned with </span>│<span style=\"color: #7f7f7f; text-decoration-color: #7f7f7f\"> Positive   </span>│<span style=\"color: #7f7f7f; text-decoration-color: #7f7f7f\"> ['Increase group discussions', 'Diverse         </span>│\n",
       "│<span style=\"color: #7f7f7f; text-decoration-color: #7f7f7f\"> lectures', 'desire for more group discussions']  </span>│<span style=\"color: #7f7f7f; text-decoration-color: #7f7f7f\">            </span>│<span style=\"color: #7f7f7f; text-decoration-color: #7f7f7f\"> learning styles', 'Collaborative learning',     </span>│\n",
       "│<span style=\"color: #7f7f7f; text-decoration-color: #7f7f7f\">                                                  </span>│<span style=\"color: #7f7f7f; text-decoration-color: #7f7f7f\">            </span>│<span style=\"color: #7f7f7f; text-decoration-color: #7f7f7f\"> 'Peer perspectives']                            </span>│\n",
       "└──────────────────────────────────────────────────┴────────────┴─────────────────────────────────────────────────┘\n",
       "</pre>\n"
      ],
      "text/plain": [
       "┏━━━━━━━━━━━━━━━━━━━━━━━━━━━━━━━━━━━━━━━━━━━━━━━━━━┳━━━━━━━━━━━━┳━━━━━━━━━━━━━━━━━━━━━━━━━━━━━━━━━━━━━━━━━━━━━━━━━┓\n",
       "┃\u001b[1;35m \u001b[0m\u001b[1;35manswer                                          \u001b[0m\u001b[1;35m \u001b[0m┃\u001b[1;35m \u001b[0m\u001b[1;35manswer    \u001b[0m\u001b[1;35m \u001b[0m┃\u001b[1;35m \u001b[0m\u001b[1;35manswer                                         \u001b[0m\u001b[1;35m \u001b[0m┃\n",
       "┃\u001b[1;35m \u001b[0m\u001b[1;35m.themes                                         \u001b[0m\u001b[1;35m \u001b[0m┃\u001b[1;35m \u001b[0m\u001b[1;35m.sentiment\u001b[0m\u001b[1;35m \u001b[0m┃\u001b[1;35m \u001b[0m\u001b[1;35m.improvement                                   \u001b[0m\u001b[1;35m \u001b[0m┃\n",
       "┡━━━━━━━━━━━━━━━━━━━━━━━━━━━━━━━━━━━━━━━━━━━━━━━━━━╇━━━━━━━━━━━━╇━━━━━━━━━━━━━━━━━━━━━━━━━━━━━━━━━━━━━━━━━━━━━━━━━┩\n",
       "│\u001b[2m \u001b[0m\u001b[2m['Well-organized course', 'Desire for more      \u001b[0m\u001b[2m \u001b[0m│\u001b[2m \u001b[0m\u001b[2mPositive  \u001b[0m\u001b[2m \u001b[0m│\u001b[2m \u001b[0m\u001b[2m['Incorporate case studies', 'Real-world       \u001b[0m\u001b[2m \u001b[0m│\n",
       "│\u001b[2m \u001b[0m\u001b[2mreal-world applications', 'Fair but challenging \u001b[0m\u001b[2m \u001b[0m│\u001b[2m            \u001b[0m│\u001b[2m \u001b[0m\u001b[2mexamples', 'Guest speakers from industry',     \u001b[0m\u001b[2m \u001b[0m│\n",
       "│\u001b[2m \u001b[0m\u001b[2mexams']                                         \u001b[0m\u001b[2m \u001b[0m│\u001b[2m            \u001b[0m│\u001b[2m \u001b[0m\u001b[2m'Interactive projects', 'Current events        \u001b[0m\u001b[2m \u001b[0m│\n",
       "│\u001b[2m                                                  \u001b[0m│\u001b[2m            \u001b[0m│\u001b[2m \u001b[0m\u001b[2mdiscussions']                                  \u001b[0m\u001b[2m \u001b[0m│\n",
       "├──────────────────────────────────────────────────┼────────────┼─────────────────────────────────────────────────┤\n",
       "│\u001b[2m \u001b[0m\u001b[2m['Course difficulty', 'Fast-paced lectures',    \u001b[0m\u001b[2m \u001b[0m│\u001b[2m \u001b[0m\u001b[2mNegative  \u001b[0m\u001b[2m \u001b[0m│\u001b[2m \u001b[0m\u001b[2m['Pace lectures appropriately', 'Simplify      \u001b[0m\u001b[2m \u001b[0m│\n",
       "│\u001b[2m \u001b[0m\u001b[2m'Comprehensive but dense readings']             \u001b[0m\u001b[2m \u001b[0m│\u001b[2m            \u001b[0m│\u001b[2m \u001b[0m\u001b[2mcomplex theories', 'Provide summaries for      \u001b[0m\u001b[2m \u001b[0m│\n",
       "│\u001b[2m                                                  \u001b[0m│\u001b[2m            \u001b[0m│\u001b[2m \u001b[0m\u001b[2mreadings', 'Incorporate more in-class          \u001b[0m\u001b[2m \u001b[0m│\n",
       "│\u001b[2m                                                  \u001b[0m│\u001b[2m            \u001b[0m│\u001b[2m \u001b[0m\u001b[2mexamples', 'Offer supplemental instruction     \u001b[0m\u001b[2m \u001b[0m│\n",
       "│\u001b[2m                                                  \u001b[0m│\u001b[2m            \u001b[0m│\u001b[2m \u001b[0m\u001b[2msessions']                                     \u001b[0m\u001b[2m \u001b[0m│\n",
       "├──────────────────────────────────────────────────┼────────────┼─────────────────────────────────────────────────┤\n",
       "│\u001b[2m \u001b[0m\u001b[2m['enjoyed course', 'current events examples',   \u001b[0m\u001b[2m \u001b[0m│\u001b[2m \u001b[0m\u001b[2mPositive  \u001b[0m\u001b[2m \u001b[0m│\u001b[2m \u001b[0m\u001b[2m['Incorporate more current events', 'Increase  \u001b[0m\u001b[2m \u001b[0m│\n",
       "│\u001b[2m \u001b[0m\u001b[2m'group projects beneficial']                    \u001b[0m\u001b[2m \u001b[0m│\u001b[2m            \u001b[0m│\u001b[2m \u001b[0m\u001b[2mgroup project frequency', 'Ensure relevance to \u001b[0m\u001b[2m \u001b[0m│\n",
       "│\u001b[2m                                                  \u001b[0m│\u001b[2m            \u001b[0m│\u001b[2m \u001b[0m\u001b[2mreal-world applications']                      \u001b[0m\u001b[2m \u001b[0m│\n",
       "├──────────────────────────────────────────────────┼────────────┼─────────────────────────────────────────────────┤\n",
       "│\u001b[2m \u001b[0m\u001b[2m['Interesting content', 'Teaching style         \u001b[0m\u001b[2m \u001b[0m│\u001b[2m \u001b[0m\u001b[2mNegative  \u001b[0m\u001b[2m \u001b[0m│\u001b[2m \u001b[0m\u001b[2m['Incorporate interactive elements', 'Include  \u001b[0m\u001b[2m \u001b[0m│\n",
       "│\u001b[2m \u001b[0m\u001b[2mmismatch', 'Desire for interactivity']          \u001b[0m\u001b[2m \u001b[0m│\u001b[2m            \u001b[0m│\u001b[2m \u001b[0m\u001b[2mhands-on activities', 'Engage students with    \u001b[0m\u001b[2m \u001b[0m│\n",
       "│\u001b[2m                                                  \u001b[0m│\u001b[2m            \u001b[0m│\u001b[2m \u001b[0m\u001b[2mpractical examples', 'Use multimedia           \u001b[0m\u001b[2m \u001b[0m│\n",
       "│\u001b[2m                                                  \u001b[0m│\u001b[2m            \u001b[0m│\u001b[2m \u001b[0m\u001b[2mresources', 'Encourage class participation',   \u001b[0m\u001b[2m \u001b[0m│\n",
       "│\u001b[2m                                                  \u001b[0m│\u001b[2m            \u001b[0m│\u001b[2m \u001b[0m\u001b[2m'Implement group work', 'Connect theory to     \u001b[0m\u001b[2m \u001b[0m│\n",
       "│\u001b[2m                                                  \u001b[0m│\u001b[2m            \u001b[0m│\u001b[2m \u001b[0m\u001b[2mreal-world scenarios']                         \u001b[0m\u001b[2m \u001b[0m│\n",
       "├──────────────────────────────────────────────────┼────────────┼─────────────────────────────────────────────────┤\n",
       "│\u001b[2m \u001b[0m\u001b[2m['Enthusiastic teaching', 'Effective PowerPoint \u001b[0m\u001b[2m \u001b[0m│\u001b[2m \u001b[0m\u001b[2mPositive  \u001b[0m\u001b[2m \u001b[0m│\u001b[2m \u001b[0m\u001b[2m['Incorporate more interactive elements',      \u001b[0m\u001b[2m \u001b[0m│\n",
       "│\u001b[2m \u001b[0m\u001b[2mslides', 'Fair and well-prepared tests']        \u001b[0m\u001b[2m \u001b[0m│\u001b[2m            \u001b[0m│\u001b[2m \u001b[0m\u001b[2m'Include real-world applications', 'Provide    \u001b[0m\u001b[2m \u001b[0m│\n",
       "│\u001b[2m                                                  \u001b[0m│\u001b[2m            \u001b[0m│\u001b[2m \u001b[0m\u001b[2madditional resources for complex topics',      \u001b[0m\u001b[2m \u001b[0m│\n",
       "│\u001b[2m                                                  \u001b[0m│\u001b[2m            \u001b[0m│\u001b[2m \u001b[0m\u001b[2m'Offer more office hours', 'Enhance student    \u001b[0m\u001b[2m \u001b[0m│\n",
       "│\u001b[2m                                                  \u001b[0m│\u001b[2m            \u001b[0m│\u001b[2m \u001b[0m\u001b[2mengagement', 'Introduce guest speakers',       \u001b[0m\u001b[2m \u001b[0m│\n",
       "│\u001b[2m                                                  \u001b[0m│\u001b[2m            \u001b[0m│\u001b[2m \u001b[0m\u001b[2m'Update course materials regularly', 'Solicit  \u001b[0m\u001b[2m \u001b[0m│\n",
       "│\u001b[2m                                                  \u001b[0m│\u001b[2m            \u001b[0m│\u001b[2m \u001b[0m\u001b[2mongoing feedback']                             \u001b[0m\u001b[2m \u001b[0m│\n",
       "├──────────────────────────────────────────────────┼────────────┼─────────────────────────────────────────────────┤\n",
       "│\u001b[2m \u001b[0m\u001b[2m['disorganized lectures', 'helpful office       \u001b[0m\u001b[2m \u001b[0m│\u001b[2m \u001b[0m\u001b[2mNeutral   \u001b[0m\u001b[2m \u001b[0m│\u001b[2m \u001b[0m\u001b[2m['improve organization', 'maintain focus on    \u001b[0m\u001b[2m \u001b[0m│\n",
       "│\u001b[2m \u001b[0m\u001b[2mhours', 'needs consistent themes']              \u001b[0m\u001b[2m \u001b[0m│\u001b[2m            \u001b[0m│\u001b[2m \u001b[0m\u001b[2mtopic', 'consistent lecture themes']           \u001b[0m\u001b[2m \u001b[0m│\n",
       "├──────────────────────────────────────────────────┼────────────┼─────────────────────────────────────────────────┤\n",
       "│\u001b[2m \u001b[0m\u001b[2m['great introductory course', 'emphasis on      \u001b[0m\u001b[2m \u001b[0m│\u001b[2m \u001b[0m\u001b[2mNeutral   \u001b[0m\u001b[2m \u001b[0m│\u001b[2m \u001b[0m\u001b[2m['Provide additional math resources', 'Host    \u001b[0m\u001b[2m \u001b[0m│\n",
       "│\u001b[2m \u001b[0m\u001b[2mmathematical models', 'needs more math support']\u001b[0m\u001b[2m \u001b[0m│\u001b[2m            \u001b[0m│\u001b[2m \u001b[0m\u001b[2mreview sessions', 'Offer math skill workshops',\u001b[0m\u001b[2m \u001b[0m│\n",
       "│\u001b[2m                                                  \u001b[0m│\u001b[2m            \u001b[0m│\u001b[2m \u001b[0m\u001b[2m'Create math tutorial videos', 'Incorporate    \u001b[0m\u001b[2m \u001b[0m│\n",
       "│\u001b[2m                                                  \u001b[0m│\u001b[2m            \u001b[0m│\u001b[2m \u001b[0m\u001b[2mmath support into office hours']               \u001b[0m\u001b[2m \u001b[0m│\n",
       "├──────────────────────────────────────────────────┼────────────┼─────────────────────────────────────────────────┤\n",
       "│\u001b[2m \u001b[0m\u001b[2m['Passionate teaching', 'Real-life examples',   \u001b[0m\u001b[2m \u001b[0m│\u001b[2m \u001b[0m\u001b[2mPositive  \u001b[0m\u001b[2m \u001b[0m│\u001b[2m \u001b[0m\u001b[2m['Adjust grading scale', 'Provide detailed     \u001b[0m\u001b[2m \u001b[0m│\n",
       "│\u001b[2m \u001b[0m\u001b[2m'Tough grading and vague feedback']             \u001b[0m\u001b[2m \u001b[0m│\u001b[2m            \u001b[0m│\u001b[2m \u001b[0m\u001b[2mfeedback', 'Clarify grading criteria', 'Offer  \u001b[0m\u001b[2m \u001b[0m│\n",
       "│\u001b[2m                                                  \u001b[0m│\u001b[2m            \u001b[0m│\u001b[2m \u001b[0m\u001b[2madditional support']                           \u001b[0m\u001b[2m \u001b[0m│\n",
       "├──────────────────────────────────────────────────┼────────────┼─────────────────────────────────────────────────┤\n",
       "│\u001b[2m \u001b[0m\u001b[2m['well-structured class', 'monotone lectures',  \u001b[0m\u001b[2m \u001b[0m│\u001b[2m \u001b[0m\u001b[2mNeutral   \u001b[0m\u001b[2m \u001b[0m│\u001b[2m \u001b[0m\u001b[2m['varying tone', 'interactive activities',     \u001b[0m\u001b[2m \u001b[0m│\n",
       "│\u001b[2m \u001b[0m\u001b[2m'needs more engaging presentations']            \u001b[0m\u001b[2m \u001b[0m│\u001b[2m            \u001b[0m│\u001b[2m \u001b[0m\u001b[2m'multimedia usage', 'guest speakers',          \u001b[0m\u001b[2m \u001b[0m│\n",
       "│\u001b[2m                                                  \u001b[0m│\u001b[2m            \u001b[0m│\u001b[2m \u001b[0m\u001b[2m'discussion groups']                           \u001b[0m\u001b[2m \u001b[0m│\n",
       "├──────────────────────────────────────────────────┼────────────┼─────────────────────────────────────────────────┤\n",
       "│\u001b[2m \u001b[0m\u001b[2m['visual aids effective', 'homework aligned with\u001b[0m\u001b[2m \u001b[0m│\u001b[2m \u001b[0m\u001b[2mPositive  \u001b[0m\u001b[2m \u001b[0m│\u001b[2m \u001b[0m\u001b[2m['Increase group discussions', 'Diverse        \u001b[0m\u001b[2m \u001b[0m│\n",
       "│\u001b[2m \u001b[0m\u001b[2mlectures', 'desire for more group discussions'] \u001b[0m\u001b[2m \u001b[0m│\u001b[2m            \u001b[0m│\u001b[2m \u001b[0m\u001b[2mlearning styles', 'Collaborative learning',    \u001b[0m\u001b[2m \u001b[0m│\n",
       "│\u001b[2m                                                  \u001b[0m│\u001b[2m            \u001b[0m│\u001b[2m \u001b[0m\u001b[2m'Peer perspectives']                           \u001b[0m\u001b[2m \u001b[0m│\n",
       "└──────────────────────────────────────────────────┴────────────┴─────────────────────────────────────────────────┘\n"
      ]
     },
     "metadata": {},
     "output_type": "display_data"
    }
   ],
   "source": [
    "results.select(\"themes\", \"sentiment\", \"improvement\").print(format=\"rich\")"
   ]
  },
  {
   "cell_type": "markdown",
   "id": "a9c6b091-42d6-4d62-b7f0-f91eef33c1fe",
   "metadata": {},
   "source": [
    "We can do a quick tally of the sentiments:"
   ]
  },
  {
   "cell_type": "code",
   "execution_count": 11,
   "id": "9f9618fc-3250-4fbe-bddc-cd4cd5c624f7",
   "metadata": {},
   "outputs": [
    {
     "data": {
      "text/plain": [
       "answer.sentiment\n",
       "Positive    5\n",
       "Neutral     3\n",
       "Negative    2\n",
       "Name: count, dtype: int64"
      ]
     },
     "execution_count": 11,
     "metadata": {},
     "output_type": "execute_result"
    }
   ],
   "source": [
    "df = results.to_pandas()['answer.sentiment'].value_counts()\n",
    "df"
   ]
  },
  {
   "cell_type": "markdown",
   "id": "bad98c73-b2e8-4b31-89a5-1a85056ba134",
   "metadata": {},
   "source": [
    "## Using responses to construct new questions\n",
    "We can use the responses to our initial questions to construct more questions about the texts. For example, we can prompt the agent to condense the individual lists of themes and areas of improvements into short lists, and then use them to quantify those topics across the set of evaluations."
   ]
  },
  {
   "cell_type": "markdown",
   "id": "e3f96f5e-ba68-4660-b876-d3f34b396213",
   "metadata": {},
   "source": [
    "Here we take the lists of themes in each evaluation and flatten them into a list that we will prompt an agent to condense for us:"
   ]
  },
  {
   "cell_type": "code",
   "execution_count": 12,
   "id": "ee81ef77-a2a9-41cb-9472-29e4f8e6797b",
   "metadata": {},
   "outputs": [
    {
     "data": {
      "text/plain": [
       "['Well-organized course',\n",
       " 'Desire for more real-world applications',\n",
       " 'Fair but challenging exams',\n",
       " 'Course difficulty',\n",
       " 'Fast-paced lectures',\n",
       " 'Comprehensive but dense readings',\n",
       " 'enjoyed course',\n",
       " 'current events examples',\n",
       " 'group projects beneficial',\n",
       " 'Interesting content',\n",
       " 'Teaching style mismatch',\n",
       " 'Desire for interactivity',\n",
       " 'Enthusiastic teaching',\n",
       " 'Effective PowerPoint slides',\n",
       " 'Fair and well-prepared tests',\n",
       " 'disorganized lectures',\n",
       " 'helpful office hours',\n",
       " 'needs consistent themes',\n",
       " 'great introductory course',\n",
       " 'emphasis on mathematical models',\n",
       " 'needs more math support',\n",
       " 'Passionate teaching',\n",
       " 'Real-life examples',\n",
       " 'Tough grading and vague feedback',\n",
       " 'well-structured class',\n",
       " 'monotone lectures',\n",
       " 'needs more engaging presentations',\n",
       " 'visual aids effective',\n",
       " 'homework aligned with lectures',\n",
       " 'desire for more group discussions']"
      ]
     },
     "execution_count": 12,
     "metadata": {},
     "output_type": "execute_result"
    }
   ],
   "source": [
    "themes = results.select(\"themes\").to_list(flatten=True)\n",
    "themes"
   ]
  },
  {
   "cell_type": "markdown",
   "id": "6b1b042a-0c29-470d-9229-723e6f4a1e33",
   "metadata": {},
   "source": [
    "Next we construct a question prompting the agent to condense the list into a new list:"
   ]
  },
  {
   "cell_type": "code",
   "execution_count": 13,
   "id": "05871e01-eec9-4629-a108-cd9237eca283",
   "metadata": {},
   "outputs": [],
   "source": [
    "q_condensed_themes = QuestionList(\n",
    "    question_name = \"condensed_themes\",\n",
    "    question_text = \"\"\"Combine the following list of themes extracted from the evaluations \n",
    "    into a consolidated, non-redundant list: \"\"\" + \", \".join(themes),\n",
    "    max_list_items = 10\n",
    ")"
   ]
  },
  {
   "cell_type": "markdown",
   "id": "954a92a0-6a7d-43ad-bed5-35a092fba288",
   "metadata": {},
   "source": [
    "Now we run the question and select the new list:"
   ]
  },
  {
   "cell_type": "code",
   "execution_count": 14,
   "id": "f915d9e6-0310-432e-852e-48d63c6e07d8",
   "metadata": {},
   "outputs": [
    {
     "data": {
      "text/plain": [
       "['Well-organized and structured course',\n",
       " 'Desire for practical applications and real-life examples',\n",
       " 'Challenging and fair assessments',\n",
       " 'Teaching style and interactivity',\n",
       " 'Pace and clarity of lectures',\n",
       " 'Quality of course materials',\n",
       " 'Support for complex concepts',\n",
       " 'Engagement and discussion',\n",
       " 'Teaching enthusiasm and effectiveness',\n",
       " 'Feedback and grading transparency']"
      ]
     },
     "execution_count": 14,
     "metadata": {},
     "output_type": "execute_result"
    }
   ],
   "source": [
    "condensed_themes = q_condensed_themes.run().select(\"condensed_themes\").to_list()[0]\n",
    "condensed_themes"
   ]
  },
  {
   "cell_type": "markdown",
   "id": "5636a7f7-56ff-439d-9b5c-b867dff60480",
   "metadata": {},
   "source": [
    "Now we can create a question prompting the agent to identify all the themes in the list that appear in each evaluation (our new list becomes the list of answer options):"
   ]
  },
  {
   "cell_type": "code",
   "execution_count": 15,
   "id": "ff3f7830-6c55-4ee4-8434-374bcee47377",
   "metadata": {},
   "outputs": [],
   "source": [
    "from edsl.questions import QuestionCheckBox\n",
    "\n",
    "q_themes_list = QuestionCheckBox(\n",
    "    question_name = \"themes_list\",\n",
    "    question_text = \"Select all of the themes that are mentioned in this evaluation: {{ evaluation }}\",\n",
    "    question_options = condensed_themes\n",
    ")"
   ]
  },
  {
   "cell_type": "markdown",
   "id": "3d8e69f7-d9cb-4170-a8b2-d08a857a9441",
   "metadata": {},
   "source": [
    "Here we run the question and show a table listing all the themes for each evaluation:"
   ]
  },
  {
   "cell_type": "code",
   "execution_count": 16,
   "id": "4e8ee9f3-8dda-4047-8850-80dbeb3ce4f0",
   "metadata": {},
   "outputs": [
    {
     "data": {
      "text/html": [
       "<pre style=\"white-space:pre;overflow-x:auto;line-height:normal;font-family:Menlo,'DejaVu Sans Mono',consolas,'Courier New',monospace\">┏━━━━━━━━━━━━━━━━━━━━━━━━━━━━━━━━━━━━━━━━━━━━━━━━━━━━━━━━┳━━━━━━━━━━━━━━━━━━━━━━━━━━━━━━━━━━━━━━━━━━━━━━━━━━━━━━━━┓\n",
       "┃<span style=\"color: #800080; text-decoration-color: #800080; font-weight: bold\"> scenario                                               </span>┃<span style=\"color: #800080; text-decoration-color: #800080; font-weight: bold\"> answer                                                 </span>┃\n",
       "┃<span style=\"color: #800080; text-decoration-color: #800080; font-weight: bold\"> .evaluation                                            </span>┃<span style=\"color: #800080; text-decoration-color: #800080; font-weight: bold\"> .themes_list                                           </span>┃\n",
       "┡━━━━━━━━━━━━━━━━━━━━━━━━━━━━━━━━━━━━━━━━━━━━━━━━━━━━━━━━╇━━━━━━━━━━━━━━━━━━━━━━━━━━━━━━━━━━━━━━━━━━━━━━━━━━━━━━━━┩\n",
       "│<span style=\"color: #7f7f7f; text-decoration-color: #7f7f7f\"> Econ 101 was tougher than I anticipated. The lectures  </span>│<span style=\"color: #7f7f7f; text-decoration-color: #7f7f7f\"> ['Pace and clarity of lectures', 'Quality of course    </span>│\n",
       "│<span style=\"color: #7f7f7f; text-decoration-color: #7f7f7f\"> moved too quickly through complex theories, making it  </span>│<span style=\"color: #7f7f7f; text-decoration-color: #7f7f7f\"> materials', 'Support for complex concepts']            </span>│\n",
       "│<span style=\"color: #7f7f7f; text-decoration-color: #7f7f7f\"> hard to follow without additional self-study. I        </span>│<span style=\"color: #7f7f7f; text-decoration-color: #7f7f7f\">                                                        </span>│\n",
       "│<span style=\"color: #7f7f7f; text-decoration-color: #7f7f7f\"> appreciated the comprehensive reading materials        </span>│<span style=\"color: #7f7f7f; text-decoration-color: #7f7f7f\">                                                        </span>│\n",
       "│<span style=\"color: #7f7f7f; text-decoration-color: #7f7f7f\"> provided, though they could be quite dense at times.   </span>│<span style=\"color: #7f7f7f; text-decoration-color: #7f7f7f\">                                                        </span>│\n",
       "├────────────────────────────────────────────────────────┼────────────────────────────────────────────────────────┤\n",
       "│<span style=\"color: #7f7f7f; text-decoration-color: #7f7f7f\"> The course content was interesting, but the teaching   </span>│<span style=\"color: #7f7f7f; text-decoration-color: #7f7f7f\"> ['Desire for practical applications and real-life      </span>│\n",
       "│<span style=\"color: #7f7f7f; text-decoration-color: #7f7f7f\"> style wasn’t for me. Lectures were mostly theoretical  </span>│<span style=\"color: #7f7f7f; text-decoration-color: #7f7f7f\"> examples', 'Teaching style and interactivity',         </span>│\n",
       "│<span style=\"color: #7f7f7f; text-decoration-color: #7f7f7f\"> with few interactive elements, which made it hard to   </span>│<span style=\"color: #7f7f7f; text-decoration-color: #7f7f7f\"> 'Engagement and discussion']                           </span>│\n",
       "│<span style=\"color: #7f7f7f; text-decoration-color: #7f7f7f\"> stay engaged. A more hands-on approach would have been </span>│<span style=\"color: #7f7f7f; text-decoration-color: #7f7f7f\">                                                        </span>│\n",
       "│<span style=\"color: #7f7f7f; text-decoration-color: #7f7f7f\"> appreciated.                                           </span>│<span style=\"color: #7f7f7f; text-decoration-color: #7f7f7f\">                                                        </span>│\n",
       "├────────────────────────────────────────────────────────┼────────────────────────────────────────────────────────┤\n",
       "│<span style=\"color: #7f7f7f; text-decoration-color: #7f7f7f\"> As a visual learner, I appreciated the use of charts   </span>│<span style=\"color: #7f7f7f; text-decoration-color: #7f7f7f\"> ['Teaching style and interactivity', 'Quality of       </span>│\n",
       "│<span style=\"color: #7f7f7f; text-decoration-color: #7f7f7f\"> and graphs to explain economic concepts. The homework  </span>│<span style=\"color: #7f7f7f; text-decoration-color: #7f7f7f\"> course materials', 'Engagement and discussion']        </span>│\n",
       "│<span style=\"color: #7f7f7f; text-decoration-color: #7f7f7f\"> was directly related to lecture material, which        </span>│<span style=\"color: #7f7f7f; text-decoration-color: #7f7f7f\">                                                        </span>│\n",
       "│<span style=\"color: #7f7f7f; text-decoration-color: #7f7f7f\"> reinforced learning. I would have liked more group     </span>│<span style=\"color: #7f7f7f; text-decoration-color: #7f7f7f\">                                                        </span>│\n",
       "│<span style=\"color: #7f7f7f; text-decoration-color: #7f7f7f\"> discussions to hear different perspectives.            </span>│<span style=\"color: #7f7f7f; text-decoration-color: #7f7f7f\">                                                        </span>│\n",
       "├────────────────────────────────────────────────────────┼────────────────────────────────────────────────────────┤\n",
       "│<span style=\"color: #7f7f7f; text-decoration-color: #7f7f7f\"> The course was well-organized with clear objectives    </span>│<span style=\"color: #7f7f7f; text-decoration-color: #7f7f7f\"> ['Well-organized and structured course', 'Desire for   </span>│\n",
       "│<span style=\"color: #7f7f7f; text-decoration-color: #7f7f7f\"> for each lecture. The professor was knowledgeable, but </span>│<span style=\"color: #7f7f7f; text-decoration-color: #7f7f7f\"> practical applications and real-life examples',        </span>│\n",
       "│<span style=\"color: #7f7f7f; text-decoration-color: #7f7f7f\"> I wish there had been more real-world application of   </span>│<span style=\"color: #7f7f7f; text-decoration-color: #7f7f7f\"> 'Challenging and fair assessments', 'Pace and clarity  </span>│\n",
       "│<span style=\"color: #7f7f7f; text-decoration-color: #7f7f7f\"> concepts. The exams were fair but challenging.         </span>│<span style=\"color: #7f7f7f; text-decoration-color: #7f7f7f\"> of lectures']                                          </span>│\n",
       "│<span style=\"color: #7f7f7f; text-decoration-color: #7f7f7f\"> Overall, a solid introduction to economics.            </span>│<span style=\"color: #7f7f7f; text-decoration-color: #7f7f7f\">                                                        </span>│\n",
       "├────────────────────────────────────────────────────────┼────────────────────────────────────────────────────────┤\n",
       "│<span style=\"color: #7f7f7f; text-decoration-color: #7f7f7f\"> I found the professor to be disorganized, often        </span>│<span style=\"color: #7f7f7f; text-decoration-color: #7f7f7f\"> ['Teaching style and interactivity', 'Pace and clarity </span>│\n",
       "│<span style=\"color: #7f7f7f; text-decoration-color: #7f7f7f\"> straying from the topic. Office hours, however, were   </span>│<span style=\"color: #7f7f7f; text-decoration-color: #7f7f7f\"> of lectures', 'Support for complex concepts',          </span>│\n",
       "│<span style=\"color: #7f7f7f; text-decoration-color: #7f7f7f\"> incredibly helpful and allowed for one-on-one          </span>│<span style=\"color: #7f7f7f; text-decoration-color: #7f7f7f\"> 'Engagement and discussion']                           </span>│\n",
       "│<span style=\"color: #7f7f7f; text-decoration-color: #7f7f7f\"> engagement with the material. More consistency in      </span>│<span style=\"color: #7f7f7f; text-decoration-color: #7f7f7f\">                                                        </span>│\n",
       "│<span style=\"color: #7f7f7f; text-decoration-color: #7f7f7f\"> lecture themes would improve the course.               </span>│<span style=\"color: #7f7f7f; text-decoration-color: #7f7f7f\">                                                        </span>│\n",
       "├────────────────────────────────────────────────────────┼────────────────────────────────────────────────────────┤\n",
       "│<span style=\"color: #7f7f7f; text-decoration-color: #7f7f7f\"> Excellent course with an enthusiastic instructor who   </span>│<span style=\"color: #7f7f7f; text-decoration-color: #7f7f7f\"> ['Well-organized and structured course', 'Challenging  </span>│\n",
       "│<span style=\"color: #7f7f7f; text-decoration-color: #7f7f7f\"> made complex topics accessible and enjoyable. The      </span>│<span style=\"color: #7f7f7f; text-decoration-color: #7f7f7f\"> and fair assessments', 'Pace and clarity of lectures', </span>│\n",
       "│<span style=\"color: #7f7f7f; text-decoration-color: #7f7f7f\"> PowerPoint slides were always clear and helpful for    </span>│<span style=\"color: #7f7f7f; text-decoration-color: #7f7f7f\"> 'Quality of course materials', 'Support for complex    </span>│\n",
       "│<span style=\"color: #7f7f7f; text-decoration-color: #7f7f7f\"> reviewing. Tests were fair, and I always felt          </span>│<span style=\"color: #7f7f7f; text-decoration-color: #7f7f7f\"> concepts', 'Teaching enthusiasm and effectiveness']    </span>│\n",
       "│<span style=\"color: #7f7f7f; text-decoration-color: #7f7f7f\"> well-prepared thanks to the thorough lectures.         </span>│<span style=\"color: #7f7f7f; text-decoration-color: #7f7f7f\">                                                        </span>│\n",
       "├────────────────────────────────────────────────────────┼────────────────────────────────────────────────────────┤\n",
       "│<span style=\"color: #7f7f7f; text-decoration-color: #7f7f7f\"> This was a great introductory course to economics with </span>│<span style=\"color: #7f7f7f; text-decoration-color: #7f7f7f\"> ['Pace and clarity of lectures', 'Support for complex  </span>│\n",
       "│<span style=\"color: #7f7f7f; text-decoration-color: #7f7f7f\"> a lot of emphasis on mathematical models. For someone  </span>│<span style=\"color: #7f7f7f; text-decoration-color: #7f7f7f\"> concepts']                                             </span>│\n",
       "│<span style=\"color: #7f7f7f; text-decoration-color: #7f7f7f\"> without a strong math background, this was a bit       </span>│<span style=\"color: #7f7f7f; text-decoration-color: #7f7f7f\">                                                        </span>│\n",
       "│<span style=\"color: #7f7f7f; text-decoration-color: #7f7f7f\"> intimidating. More preliminary resources or a review   </span>│<span style=\"color: #7f7f7f; text-decoration-color: #7f7f7f\">                                                        </span>│\n",
       "│<span style=\"color: #7f7f7f; text-decoration-color: #7f7f7f\"> session on math skills would be helpful.               </span>│<span style=\"color: #7f7f7f; text-decoration-color: #7f7f7f\">                                                        </span>│\n",
       "├────────────────────────────────────────────────────────┼────────────────────────────────────────────────────────┤\n",
       "│<span style=\"color: #7f7f7f; text-decoration-color: #7f7f7f\"> I thoroughly enjoyed this course! The professor used a </span>│<span style=\"color: #7f7f7f; text-decoration-color: #7f7f7f\"> ['Desire for practical applications and real-life      </span>│\n",
       "│<span style=\"color: #7f7f7f; text-decoration-color: #7f7f7f\"> lot of current events to illustrate economic           </span>│<span style=\"color: #7f7f7f; text-decoration-color: #7f7f7f\"> examples', 'Teaching style and interactivity',         </span>│\n",
       "│<span style=\"color: #7f7f7f; text-decoration-color: #7f7f7f\"> principles, which made the class engaging and          </span>│<span style=\"color: #7f7f7f; text-decoration-color: #7f7f7f\"> 'Engagement and discussion']                           </span>│\n",
       "│<span style=\"color: #7f7f7f; text-decoration-color: #7f7f7f\"> relevant. Group projects were a highlight, fostering a </span>│<span style=\"color: #7f7f7f; text-decoration-color: #7f7f7f\">                                                        </span>│\n",
       "│<span style=\"color: #7f7f7f; text-decoration-color: #7f7f7f\"> practical understanding of the material.               </span>│<span style=\"color: #7f7f7f; text-decoration-color: #7f7f7f\">                                                        </span>│\n",
       "├────────────────────────────────────────────────────────┼────────────────────────────────────────────────────────┤\n",
       "│<span style=\"color: #7f7f7f; text-decoration-color: #7f7f7f\"> The professor was passionate about economics, which    </span>│<span style=\"color: #7f7f7f; text-decoration-color: #7f7f7f\"> ['Desire for practical applications and real-life      </span>│\n",
       "│<span style=\"color: #7f7f7f; text-decoration-color: #7f7f7f\"> made learning exciting. I loved the real-life examples </span>│<span style=\"color: #7f7f7f; text-decoration-color: #7f7f7f\"> examples', 'Teaching style and interactivity',         </span>│\n",
       "│<span style=\"color: #7f7f7f; text-decoration-color: #7f7f7f\"> used to explain economic theories. However, the        </span>│<span style=\"color: #7f7f7f; text-decoration-color: #7f7f7f\"> 'Teaching enthusiasm and effectiveness', 'Feedback and </span>│\n",
       "│<span style=\"color: #7f7f7f; text-decoration-color: #7f7f7f\"> grading seemed tough, and feedback on assignments was  </span>│<span style=\"color: #7f7f7f; text-decoration-color: #7f7f7f\"> grading transparency']                                 </span>│\n",
       "│<span style=\"color: #7f7f7f; text-decoration-color: #7f7f7f\"> sometimes vague.                                       </span>│<span style=\"color: #7f7f7f; text-decoration-color: #7f7f7f\">                                                        </span>│\n",
       "├────────────────────────────────────────────────────────┼────────────────────────────────────────────────────────┤\n",
       "│<span style=\"color: #7f7f7f; text-decoration-color: #7f7f7f\"> The class was well-structured with clear expectations  </span>│<span style=\"color: #7f7f7f; text-decoration-color: #7f7f7f\"> ['Well-organized and structured course', 'Teaching     </span>│\n",
       "│<span style=\"color: #7f7f7f; text-decoration-color: #7f7f7f\"> set from the start. However, the professor's lectures  </span>│<span style=\"color: #7f7f7f; text-decoration-color: #7f7f7f\"> style and interactivity', 'Engagement and discussion', </span>│\n",
       "│<span style=\"color: #7f7f7f; text-decoration-color: #7f7f7f\"> were somewhat monotone, which made it difficult to     </span>│<span style=\"color: #7f7f7f; text-decoration-color: #7f7f7f\"> 'Teaching enthusiasm and effectiveness']               </span>│\n",
       "│<span style=\"color: #7f7f7f; text-decoration-color: #7f7f7f\"> maintain focus. More engaging presentations or guest   </span>│<span style=\"color: #7f7f7f; text-decoration-color: #7f7f7f\">                                                        </span>│\n",
       "│<span style=\"color: #7f7f7f; text-decoration-color: #7f7f7f\"> speakers could liven up the content.                   </span>│<span style=\"color: #7f7f7f; text-decoration-color: #7f7f7f\">                                                        </span>│\n",
       "└────────────────────────────────────────────────────────┴────────────────────────────────────────────────────────┘\n",
       "</pre>\n"
      ],
      "text/plain": [
       "┏━━━━━━━━━━━━━━━━━━━━━━━━━━━━━━━━━━━━━━━━━━━━━━━━━━━━━━━━┳━━━━━━━━━━━━━━━━━━━━━━━━━━━━━━━━━━━━━━━━━━━━━━━━━━━━━━━━┓\n",
       "┃\u001b[1;35m \u001b[0m\u001b[1;35mscenario                                              \u001b[0m\u001b[1;35m \u001b[0m┃\u001b[1;35m \u001b[0m\u001b[1;35manswer                                                \u001b[0m\u001b[1;35m \u001b[0m┃\n",
       "┃\u001b[1;35m \u001b[0m\u001b[1;35m.evaluation                                           \u001b[0m\u001b[1;35m \u001b[0m┃\u001b[1;35m \u001b[0m\u001b[1;35m.themes_list                                          \u001b[0m\u001b[1;35m \u001b[0m┃\n",
       "┡━━━━━━━━━━━━━━━━━━━━━━━━━━━━━━━━━━━━━━━━━━━━━━━━━━━━━━━━╇━━━━━━━━━━━━━━━━━━━━━━━━━━━━━━━━━━━━━━━━━━━━━━━━━━━━━━━━┩\n",
       "│\u001b[2m \u001b[0m\u001b[2mEcon 101 was tougher than I anticipated. The lectures \u001b[0m\u001b[2m \u001b[0m│\u001b[2m \u001b[0m\u001b[2m['Pace and clarity of lectures', 'Quality of course   \u001b[0m\u001b[2m \u001b[0m│\n",
       "│\u001b[2m \u001b[0m\u001b[2mmoved too quickly through complex theories, making it \u001b[0m\u001b[2m \u001b[0m│\u001b[2m \u001b[0m\u001b[2mmaterials', 'Support for complex concepts']           \u001b[0m\u001b[2m \u001b[0m│\n",
       "│\u001b[2m \u001b[0m\u001b[2mhard to follow without additional self-study. I       \u001b[0m\u001b[2m \u001b[0m│\u001b[2m                                                        \u001b[0m│\n",
       "│\u001b[2m \u001b[0m\u001b[2mappreciated the comprehensive reading materials       \u001b[0m\u001b[2m \u001b[0m│\u001b[2m                                                        \u001b[0m│\n",
       "│\u001b[2m \u001b[0m\u001b[2mprovided, though they could be quite dense at times.  \u001b[0m\u001b[2m \u001b[0m│\u001b[2m                                                        \u001b[0m│\n",
       "├────────────────────────────────────────────────────────┼────────────────────────────────────────────────────────┤\n",
       "│\u001b[2m \u001b[0m\u001b[2mThe course content was interesting, but the teaching  \u001b[0m\u001b[2m \u001b[0m│\u001b[2m \u001b[0m\u001b[2m['Desire for practical applications and real-life     \u001b[0m\u001b[2m \u001b[0m│\n",
       "│\u001b[2m \u001b[0m\u001b[2mstyle wasn’t for me. Lectures were mostly theoretical \u001b[0m\u001b[2m \u001b[0m│\u001b[2m \u001b[0m\u001b[2mexamples', 'Teaching style and interactivity',        \u001b[0m\u001b[2m \u001b[0m│\n",
       "│\u001b[2m \u001b[0m\u001b[2mwith few interactive elements, which made it hard to  \u001b[0m\u001b[2m \u001b[0m│\u001b[2m \u001b[0m\u001b[2m'Engagement and discussion']                          \u001b[0m\u001b[2m \u001b[0m│\n",
       "│\u001b[2m \u001b[0m\u001b[2mstay engaged. A more hands-on approach would have been\u001b[0m\u001b[2m \u001b[0m│\u001b[2m                                                        \u001b[0m│\n",
       "│\u001b[2m \u001b[0m\u001b[2mappreciated.                                          \u001b[0m\u001b[2m \u001b[0m│\u001b[2m                                                        \u001b[0m│\n",
       "├────────────────────────────────────────────────────────┼────────────────────────────────────────────────────────┤\n",
       "│\u001b[2m \u001b[0m\u001b[2mAs a visual learner, I appreciated the use of charts  \u001b[0m\u001b[2m \u001b[0m│\u001b[2m \u001b[0m\u001b[2m['Teaching style and interactivity', 'Quality of      \u001b[0m\u001b[2m \u001b[0m│\n",
       "│\u001b[2m \u001b[0m\u001b[2mand graphs to explain economic concepts. The homework \u001b[0m\u001b[2m \u001b[0m│\u001b[2m \u001b[0m\u001b[2mcourse materials', 'Engagement and discussion']       \u001b[0m\u001b[2m \u001b[0m│\n",
       "│\u001b[2m \u001b[0m\u001b[2mwas directly related to lecture material, which       \u001b[0m\u001b[2m \u001b[0m│\u001b[2m                                                        \u001b[0m│\n",
       "│\u001b[2m \u001b[0m\u001b[2mreinforced learning. I would have liked more group    \u001b[0m\u001b[2m \u001b[0m│\u001b[2m                                                        \u001b[0m│\n",
       "│\u001b[2m \u001b[0m\u001b[2mdiscussions to hear different perspectives.           \u001b[0m\u001b[2m \u001b[0m│\u001b[2m                                                        \u001b[0m│\n",
       "├────────────────────────────────────────────────────────┼────────────────────────────────────────────────────────┤\n",
       "│\u001b[2m \u001b[0m\u001b[2mThe course was well-organized with clear objectives   \u001b[0m\u001b[2m \u001b[0m│\u001b[2m \u001b[0m\u001b[2m['Well-organized and structured course', 'Desire for  \u001b[0m\u001b[2m \u001b[0m│\n",
       "│\u001b[2m \u001b[0m\u001b[2mfor each lecture. The professor was knowledgeable, but\u001b[0m\u001b[2m \u001b[0m│\u001b[2m \u001b[0m\u001b[2mpractical applications and real-life examples',       \u001b[0m\u001b[2m \u001b[0m│\n",
       "│\u001b[2m \u001b[0m\u001b[2mI wish there had been more real-world application of  \u001b[0m\u001b[2m \u001b[0m│\u001b[2m \u001b[0m\u001b[2m'Challenging and fair assessments', 'Pace and clarity \u001b[0m\u001b[2m \u001b[0m│\n",
       "│\u001b[2m \u001b[0m\u001b[2mconcepts. The exams were fair but challenging.        \u001b[0m\u001b[2m \u001b[0m│\u001b[2m \u001b[0m\u001b[2mof lectures']                                         \u001b[0m\u001b[2m \u001b[0m│\n",
       "│\u001b[2m \u001b[0m\u001b[2mOverall, a solid introduction to economics.           \u001b[0m\u001b[2m \u001b[0m│\u001b[2m                                                        \u001b[0m│\n",
       "├────────────────────────────────────────────────────────┼────────────────────────────────────────────────────────┤\n",
       "│\u001b[2m \u001b[0m\u001b[2mI found the professor to be disorganized, often       \u001b[0m\u001b[2m \u001b[0m│\u001b[2m \u001b[0m\u001b[2m['Teaching style and interactivity', 'Pace and clarity\u001b[0m\u001b[2m \u001b[0m│\n",
       "│\u001b[2m \u001b[0m\u001b[2mstraying from the topic. Office hours, however, were  \u001b[0m\u001b[2m \u001b[0m│\u001b[2m \u001b[0m\u001b[2mof lectures', 'Support for complex concepts',         \u001b[0m\u001b[2m \u001b[0m│\n",
       "│\u001b[2m \u001b[0m\u001b[2mincredibly helpful and allowed for one-on-one         \u001b[0m\u001b[2m \u001b[0m│\u001b[2m \u001b[0m\u001b[2m'Engagement and discussion']                          \u001b[0m\u001b[2m \u001b[0m│\n",
       "│\u001b[2m \u001b[0m\u001b[2mengagement with the material. More consistency in     \u001b[0m\u001b[2m \u001b[0m│\u001b[2m                                                        \u001b[0m│\n",
       "│\u001b[2m \u001b[0m\u001b[2mlecture themes would improve the course.              \u001b[0m\u001b[2m \u001b[0m│\u001b[2m                                                        \u001b[0m│\n",
       "├────────────────────────────────────────────────────────┼────────────────────────────────────────────────────────┤\n",
       "│\u001b[2m \u001b[0m\u001b[2mExcellent course with an enthusiastic instructor who  \u001b[0m\u001b[2m \u001b[0m│\u001b[2m \u001b[0m\u001b[2m['Well-organized and structured course', 'Challenging \u001b[0m\u001b[2m \u001b[0m│\n",
       "│\u001b[2m \u001b[0m\u001b[2mmade complex topics accessible and enjoyable. The     \u001b[0m\u001b[2m \u001b[0m│\u001b[2m \u001b[0m\u001b[2mand fair assessments', 'Pace and clarity of lectures',\u001b[0m\u001b[2m \u001b[0m│\n",
       "│\u001b[2m \u001b[0m\u001b[2mPowerPoint slides were always clear and helpful for   \u001b[0m\u001b[2m \u001b[0m│\u001b[2m \u001b[0m\u001b[2m'Quality of course materials', 'Support for complex   \u001b[0m\u001b[2m \u001b[0m│\n",
       "│\u001b[2m \u001b[0m\u001b[2mreviewing. Tests were fair, and I always felt         \u001b[0m\u001b[2m \u001b[0m│\u001b[2m \u001b[0m\u001b[2mconcepts', 'Teaching enthusiasm and effectiveness']   \u001b[0m\u001b[2m \u001b[0m│\n",
       "│\u001b[2m \u001b[0m\u001b[2mwell-prepared thanks to the thorough lectures.        \u001b[0m\u001b[2m \u001b[0m│\u001b[2m                                                        \u001b[0m│\n",
       "├────────────────────────────────────────────────────────┼────────────────────────────────────────────────────────┤\n",
       "│\u001b[2m \u001b[0m\u001b[2mThis was a great introductory course to economics with\u001b[0m\u001b[2m \u001b[0m│\u001b[2m \u001b[0m\u001b[2m['Pace and clarity of lectures', 'Support for complex \u001b[0m\u001b[2m \u001b[0m│\n",
       "│\u001b[2m \u001b[0m\u001b[2ma lot of emphasis on mathematical models. For someone \u001b[0m\u001b[2m \u001b[0m│\u001b[2m \u001b[0m\u001b[2mconcepts']                                            \u001b[0m\u001b[2m \u001b[0m│\n",
       "│\u001b[2m \u001b[0m\u001b[2mwithout a strong math background, this was a bit      \u001b[0m\u001b[2m \u001b[0m│\u001b[2m                                                        \u001b[0m│\n",
       "│\u001b[2m \u001b[0m\u001b[2mintimidating. More preliminary resources or a review  \u001b[0m\u001b[2m \u001b[0m│\u001b[2m                                                        \u001b[0m│\n",
       "│\u001b[2m \u001b[0m\u001b[2msession on math skills would be helpful.              \u001b[0m\u001b[2m \u001b[0m│\u001b[2m                                                        \u001b[0m│\n",
       "├────────────────────────────────────────────────────────┼────────────────────────────────────────────────────────┤\n",
       "│\u001b[2m \u001b[0m\u001b[2mI thoroughly enjoyed this course! The professor used a\u001b[0m\u001b[2m \u001b[0m│\u001b[2m \u001b[0m\u001b[2m['Desire for practical applications and real-life     \u001b[0m\u001b[2m \u001b[0m│\n",
       "│\u001b[2m \u001b[0m\u001b[2mlot of current events to illustrate economic          \u001b[0m\u001b[2m \u001b[0m│\u001b[2m \u001b[0m\u001b[2mexamples', 'Teaching style and interactivity',        \u001b[0m\u001b[2m \u001b[0m│\n",
       "│\u001b[2m \u001b[0m\u001b[2mprinciples, which made the class engaging and         \u001b[0m\u001b[2m \u001b[0m│\u001b[2m \u001b[0m\u001b[2m'Engagement and discussion']                          \u001b[0m\u001b[2m \u001b[0m│\n",
       "│\u001b[2m \u001b[0m\u001b[2mrelevant. Group projects were a highlight, fostering a\u001b[0m\u001b[2m \u001b[0m│\u001b[2m                                                        \u001b[0m│\n",
       "│\u001b[2m \u001b[0m\u001b[2mpractical understanding of the material.              \u001b[0m\u001b[2m \u001b[0m│\u001b[2m                                                        \u001b[0m│\n",
       "├────────────────────────────────────────────────────────┼────────────────────────────────────────────────────────┤\n",
       "│\u001b[2m \u001b[0m\u001b[2mThe professor was passionate about economics, which   \u001b[0m\u001b[2m \u001b[0m│\u001b[2m \u001b[0m\u001b[2m['Desire for practical applications and real-life     \u001b[0m\u001b[2m \u001b[0m│\n",
       "│\u001b[2m \u001b[0m\u001b[2mmade learning exciting. I loved the real-life examples\u001b[0m\u001b[2m \u001b[0m│\u001b[2m \u001b[0m\u001b[2mexamples', 'Teaching style and interactivity',        \u001b[0m\u001b[2m \u001b[0m│\n",
       "│\u001b[2m \u001b[0m\u001b[2mused to explain economic theories. However, the       \u001b[0m\u001b[2m \u001b[0m│\u001b[2m \u001b[0m\u001b[2m'Teaching enthusiasm and effectiveness', 'Feedback and\u001b[0m\u001b[2m \u001b[0m│\n",
       "│\u001b[2m \u001b[0m\u001b[2mgrading seemed tough, and feedback on assignments was \u001b[0m\u001b[2m \u001b[0m│\u001b[2m \u001b[0m\u001b[2mgrading transparency']                                \u001b[0m\u001b[2m \u001b[0m│\n",
       "│\u001b[2m \u001b[0m\u001b[2msometimes vague.                                      \u001b[0m\u001b[2m \u001b[0m│\u001b[2m                                                        \u001b[0m│\n",
       "├────────────────────────────────────────────────────────┼────────────────────────────────────────────────────────┤\n",
       "│\u001b[2m \u001b[0m\u001b[2mThe class was well-structured with clear expectations \u001b[0m\u001b[2m \u001b[0m│\u001b[2m \u001b[0m\u001b[2m['Well-organized and structured course', 'Teaching    \u001b[0m\u001b[2m \u001b[0m│\n",
       "│\u001b[2m \u001b[0m\u001b[2mset from the start. However, the professor's lectures \u001b[0m\u001b[2m \u001b[0m│\u001b[2m \u001b[0m\u001b[2mstyle and interactivity', 'Engagement and discussion',\u001b[0m\u001b[2m \u001b[0m│\n",
       "│\u001b[2m \u001b[0m\u001b[2mwere somewhat monotone, which made it difficult to    \u001b[0m\u001b[2m \u001b[0m│\u001b[2m \u001b[0m\u001b[2m'Teaching enthusiasm and effectiveness']              \u001b[0m\u001b[2m \u001b[0m│\n",
       "│\u001b[2m \u001b[0m\u001b[2mmaintain focus. More engaging presentations or guest  \u001b[0m\u001b[2m \u001b[0m│\u001b[2m                                                        \u001b[0m│\n",
       "│\u001b[2m \u001b[0m\u001b[2mspeakers could liven up the content.                  \u001b[0m\u001b[2m \u001b[0m│\u001b[2m                                                        \u001b[0m│\n",
       "└────────────────────────────────────────────────────────┴────────────────────────────────────────────────────────┘\n"
      ]
     },
     "metadata": {},
     "output_type": "display_data"
    }
   ],
   "source": [
    "themes_lists = q_themes_list.by(scenarios).run()\n",
    "themes_lists.select(\"evaluation\", \"themes_list\").print(format=\"rich\")"
   ]
  },
  {
   "cell_type": "markdown",
   "id": "4f633cdd-6541-47e9-875a-f90e1512cace",
   "metadata": {},
   "source": [
    "Now we can count the number of evaluations that mention each of the themes:"
   ]
  },
  {
   "cell_type": "code",
   "execution_count": 17,
   "id": "54271940-dadc-4f80-a17b-b1ce64d4cc78",
   "metadata": {},
   "outputs": [
    {
     "name": "stdout",
     "output_type": "stream",
     "text": [
      "                                               Theme  Evaluations\n",
      "7                   Teaching style and interactivity            6\n",
      "0                       Pace and clarity of lectures            5\n",
      "3                          Engagement and discussion            5\n",
      "2                       Support for complex concepts            4\n",
      "4  Desire for practical applications and real-lif...            4\n",
      "1                        Quality of course materials            3\n",
      "5              Teaching enthusiasm and effectiveness            3\n",
      "6               Well-organized and structured course            3\n",
      "8                   Challenging and fair assessments            2\n",
      "9                  Feedback and grading transparency            1\n"
     ]
    }
   ],
   "source": [
    "import pandas as pd\n",
    "from collections import Counter\n",
    "\n",
    "themes_lists = themes_lists.select(\"themes_list\").to_list()\n",
    "\n",
    "flat_list = [(theme, idx) for idx, themes in enumerate(themes_lists) for theme in themes]\n",
    "count = Counter(theme for theme, idx in set(flat_list))\n",
    "\n",
    "df = pd.DataFrame(list(count.items()), columns=['Theme', 'Evaluations'])\n",
    "print(df.sort_values(by='Evaluations', ascending=False))"
   ]
  },
  {
   "cell_type": "markdown",
   "id": "846d29fd-847d-4352-af7c-ed339519e239",
   "metadata": {},
   "source": [
    "We can do the same thing with the areas of improvement:"
   ]
  },
  {
   "cell_type": "code",
   "execution_count": 18,
   "id": "13a8a2c1-5a8a-4e46-86fc-8ff23c9587a6",
   "metadata": {},
   "outputs": [
    {
     "data": {
      "text/plain": [
       "['Incorporate case studies',\n",
       " 'Real-world examples',\n",
       " 'Guest speakers from industry',\n",
       " 'Interactive projects',\n",
       " 'Current events discussions',\n",
       " 'Pace lectures appropriately',\n",
       " 'Simplify complex theories',\n",
       " 'Provide summaries for readings',\n",
       " 'Incorporate more in-class examples',\n",
       " 'Offer supplemental instruction sessions',\n",
       " 'Incorporate more current events',\n",
       " 'Increase group project frequency',\n",
       " 'Ensure relevance to real-world applications',\n",
       " 'Incorporate interactive elements',\n",
       " 'Include hands-on activities',\n",
       " 'Engage students with practical examples',\n",
       " 'Use multimedia resources',\n",
       " 'Encourage class participation',\n",
       " 'Implement group work',\n",
       " 'Connect theory to real-world scenarios',\n",
       " 'Incorporate more interactive elements',\n",
       " 'Include real-world applications',\n",
       " 'Provide additional resources for complex topics',\n",
       " 'Offer more office hours',\n",
       " 'Enhance student engagement',\n",
       " 'Introduce guest speakers',\n",
       " 'Update course materials regularly',\n",
       " 'Solicit ongoing feedback',\n",
       " 'improve organization',\n",
       " 'maintain focus on topic',\n",
       " 'consistent lecture themes',\n",
       " 'Provide additional math resources',\n",
       " 'Host review sessions',\n",
       " 'Offer math skill workshops',\n",
       " 'Create math tutorial videos',\n",
       " 'Incorporate math support into office hours',\n",
       " 'Adjust grading scale',\n",
       " 'Provide detailed feedback',\n",
       " 'Clarify grading criteria',\n",
       " 'Offer additional support',\n",
       " 'varying tone',\n",
       " 'interactive activities',\n",
       " 'multimedia usage',\n",
       " 'guest speakers',\n",
       " 'discussion groups',\n",
       " 'Increase group discussions',\n",
       " 'Diverse learning styles',\n",
       " 'Collaborative learning',\n",
       " 'Peer perspectives']"
      ]
     },
     "execution_count": 18,
     "metadata": {},
     "output_type": "execute_result"
    }
   ],
   "source": [
    "improvements = results.select(\"improvement\").to_list(flatten=True)\n",
    "improvements"
   ]
  },
  {
   "cell_type": "code",
   "execution_count": 19,
   "id": "cd346576-9a41-4e15-99ba-ff99fd0d0c06",
   "metadata": {},
   "outputs": [],
   "source": [
    "q_condensed_improvements = QuestionList(\n",
    "    question_name = \"condensed_improvements\",\n",
    "    question_text = \"\"\"Combine the following list of areas for improvement from the evaluations \n",
    "    into a consolidated, non-redundant list: \"\"\" + \", \".join(improvements),\n",
    "    max_list_items = 10\n",
    ")"
   ]
  },
  {
   "cell_type": "code",
   "execution_count": 20,
   "id": "f8e00a94-1eb0-49a5-b338-5385220ee9a3",
   "metadata": {},
   "outputs": [
    {
     "data": {
      "text/plain": [
       "['Incorporate real-world examples and case studies',\n",
       " 'Enhance interactive learning with projects and activities',\n",
       " 'Introduce guest speakers from industry',\n",
       " 'Utilize multimedia resources and encourage class participation',\n",
       " 'Align curriculum with current events and real-world applications',\n",
       " 'Provide support for complex topics through summaries, resources, and office hours',\n",
       " 'Foster collaborative learning with group projects and discussions',\n",
       " 'Adapt teaching methods to cater to diverse learning styles',\n",
       " 'Maintain clarity and organization in lectures and grading',\n",
       " 'Solicit ongoing feedback and regularly update course materials']"
      ]
     },
     "execution_count": 20,
     "metadata": {},
     "output_type": "execute_result"
    }
   ],
   "source": [
    "condensed_improvements = q_condensed_improvements.run().select(\"condensed_improvements\").to_list()[0]\n",
    "condensed_improvements"
   ]
  },
  {
   "cell_type": "code",
   "execution_count": 21,
   "id": "3f59e1e7-559f-4ca8-9f94-9f75ab29d3f6",
   "metadata": {},
   "outputs": [],
   "source": [
    "q_improvements_list = QuestionCheckBox(\n",
    "    question_name = \"improvements_list\",\n",
    "    question_text = \"Select all of the improvements that are mentioned in this evaluation: {{ evaluation }}\",\n",
    "    question_options = condensed_improvements\n",
    ")"
   ]
  },
  {
   "cell_type": "code",
   "execution_count": 22,
   "id": "89a896d5-2597-4f99-8a34-e8ecb0bf969b",
   "metadata": {},
   "outputs": [
    {
     "data": {
      "text/html": [
       "<pre style=\"white-space:pre;overflow-x:auto;line-height:normal;font-family:Menlo,'DejaVu Sans Mono',consolas,'Courier New',monospace\">┏━━━━━━━━━━━━━━━━━━━━━━━━━━━━━━━━━━━━━━━━━━━━━━━━━━━━━━━━┳━━━━━━━━━━━━━━━━━━━━━━━━━━━━━━━━━━━━━━━━━━━━━━━━━━━━━━━━┓\n",
       "┃<span style=\"color: #800080; text-decoration-color: #800080; font-weight: bold\"> scenario                                               </span>┃<span style=\"color: #800080; text-decoration-color: #800080; font-weight: bold\"> answer                                                 </span>┃\n",
       "┃<span style=\"color: #800080; text-decoration-color: #800080; font-weight: bold\"> .evaluation                                            </span>┃<span style=\"color: #800080; text-decoration-color: #800080; font-weight: bold\"> .improvements_list                                     </span>┃\n",
       "┡━━━━━━━━━━━━━━━━━━━━━━━━━━━━━━━━━━━━━━━━━━━━━━━━━━━━━━━━╇━━━━━━━━━━━━━━━━━━━━━━━━━━━━━━━━━━━━━━━━━━━━━━━━━━━━━━━━┩\n",
       "│<span style=\"color: #7f7f7f; text-decoration-color: #7f7f7f\"> This was a great introductory course to economics with </span>│<span style=\"color: #7f7f7f; text-decoration-color: #7f7f7f\"> ['Provide support for complex topics through           </span>│\n",
       "│<span style=\"color: #7f7f7f; text-decoration-color: #7f7f7f\"> a lot of emphasis on mathematical models. For someone  </span>│<span style=\"color: #7f7f7f; text-decoration-color: #7f7f7f\"> summaries, resources, and office hours']               </span>│\n",
       "│<span style=\"color: #7f7f7f; text-decoration-color: #7f7f7f\"> without a strong math background, this was a bit       </span>│<span style=\"color: #7f7f7f; text-decoration-color: #7f7f7f\">                                                        </span>│\n",
       "│<span style=\"color: #7f7f7f; text-decoration-color: #7f7f7f\"> intimidating. More preliminary resources or a review   </span>│<span style=\"color: #7f7f7f; text-decoration-color: #7f7f7f\">                                                        </span>│\n",
       "│<span style=\"color: #7f7f7f; text-decoration-color: #7f7f7f\"> session on math skills would be helpful.               </span>│<span style=\"color: #7f7f7f; text-decoration-color: #7f7f7f\">                                                        </span>│\n",
       "├────────────────────────────────────────────────────────┼────────────────────────────────────────────────────────┤\n",
       "│<span style=\"color: #7f7f7f; text-decoration-color: #7f7f7f\"> The course was well-organized with clear objectives    </span>│<span style=\"color: #7f7f7f; text-decoration-color: #7f7f7f\"> ['Incorporate real-world examples and case studies',   </span>│\n",
       "│<span style=\"color: #7f7f7f; text-decoration-color: #7f7f7f\"> for each lecture. The professor was knowledgeable, but </span>│<span style=\"color: #7f7f7f; text-decoration-color: #7f7f7f\"> 'Align curriculum with current events and real-world   </span>│\n",
       "│<span style=\"color: #7f7f7f; text-decoration-color: #7f7f7f\"> I wish there had been more real-world application of   </span>│<span style=\"color: #7f7f7f; text-decoration-color: #7f7f7f\"> applications']                                         </span>│\n",
       "│<span style=\"color: #7f7f7f; text-decoration-color: #7f7f7f\"> concepts. The exams were fair but challenging.         </span>│<span style=\"color: #7f7f7f; text-decoration-color: #7f7f7f\">                                                        </span>│\n",
       "│<span style=\"color: #7f7f7f; text-decoration-color: #7f7f7f\"> Overall, a solid introduction to economics.            </span>│<span style=\"color: #7f7f7f; text-decoration-color: #7f7f7f\">                                                        </span>│\n",
       "├────────────────────────────────────────────────────────┼────────────────────────────────────────────────────────┤\n",
       "│<span style=\"color: #7f7f7f; text-decoration-color: #7f7f7f\"> Excellent course with an enthusiastic instructor who   </span>│<span style=\"color: #7f7f7f; text-decoration-color: #7f7f7f\"> ['Maintain clarity and organization in lectures and    </span>│\n",
       "│<span style=\"color: #7f7f7f; text-decoration-color: #7f7f7f\"> made complex topics accessible and enjoyable. The      </span>│<span style=\"color: #7f7f7f; text-decoration-color: #7f7f7f\"> grading']                                              </span>│\n",
       "│<span style=\"color: #7f7f7f; text-decoration-color: #7f7f7f\"> PowerPoint slides were always clear and helpful for    </span>│<span style=\"color: #7f7f7f; text-decoration-color: #7f7f7f\">                                                        </span>│\n",
       "│<span style=\"color: #7f7f7f; text-decoration-color: #7f7f7f\"> reviewing. Tests were fair, and I always felt          </span>│<span style=\"color: #7f7f7f; text-decoration-color: #7f7f7f\">                                                        </span>│\n",
       "│<span style=\"color: #7f7f7f; text-decoration-color: #7f7f7f\"> well-prepared thanks to the thorough lectures.         </span>│<span style=\"color: #7f7f7f; text-decoration-color: #7f7f7f\">                                                        </span>│\n",
       "├────────────────────────────────────────────────────────┼────────────────────────────────────────────────────────┤\n",
       "│<span style=\"color: #7f7f7f; text-decoration-color: #7f7f7f\"> I found the professor to be disorganized, often        </span>│<span style=\"color: #7f7f7f; text-decoration-color: #7f7f7f\"> ['Maintain clarity and organization in lectures and    </span>│\n",
       "│<span style=\"color: #7f7f7f; text-decoration-color: #7f7f7f\"> straying from the topic. Office hours, however, were   </span>│<span style=\"color: #7f7f7f; text-decoration-color: #7f7f7f\"> grading']                                              </span>│\n",
       "│<span style=\"color: #7f7f7f; text-decoration-color: #7f7f7f\"> incredibly helpful and allowed for one-on-one          </span>│<span style=\"color: #7f7f7f; text-decoration-color: #7f7f7f\">                                                        </span>│\n",
       "│<span style=\"color: #7f7f7f; text-decoration-color: #7f7f7f\"> engagement with the material. More consistency in      </span>│<span style=\"color: #7f7f7f; text-decoration-color: #7f7f7f\">                                                        </span>│\n",
       "│<span style=\"color: #7f7f7f; text-decoration-color: #7f7f7f\"> lecture themes would improve the course.               </span>│<span style=\"color: #7f7f7f; text-decoration-color: #7f7f7f\">                                                        </span>│\n",
       "├────────────────────────────────────────────────────────┼────────────────────────────────────────────────────────┤\n",
       "│<span style=\"color: #7f7f7f; text-decoration-color: #7f7f7f\"> Econ 101 was tougher than I anticipated. The lectures  </span>│<span style=\"color: #7f7f7f; text-decoration-color: #7f7f7f\"> ['Provide support for complex topics through           </span>│\n",
       "│<span style=\"color: #7f7f7f; text-decoration-color: #7f7f7f\"> moved too quickly through complex theories, making it  </span>│<span style=\"color: #7f7f7f; text-decoration-color: #7f7f7f\"> summaries, resources, and office hours', 'Maintain     </span>│\n",
       "│<span style=\"color: #7f7f7f; text-decoration-color: #7f7f7f\"> hard to follow without additional self-study. I        </span>│<span style=\"color: #7f7f7f; text-decoration-color: #7f7f7f\"> clarity and organization in lectures and grading']     </span>│\n",
       "│<span style=\"color: #7f7f7f; text-decoration-color: #7f7f7f\"> appreciated the comprehensive reading materials        </span>│<span style=\"color: #7f7f7f; text-decoration-color: #7f7f7f\">                                                        </span>│\n",
       "│<span style=\"color: #7f7f7f; text-decoration-color: #7f7f7f\"> provided, though they could be quite dense at times.   </span>│<span style=\"color: #7f7f7f; text-decoration-color: #7f7f7f\">                                                        </span>│\n",
       "├────────────────────────────────────────────────────────┼────────────────────────────────────────────────────────┤\n",
       "│<span style=\"color: #7f7f7f; text-decoration-color: #7f7f7f\"> The professor was passionate about economics, which    </span>│<span style=\"color: #7f7f7f; text-decoration-color: #7f7f7f\"> ['Maintain clarity and organization in lectures and    </span>│\n",
       "│<span style=\"color: #7f7f7f; text-decoration-color: #7f7f7f\"> made learning exciting. I loved the real-life examples </span>│<span style=\"color: #7f7f7f; text-decoration-color: #7f7f7f\"> grading']                                              </span>│\n",
       "│<span style=\"color: #7f7f7f; text-decoration-color: #7f7f7f\"> used to explain economic theories. However, the        </span>│<span style=\"color: #7f7f7f; text-decoration-color: #7f7f7f\">                                                        </span>│\n",
       "│<span style=\"color: #7f7f7f; text-decoration-color: #7f7f7f\"> grading seemed tough, and feedback on assignments was  </span>│<span style=\"color: #7f7f7f; text-decoration-color: #7f7f7f\">                                                        </span>│\n",
       "│<span style=\"color: #7f7f7f; text-decoration-color: #7f7f7f\"> sometimes vague.                                       </span>│<span style=\"color: #7f7f7f; text-decoration-color: #7f7f7f\">                                                        </span>│\n",
       "├────────────────────────────────────────────────────────┼────────────────────────────────────────────────────────┤\n",
       "│<span style=\"color: #7f7f7f; text-decoration-color: #7f7f7f\"> The class was well-structured with clear expectations  </span>│<span style=\"color: #7f7f7f; text-decoration-color: #7f7f7f\"> ['Introduce guest speakers from industry', 'Utilize    </span>│\n",
       "│<span style=\"color: #7f7f7f; text-decoration-color: #7f7f7f\"> set from the start. However, the professor's lectures  </span>│<span style=\"color: #7f7f7f; text-decoration-color: #7f7f7f\"> multimedia resources and encourage class               </span>│\n",
       "│<span style=\"color: #7f7f7f; text-decoration-color: #7f7f7f\"> were somewhat monotone, which made it difficult to     </span>│<span style=\"color: #7f7f7f; text-decoration-color: #7f7f7f\"> participation']                                        </span>│\n",
       "│<span style=\"color: #7f7f7f; text-decoration-color: #7f7f7f\"> maintain focus. More engaging presentations or guest   </span>│<span style=\"color: #7f7f7f; text-decoration-color: #7f7f7f\">                                                        </span>│\n",
       "│<span style=\"color: #7f7f7f; text-decoration-color: #7f7f7f\"> speakers could liven up the content.                   </span>│<span style=\"color: #7f7f7f; text-decoration-color: #7f7f7f\">                                                        </span>│\n",
       "├────────────────────────────────────────────────────────┼────────────────────────────────────────────────────────┤\n",
       "│<span style=\"color: #7f7f7f; text-decoration-color: #7f7f7f\"> As a visual learner, I appreciated the use of charts   </span>│<span style=\"color: #7f7f7f; text-decoration-color: #7f7f7f\"> ['Foster collaborative learning with group projects    </span>│\n",
       "│<span style=\"color: #7f7f7f; text-decoration-color: #7f7f7f\"> and graphs to explain economic concepts. The homework  </span>│<span style=\"color: #7f7f7f; text-decoration-color: #7f7f7f\"> and discussions']                                      </span>│\n",
       "│<span style=\"color: #7f7f7f; text-decoration-color: #7f7f7f\"> was directly related to lecture material, which        </span>│<span style=\"color: #7f7f7f; text-decoration-color: #7f7f7f\">                                                        </span>│\n",
       "│<span style=\"color: #7f7f7f; text-decoration-color: #7f7f7f\"> reinforced learning. I would have liked more group     </span>│<span style=\"color: #7f7f7f; text-decoration-color: #7f7f7f\">                                                        </span>│\n",
       "│<span style=\"color: #7f7f7f; text-decoration-color: #7f7f7f\"> discussions to hear different perspectives.            </span>│<span style=\"color: #7f7f7f; text-decoration-color: #7f7f7f\">                                                        </span>│\n",
       "├────────────────────────────────────────────────────────┼────────────────────────────────────────────────────────┤\n",
       "│<span style=\"color: #7f7f7f; text-decoration-color: #7f7f7f\"> I thoroughly enjoyed this course! The professor used a </span>│<span style=\"color: #7f7f7f; text-decoration-color: #7f7f7f\"> ['Incorporate real-world examples and case studies',   </span>│\n",
       "│<span style=\"color: #7f7f7f; text-decoration-color: #7f7f7f\"> lot of current events to illustrate economic           </span>│<span style=\"color: #7f7f7f; text-decoration-color: #7f7f7f\"> 'Enhance interactive learning with projects and        </span>│\n",
       "│<span style=\"color: #7f7f7f; text-decoration-color: #7f7f7f\"> principles, which made the class engaging and          </span>│<span style=\"color: #7f7f7f; text-decoration-color: #7f7f7f\"> activities', 'Align curriculum with current events and </span>│\n",
       "│<span style=\"color: #7f7f7f; text-decoration-color: #7f7f7f\"> relevant. Group projects were a highlight, fostering a </span>│<span style=\"color: #7f7f7f; text-decoration-color: #7f7f7f\"> real-world applications', 'Foster collaborative        </span>│\n",
       "│<span style=\"color: #7f7f7f; text-decoration-color: #7f7f7f\"> practical understanding of the material.               </span>│<span style=\"color: #7f7f7f; text-decoration-color: #7f7f7f\"> learning with group projects and discussions']         </span>│\n",
       "├────────────────────────────────────────────────────────┼────────────────────────────────────────────────────────┤\n",
       "│<span style=\"color: #7f7f7f; text-decoration-color: #7f7f7f\"> The course content was interesting, but the teaching   </span>│<span style=\"color: #7f7f7f; text-decoration-color: #7f7f7f\"> ['Enhance interactive learning with projects and       </span>│\n",
       "│<span style=\"color: #7f7f7f; text-decoration-color: #7f7f7f\"> style wasn’t for me. Lectures were mostly theoretical  </span>│<span style=\"color: #7f7f7f; text-decoration-color: #7f7f7f\"> activities', 'Utilize multimedia resources and         </span>│\n",
       "│<span style=\"color: #7f7f7f; text-decoration-color: #7f7f7f\"> with few interactive elements, which made it hard to   </span>│<span style=\"color: #7f7f7f; text-decoration-color: #7f7f7f\"> encourage class participation', 'Foster collaborative  </span>│\n",
       "│<span style=\"color: #7f7f7f; text-decoration-color: #7f7f7f\"> stay engaged. A more hands-on approach would have been </span>│<span style=\"color: #7f7f7f; text-decoration-color: #7f7f7f\"> learning with group projects and discussions', 'Adapt  </span>│\n",
       "│<span style=\"color: #7f7f7f; text-decoration-color: #7f7f7f\"> appreciated.                                           </span>│<span style=\"color: #7f7f7f; text-decoration-color: #7f7f7f\"> teaching methods to cater to diverse learning styles'] </span>│\n",
       "└────────────────────────────────────────────────────────┴────────────────────────────────────────────────────────┘\n",
       "</pre>\n"
      ],
      "text/plain": [
       "┏━━━━━━━━━━━━━━━━━━━━━━━━━━━━━━━━━━━━━━━━━━━━━━━━━━━━━━━━┳━━━━━━━━━━━━━━━━━━━━━━━━━━━━━━━━━━━━━━━━━━━━━━━━━━━━━━━━┓\n",
       "┃\u001b[1;35m \u001b[0m\u001b[1;35mscenario                                              \u001b[0m\u001b[1;35m \u001b[0m┃\u001b[1;35m \u001b[0m\u001b[1;35manswer                                                \u001b[0m\u001b[1;35m \u001b[0m┃\n",
       "┃\u001b[1;35m \u001b[0m\u001b[1;35m.evaluation                                           \u001b[0m\u001b[1;35m \u001b[0m┃\u001b[1;35m \u001b[0m\u001b[1;35m.improvements_list                                    \u001b[0m\u001b[1;35m \u001b[0m┃\n",
       "┡━━━━━━━━━━━━━━━━━━━━━━━━━━━━━━━━━━━━━━━━━━━━━━━━━━━━━━━━╇━━━━━━━━━━━━━━━━━━━━━━━━━━━━━━━━━━━━━━━━━━━━━━━━━━━━━━━━┩\n",
       "│\u001b[2m \u001b[0m\u001b[2mThis was a great introductory course to economics with\u001b[0m\u001b[2m \u001b[0m│\u001b[2m \u001b[0m\u001b[2m['Provide support for complex topics through          \u001b[0m\u001b[2m \u001b[0m│\n",
       "│\u001b[2m \u001b[0m\u001b[2ma lot of emphasis on mathematical models. For someone \u001b[0m\u001b[2m \u001b[0m│\u001b[2m \u001b[0m\u001b[2msummaries, resources, and office hours']              \u001b[0m\u001b[2m \u001b[0m│\n",
       "│\u001b[2m \u001b[0m\u001b[2mwithout a strong math background, this was a bit      \u001b[0m\u001b[2m \u001b[0m│\u001b[2m                                                        \u001b[0m│\n",
       "│\u001b[2m \u001b[0m\u001b[2mintimidating. More preliminary resources or a review  \u001b[0m\u001b[2m \u001b[0m│\u001b[2m                                                        \u001b[0m│\n",
       "│\u001b[2m \u001b[0m\u001b[2msession on math skills would be helpful.              \u001b[0m\u001b[2m \u001b[0m│\u001b[2m                                                        \u001b[0m│\n",
       "├────────────────────────────────────────────────────────┼────────────────────────────────────────────────────────┤\n",
       "│\u001b[2m \u001b[0m\u001b[2mThe course was well-organized with clear objectives   \u001b[0m\u001b[2m \u001b[0m│\u001b[2m \u001b[0m\u001b[2m['Incorporate real-world examples and case studies',  \u001b[0m\u001b[2m \u001b[0m│\n",
       "│\u001b[2m \u001b[0m\u001b[2mfor each lecture. The professor was knowledgeable, but\u001b[0m\u001b[2m \u001b[0m│\u001b[2m \u001b[0m\u001b[2m'Align curriculum with current events and real-world  \u001b[0m\u001b[2m \u001b[0m│\n",
       "│\u001b[2m \u001b[0m\u001b[2mI wish there had been more real-world application of  \u001b[0m\u001b[2m \u001b[0m│\u001b[2m \u001b[0m\u001b[2mapplications']                                        \u001b[0m\u001b[2m \u001b[0m│\n",
       "│\u001b[2m \u001b[0m\u001b[2mconcepts. The exams were fair but challenging.        \u001b[0m\u001b[2m \u001b[0m│\u001b[2m                                                        \u001b[0m│\n",
       "│\u001b[2m \u001b[0m\u001b[2mOverall, a solid introduction to economics.           \u001b[0m\u001b[2m \u001b[0m│\u001b[2m                                                        \u001b[0m│\n",
       "├────────────────────────────────────────────────────────┼────────────────────────────────────────────────────────┤\n",
       "│\u001b[2m \u001b[0m\u001b[2mExcellent course with an enthusiastic instructor who  \u001b[0m\u001b[2m \u001b[0m│\u001b[2m \u001b[0m\u001b[2m['Maintain clarity and organization in lectures and   \u001b[0m\u001b[2m \u001b[0m│\n",
       "│\u001b[2m \u001b[0m\u001b[2mmade complex topics accessible and enjoyable. The     \u001b[0m\u001b[2m \u001b[0m│\u001b[2m \u001b[0m\u001b[2mgrading']                                             \u001b[0m\u001b[2m \u001b[0m│\n",
       "│\u001b[2m \u001b[0m\u001b[2mPowerPoint slides were always clear and helpful for   \u001b[0m\u001b[2m \u001b[0m│\u001b[2m                                                        \u001b[0m│\n",
       "│\u001b[2m \u001b[0m\u001b[2mreviewing. Tests were fair, and I always felt         \u001b[0m\u001b[2m \u001b[0m│\u001b[2m                                                        \u001b[0m│\n",
       "│\u001b[2m \u001b[0m\u001b[2mwell-prepared thanks to the thorough lectures.        \u001b[0m\u001b[2m \u001b[0m│\u001b[2m                                                        \u001b[0m│\n",
       "├────────────────────────────────────────────────────────┼────────────────────────────────────────────────────────┤\n",
       "│\u001b[2m \u001b[0m\u001b[2mI found the professor to be disorganized, often       \u001b[0m\u001b[2m \u001b[0m│\u001b[2m \u001b[0m\u001b[2m['Maintain clarity and organization in lectures and   \u001b[0m\u001b[2m \u001b[0m│\n",
       "│\u001b[2m \u001b[0m\u001b[2mstraying from the topic. Office hours, however, were  \u001b[0m\u001b[2m \u001b[0m│\u001b[2m \u001b[0m\u001b[2mgrading']                                             \u001b[0m\u001b[2m \u001b[0m│\n",
       "│\u001b[2m \u001b[0m\u001b[2mincredibly helpful and allowed for one-on-one         \u001b[0m\u001b[2m \u001b[0m│\u001b[2m                                                        \u001b[0m│\n",
       "│\u001b[2m \u001b[0m\u001b[2mengagement with the material. More consistency in     \u001b[0m\u001b[2m \u001b[0m│\u001b[2m                                                        \u001b[0m│\n",
       "│\u001b[2m \u001b[0m\u001b[2mlecture themes would improve the course.              \u001b[0m\u001b[2m \u001b[0m│\u001b[2m                                                        \u001b[0m│\n",
       "├────────────────────────────────────────────────────────┼────────────────────────────────────────────────────────┤\n",
       "│\u001b[2m \u001b[0m\u001b[2mEcon 101 was tougher than I anticipated. The lectures \u001b[0m\u001b[2m \u001b[0m│\u001b[2m \u001b[0m\u001b[2m['Provide support for complex topics through          \u001b[0m\u001b[2m \u001b[0m│\n",
       "│\u001b[2m \u001b[0m\u001b[2mmoved too quickly through complex theories, making it \u001b[0m\u001b[2m \u001b[0m│\u001b[2m \u001b[0m\u001b[2msummaries, resources, and office hours', 'Maintain    \u001b[0m\u001b[2m \u001b[0m│\n",
       "│\u001b[2m \u001b[0m\u001b[2mhard to follow without additional self-study. I       \u001b[0m\u001b[2m \u001b[0m│\u001b[2m \u001b[0m\u001b[2mclarity and organization in lectures and grading']    \u001b[0m\u001b[2m \u001b[0m│\n",
       "│\u001b[2m \u001b[0m\u001b[2mappreciated the comprehensive reading materials       \u001b[0m\u001b[2m \u001b[0m│\u001b[2m                                                        \u001b[0m│\n",
       "│\u001b[2m \u001b[0m\u001b[2mprovided, though they could be quite dense at times.  \u001b[0m\u001b[2m \u001b[0m│\u001b[2m                                                        \u001b[0m│\n",
       "├────────────────────────────────────────────────────────┼────────────────────────────────────────────────────────┤\n",
       "│\u001b[2m \u001b[0m\u001b[2mThe professor was passionate about economics, which   \u001b[0m\u001b[2m \u001b[0m│\u001b[2m \u001b[0m\u001b[2m['Maintain clarity and organization in lectures and   \u001b[0m\u001b[2m \u001b[0m│\n",
       "│\u001b[2m \u001b[0m\u001b[2mmade learning exciting. I loved the real-life examples\u001b[0m\u001b[2m \u001b[0m│\u001b[2m \u001b[0m\u001b[2mgrading']                                             \u001b[0m\u001b[2m \u001b[0m│\n",
       "│\u001b[2m \u001b[0m\u001b[2mused to explain economic theories. However, the       \u001b[0m\u001b[2m \u001b[0m│\u001b[2m                                                        \u001b[0m│\n",
       "│\u001b[2m \u001b[0m\u001b[2mgrading seemed tough, and feedback on assignments was \u001b[0m\u001b[2m \u001b[0m│\u001b[2m                                                        \u001b[0m│\n",
       "│\u001b[2m \u001b[0m\u001b[2msometimes vague.                                      \u001b[0m\u001b[2m \u001b[0m│\u001b[2m                                                        \u001b[0m│\n",
       "├────────────────────────────────────────────────────────┼────────────────────────────────────────────────────────┤\n",
       "│\u001b[2m \u001b[0m\u001b[2mThe class was well-structured with clear expectations \u001b[0m\u001b[2m \u001b[0m│\u001b[2m \u001b[0m\u001b[2m['Introduce guest speakers from industry', 'Utilize   \u001b[0m\u001b[2m \u001b[0m│\n",
       "│\u001b[2m \u001b[0m\u001b[2mset from the start. However, the professor's lectures \u001b[0m\u001b[2m \u001b[0m│\u001b[2m \u001b[0m\u001b[2mmultimedia resources and encourage class              \u001b[0m\u001b[2m \u001b[0m│\n",
       "│\u001b[2m \u001b[0m\u001b[2mwere somewhat monotone, which made it difficult to    \u001b[0m\u001b[2m \u001b[0m│\u001b[2m \u001b[0m\u001b[2mparticipation']                                       \u001b[0m\u001b[2m \u001b[0m│\n",
       "│\u001b[2m \u001b[0m\u001b[2mmaintain focus. More engaging presentations or guest  \u001b[0m\u001b[2m \u001b[0m│\u001b[2m                                                        \u001b[0m│\n",
       "│\u001b[2m \u001b[0m\u001b[2mspeakers could liven up the content.                  \u001b[0m\u001b[2m \u001b[0m│\u001b[2m                                                        \u001b[0m│\n",
       "├────────────────────────────────────────────────────────┼────────────────────────────────────────────────────────┤\n",
       "│\u001b[2m \u001b[0m\u001b[2mAs a visual learner, I appreciated the use of charts  \u001b[0m\u001b[2m \u001b[0m│\u001b[2m \u001b[0m\u001b[2m['Foster collaborative learning with group projects   \u001b[0m\u001b[2m \u001b[0m│\n",
       "│\u001b[2m \u001b[0m\u001b[2mand graphs to explain economic concepts. The homework \u001b[0m\u001b[2m \u001b[0m│\u001b[2m \u001b[0m\u001b[2mand discussions']                                     \u001b[0m\u001b[2m \u001b[0m│\n",
       "│\u001b[2m \u001b[0m\u001b[2mwas directly related to lecture material, which       \u001b[0m\u001b[2m \u001b[0m│\u001b[2m                                                        \u001b[0m│\n",
       "│\u001b[2m \u001b[0m\u001b[2mreinforced learning. I would have liked more group    \u001b[0m\u001b[2m \u001b[0m│\u001b[2m                                                        \u001b[0m│\n",
       "│\u001b[2m \u001b[0m\u001b[2mdiscussions to hear different perspectives.           \u001b[0m\u001b[2m \u001b[0m│\u001b[2m                                                        \u001b[0m│\n",
       "├────────────────────────────────────────────────────────┼────────────────────────────────────────────────────────┤\n",
       "│\u001b[2m \u001b[0m\u001b[2mI thoroughly enjoyed this course! The professor used a\u001b[0m\u001b[2m \u001b[0m│\u001b[2m \u001b[0m\u001b[2m['Incorporate real-world examples and case studies',  \u001b[0m\u001b[2m \u001b[0m│\n",
       "│\u001b[2m \u001b[0m\u001b[2mlot of current events to illustrate economic          \u001b[0m\u001b[2m \u001b[0m│\u001b[2m \u001b[0m\u001b[2m'Enhance interactive learning with projects and       \u001b[0m\u001b[2m \u001b[0m│\n",
       "│\u001b[2m \u001b[0m\u001b[2mprinciples, which made the class engaging and         \u001b[0m\u001b[2m \u001b[0m│\u001b[2m \u001b[0m\u001b[2mactivities', 'Align curriculum with current events and\u001b[0m\u001b[2m \u001b[0m│\n",
       "│\u001b[2m \u001b[0m\u001b[2mrelevant. Group projects were a highlight, fostering a\u001b[0m\u001b[2m \u001b[0m│\u001b[2m \u001b[0m\u001b[2mreal-world applications', 'Foster collaborative       \u001b[0m\u001b[2m \u001b[0m│\n",
       "│\u001b[2m \u001b[0m\u001b[2mpractical understanding of the material.              \u001b[0m\u001b[2m \u001b[0m│\u001b[2m \u001b[0m\u001b[2mlearning with group projects and discussions']        \u001b[0m\u001b[2m \u001b[0m│\n",
       "├────────────────────────────────────────────────────────┼────────────────────────────────────────────────────────┤\n",
       "│\u001b[2m \u001b[0m\u001b[2mThe course content was interesting, but the teaching  \u001b[0m\u001b[2m \u001b[0m│\u001b[2m \u001b[0m\u001b[2m['Enhance interactive learning with projects and      \u001b[0m\u001b[2m \u001b[0m│\n",
       "│\u001b[2m \u001b[0m\u001b[2mstyle wasn’t for me. Lectures were mostly theoretical \u001b[0m\u001b[2m \u001b[0m│\u001b[2m \u001b[0m\u001b[2mactivities', 'Utilize multimedia resources and        \u001b[0m\u001b[2m \u001b[0m│\n",
       "│\u001b[2m \u001b[0m\u001b[2mwith few interactive elements, which made it hard to  \u001b[0m\u001b[2m \u001b[0m│\u001b[2m \u001b[0m\u001b[2mencourage class participation', 'Foster collaborative \u001b[0m\u001b[2m \u001b[0m│\n",
       "│\u001b[2m \u001b[0m\u001b[2mstay engaged. A more hands-on approach would have been\u001b[0m\u001b[2m \u001b[0m│\u001b[2m \u001b[0m\u001b[2mlearning with group projects and discussions', 'Adapt \u001b[0m\u001b[2m \u001b[0m│\n",
       "│\u001b[2m \u001b[0m\u001b[2mappreciated.                                          \u001b[0m\u001b[2m \u001b[0m│\u001b[2m \u001b[0m\u001b[2mteaching methods to cater to diverse learning styles']\u001b[0m\u001b[2m \u001b[0m│\n",
       "└────────────────────────────────────────────────────────┴────────────────────────────────────────────────────────┘\n"
      ]
     },
     "metadata": {},
     "output_type": "display_data"
    }
   ],
   "source": [
    "improvements_lists = q_improvements_list.by(scenarios).run()\n",
    "improvements_lists.select(\"evaluation\", \"improvements_list\").print(format=\"rich\")"
   ]
  },
  {
   "cell_type": "code",
   "execution_count": 23,
   "id": "92616cbf-8240-4077-b1b0-c335a4f7f2f9",
   "metadata": {},
   "outputs": [
    {
     "name": "stdout",
     "output_type": "stream",
     "text": [
      "                                         Improvement  Evaluations\n",
      "4  Maintain clarity and organization in lectures ...            4\n",
      "0  Foster collaborative learning with group proje...            3\n",
      "1  Utilize multimedia resources and encourage cla...            2\n",
      "2  Align curriculum with current events and real-...            2\n",
      "3   Incorporate real-world examples and case studies            2\n",
      "5  Enhance interactive learning with projects and...            2\n",
      "6  Provide support for complex topics through sum...            2\n",
      "7  Adapt teaching methods to cater to diverse lea...            1\n",
      "8             Introduce guest speakers from industry            1\n"
     ]
    }
   ],
   "source": [
    "import pandas as pd\n",
    "from collections import Counter\n",
    "\n",
    "improvements_lists = improvements_lists.select(\"improvements_list\").to_list()\n",
    "\n",
    "flat_list = [(theme, idx) for idx, themes in enumerate(improvements_lists) for theme in themes]\n",
    "count = Counter(theme for theme, idx in set(flat_list))\n",
    "\n",
    "df = pd.DataFrame(list(count.items()), columns=['Improvement', 'Evaluations'])\n",
    "print(df.sort_values(by='Evaluations', ascending=False))"
   ]
  },
  {
   "cell_type": "markdown",
   "id": "fd739dc9-da05-4e39-ae23-bce83df78c23",
   "metadata": {},
   "source": [
    "## Summarizing the review\n",
    "Here we create another question prompting the agent to summarize the analysis that was done:"
   ]
  },
  {
   "cell_type": "code",
   "execution_count": 24,
   "id": "4b6ae6f1-9ee6-46fb-a0d8-5e61acacf2e4",
   "metadata": {},
   "outputs": [
    {
     "data": {
      "text/html": [
       "<pre style=\"white-space:pre;overflow-x:auto;line-height:normal;font-family:Menlo,'DejaVu Sans Mono',consolas,'Courier New',monospace\">┏━━━━━━━━━━━━━━━━━━━━━━━━━━━━━━━━━━━━━━━━━━━━━━━━━━━━━━━━━━━━━━━━━━━━━━━━━━━━━━━━━━━━━━━━━━━━━━━━━━━━━━━━━━━━━━━━━┓\n",
       "┃<span style=\"color: #800080; text-decoration-color: #800080; font-weight: bold\"> answer                                                                                                          </span>┃\n",
       "┃<span style=\"color: #800080; text-decoration-color: #800080; font-weight: bold\"> .summary                                                                                                        </span>┃\n",
       "┡━━━━━━━━━━━━━━━━━━━━━━━━━━━━━━━━━━━━━━━━━━━━━━━━━━━━━━━━━━━━━━━━━━━━━━━━━━━━━━━━━━━━━━━━━━━━━━━━━━━━━━━━━━━━━━━━━┩\n",
       "│<span style=\"color: #7f7f7f; text-decoration-color: #7f7f7f\"> The student evaluations for the Econ 101 course suggest several areas for improvement. The most requested       </span>│\n",
       "│<span style=\"color: #7f7f7f; text-decoration-color: #7f7f7f\"> improvement, with a score of 4, is to maintain clarity and organization in lectures and grading. Students also  </span>│\n",
       "│<span style=\"color: #7f7f7f; text-decoration-color: #7f7f7f\"> see value in fostering collaborative learning through group projects and discussions, which has a score of 3.   </span>│\n",
       "│<span style=\"color: #7f7f7f; text-decoration-color: #7f7f7f\"> Various improvements with a score of 2 were suggested, such as utilizing multimedia resources, aligning the     </span>│\n",
       "│<span style=\"color: #7f7f7f; text-decoration-color: #7f7f7f\"> curriculum with current events, incorporating real-world examples, enhancing interactive learning, and          </span>│\n",
       "│<span style=\"color: #7f7f7f; text-decoration-color: #7f7f7f\"> providing additional support for complex topics. Finally, suggestions with a score of 1, which include adapting </span>│\n",
       "│<span style=\"color: #7f7f7f; text-decoration-color: #7f7f7f\"> teaching methods to diverse learning styles and introducing guest speakers from the industry, indicate areas of </span>│\n",
       "│<span style=\"color: #7f7f7f; text-decoration-color: #7f7f7f\"> potential enhancement that could enrich the learning experience.                                                </span>│\n",
       "└─────────────────────────────────────────────────────────────────────────────────────────────────────────────────┘\n",
       "</pre>\n"
      ],
      "text/plain": [
       "┏━━━━━━━━━━━━━━━━━━━━━━━━━━━━━━━━━━━━━━━━━━━━━━━━━━━━━━━━━━━━━━━━━━━━━━━━━━━━━━━━━━━━━━━━━━━━━━━━━━━━━━━━━━━━━━━━━┓\n",
       "┃\u001b[1;35m \u001b[0m\u001b[1;35manswer                                                                                                         \u001b[0m\u001b[1;35m \u001b[0m┃\n",
       "┃\u001b[1;35m \u001b[0m\u001b[1;35m.summary                                                                                                       \u001b[0m\u001b[1;35m \u001b[0m┃\n",
       "┡━━━━━━━━━━━━━━━━━━━━━━━━━━━━━━━━━━━━━━━━━━━━━━━━━━━━━━━━━━━━━━━━━━━━━━━━━━━━━━━━━━━━━━━━━━━━━━━━━━━━━━━━━━━━━━━━━┩\n",
       "│\u001b[2m \u001b[0m\u001b[2mThe student evaluations for the Econ 101 course suggest several areas for improvement. The most requested      \u001b[0m\u001b[2m \u001b[0m│\n",
       "│\u001b[2m \u001b[0m\u001b[2mimprovement, with a score of 4, is to maintain clarity and organization in lectures and grading. Students also \u001b[0m\u001b[2m \u001b[0m│\n",
       "│\u001b[2m \u001b[0m\u001b[2msee value in fostering collaborative learning through group projects and discussions, which has a score of 3.  \u001b[0m\u001b[2m \u001b[0m│\n",
       "│\u001b[2m \u001b[0m\u001b[2mVarious improvements with a score of 2 were suggested, such as utilizing multimedia resources, aligning the    \u001b[0m\u001b[2m \u001b[0m│\n",
       "│\u001b[2m \u001b[0m\u001b[2mcurriculum with current events, incorporating real-world examples, enhancing interactive learning, and         \u001b[0m\u001b[2m \u001b[0m│\n",
       "│\u001b[2m \u001b[0m\u001b[2mproviding additional support for complex topics. Finally, suggestions with a score of 1, which include adapting\u001b[0m\u001b[2m \u001b[0m│\n",
       "│\u001b[2m \u001b[0m\u001b[2mteaching methods to diverse learning styles and introducing guest speakers from the industry, indicate areas of\u001b[0m\u001b[2m \u001b[0m│\n",
       "│\u001b[2m \u001b[0m\u001b[2mpotential enhancement that could enrich the learning experience.                                               \u001b[0m\u001b[2m \u001b[0m│\n",
       "└─────────────────────────────────────────────────────────────────────────────────────────────────────────────────┘\n"
      ]
     },
     "metadata": {},
     "output_type": "display_data"
    }
   ],
   "source": [
    "from edsl.questions import QuestionFreeText\n",
    "\n",
    "q_summary = QuestionFreeText(\n",
    "    question_name = \"summary\",\n",
    "    question_text = \"\"\"Consider the following analysis of the evaluations and draft a paragraph\n",
    "    summarizing it: \"\"\" + df.to_string()\n",
    ")\n",
    "\n",
    "summary = q_summary.by(agent).run()\n",
    "summary.select(\"summary\").print(format=\"rich\")"
   ]
  }
 ],
 "metadata": {
  "kernelspec": {
   "display_name": "Python 3 (ipykernel)",
   "language": "python",
   "name": "python3"
  },
  "language_info": {
   "codemirror_mode": {
    "name": "ipython",
    "version": 3
   },
   "file_extension": ".py",
   "mimetype": "text/x-python",
   "name": "python",
   "nbconvert_exporter": "python",
   "pygments_lexer": "ipython3",
   "version": "3.11.7"
  }
 },
 "nbformat": 4,
 "nbformat_minor": 5
}
