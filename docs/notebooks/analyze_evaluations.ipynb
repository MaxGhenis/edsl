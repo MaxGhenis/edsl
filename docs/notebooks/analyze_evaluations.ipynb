{
 "cells": [
  {
   "cell_type": "markdown",
   "id": "5f7d91f1-d71a-4271-8d2b-0dc770d2deb3",
   "metadata": {},
   "source": [
    "# Analyzing course evaluations\n",
    "This notebook provides sample EDSL code for using a language model to analyze a set of course evaluations. The analysis is designed as a survey of questions about the evaluations that we prompt an AI agent to answer, using a language model to generate the responses as a dataset.\n",
    "\n",
    "[EDSL](https://pypi.org/project/edsl/) is an open-source Python package for simulating surveys and experiments with AI agents and language models. Please [see our docs](https://docs.expectedparrot.com/en/latest/index.html#) for tips on getting started."
   ]
  },
  {
   "cell_type": "markdown",
   "id": "55d3eab2-f341-468e-b23f-ff4818227d11",
   "metadata": {},
   "source": [
    "## Technical setup\n",
    "Before running the code below, please see instructions for [installing EDSL](https://docs.expectedparrot.com/en/latest/installation.html) and [storing API keys](https://docs.expectedparrot.com/en/latest/api_keys.html) for the language models that you want to use. "
   ]
  },
  {
   "cell_type": "markdown",
   "id": "1e598a51-452b-4e58-9900-52f3f8701e0b",
   "metadata": {},
   "source": [
    "## Create questions\n",
    "We start by creating questions about the evaluations for an agent to answer. EDSL comes with a [variety of question types](https://docs.expectedparrot.com/en/latest/questions.html) (multiple choice, free text, etc.) that we can choose from based on the desired format of the response (e.g., a selection from a list of options, unstructured text, etc.). We can use a `{{ placeholder }}` in each question text in order to parameterize it with each evaluation. This allows us to create different \"scenarios\" of the questions that we can administer together."
   ]
  },
  {
   "cell_type": "markdown",
   "id": "1e5b3bc0-a7b0-423c-a889-44fcbd5284be",
   "metadata": {},
   "source": [
    "Here we select some question types:"
   ]
  },
  {
   "cell_type": "code",
   "execution_count": 1,
   "id": "adb62f9a-55c9-41bf-8d5a-9230de19e85b",
   "metadata": {},
   "outputs": [],
   "source": [
    "from edsl.questions import QuestionList, QuestionMultipleChoice"
   ]
  },
  {
   "cell_type": "markdown",
   "id": "c3bb0921-8181-44d8-bf52-f51b56f2f67b",
   "metadata": {},
   "source": [
    "Here we compose some questions in the relevant question type templates (see [examples of all types](https://docs.expectedparrot.com/en/latest/questions.html#question-type-classes) in the docs):"
   ]
  },
  {
   "cell_type": "code",
   "execution_count": 2,
   "id": "62069678-8864-4a9c-b505-0d107838549e",
   "metadata": {},
   "outputs": [],
   "source": [
    "q_sentiment = QuestionMultipleChoice(\n",
    "    question_name=\"sentiment\",\n",
    "    question_text=\"What is the overall sentiment of this evaluation: {{ evaluation }}\",\n",
    "    question_options=[\"Positive\", \"Neutral\", \"Negative\"],\n",
    ")\n",
    "\n",
    "q_themes = QuestionList(\n",
    "    question_name=\"themes\",\n",
    "    question_text=\"Summarize the key points of this evaluation: {{ evaluation }}\",\n",
    "    max_list_items=3,  # Optional\n",
    ")\n",
    "\n",
    "q_improvements = QuestionList(\n",
    "    question_name=\"improvements\",\n",
    "    question_text=\"Identify areas for improvement based on this evaluation: {{ evaluation }}\",\n",
    "    max_list_items=3,\n",
    ")"
   ]
  },
  {
   "cell_type": "markdown",
   "id": "d09e20f5-284b-4be4-827c-155916aa454c",
   "metadata": {},
   "source": [
    "## Construct a survey\n",
    "Next we combine our questions into a survey. This allows us to administer the questions asynchronously (by default), or according to any desired [survey logic or rules](https://docs.expectedparrot.com/en/latest/surveys.html) that we want to add, such as skip/stop rules or giving an agent \"memories\" of other questions in the survey. Here we create a simple asynchronous survey by passing the list of questions to a `Survey` object:"
   ]
  },
  {
   "cell_type": "code",
   "execution_count": 3,
   "id": "563a34b8-5a2f-4052-b977-7d6df824d723",
   "metadata": {},
   "outputs": [],
   "source": [
    "from edsl import Survey\n",
    "\n",
    "survey = Survey(questions=[q_sentiment, q_themes, q_improvements])"
   ]
  },
  {
   "cell_type": "markdown",
   "id": "cf8b238d-8771-4477-bab9-0c49fe6c9f4b",
   "metadata": {},
   "source": [
    "## Select data for review\n",
    "Next we identify the data to be analyzed. Here we use some mock evaluations for an Econ 101 course stored as a list of texts:"
   ]
  },
  {
   "cell_type": "code",
   "execution_count": 4,
   "id": "a1deaee8-4a95-4708-adcf-754032571652",
   "metadata": {},
   "outputs": [],
   "source": [
    "evaluations = [\n",
    "    \"I found the course very engaging and informative. The professor did an excellent job breaking down complex concepts, making them accessible to those of us new to economics. However, the pace was a bit fast, and I sometimes struggled to keep up with the weekly readings.\",\n",
    "    \"This class was a struggle for me. The material felt dry and difficult to connect with real-world applications, which I think could have made it more interesting. More examples from current events would definitely have helped spark my interest.\",\n",
    "    \"Excellent introductory course! The professor was enthusiastic and always willing to offer extra help during office hours. The interactive lectures and the practical assignments made the theory much more digestible and engaging.\",\n",
    "    \"As someone with a strong background in math, I appreciated the analytical rigor of this course. However, I wish there had been more discussions that connected the theories we learned to everyday economic issues. It felt a bit isolated from practical realities at times.\",\n",
    "    \"I enjoyed the course, especially the group projects, which were both challenging and rewarding. It was great to apply economic concepts to solve real-life problems. I did feel, however, that the feedback on assignments could be more detailed to help us understand our mistakes.\",\n",
    "    \"The course content was well-organized, but the lectures were somewhat monotonous and hard to follow. I would suggest incorporating more visual aids and maybe some guest lectures from industry professionals to liven up the sessions.\",\n",
    "    \"This was my favorite class this semester! The mix of theory and case studies was perfect, and the exams were fair. I also really appreciated the diversity of perspectives we explored in class, especially in terms of global economic policies.\",\n",
    "    \"I found the textbook to be overly complex for an introductory course. It often used jargon that hadn't been explained in lectures, which was confusing. Simpler reading materials or more explanatory lectures would make a big difference for newcomers to economics.\",\n",
    "    \"The professor was knowledgeable and clearly passionate about economics, but I felt the course relied too heavily on tests rather than more creative forms of assessment. More varied assignments would make the course more accessible to students with different learning styles.\",\n",
    "    \"This class was a solid introduction to economics, though it leaned heavily on theoretical aspects. I would have liked more opportunities to discuss the real-world implications of economic theories, which I believe would enhance understanding and retention of the material.\",\n",
    "]"
   ]
  },
  {
   "cell_type": "markdown",
   "id": "d9e3b6a6-af89-428e-82ad-829374cc4d5d",
   "metadata": {},
   "source": [
    "## Add data to the questions\n",
    "Next we create a `Scenario` for each evaluation that we will add to the questions when we run the survey:"
   ]
  },
  {
   "cell_type": "code",
   "execution_count": 5,
   "id": "e4145046-278b-4c21-884f-6379108cb6d5",
   "metadata": {},
   "outputs": [],
   "source": [
    "from edsl import ScenarioList\n",
    "\n",
    "scenarios = ScenarioList.from_list(\"evaluation\", evaluations)"
   ]
  },
  {
   "cell_type": "markdown",
   "id": "66effed9-37e5-42c1-8853-65e036ffc127",
   "metadata": {},
   "source": [
    "## Design AI agents\n",
    "Next we design agents with relevant traits and personas for the model to use in answering the questions. This can be useful if we want to compare responses among different audiences. We do this by passing a dictionaries of `traits` to `Agent` objects. We can also choose whether to give an agent additional instructions for ansering the survey (independent of individual question texts). Here we create a persona for the professor of the course and pass it some special instructions:"
   ]
  },
  {
   "cell_type": "code",
   "execution_count": 6,
   "id": "dbc8f766-ce89-4824-8f23-18064ae2a732",
   "metadata": {},
   "outputs": [],
   "source": [
    "from edsl import Agent\n",
    "\n",
    "persona = (\n",
    "    \"You are a professor reviewing student evaluations for your recent Econ 101 course.\"\n",
    ")\n",
    "instruction = \"Be very specific and constructive in providing feedback and suggestions.\"\n",
    "\n",
    "agent = Agent(traits={\"persona\": persona}, instruction=instruction)"
   ]
  },
  {
   "cell_type": "markdown",
   "id": "d212593d",
   "metadata": {},
   "source": []
  },
  {
   "cell_type": "markdown",
   "id": "ded18cb2-99bb-4622-bcd5-1dd4ad2ec0c9",
   "metadata": {},
   "source": [
    "## Select language models\n",
    "EDSL works with many popular language models that we can use to generate responses for our survey. We can see a current list of all available models:"
   ]
  },
  {
   "cell_type": "code",
   "execution_count": 7,
   "id": "d0af932e-a2de-48b2-afea-9960fde8b070",
   "metadata": {},
   "outputs": [],
   "source": [
    "from edsl import Model\n",
    "# To see available models, run 'Model.available()"
   ]
  },
  {
   "cell_type": "markdown",
   "id": "7840e3d7-a6cd-4721-bd2d-b0875894c43c",
   "metadata": {},
   "source": [
    "We select models to use with a survey by creating `Model` objects for them. The default model is GPT 4 Preview, meaning that EDSL will use it to run our survey if we do not specify a different model (with API keys stored). For purposes of demontration, we'll explicitly specify this model the way that we do any other model:"
   ]
  },
  {
   "cell_type": "code",
   "execution_count": 8,
   "id": "4d1b8189-289a-4dce-834d-95acf28c7524",
   "metadata": {},
   "outputs": [],
   "source": [
    "model = Model()"
   ]
  },
  {
   "cell_type": "markdown",
   "id": "2a93cb3f-dce5-49c5-865a-b01579697103",
   "metadata": {},
   "source": [
    "Learn more about available [language models and methods](https://docs.expectedparrot.com/en/latest/language_models.html)."
   ]
  },
  {
   "cell_type": "markdown",
   "id": "2dab396d-c2fe-4827-8edd-24e9c807fe82",
   "metadata": {},
   "source": [
    "## Run the survey\n",
    "Now we add the scenarios and agent to the survey, and then run it with the specified model. This will generate a dataset of responses that we can store and begin analyzing:"
   ]
  },
  {
   "cell_type": "code",
   "execution_count": 9,
   "id": "98980a22-aafd-40f3-b9c0-c2e3de35e320",
   "metadata": {},
   "outputs": [],
   "source": [
    "results = survey.by(scenarios).by(agent).by(model).run(raise_validation_errors=True)"
   ]
  },
  {
   "cell_type": "markdown",
   "id": "5be23620-804f-4543-85c4-13d0ab9071b2",
   "metadata": {},
   "source": [
    "## Inspect the responses\n",
    "EDSL comes with [built-in methods for analyzing results](https://docs.expectedparrot.com/en/latest/results.html) in data tables, dataframes, SQL queries and other formats. We can print a list of all the components that can be accessed. Here we will just look at the first 5:"
   ]
  },
  {
   "cell_type": "code",
   "execution_count": 10,
   "id": "0b06995d-fe20-4021-80ee-ca5f62111fa1",
   "metadata": {},
   "outputs": [
    {
     "data": {
      "text/plain": [
       "['agent.agent_instruction',\n",
       " 'agent.agent_name',\n",
       " 'agent.persona',\n",
       " 'answer.improvements',\n",
       " 'answer.sentiment']"
      ]
     },
     "execution_count": 10,
     "metadata": {},
     "output_type": "execute_result"
    }
   ],
   "source": [
    "results.columns[:5]"
   ]
  },
  {
   "cell_type": "markdown",
   "id": "fc7edae4-b34e-417f-9526-1ca0dea2a30b",
   "metadata": {},
   "source": [
    "For example, we can transform the results into a dataframe:"
   ]
  },
  {
   "cell_type": "code",
   "execution_count": 11,
   "id": "d58fab0f-abb9-40be-840d-2ecc6f67138a",
   "metadata": {},
   "outputs": [
    {
     "data": {
      "text/html": [
       "<div>\n",
       "<style scoped>\n",
       "    .dataframe tbody tr th:only-of-type {\n",
       "        vertical-align: middle;\n",
       "    }\n",
       "\n",
       "    .dataframe tbody tr th {\n",
       "        vertical-align: top;\n",
       "    }\n",
       "\n",
       "    .dataframe thead th {\n",
       "        text-align: right;\n",
       "    }\n",
       "</style>\n",
       "<table border=\"1\" class=\"dataframe\">\n",
       "  <thead>\n",
       "    <tr style=\"text-align: right;\">\n",
       "      <th></th>\n",
       "      <th>answer.themes</th>\n",
       "      <th>answer.improvements</th>\n",
       "      <th>answer.sentiment</th>\n",
       "      <th>scenario.evaluation</th>\n",
       "      <th>agent.agent_name</th>\n",
       "      <th>agent.persona</th>\n",
       "      <th>agent.agent_instruction</th>\n",
       "      <th>model.temperature</th>\n",
       "      <th>model.top_logprobs</th>\n",
       "      <th>model.presence_penalty</th>\n",
       "      <th>...</th>\n",
       "      <th>question_options.themes_question_options</th>\n",
       "      <th>question_options.sentiment_question_options</th>\n",
       "      <th>question_options.improvements_question_options</th>\n",
       "      <th>question_type.sentiment_question_type</th>\n",
       "      <th>question_type.themes_question_type</th>\n",
       "      <th>question_type.improvements_question_type</th>\n",
       "      <th>comment.k_comment</th>\n",
       "      <th>generated_tokens.improvements_generated_tokens</th>\n",
       "      <th>generated_tokens.sentiment_generated_tokens</th>\n",
       "      <th>generated_tokens.themes_generated_tokens</th>\n",
       "    </tr>\n",
       "  </thead>\n",
       "  <tbody>\n",
       "    <tr>\n",
       "      <th>0</th>\n",
       "      <td>[['Engaging and informative course'], \" 'Effec...</td>\n",
       "      <td>[['Adjust the pace of the course'], \" 'Provide...</td>\n",
       "      <td>Positive</td>\n",
       "      <td>I found the course very engaging and informati...</td>\n",
       "      <td>Agent_0</td>\n",
       "      <td>You are a professor reviewing student evaluati...</td>\n",
       "      <td>Be very specific and constructive in providing...</td>\n",
       "      <td>0.5</td>\n",
       "      <td>3</td>\n",
       "      <td>0</td>\n",
       "      <td>...</td>\n",
       "      <td>NaN</td>\n",
       "      <td>['Positive', 'Neutral', 'Negative']</td>\n",
       "      <td>NaN</td>\n",
       "      <td>multiple_choice</td>\n",
       "      <td>list</td>\n",
       "      <td>list</td>\n",
       "      <td>The student found the course engaging and info...</td>\n",
       "      <td>[\"Adjust the pace of the course\", \"Provide add...</td>\n",
       "      <td>Positive\\n\\nThe student expressed appreciation...</td>\n",
       "      <td>[\"Engaging and informative course\", \"Effective...</td>\n",
       "    </tr>\n",
       "    <tr>\n",
       "      <th>1</th>\n",
       "      <td>[['Favorite class this semester'], \" 'Perfect ...</td>\n",
       "      <td>[['Increase opportunities for student particip...</td>\n",
       "      <td>Positive</td>\n",
       "      <td>This was my favorite class this semester! The ...</td>\n",
       "      <td>Agent_0</td>\n",
       "      <td>You are a professor reviewing student evaluati...</td>\n",
       "      <td>Be very specific and constructive in providing...</td>\n",
       "      <td>0.5</td>\n",
       "      <td>3</td>\n",
       "      <td>0</td>\n",
       "      <td>...</td>\n",
       "      <td>NaN</td>\n",
       "      <td>['Positive', 'Neutral', 'Negative']</td>\n",
       "      <td>NaN</td>\n",
       "      <td>multiple_choice</td>\n",
       "      <td>list</td>\n",
       "      <td>list</td>\n",
       "      <td>These areas for improvement are suggested base...</td>\n",
       "      <td>[\"Increase opportunities for student participa...</td>\n",
       "      <td>Positive\\n\\nThe evaluation highlights several ...</td>\n",
       "      <td>[\"Favorite class this semester\", \"Perfect mix ...</td>\n",
       "    </tr>\n",
       "    <tr>\n",
       "      <th>2</th>\n",
       "      <td>[['Enthusiastic professor'], \" 'Interactive le...</td>\n",
       "      <td>[['Increase variety of teaching methods'], \" '...</td>\n",
       "      <td>Positive</td>\n",
       "      <td>Excellent introductory course! The professor w...</td>\n",
       "      <td>Agent_0</td>\n",
       "      <td>You are a professor reviewing student evaluati...</td>\n",
       "      <td>Be very specific and constructive in providing...</td>\n",
       "      <td>0.5</td>\n",
       "      <td>3</td>\n",
       "      <td>0</td>\n",
       "      <td>...</td>\n",
       "      <td>NaN</td>\n",
       "      <td>['Positive', 'Neutral', 'Negative']</td>\n",
       "      <td>NaN</td>\n",
       "      <td>multiple_choice</td>\n",
       "      <td>list</td>\n",
       "      <td>list</td>\n",
       "      <td>While the evaluation is overwhelmingly positiv...</td>\n",
       "      <td>[\"Increase variety of teaching methods\", \"Prov...</td>\n",
       "      <td>Positive\\n\\nThe student expressed satisfaction...</td>\n",
       "      <td>[\"Enthusiastic professor\", \"Interactive lectur...</td>\n",
       "    </tr>\n",
       "    <tr>\n",
       "      <th>3</th>\n",
       "      <td>[['Knowledgeable and passionate professor'], \"...</td>\n",
       "      <td>[['Incorporate diverse assessment methods'], \"...</td>\n",
       "      <td>Neutral</td>\n",
       "      <td>The professor was knowledgeable and clearly pa...</td>\n",
       "      <td>Agent_0</td>\n",
       "      <td>You are a professor reviewing student evaluati...</td>\n",
       "      <td>Be very specific and constructive in providing...</td>\n",
       "      <td>0.5</td>\n",
       "      <td>3</td>\n",
       "      <td>0</td>\n",
       "      <td>...</td>\n",
       "      <td>NaN</td>\n",
       "      <td>['Positive', 'Neutral', 'Negative']</td>\n",
       "      <td>NaN</td>\n",
       "      <td>multiple_choice</td>\n",
       "      <td>list</td>\n",
       "      <td>list</td>\n",
       "      <td>These suggestions aim to address the concern a...</td>\n",
       "      <td>[\"Incorporate diverse assessment methods\", \"In...</td>\n",
       "      <td>Neutral\\n\\nThe evaluation acknowledges the pro...</td>\n",
       "      <td>[\"Knowledgeable and passionate professor\", \"Co...</td>\n",
       "    </tr>\n",
       "    <tr>\n",
       "      <th>4</th>\n",
       "      <td>[['Enjoyed the course and group projects'], \" ...</td>\n",
       "      <td>[['Provide more detailed feedback on assignmen...</td>\n",
       "      <td>Positive</td>\n",
       "      <td>I enjoyed the course, especially the group pro...</td>\n",
       "      <td>Agent_0</td>\n",
       "      <td>You are a professor reviewing student evaluati...</td>\n",
       "      <td>Be very specific and constructive in providing...</td>\n",
       "      <td>0.5</td>\n",
       "      <td>3</td>\n",
       "      <td>0</td>\n",
       "      <td>...</td>\n",
       "      <td>NaN</td>\n",
       "      <td>['Positive', 'Neutral', 'Negative']</td>\n",
       "      <td>NaN</td>\n",
       "      <td>multiple_choice</td>\n",
       "      <td>list</td>\n",
       "      <td>list</td>\n",
       "      <td>The evaluation highlights a need for more deta...</td>\n",
       "      <td>[\"Provide more detailed feedback on assignment...</td>\n",
       "      <td>Positive\\n\\nThe student expressed enjoyment of...</td>\n",
       "      <td>[\"Enjoyed the course and group projects\", \"App...</td>\n",
       "    </tr>\n",
       "  </tbody>\n",
       "</table>\n",
       "<p>5 rows × 44 columns</p>\n",
       "</div>"
      ],
      "text/plain": [
       "                                       answer.themes  \\\n",
       "0  [['Engaging and informative course'], \" 'Effec...   \n",
       "1  [['Favorite class this semester'], \" 'Perfect ...   \n",
       "2  [['Enthusiastic professor'], \" 'Interactive le...   \n",
       "3  [['Knowledgeable and passionate professor'], \"...   \n",
       "4  [['Enjoyed the course and group projects'], \" ...   \n",
       "\n",
       "                                 answer.improvements answer.sentiment  \\\n",
       "0  [['Adjust the pace of the course'], \" 'Provide...         Positive   \n",
       "1  [['Increase opportunities for student particip...         Positive   \n",
       "2  [['Increase variety of teaching methods'], \" '...         Positive   \n",
       "3  [['Incorporate diverse assessment methods'], \"...          Neutral   \n",
       "4  [['Provide more detailed feedback on assignmen...         Positive   \n",
       "\n",
       "                                 scenario.evaluation agent.agent_name  \\\n",
       "0  I found the course very engaging and informati...          Agent_0   \n",
       "1  This was my favorite class this semester! The ...          Agent_0   \n",
       "2  Excellent introductory course! The professor w...          Agent_0   \n",
       "3  The professor was knowledgeable and clearly pa...          Agent_0   \n",
       "4  I enjoyed the course, especially the group pro...          Agent_0   \n",
       "\n",
       "                                       agent.persona  \\\n",
       "0  You are a professor reviewing student evaluati...   \n",
       "1  You are a professor reviewing student evaluati...   \n",
       "2  You are a professor reviewing student evaluati...   \n",
       "3  You are a professor reviewing student evaluati...   \n",
       "4  You are a professor reviewing student evaluati...   \n",
       "\n",
       "                             agent.agent_instruction  model.temperature  \\\n",
       "0  Be very specific and constructive in providing...                0.5   \n",
       "1  Be very specific and constructive in providing...                0.5   \n",
       "2  Be very specific and constructive in providing...                0.5   \n",
       "3  Be very specific and constructive in providing...                0.5   \n",
       "4  Be very specific and constructive in providing...                0.5   \n",
       "\n",
       "   model.top_logprobs  model.presence_penalty  ...  \\\n",
       "0                   3                       0  ...   \n",
       "1                   3                       0  ...   \n",
       "2                   3                       0  ...   \n",
       "3                   3                       0  ...   \n",
       "4                   3                       0  ...   \n",
       "\n",
       "   question_options.themes_question_options  \\\n",
       "0                                       NaN   \n",
       "1                                       NaN   \n",
       "2                                       NaN   \n",
       "3                                       NaN   \n",
       "4                                       NaN   \n",
       "\n",
       "   question_options.sentiment_question_options  \\\n",
       "0          ['Positive', 'Neutral', 'Negative']   \n",
       "1          ['Positive', 'Neutral', 'Negative']   \n",
       "2          ['Positive', 'Neutral', 'Negative']   \n",
       "3          ['Positive', 'Neutral', 'Negative']   \n",
       "4          ['Positive', 'Neutral', 'Negative']   \n",
       "\n",
       "   question_options.improvements_question_options  \\\n",
       "0                                             NaN   \n",
       "1                                             NaN   \n",
       "2                                             NaN   \n",
       "3                                             NaN   \n",
       "4                                             NaN   \n",
       "\n",
       "   question_type.sentiment_question_type question_type.themes_question_type  \\\n",
       "0                        multiple_choice                               list   \n",
       "1                        multiple_choice                               list   \n",
       "2                        multiple_choice                               list   \n",
       "3                        multiple_choice                               list   \n",
       "4                        multiple_choice                               list   \n",
       "\n",
       "  question_type.improvements_question_type  \\\n",
       "0                                     list   \n",
       "1                                     list   \n",
       "2                                     list   \n",
       "3                                     list   \n",
       "4                                     list   \n",
       "\n",
       "                                   comment.k_comment  \\\n",
       "0  The student found the course engaging and info...   \n",
       "1  These areas for improvement are suggested base...   \n",
       "2  While the evaluation is overwhelmingly positiv...   \n",
       "3  These suggestions aim to address the concern a...   \n",
       "4  The evaluation highlights a need for more deta...   \n",
       "\n",
       "      generated_tokens.improvements_generated_tokens  \\\n",
       "0  [\"Adjust the pace of the course\", \"Provide add...   \n",
       "1  [\"Increase opportunities for student participa...   \n",
       "2  [\"Increase variety of teaching methods\", \"Prov...   \n",
       "3  [\"Incorporate diverse assessment methods\", \"In...   \n",
       "4  [\"Provide more detailed feedback on assignment...   \n",
       "\n",
       "         generated_tokens.sentiment_generated_tokens  \\\n",
       "0  Positive\\n\\nThe student expressed appreciation...   \n",
       "1  Positive\\n\\nThe evaluation highlights several ...   \n",
       "2  Positive\\n\\nThe student expressed satisfaction...   \n",
       "3  Neutral\\n\\nThe evaluation acknowledges the pro...   \n",
       "4  Positive\\n\\nThe student expressed enjoyment of...   \n",
       "\n",
       "            generated_tokens.themes_generated_tokens  \n",
       "0  [\"Engaging and informative course\", \"Effective...  \n",
       "1  [\"Favorite class this semester\", \"Perfect mix ...  \n",
       "2  [\"Enthusiastic professor\", \"Interactive lectur...  \n",
       "3  [\"Knowledgeable and passionate professor\", \"Co...  \n",
       "4  [\"Enjoyed the course and group projects\", \"App...  \n",
       "\n",
       "[5 rows x 44 columns]"
      ]
     },
     "execution_count": 11,
     "metadata": {},
     "output_type": "execute_result"
    }
   ],
   "source": [
    "df = results.to_pandas()\n",
    "df.head()"
   ]
  },
  {
   "cell_type": "markdown",
   "id": "72755341-f2fb-4b93-8467-3a0f57d429c3",
   "metadata": {},
   "source": [
    "Here we select just the responses to the questions and display them in a table:"
   ]
  },
  {
   "cell_type": "code",
   "execution_count": 10,
   "id": "8b105f11-0cb0-45af-a7e7-f77c6d5becd1",
   "metadata": {},
   "outputs": [
    {
     "data": {
      "text/html": [
       "<pre style=\"white-space:pre;overflow-x:auto;line-height:normal;font-family:Menlo,'DejaVu Sans Mono',consolas,'Courier New',monospace\">┏━━━━━━━━━━━━┳━━━━━━━━━━━━━━━━━━━━━━━━━━━━━━━━━┳━━━━━━━━━━━━━━━━━━━━━━━━━━━━━━━━┳━━━━━━━━━━━━━━━━━━━━━━━━━━━━━━━━━┓\n",
       "┃<span style=\"color: #800080; text-decoration-color: #800080; font-weight: bold\"> answer     </span>┃<span style=\"color: #800080; text-decoration-color: #800080; font-weight: bold\"> answer                          </span>┃<span style=\"color: #800080; text-decoration-color: #800080; font-weight: bold\"> generated_tokens               </span>┃<span style=\"color: #800080; text-decoration-color: #800080; font-weight: bold\"> answer                          </span>┃\n",
       "┃<span style=\"color: #800080; text-decoration-color: #800080; font-weight: bold\"> .sentiment </span>┃<span style=\"color: #800080; text-decoration-color: #800080; font-weight: bold\"> .themes                         </span>┃<span style=\"color: #800080; text-decoration-color: #800080; font-weight: bold\"> .themes_generated_tokens       </span>┃<span style=\"color: #800080; text-decoration-color: #800080; font-weight: bold\"> .improvements                   </span>┃\n",
       "┡━━━━━━━━━━━━╇━━━━━━━━━━━━━━━━━━━━━━━━━━━━━━━━━╇━━━━━━━━━━━━━━━━━━━━━━━━━━━━━━━━╇━━━━━━━━━━━━━━━━━━━━━━━━━━━━━━━━━┩\n",
       "│<span style=\"color: #7f7f7f; text-decoration-color: #7f7f7f\"> Neutral    </span>│<span style=\"color: #7f7f7f; text-decoration-color: #7f7f7f\"> ['Knowledgeable and passionate  </span>│<span style=\"color: #7f7f7f; text-decoration-color: #7f7f7f\"> [\"Knowledgeable and passionate </span>│<span style=\"color: #7f7f7f; text-decoration-color: #7f7f7f\"> ['Incorporate diverse           </span>│\n",
       "│<span style=\"color: #7f7f7f; text-decoration-color: #7f7f7f\">            </span>│<span style=\"color: #7f7f7f; text-decoration-color: #7f7f7f\"> professor', 'Course relied too  </span>│<span style=\"color: #7f7f7f; text-decoration-color: #7f7f7f\"> professor\", \"Course relied too </span>│<span style=\"color: #7f7f7f; text-decoration-color: #7f7f7f\"> assessment methods', 'Include   </span>│\n",
       "│<span style=\"color: #7f7f7f; text-decoration-color: #7f7f7f\">            </span>│<span style=\"color: #7f7f7f; text-decoration-color: #7f7f7f\"> heavily on tests', 'Need for    </span>│<span style=\"color: #7f7f7f; text-decoration-color: #7f7f7f\"> heavily on tests\", \"Need for   </span>│<span style=\"color: #7f7f7f; text-decoration-color: #7f7f7f\"> more project-based              </span>│\n",
       "│<span style=\"color: #7f7f7f; text-decoration-color: #7f7f7f\">            </span>│<span style=\"color: #7f7f7f; text-decoration-color: #7f7f7f\"> more varied assignments']       </span>│<span style=\"color: #7f7f7f; text-decoration-color: #7f7f7f\"> more varied assignments\"]      </span>│<span style=\"color: #7f7f7f; text-decoration-color: #7f7f7f\"> assignments', 'Offer            </span>│\n",
       "│<span style=\"color: #7f7f7f; text-decoration-color: #7f7f7f\">            </span>│<span style=\"color: #7f7f7f; text-decoration-color: #7f7f7f\">                                 </span>│<span style=\"color: #7f7f7f; text-decoration-color: #7f7f7f\">                                </span>│<span style=\"color: #7f7f7f; text-decoration-color: #7f7f7f\"> alternative evaluation          </span>│\n",
       "│<span style=\"color: #7f7f7f; text-decoration-color: #7f7f7f\">            </span>│<span style=\"color: #7f7f7f; text-decoration-color: #7f7f7f\">                                 </span>│<span style=\"color: #7f7f7f; text-decoration-color: #7f7f7f\"> This summary captures the      </span>│<span style=\"color: #7f7f7f; text-decoration-color: #7f7f7f\"> options']                       </span>│\n",
       "│<span style=\"color: #7f7f7f; text-decoration-color: #7f7f7f\">            </span>│<span style=\"color: #7f7f7f; text-decoration-color: #7f7f7f\">                                 </span>│<span style=\"color: #7f7f7f; text-decoration-color: #7f7f7f\"> student's appreciation for the </span>│<span style=\"color: #7f7f7f; text-decoration-color: #7f7f7f\">                                 </span>│\n",
       "│<span style=\"color: #7f7f7f; text-decoration-color: #7f7f7f\">            </span>│<span style=\"color: #7f7f7f; text-decoration-color: #7f7f7f\">                                 </span>│<span style=\"color: #7f7f7f; text-decoration-color: #7f7f7f\"> professor's expertise and      </span>│<span style=\"color: #7f7f7f; text-decoration-color: #7f7f7f\">                                 </span>│\n",
       "│<span style=\"color: #7f7f7f; text-decoration-color: #7f7f7f\">            </span>│<span style=\"color: #7f7f7f; text-decoration-color: #7f7f7f\">                                 </span>│<span style=\"color: #7f7f7f; text-decoration-color: #7f7f7f\"> enthusiasm, their concern      </span>│<span style=\"color: #7f7f7f; text-decoration-color: #7f7f7f\">                                 </span>│\n",
       "│<span style=\"color: #7f7f7f; text-decoration-color: #7f7f7f\">            </span>│<span style=\"color: #7f7f7f; text-decoration-color: #7f7f7f\">                                 </span>│<span style=\"color: #7f7f7f; text-decoration-color: #7f7f7f\"> about the heavy reliance on    </span>│<span style=\"color: #7f7f7f; text-decoration-color: #7f7f7f\">                                 </span>│\n",
       "│<span style=\"color: #7f7f7f; text-decoration-color: #7f7f7f\">            </span>│<span style=\"color: #7f7f7f; text-decoration-color: #7f7f7f\">                                 </span>│<span style=\"color: #7f7f7f; text-decoration-color: #7f7f7f\"> tests, and their suggestion    </span>│<span style=\"color: #7f7f7f; text-decoration-color: #7f7f7f\">                                 </span>│\n",
       "│<span style=\"color: #7f7f7f; text-decoration-color: #7f7f7f\">            </span>│<span style=\"color: #7f7f7f; text-decoration-color: #7f7f7f\">                                 </span>│<span style=\"color: #7f7f7f; text-decoration-color: #7f7f7f\"> for incorporating diverse      </span>│<span style=\"color: #7f7f7f; text-decoration-color: #7f7f7f\">                                 </span>│\n",
       "│<span style=\"color: #7f7f7f; text-decoration-color: #7f7f7f\">            </span>│<span style=\"color: #7f7f7f; text-decoration-color: #7f7f7f\">                                 </span>│<span style=\"color: #7f7f7f; text-decoration-color: #7f7f7f\"> types of assignments to cater  </span>│<span style=\"color: #7f7f7f; text-decoration-color: #7f7f7f\">                                 </span>│\n",
       "│<span style=\"color: #7f7f7f; text-decoration-color: #7f7f7f\">            </span>│<span style=\"color: #7f7f7f; text-decoration-color: #7f7f7f\">                                 </span>│<span style=\"color: #7f7f7f; text-decoration-color: #7f7f7f\"> to different learning styles.  </span>│<span style=\"color: #7f7f7f; text-decoration-color: #7f7f7f\">                                 </span>│\n",
       "├────────────┼─────────────────────────────────┼────────────────────────────────┼─────────────────────────────────┤\n",
       "│<span style=\"color: #7f7f7f; text-decoration-color: #7f7f7f\"> Neutral    </span>│<span style=\"color: #7f7f7f; text-decoration-color: #7f7f7f\"> ['Solid introduction to         </span>│<span style=\"color: #7f7f7f; text-decoration-color: #7f7f7f\"> [\"Solid introduction to        </span>│<span style=\"color: #7f7f7f; text-decoration-color: #7f7f7f\"> ['Incorporate more real-world   </span>│\n",
       "│<span style=\"color: #7f7f7f; text-decoration-color: #7f7f7f\">            </span>│<span style=\"color: #7f7f7f; text-decoration-color: #7f7f7f\"> economics', 'Heavily            </span>│<span style=\"color: #7f7f7f; text-decoration-color: #7f7f7f\"> economics\", \"Heavily           </span>│<span style=\"color: #7f7f7f; text-decoration-color: #7f7f7f\"> case studies', 'Facilitate      </span>│\n",
       "│<span style=\"color: #7f7f7f; text-decoration-color: #7f7f7f\">            </span>│<span style=\"color: #7f7f7f; text-decoration-color: #7f7f7f\"> theoretical', 'Desire for more  </span>│<span style=\"color: #7f7f7f; text-decoration-color: #7f7f7f\"> theoretical\", \"Desire for more </span>│<span style=\"color: #7f7f7f; text-decoration-color: #7f7f7f\"> class discussions on practical  </span>│\n",
       "│<span style=\"color: #7f7f7f; text-decoration-color: #7f7f7f\">            </span>│<span style=\"color: #7f7f7f; text-decoration-color: #7f7f7f\"> real-world discussions']        </span>│<span style=\"color: #7f7f7f; text-decoration-color: #7f7f7f\"> real-world discussions\"]       </span>│<span style=\"color: #7f7f7f; text-decoration-color: #7f7f7f\"> applications', 'Include more    </span>│\n",
       "│<span style=\"color: #7f7f7f; text-decoration-color: #7f7f7f\">            </span>│<span style=\"color: #7f7f7f; text-decoration-color: #7f7f7f\">                                 </span>│<span style=\"color: #7f7f7f; text-decoration-color: #7f7f7f\">                                </span>│<span style=\"color: #7f7f7f; text-decoration-color: #7f7f7f\"> interactive activities and      </span>│\n",
       "│<span style=\"color: #7f7f7f; text-decoration-color: #7f7f7f\">            </span>│<span style=\"color: #7f7f7f; text-decoration-color: #7f7f7f\">                                 </span>│<span style=\"color: #7f7f7f; text-decoration-color: #7f7f7f\"> Comment: These points capture  </span>│<span style=\"color: #7f7f7f; text-decoration-color: #7f7f7f\"> projects']                      </span>│\n",
       "│<span style=\"color: #7f7f7f; text-decoration-color: #7f7f7f\">            </span>│<span style=\"color: #7f7f7f; text-decoration-color: #7f7f7f\">                                 </span>│<span style=\"color: #7f7f7f; text-decoration-color: #7f7f7f\"> the student's overall positive </span>│<span style=\"color: #7f7f7f; text-decoration-color: #7f7f7f\">                                 </span>│\n",
       "│<span style=\"color: #7f7f7f; text-decoration-color: #7f7f7f\">            </span>│<span style=\"color: #7f7f7f; text-decoration-color: #7f7f7f\">                                 </span>│<span style=\"color: #7f7f7f; text-decoration-color: #7f7f7f\"> view of the course, their      </span>│<span style=\"color: #7f7f7f; text-decoration-color: #7f7f7f\">                                 </span>│\n",
       "│<span style=\"color: #7f7f7f; text-decoration-color: #7f7f7f\">            </span>│<span style=\"color: #7f7f7f; text-decoration-color: #7f7f7f\">                                 </span>│<span style=\"color: #7f7f7f; text-decoration-color: #7f7f7f\"> observation about the          </span>│<span style=\"color: #7f7f7f; text-decoration-color: #7f7f7f\">                                 </span>│\n",
       "│<span style=\"color: #7f7f7f; text-decoration-color: #7f7f7f\">            </span>│<span style=\"color: #7f7f7f; text-decoration-color: #7f7f7f\">                                 </span>│<span style=\"color: #7f7f7f; text-decoration-color: #7f7f7f\"> theoretical focus, and their   </span>│<span style=\"color: #7f7f7f; text-decoration-color: #7f7f7f\">                                 </span>│\n",
       "│<span style=\"color: #7f7f7f; text-decoration-color: #7f7f7f\">            </span>│<span style=\"color: #7f7f7f; text-decoration-color: #7f7f7f\">                                 </span>│<span style=\"color: #7f7f7f; text-decoration-color: #7f7f7f\"> suggestion for incorporating   </span>│<span style=\"color: #7f7f7f; text-decoration-color: #7f7f7f\">                                 </span>│\n",
       "│<span style=\"color: #7f7f7f; text-decoration-color: #7f7f7f\">            </span>│<span style=\"color: #7f7f7f; text-decoration-color: #7f7f7f\">                                 </span>│<span style=\"color: #7f7f7f; text-decoration-color: #7f7f7f\"> more practical discussions to  </span>│<span style=\"color: #7f7f7f; text-decoration-color: #7f7f7f\">                                 </span>│\n",
       "│<span style=\"color: #7f7f7f; text-decoration-color: #7f7f7f\">            </span>│<span style=\"color: #7f7f7f; text-decoration-color: #7f7f7f\">                                 </span>│<span style=\"color: #7f7f7f; text-decoration-color: #7f7f7f\"> enhance learning.              </span>│<span style=\"color: #7f7f7f; text-decoration-color: #7f7f7f\">                                 </span>│\n",
       "├────────────┼─────────────────────────────────┼────────────────────────────────┼─────────────────────────────────┤\n",
       "│<span style=\"color: #7f7f7f; text-decoration-color: #7f7f7f\"> Positive   </span>│<span style=\"color: #7f7f7f; text-decoration-color: #7f7f7f\"> ['Enjoyed the course and group  </span>│<span style=\"color: #7f7f7f; text-decoration-color: #7f7f7f\"> [\"Enjoyed the course and group </span>│<span style=\"color: #7f7f7f; text-decoration-color: #7f7f7f\"> ['Provide more detailed         </span>│\n",
       "│<span style=\"color: #7f7f7f; text-decoration-color: #7f7f7f\">            </span>│<span style=\"color: #7f7f7f; text-decoration-color: #7f7f7f\"> projects', 'Appreciated         </span>│<span style=\"color: #7f7f7f; text-decoration-color: #7f7f7f\"> projects\", \"Appreciated        </span>│<span style=\"color: #7f7f7f; text-decoration-color: #7f7f7f\"> feedback on assignments',       </span>│\n",
       "│<span style=\"color: #7f7f7f; text-decoration-color: #7f7f7f\">            </span>│<span style=\"color: #7f7f7f; text-decoration-color: #7f7f7f\"> applying economic concepts to   </span>│<span style=\"color: #7f7f7f; text-decoration-color: #7f7f7f\"> applying economic concepts to  </span>│<span style=\"color: #7f7f7f; text-decoration-color: #7f7f7f\"> 'Offer additional office hours  </span>│\n",
       "│<span style=\"color: #7f7f7f; text-decoration-color: #7f7f7f\">            </span>│<span style=\"color: #7f7f7f; text-decoration-color: #7f7f7f\"> real-life problems', 'Desire    </span>│<span style=\"color: #7f7f7f; text-decoration-color: #7f7f7f\"> real-life problems\", \"Desire   </span>│<span style=\"color: #7f7f7f; text-decoration-color: #7f7f7f\"> for assignment review',         </span>│\n",
       "│<span style=\"color: #7f7f7f; text-decoration-color: #7f7f7f\">            </span>│<span style=\"color: #7f7f7f; text-decoration-color: #7f7f7f\"> for more detailed feedback on   </span>│<span style=\"color: #7f7f7f; text-decoration-color: #7f7f7f\"> for more detailed feedback on  </span>│<span style=\"color: #7f7f7f; text-decoration-color: #7f7f7f\"> 'Incorporate more examples of   </span>│\n",
       "│<span style=\"color: #7f7f7f; text-decoration-color: #7f7f7f\">            </span>│<span style=\"color: #7f7f7f; text-decoration-color: #7f7f7f\"> assignments']                   </span>│<span style=\"color: #7f7f7f; text-decoration-color: #7f7f7f\"> assignments\"]                  </span>│<span style=\"color: #7f7f7f; text-decoration-color: #7f7f7f\"> common mistakes and solutions   </span>│\n",
       "│<span style=\"color: #7f7f7f; text-decoration-color: #7f7f7f\">            </span>│<span style=\"color: #7f7f7f; text-decoration-color: #7f7f7f\">                                 </span>│<span style=\"color: #7f7f7f; text-decoration-color: #7f7f7f\">                                </span>│<span style=\"color: #7f7f7f; text-decoration-color: #7f7f7f\"> in class']                      </span>│\n",
       "│<span style=\"color: #7f7f7f; text-decoration-color: #7f7f7f\">            </span>│<span style=\"color: #7f7f7f; text-decoration-color: #7f7f7f\">                                 </span>│<span style=\"color: #7f7f7f; text-decoration-color: #7f7f7f\"> These points capture the       </span>│<span style=\"color: #7f7f7f; text-decoration-color: #7f7f7f\">                                 </span>│\n",
       "│<span style=\"color: #7f7f7f; text-decoration-color: #7f7f7f\">            </span>│<span style=\"color: #7f7f7f; text-decoration-color: #7f7f7f\">                                 </span>│<span style=\"color: #7f7f7f; text-decoration-color: #7f7f7f\"> student's overall positive     </span>│<span style=\"color: #7f7f7f; text-decoration-color: #7f7f7f\">                                 </span>│\n",
       "│<span style=\"color: #7f7f7f; text-decoration-color: #7f7f7f\">            </span>│<span style=\"color: #7f7f7f; text-decoration-color: #7f7f7f\">                                 </span>│<span style=\"color: #7f7f7f; text-decoration-color: #7f7f7f\"> experience, the specific       </span>│<span style=\"color: #7f7f7f; text-decoration-color: #7f7f7f\">                                 </span>│\n",
       "│<span style=\"color: #7f7f7f; text-decoration-color: #7f7f7f\">            </span>│<span style=\"color: #7f7f7f; text-decoration-color: #7f7f7f\">                                 </span>│<span style=\"color: #7f7f7f; text-decoration-color: #7f7f7f\"> appreciation for practical     </span>│<span style=\"color: #7f7f7f; text-decoration-color: #7f7f7f\">                                 </span>│\n",
       "│<span style=\"color: #7f7f7f; text-decoration-color: #7f7f7f\">            </span>│<span style=\"color: #7f7f7f; text-decoration-color: #7f7f7f\">                                 </span>│<span style=\"color: #7f7f7f; text-decoration-color: #7f7f7f\"> application, and the           </span>│<span style=\"color: #7f7f7f; text-decoration-color: #7f7f7f\">                                 </span>│\n",
       "│<span style=\"color: #7f7f7f; text-decoration-color: #7f7f7f\">            </span>│<span style=\"color: #7f7f7f; text-decoration-color: #7f7f7f\">                                 </span>│<span style=\"color: #7f7f7f; text-decoration-color: #7f7f7f\"> constructive criticism         </span>│<span style=\"color: #7f7f7f; text-decoration-color: #7f7f7f\">                                 </span>│\n",
       "│<span style=\"color: #7f7f7f; text-decoration-color: #7f7f7f\">            </span>│<span style=\"color: #7f7f7f; text-decoration-color: #7f7f7f\">                                 </span>│<span style=\"color: #7f7f7f; text-decoration-color: #7f7f7f\"> regarding feedback detail.     </span>│<span style=\"color: #7f7f7f; text-decoration-color: #7f7f7f\">                                 </span>│\n",
       "├────────────┼─────────────────────────────────┼────────────────────────────────┼─────────────────────────────────┤\n",
       "│<span style=\"color: #7f7f7f; text-decoration-color: #7f7f7f\"> Negative   </span>│<span style=\"color: #7f7f7f; text-decoration-color: #7f7f7f\"> ['Textbook overly complex',     </span>│<span style=\"color: #7f7f7f; text-decoration-color: #7f7f7f\"> [\"Textbook overly complex\",    </span>│<span style=\"color: #7f7f7f; text-decoration-color: #7f7f7f\"> ['Simplify textbook selection', </span>│\n",
       "│<span style=\"color: #7f7f7f; text-decoration-color: #7f7f7f\">            </span>│<span style=\"color: #7f7f7f; text-decoration-color: #7f7f7f\"> 'Jargon not explained in        </span>│<span style=\"color: #7f7f7f; text-decoration-color: #7f7f7f\"> \"Jargon not explained in       </span>│<span style=\"color: #7f7f7f; text-decoration-color: #7f7f7f\"> 'Align lecture content with     </span>│\n",
       "│<span style=\"color: #7f7f7f; text-decoration-color: #7f7f7f\">            </span>│<span style=\"color: #7f7f7f; text-decoration-color: #7f7f7f\"> lectures', 'Need for simpler    </span>│<span style=\"color: #7f7f7f; text-decoration-color: #7f7f7f\"> lectures\", \"Need for simpler   </span>│<span style=\"color: #7f7f7f; text-decoration-color: #7f7f7f\"> textbook', 'Incorporate         </span>│\n",
       "│<span style=\"color: #7f7f7f; text-decoration-color: #7f7f7f\">            </span>│<span style=\"color: #7f7f7f; text-decoration-color: #7f7f7f\"> materials or more explanatory   </span>│<span style=\"color: #7f7f7f; text-decoration-color: #7f7f7f\"> materials or more explanatory  </span>│<span style=\"color: #7f7f7f; text-decoration-color: #7f7f7f\"> additional explanatory          </span>│\n",
       "│<span style=\"color: #7f7f7f; text-decoration-color: #7f7f7f\">            </span>│<span style=\"color: #7f7f7f; text-decoration-color: #7f7f7f\"> lectures']                      </span>│<span style=\"color: #7f7f7f; text-decoration-color: #7f7f7f\"> lectures\"]                     </span>│<span style=\"color: #7f7f7f; text-decoration-color: #7f7f7f\"> materials']                     </span>│\n",
       "│<span style=\"color: #7f7f7f; text-decoration-color: #7f7f7f\">            </span>│<span style=\"color: #7f7f7f; text-decoration-color: #7f7f7f\">                                 </span>│<span style=\"color: #7f7f7f; text-decoration-color: #7f7f7f\">                                </span>│<span style=\"color: #7f7f7f; text-decoration-color: #7f7f7f\">                                 </span>│\n",
       "│<span style=\"color: #7f7f7f; text-decoration-color: #7f7f7f\">            </span>│<span style=\"color: #7f7f7f; text-decoration-color: #7f7f7f\">                                 </span>│<span style=\"color: #7f7f7f; text-decoration-color: #7f7f7f\"> These points encapsulate the   </span>│<span style=\"color: #7f7f7f; text-decoration-color: #7f7f7f\">                                 </span>│\n",
       "│<span style=\"color: #7f7f7f; text-decoration-color: #7f7f7f\">            </span>│<span style=\"color: #7f7f7f; text-decoration-color: #7f7f7f\">                                 </span>│<span style=\"color: #7f7f7f; text-decoration-color: #7f7f7f\"> main concerns: the complexity  </span>│<span style=\"color: #7f7f7f; text-decoration-color: #7f7f7f\">                                 </span>│\n",
       "│<span style=\"color: #7f7f7f; text-decoration-color: #7f7f7f\">            </span>│<span style=\"color: #7f7f7f; text-decoration-color: #7f7f7f\">                                 </span>│<span style=\"color: #7f7f7f; text-decoration-color: #7f7f7f\"> of the textbook, the lack of   </span>│<span style=\"color: #7f7f7f; text-decoration-color: #7f7f7f\">                                 </span>│\n",
       "│<span style=\"color: #7f7f7f; text-decoration-color: #7f7f7f\">            </span>│<span style=\"color: #7f7f7f; text-decoration-color: #7f7f7f\">                                 </span>│<span style=\"color: #7f7f7f; text-decoration-color: #7f7f7f\"> jargon explanation in          </span>│<span style=\"color: #7f7f7f; text-decoration-color: #7f7f7f\">                                 </span>│\n",
       "│<span style=\"color: #7f7f7f; text-decoration-color: #7f7f7f\">            </span>│<span style=\"color: #7f7f7f; text-decoration-color: #7f7f7f\">                                 </span>│<span style=\"color: #7f7f7f; text-decoration-color: #7f7f7f\"> lectures, and the suggestion   </span>│<span style=\"color: #7f7f7f; text-decoration-color: #7f7f7f\">                                 </span>│\n",
       "│<span style=\"color: #7f7f7f; text-decoration-color: #7f7f7f\">            </span>│<span style=\"color: #7f7f7f; text-decoration-color: #7f7f7f\">                                 </span>│<span style=\"color: #7f7f7f; text-decoration-color: #7f7f7f\"> for simpler materials or more  </span>│<span style=\"color: #7f7f7f; text-decoration-color: #7f7f7f\">                                 </span>│\n",
       "│<span style=\"color: #7f7f7f; text-decoration-color: #7f7f7f\">            </span>│<span style=\"color: #7f7f7f; text-decoration-color: #7f7f7f\">                                 </span>│<span style=\"color: #7f7f7f; text-decoration-color: #7f7f7f\"> detailed lectures.             </span>│<span style=\"color: #7f7f7f; text-decoration-color: #7f7f7f\">                                 </span>│\n",
       "├────────────┼─────────────────────────────────┼────────────────────────────────┼─────────────────────────────────┤\n",
       "│<span style=\"color: #7f7f7f; text-decoration-color: #7f7f7f\"> Neutral    </span>│<span style=\"color: #7f7f7f; text-decoration-color: #7f7f7f\"> ['Appreciated analytical        </span>│<span style=\"color: #7f7f7f; text-decoration-color: #7f7f7f\"> [\"Appreciated analytical       </span>│<span style=\"color: #7f7f7f; text-decoration-color: #7f7f7f\"> ['Increase real-world           </span>│\n",
       "│<span style=\"color: #7f7f7f; text-decoration-color: #7f7f7f\">            </span>│<span style=\"color: #7f7f7f; text-decoration-color: #7f7f7f\"> rigor', 'Desire for more        </span>│<span style=\"color: #7f7f7f; text-decoration-color: #7f7f7f\"> rigor\", \"Desire for more       </span>│<span style=\"color: #7f7f7f; text-decoration-color: #7f7f7f\"> application discussions',       </span>│\n",
       "│<span style=\"color: #7f7f7f; text-decoration-color: #7f7f7f\">            </span>│<span style=\"color: #7f7f7f; text-decoration-color: #7f7f7f\"> practical discussions', 'Course </span>│<span style=\"color: #7f7f7f; text-decoration-color: #7f7f7f\"> practical discussions\",        </span>│<span style=\"color: #7f7f7f; text-decoration-color: #7f7f7f\"> 'Incorporate case studies',     </span>│\n",
       "│<span style=\"color: #7f7f7f; text-decoration-color: #7f7f7f\">            </span>│<span style=\"color: #7f7f7f; text-decoration-color: #7f7f7f\"> felt isolated from real-world   </span>│<span style=\"color: #7f7f7f; text-decoration-color: #7f7f7f\"> \"Course felt isolated from     </span>│<span style=\"color: #7f7f7f; text-decoration-color: #7f7f7f\"> 'Invite guest speakers from the </span>│\n",
       "│<span style=\"color: #7f7f7f; text-decoration-color: #7f7f7f\">            </span>│<span style=\"color: #7f7f7f; text-decoration-color: #7f7f7f\"> issues']                        </span>│<span style=\"color: #7f7f7f; text-decoration-color: #7f7f7f\"> real-world issues\"]            </span>│<span style=\"color: #7f7f7f; text-decoration-color: #7f7f7f\"> industry']                      </span>│\n",
       "│<span style=\"color: #7f7f7f; text-decoration-color: #7f7f7f\">            </span>│<span style=\"color: #7f7f7f; text-decoration-color: #7f7f7f\">                                 </span>│<span style=\"color: #7f7f7f; text-decoration-color: #7f7f7f\">                                </span>│<span style=\"color: #7f7f7f; text-decoration-color: #7f7f7f\">                                 </span>│\n",
       "│<span style=\"color: #7f7f7f; text-decoration-color: #7f7f7f\">            </span>│<span style=\"color: #7f7f7f; text-decoration-color: #7f7f7f\">                                 </span>│<span style=\"color: #7f7f7f; text-decoration-color: #7f7f7f\"> These points capture the       </span>│<span style=\"color: #7f7f7f; text-decoration-color: #7f7f7f\">                                 </span>│\n",
       "│<span style=\"color: #7f7f7f; text-decoration-color: #7f7f7f\">            </span>│<span style=\"color: #7f7f7f; text-decoration-color: #7f7f7f\">                                 </span>│<span style=\"color: #7f7f7f; text-decoration-color: #7f7f7f\"> student's appreciation for the </span>│<span style=\"color: #7f7f7f; text-decoration-color: #7f7f7f\">                                 </span>│\n",
       "│<span style=\"color: #7f7f7f; text-decoration-color: #7f7f7f\">            </span>│<span style=\"color: #7f7f7f; text-decoration-color: #7f7f7f\">                                 </span>│<span style=\"color: #7f7f7f; text-decoration-color: #7f7f7f\"> course's analytical depth,     </span>│<span style=\"color: #7f7f7f; text-decoration-color: #7f7f7f\">                                 </span>│\n",
       "│<span style=\"color: #7f7f7f; text-decoration-color: #7f7f7f\">            </span>│<span style=\"color: #7f7f7f; text-decoration-color: #7f7f7f\">                                 </span>│<span style=\"color: #7f7f7f; text-decoration-color: #7f7f7f\"> their wish for more practical  </span>│<span style=\"color: #7f7f7f; text-decoration-color: #7f7f7f\">                                 </span>│\n",
       "│<span style=\"color: #7f7f7f; text-decoration-color: #7f7f7f\">            </span>│<span style=\"color: #7f7f7f; text-decoration-color: #7f7f7f\">                                 </span>│<span style=\"color: #7f7f7f; text-decoration-color: #7f7f7f\"> applications, and their        </span>│<span style=\"color: #7f7f7f; text-decoration-color: #7f7f7f\">                                 </span>│\n",
       "│<span style=\"color: #7f7f7f; text-decoration-color: #7f7f7f\">            </span>│<span style=\"color: #7f7f7f; text-decoration-color: #7f7f7f\">                                 </span>│<span style=\"color: #7f7f7f; text-decoration-color: #7f7f7f\"> feeling that the course was    </span>│<span style=\"color: #7f7f7f; text-decoration-color: #7f7f7f\">                                 </span>│\n",
       "│<span style=\"color: #7f7f7f; text-decoration-color: #7f7f7f\">            </span>│<span style=\"color: #7f7f7f; text-decoration-color: #7f7f7f\">                                 </span>│<span style=\"color: #7f7f7f; text-decoration-color: #7f7f7f\"> somewhat disconnected from     </span>│<span style=\"color: #7f7f7f; text-decoration-color: #7f7f7f\">                                 </span>│\n",
       "│<span style=\"color: #7f7f7f; text-decoration-color: #7f7f7f\">            </span>│<span style=\"color: #7f7f7f; text-decoration-color: #7f7f7f\">                                 </span>│<span style=\"color: #7f7f7f; text-decoration-color: #7f7f7f\"> real-world economic issues.    </span>│<span style=\"color: #7f7f7f; text-decoration-color: #7f7f7f\">                                 </span>│\n",
       "├────────────┼─────────────────────────────────┼────────────────────────────────┼─────────────────────────────────┤\n",
       "│<span style=\"color: #7f7f7f; text-decoration-color: #7f7f7f\"> Positive   </span>│<span style=\"color: #7f7f7f; text-decoration-color: #7f7f7f\"> ['Favorite class this           </span>│<span style=\"color: #7f7f7f; text-decoration-color: #7f7f7f\"> [\"Favorite class this          </span>│<span style=\"color: #7f7f7f; text-decoration-color: #7f7f7f\"> ['Increase opportunities for    </span>│\n",
       "│<span style=\"color: #7f7f7f; text-decoration-color: #7f7f7f\">            </span>│<span style=\"color: #7f7f7f; text-decoration-color: #7f7f7f\"> semester', 'Perfect mix of      </span>│<span style=\"color: #7f7f7f; text-decoration-color: #7f7f7f\"> semester\", \"Perfect mix of     </span>│<span style=\"color: #7f7f7f; text-decoration-color: #7f7f7f\"> student participation',         </span>│\n",
       "│<span style=\"color: #7f7f7f; text-decoration-color: #7f7f7f\">            </span>│<span style=\"color: #7f7f7f; text-decoration-color: #7f7f7f\"> theory and case studies',       </span>│<span style=\"color: #7f7f7f; text-decoration-color: #7f7f7f\"> theory and case studies\",      </span>│<span style=\"color: #7f7f7f; text-decoration-color: #7f7f7f\"> 'Enhance accessibility of       </span>│\n",
       "│<span style=\"color: #7f7f7f; text-decoration-color: #7f7f7f\">            </span>│<span style=\"color: #7f7f7f; text-decoration-color: #7f7f7f\"> 'Appreciated diversity of       </span>│<span style=\"color: #7f7f7f; text-decoration-color: #7f7f7f\"> \"Appreciated diversity of      </span>│<span style=\"color: #7f7f7f; text-decoration-color: #7f7f7f\"> course materials', 'Provide     </span>│\n",
       "│<span style=\"color: #7f7f7f; text-decoration-color: #7f7f7f\">            </span>│<span style=\"color: #7f7f7f; text-decoration-color: #7f7f7f\"> perspectives on global economic </span>│<span style=\"color: #7f7f7f; text-decoration-color: #7f7f7f\"> perspectives on global         </span>│<span style=\"color: #7f7f7f; text-decoration-color: #7f7f7f\"> more real-time feedback on      </span>│\n",
       "│<span style=\"color: #7f7f7f; text-decoration-color: #7f7f7f\">            </span>│<span style=\"color: #7f7f7f; text-decoration-color: #7f7f7f\"> policies']                      </span>│<span style=\"color: #7f7f7f; text-decoration-color: #7f7f7f\"> economic policies\"]            </span>│<span style=\"color: #7f7f7f; text-decoration-color: #7f7f7f\"> assignments']                   </span>│\n",
       "│<span style=\"color: #7f7f7f; text-decoration-color: #7f7f7f\">            </span>│<span style=\"color: #7f7f7f; text-decoration-color: #7f7f7f\">                                 </span>│<span style=\"color: #7f7f7f; text-decoration-color: #7f7f7f\">                                </span>│<span style=\"color: #7f7f7f; text-decoration-color: #7f7f7f\">                                 </span>│\n",
       "│<span style=\"color: #7f7f7f; text-decoration-color: #7f7f7f\">            </span>│<span style=\"color: #7f7f7f; text-decoration-color: #7f7f7f\">                                 </span>│<span style=\"color: #7f7f7f; text-decoration-color: #7f7f7f\"> These points highlight the     </span>│<span style=\"color: #7f7f7f; text-decoration-color: #7f7f7f\">                                 </span>│\n",
       "│<span style=\"color: #7f7f7f; text-decoration-color: #7f7f7f\">            </span>│<span style=\"color: #7f7f7f; text-decoration-color: #7f7f7f\">                                 </span>│<span style=\"color: #7f7f7f; text-decoration-color: #7f7f7f\"> student's overall satisfaction </span>│<span style=\"color: #7f7f7f; text-decoration-color: #7f7f7f\">                                 </span>│\n",
       "│<span style=\"color: #7f7f7f; text-decoration-color: #7f7f7f\">            </span>│<span style=\"color: #7f7f7f; text-decoration-color: #7f7f7f\">                                 </span>│<span style=\"color: #7f7f7f; text-decoration-color: #7f7f7f\"> with the course, the effective </span>│<span style=\"color: #7f7f7f; text-decoration-color: #7f7f7f\">                                 </span>│\n",
       "│<span style=\"color: #7f7f7f; text-decoration-color: #7f7f7f\">            </span>│<span style=\"color: #7f7f7f; text-decoration-color: #7f7f7f\">                                 </span>│<span style=\"color: #7f7f7f; text-decoration-color: #7f7f7f\"> balance of theoretical and     </span>│<span style=\"color: #7f7f7f; text-decoration-color: #7f7f7f\">                                 </span>│\n",
       "│<span style=\"color: #7f7f7f; text-decoration-color: #7f7f7f\">            </span>│<span style=\"color: #7f7f7f; text-decoration-color: #7f7f7f\">                                 </span>│<span style=\"color: #7f7f7f; text-decoration-color: #7f7f7f\"> practical content, and the     </span>│<span style=\"color: #7f7f7f; text-decoration-color: #7f7f7f\">                                 </span>│\n",
       "│<span style=\"color: #7f7f7f; text-decoration-color: #7f7f7f\">            </span>│<span style=\"color: #7f7f7f; text-decoration-color: #7f7f7f\">                                 </span>│<span style=\"color: #7f7f7f; text-decoration-color: #7f7f7f\"> inclusion of diverse global    </span>│<span style=\"color: #7f7f7f; text-decoration-color: #7f7f7f\">                                 </span>│\n",
       "│<span style=\"color: #7f7f7f; text-decoration-color: #7f7f7f\">            </span>│<span style=\"color: #7f7f7f; text-decoration-color: #7f7f7f\">                                 </span>│<span style=\"color: #7f7f7f; text-decoration-color: #7f7f7f\"> perspectives, all of which     </span>│<span style=\"color: #7f7f7f; text-decoration-color: #7f7f7f\">                                 </span>│\n",
       "│<span style=\"color: #7f7f7f; text-decoration-color: #7f7f7f\">            </span>│<span style=\"color: #7f7f7f; text-decoration-color: #7f7f7f\">                                 </span>│<span style=\"color: #7f7f7f; text-decoration-color: #7f7f7f\"> contributed to their positive  </span>│<span style=\"color: #7f7f7f; text-decoration-color: #7f7f7f\">                                 </span>│\n",
       "│<span style=\"color: #7f7f7f; text-decoration-color: #7f7f7f\">            </span>│<span style=\"color: #7f7f7f; text-decoration-color: #7f7f7f\">                                 </span>│<span style=\"color: #7f7f7f; text-decoration-color: #7f7f7f\"> experience.                    </span>│<span style=\"color: #7f7f7f; text-decoration-color: #7f7f7f\">                                 </span>│\n",
       "├────────────┼─────────────────────────────────┼────────────────────────────────┼─────────────────────────────────┤\n",
       "│<span style=\"color: #7f7f7f; text-decoration-color: #7f7f7f\"> Neutral    </span>│<span style=\"color: #7f7f7f; text-decoration-color: #7f7f7f\"> ['Well-organized course         </span>│<span style=\"color: #7f7f7f; text-decoration-color: #7f7f7f\"> [\"Well-organized course        </span>│<span style=\"color: #7f7f7f; text-decoration-color: #7f7f7f\"> ['Incorporate more visual aids  </span>│\n",
       "│<span style=\"color: #7f7f7f; text-decoration-color: #7f7f7f\">            </span>│<span style=\"color: #7f7f7f; text-decoration-color: #7f7f7f\"> content', 'Monotonous and       </span>│<span style=\"color: #7f7f7f; text-decoration-color: #7f7f7f\"> content\", \"Monotonous and      </span>│<span style=\"color: #7f7f7f; text-decoration-color: #7f7f7f\"> into lectures', 'Invite guest   </span>│\n",
       "│<span style=\"color: #7f7f7f; text-decoration-color: #7f7f7f\">            </span>│<span style=\"color: #7f7f7f; text-decoration-color: #7f7f7f\"> hard-to-follow lectures',       </span>│<span style=\"color: #7f7f7f; text-decoration-color: #7f7f7f\"> hard-to-follow lectures\",      </span>│<span style=\"color: #7f7f7f; text-decoration-color: #7f7f7f\"> lecturers from industry',       </span>│\n",
       "│<span style=\"color: #7f7f7f; text-decoration-color: #7f7f7f\">            </span>│<span style=\"color: #7f7f7f; text-decoration-color: #7f7f7f\"> 'Suggestion to incorporate      </span>│<span style=\"color: #7f7f7f; text-decoration-color: #7f7f7f\"> \"Suggestion to incorporate     </span>│<span style=\"color: #7f7f7f; text-decoration-color: #7f7f7f\"> 'Improve lecture delivery to    </span>│\n",
       "│<span style=\"color: #7f7f7f; text-decoration-color: #7f7f7f\">            </span>│<span style=\"color: #7f7f7f; text-decoration-color: #7f7f7f\"> visual aids and guest           </span>│<span style=\"color: #7f7f7f; text-decoration-color: #7f7f7f\"> visual aids and guest          </span>│<span style=\"color: #7f7f7f; text-decoration-color: #7f7f7f\"> make it more engaging']         </span>│\n",
       "│<span style=\"color: #7f7f7f; text-decoration-color: #7f7f7f\">            </span>│<span style=\"color: #7f7f7f; text-decoration-color: #7f7f7f\"> lectures']                      </span>│<span style=\"color: #7f7f7f; text-decoration-color: #7f7f7f\"> lectures\"]                     </span>│<span style=\"color: #7f7f7f; text-decoration-color: #7f7f7f\">                                 </span>│\n",
       "│<span style=\"color: #7f7f7f; text-decoration-color: #7f7f7f\">            </span>│<span style=\"color: #7f7f7f; text-decoration-color: #7f7f7f\">                                 </span>│<span style=\"color: #7f7f7f; text-decoration-color: #7f7f7f\">                                </span>│<span style=\"color: #7f7f7f; text-decoration-color: #7f7f7f\">                                 </span>│\n",
       "│<span style=\"color: #7f7f7f; text-decoration-color: #7f7f7f\">            </span>│<span style=\"color: #7f7f7f; text-decoration-color: #7f7f7f\">                                 </span>│<span style=\"color: #7f7f7f; text-decoration-color: #7f7f7f\"> These points capture the       </span>│<span style=\"color: #7f7f7f; text-decoration-color: #7f7f7f\">                                 </span>│\n",
       "│<span style=\"color: #7f7f7f; text-decoration-color: #7f7f7f\">            </span>│<span style=\"color: #7f7f7f; text-decoration-color: #7f7f7f\">                                 </span>│<span style=\"color: #7f7f7f; text-decoration-color: #7f7f7f\"> student's feedback on the      </span>│<span style=\"color: #7f7f7f; text-decoration-color: #7f7f7f\">                                 </span>│\n",
       "│<span style=\"color: #7f7f7f; text-decoration-color: #7f7f7f\">            </span>│<span style=\"color: #7f7f7f; text-decoration-color: #7f7f7f\">                                 </span>│<span style=\"color: #7f7f7f; text-decoration-color: #7f7f7f\"> structure of the course, the   </span>│<span style=\"color: #7f7f7f; text-decoration-color: #7f7f7f\">                                 </span>│\n",
       "│<span style=\"color: #7f7f7f; text-decoration-color: #7f7f7f\">            </span>│<span style=\"color: #7f7f7f; text-decoration-color: #7f7f7f\">                                 </span>│<span style=\"color: #7f7f7f; text-decoration-color: #7f7f7f\"> delivery of the lectures, and  </span>│<span style=\"color: #7f7f7f; text-decoration-color: #7f7f7f\">                                 </span>│\n",
       "│<span style=\"color: #7f7f7f; text-decoration-color: #7f7f7f\">            </span>│<span style=\"color: #7f7f7f; text-decoration-color: #7f7f7f\">                                 </span>│<span style=\"color: #7f7f7f; text-decoration-color: #7f7f7f\"> their recommendations for      </span>│<span style=\"color: #7f7f7f; text-decoration-color: #7f7f7f\">                                 </span>│\n",
       "│<span style=\"color: #7f7f7f; text-decoration-color: #7f7f7f\">            </span>│<span style=\"color: #7f7f7f; text-decoration-color: #7f7f7f\">                                 </span>│<span style=\"color: #7f7f7f; text-decoration-color: #7f7f7f\"> improvement.                   </span>│<span style=\"color: #7f7f7f; text-decoration-color: #7f7f7f\">                                 </span>│\n",
       "├────────────┼─────────────────────────────────┼────────────────────────────────┼─────────────────────────────────┤\n",
       "│<span style=\"color: #7f7f7f; text-decoration-color: #7f7f7f\"> Positive   </span>│<span style=\"color: #7f7f7f; text-decoration-color: #7f7f7f\"> ['Enthusiastic professor',      </span>│<span style=\"color: #7f7f7f; text-decoration-color: #7f7f7f\"> [\"Enthusiastic professor\",     </span>│<span style=\"color: #7f7f7f; text-decoration-color: #7f7f7f\"> ['Increase variety of teaching  </span>│\n",
       "│<span style=\"color: #7f7f7f; text-decoration-color: #7f7f7f\">            </span>│<span style=\"color: #7f7f7f; text-decoration-color: #7f7f7f\"> 'Interactive lectures',         </span>│<span style=\"color: #7f7f7f; text-decoration-color: #7f7f7f\"> \"Interactive lectures\",        </span>│<span style=\"color: #7f7f7f; text-decoration-color: #7f7f7f\"> methods', 'Provide more         </span>│\n",
       "│<span style=\"color: #7f7f7f; text-decoration-color: #7f7f7f\">            </span>│<span style=\"color: #7f7f7f; text-decoration-color: #7f7f7f\"> 'Practical assignments']        </span>│<span style=\"color: #7f7f7f; text-decoration-color: #7f7f7f\"> \"Practical assignments\"]       </span>│<span style=\"color: #7f7f7f; text-decoration-color: #7f7f7f\"> real-world examples', 'Enhance  </span>│\n",
       "│<span style=\"color: #7f7f7f; text-decoration-color: #7f7f7f\">            </span>│<span style=\"color: #7f7f7f; text-decoration-color: #7f7f7f\">                                 </span>│<span style=\"color: #7f7f7f; text-decoration-color: #7f7f7f\">                                </span>│<span style=\"color: #7f7f7f; text-decoration-color: #7f7f7f\"> feedback on assignments']       </span>│\n",
       "│<span style=\"color: #7f7f7f; text-decoration-color: #7f7f7f\">            </span>│<span style=\"color: #7f7f7f; text-decoration-color: #7f7f7f\">                                 </span>│<span style=\"color: #7f7f7f; text-decoration-color: #7f7f7f\"> These points capture the core  </span>│<span style=\"color: #7f7f7f; text-decoration-color: #7f7f7f\">                                 </span>│\n",
       "│<span style=\"color: #7f7f7f; text-decoration-color: #7f7f7f\">            </span>│<span style=\"color: #7f7f7f; text-decoration-color: #7f7f7f\">                                 </span>│<span style=\"color: #7f7f7f; text-decoration-color: #7f7f7f\"> strengths highlighted in the   </span>│<span style=\"color: #7f7f7f; text-decoration-color: #7f7f7f\">                                 </span>│\n",
       "│<span style=\"color: #7f7f7f; text-decoration-color: #7f7f7f\">            </span>│<span style=\"color: #7f7f7f; text-decoration-color: #7f7f7f\">                                 </span>│<span style=\"color: #7f7f7f; text-decoration-color: #7f7f7f\"> evaluation: the professor's    </span>│<span style=\"color: #7f7f7f; text-decoration-color: #7f7f7f\">                                 </span>│\n",
       "│<span style=\"color: #7f7f7f; text-decoration-color: #7f7f7f\">            </span>│<span style=\"color: #7f7f7f; text-decoration-color: #7f7f7f\">                                 </span>│<span style=\"color: #7f7f7f; text-decoration-color: #7f7f7f\"> enthusiasm and availability,   </span>│<span style=\"color: #7f7f7f; text-decoration-color: #7f7f7f\">                                 </span>│\n",
       "│<span style=\"color: #7f7f7f; text-decoration-color: #7f7f7f\">            </span>│<span style=\"color: #7f7f7f; text-decoration-color: #7f7f7f\">                                 </span>│<span style=\"color: #7f7f7f; text-decoration-color: #7f7f7f\"> the engaging nature of the     </span>│<span style=\"color: #7f7f7f; text-decoration-color: #7f7f7f\">                                 </span>│\n",
       "│<span style=\"color: #7f7f7f; text-decoration-color: #7f7f7f\">            </span>│<span style=\"color: #7f7f7f; text-decoration-color: #7f7f7f\">                                 </span>│<span style=\"color: #7f7f7f; text-decoration-color: #7f7f7f\"> lectures, and the              </span>│<span style=\"color: #7f7f7f; text-decoration-color: #7f7f7f\">                                 </span>│\n",
       "│<span style=\"color: #7f7f7f; text-decoration-color: #7f7f7f\">            </span>│<span style=\"color: #7f7f7f; text-decoration-color: #7f7f7f\">                                 </span>│<span style=\"color: #7f7f7f; text-decoration-color: #7f7f7f\"> effectiveness of the practical </span>│<span style=\"color: #7f7f7f; text-decoration-color: #7f7f7f\">                                 </span>│\n",
       "│<span style=\"color: #7f7f7f; text-decoration-color: #7f7f7f\">            </span>│<span style=\"color: #7f7f7f; text-decoration-color: #7f7f7f\">                                 </span>│<span style=\"color: #7f7f7f; text-decoration-color: #7f7f7f\"> assignments in making the      </span>│<span style=\"color: #7f7f7f; text-decoration-color: #7f7f7f\">                                 </span>│\n",
       "│<span style=\"color: #7f7f7f; text-decoration-color: #7f7f7f\">            </span>│<span style=\"color: #7f7f7f; text-decoration-color: #7f7f7f\">                                 </span>│<span style=\"color: #7f7f7f; text-decoration-color: #7f7f7f\"> theory accessible.             </span>│<span style=\"color: #7f7f7f; text-decoration-color: #7f7f7f\">                                 </span>│\n",
       "├────────────┼─────────────────────────────────┼────────────────────────────────┼─────────────────────────────────┤\n",
       "│<span style=\"color: #7f7f7f; text-decoration-color: #7f7f7f\"> Negative   </span>│<span style=\"color: #7f7f7f; text-decoration-color: #7f7f7f\"> ['Material felt dry and         </span>│<span style=\"color: #7f7f7f; text-decoration-color: #7f7f7f\"> [\"Material felt dry and        </span>│<span style=\"color: #7f7f7f; text-decoration-color: #7f7f7f\"> ['Incorporate more real-world   </span>│\n",
       "│<span style=\"color: #7f7f7f; text-decoration-color: #7f7f7f\">            </span>│<span style=\"color: #7f7f7f; text-decoration-color: #7f7f7f\"> difficult', 'Lacked real-world  </span>│<span style=\"color: #7f7f7f; text-decoration-color: #7f7f7f\"> difficult\", \"Lacked real-world </span>│<span style=\"color: #7f7f7f; text-decoration-color: #7f7f7f\"> applications', 'Use current     </span>│\n",
       "│<span style=\"color: #7f7f7f; text-decoration-color: #7f7f7f\">            </span>│<span style=\"color: #7f7f7f; text-decoration-color: #7f7f7f\"> applications', 'More current    </span>│<span style=\"color: #7f7f7f; text-decoration-color: #7f7f7f\"> applications\", \"More current   </span>│<span style=\"color: #7f7f7f; text-decoration-color: #7f7f7f\"> events as examples', 'Engage    </span>│\n",
       "│<span style=\"color: #7f7f7f; text-decoration-color: #7f7f7f\">            </span>│<span style=\"color: #7f7f7f; text-decoration-color: #7f7f7f\"> event examples needed']         </span>│<span style=\"color: #7f7f7f; text-decoration-color: #7f7f7f\"> event examples needed\"]        </span>│<span style=\"color: #7f7f7f; text-decoration-color: #7f7f7f\"> students with interactive       </span>│\n",
       "│<span style=\"color: #7f7f7f; text-decoration-color: #7f7f7f\">            </span>│<span style=\"color: #7f7f7f; text-decoration-color: #7f7f7f\">                                 </span>│<span style=\"color: #7f7f7f; text-decoration-color: #7f7f7f\">                                </span>│<span style=\"color: #7f7f7f; text-decoration-color: #7f7f7f\"> activities']                    </span>│\n",
       "│<span style=\"color: #7f7f7f; text-decoration-color: #7f7f7f\">            </span>│<span style=\"color: #7f7f7f; text-decoration-color: #7f7f7f\">                                 </span>│<span style=\"color: #7f7f7f; text-decoration-color: #7f7f7f\"> The student found the material </span>│<span style=\"color: #7f7f7f; text-decoration-color: #7f7f7f\">                                 </span>│\n",
       "│<span style=\"color: #7f7f7f; text-decoration-color: #7f7f7f\">            </span>│<span style=\"color: #7f7f7f; text-decoration-color: #7f7f7f\">                                 </span>│<span style=\"color: #7f7f7f; text-decoration-color: #7f7f7f\"> unengaging and hard to relate  </span>│<span style=\"color: #7f7f7f; text-decoration-color: #7f7f7f\">                                 </span>│\n",
       "│<span style=\"color: #7f7f7f; text-decoration-color: #7f7f7f\">            </span>│<span style=\"color: #7f7f7f; text-decoration-color: #7f7f7f\">                                 </span>│<span style=\"color: #7f7f7f; text-decoration-color: #7f7f7f\"> to real-life scenarios,        </span>│<span style=\"color: #7f7f7f; text-decoration-color: #7f7f7f\">                                 </span>│\n",
       "│<span style=\"color: #7f7f7f; text-decoration-color: #7f7f7f\">            </span>│<span style=\"color: #7f7f7f; text-decoration-color: #7f7f7f\">                                 </span>│<span style=\"color: #7f7f7f; text-decoration-color: #7f7f7f\"> suggesting that incorporating  </span>│<span style=\"color: #7f7f7f; text-decoration-color: #7f7f7f\">                                 </span>│\n",
       "│<span style=\"color: #7f7f7f; text-decoration-color: #7f7f7f\">            </span>│<span style=\"color: #7f7f7f; text-decoration-color: #7f7f7f\">                                 </span>│<span style=\"color: #7f7f7f; text-decoration-color: #7f7f7f\"> more examples from current     </span>│<span style=\"color: #7f7f7f; text-decoration-color: #7f7f7f\">                                 </span>│\n",
       "│<span style=\"color: #7f7f7f; text-decoration-color: #7f7f7f\">            </span>│<span style=\"color: #7f7f7f; text-decoration-color: #7f7f7f\">                                 </span>│<span style=\"color: #7f7f7f; text-decoration-color: #7f7f7f\"> events could have enhanced     </span>│<span style=\"color: #7f7f7f; text-decoration-color: #7f7f7f\">                                 </span>│\n",
       "│<span style=\"color: #7f7f7f; text-decoration-color: #7f7f7f\">            </span>│<span style=\"color: #7f7f7f; text-decoration-color: #7f7f7f\">                                 </span>│<span style=\"color: #7f7f7f; text-decoration-color: #7f7f7f\"> their interest and             </span>│<span style=\"color: #7f7f7f; text-decoration-color: #7f7f7f\">                                 </span>│\n",
       "│<span style=\"color: #7f7f7f; text-decoration-color: #7f7f7f\">            </span>│<span style=\"color: #7f7f7f; text-decoration-color: #7f7f7f\">                                 </span>│<span style=\"color: #7f7f7f; text-decoration-color: #7f7f7f\"> understanding.                 </span>│<span style=\"color: #7f7f7f; text-decoration-color: #7f7f7f\">                                 </span>│\n",
       "├────────────┼─────────────────────────────────┼────────────────────────────────┼─────────────────────────────────┤\n",
       "│<span style=\"color: #7f7f7f; text-decoration-color: #7f7f7f\"> Positive   </span>│<span style=\"color: #7f7f7f; text-decoration-color: #7f7f7f\"> ['Engaging and informative      </span>│<span style=\"color: #7f7f7f; text-decoration-color: #7f7f7f\"> [\"Engaging and informative     </span>│<span style=\"color: #7f7f7f; text-decoration-color: #7f7f7f\"> ['Adjust the pace of the        </span>│\n",
       "│<span style=\"color: #7f7f7f; text-decoration-color: #7f7f7f\">            </span>│<span style=\"color: #7f7f7f; text-decoration-color: #7f7f7f\"> course', 'Effective breakdown   </span>│<span style=\"color: #7f7f7f; text-decoration-color: #7f7f7f\"> course\", \"Effective breakdown  </span>│<span style=\"color: #7f7f7f; text-decoration-color: #7f7f7f\"> course', 'Provide additional    </span>│\n",
       "│<span style=\"color: #7f7f7f; text-decoration-color: #7f7f7f\">            </span>│<span style=\"color: #7f7f7f; text-decoration-color: #7f7f7f\"> of complex concepts', 'Pace was </span>│<span style=\"color: #7f7f7f; text-decoration-color: #7f7f7f\"> of complex concepts\", \"Pace    </span>│<span style=\"color: #7f7f7f; text-decoration-color: #7f7f7f\"> resources for difficult         </span>│\n",
       "│<span style=\"color: #7f7f7f; text-decoration-color: #7f7f7f\">            </span>│<span style=\"color: #7f7f7f; text-decoration-color: #7f7f7f\"> too fast']                      </span>│<span style=\"color: #7f7f7f; text-decoration-color: #7f7f7f\"> was too fast\"]                 </span>│<span style=\"color: #7f7f7f; text-decoration-color: #7f7f7f\"> topics', 'Offer more flexible   </span>│\n",
       "│<span style=\"color: #7f7f7f; text-decoration-color: #7f7f7f\">            </span>│<span style=\"color: #7f7f7f; text-decoration-color: #7f7f7f\">                                 </span>│<span style=\"color: #7f7f7f; text-decoration-color: #7f7f7f\">                                </span>│<span style=\"color: #7f7f7f; text-decoration-color: #7f7f7f\"> deadlines for weekly readings'] </span>│\n",
       "│<span style=\"color: #7f7f7f; text-decoration-color: #7f7f7f\">            </span>│<span style=\"color: #7f7f7f; text-decoration-color: #7f7f7f\">                                 </span>│<span style=\"color: #7f7f7f; text-decoration-color: #7f7f7f\"> The student appreciated the    </span>│<span style=\"color: #7f7f7f; text-decoration-color: #7f7f7f\">                                 </span>│\n",
       "│<span style=\"color: #7f7f7f; text-decoration-color: #7f7f7f\">            </span>│<span style=\"color: #7f7f7f; text-decoration-color: #7f7f7f\">                                 </span>│<span style=\"color: #7f7f7f; text-decoration-color: #7f7f7f\"> engaging and informative       </span>│<span style=\"color: #7f7f7f; text-decoration-color: #7f7f7f\">                                 </span>│\n",
       "│<span style=\"color: #7f7f7f; text-decoration-color: #7f7f7f\">            </span>│<span style=\"color: #7f7f7f; text-decoration-color: #7f7f7f\">                                 </span>│<span style=\"color: #7f7f7f; text-decoration-color: #7f7f7f\"> nature of the course and       </span>│<span style=\"color: #7f7f7f; text-decoration-color: #7f7f7f\">                                 </span>│\n",
       "│<span style=\"color: #7f7f7f; text-decoration-color: #7f7f7f\">            </span>│<span style=\"color: #7f7f7f; text-decoration-color: #7f7f7f\">                                 </span>│<span style=\"color: #7f7f7f; text-decoration-color: #7f7f7f\"> praised the professor's        </span>│<span style=\"color: #7f7f7f; text-decoration-color: #7f7f7f\">                                 </span>│\n",
       "│<span style=\"color: #7f7f7f; text-decoration-color: #7f7f7f\">            </span>│<span style=\"color: #7f7f7f; text-decoration-color: #7f7f7f\">                                 </span>│<span style=\"color: #7f7f7f; text-decoration-color: #7f7f7f\"> ability to simplify complex    </span>│<span style=\"color: #7f7f7f; text-decoration-color: #7f7f7f\">                                 </span>│\n",
       "│<span style=\"color: #7f7f7f; text-decoration-color: #7f7f7f\">            </span>│<span style=\"color: #7f7f7f; text-decoration-color: #7f7f7f\">                                 </span>│<span style=\"color: #7f7f7f; text-decoration-color: #7f7f7f\"> concepts. However, they felt   </span>│<span style=\"color: #7f7f7f; text-decoration-color: #7f7f7f\">                                 </span>│\n",
       "│<span style=\"color: #7f7f7f; text-decoration-color: #7f7f7f\">            </span>│<span style=\"color: #7f7f7f; text-decoration-color: #7f7f7f\">                                 </span>│<span style=\"color: #7f7f7f; text-decoration-color: #7f7f7f\"> the pace was too fast, making  </span>│<span style=\"color: #7f7f7f; text-decoration-color: #7f7f7f\">                                 </span>│\n",
       "│<span style=\"color: #7f7f7f; text-decoration-color: #7f7f7f\">            </span>│<span style=\"color: #7f7f7f; text-decoration-color: #7f7f7f\">                                 </span>│<span style=\"color: #7f7f7f; text-decoration-color: #7f7f7f\"> it difficult to keep up with   </span>│<span style=\"color: #7f7f7f; text-decoration-color: #7f7f7f\">                                 </span>│\n",
       "│<span style=\"color: #7f7f7f; text-decoration-color: #7f7f7f\">            </span>│<span style=\"color: #7f7f7f; text-decoration-color: #7f7f7f\">                                 </span>│<span style=\"color: #7f7f7f; text-decoration-color: #7f7f7f\"> the readings.                  </span>│<span style=\"color: #7f7f7f; text-decoration-color: #7f7f7f\">                                 </span>│\n",
       "└────────────┴─────────────────────────────────┴────────────────────────────────┴─────────────────────────────────┘\n",
       "</pre>\n"
      ],
      "text/plain": [
       "┏━━━━━━━━━━━━┳━━━━━━━━━━━━━━━━━━━━━━━━━━━━━━━━━┳━━━━━━━━━━━━━━━━━━━━━━━━━━━━━━━━┳━━━━━━━━━━━━━━━━━━━━━━━━━━━━━━━━━┓\n",
       "┃\u001b[1;35m \u001b[0m\u001b[1;35manswer    \u001b[0m\u001b[1;35m \u001b[0m┃\u001b[1;35m \u001b[0m\u001b[1;35manswer                         \u001b[0m\u001b[1;35m \u001b[0m┃\u001b[1;35m \u001b[0m\u001b[1;35mgenerated_tokens              \u001b[0m\u001b[1;35m \u001b[0m┃\u001b[1;35m \u001b[0m\u001b[1;35manswer                         \u001b[0m\u001b[1;35m \u001b[0m┃\n",
       "┃\u001b[1;35m \u001b[0m\u001b[1;35m.sentiment\u001b[0m\u001b[1;35m \u001b[0m┃\u001b[1;35m \u001b[0m\u001b[1;35m.themes                        \u001b[0m\u001b[1;35m \u001b[0m┃\u001b[1;35m \u001b[0m\u001b[1;35m.themes_generated_tokens      \u001b[0m\u001b[1;35m \u001b[0m┃\u001b[1;35m \u001b[0m\u001b[1;35m.improvements                  \u001b[0m\u001b[1;35m \u001b[0m┃\n",
       "┡━━━━━━━━━━━━╇━━━━━━━━━━━━━━━━━━━━━━━━━━━━━━━━━╇━━━━━━━━━━━━━━━━━━━━━━━━━━━━━━━━╇━━━━━━━━━━━━━━━━━━━━━━━━━━━━━━━━━┩\n",
       "│\u001b[2m \u001b[0m\u001b[2mNeutral   \u001b[0m\u001b[2m \u001b[0m│\u001b[2m \u001b[0m\u001b[2m['Knowledgeable and passionate \u001b[0m\u001b[2m \u001b[0m│\u001b[2m \u001b[0m\u001b[2m[\"Knowledgeable and passionate\u001b[0m\u001b[2m \u001b[0m│\u001b[2m \u001b[0m\u001b[2m['Incorporate diverse          \u001b[0m\u001b[2m \u001b[0m│\n",
       "│\u001b[2m            \u001b[0m│\u001b[2m \u001b[0m\u001b[2mprofessor', 'Course relied too \u001b[0m\u001b[2m \u001b[0m│\u001b[2m \u001b[0m\u001b[2mprofessor\", \"Course relied too\u001b[0m\u001b[2m \u001b[0m│\u001b[2m \u001b[0m\u001b[2massessment methods', 'Include  \u001b[0m\u001b[2m \u001b[0m│\n",
       "│\u001b[2m            \u001b[0m│\u001b[2m \u001b[0m\u001b[2mheavily on tests', 'Need for   \u001b[0m\u001b[2m \u001b[0m│\u001b[2m \u001b[0m\u001b[2mheavily on tests\", \"Need for  \u001b[0m\u001b[2m \u001b[0m│\u001b[2m \u001b[0m\u001b[2mmore project-based             \u001b[0m\u001b[2m \u001b[0m│\n",
       "│\u001b[2m            \u001b[0m│\u001b[2m \u001b[0m\u001b[2mmore varied assignments']      \u001b[0m\u001b[2m \u001b[0m│\u001b[2m \u001b[0m\u001b[2mmore varied assignments\"]     \u001b[0m\u001b[2m \u001b[0m│\u001b[2m \u001b[0m\u001b[2massignments', 'Offer           \u001b[0m\u001b[2m \u001b[0m│\n",
       "│\u001b[2m            \u001b[0m│\u001b[2m                                 \u001b[0m│\u001b[2m \u001b[0m\u001b[2m                              \u001b[0m\u001b[2m \u001b[0m│\u001b[2m \u001b[0m\u001b[2malternative evaluation         \u001b[0m\u001b[2m \u001b[0m│\n",
       "│\u001b[2m            \u001b[0m│\u001b[2m                                 \u001b[0m│\u001b[2m \u001b[0m\u001b[2mThis summary captures the     \u001b[0m\u001b[2m \u001b[0m│\u001b[2m \u001b[0m\u001b[2moptions']                      \u001b[0m\u001b[2m \u001b[0m│\n",
       "│\u001b[2m            \u001b[0m│\u001b[2m                                 \u001b[0m│\u001b[2m \u001b[0m\u001b[2mstudent's appreciation for the\u001b[0m\u001b[2m \u001b[0m│\u001b[2m                                 \u001b[0m│\n",
       "│\u001b[2m            \u001b[0m│\u001b[2m                                 \u001b[0m│\u001b[2m \u001b[0m\u001b[2mprofessor's expertise and     \u001b[0m\u001b[2m \u001b[0m│\u001b[2m                                 \u001b[0m│\n",
       "│\u001b[2m            \u001b[0m│\u001b[2m                                 \u001b[0m│\u001b[2m \u001b[0m\u001b[2menthusiasm, their concern     \u001b[0m\u001b[2m \u001b[0m│\u001b[2m                                 \u001b[0m│\n",
       "│\u001b[2m            \u001b[0m│\u001b[2m                                 \u001b[0m│\u001b[2m \u001b[0m\u001b[2mabout the heavy reliance on   \u001b[0m\u001b[2m \u001b[0m│\u001b[2m                                 \u001b[0m│\n",
       "│\u001b[2m            \u001b[0m│\u001b[2m                                 \u001b[0m│\u001b[2m \u001b[0m\u001b[2mtests, and their suggestion   \u001b[0m\u001b[2m \u001b[0m│\u001b[2m                                 \u001b[0m│\n",
       "│\u001b[2m            \u001b[0m│\u001b[2m                                 \u001b[0m│\u001b[2m \u001b[0m\u001b[2mfor incorporating diverse     \u001b[0m\u001b[2m \u001b[0m│\u001b[2m                                 \u001b[0m│\n",
       "│\u001b[2m            \u001b[0m│\u001b[2m                                 \u001b[0m│\u001b[2m \u001b[0m\u001b[2mtypes of assignments to cater \u001b[0m\u001b[2m \u001b[0m│\u001b[2m                                 \u001b[0m│\n",
       "│\u001b[2m            \u001b[0m│\u001b[2m                                 \u001b[0m│\u001b[2m \u001b[0m\u001b[2mto different learning styles. \u001b[0m\u001b[2m \u001b[0m│\u001b[2m                                 \u001b[0m│\n",
       "├────────────┼─────────────────────────────────┼────────────────────────────────┼─────────────────────────────────┤\n",
       "│\u001b[2m \u001b[0m\u001b[2mNeutral   \u001b[0m\u001b[2m \u001b[0m│\u001b[2m \u001b[0m\u001b[2m['Solid introduction to        \u001b[0m\u001b[2m \u001b[0m│\u001b[2m \u001b[0m\u001b[2m[\"Solid introduction to       \u001b[0m\u001b[2m \u001b[0m│\u001b[2m \u001b[0m\u001b[2m['Incorporate more real-world  \u001b[0m\u001b[2m \u001b[0m│\n",
       "│\u001b[2m            \u001b[0m│\u001b[2m \u001b[0m\u001b[2meconomics', 'Heavily           \u001b[0m\u001b[2m \u001b[0m│\u001b[2m \u001b[0m\u001b[2meconomics\", \"Heavily          \u001b[0m\u001b[2m \u001b[0m│\u001b[2m \u001b[0m\u001b[2mcase studies', 'Facilitate     \u001b[0m\u001b[2m \u001b[0m│\n",
       "│\u001b[2m            \u001b[0m│\u001b[2m \u001b[0m\u001b[2mtheoretical', 'Desire for more \u001b[0m\u001b[2m \u001b[0m│\u001b[2m \u001b[0m\u001b[2mtheoretical\", \"Desire for more\u001b[0m\u001b[2m \u001b[0m│\u001b[2m \u001b[0m\u001b[2mclass discussions on practical \u001b[0m\u001b[2m \u001b[0m│\n",
       "│\u001b[2m            \u001b[0m│\u001b[2m \u001b[0m\u001b[2mreal-world discussions']       \u001b[0m\u001b[2m \u001b[0m│\u001b[2m \u001b[0m\u001b[2mreal-world discussions\"]      \u001b[0m\u001b[2m \u001b[0m│\u001b[2m \u001b[0m\u001b[2mapplications', 'Include more   \u001b[0m\u001b[2m \u001b[0m│\n",
       "│\u001b[2m            \u001b[0m│\u001b[2m                                 \u001b[0m│\u001b[2m \u001b[0m\u001b[2m                              \u001b[0m\u001b[2m \u001b[0m│\u001b[2m \u001b[0m\u001b[2minteractive activities and     \u001b[0m\u001b[2m \u001b[0m│\n",
       "│\u001b[2m            \u001b[0m│\u001b[2m                                 \u001b[0m│\u001b[2m \u001b[0m\u001b[2mComment: These points capture \u001b[0m\u001b[2m \u001b[0m│\u001b[2m \u001b[0m\u001b[2mprojects']                     \u001b[0m\u001b[2m \u001b[0m│\n",
       "│\u001b[2m            \u001b[0m│\u001b[2m                                 \u001b[0m│\u001b[2m \u001b[0m\u001b[2mthe student's overall positive\u001b[0m\u001b[2m \u001b[0m│\u001b[2m                                 \u001b[0m│\n",
       "│\u001b[2m            \u001b[0m│\u001b[2m                                 \u001b[0m│\u001b[2m \u001b[0m\u001b[2mview of the course, their     \u001b[0m\u001b[2m \u001b[0m│\u001b[2m                                 \u001b[0m│\n",
       "│\u001b[2m            \u001b[0m│\u001b[2m                                 \u001b[0m│\u001b[2m \u001b[0m\u001b[2mobservation about the         \u001b[0m\u001b[2m \u001b[0m│\u001b[2m                                 \u001b[0m│\n",
       "│\u001b[2m            \u001b[0m│\u001b[2m                                 \u001b[0m│\u001b[2m \u001b[0m\u001b[2mtheoretical focus, and their  \u001b[0m\u001b[2m \u001b[0m│\u001b[2m                                 \u001b[0m│\n",
       "│\u001b[2m            \u001b[0m│\u001b[2m                                 \u001b[0m│\u001b[2m \u001b[0m\u001b[2msuggestion for incorporating  \u001b[0m\u001b[2m \u001b[0m│\u001b[2m                                 \u001b[0m│\n",
       "│\u001b[2m            \u001b[0m│\u001b[2m                                 \u001b[0m│\u001b[2m \u001b[0m\u001b[2mmore practical discussions to \u001b[0m\u001b[2m \u001b[0m│\u001b[2m                                 \u001b[0m│\n",
       "│\u001b[2m            \u001b[0m│\u001b[2m                                 \u001b[0m│\u001b[2m \u001b[0m\u001b[2menhance learning.             \u001b[0m\u001b[2m \u001b[0m│\u001b[2m                                 \u001b[0m│\n",
       "├────────────┼─────────────────────────────────┼────────────────────────────────┼─────────────────────────────────┤\n",
       "│\u001b[2m \u001b[0m\u001b[2mPositive  \u001b[0m\u001b[2m \u001b[0m│\u001b[2m \u001b[0m\u001b[2m['Enjoyed the course and group \u001b[0m\u001b[2m \u001b[0m│\u001b[2m \u001b[0m\u001b[2m[\"Enjoyed the course and group\u001b[0m\u001b[2m \u001b[0m│\u001b[2m \u001b[0m\u001b[2m['Provide more detailed        \u001b[0m\u001b[2m \u001b[0m│\n",
       "│\u001b[2m            \u001b[0m│\u001b[2m \u001b[0m\u001b[2mprojects', 'Appreciated        \u001b[0m\u001b[2m \u001b[0m│\u001b[2m \u001b[0m\u001b[2mprojects\", \"Appreciated       \u001b[0m\u001b[2m \u001b[0m│\u001b[2m \u001b[0m\u001b[2mfeedback on assignments',      \u001b[0m\u001b[2m \u001b[0m│\n",
       "│\u001b[2m            \u001b[0m│\u001b[2m \u001b[0m\u001b[2mapplying economic concepts to  \u001b[0m\u001b[2m \u001b[0m│\u001b[2m \u001b[0m\u001b[2mapplying economic concepts to \u001b[0m\u001b[2m \u001b[0m│\u001b[2m \u001b[0m\u001b[2m'Offer additional office hours \u001b[0m\u001b[2m \u001b[0m│\n",
       "│\u001b[2m            \u001b[0m│\u001b[2m \u001b[0m\u001b[2mreal-life problems', 'Desire   \u001b[0m\u001b[2m \u001b[0m│\u001b[2m \u001b[0m\u001b[2mreal-life problems\", \"Desire  \u001b[0m\u001b[2m \u001b[0m│\u001b[2m \u001b[0m\u001b[2mfor assignment review',        \u001b[0m\u001b[2m \u001b[0m│\n",
       "│\u001b[2m            \u001b[0m│\u001b[2m \u001b[0m\u001b[2mfor more detailed feedback on  \u001b[0m\u001b[2m \u001b[0m│\u001b[2m \u001b[0m\u001b[2mfor more detailed feedback on \u001b[0m\u001b[2m \u001b[0m│\u001b[2m \u001b[0m\u001b[2m'Incorporate more examples of  \u001b[0m\u001b[2m \u001b[0m│\n",
       "│\u001b[2m            \u001b[0m│\u001b[2m \u001b[0m\u001b[2massignments']                  \u001b[0m\u001b[2m \u001b[0m│\u001b[2m \u001b[0m\u001b[2massignments\"]                 \u001b[0m\u001b[2m \u001b[0m│\u001b[2m \u001b[0m\u001b[2mcommon mistakes and solutions  \u001b[0m\u001b[2m \u001b[0m│\n",
       "│\u001b[2m            \u001b[0m│\u001b[2m                                 \u001b[0m│\u001b[2m \u001b[0m\u001b[2m                              \u001b[0m\u001b[2m \u001b[0m│\u001b[2m \u001b[0m\u001b[2min class']                     \u001b[0m\u001b[2m \u001b[0m│\n",
       "│\u001b[2m            \u001b[0m│\u001b[2m                                 \u001b[0m│\u001b[2m \u001b[0m\u001b[2mThese points capture the      \u001b[0m\u001b[2m \u001b[0m│\u001b[2m                                 \u001b[0m│\n",
       "│\u001b[2m            \u001b[0m│\u001b[2m                                 \u001b[0m│\u001b[2m \u001b[0m\u001b[2mstudent's overall positive    \u001b[0m\u001b[2m \u001b[0m│\u001b[2m                                 \u001b[0m│\n",
       "│\u001b[2m            \u001b[0m│\u001b[2m                                 \u001b[0m│\u001b[2m \u001b[0m\u001b[2mexperience, the specific      \u001b[0m\u001b[2m \u001b[0m│\u001b[2m                                 \u001b[0m│\n",
       "│\u001b[2m            \u001b[0m│\u001b[2m                                 \u001b[0m│\u001b[2m \u001b[0m\u001b[2mappreciation for practical    \u001b[0m\u001b[2m \u001b[0m│\u001b[2m                                 \u001b[0m│\n",
       "│\u001b[2m            \u001b[0m│\u001b[2m                                 \u001b[0m│\u001b[2m \u001b[0m\u001b[2mapplication, and the          \u001b[0m\u001b[2m \u001b[0m│\u001b[2m                                 \u001b[0m│\n",
       "│\u001b[2m            \u001b[0m│\u001b[2m                                 \u001b[0m│\u001b[2m \u001b[0m\u001b[2mconstructive criticism        \u001b[0m\u001b[2m \u001b[0m│\u001b[2m                                 \u001b[0m│\n",
       "│\u001b[2m            \u001b[0m│\u001b[2m                                 \u001b[0m│\u001b[2m \u001b[0m\u001b[2mregarding feedback detail.    \u001b[0m\u001b[2m \u001b[0m│\u001b[2m                                 \u001b[0m│\n",
       "├────────────┼─────────────────────────────────┼────────────────────────────────┼─────────────────────────────────┤\n",
       "│\u001b[2m \u001b[0m\u001b[2mNegative  \u001b[0m\u001b[2m \u001b[0m│\u001b[2m \u001b[0m\u001b[2m['Textbook overly complex',    \u001b[0m\u001b[2m \u001b[0m│\u001b[2m \u001b[0m\u001b[2m[\"Textbook overly complex\",   \u001b[0m\u001b[2m \u001b[0m│\u001b[2m \u001b[0m\u001b[2m['Simplify textbook selection',\u001b[0m\u001b[2m \u001b[0m│\n",
       "│\u001b[2m            \u001b[0m│\u001b[2m \u001b[0m\u001b[2m'Jargon not explained in       \u001b[0m\u001b[2m \u001b[0m│\u001b[2m \u001b[0m\u001b[2m\"Jargon not explained in      \u001b[0m\u001b[2m \u001b[0m│\u001b[2m \u001b[0m\u001b[2m'Align lecture content with    \u001b[0m\u001b[2m \u001b[0m│\n",
       "│\u001b[2m            \u001b[0m│\u001b[2m \u001b[0m\u001b[2mlectures', 'Need for simpler   \u001b[0m\u001b[2m \u001b[0m│\u001b[2m \u001b[0m\u001b[2mlectures\", \"Need for simpler  \u001b[0m\u001b[2m \u001b[0m│\u001b[2m \u001b[0m\u001b[2mtextbook', 'Incorporate        \u001b[0m\u001b[2m \u001b[0m│\n",
       "│\u001b[2m            \u001b[0m│\u001b[2m \u001b[0m\u001b[2mmaterials or more explanatory  \u001b[0m\u001b[2m \u001b[0m│\u001b[2m \u001b[0m\u001b[2mmaterials or more explanatory \u001b[0m\u001b[2m \u001b[0m│\u001b[2m \u001b[0m\u001b[2madditional explanatory         \u001b[0m\u001b[2m \u001b[0m│\n",
       "│\u001b[2m            \u001b[0m│\u001b[2m \u001b[0m\u001b[2mlectures']                     \u001b[0m\u001b[2m \u001b[0m│\u001b[2m \u001b[0m\u001b[2mlectures\"]                    \u001b[0m\u001b[2m \u001b[0m│\u001b[2m \u001b[0m\u001b[2mmaterials']                    \u001b[0m\u001b[2m \u001b[0m│\n",
       "│\u001b[2m            \u001b[0m│\u001b[2m                                 \u001b[0m│\u001b[2m \u001b[0m\u001b[2m                              \u001b[0m\u001b[2m \u001b[0m│\u001b[2m                                 \u001b[0m│\n",
       "│\u001b[2m            \u001b[0m│\u001b[2m                                 \u001b[0m│\u001b[2m \u001b[0m\u001b[2mThese points encapsulate the  \u001b[0m\u001b[2m \u001b[0m│\u001b[2m                                 \u001b[0m│\n",
       "│\u001b[2m            \u001b[0m│\u001b[2m                                 \u001b[0m│\u001b[2m \u001b[0m\u001b[2mmain concerns: the complexity \u001b[0m\u001b[2m \u001b[0m│\u001b[2m                                 \u001b[0m│\n",
       "│\u001b[2m            \u001b[0m│\u001b[2m                                 \u001b[0m│\u001b[2m \u001b[0m\u001b[2mof the textbook, the lack of  \u001b[0m\u001b[2m \u001b[0m│\u001b[2m                                 \u001b[0m│\n",
       "│\u001b[2m            \u001b[0m│\u001b[2m                                 \u001b[0m│\u001b[2m \u001b[0m\u001b[2mjargon explanation in         \u001b[0m\u001b[2m \u001b[0m│\u001b[2m                                 \u001b[0m│\n",
       "│\u001b[2m            \u001b[0m│\u001b[2m                                 \u001b[0m│\u001b[2m \u001b[0m\u001b[2mlectures, and the suggestion  \u001b[0m\u001b[2m \u001b[0m│\u001b[2m                                 \u001b[0m│\n",
       "│\u001b[2m            \u001b[0m│\u001b[2m                                 \u001b[0m│\u001b[2m \u001b[0m\u001b[2mfor simpler materials or more \u001b[0m\u001b[2m \u001b[0m│\u001b[2m                                 \u001b[0m│\n",
       "│\u001b[2m            \u001b[0m│\u001b[2m                                 \u001b[0m│\u001b[2m \u001b[0m\u001b[2mdetailed lectures.            \u001b[0m\u001b[2m \u001b[0m│\u001b[2m                                 \u001b[0m│\n",
       "├────────────┼─────────────────────────────────┼────────────────────────────────┼─────────────────────────────────┤\n",
       "│\u001b[2m \u001b[0m\u001b[2mNeutral   \u001b[0m\u001b[2m \u001b[0m│\u001b[2m \u001b[0m\u001b[2m['Appreciated analytical       \u001b[0m\u001b[2m \u001b[0m│\u001b[2m \u001b[0m\u001b[2m[\"Appreciated analytical      \u001b[0m\u001b[2m \u001b[0m│\u001b[2m \u001b[0m\u001b[2m['Increase real-world          \u001b[0m\u001b[2m \u001b[0m│\n",
       "│\u001b[2m            \u001b[0m│\u001b[2m \u001b[0m\u001b[2mrigor', 'Desire for more       \u001b[0m\u001b[2m \u001b[0m│\u001b[2m \u001b[0m\u001b[2mrigor\", \"Desire for more      \u001b[0m\u001b[2m \u001b[0m│\u001b[2m \u001b[0m\u001b[2mapplication discussions',      \u001b[0m\u001b[2m \u001b[0m│\n",
       "│\u001b[2m            \u001b[0m│\u001b[2m \u001b[0m\u001b[2mpractical discussions', 'Course\u001b[0m\u001b[2m \u001b[0m│\u001b[2m \u001b[0m\u001b[2mpractical discussions\",       \u001b[0m\u001b[2m \u001b[0m│\u001b[2m \u001b[0m\u001b[2m'Incorporate case studies',    \u001b[0m\u001b[2m \u001b[0m│\n",
       "│\u001b[2m            \u001b[0m│\u001b[2m \u001b[0m\u001b[2mfelt isolated from real-world  \u001b[0m\u001b[2m \u001b[0m│\u001b[2m \u001b[0m\u001b[2m\"Course felt isolated from    \u001b[0m\u001b[2m \u001b[0m│\u001b[2m \u001b[0m\u001b[2m'Invite guest speakers from the\u001b[0m\u001b[2m \u001b[0m│\n",
       "│\u001b[2m            \u001b[0m│\u001b[2m \u001b[0m\u001b[2missues']                       \u001b[0m\u001b[2m \u001b[0m│\u001b[2m \u001b[0m\u001b[2mreal-world issues\"]           \u001b[0m\u001b[2m \u001b[0m│\u001b[2m \u001b[0m\u001b[2mindustry']                     \u001b[0m\u001b[2m \u001b[0m│\n",
       "│\u001b[2m            \u001b[0m│\u001b[2m                                 \u001b[0m│\u001b[2m \u001b[0m\u001b[2m                              \u001b[0m\u001b[2m \u001b[0m│\u001b[2m                                 \u001b[0m│\n",
       "│\u001b[2m            \u001b[0m│\u001b[2m                                 \u001b[0m│\u001b[2m \u001b[0m\u001b[2mThese points capture the      \u001b[0m\u001b[2m \u001b[0m│\u001b[2m                                 \u001b[0m│\n",
       "│\u001b[2m            \u001b[0m│\u001b[2m                                 \u001b[0m│\u001b[2m \u001b[0m\u001b[2mstudent's appreciation for the\u001b[0m\u001b[2m \u001b[0m│\u001b[2m                                 \u001b[0m│\n",
       "│\u001b[2m            \u001b[0m│\u001b[2m                                 \u001b[0m│\u001b[2m \u001b[0m\u001b[2mcourse's analytical depth,    \u001b[0m\u001b[2m \u001b[0m│\u001b[2m                                 \u001b[0m│\n",
       "│\u001b[2m            \u001b[0m│\u001b[2m                                 \u001b[0m│\u001b[2m \u001b[0m\u001b[2mtheir wish for more practical \u001b[0m\u001b[2m \u001b[0m│\u001b[2m                                 \u001b[0m│\n",
       "│\u001b[2m            \u001b[0m│\u001b[2m                                 \u001b[0m│\u001b[2m \u001b[0m\u001b[2mapplications, and their       \u001b[0m\u001b[2m \u001b[0m│\u001b[2m                                 \u001b[0m│\n",
       "│\u001b[2m            \u001b[0m│\u001b[2m                                 \u001b[0m│\u001b[2m \u001b[0m\u001b[2mfeeling that the course was   \u001b[0m\u001b[2m \u001b[0m│\u001b[2m                                 \u001b[0m│\n",
       "│\u001b[2m            \u001b[0m│\u001b[2m                                 \u001b[0m│\u001b[2m \u001b[0m\u001b[2msomewhat disconnected from    \u001b[0m\u001b[2m \u001b[0m│\u001b[2m                                 \u001b[0m│\n",
       "│\u001b[2m            \u001b[0m│\u001b[2m                                 \u001b[0m│\u001b[2m \u001b[0m\u001b[2mreal-world economic issues.   \u001b[0m\u001b[2m \u001b[0m│\u001b[2m                                 \u001b[0m│\n",
       "├────────────┼─────────────────────────────────┼────────────────────────────────┼─────────────────────────────────┤\n",
       "│\u001b[2m \u001b[0m\u001b[2mPositive  \u001b[0m\u001b[2m \u001b[0m│\u001b[2m \u001b[0m\u001b[2m['Favorite class this          \u001b[0m\u001b[2m \u001b[0m│\u001b[2m \u001b[0m\u001b[2m[\"Favorite class this         \u001b[0m\u001b[2m \u001b[0m│\u001b[2m \u001b[0m\u001b[2m['Increase opportunities for   \u001b[0m\u001b[2m \u001b[0m│\n",
       "│\u001b[2m            \u001b[0m│\u001b[2m \u001b[0m\u001b[2msemester', 'Perfect mix of     \u001b[0m\u001b[2m \u001b[0m│\u001b[2m \u001b[0m\u001b[2msemester\", \"Perfect mix of    \u001b[0m\u001b[2m \u001b[0m│\u001b[2m \u001b[0m\u001b[2mstudent participation',        \u001b[0m\u001b[2m \u001b[0m│\n",
       "│\u001b[2m            \u001b[0m│\u001b[2m \u001b[0m\u001b[2mtheory and case studies',      \u001b[0m\u001b[2m \u001b[0m│\u001b[2m \u001b[0m\u001b[2mtheory and case studies\",     \u001b[0m\u001b[2m \u001b[0m│\u001b[2m \u001b[0m\u001b[2m'Enhance accessibility of      \u001b[0m\u001b[2m \u001b[0m│\n",
       "│\u001b[2m            \u001b[0m│\u001b[2m \u001b[0m\u001b[2m'Appreciated diversity of      \u001b[0m\u001b[2m \u001b[0m│\u001b[2m \u001b[0m\u001b[2m\"Appreciated diversity of     \u001b[0m\u001b[2m \u001b[0m│\u001b[2m \u001b[0m\u001b[2mcourse materials', 'Provide    \u001b[0m\u001b[2m \u001b[0m│\n",
       "│\u001b[2m            \u001b[0m│\u001b[2m \u001b[0m\u001b[2mperspectives on global economic\u001b[0m\u001b[2m \u001b[0m│\u001b[2m \u001b[0m\u001b[2mperspectives on global        \u001b[0m\u001b[2m \u001b[0m│\u001b[2m \u001b[0m\u001b[2mmore real-time feedback on     \u001b[0m\u001b[2m \u001b[0m│\n",
       "│\u001b[2m            \u001b[0m│\u001b[2m \u001b[0m\u001b[2mpolicies']                     \u001b[0m\u001b[2m \u001b[0m│\u001b[2m \u001b[0m\u001b[2meconomic policies\"]           \u001b[0m\u001b[2m \u001b[0m│\u001b[2m \u001b[0m\u001b[2massignments']                  \u001b[0m\u001b[2m \u001b[0m│\n",
       "│\u001b[2m            \u001b[0m│\u001b[2m                                 \u001b[0m│\u001b[2m \u001b[0m\u001b[2m                              \u001b[0m\u001b[2m \u001b[0m│\u001b[2m                                 \u001b[0m│\n",
       "│\u001b[2m            \u001b[0m│\u001b[2m                                 \u001b[0m│\u001b[2m \u001b[0m\u001b[2mThese points highlight the    \u001b[0m\u001b[2m \u001b[0m│\u001b[2m                                 \u001b[0m│\n",
       "│\u001b[2m            \u001b[0m│\u001b[2m                                 \u001b[0m│\u001b[2m \u001b[0m\u001b[2mstudent's overall satisfaction\u001b[0m\u001b[2m \u001b[0m│\u001b[2m                                 \u001b[0m│\n",
       "│\u001b[2m            \u001b[0m│\u001b[2m                                 \u001b[0m│\u001b[2m \u001b[0m\u001b[2mwith the course, the effective\u001b[0m\u001b[2m \u001b[0m│\u001b[2m                                 \u001b[0m│\n",
       "│\u001b[2m            \u001b[0m│\u001b[2m                                 \u001b[0m│\u001b[2m \u001b[0m\u001b[2mbalance of theoretical and    \u001b[0m\u001b[2m \u001b[0m│\u001b[2m                                 \u001b[0m│\n",
       "│\u001b[2m            \u001b[0m│\u001b[2m                                 \u001b[0m│\u001b[2m \u001b[0m\u001b[2mpractical content, and the    \u001b[0m\u001b[2m \u001b[0m│\u001b[2m                                 \u001b[0m│\n",
       "│\u001b[2m            \u001b[0m│\u001b[2m                                 \u001b[0m│\u001b[2m \u001b[0m\u001b[2minclusion of diverse global   \u001b[0m\u001b[2m \u001b[0m│\u001b[2m                                 \u001b[0m│\n",
       "│\u001b[2m            \u001b[0m│\u001b[2m                                 \u001b[0m│\u001b[2m \u001b[0m\u001b[2mperspectives, all of which    \u001b[0m\u001b[2m \u001b[0m│\u001b[2m                                 \u001b[0m│\n",
       "│\u001b[2m            \u001b[0m│\u001b[2m                                 \u001b[0m│\u001b[2m \u001b[0m\u001b[2mcontributed to their positive \u001b[0m\u001b[2m \u001b[0m│\u001b[2m                                 \u001b[0m│\n",
       "│\u001b[2m            \u001b[0m│\u001b[2m                                 \u001b[0m│\u001b[2m \u001b[0m\u001b[2mexperience.                   \u001b[0m\u001b[2m \u001b[0m│\u001b[2m                                 \u001b[0m│\n",
       "├────────────┼─────────────────────────────────┼────────────────────────────────┼─────────────────────────────────┤\n",
       "│\u001b[2m \u001b[0m\u001b[2mNeutral   \u001b[0m\u001b[2m \u001b[0m│\u001b[2m \u001b[0m\u001b[2m['Well-organized course        \u001b[0m\u001b[2m \u001b[0m│\u001b[2m \u001b[0m\u001b[2m[\"Well-organized course       \u001b[0m\u001b[2m \u001b[0m│\u001b[2m \u001b[0m\u001b[2m['Incorporate more visual aids \u001b[0m\u001b[2m \u001b[0m│\n",
       "│\u001b[2m            \u001b[0m│\u001b[2m \u001b[0m\u001b[2mcontent', 'Monotonous and      \u001b[0m\u001b[2m \u001b[0m│\u001b[2m \u001b[0m\u001b[2mcontent\", \"Monotonous and     \u001b[0m\u001b[2m \u001b[0m│\u001b[2m \u001b[0m\u001b[2minto lectures', 'Invite guest  \u001b[0m\u001b[2m \u001b[0m│\n",
       "│\u001b[2m            \u001b[0m│\u001b[2m \u001b[0m\u001b[2mhard-to-follow lectures',      \u001b[0m\u001b[2m \u001b[0m│\u001b[2m \u001b[0m\u001b[2mhard-to-follow lectures\",     \u001b[0m\u001b[2m \u001b[0m│\u001b[2m \u001b[0m\u001b[2mlecturers from industry',      \u001b[0m\u001b[2m \u001b[0m│\n",
       "│\u001b[2m            \u001b[0m│\u001b[2m \u001b[0m\u001b[2m'Suggestion to incorporate     \u001b[0m\u001b[2m \u001b[0m│\u001b[2m \u001b[0m\u001b[2m\"Suggestion to incorporate    \u001b[0m\u001b[2m \u001b[0m│\u001b[2m \u001b[0m\u001b[2m'Improve lecture delivery to   \u001b[0m\u001b[2m \u001b[0m│\n",
       "│\u001b[2m            \u001b[0m│\u001b[2m \u001b[0m\u001b[2mvisual aids and guest          \u001b[0m\u001b[2m \u001b[0m│\u001b[2m \u001b[0m\u001b[2mvisual aids and guest         \u001b[0m\u001b[2m \u001b[0m│\u001b[2m \u001b[0m\u001b[2mmake it more engaging']        \u001b[0m\u001b[2m \u001b[0m│\n",
       "│\u001b[2m            \u001b[0m│\u001b[2m \u001b[0m\u001b[2mlectures']                     \u001b[0m\u001b[2m \u001b[0m│\u001b[2m \u001b[0m\u001b[2mlectures\"]                    \u001b[0m\u001b[2m \u001b[0m│\u001b[2m                                 \u001b[0m│\n",
       "│\u001b[2m            \u001b[0m│\u001b[2m                                 \u001b[0m│\u001b[2m \u001b[0m\u001b[2m                              \u001b[0m\u001b[2m \u001b[0m│\u001b[2m                                 \u001b[0m│\n",
       "│\u001b[2m            \u001b[0m│\u001b[2m                                 \u001b[0m│\u001b[2m \u001b[0m\u001b[2mThese points capture the      \u001b[0m\u001b[2m \u001b[0m│\u001b[2m                                 \u001b[0m│\n",
       "│\u001b[2m            \u001b[0m│\u001b[2m                                 \u001b[0m│\u001b[2m \u001b[0m\u001b[2mstudent's feedback on the     \u001b[0m\u001b[2m \u001b[0m│\u001b[2m                                 \u001b[0m│\n",
       "│\u001b[2m            \u001b[0m│\u001b[2m                                 \u001b[0m│\u001b[2m \u001b[0m\u001b[2mstructure of the course, the  \u001b[0m\u001b[2m \u001b[0m│\u001b[2m                                 \u001b[0m│\n",
       "│\u001b[2m            \u001b[0m│\u001b[2m                                 \u001b[0m│\u001b[2m \u001b[0m\u001b[2mdelivery of the lectures, and \u001b[0m\u001b[2m \u001b[0m│\u001b[2m                                 \u001b[0m│\n",
       "│\u001b[2m            \u001b[0m│\u001b[2m                                 \u001b[0m│\u001b[2m \u001b[0m\u001b[2mtheir recommendations for     \u001b[0m\u001b[2m \u001b[0m│\u001b[2m                                 \u001b[0m│\n",
       "│\u001b[2m            \u001b[0m│\u001b[2m                                 \u001b[0m│\u001b[2m \u001b[0m\u001b[2mimprovement.                  \u001b[0m\u001b[2m \u001b[0m│\u001b[2m                                 \u001b[0m│\n",
       "├────────────┼─────────────────────────────────┼────────────────────────────────┼─────────────────────────────────┤\n",
       "│\u001b[2m \u001b[0m\u001b[2mPositive  \u001b[0m\u001b[2m \u001b[0m│\u001b[2m \u001b[0m\u001b[2m['Enthusiastic professor',     \u001b[0m\u001b[2m \u001b[0m│\u001b[2m \u001b[0m\u001b[2m[\"Enthusiastic professor\",    \u001b[0m\u001b[2m \u001b[0m│\u001b[2m \u001b[0m\u001b[2m['Increase variety of teaching \u001b[0m\u001b[2m \u001b[0m│\n",
       "│\u001b[2m            \u001b[0m│\u001b[2m \u001b[0m\u001b[2m'Interactive lectures',        \u001b[0m\u001b[2m \u001b[0m│\u001b[2m \u001b[0m\u001b[2m\"Interactive lectures\",       \u001b[0m\u001b[2m \u001b[0m│\u001b[2m \u001b[0m\u001b[2mmethods', 'Provide more        \u001b[0m\u001b[2m \u001b[0m│\n",
       "│\u001b[2m            \u001b[0m│\u001b[2m \u001b[0m\u001b[2m'Practical assignments']       \u001b[0m\u001b[2m \u001b[0m│\u001b[2m \u001b[0m\u001b[2m\"Practical assignments\"]      \u001b[0m\u001b[2m \u001b[0m│\u001b[2m \u001b[0m\u001b[2mreal-world examples', 'Enhance \u001b[0m\u001b[2m \u001b[0m│\n",
       "│\u001b[2m            \u001b[0m│\u001b[2m                                 \u001b[0m│\u001b[2m \u001b[0m\u001b[2m                              \u001b[0m\u001b[2m \u001b[0m│\u001b[2m \u001b[0m\u001b[2mfeedback on assignments']      \u001b[0m\u001b[2m \u001b[0m│\n",
       "│\u001b[2m            \u001b[0m│\u001b[2m                                 \u001b[0m│\u001b[2m \u001b[0m\u001b[2mThese points capture the core \u001b[0m\u001b[2m \u001b[0m│\u001b[2m                                 \u001b[0m│\n",
       "│\u001b[2m            \u001b[0m│\u001b[2m                                 \u001b[0m│\u001b[2m \u001b[0m\u001b[2mstrengths highlighted in the  \u001b[0m\u001b[2m \u001b[0m│\u001b[2m                                 \u001b[0m│\n",
       "│\u001b[2m            \u001b[0m│\u001b[2m                                 \u001b[0m│\u001b[2m \u001b[0m\u001b[2mevaluation: the professor's   \u001b[0m\u001b[2m \u001b[0m│\u001b[2m                                 \u001b[0m│\n",
       "│\u001b[2m            \u001b[0m│\u001b[2m                                 \u001b[0m│\u001b[2m \u001b[0m\u001b[2menthusiasm and availability,  \u001b[0m\u001b[2m \u001b[0m│\u001b[2m                                 \u001b[0m│\n",
       "│\u001b[2m            \u001b[0m│\u001b[2m                                 \u001b[0m│\u001b[2m \u001b[0m\u001b[2mthe engaging nature of the    \u001b[0m\u001b[2m \u001b[0m│\u001b[2m                                 \u001b[0m│\n",
       "│\u001b[2m            \u001b[0m│\u001b[2m                                 \u001b[0m│\u001b[2m \u001b[0m\u001b[2mlectures, and the             \u001b[0m\u001b[2m \u001b[0m│\u001b[2m                                 \u001b[0m│\n",
       "│\u001b[2m            \u001b[0m│\u001b[2m                                 \u001b[0m│\u001b[2m \u001b[0m\u001b[2meffectiveness of the practical\u001b[0m\u001b[2m \u001b[0m│\u001b[2m                                 \u001b[0m│\n",
       "│\u001b[2m            \u001b[0m│\u001b[2m                                 \u001b[0m│\u001b[2m \u001b[0m\u001b[2massignments in making the     \u001b[0m\u001b[2m \u001b[0m│\u001b[2m                                 \u001b[0m│\n",
       "│\u001b[2m            \u001b[0m│\u001b[2m                                 \u001b[0m│\u001b[2m \u001b[0m\u001b[2mtheory accessible.            \u001b[0m\u001b[2m \u001b[0m│\u001b[2m                                 \u001b[0m│\n",
       "├────────────┼─────────────────────────────────┼────────────────────────────────┼─────────────────────────────────┤\n",
       "│\u001b[2m \u001b[0m\u001b[2mNegative  \u001b[0m\u001b[2m \u001b[0m│\u001b[2m \u001b[0m\u001b[2m['Material felt dry and        \u001b[0m\u001b[2m \u001b[0m│\u001b[2m \u001b[0m\u001b[2m[\"Material felt dry and       \u001b[0m\u001b[2m \u001b[0m│\u001b[2m \u001b[0m\u001b[2m['Incorporate more real-world  \u001b[0m\u001b[2m \u001b[0m│\n",
       "│\u001b[2m            \u001b[0m│\u001b[2m \u001b[0m\u001b[2mdifficult', 'Lacked real-world \u001b[0m\u001b[2m \u001b[0m│\u001b[2m \u001b[0m\u001b[2mdifficult\", \"Lacked real-world\u001b[0m\u001b[2m \u001b[0m│\u001b[2m \u001b[0m\u001b[2mapplications', 'Use current    \u001b[0m\u001b[2m \u001b[0m│\n",
       "│\u001b[2m            \u001b[0m│\u001b[2m \u001b[0m\u001b[2mapplications', 'More current   \u001b[0m\u001b[2m \u001b[0m│\u001b[2m \u001b[0m\u001b[2mapplications\", \"More current  \u001b[0m\u001b[2m \u001b[0m│\u001b[2m \u001b[0m\u001b[2mevents as examples', 'Engage   \u001b[0m\u001b[2m \u001b[0m│\n",
       "│\u001b[2m            \u001b[0m│\u001b[2m \u001b[0m\u001b[2mevent examples needed']        \u001b[0m\u001b[2m \u001b[0m│\u001b[2m \u001b[0m\u001b[2mevent examples needed\"]       \u001b[0m\u001b[2m \u001b[0m│\u001b[2m \u001b[0m\u001b[2mstudents with interactive      \u001b[0m\u001b[2m \u001b[0m│\n",
       "│\u001b[2m            \u001b[0m│\u001b[2m                                 \u001b[0m│\u001b[2m \u001b[0m\u001b[2m                              \u001b[0m\u001b[2m \u001b[0m│\u001b[2m \u001b[0m\u001b[2mactivities']                   \u001b[0m\u001b[2m \u001b[0m│\n",
       "│\u001b[2m            \u001b[0m│\u001b[2m                                 \u001b[0m│\u001b[2m \u001b[0m\u001b[2mThe student found the material\u001b[0m\u001b[2m \u001b[0m│\u001b[2m                                 \u001b[0m│\n",
       "│\u001b[2m            \u001b[0m│\u001b[2m                                 \u001b[0m│\u001b[2m \u001b[0m\u001b[2munengaging and hard to relate \u001b[0m\u001b[2m \u001b[0m│\u001b[2m                                 \u001b[0m│\n",
       "│\u001b[2m            \u001b[0m│\u001b[2m                                 \u001b[0m│\u001b[2m \u001b[0m\u001b[2mto real-life scenarios,       \u001b[0m\u001b[2m \u001b[0m│\u001b[2m                                 \u001b[0m│\n",
       "│\u001b[2m            \u001b[0m│\u001b[2m                                 \u001b[0m│\u001b[2m \u001b[0m\u001b[2msuggesting that incorporating \u001b[0m\u001b[2m \u001b[0m│\u001b[2m                                 \u001b[0m│\n",
       "│\u001b[2m            \u001b[0m│\u001b[2m                                 \u001b[0m│\u001b[2m \u001b[0m\u001b[2mmore examples from current    \u001b[0m\u001b[2m \u001b[0m│\u001b[2m                                 \u001b[0m│\n",
       "│\u001b[2m            \u001b[0m│\u001b[2m                                 \u001b[0m│\u001b[2m \u001b[0m\u001b[2mevents could have enhanced    \u001b[0m\u001b[2m \u001b[0m│\u001b[2m                                 \u001b[0m│\n",
       "│\u001b[2m            \u001b[0m│\u001b[2m                                 \u001b[0m│\u001b[2m \u001b[0m\u001b[2mtheir interest and            \u001b[0m\u001b[2m \u001b[0m│\u001b[2m                                 \u001b[0m│\n",
       "│\u001b[2m            \u001b[0m│\u001b[2m                                 \u001b[0m│\u001b[2m \u001b[0m\u001b[2munderstanding.                \u001b[0m\u001b[2m \u001b[0m│\u001b[2m                                 \u001b[0m│\n",
       "├────────────┼─────────────────────────────────┼────────────────────────────────┼─────────────────────────────────┤\n",
       "│\u001b[2m \u001b[0m\u001b[2mPositive  \u001b[0m\u001b[2m \u001b[0m│\u001b[2m \u001b[0m\u001b[2m['Engaging and informative     \u001b[0m\u001b[2m \u001b[0m│\u001b[2m \u001b[0m\u001b[2m[\"Engaging and informative    \u001b[0m\u001b[2m \u001b[0m│\u001b[2m \u001b[0m\u001b[2m['Adjust the pace of the       \u001b[0m\u001b[2m \u001b[0m│\n",
       "│\u001b[2m            \u001b[0m│\u001b[2m \u001b[0m\u001b[2mcourse', 'Effective breakdown  \u001b[0m\u001b[2m \u001b[0m│\u001b[2m \u001b[0m\u001b[2mcourse\", \"Effective breakdown \u001b[0m\u001b[2m \u001b[0m│\u001b[2m \u001b[0m\u001b[2mcourse', 'Provide additional   \u001b[0m\u001b[2m \u001b[0m│\n",
       "│\u001b[2m            \u001b[0m│\u001b[2m \u001b[0m\u001b[2mof complex concepts', 'Pace was\u001b[0m\u001b[2m \u001b[0m│\u001b[2m \u001b[0m\u001b[2mof complex concepts\", \"Pace   \u001b[0m\u001b[2m \u001b[0m│\u001b[2m \u001b[0m\u001b[2mresources for difficult        \u001b[0m\u001b[2m \u001b[0m│\n",
       "│\u001b[2m            \u001b[0m│\u001b[2m \u001b[0m\u001b[2mtoo fast']                     \u001b[0m\u001b[2m \u001b[0m│\u001b[2m \u001b[0m\u001b[2mwas too fast\"]                \u001b[0m\u001b[2m \u001b[0m│\u001b[2m \u001b[0m\u001b[2mtopics', 'Offer more flexible  \u001b[0m\u001b[2m \u001b[0m│\n",
       "│\u001b[2m            \u001b[0m│\u001b[2m                                 \u001b[0m│\u001b[2m \u001b[0m\u001b[2m                              \u001b[0m\u001b[2m \u001b[0m│\u001b[2m \u001b[0m\u001b[2mdeadlines for weekly readings']\u001b[0m\u001b[2m \u001b[0m│\n",
       "│\u001b[2m            \u001b[0m│\u001b[2m                                 \u001b[0m│\u001b[2m \u001b[0m\u001b[2mThe student appreciated the   \u001b[0m\u001b[2m \u001b[0m│\u001b[2m                                 \u001b[0m│\n",
       "│\u001b[2m            \u001b[0m│\u001b[2m                                 \u001b[0m│\u001b[2m \u001b[0m\u001b[2mengaging and informative      \u001b[0m\u001b[2m \u001b[0m│\u001b[2m                                 \u001b[0m│\n",
       "│\u001b[2m            \u001b[0m│\u001b[2m                                 \u001b[0m│\u001b[2m \u001b[0m\u001b[2mnature of the course and      \u001b[0m\u001b[2m \u001b[0m│\u001b[2m                                 \u001b[0m│\n",
       "│\u001b[2m            \u001b[0m│\u001b[2m                                 \u001b[0m│\u001b[2m \u001b[0m\u001b[2mpraised the professor's       \u001b[0m\u001b[2m \u001b[0m│\u001b[2m                                 \u001b[0m│\n",
       "│\u001b[2m            \u001b[0m│\u001b[2m                                 \u001b[0m│\u001b[2m \u001b[0m\u001b[2mability to simplify complex   \u001b[0m\u001b[2m \u001b[0m│\u001b[2m                                 \u001b[0m│\n",
       "│\u001b[2m            \u001b[0m│\u001b[2m                                 \u001b[0m│\u001b[2m \u001b[0m\u001b[2mconcepts. However, they felt  \u001b[0m\u001b[2m \u001b[0m│\u001b[2m                                 \u001b[0m│\n",
       "│\u001b[2m            \u001b[0m│\u001b[2m                                 \u001b[0m│\u001b[2m \u001b[0m\u001b[2mthe pace was too fast, making \u001b[0m\u001b[2m \u001b[0m│\u001b[2m                                 \u001b[0m│\n",
       "│\u001b[2m            \u001b[0m│\u001b[2m                                 \u001b[0m│\u001b[2m \u001b[0m\u001b[2mit difficult to keep up with  \u001b[0m\u001b[2m \u001b[0m│\u001b[2m                                 \u001b[0m│\n",
       "│\u001b[2m            \u001b[0m│\u001b[2m                                 \u001b[0m│\u001b[2m \u001b[0m\u001b[2mthe readings.                 \u001b[0m\u001b[2m \u001b[0m│\u001b[2m                                 \u001b[0m│\n",
       "└────────────┴─────────────────────────────────┴────────────────────────────────┴─────────────────────────────────┘\n"
      ]
     },
     "metadata": {},
     "output_type": "display_data"
    }
   ],
   "source": [
    "results.select(\"sentiment\", \"themes\", \"themes_generated_tokens\", \"improvements\").print(format=\"rich\")"
   ]
  },
  {
   "cell_type": "markdown",
   "id": "a9c6b091-42d6-4d62-b7f0-f91eef33c1fe",
   "metadata": {},
   "source": [
    "We can do a quick tally of the sentiments:"
   ]
  },
  {
   "cell_type": "code",
   "execution_count": 11,
   "id": "acd5ca3d",
   "metadata": {},
   "outputs": [
    {
     "data": {
      "text/html": [
       "<pre style=\"white-space:pre;overflow-x:auto;line-height:normal;font-family:Menlo,'DejaVu Sans Mono',consolas,'Courier New',monospace\">┏━━━━━━━━━━┳━━━━━━━┓\n",
       "┃<span style=\"color: #800080; text-decoration-color: #800080; font-weight: bold\"> value    </span>┃<span style=\"color: #800080; text-decoration-color: #800080; font-weight: bold\"> count </span>┃\n",
       "┡━━━━━━━━━━╇━━━━━━━┩\n",
       "│<span style=\"color: #7f7f7f; text-decoration-color: #7f7f7f\"> Neutral  </span>│<span style=\"color: #7f7f7f; text-decoration-color: #7f7f7f\"> 4     </span>│\n",
       "├──────────┼───────┤\n",
       "│<span style=\"color: #7f7f7f; text-decoration-color: #7f7f7f\"> Positive </span>│<span style=\"color: #7f7f7f; text-decoration-color: #7f7f7f\"> 4     </span>│\n",
       "├──────────┼───────┤\n",
       "│<span style=\"color: #7f7f7f; text-decoration-color: #7f7f7f\"> Negative </span>│<span style=\"color: #7f7f7f; text-decoration-color: #7f7f7f\"> 2     </span>│\n",
       "└──────────┴───────┘\n",
       "</pre>\n"
      ],
      "text/plain": [
       "┏━━━━━━━━━━┳━━━━━━━┓\n",
       "┃\u001b[1;35m \u001b[0m\u001b[1;35mvalue   \u001b[0m\u001b[1;35m \u001b[0m┃\u001b[1;35m \u001b[0m\u001b[1;35mcount\u001b[0m\u001b[1;35m \u001b[0m┃\n",
       "┡━━━━━━━━━━╇━━━━━━━┩\n",
       "│\u001b[2m \u001b[0m\u001b[2mNeutral \u001b[0m\u001b[2m \u001b[0m│\u001b[2m \u001b[0m\u001b[2m4    \u001b[0m\u001b[2m \u001b[0m│\n",
       "├──────────┼───────┤\n",
       "│\u001b[2m \u001b[0m\u001b[2mPositive\u001b[0m\u001b[2m \u001b[0m│\u001b[2m \u001b[0m\u001b[2m4    \u001b[0m\u001b[2m \u001b[0m│\n",
       "├──────────┼───────┤\n",
       "│\u001b[2m \u001b[0m\u001b[2mNegative\u001b[0m\u001b[2m \u001b[0m│\u001b[2m \u001b[0m\u001b[2m2    \u001b[0m\u001b[2m \u001b[0m│\n",
       "└──────────┴───────┘\n"
      ]
     },
     "metadata": {},
     "output_type": "display_data"
    }
   ],
   "source": [
    "results.select(\"sentiment\").tally().print(format = \"rich\")"
   ]
  },
  {
   "cell_type": "markdown",
   "id": "5483ecea",
   "metadata": {},
   "source": [
    "We can also use pandas methods by first converting:"
   ]
  },
  {
   "cell_type": "code",
   "execution_count": 14,
   "id": "9f9618fc-3250-4fbe-bddc-cd4cd5c624f7",
   "metadata": {},
   "outputs": [
    {
     "data": {
      "text/plain": [
       "answer.sentiment\n",
       "Positive    4\n",
       "Neutral     4\n",
       "Negative    2\n",
       "Name: count, dtype: int64"
      ]
     },
     "execution_count": 14,
     "metadata": {},
     "output_type": "execute_result"
    }
   ],
   "source": [
    "df_sentiment = results.to_pandas()[\"answer.sentiment\"]\n",
    "df_sentiment.value_counts()"
   ]
  },
  {
   "cell_type": "markdown",
   "id": "bad98c73-b2e8-4b31-89a5-1a85056ba134",
   "metadata": {},
   "source": [
    "## Use responses to construct new questions\n",
    "We can use the responses to our initial questions to construct more questions about the texts. For example, we can prompt a model to condense the individual lists of themes and areas for improvement into short lists, and then use the new lists to quantify the topics across the set of evaluations."
   ]
  },
  {
   "cell_type": "markdown",
   "id": "e3f96f5e-ba68-4660-b876-d3f34b396213",
   "metadata": {},
   "source": [
    "Here we take the lists of themes in each evaluation, flatten them into a (duplicative) list, and then create a new question prompting a model to condense it for us:"
   ]
  },
  {
   "cell_type": "code",
   "execution_count": 12,
   "id": "291c5b98",
   "metadata": {},
   "outputs": [
    {
     "data": {
      "text/html": [
       "<pre style=\"white-space:pre;overflow-x:auto;line-height:normal;font-family:Menlo,'DejaVu Sans Mono',consolas,'Courier New',monospace\">┏━━━━━━━━━━━━━━━━━━━━━━━━━━━━━━━━━━━━━━━━━━━━━━━━━━━━━━━━┳━━━━━━━━━━━━━━━━━━━━━━━━━━━━━━━━━━━━━━━━━━━━━━━━━━━━━━━━┓\n",
       "┃<span style=\"color: #800080; text-decoration-color: #800080; font-weight: bold\"> answer                                                 </span>┃<span style=\"color: #800080; text-decoration-color: #800080; font-weight: bold\"> generated_tokens                                       </span>┃\n",
       "┃<span style=\"color: #800080; text-decoration-color: #800080; font-weight: bold\"> .themes                                                </span>┃<span style=\"color: #800080; text-decoration-color: #800080; font-weight: bold\"> .themes_generated_tokens                               </span>┃\n",
       "┡━━━━━━━━━━━━━━━━━━━━━━━━━━━━━━━━━━━━━━━━━━━━━━━━━━━━━━━━╇━━━━━━━━━━━━━━━━━━━━━━━━━━━━━━━━━━━━━━━━━━━━━━━━━━━━━━━━┩\n",
       "│<span style=\"color: #7f7f7f; text-decoration-color: #7f7f7f\"> ['Knowledgeable and passionate professor', 'Course     </span>│<span style=\"color: #7f7f7f; text-decoration-color: #7f7f7f\"> [\"Knowledgeable and passionate professor\", \"Course     </span>│\n",
       "│<span style=\"color: #7f7f7f; text-decoration-color: #7f7f7f\"> relied too heavily on tests', 'Need for more varied    </span>│<span style=\"color: #7f7f7f; text-decoration-color: #7f7f7f\"> relied too heavily on tests\", \"Need for more varied    </span>│\n",
       "│<span style=\"color: #7f7f7f; text-decoration-color: #7f7f7f\"> assignments']                                          </span>│<span style=\"color: #7f7f7f; text-decoration-color: #7f7f7f\"> assignments\"]                                          </span>│\n",
       "│<span style=\"color: #7f7f7f; text-decoration-color: #7f7f7f\">                                                        </span>│<span style=\"color: #7f7f7f; text-decoration-color: #7f7f7f\">                                                        </span>│\n",
       "│<span style=\"color: #7f7f7f; text-decoration-color: #7f7f7f\">                                                        </span>│<span style=\"color: #7f7f7f; text-decoration-color: #7f7f7f\"> This summary captures the student's appreciation for   </span>│\n",
       "│<span style=\"color: #7f7f7f; text-decoration-color: #7f7f7f\">                                                        </span>│<span style=\"color: #7f7f7f; text-decoration-color: #7f7f7f\"> the professor's expertise and enthusiasm, their        </span>│\n",
       "│<span style=\"color: #7f7f7f; text-decoration-color: #7f7f7f\">                                                        </span>│<span style=\"color: #7f7f7f; text-decoration-color: #7f7f7f\"> concern about the heavy reliance on tests, and their   </span>│\n",
       "│<span style=\"color: #7f7f7f; text-decoration-color: #7f7f7f\">                                                        </span>│<span style=\"color: #7f7f7f; text-decoration-color: #7f7f7f\"> suggestion for incorporating diverse types of          </span>│\n",
       "│<span style=\"color: #7f7f7f; text-decoration-color: #7f7f7f\">                                                        </span>│<span style=\"color: #7f7f7f; text-decoration-color: #7f7f7f\"> assignments to cater to different learning styles.     </span>│\n",
       "├────────────────────────────────────────────────────────┼────────────────────────────────────────────────────────┤\n",
       "│<span style=\"color: #7f7f7f; text-decoration-color: #7f7f7f\"> ['Solid introduction to economics', 'Heavily           </span>│<span style=\"color: #7f7f7f; text-decoration-color: #7f7f7f\"> [\"Solid introduction to economics\", \"Heavily           </span>│\n",
       "│<span style=\"color: #7f7f7f; text-decoration-color: #7f7f7f\"> theoretical', 'Desire for more real-world              </span>│<span style=\"color: #7f7f7f; text-decoration-color: #7f7f7f\"> theoretical\", \"Desire for more real-world              </span>│\n",
       "│<span style=\"color: #7f7f7f; text-decoration-color: #7f7f7f\"> discussions']                                          </span>│<span style=\"color: #7f7f7f; text-decoration-color: #7f7f7f\"> discussions\"]                                          </span>│\n",
       "│<span style=\"color: #7f7f7f; text-decoration-color: #7f7f7f\">                                                        </span>│<span style=\"color: #7f7f7f; text-decoration-color: #7f7f7f\">                                                        </span>│\n",
       "│<span style=\"color: #7f7f7f; text-decoration-color: #7f7f7f\">                                                        </span>│<span style=\"color: #7f7f7f; text-decoration-color: #7f7f7f\"> Comment: These points capture the student's overall    </span>│\n",
       "│<span style=\"color: #7f7f7f; text-decoration-color: #7f7f7f\">                                                        </span>│<span style=\"color: #7f7f7f; text-decoration-color: #7f7f7f\"> positive view of the course, their observation about   </span>│\n",
       "│<span style=\"color: #7f7f7f; text-decoration-color: #7f7f7f\">                                                        </span>│<span style=\"color: #7f7f7f; text-decoration-color: #7f7f7f\"> the theoretical focus, and their suggestion for        </span>│\n",
       "│<span style=\"color: #7f7f7f; text-decoration-color: #7f7f7f\">                                                        </span>│<span style=\"color: #7f7f7f; text-decoration-color: #7f7f7f\"> incorporating more practical discussions to enhance    </span>│\n",
       "│<span style=\"color: #7f7f7f; text-decoration-color: #7f7f7f\">                                                        </span>│<span style=\"color: #7f7f7f; text-decoration-color: #7f7f7f\"> learning.                                              </span>│\n",
       "├────────────────────────────────────────────────────────┼────────────────────────────────────────────────────────┤\n",
       "│<span style=\"color: #7f7f7f; text-decoration-color: #7f7f7f\"> ['Enjoyed the course and group projects', 'Appreciated </span>│<span style=\"color: #7f7f7f; text-decoration-color: #7f7f7f\"> [\"Enjoyed the course and group projects\", \"Appreciated </span>│\n",
       "│<span style=\"color: #7f7f7f; text-decoration-color: #7f7f7f\"> applying economic concepts to real-life problems',     </span>│<span style=\"color: #7f7f7f; text-decoration-color: #7f7f7f\"> applying economic concepts to real-life problems\",     </span>│\n",
       "│<span style=\"color: #7f7f7f; text-decoration-color: #7f7f7f\"> 'Desire for more detailed feedback on assignments']    </span>│<span style=\"color: #7f7f7f; text-decoration-color: #7f7f7f\"> \"Desire for more detailed feedback on assignments\"]    </span>│\n",
       "│<span style=\"color: #7f7f7f; text-decoration-color: #7f7f7f\">                                                        </span>│<span style=\"color: #7f7f7f; text-decoration-color: #7f7f7f\">                                                        </span>│\n",
       "│<span style=\"color: #7f7f7f; text-decoration-color: #7f7f7f\">                                                        </span>│<span style=\"color: #7f7f7f; text-decoration-color: #7f7f7f\"> These points capture the student's overall positive    </span>│\n",
       "│<span style=\"color: #7f7f7f; text-decoration-color: #7f7f7f\">                                                        </span>│<span style=\"color: #7f7f7f; text-decoration-color: #7f7f7f\"> experience, the specific appreciation for practical    </span>│\n",
       "│<span style=\"color: #7f7f7f; text-decoration-color: #7f7f7f\">                                                        </span>│<span style=\"color: #7f7f7f; text-decoration-color: #7f7f7f\"> application, and the constructive criticism regarding  </span>│\n",
       "│<span style=\"color: #7f7f7f; text-decoration-color: #7f7f7f\">                                                        </span>│<span style=\"color: #7f7f7f; text-decoration-color: #7f7f7f\"> feedback detail.                                       </span>│\n",
       "├────────────────────────────────────────────────────────┼────────────────────────────────────────────────────────┤\n",
       "│<span style=\"color: #7f7f7f; text-decoration-color: #7f7f7f\"> ['Textbook overly complex', 'Jargon not explained in   </span>│<span style=\"color: #7f7f7f; text-decoration-color: #7f7f7f\"> [\"Textbook overly complex\", \"Jargon not explained in   </span>│\n",
       "│<span style=\"color: #7f7f7f; text-decoration-color: #7f7f7f\"> lectures', 'Need for simpler materials or more         </span>│<span style=\"color: #7f7f7f; text-decoration-color: #7f7f7f\"> lectures\", \"Need for simpler materials or more         </span>│\n",
       "│<span style=\"color: #7f7f7f; text-decoration-color: #7f7f7f\"> explanatory lectures']                                 </span>│<span style=\"color: #7f7f7f; text-decoration-color: #7f7f7f\"> explanatory lectures\"]                                 </span>│\n",
       "│<span style=\"color: #7f7f7f; text-decoration-color: #7f7f7f\">                                                        </span>│<span style=\"color: #7f7f7f; text-decoration-color: #7f7f7f\">                                                        </span>│\n",
       "│<span style=\"color: #7f7f7f; text-decoration-color: #7f7f7f\">                                                        </span>│<span style=\"color: #7f7f7f; text-decoration-color: #7f7f7f\"> These points encapsulate the main concerns: the        </span>│\n",
       "│<span style=\"color: #7f7f7f; text-decoration-color: #7f7f7f\">                                                        </span>│<span style=\"color: #7f7f7f; text-decoration-color: #7f7f7f\"> complexity of the textbook, the lack of jargon         </span>│\n",
       "│<span style=\"color: #7f7f7f; text-decoration-color: #7f7f7f\">                                                        </span>│<span style=\"color: #7f7f7f; text-decoration-color: #7f7f7f\"> explanation in lectures, and the suggestion for        </span>│\n",
       "│<span style=\"color: #7f7f7f; text-decoration-color: #7f7f7f\">                                                        </span>│<span style=\"color: #7f7f7f; text-decoration-color: #7f7f7f\"> simpler materials or more detailed lectures.           </span>│\n",
       "├────────────────────────────────────────────────────────┼────────────────────────────────────────────────────────┤\n",
       "│<span style=\"color: #7f7f7f; text-decoration-color: #7f7f7f\"> ['Appreciated analytical rigor', 'Desire for more      </span>│<span style=\"color: #7f7f7f; text-decoration-color: #7f7f7f\"> [\"Appreciated analytical rigor\", \"Desire for more      </span>│\n",
       "│<span style=\"color: #7f7f7f; text-decoration-color: #7f7f7f\"> practical discussions', 'Course felt isolated from     </span>│<span style=\"color: #7f7f7f; text-decoration-color: #7f7f7f\"> practical discussions\", \"Course felt isolated from     </span>│\n",
       "│<span style=\"color: #7f7f7f; text-decoration-color: #7f7f7f\"> real-world issues']                                    </span>│<span style=\"color: #7f7f7f; text-decoration-color: #7f7f7f\"> real-world issues\"]                                    </span>│\n",
       "│<span style=\"color: #7f7f7f; text-decoration-color: #7f7f7f\">                                                        </span>│<span style=\"color: #7f7f7f; text-decoration-color: #7f7f7f\">                                                        </span>│\n",
       "│<span style=\"color: #7f7f7f; text-decoration-color: #7f7f7f\">                                                        </span>│<span style=\"color: #7f7f7f; text-decoration-color: #7f7f7f\"> These points capture the student's appreciation for    </span>│\n",
       "│<span style=\"color: #7f7f7f; text-decoration-color: #7f7f7f\">                                                        </span>│<span style=\"color: #7f7f7f; text-decoration-color: #7f7f7f\"> the course's analytical depth, their wish for more     </span>│\n",
       "│<span style=\"color: #7f7f7f; text-decoration-color: #7f7f7f\">                                                        </span>│<span style=\"color: #7f7f7f; text-decoration-color: #7f7f7f\"> practical applications, and their feeling that the     </span>│\n",
       "│<span style=\"color: #7f7f7f; text-decoration-color: #7f7f7f\">                                                        </span>│<span style=\"color: #7f7f7f; text-decoration-color: #7f7f7f\"> course was somewhat disconnected from real-world       </span>│\n",
       "│<span style=\"color: #7f7f7f; text-decoration-color: #7f7f7f\">                                                        </span>│<span style=\"color: #7f7f7f; text-decoration-color: #7f7f7f\"> economic issues.                                       </span>│\n",
       "├────────────────────────────────────────────────────────┼────────────────────────────────────────────────────────┤\n",
       "│<span style=\"color: #7f7f7f; text-decoration-color: #7f7f7f\"> ['Favorite class this semester', 'Perfect mix of       </span>│<span style=\"color: #7f7f7f; text-decoration-color: #7f7f7f\"> [\"Favorite class this semester\", \"Perfect mix of       </span>│\n",
       "│<span style=\"color: #7f7f7f; text-decoration-color: #7f7f7f\"> theory and case studies', 'Appreciated diversity of    </span>│<span style=\"color: #7f7f7f; text-decoration-color: #7f7f7f\"> theory and case studies\", \"Appreciated diversity of    </span>│\n",
       "│<span style=\"color: #7f7f7f; text-decoration-color: #7f7f7f\"> perspectives on global economic policies']             </span>│<span style=\"color: #7f7f7f; text-decoration-color: #7f7f7f\"> perspectives on global economic policies\"]             </span>│\n",
       "│<span style=\"color: #7f7f7f; text-decoration-color: #7f7f7f\">                                                        </span>│<span style=\"color: #7f7f7f; text-decoration-color: #7f7f7f\">                                                        </span>│\n",
       "│<span style=\"color: #7f7f7f; text-decoration-color: #7f7f7f\">                                                        </span>│<span style=\"color: #7f7f7f; text-decoration-color: #7f7f7f\"> These points highlight the student's overall           </span>│\n",
       "│<span style=\"color: #7f7f7f; text-decoration-color: #7f7f7f\">                                                        </span>│<span style=\"color: #7f7f7f; text-decoration-color: #7f7f7f\"> satisfaction with the course, the effective balance of </span>│\n",
       "│<span style=\"color: #7f7f7f; text-decoration-color: #7f7f7f\">                                                        </span>│<span style=\"color: #7f7f7f; text-decoration-color: #7f7f7f\"> theoretical and practical content, and the inclusion   </span>│\n",
       "│<span style=\"color: #7f7f7f; text-decoration-color: #7f7f7f\">                                                        </span>│<span style=\"color: #7f7f7f; text-decoration-color: #7f7f7f\"> of diverse global perspectives, all of which           </span>│\n",
       "│<span style=\"color: #7f7f7f; text-decoration-color: #7f7f7f\">                                                        </span>│<span style=\"color: #7f7f7f; text-decoration-color: #7f7f7f\"> contributed to their positive experience.              </span>│\n",
       "├────────────────────────────────────────────────────────┼────────────────────────────────────────────────────────┤\n",
       "│<span style=\"color: #7f7f7f; text-decoration-color: #7f7f7f\"> ['Well-organized course content', 'Monotonous and      </span>│<span style=\"color: #7f7f7f; text-decoration-color: #7f7f7f\"> [\"Well-organized course content\", \"Monotonous and      </span>│\n",
       "│<span style=\"color: #7f7f7f; text-decoration-color: #7f7f7f\"> hard-to-follow lectures', 'Suggestion to incorporate   </span>│<span style=\"color: #7f7f7f; text-decoration-color: #7f7f7f\"> hard-to-follow lectures\", \"Suggestion to incorporate   </span>│\n",
       "│<span style=\"color: #7f7f7f; text-decoration-color: #7f7f7f\"> visual aids and guest lectures']                       </span>│<span style=\"color: #7f7f7f; text-decoration-color: #7f7f7f\"> visual aids and guest lectures\"]                       </span>│\n",
       "│<span style=\"color: #7f7f7f; text-decoration-color: #7f7f7f\">                                                        </span>│<span style=\"color: #7f7f7f; text-decoration-color: #7f7f7f\">                                                        </span>│\n",
       "│<span style=\"color: #7f7f7f; text-decoration-color: #7f7f7f\">                                                        </span>│<span style=\"color: #7f7f7f; text-decoration-color: #7f7f7f\"> These points capture the student's feedback on the     </span>│\n",
       "│<span style=\"color: #7f7f7f; text-decoration-color: #7f7f7f\">                                                        </span>│<span style=\"color: #7f7f7f; text-decoration-color: #7f7f7f\"> structure of the course, the delivery of the lectures, </span>│\n",
       "│<span style=\"color: #7f7f7f; text-decoration-color: #7f7f7f\">                                                        </span>│<span style=\"color: #7f7f7f; text-decoration-color: #7f7f7f\"> and their recommendations for improvement.             </span>│\n",
       "├────────────────────────────────────────────────────────┼────────────────────────────────────────────────────────┤\n",
       "│<span style=\"color: #7f7f7f; text-decoration-color: #7f7f7f\"> ['Enthusiastic professor', 'Interactive lectures',     </span>│<span style=\"color: #7f7f7f; text-decoration-color: #7f7f7f\"> [\"Enthusiastic professor\", \"Interactive lectures\",     </span>│\n",
       "│<span style=\"color: #7f7f7f; text-decoration-color: #7f7f7f\"> 'Practical assignments']                               </span>│<span style=\"color: #7f7f7f; text-decoration-color: #7f7f7f\"> \"Practical assignments\"]                               </span>│\n",
       "│<span style=\"color: #7f7f7f; text-decoration-color: #7f7f7f\">                                                        </span>│<span style=\"color: #7f7f7f; text-decoration-color: #7f7f7f\">                                                        </span>│\n",
       "│<span style=\"color: #7f7f7f; text-decoration-color: #7f7f7f\">                                                        </span>│<span style=\"color: #7f7f7f; text-decoration-color: #7f7f7f\"> These points capture the core strengths highlighted in </span>│\n",
       "│<span style=\"color: #7f7f7f; text-decoration-color: #7f7f7f\">                                                        </span>│<span style=\"color: #7f7f7f; text-decoration-color: #7f7f7f\"> the evaluation: the professor's enthusiasm and         </span>│\n",
       "│<span style=\"color: #7f7f7f; text-decoration-color: #7f7f7f\">                                                        </span>│<span style=\"color: #7f7f7f; text-decoration-color: #7f7f7f\"> availability, the engaging nature of the lectures, and </span>│\n",
       "│<span style=\"color: #7f7f7f; text-decoration-color: #7f7f7f\">                                                        </span>│<span style=\"color: #7f7f7f; text-decoration-color: #7f7f7f\"> the effectiveness of the practical assignments in      </span>│\n",
       "│<span style=\"color: #7f7f7f; text-decoration-color: #7f7f7f\">                                                        </span>│<span style=\"color: #7f7f7f; text-decoration-color: #7f7f7f\"> making the theory accessible.                          </span>│\n",
       "├────────────────────────────────────────────────────────┼────────────────────────────────────────────────────────┤\n",
       "│<span style=\"color: #7f7f7f; text-decoration-color: #7f7f7f\"> ['Material felt dry and difficult', 'Lacked real-world </span>│<span style=\"color: #7f7f7f; text-decoration-color: #7f7f7f\"> [\"Material felt dry and difficult\", \"Lacked real-world </span>│\n",
       "│<span style=\"color: #7f7f7f; text-decoration-color: #7f7f7f\"> applications', 'More current event examples needed']   </span>│<span style=\"color: #7f7f7f; text-decoration-color: #7f7f7f\"> applications\", \"More current event examples needed\"]   </span>│\n",
       "│<span style=\"color: #7f7f7f; text-decoration-color: #7f7f7f\">                                                        </span>│<span style=\"color: #7f7f7f; text-decoration-color: #7f7f7f\">                                                        </span>│\n",
       "│<span style=\"color: #7f7f7f; text-decoration-color: #7f7f7f\">                                                        </span>│<span style=\"color: #7f7f7f; text-decoration-color: #7f7f7f\"> The student found the material unengaging and hard to  </span>│\n",
       "│<span style=\"color: #7f7f7f; text-decoration-color: #7f7f7f\">                                                        </span>│<span style=\"color: #7f7f7f; text-decoration-color: #7f7f7f\"> relate to real-life scenarios, suggesting that         </span>│\n",
       "│<span style=\"color: #7f7f7f; text-decoration-color: #7f7f7f\">                                                        </span>│<span style=\"color: #7f7f7f; text-decoration-color: #7f7f7f\"> incorporating more examples from current events could  </span>│\n",
       "│<span style=\"color: #7f7f7f; text-decoration-color: #7f7f7f\">                                                        </span>│<span style=\"color: #7f7f7f; text-decoration-color: #7f7f7f\"> have enhanced their interest and understanding.        </span>│\n",
       "├────────────────────────────────────────────────────────┼────────────────────────────────────────────────────────┤\n",
       "│<span style=\"color: #7f7f7f; text-decoration-color: #7f7f7f\"> ['Engaging and informative course', 'Effective         </span>│<span style=\"color: #7f7f7f; text-decoration-color: #7f7f7f\"> [\"Engaging and informative course\", \"Effective         </span>│\n",
       "│<span style=\"color: #7f7f7f; text-decoration-color: #7f7f7f\"> breakdown of complex concepts', 'Pace was too fast']   </span>│<span style=\"color: #7f7f7f; text-decoration-color: #7f7f7f\"> breakdown of complex concepts\", \"Pace was too fast\"]   </span>│\n",
       "│<span style=\"color: #7f7f7f; text-decoration-color: #7f7f7f\">                                                        </span>│<span style=\"color: #7f7f7f; text-decoration-color: #7f7f7f\">                                                        </span>│\n",
       "│<span style=\"color: #7f7f7f; text-decoration-color: #7f7f7f\">                                                        </span>│<span style=\"color: #7f7f7f; text-decoration-color: #7f7f7f\"> The student appreciated the engaging and informative   </span>│\n",
       "│<span style=\"color: #7f7f7f; text-decoration-color: #7f7f7f\">                                                        </span>│<span style=\"color: #7f7f7f; text-decoration-color: #7f7f7f\"> nature of the course and praised the professor's       </span>│\n",
       "│<span style=\"color: #7f7f7f; text-decoration-color: #7f7f7f\">                                                        </span>│<span style=\"color: #7f7f7f; text-decoration-color: #7f7f7f\"> ability to simplify complex concepts. However, they    </span>│\n",
       "│<span style=\"color: #7f7f7f; text-decoration-color: #7f7f7f\">                                                        </span>│<span style=\"color: #7f7f7f; text-decoration-color: #7f7f7f\"> felt the pace was too fast, making it difficult to     </span>│\n",
       "│<span style=\"color: #7f7f7f; text-decoration-color: #7f7f7f\">                                                        </span>│<span style=\"color: #7f7f7f; text-decoration-color: #7f7f7f\"> keep up with the readings.                             </span>│\n",
       "└────────────────────────────────────────────────────────┴────────────────────────────────────────────────────────┘\n",
       "</pre>\n"
      ],
      "text/plain": [
       "┏━━━━━━━━━━━━━━━━━━━━━━━━━━━━━━━━━━━━━━━━━━━━━━━━━━━━━━━━┳━━━━━━━━━━━━━━━━━━━━━━━━━━━━━━━━━━━━━━━━━━━━━━━━━━━━━━━━┓\n",
       "┃\u001b[1;35m \u001b[0m\u001b[1;35manswer                                                \u001b[0m\u001b[1;35m \u001b[0m┃\u001b[1;35m \u001b[0m\u001b[1;35mgenerated_tokens                                      \u001b[0m\u001b[1;35m \u001b[0m┃\n",
       "┃\u001b[1;35m \u001b[0m\u001b[1;35m.themes                                               \u001b[0m\u001b[1;35m \u001b[0m┃\u001b[1;35m \u001b[0m\u001b[1;35m.themes_generated_tokens                              \u001b[0m\u001b[1;35m \u001b[0m┃\n",
       "┡━━━━━━━━━━━━━━━━━━━━━━━━━━━━━━━━━━━━━━━━━━━━━━━━━━━━━━━━╇━━━━━━━━━━━━━━━━━━━━━━━━━━━━━━━━━━━━━━━━━━━━━━━━━━━━━━━━┩\n",
       "│\u001b[2m \u001b[0m\u001b[2m['Knowledgeable and passionate professor', 'Course    \u001b[0m\u001b[2m \u001b[0m│\u001b[2m \u001b[0m\u001b[2m[\"Knowledgeable and passionate professor\", \"Course    \u001b[0m\u001b[2m \u001b[0m│\n",
       "│\u001b[2m \u001b[0m\u001b[2mrelied too heavily on tests', 'Need for more varied   \u001b[0m\u001b[2m \u001b[0m│\u001b[2m \u001b[0m\u001b[2mrelied too heavily on tests\", \"Need for more varied   \u001b[0m\u001b[2m \u001b[0m│\n",
       "│\u001b[2m \u001b[0m\u001b[2massignments']                                         \u001b[0m\u001b[2m \u001b[0m│\u001b[2m \u001b[0m\u001b[2massignments\"]                                         \u001b[0m\u001b[2m \u001b[0m│\n",
       "│\u001b[2m                                                        \u001b[0m│\u001b[2m \u001b[0m\u001b[2m                                                      \u001b[0m\u001b[2m \u001b[0m│\n",
       "│\u001b[2m                                                        \u001b[0m│\u001b[2m \u001b[0m\u001b[2mThis summary captures the student's appreciation for  \u001b[0m\u001b[2m \u001b[0m│\n",
       "│\u001b[2m                                                        \u001b[0m│\u001b[2m \u001b[0m\u001b[2mthe professor's expertise and enthusiasm, their       \u001b[0m\u001b[2m \u001b[0m│\n",
       "│\u001b[2m                                                        \u001b[0m│\u001b[2m \u001b[0m\u001b[2mconcern about the heavy reliance on tests, and their  \u001b[0m\u001b[2m \u001b[0m│\n",
       "│\u001b[2m                                                        \u001b[0m│\u001b[2m \u001b[0m\u001b[2msuggestion for incorporating diverse types of         \u001b[0m\u001b[2m \u001b[0m│\n",
       "│\u001b[2m                                                        \u001b[0m│\u001b[2m \u001b[0m\u001b[2massignments to cater to different learning styles.    \u001b[0m\u001b[2m \u001b[0m│\n",
       "├────────────────────────────────────────────────────────┼────────────────────────────────────────────────────────┤\n",
       "│\u001b[2m \u001b[0m\u001b[2m['Solid introduction to economics', 'Heavily          \u001b[0m\u001b[2m \u001b[0m│\u001b[2m \u001b[0m\u001b[2m[\"Solid introduction to economics\", \"Heavily          \u001b[0m\u001b[2m \u001b[0m│\n",
       "│\u001b[2m \u001b[0m\u001b[2mtheoretical', 'Desire for more real-world             \u001b[0m\u001b[2m \u001b[0m│\u001b[2m \u001b[0m\u001b[2mtheoretical\", \"Desire for more real-world             \u001b[0m\u001b[2m \u001b[0m│\n",
       "│\u001b[2m \u001b[0m\u001b[2mdiscussions']                                         \u001b[0m\u001b[2m \u001b[0m│\u001b[2m \u001b[0m\u001b[2mdiscussions\"]                                         \u001b[0m\u001b[2m \u001b[0m│\n",
       "│\u001b[2m                                                        \u001b[0m│\u001b[2m \u001b[0m\u001b[2m                                                      \u001b[0m\u001b[2m \u001b[0m│\n",
       "│\u001b[2m                                                        \u001b[0m│\u001b[2m \u001b[0m\u001b[2mComment: These points capture the student's overall   \u001b[0m\u001b[2m \u001b[0m│\n",
       "│\u001b[2m                                                        \u001b[0m│\u001b[2m \u001b[0m\u001b[2mpositive view of the course, their observation about  \u001b[0m\u001b[2m \u001b[0m│\n",
       "│\u001b[2m                                                        \u001b[0m│\u001b[2m \u001b[0m\u001b[2mthe theoretical focus, and their suggestion for       \u001b[0m\u001b[2m \u001b[0m│\n",
       "│\u001b[2m                                                        \u001b[0m│\u001b[2m \u001b[0m\u001b[2mincorporating more practical discussions to enhance   \u001b[0m\u001b[2m \u001b[0m│\n",
       "│\u001b[2m                                                        \u001b[0m│\u001b[2m \u001b[0m\u001b[2mlearning.                                             \u001b[0m\u001b[2m \u001b[0m│\n",
       "├────────────────────────────────────────────────────────┼────────────────────────────────────────────────────────┤\n",
       "│\u001b[2m \u001b[0m\u001b[2m['Enjoyed the course and group projects', 'Appreciated\u001b[0m\u001b[2m \u001b[0m│\u001b[2m \u001b[0m\u001b[2m[\"Enjoyed the course and group projects\", \"Appreciated\u001b[0m\u001b[2m \u001b[0m│\n",
       "│\u001b[2m \u001b[0m\u001b[2mapplying economic concepts to real-life problems',    \u001b[0m\u001b[2m \u001b[0m│\u001b[2m \u001b[0m\u001b[2mapplying economic concepts to real-life problems\",    \u001b[0m\u001b[2m \u001b[0m│\n",
       "│\u001b[2m \u001b[0m\u001b[2m'Desire for more detailed feedback on assignments']   \u001b[0m\u001b[2m \u001b[0m│\u001b[2m \u001b[0m\u001b[2m\"Desire for more detailed feedback on assignments\"]   \u001b[0m\u001b[2m \u001b[0m│\n",
       "│\u001b[2m                                                        \u001b[0m│\u001b[2m \u001b[0m\u001b[2m                                                      \u001b[0m\u001b[2m \u001b[0m│\n",
       "│\u001b[2m                                                        \u001b[0m│\u001b[2m \u001b[0m\u001b[2mThese points capture the student's overall positive   \u001b[0m\u001b[2m \u001b[0m│\n",
       "│\u001b[2m                                                        \u001b[0m│\u001b[2m \u001b[0m\u001b[2mexperience, the specific appreciation for practical   \u001b[0m\u001b[2m \u001b[0m│\n",
       "│\u001b[2m                                                        \u001b[0m│\u001b[2m \u001b[0m\u001b[2mapplication, and the constructive criticism regarding \u001b[0m\u001b[2m \u001b[0m│\n",
       "│\u001b[2m                                                        \u001b[0m│\u001b[2m \u001b[0m\u001b[2mfeedback detail.                                      \u001b[0m\u001b[2m \u001b[0m│\n",
       "├────────────────────────────────────────────────────────┼────────────────────────────────────────────────────────┤\n",
       "│\u001b[2m \u001b[0m\u001b[2m['Textbook overly complex', 'Jargon not explained in  \u001b[0m\u001b[2m \u001b[0m│\u001b[2m \u001b[0m\u001b[2m[\"Textbook overly complex\", \"Jargon not explained in  \u001b[0m\u001b[2m \u001b[0m│\n",
       "│\u001b[2m \u001b[0m\u001b[2mlectures', 'Need for simpler materials or more        \u001b[0m\u001b[2m \u001b[0m│\u001b[2m \u001b[0m\u001b[2mlectures\", \"Need for simpler materials or more        \u001b[0m\u001b[2m \u001b[0m│\n",
       "│\u001b[2m \u001b[0m\u001b[2mexplanatory lectures']                                \u001b[0m\u001b[2m \u001b[0m│\u001b[2m \u001b[0m\u001b[2mexplanatory lectures\"]                                \u001b[0m\u001b[2m \u001b[0m│\n",
       "│\u001b[2m                                                        \u001b[0m│\u001b[2m \u001b[0m\u001b[2m                                                      \u001b[0m\u001b[2m \u001b[0m│\n",
       "│\u001b[2m                                                        \u001b[0m│\u001b[2m \u001b[0m\u001b[2mThese points encapsulate the main concerns: the       \u001b[0m\u001b[2m \u001b[0m│\n",
       "│\u001b[2m                                                        \u001b[0m│\u001b[2m \u001b[0m\u001b[2mcomplexity of the textbook, the lack of jargon        \u001b[0m\u001b[2m \u001b[0m│\n",
       "│\u001b[2m                                                        \u001b[0m│\u001b[2m \u001b[0m\u001b[2mexplanation in lectures, and the suggestion for       \u001b[0m\u001b[2m \u001b[0m│\n",
       "│\u001b[2m                                                        \u001b[0m│\u001b[2m \u001b[0m\u001b[2msimpler materials or more detailed lectures.          \u001b[0m\u001b[2m \u001b[0m│\n",
       "├────────────────────────────────────────────────────────┼────────────────────────────────────────────────────────┤\n",
       "│\u001b[2m \u001b[0m\u001b[2m['Appreciated analytical rigor', 'Desire for more     \u001b[0m\u001b[2m \u001b[0m│\u001b[2m \u001b[0m\u001b[2m[\"Appreciated analytical rigor\", \"Desire for more     \u001b[0m\u001b[2m \u001b[0m│\n",
       "│\u001b[2m \u001b[0m\u001b[2mpractical discussions', 'Course felt isolated from    \u001b[0m\u001b[2m \u001b[0m│\u001b[2m \u001b[0m\u001b[2mpractical discussions\", \"Course felt isolated from    \u001b[0m\u001b[2m \u001b[0m│\n",
       "│\u001b[2m \u001b[0m\u001b[2mreal-world issues']                                   \u001b[0m\u001b[2m \u001b[0m│\u001b[2m \u001b[0m\u001b[2mreal-world issues\"]                                   \u001b[0m\u001b[2m \u001b[0m│\n",
       "│\u001b[2m                                                        \u001b[0m│\u001b[2m \u001b[0m\u001b[2m                                                      \u001b[0m\u001b[2m \u001b[0m│\n",
       "│\u001b[2m                                                        \u001b[0m│\u001b[2m \u001b[0m\u001b[2mThese points capture the student's appreciation for   \u001b[0m\u001b[2m \u001b[0m│\n",
       "│\u001b[2m                                                        \u001b[0m│\u001b[2m \u001b[0m\u001b[2mthe course's analytical depth, their wish for more    \u001b[0m\u001b[2m \u001b[0m│\n",
       "│\u001b[2m                                                        \u001b[0m│\u001b[2m \u001b[0m\u001b[2mpractical applications, and their feeling that the    \u001b[0m\u001b[2m \u001b[0m│\n",
       "│\u001b[2m                                                        \u001b[0m│\u001b[2m \u001b[0m\u001b[2mcourse was somewhat disconnected from real-world      \u001b[0m\u001b[2m \u001b[0m│\n",
       "│\u001b[2m                                                        \u001b[0m│\u001b[2m \u001b[0m\u001b[2meconomic issues.                                      \u001b[0m\u001b[2m \u001b[0m│\n",
       "├────────────────────────────────────────────────────────┼────────────────────────────────────────────────────────┤\n",
       "│\u001b[2m \u001b[0m\u001b[2m['Favorite class this semester', 'Perfect mix of      \u001b[0m\u001b[2m \u001b[0m│\u001b[2m \u001b[0m\u001b[2m[\"Favorite class this semester\", \"Perfect mix of      \u001b[0m\u001b[2m \u001b[0m│\n",
       "│\u001b[2m \u001b[0m\u001b[2mtheory and case studies', 'Appreciated diversity of   \u001b[0m\u001b[2m \u001b[0m│\u001b[2m \u001b[0m\u001b[2mtheory and case studies\", \"Appreciated diversity of   \u001b[0m\u001b[2m \u001b[0m│\n",
       "│\u001b[2m \u001b[0m\u001b[2mperspectives on global economic policies']            \u001b[0m\u001b[2m \u001b[0m│\u001b[2m \u001b[0m\u001b[2mperspectives on global economic policies\"]            \u001b[0m\u001b[2m \u001b[0m│\n",
       "│\u001b[2m                                                        \u001b[0m│\u001b[2m \u001b[0m\u001b[2m                                                      \u001b[0m\u001b[2m \u001b[0m│\n",
       "│\u001b[2m                                                        \u001b[0m│\u001b[2m \u001b[0m\u001b[2mThese points highlight the student's overall          \u001b[0m\u001b[2m \u001b[0m│\n",
       "│\u001b[2m                                                        \u001b[0m│\u001b[2m \u001b[0m\u001b[2msatisfaction with the course, the effective balance of\u001b[0m\u001b[2m \u001b[0m│\n",
       "│\u001b[2m                                                        \u001b[0m│\u001b[2m \u001b[0m\u001b[2mtheoretical and practical content, and the inclusion  \u001b[0m\u001b[2m \u001b[0m│\n",
       "│\u001b[2m                                                        \u001b[0m│\u001b[2m \u001b[0m\u001b[2mof diverse global perspectives, all of which          \u001b[0m\u001b[2m \u001b[0m│\n",
       "│\u001b[2m                                                        \u001b[0m│\u001b[2m \u001b[0m\u001b[2mcontributed to their positive experience.             \u001b[0m\u001b[2m \u001b[0m│\n",
       "├────────────────────────────────────────────────────────┼────────────────────────────────────────────────────────┤\n",
       "│\u001b[2m \u001b[0m\u001b[2m['Well-organized course content', 'Monotonous and     \u001b[0m\u001b[2m \u001b[0m│\u001b[2m \u001b[0m\u001b[2m[\"Well-organized course content\", \"Monotonous and     \u001b[0m\u001b[2m \u001b[0m│\n",
       "│\u001b[2m \u001b[0m\u001b[2mhard-to-follow lectures', 'Suggestion to incorporate  \u001b[0m\u001b[2m \u001b[0m│\u001b[2m \u001b[0m\u001b[2mhard-to-follow lectures\", \"Suggestion to incorporate  \u001b[0m\u001b[2m \u001b[0m│\n",
       "│\u001b[2m \u001b[0m\u001b[2mvisual aids and guest lectures']                      \u001b[0m\u001b[2m \u001b[0m│\u001b[2m \u001b[0m\u001b[2mvisual aids and guest lectures\"]                      \u001b[0m\u001b[2m \u001b[0m│\n",
       "│\u001b[2m                                                        \u001b[0m│\u001b[2m \u001b[0m\u001b[2m                                                      \u001b[0m\u001b[2m \u001b[0m│\n",
       "│\u001b[2m                                                        \u001b[0m│\u001b[2m \u001b[0m\u001b[2mThese points capture the student's feedback on the    \u001b[0m\u001b[2m \u001b[0m│\n",
       "│\u001b[2m                                                        \u001b[0m│\u001b[2m \u001b[0m\u001b[2mstructure of the course, the delivery of the lectures,\u001b[0m\u001b[2m \u001b[0m│\n",
       "│\u001b[2m                                                        \u001b[0m│\u001b[2m \u001b[0m\u001b[2mand their recommendations for improvement.            \u001b[0m\u001b[2m \u001b[0m│\n",
       "├────────────────────────────────────────────────────────┼────────────────────────────────────────────────────────┤\n",
       "│\u001b[2m \u001b[0m\u001b[2m['Enthusiastic professor', 'Interactive lectures',    \u001b[0m\u001b[2m \u001b[0m│\u001b[2m \u001b[0m\u001b[2m[\"Enthusiastic professor\", \"Interactive lectures\",    \u001b[0m\u001b[2m \u001b[0m│\n",
       "│\u001b[2m \u001b[0m\u001b[2m'Practical assignments']                              \u001b[0m\u001b[2m \u001b[0m│\u001b[2m \u001b[0m\u001b[2m\"Practical assignments\"]                              \u001b[0m\u001b[2m \u001b[0m│\n",
       "│\u001b[2m                                                        \u001b[0m│\u001b[2m \u001b[0m\u001b[2m                                                      \u001b[0m\u001b[2m \u001b[0m│\n",
       "│\u001b[2m                                                        \u001b[0m│\u001b[2m \u001b[0m\u001b[2mThese points capture the core strengths highlighted in\u001b[0m\u001b[2m \u001b[0m│\n",
       "│\u001b[2m                                                        \u001b[0m│\u001b[2m \u001b[0m\u001b[2mthe evaluation: the professor's enthusiasm and        \u001b[0m\u001b[2m \u001b[0m│\n",
       "│\u001b[2m                                                        \u001b[0m│\u001b[2m \u001b[0m\u001b[2mavailability, the engaging nature of the lectures, and\u001b[0m\u001b[2m \u001b[0m│\n",
       "│\u001b[2m                                                        \u001b[0m│\u001b[2m \u001b[0m\u001b[2mthe effectiveness of the practical assignments in     \u001b[0m\u001b[2m \u001b[0m│\n",
       "│\u001b[2m                                                        \u001b[0m│\u001b[2m \u001b[0m\u001b[2mmaking the theory accessible.                         \u001b[0m\u001b[2m \u001b[0m│\n",
       "├────────────────────────────────────────────────────────┼────────────────────────────────────────────────────────┤\n",
       "│\u001b[2m \u001b[0m\u001b[2m['Material felt dry and difficult', 'Lacked real-world\u001b[0m\u001b[2m \u001b[0m│\u001b[2m \u001b[0m\u001b[2m[\"Material felt dry and difficult\", \"Lacked real-world\u001b[0m\u001b[2m \u001b[0m│\n",
       "│\u001b[2m \u001b[0m\u001b[2mapplications', 'More current event examples needed']  \u001b[0m\u001b[2m \u001b[0m│\u001b[2m \u001b[0m\u001b[2mapplications\", \"More current event examples needed\"]  \u001b[0m\u001b[2m \u001b[0m│\n",
       "│\u001b[2m                                                        \u001b[0m│\u001b[2m \u001b[0m\u001b[2m                                                      \u001b[0m\u001b[2m \u001b[0m│\n",
       "│\u001b[2m                                                        \u001b[0m│\u001b[2m \u001b[0m\u001b[2mThe student found the material unengaging and hard to \u001b[0m\u001b[2m \u001b[0m│\n",
       "│\u001b[2m                                                        \u001b[0m│\u001b[2m \u001b[0m\u001b[2mrelate to real-life scenarios, suggesting that        \u001b[0m\u001b[2m \u001b[0m│\n",
       "│\u001b[2m                                                        \u001b[0m│\u001b[2m \u001b[0m\u001b[2mincorporating more examples from current events could \u001b[0m\u001b[2m \u001b[0m│\n",
       "│\u001b[2m                                                        \u001b[0m│\u001b[2m \u001b[0m\u001b[2mhave enhanced their interest and understanding.       \u001b[0m\u001b[2m \u001b[0m│\n",
       "├────────────────────────────────────────────────────────┼────────────────────────────────────────────────────────┤\n",
       "│\u001b[2m \u001b[0m\u001b[2m['Engaging and informative course', 'Effective        \u001b[0m\u001b[2m \u001b[0m│\u001b[2m \u001b[0m\u001b[2m[\"Engaging and informative course\", \"Effective        \u001b[0m\u001b[2m \u001b[0m│\n",
       "│\u001b[2m \u001b[0m\u001b[2mbreakdown of complex concepts', 'Pace was too fast']  \u001b[0m\u001b[2m \u001b[0m│\u001b[2m \u001b[0m\u001b[2mbreakdown of complex concepts\", \"Pace was too fast\"]  \u001b[0m\u001b[2m \u001b[0m│\n",
       "│\u001b[2m                                                        \u001b[0m│\u001b[2m \u001b[0m\u001b[2m                                                      \u001b[0m\u001b[2m \u001b[0m│\n",
       "│\u001b[2m                                                        \u001b[0m│\u001b[2m \u001b[0m\u001b[2mThe student appreciated the engaging and informative  \u001b[0m\u001b[2m \u001b[0m│\n",
       "│\u001b[2m                                                        \u001b[0m│\u001b[2m \u001b[0m\u001b[2mnature of the course and praised the professor's      \u001b[0m\u001b[2m \u001b[0m│\n",
       "│\u001b[2m                                                        \u001b[0m│\u001b[2m \u001b[0m\u001b[2mability to simplify complex concepts. However, they   \u001b[0m\u001b[2m \u001b[0m│\n",
       "│\u001b[2m                                                        \u001b[0m│\u001b[2m \u001b[0m\u001b[2mfelt the pace was too fast, making it difficult to    \u001b[0m\u001b[2m \u001b[0m│\n",
       "│\u001b[2m                                                        \u001b[0m│\u001b[2m \u001b[0m\u001b[2mkeep up with the readings.                            \u001b[0m\u001b[2m \u001b[0m│\n",
       "└────────────────────────────────────────────────────────┴────────────────────────────────────────────────────────┘\n"
      ]
     },
     "metadata": {},
     "output_type": "display_data"
    }
   ],
   "source": [
    "results.select(\"themes\", \"themes_generated_tokens\").print(format = \"rich\")"
   ]
  },
  {
   "cell_type": "code",
   "execution_count": 18,
   "id": "ee81ef77-a2a9-41cb-9472-29e4f8e6797b",
   "metadata": {},
   "outputs": [],
   "source": [
    "themes = results.select(\"themes\").to_list(flatten = True)"
   ]
  },
  {
   "cell_type": "markdown",
   "id": "6b1b042a-0c29-470d-9229-723e6f4a1e33",
   "metadata": {},
   "source": [
    "Next we construct a question to condense the list into a new list:"
   ]
  },
  {
   "cell_type": "code",
   "execution_count": 20,
   "id": "05871e01-eec9-4629-a108-cd9237eca283",
   "metadata": {},
   "outputs": [],
   "source": [
    "q_condensed_themes = QuestionList(\n",
    "    question_name=\"condensed_themes\",\n",
    "    question_text=\"\"\"Combine the following list of themes extracted from the evaluations \n",
    "    into a consolidated, non-redundant list: \"\"\"\n",
    "    + \", \".join(themes),\n",
    "    max_list_items=10,\n",
    ")"
   ]
  },
  {
   "cell_type": "markdown",
   "id": "954a92a0-6a7d-43ad-bed5-35a092fba288",
   "metadata": {},
   "source": [
    "Now we run the question and select the new list. Note that we can choose whether we want to use the agent for this question by not adding it to the question when we run it:"
   ]
  },
  {
   "cell_type": "code",
   "execution_count": null,
   "id": "f915d9e6-0310-432e-852e-48d63c6e07d8",
   "metadata": {},
   "outputs": [],
   "source": [
    "condensed_themes = q_condensed_themes.run().select(\"condensed_themes\").to_list()[0]\n"
   ]
  },
  {
   "cell_type": "markdown",
   "id": "5636a7f7-56ff-439d-9b5c-b867dff60480",
   "metadata": {},
   "source": [
    "Now we can create a question to identify all the themes in the list that appear in each evaluation (our new list becomes the list of answer options):"
   ]
  },
  {
   "cell_type": "code",
   "execution_count": null,
   "id": "ff3f7830-6c55-4ee4-8434-374bcee47377",
   "metadata": {},
   "outputs": [],
   "source": [
    "from edsl.questions import QuestionCheckBox\n",
    "\n",
    "q_themes_list = QuestionCheckBox(\n",
    "    question_name=\"themes_list\",\n",
    "    question_text=\"Select all of the themes that are mentioned in this evaluation: {{ evaluation }}\",\n",
    "    question_options=condensed_themes,\n",
    ")"
   ]
  },
  {
   "cell_type": "markdown",
   "id": "3d8e69f7-d9cb-4170-a8b2-d08a857a9441",
   "metadata": {},
   "source": [
    "Here we run the question and show a table listing all the themes for each evaluation in the results:"
   ]
  },
  {
   "cell_type": "code",
   "execution_count": null,
   "id": "4e8ee9f3-8dda-4047-8850-80dbeb3ce4f0",
   "metadata": {},
   "outputs": [],
   "source": [
    "themes_lists = q_themes_list.by(scenarios).by(agent).run()\n",
    "themes_lists.select(\"evaluation\", \"themes_list\").print(format=\"rich\")"
   ]
  },
  {
   "cell_type": "code",
   "execution_count": null,
   "id": "d6a8123d",
   "metadata": {},
   "outputs": [],
   "source": [
    "wide_evaluation_themes = themes_lists.select(\"evaluation\", \"themes_list\").to_scenario_list().expand(\"themes_list\").rename({\"themes_list\": \"theme\"})\n",
    "wide_evaluation_themes.print(max_rows = 10)"
   ]
  },
  {
   "cell_type": "code",
   "execution_count": null,
   "id": "b1e5041e",
   "metadata": {},
   "outputs": [],
   "source": [
    "wide_evaluation_themes.tally(\"theme\").print(format=\"rich\")"
   ]
  },
  {
   "cell_type": "markdown",
   "id": "4f633cdd-6541-47e9-875a-f90e1512cace",
   "metadata": {},
   "source": [
    "Now we can count the number of evaluations that mention each of the themes:"
   ]
  },
  {
   "cell_type": "markdown",
   "id": "846d29fd-847d-4352-af7c-ed339519e239",
   "metadata": {},
   "source": [
    "We can do the same thing with the areas of improvement:"
   ]
  },
  {
   "cell_type": "code",
   "execution_count": null,
   "id": "13a8a2c1-5a8a-4e46-86fc-8ff23c9587a6",
   "metadata": {},
   "outputs": [],
   "source": [
    "improvements = results.select(\"improvements\").to_list(flatten=True)\n",
    "improvements"
   ]
  },
  {
   "cell_type": "code",
   "execution_count": null,
   "id": "cd346576-9a41-4e15-99ba-ff99fd0d0c06",
   "metadata": {},
   "outputs": [],
   "source": [
    "q_condensed_improvements = QuestionList(\n",
    "    question_name=\"condensed_improvements\",\n",
    "    question_text=\"\"\"Combine the following list of areas for improvement from the evaluations \n",
    "    into a consolidated, non-redundant list: \"\"\"\n",
    "    + \", \".join(improvements),\n",
    "    max_list_items=10,\n",
    ")"
   ]
  },
  {
   "cell_type": "code",
   "execution_count": null,
   "id": "f8e00a94-1eb0-49a5-b338-5385220ee9a3",
   "metadata": {},
   "outputs": [],
   "source": [
    "condensed_improvements = (\n",
    "    q_condensed_improvements.run().select(\"condensed_improvements\").to_list()[0]\n",
    ")\n",
    "condensed_improvements"
   ]
  },
  {
   "cell_type": "code",
   "execution_count": null,
   "id": "154fe917",
   "metadata": {},
   "outputs": [],
   "source": [
    "condensed_improvements"
   ]
  },
  {
   "cell_type": "code",
   "execution_count": null,
   "id": "3f59e1e7-559f-4ca8-9f94-9f75ab29d3f6",
   "metadata": {},
   "outputs": [],
   "source": [
    "q_improvements_list = QuestionCheckBox(\n",
    "    question_name=\"improvements_list\",\n",
    "    question_text=\"Select all of the improvements that are mentioned in this evaluation: {{ evaluation }}\",\n",
    "    question_options=condensed_improvements,\n",
    ")"
   ]
  },
  {
   "cell_type": "code",
   "execution_count": null,
   "id": "89a896d5-2597-4f99-8a34-e8ecb0bf969b",
   "metadata": {},
   "outputs": [],
   "source": [
    "improvements_lists = q_improvements_list.by(scenarios).by(agent).run()\n",
    "improvements_lists.select(\"evaluation\", \"improvements_list\").print(format=\"rich\")"
   ]
  },
  {
   "cell_type": "code",
   "execution_count": null,
   "id": "202e44f4",
   "metadata": {},
   "outputs": [],
   "source": [
    "# improvements_lists # this turns VS Code white!"
   ]
  },
  {
   "cell_type": "code",
   "execution_count": null,
   "id": "c28907c3",
   "metadata": {},
   "outputs": [],
   "source": [
    "wide_themes = (improvements_lists\n",
    "               .select(\"evaluation\", \"improvements_list\")\n",
    "               .to_scenario_list()\n",
    "               .expand(\"improvements_list\")\n",
    "               .rename({\"improvements_list\": \"theme\"})\n",
    ")"
   ]
  },
  {
   "cell_type": "code",
   "execution_count": null,
   "id": "974ad70b",
   "metadata": {},
   "outputs": [],
   "source": [
    "wide_themes.tally(\"theme\").print(format=\"rich\")"
   ]
  },
  {
   "cell_type": "code",
   "execution_count": null,
   "id": "fc027f86",
   "metadata": {},
   "outputs": [],
   "source": [
    "improvements_summary = wide_themes.tally(\"theme\")"
   ]
  },
  {
   "cell_type": "code",
   "execution_count": null,
   "id": "8a331493",
   "metadata": {},
   "outputs": [],
   "source": [
    "summary_string = improvements_summary.print(format = \"markdown\", return_string = True)"
   ]
  },
  {
   "cell_type": "markdown",
   "id": "fd739dc9-da05-4e39-ae23-bce83df78c23",
   "metadata": {},
   "source": [
    "## Summarize the review\n",
    "Here we create another question prompting the agent to summarize the analysis that was done, using the results of the prior steps:"
   ]
  },
  {
   "cell_type": "code",
   "execution_count": null,
   "id": "4b6ae6f1-9ee6-46fb-a0d8-5e61acacf2e4",
   "metadata": {},
   "outputs": [],
   "source": [
    "from edsl.questions import QuestionFreeText\n",
    "\n",
    "q_summary = QuestionFreeText(\n",
    "    question_name=\"summary\",\n",
    "    question_text=\"Consider the following analyses of the evaluations and draft a paragraph summarizing them.\"\n",
    "    + \"Evaluation counts by theme: \" + \n",
    "    wide_evaluation_themes.tally(\"theme\").print(format = \"markdown\", return_string = True)\n",
    "    + \"Evaluation counts by area of improvement:\"\n",
    "    + summary_string\n",
    ")\n",
    "\n",
    "summary = q_summary.by(agent).run()\n",
    "summary.select(\"summary\").print(format=\"rich\")"
   ]
  },
  {
   "cell_type": "markdown",
   "id": "f73ef4c2-8cff-4d4a-a081-77f12e3ca60f",
   "metadata": {},
   "source": [
    "## Other examples\n",
    "Please check out the [EDSL Docs](https://docs.expectedparrot.com/en/latest/index.html) for examples of other methods and templates for use cases, and [join our Discord channel](https://discord.com/invite/mxAYkjfy9m) to ask questions and with other users!"
   ]
  }
 ],
 "metadata": {
  "kernelspec": {
   "display_name": "Python 3 (ipykernel)",
   "language": "python",
   "name": "python3"
  },
  "language_info": {
   "codemirror_mode": {
    "name": "ipython",
    "version": 3
   },
   "file_extension": ".py",
   "mimetype": "text/x-python",
   "name": "python",
   "nbconvert_exporter": "python",
   "pygments_lexer": "ipython3",
   "version": "3.10.14"
  }
 },
 "nbformat": 4,
 "nbformat_minor": 5
}
