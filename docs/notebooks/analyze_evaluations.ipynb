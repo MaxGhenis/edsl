{
 "cells": [
  {
   "cell_type": "markdown",
   "id": "5f7d91f1-d71a-4271-8d2b-0dc770d2deb3",
   "metadata": {},
   "source": [
    "# Analyzing course evaluations\n",
    "This notebook provides sample EDSL code for using a language model to analyze a set of course evaluations. The analysis is designed as a survey of questions about the evaluations that we prompt an AI agent to answer, using a language model to generate the responses as a dataset.\n",
    "\n",
    "[EDSL](https://pypi.org/project/edsl/) is an open-source Python package for simulating surveys and experiments with AI agents and language models. Please [see our docs](https://docs.expectedparrot.com/en/latest/index.html#) for tips on getting started."
   ]
  },
  {
   "cell_type": "markdown",
   "id": "55d3eab2-f341-468e-b23f-ff4818227d11",
   "metadata": {},
   "source": [
    "## Technical setup\n",
    "Before running the code below, please see instructions for [installing EDSL](https://docs.expectedparrot.com/en/latest/installation.html) and [storing API keys](https://docs.expectedparrot.com/en/latest/api_keys.html) for the language models that you want to use. "
   ]
  },
  {
   "cell_type": "code",
   "execution_count": 1,
   "id": "1656f8dc-802e-4fce-9eba-fcb4be0a5ea6",
   "metadata": {},
   "outputs": [],
   "source": [
    "# pip install edsl"
   ]
  },
  {
   "cell_type": "markdown",
   "id": "1e598a51-452b-4e58-9900-52f3f8701e0b",
   "metadata": {},
   "source": [
    "## Create questions\n",
    "We start by creating questions about the evaluations for an agent to answer. EDSL comes with a [variety of question types](https://docs.expectedparrot.com/en/latest/questions.html) (multiple choice, free text, etc.) that we can choose from based on the desired format of the response (e.g., a selection from a list of options, unstructured text, etc.). We can use a `{{ placeholder }}` in each question text in order to parameterize it with each evaluation. This allows us to create different \"scenarios\" of the questions that we can administer together."
   ]
  },
  {
   "cell_type": "markdown",
   "id": "1e5b3bc0-a7b0-423c-a889-44fcbd5284be",
   "metadata": {},
   "source": [
    "Here we select some question types:"
   ]
  },
  {
   "cell_type": "code",
   "execution_count": 2,
   "id": "adb62f9a-55c9-41bf-8d5a-9230de19e85b",
   "metadata": {},
   "outputs": [],
   "source": [
    "from edsl.questions import QuestionList, QuestionMultipleChoice"
   ]
  },
  {
   "cell_type": "markdown",
   "id": "c3bb0921-8181-44d8-bf52-f51b56f2f67b",
   "metadata": {},
   "source": [
    "Here we compose some questions in the relevant question type templates (see [examples of all types](https://docs.expectedparrot.com/en/latest/questions.html#question-type-classes) in the docs):"
   ]
  },
  {
   "cell_type": "code",
   "execution_count": 3,
   "id": "62069678-8864-4a9c-b505-0d107838549e",
   "metadata": {},
   "outputs": [],
   "source": [
    "q_sentiment = QuestionMultipleChoice(\n",
    "    question_name = \"sentiment\",\n",
    "    question_text = \"What is the overall sentiment of the following evaluation: {{ evaluation }}\",\n",
    "    question_options = [\"Positive\", \"Neutral\", \"Negative\"]\n",
    ")\n",
    "\n",
    "q_themes = QuestionList(\n",
    "    question_name = \"themes\",\n",
    "    question_text = \"Identify the key points in the following evaluation and summarize each point individually: {{ evaluation }}\",\n",
    "    max_list_items = 3 # Optional \n",
    ")\n",
    "\n",
    "q_improvements = QuestionList(\n",
    "    question_name = \"improvements\",\n",
    "    question_text = \"Identify areas for improvement of the course based on the following evaluation and summarize them individually: {{ evaluation }}\",\n",
    "    max_list_items = 3\n",
    ")"
   ]
  },
  {
   "cell_type": "markdown",
   "id": "d09e20f5-284b-4be4-827c-155916aa454c",
   "metadata": {},
   "source": [
    "## Construct a survey\n",
    "Next we combine our questions into a survey. This allows us to administer the questions asynchronously (by default), or according to any desired [survey logic or rules](https://docs.expectedparrot.com/en/latest/surveys.html) that we want to add, such as skip/stop rules or giving an agent \"memories\" of other questions in the survey. Here we create a simple asynchronous survey by passing the list of questions to a `Survey` object:"
   ]
  },
  {
   "cell_type": "code",
   "execution_count": 4,
   "id": "563a34b8-5a2f-4052-b977-7d6df824d723",
   "metadata": {},
   "outputs": [],
   "source": [
    "from edsl import Survey\n",
    "\n",
    "survey = Survey(questions = [q_sentiment, q_themes, q_improvements])"
   ]
  },
  {
   "cell_type": "markdown",
   "id": "cf8b238d-8771-4477-bab9-0c49fe6c9f4b",
   "metadata": {},
   "source": [
    "## Select data for review\n",
    "Next we identify the data to be analyzed. Here we use some mock evaluations for an Econ 101 course stored as a list of texts:"
   ]
  },
  {
   "cell_type": "code",
   "execution_count": 5,
   "id": "a1deaee8-4a95-4708-adcf-754032571652",
   "metadata": {},
   "outputs": [],
   "source": [
    "evaluations = [\n",
    "    \"I found the course very engaging and informative. The professor did an excellent job breaking down complex concepts, making them accessible to those of us new to economics. However, the pace was a bit fast, and I sometimes struggled to keep up with the weekly readings.\",\n",
    "    \"This class was a struggle for me. The material felt dry and difficult to connect with real-world applications, which I think could have made it more interesting. More examples from current events would definitely have helped spark my interest.\",\n",
    "    \"Excellent introductory course! The professor was enthusiastic and always willing to offer extra help during office hours. The interactive lectures and the practical assignments made the theory much more digestible and engaging.\",\n",
    "    \"As someone with a strong background in math, I appreciated the analytical rigor of this course. However, I wish there had been more discussions that connected the theories we learned to everyday economic issues. It felt a bit isolated from practical realities at times.\",\n",
    "    \"I enjoyed the course, especially the group projects, which were both challenging and rewarding. It was great to apply economic concepts to solve real-life problems. I did feel, however, that the feedback on assignments could be more detailed to help us understand our mistakes.\",\n",
    "    \"The course content was well-organized, but the lectures were somewhat monotonous and hard to follow. I would suggest incorporating more visual aids and maybe some guest lectures from industry professionals to liven up the sessions.\",\n",
    "    \"This was my favorite class this semester! The mix of theory and case studies was perfect, and the exams were fair. I also really appreciated the diversity of perspectives we explored in class, especially in terms of global economic policies.\",\n",
    "    \"I found the textbook to be overly complex for an introductory course. It often used jargon that hadn't been explained in lectures, which was confusing. Simpler reading materials or more explanatory lectures would make a big difference for newcomers to economics.\",\n",
    "    \"The professor was knowledgeable and clearly passionate about economics, but I felt the course relied too heavily on tests rather than more creative forms of assessment. More varied assignments would make the course more accessible to students with different learning styles.\",\n",
    "    \"This class was a solid introduction to economics, though it leaned heavily on theoretical aspects. I would have liked more opportunities to discuss the real-world implications of economic theories, which I believe would enhance understanding and retention of the material.\",\n",
    "]"
   ]
  },
  {
   "cell_type": "markdown",
   "id": "d9e3b6a6-af89-428e-82ad-829374cc4d5d",
   "metadata": {},
   "source": [
    "## Add data to the questions\n",
    "Next we create a `Scenario` for each evaluation that we will add to the questions when we run the survey:"
   ]
  },
  {
   "cell_type": "code",
   "execution_count": 6,
   "id": "e4145046-278b-4c21-884f-6379108cb6d5",
   "metadata": {},
   "outputs": [],
   "source": [
    "from edsl import Scenario\n",
    "\n",
    "scenarios = [Scenario({\"evaluation\":e}) for e in evaluations]"
   ]
  },
  {
   "cell_type": "markdown",
   "id": "66effed9-37e5-42c1-8853-65e036ffc127",
   "metadata": {},
   "source": [
    "## Design AI agents\n",
    "Next we design agents with relevant traits and personas for the model to use in answering the questions. This can be useful if we want to compare responses among different audiences. We do this by passing a dictionaries of `traits` to `Agent` objects. We can also choose whether to give an agent additional instructions for ansering the survey (independent of individual question texts). Here we create a persona for the professor of the course and pass it some special instructions:"
   ]
  },
  {
   "cell_type": "code",
   "execution_count": 7,
   "id": "dbc8f766-ce89-4824-8f23-18064ae2a732",
   "metadata": {},
   "outputs": [],
   "source": [
    "from edsl import Agent\n",
    "\n",
    "persona = \"You are a professor reviewing student evaluations for your recent Econ 101 course.\"\n",
    "instruction = \"Be very specific and constructive in providing feedback and suggestions.\"\n",
    "\n",
    "agent = Agent(traits = {\"persona\": persona}, instruction = instruction)"
   ]
  },
  {
   "cell_type": "markdown",
   "id": "ded18cb2-99bb-4622-bcd5-1dd4ad2ec0c9",
   "metadata": {},
   "source": [
    "## Select language models\n",
    "EDSL works with many popular language models that we can use to generate responses for our survey. We can see a current list of all available models:"
   ]
  },
  {
   "cell_type": "code",
   "execution_count": 8,
   "id": "d0af932e-a2de-48b2-afea-9960fde8b070",
   "metadata": {},
   "outputs": [
    {
     "data": {
      "text/plain": [
       "[['01-ai/Yi-34B-Chat', 'deep_infra', 0],\n",
       " ['Austism/chronos-hermes-13b-v2', 'deep_infra', 1],\n",
       " ['Gryphe/MythoMax-L2-13b', 'deep_infra', 2],\n",
       " ['Gryphe/MythoMax-L2-13b-turbo', 'deep_infra', 3],\n",
       " ['HuggingFaceH4/zephyr-orpo-141b-A35b-v0.1', 'deep_infra', 4],\n",
       " ['Phind/Phind-CodeLlama-34B-v2', 'deep_infra', 5],\n",
       " ['bigcode/starcoder2-15b', 'deep_infra', 6],\n",
       " ['bigcode/starcoder2-15b-instruct-v0.1', 'deep_infra', 7],\n",
       " ['claude-3-haiku-20240307', 'anthropic', 8],\n",
       " ['claude-3-opus-20240229', 'anthropic', 9],\n",
       " ['claude-3-sonnet-20240229', 'anthropic', 10],\n",
       " ['codellama/CodeLlama-34b-Instruct-hf', 'deep_infra', 11],\n",
       " ['codellama/CodeLlama-70b-Instruct-hf', 'deep_infra', 12],\n",
       " ['cognitivecomputations/dolphin-2.6-mixtral-8x7b', 'deep_infra', 13],\n",
       " ['databricks/dbrx-instruct', 'deep_infra', 14],\n",
       " ['deepinfra/airoboros-70b', 'deep_infra', 15],\n",
       " ['gemini-pro', 'google', 16],\n",
       " ['google/codegemma-7b-it', 'deep_infra', 17],\n",
       " ['google/gemma-1.1-7b-it', 'deep_infra', 18],\n",
       " ['gpt-3.5-turbo', 'openai', 19],\n",
       " ['gpt-3.5-turbo-0125', 'openai', 20],\n",
       " ['gpt-3.5-turbo-0301', 'openai', 21],\n",
       " ['gpt-3.5-turbo-0613', 'openai', 22],\n",
       " ['gpt-3.5-turbo-1106', 'openai', 23],\n",
       " ['gpt-3.5-turbo-16k', 'openai', 24],\n",
       " ['gpt-3.5-turbo-16k-0613', 'openai', 25],\n",
       " ['gpt-3.5-turbo-instruct', 'openai', 26],\n",
       " ['gpt-3.5-turbo-instruct-0914', 'openai', 27],\n",
       " ['gpt-4', 'openai', 28],\n",
       " ['gpt-4-0125-preview', 'openai', 29],\n",
       " ['gpt-4-0613', 'openai', 30],\n",
       " ['gpt-4-1106-preview', 'openai', 31],\n",
       " ['gpt-4-1106-vision-preview', 'openai', 32],\n",
       " ['gpt-4-turbo', 'openai', 33],\n",
       " ['gpt-4-turbo-2024-04-09', 'openai', 34],\n",
       " ['gpt-4-turbo-preview', 'openai', 35],\n",
       " ['gpt-4-vision-preview', 'openai', 36],\n",
       " ['gpt-4o', 'openai', 37],\n",
       " ['gpt-4o-2024-05-13', 'openai', 38],\n",
       " ['lizpreciatior/lzlv_70b_fp16_hf', 'deep_infra', 39],\n",
       " ['llava-hf/llava-1.5-7b-hf', 'deep_infra', 40],\n",
       " ['meta-llama/Llama-2-13b-chat-hf', 'deep_infra', 41],\n",
       " ['meta-llama/Llama-2-70b-chat-hf', 'deep_infra', 42],\n",
       " ['meta-llama/Llama-2-7b-chat-hf', 'deep_infra', 43],\n",
       " ['meta-llama/Meta-Llama-3-70B-Instruct', 'deep_infra', 44],\n",
       " ['meta-llama/Meta-Llama-3-8B-Instruct', 'deep_infra', 45],\n",
       " ['microsoft/WizardLM-2-7B', 'deep_infra', 46],\n",
       " ['microsoft/WizardLM-2-8x22B', 'deep_infra', 47],\n",
       " ['mistralai/Mistral-7B-Instruct-v0.1', 'deep_infra', 48],\n",
       " ['mistralai/Mistral-7B-Instruct-v0.2', 'deep_infra', 49],\n",
       " ['mistralai/Mixtral-8x22B-Instruct-v0.1', 'deep_infra', 50],\n",
       " ['mistralai/Mixtral-8x22B-v0.1', 'deep_infra', 51],\n",
       " ['mistralai/Mixtral-8x7B-Instruct-v0.1', 'deep_infra', 52],\n",
       " ['openchat/openchat_3.5', 'deep_infra', 53]]"
      ]
     },
     "execution_count": 8,
     "metadata": {},
     "output_type": "execute_result"
    }
   ],
   "source": [
    "from edsl import Model\n",
    "\n",
    "Model.available()"
   ]
  },
  {
   "cell_type": "markdown",
   "id": "7840e3d7-a6cd-4721-bd2d-b0875894c43c",
   "metadata": {},
   "source": [
    "We select models to use with a survey by creating `Model` objects for them. The default model is GPT 4 Preview, meaning that EDSL will use it to run our survey if we do not specify a different model (with API keys stored). For purposes of demontration, we'll explicitly specify this model the way that we do any other model:"
   ]
  },
  {
   "cell_type": "code",
   "execution_count": 9,
   "id": "4d1b8189-289a-4dce-834d-95acf28c7524",
   "metadata": {},
   "outputs": [],
   "source": [
    "model = Model('gpt-4-1106-preview')"
   ]
  },
  {
   "cell_type": "markdown",
   "id": "2a93cb3f-dce5-49c5-865a-b01579697103",
   "metadata": {},
   "source": [
    "Learn more about available [language models and methods](https://docs.expectedparrot.com/en/latest/language_models.html)."
   ]
  },
  {
   "cell_type": "markdown",
   "id": "2dab396d-c2fe-4827-8edd-24e9c807fe82",
   "metadata": {},
   "source": [
    "## Run the survey\n",
    "Now we add the scenarios and agent to the survey, and then run it with the specified model. This will generate a dataset of responses that we can store and begin analyzing:"
   ]
  },
  {
   "cell_type": "code",
   "execution_count": 10,
   "id": "98980a22-aafd-40f3-b9c0-c2e3de35e320",
   "metadata": {},
   "outputs": [],
   "source": [
    "results = survey.by(scenarios).by(agent).by(model).run()"
   ]
  },
  {
   "cell_type": "markdown",
   "id": "5be23620-804f-4543-85c4-13d0ab9071b2",
   "metadata": {},
   "source": [
    "## Inspect the responses\n",
    "EDSL comes with [built-in methods for analyzing results](https://docs.expectedparrot.com/en/latest/results.html) in data tables, dataframes, SQL queries and other formats. We can print a list of all the components that can be accessed:"
   ]
  },
  {
   "cell_type": "code",
   "execution_count": 11,
   "id": "0b06995d-fe20-4021-80ee-ca5f62111fa1",
   "metadata": {},
   "outputs": [
    {
     "data": {
      "text/plain": [
       "['agent.agent_instruction',\n",
       " 'agent.agent_name',\n",
       " 'agent.persona',\n",
       " 'answer.improvements',\n",
       " 'answer.sentiment',\n",
       " 'answer.themes',\n",
       " 'comment.improvements_comment',\n",
       " 'comment.sentiment_comment',\n",
       " 'comment.themes_comment',\n",
       " 'iteration.iteration',\n",
       " 'model.frequency_penalty',\n",
       " 'model.logprobs',\n",
       " 'model.max_tokens',\n",
       " 'model.model',\n",
       " 'model.presence_penalty',\n",
       " 'model.temperature',\n",
       " 'model.top_logprobs',\n",
       " 'model.top_p',\n",
       " 'prompt.improvements_system_prompt',\n",
       " 'prompt.improvements_user_prompt',\n",
       " 'prompt.sentiment_system_prompt',\n",
       " 'prompt.sentiment_user_prompt',\n",
       " 'prompt.themes_system_prompt',\n",
       " 'prompt.themes_user_prompt',\n",
       " 'question_options.improvements_question_options',\n",
       " 'question_options.sentiment_question_options',\n",
       " 'question_options.themes_question_options',\n",
       " 'question_text.improvements_question_text',\n",
       " 'question_text.sentiment_question_text',\n",
       " 'question_text.themes_question_text',\n",
       " 'question_type.improvements_question_type',\n",
       " 'question_type.sentiment_question_type',\n",
       " 'question_type.themes_question_type',\n",
       " 'raw_model_response.improvements_raw_model_response',\n",
       " 'raw_model_response.sentiment_raw_model_response',\n",
       " 'raw_model_response.themes_raw_model_response',\n",
       " 'scenario.edsl_class_name',\n",
       " 'scenario.edsl_version',\n",
       " 'scenario.evaluation']"
      ]
     },
     "execution_count": 11,
     "metadata": {},
     "output_type": "execute_result"
    }
   ],
   "source": [
    "results.columns"
   ]
  },
  {
   "cell_type": "markdown",
   "id": "fc7edae4-b34e-417f-9526-1ca0dea2a30b",
   "metadata": {},
   "source": [
    "For example, we can transform the results into a dataframe:"
   ]
  },
  {
   "cell_type": "code",
   "execution_count": 12,
   "id": "d58fab0f-abb9-40be-840d-2ecc6f67138a",
   "metadata": {},
   "outputs": [
    {
     "data": {
      "text/html": [
       "<div>\n",
       "<style scoped>\n",
       "    .dataframe tbody tr th:only-of-type {\n",
       "        vertical-align: middle;\n",
       "    }\n",
       "\n",
       "    .dataframe tbody tr th {\n",
       "        vertical-align: top;\n",
       "    }\n",
       "\n",
       "    .dataframe thead th {\n",
       "        text-align: right;\n",
       "    }\n",
       "</style>\n",
       "<table border=\"1\" class=\"dataframe\">\n",
       "  <thead>\n",
       "    <tr style=\"text-align: right;\">\n",
       "      <th></th>\n",
       "      <th>agent.agent_instruction</th>\n",
       "      <th>agent.agent_name</th>\n",
       "      <th>agent.persona</th>\n",
       "      <th>answer.improvements</th>\n",
       "      <th>answer.sentiment</th>\n",
       "      <th>answer.themes</th>\n",
       "      <th>comment.improvements_comment</th>\n",
       "      <th>comment.sentiment_comment</th>\n",
       "      <th>comment.themes_comment</th>\n",
       "      <th>iteration.iteration</th>\n",
       "      <th>...</th>\n",
       "      <th>question_text.themes_question_text</th>\n",
       "      <th>question_type.improvements_question_type</th>\n",
       "      <th>question_type.sentiment_question_type</th>\n",
       "      <th>question_type.themes_question_type</th>\n",
       "      <th>raw_model_response.improvements_raw_model_response</th>\n",
       "      <th>raw_model_response.sentiment_raw_model_response</th>\n",
       "      <th>raw_model_response.themes_raw_model_response</th>\n",
       "      <th>scenario.edsl_class_name</th>\n",
       "      <th>scenario.edsl_version</th>\n",
       "      <th>scenario.evaluation</th>\n",
       "    </tr>\n",
       "  </thead>\n",
       "  <tbody>\n",
       "    <tr>\n",
       "      <th>0</th>\n",
       "      <td>Be very specific and constructive in providing...</td>\n",
       "      <td>Agent_0</td>\n",
       "      <td>You are a professor reviewing student evaluati...</td>\n",
       "      <td>['Adjust course pace', 'Balance workload', 'Su...</td>\n",
       "      <td>Positive</td>\n",
       "      <td>['engaging and informative', 'excellent at bre...</td>\n",
       "      <td>The feedback indicates that while the course c...</td>\n",
       "      <td>The evaluation reflects a positive sentiment o...</td>\n",
       "      <td>The student appreciated the engaging nature of...</td>\n",
       "      <td>0</td>\n",
       "      <td>...</td>\n",
       "      <td>Identify the key points in the following evalu...</td>\n",
       "      <td>list</td>\n",
       "      <td>multiple_choice</td>\n",
       "      <td>list</td>\n",
       "      <td>{'id': 'chatcmpl-9OUMTjhvDgNCiUjpl4CgIYrZY1skB...</td>\n",
       "      <td>{'id': 'chatcmpl-9OU6G4h9uiBF1AVtRRWXADirLiFOe...</td>\n",
       "      <td>{'id': 'chatcmpl-9OUMTHdbeFQlQfILIu1e8Sm3pj2gl...</td>\n",
       "      <td>Scenario</td>\n",
       "      <td>0.1.21</td>\n",
       "      <td>I found the course very engaging and informati...</td>\n",
       "    </tr>\n",
       "    <tr>\n",
       "      <th>1</th>\n",
       "      <td>Be very specific and constructive in providing...</td>\n",
       "      <td>Agent_0</td>\n",
       "      <td>You are a professor reviewing student evaluati...</td>\n",
       "      <td>['Incorporate current events', 'Real-world app...</td>\n",
       "      <td>Negative</td>\n",
       "      <td>['material felt dry', 'difficult to connect wi...</td>\n",
       "      <td>To enhance student engagement and understandin...</td>\n",
       "      <td>The student expressed difficulty engaging with...</td>\n",
       "      <td>The student found the course content to be une...</td>\n",
       "      <td>0</td>\n",
       "      <td>...</td>\n",
       "      <td>Identify the key points in the following evalu...</td>\n",
       "      <td>list</td>\n",
       "      <td>multiple_choice</td>\n",
       "      <td>list</td>\n",
       "      <td>{'id': 'chatcmpl-9OUMT5o8NwVgPoqtczXFo3V8wjVTf...</td>\n",
       "      <td>{'id': 'chatcmpl-9OU6Gw9lJaZI1Gj1jIatspMFWyCHJ...</td>\n",
       "      <td>{'id': 'chatcmpl-9OUMTci4D30J69XFQ2BpKrZui0Req...</td>\n",
       "      <td>Scenario</td>\n",
       "      <td>0.1.21</td>\n",
       "      <td>This class was a struggle for me. The material...</td>\n",
       "    </tr>\n",
       "    <tr>\n",
       "      <th>2</th>\n",
       "      <td>Be very specific and constructive in providing...</td>\n",
       "      <td>Agent_0</td>\n",
       "      <td>You are a professor reviewing student evaluati...</td>\n",
       "      <td>[]</td>\n",
       "      <td>Positive</td>\n",
       "      <td>['Enthusiastic teaching', 'Availability for ex...</td>\n",
       "      <td>The student evaluation is positive without any...</td>\n",
       "      <td>The evaluation is positive as it praises the c...</td>\n",
       "      <td>The evaluation reflects a positive reception o...</td>\n",
       "      <td>0</td>\n",
       "      <td>...</td>\n",
       "      <td>Identify the key points in the following evalu...</td>\n",
       "      <td>list</td>\n",
       "      <td>multiple_choice</td>\n",
       "      <td>list</td>\n",
       "      <td>{'id': 'chatcmpl-9OUMT63f973BB5zLGGnWFukAc3qnG...</td>\n",
       "      <td>{'id': 'chatcmpl-9OU6Gf0qaSmq4br1TpDQS5Al0itC8...</td>\n",
       "      <td>{'id': 'chatcmpl-9OUMTHZRGCiX90dEQ9jOAMJO5zKBM...</td>\n",
       "      <td>Scenario</td>\n",
       "      <td>0.1.21</td>\n",
       "      <td>Excellent introductory course! The professor w...</td>\n",
       "    </tr>\n",
       "    <tr>\n",
       "      <th>3</th>\n",
       "      <td>Be very specific and constructive in providing...</td>\n",
       "      <td>Agent_0</td>\n",
       "      <td>You are a professor reviewing student evaluati...</td>\n",
       "      <td>['Incorporate real-world applications', 'Facil...</td>\n",
       "      <td>Neutral</td>\n",
       "      <td>['appreciation of analytical rigor', 'desire f...</td>\n",
       "      <td>The student's feedback suggests a need for the...</td>\n",
       "      <td>The evaluation reflects a mixed sentiment. The...</td>\n",
       "      <td>The student valued the analytical depth of the...</td>\n",
       "      <td>0</td>\n",
       "      <td>...</td>\n",
       "      <td>Identify the key points in the following evalu...</td>\n",
       "      <td>list</td>\n",
       "      <td>multiple_choice</td>\n",
       "      <td>list</td>\n",
       "      <td>{'id': 'chatcmpl-9OUMTtCDUXqVZYPqSxZexLuX7YkQa...</td>\n",
       "      <td>{'id': 'chatcmpl-9OU6GToQ479RGEuW3MMM3kGHHQ961...</td>\n",
       "      <td>{'id': 'chatcmpl-9OUMTgpZ7IyVjivK5QTE9VTejpZsM...</td>\n",
       "      <td>Scenario</td>\n",
       "      <td>0.1.21</td>\n",
       "      <td>As someone with a strong background in math, I...</td>\n",
       "    </tr>\n",
       "    <tr>\n",
       "      <th>4</th>\n",
       "      <td>Be very specific and constructive in providing...</td>\n",
       "      <td>Agent_0</td>\n",
       "      <td>You are a professor reviewing student evaluati...</td>\n",
       "      <td>['Detailed feedback', 'Understanding mistakes'...</td>\n",
       "      <td>Positive</td>\n",
       "      <td>['enjoyed group projects', 'application of con...</td>\n",
       "      <td>The student appreciates the practical applicat...</td>\n",
       "      <td>The evaluation expresses a positive sentiment ...</td>\n",
       "      <td>The student appreciated the practical applicat...</td>\n",
       "      <td>0</td>\n",
       "      <td>...</td>\n",
       "      <td>Identify the key points in the following evalu...</td>\n",
       "      <td>list</td>\n",
       "      <td>multiple_choice</td>\n",
       "      <td>list</td>\n",
       "      <td>{'id': 'chatcmpl-9OUMT1OqPDQEYOQAT2HH3vYElYZcK...</td>\n",
       "      <td>{'id': 'chatcmpl-9OU6Gnzy1ZlyjtjRyjIDGPvEb7qrG...</td>\n",
       "      <td>{'id': 'chatcmpl-9OUMTo07KeqUqLBQbk6YGXbVvhCRb...</td>\n",
       "      <td>Scenario</td>\n",
       "      <td>0.1.21</td>\n",
       "      <td>I enjoyed the course, especially the group pro...</td>\n",
       "    </tr>\n",
       "  </tbody>\n",
       "</table>\n",
       "<p>5 rows × 39 columns</p>\n",
       "</div>"
      ],
      "text/plain": [
       "                             agent.agent_instruction agent.agent_name  \\\n",
       "0  Be very specific and constructive in providing...          Agent_0   \n",
       "1  Be very specific and constructive in providing...          Agent_0   \n",
       "2  Be very specific and constructive in providing...          Agent_0   \n",
       "3  Be very specific and constructive in providing...          Agent_0   \n",
       "4  Be very specific and constructive in providing...          Agent_0   \n",
       "\n",
       "                                       agent.persona  \\\n",
       "0  You are a professor reviewing student evaluati...   \n",
       "1  You are a professor reviewing student evaluati...   \n",
       "2  You are a professor reviewing student evaluati...   \n",
       "3  You are a professor reviewing student evaluati...   \n",
       "4  You are a professor reviewing student evaluati...   \n",
       "\n",
       "                                 answer.improvements answer.sentiment  \\\n",
       "0  ['Adjust course pace', 'Balance workload', 'Su...         Positive   \n",
       "1  ['Incorporate current events', 'Real-world app...         Negative   \n",
       "2                                                 []         Positive   \n",
       "3  ['Incorporate real-world applications', 'Facil...          Neutral   \n",
       "4  ['Detailed feedback', 'Understanding mistakes'...         Positive   \n",
       "\n",
       "                                       answer.themes  \\\n",
       "0  ['engaging and informative', 'excellent at bre...   \n",
       "1  ['material felt dry', 'difficult to connect wi...   \n",
       "2  ['Enthusiastic teaching', 'Availability for ex...   \n",
       "3  ['appreciation of analytical rigor', 'desire f...   \n",
       "4  ['enjoyed group projects', 'application of con...   \n",
       "\n",
       "                        comment.improvements_comment  \\\n",
       "0  The feedback indicates that while the course c...   \n",
       "1  To enhance student engagement and understandin...   \n",
       "2  The student evaluation is positive without any...   \n",
       "3  The student's feedback suggests a need for the...   \n",
       "4  The student appreciates the practical applicat...   \n",
       "\n",
       "                           comment.sentiment_comment  \\\n",
       "0  The evaluation reflects a positive sentiment o...   \n",
       "1  The student expressed difficulty engaging with...   \n",
       "2  The evaluation is positive as it praises the c...   \n",
       "3  The evaluation reflects a mixed sentiment. The...   \n",
       "4  The evaluation expresses a positive sentiment ...   \n",
       "\n",
       "                              comment.themes_comment  iteration.iteration  \\\n",
       "0  The student appreciated the engaging nature of...                    0   \n",
       "1  The student found the course content to be une...                    0   \n",
       "2  The evaluation reflects a positive reception o...                    0   \n",
       "3  The student valued the analytical depth of the...                    0   \n",
       "4  The student appreciated the practical applicat...                    0   \n",
       "\n",
       "   ...                 question_text.themes_question_text  \\\n",
       "0  ...  Identify the key points in the following evalu...   \n",
       "1  ...  Identify the key points in the following evalu...   \n",
       "2  ...  Identify the key points in the following evalu...   \n",
       "3  ...  Identify the key points in the following evalu...   \n",
       "4  ...  Identify the key points in the following evalu...   \n",
       "\n",
       "   question_type.improvements_question_type  \\\n",
       "0                                      list   \n",
       "1                                      list   \n",
       "2                                      list   \n",
       "3                                      list   \n",
       "4                                      list   \n",
       "\n",
       "   question_type.sentiment_question_type question_type.themes_question_type  \\\n",
       "0                        multiple_choice                               list   \n",
       "1                        multiple_choice                               list   \n",
       "2                        multiple_choice                               list   \n",
       "3                        multiple_choice                               list   \n",
       "4                        multiple_choice                               list   \n",
       "\n",
       "   raw_model_response.improvements_raw_model_response  \\\n",
       "0  {'id': 'chatcmpl-9OUMTjhvDgNCiUjpl4CgIYrZY1skB...    \n",
       "1  {'id': 'chatcmpl-9OUMT5o8NwVgPoqtczXFo3V8wjVTf...    \n",
       "2  {'id': 'chatcmpl-9OUMT63f973BB5zLGGnWFukAc3qnG...    \n",
       "3  {'id': 'chatcmpl-9OUMTtCDUXqVZYPqSxZexLuX7YkQa...    \n",
       "4  {'id': 'chatcmpl-9OUMT1OqPDQEYOQAT2HH3vYElYZcK...    \n",
       "\n",
       "     raw_model_response.sentiment_raw_model_response  \\\n",
       "0  {'id': 'chatcmpl-9OU6G4h9uiBF1AVtRRWXADirLiFOe...   \n",
       "1  {'id': 'chatcmpl-9OU6Gw9lJaZI1Gj1jIatspMFWyCHJ...   \n",
       "2  {'id': 'chatcmpl-9OU6Gf0qaSmq4br1TpDQS5Al0itC8...   \n",
       "3  {'id': 'chatcmpl-9OU6GToQ479RGEuW3MMM3kGHHQ961...   \n",
       "4  {'id': 'chatcmpl-9OU6Gnzy1ZlyjtjRyjIDGPvEb7qrG...   \n",
       "\n",
       "        raw_model_response.themes_raw_model_response  \\\n",
       "0  {'id': 'chatcmpl-9OUMTHdbeFQlQfILIu1e8Sm3pj2gl...   \n",
       "1  {'id': 'chatcmpl-9OUMTci4D30J69XFQ2BpKrZui0Req...   \n",
       "2  {'id': 'chatcmpl-9OUMTHZRGCiX90dEQ9jOAMJO5zKBM...   \n",
       "3  {'id': 'chatcmpl-9OUMTgpZ7IyVjivK5QTE9VTejpZsM...   \n",
       "4  {'id': 'chatcmpl-9OUMTo07KeqUqLBQbk6YGXbVvhCRb...   \n",
       "\n",
       "   scenario.edsl_class_name scenario.edsl_version  \\\n",
       "0                  Scenario                0.1.21   \n",
       "1                  Scenario                0.1.21   \n",
       "2                  Scenario                0.1.21   \n",
       "3                  Scenario                0.1.21   \n",
       "4                  Scenario                0.1.21   \n",
       "\n",
       "                                 scenario.evaluation  \n",
       "0  I found the course very engaging and informati...  \n",
       "1  This class was a struggle for me. The material...  \n",
       "2  Excellent introductory course! The professor w...  \n",
       "3  As someone with a strong background in math, I...  \n",
       "4  I enjoyed the course, especially the group pro...  \n",
       "\n",
       "[5 rows x 39 columns]"
      ]
     },
     "execution_count": 12,
     "metadata": {},
     "output_type": "execute_result"
    }
   ],
   "source": [
    "df = results.to_pandas()\n",
    "df.head()"
   ]
  },
  {
   "cell_type": "markdown",
   "id": "72755341-f2fb-4b93-8467-3a0f57d429c3",
   "metadata": {},
   "source": [
    "Here we select just the responses to the questions and display them in a table:"
   ]
  },
  {
   "cell_type": "code",
   "execution_count": 13,
   "id": "8b105f11-0cb0-45af-a7e7-f77c6d5becd1",
   "metadata": {},
   "outputs": [
    {
     "data": {
      "text/html": [
       "<pre style=\"white-space:pre;overflow-x:auto;line-height:normal;font-family:Menlo,'DejaVu Sans Mono',consolas,'Courier New',monospace\">┏━━━━━━━━━━━━┳━━━━━━━━━━━━━━━━━━━━━━━━━━━━━━━━━━━━━━━━━━━━━━━━━━┳━━━━━━━━━━━━━━━━━━━━━━━━━━━━━━━━━━━━━━━━━━━━━━━━━┓\n",
       "┃<span style=\"color: #800080; text-decoration-color: #800080; font-weight: bold\"> answer     </span>┃<span style=\"color: #800080; text-decoration-color: #800080; font-weight: bold\"> answer                                           </span>┃<span style=\"color: #800080; text-decoration-color: #800080; font-weight: bold\"> answer                                          </span>┃\n",
       "┃<span style=\"color: #800080; text-decoration-color: #800080; font-weight: bold\"> .sentiment </span>┃<span style=\"color: #800080; text-decoration-color: #800080; font-weight: bold\"> .themes                                          </span>┃<span style=\"color: #800080; text-decoration-color: #800080; font-weight: bold\"> .improvements                                   </span>┃\n",
       "┡━━━━━━━━━━━━╇━━━━━━━━━━━━━━━━━━━━━━━━━━━━━━━━━━━━━━━━━━━━━━━━━━╇━━━━━━━━━━━━━━━━━━━━━━━━━━━━━━━━━━━━━━━━━━━━━━━━━┩\n",
       "│<span style=\"color: #7f7f7f; text-decoration-color: #7f7f7f\"> Positive   </span>│<span style=\"color: #7f7f7f; text-decoration-color: #7f7f7f\"> ['engaging and informative', 'excellent at       </span>│<span style=\"color: #7f7f7f; text-decoration-color: #7f7f7f\"> ['Adjust course pace', 'Balance workload',      </span>│\n",
       "│<span style=\"color: #7f7f7f; text-decoration-color: #7f7f7f\">            </span>│<span style=\"color: #7f7f7f; text-decoration-color: #7f7f7f\"> breaking down complex concepts', 'pace too       </span>│<span style=\"color: #7f7f7f; text-decoration-color: #7f7f7f\"> 'Supplemental resources']                       </span>│\n",
       "│<span style=\"color: #7f7f7f; text-decoration-color: #7f7f7f\">            </span>│<span style=\"color: #7f7f7f; text-decoration-color: #7f7f7f\"> fast']                                           </span>│<span style=\"color: #7f7f7f; text-decoration-color: #7f7f7f\">                                                 </span>│\n",
       "├────────────┼──────────────────────────────────────────────────┼─────────────────────────────────────────────────┤\n",
       "│<span style=\"color: #7f7f7f; text-decoration-color: #7f7f7f\"> Negative   </span>│<span style=\"color: #7f7f7f; text-decoration-color: #7f7f7f\"> ['material felt dry', 'difficult to connect with </span>│<span style=\"color: #7f7f7f; text-decoration-color: #7f7f7f\"> ['Incorporate current events', 'Real-world      </span>│\n",
       "│<span style=\"color: #7f7f7f; text-decoration-color: #7f7f7f\">            </span>│<span style=\"color: #7f7f7f; text-decoration-color: #7f7f7f\"> real-world applications', 'lack of current event </span>│<span style=\"color: #7f7f7f; text-decoration-color: #7f7f7f\"> applications', 'Engaging content']              </span>│\n",
       "│<span style=\"color: #7f7f7f; text-decoration-color: #7f7f7f\">            </span>│<span style=\"color: #7f7f7f; text-decoration-color: #7f7f7f\"> examples']                                       </span>│<span style=\"color: #7f7f7f; text-decoration-color: #7f7f7f\">                                                 </span>│\n",
       "├────────────┼──────────────────────────────────────────────────┼─────────────────────────────────────────────────┤\n",
       "│<span style=\"color: #7f7f7f; text-decoration-color: #7f7f7f\"> Positive   </span>│<span style=\"color: #7f7f7f; text-decoration-color: #7f7f7f\"> ['Enthusiastic teaching', 'Availability for      </span>│<span style=\"color: #7f7f7f; text-decoration-color: #7f7f7f\"> []                                              </span>│\n",
       "│<span style=\"color: #7f7f7f; text-decoration-color: #7f7f7f\">            </span>│<span style=\"color: #7f7f7f; text-decoration-color: #7f7f7f\"> extra help', 'Interactive and practical          </span>│<span style=\"color: #7f7f7f; text-decoration-color: #7f7f7f\">                                                 </span>│\n",
       "│<span style=\"color: #7f7f7f; text-decoration-color: #7f7f7f\">            </span>│<span style=\"color: #7f7f7f; text-decoration-color: #7f7f7f\"> approach']                                       </span>│<span style=\"color: #7f7f7f; text-decoration-color: #7f7f7f\">                                                 </span>│\n",
       "├────────────┼──────────────────────────────────────────────────┼─────────────────────────────────────────────────┤\n",
       "│<span style=\"color: #7f7f7f; text-decoration-color: #7f7f7f\"> Neutral    </span>│<span style=\"color: #7f7f7f; text-decoration-color: #7f7f7f\"> ['appreciation of analytical rigor', 'desire for </span>│<span style=\"color: #7f7f7f; text-decoration-color: #7f7f7f\"> ['Incorporate real-world applications',         </span>│\n",
       "│<span style=\"color: #7f7f7f; text-decoration-color: #7f7f7f\">            </span>│<span style=\"color: #7f7f7f; text-decoration-color: #7f7f7f\"> practical connections', 'feeling of isolation    </span>│<span style=\"color: #7f7f7f; text-decoration-color: #7f7f7f\"> 'Facilitate more discussions', 'Bridge theory   </span>│\n",
       "│<span style=\"color: #7f7f7f; text-decoration-color: #7f7f7f\">            </span>│<span style=\"color: #7f7f7f; text-decoration-color: #7f7f7f\"> from real-world issues']                         </span>│<span style=\"color: #7f7f7f; text-decoration-color: #7f7f7f\"> and practice']                                  </span>│\n",
       "├────────────┼──────────────────────────────────────────────────┼─────────────────────────────────────────────────┤\n",
       "│<span style=\"color: #7f7f7f; text-decoration-color: #7f7f7f\"> Positive   </span>│<span style=\"color: #7f7f7f; text-decoration-color: #7f7f7f\"> ['enjoyed group projects', 'application of       </span>│<span style=\"color: #7f7f7f; text-decoration-color: #7f7f7f\"> ['Detailed feedback', 'Understanding mistakes', </span>│\n",
       "│<span style=\"color: #7f7f7f; text-decoration-color: #7f7f7f\">            </span>│<span style=\"color: #7f7f7f; text-decoration-color: #7f7f7f\"> concepts', 'detailed feedback needed']           </span>│<span style=\"color: #7f7f7f; text-decoration-color: #7f7f7f\"> 'Assignment clarity']                           </span>│\n",
       "├────────────┼──────────────────────────────────────────────────┼─────────────────────────────────────────────────┤\n",
       "│<span style=\"color: #7f7f7f; text-decoration-color: #7f7f7f\"> Neutral    </span>│<span style=\"color: #7f7f7f; text-decoration-color: #7f7f7f\"> ['well-organized content', 'monotonous           </span>│<span style=\"color: #7f7f7f; text-decoration-color: #7f7f7f\"> ['Incorporate visual aids', 'Invite guest       </span>│\n",
       "│<span style=\"color: #7f7f7f; text-decoration-color: #7f7f7f\">            </span>│<span style=\"color: #7f7f7f; text-decoration-color: #7f7f7f\"> lectures', 'use more visual aids and guest       </span>│<span style=\"color: #7f7f7f; text-decoration-color: #7f7f7f\"> lecturers', 'Improve lecture delivery']         </span>│\n",
       "│<span style=\"color: #7f7f7f; text-decoration-color: #7f7f7f\">            </span>│<span style=\"color: #7f7f7f; text-decoration-color: #7f7f7f\"> lectures']                                       </span>│<span style=\"color: #7f7f7f; text-decoration-color: #7f7f7f\">                                                 </span>│\n",
       "├────────────┼──────────────────────────────────────────────────┼─────────────────────────────────────────────────┤\n",
       "│<span style=\"color: #7f7f7f; text-decoration-color: #7f7f7f\"> Positive   </span>│<span style=\"color: #7f7f7f; text-decoration-color: #7f7f7f\"> ['Engaging course content', 'Balanced assessment </span>│<span style=\"color: #7f7f7f; text-decoration-color: #7f7f7f\"> []                                              </span>│\n",
       "│<span style=\"color: #7f7f7f; text-decoration-color: #7f7f7f\">            </span>│<span style=\"color: #7f7f7f; text-decoration-color: #7f7f7f\"> methods', 'Inclusive curriculum']                </span>│<span style=\"color: #7f7f7f; text-decoration-color: #7f7f7f\">                                                 </span>│\n",
       "├────────────┼──────────────────────────────────────────────────┼─────────────────────────────────────────────────┤\n",
       "│<span style=\"color: #7f7f7f; text-decoration-color: #7f7f7f\"> Negative   </span>│<span style=\"color: #7f7f7f; text-decoration-color: #7f7f7f\"> ['textbook complexity', 'unexplained jargon',    </span>│<span style=\"color: #7f7f7f; text-decoration-color: #7f7f7f\"> ['Simplify textbook', 'Clarify jargon in        </span>│\n",
       "│<span style=\"color: #7f7f7f; text-decoration-color: #7f7f7f\">            </span>│<span style=\"color: #7f7f7f; text-decoration-color: #7f7f7f\"> 'need for simpler materials or clearer           </span>│<span style=\"color: #7f7f7f; text-decoration-color: #7f7f7f\"> lectures', 'Provide introductory reading        </span>│\n",
       "│<span style=\"color: #7f7f7f; text-decoration-color: #7f7f7f\">            </span>│<span style=\"color: #7f7f7f; text-decoration-color: #7f7f7f\"> lectures']                                       </span>│<span style=\"color: #7f7f7f; text-decoration-color: #7f7f7f\"> materials']                                     </span>│\n",
       "├────────────┼──────────────────────────────────────────────────┼─────────────────────────────────────────────────┤\n",
       "│<span style=\"color: #7f7f7f; text-decoration-color: #7f7f7f\"> Neutral    </span>│<span style=\"color: #7f7f7f; text-decoration-color: #7f7f7f\"> ['knowledgeable and passionate', 'reliance on    </span>│<span style=\"color: #7f7f7f; text-decoration-color: #7f7f7f\"> ['Diversify assessments', 'Incorporate varied   </span>│\n",
       "│<span style=\"color: #7f7f7f; text-decoration-color: #7f7f7f\">            </span>│<span style=\"color: #7f7f7f; text-decoration-color: #7f7f7f\"> tests', 'need for varied assignments']           </span>│<span style=\"color: #7f7f7f; text-decoration-color: #7f7f7f\"> assignments', 'Accommodate different learning   </span>│\n",
       "│<span style=\"color: #7f7f7f; text-decoration-color: #7f7f7f\">            </span>│<span style=\"color: #7f7f7f; text-decoration-color: #7f7f7f\">                                                  </span>│<span style=\"color: #7f7f7f; text-decoration-color: #7f7f7f\"> styles']                                        </span>│\n",
       "├────────────┼──────────────────────────────────────────────────┼─────────────────────────────────────────────────┤\n",
       "│<span style=\"color: #7f7f7f; text-decoration-color: #7f7f7f\"> Neutral    </span>│<span style=\"color: #7f7f7f; text-decoration-color: #7f7f7f\"> ['solid introduction', 'theoretical focus',      </span>│<span style=\"color: #7f7f7f; text-decoration-color: #7f7f7f\"> ['Incorporate real-world examples',             </span>│\n",
       "│<span style=\"color: #7f7f7f; text-decoration-color: #7f7f7f\">            </span>│<span style=\"color: #7f7f7f; text-decoration-color: #7f7f7f\"> 'lack of real-world discussion']                 </span>│<span style=\"color: #7f7f7f; text-decoration-color: #7f7f7f\"> 'Interactive discussions', 'Application-focused </span>│\n",
       "│<span style=\"color: #7f7f7f; text-decoration-color: #7f7f7f\">            </span>│<span style=\"color: #7f7f7f; text-decoration-color: #7f7f7f\">                                                  </span>│<span style=\"color: #7f7f7f; text-decoration-color: #7f7f7f\"> activities']                                    </span>│\n",
       "└────────────┴──────────────────────────────────────────────────┴─────────────────────────────────────────────────┘\n",
       "</pre>\n"
      ],
      "text/plain": [
       "┏━━━━━━━━━━━━┳━━━━━━━━━━━━━━━━━━━━━━━━━━━━━━━━━━━━━━━━━━━━━━━━━━┳━━━━━━━━━━━━━━━━━━━━━━━━━━━━━━━━━━━━━━━━━━━━━━━━━┓\n",
       "┃\u001b[1;35m \u001b[0m\u001b[1;35manswer    \u001b[0m\u001b[1;35m \u001b[0m┃\u001b[1;35m \u001b[0m\u001b[1;35manswer                                          \u001b[0m\u001b[1;35m \u001b[0m┃\u001b[1;35m \u001b[0m\u001b[1;35manswer                                         \u001b[0m\u001b[1;35m \u001b[0m┃\n",
       "┃\u001b[1;35m \u001b[0m\u001b[1;35m.sentiment\u001b[0m\u001b[1;35m \u001b[0m┃\u001b[1;35m \u001b[0m\u001b[1;35m.themes                                         \u001b[0m\u001b[1;35m \u001b[0m┃\u001b[1;35m \u001b[0m\u001b[1;35m.improvements                                  \u001b[0m\u001b[1;35m \u001b[0m┃\n",
       "┡━━━━━━━━━━━━╇━━━━━━━━━━━━━━━━━━━━━━━━━━━━━━━━━━━━━━━━━━━━━━━━━━╇━━━━━━━━━━━━━━━━━━━━━━━━━━━━━━━━━━━━━━━━━━━━━━━━━┩\n",
       "│\u001b[2m \u001b[0m\u001b[2mPositive  \u001b[0m\u001b[2m \u001b[0m│\u001b[2m \u001b[0m\u001b[2m['engaging and informative', 'excellent at      \u001b[0m\u001b[2m \u001b[0m│\u001b[2m \u001b[0m\u001b[2m['Adjust course pace', 'Balance workload',     \u001b[0m\u001b[2m \u001b[0m│\n",
       "│\u001b[2m            \u001b[0m│\u001b[2m \u001b[0m\u001b[2mbreaking down complex concepts', 'pace too      \u001b[0m\u001b[2m \u001b[0m│\u001b[2m \u001b[0m\u001b[2m'Supplemental resources']                      \u001b[0m\u001b[2m \u001b[0m│\n",
       "│\u001b[2m            \u001b[0m│\u001b[2m \u001b[0m\u001b[2mfast']                                          \u001b[0m\u001b[2m \u001b[0m│\u001b[2m                                                 \u001b[0m│\n",
       "├────────────┼──────────────────────────────────────────────────┼─────────────────────────────────────────────────┤\n",
       "│\u001b[2m \u001b[0m\u001b[2mNegative  \u001b[0m\u001b[2m \u001b[0m│\u001b[2m \u001b[0m\u001b[2m['material felt dry', 'difficult to connect with\u001b[0m\u001b[2m \u001b[0m│\u001b[2m \u001b[0m\u001b[2m['Incorporate current events', 'Real-world     \u001b[0m\u001b[2m \u001b[0m│\n",
       "│\u001b[2m            \u001b[0m│\u001b[2m \u001b[0m\u001b[2mreal-world applications', 'lack of current event\u001b[0m\u001b[2m \u001b[0m│\u001b[2m \u001b[0m\u001b[2mapplications', 'Engaging content']             \u001b[0m\u001b[2m \u001b[0m│\n",
       "│\u001b[2m            \u001b[0m│\u001b[2m \u001b[0m\u001b[2mexamples']                                      \u001b[0m\u001b[2m \u001b[0m│\u001b[2m                                                 \u001b[0m│\n",
       "├────────────┼──────────────────────────────────────────────────┼─────────────────────────────────────────────────┤\n",
       "│\u001b[2m \u001b[0m\u001b[2mPositive  \u001b[0m\u001b[2m \u001b[0m│\u001b[2m \u001b[0m\u001b[2m['Enthusiastic teaching', 'Availability for     \u001b[0m\u001b[2m \u001b[0m│\u001b[2m \u001b[0m\u001b[2m[]                                             \u001b[0m\u001b[2m \u001b[0m│\n",
       "│\u001b[2m            \u001b[0m│\u001b[2m \u001b[0m\u001b[2mextra help', 'Interactive and practical         \u001b[0m\u001b[2m \u001b[0m│\u001b[2m                                                 \u001b[0m│\n",
       "│\u001b[2m            \u001b[0m│\u001b[2m \u001b[0m\u001b[2mapproach']                                      \u001b[0m\u001b[2m \u001b[0m│\u001b[2m                                                 \u001b[0m│\n",
       "├────────────┼──────────────────────────────────────────────────┼─────────────────────────────────────────────────┤\n",
       "│\u001b[2m \u001b[0m\u001b[2mNeutral   \u001b[0m\u001b[2m \u001b[0m│\u001b[2m \u001b[0m\u001b[2m['appreciation of analytical rigor', 'desire for\u001b[0m\u001b[2m \u001b[0m│\u001b[2m \u001b[0m\u001b[2m['Incorporate real-world applications',        \u001b[0m\u001b[2m \u001b[0m│\n",
       "│\u001b[2m            \u001b[0m│\u001b[2m \u001b[0m\u001b[2mpractical connections', 'feeling of isolation   \u001b[0m\u001b[2m \u001b[0m│\u001b[2m \u001b[0m\u001b[2m'Facilitate more discussions', 'Bridge theory  \u001b[0m\u001b[2m \u001b[0m│\n",
       "│\u001b[2m            \u001b[0m│\u001b[2m \u001b[0m\u001b[2mfrom real-world issues']                        \u001b[0m\u001b[2m \u001b[0m│\u001b[2m \u001b[0m\u001b[2mand practice']                                 \u001b[0m\u001b[2m \u001b[0m│\n",
       "├────────────┼──────────────────────────────────────────────────┼─────────────────────────────────────────────────┤\n",
       "│\u001b[2m \u001b[0m\u001b[2mPositive  \u001b[0m\u001b[2m \u001b[0m│\u001b[2m \u001b[0m\u001b[2m['enjoyed group projects', 'application of      \u001b[0m\u001b[2m \u001b[0m│\u001b[2m \u001b[0m\u001b[2m['Detailed feedback', 'Understanding mistakes',\u001b[0m\u001b[2m \u001b[0m│\n",
       "│\u001b[2m            \u001b[0m│\u001b[2m \u001b[0m\u001b[2mconcepts', 'detailed feedback needed']          \u001b[0m\u001b[2m \u001b[0m│\u001b[2m \u001b[0m\u001b[2m'Assignment clarity']                          \u001b[0m\u001b[2m \u001b[0m│\n",
       "├────────────┼──────────────────────────────────────────────────┼─────────────────────────────────────────────────┤\n",
       "│\u001b[2m \u001b[0m\u001b[2mNeutral   \u001b[0m\u001b[2m \u001b[0m│\u001b[2m \u001b[0m\u001b[2m['well-organized content', 'monotonous          \u001b[0m\u001b[2m \u001b[0m│\u001b[2m \u001b[0m\u001b[2m['Incorporate visual aids', 'Invite guest      \u001b[0m\u001b[2m \u001b[0m│\n",
       "│\u001b[2m            \u001b[0m│\u001b[2m \u001b[0m\u001b[2mlectures', 'use more visual aids and guest      \u001b[0m\u001b[2m \u001b[0m│\u001b[2m \u001b[0m\u001b[2mlecturers', 'Improve lecture delivery']        \u001b[0m\u001b[2m \u001b[0m│\n",
       "│\u001b[2m            \u001b[0m│\u001b[2m \u001b[0m\u001b[2mlectures']                                      \u001b[0m\u001b[2m \u001b[0m│\u001b[2m                                                 \u001b[0m│\n",
       "├────────────┼──────────────────────────────────────────────────┼─────────────────────────────────────────────────┤\n",
       "│\u001b[2m \u001b[0m\u001b[2mPositive  \u001b[0m\u001b[2m \u001b[0m│\u001b[2m \u001b[0m\u001b[2m['Engaging course content', 'Balanced assessment\u001b[0m\u001b[2m \u001b[0m│\u001b[2m \u001b[0m\u001b[2m[]                                             \u001b[0m\u001b[2m \u001b[0m│\n",
       "│\u001b[2m            \u001b[0m│\u001b[2m \u001b[0m\u001b[2mmethods', 'Inclusive curriculum']               \u001b[0m\u001b[2m \u001b[0m│\u001b[2m                                                 \u001b[0m│\n",
       "├────────────┼──────────────────────────────────────────────────┼─────────────────────────────────────────────────┤\n",
       "│\u001b[2m \u001b[0m\u001b[2mNegative  \u001b[0m\u001b[2m \u001b[0m│\u001b[2m \u001b[0m\u001b[2m['textbook complexity', 'unexplained jargon',   \u001b[0m\u001b[2m \u001b[0m│\u001b[2m \u001b[0m\u001b[2m['Simplify textbook', 'Clarify jargon in       \u001b[0m\u001b[2m \u001b[0m│\n",
       "│\u001b[2m            \u001b[0m│\u001b[2m \u001b[0m\u001b[2m'need for simpler materials or clearer          \u001b[0m\u001b[2m \u001b[0m│\u001b[2m \u001b[0m\u001b[2mlectures', 'Provide introductory reading       \u001b[0m\u001b[2m \u001b[0m│\n",
       "│\u001b[2m            \u001b[0m│\u001b[2m \u001b[0m\u001b[2mlectures']                                      \u001b[0m\u001b[2m \u001b[0m│\u001b[2m \u001b[0m\u001b[2mmaterials']                                    \u001b[0m\u001b[2m \u001b[0m│\n",
       "├────────────┼──────────────────────────────────────────────────┼─────────────────────────────────────────────────┤\n",
       "│\u001b[2m \u001b[0m\u001b[2mNeutral   \u001b[0m\u001b[2m \u001b[0m│\u001b[2m \u001b[0m\u001b[2m['knowledgeable and passionate', 'reliance on   \u001b[0m\u001b[2m \u001b[0m│\u001b[2m \u001b[0m\u001b[2m['Diversify assessments', 'Incorporate varied  \u001b[0m\u001b[2m \u001b[0m│\n",
       "│\u001b[2m            \u001b[0m│\u001b[2m \u001b[0m\u001b[2mtests', 'need for varied assignments']          \u001b[0m\u001b[2m \u001b[0m│\u001b[2m \u001b[0m\u001b[2massignments', 'Accommodate different learning  \u001b[0m\u001b[2m \u001b[0m│\n",
       "│\u001b[2m            \u001b[0m│\u001b[2m                                                  \u001b[0m│\u001b[2m \u001b[0m\u001b[2mstyles']                                       \u001b[0m\u001b[2m \u001b[0m│\n",
       "├────────────┼──────────────────────────────────────────────────┼─────────────────────────────────────────────────┤\n",
       "│\u001b[2m \u001b[0m\u001b[2mNeutral   \u001b[0m\u001b[2m \u001b[0m│\u001b[2m \u001b[0m\u001b[2m['solid introduction', 'theoretical focus',     \u001b[0m\u001b[2m \u001b[0m│\u001b[2m \u001b[0m\u001b[2m['Incorporate real-world examples',            \u001b[0m\u001b[2m \u001b[0m│\n",
       "│\u001b[2m            \u001b[0m│\u001b[2m \u001b[0m\u001b[2m'lack of real-world discussion']                \u001b[0m\u001b[2m \u001b[0m│\u001b[2m \u001b[0m\u001b[2m'Interactive discussions', 'Application-focused\u001b[0m\u001b[2m \u001b[0m│\n",
       "│\u001b[2m            \u001b[0m│\u001b[2m                                                  \u001b[0m│\u001b[2m \u001b[0m\u001b[2mactivities']                                   \u001b[0m\u001b[2m \u001b[0m│\n",
       "└────────────┴──────────────────────────────────────────────────┴─────────────────────────────────────────────────┘\n"
      ]
     },
     "metadata": {},
     "output_type": "display_data"
    }
   ],
   "source": [
    "results.select(\"sentiment\", \"themes\", \"improvements\").print(format=\"rich\")"
   ]
  },
  {
   "cell_type": "markdown",
   "id": "a9c6b091-42d6-4d62-b7f0-f91eef33c1fe",
   "metadata": {},
   "source": [
    "We can do a quick tally of the sentiments:"
   ]
  },
  {
   "cell_type": "code",
   "execution_count": 14,
   "id": "9f9618fc-3250-4fbe-bddc-cd4cd5c624f7",
   "metadata": {},
   "outputs": [
    {
     "data": {
      "text/plain": [
       "answer.sentiment\n",
       "Positive    4\n",
       "Neutral     4\n",
       "Negative    2\n",
       "Name: count, dtype: int64"
      ]
     },
     "execution_count": 14,
     "metadata": {},
     "output_type": "execute_result"
    }
   ],
   "source": [
    "df_sentiment = results.to_pandas()['answer.sentiment']\n",
    "df_sentiment.value_counts()"
   ]
  },
  {
   "cell_type": "markdown",
   "id": "bad98c73-b2e8-4b31-89a5-1a85056ba134",
   "metadata": {},
   "source": [
    "## Use responses to construct new questions\n",
    "We can use the responses to our initial questions to construct more questions about the texts. For example, we can prompt a model to condense the individual lists of themes and areas for improvement into short lists, and then use the new lists to quantify the topics across the set of evaluations."
   ]
  },
  {
   "cell_type": "markdown",
   "id": "e3f96f5e-ba68-4660-b876-d3f34b396213",
   "metadata": {},
   "source": [
    "Here we take the lists of themes in each evaluation, flatten them into a (duplicative) list, and then create a new question prompting a model to condense it for us:"
   ]
  },
  {
   "cell_type": "code",
   "execution_count": 15,
   "id": "ee81ef77-a2a9-41cb-9472-29e4f8e6797b",
   "metadata": {},
   "outputs": [
    {
     "data": {
      "text/plain": [
       "['engaging and informative',\n",
       " 'excellent at breaking down complex concepts',\n",
       " 'pace too fast',\n",
       " 'material felt dry',\n",
       " 'difficult to connect with real-world applications',\n",
       " 'lack of current event examples',\n",
       " 'Enthusiastic teaching',\n",
       " 'Availability for extra help',\n",
       " 'Interactive and practical approach',\n",
       " 'appreciation of analytical rigor',\n",
       " 'desire for practical connections',\n",
       " 'feeling of isolation from real-world issues',\n",
       " 'enjoyed group projects',\n",
       " 'application of concepts',\n",
       " 'detailed feedback needed',\n",
       " 'well-organized content',\n",
       " 'monotonous lectures',\n",
       " 'use more visual aids and guest lectures',\n",
       " 'Engaging course content',\n",
       " 'Balanced assessment methods',\n",
       " 'Inclusive curriculum',\n",
       " 'textbook complexity',\n",
       " 'unexplained jargon',\n",
       " 'need for simpler materials or clearer lectures',\n",
       " 'knowledgeable and passionate',\n",
       " 'reliance on tests',\n",
       " 'need for varied assignments',\n",
       " 'solid introduction',\n",
       " 'theoretical focus',\n",
       " 'lack of real-world discussion']"
      ]
     },
     "execution_count": 15,
     "metadata": {},
     "output_type": "execute_result"
    }
   ],
   "source": [
    "themes = results.select(\"themes\").to_list(flatten=True)\n",
    "themes"
   ]
  },
  {
   "cell_type": "markdown",
   "id": "6b1b042a-0c29-470d-9229-723e6f4a1e33",
   "metadata": {},
   "source": [
    "Next we construct a question to condense the list into a new list:"
   ]
  },
  {
   "cell_type": "code",
   "execution_count": 16,
   "id": "05871e01-eec9-4629-a108-cd9237eca283",
   "metadata": {},
   "outputs": [],
   "source": [
    "q_condensed_themes = QuestionList(\n",
    "    question_name = \"condensed_themes\",\n",
    "    question_text = \"\"\"Combine the following list of themes extracted from the evaluations \n",
    "    into a consolidated, non-redundant list: \"\"\" + \", \".join(themes),\n",
    "    max_list_items = 10\n",
    ")"
   ]
  },
  {
   "cell_type": "markdown",
   "id": "954a92a0-6a7d-43ad-bed5-35a092fba288",
   "metadata": {},
   "source": [
    "Now we run the question and select the new list. Note that we can choose whether we want to use the agent for this question by not adding it to the question when we run it:"
   ]
  },
  {
   "cell_type": "code",
   "execution_count": 17,
   "id": "f915d9e6-0310-432e-852e-48d63c6e07d8",
   "metadata": {},
   "outputs": [
    {
     "data": {
      "text/plain": [
       "['Engaging and informative',\n",
       " 'Excellent at breaking down complex concepts',\n",
       " 'Interactive and practical approach',\n",
       " 'Need for real-world applications and discussions',\n",
       " 'Pace and complexity adjustments',\n",
       " 'Knowledgeable and enthusiastic teaching',\n",
       " 'Variety in assessments and assignments',\n",
       " 'Inclusivity and organization of content',\n",
       " 'Enhanced learning aids (visuals, guest lectures)',\n",
       " 'Availability for extra help and detailed feedback']"
      ]
     },
     "execution_count": 17,
     "metadata": {},
     "output_type": "execute_result"
    }
   ],
   "source": [
    "condensed_themes = q_condensed_themes.run().select(\"condensed_themes\").to_list()[0]\n",
    "condensed_themes"
   ]
  },
  {
   "cell_type": "markdown",
   "id": "5636a7f7-56ff-439d-9b5c-b867dff60480",
   "metadata": {},
   "source": [
    "Now we can create a question to identify all the themes in the list that appear in each evaluation (our new list becomes the list of answer options):"
   ]
  },
  {
   "cell_type": "code",
   "execution_count": 18,
   "id": "ff3f7830-6c55-4ee4-8434-374bcee47377",
   "metadata": {},
   "outputs": [],
   "source": [
    "from edsl.questions import QuestionCheckBox\n",
    "\n",
    "q_themes_list = QuestionCheckBox(\n",
    "    question_name = \"themes_list\",\n",
    "    question_text = \"Select all of the themes that are mentioned in this evaluation: {{ evaluation }}\",\n",
    "    question_options = condensed_themes\n",
    ")"
   ]
  },
  {
   "cell_type": "markdown",
   "id": "3d8e69f7-d9cb-4170-a8b2-d08a857a9441",
   "metadata": {},
   "source": [
    "Here we run the question and show a table listing all the themes for each evaluation in the results:"
   ]
  },
  {
   "cell_type": "code",
   "execution_count": 19,
   "id": "4e8ee9f3-8dda-4047-8850-80dbeb3ce4f0",
   "metadata": {},
   "outputs": [
    {
     "data": {
      "text/html": [
       "<pre style=\"white-space:pre;overflow-x:auto;line-height:normal;font-family:Menlo,'DejaVu Sans Mono',consolas,'Courier New',monospace\">┏━━━━━━━━━━━━━━━━━━━━━━━━━━━━━━━━━━━━━━━━━━━━━━━━━━━━━━━━┳━━━━━━━━━━━━━━━━━━━━━━━━━━━━━━━━━━━━━━━━━━━━━━━━━━━━━━━━┓\n",
       "┃<span style=\"color: #800080; text-decoration-color: #800080; font-weight: bold\"> scenario                                               </span>┃<span style=\"color: #800080; text-decoration-color: #800080; font-weight: bold\"> answer                                                 </span>┃\n",
       "┃<span style=\"color: #800080; text-decoration-color: #800080; font-weight: bold\"> .evaluation                                            </span>┃<span style=\"color: #800080; text-decoration-color: #800080; font-weight: bold\"> .themes_list                                           </span>┃\n",
       "┡━━━━━━━━━━━━━━━━━━━━━━━━━━━━━━━━━━━━━━━━━━━━━━━━━━━━━━━━╇━━━━━━━━━━━━━━━━━━━━━━━━━━━━━━━━━━━━━━━━━━━━━━━━━━━━━━━━┩\n",
       "│<span style=\"color: #7f7f7f; text-decoration-color: #7f7f7f\"> This class was a solid introduction to economics,      </span>│<span style=\"color: #7f7f7f; text-decoration-color: #7f7f7f\"> ['Need for real-world applications and discussions']   </span>│\n",
       "│<span style=\"color: #7f7f7f; text-decoration-color: #7f7f7f\"> though it leaned heavily on theoretical aspects. I     </span>│<span style=\"color: #7f7f7f; text-decoration-color: #7f7f7f\">                                                        </span>│\n",
       "│<span style=\"color: #7f7f7f; text-decoration-color: #7f7f7f\"> would have liked more opportunities to discuss the     </span>│<span style=\"color: #7f7f7f; text-decoration-color: #7f7f7f\">                                                        </span>│\n",
       "│<span style=\"color: #7f7f7f; text-decoration-color: #7f7f7f\"> real-world implications of economic theories, which I  </span>│<span style=\"color: #7f7f7f; text-decoration-color: #7f7f7f\">                                                        </span>│\n",
       "│<span style=\"color: #7f7f7f; text-decoration-color: #7f7f7f\"> believe would enhance understanding and retention of   </span>│<span style=\"color: #7f7f7f; text-decoration-color: #7f7f7f\">                                                        </span>│\n",
       "│<span style=\"color: #7f7f7f; text-decoration-color: #7f7f7f\"> the material.                                          </span>│<span style=\"color: #7f7f7f; text-decoration-color: #7f7f7f\">                                                        </span>│\n",
       "├────────────────────────────────────────────────────────┼────────────────────────────────────────────────────────┤\n",
       "│<span style=\"color: #7f7f7f; text-decoration-color: #7f7f7f\"> As someone with a strong background in math, I         </span>│<span style=\"color: #7f7f7f; text-decoration-color: #7f7f7f\"> ['Need for real-world applications and discussions']   </span>│\n",
       "│<span style=\"color: #7f7f7f; text-decoration-color: #7f7f7f\"> appreciated the analytical rigor of this course.       </span>│<span style=\"color: #7f7f7f; text-decoration-color: #7f7f7f\">                                                        </span>│\n",
       "│<span style=\"color: #7f7f7f; text-decoration-color: #7f7f7f\"> However, I wish there had been more discussions that   </span>│<span style=\"color: #7f7f7f; text-decoration-color: #7f7f7f\">                                                        </span>│\n",
       "│<span style=\"color: #7f7f7f; text-decoration-color: #7f7f7f\"> connected the theories we learned to everyday economic </span>│<span style=\"color: #7f7f7f; text-decoration-color: #7f7f7f\">                                                        </span>│\n",
       "│<span style=\"color: #7f7f7f; text-decoration-color: #7f7f7f\"> issues. It felt a bit isolated from practical          </span>│<span style=\"color: #7f7f7f; text-decoration-color: #7f7f7f\">                                                        </span>│\n",
       "│<span style=\"color: #7f7f7f; text-decoration-color: #7f7f7f\"> realities at times.                                    </span>│<span style=\"color: #7f7f7f; text-decoration-color: #7f7f7f\">                                                        </span>│\n",
       "├────────────────────────────────────────────────────────┼────────────────────────────────────────────────────────┤\n",
       "│<span style=\"color: #7f7f7f; text-decoration-color: #7f7f7f\"> The course content was well-organized, but the         </span>│<span style=\"color: #7f7f7f; text-decoration-color: #7f7f7f\"> ['Need for real-world applications and discussions',   </span>│\n",
       "│<span style=\"color: #7f7f7f; text-decoration-color: #7f7f7f\"> lectures were somewhat monotonous and hard to follow.  </span>│<span style=\"color: #7f7f7f; text-decoration-color: #7f7f7f\"> 'Inclusivity and organization of content', 'Enhanced   </span>│\n",
       "│<span style=\"color: #7f7f7f; text-decoration-color: #7f7f7f\"> I would suggest incorporating more visual aids and     </span>│<span style=\"color: #7f7f7f; text-decoration-color: #7f7f7f\"> learning aids (visuals, guest lectures)']              </span>│\n",
       "│<span style=\"color: #7f7f7f; text-decoration-color: #7f7f7f\"> maybe some guest lectures from industry professionals  </span>│<span style=\"color: #7f7f7f; text-decoration-color: #7f7f7f\">                                                        </span>│\n",
       "│<span style=\"color: #7f7f7f; text-decoration-color: #7f7f7f\"> to liven up the sessions.                              </span>│<span style=\"color: #7f7f7f; text-decoration-color: #7f7f7f\">                                                        </span>│\n",
       "├────────────────────────────────────────────────────────┼────────────────────────────────────────────────────────┤\n",
       "│<span style=\"color: #7f7f7f; text-decoration-color: #7f7f7f\"> The professor was knowledgeable and clearly passionate </span>│<span style=\"color: #7f7f7f; text-decoration-color: #7f7f7f\"> ['Knowledgeable and enthusiastic teaching', 'Variety   </span>│\n",
       "│<span style=\"color: #7f7f7f; text-decoration-color: #7f7f7f\"> about economics, but I felt the course relied too      </span>│<span style=\"color: #7f7f7f; text-decoration-color: #7f7f7f\"> in assessments and assignments']                       </span>│\n",
       "│<span style=\"color: #7f7f7f; text-decoration-color: #7f7f7f\"> heavily on tests rather than more creative forms of    </span>│<span style=\"color: #7f7f7f; text-decoration-color: #7f7f7f\">                                                        </span>│\n",
       "│<span style=\"color: #7f7f7f; text-decoration-color: #7f7f7f\"> assessment. More varied assignments would make the     </span>│<span style=\"color: #7f7f7f; text-decoration-color: #7f7f7f\">                                                        </span>│\n",
       "│<span style=\"color: #7f7f7f; text-decoration-color: #7f7f7f\"> course more accessible to students with different      </span>│<span style=\"color: #7f7f7f; text-decoration-color: #7f7f7f\">                                                        </span>│\n",
       "│<span style=\"color: #7f7f7f; text-decoration-color: #7f7f7f\"> learning styles.                                       </span>│<span style=\"color: #7f7f7f; text-decoration-color: #7f7f7f\">                                                        </span>│\n",
       "├────────────────────────────────────────────────────────┼────────────────────────────────────────────────────────┤\n",
       "│<span style=\"color: #7f7f7f; text-decoration-color: #7f7f7f\"> I found the textbook to be overly complex for an       </span>│<span style=\"color: #7f7f7f; text-decoration-color: #7f7f7f\"> ['Pace and complexity adjustments']                    </span>│\n",
       "│<span style=\"color: #7f7f7f; text-decoration-color: #7f7f7f\"> introductory course. It often used jargon that hadn't  </span>│<span style=\"color: #7f7f7f; text-decoration-color: #7f7f7f\">                                                        </span>│\n",
       "│<span style=\"color: #7f7f7f; text-decoration-color: #7f7f7f\"> been explained in lectures, which was confusing.       </span>│<span style=\"color: #7f7f7f; text-decoration-color: #7f7f7f\">                                                        </span>│\n",
       "│<span style=\"color: #7f7f7f; text-decoration-color: #7f7f7f\"> Simpler reading materials or more explanatory lectures </span>│<span style=\"color: #7f7f7f; text-decoration-color: #7f7f7f\">                                                        </span>│\n",
       "│<span style=\"color: #7f7f7f; text-decoration-color: #7f7f7f\"> would make a big difference for newcomers to           </span>│<span style=\"color: #7f7f7f; text-decoration-color: #7f7f7f\">                                                        </span>│\n",
       "│<span style=\"color: #7f7f7f; text-decoration-color: #7f7f7f\"> economics.                                             </span>│<span style=\"color: #7f7f7f; text-decoration-color: #7f7f7f\">                                                        </span>│\n",
       "├────────────────────────────────────────────────────────┼────────────────────────────────────────────────────────┤\n",
       "│<span style=\"color: #7f7f7f; text-decoration-color: #7f7f7f\"> This class was a struggle for me. The material felt    </span>│<span style=\"color: #7f7f7f; text-decoration-color: #7f7f7f\"> ['Need for real-world applications and discussions']   </span>│\n",
       "│<span style=\"color: #7f7f7f; text-decoration-color: #7f7f7f\"> dry and difficult to connect with real-world           </span>│<span style=\"color: #7f7f7f; text-decoration-color: #7f7f7f\">                                                        </span>│\n",
       "│<span style=\"color: #7f7f7f; text-decoration-color: #7f7f7f\"> applications, which I think could have made it more    </span>│<span style=\"color: #7f7f7f; text-decoration-color: #7f7f7f\">                                                        </span>│\n",
       "│<span style=\"color: #7f7f7f; text-decoration-color: #7f7f7f\"> interesting. More examples from current events would   </span>│<span style=\"color: #7f7f7f; text-decoration-color: #7f7f7f\">                                                        </span>│\n",
       "│<span style=\"color: #7f7f7f; text-decoration-color: #7f7f7f\"> definitely have helped spark my interest.              </span>│<span style=\"color: #7f7f7f; text-decoration-color: #7f7f7f\">                                                        </span>│\n",
       "├────────────────────────────────────────────────────────┼────────────────────────────────────────────────────────┤\n",
       "│<span style=\"color: #7f7f7f; text-decoration-color: #7f7f7f\"> I found the course very engaging and informative. The  </span>│<span style=\"color: #7f7f7f; text-decoration-color: #7f7f7f\"> ['Engaging and informative', 'Excellent at breaking    </span>│\n",
       "│<span style=\"color: #7f7f7f; text-decoration-color: #7f7f7f\"> professor did an excellent job breaking down complex   </span>│<span style=\"color: #7f7f7f; text-decoration-color: #7f7f7f\"> down complex concepts', 'Pace and complexity           </span>│\n",
       "│<span style=\"color: #7f7f7f; text-decoration-color: #7f7f7f\"> concepts, making them accessible to those of us new to </span>│<span style=\"color: #7f7f7f; text-decoration-color: #7f7f7f\"> adjustments']                                          </span>│\n",
       "│<span style=\"color: #7f7f7f; text-decoration-color: #7f7f7f\"> economics. However, the pace was a bit fast, and I     </span>│<span style=\"color: #7f7f7f; text-decoration-color: #7f7f7f\">                                                        </span>│\n",
       "│<span style=\"color: #7f7f7f; text-decoration-color: #7f7f7f\"> sometimes struggled to keep up with the weekly         </span>│<span style=\"color: #7f7f7f; text-decoration-color: #7f7f7f\">                                                        </span>│\n",
       "│<span style=\"color: #7f7f7f; text-decoration-color: #7f7f7f\"> readings.                                              </span>│<span style=\"color: #7f7f7f; text-decoration-color: #7f7f7f\">                                                        </span>│\n",
       "├────────────────────────────────────────────────────────┼────────────────────────────────────────────────────────┤\n",
       "│<span style=\"color: #7f7f7f; text-decoration-color: #7f7f7f\"> Excellent introductory course! The professor was       </span>│<span style=\"color: #7f7f7f; text-decoration-color: #7f7f7f\"> ['Engaging and informative', 'Interactive and          </span>│\n",
       "│<span style=\"color: #7f7f7f; text-decoration-color: #7f7f7f\"> enthusiastic and always willing to offer extra help    </span>│<span style=\"color: #7f7f7f; text-decoration-color: #7f7f7f\"> practical approach', 'Knowledgeable and enthusiastic   </span>│\n",
       "│<span style=\"color: #7f7f7f; text-decoration-color: #7f7f7f\"> during office hours. The interactive lectures and the  </span>│<span style=\"color: #7f7f7f; text-decoration-color: #7f7f7f\"> teaching', 'Availability for extra help and detailed   </span>│\n",
       "│<span style=\"color: #7f7f7f; text-decoration-color: #7f7f7f\"> practical assignments made the theory much more        </span>│<span style=\"color: #7f7f7f; text-decoration-color: #7f7f7f\"> feedback']                                             </span>│\n",
       "│<span style=\"color: #7f7f7f; text-decoration-color: #7f7f7f\"> digestible and engaging.                               </span>│<span style=\"color: #7f7f7f; text-decoration-color: #7f7f7f\">                                                        </span>│\n",
       "├────────────────────────────────────────────────────────┼────────────────────────────────────────────────────────┤\n",
       "│<span style=\"color: #7f7f7f; text-decoration-color: #7f7f7f\"> I enjoyed the course, especially the group projects,   </span>│<span style=\"color: #7f7f7f; text-decoration-color: #7f7f7f\"> ['Engaging and informative', 'Interactive and          </span>│\n",
       "│<span style=\"color: #7f7f7f; text-decoration-color: #7f7f7f\"> which were both challenging and rewarding. It was      </span>│<span style=\"color: #7f7f7f; text-decoration-color: #7f7f7f\"> practical approach', 'Availability for extra help and  </span>│\n",
       "│<span style=\"color: #7f7f7f; text-decoration-color: #7f7f7f\"> great to apply economic concepts to solve real-life    </span>│<span style=\"color: #7f7f7f; text-decoration-color: #7f7f7f\"> detailed feedback']                                    </span>│\n",
       "│<span style=\"color: #7f7f7f; text-decoration-color: #7f7f7f\"> problems. I did feel, however, that the feedback on    </span>│<span style=\"color: #7f7f7f; text-decoration-color: #7f7f7f\">                                                        </span>│\n",
       "│<span style=\"color: #7f7f7f; text-decoration-color: #7f7f7f\"> assignments could be more detailed to help us          </span>│<span style=\"color: #7f7f7f; text-decoration-color: #7f7f7f\">                                                        </span>│\n",
       "│<span style=\"color: #7f7f7f; text-decoration-color: #7f7f7f\"> understand our mistakes.                               </span>│<span style=\"color: #7f7f7f; text-decoration-color: #7f7f7f\">                                                        </span>│\n",
       "├────────────────────────────────────────────────────────┼────────────────────────────────────────────────────────┤\n",
       "│<span style=\"color: #7f7f7f; text-decoration-color: #7f7f7f\"> This was my favorite class this semester! The mix of   </span>│<span style=\"color: #7f7f7f; text-decoration-color: #7f7f7f\"> ['Engaging and informative', 'Interactive and          </span>│\n",
       "│<span style=\"color: #7f7f7f; text-decoration-color: #7f7f7f\"> theory and case studies was perfect, and the exams     </span>│<span style=\"color: #7f7f7f; text-decoration-color: #7f7f7f\"> practical approach', 'Need for real-world applications </span>│\n",
       "│<span style=\"color: #7f7f7f; text-decoration-color: #7f7f7f\"> were fair. I also really appreciated the diversity of  </span>│<span style=\"color: #7f7f7f; text-decoration-color: #7f7f7f\"> and discussions', 'Inclusivity and organization of     </span>│\n",
       "│<span style=\"color: #7f7f7f; text-decoration-color: #7f7f7f\"> perspectives we explored in class, especially in terms </span>│<span style=\"color: #7f7f7f; text-decoration-color: #7f7f7f\"> content']                                              </span>│\n",
       "│<span style=\"color: #7f7f7f; text-decoration-color: #7f7f7f\"> of global economic policies.                           </span>│<span style=\"color: #7f7f7f; text-decoration-color: #7f7f7f\">                                                        </span>│\n",
       "└────────────────────────────────────────────────────────┴────────────────────────────────────────────────────────┘\n",
       "</pre>\n"
      ],
      "text/plain": [
       "┏━━━━━━━━━━━━━━━━━━━━━━━━━━━━━━━━━━━━━━━━━━━━━━━━━━━━━━━━┳━━━━━━━━━━━━━━━━━━━━━━━━━━━━━━━━━━━━━━━━━━━━━━━━━━━━━━━━┓\n",
       "┃\u001b[1;35m \u001b[0m\u001b[1;35mscenario                                              \u001b[0m\u001b[1;35m \u001b[0m┃\u001b[1;35m \u001b[0m\u001b[1;35manswer                                                \u001b[0m\u001b[1;35m \u001b[0m┃\n",
       "┃\u001b[1;35m \u001b[0m\u001b[1;35m.evaluation                                           \u001b[0m\u001b[1;35m \u001b[0m┃\u001b[1;35m \u001b[0m\u001b[1;35m.themes_list                                          \u001b[0m\u001b[1;35m \u001b[0m┃\n",
       "┡━━━━━━━━━━━━━━━━━━━━━━━━━━━━━━━━━━━━━━━━━━━━━━━━━━━━━━━━╇━━━━━━━━━━━━━━━━━━━━━━━━━━━━━━━━━━━━━━━━━━━━━━━━━━━━━━━━┩\n",
       "│\u001b[2m \u001b[0m\u001b[2mThis class was a solid introduction to economics,     \u001b[0m\u001b[2m \u001b[0m│\u001b[2m \u001b[0m\u001b[2m['Need for real-world applications and discussions']  \u001b[0m\u001b[2m \u001b[0m│\n",
       "│\u001b[2m \u001b[0m\u001b[2mthough it leaned heavily on theoretical aspects. I    \u001b[0m\u001b[2m \u001b[0m│\u001b[2m                                                        \u001b[0m│\n",
       "│\u001b[2m \u001b[0m\u001b[2mwould have liked more opportunities to discuss the    \u001b[0m\u001b[2m \u001b[0m│\u001b[2m                                                        \u001b[0m│\n",
       "│\u001b[2m \u001b[0m\u001b[2mreal-world implications of economic theories, which I \u001b[0m\u001b[2m \u001b[0m│\u001b[2m                                                        \u001b[0m│\n",
       "│\u001b[2m \u001b[0m\u001b[2mbelieve would enhance understanding and retention of  \u001b[0m\u001b[2m \u001b[0m│\u001b[2m                                                        \u001b[0m│\n",
       "│\u001b[2m \u001b[0m\u001b[2mthe material.                                         \u001b[0m\u001b[2m \u001b[0m│\u001b[2m                                                        \u001b[0m│\n",
       "├────────────────────────────────────────────────────────┼────────────────────────────────────────────────────────┤\n",
       "│\u001b[2m \u001b[0m\u001b[2mAs someone with a strong background in math, I        \u001b[0m\u001b[2m \u001b[0m│\u001b[2m \u001b[0m\u001b[2m['Need for real-world applications and discussions']  \u001b[0m\u001b[2m \u001b[0m│\n",
       "│\u001b[2m \u001b[0m\u001b[2mappreciated the analytical rigor of this course.      \u001b[0m\u001b[2m \u001b[0m│\u001b[2m                                                        \u001b[0m│\n",
       "│\u001b[2m \u001b[0m\u001b[2mHowever, I wish there had been more discussions that  \u001b[0m\u001b[2m \u001b[0m│\u001b[2m                                                        \u001b[0m│\n",
       "│\u001b[2m \u001b[0m\u001b[2mconnected the theories we learned to everyday economic\u001b[0m\u001b[2m \u001b[0m│\u001b[2m                                                        \u001b[0m│\n",
       "│\u001b[2m \u001b[0m\u001b[2missues. It felt a bit isolated from practical         \u001b[0m\u001b[2m \u001b[0m│\u001b[2m                                                        \u001b[0m│\n",
       "│\u001b[2m \u001b[0m\u001b[2mrealities at times.                                   \u001b[0m\u001b[2m \u001b[0m│\u001b[2m                                                        \u001b[0m│\n",
       "├────────────────────────────────────────────────────────┼────────────────────────────────────────────────────────┤\n",
       "│\u001b[2m \u001b[0m\u001b[2mThe course content was well-organized, but the        \u001b[0m\u001b[2m \u001b[0m│\u001b[2m \u001b[0m\u001b[2m['Need for real-world applications and discussions',  \u001b[0m\u001b[2m \u001b[0m│\n",
       "│\u001b[2m \u001b[0m\u001b[2mlectures were somewhat monotonous and hard to follow. \u001b[0m\u001b[2m \u001b[0m│\u001b[2m \u001b[0m\u001b[2m'Inclusivity and organization of content', 'Enhanced  \u001b[0m\u001b[2m \u001b[0m│\n",
       "│\u001b[2m \u001b[0m\u001b[2mI would suggest incorporating more visual aids and    \u001b[0m\u001b[2m \u001b[0m│\u001b[2m \u001b[0m\u001b[2mlearning aids (visuals, guest lectures)']             \u001b[0m\u001b[2m \u001b[0m│\n",
       "│\u001b[2m \u001b[0m\u001b[2mmaybe some guest lectures from industry professionals \u001b[0m\u001b[2m \u001b[0m│\u001b[2m                                                        \u001b[0m│\n",
       "│\u001b[2m \u001b[0m\u001b[2mto liven up the sessions.                             \u001b[0m\u001b[2m \u001b[0m│\u001b[2m                                                        \u001b[0m│\n",
       "├────────────────────────────────────────────────────────┼────────────────────────────────────────────────────────┤\n",
       "│\u001b[2m \u001b[0m\u001b[2mThe professor was knowledgeable and clearly passionate\u001b[0m\u001b[2m \u001b[0m│\u001b[2m \u001b[0m\u001b[2m['Knowledgeable and enthusiastic teaching', 'Variety  \u001b[0m\u001b[2m \u001b[0m│\n",
       "│\u001b[2m \u001b[0m\u001b[2mabout economics, but I felt the course relied too     \u001b[0m\u001b[2m \u001b[0m│\u001b[2m \u001b[0m\u001b[2min assessments and assignments']                      \u001b[0m\u001b[2m \u001b[0m│\n",
       "│\u001b[2m \u001b[0m\u001b[2mheavily on tests rather than more creative forms of   \u001b[0m\u001b[2m \u001b[0m│\u001b[2m                                                        \u001b[0m│\n",
       "│\u001b[2m \u001b[0m\u001b[2massessment. More varied assignments would make the    \u001b[0m\u001b[2m \u001b[0m│\u001b[2m                                                        \u001b[0m│\n",
       "│\u001b[2m \u001b[0m\u001b[2mcourse more accessible to students with different     \u001b[0m\u001b[2m \u001b[0m│\u001b[2m                                                        \u001b[0m│\n",
       "│\u001b[2m \u001b[0m\u001b[2mlearning styles.                                      \u001b[0m\u001b[2m \u001b[0m│\u001b[2m                                                        \u001b[0m│\n",
       "├────────────────────────────────────────────────────────┼────────────────────────────────────────────────────────┤\n",
       "│\u001b[2m \u001b[0m\u001b[2mI found the textbook to be overly complex for an      \u001b[0m\u001b[2m \u001b[0m│\u001b[2m \u001b[0m\u001b[2m['Pace and complexity adjustments']                   \u001b[0m\u001b[2m \u001b[0m│\n",
       "│\u001b[2m \u001b[0m\u001b[2mintroductory course. It often used jargon that hadn't \u001b[0m\u001b[2m \u001b[0m│\u001b[2m                                                        \u001b[0m│\n",
       "│\u001b[2m \u001b[0m\u001b[2mbeen explained in lectures, which was confusing.      \u001b[0m\u001b[2m \u001b[0m│\u001b[2m                                                        \u001b[0m│\n",
       "│\u001b[2m \u001b[0m\u001b[2mSimpler reading materials or more explanatory lectures\u001b[0m\u001b[2m \u001b[0m│\u001b[2m                                                        \u001b[0m│\n",
       "│\u001b[2m \u001b[0m\u001b[2mwould make a big difference for newcomers to          \u001b[0m\u001b[2m \u001b[0m│\u001b[2m                                                        \u001b[0m│\n",
       "│\u001b[2m \u001b[0m\u001b[2meconomics.                                            \u001b[0m\u001b[2m \u001b[0m│\u001b[2m                                                        \u001b[0m│\n",
       "├────────────────────────────────────────────────────────┼────────────────────────────────────────────────────────┤\n",
       "│\u001b[2m \u001b[0m\u001b[2mThis class was a struggle for me. The material felt   \u001b[0m\u001b[2m \u001b[0m│\u001b[2m \u001b[0m\u001b[2m['Need for real-world applications and discussions']  \u001b[0m\u001b[2m \u001b[0m│\n",
       "│\u001b[2m \u001b[0m\u001b[2mdry and difficult to connect with real-world          \u001b[0m\u001b[2m \u001b[0m│\u001b[2m                                                        \u001b[0m│\n",
       "│\u001b[2m \u001b[0m\u001b[2mapplications, which I think could have made it more   \u001b[0m\u001b[2m \u001b[0m│\u001b[2m                                                        \u001b[0m│\n",
       "│\u001b[2m \u001b[0m\u001b[2minteresting. More examples from current events would  \u001b[0m\u001b[2m \u001b[0m│\u001b[2m                                                        \u001b[0m│\n",
       "│\u001b[2m \u001b[0m\u001b[2mdefinitely have helped spark my interest.             \u001b[0m\u001b[2m \u001b[0m│\u001b[2m                                                        \u001b[0m│\n",
       "├────────────────────────────────────────────────────────┼────────────────────────────────────────────────────────┤\n",
       "│\u001b[2m \u001b[0m\u001b[2mI found the course very engaging and informative. The \u001b[0m\u001b[2m \u001b[0m│\u001b[2m \u001b[0m\u001b[2m['Engaging and informative', 'Excellent at breaking   \u001b[0m\u001b[2m \u001b[0m│\n",
       "│\u001b[2m \u001b[0m\u001b[2mprofessor did an excellent job breaking down complex  \u001b[0m\u001b[2m \u001b[0m│\u001b[2m \u001b[0m\u001b[2mdown complex concepts', 'Pace and complexity          \u001b[0m\u001b[2m \u001b[0m│\n",
       "│\u001b[2m \u001b[0m\u001b[2mconcepts, making them accessible to those of us new to\u001b[0m\u001b[2m \u001b[0m│\u001b[2m \u001b[0m\u001b[2madjustments']                                         \u001b[0m\u001b[2m \u001b[0m│\n",
       "│\u001b[2m \u001b[0m\u001b[2meconomics. However, the pace was a bit fast, and I    \u001b[0m\u001b[2m \u001b[0m│\u001b[2m                                                        \u001b[0m│\n",
       "│\u001b[2m \u001b[0m\u001b[2msometimes struggled to keep up with the weekly        \u001b[0m\u001b[2m \u001b[0m│\u001b[2m                                                        \u001b[0m│\n",
       "│\u001b[2m \u001b[0m\u001b[2mreadings.                                             \u001b[0m\u001b[2m \u001b[0m│\u001b[2m                                                        \u001b[0m│\n",
       "├────────────────────────────────────────────────────────┼────────────────────────────────────────────────────────┤\n",
       "│\u001b[2m \u001b[0m\u001b[2mExcellent introductory course! The professor was      \u001b[0m\u001b[2m \u001b[0m│\u001b[2m \u001b[0m\u001b[2m['Engaging and informative', 'Interactive and         \u001b[0m\u001b[2m \u001b[0m│\n",
       "│\u001b[2m \u001b[0m\u001b[2menthusiastic and always willing to offer extra help   \u001b[0m\u001b[2m \u001b[0m│\u001b[2m \u001b[0m\u001b[2mpractical approach', 'Knowledgeable and enthusiastic  \u001b[0m\u001b[2m \u001b[0m│\n",
       "│\u001b[2m \u001b[0m\u001b[2mduring office hours. The interactive lectures and the \u001b[0m\u001b[2m \u001b[0m│\u001b[2m \u001b[0m\u001b[2mteaching', 'Availability for extra help and detailed  \u001b[0m\u001b[2m \u001b[0m│\n",
       "│\u001b[2m \u001b[0m\u001b[2mpractical assignments made the theory much more       \u001b[0m\u001b[2m \u001b[0m│\u001b[2m \u001b[0m\u001b[2mfeedback']                                            \u001b[0m\u001b[2m \u001b[0m│\n",
       "│\u001b[2m \u001b[0m\u001b[2mdigestible and engaging.                              \u001b[0m\u001b[2m \u001b[0m│\u001b[2m                                                        \u001b[0m│\n",
       "├────────────────────────────────────────────────────────┼────────────────────────────────────────────────────────┤\n",
       "│\u001b[2m \u001b[0m\u001b[2mI enjoyed the course, especially the group projects,  \u001b[0m\u001b[2m \u001b[0m│\u001b[2m \u001b[0m\u001b[2m['Engaging and informative', 'Interactive and         \u001b[0m\u001b[2m \u001b[0m│\n",
       "│\u001b[2m \u001b[0m\u001b[2mwhich were both challenging and rewarding. It was     \u001b[0m\u001b[2m \u001b[0m│\u001b[2m \u001b[0m\u001b[2mpractical approach', 'Availability for extra help and \u001b[0m\u001b[2m \u001b[0m│\n",
       "│\u001b[2m \u001b[0m\u001b[2mgreat to apply economic concepts to solve real-life   \u001b[0m\u001b[2m \u001b[0m│\u001b[2m \u001b[0m\u001b[2mdetailed feedback']                                   \u001b[0m\u001b[2m \u001b[0m│\n",
       "│\u001b[2m \u001b[0m\u001b[2mproblems. I did feel, however, that the feedback on   \u001b[0m\u001b[2m \u001b[0m│\u001b[2m                                                        \u001b[0m│\n",
       "│\u001b[2m \u001b[0m\u001b[2massignments could be more detailed to help us         \u001b[0m\u001b[2m \u001b[0m│\u001b[2m                                                        \u001b[0m│\n",
       "│\u001b[2m \u001b[0m\u001b[2munderstand our mistakes.                              \u001b[0m\u001b[2m \u001b[0m│\u001b[2m                                                        \u001b[0m│\n",
       "├────────────────────────────────────────────────────────┼────────────────────────────────────────────────────────┤\n",
       "│\u001b[2m \u001b[0m\u001b[2mThis was my favorite class this semester! The mix of  \u001b[0m\u001b[2m \u001b[0m│\u001b[2m \u001b[0m\u001b[2m['Engaging and informative', 'Interactive and         \u001b[0m\u001b[2m \u001b[0m│\n",
       "│\u001b[2m \u001b[0m\u001b[2mtheory and case studies was perfect, and the exams    \u001b[0m\u001b[2m \u001b[0m│\u001b[2m \u001b[0m\u001b[2mpractical approach', 'Need for real-world applications\u001b[0m\u001b[2m \u001b[0m│\n",
       "│\u001b[2m \u001b[0m\u001b[2mwere fair. I also really appreciated the diversity of \u001b[0m\u001b[2m \u001b[0m│\u001b[2m \u001b[0m\u001b[2mand discussions', 'Inclusivity and organization of    \u001b[0m\u001b[2m \u001b[0m│\n",
       "│\u001b[2m \u001b[0m\u001b[2mperspectives we explored in class, especially in terms\u001b[0m\u001b[2m \u001b[0m│\u001b[2m \u001b[0m\u001b[2mcontent']                                             \u001b[0m\u001b[2m \u001b[0m│\n",
       "│\u001b[2m \u001b[0m\u001b[2mof global economic policies.                          \u001b[0m\u001b[2m \u001b[0m│\u001b[2m                                                        \u001b[0m│\n",
       "└────────────────────────────────────────────────────────┴────────────────────────────────────────────────────────┘\n"
      ]
     },
     "metadata": {},
     "output_type": "display_data"
    }
   ],
   "source": [
    "themes_lists = q_themes_list.by(scenarios).by(agent).run()\n",
    "themes_lists.select(\"evaluation\", \"themes_list\").print(format=\"rich\")"
   ]
  },
  {
   "cell_type": "markdown",
   "id": "4f633cdd-6541-47e9-875a-f90e1512cace",
   "metadata": {},
   "source": [
    "Now we can count the number of evaluations that mention each of the themes:"
   ]
  },
  {
   "cell_type": "code",
   "execution_count": 20,
   "id": "54271940-dadc-4f80-a17b-b1ce64d4cc78",
   "metadata": {},
   "outputs": [
    {
     "name": "stdout",
     "output_type": "stream",
     "text": [
      "                                               Theme  Evaluations\n",
      "4   Need for real-world applications and discussions            5\n",
      "0                           Engaging and informative            4\n",
      "2                 Interactive and practical approach            3\n",
      "3  Availability for extra help and detailed feedback            2\n",
      "5                    Pace and complexity adjustments            2\n",
      "6            Inclusivity and organization of content            2\n",
      "7            Knowledgeable and enthusiastic teaching            2\n",
      "1             Variety in assessments and assignments            1\n",
      "8   Enhanced learning aids (visuals, guest lectures)            1\n",
      "9        Excellent at breaking down complex concepts            1\n"
     ]
    }
   ],
   "source": [
    "import pandas as pd\n",
    "from collections import Counter\n",
    "\n",
    "themes_lists = themes_lists.select(\"themes_list\").to_list()\n",
    "\n",
    "flat_list = [(theme, idx) for idx, themes in enumerate(themes_lists) for theme in themes]\n",
    "count = Counter(theme for theme, idx in set(flat_list))\n",
    "\n",
    "df_themes = pd.DataFrame(list(count.items()), columns=['Theme', 'Evaluations'])\n",
    "print(df_themes.sort_values(by='Evaluations', ascending=False))"
   ]
  },
  {
   "cell_type": "markdown",
   "id": "846d29fd-847d-4352-af7c-ed339519e239",
   "metadata": {},
   "source": [
    "We can do the same thing with the areas of improvement:"
   ]
  },
  {
   "cell_type": "code",
   "execution_count": 21,
   "id": "13a8a2c1-5a8a-4e46-86fc-8ff23c9587a6",
   "metadata": {},
   "outputs": [
    {
     "data": {
      "text/plain": [
       "['Adjust course pace',\n",
       " 'Balance workload',\n",
       " 'Supplemental resources',\n",
       " 'Incorporate current events',\n",
       " 'Real-world applications',\n",
       " 'Engaging content',\n",
       " 'Incorporate real-world applications',\n",
       " 'Facilitate more discussions',\n",
       " 'Bridge theory and practice',\n",
       " 'Detailed feedback',\n",
       " 'Understanding mistakes',\n",
       " 'Assignment clarity',\n",
       " 'Incorporate visual aids',\n",
       " 'Invite guest lecturers',\n",
       " 'Improve lecture delivery',\n",
       " 'Simplify textbook',\n",
       " 'Clarify jargon in lectures',\n",
       " 'Provide introductory reading materials',\n",
       " 'Diversify assessments',\n",
       " 'Incorporate varied assignments',\n",
       " 'Accommodate different learning styles',\n",
       " 'Incorporate real-world examples',\n",
       " 'Interactive discussions',\n",
       " 'Application-focused activities']"
      ]
     },
     "execution_count": 21,
     "metadata": {},
     "output_type": "execute_result"
    }
   ],
   "source": [
    "improvements = results.select(\"improvements\").to_list(flatten=True)\n",
    "improvements"
   ]
  },
  {
   "cell_type": "code",
   "execution_count": 22,
   "id": "cd346576-9a41-4e15-99ba-ff99fd0d0c06",
   "metadata": {},
   "outputs": [],
   "source": [
    "q_condensed_improvements = QuestionList(\n",
    "    question_name = \"condensed_improvements\",\n",
    "    question_text = \"\"\"Combine the following list of areas for improvement from the evaluations \n",
    "    into a consolidated, non-redundant list: \"\"\" + \", \".join(improvements),\n",
    "    max_list_items = 10\n",
    ")"
   ]
  },
  {
   "cell_type": "code",
   "execution_count": 23,
   "id": "f8e00a94-1eb0-49a5-b338-5385220ee9a3",
   "metadata": {},
   "outputs": [
    {
     "data": {
      "text/plain": [
       "['Adjust course pace',\n",
       " 'Balance workload',\n",
       " 'Supplemental resources',\n",
       " 'Incorporate current events and real-world examples',\n",
       " 'Engage through interactive content and discussions',\n",
       " 'Provide detailed feedback and clarify assignments',\n",
       " 'Use visual aids and invite guest lecturers',\n",
       " 'Bridge theory with practical application',\n",
       " 'Diversify and accommodate various learning styles',\n",
       " 'Simplify and clarify course materials']"
      ]
     },
     "execution_count": 23,
     "metadata": {},
     "output_type": "execute_result"
    }
   ],
   "source": [
    "condensed_improvements = q_condensed_improvements.run().select(\"condensed_improvements\").to_list()[0]\n",
    "condensed_improvements"
   ]
  },
  {
   "cell_type": "code",
   "execution_count": 24,
   "id": "3f59e1e7-559f-4ca8-9f94-9f75ab29d3f6",
   "metadata": {},
   "outputs": [],
   "source": [
    "q_improvements_list = QuestionCheckBox(\n",
    "    question_name = \"improvements_list\",\n",
    "    question_text = \"Select all of the improvements that are mentioned in this evaluation: {{ evaluation }}\",\n",
    "    question_options = condensed_improvements\n",
    ")"
   ]
  },
  {
   "cell_type": "code",
   "execution_count": 25,
   "id": "89a896d5-2597-4f99-8a34-e8ecb0bf969b",
   "metadata": {},
   "outputs": [
    {
     "data": {
      "text/html": [
       "<pre style=\"white-space:pre;overflow-x:auto;line-height:normal;font-family:Menlo,'DejaVu Sans Mono',consolas,'Courier New',monospace\">┏━━━━━━━━━━━━━━━━━━━━━━━━━━━━━━━━━━━━━━━━━━━━━━━━━━━━━━━━┳━━━━━━━━━━━━━━━━━━━━━━━━━━━━━━━━━━━━━━━━━━━━━━━━━━━━━━━━┓\n",
       "┃<span style=\"color: #800080; text-decoration-color: #800080; font-weight: bold\"> scenario                                               </span>┃<span style=\"color: #800080; text-decoration-color: #800080; font-weight: bold\"> answer                                                 </span>┃\n",
       "┃<span style=\"color: #800080; text-decoration-color: #800080; font-weight: bold\"> .evaluation                                            </span>┃<span style=\"color: #800080; text-decoration-color: #800080; font-weight: bold\"> .improvements_list                                     </span>┃\n",
       "┡━━━━━━━━━━━━━━━━━━━━━━━━━━━━━━━━━━━━━━━━━━━━━━━━━━━━━━━━╇━━━━━━━━━━━━━━━━━━━━━━━━━━━━━━━━━━━━━━━━━━━━━━━━━━━━━━━━┩\n",
       "│<span style=\"color: #7f7f7f; text-decoration-color: #7f7f7f\"> This class was a struggle for me. The material felt    </span>│<span style=\"color: #7f7f7f; text-decoration-color: #7f7f7f\"> ['Incorporate current events and real-world examples', </span>│\n",
       "│<span style=\"color: #7f7f7f; text-decoration-color: #7f7f7f\"> dry and difficult to connect with real-world           </span>│<span style=\"color: #7f7f7f; text-decoration-color: #7f7f7f\"> 'Bridge theory with practical application']            </span>│\n",
       "│<span style=\"color: #7f7f7f; text-decoration-color: #7f7f7f\"> applications, which I think could have made it more    </span>│<span style=\"color: #7f7f7f; text-decoration-color: #7f7f7f\">                                                        </span>│\n",
       "│<span style=\"color: #7f7f7f; text-decoration-color: #7f7f7f\"> interesting. More examples from current events would   </span>│<span style=\"color: #7f7f7f; text-decoration-color: #7f7f7f\">                                                        </span>│\n",
       "│<span style=\"color: #7f7f7f; text-decoration-color: #7f7f7f\"> definitely have helped spark my interest.              </span>│<span style=\"color: #7f7f7f; text-decoration-color: #7f7f7f\">                                                        </span>│\n",
       "├────────────────────────────────────────────────────────┼────────────────────────────────────────────────────────┤\n",
       "│<span style=\"color: #7f7f7f; text-decoration-color: #7f7f7f\"> I enjoyed the course, especially the group projects,   </span>│<span style=\"color: #7f7f7f; text-decoration-color: #7f7f7f\"> ['Provide detailed feedback and clarify assignments']  </span>│\n",
       "│<span style=\"color: #7f7f7f; text-decoration-color: #7f7f7f\"> which were both challenging and rewarding. It was      </span>│<span style=\"color: #7f7f7f; text-decoration-color: #7f7f7f\">                                                        </span>│\n",
       "│<span style=\"color: #7f7f7f; text-decoration-color: #7f7f7f\"> great to apply economic concepts to solve real-life    </span>│<span style=\"color: #7f7f7f; text-decoration-color: #7f7f7f\">                                                        </span>│\n",
       "│<span style=\"color: #7f7f7f; text-decoration-color: #7f7f7f\"> problems. I did feel, however, that the feedback on    </span>│<span style=\"color: #7f7f7f; text-decoration-color: #7f7f7f\">                                                        </span>│\n",
       "│<span style=\"color: #7f7f7f; text-decoration-color: #7f7f7f\"> assignments could be more detailed to help us          </span>│<span style=\"color: #7f7f7f; text-decoration-color: #7f7f7f\">                                                        </span>│\n",
       "│<span style=\"color: #7f7f7f; text-decoration-color: #7f7f7f\"> understand our mistakes.                               </span>│<span style=\"color: #7f7f7f; text-decoration-color: #7f7f7f\">                                                        </span>│\n",
       "├────────────────────────────────────────────────────────┼────────────────────────────────────────────────────────┤\n",
       "│<span style=\"color: #7f7f7f; text-decoration-color: #7f7f7f\"> I found the textbook to be overly complex for an       </span>│<span style=\"color: #7f7f7f; text-decoration-color: #7f7f7f\"> ['Supplemental resources', 'Simplify and clarify       </span>│\n",
       "│<span style=\"color: #7f7f7f; text-decoration-color: #7f7f7f\"> introductory course. It often used jargon that hadn't  </span>│<span style=\"color: #7f7f7f; text-decoration-color: #7f7f7f\"> course materials']                                     </span>│\n",
       "│<span style=\"color: #7f7f7f; text-decoration-color: #7f7f7f\"> been explained in lectures, which was confusing.       </span>│<span style=\"color: #7f7f7f; text-decoration-color: #7f7f7f\">                                                        </span>│\n",
       "│<span style=\"color: #7f7f7f; text-decoration-color: #7f7f7f\"> Simpler reading materials or more explanatory lectures </span>│<span style=\"color: #7f7f7f; text-decoration-color: #7f7f7f\">                                                        </span>│\n",
       "│<span style=\"color: #7f7f7f; text-decoration-color: #7f7f7f\"> would make a big difference for newcomers to           </span>│<span style=\"color: #7f7f7f; text-decoration-color: #7f7f7f\">                                                        </span>│\n",
       "│<span style=\"color: #7f7f7f; text-decoration-color: #7f7f7f\"> economics.                                             </span>│<span style=\"color: #7f7f7f; text-decoration-color: #7f7f7f\">                                                        </span>│\n",
       "├────────────────────────────────────────────────────────┼────────────────────────────────────────────────────────┤\n",
       "│<span style=\"color: #7f7f7f; text-decoration-color: #7f7f7f\"> The course content was well-organized, but the         </span>│<span style=\"color: #7f7f7f; text-decoration-color: #7f7f7f\"> ['Use visual aids and invite guest lecturers']         </span>│\n",
       "│<span style=\"color: #7f7f7f; text-decoration-color: #7f7f7f\"> lectures were somewhat monotonous and hard to follow.  </span>│<span style=\"color: #7f7f7f; text-decoration-color: #7f7f7f\">                                                        </span>│\n",
       "│<span style=\"color: #7f7f7f; text-decoration-color: #7f7f7f\"> I would suggest incorporating more visual aids and     </span>│<span style=\"color: #7f7f7f; text-decoration-color: #7f7f7f\">                                                        </span>│\n",
       "│<span style=\"color: #7f7f7f; text-decoration-color: #7f7f7f\"> maybe some guest lectures from industry professionals  </span>│<span style=\"color: #7f7f7f; text-decoration-color: #7f7f7f\">                                                        </span>│\n",
       "│<span style=\"color: #7f7f7f; text-decoration-color: #7f7f7f\"> to liven up the sessions.                              </span>│<span style=\"color: #7f7f7f; text-decoration-color: #7f7f7f\">                                                        </span>│\n",
       "├────────────────────────────────────────────────────────┼────────────────────────────────────────────────────────┤\n",
       "│<span style=\"color: #7f7f7f; text-decoration-color: #7f7f7f\"> Excellent introductory course! The professor was       </span>│<span style=\"color: #7f7f7f; text-decoration-color: #7f7f7f\"> ['Engage through interactive content and discussions', </span>│\n",
       "│<span style=\"color: #7f7f7f; text-decoration-color: #7f7f7f\"> enthusiastic and always willing to offer extra help    </span>│<span style=\"color: #7f7f7f; text-decoration-color: #7f7f7f\"> 'Bridge theory with practical application']            </span>│\n",
       "│<span style=\"color: #7f7f7f; text-decoration-color: #7f7f7f\"> during office hours. The interactive lectures and the  </span>│<span style=\"color: #7f7f7f; text-decoration-color: #7f7f7f\">                                                        </span>│\n",
       "│<span style=\"color: #7f7f7f; text-decoration-color: #7f7f7f\"> practical assignments made the theory much more        </span>│<span style=\"color: #7f7f7f; text-decoration-color: #7f7f7f\">                                                        </span>│\n",
       "│<span style=\"color: #7f7f7f; text-decoration-color: #7f7f7f\"> digestible and engaging.                               </span>│<span style=\"color: #7f7f7f; text-decoration-color: #7f7f7f\">                                                        </span>│\n",
       "├────────────────────────────────────────────────────────┼────────────────────────────────────────────────────────┤\n",
       "│<span style=\"color: #7f7f7f; text-decoration-color: #7f7f7f\"> As someone with a strong background in math, I         </span>│<span style=\"color: #7f7f7f; text-decoration-color: #7f7f7f\"> ['Incorporate current events and real-world examples', </span>│\n",
       "│<span style=\"color: #7f7f7f; text-decoration-color: #7f7f7f\"> appreciated the analytical rigor of this course.       </span>│<span style=\"color: #7f7f7f; text-decoration-color: #7f7f7f\"> 'Engage through interactive content and discussions',  </span>│\n",
       "│<span style=\"color: #7f7f7f; text-decoration-color: #7f7f7f\"> However, I wish there had been more discussions that   </span>│<span style=\"color: #7f7f7f; text-decoration-color: #7f7f7f\"> 'Bridge theory with practical application']            </span>│\n",
       "│<span style=\"color: #7f7f7f; text-decoration-color: #7f7f7f\"> connected the theories we learned to everyday economic </span>│<span style=\"color: #7f7f7f; text-decoration-color: #7f7f7f\">                                                        </span>│\n",
       "│<span style=\"color: #7f7f7f; text-decoration-color: #7f7f7f\"> issues. It felt a bit isolated from practical          </span>│<span style=\"color: #7f7f7f; text-decoration-color: #7f7f7f\">                                                        </span>│\n",
       "│<span style=\"color: #7f7f7f; text-decoration-color: #7f7f7f\"> realities at times.                                    </span>│<span style=\"color: #7f7f7f; text-decoration-color: #7f7f7f\">                                                        </span>│\n",
       "├────────────────────────────────────────────────────────┼────────────────────────────────────────────────────────┤\n",
       "│<span style=\"color: #7f7f7f; text-decoration-color: #7f7f7f\"> This class was a solid introduction to economics,      </span>│<span style=\"color: #7f7f7f; text-decoration-color: #7f7f7f\"> ['Incorporate current events and real-world examples', </span>│\n",
       "│<span style=\"color: #7f7f7f; text-decoration-color: #7f7f7f\"> though it leaned heavily on theoretical aspects. I     </span>│<span style=\"color: #7f7f7f; text-decoration-color: #7f7f7f\"> 'Bridge theory with practical application']            </span>│\n",
       "│<span style=\"color: #7f7f7f; text-decoration-color: #7f7f7f\"> would have liked more opportunities to discuss the     </span>│<span style=\"color: #7f7f7f; text-decoration-color: #7f7f7f\">                                                        </span>│\n",
       "│<span style=\"color: #7f7f7f; text-decoration-color: #7f7f7f\"> real-world implications of economic theories, which I  </span>│<span style=\"color: #7f7f7f; text-decoration-color: #7f7f7f\">                                                        </span>│\n",
       "│<span style=\"color: #7f7f7f; text-decoration-color: #7f7f7f\"> believe would enhance understanding and retention of   </span>│<span style=\"color: #7f7f7f; text-decoration-color: #7f7f7f\">                                                        </span>│\n",
       "│<span style=\"color: #7f7f7f; text-decoration-color: #7f7f7f\"> the material.                                          </span>│<span style=\"color: #7f7f7f; text-decoration-color: #7f7f7f\">                                                        </span>│\n",
       "├────────────────────────────────────────────────────────┼────────────────────────────────────────────────────────┤\n",
       "│<span style=\"color: #7f7f7f; text-decoration-color: #7f7f7f\"> I found the course very engaging and informative. The  </span>│<span style=\"color: #7f7f7f; text-decoration-color: #7f7f7f\"> ['Adjust course pace', 'Balance workload']             </span>│\n",
       "│<span style=\"color: #7f7f7f; text-decoration-color: #7f7f7f\"> professor did an excellent job breaking down complex   </span>│<span style=\"color: #7f7f7f; text-decoration-color: #7f7f7f\">                                                        </span>│\n",
       "│<span style=\"color: #7f7f7f; text-decoration-color: #7f7f7f\"> concepts, making them accessible to those of us new to </span>│<span style=\"color: #7f7f7f; text-decoration-color: #7f7f7f\">                                                        </span>│\n",
       "│<span style=\"color: #7f7f7f; text-decoration-color: #7f7f7f\"> economics. However, the pace was a bit fast, and I     </span>│<span style=\"color: #7f7f7f; text-decoration-color: #7f7f7f\">                                                        </span>│\n",
       "│<span style=\"color: #7f7f7f; text-decoration-color: #7f7f7f\"> sometimes struggled to keep up with the weekly         </span>│<span style=\"color: #7f7f7f; text-decoration-color: #7f7f7f\">                                                        </span>│\n",
       "│<span style=\"color: #7f7f7f; text-decoration-color: #7f7f7f\"> readings.                                              </span>│<span style=\"color: #7f7f7f; text-decoration-color: #7f7f7f\">                                                        </span>│\n",
       "├────────────────────────────────────────────────────────┼────────────────────────────────────────────────────────┤\n",
       "│<span style=\"color: #7f7f7f; text-decoration-color: #7f7f7f\"> The professor was knowledgeable and clearly passionate </span>│<span style=\"color: #7f7f7f; text-decoration-color: #7f7f7f\"> ['Diversify and accommodate various learning styles']  </span>│\n",
       "│<span style=\"color: #7f7f7f; text-decoration-color: #7f7f7f\"> about economics, but I felt the course relied too      </span>│<span style=\"color: #7f7f7f; text-decoration-color: #7f7f7f\">                                                        </span>│\n",
       "│<span style=\"color: #7f7f7f; text-decoration-color: #7f7f7f\"> heavily on tests rather than more creative forms of    </span>│<span style=\"color: #7f7f7f; text-decoration-color: #7f7f7f\">                                                        </span>│\n",
       "│<span style=\"color: #7f7f7f; text-decoration-color: #7f7f7f\"> assessment. More varied assignments would make the     </span>│<span style=\"color: #7f7f7f; text-decoration-color: #7f7f7f\">                                                        </span>│\n",
       "│<span style=\"color: #7f7f7f; text-decoration-color: #7f7f7f\"> course more accessible to students with different      </span>│<span style=\"color: #7f7f7f; text-decoration-color: #7f7f7f\">                                                        </span>│\n",
       "│<span style=\"color: #7f7f7f; text-decoration-color: #7f7f7f\"> learning styles.                                       </span>│<span style=\"color: #7f7f7f; text-decoration-color: #7f7f7f\">                                                        </span>│\n",
       "├────────────────────────────────────────────────────────┼────────────────────────────────────────────────────────┤\n",
       "│<span style=\"color: #7f7f7f; text-decoration-color: #7f7f7f\"> This was my favorite class this semester! The mix of   </span>│<span style=\"color: #7f7f7f; text-decoration-color: #7f7f7f\"> ['Incorporate current events and real-world examples', </span>│\n",
       "│<span style=\"color: #7f7f7f; text-decoration-color: #7f7f7f\"> theory and case studies was perfect, and the exams     </span>│<span style=\"color: #7f7f7f; text-decoration-color: #7f7f7f\"> 'Bridge theory with practical application', 'Diversify </span>│\n",
       "│<span style=\"color: #7f7f7f; text-decoration-color: #7f7f7f\"> were fair. I also really appreciated the diversity of  </span>│<span style=\"color: #7f7f7f; text-decoration-color: #7f7f7f\"> and accommodate various learning styles']              </span>│\n",
       "│<span style=\"color: #7f7f7f; text-decoration-color: #7f7f7f\"> perspectives we explored in class, especially in terms </span>│<span style=\"color: #7f7f7f; text-decoration-color: #7f7f7f\">                                                        </span>│\n",
       "│<span style=\"color: #7f7f7f; text-decoration-color: #7f7f7f\"> of global economic policies.                           </span>│<span style=\"color: #7f7f7f; text-decoration-color: #7f7f7f\">                                                        </span>│\n",
       "└────────────────────────────────────────────────────────┴────────────────────────────────────────────────────────┘\n",
       "</pre>\n"
      ],
      "text/plain": [
       "┏━━━━━━━━━━━━━━━━━━━━━━━━━━━━━━━━━━━━━━━━━━━━━━━━━━━━━━━━┳━━━━━━━━━━━━━━━━━━━━━━━━━━━━━━━━━━━━━━━━━━━━━━━━━━━━━━━━┓\n",
       "┃\u001b[1;35m \u001b[0m\u001b[1;35mscenario                                              \u001b[0m\u001b[1;35m \u001b[0m┃\u001b[1;35m \u001b[0m\u001b[1;35manswer                                                \u001b[0m\u001b[1;35m \u001b[0m┃\n",
       "┃\u001b[1;35m \u001b[0m\u001b[1;35m.evaluation                                           \u001b[0m\u001b[1;35m \u001b[0m┃\u001b[1;35m \u001b[0m\u001b[1;35m.improvements_list                                    \u001b[0m\u001b[1;35m \u001b[0m┃\n",
       "┡━━━━━━━━━━━━━━━━━━━━━━━━━━━━━━━━━━━━━━━━━━━━━━━━━━━━━━━━╇━━━━━━━━━━━━━━━━━━━━━━━━━━━━━━━━━━━━━━━━━━━━━━━━━━━━━━━━┩\n",
       "│\u001b[2m \u001b[0m\u001b[2mThis class was a struggle for me. The material felt   \u001b[0m\u001b[2m \u001b[0m│\u001b[2m \u001b[0m\u001b[2m['Incorporate current events and real-world examples',\u001b[0m\u001b[2m \u001b[0m│\n",
       "│\u001b[2m \u001b[0m\u001b[2mdry and difficult to connect with real-world          \u001b[0m\u001b[2m \u001b[0m│\u001b[2m \u001b[0m\u001b[2m'Bridge theory with practical application']           \u001b[0m\u001b[2m \u001b[0m│\n",
       "│\u001b[2m \u001b[0m\u001b[2mapplications, which I think could have made it more   \u001b[0m\u001b[2m \u001b[0m│\u001b[2m                                                        \u001b[0m│\n",
       "│\u001b[2m \u001b[0m\u001b[2minteresting. More examples from current events would  \u001b[0m\u001b[2m \u001b[0m│\u001b[2m                                                        \u001b[0m│\n",
       "│\u001b[2m \u001b[0m\u001b[2mdefinitely have helped spark my interest.             \u001b[0m\u001b[2m \u001b[0m│\u001b[2m                                                        \u001b[0m│\n",
       "├────────────────────────────────────────────────────────┼────────────────────────────────────────────────────────┤\n",
       "│\u001b[2m \u001b[0m\u001b[2mI enjoyed the course, especially the group projects,  \u001b[0m\u001b[2m \u001b[0m│\u001b[2m \u001b[0m\u001b[2m['Provide detailed feedback and clarify assignments'] \u001b[0m\u001b[2m \u001b[0m│\n",
       "│\u001b[2m \u001b[0m\u001b[2mwhich were both challenging and rewarding. It was     \u001b[0m\u001b[2m \u001b[0m│\u001b[2m                                                        \u001b[0m│\n",
       "│\u001b[2m \u001b[0m\u001b[2mgreat to apply economic concepts to solve real-life   \u001b[0m\u001b[2m \u001b[0m│\u001b[2m                                                        \u001b[0m│\n",
       "│\u001b[2m \u001b[0m\u001b[2mproblems. I did feel, however, that the feedback on   \u001b[0m\u001b[2m \u001b[0m│\u001b[2m                                                        \u001b[0m│\n",
       "│\u001b[2m \u001b[0m\u001b[2massignments could be more detailed to help us         \u001b[0m\u001b[2m \u001b[0m│\u001b[2m                                                        \u001b[0m│\n",
       "│\u001b[2m \u001b[0m\u001b[2munderstand our mistakes.                              \u001b[0m\u001b[2m \u001b[0m│\u001b[2m                                                        \u001b[0m│\n",
       "├────────────────────────────────────────────────────────┼────────────────────────────────────────────────────────┤\n",
       "│\u001b[2m \u001b[0m\u001b[2mI found the textbook to be overly complex for an      \u001b[0m\u001b[2m \u001b[0m│\u001b[2m \u001b[0m\u001b[2m['Supplemental resources', 'Simplify and clarify      \u001b[0m\u001b[2m \u001b[0m│\n",
       "│\u001b[2m \u001b[0m\u001b[2mintroductory course. It often used jargon that hadn't \u001b[0m\u001b[2m \u001b[0m│\u001b[2m \u001b[0m\u001b[2mcourse materials']                                    \u001b[0m\u001b[2m \u001b[0m│\n",
       "│\u001b[2m \u001b[0m\u001b[2mbeen explained in lectures, which was confusing.      \u001b[0m\u001b[2m \u001b[0m│\u001b[2m                                                        \u001b[0m│\n",
       "│\u001b[2m \u001b[0m\u001b[2mSimpler reading materials or more explanatory lectures\u001b[0m\u001b[2m \u001b[0m│\u001b[2m                                                        \u001b[0m│\n",
       "│\u001b[2m \u001b[0m\u001b[2mwould make a big difference for newcomers to          \u001b[0m\u001b[2m \u001b[0m│\u001b[2m                                                        \u001b[0m│\n",
       "│\u001b[2m \u001b[0m\u001b[2meconomics.                                            \u001b[0m\u001b[2m \u001b[0m│\u001b[2m                                                        \u001b[0m│\n",
       "├────────────────────────────────────────────────────────┼────────────────────────────────────────────────────────┤\n",
       "│\u001b[2m \u001b[0m\u001b[2mThe course content was well-organized, but the        \u001b[0m\u001b[2m \u001b[0m│\u001b[2m \u001b[0m\u001b[2m['Use visual aids and invite guest lecturers']        \u001b[0m\u001b[2m \u001b[0m│\n",
       "│\u001b[2m \u001b[0m\u001b[2mlectures were somewhat monotonous and hard to follow. \u001b[0m\u001b[2m \u001b[0m│\u001b[2m                                                        \u001b[0m│\n",
       "│\u001b[2m \u001b[0m\u001b[2mI would suggest incorporating more visual aids and    \u001b[0m\u001b[2m \u001b[0m│\u001b[2m                                                        \u001b[0m│\n",
       "│\u001b[2m \u001b[0m\u001b[2mmaybe some guest lectures from industry professionals \u001b[0m\u001b[2m \u001b[0m│\u001b[2m                                                        \u001b[0m│\n",
       "│\u001b[2m \u001b[0m\u001b[2mto liven up the sessions.                             \u001b[0m\u001b[2m \u001b[0m│\u001b[2m                                                        \u001b[0m│\n",
       "├────────────────────────────────────────────────────────┼────────────────────────────────────────────────────────┤\n",
       "│\u001b[2m \u001b[0m\u001b[2mExcellent introductory course! The professor was      \u001b[0m\u001b[2m \u001b[0m│\u001b[2m \u001b[0m\u001b[2m['Engage through interactive content and discussions',\u001b[0m\u001b[2m \u001b[0m│\n",
       "│\u001b[2m \u001b[0m\u001b[2menthusiastic and always willing to offer extra help   \u001b[0m\u001b[2m \u001b[0m│\u001b[2m \u001b[0m\u001b[2m'Bridge theory with practical application']           \u001b[0m\u001b[2m \u001b[0m│\n",
       "│\u001b[2m \u001b[0m\u001b[2mduring office hours. The interactive lectures and the \u001b[0m\u001b[2m \u001b[0m│\u001b[2m                                                        \u001b[0m│\n",
       "│\u001b[2m \u001b[0m\u001b[2mpractical assignments made the theory much more       \u001b[0m\u001b[2m \u001b[0m│\u001b[2m                                                        \u001b[0m│\n",
       "│\u001b[2m \u001b[0m\u001b[2mdigestible and engaging.                              \u001b[0m\u001b[2m \u001b[0m│\u001b[2m                                                        \u001b[0m│\n",
       "├────────────────────────────────────────────────────────┼────────────────────────────────────────────────────────┤\n",
       "│\u001b[2m \u001b[0m\u001b[2mAs someone with a strong background in math, I        \u001b[0m\u001b[2m \u001b[0m│\u001b[2m \u001b[0m\u001b[2m['Incorporate current events and real-world examples',\u001b[0m\u001b[2m \u001b[0m│\n",
       "│\u001b[2m \u001b[0m\u001b[2mappreciated the analytical rigor of this course.      \u001b[0m\u001b[2m \u001b[0m│\u001b[2m \u001b[0m\u001b[2m'Engage through interactive content and discussions', \u001b[0m\u001b[2m \u001b[0m│\n",
       "│\u001b[2m \u001b[0m\u001b[2mHowever, I wish there had been more discussions that  \u001b[0m\u001b[2m \u001b[0m│\u001b[2m \u001b[0m\u001b[2m'Bridge theory with practical application']           \u001b[0m\u001b[2m \u001b[0m│\n",
       "│\u001b[2m \u001b[0m\u001b[2mconnected the theories we learned to everyday economic\u001b[0m\u001b[2m \u001b[0m│\u001b[2m                                                        \u001b[0m│\n",
       "│\u001b[2m \u001b[0m\u001b[2missues. It felt a bit isolated from practical         \u001b[0m\u001b[2m \u001b[0m│\u001b[2m                                                        \u001b[0m│\n",
       "│\u001b[2m \u001b[0m\u001b[2mrealities at times.                                   \u001b[0m\u001b[2m \u001b[0m│\u001b[2m                                                        \u001b[0m│\n",
       "├────────────────────────────────────────────────────────┼────────────────────────────────────────────────────────┤\n",
       "│\u001b[2m \u001b[0m\u001b[2mThis class was a solid introduction to economics,     \u001b[0m\u001b[2m \u001b[0m│\u001b[2m \u001b[0m\u001b[2m['Incorporate current events and real-world examples',\u001b[0m\u001b[2m \u001b[0m│\n",
       "│\u001b[2m \u001b[0m\u001b[2mthough it leaned heavily on theoretical aspects. I    \u001b[0m\u001b[2m \u001b[0m│\u001b[2m \u001b[0m\u001b[2m'Bridge theory with practical application']           \u001b[0m\u001b[2m \u001b[0m│\n",
       "│\u001b[2m \u001b[0m\u001b[2mwould have liked more opportunities to discuss the    \u001b[0m\u001b[2m \u001b[0m│\u001b[2m                                                        \u001b[0m│\n",
       "│\u001b[2m \u001b[0m\u001b[2mreal-world implications of economic theories, which I \u001b[0m\u001b[2m \u001b[0m│\u001b[2m                                                        \u001b[0m│\n",
       "│\u001b[2m \u001b[0m\u001b[2mbelieve would enhance understanding and retention of  \u001b[0m\u001b[2m \u001b[0m│\u001b[2m                                                        \u001b[0m│\n",
       "│\u001b[2m \u001b[0m\u001b[2mthe material.                                         \u001b[0m\u001b[2m \u001b[0m│\u001b[2m                                                        \u001b[0m│\n",
       "├────────────────────────────────────────────────────────┼────────────────────────────────────────────────────────┤\n",
       "│\u001b[2m \u001b[0m\u001b[2mI found the course very engaging and informative. The \u001b[0m\u001b[2m \u001b[0m│\u001b[2m \u001b[0m\u001b[2m['Adjust course pace', 'Balance workload']            \u001b[0m\u001b[2m \u001b[0m│\n",
       "│\u001b[2m \u001b[0m\u001b[2mprofessor did an excellent job breaking down complex  \u001b[0m\u001b[2m \u001b[0m│\u001b[2m                                                        \u001b[0m│\n",
       "│\u001b[2m \u001b[0m\u001b[2mconcepts, making them accessible to those of us new to\u001b[0m\u001b[2m \u001b[0m│\u001b[2m                                                        \u001b[0m│\n",
       "│\u001b[2m \u001b[0m\u001b[2meconomics. However, the pace was a bit fast, and I    \u001b[0m\u001b[2m \u001b[0m│\u001b[2m                                                        \u001b[0m│\n",
       "│\u001b[2m \u001b[0m\u001b[2msometimes struggled to keep up with the weekly        \u001b[0m\u001b[2m \u001b[0m│\u001b[2m                                                        \u001b[0m│\n",
       "│\u001b[2m \u001b[0m\u001b[2mreadings.                                             \u001b[0m\u001b[2m \u001b[0m│\u001b[2m                                                        \u001b[0m│\n",
       "├────────────────────────────────────────────────────────┼────────────────────────────────────────────────────────┤\n",
       "│\u001b[2m \u001b[0m\u001b[2mThe professor was knowledgeable and clearly passionate\u001b[0m\u001b[2m \u001b[0m│\u001b[2m \u001b[0m\u001b[2m['Diversify and accommodate various learning styles'] \u001b[0m\u001b[2m \u001b[0m│\n",
       "│\u001b[2m \u001b[0m\u001b[2mabout economics, but I felt the course relied too     \u001b[0m\u001b[2m \u001b[0m│\u001b[2m                                                        \u001b[0m│\n",
       "│\u001b[2m \u001b[0m\u001b[2mheavily on tests rather than more creative forms of   \u001b[0m\u001b[2m \u001b[0m│\u001b[2m                                                        \u001b[0m│\n",
       "│\u001b[2m \u001b[0m\u001b[2massessment. More varied assignments would make the    \u001b[0m\u001b[2m \u001b[0m│\u001b[2m                                                        \u001b[0m│\n",
       "│\u001b[2m \u001b[0m\u001b[2mcourse more accessible to students with different     \u001b[0m\u001b[2m \u001b[0m│\u001b[2m                                                        \u001b[0m│\n",
       "│\u001b[2m \u001b[0m\u001b[2mlearning styles.                                      \u001b[0m\u001b[2m \u001b[0m│\u001b[2m                                                        \u001b[0m│\n",
       "├────────────────────────────────────────────────────────┼────────────────────────────────────────────────────────┤\n",
       "│\u001b[2m \u001b[0m\u001b[2mThis was my favorite class this semester! The mix of  \u001b[0m\u001b[2m \u001b[0m│\u001b[2m \u001b[0m\u001b[2m['Incorporate current events and real-world examples',\u001b[0m\u001b[2m \u001b[0m│\n",
       "│\u001b[2m \u001b[0m\u001b[2mtheory and case studies was perfect, and the exams    \u001b[0m\u001b[2m \u001b[0m│\u001b[2m \u001b[0m\u001b[2m'Bridge theory with practical application', 'Diversify\u001b[0m\u001b[2m \u001b[0m│\n",
       "│\u001b[2m \u001b[0m\u001b[2mwere fair. I also really appreciated the diversity of \u001b[0m\u001b[2m \u001b[0m│\u001b[2m \u001b[0m\u001b[2mand accommodate various learning styles']             \u001b[0m\u001b[2m \u001b[0m│\n",
       "│\u001b[2m \u001b[0m\u001b[2mperspectives we explored in class, especially in terms\u001b[0m\u001b[2m \u001b[0m│\u001b[2m                                                        \u001b[0m│\n",
       "│\u001b[2m \u001b[0m\u001b[2mof global economic policies.                          \u001b[0m\u001b[2m \u001b[0m│\u001b[2m                                                        \u001b[0m│\n",
       "└────────────────────────────────────────────────────────┴────────────────────────────────────────────────────────┘\n"
      ]
     },
     "metadata": {},
     "output_type": "display_data"
    }
   ],
   "source": [
    "improvements_lists = q_improvements_list.by(scenarios).by(agent).run()\n",
    "improvements_lists.select(\"evaluation\", \"improvements_list\").print(format=\"rich\")"
   ]
  },
  {
   "cell_type": "code",
   "execution_count": 26,
   "id": "92616cbf-8240-4077-b1b0-c335a4f7f2f9",
   "metadata": {},
   "outputs": [
    {
     "name": "stdout",
     "output_type": "stream",
     "text": [
      "                                         Improvement  Evaluations\n",
      "1           Bridge theory with practical application            5\n",
      "2  Incorporate current events and real-world exam...            4\n",
      "0  Diversify and accommodate various learning styles            2\n",
      "4  Engage through interactive content and discuss...            2\n",
      "3                                   Balance workload            1\n",
      "5                                 Adjust course pace            1\n",
      "6              Simplify and clarify course materials            1\n",
      "7  Provide detailed feedback and clarify assignments            1\n",
      "8         Use visual aids and invite guest lecturers            1\n",
      "9                             Supplemental resources            1\n"
     ]
    }
   ],
   "source": [
    "import pandas as pd\n",
    "from collections import Counter\n",
    "\n",
    "improvements_lists = improvements_lists.select(\"improvements_list\").to_list()\n",
    "\n",
    "flat_list = [(theme, idx) for idx, themes in enumerate(improvements_lists) for theme in themes]\n",
    "count = Counter(theme for theme, idx in set(flat_list))\n",
    "\n",
    "df_improvements = pd.DataFrame(list(count.items()), columns=['Improvement', 'Evaluations'])\n",
    "print(df_improvements.sort_values(by='Evaluations', ascending=False))"
   ]
  },
  {
   "cell_type": "markdown",
   "id": "fd739dc9-da05-4e39-ae23-bce83df78c23",
   "metadata": {},
   "source": [
    "## Summarize the review\n",
    "Here we create another question prompting the agent to summarize the analysis that was done, using the results of the prior steps:"
   ]
  },
  {
   "cell_type": "code",
   "execution_count": 27,
   "id": "4b6ae6f1-9ee6-46fb-a0d8-5e61acacf2e4",
   "metadata": {},
   "outputs": [
    {
     "data": {
      "text/html": [
       "<pre style=\"white-space:pre;overflow-x:auto;line-height:normal;font-family:Menlo,'DejaVu Sans Mono',consolas,'Courier New',monospace\">┏━━━━━━━━━━━━━━━━━━━━━━━━━━━━━━━━━━━━━━━━━━━━━━━━━━━━━━━━━━━━━━━━━━━━━━━━━━━━━━━━━━━━━━━━━━━━━━━━━━━━━━━━━━━━━━━━━┓\n",
       "┃<span style=\"color: #800080; text-decoration-color: #800080; font-weight: bold\"> answer                                                                                                          </span>┃\n",
       "┃<span style=\"color: #800080; text-decoration-color: #800080; font-weight: bold\"> .summary                                                                                                        </span>┃\n",
       "┡━━━━━━━━━━━━━━━━━━━━━━━━━━━━━━━━━━━━━━━━━━━━━━━━━━━━━━━━━━━━━━━━━━━━━━━━━━━━━━━━━━━━━━━━━━━━━━━━━━━━━━━━━━━━━━━━━┩\n",
       "│<span style=\"color: #7f7f7f; text-decoration-color: #7f7f7f\"> The evaluations for the Econ 101 course reveal insightful feedback from the students, indicating areas of       </span>│\n",
       "│<span style=\"color: #7f7f7f; text-decoration-color: #7f7f7f\"> strength and opportunities for improvement. Students appreciated the course's engaging and informative nature,  </span>│\n",
       "│<span style=\"color: #7f7f7f; text-decoration-color: #7f7f7f\"> with four evaluations highlighting this aspect. The interactive and practical approach also resonated well,     </span>│\n",
       "│<span style=\"color: #7f7f7f; text-decoration-color: #7f7f7f\"> receiving three positive mentions. However, the most significant demand, cited in five evaluations, is for      </span>│\n",
       "│<span style=\"color: #7f7f7f; text-decoration-color: #7f7f7f\"> increased incorporation of real-world applications and discussions, suggesting a desire for a curriculum that   </span>│\n",
       "│<span style=\"color: #7f7f7f; text-decoration-color: #7f7f7f\"> closely mirrors real economic scenarios. Additionally, there is a call for bridging theoretical concepts with   </span>│\n",
       "│<span style=\"color: #7f7f7f; text-decoration-color: #7f7f7f\"> practical applications, as well as incorporating current events into the coursework, each receiving five and    </span>│\n",
       "│<span style=\"color: #7f7f7f; text-decoration-color: #7f7f7f\"> four evaluations, respectively. While the diversity in assessments and enhanced learning aids like visuals and  </span>│\n",
       "│<span style=\"color: #7f7f7f; text-decoration-color: #7f7f7f\"> guest lectures were acknowledged, they were less frequently mentioned, indicating these areas might be          </span>│\n",
       "│<span style=\"color: #7f7f7f; text-decoration-color: #7f7f7f\"> satisfactory but could benefit from further attention. Overall, the feedback suggests a need for a more applied </span>│\n",
       "│<span style=\"color: #7f7f7f; text-decoration-color: #7f7f7f\"> learning experience that accommodates various learning styles and better connects with the dynamic nature of    </span>│\n",
       "│<span style=\"color: #7f7f7f; text-decoration-color: #7f7f7f\"> economics.                                                                                                      </span>│\n",
       "└─────────────────────────────────────────────────────────────────────────────────────────────────────────────────┘\n",
       "</pre>\n"
      ],
      "text/plain": [
       "┏━━━━━━━━━━━━━━━━━━━━━━━━━━━━━━━━━━━━━━━━━━━━━━━━━━━━━━━━━━━━━━━━━━━━━━━━━━━━━━━━━━━━━━━━━━━━━━━━━━━━━━━━━━━━━━━━━┓\n",
       "┃\u001b[1;35m \u001b[0m\u001b[1;35manswer                                                                                                         \u001b[0m\u001b[1;35m \u001b[0m┃\n",
       "┃\u001b[1;35m \u001b[0m\u001b[1;35m.summary                                                                                                       \u001b[0m\u001b[1;35m \u001b[0m┃\n",
       "┡━━━━━━━━━━━━━━━━━━━━━━━━━━━━━━━━━━━━━━━━━━━━━━━━━━━━━━━━━━━━━━━━━━━━━━━━━━━━━━━━━━━━━━━━━━━━━━━━━━━━━━━━━━━━━━━━━┩\n",
       "│\u001b[2m \u001b[0m\u001b[2mThe evaluations for the Econ 101 course reveal insightful feedback from the students, indicating areas of      \u001b[0m\u001b[2m \u001b[0m│\n",
       "│\u001b[2m \u001b[0m\u001b[2mstrength and opportunities for improvement. Students appreciated the course's engaging and informative nature, \u001b[0m\u001b[2m \u001b[0m│\n",
       "│\u001b[2m \u001b[0m\u001b[2mwith four evaluations highlighting this aspect. The interactive and practical approach also resonated well,    \u001b[0m\u001b[2m \u001b[0m│\n",
       "│\u001b[2m \u001b[0m\u001b[2mreceiving three positive mentions. However, the most significant demand, cited in five evaluations, is for     \u001b[0m\u001b[2m \u001b[0m│\n",
       "│\u001b[2m \u001b[0m\u001b[2mincreased incorporation of real-world applications and discussions, suggesting a desire for a curriculum that  \u001b[0m\u001b[2m \u001b[0m│\n",
       "│\u001b[2m \u001b[0m\u001b[2mclosely mirrors real economic scenarios. Additionally, there is a call for bridging theoretical concepts with  \u001b[0m\u001b[2m \u001b[0m│\n",
       "│\u001b[2m \u001b[0m\u001b[2mpractical applications, as well as incorporating current events into the coursework, each receiving five and   \u001b[0m\u001b[2m \u001b[0m│\n",
       "│\u001b[2m \u001b[0m\u001b[2mfour evaluations, respectively. While the diversity in assessments and enhanced learning aids like visuals and \u001b[0m\u001b[2m \u001b[0m│\n",
       "│\u001b[2m \u001b[0m\u001b[2mguest lectures were acknowledged, they were less frequently mentioned, indicating these areas might be         \u001b[0m\u001b[2m \u001b[0m│\n",
       "│\u001b[2m \u001b[0m\u001b[2msatisfactory but could benefit from further attention. Overall, the feedback suggests a need for a more applied\u001b[0m\u001b[2m \u001b[0m│\n",
       "│\u001b[2m \u001b[0m\u001b[2mlearning experience that accommodates various learning styles and better connects with the dynamic nature of   \u001b[0m\u001b[2m \u001b[0m│\n",
       "│\u001b[2m \u001b[0m\u001b[2meconomics.                                                                                                     \u001b[0m\u001b[2m \u001b[0m│\n",
       "└─────────────────────────────────────────────────────────────────────────────────────────────────────────────────┘\n"
      ]
     },
     "metadata": {},
     "output_type": "display_data"
    }
   ],
   "source": [
    "from edsl.questions import QuestionFreeText\n",
    "\n",
    "q_summary = QuestionFreeText(\n",
    "    question_name = \"summary\",\n",
    "    question_text = \"Consider the following analyses of the evaluations and draft a paragraph summarizing them.\" +\n",
    "    \"Evaluation counts by theme: \" + df_themes.to_string() +\n",
    "    \"Evaluation counts by area of improvement:\" + df_improvements.to_string()\n",
    ")\n",
    "\n",
    "summary = q_summary.by(agent).run()\n",
    "summary.select(\"summary\").print(format=\"rich\")"
   ]
  },
  {
   "cell_type": "markdown",
   "id": "f73ef4c2-8cff-4d4a-a081-77f12e3ca60f",
   "metadata": {},
   "source": [
    "## Other examples\n",
    "Please check out the [EDSL Docs](https://docs.expectedparrot.com/en/latest/index.html) for examples of other methods and templates for use cases, and [join our Discord channel](https://discord.com/invite/mxAYkjfy9m) to ask questions and with other users!"
   ]
  }
 ],
 "metadata": {
  "kernelspec": {
   "display_name": "Python 3 (ipykernel)",
   "language": "python",
   "name": "python3"
  },
  "language_info": {
   "codemirror_mode": {
    "name": "ipython",
    "version": 3
   },
   "file_extension": ".py",
   "mimetype": "text/x-python",
   "name": "python",
   "nbconvert_exporter": "python",
   "pygments_lexer": "ipython3",
   "version": "3.11.7"
  }
 },
 "nbformat": 4,
 "nbformat_minor": 5
}
