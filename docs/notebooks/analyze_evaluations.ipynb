{
 "cells": [
  {
   "cell_type": "markdown",
   "id": "5f7d91f1-d71a-4271-8d2b-0dc770d2deb3",
   "metadata": {},
   "source": [
    "# Analyzing course evaluations\n",
    "This notebook provides sample EDSL code for using a language model to analyze a set of course evaluations. The analysis is designed as a series of questions about the evaluations that we prompt an AI agent to answer, using a language model to generate the responses as a dataset.\n",
    "\n",
    "[EDSL](https://pypi.org/project/edsl/) is an open-source Python package for simulating surveys and experiments with language models. Please [see our docs](https://docs.expectedparrot.com/en/latest/index.html#) to learn more about using it."
   ]
  },
  {
   "cell_type": "markdown",
   "id": "55d3eab2-f341-468e-b23f-ff4818227d11",
   "metadata": {},
   "source": [
    "## Technical setup\n",
    "Before running the code below, please see instructions for [installing EDSL](https://docs.expectedparrot.com/en/latest/installation.html) and [storing API keys](https://docs.expectedparrot.com/en/latest/api_keys.html) for the language models that you want to use."
   ]
  },
  {
   "cell_type": "code",
   "execution_count": 1,
   "id": "1656f8dc-802e-4fce-9eba-fcb4be0a5ea6",
   "metadata": {},
   "outputs": [],
   "source": [
    "# pip install edsl"
   ]
  },
  {
   "cell_type": "markdown",
   "id": "1e598a51-452b-4e58-9900-52f3f8701e0b",
   "metadata": {},
   "source": [
    "## Creating questions\n",
    "We start by creating questions about the evaluations for the agent to answer. EDSL comes with a [variety of question types](https://docs.expectedparrot.com/en/latest/questions.html) (multiple choice, free text, etc.) that we can choose from based on the desired format of the response. We can use a `{{ placeholder }}` in each question in order to parameterize it with each evaluation."
   ]
  },
  {
   "cell_type": "code",
   "execution_count": 2,
   "id": "adb62f9a-55c9-41bf-8d5a-9230de19e85b",
   "metadata": {},
   "outputs": [],
   "source": [
    "from edsl.questions import QuestionList, QuestionMultipleChoice"
   ]
  },
  {
   "cell_type": "code",
   "execution_count": 3,
   "id": "62069678-8864-4a9c-b505-0d107838549e",
   "metadata": {},
   "outputs": [],
   "source": [
    "q_themes = QuestionList(\n",
    "    question_name = \"themes\",\n",
    "    question_text = \"\"\"Consider the following evaluation, and then provide a sentence summarizing\n",
    "    each of the key points in it: {{ evaluation }}\"\"\",\n",
    "    max_list_items = 3\n",
    ")\n",
    "\n",
    "q_sentiment = QuestionMultipleChoice(\n",
    "    question_name = \"sentiment\",\n",
    "    question_text = \"What is the overall sentiment of the following evaluation: {{ evaluation }}\",\n",
    "    question_options = [\"Positive\", \"Neutral\", \"Negative\"]\n",
    ")\n",
    "\n",
    "q_improvement = QuestionList(\n",
    "    question_name = \"improvement\",\n",
    "    question_text = \"\"\"Based on the following evaluation, what are some ways you could improve \n",
    "    your course to receive more positive evaluations: {{ evaluation }}\"\"\"\n",
    ")"
   ]
  },
  {
   "cell_type": "markdown",
   "id": "d09e20f5-284b-4be4-827c-155916aa454c",
   "metadata": {},
   "source": [
    "## Construct a survey\n",
    "Next we combine our questions into a survey. This allows us to administer them asynchronously (by default), or according to any desired [survey logic or rules](https://docs.expectedparrot.com/en/latest/surveys.html), such as skip/stop rules or giving the agent \"memories\" of other questions in the survey. Here we create a simple asynchronous survey by passing the list of questions:"
   ]
  },
  {
   "cell_type": "code",
   "execution_count": 4,
   "id": "563a34b8-5a2f-4052-b977-7d6df824d723",
   "metadata": {},
   "outputs": [],
   "source": [
    "from edsl import Survey\n",
    "\n",
    "survey = Survey([q_themes, q_sentiment, q_improvement])"
   ]
  },
  {
   "cell_type": "markdown",
   "id": "cf8b238d-8771-4477-bab9-0c49fe6c9f4b",
   "metadata": {},
   "source": [
    "## Selecting data for review\n",
    "Next we identify the data to be analyzed. Here we use some mock evaluations for an Econ 101 course stored as a list of texts:"
   ]
  },
  {
   "cell_type": "code",
   "execution_count": 5,
   "id": "a1deaee8-4a95-4708-adcf-754032571652",
   "metadata": {},
   "outputs": [],
   "source": [
    "evaluations = [\n",
    "    \"The professor explained economic principles clearly and made the subject accessible. The course was well-structured, aligning textbook readings with practical exercises. However, the lectures sometimes felt a bit rushed. Office hours were extremely helpful, especially before exams. Overall, this was a very informative course.\",\n",
    "    \"I appreciated the real-world applications included in the course, which made complex theories relatable. The class discussions were insightful but could be better if more structured. The workload was reasonable, though the project deadlines were tight. Feedback on assignments was constructive and timely. I'd recommend this course to those interested in understanding economics fundamentals.\",\n",
    "    \"The course was challenging, particularly the sections on microeconomics. The professor was knowledgeable but sometimes skipped over foundational concepts too quickly. Visual aids used in lectures enhanced learning, though more interactive components would be beneficial. Exams were fair but demanding. Overall, it was a rigorous introduction to economics.\",\n",
    "    \"This Econ 101 course was engaging, thanks to the professor's enthusiasm and clear explanations. Group projects facilitated a deeper understanding of the material, although coordinating times was sometimes difficult. The course materials were comprehensive and well-organized. I found the textbook particularly useful. This class solidified my interest in further economic studies.\",\n",
    "    \"The course effectively covered a broad range of economic theories and models. However, the pace was sometimes too fast, making it hard to absorb all the information. The use of current events helped illustrate how economic principles apply in real life. I wish there were more opportunities for revising core concepts before exams. The professor was approachable and knowledgeable.\",\n",
    "    \"The professor used a variety of teaching methods, which catered to different learning styles. The PowerPoint presentations were detailed and useful for revising. However, the reliance on multiple-choice questions for assessments didn't fully test our understanding of the material. Class participation was encouraged, which made the course interactive. More case studies could improve the learning experience.\",\n",
    "    \"As a beginner to economics, I found the course to be a solid foundation. The mathematical aspects were well explained, but the economic theories could be abstract and challenging. The assignments were helpful for reinforcing the lectures. Feedback was sometimes slow but always helpful. This course demands attention and study but is very rewarding.\",\n",
    "    \"This was a well-taught course with a clear emphasis on practical applications of economics. The examples used in class were current and relevant, which kept the content interesting. The exams were comprehensive and a good measure of our understanding. However, the reading material was extensive and sometimes overwhelming. More supplemental resources would be helpful.\",\n",
    "    \"The professor was passionate about economics, which made the class more engaging. The lectures were packed with information, and the examples provided were relevant. The grading was strict but fair, and it pushed us to work harder. The final project was a great way to apply what we learned in a practical scenario. I would recommend this course for anyone looking to start a career in economics.\",\n",
    "    \"This Econ 101 course was informative and well-paced. The professor was always prepared and encouraged questions, making the material accessible. However, the lecture hall was often overcrowded, which made it hard to interact during class. The tests required a deep understanding of the material, which was good for learning. More visual aids and examples during lectures would make this course perfect.\",\n",
    "]"
   ]
  },
  {
   "cell_type": "markdown",
   "id": "d9e3b6a6-af89-428e-82ad-829374cc4d5d",
   "metadata": {},
   "source": [
    "## Add the data to the questions\n",
    "Next we add the data as \"scenarios\" of the questions in order to run each question for each evaluation:"
   ]
  },
  {
   "cell_type": "code",
   "execution_count": 6,
   "id": "e4145046-278b-4c21-884f-6379108cb6d5",
   "metadata": {},
   "outputs": [],
   "source": [
    "from edsl import Scenario\n",
    "\n",
    "scenarios = [Scenario({\"evaluation\":e}) for e in evaluations]"
   ]
  },
  {
   "cell_type": "markdown",
   "id": "66effed9-37e5-42c1-8853-65e036ffc127",
   "metadata": {},
   "source": [
    "## Design AI agents to answer the questions\n",
    "Next we can design agents with relevant traits and personas to answer the questions. Here we create a persona for the professor for the course. (We could also try some third parties with coaching or other expertise for comparison!)"
   ]
  },
  {
   "cell_type": "code",
   "execution_count": 7,
   "id": "dbc8f766-ce89-4824-8f23-18064ae2a732",
   "metadata": {},
   "outputs": [],
   "source": [
    "from edsl import Agent\n",
    "\n",
    "persona = \"You are a professor reviewing student evaluations for your recent Econ 101 course.\"\n",
    "\n",
    "agent = Agent(traits = {\"persona\": persona})"
   ]
  },
  {
   "cell_type": "markdown",
   "id": "2dab396d-c2fe-4827-8edd-24e9c807fe82",
   "metadata": {},
   "source": [
    "## Run the survey\n",
    "To generate responses, we add the scenarios and agent to the survey, and then run it:"
   ]
  },
  {
   "cell_type": "code",
   "execution_count": 8,
   "id": "98980a22-aafd-40f3-b9c0-c2e3de35e320",
   "metadata": {},
   "outputs": [],
   "source": [
    "results = survey.by(scenarios).by(agent).run()"
   ]
  },
  {
   "cell_type": "markdown",
   "id": "5be23620-804f-4543-85c4-13d0ab9071b2",
   "metadata": {},
   "source": [
    "## Inspecting the responses\n",
    "EDSL comes with built-in methods for analyzing results in data tables, dataframes, SQL queries and other formats. We can print a list of all the components that can be accessed:"
   ]
  },
  {
   "cell_type": "code",
   "execution_count": 9,
   "id": "0b06995d-fe20-4021-80ee-ca5f62111fa1",
   "metadata": {},
   "outputs": [
    {
     "data": {
      "text/plain": [
       "['agent.agent_name',\n",
       " 'agent.persona',\n",
       " 'answer.improvement',\n",
       " 'answer.sentiment',\n",
       " 'answer.themes',\n",
       " 'comment.improvement_comment',\n",
       " 'comment.sentiment_comment',\n",
       " 'comment.themes_comment',\n",
       " 'iteration.iteration',\n",
       " 'model.frequency_penalty',\n",
       " 'model.logprobs',\n",
       " 'model.max_tokens',\n",
       " 'model.model',\n",
       " 'model.presence_penalty',\n",
       " 'model.temperature',\n",
       " 'model.top_logprobs',\n",
       " 'model.top_p',\n",
       " 'prompt.improvement_system_prompt',\n",
       " 'prompt.improvement_user_prompt',\n",
       " 'prompt.sentiment_system_prompt',\n",
       " 'prompt.sentiment_user_prompt',\n",
       " 'prompt.themes_system_prompt',\n",
       " 'prompt.themes_user_prompt',\n",
       " 'question_options.improvement_question_options',\n",
       " 'question_options.sentiment_question_options',\n",
       " 'question_options.themes_question_options',\n",
       " 'question_text.improvement_question_text',\n",
       " 'question_text.sentiment_question_text',\n",
       " 'question_text.themes_question_text',\n",
       " 'question_type.improvement_question_type',\n",
       " 'question_type.sentiment_question_type',\n",
       " 'question_type.themes_question_type',\n",
       " 'raw_model_response.improvement_raw_model_response',\n",
       " 'raw_model_response.sentiment_raw_model_response',\n",
       " 'raw_model_response.themes_raw_model_response',\n",
       " 'scenario.evaluation']"
      ]
     },
     "execution_count": 9,
     "metadata": {},
     "output_type": "execute_result"
    }
   ],
   "source": [
    "results.columns"
   ]
  },
  {
   "cell_type": "markdown",
   "id": "72755341-f2fb-4b93-8467-3a0f57d429c3",
   "metadata": {},
   "source": [
    "Here we select just the responses to the questions and display them in a table:"
   ]
  },
  {
   "cell_type": "code",
   "execution_count": 10,
   "id": "8b105f11-0cb0-45af-a7e7-f77c6d5becd1",
   "metadata": {},
   "outputs": [
    {
     "data": {
      "text/html": [
       "<pre style=\"white-space:pre;overflow-x:auto;line-height:normal;font-family:Menlo,'DejaVu Sans Mono',consolas,'Courier New',monospace\">┏━━━━━━━━━━━━━━━━━━━━━━━━━━━━━━━━━━━━━━━━━━━━━━━━━┳━━━━━━━━━━━━┳━━━━━━━━━━━━━━━━━━━━━━━━━━━━━━━━━━━━━━━━━━━━━━━━━━┓\n",
       "┃<span style=\"color: #800080; text-decoration-color: #800080; font-weight: bold\"> answer                                          </span>┃<span style=\"color: #800080; text-decoration-color: #800080; font-weight: bold\"> answer     </span>┃<span style=\"color: #800080; text-decoration-color: #800080; font-weight: bold\"> answer                                           </span>┃\n",
       "┃<span style=\"color: #800080; text-decoration-color: #800080; font-weight: bold\"> .themes                                         </span>┃<span style=\"color: #800080; text-decoration-color: #800080; font-weight: bold\"> .sentiment </span>┃<span style=\"color: #800080; text-decoration-color: #800080; font-weight: bold\"> .improvement                                     </span>┃\n",
       "┡━━━━━━━━━━━━━━━━━━━━━━━━━━━━━━━━━━━━━━━━━━━━━━━━━╇━━━━━━━━━━━━╇━━━━━━━━━━━━━━━━━━━━━━━━━━━━━━━━━━━━━━━━━━━━━━━━━━┩\n",
       "│<span style=\"color: #7f7f7f; text-decoration-color: #7f7f7f\"> ['Clear explanation of principles',             </span>│<span style=\"color: #7f7f7f; text-decoration-color: #7f7f7f\"> Positive   </span>│<span style=\"color: #7f7f7f; text-decoration-color: #7f7f7f\"> ['Pace lectures better', 'Allow more time for    </span>│\n",
       "│<span style=\"color: #7f7f7f; text-decoration-color: #7f7f7f\"> 'Well-structured course', 'Rushed lectures']    </span>│<span style=\"color: #7f7f7f; text-decoration-color: #7f7f7f\">            </span>│<span style=\"color: #7f7f7f; text-decoration-color: #7f7f7f\"> complex topics', 'Include more interactive       </span>│\n",
       "│<span style=\"color: #7f7f7f; text-decoration-color: #7f7f7f\">                                                 </span>│<span style=\"color: #7f7f7f; text-decoration-color: #7f7f7f\">            </span>│<span style=\"color: #7f7f7f; text-decoration-color: #7f7f7f\"> elements during lectures', 'Provide additional   </span>│\n",
       "│<span style=\"color: #7f7f7f; text-decoration-color: #7f7f7f\">                                                 </span>│<span style=\"color: #7f7f7f; text-decoration-color: #7f7f7f\">            </span>│<span style=\"color: #7f7f7f; text-decoration-color: #7f7f7f\"> review sessions before exams']                   </span>│\n",
       "├─────────────────────────────────────────────────┼────────────┼──────────────────────────────────────────────────┤\n",
       "│<span style=\"color: #7f7f7f; text-decoration-color: #7f7f7f\"> ['real-world applications appreciated', 'desire </span>│<span style=\"color: #7f7f7f; text-decoration-color: #7f7f7f\"> Positive   </span>│<span style=\"color: #7f7f7f; text-decoration-color: #7f7f7f\"> ['More structured class discussions', 'Adjust    </span>│\n",
       "│<span style=\"color: #7f7f7f; text-decoration-color: #7f7f7f\"> for more structured discussions', 'constructive </span>│<span style=\"color: #7f7f7f; text-decoration-color: #7f7f7f\">            </span>│<span style=\"color: #7f7f7f; text-decoration-color: #7f7f7f\"> project deadlines']                              </span>│\n",
       "│<span style=\"color: #7f7f7f; text-decoration-color: #7f7f7f\"> and timely feedback']                           </span>│<span style=\"color: #7f7f7f; text-decoration-color: #7f7f7f\">            </span>│<span style=\"color: #7f7f7f; text-decoration-color: #7f7f7f\">                                                  </span>│\n",
       "├─────────────────────────────────────────────────┼────────────┼──────────────────────────────────────────────────┤\n",
       "│<span style=\"color: #7f7f7f; text-decoration-color: #7f7f7f\"> ['Challenging microeconomics', 'Knowledgeable,  </span>│<span style=\"color: #7f7f7f; text-decoration-color: #7f7f7f\"> Positive   </span>│<span style=\"color: #7f7f7f; text-decoration-color: #7f7f7f\"> ['Slow down', 'Review foundational concepts',    </span>│\n",
       "│<span style=\"color: #7f7f7f; text-decoration-color: #7f7f7f\"> fast-paced teaching', 'Visual aids helpful,     </span>│<span style=\"color: #7f7f7f; text-decoration-color: #7f7f7f\">            </span>│<span style=\"color: #7f7f7f; text-decoration-color: #7f7f7f\"> 'Increase interactivity', 'Maintain visual       </span>│\n",
       "│<span style=\"color: #7f7f7f; text-decoration-color: #7f7f7f\"> interactive elements needed']                   </span>│<span style=\"color: #7f7f7f; text-decoration-color: #7f7f7f\">            </span>│<span style=\"color: #7f7f7f; text-decoration-color: #7f7f7f\"> aids', 'Consider exam difficulty']               </span>│\n",
       "├─────────────────────────────────────────────────┼────────────┼──────────────────────────────────────────────────┤\n",
       "│<span style=\"color: #7f7f7f; text-decoration-color: #7f7f7f\"> ['Engaging and clear instruction', 'Group       </span>│<span style=\"color: #7f7f7f; text-decoration-color: #7f7f7f\"> Positive   </span>│<span style=\"color: #7f7f7f; text-decoration-color: #7f7f7f\"> ['Scheduling tools', 'Doodle polls', 'Group      </span>│\n",
       "│<span style=\"color: #7f7f7f; text-decoration-color: #7f7f7f\"> projects deepened understanding, with some      </span>│<span style=\"color: #7f7f7f; text-decoration-color: #7f7f7f\">            </span>│<span style=\"color: #7f7f7f; text-decoration-color: #7f7f7f\"> project guidelines', 'Time management            </span>│\n",
       "│<span style=\"color: #7f7f7f; text-decoration-color: #7f7f7f\"> coordination challenges', 'Comprehensive and    </span>│<span style=\"color: #7f7f7f; text-decoration-color: #7f7f7f\">            </span>│<span style=\"color: #7f7f7f; text-decoration-color: #7f7f7f\"> strategies']                                     </span>│\n",
       "│<span style=\"color: #7f7f7f; text-decoration-color: #7f7f7f\"> well-organized materials']                      </span>│<span style=\"color: #7f7f7f; text-decoration-color: #7f7f7f\">            </span>│<span style=\"color: #7f7f7f; text-decoration-color: #7f7f7f\">                                                  </span>│\n",
       "├─────────────────────────────────────────────────┼────────────┼──────────────────────────────────────────────────┤\n",
       "│<span style=\"color: #7f7f7f; text-decoration-color: #7f7f7f\"> ['Comprehensive coverage', 'Fast pace',         </span>│<span style=\"color: #7f7f7f; text-decoration-color: #7f7f7f\"> Positive   </span>│<span style=\"color: #7f7f7f; text-decoration-color: #7f7f7f\"> ['Adjust pacing', 'Review sessions',             </span>│\n",
       "│<span style=\"color: #7f7f7f; text-decoration-color: #7f7f7f\"> 'Real-life application']                        </span>│<span style=\"color: #7f7f7f; text-decoration-color: #7f7f7f\">            </span>│<span style=\"color: #7f7f7f; text-decoration-color: #7f7f7f\"> 'Supplemental materials', 'Interactive learning  </span>│\n",
       "│<span style=\"color: #7f7f7f; text-decoration-color: #7f7f7f\">                                                 </span>│<span style=\"color: #7f7f7f; text-decoration-color: #7f7f7f\">            </span>│<span style=\"color: #7f7f7f; text-decoration-color: #7f7f7f\"> activities']                                     </span>│\n",
       "├─────────────────────────────────────────────────┼────────────┼──────────────────────────────────────────────────┤\n",
       "│<span style=\"color: #7f7f7f; text-decoration-color: #7f7f7f\"> ['Diverse teaching methods', 'Effective         </span>│<span style=\"color: #7f7f7f; text-decoration-color: #7f7f7f\"> Neutral    </span>│<span style=\"color: #7f7f7f; text-decoration-color: #7f7f7f\"> ['Diversify assessments', 'Incorporate case      </span>│\n",
       "│<span style=\"color: #7f7f7f; text-decoration-color: #7f7f7f\"> PowerPoint presentations', 'Interactive class   </span>│<span style=\"color: #7f7f7f; text-decoration-color: #7f7f7f\">            </span>│<span style=\"color: #7f7f7f; text-decoration-color: #7f7f7f\"> studies', 'Reduce reliance on multiple-choice    </span>│\n",
       "│<span style=\"color: #7f7f7f; text-decoration-color: #7f7f7f\"> participation']                                 </span>│<span style=\"color: #7f7f7f; text-decoration-color: #7f7f7f\">            </span>│<span style=\"color: #7f7f7f; text-decoration-color: #7f7f7f\"> questions', 'Include written assignments',       </span>│\n",
       "│<span style=\"color: #7f7f7f; text-decoration-color: #7f7f7f\">                                                 </span>│<span style=\"color: #7f7f7f; text-decoration-color: #7f7f7f\">            </span>│<span style=\"color: #7f7f7f; text-decoration-color: #7f7f7f\"> 'Implement project-based evaluations']           </span>│\n",
       "├─────────────────────────────────────────────────┼────────────┼──────────────────────────────────────────────────┤\n",
       "│<span style=\"color: #7f7f7f; text-decoration-color: #7f7f7f\"> ['solid foundation', 'abstract theories',       </span>│<span style=\"color: #7f7f7f; text-decoration-color: #7f7f7f\"> Positive   </span>│<span style=\"color: #7f7f7f; text-decoration-color: #7f7f7f\"> ['Clarify economic theories', 'Use practical     </span>│\n",
       "│<span style=\"color: #7f7f7f; text-decoration-color: #7f7f7f\"> 'rewarding but demanding']                      </span>│<span style=\"color: #7f7f7f; text-decoration-color: #7f7f7f\">            </span>│<span style=\"color: #7f7f7f; text-decoration-color: #7f7f7f\"> examples', 'Improve feedback timeliness']        </span>│\n",
       "├─────────────────────────────────────────────────┼────────────┼──────────────────────────────────────────────────┤\n",
       "│<span style=\"color: #7f7f7f; text-decoration-color: #7f7f7f\"> ['Clear practical emphasis', 'Relevant          </span>│<span style=\"color: #7f7f7f; text-decoration-color: #7f7f7f\"> Positive   </span>│<span style=\"color: #7f7f7f; text-decoration-color: #7f7f7f\"> ['Reduce reading load', 'Curate reading          </span>│\n",
       "│<span style=\"color: #7f7f7f; text-decoration-color: #7f7f7f\"> examples', 'Comprehensive exams']               </span>│<span style=\"color: #7f7f7f; text-decoration-color: #7f7f7f\">            </span>│<span style=\"color: #7f7f7f; text-decoration-color: #7f7f7f\"> material', 'Provide supplemental resources',     </span>│\n",
       "│<span style=\"color: #7f7f7f; text-decoration-color: #7f7f7f\">                                                 </span>│<span style=\"color: #7f7f7f; text-decoration-color: #7f7f7f\">            </span>│<span style=\"color: #7f7f7f; text-decoration-color: #7f7f7f\"> 'Offer optional reading lists']                  </span>│\n",
       "├─────────────────────────────────────────────────┼────────────┼──────────────────────────────────────────────────┤\n",
       "│<span style=\"color: #7f7f7f; text-decoration-color: #7f7f7f\"> ['Passionate teaching', 'Information-rich       </span>│<span style=\"color: #7f7f7f; text-decoration-color: #7f7f7f\"> Positive   </span>│<span style=\"color: #7f7f7f; text-decoration-color: #7f7f7f\"> ['Maintain passion and engagement', 'Continue    </span>│\n",
       "│<span style=\"color: #7f7f7f; text-decoration-color: #7f7f7f\"> lectures with relevant examples', 'Strict but   </span>│<span style=\"color: #7f7f7f; text-decoration-color: #7f7f7f\">            </span>│<span style=\"color: #7f7f7f; text-decoration-color: #7f7f7f\"> using relevant examples', 'Keep fair grading     </span>│\n",
       "│<span style=\"color: #7f7f7f; text-decoration-color: #7f7f7f\"> fair grading and practical final project']      </span>│<span style=\"color: #7f7f7f; text-decoration-color: #7f7f7f\">            </span>│<span style=\"color: #7f7f7f; text-decoration-color: #7f7f7f\"> standards', 'Retain final project practical      </span>│\n",
       "│<span style=\"color: #7f7f7f; text-decoration-color: #7f7f7f\">                                                 </span>│<span style=\"color: #7f7f7f; text-decoration-color: #7f7f7f\">            </span>│<span style=\"color: #7f7f7f; text-decoration-color: #7f7f7f\"> application']                                    </span>│\n",
       "├─────────────────────────────────────────────────┼────────────┼──────────────────────────────────────────────────┤\n",
       "│<span style=\"color: #7f7f7f; text-decoration-color: #7f7f7f\"> ['Informative and well-paced', 'Encouraged      </span>│<span style=\"color: #7f7f7f; text-decoration-color: #7f7f7f\"> Positive   </span>│<span style=\"color: #7f7f7f; text-decoration-color: #7f7f7f\"> ['reduce class size', 'increase interaction      </span>│\n",
       "│<span style=\"color: #7f7f7f; text-decoration-color: #7f7f7f\"> questions and accessibility', 'Overcrowded      </span>│<span style=\"color: #7f7f7f; text-decoration-color: #7f7f7f\">            </span>│<span style=\"color: #7f7f7f; text-decoration-color: #7f7f7f\"> opportunities', 'incorporate more visual aids',  </span>│\n",
       "│<span style=\"color: #7f7f7f; text-decoration-color: #7f7f7f\"> lecture hall']                                  </span>│<span style=\"color: #7f7f7f; text-decoration-color: #7f7f7f\">            </span>│<span style=\"color: #7f7f7f; text-decoration-color: #7f7f7f\"> 'use more real-life examples']                   </span>│\n",
       "└─────────────────────────────────────────────────┴────────────┴──────────────────────────────────────────────────┘\n",
       "</pre>\n"
      ],
      "text/plain": [
       "┏━━━━━━━━━━━━━━━━━━━━━━━━━━━━━━━━━━━━━━━━━━━━━━━━━┳━━━━━━━━━━━━┳━━━━━━━━━━━━━━━━━━━━━━━━━━━━━━━━━━━━━━━━━━━━━━━━━━┓\n",
       "┃\u001b[1;35m \u001b[0m\u001b[1;35manswer                                         \u001b[0m\u001b[1;35m \u001b[0m┃\u001b[1;35m \u001b[0m\u001b[1;35manswer    \u001b[0m\u001b[1;35m \u001b[0m┃\u001b[1;35m \u001b[0m\u001b[1;35manswer                                          \u001b[0m\u001b[1;35m \u001b[0m┃\n",
       "┃\u001b[1;35m \u001b[0m\u001b[1;35m.themes                                        \u001b[0m\u001b[1;35m \u001b[0m┃\u001b[1;35m \u001b[0m\u001b[1;35m.sentiment\u001b[0m\u001b[1;35m \u001b[0m┃\u001b[1;35m \u001b[0m\u001b[1;35m.improvement                                    \u001b[0m\u001b[1;35m \u001b[0m┃\n",
       "┡━━━━━━━━━━━━━━━━━━━━━━━━━━━━━━━━━━━━━━━━━━━━━━━━━╇━━━━━━━━━━━━╇━━━━━━━━━━━━━━━━━━━━━━━━━━━━━━━━━━━━━━━━━━━━━━━━━━┩\n",
       "│\u001b[2m \u001b[0m\u001b[2m['Clear explanation of principles',            \u001b[0m\u001b[2m \u001b[0m│\u001b[2m \u001b[0m\u001b[2mPositive  \u001b[0m\u001b[2m \u001b[0m│\u001b[2m \u001b[0m\u001b[2m['Pace lectures better', 'Allow more time for   \u001b[0m\u001b[2m \u001b[0m│\n",
       "│\u001b[2m \u001b[0m\u001b[2m'Well-structured course', 'Rushed lectures']   \u001b[0m\u001b[2m \u001b[0m│\u001b[2m            \u001b[0m│\u001b[2m \u001b[0m\u001b[2mcomplex topics', 'Include more interactive      \u001b[0m\u001b[2m \u001b[0m│\n",
       "│\u001b[2m                                                 \u001b[0m│\u001b[2m            \u001b[0m│\u001b[2m \u001b[0m\u001b[2melements during lectures', 'Provide additional  \u001b[0m\u001b[2m \u001b[0m│\n",
       "│\u001b[2m                                                 \u001b[0m│\u001b[2m            \u001b[0m│\u001b[2m \u001b[0m\u001b[2mreview sessions before exams']                  \u001b[0m\u001b[2m \u001b[0m│\n",
       "├─────────────────────────────────────────────────┼────────────┼──────────────────────────────────────────────────┤\n",
       "│\u001b[2m \u001b[0m\u001b[2m['real-world applications appreciated', 'desire\u001b[0m\u001b[2m \u001b[0m│\u001b[2m \u001b[0m\u001b[2mPositive  \u001b[0m\u001b[2m \u001b[0m│\u001b[2m \u001b[0m\u001b[2m['More structured class discussions', 'Adjust   \u001b[0m\u001b[2m \u001b[0m│\n",
       "│\u001b[2m \u001b[0m\u001b[2mfor more structured discussions', 'constructive\u001b[0m\u001b[2m \u001b[0m│\u001b[2m            \u001b[0m│\u001b[2m \u001b[0m\u001b[2mproject deadlines']                             \u001b[0m\u001b[2m \u001b[0m│\n",
       "│\u001b[2m \u001b[0m\u001b[2mand timely feedback']                          \u001b[0m\u001b[2m \u001b[0m│\u001b[2m            \u001b[0m│\u001b[2m                                                  \u001b[0m│\n",
       "├─────────────────────────────────────────────────┼────────────┼──────────────────────────────────────────────────┤\n",
       "│\u001b[2m \u001b[0m\u001b[2m['Challenging microeconomics', 'Knowledgeable, \u001b[0m\u001b[2m \u001b[0m│\u001b[2m \u001b[0m\u001b[2mPositive  \u001b[0m\u001b[2m \u001b[0m│\u001b[2m \u001b[0m\u001b[2m['Slow down', 'Review foundational concepts',   \u001b[0m\u001b[2m \u001b[0m│\n",
       "│\u001b[2m \u001b[0m\u001b[2mfast-paced teaching', 'Visual aids helpful,    \u001b[0m\u001b[2m \u001b[0m│\u001b[2m            \u001b[0m│\u001b[2m \u001b[0m\u001b[2m'Increase interactivity', 'Maintain visual      \u001b[0m\u001b[2m \u001b[0m│\n",
       "│\u001b[2m \u001b[0m\u001b[2minteractive elements needed']                  \u001b[0m\u001b[2m \u001b[0m│\u001b[2m            \u001b[0m│\u001b[2m \u001b[0m\u001b[2maids', 'Consider exam difficulty']              \u001b[0m\u001b[2m \u001b[0m│\n",
       "├─────────────────────────────────────────────────┼────────────┼──────────────────────────────────────────────────┤\n",
       "│\u001b[2m \u001b[0m\u001b[2m['Engaging and clear instruction', 'Group      \u001b[0m\u001b[2m \u001b[0m│\u001b[2m \u001b[0m\u001b[2mPositive  \u001b[0m\u001b[2m \u001b[0m│\u001b[2m \u001b[0m\u001b[2m['Scheduling tools', 'Doodle polls', 'Group     \u001b[0m\u001b[2m \u001b[0m│\n",
       "│\u001b[2m \u001b[0m\u001b[2mprojects deepened understanding, with some     \u001b[0m\u001b[2m \u001b[0m│\u001b[2m            \u001b[0m│\u001b[2m \u001b[0m\u001b[2mproject guidelines', 'Time management           \u001b[0m\u001b[2m \u001b[0m│\n",
       "│\u001b[2m \u001b[0m\u001b[2mcoordination challenges', 'Comprehensive and   \u001b[0m\u001b[2m \u001b[0m│\u001b[2m            \u001b[0m│\u001b[2m \u001b[0m\u001b[2mstrategies']                                    \u001b[0m\u001b[2m \u001b[0m│\n",
       "│\u001b[2m \u001b[0m\u001b[2mwell-organized materials']                     \u001b[0m\u001b[2m \u001b[0m│\u001b[2m            \u001b[0m│\u001b[2m                                                  \u001b[0m│\n",
       "├─────────────────────────────────────────────────┼────────────┼──────────────────────────────────────────────────┤\n",
       "│\u001b[2m \u001b[0m\u001b[2m['Comprehensive coverage', 'Fast pace',        \u001b[0m\u001b[2m \u001b[0m│\u001b[2m \u001b[0m\u001b[2mPositive  \u001b[0m\u001b[2m \u001b[0m│\u001b[2m \u001b[0m\u001b[2m['Adjust pacing', 'Review sessions',            \u001b[0m\u001b[2m \u001b[0m│\n",
       "│\u001b[2m \u001b[0m\u001b[2m'Real-life application']                       \u001b[0m\u001b[2m \u001b[0m│\u001b[2m            \u001b[0m│\u001b[2m \u001b[0m\u001b[2m'Supplemental materials', 'Interactive learning \u001b[0m\u001b[2m \u001b[0m│\n",
       "│\u001b[2m                                                 \u001b[0m│\u001b[2m            \u001b[0m│\u001b[2m \u001b[0m\u001b[2mactivities']                                    \u001b[0m\u001b[2m \u001b[0m│\n",
       "├─────────────────────────────────────────────────┼────────────┼──────────────────────────────────────────────────┤\n",
       "│\u001b[2m \u001b[0m\u001b[2m['Diverse teaching methods', 'Effective        \u001b[0m\u001b[2m \u001b[0m│\u001b[2m \u001b[0m\u001b[2mNeutral   \u001b[0m\u001b[2m \u001b[0m│\u001b[2m \u001b[0m\u001b[2m['Diversify assessments', 'Incorporate case     \u001b[0m\u001b[2m \u001b[0m│\n",
       "│\u001b[2m \u001b[0m\u001b[2mPowerPoint presentations', 'Interactive class  \u001b[0m\u001b[2m \u001b[0m│\u001b[2m            \u001b[0m│\u001b[2m \u001b[0m\u001b[2mstudies', 'Reduce reliance on multiple-choice   \u001b[0m\u001b[2m \u001b[0m│\n",
       "│\u001b[2m \u001b[0m\u001b[2mparticipation']                                \u001b[0m\u001b[2m \u001b[0m│\u001b[2m            \u001b[0m│\u001b[2m \u001b[0m\u001b[2mquestions', 'Include written assignments',      \u001b[0m\u001b[2m \u001b[0m│\n",
       "│\u001b[2m                                                 \u001b[0m│\u001b[2m            \u001b[0m│\u001b[2m \u001b[0m\u001b[2m'Implement project-based evaluations']          \u001b[0m\u001b[2m \u001b[0m│\n",
       "├─────────────────────────────────────────────────┼────────────┼──────────────────────────────────────────────────┤\n",
       "│\u001b[2m \u001b[0m\u001b[2m['solid foundation', 'abstract theories',      \u001b[0m\u001b[2m \u001b[0m│\u001b[2m \u001b[0m\u001b[2mPositive  \u001b[0m\u001b[2m \u001b[0m│\u001b[2m \u001b[0m\u001b[2m['Clarify economic theories', 'Use practical    \u001b[0m\u001b[2m \u001b[0m│\n",
       "│\u001b[2m \u001b[0m\u001b[2m'rewarding but demanding']                     \u001b[0m\u001b[2m \u001b[0m│\u001b[2m            \u001b[0m│\u001b[2m \u001b[0m\u001b[2mexamples', 'Improve feedback timeliness']       \u001b[0m\u001b[2m \u001b[0m│\n",
       "├─────────────────────────────────────────────────┼────────────┼──────────────────────────────────────────────────┤\n",
       "│\u001b[2m \u001b[0m\u001b[2m['Clear practical emphasis', 'Relevant         \u001b[0m\u001b[2m \u001b[0m│\u001b[2m \u001b[0m\u001b[2mPositive  \u001b[0m\u001b[2m \u001b[0m│\u001b[2m \u001b[0m\u001b[2m['Reduce reading load', 'Curate reading         \u001b[0m\u001b[2m \u001b[0m│\n",
       "│\u001b[2m \u001b[0m\u001b[2mexamples', 'Comprehensive exams']              \u001b[0m\u001b[2m \u001b[0m│\u001b[2m            \u001b[0m│\u001b[2m \u001b[0m\u001b[2mmaterial', 'Provide supplemental resources',    \u001b[0m\u001b[2m \u001b[0m│\n",
       "│\u001b[2m                                                 \u001b[0m│\u001b[2m            \u001b[0m│\u001b[2m \u001b[0m\u001b[2m'Offer optional reading lists']                 \u001b[0m\u001b[2m \u001b[0m│\n",
       "├─────────────────────────────────────────────────┼────────────┼──────────────────────────────────────────────────┤\n",
       "│\u001b[2m \u001b[0m\u001b[2m['Passionate teaching', 'Information-rich      \u001b[0m\u001b[2m \u001b[0m│\u001b[2m \u001b[0m\u001b[2mPositive  \u001b[0m\u001b[2m \u001b[0m│\u001b[2m \u001b[0m\u001b[2m['Maintain passion and engagement', 'Continue   \u001b[0m\u001b[2m \u001b[0m│\n",
       "│\u001b[2m \u001b[0m\u001b[2mlectures with relevant examples', 'Strict but  \u001b[0m\u001b[2m \u001b[0m│\u001b[2m            \u001b[0m│\u001b[2m \u001b[0m\u001b[2musing relevant examples', 'Keep fair grading    \u001b[0m\u001b[2m \u001b[0m│\n",
       "│\u001b[2m \u001b[0m\u001b[2mfair grading and practical final project']     \u001b[0m\u001b[2m \u001b[0m│\u001b[2m            \u001b[0m│\u001b[2m \u001b[0m\u001b[2mstandards', 'Retain final project practical     \u001b[0m\u001b[2m \u001b[0m│\n",
       "│\u001b[2m                                                 \u001b[0m│\u001b[2m            \u001b[0m│\u001b[2m \u001b[0m\u001b[2mapplication']                                   \u001b[0m\u001b[2m \u001b[0m│\n",
       "├─────────────────────────────────────────────────┼────────────┼──────────────────────────────────────────────────┤\n",
       "│\u001b[2m \u001b[0m\u001b[2m['Informative and well-paced', 'Encouraged     \u001b[0m\u001b[2m \u001b[0m│\u001b[2m \u001b[0m\u001b[2mPositive  \u001b[0m\u001b[2m \u001b[0m│\u001b[2m \u001b[0m\u001b[2m['reduce class size', 'increase interaction     \u001b[0m\u001b[2m \u001b[0m│\n",
       "│\u001b[2m \u001b[0m\u001b[2mquestions and accessibility', 'Overcrowded     \u001b[0m\u001b[2m \u001b[0m│\u001b[2m            \u001b[0m│\u001b[2m \u001b[0m\u001b[2mopportunities', 'incorporate more visual aids', \u001b[0m\u001b[2m \u001b[0m│\n",
       "│\u001b[2m \u001b[0m\u001b[2mlecture hall']                                 \u001b[0m\u001b[2m \u001b[0m│\u001b[2m            \u001b[0m│\u001b[2m \u001b[0m\u001b[2m'use more real-life examples']                  \u001b[0m\u001b[2m \u001b[0m│\n",
       "└─────────────────────────────────────────────────┴────────────┴──────────────────────────────────────────────────┘\n"
      ]
     },
     "metadata": {},
     "output_type": "display_data"
    }
   ],
   "source": [
    "results.select(\"themes\", \"sentiment\", \"improvement\").print(format=\"rich\")"
   ]
  },
  {
   "cell_type": "markdown",
   "id": "a9c6b091-42d6-4d62-b7f0-f91eef33c1fe",
   "metadata": {},
   "source": [
    "We could tally the sentiments:"
   ]
  },
  {
   "cell_type": "code",
   "execution_count": 11,
   "id": "9f9618fc-3250-4fbe-bddc-cd4cd5c624f7",
   "metadata": {},
   "outputs": [
    {
     "data": {
      "text/plain": [
       "answer.sentiment\n",
       "Positive    9\n",
       "Neutral     1\n",
       "Name: count, dtype: int64"
      ]
     },
     "execution_count": 11,
     "metadata": {},
     "output_type": "execute_result"
    }
   ],
   "source": [
    "df = results.to_pandas()['answer.sentiment'].value_counts()\n",
    "df"
   ]
  },
  {
   "cell_type": "markdown",
   "id": "bad98c73-b2e8-4b31-89a5-1a85056ba134",
   "metadata": {},
   "source": [
    "## Using responses as to construct new questions\n",
    "We can use the responses to our initial questions to construct new questions about the texts. For example, we could condense the individual lists of themes and improvements into short lists, and then use them to quantify themes and areas for improvement across the set of evaluations."
   ]
  },
  {
   "cell_type": "markdown",
   "id": "e3f96f5e-ba68-4660-b876-d3f34b396213",
   "metadata": {},
   "source": [
    "Here we take the lists of themes in each evaluation and flatten them into a list that we will prompt an agent to condense for us:"
   ]
  },
  {
   "cell_type": "code",
   "execution_count": 12,
   "id": "ee81ef77-a2a9-41cb-9472-29e4f8e6797b",
   "metadata": {},
   "outputs": [
    {
     "data": {
      "text/plain": [
       "['Clear explanation of principles',\n",
       " 'Well-structured course',\n",
       " 'Rushed lectures',\n",
       " 'real-world applications appreciated',\n",
       " 'desire for more structured discussions',\n",
       " 'constructive and timely feedback',\n",
       " 'Challenging microeconomics',\n",
       " 'Knowledgeable, fast-paced teaching',\n",
       " 'Visual aids helpful, interactive elements needed',\n",
       " 'Engaging and clear instruction',\n",
       " 'Group projects deepened understanding, with some coordination challenges',\n",
       " 'Comprehensive and well-organized materials',\n",
       " 'Comprehensive coverage',\n",
       " 'Fast pace',\n",
       " 'Real-life application',\n",
       " 'Diverse teaching methods',\n",
       " 'Effective PowerPoint presentations',\n",
       " 'Interactive class participation',\n",
       " 'solid foundation',\n",
       " 'abstract theories',\n",
       " 'rewarding but demanding',\n",
       " 'Clear practical emphasis',\n",
       " 'Relevant examples',\n",
       " 'Comprehensive exams',\n",
       " 'Passionate teaching',\n",
       " 'Information-rich lectures with relevant examples',\n",
       " 'Strict but fair grading and practical final project',\n",
       " 'Informative and well-paced',\n",
       " 'Encouraged questions and accessibility',\n",
       " 'Overcrowded lecture hall']"
      ]
     },
     "execution_count": 12,
     "metadata": {},
     "output_type": "execute_result"
    }
   ],
   "source": [
    "themes = results.select(\"themes\").to_list(flatten=True)\n",
    "themes"
   ]
  },
  {
   "cell_type": "markdown",
   "id": "6b1b042a-0c29-470d-9229-723e6f4a1e33",
   "metadata": {},
   "source": [
    "Next we construct the question prompting the agent to condense the list into a new list:"
   ]
  },
  {
   "cell_type": "code",
   "execution_count": 13,
   "id": "05871e01-eec9-4629-a108-cd9237eca283",
   "metadata": {},
   "outputs": [],
   "source": [
    "q_condensed_themes = QuestionList(\n",
    "    question_name = \"condensed_themes\",\n",
    "    question_text = \"\"\"Combine the following list of themes extracted from the evaluations \n",
    "    into a consolidated, non-redundant list: \"\"\" + \", \".join(themes),\n",
    "    max_list_items = 10\n",
    ")"
   ]
  },
  {
   "cell_type": "markdown",
   "id": "954a92a0-6a7d-43ad-bed5-35a092fba288",
   "metadata": {},
   "source": [
    "Now we run the question and select the new list:"
   ]
  },
  {
   "cell_type": "code",
   "execution_count": 14,
   "id": "f915d9e6-0310-432e-852e-48d63c6e07d8",
   "metadata": {},
   "outputs": [
    {
     "data": {
      "text/plain": [
       "['Well-structured and comprehensive course',\n",
       " 'Clear and engaging instruction with real-world applications',\n",
       " 'Fast-paced and information-rich lectures',\n",
       " 'Interactive and diverse teaching methods with visual aids',\n",
       " 'Constructive feedback with timely responses',\n",
       " 'Demanding curriculum with challenging content',\n",
       " 'Structured discussions and group projects with coordination emphasis',\n",
       " 'Knowledgeable and passionate teaching',\n",
       " 'Effective use of PowerPoint and practical emphasis',\n",
       " 'Facilities and resource management']"
      ]
     },
     "execution_count": 14,
     "metadata": {},
     "output_type": "execute_result"
    }
   ],
   "source": [
    "condensed_themes = q_condensed_themes.run().select(\"condensed_themes\").to_list()[0]\n",
    "condensed_themes"
   ]
  },
  {
   "cell_type": "markdown",
   "id": "5636a7f7-56ff-439d-9b5c-b867dff60480",
   "metadata": {},
   "source": [
    "Now we can create a new question prompting the agent identify all the themes in the list that appear in each evaluation (our new list becomes the list of answer options):"
   ]
  },
  {
   "cell_type": "code",
   "execution_count": 15,
   "id": "ff3f7830-6c55-4ee4-8434-374bcee47377",
   "metadata": {},
   "outputs": [],
   "source": [
    "from edsl.questions import QuestionCheckBox\n",
    "\n",
    "q_themes_list = QuestionCheckBox(\n",
    "    question_name = \"themes_list\",\n",
    "    question_text = \"Select all of the themes that are mentioned in this evaluation: {{ evaluation }}\",\n",
    "    question_options = condensed_themes\n",
    ")"
   ]
  },
  {
   "cell_type": "markdown",
   "id": "3d8e69f7-d9cb-4170-a8b2-d08a857a9441",
   "metadata": {},
   "source": [
    "Here we run the question and show a table listing all the themes for each evaluation:"
   ]
  },
  {
   "cell_type": "code",
   "execution_count": 16,
   "id": "4e8ee9f3-8dda-4047-8850-80dbeb3ce4f0",
   "metadata": {},
   "outputs": [
    {
     "data": {
      "text/html": [
       "<pre style=\"white-space:pre;overflow-x:auto;line-height:normal;font-family:Menlo,'DejaVu Sans Mono',consolas,'Courier New',monospace\">┏━━━━━━━━━━━━━━━━━━━━━━━━━━━━━━━━━━━━━━━━━━━━━━━━━━━━━━━━┳━━━━━━━━━━━━━━━━━━━━━━━━━━━━━━━━━━━━━━━━━━━━━━━━━━━━━━━━┓\n",
       "┃<span style=\"color: #800080; text-decoration-color: #800080; font-weight: bold\"> scenario                                               </span>┃<span style=\"color: #800080; text-decoration-color: #800080; font-weight: bold\"> answer                                                 </span>┃\n",
       "┃<span style=\"color: #800080; text-decoration-color: #800080; font-weight: bold\"> .evaluation                                            </span>┃<span style=\"color: #800080; text-decoration-color: #800080; font-weight: bold\"> .themes_list                                           </span>┃\n",
       "┡━━━━━━━━━━━━━━━━━━━━━━━━━━━━━━━━━━━━━━━━━━━━━━━━━━━━━━━━╇━━━━━━━━━━━━━━━━━━━━━━━━━━━━━━━━━━━━━━━━━━━━━━━━━━━━━━━━┩\n",
       "│<span style=\"color: #7f7f7f; text-decoration-color: #7f7f7f\"> The professor explained economic principles clearly    </span>│<span style=\"color: #7f7f7f; text-decoration-color: #7f7f7f\"> ['Well-structured and comprehensive course', 'Clear    </span>│\n",
       "│<span style=\"color: #7f7f7f; text-decoration-color: #7f7f7f\"> and made the subject accessible. The course was        </span>│<span style=\"color: #7f7f7f; text-decoration-color: #7f7f7f\"> and engaging instruction with real-world               </span>│\n",
       "│<span style=\"color: #7f7f7f; text-decoration-color: #7f7f7f\"> well-structured, aligning textbook readings with       </span>│<span style=\"color: #7f7f7f; text-decoration-color: #7f7f7f\"> applications', 'Fast-paced and information-rich        </span>│\n",
       "│<span style=\"color: #7f7f7f; text-decoration-color: #7f7f7f\"> practical exercises. However, the lectures sometimes   </span>│<span style=\"color: #7f7f7f; text-decoration-color: #7f7f7f\"> lectures', 'Knowledgeable and passionate teaching']    </span>│\n",
       "│<span style=\"color: #7f7f7f; text-decoration-color: #7f7f7f\"> felt a bit rushed. Office hours were extremely         </span>│<span style=\"color: #7f7f7f; text-decoration-color: #7f7f7f\">                                                        </span>│\n",
       "│<span style=\"color: #7f7f7f; text-decoration-color: #7f7f7f\"> helpful, especially before exams. Overall, this was a  </span>│<span style=\"color: #7f7f7f; text-decoration-color: #7f7f7f\">                                                        </span>│\n",
       "│<span style=\"color: #7f7f7f; text-decoration-color: #7f7f7f\"> very informative course.                               </span>│<span style=\"color: #7f7f7f; text-decoration-color: #7f7f7f\">                                                        </span>│\n",
       "├────────────────────────────────────────────────────────┼────────────────────────────────────────────────────────┤\n",
       "│<span style=\"color: #7f7f7f; text-decoration-color: #7f7f7f\"> I appreciated the real-world applications included in  </span>│<span style=\"color: #7f7f7f; text-decoration-color: #7f7f7f\"> ['Clear and engaging instruction with real-world       </span>│\n",
       "│<span style=\"color: #7f7f7f; text-decoration-color: #7f7f7f\"> the course, which made complex theories relatable. The </span>│<span style=\"color: #7f7f7f; text-decoration-color: #7f7f7f\"> applications', 'Constructive feedback with timely      </span>│\n",
       "│<span style=\"color: #7f7f7f; text-decoration-color: #7f7f7f\"> class discussions were insightful but could be better  </span>│<span style=\"color: #7f7f7f; text-decoration-color: #7f7f7f\"> responses']                                            </span>│\n",
       "│<span style=\"color: #7f7f7f; text-decoration-color: #7f7f7f\"> if more structured. The workload was reasonable,       </span>│<span style=\"color: #7f7f7f; text-decoration-color: #7f7f7f\">                                                        </span>│\n",
       "│<span style=\"color: #7f7f7f; text-decoration-color: #7f7f7f\"> though the project deadlines were tight. Feedback on   </span>│<span style=\"color: #7f7f7f; text-decoration-color: #7f7f7f\">                                                        </span>│\n",
       "│<span style=\"color: #7f7f7f; text-decoration-color: #7f7f7f\"> assignments was constructive and timely. I'd recommend </span>│<span style=\"color: #7f7f7f; text-decoration-color: #7f7f7f\">                                                        </span>│\n",
       "│<span style=\"color: #7f7f7f; text-decoration-color: #7f7f7f\"> this course to those interested in understanding       </span>│<span style=\"color: #7f7f7f; text-decoration-color: #7f7f7f\">                                                        </span>│\n",
       "│<span style=\"color: #7f7f7f; text-decoration-color: #7f7f7f\"> economics fundamentals.                                </span>│<span style=\"color: #7f7f7f; text-decoration-color: #7f7f7f\">                                                        </span>│\n",
       "├────────────────────────────────────────────────────────┼────────────────────────────────────────────────────────┤\n",
       "│<span style=\"color: #7f7f7f; text-decoration-color: #7f7f7f\"> The course was challenging, particularly the sections  </span>│<span style=\"color: #7f7f7f; text-decoration-color: #7f7f7f\"> ['Fast-paced and information-rich lectures',           </span>│\n",
       "│<span style=\"color: #7f7f7f; text-decoration-color: #7f7f7f\"> on microeconomics. The professor was knowledgeable but </span>│<span style=\"color: #7f7f7f; text-decoration-color: #7f7f7f\"> 'Interactive and diverse teaching methods with visual  </span>│\n",
       "│<span style=\"color: #7f7f7f; text-decoration-color: #7f7f7f\"> sometimes skipped over foundational concepts too       </span>│<span style=\"color: #7f7f7f; text-decoration-color: #7f7f7f\"> aids', 'Demanding curriculum with challenging          </span>│\n",
       "│<span style=\"color: #7f7f7f; text-decoration-color: #7f7f7f\"> quickly. Visual aids used in lectures enhanced         </span>│<span style=\"color: #7f7f7f; text-decoration-color: #7f7f7f\"> content', 'Knowledgeable and passionate teaching',     </span>│\n",
       "│<span style=\"color: #7f7f7f; text-decoration-color: #7f7f7f\"> learning, though more interactive components would be  </span>│<span style=\"color: #7f7f7f; text-decoration-color: #7f7f7f\"> 'Effective use of PowerPoint and practical emphasis']  </span>│\n",
       "│<span style=\"color: #7f7f7f; text-decoration-color: #7f7f7f\"> beneficial. Exams were fair but demanding. Overall, it </span>│<span style=\"color: #7f7f7f; text-decoration-color: #7f7f7f\">                                                        </span>│\n",
       "│<span style=\"color: #7f7f7f; text-decoration-color: #7f7f7f\"> was a rigorous introduction to economics.              </span>│<span style=\"color: #7f7f7f; text-decoration-color: #7f7f7f\">                                                        </span>│\n",
       "├────────────────────────────────────────────────────────┼────────────────────────────────────────────────────────┤\n",
       "│<span style=\"color: #7f7f7f; text-decoration-color: #7f7f7f\"> This Econ 101 course was engaging, thanks to the       </span>│<span style=\"color: #7f7f7f; text-decoration-color: #7f7f7f\"> ['Well-structured and comprehensive course', 'Clear    </span>│\n",
       "│<span style=\"color: #7f7f7f; text-decoration-color: #7f7f7f\"> professor's enthusiasm and clear explanations. Group   </span>│<span style=\"color: #7f7f7f; text-decoration-color: #7f7f7f\"> and engaging instruction with real-world               </span>│\n",
       "│<span style=\"color: #7f7f7f; text-decoration-color: #7f7f7f\"> projects facilitated a deeper understanding of the     </span>│<span style=\"color: #7f7f7f; text-decoration-color: #7f7f7f\"> applications', 'Structured discussions and group       </span>│\n",
       "│<span style=\"color: #7f7f7f; text-decoration-color: #7f7f7f\"> material, although coordinating times was sometimes    </span>│<span style=\"color: #7f7f7f; text-decoration-color: #7f7f7f\"> projects with coordination emphasis', 'Knowledgeable   </span>│\n",
       "│<span style=\"color: #7f7f7f; text-decoration-color: #7f7f7f\"> difficult. The course materials were comprehensive and </span>│<span style=\"color: #7f7f7f; text-decoration-color: #7f7f7f\"> and passionate teaching']                              </span>│\n",
       "│<span style=\"color: #7f7f7f; text-decoration-color: #7f7f7f\"> well-organized. I found the textbook particularly      </span>│<span style=\"color: #7f7f7f; text-decoration-color: #7f7f7f\">                                                        </span>│\n",
       "│<span style=\"color: #7f7f7f; text-decoration-color: #7f7f7f\"> useful. This class solidified my interest in further   </span>│<span style=\"color: #7f7f7f; text-decoration-color: #7f7f7f\">                                                        </span>│\n",
       "│<span style=\"color: #7f7f7f; text-decoration-color: #7f7f7f\"> economic studies.                                      </span>│<span style=\"color: #7f7f7f; text-decoration-color: #7f7f7f\">                                                        </span>│\n",
       "├────────────────────────────────────────────────────────┼────────────────────────────────────────────────────────┤\n",
       "│<span style=\"color: #7f7f7f; text-decoration-color: #7f7f7f\"> The course effectively covered a broad range of        </span>│<span style=\"color: #7f7f7f; text-decoration-color: #7f7f7f\"> ['Clear and engaging instruction with real-world       </span>│\n",
       "│<span style=\"color: #7f7f7f; text-decoration-color: #7f7f7f\"> economic theories and models. However, the pace was    </span>│<span style=\"color: #7f7f7f; text-decoration-color: #7f7f7f\"> applications', 'Fast-paced and information-rich        </span>│\n",
       "│<span style=\"color: #7f7f7f; text-decoration-color: #7f7f7f\"> sometimes too fast, making it hard to absorb all the   </span>│<span style=\"color: #7f7f7f; text-decoration-color: #7f7f7f\"> lectures', 'Demanding curriculum with challenging      </span>│\n",
       "│<span style=\"color: #7f7f7f; text-decoration-color: #7f7f7f\"> information. The use of current events helped          </span>│<span style=\"color: #7f7f7f; text-decoration-color: #7f7f7f\"> content', 'Knowledgeable and passionate teaching']     </span>│\n",
       "│<span style=\"color: #7f7f7f; text-decoration-color: #7f7f7f\"> illustrate how economic principles apply in real life. </span>│<span style=\"color: #7f7f7f; text-decoration-color: #7f7f7f\">                                                        </span>│\n",
       "│<span style=\"color: #7f7f7f; text-decoration-color: #7f7f7f\"> I wish there were more opportunities for revising core </span>│<span style=\"color: #7f7f7f; text-decoration-color: #7f7f7f\">                                                        </span>│\n",
       "│<span style=\"color: #7f7f7f; text-decoration-color: #7f7f7f\"> concepts before exams. The professor was approachable  </span>│<span style=\"color: #7f7f7f; text-decoration-color: #7f7f7f\">                                                        </span>│\n",
       "│<span style=\"color: #7f7f7f; text-decoration-color: #7f7f7f\"> and knowledgeable.                                     </span>│<span style=\"color: #7f7f7f; text-decoration-color: #7f7f7f\">                                                        </span>│\n",
       "├────────────────────────────────────────────────────────┼────────────────────────────────────────────────────────┤\n",
       "│<span style=\"color: #7f7f7f; text-decoration-color: #7f7f7f\"> The professor used a variety of teaching methods,      </span>│<span style=\"color: #7f7f7f; text-decoration-color: #7f7f7f\"> ['Interactive and diverse teaching methods with visual </span>│\n",
       "│<span style=\"color: #7f7f7f; text-decoration-color: #7f7f7f\"> which catered to different learning styles. The        </span>│<span style=\"color: #7f7f7f; text-decoration-color: #7f7f7f\"> aids', 'Effective use of PowerPoint and practical      </span>│\n",
       "│<span style=\"color: #7f7f7f; text-decoration-color: #7f7f7f\"> PowerPoint presentations were detailed and useful for  </span>│<span style=\"color: #7f7f7f; text-decoration-color: #7f7f7f\"> emphasis']                                             </span>│\n",
       "│<span style=\"color: #7f7f7f; text-decoration-color: #7f7f7f\"> revising. However, the reliance on multiple-choice     </span>│<span style=\"color: #7f7f7f; text-decoration-color: #7f7f7f\">                                                        </span>│\n",
       "│<span style=\"color: #7f7f7f; text-decoration-color: #7f7f7f\"> questions for assessments didn't fully test our        </span>│<span style=\"color: #7f7f7f; text-decoration-color: #7f7f7f\">                                                        </span>│\n",
       "│<span style=\"color: #7f7f7f; text-decoration-color: #7f7f7f\"> understanding of the material. Class participation was </span>│<span style=\"color: #7f7f7f; text-decoration-color: #7f7f7f\">                                                        </span>│\n",
       "│<span style=\"color: #7f7f7f; text-decoration-color: #7f7f7f\"> encouraged, which made the course interactive. More    </span>│<span style=\"color: #7f7f7f; text-decoration-color: #7f7f7f\">                                                        </span>│\n",
       "│<span style=\"color: #7f7f7f; text-decoration-color: #7f7f7f\"> case studies could improve the learning experience.    </span>│<span style=\"color: #7f7f7f; text-decoration-color: #7f7f7f\">                                                        </span>│\n",
       "├────────────────────────────────────────────────────────┼────────────────────────────────────────────────────────┤\n",
       "│<span style=\"color: #7f7f7f; text-decoration-color: #7f7f7f\"> As a beginner to economics, I found the course to be a </span>│<span style=\"color: #7f7f7f; text-decoration-color: #7f7f7f\"> ['Well-structured and comprehensive course',           </span>│\n",
       "│<span style=\"color: #7f7f7f; text-decoration-color: #7f7f7f\"> solid foundation. The mathematical aspects were well   </span>│<span style=\"color: #7f7f7f; text-decoration-color: #7f7f7f\"> 'Constructive feedback with timely responses',         </span>│\n",
       "│<span style=\"color: #7f7f7f; text-decoration-color: #7f7f7f\"> explained, but the economic theories could be abstract </span>│<span style=\"color: #7f7f7f; text-decoration-color: #7f7f7f\"> 'Demanding curriculum with challenging content']       </span>│\n",
       "│<span style=\"color: #7f7f7f; text-decoration-color: #7f7f7f\"> and challenging. The assignments were helpful for      </span>│<span style=\"color: #7f7f7f; text-decoration-color: #7f7f7f\">                                                        </span>│\n",
       "│<span style=\"color: #7f7f7f; text-decoration-color: #7f7f7f\"> reinforcing the lectures. Feedback was sometimes slow  </span>│<span style=\"color: #7f7f7f; text-decoration-color: #7f7f7f\">                                                        </span>│\n",
       "│<span style=\"color: #7f7f7f; text-decoration-color: #7f7f7f\"> but always helpful. This course demands attention and  </span>│<span style=\"color: #7f7f7f; text-decoration-color: #7f7f7f\">                                                        </span>│\n",
       "│<span style=\"color: #7f7f7f; text-decoration-color: #7f7f7f\"> study but is very rewarding.                           </span>│<span style=\"color: #7f7f7f; text-decoration-color: #7f7f7f\">                                                        </span>│\n",
       "├────────────────────────────────────────────────────────┼────────────────────────────────────────────────────────┤\n",
       "│<span style=\"color: #7f7f7f; text-decoration-color: #7f7f7f\"> This was a well-taught course with a clear emphasis on </span>│<span style=\"color: #7f7f7f; text-decoration-color: #7f7f7f\"> ['Well-structured and comprehensive course', 'Clear    </span>│\n",
       "│<span style=\"color: #7f7f7f; text-decoration-color: #7f7f7f\"> practical applications of economics. The examples used </span>│<span style=\"color: #7f7f7f; text-decoration-color: #7f7f7f\"> and engaging instruction with real-world               </span>│\n",
       "│<span style=\"color: #7f7f7f; text-decoration-color: #7f7f7f\"> in class were current and relevant, which kept the     </span>│<span style=\"color: #7f7f7f; text-decoration-color: #7f7f7f\"> applications', 'Demanding curriculum with challenging  </span>│\n",
       "│<span style=\"color: #7f7f7f; text-decoration-color: #7f7f7f\"> content interesting. The exams were comprehensive and  </span>│<span style=\"color: #7f7f7f; text-decoration-color: #7f7f7f\"> content']                                              </span>│\n",
       "│<span style=\"color: #7f7f7f; text-decoration-color: #7f7f7f\"> a good measure of our understanding. However, the      </span>│<span style=\"color: #7f7f7f; text-decoration-color: #7f7f7f\">                                                        </span>│\n",
       "│<span style=\"color: #7f7f7f; text-decoration-color: #7f7f7f\"> reading material was extensive and sometimes           </span>│<span style=\"color: #7f7f7f; text-decoration-color: #7f7f7f\">                                                        </span>│\n",
       "│<span style=\"color: #7f7f7f; text-decoration-color: #7f7f7f\"> overwhelming. More supplemental resources would be     </span>│<span style=\"color: #7f7f7f; text-decoration-color: #7f7f7f\">                                                        </span>│\n",
       "│<span style=\"color: #7f7f7f; text-decoration-color: #7f7f7f\"> helpful.                                               </span>│<span style=\"color: #7f7f7f; text-decoration-color: #7f7f7f\">                                                        </span>│\n",
       "├────────────────────────────────────────────────────────┼────────────────────────────────────────────────────────┤\n",
       "│<span style=\"color: #7f7f7f; text-decoration-color: #7f7f7f\"> The professor was passionate about economics, which    </span>│<span style=\"color: #7f7f7f; text-decoration-color: #7f7f7f\"> ['Well-structured and comprehensive course', 'Clear    </span>│\n",
       "│<span style=\"color: #7f7f7f; text-decoration-color: #7f7f7f\"> made the class more engaging. The lectures were packed </span>│<span style=\"color: #7f7f7f; text-decoration-color: #7f7f7f\"> and engaging instruction with real-world               </span>│\n",
       "│<span style=\"color: #7f7f7f; text-decoration-color: #7f7f7f\"> with information, and the examples provided were       </span>│<span style=\"color: #7f7f7f; text-decoration-color: #7f7f7f\"> applications', 'Fast-paced and information-rich        </span>│\n",
       "│<span style=\"color: #7f7f7f; text-decoration-color: #7f7f7f\"> relevant. The grading was strict but fair, and it      </span>│<span style=\"color: #7f7f7f; text-decoration-color: #7f7f7f\"> lectures', 'Demanding curriculum with challenging      </span>│\n",
       "│<span style=\"color: #7f7f7f; text-decoration-color: #7f7f7f\"> pushed us to work harder. The final project was a      </span>│<span style=\"color: #7f7f7f; text-decoration-color: #7f7f7f\"> content', 'Knowledgeable and passionate teaching']     </span>│\n",
       "│<span style=\"color: #7f7f7f; text-decoration-color: #7f7f7f\"> great way to apply what we learned in a practical      </span>│<span style=\"color: #7f7f7f; text-decoration-color: #7f7f7f\">                                                        </span>│\n",
       "│<span style=\"color: #7f7f7f; text-decoration-color: #7f7f7f\"> scenario. I would recommend this course for anyone     </span>│<span style=\"color: #7f7f7f; text-decoration-color: #7f7f7f\">                                                        </span>│\n",
       "│<span style=\"color: #7f7f7f; text-decoration-color: #7f7f7f\"> looking to start a career in economics.                </span>│<span style=\"color: #7f7f7f; text-decoration-color: #7f7f7f\">                                                        </span>│\n",
       "├────────────────────────────────────────────────────────┼────────────────────────────────────────────────────────┤\n",
       "│<span style=\"color: #7f7f7f; text-decoration-color: #7f7f7f\"> This Econ 101 course was informative and well-paced.   </span>│<span style=\"color: #7f7f7f; text-decoration-color: #7f7f7f\"> ['Well-structured and comprehensive course', 'Clear    </span>│\n",
       "│<span style=\"color: #7f7f7f; text-decoration-color: #7f7f7f\"> The professor was always prepared and encouraged       </span>│<span style=\"color: #7f7f7f; text-decoration-color: #7f7f7f\"> and engaging instruction with real-world               </span>│\n",
       "│<span style=\"color: #7f7f7f; text-decoration-color: #7f7f7f\"> questions, making the material accessible. However,    </span>│<span style=\"color: #7f7f7f; text-decoration-color: #7f7f7f\"> applications', 'Demanding curriculum with challenging  </span>│\n",
       "│<span style=\"color: #7f7f7f; text-decoration-color: #7f7f7f\"> the lecture hall was often overcrowded, which made it  </span>│<span style=\"color: #7f7f7f; text-decoration-color: #7f7f7f\"> content', 'Knowledgeable and passionate teaching',     </span>│\n",
       "│<span style=\"color: #7f7f7f; text-decoration-color: #7f7f7f\"> hard to interact during class. The tests required a    </span>│<span style=\"color: #7f7f7f; text-decoration-color: #7f7f7f\"> 'Facilities and resource management']                  </span>│\n",
       "│<span style=\"color: #7f7f7f; text-decoration-color: #7f7f7f\"> deep understanding of the material, which was good for </span>│<span style=\"color: #7f7f7f; text-decoration-color: #7f7f7f\">                                                        </span>│\n",
       "│<span style=\"color: #7f7f7f; text-decoration-color: #7f7f7f\"> learning. More visual aids and examples during         </span>│<span style=\"color: #7f7f7f; text-decoration-color: #7f7f7f\">                                                        </span>│\n",
       "│<span style=\"color: #7f7f7f; text-decoration-color: #7f7f7f\"> lectures would make this course perfect.               </span>│<span style=\"color: #7f7f7f; text-decoration-color: #7f7f7f\">                                                        </span>│\n",
       "└────────────────────────────────────────────────────────┴────────────────────────────────────────────────────────┘\n",
       "</pre>\n"
      ],
      "text/plain": [
       "┏━━━━━━━━━━━━━━━━━━━━━━━━━━━━━━━━━━━━━━━━━━━━━━━━━━━━━━━━┳━━━━━━━━━━━━━━━━━━━━━━━━━━━━━━━━━━━━━━━━━━━━━━━━━━━━━━━━┓\n",
       "┃\u001b[1;35m \u001b[0m\u001b[1;35mscenario                                              \u001b[0m\u001b[1;35m \u001b[0m┃\u001b[1;35m \u001b[0m\u001b[1;35manswer                                                \u001b[0m\u001b[1;35m \u001b[0m┃\n",
       "┃\u001b[1;35m \u001b[0m\u001b[1;35m.evaluation                                           \u001b[0m\u001b[1;35m \u001b[0m┃\u001b[1;35m \u001b[0m\u001b[1;35m.themes_list                                          \u001b[0m\u001b[1;35m \u001b[0m┃\n",
       "┡━━━━━━━━━━━━━━━━━━━━━━━━━━━━━━━━━━━━━━━━━━━━━━━━━━━━━━━━╇━━━━━━━━━━━━━━━━━━━━━━━━━━━━━━━━━━━━━━━━━━━━━━━━━━━━━━━━┩\n",
       "│\u001b[2m \u001b[0m\u001b[2mThe professor explained economic principles clearly   \u001b[0m\u001b[2m \u001b[0m│\u001b[2m \u001b[0m\u001b[2m['Well-structured and comprehensive course', 'Clear   \u001b[0m\u001b[2m \u001b[0m│\n",
       "│\u001b[2m \u001b[0m\u001b[2mand made the subject accessible. The course was       \u001b[0m\u001b[2m \u001b[0m│\u001b[2m \u001b[0m\u001b[2mand engaging instruction with real-world              \u001b[0m\u001b[2m \u001b[0m│\n",
       "│\u001b[2m \u001b[0m\u001b[2mwell-structured, aligning textbook readings with      \u001b[0m\u001b[2m \u001b[0m│\u001b[2m \u001b[0m\u001b[2mapplications', 'Fast-paced and information-rich       \u001b[0m\u001b[2m \u001b[0m│\n",
       "│\u001b[2m \u001b[0m\u001b[2mpractical exercises. However, the lectures sometimes  \u001b[0m\u001b[2m \u001b[0m│\u001b[2m \u001b[0m\u001b[2mlectures', 'Knowledgeable and passionate teaching']   \u001b[0m\u001b[2m \u001b[0m│\n",
       "│\u001b[2m \u001b[0m\u001b[2mfelt a bit rushed. Office hours were extremely        \u001b[0m\u001b[2m \u001b[0m│\u001b[2m                                                        \u001b[0m│\n",
       "│\u001b[2m \u001b[0m\u001b[2mhelpful, especially before exams. Overall, this was a \u001b[0m\u001b[2m \u001b[0m│\u001b[2m                                                        \u001b[0m│\n",
       "│\u001b[2m \u001b[0m\u001b[2mvery informative course.                              \u001b[0m\u001b[2m \u001b[0m│\u001b[2m                                                        \u001b[0m│\n",
       "├────────────────────────────────────────────────────────┼────────────────────────────────────────────────────────┤\n",
       "│\u001b[2m \u001b[0m\u001b[2mI appreciated the real-world applications included in \u001b[0m\u001b[2m \u001b[0m│\u001b[2m \u001b[0m\u001b[2m['Clear and engaging instruction with real-world      \u001b[0m\u001b[2m \u001b[0m│\n",
       "│\u001b[2m \u001b[0m\u001b[2mthe course, which made complex theories relatable. The\u001b[0m\u001b[2m \u001b[0m│\u001b[2m \u001b[0m\u001b[2mapplications', 'Constructive feedback with timely     \u001b[0m\u001b[2m \u001b[0m│\n",
       "│\u001b[2m \u001b[0m\u001b[2mclass discussions were insightful but could be better \u001b[0m\u001b[2m \u001b[0m│\u001b[2m \u001b[0m\u001b[2mresponses']                                           \u001b[0m\u001b[2m \u001b[0m│\n",
       "│\u001b[2m \u001b[0m\u001b[2mif more structured. The workload was reasonable,      \u001b[0m\u001b[2m \u001b[0m│\u001b[2m                                                        \u001b[0m│\n",
       "│\u001b[2m \u001b[0m\u001b[2mthough the project deadlines were tight. Feedback on  \u001b[0m\u001b[2m \u001b[0m│\u001b[2m                                                        \u001b[0m│\n",
       "│\u001b[2m \u001b[0m\u001b[2massignments was constructive and timely. I'd recommend\u001b[0m\u001b[2m \u001b[0m│\u001b[2m                                                        \u001b[0m│\n",
       "│\u001b[2m \u001b[0m\u001b[2mthis course to those interested in understanding      \u001b[0m\u001b[2m \u001b[0m│\u001b[2m                                                        \u001b[0m│\n",
       "│\u001b[2m \u001b[0m\u001b[2meconomics fundamentals.                               \u001b[0m\u001b[2m \u001b[0m│\u001b[2m                                                        \u001b[0m│\n",
       "├────────────────────────────────────────────────────────┼────────────────────────────────────────────────────────┤\n",
       "│\u001b[2m \u001b[0m\u001b[2mThe course was challenging, particularly the sections \u001b[0m\u001b[2m \u001b[0m│\u001b[2m \u001b[0m\u001b[2m['Fast-paced and information-rich lectures',          \u001b[0m\u001b[2m \u001b[0m│\n",
       "│\u001b[2m \u001b[0m\u001b[2mon microeconomics. The professor was knowledgeable but\u001b[0m\u001b[2m \u001b[0m│\u001b[2m \u001b[0m\u001b[2m'Interactive and diverse teaching methods with visual \u001b[0m\u001b[2m \u001b[0m│\n",
       "│\u001b[2m \u001b[0m\u001b[2msometimes skipped over foundational concepts too      \u001b[0m\u001b[2m \u001b[0m│\u001b[2m \u001b[0m\u001b[2maids', 'Demanding curriculum with challenging         \u001b[0m\u001b[2m \u001b[0m│\n",
       "│\u001b[2m \u001b[0m\u001b[2mquickly. Visual aids used in lectures enhanced        \u001b[0m\u001b[2m \u001b[0m│\u001b[2m \u001b[0m\u001b[2mcontent', 'Knowledgeable and passionate teaching',    \u001b[0m\u001b[2m \u001b[0m│\n",
       "│\u001b[2m \u001b[0m\u001b[2mlearning, though more interactive components would be \u001b[0m\u001b[2m \u001b[0m│\u001b[2m \u001b[0m\u001b[2m'Effective use of PowerPoint and practical emphasis'] \u001b[0m\u001b[2m \u001b[0m│\n",
       "│\u001b[2m \u001b[0m\u001b[2mbeneficial. Exams were fair but demanding. Overall, it\u001b[0m\u001b[2m \u001b[0m│\u001b[2m                                                        \u001b[0m│\n",
       "│\u001b[2m \u001b[0m\u001b[2mwas a rigorous introduction to economics.             \u001b[0m\u001b[2m \u001b[0m│\u001b[2m                                                        \u001b[0m│\n",
       "├────────────────────────────────────────────────────────┼────────────────────────────────────────────────────────┤\n",
       "│\u001b[2m \u001b[0m\u001b[2mThis Econ 101 course was engaging, thanks to the      \u001b[0m\u001b[2m \u001b[0m│\u001b[2m \u001b[0m\u001b[2m['Well-structured and comprehensive course', 'Clear   \u001b[0m\u001b[2m \u001b[0m│\n",
       "│\u001b[2m \u001b[0m\u001b[2mprofessor's enthusiasm and clear explanations. Group  \u001b[0m\u001b[2m \u001b[0m│\u001b[2m \u001b[0m\u001b[2mand engaging instruction with real-world              \u001b[0m\u001b[2m \u001b[0m│\n",
       "│\u001b[2m \u001b[0m\u001b[2mprojects facilitated a deeper understanding of the    \u001b[0m\u001b[2m \u001b[0m│\u001b[2m \u001b[0m\u001b[2mapplications', 'Structured discussions and group      \u001b[0m\u001b[2m \u001b[0m│\n",
       "│\u001b[2m \u001b[0m\u001b[2mmaterial, although coordinating times was sometimes   \u001b[0m\u001b[2m \u001b[0m│\u001b[2m \u001b[0m\u001b[2mprojects with coordination emphasis', 'Knowledgeable  \u001b[0m\u001b[2m \u001b[0m│\n",
       "│\u001b[2m \u001b[0m\u001b[2mdifficult. The course materials were comprehensive and\u001b[0m\u001b[2m \u001b[0m│\u001b[2m \u001b[0m\u001b[2mand passionate teaching']                             \u001b[0m\u001b[2m \u001b[0m│\n",
       "│\u001b[2m \u001b[0m\u001b[2mwell-organized. I found the textbook particularly     \u001b[0m\u001b[2m \u001b[0m│\u001b[2m                                                        \u001b[0m│\n",
       "│\u001b[2m \u001b[0m\u001b[2museful. This class solidified my interest in further  \u001b[0m\u001b[2m \u001b[0m│\u001b[2m                                                        \u001b[0m│\n",
       "│\u001b[2m \u001b[0m\u001b[2meconomic studies.                                     \u001b[0m\u001b[2m \u001b[0m│\u001b[2m                                                        \u001b[0m│\n",
       "├────────────────────────────────────────────────────────┼────────────────────────────────────────────────────────┤\n",
       "│\u001b[2m \u001b[0m\u001b[2mThe course effectively covered a broad range of       \u001b[0m\u001b[2m \u001b[0m│\u001b[2m \u001b[0m\u001b[2m['Clear and engaging instruction with real-world      \u001b[0m\u001b[2m \u001b[0m│\n",
       "│\u001b[2m \u001b[0m\u001b[2meconomic theories and models. However, the pace was   \u001b[0m\u001b[2m \u001b[0m│\u001b[2m \u001b[0m\u001b[2mapplications', 'Fast-paced and information-rich       \u001b[0m\u001b[2m \u001b[0m│\n",
       "│\u001b[2m \u001b[0m\u001b[2msometimes too fast, making it hard to absorb all the  \u001b[0m\u001b[2m \u001b[0m│\u001b[2m \u001b[0m\u001b[2mlectures', 'Demanding curriculum with challenging     \u001b[0m\u001b[2m \u001b[0m│\n",
       "│\u001b[2m \u001b[0m\u001b[2minformation. The use of current events helped         \u001b[0m\u001b[2m \u001b[0m│\u001b[2m \u001b[0m\u001b[2mcontent', 'Knowledgeable and passionate teaching']    \u001b[0m\u001b[2m \u001b[0m│\n",
       "│\u001b[2m \u001b[0m\u001b[2millustrate how economic principles apply in real life.\u001b[0m\u001b[2m \u001b[0m│\u001b[2m                                                        \u001b[0m│\n",
       "│\u001b[2m \u001b[0m\u001b[2mI wish there were more opportunities for revising core\u001b[0m\u001b[2m \u001b[0m│\u001b[2m                                                        \u001b[0m│\n",
       "│\u001b[2m \u001b[0m\u001b[2mconcepts before exams. The professor was approachable \u001b[0m\u001b[2m \u001b[0m│\u001b[2m                                                        \u001b[0m│\n",
       "│\u001b[2m \u001b[0m\u001b[2mand knowledgeable.                                    \u001b[0m\u001b[2m \u001b[0m│\u001b[2m                                                        \u001b[0m│\n",
       "├────────────────────────────────────────────────────────┼────────────────────────────────────────────────────────┤\n",
       "│\u001b[2m \u001b[0m\u001b[2mThe professor used a variety of teaching methods,     \u001b[0m\u001b[2m \u001b[0m│\u001b[2m \u001b[0m\u001b[2m['Interactive and diverse teaching methods with visual\u001b[0m\u001b[2m \u001b[0m│\n",
       "│\u001b[2m \u001b[0m\u001b[2mwhich catered to different learning styles. The       \u001b[0m\u001b[2m \u001b[0m│\u001b[2m \u001b[0m\u001b[2maids', 'Effective use of PowerPoint and practical     \u001b[0m\u001b[2m \u001b[0m│\n",
       "│\u001b[2m \u001b[0m\u001b[2mPowerPoint presentations were detailed and useful for \u001b[0m\u001b[2m \u001b[0m│\u001b[2m \u001b[0m\u001b[2memphasis']                                            \u001b[0m\u001b[2m \u001b[0m│\n",
       "│\u001b[2m \u001b[0m\u001b[2mrevising. However, the reliance on multiple-choice    \u001b[0m\u001b[2m \u001b[0m│\u001b[2m                                                        \u001b[0m│\n",
       "│\u001b[2m \u001b[0m\u001b[2mquestions for assessments didn't fully test our       \u001b[0m\u001b[2m \u001b[0m│\u001b[2m                                                        \u001b[0m│\n",
       "│\u001b[2m \u001b[0m\u001b[2munderstanding of the material. Class participation was\u001b[0m\u001b[2m \u001b[0m│\u001b[2m                                                        \u001b[0m│\n",
       "│\u001b[2m \u001b[0m\u001b[2mencouraged, which made the course interactive. More   \u001b[0m\u001b[2m \u001b[0m│\u001b[2m                                                        \u001b[0m│\n",
       "│\u001b[2m \u001b[0m\u001b[2mcase studies could improve the learning experience.   \u001b[0m\u001b[2m \u001b[0m│\u001b[2m                                                        \u001b[0m│\n",
       "├────────────────────────────────────────────────────────┼────────────────────────────────────────────────────────┤\n",
       "│\u001b[2m \u001b[0m\u001b[2mAs a beginner to economics, I found the course to be a\u001b[0m\u001b[2m \u001b[0m│\u001b[2m \u001b[0m\u001b[2m['Well-structured and comprehensive course',          \u001b[0m\u001b[2m \u001b[0m│\n",
       "│\u001b[2m \u001b[0m\u001b[2msolid foundation. The mathematical aspects were well  \u001b[0m\u001b[2m \u001b[0m│\u001b[2m \u001b[0m\u001b[2m'Constructive feedback with timely responses',        \u001b[0m\u001b[2m \u001b[0m│\n",
       "│\u001b[2m \u001b[0m\u001b[2mexplained, but the economic theories could be abstract\u001b[0m\u001b[2m \u001b[0m│\u001b[2m \u001b[0m\u001b[2m'Demanding curriculum with challenging content']      \u001b[0m\u001b[2m \u001b[0m│\n",
       "│\u001b[2m \u001b[0m\u001b[2mand challenging. The assignments were helpful for     \u001b[0m\u001b[2m \u001b[0m│\u001b[2m                                                        \u001b[0m│\n",
       "│\u001b[2m \u001b[0m\u001b[2mreinforcing the lectures. Feedback was sometimes slow \u001b[0m\u001b[2m \u001b[0m│\u001b[2m                                                        \u001b[0m│\n",
       "│\u001b[2m \u001b[0m\u001b[2mbut always helpful. This course demands attention and \u001b[0m\u001b[2m \u001b[0m│\u001b[2m                                                        \u001b[0m│\n",
       "│\u001b[2m \u001b[0m\u001b[2mstudy but is very rewarding.                          \u001b[0m\u001b[2m \u001b[0m│\u001b[2m                                                        \u001b[0m│\n",
       "├────────────────────────────────────────────────────────┼────────────────────────────────────────────────────────┤\n",
       "│\u001b[2m \u001b[0m\u001b[2mThis was a well-taught course with a clear emphasis on\u001b[0m\u001b[2m \u001b[0m│\u001b[2m \u001b[0m\u001b[2m['Well-structured and comprehensive course', 'Clear   \u001b[0m\u001b[2m \u001b[0m│\n",
       "│\u001b[2m \u001b[0m\u001b[2mpractical applications of economics. The examples used\u001b[0m\u001b[2m \u001b[0m│\u001b[2m \u001b[0m\u001b[2mand engaging instruction with real-world              \u001b[0m\u001b[2m \u001b[0m│\n",
       "│\u001b[2m \u001b[0m\u001b[2min class were current and relevant, which kept the    \u001b[0m\u001b[2m \u001b[0m│\u001b[2m \u001b[0m\u001b[2mapplications', 'Demanding curriculum with challenging \u001b[0m\u001b[2m \u001b[0m│\n",
       "│\u001b[2m \u001b[0m\u001b[2mcontent interesting. The exams were comprehensive and \u001b[0m\u001b[2m \u001b[0m│\u001b[2m \u001b[0m\u001b[2mcontent']                                             \u001b[0m\u001b[2m \u001b[0m│\n",
       "│\u001b[2m \u001b[0m\u001b[2ma good measure of our understanding. However, the     \u001b[0m\u001b[2m \u001b[0m│\u001b[2m                                                        \u001b[0m│\n",
       "│\u001b[2m \u001b[0m\u001b[2mreading material was extensive and sometimes          \u001b[0m\u001b[2m \u001b[0m│\u001b[2m                                                        \u001b[0m│\n",
       "│\u001b[2m \u001b[0m\u001b[2moverwhelming. More supplemental resources would be    \u001b[0m\u001b[2m \u001b[0m│\u001b[2m                                                        \u001b[0m│\n",
       "│\u001b[2m \u001b[0m\u001b[2mhelpful.                                              \u001b[0m\u001b[2m \u001b[0m│\u001b[2m                                                        \u001b[0m│\n",
       "├────────────────────────────────────────────────────────┼────────────────────────────────────────────────────────┤\n",
       "│\u001b[2m \u001b[0m\u001b[2mThe professor was passionate about economics, which   \u001b[0m\u001b[2m \u001b[0m│\u001b[2m \u001b[0m\u001b[2m['Well-structured and comprehensive course', 'Clear   \u001b[0m\u001b[2m \u001b[0m│\n",
       "│\u001b[2m \u001b[0m\u001b[2mmade the class more engaging. The lectures were packed\u001b[0m\u001b[2m \u001b[0m│\u001b[2m \u001b[0m\u001b[2mand engaging instruction with real-world              \u001b[0m\u001b[2m \u001b[0m│\n",
       "│\u001b[2m \u001b[0m\u001b[2mwith information, and the examples provided were      \u001b[0m\u001b[2m \u001b[0m│\u001b[2m \u001b[0m\u001b[2mapplications', 'Fast-paced and information-rich       \u001b[0m\u001b[2m \u001b[0m│\n",
       "│\u001b[2m \u001b[0m\u001b[2mrelevant. The grading was strict but fair, and it     \u001b[0m\u001b[2m \u001b[0m│\u001b[2m \u001b[0m\u001b[2mlectures', 'Demanding curriculum with challenging     \u001b[0m\u001b[2m \u001b[0m│\n",
       "│\u001b[2m \u001b[0m\u001b[2mpushed us to work harder. The final project was a     \u001b[0m\u001b[2m \u001b[0m│\u001b[2m \u001b[0m\u001b[2mcontent', 'Knowledgeable and passionate teaching']    \u001b[0m\u001b[2m \u001b[0m│\n",
       "│\u001b[2m \u001b[0m\u001b[2mgreat way to apply what we learned in a practical     \u001b[0m\u001b[2m \u001b[0m│\u001b[2m                                                        \u001b[0m│\n",
       "│\u001b[2m \u001b[0m\u001b[2mscenario. I would recommend this course for anyone    \u001b[0m\u001b[2m \u001b[0m│\u001b[2m                                                        \u001b[0m│\n",
       "│\u001b[2m \u001b[0m\u001b[2mlooking to start a career in economics.               \u001b[0m\u001b[2m \u001b[0m│\u001b[2m                                                        \u001b[0m│\n",
       "├────────────────────────────────────────────────────────┼────────────────────────────────────────────────────────┤\n",
       "│\u001b[2m \u001b[0m\u001b[2mThis Econ 101 course was informative and well-paced.  \u001b[0m\u001b[2m \u001b[0m│\u001b[2m \u001b[0m\u001b[2m['Well-structured and comprehensive course', 'Clear   \u001b[0m\u001b[2m \u001b[0m│\n",
       "│\u001b[2m \u001b[0m\u001b[2mThe professor was always prepared and encouraged      \u001b[0m\u001b[2m \u001b[0m│\u001b[2m \u001b[0m\u001b[2mand engaging instruction with real-world              \u001b[0m\u001b[2m \u001b[0m│\n",
       "│\u001b[2m \u001b[0m\u001b[2mquestions, making the material accessible. However,   \u001b[0m\u001b[2m \u001b[0m│\u001b[2m \u001b[0m\u001b[2mapplications', 'Demanding curriculum with challenging \u001b[0m\u001b[2m \u001b[0m│\n",
       "│\u001b[2m \u001b[0m\u001b[2mthe lecture hall was often overcrowded, which made it \u001b[0m\u001b[2m \u001b[0m│\u001b[2m \u001b[0m\u001b[2mcontent', 'Knowledgeable and passionate teaching',    \u001b[0m\u001b[2m \u001b[0m│\n",
       "│\u001b[2m \u001b[0m\u001b[2mhard to interact during class. The tests required a   \u001b[0m\u001b[2m \u001b[0m│\u001b[2m \u001b[0m\u001b[2m'Facilities and resource management']                 \u001b[0m\u001b[2m \u001b[0m│\n",
       "│\u001b[2m \u001b[0m\u001b[2mdeep understanding of the material, which was good for\u001b[0m\u001b[2m \u001b[0m│\u001b[2m                                                        \u001b[0m│\n",
       "│\u001b[2m \u001b[0m\u001b[2mlearning. More visual aids and examples during        \u001b[0m\u001b[2m \u001b[0m│\u001b[2m                                                        \u001b[0m│\n",
       "│\u001b[2m \u001b[0m\u001b[2mlectures would make this course perfect.              \u001b[0m\u001b[2m \u001b[0m│\u001b[2m                                                        \u001b[0m│\n",
       "└────────────────────────────────────────────────────────┴────────────────────────────────────────────────────────┘\n"
      ]
     },
     "metadata": {},
     "output_type": "display_data"
    }
   ],
   "source": [
    "themes_lists = q_themes_list.by(scenarios).run()\n",
    "themes_lists.select(\"evaluation\", \"themes_list\").print(format=\"rich\")"
   ]
  },
  {
   "cell_type": "markdown",
   "id": "4f633cdd-6541-47e9-875a-f90e1512cace",
   "metadata": {},
   "source": [
    "Now we can count the number of evaluations that mention each of the themes:"
   ]
  },
  {
   "cell_type": "code",
   "execution_count": 18,
   "id": "54271940-dadc-4f80-a17b-b1ce64d4cc78",
   "metadata": {},
   "outputs": [
    {
     "name": "stdout",
     "output_type": "stream",
     "text": [
      "                                               Theme  Evaluations\n",
      "2  Clear and engaging instruction with real-world...            7\n",
      "0              Knowledgeable and passionate teaching            6\n",
      "1           Well-structured and comprehensive course            6\n",
      "4      Demanding curriculum with challenging content            6\n",
      "5           Fast-paced and information-rich lectures            4\n",
      "3  Interactive and diverse teaching methods with ...            2\n",
      "6        Constructive feedback with timely responses            2\n",
      "9  Effective use of PowerPoint and practical emph...            2\n",
      "7                 Facilities and resource management            1\n",
      "8  Structured discussions and group projects with...            1\n"
     ]
    }
   ],
   "source": [
    "import pandas as pd\n",
    "from collections import Counter\n",
    "\n",
    "themes_lists = themes_lists.select(\"themes_list\").to_list()\n",
    "\n",
    "flat_list = [(theme, idx) for idx, themes in enumerate(themes_lists) for theme in themes]\n",
    "count = Counter(theme for theme, idx in set(flat_list))\n",
    "\n",
    "df = pd.DataFrame(list(count.items()), columns=['Theme', 'Evaluations'])\n",
    "print(df.sort_values(by='Evaluations', ascending=False))"
   ]
  },
  {
   "cell_type": "markdown",
   "id": "846d29fd-847d-4352-af7c-ed339519e239",
   "metadata": {},
   "source": [
    "We can do the same thing with the areas of improvement:"
   ]
  },
  {
   "cell_type": "code",
   "execution_count": 27,
   "id": "13a8a2c1-5a8a-4e46-86fc-8ff23c9587a6",
   "metadata": {},
   "outputs": [
    {
     "data": {
      "text/plain": [
       "['Pace lectures better',\n",
       " 'Allow more time for complex topics',\n",
       " 'Include more interactive elements during lectures',\n",
       " 'Provide additional review sessions before exams',\n",
       " 'More structured class discussions',\n",
       " 'Adjust project deadlines',\n",
       " 'Slow down',\n",
       " 'Review foundational concepts',\n",
       " 'Increase interactivity',\n",
       " 'Maintain visual aids',\n",
       " 'Consider exam difficulty',\n",
       " 'Scheduling tools',\n",
       " 'Doodle polls',\n",
       " 'Group project guidelines',\n",
       " 'Time management strategies',\n",
       " 'Adjust pacing',\n",
       " 'Review sessions',\n",
       " 'Supplemental materials',\n",
       " 'Interactive learning activities',\n",
       " 'Diversify assessments',\n",
       " 'Incorporate case studies',\n",
       " 'Reduce reliance on multiple-choice questions',\n",
       " 'Include written assignments',\n",
       " 'Implement project-based evaluations',\n",
       " 'Clarify economic theories',\n",
       " 'Use practical examples',\n",
       " 'Improve feedback timeliness',\n",
       " 'Reduce reading load',\n",
       " 'Curate reading material',\n",
       " 'Provide supplemental resources',\n",
       " 'Offer optional reading lists',\n",
       " 'Maintain passion and engagement',\n",
       " 'Continue using relevant examples',\n",
       " 'Keep fair grading standards',\n",
       " 'Retain final project practical application',\n",
       " 'reduce class size',\n",
       " 'increase interaction opportunities',\n",
       " 'incorporate more visual aids',\n",
       " 'use more real-life examples']"
      ]
     },
     "execution_count": 27,
     "metadata": {},
     "output_type": "execute_result"
    }
   ],
   "source": [
    "improvements = results.select(\"improvement\").to_list(flatten=True)\n",
    "improvements"
   ]
  },
  {
   "cell_type": "code",
   "execution_count": 28,
   "id": "cd346576-9a41-4e15-99ba-ff99fd0d0c06",
   "metadata": {},
   "outputs": [],
   "source": [
    "q_condensed_improvements = QuestionList(\n",
    "    question_name = \"condensed_improvements\",\n",
    "    question_text = \"\"\"Combine the following list of areas for improvement from the evaluations \n",
    "    into a consolidated, non-redundant list: \"\"\" + \", \".join(improvements),\n",
    "    max_list_items = 10\n",
    ")"
   ]
  },
  {
   "cell_type": "code",
   "execution_count": 29,
   "id": "f8e00a94-1eb0-49a5-b338-5385220ee9a3",
   "metadata": {},
   "outputs": [
    {
     "data": {
      "text/plain": [
       "['Improve pacing and allocate more time for complex topics',\n",
       " 'Enhance interactivity with more interactive elements and discussions',\n",
       " 'Provide additional support such as review sessions and supplemental materials',\n",
       " 'Optimize assessments by diversifying types and adjusting difficulty',\n",
       " 'Clarify and apply economic concepts using practical and real-life examples',\n",
       " 'Improve project management with clearer guidelines and adjusted deadlines',\n",
       " 'Enhance resources with curated reading materials and optional lists',\n",
       " 'Maintain high engagement with passion and relevant examples',\n",
       " 'Ensure fair grading and timely feedback',\n",
       " 'Adjust class structure by reducing size and increasing interaction opportunities']"
      ]
     },
     "execution_count": 29,
     "metadata": {},
     "output_type": "execute_result"
    }
   ],
   "source": [
    "condensed_improvements = q_condensed_improvements.run().select(\"condensed_improvements\").to_list()[0]\n",
    "condensed_improvements"
   ]
  },
  {
   "cell_type": "code",
   "execution_count": 30,
   "id": "3f59e1e7-559f-4ca8-9f94-9f75ab29d3f6",
   "metadata": {},
   "outputs": [],
   "source": [
    "q_improvements_list = QuestionCheckBox(\n",
    "    question_name = \"improvements_list\",\n",
    "    question_text = \"Select all of the improvements that are mentioned in this evaluation: {{ evaluation }}\",\n",
    "    question_options = condensed_improvements\n",
    ")"
   ]
  },
  {
   "cell_type": "code",
   "execution_count": 31,
   "id": "89a896d5-2597-4f99-8a34-e8ecb0bf969b",
   "metadata": {},
   "outputs": [
    {
     "data": {
      "text/html": [
       "<pre style=\"white-space:pre;overflow-x:auto;line-height:normal;font-family:Menlo,'DejaVu Sans Mono',consolas,'Courier New',monospace\">┏━━━━━━━━━━━━━━━━━━━━━━━━━━━━━━━━━━━━━━━━━━━━━━━━━━━━━━━━┳━━━━━━━━━━━━━━━━━━━━━━━━━━━━━━━━━━━━━━━━━━━━━━━━━━━━━━━━┓\n",
       "┃<span style=\"color: #800080; text-decoration-color: #800080; font-weight: bold\"> scenario                                               </span>┃<span style=\"color: #800080; text-decoration-color: #800080; font-weight: bold\"> answer                                                 </span>┃\n",
       "┃<span style=\"color: #800080; text-decoration-color: #800080; font-weight: bold\"> .evaluation                                            </span>┃<span style=\"color: #800080; text-decoration-color: #800080; font-weight: bold\"> .improvements_list                                     </span>┃\n",
       "┡━━━━━━━━━━━━━━━━━━━━━━━━━━━━━━━━━━━━━━━━━━━━━━━━━━━━━━━━╇━━━━━━━━━━━━━━━━━━━━━━━━━━━━━━━━━━━━━━━━━━━━━━━━━━━━━━━━┩\n",
       "│<span style=\"color: #7f7f7f; text-decoration-color: #7f7f7f\"> The professor explained economic principles clearly    </span>│<span style=\"color: #7f7f7f; text-decoration-color: #7f7f7f\"> ['Improve pacing and allocate more time for complex    </span>│\n",
       "│<span style=\"color: #7f7f7f; text-decoration-color: #7f7f7f\"> and made the subject accessible. The course was        </span>│<span style=\"color: #7f7f7f; text-decoration-color: #7f7f7f\"> topics']                                               </span>│\n",
       "│<span style=\"color: #7f7f7f; text-decoration-color: #7f7f7f\"> well-structured, aligning textbook readings with       </span>│<span style=\"color: #7f7f7f; text-decoration-color: #7f7f7f\">                                                        </span>│\n",
       "│<span style=\"color: #7f7f7f; text-decoration-color: #7f7f7f\"> practical exercises. However, the lectures sometimes   </span>│<span style=\"color: #7f7f7f; text-decoration-color: #7f7f7f\">                                                        </span>│\n",
       "│<span style=\"color: #7f7f7f; text-decoration-color: #7f7f7f\"> felt a bit rushed. Office hours were extremely         </span>│<span style=\"color: #7f7f7f; text-decoration-color: #7f7f7f\">                                                        </span>│\n",
       "│<span style=\"color: #7f7f7f; text-decoration-color: #7f7f7f\"> helpful, especially before exams. Overall, this was a  </span>│<span style=\"color: #7f7f7f; text-decoration-color: #7f7f7f\">                                                        </span>│\n",
       "│<span style=\"color: #7f7f7f; text-decoration-color: #7f7f7f\"> very informative course.                               </span>│<span style=\"color: #7f7f7f; text-decoration-color: #7f7f7f\">                                                        </span>│\n",
       "├────────────────────────────────────────────────────────┼────────────────────────────────────────────────────────┤\n",
       "│<span style=\"color: #7f7f7f; text-decoration-color: #7f7f7f\"> I appreciated the real-world applications included in  </span>│<span style=\"color: #7f7f7f; text-decoration-color: #7f7f7f\"> ['Improve project management with clearer guidelines   </span>│\n",
       "│<span style=\"color: #7f7f7f; text-decoration-color: #7f7f7f\"> the course, which made complex theories relatable. The </span>│<span style=\"color: #7f7f7f; text-decoration-color: #7f7f7f\"> and adjusted deadlines', 'Ensure fair grading and      </span>│\n",
       "│<span style=\"color: #7f7f7f; text-decoration-color: #7f7f7f\"> class discussions were insightful but could be better  </span>│<span style=\"color: #7f7f7f; text-decoration-color: #7f7f7f\"> timely feedback']                                      </span>│\n",
       "│<span style=\"color: #7f7f7f; text-decoration-color: #7f7f7f\"> if more structured. The workload was reasonable,       </span>│<span style=\"color: #7f7f7f; text-decoration-color: #7f7f7f\">                                                        </span>│\n",
       "│<span style=\"color: #7f7f7f; text-decoration-color: #7f7f7f\"> though the project deadlines were tight. Feedback on   </span>│<span style=\"color: #7f7f7f; text-decoration-color: #7f7f7f\">                                                        </span>│\n",
       "│<span style=\"color: #7f7f7f; text-decoration-color: #7f7f7f\"> assignments was constructive and timely. I'd recommend </span>│<span style=\"color: #7f7f7f; text-decoration-color: #7f7f7f\">                                                        </span>│\n",
       "│<span style=\"color: #7f7f7f; text-decoration-color: #7f7f7f\"> this course to those interested in understanding       </span>│<span style=\"color: #7f7f7f; text-decoration-color: #7f7f7f\">                                                        </span>│\n",
       "│<span style=\"color: #7f7f7f; text-decoration-color: #7f7f7f\"> economics fundamentals.                                </span>│<span style=\"color: #7f7f7f; text-decoration-color: #7f7f7f\">                                                        </span>│\n",
       "├────────────────────────────────────────────────────────┼────────────────────────────────────────────────────────┤\n",
       "│<span style=\"color: #7f7f7f; text-decoration-color: #7f7f7f\"> The course was challenging, particularly the sections  </span>│<span style=\"color: #7f7f7f; text-decoration-color: #7f7f7f\"> ['Improve pacing and allocate more time for complex    </span>│\n",
       "│<span style=\"color: #7f7f7f; text-decoration-color: #7f7f7f\"> on microeconomics. The professor was knowledgeable but </span>│<span style=\"color: #7f7f7f; text-decoration-color: #7f7f7f\"> topics', 'Enhance interactivity with more interactive  </span>│\n",
       "│<span style=\"color: #7f7f7f; text-decoration-color: #7f7f7f\"> sometimes skipped over foundational concepts too       </span>│<span style=\"color: #7f7f7f; text-decoration-color: #7f7f7f\"> elements and discussions', 'Provide additional support </span>│\n",
       "│<span style=\"color: #7f7f7f; text-decoration-color: #7f7f7f\"> quickly. Visual aids used in lectures enhanced         </span>│<span style=\"color: #7f7f7f; text-decoration-color: #7f7f7f\"> such as review sessions and supplemental materials']   </span>│\n",
       "│<span style=\"color: #7f7f7f; text-decoration-color: #7f7f7f\"> learning, though more interactive components would be  </span>│<span style=\"color: #7f7f7f; text-decoration-color: #7f7f7f\">                                                        </span>│\n",
       "│<span style=\"color: #7f7f7f; text-decoration-color: #7f7f7f\"> beneficial. Exams were fair but demanding. Overall, it </span>│<span style=\"color: #7f7f7f; text-decoration-color: #7f7f7f\">                                                        </span>│\n",
       "│<span style=\"color: #7f7f7f; text-decoration-color: #7f7f7f\"> was a rigorous introduction to economics.              </span>│<span style=\"color: #7f7f7f; text-decoration-color: #7f7f7f\">                                                        </span>│\n",
       "├────────────────────────────────────────────────────────┼────────────────────────────────────────────────────────┤\n",
       "│<span style=\"color: #7f7f7f; text-decoration-color: #7f7f7f\"> This Econ 101 course was engaging, thanks to the       </span>│<span style=\"color: #7f7f7f; text-decoration-color: #7f7f7f\"> ['Maintain high engagement with passion and relevant   </span>│\n",
       "│<span style=\"color: #7f7f7f; text-decoration-color: #7f7f7f\"> professor's enthusiasm and clear explanations. Group   </span>│<span style=\"color: #7f7f7f; text-decoration-color: #7f7f7f\"> examples']                                             </span>│\n",
       "│<span style=\"color: #7f7f7f; text-decoration-color: #7f7f7f\"> projects facilitated a deeper understanding of the     </span>│<span style=\"color: #7f7f7f; text-decoration-color: #7f7f7f\">                                                        </span>│\n",
       "│<span style=\"color: #7f7f7f; text-decoration-color: #7f7f7f\"> material, although coordinating times was sometimes    </span>│<span style=\"color: #7f7f7f; text-decoration-color: #7f7f7f\">                                                        </span>│\n",
       "│<span style=\"color: #7f7f7f; text-decoration-color: #7f7f7f\"> difficult. The course materials were comprehensive and </span>│<span style=\"color: #7f7f7f; text-decoration-color: #7f7f7f\">                                                        </span>│\n",
       "│<span style=\"color: #7f7f7f; text-decoration-color: #7f7f7f\"> well-organized. I found the textbook particularly      </span>│<span style=\"color: #7f7f7f; text-decoration-color: #7f7f7f\">                                                        </span>│\n",
       "│<span style=\"color: #7f7f7f; text-decoration-color: #7f7f7f\"> useful. This class solidified my interest in further   </span>│<span style=\"color: #7f7f7f; text-decoration-color: #7f7f7f\">                                                        </span>│\n",
       "│<span style=\"color: #7f7f7f; text-decoration-color: #7f7f7f\"> economic studies.                                      </span>│<span style=\"color: #7f7f7f; text-decoration-color: #7f7f7f\">                                                        </span>│\n",
       "├────────────────────────────────────────────────────────┼────────────────────────────────────────────────────────┤\n",
       "│<span style=\"color: #7f7f7f; text-decoration-color: #7f7f7f\"> The course effectively covered a broad range of        </span>│<span style=\"color: #7f7f7f; text-decoration-color: #7f7f7f\"> ['Improve pacing and allocate more time for complex    </span>│\n",
       "│<span style=\"color: #7f7f7f; text-decoration-color: #7f7f7f\"> economic theories and models. However, the pace was    </span>│<span style=\"color: #7f7f7f; text-decoration-color: #7f7f7f\"> topics', 'Provide additional support such as review    </span>│\n",
       "│<span style=\"color: #7f7f7f; text-decoration-color: #7f7f7f\"> sometimes too fast, making it hard to absorb all the   </span>│<span style=\"color: #7f7f7f; text-decoration-color: #7f7f7f\"> sessions and supplemental materials']                  </span>│\n",
       "│<span style=\"color: #7f7f7f; text-decoration-color: #7f7f7f\"> information. The use of current events helped          </span>│<span style=\"color: #7f7f7f; text-decoration-color: #7f7f7f\">                                                        </span>│\n",
       "│<span style=\"color: #7f7f7f; text-decoration-color: #7f7f7f\"> illustrate how economic principles apply in real life. </span>│<span style=\"color: #7f7f7f; text-decoration-color: #7f7f7f\">                                                        </span>│\n",
       "│<span style=\"color: #7f7f7f; text-decoration-color: #7f7f7f\"> I wish there were more opportunities for revising core </span>│<span style=\"color: #7f7f7f; text-decoration-color: #7f7f7f\">                                                        </span>│\n",
       "│<span style=\"color: #7f7f7f; text-decoration-color: #7f7f7f\"> concepts before exams. The professor was approachable  </span>│<span style=\"color: #7f7f7f; text-decoration-color: #7f7f7f\">                                                        </span>│\n",
       "│<span style=\"color: #7f7f7f; text-decoration-color: #7f7f7f\"> and knowledgeable.                                     </span>│<span style=\"color: #7f7f7f; text-decoration-color: #7f7f7f\">                                                        </span>│\n",
       "├────────────────────────────────────────────────────────┼────────────────────────────────────────────────────────┤\n",
       "│<span style=\"color: #7f7f7f; text-decoration-color: #7f7f7f\"> The professor used a variety of teaching methods,      </span>│<span style=\"color: #7f7f7f; text-decoration-color: #7f7f7f\"> ['Optimize assessments by diversifying types and       </span>│\n",
       "│<span style=\"color: #7f7f7f; text-decoration-color: #7f7f7f\"> which catered to different learning styles. The        </span>│<span style=\"color: #7f7f7f; text-decoration-color: #7f7f7f\"> adjusting difficulty', 'Clarify and apply economic     </span>│\n",
       "│<span style=\"color: #7f7f7f; text-decoration-color: #7f7f7f\"> PowerPoint presentations were detailed and useful for  </span>│<span style=\"color: #7f7f7f; text-decoration-color: #7f7f7f\"> concepts using practical and real-life examples']      </span>│\n",
       "│<span style=\"color: #7f7f7f; text-decoration-color: #7f7f7f\"> revising. However, the reliance on multiple-choice     </span>│<span style=\"color: #7f7f7f; text-decoration-color: #7f7f7f\">                                                        </span>│\n",
       "│<span style=\"color: #7f7f7f; text-decoration-color: #7f7f7f\"> questions for assessments didn't fully test our        </span>│<span style=\"color: #7f7f7f; text-decoration-color: #7f7f7f\">                                                        </span>│\n",
       "│<span style=\"color: #7f7f7f; text-decoration-color: #7f7f7f\"> understanding of the material. Class participation was </span>│<span style=\"color: #7f7f7f; text-decoration-color: #7f7f7f\">                                                        </span>│\n",
       "│<span style=\"color: #7f7f7f; text-decoration-color: #7f7f7f\"> encouraged, which made the course interactive. More    </span>│<span style=\"color: #7f7f7f; text-decoration-color: #7f7f7f\">                                                        </span>│\n",
       "│<span style=\"color: #7f7f7f; text-decoration-color: #7f7f7f\"> case studies could improve the learning experience.    </span>│<span style=\"color: #7f7f7f; text-decoration-color: #7f7f7f\">                                                        </span>│\n",
       "├────────────────────────────────────────────────────────┼────────────────────────────────────────────────────────┤\n",
       "│<span style=\"color: #7f7f7f; text-decoration-color: #7f7f7f\"> As a beginner to economics, I found the course to be a </span>│<span style=\"color: #7f7f7f; text-decoration-color: #7f7f7f\"> ['Ensure fair grading and timely feedback']            </span>│\n",
       "│<span style=\"color: #7f7f7f; text-decoration-color: #7f7f7f\"> solid foundation. The mathematical aspects were well   </span>│<span style=\"color: #7f7f7f; text-decoration-color: #7f7f7f\">                                                        </span>│\n",
       "│<span style=\"color: #7f7f7f; text-decoration-color: #7f7f7f\"> explained, but the economic theories could be abstract </span>│<span style=\"color: #7f7f7f; text-decoration-color: #7f7f7f\">                                                        </span>│\n",
       "│<span style=\"color: #7f7f7f; text-decoration-color: #7f7f7f\"> and challenging. The assignments were helpful for      </span>│<span style=\"color: #7f7f7f; text-decoration-color: #7f7f7f\">                                                        </span>│\n",
       "│<span style=\"color: #7f7f7f; text-decoration-color: #7f7f7f\"> reinforcing the lectures. Feedback was sometimes slow  </span>│<span style=\"color: #7f7f7f; text-decoration-color: #7f7f7f\">                                                        </span>│\n",
       "│<span style=\"color: #7f7f7f; text-decoration-color: #7f7f7f\"> but always helpful. This course demands attention and  </span>│<span style=\"color: #7f7f7f; text-decoration-color: #7f7f7f\">                                                        </span>│\n",
       "│<span style=\"color: #7f7f7f; text-decoration-color: #7f7f7f\"> study but is very rewarding.                           </span>│<span style=\"color: #7f7f7f; text-decoration-color: #7f7f7f\">                                                        </span>│\n",
       "├────────────────────────────────────────────────────────┼────────────────────────────────────────────────────────┤\n",
       "│<span style=\"color: #7f7f7f; text-decoration-color: #7f7f7f\"> This was a well-taught course with a clear emphasis on </span>│<span style=\"color: #7f7f7f; text-decoration-color: #7f7f7f\"> ['Provide additional support such as review sessions   </span>│\n",
       "│<span style=\"color: #7f7f7f; text-decoration-color: #7f7f7f\"> practical applications of economics. The examples used </span>│<span style=\"color: #7f7f7f; text-decoration-color: #7f7f7f\"> and supplemental materials', 'Enhance resources with   </span>│\n",
       "│<span style=\"color: #7f7f7f; text-decoration-color: #7f7f7f\"> in class were current and relevant, which kept the     </span>│<span style=\"color: #7f7f7f; text-decoration-color: #7f7f7f\"> curated reading materials and optional lists']         </span>│\n",
       "│<span style=\"color: #7f7f7f; text-decoration-color: #7f7f7f\"> content interesting. The exams were comprehensive and  </span>│<span style=\"color: #7f7f7f; text-decoration-color: #7f7f7f\">                                                        </span>│\n",
       "│<span style=\"color: #7f7f7f; text-decoration-color: #7f7f7f\"> a good measure of our understanding. However, the      </span>│<span style=\"color: #7f7f7f; text-decoration-color: #7f7f7f\">                                                        </span>│\n",
       "│<span style=\"color: #7f7f7f; text-decoration-color: #7f7f7f\"> reading material was extensive and sometimes           </span>│<span style=\"color: #7f7f7f; text-decoration-color: #7f7f7f\">                                                        </span>│\n",
       "│<span style=\"color: #7f7f7f; text-decoration-color: #7f7f7f\"> overwhelming. More supplemental resources would be     </span>│<span style=\"color: #7f7f7f; text-decoration-color: #7f7f7f\">                                                        </span>│\n",
       "│<span style=\"color: #7f7f7f; text-decoration-color: #7f7f7f\"> helpful.                                               </span>│<span style=\"color: #7f7f7f; text-decoration-color: #7f7f7f\">                                                        </span>│\n",
       "├────────────────────────────────────────────────────────┼────────────────────────────────────────────────────────┤\n",
       "│<span style=\"color: #7f7f7f; text-decoration-color: #7f7f7f\"> The professor was passionate about economics, which    </span>│<span style=\"color: #7f7f7f; text-decoration-color: #7f7f7f\"> ['Maintain high engagement with passion and relevant   </span>│\n",
       "│<span style=\"color: #7f7f7f; text-decoration-color: #7f7f7f\"> made the class more engaging. The lectures were packed </span>│<span style=\"color: #7f7f7f; text-decoration-color: #7f7f7f\"> examples', 'Ensure fair grading and timely feedback']  </span>│\n",
       "│<span style=\"color: #7f7f7f; text-decoration-color: #7f7f7f\"> with information, and the examples provided were       </span>│<span style=\"color: #7f7f7f; text-decoration-color: #7f7f7f\">                                                        </span>│\n",
       "│<span style=\"color: #7f7f7f; text-decoration-color: #7f7f7f\"> relevant. The grading was strict but fair, and it      </span>│<span style=\"color: #7f7f7f; text-decoration-color: #7f7f7f\">                                                        </span>│\n",
       "│<span style=\"color: #7f7f7f; text-decoration-color: #7f7f7f\"> pushed us to work harder. The final project was a      </span>│<span style=\"color: #7f7f7f; text-decoration-color: #7f7f7f\">                                                        </span>│\n",
       "│<span style=\"color: #7f7f7f; text-decoration-color: #7f7f7f\"> great way to apply what we learned in a practical      </span>│<span style=\"color: #7f7f7f; text-decoration-color: #7f7f7f\">                                                        </span>│\n",
       "│<span style=\"color: #7f7f7f; text-decoration-color: #7f7f7f\"> scenario. I would recommend this course for anyone     </span>│<span style=\"color: #7f7f7f; text-decoration-color: #7f7f7f\">                                                        </span>│\n",
       "│<span style=\"color: #7f7f7f; text-decoration-color: #7f7f7f\"> looking to start a career in economics.                </span>│<span style=\"color: #7f7f7f; text-decoration-color: #7f7f7f\">                                                        </span>│\n",
       "├────────────────────────────────────────────────────────┼────────────────────────────────────────────────────────┤\n",
       "│<span style=\"color: #7f7f7f; text-decoration-color: #7f7f7f\"> This Econ 101 course was informative and well-paced.   </span>│<span style=\"color: #7f7f7f; text-decoration-color: #7f7f7f\"> ['Enhance interactivity with more interactive elements </span>│\n",
       "│<span style=\"color: #7f7f7f; text-decoration-color: #7f7f7f\"> The professor was always prepared and encouraged       </span>│<span style=\"color: #7f7f7f; text-decoration-color: #7f7f7f\"> and discussions', 'Clarify and apply economic concepts </span>│\n",
       "│<span style=\"color: #7f7f7f; text-decoration-color: #7f7f7f\"> questions, making the material accessible. However,    </span>│<span style=\"color: #7f7f7f; text-decoration-color: #7f7f7f\"> using practical and real-life examples', 'Adjust class </span>│\n",
       "│<span style=\"color: #7f7f7f; text-decoration-color: #7f7f7f\"> the lecture hall was often overcrowded, which made it  </span>│<span style=\"color: #7f7f7f; text-decoration-color: #7f7f7f\"> structure by reducing size and increasing interaction  </span>│\n",
       "│<span style=\"color: #7f7f7f; text-decoration-color: #7f7f7f\"> hard to interact during class. The tests required a    </span>│<span style=\"color: #7f7f7f; text-decoration-color: #7f7f7f\"> opportunities']                                        </span>│\n",
       "│<span style=\"color: #7f7f7f; text-decoration-color: #7f7f7f\"> deep understanding of the material, which was good for </span>│<span style=\"color: #7f7f7f; text-decoration-color: #7f7f7f\">                                                        </span>│\n",
       "│<span style=\"color: #7f7f7f; text-decoration-color: #7f7f7f\"> learning. More visual aids and examples during         </span>│<span style=\"color: #7f7f7f; text-decoration-color: #7f7f7f\">                                                        </span>│\n",
       "│<span style=\"color: #7f7f7f; text-decoration-color: #7f7f7f\"> lectures would make this course perfect.               </span>│<span style=\"color: #7f7f7f; text-decoration-color: #7f7f7f\">                                                        </span>│\n",
       "└────────────────────────────────────────────────────────┴────────────────────────────────────────────────────────┘\n",
       "</pre>\n"
      ],
      "text/plain": [
       "┏━━━━━━━━━━━━━━━━━━━━━━━━━━━━━━━━━━━━━━━━━━━━━━━━━━━━━━━━┳━━━━━━━━━━━━━━━━━━━━━━━━━━━━━━━━━━━━━━━━━━━━━━━━━━━━━━━━┓\n",
       "┃\u001b[1;35m \u001b[0m\u001b[1;35mscenario                                              \u001b[0m\u001b[1;35m \u001b[0m┃\u001b[1;35m \u001b[0m\u001b[1;35manswer                                                \u001b[0m\u001b[1;35m \u001b[0m┃\n",
       "┃\u001b[1;35m \u001b[0m\u001b[1;35m.evaluation                                           \u001b[0m\u001b[1;35m \u001b[0m┃\u001b[1;35m \u001b[0m\u001b[1;35m.improvements_list                                    \u001b[0m\u001b[1;35m \u001b[0m┃\n",
       "┡━━━━━━━━━━━━━━━━━━━━━━━━━━━━━━━━━━━━━━━━━━━━━━━━━━━━━━━━╇━━━━━━━━━━━━━━━━━━━━━━━━━━━━━━━━━━━━━━━━━━━━━━━━━━━━━━━━┩\n",
       "│\u001b[2m \u001b[0m\u001b[2mThe professor explained economic principles clearly   \u001b[0m\u001b[2m \u001b[0m│\u001b[2m \u001b[0m\u001b[2m['Improve pacing and allocate more time for complex   \u001b[0m\u001b[2m \u001b[0m│\n",
       "│\u001b[2m \u001b[0m\u001b[2mand made the subject accessible. The course was       \u001b[0m\u001b[2m \u001b[0m│\u001b[2m \u001b[0m\u001b[2mtopics']                                              \u001b[0m\u001b[2m \u001b[0m│\n",
       "│\u001b[2m \u001b[0m\u001b[2mwell-structured, aligning textbook readings with      \u001b[0m\u001b[2m \u001b[0m│\u001b[2m                                                        \u001b[0m│\n",
       "│\u001b[2m \u001b[0m\u001b[2mpractical exercises. However, the lectures sometimes  \u001b[0m\u001b[2m \u001b[0m│\u001b[2m                                                        \u001b[0m│\n",
       "│\u001b[2m \u001b[0m\u001b[2mfelt a bit rushed. Office hours were extremely        \u001b[0m\u001b[2m \u001b[0m│\u001b[2m                                                        \u001b[0m│\n",
       "│\u001b[2m \u001b[0m\u001b[2mhelpful, especially before exams. Overall, this was a \u001b[0m\u001b[2m \u001b[0m│\u001b[2m                                                        \u001b[0m│\n",
       "│\u001b[2m \u001b[0m\u001b[2mvery informative course.                              \u001b[0m\u001b[2m \u001b[0m│\u001b[2m                                                        \u001b[0m│\n",
       "├────────────────────────────────────────────────────────┼────────────────────────────────────────────────────────┤\n",
       "│\u001b[2m \u001b[0m\u001b[2mI appreciated the real-world applications included in \u001b[0m\u001b[2m \u001b[0m│\u001b[2m \u001b[0m\u001b[2m['Improve project management with clearer guidelines  \u001b[0m\u001b[2m \u001b[0m│\n",
       "│\u001b[2m \u001b[0m\u001b[2mthe course, which made complex theories relatable. The\u001b[0m\u001b[2m \u001b[0m│\u001b[2m \u001b[0m\u001b[2mand adjusted deadlines', 'Ensure fair grading and     \u001b[0m\u001b[2m \u001b[0m│\n",
       "│\u001b[2m \u001b[0m\u001b[2mclass discussions were insightful but could be better \u001b[0m\u001b[2m \u001b[0m│\u001b[2m \u001b[0m\u001b[2mtimely feedback']                                     \u001b[0m\u001b[2m \u001b[0m│\n",
       "│\u001b[2m \u001b[0m\u001b[2mif more structured. The workload was reasonable,      \u001b[0m\u001b[2m \u001b[0m│\u001b[2m                                                        \u001b[0m│\n",
       "│\u001b[2m \u001b[0m\u001b[2mthough the project deadlines were tight. Feedback on  \u001b[0m\u001b[2m \u001b[0m│\u001b[2m                                                        \u001b[0m│\n",
       "│\u001b[2m \u001b[0m\u001b[2massignments was constructive and timely. I'd recommend\u001b[0m\u001b[2m \u001b[0m│\u001b[2m                                                        \u001b[0m│\n",
       "│\u001b[2m \u001b[0m\u001b[2mthis course to those interested in understanding      \u001b[0m\u001b[2m \u001b[0m│\u001b[2m                                                        \u001b[0m│\n",
       "│\u001b[2m \u001b[0m\u001b[2meconomics fundamentals.                               \u001b[0m\u001b[2m \u001b[0m│\u001b[2m                                                        \u001b[0m│\n",
       "├────────────────────────────────────────────────────────┼────────────────────────────────────────────────────────┤\n",
       "│\u001b[2m \u001b[0m\u001b[2mThe course was challenging, particularly the sections \u001b[0m\u001b[2m \u001b[0m│\u001b[2m \u001b[0m\u001b[2m['Improve pacing and allocate more time for complex   \u001b[0m\u001b[2m \u001b[0m│\n",
       "│\u001b[2m \u001b[0m\u001b[2mon microeconomics. The professor was knowledgeable but\u001b[0m\u001b[2m \u001b[0m│\u001b[2m \u001b[0m\u001b[2mtopics', 'Enhance interactivity with more interactive \u001b[0m\u001b[2m \u001b[0m│\n",
       "│\u001b[2m \u001b[0m\u001b[2msometimes skipped over foundational concepts too      \u001b[0m\u001b[2m \u001b[0m│\u001b[2m \u001b[0m\u001b[2melements and discussions', 'Provide additional support\u001b[0m\u001b[2m \u001b[0m│\n",
       "│\u001b[2m \u001b[0m\u001b[2mquickly. Visual aids used in lectures enhanced        \u001b[0m\u001b[2m \u001b[0m│\u001b[2m \u001b[0m\u001b[2msuch as review sessions and supplemental materials']  \u001b[0m\u001b[2m \u001b[0m│\n",
       "│\u001b[2m \u001b[0m\u001b[2mlearning, though more interactive components would be \u001b[0m\u001b[2m \u001b[0m│\u001b[2m                                                        \u001b[0m│\n",
       "│\u001b[2m \u001b[0m\u001b[2mbeneficial. Exams were fair but demanding. Overall, it\u001b[0m\u001b[2m \u001b[0m│\u001b[2m                                                        \u001b[0m│\n",
       "│\u001b[2m \u001b[0m\u001b[2mwas a rigorous introduction to economics.             \u001b[0m\u001b[2m \u001b[0m│\u001b[2m                                                        \u001b[0m│\n",
       "├────────────────────────────────────────────────────────┼────────────────────────────────────────────────────────┤\n",
       "│\u001b[2m \u001b[0m\u001b[2mThis Econ 101 course was engaging, thanks to the      \u001b[0m\u001b[2m \u001b[0m│\u001b[2m \u001b[0m\u001b[2m['Maintain high engagement with passion and relevant  \u001b[0m\u001b[2m \u001b[0m│\n",
       "│\u001b[2m \u001b[0m\u001b[2mprofessor's enthusiasm and clear explanations. Group  \u001b[0m\u001b[2m \u001b[0m│\u001b[2m \u001b[0m\u001b[2mexamples']                                            \u001b[0m\u001b[2m \u001b[0m│\n",
       "│\u001b[2m \u001b[0m\u001b[2mprojects facilitated a deeper understanding of the    \u001b[0m\u001b[2m \u001b[0m│\u001b[2m                                                        \u001b[0m│\n",
       "│\u001b[2m \u001b[0m\u001b[2mmaterial, although coordinating times was sometimes   \u001b[0m\u001b[2m \u001b[0m│\u001b[2m                                                        \u001b[0m│\n",
       "│\u001b[2m \u001b[0m\u001b[2mdifficult. The course materials were comprehensive and\u001b[0m\u001b[2m \u001b[0m│\u001b[2m                                                        \u001b[0m│\n",
       "│\u001b[2m \u001b[0m\u001b[2mwell-organized. I found the textbook particularly     \u001b[0m\u001b[2m \u001b[0m│\u001b[2m                                                        \u001b[0m│\n",
       "│\u001b[2m \u001b[0m\u001b[2museful. This class solidified my interest in further  \u001b[0m\u001b[2m \u001b[0m│\u001b[2m                                                        \u001b[0m│\n",
       "│\u001b[2m \u001b[0m\u001b[2meconomic studies.                                     \u001b[0m\u001b[2m \u001b[0m│\u001b[2m                                                        \u001b[0m│\n",
       "├────────────────────────────────────────────────────────┼────────────────────────────────────────────────────────┤\n",
       "│\u001b[2m \u001b[0m\u001b[2mThe course effectively covered a broad range of       \u001b[0m\u001b[2m \u001b[0m│\u001b[2m \u001b[0m\u001b[2m['Improve pacing and allocate more time for complex   \u001b[0m\u001b[2m \u001b[0m│\n",
       "│\u001b[2m \u001b[0m\u001b[2meconomic theories and models. However, the pace was   \u001b[0m\u001b[2m \u001b[0m│\u001b[2m \u001b[0m\u001b[2mtopics', 'Provide additional support such as review   \u001b[0m\u001b[2m \u001b[0m│\n",
       "│\u001b[2m \u001b[0m\u001b[2msometimes too fast, making it hard to absorb all the  \u001b[0m\u001b[2m \u001b[0m│\u001b[2m \u001b[0m\u001b[2msessions and supplemental materials']                 \u001b[0m\u001b[2m \u001b[0m│\n",
       "│\u001b[2m \u001b[0m\u001b[2minformation. The use of current events helped         \u001b[0m\u001b[2m \u001b[0m│\u001b[2m                                                        \u001b[0m│\n",
       "│\u001b[2m \u001b[0m\u001b[2millustrate how economic principles apply in real life.\u001b[0m\u001b[2m \u001b[0m│\u001b[2m                                                        \u001b[0m│\n",
       "│\u001b[2m \u001b[0m\u001b[2mI wish there were more opportunities for revising core\u001b[0m\u001b[2m \u001b[0m│\u001b[2m                                                        \u001b[0m│\n",
       "│\u001b[2m \u001b[0m\u001b[2mconcepts before exams. The professor was approachable \u001b[0m\u001b[2m \u001b[0m│\u001b[2m                                                        \u001b[0m│\n",
       "│\u001b[2m \u001b[0m\u001b[2mand knowledgeable.                                    \u001b[0m\u001b[2m \u001b[0m│\u001b[2m                                                        \u001b[0m│\n",
       "├────────────────────────────────────────────────────────┼────────────────────────────────────────────────────────┤\n",
       "│\u001b[2m \u001b[0m\u001b[2mThe professor used a variety of teaching methods,     \u001b[0m\u001b[2m \u001b[0m│\u001b[2m \u001b[0m\u001b[2m['Optimize assessments by diversifying types and      \u001b[0m\u001b[2m \u001b[0m│\n",
       "│\u001b[2m \u001b[0m\u001b[2mwhich catered to different learning styles. The       \u001b[0m\u001b[2m \u001b[0m│\u001b[2m \u001b[0m\u001b[2madjusting difficulty', 'Clarify and apply economic    \u001b[0m\u001b[2m \u001b[0m│\n",
       "│\u001b[2m \u001b[0m\u001b[2mPowerPoint presentations were detailed and useful for \u001b[0m\u001b[2m \u001b[0m│\u001b[2m \u001b[0m\u001b[2mconcepts using practical and real-life examples']     \u001b[0m\u001b[2m \u001b[0m│\n",
       "│\u001b[2m \u001b[0m\u001b[2mrevising. However, the reliance on multiple-choice    \u001b[0m\u001b[2m \u001b[0m│\u001b[2m                                                        \u001b[0m│\n",
       "│\u001b[2m \u001b[0m\u001b[2mquestions for assessments didn't fully test our       \u001b[0m\u001b[2m \u001b[0m│\u001b[2m                                                        \u001b[0m│\n",
       "│\u001b[2m \u001b[0m\u001b[2munderstanding of the material. Class participation was\u001b[0m\u001b[2m \u001b[0m│\u001b[2m                                                        \u001b[0m│\n",
       "│\u001b[2m \u001b[0m\u001b[2mencouraged, which made the course interactive. More   \u001b[0m\u001b[2m \u001b[0m│\u001b[2m                                                        \u001b[0m│\n",
       "│\u001b[2m \u001b[0m\u001b[2mcase studies could improve the learning experience.   \u001b[0m\u001b[2m \u001b[0m│\u001b[2m                                                        \u001b[0m│\n",
       "├────────────────────────────────────────────────────────┼────────────────────────────────────────────────────────┤\n",
       "│\u001b[2m \u001b[0m\u001b[2mAs a beginner to economics, I found the course to be a\u001b[0m\u001b[2m \u001b[0m│\u001b[2m \u001b[0m\u001b[2m['Ensure fair grading and timely feedback']           \u001b[0m\u001b[2m \u001b[0m│\n",
       "│\u001b[2m \u001b[0m\u001b[2msolid foundation. The mathematical aspects were well  \u001b[0m\u001b[2m \u001b[0m│\u001b[2m                                                        \u001b[0m│\n",
       "│\u001b[2m \u001b[0m\u001b[2mexplained, but the economic theories could be abstract\u001b[0m\u001b[2m \u001b[0m│\u001b[2m                                                        \u001b[0m│\n",
       "│\u001b[2m \u001b[0m\u001b[2mand challenging. The assignments were helpful for     \u001b[0m\u001b[2m \u001b[0m│\u001b[2m                                                        \u001b[0m│\n",
       "│\u001b[2m \u001b[0m\u001b[2mreinforcing the lectures. Feedback was sometimes slow \u001b[0m\u001b[2m \u001b[0m│\u001b[2m                                                        \u001b[0m│\n",
       "│\u001b[2m \u001b[0m\u001b[2mbut always helpful. This course demands attention and \u001b[0m\u001b[2m \u001b[0m│\u001b[2m                                                        \u001b[0m│\n",
       "│\u001b[2m \u001b[0m\u001b[2mstudy but is very rewarding.                          \u001b[0m\u001b[2m \u001b[0m│\u001b[2m                                                        \u001b[0m│\n",
       "├────────────────────────────────────────────────────────┼────────────────────────────────────────────────────────┤\n",
       "│\u001b[2m \u001b[0m\u001b[2mThis was a well-taught course with a clear emphasis on\u001b[0m\u001b[2m \u001b[0m│\u001b[2m \u001b[0m\u001b[2m['Provide additional support such as review sessions  \u001b[0m\u001b[2m \u001b[0m│\n",
       "│\u001b[2m \u001b[0m\u001b[2mpractical applications of economics. The examples used\u001b[0m\u001b[2m \u001b[0m│\u001b[2m \u001b[0m\u001b[2mand supplemental materials', 'Enhance resources with  \u001b[0m\u001b[2m \u001b[0m│\n",
       "│\u001b[2m \u001b[0m\u001b[2min class were current and relevant, which kept the    \u001b[0m\u001b[2m \u001b[0m│\u001b[2m \u001b[0m\u001b[2mcurated reading materials and optional lists']        \u001b[0m\u001b[2m \u001b[0m│\n",
       "│\u001b[2m \u001b[0m\u001b[2mcontent interesting. The exams were comprehensive and \u001b[0m\u001b[2m \u001b[0m│\u001b[2m                                                        \u001b[0m│\n",
       "│\u001b[2m \u001b[0m\u001b[2ma good measure of our understanding. However, the     \u001b[0m\u001b[2m \u001b[0m│\u001b[2m                                                        \u001b[0m│\n",
       "│\u001b[2m \u001b[0m\u001b[2mreading material was extensive and sometimes          \u001b[0m\u001b[2m \u001b[0m│\u001b[2m                                                        \u001b[0m│\n",
       "│\u001b[2m \u001b[0m\u001b[2moverwhelming. More supplemental resources would be    \u001b[0m\u001b[2m \u001b[0m│\u001b[2m                                                        \u001b[0m│\n",
       "│\u001b[2m \u001b[0m\u001b[2mhelpful.                                              \u001b[0m\u001b[2m \u001b[0m│\u001b[2m                                                        \u001b[0m│\n",
       "├────────────────────────────────────────────────────────┼────────────────────────────────────────────────────────┤\n",
       "│\u001b[2m \u001b[0m\u001b[2mThe professor was passionate about economics, which   \u001b[0m\u001b[2m \u001b[0m│\u001b[2m \u001b[0m\u001b[2m['Maintain high engagement with passion and relevant  \u001b[0m\u001b[2m \u001b[0m│\n",
       "│\u001b[2m \u001b[0m\u001b[2mmade the class more engaging. The lectures were packed\u001b[0m\u001b[2m \u001b[0m│\u001b[2m \u001b[0m\u001b[2mexamples', 'Ensure fair grading and timely feedback'] \u001b[0m\u001b[2m \u001b[0m│\n",
       "│\u001b[2m \u001b[0m\u001b[2mwith information, and the examples provided were      \u001b[0m\u001b[2m \u001b[0m│\u001b[2m                                                        \u001b[0m│\n",
       "│\u001b[2m \u001b[0m\u001b[2mrelevant. The grading was strict but fair, and it     \u001b[0m\u001b[2m \u001b[0m│\u001b[2m                                                        \u001b[0m│\n",
       "│\u001b[2m \u001b[0m\u001b[2mpushed us to work harder. The final project was a     \u001b[0m\u001b[2m \u001b[0m│\u001b[2m                                                        \u001b[0m│\n",
       "│\u001b[2m \u001b[0m\u001b[2mgreat way to apply what we learned in a practical     \u001b[0m\u001b[2m \u001b[0m│\u001b[2m                                                        \u001b[0m│\n",
       "│\u001b[2m \u001b[0m\u001b[2mscenario. I would recommend this course for anyone    \u001b[0m\u001b[2m \u001b[0m│\u001b[2m                                                        \u001b[0m│\n",
       "│\u001b[2m \u001b[0m\u001b[2mlooking to start a career in economics.               \u001b[0m\u001b[2m \u001b[0m│\u001b[2m                                                        \u001b[0m│\n",
       "├────────────────────────────────────────────────────────┼────────────────────────────────────────────────────────┤\n",
       "│\u001b[2m \u001b[0m\u001b[2mThis Econ 101 course was informative and well-paced.  \u001b[0m\u001b[2m \u001b[0m│\u001b[2m \u001b[0m\u001b[2m['Enhance interactivity with more interactive elements\u001b[0m\u001b[2m \u001b[0m│\n",
       "│\u001b[2m \u001b[0m\u001b[2mThe professor was always prepared and encouraged      \u001b[0m\u001b[2m \u001b[0m│\u001b[2m \u001b[0m\u001b[2mand discussions', 'Clarify and apply economic concepts\u001b[0m\u001b[2m \u001b[0m│\n",
       "│\u001b[2m \u001b[0m\u001b[2mquestions, making the material accessible. However,   \u001b[0m\u001b[2m \u001b[0m│\u001b[2m \u001b[0m\u001b[2musing practical and real-life examples', 'Adjust class\u001b[0m\u001b[2m \u001b[0m│\n",
       "│\u001b[2m \u001b[0m\u001b[2mthe lecture hall was often overcrowded, which made it \u001b[0m\u001b[2m \u001b[0m│\u001b[2m \u001b[0m\u001b[2mstructure by reducing size and increasing interaction \u001b[0m\u001b[2m \u001b[0m│\n",
       "│\u001b[2m \u001b[0m\u001b[2mhard to interact during class. The tests required a   \u001b[0m\u001b[2m \u001b[0m│\u001b[2m \u001b[0m\u001b[2mopportunities']                                       \u001b[0m\u001b[2m \u001b[0m│\n",
       "│\u001b[2m \u001b[0m\u001b[2mdeep understanding of the material, which was good for\u001b[0m\u001b[2m \u001b[0m│\u001b[2m                                                        \u001b[0m│\n",
       "│\u001b[2m \u001b[0m\u001b[2mlearning. More visual aids and examples during        \u001b[0m\u001b[2m \u001b[0m│\u001b[2m                                                        \u001b[0m│\n",
       "│\u001b[2m \u001b[0m\u001b[2mlectures would make this course perfect.              \u001b[0m\u001b[2m \u001b[0m│\u001b[2m                                                        \u001b[0m│\n",
       "└────────────────────────────────────────────────────────┴────────────────────────────────────────────────────────┘\n"
      ]
     },
     "metadata": {},
     "output_type": "display_data"
    }
   ],
   "source": [
    "improvements_lists = q_improvements_list.by(scenarios).run()\n",
    "improvements_lists.select(\"evaluation\", \"improvements_list\").print(format=\"rich\")"
   ]
  },
  {
   "cell_type": "code",
   "execution_count": 32,
   "id": "92616cbf-8240-4077-b1b0-c335a4f7f2f9",
   "metadata": {},
   "outputs": [
    {
     "name": "stdout",
     "output_type": "stream",
     "text": [
      "                                         Improvement  Evaluations\n",
      "1            Ensure fair grading and timely feedback            3\n",
      "4  Improve pacing and allocate more time for comp...            3\n",
      "6  Provide additional support such as review sess...            3\n",
      "2  Maintain high engagement with passion and rele...            2\n",
      "3  Enhance interactivity with more interactive el...            2\n",
      "7  Clarify and apply economic concepts using prac...            2\n",
      "0  Adjust class structure by reducing size and in...            1\n",
      "5  Enhance resources with curated reading materia...            1\n",
      "8  Improve project management with clearer guidel...            1\n",
      "9  Optimize assessments by diversifying types and...            1\n"
     ]
    }
   ],
   "source": [
    "import pandas as pd\n",
    "from collections import Counter\n",
    "\n",
    "improvements_lists = improvements_lists.select(\"improvements_list\").to_list()\n",
    "\n",
    "flat_list = [(theme, idx) for idx, themes in enumerate(improvements_lists) for theme in themes]\n",
    "count = Counter(theme for theme, idx in set(flat_list))\n",
    "\n",
    "df = pd.DataFrame(list(count.items()), columns=['Improvement', 'Evaluations'])\n",
    "print(df.sort_values(by='Evaluations', ascending=False))"
   ]
  },
  {
   "cell_type": "code",
   "execution_count": null,
   "id": "a2d7205b-0166-41cd-9f2b-c7f2b038bd5b",
   "metadata": {},
   "outputs": [],
   "source": []
  }
 ],
 "metadata": {
  "kernelspec": {
   "display_name": "Python 3 (ipykernel)",
   "language": "python",
   "name": "python3"
  },
  "language_info": {
   "codemirror_mode": {
    "name": "ipython",
    "version": 3
   },
   "file_extension": ".py",
   "mimetype": "text/x-python",
   "name": "python",
   "nbconvert_exporter": "python",
   "pygments_lexer": "ipython3",
   "version": "3.11.7"
  }
 },
 "nbformat": 4,
 "nbformat_minor": 5
}
