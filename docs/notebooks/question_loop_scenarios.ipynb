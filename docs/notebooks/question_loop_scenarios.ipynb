{
 "cells": [
  {
   "cell_type": "markdown",
   "id": "8172e0d4-7932-4faa-b138-080eb1a3f651",
   "metadata": {},
   "source": [
    "# Features for generating multiple versions of questions: scenarios & looping\n",
    "EDSL comes with a variety of features for efficiently creating different versions of questions to be administered at once--e.g., a set of questions for a data labeling task that you want to run for every piece of data in a large dataset. This notebook demonstrates key methods for doing this with `Scenario` objects.\n",
    "\n",
    "## What is a `Scenario`?\n",
    "A `Scenario` is a dictionary containing a key/value pair that is used to add data or content to questions in a survey, replacing a parameter in a question with a specific value. A `ScenarioList` is a list of `Scenario` objects. \n",
    "Scenarios can be added to questions when you are constructing a survey or when you are running it, allowing you to automatically generate variations and versions of questions efficiently.\n",
    "\n",
    "## Methods\n",
    "\n",
    "**Looping a question with scenarios:**\n",
    "Each `Question` object (`QuestionMultipleChoice`, `QuestionFreeText`, etc.) has a `loop()` method that automatically generates a copy of the question for each scenario in a `ScenarioList` that is passed to it. The `loop()` method is used when survey questions are being constructed. For example, we can construct a question, call the `loop()` method on it to generate versions of it, and then pass them as a list to a `Survey`.\n",
    "\n",
    "**Running a question with scenarios:**\n",
    "A `Scenario` or `ScenarioList` can also be passed to a question or survey at the time that it is run. This is done by calling the `by()` method, passing it the scenarios, and then calling the `run()` method.\n",
    "\n",
    "In the steps below we demonstrate examples of both of these options for scaling questions.\n",
    "\n",
    "Questions? Comments? Please send us a message at *info@expectedparrot.com* or join our Discord: https://discord.com/invite/mxAYkjfy9m"
   ]
  },
  {
   "cell_type": "markdown",
   "id": "c5b65b92-63f1-4d1d-a09d-c95f0b45e259",
   "metadata": {},
   "source": [
    "## Looping a question with scenarios\n",
    "The `loop()` method is called on a `Question` object, and takes a `ScenarioList` of values to be inserted in copies of the question. We can optionally use the scenario key in the question name as well (so long as it is Pythonic); otherwise, unique identifiers are added to the original question name."
   ]
  },
  {
   "cell_type": "code",
   "execution_count": 1,
   "id": "34968a06-33a1-46fd-9ef1-d83840b1f5b7",
   "metadata": {},
   "outputs": [],
   "source": [
    "from edsl import QuestionFreeText, ScenarioList, Survey"
   ]
  },
  {
   "cell_type": "code",
   "execution_count": 2,
   "id": "21e1dc12-3172-43b1-9f6c-1fefe8bab5b3",
   "metadata": {},
   "outputs": [],
   "source": [
    "q_features = QuestionFreeText(\n",
    "    question_name = \"{{ sailboat_model }}_features\",\n",
    "    question_text = \"What are the features of this sailboat model: {{ sailboat_model }}\"\n",
    ")"
   ]
  },
  {
   "cell_type": "markdown",
   "id": "1bfcb515-b4fb-4e86-be85-a58de6b27f4c",
   "metadata": {},
   "source": [
    "We can use the `from_list()` method to construct a scenario list from a list. [Learn about other methods for generating scenario lists](https://docs.expectedparrot.com/en/latest/scenarios.html) from other data types (PDFs, CSVs, docs, tables, images, etc.)."
   ]
  },
  {
   "cell_type": "code",
   "execution_count": 3,
   "id": "ffaebbca-1b1c-4454-bd88-0817516809b4",
   "metadata": {},
   "outputs": [
    {
     "data": {
      "text/html": [
       "<div class=\"highlight\"><pre><span></span><span class=\"p\">{</span>\n",
       "<span class=\"w\">    </span><span class=\"nt\">&quot;scenarios&quot;</span><span class=\"p\">:</span><span class=\"w\"> </span><span class=\"p\">[</span>\n",
       "<span class=\"w\">        </span><span class=\"p\">{</span>\n",
       "<span class=\"w\">            </span><span class=\"nt\">&quot;sailboat_model&quot;</span><span class=\"p\">:</span><span class=\"w\"> </span><span class=\"s2\">&quot;Laser&quot;</span>\n",
       "<span class=\"w\">        </span><span class=\"p\">},</span>\n",
       "<span class=\"w\">        </span><span class=\"p\">{</span>\n",
       "<span class=\"w\">            </span><span class=\"nt\">&quot;sailboat_model&quot;</span><span class=\"p\">:</span><span class=\"w\"> </span><span class=\"s2\">&quot;Sunfish&quot;</span>\n",
       "<span class=\"w\">        </span><span class=\"p\">},</span>\n",
       "<span class=\"w\">        </span><span class=\"p\">{</span>\n",
       "<span class=\"w\">            </span><span class=\"nt\">&quot;sailboat_model&quot;</span><span class=\"p\">:</span><span class=\"w\"> </span><span class=\"s2\">&quot;Optimist&quot;</span>\n",
       "<span class=\"w\">        </span><span class=\"p\">},</span>\n",
       "<span class=\"w\">        </span><span class=\"p\">{</span>\n",
       "<span class=\"w\">            </span><span class=\"nt\">&quot;sailboat_model&quot;</span><span class=\"p\">:</span><span class=\"w\"> </span><span class=\"s2\">&quot;Finn&quot;</span>\n",
       "<span class=\"w\">        </span><span class=\"p\">}</span>\n",
       "<span class=\"w\">    </span><span class=\"p\">]</span>\n",
       "<span class=\"p\">}</span>\n",
       "</pre></div>\n"
      ],
      "text/plain": [
       "ScenarioList([Scenario({'sailboat_model': 'Laser'}), Scenario({'sailboat_model': 'Sunfish'}), Scenario({'sailboat_model': 'Optimist'}), Scenario({'sailboat_model': 'Finn'})])"
      ]
     },
     "execution_count": 3,
     "metadata": {},
     "output_type": "execute_result"
    }
   ],
   "source": [
    "scenariolist = ScenarioList.from_list(\"sailboat_model\", ['Laser', 'Sunfish', 'Optimist', 'Finn'])\n",
    "scenariolist"
   ]
  },
  {
   "cell_type": "markdown",
   "id": "e9e4181d-6687-4cba-bb55-85284c499ab3",
   "metadata": {},
   "source": [
    "We call the `loop()` method with the scenario list to create a list of the copies of the question:"
   ]
  },
  {
   "cell_type": "code",
   "execution_count": 4,
   "id": "a197b36d-703c-4baf-9929-89bd9fc5b2d1",
   "metadata": {},
   "outputs": [
    {
     "data": {
      "text/plain": [
       "[Question('free_text', question_name = \"\"\"Laser_features\"\"\", question_text = \"\"\"What are the features of this sailboat model: Laser\"\"\"),\n",
       " Question('free_text', question_name = \"\"\"Sunfish_features\"\"\", question_text = \"\"\"What are the features of this sailboat model: Sunfish\"\"\"),\n",
       " Question('free_text', question_name = \"\"\"Optimist_features\"\"\", question_text = \"\"\"What are the features of this sailboat model: Optimist\"\"\"),\n",
       " Question('free_text', question_name = \"\"\"Finn_features\"\"\", question_text = \"\"\"What are the features of this sailboat model: Finn\"\"\")]"
      ]
     },
     "execution_count": 4,
     "metadata": {},
     "output_type": "execute_result"
    }
   ],
   "source": [
    "questions = q_features.loop(scenariolist)\n",
    "questions"
   ]
  },
  {
   "cell_type": "markdown",
   "id": "4decaf96-799e-4c0b-b830-30908850d140",
   "metadata": {},
   "source": [
    "We can pass the questions to a `Survey` and then run it:"
   ]
  },
  {
   "cell_type": "code",
   "execution_count": 5,
   "id": "16d79dd3-b447-44d6-99d7-147224d43627",
   "metadata": {},
   "outputs": [],
   "source": [
    "results = Survey(questions = questions).run()"
   ]
  },
  {
   "cell_type": "markdown",
   "id": "e8991829-551d-47cc-8687-e90f5a4917c0",
   "metadata": {},
   "source": [
    "To see all the fields of the `Results` dataset that have been generated:"
   ]
  },
  {
   "cell_type": "code",
   "execution_count": 6,
   "id": "2bd2401e-0ca9-4eb6-9bee-3540f06342f0",
   "metadata": {},
   "outputs": [
    {
     "data": {
      "text/plain": [
       "['agent.agent_instruction',\n",
       " 'agent.agent_name',\n",
       " 'answer.Finn_features',\n",
       " 'answer.Laser_features',\n",
       " 'answer.Optimist_features',\n",
       " 'answer.Sunfish_features',\n",
       " 'model.frequency_penalty',\n",
       " 'model.logprobs',\n",
       " 'model.max_tokens',\n",
       " 'model.model',\n",
       " 'model.presence_penalty',\n",
       " 'model.temperature',\n",
       " 'model.top_logprobs',\n",
       " 'model.top_p',\n",
       " 'prompt.Finn_features_system_prompt',\n",
       " 'prompt.Finn_features_user_prompt',\n",
       " 'prompt.Laser_features_system_prompt',\n",
       " 'prompt.Laser_features_user_prompt',\n",
       " 'prompt.Optimist_features_system_prompt',\n",
       " 'prompt.Optimist_features_user_prompt',\n",
       " 'prompt.Sunfish_features_system_prompt',\n",
       " 'prompt.Sunfish_features_user_prompt',\n",
       " 'question_options.Finn_features_question_options',\n",
       " 'question_options.Laser_features_question_options',\n",
       " 'question_options.Optimist_features_question_options',\n",
       " 'question_options.Sunfish_features_question_options',\n",
       " 'question_text.Finn_features_question_text',\n",
       " 'question_text.Laser_features_question_text',\n",
       " 'question_text.Optimist_features_question_text',\n",
       " 'question_text.Sunfish_features_question_text',\n",
       " 'question_type.Finn_features_question_type',\n",
       " 'question_type.Laser_features_question_type',\n",
       " 'question_type.Optimist_features_question_type',\n",
       " 'question_type.Sunfish_features_question_type',\n",
       " 'raw_model_response.Finn_features_raw_model_response',\n",
       " 'raw_model_response.Laser_features_raw_model_response',\n",
       " 'raw_model_response.Optimist_features_raw_model_response',\n",
       " 'raw_model_response.Sunfish_features_raw_model_response']"
      ]
     },
     "execution_count": 6,
     "metadata": {},
     "output_type": "execute_result"
    }
   ],
   "source": [
    "results.columns"
   ]
  },
  {
   "cell_type": "markdown",
   "id": "98e3adec-85ce-42a1-954b-bafa77fbe5bd",
   "metadata": {},
   "source": [
    "Note that there is *not* a separate field for the scenarios that were added to the questions, and we instead can access each individual answer field (compare to results when scenarios are added to a survey when running it below):"
   ]
  },
  {
   "cell_type": "code",
   "execution_count": 7,
   "id": "328d0888-fe44-4e1c-a781-a88fac78cbbf",
   "metadata": {},
   "outputs": [
    {
     "data": {
      "text/html": [
       "<pre style=\"white-space:pre;overflow-x:auto;line-height:normal;font-family:Menlo,'DejaVu Sans Mono',consolas,'Courier New',monospace\">┏━━━━━━━━━━━━━━━━━━━━━━━━━━━━┳━━━━━━━━━━━━━━━━━━━━━━━━━━━┳━━━━━━━━━━━━━━━━━━━━━━━━━━━━┳━━━━━━━━━━━━━━━━━━━━━━━━━━━┓\n",
       "┃<span style=\"color: #800080; text-decoration-color: #800080; font-weight: bold\"> answer                     </span>┃<span style=\"color: #800080; text-decoration-color: #800080; font-weight: bold\"> answer                    </span>┃<span style=\"color: #800080; text-decoration-color: #800080; font-weight: bold\"> answer                     </span>┃<span style=\"color: #800080; text-decoration-color: #800080; font-weight: bold\"> answer                    </span>┃\n",
       "┃<span style=\"color: #800080; text-decoration-color: #800080; font-weight: bold\"> .Laser_features            </span>┃<span style=\"color: #800080; text-decoration-color: #800080; font-weight: bold\"> .Sunfish_features         </span>┃<span style=\"color: #800080; text-decoration-color: #800080; font-weight: bold\"> .Finn_features             </span>┃<span style=\"color: #800080; text-decoration-color: #800080; font-weight: bold\"> .Optimist_features        </span>┃\n",
       "┡━━━━━━━━━━━━━━━━━━━━━━━━━━━━╇━━━━━━━━━━━━━━━━━━━━━━━━━━━╇━━━━━━━━━━━━━━━━━━━━━━━━━━━━╇━━━━━━━━━━━━━━━━━━━━━━━━━━━┩\n",
       "│<span style=\"color: #7f7f7f; text-decoration-color: #7f7f7f\"> The Laser is a popular     </span>│<span style=\"color: #7f7f7f; text-decoration-color: #7f7f7f\"> The Sunfish is a popular  </span>│<span style=\"color: #7f7f7f; text-decoration-color: #7f7f7f\"> The Finn sailboat is a     </span>│<span style=\"color: #7f7f7f; text-decoration-color: #7f7f7f\"> The Optimist, also known  </span>│\n",
       "│<span style=\"color: #7f7f7f; text-decoration-color: #7f7f7f\"> one-design class of small  </span>│<span style=\"color: #7f7f7f; text-decoration-color: #7f7f7f\"> single-handed, cat-rigged </span>│<span style=\"color: #7f7f7f; text-decoration-color: #7f7f7f\"> single-handed, cat-rigged  </span>│<span style=\"color: #7f7f7f; text-decoration-color: #7f7f7f\"> as the 'Opti', or         </span>│\n",
       "│<span style=\"color: #7f7f7f; text-decoration-color: #7f7f7f\"> sailing dinghy, originally </span>│<span style=\"color: #7f7f7f; text-decoration-color: #7f7f7f\"> small sailboat. It        </span>│<span style=\"color: #7f7f7f; text-decoration-color: #7f7f7f\"> Olympic class dinghy. It   </span>│<span style=\"color: #7f7f7f; text-decoration-color: #7f7f7f\"> 'Oppie', is a small,      </span>│\n",
       "│<span style=\"color: #7f7f7f; text-decoration-color: #7f7f7f\"> built by Bruce Kirby. Its  </span>│<span style=\"color: #7f7f7f; text-decoration-color: #7f7f7f\"> features a flat, angular  </span>│<span style=\"color: #7f7f7f; text-decoration-color: #7f7f7f\"> features a powerful sail   </span>│<span style=\"color: #7f7f7f; text-decoration-color: #7f7f7f\"> single-handed sailing     </span>│\n",
       "│<span style=\"color: #7f7f7f; text-decoration-color: #7f7f7f\"> features include a         </span>│<span style=\"color: #7f7f7f; text-decoration-color: #7f7f7f\"> design and a lateen sail  </span>│<span style=\"color: #7f7f7f; text-decoration-color: #7f7f7f\"> plan and a deep, slender   </span>│<span style=\"color: #7f7f7f; text-decoration-color: #7f7f7f\"> dinghy intended for use   </span>│\n",
       "│<span style=\"color: #7f7f7f; text-decoration-color: #7f7f7f\"> single-handed design, a    </span>│<span style=\"color: #7f7f7f; text-decoration-color: #7f7f7f\"> mounted to an un-stayed   </span>│<span style=\"color: #7f7f7f; text-decoration-color: #7f7f7f\"> hull with a heavy weight,  </span>│<span style=\"color: #7f7f7f; text-decoration-color: #7f7f7f\"> by children up to the age </span>│\n",
       "│<span style=\"color: #7f7f7f; text-decoration-color: #7f7f7f\"> monohull with a Bermuda    </span>│<span style=\"color: #7f7f7f; text-decoration-color: #7f7f7f\"> mast. It's known for its  </span>│<span style=\"color: #7f7f7f; text-decoration-color: #7f7f7f\"> which makes it well-suited </span>│<span style=\"color: #7f7f7f; text-decoration-color: #7f7f7f\"> of 15. Here are some of   </span>│\n",
       "│<span style=\"color: #7f7f7f; text-decoration-color: #7f7f7f\"> rig, and a very simple     </span>│<span style=\"color: #7f7f7f; text-decoration-color: #7f7f7f\"> simplicity and ease of    </span>│<span style=\"color: #7f7f7f; text-decoration-color: #7f7f7f\"> for heavier sailors. The   </span>│<span style=\"color: #7f7f7f; text-decoration-color: #7f7f7f\"> its features:             </span>│\n",
       "│<span style=\"color: #7f7f7f; text-decoration-color: #7f7f7f\"> setup that makes it easy   </span>│<span style=\"color: #7f7f7f; text-decoration-color: #7f7f7f\"> use, which makes it a     </span>│<span style=\"color: #7f7f7f; text-decoration-color: #7f7f7f\"> boat is known for its      </span>│<span style=\"color: #7f7f7f; text-decoration-color: #7f7f7f\"> - It has a pram hull,     </span>│\n",
       "│<span style=\"color: #7f7f7f; text-decoration-color: #7f7f7f\"> to sail and race. It is    </span>│<span style=\"color: #7f7f7f; text-decoration-color: #7f7f7f\"> favorite for beginner     </span>│<span style=\"color: #7f7f7f; text-decoration-color: #7f7f7f\"> physical demand on the     </span>│<span style=\"color: #7f7f7f; text-decoration-color: #7f7f7f\"> which means it has a flat </span>│\n",
       "│<span style=\"color: #7f7f7f; text-decoration-color: #7f7f7f\"> known for its lightweight, </span>│<span style=\"color: #7f7f7f; text-decoration-color: #7f7f7f\"> sailors, yet it's also    </span>│<span style=\"color: #7f7f7f; text-decoration-color: #7f7f7f\"> sailor, requiring          </span>│<span style=\"color: #7f7f7f; text-decoration-color: #7f7f7f\"> bottom and a squared-off  </span>│\n",
       "│<span style=\"color: #7f7f7f; text-decoration-color: #7f7f7f\"> at around 130 pounds (59   </span>│<span style=\"color: #7f7f7f; text-decoration-color: #7f7f7f\"> enjoyed by experienced    </span>│<span style=\"color: #7f7f7f; text-decoration-color: #7f7f7f\"> significant strength,      </span>│<span style=\"color: #7f7f7f; text-decoration-color: #7f7f7f\"> bow.                      </span>│\n",
       "│<span style=\"color: #7f7f7f; text-decoration-color: #7f7f7f\"> kg) for the hull, and has  </span>│<span style=\"color: #7f7f7f; text-decoration-color: #7f7f7f\"> racers. The hull is       </span>│<span style=\"color: #7f7f7f; text-decoration-color: #7f7f7f\"> stamina, and skill. The    </span>│<span style=\"color: #7f7f7f; text-decoration-color: #7f7f7f\"> - The length of an        </span>│\n",
       "│<span style=\"color: #7f7f7f; text-decoration-color: #7f7f7f\"> a length of approximately  </span>│<span style=\"color: #7f7f7f; text-decoration-color: #7f7f7f\"> fiberglass with a foam    </span>│<span style=\"color: #7f7f7f; text-decoration-color: #7f7f7f\"> Finn is equipped with a    </span>│<span style=\"color: #7f7f7f; text-decoration-color: #7f7f7f\"> Optimist is 2.31 meters   </span>│\n",
       "│<span style=\"color: #7f7f7f; text-decoration-color: #7f7f7f\"> 13.78 feet (4.2 meters).   </span>│<span style=\"color: #7f7f7f; text-decoration-color: #7f7f7f\"> core, and the boat has a  </span>│<span style=\"color: #7f7f7f; text-decoration-color: #7f7f7f\"> large, fully battened      </span>│<span style=\"color: #7f7f7f; text-decoration-color: #7f7f7f\"> (7 ft 6 in), and the      </span>│\n",
       "│<span style=\"color: #7f7f7f; text-decoration-color: #7f7f7f\"> The Laser is designed to   </span>│<span style=\"color: #7f7f7f; text-decoration-color: #7f7f7f\"> shallow draft, making it  </span>│<span style=\"color: #7f7f7f; text-decoration-color: #7f7f7f\"> mainsail, an adjustable    </span>│<span style=\"color: #7f7f7f; text-decoration-color: #7f7f7f\"> width (beam) is 1.13      </span>│\n",
       "│<span style=\"color: #7f7f7f; text-decoration-color: #7f7f7f\"> be sailed by one person    </span>│<span style=\"color: #7f7f7f; text-decoration-color: #7f7f7f\"> easy to beach and launch. </span>│<span style=\"color: #7f7f7f; text-decoration-color: #7f7f7f\"> mast, and a rudder and     </span>│<span style=\"color: #7f7f7f; text-decoration-color: #7f7f7f\"> meters (3 ft 8 in).       </span>│\n",
       "│<span style=\"color: #7f7f7f; text-decoration-color: #7f7f7f\"> and has a single mainsail. </span>│<span style=\"color: #7f7f7f; text-decoration-color: #7f7f7f\"> It typically includes a   </span>│<span style=\"color: #7f7f7f; text-decoration-color: #7f7f7f\"> centerboard to control its </span>│<span style=\"color: #7f7f7f; text-decoration-color: #7f7f7f\"> - The sail area is        </span>│\n",
       "│<span style=\"color: #7f7f7f; text-decoration-color: #7f7f7f\"> The class has strict       </span>│<span style=\"color: #7f7f7f; text-decoration-color: #7f7f7f\"> cockpit with a storage    </span>│<span style=\"color: #7f7f7f; text-decoration-color: #7f7f7f\"> course. It has been used   </span>│<span style=\"color: #7f7f7f; text-decoration-color: #7f7f7f\"> typically about 3.3       </span>│\n",
       "│<span style=\"color: #7f7f7f; text-decoration-color: #7f7f7f\"> one-design rules, which    </span>│<span style=\"color: #7f7f7f; text-decoration-color: #7f7f7f\"> compartment, a            </span>│<span style=\"color: #7f7f7f; text-decoration-color: #7f7f7f\"> in Olympic competition     </span>│<span style=\"color: #7f7f7f; text-decoration-color: #7f7f7f\"> square meters (35 sq ft). </span>│\n",
       "│<span style=\"color: #7f7f7f; text-decoration-color: #7f7f7f\"> means that all boats are   </span>│<span style=\"color: #7f7f7f; text-decoration-color: #7f7f7f\"> daggerboard, and a        </span>│<span style=\"color: #7f7f7f; text-decoration-color: #7f7f7f\"> since the 1952 Helsinki    </span>│<span style=\"color: #7f7f7f; text-decoration-color: #7f7f7f\"> - It is usually           </span>│\n",
       "│<span style=\"color: #7f7f7f; text-decoration-color: #7f7f7f\"> virtually identical,       </span>│<span style=\"color: #7f7f7f; text-decoration-color: #7f7f7f\"> kick-up rudder system.    </span>│<span style=\"color: #7f7f7f; text-decoration-color: #7f7f7f\"> Games and has a rich       </span>│<span style=\"color: #7f7f7f; text-decoration-color: #7f7f7f\"> constructed of            </span>│\n",
       "│<span style=\"color: #7f7f7f; text-decoration-color: #7f7f7f\"> allowing races to be       </span>│<span style=\"color: #7f7f7f; text-decoration-color: #7f7f7f\"> The Sunfish is            </span>│<span style=\"color: #7f7f7f; text-decoration-color: #7f7f7f\"> history within the sailing </span>│<span style=\"color: #7f7f7f; text-decoration-color: #7f7f7f\"> fiberglass, although      </span>│\n",
       "│<span style=\"color: #7f7f7f; text-decoration-color: #7f7f7f\"> decided by sailor skill    </span>│<span style=\"color: #7f7f7f; text-decoration-color: #7f7f7f\"> lightweight, often around </span>│<span style=\"color: #7f7f7f; text-decoration-color: #7f7f7f\"> community.                 </span>│<span style=\"color: #7f7f7f; text-decoration-color: #7f7f7f\"> wooden versions do exist. </span>│\n",
       "│<span style=\"color: #7f7f7f; text-decoration-color: #7f7f7f\"> rather than boat           </span>│<span style=\"color: #7f7f7f; text-decoration-color: #7f7f7f\"> 120-130 pounds, which     </span>│<span style=\"color: #7f7f7f; text-decoration-color: #7f7f7f\">                            </span>│<span style=\"color: #7f7f7f; text-decoration-color: #7f7f7f\"> - The boat is designed    </span>│\n",
       "│<span style=\"color: #7f7f7f; text-decoration-color: #7f7f7f\"> equipment. Lasers are      </span>│<span style=\"color: #7f7f7f; text-decoration-color: #7f7f7f\"> makes it easy to          </span>│<span style=\"color: #7f7f7f; text-decoration-color: #7f7f7f\">                            </span>│<span style=\"color: #7f7f7f; text-decoration-color: #7f7f7f\"> for beginners and is      </span>│\n",
       "│<span style=\"color: #7f7f7f; text-decoration-color: #7f7f7f\"> equipped with different    </span>│<span style=\"color: #7f7f7f; text-decoration-color: #7f7f7f\"> transport on top of a     </span>│<span style=\"color: #7f7f7f; text-decoration-color: #7f7f7f\">                            </span>│<span style=\"color: #7f7f7f; text-decoration-color: #7f7f7f\"> relatively stable and     </span>│\n",
       "│<span style=\"color: #7f7f7f; text-decoration-color: #7f7f7f\"> sail sizes: Standard,      </span>│<span style=\"color: #7f7f7f; text-decoration-color: #7f7f7f\"> vehicle or on a           </span>│<span style=\"color: #7f7f7f; text-decoration-color: #7f7f7f\">                            </span>│<span style=\"color: #7f7f7f; text-decoration-color: #7f7f7f\"> easy to sail.             </span>│\n",
       "│<span style=\"color: #7f7f7f; text-decoration-color: #7f7f7f\"> Radial, and 4.7, to        </span>│<span style=\"color: #7f7f7f; text-decoration-color: #7f7f7f\"> lightweight trailer. It's </span>│<span style=\"color: #7f7f7f; text-decoration-color: #7f7f7f\">                            </span>│<span style=\"color: #7f7f7f; text-decoration-color: #7f7f7f\"> - It has a single sail    </span>│\n",
       "│<span style=\"color: #7f7f7f; text-decoration-color: #7f7f7f\"> accommodate different      </span>│<span style=\"color: #7f7f7f; text-decoration-color: #7f7f7f\"> versatile for leisure     </span>│<span style=\"color: #7f7f7f; text-decoration-color: #7f7f7f\">                            </span>│<span style=\"color: #7f7f7f; text-decoration-color: #7f7f7f\"> and is rigged in a sprit  </span>│\n",
       "│<span style=\"color: #7f7f7f; text-decoration-color: #7f7f7f\"> sailor weights and wind    </span>│<span style=\"color: #7f7f7f; text-decoration-color: #7f7f7f\"> sailing, racing, and      </span>│<span style=\"color: #7f7f7f; text-decoration-color: #7f7f7f\">                            </span>│<span style=\"color: #7f7f7f; text-decoration-color: #7f7f7f\"> configuration.            </span>│\n",
       "│<span style=\"color: #7f7f7f; text-decoration-color: #7f7f7f\"> conditions.                </span>│<span style=\"color: #7f7f7f; text-decoration-color: #7f7f7f\"> learning the basics of    </span>│<span style=\"color: #7f7f7f; text-decoration-color: #7f7f7f\">                            </span>│<span style=\"color: #7f7f7f; text-decoration-color: #7f7f7f\"> - The Optimist is         </span>│\n",
       "│<span style=\"color: #7f7f7f; text-decoration-color: #7f7f7f\">                            </span>│<span style=\"color: #7f7f7f; text-decoration-color: #7f7f7f\"> sailing.                  </span>│<span style=\"color: #7f7f7f; text-decoration-color: #7f7f7f\">                            </span>│<span style=\"color: #7f7f7f; text-decoration-color: #7f7f7f\"> recognized as an          </span>│\n",
       "│<span style=\"color: #7f7f7f; text-decoration-color: #7f7f7f\">                            </span>│<span style=\"color: #7f7f7f; text-decoration-color: #7f7f7f\">                           </span>│<span style=\"color: #7f7f7f; text-decoration-color: #7f7f7f\">                            </span>│<span style=\"color: #7f7f7f; text-decoration-color: #7f7f7f\"> International Class by    </span>│\n",
       "│<span style=\"color: #7f7f7f; text-decoration-color: #7f7f7f\">                            </span>│<span style=\"color: #7f7f7f; text-decoration-color: #7f7f7f\">                           </span>│<span style=\"color: #7f7f7f; text-decoration-color: #7f7f7f\">                            </span>│<span style=\"color: #7f7f7f; text-decoration-color: #7f7f7f\"> World Sailing.            </span>│\n",
       "└────────────────────────────┴───────────────────────────┴────────────────────────────┴───────────────────────────┘\n",
       "</pre>\n"
      ],
      "text/plain": [
       "┏━━━━━━━━━━━━━━━━━━━━━━━━━━━━┳━━━━━━━━━━━━━━━━━━━━━━━━━━━┳━━━━━━━━━━━━━━━━━━━━━━━━━━━━┳━━━━━━━━━━━━━━━━━━━━━━━━━━━┓\n",
       "┃\u001b[1;35m \u001b[0m\u001b[1;35manswer                    \u001b[0m\u001b[1;35m \u001b[0m┃\u001b[1;35m \u001b[0m\u001b[1;35manswer                   \u001b[0m\u001b[1;35m \u001b[0m┃\u001b[1;35m \u001b[0m\u001b[1;35manswer                    \u001b[0m\u001b[1;35m \u001b[0m┃\u001b[1;35m \u001b[0m\u001b[1;35manswer                   \u001b[0m\u001b[1;35m \u001b[0m┃\n",
       "┃\u001b[1;35m \u001b[0m\u001b[1;35m.Laser_features           \u001b[0m\u001b[1;35m \u001b[0m┃\u001b[1;35m \u001b[0m\u001b[1;35m.Sunfish_features        \u001b[0m\u001b[1;35m \u001b[0m┃\u001b[1;35m \u001b[0m\u001b[1;35m.Finn_features            \u001b[0m\u001b[1;35m \u001b[0m┃\u001b[1;35m \u001b[0m\u001b[1;35m.Optimist_features       \u001b[0m\u001b[1;35m \u001b[0m┃\n",
       "┡━━━━━━━━━━━━━━━━━━━━━━━━━━━━╇━━━━━━━━━━━━━━━━━━━━━━━━━━━╇━━━━━━━━━━━━━━━━━━━━━━━━━━━━╇━━━━━━━━━━━━━━━━━━━━━━━━━━━┩\n",
       "│\u001b[2m \u001b[0m\u001b[2mThe Laser is a popular    \u001b[0m\u001b[2m \u001b[0m│\u001b[2m \u001b[0m\u001b[2mThe Sunfish is a popular \u001b[0m\u001b[2m \u001b[0m│\u001b[2m \u001b[0m\u001b[2mThe Finn sailboat is a    \u001b[0m\u001b[2m \u001b[0m│\u001b[2m \u001b[0m\u001b[2mThe Optimist, also known \u001b[0m\u001b[2m \u001b[0m│\n",
       "│\u001b[2m \u001b[0m\u001b[2mone-design class of small \u001b[0m\u001b[2m \u001b[0m│\u001b[2m \u001b[0m\u001b[2msingle-handed, cat-rigged\u001b[0m\u001b[2m \u001b[0m│\u001b[2m \u001b[0m\u001b[2msingle-handed, cat-rigged \u001b[0m\u001b[2m \u001b[0m│\u001b[2m \u001b[0m\u001b[2mas the 'Opti', or        \u001b[0m\u001b[2m \u001b[0m│\n",
       "│\u001b[2m \u001b[0m\u001b[2msailing dinghy, originally\u001b[0m\u001b[2m \u001b[0m│\u001b[2m \u001b[0m\u001b[2msmall sailboat. It       \u001b[0m\u001b[2m \u001b[0m│\u001b[2m \u001b[0m\u001b[2mOlympic class dinghy. It  \u001b[0m\u001b[2m \u001b[0m│\u001b[2m \u001b[0m\u001b[2m'Oppie', is a small,     \u001b[0m\u001b[2m \u001b[0m│\n",
       "│\u001b[2m \u001b[0m\u001b[2mbuilt by Bruce Kirby. Its \u001b[0m\u001b[2m \u001b[0m│\u001b[2m \u001b[0m\u001b[2mfeatures a flat, angular \u001b[0m\u001b[2m \u001b[0m│\u001b[2m \u001b[0m\u001b[2mfeatures a powerful sail  \u001b[0m\u001b[2m \u001b[0m│\u001b[2m \u001b[0m\u001b[2msingle-handed sailing    \u001b[0m\u001b[2m \u001b[0m│\n",
       "│\u001b[2m \u001b[0m\u001b[2mfeatures include a        \u001b[0m\u001b[2m \u001b[0m│\u001b[2m \u001b[0m\u001b[2mdesign and a lateen sail \u001b[0m\u001b[2m \u001b[0m│\u001b[2m \u001b[0m\u001b[2mplan and a deep, slender  \u001b[0m\u001b[2m \u001b[0m│\u001b[2m \u001b[0m\u001b[2mdinghy intended for use  \u001b[0m\u001b[2m \u001b[0m│\n",
       "│\u001b[2m \u001b[0m\u001b[2msingle-handed design, a   \u001b[0m\u001b[2m \u001b[0m│\u001b[2m \u001b[0m\u001b[2mmounted to an un-stayed  \u001b[0m\u001b[2m \u001b[0m│\u001b[2m \u001b[0m\u001b[2mhull with a heavy weight, \u001b[0m\u001b[2m \u001b[0m│\u001b[2m \u001b[0m\u001b[2mby children up to the age\u001b[0m\u001b[2m \u001b[0m│\n",
       "│\u001b[2m \u001b[0m\u001b[2mmonohull with a Bermuda   \u001b[0m\u001b[2m \u001b[0m│\u001b[2m \u001b[0m\u001b[2mmast. It's known for its \u001b[0m\u001b[2m \u001b[0m│\u001b[2m \u001b[0m\u001b[2mwhich makes it well-suited\u001b[0m\u001b[2m \u001b[0m│\u001b[2m \u001b[0m\u001b[2mof 15. Here are some of  \u001b[0m\u001b[2m \u001b[0m│\n",
       "│\u001b[2m \u001b[0m\u001b[2mrig, and a very simple    \u001b[0m\u001b[2m \u001b[0m│\u001b[2m \u001b[0m\u001b[2msimplicity and ease of   \u001b[0m\u001b[2m \u001b[0m│\u001b[2m \u001b[0m\u001b[2mfor heavier sailors. The  \u001b[0m\u001b[2m \u001b[0m│\u001b[2m \u001b[0m\u001b[2mits features:            \u001b[0m\u001b[2m \u001b[0m│\n",
       "│\u001b[2m \u001b[0m\u001b[2msetup that makes it easy  \u001b[0m\u001b[2m \u001b[0m│\u001b[2m \u001b[0m\u001b[2muse, which makes it a    \u001b[0m\u001b[2m \u001b[0m│\u001b[2m \u001b[0m\u001b[2mboat is known for its     \u001b[0m\u001b[2m \u001b[0m│\u001b[2m \u001b[0m\u001b[2m- It has a pram hull,    \u001b[0m\u001b[2m \u001b[0m│\n",
       "│\u001b[2m \u001b[0m\u001b[2mto sail and race. It is   \u001b[0m\u001b[2m \u001b[0m│\u001b[2m \u001b[0m\u001b[2mfavorite for beginner    \u001b[0m\u001b[2m \u001b[0m│\u001b[2m \u001b[0m\u001b[2mphysical demand on the    \u001b[0m\u001b[2m \u001b[0m│\u001b[2m \u001b[0m\u001b[2mwhich means it has a flat\u001b[0m\u001b[2m \u001b[0m│\n",
       "│\u001b[2m \u001b[0m\u001b[2mknown for its lightweight,\u001b[0m\u001b[2m \u001b[0m│\u001b[2m \u001b[0m\u001b[2msailors, yet it's also   \u001b[0m\u001b[2m \u001b[0m│\u001b[2m \u001b[0m\u001b[2msailor, requiring         \u001b[0m\u001b[2m \u001b[0m│\u001b[2m \u001b[0m\u001b[2mbottom and a squared-off \u001b[0m\u001b[2m \u001b[0m│\n",
       "│\u001b[2m \u001b[0m\u001b[2mat around 130 pounds (59  \u001b[0m\u001b[2m \u001b[0m│\u001b[2m \u001b[0m\u001b[2menjoyed by experienced   \u001b[0m\u001b[2m \u001b[0m│\u001b[2m \u001b[0m\u001b[2msignificant strength,     \u001b[0m\u001b[2m \u001b[0m│\u001b[2m \u001b[0m\u001b[2mbow.                     \u001b[0m\u001b[2m \u001b[0m│\n",
       "│\u001b[2m \u001b[0m\u001b[2mkg) for the hull, and has \u001b[0m\u001b[2m \u001b[0m│\u001b[2m \u001b[0m\u001b[2mracers. The hull is      \u001b[0m\u001b[2m \u001b[0m│\u001b[2m \u001b[0m\u001b[2mstamina, and skill. The   \u001b[0m\u001b[2m \u001b[0m│\u001b[2m \u001b[0m\u001b[2m- The length of an       \u001b[0m\u001b[2m \u001b[0m│\n",
       "│\u001b[2m \u001b[0m\u001b[2ma length of approximately \u001b[0m\u001b[2m \u001b[0m│\u001b[2m \u001b[0m\u001b[2mfiberglass with a foam   \u001b[0m\u001b[2m \u001b[0m│\u001b[2m \u001b[0m\u001b[2mFinn is equipped with a   \u001b[0m\u001b[2m \u001b[0m│\u001b[2m \u001b[0m\u001b[2mOptimist is 2.31 meters  \u001b[0m\u001b[2m \u001b[0m│\n",
       "│\u001b[2m \u001b[0m\u001b[2m13.78 feet (4.2 meters).  \u001b[0m\u001b[2m \u001b[0m│\u001b[2m \u001b[0m\u001b[2mcore, and the boat has a \u001b[0m\u001b[2m \u001b[0m│\u001b[2m \u001b[0m\u001b[2mlarge, fully battened     \u001b[0m\u001b[2m \u001b[0m│\u001b[2m \u001b[0m\u001b[2m(7 ft 6 in), and the     \u001b[0m\u001b[2m \u001b[0m│\n",
       "│\u001b[2m \u001b[0m\u001b[2mThe Laser is designed to  \u001b[0m\u001b[2m \u001b[0m│\u001b[2m \u001b[0m\u001b[2mshallow draft, making it \u001b[0m\u001b[2m \u001b[0m│\u001b[2m \u001b[0m\u001b[2mmainsail, an adjustable   \u001b[0m\u001b[2m \u001b[0m│\u001b[2m \u001b[0m\u001b[2mwidth (beam) is 1.13     \u001b[0m\u001b[2m \u001b[0m│\n",
       "│\u001b[2m \u001b[0m\u001b[2mbe sailed by one person   \u001b[0m\u001b[2m \u001b[0m│\u001b[2m \u001b[0m\u001b[2measy to beach and launch.\u001b[0m\u001b[2m \u001b[0m│\u001b[2m \u001b[0m\u001b[2mmast, and a rudder and    \u001b[0m\u001b[2m \u001b[0m│\u001b[2m \u001b[0m\u001b[2mmeters (3 ft 8 in).      \u001b[0m\u001b[2m \u001b[0m│\n",
       "│\u001b[2m \u001b[0m\u001b[2mand has a single mainsail.\u001b[0m\u001b[2m \u001b[0m│\u001b[2m \u001b[0m\u001b[2mIt typically includes a  \u001b[0m\u001b[2m \u001b[0m│\u001b[2m \u001b[0m\u001b[2mcenterboard to control its\u001b[0m\u001b[2m \u001b[0m│\u001b[2m \u001b[0m\u001b[2m- The sail area is       \u001b[0m\u001b[2m \u001b[0m│\n",
       "│\u001b[2m \u001b[0m\u001b[2mThe class has strict      \u001b[0m\u001b[2m \u001b[0m│\u001b[2m \u001b[0m\u001b[2mcockpit with a storage   \u001b[0m\u001b[2m \u001b[0m│\u001b[2m \u001b[0m\u001b[2mcourse. It has been used  \u001b[0m\u001b[2m \u001b[0m│\u001b[2m \u001b[0m\u001b[2mtypically about 3.3      \u001b[0m\u001b[2m \u001b[0m│\n",
       "│\u001b[2m \u001b[0m\u001b[2mone-design rules, which   \u001b[0m\u001b[2m \u001b[0m│\u001b[2m \u001b[0m\u001b[2mcompartment, a           \u001b[0m\u001b[2m \u001b[0m│\u001b[2m \u001b[0m\u001b[2min Olympic competition    \u001b[0m\u001b[2m \u001b[0m│\u001b[2m \u001b[0m\u001b[2msquare meters (35 sq ft).\u001b[0m\u001b[2m \u001b[0m│\n",
       "│\u001b[2m \u001b[0m\u001b[2mmeans that all boats are  \u001b[0m\u001b[2m \u001b[0m│\u001b[2m \u001b[0m\u001b[2mdaggerboard, and a       \u001b[0m\u001b[2m \u001b[0m│\u001b[2m \u001b[0m\u001b[2msince the 1952 Helsinki   \u001b[0m\u001b[2m \u001b[0m│\u001b[2m \u001b[0m\u001b[2m- It is usually          \u001b[0m\u001b[2m \u001b[0m│\n",
       "│\u001b[2m \u001b[0m\u001b[2mvirtually identical,      \u001b[0m\u001b[2m \u001b[0m│\u001b[2m \u001b[0m\u001b[2mkick-up rudder system.   \u001b[0m\u001b[2m \u001b[0m│\u001b[2m \u001b[0m\u001b[2mGames and has a rich      \u001b[0m\u001b[2m \u001b[0m│\u001b[2m \u001b[0m\u001b[2mconstructed of           \u001b[0m\u001b[2m \u001b[0m│\n",
       "│\u001b[2m \u001b[0m\u001b[2mallowing races to be      \u001b[0m\u001b[2m \u001b[0m│\u001b[2m \u001b[0m\u001b[2mThe Sunfish is           \u001b[0m\u001b[2m \u001b[0m│\u001b[2m \u001b[0m\u001b[2mhistory within the sailing\u001b[0m\u001b[2m \u001b[0m│\u001b[2m \u001b[0m\u001b[2mfiberglass, although     \u001b[0m\u001b[2m \u001b[0m│\n",
       "│\u001b[2m \u001b[0m\u001b[2mdecided by sailor skill   \u001b[0m\u001b[2m \u001b[0m│\u001b[2m \u001b[0m\u001b[2mlightweight, often around\u001b[0m\u001b[2m \u001b[0m│\u001b[2m \u001b[0m\u001b[2mcommunity.                \u001b[0m\u001b[2m \u001b[0m│\u001b[2m \u001b[0m\u001b[2mwooden versions do exist.\u001b[0m\u001b[2m \u001b[0m│\n",
       "│\u001b[2m \u001b[0m\u001b[2mrather than boat          \u001b[0m\u001b[2m \u001b[0m│\u001b[2m \u001b[0m\u001b[2m120-130 pounds, which    \u001b[0m\u001b[2m \u001b[0m│\u001b[2m                            \u001b[0m│\u001b[2m \u001b[0m\u001b[2m- The boat is designed   \u001b[0m\u001b[2m \u001b[0m│\n",
       "│\u001b[2m \u001b[0m\u001b[2mequipment. Lasers are     \u001b[0m\u001b[2m \u001b[0m│\u001b[2m \u001b[0m\u001b[2mmakes it easy to         \u001b[0m\u001b[2m \u001b[0m│\u001b[2m                            \u001b[0m│\u001b[2m \u001b[0m\u001b[2mfor beginners and is     \u001b[0m\u001b[2m \u001b[0m│\n",
       "│\u001b[2m \u001b[0m\u001b[2mequipped with different   \u001b[0m\u001b[2m \u001b[0m│\u001b[2m \u001b[0m\u001b[2mtransport on top of a    \u001b[0m\u001b[2m \u001b[0m│\u001b[2m                            \u001b[0m│\u001b[2m \u001b[0m\u001b[2mrelatively stable and    \u001b[0m\u001b[2m \u001b[0m│\n",
       "│\u001b[2m \u001b[0m\u001b[2msail sizes: Standard,     \u001b[0m\u001b[2m \u001b[0m│\u001b[2m \u001b[0m\u001b[2mvehicle or on a          \u001b[0m\u001b[2m \u001b[0m│\u001b[2m                            \u001b[0m│\u001b[2m \u001b[0m\u001b[2measy to sail.            \u001b[0m\u001b[2m \u001b[0m│\n",
       "│\u001b[2m \u001b[0m\u001b[2mRadial, and 4.7, to       \u001b[0m\u001b[2m \u001b[0m│\u001b[2m \u001b[0m\u001b[2mlightweight trailer. It's\u001b[0m\u001b[2m \u001b[0m│\u001b[2m                            \u001b[0m│\u001b[2m \u001b[0m\u001b[2m- It has a single sail   \u001b[0m\u001b[2m \u001b[0m│\n",
       "│\u001b[2m \u001b[0m\u001b[2maccommodate different     \u001b[0m\u001b[2m \u001b[0m│\u001b[2m \u001b[0m\u001b[2mversatile for leisure    \u001b[0m\u001b[2m \u001b[0m│\u001b[2m                            \u001b[0m│\u001b[2m \u001b[0m\u001b[2mand is rigged in a sprit \u001b[0m\u001b[2m \u001b[0m│\n",
       "│\u001b[2m \u001b[0m\u001b[2msailor weights and wind   \u001b[0m\u001b[2m \u001b[0m│\u001b[2m \u001b[0m\u001b[2msailing, racing, and     \u001b[0m\u001b[2m \u001b[0m│\u001b[2m                            \u001b[0m│\u001b[2m \u001b[0m\u001b[2mconfiguration.           \u001b[0m\u001b[2m \u001b[0m│\n",
       "│\u001b[2m \u001b[0m\u001b[2mconditions.               \u001b[0m\u001b[2m \u001b[0m│\u001b[2m \u001b[0m\u001b[2mlearning the basics of   \u001b[0m\u001b[2m \u001b[0m│\u001b[2m                            \u001b[0m│\u001b[2m \u001b[0m\u001b[2m- The Optimist is        \u001b[0m\u001b[2m \u001b[0m│\n",
       "│\u001b[2m                            \u001b[0m│\u001b[2m \u001b[0m\u001b[2msailing.                 \u001b[0m\u001b[2m \u001b[0m│\u001b[2m                            \u001b[0m│\u001b[2m \u001b[0m\u001b[2mrecognized as an         \u001b[0m\u001b[2m \u001b[0m│\n",
       "│\u001b[2m                            \u001b[0m│\u001b[2m                           \u001b[0m│\u001b[2m                            \u001b[0m│\u001b[2m \u001b[0m\u001b[2mInternational Class by   \u001b[0m\u001b[2m \u001b[0m│\n",
       "│\u001b[2m                            \u001b[0m│\u001b[2m                           \u001b[0m│\u001b[2m                            \u001b[0m│\u001b[2m \u001b[0m\u001b[2mWorld Sailing.           \u001b[0m\u001b[2m \u001b[0m│\n",
       "└────────────────────────────┴───────────────────────────┴────────────────────────────┴───────────────────────────┘\n"
      ]
     },
     "metadata": {},
     "output_type": "display_data"
    }
   ],
   "source": [
    "results.select(\"answer.*\").print(format=\"rich\")"
   ]
  },
  {
   "cell_type": "markdown",
   "id": "d448dbdd-d391-4741-b369-6a804af0f395",
   "metadata": {},
   "source": [
    "## Running a question with scenarios\n",
    "We can alternatively add scenarios to a question or survey at the time that it is run. This causes a question to be administered for each scenario, creating a separate field for each scenario in the results:"
   ]
  },
  {
   "cell_type": "code",
   "execution_count": 8,
   "id": "83499076-7cd0-49c4-aa76-f24ce7902952",
   "metadata": {},
   "outputs": [],
   "source": [
    "from edsl import QuestionFreeText, ScenarioList, Survey"
   ]
  },
  {
   "cell_type": "code",
   "execution_count": 9,
   "id": "ebc829cb-51e7-42a1-8987-987471f21ed0",
   "metadata": {},
   "outputs": [],
   "source": [
    "q_features = QuestionFreeText(\n",
    "    question_name = \"features\",\n",
    "    question_text = \"What are the features of this sailboat model: {{ sailboat_model }}\"\n",
    ")"
   ]
  },
  {
   "cell_type": "code",
   "execution_count": 10,
   "id": "e114524e-cd80-4137-b3ca-8437cc1e1de4",
   "metadata": {},
   "outputs": [],
   "source": [
    "scenariolist = ScenarioList.from_list(\"sailboat_model\", ['Laser', 'Sunfish', 'Optimist', 'Finn'])\n",
    "# scenariolist"
   ]
  },
  {
   "cell_type": "markdown",
   "id": "faeb5b07-8db7-45d9-b102-15fd4c9e53b4",
   "metadata": {},
   "source": [
    "We can add the scenarios directly to the (single) question and run it, or else add the question to a survey (if there are other questions):"
   ]
  },
  {
   "cell_type": "code",
   "execution_count": 11,
   "id": "15b58a47-503a-4ab4-9396-da7ea74ba34d",
   "metadata": {},
   "outputs": [],
   "source": [
    "results = q_features.by(scenariolist).run()"
   ]
  },
  {
   "cell_type": "markdown",
   "id": "8692aa29-208c-4c8a-8764-e8a346090381",
   "metadata": {},
   "source": [
    "Note that the scenarios are now a separate fields in the results:"
   ]
  },
  {
   "cell_type": "code",
   "execution_count": 12,
   "id": "d8294865-6bfd-4861-b568-1bc94746ac7a",
   "metadata": {},
   "outputs": [
    {
     "data": {
      "text/plain": [
       "['agent.agent_instruction',\n",
       " 'agent.agent_name',\n",
       " 'answer.features',\n",
       " 'model.frequency_penalty',\n",
       " 'model.logprobs',\n",
       " 'model.max_tokens',\n",
       " 'model.model',\n",
       " 'model.presence_penalty',\n",
       " 'model.temperature',\n",
       " 'model.top_logprobs',\n",
       " 'model.top_p',\n",
       " 'prompt.features_system_prompt',\n",
       " 'prompt.features_user_prompt',\n",
       " 'question_options.features_question_options',\n",
       " 'question_text.features_question_text',\n",
       " 'question_type.features_question_type',\n",
       " 'raw_model_response.features_raw_model_response',\n",
       " 'scenario.sailboat_model']"
      ]
     },
     "execution_count": 12,
     "metadata": {},
     "output_type": "execute_result"
    }
   ],
   "source": [
    "results.columns"
   ]
  },
  {
   "cell_type": "code",
   "execution_count": 13,
   "id": "d2f433f9-bb8e-4a20-b374-107006c66bd0",
   "metadata": {},
   "outputs": [
    {
     "data": {
      "text/html": [
       "<pre style=\"white-space:pre;overflow-x:auto;line-height:normal;font-family:Menlo,'DejaVu Sans Mono',consolas,'Courier New',monospace\">┏━━━━━━━━━━━━━━━━━┳━━━━━━━━━━━━━━━━━━━━━━━━━━━━━━━━━━━━━━━━━━━━━━━━━━━━━━━━━━━━━━━━━━━━━━━━━━━━━━━━━━━━━━━━━━━━━━━┓\n",
       "┃<span style=\"color: #800080; text-decoration-color: #800080; font-weight: bold\"> scenario        </span>┃<span style=\"color: #800080; text-decoration-color: #800080; font-weight: bold\"> answer                                                                                        </span>┃\n",
       "┃<span style=\"color: #800080; text-decoration-color: #800080; font-weight: bold\"> .sailboat_model </span>┃<span style=\"color: #800080; text-decoration-color: #800080; font-weight: bold\"> .features                                                                                     </span>┃\n",
       "┡━━━━━━━━━━━━━━━━━╇━━━━━━━━━━━━━━━━━━━━━━━━━━━━━━━━━━━━━━━━━━━━━━━━━━━━━━━━━━━━━━━━━━━━━━━━━━━━━━━━━━━━━━━━━━━━━━━┩\n",
       "│<span style=\"color: #7f7f7f; text-decoration-color: #7f7f7f\"> Laser           </span>│<span style=\"color: #7f7f7f; text-decoration-color: #7f7f7f\"> The Laser is a popular one-design class of small sailing dinghy, originally built by Bruce    </span>│\n",
       "│<span style=\"color: #7f7f7f; text-decoration-color: #7f7f7f\">                 </span>│<span style=\"color: #7f7f7f; text-decoration-color: #7f7f7f\"> Kirby. Its features include a single-handed design, a monohull with a Bermuda rig, and a very </span>│\n",
       "│<span style=\"color: #7f7f7f; text-decoration-color: #7f7f7f\">                 </span>│<span style=\"color: #7f7f7f; text-decoration-color: #7f7f7f\"> simple setup that makes it easy to sail and race. It is known for its lightweight, at around  </span>│\n",
       "│<span style=\"color: #7f7f7f; text-decoration-color: #7f7f7f\">                 </span>│<span style=\"color: #7f7f7f; text-decoration-color: #7f7f7f\"> 130 pounds (59 kg) for the hull, and has a length of approximately 13.78 feet (4.2 meters).   </span>│\n",
       "│<span style=\"color: #7f7f7f; text-decoration-color: #7f7f7f\">                 </span>│<span style=\"color: #7f7f7f; text-decoration-color: #7f7f7f\"> The Laser is designed to be sailed by one person and has a single mainsail. The class has     </span>│\n",
       "│<span style=\"color: #7f7f7f; text-decoration-color: #7f7f7f\">                 </span>│<span style=\"color: #7f7f7f; text-decoration-color: #7f7f7f\"> strict one-design rules, which means that all boats are virtually identical, allowing races   </span>│\n",
       "│<span style=\"color: #7f7f7f; text-decoration-color: #7f7f7f\">                 </span>│<span style=\"color: #7f7f7f; text-decoration-color: #7f7f7f\"> to be decided by sailor skill rather than boat equipment. Lasers are equipped with different  </span>│\n",
       "│<span style=\"color: #7f7f7f; text-decoration-color: #7f7f7f\">                 </span>│<span style=\"color: #7f7f7f; text-decoration-color: #7f7f7f\"> sail sizes: Standard, Radial, and 4.7, to accommodate different sailor weights and wind       </span>│\n",
       "│<span style=\"color: #7f7f7f; text-decoration-color: #7f7f7f\">                 </span>│<span style=\"color: #7f7f7f; text-decoration-color: #7f7f7f\"> conditions.                                                                                   </span>│\n",
       "├─────────────────┼───────────────────────────────────────────────────────────────────────────────────────────────┤\n",
       "│<span style=\"color: #7f7f7f; text-decoration-color: #7f7f7f\"> Sunfish         </span>│<span style=\"color: #7f7f7f; text-decoration-color: #7f7f7f\"> The Sunfish is a popular single-handed, cat-rigged small sailboat. It features a flat,        </span>│\n",
       "│<span style=\"color: #7f7f7f; text-decoration-color: #7f7f7f\">                 </span>│<span style=\"color: #7f7f7f; text-decoration-color: #7f7f7f\"> angular design and a lateen sail mounted to an un-stayed mast. It's known for its simplicity  </span>│\n",
       "│<span style=\"color: #7f7f7f; text-decoration-color: #7f7f7f\">                 </span>│<span style=\"color: #7f7f7f; text-decoration-color: #7f7f7f\"> and ease of use, which makes it a favorite for beginner sailors, yet it's also enjoyed by     </span>│\n",
       "│<span style=\"color: #7f7f7f; text-decoration-color: #7f7f7f\">                 </span>│<span style=\"color: #7f7f7f; text-decoration-color: #7f7f7f\"> experienced racers. The hull is fiberglass with a foam core, and the boat has a shallow       </span>│\n",
       "│<span style=\"color: #7f7f7f; text-decoration-color: #7f7f7f\">                 </span>│<span style=\"color: #7f7f7f; text-decoration-color: #7f7f7f\"> draft, making it easy to beach and launch. It typically includes a cockpit with a storage     </span>│\n",
       "│<span style=\"color: #7f7f7f; text-decoration-color: #7f7f7f\">                 </span>│<span style=\"color: #7f7f7f; text-decoration-color: #7f7f7f\"> compartment, a daggerboard, and a kick-up rudder system. The Sunfish is lightweight, often    </span>│\n",
       "│<span style=\"color: #7f7f7f; text-decoration-color: #7f7f7f\">                 </span>│<span style=\"color: #7f7f7f; text-decoration-color: #7f7f7f\"> around 120-130 pounds, which makes it easy to transport on top of a vehicle or on a           </span>│\n",
       "│<span style=\"color: #7f7f7f; text-decoration-color: #7f7f7f\">                 </span>│<span style=\"color: #7f7f7f; text-decoration-color: #7f7f7f\"> lightweight trailer. It's versatile for leisure sailing, racing, and learning the basics of   </span>│\n",
       "│<span style=\"color: #7f7f7f; text-decoration-color: #7f7f7f\">                 </span>│<span style=\"color: #7f7f7f; text-decoration-color: #7f7f7f\"> sailing.                                                                                      </span>│\n",
       "├─────────────────┼───────────────────────────────────────────────────────────────────────────────────────────────┤\n",
       "│<span style=\"color: #7f7f7f; text-decoration-color: #7f7f7f\"> Optimist        </span>│<span style=\"color: #7f7f7f; text-decoration-color: #7f7f7f\"> The Optimist, also known as the 'Opti', or 'Oppie', is a small, single-handed sailing dinghy  </span>│\n",
       "│<span style=\"color: #7f7f7f; text-decoration-color: #7f7f7f\">                 </span>│<span style=\"color: #7f7f7f; text-decoration-color: #7f7f7f\"> intended for use by children up to the age of 15. Here are some of its features:              </span>│\n",
       "│<span style=\"color: #7f7f7f; text-decoration-color: #7f7f7f\">                 </span>│<span style=\"color: #7f7f7f; text-decoration-color: #7f7f7f\"> - It has a pram hull, which means it has a flat bottom and a squared-off bow.                 </span>│\n",
       "│<span style=\"color: #7f7f7f; text-decoration-color: #7f7f7f\">                 </span>│<span style=\"color: #7f7f7f; text-decoration-color: #7f7f7f\"> - The length of an Optimist is 2.31 meters (7 ft 6 in), and the width (beam) is 1.13 meters   </span>│\n",
       "│<span style=\"color: #7f7f7f; text-decoration-color: #7f7f7f\">                 </span>│<span style=\"color: #7f7f7f; text-decoration-color: #7f7f7f\"> (3 ft 8 in).                                                                                  </span>│\n",
       "│<span style=\"color: #7f7f7f; text-decoration-color: #7f7f7f\">                 </span>│<span style=\"color: #7f7f7f; text-decoration-color: #7f7f7f\"> - The sail area is typically about 3.3 square meters (35 sq ft).                              </span>│\n",
       "│<span style=\"color: #7f7f7f; text-decoration-color: #7f7f7f\">                 </span>│<span style=\"color: #7f7f7f; text-decoration-color: #7f7f7f\"> - It is usually constructed of fiberglass, although wooden versions do exist.                 </span>│\n",
       "│<span style=\"color: #7f7f7f; text-decoration-color: #7f7f7f\">                 </span>│<span style=\"color: #7f7f7f; text-decoration-color: #7f7f7f\"> - The boat is designed for beginners and is relatively stable and easy to sail.               </span>│\n",
       "│<span style=\"color: #7f7f7f; text-decoration-color: #7f7f7f\">                 </span>│<span style=\"color: #7f7f7f; text-decoration-color: #7f7f7f\"> - It has a single sail and is rigged in a sprit configuration.                                </span>│\n",
       "│<span style=\"color: #7f7f7f; text-decoration-color: #7f7f7f\">                 </span>│<span style=\"color: #7f7f7f; text-decoration-color: #7f7f7f\"> - The Optimist is recognized as an International Class by World Sailing.                      </span>│\n",
       "├─────────────────┼───────────────────────────────────────────────────────────────────────────────────────────────┤\n",
       "│<span style=\"color: #7f7f7f; text-decoration-color: #7f7f7f\"> Finn            </span>│<span style=\"color: #7f7f7f; text-decoration-color: #7f7f7f\"> The Finn sailboat is a single-handed, cat-rigged Olympic class dinghy. It features a powerful </span>│\n",
       "│<span style=\"color: #7f7f7f; text-decoration-color: #7f7f7f\">                 </span>│<span style=\"color: #7f7f7f; text-decoration-color: #7f7f7f\"> sail plan and a deep, slender hull with a heavy weight, which makes it well-suited for        </span>│\n",
       "│<span style=\"color: #7f7f7f; text-decoration-color: #7f7f7f\">                 </span>│<span style=\"color: #7f7f7f; text-decoration-color: #7f7f7f\"> heavier sailors. The boat is known for its physical demand on the sailor, requiring           </span>│\n",
       "│<span style=\"color: #7f7f7f; text-decoration-color: #7f7f7f\">                 </span>│<span style=\"color: #7f7f7f; text-decoration-color: #7f7f7f\"> significant strength, stamina, and skill. The Finn is equipped with a large, fully battened   </span>│\n",
       "│<span style=\"color: #7f7f7f; text-decoration-color: #7f7f7f\">                 </span>│<span style=\"color: #7f7f7f; text-decoration-color: #7f7f7f\"> mainsail, an adjustable mast, and a rudder and centerboard to control its course. It has been </span>│\n",
       "│<span style=\"color: #7f7f7f; text-decoration-color: #7f7f7f\">                 </span>│<span style=\"color: #7f7f7f; text-decoration-color: #7f7f7f\"> used in Olympic competition since the 1952 Helsinki Games and has a rich history within the   </span>│\n",
       "│<span style=\"color: #7f7f7f; text-decoration-color: #7f7f7f\">                 </span>│<span style=\"color: #7f7f7f; text-decoration-color: #7f7f7f\"> sailing community.                                                                            </span>│\n",
       "└─────────────────┴───────────────────────────────────────────────────────────────────────────────────────────────┘\n",
       "</pre>\n"
      ],
      "text/plain": [
       "┏━━━━━━━━━━━━━━━━━┳━━━━━━━━━━━━━━━━━━━━━━━━━━━━━━━━━━━━━━━━━━━━━━━━━━━━━━━━━━━━━━━━━━━━━━━━━━━━━━━━━━━━━━━━━━━━━━━┓\n",
       "┃\u001b[1;35m \u001b[0m\u001b[1;35mscenario       \u001b[0m\u001b[1;35m \u001b[0m┃\u001b[1;35m \u001b[0m\u001b[1;35manswer                                                                                       \u001b[0m\u001b[1;35m \u001b[0m┃\n",
       "┃\u001b[1;35m \u001b[0m\u001b[1;35m.sailboat_model\u001b[0m\u001b[1;35m \u001b[0m┃\u001b[1;35m \u001b[0m\u001b[1;35m.features                                                                                    \u001b[0m\u001b[1;35m \u001b[0m┃\n",
       "┡━━━━━━━━━━━━━━━━━╇━━━━━━━━━━━━━━━━━━━━━━━━━━━━━━━━━━━━━━━━━━━━━━━━━━━━━━━━━━━━━━━━━━━━━━━━━━━━━━━━━━━━━━━━━━━━━━━┩\n",
       "│\u001b[2m \u001b[0m\u001b[2mLaser          \u001b[0m\u001b[2m \u001b[0m│\u001b[2m \u001b[0m\u001b[2mThe Laser is a popular one-design class of small sailing dinghy, originally built by Bruce   \u001b[0m\u001b[2m \u001b[0m│\n",
       "│\u001b[2m                 \u001b[0m│\u001b[2m \u001b[0m\u001b[2mKirby. Its features include a single-handed design, a monohull with a Bermuda rig, and a very\u001b[0m\u001b[2m \u001b[0m│\n",
       "│\u001b[2m                 \u001b[0m│\u001b[2m \u001b[0m\u001b[2msimple setup that makes it easy to sail and race. It is known for its lightweight, at around \u001b[0m\u001b[2m \u001b[0m│\n",
       "│\u001b[2m                 \u001b[0m│\u001b[2m \u001b[0m\u001b[2m130 pounds (59 kg) for the hull, and has a length of approximately 13.78 feet (4.2 meters).  \u001b[0m\u001b[2m \u001b[0m│\n",
       "│\u001b[2m                 \u001b[0m│\u001b[2m \u001b[0m\u001b[2mThe Laser is designed to be sailed by one person and has a single mainsail. The class has    \u001b[0m\u001b[2m \u001b[0m│\n",
       "│\u001b[2m                 \u001b[0m│\u001b[2m \u001b[0m\u001b[2mstrict one-design rules, which means that all boats are virtually identical, allowing races  \u001b[0m\u001b[2m \u001b[0m│\n",
       "│\u001b[2m                 \u001b[0m│\u001b[2m \u001b[0m\u001b[2mto be decided by sailor skill rather than boat equipment. Lasers are equipped with different \u001b[0m\u001b[2m \u001b[0m│\n",
       "│\u001b[2m                 \u001b[0m│\u001b[2m \u001b[0m\u001b[2msail sizes: Standard, Radial, and 4.7, to accommodate different sailor weights and wind      \u001b[0m\u001b[2m \u001b[0m│\n",
       "│\u001b[2m                 \u001b[0m│\u001b[2m \u001b[0m\u001b[2mconditions.                                                                                  \u001b[0m\u001b[2m \u001b[0m│\n",
       "├─────────────────┼───────────────────────────────────────────────────────────────────────────────────────────────┤\n",
       "│\u001b[2m \u001b[0m\u001b[2mSunfish        \u001b[0m\u001b[2m \u001b[0m│\u001b[2m \u001b[0m\u001b[2mThe Sunfish is a popular single-handed, cat-rigged small sailboat. It features a flat,       \u001b[0m\u001b[2m \u001b[0m│\n",
       "│\u001b[2m                 \u001b[0m│\u001b[2m \u001b[0m\u001b[2mangular design and a lateen sail mounted to an un-stayed mast. It's known for its simplicity \u001b[0m\u001b[2m \u001b[0m│\n",
       "│\u001b[2m                 \u001b[0m│\u001b[2m \u001b[0m\u001b[2mand ease of use, which makes it a favorite for beginner sailors, yet it's also enjoyed by    \u001b[0m\u001b[2m \u001b[0m│\n",
       "│\u001b[2m                 \u001b[0m│\u001b[2m \u001b[0m\u001b[2mexperienced racers. The hull is fiberglass with a foam core, and the boat has a shallow      \u001b[0m\u001b[2m \u001b[0m│\n",
       "│\u001b[2m                 \u001b[0m│\u001b[2m \u001b[0m\u001b[2mdraft, making it easy to beach and launch. It typically includes a cockpit with a storage    \u001b[0m\u001b[2m \u001b[0m│\n",
       "│\u001b[2m                 \u001b[0m│\u001b[2m \u001b[0m\u001b[2mcompartment, a daggerboard, and a kick-up rudder system. The Sunfish is lightweight, often   \u001b[0m\u001b[2m \u001b[0m│\n",
       "│\u001b[2m                 \u001b[0m│\u001b[2m \u001b[0m\u001b[2maround 120-130 pounds, which makes it easy to transport on top of a vehicle or on a          \u001b[0m\u001b[2m \u001b[0m│\n",
       "│\u001b[2m                 \u001b[0m│\u001b[2m \u001b[0m\u001b[2mlightweight trailer. It's versatile for leisure sailing, racing, and learning the basics of  \u001b[0m\u001b[2m \u001b[0m│\n",
       "│\u001b[2m                 \u001b[0m│\u001b[2m \u001b[0m\u001b[2msailing.                                                                                     \u001b[0m\u001b[2m \u001b[0m│\n",
       "├─────────────────┼───────────────────────────────────────────────────────────────────────────────────────────────┤\n",
       "│\u001b[2m \u001b[0m\u001b[2mOptimist       \u001b[0m\u001b[2m \u001b[0m│\u001b[2m \u001b[0m\u001b[2mThe Optimist, also known as the 'Opti', or 'Oppie', is a small, single-handed sailing dinghy \u001b[0m\u001b[2m \u001b[0m│\n",
       "│\u001b[2m                 \u001b[0m│\u001b[2m \u001b[0m\u001b[2mintended for use by children up to the age of 15. Here are some of its features:             \u001b[0m\u001b[2m \u001b[0m│\n",
       "│\u001b[2m                 \u001b[0m│\u001b[2m \u001b[0m\u001b[2m- It has a pram hull, which means it has a flat bottom and a squared-off bow.                \u001b[0m\u001b[2m \u001b[0m│\n",
       "│\u001b[2m                 \u001b[0m│\u001b[2m \u001b[0m\u001b[2m- The length of an Optimist is 2.31 meters (7 ft 6 in), and the width (beam) is 1.13 meters  \u001b[0m\u001b[2m \u001b[0m│\n",
       "│\u001b[2m                 \u001b[0m│\u001b[2m \u001b[0m\u001b[2m(3 ft 8 in).                                                                                 \u001b[0m\u001b[2m \u001b[0m│\n",
       "│\u001b[2m                 \u001b[0m│\u001b[2m \u001b[0m\u001b[2m- The sail area is typically about 3.3 square meters (35 sq ft).                             \u001b[0m\u001b[2m \u001b[0m│\n",
       "│\u001b[2m                 \u001b[0m│\u001b[2m \u001b[0m\u001b[2m- It is usually constructed of fiberglass, although wooden versions do exist.                \u001b[0m\u001b[2m \u001b[0m│\n",
       "│\u001b[2m                 \u001b[0m│\u001b[2m \u001b[0m\u001b[2m- The boat is designed for beginners and is relatively stable and easy to sail.              \u001b[0m\u001b[2m \u001b[0m│\n",
       "│\u001b[2m                 \u001b[0m│\u001b[2m \u001b[0m\u001b[2m- It has a single sail and is rigged in a sprit configuration.                               \u001b[0m\u001b[2m \u001b[0m│\n",
       "│\u001b[2m                 \u001b[0m│\u001b[2m \u001b[0m\u001b[2m- The Optimist is recognized as an International Class by World Sailing.                     \u001b[0m\u001b[2m \u001b[0m│\n",
       "├─────────────────┼───────────────────────────────────────────────────────────────────────────────────────────────┤\n",
       "│\u001b[2m \u001b[0m\u001b[2mFinn           \u001b[0m\u001b[2m \u001b[0m│\u001b[2m \u001b[0m\u001b[2mThe Finn sailboat is a single-handed, cat-rigged Olympic class dinghy. It features a powerful\u001b[0m\u001b[2m \u001b[0m│\n",
       "│\u001b[2m                 \u001b[0m│\u001b[2m \u001b[0m\u001b[2msail plan and a deep, slender hull with a heavy weight, which makes it well-suited for       \u001b[0m\u001b[2m \u001b[0m│\n",
       "│\u001b[2m                 \u001b[0m│\u001b[2m \u001b[0m\u001b[2mheavier sailors. The boat is known for its physical demand on the sailor, requiring          \u001b[0m\u001b[2m \u001b[0m│\n",
       "│\u001b[2m                 \u001b[0m│\u001b[2m \u001b[0m\u001b[2msignificant strength, stamina, and skill. The Finn is equipped with a large, fully battened  \u001b[0m\u001b[2m \u001b[0m│\n",
       "│\u001b[2m                 \u001b[0m│\u001b[2m \u001b[0m\u001b[2mmainsail, an adjustable mast, and a rudder and centerboard to control its course. It has been\u001b[0m\u001b[2m \u001b[0m│\n",
       "│\u001b[2m                 \u001b[0m│\u001b[2m \u001b[0m\u001b[2mused in Olympic competition since the 1952 Helsinki Games and has a rich history within the  \u001b[0m\u001b[2m \u001b[0m│\n",
       "│\u001b[2m                 \u001b[0m│\u001b[2m \u001b[0m\u001b[2msailing community.                                                                           \u001b[0m\u001b[2m \u001b[0m│\n",
       "└─────────────────┴───────────────────────────────────────────────────────────────────────────────────────────────┘\n"
      ]
     },
     "metadata": {},
     "output_type": "display_data"
    }
   ],
   "source": [
    "results.select(\"sailboat_model\", \"features\").print(format=\"rich\")"
   ]
  },
  {
   "cell_type": "markdown",
   "id": "ef629fe7-bc07-488f-90e3-45245023a7d6",
   "metadata": {},
   "source": [
    "## Posting to the Coop\n",
    "The [Coop](https://www.expectedparrot.com) is a new platform for creating, storing and sharing LLM-based research. We can post surveys, agents, results and notebooks, such as this one. [Learn more about using the Coop](https://docs.expectedparrot.com/en/latest/coop.html)."
   ]
  },
  {
   "cell_type": "code",
   "execution_count": 14,
   "id": "5c9e17df-f791-463b-bf25-c1aba8010370",
   "metadata": {},
   "outputs": [],
   "source": [
    "from edsl import Notebook\n",
    "\n",
    "n = Notebook(path = \"question_loop_scenarios.ipynb\")"
   ]
  },
  {
   "cell_type": "code",
   "execution_count": 15,
   "id": "f4554af1-9ecf-40f1-a2d2-d561662a8996",
   "metadata": {},
   "outputs": [
    {
     "data": {
      "text/plain": [
       "{'description': 'New question method `loop` for creating questions with scenarios',\n",
       " 'object_type': 'notebook',\n",
       " 'url': 'https://www.expectedparrot.com/content/e7260edf-88aa-4738-a147-56c042f396b9',\n",
       " 'uuid': 'e7260edf-88aa-4738-a147-56c042f396b9',\n",
       " 'version': '0.1.33.dev1',\n",
       " 'visibility': 'unlisted'}"
      ]
     },
     "execution_count": 15,
     "metadata": {},
     "output_type": "execute_result"
    }
   ],
   "source": [
    "n.push(description = \"New question method `loop` for creating questions with scenarios\")"
   ]
  },
  {
   "cell_type": "code",
   "execution_count": null,
   "id": "389875b8-1561-4f45-babc-b7ada08d7e30",
   "metadata": {},
   "outputs": [],
   "source": []
  }
 ],
 "metadata": {
  "kernelspec": {
   "display_name": "Python 3 (ipykernel)",
   "language": "python",
   "name": "python3"
  },
  "language_info": {
   "codemirror_mode": {
    "name": "ipython",
    "version": 3
   },
   "file_extension": ".py",
   "mimetype": "text/x-python",
   "name": "python",
   "nbconvert_exporter": "python",
   "pygments_lexer": "ipython3",
   "version": "3.11.7"
  }
 },
 "nbformat": 4,
 "nbformat_minor": 5
}
