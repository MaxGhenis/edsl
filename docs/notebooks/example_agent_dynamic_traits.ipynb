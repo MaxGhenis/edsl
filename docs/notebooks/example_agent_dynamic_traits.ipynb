{
 "cells": [
  {
   "cell_type": "markdown",
   "id": "805fc7a5-73cf-4760-bf71-508c3b89269a",
   "metadata": {},
   "source": [
    "# Agent dynamic traits\n",
    "This notebook provides a demonstration of the optional `Agent` parameter `dynamic_traits_function` that can be used to generate agent traits dynamically based on the question being asked or the scenario in which the question is asked. \n",
    "\n",
    "Learn more about this method in the docs: [Agent dynamic traits function](https://docs.expectedparrot.com/en/latest/agents.html#dynamic-traits-function)"
   ]
  },
  {
   "cell_type": "markdown",
   "id": "2eae2ead-01c0-4b03-bea7-f26c57fdf0f5",
   "metadata": {},
   "source": [
    "## How it works\n",
    "Agents are created by passing a dictionary of `traits` to an `Agent` object. For example:"
   ]
  },
  {
   "cell_type": "code",
   "execution_count": 1,
   "id": "85e5e148-329f-42a7-a925-9c7c8e92314b",
   "metadata": {},
   "outputs": [],
   "source": [
    "from edsl import Agent\n",
    "\n",
    "my_agent = Agent(traits = {\n",
    "    \"persona\": \"You are a middle-aged mom.\",\n",
    "    \"current_vehicle\": \"minivan\"\n",
    "})"
   ]
  },
  {
   "cell_type": "markdown",
   "id": "2762f0f5-7769-43eb-8bf7-6fcb802d7604",
   "metadata": {},
   "source": [
    "When we run a survey with this agent, the language model will reference the agent's traits in generating responses. We can test this:"
   ]
  },
  {
   "cell_type": "code",
   "execution_count": 2,
   "id": "c708d32a-3501-455b-a615-e4a544b62b34",
   "metadata": {},
   "outputs": [
    {
     "data": {
      "text/html": [
       "<pre style=\"white-space:pre;overflow-x:auto;line-height:normal;font-family:Menlo,'DejaVu Sans Mono',consolas,'Courier New',monospace\">┏━━━━━━━━━━━━━━━━━━━━━━━━━━━━━━━━━━┳━━━━━━━━━━━━━━━━━━━━━━━━━━━━━━━━━━━━━━━━━━━━━━━━━━━━━━━━━━━━━━━━━━━━━━━━━━━━━━┓\n",
       "┃<span style=\"color: #800080; text-decoration-color: #800080; font-weight: bold\"> answer                           </span>┃<span style=\"color: #800080; text-decoration-color: #800080; font-weight: bold\"> answer                                                                       </span>┃\n",
       "┃<span style=\"color: #800080; text-decoration-color: #800080; font-weight: bold\"> .car                             </span>┃<span style=\"color: #800080; text-decoration-color: #800080; font-weight: bold\"> .age                                                                         </span>┃\n",
       "┡━━━━━━━━━━━━━━━━━━━━━━━━━━━━━━━━━━╇━━━━━━━━━━━━━━━━━━━━━━━━━━━━━━━━━━━━━━━━━━━━━━━━━━━━━━━━━━━━━━━━━━━━━━━━━━━━━━┩\n",
       "│<span style=\"color: #7f7f7f; text-decoration-color: #7f7f7f\"> I'm currently driving a minivan. </span>│<span style=\"color: #7f7f7f; text-decoration-color: #7f7f7f\"> You know, a lady never tells her age, but let's just say I'm seasoned enough </span>│\n",
       "│<span style=\"color: #7f7f7f; text-decoration-color: #7f7f7f\">                                  </span>│<span style=\"color: #7f7f7f; text-decoration-color: #7f7f7f\"> to have mastered the art of juggling family, work, and driving a minivan     </span>│\n",
       "│<span style=\"color: #7f7f7f; text-decoration-color: #7f7f7f\">                                  </span>│<span style=\"color: #7f7f7f; text-decoration-color: #7f7f7f\"> with style.                                                                  </span>│\n",
       "└──────────────────────────────────┴──────────────────────────────────────────────────────────────────────────────┘\n",
       "</pre>\n"
      ],
      "text/plain": [
       "┏━━━━━━━━━━━━━━━━━━━━━━━━━━━━━━━━━━┳━━━━━━━━━━━━━━━━━━━━━━━━━━━━━━━━━━━━━━━━━━━━━━━━━━━━━━━━━━━━━━━━━━━━━━━━━━━━━━┓\n",
       "┃\u001b[1;35m \u001b[0m\u001b[1;35manswer                          \u001b[0m\u001b[1;35m \u001b[0m┃\u001b[1;35m \u001b[0m\u001b[1;35manswer                                                                      \u001b[0m\u001b[1;35m \u001b[0m┃\n",
       "┃\u001b[1;35m \u001b[0m\u001b[1;35m.car                            \u001b[0m\u001b[1;35m \u001b[0m┃\u001b[1;35m \u001b[0m\u001b[1;35m.age                                                                        \u001b[0m\u001b[1;35m \u001b[0m┃\n",
       "┡━━━━━━━━━━━━━━━━━━━━━━━━━━━━━━━━━━╇━━━━━━━━━━━━━━━━━━━━━━━━━━━━━━━━━━━━━━━━━━━━━━━━━━━━━━━━━━━━━━━━━━━━━━━━━━━━━━┩\n",
       "│\u001b[2m \u001b[0m\u001b[2mI'm currently driving a minivan.\u001b[0m\u001b[2m \u001b[0m│\u001b[2m \u001b[0m\u001b[2mYou know, a lady never tells her age, but let's just say I'm seasoned enough\u001b[0m\u001b[2m \u001b[0m│\n",
       "│\u001b[2m                                  \u001b[0m│\u001b[2m \u001b[0m\u001b[2mto have mastered the art of juggling family, work, and driving a minivan    \u001b[0m\u001b[2m \u001b[0m│\n",
       "│\u001b[2m                                  \u001b[0m│\u001b[2m \u001b[0m\u001b[2mwith style.                                                                 \u001b[0m\u001b[2m \u001b[0m│\n",
       "└──────────────────────────────────┴──────────────────────────────────────────────────────────────────────────────┘\n"
      ]
     },
     "metadata": {},
     "output_type": "display_data"
    }
   ],
   "source": [
    "from edsl.questions import QuestionFreeText\n",
    "from edsl import Survey\n",
    "\n",
    "q1 = QuestionFreeText(\n",
    "    question_name = \"age\",\n",
    "    question_text = \"How old are you?\"\n",
    ")\n",
    "q2 = QuestionFreeText(\n",
    "    question_name = \"car\",\n",
    "    question_text = \"What are you driving?\"\n",
    ")\n",
    "survey = Survey([q1, q2])\n",
    "\n",
    "results = survey.by(my_agent).run()\n",
    "\n",
    "results.select(\"answer.*\").print(format = \"rich\")"
   ]
  },
  {
   "cell_type": "markdown",
   "id": "11234f8f-3fd8-4516-aa1d-dcd8907abbc2",
   "metadata": {},
   "source": [
    "## Designing question-based traits\n",
    "For efficiency or other reasons, we may want to minimize the set of traits that we pass to the agent when we create it, and instead only generate certain traits to use with specific questions. To do this, we can create a method for the desired conditional logic and pass it to an agent as the `dynamic_traits_function` parameter:"
   ]
  },
  {
   "cell_type": "code",
   "execution_count": 3,
   "id": "949a1c9a-cd03-4a05-ab84-f752985fb923",
   "metadata": {},
   "outputs": [
    {
     "data": {
      "text/html": [
       "<pre style=\"white-space:pre;overflow-x:auto;line-height:normal;font-family:Menlo,'DejaVu Sans Mono',consolas,'Courier New',monospace\">┏━━━━━━━━━━━━━━━━━━━━━━━━┓\n",
       "┃<span style=\"color: #800080; text-decoration-color: #800080; font-weight: bold\"> answer                 </span>┃\n",
       "┃<span style=\"color: #800080; text-decoration-color: #800080; font-weight: bold\"> .favorite_color        </span>┃\n",
       "┡━━━━━━━━━━━━━━━━━━━━━━━━┩\n",
       "│<span style=\"color: #7f7f7f; text-decoration-color: #7f7f7f\"> I'd prefer not to say. </span>│\n",
       "└────────────────────────┘\n",
       "</pre>\n"
      ],
      "text/plain": [
       "┏━━━━━━━━━━━━━━━━━━━━━━━━┓\n",
       "┃\u001b[1;35m \u001b[0m\u001b[1;35manswer                \u001b[0m\u001b[1;35m \u001b[0m┃\n",
       "┃\u001b[1;35m \u001b[0m\u001b[1;35m.favorite_color       \u001b[0m\u001b[1;35m \u001b[0m┃\n",
       "┡━━━━━━━━━━━━━━━━━━━━━━━━┩\n",
       "│\u001b[2m \u001b[0m\u001b[2mI'd prefer not to say.\u001b[0m\u001b[2m \u001b[0m│\n",
       "└────────────────────────┘\n"
      ]
     },
     "metadata": {},
     "output_type": "display_data"
    }
   ],
   "source": [
    "# Create a method for the desired logic\n",
    "def favorite_color_response(question):\n",
    "    if question.question_name == \"favorite_color\":\n",
    "        return {\"favorite_color\": \"I'd prefer not to say.\"} # trait to be passed to the agent\n",
    "\n",
    "# Pass it to the agent\n",
    "a = Agent(dynamic_traits_function = favorite_color_response)\n",
    "\n",
    "# Test it by running a relevant question\n",
    "q = QuestionFreeText(\n",
    "    question_name = \"favorite_color\",\n",
    "    question_text = \"What is your favorite color?\"\n",
    ")\n",
    "\n",
    "results = q.by(a).run()\n",
    "\n",
    "# Inspect the response\n",
    "results.select(\"favorite_color\").print(format=\"rich\")"
   ]
  },
  {
   "cell_type": "markdown",
   "id": "31fa7417-f991-4674-a644-12db9fc1a820",
   "metadata": {},
   "source": [
    "## Context-based traits\n",
    "The methods used to generate dynamic traits can be complex and provide traits that involve calling other special methods. Here we create a method for accessing the top story on Hacker News and pass it to the agent with a method that will use that result to generate some traits that are not tied to a specific question:"
   ]
  },
  {
   "cell_type": "code",
   "execution_count": 4,
   "id": "fd32d602-5a66-4a1d-a47b-dc3cfc7bb4c7",
   "metadata": {},
   "outputs": [],
   "source": [
    "# A method for accessing Hacker News stories\n",
    "import requests\n",
    "\n",
    "def get_top_hacker_news_story():\n",
    "    # URL for the top stories endpoint\n",
    "    top_stories_url = 'https://hacker-news.firebaseio.com/v0/topstories.json'\n",
    "    \n",
    "    # Fetch the list of top story IDs\n",
    "    response = requests.get(top_stories_url)\n",
    "    if response.status_code != 200:\n",
    "        return 'Error fetching top stories'\n",
    "\n",
    "    top_stories = response.json()\n",
    "\n",
    "    # Check if there are any stories\n",
    "    if not top_stories:\n",
    "        return 'No top stories found'\n",
    "\n",
    "    # URL for an individual item\n",
    "    story_url = f'https://hacker-news.firebaseio.com/v0/item/{top_stories[0]}.json'\n",
    "\n",
    "    # Fetch the top story\n",
    "    response = requests.get(story_url)\n",
    "    if response.status_code != 200:\n",
    "        return 'Error fetching the top story'\n",
    "        \n",
    "    top_story = response.json()\n",
    "    return top_story"
   ]
  },
  {
   "cell_type": "code",
   "execution_count": 5,
   "id": "5fae9955-cda9-4e0a-a14e-1dba7378a472",
   "metadata": {},
   "outputs": [
    {
     "data": {
      "text/plain": [
       "{'by': 'tolgaarslan',\n",
       " 'descendants': 16,\n",
       " 'id': 40168519,\n",
       " 'kids': [40169818,\n",
       "  40169746,\n",
       "  40168998,\n",
       "  40169299,\n",
       "  40169616,\n",
       "  40168935,\n",
       "  40169010,\n",
       "  40168566,\n",
       "  40168520],\n",
       " 'score': 64,\n",
       " 'time': 1714134195,\n",
       " 'title': \"I'm creating PBR Textures and 3D models since 2018 and sharing them for free\",\n",
       " 'type': 'story',\n",
       " 'url': 'https://www.sharetextures.com/'}"
      ]
     },
     "execution_count": 5,
     "metadata": {},
     "output_type": "execute_result"
    }
   ],
   "source": [
    "# Check the output\n",
    "get_top_hacker_news_story()"
   ]
  },
  {
   "cell_type": "code",
   "execution_count": 6,
   "id": "49b6e719-ee53-4227-be6f-e64948c30d55",
   "metadata": {},
   "outputs": [
    {
     "data": {
      "text/html": [
       "<pre style=\"white-space:pre;overflow-x:auto;line-height:normal;font-family:Menlo,'DejaVu Sans Mono',consolas,'Courier New',monospace\">┏━━━━━━━━━━━━━━━━━━━━━━━━━━━━━━━━┳━━━━━━━━━━━━━━━━━━━━━━━━━━━━━━━━━━━━━━━━━━━━━━━━━━━━━━━━━━━━━━━━━━━━━━━━━━━━━━━━┓\n",
       "┃<span style=\"color: #800080; text-decoration-color: #800080; font-weight: bold\"> answer                         </span>┃<span style=\"color: #800080; text-decoration-color: #800080; font-weight: bold\"> answer                                                                         </span>┃\n",
       "┃<span style=\"color: #800080; text-decoration-color: #800080; font-weight: bold\"> .url                           </span>┃<span style=\"color: #800080; text-decoration-color: #800080; font-weight: bold\"> .reading                                                                       </span>┃\n",
       "┡━━━━━━━━━━━━━━━━━━━━━━━━━━━━━━━━╇━━━━━━━━━━━━━━━━━━━━━━━━━━━━━━━━━━━━━━━━━━━━━━━━━━━━━━━━━━━━━━━━━━━━━━━━━━━━━━━━┩\n",
       "│<span style=\"color: #7f7f7f; text-decoration-color: #7f7f7f\"> https://www.sharetextures.com/ </span>│<span style=\"color: #7f7f7f; text-decoration-color: #7f7f7f\"> I've been diving into various resources on creating PBR textures and 3D        </span>│\n",
       "│<span style=\"color: #7f7f7f; text-decoration-color: #7f7f7f\">                                </span>│<span style=\"color: #7f7f7f; text-decoration-color: #7f7f7f\"> models, focusing on the latest techniques and tools since 2018. I'm also       </span>│\n",
       "│<span style=\"color: #7f7f7f; text-decoration-color: #7f7f7f\">                                </span>│<span style=\"color: #7f7f7f; text-decoration-color: #7f7f7f\"> exploring ways to share them with a broader audience for free to support the   </span>│\n",
       "│<span style=\"color: #7f7f7f; text-decoration-color: #7f7f7f\">                                </span>│<span style=\"color: #7f7f7f; text-decoration-color: #7f7f7f\"> creative community.                                                            </span>│\n",
       "└────────────────────────────────┴────────────────────────────────────────────────────────────────────────────────┘\n",
       "</pre>\n"
      ],
      "text/plain": [
       "┏━━━━━━━━━━━━━━━━━━━━━━━━━━━━━━━━┳━━━━━━━━━━━━━━━━━━━━━━━━━━━━━━━━━━━━━━━━━━━━━━━━━━━━━━━━━━━━━━━━━━━━━━━━━━━━━━━━┓\n",
       "┃\u001b[1;35m \u001b[0m\u001b[1;35manswer                        \u001b[0m\u001b[1;35m \u001b[0m┃\u001b[1;35m \u001b[0m\u001b[1;35manswer                                                                        \u001b[0m\u001b[1;35m \u001b[0m┃\n",
       "┃\u001b[1;35m \u001b[0m\u001b[1;35m.url                          \u001b[0m\u001b[1;35m \u001b[0m┃\u001b[1;35m \u001b[0m\u001b[1;35m.reading                                                                      \u001b[0m\u001b[1;35m \u001b[0m┃\n",
       "┡━━━━━━━━━━━━━━━━━━━━━━━━━━━━━━━━╇━━━━━━━━━━━━━━━━━━━━━━━━━━━━━━━━━━━━━━━━━━━━━━━━━━━━━━━━━━━━━━━━━━━━━━━━━━━━━━━━┩\n",
       "│\u001b[2m \u001b[0m\u001b[2mhttps://www.sharetextures.com/\u001b[0m\u001b[2m \u001b[0m│\u001b[2m \u001b[0m\u001b[2mI've been diving into various resources on creating PBR textures and 3D       \u001b[0m\u001b[2m \u001b[0m│\n",
       "│\u001b[2m                                \u001b[0m│\u001b[2m \u001b[0m\u001b[2mmodels, focusing on the latest techniques and tools since 2018. I'm also      \u001b[0m\u001b[2m \u001b[0m│\n",
       "│\u001b[2m                                \u001b[0m│\u001b[2m \u001b[0m\u001b[2mexploring ways to share them with a broader audience for free to support the  \u001b[0m\u001b[2m \u001b[0m│\n",
       "│\u001b[2m                                \u001b[0m│\u001b[2m \u001b[0m\u001b[2mcreative community.                                                           \u001b[0m\u001b[2m \u001b[0m│\n",
       "└────────────────────────────────┴────────────────────────────────────────────────────────────────────────────────┘\n"
      ]
     },
     "metadata": {},
     "output_type": "display_data"
    }
   ],
   "source": [
    "# Create a method for the trait logic\n",
    "def reading_habits():\n",
    "    return {\n",
    "        \"recent_reading\": get_top_hacker_news_story()[\"title\"],\n",
    "        \"recent_story_url\": get_top_hacker_news_story()[\"url\"]\n",
    "    }\n",
    "\n",
    "# Create an agent and pass it the logic\n",
    "news_hound = Agent(dynamic_traits_function = reading_habits)\n",
    "\n",
    "# Run some test questions\n",
    "q1 = QuestionFreeText(\n",
    "    question_name = \"reading\",\n",
    "    question_text = \"What have you been reading lately?\"\n",
    ")\n",
    "q2 = QuestionFreeText(\n",
    "    question_name = \"url\",\n",
    "    question_text = \"Do you know the url for a recent story?\"\n",
    ")\n",
    "\n",
    "survey = Survey([q1, q2])\n",
    "results = survey.by(news_hound).run()\n",
    "\n",
    "# Inspect the results \n",
    "results.select(\"answer.*\").print(format=\"rich\")"
   ]
  }
 ],
 "metadata": {
  "kernelspec": {
   "display_name": "Python 3 (ipykernel)",
   "language": "python",
   "name": "python3"
  },
  "language_info": {
   "codemirror_mode": {
    "name": "ipython",
    "version": 3
   },
   "file_extension": ".py",
   "mimetype": "text/x-python",
   "name": "python",
   "nbconvert_exporter": "python",
   "pygments_lexer": "ipython3",
   "version": "3.11.7"
  }
 },
 "nbformat": 4,
 "nbformat_minor": 5
}
