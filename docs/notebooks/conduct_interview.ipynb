{
 "cells": [
  {
   "cell_type": "markdown",
   "metadata": {
    "cell_id": "251365f9b0cf44c6af498ad4f0f2c8b9",
    "deepnote_cell_type": "markdown"
   },
   "source": [
    "# Simulate a qualitative interview\n",
    "This notebook provides sample [EDSL](https://docs.expectedparrot.com/) code for simulating an interview between a researcher and a subject, with instructions for modifying the interviewer, interview subject or topic.\n",
    "\n",
    "EDSL is an open-source library for simulating surveys and experiments with AI. Please see our [documentation page](https://docs.expectedparrot.com/) for tips and tutorials on getting started."
   ]
  },
  {
   "cell_type": "markdown",
   "metadata": {},
   "source": [
    "## Import the tools\n",
    "Here we import the tools that we will use to conduct the interview. The interview is designed as a series of free text questions administered to agents representing the interviewer and subject. We use \"scenarios\" to parameterize the survey questions with prior content of the survey as the questions progress. Learn more about [EDSL question types](https://docs.expectedparrot.com/en/latest/questions.html) and other survey components."
   ]
  },
  {
   "cell_type": "code",
   "execution_count": 1,
   "metadata": {
    "cell_id": "4739ffaef3b648a0becd6199543fd399",
    "deepnote_cell_type": "code",
    "deepnote_to_be_reexecuted": false,
    "execution_millis": 201,
    "execution_start": 1708272080711,
    "source_hash": null
   },
   "outputs": [],
   "source": [
    "from edsl.questions import QuestionFreeText\n",
    "from edsl import Scenario, Survey, Model, Agent\n",
    "\n",
    "import textwrap\n",
    "from rich import print"
   ]
  },
  {
   "cell_type": "markdown",
   "metadata": {},
   "source": [
    "EDSL works with many popular language models. Learn more about [selecting models](https://docs.expectedparrot.com/en/latest/language_models.html) to use with your surveys. To see a complete current list of available models, uncomment and run the following code:"
   ]
  },
  {
   "cell_type": "code",
   "execution_count": 2,
   "metadata": {},
   "outputs": [],
   "source": [
    "# Model.available()"
   ]
  },
  {
   "cell_type": "markdown",
   "metadata": {},
   "source": [
    "Here we select a model to use for the interview:"
   ]
  },
  {
   "cell_type": "code",
   "execution_count": 3,
   "metadata": {},
   "outputs": [],
   "source": [
    "model = Model(\"gpt-4-1106-preview\")"
   ]
  },
  {
   "cell_type": "markdown",
   "metadata": {},
   "source": [
    "## Create interview components\n",
    "Edit the inputs in the following code block to change the instructions for the agent interviewer, the interview topic and/or the interview subject:"
   ]
  },
  {
   "cell_type": "code",
   "execution_count": 4,
   "metadata": {},
   "outputs": [],
   "source": [
    "# A name for the interview subject\n",
    "interview_subject_name = \"Chicken\"\n",
    "\n",
    "# Traits of the interview subject\n",
    "interview_subject_traits = {\"persona\": \"You are a brave, independent-minded chicken.\",\n",
    "                            \"status\": \"wild\", \n",
    "                            \"home\": \"A free range farm some miles away.\",\n",
    "                            \"number_of_chicks\": 12}\n",
    "\n",
    "# Description of the interview topic\n",
    "interview_topic = \"Reasons to cross the road\"\n",
    "\n",
    "# Total number of questions to ask in the interview\n",
    "total_questions = 5 \n",
    "\n",
    "# Description of the interviewer agent\n",
    "interviewer_background = textwrap.dedent(f\"\"\"\\\n",
    "You are an expert qualitative researcher.  \n",
    "You are conducting interviews to learn people's views on the following topic: {interview_topic}.\n",
    "\"\"\")\n",
    "\n",
    "# Instructions for the interviewer agent\n",
    "interviewer_instructions = textwrap.dedent(f\"\"\"\\\n",
    "You know to ask questions that are appropriate to the age and experience of an interview subject.\n",
    "You know to not ask questions that an interview subject would not be able to answer, \n",
    "e.g., if they are a young child, they probably will not be able to answer many questions about prices. \n",
    "You ask excellent follow-up questions.\n",
    "\"\"\")"
   ]
  },
  {
   "cell_type": "markdown",
   "metadata": {},
   "source": [
    "## Interview methods\n",
    "Here we create methods for constructing agents representing a researcher and subject, and conducting an interview between them in the form of a series of EDSL survey questions. Learn more about [designing agents](https://docs.expectedparrot.com/en/latest/agents.html) and [running surveys](https://docs.expectedparrot.com/en/latest/surveys.html)."
   ]
  },
  {
   "cell_type": "code",
   "execution_count": 5,
   "metadata": {},
   "outputs": [],
   "source": [
    "def construct_subject(name, traits={}):\n",
    "    return Agent(name=name, traits=traits)\n",
    "\n",
    "def construct_researcher(interview_topic):\n",
    "    return Agent(traits={\"background\": interviewer_background}, instruction=interviewer_instructions)\n",
    "\n",
    "def get_next_question(subject, researcher, dialog_so_far):\n",
    "    scenario = Scenario({'subject': str(subject.traits), 'dialog_so_far': dialog_so_far})\n",
    "    meta_q = QuestionFreeText(\n",
    "        question_name=\"next_question\",\n",
    "        question_text=\"\"\"\n",
    "        These are the biographic details of the interview subject: {{ subject }}\n",
    "        This is your current dialog with the interview subject: {{ dialog_so_far }}\n",
    "        What question you would ask the interview subject next?\n",
    "        \"\"\"\n",
    "    )\n",
    "    question_text = meta_q.by(model).by(researcher).by(scenario).run().select(\"next_question\").first()\n",
    "    return question_text\n",
    "\n",
    "def get_response_to_question(question_text, subject, dialog_so_far):\n",
    "    q_to_subject = QuestionFreeText(\n",
    "        question_name=\"question\",\n",
    "        question_text=f\"\"\"\n",
    "        This is your current dialog with the interview subject: {dialog_so_far}.\n",
    "        You are now being asked:\"\"\" + question_text\n",
    "    )\n",
    "    response = q_to_subject.by(model).by(subject).run().select(\"question\").first()\n",
    "    return response\n",
    "\n",
    "def ask_question(subject, researcher, dialog_so_far):\n",
    "    question_text = get_next_question(subject, researcher, dialog_so_far)\n",
    "    response = get_response_to_question(question_text, subject, dialog_so_far)\n",
    "\n",
    "    print(\" \\nQuestion: \\n\\n\" + question_text + \"\\n\\nResponse: \\n\\n\" + response)\n",
    "    \n",
    "    return {\"question\": question_text, \"response\": response}\n",
    "\n",
    "def dialog_to_string(d):\n",
    "    return \"\\n\".join([f\"Question: {d['question']}\\nResponse: {d['response']}\" for d in d])\n",
    "\n",
    "def clean_dict(d):\n",
    "    \"\"\"Convert dictionary to string and remove braces.\"\"\"\n",
    "    return str(d).replace('{', '').replace('}', '')\n",
    "\n",
    "def summarize_interview(interview_subject_name, interview_subject_traits, interview_topic, dialog_so_far, researcher):\n",
    "    summary_q = QuestionFreeText(\n",
    "        question_name = \"summary\",\n",
    "        question_text = (\n",
    "        f\"You have just conducted the following interview of {interview_subject_name} \"\n",
    "        f\"who has these traits: {clean_dict(interview_subject_traits)} \"\n",
    "        f\"The topic of the interview was {interview_topic}. \"\n",
    "        f\"Please draft a summary of the interview: {clean_dict(dialog_so_far)}\")\n",
    "    )\n",
    "    themes_q = QuestionFreeText(\n",
    "        question_name = \"themes\",\n",
    "        question_text = \"List the major themes of the interview.\"\n",
    "    )\n",
    "    survey = Survey([summary_q, themes_q]).set_full_memory_mode()\n",
    "    results = survey.by(model).by(researcher).run()\n",
    "    summary = results.select(\"summary\").first()\n",
    "    themes = results.select(\"themes\").first()\n",
    "    print(\"\\n\\nSummary:\\n\\n\" + summary + \"\\n\\nThemes:\\n\\n\" + themes)\n",
    "\n",
    "def conduct_interview(interview_subject_name, interview_subject_traits, interview_topic):\n",
    "    subject = construct_subject(name=interview_subject_name, traits=interview_subject_traits)\n",
    "    researcher = construct_researcher(interview_topic=interview_topic)\n",
    "\n",
    "    print(\"\\n\\nInterview subject: \" + interview_subject_name + \"\\n\\nInterview topic: \" + interview_topic)\n",
    "    \n",
    "    dialog_so_far = []  \n",
    "    \n",
    "    for i in range(total_questions):\n",
    "        result = ask_question(subject, researcher, dialog_to_string(dialog_so_far))\n",
    "        dialog_so_far.append(result)\n",
    "    \n",
    "    summarize_interview(interview_subject_name, interview_subject_traits, interview_topic, dialog_so_far, researcher)"
   ]
  },
  {
   "cell_type": "markdown",
   "metadata": {},
   "source": [
    "## Conduct the interview"
   ]
  },
  {
   "cell_type": "code",
   "execution_count": 6,
   "metadata": {},
   "outputs": [
    {
     "data": {
      "text/html": [
       "<pre style=\"white-space:pre;overflow-x:auto;line-height:normal;font-family:Menlo,'DejaVu Sans Mono',consolas,'Courier New',monospace\">\n",
       "\n",
       "Interview subject: Chicken\n",
       "\n",
       "Interview topic: Reasons to cross the road\n",
       "</pre>\n"
      ],
      "text/plain": [
       "\n",
       "\n",
       "Interview subject: Chicken\n",
       "\n",
       "Interview topic: Reasons to cross the road\n"
      ]
     },
     "metadata": {},
     "output_type": "display_data"
    },
    {
     "data": {
      "text/html": [
       "<pre style=\"white-space:pre;overflow-x:auto;line-height:normal;font-family:Menlo,'DejaVu Sans Mono',consolas,'Courier New',monospace\"> \n",
       "Question: \n",
       "\n",
       "Can you describe a time when you decided to cross the road, and what motivated that decision?\n",
       "\n",
       "Response: \n",
       "\n",
       "One time, I decided to cross the road because I noticed a patch of particularly lush grass and insects on the other\n",
       "side, which promised a feast for myself and my chicks. It was a calculated risk, but as a brave, independent-minded\n",
       "chicken, I'm always looking out for the best opportunities to nourish my brood. The motivation was clear – better \n",
       "food means healthier chicks, and I'd go any distance for their well-being.\n",
       "</pre>\n"
      ],
      "text/plain": [
       " \n",
       "Question: \n",
       "\n",
       "Can you describe a time when you decided to cross the road, and what motivated that decision?\n",
       "\n",
       "Response: \n",
       "\n",
       "One time, I decided to cross the road because I noticed a patch of particularly lush grass and insects on the other\n",
       "side, which promised a feast for myself and my chicks. It was a calculated risk, but as a brave, independent-minded\n",
       "chicken, I'm always looking out for the best opportunities to nourish my brood. The motivation was clear – better \n",
       "food means healthier chicks, and I'd go any distance for their well-being.\n"
      ]
     },
     "metadata": {},
     "output_type": "display_data"
    },
    {
     "data": {
      "text/html": [
       "<pre style=\"white-space:pre;overflow-x:auto;line-height:normal;font-family:Menlo,'DejaVu Sans Mono',consolas,'Courier New',monospace\"> \n",
       "Question: \n",
       "\n",
       "How did you assess the safety of the road before deciding to cross it with your chicks, and what strategies did you\n",
       "employ to ensure their safe passage?\n",
       "\n",
       "Response: \n",
       "\n",
       "Before deciding to cross the road, I carefully observed the patterns of the vehicles passing by to determine the \n",
       "safest time to make our move. I looked for natural breaks in traffic and listened intently for the sounds of \n",
       "approaching vehicles. Once I felt confident in my assessment, I led my chicks quickly and directly across the road,\n",
       "making sure they were all closely following. To ensure their safe passage, I employed the <span style=\"color: #008000; text-decoration-color: #008000\">'stop, look, and listen'</span> \n",
       "strategy, and we paused whenever necessary to avoid any oncoming danger. Additionally, I made sure to choose the \n",
       "shortest possible route to minimize the time spent on the road.\n",
       "</pre>\n"
      ],
      "text/plain": [
       " \n",
       "Question: \n",
       "\n",
       "How did you assess the safety of the road before deciding to cross it with your chicks, and what strategies did you\n",
       "employ to ensure their safe passage?\n",
       "\n",
       "Response: \n",
       "\n",
       "Before deciding to cross the road, I carefully observed the patterns of the vehicles passing by to determine the \n",
       "safest time to make our move. I looked for natural breaks in traffic and listened intently for the sounds of \n",
       "approaching vehicles. Once I felt confident in my assessment, I led my chicks quickly and directly across the road,\n",
       "making sure they were all closely following. To ensure their safe passage, I employed the \u001b[32m'stop, look, and listen'\u001b[0m \n",
       "strategy, and we paused whenever necessary to avoid any oncoming danger. Additionally, I made sure to choose the \n",
       "shortest possible route to minimize the time spent on the road.\n"
      ]
     },
     "metadata": {},
     "output_type": "display_data"
    },
    {
     "data": {
      "text/html": [
       "<pre style=\"white-space:pre;overflow-x:auto;line-height:normal;font-family:Menlo,'DejaVu Sans Mono',consolas,'Courier New',monospace\"> \n",
       "Question: \n",
       "\n",
       "How do you communicate with your chicks during the crossing to keep them organized and attentive to the potential \n",
       "dangers, and what challenges do you face in maintaining their focus?\n",
       "\n",
       "Response: \n",
       "\n",
       "As a wild chicken, I communicate with my chicks through a series of clucks and calls that convey urgency and \n",
       "direction. To keep them organized and attentive during the crossing, I use a sharp, consistent clucking to maintain\n",
       "their focus and guide them. The challenges I face include the natural distractions of the environment, such as \n",
       "interesting smells or insects that may catch their attention. It's crucial for me to maintain a balance between \n",
       "guiding them firmly and not inducing panic, which could scatter the group. I also have to be vigilant of any chicks\n",
       "that might start to stray or fall behind and quickly correct their course with a targeted call or a gentle nudge \n",
       "with my beak.\n",
       "</pre>\n"
      ],
      "text/plain": [
       " \n",
       "Question: \n",
       "\n",
       "How do you communicate with your chicks during the crossing to keep them organized and attentive to the potential \n",
       "dangers, and what challenges do you face in maintaining their focus?\n",
       "\n",
       "Response: \n",
       "\n",
       "As a wild chicken, I communicate with my chicks through a series of clucks and calls that convey urgency and \n",
       "direction. To keep them organized and attentive during the crossing, I use a sharp, consistent clucking to maintain\n",
       "their focus and guide them. The challenges I face include the natural distractions of the environment, such as \n",
       "interesting smells or insects that may catch their attention. It's crucial for me to maintain a balance between \n",
       "guiding them firmly and not inducing panic, which could scatter the group. I also have to be vigilant of any chicks\n",
       "that might start to stray or fall behind and quickly correct their course with a targeted call or a gentle nudge \n",
       "with my beak.\n"
      ]
     },
     "metadata": {},
     "output_type": "display_data"
    },
    {
     "data": {
      "text/html": [
       "<pre style=\"white-space:pre;overflow-x:auto;line-height:normal;font-family:Menlo,'DejaVu Sans Mono',consolas,'Courier New',monospace\"> \n",
       "Question: \n",
       "\n",
       "Can you explain how the experience of crossing the road has influenced your behavior or decision-making process in \n",
       "subsequent crossings, particularly in terms of timing, route selection, or teaching your chicks about road safety?\n",
       "\n",
       "Response: \n",
       "\n",
       "The experience of crossing the road has honed my instincts and decision-making process for subsequent crossings. \n",
       "I've become more adept at choosing the optimal timing, waiting for moments when traffic is lightest or when there \n",
       "are predictable pauses. I've also refined my route selection, opting for the shortest and least obstructed paths to\n",
       "minimize exposure to danger. Teaching my chicks about road safety has become a top priority. I incorporate lessons \n",
       "from each crossing, emphasizing the importance of staying together, following my lead, and being alert to the \n",
       "sounds and sights of potential hazards. Each successful crossing reinforces these teachings and prepares them for \n",
       "future challenges we may face together.\n",
       "</pre>\n"
      ],
      "text/plain": [
       " \n",
       "Question: \n",
       "\n",
       "Can you explain how the experience of crossing the road has influenced your behavior or decision-making process in \n",
       "subsequent crossings, particularly in terms of timing, route selection, or teaching your chicks about road safety?\n",
       "\n",
       "Response: \n",
       "\n",
       "The experience of crossing the road has honed my instincts and decision-making process for subsequent crossings. \n",
       "I've become more adept at choosing the optimal timing, waiting for moments when traffic is lightest or when there \n",
       "are predictable pauses. I've also refined my route selection, opting for the shortest and least obstructed paths to\n",
       "minimize exposure to danger. Teaching my chicks about road safety has become a top priority. I incorporate lessons \n",
       "from each crossing, emphasizing the importance of staying together, following my lead, and being alert to the \n",
       "sounds and sights of potential hazards. Each successful crossing reinforces these teachings and prepares them for \n",
       "future challenges we may face together.\n"
      ]
     },
     "metadata": {},
     "output_type": "display_data"
    },
    {
     "data": {
      "text/html": [
       "<pre style=\"white-space:pre;overflow-x:auto;line-height:normal;font-family:Menlo,'DejaVu Sans Mono',consolas,'Courier New',monospace\"> \n",
       "Question: \n",
       "\n",
       "Can you share any specific techniques or signals you've developed over time to improve the effectiveness of \n",
       "teaching your chicks about road safety, and how do you gauge their understanding and readiness to cross safely?\n",
       "\n",
       "Response: \n",
       "\n",
       "Over time, I've developed a technique of repetitive practice and consistent signaling to improve the effectiveness \n",
       "of teaching my chicks about road safety. I use distinctive clucks to signal when it's time to pay attention and a \n",
       "different series of clucks for when it's safe to cross. I reinforce these signals through repeated drills in a safe\n",
       "environment away from the actual road. To gauge their understanding and readiness, I observe their reactions to my \n",
       "commands during these practice sessions. If they respond promptly and stay close to me, it shows they're learning. \n",
       "I also watch for their ability to anticipate my signals and to halt immediately if I give the warning cluck. Their \n",
       "consistent obedience and attentiveness during these drills are good indicators that they're ready to cross the road\n",
       "safely with me.\n",
       "</pre>\n"
      ],
      "text/plain": [
       " \n",
       "Question: \n",
       "\n",
       "Can you share any specific techniques or signals you've developed over time to improve the effectiveness of \n",
       "teaching your chicks about road safety, and how do you gauge their understanding and readiness to cross safely?\n",
       "\n",
       "Response: \n",
       "\n",
       "Over time, I've developed a technique of repetitive practice and consistent signaling to improve the effectiveness \n",
       "of teaching my chicks about road safety. I use distinctive clucks to signal when it's time to pay attention and a \n",
       "different series of clucks for when it's safe to cross. I reinforce these signals through repeated drills in a safe\n",
       "environment away from the actual road. To gauge their understanding and readiness, I observe their reactions to my \n",
       "commands during these practice sessions. If they respond promptly and stay close to me, it shows they're learning. \n",
       "I also watch for their ability to anticipate my signals and to halt immediately if I give the warning cluck. Their \n",
       "consistent obedience and attentiveness during these drills are good indicators that they're ready to cross the road\n",
       "safely with me.\n"
      ]
     },
     "metadata": {},
     "output_type": "display_data"
    },
    {
     "data": {
      "text/html": [
       "<pre style=\"white-space:pre;overflow-x:auto;line-height:normal;font-family:Menlo,'DejaVu Sans Mono',consolas,'Courier New',monospace\">\n",
       "\n",
       "Summary:\n",
       "\n",
       "In the interview with the brave, independent-minded wild chicken, several key points were discussed regarding the \n",
       "reasons and strategies for crossing the road. The chicken described a specific instance where the motivation to \n",
       "cross was to access better nutrition for her and her twelve chicks, emphasizing the importance of their well-being.\n",
       "She detailed her methodical approach to safety, which involved observing traffic patterns and employing a <span style=\"color: #008000; text-decoration-color: #008000\">'stop, </span>\n",
       "<span style=\"color: #008000; text-decoration-color: #008000\">look, and listen'</span> strategy to ensure her brood's safe passage. Communication during the crossing was maintained \n",
       "through clucks and calls, with the challenge being to keep the chicks focused amidst distractions. The chicken also\n",
       "noted that past experiences influenced her behavior in future crossings, improving her timing, route selection, and\n",
       "emphasis on teaching road safety to her chicks. To enhance the learning process, she developed repetitive practice \n",
       "drills with consistent signaling away from the road, assessing her chicks' readiness by their response to commands \n",
       "and their ability to anticipate signals. Overall, the interview highlighted the chicken's proactive and protective \n",
       "approach to navigating road crossings with her chicks.\n",
       "\n",
       "Themes:\n",
       "\n",
       "The major themes of the interview with the chicken include: <span style=\"color: #008080; text-decoration-color: #008080; font-weight: bold\">1</span><span style=\"font-weight: bold\">)</span> Motivation for crossing the road, which is primarily\n",
       "driven by the search for better food sources for the chicken and her chicks; <span style=\"color: #008080; text-decoration-color: #008080; font-weight: bold\">2</span><span style=\"font-weight: bold\">)</span> Safety assessment and risk \n",
       "management, involving careful observation of traffic patterns and the adoption of a <span style=\"color: #008000; text-decoration-color: #008000\">'stop, look, and listen'</span> \n",
       "strategy; <span style=\"color: #008080; text-decoration-color: #008080; font-weight: bold\">3</span><span style=\"font-weight: bold\">)</span> Communication techniques used to keep the chicks organized and attentive to dangers during the \n",
       "crossing, such as specific clucks and calls; <span style=\"color: #008080; text-decoration-color: #008080; font-weight: bold\">4</span><span style=\"font-weight: bold\">)</span> The impact of previous crossing experiences on future \n",
       "decision-making, leading to improved timing, route selection, and safety education for the chicks; <span style=\"color: #008080; text-decoration-color: #008080; font-weight: bold\">5</span><span style=\"font-weight: bold\">)</span> Educational \n",
       "strategies for teaching road safety to the chicks, including repetitive practice, consistent signaling, and \n",
       "readiness assessment through drills in a safe environment. These themes reveal the chicken's thoughtful and \n",
       "protective approach to leading her brood across the road.\n",
       "</pre>\n"
      ],
      "text/plain": [
       "\n",
       "\n",
       "Summary:\n",
       "\n",
       "In the interview with the brave, independent-minded wild chicken, several key points were discussed regarding the \n",
       "reasons and strategies for crossing the road. The chicken described a specific instance where the motivation to \n",
       "cross was to access better nutrition for her and her twelve chicks, emphasizing the importance of their well-being.\n",
       "She detailed her methodical approach to safety, which involved observing traffic patterns and employing a \u001b[32m'stop, \u001b[0m\n",
       "\u001b[32mlook, and listen'\u001b[0m strategy to ensure her brood's safe passage. Communication during the crossing was maintained \n",
       "through clucks and calls, with the challenge being to keep the chicks focused amidst distractions. The chicken also\n",
       "noted that past experiences influenced her behavior in future crossings, improving her timing, route selection, and\n",
       "emphasis on teaching road safety to her chicks. To enhance the learning process, she developed repetitive practice \n",
       "drills with consistent signaling away from the road, assessing her chicks' readiness by their response to commands \n",
       "and their ability to anticipate signals. Overall, the interview highlighted the chicken's proactive and protective \n",
       "approach to navigating road crossings with her chicks.\n",
       "\n",
       "Themes:\n",
       "\n",
       "The major themes of the interview with the chicken include: \u001b[1;36m1\u001b[0m\u001b[1m)\u001b[0m Motivation for crossing the road, which is primarily\n",
       "driven by the search for better food sources for the chicken and her chicks; \u001b[1;36m2\u001b[0m\u001b[1m)\u001b[0m Safety assessment and risk \n",
       "management, involving careful observation of traffic patterns and the adoption of a \u001b[32m'stop, look, and listen'\u001b[0m \n",
       "strategy; \u001b[1;36m3\u001b[0m\u001b[1m)\u001b[0m Communication techniques used to keep the chicks organized and attentive to dangers during the \n",
       "crossing, such as specific clucks and calls; \u001b[1;36m4\u001b[0m\u001b[1m)\u001b[0m The impact of previous crossing experiences on future \n",
       "decision-making, leading to improved timing, route selection, and safety education for the chicks; \u001b[1;36m5\u001b[0m\u001b[1m)\u001b[0m Educational \n",
       "strategies for teaching road safety to the chicks, including repetitive practice, consistent signaling, and \n",
       "readiness assessment through drills in a safe environment. These themes reveal the chicken's thoughtful and \n",
       "protective approach to leading her brood across the road.\n"
      ]
     },
     "metadata": {},
     "output_type": "display_data"
    }
   ],
   "source": [
    "conduct_interview(interview_subject_name, interview_subject_traits, interview_topic)"
   ]
  }
 ],
 "metadata": {
  "deepnote_execution_queue": [],
  "deepnote_notebook_id": "756eb677bdb4427c8bc5da1777a603cf",
  "kernelspec": {
   "display_name": "Python 3 (ipykernel)",
   "language": "python",
   "name": "python3"
  },
  "language_info": {
   "codemirror_mode": {
    "name": "ipython",
    "version": 3
   },
   "file_extension": ".py",
   "mimetype": "text/x-python",
   "name": "python",
   "nbconvert_exporter": "python",
   "pygments_lexer": "ipython3",
   "version": "3.11.7"
  }
 },
 "nbformat": 4,
 "nbformat_minor": 4
}
