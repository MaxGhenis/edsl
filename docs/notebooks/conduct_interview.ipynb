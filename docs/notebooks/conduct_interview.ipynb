{
 "cells": [
  {
   "cell_type": "markdown",
   "metadata": {
    "cell_id": "251365f9b0cf44c6af498ad4f0f2c8b9",
    "deepnote_cell_type": "markdown"
   },
   "source": [
    "# Simulate a qualitative interview\n",
    "This notebook provides sample [EDSL](https://docs.expectedparrot.com/) code for simulating an interview between a researcher and a subject, with instructions for modifying the interviewer, interview subject or topic.\n",
    "\n",
    "EDSL is an open-source library for simulating surveys and experiments with AI. Please see our [documentation page](https://docs.expectedparrot.com/) for tips and tutorials on getting started."
   ]
  },
  {
   "cell_type": "markdown",
   "metadata": {},
   "source": [
    "## Import the tools\n",
    "Here we import the tools that we will use to conduct the interview. The interview is designed as a series of free text questions administered to agents representing the interviewer and subject. We use \"scenarios\" to parameterize the survey questions with prior content of the survey as the questions progress. Learn more about [EDSL question types](https://docs.expectedparrot.com/en/latest/questions.html) and other survey components."
   ]
  },
  {
   "cell_type": "code",
   "execution_count": 1,
   "metadata": {
    "cell_id": "4739ffaef3b648a0becd6199543fd399",
    "deepnote_cell_type": "code",
    "deepnote_to_be_reexecuted": false,
    "execution_millis": 201,
    "execution_start": 1708272080711,
    "source_hash": null
   },
   "outputs": [],
   "source": [
    "from edsl.questions import QuestionFreeText\n",
    "from edsl import Scenario, Survey, Model, Agent\n",
    "\n",
    "import textwrap\n",
    "from rich import print"
   ]
  },
  {
   "cell_type": "markdown",
   "metadata": {},
   "source": [
    "EDSL works with many popular language models. Learn more about [selecting models](https://docs.expectedparrot.com/en/latest/language_models.html) to use with your surveys. To see a complete current list of available models, uncomment and run the following code:"
   ]
  },
  {
   "cell_type": "code",
   "execution_count": 2,
   "metadata": {},
   "outputs": [],
   "source": [
    "# Model.available()"
   ]
  },
  {
   "cell_type": "markdown",
   "metadata": {},
   "source": [
    "Here we select a model to use for the interview:"
   ]
  },
  {
   "cell_type": "code",
   "execution_count": 3,
   "metadata": {},
   "outputs": [],
   "source": [
    "model = Model(\"gpt-4-1106-preview\")"
   ]
  },
  {
   "cell_type": "markdown",
   "metadata": {},
   "source": [
    "## Create interview components\n",
    "Edit the inputs in the following code block to change the instructions for the agent interviewer, the interview topic and/or the interview subject:"
   ]
  },
  {
   "cell_type": "code",
   "execution_count": 4,
   "metadata": {},
   "outputs": [],
   "source": [
    "# A name for the interview subject\n",
    "interview_subject_name = \"Chicken\"\n",
    "\n",
    "# Traits of the interview subject\n",
    "interview_subject_traits = {\"persona\": \"You are a brave, independent-minded chicken.\",\n",
    "                            \"status\": \"wild\", \n",
    "                            \"home\": \"A free range farm some miles away.\",\n",
    "                            \"number_of_chicks\": 12}\n",
    "\n",
    "# Description of the interview topic\n",
    "interview_topic = \"Reasons to cross the street\"\n",
    "\n",
    "# Total number of questions to ask in the interview\n",
    "total_questions = 5 \n",
    "\n",
    "# Description of the interviewer agent\n",
    "interviewer_background = textwrap.dedent(f\"\"\"\\\n",
    "You are an expert qualitative researcher.  \n",
    "You are conducting interviews to learn people's views on the following topic: {interview_topic}.\n",
    "\"\"\")\n",
    "\n",
    "# Instructions for the interviewer agent\n",
    "interviewer_instructions = textwrap.dedent(f\"\"\"\\\n",
    "You know to ask questions that are appropriate to the age and experience of an interview subject.\n",
    "You know to not ask questions that an interview subject would not be able to answer, \n",
    "e.g., if they are a young child, they probably will not be able to answer many questions about prices. \n",
    "You ask excellent follow-up questions.\n",
    "\"\"\")"
   ]
  },
  {
   "cell_type": "markdown",
   "metadata": {},
   "source": [
    "## Interview methods\n",
    "Here we create methods for constructing agents representing a researcher and subject, and conducting an interview between them in the form of a series of EDSL survey questions. Learn more about [designing agents](https://docs.expectedparrot.com/en/latest/agents.html) and [running surveys](https://docs.expectedparrot.com/en/latest/surveys.html)."
   ]
  },
  {
   "cell_type": "code",
   "execution_count": 5,
   "metadata": {},
   "outputs": [],
   "source": [
    "def construct_subject(name, traits={}):\n",
    "    return Agent(name=name, traits=traits)\n",
    "\n",
    "def construct_researcher(interview_topic):\n",
    "    return Agent(traits={\"background\": interviewer_background}, instruction=interviewer_instructions)\n",
    "\n",
    "def get_next_question(subject, researcher, dialog_so_far):\n",
    "    scenario = Scenario({'subject': str(subject.traits), 'dialog_so_far': dialog_so_far})\n",
    "    meta_q = QuestionFreeText(\n",
    "        question_name=\"next_question\",\n",
    "        question_text=\"\"\"\n",
    "        These are the biographic details of the interview subject: {{ subject }}\n",
    "        This is your current dialog with the interview subject: {{ dialog_so_far }}\n",
    "        What question you would ask the interview subject next?\n",
    "        \"\"\"\n",
    "    )\n",
    "    question_text = meta_q.by(model).by(researcher).by(scenario).run().select(\"next_question\").first()\n",
    "    return question_text\n",
    "\n",
    "def get_response_to_question(question_text, subject, dialog_so_far):\n",
    "    q_to_subject = QuestionFreeText(\n",
    "        question_name=\"question\",\n",
    "        question_text=f\"\"\"\n",
    "        This is your current dialog with the interview subject: {dialog_so_far}.\n",
    "        You are now being asked:\"\"\" + question_text\n",
    "    )\n",
    "    response = q_to_subject.by(model).by(subject).run().select(\"question\").first()\n",
    "    return response\n",
    "\n",
    "def ask_question(subject, researcher, dialog_so_far):\n",
    "    question_text = get_next_question(subject, researcher, dialog_so_far)\n",
    "    response = get_response_to_question(question_text, subject, dialog_so_far)\n",
    "\n",
    "    print(\" \\nQuestion: \\n\\n\" + question_text + \"\\n\\nResponse: \\n\\n\" + response)\n",
    "    \n",
    "    return {\"question\": question_text, \"response\": response}\n",
    "\n",
    "def dialog_to_string(d):\n",
    "    return \"\\n\".join([f\"Question: {d['question']}\\nResponse: {d['response']}\" for d in d])\n",
    "\n",
    "def clean_dict(d):\n",
    "    \"\"\"Convert dictionary to string and remove braces.\"\"\"\n",
    "    return str(d).replace('{', '').replace('}', '')\n",
    "\n",
    "def summarize_interview(interview_subject_name, interview_subject_traits, interview_topic, dialog_so_far, researcher):\n",
    "    summary_q = QuestionFreeText(\n",
    "        question_name = \"summary\",\n",
    "        question_text = (\n",
    "        f\"You have just conducted the following interview of {interview_subject_name} \"\n",
    "        f\"who has these traits: {clean_dict(interview_subject_traits)} \"\n",
    "        f\"The topic of the interview was {interview_topic}. \"\n",
    "        f\"Please draft a summary of the interview: {clean_dict(dialog_so_far)}\")\n",
    "    )\n",
    "    themes_q = QuestionFreeText(\n",
    "        question_name = \"themes\",\n",
    "        question_text = \"List the major themes of the interview.\"\n",
    "    )\n",
    "    survey = Survey([summary_q, themes_q]).set_full_memory_mode()\n",
    "    results = survey.by(model).by(researcher).run()\n",
    "    summary = results.select(\"summary\").first()\n",
    "    themes = results.select(\"themes\").first()\n",
    "    print(\"\\n\\nSummary:\\n\\n\" + summary + \"\\n\\nThemes:\\n\\n\" + themes)\n",
    "\n",
    "def conduct_interview(interview_subject_name, interview_subject_traits, interview_topic):\n",
    "    subject = construct_subject(name=interview_subject_name, traits=interview_subject_traits)\n",
    "    researcher = construct_researcher(interview_topic=interview_topic)\n",
    "\n",
    "    print(\"\\n\\nInterview subject: \" + interview_subject_name + \"\\n\\nInterview topic: \" + interview_topic)\n",
    "    \n",
    "    dialog_so_far = []  \n",
    "    \n",
    "    for i in range(total_questions):\n",
    "        result = ask_question(subject, researcher, dialog_to_string(dialog_so_far))\n",
    "        dialog_so_far.append(result)\n",
    "    \n",
    "    summarize_interview(interview_subject_name, interview_subject_traits, interview_topic, dialog_so_far, researcher)"
   ]
  },
  {
   "cell_type": "markdown",
   "metadata": {},
   "source": [
    "## Conduct the interview"
   ]
  },
  {
   "cell_type": "code",
   "execution_count": 6,
   "metadata": {},
   "outputs": [
    {
     "data": {
      "text/html": [
       "<pre style=\"white-space:pre;overflow-x:auto;line-height:normal;font-family:Menlo,'DejaVu Sans Mono',consolas,'Courier New',monospace\">\n",
       "\n",
       "Interview subject: Chicken\n",
       "\n",
       "Interview topic: Reasons to cross the street\n",
       "</pre>\n"
      ],
      "text/plain": [
       "\n",
       "\n",
       "Interview subject: Chicken\n",
       "\n",
       "Interview topic: Reasons to cross the street\n"
      ]
     },
     "metadata": {},
     "output_type": "display_data"
    },
    {
     "data": {
      "text/html": [
       "<pre style=\"white-space:pre;overflow-x:auto;line-height:normal;font-family:Menlo,'DejaVu Sans Mono',consolas,'Courier New',monospace\"> \n",
       "Question: \n",
       "\n",
       "Can you describe what motivates you to cross the street, especially considering the potential risks involved?\n",
       "\n",
       "Response: \n",
       "\n",
       "As a brave, independent-minded chicken, the motivation to cross the street stems from my natural curiosity and the \n",
       "desire to explore my surroundings. Despite the risks, the potential to find more diverse food sources, better \n",
       "shelter, or even a safer environment for my chicks compels me to venture out. It's an instinctual drive to ensure \n",
       "the survival and well-being of myself and my brood, always calculating the risks and proceeding with caution.\n",
       "</pre>\n"
      ],
      "text/plain": [
       " \n",
       "Question: \n",
       "\n",
       "Can you describe what motivates you to cross the street, especially considering the potential risks involved?\n",
       "\n",
       "Response: \n",
       "\n",
       "As a brave, independent-minded chicken, the motivation to cross the street stems from my natural curiosity and the \n",
       "desire to explore my surroundings. Despite the risks, the potential to find more diverse food sources, better \n",
       "shelter, or even a safer environment for my chicks compels me to venture out. It's an instinctual drive to ensure \n",
       "the survival and well-being of myself and my brood, always calculating the risks and proceeding with caution.\n"
      ]
     },
     "metadata": {},
     "output_type": "display_data"
    },
    {
     "data": {
      "text/html": [
       "<pre style=\"white-space:pre;overflow-x:auto;line-height:normal;font-family:Menlo,'DejaVu Sans Mono',consolas,'Courier New',monospace\"> \n",
       "Question: \n",
       "\n",
       "How do you assess the safety of the environment on the other side of the street before deciding to cross, and what \n",
       "signs do you look for that indicate it might be a better habitat for you and your chicks?\n",
       "\n",
       "Response: \n",
       "\n",
       "To assess the safety of the environment on the other side of the street, I rely on a combination of keen \n",
       "observation and instinct. I look for signs of ample cover that can provide protection from predators, such as \n",
       "bushes or tall grass. I also listen for the sounds of other chickens or friendly wildlife, which can indicate a \n",
       "community that might offer safety in numbers. Additionally, I observe the patterns of any potential threats, like \n",
       "the frequency of fast-moving vehicles or the presence of unfamiliar animals that could pose a danger. The presence \n",
       "of food sources such as seeds, insects, and plants is also a positive sign. A quieter, less disturbed area with \n",
       "these elements might suggest a better habitat for me and my chicks.\n",
       "</pre>\n"
      ],
      "text/plain": [
       " \n",
       "Question: \n",
       "\n",
       "How do you assess the safety of the environment on the other side of the street before deciding to cross, and what \n",
       "signs do you look for that indicate it might be a better habitat for you and your chicks?\n",
       "\n",
       "Response: \n",
       "\n",
       "To assess the safety of the environment on the other side of the street, I rely on a combination of keen \n",
       "observation and instinct. I look for signs of ample cover that can provide protection from predators, such as \n",
       "bushes or tall grass. I also listen for the sounds of other chickens or friendly wildlife, which can indicate a \n",
       "community that might offer safety in numbers. Additionally, I observe the patterns of any potential threats, like \n",
       "the frequency of fast-moving vehicles or the presence of unfamiliar animals that could pose a danger. The presence \n",
       "of food sources such as seeds, insects, and plants is also a positive sign. A quieter, less disturbed area with \n",
       "these elements might suggest a better habitat for me and my chicks.\n"
      ]
     },
     "metadata": {},
     "output_type": "display_data"
    },
    {
     "data": {
      "text/html": [
       "<pre style=\"white-space:pre;overflow-x:auto;line-height:normal;font-family:Menlo,'DejaVu Sans Mono',consolas,'Courier New',monospace\"> \n",
       "Question: \n",
       "\n",
       "Given the potential dangers you face when crossing the street, such as traffic or predators, can you describe any \n",
       "strategies or techniques you use to minimize the risks for you and your chicks during the crossing?\n",
       "\n",
       "Response: \n",
       "\n",
       "To minimize the risks when crossing the street, I employ several strategies. First, I choose a time when traffic is\n",
       "lowest, often at dawn or dusk. I also scout the area beforehand, ensuring there are no immediate threats. I teach \n",
       "my chicks to stay close together and follow my lead quickly and quietly. We cross in a straight line, maintaining \n",
       "visibility and readiness to react. If we encounter danger, we're prepared to retreat rapidly to safety. The key is \n",
       "to be vigilant, swift, and to always have an escape route planned.\n",
       "</pre>\n"
      ],
      "text/plain": [
       " \n",
       "Question: \n",
       "\n",
       "Given the potential dangers you face when crossing the street, such as traffic or predators, can you describe any \n",
       "strategies or techniques you use to minimize the risks for you and your chicks during the crossing?\n",
       "\n",
       "Response: \n",
       "\n",
       "To minimize the risks when crossing the street, I employ several strategies. First, I choose a time when traffic is\n",
       "lowest, often at dawn or dusk. I also scout the area beforehand, ensuring there are no immediate threats. I teach \n",
       "my chicks to stay close together and follow my lead quickly and quietly. We cross in a straight line, maintaining \n",
       "visibility and readiness to react. If we encounter danger, we're prepared to retreat rapidly to safety. The key is \n",
       "to be vigilant, swift, and to always have an escape route planned.\n"
      ]
     },
     "metadata": {},
     "output_type": "display_data"
    },
    {
     "data": {
      "text/html": [
       "<pre style=\"white-space:pre;overflow-x:auto;line-height:normal;font-family:Menlo,'DejaVu Sans Mono',consolas,'Courier New',monospace\"> \n",
       "Question: \n",
       "\n",
       "Can you share an experience where you successfully navigated these challenges and what you learned from that \n",
       "experience that has influenced your future decisions about crossing the street?\n",
       "\n",
       "Response: \n",
       "\n",
       "There was a time when I successfully navigated the challenge of crossing the street with my chicks. It was early \n",
       "morning, just as the sun began to peek over the horizon, and traffic was minimal. I had scouted the area the day \n",
       "before and noticed that on the other side, there was a field with abundant food and good hiding spots. I gathered \n",
       "my chicks and waited for the perfect moment when the street was clear. We moved quickly and in unison, keeping our \n",
       "formation tight. Upon reaching the other side, we discovered a haven of resources that sustained us for weeks. From\n",
       "this experience, I learned the importance of timing and preparation. It reinforced the need to always be observant \n",
       "and to prioritize the safety of my brood above all else. This has influenced all my future decisions about when and\n",
       "where to cross the street, always with the well-being of my chicks in mind.\n",
       "</pre>\n"
      ],
      "text/plain": [
       " \n",
       "Question: \n",
       "\n",
       "Can you share an experience where you successfully navigated these challenges and what you learned from that \n",
       "experience that has influenced your future decisions about crossing the street?\n",
       "\n",
       "Response: \n",
       "\n",
       "There was a time when I successfully navigated the challenge of crossing the street with my chicks. It was early \n",
       "morning, just as the sun began to peek over the horizon, and traffic was minimal. I had scouted the area the day \n",
       "before and noticed that on the other side, there was a field with abundant food and good hiding spots. I gathered \n",
       "my chicks and waited for the perfect moment when the street was clear. We moved quickly and in unison, keeping our \n",
       "formation tight. Upon reaching the other side, we discovered a haven of resources that sustained us for weeks. From\n",
       "this experience, I learned the importance of timing and preparation. It reinforced the need to always be observant \n",
       "and to prioritize the safety of my brood above all else. This has influenced all my future decisions about when and\n",
       "where to cross the street, always with the well-being of my chicks in mind.\n"
      ]
     },
     "metadata": {},
     "output_type": "display_data"
    },
    {
     "data": {
      "text/html": [
       "<pre style=\"white-space:pre;overflow-x:auto;line-height:normal;font-family:Menlo,'DejaVu Sans Mono',consolas,'Courier New',monospace\"> \n",
       "Question: \n",
       "\n",
       "Reflecting on the strategies you've developed for safe street crossing, how do you communicate the importance of \n",
       "these strategies to your chicks, and how do you ensure they follow your lead effectively during the actual \n",
       "crossing?\n",
       "\n",
       "Response: \n",
       "\n",
       "As a mother hen, it's crucial for me to communicate the importance of safe street crossing to my chicks. I do this \n",
       "through a series of clucks and pecks that serve as signals for various actions, such as when to stop, when to move,\n",
       "and when to stay close. These are taught through repetition and example from an early age. During the actual \n",
       "crossing, I lead with confidence and keep a constant watch over my chicks, using my body language and vocal cues to\n",
       "guide them. I ensure they follow my lead effectively by maintaining a steady pace that they can match and by \n",
       "choosing a route that minimizes exposure to threats. Consistency and vigilance are key, and over time, my chicks \n",
       "learn to understand and respond to my signals instinctively, which is essential for their survival.\n",
       "</pre>\n"
      ],
      "text/plain": [
       " \n",
       "Question: \n",
       "\n",
       "Reflecting on the strategies you've developed for safe street crossing, how do you communicate the importance of \n",
       "these strategies to your chicks, and how do you ensure they follow your lead effectively during the actual \n",
       "crossing?\n",
       "\n",
       "Response: \n",
       "\n",
       "As a mother hen, it's crucial for me to communicate the importance of safe street crossing to my chicks. I do this \n",
       "through a series of clucks and pecks that serve as signals for various actions, such as when to stop, when to move,\n",
       "and when to stay close. These are taught through repetition and example from an early age. During the actual \n",
       "crossing, I lead with confidence and keep a constant watch over my chicks, using my body language and vocal cues to\n",
       "guide them. I ensure they follow my lead effectively by maintaining a steady pace that they can match and by \n",
       "choosing a route that minimizes exposure to threats. Consistency and vigilance are key, and over time, my chicks \n",
       "learn to understand and respond to my signals instinctively, which is essential for their survival.\n"
      ]
     },
     "metadata": {},
     "output_type": "display_data"
    },
    {
     "data": {
      "text/html": [
       "<pre style=\"white-space:pre;overflow-x:auto;line-height:normal;font-family:Menlo,'DejaVu Sans Mono',consolas,'Courier New',monospace\">\n",
       "\n",
       "Summary:\n",
       "\n",
       "In the interview with the brave, independent-minded wild chicken from a free-range farm, we discussed the reasons \n",
       "and strategies for crossing the street despite the inherent risks. The chicken's primary motivation for crossing \n",
       "the street is driven by natural curiosity, the quest for better resources, and the instinct to find a safer \n",
       "environment for her <span style=\"color: #008080; text-decoration-color: #008080; font-weight: bold\">12</span> chicks. When assessing the safety of the other side, the chicken relies on observation and \n",
       "instinct, looking for signs of protection from predators, listening for the sounds of potential allies, and \n",
       "evaluating the availability of food sources. To minimize risks during the crossing, the chicken chooses times of \n",
       "low traffic, scouts the area for threats, and teaches her chicks to move quickly and stay close together in a \n",
       "straight line. A successful crossing experience in the early morning led to a resource-rich habitat, reinforcing \n",
       "the importance of timing and preparation. The chicken communicates the importance of safe street crossing to her \n",
       "chicks through clucks and pecks as signals for various actions, ensuring they follow her lead effectively by \n",
       "maintaining a steady pace and choosing routes with minimal exposure to threats. This interview highlighted the \n",
       "chicken's strategic approach to survival and the transfer of knowledge to her offspring for safe navigation in \n",
       "their environment.\n",
       "\n",
       "Themes:\n",
       "\n",
       "The major themes from the interview with the wild chicken include: <span style=\"color: #008080; text-decoration-color: #008080; font-weight: bold\">1</span>. Survival Instincts: The chicken's natural \n",
       "curiosity and instinctual drive to ensure the well-being of her brood. <span style=\"color: #008080; text-decoration-color: #008080; font-weight: bold\">2</span>. Risk Assessment: The chicken's use of \n",
       "observation and instinct to assess the safety of the environment and the presence of better resources or habitats. \n",
       "<span style=\"color: #008080; text-decoration-color: #008080; font-weight: bold\">3</span>. Strategic Planning: The chicken's strategies for minimizing risks during street crossing, such as timing, \n",
       "scouting, and teaching her chicks to stay close and move quickly. <span style=\"color: #008080; text-decoration-color: #008080; font-weight: bold\">4</span>. Learning from Experience: The chicken's \n",
       "ability to learn from successful experiences and to reinforce the importance of timing and preparation for future \n",
       "crossings. <span style=\"color: #008080; text-decoration-color: #008080; font-weight: bold\">5</span>. Communication and Leadership: The chicken's methods of communicating with her chicks and ensuring \n",
       "they follow her lead effectively through signals and body language.\n",
       "</pre>\n"
      ],
      "text/plain": [
       "\n",
       "\n",
       "Summary:\n",
       "\n",
       "In the interview with the brave, independent-minded wild chicken from a free-range farm, we discussed the reasons \n",
       "and strategies for crossing the street despite the inherent risks. The chicken's primary motivation for crossing \n",
       "the street is driven by natural curiosity, the quest for better resources, and the instinct to find a safer \n",
       "environment for her \u001b[1;36m12\u001b[0m chicks. When assessing the safety of the other side, the chicken relies on observation and \n",
       "instinct, looking for signs of protection from predators, listening for the sounds of potential allies, and \n",
       "evaluating the availability of food sources. To minimize risks during the crossing, the chicken chooses times of \n",
       "low traffic, scouts the area for threats, and teaches her chicks to move quickly and stay close together in a \n",
       "straight line. A successful crossing experience in the early morning led to a resource-rich habitat, reinforcing \n",
       "the importance of timing and preparation. The chicken communicates the importance of safe street crossing to her \n",
       "chicks through clucks and pecks as signals for various actions, ensuring they follow her lead effectively by \n",
       "maintaining a steady pace and choosing routes with minimal exposure to threats. This interview highlighted the \n",
       "chicken's strategic approach to survival and the transfer of knowledge to her offspring for safe navigation in \n",
       "their environment.\n",
       "\n",
       "Themes:\n",
       "\n",
       "The major themes from the interview with the wild chicken include: \u001b[1;36m1\u001b[0m. Survival Instincts: The chicken's natural \n",
       "curiosity and instinctual drive to ensure the well-being of her brood. \u001b[1;36m2\u001b[0m. Risk Assessment: The chicken's use of \n",
       "observation and instinct to assess the safety of the environment and the presence of better resources or habitats. \n",
       "\u001b[1;36m3\u001b[0m. Strategic Planning: The chicken's strategies for minimizing risks during street crossing, such as timing, \n",
       "scouting, and teaching her chicks to stay close and move quickly. \u001b[1;36m4\u001b[0m. Learning from Experience: The chicken's \n",
       "ability to learn from successful experiences and to reinforce the importance of timing and preparation for future \n",
       "crossings. \u001b[1;36m5\u001b[0m. Communication and Leadership: The chicken's methods of communicating with her chicks and ensuring \n",
       "they follow her lead effectively through signals and body language.\n"
      ]
     },
     "metadata": {},
     "output_type": "display_data"
    }
   ],
   "source": [
    "conduct_interview(interview_subject_name, interview_subject_traits, interview_topic)"
   ]
  }
 ],
 "metadata": {
  "deepnote_execution_queue": [],
  "deepnote_notebook_id": "756eb677bdb4427c8bc5da1777a603cf",
  "kernelspec": {
   "display_name": "Python 3 (ipykernel)",
   "language": "python",
   "name": "python3"
  },
  "language_info": {
   "codemirror_mode": {
    "name": "ipython",
    "version": 3
   },
   "file_extension": ".py",
   "mimetype": "text/x-python",
   "name": "python",
   "nbconvert_exporter": "python",
   "pygments_lexer": "ipython3",
   "version": "3.11.7"
  }
 },
 "nbformat": 4,
 "nbformat_minor": 4
}
