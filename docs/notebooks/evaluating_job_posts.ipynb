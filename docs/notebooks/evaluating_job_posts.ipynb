{
 "cells": [
  {
   "cell_type": "markdown",
   "id": "a2acc559-1a59-4c80-b611-879385b2bb76",
   "metadata": {},
   "source": [
    "# Evaluating job posts\n",
    "This notebook provides sample code for conducting a text analysis using [EDSL](https://docs.expectedparrot.com), an open-source library for simulating surveys, experiments and other research with AI agents and large language models. \n",
    "\n",
    "Using a dataset of job posts as an example, we demonstrate how to: \n",
    "\n",
    "1. Import data into EDSL \n",
    "2. Create questions about the data \n",
    "3. Design an AI agent to answer the questions\n",
    "4. Select a language model to generate responses\n",
    "5. Analyze results as a formatted dataset\n",
    "\n",
    "\n",
    "## Technical setup\n",
    "Before running the code below please ensure that you have completed setup:\n",
    "\n",
    "* [Install EDSL](https://docs.expectedparrot.com/en/latest/installation.html).\n",
    "* Create a [Coop account](https://www.expectedparrot.com/login) and activate [remote inference](https://docs.expectedparrot.com/en/latest/remote_inference.html) OR store your own [API Keys](https://docs.expectedparrot.com/en/latest/api_keys.html) for language models that you want to use.\n",
    "\n",
    "Our [Starter Tutorial](https://docs.expectedparrot.com/en/latest/starter_tutorial.html) also provides examples of EDSL basic components. "
   ]
  },
  {
   "cell_type": "markdown",
   "id": "d415db24-0a00-408e-a118-0bf00aca7611",
   "metadata": {},
   "source": [
    "## Selecting data for review\n",
    "First we identify some data for review. Data can be created using the EDSL tools or imported from other sources. For purposes of this demo we import a set of job posts:"
   ]
  },
  {
   "cell_type": "code",
   "execution_count": 1,
   "id": "83c51991-92db-4b89-bcc7-e7c75e3e5f85",
   "metadata": {},
   "outputs": [],
   "source": [
    "job_posts = [\n",
    "    \"Oversee daily operations, manage staff, and ensure customer satisfaction in a fast-paced retail environment.\",\n",
    "    \"Craft engaging and informative blog posts on health and wellness topics to boost website traffic and engage readers.\",\n",
    "    \"Analyze sales data using statistical tools to identify trends and provide actionable insights to the marketing team.\",\n",
    "    \"Prepare gourmet dishes that comply with restaurant standards and delight customers with unique flavor combinations.\",\n",
    "    \"Design creative visual content for marketing materials, including brochures, banners, and digital ads, using Adobe Creative Suite.\",\n",
    "    \"Develop, test, and maintain robust software solutions to improve business processes using Python and Java.\",\n",
    "    \"Craft coffee drinks and manage the coffee station while providing excellent customer service in a busy café.\",\n",
    "    \"Manage recruitment processes, conduct interviews, and oversee employee benefit programs to ensure a motivated workforce.\",\n",
    "    \"Assist veterinarians by preparing animals for surgery, administering injections, and providing post-operative care.\",\n",
    "    \"Design aesthetic and practical outdoor spaces for clients, from residential gardens to public parks.\",\n",
    "    \"Install and repair residential plumbing systems, including water heaters, pipes, and fixtures to ensure proper functionality.\",\n",
    "    \"Develop comprehensive marketing strategies that align with company goals, including digital campaigns and branding efforts.\",\n",
    "    \"Install, maintain, and repair electrical wiring, equipment, and fixtures to ensure safe and effective operation.\",\n",
    "    \"Provide personalized fitness programs and conduct group fitness classes to help clients achieve their health goals.\",\n",
    "    \"Diagnose and repair automotive issues, perform routine maintenance, and ensure vehicles meet safety standards.\",\n",
    "    \"Lead creative campaigns, from concept through execution, coordinating with graphic designers and content creators.\",\n",
    "    \"Educate students in mathematics using innovative teaching strategies to enhance understanding and interest in the subject.\",\n",
    "    \"Drive sales through engaging customer interactions, understanding client needs, and providing product solutions.\",\n",
    "    \"Fold dough into pretzel shapes ensuring each is uniformly twisted and perfectly salted before baking.\",\n",
    "    \"Address customer inquiries and issues via phone and email, ensuring high levels of satisfaction and timely resolution.\",\n",
    "]"
   ]
  },
  {
   "cell_type": "markdown",
   "id": "cbe0e080-5d8f-4de8-ba46-edfb0ad45027",
   "metadata": {},
   "source": [
    "## Constructing questions about the data\n",
    "Next we create some questions about the data. EDSL provides a variety of question types that we can choose from based on the form of the response that we want to get back from the model (multiple choice, free text, checkbox, linear scale, etc.). [Learn more about question types](https://docs.expectedparrot.com/en/latest/questions.html). \n",
    "\n",
    "Note that we use a `{{ placeholder }}` in each question text in order to parameterize the questions with the individual job posts in the next step:"
   ]
  },
  {
   "cell_type": "code",
   "execution_count": 2,
   "id": "58842779-beb5-4c95-b940-2575dc6c800c",
   "metadata": {},
   "outputs": [],
   "source": [
    "from edsl import (\n",
    "    QuestionList,\n",
    "    QuestionLinearScale,\n",
    "    QuestionMultipleChoice,\n",
    "    QuestionYesNo,\n",
    "    QuestionFreeText,\n",
    ")\n",
    "\n",
    "q1 = QuestionList(\n",
    "    question_name=\"category_list\",\n",
    "    question_text=\"Draft a list of increasingly specific categories for the following job post: {{ job_post }}\",\n",
    "    max_list_items=3,  # optional\n",
    ")\n",
    "\n",
    "q2 = QuestionLinearScale(\n",
    "    question_name=\"specific_scale\",\n",
    "    question_text=\"How specific is this job post: {{ job_post }}\",\n",
    "    question_options=[0, 1, 2, 3, 4, 5],\n",
    "    option_labels={0: \"Unclear\", 1: \"Not at all specific\", 5: \"Highly specific\"},\n",
    ")\n",
    "\n",
    "q3 = QuestionMultipleChoice(\n",
    "    question_name=\"skill_choice\",\n",
    "    question_text=\"What is the skill level required for this job: {{ job_post }}\",\n",
    "    question_options=[\"Entry level\", \"Intermediate\", \"Advanced\", \"Expert\"],\n",
    ")\n",
    "\n",
    "q4 = QuestionYesNo(\n",
    "    question_name=\"technical_yn\",\n",
    "    question_text=\"Is this a technical job? Job post: {{ job_post }}\",\n",
    ")\n",
    "\n",
    "q5 = QuestionFreeText(\n",
    "    question_name=\"rewrite_text\",\n",
    "    question_text=\"\"\"Consider whether the following job post could be improved for clarity.\n",
    "    Then, without substantially lengthening it, draft a new version: {{ job_post }}\"\"\",\n",
    ")"
   ]
  },
  {
   "cell_type": "markdown",
   "id": "d560a34f-b921-46c6-88c0-6f19f0cc555b",
   "metadata": {},
   "source": [
    "## Building a survey\n",
    "We combine the questions into a survey in order to administer them together:"
   ]
  },
  {
   "cell_type": "code",
   "execution_count": 3,
   "id": "f1498112-9395-4718-aca7-49d283058521",
   "metadata": {},
   "outputs": [],
   "source": [
    "from edsl import Survey\n",
    "\n",
    "questions = [q1, q2, q3, q4, q5]\n",
    "\n",
    "survey = Survey(questions)"
   ]
  },
  {
   "cell_type": "markdown",
   "id": "2622ebbb-7299-47a5-baeb-00c6120f65c8",
   "metadata": {},
   "source": [
    "If we want the agent/model to have information about prior questions in the survey we can add targeted or full memories ([learn more about adding survey rules/logic](https://docs.expectedparrot.com/en/latest/surveys.html)):"
   ]
  },
  {
   "cell_type": "code",
   "execution_count": 4,
   "id": "03d4ac05-0e82-41c3-b89a-011d92db96a0",
   "metadata": {},
   "outputs": [],
   "source": [
    "# Memory of a specific question is presented with another question:\n",
    "# survey = survey.add_targeted_memory(q2, q1)\n",
    "\n",
    "# Full memory of all prior questions is presented with each question (token-intensive):\n",
    "# survey = survey.set_full_memory_mode()"
   ]
  },
  {
   "cell_type": "markdown",
   "id": "de6f4641-8bf3-4122-88ed-7409876c9ffc",
   "metadata": {},
   "source": [
    "## Adding data to the questions\n",
    "We add the contents of each ticket into each question as an independent \"scenario\" for review. This allows us to create versions of the questions for each job post and deliver them to the model all at once:"
   ]
  },
  {
   "cell_type": "code",
   "execution_count": 5,
   "id": "abb3c4f9-0e33-4480-8159-6d07df862347",
   "metadata": {},
   "outputs": [],
   "source": [
    "from edsl import ScenarioList, Scenario\n",
    "\n",
    "scenarios = ScenarioList(\n",
    "    Scenario({\"job_post\": p}) for p in job_posts\n",
    ")"
   ]
  },
  {
   "cell_type": "markdown",
   "id": "4d909c70-382e-4157-986a-0cf9505ad2a4",
   "metadata": {},
   "source": [
    "## Designing AI agents\n",
    "A key feature of EDSL is the ability to create personas for AI agents that the language models are prompted to use in generating responses to the questions. This is done by passing a dictionary of traits to Agent objects:"
   ]
  },
  {
   "cell_type": "code",
   "execution_count": 6,
   "id": "fb25a439-2d61-4db2-9620-c5ab6f540ee6",
   "metadata": {},
   "outputs": [],
   "source": [
    "from edsl import AgentList, Agent\n",
    "\n",
    "agent = Agent(traits={\"persona\":\"You are a labor economist.\"})"
   ]
  },
  {
   "cell_type": "markdown",
   "id": "6e92a475-d7ca-4426-b348-c5e419eaf558",
   "metadata": {},
   "source": [
    "## Selecting language models\n",
    "EDSL allows us to select the language models to use in generating results. To see all available models:"
   ]
  },
  {
   "cell_type": "code",
   "execution_count": 7,
   "id": "c8f75434-e461-435a-b7a7-6409848d8cd8",
   "metadata": {},
   "outputs": [],
   "source": [
    "from edsl import ModelList, Model\n",
    "\n",
    "# Model.available()"
   ]
  },
  {
   "cell_type": "markdown",
   "id": "0d9d9bdc-91fb-47f0-a76e-f788f4f4ccfc",
   "metadata": {},
   "source": [
    "Here we select GPT 4 (if no model is specified, GPT 4 preview is used by default):"
   ]
  },
  {
   "cell_type": "code",
   "execution_count": 8,
   "id": "2c27e503-98fd-4775-b396-dfbfc6548e25",
   "metadata": {},
   "outputs": [],
   "source": [
    "model = Model(\"gpt-4\")"
   ]
  },
  {
   "cell_type": "markdown",
   "id": "9876c3c4-be95-4641-9993-6d9d9c8092bb",
   "metadata": {},
   "source": [
    "## Running the survey\n",
    "We run the survey by adding the scenarios, agent and model with the `by()` method and then calling the `run()` method:"
   ]
  },
  {
   "cell_type": "code",
   "execution_count": 9,
   "id": "deae48b6-8c2a-4483-b26b-380d923dbf85",
   "metadata": {},
   "outputs": [],
   "source": [
    "results = survey.by(scenarios).by(agent).by(model).run()"
   ]
  },
  {
   "cell_type": "markdown",
   "id": "8e09b07a-5c4a-46d5-acf5-09fc8d4746ae",
   "metadata": {},
   "source": [
    "This generates a dataset of `Results` that we can analyze with built-in methods for data tables, dataframes, SQL, etc. We can see a list of all the components that can be analyzed:"
   ]
  },
  {
   "cell_type": "code",
   "execution_count": 10,
   "id": "137487ab-89e8-460c-8169-bb74a8d16a8a",
   "metadata": {},
   "outputs": [],
   "source": [
    "# results.columns"
   ]
  },
  {
   "cell_type": "markdown",
   "id": "a9a6adee-9c0c-4e03-9aaf-9bec16fc6526",
   "metadata": {},
   "source": [
    "For example, we can filter, sort, select, limit, shuffle, sample and print some components of results in a table:"
   ]
  },
  {
   "cell_type": "code",
   "execution_count": 11,
   "id": "6b1e375b-ffbf-42d4-9ac0-bbafbd282114",
   "metadata": {},
   "outputs": [
    {
     "data": {
      "text/html": [
       "<pre style=\"white-space:pre;overflow-x:auto;line-height:normal;font-family:Menlo,'DejaVu Sans Mono',consolas,'Courier New',monospace\">┏━━━━━━━━┳━━━━━━━━━━━━━━━━━┳━━━━━━━━━━━━━━━━━━┳━━━━━━━━━━━━━━━━━┳━━━━━━━━━━━━━━━━━┳━━━━━━━━━━━━━━━┳━━━━━━━━━━━━━━━┓\n",
       "┃<span style=\"color: #800080; text-decoration-color: #800080; font-weight: bold\"> model  </span>┃<span style=\"color: #800080; text-decoration-color: #800080; font-weight: bold\"> agent           </span>┃<span style=\"color: #800080; text-decoration-color: #800080; font-weight: bold\"> scenario         </span>┃<span style=\"color: #800080; text-decoration-color: #800080; font-weight: bold\"> answer          </span>┃<span style=\"color: #800080; text-decoration-color: #800080; font-weight: bold\"> answer          </span>┃<span style=\"color: #800080; text-decoration-color: #800080; font-weight: bold\"> answer        </span>┃<span style=\"color: #800080; text-decoration-color: #800080; font-weight: bold\"> answer        </span>┃\n",
       "┃<span style=\"color: #800080; text-decoration-color: #800080; font-weight: bold\"> .model </span>┃<span style=\"color: #800080; text-decoration-color: #800080; font-weight: bold\"> .persona        </span>┃<span style=\"color: #800080; text-decoration-color: #800080; font-weight: bold\"> .job_post        </span>┃<span style=\"color: #800080; text-decoration-color: #800080; font-weight: bold\"> .category_list  </span>┃<span style=\"color: #800080; text-decoration-color: #800080; font-weight: bold\"> .specific_scale </span>┃<span style=\"color: #800080; text-decoration-color: #800080; font-weight: bold\"> .skill_choice </span>┃<span style=\"color: #800080; text-decoration-color: #800080; font-weight: bold\"> .technical_yn </span>┃\n",
       "┡━━━━━━━━╇━━━━━━━━━━━━━━━━━╇━━━━━━━━━━━━━━━━━━╇━━━━━━━━━━━━━━━━━╇━━━━━━━━━━━━━━━━━╇━━━━━━━━━━━━━━━╇━━━━━━━━━━━━━━━┩\n",
       "│<span style=\"color: #7f7f7f; text-decoration-color: #7f7f7f\"> gpt-4  </span>│<span style=\"color: #7f7f7f; text-decoration-color: #7f7f7f\"> You are a labor </span>│<span style=\"color: #7f7f7f; text-decoration-color: #7f7f7f\"> Analyze sales    </span>│<span style=\"color: #7f7f7f; text-decoration-color: #7f7f7f\"> ['Data          </span>│<span style=\"color: #7f7f7f; text-decoration-color: #7f7f7f\"> 4               </span>│<span style=\"color: #7f7f7f; text-decoration-color: #7f7f7f\"> Advanced      </span>│<span style=\"color: #7f7f7f; text-decoration-color: #7f7f7f\"> Yes           </span>│\n",
       "│<span style=\"color: #7f7f7f; text-decoration-color: #7f7f7f\">        </span>│<span style=\"color: #7f7f7f; text-decoration-color: #7f7f7f\"> economist.      </span>│<span style=\"color: #7f7f7f; text-decoration-color: #7f7f7f\"> data using       </span>│<span style=\"color: #7f7f7f; text-decoration-color: #7f7f7f\"> Analyst',       </span>│<span style=\"color: #7f7f7f; text-decoration-color: #7f7f7f\">                 </span>│<span style=\"color: #7f7f7f; text-decoration-color: #7f7f7f\">               </span>│<span style=\"color: #7f7f7f; text-decoration-color: #7f7f7f\">               </span>│\n",
       "│<span style=\"color: #7f7f7f; text-decoration-color: #7f7f7f\">        </span>│<span style=\"color: #7f7f7f; text-decoration-color: #7f7f7f\">                 </span>│<span style=\"color: #7f7f7f; text-decoration-color: #7f7f7f\"> statistical      </span>│<span style=\"color: #7f7f7f; text-decoration-color: #7f7f7f\"> 'Sales Data     </span>│<span style=\"color: #7f7f7f; text-decoration-color: #7f7f7f\">                 </span>│<span style=\"color: #7f7f7f; text-decoration-color: #7f7f7f\">               </span>│<span style=\"color: #7f7f7f; text-decoration-color: #7f7f7f\">               </span>│\n",
       "│<span style=\"color: #7f7f7f; text-decoration-color: #7f7f7f\">        </span>│<span style=\"color: #7f7f7f; text-decoration-color: #7f7f7f\">                 </span>│<span style=\"color: #7f7f7f; text-decoration-color: #7f7f7f\"> tools to         </span>│<span style=\"color: #7f7f7f; text-decoration-color: #7f7f7f\"> Analyst',       </span>│<span style=\"color: #7f7f7f; text-decoration-color: #7f7f7f\">                 </span>│<span style=\"color: #7f7f7f; text-decoration-color: #7f7f7f\">               </span>│<span style=\"color: #7f7f7f; text-decoration-color: #7f7f7f\">               </span>│\n",
       "│<span style=\"color: #7f7f7f; text-decoration-color: #7f7f7f\">        </span>│<span style=\"color: #7f7f7f; text-decoration-color: #7f7f7f\">                 </span>│<span style=\"color: #7f7f7f; text-decoration-color: #7f7f7f\"> identify trends  </span>│<span style=\"color: #7f7f7f; text-decoration-color: #7f7f7f\"> 'Marketing Data </span>│<span style=\"color: #7f7f7f; text-decoration-color: #7f7f7f\">                 </span>│<span style=\"color: #7f7f7f; text-decoration-color: #7f7f7f\">               </span>│<span style=\"color: #7f7f7f; text-decoration-color: #7f7f7f\">               </span>│\n",
       "│<span style=\"color: #7f7f7f; text-decoration-color: #7f7f7f\">        </span>│<span style=\"color: #7f7f7f; text-decoration-color: #7f7f7f\">                 </span>│<span style=\"color: #7f7f7f; text-decoration-color: #7f7f7f\"> and provide      </span>│<span style=\"color: #7f7f7f; text-decoration-color: #7f7f7f\"> Analyst']       </span>│<span style=\"color: #7f7f7f; text-decoration-color: #7f7f7f\">                 </span>│<span style=\"color: #7f7f7f; text-decoration-color: #7f7f7f\">               </span>│<span style=\"color: #7f7f7f; text-decoration-color: #7f7f7f\">               </span>│\n",
       "│<span style=\"color: #7f7f7f; text-decoration-color: #7f7f7f\">        </span>│<span style=\"color: #7f7f7f; text-decoration-color: #7f7f7f\">                 </span>│<span style=\"color: #7f7f7f; text-decoration-color: #7f7f7f\"> actionable       </span>│<span style=\"color: #7f7f7f; text-decoration-color: #7f7f7f\">                 </span>│<span style=\"color: #7f7f7f; text-decoration-color: #7f7f7f\">                 </span>│<span style=\"color: #7f7f7f; text-decoration-color: #7f7f7f\">               </span>│<span style=\"color: #7f7f7f; text-decoration-color: #7f7f7f\">               </span>│\n",
       "│<span style=\"color: #7f7f7f; text-decoration-color: #7f7f7f\">        </span>│<span style=\"color: #7f7f7f; text-decoration-color: #7f7f7f\">                 </span>│<span style=\"color: #7f7f7f; text-decoration-color: #7f7f7f\"> insights to the  </span>│<span style=\"color: #7f7f7f; text-decoration-color: #7f7f7f\">                 </span>│<span style=\"color: #7f7f7f; text-decoration-color: #7f7f7f\">                 </span>│<span style=\"color: #7f7f7f; text-decoration-color: #7f7f7f\">               </span>│<span style=\"color: #7f7f7f; text-decoration-color: #7f7f7f\">               </span>│\n",
       "│<span style=\"color: #7f7f7f; text-decoration-color: #7f7f7f\">        </span>│<span style=\"color: #7f7f7f; text-decoration-color: #7f7f7f\">                 </span>│<span style=\"color: #7f7f7f; text-decoration-color: #7f7f7f\"> marketing team.  </span>│<span style=\"color: #7f7f7f; text-decoration-color: #7f7f7f\">                 </span>│<span style=\"color: #7f7f7f; text-decoration-color: #7f7f7f\">                 </span>│<span style=\"color: #7f7f7f; text-decoration-color: #7f7f7f\">               </span>│<span style=\"color: #7f7f7f; text-decoration-color: #7f7f7f\">               </span>│\n",
       "├────────┼─────────────────┼──────────────────┼─────────────────┼─────────────────┼───────────────┼───────────────┤\n",
       "│<span style=\"color: #7f7f7f; text-decoration-color: #7f7f7f\"> gpt-4  </span>│<span style=\"color: #7f7f7f; text-decoration-color: #7f7f7f\"> You are a labor </span>│<span style=\"color: #7f7f7f; text-decoration-color: #7f7f7f\"> Design creative  </span>│<span style=\"color: #7f7f7f; text-decoration-color: #7f7f7f\"> ['Marketing and </span>│<span style=\"color: #7f7f7f; text-decoration-color: #7f7f7f\"> 3               </span>│<span style=\"color: #7f7f7f; text-decoration-color: #7f7f7f\"> Advanced      </span>│<span style=\"color: #7f7f7f; text-decoration-color: #7f7f7f\"> Yes           </span>│\n",
       "│<span style=\"color: #7f7f7f; text-decoration-color: #7f7f7f\">        </span>│<span style=\"color: #7f7f7f; text-decoration-color: #7f7f7f\"> economist.      </span>│<span style=\"color: #7f7f7f; text-decoration-color: #7f7f7f\"> visual content   </span>│<span style=\"color: #7f7f7f; text-decoration-color: #7f7f7f\"> Advertising',   </span>│<span style=\"color: #7f7f7f; text-decoration-color: #7f7f7f\">                 </span>│<span style=\"color: #7f7f7f; text-decoration-color: #7f7f7f\">               </span>│<span style=\"color: #7f7f7f; text-decoration-color: #7f7f7f\">               </span>│\n",
       "│<span style=\"color: #7f7f7f; text-decoration-color: #7f7f7f\">        </span>│<span style=\"color: #7f7f7f; text-decoration-color: #7f7f7f\">                 </span>│<span style=\"color: #7f7f7f; text-decoration-color: #7f7f7f\"> for marketing    </span>│<span style=\"color: #7f7f7f; text-decoration-color: #7f7f7f\"> 'Graphic        </span>│<span style=\"color: #7f7f7f; text-decoration-color: #7f7f7f\">                 </span>│<span style=\"color: #7f7f7f; text-decoration-color: #7f7f7f\">               </span>│<span style=\"color: #7f7f7f; text-decoration-color: #7f7f7f\">               </span>│\n",
       "│<span style=\"color: #7f7f7f; text-decoration-color: #7f7f7f\">        </span>│<span style=\"color: #7f7f7f; text-decoration-color: #7f7f7f\">                 </span>│<span style=\"color: #7f7f7f; text-decoration-color: #7f7f7f\"> materials,       </span>│<span style=\"color: #7f7f7f; text-decoration-color: #7f7f7f\"> Design', 'Adobe </span>│<span style=\"color: #7f7f7f; text-decoration-color: #7f7f7f\">                 </span>│<span style=\"color: #7f7f7f; text-decoration-color: #7f7f7f\">               </span>│<span style=\"color: #7f7f7f; text-decoration-color: #7f7f7f\">               </span>│\n",
       "│<span style=\"color: #7f7f7f; text-decoration-color: #7f7f7f\">        </span>│<span style=\"color: #7f7f7f; text-decoration-color: #7f7f7f\">                 </span>│<span style=\"color: #7f7f7f; text-decoration-color: #7f7f7f\"> including        </span>│<span style=\"color: #7f7f7f; text-decoration-color: #7f7f7f\"> Creative Suite  </span>│<span style=\"color: #7f7f7f; text-decoration-color: #7f7f7f\">                 </span>│<span style=\"color: #7f7f7f; text-decoration-color: #7f7f7f\">               </span>│<span style=\"color: #7f7f7f; text-decoration-color: #7f7f7f\">               </span>│\n",
       "│<span style=\"color: #7f7f7f; text-decoration-color: #7f7f7f\">        </span>│<span style=\"color: #7f7f7f; text-decoration-color: #7f7f7f\">                 </span>│<span style=\"color: #7f7f7f; text-decoration-color: #7f7f7f\"> brochures,       </span>│<span style=\"color: #7f7f7f; text-decoration-color: #7f7f7f\"> Specialist']    </span>│<span style=\"color: #7f7f7f; text-decoration-color: #7f7f7f\">                 </span>│<span style=\"color: #7f7f7f; text-decoration-color: #7f7f7f\">               </span>│<span style=\"color: #7f7f7f; text-decoration-color: #7f7f7f\">               </span>│\n",
       "│<span style=\"color: #7f7f7f; text-decoration-color: #7f7f7f\">        </span>│<span style=\"color: #7f7f7f; text-decoration-color: #7f7f7f\">                 </span>│<span style=\"color: #7f7f7f; text-decoration-color: #7f7f7f\"> banners, and     </span>│<span style=\"color: #7f7f7f; text-decoration-color: #7f7f7f\">                 </span>│<span style=\"color: #7f7f7f; text-decoration-color: #7f7f7f\">                 </span>│<span style=\"color: #7f7f7f; text-decoration-color: #7f7f7f\">               </span>│<span style=\"color: #7f7f7f; text-decoration-color: #7f7f7f\">               </span>│\n",
       "│<span style=\"color: #7f7f7f; text-decoration-color: #7f7f7f\">        </span>│<span style=\"color: #7f7f7f; text-decoration-color: #7f7f7f\">                 </span>│<span style=\"color: #7f7f7f; text-decoration-color: #7f7f7f\"> digital ads,     </span>│<span style=\"color: #7f7f7f; text-decoration-color: #7f7f7f\">                 </span>│<span style=\"color: #7f7f7f; text-decoration-color: #7f7f7f\">                 </span>│<span style=\"color: #7f7f7f; text-decoration-color: #7f7f7f\">               </span>│<span style=\"color: #7f7f7f; text-decoration-color: #7f7f7f\">               </span>│\n",
       "│<span style=\"color: #7f7f7f; text-decoration-color: #7f7f7f\">        </span>│<span style=\"color: #7f7f7f; text-decoration-color: #7f7f7f\">                 </span>│<span style=\"color: #7f7f7f; text-decoration-color: #7f7f7f\"> using Adobe      </span>│<span style=\"color: #7f7f7f; text-decoration-color: #7f7f7f\">                 </span>│<span style=\"color: #7f7f7f; text-decoration-color: #7f7f7f\">                 </span>│<span style=\"color: #7f7f7f; text-decoration-color: #7f7f7f\">               </span>│<span style=\"color: #7f7f7f; text-decoration-color: #7f7f7f\">               </span>│\n",
       "│<span style=\"color: #7f7f7f; text-decoration-color: #7f7f7f\">        </span>│<span style=\"color: #7f7f7f; text-decoration-color: #7f7f7f\">                 </span>│<span style=\"color: #7f7f7f; text-decoration-color: #7f7f7f\"> Creative Suite.  </span>│<span style=\"color: #7f7f7f; text-decoration-color: #7f7f7f\">                 </span>│<span style=\"color: #7f7f7f; text-decoration-color: #7f7f7f\">                 </span>│<span style=\"color: #7f7f7f; text-decoration-color: #7f7f7f\">               </span>│<span style=\"color: #7f7f7f; text-decoration-color: #7f7f7f\">               </span>│\n",
       "├────────┼─────────────────┼──────────────────┼─────────────────┼─────────────────┼───────────────┼───────────────┤\n",
       "│<span style=\"color: #7f7f7f; text-decoration-color: #7f7f7f\"> gpt-4  </span>│<span style=\"color: #7f7f7f; text-decoration-color: #7f7f7f\"> You are a labor </span>│<span style=\"color: #7f7f7f; text-decoration-color: #7f7f7f\"> Manage           </span>│<span style=\"color: #7f7f7f; text-decoration-color: #7f7f7f\"> ['Human         </span>│<span style=\"color: #7f7f7f; text-decoration-color: #7f7f7f\"> 3               </span>│<span style=\"color: #7f7f7f; text-decoration-color: #7f7f7f\"> Advanced      </span>│<span style=\"color: #7f7f7f; text-decoration-color: #7f7f7f\"> No            </span>│\n",
       "│<span style=\"color: #7f7f7f; text-decoration-color: #7f7f7f\">        </span>│<span style=\"color: #7f7f7f; text-decoration-color: #7f7f7f\"> economist.      </span>│<span style=\"color: #7f7f7f; text-decoration-color: #7f7f7f\"> recruitment      </span>│<span style=\"color: #7f7f7f; text-decoration-color: #7f7f7f\"> Resources       </span>│<span style=\"color: #7f7f7f; text-decoration-color: #7f7f7f\">                 </span>│<span style=\"color: #7f7f7f; text-decoration-color: #7f7f7f\">               </span>│<span style=\"color: #7f7f7f; text-decoration-color: #7f7f7f\">               </span>│\n",
       "│<span style=\"color: #7f7f7f; text-decoration-color: #7f7f7f\">        </span>│<span style=\"color: #7f7f7f; text-decoration-color: #7f7f7f\">                 </span>│<span style=\"color: #7f7f7f; text-decoration-color: #7f7f7f\"> processes,       </span>│<span style=\"color: #7f7f7f; text-decoration-color: #7f7f7f\"> Manager',       </span>│<span style=\"color: #7f7f7f; text-decoration-color: #7f7f7f\">                 </span>│<span style=\"color: #7f7f7f; text-decoration-color: #7f7f7f\">               </span>│<span style=\"color: #7f7f7f; text-decoration-color: #7f7f7f\">               </span>│\n",
       "│<span style=\"color: #7f7f7f; text-decoration-color: #7f7f7f\">        </span>│<span style=\"color: #7f7f7f; text-decoration-color: #7f7f7f\">                 </span>│<span style=\"color: #7f7f7f; text-decoration-color: #7f7f7f\"> conduct          </span>│<span style=\"color: #7f7f7f; text-decoration-color: #7f7f7f\"> 'Recruitment    </span>│<span style=\"color: #7f7f7f; text-decoration-color: #7f7f7f\">                 </span>│<span style=\"color: #7f7f7f; text-decoration-color: #7f7f7f\">               </span>│<span style=\"color: #7f7f7f; text-decoration-color: #7f7f7f\">               </span>│\n",
       "│<span style=\"color: #7f7f7f; text-decoration-color: #7f7f7f\">        </span>│<span style=\"color: #7f7f7f; text-decoration-color: #7f7f7f\">                 </span>│<span style=\"color: #7f7f7f; text-decoration-color: #7f7f7f\"> interviews, and  </span>│<span style=\"color: #7f7f7f; text-decoration-color: #7f7f7f\"> Manager',       </span>│<span style=\"color: #7f7f7f; text-decoration-color: #7f7f7f\">                 </span>│<span style=\"color: #7f7f7f; text-decoration-color: #7f7f7f\">               </span>│<span style=\"color: #7f7f7f; text-decoration-color: #7f7f7f\">               </span>│\n",
       "│<span style=\"color: #7f7f7f; text-decoration-color: #7f7f7f\">        </span>│<span style=\"color: #7f7f7f; text-decoration-color: #7f7f7f\">                 </span>│<span style=\"color: #7f7f7f; text-decoration-color: #7f7f7f\"> oversee employee </span>│<span style=\"color: #7f7f7f; text-decoration-color: #7f7f7f\"> 'Employee       </span>│<span style=\"color: #7f7f7f; text-decoration-color: #7f7f7f\">                 </span>│<span style=\"color: #7f7f7f; text-decoration-color: #7f7f7f\">               </span>│<span style=\"color: #7f7f7f; text-decoration-color: #7f7f7f\">               </span>│\n",
       "│<span style=\"color: #7f7f7f; text-decoration-color: #7f7f7f\">        </span>│<span style=\"color: #7f7f7f; text-decoration-color: #7f7f7f\">                 </span>│<span style=\"color: #7f7f7f; text-decoration-color: #7f7f7f\"> benefit programs </span>│<span style=\"color: #7f7f7f; text-decoration-color: #7f7f7f\"> Benefits        </span>│<span style=\"color: #7f7f7f; text-decoration-color: #7f7f7f\">                 </span>│<span style=\"color: #7f7f7f; text-decoration-color: #7f7f7f\">               </span>│<span style=\"color: #7f7f7f; text-decoration-color: #7f7f7f\">               </span>│\n",
       "│<span style=\"color: #7f7f7f; text-decoration-color: #7f7f7f\">        </span>│<span style=\"color: #7f7f7f; text-decoration-color: #7f7f7f\">                 </span>│<span style=\"color: #7f7f7f; text-decoration-color: #7f7f7f\"> to ensure a      </span>│<span style=\"color: #7f7f7f; text-decoration-color: #7f7f7f\"> Manager']       </span>│<span style=\"color: #7f7f7f; text-decoration-color: #7f7f7f\">                 </span>│<span style=\"color: #7f7f7f; text-decoration-color: #7f7f7f\">               </span>│<span style=\"color: #7f7f7f; text-decoration-color: #7f7f7f\">               </span>│\n",
       "│<span style=\"color: #7f7f7f; text-decoration-color: #7f7f7f\">        </span>│<span style=\"color: #7f7f7f; text-decoration-color: #7f7f7f\">                 </span>│<span style=\"color: #7f7f7f; text-decoration-color: #7f7f7f\"> motivated        </span>│<span style=\"color: #7f7f7f; text-decoration-color: #7f7f7f\">                 </span>│<span style=\"color: #7f7f7f; text-decoration-color: #7f7f7f\">                 </span>│<span style=\"color: #7f7f7f; text-decoration-color: #7f7f7f\">               </span>│<span style=\"color: #7f7f7f; text-decoration-color: #7f7f7f\">               </span>│\n",
       "│<span style=\"color: #7f7f7f; text-decoration-color: #7f7f7f\">        </span>│<span style=\"color: #7f7f7f; text-decoration-color: #7f7f7f\">                 </span>│<span style=\"color: #7f7f7f; text-decoration-color: #7f7f7f\"> workforce.       </span>│<span style=\"color: #7f7f7f; text-decoration-color: #7f7f7f\">                 </span>│<span style=\"color: #7f7f7f; text-decoration-color: #7f7f7f\">                 </span>│<span style=\"color: #7f7f7f; text-decoration-color: #7f7f7f\">               </span>│<span style=\"color: #7f7f7f; text-decoration-color: #7f7f7f\">               </span>│\n",
       "├────────┼─────────────────┼──────────────────┼─────────────────┼─────────────────┼───────────────┼───────────────┤\n",
       "│<span style=\"color: #7f7f7f; text-decoration-color: #7f7f7f\"> gpt-4  </span>│<span style=\"color: #7f7f7f; text-decoration-color: #7f7f7f\"> You are a labor </span>│<span style=\"color: #7f7f7f; text-decoration-color: #7f7f7f\"> Design aesthetic </span>│<span style=\"color: #7f7f7f; text-decoration-color: #7f7f7f\"> ['Landscape     </span>│<span style=\"color: #7f7f7f; text-decoration-color: #7f7f7f\"> 4               </span>│<span style=\"color: #7f7f7f; text-decoration-color: #7f7f7f\"> Advanced      </span>│<span style=\"color: #7f7f7f; text-decoration-color: #7f7f7f\"> Yes           </span>│\n",
       "│<span style=\"color: #7f7f7f; text-decoration-color: #7f7f7f\">        </span>│<span style=\"color: #7f7f7f; text-decoration-color: #7f7f7f\"> economist.      </span>│<span style=\"color: #7f7f7f; text-decoration-color: #7f7f7f\"> and practical    </span>│<span style=\"color: #7f7f7f; text-decoration-color: #7f7f7f\"> Architect',     </span>│<span style=\"color: #7f7f7f; text-decoration-color: #7f7f7f\">                 </span>│<span style=\"color: #7f7f7f; text-decoration-color: #7f7f7f\">               </span>│<span style=\"color: #7f7f7f; text-decoration-color: #7f7f7f\">               </span>│\n",
       "│<span style=\"color: #7f7f7f; text-decoration-color: #7f7f7f\">        </span>│<span style=\"color: #7f7f7f; text-decoration-color: #7f7f7f\">                 </span>│<span style=\"color: #7f7f7f; text-decoration-color: #7f7f7f\"> outdoor spaces   </span>│<span style=\"color: #7f7f7f; text-decoration-color: #7f7f7f\"> 'Residential    </span>│<span style=\"color: #7f7f7f; text-decoration-color: #7f7f7f\">                 </span>│<span style=\"color: #7f7f7f; text-decoration-color: #7f7f7f\">               </span>│<span style=\"color: #7f7f7f; text-decoration-color: #7f7f7f\">               </span>│\n",
       "│<span style=\"color: #7f7f7f; text-decoration-color: #7f7f7f\">        </span>│<span style=\"color: #7f7f7f; text-decoration-color: #7f7f7f\">                 </span>│<span style=\"color: #7f7f7f; text-decoration-color: #7f7f7f\"> for clients,     </span>│<span style=\"color: #7f7f7f; text-decoration-color: #7f7f7f\"> Landscape       </span>│<span style=\"color: #7f7f7f; text-decoration-color: #7f7f7f\">                 </span>│<span style=\"color: #7f7f7f; text-decoration-color: #7f7f7f\">               </span>│<span style=\"color: #7f7f7f; text-decoration-color: #7f7f7f\">               </span>│\n",
       "│<span style=\"color: #7f7f7f; text-decoration-color: #7f7f7f\">        </span>│<span style=\"color: #7f7f7f; text-decoration-color: #7f7f7f\">                 </span>│<span style=\"color: #7f7f7f; text-decoration-color: #7f7f7f\"> from residential </span>│<span style=\"color: #7f7f7f; text-decoration-color: #7f7f7f\"> Designer',      </span>│<span style=\"color: #7f7f7f; text-decoration-color: #7f7f7f\">                 </span>│<span style=\"color: #7f7f7f; text-decoration-color: #7f7f7f\">               </span>│<span style=\"color: #7f7f7f; text-decoration-color: #7f7f7f\">               </span>│\n",
       "│<span style=\"color: #7f7f7f; text-decoration-color: #7f7f7f\">        </span>│<span style=\"color: #7f7f7f; text-decoration-color: #7f7f7f\">                 </span>│<span style=\"color: #7f7f7f; text-decoration-color: #7f7f7f\"> gardens to       </span>│<span style=\"color: #7f7f7f; text-decoration-color: #7f7f7f\"> 'Public Park    </span>│<span style=\"color: #7f7f7f; text-decoration-color: #7f7f7f\">                 </span>│<span style=\"color: #7f7f7f; text-decoration-color: #7f7f7f\">               </span>│<span style=\"color: #7f7f7f; text-decoration-color: #7f7f7f\">               </span>│\n",
       "│<span style=\"color: #7f7f7f; text-decoration-color: #7f7f7f\">        </span>│<span style=\"color: #7f7f7f; text-decoration-color: #7f7f7f\">                 </span>│<span style=\"color: #7f7f7f; text-decoration-color: #7f7f7f\"> public parks.    </span>│<span style=\"color: #7f7f7f; text-decoration-color: #7f7f7f\"> Landscape       </span>│<span style=\"color: #7f7f7f; text-decoration-color: #7f7f7f\">                 </span>│<span style=\"color: #7f7f7f; text-decoration-color: #7f7f7f\">               </span>│<span style=\"color: #7f7f7f; text-decoration-color: #7f7f7f\">               </span>│\n",
       "│<span style=\"color: #7f7f7f; text-decoration-color: #7f7f7f\">        </span>│<span style=\"color: #7f7f7f; text-decoration-color: #7f7f7f\">                 </span>│<span style=\"color: #7f7f7f; text-decoration-color: #7f7f7f\">                  </span>│<span style=\"color: #7f7f7f; text-decoration-color: #7f7f7f\"> Designer']      </span>│<span style=\"color: #7f7f7f; text-decoration-color: #7f7f7f\">                 </span>│<span style=\"color: #7f7f7f; text-decoration-color: #7f7f7f\">               </span>│<span style=\"color: #7f7f7f; text-decoration-color: #7f7f7f\">               </span>│\n",
       "├────────┼─────────────────┼──────────────────┼─────────────────┼─────────────────┼───────────────┼───────────────┤\n",
       "│<span style=\"color: #7f7f7f; text-decoration-color: #7f7f7f\"> gpt-4  </span>│<span style=\"color: #7f7f7f; text-decoration-color: #7f7f7f\"> You are a labor </span>│<span style=\"color: #7f7f7f; text-decoration-color: #7f7f7f\"> Install,         </span>│<span style=\"color: #7f7f7f; text-decoration-color: #7f7f7f\"> ['Electrician', </span>│<span style=\"color: #7f7f7f; text-decoration-color: #7f7f7f\"> 3               </span>│<span style=\"color: #7f7f7f; text-decoration-color: #7f7f7f\"> Advanced      </span>│<span style=\"color: #7f7f7f; text-decoration-color: #7f7f7f\"> Yes           </span>│\n",
       "│<span style=\"color: #7f7f7f; text-decoration-color: #7f7f7f\">        </span>│<span style=\"color: #7f7f7f; text-decoration-color: #7f7f7f\"> economist.      </span>│<span style=\"color: #7f7f7f; text-decoration-color: #7f7f7f\"> maintain, and    </span>│<span style=\"color: #7f7f7f; text-decoration-color: #7f7f7f\"> 'Installation   </span>│<span style=\"color: #7f7f7f; text-decoration-color: #7f7f7f\">                 </span>│<span style=\"color: #7f7f7f; text-decoration-color: #7f7f7f\">               </span>│<span style=\"color: #7f7f7f; text-decoration-color: #7f7f7f\">               </span>│\n",
       "│<span style=\"color: #7f7f7f; text-decoration-color: #7f7f7f\">        </span>│<span style=\"color: #7f7f7f; text-decoration-color: #7f7f7f\">                 </span>│<span style=\"color: #7f7f7f; text-decoration-color: #7f7f7f\"> repair           </span>│<span style=\"color: #7f7f7f; text-decoration-color: #7f7f7f\"> Electrician',   </span>│<span style=\"color: #7f7f7f; text-decoration-color: #7f7f7f\">                 </span>│<span style=\"color: #7f7f7f; text-decoration-color: #7f7f7f\">               </span>│<span style=\"color: #7f7f7f; text-decoration-color: #7f7f7f\">               </span>│\n",
       "│<span style=\"color: #7f7f7f; text-decoration-color: #7f7f7f\">        </span>│<span style=\"color: #7f7f7f; text-decoration-color: #7f7f7f\">                 </span>│<span style=\"color: #7f7f7f; text-decoration-color: #7f7f7f\"> electrical       </span>│<span style=\"color: #7f7f7f; text-decoration-color: #7f7f7f\"> 'Maintenance    </span>│<span style=\"color: #7f7f7f; text-decoration-color: #7f7f7f\">                 </span>│<span style=\"color: #7f7f7f; text-decoration-color: #7f7f7f\">               </span>│<span style=\"color: #7f7f7f; text-decoration-color: #7f7f7f\">               </span>│\n",
       "│<span style=\"color: #7f7f7f; text-decoration-color: #7f7f7f\">        </span>│<span style=\"color: #7f7f7f; text-decoration-color: #7f7f7f\">                 </span>│<span style=\"color: #7f7f7f; text-decoration-color: #7f7f7f\"> wiring,          </span>│<span style=\"color: #7f7f7f; text-decoration-color: #7f7f7f\"> and Repair      </span>│<span style=\"color: #7f7f7f; text-decoration-color: #7f7f7f\">                 </span>│<span style=\"color: #7f7f7f; text-decoration-color: #7f7f7f\">               </span>│<span style=\"color: #7f7f7f; text-decoration-color: #7f7f7f\">               </span>│\n",
       "│<span style=\"color: #7f7f7f; text-decoration-color: #7f7f7f\">        </span>│<span style=\"color: #7f7f7f; text-decoration-color: #7f7f7f\">                 </span>│<span style=\"color: #7f7f7f; text-decoration-color: #7f7f7f\"> equipment, and   </span>│<span style=\"color: #7f7f7f; text-decoration-color: #7f7f7f\"> Electrician']   </span>│<span style=\"color: #7f7f7f; text-decoration-color: #7f7f7f\">                 </span>│<span style=\"color: #7f7f7f; text-decoration-color: #7f7f7f\">               </span>│<span style=\"color: #7f7f7f; text-decoration-color: #7f7f7f\">               </span>│\n",
       "│<span style=\"color: #7f7f7f; text-decoration-color: #7f7f7f\">        </span>│<span style=\"color: #7f7f7f; text-decoration-color: #7f7f7f\">                 </span>│<span style=\"color: #7f7f7f; text-decoration-color: #7f7f7f\"> fixtures to      </span>│<span style=\"color: #7f7f7f; text-decoration-color: #7f7f7f\">                 </span>│<span style=\"color: #7f7f7f; text-decoration-color: #7f7f7f\">                 </span>│<span style=\"color: #7f7f7f; text-decoration-color: #7f7f7f\">               </span>│<span style=\"color: #7f7f7f; text-decoration-color: #7f7f7f\">               </span>│\n",
       "│<span style=\"color: #7f7f7f; text-decoration-color: #7f7f7f\">        </span>│<span style=\"color: #7f7f7f; text-decoration-color: #7f7f7f\">                 </span>│<span style=\"color: #7f7f7f; text-decoration-color: #7f7f7f\"> ensure safe and  </span>│<span style=\"color: #7f7f7f; text-decoration-color: #7f7f7f\">                 </span>│<span style=\"color: #7f7f7f; text-decoration-color: #7f7f7f\">                 </span>│<span style=\"color: #7f7f7f; text-decoration-color: #7f7f7f\">               </span>│<span style=\"color: #7f7f7f; text-decoration-color: #7f7f7f\">               </span>│\n",
       "│<span style=\"color: #7f7f7f; text-decoration-color: #7f7f7f\">        </span>│<span style=\"color: #7f7f7f; text-decoration-color: #7f7f7f\">                 </span>│<span style=\"color: #7f7f7f; text-decoration-color: #7f7f7f\"> effective        </span>│<span style=\"color: #7f7f7f; text-decoration-color: #7f7f7f\">                 </span>│<span style=\"color: #7f7f7f; text-decoration-color: #7f7f7f\">                 </span>│<span style=\"color: #7f7f7f; text-decoration-color: #7f7f7f\">               </span>│<span style=\"color: #7f7f7f; text-decoration-color: #7f7f7f\">               </span>│\n",
       "│<span style=\"color: #7f7f7f; text-decoration-color: #7f7f7f\">        </span>│<span style=\"color: #7f7f7f; text-decoration-color: #7f7f7f\">                 </span>│<span style=\"color: #7f7f7f; text-decoration-color: #7f7f7f\"> operation.       </span>│<span style=\"color: #7f7f7f; text-decoration-color: #7f7f7f\">                 </span>│<span style=\"color: #7f7f7f; text-decoration-color: #7f7f7f\">                 </span>│<span style=\"color: #7f7f7f; text-decoration-color: #7f7f7f\">               </span>│<span style=\"color: #7f7f7f; text-decoration-color: #7f7f7f\">               </span>│\n",
       "└────────┴─────────────────┴──────────────────┴─────────────────┴─────────────────┴───────────────┴───────────────┘\n",
       "</pre>\n"
      ],
      "text/plain": [
       "┏━━━━━━━━┳━━━━━━━━━━━━━━━━━┳━━━━━━━━━━━━━━━━━━┳━━━━━━━━━━━━━━━━━┳━━━━━━━━━━━━━━━━━┳━━━━━━━━━━━━━━━┳━━━━━━━━━━━━━━━┓\n",
       "┃\u001b[1;35m \u001b[0m\u001b[1;35mmodel \u001b[0m\u001b[1;35m \u001b[0m┃\u001b[1;35m \u001b[0m\u001b[1;35magent          \u001b[0m\u001b[1;35m \u001b[0m┃\u001b[1;35m \u001b[0m\u001b[1;35mscenario        \u001b[0m\u001b[1;35m \u001b[0m┃\u001b[1;35m \u001b[0m\u001b[1;35manswer         \u001b[0m\u001b[1;35m \u001b[0m┃\u001b[1;35m \u001b[0m\u001b[1;35manswer         \u001b[0m\u001b[1;35m \u001b[0m┃\u001b[1;35m \u001b[0m\u001b[1;35manswer       \u001b[0m\u001b[1;35m \u001b[0m┃\u001b[1;35m \u001b[0m\u001b[1;35manswer       \u001b[0m\u001b[1;35m \u001b[0m┃\n",
       "┃\u001b[1;35m \u001b[0m\u001b[1;35m.model\u001b[0m\u001b[1;35m \u001b[0m┃\u001b[1;35m \u001b[0m\u001b[1;35m.persona       \u001b[0m\u001b[1;35m \u001b[0m┃\u001b[1;35m \u001b[0m\u001b[1;35m.job_post       \u001b[0m\u001b[1;35m \u001b[0m┃\u001b[1;35m \u001b[0m\u001b[1;35m.category_list \u001b[0m\u001b[1;35m \u001b[0m┃\u001b[1;35m \u001b[0m\u001b[1;35m.specific_scale\u001b[0m\u001b[1;35m \u001b[0m┃\u001b[1;35m \u001b[0m\u001b[1;35m.skill_choice\u001b[0m\u001b[1;35m \u001b[0m┃\u001b[1;35m \u001b[0m\u001b[1;35m.technical_yn\u001b[0m\u001b[1;35m \u001b[0m┃\n",
       "┡━━━━━━━━╇━━━━━━━━━━━━━━━━━╇━━━━━━━━━━━━━━━━━━╇━━━━━━━━━━━━━━━━━╇━━━━━━━━━━━━━━━━━╇━━━━━━━━━━━━━━━╇━━━━━━━━━━━━━━━┩\n",
       "│\u001b[2m \u001b[0m\u001b[2mgpt-4 \u001b[0m\u001b[2m \u001b[0m│\u001b[2m \u001b[0m\u001b[2mYou are a labor\u001b[0m\u001b[2m \u001b[0m│\u001b[2m \u001b[0m\u001b[2mAnalyze sales   \u001b[0m\u001b[2m \u001b[0m│\u001b[2m \u001b[0m\u001b[2m['Data         \u001b[0m\u001b[2m \u001b[0m│\u001b[2m \u001b[0m\u001b[2m4              \u001b[0m\u001b[2m \u001b[0m│\u001b[2m \u001b[0m\u001b[2mAdvanced     \u001b[0m\u001b[2m \u001b[0m│\u001b[2m \u001b[0m\u001b[2mYes          \u001b[0m\u001b[2m \u001b[0m│\n",
       "│\u001b[2m        \u001b[0m│\u001b[2m \u001b[0m\u001b[2meconomist.     \u001b[0m\u001b[2m \u001b[0m│\u001b[2m \u001b[0m\u001b[2mdata using      \u001b[0m\u001b[2m \u001b[0m│\u001b[2m \u001b[0m\u001b[2mAnalyst',      \u001b[0m\u001b[2m \u001b[0m│\u001b[2m                 \u001b[0m│\u001b[2m               \u001b[0m│\u001b[2m               \u001b[0m│\n",
       "│\u001b[2m        \u001b[0m│\u001b[2m                 \u001b[0m│\u001b[2m \u001b[0m\u001b[2mstatistical     \u001b[0m\u001b[2m \u001b[0m│\u001b[2m \u001b[0m\u001b[2m'Sales Data    \u001b[0m\u001b[2m \u001b[0m│\u001b[2m                 \u001b[0m│\u001b[2m               \u001b[0m│\u001b[2m               \u001b[0m│\n",
       "│\u001b[2m        \u001b[0m│\u001b[2m                 \u001b[0m│\u001b[2m \u001b[0m\u001b[2mtools to        \u001b[0m\u001b[2m \u001b[0m│\u001b[2m \u001b[0m\u001b[2mAnalyst',      \u001b[0m\u001b[2m \u001b[0m│\u001b[2m                 \u001b[0m│\u001b[2m               \u001b[0m│\u001b[2m               \u001b[0m│\n",
       "│\u001b[2m        \u001b[0m│\u001b[2m                 \u001b[0m│\u001b[2m \u001b[0m\u001b[2midentify trends \u001b[0m\u001b[2m \u001b[0m│\u001b[2m \u001b[0m\u001b[2m'Marketing Data\u001b[0m\u001b[2m \u001b[0m│\u001b[2m                 \u001b[0m│\u001b[2m               \u001b[0m│\u001b[2m               \u001b[0m│\n",
       "│\u001b[2m        \u001b[0m│\u001b[2m                 \u001b[0m│\u001b[2m \u001b[0m\u001b[2mand provide     \u001b[0m\u001b[2m \u001b[0m│\u001b[2m \u001b[0m\u001b[2mAnalyst']      \u001b[0m\u001b[2m \u001b[0m│\u001b[2m                 \u001b[0m│\u001b[2m               \u001b[0m│\u001b[2m               \u001b[0m│\n",
       "│\u001b[2m        \u001b[0m│\u001b[2m                 \u001b[0m│\u001b[2m \u001b[0m\u001b[2mactionable      \u001b[0m\u001b[2m \u001b[0m│\u001b[2m                 \u001b[0m│\u001b[2m                 \u001b[0m│\u001b[2m               \u001b[0m│\u001b[2m               \u001b[0m│\n",
       "│\u001b[2m        \u001b[0m│\u001b[2m                 \u001b[0m│\u001b[2m \u001b[0m\u001b[2minsights to the \u001b[0m\u001b[2m \u001b[0m│\u001b[2m                 \u001b[0m│\u001b[2m                 \u001b[0m│\u001b[2m               \u001b[0m│\u001b[2m               \u001b[0m│\n",
       "│\u001b[2m        \u001b[0m│\u001b[2m                 \u001b[0m│\u001b[2m \u001b[0m\u001b[2mmarketing team. \u001b[0m\u001b[2m \u001b[0m│\u001b[2m                 \u001b[0m│\u001b[2m                 \u001b[0m│\u001b[2m               \u001b[0m│\u001b[2m               \u001b[0m│\n",
       "├────────┼─────────────────┼──────────────────┼─────────────────┼─────────────────┼───────────────┼───────────────┤\n",
       "│\u001b[2m \u001b[0m\u001b[2mgpt-4 \u001b[0m\u001b[2m \u001b[0m│\u001b[2m \u001b[0m\u001b[2mYou are a labor\u001b[0m\u001b[2m \u001b[0m│\u001b[2m \u001b[0m\u001b[2mDesign creative \u001b[0m\u001b[2m \u001b[0m│\u001b[2m \u001b[0m\u001b[2m['Marketing and\u001b[0m\u001b[2m \u001b[0m│\u001b[2m \u001b[0m\u001b[2m3              \u001b[0m\u001b[2m \u001b[0m│\u001b[2m \u001b[0m\u001b[2mAdvanced     \u001b[0m\u001b[2m \u001b[0m│\u001b[2m \u001b[0m\u001b[2mYes          \u001b[0m\u001b[2m \u001b[0m│\n",
       "│\u001b[2m        \u001b[0m│\u001b[2m \u001b[0m\u001b[2meconomist.     \u001b[0m\u001b[2m \u001b[0m│\u001b[2m \u001b[0m\u001b[2mvisual content  \u001b[0m\u001b[2m \u001b[0m│\u001b[2m \u001b[0m\u001b[2mAdvertising',  \u001b[0m\u001b[2m \u001b[0m│\u001b[2m                 \u001b[0m│\u001b[2m               \u001b[0m│\u001b[2m               \u001b[0m│\n",
       "│\u001b[2m        \u001b[0m│\u001b[2m                 \u001b[0m│\u001b[2m \u001b[0m\u001b[2mfor marketing   \u001b[0m\u001b[2m \u001b[0m│\u001b[2m \u001b[0m\u001b[2m'Graphic       \u001b[0m\u001b[2m \u001b[0m│\u001b[2m                 \u001b[0m│\u001b[2m               \u001b[0m│\u001b[2m               \u001b[0m│\n",
       "│\u001b[2m        \u001b[0m│\u001b[2m                 \u001b[0m│\u001b[2m \u001b[0m\u001b[2mmaterials,      \u001b[0m\u001b[2m \u001b[0m│\u001b[2m \u001b[0m\u001b[2mDesign', 'Adobe\u001b[0m\u001b[2m \u001b[0m│\u001b[2m                 \u001b[0m│\u001b[2m               \u001b[0m│\u001b[2m               \u001b[0m│\n",
       "│\u001b[2m        \u001b[0m│\u001b[2m                 \u001b[0m│\u001b[2m \u001b[0m\u001b[2mincluding       \u001b[0m\u001b[2m \u001b[0m│\u001b[2m \u001b[0m\u001b[2mCreative Suite \u001b[0m\u001b[2m \u001b[0m│\u001b[2m                 \u001b[0m│\u001b[2m               \u001b[0m│\u001b[2m               \u001b[0m│\n",
       "│\u001b[2m        \u001b[0m│\u001b[2m                 \u001b[0m│\u001b[2m \u001b[0m\u001b[2mbrochures,      \u001b[0m\u001b[2m \u001b[0m│\u001b[2m \u001b[0m\u001b[2mSpecialist']   \u001b[0m\u001b[2m \u001b[0m│\u001b[2m                 \u001b[0m│\u001b[2m               \u001b[0m│\u001b[2m               \u001b[0m│\n",
       "│\u001b[2m        \u001b[0m│\u001b[2m                 \u001b[0m│\u001b[2m \u001b[0m\u001b[2mbanners, and    \u001b[0m\u001b[2m \u001b[0m│\u001b[2m                 \u001b[0m│\u001b[2m                 \u001b[0m│\u001b[2m               \u001b[0m│\u001b[2m               \u001b[0m│\n",
       "│\u001b[2m        \u001b[0m│\u001b[2m                 \u001b[0m│\u001b[2m \u001b[0m\u001b[2mdigital ads,    \u001b[0m\u001b[2m \u001b[0m│\u001b[2m                 \u001b[0m│\u001b[2m                 \u001b[0m│\u001b[2m               \u001b[0m│\u001b[2m               \u001b[0m│\n",
       "│\u001b[2m        \u001b[0m│\u001b[2m                 \u001b[0m│\u001b[2m \u001b[0m\u001b[2musing Adobe     \u001b[0m\u001b[2m \u001b[0m│\u001b[2m                 \u001b[0m│\u001b[2m                 \u001b[0m│\u001b[2m               \u001b[0m│\u001b[2m               \u001b[0m│\n",
       "│\u001b[2m        \u001b[0m│\u001b[2m                 \u001b[0m│\u001b[2m \u001b[0m\u001b[2mCreative Suite. \u001b[0m\u001b[2m \u001b[0m│\u001b[2m                 \u001b[0m│\u001b[2m                 \u001b[0m│\u001b[2m               \u001b[0m│\u001b[2m               \u001b[0m│\n",
       "├────────┼─────────────────┼──────────────────┼─────────────────┼─────────────────┼───────────────┼───────────────┤\n",
       "│\u001b[2m \u001b[0m\u001b[2mgpt-4 \u001b[0m\u001b[2m \u001b[0m│\u001b[2m \u001b[0m\u001b[2mYou are a labor\u001b[0m\u001b[2m \u001b[0m│\u001b[2m \u001b[0m\u001b[2mManage          \u001b[0m\u001b[2m \u001b[0m│\u001b[2m \u001b[0m\u001b[2m['Human        \u001b[0m\u001b[2m \u001b[0m│\u001b[2m \u001b[0m\u001b[2m3              \u001b[0m\u001b[2m \u001b[0m│\u001b[2m \u001b[0m\u001b[2mAdvanced     \u001b[0m\u001b[2m \u001b[0m│\u001b[2m \u001b[0m\u001b[2mNo           \u001b[0m\u001b[2m \u001b[0m│\n",
       "│\u001b[2m        \u001b[0m│\u001b[2m \u001b[0m\u001b[2meconomist.     \u001b[0m\u001b[2m \u001b[0m│\u001b[2m \u001b[0m\u001b[2mrecruitment     \u001b[0m\u001b[2m \u001b[0m│\u001b[2m \u001b[0m\u001b[2mResources      \u001b[0m\u001b[2m \u001b[0m│\u001b[2m                 \u001b[0m│\u001b[2m               \u001b[0m│\u001b[2m               \u001b[0m│\n",
       "│\u001b[2m        \u001b[0m│\u001b[2m                 \u001b[0m│\u001b[2m \u001b[0m\u001b[2mprocesses,      \u001b[0m\u001b[2m \u001b[0m│\u001b[2m \u001b[0m\u001b[2mManager',      \u001b[0m\u001b[2m \u001b[0m│\u001b[2m                 \u001b[0m│\u001b[2m               \u001b[0m│\u001b[2m               \u001b[0m│\n",
       "│\u001b[2m        \u001b[0m│\u001b[2m                 \u001b[0m│\u001b[2m \u001b[0m\u001b[2mconduct         \u001b[0m\u001b[2m \u001b[0m│\u001b[2m \u001b[0m\u001b[2m'Recruitment   \u001b[0m\u001b[2m \u001b[0m│\u001b[2m                 \u001b[0m│\u001b[2m               \u001b[0m│\u001b[2m               \u001b[0m│\n",
       "│\u001b[2m        \u001b[0m│\u001b[2m                 \u001b[0m│\u001b[2m \u001b[0m\u001b[2minterviews, and \u001b[0m\u001b[2m \u001b[0m│\u001b[2m \u001b[0m\u001b[2mManager',      \u001b[0m\u001b[2m \u001b[0m│\u001b[2m                 \u001b[0m│\u001b[2m               \u001b[0m│\u001b[2m               \u001b[0m│\n",
       "│\u001b[2m        \u001b[0m│\u001b[2m                 \u001b[0m│\u001b[2m \u001b[0m\u001b[2moversee employee\u001b[0m\u001b[2m \u001b[0m│\u001b[2m \u001b[0m\u001b[2m'Employee      \u001b[0m\u001b[2m \u001b[0m│\u001b[2m                 \u001b[0m│\u001b[2m               \u001b[0m│\u001b[2m               \u001b[0m│\n",
       "│\u001b[2m        \u001b[0m│\u001b[2m                 \u001b[0m│\u001b[2m \u001b[0m\u001b[2mbenefit programs\u001b[0m\u001b[2m \u001b[0m│\u001b[2m \u001b[0m\u001b[2mBenefits       \u001b[0m\u001b[2m \u001b[0m│\u001b[2m                 \u001b[0m│\u001b[2m               \u001b[0m│\u001b[2m               \u001b[0m│\n",
       "│\u001b[2m        \u001b[0m│\u001b[2m                 \u001b[0m│\u001b[2m \u001b[0m\u001b[2mto ensure a     \u001b[0m\u001b[2m \u001b[0m│\u001b[2m \u001b[0m\u001b[2mManager']      \u001b[0m\u001b[2m \u001b[0m│\u001b[2m                 \u001b[0m│\u001b[2m               \u001b[0m│\u001b[2m               \u001b[0m│\n",
       "│\u001b[2m        \u001b[0m│\u001b[2m                 \u001b[0m│\u001b[2m \u001b[0m\u001b[2mmotivated       \u001b[0m\u001b[2m \u001b[0m│\u001b[2m                 \u001b[0m│\u001b[2m                 \u001b[0m│\u001b[2m               \u001b[0m│\u001b[2m               \u001b[0m│\n",
       "│\u001b[2m        \u001b[0m│\u001b[2m                 \u001b[0m│\u001b[2m \u001b[0m\u001b[2mworkforce.      \u001b[0m\u001b[2m \u001b[0m│\u001b[2m                 \u001b[0m│\u001b[2m                 \u001b[0m│\u001b[2m               \u001b[0m│\u001b[2m               \u001b[0m│\n",
       "├────────┼─────────────────┼──────────────────┼─────────────────┼─────────────────┼───────────────┼───────────────┤\n",
       "│\u001b[2m \u001b[0m\u001b[2mgpt-4 \u001b[0m\u001b[2m \u001b[0m│\u001b[2m \u001b[0m\u001b[2mYou are a labor\u001b[0m\u001b[2m \u001b[0m│\u001b[2m \u001b[0m\u001b[2mDesign aesthetic\u001b[0m\u001b[2m \u001b[0m│\u001b[2m \u001b[0m\u001b[2m['Landscape    \u001b[0m\u001b[2m \u001b[0m│\u001b[2m \u001b[0m\u001b[2m4              \u001b[0m\u001b[2m \u001b[0m│\u001b[2m \u001b[0m\u001b[2mAdvanced     \u001b[0m\u001b[2m \u001b[0m│\u001b[2m \u001b[0m\u001b[2mYes          \u001b[0m\u001b[2m \u001b[0m│\n",
       "│\u001b[2m        \u001b[0m│\u001b[2m \u001b[0m\u001b[2meconomist.     \u001b[0m\u001b[2m \u001b[0m│\u001b[2m \u001b[0m\u001b[2mand practical   \u001b[0m\u001b[2m \u001b[0m│\u001b[2m \u001b[0m\u001b[2mArchitect',    \u001b[0m\u001b[2m \u001b[0m│\u001b[2m                 \u001b[0m│\u001b[2m               \u001b[0m│\u001b[2m               \u001b[0m│\n",
       "│\u001b[2m        \u001b[0m│\u001b[2m                 \u001b[0m│\u001b[2m \u001b[0m\u001b[2moutdoor spaces  \u001b[0m\u001b[2m \u001b[0m│\u001b[2m \u001b[0m\u001b[2m'Residential   \u001b[0m\u001b[2m \u001b[0m│\u001b[2m                 \u001b[0m│\u001b[2m               \u001b[0m│\u001b[2m               \u001b[0m│\n",
       "│\u001b[2m        \u001b[0m│\u001b[2m                 \u001b[0m│\u001b[2m \u001b[0m\u001b[2mfor clients,    \u001b[0m\u001b[2m \u001b[0m│\u001b[2m \u001b[0m\u001b[2mLandscape      \u001b[0m\u001b[2m \u001b[0m│\u001b[2m                 \u001b[0m│\u001b[2m               \u001b[0m│\u001b[2m               \u001b[0m│\n",
       "│\u001b[2m        \u001b[0m│\u001b[2m                 \u001b[0m│\u001b[2m \u001b[0m\u001b[2mfrom residential\u001b[0m\u001b[2m \u001b[0m│\u001b[2m \u001b[0m\u001b[2mDesigner',     \u001b[0m\u001b[2m \u001b[0m│\u001b[2m                 \u001b[0m│\u001b[2m               \u001b[0m│\u001b[2m               \u001b[0m│\n",
       "│\u001b[2m        \u001b[0m│\u001b[2m                 \u001b[0m│\u001b[2m \u001b[0m\u001b[2mgardens to      \u001b[0m\u001b[2m \u001b[0m│\u001b[2m \u001b[0m\u001b[2m'Public Park   \u001b[0m\u001b[2m \u001b[0m│\u001b[2m                 \u001b[0m│\u001b[2m               \u001b[0m│\u001b[2m               \u001b[0m│\n",
       "│\u001b[2m        \u001b[0m│\u001b[2m                 \u001b[0m│\u001b[2m \u001b[0m\u001b[2mpublic parks.   \u001b[0m\u001b[2m \u001b[0m│\u001b[2m \u001b[0m\u001b[2mLandscape      \u001b[0m\u001b[2m \u001b[0m│\u001b[2m                 \u001b[0m│\u001b[2m               \u001b[0m│\u001b[2m               \u001b[0m│\n",
       "│\u001b[2m        \u001b[0m│\u001b[2m                 \u001b[0m│\u001b[2m                  \u001b[0m│\u001b[2m \u001b[0m\u001b[2mDesigner']     \u001b[0m\u001b[2m \u001b[0m│\u001b[2m                 \u001b[0m│\u001b[2m               \u001b[0m│\u001b[2m               \u001b[0m│\n",
       "├────────┼─────────────────┼──────────────────┼─────────────────┼─────────────────┼───────────────┼───────────────┤\n",
       "│\u001b[2m \u001b[0m\u001b[2mgpt-4 \u001b[0m\u001b[2m \u001b[0m│\u001b[2m \u001b[0m\u001b[2mYou are a labor\u001b[0m\u001b[2m \u001b[0m│\u001b[2m \u001b[0m\u001b[2mInstall,        \u001b[0m\u001b[2m \u001b[0m│\u001b[2m \u001b[0m\u001b[2m['Electrician',\u001b[0m\u001b[2m \u001b[0m│\u001b[2m \u001b[0m\u001b[2m3              \u001b[0m\u001b[2m \u001b[0m│\u001b[2m \u001b[0m\u001b[2mAdvanced     \u001b[0m\u001b[2m \u001b[0m│\u001b[2m \u001b[0m\u001b[2mYes          \u001b[0m\u001b[2m \u001b[0m│\n",
       "│\u001b[2m        \u001b[0m│\u001b[2m \u001b[0m\u001b[2meconomist.     \u001b[0m\u001b[2m \u001b[0m│\u001b[2m \u001b[0m\u001b[2mmaintain, and   \u001b[0m\u001b[2m \u001b[0m│\u001b[2m \u001b[0m\u001b[2m'Installation  \u001b[0m\u001b[2m \u001b[0m│\u001b[2m                 \u001b[0m│\u001b[2m               \u001b[0m│\u001b[2m               \u001b[0m│\n",
       "│\u001b[2m        \u001b[0m│\u001b[2m                 \u001b[0m│\u001b[2m \u001b[0m\u001b[2mrepair          \u001b[0m\u001b[2m \u001b[0m│\u001b[2m \u001b[0m\u001b[2mElectrician',  \u001b[0m\u001b[2m \u001b[0m│\u001b[2m                 \u001b[0m│\u001b[2m               \u001b[0m│\u001b[2m               \u001b[0m│\n",
       "│\u001b[2m        \u001b[0m│\u001b[2m                 \u001b[0m│\u001b[2m \u001b[0m\u001b[2melectrical      \u001b[0m\u001b[2m \u001b[0m│\u001b[2m \u001b[0m\u001b[2m'Maintenance   \u001b[0m\u001b[2m \u001b[0m│\u001b[2m                 \u001b[0m│\u001b[2m               \u001b[0m│\u001b[2m               \u001b[0m│\n",
       "│\u001b[2m        \u001b[0m│\u001b[2m                 \u001b[0m│\u001b[2m \u001b[0m\u001b[2mwiring,         \u001b[0m\u001b[2m \u001b[0m│\u001b[2m \u001b[0m\u001b[2mand Repair     \u001b[0m\u001b[2m \u001b[0m│\u001b[2m                 \u001b[0m│\u001b[2m               \u001b[0m│\u001b[2m               \u001b[0m│\n",
       "│\u001b[2m        \u001b[0m│\u001b[2m                 \u001b[0m│\u001b[2m \u001b[0m\u001b[2mequipment, and  \u001b[0m\u001b[2m \u001b[0m│\u001b[2m \u001b[0m\u001b[2mElectrician']  \u001b[0m\u001b[2m \u001b[0m│\u001b[2m                 \u001b[0m│\u001b[2m               \u001b[0m│\u001b[2m               \u001b[0m│\n",
       "│\u001b[2m        \u001b[0m│\u001b[2m                 \u001b[0m│\u001b[2m \u001b[0m\u001b[2mfixtures to     \u001b[0m\u001b[2m \u001b[0m│\u001b[2m                 \u001b[0m│\u001b[2m                 \u001b[0m│\u001b[2m               \u001b[0m│\u001b[2m               \u001b[0m│\n",
       "│\u001b[2m        \u001b[0m│\u001b[2m                 \u001b[0m│\u001b[2m \u001b[0m\u001b[2mensure safe and \u001b[0m\u001b[2m \u001b[0m│\u001b[2m                 \u001b[0m│\u001b[2m                 \u001b[0m│\u001b[2m               \u001b[0m│\u001b[2m               \u001b[0m│\n",
       "│\u001b[2m        \u001b[0m│\u001b[2m                 \u001b[0m│\u001b[2m \u001b[0m\u001b[2meffective       \u001b[0m\u001b[2m \u001b[0m│\u001b[2m                 \u001b[0m│\u001b[2m                 \u001b[0m│\u001b[2m               \u001b[0m│\u001b[2m               \u001b[0m│\n",
       "│\u001b[2m        \u001b[0m│\u001b[2m                 \u001b[0m│\u001b[2m \u001b[0m\u001b[2moperation.      \u001b[0m\u001b[2m \u001b[0m│\u001b[2m                 \u001b[0m│\u001b[2m                 \u001b[0m│\u001b[2m               \u001b[0m│\u001b[2m               \u001b[0m│\n",
       "└────────┴─────────────────┴──────────────────┴─────────────────┴─────────────────┴───────────────┴───────────────┘\n"
      ]
     },
     "metadata": {},
     "output_type": "display_data"
    }
   ],
   "source": [
    "(\n",
    "    results\n",
    "    .filter(\"specific_scale in ['3','4','5']\")\n",
    "    .sort_by(\"skill_choice\")\n",
    "    .select(\n",
    "        \"model\",\n",
    "        \"persona\",\n",
    "        \"job_post\",\n",
    "        \"category_list\",\n",
    "        \"specific_scale\",\n",
    "        \"skill_choice\",\n",
    "        \"technical_yn\",\n",
    "    )\n",
    "    .print(pretty_labels={}, format=\"rich\", max_rows=5)\n",
    ")"
   ]
  },
  {
   "cell_type": "code",
   "execution_count": 12,
   "id": "966225f7-5a8e-477f-bbaf-155f06945ee1",
   "metadata": {},
   "outputs": [
    {
     "data": {
      "text/html": [
       "<pre style=\"white-space:pre;overflow-x:auto;line-height:normal;font-family:Menlo,'DejaVu Sans Mono',consolas,'Courier New',monospace\">┏━━━━━━━━━━━━━━━━━━━━━━━━━━━━━━━━━━━━━━━━━━━━━━━━━━━━━━━━━━━━━━━━━━━━━━━━━━━━━━━━━━━━━━━━━━━━━━━━━━━━━━━━━━━━━━━━━┓\n",
       "┃<span style=\"color: #800080; text-decoration-color: #800080; font-weight: bold\"> answer                                                                                                          </span>┃\n",
       "┃<span style=\"color: #800080; text-decoration-color: #800080; font-weight: bold\"> .rewrite_text                                                                                                   </span>┃\n",
       "┡━━━━━━━━━━━━━━━━━━━━━━━━━━━━━━━━━━━━━━━━━━━━━━━━━━━━━━━━━━━━━━━━━━━━━━━━━━━━━━━━━━━━━━━━━━━━━━━━━━━━━━━━━━━━━━━━━┩\n",
       "│<span style=\"color: #7f7f7f; text-decoration-color: #7f7f7f\"> Manage daily operations, supervise employees, and guarantee customer satisfaction in a high-speed retail        </span>│\n",
       "│<span style=\"color: #7f7f7f; text-decoration-color: #7f7f7f\"> setting.                                                                                                        </span>│\n",
       "├─────────────────────────────────────────────────────────────────────────────────────────────────────────────────┤\n",
       "│<span style=\"color: #7f7f7f; text-decoration-color: #7f7f7f\"> Produce compelling and educational health and wellness blog content to increase website visits and engage       </span>│\n",
       "│<span style=\"color: #7f7f7f; text-decoration-color: #7f7f7f\"> audience.                                                                                                       </span>│\n",
       "├─────────────────────────────────────────────────────────────────────────────────────────────────────────────────┤\n",
       "│<span style=\"color: #7f7f7f; text-decoration-color: #7f7f7f\"> Conduct statistical analysis on sales data to discern trends and deliver valuable insights to the marketing     </span>│\n",
       "│<span style=\"color: #7f7f7f; text-decoration-color: #7f7f7f\"> team.                                                                                                           </span>│\n",
       "├─────────────────────────────────────────────────────────────────────────────────────────────────────────────────┤\n",
       "│<span style=\"color: #7f7f7f; text-decoration-color: #7f7f7f\"> Craft gourmet dishes in accordance with our restaurant's quality standards, and captivate our customers through </span>│\n",
       "│<span style=\"color: #7f7f7f; text-decoration-color: #7f7f7f\"> innovative and unique flavor profiles.                                                                          </span>│\n",
       "├─────────────────────────────────────────────────────────────────────────────────────────────────────────────────┤\n",
       "│<span style=\"color: #7f7f7f; text-decoration-color: #7f7f7f\"> Create engaging visual designs for promotional materials such as brochures, banners, and digital advertisements </span>│\n",
       "│<span style=\"color: #7f7f7f; text-decoration-color: #7f7f7f\"> utilizing Adobe Creative Suite.                                                                                 </span>│\n",
       "├─────────────────────────────────────────────────────────────────────────────────────────────────────────────────┤\n",
       "│<span style=\"color: #7f7f7f; text-decoration-color: #7f7f7f\"> Design, validate, and upkeep efficient software applications enhancing business operations, utilizing Python    </span>│\n",
       "│<span style=\"color: #7f7f7f; text-decoration-color: #7f7f7f\"> and Java languages.                                                                                             </span>│\n",
       "├─────────────────────────────────────────────────────────────────────────────────────────────────────────────────┤\n",
       "│<span style=\"color: #7f7f7f; text-decoration-color: #7f7f7f\"> Prepare and serve artisan coffee beverages, oversee the coffee station operations, and deliver outstanding      </span>│\n",
       "│<span style=\"color: #7f7f7f; text-decoration-color: #7f7f7f\"> customer service within a high-traffic café setting.                                                            </span>│\n",
       "├─────────────────────────────────────────────────────────────────────────────────────────────────────────────────┤\n",
       "│<span style=\"color: #7f7f7f; text-decoration-color: #7f7f7f\"> Oversee the recruitment process, conduct candidate interviews, and manage employee benefit programs to maintain </span>│\n",
       "│<span style=\"color: #7f7f7f; text-decoration-color: #7f7f7f\"> a motivated workforce.                                                                                          </span>│\n",
       "├─────────────────────────────────────────────────────────────────────────────────────────────────────────────────┤\n",
       "│<span style=\"color: #7f7f7f; text-decoration-color: #7f7f7f\"> Support veterinarians through the preparation of animals for surgery, the administration of injections, and the </span>│\n",
       "│<span style=\"color: #7f7f7f; text-decoration-color: #7f7f7f\"> delivery of post-operative care.                                                                                </span>│\n",
       "├─────────────────────────────────────────────────────────────────────────────────────────────────────────────────┤\n",
       "│<span style=\"color: #7f7f7f; text-decoration-color: #7f7f7f\"> Develop aesthetically pleasing and functional outdoor environments for a range of clients, including homeowners </span>│\n",
       "│<span style=\"color: #7f7f7f; text-decoration-color: #7f7f7f\"> and public entities. Projects may range from residential garden designs to large-scale public park layouts.     </span>│\n",
       "├─────────────────────────────────────────────────────────────────────────────────────────────────────────────────┤\n",
       "│<span style=\"color: #7f7f7f; text-decoration-color: #7f7f7f\"> Formulate holistic marketing strategies in line with our company objectives, encompassing digital campaigns and </span>│\n",
       "│<span style=\"color: #7f7f7f; text-decoration-color: #7f7f7f\"> brand initiatives.                                                                                              </span>│\n",
       "├─────────────────────────────────────────────────────────────────────────────────────────────────────────────────┤\n",
       "│<span style=\"color: #7f7f7f; text-decoration-color: #7f7f7f\"> Install, maintain, and repair electrical systems, ensuring safety and effectiveness. Responsibilities include   </span>│\n",
       "│<span style=\"color: #7f7f7f; text-decoration-color: #7f7f7f\"> working with wiring, equipment, and fixtures.                                                                   </span>│\n",
       "├─────────────────────────────────────────────────────────────────────────────────────────────────────────────────┤\n",
       "│<span style=\"color: #7f7f7f; text-decoration-color: #7f7f7f\"> Respond to customer inquiries and resolve issues through phone and email, guaranteeing prompt resolution and    </span>│\n",
       "│<span style=\"color: #7f7f7f; text-decoration-color: #7f7f7f\"> high customer satisfaction.                                                                                     </span>│\n",
       "├─────────────────────────────────────────────────────────────────────────────────────────────────────────────────┤\n",
       "│<span style=\"color: #7f7f7f; text-decoration-color: #7f7f7f\"> Responsible for the installation and repair of residential plumbing systems. This includes tasks such as        </span>│\n",
       "│<span style=\"color: #7f7f7f; text-decoration-color: #7f7f7f\"> ensuring the proper functionality of water heaters, pipes, and fixtures.                                        </span>│\n",
       "├─────────────────────────────────────────────────────────────────────────────────────────────────────────────────┤\n",
       "│<span style=\"color: #7f7f7f; text-decoration-color: #7f7f7f\"> Deliver customized fitness programs and lead group exercise sessions to assist clients in accomplishing their   </span>│\n",
       "│<span style=\"color: #7f7f7f; text-decoration-color: #7f7f7f\"> wellness objectives.                                                                                            </span>│\n",
       "├─────────────────────────────────────────────────────────────────────────────────────────────────────────────────┤\n",
       "│<span style=\"color: #7f7f7f; text-decoration-color: #7f7f7f\"> Identify and rectify automotive problems, conduct regular maintenance tasks, and confirm vehicles adhere to     </span>│\n",
       "│<span style=\"color: #7f7f7f; text-decoration-color: #7f7f7f\"> safety regulations.                                                                                             </span>│\n",
       "├─────────────────────────────────────────────────────────────────────────────────────────────────────────────────┤\n",
       "│<span style=\"color: #7f7f7f; text-decoration-color: #7f7f7f\"> Coordinate and execute creative campaigns, from inception to completion, working collaboratively with graphic   </span>│\n",
       "│<span style=\"color: #7f7f7f; text-decoration-color: #7f7f7f\"> designers and content creators.                                                                                 </span>│\n",
       "├─────────────────────────────────────────────────────────────────────────────────────────────────────────────────┤\n",
       "│<span style=\"color: #7f7f7f; text-decoration-color: #7f7f7f\"> Teach mathematics to students employing creative teaching methods to boost their comprehension and engagement   </span>│\n",
       "│<span style=\"color: #7f7f7f; text-decoration-color: #7f7f7f\"> in the subject.                                                                                                 </span>│\n",
       "├─────────────────────────────────────────────────────────────────────────────────────────────────────────────────┤\n",
       "│<span style=\"color: #7f7f7f; text-decoration-color: #7f7f7f\"> Boost sales by actively engaging with customers, comprehending their requirements, and offering appropriate     </span>│\n",
       "│<span style=\"color: #7f7f7f; text-decoration-color: #7f7f7f\"> product solutions.                                                                                              </span>│\n",
       "├─────────────────────────────────────────────────────────────────────────────────────────────────────────────────┤\n",
       "│<span style=\"color: #7f7f7f; text-decoration-color: #7f7f7f\"> Shape dough into consistent pretzel forms, ensuring uniform twists and even salting prior to baking.            </span>│\n",
       "└─────────────────────────────────────────────────────────────────────────────────────────────────────────────────┘\n",
       "</pre>\n"
      ],
      "text/plain": [
       "┏━━━━━━━━━━━━━━━━━━━━━━━━━━━━━━━━━━━━━━━━━━━━━━━━━━━━━━━━━━━━━━━━━━━━━━━━━━━━━━━━━━━━━━━━━━━━━━━━━━━━━━━━━━━━━━━━━┓\n",
       "┃\u001b[1;35m \u001b[0m\u001b[1;35manswer                                                                                                         \u001b[0m\u001b[1;35m \u001b[0m┃\n",
       "┃\u001b[1;35m \u001b[0m\u001b[1;35m.rewrite_text                                                                                                  \u001b[0m\u001b[1;35m \u001b[0m┃\n",
       "┡━━━━━━━━━━━━━━━━━━━━━━━━━━━━━━━━━━━━━━━━━━━━━━━━━━━━━━━━━━━━━━━━━━━━━━━━━━━━━━━━━━━━━━━━━━━━━━━━━━━━━━━━━━━━━━━━━┩\n",
       "│\u001b[2m \u001b[0m\u001b[2mManage daily operations, supervise employees, and guarantee customer satisfaction in a high-speed retail       \u001b[0m\u001b[2m \u001b[0m│\n",
       "│\u001b[2m \u001b[0m\u001b[2msetting.                                                                                                       \u001b[0m\u001b[2m \u001b[0m│\n",
       "├─────────────────────────────────────────────────────────────────────────────────────────────────────────────────┤\n",
       "│\u001b[2m \u001b[0m\u001b[2mProduce compelling and educational health and wellness blog content to increase website visits and engage      \u001b[0m\u001b[2m \u001b[0m│\n",
       "│\u001b[2m \u001b[0m\u001b[2maudience.                                                                                                      \u001b[0m\u001b[2m \u001b[0m│\n",
       "├─────────────────────────────────────────────────────────────────────────────────────────────────────────────────┤\n",
       "│\u001b[2m \u001b[0m\u001b[2mConduct statistical analysis on sales data to discern trends and deliver valuable insights to the marketing    \u001b[0m\u001b[2m \u001b[0m│\n",
       "│\u001b[2m \u001b[0m\u001b[2mteam.                                                                                                          \u001b[0m\u001b[2m \u001b[0m│\n",
       "├─────────────────────────────────────────────────────────────────────────────────────────────────────────────────┤\n",
       "│\u001b[2m \u001b[0m\u001b[2mCraft gourmet dishes in accordance with our restaurant's quality standards, and captivate our customers through\u001b[0m\u001b[2m \u001b[0m│\n",
       "│\u001b[2m \u001b[0m\u001b[2minnovative and unique flavor profiles.                                                                         \u001b[0m\u001b[2m \u001b[0m│\n",
       "├─────────────────────────────────────────────────────────────────────────────────────────────────────────────────┤\n",
       "│\u001b[2m \u001b[0m\u001b[2mCreate engaging visual designs for promotional materials such as brochures, banners, and digital advertisements\u001b[0m\u001b[2m \u001b[0m│\n",
       "│\u001b[2m \u001b[0m\u001b[2mutilizing Adobe Creative Suite.                                                                                \u001b[0m\u001b[2m \u001b[0m│\n",
       "├─────────────────────────────────────────────────────────────────────────────────────────────────────────────────┤\n",
       "│\u001b[2m \u001b[0m\u001b[2mDesign, validate, and upkeep efficient software applications enhancing business operations, utilizing Python   \u001b[0m\u001b[2m \u001b[0m│\n",
       "│\u001b[2m \u001b[0m\u001b[2mand Java languages.                                                                                            \u001b[0m\u001b[2m \u001b[0m│\n",
       "├─────────────────────────────────────────────────────────────────────────────────────────────────────────────────┤\n",
       "│\u001b[2m \u001b[0m\u001b[2mPrepare and serve artisan coffee beverages, oversee the coffee station operations, and deliver outstanding     \u001b[0m\u001b[2m \u001b[0m│\n",
       "│\u001b[2m \u001b[0m\u001b[2mcustomer service within a high-traffic café setting.                                                           \u001b[0m\u001b[2m \u001b[0m│\n",
       "├─────────────────────────────────────────────────────────────────────────────────────────────────────────────────┤\n",
       "│\u001b[2m \u001b[0m\u001b[2mOversee the recruitment process, conduct candidate interviews, and manage employee benefit programs to maintain\u001b[0m\u001b[2m \u001b[0m│\n",
       "│\u001b[2m \u001b[0m\u001b[2ma motivated workforce.                                                                                         \u001b[0m\u001b[2m \u001b[0m│\n",
       "├─────────────────────────────────────────────────────────────────────────────────────────────────────────────────┤\n",
       "│\u001b[2m \u001b[0m\u001b[2mSupport veterinarians through the preparation of animals for surgery, the administration of injections, and the\u001b[0m\u001b[2m \u001b[0m│\n",
       "│\u001b[2m \u001b[0m\u001b[2mdelivery of post-operative care.                                                                               \u001b[0m\u001b[2m \u001b[0m│\n",
       "├─────────────────────────────────────────────────────────────────────────────────────────────────────────────────┤\n",
       "│\u001b[2m \u001b[0m\u001b[2mDevelop aesthetically pleasing and functional outdoor environments for a range of clients, including homeowners\u001b[0m\u001b[2m \u001b[0m│\n",
       "│\u001b[2m \u001b[0m\u001b[2mand public entities. Projects may range from residential garden designs to large-scale public park layouts.    \u001b[0m\u001b[2m \u001b[0m│\n",
       "├─────────────────────────────────────────────────────────────────────────────────────────────────────────────────┤\n",
       "│\u001b[2m \u001b[0m\u001b[2mFormulate holistic marketing strategies in line with our company objectives, encompassing digital campaigns and\u001b[0m\u001b[2m \u001b[0m│\n",
       "│\u001b[2m \u001b[0m\u001b[2mbrand initiatives.                                                                                             \u001b[0m\u001b[2m \u001b[0m│\n",
       "├─────────────────────────────────────────────────────────────────────────────────────────────────────────────────┤\n",
       "│\u001b[2m \u001b[0m\u001b[2mInstall, maintain, and repair electrical systems, ensuring safety and effectiveness. Responsibilities include  \u001b[0m\u001b[2m \u001b[0m│\n",
       "│\u001b[2m \u001b[0m\u001b[2mworking with wiring, equipment, and fixtures.                                                                  \u001b[0m\u001b[2m \u001b[0m│\n",
       "├─────────────────────────────────────────────────────────────────────────────────────────────────────────────────┤\n",
       "│\u001b[2m \u001b[0m\u001b[2mRespond to customer inquiries and resolve issues through phone and email, guaranteeing prompt resolution and   \u001b[0m\u001b[2m \u001b[0m│\n",
       "│\u001b[2m \u001b[0m\u001b[2mhigh customer satisfaction.                                                                                    \u001b[0m\u001b[2m \u001b[0m│\n",
       "├─────────────────────────────────────────────────────────────────────────────────────────────────────────────────┤\n",
       "│\u001b[2m \u001b[0m\u001b[2mResponsible for the installation and repair of residential plumbing systems. This includes tasks such as       \u001b[0m\u001b[2m \u001b[0m│\n",
       "│\u001b[2m \u001b[0m\u001b[2mensuring the proper functionality of water heaters, pipes, and fixtures.                                       \u001b[0m\u001b[2m \u001b[0m│\n",
       "├─────────────────────────────────────────────────────────────────────────────────────────────────────────────────┤\n",
       "│\u001b[2m \u001b[0m\u001b[2mDeliver customized fitness programs and lead group exercise sessions to assist clients in accomplishing their  \u001b[0m\u001b[2m \u001b[0m│\n",
       "│\u001b[2m \u001b[0m\u001b[2mwellness objectives.                                                                                           \u001b[0m\u001b[2m \u001b[0m│\n",
       "├─────────────────────────────────────────────────────────────────────────────────────────────────────────────────┤\n",
       "│\u001b[2m \u001b[0m\u001b[2mIdentify and rectify automotive problems, conduct regular maintenance tasks, and confirm vehicles adhere to    \u001b[0m\u001b[2m \u001b[0m│\n",
       "│\u001b[2m \u001b[0m\u001b[2msafety regulations.                                                                                            \u001b[0m\u001b[2m \u001b[0m│\n",
       "├─────────────────────────────────────────────────────────────────────────────────────────────────────────────────┤\n",
       "│\u001b[2m \u001b[0m\u001b[2mCoordinate and execute creative campaigns, from inception to completion, working collaboratively with graphic  \u001b[0m\u001b[2m \u001b[0m│\n",
       "│\u001b[2m \u001b[0m\u001b[2mdesigners and content creators.                                                                                \u001b[0m\u001b[2m \u001b[0m│\n",
       "├─────────────────────────────────────────────────────────────────────────────────────────────────────────────────┤\n",
       "│\u001b[2m \u001b[0m\u001b[2mTeach mathematics to students employing creative teaching methods to boost their comprehension and engagement  \u001b[0m\u001b[2m \u001b[0m│\n",
       "│\u001b[2m \u001b[0m\u001b[2min the subject.                                                                                                \u001b[0m\u001b[2m \u001b[0m│\n",
       "├─────────────────────────────────────────────────────────────────────────────────────────────────────────────────┤\n",
       "│\u001b[2m \u001b[0m\u001b[2mBoost sales by actively engaging with customers, comprehending their requirements, and offering appropriate    \u001b[0m\u001b[2m \u001b[0m│\n",
       "│\u001b[2m \u001b[0m\u001b[2mproduct solutions.                                                                                             \u001b[0m\u001b[2m \u001b[0m│\n",
       "├─────────────────────────────────────────────────────────────────────────────────────────────────────────────────┤\n",
       "│\u001b[2m \u001b[0m\u001b[2mShape dough into consistent pretzel forms, ensuring uniform twists and even salting prior to baking.           \u001b[0m\u001b[2m \u001b[0m│\n",
       "└─────────────────────────────────────────────────────────────────────────────────────────────────────────────────┘\n"
      ]
     },
     "metadata": {},
     "output_type": "display_data"
    }
   ],
   "source": [
    "results.select(\"rewrite_text\").print(format=\"rich\")"
   ]
  },
  {
   "cell_type": "markdown",
   "id": "82902498-d6de-47b0-9aa8-13b8ae8050a1",
   "metadata": {},
   "source": [
    "## Posting content to the Coop\n",
    "We can post any objects to the Coop, including this notebook. Objects can be updated or modified at your Coop account, and shared with others or stored privately (default visibility is *unlisted*):"
   ]
  },
  {
   "cell_type": "code",
   "execution_count": 13,
   "id": "92712a74-6aff-4ee4-8558-1b4b99bd4a25",
   "metadata": {},
   "outputs": [
    {
     "data": {
      "text/plain": [
       "{'description': 'Example survey: Job posts analysis',\n",
       " 'object_type': 'survey',\n",
       " 'url': 'https://www.expectedparrot.com/content/c34eefcb-70dc-40db-adb5-d86a49044b58',\n",
       " 'uuid': 'c34eefcb-70dc-40db-adb5-d86a49044b58',\n",
       " 'version': '0.1.32.dev1',\n",
       " 'visibility': 'public'}"
      ]
     },
     "execution_count": 13,
     "metadata": {},
     "output_type": "execute_result"
    }
   ],
   "source": [
    "survey.push(description = \"Example survey: Job posts analysis\", visibility = \"public\")"
   ]
  },
  {
   "cell_type": "code",
   "execution_count": 14,
   "id": "0b4db295-5a20-4007-9561-a98f9a10cb01",
   "metadata": {},
   "outputs": [
    {
     "data": {
      "text/plain": [
       "{'description': 'Example results: Job posts analysis',\n",
       " 'object_type': 'results',\n",
       " 'url': 'https://www.expectedparrot.com/content/7f94a8fd-c6ae-4882-b294-89713f369f52',\n",
       " 'uuid': '7f94a8fd-c6ae-4882-b294-89713f369f52',\n",
       " 'version': '0.1.32.dev1',\n",
       " 'visibility': 'public'}"
      ]
     },
     "execution_count": 14,
     "metadata": {},
     "output_type": "execute_result"
    }
   ],
   "source": [
    "results.push(description = \"Example results: Job posts analysis\", visibility = \"public\")"
   ]
  },
  {
   "cell_type": "code",
   "execution_count": 15,
   "id": "7055bb88-fc71-413b-a068-957838dc99f3",
   "metadata": {},
   "outputs": [],
   "source": [
    "from edsl import Notebook\n",
    "\n",
    "n = Notebook(path = \"evaluating_job_posts.ipynb\")"
   ]
  },
  {
   "cell_type": "code",
   "execution_count": 16,
   "id": "39dec191-30c0-4aa9-9f90-9661a9457ba0",
   "metadata": {},
   "outputs": [
    {
     "data": {
      "text/plain": [
       "{'description': 'Example text analysis: evaluating job posts',\n",
       " 'object_type': 'notebook',\n",
       " 'url': 'https://www.expectedparrot.com/content/a30cda44-4238-4ea2-8d3c-96579665d0c9',\n",
       " 'uuid': 'a30cda44-4238-4ea2-8d3c-96579665d0c9',\n",
       " 'version': '0.1.32.dev1',\n",
       " 'visibility': 'public'}"
      ]
     },
     "execution_count": 16,
     "metadata": {},
     "output_type": "execute_result"
    }
   ],
   "source": [
    "n.push(description = \"Example text analysis: evaluating job posts\", visibility = \"public\")"
   ]
  },
  {
   "cell_type": "markdown",
   "id": "6b01c422-4561-4be7-81b0-749f47001c2c",
   "metadata": {},
   "source": [
    "To update an object at the Coop:"
   ]
  },
  {
   "cell_type": "code",
   "execution_count": 20,
   "id": "c751ad43-9fdd-4e7a-95d3-c2a49a8eaa34",
   "metadata": {},
   "outputs": [
    {
     "data": {
      "text/plain": [
       "{'status': 'success'}"
      ]
     },
     "execution_count": 20,
     "metadata": {},
     "output_type": "execute_result"
    }
   ],
   "source": [
    "n = Notebook(path = \"evaluating_job_posts.ipynb\") # resave the object\n",
    "\n",
    "n.patch(uuid = \"a30cda44-4238-4ea2-8d3c-96579665d0c9\", value = n)"
   ]
  }
 ],
 "metadata": {
  "kernelspec": {
   "display_name": "Python 3 (ipykernel)",
   "language": "python",
   "name": "python3"
  },
  "language_info": {
   "codemirror_mode": {
    "name": "ipython",
    "version": 3
   },
   "file_extension": ".py",
   "mimetype": "text/x-python",
   "name": "python",
   "nbconvert_exporter": "python",
   "pygments_lexer": "ipython3",
   "version": "3.11.7"
  }
 },
 "nbformat": 4,
 "nbformat_minor": 5
}
