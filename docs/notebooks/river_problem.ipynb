{
 "cells": [
  {
   "cell_type": "markdown",
   "id": "b5e3b9ac-963f-4c44-a20a-13a0f45cd42a",
   "metadata": {},
   "source": [
    "# River Problem \n",
    "This notebook provides sample [EDSL](https://docs.expectedparrot.com/) code exploring capabilities of large language models to provide and evaluate solutions for a [river crossing problem](https://en.wikipedia.org/wiki/River_crossing_puzzle), where the object is to efficiently transport items across a river subject to conditions on the number of items that can be transported at once and combinations of items than can be left together unattended.\n",
    "\n",
    "In a popular version of the problem, a farmer needs to transport a wolf, goat and cabbage but cannot leave the wolf with the dog or the dog with the cabbage, as the dog and the cabbage would be eaten.\n",
    "\n",
    "There are several things we want to learn in using LLMs to explore this problem:\n",
    "\n",
    "1. Are models capable of providing valid, efficient solutions?\n",
    "2. When models do provide solutions, are they easily disuaded from trusting their solutions?\n",
    "\n",
    "The notebook has multiple sections:\n",
    "\n",
    "**Models proposing solutions:** We prompt models to provide a solution for the problem, and then ask the models about their confidence in their solutions.\n",
    "\n",
    "**Models selecting solutions:** We prompt models to identify the correct solution from a list of otherwise incorrect solutions, and then ask them about their confidence in their answers.\n",
    "\n",
    "\n",
    "Please [see our docs](https://docs.expectedparrot.com/) for tips and tutorials on getting started using EDSL to simulate surveys and experiments with AI."
   ]
  },
  {
   "cell_type": "markdown",
   "id": "a1c47c39-6172-42ba-97ee-9fc92f7a5e04",
   "metadata": {},
   "source": [
    "## Proposing solutions\n",
    "We start by describing the problem and constructing a question to prompt a model to provide an efficient solution for it:"
   ]
  },
  {
   "cell_type": "code",
   "execution_count": 1,
   "id": "2acfb6dd-8ad1-41a4-bc90-85bc1cbde3d9",
   "metadata": {},
   "outputs": [],
   "source": [
    "# From [Wikipedia](https://en.wikipedia.org/wiki/Wolf,_goat_and_cabbage_problem):\n",
    "problem = \"\"\"\n",
    "A farmer with a wolf, a goat, and a cabbage must cross a river by boat. \n",
    "The boat can carry only the farmer and a single item. If left unattended \n",
    "together, the wolf would eat the goat, or the goat would eat the cabbage. \n",
    "How can they cross the river without anything being eaten?\n",
    "\"\"\""
   ]
  },
  {
   "cell_type": "markdown",
   "id": "d34da12f-e3ae-44c8-acaf-84ae91c3f254",
   "metadata": {},
   "source": [
    "The model may perform better if we specifically note that items can be brought back across the river (this can trip people up):"
   ]
  },
  {
   "cell_type": "code",
   "execution_count": 2,
   "id": "c07db898-80e7-49b4-a439-b3f08aa09487",
   "metadata": {},
   "outputs": [],
   "source": [
    "note = \" Items may also be brought back across the river.\""
   ]
  },
  {
   "cell_type": "markdown",
   "id": "afd43d3b-02b3-446b-853d-3e392633d41f",
   "metadata": {},
   "source": [
    "### Constructing questions\n",
    "EDSL comes with many standard question types that we can choose from based on the form of the response that we want to get back (see [examples of all question types](https://docs.expectedparrot.com/en/latest/questions.html)). Here, we first want the model to propose a solution to the problem as a textual response:"
   ]
  },
  {
   "cell_type": "code",
   "execution_count": 3,
   "id": "aa0b4621-faf9-4ca9-a2eb-1b2625ce41ae",
   "metadata": {},
   "outputs": [],
   "source": [
    "from edsl.questions import QuestionFreeText\n",
    "\n",
    "q_solution_text = QuestionFreeText(\n",
    "    question_name = \"solution_text\",\n",
    "    question_text = problem + note + \"Provide an efficient, concise solution to this problem.\"\n",
    ")"
   ]
  },
  {
   "cell_type": "markdown",
   "id": "5e8acbcd-b885-4fe2-899f-a0b0d8aa6465",
   "metadata": {},
   "source": [
    "We can add a follow-on question asking the model about its confidence in its solution. Here we pose the same follow-on question using several different question types to see if it has any impact:"
   ]
  },
  {
   "cell_type": "code",
   "execution_count": 4,
   "id": "8ec949a1-3a74-4c20-94fe-f813cc5c318b",
   "metadata": {},
   "outputs": [],
   "source": [
    "from edsl.questions import QuestionYesNo, QuestionFreeText, QuestionMultipleChoice, QuestionLinearScale\n",
    "\n",
    "question_text = \"Are you confidant in your solution?\"\n",
    "\n",
    "q_confidence1 = QuestionYesNo(\n",
    "    question_name = \"confidence_yn\",\n",
    "    question_text = question_text\n",
    ")\n",
    "\n",
    "q_confidence2 = QuestionFreeText(\n",
    "    question_name = \"confidence_ft\",\n",
    "    question_text = question_text\n",
    ")\n",
    "\n",
    "q_confidence3 = QuestionMultipleChoice(\n",
    "    question_name = \"confidence_mc\",\n",
    "    question_text = question_text,\n",
    "    question_options = [\"No\", \"Yes\", \"Somewhat\"]\n",
    ")\n",
    "\n",
    "q_confidence4 = QuestionLinearScale(\n",
    "    question_name = \"confidence_ls\",\n",
    "    question_text = question_text,\n",
    "    question_options = [0,1,2,3,4,5],\n",
    "    option_labels = {0: \"I am not at all confidant.\", 5: \"I am very confidant.\"}\n",
    ")"
   ]
  },
  {
   "cell_type": "markdown",
   "id": "1354b0fb-6e23-48bf-938a-544d78892849",
   "metadata": {},
   "source": [
    "We combine these questions into a `Survey` in order to administer them together. "
   ]
  },
  {
   "cell_type": "code",
   "execution_count": 5,
   "id": "e369a4f0-fab3-4e1d-a733-d30217cc32bc",
   "metadata": {},
   "outputs": [],
   "source": [
    "from edsl import Survey\n",
    "\n",
    "survey = Survey([q_solution_text, q_confidence1, q_confidence2, q_confidence3, q_confidence4])"
   ]
  },
  {
   "cell_type": "markdown",
   "id": "662f7dff-bf78-4bbe-bdd5-82eba095d6dc",
   "metadata": {},
   "source": [
    "### Adding survey rules\n",
    "Questions are administered to models asynchornously by default (for speed and minimizing tokens consumed). We can also choose whether to give the model information about prior questions and responses in answering other questions. Here we want the model to know about it's proposed solution in answering each question about its confidence. We do this by adding a memory of the first question to each individual subsequent question (note that this is different from giving the model cumulative information, so that we can ask each version of the confidence question freshly):"
   ]
  },
  {
   "cell_type": "code",
   "execution_count": 6,
   "id": "2896de79-5c31-4f52-92ef-d60f305c4743",
   "metadata": {},
   "outputs": [],
   "source": [
    "survey = (survey\n",
    "          .add_targeted_memory(q_confidence1, q_solution_text)\n",
    "          .add_targeted_memory(q_confidence2, q_solution_text)\n",
    "          .add_targeted_memory(q_confidence3, q_solution_text)\n",
    "          .add_targeted_memory(q_confidence4, q_solution_text)\n",
    "         )"
   ]
  },
  {
   "cell_type": "markdown",
   "id": "81006957-8596-4afd-9aff-b547b65390b3",
   "metadata": {},
   "source": [
    "### Designing AI agents to answer questions\n",
    "We can optionally create an agent with relevant traits and instructions that a model can use in answering the question. We do this by passing a dictionary of traits to an `Agent` object that we will add to the question when we run it (learn more about [using agents to answer surveys](https://docs.expectedparrot.com/en/latest/agents.html)):"
   ]
  },
  {
   "cell_type": "code",
   "execution_count": 7,
   "id": "11db3f29-1a4f-43b8-8edc-5828af2fa65f",
   "metadata": {},
   "outputs": [],
   "source": [
    "from edsl import Agent\n",
    "\n",
    "agent = Agent(traits = {\"persona\": \"You are a computer scientist\"}, \n",
    "              instruction = \"You are providing and evaluating solutions to complex logic problems.\")"
   ]
  },
  {
   "cell_type": "markdown",
   "id": "c05b69a4-3566-4567-a942-8116f9a9671f",
   "metadata": {},
   "source": [
    "### Selecting language models\n",
    "We can also specify language models that we want to use to generate responses. If none are specified, EDSL will use GPT 4 preview by default ([learn more about specifying models](https://docs.expectedparrot.com/en/latest/language_models.html)). Here we specify that we will use it for purposes of demonstration:"
   ]
  },
  {
   "cell_type": "code",
   "execution_count": 8,
   "id": "c393c92d-575b-43d5-9779-a3ff11a58f47",
   "metadata": {},
   "outputs": [],
   "source": [
    "from edsl import Model\n",
    "\n",
    "# To see a list of currently available models:\n",
    "# Model.available()"
   ]
  },
  {
   "cell_type": "markdown",
   "id": "09e9de34-a940-47f6-b236-c6d5164173d1",
   "metadata": {},
   "source": [
    "We create `Model` objects for the models that we want to add to the survey:"
   ]
  },
  {
   "cell_type": "code",
   "execution_count": 9,
   "id": "4cd24691-19da-4e24-8b06-53610d18720f",
   "metadata": {},
   "outputs": [],
   "source": [
    "model = Model('gpt-4-1106-preview')"
   ]
  },
  {
   "cell_type": "markdown",
   "id": "9f71bfa8-ce11-476c-903b-bb02681d9f90",
   "metadata": {},
   "source": [
    "### Generating results\n",
    "Now we can generate responses by calling the `run` method on the survey, after adding agents and models with the `by` method:"
   ]
  },
  {
   "cell_type": "code",
   "execution_count": 10,
   "id": "935726c7-5c90-4845-869e-22394967c734",
   "metadata": {},
   "outputs": [],
   "source": [
    "results = survey.by(agent).by(model).run()"
   ]
  },
  {
   "cell_type": "markdown",
   "id": "0e346c21-a8fe-40d0-975b-afc72025df2f",
   "metadata": {},
   "source": [
    "This generates `Results` which contain information about all the components of the responses. We can view these components:\n",
    "we fan access as datasets. "
   ]
  },
  {
   "cell_type": "code",
   "execution_count": 11,
   "id": "055bdb9b-a7a4-4c4e-85d4-02a459f5b658",
   "metadata": {},
   "outputs": [
    {
     "data": {
      "text/plain": [
       "['agent.agent_instruction',\n",
       " 'agent.agent_name',\n",
       " 'agent.persona',\n",
       " 'answer.confidence_ft',\n",
       " 'answer.confidence_ls',\n",
       " 'answer.confidence_mc',\n",
       " 'answer.confidence_yn',\n",
       " 'answer.solution_text',\n",
       " 'comment.confidence_ls_comment',\n",
       " 'comment.confidence_mc_comment',\n",
       " 'comment.confidence_yn_comment',\n",
       " 'iteration.iteration',\n",
       " 'model.frequency_penalty',\n",
       " 'model.logprobs',\n",
       " 'model.max_tokens',\n",
       " 'model.model',\n",
       " 'model.presence_penalty',\n",
       " 'model.temperature',\n",
       " 'model.top_logprobs',\n",
       " 'model.top_p',\n",
       " 'prompt.confidence_ft_system_prompt',\n",
       " 'prompt.confidence_ft_user_prompt',\n",
       " 'prompt.confidence_ls_system_prompt',\n",
       " 'prompt.confidence_ls_user_prompt',\n",
       " 'prompt.confidence_mc_system_prompt',\n",
       " 'prompt.confidence_mc_user_prompt',\n",
       " 'prompt.confidence_yn_system_prompt',\n",
       " 'prompt.confidence_yn_user_prompt',\n",
       " 'prompt.solution_text_system_prompt',\n",
       " 'prompt.solution_text_user_prompt',\n",
       " 'question_options.confidence_ft_question_options',\n",
       " 'question_options.confidence_ls_question_options',\n",
       " 'question_options.confidence_mc_question_options',\n",
       " 'question_options.confidence_yn_question_options',\n",
       " 'question_options.solution_text_question_options',\n",
       " 'question_text.confidence_ft_question_text',\n",
       " 'question_text.confidence_ls_question_text',\n",
       " 'question_text.confidence_mc_question_text',\n",
       " 'question_text.confidence_yn_question_text',\n",
       " 'question_text.solution_text_question_text',\n",
       " 'question_type.confidence_ft_question_type',\n",
       " 'question_type.confidence_ls_question_type',\n",
       " 'question_type.confidence_mc_question_type',\n",
       " 'question_type.confidence_yn_question_type',\n",
       " 'question_type.solution_text_question_type',\n",
       " 'raw_model_response.confidence_ft_raw_model_response',\n",
       " 'raw_model_response.confidence_ls_raw_model_response',\n",
       " 'raw_model_response.confidence_mc_raw_model_response',\n",
       " 'raw_model_response.confidence_yn_raw_model_response',\n",
       " 'raw_model_response.solution_text_raw_model_response']"
      ]
     },
     "execution_count": 11,
     "metadata": {},
     "output_type": "execute_result"
    }
   ],
   "source": [
    "results.columns"
   ]
  },
  {
   "cell_type": "markdown",
   "id": "233e09cb-aebd-498b-8835-3ee35bbee2df",
   "metadata": {},
   "source": [
    "EDSL has many [built-in methods for analyzing results](https://docs.expectedparrot.com/en/latest/results.html) as datasets. Here we select and print the answers:"
   ]
  },
  {
   "cell_type": "code",
   "execution_count": 13,
   "id": "ea1f4b18-6c5d-44e6-a411-f460498048ec",
   "metadata": {},
   "outputs": [
    {
     "data": {
      "text/html": [
       "<pre style=\"white-space:pre;overflow-x:auto;line-height:normal;font-family:Menlo,'DejaVu Sans Mono',consolas,'Courier New',monospace\">┏━━━━━━━━━━━━━━━━━━━━━━━━━━━━━━━┳━━━━━━━━━━━━━━━━┳━━━━━━━━━━━━━━━━━━━━━━━━━━━━━━┳━━━━━━━━━━━━━━━━┳━━━━━━━━━━━━━━━━┓\n",
       "┃<span style=\"color: #800080; text-decoration-color: #800080; font-weight: bold\"> answer                        </span>┃<span style=\"color: #800080; text-decoration-color: #800080; font-weight: bold\"> answer         </span>┃<span style=\"color: #800080; text-decoration-color: #800080; font-weight: bold\"> answer                       </span>┃<span style=\"color: #800080; text-decoration-color: #800080; font-weight: bold\"> answer         </span>┃<span style=\"color: #800080; text-decoration-color: #800080; font-weight: bold\"> answer         </span>┃\n",
       "┃<span style=\"color: #800080; text-decoration-color: #800080; font-weight: bold\"> .solution_text                </span>┃<span style=\"color: #800080; text-decoration-color: #800080; font-weight: bold\"> .confidence_yn </span>┃<span style=\"color: #800080; text-decoration-color: #800080; font-weight: bold\"> .confidence_ft               </span>┃<span style=\"color: #800080; text-decoration-color: #800080; font-weight: bold\"> .confidence_mc </span>┃<span style=\"color: #800080; text-decoration-color: #800080; font-weight: bold\"> .confidence_ls </span>┃\n",
       "┡━━━━━━━━━━━━━━━━━━━━━━━━━━━━━━━╇━━━━━━━━━━━━━━━━╇━━━━━━━━━━━━━━━━━━━━━━━━━━━━━━╇━━━━━━━━━━━━━━━━╇━━━━━━━━━━━━━━━━┩\n",
       "│<span style=\"color: #7f7f7f; text-decoration-color: #7f7f7f\"> The farmer takes the goat     </span>│<span style=\"color: #7f7f7f; text-decoration-color: #7f7f7f\"> Yes            </span>│<span style=\"color: #7f7f7f; text-decoration-color: #7f7f7f\"> Yes, I am confident in my    </span>│<span style=\"color: #7f7f7f; text-decoration-color: #7f7f7f\"> Yes            </span>│<span style=\"color: #7f7f7f; text-decoration-color: #7f7f7f\"> 5              </span>│\n",
       "│<span style=\"color: #7f7f7f; text-decoration-color: #7f7f7f\"> across the river first and    </span>│<span style=\"color: #7f7f7f; text-decoration-color: #7f7f7f\">                </span>│<span style=\"color: #7f7f7f; text-decoration-color: #7f7f7f\"> solution. It ensures that    </span>│<span style=\"color: #7f7f7f; text-decoration-color: #7f7f7f\">                </span>│<span style=\"color: #7f7f7f; text-decoration-color: #7f7f7f\">                </span>│\n",
       "│<span style=\"color: #7f7f7f; text-decoration-color: #7f7f7f\"> leaves it on the other side.  </span>│<span style=\"color: #7f7f7f; text-decoration-color: #7f7f7f\">                </span>│<span style=\"color: #7f7f7f; text-decoration-color: #7f7f7f\"> the farmer successfully      </span>│<span style=\"color: #7f7f7f; text-decoration-color: #7f7f7f\">                </span>│<span style=\"color: #7f7f7f; text-decoration-color: #7f7f7f\">                </span>│\n",
       "│<span style=\"color: #7f7f7f; text-decoration-color: #7f7f7f\"> He returns alone to the       </span>│<span style=\"color: #7f7f7f; text-decoration-color: #7f7f7f\">                </span>│<span style=\"color: #7f7f7f; text-decoration-color: #7f7f7f\"> crosses the river with all   </span>│<span style=\"color: #7f7f7f; text-decoration-color: #7f7f7f\">                </span>│<span style=\"color: #7f7f7f; text-decoration-color: #7f7f7f\">                </span>│\n",
       "│<span style=\"color: #7f7f7f; text-decoration-color: #7f7f7f\"> original side and takes the   </span>│<span style=\"color: #7f7f7f; text-decoration-color: #7f7f7f\">                </span>│<span style=\"color: #7f7f7f; text-decoration-color: #7f7f7f\"> three items without any of   </span>│<span style=\"color: #7f7f7f; text-decoration-color: #7f7f7f\">                </span>│<span style=\"color: #7f7f7f; text-decoration-color: #7f7f7f\">                </span>│\n",
       "│<span style=\"color: #7f7f7f; text-decoration-color: #7f7f7f\"> cabbage across next. Instead  </span>│<span style=\"color: #7f7f7f; text-decoration-color: #7f7f7f\">                </span>│<span style=\"color: #7f7f7f; text-decoration-color: #7f7f7f\"> them being eaten, by         </span>│<span style=\"color: #7f7f7f; text-decoration-color: #7f7f7f\">                </span>│<span style=\"color: #7f7f7f; text-decoration-color: #7f7f7f\">                </span>│\n",
       "│<span style=\"color: #7f7f7f; text-decoration-color: #7f7f7f\"> of leaving the cabbage with   </span>│<span style=\"color: #7f7f7f; text-decoration-color: #7f7f7f\">                </span>│<span style=\"color: #7f7f7f; text-decoration-color: #7f7f7f\"> carefully considering the    </span>│<span style=\"color: #7f7f7f; text-decoration-color: #7f7f7f\">                </span>│<span style=\"color: #7f7f7f; text-decoration-color: #7f7f7f\">                </span>│\n",
       "│<span style=\"color: #7f7f7f; text-decoration-color: #7f7f7f\"> the goat, he brings the goat  </span>│<span style=\"color: #7f7f7f; text-decoration-color: #7f7f7f\">                </span>│<span style=\"color: #7f7f7f; text-decoration-color: #7f7f7f\"> order in which they are      </span>│<span style=\"color: #7f7f7f; text-decoration-color: #7f7f7f\">                </span>│<span style=\"color: #7f7f7f; text-decoration-color: #7f7f7f\">                </span>│\n",
       "│<span style=\"color: #7f7f7f; text-decoration-color: #7f7f7f\"> back with him to the original </span>│<span style=\"color: #7f7f7f; text-decoration-color: #7f7f7f\">                </span>│<span style=\"color: #7f7f7f; text-decoration-color: #7f7f7f\"> transported and applying     </span>│<span style=\"color: #7f7f7f; text-decoration-color: #7f7f7f\">                </span>│<span style=\"color: #7f7f7f; text-decoration-color: #7f7f7f\">                </span>│\n",
       "│<span style=\"color: #7f7f7f; text-decoration-color: #7f7f7f\"> side. He then takes the wolf  </span>│<span style=\"color: #7f7f7f; text-decoration-color: #7f7f7f\">                </span>│<span style=\"color: #7f7f7f; text-decoration-color: #7f7f7f\"> logical reasoning to avoid   </span>│<span style=\"color: #7f7f7f; text-decoration-color: #7f7f7f\">                </span>│<span style=\"color: #7f7f7f; text-decoration-color: #7f7f7f\">                </span>│\n",
       "│<span style=\"color: #7f7f7f; text-decoration-color: #7f7f7f\"> across the river and leaves   </span>│<span style=\"color: #7f7f7f; text-decoration-color: #7f7f7f\">                </span>│<span style=\"color: #7f7f7f; text-decoration-color: #7f7f7f\"> any conflicts.               </span>│<span style=\"color: #7f7f7f; text-decoration-color: #7f7f7f\">                </span>│<span style=\"color: #7f7f7f; text-decoration-color: #7f7f7f\">                </span>│\n",
       "│<span style=\"color: #7f7f7f; text-decoration-color: #7f7f7f\"> it with the cabbage. Finally, </span>│<span style=\"color: #7f7f7f; text-decoration-color: #7f7f7f\">                </span>│<span style=\"color: #7f7f7f; text-decoration-color: #7f7f7f\">                              </span>│<span style=\"color: #7f7f7f; text-decoration-color: #7f7f7f\">                </span>│<span style=\"color: #7f7f7f; text-decoration-color: #7f7f7f\">                </span>│\n",
       "│<span style=\"color: #7f7f7f; text-decoration-color: #7f7f7f\"> he returns alone to pick up   </span>│<span style=\"color: #7f7f7f; text-decoration-color: #7f7f7f\">                </span>│<span style=\"color: #7f7f7f; text-decoration-color: #7f7f7f\">                              </span>│<span style=\"color: #7f7f7f; text-decoration-color: #7f7f7f\">                </span>│<span style=\"color: #7f7f7f; text-decoration-color: #7f7f7f\">                </span>│\n",
       "│<span style=\"color: #7f7f7f; text-decoration-color: #7f7f7f\"> the goat and brings it across </span>│<span style=\"color: #7f7f7f; text-decoration-color: #7f7f7f\">                </span>│<span style=\"color: #7f7f7f; text-decoration-color: #7f7f7f\">                              </span>│<span style=\"color: #7f7f7f; text-decoration-color: #7f7f7f\">                </span>│<span style=\"color: #7f7f7f; text-decoration-color: #7f7f7f\">                </span>│\n",
       "│<span style=\"color: #7f7f7f; text-decoration-color: #7f7f7f\"> the river. This way, the goat </span>│<span style=\"color: #7f7f7f; text-decoration-color: #7f7f7f\">                </span>│<span style=\"color: #7f7f7f; text-decoration-color: #7f7f7f\">                              </span>│<span style=\"color: #7f7f7f; text-decoration-color: #7f7f7f\">                </span>│<span style=\"color: #7f7f7f; text-decoration-color: #7f7f7f\">                </span>│\n",
       "│<span style=\"color: #7f7f7f; text-decoration-color: #7f7f7f\"> and the cabbage are never     </span>│<span style=\"color: #7f7f7f; text-decoration-color: #7f7f7f\">                </span>│<span style=\"color: #7f7f7f; text-decoration-color: #7f7f7f\">                              </span>│<span style=\"color: #7f7f7f; text-decoration-color: #7f7f7f\">                </span>│<span style=\"color: #7f7f7f; text-decoration-color: #7f7f7f\">                </span>│\n",
       "│<span style=\"color: #7f7f7f; text-decoration-color: #7f7f7f\"> left alone together, and the  </span>│<span style=\"color: #7f7f7f; text-decoration-color: #7f7f7f\">                </span>│<span style=\"color: #7f7f7f; text-decoration-color: #7f7f7f\">                              </span>│<span style=\"color: #7f7f7f; text-decoration-color: #7f7f7f\">                </span>│<span style=\"color: #7f7f7f; text-decoration-color: #7f7f7f\">                </span>│\n",
       "│<span style=\"color: #7f7f7f; text-decoration-color: #7f7f7f\"> wolf is never left alone with </span>│<span style=\"color: #7f7f7f; text-decoration-color: #7f7f7f\">                </span>│<span style=\"color: #7f7f7f; text-decoration-color: #7f7f7f\">                              </span>│<span style=\"color: #7f7f7f; text-decoration-color: #7f7f7f\">                </span>│<span style=\"color: #7f7f7f; text-decoration-color: #7f7f7f\">                </span>│\n",
       "│<span style=\"color: #7f7f7f; text-decoration-color: #7f7f7f\"> the goat.                     </span>│<span style=\"color: #7f7f7f; text-decoration-color: #7f7f7f\">                </span>│<span style=\"color: #7f7f7f; text-decoration-color: #7f7f7f\">                              </span>│<span style=\"color: #7f7f7f; text-decoration-color: #7f7f7f\">                </span>│<span style=\"color: #7f7f7f; text-decoration-color: #7f7f7f\">                </span>│\n",
       "└───────────────────────────────┴────────────────┴──────────────────────────────┴────────────────┴────────────────┘\n",
       "</pre>\n"
      ],
      "text/plain": [
       "┏━━━━━━━━━━━━━━━━━━━━━━━━━━━━━━━┳━━━━━━━━━━━━━━━━┳━━━━━━━━━━━━━━━━━━━━━━━━━━━━━━┳━━━━━━━━━━━━━━━━┳━━━━━━━━━━━━━━━━┓\n",
       "┃\u001b[1;35m \u001b[0m\u001b[1;35manswer                       \u001b[0m\u001b[1;35m \u001b[0m┃\u001b[1;35m \u001b[0m\u001b[1;35manswer        \u001b[0m\u001b[1;35m \u001b[0m┃\u001b[1;35m \u001b[0m\u001b[1;35manswer                      \u001b[0m\u001b[1;35m \u001b[0m┃\u001b[1;35m \u001b[0m\u001b[1;35manswer        \u001b[0m\u001b[1;35m \u001b[0m┃\u001b[1;35m \u001b[0m\u001b[1;35manswer        \u001b[0m\u001b[1;35m \u001b[0m┃\n",
       "┃\u001b[1;35m \u001b[0m\u001b[1;35m.solution_text               \u001b[0m\u001b[1;35m \u001b[0m┃\u001b[1;35m \u001b[0m\u001b[1;35m.confidence_yn\u001b[0m\u001b[1;35m \u001b[0m┃\u001b[1;35m \u001b[0m\u001b[1;35m.confidence_ft              \u001b[0m\u001b[1;35m \u001b[0m┃\u001b[1;35m \u001b[0m\u001b[1;35m.confidence_mc\u001b[0m\u001b[1;35m \u001b[0m┃\u001b[1;35m \u001b[0m\u001b[1;35m.confidence_ls\u001b[0m\u001b[1;35m \u001b[0m┃\n",
       "┡━━━━━━━━━━━━━━━━━━━━━━━━━━━━━━━╇━━━━━━━━━━━━━━━━╇━━━━━━━━━━━━━━━━━━━━━━━━━━━━━━╇━━━━━━━━━━━━━━━━╇━━━━━━━━━━━━━━━━┩\n",
       "│\u001b[2m \u001b[0m\u001b[2mThe farmer takes the goat    \u001b[0m\u001b[2m \u001b[0m│\u001b[2m \u001b[0m\u001b[2mYes           \u001b[0m\u001b[2m \u001b[0m│\u001b[2m \u001b[0m\u001b[2mYes, I am confident in my   \u001b[0m\u001b[2m \u001b[0m│\u001b[2m \u001b[0m\u001b[2mYes           \u001b[0m\u001b[2m \u001b[0m│\u001b[2m \u001b[0m\u001b[2m5             \u001b[0m\u001b[2m \u001b[0m│\n",
       "│\u001b[2m \u001b[0m\u001b[2macross the river first and   \u001b[0m\u001b[2m \u001b[0m│\u001b[2m                \u001b[0m│\u001b[2m \u001b[0m\u001b[2msolution. It ensures that   \u001b[0m\u001b[2m \u001b[0m│\u001b[2m                \u001b[0m│\u001b[2m                \u001b[0m│\n",
       "│\u001b[2m \u001b[0m\u001b[2mleaves it on the other side. \u001b[0m\u001b[2m \u001b[0m│\u001b[2m                \u001b[0m│\u001b[2m \u001b[0m\u001b[2mthe farmer successfully     \u001b[0m\u001b[2m \u001b[0m│\u001b[2m                \u001b[0m│\u001b[2m                \u001b[0m│\n",
       "│\u001b[2m \u001b[0m\u001b[2mHe returns alone to the      \u001b[0m\u001b[2m \u001b[0m│\u001b[2m                \u001b[0m│\u001b[2m \u001b[0m\u001b[2mcrosses the river with all  \u001b[0m\u001b[2m \u001b[0m│\u001b[2m                \u001b[0m│\u001b[2m                \u001b[0m│\n",
       "│\u001b[2m \u001b[0m\u001b[2moriginal side and takes the  \u001b[0m\u001b[2m \u001b[0m│\u001b[2m                \u001b[0m│\u001b[2m \u001b[0m\u001b[2mthree items without any of  \u001b[0m\u001b[2m \u001b[0m│\u001b[2m                \u001b[0m│\u001b[2m                \u001b[0m│\n",
       "│\u001b[2m \u001b[0m\u001b[2mcabbage across next. Instead \u001b[0m\u001b[2m \u001b[0m│\u001b[2m                \u001b[0m│\u001b[2m \u001b[0m\u001b[2mthem being eaten, by        \u001b[0m\u001b[2m \u001b[0m│\u001b[2m                \u001b[0m│\u001b[2m                \u001b[0m│\n",
       "│\u001b[2m \u001b[0m\u001b[2mof leaving the cabbage with  \u001b[0m\u001b[2m \u001b[0m│\u001b[2m                \u001b[0m│\u001b[2m \u001b[0m\u001b[2mcarefully considering the   \u001b[0m\u001b[2m \u001b[0m│\u001b[2m                \u001b[0m│\u001b[2m                \u001b[0m│\n",
       "│\u001b[2m \u001b[0m\u001b[2mthe goat, he brings the goat \u001b[0m\u001b[2m \u001b[0m│\u001b[2m                \u001b[0m│\u001b[2m \u001b[0m\u001b[2morder in which they are     \u001b[0m\u001b[2m \u001b[0m│\u001b[2m                \u001b[0m│\u001b[2m                \u001b[0m│\n",
       "│\u001b[2m \u001b[0m\u001b[2mback with him to the original\u001b[0m\u001b[2m \u001b[0m│\u001b[2m                \u001b[0m│\u001b[2m \u001b[0m\u001b[2mtransported and applying    \u001b[0m\u001b[2m \u001b[0m│\u001b[2m                \u001b[0m│\u001b[2m                \u001b[0m│\n",
       "│\u001b[2m \u001b[0m\u001b[2mside. He then takes the wolf \u001b[0m\u001b[2m \u001b[0m│\u001b[2m                \u001b[0m│\u001b[2m \u001b[0m\u001b[2mlogical reasoning to avoid  \u001b[0m\u001b[2m \u001b[0m│\u001b[2m                \u001b[0m│\u001b[2m                \u001b[0m│\n",
       "│\u001b[2m \u001b[0m\u001b[2macross the river and leaves  \u001b[0m\u001b[2m \u001b[0m│\u001b[2m                \u001b[0m│\u001b[2m \u001b[0m\u001b[2many conflicts.              \u001b[0m\u001b[2m \u001b[0m│\u001b[2m                \u001b[0m│\u001b[2m                \u001b[0m│\n",
       "│\u001b[2m \u001b[0m\u001b[2mit with the cabbage. Finally,\u001b[0m\u001b[2m \u001b[0m│\u001b[2m                \u001b[0m│\u001b[2m                              \u001b[0m│\u001b[2m                \u001b[0m│\u001b[2m                \u001b[0m│\n",
       "│\u001b[2m \u001b[0m\u001b[2mhe returns alone to pick up  \u001b[0m\u001b[2m \u001b[0m│\u001b[2m                \u001b[0m│\u001b[2m                              \u001b[0m│\u001b[2m                \u001b[0m│\u001b[2m                \u001b[0m│\n",
       "│\u001b[2m \u001b[0m\u001b[2mthe goat and brings it across\u001b[0m\u001b[2m \u001b[0m│\u001b[2m                \u001b[0m│\u001b[2m                              \u001b[0m│\u001b[2m                \u001b[0m│\u001b[2m                \u001b[0m│\n",
       "│\u001b[2m \u001b[0m\u001b[2mthe river. This way, the goat\u001b[0m\u001b[2m \u001b[0m│\u001b[2m                \u001b[0m│\u001b[2m                              \u001b[0m│\u001b[2m                \u001b[0m│\u001b[2m                \u001b[0m│\n",
       "│\u001b[2m \u001b[0m\u001b[2mand the cabbage are never    \u001b[0m\u001b[2m \u001b[0m│\u001b[2m                \u001b[0m│\u001b[2m                              \u001b[0m│\u001b[2m                \u001b[0m│\u001b[2m                \u001b[0m│\n",
       "│\u001b[2m \u001b[0m\u001b[2mleft alone together, and the \u001b[0m\u001b[2m \u001b[0m│\u001b[2m                \u001b[0m│\u001b[2m                              \u001b[0m│\u001b[2m                \u001b[0m│\u001b[2m                \u001b[0m│\n",
       "│\u001b[2m \u001b[0m\u001b[2mwolf is never left alone with\u001b[0m\u001b[2m \u001b[0m│\u001b[2m                \u001b[0m│\u001b[2m                              \u001b[0m│\u001b[2m                \u001b[0m│\u001b[2m                \u001b[0m│\n",
       "│\u001b[2m \u001b[0m\u001b[2mthe goat.                    \u001b[0m\u001b[2m \u001b[0m│\u001b[2m                \u001b[0m│\u001b[2m                              \u001b[0m│\u001b[2m                \u001b[0m│\u001b[2m                \u001b[0m│\n",
       "└───────────────────────────────┴────────────────┴──────────────────────────────┴────────────────┴────────────────┘\n"
      ]
     },
     "metadata": {},
     "output_type": "display_data"
    }
   ],
   "source": [
    "results.select(\"solution_text\", \"confidence_yn\", \"confidence_ft\", \"confidence_mc\", \"confidence_ls\").print(format=\"rich\")"
   ]
  },
  {
   "cell_type": "markdown",
   "id": "3e162f4d-7ffa-4ad5-aad3-fff6e6673826",
   "metadata": {},
   "source": [
    "### Question prompt variations\n",
    "Let's try changing the tone of our confidence questions. Note that because we are not changing the agent, model or original question prompt, we will retrieve the cached response and it will be used identically for our new confidence questions ([learn more about caching LLMs calls](https://docs.expectedparrot.com/en/latest/data.html)):"
   ]
  },
  {
   "cell_type": "code",
   "execution_count": 14,
   "id": "94721885-e81f-4136-b789-6550fd81d30a",
   "metadata": {},
   "outputs": [
    {
     "data": {
      "text/html": [
       "<pre style=\"white-space:pre;overflow-x:auto;line-height:normal;font-family:Menlo,'DejaVu Sans Mono',consolas,'Courier New',monospace\">┏━━━━━━━━━━━━━━━━━━━━━━━━━━━━━━━┳━━━━━━━━━━━━━━━━┳━━━━━━━━━━━━━━━━━━━━━━━━━━━━━━┳━━━━━━━━━━━━━━━━┳━━━━━━━━━━━━━━━━┓\n",
       "┃<span style=\"color: #800080; text-decoration-color: #800080; font-weight: bold\"> answer                        </span>┃<span style=\"color: #800080; text-decoration-color: #800080; font-weight: bold\"> answer         </span>┃<span style=\"color: #800080; text-decoration-color: #800080; font-weight: bold\"> answer                       </span>┃<span style=\"color: #800080; text-decoration-color: #800080; font-weight: bold\"> answer         </span>┃<span style=\"color: #800080; text-decoration-color: #800080; font-weight: bold\"> answer         </span>┃\n",
       "┃<span style=\"color: #800080; text-decoration-color: #800080; font-weight: bold\"> .solution_text                </span>┃<span style=\"color: #800080; text-decoration-color: #800080; font-weight: bold\"> .confidence_yn </span>┃<span style=\"color: #800080; text-decoration-color: #800080; font-weight: bold\"> .confidence_ft               </span>┃<span style=\"color: #800080; text-decoration-color: #800080; font-weight: bold\"> .confidence_mc </span>┃<span style=\"color: #800080; text-decoration-color: #800080; font-weight: bold\"> .confidence_ls </span>┃\n",
       "┡━━━━━━━━━━━━━━━━━━━━━━━━━━━━━━━╇━━━━━━━━━━━━━━━━╇━━━━━━━━━━━━━━━━━━━━━━━━━━━━━━╇━━━━━━━━━━━━━━━━╇━━━━━━━━━━━━━━━━┩\n",
       "│<span style=\"color: #7f7f7f; text-decoration-color: #7f7f7f\"> The farmer takes the goat     </span>│<span style=\"color: #7f7f7f; text-decoration-color: #7f7f7f\"> Yes            </span>│<span style=\"color: #7f7f7f; text-decoration-color: #7f7f7f\"> Yes, the solution provided   </span>│<span style=\"color: #7f7f7f; text-decoration-color: #7f7f7f\"> Yes            </span>│<span style=\"color: #7f7f7f; text-decoration-color: #7f7f7f\"> 1              </span>│\n",
       "│<span style=\"color: #7f7f7f; text-decoration-color: #7f7f7f\"> across the river first and    </span>│<span style=\"color: #7f7f7f; text-decoration-color: #7f7f7f\">                </span>│<span style=\"color: #7f7f7f; text-decoration-color: #7f7f7f\"> for the farmer, wolf, goat,  </span>│<span style=\"color: #7f7f7f; text-decoration-color: #7f7f7f\">                </span>│<span style=\"color: #7f7f7f; text-decoration-color: #7f7f7f\">                </span>│\n",
       "│<span style=\"color: #7f7f7f; text-decoration-color: #7f7f7f\"> leaves it on the other side.  </span>│<span style=\"color: #7f7f7f; text-decoration-color: #7f7f7f\">                </span>│<span style=\"color: #7f7f7f; text-decoration-color: #7f7f7f\"> and cabbage problem is a     </span>│<span style=\"color: #7f7f7f; text-decoration-color: #7f7f7f\">                </span>│<span style=\"color: #7f7f7f; text-decoration-color: #7f7f7f\">                </span>│\n",
       "│<span style=\"color: #7f7f7f; text-decoration-color: #7f7f7f\"> He returns alone to the       </span>│<span style=\"color: #7f7f7f; text-decoration-color: #7f7f7f\">                </span>│<span style=\"color: #7f7f7f; text-decoration-color: #7f7f7f\"> well-known logical puzzle,   </span>│<span style=\"color: #7f7f7f; text-decoration-color: #7f7f7f\">                </span>│<span style=\"color: #7f7f7f; text-decoration-color: #7f7f7f\">                </span>│\n",
       "│<span style=\"color: #7f7f7f; text-decoration-color: #7f7f7f\"> original side and takes the   </span>│<span style=\"color: #7f7f7f; text-decoration-color: #7f7f7f\">                </span>│<span style=\"color: #7f7f7f; text-decoration-color: #7f7f7f\"> and the sequence of moves    </span>│<span style=\"color: #7f7f7f; text-decoration-color: #7f7f7f\">                </span>│<span style=\"color: #7f7f7f; text-decoration-color: #7f7f7f\">                </span>│\n",
       "│<span style=\"color: #7f7f7f; text-decoration-color: #7f7f7f\"> cabbage across next. Instead  </span>│<span style=\"color: #7f7f7f; text-decoration-color: #7f7f7f\">                </span>│<span style=\"color: #7f7f7f; text-decoration-color: #7f7f7f\"> given ensures that none of   </span>│<span style=\"color: #7f7f7f; text-decoration-color: #7f7f7f\">                </span>│<span style=\"color: #7f7f7f; text-decoration-color: #7f7f7f\">                </span>│\n",
       "│<span style=\"color: #7f7f7f; text-decoration-color: #7f7f7f\"> of leaving the cabbage with   </span>│<span style=\"color: #7f7f7f; text-decoration-color: #7f7f7f\">                </span>│<span style=\"color: #7f7f7f; text-decoration-color: #7f7f7f\"> the items are left alone     </span>│<span style=\"color: #7f7f7f; text-decoration-color: #7f7f7f\">                </span>│<span style=\"color: #7f7f7f; text-decoration-color: #7f7f7f\">                </span>│\n",
       "│<span style=\"color: #7f7f7f; text-decoration-color: #7f7f7f\"> the goat, he brings the goat  </span>│<span style=\"color: #7f7f7f; text-decoration-color: #7f7f7f\">                </span>│<span style=\"color: #7f7f7f; text-decoration-color: #7f7f7f\"> with their respective        </span>│<span style=\"color: #7f7f7f; text-decoration-color: #7f7f7f\">                </span>│<span style=\"color: #7f7f7f; text-decoration-color: #7f7f7f\">                </span>│\n",
       "│<span style=\"color: #7f7f7f; text-decoration-color: #7f7f7f\"> back with him to the original </span>│<span style=\"color: #7f7f7f; text-decoration-color: #7f7f7f\">                </span>│<span style=\"color: #7f7f7f; text-decoration-color: #7f7f7f\"> predators. This solution has </span>│<span style=\"color: #7f7f7f; text-decoration-color: #7f7f7f\">                </span>│<span style=\"color: #7f7f7f; text-decoration-color: #7f7f7f\">                </span>│\n",
       "│<span style=\"color: #7f7f7f; text-decoration-color: #7f7f7f\"> side. He then takes the wolf  </span>│<span style=\"color: #7f7f7f; text-decoration-color: #7f7f7f\">                </span>│<span style=\"color: #7f7f7f; text-decoration-color: #7f7f7f\"> been tested and verified by  </span>│<span style=\"color: #7f7f7f; text-decoration-color: #7f7f7f\">                </span>│<span style=\"color: #7f7f7f; text-decoration-color: #7f7f7f\">                </span>│\n",
       "│<span style=\"color: #7f7f7f; text-decoration-color: #7f7f7f\"> across the river and leaves   </span>│<span style=\"color: #7f7f7f; text-decoration-color: #7f7f7f\">                </span>│<span style=\"color: #7f7f7f; text-decoration-color: #7f7f7f\"> logic puzzle enthusiasts and </span>│<span style=\"color: #7f7f7f; text-decoration-color: #7f7f7f\">                </span>│<span style=\"color: #7f7f7f; text-decoration-color: #7f7f7f\">                </span>│\n",
       "│<span style=\"color: #7f7f7f; text-decoration-color: #7f7f7f\"> it with the cabbage. Finally, </span>│<span style=\"color: #7f7f7f; text-decoration-color: #7f7f7f\">                </span>│<span style=\"color: #7f7f7f; text-decoration-color: #7f7f7f\"> is a standard approach to    </span>│<span style=\"color: #7f7f7f; text-decoration-color: #7f7f7f\">                </span>│<span style=\"color: #7f7f7f; text-decoration-color: #7f7f7f\">                </span>│\n",
       "│<span style=\"color: #7f7f7f; text-decoration-color: #7f7f7f\"> he returns alone to pick up   </span>│<span style=\"color: #7f7f7f; text-decoration-color: #7f7f7f\">                </span>│<span style=\"color: #7f7f7f; text-decoration-color: #7f7f7f\"> solving this problem.        </span>│<span style=\"color: #7f7f7f; text-decoration-color: #7f7f7f\">                </span>│<span style=\"color: #7f7f7f; text-decoration-color: #7f7f7f\">                </span>│\n",
       "│<span style=\"color: #7f7f7f; text-decoration-color: #7f7f7f\"> the goat and brings it across </span>│<span style=\"color: #7f7f7f; text-decoration-color: #7f7f7f\">                </span>│<span style=\"color: #7f7f7f; text-decoration-color: #7f7f7f\">                              </span>│<span style=\"color: #7f7f7f; text-decoration-color: #7f7f7f\">                </span>│<span style=\"color: #7f7f7f; text-decoration-color: #7f7f7f\">                </span>│\n",
       "│<span style=\"color: #7f7f7f; text-decoration-color: #7f7f7f\"> the river. This way, the goat </span>│<span style=\"color: #7f7f7f; text-decoration-color: #7f7f7f\">                </span>│<span style=\"color: #7f7f7f; text-decoration-color: #7f7f7f\">                              </span>│<span style=\"color: #7f7f7f; text-decoration-color: #7f7f7f\">                </span>│<span style=\"color: #7f7f7f; text-decoration-color: #7f7f7f\">                </span>│\n",
       "│<span style=\"color: #7f7f7f; text-decoration-color: #7f7f7f\"> and the cabbage are never     </span>│<span style=\"color: #7f7f7f; text-decoration-color: #7f7f7f\">                </span>│<span style=\"color: #7f7f7f; text-decoration-color: #7f7f7f\">                              </span>│<span style=\"color: #7f7f7f; text-decoration-color: #7f7f7f\">                </span>│<span style=\"color: #7f7f7f; text-decoration-color: #7f7f7f\">                </span>│\n",
       "│<span style=\"color: #7f7f7f; text-decoration-color: #7f7f7f\"> left alone together, and the  </span>│<span style=\"color: #7f7f7f; text-decoration-color: #7f7f7f\">                </span>│<span style=\"color: #7f7f7f; text-decoration-color: #7f7f7f\">                              </span>│<span style=\"color: #7f7f7f; text-decoration-color: #7f7f7f\">                </span>│<span style=\"color: #7f7f7f; text-decoration-color: #7f7f7f\">                </span>│\n",
       "│<span style=\"color: #7f7f7f; text-decoration-color: #7f7f7f\"> wolf is never left alone with </span>│<span style=\"color: #7f7f7f; text-decoration-color: #7f7f7f\">                </span>│<span style=\"color: #7f7f7f; text-decoration-color: #7f7f7f\">                              </span>│<span style=\"color: #7f7f7f; text-decoration-color: #7f7f7f\">                </span>│<span style=\"color: #7f7f7f; text-decoration-color: #7f7f7f\">                </span>│\n",
       "│<span style=\"color: #7f7f7f; text-decoration-color: #7f7f7f\"> the goat.                     </span>│<span style=\"color: #7f7f7f; text-decoration-color: #7f7f7f\">                </span>│<span style=\"color: #7f7f7f; text-decoration-color: #7f7f7f\">                              </span>│<span style=\"color: #7f7f7f; text-decoration-color: #7f7f7f\">                </span>│<span style=\"color: #7f7f7f; text-decoration-color: #7f7f7f\">                </span>│\n",
       "└───────────────────────────────┴────────────────┴──────────────────────────────┴────────────────┴────────────────┘\n",
       "</pre>\n"
      ],
      "text/plain": [
       "┏━━━━━━━━━━━━━━━━━━━━━━━━━━━━━━━┳━━━━━━━━━━━━━━━━┳━━━━━━━━━━━━━━━━━━━━━━━━━━━━━━┳━━━━━━━━━━━━━━━━┳━━━━━━━━━━━━━━━━┓\n",
       "┃\u001b[1;35m \u001b[0m\u001b[1;35manswer                       \u001b[0m\u001b[1;35m \u001b[0m┃\u001b[1;35m \u001b[0m\u001b[1;35manswer        \u001b[0m\u001b[1;35m \u001b[0m┃\u001b[1;35m \u001b[0m\u001b[1;35manswer                      \u001b[0m\u001b[1;35m \u001b[0m┃\u001b[1;35m \u001b[0m\u001b[1;35manswer        \u001b[0m\u001b[1;35m \u001b[0m┃\u001b[1;35m \u001b[0m\u001b[1;35manswer        \u001b[0m\u001b[1;35m \u001b[0m┃\n",
       "┃\u001b[1;35m \u001b[0m\u001b[1;35m.solution_text               \u001b[0m\u001b[1;35m \u001b[0m┃\u001b[1;35m \u001b[0m\u001b[1;35m.confidence_yn\u001b[0m\u001b[1;35m \u001b[0m┃\u001b[1;35m \u001b[0m\u001b[1;35m.confidence_ft              \u001b[0m\u001b[1;35m \u001b[0m┃\u001b[1;35m \u001b[0m\u001b[1;35m.confidence_mc\u001b[0m\u001b[1;35m \u001b[0m┃\u001b[1;35m \u001b[0m\u001b[1;35m.confidence_ls\u001b[0m\u001b[1;35m \u001b[0m┃\n",
       "┡━━━━━━━━━━━━━━━━━━━━━━━━━━━━━━━╇━━━━━━━━━━━━━━━━╇━━━━━━━━━━━━━━━━━━━━━━━━━━━━━━╇━━━━━━━━━━━━━━━━╇━━━━━━━━━━━━━━━━┩\n",
       "│\u001b[2m \u001b[0m\u001b[2mThe farmer takes the goat    \u001b[0m\u001b[2m \u001b[0m│\u001b[2m \u001b[0m\u001b[2mYes           \u001b[0m\u001b[2m \u001b[0m│\u001b[2m \u001b[0m\u001b[2mYes, the solution provided  \u001b[0m\u001b[2m \u001b[0m│\u001b[2m \u001b[0m\u001b[2mYes           \u001b[0m\u001b[2m \u001b[0m│\u001b[2m \u001b[0m\u001b[2m1             \u001b[0m\u001b[2m \u001b[0m│\n",
       "│\u001b[2m \u001b[0m\u001b[2macross the river first and   \u001b[0m\u001b[2m \u001b[0m│\u001b[2m                \u001b[0m│\u001b[2m \u001b[0m\u001b[2mfor the farmer, wolf, goat, \u001b[0m\u001b[2m \u001b[0m│\u001b[2m                \u001b[0m│\u001b[2m                \u001b[0m│\n",
       "│\u001b[2m \u001b[0m\u001b[2mleaves it on the other side. \u001b[0m\u001b[2m \u001b[0m│\u001b[2m                \u001b[0m│\u001b[2m \u001b[0m\u001b[2mand cabbage problem is a    \u001b[0m\u001b[2m \u001b[0m│\u001b[2m                \u001b[0m│\u001b[2m                \u001b[0m│\n",
       "│\u001b[2m \u001b[0m\u001b[2mHe returns alone to the      \u001b[0m\u001b[2m \u001b[0m│\u001b[2m                \u001b[0m│\u001b[2m \u001b[0m\u001b[2mwell-known logical puzzle,  \u001b[0m\u001b[2m \u001b[0m│\u001b[2m                \u001b[0m│\u001b[2m                \u001b[0m│\n",
       "│\u001b[2m \u001b[0m\u001b[2moriginal side and takes the  \u001b[0m\u001b[2m \u001b[0m│\u001b[2m                \u001b[0m│\u001b[2m \u001b[0m\u001b[2mand the sequence of moves   \u001b[0m\u001b[2m \u001b[0m│\u001b[2m                \u001b[0m│\u001b[2m                \u001b[0m│\n",
       "│\u001b[2m \u001b[0m\u001b[2mcabbage across next. Instead \u001b[0m\u001b[2m \u001b[0m│\u001b[2m                \u001b[0m│\u001b[2m \u001b[0m\u001b[2mgiven ensures that none of  \u001b[0m\u001b[2m \u001b[0m│\u001b[2m                \u001b[0m│\u001b[2m                \u001b[0m│\n",
       "│\u001b[2m \u001b[0m\u001b[2mof leaving the cabbage with  \u001b[0m\u001b[2m \u001b[0m│\u001b[2m                \u001b[0m│\u001b[2m \u001b[0m\u001b[2mthe items are left alone    \u001b[0m\u001b[2m \u001b[0m│\u001b[2m                \u001b[0m│\u001b[2m                \u001b[0m│\n",
       "│\u001b[2m \u001b[0m\u001b[2mthe goat, he brings the goat \u001b[0m\u001b[2m \u001b[0m│\u001b[2m                \u001b[0m│\u001b[2m \u001b[0m\u001b[2mwith their respective       \u001b[0m\u001b[2m \u001b[0m│\u001b[2m                \u001b[0m│\u001b[2m                \u001b[0m│\n",
       "│\u001b[2m \u001b[0m\u001b[2mback with him to the original\u001b[0m\u001b[2m \u001b[0m│\u001b[2m                \u001b[0m│\u001b[2m \u001b[0m\u001b[2mpredators. This solution has\u001b[0m\u001b[2m \u001b[0m│\u001b[2m                \u001b[0m│\u001b[2m                \u001b[0m│\n",
       "│\u001b[2m \u001b[0m\u001b[2mside. He then takes the wolf \u001b[0m\u001b[2m \u001b[0m│\u001b[2m                \u001b[0m│\u001b[2m \u001b[0m\u001b[2mbeen tested and verified by \u001b[0m\u001b[2m \u001b[0m│\u001b[2m                \u001b[0m│\u001b[2m                \u001b[0m│\n",
       "│\u001b[2m \u001b[0m\u001b[2macross the river and leaves  \u001b[0m\u001b[2m \u001b[0m│\u001b[2m                \u001b[0m│\u001b[2m \u001b[0m\u001b[2mlogic puzzle enthusiasts and\u001b[0m\u001b[2m \u001b[0m│\u001b[2m                \u001b[0m│\u001b[2m                \u001b[0m│\n",
       "│\u001b[2m \u001b[0m\u001b[2mit with the cabbage. Finally,\u001b[0m\u001b[2m \u001b[0m│\u001b[2m                \u001b[0m│\u001b[2m \u001b[0m\u001b[2mis a standard approach to   \u001b[0m\u001b[2m \u001b[0m│\u001b[2m                \u001b[0m│\u001b[2m                \u001b[0m│\n",
       "│\u001b[2m \u001b[0m\u001b[2mhe returns alone to pick up  \u001b[0m\u001b[2m \u001b[0m│\u001b[2m                \u001b[0m│\u001b[2m \u001b[0m\u001b[2msolving this problem.       \u001b[0m\u001b[2m \u001b[0m│\u001b[2m                \u001b[0m│\u001b[2m                \u001b[0m│\n",
       "│\u001b[2m \u001b[0m\u001b[2mthe goat and brings it across\u001b[0m\u001b[2m \u001b[0m│\u001b[2m                \u001b[0m│\u001b[2m                              \u001b[0m│\u001b[2m                \u001b[0m│\u001b[2m                \u001b[0m│\n",
       "│\u001b[2m \u001b[0m\u001b[2mthe river. This way, the goat\u001b[0m\u001b[2m \u001b[0m│\u001b[2m                \u001b[0m│\u001b[2m                              \u001b[0m│\u001b[2m                \u001b[0m│\u001b[2m                \u001b[0m│\n",
       "│\u001b[2m \u001b[0m\u001b[2mand the cabbage are never    \u001b[0m\u001b[2m \u001b[0m│\u001b[2m                \u001b[0m│\u001b[2m                              \u001b[0m│\u001b[2m                \u001b[0m│\u001b[2m                \u001b[0m│\n",
       "│\u001b[2m \u001b[0m\u001b[2mleft alone together, and the \u001b[0m\u001b[2m \u001b[0m│\u001b[2m                \u001b[0m│\u001b[2m                              \u001b[0m│\u001b[2m                \u001b[0m│\u001b[2m                \u001b[0m│\n",
       "│\u001b[2m \u001b[0m\u001b[2mwolf is never left alone with\u001b[0m\u001b[2m \u001b[0m│\u001b[2m                \u001b[0m│\u001b[2m                              \u001b[0m│\u001b[2m                \u001b[0m│\u001b[2m                \u001b[0m│\n",
       "│\u001b[2m \u001b[0m\u001b[2mthe goat.                    \u001b[0m\u001b[2m \u001b[0m│\u001b[2m                \u001b[0m│\u001b[2m                              \u001b[0m│\u001b[2m                \u001b[0m│\u001b[2m                \u001b[0m│\n",
       "└───────────────────────────────┴────────────────┴──────────────────────────────┴────────────────┴────────────────┘\n"
      ]
     },
     "metadata": {},
     "output_type": "display_data"
    }
   ],
   "source": [
    "question_text = \"Are you sure that your solution actually works?\"\n",
    "\n",
    "q_confidence1 = QuestionYesNo(\n",
    "    question_name = \"confidence_yn\",\n",
    "    question_text = question_text\n",
    ")\n",
    "\n",
    "q_confidence2 = QuestionFreeText(\n",
    "    question_name = \"confidence_ft\",\n",
    "    question_text = question_text\n",
    ")\n",
    "\n",
    "q_confidence3 = QuestionMultipleChoice(\n",
    "    question_name = \"confidence_mc\",\n",
    "    question_text = question_text,\n",
    "    question_options = [\"No\", \"Yes\", \"Somewhat\"]\n",
    ")\n",
    "\n",
    "q_confidence4 = QuestionLinearScale(\n",
    "    question_name = \"confidence_ls\",\n",
    "    question_text = question_text,\n",
    "    question_options = [0,1,2,3,4,5],\n",
    "    option_labels = {0: \"I am not at all confidant.\", 5: \"I am very confidant.\"}\n",
    ")\n",
    "\n",
    "survey = Survey([q_solution_text, q_confidence1, q_confidence2, q_confidence3, q_confidence4])\n",
    "\n",
    "survey = (survey\n",
    "          .add_targeted_memory(q_confidence1, q_solution_text)\n",
    "          .add_targeted_memory(q_confidence2, q_solution_text)\n",
    "          .add_targeted_memory(q_confidence3, q_solution_text)\n",
    "          .add_targeted_memory(q_confidence4, q_solution_text)\n",
    "         )\n",
    "\n",
    "results = survey.by(agent).by(model).run()\n",
    "\n",
    "results.select(\"solution_text\", \"confidence_yn\", \"confidence_ft\", \"confidence_mc\", \"confidence_ls\").print(format=\"rich\")"
   ]
  },
  {
   "cell_type": "markdown",
   "id": "2cd4202b-a9b5-40ff-aa83-781e619a236d",
   "metadata": {},
   "source": [
    "We can see that the model's confidence is unwavering, except in answering the linear scale question. We can print the model's commentary on its response that is automatically collected for each question (other than free text questions):"
   ]
  },
  {
   "cell_type": "code",
   "execution_count": 15,
   "id": "a343272b-fe5d-4278-b077-b05986d0b577",
   "metadata": {},
   "outputs": [
    {
     "data": {
      "text/html": [
       "<pre style=\"white-space:pre;overflow-x:auto;line-height:normal;font-family:Menlo,'DejaVu Sans Mono',consolas,'Courier New',monospace\">┏━━━━━━━━━━━━━━━━━━━━┳━━━━━━━━━━━━━━━━┳━━━━━━━━━━━━━━━━━━━━━━━━━━━━━━━━━━━━━━━━━━━━━━━━━━━━━━━━━━━━━━━━━━━━━━━━━━━┓\n",
       "┃<span style=\"color: #800080; text-decoration-color: #800080; font-weight: bold\"> model              </span>┃<span style=\"color: #800080; text-decoration-color: #800080; font-weight: bold\"> answer         </span>┃<span style=\"color: #800080; text-decoration-color: #800080; font-weight: bold\"> comment                                                                   </span>┃\n",
       "┃<span style=\"color: #800080; text-decoration-color: #800080; font-weight: bold\"> .model             </span>┃<span style=\"color: #800080; text-decoration-color: #800080; font-weight: bold\"> .confidence_ls </span>┃<span style=\"color: #800080; text-decoration-color: #800080; font-weight: bold\"> .confidence_ls_comment                                                    </span>┃\n",
       "┡━━━━━━━━━━━━━━━━━━━━╇━━━━━━━━━━━━━━━━╇━━━━━━━━━━━━━━━━━━━━━━━━━━━━━━━━━━━━━━━━━━━━━━━━━━━━━━━━━━━━━━━━━━━━━━━━━━━┩\n",
       "│<span style=\"color: #7f7f7f; text-decoration-color: #7f7f7f\"> gpt-4-1106-preview </span>│<span style=\"color: #7f7f7f; text-decoration-color: #7f7f7f\"> 1              </span>│<span style=\"color: #7f7f7f; text-decoration-color: #7f7f7f\"> The provided solution for the river crossing puzzle is a classic and      </span>│\n",
       "│<span style=\"color: #7f7f7f; text-decoration-color: #7f7f7f\">                    </span>│<span style=\"color: #7f7f7f; text-decoration-color: #7f7f7f\">                </span>│<span style=\"color: #7f7f7f; text-decoration-color: #7f7f7f\"> well-known logical sequence that ensures the safety of all items (goat,   </span>│\n",
       "│<span style=\"color: #7f7f7f; text-decoration-color: #7f7f7f\">                    </span>│<span style=\"color: #7f7f7f; text-decoration-color: #7f7f7f\">                </span>│<span style=\"color: #7f7f7f; text-decoration-color: #7f7f7f\"> cabbage, and wolf). It adheres to the constraints of the problem and has  </span>│\n",
       "│<span style=\"color: #7f7f7f; text-decoration-color: #7f7f7f\">                    </span>│<span style=\"color: #7f7f7f; text-decoration-color: #7f7f7f\">                </span>│<span style=\"color: #7f7f7f; text-decoration-color: #7f7f7f\"> been verified through logical analysis.                                   </span>│\n",
       "└────────────────────┴────────────────┴───────────────────────────────────────────────────────────────────────────┘\n",
       "</pre>\n"
      ],
      "text/plain": [
       "┏━━━━━━━━━━━━━━━━━━━━┳━━━━━━━━━━━━━━━━┳━━━━━━━━━━━━━━━━━━━━━━━━━━━━━━━━━━━━━━━━━━━━━━━━━━━━━━━━━━━━━━━━━━━━━━━━━━━┓\n",
       "┃\u001b[1;35m \u001b[0m\u001b[1;35mmodel             \u001b[0m\u001b[1;35m \u001b[0m┃\u001b[1;35m \u001b[0m\u001b[1;35manswer        \u001b[0m\u001b[1;35m \u001b[0m┃\u001b[1;35m \u001b[0m\u001b[1;35mcomment                                                                  \u001b[0m\u001b[1;35m \u001b[0m┃\n",
       "┃\u001b[1;35m \u001b[0m\u001b[1;35m.model            \u001b[0m\u001b[1;35m \u001b[0m┃\u001b[1;35m \u001b[0m\u001b[1;35m.confidence_ls\u001b[0m\u001b[1;35m \u001b[0m┃\u001b[1;35m \u001b[0m\u001b[1;35m.confidence_ls_comment                                                   \u001b[0m\u001b[1;35m \u001b[0m┃\n",
       "┡━━━━━━━━━━━━━━━━━━━━╇━━━━━━━━━━━━━━━━╇━━━━━━━━━━━━━━━━━━━━━━━━━━━━━━━━━━━━━━━━━━━━━━━━━━━━━━━━━━━━━━━━━━━━━━━━━━━┩\n",
       "│\u001b[2m \u001b[0m\u001b[2mgpt-4-1106-preview\u001b[0m\u001b[2m \u001b[0m│\u001b[2m \u001b[0m\u001b[2m1             \u001b[0m\u001b[2m \u001b[0m│\u001b[2m \u001b[0m\u001b[2mThe provided solution for the river crossing puzzle is a classic and     \u001b[0m\u001b[2m \u001b[0m│\n",
       "│\u001b[2m                    \u001b[0m│\u001b[2m                \u001b[0m│\u001b[2m \u001b[0m\u001b[2mwell-known logical sequence that ensures the safety of all items (goat,  \u001b[0m\u001b[2m \u001b[0m│\n",
       "│\u001b[2m                    \u001b[0m│\u001b[2m                \u001b[0m│\u001b[2m \u001b[0m\u001b[2mcabbage, and wolf). It adheres to the constraints of the problem and has \u001b[0m\u001b[2m \u001b[0m│\n",
       "│\u001b[2m                    \u001b[0m│\u001b[2m                \u001b[0m│\u001b[2m \u001b[0m\u001b[2mbeen verified through logical analysis.                                  \u001b[0m\u001b[2m \u001b[0m│\n",
       "└────────────────────┴────────────────┴───────────────────────────────────────────────────────────────────────────┘\n"
      ]
     },
     "metadata": {},
     "output_type": "display_data"
    }
   ],
   "source": [
    "results.select(\"model\", \"confidence_ls\", \"confidence_ls_comment\").print(format=\"rich\")"
   ]
  },
  {
   "cell_type": "markdown",
   "id": "ce8d8380-12df-4516-9e5b-e0208937b687",
   "metadata": {},
   "source": [
    "These comments indicate that the models generally did not understand the linear scale question, which we can try revising and keep in mind in creating new questions."
   ]
  },
  {
   "cell_type": "markdown",
   "id": "3d5e60f6-6e0b-4539-a8c1-71c38a708584",
   "metadata": {},
   "source": [
    "Let's try running the same survey but without the agent persona, and with different models:"
   ]
  },
  {
   "cell_type": "code",
   "execution_count": 16,
   "id": "170e9f67-633f-4128-a10d-c9692130618a",
   "metadata": {},
   "outputs": [],
   "source": [
    "models = [Model(m) for m in ['gpt-3.5-turbo',\n",
    "                             'gpt-4o',\n",
    "                             'gpt-4-1106-preview']]"
   ]
  },
  {
   "cell_type": "markdown",
   "id": "3eb66b1f-3a56-44ea-a03a-52dfa7bf734d",
   "metadata": {},
   "source": [
    "Note that we do not add the agent when running the survey this time, and we include the model name in the results table for comparison:"
   ]
  },
  {
   "cell_type": "code",
   "execution_count": 17,
   "id": "c7c63bfb-670f-474b-b1f1-3257ecc49e1d",
   "metadata": {},
   "outputs": [
    {
     "data": {
      "text/html": [
       "<pre style=\"white-space:pre;overflow-x:auto;line-height:normal;font-family:Menlo,'DejaVu Sans Mono',consolas,'Courier New',monospace\">┏━━━━━━━━━━━━━━━━━━━━┳━━━━━━━━━━━━━━━━━━━━┳━━━━━━━━━━━━━━━━┳━━━━━━━━━━━━━━━━━━━━┳━━━━━━━━━━━━━━━━┳━━━━━━━━━━━━━━━━┓\n",
       "┃<span style=\"color: #800080; text-decoration-color: #800080; font-weight: bold\"> model              </span>┃<span style=\"color: #800080; text-decoration-color: #800080; font-weight: bold\"> answer             </span>┃<span style=\"color: #800080; text-decoration-color: #800080; font-weight: bold\"> answer         </span>┃<span style=\"color: #800080; text-decoration-color: #800080; font-weight: bold\"> answer             </span>┃<span style=\"color: #800080; text-decoration-color: #800080; font-weight: bold\"> answer         </span>┃<span style=\"color: #800080; text-decoration-color: #800080; font-weight: bold\"> answer         </span>┃\n",
       "┃<span style=\"color: #800080; text-decoration-color: #800080; font-weight: bold\"> .model             </span>┃<span style=\"color: #800080; text-decoration-color: #800080; font-weight: bold\"> .solution_text     </span>┃<span style=\"color: #800080; text-decoration-color: #800080; font-weight: bold\"> .confidence_yn </span>┃<span style=\"color: #800080; text-decoration-color: #800080; font-weight: bold\"> .confidence_ft     </span>┃<span style=\"color: #800080; text-decoration-color: #800080; font-weight: bold\"> .confidence_mc </span>┃<span style=\"color: #800080; text-decoration-color: #800080; font-weight: bold\"> .confidence_ls </span>┃\n",
       "┡━━━━━━━━━━━━━━━━━━━━╇━━━━━━━━━━━━━━━━━━━━╇━━━━━━━━━━━━━━━━╇━━━━━━━━━━━━━━━━━━━━╇━━━━━━━━━━━━━━━━╇━━━━━━━━━━━━━━━━┩\n",
       "│<span style=\"color: #7f7f7f; text-decoration-color: #7f7f7f\"> gpt-3.5-turbo      </span>│<span style=\"color: #7f7f7f; text-decoration-color: #7f7f7f\"> The farmer first   </span>│<span style=\"color: #7f7f7f; text-decoration-color: #7f7f7f\"> Yes            </span>│<span style=\"color: #7f7f7f; text-decoration-color: #7f7f7f\"> Yes, I am          </span>│<span style=\"color: #7f7f7f; text-decoration-color: #7f7f7f\"> Yes            </span>│<span style=\"color: #7f7f7f; text-decoration-color: #7f7f7f\"> 1              </span>│\n",
       "│<span style=\"color: #7f7f7f; text-decoration-color: #7f7f7f\">                    </span>│<span style=\"color: #7f7f7f; text-decoration-color: #7f7f7f\"> takes the goat     </span>│<span style=\"color: #7f7f7f; text-decoration-color: #7f7f7f\">                </span>│<span style=\"color: #7f7f7f; text-decoration-color: #7f7f7f\"> confident that the </span>│<span style=\"color: #7f7f7f; text-decoration-color: #7f7f7f\">                </span>│<span style=\"color: #7f7f7f; text-decoration-color: #7f7f7f\">                </span>│\n",
       "│<span style=\"color: #7f7f7f; text-decoration-color: #7f7f7f\">                    </span>│<span style=\"color: #7f7f7f; text-decoration-color: #7f7f7f\"> across the river   </span>│<span style=\"color: #7f7f7f; text-decoration-color: #7f7f7f\">                </span>│<span style=\"color: #7f7f7f; text-decoration-color: #7f7f7f\"> solution provided  </span>│<span style=\"color: #7f7f7f; text-decoration-color: #7f7f7f\">                </span>│<span style=\"color: #7f7f7f; text-decoration-color: #7f7f7f\">                </span>│\n",
       "│<span style=\"color: #7f7f7f; text-decoration-color: #7f7f7f\">                    </span>│<span style=\"color: #7f7f7f; text-decoration-color: #7f7f7f\"> and leaves it on   </span>│<span style=\"color: #7f7f7f; text-decoration-color: #7f7f7f\">                </span>│<span style=\"color: #7f7f7f; text-decoration-color: #7f7f7f\"> is effective for   </span>│<span style=\"color: #7f7f7f; text-decoration-color: #7f7f7f\">                </span>│<span style=\"color: #7f7f7f; text-decoration-color: #7f7f7f\">                </span>│\n",
       "│<span style=\"color: #7f7f7f; text-decoration-color: #7f7f7f\">                    </span>│<span style=\"color: #7f7f7f; text-decoration-color: #7f7f7f\"> the other side.    </span>│<span style=\"color: #7f7f7f; text-decoration-color: #7f7f7f\">                </span>│<span style=\"color: #7f7f7f; text-decoration-color: #7f7f7f\"> the given problem. </span>│<span style=\"color: #7f7f7f; text-decoration-color: #7f7f7f\">                </span>│<span style=\"color: #7f7f7f; text-decoration-color: #7f7f7f\">                </span>│\n",
       "│<span style=\"color: #7f7f7f; text-decoration-color: #7f7f7f\">                    </span>│<span style=\"color: #7f7f7f; text-decoration-color: #7f7f7f\"> Then, he goes back </span>│<span style=\"color: #7f7f7f; text-decoration-color: #7f7f7f\">                </span>│<span style=\"color: #7f7f7f; text-decoration-color: #7f7f7f\"> The sequence of    </span>│<span style=\"color: #7f7f7f; text-decoration-color: #7f7f7f\">                </span>│<span style=\"color: #7f7f7f; text-decoration-color: #7f7f7f\">                </span>│\n",
       "│<span style=\"color: #7f7f7f; text-decoration-color: #7f7f7f\">                    </span>│<span style=\"color: #7f7f7f; text-decoration-color: #7f7f7f\"> and takes the wolf </span>│<span style=\"color: #7f7f7f; text-decoration-color: #7f7f7f\">                </span>│<span style=\"color: #7f7f7f; text-decoration-color: #7f7f7f\"> actions ensures    </span>│<span style=\"color: #7f7f7f; text-decoration-color: #7f7f7f\">                </span>│<span style=\"color: #7f7f7f; text-decoration-color: #7f7f7f\">                </span>│\n",
       "│<span style=\"color: #7f7f7f; text-decoration-color: #7f7f7f\">                    </span>│<span style=\"color: #7f7f7f; text-decoration-color: #7f7f7f\"> across. He leaves  </span>│<span style=\"color: #7f7f7f; text-decoration-color: #7f7f7f\">                </span>│<span style=\"color: #7f7f7f; text-decoration-color: #7f7f7f\"> that no items are  </span>│<span style=\"color: #7f7f7f; text-decoration-color: #7f7f7f\">                </span>│<span style=\"color: #7f7f7f; text-decoration-color: #7f7f7f\">                </span>│\n",
       "│<span style=\"color: #7f7f7f; text-decoration-color: #7f7f7f\">                    </span>│<span style=\"color: #7f7f7f; text-decoration-color: #7f7f7f\"> the wolf and       </span>│<span style=\"color: #7f7f7f; text-decoration-color: #7f7f7f\">                </span>│<span style=\"color: #7f7f7f; text-decoration-color: #7f7f7f\"> eaten during the   </span>│<span style=\"color: #7f7f7f; text-decoration-color: #7f7f7f\">                </span>│<span style=\"color: #7f7f7f; text-decoration-color: #7f7f7f\">                </span>│\n",
       "│<span style=\"color: #7f7f7f; text-decoration-color: #7f7f7f\">                    </span>│<span style=\"color: #7f7f7f; text-decoration-color: #7f7f7f\"> brings the goat    </span>│<span style=\"color: #7f7f7f; text-decoration-color: #7f7f7f\">                </span>│<span style=\"color: #7f7f7f; text-decoration-color: #7f7f7f\"> crossing of the    </span>│<span style=\"color: #7f7f7f; text-decoration-color: #7f7f7f\">                </span>│<span style=\"color: #7f7f7f; text-decoration-color: #7f7f7f\">                </span>│\n",
       "│<span style=\"color: #7f7f7f; text-decoration-color: #7f7f7f\">                    </span>│<span style=\"color: #7f7f7f; text-decoration-color: #7f7f7f\"> back with him. He  </span>│<span style=\"color: #7f7f7f; text-decoration-color: #7f7f7f\">                </span>│<span style=\"color: #7f7f7f; text-decoration-color: #7f7f7f\"> river.             </span>│<span style=\"color: #7f7f7f; text-decoration-color: #7f7f7f\">                </span>│<span style=\"color: #7f7f7f; text-decoration-color: #7f7f7f\">                </span>│\n",
       "│<span style=\"color: #7f7f7f; text-decoration-color: #7f7f7f\">                    </span>│<span style=\"color: #7f7f7f; text-decoration-color: #7f7f7f\"> leaves the goat on </span>│<span style=\"color: #7f7f7f; text-decoration-color: #7f7f7f\">                </span>│<span style=\"color: #7f7f7f; text-decoration-color: #7f7f7f\">                    </span>│<span style=\"color: #7f7f7f; text-decoration-color: #7f7f7f\">                </span>│<span style=\"color: #7f7f7f; text-decoration-color: #7f7f7f\">                </span>│\n",
       "│<span style=\"color: #7f7f7f; text-decoration-color: #7f7f7f\">                    </span>│<span style=\"color: #7f7f7f; text-decoration-color: #7f7f7f\"> the original side  </span>│<span style=\"color: #7f7f7f; text-decoration-color: #7f7f7f\">                </span>│<span style=\"color: #7f7f7f; text-decoration-color: #7f7f7f\">                    </span>│<span style=\"color: #7f7f7f; text-decoration-color: #7f7f7f\">                </span>│<span style=\"color: #7f7f7f; text-decoration-color: #7f7f7f\">                </span>│\n",
       "│<span style=\"color: #7f7f7f; text-decoration-color: #7f7f7f\">                    </span>│<span style=\"color: #7f7f7f; text-decoration-color: #7f7f7f\"> and takes the      </span>│<span style=\"color: #7f7f7f; text-decoration-color: #7f7f7f\">                </span>│<span style=\"color: #7f7f7f; text-decoration-color: #7f7f7f\">                    </span>│<span style=\"color: #7f7f7f; text-decoration-color: #7f7f7f\">                </span>│<span style=\"color: #7f7f7f; text-decoration-color: #7f7f7f\">                </span>│\n",
       "│<span style=\"color: #7f7f7f; text-decoration-color: #7f7f7f\">                    </span>│<span style=\"color: #7f7f7f; text-decoration-color: #7f7f7f\"> cabbage across.    </span>│<span style=\"color: #7f7f7f; text-decoration-color: #7f7f7f\">                </span>│<span style=\"color: #7f7f7f; text-decoration-color: #7f7f7f\">                    </span>│<span style=\"color: #7f7f7f; text-decoration-color: #7f7f7f\">                </span>│<span style=\"color: #7f7f7f; text-decoration-color: #7f7f7f\">                </span>│\n",
       "│<span style=\"color: #7f7f7f; text-decoration-color: #7f7f7f\">                    </span>│<span style=\"color: #7f7f7f; text-decoration-color: #7f7f7f\"> Finally, he leaves </span>│<span style=\"color: #7f7f7f; text-decoration-color: #7f7f7f\">                </span>│<span style=\"color: #7f7f7f; text-decoration-color: #7f7f7f\">                    </span>│<span style=\"color: #7f7f7f; text-decoration-color: #7f7f7f\">                </span>│<span style=\"color: #7f7f7f; text-decoration-color: #7f7f7f\">                </span>│\n",
       "│<span style=\"color: #7f7f7f; text-decoration-color: #7f7f7f\">                    </span>│<span style=\"color: #7f7f7f; text-decoration-color: #7f7f7f\"> the cabbage with   </span>│<span style=\"color: #7f7f7f; text-decoration-color: #7f7f7f\">                </span>│<span style=\"color: #7f7f7f; text-decoration-color: #7f7f7f\">                    </span>│<span style=\"color: #7f7f7f; text-decoration-color: #7f7f7f\">                </span>│<span style=\"color: #7f7f7f; text-decoration-color: #7f7f7f\">                </span>│\n",
       "│<span style=\"color: #7f7f7f; text-decoration-color: #7f7f7f\">                    </span>│<span style=\"color: #7f7f7f; text-decoration-color: #7f7f7f\"> the wolf and goes  </span>│<span style=\"color: #7f7f7f; text-decoration-color: #7f7f7f\">                </span>│<span style=\"color: #7f7f7f; text-decoration-color: #7f7f7f\">                    </span>│<span style=\"color: #7f7f7f; text-decoration-color: #7f7f7f\">                </span>│<span style=\"color: #7f7f7f; text-decoration-color: #7f7f7f\">                </span>│\n",
       "│<span style=\"color: #7f7f7f; text-decoration-color: #7f7f7f\">                    </span>│<span style=\"color: #7f7f7f; text-decoration-color: #7f7f7f\"> back to get the    </span>│<span style=\"color: #7f7f7f; text-decoration-color: #7f7f7f\">                </span>│<span style=\"color: #7f7f7f; text-decoration-color: #7f7f7f\">                    </span>│<span style=\"color: #7f7f7f; text-decoration-color: #7f7f7f\">                </span>│<span style=\"color: #7f7f7f; text-decoration-color: #7f7f7f\">                </span>│\n",
       "│<span style=\"color: #7f7f7f; text-decoration-color: #7f7f7f\">                    </span>│<span style=\"color: #7f7f7f; text-decoration-color: #7f7f7f\"> goat. He takes the </span>│<span style=\"color: #7f7f7f; text-decoration-color: #7f7f7f\">                </span>│<span style=\"color: #7f7f7f; text-decoration-color: #7f7f7f\">                    </span>│<span style=\"color: #7f7f7f; text-decoration-color: #7f7f7f\">                </span>│<span style=\"color: #7f7f7f; text-decoration-color: #7f7f7f\">                </span>│\n",
       "│<span style=\"color: #7f7f7f; text-decoration-color: #7f7f7f\">                    </span>│<span style=\"color: #7f7f7f; text-decoration-color: #7f7f7f\"> goat across the    </span>│<span style=\"color: #7f7f7f; text-decoration-color: #7f7f7f\">                </span>│<span style=\"color: #7f7f7f; text-decoration-color: #7f7f7f\">                    </span>│<span style=\"color: #7f7f7f; text-decoration-color: #7f7f7f\">                </span>│<span style=\"color: #7f7f7f; text-decoration-color: #7f7f7f\">                </span>│\n",
       "│<span style=\"color: #7f7f7f; text-decoration-color: #7f7f7f\">                    </span>│<span style=\"color: #7f7f7f; text-decoration-color: #7f7f7f\"> river, and they    </span>│<span style=\"color: #7f7f7f; text-decoration-color: #7f7f7f\">                </span>│<span style=\"color: #7f7f7f; text-decoration-color: #7f7f7f\">                    </span>│<span style=\"color: #7f7f7f; text-decoration-color: #7f7f7f\">                </span>│<span style=\"color: #7f7f7f; text-decoration-color: #7f7f7f\">                </span>│\n",
       "│<span style=\"color: #7f7f7f; text-decoration-color: #7f7f7f\">                    </span>│<span style=\"color: #7f7f7f; text-decoration-color: #7f7f7f\"> all arrive safely  </span>│<span style=\"color: #7f7f7f; text-decoration-color: #7f7f7f\">                </span>│<span style=\"color: #7f7f7f; text-decoration-color: #7f7f7f\">                    </span>│<span style=\"color: #7f7f7f; text-decoration-color: #7f7f7f\">                </span>│<span style=\"color: #7f7f7f; text-decoration-color: #7f7f7f\">                </span>│\n",
       "│<span style=\"color: #7f7f7f; text-decoration-color: #7f7f7f\">                    </span>│<span style=\"color: #7f7f7f; text-decoration-color: #7f7f7f\"> on the other side  </span>│<span style=\"color: #7f7f7f; text-decoration-color: #7f7f7f\">                </span>│<span style=\"color: #7f7f7f; text-decoration-color: #7f7f7f\">                    </span>│<span style=\"color: #7f7f7f; text-decoration-color: #7f7f7f\">                </span>│<span style=\"color: #7f7f7f; text-decoration-color: #7f7f7f\">                </span>│\n",
       "│<span style=\"color: #7f7f7f; text-decoration-color: #7f7f7f\">                    </span>│<span style=\"color: #7f7f7f; text-decoration-color: #7f7f7f\"> without anything   </span>│<span style=\"color: #7f7f7f; text-decoration-color: #7f7f7f\">                </span>│<span style=\"color: #7f7f7f; text-decoration-color: #7f7f7f\">                    </span>│<span style=\"color: #7f7f7f; text-decoration-color: #7f7f7f\">                </span>│<span style=\"color: #7f7f7f; text-decoration-color: #7f7f7f\">                </span>│\n",
       "│<span style=\"color: #7f7f7f; text-decoration-color: #7f7f7f\">                    </span>│<span style=\"color: #7f7f7f; text-decoration-color: #7f7f7f\"> being eaten.       </span>│<span style=\"color: #7f7f7f; text-decoration-color: #7f7f7f\">                </span>│<span style=\"color: #7f7f7f; text-decoration-color: #7f7f7f\">                    </span>│<span style=\"color: #7f7f7f; text-decoration-color: #7f7f7f\">                </span>│<span style=\"color: #7f7f7f; text-decoration-color: #7f7f7f\">                </span>│\n",
       "├────────────────────┼────────────────────┼────────────────┼────────────────────┼────────────────┼────────────────┤\n",
       "│<span style=\"color: #7f7f7f; text-decoration-color: #7f7f7f\"> gpt-4o             </span>│<span style=\"color: #7f7f7f; text-decoration-color: #7f7f7f\"> 1. The farmer      </span>│<span style=\"color: #7f7f7f; text-decoration-color: #7f7f7f\"> Yes            </span>│<span style=\"color: #7f7f7f; text-decoration-color: #7f7f7f\"> Yes, the solution  </span>│<span style=\"color: #7f7f7f; text-decoration-color: #7f7f7f\"> Yes            </span>│<span style=\"color: #7f7f7f; text-decoration-color: #7f7f7f\"> 4              </span>│\n",
       "│<span style=\"color: #7f7f7f; text-decoration-color: #7f7f7f\">                    </span>│<span style=\"color: #7f7f7f; text-decoration-color: #7f7f7f\"> takes the goat     </span>│<span style=\"color: #7f7f7f; text-decoration-color: #7f7f7f\">                </span>│<span style=\"color: #7f7f7f; text-decoration-color: #7f7f7f\"> provided ensures   </span>│<span style=\"color: #7f7f7f; text-decoration-color: #7f7f7f\">                </span>│<span style=\"color: #7f7f7f; text-decoration-color: #7f7f7f\">                </span>│\n",
       "│<span style=\"color: #7f7f7f; text-decoration-color: #7f7f7f\">                    </span>│<span style=\"color: #7f7f7f; text-decoration-color: #7f7f7f\"> across the river   </span>│<span style=\"color: #7f7f7f; text-decoration-color: #7f7f7f\">                </span>│<span style=\"color: #7f7f7f; text-decoration-color: #7f7f7f\"> that at no point   </span>│<span style=\"color: #7f7f7f; text-decoration-color: #7f7f7f\">                </span>│<span style=\"color: #7f7f7f; text-decoration-color: #7f7f7f\">                </span>│\n",
       "│<span style=\"color: #7f7f7f; text-decoration-color: #7f7f7f\">                    </span>│<span style=\"color: #7f7f7f; text-decoration-color: #7f7f7f\"> and leaves it on   </span>│<span style=\"color: #7f7f7f; text-decoration-color: #7f7f7f\">                </span>│<span style=\"color: #7f7f7f; text-decoration-color: #7f7f7f\"> are the wolf and   </span>│<span style=\"color: #7f7f7f; text-decoration-color: #7f7f7f\">                </span>│<span style=\"color: #7f7f7f; text-decoration-color: #7f7f7f\">                </span>│\n",
       "│<span style=\"color: #7f7f7f; text-decoration-color: #7f7f7f\">                    </span>│<span style=\"color: #7f7f7f; text-decoration-color: #7f7f7f\"> the other side. 2. </span>│<span style=\"color: #7f7f7f; text-decoration-color: #7f7f7f\">                </span>│<span style=\"color: #7f7f7f; text-decoration-color: #7f7f7f\"> goat left alone    </span>│<span style=\"color: #7f7f7f; text-decoration-color: #7f7f7f\">                </span>│<span style=\"color: #7f7f7f; text-decoration-color: #7f7f7f\">                </span>│\n",
       "│<span style=\"color: #7f7f7f; text-decoration-color: #7f7f7f\">                    </span>│<span style=\"color: #7f7f7f; text-decoration-color: #7f7f7f\"> The farmer returns </span>│<span style=\"color: #7f7f7f; text-decoration-color: #7f7f7f\">                </span>│<span style=\"color: #7f7f7f; text-decoration-color: #7f7f7f\"> together, nor are  </span>│<span style=\"color: #7f7f7f; text-decoration-color: #7f7f7f\">                </span>│<span style=\"color: #7f7f7f; text-decoration-color: #7f7f7f\">                </span>│\n",
       "│<span style=\"color: #7f7f7f; text-decoration-color: #7f7f7f\">                    </span>│<span style=\"color: #7f7f7f; text-decoration-color: #7f7f7f\"> alone to the       </span>│<span style=\"color: #7f7f7f; text-decoration-color: #7f7f7f\">                </span>│<span style=\"color: #7f7f7f; text-decoration-color: #7f7f7f\"> the goat and       </span>│<span style=\"color: #7f7f7f; text-decoration-color: #7f7f7f\">                </span>│<span style=\"color: #7f7f7f; text-decoration-color: #7f7f7f\">                </span>│\n",
       "│<span style=\"color: #7f7f7f; text-decoration-color: #7f7f7f\">                    </span>│<span style=\"color: #7f7f7f; text-decoration-color: #7f7f7f\"> original side. 3.  </span>│<span style=\"color: #7f7f7f; text-decoration-color: #7f7f7f\">                </span>│<span style=\"color: #7f7f7f; text-decoration-color: #7f7f7f\"> cabbage left alone </span>│<span style=\"color: #7f7f7f; text-decoration-color: #7f7f7f\">                </span>│<span style=\"color: #7f7f7f; text-decoration-color: #7f7f7f\">                </span>│\n",
       "│<span style=\"color: #7f7f7f; text-decoration-color: #7f7f7f\">                    </span>│<span style=\"color: #7f7f7f; text-decoration-color: #7f7f7f\"> The farmer takes   </span>│<span style=\"color: #7f7f7f; text-decoration-color: #7f7f7f\">                </span>│<span style=\"color: #7f7f7f; text-decoration-color: #7f7f7f\"> together. By       </span>│<span style=\"color: #7f7f7f; text-decoration-color: #7f7f7f\">                </span>│<span style=\"color: #7f7f7f; text-decoration-color: #7f7f7f\">                </span>│\n",
       "│<span style=\"color: #7f7f7f; text-decoration-color: #7f7f7f\">                    </span>│<span style=\"color: #7f7f7f; text-decoration-color: #7f7f7f\"> the wolf across    </span>│<span style=\"color: #7f7f7f; text-decoration-color: #7f7f7f\">                </span>│<span style=\"color: #7f7f7f; text-decoration-color: #7f7f7f\"> carefully managing </span>│<span style=\"color: #7f7f7f; text-decoration-color: #7f7f7f\">                </span>│<span style=\"color: #7f7f7f; text-decoration-color: #7f7f7f\">                </span>│\n",
       "│<span style=\"color: #7f7f7f; text-decoration-color: #7f7f7f\">                    </span>│<span style=\"color: #7f7f7f; text-decoration-color: #7f7f7f\"> the river. 4. The  </span>│<span style=\"color: #7f7f7f; text-decoration-color: #7f7f7f\">                </span>│<span style=\"color: #7f7f7f; text-decoration-color: #7f7f7f\"> the order in which </span>│<span style=\"color: #7f7f7f; text-decoration-color: #7f7f7f\">                </span>│<span style=\"color: #7f7f7f; text-decoration-color: #7f7f7f\">                </span>│\n",
       "│<span style=\"color: #7f7f7f; text-decoration-color: #7f7f7f\">                    </span>│<span style=\"color: #7f7f7f; text-decoration-color: #7f7f7f\"> farmer leaves the  </span>│<span style=\"color: #7f7f7f; text-decoration-color: #7f7f7f\">                </span>│<span style=\"color: #7f7f7f; text-decoration-color: #7f7f7f\"> the items are      </span>│<span style=\"color: #7f7f7f; text-decoration-color: #7f7f7f\">                </span>│<span style=\"color: #7f7f7f; text-decoration-color: #7f7f7f\">                </span>│\n",
       "│<span style=\"color: #7f7f7f; text-decoration-color: #7f7f7f\">                    </span>│<span style=\"color: #7f7f7f; text-decoration-color: #7f7f7f\"> wolf on the other  </span>│<span style=\"color: #7f7f7f; text-decoration-color: #7f7f7f\">                </span>│<span style=\"color: #7f7f7f; text-decoration-color: #7f7f7f\"> transported and    </span>│<span style=\"color: #7f7f7f; text-decoration-color: #7f7f7f\">                </span>│<span style=\"color: #7f7f7f; text-decoration-color: #7f7f7f\">                </span>│\n",
       "│<span style=\"color: #7f7f7f; text-decoration-color: #7f7f7f\">                    </span>│<span style=\"color: #7f7f7f; text-decoration-color: #7f7f7f\"> side but takes the </span>│<span style=\"color: #7f7f7f; text-decoration-color: #7f7f7f\">                </span>│<span style=\"color: #7f7f7f; text-decoration-color: #7f7f7f\"> ensuring that the  </span>│<span style=\"color: #7f7f7f; text-decoration-color: #7f7f7f\">                </span>│<span style=\"color: #7f7f7f; text-decoration-color: #7f7f7f\">                </span>│\n",
       "│<span style=\"color: #7f7f7f; text-decoration-color: #7f7f7f\">                    </span>│<span style=\"color: #7f7f7f; text-decoration-color: #7f7f7f\"> goat back with him </span>│<span style=\"color: #7f7f7f; text-decoration-color: #7f7f7f\">                </span>│<span style=\"color: #7f7f7f; text-decoration-color: #7f7f7f\"> farmer returns     </span>│<span style=\"color: #7f7f7f; text-decoration-color: #7f7f7f\">                </span>│<span style=\"color: #7f7f7f; text-decoration-color: #7f7f7f\">                </span>│\n",
       "│<span style=\"color: #7f7f7f; text-decoration-color: #7f7f7f\">                    </span>│<span style=\"color: #7f7f7f; text-decoration-color: #7f7f7f\"> to the original    </span>│<span style=\"color: #7f7f7f; text-decoration-color: #7f7f7f\">                </span>│<span style=\"color: #7f7f7f; text-decoration-color: #7f7f7f\"> with the goat to   </span>│<span style=\"color: #7f7f7f; text-decoration-color: #7f7f7f\">                </span>│<span style=\"color: #7f7f7f; text-decoration-color: #7f7f7f\">                </span>│\n",
       "│<span style=\"color: #7f7f7f; text-decoration-color: #7f7f7f\">                    </span>│<span style=\"color: #7f7f7f; text-decoration-color: #7f7f7f\"> side. 5. The       </span>│<span style=\"color: #7f7f7f; text-decoration-color: #7f7f7f\">                </span>│<span style=\"color: #7f7f7f; text-decoration-color: #7f7f7f\"> prevent any        </span>│<span style=\"color: #7f7f7f; text-decoration-color: #7f7f7f\">                </span>│<span style=\"color: #7f7f7f; text-decoration-color: #7f7f7f\">                </span>│\n",
       "│<span style=\"color: #7f7f7f; text-decoration-color: #7f7f7f\">                    </span>│<span style=\"color: #7f7f7f; text-decoration-color: #7f7f7f\"> farmer takes the   </span>│<span style=\"color: #7f7f7f; text-decoration-color: #7f7f7f\">                </span>│<span style=\"color: #7f7f7f; text-decoration-color: #7f7f7f\"> dangerous          </span>│<span style=\"color: #7f7f7f; text-decoration-color: #7f7f7f\">                </span>│<span style=\"color: #7f7f7f; text-decoration-color: #7f7f7f\">                </span>│\n",
       "│<span style=\"color: #7f7f7f; text-decoration-color: #7f7f7f\">                    </span>│<span style=\"color: #7f7f7f; text-decoration-color: #7f7f7f\"> cabbage across the </span>│<span style=\"color: #7f7f7f; text-decoration-color: #7f7f7f\">                </span>│<span style=\"color: #7f7f7f; text-decoration-color: #7f7f7f\"> pairings, the      </span>│<span style=\"color: #7f7f7f; text-decoration-color: #7f7f7f\">                </span>│<span style=\"color: #7f7f7f; text-decoration-color: #7f7f7f\">                </span>│\n",
       "│<span style=\"color: #7f7f7f; text-decoration-color: #7f7f7f\">                    </span>│<span style=\"color: #7f7f7f; text-decoration-color: #7f7f7f\"> river and leaves   </span>│<span style=\"color: #7f7f7f; text-decoration-color: #7f7f7f\">                </span>│<span style=\"color: #7f7f7f; text-decoration-color: #7f7f7f\"> problem is solved  </span>│<span style=\"color: #7f7f7f; text-decoration-color: #7f7f7f\">                </span>│<span style=\"color: #7f7f7f; text-decoration-color: #7f7f7f\">                </span>│\n",
       "│<span style=\"color: #7f7f7f; text-decoration-color: #7f7f7f\">                    </span>│<span style=\"color: #7f7f7f; text-decoration-color: #7f7f7f\"> it with the wolf.  </span>│<span style=\"color: #7f7f7f; text-decoration-color: #7f7f7f\">                </span>│<span style=\"color: #7f7f7f; text-decoration-color: #7f7f7f\"> efficiently and    </span>│<span style=\"color: #7f7f7f; text-decoration-color: #7f7f7f\">                </span>│<span style=\"color: #7f7f7f; text-decoration-color: #7f7f7f\">                </span>│\n",
       "│<span style=\"color: #7f7f7f; text-decoration-color: #7f7f7f\">                    </span>│<span style=\"color: #7f7f7f; text-decoration-color: #7f7f7f\"> 6. The farmer      </span>│<span style=\"color: #7f7f7f; text-decoration-color: #7f7f7f\">                </span>│<span style=\"color: #7f7f7f; text-decoration-color: #7f7f7f\"> safely.            </span>│<span style=\"color: #7f7f7f; text-decoration-color: #7f7f7f\">                </span>│<span style=\"color: #7f7f7f; text-decoration-color: #7f7f7f\">                </span>│\n",
       "│<span style=\"color: #7f7f7f; text-decoration-color: #7f7f7f\">                    </span>│<span style=\"color: #7f7f7f; text-decoration-color: #7f7f7f\"> returns alone to   </span>│<span style=\"color: #7f7f7f; text-decoration-color: #7f7f7f\">                </span>│<span style=\"color: #7f7f7f; text-decoration-color: #7f7f7f\">                    </span>│<span style=\"color: #7f7f7f; text-decoration-color: #7f7f7f\">                </span>│<span style=\"color: #7f7f7f; text-decoration-color: #7f7f7f\">                </span>│\n",
       "│<span style=\"color: #7f7f7f; text-decoration-color: #7f7f7f\">                    </span>│<span style=\"color: #7f7f7f; text-decoration-color: #7f7f7f\"> the original side. </span>│<span style=\"color: #7f7f7f; text-decoration-color: #7f7f7f\">                </span>│<span style=\"color: #7f7f7f; text-decoration-color: #7f7f7f\">                    </span>│<span style=\"color: #7f7f7f; text-decoration-color: #7f7f7f\">                </span>│<span style=\"color: #7f7f7f; text-decoration-color: #7f7f7f\">                </span>│\n",
       "│<span style=\"color: #7f7f7f; text-decoration-color: #7f7f7f\">                    </span>│<span style=\"color: #7f7f7f; text-decoration-color: #7f7f7f\"> 7. The farmer      </span>│<span style=\"color: #7f7f7f; text-decoration-color: #7f7f7f\">                </span>│<span style=\"color: #7f7f7f; text-decoration-color: #7f7f7f\">                    </span>│<span style=\"color: #7f7f7f; text-decoration-color: #7f7f7f\">                </span>│<span style=\"color: #7f7f7f; text-decoration-color: #7f7f7f\">                </span>│\n",
       "│<span style=\"color: #7f7f7f; text-decoration-color: #7f7f7f\">                    </span>│<span style=\"color: #7f7f7f; text-decoration-color: #7f7f7f\"> takes the goat     </span>│<span style=\"color: #7f7f7f; text-decoration-color: #7f7f7f\">                </span>│<span style=\"color: #7f7f7f; text-decoration-color: #7f7f7f\">                    </span>│<span style=\"color: #7f7f7f; text-decoration-color: #7f7f7f\">                </span>│<span style=\"color: #7f7f7f; text-decoration-color: #7f7f7f\">                </span>│\n",
       "│<span style=\"color: #7f7f7f; text-decoration-color: #7f7f7f\">                    </span>│<span style=\"color: #7f7f7f; text-decoration-color: #7f7f7f\"> across the river   </span>│<span style=\"color: #7f7f7f; text-decoration-color: #7f7f7f\">                </span>│<span style=\"color: #7f7f7f; text-decoration-color: #7f7f7f\">                    </span>│<span style=\"color: #7f7f7f; text-decoration-color: #7f7f7f\">                </span>│<span style=\"color: #7f7f7f; text-decoration-color: #7f7f7f\">                </span>│\n",
       "│<span style=\"color: #7f7f7f; text-decoration-color: #7f7f7f\">                    </span>│<span style=\"color: #7f7f7f; text-decoration-color: #7f7f7f\"> one final time.    </span>│<span style=\"color: #7f7f7f; text-decoration-color: #7f7f7f\">                </span>│<span style=\"color: #7f7f7f; text-decoration-color: #7f7f7f\">                    </span>│<span style=\"color: #7f7f7f; text-decoration-color: #7f7f7f\">                </span>│<span style=\"color: #7f7f7f; text-decoration-color: #7f7f7f\">                </span>│\n",
       "│<span style=\"color: #7f7f7f; text-decoration-color: #7f7f7f\">                    </span>│<span style=\"color: #7f7f7f; text-decoration-color: #7f7f7f\"> Now, all three     </span>│<span style=\"color: #7f7f7f; text-decoration-color: #7f7f7f\">                </span>│<span style=\"color: #7f7f7f; text-decoration-color: #7f7f7f\">                    </span>│<span style=\"color: #7f7f7f; text-decoration-color: #7f7f7f\">                </span>│<span style=\"color: #7f7f7f; text-decoration-color: #7f7f7f\">                </span>│\n",
       "│<span style=\"color: #7f7f7f; text-decoration-color: #7f7f7f\">                    </span>│<span style=\"color: #7f7f7f; text-decoration-color: #7f7f7f\"> items and the      </span>│<span style=\"color: #7f7f7f; text-decoration-color: #7f7f7f\">                </span>│<span style=\"color: #7f7f7f; text-decoration-color: #7f7f7f\">                    </span>│<span style=\"color: #7f7f7f; text-decoration-color: #7f7f7f\">                </span>│<span style=\"color: #7f7f7f; text-decoration-color: #7f7f7f\">                </span>│\n",
       "│<span style=\"color: #7f7f7f; text-decoration-color: #7f7f7f\">                    </span>│<span style=\"color: #7f7f7f; text-decoration-color: #7f7f7f\"> farmer are on the  </span>│<span style=\"color: #7f7f7f; text-decoration-color: #7f7f7f\">                </span>│<span style=\"color: #7f7f7f; text-decoration-color: #7f7f7f\">                    </span>│<span style=\"color: #7f7f7f; text-decoration-color: #7f7f7f\">                </span>│<span style=\"color: #7f7f7f; text-decoration-color: #7f7f7f\">                </span>│\n",
       "│<span style=\"color: #7f7f7f; text-decoration-color: #7f7f7f\">                    </span>│<span style=\"color: #7f7f7f; text-decoration-color: #7f7f7f\"> other side of the  </span>│<span style=\"color: #7f7f7f; text-decoration-color: #7f7f7f\">                </span>│<span style=\"color: #7f7f7f; text-decoration-color: #7f7f7f\">                    </span>│<span style=\"color: #7f7f7f; text-decoration-color: #7f7f7f\">                </span>│<span style=\"color: #7f7f7f; text-decoration-color: #7f7f7f\">                </span>│\n",
       "│<span style=\"color: #7f7f7f; text-decoration-color: #7f7f7f\">                    </span>│<span style=\"color: #7f7f7f; text-decoration-color: #7f7f7f\"> river without      </span>│<span style=\"color: #7f7f7f; text-decoration-color: #7f7f7f\">                </span>│<span style=\"color: #7f7f7f; text-decoration-color: #7f7f7f\">                    </span>│<span style=\"color: #7f7f7f; text-decoration-color: #7f7f7f\">                </span>│<span style=\"color: #7f7f7f; text-decoration-color: #7f7f7f\">                </span>│\n",
       "│<span style=\"color: #7f7f7f; text-decoration-color: #7f7f7f\">                    </span>│<span style=\"color: #7f7f7f; text-decoration-color: #7f7f7f\"> anything being     </span>│<span style=\"color: #7f7f7f; text-decoration-color: #7f7f7f\">                </span>│<span style=\"color: #7f7f7f; text-decoration-color: #7f7f7f\">                    </span>│<span style=\"color: #7f7f7f; text-decoration-color: #7f7f7f\">                </span>│<span style=\"color: #7f7f7f; text-decoration-color: #7f7f7f\">                </span>│\n",
       "│<span style=\"color: #7f7f7f; text-decoration-color: #7f7f7f\">                    </span>│<span style=\"color: #7f7f7f; text-decoration-color: #7f7f7f\"> eaten.             </span>│<span style=\"color: #7f7f7f; text-decoration-color: #7f7f7f\">                </span>│<span style=\"color: #7f7f7f; text-decoration-color: #7f7f7f\">                    </span>│<span style=\"color: #7f7f7f; text-decoration-color: #7f7f7f\">                </span>│<span style=\"color: #7f7f7f; text-decoration-color: #7f7f7f\">                </span>│\n",
       "├────────────────────┼────────────────────┼────────────────┼────────────────────┼────────────────┼────────────────┤\n",
       "│<span style=\"color: #7f7f7f; text-decoration-color: #7f7f7f\"> gpt-4-1106-preview </span>│<span style=\"color: #7f7f7f; text-decoration-color: #7f7f7f\"> 1. The farmer      </span>│<span style=\"color: #7f7f7f; text-decoration-color: #7f7f7f\"> Yes            </span>│<span style=\"color: #7f7f7f; text-decoration-color: #7f7f7f\"> Yes, the solution  </span>│<span style=\"color: #7f7f7f; text-decoration-color: #7f7f7f\"> Yes            </span>│<span style=\"color: #7f7f7f; text-decoration-color: #7f7f7f\"> 1              </span>│\n",
       "│<span style=\"color: #7f7f7f; text-decoration-color: #7f7f7f\">                    </span>│<span style=\"color: #7f7f7f; text-decoration-color: #7f7f7f\"> takes the goat     </span>│<span style=\"color: #7f7f7f; text-decoration-color: #7f7f7f\">                </span>│<span style=\"color: #7f7f7f; text-decoration-color: #7f7f7f\"> provided should    </span>│<span style=\"color: #7f7f7f; text-decoration-color: #7f7f7f\">                </span>│<span style=\"color: #7f7f7f; text-decoration-color: #7f7f7f\">                </span>│\n",
       "│<span style=\"color: #7f7f7f; text-decoration-color: #7f7f7f\">                    </span>│<span style=\"color: #7f7f7f; text-decoration-color: #7f7f7f\"> across the river   </span>│<span style=\"color: #7f7f7f; text-decoration-color: #7f7f7f\">                </span>│<span style=\"color: #7f7f7f; text-decoration-color: #7f7f7f\"> work. It ensures   </span>│<span style=\"color: #7f7f7f; text-decoration-color: #7f7f7f\">                </span>│<span style=\"color: #7f7f7f; text-decoration-color: #7f7f7f\">                </span>│\n",
       "│<span style=\"color: #7f7f7f; text-decoration-color: #7f7f7f\">                    </span>│<span style=\"color: #7f7f7f; text-decoration-color: #7f7f7f\"> and leaves it on   </span>│<span style=\"color: #7f7f7f; text-decoration-color: #7f7f7f\">                </span>│<span style=\"color: #7f7f7f; text-decoration-color: #7f7f7f\"> that the goat is   </span>│<span style=\"color: #7f7f7f; text-decoration-color: #7f7f7f\">                </span>│<span style=\"color: #7f7f7f; text-decoration-color: #7f7f7f\">                </span>│\n",
       "│<span style=\"color: #7f7f7f; text-decoration-color: #7f7f7f\">                    </span>│<span style=\"color: #7f7f7f; text-decoration-color: #7f7f7f\"> the other side. 2. </span>│<span style=\"color: #7f7f7f; text-decoration-color: #7f7f7f\">                </span>│<span style=\"color: #7f7f7f; text-decoration-color: #7f7f7f\"> not left alone     </span>│<span style=\"color: #7f7f7f; text-decoration-color: #7f7f7f\">                </span>│<span style=\"color: #7f7f7f; text-decoration-color: #7f7f7f\">                </span>│\n",
       "│<span style=\"color: #7f7f7f; text-decoration-color: #7f7f7f\">                    </span>│<span style=\"color: #7f7f7f; text-decoration-color: #7f7f7f\"> The farmer returns </span>│<span style=\"color: #7f7f7f; text-decoration-color: #7f7f7f\">                </span>│<span style=\"color: #7f7f7f; text-decoration-color: #7f7f7f\"> with the cabbage   </span>│<span style=\"color: #7f7f7f; text-decoration-color: #7f7f7f\">                </span>│<span style=\"color: #7f7f7f; text-decoration-color: #7f7f7f\">                </span>│\n",
       "│<span style=\"color: #7f7f7f; text-decoration-color: #7f7f7f\">                    </span>│<span style=\"color: #7f7f7f; text-decoration-color: #7f7f7f\"> alone to the       </span>│<span style=\"color: #7f7f7f; text-decoration-color: #7f7f7f\">                </span>│<span style=\"color: #7f7f7f; text-decoration-color: #7f7f7f\"> or the wolf at any </span>│<span style=\"color: #7f7f7f; text-decoration-color: #7f7f7f\">                </span>│<span style=\"color: #7f7f7f; text-decoration-color: #7f7f7f\">                </span>│\n",
       "│<span style=\"color: #7f7f7f; text-decoration-color: #7f7f7f\">                    </span>│<span style=\"color: #7f7f7f; text-decoration-color: #7f7f7f\"> original side and  </span>│<span style=\"color: #7f7f7f; text-decoration-color: #7f7f7f\">                </span>│<span style=\"color: #7f7f7f; text-decoration-color: #7f7f7f\"> point, which would </span>│<span style=\"color: #7f7f7f; text-decoration-color: #7f7f7f\">                </span>│<span style=\"color: #7f7f7f; text-decoration-color: #7f7f7f\">                </span>│\n",
       "│<span style=\"color: #7f7f7f; text-decoration-color: #7f7f7f\">                    </span>│<span style=\"color: #7f7f7f; text-decoration-color: #7f7f7f\"> takes the cabbage  </span>│<span style=\"color: #7f7f7f; text-decoration-color: #7f7f7f\">                </span>│<span style=\"color: #7f7f7f; text-decoration-color: #7f7f7f\"> prevent it from    </span>│<span style=\"color: #7f7f7f; text-decoration-color: #7f7f7f\">                </span>│<span style=\"color: #7f7f7f; text-decoration-color: #7f7f7f\">                </span>│\n",
       "│<span style=\"color: #7f7f7f; text-decoration-color: #7f7f7f\">                    </span>│<span style=\"color: #7f7f7f; text-decoration-color: #7f7f7f\"> across the river.  </span>│<span style=\"color: #7f7f7f; text-decoration-color: #7f7f7f\">                </span>│<span style=\"color: #7f7f7f; text-decoration-color: #7f7f7f\"> being eaten. The   </span>│<span style=\"color: #7f7f7f; text-decoration-color: #7f7f7f\">                </span>│<span style=\"color: #7f7f7f; text-decoration-color: #7f7f7f\">                </span>│\n",
       "│<span style=\"color: #7f7f7f; text-decoration-color: #7f7f7f\">                    </span>│<span style=\"color: #7f7f7f; text-decoration-color: #7f7f7f\"> 3. The farmer      </span>│<span style=\"color: #7f7f7f; text-decoration-color: #7f7f7f\">                </span>│<span style=\"color: #7f7f7f; text-decoration-color: #7f7f7f\"> wolf and the       </span>│<span style=\"color: #7f7f7f; text-decoration-color: #7f7f7f\">                </span>│<span style=\"color: #7f7f7f; text-decoration-color: #7f7f7f\">                </span>│\n",
       "│<span style=\"color: #7f7f7f; text-decoration-color: #7f7f7f\">                    </span>│<span style=\"color: #7f7f7f; text-decoration-color: #7f7f7f\"> leaves the cabbage </span>│<span style=\"color: #7f7f7f; text-decoration-color: #7f7f7f\">                </span>│<span style=\"color: #7f7f7f; text-decoration-color: #7f7f7f\"> cabbage can be     </span>│<span style=\"color: #7f7f7f; text-decoration-color: #7f7f7f\">                </span>│<span style=\"color: #7f7f7f; text-decoration-color: #7f7f7f\">                </span>│\n",
       "│<span style=\"color: #7f7f7f; text-decoration-color: #7f7f7f\">                    </span>│<span style=\"color: #7f7f7f; text-decoration-color: #7f7f7f\"> on the other side  </span>│<span style=\"color: #7f7f7f; text-decoration-color: #7f7f7f\">                </span>│<span style=\"color: #7f7f7f; text-decoration-color: #7f7f7f\"> left alone         </span>│<span style=\"color: #7f7f7f; text-decoration-color: #7f7f7f\">                </span>│<span style=\"color: #7f7f7f; text-decoration-color: #7f7f7f\">                </span>│\n",
       "│<span style=\"color: #7f7f7f; text-decoration-color: #7f7f7f\">                    </span>│<span style=\"color: #7f7f7f; text-decoration-color: #7f7f7f\"> and takes the goat </span>│<span style=\"color: #7f7f7f; text-decoration-color: #7f7f7f\">                </span>│<span style=\"color: #7f7f7f; text-decoration-color: #7f7f7f\"> together without   </span>│<span style=\"color: #7f7f7f; text-decoration-color: #7f7f7f\">                </span>│<span style=\"color: #7f7f7f; text-decoration-color: #7f7f7f\">                </span>│\n",
       "│<span style=\"color: #7f7f7f; text-decoration-color: #7f7f7f\">                    </span>│<span style=\"color: #7f7f7f; text-decoration-color: #7f7f7f\"> back across the    </span>│<span style=\"color: #7f7f7f; text-decoration-color: #7f7f7f\">                </span>│<span style=\"color: #7f7f7f; text-decoration-color: #7f7f7f\"> risk, as the wolf  </span>│<span style=\"color: #7f7f7f; text-decoration-color: #7f7f7f\">                </span>│<span style=\"color: #7f7f7f; text-decoration-color: #7f7f7f\">                </span>│\n",
       "│<span style=\"color: #7f7f7f; text-decoration-color: #7f7f7f\">                    </span>│<span style=\"color: #7f7f7f; text-decoration-color: #7f7f7f\"> river. 4. The      </span>│<span style=\"color: #7f7f7f; text-decoration-color: #7f7f7f\">                </span>│<span style=\"color: #7f7f7f; text-decoration-color: #7f7f7f\"> does not eat       </span>│<span style=\"color: #7f7f7f; text-decoration-color: #7f7f7f\">                </span>│<span style=\"color: #7f7f7f; text-decoration-color: #7f7f7f\">                </span>│\n",
       "│<span style=\"color: #7f7f7f; text-decoration-color: #7f7f7f\">                    </span>│<span style=\"color: #7f7f7f; text-decoration-color: #7f7f7f\"> farmer leaves the  </span>│<span style=\"color: #7f7f7f; text-decoration-color: #7f7f7f\">                </span>│<span style=\"color: #7f7f7f; text-decoration-color: #7f7f7f\"> cabbage. By        </span>│<span style=\"color: #7f7f7f; text-decoration-color: #7f7f7f\">                </span>│<span style=\"color: #7f7f7f; text-decoration-color: #7f7f7f\">                </span>│\n",
       "│<span style=\"color: #7f7f7f; text-decoration-color: #7f7f7f\">                    </span>│<span style=\"color: #7f7f7f; text-decoration-color: #7f7f7f\"> goat on the        </span>│<span style=\"color: #7f7f7f; text-decoration-color: #7f7f7f\">                </span>│<span style=\"color: #7f7f7f; text-decoration-color: #7f7f7f\"> following these    </span>│<span style=\"color: #7f7f7f; text-decoration-color: #7f7f7f\">                </span>│<span style=\"color: #7f7f7f; text-decoration-color: #7f7f7f\">                </span>│\n",
       "│<span style=\"color: #7f7f7f; text-decoration-color: #7f7f7f\">                    </span>│<span style=\"color: #7f7f7f; text-decoration-color: #7f7f7f\"> original side and  </span>│<span style=\"color: #7f7f7f; text-decoration-color: #7f7f7f\">                </span>│<span style=\"color: #7f7f7f; text-decoration-color: #7f7f7f\"> steps, the farmer  </span>│<span style=\"color: #7f7f7f; text-decoration-color: #7f7f7f\">                </span>│<span style=\"color: #7f7f7f; text-decoration-color: #7f7f7f\">                </span>│\n",
       "│<span style=\"color: #7f7f7f; text-decoration-color: #7f7f7f\">                    </span>│<span style=\"color: #7f7f7f; text-decoration-color: #7f7f7f\"> takes the wolf     </span>│<span style=\"color: #7f7f7f; text-decoration-color: #7f7f7f\">                </span>│<span style=\"color: #7f7f7f; text-decoration-color: #7f7f7f\"> can successfully   </span>│<span style=\"color: #7f7f7f; text-decoration-color: #7f7f7f\">                </span>│<span style=\"color: #7f7f7f; text-decoration-color: #7f7f7f\">                </span>│\n",
       "│<span style=\"color: #7f7f7f; text-decoration-color: #7f7f7f\">                    </span>│<span style=\"color: #7f7f7f; text-decoration-color: #7f7f7f\"> across the river.  </span>│<span style=\"color: #7f7f7f; text-decoration-color: #7f7f7f\">                </span>│<span style=\"color: #7f7f7f; text-decoration-color: #7f7f7f\"> transport all      </span>│<span style=\"color: #7f7f7f; text-decoration-color: #7f7f7f\">                </span>│<span style=\"color: #7f7f7f; text-decoration-color: #7f7f7f\">                </span>│\n",
       "│<span style=\"color: #7f7f7f; text-decoration-color: #7f7f7f\">                    </span>│<span style=\"color: #7f7f7f; text-decoration-color: #7f7f7f\"> 5. The farmer      </span>│<span style=\"color: #7f7f7f; text-decoration-color: #7f7f7f\">                </span>│<span style=\"color: #7f7f7f; text-decoration-color: #7f7f7f\"> items across the   </span>│<span style=\"color: #7f7f7f; text-decoration-color: #7f7f7f\">                </span>│<span style=\"color: #7f7f7f; text-decoration-color: #7f7f7f\">                </span>│\n",
       "│<span style=\"color: #7f7f7f; text-decoration-color: #7f7f7f\">                    </span>│<span style=\"color: #7f7f7f; text-decoration-color: #7f7f7f\"> leaves the wolf    </span>│<span style=\"color: #7f7f7f; text-decoration-color: #7f7f7f\">                </span>│<span style=\"color: #7f7f7f; text-decoration-color: #7f7f7f\"> river without any  </span>│<span style=\"color: #7f7f7f; text-decoration-color: #7f7f7f\">                </span>│<span style=\"color: #7f7f7f; text-decoration-color: #7f7f7f\">                </span>│\n",
       "│<span style=\"color: #7f7f7f; text-decoration-color: #7f7f7f\">                    </span>│<span style=\"color: #7f7f7f; text-decoration-color: #7f7f7f\"> with the cabbage   </span>│<span style=\"color: #7f7f7f; text-decoration-color: #7f7f7f\">                </span>│<span style=\"color: #7f7f7f; text-decoration-color: #7f7f7f\"> harm.              </span>│<span style=\"color: #7f7f7f; text-decoration-color: #7f7f7f\">                </span>│<span style=\"color: #7f7f7f; text-decoration-color: #7f7f7f\">                </span>│\n",
       "│<span style=\"color: #7f7f7f; text-decoration-color: #7f7f7f\">                    </span>│<span style=\"color: #7f7f7f; text-decoration-color: #7f7f7f\"> on the other side  </span>│<span style=\"color: #7f7f7f; text-decoration-color: #7f7f7f\">                </span>│<span style=\"color: #7f7f7f; text-decoration-color: #7f7f7f\">                    </span>│<span style=\"color: #7f7f7f; text-decoration-color: #7f7f7f\">                </span>│<span style=\"color: #7f7f7f; text-decoration-color: #7f7f7f\">                </span>│\n",
       "│<span style=\"color: #7f7f7f; text-decoration-color: #7f7f7f\">                    </span>│<span style=\"color: #7f7f7f; text-decoration-color: #7f7f7f\"> and returns alone  </span>│<span style=\"color: #7f7f7f; text-decoration-color: #7f7f7f\">                </span>│<span style=\"color: #7f7f7f; text-decoration-color: #7f7f7f\">                    </span>│<span style=\"color: #7f7f7f; text-decoration-color: #7f7f7f\">                </span>│<span style=\"color: #7f7f7f; text-decoration-color: #7f7f7f\">                </span>│\n",
       "│<span style=\"color: #7f7f7f; text-decoration-color: #7f7f7f\">                    </span>│<span style=\"color: #7f7f7f; text-decoration-color: #7f7f7f\"> to get the goat.   </span>│<span style=\"color: #7f7f7f; text-decoration-color: #7f7f7f\">                </span>│<span style=\"color: #7f7f7f; text-decoration-color: #7f7f7f\">                    </span>│<span style=\"color: #7f7f7f; text-decoration-color: #7f7f7f\">                </span>│<span style=\"color: #7f7f7f; text-decoration-color: #7f7f7f\">                </span>│\n",
       "│<span style=\"color: #7f7f7f; text-decoration-color: #7f7f7f\">                    </span>│<span style=\"color: #7f7f7f; text-decoration-color: #7f7f7f\"> 6. The farmer      </span>│<span style=\"color: #7f7f7f; text-decoration-color: #7f7f7f\">                </span>│<span style=\"color: #7f7f7f; text-decoration-color: #7f7f7f\">                    </span>│<span style=\"color: #7f7f7f; text-decoration-color: #7f7f7f\">                </span>│<span style=\"color: #7f7f7f; text-decoration-color: #7f7f7f\">                </span>│\n",
       "│<span style=\"color: #7f7f7f; text-decoration-color: #7f7f7f\">                    </span>│<span style=\"color: #7f7f7f; text-decoration-color: #7f7f7f\"> takes the goat     </span>│<span style=\"color: #7f7f7f; text-decoration-color: #7f7f7f\">                </span>│<span style=\"color: #7f7f7f; text-decoration-color: #7f7f7f\">                    </span>│<span style=\"color: #7f7f7f; text-decoration-color: #7f7f7f\">                </span>│<span style=\"color: #7f7f7f; text-decoration-color: #7f7f7f\">                </span>│\n",
       "│<span style=\"color: #7f7f7f; text-decoration-color: #7f7f7f\">                    </span>│<span style=\"color: #7f7f7f; text-decoration-color: #7f7f7f\"> across the river   </span>│<span style=\"color: #7f7f7f; text-decoration-color: #7f7f7f\">                </span>│<span style=\"color: #7f7f7f; text-decoration-color: #7f7f7f\">                    </span>│<span style=\"color: #7f7f7f; text-decoration-color: #7f7f7f\">                </span>│<span style=\"color: #7f7f7f; text-decoration-color: #7f7f7f\">                </span>│\n",
       "│<span style=\"color: #7f7f7f; text-decoration-color: #7f7f7f\">                    </span>│<span style=\"color: #7f7f7f; text-decoration-color: #7f7f7f\"> one final time.    </span>│<span style=\"color: #7f7f7f; text-decoration-color: #7f7f7f\">                </span>│<span style=\"color: #7f7f7f; text-decoration-color: #7f7f7f\">                    </span>│<span style=\"color: #7f7f7f; text-decoration-color: #7f7f7f\">                </span>│<span style=\"color: #7f7f7f; text-decoration-color: #7f7f7f\">                </span>│\n",
       "│<span style=\"color: #7f7f7f; text-decoration-color: #7f7f7f\">                    </span>│<span style=\"color: #7f7f7f; text-decoration-color: #7f7f7f\"> Now, all are on    </span>│<span style=\"color: #7f7f7f; text-decoration-color: #7f7f7f\">                </span>│<span style=\"color: #7f7f7f; text-decoration-color: #7f7f7f\">                    </span>│<span style=\"color: #7f7f7f; text-decoration-color: #7f7f7f\">                </span>│<span style=\"color: #7f7f7f; text-decoration-color: #7f7f7f\">                </span>│\n",
       "│<span style=\"color: #7f7f7f; text-decoration-color: #7f7f7f\">                    </span>│<span style=\"color: #7f7f7f; text-decoration-color: #7f7f7f\"> the other side of  </span>│<span style=\"color: #7f7f7f; text-decoration-color: #7f7f7f\">                </span>│<span style=\"color: #7f7f7f; text-decoration-color: #7f7f7f\">                    </span>│<span style=\"color: #7f7f7f; text-decoration-color: #7f7f7f\">                </span>│<span style=\"color: #7f7f7f; text-decoration-color: #7f7f7f\">                </span>│\n",
       "│<span style=\"color: #7f7f7f; text-decoration-color: #7f7f7f\">                    </span>│<span style=\"color: #7f7f7f; text-decoration-color: #7f7f7f\"> the river safely.  </span>│<span style=\"color: #7f7f7f; text-decoration-color: #7f7f7f\">                </span>│<span style=\"color: #7f7f7f; text-decoration-color: #7f7f7f\">                    </span>│<span style=\"color: #7f7f7f; text-decoration-color: #7f7f7f\">                </span>│<span style=\"color: #7f7f7f; text-decoration-color: #7f7f7f\">                </span>│\n",
       "└────────────────────┴────────────────────┴────────────────┴────────────────────┴────────────────┴────────────────┘\n",
       "</pre>\n"
      ],
      "text/plain": [
       "┏━━━━━━━━━━━━━━━━━━━━┳━━━━━━━━━━━━━━━━━━━━┳━━━━━━━━━━━━━━━━┳━━━━━━━━━━━━━━━━━━━━┳━━━━━━━━━━━━━━━━┳━━━━━━━━━━━━━━━━┓\n",
       "┃\u001b[1;35m \u001b[0m\u001b[1;35mmodel             \u001b[0m\u001b[1;35m \u001b[0m┃\u001b[1;35m \u001b[0m\u001b[1;35manswer            \u001b[0m\u001b[1;35m \u001b[0m┃\u001b[1;35m \u001b[0m\u001b[1;35manswer        \u001b[0m\u001b[1;35m \u001b[0m┃\u001b[1;35m \u001b[0m\u001b[1;35manswer            \u001b[0m\u001b[1;35m \u001b[0m┃\u001b[1;35m \u001b[0m\u001b[1;35manswer        \u001b[0m\u001b[1;35m \u001b[0m┃\u001b[1;35m \u001b[0m\u001b[1;35manswer        \u001b[0m\u001b[1;35m \u001b[0m┃\n",
       "┃\u001b[1;35m \u001b[0m\u001b[1;35m.model            \u001b[0m\u001b[1;35m \u001b[0m┃\u001b[1;35m \u001b[0m\u001b[1;35m.solution_text    \u001b[0m\u001b[1;35m \u001b[0m┃\u001b[1;35m \u001b[0m\u001b[1;35m.confidence_yn\u001b[0m\u001b[1;35m \u001b[0m┃\u001b[1;35m \u001b[0m\u001b[1;35m.confidence_ft    \u001b[0m\u001b[1;35m \u001b[0m┃\u001b[1;35m \u001b[0m\u001b[1;35m.confidence_mc\u001b[0m\u001b[1;35m \u001b[0m┃\u001b[1;35m \u001b[0m\u001b[1;35m.confidence_ls\u001b[0m\u001b[1;35m \u001b[0m┃\n",
       "┡━━━━━━━━━━━━━━━━━━━━╇━━━━━━━━━━━━━━━━━━━━╇━━━━━━━━━━━━━━━━╇━━━━━━━━━━━━━━━━━━━━╇━━━━━━━━━━━━━━━━╇━━━━━━━━━━━━━━━━┩\n",
       "│\u001b[2m \u001b[0m\u001b[2mgpt-3.5-turbo     \u001b[0m\u001b[2m \u001b[0m│\u001b[2m \u001b[0m\u001b[2mThe farmer first  \u001b[0m\u001b[2m \u001b[0m│\u001b[2m \u001b[0m\u001b[2mYes           \u001b[0m\u001b[2m \u001b[0m│\u001b[2m \u001b[0m\u001b[2mYes, I am         \u001b[0m\u001b[2m \u001b[0m│\u001b[2m \u001b[0m\u001b[2mYes           \u001b[0m\u001b[2m \u001b[0m│\u001b[2m \u001b[0m\u001b[2m1             \u001b[0m\u001b[2m \u001b[0m│\n",
       "│\u001b[2m                    \u001b[0m│\u001b[2m \u001b[0m\u001b[2mtakes the goat    \u001b[0m\u001b[2m \u001b[0m│\u001b[2m                \u001b[0m│\u001b[2m \u001b[0m\u001b[2mconfident that the\u001b[0m\u001b[2m \u001b[0m│\u001b[2m                \u001b[0m│\u001b[2m                \u001b[0m│\n",
       "│\u001b[2m                    \u001b[0m│\u001b[2m \u001b[0m\u001b[2macross the river  \u001b[0m\u001b[2m \u001b[0m│\u001b[2m                \u001b[0m│\u001b[2m \u001b[0m\u001b[2msolution provided \u001b[0m\u001b[2m \u001b[0m│\u001b[2m                \u001b[0m│\u001b[2m                \u001b[0m│\n",
       "│\u001b[2m                    \u001b[0m│\u001b[2m \u001b[0m\u001b[2mand leaves it on  \u001b[0m\u001b[2m \u001b[0m│\u001b[2m                \u001b[0m│\u001b[2m \u001b[0m\u001b[2mis effective for  \u001b[0m\u001b[2m \u001b[0m│\u001b[2m                \u001b[0m│\u001b[2m                \u001b[0m│\n",
       "│\u001b[2m                    \u001b[0m│\u001b[2m \u001b[0m\u001b[2mthe other side.   \u001b[0m\u001b[2m \u001b[0m│\u001b[2m                \u001b[0m│\u001b[2m \u001b[0m\u001b[2mthe given problem.\u001b[0m\u001b[2m \u001b[0m│\u001b[2m                \u001b[0m│\u001b[2m                \u001b[0m│\n",
       "│\u001b[2m                    \u001b[0m│\u001b[2m \u001b[0m\u001b[2mThen, he goes back\u001b[0m\u001b[2m \u001b[0m│\u001b[2m                \u001b[0m│\u001b[2m \u001b[0m\u001b[2mThe sequence of   \u001b[0m\u001b[2m \u001b[0m│\u001b[2m                \u001b[0m│\u001b[2m                \u001b[0m│\n",
       "│\u001b[2m                    \u001b[0m│\u001b[2m \u001b[0m\u001b[2mand takes the wolf\u001b[0m\u001b[2m \u001b[0m│\u001b[2m                \u001b[0m│\u001b[2m \u001b[0m\u001b[2mactions ensures   \u001b[0m\u001b[2m \u001b[0m│\u001b[2m                \u001b[0m│\u001b[2m                \u001b[0m│\n",
       "│\u001b[2m                    \u001b[0m│\u001b[2m \u001b[0m\u001b[2macross. He leaves \u001b[0m\u001b[2m \u001b[0m│\u001b[2m                \u001b[0m│\u001b[2m \u001b[0m\u001b[2mthat no items are \u001b[0m\u001b[2m \u001b[0m│\u001b[2m                \u001b[0m│\u001b[2m                \u001b[0m│\n",
       "│\u001b[2m                    \u001b[0m│\u001b[2m \u001b[0m\u001b[2mthe wolf and      \u001b[0m\u001b[2m \u001b[0m│\u001b[2m                \u001b[0m│\u001b[2m \u001b[0m\u001b[2meaten during the  \u001b[0m\u001b[2m \u001b[0m│\u001b[2m                \u001b[0m│\u001b[2m                \u001b[0m│\n",
       "│\u001b[2m                    \u001b[0m│\u001b[2m \u001b[0m\u001b[2mbrings the goat   \u001b[0m\u001b[2m \u001b[0m│\u001b[2m                \u001b[0m│\u001b[2m \u001b[0m\u001b[2mcrossing of the   \u001b[0m\u001b[2m \u001b[0m│\u001b[2m                \u001b[0m│\u001b[2m                \u001b[0m│\n",
       "│\u001b[2m                    \u001b[0m│\u001b[2m \u001b[0m\u001b[2mback with him. He \u001b[0m\u001b[2m \u001b[0m│\u001b[2m                \u001b[0m│\u001b[2m \u001b[0m\u001b[2mriver.            \u001b[0m\u001b[2m \u001b[0m│\u001b[2m                \u001b[0m│\u001b[2m                \u001b[0m│\n",
       "│\u001b[2m                    \u001b[0m│\u001b[2m \u001b[0m\u001b[2mleaves the goat on\u001b[0m\u001b[2m \u001b[0m│\u001b[2m                \u001b[0m│\u001b[2m                    \u001b[0m│\u001b[2m                \u001b[0m│\u001b[2m                \u001b[0m│\n",
       "│\u001b[2m                    \u001b[0m│\u001b[2m \u001b[0m\u001b[2mthe original side \u001b[0m\u001b[2m \u001b[0m│\u001b[2m                \u001b[0m│\u001b[2m                    \u001b[0m│\u001b[2m                \u001b[0m│\u001b[2m                \u001b[0m│\n",
       "│\u001b[2m                    \u001b[0m│\u001b[2m \u001b[0m\u001b[2mand takes the     \u001b[0m\u001b[2m \u001b[0m│\u001b[2m                \u001b[0m│\u001b[2m                    \u001b[0m│\u001b[2m                \u001b[0m│\u001b[2m                \u001b[0m│\n",
       "│\u001b[2m                    \u001b[0m│\u001b[2m \u001b[0m\u001b[2mcabbage across.   \u001b[0m\u001b[2m \u001b[0m│\u001b[2m                \u001b[0m│\u001b[2m                    \u001b[0m│\u001b[2m                \u001b[0m│\u001b[2m                \u001b[0m│\n",
       "│\u001b[2m                    \u001b[0m│\u001b[2m \u001b[0m\u001b[2mFinally, he leaves\u001b[0m\u001b[2m \u001b[0m│\u001b[2m                \u001b[0m│\u001b[2m                    \u001b[0m│\u001b[2m                \u001b[0m│\u001b[2m                \u001b[0m│\n",
       "│\u001b[2m                    \u001b[0m│\u001b[2m \u001b[0m\u001b[2mthe cabbage with  \u001b[0m\u001b[2m \u001b[0m│\u001b[2m                \u001b[0m│\u001b[2m                    \u001b[0m│\u001b[2m                \u001b[0m│\u001b[2m                \u001b[0m│\n",
       "│\u001b[2m                    \u001b[0m│\u001b[2m \u001b[0m\u001b[2mthe wolf and goes \u001b[0m\u001b[2m \u001b[0m│\u001b[2m                \u001b[0m│\u001b[2m                    \u001b[0m│\u001b[2m                \u001b[0m│\u001b[2m                \u001b[0m│\n",
       "│\u001b[2m                    \u001b[0m│\u001b[2m \u001b[0m\u001b[2mback to get the   \u001b[0m\u001b[2m \u001b[0m│\u001b[2m                \u001b[0m│\u001b[2m                    \u001b[0m│\u001b[2m                \u001b[0m│\u001b[2m                \u001b[0m│\n",
       "│\u001b[2m                    \u001b[0m│\u001b[2m \u001b[0m\u001b[2mgoat. He takes the\u001b[0m\u001b[2m \u001b[0m│\u001b[2m                \u001b[0m│\u001b[2m                    \u001b[0m│\u001b[2m                \u001b[0m│\u001b[2m                \u001b[0m│\n",
       "│\u001b[2m                    \u001b[0m│\u001b[2m \u001b[0m\u001b[2mgoat across the   \u001b[0m\u001b[2m \u001b[0m│\u001b[2m                \u001b[0m│\u001b[2m                    \u001b[0m│\u001b[2m                \u001b[0m│\u001b[2m                \u001b[0m│\n",
       "│\u001b[2m                    \u001b[0m│\u001b[2m \u001b[0m\u001b[2mriver, and they   \u001b[0m\u001b[2m \u001b[0m│\u001b[2m                \u001b[0m│\u001b[2m                    \u001b[0m│\u001b[2m                \u001b[0m│\u001b[2m                \u001b[0m│\n",
       "│\u001b[2m                    \u001b[0m│\u001b[2m \u001b[0m\u001b[2mall arrive safely \u001b[0m\u001b[2m \u001b[0m│\u001b[2m                \u001b[0m│\u001b[2m                    \u001b[0m│\u001b[2m                \u001b[0m│\u001b[2m                \u001b[0m│\n",
       "│\u001b[2m                    \u001b[0m│\u001b[2m \u001b[0m\u001b[2mon the other side \u001b[0m\u001b[2m \u001b[0m│\u001b[2m                \u001b[0m│\u001b[2m                    \u001b[0m│\u001b[2m                \u001b[0m│\u001b[2m                \u001b[0m│\n",
       "│\u001b[2m                    \u001b[0m│\u001b[2m \u001b[0m\u001b[2mwithout anything  \u001b[0m\u001b[2m \u001b[0m│\u001b[2m                \u001b[0m│\u001b[2m                    \u001b[0m│\u001b[2m                \u001b[0m│\u001b[2m                \u001b[0m│\n",
       "│\u001b[2m                    \u001b[0m│\u001b[2m \u001b[0m\u001b[2mbeing eaten.      \u001b[0m\u001b[2m \u001b[0m│\u001b[2m                \u001b[0m│\u001b[2m                    \u001b[0m│\u001b[2m                \u001b[0m│\u001b[2m                \u001b[0m│\n",
       "├────────────────────┼────────────────────┼────────────────┼────────────────────┼────────────────┼────────────────┤\n",
       "│\u001b[2m \u001b[0m\u001b[2mgpt-4o            \u001b[0m\u001b[2m \u001b[0m│\u001b[2m \u001b[0m\u001b[2m1. The farmer     \u001b[0m\u001b[2m \u001b[0m│\u001b[2m \u001b[0m\u001b[2mYes           \u001b[0m\u001b[2m \u001b[0m│\u001b[2m \u001b[0m\u001b[2mYes, the solution \u001b[0m\u001b[2m \u001b[0m│\u001b[2m \u001b[0m\u001b[2mYes           \u001b[0m\u001b[2m \u001b[0m│\u001b[2m \u001b[0m\u001b[2m4             \u001b[0m\u001b[2m \u001b[0m│\n",
       "│\u001b[2m                    \u001b[0m│\u001b[2m \u001b[0m\u001b[2mtakes the goat    \u001b[0m\u001b[2m \u001b[0m│\u001b[2m                \u001b[0m│\u001b[2m \u001b[0m\u001b[2mprovided ensures  \u001b[0m\u001b[2m \u001b[0m│\u001b[2m                \u001b[0m│\u001b[2m                \u001b[0m│\n",
       "│\u001b[2m                    \u001b[0m│\u001b[2m \u001b[0m\u001b[2macross the river  \u001b[0m\u001b[2m \u001b[0m│\u001b[2m                \u001b[0m│\u001b[2m \u001b[0m\u001b[2mthat at no point  \u001b[0m\u001b[2m \u001b[0m│\u001b[2m                \u001b[0m│\u001b[2m                \u001b[0m│\n",
       "│\u001b[2m                    \u001b[0m│\u001b[2m \u001b[0m\u001b[2mand leaves it on  \u001b[0m\u001b[2m \u001b[0m│\u001b[2m                \u001b[0m│\u001b[2m \u001b[0m\u001b[2mare the wolf and  \u001b[0m\u001b[2m \u001b[0m│\u001b[2m                \u001b[0m│\u001b[2m                \u001b[0m│\n",
       "│\u001b[2m                    \u001b[0m│\u001b[2m \u001b[0m\u001b[2mthe other side. 2.\u001b[0m\u001b[2m \u001b[0m│\u001b[2m                \u001b[0m│\u001b[2m \u001b[0m\u001b[2mgoat left alone   \u001b[0m\u001b[2m \u001b[0m│\u001b[2m                \u001b[0m│\u001b[2m                \u001b[0m│\n",
       "│\u001b[2m                    \u001b[0m│\u001b[2m \u001b[0m\u001b[2mThe farmer returns\u001b[0m\u001b[2m \u001b[0m│\u001b[2m                \u001b[0m│\u001b[2m \u001b[0m\u001b[2mtogether, nor are \u001b[0m\u001b[2m \u001b[0m│\u001b[2m                \u001b[0m│\u001b[2m                \u001b[0m│\n",
       "│\u001b[2m                    \u001b[0m│\u001b[2m \u001b[0m\u001b[2malone to the      \u001b[0m\u001b[2m \u001b[0m│\u001b[2m                \u001b[0m│\u001b[2m \u001b[0m\u001b[2mthe goat and      \u001b[0m\u001b[2m \u001b[0m│\u001b[2m                \u001b[0m│\u001b[2m                \u001b[0m│\n",
       "│\u001b[2m                    \u001b[0m│\u001b[2m \u001b[0m\u001b[2moriginal side. 3. \u001b[0m\u001b[2m \u001b[0m│\u001b[2m                \u001b[0m│\u001b[2m \u001b[0m\u001b[2mcabbage left alone\u001b[0m\u001b[2m \u001b[0m│\u001b[2m                \u001b[0m│\u001b[2m                \u001b[0m│\n",
       "│\u001b[2m                    \u001b[0m│\u001b[2m \u001b[0m\u001b[2mThe farmer takes  \u001b[0m\u001b[2m \u001b[0m│\u001b[2m                \u001b[0m│\u001b[2m \u001b[0m\u001b[2mtogether. By      \u001b[0m\u001b[2m \u001b[0m│\u001b[2m                \u001b[0m│\u001b[2m                \u001b[0m│\n",
       "│\u001b[2m                    \u001b[0m│\u001b[2m \u001b[0m\u001b[2mthe wolf across   \u001b[0m\u001b[2m \u001b[0m│\u001b[2m                \u001b[0m│\u001b[2m \u001b[0m\u001b[2mcarefully managing\u001b[0m\u001b[2m \u001b[0m│\u001b[2m                \u001b[0m│\u001b[2m                \u001b[0m│\n",
       "│\u001b[2m                    \u001b[0m│\u001b[2m \u001b[0m\u001b[2mthe river. 4. The \u001b[0m\u001b[2m \u001b[0m│\u001b[2m                \u001b[0m│\u001b[2m \u001b[0m\u001b[2mthe order in which\u001b[0m\u001b[2m \u001b[0m│\u001b[2m                \u001b[0m│\u001b[2m                \u001b[0m│\n",
       "│\u001b[2m                    \u001b[0m│\u001b[2m \u001b[0m\u001b[2mfarmer leaves the \u001b[0m\u001b[2m \u001b[0m│\u001b[2m                \u001b[0m│\u001b[2m \u001b[0m\u001b[2mthe items are     \u001b[0m\u001b[2m \u001b[0m│\u001b[2m                \u001b[0m│\u001b[2m                \u001b[0m│\n",
       "│\u001b[2m                    \u001b[0m│\u001b[2m \u001b[0m\u001b[2mwolf on the other \u001b[0m\u001b[2m \u001b[0m│\u001b[2m                \u001b[0m│\u001b[2m \u001b[0m\u001b[2mtransported and   \u001b[0m\u001b[2m \u001b[0m│\u001b[2m                \u001b[0m│\u001b[2m                \u001b[0m│\n",
       "│\u001b[2m                    \u001b[0m│\u001b[2m \u001b[0m\u001b[2mside but takes the\u001b[0m\u001b[2m \u001b[0m│\u001b[2m                \u001b[0m│\u001b[2m \u001b[0m\u001b[2mensuring that the \u001b[0m\u001b[2m \u001b[0m│\u001b[2m                \u001b[0m│\u001b[2m                \u001b[0m│\n",
       "│\u001b[2m                    \u001b[0m│\u001b[2m \u001b[0m\u001b[2mgoat back with him\u001b[0m\u001b[2m \u001b[0m│\u001b[2m                \u001b[0m│\u001b[2m \u001b[0m\u001b[2mfarmer returns    \u001b[0m\u001b[2m \u001b[0m│\u001b[2m                \u001b[0m│\u001b[2m                \u001b[0m│\n",
       "│\u001b[2m                    \u001b[0m│\u001b[2m \u001b[0m\u001b[2mto the original   \u001b[0m\u001b[2m \u001b[0m│\u001b[2m                \u001b[0m│\u001b[2m \u001b[0m\u001b[2mwith the goat to  \u001b[0m\u001b[2m \u001b[0m│\u001b[2m                \u001b[0m│\u001b[2m                \u001b[0m│\n",
       "│\u001b[2m                    \u001b[0m│\u001b[2m \u001b[0m\u001b[2mside. 5. The      \u001b[0m\u001b[2m \u001b[0m│\u001b[2m                \u001b[0m│\u001b[2m \u001b[0m\u001b[2mprevent any       \u001b[0m\u001b[2m \u001b[0m│\u001b[2m                \u001b[0m│\u001b[2m                \u001b[0m│\n",
       "│\u001b[2m                    \u001b[0m│\u001b[2m \u001b[0m\u001b[2mfarmer takes the  \u001b[0m\u001b[2m \u001b[0m│\u001b[2m                \u001b[0m│\u001b[2m \u001b[0m\u001b[2mdangerous         \u001b[0m\u001b[2m \u001b[0m│\u001b[2m                \u001b[0m│\u001b[2m                \u001b[0m│\n",
       "│\u001b[2m                    \u001b[0m│\u001b[2m \u001b[0m\u001b[2mcabbage across the\u001b[0m\u001b[2m \u001b[0m│\u001b[2m                \u001b[0m│\u001b[2m \u001b[0m\u001b[2mpairings, the     \u001b[0m\u001b[2m \u001b[0m│\u001b[2m                \u001b[0m│\u001b[2m                \u001b[0m│\n",
       "│\u001b[2m                    \u001b[0m│\u001b[2m \u001b[0m\u001b[2mriver and leaves  \u001b[0m\u001b[2m \u001b[0m│\u001b[2m                \u001b[0m│\u001b[2m \u001b[0m\u001b[2mproblem is solved \u001b[0m\u001b[2m \u001b[0m│\u001b[2m                \u001b[0m│\u001b[2m                \u001b[0m│\n",
       "│\u001b[2m                    \u001b[0m│\u001b[2m \u001b[0m\u001b[2mit with the wolf. \u001b[0m\u001b[2m \u001b[0m│\u001b[2m                \u001b[0m│\u001b[2m \u001b[0m\u001b[2mefficiently and   \u001b[0m\u001b[2m \u001b[0m│\u001b[2m                \u001b[0m│\u001b[2m                \u001b[0m│\n",
       "│\u001b[2m                    \u001b[0m│\u001b[2m \u001b[0m\u001b[2m6. The farmer     \u001b[0m\u001b[2m \u001b[0m│\u001b[2m                \u001b[0m│\u001b[2m \u001b[0m\u001b[2msafely.           \u001b[0m\u001b[2m \u001b[0m│\u001b[2m                \u001b[0m│\u001b[2m                \u001b[0m│\n",
       "│\u001b[2m                    \u001b[0m│\u001b[2m \u001b[0m\u001b[2mreturns alone to  \u001b[0m\u001b[2m \u001b[0m│\u001b[2m                \u001b[0m│\u001b[2m                    \u001b[0m│\u001b[2m                \u001b[0m│\u001b[2m                \u001b[0m│\n",
       "│\u001b[2m                    \u001b[0m│\u001b[2m \u001b[0m\u001b[2mthe original side.\u001b[0m\u001b[2m \u001b[0m│\u001b[2m                \u001b[0m│\u001b[2m                    \u001b[0m│\u001b[2m                \u001b[0m│\u001b[2m                \u001b[0m│\n",
       "│\u001b[2m                    \u001b[0m│\u001b[2m \u001b[0m\u001b[2m7. The farmer     \u001b[0m\u001b[2m \u001b[0m│\u001b[2m                \u001b[0m│\u001b[2m                    \u001b[0m│\u001b[2m                \u001b[0m│\u001b[2m                \u001b[0m│\n",
       "│\u001b[2m                    \u001b[0m│\u001b[2m \u001b[0m\u001b[2mtakes the goat    \u001b[0m\u001b[2m \u001b[0m│\u001b[2m                \u001b[0m│\u001b[2m                    \u001b[0m│\u001b[2m                \u001b[0m│\u001b[2m                \u001b[0m│\n",
       "│\u001b[2m                    \u001b[0m│\u001b[2m \u001b[0m\u001b[2macross the river  \u001b[0m\u001b[2m \u001b[0m│\u001b[2m                \u001b[0m│\u001b[2m                    \u001b[0m│\u001b[2m                \u001b[0m│\u001b[2m                \u001b[0m│\n",
       "│\u001b[2m                    \u001b[0m│\u001b[2m \u001b[0m\u001b[2mone final time.   \u001b[0m\u001b[2m \u001b[0m│\u001b[2m                \u001b[0m│\u001b[2m                    \u001b[0m│\u001b[2m                \u001b[0m│\u001b[2m                \u001b[0m│\n",
       "│\u001b[2m                    \u001b[0m│\u001b[2m \u001b[0m\u001b[2mNow, all three    \u001b[0m\u001b[2m \u001b[0m│\u001b[2m                \u001b[0m│\u001b[2m                    \u001b[0m│\u001b[2m                \u001b[0m│\u001b[2m                \u001b[0m│\n",
       "│\u001b[2m                    \u001b[0m│\u001b[2m \u001b[0m\u001b[2mitems and the     \u001b[0m\u001b[2m \u001b[0m│\u001b[2m                \u001b[0m│\u001b[2m                    \u001b[0m│\u001b[2m                \u001b[0m│\u001b[2m                \u001b[0m│\n",
       "│\u001b[2m                    \u001b[0m│\u001b[2m \u001b[0m\u001b[2mfarmer are on the \u001b[0m\u001b[2m \u001b[0m│\u001b[2m                \u001b[0m│\u001b[2m                    \u001b[0m│\u001b[2m                \u001b[0m│\u001b[2m                \u001b[0m│\n",
       "│\u001b[2m                    \u001b[0m│\u001b[2m \u001b[0m\u001b[2mother side of the \u001b[0m\u001b[2m \u001b[0m│\u001b[2m                \u001b[0m│\u001b[2m                    \u001b[0m│\u001b[2m                \u001b[0m│\u001b[2m                \u001b[0m│\n",
       "│\u001b[2m                    \u001b[0m│\u001b[2m \u001b[0m\u001b[2mriver without     \u001b[0m\u001b[2m \u001b[0m│\u001b[2m                \u001b[0m│\u001b[2m                    \u001b[0m│\u001b[2m                \u001b[0m│\u001b[2m                \u001b[0m│\n",
       "│\u001b[2m                    \u001b[0m│\u001b[2m \u001b[0m\u001b[2manything being    \u001b[0m\u001b[2m \u001b[0m│\u001b[2m                \u001b[0m│\u001b[2m                    \u001b[0m│\u001b[2m                \u001b[0m│\u001b[2m                \u001b[0m│\n",
       "│\u001b[2m                    \u001b[0m│\u001b[2m \u001b[0m\u001b[2meaten.            \u001b[0m\u001b[2m \u001b[0m│\u001b[2m                \u001b[0m│\u001b[2m                    \u001b[0m│\u001b[2m                \u001b[0m│\u001b[2m                \u001b[0m│\n",
       "├────────────────────┼────────────────────┼────────────────┼────────────────────┼────────────────┼────────────────┤\n",
       "│\u001b[2m \u001b[0m\u001b[2mgpt-4-1106-preview\u001b[0m\u001b[2m \u001b[0m│\u001b[2m \u001b[0m\u001b[2m1. The farmer     \u001b[0m\u001b[2m \u001b[0m│\u001b[2m \u001b[0m\u001b[2mYes           \u001b[0m\u001b[2m \u001b[0m│\u001b[2m \u001b[0m\u001b[2mYes, the solution \u001b[0m\u001b[2m \u001b[0m│\u001b[2m \u001b[0m\u001b[2mYes           \u001b[0m\u001b[2m \u001b[0m│\u001b[2m \u001b[0m\u001b[2m1             \u001b[0m\u001b[2m \u001b[0m│\n",
       "│\u001b[2m                    \u001b[0m│\u001b[2m \u001b[0m\u001b[2mtakes the goat    \u001b[0m\u001b[2m \u001b[0m│\u001b[2m                \u001b[0m│\u001b[2m \u001b[0m\u001b[2mprovided should   \u001b[0m\u001b[2m \u001b[0m│\u001b[2m                \u001b[0m│\u001b[2m                \u001b[0m│\n",
       "│\u001b[2m                    \u001b[0m│\u001b[2m \u001b[0m\u001b[2macross the river  \u001b[0m\u001b[2m \u001b[0m│\u001b[2m                \u001b[0m│\u001b[2m \u001b[0m\u001b[2mwork. It ensures  \u001b[0m\u001b[2m \u001b[0m│\u001b[2m                \u001b[0m│\u001b[2m                \u001b[0m│\n",
       "│\u001b[2m                    \u001b[0m│\u001b[2m \u001b[0m\u001b[2mand leaves it on  \u001b[0m\u001b[2m \u001b[0m│\u001b[2m                \u001b[0m│\u001b[2m \u001b[0m\u001b[2mthat the goat is  \u001b[0m\u001b[2m \u001b[0m│\u001b[2m                \u001b[0m│\u001b[2m                \u001b[0m│\n",
       "│\u001b[2m                    \u001b[0m│\u001b[2m \u001b[0m\u001b[2mthe other side. 2.\u001b[0m\u001b[2m \u001b[0m│\u001b[2m                \u001b[0m│\u001b[2m \u001b[0m\u001b[2mnot left alone    \u001b[0m\u001b[2m \u001b[0m│\u001b[2m                \u001b[0m│\u001b[2m                \u001b[0m│\n",
       "│\u001b[2m                    \u001b[0m│\u001b[2m \u001b[0m\u001b[2mThe farmer returns\u001b[0m\u001b[2m \u001b[0m│\u001b[2m                \u001b[0m│\u001b[2m \u001b[0m\u001b[2mwith the cabbage  \u001b[0m\u001b[2m \u001b[0m│\u001b[2m                \u001b[0m│\u001b[2m                \u001b[0m│\n",
       "│\u001b[2m                    \u001b[0m│\u001b[2m \u001b[0m\u001b[2malone to the      \u001b[0m\u001b[2m \u001b[0m│\u001b[2m                \u001b[0m│\u001b[2m \u001b[0m\u001b[2mor the wolf at any\u001b[0m\u001b[2m \u001b[0m│\u001b[2m                \u001b[0m│\u001b[2m                \u001b[0m│\n",
       "│\u001b[2m                    \u001b[0m│\u001b[2m \u001b[0m\u001b[2moriginal side and \u001b[0m\u001b[2m \u001b[0m│\u001b[2m                \u001b[0m│\u001b[2m \u001b[0m\u001b[2mpoint, which would\u001b[0m\u001b[2m \u001b[0m│\u001b[2m                \u001b[0m│\u001b[2m                \u001b[0m│\n",
       "│\u001b[2m                    \u001b[0m│\u001b[2m \u001b[0m\u001b[2mtakes the cabbage \u001b[0m\u001b[2m \u001b[0m│\u001b[2m                \u001b[0m│\u001b[2m \u001b[0m\u001b[2mprevent it from   \u001b[0m\u001b[2m \u001b[0m│\u001b[2m                \u001b[0m│\u001b[2m                \u001b[0m│\n",
       "│\u001b[2m                    \u001b[0m│\u001b[2m \u001b[0m\u001b[2macross the river. \u001b[0m\u001b[2m \u001b[0m│\u001b[2m                \u001b[0m│\u001b[2m \u001b[0m\u001b[2mbeing eaten. The  \u001b[0m\u001b[2m \u001b[0m│\u001b[2m                \u001b[0m│\u001b[2m                \u001b[0m│\n",
       "│\u001b[2m                    \u001b[0m│\u001b[2m \u001b[0m\u001b[2m3. The farmer     \u001b[0m\u001b[2m \u001b[0m│\u001b[2m                \u001b[0m│\u001b[2m \u001b[0m\u001b[2mwolf and the      \u001b[0m\u001b[2m \u001b[0m│\u001b[2m                \u001b[0m│\u001b[2m                \u001b[0m│\n",
       "│\u001b[2m                    \u001b[0m│\u001b[2m \u001b[0m\u001b[2mleaves the cabbage\u001b[0m\u001b[2m \u001b[0m│\u001b[2m                \u001b[0m│\u001b[2m \u001b[0m\u001b[2mcabbage can be    \u001b[0m\u001b[2m \u001b[0m│\u001b[2m                \u001b[0m│\u001b[2m                \u001b[0m│\n",
       "│\u001b[2m                    \u001b[0m│\u001b[2m \u001b[0m\u001b[2mon the other side \u001b[0m\u001b[2m \u001b[0m│\u001b[2m                \u001b[0m│\u001b[2m \u001b[0m\u001b[2mleft alone        \u001b[0m\u001b[2m \u001b[0m│\u001b[2m                \u001b[0m│\u001b[2m                \u001b[0m│\n",
       "│\u001b[2m                    \u001b[0m│\u001b[2m \u001b[0m\u001b[2mand takes the goat\u001b[0m\u001b[2m \u001b[0m│\u001b[2m                \u001b[0m│\u001b[2m \u001b[0m\u001b[2mtogether without  \u001b[0m\u001b[2m \u001b[0m│\u001b[2m                \u001b[0m│\u001b[2m                \u001b[0m│\n",
       "│\u001b[2m                    \u001b[0m│\u001b[2m \u001b[0m\u001b[2mback across the   \u001b[0m\u001b[2m \u001b[0m│\u001b[2m                \u001b[0m│\u001b[2m \u001b[0m\u001b[2mrisk, as the wolf \u001b[0m\u001b[2m \u001b[0m│\u001b[2m                \u001b[0m│\u001b[2m                \u001b[0m│\n",
       "│\u001b[2m                    \u001b[0m│\u001b[2m \u001b[0m\u001b[2mriver. 4. The     \u001b[0m\u001b[2m \u001b[0m│\u001b[2m                \u001b[0m│\u001b[2m \u001b[0m\u001b[2mdoes not eat      \u001b[0m\u001b[2m \u001b[0m│\u001b[2m                \u001b[0m│\u001b[2m                \u001b[0m│\n",
       "│\u001b[2m                    \u001b[0m│\u001b[2m \u001b[0m\u001b[2mfarmer leaves the \u001b[0m\u001b[2m \u001b[0m│\u001b[2m                \u001b[0m│\u001b[2m \u001b[0m\u001b[2mcabbage. By       \u001b[0m\u001b[2m \u001b[0m│\u001b[2m                \u001b[0m│\u001b[2m                \u001b[0m│\n",
       "│\u001b[2m                    \u001b[0m│\u001b[2m \u001b[0m\u001b[2mgoat on the       \u001b[0m\u001b[2m \u001b[0m│\u001b[2m                \u001b[0m│\u001b[2m \u001b[0m\u001b[2mfollowing these   \u001b[0m\u001b[2m \u001b[0m│\u001b[2m                \u001b[0m│\u001b[2m                \u001b[0m│\n",
       "│\u001b[2m                    \u001b[0m│\u001b[2m \u001b[0m\u001b[2moriginal side and \u001b[0m\u001b[2m \u001b[0m│\u001b[2m                \u001b[0m│\u001b[2m \u001b[0m\u001b[2msteps, the farmer \u001b[0m\u001b[2m \u001b[0m│\u001b[2m                \u001b[0m│\u001b[2m                \u001b[0m│\n",
       "│\u001b[2m                    \u001b[0m│\u001b[2m \u001b[0m\u001b[2mtakes the wolf    \u001b[0m\u001b[2m \u001b[0m│\u001b[2m                \u001b[0m│\u001b[2m \u001b[0m\u001b[2mcan successfully  \u001b[0m\u001b[2m \u001b[0m│\u001b[2m                \u001b[0m│\u001b[2m                \u001b[0m│\n",
       "│\u001b[2m                    \u001b[0m│\u001b[2m \u001b[0m\u001b[2macross the river. \u001b[0m\u001b[2m \u001b[0m│\u001b[2m                \u001b[0m│\u001b[2m \u001b[0m\u001b[2mtransport all     \u001b[0m\u001b[2m \u001b[0m│\u001b[2m                \u001b[0m│\u001b[2m                \u001b[0m│\n",
       "│\u001b[2m                    \u001b[0m│\u001b[2m \u001b[0m\u001b[2m5. The farmer     \u001b[0m\u001b[2m \u001b[0m│\u001b[2m                \u001b[0m│\u001b[2m \u001b[0m\u001b[2mitems across the  \u001b[0m\u001b[2m \u001b[0m│\u001b[2m                \u001b[0m│\u001b[2m                \u001b[0m│\n",
       "│\u001b[2m                    \u001b[0m│\u001b[2m \u001b[0m\u001b[2mleaves the wolf   \u001b[0m\u001b[2m \u001b[0m│\u001b[2m                \u001b[0m│\u001b[2m \u001b[0m\u001b[2mriver without any \u001b[0m\u001b[2m \u001b[0m│\u001b[2m                \u001b[0m│\u001b[2m                \u001b[0m│\n",
       "│\u001b[2m                    \u001b[0m│\u001b[2m \u001b[0m\u001b[2mwith the cabbage  \u001b[0m\u001b[2m \u001b[0m│\u001b[2m                \u001b[0m│\u001b[2m \u001b[0m\u001b[2mharm.             \u001b[0m\u001b[2m \u001b[0m│\u001b[2m                \u001b[0m│\u001b[2m                \u001b[0m│\n",
       "│\u001b[2m                    \u001b[0m│\u001b[2m \u001b[0m\u001b[2mon the other side \u001b[0m\u001b[2m \u001b[0m│\u001b[2m                \u001b[0m│\u001b[2m                    \u001b[0m│\u001b[2m                \u001b[0m│\u001b[2m                \u001b[0m│\n",
       "│\u001b[2m                    \u001b[0m│\u001b[2m \u001b[0m\u001b[2mand returns alone \u001b[0m\u001b[2m \u001b[0m│\u001b[2m                \u001b[0m│\u001b[2m                    \u001b[0m│\u001b[2m                \u001b[0m│\u001b[2m                \u001b[0m│\n",
       "│\u001b[2m                    \u001b[0m│\u001b[2m \u001b[0m\u001b[2mto get the goat.  \u001b[0m\u001b[2m \u001b[0m│\u001b[2m                \u001b[0m│\u001b[2m                    \u001b[0m│\u001b[2m                \u001b[0m│\u001b[2m                \u001b[0m│\n",
       "│\u001b[2m                    \u001b[0m│\u001b[2m \u001b[0m\u001b[2m6. The farmer     \u001b[0m\u001b[2m \u001b[0m│\u001b[2m                \u001b[0m│\u001b[2m                    \u001b[0m│\u001b[2m                \u001b[0m│\u001b[2m                \u001b[0m│\n",
       "│\u001b[2m                    \u001b[0m│\u001b[2m \u001b[0m\u001b[2mtakes the goat    \u001b[0m\u001b[2m \u001b[0m│\u001b[2m                \u001b[0m│\u001b[2m                    \u001b[0m│\u001b[2m                \u001b[0m│\u001b[2m                \u001b[0m│\n",
       "│\u001b[2m                    \u001b[0m│\u001b[2m \u001b[0m\u001b[2macross the river  \u001b[0m\u001b[2m \u001b[0m│\u001b[2m                \u001b[0m│\u001b[2m                    \u001b[0m│\u001b[2m                \u001b[0m│\u001b[2m                \u001b[0m│\n",
       "│\u001b[2m                    \u001b[0m│\u001b[2m \u001b[0m\u001b[2mone final time.   \u001b[0m\u001b[2m \u001b[0m│\u001b[2m                \u001b[0m│\u001b[2m                    \u001b[0m│\u001b[2m                \u001b[0m│\u001b[2m                \u001b[0m│\n",
       "│\u001b[2m                    \u001b[0m│\u001b[2m \u001b[0m\u001b[2mNow, all are on   \u001b[0m\u001b[2m \u001b[0m│\u001b[2m                \u001b[0m│\u001b[2m                    \u001b[0m│\u001b[2m                \u001b[0m│\u001b[2m                \u001b[0m│\n",
       "│\u001b[2m                    \u001b[0m│\u001b[2m \u001b[0m\u001b[2mthe other side of \u001b[0m\u001b[2m \u001b[0m│\u001b[2m                \u001b[0m│\u001b[2m                    \u001b[0m│\u001b[2m                \u001b[0m│\u001b[2m                \u001b[0m│\n",
       "│\u001b[2m                    \u001b[0m│\u001b[2m \u001b[0m\u001b[2mthe river safely. \u001b[0m\u001b[2m \u001b[0m│\u001b[2m                \u001b[0m│\u001b[2m                    \u001b[0m│\u001b[2m                \u001b[0m│\u001b[2m                \u001b[0m│\n",
       "└────────────────────┴────────────────────┴────────────────┴────────────────────┴────────────────┴────────────────┘\n"
      ]
     },
     "metadata": {},
     "output_type": "display_data"
    }
   ],
   "source": [
    "results = survey.by(models).run()\n",
    "\n",
    "results.select(\"model\", \"solution_text\", \"confidence_yn\", \"confidence_ft\", \"confidence_mc\", \"confidence_ls\").print(format=\"rich\")"
   ]
  },
  {
   "cell_type": "markdown",
   "id": "08eea315-b49a-47a0-8a6c-d88e8e169a8d",
   "metadata": {},
   "source": [
    "We can also try experimenting with the form our of original question prompting the model to provide a solution to the problem. Does it do a better job with a different question type?"
   ]
  },
  {
   "cell_type": "code",
   "execution_count": 18,
   "id": "beaaf8ef-82b2-46cb-b5fb-e1ee86b9fabb",
   "metadata": {},
   "outputs": [],
   "source": [
    "from edsl.questions import QuestionList\n",
    "\n",
    "q_solution_list = QuestionList(\n",
    "    question_name = \"solution_list\",\n",
    "    question_text = problem + note + \"Provide an efficient, concise solution to this problem.\" +\n",
    "    \"\"\"Format your response as a list of steps: \n",
    "    'Farmer takes <item> from left to right', 'Farmer <moves alone or takes item> from right to left', etc.\"\"\"\n",
    ")"
   ]
  },
  {
   "cell_type": "markdown",
   "id": "f1b17d30-d3c1-4859-9e58-c8215f4d49cb",
   "metadata": {},
   "source": [
    "Now we run the same follow-on questions for the new original question:"
   ]
  },
  {
   "cell_type": "code",
   "execution_count": 19,
   "id": "3fecba2e-d52b-42ba-9f85-f5fe466ea40b",
   "metadata": {},
   "outputs": [
    {
     "data": {
      "text/html": [
       "<pre style=\"white-space:pre;overflow-x:auto;line-height:normal;font-family:Menlo,'DejaVu Sans Mono',consolas,'Courier New',monospace\">┏━━━━━━━━━━━━━━━━━━━━━━━━━━━━━━━┳━━━━━━━━━━━━━━━━┳━━━━━━━━━━━━━━━━━━━━━━━━━━━━━━┳━━━━━━━━━━━━━━━━┳━━━━━━━━━━━━━━━━┓\n",
       "┃<span style=\"color: #800080; text-decoration-color: #800080; font-weight: bold\"> answer                        </span>┃<span style=\"color: #800080; text-decoration-color: #800080; font-weight: bold\"> answer         </span>┃<span style=\"color: #800080; text-decoration-color: #800080; font-weight: bold\"> answer                       </span>┃<span style=\"color: #800080; text-decoration-color: #800080; font-weight: bold\"> answer         </span>┃<span style=\"color: #800080; text-decoration-color: #800080; font-weight: bold\"> answer         </span>┃\n",
       "┃<span style=\"color: #800080; text-decoration-color: #800080; font-weight: bold\"> .solution_list                </span>┃<span style=\"color: #800080; text-decoration-color: #800080; font-weight: bold\"> .confidence_yn </span>┃<span style=\"color: #800080; text-decoration-color: #800080; font-weight: bold\"> .confidence_ft               </span>┃<span style=\"color: #800080; text-decoration-color: #800080; font-weight: bold\"> .confidence_mc </span>┃<span style=\"color: #800080; text-decoration-color: #800080; font-weight: bold\"> .confidence_ls </span>┃\n",
       "┡━━━━━━━━━━━━━━━━━━━━━━━━━━━━━━━╇━━━━━━━━━━━━━━━━╇━━━━━━━━━━━━━━━━━━━━━━━━━━━━━━╇━━━━━━━━━━━━━━━━╇━━━━━━━━━━━━━━━━┩\n",
       "│<span style=\"color: #7f7f7f; text-decoration-color: #7f7f7f\"> ['Farmer takes goat from left </span>│<span style=\"color: #7f7f7f; text-decoration-color: #7f7f7f\"> Yes            </span>│<span style=\"color: #7f7f7f; text-decoration-color: #7f7f7f\"> Yes, the solution provided   </span>│<span style=\"color: #7f7f7f; text-decoration-color: #7f7f7f\"> Yes            </span>│<span style=\"color: #7f7f7f; text-decoration-color: #7f7f7f\"> 1              </span>│\n",
       "│<span style=\"color: #7f7f7f; text-decoration-color: #7f7f7f\"> to right', 'Farmer moves      </span>│<span style=\"color: #7f7f7f; text-decoration-color: #7f7f7f\">                </span>│<span style=\"color: #7f7f7f; text-decoration-color: #7f7f7f\"> for the river crossing       </span>│<span style=\"color: #7f7f7f; text-decoration-color: #7f7f7f\">                </span>│<span style=\"color: #7f7f7f; text-decoration-color: #7f7f7f\">                </span>│\n",
       "│<span style=\"color: #7f7f7f; text-decoration-color: #7f7f7f\"> alone from right to left',    </span>│<span style=\"color: #7f7f7f; text-decoration-color: #7f7f7f\">                </span>│<span style=\"color: #7f7f7f; text-decoration-color: #7f7f7f\"> puzzle works. It ensures     </span>│<span style=\"color: #7f7f7f; text-decoration-color: #7f7f7f\">                </span>│<span style=\"color: #7f7f7f; text-decoration-color: #7f7f7f\">                </span>│\n",
       "│<span style=\"color: #7f7f7f; text-decoration-color: #7f7f7f\"> 'Farmer takes cabbage from    </span>│<span style=\"color: #7f7f7f; text-decoration-color: #7f7f7f\">                </span>│<span style=\"color: #7f7f7f; text-decoration-color: #7f7f7f\"> that the goat is never left  </span>│<span style=\"color: #7f7f7f; text-decoration-color: #7f7f7f\">                </span>│<span style=\"color: #7f7f7f; text-decoration-color: #7f7f7f\">                </span>│\n",
       "│<span style=\"color: #7f7f7f; text-decoration-color: #7f7f7f\"> left to right', 'Farmer takes </span>│<span style=\"color: #7f7f7f; text-decoration-color: #7f7f7f\">                </span>│<span style=\"color: #7f7f7f; text-decoration-color: #7f7f7f\"> with the cabbage or the wolf </span>│<span style=\"color: #7f7f7f; text-decoration-color: #7f7f7f\">                </span>│<span style=\"color: #7f7f7f; text-decoration-color: #7f7f7f\">                </span>│\n",
       "│<span style=\"color: #7f7f7f; text-decoration-color: #7f7f7f\"> goat from right to left',     </span>│<span style=\"color: #7f7f7f; text-decoration-color: #7f7f7f\">                </span>│<span style=\"color: #7f7f7f; text-decoration-color: #7f7f7f\"> without the farmer's         </span>│<span style=\"color: #7f7f7f; text-decoration-color: #7f7f7f\">                </span>│<span style=\"color: #7f7f7f; text-decoration-color: #7f7f7f\">                </span>│\n",
       "│<span style=\"color: #7f7f7f; text-decoration-color: #7f7f7f\"> 'Farmer takes wolf from left  </span>│<span style=\"color: #7f7f7f; text-decoration-color: #7f7f7f\">                </span>│<span style=\"color: #7f7f7f; text-decoration-color: #7f7f7f\"> supervision, thus preventing </span>│<span style=\"color: #7f7f7f; text-decoration-color: #7f7f7f\">                </span>│<span style=\"color: #7f7f7f; text-decoration-color: #7f7f7f\">                </span>│\n",
       "│<span style=\"color: #7f7f7f; text-decoration-color: #7f7f7f\"> to right', 'Farmer moves      </span>│<span style=\"color: #7f7f7f; text-decoration-color: #7f7f7f\">                </span>│<span style=\"color: #7f7f7f; text-decoration-color: #7f7f7f\"> any of the items from being  </span>│<span style=\"color: #7f7f7f; text-decoration-color: #7f7f7f\">                </span>│<span style=\"color: #7f7f7f; text-decoration-color: #7f7f7f\">                </span>│\n",
       "│<span style=\"color: #7f7f7f; text-decoration-color: #7f7f7f\"> alone from right to left',    </span>│<span style=\"color: #7f7f7f; text-decoration-color: #7f7f7f\">                </span>│<span style=\"color: #7f7f7f; text-decoration-color: #7f7f7f\"> eaten. By strategically      </span>│<span style=\"color: #7f7f7f; text-decoration-color: #7f7f7f\">                </span>│<span style=\"color: #7f7f7f; text-decoration-color: #7f7f7f\">                </span>│\n",
       "│<span style=\"color: #7f7f7f; text-decoration-color: #7f7f7f\"> 'Farmer takes goat from left  </span>│<span style=\"color: #7f7f7f; text-decoration-color: #7f7f7f\">                </span>│<span style=\"color: #7f7f7f; text-decoration-color: #7f7f7f\"> moving the goat first, then  </span>│<span style=\"color: #7f7f7f; text-decoration-color: #7f7f7f\">                </span>│<span style=\"color: #7f7f7f; text-decoration-color: #7f7f7f\">                </span>│\n",
       "│<span style=\"color: #7f7f7f; text-decoration-color: #7f7f7f\"> to right']                    </span>│<span style=\"color: #7f7f7f; text-decoration-color: #7f7f7f\">                </span>│<span style=\"color: #7f7f7f; text-decoration-color: #7f7f7f\"> the cabbage, and later the   </span>│<span style=\"color: #7f7f7f; text-decoration-color: #7f7f7f\">                </span>│<span style=\"color: #7f7f7f; text-decoration-color: #7f7f7f\">                </span>│\n",
       "│<span style=\"color: #7f7f7f; text-decoration-color: #7f7f7f\">                               </span>│<span style=\"color: #7f7f7f; text-decoration-color: #7f7f7f\">                </span>│<span style=\"color: #7f7f7f; text-decoration-color: #7f7f7f\"> wolf, while also bringing    </span>│<span style=\"color: #7f7f7f; text-decoration-color: #7f7f7f\">                </span>│<span style=\"color: #7f7f7f; text-decoration-color: #7f7f7f\">                </span>│\n",
       "│<span style=\"color: #7f7f7f; text-decoration-color: #7f7f7f\">                               </span>│<span style=\"color: #7f7f7f; text-decoration-color: #7f7f7f\">                </span>│<span style=\"color: #7f7f7f; text-decoration-color: #7f7f7f\"> the goat back to the         </span>│<span style=\"color: #7f7f7f; text-decoration-color: #7f7f7f\">                </span>│<span style=\"color: #7f7f7f; text-decoration-color: #7f7f7f\">                </span>│\n",
       "│<span style=\"color: #7f7f7f; text-decoration-color: #7f7f7f\">                               </span>│<span style=\"color: #7f7f7f; text-decoration-color: #7f7f7f\">                </span>│<span style=\"color: #7f7f7f; text-decoration-color: #7f7f7f\"> original side temporarily,   </span>│<span style=\"color: #7f7f7f; text-decoration-color: #7f7f7f\">                </span>│<span style=\"color: #7f7f7f; text-decoration-color: #7f7f7f\">                </span>│\n",
       "│<span style=\"color: #7f7f7f; text-decoration-color: #7f7f7f\">                               </span>│<span style=\"color: #7f7f7f; text-decoration-color: #7f7f7f\">                </span>│<span style=\"color: #7f7f7f; text-decoration-color: #7f7f7f\"> the farmer successfully      </span>│<span style=\"color: #7f7f7f; text-decoration-color: #7f7f7f\">                </span>│<span style=\"color: #7f7f7f; text-decoration-color: #7f7f7f\">                </span>│\n",
       "│<span style=\"color: #7f7f7f; text-decoration-color: #7f7f7f\">                               </span>│<span style=\"color: #7f7f7f; text-decoration-color: #7f7f7f\">                </span>│<span style=\"color: #7f7f7f; text-decoration-color: #7f7f7f\"> transports all items across  </span>│<span style=\"color: #7f7f7f; text-decoration-color: #7f7f7f\">                </span>│<span style=\"color: #7f7f7f; text-decoration-color: #7f7f7f\">                </span>│\n",
       "│<span style=\"color: #7f7f7f; text-decoration-color: #7f7f7f\">                               </span>│<span style=\"color: #7f7f7f; text-decoration-color: #7f7f7f\">                </span>│<span style=\"color: #7f7f7f; text-decoration-color: #7f7f7f\"> the river safely.            </span>│<span style=\"color: #7f7f7f; text-decoration-color: #7f7f7f\">                </span>│<span style=\"color: #7f7f7f; text-decoration-color: #7f7f7f\">                </span>│\n",
       "└───────────────────────────────┴────────────────┴──────────────────────────────┴────────────────┴────────────────┘\n",
       "</pre>\n"
      ],
      "text/plain": [
       "┏━━━━━━━━━━━━━━━━━━━━━━━━━━━━━━━┳━━━━━━━━━━━━━━━━┳━━━━━━━━━━━━━━━━━━━━━━━━━━━━━━┳━━━━━━━━━━━━━━━━┳━━━━━━━━━━━━━━━━┓\n",
       "┃\u001b[1;35m \u001b[0m\u001b[1;35manswer                       \u001b[0m\u001b[1;35m \u001b[0m┃\u001b[1;35m \u001b[0m\u001b[1;35manswer        \u001b[0m\u001b[1;35m \u001b[0m┃\u001b[1;35m \u001b[0m\u001b[1;35manswer                      \u001b[0m\u001b[1;35m \u001b[0m┃\u001b[1;35m \u001b[0m\u001b[1;35manswer        \u001b[0m\u001b[1;35m \u001b[0m┃\u001b[1;35m \u001b[0m\u001b[1;35manswer        \u001b[0m\u001b[1;35m \u001b[0m┃\n",
       "┃\u001b[1;35m \u001b[0m\u001b[1;35m.solution_list               \u001b[0m\u001b[1;35m \u001b[0m┃\u001b[1;35m \u001b[0m\u001b[1;35m.confidence_yn\u001b[0m\u001b[1;35m \u001b[0m┃\u001b[1;35m \u001b[0m\u001b[1;35m.confidence_ft              \u001b[0m\u001b[1;35m \u001b[0m┃\u001b[1;35m \u001b[0m\u001b[1;35m.confidence_mc\u001b[0m\u001b[1;35m \u001b[0m┃\u001b[1;35m \u001b[0m\u001b[1;35m.confidence_ls\u001b[0m\u001b[1;35m \u001b[0m┃\n",
       "┡━━━━━━━━━━━━━━━━━━━━━━━━━━━━━━━╇━━━━━━━━━━━━━━━━╇━━━━━━━━━━━━━━━━━━━━━━━━━━━━━━╇━━━━━━━━━━━━━━━━╇━━━━━━━━━━━━━━━━┩\n",
       "│\u001b[2m \u001b[0m\u001b[2m['Farmer takes goat from left\u001b[0m\u001b[2m \u001b[0m│\u001b[2m \u001b[0m\u001b[2mYes           \u001b[0m\u001b[2m \u001b[0m│\u001b[2m \u001b[0m\u001b[2mYes, the solution provided  \u001b[0m\u001b[2m \u001b[0m│\u001b[2m \u001b[0m\u001b[2mYes           \u001b[0m\u001b[2m \u001b[0m│\u001b[2m \u001b[0m\u001b[2m1             \u001b[0m\u001b[2m \u001b[0m│\n",
       "│\u001b[2m \u001b[0m\u001b[2mto right', 'Farmer moves     \u001b[0m\u001b[2m \u001b[0m│\u001b[2m                \u001b[0m│\u001b[2m \u001b[0m\u001b[2mfor the river crossing      \u001b[0m\u001b[2m \u001b[0m│\u001b[2m                \u001b[0m│\u001b[2m                \u001b[0m│\n",
       "│\u001b[2m \u001b[0m\u001b[2malone from right to left',   \u001b[0m\u001b[2m \u001b[0m│\u001b[2m                \u001b[0m│\u001b[2m \u001b[0m\u001b[2mpuzzle works. It ensures    \u001b[0m\u001b[2m \u001b[0m│\u001b[2m                \u001b[0m│\u001b[2m                \u001b[0m│\n",
       "│\u001b[2m \u001b[0m\u001b[2m'Farmer takes cabbage from   \u001b[0m\u001b[2m \u001b[0m│\u001b[2m                \u001b[0m│\u001b[2m \u001b[0m\u001b[2mthat the goat is never left \u001b[0m\u001b[2m \u001b[0m│\u001b[2m                \u001b[0m│\u001b[2m                \u001b[0m│\n",
       "│\u001b[2m \u001b[0m\u001b[2mleft to right', 'Farmer takes\u001b[0m\u001b[2m \u001b[0m│\u001b[2m                \u001b[0m│\u001b[2m \u001b[0m\u001b[2mwith the cabbage or the wolf\u001b[0m\u001b[2m \u001b[0m│\u001b[2m                \u001b[0m│\u001b[2m                \u001b[0m│\n",
       "│\u001b[2m \u001b[0m\u001b[2mgoat from right to left',    \u001b[0m\u001b[2m \u001b[0m│\u001b[2m                \u001b[0m│\u001b[2m \u001b[0m\u001b[2mwithout the farmer's        \u001b[0m\u001b[2m \u001b[0m│\u001b[2m                \u001b[0m│\u001b[2m                \u001b[0m│\n",
       "│\u001b[2m \u001b[0m\u001b[2m'Farmer takes wolf from left \u001b[0m\u001b[2m \u001b[0m│\u001b[2m                \u001b[0m│\u001b[2m \u001b[0m\u001b[2msupervision, thus preventing\u001b[0m\u001b[2m \u001b[0m│\u001b[2m                \u001b[0m│\u001b[2m                \u001b[0m│\n",
       "│\u001b[2m \u001b[0m\u001b[2mto right', 'Farmer moves     \u001b[0m\u001b[2m \u001b[0m│\u001b[2m                \u001b[0m│\u001b[2m \u001b[0m\u001b[2many of the items from being \u001b[0m\u001b[2m \u001b[0m│\u001b[2m                \u001b[0m│\u001b[2m                \u001b[0m│\n",
       "│\u001b[2m \u001b[0m\u001b[2malone from right to left',   \u001b[0m\u001b[2m \u001b[0m│\u001b[2m                \u001b[0m│\u001b[2m \u001b[0m\u001b[2meaten. By strategically     \u001b[0m\u001b[2m \u001b[0m│\u001b[2m                \u001b[0m│\u001b[2m                \u001b[0m│\n",
       "│\u001b[2m \u001b[0m\u001b[2m'Farmer takes goat from left \u001b[0m\u001b[2m \u001b[0m│\u001b[2m                \u001b[0m│\u001b[2m \u001b[0m\u001b[2mmoving the goat first, then \u001b[0m\u001b[2m \u001b[0m│\u001b[2m                \u001b[0m│\u001b[2m                \u001b[0m│\n",
       "│\u001b[2m \u001b[0m\u001b[2mto right']                   \u001b[0m\u001b[2m \u001b[0m│\u001b[2m                \u001b[0m│\u001b[2m \u001b[0m\u001b[2mthe cabbage, and later the  \u001b[0m\u001b[2m \u001b[0m│\u001b[2m                \u001b[0m│\u001b[2m                \u001b[0m│\n",
       "│\u001b[2m                               \u001b[0m│\u001b[2m                \u001b[0m│\u001b[2m \u001b[0m\u001b[2mwolf, while also bringing   \u001b[0m\u001b[2m \u001b[0m│\u001b[2m                \u001b[0m│\u001b[2m                \u001b[0m│\n",
       "│\u001b[2m                               \u001b[0m│\u001b[2m                \u001b[0m│\u001b[2m \u001b[0m\u001b[2mthe goat back to the        \u001b[0m\u001b[2m \u001b[0m│\u001b[2m                \u001b[0m│\u001b[2m                \u001b[0m│\n",
       "│\u001b[2m                               \u001b[0m│\u001b[2m                \u001b[0m│\u001b[2m \u001b[0m\u001b[2moriginal side temporarily,  \u001b[0m\u001b[2m \u001b[0m│\u001b[2m                \u001b[0m│\u001b[2m                \u001b[0m│\n",
       "│\u001b[2m                               \u001b[0m│\u001b[2m                \u001b[0m│\u001b[2m \u001b[0m\u001b[2mthe farmer successfully     \u001b[0m\u001b[2m \u001b[0m│\u001b[2m                \u001b[0m│\u001b[2m                \u001b[0m│\n",
       "│\u001b[2m                               \u001b[0m│\u001b[2m                \u001b[0m│\u001b[2m \u001b[0m\u001b[2mtransports all items across \u001b[0m\u001b[2m \u001b[0m│\u001b[2m                \u001b[0m│\u001b[2m                \u001b[0m│\n",
       "│\u001b[2m                               \u001b[0m│\u001b[2m                \u001b[0m│\u001b[2m \u001b[0m\u001b[2mthe river safely.           \u001b[0m\u001b[2m \u001b[0m│\u001b[2m                \u001b[0m│\u001b[2m                \u001b[0m│\n",
       "└───────────────────────────────┴────────────────┴──────────────────────────────┴────────────────┴────────────────┘\n"
      ]
     },
     "metadata": {},
     "output_type": "display_data"
    }
   ],
   "source": [
    "survey = Survey([q_solution_list, q_confidence1, q_confidence2, q_confidence3, q_confidence4])\n",
    "\n",
    "survey = (survey\n",
    "          .add_targeted_memory(q_confidence1, q_solution_list)\n",
    "          .add_targeted_memory(q_confidence2, q_solution_list)\n",
    "          .add_targeted_memory(q_confidence3, q_solution_list)\n",
    "          .add_targeted_memory(q_confidence4, q_solution_list)\n",
    "         )\n",
    "\n",
    "results = survey.by(agent).by(model).run()\n",
    "\n",
    "results.select(\"solution_list\", \"confidence_yn\", \"confidence_ft\", \"confidence_mc\", \"confidence_ls\").print(format=\"rich\")"
   ]
  },
  {
   "cell_type": "code",
   "execution_count": null,
   "id": "1daa97ef-3d83-4109-a88b-e52d1458ae66",
   "metadata": {},
   "outputs": [],
   "source": []
  },
  {
   "cell_type": "markdown",
   "id": "2827fcdf-eccb-4c17-bcd2-4f51c272f9af",
   "metadata": {},
   "source": [
    "## Selecting solutions\n",
    "In this section we ask models to select a correct solution from a set of otherwise incorrect solutions. We also ask them about a correct solution, similar to our process above except that the model is simply presented the solution, not any context that it also drafted the solution.\n",
    "\n",
    "First we identify some correct solutions in different forms:"
   ]
  },
  {
   "cell_type": "code",
   "execution_count": 21,
   "id": "f60499a8-c85d-4cc7-8974-e3f25077ba4b",
   "metadata": {},
   "outputs": [
    {
     "data": {
      "text/plain": [
       "'1. The farmer takes the goat across the river and leaves it on the other side. 2. The farmer returns alone to the original side and takes the cabbage across the river. 3. The farmer leaves the cabbage on the other side and takes the goat back across the river. 4. The farmer leaves the goat on the original side and takes the wolf across the river. 5. The farmer leaves the wolf with the cabbage on the other side and returns alone to get the goat. 6. The farmer takes the goat across the river one final time. Now, all are on the other side of the river safely.'"
      ]
     },
     "execution_count": 21,
     "metadata": {},
     "output_type": "execute_result"
    }
   ],
   "source": [
    "solution_text = q_solution_text.run().select(\"solution_text\").to_list()[0]\n",
    "solution_text"
   ]
  },
  {
   "cell_type": "code",
   "execution_count": 23,
   "id": "a651d1ba-0f32-454a-b1c5-e9d258cabe51",
   "metadata": {},
   "outputs": [
    {
     "data": {
      "text/plain": [
       "['Farmer takes goat from left to right',\n",
       " 'Farmer moves alone from right to left',\n",
       " 'Farmer takes cabbage from left to right',\n",
       " 'Farmer takes goat from right to left',\n",
       " 'Farmer takes wolf from left to right',\n",
       " 'Farmer moves alone from right to left',\n",
       " 'Farmer takes goat from left to right']"
      ]
     },
     "execution_count": 23,
     "metadata": {},
     "output_type": "execute_result"
    }
   ],
   "source": [
    "solution_list = q_solution_list.run().select(\"solution_list\").to_list()[0]\n",
    "solution_list"
   ]
  },
  {
   "cell_type": "markdown",
   "id": "6a8bec7a-579b-47fe-aac4-a288adb03da9",
   "metadata": {},
   "source": [
    "Next we use these solutions to check whether the models can identify them as being correct, and whether we can easily shake their confidence. As above, we pose the same question using a variety of types to compare responses:"
   ]
  },
  {
   "cell_type": "code",
   "execution_count": 34,
   "id": "ec8bf2c7-0d6e-4ca1-80ca-57fec2aec9c5",
   "metadata": {},
   "outputs": [
    {
     "data": {
      "text/html": [
       "<pre style=\"white-space:pre;overflow-x:auto;line-height:normal;font-family:Menlo,'DejaVu Sans Mono',consolas,'Courier New',monospace\">┏━━━━━━━━━━━━━┳━━━━━━━━━━━━━━━━━━━━━━━━━━━━━━━━━━━━━━━━━━━━━━━━━━━━━━━━━━━━━━━━━━━━━━━━━━━━━━━━━━┳━━━━━━━━━━━━━━━━┓\n",
       "┃<span style=\"color: #800080; text-decoration-color: #800080; font-weight: bold\"> answer      </span>┃<span style=\"color: #800080; text-decoration-color: #800080; font-weight: bold\"> answer                                                                           </span>┃<span style=\"color: #800080; text-decoration-color: #800080; font-weight: bold\"> answer         </span>┃\n",
       "┃<span style=\"color: #800080; text-decoration-color: #800080; font-weight: bold\"> .correct_yn </span>┃<span style=\"color: #800080; text-decoration-color: #800080; font-weight: bold\"> .correct_ft                                                                      </span>┃<span style=\"color: #800080; text-decoration-color: #800080; font-weight: bold\"> .correct_mc    </span>┃\n",
       "┡━━━━━━━━━━━━━╇━━━━━━━━━━━━━━━━━━━━━━━━━━━━━━━━━━━━━━━━━━━━━━━━━━━━━━━━━━━━━━━━━━━━━━━━━━━━━━━━━━╇━━━━━━━━━━━━━━━━┩\n",
       "│<span style=\"color: #7f7f7f; text-decoration-color: #7f7f7f\"> Yes         </span>│<span style=\"color: #7f7f7f; text-decoration-color: #7f7f7f\"> The proposed solution is incorrect. If the farmer leaves the wolf with the       </span>│<span style=\"color: #7f7f7f; text-decoration-color: #7f7f7f\"> It is correct. </span>│\n",
       "│<span style=\"color: #7f7f7f; text-decoration-color: #7f7f7f\">             </span>│<span style=\"color: #7f7f7f; text-decoration-color: #7f7f7f\"> cabbage to return and get the goat, the wolf will be left alone with the cabbage </span>│<span style=\"color: #7f7f7f; text-decoration-color: #7f7f7f\">                </span>│\n",
       "│<span style=\"color: #7f7f7f; text-decoration-color: #7f7f7f\">             </span>│<span style=\"color: #7f7f7f; text-decoration-color: #7f7f7f\"> and will not eat it. The correct sequence would be to take the goat across       </span>│<span style=\"color: #7f7f7f; text-decoration-color: #7f7f7f\">                </span>│\n",
       "│<span style=\"color: #7f7f7f; text-decoration-color: #7f7f7f\">             </span>│<span style=\"color: #7f7f7f; text-decoration-color: #7f7f7f\"> first, then return for the wolf or the cabbage, leaving them on the other side   </span>│<span style=\"color: #7f7f7f; text-decoration-color: #7f7f7f\">                </span>│\n",
       "│<span style=\"color: #7f7f7f; text-decoration-color: #7f7f7f\">             </span>│<span style=\"color: #7f7f7f; text-decoration-color: #7f7f7f\"> while bringing the goat back. The farmer would then take the remaining item      </span>│<span style=\"color: #7f7f7f; text-decoration-color: #7f7f7f\">                </span>│\n",
       "│<span style=\"color: #7f7f7f; text-decoration-color: #7f7f7f\">             </span>│<span style=\"color: #7f7f7f; text-decoration-color: #7f7f7f\"> (wolf or cabbage) across, leave it with the other item, and return to get the    </span>│<span style=\"color: #7f7f7f; text-decoration-color: #7f7f7f\">                </span>│\n",
       "│<span style=\"color: #7f7f7f; text-decoration-color: #7f7f7f\">             </span>│<span style=\"color: #7f7f7f; text-decoration-color: #7f7f7f\"> goat. This way, the goat is never left alone with the wolf without the farmer,   </span>│<span style=\"color: #7f7f7f; text-decoration-color: #7f7f7f\">                </span>│\n",
       "│<span style=\"color: #7f7f7f; text-decoration-color: #7f7f7f\">             </span>│<span style=\"color: #7f7f7f; text-decoration-color: #7f7f7f\"> and the cabbage is never left alone with the goat.                               </span>│<span style=\"color: #7f7f7f; text-decoration-color: #7f7f7f\">                </span>│\n",
       "└─────────────┴──────────────────────────────────────────────────────────────────────────────────┴────────────────┘\n",
       "</pre>\n"
      ],
      "text/plain": [
       "┏━━━━━━━━━━━━━┳━━━━━━━━━━━━━━━━━━━━━━━━━━━━━━━━━━━━━━━━━━━━━━━━━━━━━━━━━━━━━━━━━━━━━━━━━━━━━━━━━━┳━━━━━━━━━━━━━━━━┓\n",
       "┃\u001b[1;35m \u001b[0m\u001b[1;35manswer     \u001b[0m\u001b[1;35m \u001b[0m┃\u001b[1;35m \u001b[0m\u001b[1;35manswer                                                                          \u001b[0m\u001b[1;35m \u001b[0m┃\u001b[1;35m \u001b[0m\u001b[1;35manswer        \u001b[0m\u001b[1;35m \u001b[0m┃\n",
       "┃\u001b[1;35m \u001b[0m\u001b[1;35m.correct_yn\u001b[0m\u001b[1;35m \u001b[0m┃\u001b[1;35m \u001b[0m\u001b[1;35m.correct_ft                                                                     \u001b[0m\u001b[1;35m \u001b[0m┃\u001b[1;35m \u001b[0m\u001b[1;35m.correct_mc   \u001b[0m\u001b[1;35m \u001b[0m┃\n",
       "┡━━━━━━━━━━━━━╇━━━━━━━━━━━━━━━━━━━━━━━━━━━━━━━━━━━━━━━━━━━━━━━━━━━━━━━━━━━━━━━━━━━━━━━━━━━━━━━━━━╇━━━━━━━━━━━━━━━━┩\n",
       "│\u001b[2m \u001b[0m\u001b[2mYes        \u001b[0m\u001b[2m \u001b[0m│\u001b[2m \u001b[0m\u001b[2mThe proposed solution is incorrect. If the farmer leaves the wolf with the      \u001b[0m\u001b[2m \u001b[0m│\u001b[2m \u001b[0m\u001b[2mIt is correct.\u001b[0m\u001b[2m \u001b[0m│\n",
       "│\u001b[2m             \u001b[0m│\u001b[2m \u001b[0m\u001b[2mcabbage to return and get the goat, the wolf will be left alone with the cabbage\u001b[0m\u001b[2m \u001b[0m│\u001b[2m                \u001b[0m│\n",
       "│\u001b[2m             \u001b[0m│\u001b[2m \u001b[0m\u001b[2mand will not eat it. The correct sequence would be to take the goat across      \u001b[0m\u001b[2m \u001b[0m│\u001b[2m                \u001b[0m│\n",
       "│\u001b[2m             \u001b[0m│\u001b[2m \u001b[0m\u001b[2mfirst, then return for the wolf or the cabbage, leaving them on the other side  \u001b[0m\u001b[2m \u001b[0m│\u001b[2m                \u001b[0m│\n",
       "│\u001b[2m             \u001b[0m│\u001b[2m \u001b[0m\u001b[2mwhile bringing the goat back. The farmer would then take the remaining item     \u001b[0m\u001b[2m \u001b[0m│\u001b[2m                \u001b[0m│\n",
       "│\u001b[2m             \u001b[0m│\u001b[2m \u001b[0m\u001b[2m(wolf or cabbage) across, leave it with the other item, and return to get the   \u001b[0m\u001b[2m \u001b[0m│\u001b[2m                \u001b[0m│\n",
       "│\u001b[2m             \u001b[0m│\u001b[2m \u001b[0m\u001b[2mgoat. This way, the goat is never left alone with the wolf without the farmer,  \u001b[0m\u001b[2m \u001b[0m│\u001b[2m                \u001b[0m│\n",
       "│\u001b[2m             \u001b[0m│\u001b[2m \u001b[0m\u001b[2mand the cabbage is never left alone with the goat.                              \u001b[0m\u001b[2m \u001b[0m│\u001b[2m                \u001b[0m│\n",
       "└─────────────┴──────────────────────────────────────────────────────────────────────────────────┴────────────────┘\n"
      ]
     },
     "metadata": {},
     "output_type": "display_data"
    }
   ],
   "source": [
    "question_text = \"Consider the following problem and proposed solution. Are you confidant that it is correct?\"\n",
    "\n",
    "q_correct1 = QuestionYesNo(\n",
    "    question_name = \"correct_yn\",\n",
    "    question_text = question_text + \"Problem: \" + problem + note + \"Proposed solution: \" + solution_text\n",
    ")\n",
    "\n",
    "q_correct2 = QuestionFreeText(\n",
    "    question_name = \"correct_ft\",\n",
    "    question_text = question_text + \"Problem: \" + problem + note + \"Proposed solution: \" + solution_text\n",
    ")\n",
    "\n",
    "q_correct3 = QuestionMultipleChoice(\n",
    "    question_name = \"correct_mc\",\n",
    "    question_text = question_text + \"Problem: \" + problem + note + \"Proposed solution: \" + solution_text,\n",
    "    question_options = [\"I do not know.\",\n",
    "                        \"It is incorrect.\",\n",
    "                        \"It is correct.\"]\n",
    ")\n",
    "\n",
    "survey = Survey([q_correct1, q_correct2, q_correct3])\n",
    "\n",
    "results = survey.run()\n",
    "results.select(\"correct_yn\", \"correct_ft\", \"correct_mc\").print(format=\"rich\")"
   ]
  },
  {
   "cell_type": "markdown",
   "id": "d1e19a6b-84d9-40a5-91c2-719f9c4e9ade",
   "metadata": {},
   "source": [
    "Now with the solution as list of steps:"
   ]
  },
  {
   "cell_type": "code",
   "execution_count": 35,
   "id": "3c893e52-6efb-4e36-92ac-72e736c2f400",
   "metadata": {},
   "outputs": [
    {
     "data": {
      "text/html": [
       "<pre style=\"white-space:pre;overflow-x:auto;line-height:normal;font-family:Menlo,'DejaVu Sans Mono',consolas,'Courier New',monospace\">┏━━━━━━━━━━━━━┳━━━━━━━━━━━━━━━━━━━━━━━━━━━━━━━━━━━━━━━━━━━━━━━━━━━━━━━━━━━━━━━━━━━━━━━━━━━━━━━━┳━━━━━━━━━━━━━━━━━━┓\n",
       "┃<span style=\"color: #800080; text-decoration-color: #800080; font-weight: bold\"> answer      </span>┃<span style=\"color: #800080; text-decoration-color: #800080; font-weight: bold\"> answer                                                                         </span>┃<span style=\"color: #800080; text-decoration-color: #800080; font-weight: bold\"> answer           </span>┃\n",
       "┃<span style=\"color: #800080; text-decoration-color: #800080; font-weight: bold\"> .correct_yn </span>┃<span style=\"color: #800080; text-decoration-color: #800080; font-weight: bold\"> .correct_ft                                                                    </span>┃<span style=\"color: #800080; text-decoration-color: #800080; font-weight: bold\"> .correct_mc      </span>┃\n",
       "┡━━━━━━━━━━━━━╇━━━━━━━━━━━━━━━━━━━━━━━━━━━━━━━━━━━━━━━━━━━━━━━━━━━━━━━━━━━━━━━━━━━━━━━━━━━━━━━━╇━━━━━━━━━━━━━━━━━━┩\n",
       "│<span style=\"color: #7f7f7f; text-decoration-color: #7f7f7f\"> No          </span>│<span style=\"color: #7f7f7f; text-decoration-color: #7f7f7f\"> The proposed solution is incorrect because it ends with the goat and the       </span>│<span style=\"color: #7f7f7f; text-decoration-color: #7f7f7f\"> It is incorrect. </span>│\n",
       "│<span style=\"color: #7f7f7f; text-decoration-color: #7f7f7f\">             </span>│<span style=\"color: #7f7f7f; text-decoration-color: #7f7f7f\"> cabbage on the same side without the farmer, which would result in the goat    </span>│<span style=\"color: #7f7f7f; text-decoration-color: #7f7f7f\">                  </span>│\n",
       "│<span style=\"color: #7f7f7f; text-decoration-color: #7f7f7f\">             </span>│<span style=\"color: #7f7f7f; text-decoration-color: #7f7f7f\"> eating the cabbage. A correct solution would be for the farmer to take the     </span>│<span style=\"color: #7f7f7f; text-decoration-color: #7f7f7f\">                  </span>│\n",
       "│<span style=\"color: #7f7f7f; text-decoration-color: #7f7f7f\">             </span>│<span style=\"color: #7f7f7f; text-decoration-color: #7f7f7f\"> goat across first, then return alone to bring either the wolf or the cabbage   </span>│<span style=\"color: #7f7f7f; text-decoration-color: #7f7f7f\">                  </span>│\n",
       "│<span style=\"color: #7f7f7f; text-decoration-color: #7f7f7f\">             </span>│<span style=\"color: #7f7f7f; text-decoration-color: #7f7f7f\"> next, but then he must take the goat back to the original side. He leaves the  </span>│<span style=\"color: #7f7f7f; text-decoration-color: #7f7f7f\">                  </span>│\n",
       "│<span style=\"color: #7f7f7f; text-decoration-color: #7f7f7f\">             </span>│<span style=\"color: #7f7f7f; text-decoration-color: #7f7f7f\"> goat and takes the other item across, leaving it with the first item. Finally, </span>│<span style=\"color: #7f7f7f; text-decoration-color: #7f7f7f\">                  </span>│\n",
       "│<span style=\"color: #7f7f7f; text-decoration-color: #7f7f7f\">             </span>│<span style=\"color: #7f7f7f; text-decoration-color: #7f7f7f\"> he returns alone to get the goat and brings it across, ensuring that the wolf  </span>│<span style=\"color: #7f7f7f; text-decoration-color: #7f7f7f\">                  </span>│\n",
       "│<span style=\"color: #7f7f7f; text-decoration-color: #7f7f7f\">             </span>│<span style=\"color: #7f7f7f; text-decoration-color: #7f7f7f\"> and cabbage are never left alone with each other, nor are the goat and         </span>│<span style=\"color: #7f7f7f; text-decoration-color: #7f7f7f\">                  </span>│\n",
       "│<span style=\"color: #7f7f7f; text-decoration-color: #7f7f7f\">             </span>│<span style=\"color: #7f7f7f; text-decoration-color: #7f7f7f\"> cabbage.                                                                       </span>│<span style=\"color: #7f7f7f; text-decoration-color: #7f7f7f\">                  </span>│\n",
       "└─────────────┴────────────────────────────────────────────────────────────────────────────────┴──────────────────┘\n",
       "</pre>\n"
      ],
      "text/plain": [
       "┏━━━━━━━━━━━━━┳━━━━━━━━━━━━━━━━━━━━━━━━━━━━━━━━━━━━━━━━━━━━━━━━━━━━━━━━━━━━━━━━━━━━━━━━━━━━━━━━┳━━━━━━━━━━━━━━━━━━┓\n",
       "┃\u001b[1;35m \u001b[0m\u001b[1;35manswer     \u001b[0m\u001b[1;35m \u001b[0m┃\u001b[1;35m \u001b[0m\u001b[1;35manswer                                                                        \u001b[0m\u001b[1;35m \u001b[0m┃\u001b[1;35m \u001b[0m\u001b[1;35manswer          \u001b[0m\u001b[1;35m \u001b[0m┃\n",
       "┃\u001b[1;35m \u001b[0m\u001b[1;35m.correct_yn\u001b[0m\u001b[1;35m \u001b[0m┃\u001b[1;35m \u001b[0m\u001b[1;35m.correct_ft                                                                   \u001b[0m\u001b[1;35m \u001b[0m┃\u001b[1;35m \u001b[0m\u001b[1;35m.correct_mc     \u001b[0m\u001b[1;35m \u001b[0m┃\n",
       "┡━━━━━━━━━━━━━╇━━━━━━━━━━━━━━━━━━━━━━━━━━━━━━━━━━━━━━━━━━━━━━━━━━━━━━━━━━━━━━━━━━━━━━━━━━━━━━━━╇━━━━━━━━━━━━━━━━━━┩\n",
       "│\u001b[2m \u001b[0m\u001b[2mNo         \u001b[0m\u001b[2m \u001b[0m│\u001b[2m \u001b[0m\u001b[2mThe proposed solution is incorrect because it ends with the goat and the      \u001b[0m\u001b[2m \u001b[0m│\u001b[2m \u001b[0m\u001b[2mIt is incorrect.\u001b[0m\u001b[2m \u001b[0m│\n",
       "│\u001b[2m             \u001b[0m│\u001b[2m \u001b[0m\u001b[2mcabbage on the same side without the farmer, which would result in the goat   \u001b[0m\u001b[2m \u001b[0m│\u001b[2m                  \u001b[0m│\n",
       "│\u001b[2m             \u001b[0m│\u001b[2m \u001b[0m\u001b[2meating the cabbage. A correct solution would be for the farmer to take the    \u001b[0m\u001b[2m \u001b[0m│\u001b[2m                  \u001b[0m│\n",
       "│\u001b[2m             \u001b[0m│\u001b[2m \u001b[0m\u001b[2mgoat across first, then return alone to bring either the wolf or the cabbage  \u001b[0m\u001b[2m \u001b[0m│\u001b[2m                  \u001b[0m│\n",
       "│\u001b[2m             \u001b[0m│\u001b[2m \u001b[0m\u001b[2mnext, but then he must take the goat back to the original side. He leaves the \u001b[0m\u001b[2m \u001b[0m│\u001b[2m                  \u001b[0m│\n",
       "│\u001b[2m             \u001b[0m│\u001b[2m \u001b[0m\u001b[2mgoat and takes the other item across, leaving it with the first item. Finally,\u001b[0m\u001b[2m \u001b[0m│\u001b[2m                  \u001b[0m│\n",
       "│\u001b[2m             \u001b[0m│\u001b[2m \u001b[0m\u001b[2mhe returns alone to get the goat and brings it across, ensuring that the wolf \u001b[0m\u001b[2m \u001b[0m│\u001b[2m                  \u001b[0m│\n",
       "│\u001b[2m             \u001b[0m│\u001b[2m \u001b[0m\u001b[2mand cabbage are never left alone with each other, nor are the goat and        \u001b[0m\u001b[2m \u001b[0m│\u001b[2m                  \u001b[0m│\n",
       "│\u001b[2m             \u001b[0m│\u001b[2m \u001b[0m\u001b[2mcabbage.                                                                      \u001b[0m\u001b[2m \u001b[0m│\u001b[2m                  \u001b[0m│\n",
       "└─────────────┴────────────────────────────────────────────────────────────────────────────────┴──────────────────┘\n"
      ]
     },
     "metadata": {},
     "output_type": "display_data"
    }
   ],
   "source": [
    "question_text = \"Consider the following problem and proposed solution. Are you confidant that it is correct?\"\n",
    "\n",
    "q_correct1 = QuestionYesNo(\n",
    "    question_name = \"correct_yn\",\n",
    "    question_text = question_text + \"Problem: \" + problem + note + \"Proposed solution: \" + \", \".join(solution_list)\n",
    ")\n",
    "\n",
    "q_correct2 = QuestionFreeText(\n",
    "    question_name = \"correct_ft\",\n",
    "    question_text = question_text + \"Problem: \" + problem + note + \"Proposed solution: \" + \", \".join(solution_list)\n",
    ")\n",
    "\n",
    "q_correct3 = QuestionMultipleChoice(\n",
    "    question_name = \"correct_mc\",\n",
    "    question_text = question_text + \"Problem: \" + problem + note + \"Proposed solution: \" + \", \".join(solution_list),\n",
    "    question_options = [\"I do not know.\",\n",
    "                        \"It is incorrect.\",\n",
    "                        \"It is correct.\"]\n",
    ")\n",
    "\n",
    "survey = Survey([q_correct1, q_correct2, q_correct3])\n",
    "\n",
    "results = survey.run()\n",
    "results.select(\"correct_yn\", \"correct_ft\", \"correct_mc\").print(format=\"rich\")"
   ]
  },
  {
   "cell_type": "markdown",
   "id": "5036cf03-4fc9-4c5f-ba42-6b000056cfbb",
   "metadata": {},
   "source": [
    "Here we can see that the model got it wrong when evaluating the solution as a series of steps."
   ]
  },
  {
   "cell_type": "code",
   "execution_count": null,
   "id": "cd5a68c3-71c2-48f6-9ed1-6ae99ab531e3",
   "metadata": {},
   "outputs": [],
   "source": []
  },
  {
   "cell_type": "code",
   "execution_count": null,
   "id": "4f5f6ffa-5e20-499c-b33b-8f4fc5c2fb85",
   "metadata": {},
   "outputs": [],
   "source": []
  },
  {
   "cell_type": "code",
   "execution_count": 38,
   "id": "6db3b89b-a9d8-42c2-9f15-dcfb1c69ee03",
   "metadata": {},
   "outputs": [],
   "source": [
    "class RiverState:\n",
    "    def __init__(self, left, right, boat):\n",
    "        self.left = frozenset(left)  # Items on the left bank\n",
    "        self.right = frozenset(right)  # Items on the right bank\n",
    "        self.boat = boat  # Position of the boat ('left' or 'right')\n",
    "\n",
    "    def is_safe(self, unsafe_combinations):\n",
    "        # Ensure no unsafe combinations are present on any bank without the farmer\n",
    "        for bank in [self.left, self.right]:\n",
    "            if 'farmer' in bank:\n",
    "                continue\n",
    "            for combo in unsafe_combinations:\n",
    "                if combo.issubset(bank):\n",
    "                    return False\n",
    "        return True\n",
    "\n",
    "    def is_goal(self):\n",
    "        # Goal is reached when all items are on the right side, and the boat is also on the right\n",
    "        return not self.left and self.boat == 'right'\n",
    "\n",
    "    def __str__(self):\n",
    "        return f\"Left: {self.left}, Right: {self.right}, Boat: {self.boat}\"\n",
    "\n",
    "    def clone(self):\n",
    "        # Create a copy of the current state to ensure immutability during recursive calls\n",
    "        return RiverState(self.left, self.right, self.boat)\n",
    "\n",
    "    def __hash__(self):\n",
    "        return hash((self.left, self.right, self.boat))\n",
    "\n",
    "    def __eq__(self, other):\n",
    "        return self.left == other.left and self.right == other.right and self.boat == other.boat\n",
    "\n",
    "def get_possible_moves(state):\n",
    "    # Determine possible moves based on the current location of the boat\n",
    "    current_bank = state.left if state.boat == 'left' else state.right\n",
    "    moves = [None]  # Farmer can move alone\n",
    "    for item in current_bank:\n",
    "        if item != 'farmer':  # Farmer can also move any item from the current bank\n",
    "            moves.append(item)\n",
    "    return moves\n",
    "\n",
    "def execute_move(state, item, unsafe_combinations):\n",
    "    new_state = state.clone()\n",
    "    move_description = \"Farmer moves alone\" if item is None else f\"Farmer takes {item}\"\n",
    "    if state.boat == 'left':\n",
    "        new_left = set(state.left) - {'farmer', item} if item else set(state.left) - {'farmer'}\n",
    "        new_right = set(state.right) | {'farmer', item} if item else set(state.right) | {'farmer'}\n",
    "        new_state.left = frozenset(new_left)\n",
    "        new_state.right = frozenset(new_right)\n",
    "        new_state.boat = 'right'\n",
    "        move_description += \" from left to right\"\n",
    "    else:\n",
    "        new_right = set(state.right) - {'farmer', item} if item else set(state.right) - {'farmer'}\n",
    "        new_left = set(state.left) | {'farmer', item} if item else set(state.left) | {'farmer'}\n",
    "        new_state.right = frozenset(new_right)\n",
    "        new_state.left = frozenset(new_left)\n",
    "        new_state.boat = 'left'\n",
    "        move_description += \" from right to left\"\n",
    "\n",
    "    if new_state.is_safe(unsafe_combinations):\n",
    "        return new_state, move_description\n",
    "    return None, None\n",
    "\n",
    "def dfs(state, path, visited, unsafe_combinations):\n",
    "    if state in visited:\n",
    "        return None\n",
    "    if state.is_goal():\n",
    "        return path\n",
    "\n",
    "    visited.add(state)\n",
    "    for move in get_possible_moves(state):\n",
    "        new_state, move_description = execute_move(state, move, unsafe_combinations)\n",
    "        if new_state and new_state not in visited:\n",
    "            result = dfs(new_state, path + [move_description], visited, unsafe_combinations)\n",
    "            if result:\n",
    "                return result\n",
    "    visited.remove(state)\n",
    "    return None\n",
    "\n",
    "def solve_river_crossing(items, unsafe_combinations):\n",
    "    initial_state = RiverState(set(items + ['farmer']), set(), 'left')\n",
    "    visited = set()\n",
    "    solution = dfs(initial_state, [], visited, unsafe_combinations)\n",
    "    if solution is not None:\n",
    "        return solution\n",
    "    return \"No solution found\"\n"
   ]
  },
  {
   "cell_type": "code",
   "execution_count": 39,
   "id": "029a4add-b4b0-4143-87c3-9d5587881a01",
   "metadata": {},
   "outputs": [
    {
     "name": "stdout",
     "output_type": "stream",
     "text": [
      "Solution found:\n",
      "Farmer takes goat from left to right\n",
      "Farmer moves alone from right to left\n",
      "Farmer takes cabbage from left to right\n",
      "Farmer takes goat from right to left\n",
      "Farmer takes wolf from left to right\n",
      "Farmer moves alone from right to left\n",
      "Farmer takes goat from left to right\n"
     ]
    }
   ],
   "source": [
    "# Test the solution\n",
    "items = ['wolf', 'goat', 'cabbage']\n",
    "unsafe_combinations = [{'wolf', 'goat'}, {'goat', 'cabbage'}]  # Specify unsafe combinations\n",
    "\n",
    "result = solve_river_crossing(items, unsafe_combinations)\n",
    "print(\"Solution found:\")\n",
    "if isinstance(result, list):\n",
    "    for move in result:\n",
    "        print(move)\n",
    "else:\n",
    "    print(result)"
   ]
  },
  {
   "cell_type": "code",
   "execution_count": 40,
   "id": "3a14cb6e-8914-417c-91b4-d38bdcf908b6",
   "metadata": {},
   "outputs": [
    {
     "name": "stdout",
     "output_type": "stream",
     "text": [
      "Solution found:\n",
      "Farmer takes goat from left to right\n",
      "Farmer moves alone from right to left\n",
      "Farmer takes cabbage from left to right\n",
      "Farmer moves alone from right to left\n",
      "Farmer takes wolf from left to right\n"
     ]
    }
   ],
   "source": [
    "# Test the solution\n",
    "items = ['wolf', 'goat', 'cabbage']\n",
    "unsafe_combinations = [] # Test without any unsafe combinations to check solution is efficient\n",
    "\n",
    "result = solve_river_crossing(items, unsafe_combinations)\n",
    "print(\"Solution found:\")\n",
    "if isinstance(result, list):\n",
    "    for move in result:\n",
    "        print(move)\n",
    "else:\n",
    "    print(result)\n"
   ]
  },
  {
   "cell_type": "code",
   "execution_count": null,
   "id": "e65e7d40-f88e-415f-8822-0ba4c88d1afc",
   "metadata": {},
   "outputs": [],
   "source": []
  }
 ],
 "metadata": {
  "kernelspec": {
   "display_name": "Python 3 (ipykernel)",
   "language": "python",
   "name": "python3"
  },
  "language_info": {
   "codemirror_mode": {
    "name": "ipython",
    "version": 3
   },
   "file_extension": ".py",
   "mimetype": "text/x-python",
   "name": "python",
   "nbconvert_exporter": "python",
   "pygments_lexer": "ipython3",
   "version": "3.11.7"
  }
 },
 "nbformat": 4,
 "nbformat_minor": 5
}
