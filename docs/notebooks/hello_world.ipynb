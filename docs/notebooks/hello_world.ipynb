{
 "cells": [
  {
   "cell_type": "code",
   "execution_count": 2,
   "metadata": {},
   "outputs": [],
   "source": [
    "from edsl import QuestionFreeText"
   ]
  },
  {
   "cell_type": "code",
   "execution_count": null,
   "metadata": {},
   "outputs": [
    {
     "name": "stdout",
     "output_type": "stream",
     "text": [
      "You're missing some of the API keys needed to run this job:\n",
      "     🔑 OPENAI_API_KEY\n",
      "\n",
      "You can either add the missing keys to your .env file, or use remote inference.\n",
      "Remote inference allows you to run jobs on our server.\n",
      "\n",
      "🚀 To use remote inference, sign up at the following link:\n"
     ]
    },
    {
     "data": {
      "text/html": [
       "<pre style=\"white-space:pre;overflow-x:auto;line-height:normal;font-family:Menlo,'DejaVu Sans Mono',consolas,'Courier New',monospace\"><a href=\"https://www.expectedparrot.com/login?edsl_auth_token=Gt4aIsMlSlwayKmzF5vEow\" target=\"_blank\"><span style=\"color: #38bdf8; text-decoration-color: #38bdf8; text-decoration: underline\">https://www.expectedparrot.com/login?edsl_auth_token=Gt4aIsMlSlwayKmzF5vEow</span></a>\n",
       "</pre>\n"
      ],
      "text/plain": [
       "\u001b]8;id=291636;https://www.expectedparrot.com/login?edsl_auth_token=Gt4aIsMlSlwayKmzF5vEow\u001b\\\u001b[4;38;2;56;189;248mhttps://www.expectedparrot.com/login?\u001b[0m\u001b]8;;\u001b\\\u001b]8;id=999123;https://www.expectedparrot.com/login?edsl_auth_token=Gt4aIsMlSlwayKmzF5vEow\u001b\\\u001b[4;38;2;56;189;248medsl_auth_token\u001b[0m\u001b]8;;\u001b\\\u001b]8;id=291636;https://www.expectedparrot.com/login?edsl_auth_token=Gt4aIsMlSlwayKmzF5vEow\u001b\\\u001b[4;38;2;56;189;248m=\u001b[0m\u001b]8;;\u001b\\\u001b]8;id=428500;https://www.expectedparrot.com/login?edsl_auth_token=Gt4aIsMlSlwayKmzF5vEow\u001b\\\u001b[4;38;2;56;189;248mGt4aIsMlSlwayKmzF5vEow\u001b[0m\u001b]8;;\u001b\\\n"
      ]
     },
     "metadata": {},
     "output_type": "display_data"
    },
    {
     "name": "stdout",
     "output_type": "stream",
     "text": [
      "\n",
      "Once you log in, we will automatically retrieve your Expected Parrot API key and continue your job remotely.\n",
      "⠴ Waiting for login. Last checked: 2024-12-31 11:28:13 AM"
     ]
    }
   ],
   "source": [
    "QuestionFreeText.example().run()"
   ]
  },
  {
   "cell_type": "code",
   "execution_count": null,
   "metadata": {},
   "outputs": [],
   "source": []
  }
 ],
 "metadata": {
  "kernelspec": {
   "display_name": "app-uJzvXEU--py3.12",
   "language": "python",
   "name": "python3"
  },
  "language_info": {
   "codemirror_mode": {
    "name": "ipython",
    "version": 3
   },
   "file_extension": ".py",
   "mimetype": "text/x-python",
   "name": "python",
   "nbconvert_exporter": "python",
   "pygments_lexer": "ipython3",
   "version": "3.12.8"
  }
 },
 "nbformat": 4,
 "nbformat_minor": 2
}
