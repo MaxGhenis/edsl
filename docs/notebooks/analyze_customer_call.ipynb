{
 "cells": [
  {
   "cell_type": "markdown",
   "id": "99944fb4-3e42-45d6-82fb-07885805806d",
   "metadata": {
    "editable": true,
    "slideshow": {
     "slide_type": ""
    },
    "tags": []
   },
   "source": [
    "# Analyzing a transcript\n",
    "This notebook provides example EDSL code for analyzing a transcript using AI.\n",
    "In the steps below we construct a survey of questions about a transcript of a fictional call between a business development representative and a potential customer, and then use a language model to answer the questions in the persona of an business development expert delivering feedback on the call.\n",
    "The code can easily be modified for purposes of analyzing other textual content, images, PDFs, websites, tables and other data types with diverse personas and many popular language models.\n",
    "\n",
    "[EDSL is an open-source library](https://github.com/expectedparrot/edsl) for simulating surveys, experiments and other research with AI agents and large language models. \n",
    "Before running the code below, please ensure that you have [installed the EDSL library](https://docs.expectedparrot.com/en/latest/installation.html) and either [activated remote inference](https://docs.expectedparrot.com/en/latest/remote_inference.html) from your [Coop account](https://docs.expectedparrot.com/en/latest/coop.html) or [stored API keys](https://docs.expectedparrot.com/en/latest/api_keys.html) for the language models that you want to use with EDSL. Please also see our [documentation page](https://docs.expectedparrot.com/) for tips and tutorials on getting started using EDSL."
   ]
  },
  {
   "cell_type": "markdown",
   "id": "f0923a12-3c45-4c41-a657-70a12987cb59",
   "metadata": {
    "editable": true,
    "slideshow": {
     "slide_type": ""
    },
    "tags": []
   },
   "source": [
    "### Constructing questions\n",
    "We start by importing the tools we will use and constructing questions that we want to ask about the contents of the call.\n",
    "EDSL provides many common [question types](https://docs.expectedparrot.com/en/latest/questions.html) that we can choose from based on the form of the response that we want to get back from language model: free text, multiple choice, etc."
   ]
  },
  {
   "cell_type": "code",
   "execution_count": 1,
   "id": "c9da889e-af94-48d8-aaf4-af9154c7a7f9",
   "metadata": {
    "editable": true,
    "slideshow": {
     "slide_type": ""
    },
    "tags": []
   },
   "outputs": [],
   "source": [
    "from edsl import QuestionMultipleChoice, QuestionLinearScale, QuestionFreeText, Survey, Agent, AgentList, Model"
   ]
  },
  {
   "cell_type": "code",
   "execution_count": 2,
   "id": "798e2114-c700-41d6-bc5e-c9136fe3a191",
   "metadata": {
    "editable": true,
    "slideshow": {
     "slide_type": ""
    },
    "tags": []
   },
   "outputs": [],
   "source": [
    "q1 = QuestionMultipleChoice(\n",
    "    question_name = \"understanding\",\n",
    "    question_text = \"How would you rate the representative's understanding of the customer's needs?\",\n",
    "    question_options = [\"Excellent\", \"Good\", \"Fair\", \"Poor\"]\n",
    ")\n",
    "q2 = QuestionMultipleChoice(\n",
    "    question_name = \"explain_features\",\n",
    "    question_text = \"How well did the representative explain the features relevant to the customer's business?\",\n",
    "    question_options = [\"Very clearly\", \"Somewhat clearly\", \"Unclear\", \"Not explained\"]\n",
    ")\n",
    "q3 = QuestionMultipleChoice(\n",
    "    question_name = \"address_concerns\",\n",
    "    question_text = \"How well did the representative address the questions and concerns of the customer?\",\n",
    "    question_options = [\"Very effectively\", \"Mostly effectively\", \"Somewhat effectively\", \"Not effectively\"]\n",
    ")\n",
    "q4 = QuestionMultipleChoice(\n",
    "    question_name = \"product_knowledge\",\n",
    "    question_text = \"How would you rate the representative's knowledge of the products and services discussed?\",\n",
    "    question_options = [\"Excellent\", \"Good\", \"Fair\", \"Poor\"]\n",
    ")\n",
    "q5 = QuestionMultipleChoice(\n",
    "    question_name = \"attentive\",\n",
    "    question_text = \"Did the representative appear attentive to the customer's needs and concerns?\",\n",
    "    question_options = [\"Very attentive\", \"Mostly attentive\", \"Somewhat attentive\", \"Not attentive\"]\n",
    ")\n",
    "q6 = QuestionLinearScale(\n",
    "    question_name = \"likely_sale\",\n",
    "    question_text = \"On a scale from 1 to 10, how likely is the customer to use the products and servies discussed?\",\n",
    "    question_options = [1,2,3,4,5,6,7,8,9,10]\n",
    ")\n",
    "q7 = QuestionMultipleChoice(\n",
    "    question_name = \"next_steps\",\n",
    "    question_text = \"Did the representative offer relevant next steps for implementation or testing products?\",\n",
    "    question_options = [\"Yes, very clear and actionable\", \"Somewhat clear\", \"Not clear\", \"No next steps offered\"]\n",
    ")\n",
    "q8 = QuestionFreeText(\n",
    "    question_name = \"helpful_approaches\",\n",
    "    question_text = \"What aspects of the representative’s approach were most helpful to the customer?\"\n",
    ")\n",
    "q9 = QuestionFreeText(\n",
    "    question_name = \"inadequate_explanation\",\n",
    "    question_text = \"Were any features or details not adequately explained?\"\n",
    ")\n",
    "q10 = QuestionFreeText(\n",
    "    question_name = \"improvements\",\n",
    "    question_text = \"How could the representative have improved their explanation of the products?\"\n",
    ")\n",
    "q11 = QuestionFreeText(\n",
    "    question_name = \"confusing\",\n",
    "    question_text = \"Was there anything about the conversation that seemed unclear or confusing?\"\n",
    ")\n",
    "q12 = QuestionFreeText(\n",
    "    question_name = \"confident\",\n",
    "    question_text = \"What additional information could have helped the customer feel more confident in the representative's offerings?\"\n",
    ")"
   ]
  },
  {
   "cell_type": "markdown",
   "id": "f208b3b1-a490-4e18-a6d5-874affe7a90d",
   "metadata": {
    "editable": true,
    "slideshow": {
     "slide_type": ""
    },
    "tags": []
   },
   "source": [
    "We combine the questions in a survey in order to administer them together:"
   ]
  },
  {
   "cell_type": "code",
   "execution_count": 3,
   "id": "e3b36c34-34d0-4734-8d92-4218876f8406",
   "metadata": {
    "editable": true,
    "slideshow": {
     "slide_type": ""
    },
    "tags": []
   },
   "outputs": [],
   "source": [
    "survey = Survey([q1, q2, q3, q4, q5, q6, q7, q8, q9, q10, q11, q12])"
   ]
  },
  {
   "cell_type": "markdown",
   "id": "cddba94f-4566-4db0-8441-6e03c6235e00",
   "metadata": {
    "editable": true,
    "slideshow": {
     "slide_type": ""
    },
    "tags": []
   },
   "source": [
    "### Selecting content for review\n",
    "Next we import the text of the call that we want to give to the model in answering the questions.\n",
    "Here we use a mock transcript drafted by chatGPT:"
   ]
  },
  {
   "cell_type": "code",
   "execution_count": 4,
   "id": "6d47610a-ffe5-4516-9e38-84f0112f1738",
   "metadata": {
    "editable": true,
    "slideshow": {
     "slide_type": ""
    },
    "tags": []
   },
   "outputs": [],
   "source": [
    "transcript = \"\"\"\n",
    "Alex (Quick Representative):\n",
    "Hi, Jamie! Thanks so much for taking the time to chat today. How’s everything going with your website?\n",
    "\n",
    "Jamie (Customer):\n",
    "Hi, Alex. It’s going okay, I think. We’re getting some users, but honestly, I’m just trying to figure out the best way to manage payments. It’s all new to me.\n",
    "\n",
    "Alex:\n",
    "Got it, no worries! Quick can really help simplify things for you. Our platform allows you to accept payments easily and has a subscription option, which I think you mentioned you were interested in, right?\n",
    "\n",
    "Jamie:\n",
    "Yeah, we’re thinking about offering different subscription levels for our software, but I’m not sure how to set it all up. And we have some international users, so that’s been a bit confusing too.\n",
    "\n",
    "Alex:\n",
    "Right, right. So, with Quick, you can definitely do subscriptions, and it handles multiple currencies, too. For example, if you have a customer in Europe, Quick can automatically handle the conversion. It’s designed to make that part easy, so you don’t need to worry too much about different currencies.\n",
    "\n",
    "Jamie:\n",
    "That sounds helpful. But I’m a bit concerned about the setup. I’m not a developer, so I’m worried this might be too complicated.\n",
    "\n",
    "Alex:\n",
    "Oh, yeah, I totally understand! Quick’s setup is meant to be as easy as possible. We have plugins and a lot of guides to walk you through it. I’d say that most people get it up and running without too much trouble. And if you do need help, our support team is available.\n",
    "\n",
    "Jamie:\n",
    "Okay, that’s a relief. I’ve heard some stories about people getting stuck for weeks with payment systems. I don’t want that to happen.\n",
    "\n",
    "Alex:\n",
    "I get that completely. We try to make it as straightforward as possible. Also, if you’re worried about fraud or security, Quick has a feature called Shield that helps detect fraud. It’s built in, so it’s automatically protecting you from day one.\n",
    "\n",
    "Jamie:\n",
    "Oh, that sounds good. I don’t know much about fraud detection. Is it something I’d have to set up?\n",
    "\n",
    "Alex:\n",
    "Nope! Shield is on by default, so you don’t have to configure anything special unless you want to. It uses machine learning to detect unusual activity based on data from many transactions, which helps catch fraudulent transactions without much work on your end.\n",
    "\n",
    "Jamie:\n",
    "That’s nice to know. What about fees? I’d like to have a clear idea of what this will cost.\n",
    "\n",
    "Alex:\n",
    "Absolutely. So, Quick charges 2.9% plus 30 cents per transaction. For subscriptions, there’s no extra fee beyond the normal transaction cost. Also, if you start processing a lot of payments, we do offer some discounts, but those kick in at a higher volume.\n",
    "\n",
    "Jamie:\n",
    "Alright, that makes sense. And what about invoicing? A few customers have asked about getting invoices instead of just a credit card charge.\n",
    "\n",
    "Alex:\n",
    "Yes, we can do that too. With Quick Invoicing, you can send out one-time or recurring invoices, which is nice if you have larger clients who prefer an invoice. It’s all within the Quick system, so it integrates well.\n",
    "\n",
    "Jamie:\n",
    "Good to know. I think this covers most of my questions. It sounds like Quick could be a good fit. I’d just need to make sure I’m able to actually set it up without a ton of back-and-forth.\n",
    "\n",
    "Alex:\n",
    "I totally understand, Jamie. I’ll send over some guides and set you up with a sandbox account to test things out. Let’s reconnect in a couple of weeks to go over any questions you might have.\n",
    "\n",
    "Jamie:\n",
    "Sounds good, thanks, Alex. Looking forward to trying it out.\n",
    "\n",
    "Alex:\n",
    "Great! Thanks for your time, Jamie. I’ll follow up soon. Have a good one!\n",
    "\"\"\""
   ]
  },
  {
   "cell_type": "markdown",
   "id": "a459fb4f-92d4-4f0b-9738-c8284478cad9",
   "metadata": {
    "editable": true,
    "slideshow": {
     "slide_type": ""
    },
    "tags": []
   },
   "source": [
    "### AI agent personas and instructions\n",
    "Here we create a persona and instructions for an AI agent that we will give a model to reference in answering questions. We include the transcript of the customer call in the agent instructions. (We could also include it directly in question texts; [learn more about using questions with multiple pieces of content](https://docs.expectedparrot.com/en/latest/scenarios.html) with `Scenario` objects.)"
   ]
  },
  {
   "cell_type": "code",
   "execution_count": 5,
   "id": "db482535-dc7a-4be7-aeb8-c441bfd6110f",
   "metadata": {
    "editable": true,
    "slideshow": {
     "slide_type": ""
    },
    "tags": []
   },
   "outputs": [],
   "source": [
    "agent = Agent(\n",
    "        traits = {\"persona\": \"You are an expert business development representative with many years of experience at diverse companies.\"},\n",
    "        instruction = \"\"\"\n",
    "        You are being asked to review the following transcript of a business development call between a representative of a payments \n",
    "        processing company and a potential customer and provide critical feedback.\n",
    "        Transcript: \n",
    "        \"\"\" + transcript\n",
    ")"
   ]
  },
  {
   "cell_type": "markdown",
   "id": "03884615-e2be-45a7-8d2a-8b32d6cbe38c",
   "metadata": {
    "editable": true,
    "slideshow": {
     "slide_type": ""
    },
    "tags": []
   },
   "source": [
    "### Selecting a model\n",
    "EDSL works with many popular [language models that we can select](https://docs.expectedparrot.com/en/latest/language_models.html) to generate responses to the questions. Here we specify that we want to use OpenAI's GPT-4o:"
   ]
  },
  {
   "cell_type": "code",
   "execution_count": 6,
   "id": "c49f1a89-18a9-478f-b7a4-b21cf443dfc3",
   "metadata": {
    "editable": true,
    "slideshow": {
     "slide_type": ""
    },
    "tags": []
   },
   "outputs": [],
   "source": [
    "model = Model(\"gpt-4o\")"
   ]
  },
  {
   "cell_type": "markdown",
   "id": "d96d7876-213e-4830-a205-fbadca514a33",
   "metadata": {
    "editable": true,
    "slideshow": {
     "slide_type": ""
    },
    "tags": []
   },
   "source": [
    "### Running the survey\n",
    "Next we add the agents and model to the survey and run it:"
   ]
  },
  {
   "cell_type": "code",
   "execution_count": 7,
   "id": "73189496-67e9-4e26-bf5d-104a5b720dd5",
   "metadata": {
    "editable": true,
    "slideshow": {
     "slide_type": ""
    },
    "tags": []
   },
   "outputs": [
    {
     "data": {
      "text/html": [
       "\n",
       "            <div style=\"border: 1px solid #ccc; margin: 10px 0; max-width: 800px;\">\n",
       "                <div onclick=\"document.getElementById('content-1f7ec7bb-fbf9-46ba-9b41-d4b6e8417d41').style.display = document.getElementById('content-1f7ec7bb-fbf9-46ba-9b41-d4b6e8417d41').style.display === 'none' ? 'block' : 'none';\n",
       "                             document.getElementById('arrow-1f7ec7bb-fbf9-46ba-9b41-d4b6e8417d41').innerHTML = document.getElementById('content-1f7ec7bb-fbf9-46ba-9b41-d4b6e8417d41').style.display === 'none' ? '▶' : '▼';\"\n",
       "                     style=\"padding: 10px; background: #f5f5f5; cursor: pointer;\">\n",
       "                    <span id=\"arrow-1f7ec7bb-fbf9-46ba-9b41-d4b6e8417d41\">▼</span> Remote Job Log (2024-12-14 10:14:11)\n",
       "                </div>\n",
       "                <div id=\"content-1f7ec7bb-fbf9-46ba-9b41-d4b6e8417d41\" style=\"padding: 10px; display: block;\">\n",
       "                    <div style=\"border-left: 3px solid #3b82f6; padding: 5px 10px; margin: 5px 0;\">Remote inference activated. Sending job to server...</div>\n",
       "<div style=\"border-left: 3px solid #3b82f6; padding: 5px 10px; margin: 5px 0;\">Your survey is running at the Expected Parrot server...</div>\n",
       "<div style=\"border-left: 3px solid #3b82f6; padding: 5px 10px; margin: 5px 0;\">Job sent to server. (Job uuid=83ea1bff-f820-4ff5-86b7-8260c9f99325).</div>\n",
       "<div style=\"border-left: 3px solid #3b82f6; padding: 5px 10px; margin: 5px 0;\">Job details are available at your Coop account <a href=\"https://www.expectedparrot.com/home/remote-inferencehttps://www.expectedparrot.com/home/remote-inference\" target=\"_blank\" style=\"color: #3b82f6; text-decoration: underline;\">https://www.expectedparrot.com/home/remote-inferencehttps://www.expectedparrot.com/home/remote-inference</a></div>\n",
       "<div style=\"border-left: 3px solid #3b82f6; padding: 5px 10px; margin: 5px 0;\">View job progress here: <a href=\"https://www.expectedparrot.com/home/remote-job-progress/83ea1bff-f820-4ff5-86b7-8260c9f99325\" target=\"_blank\" style=\"color: #3b82f6; text-decoration: underline;\">https://www.expectedparrot.com/home/remote-job-progress/83ea1bff-f820-4ff5-86b7-8260c9f99325</a></div>\n",
       "<div style=\"border-left: 3px solid #3b82f6; padding: 5px 10px; margin: 5px 0;\">Job status: queued - last update: 2024-12-14 10:13:51 AM</div>\n",
       "<div style=\"border-left: 3px solid #3b82f6; padding: 5px 10px; margin: 5px 0;\">Job status: queued - last update: 2024-12-14 10:13:54 AM</div>\n",
       "<div style=\"border-left: 3px solid #3b82f6; padding: 5px 10px; margin: 5px 0;\">Job status: running - last update: 2024-12-14 10:13:57 AM</div>\n",
       "<div style=\"border-left: 3px solid #3b82f6; padding: 5px 10px; margin: 5px 0;\">Job status: running - last update: 2024-12-14 10:14:01 AM</div>\n",
       "<div style=\"border-left: 3px solid #3b82f6; padding: 5px 10px; margin: 5px 0;\">Job status: running - last update: 2024-12-14 10:14:04 AM</div>\n",
       "<div style=\"border-left: 3px solid #3b82f6; padding: 5px 10px; margin: 5px 0;\">Job status: running - last update: 2024-12-14 10:14:07 AM</div>\n",
       "<div style=\"border-left: 3px solid #22c55e; padding: 5px 10px; margin: 5px 0;\">Job completed and Results stored on Coop: <a href=\"https://www.expectedparrot.com/content/906e6465-d33a-402a-99b1-4b5658bbefad\" target=\"_blank\" style=\"color: #3b82f6; text-decoration: underline;\">https://www.expectedparrot.com/content/906e6465-d33a-402a-99b1-4b5658bbefad</a></div>\n",
       "                </div>\n",
       "            </div>\n",
       "        "
      ],
      "text/plain": [
       "<IPython.core.display.HTML object>"
      ]
     },
     "metadata": {},
     "output_type": "display_data"
    }
   ],
   "source": [
    "results = survey.by(agent).by(model).run()"
   ]
  },
  {
   "cell_type": "markdown",
   "id": "64b03671-da30-41c1-bda2-e50aab35e4c5",
   "metadata": {
    "editable": true,
    "slideshow": {
     "slide_type": ""
    },
    "tags": []
   },
   "source": [
    "This generates a formatted dataset of results that we can inspect with [built-in methods for analyzing responses](https://docs.expectedparrot.com/en/latest/results.html).\n",
    "Here we print them in some tables together with information about each persona that was used:"
   ]
  },
  {
   "cell_type": "code",
   "execution_count": 8,
   "id": "5789083e-eab5-4c78-964a-5c7483d12f86",
   "metadata": {
    "editable": true,
    "slideshow": {
     "slide_type": ""
    },
    "tags": []
   },
   "outputs": [
    {
     "data": {
      "text/html": [
       "<pre style=\"white-space:pre;overflow-x:auto;line-height:normal;font-family:Menlo,'DejaVu Sans Mono',consolas,'Courier New',monospace\"></pre>\n"
      ],
      "text/plain": []
     },
     "metadata": {},
     "output_type": "display_data"
    },
    {
     "data": {
      "text/html": [
       "\n",
       "        <style>\n",
       "            :root {\n",
       "  --containerHeight: 100px;\n",
       "  --headerColor: blue;\n",
       "}\n",
       "\n",
       ".table-container {\n",
       "    height: var(--containerHeight) !important;\n",
       "    width: 100%;\n",
       "    overflow: auto;  /* This enables both horizontal and vertical scrolling */\n",
       "    border: 1px solid #d4d4d4;\n",
       "    background: transparent;\n",
       "    position: relative;  /* Create stacking context for sticky header */\n",
       "}\n",
       "\n",
       ".scroll-table {\n",
       "    /* Remove width: 100% to prevent table from being constrained */\n",
       "    /* min-width: 100% ensures table takes at least full container width */\n",
       "    min-width: 100%;\n",
       "    border-collapse: separate;\n",
       "    border-spacing: 4px;\n",
       "    background: transparent;\n",
       "    table-layout: auto;  /* Allow table to size based on content */\n",
       "}\n",
       "\n",
       ".scroll-table th {\n",
       "    background: transparent;  /* Semi-transparent background to ensure text readability */\n",
       "    position: sticky;\n",
       "    top: 0;\n",
       "    z-index: 1;\n",
       "    text-align: left !important;\n",
       "    padding: 8px;\n",
       "    font-weight: bold;\n",
       "    white-space: nowrap;  /* Prevent header text from wrapping */\n",
       "    min-width: 100px;    /* Ensure minimum column width */\n",
       "    backdrop-filter: blur(8px);  /* Optional: adds extra clarity */\n",
       "    color: var(--headerColor);\n",
       "}\n",
       "\n",
       ".scroll-table td {\n",
       "    padding: 8px;\n",
       "    text-align: left !important;\n",
       "    white-space: pre-wrap;\n",
       "    word-wrap: break-word;\n",
       "    vertical-align: top;\n",
       "    color: inherit;\n",
       "    border-bottom: none;\n",
       "    background: transparent;\n",
       "    min-width: 100px;    /* Match header minimum width */\n",
       "}\n",
       "\n",
       ".scroll-table tbody tr:hover {\n",
       "    background: transparent;\n",
       "}\n",
       "\n",
       "/* Additional rule to ensure header background is truly transparent */\n",
       ".scroll-table thead tr {\n",
       "    background: transparent !important;\n",
       "}\n",
       "\n",
       "/* Add shadow to indicate scrollable content */\n",
       ".table-container::after {\n",
       "    content: '';\n",
       "    position: absolute;\n",
       "    top: 0;\n",
       "    right: 0;\n",
       "    bottom: 0;\n",
       "    width: 5px;\n",
       "    background: linear-gradient(to right, transparent, rgba(242, 6, 6, 0.1));\n",
       "    pointer-events: none;\n",
       "    opacity: 0;\n",
       "    transition: opacity 0.3s;\n",
       "}\n",
       "\n",
       ".table-container:hover::after {\n",
       "    opacity: 1;\n",
       "}\n",
       "\n",
       "/* Handle Jupyter notebook specific styling */\n",
       ".jp-OutputArea-output .table-container {\n",
       "    max-width: 100%;\n",
       "    margin: 0;\n",
       "    overflow-x: auto;\n",
       "}\n",
       "        </style>\n",
       "        <div class=\"table-container\">\n",
       "            <div class=\"scroll-table-wrapper\">\n",
       "                <table class=\"scroll-table\">\n",
       "<thead>\n",
       "<tr><th>Persona                                                                                                  </th><th>How would you rate the representative&#x27;s understanding of the customer&#x27;s needs?  </th><th>How well did the representative explain the features relevant to the customer&#x27;s business?  </th><th>How well did the representative address the questions and concerns of the customer?  </th><th>How would you rate the representative&#x27;s knowledge of the products and services discussed?  </th></tr>\n",
       "</thead>\n",
       "<tbody>\n",
       "<tr><td>You are an expert business development representative with many years of experience at diverse companies.</td><td>Good                                                                            </td><td>Somewhat clearly                                                                           </td><td>Mostly effectively                                                                   </td><td>Good                                                                                       </td></tr>\n",
       "</tbody>\n",
       "</table>\n",
       "            </div>\n",
       "        </div>\n",
       "        "
      ],
      "text/plain": [
       "┏━━━━━━━━━━━━━━━━━━━━━━┳━━━━━━━━━━━━━━━━━━━━━━┳━━━━━━━━━━━━━━━━━━━━━━┳━━━━━━━━━━━━━━━━━━━━━━┳━━━━━━━━━━━━━━━━━━━━━┓\n",
       "┃\u001b[1m                      \u001b[0m┃\u001b[1m                      \u001b[0m┃\u001b[1m                      \u001b[0m┃\u001b[1m \u001b[0m\u001b[1mHow well did the    \u001b[0m\u001b[1m \u001b[0m┃\u001b[1m \u001b[0m\u001b[1mHow would you rate \u001b[0m\u001b[1m \u001b[0m┃\n",
       "┃\u001b[1m                      \u001b[0m┃\u001b[1m                      \u001b[0m┃\u001b[1m \u001b[0m\u001b[1mHow well did the    \u001b[0m\u001b[1m \u001b[0m┃\u001b[1m \u001b[0m\u001b[1mrepresentative      \u001b[0m\u001b[1m \u001b[0m┃\u001b[1m \u001b[0m\u001b[1mthe                \u001b[0m\u001b[1m \u001b[0m┃\n",
       "┃\u001b[1m                      \u001b[0m┃\u001b[1m \u001b[0m\u001b[1mHow would you rate  \u001b[0m\u001b[1m \u001b[0m┃\u001b[1m \u001b[0m\u001b[1mrepresentative      \u001b[0m\u001b[1m \u001b[0m┃\u001b[1m \u001b[0m\u001b[1maddress the         \u001b[0m\u001b[1m \u001b[0m┃\u001b[1m \u001b[0m\u001b[1mrepresentative's   \u001b[0m\u001b[1m \u001b[0m┃\n",
       "┃\u001b[1m                      \u001b[0m┃\u001b[1m \u001b[0m\u001b[1mthe representative's\u001b[0m\u001b[1m \u001b[0m┃\u001b[1m \u001b[0m\u001b[1mexplain the features\u001b[0m\u001b[1m \u001b[0m┃\u001b[1m \u001b[0m\u001b[1mquestions and       \u001b[0m\u001b[1m \u001b[0m┃\u001b[1m \u001b[0m\u001b[1mknowledge of the   \u001b[0m\u001b[1m \u001b[0m┃\n",
       "┃\u001b[1m                      \u001b[0m┃\u001b[1m \u001b[0m\u001b[1munderstanding of the\u001b[0m\u001b[1m \u001b[0m┃\u001b[1m \u001b[0m\u001b[1mrelevant to the     \u001b[0m\u001b[1m \u001b[0m┃\u001b[1m \u001b[0m\u001b[1mconcerns of the     \u001b[0m\u001b[1m \u001b[0m┃\u001b[1m \u001b[0m\u001b[1mproducts and       \u001b[0m\u001b[1m \u001b[0m┃\n",
       "┃\u001b[1m \u001b[0m\u001b[1mPersona             \u001b[0m\u001b[1m \u001b[0m┃\u001b[1m \u001b[0m\u001b[1mcustomer's needs?   \u001b[0m\u001b[1m \u001b[0m┃\u001b[1m \u001b[0m\u001b[1mcustomer's business?\u001b[0m\u001b[1m \u001b[0m┃\u001b[1m \u001b[0m\u001b[1mcustomer?           \u001b[0m\u001b[1m \u001b[0m┃\u001b[1m \u001b[0m\u001b[1mservices discussed?\u001b[0m\u001b[1m \u001b[0m┃\n",
       "┡━━━━━━━━━━━━━━━━━━━━━━╇━━━━━━━━━━━━━━━━━━━━━━╇━━━━━━━━━━━━━━━━━━━━━━╇━━━━━━━━━━━━━━━━━━━━━━╇━━━━━━━━━━━━━━━━━━━━━┩\n",
       "│ You are an expert    │ Good                 │ Somewhat clearly     │ Mostly effectively   │ Good                │\n",
       "│ business development │                      │                      │                      │                     │\n",
       "│ representative with  │                      │                      │                      │                     │\n",
       "│ many years of        │                      │                      │                      │                     │\n",
       "│ experience at        │                      │                      │                      │                     │\n",
       "│ diverse companies.   │                      │                      │                      │                     │\n",
       "└──────────────────────┴──────────────────────┴──────────────────────┴──────────────────────┴─────────────────────┘"
      ]
     },
     "execution_count": 8,
     "metadata": {},
     "output_type": "execute_result"
    }
   ],
   "source": [
    "(\n",
    "    results\n",
    "    .select(\"persona\", \"understanding\", \"explain_features\", \"address_concerns\", \"product_knowledge\", \n",
    "            # \"attentive\", \"likely_sale\", \"next_steps\"\n",
    "           )\n",
    "    .print(\n",
    "        pretty_labels = {\n",
    "            \"agent.persona\": \"Persona\",\n",
    "            \"answer.understanding\": q1.question_text, \n",
    "            \"answer.explain_features\": q2.question_text, \n",
    "            \"answer.address_concerns\": q3.question_text, \n",
    "            \"answer.product_knowledge\": q4.question_text, \n",
    "            # \"answer.attentive\": q5.question_text, \n",
    "            # \"answer.likely_sale\": q6.question_text, \n",
    "            # \"answer.next_steps\": q7.question_text\n",
    "        }\n",
    "    )\n",
    ")"
   ]
  },
  {
   "cell_type": "code",
   "execution_count": 9,
   "id": "e6567ec1-6354-4202-8f91-484807deca7d",
   "metadata": {
    "editable": true,
    "slideshow": {
     "slide_type": ""
    },
    "tags": []
   },
   "outputs": [
    {
     "data": {
      "text/html": [
       "<pre style=\"white-space:pre;overflow-x:auto;line-height:normal;font-family:Menlo,'DejaVu Sans Mono',consolas,'Courier New',monospace\"></pre>\n"
      ],
      "text/plain": []
     },
     "metadata": {},
     "output_type": "display_data"
    },
    {
     "data": {
      "text/html": [
       "\n",
       "        <style>\n",
       "            :root {\n",
       "  --containerHeight: 100px;\n",
       "  --headerColor: blue;\n",
       "}\n",
       "\n",
       ".table-container {\n",
       "    height: var(--containerHeight) !important;\n",
       "    width: 100%;\n",
       "    overflow: auto;  /* This enables both horizontal and vertical scrolling */\n",
       "    border: 1px solid #d4d4d4;\n",
       "    background: transparent;\n",
       "    position: relative;  /* Create stacking context for sticky header */\n",
       "}\n",
       "\n",
       ".scroll-table {\n",
       "    /* Remove width: 100% to prevent table from being constrained */\n",
       "    /* min-width: 100% ensures table takes at least full container width */\n",
       "    min-width: 100%;\n",
       "    border-collapse: separate;\n",
       "    border-spacing: 4px;\n",
       "    background: transparent;\n",
       "    table-layout: auto;  /* Allow table to size based on content */\n",
       "}\n",
       "\n",
       ".scroll-table th {\n",
       "    background: transparent;  /* Semi-transparent background to ensure text readability */\n",
       "    position: sticky;\n",
       "    top: 0;\n",
       "    z-index: 1;\n",
       "    text-align: left !important;\n",
       "    padding: 8px;\n",
       "    font-weight: bold;\n",
       "    white-space: nowrap;  /* Prevent header text from wrapping */\n",
       "    min-width: 100px;    /* Ensure minimum column width */\n",
       "    backdrop-filter: blur(8px);  /* Optional: adds extra clarity */\n",
       "    color: var(--headerColor);\n",
       "}\n",
       "\n",
       ".scroll-table td {\n",
       "    padding: 8px;\n",
       "    text-align: left !important;\n",
       "    white-space: pre-wrap;\n",
       "    word-wrap: break-word;\n",
       "    vertical-align: top;\n",
       "    color: inherit;\n",
       "    border-bottom: none;\n",
       "    background: transparent;\n",
       "    min-width: 100px;    /* Match header minimum width */\n",
       "}\n",
       "\n",
       ".scroll-table tbody tr:hover {\n",
       "    background: transparent;\n",
       "}\n",
       "\n",
       "/* Additional rule to ensure header background is truly transparent */\n",
       ".scroll-table thead tr {\n",
       "    background: transparent !important;\n",
       "}\n",
       "\n",
       "/* Add shadow to indicate scrollable content */\n",
       ".table-container::after {\n",
       "    content: '';\n",
       "    position: absolute;\n",
       "    top: 0;\n",
       "    right: 0;\n",
       "    bottom: 0;\n",
       "    width: 5px;\n",
       "    background: linear-gradient(to right, transparent, rgba(242, 6, 6, 0.1));\n",
       "    pointer-events: none;\n",
       "    opacity: 0;\n",
       "    transition: opacity 0.3s;\n",
       "}\n",
       "\n",
       ".table-container:hover::after {\n",
       "    opacity: 1;\n",
       "}\n",
       "\n",
       "/* Handle Jupyter notebook specific styling */\n",
       ".jp-OutputArea-output .table-container {\n",
       "    max-width: 100%;\n",
       "    margin: 0;\n",
       "    overflow-x: auto;\n",
       "}\n",
       "        </style>\n",
       "        <div class=\"table-container\">\n",
       "            <div class=\"scroll-table-wrapper\">\n",
       "                <table class=\"scroll-table\">\n",
       "<thead>\n",
       "<tr><th>Persona                                                                                                  </th><th>Did the representative appear attentive to the customer&#x27;s needs and concerns?  </th><th style=\"text-align: right;\">  On a scale from 1 to 10, how likely is the customer to use the products and servies discussed?</th><th>Did the representative offer relevant next steps for implementation or testing products?  </th></tr>\n",
       "</thead>\n",
       "<tbody>\n",
       "<tr><td>You are an expert business development representative with many years of experience at diverse companies.</td><td>Mostly attentive                                                               </td><td style=\"text-align: right;\">                                                                                               8</td><td>Yes, very clear and actionable                                                            </td></tr>\n",
       "</tbody>\n",
       "</table>\n",
       "            </div>\n",
       "        </div>\n",
       "        "
      ],
      "text/plain": [
       "┏━━━━━━━━━━━━━━━━━━━━━━━━━━━┳━━━━━━━━━━━━━━━━━━━━━━━━━━━━┳━━━━━━━━━━━━━━━━━━━━━━━━━━━┳━━━━━━━━━━━━━━━━━━━━━━━━━━━━┓\n",
       "┃\u001b[1m                           \u001b[0m┃\u001b[1m                            \u001b[0m┃\u001b[1m \u001b[0m\u001b[1mOn a scale from 1 to 10, \u001b[0m\u001b[1m \u001b[0m┃\u001b[1m                            \u001b[0m┃\n",
       "┃\u001b[1m                           \u001b[0m┃\u001b[1m \u001b[0m\u001b[1mDid the representative    \u001b[0m\u001b[1m \u001b[0m┃\u001b[1m \u001b[0m\u001b[1mhow likely is the        \u001b[0m\u001b[1m \u001b[0m┃\u001b[1m \u001b[0m\u001b[1mDid the representative    \u001b[0m\u001b[1m \u001b[0m┃\n",
       "┃\u001b[1m                           \u001b[0m┃\u001b[1m \u001b[0m\u001b[1mappear attentive to the   \u001b[0m\u001b[1m \u001b[0m┃\u001b[1m \u001b[0m\u001b[1mcustomer to use the      \u001b[0m\u001b[1m \u001b[0m┃\u001b[1m \u001b[0m\u001b[1moffer relevant next steps \u001b[0m\u001b[1m \u001b[0m┃\n",
       "┃\u001b[1m                           \u001b[0m┃\u001b[1m \u001b[0m\u001b[1mcustomer's needs and      \u001b[0m\u001b[1m \u001b[0m┃\u001b[1m \u001b[0m\u001b[1mproducts and servies     \u001b[0m\u001b[1m \u001b[0m┃\u001b[1m \u001b[0m\u001b[1mfor implementation or     \u001b[0m\u001b[1m \u001b[0m┃\n",
       "┃\u001b[1m \u001b[0m\u001b[1mPersona                  \u001b[0m\u001b[1m \u001b[0m┃\u001b[1m \u001b[0m\u001b[1mconcerns?                 \u001b[0m\u001b[1m \u001b[0m┃\u001b[1m \u001b[0m\u001b[1mdiscussed?               \u001b[0m\u001b[1m \u001b[0m┃\u001b[1m \u001b[0m\u001b[1mtesting products?         \u001b[0m\u001b[1m \u001b[0m┃\n",
       "┡━━━━━━━━━━━━━━━━━━━━━━━━━━━╇━━━━━━━━━━━━━━━━━━━━━━━━━━━━╇━━━━━━━━━━━━━━━━━━━━━━━━━━━╇━━━━━━━━━━━━━━━━━━━━━━━━━━━━┩\n",
       "│ You are an expert         │ Mostly attentive           │ 8                         │ Yes, very clear and        │\n",
       "│ business development      │                            │                           │ actionable                 │\n",
       "│ representative with many  │                            │                           │                            │\n",
       "│ years of experience at    │                            │                           │                            │\n",
       "│ diverse companies.        │                            │                           │                            │\n",
       "└───────────────────────────┴────────────────────────────┴───────────────────────────┴────────────────────────────┘"
      ]
     },
     "execution_count": 9,
     "metadata": {},
     "output_type": "execute_result"
    }
   ],
   "source": [
    "(\n",
    "    results\n",
    "    .select(\"persona\", \n",
    "            # \"understanding\", \"explain_features\", \"address_concerns\", \"product_knowledge\", \n",
    "            \"attentive\", \"likely_sale\", \"next_steps\"\n",
    "           )\n",
    "    .print(\n",
    "        pretty_labels = {\n",
    "            \"agent.persona\": \"Persona\",\n",
    "            # \"answer.understanding\": q1.question_text, \n",
    "            # \"answer.explain_features\": q2.question_text, \n",
    "            # \"answer.address_concerns\": q3.question_text, \n",
    "            # \"answer.product_knowledge\": q4.question_text, \n",
    "            \"answer.attentive\": q5.question_text, \n",
    "            \"answer.likely_sale\": q6.question_text, \n",
    "            \"answer.next_steps\": q7.question_text\n",
    "        },\n",
    "        format = \"rich\"\n",
    "    )\n",
    ")"
   ]
  },
  {
   "cell_type": "code",
   "execution_count": 10,
   "id": "35beaa15-5484-4461-baff-344c4226e2f1",
   "metadata": {
    "editable": true,
    "slideshow": {
     "slide_type": ""
    },
    "tags": []
   },
   "outputs": [
    {
     "data": {
      "text/html": [
       "<pre style=\"white-space:pre;overflow-x:auto;line-height:normal;font-family:Menlo,'DejaVu Sans Mono',consolas,'Courier New',monospace\"></pre>\n"
      ],
      "text/plain": []
     },
     "metadata": {},
     "output_type": "display_data"
    },
    {
     "data": {
      "text/html": [
       "\n",
       "        <style>\n",
       "            :root {\n",
       "  --containerHeight: 100px;\n",
       "  --headerColor: blue;\n",
       "}\n",
       "\n",
       ".table-container {\n",
       "    height: var(--containerHeight) !important;\n",
       "    width: 100%;\n",
       "    overflow: auto;  /* This enables both horizontal and vertical scrolling */\n",
       "    border: 1px solid #d4d4d4;\n",
       "    background: transparent;\n",
       "    position: relative;  /* Create stacking context for sticky header */\n",
       "}\n",
       "\n",
       ".scroll-table {\n",
       "    /* Remove width: 100% to prevent table from being constrained */\n",
       "    /* min-width: 100% ensures table takes at least full container width */\n",
       "    min-width: 100%;\n",
       "    border-collapse: separate;\n",
       "    border-spacing: 4px;\n",
       "    background: transparent;\n",
       "    table-layout: auto;  /* Allow table to size based on content */\n",
       "}\n",
       "\n",
       ".scroll-table th {\n",
       "    background: transparent;  /* Semi-transparent background to ensure text readability */\n",
       "    position: sticky;\n",
       "    top: 0;\n",
       "    z-index: 1;\n",
       "    text-align: left !important;\n",
       "    padding: 8px;\n",
       "    font-weight: bold;\n",
       "    white-space: nowrap;  /* Prevent header text from wrapping */\n",
       "    min-width: 100px;    /* Ensure minimum column width */\n",
       "    backdrop-filter: blur(8px);  /* Optional: adds extra clarity */\n",
       "    color: var(--headerColor);\n",
       "}\n",
       "\n",
       ".scroll-table td {\n",
       "    padding: 8px;\n",
       "    text-align: left !important;\n",
       "    white-space: pre-wrap;\n",
       "    word-wrap: break-word;\n",
       "    vertical-align: top;\n",
       "    color: inherit;\n",
       "    border-bottom: none;\n",
       "    background: transparent;\n",
       "    min-width: 100px;    /* Match header minimum width */\n",
       "}\n",
       "\n",
       ".scroll-table tbody tr:hover {\n",
       "    background: transparent;\n",
       "}\n",
       "\n",
       "/* Additional rule to ensure header background is truly transparent */\n",
       ".scroll-table thead tr {\n",
       "    background: transparent !important;\n",
       "}\n",
       "\n",
       "/* Add shadow to indicate scrollable content */\n",
       ".table-container::after {\n",
       "    content: '';\n",
       "    position: absolute;\n",
       "    top: 0;\n",
       "    right: 0;\n",
       "    bottom: 0;\n",
       "    width: 5px;\n",
       "    background: linear-gradient(to right, transparent, rgba(242, 6, 6, 0.1));\n",
       "    pointer-events: none;\n",
       "    opacity: 0;\n",
       "    transition: opacity 0.3s;\n",
       "}\n",
       "\n",
       ".table-container:hover::after {\n",
       "    opacity: 1;\n",
       "}\n",
       "\n",
       "/* Handle Jupyter notebook specific styling */\n",
       ".jp-OutputArea-output .table-container {\n",
       "    max-width: 100%;\n",
       "    margin: 0;\n",
       "    overflow-x: auto;\n",
       "}\n",
       "        </style>\n",
       "        <div class=\"table-container\">\n",
       "            <div class=\"scroll-table-wrapper\">\n",
       "                <table class=\"scroll-table\">\n",
       "<thead>\n",
       "<tr><th>What aspects of the representative’s approach were most helpful to the customer?  </th></tr>\n",
       "</thead>\n",
       "<tbody>\n",
       "<tr><td>The representative, Alex, demonstrated several helpful aspects in their approach:\n",
       "\n",
       "1. **Understanding and Empathy**: Alex started by acknowledging Jamie&#x27;s situation and concerns, which helped to build rapport and trust. This empathetic approach reassured Jamie that their needs and worries were understood.\n",
       "\n",
       "2. **Clear Explanation of Features**: Alex provided a straightforward explanation of how Quick’s features, such as handling multiple currencies and offering subscription options, could address Jamie&#x27;s needs. This helped Jamie see the direct benefits of using Quick.\n",
       "\n",
       "3. **Addressing Concerns**: Alex anticipated and addressed Jamie&#x27;s concerns about setup complexity and fraud detection. By explaining that the setup is user-friendly and that fraud protection is automatic, Alex alleviated Jamie’s worries.\n",
       "\n",
       "4. **Support and Resources**: Alex emphasized the availability of support and resources, including guides and a support team, which reassured Jamie that help would be available if needed.\n",
       "\n",
       "5. **Transparency on Fees**: Alex provided a clear breakdown of the costs associated with using Quick, which is crucial for building trust and ensuring there are no surprises later on.\n",
       "\n",
       "6. **Solution for Additional Needs**: Alex responded to Jamie&#x27;s inquiry about invoicing by introducing Quick Invoicing, showing that the platform could meet additional business requirements.\n",
       "\n",
       "7. **Follow-Up Plan**: By offering to send guides and set up a sandbox account, and suggesting a follow-up meeting, Alex demonstrated a commitment to ensuring Jamie’s successful onboarding and long-term satisfaction.                                                                                   </td></tr>\n",
       "</tbody>\n",
       "</table>\n",
       "            </div>\n",
       "        </div>\n",
       "        "
      ],
      "text/plain": [
       "┏━━━━━━━━━━━━━━━━━━━━━━━━━━━━━━━━━━━━━━━━━━━━━━━━━━━━━━━━━━━━━━━━━━━━━━━━━━━━━━━━━━━━━━━━━━━━━━━━━━━━━━━━━━━━━━━━━┓\n",
       "┃\u001b[1m \u001b[0m\u001b[1mWhat aspects of the representative’s approach were most helpful to the customer?                               \u001b[0m\u001b[1m \u001b[0m┃\n",
       "┡━━━━━━━━━━━━━━━━━━━━━━━━━━━━━━━━━━━━━━━━━━━━━━━━━━━━━━━━━━━━━━━━━━━━━━━━━━━━━━━━━━━━━━━━━━━━━━━━━━━━━━━━━━━━━━━━━┩\n",
       "│ The representative, Alex, demonstrated several helpful aspects in their approach:                               │\n",
       "│                                                                                                                 │\n",
       "│ 1. **Understanding and Empathy**: Alex started by acknowledging Jamie's situation and concerns, which helped to │\n",
       "│ build rapport and trust. This empathetic approach reassured Jamie that their needs and worries were understood. │\n",
       "│                                                                                                                 │\n",
       "│ 2. **Clear Explanation of Features**: Alex provided a straightforward explanation of how Quick’s features, such │\n",
       "│ as handling multiple currencies and offering subscription options, could address Jamie's needs. This helped     │\n",
       "│ Jamie see the direct benefits of using Quick.                                                                   │\n",
       "│                                                                                                                 │\n",
       "│ 3. **Addressing Concerns**: Alex anticipated and addressed Jamie's concerns about setup complexity and fraud    │\n",
       "│ detection. By explaining that the setup is user-friendly and that fraud protection is automatic, Alex           │\n",
       "│ alleviated Jamie’s worries.                                                                                     │\n",
       "│                                                                                                                 │\n",
       "│ 4. **Support and Resources**: Alex emphasized the availability of support and resources, including guides and a │\n",
       "│ support team, which reassured Jamie that help would be available if needed.                                     │\n",
       "│                                                                                                                 │\n",
       "│ 5. **Transparency on Fees**: Alex provided a clear breakdown of the costs associated with using Quick, which is │\n",
       "│ crucial for building trust and ensuring there are no surprises later on.                                        │\n",
       "│                                                                                                                 │\n",
       "│ 6. **Solution for Additional Needs**: Alex responded to Jamie's inquiry about invoicing by introducing Quick    │\n",
       "│ Invoicing, showing that the platform could meet additional business requirements.                               │\n",
       "│                                                                                                                 │\n",
       "│ 7. **Follow-Up Plan**: By offering to send guides and set up a sandbox account, and suggesting a follow-up      │\n",
       "│ meeting, Alex demonstrated a commitment to ensuring Jamie’s successful onboarding and long-term satisfaction.   │\n",
       "└─────────────────────────────────────────────────────────────────────────────────────────────────────────────────┘"
      ]
     },
     "execution_count": 10,
     "metadata": {},
     "output_type": "execute_result"
    }
   ],
   "source": [
    "(\n",
    "    results\n",
    "    .select(\"helpful_approaches\")\n",
    "    .print(pretty_labels = {\"answer.helpful_approaches\": q8.question_text})\n",
    ")"
   ]
  },
  {
   "cell_type": "code",
   "execution_count": 11,
   "id": "3fa17e5c-b936-4ff1-bbb5-7283e8c32a29",
   "metadata": {
    "editable": true,
    "slideshow": {
     "slide_type": ""
    },
    "tags": []
   },
   "outputs": [
    {
     "data": {
      "text/html": [
       "<pre style=\"white-space:pre;overflow-x:auto;line-height:normal;font-family:Menlo,'DejaVu Sans Mono',consolas,'Courier New',monospace\"></pre>\n"
      ],
      "text/plain": []
     },
     "metadata": {},
     "output_type": "display_data"
    },
    {
     "data": {
      "text/html": [
       "\n",
       "        <style>\n",
       "            :root {\n",
       "  --containerHeight: 100px;\n",
       "  --headerColor: blue;\n",
       "}\n",
       "\n",
       ".table-container {\n",
       "    height: var(--containerHeight) !important;\n",
       "    width: 100%;\n",
       "    overflow: auto;  /* This enables both horizontal and vertical scrolling */\n",
       "    border: 1px solid #d4d4d4;\n",
       "    background: transparent;\n",
       "    position: relative;  /* Create stacking context for sticky header */\n",
       "}\n",
       "\n",
       ".scroll-table {\n",
       "    /* Remove width: 100% to prevent table from being constrained */\n",
       "    /* min-width: 100% ensures table takes at least full container width */\n",
       "    min-width: 100%;\n",
       "    border-collapse: separate;\n",
       "    border-spacing: 4px;\n",
       "    background: transparent;\n",
       "    table-layout: auto;  /* Allow table to size based on content */\n",
       "}\n",
       "\n",
       ".scroll-table th {\n",
       "    background: transparent;  /* Semi-transparent background to ensure text readability */\n",
       "    position: sticky;\n",
       "    top: 0;\n",
       "    z-index: 1;\n",
       "    text-align: left !important;\n",
       "    padding: 8px;\n",
       "    font-weight: bold;\n",
       "    white-space: nowrap;  /* Prevent header text from wrapping */\n",
       "    min-width: 100px;    /* Ensure minimum column width */\n",
       "    backdrop-filter: blur(8px);  /* Optional: adds extra clarity */\n",
       "    color: var(--headerColor);\n",
       "}\n",
       "\n",
       ".scroll-table td {\n",
       "    padding: 8px;\n",
       "    text-align: left !important;\n",
       "    white-space: pre-wrap;\n",
       "    word-wrap: break-word;\n",
       "    vertical-align: top;\n",
       "    color: inherit;\n",
       "    border-bottom: none;\n",
       "    background: transparent;\n",
       "    min-width: 100px;    /* Match header minimum width */\n",
       "}\n",
       "\n",
       ".scroll-table tbody tr:hover {\n",
       "    background: transparent;\n",
       "}\n",
       "\n",
       "/* Additional rule to ensure header background is truly transparent */\n",
       ".scroll-table thead tr {\n",
       "    background: transparent !important;\n",
       "}\n",
       "\n",
       "/* Add shadow to indicate scrollable content */\n",
       ".table-container::after {\n",
       "    content: '';\n",
       "    position: absolute;\n",
       "    top: 0;\n",
       "    right: 0;\n",
       "    bottom: 0;\n",
       "    width: 5px;\n",
       "    background: linear-gradient(to right, transparent, rgba(242, 6, 6, 0.1));\n",
       "    pointer-events: none;\n",
       "    opacity: 0;\n",
       "    transition: opacity 0.3s;\n",
       "}\n",
       "\n",
       ".table-container:hover::after {\n",
       "    opacity: 1;\n",
       "}\n",
       "\n",
       "/* Handle Jupyter notebook specific styling */\n",
       ".jp-OutputArea-output .table-container {\n",
       "    max-width: 100%;\n",
       "    margin: 0;\n",
       "    overflow-x: auto;\n",
       "}\n",
       "        </style>\n",
       "        <div class=\"table-container\">\n",
       "            <div class=\"scroll-table-wrapper\">\n",
       "                <table class=\"scroll-table\">\n",
       "<thead>\n",
       "<tr><th>What aspects of the representative’s approach were most helpful to the customer?  </th></tr>\n",
       "</thead>\n",
       "<tbody>\n",
       "<tr><td>Yes, there were a few areas where the explanation could have been more detailed:\n",
       "\n",
       "1. **Subscription Setup**: While Alex mentioned that Quick can handle subscriptions, there was no detailed explanation of how the subscription setup process works or what specific features are available for managing different subscription levels. Jamie expressed concern about setting this up, and a more detailed walkthrough or specific examples might have been helpful.\n",
       "\n",
       "2. **International Payments**: Alex briefly mentioned that Quick handles multiple currencies and automatic conversion, but did not go into detail about how international payments are processed, any potential fees associated with currency conversion, or how Quick ensures compliance with international regulations.\n",
       "\n",
       "3. **Fraud Detection**: While Alex mentioned that Quick has a feature called Shield for fraud detection, there was no explanation of how effective it is, any specific technologies it uses, or any success stories or statistics that might reassure Jamie about its reliability.\n",
       "\n",
       "4. **Fees**: Although Alex provided the basic fee structure, there was no mention of any potential hidden fees, setup costs, or how discounts for high-volume processing are structured. More transparency here could help build trust.\n",
       "\n",
       "5. **Invoicing**: Alex mentioned Quick Invoicing but did not elaborate on how it integrates with the rest of the system, what customization options are available, or how it handles different payment methods.                                                                                   </td></tr>\n",
       "</tbody>\n",
       "</table>\n",
       "            </div>\n",
       "        </div>\n",
       "        "
      ],
      "text/plain": [
       "┏━━━━━━━━━━━━━━━━━━━━━━━━━━━━━━━━━━━━━━━━━━━━━━━━━━━━━━━━━━━━━━━━━━━━━━━━━━━━━━━━━━━━━━━━━━━━━━━━━━━━━━━━━━━━━━━━━┓\n",
       "┃\u001b[1m \u001b[0m\u001b[1mWhat aspects of the representative’s approach were most helpful to the customer?                               \u001b[0m\u001b[1m \u001b[0m┃\n",
       "┡━━━━━━━━━━━━━━━━━━━━━━━━━━━━━━━━━━━━━━━━━━━━━━━━━━━━━━━━━━━━━━━━━━━━━━━━━━━━━━━━━━━━━━━━━━━━━━━━━━━━━━━━━━━━━━━━━┩\n",
       "│ Yes, there were a few areas where the explanation could have been more detailed:                                │\n",
       "│                                                                                                                 │\n",
       "│ 1. **Subscription Setup**: While Alex mentioned that Quick can handle subscriptions, there was no detailed      │\n",
       "│ explanation of how the subscription setup process works or what specific features are available for managing    │\n",
       "│ different subscription levels. Jamie expressed concern about setting this up, and a more detailed walkthrough   │\n",
       "│ or specific examples might have been helpful.                                                                   │\n",
       "│                                                                                                                 │\n",
       "│ 2. **International Payments**: Alex briefly mentioned that Quick handles multiple currencies and automatic      │\n",
       "│ conversion, but did not go into detail about how international payments are processed, any potential fees       │\n",
       "│ associated with currency conversion, or how Quick ensures compliance with international regulations.            │\n",
       "│                                                                                                                 │\n",
       "│ 3. **Fraud Detection**: While Alex mentioned that Quick has a feature called Shield for fraud detection, there  │\n",
       "│ was no explanation of how effective it is, any specific technologies it uses, or any success stories or         │\n",
       "│ statistics that might reassure Jamie about its reliability.                                                     │\n",
       "│                                                                                                                 │\n",
       "│ 4. **Fees**: Although Alex provided the basic fee structure, there was no mention of any potential hidden fees, │\n",
       "│ setup costs, or how discounts for high-volume processing are structured. More transparency here could help      │\n",
       "│ build trust.                                                                                                    │\n",
       "│                                                                                                                 │\n",
       "│ 5. **Invoicing**: Alex mentioned Quick Invoicing but did not elaborate on how it integrates with the rest of    │\n",
       "│ the system, what customization options are available, or how it handles different payment methods.              │\n",
       "└─────────────────────────────────────────────────────────────────────────────────────────────────────────────────┘"
      ]
     },
     "execution_count": 11,
     "metadata": {},
     "output_type": "execute_result"
    }
   ],
   "source": [
    "(\n",
    "    results\n",
    "    .select(\"inadequate_explanation\")\n",
    "    .print(pretty_labels = {\"answer.inadequate_explanation\": q8.question_text})\n",
    ")"
   ]
  },
  {
   "cell_type": "code",
   "execution_count": 12,
   "id": "b523a272-849c-4000-a5d1-310f3e99c52c",
   "metadata": {
    "editable": true,
    "slideshow": {
     "slide_type": ""
    },
    "tags": []
   },
   "outputs": [
    {
     "data": {
      "text/html": [
       "<pre style=\"white-space:pre;overflow-x:auto;line-height:normal;font-family:Menlo,'DejaVu Sans Mono',consolas,'Courier New',monospace\"></pre>\n"
      ],
      "text/plain": []
     },
     "metadata": {},
     "output_type": "display_data"
    },
    {
     "data": {
      "text/html": [
       "\n",
       "        <style>\n",
       "            :root {\n",
       "  --containerHeight: 100px;\n",
       "  --headerColor: blue;\n",
       "}\n",
       "\n",
       ".table-container {\n",
       "    height: var(--containerHeight) !important;\n",
       "    width: 100%;\n",
       "    overflow: auto;  /* This enables both horizontal and vertical scrolling */\n",
       "    border: 1px solid #d4d4d4;\n",
       "    background: transparent;\n",
       "    position: relative;  /* Create stacking context for sticky header */\n",
       "}\n",
       "\n",
       ".scroll-table {\n",
       "    /* Remove width: 100% to prevent table from being constrained */\n",
       "    /* min-width: 100% ensures table takes at least full container width */\n",
       "    min-width: 100%;\n",
       "    border-collapse: separate;\n",
       "    border-spacing: 4px;\n",
       "    background: transparent;\n",
       "    table-layout: auto;  /* Allow table to size based on content */\n",
       "}\n",
       "\n",
       ".scroll-table th {\n",
       "    background: transparent;  /* Semi-transparent background to ensure text readability */\n",
       "    position: sticky;\n",
       "    top: 0;\n",
       "    z-index: 1;\n",
       "    text-align: left !important;\n",
       "    padding: 8px;\n",
       "    font-weight: bold;\n",
       "    white-space: nowrap;  /* Prevent header text from wrapping */\n",
       "    min-width: 100px;    /* Ensure minimum column width */\n",
       "    backdrop-filter: blur(8px);  /* Optional: adds extra clarity */\n",
       "    color: var(--headerColor);\n",
       "}\n",
       "\n",
       ".scroll-table td {\n",
       "    padding: 8px;\n",
       "    text-align: left !important;\n",
       "    white-space: pre-wrap;\n",
       "    word-wrap: break-word;\n",
       "    vertical-align: top;\n",
       "    color: inherit;\n",
       "    border-bottom: none;\n",
       "    background: transparent;\n",
       "    min-width: 100px;    /* Match header minimum width */\n",
       "}\n",
       "\n",
       ".scroll-table tbody tr:hover {\n",
       "    background: transparent;\n",
       "}\n",
       "\n",
       "/* Additional rule to ensure header background is truly transparent */\n",
       ".scroll-table thead tr {\n",
       "    background: transparent !important;\n",
       "}\n",
       "\n",
       "/* Add shadow to indicate scrollable content */\n",
       ".table-container::after {\n",
       "    content: '';\n",
       "    position: absolute;\n",
       "    top: 0;\n",
       "    right: 0;\n",
       "    bottom: 0;\n",
       "    width: 5px;\n",
       "    background: linear-gradient(to right, transparent, rgba(242, 6, 6, 0.1));\n",
       "    pointer-events: none;\n",
       "    opacity: 0;\n",
       "    transition: opacity 0.3s;\n",
       "}\n",
       "\n",
       ".table-container:hover::after {\n",
       "    opacity: 1;\n",
       "}\n",
       "\n",
       "/* Handle Jupyter notebook specific styling */\n",
       ".jp-OutputArea-output .table-container {\n",
       "    max-width: 100%;\n",
       "    margin: 0;\n",
       "    overflow-x: auto;\n",
       "}\n",
       "        </style>\n",
       "        <div class=\"table-container\">\n",
       "            <div class=\"scroll-table-wrapper\">\n",
       "                <table class=\"scroll-table\">\n",
       "<thead>\n",
       "<tr><th>What aspects of the representative’s approach were most helpful to the customer?  </th></tr>\n",
       "</thead>\n",
       "<tbody>\n",
       "<tr><td>The representative, Alex, did a good job of addressing Jamie&#x27;s concerns and providing an overview of Quick&#x27;s offerings. However, there are a few areas where the explanation could be improved:\n",
       "\n",
       "1. **Customization and Examples**: Alex could have provided more specific examples or case studies of similar businesses that successfully implemented Quick. This would help Jamie visualize how Quick can be tailored to their specific needs.\n",
       "\n",
       "2. **Technical Jargon**: While Alex did a decent job of keeping the language accessible, they could have further simplified the explanation of technical aspects like currency conversion and fraud detection, possibly by using analogies or more relatable terms.\n",
       "\n",
       "3. **Setup Process**: Although Alex mentioned plugins and guides, they could have elaborated on the setup process by outlining the key steps or providing a brief walkthrough of what Jamie might expect.\n",
       "\n",
       "4. **Emphasizing Support**: Alex mentioned the support team but could have emphasized the availability of live support or onboarding assistance to reassure Jamie about potential setup difficulties.\n",
       "\n",
       "5. **Addressing Specific Needs**: Alex could have asked more questions to better understand Jamie&#x27;s specific business model and tailor the explanation of features like subscriptions and invoicing accordingly.\n",
       "\n",
       "6. **Fee Transparency**: While Alex provided the basic fee structure, they could have offered more detail on any potential hidden costs or additional services that might incur fees, ensuring full transparency.                                                                                   </td></tr>\n",
       "</tbody>\n",
       "</table>\n",
       "            </div>\n",
       "        </div>\n",
       "        "
      ],
      "text/plain": [
       "┏━━━━━━━━━━━━━━━━━━━━━━━━━━━━━━━━━━━━━━━━━━━━━━━━━━━━━━━━━━━━━━━━━━━━━━━━━━━━━━━━━━━━━━━━━━━━━━━━━━━━━━━━━━━━━━━━━┓\n",
       "┃\u001b[1m \u001b[0m\u001b[1mWhat aspects of the representative’s approach were most helpful to the customer?                               \u001b[0m\u001b[1m \u001b[0m┃\n",
       "┡━━━━━━━━━━━━━━━━━━━━━━━━━━━━━━━━━━━━━━━━━━━━━━━━━━━━━━━━━━━━━━━━━━━━━━━━━━━━━━━━━━━━━━━━━━━━━━━━━━━━━━━━━━━━━━━━━┩\n",
       "│ The representative, Alex, did a good job of addressing Jamie's concerns and providing an overview of Quick's    │\n",
       "│ offerings. However, there are a few areas where the explanation could be improved:                              │\n",
       "│                                                                                                                 │\n",
       "│ 1. **Customization and Examples**: Alex could have provided more specific examples or case studies of similar   │\n",
       "│ businesses that successfully implemented Quick. This would help Jamie visualize how Quick can be tailored to    │\n",
       "│ their specific needs.                                                                                           │\n",
       "│                                                                                                                 │\n",
       "│ 2. **Technical Jargon**: While Alex did a decent job of keeping the language accessible, they could have        │\n",
       "│ further simplified the explanation of technical aspects like currency conversion and fraud detection, possibly  │\n",
       "│ by using analogies or more relatable terms.                                                                     │\n",
       "│                                                                                                                 │\n",
       "│ 3. **Setup Process**: Although Alex mentioned plugins and guides, they could have elaborated on the setup       │\n",
       "│ process by outlining the key steps or providing a brief walkthrough of what Jamie might expect.                 │\n",
       "│                                                                                                                 │\n",
       "│ 4. **Emphasizing Support**: Alex mentioned the support team but could have emphasized the availability of live  │\n",
       "│ support or onboarding assistance to reassure Jamie about potential setup difficulties.                          │\n",
       "│                                                                                                                 │\n",
       "│ 5. **Addressing Specific Needs**: Alex could have asked more questions to better understand Jamie's specific    │\n",
       "│ business model and tailor the explanation of features like subscriptions and invoicing accordingly.             │\n",
       "│                                                                                                                 │\n",
       "│ 6. **Fee Transparency**: While Alex provided the basic fee structure, they could have offered more detail on    │\n",
       "│ any potential hidden costs or additional services that might incur fees, ensuring full transparency.            │\n",
       "└─────────────────────────────────────────────────────────────────────────────────────────────────────────────────┘"
      ]
     },
     "execution_count": 12,
     "metadata": {},
     "output_type": "execute_result"
    }
   ],
   "source": [
    "(\n",
    "    results\n",
    "    .select(\"improvements\")\n",
    "    .print(pretty_labels = {\"answer.improvements\": q8.question_text})\n",
    ")"
   ]
  },
  {
   "cell_type": "code",
   "execution_count": 13,
   "id": "b1a476af-bb6d-4891-8045-5be2d18d0967",
   "metadata": {
    "editable": true,
    "slideshow": {
     "slide_type": ""
    },
    "tags": []
   },
   "outputs": [
    {
     "data": {
      "text/html": [
       "<pre style=\"white-space:pre;overflow-x:auto;line-height:normal;font-family:Menlo,'DejaVu Sans Mono',consolas,'Courier New',monospace\"></pre>\n"
      ],
      "text/plain": []
     },
     "metadata": {},
     "output_type": "display_data"
    },
    {
     "data": {
      "text/html": [
       "\n",
       "        <style>\n",
       "            :root {\n",
       "  --containerHeight: 100px;\n",
       "  --headerColor: blue;\n",
       "}\n",
       "\n",
       ".table-container {\n",
       "    height: var(--containerHeight) !important;\n",
       "    width: 100%;\n",
       "    overflow: auto;  /* This enables both horizontal and vertical scrolling */\n",
       "    border: 1px solid #d4d4d4;\n",
       "    background: transparent;\n",
       "    position: relative;  /* Create stacking context for sticky header */\n",
       "}\n",
       "\n",
       ".scroll-table {\n",
       "    /* Remove width: 100% to prevent table from being constrained */\n",
       "    /* min-width: 100% ensures table takes at least full container width */\n",
       "    min-width: 100%;\n",
       "    border-collapse: separate;\n",
       "    border-spacing: 4px;\n",
       "    background: transparent;\n",
       "    table-layout: auto;  /* Allow table to size based on content */\n",
       "}\n",
       "\n",
       ".scroll-table th {\n",
       "    background: transparent;  /* Semi-transparent background to ensure text readability */\n",
       "    position: sticky;\n",
       "    top: 0;\n",
       "    z-index: 1;\n",
       "    text-align: left !important;\n",
       "    padding: 8px;\n",
       "    font-weight: bold;\n",
       "    white-space: nowrap;  /* Prevent header text from wrapping */\n",
       "    min-width: 100px;    /* Ensure minimum column width */\n",
       "    backdrop-filter: blur(8px);  /* Optional: adds extra clarity */\n",
       "    color: var(--headerColor);\n",
       "}\n",
       "\n",
       ".scroll-table td {\n",
       "    padding: 8px;\n",
       "    text-align: left !important;\n",
       "    white-space: pre-wrap;\n",
       "    word-wrap: break-word;\n",
       "    vertical-align: top;\n",
       "    color: inherit;\n",
       "    border-bottom: none;\n",
       "    background: transparent;\n",
       "    min-width: 100px;    /* Match header minimum width */\n",
       "}\n",
       "\n",
       ".scroll-table tbody tr:hover {\n",
       "    background: transparent;\n",
       "}\n",
       "\n",
       "/* Additional rule to ensure header background is truly transparent */\n",
       ".scroll-table thead tr {\n",
       "    background: transparent !important;\n",
       "}\n",
       "\n",
       "/* Add shadow to indicate scrollable content */\n",
       ".table-container::after {\n",
       "    content: '';\n",
       "    position: absolute;\n",
       "    top: 0;\n",
       "    right: 0;\n",
       "    bottom: 0;\n",
       "    width: 5px;\n",
       "    background: linear-gradient(to right, transparent, rgba(242, 6, 6, 0.1));\n",
       "    pointer-events: none;\n",
       "    opacity: 0;\n",
       "    transition: opacity 0.3s;\n",
       "}\n",
       "\n",
       ".table-container:hover::after {\n",
       "    opacity: 1;\n",
       "}\n",
       "\n",
       "/* Handle Jupyter notebook specific styling */\n",
       ".jp-OutputArea-output .table-container {\n",
       "    max-width: 100%;\n",
       "    margin: 0;\n",
       "    overflow-x: auto;\n",
       "}\n",
       "        </style>\n",
       "        <div class=\"table-container\">\n",
       "            <div class=\"scroll-table-wrapper\">\n",
       "                <table class=\"scroll-table\">\n",
       "<thead>\n",
       "<tr><th>What aspects of the representative’s approach were most helpful to the customer?  </th></tr>\n",
       "</thead>\n",
       "<tbody>\n",
       "<tr><td>The conversation was generally clear, but there are a few areas that could benefit from further clarification or elaboration:\n",
       "\n",
       "1. **Setup Process**: While Alex mentioned that Quick&#x27;s setup is meant to be easy with plugins and guides, Jamie expressed concern about not being a developer. It might have been helpful for Alex to provide more specific examples of the setup process or offer to connect Jamie with a support specialist for a walkthrough.\n",
       "\n",
       "2. **International Users and Currency Conversion**: Alex briefly mentioned that Quick handles multiple currencies and automatically manages conversions, but it may have been beneficial to explain how this works in a bit more detail, especially if Jamie has more specific concerns about international transactions.\n",
       "\n",
       "3. **Fraud Detection**: Jamie expressed a lack of knowledge about fraud detection. While Alex explained that Shield is automatic and uses machine learning, a quick example or a brief explanation of how it benefits Jamie&#x27;s business could have been more reassuring.\n",
       "\n",
       "4. **Fees and Discounts**: Alex mentioned the transaction fees and potential discounts for high volumes, but it might have been helpful to specify what &quot;higher volume&quot; means or provide a range to give Jamie a clearer idea of when discounts might apply.\n",
       "\n",
       "5. **Invoicing Feature**: While Alex confirmed that Quick can handle invoicing, providing a bit more detail on how invoicing is integrated into the system or how easy it is to use might have strengthened Jamie&#x27;s confidence in the feature.                                                                                   </td></tr>\n",
       "</tbody>\n",
       "</table>\n",
       "            </div>\n",
       "        </div>\n",
       "        "
      ],
      "text/plain": [
       "┏━━━━━━━━━━━━━━━━━━━━━━━━━━━━━━━━━━━━━━━━━━━━━━━━━━━━━━━━━━━━━━━━━━━━━━━━━━━━━━━━━━━━━━━━━━━━━━━━━━━━━━━━━━━━━━━━━┓\n",
       "┃\u001b[1m \u001b[0m\u001b[1mWhat aspects of the representative’s approach were most helpful to the customer?                               \u001b[0m\u001b[1m \u001b[0m┃\n",
       "┡━━━━━━━━━━━━━━━━━━━━━━━━━━━━━━━━━━━━━━━━━━━━━━━━━━━━━━━━━━━━━━━━━━━━━━━━━━━━━━━━━━━━━━━━━━━━━━━━━━━━━━━━━━━━━━━━━┩\n",
       "│ The conversation was generally clear, but there are a few areas that could benefit from further clarification   │\n",
       "│ or elaboration:                                                                                                 │\n",
       "│                                                                                                                 │\n",
       "│ 1. **Setup Process**: While Alex mentioned that Quick's setup is meant to be easy with plugins and guides,      │\n",
       "│ Jamie expressed concern about not being a developer. It might have been helpful for Alex to provide more        │\n",
       "│ specific examples of the setup process or offer to connect Jamie with a support specialist for a walkthrough.   │\n",
       "│                                                                                                                 │\n",
       "│ 2. **International Users and Currency Conversion**: Alex briefly mentioned that Quick handles multiple          │\n",
       "│ currencies and automatically manages conversions, but it may have been beneficial to explain how this works in  │\n",
       "│ a bit more detail, especially if Jamie has more specific concerns about international transactions.             │\n",
       "│                                                                                                                 │\n",
       "│ 3. **Fraud Detection**: Jamie expressed a lack of knowledge about fraud detection. While Alex explained that    │\n",
       "│ Shield is automatic and uses machine learning, a quick example or a brief explanation of how it benefits        │\n",
       "│ Jamie's business could have been more reassuring.                                                               │\n",
       "│                                                                                                                 │\n",
       "│ 4. **Fees and Discounts**: Alex mentioned the transaction fees and potential discounts for high volumes, but it │\n",
       "│ might have been helpful to specify what \"higher volume\" means or provide a range to give Jamie a clearer idea   │\n",
       "│ of when discounts might apply.                                                                                  │\n",
       "│                                                                                                                 │\n",
       "│ 5. **Invoicing Feature**: While Alex confirmed that Quick can handle invoicing, providing a bit more detail on  │\n",
       "│ how invoicing is integrated into the system or how easy it is to use might have strengthened Jamie's confidence │\n",
       "│ in the feature.                                                                                                 │\n",
       "└─────────────────────────────────────────────────────────────────────────────────────────────────────────────────┘"
      ]
     },
     "execution_count": 13,
     "metadata": {},
     "output_type": "execute_result"
    }
   ],
   "source": [
    "(\n",
    "    results\n",
    "    .select(\"confusing\")\n",
    "    .print(pretty_labels = {\"answer.confusing\": q8.question_text})\n",
    ")"
   ]
  },
  {
   "cell_type": "code",
   "execution_count": 14,
   "id": "f3fc3678-557c-4317-9ddc-bdb08f10c22d",
   "metadata": {
    "editable": true,
    "slideshow": {
     "slide_type": ""
    },
    "tags": []
   },
   "outputs": [
    {
     "data": {
      "text/html": [
       "<pre style=\"white-space:pre;overflow-x:auto;line-height:normal;font-family:Menlo,'DejaVu Sans Mono',consolas,'Courier New',monospace\"></pre>\n"
      ],
      "text/plain": []
     },
     "metadata": {},
     "output_type": "display_data"
    },
    {
     "data": {
      "text/html": [
       "\n",
       "        <style>\n",
       "            :root {\n",
       "  --containerHeight: 100px;\n",
       "  --headerColor: blue;\n",
       "}\n",
       "\n",
       ".table-container {\n",
       "    height: var(--containerHeight) !important;\n",
       "    width: 100%;\n",
       "    overflow: auto;  /* This enables both horizontal and vertical scrolling */\n",
       "    border: 1px solid #d4d4d4;\n",
       "    background: transparent;\n",
       "    position: relative;  /* Create stacking context for sticky header */\n",
       "}\n",
       "\n",
       ".scroll-table {\n",
       "    /* Remove width: 100% to prevent table from being constrained */\n",
       "    /* min-width: 100% ensures table takes at least full container width */\n",
       "    min-width: 100%;\n",
       "    border-collapse: separate;\n",
       "    border-spacing: 4px;\n",
       "    background: transparent;\n",
       "    table-layout: auto;  /* Allow table to size based on content */\n",
       "}\n",
       "\n",
       ".scroll-table th {\n",
       "    background: transparent;  /* Semi-transparent background to ensure text readability */\n",
       "    position: sticky;\n",
       "    top: 0;\n",
       "    z-index: 1;\n",
       "    text-align: left !important;\n",
       "    padding: 8px;\n",
       "    font-weight: bold;\n",
       "    white-space: nowrap;  /* Prevent header text from wrapping */\n",
       "    min-width: 100px;    /* Ensure minimum column width */\n",
       "    backdrop-filter: blur(8px);  /* Optional: adds extra clarity */\n",
       "    color: var(--headerColor);\n",
       "}\n",
       "\n",
       ".scroll-table td {\n",
       "    padding: 8px;\n",
       "    text-align: left !important;\n",
       "    white-space: pre-wrap;\n",
       "    word-wrap: break-word;\n",
       "    vertical-align: top;\n",
       "    color: inherit;\n",
       "    border-bottom: none;\n",
       "    background: transparent;\n",
       "    min-width: 100px;    /* Match header minimum width */\n",
       "}\n",
       "\n",
       ".scroll-table tbody tr:hover {\n",
       "    background: transparent;\n",
       "}\n",
       "\n",
       "/* Additional rule to ensure header background is truly transparent */\n",
       ".scroll-table thead tr {\n",
       "    background: transparent !important;\n",
       "}\n",
       "\n",
       "/* Add shadow to indicate scrollable content */\n",
       ".table-container::after {\n",
       "    content: '';\n",
       "    position: absolute;\n",
       "    top: 0;\n",
       "    right: 0;\n",
       "    bottom: 0;\n",
       "    width: 5px;\n",
       "    background: linear-gradient(to right, transparent, rgba(242, 6, 6, 0.1));\n",
       "    pointer-events: none;\n",
       "    opacity: 0;\n",
       "    transition: opacity 0.3s;\n",
       "}\n",
       "\n",
       ".table-container:hover::after {\n",
       "    opacity: 1;\n",
       "}\n",
       "\n",
       "/* Handle Jupyter notebook specific styling */\n",
       ".jp-OutputArea-output .table-container {\n",
       "    max-width: 100%;\n",
       "    margin: 0;\n",
       "    overflow-x: auto;\n",
       "}\n",
       "        </style>\n",
       "        <div class=\"table-container\">\n",
       "            <div class=\"scroll-table-wrapper\">\n",
       "                <table class=\"scroll-table\">\n",
       "<thead>\n",
       "<tr><th>What aspects of the representative’s approach were most helpful to the customer?  </th></tr>\n",
       "</thead>\n",
       "<tbody>\n",
       "<tr><td>To help Jamie feel more confident in Quick&#x27;s offerings, Alex could have provided the following additional information:\n",
       "\n",
       "1. **Case Studies or Testimonials**: Sharing success stories or testimonials from similar businesses that have successfully implemented Quick could provide Jamie with reassurance about the platform&#x27;s reliability and effectiveness.\n",
       "\n",
       "2. **Detailed Setup Process**: A step-by-step overview of the setup process, perhaps with a brief demonstration or a video tutorial, could help alleviate Jamie&#x27;s concerns about the complexity of implementation.\n",
       "\n",
       "3. **Support Availability**: More specific details about the availability and responsiveness of the support team, such as 24/7 support or dedicated account managers, could reassure Jamie about getting timely help if needed.\n",
       "\n",
       "4. **Security and Compliance**: While Alex mentioned the fraud detection feature, providing more information about Quick&#x27;s overall security measures and compliance with industry standards (e.g., PCI DSS) could help build trust.\n",
       "\n",
       "5. **Comparative Advantage**: Highlighting what sets Quick apart from competitors in terms of features, pricing, or customer service could help Jamie understand why Quick is the best choice for their needs.\n",
       "\n",
       "6. **Customization Options**: Information on how customizable the platform is to meet specific business needs could be valuable, especially if Jamie has unique requirements.\n",
       "\n",
       "7. **Long-term Scalability**: Discussing how Quick can scale with Jamie&#x27;s business as it grows, including any additional features or services that could be beneficial in the future, might be reassuring.                                                                                   </td></tr>\n",
       "</tbody>\n",
       "</table>\n",
       "            </div>\n",
       "        </div>\n",
       "        "
      ],
      "text/plain": [
       "┏━━━━━━━━━━━━━━━━━━━━━━━━━━━━━━━━━━━━━━━━━━━━━━━━━━━━━━━━━━━━━━━━━━━━━━━━━━━━━━━━━━━━━━━━━━━━━━━━━━━━━━━━━━━━━━━━━┓\n",
       "┃\u001b[1m \u001b[0m\u001b[1mWhat aspects of the representative’s approach were most helpful to the customer?                               \u001b[0m\u001b[1m \u001b[0m┃\n",
       "┡━━━━━━━━━━━━━━━━━━━━━━━━━━━━━━━━━━━━━━━━━━━━━━━━━━━━━━━━━━━━━━━━━━━━━━━━━━━━━━━━━━━━━━━━━━━━━━━━━━━━━━━━━━━━━━━━━┩\n",
       "│ To help Jamie feel more confident in Quick's offerings, Alex could have provided the following additional       │\n",
       "│ information:                                                                                                    │\n",
       "│                                                                                                                 │\n",
       "│ 1. **Case Studies or Testimonials**: Sharing success stories or testimonials from similar businesses that have  │\n",
       "│ successfully implemented Quick could provide Jamie with reassurance about the platform's reliability and        │\n",
       "│ effectiveness.                                                                                                  │\n",
       "│                                                                                                                 │\n",
       "│ 2. **Detailed Setup Process**: A step-by-step overview of the setup process, perhaps with a brief demonstration │\n",
       "│ or a video tutorial, could help alleviate Jamie's concerns about the complexity of implementation.              │\n",
       "│                                                                                                                 │\n",
       "│ 3. **Support Availability**: More specific details about the availability and responsiveness of the support     │\n",
       "│ team, such as 24/7 support or dedicated account managers, could reassure Jamie about getting timely help if     │\n",
       "│ needed.                                                                                                         │\n",
       "│                                                                                                                 │\n",
       "│ 4. **Security and Compliance**: While Alex mentioned the fraud detection feature, providing more information    │\n",
       "│ about Quick's overall security measures and compliance with industry standards (e.g., PCI DSS) could help build │\n",
       "│ trust.                                                                                                          │\n",
       "│                                                                                                                 │\n",
       "│ 5. **Comparative Advantage**: Highlighting what sets Quick apart from competitors in terms of features,         │\n",
       "│ pricing, or customer service could help Jamie understand why Quick is the best choice for their needs.          │\n",
       "│                                                                                                                 │\n",
       "│ 6. **Customization Options**: Information on how customizable the platform is to meet specific business needs   │\n",
       "│ could be valuable, especially if Jamie has unique requirements.                                                 │\n",
       "│                                                                                                                 │\n",
       "│ 7. **Long-term Scalability**: Discussing how Quick can scale with Jamie's business as it grows, including any   │\n",
       "│ additional features or services that could be beneficial in the future, might be reassuring.                    │\n",
       "└─────────────────────────────────────────────────────────────────────────────────────────────────────────────────┘"
      ]
     },
     "execution_count": 14,
     "metadata": {},
     "output_type": "execute_result"
    }
   ],
   "source": [
    "(\n",
    "    results\n",
    "    .select(\"confident\")\n",
    "    .print(pretty_labels = {\"answer.confident\": q8.question_text})\n",
    ")"
   ]
  },
  {
   "cell_type": "markdown",
   "id": "042dc1c7-7724-4f8e-b334-c25fae584b76",
   "metadata": {
    "editable": true,
    "slideshow": {
     "slide_type": ""
    },
    "tags": []
   },
   "source": [
    "### Posting to the Coop\n",
    "The [Coop](https://www.expectedparrot.com/content/explore) is a platform for creating, storing and sharing LLM-based research.\n",
    "It is fully integrated with EDSL and accessible from your workspace or Coop account page.\n",
    "Learn more about [creating an account](https://www.expectedparrot.com/login) and [using the Coop](https://docs.expectedparrot.com/en/latest/coop.html).\n",
    "\n",
    "Here we demonstrate how to post this notebook:"
   ]
  },
  {
   "cell_type": "code",
   "execution_count": 16,
   "id": "63377a8d-eae0-4b85-bb33-d4f30501edad",
   "metadata": {
    "editable": true,
    "slideshow": {
     "slide_type": ""
    },
    "tags": [
     "skip-execution"
    ]
   },
   "outputs": [
    {
     "data": {
      "text/plain": [
       "{'description': 'Analyzing a customer call',\n",
       " 'object_type': 'notebook',\n",
       " 'url': 'https://www.expectedparrot.com/content/3ed06978-ae82-4185-ba80-d86c4d9e940d',\n",
       " 'uuid': '3ed06978-ae82-4185-ba80-d86c4d9e940d',\n",
       " 'version': '0.1.39.dev1',\n",
       " 'visibility': 'public'}"
      ]
     },
     "execution_count": 16,
     "metadata": {},
     "output_type": "execute_result"
    }
   ],
   "source": [
    "from edsl import Notebook\n",
    "\n",
    "notebook = Notebook(path = \"analyze_customer_call.ipynb\")\n",
    "\n",
    "info = notebook.push(description = \"Analyzing a customer call\", visibility = \"public\")\n",
    "info"
   ]
  },
  {
   "cell_type": "markdown",
   "id": "497055a7-3efd-4cc3-8766-bfbdfcfa15c3",
   "metadata": {
    "editable": true,
    "slideshow": {
     "slide_type": ""
    },
    "tags": []
   },
   "source": [
    "Updating content at the Coop:"
   ]
  },
  {
   "cell_type": "code",
   "execution_count": 17,
   "id": "7b291d44-ccf0-4b1a-8725-d97051648bc2",
   "metadata": {
    "editable": true,
    "slideshow": {
     "slide_type": ""
    },
    "tags": [
     "skip-execution"
    ]
   },
   "outputs": [
    {
     "data": {
      "text/plain": [
       "{'status': 'success'}"
      ]
     },
     "execution_count": 17,
     "metadata": {},
     "output_type": "execute_result"
    }
   ],
   "source": [
    "notebook = Notebook(path = \"analyze_customer_call.ipynb\") # resave\n",
    "\n",
    "notebook.patch(uuid = info[\"uuid\"], value = notebook)"
   ]
  }
 ],
 "metadata": {
  "kernelspec": {
   "display_name": "Python 3 (ipykernel)",
   "language": "python",
   "name": "python3"
  },
  "language_info": {
   "codemirror_mode": {
    "name": "ipython",
    "version": 3
   },
   "file_extension": ".py",
   "mimetype": "text/x-python",
   "name": "python",
   "nbconvert_exporter": "python",
   "pygments_lexer": "ipython3",
   "version": "3.11.7"
  }
 },
 "nbformat": 4,
 "nbformat_minor": 5
}
