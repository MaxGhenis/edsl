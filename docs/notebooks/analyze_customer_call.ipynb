{
 "cells": [
  {
   "cell_type": "markdown",
   "id": "99944fb4-3e42-45d6-82fb-07885805806d",
   "metadata": {
    "editable": true,
    "slideshow": {
     "slide_type": ""
    },
    "tags": []
   },
   "source": [
    "# Analyzing a transcript\n",
    "This notebook provides example EDSL code for analyzing a customer call with AI.\n",
    "\n",
    "[EDSL is an open-source library](https://github.com/expectedparrot/edsl) for simulating surveys, experiments and other research with AI agents and large language models. \n",
    "Before running the code below, please ensure that you have [installed the EDSL library](https://docs.expectedparrot.com/en/latest/installation.html) and either [activated remote inference](https://docs.expectedparrot.com/en/latest/remote_inference.html) from your [Coop account](https://docs.expectedparrot.com/en/latest/coop.html) or [stored API keys](https://docs.expectedparrot.com/en/latest/api_keys.html) for the language models that you want to use with EDSL. Please also see our [documentation page](https://docs.expectedparrot.com/) for tips and tutorials on getting started using EDSL."
   ]
  },
  {
   "cell_type": "markdown",
   "id": "f0923a12-3c45-4c41-a657-70a12987cb59",
   "metadata": {
    "editable": true,
    "slideshow": {
     "slide_type": ""
    },
    "tags": []
   },
   "source": [
    "### Constructing questions\n",
    "We start by importing the tools we will use and constructing questions that we want to ask about the contents of the call.\n",
    "EDSL provides many common [question types](https://docs.expectedparrot.com/en/latest/questions.html) that we can choose from based on the form of the response that we want to get back from language model: free text, multiple choice, etc."
   ]
  },
  {
   "cell_type": "code",
   "execution_count": 1,
   "id": "c9da889e-af94-48d8-aaf4-af9154c7a7f9",
   "metadata": {},
   "outputs": [],
   "source": [
    "from edsl import QuestionMultipleChoice, QuestionLinearScale, QuestionFreeText, Survey, Agent, AgentList, Model"
   ]
  },
  {
   "cell_type": "code",
   "execution_count": 2,
   "id": "798e2114-c700-41d6-bc5e-c9136fe3a191",
   "metadata": {},
   "outputs": [],
   "source": [
    "q1 = QuestionMultipleChoice(\n",
    "    question_name = \"understanding\",\n",
    "    question_text = \"How would you rate the representative's understanding of the customer's needs?\",\n",
    "    question_options = [\"Excellent\", \"Good\", \"Fair\", \"Poor\"]\n",
    ")\n",
    "q2 = QuestionMultipleChoice(\n",
    "    question_name = \"explain_features\",\n",
    "    question_text = \"How well did the representative explain the features relevant to the customer's business?\",\n",
    "    question_options = [\"Very clearly\", \"Somewhat clearly\", \"Unclear\", \"Not explained\"]\n",
    ")\n",
    "q3 = QuestionMultipleChoice(\n",
    "    question_name = \"address_concerns\",\n",
    "    question_text = \"How well did the representative address the questions and concerns of the customer?\",\n",
    "    question_options = [\"Very effectively\", \"Mostly effectively\", \"Somewhat effectively\", \"Not effectively\"]\n",
    ")\n",
    "q4 = QuestionMultipleChoice(\n",
    "    question_name = \"product_knowledge\",\n",
    "    question_text = \"How would you rate the representative's knowledge of the products and services discussed?\",\n",
    "    question_options = [\"Excellent\", \"Good\", \"Fair\", \"Poor\"]\n",
    ")\n",
    "q5 = QuestionMultipleChoice(\n",
    "    question_name = \"attentive\",\n",
    "    question_text = \"Did the representative appear attentive to the customer's needs and concerns?\",\n",
    "    question_options = [\"Very attentive\", \"Mostly attentive\", \"Somewhat attentive\", \"Not attentive\"]\n",
    ")\n",
    "q6 = QuestionLinearScale(\n",
    "    question_name = \"likely_sale\",\n",
    "    question_text = \"On a scale from 1 to 10, how likely is the customer to use the products and servies discussed?\",\n",
    "    question_options = [1,2,3,4,5,6,7,8,9,10]\n",
    ")\n",
    "q7 = QuestionMultipleChoice(\n",
    "    question_name = \"next_steps\",\n",
    "    question_text = \"Did the representative offer relevant next steps for implementation or testing products?\",\n",
    "    question_options = [\"Yes, very clear and actionable\", \"Somewhat clear\", \"Not clear\", \"No next steps offered\"]\n",
    ")\n",
    "q8 = QuestionFreeText(\n",
    "    question_name = \"helpful_approaches\",\n",
    "    question_text = \"What aspects of the representative’s approach were most helpful to the customer?\"\n",
    ")\n",
    "q9 = QuestionFreeText(\n",
    "    question_name = \"inadequate_explanation\",\n",
    "    question_text = \"Were any features or details not adequately explained?\"\n",
    ")\n",
    "q10 = QuestionFreeText(\n",
    "    question_name = \"improvements\",\n",
    "    question_text = \"How could the representative have improved their explanation of the products?\"\n",
    ")\n",
    "q11 = QuestionFreeText(\n",
    "    question_name = \"confusing\",\n",
    "    question_text = \"Was there anything about the conversation that seemed unclear or confusing?\"\n",
    ")\n",
    "q12 = QuestionFreeText(\n",
    "    question_name = \"confident\",\n",
    "    question_text = \"What additional information could have helped the customer feel more confident in the representative's offerings?\"\n",
    ")"
   ]
  },
  {
   "cell_type": "markdown",
   "id": "f208b3b1-a490-4e18-a6d5-874affe7a90d",
   "metadata": {},
   "source": [
    "We combine the questions in a survey in order to administer them together:"
   ]
  },
  {
   "cell_type": "code",
   "execution_count": 3,
   "id": "e3b36c34-34d0-4734-8d92-4218876f8406",
   "metadata": {},
   "outputs": [],
   "source": [
    "survey = Survey([q1, q2, q3, q4, q5, q6, q7, q8, q9, q10, q11, q12])"
   ]
  },
  {
   "cell_type": "markdown",
   "id": "cddba94f-4566-4db0-8441-6e03c6235e00",
   "metadata": {},
   "source": [
    "### Selecting content for review\n",
    "Next we import the text of the call that we want to give to the model in answering the questions.\n",
    "Here we use a mock transcript drafted by chatGPT:"
   ]
  },
  {
   "cell_type": "code",
   "execution_count": 4,
   "id": "6d47610a-ffe5-4516-9e38-84f0112f1738",
   "metadata": {},
   "outputs": [],
   "source": [
    "transcript = \"\"\"\n",
    "Alex (Quick Representative):\n",
    "Hi, Jamie! Thanks so much for taking the time to chat today. How’s everything going with your website?\n",
    "\n",
    "Jamie (Customer):\n",
    "Hi, Alex. It’s going okay, I think. We’re getting some users, but honestly, I’m just trying to figure out the best way to manage payments. It’s all new to me.\n",
    "\n",
    "Alex:\n",
    "Got it, no worries! Quick can really help simplify things for you. Our platform allows you to accept payments easily and has a subscription option, which I think you mentioned you were interested in, right?\n",
    "\n",
    "Jamie:\n",
    "Yeah, we’re thinking about offering different subscription levels for our software, but I’m not sure how to set it all up. And we have some international users, so that’s been a bit confusing too.\n",
    "\n",
    "Alex:\n",
    "Right, right. So, with Quick, you can definitely do subscriptions, and it handles multiple currencies, too. For example, if you have a customer in Europe, Quick can automatically handle the conversion. It’s designed to make that part easy, so you don’t need to worry too much about different currencies.\n",
    "\n",
    "Jamie:\n",
    "That sounds helpful. But I’m a bit concerned about the setup. I’m not a developer, so I’m worried this might be too complicated.\n",
    "\n",
    "Alex:\n",
    "Oh, yeah, I totally understand! Quick’s setup is meant to be as easy as possible. We have plugins and a lot of guides to walk you through it. I’d say that most people get it up and running without too much trouble. And if you do need help, our support team is available.\n",
    "\n",
    "Jamie:\n",
    "Okay, that’s a relief. I’ve heard some stories about people getting stuck for weeks with payment systems. I don’t want that to happen.\n",
    "\n",
    "Alex:\n",
    "I get that completely. We try to make it as straightforward as possible. Also, if you’re worried about fraud or security, Quick has a feature called Shield that helps detect fraud. It’s built in, so it’s automatically protecting you from day one.\n",
    "\n",
    "Jamie:\n",
    "Oh, that sounds good. I don’t know much about fraud detection. Is it something I’d have to set up?\n",
    "\n",
    "Alex:\n",
    "Nope! Shield is on by default, so you don’t have to configure anything special unless you want to. It uses machine learning to detect unusual activity based on data from many transactions, which helps catch fraudulent transactions without much work on your end.\n",
    "\n",
    "Jamie:\n",
    "That’s nice to know. What about fees? I’d like to have a clear idea of what this will cost.\n",
    "\n",
    "Alex:\n",
    "Absolutely. So, Quick charges 2.9% plus 30 cents per transaction. For subscriptions, there’s no extra fee beyond the normal transaction cost. Also, if you start processing a lot of payments, we do offer some discounts, but those kick in at a higher volume.\n",
    "\n",
    "Jamie:\n",
    "Alright, that makes sense. And what about invoicing? A few customers have asked about getting invoices instead of just a credit card charge.\n",
    "\n",
    "Alex:\n",
    "Yes, we can do that too. With Quick Invoicing, you can send out one-time or recurring invoices, which is nice if you have larger clients who prefer an invoice. It’s all within the Quick system, so it integrates well.\n",
    "\n",
    "Jamie:\n",
    "Good to know. I think this covers most of my questions. It sounds like Quick could be a good fit. I’d just need to make sure I’m able to actually set it up without a ton of back-and-forth.\n",
    "\n",
    "Alex:\n",
    "I totally understand, Jamie. I’ll send over some guides and set you up with a sandbox account to test things out. Let’s reconnect in a couple of weeks to go over any questions you might have.\n",
    "\n",
    "Jamie:\n",
    "Sounds good, thanks, Alex. Looking forward to trying it out.\n",
    "\n",
    "Alex:\n",
    "Great! Thanks for your time, Jamie. I’ll follow up soon. Have a good one!\n",
    "\"\"\""
   ]
  },
  {
   "cell_type": "markdown",
   "id": "a459fb4f-92d4-4f0b-9738-c8284478cad9",
   "metadata": {
    "editable": true,
    "slideshow": {
     "slide_type": ""
    },
    "tags": []
   },
   "source": [
    "### AI agent personas and instructions\n",
    "Here we create a persona and instructions for an AI agent that we will give a model to reference in answering questions. We include the transcript of the customer call in the agent instructions. (We could also include it directly in question texts; [learn more about using questions with multiple pieces of content](https://docs.expectedparrot.com/en/latest/scenarios.html) with `Scenario` objects.)"
   ]
  },
  {
   "cell_type": "code",
   "execution_count": 5,
   "id": "db482535-dc7a-4be7-aeb8-c441bfd6110f",
   "metadata": {
    "editable": true,
    "slideshow": {
     "slide_type": ""
    },
    "tags": []
   },
   "outputs": [],
   "source": [
    "agent = Agent(\n",
    "        traits = {\"persona\": \"You are an expert business development representative with many years of experience at diverse companies.\"},\n",
    "        instruction = \"\"\"\n",
    "        You are being asked to review the following transcript of a business development call between a representative of a payments \n",
    "        processing company and a potential customer and provide critical feedback.\n",
    "        Transcript: \n",
    "        \"\"\" + transcript\n",
    ")"
   ]
  },
  {
   "cell_type": "markdown",
   "id": "03884615-e2be-45a7-8d2a-8b32d6cbe38c",
   "metadata": {},
   "source": [
    "### Selecting a model\n",
    "EDSL works with many popular [language models that we can select](https://docs.expectedparrot.com/en/latest/language_models.html) to generate responses to the questions. Here we specify that we want to use OpenAI's GPT-4o:"
   ]
  },
  {
   "cell_type": "code",
   "execution_count": 6,
   "id": "c49f1a89-18a9-478f-b7a4-b21cf443dfc3",
   "metadata": {},
   "outputs": [],
   "source": [
    "model = Model(\"gpt-4o\")"
   ]
  },
  {
   "cell_type": "markdown",
   "id": "d96d7876-213e-4830-a205-fbadca514a33",
   "metadata": {},
   "source": [
    "### Running the survey\n",
    "Next we add the agents and model to the survey and run it:"
   ]
  },
  {
   "cell_type": "code",
   "execution_count": 7,
   "id": "73189496-67e9-4e26-bf5d-104a5b720dd5",
   "metadata": {},
   "outputs": [
    {
     "name": "stdout",
     "output_type": "stream",
     "text": [
      "Job sent to server. (Job uuid=98a39b8b-8c39-45fe-84ca-df7562a3e869).\n",
      "Job completed and Results stored on Coop: https://www.expectedparrot.com/content/15e79d9f-704e-4d19-a5ed-211a8a47ca74.\n"
     ]
    }
   ],
   "source": [
    "results = survey.by(agent).by(model).run()"
   ]
  },
  {
   "cell_type": "markdown",
   "id": "64b03671-da30-41c1-bda2-e50aab35e4c5",
   "metadata": {},
   "source": [
    "This generates a formatted dataset of results that we can inspect with [built-in methods for analyzing responses](https://docs.expectedparrot.com/en/latest/results.html).\n",
    "Here we print them in some tables together with information about each persona that was used:"
   ]
  },
  {
   "cell_type": "code",
   "execution_count": 8,
   "id": "5789083e-eab5-4c78-964a-5c7483d12f86",
   "metadata": {},
   "outputs": [
    {
     "data": {
      "text/html": [
       "<pre style=\"white-space:pre;overflow-x:auto;line-height:normal;font-family:Menlo,'DejaVu Sans Mono',consolas,'Courier New',monospace\">┏━━━━━━━━━━━━━━━━━━━━━━┳━━━━━━━━━━━━━━━━━━━━━━┳━━━━━━━━━━━━━━━━━━━━━━┳━━━━━━━━━━━━━━━━━━━━━━┳━━━━━━━━━━━━━━━━━━━━━┓\n",
       "┃<span style=\"color: #800080; text-decoration-color: #800080; font-weight: bold\">                      </span>┃<span style=\"color: #800080; text-decoration-color: #800080; font-weight: bold\">                      </span>┃<span style=\"color: #800080; text-decoration-color: #800080; font-weight: bold\">                      </span>┃<span style=\"color: #800080; text-decoration-color: #800080; font-weight: bold\"> How well did the     </span>┃<span style=\"color: #800080; text-decoration-color: #800080; font-weight: bold\"> How would you rate  </span>┃\n",
       "┃<span style=\"color: #800080; text-decoration-color: #800080; font-weight: bold\">                      </span>┃<span style=\"color: #800080; text-decoration-color: #800080; font-weight: bold\">                      </span>┃<span style=\"color: #800080; text-decoration-color: #800080; font-weight: bold\"> How well did the     </span>┃<span style=\"color: #800080; text-decoration-color: #800080; font-weight: bold\"> representative       </span>┃<span style=\"color: #800080; text-decoration-color: #800080; font-weight: bold\"> the                 </span>┃\n",
       "┃<span style=\"color: #800080; text-decoration-color: #800080; font-weight: bold\">                      </span>┃<span style=\"color: #800080; text-decoration-color: #800080; font-weight: bold\"> How would you rate   </span>┃<span style=\"color: #800080; text-decoration-color: #800080; font-weight: bold\"> representative       </span>┃<span style=\"color: #800080; text-decoration-color: #800080; font-weight: bold\"> address the          </span>┃<span style=\"color: #800080; text-decoration-color: #800080; font-weight: bold\"> representative's    </span>┃\n",
       "┃<span style=\"color: #800080; text-decoration-color: #800080; font-weight: bold\">                      </span>┃<span style=\"color: #800080; text-decoration-color: #800080; font-weight: bold\"> the representative's </span>┃<span style=\"color: #800080; text-decoration-color: #800080; font-weight: bold\"> explain the features </span>┃<span style=\"color: #800080; text-decoration-color: #800080; font-weight: bold\"> questions and        </span>┃<span style=\"color: #800080; text-decoration-color: #800080; font-weight: bold\"> knowledge of the    </span>┃\n",
       "┃<span style=\"color: #800080; text-decoration-color: #800080; font-weight: bold\">                      </span>┃<span style=\"color: #800080; text-decoration-color: #800080; font-weight: bold\"> understanding of the </span>┃<span style=\"color: #800080; text-decoration-color: #800080; font-weight: bold\"> relevant to the      </span>┃<span style=\"color: #800080; text-decoration-color: #800080; font-weight: bold\"> concerns of the      </span>┃<span style=\"color: #800080; text-decoration-color: #800080; font-weight: bold\"> products and        </span>┃\n",
       "┃<span style=\"color: #800080; text-decoration-color: #800080; font-weight: bold\"> Persona              </span>┃<span style=\"color: #800080; text-decoration-color: #800080; font-weight: bold\"> customer's needs?    </span>┃<span style=\"color: #800080; text-decoration-color: #800080; font-weight: bold\"> customer's business? </span>┃<span style=\"color: #800080; text-decoration-color: #800080; font-weight: bold\"> customer?            </span>┃<span style=\"color: #800080; text-decoration-color: #800080; font-weight: bold\"> services discussed? </span>┃\n",
       "┡━━━━━━━━━━━━━━━━━━━━━━╇━━━━━━━━━━━━━━━━━━━━━━╇━━━━━━━━━━━━━━━━━━━━━━╇━━━━━━━━━━━━━━━━━━━━━━╇━━━━━━━━━━━━━━━━━━━━━┩\n",
       "│<span style=\"color: #7f7f7f; text-decoration-color: #7f7f7f\"> You are an expert    </span>│<span style=\"color: #7f7f7f; text-decoration-color: #7f7f7f\"> Good                 </span>│<span style=\"color: #7f7f7f; text-decoration-color: #7f7f7f\"> Somewhat clearly     </span>│<span style=\"color: #7f7f7f; text-decoration-color: #7f7f7f\"> Mostly effectively   </span>│<span style=\"color: #7f7f7f; text-decoration-color: #7f7f7f\"> Good                </span>│\n",
       "│<span style=\"color: #7f7f7f; text-decoration-color: #7f7f7f\"> business development </span>│<span style=\"color: #7f7f7f; text-decoration-color: #7f7f7f\">                      </span>│<span style=\"color: #7f7f7f; text-decoration-color: #7f7f7f\">                      </span>│<span style=\"color: #7f7f7f; text-decoration-color: #7f7f7f\">                      </span>│<span style=\"color: #7f7f7f; text-decoration-color: #7f7f7f\">                     </span>│\n",
       "│<span style=\"color: #7f7f7f; text-decoration-color: #7f7f7f\"> representative with  </span>│<span style=\"color: #7f7f7f; text-decoration-color: #7f7f7f\">                      </span>│<span style=\"color: #7f7f7f; text-decoration-color: #7f7f7f\">                      </span>│<span style=\"color: #7f7f7f; text-decoration-color: #7f7f7f\">                      </span>│<span style=\"color: #7f7f7f; text-decoration-color: #7f7f7f\">                     </span>│\n",
       "│<span style=\"color: #7f7f7f; text-decoration-color: #7f7f7f\"> many years of        </span>│<span style=\"color: #7f7f7f; text-decoration-color: #7f7f7f\">                      </span>│<span style=\"color: #7f7f7f; text-decoration-color: #7f7f7f\">                      </span>│<span style=\"color: #7f7f7f; text-decoration-color: #7f7f7f\">                      </span>│<span style=\"color: #7f7f7f; text-decoration-color: #7f7f7f\">                     </span>│\n",
       "│<span style=\"color: #7f7f7f; text-decoration-color: #7f7f7f\"> experience at        </span>│<span style=\"color: #7f7f7f; text-decoration-color: #7f7f7f\">                      </span>│<span style=\"color: #7f7f7f; text-decoration-color: #7f7f7f\">                      </span>│<span style=\"color: #7f7f7f; text-decoration-color: #7f7f7f\">                      </span>│<span style=\"color: #7f7f7f; text-decoration-color: #7f7f7f\">                     </span>│\n",
       "│<span style=\"color: #7f7f7f; text-decoration-color: #7f7f7f\"> diverse companies.   </span>│<span style=\"color: #7f7f7f; text-decoration-color: #7f7f7f\">                      </span>│<span style=\"color: #7f7f7f; text-decoration-color: #7f7f7f\">                      </span>│<span style=\"color: #7f7f7f; text-decoration-color: #7f7f7f\">                      </span>│<span style=\"color: #7f7f7f; text-decoration-color: #7f7f7f\">                     </span>│\n",
       "└──────────────────────┴──────────────────────┴──────────────────────┴──────────────────────┴─────────────────────┘\n",
       "</pre>\n"
      ],
      "text/plain": [
       "┏━━━━━━━━━━━━━━━━━━━━━━┳━━━━━━━━━━━━━━━━━━━━━━┳━━━━━━━━━━━━━━━━━━━━━━┳━━━━━━━━━━━━━━━━━━━━━━┳━━━━━━━━━━━━━━━━━━━━━┓\n",
       "┃\u001b[1;35m                      \u001b[0m┃\u001b[1;35m                      \u001b[0m┃\u001b[1;35m                      \u001b[0m┃\u001b[1;35m \u001b[0m\u001b[1;35mHow well did the    \u001b[0m\u001b[1;35m \u001b[0m┃\u001b[1;35m \u001b[0m\u001b[1;35mHow would you rate \u001b[0m\u001b[1;35m \u001b[0m┃\n",
       "┃\u001b[1;35m                      \u001b[0m┃\u001b[1;35m                      \u001b[0m┃\u001b[1;35m \u001b[0m\u001b[1;35mHow well did the    \u001b[0m\u001b[1;35m \u001b[0m┃\u001b[1;35m \u001b[0m\u001b[1;35mrepresentative      \u001b[0m\u001b[1;35m \u001b[0m┃\u001b[1;35m \u001b[0m\u001b[1;35mthe                \u001b[0m\u001b[1;35m \u001b[0m┃\n",
       "┃\u001b[1;35m                      \u001b[0m┃\u001b[1;35m \u001b[0m\u001b[1;35mHow would you rate  \u001b[0m\u001b[1;35m \u001b[0m┃\u001b[1;35m \u001b[0m\u001b[1;35mrepresentative      \u001b[0m\u001b[1;35m \u001b[0m┃\u001b[1;35m \u001b[0m\u001b[1;35maddress the         \u001b[0m\u001b[1;35m \u001b[0m┃\u001b[1;35m \u001b[0m\u001b[1;35mrepresentative's   \u001b[0m\u001b[1;35m \u001b[0m┃\n",
       "┃\u001b[1;35m                      \u001b[0m┃\u001b[1;35m \u001b[0m\u001b[1;35mthe representative's\u001b[0m\u001b[1;35m \u001b[0m┃\u001b[1;35m \u001b[0m\u001b[1;35mexplain the features\u001b[0m\u001b[1;35m \u001b[0m┃\u001b[1;35m \u001b[0m\u001b[1;35mquestions and       \u001b[0m\u001b[1;35m \u001b[0m┃\u001b[1;35m \u001b[0m\u001b[1;35mknowledge of the   \u001b[0m\u001b[1;35m \u001b[0m┃\n",
       "┃\u001b[1;35m                      \u001b[0m┃\u001b[1;35m \u001b[0m\u001b[1;35munderstanding of the\u001b[0m\u001b[1;35m \u001b[0m┃\u001b[1;35m \u001b[0m\u001b[1;35mrelevant to the     \u001b[0m\u001b[1;35m \u001b[0m┃\u001b[1;35m \u001b[0m\u001b[1;35mconcerns of the     \u001b[0m\u001b[1;35m \u001b[0m┃\u001b[1;35m \u001b[0m\u001b[1;35mproducts and       \u001b[0m\u001b[1;35m \u001b[0m┃\n",
       "┃\u001b[1;35m \u001b[0m\u001b[1;35mPersona             \u001b[0m\u001b[1;35m \u001b[0m┃\u001b[1;35m \u001b[0m\u001b[1;35mcustomer's needs?   \u001b[0m\u001b[1;35m \u001b[0m┃\u001b[1;35m \u001b[0m\u001b[1;35mcustomer's business?\u001b[0m\u001b[1;35m \u001b[0m┃\u001b[1;35m \u001b[0m\u001b[1;35mcustomer?           \u001b[0m\u001b[1;35m \u001b[0m┃\u001b[1;35m \u001b[0m\u001b[1;35mservices discussed?\u001b[0m\u001b[1;35m \u001b[0m┃\n",
       "┡━━━━━━━━━━━━━━━━━━━━━━╇━━━━━━━━━━━━━━━━━━━━━━╇━━━━━━━━━━━━━━━━━━━━━━╇━━━━━━━━━━━━━━━━━━━━━━╇━━━━━━━━━━━━━━━━━━━━━┩\n",
       "│\u001b[2m \u001b[0m\u001b[2mYou are an expert   \u001b[0m\u001b[2m \u001b[0m│\u001b[2m \u001b[0m\u001b[2mGood                \u001b[0m\u001b[2m \u001b[0m│\u001b[2m \u001b[0m\u001b[2mSomewhat clearly    \u001b[0m\u001b[2m \u001b[0m│\u001b[2m \u001b[0m\u001b[2mMostly effectively  \u001b[0m\u001b[2m \u001b[0m│\u001b[2m \u001b[0m\u001b[2mGood               \u001b[0m\u001b[2m \u001b[0m│\n",
       "│\u001b[2m \u001b[0m\u001b[2mbusiness development\u001b[0m\u001b[2m \u001b[0m│\u001b[2m                      \u001b[0m│\u001b[2m                      \u001b[0m│\u001b[2m                      \u001b[0m│\u001b[2m                     \u001b[0m│\n",
       "│\u001b[2m \u001b[0m\u001b[2mrepresentative with \u001b[0m\u001b[2m \u001b[0m│\u001b[2m                      \u001b[0m│\u001b[2m                      \u001b[0m│\u001b[2m                      \u001b[0m│\u001b[2m                     \u001b[0m│\n",
       "│\u001b[2m \u001b[0m\u001b[2mmany years of       \u001b[0m\u001b[2m \u001b[0m│\u001b[2m                      \u001b[0m│\u001b[2m                      \u001b[0m│\u001b[2m                      \u001b[0m│\u001b[2m                     \u001b[0m│\n",
       "│\u001b[2m \u001b[0m\u001b[2mexperience at       \u001b[0m\u001b[2m \u001b[0m│\u001b[2m                      \u001b[0m│\u001b[2m                      \u001b[0m│\u001b[2m                      \u001b[0m│\u001b[2m                     \u001b[0m│\n",
       "│\u001b[2m \u001b[0m\u001b[2mdiverse companies.  \u001b[0m\u001b[2m \u001b[0m│\u001b[2m                      \u001b[0m│\u001b[2m                      \u001b[0m│\u001b[2m                      \u001b[0m│\u001b[2m                     \u001b[0m│\n",
       "└──────────────────────┴──────────────────────┴──────────────────────┴──────────────────────┴─────────────────────┘\n"
      ]
     },
     "metadata": {},
     "output_type": "display_data"
    }
   ],
   "source": [
    "(\n",
    "    results\n",
    "    .select(\"persona\", \"understanding\", \"explain_features\", \"address_concerns\", \"product_knowledge\", \n",
    "            # \"attentive\", \"likely_sale\", \"next_steps\"\n",
    "           )\n",
    "    .print(\n",
    "        pretty_labels = {\n",
    "            \"agent.persona\": \"Persona\",\n",
    "            \"answer.understanding\": q1.question_text, \n",
    "            \"answer.explain_features\": q2.question_text, \n",
    "            \"answer.address_concerns\": q3.question_text, \n",
    "            \"answer.product_knowledge\": q4.question_text, \n",
    "            # \"answer.attentive\": q5.question_text, \n",
    "            # \"answer.likely_sale\": q6.question_text, \n",
    "            # \"answer.next_steps\": q7.question_text\n",
    "        },\n",
    "        format = \"rich\"\n",
    "    )\n",
    ")"
   ]
  },
  {
   "cell_type": "code",
   "execution_count": 9,
   "id": "e6567ec1-6354-4202-8f91-484807deca7d",
   "metadata": {},
   "outputs": [
    {
     "data": {
      "text/html": [
       "<pre style=\"white-space:pre;overflow-x:auto;line-height:normal;font-family:Menlo,'DejaVu Sans Mono',consolas,'Courier New',monospace\">┏━━━━━━━━━━━━━━━━━━━━━━━━━━━┳━━━━━━━━━━━━━━━━━━━━━━━━━━━━┳━━━━━━━━━━━━━━━━━━━━━━━━━━━┳━━━━━━━━━━━━━━━━━━━━━━━━━━━━┓\n",
       "┃<span style=\"color: #800080; text-decoration-color: #800080; font-weight: bold\">                           </span>┃<span style=\"color: #800080; text-decoration-color: #800080; font-weight: bold\">                            </span>┃<span style=\"color: #800080; text-decoration-color: #800080; font-weight: bold\"> On a scale from 1 to 10,  </span>┃<span style=\"color: #800080; text-decoration-color: #800080; font-weight: bold\">                            </span>┃\n",
       "┃<span style=\"color: #800080; text-decoration-color: #800080; font-weight: bold\">                           </span>┃<span style=\"color: #800080; text-decoration-color: #800080; font-weight: bold\"> Did the representative     </span>┃<span style=\"color: #800080; text-decoration-color: #800080; font-weight: bold\"> how likely is the         </span>┃<span style=\"color: #800080; text-decoration-color: #800080; font-weight: bold\"> Did the representative     </span>┃\n",
       "┃<span style=\"color: #800080; text-decoration-color: #800080; font-weight: bold\">                           </span>┃<span style=\"color: #800080; text-decoration-color: #800080; font-weight: bold\"> appear attentive to the    </span>┃<span style=\"color: #800080; text-decoration-color: #800080; font-weight: bold\"> customer to use the       </span>┃<span style=\"color: #800080; text-decoration-color: #800080; font-weight: bold\"> offer relevant next steps  </span>┃\n",
       "┃<span style=\"color: #800080; text-decoration-color: #800080; font-weight: bold\">                           </span>┃<span style=\"color: #800080; text-decoration-color: #800080; font-weight: bold\"> customer's needs and       </span>┃<span style=\"color: #800080; text-decoration-color: #800080; font-weight: bold\"> products and servies      </span>┃<span style=\"color: #800080; text-decoration-color: #800080; font-weight: bold\"> for implementation or      </span>┃\n",
       "┃<span style=\"color: #800080; text-decoration-color: #800080; font-weight: bold\"> Persona                   </span>┃<span style=\"color: #800080; text-decoration-color: #800080; font-weight: bold\"> concerns?                  </span>┃<span style=\"color: #800080; text-decoration-color: #800080; font-weight: bold\"> discussed?                </span>┃<span style=\"color: #800080; text-decoration-color: #800080; font-weight: bold\"> testing products?          </span>┃\n",
       "┡━━━━━━━━━━━━━━━━━━━━━━━━━━━╇━━━━━━━━━━━━━━━━━━━━━━━━━━━━╇━━━━━━━━━━━━━━━━━━━━━━━━━━━╇━━━━━━━━━━━━━━━━━━━━━━━━━━━━┩\n",
       "│<span style=\"color: #7f7f7f; text-decoration-color: #7f7f7f\"> You are an expert         </span>│<span style=\"color: #7f7f7f; text-decoration-color: #7f7f7f\"> Mostly attentive           </span>│<span style=\"color: #7f7f7f; text-decoration-color: #7f7f7f\"> 8                         </span>│<span style=\"color: #7f7f7f; text-decoration-color: #7f7f7f\"> Yes, very clear and        </span>│\n",
       "│<span style=\"color: #7f7f7f; text-decoration-color: #7f7f7f\"> business development      </span>│<span style=\"color: #7f7f7f; text-decoration-color: #7f7f7f\">                            </span>│<span style=\"color: #7f7f7f; text-decoration-color: #7f7f7f\">                           </span>│<span style=\"color: #7f7f7f; text-decoration-color: #7f7f7f\"> actionable                 </span>│\n",
       "│<span style=\"color: #7f7f7f; text-decoration-color: #7f7f7f\"> representative with many  </span>│<span style=\"color: #7f7f7f; text-decoration-color: #7f7f7f\">                            </span>│<span style=\"color: #7f7f7f; text-decoration-color: #7f7f7f\">                           </span>│<span style=\"color: #7f7f7f; text-decoration-color: #7f7f7f\">                            </span>│\n",
       "│<span style=\"color: #7f7f7f; text-decoration-color: #7f7f7f\"> years of experience at    </span>│<span style=\"color: #7f7f7f; text-decoration-color: #7f7f7f\">                            </span>│<span style=\"color: #7f7f7f; text-decoration-color: #7f7f7f\">                           </span>│<span style=\"color: #7f7f7f; text-decoration-color: #7f7f7f\">                            </span>│\n",
       "│<span style=\"color: #7f7f7f; text-decoration-color: #7f7f7f\"> diverse companies.        </span>│<span style=\"color: #7f7f7f; text-decoration-color: #7f7f7f\">                            </span>│<span style=\"color: #7f7f7f; text-decoration-color: #7f7f7f\">                           </span>│<span style=\"color: #7f7f7f; text-decoration-color: #7f7f7f\">                            </span>│\n",
       "└───────────────────────────┴────────────────────────────┴───────────────────────────┴────────────────────────────┘\n",
       "</pre>\n"
      ],
      "text/plain": [
       "┏━━━━━━━━━━━━━━━━━━━━━━━━━━━┳━━━━━━━━━━━━━━━━━━━━━━━━━━━━┳━━━━━━━━━━━━━━━━━━━━━━━━━━━┳━━━━━━━━━━━━━━━━━━━━━━━━━━━━┓\n",
       "┃\u001b[1;35m                           \u001b[0m┃\u001b[1;35m                            \u001b[0m┃\u001b[1;35m \u001b[0m\u001b[1;35mOn a scale from 1 to 10, \u001b[0m\u001b[1;35m \u001b[0m┃\u001b[1;35m                            \u001b[0m┃\n",
       "┃\u001b[1;35m                           \u001b[0m┃\u001b[1;35m \u001b[0m\u001b[1;35mDid the representative    \u001b[0m\u001b[1;35m \u001b[0m┃\u001b[1;35m \u001b[0m\u001b[1;35mhow likely is the        \u001b[0m\u001b[1;35m \u001b[0m┃\u001b[1;35m \u001b[0m\u001b[1;35mDid the representative    \u001b[0m\u001b[1;35m \u001b[0m┃\n",
       "┃\u001b[1;35m                           \u001b[0m┃\u001b[1;35m \u001b[0m\u001b[1;35mappear attentive to the   \u001b[0m\u001b[1;35m \u001b[0m┃\u001b[1;35m \u001b[0m\u001b[1;35mcustomer to use the      \u001b[0m\u001b[1;35m \u001b[0m┃\u001b[1;35m \u001b[0m\u001b[1;35moffer relevant next steps \u001b[0m\u001b[1;35m \u001b[0m┃\n",
       "┃\u001b[1;35m                           \u001b[0m┃\u001b[1;35m \u001b[0m\u001b[1;35mcustomer's needs and      \u001b[0m\u001b[1;35m \u001b[0m┃\u001b[1;35m \u001b[0m\u001b[1;35mproducts and servies     \u001b[0m\u001b[1;35m \u001b[0m┃\u001b[1;35m \u001b[0m\u001b[1;35mfor implementation or     \u001b[0m\u001b[1;35m \u001b[0m┃\n",
       "┃\u001b[1;35m \u001b[0m\u001b[1;35mPersona                  \u001b[0m\u001b[1;35m \u001b[0m┃\u001b[1;35m \u001b[0m\u001b[1;35mconcerns?                 \u001b[0m\u001b[1;35m \u001b[0m┃\u001b[1;35m \u001b[0m\u001b[1;35mdiscussed?               \u001b[0m\u001b[1;35m \u001b[0m┃\u001b[1;35m \u001b[0m\u001b[1;35mtesting products?         \u001b[0m\u001b[1;35m \u001b[0m┃\n",
       "┡━━━━━━━━━━━━━━━━━━━━━━━━━━━╇━━━━━━━━━━━━━━━━━━━━━━━━━━━━╇━━━━━━━━━━━━━━━━━━━━━━━━━━━╇━━━━━━━━━━━━━━━━━━━━━━━━━━━━┩\n",
       "│\u001b[2m \u001b[0m\u001b[2mYou are an expert        \u001b[0m\u001b[2m \u001b[0m│\u001b[2m \u001b[0m\u001b[2mMostly attentive          \u001b[0m\u001b[2m \u001b[0m│\u001b[2m \u001b[0m\u001b[2m8                        \u001b[0m\u001b[2m \u001b[0m│\u001b[2m \u001b[0m\u001b[2mYes, very clear and       \u001b[0m\u001b[2m \u001b[0m│\n",
       "│\u001b[2m \u001b[0m\u001b[2mbusiness development     \u001b[0m\u001b[2m \u001b[0m│\u001b[2m                            \u001b[0m│\u001b[2m                           \u001b[0m│\u001b[2m \u001b[0m\u001b[2mactionable                \u001b[0m\u001b[2m \u001b[0m│\n",
       "│\u001b[2m \u001b[0m\u001b[2mrepresentative with many \u001b[0m\u001b[2m \u001b[0m│\u001b[2m                            \u001b[0m│\u001b[2m                           \u001b[0m│\u001b[2m                            \u001b[0m│\n",
       "│\u001b[2m \u001b[0m\u001b[2myears of experience at   \u001b[0m\u001b[2m \u001b[0m│\u001b[2m                            \u001b[0m│\u001b[2m                           \u001b[0m│\u001b[2m                            \u001b[0m│\n",
       "│\u001b[2m \u001b[0m\u001b[2mdiverse companies.       \u001b[0m\u001b[2m \u001b[0m│\u001b[2m                            \u001b[0m│\u001b[2m                           \u001b[0m│\u001b[2m                            \u001b[0m│\n",
       "└───────────────────────────┴────────────────────────────┴───────────────────────────┴────────────────────────────┘\n"
      ]
     },
     "metadata": {},
     "output_type": "display_data"
    }
   ],
   "source": [
    "(\n",
    "    results\n",
    "    .select(\"persona\", \n",
    "            # \"understanding\", \"explain_features\", \"address_concerns\", \"product_knowledge\", \n",
    "            \"attentive\", \"likely_sale\", \"next_steps\"\n",
    "           )\n",
    "    .print(\n",
    "        pretty_labels = {\n",
    "            \"agent.persona\": \"Persona\",\n",
    "            # \"answer.understanding\": q1.question_text, \n",
    "            # \"answer.explain_features\": q2.question_text, \n",
    "            # \"answer.address_concerns\": q3.question_text, \n",
    "            # \"answer.product_knowledge\": q4.question_text, \n",
    "            \"answer.attentive\": q5.question_text, \n",
    "            \"answer.likely_sale\": q6.question_text, \n",
    "            \"answer.next_steps\": q7.question_text\n",
    "        },\n",
    "        format = \"rich\"\n",
    "    )\n",
    ")"
   ]
  },
  {
   "cell_type": "code",
   "execution_count": 10,
   "id": "35beaa15-5484-4461-baff-344c4226e2f1",
   "metadata": {},
   "outputs": [
    {
     "data": {
      "text/html": [
       "<pre style=\"white-space:pre;overflow-x:auto;line-height:normal;font-family:Menlo,'DejaVu Sans Mono',consolas,'Courier New',monospace\">┏━━━━━━━━━━━━━━━━━━━━━━━━━━━━━━━━━━━━━━━━━━━━━━━━━━━━━━━━━━━━━━━━━━━━━━━━━━━━━━━━━━━━━━━━━━━━━━━━━━━━━━━━━━━━━━━━━┓\n",
       "┃<span style=\"color: #800080; text-decoration-color: #800080; font-weight: bold\"> What aspects of the representative’s approach were most helpful to the customer?                                </span>┃\n",
       "┡━━━━━━━━━━━━━━━━━━━━━━━━━━━━━━━━━━━━━━━━━━━━━━━━━━━━━━━━━━━━━━━━━━━━━━━━━━━━━━━━━━━━━━━━━━━━━━━━━━━━━━━━━━━━━━━━━┩\n",
       "│<span style=\"color: #7f7f7f; text-decoration-color: #7f7f7f\"> The representative, Alex, demonstrated several helpful aspects in their approach:                               </span>│\n",
       "│<span style=\"color: #7f7f7f; text-decoration-color: #7f7f7f\">                                                                                                                 </span>│\n",
       "│<span style=\"color: #7f7f7f; text-decoration-color: #7f7f7f\"> 1. **Understanding and Empathy**: Alex showed understanding and empathy towards Jamie's concerns, particularly  </span>│\n",
       "│<span style=\"color: #7f7f7f; text-decoration-color: #7f7f7f\"> regarding the complexity of setting up payment systems and the potential for getting stuck. This helped build   </span>│\n",
       "│<span style=\"color: #7f7f7f; text-decoration-color: #7f7f7f\"> trust and rapport.                                                                                              </span>│\n",
       "│<span style=\"color: #7f7f7f; text-decoration-color: #7f7f7f\">                                                                                                                 </span>│\n",
       "│<span style=\"color: #7f7f7f; text-decoration-color: #7f7f7f\"> 2. **Clear Explanation of Features**: Alex provided a clear explanation of Quick's features, such as handling   </span>│\n",
       "│<span style=\"color: #7f7f7f; text-decoration-color: #7f7f7f\"> subscriptions, multiple currencies, and fraud detection with Shield. This helped Jamie understand how the       </span>│\n",
       "│<span style=\"color: #7f7f7f; text-decoration-color: #7f7f7f\"> platform could meet their specific needs.                                                                       </span>│\n",
       "│<span style=\"color: #7f7f7f; text-decoration-color: #7f7f7f\">                                                                                                                 </span>│\n",
       "│<span style=\"color: #7f7f7f; text-decoration-color: #7f7f7f\"> 3. **Reassurance on Ease of Setup**: By emphasizing the ease of setup with plugins, guides, and available       </span>│\n",
       "│<span style=\"color: #7f7f7f; text-decoration-color: #7f7f7f\"> support, Alex addressed Jamie's concerns about not being a developer and reassured them about the process.      </span>│\n",
       "│<span style=\"color: #7f7f7f; text-decoration-color: #7f7f7f\">                                                                                                                 </span>│\n",
       "│<span style=\"color: #7f7f7f; text-decoration-color: #7f7f7f\"> 4. **Proactive Offer of Support**: Alex offered to send guides and set up a sandbox account, showing a          </span>│\n",
       "│<span style=\"color: #7f7f7f; text-decoration-color: #7f7f7f\"> proactive approach to ensuring Jamie could test and understand the system without commitment.                   </span>│\n",
       "│<span style=\"color: #7f7f7f; text-decoration-color: #7f7f7f\">                                                                                                                 </span>│\n",
       "│<span style=\"color: #7f7f7f; text-decoration-color: #7f7f7f\"> 5. **Transparent Pricing Information**: By clearly explaining the transaction fees and mentioning potential     </span>│\n",
       "│<span style=\"color: #7f7f7f; text-decoration-color: #7f7f7f\"> discounts for higher volumes, Alex provided transparency about the costs involved, which is crucial for         </span>│\n",
       "│<span style=\"color: #7f7f7f; text-decoration-color: #7f7f7f\"> customer decision-making.                                                                                       </span>│\n",
       "│<span style=\"color: #7f7f7f; text-decoration-color: #7f7f7f\">                                                                                                                 </span>│\n",
       "│<span style=\"color: #7f7f7f; text-decoration-color: #7f7f7f\"> 6. **Addressing Additional Needs**: Alex responded to Jamie's inquiry about invoicing by explaining the Quick   </span>│\n",
       "│<span style=\"color: #7f7f7f; text-decoration-color: #7f7f7f\"> Invoicing feature, demonstrating attentiveness to Jamie's business requirements.                                </span>│\n",
       "└─────────────────────────────────────────────────────────────────────────────────────────────────────────────────┘\n",
       "</pre>\n"
      ],
      "text/plain": [
       "┏━━━━━━━━━━━━━━━━━━━━━━━━━━━━━━━━━━━━━━━━━━━━━━━━━━━━━━━━━━━━━━━━━━━━━━━━━━━━━━━━━━━━━━━━━━━━━━━━━━━━━━━━━━━━━━━━━┓\n",
       "┃\u001b[1;35m \u001b[0m\u001b[1;35mWhat aspects of the representative’s approach were most helpful to the customer?                               \u001b[0m\u001b[1;35m \u001b[0m┃\n",
       "┡━━━━━━━━━━━━━━━━━━━━━━━━━━━━━━━━━━━━━━━━━━━━━━━━━━━━━━━━━━━━━━━━━━━━━━━━━━━━━━━━━━━━━━━━━━━━━━━━━━━━━━━━━━━━━━━━━┩\n",
       "│\u001b[2m \u001b[0m\u001b[2mThe representative, Alex, demonstrated several helpful aspects in their approach:                              \u001b[0m\u001b[2m \u001b[0m│\n",
       "│\u001b[2m \u001b[0m\u001b[2m                                                                                                               \u001b[0m\u001b[2m \u001b[0m│\n",
       "│\u001b[2m \u001b[0m\u001b[2m1. **Understanding and Empathy**: Alex showed understanding and empathy towards Jamie's concerns, particularly \u001b[0m\u001b[2m \u001b[0m│\n",
       "│\u001b[2m \u001b[0m\u001b[2mregarding the complexity of setting up payment systems and the potential for getting stuck. This helped build  \u001b[0m\u001b[2m \u001b[0m│\n",
       "│\u001b[2m \u001b[0m\u001b[2mtrust and rapport.                                                                                             \u001b[0m\u001b[2m \u001b[0m│\n",
       "│\u001b[2m \u001b[0m\u001b[2m                                                                                                               \u001b[0m\u001b[2m \u001b[0m│\n",
       "│\u001b[2m \u001b[0m\u001b[2m2. **Clear Explanation of Features**: Alex provided a clear explanation of Quick's features, such as handling  \u001b[0m\u001b[2m \u001b[0m│\n",
       "│\u001b[2m \u001b[0m\u001b[2msubscriptions, multiple currencies, and fraud detection with Shield. This helped Jamie understand how the      \u001b[0m\u001b[2m \u001b[0m│\n",
       "│\u001b[2m \u001b[0m\u001b[2mplatform could meet their specific needs.                                                                      \u001b[0m\u001b[2m \u001b[0m│\n",
       "│\u001b[2m \u001b[0m\u001b[2m                                                                                                               \u001b[0m\u001b[2m \u001b[0m│\n",
       "│\u001b[2m \u001b[0m\u001b[2m3. **Reassurance on Ease of Setup**: By emphasizing the ease of setup with plugins, guides, and available      \u001b[0m\u001b[2m \u001b[0m│\n",
       "│\u001b[2m \u001b[0m\u001b[2msupport, Alex addressed Jamie's concerns about not being a developer and reassured them about the process.     \u001b[0m\u001b[2m \u001b[0m│\n",
       "│\u001b[2m \u001b[0m\u001b[2m                                                                                                               \u001b[0m\u001b[2m \u001b[0m│\n",
       "│\u001b[2m \u001b[0m\u001b[2m4. **Proactive Offer of Support**: Alex offered to send guides and set up a sandbox account, showing a         \u001b[0m\u001b[2m \u001b[0m│\n",
       "│\u001b[2m \u001b[0m\u001b[2mproactive approach to ensuring Jamie could test and understand the system without commitment.                  \u001b[0m\u001b[2m \u001b[0m│\n",
       "│\u001b[2m \u001b[0m\u001b[2m                                                                                                               \u001b[0m\u001b[2m \u001b[0m│\n",
       "│\u001b[2m \u001b[0m\u001b[2m5. **Transparent Pricing Information**: By clearly explaining the transaction fees and mentioning potential    \u001b[0m\u001b[2m \u001b[0m│\n",
       "│\u001b[2m \u001b[0m\u001b[2mdiscounts for higher volumes, Alex provided transparency about the costs involved, which is crucial for        \u001b[0m\u001b[2m \u001b[0m│\n",
       "│\u001b[2m \u001b[0m\u001b[2mcustomer decision-making.                                                                                      \u001b[0m\u001b[2m \u001b[0m│\n",
       "│\u001b[2m \u001b[0m\u001b[2m                                                                                                               \u001b[0m\u001b[2m \u001b[0m│\n",
       "│\u001b[2m \u001b[0m\u001b[2m6. **Addressing Additional Needs**: Alex responded to Jamie's inquiry about invoicing by explaining the Quick  \u001b[0m\u001b[2m \u001b[0m│\n",
       "│\u001b[2m \u001b[0m\u001b[2mInvoicing feature, demonstrating attentiveness to Jamie's business requirements.                               \u001b[0m\u001b[2m \u001b[0m│\n",
       "└─────────────────────────────────────────────────────────────────────────────────────────────────────────────────┘\n"
      ]
     },
     "metadata": {},
     "output_type": "display_data"
    }
   ],
   "source": [
    "(\n",
    "    results\n",
    "    .select(\"helpful_approaches\")\n",
    "    .print(pretty_labels = {\"answer.helpful_approaches\": q8.question_text}, format = \"rich\")\n",
    ")"
   ]
  },
  {
   "cell_type": "code",
   "execution_count": 11,
   "id": "3fa17e5c-b936-4ff1-bbb5-7283e8c32a29",
   "metadata": {},
   "outputs": [
    {
     "data": {
      "text/html": [
       "<pre style=\"white-space:pre;overflow-x:auto;line-height:normal;font-family:Menlo,'DejaVu Sans Mono',consolas,'Courier New',monospace\">┏━━━━━━━━━━━━━━━━━━━━━━━━━━━━━━━━━━━━━━━━━━━━━━━━━━━━━━━━━━━━━━━━━━━━━━━━━━━━━━━━━━━━━━━━━━━━━━━━━━━━━━━━━━━━━━━━━┓\n",
       "┃<span style=\"color: #800080; text-decoration-color: #800080; font-weight: bold\"> What aspects of the representative’s approach were most helpful to the customer?                                </span>┃\n",
       "┡━━━━━━━━━━━━━━━━━━━━━━━━━━━━━━━━━━━━━━━━━━━━━━━━━━━━━━━━━━━━━━━━━━━━━━━━━━━━━━━━━━━━━━━━━━━━━━━━━━━━━━━━━━━━━━━━━┩\n",
       "│<span style=\"color: #7f7f7f; text-decoration-color: #7f7f7f\"> Overall, Alex did a good job of explaining the features and benefits of Quick's payment processing system.      </span>│\n",
       "│<span style=\"color: #7f7f7f; text-decoration-color: #7f7f7f\"> However, there are a few areas where the explanation could have been more detailed:                             </span>│\n",
       "│<span style=\"color: #7f7f7f; text-decoration-color: #7f7f7f\">                                                                                                                 </span>│\n",
       "│<span style=\"color: #7f7f7f; text-decoration-color: #7f7f7f\"> 1. **Subscription Setup**: While Alex mentioned that Quick supports subscriptions, there was no detailed        </span>│\n",
       "│<span style=\"color: #7f7f7f; text-decoration-color: #7f7f7f\"> explanation of how to set them up or manage different subscription levels. Given Jamie's concern about not      </span>│\n",
       "│<span style=\"color: #7f7f7f; text-decoration-color: #7f7f7f\"> being a developer, it would have been helpful to provide more information on how user-friendly the subscription </span>│\n",
       "│<span style=\"color: #7f7f7f; text-decoration-color: #7f7f7f\"> setup is, perhaps mentioning specific tools or interfaces that make it easier.                                  </span>│\n",
       "│<span style=\"color: #7f7f7f; text-decoration-color: #7f7f7f\">                                                                                                                 </span>│\n",
       "│<span style=\"color: #7f7f7f; text-decoration-color: #7f7f7f\"> 2. **International Payments**: Alex briefly mentioned that Quick handles multiple currencies and automatic      </span>│\n",
       "│<span style=\"color: #7f7f7f; text-decoration-color: #7f7f7f\"> conversion, but didn't go into detail about how this process works or any potential fees associated with        </span>│\n",
       "│<span style=\"color: #7f7f7f; text-decoration-color: #7f7f7f\"> currency conversion. This could be a significant concern for Jamie, who has international users.                </span>│\n",
       "│<span style=\"color: #7f7f7f; text-decoration-color: #7f7f7f\">                                                                                                                 </span>│\n",
       "│<span style=\"color: #7f7f7f; text-decoration-color: #7f7f7f\"> 3. **Fraud Detection**: Alex mentioned that Shield is on by default and uses machine learning, but didn't       </span>│\n",
       "│<span style=\"color: #7f7f7f; text-decoration-color: #7f7f7f\"> elaborate on what types of fraud it can detect or provide examples of how it has helped other customers. A      </span>│\n",
       "│<span style=\"color: #7f7f7f; text-decoration-color: #7f7f7f\"> brief case study or example could have strengthened this point.                                                 </span>│\n",
       "│<span style=\"color: #7f7f7f; text-decoration-color: #7f7f7f\">                                                                                                                 </span>│\n",
       "│<span style=\"color: #7f7f7f; text-decoration-color: #7f7f7f\"> 4. **Invoicing**: While Alex mentioned Quick Invoicing, there was no discussion of how easy it is to use or     </span>│\n",
       "│<span style=\"color: #7f7f7f; text-decoration-color: #7f7f7f\"> customize invoices, or whether there are any additional costs associated with this feature.                     </span>│\n",
       "│<span style=\"color: #7f7f7f; text-decoration-color: #7f7f7f\">                                                                                                                 </span>│\n",
       "│<span style=\"color: #7f7f7f; text-decoration-color: #7f7f7f\"> 5. **Fees and Discounts**: Alex provided basic information about transaction fees but did not elaborate on what </span>│\n",
       "│<span style=\"color: #7f7f7f; text-decoration-color: #7f7f7f\"> constitutes a \"higher volume\" for discounts, which could be important for Jamie's financial planning.           </span>│\n",
       "└─────────────────────────────────────────────────────────────────────────────────────────────────────────────────┘\n",
       "</pre>\n"
      ],
      "text/plain": [
       "┏━━━━━━━━━━━━━━━━━━━━━━━━━━━━━━━━━━━━━━━━━━━━━━━━━━━━━━━━━━━━━━━━━━━━━━━━━━━━━━━━━━━━━━━━━━━━━━━━━━━━━━━━━━━━━━━━━┓\n",
       "┃\u001b[1;35m \u001b[0m\u001b[1;35mWhat aspects of the representative’s approach were most helpful to the customer?                               \u001b[0m\u001b[1;35m \u001b[0m┃\n",
       "┡━━━━━━━━━━━━━━━━━━━━━━━━━━━━━━━━━━━━━━━━━━━━━━━━━━━━━━━━━━━━━━━━━━━━━━━━━━━━━━━━━━━━━━━━━━━━━━━━━━━━━━━━━━━━━━━━━┩\n",
       "│\u001b[2m \u001b[0m\u001b[2mOverall, Alex did a good job of explaining the features and benefits of Quick's payment processing system.     \u001b[0m\u001b[2m \u001b[0m│\n",
       "│\u001b[2m \u001b[0m\u001b[2mHowever, there are a few areas where the explanation could have been more detailed:                            \u001b[0m\u001b[2m \u001b[0m│\n",
       "│\u001b[2m \u001b[0m\u001b[2m                                                                                                               \u001b[0m\u001b[2m \u001b[0m│\n",
       "│\u001b[2m \u001b[0m\u001b[2m1. **Subscription Setup**: While Alex mentioned that Quick supports subscriptions, there was no detailed       \u001b[0m\u001b[2m \u001b[0m│\n",
       "│\u001b[2m \u001b[0m\u001b[2mexplanation of how to set them up or manage different subscription levels. Given Jamie's concern about not     \u001b[0m\u001b[2m \u001b[0m│\n",
       "│\u001b[2m \u001b[0m\u001b[2mbeing a developer, it would have been helpful to provide more information on how user-friendly the subscription\u001b[0m\u001b[2m \u001b[0m│\n",
       "│\u001b[2m \u001b[0m\u001b[2msetup is, perhaps mentioning specific tools or interfaces that make it easier.                                 \u001b[0m\u001b[2m \u001b[0m│\n",
       "│\u001b[2m \u001b[0m\u001b[2m                                                                                                               \u001b[0m\u001b[2m \u001b[0m│\n",
       "│\u001b[2m \u001b[0m\u001b[2m2. **International Payments**: Alex briefly mentioned that Quick handles multiple currencies and automatic     \u001b[0m\u001b[2m \u001b[0m│\n",
       "│\u001b[2m \u001b[0m\u001b[2mconversion, but didn't go into detail about how this process works or any potential fees associated with       \u001b[0m\u001b[2m \u001b[0m│\n",
       "│\u001b[2m \u001b[0m\u001b[2mcurrency conversion. This could be a significant concern for Jamie, who has international users.               \u001b[0m\u001b[2m \u001b[0m│\n",
       "│\u001b[2m \u001b[0m\u001b[2m                                                                                                               \u001b[0m\u001b[2m \u001b[0m│\n",
       "│\u001b[2m \u001b[0m\u001b[2m3. **Fraud Detection**: Alex mentioned that Shield is on by default and uses machine learning, but didn't      \u001b[0m\u001b[2m \u001b[0m│\n",
       "│\u001b[2m \u001b[0m\u001b[2melaborate on what types of fraud it can detect or provide examples of how it has helped other customers. A     \u001b[0m\u001b[2m \u001b[0m│\n",
       "│\u001b[2m \u001b[0m\u001b[2mbrief case study or example could have strengthened this point.                                                \u001b[0m\u001b[2m \u001b[0m│\n",
       "│\u001b[2m \u001b[0m\u001b[2m                                                                                                               \u001b[0m\u001b[2m \u001b[0m│\n",
       "│\u001b[2m \u001b[0m\u001b[2m4. **Invoicing**: While Alex mentioned Quick Invoicing, there was no discussion of how easy it is to use or    \u001b[0m\u001b[2m \u001b[0m│\n",
       "│\u001b[2m \u001b[0m\u001b[2mcustomize invoices, or whether there are any additional costs associated with this feature.                    \u001b[0m\u001b[2m \u001b[0m│\n",
       "│\u001b[2m \u001b[0m\u001b[2m                                                                                                               \u001b[0m\u001b[2m \u001b[0m│\n",
       "│\u001b[2m \u001b[0m\u001b[2m5. **Fees and Discounts**: Alex provided basic information about transaction fees but did not elaborate on what\u001b[0m\u001b[2m \u001b[0m│\n",
       "│\u001b[2m \u001b[0m\u001b[2mconstitutes a \"higher volume\" for discounts, which could be important for Jamie's financial planning.          \u001b[0m\u001b[2m \u001b[0m│\n",
       "└─────────────────────────────────────────────────────────────────────────────────────────────────────────────────┘\n"
      ]
     },
     "metadata": {},
     "output_type": "display_data"
    }
   ],
   "source": [
    "(\n",
    "    results\n",
    "    .select(\"inadequate_explanation\")\n",
    "    .print(pretty_labels = {\"answer.inadequate_explanation\": q8.question_text}, format = \"rich\")\n",
    ")"
   ]
  },
  {
   "cell_type": "code",
   "execution_count": 12,
   "id": "b523a272-849c-4000-a5d1-310f3e99c52c",
   "metadata": {},
   "outputs": [
    {
     "data": {
      "text/html": [
       "<pre style=\"white-space:pre;overflow-x:auto;line-height:normal;font-family:Menlo,'DejaVu Sans Mono',consolas,'Courier New',monospace\">┏━━━━━━━━━━━━━━━━━━━━━━━━━━━━━━━━━━━━━━━━━━━━━━━━━━━━━━━━━━━━━━━━━━━━━━━━━━━━━━━━━━━━━━━━━━━━━━━━━━━━━━━━━━━━━━━━━┓\n",
       "┃<span style=\"color: #800080; text-decoration-color: #800080; font-weight: bold\"> What aspects of the representative’s approach were most helpful to the customer?                                </span>┃\n",
       "┡━━━━━━━━━━━━━━━━━━━━━━━━━━━━━━━━━━━━━━━━━━━━━━━━━━━━━━━━━━━━━━━━━━━━━━━━━━━━━━━━━━━━━━━━━━━━━━━━━━━━━━━━━━━━━━━━━┩\n",
       "│<span style=\"color: #7f7f7f; text-decoration-color: #7f7f7f\"> The representative, Alex, did a good job of addressing Jamie's concerns and providing an overview of Quick's    </span>│\n",
       "│<span style=\"color: #7f7f7f; text-decoration-color: #7f7f7f\"> features. However, there are several areas where the explanation could have been improved:                      </span>│\n",
       "│<span style=\"color: #7f7f7f; text-decoration-color: #7f7f7f\">                                                                                                                 </span>│\n",
       "│<span style=\"color: #7f7f7f; text-decoration-color: #7f7f7f\"> 1. **Tailored Explanation**: Alex could have tailored the explanation more specifically to Jamie's business     </span>│\n",
       "│<span style=\"color: #7f7f7f; text-decoration-color: #7f7f7f\"> model and needs. For example, asking more detailed questions about Jamie's subscription plans or international  </span>│\n",
       "│<span style=\"color: #7f7f7f; text-decoration-color: #7f7f7f\"> user base could have allowed Alex to provide more targeted solutions.                                           </span>│\n",
       "│<span style=\"color: #7f7f7f; text-decoration-color: #7f7f7f\">                                                                                                                 </span>│\n",
       "│<span style=\"color: #7f7f7f; text-decoration-color: #7f7f7f\"> 2. **Technical Jargon**: While Alex did a good job of keeping the explanation simple, there were moments where  </span>│\n",
       "│<span style=\"color: #7f7f7f; text-decoration-color: #7f7f7f\"> technical terms were used without clarification, such as \"plugins\" and \"sandbox account.\" Providing a brief     </span>│\n",
       "│<span style=\"color: #7f7f7f; text-decoration-color: #7f7f7f\"> explanation or analogy for these terms would help a non-technical customer like Jamie feel more at ease.        </span>│\n",
       "│<span style=\"color: #7f7f7f; text-decoration-color: #7f7f7f\">                                                                                                                 </span>│\n",
       "│<span style=\"color: #7f7f7f; text-decoration-color: #7f7f7f\"> 3. **Use Cases and Examples**: Providing specific use cases or examples of how other similar businesses have    </span>│\n",
       "│<span style=\"color: #7f7f7f; text-decoration-color: #7f7f7f\"> successfully implemented Quick could have helped Jamie visualize the platform's benefits. This could include    </span>│\n",
       "│<span style=\"color: #7f7f7f; text-decoration-color: #7f7f7f\"> stories of other companies overcoming similar challenges or how they structured their subscription models.      </span>│\n",
       "│<span style=\"color: #7f7f7f; text-decoration-color: #7f7f7f\">                                                                                                                 </span>│\n",
       "│<span style=\"color: #7f7f7f; text-decoration-color: #7f7f7f\"> 4. **Visual Aids**: Offering to share visual aids, such as a demo video or a screen share during the call,      </span>│\n",
       "│<span style=\"color: #7f7f7f; text-decoration-color: #7f7f7f\"> could have helped Jamie understand the setup process more clearly and feel more confident about the ease of     </span>│\n",
       "│<span style=\"color: #7f7f7f; text-decoration-color: #7f7f7f\"> use.                                                                                                            </span>│\n",
       "│<span style=\"color: #7f7f7f; text-decoration-color: #7f7f7f\">                                                                                                                 </span>│\n",
       "│<span style=\"color: #7f7f7f; text-decoration-color: #7f7f7f\"> 5. **Emphasizing Support**: While Alex mentioned that support is available, emphasizing the level of support,   </span>│\n",
       "│<span style=\"color: #7f7f7f; text-decoration-color: #7f7f7f\"> such as dedicated account managers or 24/7 availability, could reassure Jamie about getting help when needed.   </span>│\n",
       "│<span style=\"color: #7f7f7f; text-decoration-color: #7f7f7f\">                                                                                                                 </span>│\n",
       "│<span style=\"color: #7f7f7f; text-decoration-color: #7f7f7f\"> 6. **Cost Transparency**: While Alex provided the basic fee structure, discussing any potential hidden fees or  </span>│\n",
       "│<span style=\"color: #7f7f7f; text-decoration-color: #7f7f7f\"> additional costs (e.g., currency conversion fees, chargebacks) would provide a more comprehensive understanding </span>│\n",
       "│<span style=\"color: #7f7f7f; text-decoration-color: #7f7f7f\"> of the pricing model.                                                                                           </span>│\n",
       "│<span style=\"color: #7f7f7f; text-decoration-color: #7f7f7f\">                                                                                                                 </span>│\n",
       "│<span style=\"color: #7f7f7f; text-decoration-color: #7f7f7f\"> 7. **Follow-up Plan**: The follow-up plan could have been more detailed, specifying what materials Jamie will   </span>│\n",
       "│<span style=\"color: #7f7f7f; text-decoration-color: #7f7f7f\"> receive and setting a specific date and time for the next meeting to discuss any issues that arise during the   </span>│\n",
       "│<span style=\"color: #7f7f7f; text-decoration-color: #7f7f7f\"> trial period.                                                                                                   </span>│\n",
       "└─────────────────────────────────────────────────────────────────────────────────────────────────────────────────┘\n",
       "</pre>\n"
      ],
      "text/plain": [
       "┏━━━━━━━━━━━━━━━━━━━━━━━━━━━━━━━━━━━━━━━━━━━━━━━━━━━━━━━━━━━━━━━━━━━━━━━━━━━━━━━━━━━━━━━━━━━━━━━━━━━━━━━━━━━━━━━━━┓\n",
       "┃\u001b[1;35m \u001b[0m\u001b[1;35mWhat aspects of the representative’s approach were most helpful to the customer?                               \u001b[0m\u001b[1;35m \u001b[0m┃\n",
       "┡━━━━━━━━━━━━━━━━━━━━━━━━━━━━━━━━━━━━━━━━━━━━━━━━━━━━━━━━━━━━━━━━━━━━━━━━━━━━━━━━━━━━━━━━━━━━━━━━━━━━━━━━━━━━━━━━━┩\n",
       "│\u001b[2m \u001b[0m\u001b[2mThe representative, Alex, did a good job of addressing Jamie's concerns and providing an overview of Quick's   \u001b[0m\u001b[2m \u001b[0m│\n",
       "│\u001b[2m \u001b[0m\u001b[2mfeatures. However, there are several areas where the explanation could have been improved:                     \u001b[0m\u001b[2m \u001b[0m│\n",
       "│\u001b[2m \u001b[0m\u001b[2m                                                                                                               \u001b[0m\u001b[2m \u001b[0m│\n",
       "│\u001b[2m \u001b[0m\u001b[2m1. **Tailored Explanation**: Alex could have tailored the explanation more specifically to Jamie's business    \u001b[0m\u001b[2m \u001b[0m│\n",
       "│\u001b[2m \u001b[0m\u001b[2mmodel and needs. For example, asking more detailed questions about Jamie's subscription plans or international \u001b[0m\u001b[2m \u001b[0m│\n",
       "│\u001b[2m \u001b[0m\u001b[2muser base could have allowed Alex to provide more targeted solutions.                                          \u001b[0m\u001b[2m \u001b[0m│\n",
       "│\u001b[2m \u001b[0m\u001b[2m                                                                                                               \u001b[0m\u001b[2m \u001b[0m│\n",
       "│\u001b[2m \u001b[0m\u001b[2m2. **Technical Jargon**: While Alex did a good job of keeping the explanation simple, there were moments where \u001b[0m\u001b[2m \u001b[0m│\n",
       "│\u001b[2m \u001b[0m\u001b[2mtechnical terms were used without clarification, such as \"plugins\" and \"sandbox account.\" Providing a brief    \u001b[0m\u001b[2m \u001b[0m│\n",
       "│\u001b[2m \u001b[0m\u001b[2mexplanation or analogy for these terms would help a non-technical customer like Jamie feel more at ease.       \u001b[0m\u001b[2m \u001b[0m│\n",
       "│\u001b[2m \u001b[0m\u001b[2m                                                                                                               \u001b[0m\u001b[2m \u001b[0m│\n",
       "│\u001b[2m \u001b[0m\u001b[2m3. **Use Cases and Examples**: Providing specific use cases or examples of how other similar businesses have   \u001b[0m\u001b[2m \u001b[0m│\n",
       "│\u001b[2m \u001b[0m\u001b[2msuccessfully implemented Quick could have helped Jamie visualize the platform's benefits. This could include   \u001b[0m\u001b[2m \u001b[0m│\n",
       "│\u001b[2m \u001b[0m\u001b[2mstories of other companies overcoming similar challenges or how they structured their subscription models.     \u001b[0m\u001b[2m \u001b[0m│\n",
       "│\u001b[2m \u001b[0m\u001b[2m                                                                                                               \u001b[0m\u001b[2m \u001b[0m│\n",
       "│\u001b[2m \u001b[0m\u001b[2m4. **Visual Aids**: Offering to share visual aids, such as a demo video or a screen share during the call,     \u001b[0m\u001b[2m \u001b[0m│\n",
       "│\u001b[2m \u001b[0m\u001b[2mcould have helped Jamie understand the setup process more clearly and feel more confident about the ease of    \u001b[0m\u001b[2m \u001b[0m│\n",
       "│\u001b[2m \u001b[0m\u001b[2muse.                                                                                                           \u001b[0m\u001b[2m \u001b[0m│\n",
       "│\u001b[2m \u001b[0m\u001b[2m                                                                                                               \u001b[0m\u001b[2m \u001b[0m│\n",
       "│\u001b[2m \u001b[0m\u001b[2m5. **Emphasizing Support**: While Alex mentioned that support is available, emphasizing the level of support,  \u001b[0m\u001b[2m \u001b[0m│\n",
       "│\u001b[2m \u001b[0m\u001b[2msuch as dedicated account managers or 24/7 availability, could reassure Jamie about getting help when needed.  \u001b[0m\u001b[2m \u001b[0m│\n",
       "│\u001b[2m \u001b[0m\u001b[2m                                                                                                               \u001b[0m\u001b[2m \u001b[0m│\n",
       "│\u001b[2m \u001b[0m\u001b[2m6. **Cost Transparency**: While Alex provided the basic fee structure, discussing any potential hidden fees or \u001b[0m\u001b[2m \u001b[0m│\n",
       "│\u001b[2m \u001b[0m\u001b[2madditional costs (e.g., currency conversion fees, chargebacks) would provide a more comprehensive understanding\u001b[0m\u001b[2m \u001b[0m│\n",
       "│\u001b[2m \u001b[0m\u001b[2mof the pricing model.                                                                                          \u001b[0m\u001b[2m \u001b[0m│\n",
       "│\u001b[2m \u001b[0m\u001b[2m                                                                                                               \u001b[0m\u001b[2m \u001b[0m│\n",
       "│\u001b[2m \u001b[0m\u001b[2m7. **Follow-up Plan**: The follow-up plan could have been more detailed, specifying what materials Jamie will  \u001b[0m\u001b[2m \u001b[0m│\n",
       "│\u001b[2m \u001b[0m\u001b[2mreceive and setting a specific date and time for the next meeting to discuss any issues that arise during the  \u001b[0m\u001b[2m \u001b[0m│\n",
       "│\u001b[2m \u001b[0m\u001b[2mtrial period.                                                                                                  \u001b[0m\u001b[2m \u001b[0m│\n",
       "└─────────────────────────────────────────────────────────────────────────────────────────────────────────────────┘\n"
      ]
     },
     "metadata": {},
     "output_type": "display_data"
    }
   ],
   "source": [
    "(\n",
    "    results\n",
    "    .select(\"improvements\")\n",
    "    .print(pretty_labels = {\"answer.improvements\": q8.question_text}, format = \"rich\")\n",
    ")"
   ]
  },
  {
   "cell_type": "code",
   "execution_count": 13,
   "id": "b1a476af-bb6d-4891-8045-5be2d18d0967",
   "metadata": {},
   "outputs": [
    {
     "data": {
      "text/html": [
       "<pre style=\"white-space:pre;overflow-x:auto;line-height:normal;font-family:Menlo,'DejaVu Sans Mono',consolas,'Courier New',monospace\">┏━━━━━━━━━━━━━━━━━━━━━━━━━━━━━━━━━━━━━━━━━━━━━━━━━━━━━━━━━━━━━━━━━━━━━━━━━━━━━━━━━━━━━━━━━━━━━━━━━━━━━━━━━━━━━━━━━┓\n",
       "┃<span style=\"color: #800080; text-decoration-color: #800080; font-weight: bold\"> What aspects of the representative’s approach were most helpful to the customer?                                </span>┃\n",
       "┡━━━━━━━━━━━━━━━━━━━━━━━━━━━━━━━━━━━━━━━━━━━━━━━━━━━━━━━━━━━━━━━━━━━━━━━━━━━━━━━━━━━━━━━━━━━━━━━━━━━━━━━━━━━━━━━━━┩\n",
       "│<span style=\"color: #7f7f7f; text-decoration-color: #7f7f7f\"> The conversation was generally clear and well-structured, but there are a few areas where additional clarity    </span>│\n",
       "│<span style=\"color: #7f7f7f; text-decoration-color: #7f7f7f\"> could have been beneficial:                                                                                     </span>│\n",
       "│<span style=\"color: #7f7f7f; text-decoration-color: #7f7f7f\">                                                                                                                 </span>│\n",
       "│<span style=\"color: #7f7f7f; text-decoration-color: #7f7f7f\"> 1. **Setup Process**: While Alex mentioned that Quick's setup is meant to be easy and includes plugins and      </span>│\n",
       "│<span style=\"color: #7f7f7f; text-decoration-color: #7f7f7f\"> guides, it might have been helpful to provide a more specific example or a brief overview of the steps          </span>│\n",
       "│<span style=\"color: #7f7f7f; text-decoration-color: #7f7f7f\"> involved. This could help Jamie feel more confident about the process.                                          </span>│\n",
       "│<span style=\"color: #7f7f7f; text-decoration-color: #7f7f7f\">                                                                                                                 </span>│\n",
       "│<span style=\"color: #7f7f7f; text-decoration-color: #7f7f7f\"> 2. **International Payments**: Alex mentioned that Quick handles multiple currencies and automatic conversion.  </span>│\n",
       "│<span style=\"color: #7f7f7f; text-decoration-color: #7f7f7f\"> It could be useful to explain if there are any additional fees or considerations specific to international      </span>│\n",
       "│<span style=\"color: #7f7f7f; text-decoration-color: #7f7f7f\"> transactions, as this is often a concern for businesses with international customers.                           </span>│\n",
       "│<span style=\"color: #7f7f7f; text-decoration-color: #7f7f7f\">                                                                                                                 </span>│\n",
       "│<span style=\"color: #7f7f7f; text-decoration-color: #7f7f7f\"> 3. **Fraud Detection**: While Alex explained that Shield is on by default, it might have been reassuring to     </span>│\n",
       "│<span style=\"color: #7f7f7f; text-decoration-color: #7f7f7f\"> provide a bit more detail about how effective it is or any additional customization options available for fraud </span>│\n",
       "│<span style=\"color: #7f7f7f; text-decoration-color: #7f7f7f\"> detection.                                                                                                      </span>│\n",
       "│<span style=\"color: #7f7f7f; text-decoration-color: #7f7f7f\">                                                                                                                 </span>│\n",
       "│<span style=\"color: #7f7f7f; text-decoration-color: #7f7f7f\"> 4. **Fees and Discounts**: Alex mentioned discounts for high-volume processing but did not specify what         </span>│\n",
       "│<span style=\"color: #7f7f7f; text-decoration-color: #7f7f7f\"> constitutes \"a lot of payments\" or what the discount structure looks like. Providing a rough idea of the        </span>│\n",
       "│<span style=\"color: #7f7f7f; text-decoration-color: #7f7f7f\"> thresholds for discounts could be helpful.                                                                      </span>│\n",
       "│<span style=\"color: #7f7f7f; text-decoration-color: #7f7f7f\">                                                                                                                 </span>│\n",
       "│<span style=\"color: #7f7f7f; text-decoration-color: #7f7f7f\"> 5. **Invoicing**: While Alex confirmed that Quick can handle invoicing, it might have been useful to mention if </span>│\n",
       "│<span style=\"color: #7f7f7f; text-decoration-color: #7f7f7f\"> there are any specific features related to invoicing that could benefit Jamie, such as customization options or </span>│\n",
       "│<span style=\"color: #7f7f7f; text-decoration-color: #7f7f7f\"> integration with accounting software.                                                                           </span>│\n",
       "└─────────────────────────────────────────────────────────────────────────────────────────────────────────────────┘\n",
       "</pre>\n"
      ],
      "text/plain": [
       "┏━━━━━━━━━━━━━━━━━━━━━━━━━━━━━━━━━━━━━━━━━━━━━━━━━━━━━━━━━━━━━━━━━━━━━━━━━━━━━━━━━━━━━━━━━━━━━━━━━━━━━━━━━━━━━━━━━┓\n",
       "┃\u001b[1;35m \u001b[0m\u001b[1;35mWhat aspects of the representative’s approach were most helpful to the customer?                               \u001b[0m\u001b[1;35m \u001b[0m┃\n",
       "┡━━━━━━━━━━━━━━━━━━━━━━━━━━━━━━━━━━━━━━━━━━━━━━━━━━━━━━━━━━━━━━━━━━━━━━━━━━━━━━━━━━━━━━━━━━━━━━━━━━━━━━━━━━━━━━━━━┩\n",
       "│\u001b[2m \u001b[0m\u001b[2mThe conversation was generally clear and well-structured, but there are a few areas where additional clarity   \u001b[0m\u001b[2m \u001b[0m│\n",
       "│\u001b[2m \u001b[0m\u001b[2mcould have been beneficial:                                                                                    \u001b[0m\u001b[2m \u001b[0m│\n",
       "│\u001b[2m \u001b[0m\u001b[2m                                                                                                               \u001b[0m\u001b[2m \u001b[0m│\n",
       "│\u001b[2m \u001b[0m\u001b[2m1. **Setup Process**: While Alex mentioned that Quick's setup is meant to be easy and includes plugins and     \u001b[0m\u001b[2m \u001b[0m│\n",
       "│\u001b[2m \u001b[0m\u001b[2mguides, it might have been helpful to provide a more specific example or a brief overview of the steps         \u001b[0m\u001b[2m \u001b[0m│\n",
       "│\u001b[2m \u001b[0m\u001b[2minvolved. This could help Jamie feel more confident about the process.                                         \u001b[0m\u001b[2m \u001b[0m│\n",
       "│\u001b[2m \u001b[0m\u001b[2m                                                                                                               \u001b[0m\u001b[2m \u001b[0m│\n",
       "│\u001b[2m \u001b[0m\u001b[2m2. **International Payments**: Alex mentioned that Quick handles multiple currencies and automatic conversion. \u001b[0m\u001b[2m \u001b[0m│\n",
       "│\u001b[2m \u001b[0m\u001b[2mIt could be useful to explain if there are any additional fees or considerations specific to international     \u001b[0m\u001b[2m \u001b[0m│\n",
       "│\u001b[2m \u001b[0m\u001b[2mtransactions, as this is often a concern for businesses with international customers.                          \u001b[0m\u001b[2m \u001b[0m│\n",
       "│\u001b[2m \u001b[0m\u001b[2m                                                                                                               \u001b[0m\u001b[2m \u001b[0m│\n",
       "│\u001b[2m \u001b[0m\u001b[2m3. **Fraud Detection**: While Alex explained that Shield is on by default, it might have been reassuring to    \u001b[0m\u001b[2m \u001b[0m│\n",
       "│\u001b[2m \u001b[0m\u001b[2mprovide a bit more detail about how effective it is or any additional customization options available for fraud\u001b[0m\u001b[2m \u001b[0m│\n",
       "│\u001b[2m \u001b[0m\u001b[2mdetection.                                                                                                     \u001b[0m\u001b[2m \u001b[0m│\n",
       "│\u001b[2m \u001b[0m\u001b[2m                                                                                                               \u001b[0m\u001b[2m \u001b[0m│\n",
       "│\u001b[2m \u001b[0m\u001b[2m4. **Fees and Discounts**: Alex mentioned discounts for high-volume processing but did not specify what        \u001b[0m\u001b[2m \u001b[0m│\n",
       "│\u001b[2m \u001b[0m\u001b[2mconstitutes \"a lot of payments\" or what the discount structure looks like. Providing a rough idea of the       \u001b[0m\u001b[2m \u001b[0m│\n",
       "│\u001b[2m \u001b[0m\u001b[2mthresholds for discounts could be helpful.                                                                     \u001b[0m\u001b[2m \u001b[0m│\n",
       "│\u001b[2m \u001b[0m\u001b[2m                                                                                                               \u001b[0m\u001b[2m \u001b[0m│\n",
       "│\u001b[2m \u001b[0m\u001b[2m5. **Invoicing**: While Alex confirmed that Quick can handle invoicing, it might have been useful to mention if\u001b[0m\u001b[2m \u001b[0m│\n",
       "│\u001b[2m \u001b[0m\u001b[2mthere are any specific features related to invoicing that could benefit Jamie, such as customization options or\u001b[0m\u001b[2m \u001b[0m│\n",
       "│\u001b[2m \u001b[0m\u001b[2mintegration with accounting software.                                                                          \u001b[0m\u001b[2m \u001b[0m│\n",
       "└─────────────────────────────────────────────────────────────────────────────────────────────────────────────────┘\n"
      ]
     },
     "metadata": {},
     "output_type": "display_data"
    }
   ],
   "source": [
    "(\n",
    "    results\n",
    "    .select(\"confusing\")\n",
    "    .print(pretty_labels = {\"answer.confusing\": q8.question_text}, format = \"rich\")\n",
    ")"
   ]
  },
  {
   "cell_type": "code",
   "execution_count": 14,
   "id": "f3fc3678-557c-4317-9ddc-bdb08f10c22d",
   "metadata": {},
   "outputs": [
    {
     "data": {
      "text/html": [
       "<pre style=\"white-space:pre;overflow-x:auto;line-height:normal;font-family:Menlo,'DejaVu Sans Mono',consolas,'Courier New',monospace\">┏━━━━━━━━━━━━━━━━━━━━━━━━━━━━━━━━━━━━━━━━━━━━━━━━━━━━━━━━━━━━━━━━━━━━━━━━━━━━━━━━━━━━━━━━━━━━━━━━━━━━━━━━━━━━━━━━━┓\n",
       "┃<span style=\"color: #800080; text-decoration-color: #800080; font-weight: bold\"> What aspects of the representative’s approach were most helpful to the customer?                                </span>┃\n",
       "┡━━━━━━━━━━━━━━━━━━━━━━━━━━━━━━━━━━━━━━━━━━━━━━━━━━━━━━━━━━━━━━━━━━━━━━━━━━━━━━━━━━━━━━━━━━━━━━━━━━━━━━━━━━━━━━━━━┩\n",
       "│<span style=\"color: #7f7f7f; text-decoration-color: #7f7f7f\"> The representative, Alex, could have provided additional information in several areas to help Jamie feel more   </span>│\n",
       "│<span style=\"color: #7f7f7f; text-decoration-color: #7f7f7f\"> confident:                                                                                                      </span>│\n",
       "│<span style=\"color: #7f7f7f; text-decoration-color: #7f7f7f\">                                                                                                                 </span>│\n",
       "│<span style=\"color: #7f7f7f; text-decoration-color: #7f7f7f\"> 1. **Detailed Setup Process**: While Alex mentioned that the setup is easy and there are guides available,      </span>│\n",
       "│<span style=\"color: #7f7f7f; text-decoration-color: #7f7f7f\"> providing a brief overview of the actual steps involved in setting up Quick on Jamie's website would have been  </span>│\n",
       "│<span style=\"color: #7f7f7f; text-decoration-color: #7f7f7f\"> helpful. This could include mentioning any specific plugins compatible with popular website platforms or CMSs.  </span>│\n",
       "│<span style=\"color: #7f7f7f; text-decoration-color: #7f7f7f\">                                                                                                                 </span>│\n",
       "│<span style=\"color: #7f7f7f; text-decoration-color: #7f7f7f\"> 2. **Customer Support**: Although Alex mentioned that the support team is available, providing more details     </span>│\n",
       "│<span style=\"color: #7f7f7f; text-decoration-color: #7f7f7f\"> about the level of support (e.g., 24/7 availability, dedicated account managers, response times) could reassure </span>│\n",
       "│<span style=\"color: #7f7f7f; text-decoration-color: #7f7f7f\"> Jamie about the assistance available if issues arise.                                                           </span>│\n",
       "│<span style=\"color: #7f7f7f; text-decoration-color: #7f7f7f\">                                                                                                                 </span>│\n",
       "│<span style=\"color: #7f7f7f; text-decoration-color: #7f7f7f\"> 3. **Case Studies or Testimonials**: Sharing success stories or testimonials from similar businesses that have  </span>│\n",
       "│<span style=\"color: #7f7f7f; text-decoration-color: #7f7f7f\"> successfully implemented Quick could provide Jamie with real-world examples of how Quick has benefited others.  </span>│\n",
       "│<span style=\"color: #7f7f7f; text-decoration-color: #7f7f7f\">                                                                                                                 </span>│\n",
       "│<span style=\"color: #7f7f7f; text-decoration-color: #7f7f7f\"> 4. **Security Details**: While Alex touched on fraud detection, providing more information about overall        </span>│\n",
       "│<span style=\"color: #7f7f7f; text-decoration-color: #7f7f7f\"> security measures, such as data encryption and compliance with industry standards (e.g., PCI DSS compliance),   </span>│\n",
       "│<span style=\"color: #7f7f7f; text-decoration-color: #7f7f7f\"> could further ease Jamie's concerns.                                                                            </span>│\n",
       "│<span style=\"color: #7f7f7f; text-decoration-color: #7f7f7f\">                                                                                                                 </span>│\n",
       "│<span style=\"color: #7f7f7f; text-decoration-color: #7f7f7f\"> 5. **Trial or Demo**: Offering a live demo or a limited-time free trial could allow Jamie to experience Quick's </span>│\n",
       "│<span style=\"color: #7f7f7f; text-decoration-color: #7f7f7f\"> features firsthand, which might increase confidence in the platform's ease of use and functionality.            </span>│\n",
       "│<span style=\"color: #7f7f7f; text-decoration-color: #7f7f7f\">                                                                                                                 </span>│\n",
       "│<span style=\"color: #7f7f7f; text-decoration-color: #7f7f7f\"> 6. **Integration with Existing Systems**: If Jamie is using other tools for their website, information on how   </span>│\n",
       "│<span style=\"color: #7f7f7f; text-decoration-color: #7f7f7f\"> Quick integrates with popular platforms (e.g., CRM, accounting software) could be beneficial.                   </span>│\n",
       "│<span style=\"color: #7f7f7f; text-decoration-color: #7f7f7f\">                                                                                                                 </span>│\n",
       "│<span style=\"color: #7f7f7f; text-decoration-color: #7f7f7f\"> 7. **Fee Structure Clarity**: While Alex provided the basic fee structure, additional details on any potential  </span>│\n",
       "│<span style=\"color: #7f7f7f; text-decoration-color: #7f7f7f\"> hidden fees, setup costs, or long-term contracts would ensure full transparency.                                </span>│\n",
       "└─────────────────────────────────────────────────────────────────────────────────────────────────────────────────┘\n",
       "</pre>\n"
      ],
      "text/plain": [
       "┏━━━━━━━━━━━━━━━━━━━━━━━━━━━━━━━━━━━━━━━━━━━━━━━━━━━━━━━━━━━━━━━━━━━━━━━━━━━━━━━━━━━━━━━━━━━━━━━━━━━━━━━━━━━━━━━━━┓\n",
       "┃\u001b[1;35m \u001b[0m\u001b[1;35mWhat aspects of the representative’s approach were most helpful to the customer?                               \u001b[0m\u001b[1;35m \u001b[0m┃\n",
       "┡━━━━━━━━━━━━━━━━━━━━━━━━━━━━━━━━━━━━━━━━━━━━━━━━━━━━━━━━━━━━━━━━━━━━━━━━━━━━━━━━━━━━━━━━━━━━━━━━━━━━━━━━━━━━━━━━━┩\n",
       "│\u001b[2m \u001b[0m\u001b[2mThe representative, Alex, could have provided additional information in several areas to help Jamie feel more  \u001b[0m\u001b[2m \u001b[0m│\n",
       "│\u001b[2m \u001b[0m\u001b[2mconfident:                                                                                                     \u001b[0m\u001b[2m \u001b[0m│\n",
       "│\u001b[2m \u001b[0m\u001b[2m                                                                                                               \u001b[0m\u001b[2m \u001b[0m│\n",
       "│\u001b[2m \u001b[0m\u001b[2m1. **Detailed Setup Process**: While Alex mentioned that the setup is easy and there are guides available,     \u001b[0m\u001b[2m \u001b[0m│\n",
       "│\u001b[2m \u001b[0m\u001b[2mproviding a brief overview of the actual steps involved in setting up Quick on Jamie's website would have been \u001b[0m\u001b[2m \u001b[0m│\n",
       "│\u001b[2m \u001b[0m\u001b[2mhelpful. This could include mentioning any specific plugins compatible with popular website platforms or CMSs. \u001b[0m\u001b[2m \u001b[0m│\n",
       "│\u001b[2m \u001b[0m\u001b[2m                                                                                                               \u001b[0m\u001b[2m \u001b[0m│\n",
       "│\u001b[2m \u001b[0m\u001b[2m2. **Customer Support**: Although Alex mentioned that the support team is available, providing more details    \u001b[0m\u001b[2m \u001b[0m│\n",
       "│\u001b[2m \u001b[0m\u001b[2mabout the level of support (e.g., 24/7 availability, dedicated account managers, response times) could reassure\u001b[0m\u001b[2m \u001b[0m│\n",
       "│\u001b[2m \u001b[0m\u001b[2mJamie about the assistance available if issues arise.                                                          \u001b[0m\u001b[2m \u001b[0m│\n",
       "│\u001b[2m \u001b[0m\u001b[2m                                                                                                               \u001b[0m\u001b[2m \u001b[0m│\n",
       "│\u001b[2m \u001b[0m\u001b[2m3. **Case Studies or Testimonials**: Sharing success stories or testimonials from similar businesses that have \u001b[0m\u001b[2m \u001b[0m│\n",
       "│\u001b[2m \u001b[0m\u001b[2msuccessfully implemented Quick could provide Jamie with real-world examples of how Quick has benefited others. \u001b[0m\u001b[2m \u001b[0m│\n",
       "│\u001b[2m \u001b[0m\u001b[2m                                                                                                               \u001b[0m\u001b[2m \u001b[0m│\n",
       "│\u001b[2m \u001b[0m\u001b[2m4. **Security Details**: While Alex touched on fraud detection, providing more information about overall       \u001b[0m\u001b[2m \u001b[0m│\n",
       "│\u001b[2m \u001b[0m\u001b[2msecurity measures, such as data encryption and compliance with industry standards (e.g., PCI DSS compliance),  \u001b[0m\u001b[2m \u001b[0m│\n",
       "│\u001b[2m \u001b[0m\u001b[2mcould further ease Jamie's concerns.                                                                           \u001b[0m\u001b[2m \u001b[0m│\n",
       "│\u001b[2m \u001b[0m\u001b[2m                                                                                                               \u001b[0m\u001b[2m \u001b[0m│\n",
       "│\u001b[2m \u001b[0m\u001b[2m5. **Trial or Demo**: Offering a live demo or a limited-time free trial could allow Jamie to experience Quick's\u001b[0m\u001b[2m \u001b[0m│\n",
       "│\u001b[2m \u001b[0m\u001b[2mfeatures firsthand, which might increase confidence in the platform's ease of use and functionality.           \u001b[0m\u001b[2m \u001b[0m│\n",
       "│\u001b[2m \u001b[0m\u001b[2m                                                                                                               \u001b[0m\u001b[2m \u001b[0m│\n",
       "│\u001b[2m \u001b[0m\u001b[2m6. **Integration with Existing Systems**: If Jamie is using other tools for their website, information on how  \u001b[0m\u001b[2m \u001b[0m│\n",
       "│\u001b[2m \u001b[0m\u001b[2mQuick integrates with popular platforms (e.g., CRM, accounting software) could be beneficial.                  \u001b[0m\u001b[2m \u001b[0m│\n",
       "│\u001b[2m \u001b[0m\u001b[2m                                                                                                               \u001b[0m\u001b[2m \u001b[0m│\n",
       "│\u001b[2m \u001b[0m\u001b[2m7. **Fee Structure Clarity**: While Alex provided the basic fee structure, additional details on any potential \u001b[0m\u001b[2m \u001b[0m│\n",
       "│\u001b[2m \u001b[0m\u001b[2mhidden fees, setup costs, or long-term contracts would ensure full transparency.                               \u001b[0m\u001b[2m \u001b[0m│\n",
       "└─────────────────────────────────────────────────────────────────────────────────────────────────────────────────┘\n"
      ]
     },
     "metadata": {},
     "output_type": "display_data"
    }
   ],
   "source": [
    "(\n",
    "    results\n",
    "    .select(\"confident\")\n",
    "    .print(pretty_labels = {\"answer.confident\": q8.question_text}, format = \"rich\")\n",
    ")"
   ]
  },
  {
   "cell_type": "markdown",
   "id": "042dc1c7-7724-4f8e-b334-c25fae584b76",
   "metadata": {},
   "source": [
    "### Posting to the Coop\n",
    "The [Coop](https://www.expectedparrot.com/content/explore) is a platform for creating, storing and sharing LLM-based research.\n",
    "It is fully integrated with EDSL and accessible from your workspace or Coop account page.\n",
    "Learn more about [creating an account](https://www.expectedparrot.com/login) and [using the Coop](https://docs.expectedparrot.com/en/latest/coop.html).\n",
    "\n",
    "Here we demonstrate how to post this notebook:"
   ]
  },
  {
   "cell_type": "code",
   "execution_count": 14,
   "id": "63377a8d-eae0-4b85-bb33-d4f30501edad",
   "metadata": {
    "editable": true,
    "slideshow": {
     "slide_type": ""
    },
    "tags": [
     "skip-execution"
    ]
   },
   "outputs": [
    {
     "data": {
      "text/plain": [
       "{'description': 'Analyzing a customer call',\n",
       " 'object_type': 'notebook',\n",
       " 'url': 'https://www.expectedparrot.com/content/c7d3042e-2b50-4232-a655-7b9011290151',\n",
       " 'uuid': 'c7d3042e-2b50-4232-a655-7b9011290151',\n",
       " 'version': '0.1.37.dev1',\n",
       " 'visibility': 'unlisted'}"
      ]
     },
     "execution_count": 14,
     "metadata": {},
     "output_type": "execute_result"
    }
   ],
   "source": [
    "from edsl import Notebook\n",
    "\n",
    "notebook = Notebook(path = \"analyze_customer_call.ipynb\")\n",
    "\n",
    "notebook.push(description = \"Analyzing a customer call\")"
   ]
  },
  {
   "cell_type": "markdown",
   "id": "497055a7-3efd-4cc3-8766-bfbdfcfa15c3",
   "metadata": {
    "editable": true,
    "slideshow": {
     "slide_type": ""
    },
    "tags": []
   },
   "source": [
    "Updating content at the Coop:"
   ]
  },
  {
   "cell_type": "code",
   "execution_count": 18,
   "id": "92f09355-02a6-4004-a1f3-24caaba7d276",
   "metadata": {
    "editable": true,
    "slideshow": {
     "slide_type": ""
    },
    "tags": [
     "skip-execution"
    ]
   },
   "outputs": [
    {
     "data": {
      "text/plain": [
       "{'status': 'success'}"
      ]
     },
     "execution_count": 18,
     "metadata": {},
     "output_type": "execute_result"
    }
   ],
   "source": [
    "notebook = Notebook(path = \"analyze_customer_call.ipynb\")\n",
    "\n",
    "notebook.patch(uuid = \"c7d3042e-2b50-4232-a655-7b9011290151\", value = notebook)"
   ]
  }
 ],
 "metadata": {
  "kernelspec": {
   "display_name": "Python 3 (ipykernel)",
   "language": "python",
   "name": "python3"
  },
  "language_info": {
   "codemirror_mode": {
    "name": "ipython",
    "version": 3
   },
   "file_extension": ".py",
   "mimetype": "text/x-python",
   "name": "python",
   "nbconvert_exporter": "python",
   "pygments_lexer": "ipython3",
   "version": "3.11.7"
  }
 },
 "nbformat": 4,
 "nbformat_minor": 5
}
