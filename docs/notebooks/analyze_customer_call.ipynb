{
 "cells": [
  {
   "cell_type": "markdown",
   "id": "99944fb4-3e42-45d6-82fb-07885805806d",
   "metadata": {
    "editable": true,
    "slideshow": {
     "slide_type": ""
    },
    "tags": []
   },
   "source": [
    "# Analyzing a transcript\n",
    "This notebook provides example EDSL code for analyzing a transcript using AI.\n",
    "In the steps below we construct a survey of questions about a transcript of a fictional call between a business development representative and a potential customer, and then use a language model to answer the questions in the persona of an business development expert delivering feedback on the call.\n",
    "The code can easily be modified for purposes of analyzing other textual content, images, PDFs, websites, tables and other data types with diverse personas and many popular language models.\n",
    "\n",
    "[EDSL is an open-source library](https://github.com/expectedparrot/edsl) for simulating surveys, experiments and other research with AI agents and large language models. \n",
    "Before running the code below, please ensure that you have [installed the EDSL library](https://docs.expectedparrot.com/en/latest/installation.html) and either [activated remote inference](https://docs.expectedparrot.com/en/latest/remote_inference.html) from your [Coop account](https://docs.expectedparrot.com/en/latest/coop.html) or [stored API keys](https://docs.expectedparrot.com/en/latest/api_keys.html) for the language models that you want to use with EDSL. Please also see our [documentation page](https://docs.expectedparrot.com/) for tips and tutorials on getting started using EDSL."
   ]
  },
  {
   "cell_type": "markdown",
   "id": "f0923a12-3c45-4c41-a657-70a12987cb59",
   "metadata": {
    "editable": true,
    "slideshow": {
     "slide_type": ""
    },
    "tags": []
   },
   "source": [
    "### Constructing questions\n",
    "We start by importing the tools we will use and constructing questions that we want to ask about the contents of the call.\n",
    "EDSL provides many common [question types](https://docs.expectedparrot.com/en/latest/questions.html) that we can choose from based on the form of the response that we want to get back from language model: free text, multiple choice, etc."
   ]
  },
  {
   "cell_type": "code",
   "execution_count": 1,
   "id": "c9da889e-af94-48d8-aaf4-af9154c7a7f9",
   "metadata": {
    "editable": true,
    "slideshow": {
     "slide_type": ""
    },
    "tags": []
   },
   "outputs": [],
   "source": [
    "from edsl import QuestionMultipleChoice, QuestionLinearScale, QuestionFreeText, Survey, Agent, AgentList, Model"
   ]
  },
  {
   "cell_type": "code",
   "execution_count": 2,
   "id": "798e2114-c700-41d6-bc5e-c9136fe3a191",
   "metadata": {
    "editable": true,
    "slideshow": {
     "slide_type": ""
    },
    "tags": []
   },
   "outputs": [],
   "source": [
    "q1 = QuestionMultipleChoice(\n",
    "    question_name = \"understanding\",\n",
    "    question_text = \"How would you rate the representative's understanding of the customer's needs?\",\n",
    "    question_options = [\"Excellent\", \"Good\", \"Fair\", \"Poor\"]\n",
    ")\n",
    "q2 = QuestionMultipleChoice(\n",
    "    question_name = \"explain_features\",\n",
    "    question_text = \"How well did the representative explain the features relevant to the customer's business?\",\n",
    "    question_options = [\"Very clearly\", \"Somewhat clearly\", \"Unclear\", \"Not explained\"]\n",
    ")\n",
    "q3 = QuestionMultipleChoice(\n",
    "    question_name = \"address_concerns\",\n",
    "    question_text = \"How well did the representative address the questions and concerns of the customer?\",\n",
    "    question_options = [\"Very effectively\", \"Mostly effectively\", \"Somewhat effectively\", \"Not effectively\"]\n",
    ")\n",
    "q4 = QuestionMultipleChoice(\n",
    "    question_name = \"product_knowledge\",\n",
    "    question_text = \"How would you rate the representative's knowledge of the products and services discussed?\",\n",
    "    question_options = [\"Excellent\", \"Good\", \"Fair\", \"Poor\"]\n",
    ")\n",
    "q5 = QuestionMultipleChoice(\n",
    "    question_name = \"attentive\",\n",
    "    question_text = \"Did the representative appear attentive to the customer's needs and concerns?\",\n",
    "    question_options = [\"Very attentive\", \"Mostly attentive\", \"Somewhat attentive\", \"Not attentive\"]\n",
    ")\n",
    "q6 = QuestionLinearScale(\n",
    "    question_name = \"likely_sale\",\n",
    "    question_text = \"On a scale from 1 to 10, how likely is the customer to use the products and servies discussed?\",\n",
    "    question_options = [1,2,3,4,5,6,7,8,9,10]\n",
    ")\n",
    "q7 = QuestionMultipleChoice(\n",
    "    question_name = \"next_steps\",\n",
    "    question_text = \"Did the representative offer relevant next steps for implementation or testing products?\",\n",
    "    question_options = [\"Yes, very clear and actionable\", \"Somewhat clear\", \"Not clear\", \"No next steps offered\"]\n",
    ")\n",
    "q8 = QuestionFreeText(\n",
    "    question_name = \"helpful_approaches\",\n",
    "    question_text = \"What aspects of the representative’s approach were most helpful to the customer?\"\n",
    ")\n",
    "q9 = QuestionFreeText(\n",
    "    question_name = \"inadequate_explanation\",\n",
    "    question_text = \"Were any features or details not adequately explained?\"\n",
    ")\n",
    "q10 = QuestionFreeText(\n",
    "    question_name = \"improvements\",\n",
    "    question_text = \"How could the representative have improved their explanation of the products?\"\n",
    ")\n",
    "q11 = QuestionFreeText(\n",
    "    question_name = \"confusing\",\n",
    "    question_text = \"Was there anything about the conversation that seemed unclear or confusing?\"\n",
    ")\n",
    "q12 = QuestionFreeText(\n",
    "    question_name = \"confident\",\n",
    "    question_text = \"What additional information could have helped the customer feel more confident in the representative's offerings?\"\n",
    ")"
   ]
  },
  {
   "cell_type": "markdown",
   "id": "f208b3b1-a490-4e18-a6d5-874affe7a90d",
   "metadata": {
    "editable": true,
    "slideshow": {
     "slide_type": ""
    },
    "tags": []
   },
   "source": [
    "We combine the questions in a survey in order to administer them together:"
   ]
  },
  {
   "cell_type": "code",
   "execution_count": 3,
   "id": "e3b36c34-34d0-4734-8d92-4218876f8406",
   "metadata": {
    "editable": true,
    "slideshow": {
     "slide_type": ""
    },
    "tags": []
   },
   "outputs": [],
   "source": [
    "survey = Survey([q1, q2, q3, q4, q5, q6, q7, q8, q9, q10, q11, q12])"
   ]
  },
  {
   "cell_type": "markdown",
   "id": "cddba94f-4566-4db0-8441-6e03c6235e00",
   "metadata": {
    "editable": true,
    "slideshow": {
     "slide_type": ""
    },
    "tags": []
   },
   "source": [
    "### Selecting content for review\n",
    "Next we import the text of the call that we want to give to the model in answering the questions.\n",
    "Here we use a mock transcript drafted by chatGPT:"
   ]
  },
  {
   "cell_type": "code",
   "execution_count": 4,
   "id": "6d47610a-ffe5-4516-9e38-84f0112f1738",
   "metadata": {
    "editable": true,
    "slideshow": {
     "slide_type": ""
    },
    "tags": []
   },
   "outputs": [],
   "source": [
    "transcript = \"\"\"\n",
    "Alex (Quick Representative):\n",
    "Hi, Jamie! Thanks so much for taking the time to chat today. How’s everything going with your website?\n",
    "\n",
    "Jamie (Customer):\n",
    "Hi, Alex. It’s going okay, I think. We’re getting some users, but honestly, I’m just trying to figure out the best way to manage payments. It’s all new to me.\n",
    "\n",
    "Alex:\n",
    "Got it, no worries! Quick can really help simplify things for you. Our platform allows you to accept payments easily and has a subscription option, which I think you mentioned you were interested in, right?\n",
    "\n",
    "Jamie:\n",
    "Yeah, we’re thinking about offering different subscription levels for our software, but I’m not sure how to set it all up. And we have some international users, so that’s been a bit confusing too.\n",
    "\n",
    "Alex:\n",
    "Right, right. So, with Quick, you can definitely do subscriptions, and it handles multiple currencies, too. For example, if you have a customer in Europe, Quick can automatically handle the conversion. It’s designed to make that part easy, so you don’t need to worry too much about different currencies.\n",
    "\n",
    "Jamie:\n",
    "That sounds helpful. But I’m a bit concerned about the setup. I’m not a developer, so I’m worried this might be too complicated.\n",
    "\n",
    "Alex:\n",
    "Oh, yeah, I totally understand! Quick’s setup is meant to be as easy as possible. We have plugins and a lot of guides to walk you through it. I’d say that most people get it up and running without too much trouble. And if you do need help, our support team is available.\n",
    "\n",
    "Jamie:\n",
    "Okay, that’s a relief. I’ve heard some stories about people getting stuck for weeks with payment systems. I don’t want that to happen.\n",
    "\n",
    "Alex:\n",
    "I get that completely. We try to make it as straightforward as possible. Also, if you’re worried about fraud or security, Quick has a feature called Shield that helps detect fraud. It’s built in, so it’s automatically protecting you from day one.\n",
    "\n",
    "Jamie:\n",
    "Oh, that sounds good. I don’t know much about fraud detection. Is it something I’d have to set up?\n",
    "\n",
    "Alex:\n",
    "Nope! Shield is on by default, so you don’t have to configure anything special unless you want to. It uses machine learning to detect unusual activity based on data from many transactions, which helps catch fraudulent transactions without much work on your end.\n",
    "\n",
    "Jamie:\n",
    "That’s nice to know. What about fees? I’d like to have a clear idea of what this will cost.\n",
    "\n",
    "Alex:\n",
    "Absolutely. So, Quick charges 2.9% plus 30 cents per transaction. For subscriptions, there’s no extra fee beyond the normal transaction cost. Also, if you start processing a lot of payments, we do offer some discounts, but those kick in at a higher volume.\n",
    "\n",
    "Jamie:\n",
    "Alright, that makes sense. And what about invoicing? A few customers have asked about getting invoices instead of just a credit card charge.\n",
    "\n",
    "Alex:\n",
    "Yes, we can do that too. With Quick Invoicing, you can send out one-time or recurring invoices, which is nice if you have larger clients who prefer an invoice. It’s all within the Quick system, so it integrates well.\n",
    "\n",
    "Jamie:\n",
    "Good to know. I think this covers most of my questions. It sounds like Quick could be a good fit. I’d just need to make sure I’m able to actually set it up without a ton of back-and-forth.\n",
    "\n",
    "Alex:\n",
    "I totally understand, Jamie. I’ll send over some guides and set you up with a sandbox account to test things out. Let’s reconnect in a couple of weeks to go over any questions you might have.\n",
    "\n",
    "Jamie:\n",
    "Sounds good, thanks, Alex. Looking forward to trying it out.\n",
    "\n",
    "Alex:\n",
    "Great! Thanks for your time, Jamie. I’ll follow up soon. Have a good one!\n",
    "\"\"\""
   ]
  },
  {
   "cell_type": "markdown",
   "id": "a459fb4f-92d4-4f0b-9738-c8284478cad9",
   "metadata": {
    "editable": true,
    "slideshow": {
     "slide_type": ""
    },
    "tags": []
   },
   "source": [
    "### AI agent personas and instructions\n",
    "Here we create a persona and instructions for an AI agent that we will give a model to reference in answering questions. We include the transcript of the customer call in the agent instructions. (We could also include it directly in question texts; [learn more about using questions with multiple pieces of content](https://docs.expectedparrot.com/en/latest/scenarios.html) with `Scenario` objects.)"
   ]
  },
  {
   "cell_type": "code",
   "execution_count": 5,
   "id": "db482535-dc7a-4be7-aeb8-c441bfd6110f",
   "metadata": {
    "editable": true,
    "slideshow": {
     "slide_type": ""
    },
    "tags": []
   },
   "outputs": [],
   "source": [
    "agent = Agent(\n",
    "        traits = {\"persona\": \"You are an expert business development representative with many years of experience at diverse companies.\"},\n",
    "        instruction = \"\"\"\n",
    "        You are being asked to review the following transcript of a business development call between a representative of a payments \n",
    "        processing company and a potential customer and provide critical feedback.\n",
    "        Transcript: \n",
    "        \"\"\" + transcript\n",
    ")"
   ]
  },
  {
   "cell_type": "markdown",
   "id": "03884615-e2be-45a7-8d2a-8b32d6cbe38c",
   "metadata": {
    "editable": true,
    "slideshow": {
     "slide_type": ""
    },
    "tags": []
   },
   "source": [
    "### Selecting a model\n",
    "EDSL works with many popular [language models that we can select](https://docs.expectedparrot.com/en/latest/language_models.html) to generate responses to the questions. Here we specify that we want to use OpenAI's GPT-4o:"
   ]
  },
  {
   "cell_type": "code",
   "execution_count": 6,
   "id": "c49f1a89-18a9-478f-b7a4-b21cf443dfc3",
   "metadata": {
    "editable": true,
    "slideshow": {
     "slide_type": ""
    },
    "tags": []
   },
   "outputs": [],
   "source": [
    "model = Model(\"gpt-4o\")"
   ]
  },
  {
   "cell_type": "markdown",
   "id": "d96d7876-213e-4830-a205-fbadca514a33",
   "metadata": {
    "editable": true,
    "slideshow": {
     "slide_type": ""
    },
    "tags": []
   },
   "source": [
    "### Running the survey\n",
    "Next we add the agents and model to the survey and run it:"
   ]
  },
  {
   "cell_type": "code",
   "execution_count": 7,
   "id": "73189496-67e9-4e26-bf5d-104a5b720dd5",
   "metadata": {
    "editable": true,
    "slideshow": {
     "slide_type": ""
    },
    "tags": []
   },
   "outputs": [
    {
     "data": {
      "text/html": [
       "\n",
       "            <!-- #region Remove Inference Info -->\n",
       "            <div id=\"logger-63f3bf5b-4476-4b7d-bb2a-cf509dff8103\" class=\"job-logger\">\n",
       "                <div class=\"job-logger-header\">\n",
       "                    <span>\n",
       "                        <span id=\"arrow-63f3bf5b-4476-4b7d-bb2a-cf509dff8103\">▼</span> \n",
       "                        Job Status (2025-03-03 08:01:34)\n",
       "                    </span>\n",
       "                </div>\n",
       "                <div id=\"content-63f3bf5b-4476-4b7d-bb2a-cf509dff8103\" style=\"display: block;\">\n",
       "                    <table class=\"job-logger-table\">\n",
       "                        \n",
       "            <tr>\n",
       "                <td class=\"job-logger-cell job-logger-label\">Job UUID</td>\n",
       "                <td class=\"job-logger-cell job-logger-value\">fa1b338b-7904-4c5a-b3bd-58dd69134cbc</td>\n",
       "            </tr>\n",
       "        \n",
       "            <tr>\n",
       "                <td class=\"job-logger-cell job-logger-label\">Progress Bar URL</td>\n",
       "                <td class=\"job-logger-cell job-logger-value\"><a href=\"https://www.expectedparrot.com/home/remote-job-progress/fa1b338b-7904-4c5a-b3bd-58dd69134cbc\" target=\"_blank\" class=\"job-logger-link\">https://www.expectedparrot.com/home/remote-job-progress/fa1b338b-7904-4c5a-b3bd-58dd69134cbc</a></td>\n",
       "            </tr>\n",
       "        \n",
       "            <tr>\n",
       "                <td class=\"job-logger-cell job-logger-label\">Exceptions Report URL</td>\n",
       "                <td class=\"job-logger-cell job-logger-value\">None</td>\n",
       "            </tr>\n",
       "        \n",
       "            <tr>\n",
       "                <td class=\"job-logger-cell job-logger-label\">Results UUID</td>\n",
       "                <td class=\"job-logger-cell job-logger-value\">a2fa59af-d678-4ab4-8a1b-9d124204454e</td>\n",
       "            </tr>\n",
       "        \n",
       "            <tr>\n",
       "                <td class=\"job-logger-cell job-logger-label\">Results URL</td>\n",
       "                <td class=\"job-logger-cell job-logger-value\"><a href=\"https://www.expectedparrot.com/content/a2fa59af-d678-4ab4-8a1b-9d124204454e\" target=\"_blank\" class=\"job-logger-link\">https://www.expectedparrot.com/content/a2fa59af-d678-4ab4-8a1b-9d124204454e</a></td>\n",
       "            </tr>\n",
       "        \n",
       "                    </table>\n",
       "                    \n",
       "                <div class=\"job-logger-status\">\n",
       "                    <span style=\"margin-right: 8px;\" class=\"job-logger-success\">✓</span><strong>Current Status:</strong> Job completed and Results stored on Coop: <a href=\"https://www.expectedparrot.com/content/a2fa59af-d678-4ab4-8a1b-9d124204454e\" target=\"_blank\" class=\"job-logger-link\">https://www.expectedparrot.com/content/a2fa59af-d678-4ab4-8a1b-9d124204454e</a>\n",
       "                </div>\n",
       "            \n",
       "                </div>\n",
       "            </div>\n",
       "            <!-- # endregion -->\n",
       "        "
      ],
      "text/plain": [
       "<IPython.core.display.HTML object>"
      ]
     },
     "metadata": {},
     "output_type": "display_data"
    },
    {
     "data": {
      "text/html": [
       "\n",
       "        <style>\n",
       "            /* Base theme variables */\n",
       "            :root {\n",
       "                --jl-bg-primary: #ffffff;\n",
       "                --jl-bg-secondary: #f5f5f5;\n",
       "                --jl-border-color: #e0e0e0;\n",
       "                --jl-text-primary: #24292e;\n",
       "                --jl-text-secondary: #586069;\n",
       "                --jl-link-color: #0366d6;\n",
       "                --jl-success-color: #28a745;\n",
       "                --jl-error-color: #d73a49;\n",
       "                --jl-header-bg: #f1f1f1;\n",
       "            }\n",
       "            \n",
       "            /* Dark theme variables */\n",
       "            .theme-dark {\n",
       "                --jl-bg-primary: #1e1e1e;\n",
       "                --jl-bg-secondary: #252526;\n",
       "                --jl-border-color: #2d2d2d;\n",
       "                --jl-text-primary: #cccccc;\n",
       "                --jl-text-secondary: #999999;\n",
       "                --jl-link-color: #4e94ce;\n",
       "                --jl-success-color: #89d185;\n",
       "                --jl-error-color: #f14c4c;\n",
       "                --jl-header-bg: #333333;\n",
       "            }\n",
       "\n",
       "            /* High contrast theme variables */\n",
       "            .theme-high-contrast {\n",
       "                --jl-bg-primary: #000000;\n",
       "                --jl-bg-secondary: #1a1a1a;\n",
       "                --jl-border-color: #404040;\n",
       "                --jl-text-primary: #ffffff;\n",
       "                --jl-text-secondary: #cccccc;\n",
       "                --jl-link-color: #66b3ff;\n",
       "                --jl-success-color: #00ff00;\n",
       "                --jl-error-color: #ff0000;\n",
       "                --jl-header-bg: #262626;\n",
       "            }\n",
       "            \n",
       "            .job-logger {\n",
       "                font-family: system-ui, -apple-system, sans-serif;\n",
       "                max-width: 800px;\n",
       "                margin: 10px 0;\n",
       "                color: var(--jl-text-primary);\n",
       "                box-shadow: 0 1px 3px rgba(0,0,0,0.12);\n",
       "                border-radius: 4px;\n",
       "                overflow: hidden;\n",
       "            }\n",
       "            \n",
       "            .job-logger-header {\n",
       "                padding: 12px 16px;\n",
       "                background: var(--jl-header-bg);\n",
       "                border: none;\n",
       "                border-radius: 4px 4px 0 0;\n",
       "                cursor: pointer;\n",
       "                color: var(--jl-text-primary);\n",
       "                user-select: none;\n",
       "                font-weight: 500;\n",
       "                letter-spacing: 0.3px;\n",
       "                display: flex;\n",
       "                justify-content: space-between;\n",
       "                align-items: center;\n",
       "            }\n",
       "            \n",
       "            .theme-select {\n",
       "                padding: 4px 8px;\n",
       "                border-radius: 4px;\n",
       "                border: 1px solid var(--jl-border-color);\n",
       "                background: var(--jl-bg-primary);\n",
       "                color: var(--jl-text-primary);\n",
       "                font-size: 0.9em;\n",
       "            }\n",
       "            \n",
       "            .job-logger-table {\n",
       "                width: 100%;\n",
       "                border-collapse: separate;\n",
       "                border-spacing: 0;\n",
       "                background: var(--jl-bg-primary);\n",
       "                border: 1px solid var(--jl-border-color);\n",
       "                margin-top: -1px;\n",
       "            }\n",
       "            \n",
       "            .job-logger-cell {\n",
       "                padding: 12px 16px;\n",
       "                border-bottom: 1px solid var(--jl-border-color);\n",
       "                line-height: 1.4;\n",
       "            }\n",
       "            \n",
       "            .job-logger-label {\n",
       "                font-weight: 500;\n",
       "                color: var(--jl-text-primary);\n",
       "                width: 25%;\n",
       "                background: var(--jl-bg-secondary);\n",
       "            }\n",
       "            \n",
       "            .job-logger-value {\n",
       "                color: var(--jl-text-secondary);\n",
       "                word-break: break-word;\n",
       "            }\n",
       "            \n",
       "            .job-logger-status {\n",
       "                margin: 0;\n",
       "                padding: 12px 16px;\n",
       "                background-color: var(--jl-bg-secondary);\n",
       "                border: 1px solid var(--jl-border-color);\n",
       "                border-top: none;\n",
       "                border-radius: 0 0 4px 4px;\n",
       "                color: var(--jl-text-primary);\n",
       "                font-size: 0.95em;\n",
       "            }\n",
       "        </style>\n",
       "        \n",
       "        <script>\n",
       "            class ThemeManager {\n",
       "                constructor(logId, initialTheme = 'auto') {\n",
       "                    this.logId = logId;\n",
       "                    this.currentTheme = initialTheme;\n",
       "                    this.darkModeMediaQuery = window.matchMedia('(prefers-color-scheme: dark)');\n",
       "                    this.init();\n",
       "                }\n",
       "                \n",
       "                init() {\n",
       "                    this.setupThemeSwitcher();\n",
       "                    this.updateTheme(this.currentTheme);\n",
       "                    \n",
       "                    this.darkModeMediaQuery.addListener(() => {\n",
       "                        if (this.currentTheme === 'auto') {\n",
       "                            this.updateTheme('auto');\n",
       "                        }\n",
       "                    });\n",
       "                }\n",
       "                \n",
       "                setupThemeSwitcher() {\n",
       "                    const logger = document.querySelector(`#logger-${this.logId}`);\n",
       "                    if (!logger) return;\n",
       "                    \n",
       "                    const switcher = document.createElement('div');\n",
       "                    switcher.className = 'theme-switcher';\n",
       "                    switcher.innerHTML = `\n",
       "                        <select id=\"theme-select-${this.logId}\" class=\"theme-select\">\n",
       "                            <option value=\"auto\">Auto</option>\n",
       "                            <option value=\"light\">Light</option>\n",
       "                            <option value=\"dark\">Dark</option>\n",
       "                            <option value=\"high-contrast\">High Contrast</option>\n",
       "                        </select>\n",
       "                    `;\n",
       "                    \n",
       "                    const header = logger.querySelector('.job-logger-header');\n",
       "                    header.appendChild(switcher);\n",
       "                    \n",
       "                    const select = switcher.querySelector('select');\n",
       "                    select.value = this.currentTheme;\n",
       "                    select.addEventListener('change', (e) => {\n",
       "                        this.updateTheme(e.target.value);\n",
       "                    });\n",
       "                }\n",
       "                \n",
       "                updateTheme(theme) {\n",
       "                    const logger = document.querySelector(`#logger-${this.logId}`);\n",
       "                    if (!logger) return;\n",
       "                    \n",
       "                    this.currentTheme = theme;\n",
       "                    \n",
       "                    logger.classList.remove('theme-light', 'theme-dark', 'theme-high-contrast');\n",
       "                    \n",
       "                    if (theme === 'auto') {\n",
       "                        const isDark = this.darkModeMediaQuery.matches;\n",
       "                        logger.classList.add(isDark ? 'theme-dark' : 'theme-light');\n",
       "                    } else {\n",
       "                        logger.classList.add(`theme-${theme}`);\n",
       "                    }\n",
       "                    \n",
       "                    try {\n",
       "                        localStorage.setItem('jobLoggerTheme', theme);\n",
       "                    } catch (e) {\n",
       "                        console.warn('Unable to save theme preference:', e);\n",
       "                    }\n",
       "                }\n",
       "            }\n",
       "            \n",
       "            window.initThemeManager = (logId, initialTheme) => {\n",
       "                new ThemeManager(logId, initialTheme);\n",
       "            };\n",
       "        </script>\n",
       "        \n",
       "        <script>\n",
       "            document.addEventListener('DOMContentLoaded', () => {\n",
       "                window.initThemeManager('63f3bf5b-4476-4b7d-bb2a-cf509dff8103', 'auto');\n",
       "            });\n",
       "        </script>\n",
       "        "
      ],
      "text/plain": [
       "<IPython.core.display.HTML object>"
      ]
     },
     "metadata": {},
     "output_type": "display_data"
    }
   ],
   "source": [
    "results = survey.by(agent).by(model).run()"
   ]
  },
  {
   "cell_type": "markdown",
   "id": "64b03671-da30-41c1-bda2-e50aab35e4c5",
   "metadata": {
    "editable": true,
    "slideshow": {
     "slide_type": ""
    },
    "tags": []
   },
   "source": [
    "This generates a formatted dataset of results that we can inspect with [built-in methods for analyzing responses](https://docs.expectedparrot.com/en/latest/results.html).\n",
    "Here we print them in some tables together with information about each persona that was used:"
   ]
  },
  {
   "cell_type": "code",
   "execution_count": 8,
   "id": "5789083e-eab5-4c78-964a-5c7483d12f86",
   "metadata": {
    "editable": true,
    "slideshow": {
     "slide_type": ""
    },
    "tags": []
   },
   "outputs": [
    {
     "data": {
      "text/html": [
       "\n",
       "            <div style=\"max-height: 500px; overflow-y: auto;\">\n",
       "                <style type=\"text/css\">\n",
       "#T_c5e11_row0_col0, #T_c5e11_row0_col1, #T_c5e11_row0_col2, #T_c5e11_row0_col3, #T_c5e11_row0_col4 {\n",
       "  text-align: left;\n",
       "}\n",
       "</style>\n",
       "<table id=\"T_c5e11\">\n",
       "  <thead>\n",
       "    <tr>\n",
       "      <th class=\"blank level0\" >&nbsp;</th>\n",
       "      <th id=\"T_c5e11_level0_col0\" class=\"col_heading level0 col0\" >Persona</th>\n",
       "      <th id=\"T_c5e11_level0_col1\" class=\"col_heading level0 col1\" >How would you rate the representative's understanding of the customer's needs?</th>\n",
       "      <th id=\"T_c5e11_level0_col2\" class=\"col_heading level0 col2\" >How well did the representative explain the features relevant to the customer's business?</th>\n",
       "      <th id=\"T_c5e11_level0_col3\" class=\"col_heading level0 col3\" >How well did the representative address the questions and concerns of the customer?</th>\n",
       "      <th id=\"T_c5e11_level0_col4\" class=\"col_heading level0 col4\" >How would you rate the representative's knowledge of the products and services discussed?</th>\n",
       "    </tr>\n",
       "  </thead>\n",
       "  <tbody>\n",
       "    <tr>\n",
       "      <th id=\"T_c5e11_level0_row0\" class=\"row_heading level0 row0\" >0</th>\n",
       "      <td id=\"T_c5e11_row0_col0\" class=\"data row0 col0\" >You are an expert business development representative with many years of experience at diverse companies.</td>\n",
       "      <td id=\"T_c5e11_row0_col1\" class=\"data row0 col1\" >Good</td>\n",
       "      <td id=\"T_c5e11_row0_col2\" class=\"data row0 col2\" >Somewhat clearly</td>\n",
       "      <td id=\"T_c5e11_row0_col3\" class=\"data row0 col3\" >Mostly effectively</td>\n",
       "      <td id=\"T_c5e11_row0_col4\" class=\"data row0 col4\" >Good</td>\n",
       "    </tr>\n",
       "  </tbody>\n",
       "</table>\n",
       "\n",
       "            </div>\n",
       "            "
      ],
      "text/plain": [
       "Persona                                                                                                    How would you rate the representative's understanding of the customer's needs?    How well did the representative explain the features relevant to the customer's business?    How well did the representative address the questions and concerns of the customer?    How would you rate the representative's knowledge of the products and services discussed?\n",
       "---------------------------------------------------------------------------------------------------------  --------------------------------------------------------------------------------  -------------------------------------------------------------------------------------------  -------------------------------------------------------------------------------------  -------------------------------------------------------------------------------------------\n",
       "You are an expert business development representative with many years of experience at diverse companies.  Good                                                                              Somewhat clearly                                                                             Mostly effectively                                                                     Good"
      ]
     },
     "execution_count": 8,
     "metadata": {},
     "output_type": "execute_result"
    }
   ],
   "source": [
    "(\n",
    "    results\n",
    "    .select(\"persona\", \"understanding\", \"explain_features\", \"address_concerns\", \"product_knowledge\", \n",
    "            # \"attentive\", \"likely_sale\", \"next_steps\"\n",
    "           )\n",
    "    .print(\n",
    "        pretty_labels = {\n",
    "            \"agent.persona\": \"Persona\",\n",
    "            \"answer.understanding\": q1.question_text, \n",
    "            \"answer.explain_features\": q2.question_text, \n",
    "            \"answer.address_concerns\": q3.question_text, \n",
    "            \"answer.product_knowledge\": q4.question_text, \n",
    "            # \"answer.attentive\": q5.question_text, \n",
    "            # \"answer.likely_sale\": q6.question_text, \n",
    "            # \"answer.next_steps\": q7.question_text\n",
    "        }\n",
    "    )\n",
    ")"
   ]
  },
  {
   "cell_type": "code",
   "execution_count": 9,
   "id": "e6567ec1-6354-4202-8f91-484807deca7d",
   "metadata": {
    "editable": true,
    "slideshow": {
     "slide_type": ""
    },
    "tags": []
   },
   "outputs": [
    {
     "data": {
      "text/html": [
       "\n",
       "            <div style=\"max-height: 500px; overflow-y: auto;\">\n",
       "                <style type=\"text/css\">\n",
       "#T_5524c_row0_col0, #T_5524c_row0_col1, #T_5524c_row0_col3 {\n",
       "  text-align: left;\n",
       "}\n",
       "#T_5524c_row0_col2 {\n",
       "  text-align: left;\n",
       "  background-color: #fff7fb;\n",
       "  color: #000000;\n",
       "}\n",
       "</style>\n",
       "<table id=\"T_5524c\">\n",
       "  <thead>\n",
       "    <tr>\n",
       "      <th class=\"blank level0\" >&nbsp;</th>\n",
       "      <th id=\"T_5524c_level0_col0\" class=\"col_heading level0 col0\" >Persona</th>\n",
       "      <th id=\"T_5524c_level0_col1\" class=\"col_heading level0 col1\" >Did the representative appear attentive to the customer's needs and concerns?</th>\n",
       "      <th id=\"T_5524c_level0_col2\" class=\"col_heading level0 col2\" >On a scale from 1 to 10, how likely is the customer to use the products and servies discussed?</th>\n",
       "      <th id=\"T_5524c_level0_col3\" class=\"col_heading level0 col3\" >Did the representative offer relevant next steps for implementation or testing products?</th>\n",
       "    </tr>\n",
       "  </thead>\n",
       "  <tbody>\n",
       "    <tr>\n",
       "      <th id=\"T_5524c_level0_row0\" class=\"row_heading level0 row0\" >0</th>\n",
       "      <td id=\"T_5524c_row0_col0\" class=\"data row0 col0\" >You are an expert business development representative with many years of experience at diverse companies.</td>\n",
       "      <td id=\"T_5524c_row0_col1\" class=\"data row0 col1\" >Mostly attentive</td>\n",
       "      <td id=\"T_5524c_row0_col2\" class=\"data row0 col2\" >8</td>\n",
       "      <td id=\"T_5524c_row0_col3\" class=\"data row0 col3\" >Yes, very clear and actionable</td>\n",
       "    </tr>\n",
       "  </tbody>\n",
       "</table>\n",
       "\n",
       "            </div>\n",
       "            "
      ],
      "text/plain": [
       "Persona                                                                                                    Did the representative appear attentive to the customer's needs and concerns?      On a scale from 1 to 10, how likely is the customer to use the products and servies discussed?  Did the representative offer relevant next steps for implementation or testing products?\n",
       "---------------------------------------------------------------------------------------------------------  -------------------------------------------------------------------------------  ------------------------------------------------------------------------------------------------  ------------------------------------------------------------------------------------------\n",
       "You are an expert business development representative with many years of experience at diverse companies.  Mostly attentive                                                                                                                                                                8  Yes, very clear and actionable"
      ]
     },
     "execution_count": 9,
     "metadata": {},
     "output_type": "execute_result"
    }
   ],
   "source": [
    "(\n",
    "    results\n",
    "    .select(\"persona\", \n",
    "            # \"understanding\", \"explain_features\", \"address_concerns\", \"product_knowledge\", \n",
    "            \"attentive\", \"likely_sale\", \"next_steps\"\n",
    "           )\n",
    "    .print(\n",
    "        pretty_labels = {\n",
    "            \"agent.persona\": \"Persona\",\n",
    "            # \"answer.understanding\": q1.question_text, \n",
    "            # \"answer.explain_features\": q2.question_text, \n",
    "            # \"answer.address_concerns\": q3.question_text, \n",
    "            # \"answer.product_knowledge\": q4.question_text, \n",
    "            \"answer.attentive\": q5.question_text, \n",
    "            \"answer.likely_sale\": q6.question_text, \n",
    "            \"answer.next_steps\": q7.question_text\n",
    "        },\n",
    "        format = \"rich\"\n",
    "    )\n",
    ")"
   ]
  },
  {
   "cell_type": "code",
   "execution_count": 10,
   "id": "35beaa15-5484-4461-baff-344c4226e2f1",
   "metadata": {
    "editable": true,
    "slideshow": {
     "slide_type": ""
    },
    "tags": []
   },
   "outputs": [
    {
     "data": {
      "text/html": [
       "\n",
       "            <div style=\"max-height: 500px; overflow-y: auto;\">\n",
       "                <style type=\"text/css\">\n",
       "#T_95bf2_row0_col0 {\n",
       "  text-align: left;\n",
       "}\n",
       "</style>\n",
       "<table id=\"T_95bf2\">\n",
       "  <thead>\n",
       "    <tr>\n",
       "      <th class=\"blank level0\" >&nbsp;</th>\n",
       "      <th id=\"T_95bf2_level0_col0\" class=\"col_heading level0 col0\" >What aspects of the representative’s approach were most helpful to the customer?</th>\n",
       "    </tr>\n",
       "  </thead>\n",
       "  <tbody>\n",
       "    <tr>\n",
       "      <th id=\"T_95bf2_level0_row0\" class=\"row_heading level0 row0\" >0</th>\n",
       "      <td id=\"T_95bf2_row0_col0\" class=\"data row0 col0\" >The representative, Alex, demonstrated several helpful aspects in their approach:\n",
       "\n",
       "1. **Understanding and Empathy**: Alex showed understanding and empathy towards Jamie's concerns about managing payments and setting up the system. By acknowledging Jamie's worries about complexity and potential issues, Alex built rapport and trust.\n",
       "\n",
       "2. **Clear Communication**: Alex communicated the features and benefits of Quick in a clear and straightforward manner. They highlighted key features such as subscription management, multi-currency handling, fraud detection, and invoicing, which directly addressed Jamie's needs and concerns.\n",
       "\n",
       "3. **Reassurance**: Alex reassured Jamie about the ease of setup, emphasizing that Quick is designed to be user-friendly even for non-developers. They also mentioned the availability of support and resources like guides and plugins to assist with the setup.\n",
       "\n",
       "4. **Addressing Concerns**: Alex proactively addressed potential concerns about fraud detection and fees, providing detailed information on how Quick handles these aspects without additional setup required from Jamie.\n",
       "\n",
       "5. **Follow-Up and Support**: Alex offered to send guides and set up a sandbox account for Jamie to test the system, showing a commitment to ongoing support. The suggestion to reconnect in a couple of weeks for further questions demonstrated a proactive approach to customer service.\n",
       "\n",
       "Overall, Alex's approach was customer-focused, informative, and supportive, which helped alleviate Jamie's concerns and positioned Quick as a suitable solution for their needs.</td>\n",
       "    </tr>\n",
       "  </tbody>\n",
       "</table>\n",
       "\n",
       "            </div>\n",
       "            "
      ],
      "text/plain": [
       "What aspects of the representative’s approach were most helpful to the customer?\n",
       "----------------------------------------------------------------------------------\n",
       "The representative, Alex, demonstrated several helpful aspects in their approach:\n",
       "\n",
       "1. **Understanding and Empathy**: Alex showed understanding and empathy towards Jamie's concerns about managing payments and setting up the system. By acknowledging Jamie's worries about complexity and potential issues, Alex built rapport and trust.\n",
       "\n",
       "2. **Clear Communication**: Alex communicated the features and benefits of Quick in a clear and straightforward manner. They highlighted key features such as subscription management, multi-currency handling, fraud detection, and invoicing, which directly addressed Jamie's needs and concerns.\n",
       "\n",
       "3. **Reassurance**: Alex reassured Jamie about the ease of setup, emphasizing that Quick is designed to be user-friendly even for non-developers. They also mentioned the availability of support and resources like guides and plugins to assist with the setup.\n",
       "\n",
       "4. **Addressing Concerns**: Alex proactively addressed potential concerns about fraud detection and fees, providing detailed information on how Quick handles these aspects without additional setup required from Jamie.\n",
       "\n",
       "5. **Follow-Up and Support**: Alex offered to send guides and set up a sandbox account for Jamie to test the system, showing a commitment to ongoing support. The suggestion to reconnect in a couple of weeks for further questions demonstrated a proactive approach to customer service.\n",
       "\n",
       "Overall, Alex's approach was customer-focused, informative, and supportive, which helped alleviate Jamie's concerns and positioned Quick as a suitable solution for their needs."
      ]
     },
     "execution_count": 10,
     "metadata": {},
     "output_type": "execute_result"
    }
   ],
   "source": [
    "(\n",
    "    results\n",
    "    .select(\"helpful_approaches\")\n",
    "    .print(pretty_labels = {\"answer.helpful_approaches\": q8.question_text})\n",
    ")"
   ]
  },
  {
   "cell_type": "code",
   "execution_count": 11,
   "id": "3fa17e5c-b936-4ff1-bbb5-7283e8c32a29",
   "metadata": {
    "editable": true,
    "slideshow": {
     "slide_type": ""
    },
    "tags": []
   },
   "outputs": [
    {
     "data": {
      "text/html": [
       "\n",
       "            <div style=\"max-height: 500px; overflow-y: auto;\">\n",
       "                <style type=\"text/css\">\n",
       "#T_32e94_row0_col0 {\n",
       "  text-align: left;\n",
       "}\n",
       "</style>\n",
       "<table id=\"T_32e94\">\n",
       "  <thead>\n",
       "    <tr>\n",
       "      <th class=\"blank level0\" >&nbsp;</th>\n",
       "      <th id=\"T_32e94_level0_col0\" class=\"col_heading level0 col0\" >What aspects of the representative’s approach were most helpful to the customer?</th>\n",
       "    </tr>\n",
       "  </thead>\n",
       "  <tbody>\n",
       "    <tr>\n",
       "      <th id=\"T_32e94_level0_row0\" class=\"row_heading level0 row0\" >0</th>\n",
       "      <td id=\"T_32e94_row0_col0\" class=\"data row0 col0\" >Yes, there were a few areas where the explanation could have been more detailed:\n",
       "\n",
       "1. **International Payments:** Alex mentioned that Quick handles multiple currencies and automatically manages conversions, but did not explain any potential fees associated with currency conversion or how exchange rates are determined. This could be an important factor for Jamie, who has international users.\n",
       "\n",
       "2. **Setup Process:** While Alex reassured Jamie about the ease of setup and available support, it would have been beneficial to provide more specific examples or a brief overview of the setup steps. This could help alleviate Jamie's concerns about not being a developer.\n",
       "\n",
       "3. **Fraud Detection:** Although Alex explained that Shield is on by default and uses machine learning, there was no mention of how effective it is, any limitations, or if there are options for customizing fraud detection rules if Jamie's business grows and requires more tailored solutions.\n",
       "\n",
       "4. **Fees and Discounts:** Alex mentioned the standard transaction fee and potential discounts for high volume but did not specify what constitutes \"a lot of payments\" or what the discount structure looks like. This information could help Jamie plan for future growth.\n",
       "\n",
       "5. **Invoicing Details:** While Alex confirmed that Quick can handle invoicing, it would have been helpful to explain how invoicing works within the system, any customization options available, and whether there are additional costs associated with using the invoicing feature.\n",
       "\n",
       "Providing more detailed information on these aspects could help Jamie make a more informed decision and feel more confident in choosing Quick as a payment processing solution.</td>\n",
       "    </tr>\n",
       "  </tbody>\n",
       "</table>\n",
       "\n",
       "            </div>\n",
       "            "
      ],
      "text/plain": [
       "What aspects of the representative’s approach were most helpful to the customer?\n",
       "----------------------------------------------------------------------------------\n",
       "Yes, there were a few areas where the explanation could have been more detailed:\n",
       "\n",
       "1. **International Payments:** Alex mentioned that Quick handles multiple currencies and automatically manages conversions, but did not explain any potential fees associated with currency conversion or how exchange rates are determined. This could be an important factor for Jamie, who has international users.\n",
       "\n",
       "2. **Setup Process:** While Alex reassured Jamie about the ease of setup and available support, it would have been beneficial to provide more specific examples or a brief overview of the setup steps. This could help alleviate Jamie's concerns about not being a developer.\n",
       "\n",
       "3. **Fraud Detection:** Although Alex explained that Shield is on by default and uses machine learning, there was no mention of how effective it is, any limitations, or if there are options for customizing fraud detection rules if Jamie's business grows and requires more tailored solutions.\n",
       "\n",
       "4. **Fees and Discounts:** Alex mentioned the standard transaction fee and potential discounts for high volume but did not specify what constitutes \"a lot of payments\" or what the discount structure looks like. This information could help Jamie plan for future growth.\n",
       "\n",
       "5. **Invoicing Details:** While Alex confirmed that Quick can handle invoicing, it would have been helpful to explain how invoicing works within the system, any customization options available, and whether there are additional costs associated with using the invoicing feature.\n",
       "\n",
       "Providing more detailed information on these aspects could help Jamie make a more informed decision and feel more confident in choosing Quick as a payment processing solution."
      ]
     },
     "execution_count": 11,
     "metadata": {},
     "output_type": "execute_result"
    }
   ],
   "source": [
    "(\n",
    "    results\n",
    "    .select(\"inadequate_explanation\")\n",
    "    .print(pretty_labels = {\"answer.inadequate_explanation\": q8.question_text})\n",
    ")"
   ]
  },
  {
   "cell_type": "code",
   "execution_count": 12,
   "id": "b523a272-849c-4000-a5d1-310f3e99c52c",
   "metadata": {
    "editable": true,
    "slideshow": {
     "slide_type": ""
    },
    "tags": []
   },
   "outputs": [
    {
     "data": {
      "text/html": [
       "\n",
       "            <div style=\"max-height: 500px; overflow-y: auto;\">\n",
       "                <style type=\"text/css\">\n",
       "#T_87c12_row0_col0 {\n",
       "  text-align: left;\n",
       "}\n",
       "</style>\n",
       "<table id=\"T_87c12\">\n",
       "  <thead>\n",
       "    <tr>\n",
       "      <th class=\"blank level0\" >&nbsp;</th>\n",
       "      <th id=\"T_87c12_level0_col0\" class=\"col_heading level0 col0\" >What aspects of the representative’s approach were most helpful to the customer?</th>\n",
       "    </tr>\n",
       "  </thead>\n",
       "  <tbody>\n",
       "    <tr>\n",
       "      <th id=\"T_87c12_level0_row0\" class=\"row_heading level0 row0\" >0</th>\n",
       "      <td id=\"T_87c12_row0_col0\" class=\"data row0 col0\" >The representative, Alex, did a decent job of covering the basics of the Quick platform, but there are several areas where the explanation could have been improved:\n",
       "\n",
       "1. **Tailored Explanation**: Alex could have asked more detailed questions about Jamie's specific needs and use cases. This would allow Alex to tailor the explanation to Jamie's particular business model and challenges, making the conversation more relevant and engaging.\n",
       "\n",
       "2. **Technical Clarity**: While Alex mentioned that the setup is easy, providing a brief overview of what the setup process entails could have been beneficial. For instance, explaining the steps involved in integrating Quick with a website or mentioning any technical requirements would help Jamie feel more prepared.\n",
       "\n",
       "3. **Feature Details**: Alex mentioned features like subscription management and fraud detection but could have gone into more detail about how these features work and their benefits. For example, explaining how the subscription levels can be customized or how Shield's machine learning works in simple terms could add value.\n",
       "\n",
       "4. **Case Studies or Testimonials**: Sharing a brief success story or testimonial from a similar customer could have helped Jamie visualize the benefits of using Quick and build trust in the product.\n",
       "\n",
       "5. **Competitive Advantage**: Highlighting what sets Quick apart from competitors would have been useful. This could include unique features, superior customer support, or better pricing models.\n",
       "\n",
       "6. **Proactive Solutions**: Alex could have proactively addressed common concerns or challenges that businesses face when setting up payment systems and how Quick specifically addresses those issues.\n",
       "\n",
       "By incorporating these elements, Alex could have provided a more comprehensive and compelling explanation of Quick's products and their benefits.</td>\n",
       "    </tr>\n",
       "  </tbody>\n",
       "</table>\n",
       "\n",
       "            </div>\n",
       "            "
      ],
      "text/plain": [
       "What aspects of the representative’s approach were most helpful to the customer?\n",
       "----------------------------------------------------------------------------------\n",
       "The representative, Alex, did a decent job of covering the basics of the Quick platform, but there are several areas where the explanation could have been improved:\n",
       "\n",
       "1. **Tailored Explanation**: Alex could have asked more detailed questions about Jamie's specific needs and use cases. This would allow Alex to tailor the explanation to Jamie's particular business model and challenges, making the conversation more relevant and engaging.\n",
       "\n",
       "2. **Technical Clarity**: While Alex mentioned that the setup is easy, providing a brief overview of what the setup process entails could have been beneficial. For instance, explaining the steps involved in integrating Quick with a website or mentioning any technical requirements would help Jamie feel more prepared.\n",
       "\n",
       "3. **Feature Details**: Alex mentioned features like subscription management and fraud detection but could have gone into more detail about how these features work and their benefits. For example, explaining how the subscription levels can be customized or how Shield's machine learning works in simple terms could add value.\n",
       "\n",
       "4. **Case Studies or Testimonials**: Sharing a brief success story or testimonial from a similar customer could have helped Jamie visualize the benefits of using Quick and build trust in the product.\n",
       "\n",
       "5. **Competitive Advantage**: Highlighting what sets Quick apart from competitors would have been useful. This could include unique features, superior customer support, or better pricing models.\n",
       "\n",
       "6. **Proactive Solutions**: Alex could have proactively addressed common concerns or challenges that businesses face when setting up payment systems and how Quick specifically addresses those issues.\n",
       "\n",
       "By incorporating these elements, Alex could have provided a more comprehensive and compelling explanation of Quick's products and their benefits."
      ]
     },
     "execution_count": 12,
     "metadata": {},
     "output_type": "execute_result"
    }
   ],
   "source": [
    "(\n",
    "    results\n",
    "    .select(\"improvements\")\n",
    "    .print(pretty_labels = {\"answer.improvements\": q8.question_text})\n",
    ")"
   ]
  },
  {
   "cell_type": "code",
   "execution_count": 13,
   "id": "b1a476af-bb6d-4891-8045-5be2d18d0967",
   "metadata": {
    "editable": true,
    "slideshow": {
     "slide_type": ""
    },
    "tags": []
   },
   "outputs": [
    {
     "data": {
      "text/html": [
       "\n",
       "            <div style=\"max-height: 500px; overflow-y: auto;\">\n",
       "                <style type=\"text/css\">\n",
       "#T_17bfc_row0_col0 {\n",
       "  text-align: left;\n",
       "}\n",
       "</style>\n",
       "<table id=\"T_17bfc\">\n",
       "  <thead>\n",
       "    <tr>\n",
       "      <th class=\"blank level0\" >&nbsp;</th>\n",
       "      <th id=\"T_17bfc_level0_col0\" class=\"col_heading level0 col0\" >What aspects of the representative’s approach were most helpful to the customer?</th>\n",
       "    </tr>\n",
       "  </thead>\n",
       "  <tbody>\n",
       "    <tr>\n",
       "      <th id=\"T_17bfc_level0_row0\" class=\"row_heading level0 row0\" >0</th>\n",
       "      <td id=\"T_17bfc_row0_col0\" class=\"data row0 col0\" >The conversation between Alex and Jamie was generally clear, but there are a few areas where additional clarity could be beneficial:\n",
       "\n",
       "1. **Setup Complexity**: While Alex reassures Jamie that the setup is easy, it might have been helpful to provide more specific examples or a brief overview of the setup process to alleviate Jamie’s concerns further. Mentioning any specific integrations or platforms that Quick supports could also be useful.\n",
       "\n",
       "2. **International Transactions**: Alex mentions that Quick handles multiple currencies and conversions, but it might have been helpful to explain if there are any additional fees or delays associated with currency conversion. This could be an important factor for businesses with international customers.\n",
       "\n",
       "3. **Fraud Detection**: Although Alex explains that Shield is on by default, Jamie might benefit from knowing if there are any customizable settings or reports available to monitor fraud activity. This could reassure Jamie about the level of control they have over fraud prevention.\n",
       "\n",
       "4. **Fees and Discounts**: While Alex provides the basic fee structure, more detail on what constitutes \"a lot of payments\" for discounts to apply could be useful. This would help Jamie understand at what point they might benefit from lower fees.\n",
       "\n",
       "5. **Invoicing**: Alex mentions Quick Invoicing but doesn’t elaborate on how it integrates with other systems Jamie might be using or if there are any customization options available for the invoices. More detail here could help Jamie understand how this feature would fit into their current workflow.\n",
       "\n",
       "Overall, the conversation is informative, but adding more specific details in these areas could enhance Jamie’s understanding and confidence in using Quick.</td>\n",
       "    </tr>\n",
       "  </tbody>\n",
       "</table>\n",
       "\n",
       "            </div>\n",
       "            "
      ],
      "text/plain": [
       "What aspects of the representative’s approach were most helpful to the customer?\n",
       "----------------------------------------------------------------------------------\n",
       "The conversation between Alex and Jamie was generally clear, but there are a few areas where additional clarity could be beneficial:\n",
       "\n",
       "1. **Setup Complexity**: While Alex reassures Jamie that the setup is easy, it might have been helpful to provide more specific examples or a brief overview of the setup process to alleviate Jamie’s concerns further. Mentioning any specific integrations or platforms that Quick supports could also be useful.\n",
       "\n",
       "2. **International Transactions**: Alex mentions that Quick handles multiple currencies and conversions, but it might have been helpful to explain if there are any additional fees or delays associated with currency conversion. This could be an important factor for businesses with international customers.\n",
       "\n",
       "3. **Fraud Detection**: Although Alex explains that Shield is on by default, Jamie might benefit from knowing if there are any customizable settings or reports available to monitor fraud activity. This could reassure Jamie about the level of control they have over fraud prevention.\n",
       "\n",
       "4. **Fees and Discounts**: While Alex provides the basic fee structure, more detail on what constitutes \"a lot of payments\" for discounts to apply could be useful. This would help Jamie understand at what point they might benefit from lower fees.\n",
       "\n",
       "5. **Invoicing**: Alex mentions Quick Invoicing but doesn’t elaborate on how it integrates with other systems Jamie might be using or if there are any customization options available for the invoices. More detail here could help Jamie understand how this feature would fit into their current workflow.\n",
       "\n",
       "Overall, the conversation is informative, but adding more specific details in these areas could enhance Jamie’s understanding and confidence in using Quick."
      ]
     },
     "execution_count": 13,
     "metadata": {},
     "output_type": "execute_result"
    }
   ],
   "source": [
    "(\n",
    "    results\n",
    "    .select(\"confusing\")\n",
    "    .print(pretty_labels = {\"answer.confusing\": q8.question_text})\n",
    ")"
   ]
  },
  {
   "cell_type": "code",
   "execution_count": 14,
   "id": "f3fc3678-557c-4317-9ddc-bdb08f10c22d",
   "metadata": {
    "editable": true,
    "slideshow": {
     "slide_type": ""
    },
    "tags": []
   },
   "outputs": [
    {
     "data": {
      "text/html": [
       "\n",
       "            <div style=\"max-height: 500px; overflow-y: auto;\">\n",
       "                <style type=\"text/css\">\n",
       "#T_dcd10_row0_col0 {\n",
       "  text-align: left;\n",
       "}\n",
       "</style>\n",
       "<table id=\"T_dcd10\">\n",
       "  <thead>\n",
       "    <tr>\n",
       "      <th class=\"blank level0\" >&nbsp;</th>\n",
       "      <th id=\"T_dcd10_level0_col0\" class=\"col_heading level0 col0\" >What aspects of the representative’s approach were most helpful to the customer?</th>\n",
       "    </tr>\n",
       "  </thead>\n",
       "  <tbody>\n",
       "    <tr>\n",
       "      <th id=\"T_dcd10_level0_row0\" class=\"row_heading level0 row0\" >0</th>\n",
       "      <td id=\"T_dcd10_row0_col0\" class=\"data row0 col0\" >While Alex did a good job addressing Jamie's concerns and providing an overview of Quick's features, there are a few areas where additional information could have helped Jamie feel more confident:\n",
       "\n",
       "1. **Case Studies or Testimonials**: Sharing success stories or testimonials from other businesses similar to Jamie's could have provided reassurance about the effectiveness and ease of use of Quick's platform.\n",
       "\n",
       "2. **Detailed Setup Process**: While Alex mentioned that the setup is easy and there are guides available, providing a brief overview of the actual steps involved or offering a demo could have made Jamie feel more at ease about the process.\n",
       "\n",
       "3. **Customer Support Details**: Providing more specific information about the availability and responsiveness of the support team, such as support hours or typical response times, could help Jamie feel more secure about getting help if needed.\n",
       "\n",
       "4. **Security and Compliance**: While fraud detection was mentioned, discussing other security measures and compliance with standards like PCI DSS could reassure Jamie about the platform's security.\n",
       "\n",
       "5. **Fee Structure Clarity**: Offering a more detailed breakdown of potential costs, including examples of how fees apply in different scenarios, might help Jamie better understand the financial implications.\n",
       "\n",
       "6. **International Transactions**: Since Jamie has international users, more information on how Quick handles international transactions, including any additional fees or processes, could be beneficial.\n",
       "\n",
       "7. **Integration with Existing Systems**: Information on how Quick integrates with other tools Jamie might be using, such as accounting software or CRM systems, could add value to the conversation.\n",
       "\n",
       "By addressing these areas, Alex could have provided Jamie with a more comprehensive understanding of Quick's offerings and how they could specifically benefit Jamie's business.</td>\n",
       "    </tr>\n",
       "  </tbody>\n",
       "</table>\n",
       "\n",
       "            </div>\n",
       "            "
      ],
      "text/plain": [
       "What aspects of the representative’s approach were most helpful to the customer?\n",
       "----------------------------------------------------------------------------------\n",
       "While Alex did a good job addressing Jamie's concerns and providing an overview of Quick's features, there are a few areas where additional information could have helped Jamie feel more confident:\n",
       "\n",
       "1. **Case Studies or Testimonials**: Sharing success stories or testimonials from other businesses similar to Jamie's could have provided reassurance about the effectiveness and ease of use of Quick's platform.\n",
       "\n",
       "2. **Detailed Setup Process**: While Alex mentioned that the setup is easy and there are guides available, providing a brief overview of the actual steps involved or offering a demo could have made Jamie feel more at ease about the process.\n",
       "\n",
       "3. **Customer Support Details**: Providing more specific information about the availability and responsiveness of the support team, such as support hours or typical response times, could help Jamie feel more secure about getting help if needed.\n",
       "\n",
       "4. **Security and Compliance**: While fraud detection was mentioned, discussing other security measures and compliance with standards like PCI DSS could reassure Jamie about the platform's security.\n",
       "\n",
       "5. **Fee Structure Clarity**: Offering a more detailed breakdown of potential costs, including examples of how fees apply in different scenarios, might help Jamie better understand the financial implications.\n",
       "\n",
       "6. **International Transactions**: Since Jamie has international users, more information on how Quick handles international transactions, including any additional fees or processes, could be beneficial.\n",
       "\n",
       "7. **Integration with Existing Systems**: Information on how Quick integrates with other tools Jamie might be using, such as accounting software or CRM systems, could add value to the conversation.\n",
       "\n",
       "By addressing these areas, Alex could have provided Jamie with a more comprehensive understanding of Quick's offerings and how they could specifically benefit Jamie's business."
      ]
     },
     "execution_count": 14,
     "metadata": {},
     "output_type": "execute_result"
    }
   ],
   "source": [
    "(\n",
    "    results\n",
    "    .select(\"confident\")\n",
    "    .print(pretty_labels = {\"answer.confident\": q8.question_text})\n",
    ")"
   ]
  },
  {
   "cell_type": "markdown",
   "id": "042dc1c7-7724-4f8e-b334-c25fae584b76",
   "metadata": {
    "editable": true,
    "slideshow": {
     "slide_type": ""
    },
    "tags": []
   },
   "source": [
    "### Posting to the Coop\n",
    "The [Coop](https://www.expectedparrot.com/content/explore) is a platform for creating, storing and sharing LLM-based research.\n",
    "It is fully integrated with EDSL and accessible from your workspace or Coop account page.\n",
    "Learn more about [creating an account](https://www.expectedparrot.com/login) and [using the Coop](https://docs.expectedparrot.com/en/latest/coop.html).\n",
    "\n",
    "Here we demonstrate how to post this notebook:"
   ]
  },
  {
   "cell_type": "code",
   "execution_count": 15,
   "id": "63377a8d-eae0-4b85-bb33-d4f30501edad",
   "metadata": {
    "editable": true,
    "slideshow": {
     "slide_type": ""
    },
    "tags": [
     "skip-execution"
    ]
   },
   "outputs": [
    {
     "data": {
      "text/plain": [
       "{'description': 'Analyzing a customer call',\n",
       " 'object_type': 'notebook',\n",
       " 'url': 'https://www.expectedparrot.com/content/4bc0decb-66ff-43ad-806c-3da020ee8dea',\n",
       " 'uuid': '4bc0decb-66ff-43ad-806c-3da020ee8dea',\n",
       " 'version': '0.1.47.dev1',\n",
       " 'visibility': 'public'}"
      ]
     },
     "execution_count": 15,
     "metadata": {},
     "output_type": "execute_result"
    }
   ],
   "source": [
    "from edsl import Notebook\n",
    "\n",
    "notebook = Notebook(path = \"analyze_customer_call.ipynb\")\n",
    "\n",
    "info = notebook.push(\n",
    "    description = \"Analyzing a customer call\", \n",
    "    alias = \"analyze-customer-call-notebook\",\n",
    "    visibility = \"public\"\n",
    ")\n",
    "info"
   ]
  },
  {
   "cell_type": "markdown",
   "id": "497055a7-3efd-4cc3-8766-bfbdfcfa15c3",
   "metadata": {
    "editable": true,
    "slideshow": {
     "slide_type": ""
    },
    "tags": []
   },
   "source": [
    "Updating content at the Coop:"
   ]
  },
  {
   "cell_type": "code",
   "execution_count": 17,
   "id": "392e7f9a-7f41-465f-9e80-8eb839ad8396",
   "metadata": {
    "editable": true,
    "slideshow": {
     "slide_type": ""
    },
    "tags": [
     "skip-execution"
    ]
   },
   "outputs": [
    {
     "data": {
      "text/plain": [
       "{'status': 'success'}"
      ]
     },
     "execution_count": 17,
     "metadata": {},
     "output_type": "execute_result"
    }
   ],
   "source": [
    "notebook = Notebook(path = \"analyze_customer_call.ipynb\") # resave\n",
    "\n",
    "notebook.patch(info[\"uuid\"], value = notebook)"
   ]
  }
 ],
 "metadata": {
  "kernelspec": {
   "display_name": "Python 3 (ipykernel)",
   "language": "python",
   "name": "python3"
  },
  "language_info": {
   "codemirror_mode": {
    "name": "ipython",
    "version": 3
   },
   "file_extension": ".py",
   "mimetype": "text/x-python",
   "name": "python",
   "nbconvert_exporter": "python",
   "pygments_lexer": "ipython3",
   "version": "3.11.7"
  }
 },
 "nbformat": 4,
 "nbformat_minor": 5
}
