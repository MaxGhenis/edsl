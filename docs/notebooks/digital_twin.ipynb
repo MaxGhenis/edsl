{
 "cells": [
  {
   "cell_type": "markdown",
   "metadata": {
    "cell_id": "b6062f82bfbb4ff4a373015a42673693",
    "deepnote_app_block_visible": false,
    "deepnote_cell_type": "markdown"
   },
   "source": [
    "# Creating a digital twin\n",
    "This notebook contains sample [EDSL](https://docs.expectedparrot.com/) code for creating an AI agent and prompting it to critique some content. The code is readily editable to create other agents and survey questions with any available language models. \n",
    "\n",
    "EDSL is an open-source library for simulating surveys and experiements with AI. Please see our [documentation page](https://docs.expectedparrot.com/) for tips and tutorials on getting started."
   ]
  },
  {
   "cell_type": "markdown",
   "metadata": {},
   "source": [
    "[![Open In Colab](https://colab.research.google.com/assets/colab-badge.svg)](https://colab.research.google.com/github/expectedparrot/edsl/blob/main/docs/notebooks/digital_twin.ipynb)"
   ]
  },
  {
   "cell_type": "code",
   "execution_count": 1,
   "metadata": {
    "cell_id": "da0d28e37fac4632a430f438ff87bf47",
    "deepnote_cell_type": "code"
   },
   "outputs": [],
   "source": [
    "# ! pip install edsl"
   ]
  },
  {
   "cell_type": "code",
   "execution_count": 2,
   "metadata": {
    "allow_embed": false,
    "cell_id": "fe7c06dfb1b64969bad5925123634f23",
    "deepnote_cell_type": "code",
    "deepnote_to_be_reexecuted": false,
    "execution_millis": 9619,
    "execution_start": 1710077907081,
    "source_hash": null
   },
   "outputs": [],
   "source": [
    "from edsl.questions import (\n",
    "    QuestionMultipleChoice,\n",
    "    QuestionCheckBox,\n",
    "    QuestionFreeText,\n",
    "    QuestionLinearScale,\n",
    "    QuestionList,\n",
    "    QuestionBudget,\n",
    ")\n",
    "from edsl import Agent, Scenario, Survey, Model"
   ]
  },
  {
   "cell_type": "code",
   "execution_count": 3,
   "metadata": {},
   "outputs": [],
   "source": [
    "# Construct relevant traits as a dictionary\n",
    "agent_traits = {\n",
    "    \"persona\": \"\"\"You are a middle-aged mom in Cambridge, Massachusetts. \n",
    "        You hope to own a driverless minivan in the near future.\n",
    "        You are working on an open source Python package for conducting research with AI.\"\"\",\n",
    "    \"age\": 45,\n",
    "    \"location\": \"US\",\n",
    "    \"industry\": \"information technology\",\n",
    "    \"company\": \"Expected Parrot\",\n",
    "    \"occupation\": \"startup cofounder\",\n",
    "    \"hobbies\": \"kayaking, beach walks\",\n",
    "}\n",
    "\n",
    "# Pass the traits and an optional name to an agent\n",
    "agent = Agent(name=\"Robin\", traits=agent_traits)"
   ]
  },
  {
   "cell_type": "code",
   "execution_count": 4,
   "metadata": {},
   "outputs": [],
   "source": [
    "# Optionally create some special instructions for the task\n",
    "context = \"\"\"You are answering questions about a software package for conducting surveys and experiments \n",
    "          with large language models. The creators of the software want to know your opinions about some\n",
    "          new features they are considering building. Your feedback will help them make decisions about\n",
    "          those potential features. \"\"\"\n"
   ]
  },
  {
   "cell_type": "code",
   "execution_count": 19,
   "metadata": {
    "allow_embed": false,
    "cell_id": "3530d8d409dd44d9acd48e054318ad9c",
    "deepnote_cell_type": "code",
    "deepnote_to_be_reexecuted": false,
    "execution_millis": 31422,
    "execution_start": 1709848982532,
    "source_hash": null
   },
   "outputs": [],
   "source": [
    "# Construct questions for the task\n",
    "q1 = QuestionMultipleChoice(\n",
    "    question_name=\"use_often\",\n",
    "    question_text=context\n",
    "    + \"\"\"Consider the following new feature: {{ content }}\n",
    "    How often do you think you would use it?\"\"\",\n",
    "    question_options=[\"Never\", \"Occasionally\", \"Frequently\", \"All the time\"],\n",
    ")\n",
    "\n",
    "q2 = QuestionCheckBox(\n",
    "    question_name=\"checkbox\",\n",
    "    question_text=context\n",
    "    + \"\"\"Consider the following new feature: {{ content }}\n",
    "    Select all that apply.\"\"\",\n",
    "    question_options=[\n",
    "        \"This feature would be useful to me.\",\n",
    "        \"This feature would make me more productive.\",\n",
    "        \"This feature will be important to me.\",\n",
    "        \"The benefits of this feature are not clear to me.\",\n",
    "        \"I would like to see some examples of how to use this feature.\",\n",
    "    ],\n",
    ")\n",
    "\n",
    "q3 = QuestionFreeText(\n",
    "    question_name=\"concerns\",\n",
    "    question_text=context\n",
    "    + \"Do you have any concerns about the value and usefulness of this new feature: {{ content }}\",\n",
    ")\n",
    "\n",
    "q4 = QuestionLinearScale(\n",
    "    question_name=\"likely_to_use\",\n",
    "    question_text=context\n",
    "    + \"\"\"Consider the following new feature: {{ content }}\n",
    "    On a scale from 1 to 5, how likely are you to use this new feature? \n",
    "    (1 = not at all likely, 5 = very likely)\"\"\",\n",
    "    question_options=[1, 2, 3, 4, 5],\n",
    "    option_labels={1: \"Not at all likely\", 5: \"Very likely\"},\n",
    ")"
   ]
  },
  {
   "cell_type": "code",
   "execution_count": 6,
   "metadata": {},
   "outputs": [],
   "source": [
    "# Create a survey with the questions\n",
    "survey = Survey(questions=[q1, q2, q3, q4])"
   ]
  },
  {
   "cell_type": "code",
   "execution_count": 7,
   "metadata": {},
   "outputs": [],
   "source": [
    "# Create some content for the agent to review\n",
    "contents = [\n",
    "    \"An optional progress bar that shows how many of your questions have been answered while your survey is running.\",\n",
    "    \"A method that lets you quickly check what version of the package you have installed.\",\n",
    "    \"A method that lets you include questions and responses as context for new questions.\",\n",
    "]\n",
    "\n",
    "# Parameterize the questions with the content\n",
    "scenarios = [Scenario({\"content\": c}) for c in contents]"
   ]
  },
  {
   "cell_type": "code",
   "execution_count": 9,
   "metadata": {},
   "outputs": [
    {
     "data": {
      "text/html": [
       "<div class=\"highlight\"><pre><span></span><span class=\"p\">{</span>\n",
       "<span class=\"w\">    </span><span class=\"nt\">&quot;name&quot;</span><span class=\"p\">:</span><span class=\"w\"> </span><span class=\"s2\">&quot;Robin&quot;</span><span class=\"p\">,</span>\n",
       "<span class=\"w\">    </span><span class=\"nt\">&quot;traits&quot;</span><span class=\"p\">:</span><span class=\"w\"> </span><span class=\"p\">{</span>\n",
       "<span class=\"w\">        </span><span class=\"nt\">&quot;persona&quot;</span><span class=\"p\">:</span><span class=\"w\"> </span><span class=\"s2\">&quot;You are a middle-aged mom in Cambridge, Massachusetts. \\n        You hope to own a driverless minivan in the near future.\\n        You are working on an open source Python package for conducting research with AI.&quot;</span><span class=\"p\">,</span>\n",
       "<span class=\"w\">        </span><span class=\"nt\">&quot;age&quot;</span><span class=\"p\">:</span><span class=\"w\"> </span><span class=\"mi\">45</span><span class=\"p\">,</span>\n",
       "<span class=\"w\">        </span><span class=\"nt\">&quot;location&quot;</span><span class=\"p\">:</span><span class=\"w\"> </span><span class=\"s2\">&quot;US&quot;</span><span class=\"p\">,</span>\n",
       "<span class=\"w\">        </span><span class=\"nt\">&quot;industry&quot;</span><span class=\"p\">:</span><span class=\"w\"> </span><span class=\"s2\">&quot;information technology&quot;</span><span class=\"p\">,</span>\n",
       "<span class=\"w\">        </span><span class=\"nt\">&quot;company&quot;</span><span class=\"p\">:</span><span class=\"w\"> </span><span class=\"s2\">&quot;Expected Parrot&quot;</span><span class=\"p\">,</span>\n",
       "<span class=\"w\">        </span><span class=\"nt\">&quot;occupation&quot;</span><span class=\"p\">:</span><span class=\"w\"> </span><span class=\"s2\">&quot;startup cofounder&quot;</span><span class=\"p\">,</span>\n",
       "<span class=\"w\">        </span><span class=\"nt\">&quot;hobbies&quot;</span><span class=\"p\">:</span><span class=\"w\"> </span><span class=\"s2\">&quot;kayaking, beach walks&quot;</span>\n",
       "<span class=\"w\">    </span><span class=\"p\">}</span>\n",
       "<span class=\"p\">}</span>\n",
       "</pre></div>\n"
      ],
      "text/plain": [
       "Agent(name = \"\"\"Robin\"\"\", traits = {'persona': 'You are a middle-aged mom in Cambridge, Massachusetts. \\n        You hope to own a driverless minivan in the near future.\\n        You are working on an open source Python package for conducting research with AI.', 'age': 45, 'location': 'US', 'industry': 'information technology', 'company': 'Expected Parrot', 'occupation': 'startup cofounder', 'hobbies': 'kayaking, beach walks'})"
      ]
     },
     "execution_count": 9,
     "metadata": {},
     "output_type": "execute_result"
    }
   ],
   "source": [
    "agent"
   ]
  },
  {
   "cell_type": "code",
   "execution_count": 12,
   "metadata": {},
   "outputs": [
    {
     "data": {
      "text/html": [
       "\n",
       "    <style>\n",
       "        table {\n",
       "            width: 100%;\n",
       "            border-collapse: collapse;\n",
       "        }\n",
       "        table, th, td {\n",
       "            border: 1px solid black;\n",
       "        }\n",
       "        th, td {\n",
       "            padding: 10px;\n",
       "            text-align: left;\n",
       "        }\n",
       "    </style>\n",
       "    <table id=\"myTable\" class=\"display\">\n",
       "  <thead>\n",
       "  <tr>\n",
       "    <th>question_name</th>\n",
       "    <th>question_text</th>\n",
       "    <th>question_options</th>\n",
       "    <th>question_type</th>\n",
       "    <th>min_selections</th>\n",
       "    <th>option_labels</th>\n",
       "    <th>max_selections</th>\n",
       "  </tr>\n",
       "  </thead>\n",
       "</tbody>\n",
       "  <tr>\n",
       "    <td>use_often</td>\n",
       "    <td>You are answering questions about a software package for conducting surveys and experiments \n",
       "          with large language models. The creators of the software want to know your opinions about some\n",
       "          new features they are considering building. Your feedback will help them make decisions about\n",
       "          those potential features. Consider the following new feature: {{ content }}\n",
       "    How often do you think you would use it?</td>\n",
       "    <td>['Never', 'Occasionally', 'Frequently', 'All the time']</td>\n",
       "    <td>multiple_choice</td>\n",
       "    <td>None</td>\n",
       "    <td>None</td>\n",
       "    <td>None</td>\n",
       "  </tr>\n",
       "  <tr>\n",
       "    <td>checkbox</td>\n",
       "    <td>You are answering questions about a software package for conducting surveys and experiments \n",
       "          with large language models. The creators of the software want to know your opinions about some\n",
       "          new features they are considering building. Your feedback will help them make decisions about\n",
       "          those potential features. Consider the following new feature: {{ content }}\n",
       "    Select all that apply.</td>\n",
       "    <td>['This feature would be useful to me.', 'This feature would make me more productive.', 'This feature will be important to me.', 'The benefits of this feature are not clear to me.', 'I would like to see some examples of how to use this feature.']</td>\n",
       "    <td>checkbox</td>\n",
       "    <td>None</td>\n",
       "    <td>None</td>\n",
       "    <td>None</td>\n",
       "  </tr>\n",
       "  <tr>\n",
       "    <td>concerns</td>\n",
       "    <td>You are answering questions about a software package for conducting surveys and experiments \n",
       "          with large language models. The creators of the software want to know your opinions about some\n",
       "          new features they are considering building. Your feedback will help them make decisions about\n",
       "          those potential features. Do you have any concerns about the value and usefulness of this new feature: {{ content }}</td>\n",
       "    <td>None</td>\n",
       "    <td>free_text</td>\n",
       "    <td>None</td>\n",
       "    <td>None</td>\n",
       "    <td>None</td>\n",
       "  </tr>\n",
       "  <tr>\n",
       "    <td>likely_to_use</td>\n",
       "    <td>You are answering questions about a software package for conducting surveys and experiments \n",
       "          with large language models. The creators of the software want to know your opinions about some\n",
       "          new features they are considering building. Your feedback will help them make decisions about\n",
       "          those potential features. Consider the following new feature: {{ content }}\n",
       "    On a scale from 1 to 5, how likely are you to use this new feature? \n",
       "    (1 = not at all likely, 5 = very likely)</td>\n",
       "    <td>[1, 2, 3, 4, 5]</td>\n",
       "    <td>linear_scale</td>\n",
       "    <td>None</td>\n",
       "    <td>None</td>\n",
       "    <td>None</td>\n",
       "  </tr>\n",
       "</tbody>\n",
       "</table>"
      ],
      "text/plain": [
       "<IPython.core.display.HTML object>"
      ]
     },
     "metadata": {},
     "output_type": "display_data"
    }
   ],
   "source": [
    "survey.to_scenario_list().print()"
   ]
  },
  {
   "cell_type": "code",
   "execution_count": 20,
   "metadata": {},
   "outputs": [
    {
     "data": {
      "application/vnd.jupyter.widget-view+json": {
       "model_id": "f1ce985fc1d0450a9f63498808dcb4a8",
       "version_major": 2,
       "version_minor": 0
      },
      "text/plain": [
       "Output()"
      ]
     },
     "metadata": {},
     "output_type": "display_data"
    },
    {
     "data": {
      "text/html": [
       "<pre style=\"white-space:pre;overflow-x:auto;line-height:normal;font-family:Menlo,'DejaVu Sans Mono',consolas,'Courier New',monospace\"></pre>\n"
      ],
      "text/plain": []
     },
     "metadata": {},
     "output_type": "display_data"
    }
   ],
   "source": [
    "# Run the survey and store the results, and show a progress bar\n",
    "results = survey.by(scenarios).by(agent).run(progress_bar=True)"
   ]
  },
  {
   "cell_type": "code",
   "execution_count": null,
   "metadata": {
    "cell_id": "4c6bebad18604f9ea4803f8d0fa66c53",
    "deepnote_cell_type": "code",
    "deepnote_to_be_reexecuted": false,
    "execution_millis": 111,
    "execution_start": 1709849194392,
    "source_hash": null
   },
   "outputs": [
    {
     "data": {
      "text/plain": [
       "['agent.age',\n",
       " 'agent.agent_instruction',\n",
       " 'agent.agent_name',\n",
       " 'agent.company',\n",
       " 'agent.hobbies',\n",
       " 'agent.industry',\n",
       " 'agent.location',\n",
       " 'agent.occupation',\n",
       " 'agent.persona',\n",
       " 'answer.checkbox',\n",
       " 'answer.concerns',\n",
       " 'answer.likely_to_use',\n",
       " 'answer.use_often',\n",
       " 'comment.checkbox_comment',\n",
       " 'comment.likely_to_use_comment',\n",
       " 'comment.use_often_comment',\n",
       " 'iteration.iteration',\n",
       " 'model.frequency_penalty',\n",
       " 'model.logprobs',\n",
       " 'model.max_tokens',\n",
       " 'model.model',\n",
       " 'model.presence_penalty',\n",
       " 'model.temperature',\n",
       " 'model.top_logprobs',\n",
       " 'model.top_p',\n",
       " 'prompt.checkbox_system_prompt',\n",
       " 'prompt.checkbox_user_prompt',\n",
       " 'prompt.concerns_system_prompt',\n",
       " 'prompt.concerns_user_prompt',\n",
       " 'prompt.likely_to_use_system_prompt',\n",
       " 'prompt.likely_to_use_user_prompt',\n",
       " 'prompt.use_often_system_prompt',\n",
       " 'prompt.use_often_user_prompt',\n",
       " 'question_options.checkbox_question_options',\n",
       " 'question_options.concerns_question_options',\n",
       " 'question_options.likely_to_use_question_options',\n",
       " 'question_options.use_often_question_options',\n",
       " 'question_text.checkbox_question_text',\n",
       " 'question_text.concerns_question_text',\n",
       " 'question_text.likely_to_use_question_text',\n",
       " 'question_text.use_often_question_text',\n",
       " 'question_type.checkbox_question_type',\n",
       " 'question_type.concerns_question_type',\n",
       " 'question_type.likely_to_use_question_type',\n",
       " 'question_type.use_often_question_type',\n",
       " 'raw_model_response.checkbox_raw_model_response',\n",
       " 'raw_model_response.concerns_raw_model_response',\n",
       " 'raw_model_response.likely_to_use_raw_model_response',\n",
       " 'raw_model_response.use_often_raw_model_response',\n",
       " 'scenario.content']"
      ]
     },
     "execution_count": 9,
     "metadata": {},
     "output_type": "execute_result"
    }
   ],
   "source": [
    "# Show all columns of the Results object\n",
    "results.columns"
   ]
  },
  {
   "cell_type": "code",
   "execution_count": null,
   "metadata": {
    "cell_id": "78936b8107644273a9912188c11afe98",
    "deepnote_cell_type": "code",
    "deepnote_to_be_reexecuted": false,
    "execution_millis": 71,
    "execution_start": 1709849220029,
    "source_hash": null
   },
   "outputs": [
    {
     "data": {
      "text/html": [
       "<pre style=\"white-space:pre;overflow-x:auto;line-height:normal;font-family:Menlo,'DejaVu Sans Mono',consolas,'Courier New',monospace\">┏━━━━━━━━━━━━━━━━━━━━━━━━━━┳━━━━━━━━━━━━━━┳━━━━━━━━━━━━━━━━━━━━━━━━━━━┳━━━━━━━━━━━━━━━━━━━━━━━━━━┳━━━━━━━━━━━━━━━━┓\n",
       "┃<span style=\"color: #800080; text-decoration-color: #800080; font-weight: bold\"> scenario                 </span>┃<span style=\"color: #800080; text-decoration-color: #800080; font-weight: bold\"> answer       </span>┃<span style=\"color: #800080; text-decoration-color: #800080; font-weight: bold\"> answer                    </span>┃<span style=\"color: #800080; text-decoration-color: #800080; font-weight: bold\"> answer                   </span>┃<span style=\"color: #800080; text-decoration-color: #800080; font-weight: bold\"> answer         </span>┃\n",
       "┃<span style=\"color: #800080; text-decoration-color: #800080; font-weight: bold\"> .content                 </span>┃<span style=\"color: #800080; text-decoration-color: #800080; font-weight: bold\"> .use_often   </span>┃<span style=\"color: #800080; text-decoration-color: #800080; font-weight: bold\"> .checkbox                 </span>┃<span style=\"color: #800080; text-decoration-color: #800080; font-weight: bold\"> .concerns                </span>┃<span style=\"color: #800080; text-decoration-color: #800080; font-weight: bold\"> .likely_to_use </span>┃\n",
       "┡━━━━━━━━━━━━━━━━━━━━━━━━━━╇━━━━━━━━━━━━━━╇━━━━━━━━━━━━━━━━━━━━━━━━━━━╇━━━━━━━━━━━━━━━━━━━━━━━━━━╇━━━━━━━━━━━━━━━━┩\n",
       "│<span style=\"color: #7f7f7f; text-decoration-color: #7f7f7f\"> A method that lets you   </span>│<span style=\"color: #7f7f7f; text-decoration-color: #7f7f7f\"> Frequently   </span>│<span style=\"color: #7f7f7f; text-decoration-color: #7f7f7f\"> ['This feature would be   </span>│<span style=\"color: #7f7f7f; text-decoration-color: #7f7f7f\"> Having a feature that    </span>│<span style=\"color: #7f7f7f; text-decoration-color: #7f7f7f\"> 5              </span>│\n",
       "│<span style=\"color: #7f7f7f; text-decoration-color: #7f7f7f\"> quickly check what       </span>│<span style=\"color: #7f7f7f; text-decoration-color: #7f7f7f\">              </span>│<span style=\"color: #7f7f7f; text-decoration-color: #7f7f7f\"> useful to me.', 'This     </span>│<span style=\"color: #7f7f7f; text-decoration-color: #7f7f7f\"> allows users to quickly  </span>│<span style=\"color: #7f7f7f; text-decoration-color: #7f7f7f\">                </span>│\n",
       "│<span style=\"color: #7f7f7f; text-decoration-color: #7f7f7f\"> version of the package   </span>│<span style=\"color: #7f7f7f; text-decoration-color: #7f7f7f\">              </span>│<span style=\"color: #7f7f7f; text-decoration-color: #7f7f7f\"> feature would make me     </span>│<span style=\"color: #7f7f7f; text-decoration-color: #7f7f7f\"> check the version of the </span>│<span style=\"color: #7f7f7f; text-decoration-color: #7f7f7f\">                </span>│\n",
       "│<span style=\"color: #7f7f7f; text-decoration-color: #7f7f7f\"> you have installed.      </span>│<span style=\"color: #7f7f7f; text-decoration-color: #7f7f7f\">              </span>│<span style=\"color: #7f7f7f; text-decoration-color: #7f7f7f\"> more productive.', 'This  </span>│<span style=\"color: #7f7f7f; text-decoration-color: #7f7f7f\"> package they have        </span>│<span style=\"color: #7f7f7f; text-decoration-color: #7f7f7f\">                </span>│\n",
       "│<span style=\"color: #7f7f7f; text-decoration-color: #7f7f7f\">                          </span>│<span style=\"color: #7f7f7f; text-decoration-color: #7f7f7f\">              </span>│<span style=\"color: #7f7f7f; text-decoration-color: #7f7f7f\"> feature will be important </span>│<span style=\"color: #7f7f7f; text-decoration-color: #7f7f7f\"> installed is quite       </span>│<span style=\"color: #7f7f7f; text-decoration-color: #7f7f7f\">                </span>│\n",
       "│<span style=\"color: #7f7f7f; text-decoration-color: #7f7f7f\">                          </span>│<span style=\"color: #7f7f7f; text-decoration-color: #7f7f7f\">              </span>│<span style=\"color: #7f7f7f; text-decoration-color: #7f7f7f\"> to me.', 'I would like to </span>│<span style=\"color: #7f7f7f; text-decoration-color: #7f7f7f\"> valuable. It's essential </span>│<span style=\"color: #7f7f7f; text-decoration-color: #7f7f7f\">                </span>│\n",
       "│<span style=\"color: #7f7f7f; text-decoration-color: #7f7f7f\">                          </span>│<span style=\"color: #7f7f7f; text-decoration-color: #7f7f7f\">              </span>│<span style=\"color: #7f7f7f; text-decoration-color: #7f7f7f\"> see some examples of how  </span>│<span style=\"color: #7f7f7f; text-decoration-color: #7f7f7f\"> for troubleshooting,     </span>│<span style=\"color: #7f7f7f; text-decoration-color: #7f7f7f\">                </span>│\n",
       "│<span style=\"color: #7f7f7f; text-decoration-color: #7f7f7f\">                          </span>│<span style=\"color: #7f7f7f; text-decoration-color: #7f7f7f\">              </span>│<span style=\"color: #7f7f7f; text-decoration-color: #7f7f7f\"> to use this feature.']    </span>│<span style=\"color: #7f7f7f; text-decoration-color: #7f7f7f\"> ensuring compatibility   </span>│<span style=\"color: #7f7f7f; text-decoration-color: #7f7f7f\">                </span>│\n",
       "│<span style=\"color: #7f7f7f; text-decoration-color: #7f7f7f\">                          </span>│<span style=\"color: #7f7f7f; text-decoration-color: #7f7f7f\">              </span>│<span style=\"color: #7f7f7f; text-decoration-color: #7f7f7f\">                           </span>│<span style=\"color: #7f7f7f; text-decoration-color: #7f7f7f\"> with other software, and </span>│<span style=\"color: #7f7f7f; text-decoration-color: #7f7f7f\">                </span>│\n",
       "│<span style=\"color: #7f7f7f; text-decoration-color: #7f7f7f\">                          </span>│<span style=\"color: #7f7f7f; text-decoration-color: #7f7f7f\">              </span>│<span style=\"color: #7f7f7f; text-decoration-color: #7f7f7f\">                           </span>│<span style=\"color: #7f7f7f; text-decoration-color: #7f7f7f\"> verifying that you have  </span>│<span style=\"color: #7f7f7f; text-decoration-color: #7f7f7f\">                </span>│\n",
       "│<span style=\"color: #7f7f7f; text-decoration-color: #7f7f7f\">                          </span>│<span style=\"color: #7f7f7f; text-decoration-color: #7f7f7f\">              </span>│<span style=\"color: #7f7f7f; text-decoration-color: #7f7f7f\">                           </span>│<span style=\"color: #7f7f7f; text-decoration-color: #7f7f7f\"> the latest features and  </span>│<span style=\"color: #7f7f7f; text-decoration-color: #7f7f7f\">                </span>│\n",
       "│<span style=\"color: #7f7f7f; text-decoration-color: #7f7f7f\">                          </span>│<span style=\"color: #7f7f7f; text-decoration-color: #7f7f7f\">              </span>│<span style=\"color: #7f7f7f; text-decoration-color: #7f7f7f\">                           </span>│<span style=\"color: #7f7f7f; text-decoration-color: #7f7f7f\"> bug fixes. It's a        </span>│<span style=\"color: #7f7f7f; text-decoration-color: #7f7f7f\">                </span>│\n",
       "│<span style=\"color: #7f7f7f; text-decoration-color: #7f7f7f\">                          </span>│<span style=\"color: #7f7f7f; text-decoration-color: #7f7f7f\">              </span>│<span style=\"color: #7f7f7f; text-decoration-color: #7f7f7f\">                           </span>│<span style=\"color: #7f7f7f; text-decoration-color: #7f7f7f\"> fundamental feature that </span>│<span style=\"color: #7f7f7f; text-decoration-color: #7f7f7f\">                </span>│\n",
       "│<span style=\"color: #7f7f7f; text-decoration-color: #7f7f7f\">                          </span>│<span style=\"color: #7f7f7f; text-decoration-color: #7f7f7f\">              </span>│<span style=\"color: #7f7f7f; text-decoration-color: #7f7f7f\">                           </span>│<span style=\"color: #7f7f7f; text-decoration-color: #7f7f7f\"> supports good software   </span>│<span style=\"color: #7f7f7f; text-decoration-color: #7f7f7f\">                </span>│\n",
       "│<span style=\"color: #7f7f7f; text-decoration-color: #7f7f7f\">                          </span>│<span style=\"color: #7f7f7f; text-decoration-color: #7f7f7f\">              </span>│<span style=\"color: #7f7f7f; text-decoration-color: #7f7f7f\">                           </span>│<span style=\"color: #7f7f7f; text-decoration-color: #7f7f7f\"> maintenance practices.   </span>│<span style=\"color: #7f7f7f; text-decoration-color: #7f7f7f\">                </span>│\n",
       "│<span style=\"color: #7f7f7f; text-decoration-color: #7f7f7f\">                          </span>│<span style=\"color: #7f7f7f; text-decoration-color: #7f7f7f\">              </span>│<span style=\"color: #7f7f7f; text-decoration-color: #7f7f7f\">                           </span>│<span style=\"color: #7f7f7f; text-decoration-color: #7f7f7f\"> My only concern would be </span>│<span style=\"color: #7f7f7f; text-decoration-color: #7f7f7f\">                </span>│\n",
       "│<span style=\"color: #7f7f7f; text-decoration-color: #7f7f7f\">                          </span>│<span style=\"color: #7f7f7f; text-decoration-color: #7f7f7f\">              </span>│<span style=\"color: #7f7f7f; text-decoration-color: #7f7f7f\">                           </span>│<span style=\"color: #7f7f7f; text-decoration-color: #7f7f7f\"> ensuring that the method </span>│<span style=\"color: #7f7f7f; text-decoration-color: #7f7f7f\">                </span>│\n",
       "│<span style=\"color: #7f7f7f; text-decoration-color: #7f7f7f\">                          </span>│<span style=\"color: #7f7f7f; text-decoration-color: #7f7f7f\">              </span>│<span style=\"color: #7f7f7f; text-decoration-color: #7f7f7f\">                           </span>│<span style=\"color: #7f7f7f; text-decoration-color: #7f7f7f\"> to check the version is  </span>│<span style=\"color: #7f7f7f; text-decoration-color: #7f7f7f\">                </span>│\n",
       "│<span style=\"color: #7f7f7f; text-decoration-color: #7f7f7f\">                          </span>│<span style=\"color: #7f7f7f; text-decoration-color: #7f7f7f\">              </span>│<span style=\"color: #7f7f7f; text-decoration-color: #7f7f7f\">                           </span>│<span style=\"color: #7f7f7f; text-decoration-color: #7f7f7f\"> simple and intuitive, so </span>│<span style=\"color: #7f7f7f; text-decoration-color: #7f7f7f\">                </span>│\n",
       "│<span style=\"color: #7f7f7f; text-decoration-color: #7f7f7f\">                          </span>│<span style=\"color: #7f7f7f; text-decoration-color: #7f7f7f\">              </span>│<span style=\"color: #7f7f7f; text-decoration-color: #7f7f7f\">                           </span>│<span style=\"color: #7f7f7f; text-decoration-color: #7f7f7f\"> users of all experience  </span>│<span style=\"color: #7f7f7f; text-decoration-color: #7f7f7f\">                </span>│\n",
       "│<span style=\"color: #7f7f7f; text-decoration-color: #7f7f7f\">                          </span>│<span style=\"color: #7f7f7f; text-decoration-color: #7f7f7f\">              </span>│<span style=\"color: #7f7f7f; text-decoration-color: #7f7f7f\">                           </span>│<span style=\"color: #7f7f7f; text-decoration-color: #7f7f7f\"> levels can easily use it </span>│<span style=\"color: #7f7f7f; text-decoration-color: #7f7f7f\">                </span>│\n",
       "│<span style=\"color: #7f7f7f; text-decoration-color: #7f7f7f\">                          </span>│<span style=\"color: #7f7f7f; text-decoration-color: #7f7f7f\">              </span>│<span style=\"color: #7f7f7f; text-decoration-color: #7f7f7f\">                           </span>│<span style=\"color: #7f7f7f; text-decoration-color: #7f7f7f\"> without confusion.       </span>│<span style=\"color: #7f7f7f; text-decoration-color: #7f7f7f\">                </span>│\n",
       "├──────────────────────────┼──────────────┼───────────────────────────┼──────────────────────────┼────────────────┤\n",
       "│<span style=\"color: #7f7f7f; text-decoration-color: #7f7f7f\"> An optional progress bar </span>│<span style=\"color: #7f7f7f; text-decoration-color: #7f7f7f\"> All the time </span>│<span style=\"color: #7f7f7f; text-decoration-color: #7f7f7f\"> ['This feature would be   </span>│<span style=\"color: #7f7f7f; text-decoration-color: #7f7f7f\"> The optional progress    </span>│<span style=\"color: #7f7f7f; text-decoration-color: #7f7f7f\"> 5              </span>│\n",
       "│<span style=\"color: #7f7f7f; text-decoration-color: #7f7f7f\"> that shows how many of   </span>│<span style=\"color: #7f7f7f; text-decoration-color: #7f7f7f\">              </span>│<span style=\"color: #7f7f7f; text-decoration-color: #7f7f7f\"> useful to me.', 'This     </span>│<span style=\"color: #7f7f7f; text-decoration-color: #7f7f7f\"> bar for tracking         </span>│<span style=\"color: #7f7f7f; text-decoration-color: #7f7f7f\">                </span>│\n",
       "│<span style=\"color: #7f7f7f; text-decoration-color: #7f7f7f\"> your questions have been </span>│<span style=\"color: #7f7f7f; text-decoration-color: #7f7f7f\">              </span>│<span style=\"color: #7f7f7f; text-decoration-color: #7f7f7f\"> feature would make me     </span>│<span style=\"color: #7f7f7f; text-decoration-color: #7f7f7f\"> answered questions       </span>│<span style=\"color: #7f7f7f; text-decoration-color: #7f7f7f\">                </span>│\n",
       "│<span style=\"color: #7f7f7f; text-decoration-color: #7f7f7f\"> answered while your      </span>│<span style=\"color: #7f7f7f; text-decoration-color: #7f7f7f\">              </span>│<span style=\"color: #7f7f7f; text-decoration-color: #7f7f7f\"> more productive.', 'I     </span>│<span style=\"color: #7f7f7f; text-decoration-color: #7f7f7f\"> during a survey seems    </span>│<span style=\"color: #7f7f7f; text-decoration-color: #7f7f7f\">                </span>│\n",
       "│<span style=\"color: #7f7f7f; text-decoration-color: #7f7f7f\"> survey is running.       </span>│<span style=\"color: #7f7f7f; text-decoration-color: #7f7f7f\">              </span>│<span style=\"color: #7f7f7f; text-decoration-color: #7f7f7f\"> would like to see some    </span>│<span style=\"color: #7f7f7f; text-decoration-color: #7f7f7f\"> like a practical and     </span>│<span style=\"color: #7f7f7f; text-decoration-color: #7f7f7f\">                </span>│\n",
       "│<span style=\"color: #7f7f7f; text-decoration-color: #7f7f7f\">                          </span>│<span style=\"color: #7f7f7f; text-decoration-color: #7f7f7f\">              </span>│<span style=\"color: #7f7f7f; text-decoration-color: #7f7f7f\"> examples of how to use    </span>│<span style=\"color: #7f7f7f; text-decoration-color: #7f7f7f\"> user-friendly feature.   </span>│<span style=\"color: #7f7f7f; text-decoration-color: #7f7f7f\">                </span>│\n",
       "│<span style=\"color: #7f7f7f; text-decoration-color: #7f7f7f\">                          </span>│<span style=\"color: #7f7f7f; text-decoration-color: #7f7f7f\">              </span>│<span style=\"color: #7f7f7f; text-decoration-color: #7f7f7f\"> this feature.']           </span>│<span style=\"color: #7f7f7f; text-decoration-color: #7f7f7f\"> It would provide         </span>│<span style=\"color: #7f7f7f; text-decoration-color: #7f7f7f\">                </span>│\n",
       "│<span style=\"color: #7f7f7f; text-decoration-color: #7f7f7f\">                          </span>│<span style=\"color: #7f7f7f; text-decoration-color: #7f7f7f\">              </span>│<span style=\"color: #7f7f7f; text-decoration-color: #7f7f7f\">                           </span>│<span style=\"color: #7f7f7f; text-decoration-color: #7f7f7f\"> immediate visual         </span>│<span style=\"color: #7f7f7f; text-decoration-color: #7f7f7f\">                </span>│\n",
       "│<span style=\"color: #7f7f7f; text-decoration-color: #7f7f7f\">                          </span>│<span style=\"color: #7f7f7f; text-decoration-color: #7f7f7f\">              </span>│<span style=\"color: #7f7f7f; text-decoration-color: #7f7f7f\">                           </span>│<span style=\"color: #7f7f7f; text-decoration-color: #7f7f7f\"> feedback on the survey's </span>│<span style=\"color: #7f7f7f; text-decoration-color: #7f7f7f\">                </span>│\n",
       "│<span style=\"color: #7f7f7f; text-decoration-color: #7f7f7f\">                          </span>│<span style=\"color: #7f7f7f; text-decoration-color: #7f7f7f\">              </span>│<span style=\"color: #7f7f7f; text-decoration-color: #7f7f7f\">                           </span>│<span style=\"color: #7f7f7f; text-decoration-color: #7f7f7f\"> progression, which could </span>│<span style=\"color: #7f7f7f; text-decoration-color: #7f7f7f\">                </span>│\n",
       "│<span style=\"color: #7f7f7f; text-decoration-color: #7f7f7f\">                          </span>│<span style=\"color: #7f7f7f; text-decoration-color: #7f7f7f\">              </span>│<span style=\"color: #7f7f7f; text-decoration-color: #7f7f7f\">                           </span>│<span style=\"color: #7f7f7f; text-decoration-color: #7f7f7f\"> be particularly useful   </span>│<span style=\"color: #7f7f7f; text-decoration-color: #7f7f7f\">                </span>│\n",
       "│<span style=\"color: #7f7f7f; text-decoration-color: #7f7f7f\">                          </span>│<span style=\"color: #7f7f7f; text-decoration-color: #7f7f7f\">              </span>│<span style=\"color: #7f7f7f; text-decoration-color: #7f7f7f\">                           </span>│<span style=\"color: #7f7f7f; text-decoration-color: #7f7f7f\"> for managing time and    </span>│<span style=\"color: #7f7f7f; text-decoration-color: #7f7f7f\">                </span>│\n",
       "│<span style=\"color: #7f7f7f; text-decoration-color: #7f7f7f\">                          </span>│<span style=\"color: #7f7f7f; text-decoration-color: #7f7f7f\">              </span>│<span style=\"color: #7f7f7f; text-decoration-color: #7f7f7f\">                           </span>│<span style=\"color: #7f7f7f; text-decoration-color: #7f7f7f\"> expectations during the  </span>│<span style=\"color: #7f7f7f; text-decoration-color: #7f7f7f\">                </span>│\n",
       "│<span style=\"color: #7f7f7f; text-decoration-color: #7f7f7f\">                          </span>│<span style=\"color: #7f7f7f; text-decoration-color: #7f7f7f\">              </span>│<span style=\"color: #7f7f7f; text-decoration-color: #7f7f7f\">                           </span>│<span style=\"color: #7f7f7f; text-decoration-color: #7f7f7f\"> data collection process. </span>│<span style=\"color: #7f7f7f; text-decoration-color: #7f7f7f\">                </span>│\n",
       "│<span style=\"color: #7f7f7f; text-decoration-color: #7f7f7f\">                          </span>│<span style=\"color: #7f7f7f; text-decoration-color: #7f7f7f\">              </span>│<span style=\"color: #7f7f7f; text-decoration-color: #7f7f7f\">                           </span>│<span style=\"color: #7f7f7f; text-decoration-color: #7f7f7f\"> However, it's important  </span>│<span style=\"color: #7f7f7f; text-decoration-color: #7f7f7f\">                </span>│\n",
       "│<span style=\"color: #7f7f7f; text-decoration-color: #7f7f7f\">                          </span>│<span style=\"color: #7f7f7f; text-decoration-color: #7f7f7f\">              </span>│<span style=\"color: #7f7f7f; text-decoration-color: #7f7f7f\">                           </span>│<span style=\"color: #7f7f7f; text-decoration-color: #7f7f7f\"> to ensure that the       </span>│<span style=\"color: #7f7f7f; text-decoration-color: #7f7f7f\">                </span>│\n",
       "│<span style=\"color: #7f7f7f; text-decoration-color: #7f7f7f\">                          </span>│<span style=\"color: #7f7f7f; text-decoration-color: #7f7f7f\">              </span>│<span style=\"color: #7f7f7f; text-decoration-color: #7f7f7f\">                           </span>│<span style=\"color: #7f7f7f; text-decoration-color: #7f7f7f\"> progress bar accurately  </span>│<span style=\"color: #7f7f7f; text-decoration-color: #7f7f7f\">                </span>│\n",
       "│<span style=\"color: #7f7f7f; text-decoration-color: #7f7f7f\">                          </span>│<span style=\"color: #7f7f7f; text-decoration-color: #7f7f7f\">              </span>│<span style=\"color: #7f7f7f; text-decoration-color: #7f7f7f\">                           </span>│<span style=\"color: #7f7f7f; text-decoration-color: #7f7f7f\"> reflects the completion  </span>│<span style=\"color: #7f7f7f; text-decoration-color: #7f7f7f\">                </span>│\n",
       "│<span style=\"color: #7f7f7f; text-decoration-color: #7f7f7f\">                          </span>│<span style=\"color: #7f7f7f; text-decoration-color: #7f7f7f\">              </span>│<span style=\"color: #7f7f7f; text-decoration-color: #7f7f7f\">                           </span>│<span style=\"color: #7f7f7f; text-decoration-color: #7f7f7f\"> status without any lag   </span>│<span style=\"color: #7f7f7f; text-decoration-color: #7f7f7f\">                </span>│\n",
       "│<span style=\"color: #7f7f7f; text-decoration-color: #7f7f7f\">                          </span>│<span style=\"color: #7f7f7f; text-decoration-color: #7f7f7f\">              </span>│<span style=\"color: #7f7f7f; text-decoration-color: #7f7f7f\">                           </span>│<span style=\"color: #7f7f7f; text-decoration-color: #7f7f7f\"> or errors, as this could </span>│<span style=\"color: #7f7f7f; text-decoration-color: #7f7f7f\">                </span>│\n",
       "│<span style=\"color: #7f7f7f; text-decoration-color: #7f7f7f\">                          </span>│<span style=\"color: #7f7f7f; text-decoration-color: #7f7f7f\">              </span>│<span style=\"color: #7f7f7f; text-decoration-color: #7f7f7f\">                           </span>│<span style=\"color: #7f7f7f; text-decoration-color: #7f7f7f\"> lead to frustration or   </span>│<span style=\"color: #7f7f7f; text-decoration-color: #7f7f7f\">                </span>│\n",
       "│<span style=\"color: #7f7f7f; text-decoration-color: #7f7f7f\">                          </span>│<span style=\"color: #7f7f7f; text-decoration-color: #7f7f7f\">              </span>│<span style=\"color: #7f7f7f; text-decoration-color: #7f7f7f\">                           </span>│<span style=\"color: #7f7f7f; text-decoration-color: #7f7f7f\"> mismanagement of the     </span>│<span style=\"color: #7f7f7f; text-decoration-color: #7f7f7f\">                </span>│\n",
       "│<span style=\"color: #7f7f7f; text-decoration-color: #7f7f7f\">                          </span>│<span style=\"color: #7f7f7f; text-decoration-color: #7f7f7f\">              </span>│<span style=\"color: #7f7f7f; text-decoration-color: #7f7f7f\">                           </span>│<span style=\"color: #7f7f7f; text-decoration-color: #7f7f7f\"> survey process.          </span>│<span style=\"color: #7f7f7f; text-decoration-color: #7f7f7f\">                </span>│\n",
       "│<span style=\"color: #7f7f7f; text-decoration-color: #7f7f7f\">                          </span>│<span style=\"color: #7f7f7f; text-decoration-color: #7f7f7f\">              </span>│<span style=\"color: #7f7f7f; text-decoration-color: #7f7f7f\">                           </span>│<span style=\"color: #7f7f7f; text-decoration-color: #7f7f7f\"> Additionally, consider   </span>│<span style=\"color: #7f7f7f; text-decoration-color: #7f7f7f\">                </span>│\n",
       "│<span style=\"color: #7f7f7f; text-decoration-color: #7f7f7f\">                          </span>│<span style=\"color: #7f7f7f; text-decoration-color: #7f7f7f\">              </span>│<span style=\"color: #7f7f7f; text-decoration-color: #7f7f7f\">                           </span>│<span style=\"color: #7f7f7f; text-decoration-color: #7f7f7f\"> if the progress bar      </span>│<span style=\"color: #7f7f7f; text-decoration-color: #7f7f7f\">                </span>│\n",
       "│<span style=\"color: #7f7f7f; text-decoration-color: #7f7f7f\">                          </span>│<span style=\"color: #7f7f7f; text-decoration-color: #7f7f7f\">              </span>│<span style=\"color: #7f7f7f; text-decoration-color: #7f7f7f\">                           </span>│<span style=\"color: #7f7f7f; text-decoration-color: #7f7f7f\"> could be customizable or </span>│<span style=\"color: #7f7f7f; text-decoration-color: #7f7f7f\">                </span>│\n",
       "│<span style=\"color: #7f7f7f; text-decoration-color: #7f7f7f\">                          </span>│<span style=\"color: #7f7f7f; text-decoration-color: #7f7f7f\">              </span>│<span style=\"color: #7f7f7f; text-decoration-color: #7f7f7f\">                           </span>│<span style=\"color: #7f7f7f; text-decoration-color: #7f7f7f\"> toggle-able to           </span>│<span style=\"color: #7f7f7f; text-decoration-color: #7f7f7f\">                </span>│\n",
       "│<span style=\"color: #7f7f7f; text-decoration-color: #7f7f7f\">                          </span>│<span style=\"color: #7f7f7f; text-decoration-color: #7f7f7f\">              </span>│<span style=\"color: #7f7f7f; text-decoration-color: #7f7f7f\">                           </span>│<span style=\"color: #7f7f7f; text-decoration-color: #7f7f7f\"> accommodate different    </span>│<span style=\"color: #7f7f7f; text-decoration-color: #7f7f7f\">                </span>│\n",
       "│<span style=\"color: #7f7f7f; text-decoration-color: #7f7f7f\">                          </span>│<span style=\"color: #7f7f7f; text-decoration-color: #7f7f7f\">              </span>│<span style=\"color: #7f7f7f; text-decoration-color: #7f7f7f\">                           </span>│<span style=\"color: #7f7f7f; text-decoration-color: #7f7f7f\"> user preferences.        </span>│<span style=\"color: #7f7f7f; text-decoration-color: #7f7f7f\">                </span>│\n",
       "│<span style=\"color: #7f7f7f; text-decoration-color: #7f7f7f\">                          </span>│<span style=\"color: #7f7f7f; text-decoration-color: #7f7f7f\">              </span>│<span style=\"color: #7f7f7f; text-decoration-color: #7f7f7f\">                           </span>│<span style=\"color: #7f7f7f; text-decoration-color: #7f7f7f\"> Overall, if implemented  </span>│<span style=\"color: #7f7f7f; text-decoration-color: #7f7f7f\">                </span>│\n",
       "│<span style=\"color: #7f7f7f; text-decoration-color: #7f7f7f\">                          </span>│<span style=\"color: #7f7f7f; text-decoration-color: #7f7f7f\">              </span>│<span style=\"color: #7f7f7f; text-decoration-color: #7f7f7f\">                           </span>│<span style=\"color: #7f7f7f; text-decoration-color: #7f7f7f\"> effectively, this        </span>│<span style=\"color: #7f7f7f; text-decoration-color: #7f7f7f\">                </span>│\n",
       "│<span style=\"color: #7f7f7f; text-decoration-color: #7f7f7f\">                          </span>│<span style=\"color: #7f7f7f; text-decoration-color: #7f7f7f\">              </span>│<span style=\"color: #7f7f7f; text-decoration-color: #7f7f7f\">                           </span>│<span style=\"color: #7f7f7f; text-decoration-color: #7f7f7f\"> feature could enhance    </span>│<span style=\"color: #7f7f7f; text-decoration-color: #7f7f7f\">                </span>│\n",
       "│<span style=\"color: #7f7f7f; text-decoration-color: #7f7f7f\">                          </span>│<span style=\"color: #7f7f7f; text-decoration-color: #7f7f7f\">              </span>│<span style=\"color: #7f7f7f; text-decoration-color: #7f7f7f\">                           </span>│<span style=\"color: #7f7f7f; text-decoration-color: #7f7f7f\"> the user experience and  </span>│<span style=\"color: #7f7f7f; text-decoration-color: #7f7f7f\">                </span>│\n",
       "│<span style=\"color: #7f7f7f; text-decoration-color: #7f7f7f\">                          </span>│<span style=\"color: #7f7f7f; text-decoration-color: #7f7f7f\">              </span>│<span style=\"color: #7f7f7f; text-decoration-color: #7f7f7f\">                           </span>│<span style=\"color: #7f7f7f; text-decoration-color: #7f7f7f\"> provide valuable insight </span>│<span style=\"color: #7f7f7f; text-decoration-color: #7f7f7f\">                </span>│\n",
       "│<span style=\"color: #7f7f7f; text-decoration-color: #7f7f7f\">                          </span>│<span style=\"color: #7f7f7f; text-decoration-color: #7f7f7f\">              </span>│<span style=\"color: #7f7f7f; text-decoration-color: #7f7f7f\">                           </span>│<span style=\"color: #7f7f7f; text-decoration-color: #7f7f7f\"> into the survey's        </span>│<span style=\"color: #7f7f7f; text-decoration-color: #7f7f7f\">                </span>│\n",
       "│<span style=\"color: #7f7f7f; text-decoration-color: #7f7f7f\">                          </span>│<span style=\"color: #7f7f7f; text-decoration-color: #7f7f7f\">              </span>│<span style=\"color: #7f7f7f; text-decoration-color: #7f7f7f\">                           </span>│<span style=\"color: #7f7f7f; text-decoration-color: #7f7f7f\"> progress.                </span>│<span style=\"color: #7f7f7f; text-decoration-color: #7f7f7f\">                </span>│\n",
       "├──────────────────────────┼──────────────┼───────────────────────────┼──────────────────────────┼────────────────┤\n",
       "│<span style=\"color: #7f7f7f; text-decoration-color: #7f7f7f\"> A method that lets you   </span>│<span style=\"color: #7f7f7f; text-decoration-color: #7f7f7f\"> All the time </span>│<span style=\"color: #7f7f7f; text-decoration-color: #7f7f7f\"> ['This feature would be   </span>│<span style=\"color: #7f7f7f; text-decoration-color: #7f7f7f\"> As a cofounder working   </span>│<span style=\"color: #7f7f7f; text-decoration-color: #7f7f7f\"> 5              </span>│\n",
       "│<span style=\"color: #7f7f7f; text-decoration-color: #7f7f7f\"> include questions and    </span>│<span style=\"color: #7f7f7f; text-decoration-color: #7f7f7f\">              </span>│<span style=\"color: #7f7f7f; text-decoration-color: #7f7f7f\"> useful to me.', 'This     </span>│<span style=\"color: #7f7f7f; text-decoration-color: #7f7f7f\"> on an open source Python </span>│<span style=\"color: #7f7f7f; text-decoration-color: #7f7f7f\">                </span>│\n",
       "│<span style=\"color: #7f7f7f; text-decoration-color: #7f7f7f\"> responses as context for </span>│<span style=\"color: #7f7f7f; text-decoration-color: #7f7f7f\">              </span>│<span style=\"color: #7f7f7f; text-decoration-color: #7f7f7f\"> feature would make me     </span>│<span style=\"color: #7f7f7f; text-decoration-color: #7f7f7f\"> package for AI research, </span>│<span style=\"color: #7f7f7f; text-decoration-color: #7f7f7f\">                </span>│\n",
       "│<span style=\"color: #7f7f7f; text-decoration-color: #7f7f7f\"> new questions.           </span>│<span style=\"color: #7f7f7f; text-decoration-color: #7f7f7f\">              </span>│<span style=\"color: #7f7f7f; text-decoration-color: #7f7f7f\"> more productive.', 'This  </span>│<span style=\"color: #7f7f7f; text-decoration-color: #7f7f7f\"> I see significant value  </span>│<span style=\"color: #7f7f7f; text-decoration-color: #7f7f7f\">                </span>│\n",
       "│<span style=\"color: #7f7f7f; text-decoration-color: #7f7f7f\">                          </span>│<span style=\"color: #7f7f7f; text-decoration-color: #7f7f7f\">              </span>│<span style=\"color: #7f7f7f; text-decoration-color: #7f7f7f\"> feature will be important </span>│<span style=\"color: #7f7f7f; text-decoration-color: #7f7f7f\"> in the proposed feature. </span>│<span style=\"color: #7f7f7f; text-decoration-color: #7f7f7f\">                </span>│\n",
       "│<span style=\"color: #7f7f7f; text-decoration-color: #7f7f7f\">                          </span>│<span style=\"color: #7f7f7f; text-decoration-color: #7f7f7f\">              </span>│<span style=\"color: #7f7f7f; text-decoration-color: #7f7f7f\"> to me.', 'I would like to </span>│<span style=\"color: #7f7f7f; text-decoration-color: #7f7f7f\"> Including questions and  </span>│<span style=\"color: #7f7f7f; text-decoration-color: #7f7f7f\">                </span>│\n",
       "│<span style=\"color: #7f7f7f; text-decoration-color: #7f7f7f\">                          </span>│<span style=\"color: #7f7f7f; text-decoration-color: #7f7f7f\">              </span>│<span style=\"color: #7f7f7f; text-decoration-color: #7f7f7f\"> see some examples of how  </span>│<span style=\"color: #7f7f7f; text-decoration-color: #7f7f7f\"> responses as context for </span>│<span style=\"color: #7f7f7f; text-decoration-color: #7f7f7f\">                </span>│\n",
       "│<span style=\"color: #7f7f7f; text-decoration-color: #7f7f7f\">                          </span>│<span style=\"color: #7f7f7f; text-decoration-color: #7f7f7f\">              </span>│<span style=\"color: #7f7f7f; text-decoration-color: #7f7f7f\"> to use this feature.']    </span>│<span style=\"color: #7f7f7f; text-decoration-color: #7f7f7f\"> new questions can        </span>│<span style=\"color: #7f7f7f; text-decoration-color: #7f7f7f\">                </span>│\n",
       "│<span style=\"color: #7f7f7f; text-decoration-color: #7f7f7f\">                          </span>│<span style=\"color: #7f7f7f; text-decoration-color: #7f7f7f\">              </span>│<span style=\"color: #7f7f7f; text-decoration-color: #7f7f7f\">                           </span>│<span style=\"color: #7f7f7f; text-decoration-color: #7f7f7f\"> enhance the relevance    </span>│<span style=\"color: #7f7f7f; text-decoration-color: #7f7f7f\">                </span>│\n",
       "│<span style=\"color: #7f7f7f; text-decoration-color: #7f7f7f\">                          </span>│<span style=\"color: #7f7f7f; text-decoration-color: #7f7f7f\">              </span>│<span style=\"color: #7f7f7f; text-decoration-color: #7f7f7f\">                           </span>│<span style=\"color: #7f7f7f; text-decoration-color: #7f7f7f\"> and coherence of the     </span>│<span style=\"color: #7f7f7f; text-decoration-color: #7f7f7f\">                </span>│\n",
       "│<span style=\"color: #7f7f7f; text-decoration-color: #7f7f7f\">                          </span>│<span style=\"color: #7f7f7f; text-decoration-color: #7f7f7f\">              </span>│<span style=\"color: #7f7f7f; text-decoration-color: #7f7f7f\">                           </span>│<span style=\"color: #7f7f7f; text-decoration-color: #7f7f7f\"> conversation with large  </span>│<span style=\"color: #7f7f7f; text-decoration-color: #7f7f7f\">                </span>│\n",
       "│<span style=\"color: #7f7f7f; text-decoration-color: #7f7f7f\">                          </span>│<span style=\"color: #7f7f7f; text-decoration-color: #7f7f7f\">              </span>│<span style=\"color: #7f7f7f; text-decoration-color: #7f7f7f\">                           </span>│<span style=\"color: #7f7f7f; text-decoration-color: #7f7f7f\"> language models. It      </span>│<span style=\"color: #7f7f7f; text-decoration-color: #7f7f7f\">                </span>│\n",
       "│<span style=\"color: #7f7f7f; text-decoration-color: #7f7f7f\">                          </span>│<span style=\"color: #7f7f7f; text-decoration-color: #7f7f7f\">              </span>│<span style=\"color: #7f7f7f; text-decoration-color: #7f7f7f\">                           </span>│<span style=\"color: #7f7f7f; text-decoration-color: #7f7f7f\"> would allow for more     </span>│<span style=\"color: #7f7f7f; text-decoration-color: #7f7f7f\">                </span>│\n",
       "│<span style=\"color: #7f7f7f; text-decoration-color: #7f7f7f\">                          </span>│<span style=\"color: #7f7f7f; text-decoration-color: #7f7f7f\">              </span>│<span style=\"color: #7f7f7f; text-decoration-color: #7f7f7f\">                           </span>│<span style=\"color: #7f7f7f; text-decoration-color: #7f7f7f\"> dynamic and adaptive     </span>│<span style=\"color: #7f7f7f; text-decoration-color: #7f7f7f\">                </span>│\n",
       "│<span style=\"color: #7f7f7f; text-decoration-color: #7f7f7f\">                          </span>│<span style=\"color: #7f7f7f; text-decoration-color: #7f7f7f\">              </span>│<span style=\"color: #7f7f7f; text-decoration-color: #7f7f7f\">                           </span>│<span style=\"color: #7f7f7f; text-decoration-color: #7f7f7f\"> surveys or experiments,  </span>│<span style=\"color: #7f7f7f; text-decoration-color: #7f7f7f\">                </span>│\n",
       "│<span style=\"color: #7f7f7f; text-decoration-color: #7f7f7f\">                          </span>│<span style=\"color: #7f7f7f; text-decoration-color: #7f7f7f\">              </span>│<span style=\"color: #7f7f7f; text-decoration-color: #7f7f7f\">                           </span>│<span style=\"color: #7f7f7f; text-decoration-color: #7f7f7f\"> simulating a natural     </span>│<span style=\"color: #7f7f7f; text-decoration-color: #7f7f7f\">                </span>│\n",
       "│<span style=\"color: #7f7f7f; text-decoration-color: #7f7f7f\">                          </span>│<span style=\"color: #7f7f7f; text-decoration-color: #7f7f7f\">              </span>│<span style=\"color: #7f7f7f; text-decoration-color: #7f7f7f\">                           </span>│<span style=\"color: #7f7f7f; text-decoration-color: #7f7f7f\"> progression of dialogue. </span>│<span style=\"color: #7f7f7f; text-decoration-color: #7f7f7f\">                </span>│\n",
       "│<span style=\"color: #7f7f7f; text-decoration-color: #7f7f7f\">                          </span>│<span style=\"color: #7f7f7f; text-decoration-color: #7f7f7f\">              </span>│<span style=\"color: #7f7f7f; text-decoration-color: #7f7f7f\">                           </span>│<span style=\"color: #7f7f7f; text-decoration-color: #7f7f7f\"> This can be particularly </span>│<span style=\"color: #7f7f7f; text-decoration-color: #7f7f7f\">                </span>│\n",
       "│<span style=\"color: #7f7f7f; text-decoration-color: #7f7f7f\">                          </span>│<span style=\"color: #7f7f7f; text-decoration-color: #7f7f7f\">              </span>│<span style=\"color: #7f7f7f; text-decoration-color: #7f7f7f\">                           </span>│<span style=\"color: #7f7f7f; text-decoration-color: #7f7f7f\"> useful in longitudinal   </span>│<span style=\"color: #7f7f7f; text-decoration-color: #7f7f7f\">                </span>│\n",
       "│<span style=\"color: #7f7f7f; text-decoration-color: #7f7f7f\">                          </span>│<span style=\"color: #7f7f7f; text-decoration-color: #7f7f7f\">              </span>│<span style=\"color: #7f7f7f; text-decoration-color: #7f7f7f\">                           </span>│<span style=\"color: #7f7f7f; text-decoration-color: #7f7f7f\"> studies where context    </span>│<span style=\"color: #7f7f7f; text-decoration-color: #7f7f7f\">                </span>│\n",
       "│<span style=\"color: #7f7f7f; text-decoration-color: #7f7f7f\">                          </span>│<span style=\"color: #7f7f7f; text-decoration-color: #7f7f7f\">              </span>│<span style=\"color: #7f7f7f; text-decoration-color: #7f7f7f\">                           </span>│<span style=\"color: #7f7f7f; text-decoration-color: #7f7f7f\"> from previous            </span>│<span style=\"color: #7f7f7f; text-decoration-color: #7f7f7f\">                </span>│\n",
       "│<span style=\"color: #7f7f7f; text-decoration-color: #7f7f7f\">                          </span>│<span style=\"color: #7f7f7f; text-decoration-color: #7f7f7f\">              </span>│<span style=\"color: #7f7f7f; text-decoration-color: #7f7f7f\">                           </span>│<span style=\"color: #7f7f7f; text-decoration-color: #7f7f7f\"> interactions is crucial. </span>│<span style=\"color: #7f7f7f; text-decoration-color: #7f7f7f\">                </span>│\n",
       "│<span style=\"color: #7f7f7f; text-decoration-color: #7f7f7f\">                          </span>│<span style=\"color: #7f7f7f; text-decoration-color: #7f7f7f\">              </span>│<span style=\"color: #7f7f7f; text-decoration-color: #7f7f7f\">                           </span>│<span style=\"color: #7f7f7f; text-decoration-color: #7f7f7f\"> However, my concern      </span>│<span style=\"color: #7f7f7f; text-decoration-color: #7f7f7f\">                </span>│\n",
       "│<span style=\"color: #7f7f7f; text-decoration-color: #7f7f7f\">                          </span>│<span style=\"color: #7f7f7f; text-decoration-color: #7f7f7f\">              </span>│<span style=\"color: #7f7f7f; text-decoration-color: #7f7f7f\">                           </span>│<span style=\"color: #7f7f7f; text-decoration-color: #7f7f7f\"> would be ensuring the    </span>│<span style=\"color: #7f7f7f; text-decoration-color: #7f7f7f\">                </span>│\n",
       "│<span style=\"color: #7f7f7f; text-decoration-color: #7f7f7f\">                          </span>│<span style=\"color: #7f7f7f; text-decoration-color: #7f7f7f\">              </span>│<span style=\"color: #7f7f7f; text-decoration-color: #7f7f7f\">                           </span>│<span style=\"color: #7f7f7f; text-decoration-color: #7f7f7f\"> context management       </span>│<span style=\"color: #7f7f7f; text-decoration-color: #7f7f7f\">                </span>│\n",
       "│<span style=\"color: #7f7f7f; text-decoration-color: #7f7f7f\">                          </span>│<span style=\"color: #7f7f7f; text-decoration-color: #7f7f7f\">              </span>│<span style=\"color: #7f7f7f; text-decoration-color: #7f7f7f\">                           </span>│<span style=\"color: #7f7f7f; text-decoration-color: #7f7f7f\"> doesn't lead to          </span>│<span style=\"color: #7f7f7f; text-decoration-color: #7f7f7f\">                </span>│\n",
       "│<span style=\"color: #7f7f7f; text-decoration-color: #7f7f7f\">                          </span>│<span style=\"color: #7f7f7f; text-decoration-color: #7f7f7f\">              </span>│<span style=\"color: #7f7f7f; text-decoration-color: #7f7f7f\">                           </span>│<span style=\"color: #7f7f7f; text-decoration-color: #7f7f7f\"> overfitting or bias in   </span>│<span style=\"color: #7f7f7f; text-decoration-color: #7f7f7f\">                </span>│\n",
       "│<span style=\"color: #7f7f7f; text-decoration-color: #7f7f7f\">                          </span>│<span style=\"color: #7f7f7f; text-decoration-color: #7f7f7f\">              </span>│<span style=\"color: #7f7f7f; text-decoration-color: #7f7f7f\">                           </span>│<span style=\"color: #7f7f7f; text-decoration-color: #7f7f7f\"> the model's responses.   </span>│<span style=\"color: #7f7f7f; text-decoration-color: #7f7f7f\">                </span>│\n",
       "│<span style=\"color: #7f7f7f; text-decoration-color: #7f7f7f\">                          </span>│<span style=\"color: #7f7f7f; text-decoration-color: #7f7f7f\">              </span>│<span style=\"color: #7f7f7f; text-decoration-color: #7f7f7f\">                           </span>│<span style=\"color: #7f7f7f; text-decoration-color: #7f7f7f\"> It will also be          </span>│<span style=\"color: #7f7f7f; text-decoration-color: #7f7f7f\">                </span>│\n",
       "│<span style=\"color: #7f7f7f; text-decoration-color: #7f7f7f\">                          </span>│<span style=\"color: #7f7f7f; text-decoration-color: #7f7f7f\">              </span>│<span style=\"color: #7f7f7f; text-decoration-color: #7f7f7f\">                           </span>│<span style=\"color: #7f7f7f; text-decoration-color: #7f7f7f\"> important to consider    </span>│<span style=\"color: #7f7f7f; text-decoration-color: #7f7f7f\">                </span>│\n",
       "│<span style=\"color: #7f7f7f; text-decoration-color: #7f7f7f\">                          </span>│<span style=\"color: #7f7f7f; text-decoration-color: #7f7f7f\">              </span>│<span style=\"color: #7f7f7f; text-decoration-color: #7f7f7f\">                           </span>│<span style=\"color: #7f7f7f; text-decoration-color: #7f7f7f\"> the computational        </span>│<span style=\"color: #7f7f7f; text-decoration-color: #7f7f7f\">                </span>│\n",
       "│<span style=\"color: #7f7f7f; text-decoration-color: #7f7f7f\">                          </span>│<span style=\"color: #7f7f7f; text-decoration-color: #7f7f7f\">              </span>│<span style=\"color: #7f7f7f; text-decoration-color: #7f7f7f\">                           </span>│<span style=\"color: #7f7f7f; text-decoration-color: #7f7f7f\"> overhead and how the     </span>│<span style=\"color: #7f7f7f; text-decoration-color: #7f7f7f\">                </span>│\n",
       "│<span style=\"color: #7f7f7f; text-decoration-color: #7f7f7f\">                          </span>│<span style=\"color: #7f7f7f; text-decoration-color: #7f7f7f\">              </span>│<span style=\"color: #7f7f7f; text-decoration-color: #7f7f7f\">                           </span>│<span style=\"color: #7f7f7f; text-decoration-color: #7f7f7f\"> context is weighted      </span>│<span style=\"color: #7f7f7f; text-decoration-color: #7f7f7f\">                </span>│\n",
       "│<span style=\"color: #7f7f7f; text-decoration-color: #7f7f7f\">                          </span>│<span style=\"color: #7f7f7f; text-decoration-color: #7f7f7f\">              </span>│<span style=\"color: #7f7f7f; text-decoration-color: #7f7f7f\">                           </span>│<span style=\"color: #7f7f7f; text-decoration-color: #7f7f7f\"> against new input.       </span>│<span style=\"color: #7f7f7f; text-decoration-color: #7f7f7f\">                </span>│\n",
       "│<span style=\"color: #7f7f7f; text-decoration-color: #7f7f7f\">                          </span>│<span style=\"color: #7f7f7f; text-decoration-color: #7f7f7f\">              </span>│<span style=\"color: #7f7f7f; text-decoration-color: #7f7f7f\">                           </span>│<span style=\"color: #7f7f7f; text-decoration-color: #7f7f7f\"> Overall, if implemented  </span>│<span style=\"color: #7f7f7f; text-decoration-color: #7f7f7f\">                </span>│\n",
       "│<span style=\"color: #7f7f7f; text-decoration-color: #7f7f7f\">                          </span>│<span style=\"color: #7f7f7f; text-decoration-color: #7f7f7f\">              </span>│<span style=\"color: #7f7f7f; text-decoration-color: #7f7f7f\">                           </span>│<span style=\"color: #7f7f7f; text-decoration-color: #7f7f7f\"> with careful             </span>│<span style=\"color: #7f7f7f; text-decoration-color: #7f7f7f\">                </span>│\n",
       "│<span style=\"color: #7f7f7f; text-decoration-color: #7f7f7f\">                          </span>│<span style=\"color: #7f7f7f; text-decoration-color: #7f7f7f\">              </span>│<span style=\"color: #7f7f7f; text-decoration-color: #7f7f7f\">                           </span>│<span style=\"color: #7f7f7f; text-decoration-color: #7f7f7f\"> consideration to these   </span>│<span style=\"color: #7f7f7f; text-decoration-color: #7f7f7f\">                </span>│\n",
       "│<span style=\"color: #7f7f7f; text-decoration-color: #7f7f7f\">                          </span>│<span style=\"color: #7f7f7f; text-decoration-color: #7f7f7f\">              </span>│<span style=\"color: #7f7f7f; text-decoration-color: #7f7f7f\">                           </span>│<span style=\"color: #7f7f7f; text-decoration-color: #7f7f7f\"> aspects, I believe the   </span>│<span style=\"color: #7f7f7f; text-decoration-color: #7f7f7f\">                </span>│\n",
       "│<span style=\"color: #7f7f7f; text-decoration-color: #7f7f7f\">                          </span>│<span style=\"color: #7f7f7f; text-decoration-color: #7f7f7f\">              </span>│<span style=\"color: #7f7f7f; text-decoration-color: #7f7f7f\">                           </span>│<span style=\"color: #7f7f7f; text-decoration-color: #7f7f7f\"> feature could greatly    </span>│<span style=\"color: #7f7f7f; text-decoration-color: #7f7f7f\">                </span>│\n",
       "│<span style=\"color: #7f7f7f; text-decoration-color: #7f7f7f\">                          </span>│<span style=\"color: #7f7f7f; text-decoration-color: #7f7f7f\">              </span>│<span style=\"color: #7f7f7f; text-decoration-color: #7f7f7f\">                           </span>│<span style=\"color: #7f7f7f; text-decoration-color: #7f7f7f\"> enhance the versatility  </span>│<span style=\"color: #7f7f7f; text-decoration-color: #7f7f7f\">                </span>│\n",
       "│<span style=\"color: #7f7f7f; text-decoration-color: #7f7f7f\">                          </span>│<span style=\"color: #7f7f7f; text-decoration-color: #7f7f7f\">              </span>│<span style=\"color: #7f7f7f; text-decoration-color: #7f7f7f\">                           </span>│<span style=\"color: #7f7f7f; text-decoration-color: #7f7f7f\"> and applicability of the </span>│<span style=\"color: #7f7f7f; text-decoration-color: #7f7f7f\">                </span>│\n",
       "│<span style=\"color: #7f7f7f; text-decoration-color: #7f7f7f\">                          </span>│<span style=\"color: #7f7f7f; text-decoration-color: #7f7f7f\">              </span>│<span style=\"color: #7f7f7f; text-decoration-color: #7f7f7f\">                           </span>│<span style=\"color: #7f7f7f; text-decoration-color: #7f7f7f\"> software in research     </span>│<span style=\"color: #7f7f7f; text-decoration-color: #7f7f7f\">                </span>│\n",
       "│<span style=\"color: #7f7f7f; text-decoration-color: #7f7f7f\">                          </span>│<span style=\"color: #7f7f7f; text-decoration-color: #7f7f7f\">              </span>│<span style=\"color: #7f7f7f; text-decoration-color: #7f7f7f\">                           </span>│<span style=\"color: #7f7f7f; text-decoration-color: #7f7f7f\"> settings.                </span>│<span style=\"color: #7f7f7f; text-decoration-color: #7f7f7f\">                </span>│\n",
       "└──────────────────────────┴──────────────┴───────────────────────────┴──────────────────────────┴────────────────┘\n",
       "</pre>\n"
      ],
      "text/plain": [
       "┏━━━━━━━━━━━━━━━━━━━━━━━━━━┳━━━━━━━━━━━━━━┳━━━━━━━━━━━━━━━━━━━━━━━━━━━┳━━━━━━━━━━━━━━━━━━━━━━━━━━┳━━━━━━━━━━━━━━━━┓\n",
       "┃\u001b[1;35m \u001b[0m\u001b[1;35mscenario                \u001b[0m\u001b[1;35m \u001b[0m┃\u001b[1;35m \u001b[0m\u001b[1;35manswer      \u001b[0m\u001b[1;35m \u001b[0m┃\u001b[1;35m \u001b[0m\u001b[1;35manswer                   \u001b[0m\u001b[1;35m \u001b[0m┃\u001b[1;35m \u001b[0m\u001b[1;35manswer                  \u001b[0m\u001b[1;35m \u001b[0m┃\u001b[1;35m \u001b[0m\u001b[1;35manswer        \u001b[0m\u001b[1;35m \u001b[0m┃\n",
       "┃\u001b[1;35m \u001b[0m\u001b[1;35m.content                \u001b[0m\u001b[1;35m \u001b[0m┃\u001b[1;35m \u001b[0m\u001b[1;35m.use_often  \u001b[0m\u001b[1;35m \u001b[0m┃\u001b[1;35m \u001b[0m\u001b[1;35m.checkbox                \u001b[0m\u001b[1;35m \u001b[0m┃\u001b[1;35m \u001b[0m\u001b[1;35m.concerns               \u001b[0m\u001b[1;35m \u001b[0m┃\u001b[1;35m \u001b[0m\u001b[1;35m.likely_to_use\u001b[0m\u001b[1;35m \u001b[0m┃\n",
       "┡━━━━━━━━━━━━━━━━━━━━━━━━━━╇━━━━━━━━━━━━━━╇━━━━━━━━━━━━━━━━━━━━━━━━━━━╇━━━━━━━━━━━━━━━━━━━━━━━━━━╇━━━━━━━━━━━━━━━━┩\n",
       "│\u001b[2m \u001b[0m\u001b[2mA method that lets you  \u001b[0m\u001b[2m \u001b[0m│\u001b[2m \u001b[0m\u001b[2mFrequently  \u001b[0m\u001b[2m \u001b[0m│\u001b[2m \u001b[0m\u001b[2m['This feature would be  \u001b[0m\u001b[2m \u001b[0m│\u001b[2m \u001b[0m\u001b[2mHaving a feature that   \u001b[0m\u001b[2m \u001b[0m│\u001b[2m \u001b[0m\u001b[2m5             \u001b[0m\u001b[2m \u001b[0m│\n",
       "│\u001b[2m \u001b[0m\u001b[2mquickly check what      \u001b[0m\u001b[2m \u001b[0m│\u001b[2m              \u001b[0m│\u001b[2m \u001b[0m\u001b[2museful to me.', 'This    \u001b[0m\u001b[2m \u001b[0m│\u001b[2m \u001b[0m\u001b[2mallows users to quickly \u001b[0m\u001b[2m \u001b[0m│\u001b[2m                \u001b[0m│\n",
       "│\u001b[2m \u001b[0m\u001b[2mversion of the package  \u001b[0m\u001b[2m \u001b[0m│\u001b[2m              \u001b[0m│\u001b[2m \u001b[0m\u001b[2mfeature would make me    \u001b[0m\u001b[2m \u001b[0m│\u001b[2m \u001b[0m\u001b[2mcheck the version of the\u001b[0m\u001b[2m \u001b[0m│\u001b[2m                \u001b[0m│\n",
       "│\u001b[2m \u001b[0m\u001b[2myou have installed.     \u001b[0m\u001b[2m \u001b[0m│\u001b[2m              \u001b[0m│\u001b[2m \u001b[0m\u001b[2mmore productive.', 'This \u001b[0m\u001b[2m \u001b[0m│\u001b[2m \u001b[0m\u001b[2mpackage they have       \u001b[0m\u001b[2m \u001b[0m│\u001b[2m                \u001b[0m│\n",
       "│\u001b[2m                          \u001b[0m│\u001b[2m              \u001b[0m│\u001b[2m \u001b[0m\u001b[2mfeature will be important\u001b[0m\u001b[2m \u001b[0m│\u001b[2m \u001b[0m\u001b[2minstalled is quite      \u001b[0m\u001b[2m \u001b[0m│\u001b[2m                \u001b[0m│\n",
       "│\u001b[2m                          \u001b[0m│\u001b[2m              \u001b[0m│\u001b[2m \u001b[0m\u001b[2mto me.', 'I would like to\u001b[0m\u001b[2m \u001b[0m│\u001b[2m \u001b[0m\u001b[2mvaluable. It's essential\u001b[0m\u001b[2m \u001b[0m│\u001b[2m                \u001b[0m│\n",
       "│\u001b[2m                          \u001b[0m│\u001b[2m              \u001b[0m│\u001b[2m \u001b[0m\u001b[2msee some examples of how \u001b[0m\u001b[2m \u001b[0m│\u001b[2m \u001b[0m\u001b[2mfor troubleshooting,    \u001b[0m\u001b[2m \u001b[0m│\u001b[2m                \u001b[0m│\n",
       "│\u001b[2m                          \u001b[0m│\u001b[2m              \u001b[0m│\u001b[2m \u001b[0m\u001b[2mto use this feature.']   \u001b[0m\u001b[2m \u001b[0m│\u001b[2m \u001b[0m\u001b[2mensuring compatibility  \u001b[0m\u001b[2m \u001b[0m│\u001b[2m                \u001b[0m│\n",
       "│\u001b[2m                          \u001b[0m│\u001b[2m              \u001b[0m│\u001b[2m                           \u001b[0m│\u001b[2m \u001b[0m\u001b[2mwith other software, and\u001b[0m\u001b[2m \u001b[0m│\u001b[2m                \u001b[0m│\n",
       "│\u001b[2m                          \u001b[0m│\u001b[2m              \u001b[0m│\u001b[2m                           \u001b[0m│\u001b[2m \u001b[0m\u001b[2mverifying that you have \u001b[0m\u001b[2m \u001b[0m│\u001b[2m                \u001b[0m│\n",
       "│\u001b[2m                          \u001b[0m│\u001b[2m              \u001b[0m│\u001b[2m                           \u001b[0m│\u001b[2m \u001b[0m\u001b[2mthe latest features and \u001b[0m\u001b[2m \u001b[0m│\u001b[2m                \u001b[0m│\n",
       "│\u001b[2m                          \u001b[0m│\u001b[2m              \u001b[0m│\u001b[2m                           \u001b[0m│\u001b[2m \u001b[0m\u001b[2mbug fixes. It's a       \u001b[0m\u001b[2m \u001b[0m│\u001b[2m                \u001b[0m│\n",
       "│\u001b[2m                          \u001b[0m│\u001b[2m              \u001b[0m│\u001b[2m                           \u001b[0m│\u001b[2m \u001b[0m\u001b[2mfundamental feature that\u001b[0m\u001b[2m \u001b[0m│\u001b[2m                \u001b[0m│\n",
       "│\u001b[2m                          \u001b[0m│\u001b[2m              \u001b[0m│\u001b[2m                           \u001b[0m│\u001b[2m \u001b[0m\u001b[2msupports good software  \u001b[0m\u001b[2m \u001b[0m│\u001b[2m                \u001b[0m│\n",
       "│\u001b[2m                          \u001b[0m│\u001b[2m              \u001b[0m│\u001b[2m                           \u001b[0m│\u001b[2m \u001b[0m\u001b[2mmaintenance practices.  \u001b[0m\u001b[2m \u001b[0m│\u001b[2m                \u001b[0m│\n",
       "│\u001b[2m                          \u001b[0m│\u001b[2m              \u001b[0m│\u001b[2m                           \u001b[0m│\u001b[2m \u001b[0m\u001b[2mMy only concern would be\u001b[0m\u001b[2m \u001b[0m│\u001b[2m                \u001b[0m│\n",
       "│\u001b[2m                          \u001b[0m│\u001b[2m              \u001b[0m│\u001b[2m                           \u001b[0m│\u001b[2m \u001b[0m\u001b[2mensuring that the method\u001b[0m\u001b[2m \u001b[0m│\u001b[2m                \u001b[0m│\n",
       "│\u001b[2m                          \u001b[0m│\u001b[2m              \u001b[0m│\u001b[2m                           \u001b[0m│\u001b[2m \u001b[0m\u001b[2mto check the version is \u001b[0m\u001b[2m \u001b[0m│\u001b[2m                \u001b[0m│\n",
       "│\u001b[2m                          \u001b[0m│\u001b[2m              \u001b[0m│\u001b[2m                           \u001b[0m│\u001b[2m \u001b[0m\u001b[2msimple and intuitive, so\u001b[0m\u001b[2m \u001b[0m│\u001b[2m                \u001b[0m│\n",
       "│\u001b[2m                          \u001b[0m│\u001b[2m              \u001b[0m│\u001b[2m                           \u001b[0m│\u001b[2m \u001b[0m\u001b[2musers of all experience \u001b[0m\u001b[2m \u001b[0m│\u001b[2m                \u001b[0m│\n",
       "│\u001b[2m                          \u001b[0m│\u001b[2m              \u001b[0m│\u001b[2m                           \u001b[0m│\u001b[2m \u001b[0m\u001b[2mlevels can easily use it\u001b[0m\u001b[2m \u001b[0m│\u001b[2m                \u001b[0m│\n",
       "│\u001b[2m                          \u001b[0m│\u001b[2m              \u001b[0m│\u001b[2m                           \u001b[0m│\u001b[2m \u001b[0m\u001b[2mwithout confusion.      \u001b[0m\u001b[2m \u001b[0m│\u001b[2m                \u001b[0m│\n",
       "├──────────────────────────┼──────────────┼───────────────────────────┼──────────────────────────┼────────────────┤\n",
       "│\u001b[2m \u001b[0m\u001b[2mAn optional progress bar\u001b[0m\u001b[2m \u001b[0m│\u001b[2m \u001b[0m\u001b[2mAll the time\u001b[0m\u001b[2m \u001b[0m│\u001b[2m \u001b[0m\u001b[2m['This feature would be  \u001b[0m\u001b[2m \u001b[0m│\u001b[2m \u001b[0m\u001b[2mThe optional progress   \u001b[0m\u001b[2m \u001b[0m│\u001b[2m \u001b[0m\u001b[2m5             \u001b[0m\u001b[2m \u001b[0m│\n",
       "│\u001b[2m \u001b[0m\u001b[2mthat shows how many of  \u001b[0m\u001b[2m \u001b[0m│\u001b[2m              \u001b[0m│\u001b[2m \u001b[0m\u001b[2museful to me.', 'This    \u001b[0m\u001b[2m \u001b[0m│\u001b[2m \u001b[0m\u001b[2mbar for tracking        \u001b[0m\u001b[2m \u001b[0m│\u001b[2m                \u001b[0m│\n",
       "│\u001b[2m \u001b[0m\u001b[2myour questions have been\u001b[0m\u001b[2m \u001b[0m│\u001b[2m              \u001b[0m│\u001b[2m \u001b[0m\u001b[2mfeature would make me    \u001b[0m\u001b[2m \u001b[0m│\u001b[2m \u001b[0m\u001b[2manswered questions      \u001b[0m\u001b[2m \u001b[0m│\u001b[2m                \u001b[0m│\n",
       "│\u001b[2m \u001b[0m\u001b[2manswered while your     \u001b[0m\u001b[2m \u001b[0m│\u001b[2m              \u001b[0m│\u001b[2m \u001b[0m\u001b[2mmore productive.', 'I    \u001b[0m\u001b[2m \u001b[0m│\u001b[2m \u001b[0m\u001b[2mduring a survey seems   \u001b[0m\u001b[2m \u001b[0m│\u001b[2m                \u001b[0m│\n",
       "│\u001b[2m \u001b[0m\u001b[2msurvey is running.      \u001b[0m\u001b[2m \u001b[0m│\u001b[2m              \u001b[0m│\u001b[2m \u001b[0m\u001b[2mwould like to see some   \u001b[0m\u001b[2m \u001b[0m│\u001b[2m \u001b[0m\u001b[2mlike a practical and    \u001b[0m\u001b[2m \u001b[0m│\u001b[2m                \u001b[0m│\n",
       "│\u001b[2m                          \u001b[0m│\u001b[2m              \u001b[0m│\u001b[2m \u001b[0m\u001b[2mexamples of how to use   \u001b[0m\u001b[2m \u001b[0m│\u001b[2m \u001b[0m\u001b[2muser-friendly feature.  \u001b[0m\u001b[2m \u001b[0m│\u001b[2m                \u001b[0m│\n",
       "│\u001b[2m                          \u001b[0m│\u001b[2m              \u001b[0m│\u001b[2m \u001b[0m\u001b[2mthis feature.']          \u001b[0m\u001b[2m \u001b[0m│\u001b[2m \u001b[0m\u001b[2mIt would provide        \u001b[0m\u001b[2m \u001b[0m│\u001b[2m                \u001b[0m│\n",
       "│\u001b[2m                          \u001b[0m│\u001b[2m              \u001b[0m│\u001b[2m                           \u001b[0m│\u001b[2m \u001b[0m\u001b[2mimmediate visual        \u001b[0m\u001b[2m \u001b[0m│\u001b[2m                \u001b[0m│\n",
       "│\u001b[2m                          \u001b[0m│\u001b[2m              \u001b[0m│\u001b[2m                           \u001b[0m│\u001b[2m \u001b[0m\u001b[2mfeedback on the survey's\u001b[0m\u001b[2m \u001b[0m│\u001b[2m                \u001b[0m│\n",
       "│\u001b[2m                          \u001b[0m│\u001b[2m              \u001b[0m│\u001b[2m                           \u001b[0m│\u001b[2m \u001b[0m\u001b[2mprogression, which could\u001b[0m\u001b[2m \u001b[0m│\u001b[2m                \u001b[0m│\n",
       "│\u001b[2m                          \u001b[0m│\u001b[2m              \u001b[0m│\u001b[2m                           \u001b[0m│\u001b[2m \u001b[0m\u001b[2mbe particularly useful  \u001b[0m\u001b[2m \u001b[0m│\u001b[2m                \u001b[0m│\n",
       "│\u001b[2m                          \u001b[0m│\u001b[2m              \u001b[0m│\u001b[2m                           \u001b[0m│\u001b[2m \u001b[0m\u001b[2mfor managing time and   \u001b[0m\u001b[2m \u001b[0m│\u001b[2m                \u001b[0m│\n",
       "│\u001b[2m                          \u001b[0m│\u001b[2m              \u001b[0m│\u001b[2m                           \u001b[0m│\u001b[2m \u001b[0m\u001b[2mexpectations during the \u001b[0m\u001b[2m \u001b[0m│\u001b[2m                \u001b[0m│\n",
       "│\u001b[2m                          \u001b[0m│\u001b[2m              \u001b[0m│\u001b[2m                           \u001b[0m│\u001b[2m \u001b[0m\u001b[2mdata collection process.\u001b[0m\u001b[2m \u001b[0m│\u001b[2m                \u001b[0m│\n",
       "│\u001b[2m                          \u001b[0m│\u001b[2m              \u001b[0m│\u001b[2m                           \u001b[0m│\u001b[2m \u001b[0m\u001b[2mHowever, it's important \u001b[0m\u001b[2m \u001b[0m│\u001b[2m                \u001b[0m│\n",
       "│\u001b[2m                          \u001b[0m│\u001b[2m              \u001b[0m│\u001b[2m                           \u001b[0m│\u001b[2m \u001b[0m\u001b[2mto ensure that the      \u001b[0m\u001b[2m \u001b[0m│\u001b[2m                \u001b[0m│\n",
       "│\u001b[2m                          \u001b[0m│\u001b[2m              \u001b[0m│\u001b[2m                           \u001b[0m│\u001b[2m \u001b[0m\u001b[2mprogress bar accurately \u001b[0m\u001b[2m \u001b[0m│\u001b[2m                \u001b[0m│\n",
       "│\u001b[2m                          \u001b[0m│\u001b[2m              \u001b[0m│\u001b[2m                           \u001b[0m│\u001b[2m \u001b[0m\u001b[2mreflects the completion \u001b[0m\u001b[2m \u001b[0m│\u001b[2m                \u001b[0m│\n",
       "│\u001b[2m                          \u001b[0m│\u001b[2m              \u001b[0m│\u001b[2m                           \u001b[0m│\u001b[2m \u001b[0m\u001b[2mstatus without any lag  \u001b[0m\u001b[2m \u001b[0m│\u001b[2m                \u001b[0m│\n",
       "│\u001b[2m                          \u001b[0m│\u001b[2m              \u001b[0m│\u001b[2m                           \u001b[0m│\u001b[2m \u001b[0m\u001b[2mor errors, as this could\u001b[0m\u001b[2m \u001b[0m│\u001b[2m                \u001b[0m│\n",
       "│\u001b[2m                          \u001b[0m│\u001b[2m              \u001b[0m│\u001b[2m                           \u001b[0m│\u001b[2m \u001b[0m\u001b[2mlead to frustration or  \u001b[0m\u001b[2m \u001b[0m│\u001b[2m                \u001b[0m│\n",
       "│\u001b[2m                          \u001b[0m│\u001b[2m              \u001b[0m│\u001b[2m                           \u001b[0m│\u001b[2m \u001b[0m\u001b[2mmismanagement of the    \u001b[0m\u001b[2m \u001b[0m│\u001b[2m                \u001b[0m│\n",
       "│\u001b[2m                          \u001b[0m│\u001b[2m              \u001b[0m│\u001b[2m                           \u001b[0m│\u001b[2m \u001b[0m\u001b[2msurvey process.         \u001b[0m\u001b[2m \u001b[0m│\u001b[2m                \u001b[0m│\n",
       "│\u001b[2m                          \u001b[0m│\u001b[2m              \u001b[0m│\u001b[2m                           \u001b[0m│\u001b[2m \u001b[0m\u001b[2mAdditionally, consider  \u001b[0m\u001b[2m \u001b[0m│\u001b[2m                \u001b[0m│\n",
       "│\u001b[2m                          \u001b[0m│\u001b[2m              \u001b[0m│\u001b[2m                           \u001b[0m│\u001b[2m \u001b[0m\u001b[2mif the progress bar     \u001b[0m\u001b[2m \u001b[0m│\u001b[2m                \u001b[0m│\n",
       "│\u001b[2m                          \u001b[0m│\u001b[2m              \u001b[0m│\u001b[2m                           \u001b[0m│\u001b[2m \u001b[0m\u001b[2mcould be customizable or\u001b[0m\u001b[2m \u001b[0m│\u001b[2m                \u001b[0m│\n",
       "│\u001b[2m                          \u001b[0m│\u001b[2m              \u001b[0m│\u001b[2m                           \u001b[0m│\u001b[2m \u001b[0m\u001b[2mtoggle-able to          \u001b[0m\u001b[2m \u001b[0m│\u001b[2m                \u001b[0m│\n",
       "│\u001b[2m                          \u001b[0m│\u001b[2m              \u001b[0m│\u001b[2m                           \u001b[0m│\u001b[2m \u001b[0m\u001b[2maccommodate different   \u001b[0m\u001b[2m \u001b[0m│\u001b[2m                \u001b[0m│\n",
       "│\u001b[2m                          \u001b[0m│\u001b[2m              \u001b[0m│\u001b[2m                           \u001b[0m│\u001b[2m \u001b[0m\u001b[2muser preferences.       \u001b[0m\u001b[2m \u001b[0m│\u001b[2m                \u001b[0m│\n",
       "│\u001b[2m                          \u001b[0m│\u001b[2m              \u001b[0m│\u001b[2m                           \u001b[0m│\u001b[2m \u001b[0m\u001b[2mOverall, if implemented \u001b[0m\u001b[2m \u001b[0m│\u001b[2m                \u001b[0m│\n",
       "│\u001b[2m                          \u001b[0m│\u001b[2m              \u001b[0m│\u001b[2m                           \u001b[0m│\u001b[2m \u001b[0m\u001b[2meffectively, this       \u001b[0m\u001b[2m \u001b[0m│\u001b[2m                \u001b[0m│\n",
       "│\u001b[2m                          \u001b[0m│\u001b[2m              \u001b[0m│\u001b[2m                           \u001b[0m│\u001b[2m \u001b[0m\u001b[2mfeature could enhance   \u001b[0m\u001b[2m \u001b[0m│\u001b[2m                \u001b[0m│\n",
       "│\u001b[2m                          \u001b[0m│\u001b[2m              \u001b[0m│\u001b[2m                           \u001b[0m│\u001b[2m \u001b[0m\u001b[2mthe user experience and \u001b[0m\u001b[2m \u001b[0m│\u001b[2m                \u001b[0m│\n",
       "│\u001b[2m                          \u001b[0m│\u001b[2m              \u001b[0m│\u001b[2m                           \u001b[0m│\u001b[2m \u001b[0m\u001b[2mprovide valuable insight\u001b[0m\u001b[2m \u001b[0m│\u001b[2m                \u001b[0m│\n",
       "│\u001b[2m                          \u001b[0m│\u001b[2m              \u001b[0m│\u001b[2m                           \u001b[0m│\u001b[2m \u001b[0m\u001b[2minto the survey's       \u001b[0m\u001b[2m \u001b[0m│\u001b[2m                \u001b[0m│\n",
       "│\u001b[2m                          \u001b[0m│\u001b[2m              \u001b[0m│\u001b[2m                           \u001b[0m│\u001b[2m \u001b[0m\u001b[2mprogress.               \u001b[0m\u001b[2m \u001b[0m│\u001b[2m                \u001b[0m│\n",
       "├──────────────────────────┼──────────────┼───────────────────────────┼──────────────────────────┼────────────────┤\n",
       "│\u001b[2m \u001b[0m\u001b[2mA method that lets you  \u001b[0m\u001b[2m \u001b[0m│\u001b[2m \u001b[0m\u001b[2mAll the time\u001b[0m\u001b[2m \u001b[0m│\u001b[2m \u001b[0m\u001b[2m['This feature would be  \u001b[0m\u001b[2m \u001b[0m│\u001b[2m \u001b[0m\u001b[2mAs a cofounder working  \u001b[0m\u001b[2m \u001b[0m│\u001b[2m \u001b[0m\u001b[2m5             \u001b[0m\u001b[2m \u001b[0m│\n",
       "│\u001b[2m \u001b[0m\u001b[2minclude questions and   \u001b[0m\u001b[2m \u001b[0m│\u001b[2m              \u001b[0m│\u001b[2m \u001b[0m\u001b[2museful to me.', 'This    \u001b[0m\u001b[2m \u001b[0m│\u001b[2m \u001b[0m\u001b[2mon an open source Python\u001b[0m\u001b[2m \u001b[0m│\u001b[2m                \u001b[0m│\n",
       "│\u001b[2m \u001b[0m\u001b[2mresponses as context for\u001b[0m\u001b[2m \u001b[0m│\u001b[2m              \u001b[0m│\u001b[2m \u001b[0m\u001b[2mfeature would make me    \u001b[0m\u001b[2m \u001b[0m│\u001b[2m \u001b[0m\u001b[2mpackage for AI research,\u001b[0m\u001b[2m \u001b[0m│\u001b[2m                \u001b[0m│\n",
       "│\u001b[2m \u001b[0m\u001b[2mnew questions.          \u001b[0m\u001b[2m \u001b[0m│\u001b[2m              \u001b[0m│\u001b[2m \u001b[0m\u001b[2mmore productive.', 'This \u001b[0m\u001b[2m \u001b[0m│\u001b[2m \u001b[0m\u001b[2mI see significant value \u001b[0m\u001b[2m \u001b[0m│\u001b[2m                \u001b[0m│\n",
       "│\u001b[2m                          \u001b[0m│\u001b[2m              \u001b[0m│\u001b[2m \u001b[0m\u001b[2mfeature will be important\u001b[0m\u001b[2m \u001b[0m│\u001b[2m \u001b[0m\u001b[2min the proposed feature.\u001b[0m\u001b[2m \u001b[0m│\u001b[2m                \u001b[0m│\n",
       "│\u001b[2m                          \u001b[0m│\u001b[2m              \u001b[0m│\u001b[2m \u001b[0m\u001b[2mto me.', 'I would like to\u001b[0m\u001b[2m \u001b[0m│\u001b[2m \u001b[0m\u001b[2mIncluding questions and \u001b[0m\u001b[2m \u001b[0m│\u001b[2m                \u001b[0m│\n",
       "│\u001b[2m                          \u001b[0m│\u001b[2m              \u001b[0m│\u001b[2m \u001b[0m\u001b[2msee some examples of how \u001b[0m\u001b[2m \u001b[0m│\u001b[2m \u001b[0m\u001b[2mresponses as context for\u001b[0m\u001b[2m \u001b[0m│\u001b[2m                \u001b[0m│\n",
       "│\u001b[2m                          \u001b[0m│\u001b[2m              \u001b[0m│\u001b[2m \u001b[0m\u001b[2mto use this feature.']   \u001b[0m\u001b[2m \u001b[0m│\u001b[2m \u001b[0m\u001b[2mnew questions can       \u001b[0m\u001b[2m \u001b[0m│\u001b[2m                \u001b[0m│\n",
       "│\u001b[2m                          \u001b[0m│\u001b[2m              \u001b[0m│\u001b[2m                           \u001b[0m│\u001b[2m \u001b[0m\u001b[2menhance the relevance   \u001b[0m\u001b[2m \u001b[0m│\u001b[2m                \u001b[0m│\n",
       "│\u001b[2m                          \u001b[0m│\u001b[2m              \u001b[0m│\u001b[2m                           \u001b[0m│\u001b[2m \u001b[0m\u001b[2mand coherence of the    \u001b[0m\u001b[2m \u001b[0m│\u001b[2m                \u001b[0m│\n",
       "│\u001b[2m                          \u001b[0m│\u001b[2m              \u001b[0m│\u001b[2m                           \u001b[0m│\u001b[2m \u001b[0m\u001b[2mconversation with large \u001b[0m\u001b[2m \u001b[0m│\u001b[2m                \u001b[0m│\n",
       "│\u001b[2m                          \u001b[0m│\u001b[2m              \u001b[0m│\u001b[2m                           \u001b[0m│\u001b[2m \u001b[0m\u001b[2mlanguage models. It     \u001b[0m\u001b[2m \u001b[0m│\u001b[2m                \u001b[0m│\n",
       "│\u001b[2m                          \u001b[0m│\u001b[2m              \u001b[0m│\u001b[2m                           \u001b[0m│\u001b[2m \u001b[0m\u001b[2mwould allow for more    \u001b[0m\u001b[2m \u001b[0m│\u001b[2m                \u001b[0m│\n",
       "│\u001b[2m                          \u001b[0m│\u001b[2m              \u001b[0m│\u001b[2m                           \u001b[0m│\u001b[2m \u001b[0m\u001b[2mdynamic and adaptive    \u001b[0m\u001b[2m \u001b[0m│\u001b[2m                \u001b[0m│\n",
       "│\u001b[2m                          \u001b[0m│\u001b[2m              \u001b[0m│\u001b[2m                           \u001b[0m│\u001b[2m \u001b[0m\u001b[2msurveys or experiments, \u001b[0m\u001b[2m \u001b[0m│\u001b[2m                \u001b[0m│\n",
       "│\u001b[2m                          \u001b[0m│\u001b[2m              \u001b[0m│\u001b[2m                           \u001b[0m│\u001b[2m \u001b[0m\u001b[2msimulating a natural    \u001b[0m\u001b[2m \u001b[0m│\u001b[2m                \u001b[0m│\n",
       "│\u001b[2m                          \u001b[0m│\u001b[2m              \u001b[0m│\u001b[2m                           \u001b[0m│\u001b[2m \u001b[0m\u001b[2mprogression of dialogue.\u001b[0m\u001b[2m \u001b[0m│\u001b[2m                \u001b[0m│\n",
       "│\u001b[2m                          \u001b[0m│\u001b[2m              \u001b[0m│\u001b[2m                           \u001b[0m│\u001b[2m \u001b[0m\u001b[2mThis can be particularly\u001b[0m\u001b[2m \u001b[0m│\u001b[2m                \u001b[0m│\n",
       "│\u001b[2m                          \u001b[0m│\u001b[2m              \u001b[0m│\u001b[2m                           \u001b[0m│\u001b[2m \u001b[0m\u001b[2museful in longitudinal  \u001b[0m\u001b[2m \u001b[0m│\u001b[2m                \u001b[0m│\n",
       "│\u001b[2m                          \u001b[0m│\u001b[2m              \u001b[0m│\u001b[2m                           \u001b[0m│\u001b[2m \u001b[0m\u001b[2mstudies where context   \u001b[0m\u001b[2m \u001b[0m│\u001b[2m                \u001b[0m│\n",
       "│\u001b[2m                          \u001b[0m│\u001b[2m              \u001b[0m│\u001b[2m                           \u001b[0m│\u001b[2m \u001b[0m\u001b[2mfrom previous           \u001b[0m\u001b[2m \u001b[0m│\u001b[2m                \u001b[0m│\n",
       "│\u001b[2m                          \u001b[0m│\u001b[2m              \u001b[0m│\u001b[2m                           \u001b[0m│\u001b[2m \u001b[0m\u001b[2minteractions is crucial.\u001b[0m\u001b[2m \u001b[0m│\u001b[2m                \u001b[0m│\n",
       "│\u001b[2m                          \u001b[0m│\u001b[2m              \u001b[0m│\u001b[2m                           \u001b[0m│\u001b[2m \u001b[0m\u001b[2mHowever, my concern     \u001b[0m\u001b[2m \u001b[0m│\u001b[2m                \u001b[0m│\n",
       "│\u001b[2m                          \u001b[0m│\u001b[2m              \u001b[0m│\u001b[2m                           \u001b[0m│\u001b[2m \u001b[0m\u001b[2mwould be ensuring the   \u001b[0m\u001b[2m \u001b[0m│\u001b[2m                \u001b[0m│\n",
       "│\u001b[2m                          \u001b[0m│\u001b[2m              \u001b[0m│\u001b[2m                           \u001b[0m│\u001b[2m \u001b[0m\u001b[2mcontext management      \u001b[0m\u001b[2m \u001b[0m│\u001b[2m                \u001b[0m│\n",
       "│\u001b[2m                          \u001b[0m│\u001b[2m              \u001b[0m│\u001b[2m                           \u001b[0m│\u001b[2m \u001b[0m\u001b[2mdoesn't lead to         \u001b[0m\u001b[2m \u001b[0m│\u001b[2m                \u001b[0m│\n",
       "│\u001b[2m                          \u001b[0m│\u001b[2m              \u001b[0m│\u001b[2m                           \u001b[0m│\u001b[2m \u001b[0m\u001b[2moverfitting or bias in  \u001b[0m\u001b[2m \u001b[0m│\u001b[2m                \u001b[0m│\n",
       "│\u001b[2m                          \u001b[0m│\u001b[2m              \u001b[0m│\u001b[2m                           \u001b[0m│\u001b[2m \u001b[0m\u001b[2mthe model's responses.  \u001b[0m\u001b[2m \u001b[0m│\u001b[2m                \u001b[0m│\n",
       "│\u001b[2m                          \u001b[0m│\u001b[2m              \u001b[0m│\u001b[2m                           \u001b[0m│\u001b[2m \u001b[0m\u001b[2mIt will also be         \u001b[0m\u001b[2m \u001b[0m│\u001b[2m                \u001b[0m│\n",
       "│\u001b[2m                          \u001b[0m│\u001b[2m              \u001b[0m│\u001b[2m                           \u001b[0m│\u001b[2m \u001b[0m\u001b[2mimportant to consider   \u001b[0m\u001b[2m \u001b[0m│\u001b[2m                \u001b[0m│\n",
       "│\u001b[2m                          \u001b[0m│\u001b[2m              \u001b[0m│\u001b[2m                           \u001b[0m│\u001b[2m \u001b[0m\u001b[2mthe computational       \u001b[0m\u001b[2m \u001b[0m│\u001b[2m                \u001b[0m│\n",
       "│\u001b[2m                          \u001b[0m│\u001b[2m              \u001b[0m│\u001b[2m                           \u001b[0m│\u001b[2m \u001b[0m\u001b[2moverhead and how the    \u001b[0m\u001b[2m \u001b[0m│\u001b[2m                \u001b[0m│\n",
       "│\u001b[2m                          \u001b[0m│\u001b[2m              \u001b[0m│\u001b[2m                           \u001b[0m│\u001b[2m \u001b[0m\u001b[2mcontext is weighted     \u001b[0m\u001b[2m \u001b[0m│\u001b[2m                \u001b[0m│\n",
       "│\u001b[2m                          \u001b[0m│\u001b[2m              \u001b[0m│\u001b[2m                           \u001b[0m│\u001b[2m \u001b[0m\u001b[2magainst new input.      \u001b[0m\u001b[2m \u001b[0m│\u001b[2m                \u001b[0m│\n",
       "│\u001b[2m                          \u001b[0m│\u001b[2m              \u001b[0m│\u001b[2m                           \u001b[0m│\u001b[2m \u001b[0m\u001b[2mOverall, if implemented \u001b[0m\u001b[2m \u001b[0m│\u001b[2m                \u001b[0m│\n",
       "│\u001b[2m                          \u001b[0m│\u001b[2m              \u001b[0m│\u001b[2m                           \u001b[0m│\u001b[2m \u001b[0m\u001b[2mwith careful            \u001b[0m\u001b[2m \u001b[0m│\u001b[2m                \u001b[0m│\n",
       "│\u001b[2m                          \u001b[0m│\u001b[2m              \u001b[0m│\u001b[2m                           \u001b[0m│\u001b[2m \u001b[0m\u001b[2mconsideration to these  \u001b[0m\u001b[2m \u001b[0m│\u001b[2m                \u001b[0m│\n",
       "│\u001b[2m                          \u001b[0m│\u001b[2m              \u001b[0m│\u001b[2m                           \u001b[0m│\u001b[2m \u001b[0m\u001b[2maspects, I believe the  \u001b[0m\u001b[2m \u001b[0m│\u001b[2m                \u001b[0m│\n",
       "│\u001b[2m                          \u001b[0m│\u001b[2m              \u001b[0m│\u001b[2m                           \u001b[0m│\u001b[2m \u001b[0m\u001b[2mfeature could greatly   \u001b[0m\u001b[2m \u001b[0m│\u001b[2m                \u001b[0m│\n",
       "│\u001b[2m                          \u001b[0m│\u001b[2m              \u001b[0m│\u001b[2m                           \u001b[0m│\u001b[2m \u001b[0m\u001b[2menhance the versatility \u001b[0m\u001b[2m \u001b[0m│\u001b[2m                \u001b[0m│\n",
       "│\u001b[2m                          \u001b[0m│\u001b[2m              \u001b[0m│\u001b[2m                           \u001b[0m│\u001b[2m \u001b[0m\u001b[2mand applicability of the\u001b[0m\u001b[2m \u001b[0m│\u001b[2m                \u001b[0m│\n",
       "│\u001b[2m                          \u001b[0m│\u001b[2m              \u001b[0m│\u001b[2m                           \u001b[0m│\u001b[2m \u001b[0m\u001b[2msoftware in research    \u001b[0m\u001b[2m \u001b[0m│\u001b[2m                \u001b[0m│\n",
       "│\u001b[2m                          \u001b[0m│\u001b[2m              \u001b[0m│\u001b[2m                           \u001b[0m│\u001b[2m \u001b[0m\u001b[2msettings.               \u001b[0m\u001b[2m \u001b[0m│\u001b[2m                \u001b[0m│\n",
       "└──────────────────────────┴──────────────┴───────────────────────────┴──────────────────────────┴────────────────┘\n"
      ]
     },
     "metadata": {},
     "output_type": "display_data"
    }
   ],
   "source": [
    "# Print the responses\n",
    "results.select(\n",
    "    \"content\",\n",
    "    \"use_often\",\n",
    "    \"checkbox\",\n",
    "    \"concerns\",\n",
    "    \"likely_to_use\",\n",
    ").print(format=\"rich\")"
   ]
  },
  {
   "cell_type": "code",
   "execution_count": null,
   "metadata": {
    "tags": [
     "skip-execution"
    ]
   },
   "outputs": [
    {
     "data": {
      "text/plain": [
       "{'description': None,\n",
       " 'object_type': 'notebook',\n",
       " 'url': 'https://www.expectedparrot.com/content/dd28e24c-03a4-47dc-b2d5-6f8bc78788ce',\n",
       " 'uuid': 'dd28e24c-03a4-47dc-b2d5-6f8bc78788ce',\n",
       " 'version': '0.1.30.dev3',\n",
       " 'visibility': 'public'}"
      ]
     },
     "execution_count": 11,
     "metadata": {},
     "output_type": "execute_result"
    }
   ],
   "source": [
    "# Post the notebook on the Coop\n",
    "from edsl import Coop, Notebook\n",
    "\n",
    "coop = Coop()\n",
    "\n",
    "notebook = Notebook(path = \"digital_twin.ipynb\")\n",
    "\n",
    "coop.create(notebook, description=\"Digital Twin\", visibility=\"public\") "
   ]
  }
 ],
 "metadata": {
  "deepnote_execution_queue": [],
  "deepnote_notebook_id": "9d2f32372cf949cb99b0c988dee5252c",
  "kernelspec": {
   "display_name": "Python 3 (ipykernel)",
   "language": "python",
   "name": "python3"
  },
  "language_info": {
   "codemirror_mode": {
    "name": "ipython",
    "version": 3
   },
   "file_extension": ".py",
   "mimetype": "text/x-python",
   "name": "python",
   "nbconvert_exporter": "python",
   "pygments_lexer": "ipython3",
   "version": "3.10.14"
  }
 },
 "nbformat": 4,
 "nbformat_minor": 4
}
