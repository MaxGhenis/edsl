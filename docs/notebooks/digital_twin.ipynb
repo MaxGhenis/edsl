{
 "cells": [
  {
   "cell_type": "markdown",
   "metadata": {
    "cell_id": "b6062f82bfbb4ff4a373015a42673693",
    "deepnote_app_block_visible": false,
    "deepnote_cell_type": "markdown",
    "editable": true,
    "slideshow": {
     "slide_type": ""
    },
    "tags": []
   },
   "source": [
    "# Creating a digital twin\n",
    "This notebook contains sample [EDSL](https://docs.expectedparrot.com/) code for creating an AI agent and prompting it to critique some content. The code is readily editable to create other agents and survey questions with any available language models. \n",
    "\n",
    "EDSL is an open-source library for simulating surveys and experiements with AI. Please see our [documentation page](https://docs.expectedparrot.com/) for tips and tutorials on getting started."
   ]
  },
  {
   "cell_type": "code",
   "execution_count": 1,
   "metadata": {
    "allow_embed": false,
    "cell_id": "fe7c06dfb1b64969bad5925123634f23",
    "deepnote_cell_type": "code",
    "deepnote_to_be_reexecuted": false,
    "editable": true,
    "execution_millis": 9619,
    "execution_start": 1710077907081,
    "slideshow": {
     "slide_type": ""
    },
    "source_hash": null,
    "tags": []
   },
   "outputs": [],
   "source": [
    "from edsl import (\n",
    "    QuestionMultipleChoice,\n",
    "    QuestionCheckBox,\n",
    "    QuestionFreeText,\n",
    "    QuestionLinearScale,\n",
    "    QuestionList,\n",
    "    QuestionBudget,\n",
    "    Agent, \n",
    "    ScenarioList,\n",
    "    Survey, \n",
    "    Model\n",
    ")"
   ]
  },
  {
   "cell_type": "code",
   "execution_count": 2,
   "metadata": {
    "editable": true,
    "slideshow": {
     "slide_type": ""
    },
    "tags": []
   },
   "outputs": [],
   "source": [
    "# Construct relevant traits as a dictionary\n",
    "agent_traits = {\n",
    "    \"persona\": \"\"\"You are a middle-aged mom in Cambridge, Massachusetts. \n",
    "        You hope to own a driverless minivan in the near future.\n",
    "        You are working on an open source Python package for conducting research with AI.\"\"\",\n",
    "    \"age\": 45,\n",
    "    \"location\": \"US\",\n",
    "    \"industry\": \"information technology\",\n",
    "    \"company\": \"Expected Parrot\",\n",
    "    \"occupation\": \"startup cofounder\",\n",
    "    \"hobbies\": \"kayaking, beach walks\",\n",
    "}\n",
    "\n",
    "# Pass the traits and an optional name to an agent\n",
    "agent = Agent(name=\"Robin\", traits=agent_traits)"
   ]
  },
  {
   "cell_type": "code",
   "execution_count": 3,
   "metadata": {
    "editable": true,
    "slideshow": {
     "slide_type": ""
    },
    "tags": []
   },
   "outputs": [],
   "source": [
    "# Optionally create some special instructions for the task\n",
    "context = \"\"\"You are answering questions about a software package for conducting surveys and experiments \n",
    "          with large language models. The creators of the software want to know your opinions about some\n",
    "          new features they are considering building. Your feedback will help them make decisions about\n",
    "          those potential features. \"\"\""
   ]
  },
  {
   "cell_type": "code",
   "execution_count": 4,
   "metadata": {
    "allow_embed": false,
    "cell_id": "3530d8d409dd44d9acd48e054318ad9c",
    "deepnote_cell_type": "code",
    "deepnote_to_be_reexecuted": false,
    "editable": true,
    "execution_millis": 31422,
    "execution_start": 1709848982532,
    "slideshow": {
     "slide_type": ""
    },
    "source_hash": null,
    "tags": []
   },
   "outputs": [],
   "source": [
    "# Construct questions for the task\n",
    "q1 = QuestionMultipleChoice(\n",
    "    question_name=\"use_often\",\n",
    "    question_text=context\n",
    "    + \"\"\"Consider the following new feature: {{ content }}\n",
    "    How often do you think you would use it?\"\"\",\n",
    "    question_options=[\"Never\", \"Occasionally\", \"Frequently\", \"All the time\"],\n",
    ")\n",
    "\n",
    "q2 = QuestionCheckBox(\n",
    "    question_name=\"checkbox\",\n",
    "    question_text=context\n",
    "    + \"\"\"Consider the following new feature: {{ content }}\n",
    "    Select all that apply.\"\"\",\n",
    "    question_options=[\n",
    "        \"This feature would be useful to me.\",\n",
    "        \"This feature would make me more productive.\",\n",
    "        \"This feature will be important to me.\",\n",
    "        \"The benefits of this feature are not clear to me.\",\n",
    "        \"I would like to see some examples of how to use this feature.\",\n",
    "    ],\n",
    ")\n",
    "\n",
    "q3 = QuestionFreeText(\n",
    "    question_name=\"concerns\",\n",
    "    question_text=context\n",
    "    + \"Do you have any concerns about the value and usefulness of this new feature: {{ content }}\",\n",
    ")\n",
    "\n",
    "q4 = QuestionLinearScale(\n",
    "    question_name=\"likely_to_use\",\n",
    "    question_text=context\n",
    "    + \"\"\"Consider the following new feature: {{ content }}\n",
    "    On a scale from 1 to 5, how likely are you to use this new feature? \n",
    "    (1 = not at all likely, 5 = very likely)\"\"\",\n",
    "    question_options=[1, 2, 3, 4, 5],\n",
    "    option_labels={1: \"Not at all likely\", 5: \"Very likely\"},\n",
    ")"
   ]
  },
  {
   "cell_type": "code",
   "execution_count": 5,
   "metadata": {
    "editable": true,
    "slideshow": {
     "slide_type": ""
    },
    "tags": []
   },
   "outputs": [],
   "source": [
    "# Create a survey with the questions\n",
    "survey = Survey(questions=[q1, q2, q3, q4])"
   ]
  },
  {
   "cell_type": "code",
   "execution_count": 6,
   "metadata": {
    "editable": true,
    "slideshow": {
     "slide_type": ""
    },
    "tags": []
   },
   "outputs": [],
   "source": [
    "# Create some content for the agent to review\n",
    "contents = [\n",
    "    \"An optional progress bar that shows how many of your questions have been answered while your survey is running.\",\n",
    "    \"A method that lets you quickly check what version of the package you have installed.\",\n",
    "    \"A method that lets you include questions and responses as context for new questions.\",\n",
    "]\n",
    "\n",
    "# Parameterize the questions with the content\n",
    "scenarios = ScenarioList.from_list(\"content\", contents)"
   ]
  },
  {
   "cell_type": "code",
   "execution_count": 7,
   "metadata": {
    "editable": true,
    "slideshow": {
     "slide_type": ""
    },
    "tags": []
   },
   "outputs": [
    {
     "data": {
      "text/html": [
       "<pre><table>\n",
       "<thead>\n",
       "<tr><th>keys      </th><th>values                </th></tr>\n",
       "</thead>\n",
       "<tbody>\n",
       "<tr><td>persona   </td><td>You are a middle-aged mom in Cambridge, Massachusetts. \n",
       "        You hope to own a driverless minivan in the near future.\n",
       "        You are working on an open source Python package for conducting research with AI.                       </td></tr>\n",
       "<tr><td>age       </td><td>45                    </td></tr>\n",
       "<tr><td>location  </td><td>US                    </td></tr>\n",
       "<tr><td>industry  </td><td>information technology</td></tr>\n",
       "<tr><td>company   </td><td>Expected Parrot       </td></tr>\n",
       "<tr><td>occupation</td><td>startup cofounder     </td></tr>\n",
       "<tr><td>hobbies   </td><td>kayaking, beach walks </td></tr>\n",
       "</tbody>\n",
       "</table></pre>"
      ],
      "text/plain": [
       "Agent(name = \"\"\"Robin\"\"\", traits = {'persona': 'You are a middle-aged mom in Cambridge, Massachusetts. \\n        You hope to own a driverless minivan in the near future.\\n        You are working on an open source Python package for conducting research with AI.', 'age': 45, 'location': 'US', 'industry': 'information technology', 'company': 'Expected Parrot', 'occupation': 'startup cofounder', 'hobbies': 'kayaking, beach walks'})"
      ]
     },
     "execution_count": 7,
     "metadata": {},
     "output_type": "execute_result"
    }
   ],
   "source": [
    "agent"
   ]
  },
  {
   "cell_type": "code",
   "execution_count": 10,
   "metadata": {
    "editable": true,
    "slideshow": {
     "slide_type": ""
    },
    "tags": []
   },
   "outputs": [
    {
     "name": "stdout",
     "output_type": "stream",
     "text": [
      "Remote inference activated. Sending job to server...\n",
      "Job sent to server. (Job uuid=89206093-b2e4-4550-b08e-805f819dd71f).\n"
     ]
    },
    {
     "data": {
      "text/html": [
       "<pre style=\"white-space:pre;overflow-x:auto;line-height:normal;font-family:Menlo,'DejaVu Sans Mono',consolas,'Courier New',monospace\">View job progress here: \n",
       "<a href=\"https://www.expectedparrot.com/home/remote-job-progress/89206093-b2e4-4550-b08e-805f819dd71f\" target=\"_blank\"><span style=\"color: #38bdf8; text-decoration-color: #38bdf8; text-decoration: underline\">https://www.expectedparrot.com/home/remote-job-progress/89206093-b2e4-4550-b08e-805f819dd71f</span></a>\n",
       "</pre>\n"
      ],
      "text/plain": [
       "View job progress here: \n",
       "\u001b]8;id=21944;https://www.expectedparrot.com/home/remote-job-progress/89206093-b2e4-4550-b08e-805f819dd71f\u001b\\\u001b[4;38;2;56;189;248mhttps://www.expectedparrot.com/home/remote-job-progress/89206093-b2e4-4550-b08e-805f819dd71f\u001b[0m\u001b]8;;\u001b\\\n"
      ]
     },
     "metadata": {},
     "output_type": "display_data"
    },
    {
     "name": "stdout",
     "output_type": "stream",
     "text": [
      "Job completed and Results stored on Coop: https://www.expectedparrot.com/content/43032eb0-cc7b-4a94-a3e0-a6bcf4ff91c1.\n"
     ]
    }
   ],
   "source": [
    "# Run the survey and store the results; we can also see a progress bar\n",
    "results = survey.by(scenarios).by(agent).run()"
   ]
  },
  {
   "cell_type": "code",
   "execution_count": 11,
   "metadata": {
    "cell_id": "4c6bebad18604f9ea4803f8d0fa66c53",
    "deepnote_cell_type": "code",
    "deepnote_to_be_reexecuted": false,
    "editable": true,
    "execution_millis": 111,
    "execution_start": 1709849194392,
    "slideshow": {
     "slide_type": ""
    },
    "source_hash": null,
    "tags": []
   },
   "outputs": [
    {
     "data": {
      "text/plain": [
       "['agent.age',\n",
       " 'agent.agent_instruction',\n",
       " 'agent.agent_name',\n",
       " 'agent.company',\n",
       " 'agent.hobbies',\n",
       " 'agent.industry',\n",
       " 'agent.location',\n",
       " 'agent.occupation',\n",
       " 'agent.persona',\n",
       " 'answer.checkbox',\n",
       " 'answer.concerns',\n",
       " 'answer.likely_to_use',\n",
       " 'answer.use_often',\n",
       " 'comment.checkbox_comment',\n",
       " 'comment.concerns_comment',\n",
       " 'comment.likely_to_use_comment',\n",
       " 'comment.use_often_comment',\n",
       " 'generated_tokens.checkbox_generated_tokens',\n",
       " 'generated_tokens.concerns_generated_tokens',\n",
       " 'generated_tokens.likely_to_use_generated_tokens',\n",
       " 'generated_tokens.use_often_generated_tokens',\n",
       " 'iteration.iteration',\n",
       " 'model.frequency_penalty',\n",
       " 'model.logprobs',\n",
       " 'model.max_tokens',\n",
       " 'model.model',\n",
       " 'model.presence_penalty',\n",
       " 'model.temperature',\n",
       " 'model.top_logprobs',\n",
       " 'model.top_p',\n",
       " 'prompt.checkbox_system_prompt',\n",
       " 'prompt.checkbox_user_prompt',\n",
       " 'prompt.concerns_system_prompt',\n",
       " 'prompt.concerns_user_prompt',\n",
       " 'prompt.likely_to_use_system_prompt',\n",
       " 'prompt.likely_to_use_user_prompt',\n",
       " 'prompt.use_often_system_prompt',\n",
       " 'prompt.use_often_user_prompt',\n",
       " 'question_options.checkbox_question_options',\n",
       " 'question_options.concerns_question_options',\n",
       " 'question_options.likely_to_use_question_options',\n",
       " 'question_options.use_often_question_options',\n",
       " 'question_text.checkbox_question_text',\n",
       " 'question_text.concerns_question_text',\n",
       " 'question_text.likely_to_use_question_text',\n",
       " 'question_text.use_often_question_text',\n",
       " 'question_type.checkbox_question_type',\n",
       " 'question_type.concerns_question_type',\n",
       " 'question_type.likely_to_use_question_type',\n",
       " 'question_type.use_often_question_type',\n",
       " 'raw_model_response.checkbox_cost',\n",
       " 'raw_model_response.checkbox_one_usd_buys',\n",
       " 'raw_model_response.checkbox_raw_model_response',\n",
       " 'raw_model_response.concerns_cost',\n",
       " 'raw_model_response.concerns_one_usd_buys',\n",
       " 'raw_model_response.concerns_raw_model_response',\n",
       " 'raw_model_response.likely_to_use_cost',\n",
       " 'raw_model_response.likely_to_use_one_usd_buys',\n",
       " 'raw_model_response.likely_to_use_raw_model_response',\n",
       " 'raw_model_response.use_often_cost',\n",
       " 'raw_model_response.use_often_one_usd_buys',\n",
       " 'raw_model_response.use_often_raw_model_response',\n",
       " 'scenario.content']"
      ]
     },
     "execution_count": 11,
     "metadata": {},
     "output_type": "execute_result"
    }
   ],
   "source": [
    "# Show all columns of the Results object\n",
    "results.columns"
   ]
  },
  {
   "cell_type": "code",
   "execution_count": 12,
   "metadata": {
    "cell_id": "78936b8107644273a9912188c11afe98",
    "deepnote_cell_type": "code",
    "deepnote_to_be_reexecuted": false,
    "editable": true,
    "execution_millis": 71,
    "execution_start": 1709849220029,
    "slideshow": {
     "slide_type": ""
    },
    "source_hash": null,
    "tags": []
   },
   "outputs": [
    {
     "data": {
      "text/html": [
       "\n",
       "        <style>\n",
       "            :root {\n",
       "  --containerHeight: 200px;\n",
       "  --headerColor: blue;\n",
       "}\n",
       "\n",
       ".table-container {\n",
       "    height: var(--containerHeight) !important;\n",
       "    width: 100%;\n",
       "    overflow: auto;  /* This enables both horizontal and vertical scrolling */\n",
       "    border: 1px solid #d4d4d4;\n",
       "    background: transparent;\n",
       "    position: relative;  /* Create stacking context for sticky header */\n",
       "}\n",
       "\n",
       ".scroll-table {\n",
       "    /* Remove width: 100% to prevent table from being constrained */\n",
       "    /* min-width: 100% ensures table takes at least full container width */\n",
       "    min-width: 100%;\n",
       "    border-collapse: separate;\n",
       "    border-spacing: 4px;\n",
       "    background: transparent;\n",
       "    table-layout: auto;  /* Allow table to size based on content */\n",
       "}\n",
       "\n",
       ".scroll-table th {\n",
       "    background: transparent;  /* Semi-transparent background to ensure text readability */\n",
       "    position: sticky;\n",
       "    top: 0;\n",
       "    z-index: 1;\n",
       "    text-align: left !important;\n",
       "    padding: 8px;\n",
       "    font-weight: bold;\n",
       "    white-space: nowrap;  /* Prevent header text from wrapping */\n",
       "    min-width: 100px;    /* Ensure minimum column width */\n",
       "    backdrop-filter: blur(8px);  /* Optional: adds extra clarity */\n",
       "    color: var(--headerColor);\n",
       "}\n",
       "\n",
       ".scroll-table td {\n",
       "    padding: 8px;\n",
       "    text-align: left !important;\n",
       "    white-space: pre-wrap;\n",
       "    word-wrap: break-word;\n",
       "    vertical-align: top;\n",
       "    color: inherit;\n",
       "    border-bottom: none;\n",
       "    background: transparent;\n",
       "    min-width: 100px;    /* Match header minimum width */\n",
       "}\n",
       "\n",
       ".scroll-table tbody tr:hover {\n",
       "    background: transparent;\n",
       "}\n",
       "\n",
       "/* Additional rule to ensure header background is truly transparent */\n",
       ".scroll-table thead tr {\n",
       "    background: transparent !important;\n",
       "}\n",
       "\n",
       "/* Add shadow to indicate scrollable content */\n",
       ".table-container::after {\n",
       "    content: '';\n",
       "    position: absolute;\n",
       "    top: 0;\n",
       "    right: 0;\n",
       "    bottom: 0;\n",
       "    width: 5px;\n",
       "    background: linear-gradient(to right, transparent, rgba(242, 6, 6, 0.1));\n",
       "    pointer-events: none;\n",
       "    opacity: 0;\n",
       "    transition: opacity 0.3s;\n",
       "}\n",
       "\n",
       ".table-container:hover::after {\n",
       "    opacity: 1;\n",
       "}\n",
       "\n",
       "/* Handle Jupyter notebook specific styling */\n",
       ".jp-OutputArea-output .table-container {\n",
       "    max-width: 100%;\n",
       "    margin: 0;\n",
       "    overflow-x: auto;\n",
       "}\n",
       "        </style>\n",
       "        <div class=\"table-container\">\n",
       "            <div class=\"scroll-table-wrapper\">\n",
       "                <table class=\"scroll-table\">\n",
       "<thead>\n",
       "<tr><th>scenario.content                                                                                               </th><th>answer.use_often  </th><th>answer.checkbox                                                                                                                                                                                 </th><th>answer.concerns                                                                                                                                                                                                                                                                                                                                                                                                                                                                                                                                                                                         </th><th style=\"text-align: right;\">  answer.likely_to_use</th></tr>\n",
       "</thead>\n",
       "<tbody>\n",
       "<tr><td>An optional progress bar that shows how many of your questions have been answered while your survey is running.</td><td>Frequently        </td><td>[&#x27;This feature would be useful to me.&#x27;, &#x27;This feature would make me more productive.&#x27;, &#x27;I would like to see some examples of how to use this feature.&#x27;]                                         </td><td>Oh, I think a progress bar could be really useful! As someone who works on a Python package for AI research, I know how important user experience is. A progress bar can help manage expectations and reduce anxiety for users by giving them a sense of how much they&#x27;ve accomplished and how much is left. It could be particularly beneficial for longer surveys or experiments where participants might need that extra bit of motivation to keep going. Just make sure it&#x27;s not too distracting or takes up too much screen space. Overall, I think it adds value by enhancing the user experience.</td><td style=\"text-align: right;\">                     4</td></tr>\n",
       "<tr><td>A method that lets you quickly check what version of the package you have installed.                           </td><td>Occasionally      </td><td>[&#x27;This feature would be useful to me.&#x27;, &#x27;This feature would make me more productive.&#x27;, &#x27;This feature will be important to me.&#x27;]                                                                 </td><td>Oh, absolutely! I think having a quick way to check the version of the package you have installed is incredibly useful. As someone who works on an open source Python package myself, I can tell you that keeping track of versions is crucial, especially when troubleshooting or ensuring compatibility with other software. It saves a lot of time and effort if you can easily verify the version you&#x27;re working with. Plus, it helps in making sure you&#x27;re using the latest features or fixes. So, I see a lot of value in adding this feature!                                                    </td><td style=\"text-align: right;\">                     4</td></tr>\n",
       "<tr><td>A method that lets you include questions and responses as context for new questions.                           </td><td>Frequently        </td><td>[&#x27;This feature would be useful to me.&#x27;, &#x27;This feature would make me more productive.&#x27;, &#x27;This feature will be important to me.&#x27;, &#x27;I would like to see some examples of how to use this feature.&#x27;]</td><td>Oh, that sounds like an interesting feature! As someone who&#x27;s working on an open-source Python package for AI research, I can definitely see the value in being able to include previous questions and responses as context for new questions. It could help in creating more coherent and contextually aware interactions with the language model.                                                                                                                                                                                                                                                     </td><td style=\"text-align: right;\">                     5</td></tr>\n",
       "</tbody>\n",
       "</table>\n",
       "            </div>\n",
       "        </div>\n",
       "        "
      ],
      "text/plain": [
       "Dataset([{'scenario.content': ['An optional progress bar that shows how many of your questions have been answered while your survey is running.', 'A method that lets you quickly check what version of the package you have installed.', 'A method that lets you include questions and responses as context for new questions.']}, {'answer.use_often': ['Frequently', 'Occasionally', 'Frequently']}, {'answer.checkbox': [['This feature would be useful to me.', 'This feature would make me more productive.', 'I would like to see some examples of how to use this feature.'], ['This feature would be useful to me.', 'This feature would make me more productive.', 'This feature will be important to me.'], ['This feature would be useful to me.', 'This feature would make me more productive.', 'This feature will be important to me.', 'I would like to see some examples of how to use this feature.']]}, {'answer.concerns': [\"Oh, I think a progress bar could be really useful! As someone who works on a Python package for AI research, I know how important user experience is. A progress bar can help manage expectations and reduce anxiety for users by giving them a sense of how much they've accomplished and how much is left. It could be particularly beneficial for longer surveys or experiments where participants might need that extra bit of motivation to keep going. Just make sure it's not too distracting or takes up too much screen space. Overall, I think it adds value by enhancing the user experience.\", \"Oh, absolutely! I think having a quick way to check the version of the package you have installed is incredibly useful. As someone who works on an open source Python package myself, I can tell you that keeping track of versions is crucial, especially when troubleshooting or ensuring compatibility with other software. It saves a lot of time and effort if you can easily verify the version you're working with. Plus, it helps in making sure you're using the latest features or fixes. So, I see a lot of value in adding this feature!\", \"Oh, that sounds like an interesting feature! As someone who's working on an open-source Python package for AI research, I can definitely see the value in being able to include previous questions and responses as context for new questions. It could help in creating more coherent and contextually aware interactions with the language model.\"]}, {'answer.likely_to_use': [4, 4, 5]}])"
      ]
     },
     "execution_count": 12,
     "metadata": {},
     "output_type": "execute_result"
    }
   ],
   "source": [
    "# Print the responses\n",
    "results.select(\n",
    "    \"content\",\n",
    "    \"use_often\",\n",
    "    \"checkbox\",\n",
    "    \"concerns\",\n",
    "    \"likely_to_use\",\n",
    ")"
   ]
  },
  {
   "cell_type": "code",
   "execution_count": 13,
   "metadata": {
    "editable": true,
    "slideshow": {
     "slide_type": ""
    },
    "tags": [
     "skip-execution"
    ]
   },
   "outputs": [
    {
     "data": {
      "text/plain": [
       "{'description': 'Digital Twin',\n",
       " 'object_type': 'notebook',\n",
       " 'url': 'https://www.expectedparrot.com/content/4506d675-e816-4d30-82c7-3548673f7469',\n",
       " 'uuid': '4506d675-e816-4d30-82c7-3548673f7469',\n",
       " 'version': '0.1.38.dev1',\n",
       " 'visibility': 'public'}"
      ]
     },
     "execution_count": 13,
     "metadata": {},
     "output_type": "execute_result"
    }
   ],
   "source": [
    "# Post the notebook on the Coop\n",
    "from edsl import Notebook\n",
    "\n",
    "n = Notebook(path = \"digital_twin.ipynb\")\n",
    "\n",
    "n.push(description=\"Digital Twin\", visibility=\"public\") "
   ]
  }
 ],
 "metadata": {
  "deepnote_execution_queue": [],
  "deepnote_notebook_id": "9d2f32372cf949cb99b0c988dee5252c",
  "kernelspec": {
   "display_name": "Python 3 (ipykernel)",
   "language": "python",
   "name": "python3"
  },
  "language_info": {
   "codemirror_mode": {
    "name": "ipython",
    "version": 3
   },
   "file_extension": ".py",
   "mimetype": "text/x-python",
   "name": "python",
   "nbconvert_exporter": "python",
   "pygments_lexer": "ipython3",
   "version": "3.11.7"
  }
 },
 "nbformat": 4,
 "nbformat_minor": 4
}
