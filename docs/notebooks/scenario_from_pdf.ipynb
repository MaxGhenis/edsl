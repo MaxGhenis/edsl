{
 "cells": [
  {
   "cell_type": "markdown",
   "id": "5b2d8e23-4783-4221-95af-0ef5be8c1b31",
   "metadata": {},
   "source": [
    "# Importing pdfs\n",
    "This notebook provides sample [EDSL](https://docs.expectedparrot.com/) code demonstrating how to import text from PDFs to use as parameters of survey questions. This can be helpful when using EDSL to extract information from a large text efficiently. \n",
    "\n",
    "EDSL is an open-source library for simulating surveys and experiments with AI agents and large language models. Please see our [documentation page] for tips and tutorials on getting started.\n",
    "\n",
    "## How it works\n",
    "EDSL comes with a [variety of question types](https://docs.expectedparrot.com/en/latest/questions.html) that we can select from based on the desired form of the response (multiple choice, free text, etc.). We can also parameterize questions with textual content in order to ask questions about the content. We do this by creating a `{{ placeholder }}` in a question text, e.g., *What are the key themes of this text: {{ text }}*, and then creating corresponding `Scenario` objects for the content to be inserted in the placeholder when we run the survey. This allows us to efficiently administer multiple versions of a question with different inputs all at once. A common use case for this is performing [data labeling tasks](https://docs.expectedparrot.com/en/latest/notebooks/data_labeling_example.html) designed as questions about one or more pieces of textual data from a that can be input into the survey question texts. [Learn more about using scenarios](https://docs.expectedparrot.com/en/latest/scenarios.html).\n",
    "\n",
    "## Example\n",
    "For purposes of demonstration we'll use a PDF copy of the recent paper [Automated Social Science:\n",
    "Language Models as Scientist and Subjects](https://arxiv.org/pdf/2404.11794) and conduct a survey consisting of several questions about the contents of it:\n",
    "\n",
    "<img src=\"automated_social_science_paper.png\" width=\"500px\">"
   ]
  },
  {
   "cell_type": "markdown",
   "id": "bfe1f34b-b03e-4751-abe6-32b012ddd8dc",
   "metadata": {},
   "source": [
    "Importing the tools:"
   ]
  },
  {
   "cell_type": "code",
   "execution_count": 1,
   "id": "89b5c84f-7c34-4f41-992b-2d6131a2e198",
   "metadata": {},
   "outputs": [],
   "source": [
    "# pip install edsl"
   ]
  },
  {
   "cell_type": "code",
   "execution_count": 2,
   "id": "18bf771b-a06e-4737-aad9-4b218479fc4c",
   "metadata": {},
   "outputs": [],
   "source": [
    "from edsl.questions import QuestionFreeText, QuestionList\n",
    "from edsl import ScenarioList, Survey"
   ]
  },
  {
   "cell_type": "markdown",
   "id": "662e0775-6f54-47fb-b4b4-21d15573ed3d",
   "metadata": {},
   "source": [
    "Creating a survey of questions about a text:"
   ]
  },
  {
   "cell_type": "code",
   "execution_count": 3,
   "id": "e927902f-4c40-4df4-9188-fc2fc11a5943",
   "metadata": {},
   "outputs": [],
   "source": [
    "q_summary = QuestionFreeText(\n",
    "    question_name = \"summary\",\n",
    "    question_text = \"Briefly summarize the abstract of this paper: {{ text }}\"\n",
    ")\n",
    "\n",
    "q_authors = QuestionList(\n",
    "    question_name = \"authors\",\n",
    "    question_text = \"List the names of all the authors of the following paper: {{ text }}\"\n",
    ")\n",
    "\n",
    "q_thanks = QuestionList(\n",
    "    question_name = \"thanks\",\n",
    "    question_text = \"List the names of the people thanked in the following paper: {{ text }}\"\n",
    ")\n",
    "\n",
    "survey = Survey([q_summary, q_authors, q_thanks])"
   ]
  },
  {
   "cell_type": "markdown",
   "id": "3b491c8c-5caf-478f-9343-dc7f1222f18d",
   "metadata": {},
   "source": [
    "Creating a `ScenarioList` for the PDF copy of the paper, the contents of which will be inserted in our questions:"
   ]
  },
  {
   "cell_type": "code",
   "execution_count": 4,
   "id": "87671ddf-dbf2-4ca1-a0f6-cdac428a43c9",
   "metadata": {},
   "outputs": [],
   "source": [
    "automated_social_scientist = ScenarioList.from_pdf(\"automated_social_scientist.pdf\")"
   ]
  },
  {
   "cell_type": "markdown",
   "id": "8ccab969-3067-4da0-a81a-a606388da844",
   "metadata": {},
   "source": [
    "Adding the scenario list to to the survey and running it:"
   ]
  },
  {
   "cell_type": "code",
   "execution_count": 5,
   "id": "179aeda5-bd7b-4a61-9772-af1a18456893",
   "metadata": {},
   "outputs": [],
   "source": [
    "results = survey.by(automated_social_scientist).run()"
   ]
  },
  {
   "cell_type": "markdown",
   "id": "c5523072-8025-499e-a144-4ca2f4574591",
   "metadata": {},
   "source": [
    "We can see a list of all the components of results that are directly accessible:"
   ]
  },
  {
   "cell_type": "code",
   "execution_count": 6,
   "id": "99ffbe92-9155-49f2-b824-03e125ce36ca",
   "metadata": {},
   "outputs": [
    {
     "data": {
      "text/plain": [
       "['agent.agent_instruction',\n",
       " 'agent.agent_name',\n",
       " 'answer.authors',\n",
       " 'answer.summary',\n",
       " 'answer.thanks',\n",
       " 'comment.authors_comment',\n",
       " 'comment.thanks_comment',\n",
       " 'iteration.iteration',\n",
       " 'model.frequency_penalty',\n",
       " 'model.logprobs',\n",
       " 'model.max_tokens',\n",
       " 'model.model',\n",
       " 'model.presence_penalty',\n",
       " 'model.temperature',\n",
       " 'model.top_logprobs',\n",
       " 'model.top_p',\n",
       " 'prompt.authors_system_prompt',\n",
       " 'prompt.authors_user_prompt',\n",
       " 'prompt.summary_system_prompt',\n",
       " 'prompt.summary_user_prompt',\n",
       " 'prompt.thanks_system_prompt',\n",
       " 'prompt.thanks_user_prompt',\n",
       " 'question_options.authors_question_options',\n",
       " 'question_options.summary_question_options',\n",
       " 'question_options.thanks_question_options',\n",
       " 'question_text.authors_question_text',\n",
       " 'question_text.summary_question_text',\n",
       " 'question_text.thanks_question_text',\n",
       " 'question_type.authors_question_type',\n",
       " 'question_type.summary_question_type',\n",
       " 'question_type.thanks_question_type',\n",
       " 'raw_model_response.authors_raw_model_response',\n",
       " 'raw_model_response.summary_raw_model_response',\n",
       " 'raw_model_response.thanks_raw_model_response',\n",
       " 'scenario.edsl_class_name',\n",
       " 'scenario.edsl_version',\n",
       " 'scenario.filename',\n",
       " 'scenario.page',\n",
       " 'scenario.text']"
      ]
     },
     "execution_count": 6,
     "metadata": {},
     "output_type": "execute_result"
    }
   ],
   "source": [
    "results.columns"
   ]
  },
  {
   "cell_type": "markdown",
   "id": "a4219d93-cdb1-493a-8033-7ae18866ad50",
   "metadata": {},
   "source": [
    "We can select components of the results to inspect and print:"
   ]
  },
  {
   "cell_type": "code",
   "execution_count": 7,
   "id": "66a501e9-5d1a-4fe4-819c-db3dc20c0bb6",
   "metadata": {},
   "outputs": [
    {
     "data": {
      "text/html": [
       "<pre style=\"white-space:pre;overflow-x:auto;line-height:normal;font-family:Menlo,'DejaVu Sans Mono',consolas,'Courier New',monospace\">┏━━━━━━━━━━━━━━━━━━━━━━━━━━━━━━━━━━━━━┳━━━━━━━━━━━━━━━━━━━━━━━━━━━━━━━━━━━━━┳━━━━━━━━━━━━━━━━━━━━━━━━━━━━━━━━━━━━━┓\n",
       "┃<span style=\"color: #800080; text-decoration-color: #800080; font-weight: bold\"> answer                              </span>┃<span style=\"color: #800080; text-decoration-color: #800080; font-weight: bold\"> answer                              </span>┃<span style=\"color: #800080; text-decoration-color: #800080; font-weight: bold\"> answer                              </span>┃\n",
       "┃<span style=\"color: #800080; text-decoration-color: #800080; font-weight: bold\"> .summary                            </span>┃<span style=\"color: #800080; text-decoration-color: #800080; font-weight: bold\"> .authors                            </span>┃<span style=\"color: #800080; text-decoration-color: #800080; font-weight: bold\"> .thanks                             </span>┃\n",
       "┡━━━━━━━━━━━━━━━━━━━━━━━━━━━━━━━━━━━━━╇━━━━━━━━━━━━━━━━━━━━━━━━━━━━━━━━━━━━━╇━━━━━━━━━━━━━━━━━━━━━━━━━━━━━━━━━━━━━┩\n",
       "│<span style=\"color: #7f7f7f; text-decoration-color: #7f7f7f\"> The abstract describes a novel      </span>│<span style=\"color: #7f7f7f; text-decoration-color: #7f7f7f\"> ['Benjamin S. Manning', 'Kehang     </span>│<span style=\"color: #7f7f7f; text-decoration-color: #7f7f7f\"> ['Drew Houston', 'Jordan            </span>│\n",
       "│<span style=\"color: #7f7f7f; text-decoration-color: #7f7f7f\"> method for generating and testing   </span>│<span style=\"color: #7f7f7f; text-decoration-color: #7f7f7f\"> Zhu', 'John J. Horton']             </span>│<span style=\"color: #7f7f7f; text-decoration-color: #7f7f7f\"> Ellenberg', 'Benjamin Lira          </span>│\n",
       "│<span style=\"color: #7f7f7f; text-decoration-color: #7f7f7f\"> social science hypotheses using     </span>│<span style=\"color: #7f7f7f; text-decoration-color: #7f7f7f\">                                     </span>│<span style=\"color: #7f7f7f; text-decoration-color: #7f7f7f\"> Luttges', 'David Holtz', 'Bruce     </span>│\n",
       "│<span style=\"color: #7f7f7f; text-decoration-color: #7f7f7f\"> large language models (LLMs) and    </span>│<span style=\"color: #7f7f7f; text-decoration-color: #7f7f7f\">                                     </span>│<span style=\"color: #7f7f7f; text-decoration-color: #7f7f7f\"> Sacerdote', 'Paul Röttger',         </span>│\n",
       "│<span style=\"color: #7f7f7f; text-decoration-color: #7f7f7f\"> structural causal models (SCMs).    </span>│<span style=\"color: #7f7f7f; text-decoration-color: #7f7f7f\">                                     </span>│<span style=\"color: #7f7f7f; text-decoration-color: #7f7f7f\"> 'Mohammed Alsobay', 'Ray Duch',     </span>│\n",
       "│<span style=\"color: #7f7f7f; text-decoration-color: #7f7f7f\"> SCMs help articulate hypotheses,    </span>│<span style=\"color: #7f7f7f; text-decoration-color: #7f7f7f\">                                     </span>│<span style=\"color: #7f7f7f; text-decoration-color: #7f7f7f\"> 'Matt Schwartz', 'David Autor',     </span>│\n",
       "│<span style=\"color: #7f7f7f; text-decoration-color: #7f7f7f\"> construct LLM-based agents, design  </span>│<span style=\"color: #7f7f7f; text-decoration-color: #7f7f7f\">                                     </span>│<span style=\"color: #7f7f7f; text-decoration-color: #7f7f7f\"> 'Dean Eckles']                      </span>│\n",
       "│<span style=\"color: #7f7f7f; text-decoration-color: #7f7f7f\"> experiments, and analyze data. The  </span>│<span style=\"color: #7f7f7f; text-decoration-color: #7f7f7f\">                                     </span>│<span style=\"color: #7f7f7f; text-decoration-color: #7f7f7f\">                                     </span>│\n",
       "│<span style=\"color: #7f7f7f; text-decoration-color: #7f7f7f\"> research applies this method to     </span>│<span style=\"color: #7f7f7f; text-decoration-color: #7f7f7f\">                                     </span>│<span style=\"color: #7f7f7f; text-decoration-color: #7f7f7f\">                                     </span>│\n",
       "│<span style=\"color: #7f7f7f; text-decoration-color: #7f7f7f\"> various scenarios such as           </span>│<span style=\"color: #7f7f7f; text-decoration-color: #7f7f7f\">                                     </span>│<span style=\"color: #7f7f7f; text-decoration-color: #7f7f7f\">                                     </span>│\n",
       "│<span style=\"color: #7f7f7f; text-decoration-color: #7f7f7f\"> negotiations, bail hearings, job    </span>│<span style=\"color: #7f7f7f; text-decoration-color: #7f7f7f\">                                     </span>│<span style=\"color: #7f7f7f; text-decoration-color: #7f7f7f\">                                     </span>│\n",
       "│<span style=\"color: #7f7f7f; text-decoration-color: #7f7f7f\"> interviews, and auctions, proposing </span>│<span style=\"color: #7f7f7f; text-decoration-color: #7f7f7f\">                                     </span>│<span style=\"color: #7f7f7f; text-decoration-color: #7f7f7f\">                                     </span>│\n",
       "│<span style=\"color: #7f7f7f; text-decoration-color: #7f7f7f\"> and evaluating causal               </span>│<span style=\"color: #7f7f7f; text-decoration-color: #7f7f7f\">                                     </span>│<span style=\"color: #7f7f7f; text-decoration-color: #7f7f7f\">                                     </span>│\n",
       "│<span style=\"color: #7f7f7f; text-decoration-color: #7f7f7f\"> relationships. The findings         </span>│<span style=\"color: #7f7f7f; text-decoration-color: #7f7f7f\">                                     </span>│<span style=\"color: #7f7f7f; text-decoration-color: #7f7f7f\">                                     </span>│\n",
       "│<span style=\"color: #7f7f7f; text-decoration-color: #7f7f7f\"> indicate that while LLMs can        </span>│<span style=\"color: #7f7f7f; text-decoration-color: #7f7f7f\">                                     </span>│<span style=\"color: #7f7f7f; text-decoration-color: #7f7f7f\">                                     </span>│\n",
       "│<span style=\"color: #7f7f7f; text-decoration-color: #7f7f7f\"> predict the direction of causal     </span>│<span style=\"color: #7f7f7f; text-decoration-color: #7f7f7f\">                                     </span>│<span style=\"color: #7f7f7f; text-decoration-color: #7f7f7f\">                                     </span>│\n",
       "│<span style=\"color: #7f7f7f; text-decoration-color: #7f7f7f\"> effects, they struggle with the     </span>│<span style=\"color: #7f7f7f; text-decoration-color: #7f7f7f\">                                     </span>│<span style=\"color: #7f7f7f; text-decoration-color: #7f7f7f\">                                     </span>│\n",
       "│<span style=\"color: #7f7f7f; text-decoration-color: #7f7f7f\"> magnitude unless informed by a      </span>│<span style=\"color: #7f7f7f; text-decoration-color: #7f7f7f\">                                     </span>│<span style=\"color: #7f7f7f; text-decoration-color: #7f7f7f\">                                     </span>│\n",
       "│<span style=\"color: #7f7f7f; text-decoration-color: #7f7f7f\"> fitted SCM. The study suggests that </span>│<span style=\"color: #7f7f7f; text-decoration-color: #7f7f7f\">                                     </span>│<span style=\"color: #7f7f7f; text-decoration-color: #7f7f7f\">                                     </span>│\n",
       "│<span style=\"color: #7f7f7f; text-decoration-color: #7f7f7f\"> LLMs have latent knowledge that can </span>│<span style=\"color: #7f7f7f; text-decoration-color: #7f7f7f\">                                     </span>│<span style=\"color: #7f7f7f; text-decoration-color: #7f7f7f\">                                     </span>│\n",
       "│<span style=\"color: #7f7f7f; text-decoration-color: #7f7f7f\"> be better utilized when paired with </span>│<span style=\"color: #7f7f7f; text-decoration-color: #7f7f7f\">                                     </span>│<span style=\"color: #7f7f7f; text-decoration-color: #7f7f7f\">                                     </span>│\n",
       "│<span style=\"color: #7f7f7f; text-decoration-color: #7f7f7f\"> SCMs. The paper includes thanks for </span>│<span style=\"color: #7f7f7f; text-decoration-color: #7f7f7f\">                                     </span>│<span style=\"color: #7f7f7f; text-decoration-color: #7f7f7f\">                                     </span>│\n",
       "│<span style=\"color: #7f7f7f; text-decoration-color: #7f7f7f\"> support and feedback from various   </span>│<span style=\"color: #7f7f7f; text-decoration-color: #7f7f7f\">                                     </span>│<span style=\"color: #7f7f7f; text-decoration-color: #7f7f7f\">                                     </span>│\n",
       "│<span style=\"color: #7f7f7f; text-decoration-color: #7f7f7f\"> individuals and mentions that the   </span>│<span style=\"color: #7f7f7f; text-decoration-color: #7f7f7f\">                                     </span>│<span style=\"color: #7f7f7f; text-decoration-color: #7f7f7f\">                                     </span>│\n",
       "│<span style=\"color: #7f7f7f; text-decoration-color: #7f7f7f\"> authors' contact information, code, </span>│<span style=\"color: #7f7f7f; text-decoration-color: #7f7f7f\">                                     </span>│<span style=\"color: #7f7f7f; text-decoration-color: #7f7f7f\">                                     </span>│\n",
       "│<span style=\"color: #7f7f7f; text-decoration-color: #7f7f7f\"> and data will be available online.  </span>│<span style=\"color: #7f7f7f; text-decoration-color: #7f7f7f\">                                     </span>│<span style=\"color: #7f7f7f; text-decoration-color: #7f7f7f\">                                     </span>│\n",
       "└─────────────────────────────────────┴─────────────────────────────────────┴─────────────────────────────────────┘\n",
       "</pre>\n"
      ],
      "text/plain": [
       "┏━━━━━━━━━━━━━━━━━━━━━━━━━━━━━━━━━━━━━┳━━━━━━━━━━━━━━━━━━━━━━━━━━━━━━━━━━━━━┳━━━━━━━━━━━━━━━━━━━━━━━━━━━━━━━━━━━━━┓\n",
       "┃\u001b[1;35m \u001b[0m\u001b[1;35manswer                             \u001b[0m\u001b[1;35m \u001b[0m┃\u001b[1;35m \u001b[0m\u001b[1;35manswer                             \u001b[0m\u001b[1;35m \u001b[0m┃\u001b[1;35m \u001b[0m\u001b[1;35manswer                             \u001b[0m\u001b[1;35m \u001b[0m┃\n",
       "┃\u001b[1;35m \u001b[0m\u001b[1;35m.summary                           \u001b[0m\u001b[1;35m \u001b[0m┃\u001b[1;35m \u001b[0m\u001b[1;35m.authors                           \u001b[0m\u001b[1;35m \u001b[0m┃\u001b[1;35m \u001b[0m\u001b[1;35m.thanks                            \u001b[0m\u001b[1;35m \u001b[0m┃\n",
       "┡━━━━━━━━━━━━━━━━━━━━━━━━━━━━━━━━━━━━━╇━━━━━━━━━━━━━━━━━━━━━━━━━━━━━━━━━━━━━╇━━━━━━━━━━━━━━━━━━━━━━━━━━━━━━━━━━━━━┩\n",
       "│\u001b[2m \u001b[0m\u001b[2mThe abstract describes a novel     \u001b[0m\u001b[2m \u001b[0m│\u001b[2m \u001b[0m\u001b[2m['Benjamin S. Manning', 'Kehang    \u001b[0m\u001b[2m \u001b[0m│\u001b[2m \u001b[0m\u001b[2m['Drew Houston', 'Jordan           \u001b[0m\u001b[2m \u001b[0m│\n",
       "│\u001b[2m \u001b[0m\u001b[2mmethod for generating and testing  \u001b[0m\u001b[2m \u001b[0m│\u001b[2m \u001b[0m\u001b[2mZhu', 'John J. Horton']            \u001b[0m\u001b[2m \u001b[0m│\u001b[2m \u001b[0m\u001b[2mEllenberg', 'Benjamin Lira         \u001b[0m\u001b[2m \u001b[0m│\n",
       "│\u001b[2m \u001b[0m\u001b[2msocial science hypotheses using    \u001b[0m\u001b[2m \u001b[0m│\u001b[2m                                     \u001b[0m│\u001b[2m \u001b[0m\u001b[2mLuttges', 'David Holtz', 'Bruce    \u001b[0m\u001b[2m \u001b[0m│\n",
       "│\u001b[2m \u001b[0m\u001b[2mlarge language models (LLMs) and   \u001b[0m\u001b[2m \u001b[0m│\u001b[2m                                     \u001b[0m│\u001b[2m \u001b[0m\u001b[2mSacerdote', 'Paul Röttger',        \u001b[0m\u001b[2m \u001b[0m│\n",
       "│\u001b[2m \u001b[0m\u001b[2mstructural causal models (SCMs).   \u001b[0m\u001b[2m \u001b[0m│\u001b[2m                                     \u001b[0m│\u001b[2m \u001b[0m\u001b[2m'Mohammed Alsobay', 'Ray Duch',    \u001b[0m\u001b[2m \u001b[0m│\n",
       "│\u001b[2m \u001b[0m\u001b[2mSCMs help articulate hypotheses,   \u001b[0m\u001b[2m \u001b[0m│\u001b[2m                                     \u001b[0m│\u001b[2m \u001b[0m\u001b[2m'Matt Schwartz', 'David Autor',    \u001b[0m\u001b[2m \u001b[0m│\n",
       "│\u001b[2m \u001b[0m\u001b[2mconstruct LLM-based agents, design \u001b[0m\u001b[2m \u001b[0m│\u001b[2m                                     \u001b[0m│\u001b[2m \u001b[0m\u001b[2m'Dean Eckles']                     \u001b[0m\u001b[2m \u001b[0m│\n",
       "│\u001b[2m \u001b[0m\u001b[2mexperiments, and analyze data. The \u001b[0m\u001b[2m \u001b[0m│\u001b[2m                                     \u001b[0m│\u001b[2m                                     \u001b[0m│\n",
       "│\u001b[2m \u001b[0m\u001b[2mresearch applies this method to    \u001b[0m\u001b[2m \u001b[0m│\u001b[2m                                     \u001b[0m│\u001b[2m                                     \u001b[0m│\n",
       "│\u001b[2m \u001b[0m\u001b[2mvarious scenarios such as          \u001b[0m\u001b[2m \u001b[0m│\u001b[2m                                     \u001b[0m│\u001b[2m                                     \u001b[0m│\n",
       "│\u001b[2m \u001b[0m\u001b[2mnegotiations, bail hearings, job   \u001b[0m\u001b[2m \u001b[0m│\u001b[2m                                     \u001b[0m│\u001b[2m                                     \u001b[0m│\n",
       "│\u001b[2m \u001b[0m\u001b[2minterviews, and auctions, proposing\u001b[0m\u001b[2m \u001b[0m│\u001b[2m                                     \u001b[0m│\u001b[2m                                     \u001b[0m│\n",
       "│\u001b[2m \u001b[0m\u001b[2mand evaluating causal              \u001b[0m\u001b[2m \u001b[0m│\u001b[2m                                     \u001b[0m│\u001b[2m                                     \u001b[0m│\n",
       "│\u001b[2m \u001b[0m\u001b[2mrelationships. The findings        \u001b[0m\u001b[2m \u001b[0m│\u001b[2m                                     \u001b[0m│\u001b[2m                                     \u001b[0m│\n",
       "│\u001b[2m \u001b[0m\u001b[2mindicate that while LLMs can       \u001b[0m\u001b[2m \u001b[0m│\u001b[2m                                     \u001b[0m│\u001b[2m                                     \u001b[0m│\n",
       "│\u001b[2m \u001b[0m\u001b[2mpredict the direction of causal    \u001b[0m\u001b[2m \u001b[0m│\u001b[2m                                     \u001b[0m│\u001b[2m                                     \u001b[0m│\n",
       "│\u001b[2m \u001b[0m\u001b[2meffects, they struggle with the    \u001b[0m\u001b[2m \u001b[0m│\u001b[2m                                     \u001b[0m│\u001b[2m                                     \u001b[0m│\n",
       "│\u001b[2m \u001b[0m\u001b[2mmagnitude unless informed by a     \u001b[0m\u001b[2m \u001b[0m│\u001b[2m                                     \u001b[0m│\u001b[2m                                     \u001b[0m│\n",
       "│\u001b[2m \u001b[0m\u001b[2mfitted SCM. The study suggests that\u001b[0m\u001b[2m \u001b[0m│\u001b[2m                                     \u001b[0m│\u001b[2m                                     \u001b[0m│\n",
       "│\u001b[2m \u001b[0m\u001b[2mLLMs have latent knowledge that can\u001b[0m\u001b[2m \u001b[0m│\u001b[2m                                     \u001b[0m│\u001b[2m                                     \u001b[0m│\n",
       "│\u001b[2m \u001b[0m\u001b[2mbe better utilized when paired with\u001b[0m\u001b[2m \u001b[0m│\u001b[2m                                     \u001b[0m│\u001b[2m                                     \u001b[0m│\n",
       "│\u001b[2m \u001b[0m\u001b[2mSCMs. The paper includes thanks for\u001b[0m\u001b[2m \u001b[0m│\u001b[2m                                     \u001b[0m│\u001b[2m                                     \u001b[0m│\n",
       "│\u001b[2m \u001b[0m\u001b[2msupport and feedback from various  \u001b[0m\u001b[2m \u001b[0m│\u001b[2m                                     \u001b[0m│\u001b[2m                                     \u001b[0m│\n",
       "│\u001b[2m \u001b[0m\u001b[2mindividuals and mentions that the  \u001b[0m\u001b[2m \u001b[0m│\u001b[2m                                     \u001b[0m│\u001b[2m                                     \u001b[0m│\n",
       "│\u001b[2m \u001b[0m\u001b[2mauthors' contact information, code,\u001b[0m\u001b[2m \u001b[0m│\u001b[2m                                     \u001b[0m│\u001b[2m                                     \u001b[0m│\n",
       "│\u001b[2m \u001b[0m\u001b[2mand data will be available online. \u001b[0m\u001b[2m \u001b[0m│\u001b[2m                                     \u001b[0m│\u001b[2m                                     \u001b[0m│\n",
       "└─────────────────────────────────────┴─────────────────────────────────────┴─────────────────────────────────────┘\n"
      ]
     },
     "metadata": {},
     "output_type": "display_data"
    }
   ],
   "source": [
    "results.select(\"summary\", \"authors\", \"thanks\").print(format=\"rich\")"
   ]
  },
  {
   "cell_type": "markdown",
   "id": "0632f08a-b287-49e2-9fdd-47d00371747d",
   "metadata": {},
   "source": [
    "Please see our [documentation page](https://docs.expectedparrot.com/) for examples of other survey methods and use cases!"
   ]
  }
 ],
 "metadata": {
  "kernelspec": {
   "display_name": "Python 3 (ipykernel)",
   "language": "python",
   "name": "python3"
  },
  "language_info": {
   "codemirror_mode": {
    "name": "ipython",
    "version": 3
   },
   "file_extension": ".py",
   "mimetype": "text/x-python",
   "name": "python",
   "nbconvert_exporter": "python",
   "pygments_lexer": "ipython3",
   "version": "3.11.7"
  }
 },
 "nbformat": 4,
 "nbformat_minor": 5
}
