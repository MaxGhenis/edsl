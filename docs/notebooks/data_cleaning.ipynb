{
 "cells": [
  {
   "cell_type": "markdown",
   "id": "96bdbd4d-b0f9-447f-9f65-cbcf9e1dbe5c",
   "metadata": {},
   "source": [
    "# Data cleaning\n",
    "This notebook provides sample [EDSL](https://docs.expectedparrot.com/) code for automating a data cleaning task. In a series of steps we show how to use EDSL to automatically suggest appropriate sense checks for a given dataset and then run them to generate a new dataset of data failing the checks.\n",
    "\n",
    "EDSL is an open-source library for simulating surveys and experiments with AI agents and large language models. Please see our [documentation page](https://docs.expectedparrot.com/) for tips and tutorials on getting started."
   ]
  },
  {
   "cell_type": "markdown",
   "id": "0cfb6ddc-65a4-4f94-8125-f1d3e8e9bcd9",
   "metadata": {},
   "source": [
    "### Importing the tools\n",
    "EDSL comes with a [variety of question types](https://docs.expectedparrot.com/en/latest/questions.html) that we can choose from based on the desired form of the response (multiple choice, free text, etc.). Here we select `QuestionList` for prompting a model to generate a list of appropriate sense checks for a dataset, and `QuestionMultipleChoice` for generating responses to the sense check questions. `Scenario` objects are used to parameterize the questions with the data (explained below):"
   ]
  },
  {
   "cell_type": "code",
   "execution_count": 1,
   "id": "86a2d707-bf8d-461c-a1f1-f398a31b6fcb",
   "metadata": {},
   "outputs": [],
   "source": [
    "from edsl.questions import QuestionMultipleChoice, QuestionList\n",
    "from edsl import Scenario, Survey\n",
    "\n",
    "import pandas\n",
    "import random"
   ]
  },
  {
   "cell_type": "markdown",
   "id": "8dfba5a0-9ec5-4dc5-aff7-1709a7784998",
   "metadata": {},
   "source": [
    "We'll use some observations of ages as our dataset for cleaning. It's a list of random ages between 22 and 85 with some bad values mixed in:"
   ]
  },
  {
   "cell_type": "code",
   "execution_count": 2,
   "id": "38c26f8d-f026-41be-8b6f-259ac628d6a0",
   "metadata": {},
   "outputs": [],
   "source": [
    "ages = [\n",
    "84, 62, 79, 57, 59, 55, 68, 66, 47, 54, 76, 33, 74, 56, 47, 24, 23, 38, 38, 54, 51, 84, 71, 46, 38,\n",
    "26, 50, 56, 62, 39, 31, 52, 69, 84, 69, 48, 48, 23, 65, 54, 78, 51, 69, 77, 75, 76, 26, 44, 61, 32,\n",
    "70, 24, 74, 22, 32, 24, 80, 65, 36, 42, 84, 66, 40, 85, 28, 22, 67, 25, 70, 77, 53, 69, 64, 27, 61,\n",
    "68, 68, 78, 0.99, 83, 58, 33, 46, 43, 50, 85, 28, 82, 50, 61, 66, 32, 45, 70, 56, 50, 43, 30, 43, 55,\n",
    "33, 72, 43, 43, -5, 32, 43, 45, 67, 84, 37, 63, 52, 53, 58, 79, 79, 80, 62, 75, 57, 60, 39, 79, 49,\n",
    "60, 60, 37, 45, 36, 1050, 73, 70, 56, 39, 58, 69, 77, 68, 84, 78, 48, 31, 74, 27, 55, 56, 66, 35, 39,\n",
    "57, 47, 29, 24, 47, 60, 43, 37, 84, 64, 28, 22, 37, 71, 77, 76, 84, 63, 76, 58, 41, 72, 22, 63, 78,\n",
    "49, 82, 69, 'old', 37, 27, 29, 54, 83, 80, 74, 48, 76, 49, 26, 38, 35, 36, 25, 23, 71, 33, 39, 40, 35,\n",
    "85, 24, 57, 85, 63, 53, 62, 47, 69, 76, 71, 48, 62, 23, 25, 84, 32, 63, 75, 31, 25, 50, 85, 36, 58,\n",
    "85, 34, 62, 43, 2, 50, 83, 44, 73, 81, 44, 43, 82, 84, 30, 24, 63, 63, 59, 46, 30, 62, 25, 52, 23\n",
    "]"
   ]
  },
  {
   "cell_type": "markdown",
   "id": "4e86b9ad-811a-45c2-80d9-58ebce7ac3be",
   "metadata": {},
   "source": [
    "Next we create a question prompting a model to draft a list of sense check questions about each piece of data. We provide a description and sample of the data, and specify that the sense checks should be formatted as dictionaries so that we can readily transform them into new EDSL questions that we will have the model answer. Note that we specially instruct the model to include a placeholder for a piece of data in the question texts so that we can run them for each piece of data all at once, using `Scenario` objects ([learn more about using scenarios](https://docs.expectedparrot.com/en/latest/scenarios.html)):"
   ]
  },
  {
   "cell_type": "code",
   "execution_count": 3,
   "id": "e2865dfd-d52a-41e5-8e69-3572b7fe23c5",
   "metadata": {},
   "outputs": [],
   "source": [
    "data_description = \"a list of ages (in years) of adult participants in a social science experiment\"\n",
    "sample_data = random.sample(ages, 5)\n",
    "number_of_questions = 4"
   ]
  },
  {
   "cell_type": "code",
   "execution_count": 4,
   "id": "bf96b831-7831-4531-b49c-60c00c4837ea",
   "metadata": {},
   "outputs": [],
   "source": [
    "q = QuestionList(\n",
    "    question_name = \"data_cleaning_questions\",\n",
    "    question_text = f\"\"\"Consider a dataset consisting of {data_description}.\n",
    "    Here is a sample of the data: {sample_data}.\n",
    "    Draft a set of {number_of_questions} appropriate sense checks for this dataset, formatted as a list \n",
    "    of dictionaries where each dictionary has keys 'question_name', 'question_text' and 'question_options'. \n",
    "    The 'question_name' should be formatted 'q0', 'q1,' etc.\n",
    "    The 'question_text' should be questions to be asked about each piece of data individually and without \n",
    "    reference to other data, using '<data>' as a placeholder for the piece of data in each question text. \n",
    "    The question_options should be complete, appropriate sets of responses for the corresponding question \n",
    "    that provide clariety about potential problems with the individual piece of data.\"\"\",\n",
    "    max_list_items = number_of_questions\n",
    ")"
   ]
  },
  {
   "cell_type": "markdown",
   "id": "2df10478-a481-4822-b051-a7d253777d34",
   "metadata": {},
   "source": [
    "We generate a response by calling the `run()` method for the question. This generates a dataset of `Results` that we can begin analyzing:"
   ]
  },
  {
   "cell_type": "code",
   "execution_count": 5,
   "id": "878b82bc-cd03-43bb-a28a-34138d5c5241",
   "metadata": {},
   "outputs": [],
   "source": [
    "results = q.run()"
   ]
  },
  {
   "cell_type": "markdown",
   "id": "047419b4-5cf3-4e82-b0a7-b23fed6fa195",
   "metadata": {},
   "source": [
    "EDSL comes with [built-in methods for analyzing results](https://docs.expectedparrot.com/en/latest/results.html) as datasets, dataframes, JSON and other forms. We can inspect a list of all the components that are directly accessible:"
   ]
  },
  {
   "cell_type": "code",
   "execution_count": 6,
   "id": "fc3c8fc6-2d48-4a80-85b8-0b99ba571ca6",
   "metadata": {},
   "outputs": [
    {
     "data": {
      "text/plain": [
       "['agent.agent_instruction',\n",
       " 'agent.agent_name',\n",
       " 'answer.data_cleaning_questions',\n",
       " 'comment.data_cleaning_questions_comment',\n",
       " 'iteration.iteration',\n",
       " 'model.frequency_penalty',\n",
       " 'model.logprobs',\n",
       " 'model.max_tokens',\n",
       " 'model.model',\n",
       " 'model.presence_penalty',\n",
       " 'model.temperature',\n",
       " 'model.top_logprobs',\n",
       " 'model.top_p',\n",
       " 'prompt.data_cleaning_questions_system_prompt',\n",
       " 'prompt.data_cleaning_questions_user_prompt',\n",
       " 'question_options.data_cleaning_questions_question_options',\n",
       " 'question_text.data_cleaning_questions_question_text',\n",
       " 'question_type.data_cleaning_questions_question_type',\n",
       " 'raw_model_response.data_cleaning_questions_raw_model_response']"
      ]
     },
     "execution_count": 6,
     "metadata": {},
     "output_type": "execute_result"
    }
   ],
   "source": [
    "results.columns"
   ]
  },
  {
   "cell_type": "markdown",
   "id": "00140874-1218-4f31-8454-ae618730b7f9",
   "metadata": {},
   "source": [
    "Here we select just the response and print it in a table:"
   ]
  },
  {
   "cell_type": "code",
   "execution_count": 7,
   "id": "4d443009-ad52-4562-a2e4-1c1cbfa15294",
   "metadata": {},
   "outputs": [
    {
     "data": {
      "text/html": [
       "<pre style=\"white-space:pre;overflow-x:auto;line-height:normal;font-family:Menlo,'DejaVu Sans Mono',consolas,'Courier New',monospace\">┏━━━━━━━━━━━━━━━━━━━━━━━━━━━━━━━━━━━━━━━━━━━━━━━━━━━━━━━━━━━━━━━━━━━━━━━━━━━━━━━━━━━━━━━━━━━━━━━━━━━━━━━━━━━━━━━━━┓\n",
       "┃<span style=\"color: #800080; text-decoration-color: #800080; font-weight: bold\"> answer                                                                                                          </span>┃\n",
       "┃<span style=\"color: #800080; text-decoration-color: #800080; font-weight: bold\"> .data_cleaning_questions                                                                                        </span>┃\n",
       "┡━━━━━━━━━━━━━━━━━━━━━━━━━━━━━━━━━━━━━━━━━━━━━━━━━━━━━━━━━━━━━━━━━━━━━━━━━━━━━━━━━━━━━━━━━━━━━━━━━━━━━━━━━━━━━━━━━┩\n",
       "│<span style=\"color: #7f7f7f; text-decoration-color: #7f7f7f\"> [{'question_name': 'q0', 'question_text': 'Is the age &lt;data&gt; a reasonable value for an adult participant?',     </span>│\n",
       "│<span style=\"color: #7f7f7f; text-decoration-color: #7f7f7f\"> 'question_options': ['Yes', \"No, it's too low\", \"No, it's too high\", \"No, it's not a number\"]},                 </span>│\n",
       "│<span style=\"color: #7f7f7f; text-decoration-color: #7f7f7f\"> {'question_name': 'q1', 'question_text': 'Does the age &lt;data&gt; follow the expected numerical format (integer)?', </span>│\n",
       "│<span style=\"color: #7f7f7f; text-decoration-color: #7f7f7f\"> 'question_options': ['Yes', 'No, it contains decimal points', 'No, it includes non-numeric characters', \"No,    </span>│\n",
       "│<span style=\"color: #7f7f7f; text-decoration-color: #7f7f7f\"> it's not a number at all\"]}, {'question_name': 'q2', 'question_text': 'Is the age &lt;data&gt; within the typical     </span>│\n",
       "│<span style=\"color: #7f7f7f; text-decoration-color: #7f7f7f\"> lifespan of a human being?', 'question_options': ['Yes', \"No, it's unusually high\", \"No, it's negative\", \"No,   </span>│\n",
       "│<span style=\"color: #7f7f7f; text-decoration-color: #7f7f7f\"> it's not a valid age\"]}, {'question_name': 'q3', 'question_text': 'Is the age &lt;data&gt; indicative of a living     </span>│\n",
       "│<span style=\"color: #7f7f7f; text-decoration-color: #7f7f7f\"> adult human?', 'question_options': ['Yes', \"No, it's below the adult age threshold\", \"No, it's implausibly      </span>│\n",
       "│<span style=\"color: #7f7f7f; text-decoration-color: #7f7f7f\"> high\", \"No, it's not a valid age\"]}]                                                                            </span>│\n",
       "└─────────────────────────────────────────────────────────────────────────────────────────────────────────────────┘\n",
       "</pre>\n"
      ],
      "text/plain": [
       "┏━━━━━━━━━━━━━━━━━━━━━━━━━━━━━━━━━━━━━━━━━━━━━━━━━━━━━━━━━━━━━━━━━━━━━━━━━━━━━━━━━━━━━━━━━━━━━━━━━━━━━━━━━━━━━━━━━┓\n",
       "┃\u001b[1;35m \u001b[0m\u001b[1;35manswer                                                                                                         \u001b[0m\u001b[1;35m \u001b[0m┃\n",
       "┃\u001b[1;35m \u001b[0m\u001b[1;35m.data_cleaning_questions                                                                                       \u001b[0m\u001b[1;35m \u001b[0m┃\n",
       "┡━━━━━━━━━━━━━━━━━━━━━━━━━━━━━━━━━━━━━━━━━━━━━━━━━━━━━━━━━━━━━━━━━━━━━━━━━━━━━━━━━━━━━━━━━━━━━━━━━━━━━━━━━━━━━━━━━┩\n",
       "│\u001b[2m \u001b[0m\u001b[2m[{'question_name': 'q0', 'question_text': 'Is the age <data> a reasonable value for an adult participant?',    \u001b[0m\u001b[2m \u001b[0m│\n",
       "│\u001b[2m \u001b[0m\u001b[2m'question_options': ['Yes', \"No, it's too low\", \"No, it's too high\", \"No, it's not a number\"]},                \u001b[0m\u001b[2m \u001b[0m│\n",
       "│\u001b[2m \u001b[0m\u001b[2m{'question_name': 'q1', 'question_text': 'Does the age <data> follow the expected numerical format (integer)?',\u001b[0m\u001b[2m \u001b[0m│\n",
       "│\u001b[2m \u001b[0m\u001b[2m'question_options': ['Yes', 'No, it contains decimal points', 'No, it includes non-numeric characters', \"No,   \u001b[0m\u001b[2m \u001b[0m│\n",
       "│\u001b[2m \u001b[0m\u001b[2mit's not a number at all\"]}, {'question_name': 'q2', 'question_text': 'Is the age <data> within the typical    \u001b[0m\u001b[2m \u001b[0m│\n",
       "│\u001b[2m \u001b[0m\u001b[2mlifespan of a human being?', 'question_options': ['Yes', \"No, it's unusually high\", \"No, it's negative\", \"No,  \u001b[0m\u001b[2m \u001b[0m│\n",
       "│\u001b[2m \u001b[0m\u001b[2mit's not a valid age\"]}, {'question_name': 'q3', 'question_text': 'Is the age <data> indicative of a living    \u001b[0m\u001b[2m \u001b[0m│\n",
       "│\u001b[2m \u001b[0m\u001b[2madult human?', 'question_options': ['Yes', \"No, it's below the adult age threshold\", \"No, it's implausibly     \u001b[0m\u001b[2m \u001b[0m│\n",
       "│\u001b[2m \u001b[0m\u001b[2mhigh\", \"No, it's not a valid age\"]}]                                                                           \u001b[0m\u001b[2m \u001b[0m│\n",
       "└─────────────────────────────────────────────────────────────────────────────────────────────────────────────────┘\n"
      ]
     },
     "metadata": {},
     "output_type": "display_data"
    }
   ],
   "source": [
    "results.select(\"data_cleaning_questions\").print(format=\"rich\")"
   ]
  },
  {
   "cell_type": "markdown",
   "id": "8de83e7f-e3a5-4ae6-b1f6-eb8bd4712219",
   "metadata": {},
   "source": [
    "We can extract the responses to use to create new `Question` objects to run the sense checks with the data:"
   ]
  },
  {
   "cell_type": "code",
   "execution_count": 8,
   "id": "881453f3-7e42-4caa-8ccc-efa17b723411",
   "metadata": {},
   "outputs": [
    {
     "data": {
      "text/plain": [
       "[{'question_name': 'q0',\n",
       "  'question_text': 'Is the age <data> a reasonable value for an adult participant?',\n",
       "  'question_options': ['Yes',\n",
       "   \"No, it's too low\",\n",
       "   \"No, it's too high\",\n",
       "   \"No, it's not a number\"]},\n",
       " {'question_name': 'q1',\n",
       "  'question_text': 'Does the age <data> follow the expected numerical format (integer)?',\n",
       "  'question_options': ['Yes',\n",
       "   'No, it contains decimal points',\n",
       "   'No, it includes non-numeric characters',\n",
       "   \"No, it's not a number at all\"]},\n",
       " {'question_name': 'q2',\n",
       "  'question_text': 'Is the age <data> within the typical lifespan of a human being?',\n",
       "  'question_options': ['Yes',\n",
       "   \"No, it's unusually high\",\n",
       "   \"No, it's negative\",\n",
       "   \"No, it's not a valid age\"]},\n",
       " {'question_name': 'q3',\n",
       "  'question_text': 'Is the age <data> indicative of a living adult human?',\n",
       "  'question_options': ['Yes',\n",
       "   \"No, it's below the adult age threshold\",\n",
       "   \"No, it's implausibly high\",\n",
       "   \"No, it's not a valid age\"]}]"
      ]
     },
     "execution_count": 8,
     "metadata": {},
     "output_type": "execute_result"
    }
   ],
   "source": [
    "data_cleaning_questions = results.select(\"data_cleaning_questions\").to_list()[0]\n",
    "data_cleaning_questions"
   ]
  },
  {
   "cell_type": "markdown",
   "id": "9a9f9f55-3799-4ec2-99f3-55bb5bf3eb77",
   "metadata": {},
   "source": [
    "Here we can make any desired edits to the proposed questions, and then use them to create new formatted questions which we combine into a `Survey` to administer all at once to the model ([learn more about constructing surveys](https://docs.expectedparrot.com/en/latest/surveys.html):"
   ]
  },
  {
   "cell_type": "code",
   "execution_count": 9,
   "id": "3af68946-8d30-4ec4-bd56-bc42de54a980",
   "metadata": {},
   "outputs": [
    {
     "data": {
      "text/plain": [
       "[Question('multiple_choice', question_name = 'q0', question_text = 'Is the age {{ age }} a reasonable value for an adult participant?', question_options = ['Yes', \"No, it's too low\", \"No, it's too high\", \"No, it's not a number\"]),\n",
       " Question('multiple_choice', question_name = 'q1', question_text = 'Does the age {{ age }} follow the expected numerical format (integer)?', question_options = ['Yes', 'No, it contains decimal points', 'No, it includes non-numeric characters', \"No, it's not a number at all\"]),\n",
       " Question('multiple_choice', question_name = 'q2', question_text = 'Is the age {{ age }} within the typical lifespan of a human being?', question_options = ['Yes', \"No, it's unusually high\", \"No, it's negative\", \"No, it's not a valid age\"]),\n",
       " Question('multiple_choice', question_name = 'q3', question_text = 'Is the age {{ age }} indicative of a living adult human?', question_options = ['Yes', \"No, it's below the adult age threshold\", \"No, it's implausibly high\", \"No, it's not a valid age\"])]"
      ]
     },
     "execution_count": 9,
     "metadata": {},
     "output_type": "execute_result"
    }
   ],
   "source": [
    "questions = []\n",
    "\n",
    "for q in data_cleaning_questions:\n",
    "    question_name = q[\"question_name\"]\n",
    "    question_text = q[\"question_text\"]\n",
    "    question_options = q[\"question_options\"]\n",
    "        \n",
    "    new_q = QuestionMultipleChoice(\n",
    "        question_name = question_name,\n",
    "        question_text = question_text.replace(\"<data>\", \"{{ age }}\"),\n",
    "        question_options = question_options\n",
    "    )\n",
    "    questions.append(new_q)\n",
    "\n",
    "questions"
   ]
  },
  {
   "cell_type": "code",
   "execution_count": 10,
   "id": "38c67b34-d063-4c9f-aa54-9fbf25fae80c",
   "metadata": {},
   "outputs": [],
   "source": [
    "survey = Survey(questions)"
   ]
  },
  {
   "cell_type": "markdown",
   "id": "b459eba6-87cb-4888-9013-21c9308eaddd",
   "metadata": {},
   "source": [
    "We create `Scenario` objects for the individual ages that we will insert in the question texts when we run the survey. This allows us to efficiently run multiple versions of the questions at once ([learn more about using scenarios](https://docs.expectedparrot.com/en/latest/scenarios.html)):"
   ]
  },
  {
   "cell_type": "code",
   "execution_count": 11,
   "id": "bee27036-bf0e-4174-8322-49cf0042e455",
   "metadata": {},
   "outputs": [],
   "source": [
    "scenarios = [Scenario({\"age\":age}) for age in ages]"
   ]
  },
  {
   "cell_type": "markdown",
   "id": "5b1ade3e-5b54-48de-90ad-b258f63c7758",
   "metadata": {},
   "source": [
    "Finally, we add the scenarios to the survey and run it. The new results will include a `Result` for each response to the survey:"
   ]
  },
  {
   "cell_type": "code",
   "execution_count": 12,
   "id": "da0593d6-b8a2-41b7-b6c6-35427f3c24f3",
   "metadata": {},
   "outputs": [],
   "source": [
    "results = survey.by(scenarios).run()"
   ]
  },
  {
   "cell_type": "markdown",
   "id": "4f68be47-ab58-461c-872b-fc4d5d44f31b",
   "metadata": {},
   "source": [
    "Here we inspect all the components of these new results, print a table of a set of them (set `max_rows`), and then print a table where the results are filtered to cases for review, based on the responses to the questions (see the `filter` logic):"
   ]
  },
  {
   "cell_type": "code",
   "execution_count": 13,
   "id": "b7c28110-17b4-48db-9199-e0bf8d8e7db0",
   "metadata": {},
   "outputs": [
    {
     "data": {
      "text/plain": [
       "['agent.agent_instruction',\n",
       " 'agent.agent_name',\n",
       " 'answer.q0',\n",
       " 'answer.q1',\n",
       " 'answer.q2',\n",
       " 'answer.q3',\n",
       " 'comment.q0_comment',\n",
       " 'comment.q1_comment',\n",
       " 'comment.q2_comment',\n",
       " 'comment.q3_comment',\n",
       " 'iteration.iteration',\n",
       " 'model.frequency_penalty',\n",
       " 'model.logprobs',\n",
       " 'model.max_tokens',\n",
       " 'model.model',\n",
       " 'model.presence_penalty',\n",
       " 'model.temperature',\n",
       " 'model.top_logprobs',\n",
       " 'model.top_p',\n",
       " 'prompt.q0_system_prompt',\n",
       " 'prompt.q0_user_prompt',\n",
       " 'prompt.q1_system_prompt',\n",
       " 'prompt.q1_user_prompt',\n",
       " 'prompt.q2_system_prompt',\n",
       " 'prompt.q2_user_prompt',\n",
       " 'prompt.q3_system_prompt',\n",
       " 'prompt.q3_user_prompt',\n",
       " 'question_options.q0_question_options',\n",
       " 'question_options.q1_question_options',\n",
       " 'question_options.q2_question_options',\n",
       " 'question_options.q3_question_options',\n",
       " 'question_text.q0_question_text',\n",
       " 'question_text.q1_question_text',\n",
       " 'question_text.q2_question_text',\n",
       " 'question_text.q3_question_text',\n",
       " 'question_type.q0_question_type',\n",
       " 'question_type.q1_question_type',\n",
       " 'question_type.q2_question_type',\n",
       " 'question_type.q3_question_type',\n",
       " 'raw_model_response.q0_raw_model_response',\n",
       " 'raw_model_response.q1_raw_model_response',\n",
       " 'raw_model_response.q2_raw_model_response',\n",
       " 'raw_model_response.q3_raw_model_response',\n",
       " 'scenario.age',\n",
       " 'scenario.edsl_class_name',\n",
       " 'scenario.edsl_version']"
      ]
     },
     "execution_count": 13,
     "metadata": {},
     "output_type": "execute_result"
    }
   ],
   "source": [
    "results.columns"
   ]
  },
  {
   "cell_type": "code",
   "execution_count": 14,
   "id": "9c39f6ad-3709-419c-95c8-aa273aebabed",
   "metadata": {},
   "outputs": [
    {
     "name": "stdout",
     "output_type": "stream",
     "text": [
      "Showing only the first 10 rows of 250 rows.\n"
     ]
    },
    {
     "data": {
      "text/html": [
       "<pre style=\"white-space:pre;overflow-x:auto;line-height:normal;font-family:Menlo,'DejaVu Sans Mono',consolas,'Courier New',monospace\">┏━━━━━━━━━━┳━━━━━━━━━━━━━━━━━━━┳━━━━━━━━━━━━━━━━━━━━━━━━━━━┳━━━━━━━━━━━━━━━━━━━┳━━━━━━━━━━━━━━━━━━━━━━━━━┓\n",
       "┃<span style=\"color: #800080; text-decoration-color: #800080; font-weight: bold\"> scenario </span>┃<span style=\"color: #800080; text-decoration-color: #800080; font-weight: bold\"> question_text     </span>┃<span style=\"color: #800080; text-decoration-color: #800080; font-weight: bold\"> question_text             </span>┃<span style=\"color: #800080; text-decoration-color: #800080; font-weight: bold\"> question_text     </span>┃<span style=\"color: #800080; text-decoration-color: #800080; font-weight: bold\"> question_text           </span>┃\n",
       "┃<span style=\"color: #800080; text-decoration-color: #800080; font-weight: bold\"> .age     </span>┃<span style=\"color: #800080; text-decoration-color: #800080; font-weight: bold\"> .q0_question_text </span>┃<span style=\"color: #800080; text-decoration-color: #800080; font-weight: bold\"> .q3_question_text         </span>┃<span style=\"color: #800080; text-decoration-color: #800080; font-weight: bold\"> .q1_question_text </span>┃<span style=\"color: #800080; text-decoration-color: #800080; font-weight: bold\"> .q2_question_text       </span>┃\n",
       "┡━━━━━━━━━━╇━━━━━━━━━━━━━━━━━━━╇━━━━━━━━━━━━━━━━━━━━━━━━━━━╇━━━━━━━━━━━━━━━━━━━╇━━━━━━━━━━━━━━━━━━━━━━━━━┩\n",
       "│<span style=\"color: #7f7f7f; text-decoration-color: #7f7f7f\"> 32       </span>│<span style=\"color: #7f7f7f; text-decoration-color: #7f7f7f\"> Yes               </span>│<span style=\"color: #7f7f7f; text-decoration-color: #7f7f7f\"> Yes                       </span>│<span style=\"color: #7f7f7f; text-decoration-color: #7f7f7f\"> Yes               </span>│<span style=\"color: #7f7f7f; text-decoration-color: #7f7f7f\"> Yes                     </span>│\n",
       "├──────────┼───────────────────┼───────────────────────────┼───────────────────┼─────────────────────────┤\n",
       "│<span style=\"color: #7f7f7f; text-decoration-color: #7f7f7f\"> 52       </span>│<span style=\"color: #7f7f7f; text-decoration-color: #7f7f7f\"> Yes               </span>│<span style=\"color: #7f7f7f; text-decoration-color: #7f7f7f\"> Yes                       </span>│<span style=\"color: #7f7f7f; text-decoration-color: #7f7f7f\"> Yes               </span>│<span style=\"color: #7f7f7f; text-decoration-color: #7f7f7f\"> Yes                     </span>│\n",
       "├──────────┼───────────────────┼───────────────────────────┼───────────────────┼─────────────────────────┤\n",
       "│<span style=\"color: #7f7f7f; text-decoration-color: #7f7f7f\"> 61       </span>│<span style=\"color: #7f7f7f; text-decoration-color: #7f7f7f\"> Yes               </span>│<span style=\"color: #7f7f7f; text-decoration-color: #7f7f7f\"> Yes                       </span>│<span style=\"color: #7f7f7f; text-decoration-color: #7f7f7f\"> Yes               </span>│<span style=\"color: #7f7f7f; text-decoration-color: #7f7f7f\"> Yes                     </span>│\n",
       "├──────────┼───────────────────┼───────────────────────────┼───────────────────┼─────────────────────────┤\n",
       "│<span style=\"color: #7f7f7f; text-decoration-color: #7f7f7f\"> 43       </span>│<span style=\"color: #7f7f7f; text-decoration-color: #7f7f7f\"> Yes               </span>│<span style=\"color: #7f7f7f; text-decoration-color: #7f7f7f\"> Yes                       </span>│<span style=\"color: #7f7f7f; text-decoration-color: #7f7f7f\"> Yes               </span>│<span style=\"color: #7f7f7f; text-decoration-color: #7f7f7f\"> Yes                     </span>│\n",
       "├──────────┼───────────────────┼───────────────────────────┼───────────────────┼─────────────────────────┤\n",
       "│<span style=\"color: #7f7f7f; text-decoration-color: #7f7f7f\"> 79       </span>│<span style=\"color: #7f7f7f; text-decoration-color: #7f7f7f\"> Yes               </span>│<span style=\"color: #7f7f7f; text-decoration-color: #7f7f7f\"> Yes                       </span>│<span style=\"color: #7f7f7f; text-decoration-color: #7f7f7f\"> Yes               </span>│<span style=\"color: #7f7f7f; text-decoration-color: #7f7f7f\"> Yes                     </span>│\n",
       "├──────────┼───────────────────┼───────────────────────────┼───────────────────┼─────────────────────────┤\n",
       "│<span style=\"color: #7f7f7f; text-decoration-color: #7f7f7f\"> 68       </span>│<span style=\"color: #7f7f7f; text-decoration-color: #7f7f7f\"> Yes               </span>│<span style=\"color: #7f7f7f; text-decoration-color: #7f7f7f\"> Yes                       </span>│<span style=\"color: #7f7f7f; text-decoration-color: #7f7f7f\"> Yes               </span>│<span style=\"color: #7f7f7f; text-decoration-color: #7f7f7f\"> Yes                     </span>│\n",
       "├──────────┼───────────────────┼───────────────────────────┼───────────────────┼─────────────────────────┤\n",
       "│<span style=\"color: #7f7f7f; text-decoration-color: #7f7f7f\"> 1050     </span>│<span style=\"color: #7f7f7f; text-decoration-color: #7f7f7f\"> No, it's too high </span>│<span style=\"color: #7f7f7f; text-decoration-color: #7f7f7f\"> No, it's implausibly high </span>│<span style=\"color: #7f7f7f; text-decoration-color: #7f7f7f\"> Yes               </span>│<span style=\"color: #7f7f7f; text-decoration-color: #7f7f7f\"> No, it's unusually high </span>│\n",
       "├──────────┼───────────────────┼───────────────────────────┼───────────────────┼─────────────────────────┤\n",
       "│<span style=\"color: #7f7f7f; text-decoration-color: #7f7f7f\"> 78       </span>│<span style=\"color: #7f7f7f; text-decoration-color: #7f7f7f\"> Yes               </span>│<span style=\"color: #7f7f7f; text-decoration-color: #7f7f7f\"> Yes                       </span>│<span style=\"color: #7f7f7f; text-decoration-color: #7f7f7f\"> Yes               </span>│<span style=\"color: #7f7f7f; text-decoration-color: #7f7f7f\"> Yes                     </span>│\n",
       "├──────────┼───────────────────┼───────────────────────────┼───────────────────┼─────────────────────────┤\n",
       "│<span style=\"color: #7f7f7f; text-decoration-color: #7f7f7f\"> 56       </span>│<span style=\"color: #7f7f7f; text-decoration-color: #7f7f7f\"> Yes               </span>│<span style=\"color: #7f7f7f; text-decoration-color: #7f7f7f\"> Yes                       </span>│<span style=\"color: #7f7f7f; text-decoration-color: #7f7f7f\"> Yes               </span>│<span style=\"color: #7f7f7f; text-decoration-color: #7f7f7f\"> Yes                     </span>│\n",
       "├──────────┼───────────────────┼───────────────────────────┼───────────────────┼─────────────────────────┤\n",
       "│<span style=\"color: #7f7f7f; text-decoration-color: #7f7f7f\"> 28       </span>│<span style=\"color: #7f7f7f; text-decoration-color: #7f7f7f\"> Yes               </span>│<span style=\"color: #7f7f7f; text-decoration-color: #7f7f7f\"> Yes                       </span>│<span style=\"color: #7f7f7f; text-decoration-color: #7f7f7f\"> Yes               </span>│<span style=\"color: #7f7f7f; text-decoration-color: #7f7f7f\"> Yes                     </span>│\n",
       "└──────────┴───────────────────┴───────────────────────────┴───────────────────┴─────────────────────────┘\n",
       "</pre>\n"
      ],
      "text/plain": [
       "┏━━━━━━━━━━┳━━━━━━━━━━━━━━━━━━━┳━━━━━━━━━━━━━━━━━━━━━━━━━━━┳━━━━━━━━━━━━━━━━━━━┳━━━━━━━━━━━━━━━━━━━━━━━━━┓\n",
       "┃\u001b[1;35m \u001b[0m\u001b[1;35mscenario\u001b[0m\u001b[1;35m \u001b[0m┃\u001b[1;35m \u001b[0m\u001b[1;35mquestion_text    \u001b[0m\u001b[1;35m \u001b[0m┃\u001b[1;35m \u001b[0m\u001b[1;35mquestion_text            \u001b[0m\u001b[1;35m \u001b[0m┃\u001b[1;35m \u001b[0m\u001b[1;35mquestion_text    \u001b[0m\u001b[1;35m \u001b[0m┃\u001b[1;35m \u001b[0m\u001b[1;35mquestion_text          \u001b[0m\u001b[1;35m \u001b[0m┃\n",
       "┃\u001b[1;35m \u001b[0m\u001b[1;35m.age    \u001b[0m\u001b[1;35m \u001b[0m┃\u001b[1;35m \u001b[0m\u001b[1;35m.q0_question_text\u001b[0m\u001b[1;35m \u001b[0m┃\u001b[1;35m \u001b[0m\u001b[1;35m.q3_question_text        \u001b[0m\u001b[1;35m \u001b[0m┃\u001b[1;35m \u001b[0m\u001b[1;35m.q1_question_text\u001b[0m\u001b[1;35m \u001b[0m┃\u001b[1;35m \u001b[0m\u001b[1;35m.q2_question_text      \u001b[0m\u001b[1;35m \u001b[0m┃\n",
       "┡━━━━━━━━━━╇━━━━━━━━━━━━━━━━━━━╇━━━━━━━━━━━━━━━━━━━━━━━━━━━╇━━━━━━━━━━━━━━━━━━━╇━━━━━━━━━━━━━━━━━━━━━━━━━┩\n",
       "│\u001b[2m \u001b[0m\u001b[2m32      \u001b[0m\u001b[2m \u001b[0m│\u001b[2m \u001b[0m\u001b[2mYes              \u001b[0m\u001b[2m \u001b[0m│\u001b[2m \u001b[0m\u001b[2mYes                      \u001b[0m\u001b[2m \u001b[0m│\u001b[2m \u001b[0m\u001b[2mYes              \u001b[0m\u001b[2m \u001b[0m│\u001b[2m \u001b[0m\u001b[2mYes                    \u001b[0m\u001b[2m \u001b[0m│\n",
       "├──────────┼───────────────────┼───────────────────────────┼───────────────────┼─────────────────────────┤\n",
       "│\u001b[2m \u001b[0m\u001b[2m52      \u001b[0m\u001b[2m \u001b[0m│\u001b[2m \u001b[0m\u001b[2mYes              \u001b[0m\u001b[2m \u001b[0m│\u001b[2m \u001b[0m\u001b[2mYes                      \u001b[0m\u001b[2m \u001b[0m│\u001b[2m \u001b[0m\u001b[2mYes              \u001b[0m\u001b[2m \u001b[0m│\u001b[2m \u001b[0m\u001b[2mYes                    \u001b[0m\u001b[2m \u001b[0m│\n",
       "├──────────┼───────────────────┼───────────────────────────┼───────────────────┼─────────────────────────┤\n",
       "│\u001b[2m \u001b[0m\u001b[2m61      \u001b[0m\u001b[2m \u001b[0m│\u001b[2m \u001b[0m\u001b[2mYes              \u001b[0m\u001b[2m \u001b[0m│\u001b[2m \u001b[0m\u001b[2mYes                      \u001b[0m\u001b[2m \u001b[0m│\u001b[2m \u001b[0m\u001b[2mYes              \u001b[0m\u001b[2m \u001b[0m│\u001b[2m \u001b[0m\u001b[2mYes                    \u001b[0m\u001b[2m \u001b[0m│\n",
       "├──────────┼───────────────────┼───────────────────────────┼───────────────────┼─────────────────────────┤\n",
       "│\u001b[2m \u001b[0m\u001b[2m43      \u001b[0m\u001b[2m \u001b[0m│\u001b[2m \u001b[0m\u001b[2mYes              \u001b[0m\u001b[2m \u001b[0m│\u001b[2m \u001b[0m\u001b[2mYes                      \u001b[0m\u001b[2m \u001b[0m│\u001b[2m \u001b[0m\u001b[2mYes              \u001b[0m\u001b[2m \u001b[0m│\u001b[2m \u001b[0m\u001b[2mYes                    \u001b[0m\u001b[2m \u001b[0m│\n",
       "├──────────┼───────────────────┼───────────────────────────┼───────────────────┼─────────────────────────┤\n",
       "│\u001b[2m \u001b[0m\u001b[2m79      \u001b[0m\u001b[2m \u001b[0m│\u001b[2m \u001b[0m\u001b[2mYes              \u001b[0m\u001b[2m \u001b[0m│\u001b[2m \u001b[0m\u001b[2mYes                      \u001b[0m\u001b[2m \u001b[0m│\u001b[2m \u001b[0m\u001b[2mYes              \u001b[0m\u001b[2m \u001b[0m│\u001b[2m \u001b[0m\u001b[2mYes                    \u001b[0m\u001b[2m \u001b[0m│\n",
       "├──────────┼───────────────────┼───────────────────────────┼───────────────────┼─────────────────────────┤\n",
       "│\u001b[2m \u001b[0m\u001b[2m68      \u001b[0m\u001b[2m \u001b[0m│\u001b[2m \u001b[0m\u001b[2mYes              \u001b[0m\u001b[2m \u001b[0m│\u001b[2m \u001b[0m\u001b[2mYes                      \u001b[0m\u001b[2m \u001b[0m│\u001b[2m \u001b[0m\u001b[2mYes              \u001b[0m\u001b[2m \u001b[0m│\u001b[2m \u001b[0m\u001b[2mYes                    \u001b[0m\u001b[2m \u001b[0m│\n",
       "├──────────┼───────────────────┼───────────────────────────┼───────────────────┼─────────────────────────┤\n",
       "│\u001b[2m \u001b[0m\u001b[2m1050    \u001b[0m\u001b[2m \u001b[0m│\u001b[2m \u001b[0m\u001b[2mNo, it's too high\u001b[0m\u001b[2m \u001b[0m│\u001b[2m \u001b[0m\u001b[2mNo, it's implausibly high\u001b[0m\u001b[2m \u001b[0m│\u001b[2m \u001b[0m\u001b[2mYes              \u001b[0m\u001b[2m \u001b[0m│\u001b[2m \u001b[0m\u001b[2mNo, it's unusually high\u001b[0m\u001b[2m \u001b[0m│\n",
       "├──────────┼───────────────────┼───────────────────────────┼───────────────────┼─────────────────────────┤\n",
       "│\u001b[2m \u001b[0m\u001b[2m78      \u001b[0m\u001b[2m \u001b[0m│\u001b[2m \u001b[0m\u001b[2mYes              \u001b[0m\u001b[2m \u001b[0m│\u001b[2m \u001b[0m\u001b[2mYes                      \u001b[0m\u001b[2m \u001b[0m│\u001b[2m \u001b[0m\u001b[2mYes              \u001b[0m\u001b[2m \u001b[0m│\u001b[2m \u001b[0m\u001b[2mYes                    \u001b[0m\u001b[2m \u001b[0m│\n",
       "├──────────┼───────────────────┼───────────────────────────┼───────────────────┼─────────────────────────┤\n",
       "│\u001b[2m \u001b[0m\u001b[2m56      \u001b[0m\u001b[2m \u001b[0m│\u001b[2m \u001b[0m\u001b[2mYes              \u001b[0m\u001b[2m \u001b[0m│\u001b[2m \u001b[0m\u001b[2mYes                      \u001b[0m\u001b[2m \u001b[0m│\u001b[2m \u001b[0m\u001b[2mYes              \u001b[0m\u001b[2m \u001b[0m│\u001b[2m \u001b[0m\u001b[2mYes                    \u001b[0m\u001b[2m \u001b[0m│\n",
       "├──────────┼───────────────────┼───────────────────────────┼───────────────────┼─────────────────────────┤\n",
       "│\u001b[2m \u001b[0m\u001b[2m28      \u001b[0m\u001b[2m \u001b[0m│\u001b[2m \u001b[0m\u001b[2mYes              \u001b[0m\u001b[2m \u001b[0m│\u001b[2m \u001b[0m\u001b[2mYes                      \u001b[0m\u001b[2m \u001b[0m│\u001b[2m \u001b[0m\u001b[2mYes              \u001b[0m\u001b[2m \u001b[0m│\u001b[2m \u001b[0m\u001b[2mYes                    \u001b[0m\u001b[2m \u001b[0m│\n",
       "└──────────┴───────────────────┴───────────────────────────┴───────────────────┴─────────────────────────┘\n"
      ]
     },
     "metadata": {},
     "output_type": "display_data"
    }
   ],
   "source": [
    "(results\n",
    " .select(\"age\", \"answer.*\")\n",
    " .print(pretty_labels = {\"age\":\"Age\",\n",
    "                         \"answer.q0\":'question_text.q0_question_text', \n",
    "                         \"answer.q1\":'question_text.q1_question_text',\n",
    "                         \"answer.q2\":'question_text.q2_question_text',\n",
    "                         \"answer.q3\":'question_text.q3_question_text',\n",
    "                         \"answer.q4\":'question_text.q4_question_text'},\n",
    "        format=\"rich\",\n",
    "       max_rows=10)\n",
    ")"
   ]
  },
  {
   "cell_type": "code",
   "execution_count": 15,
   "id": "5fb9a683-5fe7-4fda-a641-015f2f27d905",
   "metadata": {},
   "outputs": [
    {
     "data": {
      "text/html": [
       "<pre style=\"white-space:pre;overflow-x:auto;line-height:normal;font-family:Menlo,'DejaVu Sans Mono',consolas,'Courier New',monospace\">┏━━━━━━━━━━┓\n",
       "┃<span style=\"color: #800080; text-decoration-color: #800080; font-weight: bold\"> scenario </span>┃\n",
       "┃<span style=\"color: #800080; text-decoration-color: #800080; font-weight: bold\"> .age     </span>┃\n",
       "┡━━━━━━━━━━┩\n",
       "│<span style=\"color: #7f7f7f; text-decoration-color: #7f7f7f\"> 1050     </span>│\n",
       "├──────────┤\n",
       "│<span style=\"color: #7f7f7f; text-decoration-color: #7f7f7f\"> 84       </span>│\n",
       "├──────────┤\n",
       "│<span style=\"color: #7f7f7f; text-decoration-color: #7f7f7f\"> 0.99     </span>│\n",
       "├──────────┤\n",
       "│<span style=\"color: #7f7f7f; text-decoration-color: #7f7f7f\"> 84       </span>│\n",
       "├──────────┤\n",
       "│<span style=\"color: #7f7f7f; text-decoration-color: #7f7f7f\"> -5       </span>│\n",
       "├──────────┤\n",
       "│<span style=\"color: #7f7f7f; text-decoration-color: #7f7f7f\"> 2        </span>│\n",
       "├──────────┤\n",
       "│<span style=\"color: #7f7f7f; text-decoration-color: #7f7f7f\"> old      </span>│\n",
       "└──────────┘\n",
       "</pre>\n"
      ],
      "text/plain": [
       "┏━━━━━━━━━━┓\n",
       "┃\u001b[1;35m \u001b[0m\u001b[1;35mscenario\u001b[0m\u001b[1;35m \u001b[0m┃\n",
       "┃\u001b[1;35m \u001b[0m\u001b[1;35m.age    \u001b[0m\u001b[1;35m \u001b[0m┃\n",
       "┡━━━━━━━━━━┩\n",
       "│\u001b[2m \u001b[0m\u001b[2m1050    \u001b[0m\u001b[2m \u001b[0m│\n",
       "├──────────┤\n",
       "│\u001b[2m \u001b[0m\u001b[2m84      \u001b[0m\u001b[2m \u001b[0m│\n",
       "├──────────┤\n",
       "│\u001b[2m \u001b[0m\u001b[2m0.99    \u001b[0m\u001b[2m \u001b[0m│\n",
       "├──────────┤\n",
       "│\u001b[2m \u001b[0m\u001b[2m84      \u001b[0m\u001b[2m \u001b[0m│\n",
       "├──────────┤\n",
       "│\u001b[2m \u001b[0m\u001b[2m-5      \u001b[0m\u001b[2m \u001b[0m│\n",
       "├──────────┤\n",
       "│\u001b[2m \u001b[0m\u001b[2m2       \u001b[0m\u001b[2m \u001b[0m│\n",
       "├──────────┤\n",
       "│\u001b[2m \u001b[0m\u001b[2mold     \u001b[0m\u001b[2m \u001b[0m│\n",
       "└──────────┘\n"
      ]
     },
     "metadata": {},
     "output_type": "display_data"
    }
   ],
   "source": [
    "(results\n",
    " .filter(\"q0 != 'Yes' or q1 != 'Yes' or q2 != 'Yes' or q3 != 'Yes'\")\n",
    " .select(\"age\").print(format=\"rich\")\n",
    ")"
   ]
  },
  {
   "cell_type": "markdown",
   "id": "b2e1a939-d524-4960-bb38-c915864a80c8",
   "metadata": {},
   "source": [
    "This notebook can be readily edited and expanded for other data cleaning and data labeling purposes. Please see our [documentation page](https://docs.expectedparrot.com/) for examples of other methods and use cases and let us know if you have any questions!"
   ]
  }
 ],
 "metadata": {
  "kernelspec": {
   "display_name": "Python 3 (ipykernel)",
   "language": "python",
   "name": "python3"
  },
  "language_info": {
   "codemirror_mode": {
    "name": "ipython",
    "version": 3
   },
   "file_extension": ".py",
   "mimetype": "text/x-python",
   "name": "python",
   "nbconvert_exporter": "python",
   "pygments_lexer": "ipython3",
   "version": "3.11.7"
  }
 },
 "nbformat": 4,
 "nbformat_minor": 5
}
