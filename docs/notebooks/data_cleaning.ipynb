{
 "cells": [
  {
   "cell_type": "markdown",
   "id": "96bdbd4d-b0f9-447f-9f65-cbcf9e1dbe5c",
   "metadata": {
    "editable": true,
    "slideshow": {
     "slide_type": ""
    },
    "tags": []
   },
   "source": [
    "# Data cleaning\n",
    "This notebook provides sample [EDSL](https://docs.expectedparrot.com/) code for using a language model to conduct a data cleaning task. In a series of steps we use EDSL to prompt a language model to generate appropriate sense checks for a dataset and then run the sense checks in the form of a survey about the data, returning a new dataset consisting of the data failing the checks.\n",
    "\n",
    "[EDSL is an open-source library](https://github.com/expectedparrot/edsl) for simulating surveys, experiments and other research with AI agents and large language models. \n",
    "Before running the code below, please ensure that you have [installed the EDSL library](https://docs.expectedparrot.com/en/latest/installation.html) and either [activated remote inference](https://docs.expectedparrot.com/en/latest/remote_inference.html) from your [Coop account](https://docs.expectedparrot.com/en/latest/coop.html) or [stored API keys](https://docs.expectedparrot.com/en/latest/api_keys.html) for the language models that you want to use with EDSL. Please also see our [documentation page](https://docs.expectedparrot.com/) for tips and tutorials on getting started using EDSL."
   ]
  },
  {
   "cell_type": "markdown",
   "id": "8dfba5a0-9ec5-4dc5-aff7-1709a7784998",
   "metadata": {
    "editable": true,
    "slideshow": {
     "slide_type": ""
    },
    "tags": []
   },
   "source": [
    "## Example data\n",
    "Here we construct a dataset for our exercise: a random list of ages between 22 and 85 with some bad values mixed in.\n",
    "Our goal is to identify them:"
   ]
  },
  {
   "cell_type": "code",
   "execution_count": 1,
   "id": "65318ede",
   "metadata": {
    "editable": true,
    "slideshow": {
     "slide_type": ""
    },
    "tags": []
   },
   "outputs": [],
   "source": [
    "ages = [84, 62, 79, 57, 59, 55, 68, 66, 47, 54, 76, 33, 74, 56, 47, 24, 23, 38, 38, 54, 51, 84, 71, \n",
    "        46, 38, 26, 50, 56, 62, 39, 31, 52, 69, 84, 69, 48, 48, 23, 65, 54, 78, 51, 69, 77, 75, 76, \n",
    "        26, 44, 61, 32, 70, 24, 74, 22, 32, 24, 80, 65, 36, 42, 84, 66, 40, 85, 28, 22, 67, 25, 70, \n",
    "        77, 53, 69, 64, 27, 61, 68, 68, 78, 0.99, 83, 58, 33, 46, 43, 50, 85, 28, 82, 50, 61, 66, 32, \n",
    "        45, 70, 56, 50, 43, 30, 43, 55, 33, 72, 43, 43, -5, 32, 43, 45, 67, 84, 37, 63, 52, 53, 58, \n",
    "        79, 79, 80, 62, 75, 57, 60, 39, 79, 49, 60, 60, 37, 45, 36, 1050, 73, 70, 56, 39, 58, 69, 77, \n",
    "        68, 84, 78, 48, 31, 74, 27, 55, 56, 66, 35, 39, 57, 47, 29, 24, 47, 60, 43, 37, 84, 64, 28, \n",
    "        22, 37, 71, 77, 76, 84, 63, 76, 58, 41, 72, 22, 63, 78, 49, 82, 69, \"old\", 37, 27, 29, 54, 83, \n",
    "        80, 74, 48, 76, 49, 26, 38, 35, 36, 25, 23, 71, 33, 39, 40, 35, 85, 24, 57, 85, 63, 53, 62, \n",
    "        47, 69, 76, 71, 48, 62, 23, 25, 84, 32, 63, 75, 31, 25, 50, 85, 36, 58, 85, 34, 62, 43, 2, \n",
    "        50, 83, 44, 73, 81, 44, 43, 82, 84, 30, 24, 63, 63, 59, 46, 30, 62, 25, 52, 23, 100, 1.3, 3]"
   ]
  },
  {
   "cell_type": "markdown",
   "id": "de3ae5d4-126a-42cf-b70c-ebbe0f364fe5",
   "metadata": {
    "editable": true,
    "slideshow": {
     "slide_type": ""
    },
    "tags": []
   },
   "source": [
    "## Quick question\n",
    "With a small dataset, we may be able to design the entire task as a single question where we prompt a model to review all the data at once and flag bad data:"
   ]
  },
  {
   "cell_type": "code",
   "execution_count": 2,
   "id": "9a2ecec5-81e6-4cb8-af61-c063cbc6727c",
   "metadata": {
    "editable": true,
    "slideshow": {
     "slide_type": ""
    },
    "tags": []
   },
   "outputs": [
    {
     "data": {
      "text/html": [
       "\n",
       "            <!-- #region Remove Inference Info -->\n",
       "            <div id=\"logger-c5991e8c-fb06-421b-b82c-a79c9d15fbf3\" class=\"job-logger\">\n",
       "                <div class=\"job-logger-header\">\n",
       "                    <span>\n",
       "                        <span id=\"arrow-c5991e8c-fb06-421b-b82c-a79c9d15fbf3\">▼</span> \n",
       "                        Job Status (2025-03-03 09:08:45)\n",
       "                    </span>\n",
       "                </div>\n",
       "                <div id=\"content-c5991e8c-fb06-421b-b82c-a79c9d15fbf3\" style=\"display: block;\">\n",
       "                    <table class=\"job-logger-table\">\n",
       "                        \n",
       "            <tr>\n",
       "                <td class=\"job-logger-cell job-logger-label\">Job UUID</td>\n",
       "                <td class=\"job-logger-cell job-logger-value\">3daaed84-62da-466b-92b2-5e746e097a14</td>\n",
       "            </tr>\n",
       "        \n",
       "            <tr>\n",
       "                <td class=\"job-logger-cell job-logger-label\">Progress Bar URL</td>\n",
       "                <td class=\"job-logger-cell job-logger-value\"><a href=\"https://www.expectedparrot.com/home/remote-job-progress/3daaed84-62da-466b-92b2-5e746e097a14\" target=\"_blank\" class=\"job-logger-link\">https://www.expectedparrot.com/home/remote-job-progress/3daaed84-62da-466b-92b2-5e746e097a14</a></td>\n",
       "            </tr>\n",
       "        \n",
       "            <tr>\n",
       "                <td class=\"job-logger-cell job-logger-label\">Exceptions Report URL</td>\n",
       "                <td class=\"job-logger-cell job-logger-value\">None</td>\n",
       "            </tr>\n",
       "        \n",
       "            <tr>\n",
       "                <td class=\"job-logger-cell job-logger-label\">Results UUID</td>\n",
       "                <td class=\"job-logger-cell job-logger-value\">b2052857-410d-4ed0-b932-d7c1323fa2fe</td>\n",
       "            </tr>\n",
       "        \n",
       "            <tr>\n",
       "                <td class=\"job-logger-cell job-logger-label\">Results URL</td>\n",
       "                <td class=\"job-logger-cell job-logger-value\"><a href=\"https://www.expectedparrot.com/content/b2052857-410d-4ed0-b932-d7c1323fa2fe\" target=\"_blank\" class=\"job-logger-link\">https://www.expectedparrot.com/content/b2052857-410d-4ed0-b932-d7c1323fa2fe</a></td>\n",
       "            </tr>\n",
       "        \n",
       "                    </table>\n",
       "                    \n",
       "                <div class=\"job-logger-status\">\n",
       "                    <span style=\"margin-right: 8px;\" class=\"job-logger-success\">✓</span><strong>Current Status:</strong> Job completed and Results stored on Coop: <a href=\"https://www.expectedparrot.com/content/b2052857-410d-4ed0-b932-d7c1323fa2fe\" target=\"_blank\" class=\"job-logger-link\">https://www.expectedparrot.com/content/b2052857-410d-4ed0-b932-d7c1323fa2fe</a>\n",
       "                </div>\n",
       "            \n",
       "                </div>\n",
       "            </div>\n",
       "            <!-- # endregion -->\n",
       "        "
      ],
      "text/plain": [
       "<IPython.core.display.HTML object>"
      ]
     },
     "metadata": {},
     "output_type": "display_data"
    },
    {
     "data": {
      "text/html": [
       "\n",
       "        <style>\n",
       "            /* Base theme variables */\n",
       "            :root {\n",
       "                --jl-bg-primary: #ffffff;\n",
       "                --jl-bg-secondary: #f5f5f5;\n",
       "                --jl-border-color: #e0e0e0;\n",
       "                --jl-text-primary: #24292e;\n",
       "                --jl-text-secondary: #586069;\n",
       "                --jl-link-color: #0366d6;\n",
       "                --jl-success-color: #28a745;\n",
       "                --jl-error-color: #d73a49;\n",
       "                --jl-header-bg: #f1f1f1;\n",
       "            }\n",
       "            \n",
       "            /* Dark theme variables */\n",
       "            .theme-dark {\n",
       "                --jl-bg-primary: #1e1e1e;\n",
       "                --jl-bg-secondary: #252526;\n",
       "                --jl-border-color: #2d2d2d;\n",
       "                --jl-text-primary: #cccccc;\n",
       "                --jl-text-secondary: #999999;\n",
       "                --jl-link-color: #4e94ce;\n",
       "                --jl-success-color: #89d185;\n",
       "                --jl-error-color: #f14c4c;\n",
       "                --jl-header-bg: #333333;\n",
       "            }\n",
       "\n",
       "            /* High contrast theme variables */\n",
       "            .theme-high-contrast {\n",
       "                --jl-bg-primary: #000000;\n",
       "                --jl-bg-secondary: #1a1a1a;\n",
       "                --jl-border-color: #404040;\n",
       "                --jl-text-primary: #ffffff;\n",
       "                --jl-text-secondary: #cccccc;\n",
       "                --jl-link-color: #66b3ff;\n",
       "                --jl-success-color: #00ff00;\n",
       "                --jl-error-color: #ff0000;\n",
       "                --jl-header-bg: #262626;\n",
       "            }\n",
       "            \n",
       "            .job-logger {\n",
       "                font-family: system-ui, -apple-system, sans-serif;\n",
       "                max-width: 800px;\n",
       "                margin: 10px 0;\n",
       "                color: var(--jl-text-primary);\n",
       "                box-shadow: 0 1px 3px rgba(0,0,0,0.12);\n",
       "                border-radius: 4px;\n",
       "                overflow: hidden;\n",
       "            }\n",
       "            \n",
       "            .job-logger-header {\n",
       "                padding: 12px 16px;\n",
       "                background: var(--jl-header-bg);\n",
       "                border: none;\n",
       "                border-radius: 4px 4px 0 0;\n",
       "                cursor: pointer;\n",
       "                color: var(--jl-text-primary);\n",
       "                user-select: none;\n",
       "                font-weight: 500;\n",
       "                letter-spacing: 0.3px;\n",
       "                display: flex;\n",
       "                justify-content: space-between;\n",
       "                align-items: center;\n",
       "            }\n",
       "            \n",
       "            .theme-select {\n",
       "                padding: 4px 8px;\n",
       "                border-radius: 4px;\n",
       "                border: 1px solid var(--jl-border-color);\n",
       "                background: var(--jl-bg-primary);\n",
       "                color: var(--jl-text-primary);\n",
       "                font-size: 0.9em;\n",
       "            }\n",
       "            \n",
       "            .job-logger-table {\n",
       "                width: 100%;\n",
       "                border-collapse: separate;\n",
       "                border-spacing: 0;\n",
       "                background: var(--jl-bg-primary);\n",
       "                border: 1px solid var(--jl-border-color);\n",
       "                margin-top: -1px;\n",
       "            }\n",
       "            \n",
       "            .job-logger-cell {\n",
       "                padding: 12px 16px;\n",
       "                border-bottom: 1px solid var(--jl-border-color);\n",
       "                line-height: 1.4;\n",
       "            }\n",
       "            \n",
       "            .job-logger-label {\n",
       "                font-weight: 500;\n",
       "                color: var(--jl-text-primary);\n",
       "                width: 25%;\n",
       "                background: var(--jl-bg-secondary);\n",
       "            }\n",
       "            \n",
       "            .job-logger-value {\n",
       "                color: var(--jl-text-secondary);\n",
       "                word-break: break-word;\n",
       "            }\n",
       "            \n",
       "            .job-logger-status {\n",
       "                margin: 0;\n",
       "                padding: 12px 16px;\n",
       "                background-color: var(--jl-bg-secondary);\n",
       "                border: 1px solid var(--jl-border-color);\n",
       "                border-top: none;\n",
       "                border-radius: 0 0 4px 4px;\n",
       "                color: var(--jl-text-primary);\n",
       "                font-size: 0.95em;\n",
       "            }\n",
       "        </style>\n",
       "        \n",
       "        <script>\n",
       "            class ThemeManager {\n",
       "                constructor(logId, initialTheme = 'auto') {\n",
       "                    this.logId = logId;\n",
       "                    this.currentTheme = initialTheme;\n",
       "                    this.darkModeMediaQuery = window.matchMedia('(prefers-color-scheme: dark)');\n",
       "                    this.init();\n",
       "                }\n",
       "                \n",
       "                init() {\n",
       "                    this.setupThemeSwitcher();\n",
       "                    this.updateTheme(this.currentTheme);\n",
       "                    \n",
       "                    this.darkModeMediaQuery.addListener(() => {\n",
       "                        if (this.currentTheme === 'auto') {\n",
       "                            this.updateTheme('auto');\n",
       "                        }\n",
       "                    });\n",
       "                }\n",
       "                \n",
       "                setupThemeSwitcher() {\n",
       "                    const logger = document.querySelector(`#logger-${this.logId}`);\n",
       "                    if (!logger) return;\n",
       "                    \n",
       "                    const switcher = document.createElement('div');\n",
       "                    switcher.className = 'theme-switcher';\n",
       "                    switcher.innerHTML = `\n",
       "                        <select id=\"theme-select-${this.logId}\" class=\"theme-select\">\n",
       "                            <option value=\"auto\">Auto</option>\n",
       "                            <option value=\"light\">Light</option>\n",
       "                            <option value=\"dark\">Dark</option>\n",
       "                            <option value=\"high-contrast\">High Contrast</option>\n",
       "                        </select>\n",
       "                    `;\n",
       "                    \n",
       "                    const header = logger.querySelector('.job-logger-header');\n",
       "                    header.appendChild(switcher);\n",
       "                    \n",
       "                    const select = switcher.querySelector('select');\n",
       "                    select.value = this.currentTheme;\n",
       "                    select.addEventListener('change', (e) => {\n",
       "                        this.updateTheme(e.target.value);\n",
       "                    });\n",
       "                }\n",
       "                \n",
       "                updateTheme(theme) {\n",
       "                    const logger = document.querySelector(`#logger-${this.logId}`);\n",
       "                    if (!logger) return;\n",
       "                    \n",
       "                    this.currentTheme = theme;\n",
       "                    \n",
       "                    logger.classList.remove('theme-light', 'theme-dark', 'theme-high-contrast');\n",
       "                    \n",
       "                    if (theme === 'auto') {\n",
       "                        const isDark = this.darkModeMediaQuery.matches;\n",
       "                        logger.classList.add(isDark ? 'theme-dark' : 'theme-light');\n",
       "                    } else {\n",
       "                        logger.classList.add(`theme-${theme}`);\n",
       "                    }\n",
       "                    \n",
       "                    try {\n",
       "                        localStorage.setItem('jobLoggerTheme', theme);\n",
       "                    } catch (e) {\n",
       "                        console.warn('Unable to save theme preference:', e);\n",
       "                    }\n",
       "                }\n",
       "            }\n",
       "            \n",
       "            window.initThemeManager = (logId, initialTheme) => {\n",
       "                new ThemeManager(logId, initialTheme);\n",
       "            };\n",
       "        </script>\n",
       "        \n",
       "        <script>\n",
       "            document.addEventListener('DOMContentLoaded', () => {\n",
       "                window.initThemeManager('c5991e8c-fb06-421b-b82c-a79c9d15fbf3', 'auto');\n",
       "            });\n",
       "        </script>\n",
       "        "
      ],
      "text/plain": [
       "<IPython.core.display.HTML object>"
      ]
     },
     "metadata": {},
     "output_type": "display_data"
    },
    {
     "data": {
      "text/html": [
       "\n",
       "            <div style=\"max-height: 500px; overflow-y: auto;\">\n",
       "                <style type=\"text/css\">\n",
       "#T_1183a_row0_col0, #T_1183a_row0_col1 {\n",
       "  text-align: left;\n",
       "}\n",
       "</style>\n",
       "<table id=\"T_1183a\">\n",
       "  <thead>\n",
       "    <tr>\n",
       "      <th class=\"blank level0\" >&nbsp;</th>\n",
       "      <th id=\"T_1183a_level0_col0\" class=\"col_heading level0 col0\" >answer.bad_ages</th>\n",
       "      <th id=\"T_1183a_level0_col1\" class=\"col_heading level0 col1\" >comment.bad_ages_comment</th>\n",
       "    </tr>\n",
       "  </thead>\n",
       "  <tbody>\n",
       "    <tr>\n",
       "      <th id=\"T_1183a_level0_row0\" class=\"row_heading level0 row0\" >0</th>\n",
       "      <td id=\"T_1183a_row0_col0\" class=\"data row0 col0\" >[0.99, -5, 1050, 'old', 1.3]</td>\n",
       "      <td id=\"T_1183a_row0_col1\" class=\"data row0 col1\" ># Problematic ages include non-integer values like 0.99 and 1.3, negative values like -5, an excessively high value like 1050, and a non-numeric string \"old\".</td>\n",
       "    </tr>\n",
       "  </tbody>\n",
       "</table>\n",
       "\n",
       "            </div>\n",
       "            "
      ],
      "text/plain": [
       "Dataset([{'answer.bad_ages': [[0.99, -5, 1050, 'old', 1.3]]}, {'comment.bad_ages_comment': ['# Problematic ages include non-integer values like 0.99 and 1.3, negative values like -5, an excessively high value like 1050, and a non-numeric string \"old\".']}])"
      ]
     },
     "execution_count": 2,
     "metadata": {},
     "output_type": "execute_result"
    }
   ],
   "source": [
    "from edsl import QuestionList, Scenario\n",
    "\n",
    "q = QuestionList(\n",
    "    question_name = \"bad_ages\",\n",
    "    question_text = \"\"\"\n",
    "    Review the following list of observations of human ages \n",
    "    and return a list of all the problematic ages: {{ scenario.ages }}\n",
    "    \"\"\" \n",
    ")\n",
    "\n",
    "s = Scenario({\"ages\":ages})\n",
    "\n",
    "results = q.by(s).run()\n",
    "\n",
    "results.select(\"bad_ages\", \"bad_ages_comment\")"
   ]
  },
  {
   "cell_type": "markdown",
   "id": "29b6836e-9f56-4cb7-a503-82dac4924f30",
   "metadata": {
    "editable": true,
    "slideshow": {
     "slide_type": ""
    },
    "tags": []
   },
   "source": [
    "This approach may be feasible for a small dataset that is easily checked.\n",
    "For larger datasets, we may encounter problems with input token limits, a model's ability to accurately check a large volume of data at once, and responses that are not usefully formatted.\n",
    "\n",
    "Below we demonstrate some ways of approaching the task in an iterative manner instead."
   ]
  },
  {
   "cell_type": "markdown",
   "id": "4e86b9ad-811a-45c2-80d9-58ebce7ac3be",
   "metadata": {
    "editable": true,
    "slideshow": {
     "slide_type": ""
    },
    "tags": []
   },
   "source": [
    "## Constructing a question\n",
    "We start by creating a question to prompt a model to draft sense check questions for our data. \n",
    "EDSL comes with a [variety of question types](https://docs.expectedparrot.com/en/latest/questions.html) that we can choose from based on the desired form of the response (multiple choice, free text, etc.). \n",
    "Here we use `QuestionList` in order to prompt the model to format its response as a list. \n",
    "We use a `{{ placeholder }}` for content that we will add to the question when we run it (a description of the data and a sample); this allows us to re-use the question with other contexts as desired:"
   ]
  },
  {
   "cell_type": "code",
   "execution_count": 3,
   "id": "cfb35741-0443-4630-9fe4-a763533fde9d",
   "metadata": {
    "editable": true,
    "slideshow": {
     "slide_type": ""
    },
    "tags": []
   },
   "outputs": [],
   "source": [
    "from edsl import QuestionList\n",
    "\n",
    "q1 = QuestionList(\n",
    "    question_name = \"sense_check_questions\",\n",
    "    question_text = \"\"\"\n",
    "    You are being asked to suggest a list of sense checks for a dataset consisting of {{ scenario.data_description }}.\n",
    "    Here is a sample of the data: {{ scenario.sample_data }}.\n",
    "    Format the sense checks as a list of questions to be answered about each item in the dataset individually,\n",
    "    using '<data>' as a placeholder for an item being reviewed in each question text.\n",
    "    \"\"\",\n",
    "    max_list_items = 4 # optional\n",
    ")"
   ]
  },
  {
   "cell_type": "markdown",
   "id": "1951ba51-ecd6-4bfb-a4c1-4fabb5cea4fc",
   "metadata": {
    "editable": true,
    "slideshow": {
     "slide_type": ""
    },
    "tags": []
   },
   "source": [
    "## Adding context to the question\n",
    "Next we create `Scenario` objects representing the content that we want to add to the question when we run it.\n",
    "Here we create a single scenario for our example data:"
   ]
  },
  {
   "cell_type": "code",
   "execution_count": 4,
   "id": "8579f7f9-9006-4784-9c2c-9d31bf1dc88c",
   "metadata": {
    "editable": true,
    "slideshow": {
     "slide_type": ""
    },
    "tags": []
   },
   "outputs": [],
   "source": [
    "import random\n",
    "\n",
    "sample_data = random.sample(ages, 10)"
   ]
  },
  {
   "cell_type": "code",
   "execution_count": 5,
   "id": "a9172b46-779f-477d-8185-0a6db97a56b7",
   "metadata": {
    "editable": true,
    "slideshow": {
     "slide_type": ""
    },
    "tags": []
   },
   "outputs": [
    {
     "data": {
      "text/html": [
       "<p><a href='https://docs.expectedparrot.com/en/latest/scenarios.html'>Scenario</a></p>\n",
       "            <div style=\"max-height: 500px; overflow-y: auto;\">\n",
       "                <style type=\"text/css\">\n",
       "#T_b8eb7_row0_col0, #T_b8eb7_row0_col1, #T_b8eb7_row1_col0, #T_b8eb7_row1_col1, #T_b8eb7_row2_col0, #T_b8eb7_row2_col1, #T_b8eb7_row3_col0, #T_b8eb7_row3_col1, #T_b8eb7_row4_col0, #T_b8eb7_row4_col1, #T_b8eb7_row5_col0, #T_b8eb7_row5_col1, #T_b8eb7_row6_col0, #T_b8eb7_row6_col1, #T_b8eb7_row7_col0, #T_b8eb7_row7_col1, #T_b8eb7_row8_col0, #T_b8eb7_row8_col1, #T_b8eb7_row9_col0, #T_b8eb7_row9_col1, #T_b8eb7_row10_col0, #T_b8eb7_row10_col1 {\n",
       "  text-align: left;\n",
       "}\n",
       "</style>\n",
       "<table id=\"T_b8eb7\">\n",
       "  <thead>\n",
       "    <tr>\n",
       "      <th class=\"blank level0\" >&nbsp;</th>\n",
       "      <th id=\"T_b8eb7_level0_col0\" class=\"col_heading level0 col0\" >key</th>\n",
       "      <th id=\"T_b8eb7_level0_col1\" class=\"col_heading level0 col1\" >value</th>\n",
       "    </tr>\n",
       "  </thead>\n",
       "  <tbody>\n",
       "    <tr>\n",
       "      <th id=\"T_b8eb7_level0_row0\" class=\"row_heading level0 row0\" >0</th>\n",
       "      <td id=\"T_b8eb7_row0_col0\" class=\"data row0 col0\" >data_description</td>\n",
       "      <td id=\"T_b8eb7_row0_col1\" class=\"data row0 col1\" >a list of human ages (in years)</td>\n",
       "    </tr>\n",
       "    <tr>\n",
       "      <th id=\"T_b8eb7_level0_row1\" class=\"row_heading level0 row1\" >1</th>\n",
       "      <td id=\"T_b8eb7_row1_col0\" class=\"data row1 col0\" >sample_data:0</td>\n",
       "      <td id=\"T_b8eb7_row1_col1\" class=\"data row1 col1\" >43</td>\n",
       "    </tr>\n",
       "    <tr>\n",
       "      <th id=\"T_b8eb7_level0_row2\" class=\"row_heading level0 row2\" >2</th>\n",
       "      <td id=\"T_b8eb7_row2_col0\" class=\"data row2 col0\" >sample_data:1</td>\n",
       "      <td id=\"T_b8eb7_row2_col1\" class=\"data row2 col1\" >24</td>\n",
       "    </tr>\n",
       "    <tr>\n",
       "      <th id=\"T_b8eb7_level0_row3\" class=\"row_heading level0 row3\" >3</th>\n",
       "      <td id=\"T_b8eb7_row3_col0\" class=\"data row3 col0\" >sample_data:2</td>\n",
       "      <td id=\"T_b8eb7_row3_col1\" class=\"data row3 col1\" >58</td>\n",
       "    </tr>\n",
       "    <tr>\n",
       "      <th id=\"T_b8eb7_level0_row4\" class=\"row_heading level0 row4\" >4</th>\n",
       "      <td id=\"T_b8eb7_row4_col0\" class=\"data row4 col0\" >sample_data:3</td>\n",
       "      <td id=\"T_b8eb7_row4_col1\" class=\"data row4 col1\" >43</td>\n",
       "    </tr>\n",
       "    <tr>\n",
       "      <th id=\"T_b8eb7_level0_row5\" class=\"row_heading level0 row5\" >5</th>\n",
       "      <td id=\"T_b8eb7_row5_col0\" class=\"data row5 col0\" >sample_data:4</td>\n",
       "      <td id=\"T_b8eb7_row5_col1\" class=\"data row5 col1\" >56</td>\n",
       "    </tr>\n",
       "    <tr>\n",
       "      <th id=\"T_b8eb7_level0_row6\" class=\"row_heading level0 row6\" >6</th>\n",
       "      <td id=\"T_b8eb7_row6_col0\" class=\"data row6 col0\" >sample_data:5</td>\n",
       "      <td id=\"T_b8eb7_row6_col1\" class=\"data row6 col1\" >24</td>\n",
       "    </tr>\n",
       "    <tr>\n",
       "      <th id=\"T_b8eb7_level0_row7\" class=\"row_heading level0 row7\" >7</th>\n",
       "      <td id=\"T_b8eb7_row7_col0\" class=\"data row7 col0\" >sample_data:6</td>\n",
       "      <td id=\"T_b8eb7_row7_col1\" class=\"data row7 col1\" >54</td>\n",
       "    </tr>\n",
       "    <tr>\n",
       "      <th id=\"T_b8eb7_level0_row8\" class=\"row_heading level0 row8\" >8</th>\n",
       "      <td id=\"T_b8eb7_row8_col0\" class=\"data row8 col0\" >sample_data:7</td>\n",
       "      <td id=\"T_b8eb7_row8_col1\" class=\"data row8 col1\" >79</td>\n",
       "    </tr>\n",
       "    <tr>\n",
       "      <th id=\"T_b8eb7_level0_row9\" class=\"row_heading level0 row9\" >9</th>\n",
       "      <td id=\"T_b8eb7_row9_col0\" class=\"data row9 col0\" >sample_data:8</td>\n",
       "      <td id=\"T_b8eb7_row9_col1\" class=\"data row9 col1\" >77</td>\n",
       "    </tr>\n",
       "    <tr>\n",
       "      <th id=\"T_b8eb7_level0_row10\" class=\"row_heading level0 row10\" >10</th>\n",
       "      <td id=\"T_b8eb7_row10_col0\" class=\"data row10 col0\" >sample_data:9</td>\n",
       "      <td id=\"T_b8eb7_row10_col1\" class=\"data row10 col1\" >68</td>\n",
       "    </tr>\n",
       "  </tbody>\n",
       "</table>\n",
       "\n",
       "            </div>\n",
       "            "
      ],
      "text/plain": [
       "Scenario({'data_description': 'a list of human ages (in years)', 'sample_data': [43, 24, 58, 43, 56, 24, 54, 79, 77, 68]})"
      ]
     },
     "execution_count": 5,
     "metadata": {},
     "output_type": "execute_result"
    }
   ],
   "source": [
    "from edsl import Scenario\n",
    "\n",
    "s = Scenario({\n",
    "    \"data_description\": \"a list of human ages (in years)\",\n",
    "    \"sample_data\": sample_data\n",
    "})\n",
    "s"
   ]
  },
  {
   "cell_type": "markdown",
   "id": "bf52373a-f082-4266-bb8e-820e4e6b604e",
   "metadata": {
    "editable": true,
    "slideshow": {
     "slide_type": ""
    },
    "tags": []
   },
   "source": [
    "## Running the question\n",
    "We administer the question to a model by adding the scenarios and calling the `run` method.\n",
    "This generates a formatted dataset of `Results` that we can access with [built-in methods for analysis](https://docs.expectedparrot.com/en/latest/results.html).\n",
    "Here we inspect the answer:"
   ]
  },
  {
   "cell_type": "code",
   "execution_count": 6,
   "id": "081be404-cb76-4c1a-9910-dee6d72905eb",
   "metadata": {
    "editable": true,
    "slideshow": {
     "slide_type": ""
    },
    "tags": []
   },
   "outputs": [
    {
     "data": {
      "text/html": [
       "\n",
       "            <!-- #region Remove Inference Info -->\n",
       "            <div id=\"logger-f65cecde-7315-42bd-a10f-88a6ffbbbd34\" class=\"job-logger\">\n",
       "                <div class=\"job-logger-header\">\n",
       "                    <span>\n",
       "                        <span id=\"arrow-f65cecde-7315-42bd-a10f-88a6ffbbbd34\">▼</span> \n",
       "                        Job Status (2025-03-03 09:11:25)\n",
       "                    </span>\n",
       "                </div>\n",
       "                <div id=\"content-f65cecde-7315-42bd-a10f-88a6ffbbbd34\" style=\"display: block;\">\n",
       "                    <table class=\"job-logger-table\">\n",
       "                        \n",
       "            <tr>\n",
       "                <td class=\"job-logger-cell job-logger-label\">Job UUID</td>\n",
       "                <td class=\"job-logger-cell job-logger-value\">ad1b6f29-3fb1-408c-a871-ae9d7616cc69</td>\n",
       "            </tr>\n",
       "        \n",
       "            <tr>\n",
       "                <td class=\"job-logger-cell job-logger-label\">Progress Bar URL</td>\n",
       "                <td class=\"job-logger-cell job-logger-value\"><a href=\"https://www.expectedparrot.com/home/remote-job-progress/ad1b6f29-3fb1-408c-a871-ae9d7616cc69\" target=\"_blank\" class=\"job-logger-link\">https://www.expectedparrot.com/home/remote-job-progress/ad1b6f29-3fb1-408c-a871-ae9d7616cc69</a></td>\n",
       "            </tr>\n",
       "        \n",
       "            <tr>\n",
       "                <td class=\"job-logger-cell job-logger-label\">Exceptions Report URL</td>\n",
       "                <td class=\"job-logger-cell job-logger-value\">None</td>\n",
       "            </tr>\n",
       "        \n",
       "            <tr>\n",
       "                <td class=\"job-logger-cell job-logger-label\">Results UUID</td>\n",
       "                <td class=\"job-logger-cell job-logger-value\">0bed643d-34e6-444c-a463-18ba151b0ade</td>\n",
       "            </tr>\n",
       "        \n",
       "            <tr>\n",
       "                <td class=\"job-logger-cell job-logger-label\">Results URL</td>\n",
       "                <td class=\"job-logger-cell job-logger-value\"><a href=\"https://www.expectedparrot.com/content/0bed643d-34e6-444c-a463-18ba151b0ade\" target=\"_blank\" class=\"job-logger-link\">https://www.expectedparrot.com/content/0bed643d-34e6-444c-a463-18ba151b0ade</a></td>\n",
       "            </tr>\n",
       "        \n",
       "                    </table>\n",
       "                    \n",
       "                <div class=\"job-logger-status\">\n",
       "                    <span style=\"margin-right: 8px;\" class=\"job-logger-success\">✓</span><strong>Current Status:</strong> Job completed and Results stored on Coop: <a href=\"https://www.expectedparrot.com/content/0bed643d-34e6-444c-a463-18ba151b0ade\" target=\"_blank\" class=\"job-logger-link\">https://www.expectedparrot.com/content/0bed643d-34e6-444c-a463-18ba151b0ade</a>\n",
       "                </div>\n",
       "            \n",
       "                </div>\n",
       "            </div>\n",
       "            <!-- # endregion -->\n",
       "        "
      ],
      "text/plain": [
       "<IPython.core.display.HTML object>"
      ]
     },
     "metadata": {},
     "output_type": "display_data"
    },
    {
     "data": {
      "text/html": [
       "\n",
       "        <style>\n",
       "            /* Base theme variables */\n",
       "            :root {\n",
       "                --jl-bg-primary: #ffffff;\n",
       "                --jl-bg-secondary: #f5f5f5;\n",
       "                --jl-border-color: #e0e0e0;\n",
       "                --jl-text-primary: #24292e;\n",
       "                --jl-text-secondary: #586069;\n",
       "                --jl-link-color: #0366d6;\n",
       "                --jl-success-color: #28a745;\n",
       "                --jl-error-color: #d73a49;\n",
       "                --jl-header-bg: #f1f1f1;\n",
       "            }\n",
       "            \n",
       "            /* Dark theme variables */\n",
       "            .theme-dark {\n",
       "                --jl-bg-primary: #1e1e1e;\n",
       "                --jl-bg-secondary: #252526;\n",
       "                --jl-border-color: #2d2d2d;\n",
       "                --jl-text-primary: #cccccc;\n",
       "                --jl-text-secondary: #999999;\n",
       "                --jl-link-color: #4e94ce;\n",
       "                --jl-success-color: #89d185;\n",
       "                --jl-error-color: #f14c4c;\n",
       "                --jl-header-bg: #333333;\n",
       "            }\n",
       "\n",
       "            /* High contrast theme variables */\n",
       "            .theme-high-contrast {\n",
       "                --jl-bg-primary: #000000;\n",
       "                --jl-bg-secondary: #1a1a1a;\n",
       "                --jl-border-color: #404040;\n",
       "                --jl-text-primary: #ffffff;\n",
       "                --jl-text-secondary: #cccccc;\n",
       "                --jl-link-color: #66b3ff;\n",
       "                --jl-success-color: #00ff00;\n",
       "                --jl-error-color: #ff0000;\n",
       "                --jl-header-bg: #262626;\n",
       "            }\n",
       "            \n",
       "            .job-logger {\n",
       "                font-family: system-ui, -apple-system, sans-serif;\n",
       "                max-width: 800px;\n",
       "                margin: 10px 0;\n",
       "                color: var(--jl-text-primary);\n",
       "                box-shadow: 0 1px 3px rgba(0,0,0,0.12);\n",
       "                border-radius: 4px;\n",
       "                overflow: hidden;\n",
       "            }\n",
       "            \n",
       "            .job-logger-header {\n",
       "                padding: 12px 16px;\n",
       "                background: var(--jl-header-bg);\n",
       "                border: none;\n",
       "                border-radius: 4px 4px 0 0;\n",
       "                cursor: pointer;\n",
       "                color: var(--jl-text-primary);\n",
       "                user-select: none;\n",
       "                font-weight: 500;\n",
       "                letter-spacing: 0.3px;\n",
       "                display: flex;\n",
       "                justify-content: space-between;\n",
       "                align-items: center;\n",
       "            }\n",
       "            \n",
       "            .theme-select {\n",
       "                padding: 4px 8px;\n",
       "                border-radius: 4px;\n",
       "                border: 1px solid var(--jl-border-color);\n",
       "                background: var(--jl-bg-primary);\n",
       "                color: var(--jl-text-primary);\n",
       "                font-size: 0.9em;\n",
       "            }\n",
       "            \n",
       "            .job-logger-table {\n",
       "                width: 100%;\n",
       "                border-collapse: separate;\n",
       "                border-spacing: 0;\n",
       "                background: var(--jl-bg-primary);\n",
       "                border: 1px solid var(--jl-border-color);\n",
       "                margin-top: -1px;\n",
       "            }\n",
       "            \n",
       "            .job-logger-cell {\n",
       "                padding: 12px 16px;\n",
       "                border-bottom: 1px solid var(--jl-border-color);\n",
       "                line-height: 1.4;\n",
       "            }\n",
       "            \n",
       "            .job-logger-label {\n",
       "                font-weight: 500;\n",
       "                color: var(--jl-text-primary);\n",
       "                width: 25%;\n",
       "                background: var(--jl-bg-secondary);\n",
       "            }\n",
       "            \n",
       "            .job-logger-value {\n",
       "                color: var(--jl-text-secondary);\n",
       "                word-break: break-word;\n",
       "            }\n",
       "            \n",
       "            .job-logger-status {\n",
       "                margin: 0;\n",
       "                padding: 12px 16px;\n",
       "                background-color: var(--jl-bg-secondary);\n",
       "                border: 1px solid var(--jl-border-color);\n",
       "                border-top: none;\n",
       "                border-radius: 0 0 4px 4px;\n",
       "                color: var(--jl-text-primary);\n",
       "                font-size: 0.95em;\n",
       "            }\n",
       "        </style>\n",
       "        \n",
       "        <script>\n",
       "            class ThemeManager {\n",
       "                constructor(logId, initialTheme = 'auto') {\n",
       "                    this.logId = logId;\n",
       "                    this.currentTheme = initialTheme;\n",
       "                    this.darkModeMediaQuery = window.matchMedia('(prefers-color-scheme: dark)');\n",
       "                    this.init();\n",
       "                }\n",
       "                \n",
       "                init() {\n",
       "                    this.setupThemeSwitcher();\n",
       "                    this.updateTheme(this.currentTheme);\n",
       "                    \n",
       "                    this.darkModeMediaQuery.addListener(() => {\n",
       "                        if (this.currentTheme === 'auto') {\n",
       "                            this.updateTheme('auto');\n",
       "                        }\n",
       "                    });\n",
       "                }\n",
       "                \n",
       "                setupThemeSwitcher() {\n",
       "                    const logger = document.querySelector(`#logger-${this.logId}`);\n",
       "                    if (!logger) return;\n",
       "                    \n",
       "                    const switcher = document.createElement('div');\n",
       "                    switcher.className = 'theme-switcher';\n",
       "                    switcher.innerHTML = `\n",
       "                        <select id=\"theme-select-${this.logId}\" class=\"theme-select\">\n",
       "                            <option value=\"auto\">Auto</option>\n",
       "                            <option value=\"light\">Light</option>\n",
       "                            <option value=\"dark\">Dark</option>\n",
       "                            <option value=\"high-contrast\">High Contrast</option>\n",
       "                        </select>\n",
       "                    `;\n",
       "                    \n",
       "                    const header = logger.querySelector('.job-logger-header');\n",
       "                    header.appendChild(switcher);\n",
       "                    \n",
       "                    const select = switcher.querySelector('select');\n",
       "                    select.value = this.currentTheme;\n",
       "                    select.addEventListener('change', (e) => {\n",
       "                        this.updateTheme(e.target.value);\n",
       "                    });\n",
       "                }\n",
       "                \n",
       "                updateTheme(theme) {\n",
       "                    const logger = document.querySelector(`#logger-${this.logId}`);\n",
       "                    if (!logger) return;\n",
       "                    \n",
       "                    this.currentTheme = theme;\n",
       "                    \n",
       "                    logger.classList.remove('theme-light', 'theme-dark', 'theme-high-contrast');\n",
       "                    \n",
       "                    if (theme === 'auto') {\n",
       "                        const isDark = this.darkModeMediaQuery.matches;\n",
       "                        logger.classList.add(isDark ? 'theme-dark' : 'theme-light');\n",
       "                    } else {\n",
       "                        logger.classList.add(`theme-${theme}`);\n",
       "                    }\n",
       "                    \n",
       "                    try {\n",
       "                        localStorage.setItem('jobLoggerTheme', theme);\n",
       "                    } catch (e) {\n",
       "                        console.warn('Unable to save theme preference:', e);\n",
       "                    }\n",
       "                }\n",
       "            }\n",
       "            \n",
       "            window.initThemeManager = (logId, initialTheme) => {\n",
       "                new ThemeManager(logId, initialTheme);\n",
       "            };\n",
       "        </script>\n",
       "        \n",
       "        <script>\n",
       "            document.addEventListener('DOMContentLoaded', () => {\n",
       "                window.initThemeManager('f65cecde-7315-42bd-a10f-88a6ffbbbd34', 'auto');\n",
       "            });\n",
       "        </script>\n",
       "        "
      ],
      "text/plain": [
       "<IPython.core.display.HTML object>"
      ]
     },
     "metadata": {},
     "output_type": "display_data"
    }
   ],
   "source": [
    "results = q1.by(s).run()"
   ]
  },
  {
   "cell_type": "code",
   "execution_count": 7,
   "id": "625b513d-120f-4303-b036-e7d200095a9b",
   "metadata": {
    "editable": true,
    "slideshow": {
     "slide_type": ""
    },
    "tags": []
   },
   "outputs": [
    {
     "data": {
      "text/html": [
       "\n",
       "            <div style=\"max-height: 500px; overflow-y: auto;\">\n",
       "                <style type=\"text/css\">\n",
       "#T_34e34_row0_col0 {\n",
       "  text-align: left;\n",
       "}\n",
       "</style>\n",
       "<table id=\"T_34e34\">\n",
       "  <thead>\n",
       "    <tr>\n",
       "      <th class=\"blank level0\" >&nbsp;</th>\n",
       "      <th id=\"T_34e34_level0_col0\" class=\"col_heading level0 col0\" >answer.sense_check_questions</th>\n",
       "    </tr>\n",
       "  </thead>\n",
       "  <tbody>\n",
       "    <tr>\n",
       "      <th id=\"T_34e34_level0_row0\" class=\"row_heading level0 row0\" >0</th>\n",
       "      <td id=\"T_34e34_row0_col0\" class=\"data row0 col0\" >['Is <data> a non-negative integer?', 'Is <data> less than or equal to 122?', 'Is <data> consistent with the expected age range for the dataset?', 'Is <data> free from obvious errors or outliers?']</td>\n",
       "    </tr>\n",
       "  </tbody>\n",
       "</table>\n",
       "\n",
       "            </div>\n",
       "            "
      ],
      "text/plain": [
       "Dataset([{'answer.sense_check_questions': [['Is <data> a non-negative integer?', 'Is <data> less than or equal to 122?', 'Is <data> consistent with the expected age range for the dataset?', 'Is <data> free from obvious errors or outliers?']]}])"
      ]
     },
     "execution_count": 7,
     "metadata": {},
     "output_type": "execute_result"
    }
   ],
   "source": [
    "results.select(\"sense_check_questions\")"
   ]
  },
  {
   "cell_type": "markdown",
   "id": "17a74649-971a-4583-9657-ec8d6b3671f1",
   "metadata": {
    "editable": true,
    "slideshow": {
     "slide_type": ""
    },
    "tags": []
   },
   "source": [
    "## Conducting the task\n",
    "Next we want a model to answer each sense check question about each piece of data in the dataset.\n",
    "This can be done by using the sense check questions as scenarios of a new question explaining the task.\n",
    "We can use `QuestionYesNo` to easily filter the responses:"
   ]
  },
  {
   "cell_type": "code",
   "execution_count": 8,
   "id": "c7cf4019-4579-45a6-b2d1-43c50820c22c",
   "metadata": {
    "editable": true,
    "slideshow": {
     "slide_type": ""
    },
    "tags": []
   },
   "outputs": [],
   "source": [
    "from edsl import QuestionYesNo\n",
    "\n",
    "q2 = QuestionYesNo(\n",
    "    question_name = \"check_data\",\n",
    "    question_text = \"\"\"\n",
    "    You are being asked to sense check a dataset consisting of {{ scenario.data_description }}.\n",
    "    Consider the following item in the dataset: {{ scenario.age }}\n",
    "    {{ scenario.sense_check_question }}\n",
    "    \"\"\"\n",
    ")"
   ]
  },
  {
   "cell_type": "markdown",
   "id": "9519bc7a-b750-4363-bbbc-1c70baad50a2",
   "metadata": {
    "editable": true,
    "slideshow": {
     "slide_type": ""
    },
    "tags": []
   },
   "source": [
    "We need to create a new set of scenarios for the question.\n",
    "We use `ScenarioList` objects to create all the combinations of values to add to the question (learn more about [constructing scenarios from different data sources](https://docs.expectedparrot.com/en/latest/scenarios.html)):"
   ]
  },
  {
   "cell_type": "code",
   "execution_count": 9,
   "id": "30cb5e16-faf4-4d84-97a7-d352b189d501",
   "metadata": {
    "editable": true,
    "slideshow": {
     "slide_type": ""
    },
    "tags": []
   },
   "outputs": [],
   "source": [
    "from edsl import ScenarioList\n",
    "\n",
    "sl = ScenarioList(\n",
    "    Scenario({\n",
    "        \"data_description\": \"a list of human ages (in years)\",\n",
    "        \"sample_data\": sample_data,\n",
    "        \"age\": age,\n",
    "        \"sense_check_question\": sense_check_question\n",
    "    }) for age in ages for sense_check_question in results.select(\"sense_check_questions\").to_list()[0]\n",
    ")"
   ]
  },
  {
   "cell_type": "markdown",
   "id": "684c0908-7f00-486b-9777-d72295f79a0f",
   "metadata": {
    "editable": true,
    "slideshow": {
     "slide_type": ""
    },
    "tags": []
   },
   "source": [
    "We can inspect the scenarios that we created:"
   ]
  },
  {
   "cell_type": "code",
   "execution_count": 10,
   "id": "1cf4296a-142f-403c-8d9c-abf9c4951fe1",
   "metadata": {
    "editable": true,
    "slideshow": {
     "slide_type": ""
    },
    "tags": []
   },
   "outputs": [
    {
     "data": {
      "text/html": [
       "<p><a href='https://docs.expectedparrot.com/en/latest/scenarios.html#scenariolist'>ScenarioList</a> scenarios: 3; keys: ['sample_data', 'age', 'data_description', 'sense_check_question'];</p>\n",
       "            <div style=\"max-height: 500px; overflow-y: auto;\">\n",
       "                <style type=\"text/css\">\n",
       "#T_1c1b1_row0_col0, #T_1c1b1_row0_col1, #T_1c1b1_row0_col3, #T_1c1b1_row1_col0, #T_1c1b1_row1_col1, #T_1c1b1_row1_col3, #T_1c1b1_row2_col0, #T_1c1b1_row2_col1, #T_1c1b1_row2_col3 {\n",
       "  text-align: left;\n",
       "}\n",
       "#T_1c1b1_row0_col2 {\n",
       "  text-align: left;\n",
       "  background-color: #04598c;\n",
       "  color: #f1f1f1;\n",
       "}\n",
       "#T_1c1b1_row1_col2 {\n",
       "  text-align: left;\n",
       "  background-color: #023858;\n",
       "  color: #f1f1f1;\n",
       "}\n",
       "#T_1c1b1_row2_col2 {\n",
       "  text-align: left;\n",
       "  background-color: #fff7fb;\n",
       "  color: #000000;\n",
       "}\n",
       "</style>\n",
       "<table id=\"T_1c1b1\">\n",
       "  <thead>\n",
       "    <tr>\n",
       "      <th class=\"blank level0\" >&nbsp;</th>\n",
       "      <th id=\"T_1c1b1_level0_col0\" class=\"col_heading level0 col0\" >data_description</th>\n",
       "      <th id=\"T_1c1b1_level0_col1\" class=\"col_heading level0 col1\" >sample_data</th>\n",
       "      <th id=\"T_1c1b1_level0_col2\" class=\"col_heading level0 col2\" >age</th>\n",
       "      <th id=\"T_1c1b1_level0_col3\" class=\"col_heading level0 col3\" >sense_check_question</th>\n",
       "    </tr>\n",
       "  </thead>\n",
       "  <tbody>\n",
       "    <tr>\n",
       "      <th id=\"T_1c1b1_level0_row0\" class=\"row_heading level0 row0\" >0</th>\n",
       "      <td id=\"T_1c1b1_row0_col0\" class=\"data row0 col0\" >a list of human ages (in years)</td>\n",
       "      <td id=\"T_1c1b1_row0_col1\" class=\"data row0 col1\" >[43, 24, 58, 43, 56, 24, 54, 79, 77, 68]</td>\n",
       "      <td id=\"T_1c1b1_row0_col2\" class=\"data row0 col2\" >50</td>\n",
       "      <td id=\"T_1c1b1_row0_col3\" class=\"data row0 col3\" >Is <data> free from obvious errors or outliers?</td>\n",
       "    </tr>\n",
       "    <tr>\n",
       "      <th id=\"T_1c1b1_level0_row1\" class=\"row_heading level0 row1\" >1</th>\n",
       "      <td id=\"T_1c1b1_row1_col0\" class=\"data row1 col0\" >a list of human ages (in years)</td>\n",
       "      <td id=\"T_1c1b1_row1_col1\" class=\"data row1 col1\" >[43, 24, 58, 43, 56, 24, 54, 79, 77, 68]</td>\n",
       "      <td id=\"T_1c1b1_row1_col2\" class=\"data row1 col2\" >52</td>\n",
       "      <td id=\"T_1c1b1_row1_col3\" class=\"data row1 col3\" >Is <data> consistent with the expected age range for the dataset?</td>\n",
       "    </tr>\n",
       "    <tr>\n",
       "      <th id=\"T_1c1b1_level0_row2\" class=\"row_heading level0 row2\" >2</th>\n",
       "      <td id=\"T_1c1b1_row2_col0\" class=\"data row2 col0\" >a list of human ages (in years)</td>\n",
       "      <td id=\"T_1c1b1_row2_col1\" class=\"data row2 col1\" >[43, 24, 58, 43, 56, 24, 54, 79, 77, 68]</td>\n",
       "      <td id=\"T_1c1b1_row2_col2\" class=\"data row2 col2\" >36</td>\n",
       "      <td id=\"T_1c1b1_row2_col3\" class=\"data row2 col3\" >Is <data> free from obvious errors or outliers?</td>\n",
       "    </tr>\n",
       "  </tbody>\n",
       "</table>\n",
       "\n",
       "            </div>\n",
       "            "
      ],
      "text/plain": [
       "ScenarioList([Scenario({'data_description': 'a list of human ages (in years)', 'sample_data': [43, 24, 58, 43, 56, 24, 54, 79, 77, 68], 'age': 50, 'sense_check_question': 'Is <data> free from obvious errors or outliers?'}), Scenario({'data_description': 'a list of human ages (in years)', 'sample_data': [43, 24, 58, 43, 56, 24, 54, 79, 77, 68], 'age': 52, 'sense_check_question': 'Is <data> consistent with the expected age range for the dataset?'}), Scenario({'data_description': 'a list of human ages (in years)', 'sample_data': [43, 24, 58, 43, 56, 24, 54, 79, 77, 68], 'age': 36, 'sense_check_question': 'Is <data> free from obvious errors or outliers?'})])"
      ]
     },
     "execution_count": 10,
     "metadata": {},
     "output_type": "execute_result"
    }
   ],
   "source": [
    "sl.sample(3)"
   ]
  },
  {
   "cell_type": "markdown",
   "id": "7d2ae335-5b94-45ad-8f2d-18e7f8210116",
   "metadata": {
    "editable": true,
    "slideshow": {
     "slide_type": ""
    },
    "tags": []
   },
   "source": [
    "Same as with a single scenario, we add all the scenarios to the question at once when we run it:"
   ]
  },
  {
   "cell_type": "code",
   "execution_count": 11,
   "id": "d4a4ff5f-aecc-406c-87b1-cd5d9d4cc004",
   "metadata": {
    "editable": true,
    "slideshow": {
     "slide_type": ""
    },
    "tags": []
   },
   "outputs": [
    {
     "data": {
      "text/html": [
       "\n",
       "            <!-- #region Remove Inference Info -->\n",
       "            <div id=\"logger-e834ae45-fa9a-44fa-99a9-000652d6a615\" class=\"job-logger\">\n",
       "                <div class=\"job-logger-header\">\n",
       "                    <span>\n",
       "                        <span id=\"arrow-e834ae45-fa9a-44fa-99a9-000652d6a615\">▼</span> \n",
       "                        Job Status (2025-03-03 09:12:29)\n",
       "                    </span>\n",
       "                </div>\n",
       "                <div id=\"content-e834ae45-fa9a-44fa-99a9-000652d6a615\" style=\"display: block;\">\n",
       "                    <table class=\"job-logger-table\">\n",
       "                        \n",
       "            <tr>\n",
       "                <td class=\"job-logger-cell job-logger-label\">Job UUID</td>\n",
       "                <td class=\"job-logger-cell job-logger-value\">6f91ab81-5e93-42db-b133-f2f42a3838a4</td>\n",
       "            </tr>\n",
       "        \n",
       "            <tr>\n",
       "                <td class=\"job-logger-cell job-logger-label\">Progress Bar URL</td>\n",
       "                <td class=\"job-logger-cell job-logger-value\"><a href=\"https://www.expectedparrot.com/home/remote-job-progress/6f91ab81-5e93-42db-b133-f2f42a3838a4\" target=\"_blank\" class=\"job-logger-link\">https://www.expectedparrot.com/home/remote-job-progress/6f91ab81-5e93-42db-b133-f2f42a3838a4</a></td>\n",
       "            </tr>\n",
       "        \n",
       "            <tr>\n",
       "                <td class=\"job-logger-cell job-logger-label\">Exceptions Report URL</td>\n",
       "                <td class=\"job-logger-cell job-logger-value\">None</td>\n",
       "            </tr>\n",
       "        \n",
       "            <tr>\n",
       "                <td class=\"job-logger-cell job-logger-label\">Results UUID</td>\n",
       "                <td class=\"job-logger-cell job-logger-value\">8e5b10c1-ad7e-4a84-ae6b-2b96da40e01c</td>\n",
       "            </tr>\n",
       "        \n",
       "            <tr>\n",
       "                <td class=\"job-logger-cell job-logger-label\">Results URL</td>\n",
       "                <td class=\"job-logger-cell job-logger-value\"><a href=\"https://www.expectedparrot.com/content/8e5b10c1-ad7e-4a84-ae6b-2b96da40e01c\" target=\"_blank\" class=\"job-logger-link\">https://www.expectedparrot.com/content/8e5b10c1-ad7e-4a84-ae6b-2b96da40e01c</a></td>\n",
       "            </tr>\n",
       "        \n",
       "                    </table>\n",
       "                    \n",
       "                <div class=\"job-logger-status\">\n",
       "                    <span style=\"margin-right: 8px;\" class=\"job-logger-success\">✓</span><strong>Current Status:</strong> Job completed and Results stored on Coop: <a href=\"https://www.expectedparrot.com/content/8e5b10c1-ad7e-4a84-ae6b-2b96da40e01c\" target=\"_blank\" class=\"job-logger-link\">https://www.expectedparrot.com/content/8e5b10c1-ad7e-4a84-ae6b-2b96da40e01c</a>\n",
       "                </div>\n",
       "            \n",
       "                </div>\n",
       "            </div>\n",
       "            <!-- # endregion -->\n",
       "        "
      ],
      "text/plain": [
       "<IPython.core.display.HTML object>"
      ]
     },
     "metadata": {},
     "output_type": "display_data"
    },
    {
     "data": {
      "text/html": [
       "\n",
       "        <style>\n",
       "            /* Base theme variables */\n",
       "            :root {\n",
       "                --jl-bg-primary: #ffffff;\n",
       "                --jl-bg-secondary: #f5f5f5;\n",
       "                --jl-border-color: #e0e0e0;\n",
       "                --jl-text-primary: #24292e;\n",
       "                --jl-text-secondary: #586069;\n",
       "                --jl-link-color: #0366d6;\n",
       "                --jl-success-color: #28a745;\n",
       "                --jl-error-color: #d73a49;\n",
       "                --jl-header-bg: #f1f1f1;\n",
       "            }\n",
       "            \n",
       "            /* Dark theme variables */\n",
       "            .theme-dark {\n",
       "                --jl-bg-primary: #1e1e1e;\n",
       "                --jl-bg-secondary: #252526;\n",
       "                --jl-border-color: #2d2d2d;\n",
       "                --jl-text-primary: #cccccc;\n",
       "                --jl-text-secondary: #999999;\n",
       "                --jl-link-color: #4e94ce;\n",
       "                --jl-success-color: #89d185;\n",
       "                --jl-error-color: #f14c4c;\n",
       "                --jl-header-bg: #333333;\n",
       "            }\n",
       "\n",
       "            /* High contrast theme variables */\n",
       "            .theme-high-contrast {\n",
       "                --jl-bg-primary: #000000;\n",
       "                --jl-bg-secondary: #1a1a1a;\n",
       "                --jl-border-color: #404040;\n",
       "                --jl-text-primary: #ffffff;\n",
       "                --jl-text-secondary: #cccccc;\n",
       "                --jl-link-color: #66b3ff;\n",
       "                --jl-success-color: #00ff00;\n",
       "                --jl-error-color: #ff0000;\n",
       "                --jl-header-bg: #262626;\n",
       "            }\n",
       "            \n",
       "            .job-logger {\n",
       "                font-family: system-ui, -apple-system, sans-serif;\n",
       "                max-width: 800px;\n",
       "                margin: 10px 0;\n",
       "                color: var(--jl-text-primary);\n",
       "                box-shadow: 0 1px 3px rgba(0,0,0,0.12);\n",
       "                border-radius: 4px;\n",
       "                overflow: hidden;\n",
       "            }\n",
       "            \n",
       "            .job-logger-header {\n",
       "                padding: 12px 16px;\n",
       "                background: var(--jl-header-bg);\n",
       "                border: none;\n",
       "                border-radius: 4px 4px 0 0;\n",
       "                cursor: pointer;\n",
       "                color: var(--jl-text-primary);\n",
       "                user-select: none;\n",
       "                font-weight: 500;\n",
       "                letter-spacing: 0.3px;\n",
       "                display: flex;\n",
       "                justify-content: space-between;\n",
       "                align-items: center;\n",
       "            }\n",
       "            \n",
       "            .theme-select {\n",
       "                padding: 4px 8px;\n",
       "                border-radius: 4px;\n",
       "                border: 1px solid var(--jl-border-color);\n",
       "                background: var(--jl-bg-primary);\n",
       "                color: var(--jl-text-primary);\n",
       "                font-size: 0.9em;\n",
       "            }\n",
       "            \n",
       "            .job-logger-table {\n",
       "                width: 100%;\n",
       "                border-collapse: separate;\n",
       "                border-spacing: 0;\n",
       "                background: var(--jl-bg-primary);\n",
       "                border: 1px solid var(--jl-border-color);\n",
       "                margin-top: -1px;\n",
       "            }\n",
       "            \n",
       "            .job-logger-cell {\n",
       "                padding: 12px 16px;\n",
       "                border-bottom: 1px solid var(--jl-border-color);\n",
       "                line-height: 1.4;\n",
       "            }\n",
       "            \n",
       "            .job-logger-label {\n",
       "                font-weight: 500;\n",
       "                color: var(--jl-text-primary);\n",
       "                width: 25%;\n",
       "                background: var(--jl-bg-secondary);\n",
       "            }\n",
       "            \n",
       "            .job-logger-value {\n",
       "                color: var(--jl-text-secondary);\n",
       "                word-break: break-word;\n",
       "            }\n",
       "            \n",
       "            .job-logger-status {\n",
       "                margin: 0;\n",
       "                padding: 12px 16px;\n",
       "                background-color: var(--jl-bg-secondary);\n",
       "                border: 1px solid var(--jl-border-color);\n",
       "                border-top: none;\n",
       "                border-radius: 0 0 4px 4px;\n",
       "                color: var(--jl-text-primary);\n",
       "                font-size: 0.95em;\n",
       "            }\n",
       "        </style>\n",
       "        \n",
       "        <script>\n",
       "            class ThemeManager {\n",
       "                constructor(logId, initialTheme = 'auto') {\n",
       "                    this.logId = logId;\n",
       "                    this.currentTheme = initialTheme;\n",
       "                    this.darkModeMediaQuery = window.matchMedia('(prefers-color-scheme: dark)');\n",
       "                    this.init();\n",
       "                }\n",
       "                \n",
       "                init() {\n",
       "                    this.setupThemeSwitcher();\n",
       "                    this.updateTheme(this.currentTheme);\n",
       "                    \n",
       "                    this.darkModeMediaQuery.addListener(() => {\n",
       "                        if (this.currentTheme === 'auto') {\n",
       "                            this.updateTheme('auto');\n",
       "                        }\n",
       "                    });\n",
       "                }\n",
       "                \n",
       "                setupThemeSwitcher() {\n",
       "                    const logger = document.querySelector(`#logger-${this.logId}`);\n",
       "                    if (!logger) return;\n",
       "                    \n",
       "                    const switcher = document.createElement('div');\n",
       "                    switcher.className = 'theme-switcher';\n",
       "                    switcher.innerHTML = `\n",
       "                        <select id=\"theme-select-${this.logId}\" class=\"theme-select\">\n",
       "                            <option value=\"auto\">Auto</option>\n",
       "                            <option value=\"light\">Light</option>\n",
       "                            <option value=\"dark\">Dark</option>\n",
       "                            <option value=\"high-contrast\">High Contrast</option>\n",
       "                        </select>\n",
       "                    `;\n",
       "                    \n",
       "                    const header = logger.querySelector('.job-logger-header');\n",
       "                    header.appendChild(switcher);\n",
       "                    \n",
       "                    const select = switcher.querySelector('select');\n",
       "                    select.value = this.currentTheme;\n",
       "                    select.addEventListener('change', (e) => {\n",
       "                        this.updateTheme(e.target.value);\n",
       "                    });\n",
       "                }\n",
       "                \n",
       "                updateTheme(theme) {\n",
       "                    const logger = document.querySelector(`#logger-${this.logId}`);\n",
       "                    if (!logger) return;\n",
       "                    \n",
       "                    this.currentTheme = theme;\n",
       "                    \n",
       "                    logger.classList.remove('theme-light', 'theme-dark', 'theme-high-contrast');\n",
       "                    \n",
       "                    if (theme === 'auto') {\n",
       "                        const isDark = this.darkModeMediaQuery.matches;\n",
       "                        logger.classList.add(isDark ? 'theme-dark' : 'theme-light');\n",
       "                    } else {\n",
       "                        logger.classList.add(`theme-${theme}`);\n",
       "                    }\n",
       "                    \n",
       "                    try {\n",
       "                        localStorage.setItem('jobLoggerTheme', theme);\n",
       "                    } catch (e) {\n",
       "                        console.warn('Unable to save theme preference:', e);\n",
       "                    }\n",
       "                }\n",
       "            }\n",
       "            \n",
       "            window.initThemeManager = (logId, initialTheme) => {\n",
       "                new ThemeManager(logId, initialTheme);\n",
       "            };\n",
       "        </script>\n",
       "        \n",
       "        <script>\n",
       "            document.addEventListener('DOMContentLoaded', () => {\n",
       "                window.initThemeManager('e834ae45-fa9a-44fa-99a9-000652d6a615', 'auto');\n",
       "            });\n",
       "        </script>\n",
       "        "
      ],
      "text/plain": [
       "<IPython.core.display.HTML object>"
      ]
     },
     "metadata": {},
     "output_type": "display_data"
    }
   ],
   "source": [
    "results = q2.by(sl).run()"
   ]
  },
  {
   "cell_type": "markdown",
   "id": "4bf51612-767c-4de0-87fe-27f26d7559a3",
   "metadata": {
    "editable": true,
    "slideshow": {
     "slide_type": ""
    },
    "tags": []
   },
   "source": [
    "We can filter, sort, select and print any components of the results that are generated:"
   ]
  },
  {
   "cell_type": "code",
   "execution_count": 12,
   "id": "f486fdd9-5a8a-4129-8f8f-c740af5bb4c5",
   "metadata": {
    "editable": true,
    "slideshow": {
     "slide_type": ""
    },
    "tags": []
   },
   "outputs": [
    {
     "data": {
      "text/html": [
       "\n",
       "            <div style=\"max-height: 500px; overflow-y: auto;\">\n",
       "                <style type=\"text/css\">\n",
       "#T_6867a_row0_col0, #T_6867a_row0_col1, #T_6867a_row1_col0, #T_6867a_row1_col1, #T_6867a_row2_col0, #T_6867a_row2_col1, #T_6867a_row3_col0, #T_6867a_row3_col1, #T_6867a_row4_col0, #T_6867a_row4_col1, #T_6867a_row5_col0, #T_6867a_row5_col1, #T_6867a_row6_col0, #T_6867a_row6_col1, #T_6867a_row7_col0, #T_6867a_row7_col1, #T_6867a_row8_col0, #T_6867a_row8_col1, #T_6867a_row9_col0, #T_6867a_row9_col1, #T_6867a_row10_col0, #T_6867a_row10_col1, #T_6867a_row11_col0, #T_6867a_row11_col1, #T_6867a_row12_col0, #T_6867a_row12_col1, #T_6867a_row13_col0, #T_6867a_row13_col1 {\n",
       "  text-align: left;\n",
       "}\n",
       "</style>\n",
       "<table id=\"T_6867a\">\n",
       "  <thead>\n",
       "    <tr>\n",
       "      <th class=\"blank level0\" >&nbsp;</th>\n",
       "      <th id=\"T_6867a_level0_col0\" class=\"col_heading level0 col0\" >scenario.sense_check_question</th>\n",
       "      <th id=\"T_6867a_level0_col1\" class=\"col_heading level0 col1\" >scenario.age</th>\n",
       "    </tr>\n",
       "  </thead>\n",
       "  <tbody>\n",
       "    <tr>\n",
       "      <th id=\"T_6867a_level0_row0\" class=\"row_heading level0 row0\" >0</th>\n",
       "      <td id=\"T_6867a_row0_col0\" class=\"data row0 col0\" >Is <data> a non-negative integer?</td>\n",
       "      <td id=\"T_6867a_row0_col1\" class=\"data row0 col1\" >0.99</td>\n",
       "    </tr>\n",
       "    <tr>\n",
       "      <th id=\"T_6867a_level0_row1\" class=\"row_heading level0 row1\" >1</th>\n",
       "      <td id=\"T_6867a_row1_col0\" class=\"data row1 col0\" >Is <data> a non-negative integer?</td>\n",
       "      <td id=\"T_6867a_row1_col1\" class=\"data row1 col1\" >-5</td>\n",
       "    </tr>\n",
       "    <tr>\n",
       "      <th id=\"T_6867a_level0_row2\" class=\"row_heading level0 row2\" >2</th>\n",
       "      <td id=\"T_6867a_row2_col0\" class=\"data row2 col0\" >Is <data> a non-negative integer?</td>\n",
       "      <td id=\"T_6867a_row2_col1\" class=\"data row2 col1\" >old</td>\n",
       "    </tr>\n",
       "    <tr>\n",
       "      <th id=\"T_6867a_level0_row3\" class=\"row_heading level0 row3\" >3</th>\n",
       "      <td id=\"T_6867a_row3_col0\" class=\"data row3 col0\" >Is <data> a non-negative integer?</td>\n",
       "      <td id=\"T_6867a_row3_col1\" class=\"data row3 col1\" >1.3</td>\n",
       "    </tr>\n",
       "    <tr>\n",
       "      <th id=\"T_6867a_level0_row4\" class=\"row_heading level0 row4\" >4</th>\n",
       "      <td id=\"T_6867a_row4_col0\" class=\"data row4 col0\" >Is <data> consistent with the expected age range for the dataset?</td>\n",
       "      <td id=\"T_6867a_row4_col1\" class=\"data row4 col1\" >-5</td>\n",
       "    </tr>\n",
       "    <tr>\n",
       "      <th id=\"T_6867a_level0_row5\" class=\"row_heading level0 row5\" >5</th>\n",
       "      <td id=\"T_6867a_row5_col0\" class=\"data row5 col0\" >Is <data> consistent with the expected age range for the dataset?</td>\n",
       "      <td id=\"T_6867a_row5_col1\" class=\"data row5 col1\" >1050</td>\n",
       "    </tr>\n",
       "    <tr>\n",
       "      <th id=\"T_6867a_level0_row6\" class=\"row_heading level0 row6\" >6</th>\n",
       "      <td id=\"T_6867a_row6_col0\" class=\"data row6 col0\" >Is <data> consistent with the expected age range for the dataset?</td>\n",
       "      <td id=\"T_6867a_row6_col1\" class=\"data row6 col1\" >old</td>\n",
       "    </tr>\n",
       "    <tr>\n",
       "      <th id=\"T_6867a_level0_row7\" class=\"row_heading level0 row7\" >7</th>\n",
       "      <td id=\"T_6867a_row7_col0\" class=\"data row7 col0\" >Is <data> consistent with the expected age range for the dataset?</td>\n",
       "      <td id=\"T_6867a_row7_col1\" class=\"data row7 col1\" >1.3</td>\n",
       "    </tr>\n",
       "    <tr>\n",
       "      <th id=\"T_6867a_level0_row8\" class=\"row_heading level0 row8\" >8</th>\n",
       "      <td id=\"T_6867a_row8_col0\" class=\"data row8 col0\" >Is <data> free from obvious errors or outliers?</td>\n",
       "      <td id=\"T_6867a_row8_col1\" class=\"data row8 col1\" >-5</td>\n",
       "    </tr>\n",
       "    <tr>\n",
       "      <th id=\"T_6867a_level0_row9\" class=\"row_heading level0 row9\" >9</th>\n",
       "      <td id=\"T_6867a_row9_col0\" class=\"data row9 col0\" >Is <data> free from obvious errors or outliers?</td>\n",
       "      <td id=\"T_6867a_row9_col1\" class=\"data row9 col1\" >1050</td>\n",
       "    </tr>\n",
       "    <tr>\n",
       "      <th id=\"T_6867a_level0_row10\" class=\"row_heading level0 row10\" >10</th>\n",
       "      <td id=\"T_6867a_row10_col0\" class=\"data row10 col0\" >Is <data> free from obvious errors or outliers?</td>\n",
       "      <td id=\"T_6867a_row10_col1\" class=\"data row10 col1\" >old</td>\n",
       "    </tr>\n",
       "    <tr>\n",
       "      <th id=\"T_6867a_level0_row11\" class=\"row_heading level0 row11\" >11</th>\n",
       "      <td id=\"T_6867a_row11_col0\" class=\"data row11 col0\" >Is <data> free from obvious errors or outliers?</td>\n",
       "      <td id=\"T_6867a_row11_col1\" class=\"data row11 col1\" >1.3</td>\n",
       "    </tr>\n",
       "    <tr>\n",
       "      <th id=\"T_6867a_level0_row12\" class=\"row_heading level0 row12\" >12</th>\n",
       "      <td id=\"T_6867a_row12_col0\" class=\"data row12 col0\" >Is <data> less than or equal to 122?</td>\n",
       "      <td id=\"T_6867a_row12_col1\" class=\"data row12 col1\" >1050</td>\n",
       "    </tr>\n",
       "    <tr>\n",
       "      <th id=\"T_6867a_level0_row13\" class=\"row_heading level0 row13\" >13</th>\n",
       "      <td id=\"T_6867a_row13_col0\" class=\"data row13 col0\" >Is <data> less than or equal to 122?</td>\n",
       "      <td id=\"T_6867a_row13_col1\" class=\"data row13 col1\" >old</td>\n",
       "    </tr>\n",
       "  </tbody>\n",
       "</table>\n",
       "\n",
       "            </div>\n",
       "            "
      ],
      "text/plain": [
       "Dataset([{'scenario.sense_check_question': ['Is <data> a non-negative integer?', 'Is <data> a non-negative integer?', 'Is <data> a non-negative integer?', 'Is <data> a non-negative integer?', 'Is <data> consistent with the expected age range for the dataset?', 'Is <data> consistent with the expected age range for the dataset?', 'Is <data> consistent with the expected age range for the dataset?', 'Is <data> consistent with the expected age range for the dataset?', 'Is <data> free from obvious errors or outliers?', 'Is <data> free from obvious errors or outliers?', 'Is <data> free from obvious errors or outliers?', 'Is <data> free from obvious errors or outliers?', 'Is <data> less than or equal to 122?', 'Is <data> less than or equal to 122?']}, {'scenario.age': [0.99, -5, 'old', 1.3, -5, 1050, 'old', 1.3, -5, 1050, 'old', 1.3, 1050, 'old']}])"
      ]
     },
     "execution_count": 12,
     "metadata": {},
     "output_type": "execute_result"
    }
   ],
   "source": [
    "(\n",
    "    results\n",
    "    .filter(\"check_data == 'No'\")\n",
    "    .sort_by(\"sense_check_question\")\n",
    "    .select(\"sense_check_question\", \"age\")\n",
    ")"
   ]
  },
  {
   "cell_type": "markdown",
   "id": "b2e1a939-d524-4960-bb38-c915864a80c8",
   "metadata": {
    "editable": true,
    "slideshow": {
     "slide_type": ""
    },
    "tags": []
   },
   "source": [
    "## Further exploration\n",
    "This notebook can be readily edited and expanded for other data cleaning and data labeling purposes, or to add personas for AI agents answering the questions with relevant background and expertise. [Learn more about using AI agents for your EDSL surveys](https://docs.expectedparrot.com/en/latest/agents.html). \n",
    "\n",
    "Please see our [documentation page](https://docs.expectedparrot.com/) for examples of other methods and use cases and let us know if you have any questions!"
   ]
  },
  {
   "cell_type": "markdown",
   "id": "77ab4ea4-0faf-4fc4-a047-03a5b56a646c",
   "metadata": {
    "editable": true,
    "slideshow": {
     "slide_type": ""
    },
    "tags": []
   },
   "source": [
    "## Posting to the Coop\n",
    "The [Coop](https://www.expectedparrot.com/content/explore) is a platform for creating, storing and sharing LLM-based research.\n",
    "It is fully integrated with EDSL and accessible from your workspace or Coop account page.\n",
    "Learn more about [creating an account](https://www.expectedparrot.com/login) and [using the Coop](https://docs.expectedparrot.com/en/latest/coop.html).\n",
    "\n",
    "Here we post this notebook:"
   ]
  },
  {
   "cell_type": "code",
   "execution_count": 15,
   "id": "1520656b-8b2f-49f2-a9fc-ddc29531dfb1",
   "metadata": {
    "editable": true,
    "slideshow": {
     "slide_type": ""
    },
    "tags": [
     "skip-execution"
    ]
   },
   "outputs": [],
   "source": [
    "from edsl import Notebook\n",
    "\n",
    "nb = Notebook(path = \"data_cleaning.ipynb\")\n",
    "\n",
    "if refresh := False:\n",
    "    nb.push(\n",
    "        description = \"Example code for data cleaning\", \n",
    "        alias = \"data-cleaning-notebook\",\n",
    "        visibility = \"public\"\n",
    "    )\n",
    "else:\n",
    "    nb.patch(\"https://www.expectedparrot.com/content/RobinHorton/data-cleaning-notebook\", value = nb)"
   ]
  }
 ],
 "metadata": {
  "kernelspec": {
   "display_name": "Python 3 (ipykernel)",
   "language": "python",
   "name": "python3"
  },
  "language_info": {
   "codemirror_mode": {
    "name": "ipython",
    "version": 3
   },
   "file_extension": ".py",
   "mimetype": "text/x-python",
   "name": "python",
   "nbconvert_exporter": "python",
   "pygments_lexer": "ipython3",
   "version": "3.11.7"
  }
 },
 "nbformat": 4,
 "nbformat_minor": 5
}
