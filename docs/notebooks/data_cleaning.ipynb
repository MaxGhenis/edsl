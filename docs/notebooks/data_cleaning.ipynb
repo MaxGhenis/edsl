{
 "cells": [
  {
   "cell_type": "markdown",
   "id": "96bdbd4d-b0f9-447f-9f65-cbcf9e1dbe5c",
   "metadata": {},
   "source": [
    "# Data cleaning\n",
    "This notebook provides sample [EDSL](https://docs.expectedparrot.com/) code for automating a data cleaning task. In a series of steps we show how to use EDSL to automatically suggest appropriate sense checks for a given dataset, convert those sense checks into survey questions, and then prompt a model to answer them to generate a new dataset of the data failing the checks.\n",
    "\n",
    "EDSL is an open-source library for simulating surveys and experiments with AI agents and large language models. Please see our [documentation page](https://docs.expectedparrot.com/) for tips and tutorials on getting started."
   ]
  },
  {
   "cell_type": "markdown",
   "id": "8dfba5a0-9ec5-4dc5-aff7-1709a7784998",
   "metadata": {},
   "source": [
    "### Example data\n",
    "We'll use some observations of ages as our dataset for cleaning. It's a list of random ages between 22 and 85 with some bad values mixed in:"
   ]
  },
  {
   "cell_type": "code",
   "execution_count": 1,
   "id": "65318ede",
   "metadata": {},
   "outputs": [],
   "source": [
    "ages = [84, 62, 79, 57, 59, 55, 68, 66, 47, 54, 76, 33, 74, 56, 47, 24, 23, 38, 38, 54, 51, 84, 71, 46, 38, 26, 50, 56, 62, 39, 31, 52, 69, 84, 69, 48, 48, 23, 65, 54, 78, 51, 69, 77, 75, 76, 26, 44, 61, 32, 70, 24, 74, 22, 32, 24, 80, 65, 36, 42, 84, 66, 40, 85, 28, 22, 67, 25, 70, 77, 53, 69, 64, 27, 61, 68, 68, 78, 0.99, 83, 58, 33, 46, 43, 50, 85, 28, 82, 50, 61, 66, 32, 45, 70, 56, 50, 43, 30, 43, 55, 33, 72, 43, 43, -5, 32, 43, 45, 67, 84, 37, 63, 52, 53, 58, 79, 79, 80, 62, 75, 57, 60, 39, 79, 49, 60, 60, 37, 45, 36, 1050, 73, 70, 56, 39, 58, 69, 77, 68, 84, 78, 48, 31, 74, 27, 55, 56, 66, 35, 39, 57, 47, 29, 24, 47, 60, 43, 37, 84, 64, 28, 22, 37, 71, 77, 76, 84, 63, 76, 58, 41, 72, 22, 63, 78, 49, 82, 69, \"old\", 37, 27, 29, 54, 83, 80, 74, 48, 76, 49, 26, 38, 35, 36, 25, 23, 71, 33, 39, 40, 35, 85, 24, 57, 85, 63, 53, 62, 47, 69, 76, 71, 48, 62, 23, 25, 84, 32, 63, 75, 31, 25, 50, 85, 36, 58, 85, 34, 62, 43, 2, 50, 83, 44, 73, 81, 44, 43, 82, 84, 30, 24, 63, 63, 59, 46, 30, 62, 25, 52, 23]"
   ]
  },
  {
   "cell_type": "markdown",
   "id": "4e86b9ad-811a-45c2-80d9-58ebce7ac3be",
   "metadata": {},
   "source": [
    "### Constructing questions about the data\n",
    "We start by creating a question prompting a model to draft some sense check questions for our data. EDSL comes with a [variety of question types](https://docs.expectedparrot.com/en/latest/questions.html) that we can choose from based on the desired form of the response (multiple choice, free text, etc.). Here we select `QuestionList` in order to prompt the model to return a list of sense check question text. Note that we specially instruct the model to include a placeholder for a piece of data in each question text so that we can run them for each piece of data all at once:"
   ]
  },
  {
   "cell_type": "code",
   "execution_count": 2,
   "id": "e2865dfd-d52a-41e5-8e69-3572b7fe23c5",
   "metadata": {},
   "outputs": [],
   "source": [
    "import random\n",
    "\n",
    "data_description = (\n",
    "    \"a list of ages (in years) of adult participants in a social science experiment\"\n",
    ")\n",
    "sample_data = random.sample(ages, 5)\n",
    "number_of_questions = 4"
   ]
  },
  {
   "cell_type": "code",
   "execution_count": 3,
   "id": "bf96b831-7831-4531-b49c-60c00c4837ea",
   "metadata": {},
   "outputs": [],
   "source": [
    "from edsl.questions import QuestionList\n",
    "\n",
    "q1 = QuestionList(\n",
    "    question_name=\"data_cleaning_questions\",\n",
    "    question_text=f\"\"\"Consider a dataset consisting of {data_description}.\n",
    "    Here is a sample of the data: {sample_data}.\n",
    "    Draft a set of appropriate sense checks for the data in this dataset, \n",
    "    formatted as a list of questions to be answered about each piece of data \n",
    "    individually and without reference to other data, using '<data>' as a \n",
    "    placeholder for the piece of data in each question text.\"\"\",\n",
    "    max_list_items=number_of_questions,\n",
    ")"
   ]
  },
  {
   "cell_type": "markdown",
   "id": "2df10478-a481-4822-b051-a7d253777d34",
   "metadata": {},
   "source": [
    "We generate a response by calling the `run()` method for the question. This generates a dataset of `Results` that we can begin analyzing:"
   ]
  },
  {
   "cell_type": "markdown",
   "id": "047419b4-5cf3-4e82-b0a7-b23fed6fa195",
   "metadata": {},
   "source": [
    "EDSL comes with [built-in methods for analyzing results](https://docs.expectedparrot.com/en/latest/results.html) as datasets, dataframes, JSON and other forms. We can inspect a list of all the components that are directly accessible:"
   ]
  },
  {
   "cell_type": "markdown",
   "id": "00140874-1218-4f31-8454-ae618730b7f9",
   "metadata": {},
   "source": [
    "Here we select just the answer (the draft data cleaning question texts) and print it in a table:"
   ]
  },
  {
   "cell_type": "code",
   "execution_count": 4,
   "id": "878b82bc-cd03-43bb-a28a-34138d5c5241",
   "metadata": {},
   "outputs": [],
   "source": [
    "results = q1.run()"
   ]
  },
  {
   "cell_type": "code",
   "execution_count": 5,
   "id": "4d443009-ad52-4562-a2e4-1c1cbfa15294",
   "metadata": {},
   "outputs": [
    {
     "data": {
      "text/html": [
       "<pre style=\"white-space:pre;overflow-x:auto;line-height:normal;font-family:Menlo,'DejaVu Sans Mono',consolas,'Courier New',monospace\">┏━━━━━━━━━━━━━━━━━━━━━━━━━━━━━━━━━━━━━━━━━━━━━━━━━━━━━━━━━━━━━━━━━━━━━━━━━━━━━━━━━━━━━━━━━━━━━━━━━━━━━━━━━━━━━━━━━┓\n",
       "┃<span style=\"color: #800080; text-decoration-color: #800080; font-weight: bold\"> answer                                                                                                          </span>┃\n",
       "┃<span style=\"color: #800080; text-decoration-color: #800080; font-weight: bold\"> .data_cleaning_questions                                                                                        </span>┃\n",
       "┡━━━━━━━━━━━━━━━━━━━━━━━━━━━━━━━━━━━━━━━━━━━━━━━━━━━━━━━━━━━━━━━━━━━━━━━━━━━━━━━━━━━━━━━━━━━━━━━━━━━━━━━━━━━━━━━━━┩\n",
       "│<span style=\"color: #7f7f7f; text-decoration-color: #7f7f7f\"> ['Is &lt;data&gt; a positive number?', 'Is &lt;data&gt; a whole number?', 'Is &lt;data&gt; within the typical human lifespan      </span>│\n",
       "│<span style=\"color: #7f7f7f; text-decoration-color: #7f7f7f\"> (less than 122 years)?', 'Is &lt;data&gt; greater than or equal to 18?']                                              </span>│\n",
       "└─────────────────────────────────────────────────────────────────────────────────────────────────────────────────┘\n",
       "</pre>\n"
      ],
      "text/plain": [
       "┏━━━━━━━━━━━━━━━━━━━━━━━━━━━━━━━━━━━━━━━━━━━━━━━━━━━━━━━━━━━━━━━━━━━━━━━━━━━━━━━━━━━━━━━━━━━━━━━━━━━━━━━━━━━━━━━━━┓\n",
       "┃\u001b[1;35m \u001b[0m\u001b[1;35manswer                                                                                                         \u001b[0m\u001b[1;35m \u001b[0m┃\n",
       "┃\u001b[1;35m \u001b[0m\u001b[1;35m.data_cleaning_questions                                                                                       \u001b[0m\u001b[1;35m \u001b[0m┃\n",
       "┡━━━━━━━━━━━━━━━━━━━━━━━━━━━━━━━━━━━━━━━━━━━━━━━━━━━━━━━━━━━━━━━━━━━━━━━━━━━━━━━━━━━━━━━━━━━━━━━━━━━━━━━━━━━━━━━━━┩\n",
       "│\u001b[2m \u001b[0m\u001b[2m['Is <data> a positive number?', 'Is <data> a whole number?', 'Is <data> within the typical human lifespan     \u001b[0m\u001b[2m \u001b[0m│\n",
       "│\u001b[2m \u001b[0m\u001b[2m(less than 122 years)?', 'Is <data> greater than or equal to 18?']                                             \u001b[0m\u001b[2m \u001b[0m│\n",
       "└─────────────────────────────────────────────────────────────────────────────────────────────────────────────────┘\n"
      ]
     },
     "metadata": {},
     "output_type": "display_data"
    }
   ],
   "source": [
    "results.select(\"data_cleaning_questions\").print(format=\"rich\")"
   ]
  },
  {
   "cell_type": "markdown",
   "id": "69de7d8e-e7b3-4ecc-8cb8-025e2c3819dc",
   "metadata": {},
   "source": [
    "### Parameterizing questions\n",
    "Next we use the data cleaning question texts as inputs to a new question prompting the model to draft a list of appropriate answer options. This is done by creating a `Scenario` for each data cleaning question that we add to our new question when we run it ([learn more about using scenarios](https://docs.expectedparrot.com/en/latest/scenarios.html)):"
   ]
  },
  {
   "cell_type": "code",
   "execution_count": 6,
   "id": "881453f3-7e42-4caa-8ccc-efa17b723411",
   "metadata": {},
   "outputs": [
    {
     "data": {
      "text/plain": [
       "['Is <data> a positive number?',\n",
       " 'Is <data> a whole number?',\n",
       " 'Is <data> within the typical human lifespan (less than 122 years)?',\n",
       " 'Is <data> greater than or equal to 18?']"
      ]
     },
     "execution_count": 6,
     "metadata": {},
     "output_type": "execute_result"
    }
   ],
   "source": [
    "data_cleaning_questions = results.select(\"data_cleaning_questions\").to_list()[0]\n",
    "data_cleaning_questions"
   ]
  },
  {
   "cell_type": "code",
   "execution_count": 7,
   "id": "3e8ae90b-825a-45f7-ab6b-919dfc120a06",
   "metadata": {},
   "outputs": [],
   "source": [
    "from edsl.questions import QuestionList\n",
    "\n",
    "q2 = QuestionList(\n",
    "    question_name=\"data_cleaning_options\",\n",
    "    question_text=\"Consider a dataset consisting of \"\n",
    "    + data_description\n",
    "    + \"\\nHere is a sample of the data: \"\n",
    "    + str(sample_data)\n",
    "    + \"\"\"Draft a list of appropriate answer options for the following sense check\n",
    "    question about this data: {{ data_cleaning_question }}.\n",
    "    Include 'Yes', 'No', and any other options that could add helpful context\n",
    "    to flag a piece of data that is potentially problematic.\"\"\",\n",
    ")"
   ]
  },
  {
   "cell_type": "code",
   "execution_count": 8,
   "id": "402fa009-9fbc-40e5-9b67-bb9bdcf96545",
   "metadata": {},
   "outputs": [
    {
     "data": {
      "text/plain": [
       "[Scenario({'data_cleaning_question': 'Is <data> a positive number?'}),\n",
       " Scenario({'data_cleaning_question': 'Is <data> a whole number?'}),\n",
       " Scenario({'data_cleaning_question': 'Is <data> within the typical human lifespan (less than 122 years)?'}),\n",
       " Scenario({'data_cleaning_question': 'Is <data> greater than or equal to 18?'})]"
      ]
     },
     "execution_count": 8,
     "metadata": {},
     "output_type": "execute_result"
    }
   ],
   "source": [
    "from edsl import Scenario\n",
    "\n",
    "scenarios = [Scenario({\"data_cleaning_question\": q}) for q in data_cleaning_questions]\n",
    "scenarios"
   ]
  },
  {
   "cell_type": "code",
   "execution_count": 9,
   "id": "46ce3f89-e36a-4dce-87d3-085261e68493",
   "metadata": {},
   "outputs": [],
   "source": [
    "results = q2.by(scenarios).run()"
   ]
  },
  {
   "cell_type": "code",
   "execution_count": 10,
   "id": "80051b00-b428-4874-802a-ccfc4d16ddc4",
   "metadata": {},
   "outputs": [
    {
     "data": {
      "text/html": [
       "<pre style=\"white-space:pre;overflow-x:auto;line-height:normal;font-family:Menlo,'DejaVu Sans Mono',consolas,'Courier New',monospace\">┏━━━━━━━━━━━━━━━━━━━━━━━━━━━━━━━━━━━━━━━━━━━━━━━━━━━━━━━━┳━━━━━━━━━━━━━━━━━━━━━━━━━━━━━━━━━━━━━━━━━━━━━━━━━━━━━━━━┓\n",
       "┃<span style=\"color: #800080; text-decoration-color: #800080; font-weight: bold\"> scenario                                               </span>┃<span style=\"color: #800080; text-decoration-color: #800080; font-weight: bold\"> answer                                                 </span>┃\n",
       "┃<span style=\"color: #800080; text-decoration-color: #800080; font-weight: bold\"> .data_cleaning_question                                </span>┃<span style=\"color: #800080; text-decoration-color: #800080; font-weight: bold\"> .data_cleaning_options                                 </span>┃\n",
       "┡━━━━━━━━━━━━━━━━━━━━━━━━━━━━━━━━━━━━━━━━━━━━━━━━━━━━━━━━╇━━━━━━━━━━━━━━━━━━━━━━━━━━━━━━━━━━━━━━━━━━━━━━━━━━━━━━━━┩\n",
       "│<span style=\"color: #7f7f7f; text-decoration-color: #7f7f7f\"> Is &lt;data&gt; a positive number?                           </span>│<span style=\"color: #7f7f7f; text-decoration-color: #7f7f7f\"> ['Yes', 'No', 'The value is not a number', 'The value  </span>│\n",
       "│<span style=\"color: #7f7f7f; text-decoration-color: #7f7f7f\">                                                        </span>│<span style=\"color: #7f7f7f; text-decoration-color: #7f7f7f\"> is negative', 'The value is zero']                     </span>│\n",
       "├────────────────────────────────────────────────────────┼────────────────────────────────────────────────────────┤\n",
       "│<span style=\"color: #7f7f7f; text-decoration-color: #7f7f7f\"> Is &lt;data&gt; within the typical human lifespan (less than </span>│<span style=\"color: #7f7f7f; text-decoration-color: #7f7f7f\"> ['Yes', 'No', 'Data is not a number', 'Data is         </span>│\n",
       "│<span style=\"color: #7f7f7f; text-decoration-color: #7f7f7f\"> 122 years)?                                            </span>│<span style=\"color: #7f7f7f; text-decoration-color: #7f7f7f\"> negative', 'Data exceeds maximum verified human        </span>│\n",
       "│<span style=\"color: #7f7f7f; text-decoration-color: #7f7f7f\">                                                        </span>│<span style=\"color: #7f7f7f; text-decoration-color: #7f7f7f\"> lifespan']                                             </span>│\n",
       "├────────────────────────────────────────────────────────┼────────────────────────────────────────────────────────┤\n",
       "│<span style=\"color: #7f7f7f; text-decoration-color: #7f7f7f\"> Is &lt;data&gt; greater than or equal to 18?                 </span>│<span style=\"color: #7f7f7f; text-decoration-color: #7f7f7f\"> ['Yes', 'No', 'Data is missing or non-numeric', 'Data  </span>│\n",
       "│<span style=\"color: #7f7f7f; text-decoration-color: #7f7f7f\">                                                        </span>│<span style=\"color: #7f7f7f; text-decoration-color: #7f7f7f\"> is an outlier or unusual value']                       </span>│\n",
       "├────────────────────────────────────────────────────────┼────────────────────────────────────────────────────────┤\n",
       "│<span style=\"color: #7f7f7f; text-decoration-color: #7f7f7f\"> Is &lt;data&gt; a whole number?                              </span>│<span style=\"color: #7f7f7f; text-decoration-color: #7f7f7f\"> ['Yes', 'No', 'The data is not a number', 'The data is </span>│\n",
       "│<span style=\"color: #7f7f7f; text-decoration-color: #7f7f7f\">                                                        </span>│<span style=\"color: #7f7f7f; text-decoration-color: #7f7f7f\"> a negative number', 'The data includes a decimal or    </span>│\n",
       "│<span style=\"color: #7f7f7f; text-decoration-color: #7f7f7f\">                                                        </span>│<span style=\"color: #7f7f7f; text-decoration-color: #7f7f7f\"> fraction']                                             </span>│\n",
       "└────────────────────────────────────────────────────────┴────────────────────────────────────────────────────────┘\n",
       "</pre>\n"
      ],
      "text/plain": [
       "┏━━━━━━━━━━━━━━━━━━━━━━━━━━━━━━━━━━━━━━━━━━━━━━━━━━━━━━━━┳━━━━━━━━━━━━━━━━━━━━━━━━━━━━━━━━━━━━━━━━━━━━━━━━━━━━━━━━┓\n",
       "┃\u001b[1;35m \u001b[0m\u001b[1;35mscenario                                              \u001b[0m\u001b[1;35m \u001b[0m┃\u001b[1;35m \u001b[0m\u001b[1;35manswer                                                \u001b[0m\u001b[1;35m \u001b[0m┃\n",
       "┃\u001b[1;35m \u001b[0m\u001b[1;35m.data_cleaning_question                               \u001b[0m\u001b[1;35m \u001b[0m┃\u001b[1;35m \u001b[0m\u001b[1;35m.data_cleaning_options                                \u001b[0m\u001b[1;35m \u001b[0m┃\n",
       "┡━━━━━━━━━━━━━━━━━━━━━━━━━━━━━━━━━━━━━━━━━━━━━━━━━━━━━━━━╇━━━━━━━━━━━━━━━━━━━━━━━━━━━━━━━━━━━━━━━━━━━━━━━━━━━━━━━━┩\n",
       "│\u001b[2m \u001b[0m\u001b[2mIs <data> a positive number?                          \u001b[0m\u001b[2m \u001b[0m│\u001b[2m \u001b[0m\u001b[2m['Yes', 'No', 'The value is not a number', 'The value \u001b[0m\u001b[2m \u001b[0m│\n",
       "│\u001b[2m                                                        \u001b[0m│\u001b[2m \u001b[0m\u001b[2mis negative', 'The value is zero']                    \u001b[0m\u001b[2m \u001b[0m│\n",
       "├────────────────────────────────────────────────────────┼────────────────────────────────────────────────────────┤\n",
       "│\u001b[2m \u001b[0m\u001b[2mIs <data> within the typical human lifespan (less than\u001b[0m\u001b[2m \u001b[0m│\u001b[2m \u001b[0m\u001b[2m['Yes', 'No', 'Data is not a number', 'Data is        \u001b[0m\u001b[2m \u001b[0m│\n",
       "│\u001b[2m \u001b[0m\u001b[2m122 years)?                                           \u001b[0m\u001b[2m \u001b[0m│\u001b[2m \u001b[0m\u001b[2mnegative', 'Data exceeds maximum verified human       \u001b[0m\u001b[2m \u001b[0m│\n",
       "│\u001b[2m                                                        \u001b[0m│\u001b[2m \u001b[0m\u001b[2mlifespan']                                            \u001b[0m\u001b[2m \u001b[0m│\n",
       "├────────────────────────────────────────────────────────┼────────────────────────────────────────────────────────┤\n",
       "│\u001b[2m \u001b[0m\u001b[2mIs <data> greater than or equal to 18?                \u001b[0m\u001b[2m \u001b[0m│\u001b[2m \u001b[0m\u001b[2m['Yes', 'No', 'Data is missing or non-numeric', 'Data \u001b[0m\u001b[2m \u001b[0m│\n",
       "│\u001b[2m                                                        \u001b[0m│\u001b[2m \u001b[0m\u001b[2mis an outlier or unusual value']                      \u001b[0m\u001b[2m \u001b[0m│\n",
       "├────────────────────────────────────────────────────────┼────────────────────────────────────────────────────────┤\n",
       "│\u001b[2m \u001b[0m\u001b[2mIs <data> a whole number?                             \u001b[0m\u001b[2m \u001b[0m│\u001b[2m \u001b[0m\u001b[2m['Yes', 'No', 'The data is not a number', 'The data is\u001b[0m\u001b[2m \u001b[0m│\n",
       "│\u001b[2m                                                        \u001b[0m│\u001b[2m \u001b[0m\u001b[2ma negative number', 'The data includes a decimal or   \u001b[0m\u001b[2m \u001b[0m│\n",
       "│\u001b[2m                                                        \u001b[0m│\u001b[2m \u001b[0m\u001b[2mfraction']                                            \u001b[0m\u001b[2m \u001b[0m│\n",
       "└────────────────────────────────────────────────────────┴────────────────────────────────────────────────────────┘\n"
      ]
     },
     "metadata": {},
     "output_type": "display_data"
    }
   ],
   "source": [
    "results.select(\"data_cleaning_question\", \"data_cleaning_options\").print(format=\"rich\")"
   ]
  },
  {
   "cell_type": "code",
   "execution_count": 11,
   "id": "b8b3b498",
   "metadata": {},
   "outputs": [],
   "source": [
    "questions_data = (results.\n",
    "                  select(\"data_cleaning_question\", \"data_cleaning_options\")\n",
    "                  .to_scenario_list()\n",
    "                  .rename({'data_cleaning_options':'question_options'})\n",
    "                  )"
   ]
  },
  {
   "cell_type": "code",
   "execution_count": 12,
   "id": "0529d8fb",
   "metadata": {},
   "outputs": [],
   "source": [
    "from edsl import QuestionMultipleChoice"
   ]
  },
  {
   "cell_type": "code",
   "execution_count": 13,
   "id": "460ad216",
   "metadata": {},
   "outputs": [
    {
     "data": {
      "text/html": [
       "<div class=\"highlight\"><pre><span></span><span class=\"p\">{</span>\n",
       "<span class=\"w\">    </span><span class=\"nt\">&quot;scenarios&quot;</span><span class=\"p\">:</span><span class=\"w\"> </span><span class=\"p\">[</span>\n",
       "<span class=\"w\">        </span><span class=\"p\">{</span>\n",
       "<span class=\"w\">            </span><span class=\"nt\">&quot;data_cleaning_question&quot;</span><span class=\"p\">:</span><span class=\"w\"> </span><span class=\"s2\">&quot;Is &lt;data&gt; a positive number?&quot;</span><span class=\"p\">,</span>\n",
       "<span class=\"w\">            </span><span class=\"nt\">&quot;question_options&quot;</span><span class=\"p\">:</span><span class=\"w\"> </span><span class=\"p\">[</span>\n",
       "<span class=\"w\">                </span><span class=\"s2\">&quot;Yes&quot;</span><span class=\"p\">,</span>\n",
       "<span class=\"w\">                </span><span class=\"s2\">&quot;No&quot;</span><span class=\"p\">,</span>\n",
       "<span class=\"w\">                </span><span class=\"s2\">&quot;The value is not a number&quot;</span><span class=\"p\">,</span>\n",
       "<span class=\"w\">                </span><span class=\"s2\">&quot;The value is negative&quot;</span><span class=\"p\">,</span>\n",
       "<span class=\"w\">                </span><span class=\"s2\">&quot;The value is zero&quot;</span>\n",
       "<span class=\"w\">            </span><span class=\"p\">]</span>\n",
       "<span class=\"w\">        </span><span class=\"p\">},</span>\n",
       "<span class=\"w\">        </span><span class=\"p\">{</span>\n",
       "<span class=\"w\">            </span><span class=\"nt\">&quot;data_cleaning_question&quot;</span><span class=\"p\">:</span><span class=\"w\"> </span><span class=\"s2\">&quot;Is &lt;data&gt; within the typical human lifespan (less than 122 years)?&quot;</span><span class=\"p\">,</span>\n",
       "<span class=\"w\">            </span><span class=\"nt\">&quot;question_options&quot;</span><span class=\"p\">:</span><span class=\"w\"> </span><span class=\"p\">[</span>\n",
       "<span class=\"w\">                </span><span class=\"s2\">&quot;Yes&quot;</span><span class=\"p\">,</span>\n",
       "<span class=\"w\">                </span><span class=\"s2\">&quot;No&quot;</span><span class=\"p\">,</span>\n",
       "<span class=\"w\">                </span><span class=\"s2\">&quot;Data is not a number&quot;</span><span class=\"p\">,</span>\n",
       "<span class=\"w\">                </span><span class=\"s2\">&quot;Data is negative&quot;</span><span class=\"p\">,</span>\n",
       "<span class=\"w\">                </span><span class=\"s2\">&quot;Data exceeds maximum verified human lifespan&quot;</span>\n",
       "<span class=\"w\">            </span><span class=\"p\">]</span>\n",
       "<span class=\"w\">        </span><span class=\"p\">},</span>\n",
       "<span class=\"w\">        </span><span class=\"p\">{</span>\n",
       "<span class=\"w\">            </span><span class=\"nt\">&quot;data_cleaning_question&quot;</span><span class=\"p\">:</span><span class=\"w\"> </span><span class=\"s2\">&quot;Is &lt;data&gt; greater than or equal to 18?&quot;</span><span class=\"p\">,</span>\n",
       "<span class=\"w\">            </span><span class=\"nt\">&quot;question_options&quot;</span><span class=\"p\">:</span><span class=\"w\"> </span><span class=\"p\">[</span>\n",
       "<span class=\"w\">                </span><span class=\"s2\">&quot;Yes&quot;</span><span class=\"p\">,</span>\n",
       "<span class=\"w\">                </span><span class=\"s2\">&quot;No&quot;</span><span class=\"p\">,</span>\n",
       "<span class=\"w\">                </span><span class=\"s2\">&quot;Data is missing or non-numeric&quot;</span><span class=\"p\">,</span>\n",
       "<span class=\"w\">                </span><span class=\"s2\">&quot;Data is an outlier or unusual value&quot;</span>\n",
       "<span class=\"w\">            </span><span class=\"p\">]</span>\n",
       "<span class=\"w\">        </span><span class=\"p\">},</span>\n",
       "<span class=\"w\">        </span><span class=\"p\">{</span>\n",
       "<span class=\"w\">            </span><span class=\"nt\">&quot;data_cleaning_question&quot;</span><span class=\"p\">:</span><span class=\"w\"> </span><span class=\"s2\">&quot;Is &lt;data&gt; a whole number?&quot;</span><span class=\"p\">,</span>\n",
       "<span class=\"w\">            </span><span class=\"nt\">&quot;question_options&quot;</span><span class=\"p\">:</span><span class=\"w\"> </span><span class=\"p\">[</span>\n",
       "<span class=\"w\">                </span><span class=\"s2\">&quot;Yes&quot;</span><span class=\"p\">,</span>\n",
       "<span class=\"w\">                </span><span class=\"s2\">&quot;No&quot;</span><span class=\"p\">,</span>\n",
       "<span class=\"w\">                </span><span class=\"s2\">&quot;The data is not a number&quot;</span><span class=\"p\">,</span>\n",
       "<span class=\"w\">                </span><span class=\"s2\">&quot;The data is a negative number&quot;</span><span class=\"p\">,</span>\n",
       "<span class=\"w\">                </span><span class=\"s2\">&quot;The data includes a decimal or fraction&quot;</span>\n",
       "<span class=\"w\">            </span><span class=\"p\">]</span>\n",
       "<span class=\"w\">        </span><span class=\"p\">}</span>\n",
       "<span class=\"w\">    </span><span class=\"p\">]</span>\n",
       "<span class=\"p\">}</span>\n",
       "</pre></div>\n"
      ],
      "text/plain": [
       "ScenarioList([Scenario({'data_cleaning_question': 'Is <data> a positive number?', 'question_options': ['Yes', 'No', 'The value is not a number', 'The value is negative', 'The value is zero']}), Scenario({'data_cleaning_question': 'Is <data> within the typical human lifespan (less than 122 years)?', 'question_options': ['Yes', 'No', 'Data is not a number', 'Data is negative', 'Data exceeds maximum verified human lifespan']}), Scenario({'data_cleaning_question': 'Is <data> greater than or equal to 18?', 'question_options': ['Yes', 'No', 'Data is missing or non-numeric', 'Data is an outlier or unusual value']}), Scenario({'data_cleaning_question': 'Is <data> a whole number?', 'question_options': ['Yes', 'No', 'The data is not a number', 'The data is a negative number', 'The data includes a decimal or fraction']})])"
      ]
     },
     "execution_count": 13,
     "metadata": {},
     "output_type": "execute_result"
    }
   ],
   "source": [
    "questions_data"
   ]
  },
  {
   "cell_type": "code",
   "execution_count": 17,
   "id": "f41e7339",
   "metadata": {},
   "outputs": [
    {
     "data": {
      "text/plain": [
       "{'description': None,\n",
       " 'object_type': 'scenario_list',\n",
       " 'url': 'https://www.expectedparrot.com/content/11a5e588-a116-40e1-98d8-ea33b4ca7c5e',\n",
       " 'uuid': '11a5e588-a116-40e1-98d8-ea33b4ca7c5e',\n",
       " 'version': '0.1.33.dev1',\n",
       " 'visibility': 'unlisted'}"
      ]
     },
     "execution_count": 17,
     "metadata": {},
     "output_type": "execute_result"
    }
   ],
   "source": [
    "questions_data.push()"
   ]
  },
  {
   "cell_type": "code",
   "execution_count": 17,
   "id": "46decc46",
   "metadata": {},
   "outputs": [
    {
     "ename": "QuestionCreationValidationError",
     "evalue": "Dynamic question options must be of the form: '{{ question_options }}'.",
     "output_type": "error",
     "traceback": [
      "\u001b[0;31m---------------------------------------------------------------------------\u001b[0m",
      "\u001b[0;31mQuestionCreationValidationError\u001b[0m           Traceback (most recent call last)",
      "Cell \u001b[0;32mIn[17], line 3\u001b[0m\n\u001b[1;32m      1\u001b[0m \u001b[43mQuestionMultipleChoice\u001b[49m\u001b[43m(\u001b[49m\u001b[43mquestion_text\u001b[49m\u001b[43m \u001b[49m\u001b[38;5;241;43m=\u001b[39;49m\u001b[43m \u001b[49m\u001b[38;5;124;43m\"\u001b[39;49m\u001b[38;5;124;43m{{\u001b[39;49m\u001b[38;5;124;43mdata_cleaning_question}}\u001b[39;49m\u001b[38;5;124;43m\"\u001b[39;49m\u001b[43m,\u001b[49m\u001b[43m \u001b[49m\n\u001b[1;32m      2\u001b[0m \u001b[43m                       \u001b[49m\u001b[43mquestion_options\u001b[49m\u001b[43m \u001b[49m\u001b[38;5;241;43m=\u001b[39;49m\u001b[43m \u001b[49m\u001b[38;5;124;43m\"\u001b[39;49m\u001b[38;5;124;43m{{\u001b[39;49m\u001b[38;5;124;43m question_options }}\u001b[39;49m\u001b[38;5;124;43m\"\u001b[39;49m\u001b[43m,\u001b[49m\u001b[43m \u001b[49m\n\u001b[0;32m----> 3\u001b[0m \u001b[43m                       \u001b[49m\u001b[43mquestion_name\u001b[49m\u001b[43m \u001b[49m\u001b[38;5;241;43m=\u001b[39;49m\u001b[43m \u001b[49m\u001b[38;5;124;43m\"\u001b[39;49m\u001b[38;5;124;43mcleaning\u001b[39;49m\u001b[38;5;124;43m\"\u001b[39;49m\u001b[43m)\u001b[49m\u001b[38;5;241;43m.\u001b[39;49m\u001b[43mloop\u001b[49m\u001b[43m(\u001b[49m\u001b[43mquestions_data\u001b[49m\u001b[43m)\u001b[49m\n",
      "File \u001b[0;32m~/tools/edsl/edsl/questions/QuestionBaseGenMixin.py:88\u001b[0m, in \u001b[0;36mQuestionBaseGenMixin.loop\u001b[0;34m(self, scenario_list)\u001b[0m\n\u001b[1;32m     86\u001b[0m     \u001b[38;5;28;01mif\u001b[39;00m new_data[\u001b[38;5;124m\"\u001b[39m\u001b[38;5;124mquestion_name\u001b[39m\u001b[38;5;124m\"\u001b[39m] \u001b[38;5;241m==\u001b[39m staring_name:\n\u001b[1;32m     87\u001b[0m         new_data[\u001b[38;5;124m\"\u001b[39m\u001b[38;5;124mquestion_name\u001b[39m\u001b[38;5;124m\"\u001b[39m] \u001b[38;5;241m=\u001b[39m new_data[\u001b[38;5;124m\"\u001b[39m\u001b[38;5;124mquestion_name\u001b[39m\u001b[38;5;124m\"\u001b[39m] \u001b[38;5;241m+\u001b[39m \u001b[38;5;124mf\u001b[39m\u001b[38;5;124m\"\u001b[39m\u001b[38;5;124m_\u001b[39m\u001b[38;5;132;01m{\u001b[39;00mindex\u001b[38;5;132;01m}\u001b[39;00m\u001b[38;5;124m\"\u001b[39m\n\u001b[0;32m---> 88\u001b[0m     questions\u001b[38;5;241m.\u001b[39mappend(\u001b[43mQuestionBase\u001b[49m\u001b[38;5;241;43m.\u001b[39;49m\u001b[43mfrom_dict\u001b[49m\u001b[43m(\u001b[49m\u001b[43mnew_data\u001b[49m\u001b[43m)\u001b[49m)\n\u001b[1;32m     89\u001b[0m \u001b[38;5;28;01mreturn\u001b[39;00m questions\n",
      "File \u001b[0;32m~/tools/edsl/edsl/utilities/decorators.py:44\u001b[0m, in \u001b[0;36mremove_edsl_version.<locals>.wrapper\u001b[0;34m(cls, data, *args, **kwargs)\u001b[0m\n\u001b[1;32m     41\u001b[0m     \u001b[38;5;28;01mif\u001b[39;00m edsl_version \u001b[38;5;129;01mis\u001b[39;00m \u001b[38;5;28;01mNone\u001b[39;00m \u001b[38;5;129;01mor\u001b[39;00m edsl_version \u001b[38;5;241m<\u001b[39m\u001b[38;5;241m=\u001b[39m \u001b[38;5;124m\"\u001b[39m\u001b[38;5;124m0.1.20\u001b[39m\u001b[38;5;124m\"\u001b[39m:\n\u001b[1;32m     42\u001b[0m         data_copy[\u001b[38;5;124m\"\u001b[39m\u001b[38;5;124mquestion_groups\u001b[39m\u001b[38;5;124m\"\u001b[39m] \u001b[38;5;241m=\u001b[39m {}\n\u001b[0;32m---> 44\u001b[0m \u001b[38;5;28;01mreturn\u001b[39;00m \u001b[43mfunc\u001b[49m\u001b[43m(\u001b[49m\u001b[38;5;28;43mcls\u001b[39;49m\u001b[43m,\u001b[49m\u001b[43m \u001b[49m\u001b[43mdata_copy\u001b[49m\u001b[43m,\u001b[49m\u001b[43m \u001b[49m\u001b[38;5;241;43m*\u001b[39;49m\u001b[43margs\u001b[49m\u001b[43m,\u001b[49m\u001b[43m \u001b[49m\u001b[38;5;241;43m*\u001b[39;49m\u001b[38;5;241;43m*\u001b[39;49m\u001b[43mkwargs\u001b[49m\u001b[43m)\u001b[49m\n",
      "File \u001b[0;32m~/tools/edsl/edsl/questions/QuestionBase.py:210\u001b[0m, in \u001b[0;36mQuestionBase.from_dict\u001b[0;34m(cls, data)\u001b[0m\n\u001b[1;32m    207\u001b[0m     new_q\u001b[38;5;241m.\u001b[39mmodel_instructions \u001b[38;5;241m=\u001b[39m model_instructions\n\u001b[1;32m    208\u001b[0m     \u001b[38;5;28;01mreturn\u001b[39;00m new_q\n\u001b[0;32m--> 210\u001b[0m \u001b[38;5;28;01mreturn\u001b[39;00m \u001b[43mquestion_class\u001b[49m\u001b[43m(\u001b[49m\u001b[38;5;241;43m*\u001b[39;49m\u001b[38;5;241;43m*\u001b[39;49m\u001b[43mlocal_data\u001b[49m\u001b[43m)\u001b[49m\n",
      "File \u001b[0;32m~/tools/edsl/edsl/questions/QuestionMultipleChoice.py:141\u001b[0m, in \u001b[0;36mQuestionMultipleChoice.__init__\u001b[0;34m(self, question_name, question_text, question_options, include_comment, use_code, answering_instructions, question_presentation)\u001b[0m\n\u001b[1;32m    139\u001b[0m \u001b[38;5;28mself\u001b[39m\u001b[38;5;241m.\u001b[39mquestion_name \u001b[38;5;241m=\u001b[39m question_name\n\u001b[1;32m    140\u001b[0m \u001b[38;5;28mself\u001b[39m\u001b[38;5;241m.\u001b[39mquestion_text \u001b[38;5;241m=\u001b[39m question_text\n\u001b[0;32m--> 141\u001b[0m \u001b[38;5;28;43mself\u001b[39;49m\u001b[38;5;241;43m.\u001b[39;49m\u001b[43mquestion_options\u001b[49m \u001b[38;5;241m=\u001b[39m question_options\n\u001b[1;32m    143\u001b[0m \u001b[38;5;28mself\u001b[39m\u001b[38;5;241m.\u001b[39m_include_comment \u001b[38;5;241m=\u001b[39m include_comment\n\u001b[1;32m    144\u001b[0m \u001b[38;5;28mself\u001b[39m\u001b[38;5;241m.\u001b[39muse_code \u001b[38;5;241m=\u001b[39m use_code\n",
      "File \u001b[0;32m~/tools/edsl/edsl/questions/descriptors.py:56\u001b[0m, in \u001b[0;36mBaseDescriptor.__set__\u001b[0;34m(self, instance, value)\u001b[0m\n\u001b[1;32m     54\u001b[0m \u001b[38;5;28;01mdef\u001b[39;00m \u001b[38;5;21m__set__\u001b[39m(\u001b[38;5;28mself\u001b[39m, instance, value: Any) \u001b[38;5;241m-\u001b[39m\u001b[38;5;241m>\u001b[39m \u001b[38;5;28;01mNone\u001b[39;00m:\n\u001b[1;32m     55\u001b[0m \u001b[38;5;250m    \u001b[39m\u001b[38;5;124;03m\"\"\"Set the value of the attribute.\"\"\"\u001b[39;00m\n\u001b[0;32m---> 56\u001b[0m     \u001b[38;5;28;43mself\u001b[39;49m\u001b[38;5;241;43m.\u001b[39;49m\u001b[43mvalidate\u001b[49m\u001b[43m(\u001b[49m\u001b[43mvalue\u001b[49m\u001b[43m,\u001b[49m\u001b[43m \u001b[49m\u001b[43minstance\u001b[49m\u001b[43m)\u001b[49m\n\u001b[1;32m     57\u001b[0m     \u001b[38;5;28;01mfrom\u001b[39;00m \u001b[38;5;21;01medsl\u001b[39;00m\u001b[38;5;21;01m.\u001b[39;00m\u001b[38;5;21;01mprompts\u001b[39;00m\u001b[38;5;21;01m.\u001b[39;00m\u001b[38;5;21;01mregistry\u001b[39;00m \u001b[38;5;28;01mimport\u001b[39;00m get_classes\n\u001b[1;32m     59\u001b[0m     instance\u001b[38;5;241m.\u001b[39m\u001b[38;5;18m__dict__\u001b[39m[\u001b[38;5;28mself\u001b[39m\u001b[38;5;241m.\u001b[39mname] \u001b[38;5;241m=\u001b[39m value\n",
      "File \u001b[0;32m~/tools/edsl/edsl/questions/descriptors.py:300\u001b[0m, in \u001b[0;36mQuestionOptionsDescriptor.validate\u001b[0;34m(self, value, instance)\u001b[0m\n\u001b[1;32m    298\u001b[0m         \u001b[38;5;28;01mreturn\u001b[39;00m \u001b[38;5;28;01mNone\u001b[39;00m\n\u001b[1;32m    299\u001b[0m     \u001b[38;5;28;01melse\u001b[39;00m:\n\u001b[0;32m--> 300\u001b[0m         \u001b[38;5;28;01mraise\u001b[39;00m QuestionCreationValidationError(\n\u001b[1;32m    301\u001b[0m             \u001b[38;5;124m\"\u001b[39m\u001b[38;5;124mDynamic question options must be of the form: \u001b[39m\u001b[38;5;124m'\u001b[39m\u001b[38;5;124m{{\u001b[39m\u001b[38;5;124m question_options }}\u001b[39m\u001b[38;5;124m'\u001b[39m\u001b[38;5;124m.\u001b[39m\u001b[38;5;124m\"\u001b[39m\n\u001b[1;32m    302\u001b[0m         )\n\u001b[1;32m    303\u001b[0m \u001b[38;5;28;01mif\u001b[39;00m \u001b[38;5;129;01mnot\u001b[39;00m \u001b[38;5;28misinstance\u001b[39m(value, \u001b[38;5;28mlist\u001b[39m):\n\u001b[1;32m    304\u001b[0m     \u001b[38;5;28;01mraise\u001b[39;00m QuestionCreationValidationError(\n\u001b[1;32m    305\u001b[0m         \u001b[38;5;124mf\u001b[39m\u001b[38;5;124m\"\u001b[39m\u001b[38;5;124mQuestion options must be a list (got \u001b[39m\u001b[38;5;132;01m{\u001b[39;00mvalue\u001b[38;5;132;01m}\u001b[39;00m\u001b[38;5;124m).\u001b[39m\u001b[38;5;124m\"\u001b[39m\n\u001b[1;32m    306\u001b[0m     )\n",
      "\u001b[0;31mQuestionCreationValidationError\u001b[0m: Dynamic question options must be of the form: '{{ question_options }}'."
     ]
    }
   ],
   "source": [
    "QuestionMultipleChoice(question_text = \"{{data_cleaning_question}}\", \n",
    "                       question_options = \"{{ question_options }}\", \n",
    "                       question_name = \"cleaning\").loop(questions_data)"
   ]
  },
  {
   "cell_type": "markdown",
   "id": "5852ab5f-7c40-49ae-b892-f570e473b040",
   "metadata": {},
   "source": [
    "## Constructing a data cleaning survey\n",
    "Next we can make any desired edits to the data cleaning questions, and then use them to create a `Survey` about the data that we prompt the model to answer ([learn more about constructing surveys](https://docs.expectedparrot.com/en/latest/surveys.html)). We use `QuestionMultipleChoice` to facilitate the use of the answer options that have been created:"
   ]
  },
  {
   "cell_type": "code",
   "execution_count": null,
   "id": "5d562232",
   "metadata": {},
   "outputs": [],
   "source": [
    "results.select(\"data_cleaning_question\", \"data_cleaning_options\").print(format=\"rich\")"
   ]
  },
  {
   "cell_type": "code",
   "execution_count": null,
   "id": "b9472829-e445-470e-b83b-66b3452dcb16",
   "metadata": {},
   "outputs": [],
   "source": [
    "import ast\n",
    "\n",
    "df = results.to_pandas(remove_prefix=True)\n",
    "df = df[[\"data_cleaning_question\", \"data_cleaning_options\"]]"
   ]
  },
  {
   "cell_type": "code",
   "execution_count": null,
   "id": "3af68946-8d30-4ec4-bd56-bc42de54a980",
   "metadata": {},
   "outputs": [],
   "source": [
    "from edsl import QuestionMultipleChoice\n",
    "\n",
    "formatted_questions = []\n",
    "\n",
    "for index, row in df.iterrows():\n",
    "    q = QuestionMultipleChoice(\n",
    "        question_name=\"q\" + str(index),\n",
    "        question_text=row[\"data_cleaning_question\"].replace(\"<data>\", \"{{ age }}\"),\n",
    "        question_options=ast.literal_eval(row[\"data_cleaning_options\"]),\n",
    "    )\n",
    "    formatted_questions.append(q)\n",
    "\n",
    "formatted_questions"
   ]
  },
  {
   "cell_type": "code",
   "execution_count": null,
   "id": "38c67b34-d063-4c9f-aa54-9fbf25fae80c",
   "metadata": {},
   "outputs": [],
   "source": [
    "from edsl import Survey\n",
    "\n",
    "survey = Survey(formatted_questions)"
   ]
  },
  {
   "cell_type": "markdown",
   "id": "b459eba6-87cb-4888-9013-21c9308eaddd",
   "metadata": {},
   "source": [
    "We create `Scenario` objects for the individual ages that we will insert in the question texts when we run the survey:"
   ]
  },
  {
   "cell_type": "code",
   "execution_count": null,
   "id": "bee27036-bf0e-4174-8322-49cf0042e455",
   "metadata": {},
   "outputs": [],
   "source": [
    "scenarios = [Scenario({\"age\": age}) for age in ages]"
   ]
  },
  {
   "cell_type": "code",
   "execution_count": null,
   "id": "da0593d6-b8a2-41b7-b6c6-35427f3c24f3",
   "metadata": {},
   "outputs": [],
   "source": [
    "results = survey.by(scenarios).run()"
   ]
  },
  {
   "cell_type": "markdown",
   "id": "4f68be47-ab58-461c-872b-fc4d5d44f31b",
   "metadata": {},
   "source": [
    "Here we inspect all the components of these new results, print a table of a set of them (optionally set `max_rows`), and then print a table where the results are filtered to cases for review, based on the responses to the questions (see the `filter` logic):"
   ]
  },
  {
   "cell_type": "code",
   "execution_count": null,
   "id": "b7c28110-17b4-48db-9199-e0bf8d8e7db0",
   "metadata": {},
   "outputs": [],
   "source": [
    "results.columns"
   ]
  },
  {
   "cell_type": "code",
   "execution_count": null,
   "id": "9c39f6ad-3709-419c-95c8-aa273aebabed",
   "metadata": {},
   "outputs": [],
   "source": [
    "(\n",
    "    results.select(\"age\", \"q0\", \"q1\", \"q2\", \"q3\").print(\n",
    "        pretty_labels={\n",
    "            \"scenario.age\": \"Age\",\n",
    "            \"answer.q0\": data_cleaning_questions[0],\n",
    "            \"answer.q1\": data_cleaning_questions[1],\n",
    "            \"answer.q2\": data_cleaning_questions[2],\n",
    "            \"answer.q3\": data_cleaning_questions[3],\n",
    "        },\n",
    "        format=\"rich\",\n",
    "        max_rows=10,\n",
    "    )\n",
    ")"
   ]
  },
  {
   "cell_type": "code",
   "execution_count": null,
   "id": "5fb9a683-5fe7-4fda-a641-015f2f27d905",
   "metadata": {},
   "outputs": [],
   "source": [
    "(\n",
    "    results.filter(\"q0 != 'Yes' or q1 != 'Yes' or q2 != 'Yes' or q3 != 'Yes'\")\n",
    "    .select(\"age\")\n",
    "    .print(pretty_labels={\"scenario.age\": \"Bad data\"}, format=\"rich\")\n",
    ")"
   ]
  },
  {
   "cell_type": "markdown",
   "id": "b2e1a939-d524-4960-bb38-c915864a80c8",
   "metadata": {},
   "source": [
    "## Further exploration\n",
    "This notebook can be readily edited and expanded for other data cleaning and data labeling purposes, or to add personas for AI agents answering the questions with relevant background and expertise. [Learn more about using AI agents for your EDSL surveys](https://docs.expectedparrot.com/en/latest/agents.html). \n",
    "\n",
    "Please see our [documentation page](https://docs.expectedparrot.com/) for examples of other methods and use cases and let us know if you have any questions!"
   ]
  }
 ],
 "metadata": {
  "kernelspec": {
   "display_name": "Python 3 (ipykernel)",
   "language": "python",
   "name": "python3"
  },
  "language_info": {
   "codemirror_mode": {
    "name": "ipython",
    "version": 3
   },
   "file_extension": ".py",
   "mimetype": "text/x-python",
   "name": "python",
   "nbconvert_exporter": "python",
   "pygments_lexer": "ipython3",
   "version": "3.10.14"
  }
 },
 "nbformat": 4,
 "nbformat_minor": 5
}
