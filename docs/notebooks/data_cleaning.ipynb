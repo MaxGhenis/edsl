{
 "cells": [
  {
   "cell_type": "markdown",
   "id": "96bdbd4d-b0f9-447f-9f65-cbcf9e1dbe5c",
   "metadata": {
    "editable": true,
    "slideshow": {
     "slide_type": ""
    },
    "tags": []
   },
   "source": [
    "# Data cleaning\n",
    "This notebook provides sample [EDSL](https://docs.expectedparrot.com/) code for automating a data cleaning task. In a series of steps we show how to use EDSL to automatically suggest appropriate sense checks for a given dataset, convert those sense checks into survey questions, and then prompt a model to answer them to generate a new dataset of the data failing the checks.\n",
    "\n",
    "EDSL is an open-source library for simulating surveys and experiments with AI agents and large language models. Please see our [documentation page](https://docs.expectedparrot.com/) for tips and tutorials on getting started."
   ]
  },
  {
   "cell_type": "markdown",
   "id": "8dfba5a0-9ec5-4dc5-aff7-1709a7784998",
   "metadata": {
    "editable": true,
    "slideshow": {
     "slide_type": ""
    },
    "tags": []
   },
   "source": [
    "### Example data\n",
    "We'll use some observations of ages as our dataset for cleaning. It's a list of random ages between 22 and 85 with some bad values mixed in:"
   ]
  },
  {
   "cell_type": "code",
   "execution_count": 1,
   "id": "65318ede",
   "metadata": {
    "editable": true,
    "slideshow": {
     "slide_type": ""
    },
    "tags": []
   },
   "outputs": [],
   "source": [
    "ages = [84, 62, 79, 57, 59, 55, 68, 66, 47, 54, 76, 33, 74, 56, 47, 24, 23, 38, 38, 54, 51, 84, 71, 46, 38, 26, 50, 56, 62, 39, 31, 52, 69, 84, 69, 48, 48, 23, 65, 54, 78, 51, 69, 77, 75, 76, 26, 44, 61, 32, 70, 24, 74, 22, 32, 24, 80, 65, 36, 42, 84, 66, 40, 85, 28, 22, 67, 25, 70, 77, 53, 69, 64, 27, 61, 68, 68, 78, 0.99, 83, 58, 33, 46, 43, 50, 85, 28, 82, 50, 61, 66, 32, 45, 70, 56, 50, 43, 30, 43, 55, 33, 72, 43, 43, -5, 32, 43, 45, 67, 84, 37, 63, 52, 53, 58, 79, 79, 80, 62, 75, 57, 60, 39, 79, 49, 60, 60, 37, 45, 36, 1050, 73, 70, 56, 39, 58, 69, 77, 68, 84, 78, 48, 31, 74, 27, 55, 56, 66, 35, 39, 57, 47, 29, 24, 47, 60, 43, 37, 84, 64, 28, 22, 37, 71, 77, 76, 84, 63, 76, 58, 41, 72, 22, 63, 78, 49, 82, 69, \"old\", 37, 27, 29, 54, 83, 80, 74, 48, 76, 49, 26, 38, 35, 36, 25, 23, 71, 33, 39, 40, 35, 85, 24, 57, 85, 63, 53, 62, 47, 69, 76, 71, 48, 62, 23, 25, 84, 32, 63, 75, 31, 25, 50, 85, 36, 58, 85, 34, 62, 43, 2, 50, 83, 44, 73, 81, 44, 43, 82, 84, 30, 24, 63, 63, 59, 46, 30, 62, 25, 52, 23]"
   ]
  },
  {
   "cell_type": "markdown",
   "id": "4e86b9ad-811a-45c2-80d9-58ebce7ac3be",
   "metadata": {
    "editable": true,
    "slideshow": {
     "slide_type": ""
    },
    "tags": []
   },
   "source": [
    "### Constructing questions about the data\n",
    "We start by creating a question prompting a model to draft some sense check questions for our data. EDSL comes with a [variety of question types](https://docs.expectedparrot.com/en/latest/questions.html) that we can choose from based on the desired form of the response (multiple choice, free text, etc.). Here we select `QuestionList` in order to prompt the model to return a list of sense check question text. Note that we specially instruct the model to include a placeholder for a piece of data in each question text so that we can run them for each piece of data all at once:"
   ]
  },
  {
   "cell_type": "code",
   "execution_count": 2,
   "id": "e2865dfd-d52a-41e5-8e69-3572b7fe23c5",
   "metadata": {
    "editable": true,
    "slideshow": {
     "slide_type": ""
    },
    "tags": []
   },
   "outputs": [],
   "source": [
    "import random\n",
    "\n",
    "data_description = (\n",
    "    \"a list of ages (in years) of adult participants in a social science experiment\"\n",
    ")\n",
    "sample_data = random.sample(ages, 5)\n",
    "number_of_questions = 4"
   ]
  },
  {
   "cell_type": "code",
   "execution_count": 3,
   "id": "bf96b831-7831-4531-b49c-60c00c4837ea",
   "metadata": {
    "editable": true,
    "slideshow": {
     "slide_type": ""
    },
    "tags": []
   },
   "outputs": [],
   "source": [
    "from edsl import QuestionList\n",
    "\n",
    "q1 = QuestionList(\n",
    "    question_name=\"data_cleaning_questions\",\n",
    "    question_text=f\"\"\"Consider a dataset consisting of {data_description}.\n",
    "    Here is a sample of the data: {sample_data}.\n",
    "    Draft a set of appropriate sense checks for the data in this dataset, \n",
    "    formatted as a list of questions to be answered about each piece of data \n",
    "    individually and without reference to other data, using '<data>' as a \n",
    "    placeholder for the piece of data in each question text.\"\"\",\n",
    "    max_list_items=number_of_questions,\n",
    ")"
   ]
  },
  {
   "cell_type": "markdown",
   "id": "2df10478-a481-4822-b051-a7d253777d34",
   "metadata": {
    "editable": true,
    "slideshow": {
     "slide_type": ""
    },
    "tags": []
   },
   "source": [
    "We generate a response by calling the `run()` method for the question. This generates a dataset of `Results` that we can begin analyzing:"
   ]
  },
  {
   "cell_type": "markdown",
   "id": "047419b4-5cf3-4e82-b0a7-b23fed6fa195",
   "metadata": {
    "editable": true,
    "slideshow": {
     "slide_type": ""
    },
    "tags": []
   },
   "source": [
    "EDSL comes with [built-in methods for analyzing results](https://docs.expectedparrot.com/en/latest/results.html) as datasets, dataframes, JSON and other forms. We can inspect a list of all the components that are directly accessible:"
   ]
  },
  {
   "cell_type": "markdown",
   "id": "00140874-1218-4f31-8454-ae618730b7f9",
   "metadata": {
    "editable": true,
    "slideshow": {
     "slide_type": ""
    },
    "tags": []
   },
   "source": [
    "Here we select just the answer (the draft data cleaning question texts) and print it in a table:"
   ]
  },
  {
   "cell_type": "code",
   "execution_count": 4,
   "id": "878b82bc-cd03-43bb-a28a-34138d5c5241",
   "metadata": {
    "editable": true,
    "slideshow": {
     "slide_type": ""
    },
    "tags": []
   },
   "outputs": [],
   "source": [
    "results = q1.run()"
   ]
  },
  {
   "cell_type": "code",
   "execution_count": 5,
   "id": "4d443009-ad52-4562-a2e4-1c1cbfa15294",
   "metadata": {
    "editable": true,
    "slideshow": {
     "slide_type": ""
    },
    "tags": []
   },
   "outputs": [
    {
     "data": {
      "text/html": [
       "<pre style=\"white-space:pre;overflow-x:auto;line-height:normal;font-family:Menlo,'DejaVu Sans Mono',consolas,'Courier New',monospace\">┏━━━━━━━━━━━━━━━━━━━━━━━━━━━━━━━━━━━━━━━━━━━━━━━━━━━━━━━━━━━━━━━━━━━━━━━━━━━━━━━━━━━━━━━━━━━━━━━━━━━━━━━━━━━━━━━━━┓\n",
       "┃<span style=\"color: #800080; text-decoration-color: #800080; font-weight: bold\"> answer                                                                                                          </span>┃\n",
       "┃<span style=\"color: #800080; text-decoration-color: #800080; font-weight: bold\"> .data_cleaning_questions                                                                                        </span>┃\n",
       "┡━━━━━━━━━━━━━━━━━━━━━━━━━━━━━━━━━━━━━━━━━━━━━━━━━━━━━━━━━━━━━━━━━━━━━━━━━━━━━━━━━━━━━━━━━━━━━━━━━━━━━━━━━━━━━━━━━┩\n",
       "│<span style=\"color: #7f7f7f; text-decoration-color: #7f7f7f\"> ['Is &lt;data&gt; a non-negative integer?', 'Is &lt;data&gt; greater than or equal to 18?', 'Is &lt;data&gt; less than or equal   </span>│\n",
       "│<span style=\"color: #7f7f7f; text-decoration-color: #7f7f7f\"> to 120?', 'Is &lt;data&gt; a whole number?']                                                                          </span>│\n",
       "└─────────────────────────────────────────────────────────────────────────────────────────────────────────────────┘\n",
       "</pre>\n"
      ],
      "text/plain": [
       "┏━━━━━━━━━━━━━━━━━━━━━━━━━━━━━━━━━━━━━━━━━━━━━━━━━━━━━━━━━━━━━━━━━━━━━━━━━━━━━━━━━━━━━━━━━━━━━━━━━━━━━━━━━━━━━━━━━┓\n",
       "┃\u001b[1;35m \u001b[0m\u001b[1;35manswer                                                                                                         \u001b[0m\u001b[1;35m \u001b[0m┃\n",
       "┃\u001b[1;35m \u001b[0m\u001b[1;35m.data_cleaning_questions                                                                                       \u001b[0m\u001b[1;35m \u001b[0m┃\n",
       "┡━━━━━━━━━━━━━━━━━━━━━━━━━━━━━━━━━━━━━━━━━━━━━━━━━━━━━━━━━━━━━━━━━━━━━━━━━━━━━━━━━━━━━━━━━━━━━━━━━━━━━━━━━━━━━━━━━┩\n",
       "│\u001b[2m \u001b[0m\u001b[2m['Is <data> a non-negative integer?', 'Is <data> greater than or equal to 18?', 'Is <data> less than or equal  \u001b[0m\u001b[2m \u001b[0m│\n",
       "│\u001b[2m \u001b[0m\u001b[2mto 120?', 'Is <data> a whole number?']                                                                         \u001b[0m\u001b[2m \u001b[0m│\n",
       "└─────────────────────────────────────────────────────────────────────────────────────────────────────────────────┘\n"
      ]
     },
     "metadata": {},
     "output_type": "display_data"
    }
   ],
   "source": [
    "results.select(\"data_cleaning_questions\").print(format=\"rich\")"
   ]
  },
  {
   "cell_type": "markdown",
   "id": "69de7d8e-e7b3-4ecc-8cb8-025e2c3819dc",
   "metadata": {
    "editable": true,
    "slideshow": {
     "slide_type": ""
    },
    "tags": []
   },
   "source": [
    "### Parameterizing questions\n",
    "Next we use the data cleaning question texts as inputs to a new question prompting the model to draft a list of appropriate answer options. This is done by creating a `Scenario` for each data cleaning question that we add to our new question when we run it ([learn more about using scenarios](https://docs.expectedparrot.com/en/latest/scenarios.html)):"
   ]
  },
  {
   "cell_type": "code",
   "execution_count": 6,
   "id": "881453f3-7e42-4caa-8ccc-efa17b723411",
   "metadata": {
    "editable": true,
    "slideshow": {
     "slide_type": ""
    },
    "tags": []
   },
   "outputs": [
    {
     "data": {
      "text/plain": [
       "['Is <data> a non-negative integer?',\n",
       " 'Is <data> greater than or equal to 18?',\n",
       " 'Is <data> less than or equal to 120?',\n",
       " 'Is <data> a whole number?']"
      ]
     },
     "execution_count": 6,
     "metadata": {},
     "output_type": "execute_result"
    }
   ],
   "source": [
    "data_cleaning_questions = results.select(\"data_cleaning_questions\").to_list()[0]\n",
    "data_cleaning_questions"
   ]
  },
  {
   "cell_type": "code",
   "execution_count": 7,
   "id": "3e8ae90b-825a-45f7-ab6b-919dfc120a06",
   "metadata": {
    "editable": true,
    "slideshow": {
     "slide_type": ""
    },
    "tags": []
   },
   "outputs": [],
   "source": [
    "from edsl import QuestionList\n",
    "\n",
    "q2 = QuestionList(\n",
    "    question_name=\"data_cleaning_options\",\n",
    "    question_text=\"Consider a dataset consisting of \"\n",
    "    + data_description\n",
    "    + \"\\nHere is a sample of the data: \"\n",
    "    + str(sample_data)\n",
    "    + \"\"\"Draft a list of appropriate answer options for the following sense check\n",
    "    question about this data: {{ data_cleaning_question }}.\n",
    "    Include 'Yes', 'No', and any other options that could add helpful context\n",
    "    to flag a piece of data that is potentially problematic.\"\"\",\n",
    ")"
   ]
  },
  {
   "cell_type": "code",
   "execution_count": 8,
   "id": "402fa009-9fbc-40e5-9b67-bb9bdcf96545",
   "metadata": {
    "editable": true,
    "slideshow": {
     "slide_type": ""
    },
    "tags": []
   },
   "outputs": [
    {
     "data": {
      "text/html": [
       "<div class=\"highlight\"><pre><span></span><span class=\"p\">{</span>\n",
       "<span class=\"w\">    </span><span class=\"nt\">&quot;scenarios&quot;</span><span class=\"p\">:</span><span class=\"w\"> </span><span class=\"p\">[</span>\n",
       "<span class=\"w\">        </span><span class=\"p\">{</span>\n",
       "<span class=\"w\">            </span><span class=\"nt\">&quot;data_cleaning_question&quot;</span><span class=\"p\">:</span><span class=\"w\"> </span><span class=\"s2\">&quot;Is &lt;data&gt; a non-negative integer?&quot;</span>\n",
       "<span class=\"w\">        </span><span class=\"p\">},</span>\n",
       "<span class=\"w\">        </span><span class=\"p\">{</span>\n",
       "<span class=\"w\">            </span><span class=\"nt\">&quot;data_cleaning_question&quot;</span><span class=\"p\">:</span><span class=\"w\"> </span><span class=\"s2\">&quot;Is &lt;data&gt; greater than or equal to 18?&quot;</span>\n",
       "<span class=\"w\">        </span><span class=\"p\">},</span>\n",
       "<span class=\"w\">        </span><span class=\"p\">{</span>\n",
       "<span class=\"w\">            </span><span class=\"nt\">&quot;data_cleaning_question&quot;</span><span class=\"p\">:</span><span class=\"w\"> </span><span class=\"s2\">&quot;Is &lt;data&gt; less than or equal to 120?&quot;</span>\n",
       "<span class=\"w\">        </span><span class=\"p\">},</span>\n",
       "<span class=\"w\">        </span><span class=\"p\">{</span>\n",
       "<span class=\"w\">            </span><span class=\"nt\">&quot;data_cleaning_question&quot;</span><span class=\"p\">:</span><span class=\"w\"> </span><span class=\"s2\">&quot;Is &lt;data&gt; a whole number?&quot;</span>\n",
       "<span class=\"w\">        </span><span class=\"p\">}</span>\n",
       "<span class=\"w\">    </span><span class=\"p\">]</span>\n",
       "<span class=\"p\">}</span>\n",
       "</pre></div>\n"
      ],
      "text/plain": [
       "ScenarioList([Scenario({'data_cleaning_question': 'Is <data> a non-negative integer?'}), Scenario({'data_cleaning_question': 'Is <data> greater than or equal to 18?'}), Scenario({'data_cleaning_question': 'Is <data> less than or equal to 120?'}), Scenario({'data_cleaning_question': 'Is <data> a whole number?'})])"
      ]
     },
     "execution_count": 8,
     "metadata": {},
     "output_type": "execute_result"
    }
   ],
   "source": [
    "from edsl import ScenarioList\n",
    "\n",
    "scenarios = ScenarioList.from_list(\"data_cleaning_question\", data_cleaning_questions)\n",
    "scenarios"
   ]
  },
  {
   "cell_type": "code",
   "execution_count": 9,
   "id": "46ce3f89-e36a-4dce-87d3-085261e68493",
   "metadata": {
    "editable": true,
    "slideshow": {
     "slide_type": ""
    },
    "tags": []
   },
   "outputs": [],
   "source": [
    "results = q2.by(scenarios).run()"
   ]
  },
  {
   "cell_type": "code",
   "execution_count": 10,
   "id": "80051b00-b428-4874-802a-ccfc4d16ddc4",
   "metadata": {
    "editable": true,
    "slideshow": {
     "slide_type": ""
    },
    "tags": []
   },
   "outputs": [
    {
     "data": {
      "text/html": [
       "<pre style=\"white-space:pre;overflow-x:auto;line-height:normal;font-family:Menlo,'DejaVu Sans Mono',consolas,'Courier New',monospace\">┏━━━━━━━━━━━━━━━━━━━━━━━━━━━━━━━━━━━━━━━━┳━━━━━━━━━━━━━━━━━━━━━━━━━━━━━━━━━━━━━━━━━━━━━━━━━━━━━━━━━━━━━━━━━━━━━━━━┓\n",
       "┃<span style=\"color: #800080; text-decoration-color: #800080; font-weight: bold\"> scenario                               </span>┃<span style=\"color: #800080; text-decoration-color: #800080; font-weight: bold\"> answer                                                                 </span>┃\n",
       "┃<span style=\"color: #800080; text-decoration-color: #800080; font-weight: bold\"> .data_cleaning_question                </span>┃<span style=\"color: #800080; text-decoration-color: #800080; font-weight: bold\"> .data_cleaning_options                                                 </span>┃\n",
       "┡━━━━━━━━━━━━━━━━━━━━━━━━━━━━━━━━━━━━━━━━╇━━━━━━━━━━━━━━━━━━━━━━━━━━━━━━━━━━━━━━━━━━━━━━━━━━━━━━━━━━━━━━━━━━━━━━━━┩\n",
       "│<span style=\"color: #7f7f7f; text-decoration-color: #7f7f7f\"> Is &lt;data&gt; a non-negative integer?      </span>│<span style=\"color: #7f7f7f; text-decoration-color: #7f7f7f\"> ['Yes', 'No', 'Data is missing', 'Data is not an integer', 'Data is    </span>│\n",
       "│<span style=\"color: #7f7f7f; text-decoration-color: #7f7f7f\">                                        </span>│<span style=\"color: #7f7f7f; text-decoration-color: #7f7f7f\"> negative']                                                             </span>│\n",
       "├────────────────────────────────────────┼────────────────────────────────────────────────────────────────────────┤\n",
       "│<span style=\"color: #7f7f7f; text-decoration-color: #7f7f7f\"> Is &lt;data&gt; a whole number?              </span>│<span style=\"color: #7f7f7f; text-decoration-color: #7f7f7f\"> ['Yes', 'No', 'Not sure - please check', 'Data missing or incomplete', </span>│\n",
       "│<span style=\"color: #7f7f7f; text-decoration-color: #7f7f7f\">                                        </span>│<span style=\"color: #7f7f7f; text-decoration-color: #7f7f7f\"> 'Data out of expected range']                                          </span>│\n",
       "├────────────────────────────────────────┼────────────────────────────────────────────────────────────────────────┤\n",
       "│<span style=\"color: #7f7f7f; text-decoration-color: #7f7f7f\"> Is &lt;data&gt; less than or equal to 120?   </span>│<span style=\"color: #7f7f7f; text-decoration-color: #7f7f7f\"> ['Yes', 'No', 'Data missing', 'Data corrupted', 'Outlier detected']    </span>│\n",
       "├────────────────────────────────────────┼────────────────────────────────────────────────────────────────────────┤\n",
       "│<span style=\"color: #7f7f7f; text-decoration-color: #7f7f7f\"> Is &lt;data&gt; greater than or equal to 18? </span>│<span style=\"color: #7f7f7f; text-decoration-color: #7f7f7f\"> ['Yes', 'No', 'Data Missing', 'Data Corrupted', 'Not an Adult']        </span>│\n",
       "└────────────────────────────────────────┴────────────────────────────────────────────────────────────────────────┘\n",
       "</pre>\n"
      ],
      "text/plain": [
       "┏━━━━━━━━━━━━━━━━━━━━━━━━━━━━━━━━━━━━━━━━┳━━━━━━━━━━━━━━━━━━━━━━━━━━━━━━━━━━━━━━━━━━━━━━━━━━━━━━━━━━━━━━━━━━━━━━━━┓\n",
       "┃\u001b[1;35m \u001b[0m\u001b[1;35mscenario                              \u001b[0m\u001b[1;35m \u001b[0m┃\u001b[1;35m \u001b[0m\u001b[1;35manswer                                                                \u001b[0m\u001b[1;35m \u001b[0m┃\n",
       "┃\u001b[1;35m \u001b[0m\u001b[1;35m.data_cleaning_question               \u001b[0m\u001b[1;35m \u001b[0m┃\u001b[1;35m \u001b[0m\u001b[1;35m.data_cleaning_options                                                \u001b[0m\u001b[1;35m \u001b[0m┃\n",
       "┡━━━━━━━━━━━━━━━━━━━━━━━━━━━━━━━━━━━━━━━━╇━━━━━━━━━━━━━━━━━━━━━━━━━━━━━━━━━━━━━━━━━━━━━━━━━━━━━━━━━━━━━━━━━━━━━━━━┩\n",
       "│\u001b[2m \u001b[0m\u001b[2mIs <data> a non-negative integer?     \u001b[0m\u001b[2m \u001b[0m│\u001b[2m \u001b[0m\u001b[2m['Yes', 'No', 'Data is missing', 'Data is not an integer', 'Data is   \u001b[0m\u001b[2m \u001b[0m│\n",
       "│\u001b[2m                                        \u001b[0m│\u001b[2m \u001b[0m\u001b[2mnegative']                                                            \u001b[0m\u001b[2m \u001b[0m│\n",
       "├────────────────────────────────────────┼────────────────────────────────────────────────────────────────────────┤\n",
       "│\u001b[2m \u001b[0m\u001b[2mIs <data> a whole number?             \u001b[0m\u001b[2m \u001b[0m│\u001b[2m \u001b[0m\u001b[2m['Yes', 'No', 'Not sure - please check', 'Data missing or incomplete',\u001b[0m\u001b[2m \u001b[0m│\n",
       "│\u001b[2m                                        \u001b[0m│\u001b[2m \u001b[0m\u001b[2m'Data out of expected range']                                         \u001b[0m\u001b[2m \u001b[0m│\n",
       "├────────────────────────────────────────┼────────────────────────────────────────────────────────────────────────┤\n",
       "│\u001b[2m \u001b[0m\u001b[2mIs <data> less than or equal to 120?  \u001b[0m\u001b[2m \u001b[0m│\u001b[2m \u001b[0m\u001b[2m['Yes', 'No', 'Data missing', 'Data corrupted', 'Outlier detected']   \u001b[0m\u001b[2m \u001b[0m│\n",
       "├────────────────────────────────────────┼────────────────────────────────────────────────────────────────────────┤\n",
       "│\u001b[2m \u001b[0m\u001b[2mIs <data> greater than or equal to 18?\u001b[0m\u001b[2m \u001b[0m│\u001b[2m \u001b[0m\u001b[2m['Yes', 'No', 'Data Missing', 'Data Corrupted', 'Not an Adult']       \u001b[0m\u001b[2m \u001b[0m│\n",
       "└────────────────────────────────────────┴────────────────────────────────────────────────────────────────────────┘\n"
      ]
     },
     "metadata": {},
     "output_type": "display_data"
    }
   ],
   "source": [
    "results.select(\"data_cleaning_question\", \"data_cleaning_options\").print(format=\"rich\")"
   ]
  },
  {
   "cell_type": "code",
   "execution_count": 11,
   "id": "b8b3b498",
   "metadata": {
    "editable": true,
    "slideshow": {
     "slide_type": ""
    },
    "tags": []
   },
   "outputs": [],
   "source": [
    "questions_data = (results.\n",
    "                  select(\"data_cleaning_question\", \"data_cleaning_options\")\n",
    "                  .to_scenario_list()\n",
    "                  .rename({'data_cleaning_options':'question_options'})\n",
    "                  )"
   ]
  },
  {
   "cell_type": "code",
   "execution_count": 12,
   "id": "0529d8fb",
   "metadata": {
    "editable": true,
    "slideshow": {
     "slide_type": ""
    },
    "tags": []
   },
   "outputs": [],
   "source": [
    "from edsl import QuestionMultipleChoice"
   ]
  },
  {
   "cell_type": "code",
   "execution_count": 13,
   "id": "460ad216",
   "metadata": {
    "editable": true,
    "slideshow": {
     "slide_type": ""
    },
    "tags": []
   },
   "outputs": [
    {
     "data": {
      "text/html": [
       "<div class=\"highlight\"><pre><span></span><span class=\"p\">{</span>\n",
       "<span class=\"w\">    </span><span class=\"nt\">&quot;scenarios&quot;</span><span class=\"p\">:</span><span class=\"w\"> </span><span class=\"p\">[</span>\n",
       "<span class=\"w\">        </span><span class=\"p\">{</span>\n",
       "<span class=\"w\">            </span><span class=\"nt\">&quot;data_cleaning_question&quot;</span><span class=\"p\">:</span><span class=\"w\"> </span><span class=\"s2\">&quot;Is &lt;data&gt; a non-negative integer?&quot;</span><span class=\"p\">,</span>\n",
       "<span class=\"w\">            </span><span class=\"nt\">&quot;question_options&quot;</span><span class=\"p\">:</span><span class=\"w\"> </span><span class=\"p\">[</span>\n",
       "<span class=\"w\">                </span><span class=\"s2\">&quot;Yes&quot;</span><span class=\"p\">,</span>\n",
       "<span class=\"w\">                </span><span class=\"s2\">&quot;No&quot;</span><span class=\"p\">,</span>\n",
       "<span class=\"w\">                </span><span class=\"s2\">&quot;Data is missing&quot;</span><span class=\"p\">,</span>\n",
       "<span class=\"w\">                </span><span class=\"s2\">&quot;Data is not an integer&quot;</span><span class=\"p\">,</span>\n",
       "<span class=\"w\">                </span><span class=\"s2\">&quot;Data is negative&quot;</span>\n",
       "<span class=\"w\">            </span><span class=\"p\">]</span>\n",
       "<span class=\"w\">        </span><span class=\"p\">},</span>\n",
       "<span class=\"w\">        </span><span class=\"p\">{</span>\n",
       "<span class=\"w\">            </span><span class=\"nt\">&quot;data_cleaning_question&quot;</span><span class=\"p\">:</span><span class=\"w\"> </span><span class=\"s2\">&quot;Is &lt;data&gt; a whole number?&quot;</span><span class=\"p\">,</span>\n",
       "<span class=\"w\">            </span><span class=\"nt\">&quot;question_options&quot;</span><span class=\"p\">:</span><span class=\"w\"> </span><span class=\"p\">[</span>\n",
       "<span class=\"w\">                </span><span class=\"s2\">&quot;Yes&quot;</span><span class=\"p\">,</span>\n",
       "<span class=\"w\">                </span><span class=\"s2\">&quot;No&quot;</span><span class=\"p\">,</span>\n",
       "<span class=\"w\">                </span><span class=\"s2\">&quot;Not sure - please check&quot;</span><span class=\"p\">,</span>\n",
       "<span class=\"w\">                </span><span class=\"s2\">&quot;Data missing or incomplete&quot;</span><span class=\"p\">,</span>\n",
       "<span class=\"w\">                </span><span class=\"s2\">&quot;Data out of expected range&quot;</span>\n",
       "<span class=\"w\">            </span><span class=\"p\">]</span>\n",
       "<span class=\"w\">        </span><span class=\"p\">},</span>\n",
       "<span class=\"w\">        </span><span class=\"p\">{</span>\n",
       "<span class=\"w\">            </span><span class=\"nt\">&quot;data_cleaning_question&quot;</span><span class=\"p\">:</span><span class=\"w\"> </span><span class=\"s2\">&quot;Is &lt;data&gt; less than or equal to 120?&quot;</span><span class=\"p\">,</span>\n",
       "<span class=\"w\">            </span><span class=\"nt\">&quot;question_options&quot;</span><span class=\"p\">:</span><span class=\"w\"> </span><span class=\"p\">[</span>\n",
       "<span class=\"w\">                </span><span class=\"s2\">&quot;Yes&quot;</span><span class=\"p\">,</span>\n",
       "<span class=\"w\">                </span><span class=\"s2\">&quot;No&quot;</span><span class=\"p\">,</span>\n",
       "<span class=\"w\">                </span><span class=\"s2\">&quot;Data missing&quot;</span><span class=\"p\">,</span>\n",
       "<span class=\"w\">                </span><span class=\"s2\">&quot;Data corrupted&quot;</span><span class=\"p\">,</span>\n",
       "<span class=\"w\">                </span><span class=\"s2\">&quot;Outlier detected&quot;</span>\n",
       "<span class=\"w\">            </span><span class=\"p\">]</span>\n",
       "<span class=\"w\">        </span><span class=\"p\">},</span>\n",
       "<span class=\"w\">        </span><span class=\"p\">{</span>\n",
       "<span class=\"w\">            </span><span class=\"nt\">&quot;data_cleaning_question&quot;</span><span class=\"p\">:</span><span class=\"w\"> </span><span class=\"s2\">&quot;Is &lt;data&gt; greater than or equal to 18?&quot;</span><span class=\"p\">,</span>\n",
       "<span class=\"w\">            </span><span class=\"nt\">&quot;question_options&quot;</span><span class=\"p\">:</span><span class=\"w\"> </span><span class=\"p\">[</span>\n",
       "<span class=\"w\">                </span><span class=\"s2\">&quot;Yes&quot;</span><span class=\"p\">,</span>\n",
       "<span class=\"w\">                </span><span class=\"s2\">&quot;No&quot;</span><span class=\"p\">,</span>\n",
       "<span class=\"w\">                </span><span class=\"s2\">&quot;Data Missing&quot;</span><span class=\"p\">,</span>\n",
       "<span class=\"w\">                </span><span class=\"s2\">&quot;Data Corrupted&quot;</span><span class=\"p\">,</span>\n",
       "<span class=\"w\">                </span><span class=\"s2\">&quot;Not an Adult&quot;</span>\n",
       "<span class=\"w\">            </span><span class=\"p\">]</span>\n",
       "<span class=\"w\">        </span><span class=\"p\">}</span>\n",
       "<span class=\"w\">    </span><span class=\"p\">]</span>\n",
       "<span class=\"p\">}</span>\n",
       "</pre></div>\n"
      ],
      "text/plain": [
       "ScenarioList([Scenario({'data_cleaning_question': 'Is <data> a non-negative integer?', 'question_options': ['Yes', 'No', 'Data is missing', 'Data is not an integer', 'Data is negative']}), Scenario({'data_cleaning_question': 'Is <data> a whole number?', 'question_options': ['Yes', 'No', 'Not sure - please check', 'Data missing or incomplete', 'Data out of expected range']}), Scenario({'data_cleaning_question': 'Is <data> less than or equal to 120?', 'question_options': ['Yes', 'No', 'Data missing', 'Data corrupted', 'Outlier detected']}), Scenario({'data_cleaning_question': 'Is <data> greater than or equal to 18?', 'question_options': ['Yes', 'No', 'Data Missing', 'Data Corrupted', 'Not an Adult']})])"
      ]
     },
     "execution_count": 13,
     "metadata": {},
     "output_type": "execute_result"
    }
   ],
   "source": [
    "questions_data"
   ]
  },
  {
   "cell_type": "code",
   "execution_count": 14,
   "id": "46decc46",
   "metadata": {
    "editable": true,
    "slideshow": {
     "slide_type": ""
    },
    "tags": []
   },
   "outputs": [
    {
     "data": {
      "text/plain": [
       "[Question('multiple_choice', question_name = \"\"\"cleaning_0\"\"\", question_text = \"\"\"Is <data> a non-negative integer?\"\"\", question_options = \"\"\"{{ question_options }}\"\"\"),\n",
       " Question('multiple_choice', question_name = \"\"\"cleaning_1\"\"\", question_text = \"\"\"Is <data> a whole number?\"\"\", question_options = \"\"\"{{ question_options }}\"\"\"),\n",
       " Question('multiple_choice', question_name = \"\"\"cleaning_2\"\"\", question_text = \"\"\"Is <data> less than or equal to 120?\"\"\", question_options = \"\"\"{{ question_options }}\"\"\"),\n",
       " Question('multiple_choice', question_name = \"\"\"cleaning_3\"\"\", question_text = \"\"\"Is <data> greater than or equal to 18?\"\"\", question_options = \"\"\"{{ question_options }}\"\"\")]"
      ]
     },
     "execution_count": 14,
     "metadata": {},
     "output_type": "execute_result"
    }
   ],
   "source": [
    "QuestionMultipleChoice(question_text = \"{{data_cleaning_question}}\", \n",
    "                       question_options = \"{{ question_options }}\", \n",
    "                       question_name = \"cleaning\").loop(questions_data)"
   ]
  },
  {
   "cell_type": "markdown",
   "id": "5852ab5f-7c40-49ae-b892-f570e473b040",
   "metadata": {
    "editable": true,
    "slideshow": {
     "slide_type": ""
    },
    "tags": []
   },
   "source": [
    "## Constructing a data cleaning survey\n",
    "Next we can make any desired edits to the data cleaning questions, and then use them to create a `Survey` about the data that we prompt the model to answer ([learn more about constructing surveys](https://docs.expectedparrot.com/en/latest/surveys.html)). We use `QuestionMultipleChoice` to facilitate the use of the answer options that have been created:"
   ]
  },
  {
   "cell_type": "code",
   "execution_count": 15,
   "id": "5d562232",
   "metadata": {
    "editable": true,
    "slideshow": {
     "slide_type": ""
    },
    "tags": []
   },
   "outputs": [
    {
     "data": {
      "text/html": [
       "<pre style=\"white-space:pre;overflow-x:auto;line-height:normal;font-family:Menlo,'DejaVu Sans Mono',consolas,'Courier New',monospace\">┏━━━━━━━━━━━━━━━━━━━━━━━━━━━━━━━━━━━━━━━━┳━━━━━━━━━━━━━━━━━━━━━━━━━━━━━━━━━━━━━━━━━━━━━━━━━━━━━━━━━━━━━━━━━━━━━━━━┓\n",
       "┃<span style=\"color: #800080; text-decoration-color: #800080; font-weight: bold\"> scenario                               </span>┃<span style=\"color: #800080; text-decoration-color: #800080; font-weight: bold\"> answer                                                                 </span>┃\n",
       "┃<span style=\"color: #800080; text-decoration-color: #800080; font-weight: bold\"> .data_cleaning_question                </span>┃<span style=\"color: #800080; text-decoration-color: #800080; font-weight: bold\"> .data_cleaning_options                                                 </span>┃\n",
       "┡━━━━━━━━━━━━━━━━━━━━━━━━━━━━━━━━━━━━━━━━╇━━━━━━━━━━━━━━━━━━━━━━━━━━━━━━━━━━━━━━━━━━━━━━━━━━━━━━━━━━━━━━━━━━━━━━━━┩\n",
       "│<span style=\"color: #7f7f7f; text-decoration-color: #7f7f7f\"> Is &lt;data&gt; a non-negative integer?      </span>│<span style=\"color: #7f7f7f; text-decoration-color: #7f7f7f\"> ['Yes', 'No', 'Data is missing', 'Data is not an integer', 'Data is    </span>│\n",
       "│<span style=\"color: #7f7f7f; text-decoration-color: #7f7f7f\">                                        </span>│<span style=\"color: #7f7f7f; text-decoration-color: #7f7f7f\"> negative']                                                             </span>│\n",
       "├────────────────────────────────────────┼────────────────────────────────────────────────────────────────────────┤\n",
       "│<span style=\"color: #7f7f7f; text-decoration-color: #7f7f7f\"> Is &lt;data&gt; a whole number?              </span>│<span style=\"color: #7f7f7f; text-decoration-color: #7f7f7f\"> ['Yes', 'No', 'Not sure - please check', 'Data missing or incomplete', </span>│\n",
       "│<span style=\"color: #7f7f7f; text-decoration-color: #7f7f7f\">                                        </span>│<span style=\"color: #7f7f7f; text-decoration-color: #7f7f7f\"> 'Data out of expected range']                                          </span>│\n",
       "├────────────────────────────────────────┼────────────────────────────────────────────────────────────────────────┤\n",
       "│<span style=\"color: #7f7f7f; text-decoration-color: #7f7f7f\"> Is &lt;data&gt; less than or equal to 120?   </span>│<span style=\"color: #7f7f7f; text-decoration-color: #7f7f7f\"> ['Yes', 'No', 'Data missing', 'Data corrupted', 'Outlier detected']    </span>│\n",
       "├────────────────────────────────────────┼────────────────────────────────────────────────────────────────────────┤\n",
       "│<span style=\"color: #7f7f7f; text-decoration-color: #7f7f7f\"> Is &lt;data&gt; greater than or equal to 18? </span>│<span style=\"color: #7f7f7f; text-decoration-color: #7f7f7f\"> ['Yes', 'No', 'Data Missing', 'Data Corrupted', 'Not an Adult']        </span>│\n",
       "└────────────────────────────────────────┴────────────────────────────────────────────────────────────────────────┘\n",
       "</pre>\n"
      ],
      "text/plain": [
       "┏━━━━━━━━━━━━━━━━━━━━━━━━━━━━━━━━━━━━━━━━┳━━━━━━━━━━━━━━━━━━━━━━━━━━━━━━━━━━━━━━━━━━━━━━━━━━━━━━━━━━━━━━━━━━━━━━━━┓\n",
       "┃\u001b[1;35m \u001b[0m\u001b[1;35mscenario                              \u001b[0m\u001b[1;35m \u001b[0m┃\u001b[1;35m \u001b[0m\u001b[1;35manswer                                                                \u001b[0m\u001b[1;35m \u001b[0m┃\n",
       "┃\u001b[1;35m \u001b[0m\u001b[1;35m.data_cleaning_question               \u001b[0m\u001b[1;35m \u001b[0m┃\u001b[1;35m \u001b[0m\u001b[1;35m.data_cleaning_options                                                \u001b[0m\u001b[1;35m \u001b[0m┃\n",
       "┡━━━━━━━━━━━━━━━━━━━━━━━━━━━━━━━━━━━━━━━━╇━━━━━━━━━━━━━━━━━━━━━━━━━━━━━━━━━━━━━━━━━━━━━━━━━━━━━━━━━━━━━━━━━━━━━━━━┩\n",
       "│\u001b[2m \u001b[0m\u001b[2mIs <data> a non-negative integer?     \u001b[0m\u001b[2m \u001b[0m│\u001b[2m \u001b[0m\u001b[2m['Yes', 'No', 'Data is missing', 'Data is not an integer', 'Data is   \u001b[0m\u001b[2m \u001b[0m│\n",
       "│\u001b[2m                                        \u001b[0m│\u001b[2m \u001b[0m\u001b[2mnegative']                                                            \u001b[0m\u001b[2m \u001b[0m│\n",
       "├────────────────────────────────────────┼────────────────────────────────────────────────────────────────────────┤\n",
       "│\u001b[2m \u001b[0m\u001b[2mIs <data> a whole number?             \u001b[0m\u001b[2m \u001b[0m│\u001b[2m \u001b[0m\u001b[2m['Yes', 'No', 'Not sure - please check', 'Data missing or incomplete',\u001b[0m\u001b[2m \u001b[0m│\n",
       "│\u001b[2m                                        \u001b[0m│\u001b[2m \u001b[0m\u001b[2m'Data out of expected range']                                         \u001b[0m\u001b[2m \u001b[0m│\n",
       "├────────────────────────────────────────┼────────────────────────────────────────────────────────────────────────┤\n",
       "│\u001b[2m \u001b[0m\u001b[2mIs <data> less than or equal to 120?  \u001b[0m\u001b[2m \u001b[0m│\u001b[2m \u001b[0m\u001b[2m['Yes', 'No', 'Data missing', 'Data corrupted', 'Outlier detected']   \u001b[0m\u001b[2m \u001b[0m│\n",
       "├────────────────────────────────────────┼────────────────────────────────────────────────────────────────────────┤\n",
       "│\u001b[2m \u001b[0m\u001b[2mIs <data> greater than or equal to 18?\u001b[0m\u001b[2m \u001b[0m│\u001b[2m \u001b[0m\u001b[2m['Yes', 'No', 'Data Missing', 'Data Corrupted', 'Not an Adult']       \u001b[0m\u001b[2m \u001b[0m│\n",
       "└────────────────────────────────────────┴────────────────────────────────────────────────────────────────────────┘\n"
      ]
     },
     "metadata": {},
     "output_type": "display_data"
    }
   ],
   "source": [
    "results.select(\"data_cleaning_question\", \"data_cleaning_options\").print(format=\"rich\")"
   ]
  },
  {
   "cell_type": "code",
   "execution_count": 16,
   "id": "b9472829-e445-470e-b83b-66b3452dcb16",
   "metadata": {
    "editable": true,
    "slideshow": {
     "slide_type": ""
    },
    "tags": []
   },
   "outputs": [],
   "source": [
    "import ast\n",
    "\n",
    "df = results.to_pandas(remove_prefix=True)\n",
    "df = df[[\"data_cleaning_question\", \"data_cleaning_options\"]]"
   ]
  },
  {
   "cell_type": "code",
   "execution_count": 17,
   "id": "3af68946-8d30-4ec4-bd56-bc42de54a980",
   "metadata": {
    "editable": true,
    "slideshow": {
     "slide_type": ""
    },
    "tags": []
   },
   "outputs": [
    {
     "data": {
      "text/plain": [
       "[Question('multiple_choice', question_name = \"\"\"q0\"\"\", question_text = \"\"\"Is {{ age }} a non-negative integer?\"\"\", question_options = ['Yes', 'No', 'Data is missing', 'Data is not an integer', 'Data is negative']),\n",
       " Question('multiple_choice', question_name = \"\"\"q1\"\"\", question_text = \"\"\"Is {{ age }} a whole number?\"\"\", question_options = ['Yes', 'No', 'Not sure - please check', 'Data missing or incomplete', 'Data out of expected range']),\n",
       " Question('multiple_choice', question_name = \"\"\"q2\"\"\", question_text = \"\"\"Is {{ age }} less than or equal to 120?\"\"\", question_options = ['Yes', 'No', 'Data missing', 'Data corrupted', 'Outlier detected']),\n",
       " Question('multiple_choice', question_name = \"\"\"q3\"\"\", question_text = \"\"\"Is {{ age }} greater than or equal to 18?\"\"\", question_options = ['Yes', 'No', 'Data Missing', 'Data Corrupted', 'Not an Adult'])]"
      ]
     },
     "execution_count": 17,
     "metadata": {},
     "output_type": "execute_result"
    }
   ],
   "source": [
    "from edsl import QuestionMultipleChoice\n",
    "\n",
    "formatted_questions = []\n",
    "\n",
    "for index, row in df.iterrows():\n",
    "    q = QuestionMultipleChoice(\n",
    "        question_name=\"q\" + str(index),\n",
    "        question_text=row[\"data_cleaning_question\"].replace(\"<data>\", \"{{ age }}\"),\n",
    "        question_options=ast.literal_eval(row[\"data_cleaning_options\"]),\n",
    "    )\n",
    "    formatted_questions.append(q)\n",
    "\n",
    "formatted_questions"
   ]
  },
  {
   "cell_type": "code",
   "execution_count": 18,
   "id": "38c67b34-d063-4c9f-aa54-9fbf25fae80c",
   "metadata": {
    "editable": true,
    "slideshow": {
     "slide_type": ""
    },
    "tags": []
   },
   "outputs": [],
   "source": [
    "from edsl import Survey\n",
    "\n",
    "survey = Survey(formatted_questions)"
   ]
  },
  {
   "cell_type": "markdown",
   "id": "b459eba6-87cb-4888-9013-21c9308eaddd",
   "metadata": {
    "editable": true,
    "slideshow": {
     "slide_type": ""
    },
    "tags": []
   },
   "source": [
    "We create `Scenario` objects for the individual ages that we will insert in the question texts when we run the survey:"
   ]
  },
  {
   "cell_type": "code",
   "execution_count": 19,
   "id": "bee27036-bf0e-4174-8322-49cf0042e455",
   "metadata": {
    "editable": true,
    "slideshow": {
     "slide_type": ""
    },
    "tags": []
   },
   "outputs": [],
   "source": [
    "scenarios = ScenarioList.from_list(\"age\", ages)"
   ]
  },
  {
   "cell_type": "code",
   "execution_count": 20,
   "id": "da0593d6-b8a2-41b7-b6c6-35427f3c24f3",
   "metadata": {
    "editable": true,
    "slideshow": {
     "slide_type": ""
    },
    "tags": []
   },
   "outputs": [],
   "source": [
    "results = survey.by(scenarios).run()"
   ]
  },
  {
   "cell_type": "markdown",
   "id": "4f68be47-ab58-461c-872b-fc4d5d44f31b",
   "metadata": {
    "editable": true,
    "slideshow": {
     "slide_type": ""
    },
    "tags": []
   },
   "source": [
    "Here we inspect all the components of these new results, print a table of a set of them (optionally set `max_rows`), and then print a table where the results are filtered to cases for review, based on the responses to the questions (see the `filter` logic):"
   ]
  },
  {
   "cell_type": "code",
   "execution_count": 21,
   "id": "b7c28110-17b4-48db-9199-e0bf8d8e7db0",
   "metadata": {
    "editable": true,
    "slideshow": {
     "slide_type": ""
    },
    "tags": []
   },
   "outputs": [
    {
     "data": {
      "text/plain": [
       "['agent.agent_instruction',\n",
       " 'agent.agent_name',\n",
       " 'answer.q0',\n",
       " 'answer.q1',\n",
       " 'answer.q2',\n",
       " 'answer.q3',\n",
       " 'comment.k_comment',\n",
       " 'generated_tokens.q0_generated_tokens',\n",
       " 'generated_tokens.q1_generated_tokens',\n",
       " 'generated_tokens.q2_generated_tokens',\n",
       " 'generated_tokens.q3_generated_tokens',\n",
       " 'iteration.iteration',\n",
       " 'model.frequency_penalty',\n",
       " 'model.logprobs',\n",
       " 'model.max_tokens',\n",
       " 'model.model',\n",
       " 'model.presence_penalty',\n",
       " 'model.temperature',\n",
       " 'model.top_logprobs',\n",
       " 'model.top_p',\n",
       " 'prompt.q0_system_prompt',\n",
       " 'prompt.q0_user_prompt',\n",
       " 'prompt.q1_system_prompt',\n",
       " 'prompt.q1_user_prompt',\n",
       " 'prompt.q2_system_prompt',\n",
       " 'prompt.q2_user_prompt',\n",
       " 'prompt.q3_system_prompt',\n",
       " 'prompt.q3_user_prompt',\n",
       " 'question_options.q0_question_options',\n",
       " 'question_options.q1_question_options',\n",
       " 'question_options.q2_question_options',\n",
       " 'question_options.q3_question_options',\n",
       " 'question_text.q0_question_text',\n",
       " 'question_text.q1_question_text',\n",
       " 'question_text.q2_question_text',\n",
       " 'question_text.q3_question_text',\n",
       " 'question_type.q0_question_type',\n",
       " 'question_type.q1_question_type',\n",
       " 'question_type.q2_question_type',\n",
       " 'question_type.q3_question_type',\n",
       " 'raw_model_response.q0_cost',\n",
       " 'raw_model_response.q0_one_usd_buys',\n",
       " 'raw_model_response.q0_raw_model_response',\n",
       " 'raw_model_response.q1_cost',\n",
       " 'raw_model_response.q1_one_usd_buys',\n",
       " 'raw_model_response.q1_raw_model_response',\n",
       " 'raw_model_response.q2_cost',\n",
       " 'raw_model_response.q2_one_usd_buys',\n",
       " 'raw_model_response.q2_raw_model_response',\n",
       " 'raw_model_response.q3_cost',\n",
       " 'raw_model_response.q3_one_usd_buys',\n",
       " 'raw_model_response.q3_raw_model_response',\n",
       " 'scenario.age']"
      ]
     },
     "execution_count": 21,
     "metadata": {},
     "output_type": "execute_result"
    }
   ],
   "source": [
    "results.columns"
   ]
  },
  {
   "cell_type": "code",
   "execution_count": 22,
   "id": "9c39f6ad-3709-419c-95c8-aa273aebabed",
   "metadata": {
    "editable": true,
    "slideshow": {
     "slide_type": ""
    },
    "tags": []
   },
   "outputs": [
    {
     "data": {
      "text/html": [
       "<pre style=\"white-space:pre;overflow-x:auto;line-height:normal;font-family:Menlo,'DejaVu Sans Mono',consolas,'Courier New',monospace\">┏━━━━━┳━━━━━━━━━━━━━━━━━━━━━━━━━━┳━━━━━━━━━━━━━━━━━━━━━━━━━━┳━━━━━━━━━━━━━━━━━━━━━━━━━━┳━━━━━━━━━━━━━━━━━━━━━━━━━━┓\n",
       "┃<span style=\"color: #800080; text-decoration-color: #800080; font-weight: bold\">     </span>┃<span style=\"color: #800080; text-decoration-color: #800080; font-weight: bold\"> Is &lt;data&gt; a non-negative </span>┃<span style=\"color: #800080; text-decoration-color: #800080; font-weight: bold\"> Is &lt;data&gt; greater than   </span>┃<span style=\"color: #800080; text-decoration-color: #800080; font-weight: bold\"> Is &lt;data&gt; less than or   </span>┃<span style=\"color: #800080; text-decoration-color: #800080; font-weight: bold\"> Is &lt;data&gt; a whole        </span>┃\n",
       "┃<span style=\"color: #800080; text-decoration-color: #800080; font-weight: bold\"> Age </span>┃<span style=\"color: #800080; text-decoration-color: #800080; font-weight: bold\"> integer?                 </span>┃<span style=\"color: #800080; text-decoration-color: #800080; font-weight: bold\"> or equal to 18?          </span>┃<span style=\"color: #800080; text-decoration-color: #800080; font-weight: bold\"> equal to 120?            </span>┃<span style=\"color: #800080; text-decoration-color: #800080; font-weight: bold\"> number?                  </span>┃\n",
       "┡━━━━━╇━━━━━━━━━━━━━━━━━━━━━━━━━━╇━━━━━━━━━━━━━━━━━━━━━━━━━━╇━━━━━━━━━━━━━━━━━━━━━━━━━━╇━━━━━━━━━━━━━━━━━━━━━━━━━━┩\n",
       "│<span style=\"color: #7f7f7f; text-decoration-color: #7f7f7f\"> 60  </span>│<span style=\"color: #7f7f7f; text-decoration-color: #7f7f7f\"> Yes                      </span>│<span style=\"color: #7f7f7f; text-decoration-color: #7f7f7f\"> Yes                      </span>│<span style=\"color: #7f7f7f; text-decoration-color: #7f7f7f\"> Yes                      </span>│<span style=\"color: #7f7f7f; text-decoration-color: #7f7f7f\"> Yes                      </span>│\n",
       "├─────┼──────────────────────────┼──────────────────────────┼──────────────────────────┼──────────────────────────┤\n",
       "│<span style=\"color: #7f7f7f; text-decoration-color: #7f7f7f\"> 38  </span>│<span style=\"color: #7f7f7f; text-decoration-color: #7f7f7f\"> Yes                      </span>│<span style=\"color: #7f7f7f; text-decoration-color: #7f7f7f\"> Yes                      </span>│<span style=\"color: #7f7f7f; text-decoration-color: #7f7f7f\"> Yes                      </span>│<span style=\"color: #7f7f7f; text-decoration-color: #7f7f7f\"> Yes                      </span>│\n",
       "├─────┼──────────────────────────┼──────────────────────────┼──────────────────────────┼──────────────────────────┤\n",
       "│<span style=\"color: #7f7f7f; text-decoration-color: #7f7f7f\"> 28  </span>│<span style=\"color: #7f7f7f; text-decoration-color: #7f7f7f\"> Yes                      </span>│<span style=\"color: #7f7f7f; text-decoration-color: #7f7f7f\"> Yes                      </span>│<span style=\"color: #7f7f7f; text-decoration-color: #7f7f7f\"> Yes                      </span>│<span style=\"color: #7f7f7f; text-decoration-color: #7f7f7f\"> Yes                      </span>│\n",
       "├─────┼──────────────────────────┼──────────────────────────┼──────────────────────────┼──────────────────────────┤\n",
       "│<span style=\"color: #7f7f7f; text-decoration-color: #7f7f7f\"> 68  </span>│<span style=\"color: #7f7f7f; text-decoration-color: #7f7f7f\"> Yes                      </span>│<span style=\"color: #7f7f7f; text-decoration-color: #7f7f7f\"> Yes                      </span>│<span style=\"color: #7f7f7f; text-decoration-color: #7f7f7f\"> Yes                      </span>│<span style=\"color: #7f7f7f; text-decoration-color: #7f7f7f\"> Yes                      </span>│\n",
       "├─────┼──────────────────────────┼──────────────────────────┼──────────────────────────┼──────────────────────────┤\n",
       "│<span style=\"color: #7f7f7f; text-decoration-color: #7f7f7f\"> 84  </span>│<span style=\"color: #7f7f7f; text-decoration-color: #7f7f7f\"> Yes                      </span>│<span style=\"color: #7f7f7f; text-decoration-color: #7f7f7f\"> Yes                      </span>│<span style=\"color: #7f7f7f; text-decoration-color: #7f7f7f\"> Yes                      </span>│<span style=\"color: #7f7f7f; text-decoration-color: #7f7f7f\"> Yes                      </span>│\n",
       "├─────┼──────────────────────────┼──────────────────────────┼──────────────────────────┼──────────────────────────┤\n",
       "│<span style=\"color: #7f7f7f; text-decoration-color: #7f7f7f\"> 29  </span>│<span style=\"color: #7f7f7f; text-decoration-color: #7f7f7f\"> Yes                      </span>│<span style=\"color: #7f7f7f; text-decoration-color: #7f7f7f\"> Yes                      </span>│<span style=\"color: #7f7f7f; text-decoration-color: #7f7f7f\"> Yes                      </span>│<span style=\"color: #7f7f7f; text-decoration-color: #7f7f7f\"> Yes                      </span>│\n",
       "├─────┼──────────────────────────┼──────────────────────────┼──────────────────────────┼──────────────────────────┤\n",
       "│<span style=\"color: #7f7f7f; text-decoration-color: #7f7f7f\"> 35  </span>│<span style=\"color: #7f7f7f; text-decoration-color: #7f7f7f\"> Yes                      </span>│<span style=\"color: #7f7f7f; text-decoration-color: #7f7f7f\"> Yes                      </span>│<span style=\"color: #7f7f7f; text-decoration-color: #7f7f7f\"> Yes                      </span>│<span style=\"color: #7f7f7f; text-decoration-color: #7f7f7f\"> Yes                      </span>│\n",
       "├─────┼──────────────────────────┼──────────────────────────┼──────────────────────────┼──────────────────────────┤\n",
       "│<span style=\"color: #7f7f7f; text-decoration-color: #7f7f7f\"> 71  </span>│<span style=\"color: #7f7f7f; text-decoration-color: #7f7f7f\"> Yes                      </span>│<span style=\"color: #7f7f7f; text-decoration-color: #7f7f7f\"> Yes                      </span>│<span style=\"color: #7f7f7f; text-decoration-color: #7f7f7f\"> Yes                      </span>│<span style=\"color: #7f7f7f; text-decoration-color: #7f7f7f\"> Yes                      </span>│\n",
       "├─────┼──────────────────────────┼──────────────────────────┼──────────────────────────┼──────────────────────────┤\n",
       "│<span style=\"color: #7f7f7f; text-decoration-color: #7f7f7f\"> 80  </span>│<span style=\"color: #7f7f7f; text-decoration-color: #7f7f7f\"> Yes                      </span>│<span style=\"color: #7f7f7f; text-decoration-color: #7f7f7f\"> Yes                      </span>│<span style=\"color: #7f7f7f; text-decoration-color: #7f7f7f\"> Yes                      </span>│<span style=\"color: #7f7f7f; text-decoration-color: #7f7f7f\"> Yes                      </span>│\n",
       "├─────┼──────────────────────────┼──────────────────────────┼──────────────────────────┼──────────────────────────┤\n",
       "│<span style=\"color: #7f7f7f; text-decoration-color: #7f7f7f\"> 59  </span>│<span style=\"color: #7f7f7f; text-decoration-color: #7f7f7f\"> Yes                      </span>│<span style=\"color: #7f7f7f; text-decoration-color: #7f7f7f\"> Yes                      </span>│<span style=\"color: #7f7f7f; text-decoration-color: #7f7f7f\"> Yes                      </span>│<span style=\"color: #7f7f7f; text-decoration-color: #7f7f7f\"> Yes                      </span>│\n",
       "└─────┴──────────────────────────┴──────────────────────────┴──────────────────────────┴──────────────────────────┘\n",
       "</pre>\n"
      ],
      "text/plain": [
       "┏━━━━━┳━━━━━━━━━━━━━━━━━━━━━━━━━━┳━━━━━━━━━━━━━━━━━━━━━━━━━━┳━━━━━━━━━━━━━━━━━━━━━━━━━━┳━━━━━━━━━━━━━━━━━━━━━━━━━━┓\n",
       "┃\u001b[1;35m     \u001b[0m┃\u001b[1;35m \u001b[0m\u001b[1;35mIs <data> a non-negative\u001b[0m\u001b[1;35m \u001b[0m┃\u001b[1;35m \u001b[0m\u001b[1;35mIs <data> greater than  \u001b[0m\u001b[1;35m \u001b[0m┃\u001b[1;35m \u001b[0m\u001b[1;35mIs <data> less than or  \u001b[0m\u001b[1;35m \u001b[0m┃\u001b[1;35m \u001b[0m\u001b[1;35mIs <data> a whole       \u001b[0m\u001b[1;35m \u001b[0m┃\n",
       "┃\u001b[1;35m \u001b[0m\u001b[1;35mAge\u001b[0m\u001b[1;35m \u001b[0m┃\u001b[1;35m \u001b[0m\u001b[1;35minteger?                \u001b[0m\u001b[1;35m \u001b[0m┃\u001b[1;35m \u001b[0m\u001b[1;35mor equal to 18?         \u001b[0m\u001b[1;35m \u001b[0m┃\u001b[1;35m \u001b[0m\u001b[1;35mequal to 120?           \u001b[0m\u001b[1;35m \u001b[0m┃\u001b[1;35m \u001b[0m\u001b[1;35mnumber?                 \u001b[0m\u001b[1;35m \u001b[0m┃\n",
       "┡━━━━━╇━━━━━━━━━━━━━━━━━━━━━━━━━━╇━━━━━━━━━━━━━━━━━━━━━━━━━━╇━━━━━━━━━━━━━━━━━━━━━━━━━━╇━━━━━━━━━━━━━━━━━━━━━━━━━━┩\n",
       "│\u001b[2m \u001b[0m\u001b[2m60 \u001b[0m\u001b[2m \u001b[0m│\u001b[2m \u001b[0m\u001b[2mYes                     \u001b[0m\u001b[2m \u001b[0m│\u001b[2m \u001b[0m\u001b[2mYes                     \u001b[0m\u001b[2m \u001b[0m│\u001b[2m \u001b[0m\u001b[2mYes                     \u001b[0m\u001b[2m \u001b[0m│\u001b[2m \u001b[0m\u001b[2mYes                     \u001b[0m\u001b[2m \u001b[0m│\n",
       "├─────┼──────────────────────────┼──────────────────────────┼──────────────────────────┼──────────────────────────┤\n",
       "│\u001b[2m \u001b[0m\u001b[2m38 \u001b[0m\u001b[2m \u001b[0m│\u001b[2m \u001b[0m\u001b[2mYes                     \u001b[0m\u001b[2m \u001b[0m│\u001b[2m \u001b[0m\u001b[2mYes                     \u001b[0m\u001b[2m \u001b[0m│\u001b[2m \u001b[0m\u001b[2mYes                     \u001b[0m\u001b[2m \u001b[0m│\u001b[2m \u001b[0m\u001b[2mYes                     \u001b[0m\u001b[2m \u001b[0m│\n",
       "├─────┼──────────────────────────┼──────────────────────────┼──────────────────────────┼──────────────────────────┤\n",
       "│\u001b[2m \u001b[0m\u001b[2m28 \u001b[0m\u001b[2m \u001b[0m│\u001b[2m \u001b[0m\u001b[2mYes                     \u001b[0m\u001b[2m \u001b[0m│\u001b[2m \u001b[0m\u001b[2mYes                     \u001b[0m\u001b[2m \u001b[0m│\u001b[2m \u001b[0m\u001b[2mYes                     \u001b[0m\u001b[2m \u001b[0m│\u001b[2m \u001b[0m\u001b[2mYes                     \u001b[0m\u001b[2m \u001b[0m│\n",
       "├─────┼──────────────────────────┼──────────────────────────┼──────────────────────────┼──────────────────────────┤\n",
       "│\u001b[2m \u001b[0m\u001b[2m68 \u001b[0m\u001b[2m \u001b[0m│\u001b[2m \u001b[0m\u001b[2mYes                     \u001b[0m\u001b[2m \u001b[0m│\u001b[2m \u001b[0m\u001b[2mYes                     \u001b[0m\u001b[2m \u001b[0m│\u001b[2m \u001b[0m\u001b[2mYes                     \u001b[0m\u001b[2m \u001b[0m│\u001b[2m \u001b[0m\u001b[2mYes                     \u001b[0m\u001b[2m \u001b[0m│\n",
       "├─────┼──────────────────────────┼──────────────────────────┼──────────────────────────┼──────────────────────────┤\n",
       "│\u001b[2m \u001b[0m\u001b[2m84 \u001b[0m\u001b[2m \u001b[0m│\u001b[2m \u001b[0m\u001b[2mYes                     \u001b[0m\u001b[2m \u001b[0m│\u001b[2m \u001b[0m\u001b[2mYes                     \u001b[0m\u001b[2m \u001b[0m│\u001b[2m \u001b[0m\u001b[2mYes                     \u001b[0m\u001b[2m \u001b[0m│\u001b[2m \u001b[0m\u001b[2mYes                     \u001b[0m\u001b[2m \u001b[0m│\n",
       "├─────┼──────────────────────────┼──────────────────────────┼──────────────────────────┼──────────────────────────┤\n",
       "│\u001b[2m \u001b[0m\u001b[2m29 \u001b[0m\u001b[2m \u001b[0m│\u001b[2m \u001b[0m\u001b[2mYes                     \u001b[0m\u001b[2m \u001b[0m│\u001b[2m \u001b[0m\u001b[2mYes                     \u001b[0m\u001b[2m \u001b[0m│\u001b[2m \u001b[0m\u001b[2mYes                     \u001b[0m\u001b[2m \u001b[0m│\u001b[2m \u001b[0m\u001b[2mYes                     \u001b[0m\u001b[2m \u001b[0m│\n",
       "├─────┼──────────────────────────┼──────────────────────────┼──────────────────────────┼──────────────────────────┤\n",
       "│\u001b[2m \u001b[0m\u001b[2m35 \u001b[0m\u001b[2m \u001b[0m│\u001b[2m \u001b[0m\u001b[2mYes                     \u001b[0m\u001b[2m \u001b[0m│\u001b[2m \u001b[0m\u001b[2mYes                     \u001b[0m\u001b[2m \u001b[0m│\u001b[2m \u001b[0m\u001b[2mYes                     \u001b[0m\u001b[2m \u001b[0m│\u001b[2m \u001b[0m\u001b[2mYes                     \u001b[0m\u001b[2m \u001b[0m│\n",
       "├─────┼──────────────────────────┼──────────────────────────┼──────────────────────────┼──────────────────────────┤\n",
       "│\u001b[2m \u001b[0m\u001b[2m71 \u001b[0m\u001b[2m \u001b[0m│\u001b[2m \u001b[0m\u001b[2mYes                     \u001b[0m\u001b[2m \u001b[0m│\u001b[2m \u001b[0m\u001b[2mYes                     \u001b[0m\u001b[2m \u001b[0m│\u001b[2m \u001b[0m\u001b[2mYes                     \u001b[0m\u001b[2m \u001b[0m│\u001b[2m \u001b[0m\u001b[2mYes                     \u001b[0m\u001b[2m \u001b[0m│\n",
       "├─────┼──────────────────────────┼──────────────────────────┼──────────────────────────┼──────────────────────────┤\n",
       "│\u001b[2m \u001b[0m\u001b[2m80 \u001b[0m\u001b[2m \u001b[0m│\u001b[2m \u001b[0m\u001b[2mYes                     \u001b[0m\u001b[2m \u001b[0m│\u001b[2m \u001b[0m\u001b[2mYes                     \u001b[0m\u001b[2m \u001b[0m│\u001b[2m \u001b[0m\u001b[2mYes                     \u001b[0m\u001b[2m \u001b[0m│\u001b[2m \u001b[0m\u001b[2mYes                     \u001b[0m\u001b[2m \u001b[0m│\n",
       "├─────┼──────────────────────────┼──────────────────────────┼──────────────────────────┼──────────────────────────┤\n",
       "│\u001b[2m \u001b[0m\u001b[2m59 \u001b[0m\u001b[2m \u001b[0m│\u001b[2m \u001b[0m\u001b[2mYes                     \u001b[0m\u001b[2m \u001b[0m│\u001b[2m \u001b[0m\u001b[2mYes                     \u001b[0m\u001b[2m \u001b[0m│\u001b[2m \u001b[0m\u001b[2mYes                     \u001b[0m\u001b[2m \u001b[0m│\u001b[2m \u001b[0m\u001b[2mYes                     \u001b[0m\u001b[2m \u001b[0m│\n",
       "└─────┴──────────────────────────┴──────────────────────────┴──────────────────────────┴──────────────────────────┘\n"
      ]
     },
     "metadata": {},
     "output_type": "display_data"
    }
   ],
   "source": [
    "(\n",
    "    results.sample(10)\n",
    "    .select(\"age\", \"q0\", \"q1\", \"q2\", \"q3\")\n",
    "    .print(\n",
    "        pretty_labels={\n",
    "            \"scenario.age\": \"Age\",\n",
    "            \"answer.q0\": data_cleaning_questions[0],\n",
    "            \"answer.q1\": data_cleaning_questions[1],\n",
    "            \"answer.q2\": data_cleaning_questions[2],\n",
    "            \"answer.q3\": data_cleaning_questions[3],\n",
    "        },\n",
    "        format=\"rich\"\n",
    "    )\n",
    ")"
   ]
  },
  {
   "cell_type": "code",
   "execution_count": 23,
   "id": "5fb9a683-5fe7-4fda-a641-015f2f27d905",
   "metadata": {
    "editable": true,
    "slideshow": {
     "slide_type": ""
    },
    "tags": []
   },
   "outputs": [
    {
     "data": {
      "text/html": [
       "<pre style=\"white-space:pre;overflow-x:auto;line-height:normal;font-family:Menlo,'DejaVu Sans Mono',consolas,'Courier New',monospace\">┏━━━━━━━━━━┓\n",
       "┃<span style=\"color: #800080; text-decoration-color: #800080; font-weight: bold\"> Bad data </span>┃\n",
       "┡━━━━━━━━━━┩\n",
       "│<span style=\"color: #7f7f7f; text-decoration-color: #7f7f7f\"> 0.99     </span>│\n",
       "├──────────┤\n",
       "│<span style=\"color: #7f7f7f; text-decoration-color: #7f7f7f\"> 1050     </span>│\n",
       "├──────────┤\n",
       "│<span style=\"color: #7f7f7f; text-decoration-color: #7f7f7f\"> old      </span>│\n",
       "├──────────┤\n",
       "│<span style=\"color: #7f7f7f; text-decoration-color: #7f7f7f\"> 2        </span>│\n",
       "├──────────┤\n",
       "│<span style=\"color: #7f7f7f; text-decoration-color: #7f7f7f\"> -5       </span>│\n",
       "└──────────┘\n",
       "</pre>\n"
      ],
      "text/plain": [
       "┏━━━━━━━━━━┓\n",
       "┃\u001b[1;35m \u001b[0m\u001b[1;35mBad data\u001b[0m\u001b[1;35m \u001b[0m┃\n",
       "┡━━━━━━━━━━┩\n",
       "│\u001b[2m \u001b[0m\u001b[2m0.99    \u001b[0m\u001b[2m \u001b[0m│\n",
       "├──────────┤\n",
       "│\u001b[2m \u001b[0m\u001b[2m1050    \u001b[0m\u001b[2m \u001b[0m│\n",
       "├──────────┤\n",
       "│\u001b[2m \u001b[0m\u001b[2mold     \u001b[0m\u001b[2m \u001b[0m│\n",
       "├──────────┤\n",
       "│\u001b[2m \u001b[0m\u001b[2m2       \u001b[0m\u001b[2m \u001b[0m│\n",
       "├──────────┤\n",
       "│\u001b[2m \u001b[0m\u001b[2m-5      \u001b[0m\u001b[2m \u001b[0m│\n",
       "└──────────┘\n"
      ]
     },
     "metadata": {},
     "output_type": "display_data"
    }
   ],
   "source": [
    "(\n",
    "    results.filter(\"q0 != 'Yes' or q1 != 'Yes' or q2 != 'Yes' or q3 != 'Yes'\")\n",
    "    .select(\"age\")\n",
    "    .print(pretty_labels={\"scenario.age\": \"Bad data\"}, format=\"rich\")\n",
    ")"
   ]
  },
  {
   "cell_type": "markdown",
   "id": "b2e1a939-d524-4960-bb38-c915864a80c8",
   "metadata": {
    "editable": true,
    "slideshow": {
     "slide_type": ""
    },
    "tags": []
   },
   "source": [
    "## Further exploration\n",
    "This notebook can be readily edited and expanded for other data cleaning and data labeling purposes, or to add personas for AI agents answering the questions with relevant background and expertise. [Learn more about using AI agents for your EDSL surveys](https://docs.expectedparrot.com/en/latest/agents.html). \n",
    "\n",
    "Please see our [documentation page](https://docs.expectedparrot.com/) for examples of other methods and use cases and let us know if you have any questions!"
   ]
  },
  {
   "cell_type": "markdown",
   "id": "77ab4ea4-0faf-4fc4-a047-03a5b56a646c",
   "metadata": {
    "editable": true,
    "slideshow": {
     "slide_type": ""
    },
    "tags": []
   },
   "source": [
    "## Posting to the Coop\n",
    "The [Coop](https://www.expectedparrot.com/explore) is a platform for creating, storing and sharing LLM-based research.\n",
    "It is fully integrated with EDSL and accessible from your workspace or Coop account page.\n",
    "Learn more about [creating an account](https://www.expectedparrot.com/login) and [using the Coop](https://docs.expectedparrot.com/en/latest/coop.html).\n",
    "\n",
    "Here we post this notebook:"
   ]
  },
  {
   "cell_type": "code",
   "execution_count": 24,
   "id": "82b09c3c-af61-4cb8-a0af-58ebd17f5601",
   "metadata": {
    "editable": true,
    "slideshow": {
     "slide_type": ""
    },
    "tags": [
     "skip-execution"
    ]
   },
   "outputs": [],
   "source": [
    "from edsl import Notebook"
   ]
  },
  {
   "cell_type": "code",
   "execution_count": 25,
   "id": "ce0f0adf-9640-440a-959e-8a3f34bd0017",
   "metadata": {
    "editable": true,
    "slideshow": {
     "slide_type": ""
    },
    "tags": [
     "skip-execution"
    ]
   },
   "outputs": [],
   "source": [
    "n = Notebook(path = \"data_cleaning.ipynb\")"
   ]
  },
  {
   "cell_type": "code",
   "execution_count": 26,
   "id": "46345c81-ed07-4514-9cfd-e386dcc44094",
   "metadata": {
    "editable": true,
    "slideshow": {
     "slide_type": ""
    },
    "tags": [
     "skip-execution"
    ]
   },
   "outputs": [
    {
     "data": {
      "text/plain": [
       "{'description': 'Example code for data cleaning',\n",
       " 'object_type': 'notebook',\n",
       " 'url': 'https://www.expectedparrot.com/content/88026c56-f821-4a54-a7a8-f7889a3c885d',\n",
       " 'uuid': '88026c56-f821-4a54-a7a8-f7889a3c885d',\n",
       " 'version': '0.1.33.dev1',\n",
       " 'visibility': 'public'}"
      ]
     },
     "execution_count": 26,
     "metadata": {},
     "output_type": "execute_result"
    }
   ],
   "source": [
    "n.push(description = \"Example code for data cleaning\", visibility = \"public\")"
   ]
  }
 ],
 "metadata": {
  "kernelspec": {
   "display_name": "Python 3 (ipykernel)",
   "language": "python",
   "name": "python3"
  },
  "language_info": {
   "codemirror_mode": {
    "name": "ipython",
    "version": 3
   },
   "file_extension": ".py",
   "mimetype": "text/x-python",
   "name": "python",
   "nbconvert_exporter": "python",
   "pygments_lexer": "ipython3",
   "version": "3.11.7"
  }
 },
 "nbformat": 4,
 "nbformat_minor": 5
}
