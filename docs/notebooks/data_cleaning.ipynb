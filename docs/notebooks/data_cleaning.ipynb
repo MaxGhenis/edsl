{
 "cells": [
  {
   "cell_type": "markdown",
   "id": "96bdbd4d-b0f9-447f-9f65-cbcf9e1dbe5c",
   "metadata": {
    "editable": true,
    "slideshow": {
     "slide_type": ""
    },
    "tags": []
   },
   "source": [
    "# Data cleaning\n",
    "This notebook provides sample [EDSL](https://docs.expectedparrot.com/) code for using a language model to conduct a data cleaning task. In a series of steps we use EDSL to prompt a language model to generate appropriate sense checks for a dataset and then run the sense checks in the form of a survey about the data, returning a new dataset consisting of the data failing the checks.\n",
    "\n",
    "[EDSL is an open-source library](https://github.com/expectedparrot/edsl) for simulating surveys, experiments and other research with AI agents and large language models. \n",
    "Before running the code below, please ensure that you have [installed the EDSL library](https://docs.expectedparrot.com/en/latest/installation.html) and either [activated remote inference](https://docs.expectedparrot.com/en/latest/remote_inference.html) from your [Coop account](https://docs.expectedparrot.com/en/latest/coop.html) or [stored API keys](https://docs.expectedparrot.com/en/latest/api_keys.html) for the language models that you want to use with EDSL. Please also see our [documentation page](https://docs.expectedparrot.com/) for tips and tutorials on getting started using EDSL."
   ]
  },
  {
   "cell_type": "markdown",
   "id": "8dfba5a0-9ec5-4dc5-aff7-1709a7784998",
   "metadata": {
    "editable": true,
    "slideshow": {
     "slide_type": ""
    },
    "tags": []
   },
   "source": [
    "## Example data\n",
    "Here we construct a dataset for our exercise: a random list of ages between 22 and 85 with some bad values mixed in.\n",
    "Our goal is to identify them:"
   ]
  },
  {
   "cell_type": "code",
   "execution_count": 1,
   "id": "65318ede",
   "metadata": {
    "editable": true,
    "slideshow": {
     "slide_type": ""
    },
    "tags": []
   },
   "outputs": [],
   "source": [
    "ages = [84, 62, 79, 57, 59, 55, 68, 66, 47, 54, 76, 33, 74, 56, 47, 24, 23, 38, 38, 54, 51, 84, 71, \n",
    "        46, 38, 26, 50, 56, 62, 39, 31, 52, 69, 84, 69, 48, 48, 23, 65, 54, 78, 51, 69, 77, 75, 76, \n",
    "        26, 44, 61, 32, 70, 24, 74, 22, 32, 24, 80, 65, 36, 42, 84, 66, 40, 85, 28, 22, 67, 25, 70, \n",
    "        77, 53, 69, 64, 27, 61, 68, 68, 78, 0.99, 83, 58, 33, 46, 43, 50, 85, 28, 82, 50, 61, 66, 32, \n",
    "        45, 70, 56, 50, 43, 30, 43, 55, 33, 72, 43, 43, -5, 32, 43, 45, 67, 84, 37, 63, 52, 53, 58, \n",
    "        79, 79, 80, 62, 75, 57, 60, 39, 79, 49, 60, 60, 37, 45, 36, 1050, 73, 70, 56, 39, 58, 69, 77, \n",
    "        68, 84, 78, 48, 31, 74, 27, 55, 56, 66, 35, 39, 57, 47, 29, 24, 47, 60, 43, 37, 84, 64, 28, \n",
    "        22, 37, 71, 77, 76, 84, 63, 76, 58, 41, 72, 22, 63, 78, 49, 82, 69, \"old\", 37, 27, 29, 54, 83, \n",
    "        80, 74, 48, 76, 49, 26, 38, 35, 36, 25, 23, 71, 33, 39, 40, 35, 85, 24, 57, 85, 63, 53, 62, \n",
    "        47, 69, 76, 71, 48, 62, 23, 25, 84, 32, 63, 75, 31, 25, 50, 85, 36, 58, 85, 34, 62, 43, 2, \n",
    "        50, 83, 44, 73, 81, 44, 43, 82, 84, 30, 24, 63, 63, 59, 46, 30, 62, 25, 52, 23, 100, 1.3, 3]"
   ]
  },
  {
   "cell_type": "markdown",
   "id": "de3ae5d4-126a-42cf-b70c-ebbe0f364fe5",
   "metadata": {
    "editable": true,
    "slideshow": {
     "slide_type": ""
    },
    "tags": []
   },
   "source": [
    "## Quick question\n",
    "With a small dataset, we may be able to design the entire task as a single question where we prompt a model to review all the data at once and flag bad data:"
   ]
  },
  {
   "cell_type": "code",
   "execution_count": 2,
   "id": "9a2ecec5-81e6-4cb8-af61-c063cbc6727c",
   "metadata": {
    "editable": true,
    "slideshow": {
     "slide_type": ""
    },
    "tags": []
   },
   "outputs": [
    {
     "data": {
      "text/html": [
       "\n",
       "            <div style=\"border: 1px solid #ccc; margin: 10px 0; max-width: 800px;\">\n",
       "                <div onclick=\"document.getElementById('content-a251ee20-f63d-43ad-b993-81a5efdaeec4').style.display = document.getElementById('content-a251ee20-f63d-43ad-b993-81a5efdaeec4').style.display === 'none' ? 'block' : 'none';\n",
       "                             document.getElementById('arrow-a251ee20-f63d-43ad-b993-81a5efdaeec4').innerHTML = document.getElementById('content-a251ee20-f63d-43ad-b993-81a5efdaeec4').style.display === 'none' ? '▶' : '▼';\"\n",
       "                     style=\"padding: 10px; background: #f5f5f5; cursor: pointer;\">\n",
       "                    <span id=\"arrow-a251ee20-f63d-43ad-b993-81a5efdaeec4\">▼</span> Remote Job Log (2024-12-14 10:38:06)\n",
       "                </div>\n",
       "                <div id=\"content-a251ee20-f63d-43ad-b993-81a5efdaeec4\" style=\"padding: 10px; display: block;\">\n",
       "                    <div style=\"border-left: 3px solid #3b82f6; padding: 5px 10px; margin: 5px 0;\">Remote inference activated. Sending job to server...</div>\n",
       "<div style=\"border-left: 3px solid #3b82f6; padding: 5px 10px; margin: 5px 0;\">Your survey is running at the Expected Parrot server...</div>\n",
       "<div style=\"border-left: 3px solid #3b82f6; padding: 5px 10px; margin: 5px 0;\">Job sent to server. (Job uuid=eb3332e8-0c40-4fe2-9f8c-a0ee69227e12).</div>\n",
       "<div style=\"border-left: 3px solid #3b82f6; padding: 5px 10px; margin: 5px 0;\">Job details are available at your Coop account <a href=\"https://www.expectedparrot.com/home/remote-inferencehttps://www.expectedparrot.com/home/remote-inference\" target=\"_blank\" style=\"color: #3b82f6; text-decoration: underline;\">https://www.expectedparrot.com/home/remote-inferencehttps://www.expectedparrot.com/home/remote-inference</a></div>\n",
       "<div style=\"border-left: 3px solid #3b82f6; padding: 5px 10px; margin: 5px 0;\">View job progress here: <a href=\"https://www.expectedparrot.com/home/remote-job-progress/eb3332e8-0c40-4fe2-9f8c-a0ee69227e12\" target=\"_blank\" style=\"color: #3b82f6; text-decoration: underline;\">https://www.expectedparrot.com/home/remote-job-progress/eb3332e8-0c40-4fe2-9f8c-a0ee69227e12</a></div>\n",
       "<div style=\"border-left: 3px solid #3b82f6; padding: 5px 10px; margin: 5px 0;\">Job status: running - last update: 2024-12-14 10:37:53 AM</div>\n",
       "<div style=\"border-left: 3px solid #3b82f6; padding: 5px 10px; margin: 5px 0;\">Job status: running - last update: 2024-12-14 10:37:56 AM</div>\n",
       "<div style=\"border-left: 3px solid #22c55e; padding: 5px 10px; margin: 5px 0;\">Job completed and Results stored on Coop: <a href=\"https://www.expectedparrot.com/content/01fc41eb-d167-4351-9fba-0d49dd64b260\" target=\"_blank\" style=\"color: #3b82f6; text-decoration: underline;\">https://www.expectedparrot.com/content/01fc41eb-d167-4351-9fba-0d49dd64b260</a></div>\n",
       "                </div>\n",
       "            </div>\n",
       "        "
      ],
      "text/plain": [
       "<IPython.core.display.HTML object>"
      ]
     },
     "metadata": {},
     "output_type": "display_data"
    },
    {
     "data": {
      "text/html": [
       "\n",
       "        <style>\n",
       "            :root {\n",
       "  --containerHeight: 100px;\n",
       "  --headerColor: blue;\n",
       "}\n",
       "\n",
       ".table-container {\n",
       "    height: var(--containerHeight) !important;\n",
       "    width: 100%;\n",
       "    overflow: auto;  /* This enables both horizontal and vertical scrolling */\n",
       "    border: 1px solid #d4d4d4;\n",
       "    background: transparent;\n",
       "    position: relative;  /* Create stacking context for sticky header */\n",
       "}\n",
       "\n",
       ".scroll-table {\n",
       "    /* Remove width: 100% to prevent table from being constrained */\n",
       "    /* min-width: 100% ensures table takes at least full container width */\n",
       "    min-width: 100%;\n",
       "    border-collapse: separate;\n",
       "    border-spacing: 4px;\n",
       "    background: transparent;\n",
       "    table-layout: auto;  /* Allow table to size based on content */\n",
       "}\n",
       "\n",
       ".scroll-table th {\n",
       "    background: transparent;  /* Semi-transparent background to ensure text readability */\n",
       "    position: sticky;\n",
       "    top: 0;\n",
       "    z-index: 1;\n",
       "    text-align: left !important;\n",
       "    padding: 8px;\n",
       "    font-weight: bold;\n",
       "    white-space: nowrap;  /* Prevent header text from wrapping */\n",
       "    min-width: 100px;    /* Ensure minimum column width */\n",
       "    backdrop-filter: blur(8px);  /* Optional: adds extra clarity */\n",
       "    color: var(--headerColor);\n",
       "}\n",
       "\n",
       ".scroll-table td {\n",
       "    padding: 8px;\n",
       "    text-align: left !important;\n",
       "    white-space: pre-wrap;\n",
       "    word-wrap: break-word;\n",
       "    vertical-align: top;\n",
       "    color: inherit;\n",
       "    border-bottom: none;\n",
       "    background: transparent;\n",
       "    min-width: 100px;    /* Match header minimum width */\n",
       "}\n",
       "\n",
       ".scroll-table tbody tr:hover {\n",
       "    background: transparent;\n",
       "}\n",
       "\n",
       "/* Additional rule to ensure header background is truly transparent */\n",
       ".scroll-table thead tr {\n",
       "    background: transparent !important;\n",
       "}\n",
       "\n",
       "/* Add shadow to indicate scrollable content */\n",
       ".table-container::after {\n",
       "    content: '';\n",
       "    position: absolute;\n",
       "    top: 0;\n",
       "    right: 0;\n",
       "    bottom: 0;\n",
       "    width: 5px;\n",
       "    background: linear-gradient(to right, transparent, rgba(242, 6, 6, 0.1));\n",
       "    pointer-events: none;\n",
       "    opacity: 0;\n",
       "    transition: opacity 0.3s;\n",
       "}\n",
       "\n",
       ".table-container:hover::after {\n",
       "    opacity: 1;\n",
       "}\n",
       "\n",
       "/* Handle Jupyter notebook specific styling */\n",
       ".jp-OutputArea-output .table-container {\n",
       "    max-width: 100%;\n",
       "    margin: 0;\n",
       "    overflow-x: auto;\n",
       "}\n",
       "        </style>\n",
       "        <div class=\"table-container\">\n",
       "            <div class=\"scroll-table-wrapper\">\n",
       "                <table class=\"scroll-table\">\n",
       "<thead>\n",
       "<tr><th>answer.bad_ages             </th><th>comment.bad_ages_comment                                                                                                                                       </th></tr>\n",
       "</thead>\n",
       "<tbody>\n",
       "<tr><td>[0.99, -5, 1050, &#x27;old&#x27;, 1.3]</td><td># The problematic ages include non-integer values (&quot;0.99&quot;, &quot;1.3&quot;), a negative value (&quot;-5&quot;), an extremely high value (&quot;1050&quot;), and a non-numeric string (&quot;old&quot;).</td></tr>\n",
       "</tbody>\n",
       "</table>\n",
       "            </div>\n",
       "        </div>\n",
       "        "
      ],
      "text/plain": [
       "Dataset([{'answer.bad_ages': [[0.99, -5, 1050, 'old', 1.3]]}, {'comment.bad_ages_comment': ['# The problematic ages include non-integer values (\"0.99\", \"1.3\"), a negative value (\"-5\"), an extremely high value (\"1050\"), and a non-numeric string (\"old\").']}])"
      ]
     },
     "execution_count": 2,
     "metadata": {},
     "output_type": "execute_result"
    }
   ],
   "source": [
    "from edsl import QuestionList, Scenario\n",
    "\n",
    "q = QuestionList(\n",
    "    question_name = \"bad_ages\",\n",
    "    question_text = \"\"\"\n",
    "    Review the following list of observations of human ages \n",
    "    and return a list of all the problematic ages: {{ ages }}\n",
    "    \"\"\" \n",
    ")\n",
    "\n",
    "s = Scenario({\"ages\":ages})\n",
    "\n",
    "results = q.by(s).run()\n",
    "\n",
    "results.select(\"bad_ages\", \"bad_ages_comment\")"
   ]
  },
  {
   "cell_type": "markdown",
   "id": "29b6836e-9f56-4cb7-a503-82dac4924f30",
   "metadata": {
    "editable": true,
    "slideshow": {
     "slide_type": ""
    },
    "tags": []
   },
   "source": [
    "This approach may be feasible for a small dataset that is easily checked.\n",
    "For larger datasets, we may encounter problems with input token limits, a model's ability to accurately check a large volume of data at once, and responses that are not usefully formatted.\n",
    "\n",
    "Below we demonstrate some ways of approaching the task in an iterative manner instead."
   ]
  },
  {
   "cell_type": "markdown",
   "id": "4e86b9ad-811a-45c2-80d9-58ebce7ac3be",
   "metadata": {
    "editable": true,
    "slideshow": {
     "slide_type": ""
    },
    "tags": []
   },
   "source": [
    "## Constructing a question\n",
    "We start by creating a question to prompt a model to draft sense check questions for our data. \n",
    "EDSL comes with a [variety of question types](https://docs.expectedparrot.com/en/latest/questions.html) that we can choose from based on the desired form of the response (multiple choice, free text, etc.). \n",
    "Here we use `QuestionList` in order to prompt the model to format its response as a list. \n",
    "We use a `{{ placeholder }}` for content that we will add to the question when we run it (a description of the data and a sample); this allows us to re-use the question with other contexts as desired:"
   ]
  },
  {
   "cell_type": "code",
   "execution_count": 3,
   "id": "cfb35741-0443-4630-9fe4-a763533fde9d",
   "metadata": {
    "editable": true,
    "slideshow": {
     "slide_type": ""
    },
    "tags": []
   },
   "outputs": [],
   "source": [
    "from edsl import QuestionList\n",
    "\n",
    "q1 = QuestionList(\n",
    "    question_name = \"sense_check_questions\",\n",
    "    question_text = \"\"\"\n",
    "    You are being asked to suggest a list of sense checks for a dataset consisting of {{ data_description }}.\n",
    "    Here is a sample of the data: {{ sample_data }}.\n",
    "    Format the sense checks as a list of questions to be answered about each item in the dataset individually,\n",
    "    using '<data>' as a placeholder for an item being reviewed in each question text.\n",
    "    \"\"\",\n",
    "    max_list_items = 4 # optional\n",
    ")"
   ]
  },
  {
   "cell_type": "markdown",
   "id": "1951ba51-ecd6-4bfb-a4c1-4fabb5cea4fc",
   "metadata": {
    "editable": true,
    "slideshow": {
     "slide_type": ""
    },
    "tags": []
   },
   "source": [
    "## Adding context to the question\n",
    "Next we create `Scenario` objects representing the content that we want to add to the question when we run it.\n",
    "Here we create a single scenario for our example data:"
   ]
  },
  {
   "cell_type": "code",
   "execution_count": 4,
   "id": "8579f7f9-9006-4784-9c2c-9d31bf1dc88c",
   "metadata": {
    "editable": true,
    "slideshow": {
     "slide_type": ""
    },
    "tags": []
   },
   "outputs": [],
   "source": [
    "import random\n",
    "\n",
    "sample_data = random.sample(ages, 10)"
   ]
  },
  {
   "cell_type": "code",
   "execution_count": 5,
   "id": "a9172b46-779f-477d-8185-0a6db97a56b7",
   "metadata": {
    "editable": true,
    "slideshow": {
     "slide_type": ""
    },
    "tags": []
   },
   "outputs": [
    {
     "data": {
      "text/html": [
       "<p><a href='https://docs.expectedparrot.com/en/latest/scenarios.html'>Scenario</a></p>\n",
       "        <style>\n",
       "            :root {\n",
       "  --containerHeight: 380px;\n",
       "  --headerColor: blue;\n",
       "}\n",
       "\n",
       ".table-container {\n",
       "    height: var(--containerHeight) !important;\n",
       "    width: 100%;\n",
       "    overflow: auto;  /* This enables both horizontal and vertical scrolling */\n",
       "    border: 1px solid #d4d4d4;\n",
       "    background: transparent;\n",
       "    position: relative;  /* Create stacking context for sticky header */\n",
       "}\n",
       "\n",
       ".scroll-table {\n",
       "    /* Remove width: 100% to prevent table from being constrained */\n",
       "    /* min-width: 100% ensures table takes at least full container width */\n",
       "    min-width: 100%;\n",
       "    border-collapse: separate;\n",
       "    border-spacing: 4px;\n",
       "    background: transparent;\n",
       "    table-layout: auto;  /* Allow table to size based on content */\n",
       "}\n",
       "\n",
       ".scroll-table th {\n",
       "    background: transparent;  /* Semi-transparent background to ensure text readability */\n",
       "    position: sticky;\n",
       "    top: 0;\n",
       "    z-index: 1;\n",
       "    text-align: left !important;\n",
       "    padding: 8px;\n",
       "    font-weight: bold;\n",
       "    white-space: nowrap;  /* Prevent header text from wrapping */\n",
       "    min-width: 100px;    /* Ensure minimum column width */\n",
       "    backdrop-filter: blur(8px);  /* Optional: adds extra clarity */\n",
       "    color: var(--headerColor);\n",
       "}\n",
       "\n",
       ".scroll-table td {\n",
       "    padding: 8px;\n",
       "    text-align: left !important;\n",
       "    white-space: pre-wrap;\n",
       "    word-wrap: break-word;\n",
       "    vertical-align: top;\n",
       "    color: inherit;\n",
       "    border-bottom: none;\n",
       "    background: transparent;\n",
       "    min-width: 100px;    /* Match header minimum width */\n",
       "}\n",
       "\n",
       ".scroll-table tbody tr:hover {\n",
       "    background: transparent;\n",
       "}\n",
       "\n",
       "/* Additional rule to ensure header background is truly transparent */\n",
       ".scroll-table thead tr {\n",
       "    background: transparent !important;\n",
       "}\n",
       "\n",
       "/* Add shadow to indicate scrollable content */\n",
       ".table-container::after {\n",
       "    content: '';\n",
       "    position: absolute;\n",
       "    top: 0;\n",
       "    right: 0;\n",
       "    bottom: 0;\n",
       "    width: 5px;\n",
       "    background: linear-gradient(to right, transparent, rgba(242, 6, 6, 0.1));\n",
       "    pointer-events: none;\n",
       "    opacity: 0;\n",
       "    transition: opacity 0.3s;\n",
       "}\n",
       "\n",
       ".table-container:hover::after {\n",
       "    opacity: 1;\n",
       "}\n",
       "\n",
       "/* Handle Jupyter notebook specific styling */\n",
       ".jp-OutputArea-output .table-container {\n",
       "    max-width: 100%;\n",
       "    margin: 0;\n",
       "    overflow-x: auto;\n",
       "}\n",
       "        </style>\n",
       "        <div class=\"table-container\">\n",
       "            <div class=\"scroll-table-wrapper\">\n",
       "                <table class=\"scroll-table\">\n",
       "<thead>\n",
       "<tr><th>key             </th><th>value                          </th></tr>\n",
       "</thead>\n",
       "<tbody>\n",
       "<tr><td>data_description</td><td>a list of human ages (in years)</td></tr>\n",
       "<tr><td>sample_data:0   </td><td>84                             </td></tr>\n",
       "<tr><td>sample_data:1   </td><td>38                             </td></tr>\n",
       "<tr><td>sample_data:2   </td><td>55                             </td></tr>\n",
       "<tr><td>sample_data:3   </td><td>66                             </td></tr>\n",
       "<tr><td>sample_data:4   </td><td>41                             </td></tr>\n",
       "<tr><td>sample_data:5   </td><td>70                             </td></tr>\n",
       "<tr><td>sample_data:6   </td><td>82                             </td></tr>\n",
       "<tr><td>sample_data:7   </td><td>76                             </td></tr>\n",
       "<tr><td>sample_data:8   </td><td>62                             </td></tr>\n",
       "<tr><td>sample_data:9   </td><td>57                             </td></tr>\n",
       "</tbody>\n",
       "</table>\n",
       "            </div>\n",
       "        </div>\n",
       "        "
      ],
      "text/plain": [
       "Scenario({'data_description': 'a list of human ages (in years)', 'sample_data': [84, 38, 55, 66, 41, 70, 82, 76, 62, 57]})"
      ]
     },
     "execution_count": 5,
     "metadata": {},
     "output_type": "execute_result"
    }
   ],
   "source": [
    "from edsl import Scenario\n",
    "\n",
    "s = Scenario({\n",
    "    \"data_description\": \"a list of human ages (in years)\",\n",
    "    \"sample_data\": sample_data\n",
    "})\n",
    "s"
   ]
  },
  {
   "cell_type": "markdown",
   "id": "bf52373a-f082-4266-bb8e-820e4e6b604e",
   "metadata": {
    "editable": true,
    "slideshow": {
     "slide_type": ""
    },
    "tags": []
   },
   "source": [
    "## Running the question\n",
    "We administer the question to a model by adding the scenarios and calling the `run` method.\n",
    "This generates a formatted dataset of `Results` that we can access with [built-in methods for analysis](https://docs.expectedparrot.com/en/latest/results.html).\n",
    "Here we inspect the answer:"
   ]
  },
  {
   "cell_type": "code",
   "execution_count": 6,
   "id": "081be404-cb76-4c1a-9910-dee6d72905eb",
   "metadata": {
    "editable": true,
    "slideshow": {
     "slide_type": ""
    },
    "tags": []
   },
   "outputs": [
    {
     "data": {
      "text/html": [
       "\n",
       "            <div style=\"border: 1px solid #ccc; margin: 10px 0; max-width: 800px;\">\n",
       "                <div onclick=\"document.getElementById('content-d8cc471c-9558-455b-ac8d-bac0f1f1604b').style.display = document.getElementById('content-d8cc471c-9558-455b-ac8d-bac0f1f1604b').style.display === 'none' ? 'block' : 'none';\n",
       "                             document.getElementById('arrow-d8cc471c-9558-455b-ac8d-bac0f1f1604b').innerHTML = document.getElementById('content-d8cc471c-9558-455b-ac8d-bac0f1f1604b').style.display === 'none' ? '▶' : '▼';\"\n",
       "                     style=\"padding: 10px; background: #f5f5f5; cursor: pointer;\">\n",
       "                    <span id=\"arrow-d8cc471c-9558-455b-ac8d-bac0f1f1604b\">▼</span> Remote Job Log (2024-12-14 10:38:58)\n",
       "                </div>\n",
       "                <div id=\"content-d8cc471c-9558-455b-ac8d-bac0f1f1604b\" style=\"padding: 10px; display: block;\">\n",
       "                    <div style=\"border-left: 3px solid #3b82f6; padding: 5px 10px; margin: 5px 0;\">Remote inference activated. Sending job to server...</div>\n",
       "<div style=\"border-left: 3px solid #3b82f6; padding: 5px 10px; margin: 5px 0;\">Your survey is running at the Expected Parrot server...</div>\n",
       "<div style=\"border-left: 3px solid #3b82f6; padding: 5px 10px; margin: 5px 0;\">Job sent to server. (Job uuid=6c979ce9-b7f8-4e1a-b7a8-d543a90762c4).</div>\n",
       "<div style=\"border-left: 3px solid #3b82f6; padding: 5px 10px; margin: 5px 0;\">Job details are available at your Coop account <a href=\"https://www.expectedparrot.com/home/remote-inferencehttps://www.expectedparrot.com/home/remote-inference\" target=\"_blank\" style=\"color: #3b82f6; text-decoration: underline;\">https://www.expectedparrot.com/home/remote-inferencehttps://www.expectedparrot.com/home/remote-inference</a></div>\n",
       "<div style=\"border-left: 3px solid #3b82f6; padding: 5px 10px; margin: 5px 0;\">View job progress here: <a href=\"https://www.expectedparrot.com/home/remote-job-progress/6c979ce9-b7f8-4e1a-b7a8-d543a90762c4\" target=\"_blank\" style=\"color: #3b82f6; text-decoration: underline;\">https://www.expectedparrot.com/home/remote-job-progress/6c979ce9-b7f8-4e1a-b7a8-d543a90762c4</a></div>\n",
       "<div style=\"border-left: 3px solid #3b82f6; padding: 5px 10px; margin: 5px 0;\">Job status: running - last update: 2024-12-14 10:38:41 AM</div>\n",
       "<div style=\"border-left: 3px solid #3b82f6; padding: 5px 10px; margin: 5px 0;\">Job status: running - last update: 2024-12-14 10:38:50 AM</div>\n",
       "<div style=\"border-left: 3px solid #22c55e; padding: 5px 10px; margin: 5px 0;\">Job completed and Results stored on Coop: <a href=\"https://www.expectedparrot.com/content/6e092f68-8137-4a14-a7a1-221189570fff\" target=\"_blank\" style=\"color: #3b82f6; text-decoration: underline;\">https://www.expectedparrot.com/content/6e092f68-8137-4a14-a7a1-221189570fff</a></div>\n",
       "                </div>\n",
       "            </div>\n",
       "        "
      ],
      "text/plain": [
       "<IPython.core.display.HTML object>"
      ]
     },
     "metadata": {},
     "output_type": "display_data"
    }
   ],
   "source": [
    "results = q1.by(s).run()"
   ]
  },
  {
   "cell_type": "code",
   "execution_count": 7,
   "id": "625b513d-120f-4303-b036-e7d200095a9b",
   "metadata": {
    "editable": true,
    "slideshow": {
     "slide_type": ""
    },
    "tags": []
   },
   "outputs": [
    {
     "data": {
      "text/html": [
       "\n",
       "        <style>\n",
       "            :root {\n",
       "  --containerHeight: 100px;\n",
       "  --headerColor: blue;\n",
       "}\n",
       "\n",
       ".table-container {\n",
       "    height: var(--containerHeight) !important;\n",
       "    width: 100%;\n",
       "    overflow: auto;  /* This enables both horizontal and vertical scrolling */\n",
       "    border: 1px solid #d4d4d4;\n",
       "    background: transparent;\n",
       "    position: relative;  /* Create stacking context for sticky header */\n",
       "}\n",
       "\n",
       ".scroll-table {\n",
       "    /* Remove width: 100% to prevent table from being constrained */\n",
       "    /* min-width: 100% ensures table takes at least full container width */\n",
       "    min-width: 100%;\n",
       "    border-collapse: separate;\n",
       "    border-spacing: 4px;\n",
       "    background: transparent;\n",
       "    table-layout: auto;  /* Allow table to size based on content */\n",
       "}\n",
       "\n",
       ".scroll-table th {\n",
       "    background: transparent;  /* Semi-transparent background to ensure text readability */\n",
       "    position: sticky;\n",
       "    top: 0;\n",
       "    z-index: 1;\n",
       "    text-align: left !important;\n",
       "    padding: 8px;\n",
       "    font-weight: bold;\n",
       "    white-space: nowrap;  /* Prevent header text from wrapping */\n",
       "    min-width: 100px;    /* Ensure minimum column width */\n",
       "    backdrop-filter: blur(8px);  /* Optional: adds extra clarity */\n",
       "    color: var(--headerColor);\n",
       "}\n",
       "\n",
       ".scroll-table td {\n",
       "    padding: 8px;\n",
       "    text-align: left !important;\n",
       "    white-space: pre-wrap;\n",
       "    word-wrap: break-word;\n",
       "    vertical-align: top;\n",
       "    color: inherit;\n",
       "    border-bottom: none;\n",
       "    background: transparent;\n",
       "    min-width: 100px;    /* Match header minimum width */\n",
       "}\n",
       "\n",
       ".scroll-table tbody tr:hover {\n",
       "    background: transparent;\n",
       "}\n",
       "\n",
       "/* Additional rule to ensure header background is truly transparent */\n",
       ".scroll-table thead tr {\n",
       "    background: transparent !important;\n",
       "}\n",
       "\n",
       "/* Add shadow to indicate scrollable content */\n",
       ".table-container::after {\n",
       "    content: '';\n",
       "    position: absolute;\n",
       "    top: 0;\n",
       "    right: 0;\n",
       "    bottom: 0;\n",
       "    width: 5px;\n",
       "    background: linear-gradient(to right, transparent, rgba(242, 6, 6, 0.1));\n",
       "    pointer-events: none;\n",
       "    opacity: 0;\n",
       "    transition: opacity 0.3s;\n",
       "}\n",
       "\n",
       ".table-container:hover::after {\n",
       "    opacity: 1;\n",
       "}\n",
       "\n",
       "/* Handle Jupyter notebook specific styling */\n",
       ".jp-OutputArea-output .table-container {\n",
       "    max-width: 100%;\n",
       "    margin: 0;\n",
       "    overflow-x: auto;\n",
       "}\n",
       "        </style>\n",
       "        <div class=\"table-container\">\n",
       "            <div class=\"scroll-table-wrapper\">\n",
       "                <table class=\"scroll-table\">\n",
       "<thead>\n",
       "<tr><th>answer.sense_check_questions                                                                                                                                                                                                              </th></tr>\n",
       "</thead>\n",
       "<tbody>\n",
       "<tr><td>[&#x27;Is &lt;data&gt; a non-negative integer?&#x27;, &#x27;Is &lt;data&gt; a reasonable human age (e.g., less than 130)?&#x27;, &#x27;Is &lt;data&gt; consistent with the expected range of ages for the dataset?&#x27;, &#x27;Does &lt;data&gt; have any obvious data entry errors (e.g., typos)?&#x27;]</td></tr>\n",
       "</tbody>\n",
       "</table>\n",
       "            </div>\n",
       "        </div>\n",
       "        "
      ],
      "text/plain": [
       "Dataset([{'answer.sense_check_questions': [['Is <data> a non-negative integer?', 'Is <data> a reasonable human age (e.g., less than 130)?', 'Is <data> consistent with the expected range of ages for the dataset?', 'Does <data> have any obvious data entry errors (e.g., typos)?']]}])"
      ]
     },
     "execution_count": 7,
     "metadata": {},
     "output_type": "execute_result"
    }
   ],
   "source": [
    "results.select(\"sense_check_questions\")"
   ]
  },
  {
   "cell_type": "markdown",
   "id": "17a74649-971a-4583-9657-ec8d6b3671f1",
   "metadata": {
    "editable": true,
    "slideshow": {
     "slide_type": ""
    },
    "tags": []
   },
   "source": [
    "## Conducting the task\n",
    "Next we want a model to answer each sense check question about each piece of data in the dataset.\n",
    "This can be done by using the sense check questions as scenarios of a new question explaining the task.\n",
    "We can use `QuestionYesNo` to easily filter the responses:"
   ]
  },
  {
   "cell_type": "code",
   "execution_count": 8,
   "id": "c7cf4019-4579-45a6-b2d1-43c50820c22c",
   "metadata": {
    "editable": true,
    "slideshow": {
     "slide_type": ""
    },
    "tags": []
   },
   "outputs": [],
   "source": [
    "from edsl import QuestionYesNo\n",
    "\n",
    "q2 = QuestionYesNo(\n",
    "    question_name = \"check_data\",\n",
    "    question_text = \"\"\"\n",
    "    You are being asked to sense check a dataset consisting of {{ data_description }}.\n",
    "    Consider the following item in the dataset: {{ age }}\n",
    "    {{ sense_check_question }}\n",
    "    \"\"\"\n",
    ")"
   ]
  },
  {
   "cell_type": "markdown",
   "id": "9519bc7a-b750-4363-bbbc-1c70baad50a2",
   "metadata": {
    "editable": true,
    "slideshow": {
     "slide_type": ""
    },
    "tags": []
   },
   "source": [
    "We need to create a new set of scenarios for the question.\n",
    "We use `ScenarioList` objects to create all the combinations of values to add to the question (learn more about [constructing scenarios from different data sources](https://docs.expectedparrot.com/en/latest/scenarios.html)):"
   ]
  },
  {
   "cell_type": "code",
   "execution_count": 9,
   "id": "30cb5e16-faf4-4d84-97a7-d352b189d501",
   "metadata": {
    "editable": true,
    "slideshow": {
     "slide_type": ""
    },
    "tags": []
   },
   "outputs": [],
   "source": [
    "from edsl import ScenarioList\n",
    "\n",
    "sl = ScenarioList(\n",
    "    Scenario({\n",
    "        \"data_description\": \"a list of human ages (in years)\",\n",
    "        \"sample_data\": sample_data,\n",
    "        \"age\": age,\n",
    "        \"sense_check_question\": sense_check_question\n",
    "    }) for age in ages for sense_check_question in results.select(\"sense_check_questions\").to_list()[0]\n",
    ")"
   ]
  },
  {
   "cell_type": "markdown",
   "id": "684c0908-7f00-486b-9777-d72295f79a0f",
   "metadata": {
    "editable": true,
    "slideshow": {
     "slide_type": ""
    },
    "tags": []
   },
   "source": [
    "We can inspect the scenarios that we created:"
   ]
  },
  {
   "cell_type": "code",
   "execution_count": 10,
   "id": "1cf4296a-142f-403c-8d9c-abf9c4951fe1",
   "metadata": {
    "editable": true,
    "slideshow": {
     "slide_type": ""
    },
    "tags": []
   },
   "outputs": [
    {
     "data": {
      "text/html": [
       "<p><a href='https://docs.expectedparrot.com/en/latest/scenarios.html#scenariolist'>ScenarioList</a> scenarios: 3; keys: ['sense_check_question', 'age', 'sample_data', 'data_description'];</p>\n",
       "        <style>\n",
       "            :root {\n",
       "  --containerHeight: 140px;\n",
       "  --headerColor: blue;\n",
       "}\n",
       "\n",
       ".table-container {\n",
       "    height: var(--containerHeight) !important;\n",
       "    width: 100%;\n",
       "    overflow: auto;  /* This enables both horizontal and vertical scrolling */\n",
       "    border: 1px solid #d4d4d4;\n",
       "    background: transparent;\n",
       "    position: relative;  /* Create stacking context for sticky header */\n",
       "}\n",
       "\n",
       ".scroll-table {\n",
       "    /* Remove width: 100% to prevent table from being constrained */\n",
       "    /* min-width: 100% ensures table takes at least full container width */\n",
       "    min-width: 100%;\n",
       "    border-collapse: separate;\n",
       "    border-spacing: 4px;\n",
       "    background: transparent;\n",
       "    table-layout: auto;  /* Allow table to size based on content */\n",
       "}\n",
       "\n",
       ".scroll-table th {\n",
       "    background: transparent;  /* Semi-transparent background to ensure text readability */\n",
       "    position: sticky;\n",
       "    top: 0;\n",
       "    z-index: 1;\n",
       "    text-align: left !important;\n",
       "    padding: 8px;\n",
       "    font-weight: bold;\n",
       "    white-space: nowrap;  /* Prevent header text from wrapping */\n",
       "    min-width: 100px;    /* Ensure minimum column width */\n",
       "    backdrop-filter: blur(8px);  /* Optional: adds extra clarity */\n",
       "    color: var(--headerColor);\n",
       "}\n",
       "\n",
       ".scroll-table td {\n",
       "    padding: 8px;\n",
       "    text-align: left !important;\n",
       "    white-space: pre-wrap;\n",
       "    word-wrap: break-word;\n",
       "    vertical-align: top;\n",
       "    color: inherit;\n",
       "    border-bottom: none;\n",
       "    background: transparent;\n",
       "    min-width: 100px;    /* Match header minimum width */\n",
       "}\n",
       "\n",
       ".scroll-table tbody tr:hover {\n",
       "    background: transparent;\n",
       "}\n",
       "\n",
       "/* Additional rule to ensure header background is truly transparent */\n",
       ".scroll-table thead tr {\n",
       "    background: transparent !important;\n",
       "}\n",
       "\n",
       "/* Add shadow to indicate scrollable content */\n",
       ".table-container::after {\n",
       "    content: '';\n",
       "    position: absolute;\n",
       "    top: 0;\n",
       "    right: 0;\n",
       "    bottom: 0;\n",
       "    width: 5px;\n",
       "    background: linear-gradient(to right, transparent, rgba(242, 6, 6, 0.1));\n",
       "    pointer-events: none;\n",
       "    opacity: 0;\n",
       "    transition: opacity 0.3s;\n",
       "}\n",
       "\n",
       ".table-container:hover::after {\n",
       "    opacity: 1;\n",
       "}\n",
       "\n",
       "/* Handle Jupyter notebook specific styling */\n",
       ".jp-OutputArea-output .table-container {\n",
       "    max-width: 100%;\n",
       "    margin: 0;\n",
       "    overflow-x: auto;\n",
       "}\n",
       "        </style>\n",
       "        <div class=\"table-container\">\n",
       "            <div class=\"scroll-table-wrapper\">\n",
       "                <table class=\"scroll-table\">\n",
       "<thead>\n",
       "<tr><th>data_description               </th><th>sample_data                             </th><th style=\"text-align: right;\">  age</th><th>sense_check_question                                         </th></tr>\n",
       "</thead>\n",
       "<tbody>\n",
       "<tr><td>a list of human ages (in years)</td><td>[84, 38, 55, 66, 41, 70, 82, 76, 62, 57]</td><td style=\"text-align: right;\">   39</td><td>Is &lt;data&gt; a non-negative integer?                            </td></tr>\n",
       "<tr><td>a list of human ages (in years)</td><td>[84, 38, 55, 66, 41, 70, 82, 76, 62, 57]</td><td style=\"text-align: right;\">   27</td><td>Is &lt;data&gt; a reasonable human age (e.g., less than 130)?      </td></tr>\n",
       "<tr><td>a list of human ages (in years)</td><td>[84, 38, 55, 66, 41, 70, 82, 76, 62, 57]</td><td style=\"text-align: right;\">   62</td><td>Does &lt;data&gt; have any obvious data entry errors (e.g., typos)?</td></tr>\n",
       "</tbody>\n",
       "</table>\n",
       "            </div>\n",
       "        </div>\n",
       "        "
      ],
      "text/plain": [
       "ScenarioList([Scenario({'data_description': 'a list of human ages (in years)', 'sample_data': [84, 38, 55, 66, 41, 70, 82, 76, 62, 57], 'age': 39, 'sense_check_question': 'Is <data> a non-negative integer?'}), Scenario({'data_description': 'a list of human ages (in years)', 'sample_data': [84, 38, 55, 66, 41, 70, 82, 76, 62, 57], 'age': 27, 'sense_check_question': 'Is <data> a reasonable human age (e.g., less than 130)?'}), Scenario({'data_description': 'a list of human ages (in years)', 'sample_data': [84, 38, 55, 66, 41, 70, 82, 76, 62, 57], 'age': 62, 'sense_check_question': 'Does <data> have any obvious data entry errors (e.g., typos)?'})])"
      ]
     },
     "execution_count": 10,
     "metadata": {},
     "output_type": "execute_result"
    }
   ],
   "source": [
    "sl.sample(3)"
   ]
  },
  {
   "cell_type": "markdown",
   "id": "7d2ae335-5b94-45ad-8f2d-18e7f8210116",
   "metadata": {
    "editable": true,
    "slideshow": {
     "slide_type": ""
    },
    "tags": []
   },
   "source": [
    "Same as with a single scenario, we add all the scenarios to the question at once when we run it:"
   ]
  },
  {
   "cell_type": "code",
   "execution_count": 11,
   "id": "d4a4ff5f-aecc-406c-87b1-cd5d9d4cc004",
   "metadata": {
    "editable": true,
    "slideshow": {
     "slide_type": ""
    },
    "tags": []
   },
   "outputs": [
    {
     "data": {
      "text/html": [
       "\n",
       "            <div style=\"border: 1px solid #ccc; margin: 10px 0; max-width: 800px;\">\n",
       "                <div onclick=\"document.getElementById('content-d502a4db-ed88-416d-9167-7b3142e7b828').style.display = document.getElementById('content-d502a4db-ed88-416d-9167-7b3142e7b828').style.display === 'none' ? 'block' : 'none';\n",
       "                             document.getElementById('arrow-d502a4db-ed88-416d-9167-7b3142e7b828').innerHTML = document.getElementById('content-d502a4db-ed88-416d-9167-7b3142e7b828').style.display === 'none' ? '▶' : '▼';\"\n",
       "                     style=\"padding: 10px; background: #f5f5f5; cursor: pointer;\">\n",
       "                    <span id=\"arrow-d502a4db-ed88-416d-9167-7b3142e7b828\">▼</span> Remote Job Log (2024-12-14 10:40:37)\n",
       "                </div>\n",
       "                <div id=\"content-d502a4db-ed88-416d-9167-7b3142e7b828\" style=\"padding: 10px; display: block;\">\n",
       "                    <div style=\"border-left: 3px solid #3b82f6; padding: 5px 10px; margin: 5px 0;\">Remote inference activated. Sending job to server...</div>\n",
       "<div style=\"border-left: 3px solid #3b82f6; padding: 5px 10px; margin: 5px 0;\">Your survey is running at the Expected Parrot server...</div>\n",
       "<div style=\"border-left: 3px solid #3b82f6; padding: 5px 10px; margin: 5px 0;\">Job sent to server. (Job uuid=d2f3d7f1-4d08-4002-a349-f1c46b7d246c).</div>\n",
       "<div style=\"border-left: 3px solid #3b82f6; padding: 5px 10px; margin: 5px 0;\">Job details are available at your Coop account <a href=\"https://www.expectedparrot.com/home/remote-inferencehttps://www.expectedparrot.com/home/remote-inference\" target=\"_blank\" style=\"color: #3b82f6; text-decoration: underline;\">https://www.expectedparrot.com/home/remote-inferencehttps://www.expectedparrot.com/home/remote-inference</a></div>\n",
       "<div style=\"border-left: 3px solid #3b82f6; padding: 5px 10px; margin: 5px 0;\">View job progress here: <a href=\"https://www.expectedparrot.com/home/remote-job-progress/d2f3d7f1-4d08-4002-a349-f1c46b7d246c\" target=\"_blank\" style=\"color: #3b82f6; text-decoration: underline;\">https://www.expectedparrot.com/home/remote-job-progress/d2f3d7f1-4d08-4002-a349-f1c46b7d246c</a></div>\n",
       "<div style=\"border-left: 3px solid #3b82f6; padding: 5px 10px; margin: 5px 0;\">Job status: running - last update: 2024-12-14 10:39:47 AM</div>\n",
       "<div style=\"border-left: 3px solid #3b82f6; padding: 5px 10px; margin: 5px 0;\">Job status: running - last update: 2024-12-14 10:39:51 AM</div>\n",
       "<div style=\"border-left: 3px solid #3b82f6; padding: 5px 10px; margin: 5px 0;\">Job status: running - last update: 2024-12-14 10:39:54 AM</div>\n",
       "<div style=\"border-left: 3px solid #3b82f6; padding: 5px 10px; margin: 5px 0;\">Job status: running - last update: 2024-12-14 10:39:58 AM</div>\n",
       "<div style=\"border-left: 3px solid #3b82f6; padding: 5px 10px; margin: 5px 0;\">Job status: running - last update: 2024-12-14 10:40:01 AM</div>\n",
       "<div style=\"border-left: 3px solid #3b82f6; padding: 5px 10px; margin: 5px 0;\">Job status: running - last update: 2024-12-14 10:40:05 AM</div>\n",
       "<div style=\"border-left: 3px solid #3b82f6; padding: 5px 10px; margin: 5px 0;\">Job status: running - last update: 2024-12-14 10:40:08 AM</div>\n",
       "<div style=\"border-left: 3px solid #3b82f6; padding: 5px 10px; margin: 5px 0;\">Job status: running - last update: 2024-12-14 10:40:11 AM</div>\n",
       "<div style=\"border-left: 3px solid #3b82f6; padding: 5px 10px; margin: 5px 0;\">Job status: running - last update: 2024-12-14 10:40:15 AM</div>\n",
       "<div style=\"border-left: 3px solid #3b82f6; padding: 5px 10px; margin: 5px 0;\">Job status: running - last update: 2024-12-14 10:40:19 AM</div>\n",
       "<div style=\"border-left: 3px solid #3b82f6; padding: 5px 10px; margin: 5px 0;\">Job status: running - last update: 2024-12-14 10:40:22 AM</div>\n",
       "<div style=\"border-left: 3px solid #3b82f6; padding: 5px 10px; margin: 5px 0;\">Job status: running - last update: 2024-12-14 10:40:26 AM</div>\n",
       "<div style=\"border-left: 3px solid #3b82f6; padding: 5px 10px; margin: 5px 0;\">Job status: running - last update: 2024-12-14 10:40:29 AM</div>\n",
       "<div style=\"border-left: 3px solid #3b82f6; padding: 5px 10px; margin: 5px 0;\">Job status: running - last update: 2024-12-14 10:40:32 AM</div>\n",
       "<div style=\"border-left: 3px solid #22c55e; padding: 5px 10px; margin: 5px 0;\">Job completed and Results stored on Coop: <a href=\"https://www.expectedparrot.com/content/a2386ec1-860f-4609-ad79-9574d9097757\" target=\"_blank\" style=\"color: #3b82f6; text-decoration: underline;\">https://www.expectedparrot.com/content/a2386ec1-860f-4609-ad79-9574d9097757</a></div>\n",
       "                </div>\n",
       "            </div>\n",
       "        "
      ],
      "text/plain": [
       "<IPython.core.display.HTML object>"
      ]
     },
     "metadata": {},
     "output_type": "display_data"
    }
   ],
   "source": [
    "results = q2.by(sl).run()"
   ]
  },
  {
   "cell_type": "markdown",
   "id": "4bf51612-767c-4de0-87fe-27f26d7559a3",
   "metadata": {
    "editable": true,
    "slideshow": {
     "slide_type": ""
    },
    "tags": []
   },
   "source": [
    "We can filter, sort, select and print any components of the results that are generated:"
   ]
  },
  {
   "cell_type": "code",
   "execution_count": 12,
   "id": "f486fdd9-5a8a-4129-8f8f-c740af5bb4c5",
   "metadata": {
    "editable": true,
    "slideshow": {
     "slide_type": ""
    },
    "tags": []
   },
   "outputs": [
    {
     "data": {
      "text/html": [
       "\n",
       "        <style>\n",
       "            :root {\n",
       "  --containerHeight: 400px;\n",
       "  --headerColor: blue;\n",
       "}\n",
       "\n",
       ".table-container {\n",
       "    height: var(--containerHeight) !important;\n",
       "    width: 100%;\n",
       "    overflow: auto;  /* This enables both horizontal and vertical scrolling */\n",
       "    border: 1px solid #d4d4d4;\n",
       "    background: transparent;\n",
       "    position: relative;  /* Create stacking context for sticky header */\n",
       "}\n",
       "\n",
       ".scroll-table {\n",
       "    /* Remove width: 100% to prevent table from being constrained */\n",
       "    /* min-width: 100% ensures table takes at least full container width */\n",
       "    min-width: 100%;\n",
       "    border-collapse: separate;\n",
       "    border-spacing: 4px;\n",
       "    background: transparent;\n",
       "    table-layout: auto;  /* Allow table to size based on content */\n",
       "}\n",
       "\n",
       ".scroll-table th {\n",
       "    background: transparent;  /* Semi-transparent background to ensure text readability */\n",
       "    position: sticky;\n",
       "    top: 0;\n",
       "    z-index: 1;\n",
       "    text-align: left !important;\n",
       "    padding: 8px;\n",
       "    font-weight: bold;\n",
       "    white-space: nowrap;  /* Prevent header text from wrapping */\n",
       "    min-width: 100px;    /* Ensure minimum column width */\n",
       "    backdrop-filter: blur(8px);  /* Optional: adds extra clarity */\n",
       "    color: var(--headerColor);\n",
       "}\n",
       "\n",
       ".scroll-table td {\n",
       "    padding: 8px;\n",
       "    text-align: left !important;\n",
       "    white-space: pre-wrap;\n",
       "    word-wrap: break-word;\n",
       "    vertical-align: top;\n",
       "    color: inherit;\n",
       "    border-bottom: none;\n",
       "    background: transparent;\n",
       "    min-width: 100px;    /* Match header minimum width */\n",
       "}\n",
       "\n",
       ".scroll-table tbody tr:hover {\n",
       "    background: transparent;\n",
       "}\n",
       "\n",
       "/* Additional rule to ensure header background is truly transparent */\n",
       ".scroll-table thead tr {\n",
       "    background: transparent !important;\n",
       "}\n",
       "\n",
       "/* Add shadow to indicate scrollable content */\n",
       ".table-container::after {\n",
       "    content: '';\n",
       "    position: absolute;\n",
       "    top: 0;\n",
       "    right: 0;\n",
       "    bottom: 0;\n",
       "    width: 5px;\n",
       "    background: linear-gradient(to right, transparent, rgba(242, 6, 6, 0.1));\n",
       "    pointer-events: none;\n",
       "    opacity: 0;\n",
       "    transition: opacity 0.3s;\n",
       "}\n",
       "\n",
       ".table-container:hover::after {\n",
       "    opacity: 1;\n",
       "}\n",
       "\n",
       "/* Handle Jupyter notebook specific styling */\n",
       ".jp-OutputArea-output .table-container {\n",
       "    max-width: 100%;\n",
       "    margin: 0;\n",
       "    overflow-x: auto;\n",
       "}\n",
       "        </style>\n",
       "        <div class=\"table-container\">\n",
       "            <div class=\"scroll-table-wrapper\">\n",
       "                <table class=\"scroll-table\">\n",
       "<thead>\n",
       "<tr><th>scenario.sense_check_question                                        </th><th>scenario.age  </th></tr>\n",
       "</thead>\n",
       "<tbody>\n",
       "<tr><td>Does &lt;data&gt; have any obvious data entry errors (e.g., typos)?        </td><td>84            </td></tr>\n",
       "<tr><td>Does &lt;data&gt; have any obvious data entry errors (e.g., typos)?        </td><td>84            </td></tr>\n",
       "<tr><td>Does &lt;data&gt; have any obvious data entry errors (e.g., typos)?        </td><td>84            </td></tr>\n",
       "<tr><td>Does &lt;data&gt; have any obvious data entry errors (e.g., typos)?        </td><td>84            </td></tr>\n",
       "<tr><td>Does &lt;data&gt; have any obvious data entry errors (e.g., typos)?        </td><td>84            </td></tr>\n",
       "<tr><td>Does &lt;data&gt; have any obvious data entry errors (e.g., typos)?        </td><td>84            </td></tr>\n",
       "<tr><td>Does &lt;data&gt; have any obvious data entry errors (e.g., typos)?        </td><td>84            </td></tr>\n",
       "<tr><td>Does &lt;data&gt; have any obvious data entry errors (e.g., typos)?        </td><td>84            </td></tr>\n",
       "<tr><td>Does &lt;data&gt; have any obvious data entry errors (e.g., typos)?        </td><td>84            </td></tr>\n",
       "<tr><td>Does &lt;data&gt; have any obvious data entry errors (e.g., typos)?        </td><td>84            </td></tr>\n",
       "<tr><td>Does &lt;data&gt; have any obvious data entry errors (e.g., typos)?        </td><td>84            </td></tr>\n",
       "<tr><td>Does &lt;data&gt; have any obvious data entry errors (e.g., typos)?        </td><td>84            </td></tr>\n",
       "<tr><td>Does &lt;data&gt; have any obvious data entry errors (e.g., typos)?        </td><td>84            </td></tr>\n",
       "<tr><td>Does &lt;data&gt; have any obvious data entry errors (e.g., typos)?        </td><td>84            </td></tr>\n",
       "<tr><td>Does &lt;data&gt; have any obvious data entry errors (e.g., typos)?        </td><td>84            </td></tr>\n",
       "<tr><td>Does &lt;data&gt; have any obvious data entry errors (e.g., typos)?        </td><td>84            </td></tr>\n",
       "<tr><td>Does &lt;data&gt; have any obvious data entry errors (e.g., typos)?        </td><td>62            </td></tr>\n",
       "<tr><td>Does &lt;data&gt; have any obvious data entry errors (e.g., typos)?        </td><td>62            </td></tr>\n",
       "<tr><td>Does &lt;data&gt; have any obvious data entry errors (e.g., typos)?        </td><td>62            </td></tr>\n",
       "<tr><td>Does &lt;data&gt; have any obvious data entry errors (e.g., typos)?        </td><td>62            </td></tr>\n",
       "<tr><td>Does &lt;data&gt; have any obvious data entry errors (e.g., typos)?        </td><td>62            </td></tr>\n",
       "<tr><td>Does &lt;data&gt; have any obvious data entry errors (e.g., typos)?        </td><td>62            </td></tr>\n",
       "<tr><td>Does &lt;data&gt; have any obvious data entry errors (e.g., typos)?        </td><td>62            </td></tr>\n",
       "<tr><td>Does &lt;data&gt; have any obvious data entry errors (e.g., typos)?        </td><td>62            </td></tr>\n",
       "<tr><td>Does &lt;data&gt; have any obvious data entry errors (e.g., typos)?        </td><td>62            </td></tr>\n",
       "<tr><td>Does &lt;data&gt; have any obvious data entry errors (e.g., typos)?        </td><td>62            </td></tr>\n",
       "<tr><td>Does &lt;data&gt; have any obvious data entry errors (e.g., typos)?        </td><td>62            </td></tr>\n",
       "<tr><td>Does &lt;data&gt; have any obvious data entry errors (e.g., typos)?        </td><td>79            </td></tr>\n",
       "<tr><td>Does &lt;data&gt; have any obvious data entry errors (e.g., typos)?        </td><td>79            </td></tr>\n",
       "<tr><td>Does &lt;data&gt; have any obvious data entry errors (e.g., typos)?        </td><td>79            </td></tr>\n",
       "<tr><td>Does &lt;data&gt; have any obvious data entry errors (e.g., typos)?        </td><td>79            </td></tr>\n",
       "<tr><td>Does &lt;data&gt; have any obvious data entry errors (e.g., typos)?        </td><td>79            </td></tr>\n",
       "<tr><td>Does &lt;data&gt; have any obvious data entry errors (e.g., typos)?        </td><td>57            </td></tr>\n",
       "<tr><td>Does &lt;data&gt; have any obvious data entry errors (e.g., typos)?        </td><td>57            </td></tr>\n",
       "<tr><td>Does &lt;data&gt; have any obvious data entry errors (e.g., typos)?        </td><td>57            </td></tr>\n",
       "<tr><td>Does &lt;data&gt; have any obvious data entry errors (e.g., typos)?        </td><td>57            </td></tr>\n",
       "<tr><td>Does &lt;data&gt; have any obvious data entry errors (e.g., typos)?        </td><td>57            </td></tr>\n",
       "<tr><td>Does &lt;data&gt; have any obvious data entry errors (e.g., typos)?        </td><td>57            </td></tr>\n",
       "<tr><td>Does &lt;data&gt; have any obvious data entry errors (e.g., typos)?        </td><td>59            </td></tr>\n",
       "<tr><td>Does &lt;data&gt; have any obvious data entry errors (e.g., typos)?        </td><td>59            </td></tr>\n",
       "<tr><td>Does &lt;data&gt; have any obvious data entry errors (e.g., typos)?        </td><td>59            </td></tr>\n",
       "<tr><td>Does &lt;data&gt; have any obvious data entry errors (e.g., typos)?        </td><td>55            </td></tr>\n",
       "<tr><td>Does &lt;data&gt; have any obvious data entry errors (e.g., typos)?        </td><td>55            </td></tr>\n",
       "<tr><td>Does &lt;data&gt; have any obvious data entry errors (e.g., typos)?        </td><td>55            </td></tr>\n",
       "<tr><td>Does &lt;data&gt; have any obvious data entry errors (e.g., typos)?        </td><td>55            </td></tr>\n",
       "<tr><td>Does &lt;data&gt; have any obvious data entry errors (e.g., typos)?        </td><td>68            </td></tr>\n",
       "<tr><td>Does &lt;data&gt; have any obvious data entry errors (e.g., typos)?        </td><td>68            </td></tr>\n",
       "<tr><td>Does &lt;data&gt; have any obvious data entry errors (e.g., typos)?        </td><td>68            </td></tr>\n",
       "<tr><td>Does &lt;data&gt; have any obvious data entry errors (e.g., typos)?        </td><td>68            </td></tr>\n",
       "<tr><td>Does &lt;data&gt; have any obvious data entry errors (e.g., typos)?        </td><td>68            </td></tr>\n",
       "<tr><td>Does &lt;data&gt; have any obvious data entry errors (e.g., typos)?        </td><td>68            </td></tr>\n",
       "<tr><td>Does &lt;data&gt; have any obvious data entry errors (e.g., typos)?        </td><td>66            </td></tr>\n",
       "<tr><td>Does &lt;data&gt; have any obvious data entry errors (e.g., typos)?        </td><td>66            </td></tr>\n",
       "<tr><td>Does &lt;data&gt; have any obvious data entry errors (e.g., typos)?        </td><td>66            </td></tr>\n",
       "<tr><td>Does &lt;data&gt; have any obvious data entry errors (e.g., typos)?        </td><td>66            </td></tr>\n",
       "<tr><td>Does &lt;data&gt; have any obvious data entry errors (e.g., typos)?        </td><td>47            </td></tr>\n",
       "<tr><td>Does &lt;data&gt; have any obvious data entry errors (e.g., typos)?        </td><td>47            </td></tr>\n",
       "<tr><td>Does &lt;data&gt; have any obvious data entry errors (e.g., typos)?        </td><td>47            </td></tr>\n",
       "<tr><td>Does &lt;data&gt; have any obvious data entry errors (e.g., typos)?        </td><td>47            </td></tr>\n",
       "<tr><td>Does &lt;data&gt; have any obvious data entry errors (e.g., typos)?        </td><td>47            </td></tr>\n",
       "<tr><td>Does &lt;data&gt; have any obvious data entry errors (e.g., typos)?        </td><td>47            </td></tr>\n",
       "<tr><td>Does &lt;data&gt; have any obvious data entry errors (e.g., typos)?        </td><td>54            </td></tr>\n",
       "<tr><td>Does &lt;data&gt; have any obvious data entry errors (e.g., typos)?        </td><td>54            </td></tr>\n",
       "<tr><td>Does &lt;data&gt; have any obvious data entry errors (e.g., typos)?        </td><td>54            </td></tr>\n",
       "<tr><td>Does &lt;data&gt; have any obvious data entry errors (e.g., typos)?        </td><td>54            </td></tr>\n",
       "<tr><td>Does &lt;data&gt; have any obvious data entry errors (e.g., typos)?        </td><td>54            </td></tr>\n",
       "<tr><td>Does &lt;data&gt; have any obvious data entry errors (e.g., typos)?        </td><td>54            </td></tr>\n",
       "<tr><td>Does &lt;data&gt; have any obvious data entry errors (e.g., typos)?        </td><td>54            </td></tr>\n",
       "<tr><td>Does &lt;data&gt; have any obvious data entry errors (e.g., typos)?        </td><td>76            </td></tr>\n",
       "<tr><td>Does &lt;data&gt; have any obvious data entry errors (e.g., typos)?        </td><td>76            </td></tr>\n",
       "<tr><td>Does &lt;data&gt; have any obvious data entry errors (e.g., typos)?        </td><td>76            </td></tr>\n",
       "<tr><td>Does &lt;data&gt; have any obvious data entry errors (e.g., typos)?        </td><td>76            </td></tr>\n",
       "<tr><td>Does &lt;data&gt; have any obvious data entry errors (e.g., typos)?        </td><td>76            </td></tr>\n",
       "<tr><td>Does &lt;data&gt; have any obvious data entry errors (e.g., typos)?        </td><td>76            </td></tr>\n",
       "<tr><td>Does &lt;data&gt; have any obvious data entry errors (e.g., typos)?        </td><td>76            </td></tr>\n",
       "<tr><td>Does &lt;data&gt; have any obvious data entry errors (e.g., typos)?        </td><td>76            </td></tr>\n",
       "<tr><td>Does &lt;data&gt; have any obvious data entry errors (e.g., typos)?        </td><td>76            </td></tr>\n",
       "<tr><td>Does &lt;data&gt; have any obvious data entry errors (e.g., typos)?        </td><td>76            </td></tr>\n",
       "<tr><td>Does &lt;data&gt; have any obvious data entry errors (e.g., typos)?        </td><td>33            </td></tr>\n",
       "<tr><td>Does &lt;data&gt; have any obvious data entry errors (e.g., typos)?        </td><td>33            </td></tr>\n",
       "<tr><td>Does &lt;data&gt; have any obvious data entry errors (e.g., typos)?        </td><td>33            </td></tr>\n",
       "<tr><td>Does &lt;data&gt; have any obvious data entry errors (e.g., typos)?        </td><td>33            </td></tr>\n",
       "<tr><td>Does &lt;data&gt; have any obvious data entry errors (e.g., typos)?        </td><td>33            </td></tr>\n",
       "<tr><td>Does &lt;data&gt; have any obvious data entry errors (e.g., typos)?        </td><td>74            </td></tr>\n",
       "<tr><td>Does &lt;data&gt; have any obvious data entry errors (e.g., typos)?        </td><td>74            </td></tr>\n",
       "<tr><td>Does &lt;data&gt; have any obvious data entry errors (e.g., typos)?        </td><td>74            </td></tr>\n",
       "<tr><td>Does &lt;data&gt; have any obvious data entry errors (e.g., typos)?        </td><td>74            </td></tr>\n",
       "<tr><td>Does &lt;data&gt; have any obvious data entry errors (e.g., typos)?        </td><td>74            </td></tr>\n",
       "<tr><td>Does &lt;data&gt; have any obvious data entry errors (e.g., typos)?        </td><td>74            </td></tr>\n",
       "<tr><td>Does &lt;data&gt; have any obvious data entry errors (e.g., typos)?        </td><td>56            </td></tr>\n",
       "<tr><td>Does &lt;data&gt; have any obvious data entry errors (e.g., typos)?        </td><td>56            </td></tr>\n",
       "<tr><td>Does &lt;data&gt; have any obvious data entry errors (e.g., typos)?        </td><td>56            </td></tr>\n",
       "<tr><td>Does &lt;data&gt; have any obvious data entry errors (e.g., typos)?        </td><td>56            </td></tr>\n",
       "<tr><td>Does &lt;data&gt; have any obvious data entry errors (e.g., typos)?        </td><td>56            </td></tr>\n",
       "<tr><td>Does &lt;data&gt; have any obvious data entry errors (e.g., typos)?        </td><td>56            </td></tr>\n",
       "<tr><td>Does &lt;data&gt; have any obvious data entry errors (e.g., typos)?        </td><td>24            </td></tr>\n",
       "<tr><td>Does &lt;data&gt; have any obvious data entry errors (e.g., typos)?        </td><td>24            </td></tr>\n",
       "<tr><td>Does &lt;data&gt; have any obvious data entry errors (e.g., typos)?        </td><td>24            </td></tr>\n",
       "<tr><td>Does &lt;data&gt; have any obvious data entry errors (e.g., typos)?        </td><td>24            </td></tr>\n",
       "<tr><td>Does &lt;data&gt; have any obvious data entry errors (e.g., typos)?        </td><td>24            </td></tr>\n",
       "<tr><td>Does &lt;data&gt; have any obvious data entry errors (e.g., typos)?        </td><td>24            </td></tr>\n",
       "<tr><td>Does &lt;data&gt; have any obvious data entry errors (e.g., typos)?        </td><td>24            </td></tr>\n",
       "<tr><td>Does &lt;data&gt; have any obvious data entry errors (e.g., typos)?        </td><td>24            </td></tr>\n",
       "<tr><td>Does &lt;data&gt; have any obvious data entry errors (e.g., typos)?        </td><td>23            </td></tr>\n",
       "<tr><td>Does &lt;data&gt; have any obvious data entry errors (e.g., typos)?        </td><td>23            </td></tr>\n",
       "<tr><td>Does &lt;data&gt; have any obvious data entry errors (e.g., typos)?        </td><td>23            </td></tr>\n",
       "<tr><td>Does &lt;data&gt; have any obvious data entry errors (e.g., typos)?        </td><td>23            </td></tr>\n",
       "<tr><td>Does &lt;data&gt; have any obvious data entry errors (e.g., typos)?        </td><td>23            </td></tr>\n",
       "<tr><td>Does &lt;data&gt; have any obvious data entry errors (e.g., typos)?        </td><td>23            </td></tr>\n",
       "<tr><td>Does &lt;data&gt; have any obvious data entry errors (e.g., typos)?        </td><td>23            </td></tr>\n",
       "<tr><td>Does &lt;data&gt; have any obvious data entry errors (e.g., typos)?        </td><td>23            </td></tr>\n",
       "<tr><td>Does &lt;data&gt; have any obvious data entry errors (e.g., typos)?        </td><td>23            </td></tr>\n",
       "<tr><td>Does &lt;data&gt; have any obvious data entry errors (e.g., typos)?        </td><td>38            </td></tr>\n",
       "<tr><td>Does &lt;data&gt; have any obvious data entry errors (e.g., typos)?        </td><td>38            </td></tr>\n",
       "<tr><td>Does &lt;data&gt; have any obvious data entry errors (e.g., typos)?        </td><td>38            </td></tr>\n",
       "<tr><td>Does &lt;data&gt; have any obvious data entry errors (e.g., typos)?        </td><td>38            </td></tr>\n",
       "<tr><td>Does &lt;data&gt; have any obvious data entry errors (e.g., typos)?        </td><td>38            </td></tr>\n",
       "<tr><td>Does &lt;data&gt; have any obvious data entry errors (e.g., typos)?        </td><td>51            </td></tr>\n",
       "<tr><td>Does &lt;data&gt; have any obvious data entry errors (e.g., typos)?        </td><td>51            </td></tr>\n",
       "<tr><td>Does &lt;data&gt; have any obvious data entry errors (e.g., typos)?        </td><td>51            </td></tr>\n",
       "<tr><td>Does &lt;data&gt; have any obvious data entry errors (e.g., typos)?        </td><td>71            </td></tr>\n",
       "<tr><td>Does &lt;data&gt; have any obvious data entry errors (e.g., typos)?        </td><td>71            </td></tr>\n",
       "<tr><td>Does &lt;data&gt; have any obvious data entry errors (e.g., typos)?        </td><td>71            </td></tr>\n",
       "<tr><td>Does &lt;data&gt; have any obvious data entry errors (e.g., typos)?        </td><td>71            </td></tr>\n",
       "<tr><td>Does &lt;data&gt; have any obvious data entry errors (e.g., typos)?        </td><td>71            </td></tr>\n",
       "<tr><td>Does &lt;data&gt; have any obvious data entry errors (e.g., typos)?        </td><td>71            </td></tr>\n",
       "<tr><td>Does &lt;data&gt; have any obvious data entry errors (e.g., typos)?        </td><td>71            </td></tr>\n",
       "<tr><td>Does &lt;data&gt; have any obvious data entry errors (e.g., typos)?        </td><td>46            </td></tr>\n",
       "<tr><td>Does &lt;data&gt; have any obvious data entry errors (e.g., typos)?        </td><td>46            </td></tr>\n",
       "<tr><td>Does &lt;data&gt; have any obvious data entry errors (e.g., typos)?        </td><td>46            </td></tr>\n",
       "<tr><td>Does &lt;data&gt; have any obvious data entry errors (e.g., typos)?        </td><td>46            </td></tr>\n",
       "<tr><td>Does &lt;data&gt; have any obvious data entry errors (e.g., typos)?        </td><td>46            </td></tr>\n",
       "<tr><td>Does &lt;data&gt; have any obvious data entry errors (e.g., typos)?        </td><td>26            </td></tr>\n",
       "<tr><td>Does &lt;data&gt; have any obvious data entry errors (e.g., typos)?        </td><td>26            </td></tr>\n",
       "<tr><td>Does &lt;data&gt; have any obvious data entry errors (e.g., typos)?        </td><td>26            </td></tr>\n",
       "<tr><td>Does &lt;data&gt; have any obvious data entry errors (e.g., typos)?        </td><td>26            </td></tr>\n",
       "<tr><td>Does &lt;data&gt; have any obvious data entry errors (e.g., typos)?        </td><td>26            </td></tr>\n",
       "<tr><td>Does &lt;data&gt; have any obvious data entry errors (e.g., typos)?        </td><td>50            </td></tr>\n",
       "<tr><td>Does &lt;data&gt; have any obvious data entry errors (e.g., typos)?        </td><td>50            </td></tr>\n",
       "<tr><td>Does &lt;data&gt; have any obvious data entry errors (e.g., typos)?        </td><td>50            </td></tr>\n",
       "<tr><td>Does &lt;data&gt; have any obvious data entry errors (e.g., typos)?        </td><td>50            </td></tr>\n",
       "<tr><td>Does &lt;data&gt; have any obvious data entry errors (e.g., typos)?        </td><td>50            </td></tr>\n",
       "<tr><td>Does &lt;data&gt; have any obvious data entry errors (e.g., typos)?        </td><td>50            </td></tr>\n",
       "<tr><td>Does &lt;data&gt; have any obvious data entry errors (e.g., typos)?        </td><td>50            </td></tr>\n",
       "<tr><td>Does &lt;data&gt; have any obvious data entry errors (e.g., typos)?        </td><td>50            </td></tr>\n",
       "<tr><td>Does &lt;data&gt; have any obvious data entry errors (e.g., typos)?        </td><td>50            </td></tr>\n",
       "<tr><td>Does &lt;data&gt; have any obvious data entry errors (e.g., typos)?        </td><td>50            </td></tr>\n",
       "<tr><td>Does &lt;data&gt; have any obvious data entry errors (e.g., typos)?        </td><td>39            </td></tr>\n",
       "<tr><td>Does &lt;data&gt; have any obvious data entry errors (e.g., typos)?        </td><td>39            </td></tr>\n",
       "<tr><td>Does &lt;data&gt; have any obvious data entry errors (e.g., typos)?        </td><td>39            </td></tr>\n",
       "<tr><td>Does &lt;data&gt; have any obvious data entry errors (e.g., typos)?        </td><td>39            </td></tr>\n",
       "<tr><td>Does &lt;data&gt; have any obvious data entry errors (e.g., typos)?        </td><td>39            </td></tr>\n",
       "<tr><td>Does &lt;data&gt; have any obvious data entry errors (e.g., typos)?        </td><td>39            </td></tr>\n",
       "<tr><td>Does &lt;data&gt; have any obvious data entry errors (e.g., typos)?        </td><td>39            </td></tr>\n",
       "<tr><td>Does &lt;data&gt; have any obvious data entry errors (e.g., typos)?        </td><td>31            </td></tr>\n",
       "<tr><td>Does &lt;data&gt; have any obvious data entry errors (e.g., typos)?        </td><td>31            </td></tr>\n",
       "<tr><td>Does &lt;data&gt; have any obvious data entry errors (e.g., typos)?        </td><td>31            </td></tr>\n",
       "<tr><td>Does &lt;data&gt; have any obvious data entry errors (e.g., typos)?        </td><td>31            </td></tr>\n",
       "<tr><td>Does &lt;data&gt; have any obvious data entry errors (e.g., typos)?        </td><td>31            </td></tr>\n",
       "<tr><td>Does &lt;data&gt; have any obvious data entry errors (e.g., typos)?        </td><td>52            </td></tr>\n",
       "<tr><td>Does &lt;data&gt; have any obvious data entry errors (e.g., typos)?        </td><td>52            </td></tr>\n",
       "<tr><td>Does &lt;data&gt; have any obvious data entry errors (e.g., typos)?        </td><td>52            </td></tr>\n",
       "<tr><td>Does &lt;data&gt; have any obvious data entry errors (e.g., typos)?        </td><td>52            </td></tr>\n",
       "<tr><td>Does &lt;data&gt; have any obvious data entry errors (e.g., typos)?        </td><td>69            </td></tr>\n",
       "<tr><td>Does &lt;data&gt; have any obvious data entry errors (e.g., typos)?        </td><td>69            </td></tr>\n",
       "<tr><td>Does &lt;data&gt; have any obvious data entry errors (e.g., typos)?        </td><td>69            </td></tr>\n",
       "<tr><td>Does &lt;data&gt; have any obvious data entry errors (e.g., typos)?        </td><td>69            </td></tr>\n",
       "<tr><td>Does &lt;data&gt; have any obvious data entry errors (e.g., typos)?        </td><td>69            </td></tr>\n",
       "<tr><td>Does &lt;data&gt; have any obvious data entry errors (e.g., typos)?        </td><td>69            </td></tr>\n",
       "<tr><td>Does &lt;data&gt; have any obvious data entry errors (e.g., typos)?        </td><td>69            </td></tr>\n",
       "<tr><td>Does &lt;data&gt; have any obvious data entry errors (e.g., typos)?        </td><td>69            </td></tr>\n",
       "<tr><td>Does &lt;data&gt; have any obvious data entry errors (e.g., typos)?        </td><td>69            </td></tr>\n",
       "<tr><td>Does &lt;data&gt; have any obvious data entry errors (e.g., typos)?        </td><td>69            </td></tr>\n",
       "<tr><td>Does &lt;data&gt; have any obvious data entry errors (e.g., typos)?        </td><td>69            </td></tr>\n",
       "<tr><td>Does &lt;data&gt; have any obvious data entry errors (e.g., typos)?        </td><td>48            </td></tr>\n",
       "<tr><td>Does &lt;data&gt; have any obvious data entry errors (e.g., typos)?        </td><td>48            </td></tr>\n",
       "<tr><td>Does &lt;data&gt; have any obvious data entry errors (e.g., typos)?        </td><td>48            </td></tr>\n",
       "<tr><td>Does &lt;data&gt; have any obvious data entry errors (e.g., typos)?        </td><td>48            </td></tr>\n",
       "<tr><td>Does &lt;data&gt; have any obvious data entry errors (e.g., typos)?        </td><td>48            </td></tr>\n",
       "<tr><td>Does &lt;data&gt; have any obvious data entry errors (e.g., typos)?        </td><td>48            </td></tr>\n",
       "<tr><td>Does &lt;data&gt; have any obvious data entry errors (e.g., typos)?        </td><td>48            </td></tr>\n",
       "<tr><td>Does &lt;data&gt; have any obvious data entry errors (e.g., typos)?        </td><td>65            </td></tr>\n",
       "<tr><td>Does &lt;data&gt; have any obvious data entry errors (e.g., typos)?        </td><td>65            </td></tr>\n",
       "<tr><td>Does &lt;data&gt; have any obvious data entry errors (e.g., typos)?        </td><td>78            </td></tr>\n",
       "<tr><td>Does &lt;data&gt; have any obvious data entry errors (e.g., typos)?        </td><td>78            </td></tr>\n",
       "<tr><td>Does &lt;data&gt; have any obvious data entry errors (e.g., typos)?        </td><td>78            </td></tr>\n",
       "<tr><td>Does &lt;data&gt; have any obvious data entry errors (e.g., typos)?        </td><td>78            </td></tr>\n",
       "<tr><td>Does &lt;data&gt; have any obvious data entry errors (e.g., typos)?        </td><td>78            </td></tr>\n",
       "<tr><td>Does &lt;data&gt; have any obvious data entry errors (e.g., typos)?        </td><td>78            </td></tr>\n",
       "<tr><td>Does &lt;data&gt; have any obvious data entry errors (e.g., typos)?        </td><td>77            </td></tr>\n",
       "<tr><td>Does &lt;data&gt; have any obvious data entry errors (e.g., typos)?        </td><td>77            </td></tr>\n",
       "<tr><td>Does &lt;data&gt; have any obvious data entry errors (e.g., typos)?        </td><td>77            </td></tr>\n",
       "<tr><td>Does &lt;data&gt; have any obvious data entry errors (e.g., typos)?        </td><td>77            </td></tr>\n",
       "<tr><td>Does &lt;data&gt; have any obvious data entry errors (e.g., typos)?        </td><td>75            </td></tr>\n",
       "<tr><td>Does &lt;data&gt; have any obvious data entry errors (e.g., typos)?        </td><td>75            </td></tr>\n",
       "<tr><td>Does &lt;data&gt; have any obvious data entry errors (e.g., typos)?        </td><td>75            </td></tr>\n",
       "<tr><td>Does &lt;data&gt; have any obvious data entry errors (e.g., typos)?        </td><td>75            </td></tr>\n",
       "<tr><td>Does &lt;data&gt; have any obvious data entry errors (e.g., typos)?        </td><td>44            </td></tr>\n",
       "<tr><td>Does &lt;data&gt; have any obvious data entry errors (e.g., typos)?        </td><td>44            </td></tr>\n",
       "<tr><td>Does &lt;data&gt; have any obvious data entry errors (e.g., typos)?        </td><td>44            </td></tr>\n",
       "<tr><td>Does &lt;data&gt; have any obvious data entry errors (e.g., typos)?        </td><td>44            </td></tr>\n",
       "<tr><td>Does &lt;data&gt; have any obvious data entry errors (e.g., typos)?        </td><td>44            </td></tr>\n",
       "<tr><td>Does &lt;data&gt; have any obvious data entry errors (e.g., typos)?        </td><td>61            </td></tr>\n",
       "<tr><td>Does &lt;data&gt; have any obvious data entry errors (e.g., typos)?        </td><td>61            </td></tr>\n",
       "<tr><td>Does &lt;data&gt; have any obvious data entry errors (e.g., typos)?        </td><td>61            </td></tr>\n",
       "<tr><td>Does &lt;data&gt; have any obvious data entry errors (e.g., typos)?        </td><td>32            </td></tr>\n",
       "<tr><td>Does &lt;data&gt; have any obvious data entry errors (e.g., typos)?        </td><td>32            </td></tr>\n",
       "<tr><td>Does &lt;data&gt; have any obvious data entry errors (e.g., typos)?        </td><td>32            </td></tr>\n",
       "<tr><td>Does &lt;data&gt; have any obvious data entry errors (e.g., typos)?        </td><td>32            </td></tr>\n",
       "<tr><td>Does &lt;data&gt; have any obvious data entry errors (e.g., typos)?        </td><td>32            </td></tr>\n",
       "<tr><td>Does &lt;data&gt; have any obvious data entry errors (e.g., typos)?        </td><td>32            </td></tr>\n",
       "<tr><td>Does &lt;data&gt; have any obvious data entry errors (e.g., typos)?        </td><td>32            </td></tr>\n",
       "<tr><td>Does &lt;data&gt; have any obvious data entry errors (e.g., typos)?        </td><td>70            </td></tr>\n",
       "<tr><td>Does &lt;data&gt; have any obvious data entry errors (e.g., typos)?        </td><td>70            </td></tr>\n",
       "<tr><td>Does &lt;data&gt; have any obvious data entry errors (e.g., typos)?        </td><td>70            </td></tr>\n",
       "<tr><td>Does &lt;data&gt; have any obvious data entry errors (e.g., typos)?        </td><td>70            </td></tr>\n",
       "<tr><td>Does &lt;data&gt; have any obvious data entry errors (e.g., typos)?        </td><td>70            </td></tr>\n",
       "<tr><td>Does &lt;data&gt; have any obvious data entry errors (e.g., typos)?        </td><td>22            </td></tr>\n",
       "<tr><td>Does &lt;data&gt; have any obvious data entry errors (e.g., typos)?        </td><td>22            </td></tr>\n",
       "<tr><td>Does &lt;data&gt; have any obvious data entry errors (e.g., typos)?        </td><td>22            </td></tr>\n",
       "<tr><td>Does &lt;data&gt; have any obvious data entry errors (e.g., typos)?        </td><td>22            </td></tr>\n",
       "<tr><td>Does &lt;data&gt; have any obvious data entry errors (e.g., typos)?        </td><td>22            </td></tr>\n",
       "<tr><td>Does &lt;data&gt; have any obvious data entry errors (e.g., typos)?        </td><td>22            </td></tr>\n",
       "<tr><td>Does &lt;data&gt; have any obvious data entry errors (e.g., typos)?        </td><td>80            </td></tr>\n",
       "<tr><td>Does &lt;data&gt; have any obvious data entry errors (e.g., typos)?        </td><td>80            </td></tr>\n",
       "<tr><td>Does &lt;data&gt; have any obvious data entry errors (e.g., typos)?        </td><td>80            </td></tr>\n",
       "<tr><td>Does &lt;data&gt; have any obvious data entry errors (e.g., typos)?        </td><td>80            </td></tr>\n",
       "<tr><td>Does &lt;data&gt; have any obvious data entry errors (e.g., typos)?        </td><td>36            </td></tr>\n",
       "<tr><td>Does &lt;data&gt; have any obvious data entry errors (e.g., typos)?        </td><td>36            </td></tr>\n",
       "<tr><td>Does &lt;data&gt; have any obvious data entry errors (e.g., typos)?        </td><td>36            </td></tr>\n",
       "<tr><td>Does &lt;data&gt; have any obvious data entry errors (e.g., typos)?        </td><td>36            </td></tr>\n",
       "<tr><td>Does &lt;data&gt; have any obvious data entry errors (e.g., typos)?        </td><td>36            </td></tr>\n",
       "<tr><td>Does &lt;data&gt; have any obvious data entry errors (e.g., typos)?        </td><td>36            </td></tr>\n",
       "<tr><td>Does &lt;data&gt; have any obvious data entry errors (e.g., typos)?        </td><td>42            </td></tr>\n",
       "<tr><td>Does &lt;data&gt; have any obvious data entry errors (e.g., typos)?        </td><td>40            </td></tr>\n",
       "<tr><td>Does &lt;data&gt; have any obvious data entry errors (e.g., typos)?        </td><td>40            </td></tr>\n",
       "<tr><td>Does &lt;data&gt; have any obvious data entry errors (e.g., typos)?        </td><td>40            </td></tr>\n",
       "<tr><td>Does &lt;data&gt; have any obvious data entry errors (e.g., typos)?        </td><td>85            </td></tr>\n",
       "<tr><td>Does &lt;data&gt; have any obvious data entry errors (e.g., typos)?        </td><td>85            </td></tr>\n",
       "<tr><td>Does &lt;data&gt; have any obvious data entry errors (e.g., typos)?        </td><td>85            </td></tr>\n",
       "<tr><td>Does &lt;data&gt; have any obvious data entry errors (e.g., typos)?        </td><td>85            </td></tr>\n",
       "<tr><td>Does &lt;data&gt; have any obvious data entry errors (e.g., typos)?        </td><td>85            </td></tr>\n",
       "<tr><td>Does &lt;data&gt; have any obvious data entry errors (e.g., typos)?        </td><td>85            </td></tr>\n",
       "<tr><td>Does &lt;data&gt; have any obvious data entry errors (e.g., typos)?        </td><td>85            </td></tr>\n",
       "<tr><td>Does &lt;data&gt; have any obvious data entry errors (e.g., typos)?        </td><td>85            </td></tr>\n",
       "<tr><td>Does &lt;data&gt; have any obvious data entry errors (e.g., typos)?        </td><td>85            </td></tr>\n",
       "<tr><td>Does &lt;data&gt; have any obvious data entry errors (e.g., typos)?        </td><td>85            </td></tr>\n",
       "<tr><td>Does &lt;data&gt; have any obvious data entry errors (e.g., typos)?        </td><td>28            </td></tr>\n",
       "<tr><td>Does &lt;data&gt; have any obvious data entry errors (e.g., typos)?        </td><td>28            </td></tr>\n",
       "<tr><td>Does &lt;data&gt; have any obvious data entry errors (e.g., typos)?        </td><td>28            </td></tr>\n",
       "<tr><td>Does &lt;data&gt; have any obvious data entry errors (e.g., typos)?        </td><td>28            </td></tr>\n",
       "<tr><td>Does &lt;data&gt; have any obvious data entry errors (e.g., typos)?        </td><td>67            </td></tr>\n",
       "<tr><td>Does &lt;data&gt; have any obvious data entry errors (e.g., typos)?        </td><td>67            </td></tr>\n",
       "<tr><td>Does &lt;data&gt; have any obvious data entry errors (e.g., typos)?        </td><td>67            </td></tr>\n",
       "<tr><td>Does &lt;data&gt; have any obvious data entry errors (e.g., typos)?        </td><td>25            </td></tr>\n",
       "<tr><td>Does &lt;data&gt; have any obvious data entry errors (e.g., typos)?        </td><td>25            </td></tr>\n",
       "<tr><td>Does &lt;data&gt; have any obvious data entry errors (e.g., typos)?        </td><td>25            </td></tr>\n",
       "<tr><td>Does &lt;data&gt; have any obvious data entry errors (e.g., typos)?        </td><td>25            </td></tr>\n",
       "<tr><td>Does &lt;data&gt; have any obvious data entry errors (e.g., typos)?        </td><td>25            </td></tr>\n",
       "<tr><td>Does &lt;data&gt; have any obvious data entry errors (e.g., typos)?        </td><td>25            </td></tr>\n",
       "<tr><td>Does &lt;data&gt; have any obvious data entry errors (e.g., typos)?        </td><td>25            </td></tr>\n",
       "<tr><td>Does &lt;data&gt; have any obvious data entry errors (e.g., typos)?        </td><td>25            </td></tr>\n",
       "<tr><td>Does &lt;data&gt; have any obvious data entry errors (e.g., typos)?        </td><td>25            </td></tr>\n",
       "<tr><td>Does &lt;data&gt; have any obvious data entry errors (e.g., typos)?        </td><td>53            </td></tr>\n",
       "<tr><td>Does &lt;data&gt; have any obvious data entry errors (e.g., typos)?        </td><td>53            </td></tr>\n",
       "<tr><td>Does &lt;data&gt; have any obvious data entry errors (e.g., typos)?        </td><td>53            </td></tr>\n",
       "<tr><td>Does &lt;data&gt; have any obvious data entry errors (e.g., typos)?        </td><td>53            </td></tr>\n",
       "<tr><td>Does &lt;data&gt; have any obvious data entry errors (e.g., typos)?        </td><td>53            </td></tr>\n",
       "<tr><td>Does &lt;data&gt; have any obvious data entry errors (e.g., typos)?        </td><td>64            </td></tr>\n",
       "<tr><td>Does &lt;data&gt; have any obvious data entry errors (e.g., typos)?        </td><td>64            </td></tr>\n",
       "<tr><td>Does &lt;data&gt; have any obvious data entry errors (e.g., typos)?        </td><td>64            </td></tr>\n",
       "<tr><td>Does &lt;data&gt; have any obvious data entry errors (e.g., typos)?        </td><td>27            </td></tr>\n",
       "<tr><td>Does &lt;data&gt; have any obvious data entry errors (e.g., typos)?        </td><td>27            </td></tr>\n",
       "<tr><td>Does &lt;data&gt; have any obvious data entry errors (e.g., typos)?        </td><td>27            </td></tr>\n",
       "<tr><td>Does &lt;data&gt; have any obvious data entry errors (e.g., typos)?        </td><td>27            </td></tr>\n",
       "<tr><td>Does &lt;data&gt; have any obvious data entry errors (e.g., typos)?        </td><td>27            </td></tr>\n",
       "<tr><td>Does &lt;data&gt; have any obvious data entry errors (e.g., typos)?        </td><td>0.99          </td></tr>\n",
       "<tr><td>Does &lt;data&gt; have any obvious data entry errors (e.g., typos)?        </td><td>83            </td></tr>\n",
       "<tr><td>Does &lt;data&gt; have any obvious data entry errors (e.g., typos)?        </td><td>83            </td></tr>\n",
       "<tr><td>Does &lt;data&gt; have any obvious data entry errors (e.g., typos)?        </td><td>83            </td></tr>\n",
       "<tr><td>Does &lt;data&gt; have any obvious data entry errors (e.g., typos)?        </td><td>83            </td></tr>\n",
       "<tr><td>Does &lt;data&gt; have any obvious data entry errors (e.g., typos)?        </td><td>83            </td></tr>\n",
       "<tr><td>Does &lt;data&gt; have any obvious data entry errors (e.g., typos)?        </td><td>58            </td></tr>\n",
       "<tr><td>Does &lt;data&gt; have any obvious data entry errors (e.g., typos)?        </td><td>58            </td></tr>\n",
       "<tr><td>Does &lt;data&gt; have any obvious data entry errors (e.g., typos)?        </td><td>58            </td></tr>\n",
       "<tr><td>Does &lt;data&gt; have any obvious data entry errors (e.g., typos)?        </td><td>58            </td></tr>\n",
       "<tr><td>Does &lt;data&gt; have any obvious data entry errors (e.g., typos)?        </td><td>58            </td></tr>\n",
       "<tr><td>Does &lt;data&gt; have any obvious data entry errors (e.g., typos)?        </td><td>58            </td></tr>\n",
       "<tr><td>Does &lt;data&gt; have any obvious data entry errors (e.g., typos)?        </td><td>58            </td></tr>\n",
       "<tr><td>Does &lt;data&gt; have any obvious data entry errors (e.g., typos)?        </td><td>58            </td></tr>\n",
       "<tr><td>Does &lt;data&gt; have any obvious data entry errors (e.g., typos)?        </td><td>58            </td></tr>\n",
       "<tr><td>Does &lt;data&gt; have any obvious data entry errors (e.g., typos)?        </td><td>43            </td></tr>\n",
       "<tr><td>Does &lt;data&gt; have any obvious data entry errors (e.g., typos)?        </td><td>43            </td></tr>\n",
       "<tr><td>Does &lt;data&gt; have any obvious data entry errors (e.g., typos)?        </td><td>43            </td></tr>\n",
       "<tr><td>Does &lt;data&gt; have any obvious data entry errors (e.g., typos)?        </td><td>43            </td></tr>\n",
       "<tr><td>Does &lt;data&gt; have any obvious data entry errors (e.g., typos)?        </td><td>43            </td></tr>\n",
       "<tr><td>Does &lt;data&gt; have any obvious data entry errors (e.g., typos)?        </td><td>43            </td></tr>\n",
       "<tr><td>Does &lt;data&gt; have any obvious data entry errors (e.g., typos)?        </td><td>43            </td></tr>\n",
       "<tr><td>Does &lt;data&gt; have any obvious data entry errors (e.g., typos)?        </td><td>43            </td></tr>\n",
       "<tr><td>Does &lt;data&gt; have any obvious data entry errors (e.g., typos)?        </td><td>43            </td></tr>\n",
       "<tr><td>Does &lt;data&gt; have any obvious data entry errors (e.g., typos)?        </td><td>43            </td></tr>\n",
       "<tr><td>Does &lt;data&gt; have any obvious data entry errors (e.g., typos)?        </td><td>43            </td></tr>\n",
       "<tr><td>Does &lt;data&gt; have any obvious data entry errors (e.g., typos)?        </td><td>43            </td></tr>\n",
       "<tr><td>Does &lt;data&gt; have any obvious data entry errors (e.g., typos)?        </td><td>43            </td></tr>\n",
       "<tr><td>Does &lt;data&gt; have any obvious data entry errors (e.g., typos)?        </td><td>82            </td></tr>\n",
       "<tr><td>Does &lt;data&gt; have any obvious data entry errors (e.g., typos)?        </td><td>82            </td></tr>\n",
       "<tr><td>Does &lt;data&gt; have any obvious data entry errors (e.g., typos)?        </td><td>82            </td></tr>\n",
       "<tr><td>Does &lt;data&gt; have any obvious data entry errors (e.g., typos)?        </td><td>82            </td></tr>\n",
       "<tr><td>Does &lt;data&gt; have any obvious data entry errors (e.g., typos)?        </td><td>82            </td></tr>\n",
       "<tr><td>Does &lt;data&gt; have any obvious data entry errors (e.g., typos)?        </td><td>45            </td></tr>\n",
       "<tr><td>Does &lt;data&gt; have any obvious data entry errors (e.g., typos)?        </td><td>45            </td></tr>\n",
       "<tr><td>Does &lt;data&gt; have any obvious data entry errors (e.g., typos)?        </td><td>45            </td></tr>\n",
       "<tr><td>Does &lt;data&gt; have any obvious data entry errors (e.g., typos)?        </td><td>45            </td></tr>\n",
       "<tr><td>Does &lt;data&gt; have any obvious data entry errors (e.g., typos)?        </td><td>30            </td></tr>\n",
       "<tr><td>Does &lt;data&gt; have any obvious data entry errors (e.g., typos)?        </td><td>30            </td></tr>\n",
       "<tr><td>Does &lt;data&gt; have any obvious data entry errors (e.g., typos)?        </td><td>30            </td></tr>\n",
       "<tr><td>Does &lt;data&gt; have any obvious data entry errors (e.g., typos)?        </td><td>30            </td></tr>\n",
       "<tr><td>Does &lt;data&gt; have any obvious data entry errors (e.g., typos)?        </td><td>30            </td></tr>\n",
       "<tr><td>Does &lt;data&gt; have any obvious data entry errors (e.g., typos)?        </td><td>72            </td></tr>\n",
       "<tr><td>Does &lt;data&gt; have any obvious data entry errors (e.g., typos)?        </td><td>72            </td></tr>\n",
       "<tr><td>Does &lt;data&gt; have any obvious data entry errors (e.g., typos)?        </td><td>72            </td></tr>\n",
       "<tr><td>Does &lt;data&gt; have any obvious data entry errors (e.g., typos)?        </td><td>37            </td></tr>\n",
       "<tr><td>Does &lt;data&gt; have any obvious data entry errors (e.g., typos)?        </td><td>37            </td></tr>\n",
       "<tr><td>Does &lt;data&gt; have any obvious data entry errors (e.g., typos)?        </td><td>37            </td></tr>\n",
       "<tr><td>Does &lt;data&gt; have any obvious data entry errors (e.g., typos)?        </td><td>37            </td></tr>\n",
       "<tr><td>Does &lt;data&gt; have any obvious data entry errors (e.g., typos)?        </td><td>37            </td></tr>\n",
       "<tr><td>Does &lt;data&gt; have any obvious data entry errors (e.g., typos)?        </td><td>37            </td></tr>\n",
       "<tr><td>Does &lt;data&gt; have any obvious data entry errors (e.g., typos)?        </td><td>37            </td></tr>\n",
       "<tr><td>Does &lt;data&gt; have any obvious data entry errors (e.g., typos)?        </td><td>37            </td></tr>\n",
       "<tr><td>Does &lt;data&gt; have any obvious data entry errors (e.g., typos)?        </td><td>63            </td></tr>\n",
       "<tr><td>Does &lt;data&gt; have any obvious data entry errors (e.g., typos)?        </td><td>63            </td></tr>\n",
       "<tr><td>Does &lt;data&gt; have any obvious data entry errors (e.g., typos)?        </td><td>63            </td></tr>\n",
       "<tr><td>Does &lt;data&gt; have any obvious data entry errors (e.g., typos)?        </td><td>63            </td></tr>\n",
       "<tr><td>Does &lt;data&gt; have any obvious data entry errors (e.g., typos)?        </td><td>63            </td></tr>\n",
       "<tr><td>Does &lt;data&gt; have any obvious data entry errors (e.g., typos)?        </td><td>63            </td></tr>\n",
       "<tr><td>Does &lt;data&gt; have any obvious data entry errors (e.g., typos)?        </td><td>63            </td></tr>\n",
       "<tr><td>Does &lt;data&gt; have any obvious data entry errors (e.g., typos)?        </td><td>63            </td></tr>\n",
       "<tr><td>Does &lt;data&gt; have any obvious data entry errors (e.g., typos)?        </td><td>63            </td></tr>\n",
       "<tr><td>Does &lt;data&gt; have any obvious data entry errors (e.g., typos)?        </td><td>63            </td></tr>\n",
       "<tr><td>Does &lt;data&gt; have any obvious data entry errors (e.g., typos)?        </td><td>63            </td></tr>\n",
       "<tr><td>Does &lt;data&gt; have any obvious data entry errors (e.g., typos)?        </td><td>63            </td></tr>\n",
       "<tr><td>Does &lt;data&gt; have any obvious data entry errors (e.g., typos)?        </td><td>63            </td></tr>\n",
       "<tr><td>Does &lt;data&gt; have any obvious data entry errors (e.g., typos)?        </td><td>60            </td></tr>\n",
       "<tr><td>Does &lt;data&gt; have any obvious data entry errors (e.g., typos)?        </td><td>60            </td></tr>\n",
       "<tr><td>Does &lt;data&gt; have any obvious data entry errors (e.g., typos)?        </td><td>60            </td></tr>\n",
       "<tr><td>Does &lt;data&gt; have any obvious data entry errors (e.g., typos)?        </td><td>60            </td></tr>\n",
       "<tr><td>Does &lt;data&gt; have any obvious data entry errors (e.g., typos)?        </td><td>60            </td></tr>\n",
       "<tr><td>Does &lt;data&gt; have any obvious data entry errors (e.g., typos)?        </td><td>60            </td></tr>\n",
       "<tr><td>Does &lt;data&gt; have any obvious data entry errors (e.g., typos)?        </td><td>60            </td></tr>\n",
       "<tr><td>Does &lt;data&gt; have any obvious data entry errors (e.g., typos)?        </td><td>49            </td></tr>\n",
       "<tr><td>Does &lt;data&gt; have any obvious data entry errors (e.g., typos)?        </td><td>49            </td></tr>\n",
       "<tr><td>Does &lt;data&gt; have any obvious data entry errors (e.g., typos)?        </td><td>49            </td></tr>\n",
       "<tr><td>Does &lt;data&gt; have any obvious data entry errors (e.g., typos)?        </td><td>49            </td></tr>\n",
       "<tr><td>Does &lt;data&gt; have any obvious data entry errors (e.g., typos)?        </td><td>49            </td></tr>\n",
       "<tr><td>Does &lt;data&gt; have any obvious data entry errors (e.g., typos)?        </td><td>49            </td></tr>\n",
       "<tr><td>Does &lt;data&gt; have any obvious data entry errors (e.g., typos)?        </td><td>73            </td></tr>\n",
       "<tr><td>Does &lt;data&gt; have any obvious data entry errors (e.g., typos)?        </td><td>73            </td></tr>\n",
       "<tr><td>Does &lt;data&gt; have any obvious data entry errors (e.g., typos)?        </td><td>73            </td></tr>\n",
       "<tr><td>Does &lt;data&gt; have any obvious data entry errors (e.g., typos)?        </td><td>35            </td></tr>\n",
       "<tr><td>Does &lt;data&gt; have any obvious data entry errors (e.g., typos)?        </td><td>35            </td></tr>\n",
       "<tr><td>Does &lt;data&gt; have any obvious data entry errors (e.g., typos)?        </td><td>35            </td></tr>\n",
       "<tr><td>Does &lt;data&gt; have any obvious data entry errors (e.g., typos)?        </td><td>35            </td></tr>\n",
       "<tr><td>Does &lt;data&gt; have any obvious data entry errors (e.g., typos)?        </td><td>35            </td></tr>\n",
       "<tr><td>Does &lt;data&gt; have any obvious data entry errors (e.g., typos)?        </td><td>29            </td></tr>\n",
       "<tr><td>Does &lt;data&gt; have any obvious data entry errors (e.g., typos)?        </td><td>29            </td></tr>\n",
       "<tr><td>Does &lt;data&gt; have any obvious data entry errors (e.g., typos)?        </td><td>29            </td></tr>\n",
       "<tr><td>Does &lt;data&gt; have any obvious data entry errors (e.g., typos)?        </td><td>41            </td></tr>\n",
       "<tr><td>Does &lt;data&gt; have any obvious data entry errors (e.g., typos)?        </td><td>34            </td></tr>\n",
       "<tr><td>Does &lt;data&gt; have any obvious data entry errors (e.g., typos)?        </td><td>2             </td></tr>\n",
       "<tr><td>Does &lt;data&gt; have any obvious data entry errors (e.g., typos)?        </td><td>81            </td></tr>\n",
       "<tr><td>Does &lt;data&gt; have any obvious data entry errors (e.g., typos)?        </td><td>81            </td></tr>\n",
       "<tr><td>Does &lt;data&gt; have any obvious data entry errors (e.g., typos)?        </td><td>100           </td></tr>\n",
       "<tr><td>Does &lt;data&gt; have any obvious data entry errors (e.g., typos)?        </td><td>3             </td></tr>\n",
       "<tr><td>Is &lt;data&gt; a non-negative integer?                                    </td><td>0.99          </td></tr>\n",
       "<tr><td>Is &lt;data&gt; a non-negative integer?                                    </td><td>-5            </td></tr>\n",
       "<tr><td>Is &lt;data&gt; a non-negative integer?                                    </td><td>old           </td></tr>\n",
       "<tr><td>Is &lt;data&gt; a non-negative integer?                                    </td><td>old           </td></tr>\n",
       "<tr><td>Is &lt;data&gt; a non-negative integer?                                    </td><td>1.3           </td></tr>\n",
       "<tr><td>Is &lt;data&gt; a non-negative integer?                                    </td><td>1.3           </td></tr>\n",
       "<tr><td>Is &lt;data&gt; a reasonable human age (e.g., less than 130)?              </td><td>-5            </td></tr>\n",
       "<tr><td>Is &lt;data&gt; a reasonable human age (e.g., less than 130)?              </td><td>1050          </td></tr>\n",
       "<tr><td>Is &lt;data&gt; a reasonable human age (e.g., less than 130)?              </td><td>old           </td></tr>\n",
       "<tr><td>Is &lt;data&gt; consistent with the expected range of ages for the dataset?</td><td>-5            </td></tr>\n",
       "<tr><td>Is &lt;data&gt; consistent with the expected range of ages for the dataset?</td><td>1050          </td></tr>\n",
       "<tr><td>Is &lt;data&gt; consistent with the expected range of ages for the dataset?</td><td>old           </td></tr>\n",
       "<tr><td>Is &lt;data&gt; consistent with the expected range of ages for the dataset?</td><td>1.3           </td></tr>\n",
       "</tbody>\n",
       "</table>\n",
       "            </div>\n",
       "        </div>\n",
       "        "
      ],
      "text/plain": [
       "Dataset([{'scenario.sense_check_question': ['Does <data> have any obvious data entry errors (e.g., typos)?', 'Does <data> have any obvious data entry errors (e.g., typos)?', 'Does <data> have any obvious data entry errors (e.g., typos)?', 'Does <data> have any obvious data entry errors (e.g., typos)?', 'Does <data> have any obvious data entry errors (e.g., typos)?', 'Does <data> have any obvious data entry errors (e.g., typos)?', 'Does <data> have any obvious data entry errors (e.g., typos)?', 'Does <data> have any obvious data entry errors (e.g., typos)?', 'Does <data> have any obvious data entry errors (e.g., typos)?', 'Does <data> have any obvious data entry errors (e.g., typos)?', 'Does <data> have any obvious data entry errors (e.g., typos)?', 'Does <data> have any obvious data entry errors (e.g., typos)?', 'Does <data> have any obvious data entry errors (e.g., typos)?', 'Does <data> have any obvious data entry errors (e.g., typos)?', 'Does <data> have any obvious data entry errors (e.g., typos)?', 'Does <data> have any obvious data entry errors (e.g., typos)?', 'Does <data> have any obvious data entry errors (e.g., typos)?', 'Does <data> have any obvious data entry errors (e.g., typos)?', 'Does <data> have any obvious data entry errors (e.g., typos)?', 'Does <data> have any obvious data entry errors (e.g., typos)?', 'Does <data> have any obvious data entry errors (e.g., typos)?', 'Does <data> have any obvious data entry errors (e.g., typos)?', 'Does <data> have any obvious data entry errors (e.g., typos)?', 'Does <data> have any obvious data entry errors (e.g., typos)?', 'Does <data> have any obvious data entry errors (e.g., typos)?', 'Does <data> have any obvious data entry errors (e.g., typos)?', 'Does <data> have any obvious data entry errors (e.g., typos)?', 'Does <data> have any obvious data entry errors (e.g., typos)?', 'Does <data> have any obvious data entry errors (e.g., typos)?', 'Does <data> have any obvious data entry errors (e.g., typos)?', 'Does <data> have any obvious data entry errors (e.g., typos)?', 'Does <data> have any obvious data entry errors (e.g., typos)?', 'Does <data> have any obvious data entry errors (e.g., typos)?', 'Does <data> have any obvious data entry errors (e.g., typos)?', 'Does <data> have any obvious data entry errors (e.g., typos)?', 'Does <data> have any obvious data entry errors (e.g., typos)?', 'Does <data> have any obvious data entry errors (e.g., typos)?', 'Does <data> have any obvious data entry errors (e.g., typos)?', 'Does <data> have any obvious data entry errors (e.g., typos)?', 'Does <data> have any obvious data entry errors (e.g., typos)?', 'Does <data> have any obvious data entry errors (e.g., typos)?', 'Does <data> have any obvious data entry errors (e.g., typos)?', 'Does <data> have any obvious data entry errors (e.g., typos)?', 'Does <data> have any obvious data entry errors (e.g., typos)?', 'Does <data> have any obvious data entry errors (e.g., typos)?', 'Does <data> have any obvious data entry errors (e.g., typos)?', 'Does <data> have any obvious data entry errors (e.g., typos)?', 'Does <data> have any obvious data entry errors (e.g., typos)?', 'Does <data> have any obvious data entry errors (e.g., typos)?', 'Does <data> have any obvious data entry errors (e.g., typos)?', 'Does <data> have any obvious data entry errors (e.g., typos)?', 'Does <data> have any obvious data entry errors (e.g., typos)?', 'Does <data> have any obvious data entry errors (e.g., typos)?', 'Does <data> have any obvious data entry errors (e.g., typos)?', 'Does <data> have any obvious data entry errors (e.g., typos)?', 'Does <data> have any obvious data entry errors (e.g., typos)?', 'Does <data> have any obvious data entry errors (e.g., typos)?', 'Does <data> have any obvious data entry errors (e.g., typos)?', 'Does <data> have any obvious data entry errors (e.g., typos)?', 'Does <data> have any obvious data entry errors (e.g., typos)?', 'Does <data> have any obvious data entry errors (e.g., typos)?', 'Does <data> have any obvious data entry errors (e.g., typos)?', 'Does <data> have any obvious data entry errors (e.g., typos)?', 'Does <data> have any obvious data entry errors (e.g., typos)?', 'Does <data> have any obvious data entry errors (e.g., typos)?', 'Does <data> have any obvious data entry errors (e.g., typos)?', 'Does <data> have any obvious data entry errors (e.g., typos)?', 'Does <data> have any obvious data entry errors (e.g., typos)?', 'Does <data> have any obvious data entry errors (e.g., typos)?', 'Does <data> have any obvious data entry errors (e.g., typos)?', 'Does <data> have any obvious data entry errors (e.g., typos)?', 'Does <data> have any obvious data entry errors (e.g., typos)?', 'Does <data> have any obvious data entry errors (e.g., typos)?', 'Does <data> have any obvious data entry errors (e.g., typos)?', 'Does <data> have any obvious data entry errors (e.g., typos)?', 'Does <data> have any obvious data entry errors (e.g., typos)?', 'Does <data> have any obvious data entry errors (e.g., typos)?', 'Does <data> have any obvious data entry errors (e.g., typos)?', 'Does <data> have any obvious data entry errors (e.g., typos)?', 'Does <data> have any obvious data entry errors (e.g., typos)?', 'Does <data> have any obvious data entry errors (e.g., typos)?', 'Does <data> have any obvious data entry errors (e.g., typos)?', 'Does <data> have any obvious data entry errors (e.g., typos)?', 'Does <data> have any obvious data entry errors (e.g., typos)?', 'Does <data> have any obvious data entry errors (e.g., typos)?', 'Does <data> have any obvious data entry errors (e.g., typos)?', 'Does <data> have any obvious data entry errors (e.g., typos)?', 'Does <data> have any obvious data entry errors (e.g., typos)?', 'Does <data> have any obvious data entry errors (e.g., typos)?', 'Does <data> have any obvious data entry errors (e.g., typos)?', 'Does <data> have any obvious data entry errors (e.g., typos)?', 'Does <data> have any obvious data entry errors (e.g., typos)?', 'Does <data> have any obvious data entry errors (e.g., typos)?', 'Does <data> have any obvious data entry errors (e.g., typos)?', 'Does <data> have any obvious data entry errors (e.g., typos)?', 'Does <data> have any obvious data entry errors (e.g., typos)?', 'Does <data> have any obvious data entry errors (e.g., typos)?', 'Does <data> have any obvious data entry errors (e.g., typos)?', 'Does <data> have any obvious data entry errors (e.g., typos)?', 'Does <data> have any obvious data entry errors (e.g., typos)?', 'Does <data> have any obvious data entry errors (e.g., typos)?', 'Does <data> have any obvious data entry errors (e.g., typos)?', 'Does <data> have any obvious data entry errors (e.g., typos)?', 'Does <data> have any obvious data entry errors (e.g., typos)?', 'Does <data> have any obvious data entry errors (e.g., typos)?', 'Does <data> have any obvious data entry errors (e.g., typos)?', 'Does <data> have any obvious data entry errors (e.g., typos)?', 'Does <data> have any obvious data entry errors (e.g., typos)?', 'Does <data> have any obvious data entry errors (e.g., typos)?', 'Does <data> have any obvious data entry errors (e.g., typos)?', 'Does <data> have any obvious data entry errors (e.g., typos)?', 'Does <data> have any obvious data entry errors (e.g., typos)?', 'Does <data> have any obvious data entry errors (e.g., typos)?', 'Does <data> have any obvious data entry errors (e.g., typos)?', 'Does <data> have any obvious data entry errors (e.g., typos)?', 'Does <data> have any obvious data entry errors (e.g., typos)?', 'Does <data> have any obvious data entry errors (e.g., typos)?', 'Does <data> have any obvious data entry errors (e.g., typos)?', 'Does <data> have any obvious data entry errors (e.g., typos)?', 'Does <data> have any obvious data entry errors (e.g., typos)?', 'Does <data> have any obvious data entry errors (e.g., typos)?', 'Does <data> have any obvious data entry errors (e.g., typos)?', 'Does <data> have any obvious data entry errors (e.g., typos)?', 'Does <data> have any obvious data entry errors (e.g., typos)?', 'Does <data> have any obvious data entry errors (e.g., typos)?', 'Does <data> have any obvious data entry errors (e.g., typos)?', 'Does <data> have any obvious data entry errors (e.g., typos)?', 'Does <data> have any obvious data entry errors (e.g., typos)?', 'Does <data> have any obvious data entry errors (e.g., typos)?', 'Does <data> have any obvious data entry errors (e.g., typos)?', 'Does <data> have any obvious data entry errors (e.g., typos)?', 'Does <data> have any obvious data entry errors (e.g., typos)?', 'Does <data> have any obvious data entry errors (e.g., typos)?', 'Does <data> have any obvious data entry errors (e.g., typos)?', 'Does <data> have any obvious data entry errors (e.g., typos)?', 'Does <data> have any obvious data entry errors (e.g., typos)?', 'Does <data> have any obvious data entry errors (e.g., typos)?', 'Does <data> have any obvious data entry errors (e.g., typos)?', 'Does <data> have any obvious data entry errors (e.g., typos)?', 'Does <data> have any obvious data entry errors (e.g., typos)?', 'Does <data> have any obvious data entry errors (e.g., typos)?', 'Does <data> have any obvious data entry errors (e.g., typos)?', 'Does <data> have any obvious data entry errors (e.g., typos)?', 'Does <data> have any obvious data entry errors (e.g., typos)?', 'Does <data> have any obvious data entry errors (e.g., typos)?', 'Does <data> have any obvious data entry errors (e.g., typos)?', 'Does <data> have any obvious data entry errors (e.g., typos)?', 'Does <data> have any obvious data entry errors (e.g., typos)?', 'Does <data> have any obvious data entry errors (e.g., typos)?', 'Does <data> have any obvious data entry errors (e.g., typos)?', 'Does <data> have any obvious data entry errors (e.g., typos)?', 'Does <data> have any obvious data entry errors (e.g., typos)?', 'Does <data> have any obvious data entry errors (e.g., typos)?', 'Does <data> have any obvious data entry errors (e.g., typos)?', 'Does <data> have any obvious data entry errors (e.g., typos)?', 'Does <data> have any obvious data entry errors (e.g., typos)?', 'Does <data> have any obvious data entry errors (e.g., typos)?', 'Does <data> have any obvious data entry errors (e.g., typos)?', 'Does <data> have any obvious data entry errors (e.g., typos)?', 'Does <data> have any obvious data entry errors (e.g., typos)?', 'Does <data> have any obvious data entry errors (e.g., typos)?', 'Does <data> have any obvious data entry errors (e.g., typos)?', 'Does <data> have any obvious data entry errors (e.g., typos)?', 'Does <data> have any obvious data entry errors (e.g., typos)?', 'Does <data> have any obvious data entry errors (e.g., typos)?', 'Does <data> have any obvious data entry errors (e.g., typos)?', 'Does <data> have any obvious data entry errors (e.g., typos)?', 'Does <data> have any obvious data entry errors (e.g., typos)?', 'Does <data> have any obvious data entry errors (e.g., typos)?', 'Does <data> have any obvious data entry errors (e.g., typos)?', 'Does <data> have any obvious data entry errors (e.g., typos)?', 'Does <data> have any obvious data entry errors (e.g., typos)?', 'Does <data> have any obvious data entry errors (e.g., typos)?', 'Does <data> have any obvious data entry errors (e.g., typos)?', 'Does <data> have any obvious data entry errors (e.g., typos)?', 'Does <data> have any obvious data entry errors (e.g., typos)?', 'Does <data> have any obvious data entry errors (e.g., typos)?', 'Does <data> have any obvious data entry errors (e.g., typos)?', 'Does <data> have any obvious data entry errors (e.g., typos)?', 'Does <data> have any obvious data entry errors (e.g., typos)?', 'Does <data> have any obvious data entry errors (e.g., typos)?', 'Does <data> have any obvious data entry errors (e.g., typos)?', 'Does <data> have any obvious data entry errors (e.g., typos)?', 'Does <data> have any obvious data entry errors (e.g., typos)?', 'Does <data> have any obvious data entry errors (e.g., typos)?', 'Does <data> have any obvious data entry errors (e.g., typos)?', 'Does <data> have any obvious data entry errors (e.g., typos)?', 'Does <data> have any obvious data entry errors (e.g., typos)?', 'Does <data> have any obvious data entry errors (e.g., typos)?', 'Does <data> have any obvious data entry errors (e.g., typos)?', 'Does <data> have any obvious data entry errors (e.g., typos)?', 'Does <data> have any obvious data entry errors (e.g., typos)?', 'Does <data> have any obvious data entry errors (e.g., typos)?', 'Does <data> have any obvious data entry errors (e.g., typos)?', 'Does <data> have any obvious data entry errors (e.g., typos)?', 'Does <data> have any obvious data entry errors (e.g., typos)?', 'Does <data> have any obvious data entry errors (e.g., typos)?', 'Does <data> have any obvious data entry errors (e.g., typos)?', 'Does <data> have any obvious data entry errors (e.g., typos)?', 'Does <data> have any obvious data entry errors (e.g., typos)?', 'Does <data> have any obvious data entry errors (e.g., typos)?', 'Does <data> have any obvious data entry errors (e.g., typos)?', 'Does <data> have any obvious data entry errors (e.g., typos)?', 'Does <data> have any obvious data entry errors (e.g., typos)?', 'Does <data> have any obvious data entry errors (e.g., typos)?', 'Does <data> have any obvious data entry errors (e.g., typos)?', 'Does <data> have any obvious data entry errors (e.g., typos)?', 'Does <data> have any obvious data entry errors (e.g., typos)?', 'Does <data> have any obvious data entry errors (e.g., typos)?', 'Does <data> have any obvious data entry errors (e.g., typos)?', 'Does <data> have any obvious data entry errors (e.g., typos)?', 'Does <data> have any obvious data entry errors (e.g., typos)?', 'Does <data> have any obvious data entry errors (e.g., typos)?', 'Does <data> have any obvious data entry errors (e.g., typos)?', 'Does <data> have any obvious data entry errors (e.g., typos)?', 'Does <data> have any obvious data entry errors (e.g., typos)?', 'Does <data> have any obvious data entry errors (e.g., typos)?', 'Does <data> have any obvious data entry errors (e.g., typos)?', 'Does <data> have any obvious data entry errors (e.g., typos)?', 'Does <data> have any obvious data entry errors (e.g., typos)?', 'Does <data> have any obvious data entry errors (e.g., typos)?', 'Does <data> have any obvious data entry errors (e.g., typos)?', 'Does <data> have any obvious data entry errors (e.g., typos)?', 'Does <data> have any obvious data entry errors (e.g., typos)?', 'Does <data> have any obvious data entry errors (e.g., typos)?', 'Does <data> have any obvious data entry errors (e.g., typos)?', 'Does <data> have any obvious data entry errors (e.g., typos)?', 'Does <data> have any obvious data entry errors (e.g., typos)?', 'Does <data> have any obvious data entry errors (e.g., typos)?', 'Does <data> have any obvious data entry errors (e.g., typos)?', 'Does <data> have any obvious data entry errors (e.g., typos)?', 'Does <data> have any obvious data entry errors (e.g., typos)?', 'Does <data> have any obvious data entry errors (e.g., typos)?', 'Does <data> have any obvious data entry errors (e.g., typos)?', 'Does <data> have any obvious data entry errors (e.g., typos)?', 'Does <data> have any obvious data entry errors (e.g., typos)?', 'Does <data> have any obvious data entry errors (e.g., typos)?', 'Does <data> have any obvious data entry errors (e.g., typos)?', 'Does <data> have any obvious data entry errors (e.g., typos)?', 'Does <data> have any obvious data entry errors (e.g., typos)?', 'Does <data> have any obvious data entry errors (e.g., typos)?', 'Does <data> have any obvious data entry errors (e.g., typos)?', 'Does <data> have any obvious data entry errors (e.g., typos)?', 'Does <data> have any obvious data entry errors (e.g., typos)?', 'Does <data> have any obvious data entry errors (e.g., typos)?', 'Does <data> have any obvious data entry errors (e.g., typos)?', 'Does <data> have any obvious data entry errors (e.g., typos)?', 'Does <data> have any obvious data entry errors (e.g., typos)?', 'Does <data> have any obvious data entry errors (e.g., typos)?', 'Does <data> have any obvious data entry errors (e.g., typos)?', 'Does <data> have any obvious data entry errors (e.g., typos)?', 'Does <data> have any obvious data entry errors (e.g., typos)?', 'Does <data> have any obvious data entry errors (e.g., typos)?', 'Does <data> have any obvious data entry errors (e.g., typos)?', 'Does <data> have any obvious data entry errors (e.g., typos)?', 'Does <data> have any obvious data entry errors (e.g., typos)?', 'Does <data> have any obvious data entry errors (e.g., typos)?', 'Does <data> have any obvious data entry errors (e.g., typos)?', 'Does <data> have any obvious data entry errors (e.g., typos)?', 'Does <data> have any obvious data entry errors (e.g., typos)?', 'Does <data> have any obvious data entry errors (e.g., typos)?', 'Does <data> have any obvious data entry errors (e.g., typos)?', 'Does <data> have any obvious data entry errors (e.g., typos)?', 'Does <data> have any obvious data entry errors (e.g., typos)?', 'Does <data> have any obvious data entry errors (e.g., typos)?', 'Does <data> have any obvious data entry errors (e.g., typos)?', 'Does <data> have any obvious data entry errors (e.g., typos)?', 'Does <data> have any obvious data entry errors (e.g., typos)?', 'Does <data> have any obvious data entry errors (e.g., typos)?', 'Does <data> have any obvious data entry errors (e.g., typos)?', 'Does <data> have any obvious data entry errors (e.g., typos)?', 'Does <data> have any obvious data entry errors (e.g., typos)?', 'Does <data> have any obvious data entry errors (e.g., typos)?', 'Does <data> have any obvious data entry errors (e.g., typos)?', 'Does <data> have any obvious data entry errors (e.g., typos)?', 'Does <data> have any obvious data entry errors (e.g., typos)?', 'Does <data> have any obvious data entry errors (e.g., typos)?', 'Does <data> have any obvious data entry errors (e.g., typos)?', 'Does <data> have any obvious data entry errors (e.g., typos)?', 'Does <data> have any obvious data entry errors (e.g., typos)?', 'Does <data> have any obvious data entry errors (e.g., typos)?', 'Does <data> have any obvious data entry errors (e.g., typos)?', 'Does <data> have any obvious data entry errors (e.g., typos)?', 'Does <data> have any obvious data entry errors (e.g., typos)?', 'Does <data> have any obvious data entry errors (e.g., typos)?', 'Does <data> have any obvious data entry errors (e.g., typos)?', 'Does <data> have any obvious data entry errors (e.g., typos)?', 'Does <data> have any obvious data entry errors (e.g., typos)?', 'Does <data> have any obvious data entry errors (e.g., typos)?', 'Does <data> have any obvious data entry errors (e.g., typos)?', 'Does <data> have any obvious data entry errors (e.g., typos)?', 'Does <data> have any obvious data entry errors (e.g., typos)?', 'Does <data> have any obvious data entry errors (e.g., typos)?', 'Does <data> have any obvious data entry errors (e.g., typos)?', 'Does <data> have any obvious data entry errors (e.g., typos)?', 'Does <data> have any obvious data entry errors (e.g., typos)?', 'Does <data> have any obvious data entry errors (e.g., typos)?', 'Does <data> have any obvious data entry errors (e.g., typos)?', 'Does <data> have any obvious data entry errors (e.g., typos)?', 'Does <data> have any obvious data entry errors (e.g., typos)?', 'Does <data> have any obvious data entry errors (e.g., typos)?', 'Does <data> have any obvious data entry errors (e.g., typos)?', 'Does <data> have any obvious data entry errors (e.g., typos)?', 'Does <data> have any obvious data entry errors (e.g., typos)?', 'Does <data> have any obvious data entry errors (e.g., typos)?', 'Does <data> have any obvious data entry errors (e.g., typos)?', 'Does <data> have any obvious data entry errors (e.g., typos)?', 'Does <data> have any obvious data entry errors (e.g., typos)?', 'Does <data> have any obvious data entry errors (e.g., typos)?', 'Does <data> have any obvious data entry errors (e.g., typos)?', 'Does <data> have any obvious data entry errors (e.g., typos)?', 'Does <data> have any obvious data entry errors (e.g., typos)?', 'Does <data> have any obvious data entry errors (e.g., typos)?', 'Does <data> have any obvious data entry errors (e.g., typos)?', 'Does <data> have any obvious data entry errors (e.g., typos)?', 'Does <data> have any obvious data entry errors (e.g., typos)?', 'Does <data> have any obvious data entry errors (e.g., typos)?', 'Does <data> have any obvious data entry errors (e.g., typos)?', 'Does <data> have any obvious data entry errors (e.g., typos)?', 'Does <data> have any obvious data entry errors (e.g., typos)?', 'Does <data> have any obvious data entry errors (e.g., typos)?', 'Does <data> have any obvious data entry errors (e.g., typos)?', 'Does <data> have any obvious data entry errors (e.g., typos)?', 'Does <data> have any obvious data entry errors (e.g., typos)?', 'Does <data> have any obvious data entry errors (e.g., typos)?', 'Does <data> have any obvious data entry errors (e.g., typos)?', 'Does <data> have any obvious data entry errors (e.g., typos)?', 'Does <data> have any obvious data entry errors (e.g., typos)?', 'Does <data> have any obvious data entry errors (e.g., typos)?', 'Does <data> have any obvious data entry errors (e.g., typos)?', 'Does <data> have any obvious data entry errors (e.g., typos)?', 'Does <data> have any obvious data entry errors (e.g., typos)?', 'Does <data> have any obvious data entry errors (e.g., typos)?', 'Does <data> have any obvious data entry errors (e.g., typos)?', 'Does <data> have any obvious data entry errors (e.g., typos)?', 'Does <data> have any obvious data entry errors (e.g., typos)?', 'Does <data> have any obvious data entry errors (e.g., typos)?', 'Does <data> have any obvious data entry errors (e.g., typos)?', 'Does <data> have any obvious data entry errors (e.g., typos)?', 'Does <data> have any obvious data entry errors (e.g., typos)?', 'Does <data> have any obvious data entry errors (e.g., typos)?', 'Does <data> have any obvious data entry errors (e.g., typos)?', 'Does <data> have any obvious data entry errors (e.g., typos)?', 'Does <data> have any obvious data entry errors (e.g., typos)?', 'Does <data> have any obvious data entry errors (e.g., typos)?', 'Does <data> have any obvious data entry errors (e.g., typos)?', 'Does <data> have any obvious data entry errors (e.g., typos)?', 'Does <data> have any obvious data entry errors (e.g., typos)?', 'Does <data> have any obvious data entry errors (e.g., typos)?', 'Does <data> have any obvious data entry errors (e.g., typos)?', 'Does <data> have any obvious data entry errors (e.g., typos)?', 'Does <data> have any obvious data entry errors (e.g., typos)?', 'Does <data> have any obvious data entry errors (e.g., typos)?', 'Does <data> have any obvious data entry errors (e.g., typos)?', 'Does <data> have any obvious data entry errors (e.g., typos)?', 'Does <data> have any obvious data entry errors (e.g., typos)?', 'Does <data> have any obvious data entry errors (e.g., typos)?', 'Does <data> have any obvious data entry errors (e.g., typos)?', 'Does <data> have any obvious data entry errors (e.g., typos)?', 'Does <data> have any obvious data entry errors (e.g., typos)?', 'Does <data> have any obvious data entry errors (e.g., typos)?', 'Does <data> have any obvious data entry errors (e.g., typos)?', 'Does <data> have any obvious data entry errors (e.g., typos)?', 'Does <data> have any obvious data entry errors (e.g., typos)?', 'Does <data> have any obvious data entry errors (e.g., typos)?', 'Does <data> have any obvious data entry errors (e.g., typos)?', 'Does <data> have any obvious data entry errors (e.g., typos)?', 'Does <data> have any obvious data entry errors (e.g., typos)?', 'Does <data> have any obvious data entry errors (e.g., typos)?', 'Does <data> have any obvious data entry errors (e.g., typos)?', 'Does <data> have any obvious data entry errors (e.g., typos)?', 'Does <data> have any obvious data entry errors (e.g., typos)?', 'Does <data> have any obvious data entry errors (e.g., typos)?', 'Is <data> a non-negative integer?', 'Is <data> a non-negative integer?', 'Is <data> a non-negative integer?', 'Is <data> a non-negative integer?', 'Is <data> a non-negative integer?', 'Is <data> a non-negative integer?', 'Is <data> a reasonable human age (e.g., less than 130)?', 'Is <data> a reasonable human age (e.g., less than 130)?', 'Is <data> a reasonable human age (e.g., less than 130)?', 'Is <data> consistent with the expected range of ages for the dataset?', 'Is <data> consistent with the expected range of ages for the dataset?', 'Is <data> consistent with the expected range of ages for the dataset?', 'Is <data> consistent with the expected range of ages for the dataset?']}, {'scenario.age': [84, 84, 84, 84, 84, 84, 84, 84, 84, 84, 84, 84, 84, 84, 84, 84, 62, 62, 62, 62, 62, 62, 62, 62, 62, 62, 62, 79, 79, 79, 79, 79, 57, 57, 57, 57, 57, 57, 59, 59, 59, 55, 55, 55, 55, 68, 68, 68, 68, 68, 68, 66, 66, 66, 66, 47, 47, 47, 47, 47, 47, 54, 54, 54, 54, 54, 54, 54, 76, 76, 76, 76, 76, 76, 76, 76, 76, 76, 33, 33, 33, 33, 33, 74, 74, 74, 74, 74, 74, 56, 56, 56, 56, 56, 56, 24, 24, 24, 24, 24, 24, 24, 24, 23, 23, 23, 23, 23, 23, 23, 23, 23, 38, 38, 38, 38, 38, 51, 51, 51, 71, 71, 71, 71, 71, 71, 71, 46, 46, 46, 46, 46, 26, 26, 26, 26, 26, 50, 50, 50, 50, 50, 50, 50, 50, 50, 50, 39, 39, 39, 39, 39, 39, 39, 31, 31, 31, 31, 31, 52, 52, 52, 52, 69, 69, 69, 69, 69, 69, 69, 69, 69, 69, 69, 48, 48, 48, 48, 48, 48, 48, 65, 65, 78, 78, 78, 78, 78, 78, 77, 77, 77, 77, 75, 75, 75, 75, 44, 44, 44, 44, 44, 61, 61, 61, 32, 32, 32, 32, 32, 32, 32, 70, 70, 70, 70, 70, 22, 22, 22, 22, 22, 22, 80, 80, 80, 80, 36, 36, 36, 36, 36, 36, 42, 40, 40, 40, 85, 85, 85, 85, 85, 85, 85, 85, 85, 85, 28, 28, 28, 28, 67, 67, 67, 25, 25, 25, 25, 25, 25, 25, 25, 25, 53, 53, 53, 53, 53, 64, 64, 64, 27, 27, 27, 27, 27, 0.99, 83, 83, 83, 83, 83, 58, 58, 58, 58, 58, 58, 58, 58, 58, 43, 43, 43, 43, 43, 43, 43, 43, 43, 43, 43, 43, 43, 82, 82, 82, 82, 82, 45, 45, 45, 45, 30, 30, 30, 30, 30, 72, 72, 72, 37, 37, 37, 37, 37, 37, 37, 37, 63, 63, 63, 63, 63, 63, 63, 63, 63, 63, 63, 63, 63, 60, 60, 60, 60, 60, 60, 60, 49, 49, 49, 49, 49, 49, 73, 73, 73, 35, 35, 35, 35, 35, 29, 29, 29, 41, 34, 2, 81, 81, 100, 3, 0.99, -5, 'old', 'old', 1.3, 1.3, -5, 1050, 'old', -5, 1050, 'old', 1.3]}])"
      ]
     },
     "execution_count": 12,
     "metadata": {},
     "output_type": "execute_result"
    }
   ],
   "source": [
    "(\n",
    "    results\n",
    "    .filter(\"check_data == 'No'\")\n",
    "    .sort_by(\"sense_check_question\")\n",
    "    .select(\"sense_check_question\", \"age\")\n",
    ")"
   ]
  },
  {
   "cell_type": "markdown",
   "id": "b2e1a939-d524-4960-bb38-c915864a80c8",
   "metadata": {
    "editable": true,
    "slideshow": {
     "slide_type": ""
    },
    "tags": []
   },
   "source": [
    "## Further exploration\n",
    "This notebook can be readily edited and expanded for other data cleaning and data labeling purposes, or to add personas for AI agents answering the questions with relevant background and expertise. [Learn more about using AI agents for your EDSL surveys](https://docs.expectedparrot.com/en/latest/agents.html). \n",
    "\n",
    "Please see our [documentation page](https://docs.expectedparrot.com/) for examples of other methods and use cases and let us know if you have any questions!"
   ]
  },
  {
   "cell_type": "markdown",
   "id": "77ab4ea4-0faf-4fc4-a047-03a5b56a646c",
   "metadata": {
    "editable": true,
    "slideshow": {
     "slide_type": ""
    },
    "tags": []
   },
   "source": [
    "## Posting to the Coop\n",
    "The [Coop](https://www.expectedparrot.com/content/explore) is a platform for creating, storing and sharing LLM-based research.\n",
    "It is fully integrated with EDSL and accessible from your workspace or Coop account page.\n",
    "Learn more about [creating an account](https://www.expectedparrot.com/login) and [using the Coop](https://docs.expectedparrot.com/en/latest/coop.html).\n",
    "\n",
    "Here we post this notebook:"
   ]
  },
  {
   "cell_type": "code",
   "execution_count": 13,
   "id": "82b09c3c-af61-4cb8-a0af-58ebd17f5601",
   "metadata": {
    "editable": true,
    "slideshow": {
     "slide_type": ""
    },
    "tags": [
     "skip-execution"
    ]
   },
   "outputs": [],
   "source": [
    "from edsl import Notebook"
   ]
  },
  {
   "cell_type": "code",
   "execution_count": 14,
   "id": "ce0f0adf-9640-440a-959e-8a3f34bd0017",
   "metadata": {
    "editable": true,
    "slideshow": {
     "slide_type": ""
    },
    "tags": [
     "skip-execution"
    ]
   },
   "outputs": [],
   "source": [
    "n = Notebook(path = \"data_cleaning.ipynb\")"
   ]
  },
  {
   "cell_type": "code",
   "execution_count": 15,
   "id": "4834d22c-add2-411c-8b69-fd8de1b739fb",
   "metadata": {
    "editable": true,
    "slideshow": {
     "slide_type": ""
    },
    "tags": [
     "skip-execution"
    ]
   },
   "outputs": [
    {
     "data": {
      "text/plain": [
       "{'description': 'Example code for data cleaning',\n",
       " 'object_type': 'notebook',\n",
       " 'url': 'https://www.expectedparrot.com/content/b5da44a9-6187-4454-ab3b-0e9d0350e005',\n",
       " 'uuid': 'b5da44a9-6187-4454-ab3b-0e9d0350e005',\n",
       " 'version': '0.1.39.dev1',\n",
       " 'visibility': 'public'}"
      ]
     },
     "execution_count": 15,
     "metadata": {},
     "output_type": "execute_result"
    }
   ],
   "source": [
    "info = n.push(description = \"Example code for data cleaning\", visibility = \"public\")\n",
    "info"
   ]
  },
  {
   "cell_type": "markdown",
   "id": "051e4c3c-1300-4121-8f16-e513e0b6f606",
   "metadata": {},
   "source": [
    "To update an object at the Coop:"
   ]
  },
  {
   "cell_type": "code",
   "execution_count": 16,
   "id": "2d05aaf9-8aeb-4582-b037-dcbb03a106a9",
   "metadata": {
    "editable": true,
    "slideshow": {
     "slide_type": ""
    },
    "tags": [
     "skip-execution"
    ]
   },
   "outputs": [],
   "source": [
    "n = Notebook(path = \"data_cleaning.ipynb\") # resave"
   ]
  },
  {
   "cell_type": "code",
   "execution_count": 17,
   "id": "db2c7bef-924a-4856-9ede-aeeeadeef623",
   "metadata": {
    "editable": true,
    "slideshow": {
     "slide_type": ""
    },
    "tags": [
     "skip-execution"
    ]
   },
   "outputs": [
    {
     "data": {
      "text/plain": [
       "{'status': 'success'}"
      ]
     },
     "execution_count": 17,
     "metadata": {},
     "output_type": "execute_result"
    }
   ],
   "source": [
    "n.patch(uuid = info[\"uuid\"], value = n)"
   ]
  }
 ],
 "metadata": {
  "kernelspec": {
   "display_name": "Python 3 (ipykernel)",
   "language": "python",
   "name": "python3"
  },
  "language_info": {
   "codemirror_mode": {
    "name": "ipython",
    "version": 3
   },
   "file_extension": ".py",
   "mimetype": "text/x-python",
   "name": "python",
   "nbconvert_exporter": "python",
   "pygments_lexer": "ipython3",
   "version": "3.11.7"
  }
 },
 "nbformat": 4,
 "nbformat_minor": 5
}
