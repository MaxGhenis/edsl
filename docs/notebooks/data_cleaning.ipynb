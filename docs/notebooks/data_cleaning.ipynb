{
 "cells": [
  {
   "cell_type": "markdown",
   "id": "96bdbd4d-b0f9-447f-9f65-cbcf9e1dbe5c",
   "metadata": {},
   "source": [
    "# Data cleaning\n",
    "This notebook provides sample [EDSL](https://docs.expectedparrot.com/) code for automating a data cleaning task. In a series of steps we show how to use EDSL to automatically suggest appropriate sense checks for a given dataset, convert those sense checks into survey questions, and then prompt a model to answer them to generate a new dataset of the data failing the checks.\n",
    "\n",
    "EDSL is an open-source library for simulating surveys and experiments with AI agents and large language models. Please see our [documentation page](https://docs.expectedparrot.com/) for tips and tutorials on getting started."
   ]
  },
  {
   "cell_type": "markdown",
   "id": "8dfba5a0-9ec5-4dc5-aff7-1709a7784998",
   "metadata": {},
   "source": [
    "### Example data\n",
    "We'll use some observations of ages as our dataset for cleaning. It's a list of random ages between 22 and 85 with some bad values mixed in:"
   ]
  },
  {
   "cell_type": "code",
   "execution_count": 1,
   "id": "38c26f8d-f026-41be-8b6f-259ac628d6a0",
   "metadata": {},
   "outputs": [],
   "source": [
    "ages = [\n",
    "84, 62, 79, 57, 59, 55, 68, 66, 47, 54, 76, 33, 74, 56, 47, 24, 23, 38, 38, 54, 51, 84, 71, 46, 38,\n",
    "26, 50, 56, 62, 39, 31, 52, 69, 84, 69, 48, 48, 23, 65, 54, 78, 51, 69, 77, 75, 76, 26, 44, 61, 32,\n",
    "70, 24, 74, 22, 32, 24, 80, 65, 36, 42, 84, 66, 40, 85, 28, 22, 67, 25, 70, 77, 53, 69, 64, 27, 61,\n",
    "68, 68, 78, 0.99, 83, 58, 33, 46, 43, 50, 85, 28, 82, 50, 61, 66, 32, 45, 70, 56, 50, 43, 30, 43, 55,\n",
    "33, 72, 43, 43, -5, 32, 43, 45, 67, 84, 37, 63, 52, 53, 58, 79, 79, 80, 62, 75, 57, 60, 39, 79, 49,\n",
    "60, 60, 37, 45, 36, 1050, 73, 70, 56, 39, 58, 69, 77, 68, 84, 78, 48, 31, 74, 27, 55, 56, 66, 35, 39,\n",
    "57, 47, 29, 24, 47, 60, 43, 37, 84, 64, 28, 22, 37, 71, 77, 76, 84, 63, 76, 58, 41, 72, 22, 63, 78,\n",
    "49, 82, 69, 'old', 37, 27, 29, 54, 83, 80, 74, 48, 76, 49, 26, 38, 35, 36, 25, 23, 71, 33, 39, 40, 35,\n",
    "85, 24, 57, 85, 63, 53, 62, 47, 69, 76, 71, 48, 62, 23, 25, 84, 32, 63, 75, 31, 25, 50, 85, 36, 58,\n",
    "85, 34, 62, 43, 2, 50, 83, 44, 73, 81, 44, 43, 82, 84, 30, 24, 63, 63, 59, 46, 30, 62, 25, 52, 23\n",
    "]"
   ]
  },
  {
   "cell_type": "markdown",
   "id": "4e86b9ad-811a-45c2-80d9-58ebce7ac3be",
   "metadata": {},
   "source": [
    "### Constructing questions about the data\n",
    "We start by creating a question prompting a model to draft some sense check questions for our data. EDSL comes with a [variety of question types](https://docs.expectedparrot.com/en/latest/questions.html) that we can choose from based on the desired form of the response (multiple choice, free text, etc.). Here we select `QuestionList` in order to prompt the model to return a list of sense check question text. Note that we specially instruct the model to include a placeholder for a piece of data in each question text so that we can run them for each piece of data all at once:"
   ]
  },
  {
   "cell_type": "code",
   "execution_count": 2,
   "id": "e2865dfd-d52a-41e5-8e69-3572b7fe23c5",
   "metadata": {},
   "outputs": [],
   "source": [
    "import random\n",
    "\n",
    "data_description = \"a list of ages (in years) of adult participants in a social science experiment\"\n",
    "sample_data = random.sample(ages, 5)\n",
    "number_of_questions = 4"
   ]
  },
  {
   "cell_type": "code",
   "execution_count": 3,
   "id": "bf96b831-7831-4531-b49c-60c00c4837ea",
   "metadata": {},
   "outputs": [],
   "source": [
    "from edsl.questions import QuestionList\n",
    "\n",
    "q1 = QuestionList(\n",
    "    question_name = \"data_cleaning_questions\",\n",
    "    question_text = f\"\"\"Consider a dataset consisting of {data_description}.\n",
    "    Here is a sample of the data: {sample_data}.\n",
    "    Draft a set of appropriate sense checks for the data in this dataset, \n",
    "    formatted as a list of questions to be answered about each piece of data \n",
    "    individually and without reference to other data, using '<data>' as a \n",
    "    placeholder for the piece of data in each question text.\"\"\",\n",
    "    max_list_items = number_of_questions\n",
    ")"
   ]
  },
  {
   "cell_type": "markdown",
   "id": "2df10478-a481-4822-b051-a7d253777d34",
   "metadata": {},
   "source": [
    "We generate a response by calling the `run()` method for the question. This generates a dataset of `Results` that we can begin analyzing:"
   ]
  },
  {
   "cell_type": "markdown",
   "id": "047419b4-5cf3-4e82-b0a7-b23fed6fa195",
   "metadata": {},
   "source": [
    "EDSL comes with [built-in methods for analyzing results](https://docs.expectedparrot.com/en/latest/results.html) as datasets, dataframes, JSON and other forms. We can inspect a list of all the components that are directly accessible:"
   ]
  },
  {
   "cell_type": "code",
   "execution_count": 5,
   "id": "fc3c8fc6-2d48-4a80-85b8-0b99ba571ca6",
   "metadata": {},
   "outputs": [
    {
     "data": {
      "text/plain": [
       "['agent.agent_instruction',\n",
       " 'agent.agent_name',\n",
       " 'answer.data_cleaning_questions',\n",
       " 'comment.data_cleaning_questions_comment',\n",
       " 'iteration.iteration',\n",
       " 'model.frequency_penalty',\n",
       " 'model.logprobs',\n",
       " 'model.max_tokens',\n",
       " 'model.model',\n",
       " 'model.presence_penalty',\n",
       " 'model.temperature',\n",
       " 'model.top_logprobs',\n",
       " 'model.top_p',\n",
       " 'prompt.data_cleaning_questions_system_prompt',\n",
       " 'prompt.data_cleaning_questions_user_prompt',\n",
       " 'question_options.data_cleaning_questions_question_options',\n",
       " 'question_text.data_cleaning_questions_question_text',\n",
       " 'question_type.data_cleaning_questions_question_type',\n",
       " 'raw_model_response.data_cleaning_questions_raw_model_response']"
      ]
     },
     "execution_count": 5,
     "metadata": {},
     "output_type": "execute_result"
    }
   ],
   "source": [
    "results.columns"
   ]
  },
  {
   "cell_type": "markdown",
   "id": "00140874-1218-4f31-8454-ae618730b7f9",
   "metadata": {},
   "source": [
    "Here we select just the answer (the draft data cleaning question texts) and print it in a table:"
   ]
  },
  {
   "cell_type": "code",
   "execution_count": 4,
   "id": "878b82bc-cd03-43bb-a28a-34138d5c5241",
   "metadata": {},
   "outputs": [],
   "source": [
    "results = q1.run()"
   ]
  },
  {
   "cell_type": "code",
   "execution_count": 6,
   "id": "4d443009-ad52-4562-a2e4-1c1cbfa15294",
   "metadata": {},
   "outputs": [
    {
     "data": {
      "text/html": [
       "<pre style=\"white-space:pre;overflow-x:auto;line-height:normal;font-family:Menlo,'DejaVu Sans Mono',consolas,'Courier New',monospace\">┏━━━━━━━━━━━━━━━━━━━━━━━━━━━━━━━━━━━━━━━━━━━━━━━━━━━━━━━━━━━━━━━━━━━━━━━━━━━━━━━━━━━━━━━━━━━━━━━━━━━━━━━━━━━━━━━━━┓\n",
       "┃<span style=\"color: #800080; text-decoration-color: #800080; font-weight: bold\"> answer                                                                                                          </span>┃\n",
       "┃<span style=\"color: #800080; text-decoration-color: #800080; font-weight: bold\"> .data_cleaning_questions                                                                                        </span>┃\n",
       "┡━━━━━━━━━━━━━━━━━━━━━━━━━━━━━━━━━━━━━━━━━━━━━━━━━━━━━━━━━━━━━━━━━━━━━━━━━━━━━━━━━━━━━━━━━━━━━━━━━━━━━━━━━━━━━━━━━┩\n",
       "│<span style=\"color: #7f7f7f; text-decoration-color: #7f7f7f\"> ['Is &lt;data&gt; a non-negative integer?', 'Is &lt;data&gt; realistically within the human lifespan?', 'Is &lt;data&gt; greater  </span>│\n",
       "│<span style=\"color: #7f7f7f; text-decoration-color: #7f7f7f\"> than or equal to 18?', 'Is &lt;data&gt; a whole number without decimal places?']                                      </span>│\n",
       "└─────────────────────────────────────────────────────────────────────────────────────────────────────────────────┘\n",
       "</pre>\n"
      ],
      "text/plain": [
       "┏━━━━━━━━━━━━━━━━━━━━━━━━━━━━━━━━━━━━━━━━━━━━━━━━━━━━━━━━━━━━━━━━━━━━━━━━━━━━━━━━━━━━━━━━━━━━━━━━━━━━━━━━━━━━━━━━━┓\n",
       "┃\u001b[1;35m \u001b[0m\u001b[1;35manswer                                                                                                         \u001b[0m\u001b[1;35m \u001b[0m┃\n",
       "┃\u001b[1;35m \u001b[0m\u001b[1;35m.data_cleaning_questions                                                                                       \u001b[0m\u001b[1;35m \u001b[0m┃\n",
       "┡━━━━━━━━━━━━━━━━━━━━━━━━━━━━━━━━━━━━━━━━━━━━━━━━━━━━━━━━━━━━━━━━━━━━━━━━━━━━━━━━━━━━━━━━━━━━━━━━━━━━━━━━━━━━━━━━━┩\n",
       "│\u001b[2m \u001b[0m\u001b[2m['Is <data> a non-negative integer?', 'Is <data> realistically within the human lifespan?', 'Is <data> greater \u001b[0m\u001b[2m \u001b[0m│\n",
       "│\u001b[2m \u001b[0m\u001b[2mthan or equal to 18?', 'Is <data> a whole number without decimal places?']                                     \u001b[0m\u001b[2m \u001b[0m│\n",
       "└─────────────────────────────────────────────────────────────────────────────────────────────────────────────────┘\n"
      ]
     },
     "metadata": {},
     "output_type": "display_data"
    }
   ],
   "source": [
    "results.select(\"data_cleaning_questions\").print(format=\"rich\")"
   ]
  },
  {
   "cell_type": "markdown",
   "id": "69de7d8e-e7b3-4ecc-8cb8-025e2c3819dc",
   "metadata": {},
   "source": [
    "### Parameterizing questions\n",
    "Next we use the data cleaning question texts as inputs to a new question prompting the model to draft a list of appropriate answer options. This is done by creating a `Scenario` for each data cleaning question that we add to our new question when we run it ([learn more about using scenarios](https://docs.expectedparrot.com/en/latest/scenarios.html)):"
   ]
  },
  {
   "cell_type": "code",
   "execution_count": 7,
   "id": "881453f3-7e42-4caa-8ccc-efa17b723411",
   "metadata": {},
   "outputs": [
    {
     "data": {
      "text/plain": [
       "['Is <data> a non-negative integer?',\n",
       " 'Is <data> realistically within the human lifespan?',\n",
       " 'Is <data> greater than or equal to 18?',\n",
       " 'Is <data> a whole number without decimal places?']"
      ]
     },
     "execution_count": 7,
     "metadata": {},
     "output_type": "execute_result"
    }
   ],
   "source": [
    "data_cleaning_questions = results.select(\"data_cleaning_questions\").to_list()[0]\n",
    "data_cleaning_questions"
   ]
  },
  {
   "cell_type": "code",
   "execution_count": 8,
   "id": "3e8ae90b-825a-45f7-ab6b-919dfc120a06",
   "metadata": {},
   "outputs": [],
   "source": [
    "from edsl.questions import QuestionList\n",
    "\n",
    "q2 = QuestionList(\n",
    "    question_name = \"data_cleaning_options\",\n",
    "    question_text = \"Consider a dataset consisting of \" + data_description +\n",
    "    \"\\nHere is a sample of the data: \" + str(sample_data) +\n",
    "    \"\"\"Draft a list of appropriate answer options for the following sense check\n",
    "    question about this data: {{ data_cleaning_question }}.\n",
    "    Include 'Yes', 'No', and any other options that could add helpful context\n",
    "    to flag a piece of data that is potentially problematic.\"\"\"\n",
    ")"
   ]
  },
  {
   "cell_type": "code",
   "execution_count": 9,
   "id": "402fa009-9fbc-40e5-9b67-bb9bdcf96545",
   "metadata": {},
   "outputs": [
    {
     "data": {
      "text/plain": [
       "[Scenario({'data_cleaning_question': 'Is <data> a non-negative integer?'}),\n",
       " Scenario({'data_cleaning_question': 'Is <data> realistically within the human lifespan?'}),\n",
       " Scenario({'data_cleaning_question': 'Is <data> greater than or equal to 18?'}),\n",
       " Scenario({'data_cleaning_question': 'Is <data> a whole number without decimal places?'})]"
      ]
     },
     "execution_count": 9,
     "metadata": {},
     "output_type": "execute_result"
    }
   ],
   "source": [
    "from edsl import Scenario\n",
    "\n",
    "scenarios = [Scenario({\"data_cleaning_question\":q}) for q in data_cleaning_questions]\n",
    "scenarios"
   ]
  },
  {
   "cell_type": "code",
   "execution_count": 10,
   "id": "46ce3f89-e36a-4dce-87d3-085261e68493",
   "metadata": {},
   "outputs": [],
   "source": [
    "results = q2.by(scenarios).run()"
   ]
  },
  {
   "cell_type": "code",
   "execution_count": 11,
   "id": "80051b00-b428-4874-802a-ccfc4d16ddc4",
   "metadata": {},
   "outputs": [
    {
     "data": {
      "text/html": [
       "<pre style=\"white-space:pre;overflow-x:auto;line-height:normal;font-family:Menlo,'DejaVu Sans Mono',consolas,'Courier New',monospace\">┏━━━━━━━━━━━━━━━━━━━━━━━━━━━━━━━━━━━━━━━━━━━━━━━━━━━━┳━━━━━━━━━━━━━━━━━━━━━━━━━━━━━━━━━━━━━━━━━━━━━━━━━━━━━━━━━━━━┓\n",
       "┃<span style=\"color: #800080; text-decoration-color: #800080; font-weight: bold\"> scenario                                           </span>┃<span style=\"color: #800080; text-decoration-color: #800080; font-weight: bold\"> answer                                                     </span>┃\n",
       "┃<span style=\"color: #800080; text-decoration-color: #800080; font-weight: bold\"> .data_cleaning_question                            </span>┃<span style=\"color: #800080; text-decoration-color: #800080; font-weight: bold\"> .data_cleaning_options                                     </span>┃\n",
       "┡━━━━━━━━━━━━━━━━━━━━━━━━━━━━━━━━━━━━━━━━━━━━━━━━━━━━╇━━━━━━━━━━━━━━━━━━━━━━━━━━━━━━━━━━━━━━━━━━━━━━━━━━━━━━━━━━━━┩\n",
       "│<span style=\"color: #7f7f7f; text-decoration-color: #7f7f7f\"> Is &lt;data&gt; a non-negative integer?                  </span>│<span style=\"color: #7f7f7f; text-decoration-color: #7f7f7f\"> ['Yes', 'No', 'Data is not an integer', 'Data is           </span>│\n",
       "│<span style=\"color: #7f7f7f; text-decoration-color: #7f7f7f\">                                                    </span>│<span style=\"color: #7f7f7f; text-decoration-color: #7f7f7f\"> negative', 'Data is not a valid number']                   </span>│\n",
       "├────────────────────────────────────────────────────┼────────────────────────────────────────────────────────────┤\n",
       "│<span style=\"color: #7f7f7f; text-decoration-color: #7f7f7f\"> Is &lt;data&gt; a whole number without decimal places?   </span>│<span style=\"color: #7f7f7f; text-decoration-color: #7f7f7f\"> ['Yes', 'No', 'The data includes a non-integer value',     </span>│\n",
       "│<span style=\"color: #7f7f7f; text-decoration-color: #7f7f7f\">                                                    </span>│<span style=\"color: #7f7f7f; text-decoration-color: #7f7f7f\"> 'The data contains an age below the minimum adult age',    </span>│\n",
       "│<span style=\"color: #7f7f7f; text-decoration-color: #7f7f7f\">                                                    </span>│<span style=\"color: #7f7f7f; text-decoration-color: #7f7f7f\"> 'The data includes an unlikely age for a living person']   </span>│\n",
       "├────────────────────────────────────────────────────┼────────────────────────────────────────────────────────────┤\n",
       "│<span style=\"color: #7f7f7f; text-decoration-color: #7f7f7f\"> Is &lt;data&gt; greater than or equal to 18?             </span>│<span style=\"color: #7f7f7f; text-decoration-color: #7f7f7f\"> ['Yes', 'No', 'Data is invalid', 'Data is missing']        </span>│\n",
       "├────────────────────────────────────────────────────┼────────────────────────────────────────────────────────────┤\n",
       "│<span style=\"color: #7f7f7f; text-decoration-color: #7f7f7f\"> Is &lt;data&gt; realistically within the human lifespan? </span>│<span style=\"color: #7f7f7f; text-decoration-color: #7f7f7f\"> ['Yes', 'No', 'Unlikely', 'Typographical error',           </span>│\n",
       "│<span style=\"color: #7f7f7f; text-decoration-color: #7f7f7f\">                                                    </span>│<span style=\"color: #7f7f7f; text-decoration-color: #7f7f7f\"> 'Outlier', 'Verify']                                       </span>│\n",
       "└────────────────────────────────────────────────────┴────────────────────────────────────────────────────────────┘\n",
       "</pre>\n"
      ],
      "text/plain": [
       "┏━━━━━━━━━━━━━━━━━━━━━━━━━━━━━━━━━━━━━━━━━━━━━━━━━━━━┳━━━━━━━━━━━━━━━━━━━━━━━━━━━━━━━━━━━━━━━━━━━━━━━━━━━━━━━━━━━━┓\n",
       "┃\u001b[1;35m \u001b[0m\u001b[1;35mscenario                                          \u001b[0m\u001b[1;35m \u001b[0m┃\u001b[1;35m \u001b[0m\u001b[1;35manswer                                                    \u001b[0m\u001b[1;35m \u001b[0m┃\n",
       "┃\u001b[1;35m \u001b[0m\u001b[1;35m.data_cleaning_question                           \u001b[0m\u001b[1;35m \u001b[0m┃\u001b[1;35m \u001b[0m\u001b[1;35m.data_cleaning_options                                    \u001b[0m\u001b[1;35m \u001b[0m┃\n",
       "┡━━━━━━━━━━━━━━━━━━━━━━━━━━━━━━━━━━━━━━━━━━━━━━━━━━━━╇━━━━━━━━━━━━━━━━━━━━━━━━━━━━━━━━━━━━━━━━━━━━━━━━━━━━━━━━━━━━┩\n",
       "│\u001b[2m \u001b[0m\u001b[2mIs <data> a non-negative integer?                 \u001b[0m\u001b[2m \u001b[0m│\u001b[2m \u001b[0m\u001b[2m['Yes', 'No', 'Data is not an integer', 'Data is          \u001b[0m\u001b[2m \u001b[0m│\n",
       "│\u001b[2m                                                    \u001b[0m│\u001b[2m \u001b[0m\u001b[2mnegative', 'Data is not a valid number']                  \u001b[0m\u001b[2m \u001b[0m│\n",
       "├────────────────────────────────────────────────────┼────────────────────────────────────────────────────────────┤\n",
       "│\u001b[2m \u001b[0m\u001b[2mIs <data> a whole number without decimal places?  \u001b[0m\u001b[2m \u001b[0m│\u001b[2m \u001b[0m\u001b[2m['Yes', 'No', 'The data includes a non-integer value',    \u001b[0m\u001b[2m \u001b[0m│\n",
       "│\u001b[2m                                                    \u001b[0m│\u001b[2m \u001b[0m\u001b[2m'The data contains an age below the minimum adult age',   \u001b[0m\u001b[2m \u001b[0m│\n",
       "│\u001b[2m                                                    \u001b[0m│\u001b[2m \u001b[0m\u001b[2m'The data includes an unlikely age for a living person']  \u001b[0m\u001b[2m \u001b[0m│\n",
       "├────────────────────────────────────────────────────┼────────────────────────────────────────────────────────────┤\n",
       "│\u001b[2m \u001b[0m\u001b[2mIs <data> greater than or equal to 18?            \u001b[0m\u001b[2m \u001b[0m│\u001b[2m \u001b[0m\u001b[2m['Yes', 'No', 'Data is invalid', 'Data is missing']       \u001b[0m\u001b[2m \u001b[0m│\n",
       "├────────────────────────────────────────────────────┼────────────────────────────────────────────────────────────┤\n",
       "│\u001b[2m \u001b[0m\u001b[2mIs <data> realistically within the human lifespan?\u001b[0m\u001b[2m \u001b[0m│\u001b[2m \u001b[0m\u001b[2m['Yes', 'No', 'Unlikely', 'Typographical error',          \u001b[0m\u001b[2m \u001b[0m│\n",
       "│\u001b[2m                                                    \u001b[0m│\u001b[2m \u001b[0m\u001b[2m'Outlier', 'Verify']                                      \u001b[0m\u001b[2m \u001b[0m│\n",
       "└────────────────────────────────────────────────────┴────────────────────────────────────────────────────────────┘\n"
      ]
     },
     "metadata": {},
     "output_type": "display_data"
    }
   ],
   "source": [
    "results.select(\"data_cleaning_question\", \"data_cleaning_options\").print(format=\"rich\")"
   ]
  },
  {
   "cell_type": "markdown",
   "id": "5852ab5f-7c40-49ae-b892-f570e473b040",
   "metadata": {},
   "source": [
    "## Constructing a data cleaning survey\n",
    "Next we can make any desired edits to the data cleaning questions, and then use them to create a `Survey` about the data that we prompt the model to answer ([learn more about constructing surveys](https://docs.expectedparrot.com/en/latest/surveys.html)). We use `QuestionMultipleChoice` to facilitate the use of the answer options that have been created:"
   ]
  },
  {
   "cell_type": "code",
   "execution_count": 12,
   "id": "b9472829-e445-470e-b83b-66b3452dcb16",
   "metadata": {},
   "outputs": [],
   "source": [
    "import ast\n",
    "\n",
    "df = results.to_pandas(remove_prefix=True)\n",
    "df = df[[\"data_cleaning_question\", \"data_cleaning_options\"]]"
   ]
  },
  {
   "cell_type": "code",
   "execution_count": 13,
   "id": "3af68946-8d30-4ec4-bd56-bc42de54a980",
   "metadata": {},
   "outputs": [
    {
     "data": {
      "text/plain": [
       "[Question('multiple_choice', question_name = 'q0', question_text = 'Is {{ age }} a non-negative integer?', question_options = ['Yes', 'No', 'Data is not an integer', 'Data is negative', 'Data is not a valid number']),\n",
       " Question('multiple_choice', question_name = 'q1', question_text = 'Is {{ age }} a whole number without decimal places?', question_options = ['Yes', 'No', 'The data includes a non-integer value', 'The data contains an age below the minimum adult age', 'The data includes an unlikely age for a living person']),\n",
       " Question('multiple_choice', question_name = 'q2', question_text = 'Is {{ age }} greater than or equal to 18?', question_options = ['Yes', 'No', 'Data is invalid', 'Data is missing']),\n",
       " Question('multiple_choice', question_name = 'q3', question_text = 'Is {{ age }} realistically within the human lifespan?', question_options = ['Yes', 'No', 'Unlikely', 'Typographical error', 'Outlier', 'Verify'])]"
      ]
     },
     "execution_count": 13,
     "metadata": {},
     "output_type": "execute_result"
    }
   ],
   "source": [
    "from edsl import QuestionMultipleChoice\n",
    "\n",
    "formatted_questions = []\n",
    "\n",
    "for index, row in df.iterrows():\n",
    "    q = QuestionMultipleChoice(\n",
    "        question_name = \"q\" + str(index),\n",
    "        question_text = row[\"data_cleaning_question\"].replace(\"<data>\", \"{{ age }}\"),\n",
    "        question_options = ast.literal_eval(row[\"data_cleaning_options\"])\n",
    "    )\n",
    "    formatted_questions.append(q)\n",
    "    \n",
    "formatted_questions"
   ]
  },
  {
   "cell_type": "code",
   "execution_count": 14,
   "id": "38c67b34-d063-4c9f-aa54-9fbf25fae80c",
   "metadata": {},
   "outputs": [],
   "source": [
    "from edsl import Survey\n",
    "\n",
    "survey = Survey(formatted_questions)"
   ]
  },
  {
   "cell_type": "markdown",
   "id": "b459eba6-87cb-4888-9013-21c9308eaddd",
   "metadata": {},
   "source": [
    "We create `Scenario` objects for the individual ages that we will insert in the question texts when we run the survey:"
   ]
  },
  {
   "cell_type": "code",
   "execution_count": 15,
   "id": "bee27036-bf0e-4174-8322-49cf0042e455",
   "metadata": {},
   "outputs": [],
   "source": [
    "scenarios = [Scenario({\"age\":age}) for age in ages]"
   ]
  },
  {
   "cell_type": "code",
   "execution_count": 16,
   "id": "da0593d6-b8a2-41b7-b6c6-35427f3c24f3",
   "metadata": {},
   "outputs": [],
   "source": [
    "results = survey.by(scenarios).run()"
   ]
  },
  {
   "cell_type": "markdown",
   "id": "4f68be47-ab58-461c-872b-fc4d5d44f31b",
   "metadata": {},
   "source": [
    "Here we inspect all the components of these new results, print a table of a set of them (optionally set `max_rows`), and then print a table where the results are filtered to cases for review, based on the responses to the questions (see the `filter` logic):"
   ]
  },
  {
   "cell_type": "code",
   "execution_count": 17,
   "id": "b7c28110-17b4-48db-9199-e0bf8d8e7db0",
   "metadata": {},
   "outputs": [
    {
     "data": {
      "text/plain": [
       "['agent.agent_instruction',\n",
       " 'agent.agent_name',\n",
       " 'answer.q0',\n",
       " 'answer.q1',\n",
       " 'answer.q2',\n",
       " 'answer.q3',\n",
       " 'comment.q0_comment',\n",
       " 'comment.q1_comment',\n",
       " 'comment.q2_comment',\n",
       " 'comment.q3_comment',\n",
       " 'iteration.iteration',\n",
       " 'model.frequency_penalty',\n",
       " 'model.logprobs',\n",
       " 'model.max_tokens',\n",
       " 'model.model',\n",
       " 'model.presence_penalty',\n",
       " 'model.temperature',\n",
       " 'model.top_logprobs',\n",
       " 'model.top_p',\n",
       " 'prompt.q0_system_prompt',\n",
       " 'prompt.q0_user_prompt',\n",
       " 'prompt.q1_system_prompt',\n",
       " 'prompt.q1_user_prompt',\n",
       " 'prompt.q2_system_prompt',\n",
       " 'prompt.q2_user_prompt',\n",
       " 'prompt.q3_system_prompt',\n",
       " 'prompt.q3_user_prompt',\n",
       " 'question_options.q0_question_options',\n",
       " 'question_options.q1_question_options',\n",
       " 'question_options.q2_question_options',\n",
       " 'question_options.q3_question_options',\n",
       " 'question_text.q0_question_text',\n",
       " 'question_text.q1_question_text',\n",
       " 'question_text.q2_question_text',\n",
       " 'question_text.q3_question_text',\n",
       " 'question_type.q0_question_type',\n",
       " 'question_type.q1_question_type',\n",
       " 'question_type.q2_question_type',\n",
       " 'question_type.q3_question_type',\n",
       " 'raw_model_response.q0_raw_model_response',\n",
       " 'raw_model_response.q1_raw_model_response',\n",
       " 'raw_model_response.q2_raw_model_response',\n",
       " 'raw_model_response.q3_raw_model_response',\n",
       " 'scenario.age',\n",
       " 'scenario.edsl_class_name',\n",
       " 'scenario.edsl_version']"
      ]
     },
     "execution_count": 17,
     "metadata": {},
     "output_type": "execute_result"
    }
   ],
   "source": [
    "results.columns"
   ]
  },
  {
   "cell_type": "code",
   "execution_count": 18,
   "id": "9c39f6ad-3709-419c-95c8-aa273aebabed",
   "metadata": {},
   "outputs": [
    {
     "name": "stdout",
     "output_type": "stream",
     "text": [
      "Showing only the first 10 rows of 250 rows.\n"
     ]
    },
    {
     "data": {
      "text/html": [
       "<pre style=\"white-space:pre;overflow-x:auto;line-height:normal;font-family:Menlo,'DejaVu Sans Mono',consolas,'Courier New',monospace\">┏━━━━━┳━━━━━━━━━━━━━━━━━━━━━━━━━━┳━━━━━━━━━━━━━━━━━━━━━━━━━━┳━━━━━━━━━━━━━━━━━━━━━━━━━━┳━━━━━━━━━━━━━━━━━━━━━━━━━━┓\n",
       "┃<span style=\"color: #800080; text-decoration-color: #800080; font-weight: bold\">     </span>┃<span style=\"color: #800080; text-decoration-color: #800080; font-weight: bold\">                          </span>┃<span style=\"color: #800080; text-decoration-color: #800080; font-weight: bold\"> Is &lt;data&gt; realistically  </span>┃<span style=\"color: #800080; text-decoration-color: #800080; font-weight: bold\">                          </span>┃<span style=\"color: #800080; text-decoration-color: #800080; font-weight: bold\">                          </span>┃\n",
       "┃<span style=\"color: #800080; text-decoration-color: #800080; font-weight: bold\">     </span>┃<span style=\"color: #800080; text-decoration-color: #800080; font-weight: bold\"> Is &lt;data&gt; a non-negative </span>┃<span style=\"color: #800080; text-decoration-color: #800080; font-weight: bold\"> within the human         </span>┃<span style=\"color: #800080; text-decoration-color: #800080; font-weight: bold\"> Is &lt;data&gt; greater than   </span>┃<span style=\"color: #800080; text-decoration-color: #800080; font-weight: bold\"> Is &lt;data&gt; a whole number </span>┃\n",
       "┃<span style=\"color: #800080; text-decoration-color: #800080; font-weight: bold\"> Age </span>┃<span style=\"color: #800080; text-decoration-color: #800080; font-weight: bold\"> integer?                 </span>┃<span style=\"color: #800080; text-decoration-color: #800080; font-weight: bold\"> lifespan?                </span>┃<span style=\"color: #800080; text-decoration-color: #800080; font-weight: bold\"> or equal to 18?          </span>┃<span style=\"color: #800080; text-decoration-color: #800080; font-weight: bold\"> without decimal places?  </span>┃\n",
       "┡━━━━━╇━━━━━━━━━━━━━━━━━━━━━━━━━━╇━━━━━━━━━━━━━━━━━━━━━━━━━━╇━━━━━━━━━━━━━━━━━━━━━━━━━━╇━━━━━━━━━━━━━━━━━━━━━━━━━━┩\n",
       "│<span style=\"color: #7f7f7f; text-decoration-color: #7f7f7f\"> 30  </span>│<span style=\"color: #7f7f7f; text-decoration-color: #7f7f7f\"> Yes                      </span>│<span style=\"color: #7f7f7f; text-decoration-color: #7f7f7f\"> Yes                      </span>│<span style=\"color: #7f7f7f; text-decoration-color: #7f7f7f\"> Yes                      </span>│<span style=\"color: #7f7f7f; text-decoration-color: #7f7f7f\"> Yes                      </span>│\n",
       "├─────┼──────────────────────────┼──────────────────────────┼──────────────────────────┼──────────────────────────┤\n",
       "│<span style=\"color: #7f7f7f; text-decoration-color: #7f7f7f\"> 52  </span>│<span style=\"color: #7f7f7f; text-decoration-color: #7f7f7f\"> Yes                      </span>│<span style=\"color: #7f7f7f; text-decoration-color: #7f7f7f\"> Yes                      </span>│<span style=\"color: #7f7f7f; text-decoration-color: #7f7f7f\"> Yes                      </span>│<span style=\"color: #7f7f7f; text-decoration-color: #7f7f7f\"> Yes                      </span>│\n",
       "├─────┼──────────────────────────┼──────────────────────────┼──────────────────────────┼──────────────────────────┤\n",
       "│<span style=\"color: #7f7f7f; text-decoration-color: #7f7f7f\"> 30  </span>│<span style=\"color: #7f7f7f; text-decoration-color: #7f7f7f\"> Yes                      </span>│<span style=\"color: #7f7f7f; text-decoration-color: #7f7f7f\"> Yes                      </span>│<span style=\"color: #7f7f7f; text-decoration-color: #7f7f7f\"> Yes                      </span>│<span style=\"color: #7f7f7f; text-decoration-color: #7f7f7f\"> Yes                      </span>│\n",
       "├─────┼──────────────────────────┼──────────────────────────┼──────────────────────────┼──────────────────────────┤\n",
       "│<span style=\"color: #7f7f7f; text-decoration-color: #7f7f7f\"> 83  </span>│<span style=\"color: #7f7f7f; text-decoration-color: #7f7f7f\"> Yes                      </span>│<span style=\"color: #7f7f7f; text-decoration-color: #7f7f7f\"> Yes                      </span>│<span style=\"color: #7f7f7f; text-decoration-color: #7f7f7f\"> Yes                      </span>│<span style=\"color: #7f7f7f; text-decoration-color: #7f7f7f\"> Yes                      </span>│\n",
       "├─────┼──────────────────────────┼──────────────────────────┼──────────────────────────┼──────────────────────────┤\n",
       "│<span style=\"color: #7f7f7f; text-decoration-color: #7f7f7f\"> 22  </span>│<span style=\"color: #7f7f7f; text-decoration-color: #7f7f7f\"> Yes                      </span>│<span style=\"color: #7f7f7f; text-decoration-color: #7f7f7f\"> Yes                      </span>│<span style=\"color: #7f7f7f; text-decoration-color: #7f7f7f\"> Yes                      </span>│<span style=\"color: #7f7f7f; text-decoration-color: #7f7f7f\"> Yes                      </span>│\n",
       "├─────┼──────────────────────────┼──────────────────────────┼──────────────────────────┼──────────────────────────┤\n",
       "│<span style=\"color: #7f7f7f; text-decoration-color: #7f7f7f\"> 63  </span>│<span style=\"color: #7f7f7f; text-decoration-color: #7f7f7f\"> Yes                      </span>│<span style=\"color: #7f7f7f; text-decoration-color: #7f7f7f\"> Yes                      </span>│<span style=\"color: #7f7f7f; text-decoration-color: #7f7f7f\"> Yes                      </span>│<span style=\"color: #7f7f7f; text-decoration-color: #7f7f7f\"> Yes                      </span>│\n",
       "├─────┼──────────────────────────┼──────────────────────────┼──────────────────────────┼──────────────────────────┤\n",
       "│<span style=\"color: #7f7f7f; text-decoration-color: #7f7f7f\"> 62  </span>│<span style=\"color: #7f7f7f; text-decoration-color: #7f7f7f\"> Yes                      </span>│<span style=\"color: #7f7f7f; text-decoration-color: #7f7f7f\"> Yes                      </span>│<span style=\"color: #7f7f7f; text-decoration-color: #7f7f7f\"> Yes                      </span>│<span style=\"color: #7f7f7f; text-decoration-color: #7f7f7f\"> Yes                      </span>│\n",
       "├─────┼──────────────────────────┼──────────────────────────┼──────────────────────────┼──────────────────────────┤\n",
       "│<span style=\"color: #7f7f7f; text-decoration-color: #7f7f7f\"> 69  </span>│<span style=\"color: #7f7f7f; text-decoration-color: #7f7f7f\"> Yes                      </span>│<span style=\"color: #7f7f7f; text-decoration-color: #7f7f7f\"> Yes                      </span>│<span style=\"color: #7f7f7f; text-decoration-color: #7f7f7f\"> Yes                      </span>│<span style=\"color: #7f7f7f; text-decoration-color: #7f7f7f\"> Yes                      </span>│\n",
       "├─────┼──────────────────────────┼──────────────────────────┼──────────────────────────┼──────────────────────────┤\n",
       "│<span style=\"color: #7f7f7f; text-decoration-color: #7f7f7f\"> 84  </span>│<span style=\"color: #7f7f7f; text-decoration-color: #7f7f7f\"> Yes                      </span>│<span style=\"color: #7f7f7f; text-decoration-color: #7f7f7f\"> Yes                      </span>│<span style=\"color: #7f7f7f; text-decoration-color: #7f7f7f\"> Yes                      </span>│<span style=\"color: #7f7f7f; text-decoration-color: #7f7f7f\"> Yes                      </span>│\n",
       "├─────┼──────────────────────────┼──────────────────────────┼──────────────────────────┼──────────────────────────┤\n",
       "│<span style=\"color: #7f7f7f; text-decoration-color: #7f7f7f\"> 72  </span>│<span style=\"color: #7f7f7f; text-decoration-color: #7f7f7f\"> Yes                      </span>│<span style=\"color: #7f7f7f; text-decoration-color: #7f7f7f\"> Yes                      </span>│<span style=\"color: #7f7f7f; text-decoration-color: #7f7f7f\"> Yes                      </span>│<span style=\"color: #7f7f7f; text-decoration-color: #7f7f7f\"> Yes                      </span>│\n",
       "└─────┴──────────────────────────┴──────────────────────────┴──────────────────────────┴──────────────────────────┘\n",
       "</pre>\n"
      ],
      "text/plain": [
       "┏━━━━━┳━━━━━━━━━━━━━━━━━━━━━━━━━━┳━━━━━━━━━━━━━━━━━━━━━━━━━━┳━━━━━━━━━━━━━━━━━━━━━━━━━━┳━━━━━━━━━━━━━━━━━━━━━━━━━━┓\n",
       "┃\u001b[1;35m     \u001b[0m┃\u001b[1;35m                          \u001b[0m┃\u001b[1;35m \u001b[0m\u001b[1;35mIs <data> realistically \u001b[0m\u001b[1;35m \u001b[0m┃\u001b[1;35m                          \u001b[0m┃\u001b[1;35m                          \u001b[0m┃\n",
       "┃\u001b[1;35m     \u001b[0m┃\u001b[1;35m \u001b[0m\u001b[1;35mIs <data> a non-negative\u001b[0m\u001b[1;35m \u001b[0m┃\u001b[1;35m \u001b[0m\u001b[1;35mwithin the human        \u001b[0m\u001b[1;35m \u001b[0m┃\u001b[1;35m \u001b[0m\u001b[1;35mIs <data> greater than  \u001b[0m\u001b[1;35m \u001b[0m┃\u001b[1;35m \u001b[0m\u001b[1;35mIs <data> a whole number\u001b[0m\u001b[1;35m \u001b[0m┃\n",
       "┃\u001b[1;35m \u001b[0m\u001b[1;35mAge\u001b[0m\u001b[1;35m \u001b[0m┃\u001b[1;35m \u001b[0m\u001b[1;35minteger?                \u001b[0m\u001b[1;35m \u001b[0m┃\u001b[1;35m \u001b[0m\u001b[1;35mlifespan?               \u001b[0m\u001b[1;35m \u001b[0m┃\u001b[1;35m \u001b[0m\u001b[1;35mor equal to 18?         \u001b[0m\u001b[1;35m \u001b[0m┃\u001b[1;35m \u001b[0m\u001b[1;35mwithout decimal places? \u001b[0m\u001b[1;35m \u001b[0m┃\n",
       "┡━━━━━╇━━━━━━━━━━━━━━━━━━━━━━━━━━╇━━━━━━━━━━━━━━━━━━━━━━━━━━╇━━━━━━━━━━━━━━━━━━━━━━━━━━╇━━━━━━━━━━━━━━━━━━━━━━━━━━┩\n",
       "│\u001b[2m \u001b[0m\u001b[2m30 \u001b[0m\u001b[2m \u001b[0m│\u001b[2m \u001b[0m\u001b[2mYes                     \u001b[0m\u001b[2m \u001b[0m│\u001b[2m \u001b[0m\u001b[2mYes                     \u001b[0m\u001b[2m \u001b[0m│\u001b[2m \u001b[0m\u001b[2mYes                     \u001b[0m\u001b[2m \u001b[0m│\u001b[2m \u001b[0m\u001b[2mYes                     \u001b[0m\u001b[2m \u001b[0m│\n",
       "├─────┼──────────────────────────┼──────────────────────────┼──────────────────────────┼──────────────────────────┤\n",
       "│\u001b[2m \u001b[0m\u001b[2m52 \u001b[0m\u001b[2m \u001b[0m│\u001b[2m \u001b[0m\u001b[2mYes                     \u001b[0m\u001b[2m \u001b[0m│\u001b[2m \u001b[0m\u001b[2mYes                     \u001b[0m\u001b[2m \u001b[0m│\u001b[2m \u001b[0m\u001b[2mYes                     \u001b[0m\u001b[2m \u001b[0m│\u001b[2m \u001b[0m\u001b[2mYes                     \u001b[0m\u001b[2m \u001b[0m│\n",
       "├─────┼──────────────────────────┼──────────────────────────┼──────────────────────────┼──────────────────────────┤\n",
       "│\u001b[2m \u001b[0m\u001b[2m30 \u001b[0m\u001b[2m \u001b[0m│\u001b[2m \u001b[0m\u001b[2mYes                     \u001b[0m\u001b[2m \u001b[0m│\u001b[2m \u001b[0m\u001b[2mYes                     \u001b[0m\u001b[2m \u001b[0m│\u001b[2m \u001b[0m\u001b[2mYes                     \u001b[0m\u001b[2m \u001b[0m│\u001b[2m \u001b[0m\u001b[2mYes                     \u001b[0m\u001b[2m \u001b[0m│\n",
       "├─────┼──────────────────────────┼──────────────────────────┼──────────────────────────┼──────────────────────────┤\n",
       "│\u001b[2m \u001b[0m\u001b[2m83 \u001b[0m\u001b[2m \u001b[0m│\u001b[2m \u001b[0m\u001b[2mYes                     \u001b[0m\u001b[2m \u001b[0m│\u001b[2m \u001b[0m\u001b[2mYes                     \u001b[0m\u001b[2m \u001b[0m│\u001b[2m \u001b[0m\u001b[2mYes                     \u001b[0m\u001b[2m \u001b[0m│\u001b[2m \u001b[0m\u001b[2mYes                     \u001b[0m\u001b[2m \u001b[0m│\n",
       "├─────┼──────────────────────────┼──────────────────────────┼──────────────────────────┼──────────────────────────┤\n",
       "│\u001b[2m \u001b[0m\u001b[2m22 \u001b[0m\u001b[2m \u001b[0m│\u001b[2m \u001b[0m\u001b[2mYes                     \u001b[0m\u001b[2m \u001b[0m│\u001b[2m \u001b[0m\u001b[2mYes                     \u001b[0m\u001b[2m \u001b[0m│\u001b[2m \u001b[0m\u001b[2mYes                     \u001b[0m\u001b[2m \u001b[0m│\u001b[2m \u001b[0m\u001b[2mYes                     \u001b[0m\u001b[2m \u001b[0m│\n",
       "├─────┼──────────────────────────┼──────────────────────────┼──────────────────────────┼──────────────────────────┤\n",
       "│\u001b[2m \u001b[0m\u001b[2m63 \u001b[0m\u001b[2m \u001b[0m│\u001b[2m \u001b[0m\u001b[2mYes                     \u001b[0m\u001b[2m \u001b[0m│\u001b[2m \u001b[0m\u001b[2mYes                     \u001b[0m\u001b[2m \u001b[0m│\u001b[2m \u001b[0m\u001b[2mYes                     \u001b[0m\u001b[2m \u001b[0m│\u001b[2m \u001b[0m\u001b[2mYes                     \u001b[0m\u001b[2m \u001b[0m│\n",
       "├─────┼──────────────────────────┼──────────────────────────┼──────────────────────────┼──────────────────────────┤\n",
       "│\u001b[2m \u001b[0m\u001b[2m62 \u001b[0m\u001b[2m \u001b[0m│\u001b[2m \u001b[0m\u001b[2mYes                     \u001b[0m\u001b[2m \u001b[0m│\u001b[2m \u001b[0m\u001b[2mYes                     \u001b[0m\u001b[2m \u001b[0m│\u001b[2m \u001b[0m\u001b[2mYes                     \u001b[0m\u001b[2m \u001b[0m│\u001b[2m \u001b[0m\u001b[2mYes                     \u001b[0m\u001b[2m \u001b[0m│\n",
       "├─────┼──────────────────────────┼──────────────────────────┼──────────────────────────┼──────────────────────────┤\n",
       "│\u001b[2m \u001b[0m\u001b[2m69 \u001b[0m\u001b[2m \u001b[0m│\u001b[2m \u001b[0m\u001b[2mYes                     \u001b[0m\u001b[2m \u001b[0m│\u001b[2m \u001b[0m\u001b[2mYes                     \u001b[0m\u001b[2m \u001b[0m│\u001b[2m \u001b[0m\u001b[2mYes                     \u001b[0m\u001b[2m \u001b[0m│\u001b[2m \u001b[0m\u001b[2mYes                     \u001b[0m\u001b[2m \u001b[0m│\n",
       "├─────┼──────────────────────────┼──────────────────────────┼──────────────────────────┼──────────────────────────┤\n",
       "│\u001b[2m \u001b[0m\u001b[2m84 \u001b[0m\u001b[2m \u001b[0m│\u001b[2m \u001b[0m\u001b[2mYes                     \u001b[0m\u001b[2m \u001b[0m│\u001b[2m \u001b[0m\u001b[2mYes                     \u001b[0m\u001b[2m \u001b[0m│\u001b[2m \u001b[0m\u001b[2mYes                     \u001b[0m\u001b[2m \u001b[0m│\u001b[2m \u001b[0m\u001b[2mYes                     \u001b[0m\u001b[2m \u001b[0m│\n",
       "├─────┼──────────────────────────┼──────────────────────────┼──────────────────────────┼──────────────────────────┤\n",
       "│\u001b[2m \u001b[0m\u001b[2m72 \u001b[0m\u001b[2m \u001b[0m│\u001b[2m \u001b[0m\u001b[2mYes                     \u001b[0m\u001b[2m \u001b[0m│\u001b[2m \u001b[0m\u001b[2mYes                     \u001b[0m\u001b[2m \u001b[0m│\u001b[2m \u001b[0m\u001b[2mYes                     \u001b[0m\u001b[2m \u001b[0m│\u001b[2m \u001b[0m\u001b[2mYes                     \u001b[0m\u001b[2m \u001b[0m│\n",
       "└─────┴──────────────────────────┴──────────────────────────┴──────────────────────────┴──────────────────────────┘\n"
      ]
     },
     "metadata": {},
     "output_type": "display_data"
    }
   ],
   "source": [
    "(results\n",
    " .select(\"age\", \"q0\", \"q1\", \"q2\", \"q3\")\n",
    " .print(pretty_labels = {\"scenario.age\":\"Age\",\n",
    "                         \"answer.q0\":data_cleaning_questions[0], \n",
    "                         \"answer.q1\":data_cleaning_questions[1],\n",
    "                         \"answer.q2\":data_cleaning_questions[2],\n",
    "                         \"answer.q3\":data_cleaning_questions[3]},\n",
    "        format=\"rich\",\n",
    "       max_rows=10)\n",
    ")"
   ]
  },
  {
   "cell_type": "code",
   "execution_count": 19,
   "id": "5fb9a683-5fe7-4fda-a641-015f2f27d905",
   "metadata": {},
   "outputs": [
    {
     "data": {
      "text/html": [
       "<pre style=\"white-space:pre;overflow-x:auto;line-height:normal;font-family:Menlo,'DejaVu Sans Mono',consolas,'Courier New',monospace\">┏━━━━━━━━━━┓\n",
       "┃<span style=\"color: #800080; text-decoration-color: #800080; font-weight: bold\"> Bad data </span>┃\n",
       "┡━━━━━━━━━━┩\n",
       "│<span style=\"color: #7f7f7f; text-decoration-color: #7f7f7f\"> -5       </span>│\n",
       "├──────────┤\n",
       "│<span style=\"color: #7f7f7f; text-decoration-color: #7f7f7f\"> old      </span>│\n",
       "├──────────┤\n",
       "│<span style=\"color: #7f7f7f; text-decoration-color: #7f7f7f\"> 0.99     </span>│\n",
       "├──────────┤\n",
       "│<span style=\"color: #7f7f7f; text-decoration-color: #7f7f7f\"> 1050     </span>│\n",
       "├──────────┤\n",
       "│<span style=\"color: #7f7f7f; text-decoration-color: #7f7f7f\"> 2        </span>│\n",
       "└──────────┘\n",
       "</pre>\n"
      ],
      "text/plain": [
       "┏━━━━━━━━━━┓\n",
       "┃\u001b[1;35m \u001b[0m\u001b[1;35mBad data\u001b[0m\u001b[1;35m \u001b[0m┃\n",
       "┡━━━━━━━━━━┩\n",
       "│\u001b[2m \u001b[0m\u001b[2m-5      \u001b[0m\u001b[2m \u001b[0m│\n",
       "├──────────┤\n",
       "│\u001b[2m \u001b[0m\u001b[2mold     \u001b[0m\u001b[2m \u001b[0m│\n",
       "├──────────┤\n",
       "│\u001b[2m \u001b[0m\u001b[2m0.99    \u001b[0m\u001b[2m \u001b[0m│\n",
       "├──────────┤\n",
       "│\u001b[2m \u001b[0m\u001b[2m1050    \u001b[0m\u001b[2m \u001b[0m│\n",
       "├──────────┤\n",
       "│\u001b[2m \u001b[0m\u001b[2m2       \u001b[0m\u001b[2m \u001b[0m│\n",
       "└──────────┘\n"
      ]
     },
     "metadata": {},
     "output_type": "display_data"
    }
   ],
   "source": [
    "(results\n",
    " .filter(\"q0 != 'Yes' or q1 != 'Yes' or q2 != 'Yes' or q3 != 'Yes'\")\n",
    " .select(\"age\")\n",
    " .print(pretty_labels = {\"scenario.age\":\"Bad data\"}, format=\"rich\")\n",
    ")"
   ]
  },
  {
   "cell_type": "markdown",
   "id": "b2e1a939-d524-4960-bb38-c915864a80c8",
   "metadata": {},
   "source": [
    "## Further exploration\n",
    "This notebook can be readily edited and expanded for other data cleaning and data labeling purposes, or to add personas for AI agents answering the questions with relevant background and expertise. [Learn more about using AI agents for your EDSL surveys](https://docs.expectedparrot.com/en/latest/agents.html). \n",
    "\n",
    "Please see our [documentation page](https://docs.expectedparrot.com/) for examples of other methods and use cases and let us know if you have any questions!"
   ]
  }
 ],
 "metadata": {
  "kernelspec": {
   "display_name": "Python 3 (ipykernel)",
   "language": "python",
   "name": "python3"
  },
  "language_info": {
   "codemirror_mode": {
    "name": "ipython",
    "version": 3
   },
   "file_extension": ".py",
   "mimetype": "text/x-python",
   "name": "python",
   "nbconvert_exporter": "python",
   "pygments_lexer": "ipython3",
   "version": "3.11.7"
  }
 },
 "nbformat": 4,
 "nbformat_minor": 5
}
