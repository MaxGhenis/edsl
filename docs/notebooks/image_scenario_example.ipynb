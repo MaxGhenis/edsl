{
 "cells": [
  {
   "cell_type": "markdown",
   "id": "aa798e31-fc1e-49ee-bf76-530f37d44c58",
   "metadata": {},
   "source": [
    "# Using images in a survey\n",
    "This notebook provides sample code for using images with an [EDSL](https://docs.expectedparrot.com/) survey.\n",
    "\n",
    "[EDSL is an open-source libary](https://github.com/expectedparrot/edsl) for simulating surveys, experiments and other research with AI agents and large language models. \n",
    "Before running the code below, please ensure that you have [installed the EDSL library](https://docs.expectedparrot.com/en/latest/installation.html) and either [activated remote inference](https://docs.expectedparrot.com/en/latest/remote_inference.html) from your [Coop account](https://docs.expectedparrot.com/en/latest/coop.html) or [stored API keys](https://docs.expectedparrot.com/en/latest/api_keys.html) for the language models that you want to use with EDSL. Please also see our [documentation page](https://docs.expectedparrot.com/) for tips and tutorials on getting started using EDSL."
   ]
  },
  {
   "cell_type": "markdown",
   "id": "8d24a5ef-82f6-443d-8b95-43fbe367fe1f",
   "metadata": {},
   "source": [
    "## Scenarios\n",
    "A `Scenario` is a dictionary containing a key/value pair that is used to add data or content to questions in an EDSL survey.\n",
    "Scenarios allow you create variations and versions of questions efficiently, and with data or content from different sources.\n",
    "\n",
    "EDSL provides a variety of methods for automatically generating scenarios from PDFs, CSVs, docs, tables, lists, dicts -- and images.\n",
    "In the steps below we demonstrate how to create a scenario for an image and use it in a survey.\n",
    "\n",
    "[Learn more about working with scenarios](https://docs.expectedparrot.com/en/latest/scenarios.html)."
   ]
  },
  {
   "cell_type": "markdown",
   "id": "74273054-d350-48c5-8c52-fb19acd45530",
   "metadata": {},
   "source": [
    "### Creating a scenario\n",
    "We start by creating a `Scenario` for an image:"
   ]
  },
  {
   "cell_type": "code",
   "execution_count": 1,
   "id": "bfcf703c-7440-4e16-ad91-1def92256962",
   "metadata": {},
   "outputs": [],
   "source": [
    "from edsl import Scenario"
   ]
  },
  {
   "cell_type": "code",
   "execution_count": 2,
   "id": "67285b06-6222-41d8-ac6b-0b6f338bb0f7",
   "metadata": {},
   "outputs": [],
   "source": [
    "# Code for generating from a local file:\n",
    "# \n",
    "# s = Scenario.from_image(\"logo.png\")"
   ]
  },
  {
   "cell_type": "markdown",
   "id": "919d0866-7d46-4442-b394-4432ef96967d",
   "metadata": {},
   "source": [
    "We can use the example scenario, which is the EP logo:"
   ]
  },
  {
   "cell_type": "code",
   "execution_count": 3,
   "id": "d602ee73-032c-4aee-846d-1201aaa88139",
   "metadata": {},
   "outputs": [],
   "source": [
    "s = Scenario.example(has_image = True)"
   ]
  },
  {
   "cell_type": "markdown",
   "id": "a9f3e0f1-2339-49eb-8c2c-a9e761301796",
   "metadata": {},
   "source": [
    "The parameter that we will add to questions in order to include the image:"
   ]
  },
  {
   "cell_type": "code",
   "execution_count": 4,
   "id": "517784ea-af13-4699-8fa4-5e4db159ad16",
   "metadata": {},
   "outputs": [
    {
     "data": {
      "text/plain": [
       "['logo']"
      ]
     },
     "execution_count": 4,
     "metadata": {},
     "output_type": "execute_result"
    }
   ],
   "source": [
    "s.keys()"
   ]
  },
  {
   "cell_type": "markdown",
   "id": "3d104331-e6ab-44bf-b39a-a07d4826795b",
   "metadata": {},
   "source": [
    "## Creating questions using the image\n",
    "Next we construct questions with the image scenario.\n",
    "Note that we use a `{{ placeholder }}` for the scenario key.\n",
    "We also demonstrate how to pipe an answer into a follow-on question:"
   ]
  },
  {
   "cell_type": "code",
   "execution_count": 5,
   "id": "ba35b5cd-23b7-4259-b571-666aea99ec21",
   "metadata": {},
   "outputs": [],
   "source": [
    "from edsl import QuestionFreeText, Survey"
   ]
  },
  {
   "cell_type": "code",
   "execution_count": 6,
   "id": "3cc43621-13f3-4588-b1ef-ec470794a5df",
   "metadata": {},
   "outputs": [],
   "source": [
    "q = QuestionFreeText(\n",
    "    question_name = \"identify_image\",\n",
    "    question_text = \"What is this a picture of: {{ logo }}?\"\n",
    ")"
   ]
  },
  {
   "cell_type": "code",
   "execution_count": 7,
   "id": "950c557d-6ba6-408d-b2e7-be7cf3c858df",
   "metadata": {},
   "outputs": [],
   "source": [
    "q_follow_up = QuestionFreeText(\n",
    "    question_name = \"id_animal\",\n",
    "    question_text = \"\"\"\n",
    "    You previously examined a logo, with the following conclusion: {{ identify_image.answer }}. \n",
    "    What animal did you see?\n",
    "    \"\"\", \n",
    ")"
   ]
  },
  {
   "cell_type": "code",
   "execution_count": 8,
   "id": "0f7f0c3d-0a6f-4f68-a357-b302f6807b8d",
   "metadata": {},
   "outputs": [],
   "source": [
    "survey = Survey(questions = [q, q_follow_up])"
   ]
  },
  {
   "cell_type": "markdown",
   "id": "4ac7c7d4-ea0c-4a00-9c52-8bbaec110d64",
   "metadata": {},
   "source": [
    "We use the scenario by adding it to the survey when we run it, as with any other scenarios:"
   ]
  },
  {
   "cell_type": "code",
   "execution_count": 9,
   "id": "d5e4a37a-90f5-4b24-8211-c23d8cb68926",
   "metadata": {},
   "outputs": [],
   "source": [
    "results = survey.by(s).run()"
   ]
  },
  {
   "cell_type": "code",
   "execution_count": 10,
   "id": "acdf9eb5-ebf2-4ea1-991a-8bd69230ea0f",
   "metadata": {},
   "outputs": [
    {
     "data": {
      "text/html": [
       "<pre style=\"white-space:pre;overflow-x:auto;line-height:normal;font-family:Menlo,'DejaVu Sans Mono',consolas,'Courier New',monospace\">┏━━━━━━━━━━━━━━━━━━━━━━━━━━━━━━━━━━━━━━━━━━━━━━━━━━━━━━━━━━━━━━━━━━━━━━━━━━━━━━━━━━━━━━━━━━━━━━━┳━━━━━━━━━━━━━━━━━┓\n",
       "┃<span style=\"color: #800080; text-decoration-color: #800080; font-weight: bold\"> answer                                                                                        </span>┃<span style=\"color: #800080; text-decoration-color: #800080; font-weight: bold\"> answer          </span>┃\n",
       "┃<span style=\"color: #800080; text-decoration-color: #800080; font-weight: bold\"> .identify_image                                                                               </span>┃<span style=\"color: #800080; text-decoration-color: #800080; font-weight: bold\"> .id_animal      </span>┃\n",
       "┡━━━━━━━━━━━━━━━━━━━━━━━━━━━━━━━━━━━━━━━━━━━━━━━━━━━━━━━━━━━━━━━━━━━━━━━━━━━━━━━━━━━━━━━━━━━━━━━╇━━━━━━━━━━━━━━━━━┩\n",
       "│<span style=\"color: #7f7f7f; text-decoration-color: #7f7f7f\"> This image is a visual pun or a play on words. It combines the mathematical notation for      </span>│<span style=\"color: #7f7f7f; text-decoration-color: #7f7f7f\"> I saw a parrot. </span>│\n",
       "│<span style=\"color: #7f7f7f; text-decoration-color: #7f7f7f\"> \"expected value,\" denoted by \\( \\mathbb{E} \\left[ \\cdot \\right] \\), with an image of a        </span>│<span style=\"color: #7f7f7f; text-decoration-color: #7f7f7f\">                 </span>│\n",
       "│<span style=\"color: #7f7f7f; text-decoration-color: #7f7f7f\"> parrot. The expected value notation typically contains a random variable inside the brackets, </span>│<span style=\"color: #7f7f7f; text-decoration-color: #7f7f7f\">                 </span>│\n",
       "│<span style=\"color: #7f7f7f; text-decoration-color: #7f7f7f\"> but here, the parrot is placed inside. This creates a humorous interpretation where the       </span>│<span style=\"color: #7f7f7f; text-decoration-color: #7f7f7f\">                 </span>│\n",
       "│<span style=\"color: #7f7f7f; text-decoration-color: #7f7f7f\"> expected value is a \"parrot,\" playing on the similarity in the sounds of \"parrot\" and         </span>│<span style=\"color: #7f7f7f; text-decoration-color: #7f7f7f\">                 </span>│\n",
       "│<span style=\"color: #7f7f7f; text-decoration-color: #7f7f7f\"> \"parenthesis.\"                                                                                </span>│<span style=\"color: #7f7f7f; text-decoration-color: #7f7f7f\">                 </span>│\n",
       "└───────────────────────────────────────────────────────────────────────────────────────────────┴─────────────────┘\n",
       "</pre>\n"
      ],
      "text/plain": [
       "┏━━━━━━━━━━━━━━━━━━━━━━━━━━━━━━━━━━━━━━━━━━━━━━━━━━━━━━━━━━━━━━━━━━━━━━━━━━━━━━━━━━━━━━━━━━━━━━━┳━━━━━━━━━━━━━━━━━┓\n",
       "┃\u001b[1;35m \u001b[0m\u001b[1;35manswer                                                                                       \u001b[0m\u001b[1;35m \u001b[0m┃\u001b[1;35m \u001b[0m\u001b[1;35manswer         \u001b[0m\u001b[1;35m \u001b[0m┃\n",
       "┃\u001b[1;35m \u001b[0m\u001b[1;35m.identify_image                                                                              \u001b[0m\u001b[1;35m \u001b[0m┃\u001b[1;35m \u001b[0m\u001b[1;35m.id_animal     \u001b[0m\u001b[1;35m \u001b[0m┃\n",
       "┡━━━━━━━━━━━━━━━━━━━━━━━━━━━━━━━━━━━━━━━━━━━━━━━━━━━━━━━━━━━━━━━━━━━━━━━━━━━━━━━━━━━━━━━━━━━━━━━╇━━━━━━━━━━━━━━━━━┩\n",
       "│\u001b[2m \u001b[0m\u001b[2mThis image is a visual pun or a play on words. It combines the mathematical notation for     \u001b[0m\u001b[2m \u001b[0m│\u001b[2m \u001b[0m\u001b[2mI saw a parrot.\u001b[0m\u001b[2m \u001b[0m│\n",
       "│\u001b[2m \u001b[0m\u001b[2m\"expected value,\" denoted by \\( \\mathbb{E} \\left[ \\cdot \\right] \\), with an image of a       \u001b[0m\u001b[2m \u001b[0m│\u001b[2m                 \u001b[0m│\n",
       "│\u001b[2m \u001b[0m\u001b[2mparrot. The expected value notation typically contains a random variable inside the brackets,\u001b[0m\u001b[2m \u001b[0m│\u001b[2m                 \u001b[0m│\n",
       "│\u001b[2m \u001b[0m\u001b[2mbut here, the parrot is placed inside. This creates a humorous interpretation where the      \u001b[0m\u001b[2m \u001b[0m│\u001b[2m                 \u001b[0m│\n",
       "│\u001b[2m \u001b[0m\u001b[2mexpected value is a \"parrot,\" playing on the similarity in the sounds of \"parrot\" and        \u001b[0m\u001b[2m \u001b[0m│\u001b[2m                 \u001b[0m│\n",
       "│\u001b[2m \u001b[0m\u001b[2m\"parenthesis.\"                                                                               \u001b[0m\u001b[2m \u001b[0m│\u001b[2m                 \u001b[0m│\n",
       "└───────────────────────────────────────────────────────────────────────────────────────────────┴─────────────────┘\n"
      ]
     },
     "metadata": {},
     "output_type": "display_data"
    }
   ],
   "source": [
    "results.select(\"identify_image\", \"id_animal\").print(format=\"rich\")"
   ]
  },
  {
   "cell_type": "markdown",
   "id": "5af65f3b-9706-4e8c-a2f1-f8654b4dd3e1",
   "metadata": {},
   "source": [
    "Wrong answer, but a decent guess!"
   ]
  }
 ],
 "metadata": {
  "kernelspec": {
   "display_name": "Python 3 (ipykernel)",
   "language": "python",
   "name": "python3"
  },
  "language_info": {
   "codemirror_mode": {
    "name": "ipython",
    "version": 3
   },
   "file_extension": ".py",
   "mimetype": "text/x-python",
   "name": "python",
   "nbconvert_exporter": "python",
   "pygments_lexer": "ipython3",
   "version": "3.11.7"
  }
 },
 "nbformat": 4,
 "nbformat_minor": 5
}
