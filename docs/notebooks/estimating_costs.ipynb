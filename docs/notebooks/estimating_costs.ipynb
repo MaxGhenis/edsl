{
 "cells": [
  {
   "cell_type": "markdown",
   "id": "6c36859c-d3db-4f06-9c5d-e5a00fbea01e",
   "metadata": {},
   "source": [
    "# Estimating costs\n",
    "\n",
    "Before running a survey, you can estimate the cost of running it (in USD and credits) in 2 different ways:\n",
    "\n",
    "* Call the `estimate_job_cost()` method on the `Job` object (a survey combined with one or more models). This will return the total estimated cost in USD, the total estimated input and output tokens, and estimated costs and tokens for each inference service and model used. \n",
    "\n",
    "* Call the `remote_inference_cost()` method on a `Coop` client object and pass it the job. This will return the estimated cost in credits and USD. (Credits are required to run surveys remotely. Learn more about using credits in the [Credits](https://docs.expectedparrot.com/en/latest/credits.html) section of the docs.)\n",
    "\n",
    "## Calculations\n",
    "\n",
    "The above-mentioned methods use the following calculation for each question in a survey to estimate the total cost of the job:\n",
    "\n",
    "1. Estimate the input tokens.\n",
    "    * Compute the number of characters in the `user_prompt` and `system_prompt`, with any `Agent` and `Scenario` data piped in. (*Note:* Previous answers cannot be piped in because they are not available until the survey is run; they are left as Jinja-bracketed variables in the prompts for purposes of estimating tokens and costs.)\n",
    "    * Apply a piping multiplier of 2 to the number of characters in the user prompt if it has an answer piped in from a previous question (i.e., if the question has Jinja braces). Otherwise, apply a multiplier of 1.\n",
    "    * Convert the number of characters into the number of input tokens using a conversion factor of 4 characters per token, rounding down to the nearest whole number. (This approximation was [established by OpenAI](https://help.openai.com/en/articles/4936856-what-are-tokens-and-how-to-count-them).)\n",
    "2. Estimate the output tokens.\n",
    "    * Apply a multiplier of 0.75 to the number of input tokens, rounding up to the nearest whole number.\n",
    "3. Apply the token rates for the model and inference service.\n",
    "    * Find the model and inference service for the question in the [Pricing](https://www.expectedparrot.com/getting-started/coop-pricing) page:\n",
    "        *Total cost = (input tokens * input token rate) + (output tokens * output token rate)*\n",
    "    * If the model and inference service are not found, use the following fallback token rates (for a low-cost OpenAI model) (you will also see a warning message that a model price was not found):\n",
    "        * USD 0.60 per 1M input tokens\n",
    "        * USD 0.15 per 1M ouput tokens\n",
    "\n",
    "4. Convert the total cost in USD to credits.\n",
    "    * Total cost in credits = total cost in USD * 100, rounded up to the nearest 1/100th credit.\n",
    "\n",
    "Then sum the costs for all question prompts to get the total cost of the job.\n",
    "\n",
    "## Example\n",
    "\n",
    "Here we create an example survey and agent, select a model and combine them to create a job.\n",
    "Then we call the above-mentioned methods for estimating costs and show the underlying calculations.\n",
    "For more details, please see the [Credits](https://docs.expectedparrot.com/en/latest/credits.html) section of the docs."
   ]
  },
  {
   "cell_type": "code",
   "execution_count": 1,
   "id": "04df63b5-e0b6-4e67-8b73-46ad45960274",
   "metadata": {},
   "outputs": [],
   "source": [
    "from edsl import QuestionFreeText, Survey, Agent, Model, Coop\n",
    "from math import floor, ceil"
   ]
  },
  {
   "cell_type": "code",
   "execution_count": 2,
   "id": "5a2557a5-35c0-4ac1-9baa-bd6a0684620b",
   "metadata": {},
   "outputs": [],
   "source": [
    "q0 = QuestionFreeText(\n",
    "    question_name = \"favorite_flower\",\n",
    "    question_text = \"What is the name of your favorite flower?\"\n",
    ")\n",
    "q1 = QuestionFreeText(\n",
    "    question_name = \"flower_color\",\n",
    "    question_text = \"What color is {{ favorite_flower.answer }}?\"\n",
    ")\n",
    "\n",
    "survey = Survey(questions = [q0, q1])"
   ]
  },
  {
   "cell_type": "code",
   "execution_count": 3,
   "id": "8c625668-30e6-47e8-a269-223c9f0349ab",
   "metadata": {},
   "outputs": [],
   "source": [
    "a = Agent(traits = {\"persona\":\"You are a botanist on Cape Cod.\"})"
   ]
  },
  {
   "cell_type": "code",
   "execution_count": 4,
   "id": "2dcef80e-8c55-4c0a-850d-ce7f702a3461",
   "metadata": {},
   "outputs": [],
   "source": [
    "m = Model(\"gpt-4o\")"
   ]
  },
  {
   "cell_type": "code",
   "execution_count": 5,
   "id": "f3ae65b4-cc19-4489-927b-b2f452c23c08",
   "metadata": {},
   "outputs": [],
   "source": [
    "job = survey.by(a).by(m)"
   ]
  },
  {
   "cell_type": "code",
   "execution_count": 6,
   "id": "db052bba-27ab-413d-993e-f0752336cad4",
   "metadata": {},
   "outputs": [
    {
     "name": "stderr",
     "output_type": "stream",
     "text": [
      "/Users/a16174/edsl/.venv/lib/python3.11/site-packages/edsl/agents/PromptConstructor.py:202: UserWarning: Question instructions still has variables: ['answer'].\n",
      "  warnings.warn(msg)\n"
     ]
    },
    {
     "data": {
      "text/plain": [
       "{'estimated_total_cost': 0.0009175000000000001,\n",
       " 'estimated_total_input_tokens': 91,\n",
       " 'estimated_total_output_tokens': 69,\n",
       " 'model_costs': [{'inference_service': 'openai',\n",
       "   'model': 'gpt-4o',\n",
       "   'estimated_cost': 0.0009175000000000001,\n",
       "   'estimated_input_tokens': 91,\n",
       "   'estimated_output_tokens': 69}]}"
      ]
     },
     "execution_count": 6,
     "metadata": {},
     "output_type": "execute_result"
    }
   ],
   "source": [
    "job.estimate_job_cost()"
   ]
  },
  {
   "cell_type": "code",
   "execution_count": 7,
   "id": "bfa6eae0-9727-45f5-9d70-485964e8de02",
   "metadata": {},
   "outputs": [],
   "source": [
    "c = Coop()"
   ]
  },
  {
   "cell_type": "code",
   "execution_count": 8,
   "id": "e36fb6d0-1892-45f2-b7a3-4cc0ad9ce88b",
   "metadata": {},
   "outputs": [
    {
     "data": {
      "text/plain": [
       "{'credits': 0.1, 'usd': 0.00092}"
      ]
     },
     "execution_count": 8,
     "metadata": {},
     "output_type": "execute_result"
    }
   ],
   "source": [
    "c.remote_inference_cost(job)"
   ]
  },
  {
   "cell_type": "code",
   "execution_count": 9,
   "id": "55f55486-456d-4491-847c-078a7bf6e026",
   "metadata": {},
   "outputs": [
    {
     "name": "stderr",
     "output_type": "stream",
     "text": [
      "/Users/a16174/edsl/.venv/lib/python3.11/site-packages/edsl/agents/PromptConstructor.py:202: UserWarning: Question instructions still has variables: ['answer'].\n",
      "  warnings.warn(msg)\n"
     ]
    },
    {
     "data": {
      "text/html": [
       "<pre style=\"white-space:pre;overflow-x:auto;line-height:normal;font-family:Menlo,'DejaVu Sans Mono',consolas,'Courier New',monospace\">┏━━━━━━━━━━━━━━━━━━━━━━━━━━━━━━━━━━━━━━━━━━━┳━━━━━━━━━━━━━━━━━━━━━━━━━━━━━━━━━━━━━━━━━━━━━━━━━━━━━━━━━━━━━━━━━━━━━┓\n",
       "┃<span style=\"color: #800080; text-decoration-color: #800080; font-weight: bold\"> user_prompt                               </span>┃<span style=\"color: #800080; text-decoration-color: #800080; font-weight: bold\"> system_prompt                                                       </span>┃\n",
       "┡━━━━━━━━━━━━━━━━━━━━━━━━━━━━━━━━━━━━━━━━━━━╇━━━━━━━━━━━━━━━━━━━━━━━━━━━━━━━━━━━━━━━━━━━━━━━━━━━━━━━━━━━━━━━━━━━━━┩\n",
       "│<span style=\"color: #7f7f7f; text-decoration-color: #7f7f7f\"> What is the name of your favorite flower? </span>│<span style=\"color: #7f7f7f; text-decoration-color: #7f7f7f\"> You are answering questions as if you were a human. Do not break    </span>│\n",
       "│<span style=\"color: #7f7f7f; text-decoration-color: #7f7f7f\">                                           </span>│<span style=\"color: #7f7f7f; text-decoration-color: #7f7f7f\"> character. Your traits: {'persona': 'You are a botanist on Cape     </span>│\n",
       "│<span style=\"color: #7f7f7f; text-decoration-color: #7f7f7f\">                                           </span>│<span style=\"color: #7f7f7f; text-decoration-color: #7f7f7f\"> Cod.'}                                                              </span>│\n",
       "├───────────────────────────────────────────┼─────────────────────────────────────────────────────────────────────┤\n",
       "│<span style=\"color: #7f7f7f; text-decoration-color: #7f7f7f\"> What color is {{ answer }}?               </span>│<span style=\"color: #7f7f7f; text-decoration-color: #7f7f7f\"> You are answering questions as if you were a human. Do not break    </span>│\n",
       "│<span style=\"color: #7f7f7f; text-decoration-color: #7f7f7f\">                                           </span>│<span style=\"color: #7f7f7f; text-decoration-color: #7f7f7f\"> character. Your traits: {'persona': 'You are a botanist on Cape     </span>│\n",
       "│<span style=\"color: #7f7f7f; text-decoration-color: #7f7f7f\">                                           </span>│<span style=\"color: #7f7f7f; text-decoration-color: #7f7f7f\"> Cod.'}                                                              </span>│\n",
       "└───────────────────────────────────────────┴─────────────────────────────────────────────────────────────────────┘\n",
       "</pre>\n"
      ],
      "text/plain": [
       "┏━━━━━━━━━━━━━━━━━━━━━━━━━━━━━━━━━━━━━━━━━━━┳━━━━━━━━━━━━━━━━━━━━━━━━━━━━━━━━━━━━━━━━━━━━━━━━━━━━━━━━━━━━━━━━━━━━━┓\n",
       "┃\u001b[1;35m \u001b[0m\u001b[1;35muser_prompt                              \u001b[0m\u001b[1;35m \u001b[0m┃\u001b[1;35m \u001b[0m\u001b[1;35msystem_prompt                                                      \u001b[0m\u001b[1;35m \u001b[0m┃\n",
       "┡━━━━━━━━━━━━━━━━━━━━━━━━━━━━━━━━━━━━━━━━━━━╇━━━━━━━━━━━━━━━━━━━━━━━━━━━━━━━━━━━━━━━━━━━━━━━━━━━━━━━━━━━━━━━━━━━━━┩\n",
       "│\u001b[2m \u001b[0m\u001b[2mWhat is the name of your favorite flower?\u001b[0m\u001b[2m \u001b[0m│\u001b[2m \u001b[0m\u001b[2mYou are answering questions as if you were a human. Do not break   \u001b[0m\u001b[2m \u001b[0m│\n",
       "│\u001b[2m                                           \u001b[0m│\u001b[2m \u001b[0m\u001b[2mcharacter. Your traits: {'persona': 'You are a botanist on Cape    \u001b[0m\u001b[2m \u001b[0m│\n",
       "│\u001b[2m                                           \u001b[0m│\u001b[2m \u001b[0m\u001b[2mCod.'}                                                             \u001b[0m\u001b[2m \u001b[0m│\n",
       "├───────────────────────────────────────────┼─────────────────────────────────────────────────────────────────────┤\n",
       "│\u001b[2m \u001b[0m\u001b[2mWhat color is {{ answer }}?              \u001b[0m\u001b[2m \u001b[0m│\u001b[2m \u001b[0m\u001b[2mYou are answering questions as if you were a human. Do not break   \u001b[0m\u001b[2m \u001b[0m│\n",
       "│\u001b[2m                                           \u001b[0m│\u001b[2m \u001b[0m\u001b[2mcharacter. Your traits: {'persona': 'You are a botanist on Cape    \u001b[0m\u001b[2m \u001b[0m│\n",
       "│\u001b[2m                                           \u001b[0m│\u001b[2m \u001b[0m\u001b[2mCod.'}                                                             \u001b[0m\u001b[2m \u001b[0m│\n",
       "└───────────────────────────────────────────┴─────────────────────────────────────────────────────────────────────┘\n"
      ]
     },
     "metadata": {},
     "output_type": "display_data"
    }
   ],
   "source": [
    "job.show_prompts()"
   ]
  },
  {
   "cell_type": "markdown",
   "id": "5ccc637f-0787-463e-b2c7-a8666837b01d",
   "metadata": {},
   "source": [
    "Count the characters in each user prompt and system prompt:"
   ]
  },
  {
   "cell_type": "code",
   "execution_count": 10,
   "id": "dfe0058a-8174-488a-9885-456bb1e87577",
   "metadata": {},
   "outputs": [
    {
     "data": {
      "text/plain": [
       "41"
      ]
     },
     "execution_count": 10,
     "metadata": {},
     "output_type": "execute_result"
    }
   ],
   "source": [
    "q0_user_prompt_characters = len(\"What is the name of your favorite flower?\")\n",
    "q0_user_prompt_characters"
   ]
  },
  {
   "cell_type": "code",
   "execution_count": 11,
   "id": "7f24c2b1-d836-4804-aa7a-0e105d4a831d",
   "metadata": {},
   "outputs": [
    {
     "data": {
      "text/plain": [
       "135"
      ]
     },
     "execution_count": 11,
     "metadata": {},
     "output_type": "execute_result"
    }
   ],
   "source": [
    "q0_system_prompt_characters = len(\"You are answering questions as if you were a human. Do not break character. Your traits: {'persona': 'You are a botanist on Cape Cod.'}\")\n",
    "q0_system_prompt_characters"
   ]
  },
  {
   "cell_type": "markdown",
   "id": "1228250b-309c-49c8-b27a-504956b2a76c",
   "metadata": {},
   "source": [
    "Apply the piping multiplier to tbe q1 user prompt:"
   ]
  },
  {
   "cell_type": "code",
   "execution_count": 12,
   "id": "4733b7b3-b6b3-41ff-869b-9cc889981e2b",
   "metadata": {},
   "outputs": [
    {
     "data": {
      "text/plain": [
       "54"
      ]
     },
     "execution_count": 12,
     "metadata": {},
     "output_type": "execute_result"
    }
   ],
   "source": [
    "q1_user_prompt_characters = len(\"What color is {{ answer }}?\") * 2\n",
    "q1_user_prompt_characters"
   ]
  },
  {
   "cell_type": "markdown",
   "id": "30f8541d-f088-49e4-8e99-16e46ac5d6a8",
   "metadata": {},
   "source": [
    "The system prompt characters are identical for the single agent:"
   ]
  },
  {
   "cell_type": "code",
   "execution_count": 13,
   "id": "0fe14a7b-b794-4d6e-bdaa-243b91b31afa",
   "metadata": {},
   "outputs": [
    {
     "data": {
      "text/plain": [
       "135"
      ]
     },
     "execution_count": 13,
     "metadata": {},
     "output_type": "execute_result"
    }
   ],
   "source": [
    "q1_system_prompt_characters = len(\"You are answering questions as if you were a human. Do not break character. Your traits: {'persona': 'You are a botanist on Cape Cod.'}\")\n",
    "q1_system_prompt_characters"
   ]
  },
  {
   "cell_type": "markdown",
   "id": "378a7404-683f-485e-8cc1-ea0ba5335453",
   "metadata": {},
   "source": [
    "Estimate the input and output tokens for each set of prompts:"
   ]
  },
  {
   "cell_type": "code",
   "execution_count": 14,
   "id": "ccc66096-1982-4837-92b5-f3c09b60ba67",
   "metadata": {},
   "outputs": [
    {
     "data": {
      "text/plain": [
       "44"
      ]
     },
     "execution_count": 14,
     "metadata": {},
     "output_type": "execute_result"
    }
   ],
   "source": [
    "q0_input_tokens = (q0_user_prompt_characters + q0_system_prompt_characters) // 4\n",
    "q0_input_tokens"
   ]
  },
  {
   "cell_type": "code",
   "execution_count": 15,
   "id": "68b52cf6-7781-4c7a-a4e5-e25d54f97d42",
   "metadata": {},
   "outputs": [
    {
     "data": {
      "text/plain": [
       "33"
      ]
     },
     "execution_count": 15,
     "metadata": {},
     "output_type": "execute_result"
    }
   ],
   "source": [
    "q0_output_tokens = ceil(0.75 * q0_input_tokens) \n",
    "q0_output_tokens"
   ]
  },
  {
   "cell_type": "code",
   "execution_count": 16,
   "id": "8ef78d1b-d8d6-4aa4-9a44-53c2a90f6bc0",
   "metadata": {},
   "outputs": [
    {
     "data": {
      "text/plain": [
       "47"
      ]
     },
     "execution_count": 16,
     "metadata": {},
     "output_type": "execute_result"
    }
   ],
   "source": [
    "q1_input_tokens = (q1_user_prompt_characters + q1_system_prompt_characters) // 4\n",
    "q1_input_tokens"
   ]
  },
  {
   "cell_type": "code",
   "execution_count": 17,
   "id": "c021ac5f-8f07-4700-936f-fa1dced161bc",
   "metadata": {},
   "outputs": [
    {
     "data": {
      "text/plain": [
       "36"
      ]
     },
     "execution_count": 17,
     "metadata": {},
     "output_type": "execute_result"
    }
   ],
   "source": [
    "q1_output_tokens = ceil(0.75 * q1_input_tokens) \n",
    "q1_output_tokens"
   ]
  },
  {
   "cell_type": "markdown",
   "id": "686d700d-f9a8-43f0-b3c2-34f1685b3ff6",
   "metadata": {},
   "source": [
    "Apply the token rates for the model:"
   ]
  },
  {
   "cell_type": "code",
   "execution_count": 18,
   "id": "b8b47251-74a0-44bb-83bf-059f45f6a6c5",
   "metadata": {},
   "outputs": [
    {
     "data": {
      "text/plain": [
       "0.00044000000000000007"
      ]
     },
     "execution_count": 18,
     "metadata": {},
     "output_type": "execute_result"
    }
   ],
   "source": [
    "q0_tokens_cost = (2.50/1000000 * q0_input_tokens) + (10.00/1000000 * q0_output_tokens)\n",
    "q0_tokens_cost"
   ]
  },
  {
   "cell_type": "code",
   "execution_count": 19,
   "id": "c88ef219-6d2d-4fbd-8862-b60a75925b5a",
   "metadata": {},
   "outputs": [
    {
     "data": {
      "text/plain": [
       "0.00047750000000000006"
      ]
     },
     "execution_count": 19,
     "metadata": {},
     "output_type": "execute_result"
    }
   ],
   "source": [
    "q1_tokens_cost = (2.50/1000000 * q1_input_tokens) + (10.00/1000000 * q1_output_tokens)\n",
    "q1_tokens_cost"
   ]
  },
  {
   "cell_type": "code",
   "execution_count": 20,
   "id": "b595cd19-d2c3-4d7f-a114-f2f4680d9230",
   "metadata": {},
   "outputs": [
    {
     "data": {
      "text/plain": [
       "0.0009175000000000001"
      ]
     },
     "execution_count": 20,
     "metadata": {},
     "output_type": "execute_result"
    }
   ],
   "source": [
    "total_cost_usd = q0_tokens_cost + q1_tokens_cost\n",
    "total_cost_usd"
   ]
  },
  {
   "cell_type": "code",
   "execution_count": 21,
   "id": "091945fc-f71a-4673-97ae-76a876ead805",
   "metadata": {},
   "outputs": [
    {
     "data": {
      "text/plain": [
       "0.05"
      ]
     },
     "execution_count": 21,
     "metadata": {},
     "output_type": "execute_result"
    }
   ],
   "source": [
    "q0_credits = ceil(q0_tokens_cost * 100 * 100) / 100\n",
    "q0_credits"
   ]
  },
  {
   "cell_type": "code",
   "execution_count": 22,
   "id": "71a152cf-f245-45da-b210-f4d9b0277aaf",
   "metadata": {},
   "outputs": [
    {
     "data": {
      "text/plain": [
       "0.05"
      ]
     },
     "execution_count": 22,
     "metadata": {},
     "output_type": "execute_result"
    }
   ],
   "source": [
    "q1_credits = ceil(q1_tokens_cost * 100 * 100) / 100\n",
    "q1_credits"
   ]
  },
  {
   "cell_type": "code",
   "execution_count": 23,
   "id": "4a5097fa-3b83-4cd6-94a8-ba16708bc53b",
   "metadata": {},
   "outputs": [
    {
     "data": {
      "text/plain": [
       "0.1"
      ]
     },
     "execution_count": 23,
     "metadata": {},
     "output_type": "execute_result"
    }
   ],
   "source": [
    "total_credits = q0_credits + q1_credits\n",
    "total_credits"
   ]
  },
  {
   "cell_type": "markdown",
   "id": "56f6f5e2-00dd-4c57-b791-2a7ee5c22328",
   "metadata": {},
   "source": [
    "## Posting to Coop"
   ]
  },
  {
   "cell_type": "code",
   "execution_count": 1,
   "id": "368792f4-18d2-463a-8f2d-e3e79fa84050",
   "metadata": {
    "editable": true,
    "slideshow": {
     "slide_type": ""
    },
    "tags": [
     "skip-execution"
    ]
   },
   "outputs": [
    {
     "data": {
      "text/plain": [
       "{'description': 'Estimating job costs',\n",
       " 'object_type': 'notebook',\n",
       " 'url': 'https://www.expectedparrot.com/content/c379241a-7039-4505-8d42-4c909a54c6e0',\n",
       " 'uuid': 'c379241a-7039-4505-8d42-4c909a54c6e0',\n",
       " 'version': '0.1.37.dev1',\n",
       " 'visibility': 'public'}"
      ]
     },
     "execution_count": 1,
     "metadata": {},
     "output_type": "execute_result"
    }
   ],
   "source": [
    "from edsl import Notebook\n",
    "\n",
    "n = Notebook(path = \"estimating_costs.ipynb\")\n",
    "\n",
    "n.push(description = \"Estimating job costs\", visibility = \"public\")"
   ]
  },
  {
   "cell_type": "markdown",
   "id": "d7931ebf-21fb-4784-899e-5b6b97d30977",
   "metadata": {},
   "source": [
    "Updating content at Coop:"
   ]
  },
  {
   "cell_type": "code",
   "execution_count": 2,
   "id": "7bac6697-a166-42ec-a896-0356e3ac5e5e",
   "metadata": {
    "editable": true,
    "slideshow": {
     "slide_type": ""
    },
    "tags": [
     "skip-execution"
    ]
   },
   "outputs": [
    {
     "data": {
      "text/plain": [
       "{'status': 'success'}"
      ]
     },
     "execution_count": 2,
     "metadata": {},
     "output_type": "execute_result"
    }
   ],
   "source": [
    "n = Notebook(path = \"estimating_costs.ipynb\")\n",
    "\n",
    "n.patch(uuid = \"c379241a-7039-4505-8d42-4c909a54c6e0\", value = n)"
   ]
  }
 ],
 "metadata": {
  "kernelspec": {
   "display_name": "Python 3 (ipykernel)",
   "language": "python",
   "name": "python3"
  },
  "language_info": {
   "codemirror_mode": {
    "name": "ipython",
    "version": 3
   },
   "file_extension": ".py",
   "mimetype": "text/x-python",
   "name": "python",
   "nbconvert_exporter": "python",
   "pygments_lexer": "ipython3",
   "version": "3.11.7"
  }
 },
 "nbformat": 4,
 "nbformat_minor": 5
}
