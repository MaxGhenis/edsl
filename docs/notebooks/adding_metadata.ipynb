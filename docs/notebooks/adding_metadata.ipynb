{
 "cells": [
  {
   "cell_type": "markdown",
   "id": "a446be75-6e41-4418-9cad-0d26e5f2a328",
   "metadata": {
    "editable": true,
    "slideshow": {
     "slide_type": ""
    },
    "tags": []
   },
   "source": [
    "# Adding metadata to survey results\n",
    "This notebook provides sample [EDSL](https://docs.expectedparrot.com/) code for adding metadata to survey [results](https://docs.expectedparrot.com/en/latest/results.html). This can be useful when you are using EDSL to conduct [data labeling](https://docs.expectedparrot.com/en/latest/notebooks/data_labeling_example.html) or similar tasks and want to include information about the data or content that you are using with a survey (e.g., the data source or date), without having to perform post-survey data match up steps.\n",
    "\n",
    "In EDSL this can be done by including fields for metadata in [scenarios](https://docs.expectedparrot.com/en/latest/scenarios.html) that you create for the data/content you are using with a survey. When the scenarios are added to the survey and it is run, columns for the metadata fields are automatically included in the results that are generated.\n",
    "\n",
    "## Example\n",
    "In the steps below we create and run a simple EDSL survey that uses scenarios to add metadata to the results. The steps consist of:\n",
    "\n",
    "* Constructing a survey of questions about some data (mock news stories)\n",
    "* Creating a scenario (dictionary) for each news story\n",
    "* Adding the scenarios to the survey and running it\n",
    "* Inspecting the results\n",
    "\n",
    "## Technical setup\n",
    "Before running the code below, please ensure that you have [installed the EDSL libary](https://docs.expectedparrot.com/en/latest/installation.html) and either [activated remote inference](https://docs.expectedparrot.com/en/latest/remote_inference.html) from your [Coop account](https://docs.expectedparrot.com/en/latest/coop.html) or [stored API keys](https://docs.expectedparrot.com/en/latest/api_keys.html) for the language models that you want to use with EDSL. Please also see our [documentation page](https://docs.expectedparrot.com/) for tips and tutorials on getting started using EDSL."
   ]
  },
  {
   "cell_type": "markdown",
   "id": "fced10dd-08b1-4a51-96eb-3d968bceddb3",
   "metadata": {
    "editable": true,
    "slideshow": {
     "slide_type": ""
    },
    "tags": []
   },
   "source": [
    "## Constructing questions\n",
    "We start by constructing some questions with a `{{ placeholder }}` for data that we will add to the question texts. \n",
    "EDSL comes with a variety of [question types](https://docs.expectedparrot.com/en/latest/questions.html) that we can choose from based on the form of the response that we want to get back from the model:"
   ]
  },
  {
   "cell_type": "code",
   "execution_count": 1,
   "id": "546f0dd4-4ed8-41ce-9de2-083c117a3b5c",
   "metadata": {
    "editable": true,
    "slideshow": {
     "slide_type": ""
    },
    "tags": []
   },
   "outputs": [],
   "source": [
    "from edsl import QuestionFreeText, QuestionMultipleChoice"
   ]
  },
  {
   "cell_type": "code",
   "execution_count": 2,
   "id": "849d728d-c699-4d24-bde4-dea8acefd582",
   "metadata": {
    "editable": true,
    "slideshow": {
     "slide_type": ""
    },
    "tags": []
   },
   "outputs": [],
   "source": [
    "q_reference = QuestionFreeText(\n",
    "    question_name = \"reference\",\n",
    "    question_text = \"What is this headline referring to: {{ scenario.headline }}\",\n",
    ")\n",
    "\n",
    "q_section = QuestionMultipleChoice(\n",
    "    question_name = \"section\",\n",
    "    question_text = \"Which section of the paper is most likely to include this story: {{ scenario.headline }}\",\n",
    "    question_options = [\n",
    "        \"Front page\",\n",
    "        \"Health\",\n",
    "        \"Politics\",\n",
    "        \"Entertainment\",\n",
    "        \"Local\",\n",
    "        \"Opinion\",\n",
    "        \"Sports\",\n",
    "        \"Culture\",\n",
    "        \"Housing\"\n",
    "    ]\n",
    ")"
   ]
  },
  {
   "cell_type": "markdown",
   "id": "707812eb-e368-435c-89f5-f6c3fd861827",
   "metadata": {
    "editable": true,
    "slideshow": {
     "slide_type": ""
    },
    "tags": []
   },
   "source": [
    "## Creating a survey\n",
    "Next we pass the questions to a survey in order to administer them together:"
   ]
  },
  {
   "cell_type": "code",
   "execution_count": 3,
   "id": "070b140c-c4d2-44c3-9946-3e21b767305d",
   "metadata": {
    "editable": true,
    "slideshow": {
     "slide_type": ""
    },
    "tags": []
   },
   "outputs": [],
   "source": [
    "from edsl import Survey"
   ]
  },
  {
   "cell_type": "code",
   "execution_count": 4,
   "id": "628237c1-652b-4196-8672-3e25c51df3a6",
   "metadata": {
    "editable": true,
    "slideshow": {
     "slide_type": ""
    },
    "tags": []
   },
   "outputs": [],
   "source": [
    "survey = Survey(questions = [q_reference, q_section])"
   ]
  },
  {
   "cell_type": "markdown",
   "id": "e5c2968e-0463-4a86-9206-154192daadd1",
   "metadata": {
    "editable": true,
    "slideshow": {
     "slide_type": ""
    },
    "tags": []
   },
   "source": [
    "## Parameterizing questions with scenarios\n",
    "Next we create a `ScenarioList` with a `Scenario` consisting of a key/value for each piece of data that we want to add to the questions at the `{{ placeholder }}`, with additional key/values for metadata that we want to keep with the results that are generated when the survey is run. \n",
    "EDSL comes with a variety of [methods for generating scenarios from different data sources](https://docs.expectedparrot.com/en/latest/scenarios.html) (PDFs, CSVs, images, tables, lists, etc.); here we generate scenarios from a dictionary:"
   ]
  },
  {
   "cell_type": "code",
   "execution_count": 5,
   "id": "297e2ac8-48ea-47d0-b35a-3a9d84bfe888",
   "metadata": {
    "editable": true,
    "slideshow": {
     "slide_type": ""
    },
    "tags": []
   },
   "outputs": [],
   "source": [
    "from edsl import ScenarioList, Scenario"
   ]
  },
  {
   "cell_type": "code",
   "execution_count": 6,
   "id": "8bd7b6fb-9ab1-4fb5-a75b-02ed3a7a5d6e",
   "metadata": {
    "editable": true,
    "slideshow": {
     "slide_type": ""
    },
    "tags": []
   },
   "outputs": [],
   "source": [
    "data = [\n",
    "    [\"headline\", \"date\", \"author\"],  # Header row\n",
    "    [\"Armistice Signed, War Over: Celebrations Erupt Across City\", \"1918-11-11\", \"John Doe\"],\n",
    "    [\"Spanish Flu Pandemic: Hospitals Overwhelmed as Cases Surge\", \"1918-10-15\", \"Jane Smith\"],\n",
    "    [\"Women Gain Right to Vote: Historic Amendment Passed\", \"1918-06-05\", \"Robert Johnson\"],\n",
    "    [\"Broadway Theaters Reopen After Flu Shutdown\", \"1918-12-01\", \"Mary Lee\"],\n",
    "    [\"City Welcomes Returning Soldiers with Parade\", \"1918-11-12\", \"James Brown\"],\n",
    "    [\"Prohibition Debate Heats Up: Public Opinion Divided\", \"1918-07-20\", \"Patricia Green\"],\n",
    "    [\"New York Yankees Win First Pennant in Franchise History\", \"1918-09-30\", \"William Davis\"],\n",
    "    [\"Subway Expansion Project Approved by City Council\", \"1918-08-18\", \"Barbara Wilson\"],\n",
    "    [\"Harlem Renaissance: New Wave of Cultural Expression\", \"1918-04-25\", \"Charles Miller\"],\n",
    "    [\"Mayor Announces New Housing Initiative for Veterans\", \"1918-11-20\", \"Elizabeth Taylor\"]\n",
    "]\n",
    "\n",
    "# Writing to CSV file\n",
    "with open('data.csv', 'w') as file:\n",
    "    for row in data:\n",
    "        line = ','.join(str(item) for item in row)\n",
    "        file.write(line + '\\n')"
   ]
  },
  {
   "cell_type": "code",
   "execution_count": 7,
   "id": "fd356afd-8027-4e7b-979b-47e479848c03",
   "metadata": {
    "editable": true,
    "slideshow": {
     "slide_type": ""
    },
    "tags": []
   },
   "outputs": [],
   "source": [
    "scenarios = ScenarioList.from_csv(\"data.csv\")"
   ]
  },
  {
   "cell_type": "markdown",
   "id": "98fb1b80-f898-451d-9399-050d5ad336de",
   "metadata": {
    "editable": true,
    "slideshow": {
     "slide_type": ""
    },
    "tags": []
   },
   "source": [
    "We can inspect the scenarios that have been created:"
   ]
  },
  {
   "cell_type": "code",
   "execution_count": 8,
   "id": "d1ec1b49-ee7b-487f-b289-65f88d0f9f6d",
   "metadata": {
    "editable": true,
    "slideshow": {
     "slide_type": ""
    },
    "tags": []
   },
   "outputs": [
    {
     "data": {
      "text/html": [
       "<p><a href='https://docs.expectedparrot.com/en/latest/scenarios.html#scenariolist'>ScenarioList</a> scenarios: 10; keys: ['author', 'headline', 'date'];</p>\n",
       "            <div style=\"max-height: 500px; overflow-y: auto;\">\n",
       "                <style type=\"text/css\">\n",
       "#T_abf8f_row0_col0, #T_abf8f_row0_col1, #T_abf8f_row0_col2, #T_abf8f_row1_col0, #T_abf8f_row1_col1, #T_abf8f_row1_col2, #T_abf8f_row2_col0, #T_abf8f_row2_col1, #T_abf8f_row2_col2, #T_abf8f_row3_col0, #T_abf8f_row3_col1, #T_abf8f_row3_col2, #T_abf8f_row4_col0, #T_abf8f_row4_col1, #T_abf8f_row4_col2, #T_abf8f_row5_col0, #T_abf8f_row5_col1, #T_abf8f_row5_col2, #T_abf8f_row6_col0, #T_abf8f_row6_col1, #T_abf8f_row6_col2, #T_abf8f_row7_col0, #T_abf8f_row7_col1, #T_abf8f_row7_col2, #T_abf8f_row8_col0, #T_abf8f_row8_col1, #T_abf8f_row8_col2, #T_abf8f_row9_col0, #T_abf8f_row9_col1, #T_abf8f_row9_col2 {\n",
       "  text-align: left;\n",
       "}\n",
       "</style>\n",
       "<table id=\"T_abf8f\">\n",
       "  <thead>\n",
       "    <tr>\n",
       "      <th class=\"blank level0\" >&nbsp;</th>\n",
       "      <th id=\"T_abf8f_level0_col0\" class=\"col_heading level0 col0\" >headline</th>\n",
       "      <th id=\"T_abf8f_level0_col1\" class=\"col_heading level0 col1\" >date</th>\n",
       "      <th id=\"T_abf8f_level0_col2\" class=\"col_heading level0 col2\" >author</th>\n",
       "    </tr>\n",
       "  </thead>\n",
       "  <tbody>\n",
       "    <tr>\n",
       "      <th id=\"T_abf8f_level0_row0\" class=\"row_heading level0 row0\" >0</th>\n",
       "      <td id=\"T_abf8f_row0_col0\" class=\"data row0 col0\" >Armistice Signed</td>\n",
       "      <td id=\"T_abf8f_row0_col1\" class=\"data row0 col1\" > War Over: Celebrations Erupt Across City</td>\n",
       "      <td id=\"T_abf8f_row0_col2\" class=\"data row0 col2\" >1918-11-11</td>\n",
       "    </tr>\n",
       "    <tr>\n",
       "      <th id=\"T_abf8f_level0_row1\" class=\"row_heading level0 row1\" >1</th>\n",
       "      <td id=\"T_abf8f_row1_col0\" class=\"data row1 col0\" >Spanish Flu Pandemic: Hospitals Overwhelmed as Cases Surge</td>\n",
       "      <td id=\"T_abf8f_row1_col1\" class=\"data row1 col1\" >1918-10-15</td>\n",
       "      <td id=\"T_abf8f_row1_col2\" class=\"data row1 col2\" >Jane Smith</td>\n",
       "    </tr>\n",
       "    <tr>\n",
       "      <th id=\"T_abf8f_level0_row2\" class=\"row_heading level0 row2\" >2</th>\n",
       "      <td id=\"T_abf8f_row2_col0\" class=\"data row2 col0\" >Women Gain Right to Vote: Historic Amendment Passed</td>\n",
       "      <td id=\"T_abf8f_row2_col1\" class=\"data row2 col1\" >1918-06-05</td>\n",
       "      <td id=\"T_abf8f_row2_col2\" class=\"data row2 col2\" >Robert Johnson</td>\n",
       "    </tr>\n",
       "    <tr>\n",
       "      <th id=\"T_abf8f_level0_row3\" class=\"row_heading level0 row3\" >3</th>\n",
       "      <td id=\"T_abf8f_row3_col0\" class=\"data row3 col0\" >Broadway Theaters Reopen After Flu Shutdown</td>\n",
       "      <td id=\"T_abf8f_row3_col1\" class=\"data row3 col1\" >1918-12-01</td>\n",
       "      <td id=\"T_abf8f_row3_col2\" class=\"data row3 col2\" >Mary Lee</td>\n",
       "    </tr>\n",
       "    <tr>\n",
       "      <th id=\"T_abf8f_level0_row4\" class=\"row_heading level0 row4\" >4</th>\n",
       "      <td id=\"T_abf8f_row4_col0\" class=\"data row4 col0\" >City Welcomes Returning Soldiers with Parade</td>\n",
       "      <td id=\"T_abf8f_row4_col1\" class=\"data row4 col1\" >1918-11-12</td>\n",
       "      <td id=\"T_abf8f_row4_col2\" class=\"data row4 col2\" >James Brown</td>\n",
       "    </tr>\n",
       "    <tr>\n",
       "      <th id=\"T_abf8f_level0_row5\" class=\"row_heading level0 row5\" >5</th>\n",
       "      <td id=\"T_abf8f_row5_col0\" class=\"data row5 col0\" >Prohibition Debate Heats Up: Public Opinion Divided</td>\n",
       "      <td id=\"T_abf8f_row5_col1\" class=\"data row5 col1\" >1918-07-20</td>\n",
       "      <td id=\"T_abf8f_row5_col2\" class=\"data row5 col2\" >Patricia Green</td>\n",
       "    </tr>\n",
       "    <tr>\n",
       "      <th id=\"T_abf8f_level0_row6\" class=\"row_heading level0 row6\" >6</th>\n",
       "      <td id=\"T_abf8f_row6_col0\" class=\"data row6 col0\" >New York Yankees Win First Pennant in Franchise History</td>\n",
       "      <td id=\"T_abf8f_row6_col1\" class=\"data row6 col1\" >1918-09-30</td>\n",
       "      <td id=\"T_abf8f_row6_col2\" class=\"data row6 col2\" >William Davis</td>\n",
       "    </tr>\n",
       "    <tr>\n",
       "      <th id=\"T_abf8f_level0_row7\" class=\"row_heading level0 row7\" >7</th>\n",
       "      <td id=\"T_abf8f_row7_col0\" class=\"data row7 col0\" >Subway Expansion Project Approved by City Council</td>\n",
       "      <td id=\"T_abf8f_row7_col1\" class=\"data row7 col1\" >1918-08-18</td>\n",
       "      <td id=\"T_abf8f_row7_col2\" class=\"data row7 col2\" >Barbara Wilson</td>\n",
       "    </tr>\n",
       "    <tr>\n",
       "      <th id=\"T_abf8f_level0_row8\" class=\"row_heading level0 row8\" >8</th>\n",
       "      <td id=\"T_abf8f_row8_col0\" class=\"data row8 col0\" >Harlem Renaissance: New Wave of Cultural Expression</td>\n",
       "      <td id=\"T_abf8f_row8_col1\" class=\"data row8 col1\" >1918-04-25</td>\n",
       "      <td id=\"T_abf8f_row8_col2\" class=\"data row8 col2\" >Charles Miller</td>\n",
       "    </tr>\n",
       "    <tr>\n",
       "      <th id=\"T_abf8f_level0_row9\" class=\"row_heading level0 row9\" >9</th>\n",
       "      <td id=\"T_abf8f_row9_col0\" class=\"data row9 col0\" >Mayor Announces New Housing Initiative for Veterans</td>\n",
       "      <td id=\"T_abf8f_row9_col1\" class=\"data row9 col1\" >1918-11-20</td>\n",
       "      <td id=\"T_abf8f_row9_col2\" class=\"data row9 col2\" >Elizabeth Taylor</td>\n",
       "    </tr>\n",
       "  </tbody>\n",
       "</table>\n",
       "\n",
       "            </div>\n",
       "            "
      ],
      "text/plain": [
       "ScenarioList([Scenario({'headline': 'Armistice Signed', 'date': ' War Over: Celebrations Erupt Across City', 'author': '1918-11-11'}), Scenario({'headline': 'Spanish Flu Pandemic: Hospitals Overwhelmed as Cases Surge', 'date': '1918-10-15', 'author': 'Jane Smith'}), Scenario({'headline': 'Women Gain Right to Vote: Historic Amendment Passed', 'date': '1918-06-05', 'author': 'Robert Johnson'}), Scenario({'headline': 'Broadway Theaters Reopen After Flu Shutdown', 'date': '1918-12-01', 'author': 'Mary Lee'}), Scenario({'headline': 'City Welcomes Returning Soldiers with Parade', 'date': '1918-11-12', 'author': 'James Brown'}), Scenario({'headline': 'Prohibition Debate Heats Up: Public Opinion Divided', 'date': '1918-07-20', 'author': 'Patricia Green'}), Scenario({'headline': 'New York Yankees Win First Pennant in Franchise History', 'date': '1918-09-30', 'author': 'William Davis'}), Scenario({'headline': 'Subway Expansion Project Approved by City Council', 'date': '1918-08-18', 'author': 'Barbara Wilson'}), Scenario({'headline': 'Harlem Renaissance: New Wave of Cultural Expression', 'date': '1918-04-25', 'author': 'Charles Miller'}), Scenario({'headline': 'Mayor Announces New Housing Initiative for Veterans', 'date': '1918-11-20', 'author': 'Elizabeth Taylor'})])"
      ]
     },
     "execution_count": 8,
     "metadata": {},
     "output_type": "execute_result"
    }
   ],
   "source": [
    "scenarios"
   ]
  },
  {
   "cell_type": "markdown",
   "id": "7d67366f-4c08-4c30-97a8-4e08946267c3",
   "metadata": {
    "editable": true,
    "slideshow": {
     "slide_type": ""
    },
    "tags": []
   },
   "source": [
    "## Running a survey\n",
    "To run the survey, we add the scenarios with the `by()` method and then call the `run()` method:"
   ]
  },
  {
   "cell_type": "code",
   "execution_count": 9,
   "id": "a9f1c721-efbc-4528-979f-d9d66eb73511",
   "metadata": {
    "editable": true,
    "slideshow": {
     "slide_type": ""
    },
    "tags": []
   },
   "outputs": [
    {
     "data": {
      "text/html": [
       "\n",
       "            <!-- #region Remove Inference Info -->\n",
       "            <div id=\"logger-90238c70-a57f-4ec8-b11a-5f13d1dbf64c\" class=\"job-logger\">\n",
       "                <div class=\"job-logger-header\">\n",
       "                    <span>\n",
       "                        <span id=\"arrow-90238c70-a57f-4ec8-b11a-5f13d1dbf64c\">▼</span> \n",
       "                        Job Status (2025-03-03 07:47:25)\n",
       "                    </span>\n",
       "                </div>\n",
       "                <div id=\"content-90238c70-a57f-4ec8-b11a-5f13d1dbf64c\" style=\"display: block;\">\n",
       "                    <table class=\"job-logger-table\">\n",
       "                        \n",
       "            <tr>\n",
       "                <td class=\"job-logger-cell job-logger-label\">Job UUID</td>\n",
       "                <td class=\"job-logger-cell job-logger-value\">63e37c20-cc66-4c42-a18c-ce93307eaf7b</td>\n",
       "            </tr>\n",
       "        \n",
       "            <tr>\n",
       "                <td class=\"job-logger-cell job-logger-label\">Progress Bar URL</td>\n",
       "                <td class=\"job-logger-cell job-logger-value\"><a href=\"https://www.expectedparrot.com/home/remote-job-progress/63e37c20-cc66-4c42-a18c-ce93307eaf7b\" target=\"_blank\" class=\"job-logger-link\">https://www.expectedparrot.com/home/remote-job-progress/63e37c20-cc66-4c42-a18c-ce93307eaf7b</a></td>\n",
       "            </tr>\n",
       "        \n",
       "            <tr>\n",
       "                <td class=\"job-logger-cell job-logger-label\">Exceptions Report URL</td>\n",
       "                <td class=\"job-logger-cell job-logger-value\">None</td>\n",
       "            </tr>\n",
       "        \n",
       "            <tr>\n",
       "                <td class=\"job-logger-cell job-logger-label\">Results UUID</td>\n",
       "                <td class=\"job-logger-cell job-logger-value\">9a110094-0900-4bf9-8e9e-1951cf90846f</td>\n",
       "            </tr>\n",
       "        \n",
       "            <tr>\n",
       "                <td class=\"job-logger-cell job-logger-label\">Results URL</td>\n",
       "                <td class=\"job-logger-cell job-logger-value\"><a href=\"https://www.expectedparrot.com/content/9a110094-0900-4bf9-8e9e-1951cf90846f\" target=\"_blank\" class=\"job-logger-link\">https://www.expectedparrot.com/content/9a110094-0900-4bf9-8e9e-1951cf90846f</a></td>\n",
       "            </tr>\n",
       "        \n",
       "                    </table>\n",
       "                    \n",
       "                <div class=\"job-logger-status\">\n",
       "                    <span style=\"margin-right: 8px;\" class=\"job-logger-success\">✓</span><strong>Current Status:</strong> Job completed and Results stored on Coop: <a href=\"https://www.expectedparrot.com/content/9a110094-0900-4bf9-8e9e-1951cf90846f\" target=\"_blank\" class=\"job-logger-link\">https://www.expectedparrot.com/content/9a110094-0900-4bf9-8e9e-1951cf90846f</a>\n",
       "                </div>\n",
       "            \n",
       "                </div>\n",
       "            </div>\n",
       "            <!-- # endregion -->\n",
       "        "
      ],
      "text/plain": [
       "<IPython.core.display.HTML object>"
      ]
     },
     "metadata": {},
     "output_type": "display_data"
    },
    {
     "data": {
      "text/html": [
       "\n",
       "        <style>\n",
       "            /* Base theme variables */\n",
       "            :root {\n",
       "                --jl-bg-primary: #ffffff;\n",
       "                --jl-bg-secondary: #f5f5f5;\n",
       "                --jl-border-color: #e0e0e0;\n",
       "                --jl-text-primary: #24292e;\n",
       "                --jl-text-secondary: #586069;\n",
       "                --jl-link-color: #0366d6;\n",
       "                --jl-success-color: #28a745;\n",
       "                --jl-error-color: #d73a49;\n",
       "                --jl-header-bg: #f1f1f1;\n",
       "            }\n",
       "            \n",
       "            /* Dark theme variables */\n",
       "            .theme-dark {\n",
       "                --jl-bg-primary: #1e1e1e;\n",
       "                --jl-bg-secondary: #252526;\n",
       "                --jl-border-color: #2d2d2d;\n",
       "                --jl-text-primary: #cccccc;\n",
       "                --jl-text-secondary: #999999;\n",
       "                --jl-link-color: #4e94ce;\n",
       "                --jl-success-color: #89d185;\n",
       "                --jl-error-color: #f14c4c;\n",
       "                --jl-header-bg: #333333;\n",
       "            }\n",
       "\n",
       "            /* High contrast theme variables */\n",
       "            .theme-high-contrast {\n",
       "                --jl-bg-primary: #000000;\n",
       "                --jl-bg-secondary: #1a1a1a;\n",
       "                --jl-border-color: #404040;\n",
       "                --jl-text-primary: #ffffff;\n",
       "                --jl-text-secondary: #cccccc;\n",
       "                --jl-link-color: #66b3ff;\n",
       "                --jl-success-color: #00ff00;\n",
       "                --jl-error-color: #ff0000;\n",
       "                --jl-header-bg: #262626;\n",
       "            }\n",
       "            \n",
       "            .job-logger {\n",
       "                font-family: system-ui, -apple-system, sans-serif;\n",
       "                max-width: 800px;\n",
       "                margin: 10px 0;\n",
       "                color: var(--jl-text-primary);\n",
       "                box-shadow: 0 1px 3px rgba(0,0,0,0.12);\n",
       "                border-radius: 4px;\n",
       "                overflow: hidden;\n",
       "            }\n",
       "            \n",
       "            .job-logger-header {\n",
       "                padding: 12px 16px;\n",
       "                background: var(--jl-header-bg);\n",
       "                border: none;\n",
       "                border-radius: 4px 4px 0 0;\n",
       "                cursor: pointer;\n",
       "                color: var(--jl-text-primary);\n",
       "                user-select: none;\n",
       "                font-weight: 500;\n",
       "                letter-spacing: 0.3px;\n",
       "                display: flex;\n",
       "                justify-content: space-between;\n",
       "                align-items: center;\n",
       "            }\n",
       "            \n",
       "            .theme-select {\n",
       "                padding: 4px 8px;\n",
       "                border-radius: 4px;\n",
       "                border: 1px solid var(--jl-border-color);\n",
       "                background: var(--jl-bg-primary);\n",
       "                color: var(--jl-text-primary);\n",
       "                font-size: 0.9em;\n",
       "            }\n",
       "            \n",
       "            .job-logger-table {\n",
       "                width: 100%;\n",
       "                border-collapse: separate;\n",
       "                border-spacing: 0;\n",
       "                background: var(--jl-bg-primary);\n",
       "                border: 1px solid var(--jl-border-color);\n",
       "                margin-top: -1px;\n",
       "            }\n",
       "            \n",
       "            .job-logger-cell {\n",
       "                padding: 12px 16px;\n",
       "                border-bottom: 1px solid var(--jl-border-color);\n",
       "                line-height: 1.4;\n",
       "            }\n",
       "            \n",
       "            .job-logger-label {\n",
       "                font-weight: 500;\n",
       "                color: var(--jl-text-primary);\n",
       "                width: 25%;\n",
       "                background: var(--jl-bg-secondary);\n",
       "            }\n",
       "            \n",
       "            .job-logger-value {\n",
       "                color: var(--jl-text-secondary);\n",
       "                word-break: break-word;\n",
       "            }\n",
       "            \n",
       "            .job-logger-status {\n",
       "                margin: 0;\n",
       "                padding: 12px 16px;\n",
       "                background-color: var(--jl-bg-secondary);\n",
       "                border: 1px solid var(--jl-border-color);\n",
       "                border-top: none;\n",
       "                border-radius: 0 0 4px 4px;\n",
       "                color: var(--jl-text-primary);\n",
       "                font-size: 0.95em;\n",
       "            }\n",
       "        </style>\n",
       "        \n",
       "        <script>\n",
       "            class ThemeManager {\n",
       "                constructor(logId, initialTheme = 'auto') {\n",
       "                    this.logId = logId;\n",
       "                    this.currentTheme = initialTheme;\n",
       "                    this.darkModeMediaQuery = window.matchMedia('(prefers-color-scheme: dark)');\n",
       "                    this.init();\n",
       "                }\n",
       "                \n",
       "                init() {\n",
       "                    this.setupThemeSwitcher();\n",
       "                    this.updateTheme(this.currentTheme);\n",
       "                    \n",
       "                    this.darkModeMediaQuery.addListener(() => {\n",
       "                        if (this.currentTheme === 'auto') {\n",
       "                            this.updateTheme('auto');\n",
       "                        }\n",
       "                    });\n",
       "                }\n",
       "                \n",
       "                setupThemeSwitcher() {\n",
       "                    const logger = document.querySelector(`#logger-${this.logId}`);\n",
       "                    if (!logger) return;\n",
       "                    \n",
       "                    const switcher = document.createElement('div');\n",
       "                    switcher.className = 'theme-switcher';\n",
       "                    switcher.innerHTML = `\n",
       "                        <select id=\"theme-select-${this.logId}\" class=\"theme-select\">\n",
       "                            <option value=\"auto\">Auto</option>\n",
       "                            <option value=\"light\">Light</option>\n",
       "                            <option value=\"dark\">Dark</option>\n",
       "                            <option value=\"high-contrast\">High Contrast</option>\n",
       "                        </select>\n",
       "                    `;\n",
       "                    \n",
       "                    const header = logger.querySelector('.job-logger-header');\n",
       "                    header.appendChild(switcher);\n",
       "                    \n",
       "                    const select = switcher.querySelector('select');\n",
       "                    select.value = this.currentTheme;\n",
       "                    select.addEventListener('change', (e) => {\n",
       "                        this.updateTheme(e.target.value);\n",
       "                    });\n",
       "                }\n",
       "                \n",
       "                updateTheme(theme) {\n",
       "                    const logger = document.querySelector(`#logger-${this.logId}`);\n",
       "                    if (!logger) return;\n",
       "                    \n",
       "                    this.currentTheme = theme;\n",
       "                    \n",
       "                    logger.classList.remove('theme-light', 'theme-dark', 'theme-high-contrast');\n",
       "                    \n",
       "                    if (theme === 'auto') {\n",
       "                        const isDark = this.darkModeMediaQuery.matches;\n",
       "                        logger.classList.add(isDark ? 'theme-dark' : 'theme-light');\n",
       "                    } else {\n",
       "                        logger.classList.add(`theme-${theme}`);\n",
       "                    }\n",
       "                    \n",
       "                    try {\n",
       "                        localStorage.setItem('jobLoggerTheme', theme);\n",
       "                    } catch (e) {\n",
       "                        console.warn('Unable to save theme preference:', e);\n",
       "                    }\n",
       "                }\n",
       "            }\n",
       "            \n",
       "            window.initThemeManager = (logId, initialTheme) => {\n",
       "                new ThemeManager(logId, initialTheme);\n",
       "            };\n",
       "        </script>\n",
       "        \n",
       "        <script>\n",
       "            document.addEventListener('DOMContentLoaded', () => {\n",
       "                window.initThemeManager('90238c70-a57f-4ec8-b11a-5f13d1dbf64c', 'auto');\n",
       "            });\n",
       "        </script>\n",
       "        "
      ],
      "text/plain": [
       "<IPython.core.display.HTML object>"
      ]
     },
     "metadata": {},
     "output_type": "display_data"
    }
   ],
   "source": [
    "results = survey.by(scenarios).run()"
   ]
  },
  {
   "cell_type": "markdown",
   "id": "ebfb309b-92a3-4094-9d8b-6ceac2962180",
   "metadata": {
    "editable": true,
    "slideshow": {
     "slide_type": ""
    },
    "tags": []
   },
   "source": [
    "This generates a dataset of `Results` that we can access with [built-in methods for analysis](https://docs.expectedparrot.com/en/latest/results.html). \n",
    "To see a list of all the components of results:"
   ]
  },
  {
   "cell_type": "code",
   "execution_count": 10,
   "id": "f204979e-2985-4eb1-af76-1ca81c8653d1",
   "metadata": {
    "editable": true,
    "slideshow": {
     "slide_type": ""
    },
    "tags": []
   },
   "outputs": [
    {
     "data": {
      "text/html": [
       "\n",
       "            <div style=\"max-height: 500px; overflow-y: auto;\">\n",
       "                <style type=\"text/css\">\n",
       "#T_d5a5b_row0_col0, #T_d5a5b_row1_col0, #T_d5a5b_row2_col0, #T_d5a5b_row3_col0, #T_d5a5b_row4_col0, #T_d5a5b_row5_col0, #T_d5a5b_row6_col0, #T_d5a5b_row7_col0, #T_d5a5b_row8_col0, #T_d5a5b_row9_col0, #T_d5a5b_row10_col0, #T_d5a5b_row11_col0, #T_d5a5b_row12_col0, #T_d5a5b_row13_col0, #T_d5a5b_row14_col0, #T_d5a5b_row15_col0, #T_d5a5b_row16_col0, #T_d5a5b_row17_col0, #T_d5a5b_row18_col0, #T_d5a5b_row19_col0, #T_d5a5b_row20_col0, #T_d5a5b_row21_col0, #T_d5a5b_row22_col0, #T_d5a5b_row23_col0, #T_d5a5b_row24_col0, #T_d5a5b_row25_col0, #T_d5a5b_row26_col0, #T_d5a5b_row27_col0, #T_d5a5b_row28_col0, #T_d5a5b_row29_col0, #T_d5a5b_row30_col0, #T_d5a5b_row31_col0, #T_d5a5b_row32_col0, #T_d5a5b_row33_col0, #T_d5a5b_row34_col0, #T_d5a5b_row35_col0, #T_d5a5b_row36_col0, #T_d5a5b_row37_col0, #T_d5a5b_row38_col0, #T_d5a5b_row39_col0, #T_d5a5b_row40_col0, #T_d5a5b_row41_col0, #T_d5a5b_row42_col0, #T_d5a5b_row43_col0 {\n",
       "  text-align: left;\n",
       "}\n",
       "</style>\n",
       "<table id=\"T_d5a5b\">\n",
       "  <thead>\n",
       "    <tr>\n",
       "      <th class=\"blank level0\" >&nbsp;</th>\n",
       "      <th id=\"T_d5a5b_level0_col0\" class=\"col_heading level0 col0\" >0</th>\n",
       "    </tr>\n",
       "  </thead>\n",
       "  <tbody>\n",
       "    <tr>\n",
       "      <th id=\"T_d5a5b_level0_row0\" class=\"row_heading level0 row0\" >0</th>\n",
       "      <td id=\"T_d5a5b_row0_col0\" class=\"data row0 col0\" >agent.agent_index</td>\n",
       "    </tr>\n",
       "    <tr>\n",
       "      <th id=\"T_d5a5b_level0_row1\" class=\"row_heading level0 row1\" >1</th>\n",
       "      <td id=\"T_d5a5b_row1_col0\" class=\"data row1 col0\" >agent.agent_instruction</td>\n",
       "    </tr>\n",
       "    <tr>\n",
       "      <th id=\"T_d5a5b_level0_row2\" class=\"row_heading level0 row2\" >2</th>\n",
       "      <td id=\"T_d5a5b_row2_col0\" class=\"data row2 col0\" >agent.agent_name</td>\n",
       "    </tr>\n",
       "    <tr>\n",
       "      <th id=\"T_d5a5b_level0_row3\" class=\"row_heading level0 row3\" >3</th>\n",
       "      <td id=\"T_d5a5b_row3_col0\" class=\"data row3 col0\" >answer.reference</td>\n",
       "    </tr>\n",
       "    <tr>\n",
       "      <th id=\"T_d5a5b_level0_row4\" class=\"row_heading level0 row4\" >4</th>\n",
       "      <td id=\"T_d5a5b_row4_col0\" class=\"data row4 col0\" >answer.section</td>\n",
       "    </tr>\n",
       "    <tr>\n",
       "      <th id=\"T_d5a5b_level0_row5\" class=\"row_heading level0 row5\" >5</th>\n",
       "      <td id=\"T_d5a5b_row5_col0\" class=\"data row5 col0\" >cache_keys.reference_cache_key</td>\n",
       "    </tr>\n",
       "    <tr>\n",
       "      <th id=\"T_d5a5b_level0_row6\" class=\"row_heading level0 row6\" >6</th>\n",
       "      <td id=\"T_d5a5b_row6_col0\" class=\"data row6 col0\" >cache_keys.section_cache_key</td>\n",
       "    </tr>\n",
       "    <tr>\n",
       "      <th id=\"T_d5a5b_level0_row7\" class=\"row_heading level0 row7\" >7</th>\n",
       "      <td id=\"T_d5a5b_row7_col0\" class=\"data row7 col0\" >cache_used.reference_cache_used</td>\n",
       "    </tr>\n",
       "    <tr>\n",
       "      <th id=\"T_d5a5b_level0_row8\" class=\"row_heading level0 row8\" >8</th>\n",
       "      <td id=\"T_d5a5b_row8_col0\" class=\"data row8 col0\" >cache_used.section_cache_used</td>\n",
       "    </tr>\n",
       "    <tr>\n",
       "      <th id=\"T_d5a5b_level0_row9\" class=\"row_heading level0 row9\" >9</th>\n",
       "      <td id=\"T_d5a5b_row9_col0\" class=\"data row9 col0\" >comment.reference_comment</td>\n",
       "    </tr>\n",
       "    <tr>\n",
       "      <th id=\"T_d5a5b_level0_row10\" class=\"row_heading level0 row10\" >10</th>\n",
       "      <td id=\"T_d5a5b_row10_col0\" class=\"data row10 col0\" >comment.section_comment</td>\n",
       "    </tr>\n",
       "    <tr>\n",
       "      <th id=\"T_d5a5b_level0_row11\" class=\"row_heading level0 row11\" >11</th>\n",
       "      <td id=\"T_d5a5b_row11_col0\" class=\"data row11 col0\" >generated_tokens.reference_generated_tokens</td>\n",
       "    </tr>\n",
       "    <tr>\n",
       "      <th id=\"T_d5a5b_level0_row12\" class=\"row_heading level0 row12\" >12</th>\n",
       "      <td id=\"T_d5a5b_row12_col0\" class=\"data row12 col0\" >generated_tokens.section_generated_tokens</td>\n",
       "    </tr>\n",
       "    <tr>\n",
       "      <th id=\"T_d5a5b_level0_row13\" class=\"row_heading level0 row13\" >13</th>\n",
       "      <td id=\"T_d5a5b_row13_col0\" class=\"data row13 col0\" >iteration.iteration</td>\n",
       "    </tr>\n",
       "    <tr>\n",
       "      <th id=\"T_d5a5b_level0_row14\" class=\"row_heading level0 row14\" >14</th>\n",
       "      <td id=\"T_d5a5b_row14_col0\" class=\"data row14 col0\" >model.frequency_penalty</td>\n",
       "    </tr>\n",
       "    <tr>\n",
       "      <th id=\"T_d5a5b_level0_row15\" class=\"row_heading level0 row15\" >15</th>\n",
       "      <td id=\"T_d5a5b_row15_col0\" class=\"data row15 col0\" >model.inference_service</td>\n",
       "    </tr>\n",
       "    <tr>\n",
       "      <th id=\"T_d5a5b_level0_row16\" class=\"row_heading level0 row16\" >16</th>\n",
       "      <td id=\"T_d5a5b_row16_col0\" class=\"data row16 col0\" >model.logprobs</td>\n",
       "    </tr>\n",
       "    <tr>\n",
       "      <th id=\"T_d5a5b_level0_row17\" class=\"row_heading level0 row17\" >17</th>\n",
       "      <td id=\"T_d5a5b_row17_col0\" class=\"data row17 col0\" >model.max_tokens</td>\n",
       "    </tr>\n",
       "    <tr>\n",
       "      <th id=\"T_d5a5b_level0_row18\" class=\"row_heading level0 row18\" >18</th>\n",
       "      <td id=\"T_d5a5b_row18_col0\" class=\"data row18 col0\" >model.model</td>\n",
       "    </tr>\n",
       "    <tr>\n",
       "      <th id=\"T_d5a5b_level0_row19\" class=\"row_heading level0 row19\" >19</th>\n",
       "      <td id=\"T_d5a5b_row19_col0\" class=\"data row19 col0\" >model.model_index</td>\n",
       "    </tr>\n",
       "    <tr>\n",
       "      <th id=\"T_d5a5b_level0_row20\" class=\"row_heading level0 row20\" >20</th>\n",
       "      <td id=\"T_d5a5b_row20_col0\" class=\"data row20 col0\" >model.presence_penalty</td>\n",
       "    </tr>\n",
       "    <tr>\n",
       "      <th id=\"T_d5a5b_level0_row21\" class=\"row_heading level0 row21\" >21</th>\n",
       "      <td id=\"T_d5a5b_row21_col0\" class=\"data row21 col0\" >model.temperature</td>\n",
       "    </tr>\n",
       "    <tr>\n",
       "      <th id=\"T_d5a5b_level0_row22\" class=\"row_heading level0 row22\" >22</th>\n",
       "      <td id=\"T_d5a5b_row22_col0\" class=\"data row22 col0\" >model.top_logprobs</td>\n",
       "    </tr>\n",
       "    <tr>\n",
       "      <th id=\"T_d5a5b_level0_row23\" class=\"row_heading level0 row23\" >23</th>\n",
       "      <td id=\"T_d5a5b_row23_col0\" class=\"data row23 col0\" >model.top_p</td>\n",
       "    </tr>\n",
       "    <tr>\n",
       "      <th id=\"T_d5a5b_level0_row24\" class=\"row_heading level0 row24\" >24</th>\n",
       "      <td id=\"T_d5a5b_row24_col0\" class=\"data row24 col0\" >prompt.reference_system_prompt</td>\n",
       "    </tr>\n",
       "    <tr>\n",
       "      <th id=\"T_d5a5b_level0_row25\" class=\"row_heading level0 row25\" >25</th>\n",
       "      <td id=\"T_d5a5b_row25_col0\" class=\"data row25 col0\" >prompt.reference_user_prompt</td>\n",
       "    </tr>\n",
       "    <tr>\n",
       "      <th id=\"T_d5a5b_level0_row26\" class=\"row_heading level0 row26\" >26</th>\n",
       "      <td id=\"T_d5a5b_row26_col0\" class=\"data row26 col0\" >prompt.section_system_prompt</td>\n",
       "    </tr>\n",
       "    <tr>\n",
       "      <th id=\"T_d5a5b_level0_row27\" class=\"row_heading level0 row27\" >27</th>\n",
       "      <td id=\"T_d5a5b_row27_col0\" class=\"data row27 col0\" >prompt.section_user_prompt</td>\n",
       "    </tr>\n",
       "    <tr>\n",
       "      <th id=\"T_d5a5b_level0_row28\" class=\"row_heading level0 row28\" >28</th>\n",
       "      <td id=\"T_d5a5b_row28_col0\" class=\"data row28 col0\" >question_options.reference_question_options</td>\n",
       "    </tr>\n",
       "    <tr>\n",
       "      <th id=\"T_d5a5b_level0_row29\" class=\"row_heading level0 row29\" >29</th>\n",
       "      <td id=\"T_d5a5b_row29_col0\" class=\"data row29 col0\" >question_options.section_question_options</td>\n",
       "    </tr>\n",
       "    <tr>\n",
       "      <th id=\"T_d5a5b_level0_row30\" class=\"row_heading level0 row30\" >30</th>\n",
       "      <td id=\"T_d5a5b_row30_col0\" class=\"data row30 col0\" >question_text.reference_question_text</td>\n",
       "    </tr>\n",
       "    <tr>\n",
       "      <th id=\"T_d5a5b_level0_row31\" class=\"row_heading level0 row31\" >31</th>\n",
       "      <td id=\"T_d5a5b_row31_col0\" class=\"data row31 col0\" >question_text.section_question_text</td>\n",
       "    </tr>\n",
       "    <tr>\n",
       "      <th id=\"T_d5a5b_level0_row32\" class=\"row_heading level0 row32\" >32</th>\n",
       "      <td id=\"T_d5a5b_row32_col0\" class=\"data row32 col0\" >question_type.reference_question_type</td>\n",
       "    </tr>\n",
       "    <tr>\n",
       "      <th id=\"T_d5a5b_level0_row33\" class=\"row_heading level0 row33\" >33</th>\n",
       "      <td id=\"T_d5a5b_row33_col0\" class=\"data row33 col0\" >question_type.section_question_type</td>\n",
       "    </tr>\n",
       "    <tr>\n",
       "      <th id=\"T_d5a5b_level0_row34\" class=\"row_heading level0 row34\" >34</th>\n",
       "      <td id=\"T_d5a5b_row34_col0\" class=\"data row34 col0\" >raw_model_response.reference_cost</td>\n",
       "    </tr>\n",
       "    <tr>\n",
       "      <th id=\"T_d5a5b_level0_row35\" class=\"row_heading level0 row35\" >35</th>\n",
       "      <td id=\"T_d5a5b_row35_col0\" class=\"data row35 col0\" >raw_model_response.reference_one_usd_buys</td>\n",
       "    </tr>\n",
       "    <tr>\n",
       "      <th id=\"T_d5a5b_level0_row36\" class=\"row_heading level0 row36\" >36</th>\n",
       "      <td id=\"T_d5a5b_row36_col0\" class=\"data row36 col0\" >raw_model_response.reference_raw_model_response</td>\n",
       "    </tr>\n",
       "    <tr>\n",
       "      <th id=\"T_d5a5b_level0_row37\" class=\"row_heading level0 row37\" >37</th>\n",
       "      <td id=\"T_d5a5b_row37_col0\" class=\"data row37 col0\" >raw_model_response.section_cost</td>\n",
       "    </tr>\n",
       "    <tr>\n",
       "      <th id=\"T_d5a5b_level0_row38\" class=\"row_heading level0 row38\" >38</th>\n",
       "      <td id=\"T_d5a5b_row38_col0\" class=\"data row38 col0\" >raw_model_response.section_one_usd_buys</td>\n",
       "    </tr>\n",
       "    <tr>\n",
       "      <th id=\"T_d5a5b_level0_row39\" class=\"row_heading level0 row39\" >39</th>\n",
       "      <td id=\"T_d5a5b_row39_col0\" class=\"data row39 col0\" >raw_model_response.section_raw_model_response</td>\n",
       "    </tr>\n",
       "    <tr>\n",
       "      <th id=\"T_d5a5b_level0_row40\" class=\"row_heading level0 row40\" >40</th>\n",
       "      <td id=\"T_d5a5b_row40_col0\" class=\"data row40 col0\" >scenario.author</td>\n",
       "    </tr>\n",
       "    <tr>\n",
       "      <th id=\"T_d5a5b_level0_row41\" class=\"row_heading level0 row41\" >41</th>\n",
       "      <td id=\"T_d5a5b_row41_col0\" class=\"data row41 col0\" >scenario.date</td>\n",
       "    </tr>\n",
       "    <tr>\n",
       "      <th id=\"T_d5a5b_level0_row42\" class=\"row_heading level0 row42\" >42</th>\n",
       "      <td id=\"T_d5a5b_row42_col0\" class=\"data row42 col0\" >scenario.headline</td>\n",
       "    </tr>\n",
       "    <tr>\n",
       "      <th id=\"T_d5a5b_level0_row43\" class=\"row_heading level0 row43\" >43</th>\n",
       "      <td id=\"T_d5a5b_row43_col0\" class=\"data row43 col0\" >scenario.scenario_index</td>\n",
       "    </tr>\n",
       "  </tbody>\n",
       "</table>\n",
       "\n",
       "            </div>\n",
       "            "
      ],
      "text/plain": [
       "PrettyList(['agent.agent_index',\n",
       "            'agent.agent_instruction',\n",
       "            'agent.agent_name',\n",
       "            'answer.reference',\n",
       "            'answer.section',\n",
       "            'cache_keys.reference_cache_key',\n",
       "            'cache_keys.section_cache_key',\n",
       "            'cache_used.reference_cache_used',\n",
       "            'cache_used.section_cache_used',\n",
       "            'comment.reference_comment',\n",
       "            'comment.section_comment',\n",
       "            'generated_tokens.reference_generated_tokens',\n",
       "            'generated_tokens.section_generated_tokens',\n",
       "            'iteration.iteration',\n",
       "            'model.frequency_penalty',\n",
       "            'model.inference_service',\n",
       "            'model.logprobs',\n",
       "            'model.max_tokens',\n",
       "            'model.model',\n",
       "            'model.model_index',\n",
       "            'model.presence_penalty',\n",
       "            'model.temperature',\n",
       "            'model.top_logprobs',\n",
       "            'model.top_p',\n",
       "            'prompt.reference_system_prompt',\n",
       "            'prompt.reference_user_prompt',\n",
       "            'prompt.section_system_prompt',\n",
       "            'prompt.section_user_prompt',\n",
       "            'question_options.reference_question_options',\n",
       "            'question_options.section_question_options',\n",
       "            'question_text.reference_question_text',\n",
       "            'question_text.section_question_text',\n",
       "            'question_type.reference_question_type',\n",
       "            'question_type.section_question_type',\n",
       "            'raw_model_response.reference_cost',\n",
       "            'raw_model_response.reference_one_usd_buys',\n",
       "            'raw_model_response.reference_raw_model_response',\n",
       "            'raw_model_response.section_cost',\n",
       "            'raw_model_response.section_one_usd_buys',\n",
       "            'raw_model_response.section_raw_model_response',\n",
       "            'scenario.author',\n",
       "            'scenario.date',\n",
       "            'scenario.headline',\n",
       "            'scenario.scenario_index'])"
      ]
     },
     "execution_count": 10,
     "metadata": {},
     "output_type": "execute_result"
    }
   ],
   "source": [
    "results.columns"
   ]
  },
  {
   "cell_type": "markdown",
   "id": "e0437657-f4ad-4cca-8ce3-b996f5a71d05",
   "metadata": {
    "editable": true,
    "slideshow": {
     "slide_type": ""
    },
    "tags": []
   },
   "source": [
    "For example, we can filter, sort, select and print components of results in a table:"
   ]
  },
  {
   "cell_type": "code",
   "execution_count": 11,
   "id": "e9988f68-50d7-4124-bd15-2986fb287e1c",
   "metadata": {
    "editable": true,
    "slideshow": {
     "slide_type": ""
    },
    "tags": []
   },
   "outputs": [
    {
     "data": {
      "text/html": [
       "\n",
       "            <div style=\"max-height: 500px; overflow-y: auto;\">\n",
       "                <style type=\"text/css\">\n",
       "#T_a1ecb_row0_col0, #T_a1ecb_row0_col1, #T_a1ecb_row0_col2, #T_a1ecb_row0_col3, #T_a1ecb_row0_col4, #T_a1ecb_row1_col0, #T_a1ecb_row1_col1, #T_a1ecb_row1_col2, #T_a1ecb_row1_col3, #T_a1ecb_row1_col4, #T_a1ecb_row2_col0, #T_a1ecb_row2_col1, #T_a1ecb_row2_col2, #T_a1ecb_row2_col3, #T_a1ecb_row2_col4, #T_a1ecb_row3_col0, #T_a1ecb_row3_col1, #T_a1ecb_row3_col2, #T_a1ecb_row3_col3, #T_a1ecb_row3_col4 {\n",
       "  text-align: left;\n",
       "}\n",
       "</style>\n",
       "<table id=\"T_a1ecb\">\n",
       "  <thead>\n",
       "    <tr>\n",
       "      <th class=\"blank level0\" >&nbsp;</th>\n",
       "      <th id=\"T_a1ecb_level0_col0\" class=\"col_heading level0 col0\" >scenario.headline</th>\n",
       "      <th id=\"T_a1ecb_level0_col1\" class=\"col_heading level0 col1\" >scenario.date</th>\n",
       "      <th id=\"T_a1ecb_level0_col2\" class=\"col_heading level0 col2\" >scenario.author</th>\n",
       "      <th id=\"T_a1ecb_level0_col3\" class=\"col_heading level0 col3\" >answer.section</th>\n",
       "      <th id=\"T_a1ecb_level0_col4\" class=\"col_heading level0 col4\" >answer.reference</th>\n",
       "    </tr>\n",
       "  </thead>\n",
       "  <tbody>\n",
       "    <tr>\n",
       "      <th id=\"T_a1ecb_level0_row0\" class=\"row_heading level0 row0\" >0</th>\n",
       "      <td id=\"T_a1ecb_row0_col0\" class=\"data row0 col0\" >Spanish Flu Pandemic: Hospitals Overwhelmed as Cases Surge</td>\n",
       "      <td id=\"T_a1ecb_row0_col1\" class=\"data row0 col1\" >1918-10-15</td>\n",
       "      <td id=\"T_a1ecb_row0_col2\" class=\"data row0 col2\" >Jane Smith</td>\n",
       "      <td id=\"T_a1ecb_row0_col3\" class=\"data row0 col3\" >Health</td>\n",
       "      <td id=\"T_a1ecb_row0_col4\" class=\"data row0 col4\" >The headline \"Spanish Flu Pandemic: Hospitals Overwhelmed as Cases Surge\" is referring to the 1918 influenza pandemic, commonly known as the Spanish Flu. This pandemic was caused by the H1N1 influenza A virus and is considered one of the deadliest pandemics in history. It occurred in three waves between 1918 and 1919, infecting about one-third of the world's population and causing an estimated 50 million deaths globally. The headline likely describes a scenario from that period when hospitals were overwhelmed due to the rapid and widespread increase in cases, leading to significant challenges in medical care and public health responses.</td>\n",
       "    </tr>\n",
       "    <tr>\n",
       "      <th id=\"T_a1ecb_level0_row1\" class=\"row_heading level0 row1\" >1</th>\n",
       "      <td id=\"T_a1ecb_row1_col0\" class=\"data row1 col0\" >Women Gain Right to Vote: Historic Amendment Passed</td>\n",
       "      <td id=\"T_a1ecb_row1_col1\" class=\"data row1 col1\" >1918-06-05</td>\n",
       "      <td id=\"T_a1ecb_row1_col2\" class=\"data row1 col2\" >Robert Johnson</td>\n",
       "      <td id=\"T_a1ecb_row1_col3\" class=\"data row1 col3\" >Politics</td>\n",
       "      <td id=\"T_a1ecb_row1_col4\" class=\"data row1 col4\" >The headline \"Women Gain Right to Vote: Historic Amendment Passed\" refers to the passage of the 19th Amendment to the United States Constitution. This amendment, ratified on August 18, 1920, granted American women the legal right to vote, marking a significant victory for the women's suffrage movement in the United States.</td>\n",
       "    </tr>\n",
       "    <tr>\n",
       "      <th id=\"T_a1ecb_level0_row2\" class=\"row_heading level0 row2\" >2</th>\n",
       "      <td id=\"T_a1ecb_row2_col0\" class=\"data row2 col0\" >Prohibition Debate Heats Up: Public Opinion Divided</td>\n",
       "      <td id=\"T_a1ecb_row2_col1\" class=\"data row2 col1\" >1918-07-20</td>\n",
       "      <td id=\"T_a1ecb_row2_col2\" class=\"data row2 col2\" >Patricia Green</td>\n",
       "      <td id=\"T_a1ecb_row2_col3\" class=\"data row2 col3\" >Politics</td>\n",
       "      <td id=\"T_a1ecb_row2_col4\" class=\"data row2 col4\" >The headline \"Prohibition Debate Heats Up: Public Opinion Divided\" likely refers to a renewed discussion or controversy surrounding the topic of prohibition, which historically refers to the legal act of prohibiting the manufacture, transportation, and sale of alcohol. This could be in the context of a historical analysis, a modern-day debate about similar regulatory measures on substances like cannabis, or even discussions about new substances or issues where prohibition is being considered. The headline suggests that there is a significant divide in public opinion on the matter, indicating that it is a contentious issue with strong arguments on both sides.</td>\n",
       "    </tr>\n",
       "    <tr>\n",
       "      <th id=\"T_a1ecb_level0_row3\" class=\"row_heading level0 row3\" >3</th>\n",
       "      <td id=\"T_a1ecb_row3_col0\" class=\"data row3 col0\" >New York Yankees Win First Pennant in Franchise History</td>\n",
       "      <td id=\"T_a1ecb_row3_col1\" class=\"data row3 col1\" >1918-09-30</td>\n",
       "      <td id=\"T_a1ecb_row3_col2\" class=\"data row3 col2\" >William Davis</td>\n",
       "      <td id=\"T_a1ecb_row3_col3\" class=\"data row3 col3\" >Sports</td>\n",
       "      <td id=\"T_a1ecb_row3_col4\" class=\"data row3 col4\" >The headline \"New York Yankees Win First Pennant in Franchise History\" is likely referring to a fictional or hypothetical scenario, as the New York Yankees are one of the most successful and storied franchises in Major League Baseball (MLB) history. The Yankees won their first American League pennant in 1921. Since then, they have won numerous pennants and World Series titles. If this headline appears in a real context, it might be part of an alternate history, a satirical piece, or a commemorative article reflecting on the team's early history.</td>\n",
       "    </tr>\n",
       "  </tbody>\n",
       "</table>\n",
       "\n",
       "            </div>\n",
       "            "
      ],
      "text/plain": [
       "Dataset([{'scenario.headline': ['Spanish Flu Pandemic: Hospitals Overwhelmed as Cases Surge', 'Women Gain Right to Vote: Historic Amendment Passed', 'Prohibition Debate Heats Up: Public Opinion Divided', 'New York Yankees Win First Pennant in Franchise History']}, {'scenario.date': ['1918-10-15', '1918-06-05', '1918-07-20', '1918-09-30']}, {'scenario.author': ['Jane Smith', 'Robert Johnson', 'Patricia Green', 'William Davis']}, {'answer.section': ['Health', 'Politics', 'Politics', 'Sports']}, {'answer.reference': ['The headline \"Spanish Flu Pandemic: Hospitals Overwhelmed as Cases Surge\" is referring to the 1918 influenza pandemic, commonly known as the Spanish Flu. This pandemic was caused by the H1N1 influenza A virus and is considered one of the deadliest pandemics in history. It occurred in three waves between 1918 and 1919, infecting about one-third of the world\\'s population and causing an estimated 50 million deaths globally. The headline likely describes a scenario from that period when hospitals were overwhelmed due to the rapid and widespread increase in cases, leading to significant challenges in medical care and public health responses.', 'The headline \"Women Gain Right to Vote: Historic Amendment Passed\" refers to the passage of the 19th Amendment to the United States Constitution. This amendment, ratified on August 18, 1920, granted American women the legal right to vote, marking a significant victory for the women\\'s suffrage movement in the United States.', 'The headline \"Prohibition Debate Heats Up: Public Opinion Divided\" likely refers to a renewed discussion or controversy surrounding the topic of prohibition, which historically refers to the legal act of prohibiting the manufacture, transportation, and sale of alcohol. This could be in the context of a historical analysis, a modern-day debate about similar regulatory measures on substances like cannabis, or even discussions about new substances or issues where prohibition is being considered. The headline suggests that there is a significant divide in public opinion on the matter, indicating that it is a contentious issue with strong arguments on both sides.', 'The headline \"New York Yankees Win First Pennant in Franchise History\" is likely referring to a fictional or hypothetical scenario, as the New York Yankees are one of the most successful and storied franchises in Major League Baseball (MLB) history. The Yankees won their first American League pennant in 1921. Since then, they have won numerous pennants and World Series titles. If this headline appears in a real context, it might be part of an alternate history, a satirical piece, or a commemorative article reflecting on the team\\'s early history.']}])"
      ]
     },
     "execution_count": 11,
     "metadata": {},
     "output_type": "execute_result"
    }
   ],
   "source": [
    "(\n",
    "    results\n",
    "    .filter(\"section in ['Sports', 'Health', 'Politics']\")\n",
    "    .sort_by(\"section\", \"date\")\n",
    "    .select(\"headline\", \"date\", \"author\", \"section\", \"reference\")\n",
    ")"
   ]
  },
  {
   "cell_type": "markdown",
   "id": "3c774c6f-69c0-400b-bf45-48094944156b",
   "metadata": {
    "editable": true,
    "slideshow": {
     "slide_type": ""
    },
    "tags": []
   },
   "source": [
    "## Posting to the Coop\n",
    "The [Coop](https://www.expectedparrot.com/content/explore) is a platform for creating, storing and sharing LLM-based research.\n",
    "It is fully integrated with EDSL and accessible from your workspace or Coop account page.\n",
    "Learn more about [creating an account](https://www.expectedparrot.com/login) and [using the Coop](https://docs.expectedparrot.com/en/latest/coop.html).\n",
    "\n",
    "Here we post the scenarios, survey and results from above, and this notebook:"
   ]
  },
  {
   "cell_type": "code",
   "execution_count": 12,
   "id": "aeaa01b0-7bc2-48c8-a5f1-4d39a1dd8a10",
   "metadata": {
    "editable": true,
    "slideshow": {
     "slide_type": ""
    },
    "tags": [
     "skip-execution"
    ]
   },
   "outputs": [
    {
     "data": {
      "text/plain": [
       "{'description': 'Scenarios for example survey using metadata',\n",
       " 'object_type': 'scenario_list',\n",
       " 'url': 'https://www.expectedparrot.com/content/3dab0bec-eac2-4e99-8e56-479ceaa4d7a5',\n",
       " 'uuid': '3dab0bec-eac2-4e99-8e56-479ceaa4d7a5',\n",
       " 'version': '0.1.47.dev1',\n",
       " 'visibility': 'public'}"
      ]
     },
     "execution_count": 12,
     "metadata": {},
     "output_type": "execute_result"
    }
   ],
   "source": [
    "scenarios.push(\n",
    "    description = \"Scenarios for example survey using metadata\", \n",
    "    alias = \"example-scenarios-metadata\", \n",
    "    visibility = \"public\"\n",
    ")"
   ]
  },
  {
   "cell_type": "code",
   "execution_count": 13,
   "id": "ca9da47f-ff87-4a51-9a95-b2d6366db869",
   "metadata": {
    "editable": true,
    "slideshow": {
     "slide_type": ""
    },
    "tags": [
     "skip-execution"
    ]
   },
   "outputs": [
    {
     "data": {
      "text/plain": [
       "{'description': 'Example survey using scenarios to add metadata to results',\n",
       " 'object_type': 'survey',\n",
       " 'url': 'https://www.expectedparrot.com/content/dd02126e-fadc-4ce6-bf33-757889764397',\n",
       " 'uuid': 'dd02126e-fadc-4ce6-bf33-757889764397',\n",
       " 'version': '0.1.47.dev1',\n",
       " 'visibility': 'public'}"
      ]
     },
     "execution_count": 13,
     "metadata": {},
     "output_type": "execute_result"
    }
   ],
   "source": [
    "survey.push(\n",
    "    description = \"Example survey using scenarios to add metadata to results\", \n",
    "    alias = \"example-survey-scenarios-metadata\",\n",
    "    visibility = \"public\"\n",
    ")"
   ]
  },
  {
   "cell_type": "code",
   "execution_count": 14,
   "id": "0b80af48-4e24-4066-9ae0-ddea23496e42",
   "metadata": {
    "editable": true,
    "slideshow": {
     "slide_type": ""
    },
    "tags": [
     "skip-execution"
    ]
   },
   "outputs": [],
   "source": [
    "from edsl import Notebook"
   ]
  },
  {
   "cell_type": "code",
   "execution_count": 15,
   "id": "e1118104-211f-4dc5-bce4-b082a0af6003",
   "metadata": {
    "editable": true,
    "slideshow": {
     "slide_type": ""
    },
    "tags": [
     "skip-execution"
    ]
   },
   "outputs": [],
   "source": [
    "n = Notebook(path = \"adding_metadata.ipynb\")"
   ]
  },
  {
   "cell_type": "code",
   "execution_count": 16,
   "id": "71c529cb-93db-4fb0-8012-b916fbfbb03b",
   "metadata": {
    "editable": true,
    "slideshow": {
     "slide_type": ""
    },
    "tags": [
     "skip-execution"
    ]
   },
   "outputs": [
    {
     "data": {
      "text/plain": [
       "{'description': 'Adding metadata to survey results',\n",
       " 'object_type': 'notebook',\n",
       " 'url': 'https://www.expectedparrot.com/content/f938c278-4c25-4e9c-8eef-36735e83530d',\n",
       " 'uuid': 'f938c278-4c25-4e9c-8eef-36735e83530d',\n",
       " 'version': '0.1.47.dev1',\n",
       " 'visibility': 'public'}"
      ]
     },
     "execution_count": 16,
     "metadata": {},
     "output_type": "execute_result"
    }
   ],
   "source": [
    "info = n.push(\n",
    "    description = \"Adding metadata to survey results\", \n",
    "    alias = \"adding-metadata-survey-results\",\n",
    "    visibility = \"public\"\n",
    ")\n",
    "info"
   ]
  },
  {
   "cell_type": "markdown",
   "id": "baeb3c9d-6b81-4dbc-b853-b98e0d1f90ed",
   "metadata": {
    "editable": true,
    "slideshow": {
     "slide_type": ""
    },
    "tags": []
   },
   "source": [
    "To update an object at the Coop:"
   ]
  },
  {
   "cell_type": "code",
   "execution_count": 20,
   "id": "9f561c5d-e889-44b6-a7e5-2b2a94f1a4db",
   "metadata": {
    "editable": true,
    "slideshow": {
     "slide_type": ""
    },
    "tags": [
     "skip-execution"
    ]
   },
   "outputs": [],
   "source": [
    "n = Notebook(\"adding_metadata.ipynb\") # resave"
   ]
  },
  {
   "cell_type": "code",
   "execution_count": 18,
   "id": "0016b375-f2f8-4356-b8ff-1d9ed29c6099",
   "metadata": {
    "editable": true,
    "slideshow": {
     "slide_type": ""
    },
    "tags": [
     "skip-execution"
    ]
   },
   "outputs": [
    {
     "data": {
      "text/plain": [
       "{'status': 'success'}"
      ]
     },
     "execution_count": 18,
     "metadata": {},
     "output_type": "execute_result"
    }
   ],
   "source": [
    "n.patch(\"https://www.expectedparrot.com/content/RobinHorton/adding-metadata-survey-results\", value = n)"
   ]
  },
  {
   "cell_type": "markdown",
   "id": "4146db71-4c4c-4f9b-8318-447515e3b835",
   "metadata": {},
   "source": [
    "This is equivalent:"
   ]
  },
  {
   "cell_type": "code",
   "execution_count": 21,
   "id": "32ed2195-7660-4a3b-b5c3-491eb3a09bad",
   "metadata": {
    "editable": true,
    "slideshow": {
     "slide_type": ""
    },
    "tags": [
     "skip-execution"
    ]
   },
   "outputs": [
    {
     "data": {
      "text/plain": [
       "{'status': 'success'}"
      ]
     },
     "execution_count": 21,
     "metadata": {},
     "output_type": "execute_result"
    }
   ],
   "source": [
    "n.patch(info[\"uuid\"], value = n)"
   ]
  }
 ],
 "metadata": {
  "kernelspec": {
   "display_name": "Python 3 (ipykernel)",
   "language": "python",
   "name": "python3"
  },
  "language_info": {
   "codemirror_mode": {
    "name": "ipython",
    "version": 3
   },
   "file_extension": ".py",
   "mimetype": "text/x-python",
   "name": "python",
   "nbconvert_exporter": "python",
   "pygments_lexer": "ipython3",
   "version": "3.11.7"
  }
 },
 "nbformat": 4,
 "nbformat_minor": 5
}
