{
 "cells": [
  {
   "cell_type": "markdown",
   "metadata": {
    "cell_id": "a563654146514d298bd0a199e3e41262",
    "deepnote_app_block_visible": true,
    "deepnote_cell_type": "markdown"
   },
   "source": [
    "# EDSL components\n",
    "This notebook provides an example of each of the basic components of `edsl`. We create a `Question` with different `Scenario` parameters, compile the versions of the question in a `Survey`, create a persona for each AI `Agent` that will respond to the survey, select each large language `Model` that we want to use, administer the survey to the agent and then inspect the `Results`."
   ]
  },
  {
   "cell_type": "markdown",
   "metadata": {},
   "source": [
    "[![Open In Colab](https://colab.research.google.com/assets/colab-badge.svg)](https://colab.research.google.com/github/expectedparrot/edsl/blob/main/docs/notebooks/edsl_components.ipynb)"
   ]
  },
  {
   "cell_type": "code",
   "execution_count": 1,
   "metadata": {
    "cell_id": "a0a80e4906dc450996929e7ccfb2a42a",
    "deepnote_app_block_visible": true,
    "deepnote_cell_type": "code"
   },
   "outputs": [],
   "source": [
    "# ! pip install edsl"
   ]
  },
  {
   "cell_type": "code",
   "execution_count": 2,
   "metadata": {
    "allow_embed": "code",
    "cell_id": "7cecf8ae99d548289d06fec068a6cb3e",
    "deepnote_app_block_visible": true,
    "deepnote_cell_type": "code",
    "deepnote_to_be_reexecuted": false,
    "execution_millis": 7717,
    "execution_start": 1709213316772,
    "source_hash": null
   },
   "outputs": [
    {
     "data": {
      "text/html": [
       "<pre style=\"white-space:pre;overflow-x:auto;line-height:normal;font-family:Menlo,'DejaVu Sans Mono',consolas,'Courier New',monospace\">┏━━━━━━━━━━━━━━━━━━━━┳━━━━━━━━━━━━┳━━━━━━━━━━━━━━━━━━━━┳━━━━━━━━━━┓\n",
       "┃<span style=\"color: #800080; text-decoration-color: #800080; font-weight: bold\"> model              </span>┃<span style=\"color: #800080; text-decoration-color: #800080; font-weight: bold\"> scenario   </span>┃<span style=\"color: #800080; text-decoration-color: #800080; font-weight: bold\"> agent              </span>┃<span style=\"color: #800080; text-decoration-color: #800080; font-weight: bold\"> answer   </span>┃\n",
       "┃<span style=\"color: #800080; text-decoration-color: #800080; font-weight: bold\"> .model             </span>┃<span style=\"color: #800080; text-decoration-color: #800080; font-weight: bold\"> .activity  </span>┃<span style=\"color: #800080; text-decoration-color: #800080; font-weight: bold\"> .persona           </span>┃<span style=\"color: #800080; text-decoration-color: #800080; font-weight: bold\"> .example </span>┃\n",
       "┡━━━━━━━━━━━━━━━━━━━━╇━━━━━━━━━━━━╇━━━━━━━━━━━━━━━━━━━━╇━━━━━━━━━━┩\n",
       "│<span style=\"color: #7f7f7f; text-decoration-color: #7f7f7f\"> gpt-3.5-turbo      </span>│<span style=\"color: #7f7f7f; text-decoration-color: #7f7f7f\"> cooking    </span>│<span style=\"color: #7f7f7f; text-decoration-color: #7f7f7f\"> You are a student  </span>│<span style=\"color: #7f7f7f; text-decoration-color: #7f7f7f\"> 3        </span>│\n",
       "├────────────────────┼────────────┼────────────────────┼──────────┤\n",
       "│<span style=\"color: #7f7f7f; text-decoration-color: #7f7f7f\"> gpt-3.5-turbo      </span>│<span style=\"color: #7f7f7f; text-decoration-color: #7f7f7f\"> exercising </span>│<span style=\"color: #7f7f7f; text-decoration-color: #7f7f7f\"> You are a student  </span>│<span style=\"color: #7f7f7f; text-decoration-color: #7f7f7f\"> 2        </span>│\n",
       "├────────────────────┼────────────┼────────────────────┼──────────┤\n",
       "│<span style=\"color: #7f7f7f; text-decoration-color: #7f7f7f\"> gpt-3.5-turbo      </span>│<span style=\"color: #7f7f7f; text-decoration-color: #7f7f7f\"> exercising </span>│<span style=\"color: #7f7f7f; text-decoration-color: #7f7f7f\"> You are a chef     </span>│<span style=\"color: #7f7f7f; text-decoration-color: #7f7f7f\"> 1        </span>│\n",
       "├────────────────────┼────────────┼────────────────────┼──────────┤\n",
       "│<span style=\"color: #7f7f7f; text-decoration-color: #7f7f7f\"> gpt-3.5-turbo      </span>│<span style=\"color: #7f7f7f; text-decoration-color: #7f7f7f\"> cooking    </span>│<span style=\"color: #7f7f7f; text-decoration-color: #7f7f7f\"> You are an athlete </span>│<span style=\"color: #7f7f7f; text-decoration-color: #7f7f7f\"> 1        </span>│\n",
       "├────────────────────┼────────────┼────────────────────┼──────────┤\n",
       "│<span style=\"color: #7f7f7f; text-decoration-color: #7f7f7f\"> gpt-3.5-turbo      </span>│<span style=\"color: #7f7f7f; text-decoration-color: #7f7f7f\"> reading    </span>│<span style=\"color: #7f7f7f; text-decoration-color: #7f7f7f\"> You are a chef     </span>│<span style=\"color: #7f7f7f; text-decoration-color: #7f7f7f\"> 4        </span>│\n",
       "├────────────────────┼────────────┼────────────────────┼──────────┤\n",
       "│<span style=\"color: #7f7f7f; text-decoration-color: #7f7f7f\"> gpt-3.5-turbo      </span>│<span style=\"color: #7f7f7f; text-decoration-color: #7f7f7f\"> reading    </span>│<span style=\"color: #7f7f7f; text-decoration-color: #7f7f7f\"> You are an athlete </span>│<span style=\"color: #7f7f7f; text-decoration-color: #7f7f7f\"> 2        </span>│\n",
       "├────────────────────┼────────────┼────────────────────┼──────────┤\n",
       "│<span style=\"color: #7f7f7f; text-decoration-color: #7f7f7f\"> gpt-3.5-turbo      </span>│<span style=\"color: #7f7f7f; text-decoration-color: #7f7f7f\"> exercising </span>│<span style=\"color: #7f7f7f; text-decoration-color: #7f7f7f\"> You are an athlete </span>│<span style=\"color: #7f7f7f; text-decoration-color: #7f7f7f\"> 5        </span>│\n",
       "├────────────────────┼────────────┼────────────────────┼──────────┤\n",
       "│<span style=\"color: #7f7f7f; text-decoration-color: #7f7f7f\"> gpt-3.5-turbo      </span>│<span style=\"color: #7f7f7f; text-decoration-color: #7f7f7f\"> reading    </span>│<span style=\"color: #7f7f7f; text-decoration-color: #7f7f7f\"> You are a student  </span>│<span style=\"color: #7f7f7f; text-decoration-color: #7f7f7f\"> 4        </span>│\n",
       "├────────────────────┼────────────┼────────────────────┼──────────┤\n",
       "│<span style=\"color: #7f7f7f; text-decoration-color: #7f7f7f\"> gpt-3.5-turbo      </span>│<span style=\"color: #7f7f7f; text-decoration-color: #7f7f7f\"> cooking    </span>│<span style=\"color: #7f7f7f; text-decoration-color: #7f7f7f\"> You are a chef     </span>│<span style=\"color: #7f7f7f; text-decoration-color: #7f7f7f\"> 5        </span>│\n",
       "├────────────────────┼────────────┼────────────────────┼──────────┤\n",
       "│<span style=\"color: #7f7f7f; text-decoration-color: #7f7f7f\"> gpt-4-1106-preview </span>│<span style=\"color: #7f7f7f; text-decoration-color: #7f7f7f\"> reading    </span>│<span style=\"color: #7f7f7f; text-decoration-color: #7f7f7f\"> You are a student  </span>│<span style=\"color: #7f7f7f; text-decoration-color: #7f7f7f\"> 5        </span>│\n",
       "├────────────────────┼────────────┼────────────────────┼──────────┤\n",
       "│<span style=\"color: #7f7f7f; text-decoration-color: #7f7f7f\"> gpt-4-1106-preview </span>│<span style=\"color: #7f7f7f; text-decoration-color: #7f7f7f\"> reading    </span>│<span style=\"color: #7f7f7f; text-decoration-color: #7f7f7f\"> You are a chef     </span>│<span style=\"color: #7f7f7f; text-decoration-color: #7f7f7f\"> 4        </span>│\n",
       "├────────────────────┼────────────┼────────────────────┼──────────┤\n",
       "│<span style=\"color: #7f7f7f; text-decoration-color: #7f7f7f\"> gpt-4-1106-preview </span>│<span style=\"color: #7f7f7f; text-decoration-color: #7f7f7f\"> exercising </span>│<span style=\"color: #7f7f7f; text-decoration-color: #7f7f7f\"> You are a chef     </span>│<span style=\"color: #7f7f7f; text-decoration-color: #7f7f7f\"> 4        </span>│\n",
       "├────────────────────┼────────────┼────────────────────┼──────────┤\n",
       "│<span style=\"color: #7f7f7f; text-decoration-color: #7f7f7f\"> gpt-4-1106-preview </span>│<span style=\"color: #7f7f7f; text-decoration-color: #7f7f7f\"> exercising </span>│<span style=\"color: #7f7f7f; text-decoration-color: #7f7f7f\"> You are an athlete </span>│<span style=\"color: #7f7f7f; text-decoration-color: #7f7f7f\"> 5        </span>│\n",
       "├────────────────────┼────────────┼────────────────────┼──────────┤\n",
       "│<span style=\"color: #7f7f7f; text-decoration-color: #7f7f7f\"> gpt-4-1106-preview </span>│<span style=\"color: #7f7f7f; text-decoration-color: #7f7f7f\"> exercising </span>│<span style=\"color: #7f7f7f; text-decoration-color: #7f7f7f\"> You are a student  </span>│<span style=\"color: #7f7f7f; text-decoration-color: #7f7f7f\"> 4        </span>│\n",
       "├────────────────────┼────────────┼────────────────────┼──────────┤\n",
       "│<span style=\"color: #7f7f7f; text-decoration-color: #7f7f7f\"> gpt-4-1106-preview </span>│<span style=\"color: #7f7f7f; text-decoration-color: #7f7f7f\"> cooking    </span>│<span style=\"color: #7f7f7f; text-decoration-color: #7f7f7f\"> You are a chef     </span>│<span style=\"color: #7f7f7f; text-decoration-color: #7f7f7f\"> 5        </span>│\n",
       "├────────────────────┼────────────┼────────────────────┼──────────┤\n",
       "│<span style=\"color: #7f7f7f; text-decoration-color: #7f7f7f\"> gpt-4-1106-preview </span>│<span style=\"color: #7f7f7f; text-decoration-color: #7f7f7f\"> reading    </span>│<span style=\"color: #7f7f7f; text-decoration-color: #7f7f7f\"> You are an athlete </span>│<span style=\"color: #7f7f7f; text-decoration-color: #7f7f7f\"> 4        </span>│\n",
       "├────────────────────┼────────────┼────────────────────┼──────────┤\n",
       "│<span style=\"color: #7f7f7f; text-decoration-color: #7f7f7f\"> gpt-4-1106-preview </span>│<span style=\"color: #7f7f7f; text-decoration-color: #7f7f7f\"> cooking    </span>│<span style=\"color: #7f7f7f; text-decoration-color: #7f7f7f\"> You are a student  </span>│<span style=\"color: #7f7f7f; text-decoration-color: #7f7f7f\"> 4        </span>│\n",
       "├────────────────────┼────────────┼────────────────────┼──────────┤\n",
       "│<span style=\"color: #7f7f7f; text-decoration-color: #7f7f7f\"> gpt-4-1106-preview </span>│<span style=\"color: #7f7f7f; text-decoration-color: #7f7f7f\"> cooking    </span>│<span style=\"color: #7f7f7f; text-decoration-color: #7f7f7f\"> You are an athlete </span>│<span style=\"color: #7f7f7f; text-decoration-color: #7f7f7f\"> 3        </span>│\n",
       "└────────────────────┴────────────┴────────────────────┴──────────┘\n",
       "</pre>\n"
      ],
      "text/plain": [
       "┏━━━━━━━━━━━━━━━━━━━━┳━━━━━━━━━━━━┳━━━━━━━━━━━━━━━━━━━━┳━━━━━━━━━━┓\n",
       "┃\u001b[1;35m \u001b[0m\u001b[1;35mmodel             \u001b[0m\u001b[1;35m \u001b[0m┃\u001b[1;35m \u001b[0m\u001b[1;35mscenario  \u001b[0m\u001b[1;35m \u001b[0m┃\u001b[1;35m \u001b[0m\u001b[1;35magent             \u001b[0m\u001b[1;35m \u001b[0m┃\u001b[1;35m \u001b[0m\u001b[1;35manswer  \u001b[0m\u001b[1;35m \u001b[0m┃\n",
       "┃\u001b[1;35m \u001b[0m\u001b[1;35m.model            \u001b[0m\u001b[1;35m \u001b[0m┃\u001b[1;35m \u001b[0m\u001b[1;35m.activity \u001b[0m\u001b[1;35m \u001b[0m┃\u001b[1;35m \u001b[0m\u001b[1;35m.persona          \u001b[0m\u001b[1;35m \u001b[0m┃\u001b[1;35m \u001b[0m\u001b[1;35m.example\u001b[0m\u001b[1;35m \u001b[0m┃\n",
       "┡━━━━━━━━━━━━━━━━━━━━╇━━━━━━━━━━━━╇━━━━━━━━━━━━━━━━━━━━╇━━━━━━━━━━┩\n",
       "│\u001b[2m \u001b[0m\u001b[2mgpt-3.5-turbo     \u001b[0m\u001b[2m \u001b[0m│\u001b[2m \u001b[0m\u001b[2mcooking   \u001b[0m\u001b[2m \u001b[0m│\u001b[2m \u001b[0m\u001b[2mYou are a student \u001b[0m\u001b[2m \u001b[0m│\u001b[2m \u001b[0m\u001b[2m3       \u001b[0m\u001b[2m \u001b[0m│\n",
       "├────────────────────┼────────────┼────────────────────┼──────────┤\n",
       "│\u001b[2m \u001b[0m\u001b[2mgpt-3.5-turbo     \u001b[0m\u001b[2m \u001b[0m│\u001b[2m \u001b[0m\u001b[2mexercising\u001b[0m\u001b[2m \u001b[0m│\u001b[2m \u001b[0m\u001b[2mYou are a student \u001b[0m\u001b[2m \u001b[0m│\u001b[2m \u001b[0m\u001b[2m2       \u001b[0m\u001b[2m \u001b[0m│\n",
       "├────────────────────┼────────────┼────────────────────┼──────────┤\n",
       "│\u001b[2m \u001b[0m\u001b[2mgpt-3.5-turbo     \u001b[0m\u001b[2m \u001b[0m│\u001b[2m \u001b[0m\u001b[2mexercising\u001b[0m\u001b[2m \u001b[0m│\u001b[2m \u001b[0m\u001b[2mYou are a chef    \u001b[0m\u001b[2m \u001b[0m│\u001b[2m \u001b[0m\u001b[2m1       \u001b[0m\u001b[2m \u001b[0m│\n",
       "├────────────────────┼────────────┼────────────────────┼──────────┤\n",
       "│\u001b[2m \u001b[0m\u001b[2mgpt-3.5-turbo     \u001b[0m\u001b[2m \u001b[0m│\u001b[2m \u001b[0m\u001b[2mcooking   \u001b[0m\u001b[2m \u001b[0m│\u001b[2m \u001b[0m\u001b[2mYou are an athlete\u001b[0m\u001b[2m \u001b[0m│\u001b[2m \u001b[0m\u001b[2m1       \u001b[0m\u001b[2m \u001b[0m│\n",
       "├────────────────────┼────────────┼────────────────────┼──────────┤\n",
       "│\u001b[2m \u001b[0m\u001b[2mgpt-3.5-turbo     \u001b[0m\u001b[2m \u001b[0m│\u001b[2m \u001b[0m\u001b[2mreading   \u001b[0m\u001b[2m \u001b[0m│\u001b[2m \u001b[0m\u001b[2mYou are a chef    \u001b[0m\u001b[2m \u001b[0m│\u001b[2m \u001b[0m\u001b[2m4       \u001b[0m\u001b[2m \u001b[0m│\n",
       "├────────────────────┼────────────┼────────────────────┼──────────┤\n",
       "│\u001b[2m \u001b[0m\u001b[2mgpt-3.5-turbo     \u001b[0m\u001b[2m \u001b[0m│\u001b[2m \u001b[0m\u001b[2mreading   \u001b[0m\u001b[2m \u001b[0m│\u001b[2m \u001b[0m\u001b[2mYou are an athlete\u001b[0m\u001b[2m \u001b[0m│\u001b[2m \u001b[0m\u001b[2m2       \u001b[0m\u001b[2m \u001b[0m│\n",
       "├────────────────────┼────────────┼────────────────────┼──────────┤\n",
       "│\u001b[2m \u001b[0m\u001b[2mgpt-3.5-turbo     \u001b[0m\u001b[2m \u001b[0m│\u001b[2m \u001b[0m\u001b[2mexercising\u001b[0m\u001b[2m \u001b[0m│\u001b[2m \u001b[0m\u001b[2mYou are an athlete\u001b[0m\u001b[2m \u001b[0m│\u001b[2m \u001b[0m\u001b[2m5       \u001b[0m\u001b[2m \u001b[0m│\n",
       "├────────────────────┼────────────┼────────────────────┼──────────┤\n",
       "│\u001b[2m \u001b[0m\u001b[2mgpt-3.5-turbo     \u001b[0m\u001b[2m \u001b[0m│\u001b[2m \u001b[0m\u001b[2mreading   \u001b[0m\u001b[2m \u001b[0m│\u001b[2m \u001b[0m\u001b[2mYou are a student \u001b[0m\u001b[2m \u001b[0m│\u001b[2m \u001b[0m\u001b[2m4       \u001b[0m\u001b[2m \u001b[0m│\n",
       "├────────────────────┼────────────┼────────────────────┼──────────┤\n",
       "│\u001b[2m \u001b[0m\u001b[2mgpt-3.5-turbo     \u001b[0m\u001b[2m \u001b[0m│\u001b[2m \u001b[0m\u001b[2mcooking   \u001b[0m\u001b[2m \u001b[0m│\u001b[2m \u001b[0m\u001b[2mYou are a chef    \u001b[0m\u001b[2m \u001b[0m│\u001b[2m \u001b[0m\u001b[2m5       \u001b[0m\u001b[2m \u001b[0m│\n",
       "├────────────────────┼────────────┼────────────────────┼──────────┤\n",
       "│\u001b[2m \u001b[0m\u001b[2mgpt-4-1106-preview\u001b[0m\u001b[2m \u001b[0m│\u001b[2m \u001b[0m\u001b[2mreading   \u001b[0m\u001b[2m \u001b[0m│\u001b[2m \u001b[0m\u001b[2mYou are a student \u001b[0m\u001b[2m \u001b[0m│\u001b[2m \u001b[0m\u001b[2m5       \u001b[0m\u001b[2m \u001b[0m│\n",
       "├────────────────────┼────────────┼────────────────────┼──────────┤\n",
       "│\u001b[2m \u001b[0m\u001b[2mgpt-4-1106-preview\u001b[0m\u001b[2m \u001b[0m│\u001b[2m \u001b[0m\u001b[2mreading   \u001b[0m\u001b[2m \u001b[0m│\u001b[2m \u001b[0m\u001b[2mYou are a chef    \u001b[0m\u001b[2m \u001b[0m│\u001b[2m \u001b[0m\u001b[2m4       \u001b[0m\u001b[2m \u001b[0m│\n",
       "├────────────────────┼────────────┼────────────────────┼──────────┤\n",
       "│\u001b[2m \u001b[0m\u001b[2mgpt-4-1106-preview\u001b[0m\u001b[2m \u001b[0m│\u001b[2m \u001b[0m\u001b[2mexercising\u001b[0m\u001b[2m \u001b[0m│\u001b[2m \u001b[0m\u001b[2mYou are a chef    \u001b[0m\u001b[2m \u001b[0m│\u001b[2m \u001b[0m\u001b[2m4       \u001b[0m\u001b[2m \u001b[0m│\n",
       "├────────────────────┼────────────┼────────────────────┼──────────┤\n",
       "│\u001b[2m \u001b[0m\u001b[2mgpt-4-1106-preview\u001b[0m\u001b[2m \u001b[0m│\u001b[2m \u001b[0m\u001b[2mexercising\u001b[0m\u001b[2m \u001b[0m│\u001b[2m \u001b[0m\u001b[2mYou are an athlete\u001b[0m\u001b[2m \u001b[0m│\u001b[2m \u001b[0m\u001b[2m5       \u001b[0m\u001b[2m \u001b[0m│\n",
       "├────────────────────┼────────────┼────────────────────┼──────────┤\n",
       "│\u001b[2m \u001b[0m\u001b[2mgpt-4-1106-preview\u001b[0m\u001b[2m \u001b[0m│\u001b[2m \u001b[0m\u001b[2mexercising\u001b[0m\u001b[2m \u001b[0m│\u001b[2m \u001b[0m\u001b[2mYou are a student \u001b[0m\u001b[2m \u001b[0m│\u001b[2m \u001b[0m\u001b[2m4       \u001b[0m\u001b[2m \u001b[0m│\n",
       "├────────────────────┼────────────┼────────────────────┼──────────┤\n",
       "│\u001b[2m \u001b[0m\u001b[2mgpt-4-1106-preview\u001b[0m\u001b[2m \u001b[0m│\u001b[2m \u001b[0m\u001b[2mcooking   \u001b[0m\u001b[2m \u001b[0m│\u001b[2m \u001b[0m\u001b[2mYou are a chef    \u001b[0m\u001b[2m \u001b[0m│\u001b[2m \u001b[0m\u001b[2m5       \u001b[0m\u001b[2m \u001b[0m│\n",
       "├────────────────────┼────────────┼────────────────────┼──────────┤\n",
       "│\u001b[2m \u001b[0m\u001b[2mgpt-4-1106-preview\u001b[0m\u001b[2m \u001b[0m│\u001b[2m \u001b[0m\u001b[2mreading   \u001b[0m\u001b[2m \u001b[0m│\u001b[2m \u001b[0m\u001b[2mYou are an athlete\u001b[0m\u001b[2m \u001b[0m│\u001b[2m \u001b[0m\u001b[2m4       \u001b[0m\u001b[2m \u001b[0m│\n",
       "├────────────────────┼────────────┼────────────────────┼──────────┤\n",
       "│\u001b[2m \u001b[0m\u001b[2mgpt-4-1106-preview\u001b[0m\u001b[2m \u001b[0m│\u001b[2m \u001b[0m\u001b[2mcooking   \u001b[0m\u001b[2m \u001b[0m│\u001b[2m \u001b[0m\u001b[2mYou are a student \u001b[0m\u001b[2m \u001b[0m│\u001b[2m \u001b[0m\u001b[2m4       \u001b[0m\u001b[2m \u001b[0m│\n",
       "├────────────────────┼────────────┼────────────────────┼──────────┤\n",
       "│\u001b[2m \u001b[0m\u001b[2mgpt-4-1106-preview\u001b[0m\u001b[2m \u001b[0m│\u001b[2m \u001b[0m\u001b[2mcooking   \u001b[0m\u001b[2m \u001b[0m│\u001b[2m \u001b[0m\u001b[2mYou are an athlete\u001b[0m\u001b[2m \u001b[0m│\u001b[2m \u001b[0m\u001b[2m3       \u001b[0m\u001b[2m \u001b[0m│\n",
       "└────────────────────┴────────────┴────────────────────┴──────────┘\n"
      ]
     },
     "metadata": {},
     "output_type": "display_data"
    }
   ],
   "source": [
    "# Import the tools\n",
    "from edsl.questions import QuestionLinearScale\n",
    "from edsl import Scenario, Survey, Agent, Model\n",
    "\n",
    "# Create a question \n",
    "q = QuestionLinearScale(\n",
    "    question_name = \"example\",\n",
    "    question_text = \"On a scale from 0 to 5, how much do you enjoy {{ activity }}?\",\n",
    "    question_options = [0,1,2,3,4,5]\n",
    ")\n",
    "\n",
    "# Select parameters for the question\n",
    "activities = [\"exercising\", \"reading\", \"cooking\"]\n",
    "scenarios = [Scenario({\"activity\": a}) for a in activities]\n",
    "\n",
    "# Compile the survey\n",
    "survey = Survey(questions = [q])\n",
    "\n",
    "# Create personas for agents that will respond to the survey\n",
    "personas = [\"You are an athlete\", \"You are a student\", \"You are a chef\"]\n",
    "agents = [Agent(traits = {\"persona\": p}) for p in personas]\n",
    "\n",
    "# Select large language models\n",
    "models = [Model(\"gpt-3.5-turbo\"), Model(\"gpt-4-1106-preview\")]\n",
    "\n",
    "# Administer the survey\n",
    "results = survey.by(scenarios).by(agents).by(models).run()\n",
    "\n",
    "# Inspect the results\n",
    "results.select(\"model.model\", \"scenario.activity\", \"agent.persona\", \"answer.example\").print()"
   ]
  },
  {
   "cell_type": "markdown",
   "metadata": {
    "cell_id": "5fc7826de9ca4ed9b3809544d3b27c2e",
    "deepnote_app_block_visible": true,
    "deepnote_cell_type": "markdown"
   },
   "source": [
    "---\n",
    "<p style=\"font-size: 14px;\">Copyright © 2024 Expected Parrot, Inc. All rights reserved.   <a href=\"www.expectedparrot.com\" style=\"color:#130061\">www.expectedparrot.com</a></p>"
   ]
  }
 ],
 "metadata": {
  "deepnote_app_clear_outputs": false,
  "deepnote_app_layout": "powerful-article",
  "deepnote_app_reactivity_enabled": true,
  "deepnote_app_width": "full-width",
  "deepnote_execution_queue": [],
  "deepnote_notebook_id": "224d4dbe608f44aeb62ac27fa94acaad",
  "kernelspec": {
   "display_name": "Python 3 (ipykernel)",
   "language": "python",
   "name": "python3"
  },
  "language_info": {
   "codemirror_mode": {
    "name": "ipython",
    "version": 3
   },
   "file_extension": ".py",
   "mimetype": "text/x-python",
   "name": "python",
   "nbconvert_exporter": "python",
   "pygments_lexer": "ipython3",
   "version": "3.11.7"
  }
 },
 "nbformat": 4,
 "nbformat_minor": 4
}
