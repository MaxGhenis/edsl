{
 "cells": [
  {
   "cell_type": "markdown",
   "metadata": {
    "cell_id": "a563654146514d298bd0a199e3e41262",
    "deepnote_app_block_visible": true,
    "deepnote_cell_type": "markdown",
    "editable": true,
    "slideshow": {
     "slide_type": ""
    },
    "tags": []
   },
   "source": [
    "# EDSL basics\n",
    "This notebook provides an example of each of the basic components of EDSL. In a series of steps we show how to:\n",
    "\n",
    "* Create a `Question` \n",
    "* Parameterize it with a `Scenario` to create different versions of the question\n",
    "* Add the question to a `Survey`\n",
    "* Create an AI `Agent` to answer the question versions\n",
    "* Select a language `Model` to generate responses\n",
    "* Inspect the `Results` of the survey\n",
    "\n",
    "Learn more about each of the base classes in the docs: [Questions](https://docs.expectedparrot.com/en/latest/questions.html), [Scenarios](https://docs.expectedparrot.com/en/latest/scenarios.html), [Agents](https://docs.expectedparrot.com/en/latest/agents.html) and [Models](https://docs.expectedparrot.com/en/latest/models.html)."
   ]
  },
  {
   "cell_type": "code",
   "execution_count": 1,
   "metadata": {
    "allow_embed": "code",
    "cell_id": "7cecf8ae99d548289d06fec068a6cb3e",
    "deepnote_app_block_visible": true,
    "deepnote_cell_type": "code",
    "deepnote_to_be_reexecuted": false,
    "editable": true,
    "execution_millis": 7717,
    "execution_start": 1709213316772,
    "slideshow": {
     "slide_type": ""
    },
    "source_hash": null,
    "tags": []
   },
   "outputs": [
    {
     "data": {
      "text/html": [
       "\n",
       "    <style>\n",
       "        table {\n",
       "            width: 100%;\n",
       "            border-collapse: collapse;\n",
       "        }\n",
       "        table, th, td {\n",
       "            border: 1px solid black;\n",
       "        }\n",
       "        th, td {\n",
       "            padding: 10px;\n",
       "            text-align: left;\n",
       "        }\n",
       "    </style>\n",
       "    <table id=\"myTable\" class=\"display\">\n",
       "  <thead>\n",
       "  <tr>\n",
       "    <th>model.model</th>\n",
       "    <th>scenario.activity</th>\n",
       "    <th>agent.persona</th>\n",
       "    <th>answer.example</th>\n",
       "  </tr>\n",
       "  </thead>\n",
       "</tbody>\n",
       "  <tr>\n",
       "    <td>gpt-3.5-turbo</td>\n",
       "    <td>exercising</td>\n",
       "    <td>You are an athlete</td>\n",
       "    <td>4</td>\n",
       "  </tr>\n",
       "  <tr>\n",
       "    <td>gpt-4-1106-preview</td>\n",
       "    <td>exercising</td>\n",
       "    <td>You are an athlete</td>\n",
       "    <td>5</td>\n",
       "  </tr>\n",
       "  <tr>\n",
       "    <td>gpt-3.5-turbo</td>\n",
       "    <td>reading</td>\n",
       "    <td>You are an athlete</td>\n",
       "    <td>3</td>\n",
       "  </tr>\n",
       "  <tr>\n",
       "    <td>gpt-4-1106-preview</td>\n",
       "    <td>reading</td>\n",
       "    <td>You are an athlete</td>\n",
       "    <td>4</td>\n",
       "  </tr>\n",
       "  <tr>\n",
       "    <td>gpt-3.5-turbo</td>\n",
       "    <td>cooking</td>\n",
       "    <td>You are an athlete</td>\n",
       "    <td>3</td>\n",
       "  </tr>\n",
       "  <tr>\n",
       "    <td>gpt-4-1106-preview</td>\n",
       "    <td>cooking</td>\n",
       "    <td>You are an athlete</td>\n",
       "    <td>4</td>\n",
       "  </tr>\n",
       "  <tr>\n",
       "    <td>gpt-3.5-turbo</td>\n",
       "    <td>exercising</td>\n",
       "    <td>You are a student</td>\n",
       "    <td>4</td>\n",
       "  </tr>\n",
       "  <tr>\n",
       "    <td>gpt-4-1106-preview</td>\n",
       "    <td>exercising</td>\n",
       "    <td>You are a student</td>\n",
       "    <td>4</td>\n",
       "  </tr>\n",
       "  <tr>\n",
       "    <td>gpt-3.5-turbo</td>\n",
       "    <td>reading</td>\n",
       "    <td>You are a student</td>\n",
       "    <td>4</td>\n",
       "  </tr>\n",
       "  <tr>\n",
       "    <td>gpt-4-1106-preview</td>\n",
       "    <td>reading</td>\n",
       "    <td>You are a student</td>\n",
       "    <td>5</td>\n",
       "  </tr>\n",
       "  <tr>\n",
       "    <td>gpt-3.5-turbo</td>\n",
       "    <td>cooking</td>\n",
       "    <td>You are a student</td>\n",
       "    <td>4</td>\n",
       "  </tr>\n",
       "  <tr>\n",
       "    <td>gpt-4-1106-preview</td>\n",
       "    <td>cooking</td>\n",
       "    <td>You are a student</td>\n",
       "    <td>4</td>\n",
       "  </tr>\n",
       "  <tr>\n",
       "    <td>gpt-3.5-turbo</td>\n",
       "    <td>exercising</td>\n",
       "    <td>You are a chef</td>\n",
       "    <td>3</td>\n",
       "  </tr>\n",
       "  <tr>\n",
       "    <td>gpt-4-1106-preview</td>\n",
       "    <td>exercising</td>\n",
       "    <td>You are a chef</td>\n",
       "    <td>4</td>\n",
       "  </tr>\n",
       "  <tr>\n",
       "    <td>gpt-3.5-turbo</td>\n",
       "    <td>reading</td>\n",
       "    <td>You are a chef</td>\n",
       "    <td>3</td>\n",
       "  </tr>\n",
       "  <tr>\n",
       "    <td>gpt-4-1106-preview</td>\n",
       "    <td>reading</td>\n",
       "    <td>You are a chef</td>\n",
       "    <td>5</td>\n",
       "  </tr>\n",
       "  <tr>\n",
       "    <td>gpt-3.5-turbo</td>\n",
       "    <td>cooking</td>\n",
       "    <td>You are a chef</td>\n",
       "    <td>5</td>\n",
       "  </tr>\n",
       "  <tr>\n",
       "    <td>gpt-4-1106-preview</td>\n",
       "    <td>cooking</td>\n",
       "    <td>You are a chef</td>\n",
       "    <td>5</td>\n",
       "  </tr>\n",
       "</tbody>\n",
       "</table>"
      ],
      "text/plain": [
       "<IPython.core.display.HTML object>"
      ]
     },
     "metadata": {},
     "output_type": "display_data"
    }
   ],
   "source": [
    "# Import the tools\n",
    "from edsl import QuestionLinearScale, ScenarioList, Survey, AgentList, Agent, ModelList, Model\n",
    "\n",
    "# Create a question that takes a parameter\n",
    "q = QuestionLinearScale(\n",
    "    question_name=\"example\",\n",
    "    question_text=\"On a scale from 0 to 5, how much do you enjoy {{ activity }}?\",\n",
    "    question_options=[0, 1, 2, 3, 4, 5],\n",
    ")\n",
    "\n",
    "# Identify parameter values\n",
    "activities = [\"exercising\", \"reading\", \"cooking\"]\n",
    "scenarios = ScenarioList.from_list(\"activity\", activities)\n",
    "\n",
    "# Add the base question to a survey\n",
    "survey = Survey(questions=[q])\n",
    "\n",
    "# Create agents that will respond to the survey\n",
    "personas = [\"You are an athlete\", \"You are a student\", \"You are a chef\"]\n",
    "agents = AgentList(\n",
    "    Agent(traits={\"persona\": p}) for p in personas\n",
    ")\n",
    "\n",
    "# Select large language models\n",
    "models = ModelList(\n",
    "    Model(m) for m in [\"gpt-3.5-turbo\", \"gpt-4-1106-preview\"]\n",
    ")\n",
    "\n",
    "# Administer the survey and store the results\n",
    "results = survey.by(scenarios).by(agents).by(models).run()\n",
    "\n",
    "# Inspect components of the results\n",
    "results.select(\"model.model\", \"scenario.activity\", \"agent.persona\", \"answer.example\").print()"
   ]
  },
  {
   "cell_type": "markdown",
   "metadata": {
    "editable": true,
    "slideshow": {
     "slide_type": ""
    },
    "tags": []
   },
   "source": [
    "## Posting to the Coop\n",
    "The [Coop](https://www.expectedparrot.com/explore) is a platform for creating, storing and sharing LLM-based research.\n",
    "It is fully integrated with EDSL and accessible from your workspace or Coop account page.\n",
    "Learn more about [creating an account](https://www.expectedparrot.com/login) and [using the Coop](https://docs.expectedparrot.com/en/latest/coop.html).\n",
    "\n",
    "Here we post this notebook:"
   ]
  },
  {
   "cell_type": "code",
   "execution_count": 2,
   "metadata": {
    "editable": true,
    "slideshow": {
     "slide_type": ""
    },
    "tags": [
     "skip-execution"
    ]
   },
   "outputs": [],
   "source": [
    "from edsl import Notebook"
   ]
  },
  {
   "cell_type": "code",
   "execution_count": 3,
   "metadata": {
    "editable": true,
    "slideshow": {
     "slide_type": ""
    },
    "tags": [
     "skip-execution"
    ]
   },
   "outputs": [],
   "source": [
    "n = Notebook(path = \"edsl_components.ipynb\")"
   ]
  },
  {
   "cell_type": "code",
   "execution_count": 4,
   "metadata": {
    "editable": true,
    "slideshow": {
     "slide_type": ""
    },
    "tags": [
     "skip-execution"
    ]
   },
   "outputs": [
    {
     "data": {
      "text/plain": [
       "{'description': 'Example code for EDSL base components',\n",
       " 'object_type': 'notebook',\n",
       " 'url': 'https://www.expectedparrot.com/content/0ac1689c-0156-49a9-b50e-05475d911b9c',\n",
       " 'uuid': '0ac1689c-0156-49a9-b50e-05475d911b9c',\n",
       " 'version': '0.1.33.dev1',\n",
       " 'visibility': 'public'}"
      ]
     },
     "execution_count": 4,
     "metadata": {},
     "output_type": "execute_result"
    }
   ],
   "source": [
    "n.push(description = \"Example code for EDSL base components\", visibility = \"public\")"
   ]
  },
  {
   "cell_type": "markdown",
   "metadata": {
    "editable": true,
    "slideshow": {
     "slide_type": ""
    },
    "tags": []
   },
   "source": [
    "To update an object:"
   ]
  },
  {
   "cell_type": "code",
   "execution_count": 5,
   "metadata": {
    "editable": true,
    "slideshow": {
     "slide_type": ""
    },
    "tags": [
     "skip-execution"
    ]
   },
   "outputs": [],
   "source": [
    "n = Notebook(path = \"edsl_components.ipynb\") # resave it"
   ]
  },
  {
   "cell_type": "code",
   "execution_count": 6,
   "metadata": {
    "editable": true,
    "slideshow": {
     "slide_type": ""
    },
    "tags": [
     "skip-execution"
    ]
   },
   "outputs": [
    {
     "data": {
      "text/plain": [
       "{'status': 'success'}"
      ]
     },
     "execution_count": 6,
     "metadata": {},
     "output_type": "execute_result"
    }
   ],
   "source": [
    "n.patch(uuid = \"0ac1689c-0156-49a9-b50e-05475d911b9c\", value = n)"
   ]
  }
 ],
 "metadata": {
  "deepnote_app_clear_outputs": false,
  "deepnote_app_layout": "powerful-article",
  "deepnote_app_reactivity_enabled": true,
  "deepnote_app_width": "full-width",
  "deepnote_execution_queue": [],
  "deepnote_notebook_id": "224d4dbe608f44aeb62ac27fa94acaad",
  "kernelspec": {
   "display_name": "Python 3 (ipykernel)",
   "language": "python",
   "name": "python3"
  },
  "language_info": {
   "codemirror_mode": {
    "name": "ipython",
    "version": 3
   },
   "file_extension": ".py",
   "mimetype": "text/x-python",
   "name": "python",
   "nbconvert_exporter": "python",
   "pygments_lexer": "ipython3",
   "version": "3.11.7"
  }
 },
 "nbformat": 4,
 "nbformat_minor": 4
}
