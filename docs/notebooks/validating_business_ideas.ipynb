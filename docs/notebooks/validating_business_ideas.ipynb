{
 "cells": [
  {
   "cell_type": "markdown",
   "metadata": {
    "cell_id": "80495f92df524adca0a9f84f82a95424",
    "deepnote_app_block_visible": false,
    "deepnote_cell_type": "markdown",
    "deepnote_to_be_reexecuted": false,
    "execution_millis": 17,
    "execution_start": 1709921827905,
    "source_hash": "36723a30"
   },
   "source": [
    "# Application: Validating business ideas\n",
    "This notebook contains code to create some simple methods for validating business ideas with relevant agent personas. The review is structured as an EDSL survey where the questions are parameterized with the business ideas. Agent personas are created for specified traits and any special instructions.\n",
    "\n",
    "Inspired by https://twitter.com/mattshumer_/status/1765822278351143113?s=61"
   ]
  },
  {
   "cell_type": "markdown",
   "metadata": {},
   "source": [
    "[![Open In Colab](https://colab.research.google.com/assets/colab-badge.svg)](https://colab.research.google.com/github/expectedparrot/edsl/blob/main/docs/notebooks/validating_business_ideas.ipynb)"
   ]
  },
  {
   "cell_type": "code",
   "execution_count": 1,
   "metadata": {
    "cell_id": "7cbcb7fe447e4c1e9c5ec46df96a2a72",
    "deepnote_cell_type": "code"
   },
   "outputs": [],
   "source": [
    "# ! pip install edsl"
   ]
  },
  {
   "cell_type": "code",
   "execution_count": 2,
   "metadata": {
    "allow_embed": false,
    "cell_id": "57c173fef20f42d9bf74784093d7c4b6",
    "deepnote_cell_type": "code",
    "deepnote_to_be_reexecuted": false,
    "execution_millis": 180,
    "execution_start": 1709919020916,
    "source_hash": null
   },
   "outputs": [],
   "source": [
    "from edsl.questions import QuestionFreeText, QuestionList\n",
    "from edsl import Scenario, Survey, Agent"
   ]
  },
  {
   "cell_type": "markdown",
   "metadata": {
    "cell_id": "d82c7c56309c4b20815c43b69f761573",
    "deepnote_cell_type": "markdown"
   },
   "source": [
    "## Create agent personas relevant to the review"
   ]
  },
  {
   "cell_type": "code",
   "execution_count": 3,
   "metadata": {
    "allow_embed": false,
    "cell_id": "8fe5cb7a134f4dc48364ecdddc0cfcbc",
    "deepnote_cell_type": "code",
    "deepnote_to_be_reexecuted": false,
    "execution_millis": 4346,
    "execution_start": 1709922439921,
    "source_hash": null
   },
   "outputs": [
    {
     "name": "stdout",
     "output_type": "stream",
     "text": [
      "Creating agents:\n"
     ]
    },
    {
     "data": {
      "application/vnd.jupyter.widget-view+json": {
       "model_id": "3864b7ea4bd94d77990a96b7cb6ff9f0",
       "version_major": 2,
       "version_minor": 0
      },
      "text/plain": [
       "Output()"
      ]
     },
     "metadata": {},
     "output_type": "display_data"
    },
    {
     "data": {
      "text/html": [
       "<pre style=\"white-space:pre;overflow-x:auto;line-height:normal;font-family:Menlo,'DejaVu Sans Mono',consolas,'Courier New',monospace\"></pre>\n"
      ],
      "text/plain": []
     },
     "metadata": {},
     "output_type": "display_data"
    },
    {
     "data": {
      "text/plain": [
       "[Agent(traits = {'persona': 'The Creative Visionary', 'age': '34', 'occupation': 'Freelance Graphic Designer', 'special_instructions': 'You are a pragmatic business strategist with expertise in dissecting\\n                     business ideas for real-world applicability.'}),\n",
       " Agent(traits = {'persona': 'The Corporate Organizer', 'age': '45', 'occupation': 'Senior Project Manager', 'special_instructions': 'You are a pragmatic business strategist with expertise in dissecting\\n                     business ideas for real-world applicability.'}),\n",
       " Agent(traits = {'persona': 'The Social Butterfly', 'age': '28', 'occupation': 'Public Relations Specialist', 'special_instructions': 'You are a pragmatic business strategist with expertise in dissecting\\n                     business ideas for real-world applicability.'}),\n",
       " Agent(traits = {'persona': 'The Meticulous Planner', 'age': '52', 'occupation': 'Executive Assistant', 'special_instructions': 'You are a pragmatic business strategist with expertise in dissecting\\n                     business ideas for real-world applicability.'}),\n",
       " Agent(traits = {'persona': 'The Budget Analyst', 'age': '30', 'occupation': 'Financial Advisor', 'special_instructions': 'You are a pragmatic business strategist with expertise in dissecting\\n                     business ideas for real-world applicability.'})]"
      ]
     },
     "execution_count": 3,
     "metadata": {},
     "output_type": "execute_result"
    }
   ],
   "source": [
    "# Select the number of agent personas to create\n",
    "num_agents = 5\n",
    "\n",
    "# List the traits that you want to include in agent personas\n",
    "agent_traits = [\"age\", \"occupation\"]\n",
    "\n",
    "# Optionally add any special instructions for the agents\n",
    "special_instructions = \"\"\"You are a pragmatic business strategist with expertise in dissecting\n",
    "                     business ideas for real-world applicability.\"\"\"\n",
    "\n",
    "# Optionally specify the business type\n",
    "business_type = \"event planning\"\n",
    "\n",
    "# Specify the number of agents that you want to create with the traits and instructions \n",
    "def create_agents(num_agents, agent_traits, special_instructions = \"\", business_type = \"\"):\n",
    "    agents = []\n",
    "    agent_traits = \", \".join(agent_traits)\n",
    "    \n",
    "    # Create a list of dicts of traits of that we will use to create the agents\n",
    "    q = QuestionList(\n",
    "        question_name = \"personas\",\n",
    "        question_text = f\"\"\"Draft { num_agents } personas for someone evaluating a business idea for a \n",
    "        { business_type } business. Format each persona as a dict where the keys are: persona, { agent_traits }.\"\"\"\n",
    "    )\n",
    "\n",
    "    print(\"Creating agents:\")\n",
    "    personas = q.run(progress_bar=True).select(\"personas\").to_list()[0]\n",
    "\n",
    "    # Add any special instructions to each personsa\n",
    "    [p.update({'special_instructions': special_instructions}) for p in personas]\n",
    "\n",
    "    # Create the agents\n",
    "    agents = [Agent(traits = p) for p in personas]\n",
    "    return agents\n",
    "\n",
    "agents = create_agents(num_agents, agent_traits, special_instructions, business_type)\n",
    "agents"
   ]
  },
  {
   "cell_type": "markdown",
   "metadata": {
    "cell_id": "d521ebc585c4436cb721b63d30e29252",
    "deepnote_cell_type": "markdown"
   },
   "source": [
    "## Create some example business ideas\n",
    "The question text can easily be modified to include more instructions on the examples to generate."
   ]
  },
  {
   "cell_type": "code",
   "execution_count": 4,
   "metadata": {
    "cell_id": "4c1c12cf28c44acc8a1469ea8fbfe56b",
    "deepnote_cell_type": "code",
    "deepnote_to_be_reexecuted": false,
    "execution_millis": 2844,
    "execution_start": 1709922485097,
    "source_hash": null
   },
   "outputs": [
    {
     "name": "stdout",
     "output_type": "stream",
     "text": [
      "Drafting business ideas:\n"
     ]
    },
    {
     "data": {
      "application/vnd.jupyter.widget-view+json": {
       "model_id": "97b112ec377245599ff1b8e1769d3fe4",
       "version_major": 2,
       "version_minor": 0
      },
      "text/plain": [
       "Output()"
      ]
     },
     "metadata": {},
     "output_type": "display_data"
    },
    {
     "data": {
      "text/html": [
       "<pre style=\"white-space:pre;overflow-x:auto;line-height:normal;font-family:Menlo,'DejaVu Sans Mono',consolas,'Courier New',monospace\"></pre>\n"
      ],
      "text/plain": []
     },
     "metadata": {},
     "output_type": "display_data"
    },
    {
     "data": {
      "text/plain": [
       "['Eco-Friendly Event Planning',\n",
       " 'Tech-Integrated Event Experiences',\n",
       " 'Cultural Heritage Celebrations']"
      ]
     },
     "execution_count": 4,
     "metadata": {},
     "output_type": "execute_result"
    }
   ],
   "source": [
    "# Specify the number of ideas to generate\n",
    "num_ideas = 3\n",
    "\n",
    "# Draft some example business ideas\n",
    "def draft_ideas(num_ideas, business_type):\n",
    "    q = QuestionList(\n",
    "        question_name = \"ideas\",\n",
    "        question_text = f\"\"\"Draft { num_ideas } original business ideas for a { business_type } business.\"\"\"\n",
    "    )\n",
    "    print(\"Drafting business ideas:\")\n",
    "    business_ideas = q.run(progress_bar=True).select(\"ideas\").to_list()[0]\n",
    "    return business_ideas\n",
    "\n",
    "business_ideas = draft_ideas(num_ideas, business_type)\n",
    "business_ideas"
   ]
  },
  {
   "cell_type": "markdown",
   "metadata": {
    "cell_id": "acc6a3afe521409280de3f561f3f9b43",
    "deepnote_cell_type": "markdown"
   },
   "source": [
    "## Construct the review as a survey\n",
    "The business ideas are parameters of questions prompting the agents to review them. We can structure the output using different EDSL question types (details on all question types <a href=\"https://deepnote.com/workspace/expected-parrot-c2fa2435-01e3-451d-ba12-9c36b3b87ad9/project/Expected-Parrot-examples-b457490b-fc5d-45e1-82a5-a66e1738a4b9/notebook/Docs%20-%20Questions-17430978a5634fc4ada3127b6b9bcd66\">here</a>)."
   ]
  },
  {
   "cell_type": "code",
   "execution_count": 5,
   "metadata": {
    "cell_id": "202aad1b7caf4b368b5a12466812845e",
    "deepnote_cell_type": "code",
    "deepnote_to_be_reexecuted": false,
    "execution_millis": 1883,
    "execution_start": 1709922502914,
    "source_hash": null
   },
   "outputs": [
    {
     "name": "stdout",
     "output_type": "stream",
     "text": [
      "Drafting business ideas:\n"
     ]
    },
    {
     "data": {
      "application/vnd.jupyter.widget-view+json": {
       "model_id": "8117fa5bf0544aac8f68273c86cbe752",
       "version_major": 2,
       "version_minor": 0
      },
      "text/plain": [
       "Output()"
      ]
     },
     "metadata": {},
     "output_type": "display_data"
    },
    {
     "data": {
      "text/html": [
       "<pre style=\"white-space:pre;overflow-x:auto;line-height:normal;font-family:Menlo,'DejaVu Sans Mono',consolas,'Courier New',monospace\"></pre>\n"
      ],
      "text/plain": []
     },
     "metadata": {},
     "output_type": "display_data"
    }
   ],
   "source": [
    "# Describe the review\n",
    "review_instructions = \"\"\"Analyze the business idea objectively, considering its genuine merits and \n",
    "                      potential pitfalls, and offer realistic feedback on the idea's utility or lack \n",
    "                      thereof. Provide a blunt, balanced validation and recommendation.\"\"\"\n",
    "\n",
    "# Specify components to include in each review\n",
    "review_components = [\"business idea overview\", \"potential markets\", \"pain points\", \"market risks\", \n",
    "                     \"alternative business models\", \"final validation and recommentation\"]\n",
    "\n",
    "# Specify the ideas to review or use the above method to generate some examples\n",
    "business_ideas = draft_ideas(3, business_type) # [\"Idea 1\", \"Idea 2\", \"Idea 3\"]\n",
    "\n",
    "# Prompt the agents to review the ideas\n",
    "def conduct_review(business_type, business_ideas, review_instructions, review_components, agents):\n",
    "    q1 = QuestionFreeText(\n",
    "        question_name = \"free_text_review\",\n",
    "        question_text = \"\"\"Consider the following business idea for a \"\"\" + business_type + \"\"\" \n",
    "        business: {{ business_idea }}. \"\"\" + review_instructions + \"\"\" \n",
    "        Include the following components in your review: \"\"\" + \", \".join(review_components)\n",
    "    )\n",
    "    q2 = QuestionList(\n",
    "        question_name = \"formatted_review\",\n",
    "        question_text = \"\"\"Consider the following business idea for a \"\"\" + business_type + \"\"\" \n",
    "        business: {{ business_idea }}. \"\"\" + review_instructions + \"\"\" \n",
    "        Provide a review of this idea in the form of a dict with \n",
    "        Include the following components in your review, formatting your review as a list where \n",
    "        the items are your analyses of the components: \"\"\" + \", \".join(review_components)\n",
    "    )\n",
    "    survey = Survey([q1, q2])\n",
    "\n",
    "    # If you want to connect the responses by including the response to q1 in the context for q2\n",
    "    survey.add_targeted_memory(q2, q1)\n",
    "    \n",
    "    scenarios = [Scenario({\"business_idea\":i}) for i in business_ideas]\n",
    "    print(\"Conducting review:\")\n",
    "    results = survey.by(scenarios).by(agents).run(progress_bar=True)\n",
    "    return results\n",
    "\n",
    "# review = conduct_review(business_type, business_ideas, review_instructions, review_components, agents)\n",
    "# review"
   ]
  },
  {
   "cell_type": "markdown",
   "metadata": {
    "cell_id": "10c544755cac475db0367adfd0dbee1b",
    "deepnote_app_block_visible": false,
    "deepnote_cell_type": "markdown"
   },
   "source": [
    "## Putting it all together and inspecting the results"
   ]
  },
  {
   "cell_type": "code",
   "execution_count": null,
   "metadata": {
    "cell_id": "4ee5dfd456bf44d18d1a7f78d8e15e29",
    "deepnote_cell_type": "code",
    "deepnote_to_be_reexecuted": false,
    "execution_millis": 4531,
    "execution_start": 1709922693785,
    "source_hash": null
   },
   "outputs": [
    {
     "name": "stdout",
     "output_type": "stream",
     "text": [
      "Creating agents:\n"
     ]
    },
    {
     "data": {
      "application/vnd.jupyter.widget-view+json": {
       "model_id": "9a976edb0fd44acf9d3540e2cec959d2",
       "version_major": 2,
       "version_minor": 0
      },
      "text/plain": [
       "Output()"
      ]
     },
     "metadata": {},
     "output_type": "display_data"
    },
    {
     "data": {
      "text/html": [
       "<pre style=\"white-space:pre;overflow-x:auto;line-height:normal;font-family:Menlo,'DejaVu Sans Mono',consolas,'Courier New',monospace\"></pre>\n"
      ],
      "text/plain": []
     },
     "metadata": {},
     "output_type": "display_data"
    },
    {
     "name": "stdout",
     "output_type": "stream",
     "text": [
      "Drafting business ideas:\n"
     ]
    },
    {
     "data": {
      "application/vnd.jupyter.widget-view+json": {
       "model_id": "256f8de79e6440679d6587eac09280c6",
       "version_major": 2,
       "version_minor": 0
      },
      "text/plain": [
       "Output()"
      ]
     },
     "metadata": {},
     "output_type": "display_data"
    },
    {
     "data": {
      "text/html": [
       "<pre style=\"white-space:pre;overflow-x:auto;line-height:normal;font-family:Menlo,'DejaVu Sans Mono',consolas,'Courier New',monospace\"></pre>\n"
      ],
      "text/plain": []
     },
     "metadata": {},
     "output_type": "display_data"
    },
    {
     "name": "stdout",
     "output_type": "stream",
     "text": [
      "Conducting review:\n"
     ]
    },
    {
     "data": {
      "application/vnd.jupyter.widget-view+json": {
       "model_id": "e0f67ba03f03475f8fe41adb053e125c",
       "version_major": 2,
       "version_minor": 0
      },
      "text/plain": [
       "Output()"
      ]
     },
     "metadata": {},
     "output_type": "display_data"
    }
   ],
   "source": [
    "# Create agents with relevant personas and any special instructions\n",
    "agents = create_agents(num_agents, agent_traits, special_instructions, business_type)\n",
    "\n",
    "# Creating some example business ideas (replace with actual ideas!)\n",
    "business_ideas = draft_ideas(num_ideas, business_type)\n",
    "\n",
    "# Conduct the review as a survey about the ideas\n",
    "results = conduct_review(business_type, business_ideas, review_instructions, review_components, agents)"
   ]
  },
  {
   "cell_type": "code",
   "execution_count": null,
   "metadata": {
    "allow_embed": false,
    "cell_id": "8a4052ebd68444c4a0ce0cfcdfea7e05",
    "deepnote_cell_type": "code",
    "deepnote_to_be_reexecuted": false,
    "execution_millis": 104,
    "execution_start": 1709922714812,
    "source_hash": null
   },
   "outputs": [],
   "source": [
    "# Inspect the results\n",
    "results.columns # to show all the components of Results objects"
   ]
  },
  {
   "cell_type": "code",
   "execution_count": null,
   "metadata": {
    "allow_embed": false,
    "cell_id": "1739472739a540e1896422bd9d19ff87",
    "deepnote_cell_type": "code",
    "deepnote_to_be_reexecuted": false,
    "execution_millis": 59,
    "execution_start": 1709922722301,
    "source_hash": null
   },
   "outputs": [],
   "source": [
    "# Printing select components\n",
    "results.select(\"persona\", \"scenario.*\", \"free_text_review\", \"formatted_review\").print()"
   ]
  }
 ],
 "metadata": {
  "deepnote_execution_queue": [],
  "deepnote_notebook_id": "a7e4ff20a8274c4da7019b5db5b2fbac",
  "kernelspec": {
   "display_name": "Python 3 (ipykernel)",
   "language": "python",
   "name": "python3"
  },
  "language_info": {
   "codemirror_mode": {
    "name": "ipython",
    "version": 3
   },
   "file_extension": ".py",
   "mimetype": "text/x-python",
   "name": "python",
   "nbconvert_exporter": "python",
   "pygments_lexer": "ipython3",
   "version": "3.11.7"
  }
 },
 "nbformat": 4,
 "nbformat_minor": 4
}
