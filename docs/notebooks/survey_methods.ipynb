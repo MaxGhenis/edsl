{
 "cells": [
  {
   "cell_type": "markdown",
   "id": "207df5c5-a2b2-4d88-96c3-02a7ad88cca8",
   "metadata": {},
   "source": [
    "# Survey methods examples\n",
    "This notebook contains examples of the following methods for adding rules/conditional logic and question memories to a survey:\n",
    "\n",
    "* `add_skip_rule()` - Skip a question based on a conditional expression (e.g., the response to another question).\n",
    "* `add_stop_rule()` - End the survey based on a conditional expression.\n",
    "* `add_rule()` - Administer a specified question next based on a conditional expression.\n",
    "* `set_full_memory_mode()` - Include a memory of all prior questions/answers at each new question in the survey.\n",
    "* `set_lagged_memory()` - Include a memory of a specified number of prior questions/answers at each new question in the survey.\n",
    "* `add_targeted_memory()` - Include a memory of a specific question/answer at another question in the survey.\n",
    "* `add_memory_collection()` - Include memories of a set of prior questions/answers at any other question in the survey.\n",
    "\n",
    "See the [EDSL Docs](https://docs.expectedparrot.com/en/latest/surveys.html) for more details on these and other methods."
   ]
  },
  {
   "cell_type": "markdown",
   "id": "05655c33-1df1-4287-bae4-cf2431c375ca",
   "metadata": {},
   "source": [
    "## Example survey\n",
    "We start by creating some questions to demonstrate the methods."
   ]
  },
  {
   "cell_type": "code",
   "execution_count": 1,
   "id": "2ffadf42-d071-444b-acf8-3d9e707596be",
   "metadata": {},
   "outputs": [],
   "source": [
    "from edsl.questions import QuestionMultipleChoice, QuestionLinearScale, QuestionTopK\n",
    "from edsl import Survey\n",
    "\n",
    "q1 = QuestionMultipleChoice(\n",
    "    question_name = \"color\",\n",
    "    question_text = \"What is your favorite color?\",\n",
    "    question_options = [\"Red\", \"Orange\", \"Yellow\", \"Green\", \"Blue\", \"Purple\"]\n",
    ")\n",
    "q2 = QuestionMultipleChoice(\n",
    "    question_name = \"day\",\n",
    "    question_text = \"What is your favorite day of the week?\",\n",
    "    question_options = [\"Sun\", \"Mon\", \"Tue\", \"Wed\", \"Thu\", \"Fri\", \"Sat\"]\n",
    ")\n",
    "q3 = QuestionLinearScale(\n",
    "    question_name = \"winter\",\n",
    "    question_text = \"How much do you enjoy winter?\",\n",
    "    question_options = [0,1,2,3,4,5],\n",
    "    option_labels = {0: \"Hate it\", 5: \"Love it\"}\n",
    ")\n",
    "q4 = QuestionTopK(\n",
    "    question_name = \"birds\",\n",
    "    question_text = \"Which birds do you like best?\",\n",
    "    question_options = [\"Parrot\", \"Osprey\", \"Falcon\", \"Eagle\", \"First Robin of Spring\"],\n",
    "    min_selections = 2,\n",
    "    max_selections = 2\n",
    ")"
   ]
  },
  {
   "cell_type": "markdown",
   "id": "78a61476-859d-4c33-a8a7-03a0fc659cb3",
   "metadata": {},
   "source": [
    "## Skip rules\n",
    "The `add_skip_rule()` method skips a question if a condition is met. The (2) required parameters are the question to skip and the condition to evaluate.\n",
    "\n",
    "Here we use this method to skip q2 if the response to “color” is “Blue”. Note that we can refer to the question to be skipped using either the id (“q2”) or question_name (“day”):"
   ]
  },
  {
   "cell_type": "code",
   "execution_count": 2,
   "id": "a8a0bfd2-ebe7-45d8-9639-436a3df6fae1",
   "metadata": {},
   "outputs": [
    {
     "data": {
      "text/html": [
       "<pre style=\"white-space:pre;overflow-x:auto;line-height:normal;font-family:Menlo,'DejaVu Sans Mono',consolas,'Courier New',monospace\">┏━━━━━━━━┳━━━━━━━━┳━━━━━━━━━┳━━━━━━━━━━━━━━━━━━━━━┓\n",
       "┃<span style=\"color: #800080; text-decoration-color: #800080; font-weight: bold\"> answer </span>┃<span style=\"color: #800080; text-decoration-color: #800080; font-weight: bold\"> answer </span>┃<span style=\"color: #800080; text-decoration-color: #800080; font-weight: bold\"> answer  </span>┃<span style=\"color: #800080; text-decoration-color: #800080; font-weight: bold\"> answer              </span>┃\n",
       "┃<span style=\"color: #800080; text-decoration-color: #800080; font-weight: bold\"> .color </span>┃<span style=\"color: #800080; text-decoration-color: #800080; font-weight: bold\"> .day   </span>┃<span style=\"color: #800080; text-decoration-color: #800080; font-weight: bold\"> .winter </span>┃<span style=\"color: #800080; text-decoration-color: #800080; font-weight: bold\"> .birds              </span>┃\n",
       "┡━━━━━━━━╇━━━━━━━━╇━━━━━━━━━╇━━━━━━━━━━━━━━━━━━━━━┩\n",
       "│<span style=\"color: #7f7f7f; text-decoration-color: #7f7f7f\"> Blue   </span>│<span style=\"color: #7f7f7f; text-decoration-color: #7f7f7f\"> None   </span>│<span style=\"color: #7f7f7f; text-decoration-color: #7f7f7f\"> 3       </span>│<span style=\"color: #7f7f7f; text-decoration-color: #7f7f7f\"> ['Falcon', 'Eagle'] </span>│\n",
       "└────────┴────────┴─────────┴─────────────────────┘\n",
       "</pre>\n"
      ],
      "text/plain": [
       "┏━━━━━━━━┳━━━━━━━━┳━━━━━━━━━┳━━━━━━━━━━━━━━━━━━━━━┓\n",
       "┃\u001b[1;35m \u001b[0m\u001b[1;35manswer\u001b[0m\u001b[1;35m \u001b[0m┃\u001b[1;35m \u001b[0m\u001b[1;35manswer\u001b[0m\u001b[1;35m \u001b[0m┃\u001b[1;35m \u001b[0m\u001b[1;35manswer \u001b[0m\u001b[1;35m \u001b[0m┃\u001b[1;35m \u001b[0m\u001b[1;35manswer             \u001b[0m\u001b[1;35m \u001b[0m┃\n",
       "┃\u001b[1;35m \u001b[0m\u001b[1;35m.color\u001b[0m\u001b[1;35m \u001b[0m┃\u001b[1;35m \u001b[0m\u001b[1;35m.day  \u001b[0m\u001b[1;35m \u001b[0m┃\u001b[1;35m \u001b[0m\u001b[1;35m.winter\u001b[0m\u001b[1;35m \u001b[0m┃\u001b[1;35m \u001b[0m\u001b[1;35m.birds             \u001b[0m\u001b[1;35m \u001b[0m┃\n",
       "┡━━━━━━━━╇━━━━━━━━╇━━━━━━━━━╇━━━━━━━━━━━━━━━━━━━━━┩\n",
       "│\u001b[2m \u001b[0m\u001b[2mBlue  \u001b[0m\u001b[2m \u001b[0m│\u001b[2m \u001b[0m\u001b[2mNone  \u001b[0m\u001b[2m \u001b[0m│\u001b[2m \u001b[0m\u001b[2m3      \u001b[0m\u001b[2m \u001b[0m│\u001b[2m \u001b[0m\u001b[2m['Falcon', 'Eagle']\u001b[0m\u001b[2m \u001b[0m│\n",
       "└────────┴────────┴─────────┴─────────────────────┘\n"
      ]
     },
     "metadata": {},
     "output_type": "display_data"
    }
   ],
   "source": [
    "survey = Survey(questions = [q1, q2, q3, q4])\n",
    "survey = survey.add_skip_rule(q2, \"color == 'Blue'\")\n",
    "\n",
    "results = survey.run()\n",
    "results.select(\"color\", \"day\", \"winter\", \"birds\").print(format=\"rich\")"
   ]
  },
  {
   "cell_type": "markdown",
   "id": "937f21c4-6ba4-4eb0-bd15-983f968cea0c",
   "metadata": {},
   "source": [
    "We can see that the response to q2 is \"None\" indicating that the question was not administered to the agent."
   ]
  },
  {
   "cell_type": "markdown",
   "id": "0f99dd62-62d2-49f9-9372-e89b039e16dc",
   "metadata": {},
   "source": [
    "## Stop rules\n",
    "The `add_stop_rule()` method stops the survey if a condition is met. The (2) required parameters are the question to stop at and the condition to evaluate.\n",
    "\n",
    "Here we use the method to end the survey at q1 if the response is \"Blue\":"
   ]
  },
  {
   "cell_type": "code",
   "execution_count": 3,
   "id": "72533417-ec7a-48bf-b4c8-d26e95e171da",
   "metadata": {},
   "outputs": [
    {
     "data": {
      "text/html": [
       "<pre style=\"white-space:pre;overflow-x:auto;line-height:normal;font-family:Menlo,'DejaVu Sans Mono',consolas,'Courier New',monospace\">┏━━━━━━━━┳━━━━━━━━┳━━━━━━━━━┳━━━━━━━━┓\n",
       "┃<span style=\"color: #800080; text-decoration-color: #800080; font-weight: bold\"> answer </span>┃<span style=\"color: #800080; text-decoration-color: #800080; font-weight: bold\"> answer </span>┃<span style=\"color: #800080; text-decoration-color: #800080; font-weight: bold\"> answer  </span>┃<span style=\"color: #800080; text-decoration-color: #800080; font-weight: bold\"> answer </span>┃\n",
       "┃<span style=\"color: #800080; text-decoration-color: #800080; font-weight: bold\"> .color </span>┃<span style=\"color: #800080; text-decoration-color: #800080; font-weight: bold\"> .day   </span>┃<span style=\"color: #800080; text-decoration-color: #800080; font-weight: bold\"> .winter </span>┃<span style=\"color: #800080; text-decoration-color: #800080; font-weight: bold\"> .birds </span>┃\n",
       "┡━━━━━━━━╇━━━━━━━━╇━━━━━━━━━╇━━━━━━━━┩\n",
       "│<span style=\"color: #7f7f7f; text-decoration-color: #7f7f7f\"> Blue   </span>│<span style=\"color: #7f7f7f; text-decoration-color: #7f7f7f\"> None   </span>│<span style=\"color: #7f7f7f; text-decoration-color: #7f7f7f\"> None    </span>│<span style=\"color: #7f7f7f; text-decoration-color: #7f7f7f\"> None   </span>│\n",
       "└────────┴────────┴─────────┴────────┘\n",
       "</pre>\n"
      ],
      "text/plain": [
       "┏━━━━━━━━┳━━━━━━━━┳━━━━━━━━━┳━━━━━━━━┓\n",
       "┃\u001b[1;35m \u001b[0m\u001b[1;35manswer\u001b[0m\u001b[1;35m \u001b[0m┃\u001b[1;35m \u001b[0m\u001b[1;35manswer\u001b[0m\u001b[1;35m \u001b[0m┃\u001b[1;35m \u001b[0m\u001b[1;35manswer \u001b[0m\u001b[1;35m \u001b[0m┃\u001b[1;35m \u001b[0m\u001b[1;35manswer\u001b[0m\u001b[1;35m \u001b[0m┃\n",
       "┃\u001b[1;35m \u001b[0m\u001b[1;35m.color\u001b[0m\u001b[1;35m \u001b[0m┃\u001b[1;35m \u001b[0m\u001b[1;35m.day  \u001b[0m\u001b[1;35m \u001b[0m┃\u001b[1;35m \u001b[0m\u001b[1;35m.winter\u001b[0m\u001b[1;35m \u001b[0m┃\u001b[1;35m \u001b[0m\u001b[1;35m.birds\u001b[0m\u001b[1;35m \u001b[0m┃\n",
       "┡━━━━━━━━╇━━━━━━━━╇━━━━━━━━━╇━━━━━━━━┩\n",
       "│\u001b[2m \u001b[0m\u001b[2mBlue  \u001b[0m\u001b[2m \u001b[0m│\u001b[2m \u001b[0m\u001b[2mNone  \u001b[0m\u001b[2m \u001b[0m│\u001b[2m \u001b[0m\u001b[2mNone   \u001b[0m\u001b[2m \u001b[0m│\u001b[2m \u001b[0m\u001b[2mNone  \u001b[0m\u001b[2m \u001b[0m│\n",
       "└────────┴────────┴─────────┴────────┘\n"
      ]
     },
     "metadata": {},
     "output_type": "display_data"
    }
   ],
   "source": [
    "survey = Survey(questions = [q1, q2, q3, q4])\n",
    "survey = survey.add_stop_rule(q1, \"color == 'Blue'\")\n",
    "\n",
    "results = survey.run()\n",
    "results.select(\"color\", \"day\", \"winter\", \"birds\").print(format=\"rich\")"
   ]
  },
  {
   "cell_type": "markdown",
   "id": "88113f81-7890-44a5-8563-8c6ef5d1295d",
   "metadata": {},
   "source": [
    "## Other rules\n",
    "The generalizable `add_rule()` method is used to specify the next question to administer based on a condition. The (3) required parameters are the question to evaluate, the condition to evaluate, and the question to administer next.\n",
    "\n",
    "Here we the method to specify that if the response to “color” is “Blue” then q4 should be administered next:"
   ]
  },
  {
   "cell_type": "code",
   "execution_count": 4,
   "id": "a7270cd6-7218-496d-b157-361c310952a8",
   "metadata": {},
   "outputs": [
    {
     "data": {
      "text/html": [
       "<pre style=\"white-space:pre;overflow-x:auto;line-height:normal;font-family:Menlo,'DejaVu Sans Mono',consolas,'Courier New',monospace\">┏━━━━━━━━┳━━━━━━━━┳━━━━━━━━━┳━━━━━━━━━━━━━━━━━━━━━┓\n",
       "┃<span style=\"color: #800080; text-decoration-color: #800080; font-weight: bold\"> answer </span>┃<span style=\"color: #800080; text-decoration-color: #800080; font-weight: bold\"> answer </span>┃<span style=\"color: #800080; text-decoration-color: #800080; font-weight: bold\"> answer  </span>┃<span style=\"color: #800080; text-decoration-color: #800080; font-weight: bold\"> answer              </span>┃\n",
       "┃<span style=\"color: #800080; text-decoration-color: #800080; font-weight: bold\"> .color </span>┃<span style=\"color: #800080; text-decoration-color: #800080; font-weight: bold\"> .day   </span>┃<span style=\"color: #800080; text-decoration-color: #800080; font-weight: bold\"> .winter </span>┃<span style=\"color: #800080; text-decoration-color: #800080; font-weight: bold\"> .birds              </span>┃\n",
       "┡━━━━━━━━╇━━━━━━━━╇━━━━━━━━━╇━━━━━━━━━━━━━━━━━━━━━┩\n",
       "│<span style=\"color: #7f7f7f; text-decoration-color: #7f7f7f\"> Blue   </span>│<span style=\"color: #7f7f7f; text-decoration-color: #7f7f7f\"> None   </span>│<span style=\"color: #7f7f7f; text-decoration-color: #7f7f7f\"> None    </span>│<span style=\"color: #7f7f7f; text-decoration-color: #7f7f7f\"> ['Falcon', 'Eagle'] </span>│\n",
       "└────────┴────────┴─────────┴─────────────────────┘\n",
       "</pre>\n"
      ],
      "text/plain": [
       "┏━━━━━━━━┳━━━━━━━━┳━━━━━━━━━┳━━━━━━━━━━━━━━━━━━━━━┓\n",
       "┃\u001b[1;35m \u001b[0m\u001b[1;35manswer\u001b[0m\u001b[1;35m \u001b[0m┃\u001b[1;35m \u001b[0m\u001b[1;35manswer\u001b[0m\u001b[1;35m \u001b[0m┃\u001b[1;35m \u001b[0m\u001b[1;35manswer \u001b[0m\u001b[1;35m \u001b[0m┃\u001b[1;35m \u001b[0m\u001b[1;35manswer             \u001b[0m\u001b[1;35m \u001b[0m┃\n",
       "┃\u001b[1;35m \u001b[0m\u001b[1;35m.color\u001b[0m\u001b[1;35m \u001b[0m┃\u001b[1;35m \u001b[0m\u001b[1;35m.day  \u001b[0m\u001b[1;35m \u001b[0m┃\u001b[1;35m \u001b[0m\u001b[1;35m.winter\u001b[0m\u001b[1;35m \u001b[0m┃\u001b[1;35m \u001b[0m\u001b[1;35m.birds             \u001b[0m\u001b[1;35m \u001b[0m┃\n",
       "┡━━━━━━━━╇━━━━━━━━╇━━━━━━━━━╇━━━━━━━━━━━━━━━━━━━━━┩\n",
       "│\u001b[2m \u001b[0m\u001b[2mBlue  \u001b[0m\u001b[2m \u001b[0m│\u001b[2m \u001b[0m\u001b[2mNone  \u001b[0m\u001b[2m \u001b[0m│\u001b[2m \u001b[0m\u001b[2mNone   \u001b[0m\u001b[2m \u001b[0m│\u001b[2m \u001b[0m\u001b[2m['Falcon', 'Eagle']\u001b[0m\u001b[2m \u001b[0m│\n",
       "└────────┴────────┴─────────┴─────────────────────┘\n"
      ]
     },
     "metadata": {},
     "output_type": "display_data"
    }
   ],
   "source": [
    "survey = Survey(questions = [q1, q2, q3, q4])\n",
    "survey = survey.add_rule(q1, \"color == 'Blue'\", q4)\n",
    "\n",
    "results = survey.run()\n",
    "results.select(\"color\", \"day\", \"winter\", \"birds\").print(format=\"rich\")"
   ]
  },
  {
   "cell_type": "markdown",
   "id": "446f04d9-1f00-48a5-b930-58b94818304e",
   "metadata": {},
   "source": [
    "## Question memories\n",
    "When an agent is taking a survey, they can be prompted to “remember” answers to previous questions. This can be done in several ways:"
   ]
  },
  {
   "cell_type": "markdown",
   "id": "9a29dc36-bbd7-4113-bb41-343c11beaee1",
   "metadata": {},
   "source": [
    "## Full memory\n",
    "The method `set_full_memory_mode()` gives the agent all of the prior questions and answers at each new question in the survey, i.e., the first question and answer are included in the memory when answering the second question, both the first and second questions and answers are included in the memory when answering the third question, and so on. The method is called on the survey object:"
   ]
  },
  {
   "cell_type": "code",
   "execution_count": 5,
   "id": "d28f1d75-38d3-4b27-a33e-ff8f0e7d79d1",
   "metadata": {},
   "outputs": [],
   "source": [
    "survey = Survey(questions = [q1, q2, q3, q4])\n",
    "survey = survey.set_full_memory_mode()"
   ]
  },
  {
   "cell_type": "markdown",
   "id": "59b58fa9-1524-4eed-a057-38f8f8b592ff",
   "metadata": {},
   "source": [
    "In the results, we can inspect the `_user_prompt` for each question to see that the agent was prompted to remember all of the prior questions:"
   ]
  },
  {
   "cell_type": "code",
   "execution_count": 6,
   "id": "7ac57b52-6435-46dd-a65a-32d7e184df03",
   "metadata": {},
   "outputs": [
    {
     "data": {
      "text/html": [
       "<pre style=\"white-space:pre;overflow-x:auto;line-height:normal;font-family:Menlo,'DejaVu Sans Mono',consolas,'Courier New',monospace\">┏━━━━━━━━━━━━━━━━━━━━━━━━━━━━┳━━━━━━━━━━━━━━━━━━━━━━━━━━━┳━━━━━━━━━━━━━━━━━━━━━━━━━━━━┳━━━━━━━━━━━━━━━━━━━━━━━━━━━┓\n",
       "┃<span style=\"color: #800080; text-decoration-color: #800080; font-weight: bold\"> prompt                     </span>┃<span style=\"color: #800080; text-decoration-color: #800080; font-weight: bold\"> prompt                    </span>┃<span style=\"color: #800080; text-decoration-color: #800080; font-weight: bold\"> prompt                     </span>┃<span style=\"color: #800080; text-decoration-color: #800080; font-weight: bold\"> prompt                    </span>┃\n",
       "┃<span style=\"color: #800080; text-decoration-color: #800080; font-weight: bold\"> .color_user_prompt         </span>┃<span style=\"color: #800080; text-decoration-color: #800080; font-weight: bold\"> .day_user_prompt          </span>┃<span style=\"color: #800080; text-decoration-color: #800080; font-weight: bold\"> .winter_user_prompt        </span>┃<span style=\"color: #800080; text-decoration-color: #800080; font-weight: bold\"> .birds_user_prompt        </span>┃\n",
       "┡━━━━━━━━━━━━━━━━━━━━━━━━━━━━╇━━━━━━━━━━━━━━━━━━━━━━━━━━━╇━━━━━━━━━━━━━━━━━━━━━━━━━━━━╇━━━━━━━━━━━━━━━━━━━━━━━━━━━┩\n",
       "│<span style=\"color: #7f7f7f; text-decoration-color: #7f7f7f\"> {'text': 'You are being    </span>│<span style=\"color: #7f7f7f; text-decoration-color: #7f7f7f\"> {'text': 'You are being   </span>│<span style=\"color: #7f7f7f; text-decoration-color: #7f7f7f\"> {'text': 'You are being    </span>│<span style=\"color: #7f7f7f; text-decoration-color: #7f7f7f\"> {'text': 'You are being   </span>│\n",
       "│<span style=\"color: #7f7f7f; text-decoration-color: #7f7f7f\"> asked the following        </span>│<span style=\"color: #7f7f7f; text-decoration-color: #7f7f7f\"> asked the following       </span>│<span style=\"color: #7f7f7f; text-decoration-color: #7f7f7f\"> asked the following        </span>│<span style=\"color: #7f7f7f; text-decoration-color: #7f7f7f\"> asked the following       </span>│\n",
       "│<span style=\"color: #7f7f7f; text-decoration-color: #7f7f7f\"> question: What is your     </span>│<span style=\"color: #7f7f7f; text-decoration-color: #7f7f7f\"> question: What is your    </span>│<span style=\"color: #7f7f7f; text-decoration-color: #7f7f7f\"> question: How much do you  </span>│<span style=\"color: #7f7f7f; text-decoration-color: #7f7f7f\"> question: Which birds do  </span>│\n",
       "│<span style=\"color: #7f7f7f; text-decoration-color: #7f7f7f\"> favorite color?\\nThe       </span>│<span style=\"color: #7f7f7f; text-decoration-color: #7f7f7f\"> favorite day of the       </span>│<span style=\"color: #7f7f7f; text-decoration-color: #7f7f7f\"> enjoy winter?\\nThe options </span>│<span style=\"color: #7f7f7f; text-decoration-color: #7f7f7f\"> you like best?\\nThe       </span>│\n",
       "│<span style=\"color: #7f7f7f; text-decoration-color: #7f7f7f\"> options are\\n\\n0:          </span>│<span style=\"color: #7f7f7f; text-decoration-color: #7f7f7f\"> week?\\nThe options        </span>│<span style=\"color: #7f7f7f; text-decoration-color: #7f7f7f\"> are\\n\\n0: 0\\n\\n1: 1\\n\\n2:  </span>│<span style=\"color: #7f7f7f; text-decoration-color: #7f7f7f\"> options are\\n\\n0:         </span>│\n",
       "│<span style=\"color: #7f7f7f; text-decoration-color: #7f7f7f\"> Red\\n\\n1: Orange\\n\\n2:     </span>│<span style=\"color: #7f7f7f; text-decoration-color: #7f7f7f\"> are\\n\\n0: Sun\\n\\n1:       </span>│<span style=\"color: #7f7f7f; text-decoration-color: #7f7f7f\"> 2\\n\\n3: 3\\n\\n4: 4\\n\\n5:    </span>│<span style=\"color: #7f7f7f; text-decoration-color: #7f7f7f\"> Parrot\\n\\n1: Osprey\\n\\n2: </span>│\n",
       "│<span style=\"color: #7f7f7f; text-decoration-color: #7f7f7f\"> Yellow\\n\\n3: Green\\n\\n4:   </span>│<span style=\"color: #7f7f7f; text-decoration-color: #7f7f7f\"> Mon\\n\\n2: Tue\\n\\n3:       </span>│<span style=\"color: #7f7f7f; text-decoration-color: #7f7f7f\"> 5\\n\\nReturn a valid JSON   </span>│<span style=\"color: #7f7f7f; text-decoration-color: #7f7f7f\"> Falcon\\n\\n3: Eagle\\n\\n4:  </span>│\n",
       "│<span style=\"color: #7f7f7f; text-decoration-color: #7f7f7f\"> Blue\\n\\n5:                 </span>│<span style=\"color: #7f7f7f; text-decoration-color: #7f7f7f\"> Wed\\n\\n4: Thu\\n\\n5:       </span>│<span style=\"color: #7f7f7f; text-decoration-color: #7f7f7f\"> formatted like this,       </span>│<span style=\"color: #7f7f7f; text-decoration-color: #7f7f7f\"> First Robin of            </span>│\n",
       "│<span style=\"color: #7f7f7f; text-decoration-color: #7f7f7f\"> Purple\\n\\nReturn a valid   </span>│<span style=\"color: #7f7f7f; text-decoration-color: #7f7f7f\"> Fri\\n\\n6: Sat\\n\\nReturn a </span>│<span style=\"color: #7f7f7f; text-decoration-color: #7f7f7f\"> selecting only the code of </span>│<span style=\"color: #7f7f7f; text-decoration-color: #7f7f7f\"> Spring\\n\\nReturn a valid  </span>│\n",
       "│<span style=\"color: #7f7f7f; text-decoration-color: #7f7f7f\"> JSON formatted like this,  </span>│<span style=\"color: #7f7f7f; text-decoration-color: #7f7f7f\"> valid JSON formatted like </span>│<span style=\"color: #7f7f7f; text-decoration-color: #7f7f7f\"> the option (codes start at </span>│<span style=\"color: #7f7f7f; text-decoration-color: #7f7f7f\"> JSON formatted like this, </span>│\n",
       "│<span style=\"color: #7f7f7f; text-decoration-color: #7f7f7f\"> selecting only the number  </span>│<span style=\"color: #7f7f7f; text-decoration-color: #7f7f7f\"> this, selecting only the  </span>│<span style=\"color: #7f7f7f; text-decoration-color: #7f7f7f\"> 0):\\n{\"answer\": &lt;put       </span>│<span style=\"color: #7f7f7f; text-decoration-color: #7f7f7f\"> selecting only the number </span>│\n",
       "│<span style=\"color: #7f7f7f; text-decoration-color: #7f7f7f\"> of the option:\\n{\"answer\": </span>│<span style=\"color: #7f7f7f; text-decoration-color: #7f7f7f\"> number of the             </span>│<span style=\"color: #7f7f7f; text-decoration-color: #7f7f7f\"> answer code here&gt;,         </span>│<span style=\"color: #7f7f7f; text-decoration-color: #7f7f7f\"> of the                    </span>│\n",
       "│<span style=\"color: #7f7f7f; text-decoration-color: #7f7f7f\"> &lt;put answer code here&gt;,    </span>│<span style=\"color: #7f7f7f; text-decoration-color: #7f7f7f\"> option:\\n{\"answer\": &lt;put  </span>│<span style=\"color: #7f7f7f; text-decoration-color: #7f7f7f\"> \"comment\": \"&lt;put           </span>│<span style=\"color: #7f7f7f; text-decoration-color: #7f7f7f\"> option:\\n{\"answer\": [&lt;put </span>│\n",
       "│<span style=\"color: #7f7f7f; text-decoration-color: #7f7f7f\"> \"comment\": \"&lt;put           </span>│<span style=\"color: #7f7f7f; text-decoration-color: #7f7f7f\"> answer code here&gt;,        </span>│<span style=\"color: #7f7f7f; text-decoration-color: #7f7f7f\"> explanation here&gt;\"}\\nOnly  </span>│<span style=\"color: #7f7f7f; text-decoration-color: #7f7f7f\"> comma-separated list of   </span>│\n",
       "│<span style=\"color: #7f7f7f; text-decoration-color: #7f7f7f\"> explanation here&gt;\"}\\nOnly  </span>│<span style=\"color: #7f7f7f; text-decoration-color: #7f7f7f\"> \"comment\": \"&lt;put          </span>│<span style=\"color: #7f7f7f; text-decoration-color: #7f7f7f\"> 1 option may be            </span>│<span style=\"color: #7f7f7f; text-decoration-color: #7f7f7f\"> answer codes here&gt;],      </span>│\n",
       "│<span style=\"color: #7f7f7f; text-decoration-color: #7f7f7f\"> 1 option may be            </span>│<span style=\"color: #7f7f7f; text-decoration-color: #7f7f7f\"> explanation here&gt;\"}\\nOnly </span>│<span style=\"color: #7f7f7f; text-decoration-color: #7f7f7f\"> selected.\\n        Before  </span>│<span style=\"color: #7f7f7f; text-decoration-color: #7f7f7f\"> \"comment\": \"&lt;put          </span>│\n",
       "│<span style=\"color: #7f7f7f; text-decoration-color: #7f7f7f\"> selected.', 'class_name':  </span>│<span style=\"color: #7f7f7f; text-decoration-color: #7f7f7f\"> 1 option may be           </span>│<span style=\"color: #7f7f7f; text-decoration-color: #7f7f7f\"> the question you are now   </span>│<span style=\"color: #7f7f7f; text-decoration-color: #7f7f7f\"> explanation               </span>│\n",
       "│<span style=\"color: #7f7f7f; text-decoration-color: #7f7f7f\"> 'MultipleChoice'}          </span>│<span style=\"color: #7f7f7f; text-decoration-color: #7f7f7f\"> selected.\\n        Before </span>│<span style=\"color: #7f7f7f; text-decoration-color: #7f7f7f\"> answering, you already     </span>│<span style=\"color: #7f7f7f; text-decoration-color: #7f7f7f\"> here&gt;\"}\\n\\nYou must       </span>│\n",
       "│<span style=\"color: #7f7f7f; text-decoration-color: #7f7f7f\">                            </span>│<span style=\"color: #7f7f7f; text-decoration-color: #7f7f7f\"> the question you are now  </span>│<span style=\"color: #7f7f7f; text-decoration-color: #7f7f7f\"> answered the following     </span>│<span style=\"color: #7f7f7f; text-decoration-color: #7f7f7f\"> select exactly 2          </span>│\n",
       "│<span style=\"color: #7f7f7f; text-decoration-color: #7f7f7f\">                            </span>│<span style=\"color: #7f7f7f; text-decoration-color: #7f7f7f\"> answering, you already    </span>│<span style=\"color: #7f7f7f; text-decoration-color: #7f7f7f\"> question(s):\\n             </span>│<span style=\"color: #7f7f7f; text-decoration-color: #7f7f7f\"> options.\\n        Before  </span>│\n",
       "│<span style=\"color: #7f7f7f; text-decoration-color: #7f7f7f\">                            </span>│<span style=\"color: #7f7f7f; text-decoration-color: #7f7f7f\"> answered the following    </span>│<span style=\"color: #7f7f7f; text-decoration-color: #7f7f7f\"> \\tQuestion: What is your   </span>│<span style=\"color: #7f7f7f; text-decoration-color: #7f7f7f\"> the question you are now  </span>│\n",
       "│<span style=\"color: #7f7f7f; text-decoration-color: #7f7f7f\">                            </span>│<span style=\"color: #7f7f7f; text-decoration-color: #7f7f7f\"> question(s):\\n            </span>│<span style=\"color: #7f7f7f; text-decoration-color: #7f7f7f\"> favorite color?\\n\\tAnswer: </span>│<span style=\"color: #7f7f7f; text-decoration-color: #7f7f7f\"> answering, you already    </span>│\n",
       "│<span style=\"color: #7f7f7f; text-decoration-color: #7f7f7f\">                            </span>│<span style=\"color: #7f7f7f; text-decoration-color: #7f7f7f\"> \\tQuestion: What is your  </span>│<span style=\"color: #7f7f7f; text-decoration-color: #7f7f7f\"> Blue\\n\\n Prior questions   </span>│<span style=\"color: #7f7f7f; text-decoration-color: #7f7f7f\"> answered the following    </span>│\n",
       "│<span style=\"color: #7f7f7f; text-decoration-color: #7f7f7f\">                            </span>│<span style=\"color: #7f7f7f; text-decoration-color: #7f7f7f\"> favorite                  </span>│<span style=\"color: #7f7f7f; text-decoration-color: #7f7f7f\"> and answers:\\tQuestion:    </span>│<span style=\"color: #7f7f7f; text-decoration-color: #7f7f7f\"> question(s):\\n            </span>│\n",
       "│<span style=\"color: #7f7f7f; text-decoration-color: #7f7f7f\">                            </span>│<span style=\"color: #7f7f7f; text-decoration-color: #7f7f7f\"> color?\\n\\tAnswer: Blue',  </span>│<span style=\"color: #7f7f7f; text-decoration-color: #7f7f7f\"> What is your favorite day  </span>│<span style=\"color: #7f7f7f; text-decoration-color: #7f7f7f\"> \\tQuestion: What is your  </span>│\n",
       "│<span style=\"color: #7f7f7f; text-decoration-color: #7f7f7f\">                            </span>│<span style=\"color: #7f7f7f; text-decoration-color: #7f7f7f\"> 'class_name':             </span>│<span style=\"color: #7f7f7f; text-decoration-color: #7f7f7f\"> of the week?\\n\\tAnswer:    </span>│<span style=\"color: #7f7f7f; text-decoration-color: #7f7f7f\"> favorite                  </span>│\n",
       "│<span style=\"color: #7f7f7f; text-decoration-color: #7f7f7f\">                            </span>│<span style=\"color: #7f7f7f; text-decoration-color: #7f7f7f\"> 'MultipleChoice'}         </span>│<span style=\"color: #7f7f7f; text-decoration-color: #7f7f7f\"> Fri', 'class_name':        </span>│<span style=\"color: #7f7f7f; text-decoration-color: #7f7f7f\"> color?\\n\\tAnswer:         </span>│\n",
       "│<span style=\"color: #7f7f7f; text-decoration-color: #7f7f7f\">                            </span>│<span style=\"color: #7f7f7f; text-decoration-color: #7f7f7f\">                           </span>│<span style=\"color: #7f7f7f; text-decoration-color: #7f7f7f\"> 'LinearScale'}             </span>│<span style=\"color: #7f7f7f; text-decoration-color: #7f7f7f\"> Blue\\n\\n Prior questions  </span>│\n",
       "│<span style=\"color: #7f7f7f; text-decoration-color: #7f7f7f\">                            </span>│<span style=\"color: #7f7f7f; text-decoration-color: #7f7f7f\">                           </span>│<span style=\"color: #7f7f7f; text-decoration-color: #7f7f7f\">                            </span>│<span style=\"color: #7f7f7f; text-decoration-color: #7f7f7f\"> and answers:\\tQuestion:   </span>│\n",
       "│<span style=\"color: #7f7f7f; text-decoration-color: #7f7f7f\">                            </span>│<span style=\"color: #7f7f7f; text-decoration-color: #7f7f7f\">                           </span>│<span style=\"color: #7f7f7f; text-decoration-color: #7f7f7f\">                            </span>│<span style=\"color: #7f7f7f; text-decoration-color: #7f7f7f\"> What is your favorite day </span>│\n",
       "│<span style=\"color: #7f7f7f; text-decoration-color: #7f7f7f\">                            </span>│<span style=\"color: #7f7f7f; text-decoration-color: #7f7f7f\">                           </span>│<span style=\"color: #7f7f7f; text-decoration-color: #7f7f7f\">                            </span>│<span style=\"color: #7f7f7f; text-decoration-color: #7f7f7f\"> of the week?\\n\\tAnswer:   </span>│\n",
       "│<span style=\"color: #7f7f7f; text-decoration-color: #7f7f7f\">                            </span>│<span style=\"color: #7f7f7f; text-decoration-color: #7f7f7f\">                           </span>│<span style=\"color: #7f7f7f; text-decoration-color: #7f7f7f\">                            </span>│<span style=\"color: #7f7f7f; text-decoration-color: #7f7f7f\"> Fri\\n\\n Prior questions   </span>│\n",
       "│<span style=\"color: #7f7f7f; text-decoration-color: #7f7f7f\">                            </span>│<span style=\"color: #7f7f7f; text-decoration-color: #7f7f7f\">                           </span>│<span style=\"color: #7f7f7f; text-decoration-color: #7f7f7f\">                            </span>│<span style=\"color: #7f7f7f; text-decoration-color: #7f7f7f\"> and answers:\\tQuestion:   </span>│\n",
       "│<span style=\"color: #7f7f7f; text-decoration-color: #7f7f7f\">                            </span>│<span style=\"color: #7f7f7f; text-decoration-color: #7f7f7f\">                           </span>│<span style=\"color: #7f7f7f; text-decoration-color: #7f7f7f\">                            </span>│<span style=\"color: #7f7f7f; text-decoration-color: #7f7f7f\"> How much do you enjoy     </span>│\n",
       "│<span style=\"color: #7f7f7f; text-decoration-color: #7f7f7f\">                            </span>│<span style=\"color: #7f7f7f; text-decoration-color: #7f7f7f\">                           </span>│<span style=\"color: #7f7f7f; text-decoration-color: #7f7f7f\">                            </span>│<span style=\"color: #7f7f7f; text-decoration-color: #7f7f7f\"> winter?\\n\\tAnswer: 3',    </span>│\n",
       "│<span style=\"color: #7f7f7f; text-decoration-color: #7f7f7f\">                            </span>│<span style=\"color: #7f7f7f; text-decoration-color: #7f7f7f\">                           </span>│<span style=\"color: #7f7f7f; text-decoration-color: #7f7f7f\">                            </span>│<span style=\"color: #7f7f7f; text-decoration-color: #7f7f7f\"> 'class_name': 'TopK'}     </span>│\n",
       "└────────────────────────────┴───────────────────────────┴────────────────────────────┴───────────────────────────┘\n",
       "</pre>\n"
      ],
      "text/plain": [
       "┏━━━━━━━━━━━━━━━━━━━━━━━━━━━━┳━━━━━━━━━━━━━━━━━━━━━━━━━━━┳━━━━━━━━━━━━━━━━━━━━━━━━━━━━┳━━━━━━━━━━━━━━━━━━━━━━━━━━━┓\n",
       "┃\u001b[1;35m \u001b[0m\u001b[1;35mprompt                    \u001b[0m\u001b[1;35m \u001b[0m┃\u001b[1;35m \u001b[0m\u001b[1;35mprompt                   \u001b[0m\u001b[1;35m \u001b[0m┃\u001b[1;35m \u001b[0m\u001b[1;35mprompt                    \u001b[0m\u001b[1;35m \u001b[0m┃\u001b[1;35m \u001b[0m\u001b[1;35mprompt                   \u001b[0m\u001b[1;35m \u001b[0m┃\n",
       "┃\u001b[1;35m \u001b[0m\u001b[1;35m.color_user_prompt        \u001b[0m\u001b[1;35m \u001b[0m┃\u001b[1;35m \u001b[0m\u001b[1;35m.day_user_prompt         \u001b[0m\u001b[1;35m \u001b[0m┃\u001b[1;35m \u001b[0m\u001b[1;35m.winter_user_prompt       \u001b[0m\u001b[1;35m \u001b[0m┃\u001b[1;35m \u001b[0m\u001b[1;35m.birds_user_prompt       \u001b[0m\u001b[1;35m \u001b[0m┃\n",
       "┡━━━━━━━━━━━━━━━━━━━━━━━━━━━━╇━━━━━━━━━━━━━━━━━━━━━━━━━━━╇━━━━━━━━━━━━━━━━━━━━━━━━━━━━╇━━━━━━━━━━━━━━━━━━━━━━━━━━━┩\n",
       "│\u001b[2m \u001b[0m\u001b[2m{'text': 'You are being   \u001b[0m\u001b[2m \u001b[0m│\u001b[2m \u001b[0m\u001b[2m{'text': 'You are being  \u001b[0m\u001b[2m \u001b[0m│\u001b[2m \u001b[0m\u001b[2m{'text': 'You are being   \u001b[0m\u001b[2m \u001b[0m│\u001b[2m \u001b[0m\u001b[2m{'text': 'You are being  \u001b[0m\u001b[2m \u001b[0m│\n",
       "│\u001b[2m \u001b[0m\u001b[2masked the following       \u001b[0m\u001b[2m \u001b[0m│\u001b[2m \u001b[0m\u001b[2masked the following      \u001b[0m\u001b[2m \u001b[0m│\u001b[2m \u001b[0m\u001b[2masked the following       \u001b[0m\u001b[2m \u001b[0m│\u001b[2m \u001b[0m\u001b[2masked the following      \u001b[0m\u001b[2m \u001b[0m│\n",
       "│\u001b[2m \u001b[0m\u001b[2mquestion: What is your    \u001b[0m\u001b[2m \u001b[0m│\u001b[2m \u001b[0m\u001b[2mquestion: What is your   \u001b[0m\u001b[2m \u001b[0m│\u001b[2m \u001b[0m\u001b[2mquestion: How much do you \u001b[0m\u001b[2m \u001b[0m│\u001b[2m \u001b[0m\u001b[2mquestion: Which birds do \u001b[0m\u001b[2m \u001b[0m│\n",
       "│\u001b[2m \u001b[0m\u001b[2mfavorite color?\\nThe      \u001b[0m\u001b[2m \u001b[0m│\u001b[2m \u001b[0m\u001b[2mfavorite day of the      \u001b[0m\u001b[2m \u001b[0m│\u001b[2m \u001b[0m\u001b[2menjoy winter?\\nThe options\u001b[0m\u001b[2m \u001b[0m│\u001b[2m \u001b[0m\u001b[2myou like best?\\nThe      \u001b[0m\u001b[2m \u001b[0m│\n",
       "│\u001b[2m \u001b[0m\u001b[2moptions are\\n\\n0:         \u001b[0m\u001b[2m \u001b[0m│\u001b[2m \u001b[0m\u001b[2mweek?\\nThe options       \u001b[0m\u001b[2m \u001b[0m│\u001b[2m \u001b[0m\u001b[2mare\\n\\n0: 0\\n\\n1: 1\\n\\n2: \u001b[0m\u001b[2m \u001b[0m│\u001b[2m \u001b[0m\u001b[2moptions are\\n\\n0:        \u001b[0m\u001b[2m \u001b[0m│\n",
       "│\u001b[2m \u001b[0m\u001b[2mRed\\n\\n1: Orange\\n\\n2:    \u001b[0m\u001b[2m \u001b[0m│\u001b[2m \u001b[0m\u001b[2mare\\n\\n0: Sun\\n\\n1:      \u001b[0m\u001b[2m \u001b[0m│\u001b[2m \u001b[0m\u001b[2m2\\n\\n3: 3\\n\\n4: 4\\n\\n5:   \u001b[0m\u001b[2m \u001b[0m│\u001b[2m \u001b[0m\u001b[2mParrot\\n\\n1: Osprey\\n\\n2:\u001b[0m\u001b[2m \u001b[0m│\n",
       "│\u001b[2m \u001b[0m\u001b[2mYellow\\n\\n3: Green\\n\\n4:  \u001b[0m\u001b[2m \u001b[0m│\u001b[2m \u001b[0m\u001b[2mMon\\n\\n2: Tue\\n\\n3:      \u001b[0m\u001b[2m \u001b[0m│\u001b[2m \u001b[0m\u001b[2m5\\n\\nReturn a valid JSON  \u001b[0m\u001b[2m \u001b[0m│\u001b[2m \u001b[0m\u001b[2mFalcon\\n\\n3: Eagle\\n\\n4: \u001b[0m\u001b[2m \u001b[0m│\n",
       "│\u001b[2m \u001b[0m\u001b[2mBlue\\n\\n5:                \u001b[0m\u001b[2m \u001b[0m│\u001b[2m \u001b[0m\u001b[2mWed\\n\\n4: Thu\\n\\n5:      \u001b[0m\u001b[2m \u001b[0m│\u001b[2m \u001b[0m\u001b[2mformatted like this,      \u001b[0m\u001b[2m \u001b[0m│\u001b[2m \u001b[0m\u001b[2mFirst Robin of           \u001b[0m\u001b[2m \u001b[0m│\n",
       "│\u001b[2m \u001b[0m\u001b[2mPurple\\n\\nReturn a valid  \u001b[0m\u001b[2m \u001b[0m│\u001b[2m \u001b[0m\u001b[2mFri\\n\\n6: Sat\\n\\nReturn a\u001b[0m\u001b[2m \u001b[0m│\u001b[2m \u001b[0m\u001b[2mselecting only the code of\u001b[0m\u001b[2m \u001b[0m│\u001b[2m \u001b[0m\u001b[2mSpring\\n\\nReturn a valid \u001b[0m\u001b[2m \u001b[0m│\n",
       "│\u001b[2m \u001b[0m\u001b[2mJSON formatted like this, \u001b[0m\u001b[2m \u001b[0m│\u001b[2m \u001b[0m\u001b[2mvalid JSON formatted like\u001b[0m\u001b[2m \u001b[0m│\u001b[2m \u001b[0m\u001b[2mthe option (codes start at\u001b[0m\u001b[2m \u001b[0m│\u001b[2m \u001b[0m\u001b[2mJSON formatted like this,\u001b[0m\u001b[2m \u001b[0m│\n",
       "│\u001b[2m \u001b[0m\u001b[2mselecting only the number \u001b[0m\u001b[2m \u001b[0m│\u001b[2m \u001b[0m\u001b[2mthis, selecting only the \u001b[0m\u001b[2m \u001b[0m│\u001b[2m \u001b[0m\u001b[2m0):\\n{\"answer\": <put      \u001b[0m\u001b[2m \u001b[0m│\u001b[2m \u001b[0m\u001b[2mselecting only the number\u001b[0m\u001b[2m \u001b[0m│\n",
       "│\u001b[2m \u001b[0m\u001b[2mof the option:\\n{\"answer\":\u001b[0m\u001b[2m \u001b[0m│\u001b[2m \u001b[0m\u001b[2mnumber of the            \u001b[0m\u001b[2m \u001b[0m│\u001b[2m \u001b[0m\u001b[2manswer code here>,        \u001b[0m\u001b[2m \u001b[0m│\u001b[2m \u001b[0m\u001b[2mof the                   \u001b[0m\u001b[2m \u001b[0m│\n",
       "│\u001b[2m \u001b[0m\u001b[2m<put answer code here>,   \u001b[0m\u001b[2m \u001b[0m│\u001b[2m \u001b[0m\u001b[2moption:\\n{\"answer\": <put \u001b[0m\u001b[2m \u001b[0m│\u001b[2m \u001b[0m\u001b[2m\"comment\": \"<put          \u001b[0m\u001b[2m \u001b[0m│\u001b[2m \u001b[0m\u001b[2moption:\\n{\"answer\": [<put\u001b[0m\u001b[2m \u001b[0m│\n",
       "│\u001b[2m \u001b[0m\u001b[2m\"comment\": \"<put          \u001b[0m\u001b[2m \u001b[0m│\u001b[2m \u001b[0m\u001b[2manswer code here>,       \u001b[0m\u001b[2m \u001b[0m│\u001b[2m \u001b[0m\u001b[2mexplanation here>\"}\\nOnly \u001b[0m\u001b[2m \u001b[0m│\u001b[2m \u001b[0m\u001b[2mcomma-separated list of  \u001b[0m\u001b[2m \u001b[0m│\n",
       "│\u001b[2m \u001b[0m\u001b[2mexplanation here>\"}\\nOnly \u001b[0m\u001b[2m \u001b[0m│\u001b[2m \u001b[0m\u001b[2m\"comment\": \"<put         \u001b[0m\u001b[2m \u001b[0m│\u001b[2m \u001b[0m\u001b[2m1 option may be           \u001b[0m\u001b[2m \u001b[0m│\u001b[2m \u001b[0m\u001b[2manswer codes here>],     \u001b[0m\u001b[2m \u001b[0m│\n",
       "│\u001b[2m \u001b[0m\u001b[2m1 option may be           \u001b[0m\u001b[2m \u001b[0m│\u001b[2m \u001b[0m\u001b[2mexplanation here>\"}\\nOnly\u001b[0m\u001b[2m \u001b[0m│\u001b[2m \u001b[0m\u001b[2mselected.\\n        Before \u001b[0m\u001b[2m \u001b[0m│\u001b[2m \u001b[0m\u001b[2m\"comment\": \"<put         \u001b[0m\u001b[2m \u001b[0m│\n",
       "│\u001b[2m \u001b[0m\u001b[2mselected.', 'class_name': \u001b[0m\u001b[2m \u001b[0m│\u001b[2m \u001b[0m\u001b[2m1 option may be          \u001b[0m\u001b[2m \u001b[0m│\u001b[2m \u001b[0m\u001b[2mthe question you are now  \u001b[0m\u001b[2m \u001b[0m│\u001b[2m \u001b[0m\u001b[2mexplanation              \u001b[0m\u001b[2m \u001b[0m│\n",
       "│\u001b[2m \u001b[0m\u001b[2m'MultipleChoice'}         \u001b[0m\u001b[2m \u001b[0m│\u001b[2m \u001b[0m\u001b[2mselected.\\n        Before\u001b[0m\u001b[2m \u001b[0m│\u001b[2m \u001b[0m\u001b[2manswering, you already    \u001b[0m\u001b[2m \u001b[0m│\u001b[2m \u001b[0m\u001b[2mhere>\"}\\n\\nYou must      \u001b[0m\u001b[2m \u001b[0m│\n",
       "│\u001b[2m                            \u001b[0m│\u001b[2m \u001b[0m\u001b[2mthe question you are now \u001b[0m\u001b[2m \u001b[0m│\u001b[2m \u001b[0m\u001b[2manswered the following    \u001b[0m\u001b[2m \u001b[0m│\u001b[2m \u001b[0m\u001b[2mselect exactly 2         \u001b[0m\u001b[2m \u001b[0m│\n",
       "│\u001b[2m                            \u001b[0m│\u001b[2m \u001b[0m\u001b[2manswering, you already   \u001b[0m\u001b[2m \u001b[0m│\u001b[2m \u001b[0m\u001b[2mquestion(s):\\n            \u001b[0m\u001b[2m \u001b[0m│\u001b[2m \u001b[0m\u001b[2moptions.\\n        Before \u001b[0m\u001b[2m \u001b[0m│\n",
       "│\u001b[2m                            \u001b[0m│\u001b[2m \u001b[0m\u001b[2manswered the following   \u001b[0m\u001b[2m \u001b[0m│\u001b[2m \u001b[0m\u001b[2m\\tQuestion: What is your  \u001b[0m\u001b[2m \u001b[0m│\u001b[2m \u001b[0m\u001b[2mthe question you are now \u001b[0m\u001b[2m \u001b[0m│\n",
       "│\u001b[2m                            \u001b[0m│\u001b[2m \u001b[0m\u001b[2mquestion(s):\\n           \u001b[0m\u001b[2m \u001b[0m│\u001b[2m \u001b[0m\u001b[2mfavorite color?\\n\\tAnswer:\u001b[0m\u001b[2m \u001b[0m│\u001b[2m \u001b[0m\u001b[2manswering, you already   \u001b[0m\u001b[2m \u001b[0m│\n",
       "│\u001b[2m                            \u001b[0m│\u001b[2m \u001b[0m\u001b[2m\\tQuestion: What is your \u001b[0m\u001b[2m \u001b[0m│\u001b[2m \u001b[0m\u001b[2mBlue\\n\\n Prior questions  \u001b[0m\u001b[2m \u001b[0m│\u001b[2m \u001b[0m\u001b[2manswered the following   \u001b[0m\u001b[2m \u001b[0m│\n",
       "│\u001b[2m                            \u001b[0m│\u001b[2m \u001b[0m\u001b[2mfavorite                 \u001b[0m\u001b[2m \u001b[0m│\u001b[2m \u001b[0m\u001b[2mand answers:\\tQuestion:   \u001b[0m\u001b[2m \u001b[0m│\u001b[2m \u001b[0m\u001b[2mquestion(s):\\n           \u001b[0m\u001b[2m \u001b[0m│\n",
       "│\u001b[2m                            \u001b[0m│\u001b[2m \u001b[0m\u001b[2mcolor?\\n\\tAnswer: Blue', \u001b[0m\u001b[2m \u001b[0m│\u001b[2m \u001b[0m\u001b[2mWhat is your favorite day \u001b[0m\u001b[2m \u001b[0m│\u001b[2m \u001b[0m\u001b[2m\\tQuestion: What is your \u001b[0m\u001b[2m \u001b[0m│\n",
       "│\u001b[2m                            \u001b[0m│\u001b[2m \u001b[0m\u001b[2m'class_name':            \u001b[0m\u001b[2m \u001b[0m│\u001b[2m \u001b[0m\u001b[2mof the week?\\n\\tAnswer:   \u001b[0m\u001b[2m \u001b[0m│\u001b[2m \u001b[0m\u001b[2mfavorite                 \u001b[0m\u001b[2m \u001b[0m│\n",
       "│\u001b[2m                            \u001b[0m│\u001b[2m \u001b[0m\u001b[2m'MultipleChoice'}        \u001b[0m\u001b[2m \u001b[0m│\u001b[2m \u001b[0m\u001b[2mFri', 'class_name':       \u001b[0m\u001b[2m \u001b[0m│\u001b[2m \u001b[0m\u001b[2mcolor?\\n\\tAnswer:        \u001b[0m\u001b[2m \u001b[0m│\n",
       "│\u001b[2m                            \u001b[0m│\u001b[2m                           \u001b[0m│\u001b[2m \u001b[0m\u001b[2m'LinearScale'}            \u001b[0m\u001b[2m \u001b[0m│\u001b[2m \u001b[0m\u001b[2mBlue\\n\\n Prior questions \u001b[0m\u001b[2m \u001b[0m│\n",
       "│\u001b[2m                            \u001b[0m│\u001b[2m                           \u001b[0m│\u001b[2m                            \u001b[0m│\u001b[2m \u001b[0m\u001b[2mand answers:\\tQuestion:  \u001b[0m\u001b[2m \u001b[0m│\n",
       "│\u001b[2m                            \u001b[0m│\u001b[2m                           \u001b[0m│\u001b[2m                            \u001b[0m│\u001b[2m \u001b[0m\u001b[2mWhat is your favorite day\u001b[0m\u001b[2m \u001b[0m│\n",
       "│\u001b[2m                            \u001b[0m│\u001b[2m                           \u001b[0m│\u001b[2m                            \u001b[0m│\u001b[2m \u001b[0m\u001b[2mof the week?\\n\\tAnswer:  \u001b[0m\u001b[2m \u001b[0m│\n",
       "│\u001b[2m                            \u001b[0m│\u001b[2m                           \u001b[0m│\u001b[2m                            \u001b[0m│\u001b[2m \u001b[0m\u001b[2mFri\\n\\n Prior questions  \u001b[0m\u001b[2m \u001b[0m│\n",
       "│\u001b[2m                            \u001b[0m│\u001b[2m                           \u001b[0m│\u001b[2m                            \u001b[0m│\u001b[2m \u001b[0m\u001b[2mand answers:\\tQuestion:  \u001b[0m\u001b[2m \u001b[0m│\n",
       "│\u001b[2m                            \u001b[0m│\u001b[2m                           \u001b[0m│\u001b[2m                            \u001b[0m│\u001b[2m \u001b[0m\u001b[2mHow much do you enjoy    \u001b[0m\u001b[2m \u001b[0m│\n",
       "│\u001b[2m                            \u001b[0m│\u001b[2m                           \u001b[0m│\u001b[2m                            \u001b[0m│\u001b[2m \u001b[0m\u001b[2mwinter?\\n\\tAnswer: 3',   \u001b[0m\u001b[2m \u001b[0m│\n",
       "│\u001b[2m                            \u001b[0m│\u001b[2m                           \u001b[0m│\u001b[2m                            \u001b[0m│\u001b[2m \u001b[0m\u001b[2m'class_name': 'TopK'}    \u001b[0m\u001b[2m \u001b[0m│\n",
       "└────────────────────────────┴───────────────────────────┴────────────────────────────┴───────────────────────────┘\n"
      ]
     },
     "metadata": {},
     "output_type": "display_data"
    }
   ],
   "source": [
    "results = survey.run()\n",
    "results.select(\"color_user_prompt\", \"day_user_prompt\", \"winter_user_prompt\", \"birds_user_prompt\").print(format=\"rich\")"
   ]
  },
  {
   "cell_type": "markdown",
   "id": "c7a2dc4d-366b-4353-ab3e-8b98006c0cc7",
   "metadata": {},
   "source": [
    "## Lagged memory\n",
    "The method `set_lagged_memory()` gives the agent a specified number of prior questions and answers at each new question in the survey; we pass it the number of prior questions and answers to remember. Here we use it to give the agent just 1 prior question/answer at each question:"
   ]
  },
  {
   "cell_type": "code",
   "execution_count": 7,
   "id": "42ecd53d-6964-45e3-bd09-ffcbae09cab9",
   "metadata": {},
   "outputs": [],
   "source": [
    "survey = Survey(questions = [q1, q2, q3, q4])\n",
    "survey = survey.set_lagged_memory(1)"
   ]
  },
  {
   "cell_type": "markdown",
   "id": "69b7f64f-09d0-417c-a285-8808833b3ef4",
   "metadata": {},
   "source": [
    "We can inspect each _user_prompt again and see that the agent is only prompted to remember the last prior question/answer:"
   ]
  },
  {
   "cell_type": "code",
   "execution_count": 8,
   "id": "ea6b066f-0703-47a0-963b-365ad6d0044d",
   "metadata": {},
   "outputs": [
    {
     "data": {
      "text/html": [
       "<pre style=\"white-space:pre;overflow-x:auto;line-height:normal;font-family:Menlo,'DejaVu Sans Mono',consolas,'Courier New',monospace\">┏━━━━━━━━━━━━━━━━━━━━━━━━━━━━┳━━━━━━━━━━━━━━━━━━━━━━━━━━━┳━━━━━━━━━━━━━━━━━━━━━━━━━━━━┳━━━━━━━━━━━━━━━━━━━━━━━━━━━┓\n",
       "┃<span style=\"color: #800080; text-decoration-color: #800080; font-weight: bold\"> prompt                     </span>┃<span style=\"color: #800080; text-decoration-color: #800080; font-weight: bold\"> prompt                    </span>┃<span style=\"color: #800080; text-decoration-color: #800080; font-weight: bold\"> prompt                     </span>┃<span style=\"color: #800080; text-decoration-color: #800080; font-weight: bold\"> prompt                    </span>┃\n",
       "┃<span style=\"color: #800080; text-decoration-color: #800080; font-weight: bold\"> .color_user_prompt         </span>┃<span style=\"color: #800080; text-decoration-color: #800080; font-weight: bold\"> .day_user_prompt          </span>┃<span style=\"color: #800080; text-decoration-color: #800080; font-weight: bold\"> .winter_user_prompt        </span>┃<span style=\"color: #800080; text-decoration-color: #800080; font-weight: bold\"> .birds_user_prompt        </span>┃\n",
       "┡━━━━━━━━━━━━━━━━━━━━━━━━━━━━╇━━━━━━━━━━━━━━━━━━━━━━━━━━━╇━━━━━━━━━━━━━━━━━━━━━━━━━━━━╇━━━━━━━━━━━━━━━━━━━━━━━━━━━┩\n",
       "│<span style=\"color: #7f7f7f; text-decoration-color: #7f7f7f\"> {'text': 'You are being    </span>│<span style=\"color: #7f7f7f; text-decoration-color: #7f7f7f\"> {'text': 'You are being   </span>│<span style=\"color: #7f7f7f; text-decoration-color: #7f7f7f\"> {'text': 'You are being    </span>│<span style=\"color: #7f7f7f; text-decoration-color: #7f7f7f\"> {'text': 'You are being   </span>│\n",
       "│<span style=\"color: #7f7f7f; text-decoration-color: #7f7f7f\"> asked the following        </span>│<span style=\"color: #7f7f7f; text-decoration-color: #7f7f7f\"> asked the following       </span>│<span style=\"color: #7f7f7f; text-decoration-color: #7f7f7f\"> asked the following        </span>│<span style=\"color: #7f7f7f; text-decoration-color: #7f7f7f\"> asked the following       </span>│\n",
       "│<span style=\"color: #7f7f7f; text-decoration-color: #7f7f7f\"> question: What is your     </span>│<span style=\"color: #7f7f7f; text-decoration-color: #7f7f7f\"> question: What is your    </span>│<span style=\"color: #7f7f7f; text-decoration-color: #7f7f7f\"> question: How much do you  </span>│<span style=\"color: #7f7f7f; text-decoration-color: #7f7f7f\"> question: Which birds do  </span>│\n",
       "│<span style=\"color: #7f7f7f; text-decoration-color: #7f7f7f\"> favorite color?\\nThe       </span>│<span style=\"color: #7f7f7f; text-decoration-color: #7f7f7f\"> favorite day of the       </span>│<span style=\"color: #7f7f7f; text-decoration-color: #7f7f7f\"> enjoy winter?\\nThe options </span>│<span style=\"color: #7f7f7f; text-decoration-color: #7f7f7f\"> you like best?\\nThe       </span>│\n",
       "│<span style=\"color: #7f7f7f; text-decoration-color: #7f7f7f\"> options are\\n\\n0:          </span>│<span style=\"color: #7f7f7f; text-decoration-color: #7f7f7f\"> week?\\nThe options        </span>│<span style=\"color: #7f7f7f; text-decoration-color: #7f7f7f\"> are\\n\\n0: 0\\n\\n1: 1\\n\\n2:  </span>│<span style=\"color: #7f7f7f; text-decoration-color: #7f7f7f\"> options are\\n\\n0:         </span>│\n",
       "│<span style=\"color: #7f7f7f; text-decoration-color: #7f7f7f\"> Red\\n\\n1: Orange\\n\\n2:     </span>│<span style=\"color: #7f7f7f; text-decoration-color: #7f7f7f\"> are\\n\\n0: Sun\\n\\n1:       </span>│<span style=\"color: #7f7f7f; text-decoration-color: #7f7f7f\"> 2\\n\\n3: 3\\n\\n4: 4\\n\\n5:    </span>│<span style=\"color: #7f7f7f; text-decoration-color: #7f7f7f\"> Parrot\\n\\n1: Osprey\\n\\n2: </span>│\n",
       "│<span style=\"color: #7f7f7f; text-decoration-color: #7f7f7f\"> Yellow\\n\\n3: Green\\n\\n4:   </span>│<span style=\"color: #7f7f7f; text-decoration-color: #7f7f7f\"> Mon\\n\\n2: Tue\\n\\n3:       </span>│<span style=\"color: #7f7f7f; text-decoration-color: #7f7f7f\"> 5\\n\\nReturn a valid JSON   </span>│<span style=\"color: #7f7f7f; text-decoration-color: #7f7f7f\"> Falcon\\n\\n3: Eagle\\n\\n4:  </span>│\n",
       "│<span style=\"color: #7f7f7f; text-decoration-color: #7f7f7f\"> Blue\\n\\n5:                 </span>│<span style=\"color: #7f7f7f; text-decoration-color: #7f7f7f\"> Wed\\n\\n4: Thu\\n\\n5:       </span>│<span style=\"color: #7f7f7f; text-decoration-color: #7f7f7f\"> formatted like this,       </span>│<span style=\"color: #7f7f7f; text-decoration-color: #7f7f7f\"> First Robin of            </span>│\n",
       "│<span style=\"color: #7f7f7f; text-decoration-color: #7f7f7f\"> Purple\\n\\nReturn a valid   </span>│<span style=\"color: #7f7f7f; text-decoration-color: #7f7f7f\"> Fri\\n\\n6: Sat\\n\\nReturn a </span>│<span style=\"color: #7f7f7f; text-decoration-color: #7f7f7f\"> selecting only the code of </span>│<span style=\"color: #7f7f7f; text-decoration-color: #7f7f7f\"> Spring\\n\\nReturn a valid  </span>│\n",
       "│<span style=\"color: #7f7f7f; text-decoration-color: #7f7f7f\"> JSON formatted like this,  </span>│<span style=\"color: #7f7f7f; text-decoration-color: #7f7f7f\"> valid JSON formatted like </span>│<span style=\"color: #7f7f7f; text-decoration-color: #7f7f7f\"> the option (codes start at </span>│<span style=\"color: #7f7f7f; text-decoration-color: #7f7f7f\"> JSON formatted like this, </span>│\n",
       "│<span style=\"color: #7f7f7f; text-decoration-color: #7f7f7f\"> selecting only the number  </span>│<span style=\"color: #7f7f7f; text-decoration-color: #7f7f7f\"> this, selecting only the  </span>│<span style=\"color: #7f7f7f; text-decoration-color: #7f7f7f\"> 0):\\n{\"answer\": &lt;put       </span>│<span style=\"color: #7f7f7f; text-decoration-color: #7f7f7f\"> selecting only the number </span>│\n",
       "│<span style=\"color: #7f7f7f; text-decoration-color: #7f7f7f\"> of the option:\\n{\"answer\": </span>│<span style=\"color: #7f7f7f; text-decoration-color: #7f7f7f\"> number of the             </span>│<span style=\"color: #7f7f7f; text-decoration-color: #7f7f7f\"> answer code here&gt;,         </span>│<span style=\"color: #7f7f7f; text-decoration-color: #7f7f7f\"> of the                    </span>│\n",
       "│<span style=\"color: #7f7f7f; text-decoration-color: #7f7f7f\"> &lt;put answer code here&gt;,    </span>│<span style=\"color: #7f7f7f; text-decoration-color: #7f7f7f\"> option:\\n{\"answer\": &lt;put  </span>│<span style=\"color: #7f7f7f; text-decoration-color: #7f7f7f\"> \"comment\": \"&lt;put           </span>│<span style=\"color: #7f7f7f; text-decoration-color: #7f7f7f\"> option:\\n{\"answer\": [&lt;put </span>│\n",
       "│<span style=\"color: #7f7f7f; text-decoration-color: #7f7f7f\"> \"comment\": \"&lt;put           </span>│<span style=\"color: #7f7f7f; text-decoration-color: #7f7f7f\"> answer code here&gt;,        </span>│<span style=\"color: #7f7f7f; text-decoration-color: #7f7f7f\"> explanation here&gt;\"}\\nOnly  </span>│<span style=\"color: #7f7f7f; text-decoration-color: #7f7f7f\"> comma-separated list of   </span>│\n",
       "│<span style=\"color: #7f7f7f; text-decoration-color: #7f7f7f\"> explanation here&gt;\"}\\nOnly  </span>│<span style=\"color: #7f7f7f; text-decoration-color: #7f7f7f\"> \"comment\": \"&lt;put          </span>│<span style=\"color: #7f7f7f; text-decoration-color: #7f7f7f\"> 1 option may be            </span>│<span style=\"color: #7f7f7f; text-decoration-color: #7f7f7f\"> answer codes here&gt;],      </span>│\n",
       "│<span style=\"color: #7f7f7f; text-decoration-color: #7f7f7f\"> 1 option may be            </span>│<span style=\"color: #7f7f7f; text-decoration-color: #7f7f7f\"> explanation here&gt;\"}\\nOnly </span>│<span style=\"color: #7f7f7f; text-decoration-color: #7f7f7f\"> selected.\\n        Before  </span>│<span style=\"color: #7f7f7f; text-decoration-color: #7f7f7f\"> \"comment\": \"&lt;put          </span>│\n",
       "│<span style=\"color: #7f7f7f; text-decoration-color: #7f7f7f\"> selected.', 'class_name':  </span>│<span style=\"color: #7f7f7f; text-decoration-color: #7f7f7f\"> 1 option may be           </span>│<span style=\"color: #7f7f7f; text-decoration-color: #7f7f7f\"> the question you are now   </span>│<span style=\"color: #7f7f7f; text-decoration-color: #7f7f7f\"> explanation               </span>│\n",
       "│<span style=\"color: #7f7f7f; text-decoration-color: #7f7f7f\"> 'MultipleChoice'}          </span>│<span style=\"color: #7f7f7f; text-decoration-color: #7f7f7f\"> selected.\\n        Before </span>│<span style=\"color: #7f7f7f; text-decoration-color: #7f7f7f\"> answering, you already     </span>│<span style=\"color: #7f7f7f; text-decoration-color: #7f7f7f\"> here&gt;\"}\\n\\nYou must       </span>│\n",
       "│<span style=\"color: #7f7f7f; text-decoration-color: #7f7f7f\">                            </span>│<span style=\"color: #7f7f7f; text-decoration-color: #7f7f7f\"> the question you are now  </span>│<span style=\"color: #7f7f7f; text-decoration-color: #7f7f7f\"> answered the following     </span>│<span style=\"color: #7f7f7f; text-decoration-color: #7f7f7f\"> select exactly 2          </span>│\n",
       "│<span style=\"color: #7f7f7f; text-decoration-color: #7f7f7f\">                            </span>│<span style=\"color: #7f7f7f; text-decoration-color: #7f7f7f\"> answering, you already    </span>│<span style=\"color: #7f7f7f; text-decoration-color: #7f7f7f\"> question(s):\\n             </span>│<span style=\"color: #7f7f7f; text-decoration-color: #7f7f7f\"> options.\\n        Before  </span>│\n",
       "│<span style=\"color: #7f7f7f; text-decoration-color: #7f7f7f\">                            </span>│<span style=\"color: #7f7f7f; text-decoration-color: #7f7f7f\"> answered the following    </span>│<span style=\"color: #7f7f7f; text-decoration-color: #7f7f7f\"> \\tQuestion: What is your   </span>│<span style=\"color: #7f7f7f; text-decoration-color: #7f7f7f\"> the question you are now  </span>│\n",
       "│<span style=\"color: #7f7f7f; text-decoration-color: #7f7f7f\">                            </span>│<span style=\"color: #7f7f7f; text-decoration-color: #7f7f7f\"> question(s):\\n            </span>│<span style=\"color: #7f7f7f; text-decoration-color: #7f7f7f\"> favorite day of the        </span>│<span style=\"color: #7f7f7f; text-decoration-color: #7f7f7f\"> answering, you already    </span>│\n",
       "│<span style=\"color: #7f7f7f; text-decoration-color: #7f7f7f\">                            </span>│<span style=\"color: #7f7f7f; text-decoration-color: #7f7f7f\"> \\tQuestion: What is your  </span>│<span style=\"color: #7f7f7f; text-decoration-color: #7f7f7f\"> week?\\n\\tAnswer: Fri',     </span>│<span style=\"color: #7f7f7f; text-decoration-color: #7f7f7f\"> answered the following    </span>│\n",
       "│<span style=\"color: #7f7f7f; text-decoration-color: #7f7f7f\">                            </span>│<span style=\"color: #7f7f7f; text-decoration-color: #7f7f7f\"> favorite                  </span>│<span style=\"color: #7f7f7f; text-decoration-color: #7f7f7f\"> 'class_name':              </span>│<span style=\"color: #7f7f7f; text-decoration-color: #7f7f7f\"> question(s):\\n            </span>│\n",
       "│<span style=\"color: #7f7f7f; text-decoration-color: #7f7f7f\">                            </span>│<span style=\"color: #7f7f7f; text-decoration-color: #7f7f7f\"> color?\\n\\tAnswer: Blue',  </span>│<span style=\"color: #7f7f7f; text-decoration-color: #7f7f7f\"> 'LinearScale'}             </span>│<span style=\"color: #7f7f7f; text-decoration-color: #7f7f7f\"> \\tQuestion: How much do   </span>│\n",
       "│<span style=\"color: #7f7f7f; text-decoration-color: #7f7f7f\">                            </span>│<span style=\"color: #7f7f7f; text-decoration-color: #7f7f7f\"> 'class_name':             </span>│<span style=\"color: #7f7f7f; text-decoration-color: #7f7f7f\">                            </span>│<span style=\"color: #7f7f7f; text-decoration-color: #7f7f7f\"> you enjoy                 </span>│\n",
       "│<span style=\"color: #7f7f7f; text-decoration-color: #7f7f7f\">                            </span>│<span style=\"color: #7f7f7f; text-decoration-color: #7f7f7f\"> 'MultipleChoice'}         </span>│<span style=\"color: #7f7f7f; text-decoration-color: #7f7f7f\">                            </span>│<span style=\"color: #7f7f7f; text-decoration-color: #7f7f7f\"> winter?\\n\\tAnswer: 0',    </span>│\n",
       "│<span style=\"color: #7f7f7f; text-decoration-color: #7f7f7f\">                            </span>│<span style=\"color: #7f7f7f; text-decoration-color: #7f7f7f\">                           </span>│<span style=\"color: #7f7f7f; text-decoration-color: #7f7f7f\">                            </span>│<span style=\"color: #7f7f7f; text-decoration-color: #7f7f7f\"> 'class_name': 'TopK'}     </span>│\n",
       "└────────────────────────────┴───────────────────────────┴────────────────────────────┴───────────────────────────┘\n",
       "</pre>\n"
      ],
      "text/plain": [
       "┏━━━━━━━━━━━━━━━━━━━━━━━━━━━━┳━━━━━━━━━━━━━━━━━━━━━━━━━━━┳━━━━━━━━━━━━━━━━━━━━━━━━━━━━┳━━━━━━━━━━━━━━━━━━━━━━━━━━━┓\n",
       "┃\u001b[1;35m \u001b[0m\u001b[1;35mprompt                    \u001b[0m\u001b[1;35m \u001b[0m┃\u001b[1;35m \u001b[0m\u001b[1;35mprompt                   \u001b[0m\u001b[1;35m \u001b[0m┃\u001b[1;35m \u001b[0m\u001b[1;35mprompt                    \u001b[0m\u001b[1;35m \u001b[0m┃\u001b[1;35m \u001b[0m\u001b[1;35mprompt                   \u001b[0m\u001b[1;35m \u001b[0m┃\n",
       "┃\u001b[1;35m \u001b[0m\u001b[1;35m.color_user_prompt        \u001b[0m\u001b[1;35m \u001b[0m┃\u001b[1;35m \u001b[0m\u001b[1;35m.day_user_prompt         \u001b[0m\u001b[1;35m \u001b[0m┃\u001b[1;35m \u001b[0m\u001b[1;35m.winter_user_prompt       \u001b[0m\u001b[1;35m \u001b[0m┃\u001b[1;35m \u001b[0m\u001b[1;35m.birds_user_prompt       \u001b[0m\u001b[1;35m \u001b[0m┃\n",
       "┡━━━━━━━━━━━━━━━━━━━━━━━━━━━━╇━━━━━━━━━━━━━━━━━━━━━━━━━━━╇━━━━━━━━━━━━━━━━━━━━━━━━━━━━╇━━━━━━━━━━━━━━━━━━━━━━━━━━━┩\n",
       "│\u001b[2m \u001b[0m\u001b[2m{'text': 'You are being   \u001b[0m\u001b[2m \u001b[0m│\u001b[2m \u001b[0m\u001b[2m{'text': 'You are being  \u001b[0m\u001b[2m \u001b[0m│\u001b[2m \u001b[0m\u001b[2m{'text': 'You are being   \u001b[0m\u001b[2m \u001b[0m│\u001b[2m \u001b[0m\u001b[2m{'text': 'You are being  \u001b[0m\u001b[2m \u001b[0m│\n",
       "│\u001b[2m \u001b[0m\u001b[2masked the following       \u001b[0m\u001b[2m \u001b[0m│\u001b[2m \u001b[0m\u001b[2masked the following      \u001b[0m\u001b[2m \u001b[0m│\u001b[2m \u001b[0m\u001b[2masked the following       \u001b[0m\u001b[2m \u001b[0m│\u001b[2m \u001b[0m\u001b[2masked the following      \u001b[0m\u001b[2m \u001b[0m│\n",
       "│\u001b[2m \u001b[0m\u001b[2mquestion: What is your    \u001b[0m\u001b[2m \u001b[0m│\u001b[2m \u001b[0m\u001b[2mquestion: What is your   \u001b[0m\u001b[2m \u001b[0m│\u001b[2m \u001b[0m\u001b[2mquestion: How much do you \u001b[0m\u001b[2m \u001b[0m│\u001b[2m \u001b[0m\u001b[2mquestion: Which birds do \u001b[0m\u001b[2m \u001b[0m│\n",
       "│\u001b[2m \u001b[0m\u001b[2mfavorite color?\\nThe      \u001b[0m\u001b[2m \u001b[0m│\u001b[2m \u001b[0m\u001b[2mfavorite day of the      \u001b[0m\u001b[2m \u001b[0m│\u001b[2m \u001b[0m\u001b[2menjoy winter?\\nThe options\u001b[0m\u001b[2m \u001b[0m│\u001b[2m \u001b[0m\u001b[2myou like best?\\nThe      \u001b[0m\u001b[2m \u001b[0m│\n",
       "│\u001b[2m \u001b[0m\u001b[2moptions are\\n\\n0:         \u001b[0m\u001b[2m \u001b[0m│\u001b[2m \u001b[0m\u001b[2mweek?\\nThe options       \u001b[0m\u001b[2m \u001b[0m│\u001b[2m \u001b[0m\u001b[2mare\\n\\n0: 0\\n\\n1: 1\\n\\n2: \u001b[0m\u001b[2m \u001b[0m│\u001b[2m \u001b[0m\u001b[2moptions are\\n\\n0:        \u001b[0m\u001b[2m \u001b[0m│\n",
       "│\u001b[2m \u001b[0m\u001b[2mRed\\n\\n1: Orange\\n\\n2:    \u001b[0m\u001b[2m \u001b[0m│\u001b[2m \u001b[0m\u001b[2mare\\n\\n0: Sun\\n\\n1:      \u001b[0m\u001b[2m \u001b[0m│\u001b[2m \u001b[0m\u001b[2m2\\n\\n3: 3\\n\\n4: 4\\n\\n5:   \u001b[0m\u001b[2m \u001b[0m│\u001b[2m \u001b[0m\u001b[2mParrot\\n\\n1: Osprey\\n\\n2:\u001b[0m\u001b[2m \u001b[0m│\n",
       "│\u001b[2m \u001b[0m\u001b[2mYellow\\n\\n3: Green\\n\\n4:  \u001b[0m\u001b[2m \u001b[0m│\u001b[2m \u001b[0m\u001b[2mMon\\n\\n2: Tue\\n\\n3:      \u001b[0m\u001b[2m \u001b[0m│\u001b[2m \u001b[0m\u001b[2m5\\n\\nReturn a valid JSON  \u001b[0m\u001b[2m \u001b[0m│\u001b[2m \u001b[0m\u001b[2mFalcon\\n\\n3: Eagle\\n\\n4: \u001b[0m\u001b[2m \u001b[0m│\n",
       "│\u001b[2m \u001b[0m\u001b[2mBlue\\n\\n5:                \u001b[0m\u001b[2m \u001b[0m│\u001b[2m \u001b[0m\u001b[2mWed\\n\\n4: Thu\\n\\n5:      \u001b[0m\u001b[2m \u001b[0m│\u001b[2m \u001b[0m\u001b[2mformatted like this,      \u001b[0m\u001b[2m \u001b[0m│\u001b[2m \u001b[0m\u001b[2mFirst Robin of           \u001b[0m\u001b[2m \u001b[0m│\n",
       "│\u001b[2m \u001b[0m\u001b[2mPurple\\n\\nReturn a valid  \u001b[0m\u001b[2m \u001b[0m│\u001b[2m \u001b[0m\u001b[2mFri\\n\\n6: Sat\\n\\nReturn a\u001b[0m\u001b[2m \u001b[0m│\u001b[2m \u001b[0m\u001b[2mselecting only the code of\u001b[0m\u001b[2m \u001b[0m│\u001b[2m \u001b[0m\u001b[2mSpring\\n\\nReturn a valid \u001b[0m\u001b[2m \u001b[0m│\n",
       "│\u001b[2m \u001b[0m\u001b[2mJSON formatted like this, \u001b[0m\u001b[2m \u001b[0m│\u001b[2m \u001b[0m\u001b[2mvalid JSON formatted like\u001b[0m\u001b[2m \u001b[0m│\u001b[2m \u001b[0m\u001b[2mthe option (codes start at\u001b[0m\u001b[2m \u001b[0m│\u001b[2m \u001b[0m\u001b[2mJSON formatted like this,\u001b[0m\u001b[2m \u001b[0m│\n",
       "│\u001b[2m \u001b[0m\u001b[2mselecting only the number \u001b[0m\u001b[2m \u001b[0m│\u001b[2m \u001b[0m\u001b[2mthis, selecting only the \u001b[0m\u001b[2m \u001b[0m│\u001b[2m \u001b[0m\u001b[2m0):\\n{\"answer\": <put      \u001b[0m\u001b[2m \u001b[0m│\u001b[2m \u001b[0m\u001b[2mselecting only the number\u001b[0m\u001b[2m \u001b[0m│\n",
       "│\u001b[2m \u001b[0m\u001b[2mof the option:\\n{\"answer\":\u001b[0m\u001b[2m \u001b[0m│\u001b[2m \u001b[0m\u001b[2mnumber of the            \u001b[0m\u001b[2m \u001b[0m│\u001b[2m \u001b[0m\u001b[2manswer code here>,        \u001b[0m\u001b[2m \u001b[0m│\u001b[2m \u001b[0m\u001b[2mof the                   \u001b[0m\u001b[2m \u001b[0m│\n",
       "│\u001b[2m \u001b[0m\u001b[2m<put answer code here>,   \u001b[0m\u001b[2m \u001b[0m│\u001b[2m \u001b[0m\u001b[2moption:\\n{\"answer\": <put \u001b[0m\u001b[2m \u001b[0m│\u001b[2m \u001b[0m\u001b[2m\"comment\": \"<put          \u001b[0m\u001b[2m \u001b[0m│\u001b[2m \u001b[0m\u001b[2moption:\\n{\"answer\": [<put\u001b[0m\u001b[2m \u001b[0m│\n",
       "│\u001b[2m \u001b[0m\u001b[2m\"comment\": \"<put          \u001b[0m\u001b[2m \u001b[0m│\u001b[2m \u001b[0m\u001b[2manswer code here>,       \u001b[0m\u001b[2m \u001b[0m│\u001b[2m \u001b[0m\u001b[2mexplanation here>\"}\\nOnly \u001b[0m\u001b[2m \u001b[0m│\u001b[2m \u001b[0m\u001b[2mcomma-separated list of  \u001b[0m\u001b[2m \u001b[0m│\n",
       "│\u001b[2m \u001b[0m\u001b[2mexplanation here>\"}\\nOnly \u001b[0m\u001b[2m \u001b[0m│\u001b[2m \u001b[0m\u001b[2m\"comment\": \"<put         \u001b[0m\u001b[2m \u001b[0m│\u001b[2m \u001b[0m\u001b[2m1 option may be           \u001b[0m\u001b[2m \u001b[0m│\u001b[2m \u001b[0m\u001b[2manswer codes here>],     \u001b[0m\u001b[2m \u001b[0m│\n",
       "│\u001b[2m \u001b[0m\u001b[2m1 option may be           \u001b[0m\u001b[2m \u001b[0m│\u001b[2m \u001b[0m\u001b[2mexplanation here>\"}\\nOnly\u001b[0m\u001b[2m \u001b[0m│\u001b[2m \u001b[0m\u001b[2mselected.\\n        Before \u001b[0m\u001b[2m \u001b[0m│\u001b[2m \u001b[0m\u001b[2m\"comment\": \"<put         \u001b[0m\u001b[2m \u001b[0m│\n",
       "│\u001b[2m \u001b[0m\u001b[2mselected.', 'class_name': \u001b[0m\u001b[2m \u001b[0m│\u001b[2m \u001b[0m\u001b[2m1 option may be          \u001b[0m\u001b[2m \u001b[0m│\u001b[2m \u001b[0m\u001b[2mthe question you are now  \u001b[0m\u001b[2m \u001b[0m│\u001b[2m \u001b[0m\u001b[2mexplanation              \u001b[0m\u001b[2m \u001b[0m│\n",
       "│\u001b[2m \u001b[0m\u001b[2m'MultipleChoice'}         \u001b[0m\u001b[2m \u001b[0m│\u001b[2m \u001b[0m\u001b[2mselected.\\n        Before\u001b[0m\u001b[2m \u001b[0m│\u001b[2m \u001b[0m\u001b[2manswering, you already    \u001b[0m\u001b[2m \u001b[0m│\u001b[2m \u001b[0m\u001b[2mhere>\"}\\n\\nYou must      \u001b[0m\u001b[2m \u001b[0m│\n",
       "│\u001b[2m                            \u001b[0m│\u001b[2m \u001b[0m\u001b[2mthe question you are now \u001b[0m\u001b[2m \u001b[0m│\u001b[2m \u001b[0m\u001b[2manswered the following    \u001b[0m\u001b[2m \u001b[0m│\u001b[2m \u001b[0m\u001b[2mselect exactly 2         \u001b[0m\u001b[2m \u001b[0m│\n",
       "│\u001b[2m                            \u001b[0m│\u001b[2m \u001b[0m\u001b[2manswering, you already   \u001b[0m\u001b[2m \u001b[0m│\u001b[2m \u001b[0m\u001b[2mquestion(s):\\n            \u001b[0m\u001b[2m \u001b[0m│\u001b[2m \u001b[0m\u001b[2moptions.\\n        Before \u001b[0m\u001b[2m \u001b[0m│\n",
       "│\u001b[2m                            \u001b[0m│\u001b[2m \u001b[0m\u001b[2manswered the following   \u001b[0m\u001b[2m \u001b[0m│\u001b[2m \u001b[0m\u001b[2m\\tQuestion: What is your  \u001b[0m\u001b[2m \u001b[0m│\u001b[2m \u001b[0m\u001b[2mthe question you are now \u001b[0m\u001b[2m \u001b[0m│\n",
       "│\u001b[2m                            \u001b[0m│\u001b[2m \u001b[0m\u001b[2mquestion(s):\\n           \u001b[0m\u001b[2m \u001b[0m│\u001b[2m \u001b[0m\u001b[2mfavorite day of the       \u001b[0m\u001b[2m \u001b[0m│\u001b[2m \u001b[0m\u001b[2manswering, you already   \u001b[0m\u001b[2m \u001b[0m│\n",
       "│\u001b[2m                            \u001b[0m│\u001b[2m \u001b[0m\u001b[2m\\tQuestion: What is your \u001b[0m\u001b[2m \u001b[0m│\u001b[2m \u001b[0m\u001b[2mweek?\\n\\tAnswer: Fri',    \u001b[0m\u001b[2m \u001b[0m│\u001b[2m \u001b[0m\u001b[2manswered the following   \u001b[0m\u001b[2m \u001b[0m│\n",
       "│\u001b[2m                            \u001b[0m│\u001b[2m \u001b[0m\u001b[2mfavorite                 \u001b[0m\u001b[2m \u001b[0m│\u001b[2m \u001b[0m\u001b[2m'class_name':             \u001b[0m\u001b[2m \u001b[0m│\u001b[2m \u001b[0m\u001b[2mquestion(s):\\n           \u001b[0m\u001b[2m \u001b[0m│\n",
       "│\u001b[2m                            \u001b[0m│\u001b[2m \u001b[0m\u001b[2mcolor?\\n\\tAnswer: Blue', \u001b[0m\u001b[2m \u001b[0m│\u001b[2m \u001b[0m\u001b[2m'LinearScale'}            \u001b[0m\u001b[2m \u001b[0m│\u001b[2m \u001b[0m\u001b[2m\\tQuestion: How much do  \u001b[0m\u001b[2m \u001b[0m│\n",
       "│\u001b[2m                            \u001b[0m│\u001b[2m \u001b[0m\u001b[2m'class_name':            \u001b[0m\u001b[2m \u001b[0m│\u001b[2m                            \u001b[0m│\u001b[2m \u001b[0m\u001b[2myou enjoy                \u001b[0m\u001b[2m \u001b[0m│\n",
       "│\u001b[2m                            \u001b[0m│\u001b[2m \u001b[0m\u001b[2m'MultipleChoice'}        \u001b[0m\u001b[2m \u001b[0m│\u001b[2m                            \u001b[0m│\u001b[2m \u001b[0m\u001b[2mwinter?\\n\\tAnswer: 0',   \u001b[0m\u001b[2m \u001b[0m│\n",
       "│\u001b[2m                            \u001b[0m│\u001b[2m                           \u001b[0m│\u001b[2m                            \u001b[0m│\u001b[2m \u001b[0m\u001b[2m'class_name': 'TopK'}    \u001b[0m\u001b[2m \u001b[0m│\n",
       "└────────────────────────────┴───────────────────────────┴────────────────────────────┴───────────────────────────┘\n"
      ]
     },
     "metadata": {},
     "output_type": "display_data"
    }
   ],
   "source": [
    "results = survey.run()\n",
    "results.select(\"color_user_prompt\", \"day_user_prompt\", \"winter_user_prompt\", \"birds_user_prompt\").print(format=\"rich\")"
   ]
  },
  {
   "cell_type": "markdown",
   "id": "e6ba38cc-9aa5-46f4-9e0d-a38fe95c0017",
   "metadata": {},
   "source": [
    "## Targeted memory\n",
    "The method `add_targeted_memory()` gives the agent a targeted prior question and answer when answering another specified question. We pass it the question to answer and the prior question/answer to remember when answering it. Here we use it to give the agent the question/answer to q1 when prompting it to answer q4:"
   ]
  },
  {
   "cell_type": "code",
   "execution_count": 9,
   "id": "f7ce75a5-8797-420c-a85f-0388814935b1",
   "metadata": {},
   "outputs": [],
   "source": [
    "survey = Survey(questions = [q1, q2, q3, q4])\n",
    "survey = survey.add_targeted_memory(q4, q1)"
   ]
  },
  {
   "cell_type": "code",
   "execution_count": 10,
   "id": "06a15239-0f47-480d-8fe4-27266e3d676c",
   "metadata": {},
   "outputs": [
    {
     "data": {
      "text/html": [
       "<pre style=\"white-space:pre;overflow-x:auto;line-height:normal;font-family:Menlo,'DejaVu Sans Mono',consolas,'Courier New',monospace\">┏━━━━━━━━━━━━━━━━━━━━━━━━━━━━┳━━━━━━━━━━━━━━━━━━━━━━━━━━━┳━━━━━━━━━━━━━━━━━━━━━━━━━━━━┳━━━━━━━━━━━━━━━━━━━━━━━━━━━┓\n",
       "┃<span style=\"color: #800080; text-decoration-color: #800080; font-weight: bold\"> prompt                     </span>┃<span style=\"color: #800080; text-decoration-color: #800080; font-weight: bold\"> prompt                    </span>┃<span style=\"color: #800080; text-decoration-color: #800080; font-weight: bold\"> prompt                     </span>┃<span style=\"color: #800080; text-decoration-color: #800080; font-weight: bold\"> prompt                    </span>┃\n",
       "┃<span style=\"color: #800080; text-decoration-color: #800080; font-weight: bold\"> .color_user_prompt         </span>┃<span style=\"color: #800080; text-decoration-color: #800080; font-weight: bold\"> .day_user_prompt          </span>┃<span style=\"color: #800080; text-decoration-color: #800080; font-weight: bold\"> .winter_user_prompt        </span>┃<span style=\"color: #800080; text-decoration-color: #800080; font-weight: bold\"> .birds_user_prompt        </span>┃\n",
       "┡━━━━━━━━━━━━━━━━━━━━━━━━━━━━╇━━━━━━━━━━━━━━━━━━━━━━━━━━━╇━━━━━━━━━━━━━━━━━━━━━━━━━━━━╇━━━━━━━━━━━━━━━━━━━━━━━━━━━┩\n",
       "│<span style=\"color: #7f7f7f; text-decoration-color: #7f7f7f\"> {'text': 'You are being    </span>│<span style=\"color: #7f7f7f; text-decoration-color: #7f7f7f\"> {'text': 'You are being   </span>│<span style=\"color: #7f7f7f; text-decoration-color: #7f7f7f\"> {'text': 'You are being    </span>│<span style=\"color: #7f7f7f; text-decoration-color: #7f7f7f\"> {'text': 'You are being   </span>│\n",
       "│<span style=\"color: #7f7f7f; text-decoration-color: #7f7f7f\"> asked the following        </span>│<span style=\"color: #7f7f7f; text-decoration-color: #7f7f7f\"> asked the following       </span>│<span style=\"color: #7f7f7f; text-decoration-color: #7f7f7f\"> asked the following        </span>│<span style=\"color: #7f7f7f; text-decoration-color: #7f7f7f\"> asked the following       </span>│\n",
       "│<span style=\"color: #7f7f7f; text-decoration-color: #7f7f7f\"> question: What is your     </span>│<span style=\"color: #7f7f7f; text-decoration-color: #7f7f7f\"> question: What is your    </span>│<span style=\"color: #7f7f7f; text-decoration-color: #7f7f7f\"> question: How much do you  </span>│<span style=\"color: #7f7f7f; text-decoration-color: #7f7f7f\"> question: Which birds do  </span>│\n",
       "│<span style=\"color: #7f7f7f; text-decoration-color: #7f7f7f\"> favorite color?\\nThe       </span>│<span style=\"color: #7f7f7f; text-decoration-color: #7f7f7f\"> favorite day of the       </span>│<span style=\"color: #7f7f7f; text-decoration-color: #7f7f7f\"> enjoy winter?\\nThe options </span>│<span style=\"color: #7f7f7f; text-decoration-color: #7f7f7f\"> you like best?\\nThe       </span>│\n",
       "│<span style=\"color: #7f7f7f; text-decoration-color: #7f7f7f\"> options are\\n\\n0:          </span>│<span style=\"color: #7f7f7f; text-decoration-color: #7f7f7f\"> week?\\nThe options        </span>│<span style=\"color: #7f7f7f; text-decoration-color: #7f7f7f\"> are\\n\\n0: 0\\n\\n1: 1\\n\\n2:  </span>│<span style=\"color: #7f7f7f; text-decoration-color: #7f7f7f\"> options are\\n\\n0:         </span>│\n",
       "│<span style=\"color: #7f7f7f; text-decoration-color: #7f7f7f\"> Red\\n\\n1: Orange\\n\\n2:     </span>│<span style=\"color: #7f7f7f; text-decoration-color: #7f7f7f\"> are\\n\\n0: Sun\\n\\n1:       </span>│<span style=\"color: #7f7f7f; text-decoration-color: #7f7f7f\"> 2\\n\\n3: 3\\n\\n4: 4\\n\\n5:    </span>│<span style=\"color: #7f7f7f; text-decoration-color: #7f7f7f\"> Parrot\\n\\n1: Osprey\\n\\n2: </span>│\n",
       "│<span style=\"color: #7f7f7f; text-decoration-color: #7f7f7f\"> Yellow\\n\\n3: Green\\n\\n4:   </span>│<span style=\"color: #7f7f7f; text-decoration-color: #7f7f7f\"> Mon\\n\\n2: Tue\\n\\n3:       </span>│<span style=\"color: #7f7f7f; text-decoration-color: #7f7f7f\"> 5\\n\\nReturn a valid JSON   </span>│<span style=\"color: #7f7f7f; text-decoration-color: #7f7f7f\"> Falcon\\n\\n3: Eagle\\n\\n4:  </span>│\n",
       "│<span style=\"color: #7f7f7f; text-decoration-color: #7f7f7f\"> Blue\\n\\n5:                 </span>│<span style=\"color: #7f7f7f; text-decoration-color: #7f7f7f\"> Wed\\n\\n4: Thu\\n\\n5:       </span>│<span style=\"color: #7f7f7f; text-decoration-color: #7f7f7f\"> formatted like this,       </span>│<span style=\"color: #7f7f7f; text-decoration-color: #7f7f7f\"> First Robin of            </span>│\n",
       "│<span style=\"color: #7f7f7f; text-decoration-color: #7f7f7f\"> Purple\\n\\nReturn a valid   </span>│<span style=\"color: #7f7f7f; text-decoration-color: #7f7f7f\"> Fri\\n\\n6: Sat\\n\\nReturn a </span>│<span style=\"color: #7f7f7f; text-decoration-color: #7f7f7f\"> selecting only the code of </span>│<span style=\"color: #7f7f7f; text-decoration-color: #7f7f7f\"> Spring\\n\\nReturn a valid  </span>│\n",
       "│<span style=\"color: #7f7f7f; text-decoration-color: #7f7f7f\"> JSON formatted like this,  </span>│<span style=\"color: #7f7f7f; text-decoration-color: #7f7f7f\"> valid JSON formatted like </span>│<span style=\"color: #7f7f7f; text-decoration-color: #7f7f7f\"> the option (codes start at </span>│<span style=\"color: #7f7f7f; text-decoration-color: #7f7f7f\"> JSON formatted like this, </span>│\n",
       "│<span style=\"color: #7f7f7f; text-decoration-color: #7f7f7f\"> selecting only the number  </span>│<span style=\"color: #7f7f7f; text-decoration-color: #7f7f7f\"> this, selecting only the  </span>│<span style=\"color: #7f7f7f; text-decoration-color: #7f7f7f\"> 0):\\n{\"answer\": &lt;put       </span>│<span style=\"color: #7f7f7f; text-decoration-color: #7f7f7f\"> selecting only the number </span>│\n",
       "│<span style=\"color: #7f7f7f; text-decoration-color: #7f7f7f\"> of the option:\\n{\"answer\": </span>│<span style=\"color: #7f7f7f; text-decoration-color: #7f7f7f\"> number of the             </span>│<span style=\"color: #7f7f7f; text-decoration-color: #7f7f7f\"> answer code here&gt;,         </span>│<span style=\"color: #7f7f7f; text-decoration-color: #7f7f7f\"> of the                    </span>│\n",
       "│<span style=\"color: #7f7f7f; text-decoration-color: #7f7f7f\"> &lt;put answer code here&gt;,    </span>│<span style=\"color: #7f7f7f; text-decoration-color: #7f7f7f\"> option:\\n{\"answer\": &lt;put  </span>│<span style=\"color: #7f7f7f; text-decoration-color: #7f7f7f\"> \"comment\": \"&lt;put           </span>│<span style=\"color: #7f7f7f; text-decoration-color: #7f7f7f\"> option:\\n{\"answer\": [&lt;put </span>│\n",
       "│<span style=\"color: #7f7f7f; text-decoration-color: #7f7f7f\"> \"comment\": \"&lt;put           </span>│<span style=\"color: #7f7f7f; text-decoration-color: #7f7f7f\"> answer code here&gt;,        </span>│<span style=\"color: #7f7f7f; text-decoration-color: #7f7f7f\"> explanation here&gt;\"}\\nOnly  </span>│<span style=\"color: #7f7f7f; text-decoration-color: #7f7f7f\"> comma-separated list of   </span>│\n",
       "│<span style=\"color: #7f7f7f; text-decoration-color: #7f7f7f\"> explanation here&gt;\"}\\nOnly  </span>│<span style=\"color: #7f7f7f; text-decoration-color: #7f7f7f\"> \"comment\": \"&lt;put          </span>│<span style=\"color: #7f7f7f; text-decoration-color: #7f7f7f\"> 1 option may be            </span>│<span style=\"color: #7f7f7f; text-decoration-color: #7f7f7f\"> answer codes here&gt;],      </span>│\n",
       "│<span style=\"color: #7f7f7f; text-decoration-color: #7f7f7f\"> 1 option may be            </span>│<span style=\"color: #7f7f7f; text-decoration-color: #7f7f7f\"> explanation here&gt;\"}\\nOnly </span>│<span style=\"color: #7f7f7f; text-decoration-color: #7f7f7f\"> selected.', 'class_name':  </span>│<span style=\"color: #7f7f7f; text-decoration-color: #7f7f7f\"> \"comment\": \"&lt;put          </span>│\n",
       "│<span style=\"color: #7f7f7f; text-decoration-color: #7f7f7f\"> selected.', 'class_name':  </span>│<span style=\"color: #7f7f7f; text-decoration-color: #7f7f7f\"> 1 option may be           </span>│<span style=\"color: #7f7f7f; text-decoration-color: #7f7f7f\"> 'LinearScale'}             </span>│<span style=\"color: #7f7f7f; text-decoration-color: #7f7f7f\"> explanation               </span>│\n",
       "│<span style=\"color: #7f7f7f; text-decoration-color: #7f7f7f\"> 'MultipleChoice'}          </span>│<span style=\"color: #7f7f7f; text-decoration-color: #7f7f7f\"> selected.', 'class_name': </span>│<span style=\"color: #7f7f7f; text-decoration-color: #7f7f7f\">                            </span>│<span style=\"color: #7f7f7f; text-decoration-color: #7f7f7f\"> here&gt;\"}\\n\\nYou must       </span>│\n",
       "│<span style=\"color: #7f7f7f; text-decoration-color: #7f7f7f\">                            </span>│<span style=\"color: #7f7f7f; text-decoration-color: #7f7f7f\"> 'MultipleChoice'}         </span>│<span style=\"color: #7f7f7f; text-decoration-color: #7f7f7f\">                            </span>│<span style=\"color: #7f7f7f; text-decoration-color: #7f7f7f\"> select exactly 2          </span>│\n",
       "│<span style=\"color: #7f7f7f; text-decoration-color: #7f7f7f\">                            </span>│<span style=\"color: #7f7f7f; text-decoration-color: #7f7f7f\">                           </span>│<span style=\"color: #7f7f7f; text-decoration-color: #7f7f7f\">                            </span>│<span style=\"color: #7f7f7f; text-decoration-color: #7f7f7f\"> options.\\n        Before  </span>│\n",
       "│<span style=\"color: #7f7f7f; text-decoration-color: #7f7f7f\">                            </span>│<span style=\"color: #7f7f7f; text-decoration-color: #7f7f7f\">                           </span>│<span style=\"color: #7f7f7f; text-decoration-color: #7f7f7f\">                            </span>│<span style=\"color: #7f7f7f; text-decoration-color: #7f7f7f\"> the question you are now  </span>│\n",
       "│<span style=\"color: #7f7f7f; text-decoration-color: #7f7f7f\">                            </span>│<span style=\"color: #7f7f7f; text-decoration-color: #7f7f7f\">                           </span>│<span style=\"color: #7f7f7f; text-decoration-color: #7f7f7f\">                            </span>│<span style=\"color: #7f7f7f; text-decoration-color: #7f7f7f\"> answering, you already    </span>│\n",
       "│<span style=\"color: #7f7f7f; text-decoration-color: #7f7f7f\">                            </span>│<span style=\"color: #7f7f7f; text-decoration-color: #7f7f7f\">                           </span>│<span style=\"color: #7f7f7f; text-decoration-color: #7f7f7f\">                            </span>│<span style=\"color: #7f7f7f; text-decoration-color: #7f7f7f\"> answered the following    </span>│\n",
       "│<span style=\"color: #7f7f7f; text-decoration-color: #7f7f7f\">                            </span>│<span style=\"color: #7f7f7f; text-decoration-color: #7f7f7f\">                           </span>│<span style=\"color: #7f7f7f; text-decoration-color: #7f7f7f\">                            </span>│<span style=\"color: #7f7f7f; text-decoration-color: #7f7f7f\"> question(s):\\n            </span>│\n",
       "│<span style=\"color: #7f7f7f; text-decoration-color: #7f7f7f\">                            </span>│<span style=\"color: #7f7f7f; text-decoration-color: #7f7f7f\">                           </span>│<span style=\"color: #7f7f7f; text-decoration-color: #7f7f7f\">                            </span>│<span style=\"color: #7f7f7f; text-decoration-color: #7f7f7f\"> \\tQuestion: What is your  </span>│\n",
       "│<span style=\"color: #7f7f7f; text-decoration-color: #7f7f7f\">                            </span>│<span style=\"color: #7f7f7f; text-decoration-color: #7f7f7f\">                           </span>│<span style=\"color: #7f7f7f; text-decoration-color: #7f7f7f\">                            </span>│<span style=\"color: #7f7f7f; text-decoration-color: #7f7f7f\"> favorite                  </span>│\n",
       "│<span style=\"color: #7f7f7f; text-decoration-color: #7f7f7f\">                            </span>│<span style=\"color: #7f7f7f; text-decoration-color: #7f7f7f\">                           </span>│<span style=\"color: #7f7f7f; text-decoration-color: #7f7f7f\">                            </span>│<span style=\"color: #7f7f7f; text-decoration-color: #7f7f7f\"> color?\\n\\tAnswer: Blue',  </span>│\n",
       "│<span style=\"color: #7f7f7f; text-decoration-color: #7f7f7f\">                            </span>│<span style=\"color: #7f7f7f; text-decoration-color: #7f7f7f\">                           </span>│<span style=\"color: #7f7f7f; text-decoration-color: #7f7f7f\">                            </span>│<span style=\"color: #7f7f7f; text-decoration-color: #7f7f7f\"> 'class_name': 'TopK'}     </span>│\n",
       "└────────────────────────────┴───────────────────────────┴────────────────────────────┴───────────────────────────┘\n",
       "</pre>\n"
      ],
      "text/plain": [
       "┏━━━━━━━━━━━━━━━━━━━━━━━━━━━━┳━━━━━━━━━━━━━━━━━━━━━━━━━━━┳━━━━━━━━━━━━━━━━━━━━━━━━━━━━┳━━━━━━━━━━━━━━━━━━━━━━━━━━━┓\n",
       "┃\u001b[1;35m \u001b[0m\u001b[1;35mprompt                    \u001b[0m\u001b[1;35m \u001b[0m┃\u001b[1;35m \u001b[0m\u001b[1;35mprompt                   \u001b[0m\u001b[1;35m \u001b[0m┃\u001b[1;35m \u001b[0m\u001b[1;35mprompt                    \u001b[0m\u001b[1;35m \u001b[0m┃\u001b[1;35m \u001b[0m\u001b[1;35mprompt                   \u001b[0m\u001b[1;35m \u001b[0m┃\n",
       "┃\u001b[1;35m \u001b[0m\u001b[1;35m.color_user_prompt        \u001b[0m\u001b[1;35m \u001b[0m┃\u001b[1;35m \u001b[0m\u001b[1;35m.day_user_prompt         \u001b[0m\u001b[1;35m \u001b[0m┃\u001b[1;35m \u001b[0m\u001b[1;35m.winter_user_prompt       \u001b[0m\u001b[1;35m \u001b[0m┃\u001b[1;35m \u001b[0m\u001b[1;35m.birds_user_prompt       \u001b[0m\u001b[1;35m \u001b[0m┃\n",
       "┡━━━━━━━━━━━━━━━━━━━━━━━━━━━━╇━━━━━━━━━━━━━━━━━━━━━━━━━━━╇━━━━━━━━━━━━━━━━━━━━━━━━━━━━╇━━━━━━━━━━━━━━━━━━━━━━━━━━━┩\n",
       "│\u001b[2m \u001b[0m\u001b[2m{'text': 'You are being   \u001b[0m\u001b[2m \u001b[0m│\u001b[2m \u001b[0m\u001b[2m{'text': 'You are being  \u001b[0m\u001b[2m \u001b[0m│\u001b[2m \u001b[0m\u001b[2m{'text': 'You are being   \u001b[0m\u001b[2m \u001b[0m│\u001b[2m \u001b[0m\u001b[2m{'text': 'You are being  \u001b[0m\u001b[2m \u001b[0m│\n",
       "│\u001b[2m \u001b[0m\u001b[2masked the following       \u001b[0m\u001b[2m \u001b[0m│\u001b[2m \u001b[0m\u001b[2masked the following      \u001b[0m\u001b[2m \u001b[0m│\u001b[2m \u001b[0m\u001b[2masked the following       \u001b[0m\u001b[2m \u001b[0m│\u001b[2m \u001b[0m\u001b[2masked the following      \u001b[0m\u001b[2m \u001b[0m│\n",
       "│\u001b[2m \u001b[0m\u001b[2mquestion: What is your    \u001b[0m\u001b[2m \u001b[0m│\u001b[2m \u001b[0m\u001b[2mquestion: What is your   \u001b[0m\u001b[2m \u001b[0m│\u001b[2m \u001b[0m\u001b[2mquestion: How much do you \u001b[0m\u001b[2m \u001b[0m│\u001b[2m \u001b[0m\u001b[2mquestion: Which birds do \u001b[0m\u001b[2m \u001b[0m│\n",
       "│\u001b[2m \u001b[0m\u001b[2mfavorite color?\\nThe      \u001b[0m\u001b[2m \u001b[0m│\u001b[2m \u001b[0m\u001b[2mfavorite day of the      \u001b[0m\u001b[2m \u001b[0m│\u001b[2m \u001b[0m\u001b[2menjoy winter?\\nThe options\u001b[0m\u001b[2m \u001b[0m│\u001b[2m \u001b[0m\u001b[2myou like best?\\nThe      \u001b[0m\u001b[2m \u001b[0m│\n",
       "│\u001b[2m \u001b[0m\u001b[2moptions are\\n\\n0:         \u001b[0m\u001b[2m \u001b[0m│\u001b[2m \u001b[0m\u001b[2mweek?\\nThe options       \u001b[0m\u001b[2m \u001b[0m│\u001b[2m \u001b[0m\u001b[2mare\\n\\n0: 0\\n\\n1: 1\\n\\n2: \u001b[0m\u001b[2m \u001b[0m│\u001b[2m \u001b[0m\u001b[2moptions are\\n\\n0:        \u001b[0m\u001b[2m \u001b[0m│\n",
       "│\u001b[2m \u001b[0m\u001b[2mRed\\n\\n1: Orange\\n\\n2:    \u001b[0m\u001b[2m \u001b[0m│\u001b[2m \u001b[0m\u001b[2mare\\n\\n0: Sun\\n\\n1:      \u001b[0m\u001b[2m \u001b[0m│\u001b[2m \u001b[0m\u001b[2m2\\n\\n3: 3\\n\\n4: 4\\n\\n5:   \u001b[0m\u001b[2m \u001b[0m│\u001b[2m \u001b[0m\u001b[2mParrot\\n\\n1: Osprey\\n\\n2:\u001b[0m\u001b[2m \u001b[0m│\n",
       "│\u001b[2m \u001b[0m\u001b[2mYellow\\n\\n3: Green\\n\\n4:  \u001b[0m\u001b[2m \u001b[0m│\u001b[2m \u001b[0m\u001b[2mMon\\n\\n2: Tue\\n\\n3:      \u001b[0m\u001b[2m \u001b[0m│\u001b[2m \u001b[0m\u001b[2m5\\n\\nReturn a valid JSON  \u001b[0m\u001b[2m \u001b[0m│\u001b[2m \u001b[0m\u001b[2mFalcon\\n\\n3: Eagle\\n\\n4: \u001b[0m\u001b[2m \u001b[0m│\n",
       "│\u001b[2m \u001b[0m\u001b[2mBlue\\n\\n5:                \u001b[0m\u001b[2m \u001b[0m│\u001b[2m \u001b[0m\u001b[2mWed\\n\\n4: Thu\\n\\n5:      \u001b[0m\u001b[2m \u001b[0m│\u001b[2m \u001b[0m\u001b[2mformatted like this,      \u001b[0m\u001b[2m \u001b[0m│\u001b[2m \u001b[0m\u001b[2mFirst Robin of           \u001b[0m\u001b[2m \u001b[0m│\n",
       "│\u001b[2m \u001b[0m\u001b[2mPurple\\n\\nReturn a valid  \u001b[0m\u001b[2m \u001b[0m│\u001b[2m \u001b[0m\u001b[2mFri\\n\\n6: Sat\\n\\nReturn a\u001b[0m\u001b[2m \u001b[0m│\u001b[2m \u001b[0m\u001b[2mselecting only the code of\u001b[0m\u001b[2m \u001b[0m│\u001b[2m \u001b[0m\u001b[2mSpring\\n\\nReturn a valid \u001b[0m\u001b[2m \u001b[0m│\n",
       "│\u001b[2m \u001b[0m\u001b[2mJSON formatted like this, \u001b[0m\u001b[2m \u001b[0m│\u001b[2m \u001b[0m\u001b[2mvalid JSON formatted like\u001b[0m\u001b[2m \u001b[0m│\u001b[2m \u001b[0m\u001b[2mthe option (codes start at\u001b[0m\u001b[2m \u001b[0m│\u001b[2m \u001b[0m\u001b[2mJSON formatted like this,\u001b[0m\u001b[2m \u001b[0m│\n",
       "│\u001b[2m \u001b[0m\u001b[2mselecting only the number \u001b[0m\u001b[2m \u001b[0m│\u001b[2m \u001b[0m\u001b[2mthis, selecting only the \u001b[0m\u001b[2m \u001b[0m│\u001b[2m \u001b[0m\u001b[2m0):\\n{\"answer\": <put      \u001b[0m\u001b[2m \u001b[0m│\u001b[2m \u001b[0m\u001b[2mselecting only the number\u001b[0m\u001b[2m \u001b[0m│\n",
       "│\u001b[2m \u001b[0m\u001b[2mof the option:\\n{\"answer\":\u001b[0m\u001b[2m \u001b[0m│\u001b[2m \u001b[0m\u001b[2mnumber of the            \u001b[0m\u001b[2m \u001b[0m│\u001b[2m \u001b[0m\u001b[2manswer code here>,        \u001b[0m\u001b[2m \u001b[0m│\u001b[2m \u001b[0m\u001b[2mof the                   \u001b[0m\u001b[2m \u001b[0m│\n",
       "│\u001b[2m \u001b[0m\u001b[2m<put answer code here>,   \u001b[0m\u001b[2m \u001b[0m│\u001b[2m \u001b[0m\u001b[2moption:\\n{\"answer\": <put \u001b[0m\u001b[2m \u001b[0m│\u001b[2m \u001b[0m\u001b[2m\"comment\": \"<put          \u001b[0m\u001b[2m \u001b[0m│\u001b[2m \u001b[0m\u001b[2moption:\\n{\"answer\": [<put\u001b[0m\u001b[2m \u001b[0m│\n",
       "│\u001b[2m \u001b[0m\u001b[2m\"comment\": \"<put          \u001b[0m\u001b[2m \u001b[0m│\u001b[2m \u001b[0m\u001b[2manswer code here>,       \u001b[0m\u001b[2m \u001b[0m│\u001b[2m \u001b[0m\u001b[2mexplanation here>\"}\\nOnly \u001b[0m\u001b[2m \u001b[0m│\u001b[2m \u001b[0m\u001b[2mcomma-separated list of  \u001b[0m\u001b[2m \u001b[0m│\n",
       "│\u001b[2m \u001b[0m\u001b[2mexplanation here>\"}\\nOnly \u001b[0m\u001b[2m \u001b[0m│\u001b[2m \u001b[0m\u001b[2m\"comment\": \"<put         \u001b[0m\u001b[2m \u001b[0m│\u001b[2m \u001b[0m\u001b[2m1 option may be           \u001b[0m\u001b[2m \u001b[0m│\u001b[2m \u001b[0m\u001b[2manswer codes here>],     \u001b[0m\u001b[2m \u001b[0m│\n",
       "│\u001b[2m \u001b[0m\u001b[2m1 option may be           \u001b[0m\u001b[2m \u001b[0m│\u001b[2m \u001b[0m\u001b[2mexplanation here>\"}\\nOnly\u001b[0m\u001b[2m \u001b[0m│\u001b[2m \u001b[0m\u001b[2mselected.', 'class_name': \u001b[0m\u001b[2m \u001b[0m│\u001b[2m \u001b[0m\u001b[2m\"comment\": \"<put         \u001b[0m\u001b[2m \u001b[0m│\n",
       "│\u001b[2m \u001b[0m\u001b[2mselected.', 'class_name': \u001b[0m\u001b[2m \u001b[0m│\u001b[2m \u001b[0m\u001b[2m1 option may be          \u001b[0m\u001b[2m \u001b[0m│\u001b[2m \u001b[0m\u001b[2m'LinearScale'}            \u001b[0m\u001b[2m \u001b[0m│\u001b[2m \u001b[0m\u001b[2mexplanation              \u001b[0m\u001b[2m \u001b[0m│\n",
       "│\u001b[2m \u001b[0m\u001b[2m'MultipleChoice'}         \u001b[0m\u001b[2m \u001b[0m│\u001b[2m \u001b[0m\u001b[2mselected.', 'class_name':\u001b[0m\u001b[2m \u001b[0m│\u001b[2m                            \u001b[0m│\u001b[2m \u001b[0m\u001b[2mhere>\"}\\n\\nYou must      \u001b[0m\u001b[2m \u001b[0m│\n",
       "│\u001b[2m                            \u001b[0m│\u001b[2m \u001b[0m\u001b[2m'MultipleChoice'}        \u001b[0m\u001b[2m \u001b[0m│\u001b[2m                            \u001b[0m│\u001b[2m \u001b[0m\u001b[2mselect exactly 2         \u001b[0m\u001b[2m \u001b[0m│\n",
       "│\u001b[2m                            \u001b[0m│\u001b[2m                           \u001b[0m│\u001b[2m                            \u001b[0m│\u001b[2m \u001b[0m\u001b[2moptions.\\n        Before \u001b[0m\u001b[2m \u001b[0m│\n",
       "│\u001b[2m                            \u001b[0m│\u001b[2m                           \u001b[0m│\u001b[2m                            \u001b[0m│\u001b[2m \u001b[0m\u001b[2mthe question you are now \u001b[0m\u001b[2m \u001b[0m│\n",
       "│\u001b[2m                            \u001b[0m│\u001b[2m                           \u001b[0m│\u001b[2m                            \u001b[0m│\u001b[2m \u001b[0m\u001b[2manswering, you already   \u001b[0m\u001b[2m \u001b[0m│\n",
       "│\u001b[2m                            \u001b[0m│\u001b[2m                           \u001b[0m│\u001b[2m                            \u001b[0m│\u001b[2m \u001b[0m\u001b[2manswered the following   \u001b[0m\u001b[2m \u001b[0m│\n",
       "│\u001b[2m                            \u001b[0m│\u001b[2m                           \u001b[0m│\u001b[2m                            \u001b[0m│\u001b[2m \u001b[0m\u001b[2mquestion(s):\\n           \u001b[0m\u001b[2m \u001b[0m│\n",
       "│\u001b[2m                            \u001b[0m│\u001b[2m                           \u001b[0m│\u001b[2m                            \u001b[0m│\u001b[2m \u001b[0m\u001b[2m\\tQuestion: What is your \u001b[0m\u001b[2m \u001b[0m│\n",
       "│\u001b[2m                            \u001b[0m│\u001b[2m                           \u001b[0m│\u001b[2m                            \u001b[0m│\u001b[2m \u001b[0m\u001b[2mfavorite                 \u001b[0m\u001b[2m \u001b[0m│\n",
       "│\u001b[2m                            \u001b[0m│\u001b[2m                           \u001b[0m│\u001b[2m                            \u001b[0m│\u001b[2m \u001b[0m\u001b[2mcolor?\\n\\tAnswer: Blue', \u001b[0m\u001b[2m \u001b[0m│\n",
       "│\u001b[2m                            \u001b[0m│\u001b[2m                           \u001b[0m│\u001b[2m                            \u001b[0m│\u001b[2m \u001b[0m\u001b[2m'class_name': 'TopK'}    \u001b[0m\u001b[2m \u001b[0m│\n",
       "└────────────────────────────┴───────────────────────────┴────────────────────────────┴───────────────────────────┘\n"
      ]
     },
     "metadata": {},
     "output_type": "display_data"
    }
   ],
   "source": [
    "results = survey.run()\n",
    "results.select(\"color_user_prompt\", \"day_user_prompt\", \"winter_user_prompt\", \"birds_user_prompt\").print(format=\"rich\")"
   ]
  },
  {
   "cell_type": "markdown",
   "id": "2fc80942-b406-4b5b-92ce-0b3dd55b78ba",
   "metadata": {},
   "source": [
    "## Memory collection\n",
    "The `add_memory_collection()` method is used to add sets of prior questions and answers to a given question. We pass it the question to be answered and the list of questions/answers to be remembered when answering it. For example, we can add the questions/answers for both q1 and q2 when prompting the agent to answer q4:"
   ]
  },
  {
   "cell_type": "code",
   "execution_count": 11,
   "id": "9511ee5d-eb2d-4530-8be6-783567a91d02",
   "metadata": {},
   "outputs": [],
   "source": [
    "survey = Survey(questions = [q1, q2, q3, q4])\n",
    "survey = survey.add_memory_collection(q4, [q1, q2])"
   ]
  },
  {
   "cell_type": "code",
   "execution_count": 12,
   "id": "5f3e7f25-1256-47a0-9bb6-df58f8a2b738",
   "metadata": {},
   "outputs": [
    {
     "data": {
      "text/html": [
       "<pre style=\"white-space:pre;overflow-x:auto;line-height:normal;font-family:Menlo,'DejaVu Sans Mono',consolas,'Courier New',monospace\">┏━━━━━━━━━━━━━━━━━━━━━━━━━━━━┳━━━━━━━━━━━━━━━━━━━━━━━━━━━┳━━━━━━━━━━━━━━━━━━━━━━━━━━━━┳━━━━━━━━━━━━━━━━━━━━━━━━━━━┓\n",
       "┃<span style=\"color: #800080; text-decoration-color: #800080; font-weight: bold\"> prompt                     </span>┃<span style=\"color: #800080; text-decoration-color: #800080; font-weight: bold\"> prompt                    </span>┃<span style=\"color: #800080; text-decoration-color: #800080; font-weight: bold\"> prompt                     </span>┃<span style=\"color: #800080; text-decoration-color: #800080; font-weight: bold\"> prompt                    </span>┃\n",
       "┃<span style=\"color: #800080; text-decoration-color: #800080; font-weight: bold\"> .color_user_prompt         </span>┃<span style=\"color: #800080; text-decoration-color: #800080; font-weight: bold\"> .day_user_prompt          </span>┃<span style=\"color: #800080; text-decoration-color: #800080; font-weight: bold\"> .winter_user_prompt        </span>┃<span style=\"color: #800080; text-decoration-color: #800080; font-weight: bold\"> .birds_user_prompt        </span>┃\n",
       "┡━━━━━━━━━━━━━━━━━━━━━━━━━━━━╇━━━━━━━━━━━━━━━━━━━━━━━━━━━╇━━━━━━━━━━━━━━━━━━━━━━━━━━━━╇━━━━━━━━━━━━━━━━━━━━━━━━━━━┩\n",
       "│<span style=\"color: #7f7f7f; text-decoration-color: #7f7f7f\"> {'text': 'You are being    </span>│<span style=\"color: #7f7f7f; text-decoration-color: #7f7f7f\"> {'text': 'You are being   </span>│<span style=\"color: #7f7f7f; text-decoration-color: #7f7f7f\"> {'text': 'You are being    </span>│<span style=\"color: #7f7f7f; text-decoration-color: #7f7f7f\"> {'text': 'You are being   </span>│\n",
       "│<span style=\"color: #7f7f7f; text-decoration-color: #7f7f7f\"> asked the following        </span>│<span style=\"color: #7f7f7f; text-decoration-color: #7f7f7f\"> asked the following       </span>│<span style=\"color: #7f7f7f; text-decoration-color: #7f7f7f\"> asked the following        </span>│<span style=\"color: #7f7f7f; text-decoration-color: #7f7f7f\"> asked the following       </span>│\n",
       "│<span style=\"color: #7f7f7f; text-decoration-color: #7f7f7f\"> question: What is your     </span>│<span style=\"color: #7f7f7f; text-decoration-color: #7f7f7f\"> question: What is your    </span>│<span style=\"color: #7f7f7f; text-decoration-color: #7f7f7f\"> question: How much do you  </span>│<span style=\"color: #7f7f7f; text-decoration-color: #7f7f7f\"> question: Which birds do  </span>│\n",
       "│<span style=\"color: #7f7f7f; text-decoration-color: #7f7f7f\"> favorite color?\\nThe       </span>│<span style=\"color: #7f7f7f; text-decoration-color: #7f7f7f\"> favorite day of the       </span>│<span style=\"color: #7f7f7f; text-decoration-color: #7f7f7f\"> enjoy winter?\\nThe options </span>│<span style=\"color: #7f7f7f; text-decoration-color: #7f7f7f\"> you like best?\\nThe       </span>│\n",
       "│<span style=\"color: #7f7f7f; text-decoration-color: #7f7f7f\"> options are\\n\\n0:          </span>│<span style=\"color: #7f7f7f; text-decoration-color: #7f7f7f\"> week?\\nThe options        </span>│<span style=\"color: #7f7f7f; text-decoration-color: #7f7f7f\"> are\\n\\n0: 0\\n\\n1: 1\\n\\n2:  </span>│<span style=\"color: #7f7f7f; text-decoration-color: #7f7f7f\"> options are\\n\\n0:         </span>│\n",
       "│<span style=\"color: #7f7f7f; text-decoration-color: #7f7f7f\"> Red\\n\\n1: Orange\\n\\n2:     </span>│<span style=\"color: #7f7f7f; text-decoration-color: #7f7f7f\"> are\\n\\n0: Sun\\n\\n1:       </span>│<span style=\"color: #7f7f7f; text-decoration-color: #7f7f7f\"> 2\\n\\n3: 3\\n\\n4: 4\\n\\n5:    </span>│<span style=\"color: #7f7f7f; text-decoration-color: #7f7f7f\"> Parrot\\n\\n1: Osprey\\n\\n2: </span>│\n",
       "│<span style=\"color: #7f7f7f; text-decoration-color: #7f7f7f\"> Yellow\\n\\n3: Green\\n\\n4:   </span>│<span style=\"color: #7f7f7f; text-decoration-color: #7f7f7f\"> Mon\\n\\n2: Tue\\n\\n3:       </span>│<span style=\"color: #7f7f7f; text-decoration-color: #7f7f7f\"> 5\\n\\nReturn a valid JSON   </span>│<span style=\"color: #7f7f7f; text-decoration-color: #7f7f7f\"> Falcon\\n\\n3: Eagle\\n\\n4:  </span>│\n",
       "│<span style=\"color: #7f7f7f; text-decoration-color: #7f7f7f\"> Blue\\n\\n5:                 </span>│<span style=\"color: #7f7f7f; text-decoration-color: #7f7f7f\"> Wed\\n\\n4: Thu\\n\\n5:       </span>│<span style=\"color: #7f7f7f; text-decoration-color: #7f7f7f\"> formatted like this,       </span>│<span style=\"color: #7f7f7f; text-decoration-color: #7f7f7f\"> First Robin of            </span>│\n",
       "│<span style=\"color: #7f7f7f; text-decoration-color: #7f7f7f\"> Purple\\n\\nReturn a valid   </span>│<span style=\"color: #7f7f7f; text-decoration-color: #7f7f7f\"> Fri\\n\\n6: Sat\\n\\nReturn a </span>│<span style=\"color: #7f7f7f; text-decoration-color: #7f7f7f\"> selecting only the code of </span>│<span style=\"color: #7f7f7f; text-decoration-color: #7f7f7f\"> Spring\\n\\nReturn a valid  </span>│\n",
       "│<span style=\"color: #7f7f7f; text-decoration-color: #7f7f7f\"> JSON formatted like this,  </span>│<span style=\"color: #7f7f7f; text-decoration-color: #7f7f7f\"> valid JSON formatted like </span>│<span style=\"color: #7f7f7f; text-decoration-color: #7f7f7f\"> the option (codes start at </span>│<span style=\"color: #7f7f7f; text-decoration-color: #7f7f7f\"> JSON formatted like this, </span>│\n",
       "│<span style=\"color: #7f7f7f; text-decoration-color: #7f7f7f\"> selecting only the number  </span>│<span style=\"color: #7f7f7f; text-decoration-color: #7f7f7f\"> this, selecting only the  </span>│<span style=\"color: #7f7f7f; text-decoration-color: #7f7f7f\"> 0):\\n{\"answer\": &lt;put       </span>│<span style=\"color: #7f7f7f; text-decoration-color: #7f7f7f\"> selecting only the number </span>│\n",
       "│<span style=\"color: #7f7f7f; text-decoration-color: #7f7f7f\"> of the option:\\n{\"answer\": </span>│<span style=\"color: #7f7f7f; text-decoration-color: #7f7f7f\"> number of the             </span>│<span style=\"color: #7f7f7f; text-decoration-color: #7f7f7f\"> answer code here&gt;,         </span>│<span style=\"color: #7f7f7f; text-decoration-color: #7f7f7f\"> of the                    </span>│\n",
       "│<span style=\"color: #7f7f7f; text-decoration-color: #7f7f7f\"> &lt;put answer code here&gt;,    </span>│<span style=\"color: #7f7f7f; text-decoration-color: #7f7f7f\"> option:\\n{\"answer\": &lt;put  </span>│<span style=\"color: #7f7f7f; text-decoration-color: #7f7f7f\"> \"comment\": \"&lt;put           </span>│<span style=\"color: #7f7f7f; text-decoration-color: #7f7f7f\"> option:\\n{\"answer\": [&lt;put </span>│\n",
       "│<span style=\"color: #7f7f7f; text-decoration-color: #7f7f7f\"> \"comment\": \"&lt;put           </span>│<span style=\"color: #7f7f7f; text-decoration-color: #7f7f7f\"> answer code here&gt;,        </span>│<span style=\"color: #7f7f7f; text-decoration-color: #7f7f7f\"> explanation here&gt;\"}\\nOnly  </span>│<span style=\"color: #7f7f7f; text-decoration-color: #7f7f7f\"> comma-separated list of   </span>│\n",
       "│<span style=\"color: #7f7f7f; text-decoration-color: #7f7f7f\"> explanation here&gt;\"}\\nOnly  </span>│<span style=\"color: #7f7f7f; text-decoration-color: #7f7f7f\"> \"comment\": \"&lt;put          </span>│<span style=\"color: #7f7f7f; text-decoration-color: #7f7f7f\"> 1 option may be            </span>│<span style=\"color: #7f7f7f; text-decoration-color: #7f7f7f\"> answer codes here&gt;],      </span>│\n",
       "│<span style=\"color: #7f7f7f; text-decoration-color: #7f7f7f\"> 1 option may be            </span>│<span style=\"color: #7f7f7f; text-decoration-color: #7f7f7f\"> explanation here&gt;\"}\\nOnly </span>│<span style=\"color: #7f7f7f; text-decoration-color: #7f7f7f\"> selected.', 'class_name':  </span>│<span style=\"color: #7f7f7f; text-decoration-color: #7f7f7f\"> \"comment\": \"&lt;put          </span>│\n",
       "│<span style=\"color: #7f7f7f; text-decoration-color: #7f7f7f\"> selected.', 'class_name':  </span>│<span style=\"color: #7f7f7f; text-decoration-color: #7f7f7f\"> 1 option may be           </span>│<span style=\"color: #7f7f7f; text-decoration-color: #7f7f7f\"> 'LinearScale'}             </span>│<span style=\"color: #7f7f7f; text-decoration-color: #7f7f7f\"> explanation               </span>│\n",
       "│<span style=\"color: #7f7f7f; text-decoration-color: #7f7f7f\"> 'MultipleChoice'}          </span>│<span style=\"color: #7f7f7f; text-decoration-color: #7f7f7f\"> selected.', 'class_name': </span>│<span style=\"color: #7f7f7f; text-decoration-color: #7f7f7f\">                            </span>│<span style=\"color: #7f7f7f; text-decoration-color: #7f7f7f\"> here&gt;\"}\\n\\nYou must       </span>│\n",
       "│<span style=\"color: #7f7f7f; text-decoration-color: #7f7f7f\">                            </span>│<span style=\"color: #7f7f7f; text-decoration-color: #7f7f7f\"> 'MultipleChoice'}         </span>│<span style=\"color: #7f7f7f; text-decoration-color: #7f7f7f\">                            </span>│<span style=\"color: #7f7f7f; text-decoration-color: #7f7f7f\"> select exactly 2          </span>│\n",
       "│<span style=\"color: #7f7f7f; text-decoration-color: #7f7f7f\">                            </span>│<span style=\"color: #7f7f7f; text-decoration-color: #7f7f7f\">                           </span>│<span style=\"color: #7f7f7f; text-decoration-color: #7f7f7f\">                            </span>│<span style=\"color: #7f7f7f; text-decoration-color: #7f7f7f\"> options.\\n        Before  </span>│\n",
       "│<span style=\"color: #7f7f7f; text-decoration-color: #7f7f7f\">                            </span>│<span style=\"color: #7f7f7f; text-decoration-color: #7f7f7f\">                           </span>│<span style=\"color: #7f7f7f; text-decoration-color: #7f7f7f\">                            </span>│<span style=\"color: #7f7f7f; text-decoration-color: #7f7f7f\"> the question you are now  </span>│\n",
       "│<span style=\"color: #7f7f7f; text-decoration-color: #7f7f7f\">                            </span>│<span style=\"color: #7f7f7f; text-decoration-color: #7f7f7f\">                           </span>│<span style=\"color: #7f7f7f; text-decoration-color: #7f7f7f\">                            </span>│<span style=\"color: #7f7f7f; text-decoration-color: #7f7f7f\"> answering, you already    </span>│\n",
       "│<span style=\"color: #7f7f7f; text-decoration-color: #7f7f7f\">                            </span>│<span style=\"color: #7f7f7f; text-decoration-color: #7f7f7f\">                           </span>│<span style=\"color: #7f7f7f; text-decoration-color: #7f7f7f\">                            </span>│<span style=\"color: #7f7f7f; text-decoration-color: #7f7f7f\"> answered the following    </span>│\n",
       "│<span style=\"color: #7f7f7f; text-decoration-color: #7f7f7f\">                            </span>│<span style=\"color: #7f7f7f; text-decoration-color: #7f7f7f\">                           </span>│<span style=\"color: #7f7f7f; text-decoration-color: #7f7f7f\">                            </span>│<span style=\"color: #7f7f7f; text-decoration-color: #7f7f7f\"> question(s):\\n            </span>│\n",
       "│<span style=\"color: #7f7f7f; text-decoration-color: #7f7f7f\">                            </span>│<span style=\"color: #7f7f7f; text-decoration-color: #7f7f7f\">                           </span>│<span style=\"color: #7f7f7f; text-decoration-color: #7f7f7f\">                            </span>│<span style=\"color: #7f7f7f; text-decoration-color: #7f7f7f\"> \\tQuestion: What is your  </span>│\n",
       "│<span style=\"color: #7f7f7f; text-decoration-color: #7f7f7f\">                            </span>│<span style=\"color: #7f7f7f; text-decoration-color: #7f7f7f\">                           </span>│<span style=\"color: #7f7f7f; text-decoration-color: #7f7f7f\">                            </span>│<span style=\"color: #7f7f7f; text-decoration-color: #7f7f7f\"> favorite                  </span>│\n",
       "│<span style=\"color: #7f7f7f; text-decoration-color: #7f7f7f\">                            </span>│<span style=\"color: #7f7f7f; text-decoration-color: #7f7f7f\">                           </span>│<span style=\"color: #7f7f7f; text-decoration-color: #7f7f7f\">                            </span>│<span style=\"color: #7f7f7f; text-decoration-color: #7f7f7f\"> color?\\n\\tAnswer:         </span>│\n",
       "│<span style=\"color: #7f7f7f; text-decoration-color: #7f7f7f\">                            </span>│<span style=\"color: #7f7f7f; text-decoration-color: #7f7f7f\">                           </span>│<span style=\"color: #7f7f7f; text-decoration-color: #7f7f7f\">                            </span>│<span style=\"color: #7f7f7f; text-decoration-color: #7f7f7f\"> Blue\\n\\n Prior questions  </span>│\n",
       "│<span style=\"color: #7f7f7f; text-decoration-color: #7f7f7f\">                            </span>│<span style=\"color: #7f7f7f; text-decoration-color: #7f7f7f\">                           </span>│<span style=\"color: #7f7f7f; text-decoration-color: #7f7f7f\">                            </span>│<span style=\"color: #7f7f7f; text-decoration-color: #7f7f7f\"> and answers:\\tQuestion:   </span>│\n",
       "│<span style=\"color: #7f7f7f; text-decoration-color: #7f7f7f\">                            </span>│<span style=\"color: #7f7f7f; text-decoration-color: #7f7f7f\">                           </span>│<span style=\"color: #7f7f7f; text-decoration-color: #7f7f7f\">                            </span>│<span style=\"color: #7f7f7f; text-decoration-color: #7f7f7f\"> What is your favorite day </span>│\n",
       "│<span style=\"color: #7f7f7f; text-decoration-color: #7f7f7f\">                            </span>│<span style=\"color: #7f7f7f; text-decoration-color: #7f7f7f\">                           </span>│<span style=\"color: #7f7f7f; text-decoration-color: #7f7f7f\">                            </span>│<span style=\"color: #7f7f7f; text-decoration-color: #7f7f7f\"> of the week?\\n\\tAnswer:   </span>│\n",
       "│<span style=\"color: #7f7f7f; text-decoration-color: #7f7f7f\">                            </span>│<span style=\"color: #7f7f7f; text-decoration-color: #7f7f7f\">                           </span>│<span style=\"color: #7f7f7f; text-decoration-color: #7f7f7f\">                            </span>│<span style=\"color: #7f7f7f; text-decoration-color: #7f7f7f\"> Fri', 'class_name':       </span>│\n",
       "│<span style=\"color: #7f7f7f; text-decoration-color: #7f7f7f\">                            </span>│<span style=\"color: #7f7f7f; text-decoration-color: #7f7f7f\">                           </span>│<span style=\"color: #7f7f7f; text-decoration-color: #7f7f7f\">                            </span>│<span style=\"color: #7f7f7f; text-decoration-color: #7f7f7f\"> 'TopK'}                   </span>│\n",
       "└────────────────────────────┴───────────────────────────┴────────────────────────────┴───────────────────────────┘\n",
       "</pre>\n"
      ],
      "text/plain": [
       "┏━━━━━━━━━━━━━━━━━━━━━━━━━━━━┳━━━━━━━━━━━━━━━━━━━━━━━━━━━┳━━━━━━━━━━━━━━━━━━━━━━━━━━━━┳━━━━━━━━━━━━━━━━━━━━━━━━━━━┓\n",
       "┃\u001b[1;35m \u001b[0m\u001b[1;35mprompt                    \u001b[0m\u001b[1;35m \u001b[0m┃\u001b[1;35m \u001b[0m\u001b[1;35mprompt                   \u001b[0m\u001b[1;35m \u001b[0m┃\u001b[1;35m \u001b[0m\u001b[1;35mprompt                    \u001b[0m\u001b[1;35m \u001b[0m┃\u001b[1;35m \u001b[0m\u001b[1;35mprompt                   \u001b[0m\u001b[1;35m \u001b[0m┃\n",
       "┃\u001b[1;35m \u001b[0m\u001b[1;35m.color_user_prompt        \u001b[0m\u001b[1;35m \u001b[0m┃\u001b[1;35m \u001b[0m\u001b[1;35m.day_user_prompt         \u001b[0m\u001b[1;35m \u001b[0m┃\u001b[1;35m \u001b[0m\u001b[1;35m.winter_user_prompt       \u001b[0m\u001b[1;35m \u001b[0m┃\u001b[1;35m \u001b[0m\u001b[1;35m.birds_user_prompt       \u001b[0m\u001b[1;35m \u001b[0m┃\n",
       "┡━━━━━━━━━━━━━━━━━━━━━━━━━━━━╇━━━━━━━━━━━━━━━━━━━━━━━━━━━╇━━━━━━━━━━━━━━━━━━━━━━━━━━━━╇━━━━━━━━━━━━━━━━━━━━━━━━━━━┩\n",
       "│\u001b[2m \u001b[0m\u001b[2m{'text': 'You are being   \u001b[0m\u001b[2m \u001b[0m│\u001b[2m \u001b[0m\u001b[2m{'text': 'You are being  \u001b[0m\u001b[2m \u001b[0m│\u001b[2m \u001b[0m\u001b[2m{'text': 'You are being   \u001b[0m\u001b[2m \u001b[0m│\u001b[2m \u001b[0m\u001b[2m{'text': 'You are being  \u001b[0m\u001b[2m \u001b[0m│\n",
       "│\u001b[2m \u001b[0m\u001b[2masked the following       \u001b[0m\u001b[2m \u001b[0m│\u001b[2m \u001b[0m\u001b[2masked the following      \u001b[0m\u001b[2m \u001b[0m│\u001b[2m \u001b[0m\u001b[2masked the following       \u001b[0m\u001b[2m \u001b[0m│\u001b[2m \u001b[0m\u001b[2masked the following      \u001b[0m\u001b[2m \u001b[0m│\n",
       "│\u001b[2m \u001b[0m\u001b[2mquestion: What is your    \u001b[0m\u001b[2m \u001b[0m│\u001b[2m \u001b[0m\u001b[2mquestion: What is your   \u001b[0m\u001b[2m \u001b[0m│\u001b[2m \u001b[0m\u001b[2mquestion: How much do you \u001b[0m\u001b[2m \u001b[0m│\u001b[2m \u001b[0m\u001b[2mquestion: Which birds do \u001b[0m\u001b[2m \u001b[0m│\n",
       "│\u001b[2m \u001b[0m\u001b[2mfavorite color?\\nThe      \u001b[0m\u001b[2m \u001b[0m│\u001b[2m \u001b[0m\u001b[2mfavorite day of the      \u001b[0m\u001b[2m \u001b[0m│\u001b[2m \u001b[0m\u001b[2menjoy winter?\\nThe options\u001b[0m\u001b[2m \u001b[0m│\u001b[2m \u001b[0m\u001b[2myou like best?\\nThe      \u001b[0m\u001b[2m \u001b[0m│\n",
       "│\u001b[2m \u001b[0m\u001b[2moptions are\\n\\n0:         \u001b[0m\u001b[2m \u001b[0m│\u001b[2m \u001b[0m\u001b[2mweek?\\nThe options       \u001b[0m\u001b[2m \u001b[0m│\u001b[2m \u001b[0m\u001b[2mare\\n\\n0: 0\\n\\n1: 1\\n\\n2: \u001b[0m\u001b[2m \u001b[0m│\u001b[2m \u001b[0m\u001b[2moptions are\\n\\n0:        \u001b[0m\u001b[2m \u001b[0m│\n",
       "│\u001b[2m \u001b[0m\u001b[2mRed\\n\\n1: Orange\\n\\n2:    \u001b[0m\u001b[2m \u001b[0m│\u001b[2m \u001b[0m\u001b[2mare\\n\\n0: Sun\\n\\n1:      \u001b[0m\u001b[2m \u001b[0m│\u001b[2m \u001b[0m\u001b[2m2\\n\\n3: 3\\n\\n4: 4\\n\\n5:   \u001b[0m\u001b[2m \u001b[0m│\u001b[2m \u001b[0m\u001b[2mParrot\\n\\n1: Osprey\\n\\n2:\u001b[0m\u001b[2m \u001b[0m│\n",
       "│\u001b[2m \u001b[0m\u001b[2mYellow\\n\\n3: Green\\n\\n4:  \u001b[0m\u001b[2m \u001b[0m│\u001b[2m \u001b[0m\u001b[2mMon\\n\\n2: Tue\\n\\n3:      \u001b[0m\u001b[2m \u001b[0m│\u001b[2m \u001b[0m\u001b[2m5\\n\\nReturn a valid JSON  \u001b[0m\u001b[2m \u001b[0m│\u001b[2m \u001b[0m\u001b[2mFalcon\\n\\n3: Eagle\\n\\n4: \u001b[0m\u001b[2m \u001b[0m│\n",
       "│\u001b[2m \u001b[0m\u001b[2mBlue\\n\\n5:                \u001b[0m\u001b[2m \u001b[0m│\u001b[2m \u001b[0m\u001b[2mWed\\n\\n4: Thu\\n\\n5:      \u001b[0m\u001b[2m \u001b[0m│\u001b[2m \u001b[0m\u001b[2mformatted like this,      \u001b[0m\u001b[2m \u001b[0m│\u001b[2m \u001b[0m\u001b[2mFirst Robin of           \u001b[0m\u001b[2m \u001b[0m│\n",
       "│\u001b[2m \u001b[0m\u001b[2mPurple\\n\\nReturn a valid  \u001b[0m\u001b[2m \u001b[0m│\u001b[2m \u001b[0m\u001b[2mFri\\n\\n6: Sat\\n\\nReturn a\u001b[0m\u001b[2m \u001b[0m│\u001b[2m \u001b[0m\u001b[2mselecting only the code of\u001b[0m\u001b[2m \u001b[0m│\u001b[2m \u001b[0m\u001b[2mSpring\\n\\nReturn a valid \u001b[0m\u001b[2m \u001b[0m│\n",
       "│\u001b[2m \u001b[0m\u001b[2mJSON formatted like this, \u001b[0m\u001b[2m \u001b[0m│\u001b[2m \u001b[0m\u001b[2mvalid JSON formatted like\u001b[0m\u001b[2m \u001b[0m│\u001b[2m \u001b[0m\u001b[2mthe option (codes start at\u001b[0m\u001b[2m \u001b[0m│\u001b[2m \u001b[0m\u001b[2mJSON formatted like this,\u001b[0m\u001b[2m \u001b[0m│\n",
       "│\u001b[2m \u001b[0m\u001b[2mselecting only the number \u001b[0m\u001b[2m \u001b[0m│\u001b[2m \u001b[0m\u001b[2mthis, selecting only the \u001b[0m\u001b[2m \u001b[0m│\u001b[2m \u001b[0m\u001b[2m0):\\n{\"answer\": <put      \u001b[0m\u001b[2m \u001b[0m│\u001b[2m \u001b[0m\u001b[2mselecting only the number\u001b[0m\u001b[2m \u001b[0m│\n",
       "│\u001b[2m \u001b[0m\u001b[2mof the option:\\n{\"answer\":\u001b[0m\u001b[2m \u001b[0m│\u001b[2m \u001b[0m\u001b[2mnumber of the            \u001b[0m\u001b[2m \u001b[0m│\u001b[2m \u001b[0m\u001b[2manswer code here>,        \u001b[0m\u001b[2m \u001b[0m│\u001b[2m \u001b[0m\u001b[2mof the                   \u001b[0m\u001b[2m \u001b[0m│\n",
       "│\u001b[2m \u001b[0m\u001b[2m<put answer code here>,   \u001b[0m\u001b[2m \u001b[0m│\u001b[2m \u001b[0m\u001b[2moption:\\n{\"answer\": <put \u001b[0m\u001b[2m \u001b[0m│\u001b[2m \u001b[0m\u001b[2m\"comment\": \"<put          \u001b[0m\u001b[2m \u001b[0m│\u001b[2m \u001b[0m\u001b[2moption:\\n{\"answer\": [<put\u001b[0m\u001b[2m \u001b[0m│\n",
       "│\u001b[2m \u001b[0m\u001b[2m\"comment\": \"<put          \u001b[0m\u001b[2m \u001b[0m│\u001b[2m \u001b[0m\u001b[2manswer code here>,       \u001b[0m\u001b[2m \u001b[0m│\u001b[2m \u001b[0m\u001b[2mexplanation here>\"}\\nOnly \u001b[0m\u001b[2m \u001b[0m│\u001b[2m \u001b[0m\u001b[2mcomma-separated list of  \u001b[0m\u001b[2m \u001b[0m│\n",
       "│\u001b[2m \u001b[0m\u001b[2mexplanation here>\"}\\nOnly \u001b[0m\u001b[2m \u001b[0m│\u001b[2m \u001b[0m\u001b[2m\"comment\": \"<put         \u001b[0m\u001b[2m \u001b[0m│\u001b[2m \u001b[0m\u001b[2m1 option may be           \u001b[0m\u001b[2m \u001b[0m│\u001b[2m \u001b[0m\u001b[2manswer codes here>],     \u001b[0m\u001b[2m \u001b[0m│\n",
       "│\u001b[2m \u001b[0m\u001b[2m1 option may be           \u001b[0m\u001b[2m \u001b[0m│\u001b[2m \u001b[0m\u001b[2mexplanation here>\"}\\nOnly\u001b[0m\u001b[2m \u001b[0m│\u001b[2m \u001b[0m\u001b[2mselected.', 'class_name': \u001b[0m\u001b[2m \u001b[0m│\u001b[2m \u001b[0m\u001b[2m\"comment\": \"<put         \u001b[0m\u001b[2m \u001b[0m│\n",
       "│\u001b[2m \u001b[0m\u001b[2mselected.', 'class_name': \u001b[0m\u001b[2m \u001b[0m│\u001b[2m \u001b[0m\u001b[2m1 option may be          \u001b[0m\u001b[2m \u001b[0m│\u001b[2m \u001b[0m\u001b[2m'LinearScale'}            \u001b[0m\u001b[2m \u001b[0m│\u001b[2m \u001b[0m\u001b[2mexplanation              \u001b[0m\u001b[2m \u001b[0m│\n",
       "│\u001b[2m \u001b[0m\u001b[2m'MultipleChoice'}         \u001b[0m\u001b[2m \u001b[0m│\u001b[2m \u001b[0m\u001b[2mselected.', 'class_name':\u001b[0m\u001b[2m \u001b[0m│\u001b[2m                            \u001b[0m│\u001b[2m \u001b[0m\u001b[2mhere>\"}\\n\\nYou must      \u001b[0m\u001b[2m \u001b[0m│\n",
       "│\u001b[2m                            \u001b[0m│\u001b[2m \u001b[0m\u001b[2m'MultipleChoice'}        \u001b[0m\u001b[2m \u001b[0m│\u001b[2m                            \u001b[0m│\u001b[2m \u001b[0m\u001b[2mselect exactly 2         \u001b[0m\u001b[2m \u001b[0m│\n",
       "│\u001b[2m                            \u001b[0m│\u001b[2m                           \u001b[0m│\u001b[2m                            \u001b[0m│\u001b[2m \u001b[0m\u001b[2moptions.\\n        Before \u001b[0m\u001b[2m \u001b[0m│\n",
       "│\u001b[2m                            \u001b[0m│\u001b[2m                           \u001b[0m│\u001b[2m                            \u001b[0m│\u001b[2m \u001b[0m\u001b[2mthe question you are now \u001b[0m\u001b[2m \u001b[0m│\n",
       "│\u001b[2m                            \u001b[0m│\u001b[2m                           \u001b[0m│\u001b[2m                            \u001b[0m│\u001b[2m \u001b[0m\u001b[2manswering, you already   \u001b[0m\u001b[2m \u001b[0m│\n",
       "│\u001b[2m                            \u001b[0m│\u001b[2m                           \u001b[0m│\u001b[2m                            \u001b[0m│\u001b[2m \u001b[0m\u001b[2manswered the following   \u001b[0m\u001b[2m \u001b[0m│\n",
       "│\u001b[2m                            \u001b[0m│\u001b[2m                           \u001b[0m│\u001b[2m                            \u001b[0m│\u001b[2m \u001b[0m\u001b[2mquestion(s):\\n           \u001b[0m\u001b[2m \u001b[0m│\n",
       "│\u001b[2m                            \u001b[0m│\u001b[2m                           \u001b[0m│\u001b[2m                            \u001b[0m│\u001b[2m \u001b[0m\u001b[2m\\tQuestion: What is your \u001b[0m\u001b[2m \u001b[0m│\n",
       "│\u001b[2m                            \u001b[0m│\u001b[2m                           \u001b[0m│\u001b[2m                            \u001b[0m│\u001b[2m \u001b[0m\u001b[2mfavorite                 \u001b[0m\u001b[2m \u001b[0m│\n",
       "│\u001b[2m                            \u001b[0m│\u001b[2m                           \u001b[0m│\u001b[2m                            \u001b[0m│\u001b[2m \u001b[0m\u001b[2mcolor?\\n\\tAnswer:        \u001b[0m\u001b[2m \u001b[0m│\n",
       "│\u001b[2m                            \u001b[0m│\u001b[2m                           \u001b[0m│\u001b[2m                            \u001b[0m│\u001b[2m \u001b[0m\u001b[2mBlue\\n\\n Prior questions \u001b[0m\u001b[2m \u001b[0m│\n",
       "│\u001b[2m                            \u001b[0m│\u001b[2m                           \u001b[0m│\u001b[2m                            \u001b[0m│\u001b[2m \u001b[0m\u001b[2mand answers:\\tQuestion:  \u001b[0m\u001b[2m \u001b[0m│\n",
       "│\u001b[2m                            \u001b[0m│\u001b[2m                           \u001b[0m│\u001b[2m                            \u001b[0m│\u001b[2m \u001b[0m\u001b[2mWhat is your favorite day\u001b[0m\u001b[2m \u001b[0m│\n",
       "│\u001b[2m                            \u001b[0m│\u001b[2m                           \u001b[0m│\u001b[2m                            \u001b[0m│\u001b[2m \u001b[0m\u001b[2mof the week?\\n\\tAnswer:  \u001b[0m\u001b[2m \u001b[0m│\n",
       "│\u001b[2m                            \u001b[0m│\u001b[2m                           \u001b[0m│\u001b[2m                            \u001b[0m│\u001b[2m \u001b[0m\u001b[2mFri', 'class_name':      \u001b[0m\u001b[2m \u001b[0m│\n",
       "│\u001b[2m                            \u001b[0m│\u001b[2m                           \u001b[0m│\u001b[2m                            \u001b[0m│\u001b[2m \u001b[0m\u001b[2m'TopK'}                  \u001b[0m\u001b[2m \u001b[0m│\n",
       "└────────────────────────────┴───────────────────────────┴────────────────────────────┴───────────────────────────┘\n"
      ]
     },
     "metadata": {},
     "output_type": "display_data"
    }
   ],
   "source": [
    "results = survey.run()\n",
    "results.select(\"color_user_prompt\", \"day_user_prompt\", \"winter_user_prompt\", \"birds_user_prompt\").print(format=\"rich\")"
   ]
  }
 ],
 "metadata": {
  "kernelspec": {
   "display_name": "Python 3 (ipykernel)",
   "language": "python",
   "name": "python3"
  },
  "language_info": {
   "codemirror_mode": {
    "name": "ipython",
    "version": 3
   },
   "file_extension": ".py",
   "mimetype": "text/x-python",
   "name": "python",
   "nbconvert_exporter": "python",
   "pygments_lexer": "ipython3",
   "version": "3.11.7"
  }
 },
 "nbformat": 4,
 "nbformat_minor": 5
}
