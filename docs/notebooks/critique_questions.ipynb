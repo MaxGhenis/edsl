{
 "cells": [
  {
   "cell_type": "markdown",
   "metadata": {
    "cell_id": "99134280a691401cadf101890d37c234",
    "deepnote_app_block_visible": false,
    "deepnote_cell_type": "markdown"
   },
   "source": [
    "# Research: Critiquing survey questions\n",
    "This notebook shows some ways of using EDSL to critique and improve survey questions. We do this by parameterizing a series of free text questions prompting an AI agent to provide feedback and criticism a survey question. We then ask the agent to provide a better version of the survey question, with and without the agent's responses to the prompts for feedback and criticism. We also compare results from different personas assigned to the agents and results using different LLMs."
   ]
  },
  {
   "cell_type": "markdown",
   "metadata": {},
   "source": [
    "[![Open In Colab](https://colab.research.google.com/assets/colab-badge.svg)](https://colab.research.google.com/github/expectedparrot/edsl/blob/main/docs/notebooks/critique_questions.ipynb)"
   ]
  },
  {
   "cell_type": "code",
   "execution_count": 1,
   "metadata": {
    "cell_id": "5016866dd6d546cb85bfb0e900f9a23d",
    "deepnote_cell_type": "code"
   },
   "outputs": [],
   "source": [
    "# ! pip install edsl"
   ]
  },
  {
   "cell_type": "code",
   "execution_count": 2,
   "metadata": {
    "allow_embed": false,
    "cell_id": "a1d898ab79374810b675ab1396739b6d",
    "deepnote_cell_type": "code",
    "deepnote_to_be_reexecuted": false,
    "execution_millis": 116,
    "execution_start": 1709844798520,
    "source_hash": null
   },
   "outputs": [],
   "source": [
    "from edsl.questions import QuestionFreeText\n",
    "from edsl import Scenario, Survey, Agent, Model"
   ]
  },
  {
   "cell_type": "code",
   "execution_count": 3,
   "metadata": {
    "allow_embed": false,
    "cell_id": "6a5da3553ff84d1eac3154a2270ac966",
    "deepnote_cell_type": "code",
    "deepnote_to_be_reexecuted": false,
    "execution_millis": 9570,
    "execution_start": 1709844800516,
    "source_hash": null
   },
   "outputs": [
    {
     "data": {
      "application/vnd.jupyter.widget-view+json": {
       "model_id": "01eab2a7d02e475ab02d1c891c784816",
       "version_major": 2,
       "version_minor": 0
      },
      "text/plain": [
       "Output()"
      ]
     },
     "metadata": {},
     "output_type": "display_data"
    },
    {
     "data": {
      "text/html": [
       "<pre style=\"white-space:pre;overflow-x:auto;line-height:normal;font-family:Menlo,'DejaVu Sans Mono',consolas,'Courier New',monospace\"></pre>\n"
      ],
      "text/plain": []
     },
     "metadata": {},
     "output_type": "display_data"
    }
   ],
   "source": [
    "q1 = QuestionFreeText(\n",
    "    question_name = \"problems\",\n",
    "    question_text = \"What are some problems with this survey question: {{ draft_question }}\"\n",
    ")\n",
    "\n",
    "q2 = QuestionFreeText(\n",
    "    question_name = \"confusing\",\n",
    "    question_text = \"What are some ways in which this survey question may be confusing: {{ draft_question }}\"\n",
    ")\n",
    "\n",
    "q3 = QuestionFreeText(\n",
    "    question_name = \"truthful\",\n",
    "    question_text = \"What are some ways of ensuring that respondents will answer this survey question truthfully: {{ draft_question }}\"\n",
    ")\n",
    "\n",
    "q4 = QuestionFreeText(\n",
    "    question_name = \"revised1\",\n",
    "    question_text = \"Please provide an improved version of the following survey question: {{ draft_question }}\"\n",
    ")\n",
    "\n",
    "# This question also prompts the agent to provide an improved version of the draft survey question, \n",
    "# but we will add the context of responses 1-3 to the prompt (see .add_targeted_memory() step below)\n",
    "q5 = QuestionFreeText(\n",
    "    question_name = \"revised2\",\n",
    "    question_text = \"Please provide an improved version of the following survey question: {{ draft_question }}\"\n",
    ")\n",
    "\n",
    "draft_questions = [\n",
    "    \"Where are you from?\",\n",
    "    \"What is your annual income?\"\n",
    "]\n",
    "\n",
    "scenarios = [Scenario({\"draft_question\":q}) for q in draft_questions]\n",
    "\n",
    "personas = [\n",
    "    \"\", # No persona\n",
    "    \"You have some experience in responding to surveys.\",\n",
    "    \"You are an expert in survey design and cognitive testing.\",\n",
    "]\n",
    "\n",
    "agents = [Agent(traits={\"persona\":p}) for p in personas]\n",
    "\n",
    "survey = Survey(questions = [q1, q2, q3, q4, q5])\n",
    "\n",
    "# Here we add the context of responses 1-3 to the prompt for q5:\n",
    "survey.add_targeted_memory(q5, q1)\n",
    "survey.add_targeted_memory(q5, q2)\n",
    "survey.add_targeted_memory(q5, q3)\n",
    "\n",
    "results = survey.by(scenarios).by(agents).run(progress_bar=True)"
   ]
  },
  {
   "cell_type": "code",
   "execution_count": 4,
   "metadata": {
    "cell_id": "80d5cbd7a0fe46b18a9b8d4453a671e8",
    "deepnote_cell_type": "code",
    "deepnote_to_be_reexecuted": false,
    "execution_millis": 68,
    "execution_start": 1709844586796,
    "source_hash": null
   },
   "outputs": [
    {
     "data": {
      "text/plain": [
       "['agent.agent_name',\n",
       " 'agent.persona',\n",
       " 'answer.confusing',\n",
       " 'answer.problems',\n",
       " 'answer.revised1',\n",
       " 'answer.revised2',\n",
       " 'answer.truthful',\n",
       " 'iteration.iteration',\n",
       " 'model.frequency_penalty',\n",
       " 'model.logprobs',\n",
       " 'model.max_tokens',\n",
       " 'model.model',\n",
       " 'model.presence_penalty',\n",
       " 'model.temperature',\n",
       " 'model.top_logprobs',\n",
       " 'model.top_p',\n",
       " 'prompt.confusing_system_prompt',\n",
       " 'prompt.confusing_user_prompt',\n",
       " 'prompt.problems_system_prompt',\n",
       " 'prompt.problems_user_prompt',\n",
       " 'prompt.revised1_system_prompt',\n",
       " 'prompt.revised1_user_prompt',\n",
       " 'prompt.revised2_system_prompt',\n",
       " 'prompt.revised2_user_prompt',\n",
       " 'prompt.truthful_system_prompt',\n",
       " 'prompt.truthful_user_prompt',\n",
       " 'raw_model_response.confusing_raw_model_response',\n",
       " 'raw_model_response.problems_raw_model_response',\n",
       " 'raw_model_response.revised1_raw_model_response',\n",
       " 'raw_model_response.revised2_raw_model_response',\n",
       " 'raw_model_response.truthful_raw_model_response',\n",
       " 'scenario.draft_question']"
      ]
     },
     "execution_count": 4,
     "metadata": {},
     "output_type": "execute_result"
    }
   ],
   "source": [
    "results.columns"
   ]
  },
  {
   "cell_type": "code",
   "execution_count": 5,
   "metadata": {
    "allow_embed": false,
    "cell_id": "477a7685bb9c435e8f4e625621172c6e",
    "deepnote_cell_type": "code",
    "deepnote_to_be_reexecuted": false,
    "execution_millis": 364,
    "execution_start": 1709844835198,
    "source_hash": null
   },
   "outputs": [
    {
     "data": {
      "text/html": [
       "<table id=\"myTable\" class=\"display\">\n",
       "  <thead>\n",
       "  <tr>\n",
       "    <th>agent.persona</th>\n",
       "    <th>answer.problems</th>\n",
       "    <th>answer.confusing</th>\n",
       "    <th>answer.truthful</th>\n",
       "    <th>answer.revised1</th>\n",
       "    <th>answer.revised2</th>\n",
       "  </tr>\n",
       "  </thead>\n",
       "</tbody>\n",
       "  <tr>\n",
       "    <td>You have some experience in responding to surveys.</td>\n",
       "    <td>The question 'Where are you from?' can be problematic for several reasons. Firstly, it is ambiguous and can be interpreted in different ways; respondents might be unsure whether to answer with their country of origin, the city they were born in, or the place they currently reside. Secondly, it may be too broad and not specific enough for the survey's needs, failing to gather the precise data intended. Thirdly, for individuals with complex backgrounds, such as those who have lived in multiple places or are from multicultural families, the question could be difficult to answer succinctly. Lastly, it may also be considered too personal or sensitive by some respondents, depending on the context of the survey.</td>\n",
       "    <td>The question 'Where are you from?' can be confusing because it is ambiguous. It could refer to one's current place of residence, hometown, or the place where they were born. Additionally, for individuals who have moved frequently or come from multicultural backgrounds, the question might be challenging to answer succinctly. The term 'from' can also imply cultural, ethnic, or national identity, which may not align with geographical location for some individuals.</td>\n",
       "    <td>To encourage truthful responses to the question 'Where are you from?', you can ensure anonymity so that respondents feel secure in providing their actual location without fear of repercussions. Additionally, explaining the purpose of the question and how the data will be used can help to establish trust. Offering incentives for completing the survey might also motivate respondents to answer honestly. Lastly, making sure the survey is conducted in a professional manner and is distributed through reputable channels can further assure respondents of its legitimacy, thereby increasing the likelihood of truthful answers.</td>\n",
       "    <td>What is your country of origin?</td>\n",
       "    <td>In which country and city did you spend the majority of your childhood?</td>\n",
       "  </tr>\n",
       "  <tr>\n",
       "    <td>You are an expert in survey design and cognitive testing.</td>\n",
       "    <td>The question 'Where are you from?' is ambiguous and can lead to various interpretations. Respondents might be unsure whether to answer with their country of origin, the city they were born in, the place they currently live, or the location where they grew up. Additionally, it doesn't account for respondents who may have a multicultural background or who have moved frequently. To improve the question, it should be made more specific, such as 'What is your country of birth?' or 'In which city do you currently reside?' This would help in obtaining more precise and useful data from the survey.</td>\n",
       "    <td>The question 'Where are you from?' can be confusing for several reasons. Firstly, it is ambiguous and can refer to different aspects of a person's background such as their birthplace, hometown, current residence, or even their ethnic or cultural heritage. Secondly, individuals who have moved frequently might find it difficult to pinpoint a single location as 'where they are from.' Additionally, the term 'from' might be interpreted in a temporal sense, asking for the origin in time rather than in space, although this is less common. Lastly, for people with complex migration histories or those who identify with multiple places, the question may be too simplistic to capture the nuances of their origins.</td>\n",
       "    <td>To encourage truthful responses to the question 'Where are you from?', consider the following strategies: 1) Ensure anonymity of the survey to reduce social desirability bias; people may be more honest if they know their identities are not attached to their answers. 2) Preface the survey with a statement on the importance of truthful responses for the purpose of the research. 3) Avoid leading or loaded questions that might influence the respondent to answer in a particular way. 4) Offer a range of options that cover all possible responses, including an 'other' option with a space for them to fill in their specific location if it is not listed. 5) If the survey is not anonymous, build rapport with respondents to foster a trusting environment that encourages honesty. 6) Use neutral language that does not carry judgment or assumptions about any locations. 7) If the information is particularly sensitive, consider using indirect questioning techniques that allow respondents to answer the question without directly stating their location.</td>\n",
       "    <td>What is your current country of residence?</td>\n",
       "    <td>What is your current country of residence?</td>\n",
       "  </tr>\n",
       "  <tr>\n",
       "    <td></td>\n",
       "    <td>The question 'Where are you from?' can be problematic for several reasons. First, it is ambiguous and can be interpreted in different ways; respondents might be unsure whether to answer with their country of origin, city, state, or current residence. Second, it can be sensitive or personal for individuals who may not wish to disclose their background due to privacy concerns or potential biases. Third, it might not capture the complexity of someone's background, especially for those who have lived in multiple places or have a multicultural heritage. Lastly, without context or clarification, the question may not provide useful data for the survey's purpose.</td>\n",
       "    <td>The question 'Where are you from?' can be confusing for several reasons. Firstly, it is ambiguous and can refer to one's birthplace, current residence, or the place where one grew up. Secondly, for individuals who have lived in multiple places, it's unclear which location the question is referring to. Thirdly, the question can be sensitive or complex for those with multicultural or multi-ethnic backgrounds. Lastly, it may be taken to imply nationality, ethnicity, or heritage, which can lead to assumptions or misunderstandings about a person's identity.</td>\n",
       "    <td>To encourage truthful responses to the question 'Where are you from?', you could ensure anonymity, explain the purpose of the survey and how the data will be used, reassure respondents that there are no right or wrong answers, and emphasize the importance of accurate data for the study. Additionally, creating a comfortable and non-judgmental survey environment can help respondents feel at ease to answer honestly.</td>\n",
       "    <td>Could you please specify your place of birth or hometown?</td>\n",
       "    <td>In which country, state, or city do you currently reside?</td>\n",
       "  </tr>\n",
       "  <tr>\n",
       "    <td></td>\n",
       "    <td>The survey question 'What is your annual income?' can be problematic for several reasons. First, it lacks specificity regarding currency and whether the income should be reported before or after taxes. Additionally, it does not account for income fluctuations or clarify if it includes non-monetary benefits. Respondents might also feel uncomfortable disclosing this information due to privacy concerns, and without clear instructions on how the data will be used and protected, response rates could be low. Finally, the question does not provide options for those with no income or those who are retired or unemployed.</td>\n",
       "    <td>The survey question 'What is your annual income?' may be confusing for several reasons. First, it does not specify whether the income should be reported before or after taxes, which can lead to a significant difference in the reported amount. Second, it does not clarify whether to include only personal income or household income, which can also affect the response. Third, it does not account for non-monetary benefits that could be considered part of one's compensation, such as health insurance or stock options. Fourth, the question does not specify the currency or adjust for cost of living differences in various regions, which can be misleading when comparing incomes internationally. Lastly, it assumes a stable annual income, which might not apply to freelancers, seasonal workers, or those on variable commissions.</td>\n",
       "    <td>Ensuring that respondents answer the question about their annual income truthfully can be challenging, but here are some strategies that may help: 1. Guarantee anonymity and confidentiality to reduce the fear of judgment or negative consequences. 2. Emphasize the importance of accurate data for research purposes and how it can benefit the community or the individuals. 3. Provide a range of income brackets for respondents to choose from instead of asking for an exact figure, as this can reduce the pressure to report a specific amount. 4. Include a rationale for why the question is being asked to help respondents understand its relevance. 5. Offer incentives for completing the survey, which may encourage more honest responses. 6. Make sure the survey is conducted by a reputable organization to increase trust among respondents. 7. Use indirect questioning techniques that allow respondents to provide information about their income without directly stating it.</td>\n",
       "    <td>Could you please specify your total annual income before taxes?</td>\n",
       "    <td>Please select the range that best represents your total annual household income before taxes. All responses are confidential and will only be used for statistical purposes. [ ] Under $25,000 [ ] $25,000 to $49,999 [ ] $50,000 to $74,999 [ ] $75,000 to $99,999 [ ] $100,000 to $149,999 [ ] $150,000 to $199,999 [ ] $200,000 to $299,999 [ ] $300,000 or more [ ] Prefer not to say [ ] Not applicable (e.g., unemployed, retired) Note: Please report all income in US dollars (USD).</td>\n",
       "  </tr>\n",
       "  <tr>\n",
       "    <td>You have some experience in responding to surveys.</td>\n",
       "    <td>The question 'What is your annual income?' could be problematic for several reasons. Firstly, it lacks specificity regarding currency and whether the income should be reported before or after taxes. Secondly, some respondents might be uncomfortable disclosing their income, leading to a lower response rate or inaccurate reporting. Thirdly, the question does not account for income fluctuations or non-traditional income sources, which might be relevant for freelancers, gig economy workers, or those with variable incomes. Fourthly, it doesn't provide options for those who are currently unemployed or do not have a traditional income. Finally, without predefined income ranges or categories, the analysis of open-ended income responses can be complex and time-consuming.</td>\n",
       "    <td>The question 'What is your annual income?' can be confusing because it does not specify whether to include non-taxable income, whether it's before or after taxes, if it should include bonuses or variable compensation, if it's personal income or household income, and it does not account for income in-kind or benefits. Additionally, it does not provide guidance on how to calculate income for self-employed individuals or those with irregular income streams.</td>\n",
       "    <td>To encourage truthful responses about annual income, the survey can ensure anonymity and confidentiality, clearly communicate the purpose of the data collection and how the information will be used, and reassure respondents that there will be no negative consequences regardless of their answer. Offering incentives for completion may also motivate respondents to provide accurate information. Additionally, the survey can be designed to be easy to understand and answer, with income ranges instead of exact figures to simplify the process and reduce the discomfort associated with disclosing precise income amounts.</td>\n",
       "    <td>Please indicate your total annual income before taxes from all sources (in USD):</td>\n",
       "    <td>Please select the range that best represents your total annual household income before taxes. (Note: All income information will remain confidential and is being collected solely for statistical purposes. Please include all sources of income such as wages, salaries, bonuses, pensions, dividends, and any other money received by members of your household in the past year.)\n",
       "\n",
       "  - Under $25,000\n",
       "  - $25,001 - $50,000\n",
       "  - $50,001 - $75,000\n",
       "  - $75,001 - $100,000\n",
       "  - $100,001 - $150,000\n",
       "  - $150,001 - $200,000\n",
       "  - Over $200,000\n",
       "  - Prefer not to say\n",
       "  - Not applicable (e.g., unemployed, no traditional income)</td>\n",
       "  </tr>\n",
       "  <tr>\n",
       "    <td>You are an expert in survey design and cognitive testing.</td>\n",
       "    <td>The question 'What is your annual income?' can present several problems. First, it lacks specificity regarding the currency or the need for pre-tax versus post-tax income. Second, it might not account for income variability, such as for freelancers or those with fluctuating incomes. Third, it does not provide options for respondents who might be unemployed or have non-traditional sources of income. Fourth, it may be considered too sensitive or personal, leading to non-response or inaccurate reporting. Fifth, without income ranges or categories, the data can be difficult to analyze and compare. To improve the question, it should include clear instructions, consider privacy concerns, and possibly offer income brackets for easier reporting and analysis.</td>\n",
       "    <td>The question 'What is your annual income?' could be confusing for several reasons: 1) It does not specify whether the income should be reported before or after taxes (gross vs. net income), 2) It does not clarify if it should include only personal income or household income, 3) It assumes a stable yearly income, which might not apply to individuals with fluctuating earnings, 4) It does not provide a currency, which is particularly confusing in international surveys, and 5) It does not offer guidance on how to calculate or estimate income for self-employed or freelance individuals.</td>\n",
       "    <td>Ensuring that respondents answer truthfully about their annual income can be challenging, but there are several strategies that can help increase the accuracy of responses: 1. Guarantee anonymity: Assure respondents that their individual responses will be confidential and that data will be reported only in aggregate form. 2. Emphasize the importance of accurate data: Explain how truthful responses can lead to better insights and decisions that may benefit them directly or indirectly. 3. Include response options that cover a broad range: Provide a wide range of income categories so respondents can choose the one that best fits without feeling singled out. 4. Use indirect questioning: Frame the question in a way that makes it less intrusive, such as asking for income ranges instead of exact amounts. 5. Implement a web-based survey: Online surveys can increase the perception of privacy and encourage more honest responses. 6. Reduce social desirability bias: Remind respondents that all types of answers are normal and acceptable, which can reduce the pressure to answer in a socially desirable way. 7. Offer incentives: Provide a small reward for completing the survey, which can motivate respondents to take it more seriously and provide truthful answers.</td>\n",
       "    <td>Please select the range that best represents your total annual income before taxes from all sources. - Less than $10,000 - $10,000 to $24,999 - $25,000 to $49,999 - $50,000 to $74,999 - $75,000 to $99,999 - $100,000 to $149,999 - $150,000 to $199,999 - $200,000 to $299,999 - $300,000 to $399,999 - $400,000 to $499,999 - $500,000 or more - Prefer not to answer</td>\n",
       "    <td>Please select the income range that best represents your total pre-tax annual income (in USD) for the previous year. If your income varies, please provide an estimate that reflects your average annual income. If you did not have any income, please select the 'No income' option. Your response will remain confidential and will only be used for aggregate statistical analysis. [ ] Under $10,000 [ ] $10,000 to $24,999 [ ] $25,000 to $49,999 [ ] $50,000 to $74,999 [ ] $75,000 to $99,999 [ ] $100,000 to $149,999 [ ] $150,000 to $199,999 [ ] $200,000 to $299,999 [ ] $300,000 to $399,999 [ ] $400,000 to $499,999 [ ] $500,000 or more [ ] No income</td>\n",
       "  </tr>\n",
       "</tbody>\n",
       "</table>"
      ],
      "text/plain": [
       "<IPython.core.display.HTML object>"
      ]
     },
     "metadata": {},
     "output_type": "display_data"
    }
   ],
   "source": [
    "results.select(\"persona\", \"problems\", \"confusing\", \"truthful\", \"revised1\", \"revised2\").print()"
   ]
  }
 ],
 "metadata": {
  "deepnote_execution_queue": [],
  "deepnote_notebook_id": "2423494fd2f741c291893973d5a493fc",
  "kernelspec": {
   "display_name": "Python 3 (ipykernel)",
   "language": "python",
   "name": "python3"
  },
  "language_info": {
   "codemirror_mode": {
    "name": "ipython",
    "version": 3
   },
   "file_extension": ".py",
   "mimetype": "text/x-python",
   "name": "python",
   "nbconvert_exporter": "python",
   "pygments_lexer": "ipython3",
   "version": "3.11.7"
  }
 },
 "nbformat": 4,
 "nbformat_minor": 4
}
