{
 "cells": [
  {
   "cell_type": "markdown",
   "metadata": {
    "cell_id": "99134280a691401cadf101890d37c234",
    "deepnote_app_block_visible": false,
    "deepnote_cell_type": "markdown"
   },
   "source": [
    "# Research: Critiquing survey questions\n",
    "This notebook shows some ways of using EDSL to critique and improve survey questions. We do this by parameterizing a series of free text questions prompting an AI agent to provide feedback and criticism a survey question. We then ask the agent to provide a better version of the survey question, with and without the agent's responses to the prompts for feedback and criticism. We also compare results from different personas assigned to the agents and results using different LLMs."
   ]
  },
  {
   "cell_type": "markdown",
   "metadata": {},
   "source": [
    "[![Open In Colab](https://colab.research.google.com/assets/colab-badge.svg)](https://colab.research.google.com/github/expectedparrot/edsl/blob/main/docs/notebooks/critique_questions.ipynb)"
   ]
  },
  {
   "cell_type": "code",
   "execution_count": 1,
   "metadata": {
    "cell_id": "5016866dd6d546cb85bfb0e900f9a23d",
    "deepnote_cell_type": "code"
   },
   "outputs": [],
   "source": [
    "# ! pip install edsl"
   ]
  },
  {
   "cell_type": "code",
   "execution_count": 2,
   "metadata": {
    "allow_embed": false,
    "cell_id": "a1d898ab79374810b675ab1396739b6d",
    "deepnote_cell_type": "code",
    "deepnote_to_be_reexecuted": false,
    "execution_millis": 116,
    "execution_start": 1709844798520,
    "source_hash": null
   },
   "outputs": [],
   "source": [
    "from edsl import QuestionFreeText\n",
    "from edsl import  Survey, AgentList, Model, ScenarioList"
   ]
  },
  {
   "cell_type": "code",
   "execution_count": 3,
   "metadata": {
    "allow_embed": false,
    "cell_id": "6a5da3553ff84d1eac3154a2270ac966",
    "deepnote_cell_type": "code",
    "deepnote_to_be_reexecuted": false,
    "execution_millis": 9570,
    "execution_start": 1709844800516,
    "source_hash": null
   },
   "outputs": [
    {
     "data": {
      "application/vnd.jupyter.widget-view+json": {
       "model_id": "4fbb33f711834187927ca787b594c509",
       "version_major": 2,
       "version_minor": 0
      },
      "text/plain": [
       "Output()"
      ]
     },
     "metadata": {},
     "output_type": "display_data"
    },
    {
     "data": {
      "text/html": [
       "<pre style=\"white-space:pre;overflow-x:auto;line-height:normal;font-family:Menlo,'DejaVu Sans Mono',consolas,'Courier New',monospace\"></pre>\n"
      ],
      "text/plain": []
     },
     "metadata": {},
     "output_type": "display_data"
    }
   ],
   "source": [
    "q1 = QuestionFreeText(\n",
    "    question_name=\"problems\",\n",
    "    question_text=\"What are some problems with this survey question: {{ draft_question }}\",\n",
    ")\n",
    "\n",
    "q2 = QuestionFreeText(\n",
    "    question_name=\"confusing\",\n",
    "    question_text=\"What are some ways in which this survey question may be confusing: {{ draft_question }}\",\n",
    ")\n",
    "\n",
    "q3 = QuestionFreeText(\n",
    "    question_name=\"truthful\",\n",
    "    question_text=\"What are some ways of ensuring that respondents will answer this survey question truthfully: {{ draft_question }}\",\n",
    ")\n",
    "\n",
    "q4 = QuestionFreeText(\n",
    "    question_name=\"revised1\",\n",
    "    question_text=\"Please provide an improved version of the following survey question: {{ draft_question }}\",\n",
    ")\n",
    "\n",
    "# This question also prompts the agent to provide an improved version of the draft survey question,\n",
    "# but we will add the context of responses 1-3 to the prompt (see .add_targeted_memory() step below)\n",
    "q5 = QuestionFreeText(\n",
    "    question_name=\"revised2\",\n",
    "    question_text=\"Please provide an improved version of the following survey question: {{ draft_question }}\",\n",
    ")\n",
    "\n",
    "scenarios = ScenarioList.from_list(\"draft_question\", [\"Where are you from?\", \"What is your annual income?\"])\n",
    "agents = AgentList.from_list(\"persona\", [\"\", \"You have some experience in responding to surveys.\", \"You are an expert in survey design and cognitive testing.\"])\n",
    "survey = Survey(questions=[q1, q2, q3, q4, q5])\n",
    "\n",
    "# Here we add the context of responses 1-3 to the prompt for q5:\n",
    "survey.add_targeted_memory(q5, q1)\n",
    "survey.add_targeted_memory(q5, q2)\n",
    "survey.add_targeted_memory(q5, q3)\n",
    "\n",
    "results = survey.by(scenarios).by(agents).run(progress_bar=True, stop_on_exception= True, cache = False)"
   ]
  },
  {
   "cell_type": "code",
   "execution_count": 4,
   "metadata": {
    "cell_id": "80d5cbd7a0fe46b18a9b8d4453a671e8",
    "deepnote_cell_type": "code",
    "deepnote_to_be_reexecuted": false,
    "execution_millis": 68,
    "execution_start": 1709844586796,
    "source_hash": null
   },
   "outputs": [
    {
     "data": {
      "text/plain": [
       "['agent.agent_instruction',\n",
       " 'agent.agent_name',\n",
       " 'agent.persona',\n",
       " 'answer.confusing',\n",
       " 'answer.problems',\n",
       " 'answer.revised1',\n",
       " 'answer.revised2',\n",
       " 'answer.truthful',\n",
       " 'model.frequency_penalty',\n",
       " 'model.logprobs',\n",
       " 'model.max_tokens',\n",
       " 'model.model',\n",
       " 'model.presence_penalty',\n",
       " 'model.temperature',\n",
       " 'model.top_logprobs',\n",
       " 'model.top_p',\n",
       " 'prompt.confusing_system_prompt',\n",
       " 'prompt.confusing_user_prompt',\n",
       " 'prompt.problems_system_prompt',\n",
       " 'prompt.problems_user_prompt',\n",
       " 'prompt.revised1_system_prompt',\n",
       " 'prompt.revised1_user_prompt',\n",
       " 'prompt.revised2_system_prompt',\n",
       " 'prompt.revised2_user_prompt',\n",
       " 'prompt.truthful_system_prompt',\n",
       " 'prompt.truthful_user_prompt',\n",
       " 'question_options.confusing_question_options',\n",
       " 'question_options.problems_question_options',\n",
       " 'question_options.revised1_question_options',\n",
       " 'question_options.revised2_question_options',\n",
       " 'question_options.truthful_question_options',\n",
       " 'question_text.confusing_question_text',\n",
       " 'question_text.problems_question_text',\n",
       " 'question_text.revised1_question_text',\n",
       " 'question_text.revised2_question_text',\n",
       " 'question_text.truthful_question_text',\n",
       " 'question_type.confusing_question_type',\n",
       " 'question_type.problems_question_type',\n",
       " 'question_type.revised1_question_type',\n",
       " 'question_type.revised2_question_type',\n",
       " 'question_type.truthful_question_type',\n",
       " 'raw_model_response.confusing_raw_model_response',\n",
       " 'raw_model_response.problems_raw_model_response',\n",
       " 'raw_model_response.revised1_raw_model_response',\n",
       " 'raw_model_response.revised2_raw_model_response',\n",
       " 'raw_model_response.truthful_raw_model_response',\n",
       " 'scenario.draft_question']"
      ]
     },
     "execution_count": 4,
     "metadata": {},
     "output_type": "execute_result"
    }
   ],
   "source": [
    "results.columns"
   ]
  },
  {
   "cell_type": "code",
   "execution_count": 5,
   "metadata": {
    "allow_embed": false,
    "cell_id": "477a7685bb9c435e8f4e625621172c6e",
    "deepnote_cell_type": "code",
    "deepnote_to_be_reexecuted": false,
    "execution_millis": 364,
    "execution_start": 1709844835198,
    "source_hash": null
   },
   "outputs": [
    {
     "data": {
      "text/html": [
       "\n",
       "    <style>\n",
       "        table {\n",
       "            width: 100%;\n",
       "            border-collapse: collapse;\n",
       "        }\n",
       "        table, th, td {\n",
       "            border: 1px solid black;\n",
       "        }\n",
       "        th, td {\n",
       "            padding: 10px;\n",
       "            text-align: left;\n",
       "        }\n",
       "    </style>\n",
       "    <table id=\"myTable\" class=\"display\">\n",
       "  <thead>\n",
       "  <tr>\n",
       "    <th>agent.persona</th>\n",
       "    <th>answer.problems</th>\n",
       "    <th>answer.confusing</th>\n",
       "    <th>answer.truthful</th>\n",
       "    <th>answer.revised1</th>\n",
       "    <th>answer.revised2</th>\n",
       "  </tr>\n",
       "  </thead>\n",
       "</tbody>\n",
       "  <tr>\n",
       "    <td></td>\n",
       "    <td>The survey question \"Where are you from?\" can be problematic for several reasons:</td>\n",
       "    <td>The question \"Where are you from?\" can be confusing for several reasons, as it may be interpreted in various ways depending on the context and the individual's perspective. Here are some potential sources of confusion:</td>\n",
       "    <td>Ensuring truthful responses to the question \"Where are you from?\" in a survey can be challenging because it relies on the honesty of the respondents. However, here are some strategies that might encourage truthful answers:</td>\n",
       "    <td>Certainly! To get more precise and useful information, you might want to consider the following improved version of the question:</td>\n",
       "    <td>To improve the clarity and specificity of the question \"Where are you from?\" you could rephrase it as:</td>\n",
       "  </tr>\n",
       "  <tr>\n",
       "    <td>You have some experience in responding to surveys.</td>\n",
       "    <td>As someone with experience in responding to surveys, I can point out several potential problems with the question \"What is your annual income?\":</td>\n",
       "    <td>There are several ways in which the survey question \"What is your annual income?\" can be confusing to respondents. Here are a few potential issues:</td>\n",
       "    <td>Ensuring that respondents answer the question about their annual income truthfully can be challenging, but there are several strategies that can help increase the likelihood of honest responses:</td>\n",
       "    <td>Certainly! An improved version of the survey question \"What is your annual income?\" could be:</td>\n",
       "    <td>Based on the previous discussions about the potential issues and ways to improve truthfulness in responses, here's an improved version of the survey question about annual income:</td>\n",
       "  </tr>\n",
       "  <tr>\n",
       "    <td></td>\n",
       "    <td>The survey question \"What is your annual income?\" can have several issues that may affect the quality and reliability of the data collected. Here are some potential problems:</td>\n",
       "    <td>The question \"What is your annual income?\" can be confusing or unclear for several reasons:</td>\n",
       "    <td>Ensuring that respondents answer truthfully about sensitive information like annual income can be challenging, but here are some strategies that might help increase the accuracy of the responses:</td>\n",
       "    <td>Certainly! An improved version of the survey question that is more specific and offers a range of options could be:</td>\n",
       "    <td>An improved version of the survey question could be:</td>\n",
       "  </tr>\n",
       "  <tr>\n",
       "    <td>You are an expert in survey design and cognitive testing.</td>\n",
       "    <td>The survey question \"Where are you from?\" can be problematic for several reasons:</td>\n",
       "    <td>The question \"Where are you from?\" can be confusing for several reasons, and as an expert in survey design, I can point out a few potential issues that could lead to ambiguous or varied interpretations among respondents:</td>\n",
       "    <td>Ensuring that respondents answer truthfully can be challenging, but there are several strategies you can employ to increase the likelihood of honest responses, particularly for a question like \"Where are you from?\":</td>\n",
       "    <td>Certainly! The question \"Where are you from?\" can be ambiguous because it could refer to someone's birthplace, current residence, or even their cultural or ethnic background. To improve this question and make it clearer, you could specify what information you're looking for. Here are a few examples:</td>\n",
       "    <td>To improve the survey question \"Where are you from?\" and make it more specific and clear, consider the context in which you are asking the question. Here are some possible revisions depending on what information you are trying to gather:</td>\n",
       "  </tr>\n",
       "  <tr>\n",
       "    <td>You have some experience in responding to surveys.</td>\n",
       "    <td>The survey question \"Where are you from?\" can be problematic for several reasons:</td>\n",
       "    <td>The question \"Where are you from?\" can indeed be confusing for several reasons:</td>\n",
       "    <td>Ensuring that respondents answer the question \"Where are you from?\" truthfully can be a bit challenging, as it depends on the context and the motivation of the respondents. However, here are several strategies that can help encourage honest responses:</td>\n",
       "    <td>Certainly! An improved version of the survey question \"Where are you from?\" could be:</td>\n",
       "    <td>To improve the clarity and specificity of the question \"Where are you from?\" while considering the previous discussions, you could rephrase it as follows:</td>\n",
       "  </tr>\n",
       "  <tr>\n",
       "    <td>You are an expert in survey design and cognitive testing.</td>\n",
       "    <td>There are several potential problems with the survey question \"What is your annual income?\" that could affect the quality and reliability of the data collected. Here are some of the issues:</td>\n",
       "    <td>The question \"What is your annual income?\" can be confusing or problematic in several ways:</td>\n",
       "    <td>Ensuring that respondents answer truthfully about sensitive information like annual income can be challenging, but here are several strategies that can help increase the accuracy of the responses:</td>\n",
       "    <td>To improve the survey question \"What is your annual income?\" we need to consider factors such as clarity, precision, respondent privacy, and the ease of data analysis. Here is an improved version of the question:</td>\n",
       "    <td>Certainly! To improve the survey question \"What is your annual income?\" consider the following revised version that addresses potential issues such as clarity, sensitivity, and specificity:</td>\n",
       "  </tr>\n",
       "</tbody>\n",
       "</table>"
      ],
      "text/plain": [
       "<IPython.core.display.HTML object>"
      ]
     },
     "metadata": {},
     "output_type": "display_data"
    }
   ],
   "source": [
    "results.select(\n",
    "    \"persona\", \"problems\", \"confusing\", \"truthful\", \"revised1\", \"revised2\"\n",
    ").print()"
   ]
  },
  {
   "cell_type": "code",
   "execution_count": null,
   "metadata": {},
   "outputs": [],
   "source": []
  }
 ],
 "metadata": {
  "deepnote_execution_queue": [],
  "deepnote_notebook_id": "2423494fd2f741c291893973d5a493fc",
  "kernelspec": {
   "display_name": "Python 3 (ipykernel)",
   "language": "python",
   "name": "python3"
  },
  "language_info": {
   "codemirror_mode": {
    "name": "ipython",
    "version": 3
   },
   "file_extension": ".py",
   "mimetype": "text/x-python",
   "name": "python",
   "nbconvert_exporter": "python",
   "pygments_lexer": "ipython3",
   "version": "3.10.14"
  }
 },
 "nbformat": 4,
 "nbformat_minor": 4
}
