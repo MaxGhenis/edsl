{
 "cells": [
  {
   "cell_type": "markdown",
   "metadata": {},
   "source": [
    "## Azure example"
   ]
  },
  {
   "cell_type": "markdown",
   "metadata": {},
   "source": [
    "#### Requirements\n",
    "1. Deployed models in [Azure AI](https://ai.azure.com)\n",
    "2. Set environment variable AZURE_ENDPOINT_URL_AND_KEY to contain all the models that you have hosted on Azure\n",
    "- Example for multiple models deployed in Azure (separated by , ): \n",
    "    \n",
    "    AZURE_ENDPOINT_URL_AND_KEY=https://model_1_link:api_key_1,https://model_2_link:api_key_2\n"
   ]
  },
  {
   "cell_type": "markdown",
   "metadata": {},
   "source": [
    "#### List available models"
   ]
  },
  {
   "cell_type": "code",
   "execution_count": null,
   "metadata": {},
   "outputs": [
    {
     "data": {
      "text/html": [
       "\n",
       "            <div style=\"max-height: 500px; overflow-y: auto;\">\n",
       "                <style type=\"text/css\">\n",
       "#T_4efe2_row0_col0, #T_4efe2_row0_col1, #T_4efe2_row1_col0, #T_4efe2_row1_col1, #T_4efe2_row2_col0, #T_4efe2_row2_col1 {\n",
       "  text-align: left;\n",
       "}\n",
       "</style>\n",
       "<table id=\"T_4efe2\">\n",
       "  <thead>\n",
       "    <tr>\n",
       "      <th class=\"blank level0\" >&nbsp;</th>\n",
       "      <th id=\"T_4efe2_level0_col0\" class=\"col_heading level0 col0\" >Model Name</th>\n",
       "      <th id=\"T_4efe2_level0_col1\" class=\"col_heading level0 col1\" >Service Name</th>\n",
       "    </tr>\n",
       "  </thead>\n",
       "  <tbody>\n",
       "    <tr>\n",
       "      <th id=\"T_4efe2_level0_row0\" class=\"row_heading level0 row0\" >0</th>\n",
       "      <td id=\"T_4efe2_row0_col0\" class=\"data row0 col0\" >azure:gpt-4o-test</td>\n",
       "      <td id=\"T_4efe2_row0_col1\" class=\"data row0 col1\" >azure</td>\n",
       "    </tr>\n",
       "    <tr>\n",
       "      <th id=\"T_4efe2_level0_row1\" class=\"row_heading level0 row1\" >1</th>\n",
       "      <td id=\"T_4efe2_row1_col0\" class=\"data row1 col0\" >azure:gpt-4o-mini-test</td>\n",
       "      <td id=\"T_4efe2_row1_col1\" class=\"data row1 col1\" >azure</td>\n",
       "    </tr>\n",
       "    <tr>\n",
       "      <th id=\"T_4efe2_level0_row2\" class=\"row_heading level0 row2\" >2</th>\n",
       "      <td id=\"T_4efe2_row2_col0\" class=\"data row2 col0\" >Mistral-Large-2411-thgdv</td>\n",
       "      <td id=\"T_4efe2_row2_col1\" class=\"data row2 col1\" >azure</td>\n",
       "    </tr>\n",
       "  </tbody>\n",
       "</table>\n",
       "\n",
       "            </div>\n",
       "            "
      ],
      "text/plain": [
       "PrettyList([['azure:gpt-4o-test', 'azure'],\n",
       "            ['azure:gpt-4o-mini-test', 'azure'],\n",
       "            ['Mistral-Large-2411-thgdv', 'azure']])"
      ]
     },
     "execution_count": null,
     "metadata": {},
     "output_type": "execute_result"
    }
   ],
   "source": [
    "from edsl import Model\n",
    "\n",
    "azure_models = Model.available(service=\"azure\")\n",
    "azure_models"
   ]
  },
  {
   "cell_type": "markdown",
   "metadata": {},
   "source": [
    "#### Run survey using models hosted on Azure"
   ]
  },
  {
   "cell_type": "code",
   "execution_count": null,
   "metadata": {},
   "outputs": [
    {
     "name": "stdout",
     "output_type": "stream",
     "text": [
      "#############\n",
      "azure:gpt-4o-test\n",
      "answer.q1\n",
      "------------------------------------------------------------------------------------------------------------------------------------------------------------------------------------------------------------------------------------------------------------------------------------------------------------------------------------------\n",
      "As of 2023, there are over 7,000 satellites in space. This number includes both operational satellites and those that are no longer functioning but remain in orbit. The number of satellites is continuously increasing due to the growing demand for satellite-based services, such as communication, navigation, and Earth observation.\n",
      "#############\n",
      "azure:gpt-4o-mini-test\n",
      "answer.q1\n",
      "-----------------------------------------------------------------------------------------------------------------------------------------------------------------------------------------------------------------------------------------------------------------------------------------------------------------------------------------------------------------------------------------------------------------------------------------------------------------------------------------------------------------------------------------------------------------------------------------------------------------------------------------------------------------------------------------------------------\n",
      "As of October 2023, there are thousands of satellites currently in orbit around Earth. The exact number is constantly changing due to new satellite launches and decommissioning of older ones. Reports indicate that there are over 3,500 operational satellites in orbit, with many more non-operational or defunct satellites contributing to the overall count. Additionally, the number of small satellites and CubeSats has been increasing rapidly in recent years due to advancements in technology and reduced launch costs. For the most accurate and up-to-date information, it’s best to check resources like the Union of Concerned Scientists’ satellite database or relevant space agencies.\n",
      "#############\n",
      "Mistral-Large-2411-thgdv\n",
      "answer.q1\n",
      "-----------\n",
      "As of my last update in October 2023, the exact number of satellites in space can vary frequently due to new launches and decommissioning of old satellites. However, it is estimated that there are thousands of operational satellites in orbit around Earth. This number includes satellites used for various purposes such as communication, navigation, Earth observation, scientific research, and military applications.\n",
      "\n",
      "In addition to operational satellites, there are also numerous pieces of space debris, including defunct satellites and other objects, which add to the overall count of man-made objects in space.\n",
      "\n",
      "For the most current and precise information, you can refer to databases maintained by organizations such as the United Nations Office for Outer Space Affairs (UNOOSA), the Union of Concerned Scientists, or space agencies like NASA and ESA.\n"
     ]
    }
   ],
   "source": [
    "from edsl import QuestionFreeText\n",
    "from edsl import Model\n",
    "\n",
    "for model_name in azure_models:\n",
    "    print(\"#############\")\n",
    "    print(model_name[0])\n",
    "    model = Model(model_name[0])\n",
    "\n",
    "    question = QuestionFreeText(question_name=\"q1\",question_text=\"How many satellites are in space?\")\n",
    "\n",
    "    res = question.by(model).run(disable_remote_inference=True,cache=False)\n",
    "    \n",
    "    print(res.select(\"answer.*\").print())"
   ]
  },
  {
   "cell_type": "markdown",
   "metadata": {},
   "source": [
    "## AWS Bedrock"
   ]
  },
  {
   "cell_type": "markdown",
   "metadata": {},
   "source": [
    "### Requirements\n",
    "1. Set envariable variables AWS_ACCESS_KEY_ID and AWS_SECRET_ACCESS_KEY\n",
    "    \n"
   ]
  },
  {
   "cell_type": "markdown",
   "metadata": {},
   "source": [
    "#### List available models"
   ]
  },
  {
   "cell_type": "code",
   "execution_count": null,
   "metadata": {},
   "outputs": [
    {
     "ename": "SyntaxError",
     "evalue": "invalid syntax (AvailableModelFetcher.py, line 72)",
     "output_type": "error",
     "traceback": [
      "Traceback \u001b[0;36m(most recent call last)\u001b[0m:\n",
      "\u001b[0m  File \u001b[1;32m~/Library/Caches/pypoetry/virtualenvs/edsl-kc6DEymR-py3.10/lib/python3.10/site-packages/IPython/core/interactiveshell.py:3550\u001b[0m in \u001b[1;35mrun_code\u001b[0m\n    exec(code_obj, self.user_global_ns, self.user_ns)\u001b[0m\n",
      "\u001b[0m  Cell \u001b[1;32mIn[1], line 1\u001b[0m\n    from edsl import Model\u001b[0m\n",
      "\u001b[0m  File \u001b[1;32m~/Desktop/Devzone/edsl/edsl/__init__.py:38\u001b[0m\n    from edsl.language_models.model import Model\u001b[0m\n",
      "\u001b[0m  File \u001b[1;32m~/Desktop/Devzone/edsl/edsl/language_models/__init__.py:2\u001b[0m\n    from edsl.language_models.model import Model\u001b[0m\n",
      "\u001b[0m  File \u001b[1;32m~/Desktop/Devzone/edsl/edsl/language_models/model.py:8\u001b[0m\n    from edsl.inference_services.InferenceServicesCollection import (\u001b[0m\n",
      "\u001b[0;36m  File \u001b[0;32m~/Desktop/Devzone/edsl/edsl/inference_services/InferenceServicesCollection.py:6\u001b[0;36m\n\u001b[0;31m    from edsl.inference_services.AvailableModelFetcher import AvailableModelFetcher\u001b[0;36m\n",
      "\u001b[0;36m  File \u001b[0;32m~/Desktop/Devzone/edsl/edsl/inference_services/AvailableModelFetcher.py:72\u001b[0;36m\u001b[0m\n\u001b[0;31m    if service == \"azure\" or service = \"bedrock\":\u001b[0m\n\u001b[0m                                     ^\u001b[0m\n\u001b[0;31mSyntaxError\u001b[0m\u001b[0;31m:\u001b[0m invalid syntax\n"
     ]
    }
   ],
   "source": [
    "from edsl import Model\n",
    "\n",
    "aws_bedrock_models = Model.available(service=\"bedrock\")\n",
    "aws_bedrock_models"
   ]
  },
  {
   "cell_type": "markdown",
   "metadata": {},
   "source": [
    "#### Run Survey using AWS hosted models"
   ]
  },
  {
   "cell_type": "code",
   "execution_count": null,
   "metadata": {},
   "outputs": [
    {
     "name": "stdout",
     "output_type": "stream",
     "text": [
      "#############\n",
      "amazon.titan-text-express-v1\n",
      "answer.q1\n",
      "---------------------------------------------------------------------------------------------------------\n",
      "There are over 5000 satellites in space. The majority of these are owned by the United States and Russia.\n",
      "#############\n",
      "amazon.titan-text-lite-v1\n",
      "answer.q1\n",
      "------------------------------------------------------------------------------------------------------------------\n",
      "As of my knowledge cutoff date of 1/1/2023, there were an estimated 2,354 operational satellites in Earth's orbit.\n"
     ]
    }
   ],
   "source": [
    "from edsl import QuestionFreeText\n",
    "from edsl import Model\n",
    "\n",
    "for model_name in aws_bedrock_models[0:2]:\n",
    "    print(\"#############\")\n",
    "    print(model_name[0])\n",
    "    model = Model(model_name[0])\n",
    "    \n",
    "    question = QuestionFreeText(question_name=\"q1\",question_text=\"How many satellites are in space?\")\n",
    "\n",
    "    res = question.by(model).run(disable_remote_inference=True,cache=False)\n",
    "    \n",
    "    print(res.select(\"answer.*\").print())\n"
   ]
  }
 ],
 "metadata": {
  "kernelspec": {
   "display_name": "Python 3 (ipykernel)",
   "language": "python",
   "name": "python3"
  },
  "language_info": {
   "codemirror_mode": {
    "name": "ipython",
    "version": 3
   },
   "file_extension": ".py",
   "mimetype": "text/x-python",
   "name": "python",
   "nbconvert_exporter": "python",
   "pygments_lexer": "ipython3"
  }
 },
 "nbformat": 4,
 "nbformat_minor": 4
}
