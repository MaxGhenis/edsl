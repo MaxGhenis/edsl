{
 "cells": [
  {
   "cell_type": "markdown",
   "metadata": {
    "cell_id": "8ac53b667485457aa35b01467dcbd0d3",
    "deepnote_cell_type": "markdown"
   },
   "source": [
    "# Application: Grading ideas\n",
    "Create a gradesheet for ideas designed as an EDSL survey."
   ]
  },
  {
   "cell_type": "markdown",
   "metadata": {},
   "source": [
    "[![Open In Colab](https://colab.research.google.com/assets/colab-badge.svg)](https://colab.research.google.com/github/expectedparrot/edsl/blob/main/docs/notebooks/grading_experiment.ipynb)"
   ]
  },
  {
   "cell_type": "code",
   "execution_count": 1,
   "metadata": {
    "cell_id": "092b5e9dff0a47c3ac2901fb3cf575f0",
    "deepnote_cell_type": "code"
   },
   "outputs": [],
   "source": [
    "# ! pip install edsl"
   ]
  },
  {
   "cell_type": "code",
   "execution_count": 2,
   "metadata": {
    "allow_embed": false,
    "cell_id": "c5a6af875608404cbdcdef19631cf3ea",
    "deepnote_cell_type": "code",
    "deepnote_to_be_reexecuted": false,
    "execution_millis": 1122,
    "execution_start": 1709927778308,
    "source_hash": null
   },
   "outputs": [],
   "source": [
    "from edsl import Scenario, Agent, Survey, Model\n",
    "from edsl.questions import QuestionYesNo, QuestionList"
   ]
  },
  {
   "cell_type": "markdown",
   "metadata": {
    "cell_id": "574fc680f7954c89bdba4e1907a0deef",
    "deepnote_cell_type": "text-cell-p",
    "formattedRanges": []
   },
   "source": [
    "Defines the notion of a \"requirement\" that is worth some number of points."
   ]
  },
  {
   "cell_type": "code",
   "execution_count": 3,
   "metadata": {
    "cell_id": "412a38d252714cb8a02493d45831cf2b",
    "deepnote_cell_type": "code",
    "deepnote_to_be_reexecuted": false,
    "execution_millis": 85,
    "execution_start": 1709929876064,
    "source_hash": null
   },
   "outputs": [],
   "source": [
    "class Requirement:\n",
    "    common_header = \"\"\"Consider this idea for a {{ type }} business: {{ idea }}.\"\"\"\n",
    "\n",
    "    def __init__(self, requirement, grading_instructions, question_name, points):\n",
    "        self.requirement = requirement\n",
    "        self.grading_instructions = grading_instructions\n",
    "        self.question_name = question_name\n",
    "        self.points = points\n",
    "\n",
    "    @property\n",
    "    def question_text(self):\n",
    "        return (self.common_header + \"\\n\" + self.requirement + \"\\n\" + self.grading_instructions + \"\\n\" \n",
    "        + \"Does this idea satisfy the requirement?\")\n",
    "\n",
    "    def question(self):\n",
    "        return QuestionYesNo(\n",
    "            question_text = self.question_text, \n",
    "            question_name = self.question_name)\n",
    "\n",
    "r1 = Requirement(requirement = \"The idea is clear and well-written.\", \n",
    "    grading_instructions = \".\",\n",
    "    question_name = \"clear_idea\",\n",
    "    points = 10)\n",
    "\n",
    "r2 = Requirement(requirement = \"The idea has obvious user benefits.\", \n",
    "    grading_instructions = \"Describe the benefits of different user types.\",\n",
    "    question_name = \"user_benefits\",\n",
    "    points = 10)\n",
    "\n",
    "r3 = Requirement(requirement = \"The idea will attract a large number of new users.\", \n",
    "    grading_instructions = \"Explain why.\",\n",
    "    question_name = \"new_users\",\n",
    "    points = 10)\n",
    "\n",
    "requirements = [r1, r2, r3]\n",
    "survey = Survey([r.question() for r in requirements])"
   ]
  },
  {
   "cell_type": "markdown",
   "metadata": {
    "cell_id": "f8b85aebb8c24687bd5dd7cbd341cbdd",
    "deepnote_cell_type": "markdown"
   },
   "source": [
    "Creates a gradesheet for the requirements:"
   ]
  },
  {
   "cell_type": "code",
   "execution_count": 4,
   "metadata": {
    "cell_id": "4dfef4fa093e4021bc456aae1acf968f",
    "deepnote_cell_type": "code",
    "deepnote_to_be_reexecuted": false,
    "execution_millis": 94,
    "execution_start": 1709929878668,
    "source_hash": null
   },
   "outputs": [],
   "source": [
    "class Gradesheet:\n",
    "    def __init__(self, result, requirements):\n",
    "        self.result = result\n",
    "        self.requirements = requirements\n",
    "        self.points = 0\n",
    "        self._problems = []\n",
    "\n",
    "    def grade(self):\n",
    "        for requirement in self.requirements:\n",
    "            answer = self.result.sub_dicts['answer'].get(requirement.question_name)\n",
    "            if answer == \"Yes\":\n",
    "                self.points += requirement.points\n",
    "            # if answer == \"No\":\n",
    "            explain = self.result.sub_dicts['answer'].get(requirement.question_name + \"_comment\")\n",
    "            self._problems.append((requirement.question_name, str(requirement.points), explain))    \n",
    "\n",
    "        return self.points\n",
    "\n",
    "    def problems(self):\n",
    "        return self._problems\n",
    "\n",
    "    def sheet(self):\n",
    "        from rich.console import Console\n",
    "        from rich.table import Table\n",
    "        console = Console()\n",
    "        table = Table(show_header=True, header_style=\"bold magenta\")\n",
    "\n",
    "        # Add columns to the table\n",
    "        table.add_column(\"Requirement\")\n",
    "        table.add_column(\"Points\")\n",
    "        table.add_column(\"Issue\")\n",
    "\n",
    "        for problem in self._problems:\n",
    "            table.add_row(*problem)        \n",
    "            table.add_row(\"\", \"\", \"\")  # Add an empty row as a separator between items\n",
    "\n",
    "        console.print(table)"
   ]
  },
  {
   "cell_type": "markdown",
   "metadata": {
    "cell_id": "5d6deaa5dbd849cfa5bac0766d898d6a",
    "deepnote_cell_type": "markdown"
   },
   "source": [
    "Generates some ideas for demonstration:"
   ]
  },
  {
   "cell_type": "code",
   "execution_count": 5,
   "metadata": {
    "cell_id": "edef68b4c5e641b09d6e50ff7c972c15",
    "deepnote_cell_type": "code",
    "deepnote_to_be_reexecuted": false,
    "execution_millis": 1485,
    "execution_start": 1709929881715,
    "source_hash": null
   },
   "outputs": [
    {
     "data": {
      "application/vnd.jupyter.widget-view+json": {
       "model_id": "0c3aa4269d454bb4bc7d768c3733b97d",
       "version_major": 2,
       "version_minor": 0
      },
      "text/plain": [
       "Output()"
      ]
     },
     "metadata": {},
     "output_type": "display_data"
    },
    {
     "data": {
      "text/html": [
       "<pre style=\"white-space:pre;overflow-x:auto;line-height:normal;font-family:Menlo,'DejaVu Sans Mono',consolas,'Courier New',monospace\"></pre>\n"
      ],
      "text/plain": []
     },
     "metadata": {},
     "output_type": "display_data"
    },
    {
     "data": {
      "text/plain": [
       "['Sustainable Packaging Solutions',\n",
       " 'AI-powered Personal Health Assistant',\n",
       " 'Mobile Electric Vehicle Charging Service',\n",
       " 'Virtual Reality Travel Experiences',\n",
       " 'Smart Urban Farming Systems']"
      ]
     },
     "execution_count": 5,
     "metadata": {},
     "output_type": "execute_result"
    }
   ],
   "source": [
    "def get_ideas(num_ideas,type=\"\"):\n",
    "    q = QuestionList(\n",
    "        question_name = \"ideas\",\n",
    "        question_text = f\"Draft a list of { num_ideas } business ideas for a { type } business.\",\n",
    "    )\n",
    "    ideas = q.run(progress_bar=True).select(\"ideas\").to_list()[0]\n",
    "    return ideas\n",
    "\n",
    "ideas = get_ideas(5, \"startup\")\n",
    "ideas"
   ]
  },
  {
   "cell_type": "markdown",
   "metadata": {
    "cell_id": "2f4b23810dc644eebb06253de0f309ae",
    "deepnote_cell_type": "markdown"
   },
   "source": [
    "Create some personas for agents that will grade the ideas, runs the survey with the questions parameterized with the ideas, and then shows the results in gradesheet tables:"
   ]
  },
  {
   "cell_type": "code",
   "execution_count": 6,
   "metadata": {
    "cell_id": "5fdc65cda5654ba489a93b21ec5f5035",
    "deepnote_cell_type": "code",
    "deepnote_to_be_reexecuted": false,
    "execution_millis": 20137,
    "execution_start": 1709929887613,
    "source_hash": null
   },
   "outputs": [
    {
     "data": {
      "application/vnd.jupyter.widget-view+json": {
       "model_id": "f08932eac1f44fddb65162d26e88c1c6",
       "version_major": 2,
       "version_minor": 0
      },
      "text/plain": [
       "Output()"
      ]
     },
     "metadata": {},
     "output_type": "display_data"
    },
    {
     "data": {
      "text/html": [
       "<pre style=\"white-space:pre;overflow-x:auto;line-height:normal;font-family:Menlo,'DejaVu Sans Mono',consolas,'Courier New',monospace\"></pre>\n"
      ],
      "text/plain": []
     },
     "metadata": {},
     "output_type": "display_data"
    },
    {
     "name": "stdout",
     "output_type": "stream",
     "text": [
      "Idea:  Sustainable Packaging Solutions\n",
      "Persona:  You are a business analyst.\n",
      "Total points earned:  20\n"
     ]
    },
    {
     "data": {
      "text/html": [
       "<pre style=\"white-space:pre;overflow-x:auto;line-height:normal;font-family:Menlo,'DejaVu Sans Mono',consolas,'Courier New',monospace\">┏━━━━━━━━━━━━━━━┳━━━━━━━━┳━━━━━━━━━━━━━━━━━━━━━━━━━━━━━━━━━━━━━━━━━━━━━━━━━━━━━━━━━━━━━━━━━━━━━━━━━━━━━━━━━━━━━━━━┓\n",
       "┃<span style=\"color: #800080; text-decoration-color: #800080; font-weight: bold\"> Requirement   </span>┃<span style=\"color: #800080; text-decoration-color: #800080; font-weight: bold\"> Points </span>┃<span style=\"color: #800080; text-decoration-color: #800080; font-weight: bold\"> Issue                                                                                  </span>┃\n",
       "┡━━━━━━━━━━━━━━━╇━━━━━━━━╇━━━━━━━━━━━━━━━━━━━━━━━━━━━━━━━━━━━━━━━━━━━━━━━━━━━━━━━━━━━━━━━━━━━━━━━━━━━━━━━━━━━━━━━━┩\n",
       "│ clear_idea    │ 10     │ The idea 'Sustainable Packaging Solutions' is a concept rather than a fully developed  │\n",
       "│               │        │ business plan. It lacks details on execution, market analysis, competitive             │\n",
       "│               │        │ differentiation, financial projections, and other critical elements required to        │\n",
       "│               │        │ satisfy the requirement for a startup business idea.                                   │\n",
       "│               │        │                                                                                        │\n",
       "│ user_benefits │ 10     │ Sustainable Packaging Solutions would benefit various user types. For consumers, it    │\n",
       "│               │        │ offers the peace of mind that they are purchasing products that are environmentally    │\n",
       "│               │        │ friendly. For businesses, it aligns with corporate social responsibility goals and can │\n",
       "│               │        │ improve brand image while potentially reducing packaging costs in the long term.       │\n",
       "│               │        │ Governments and communities benefit from reduced environmental impact and potential    │\n",
       "│               │        │ waste management cost savings. This idea does satisfy the requirement as it presents   │\n",
       "│               │        │ clear benefits to different user types.                                                │\n",
       "│               │        │                                                                                        │\n",
       "│ new_users     │ 10     │ The idea of Sustainable Packaging Solutions is likely to attract a large number of new │\n",
       "│               │        │ users because of the growing global concern for the environment and the increasing     │\n",
       "│               │        │ demand for eco-friendly products. Consumers and businesses are actively seeking ways   │\n",
       "│               │        │ to reduce their carbon footprint and environmental impact, which makes sustainable     │\n",
       "│               │        │ packaging an attractive option. Moreover, regulations and policies are increasingly    │\n",
       "│               │        │ favoring sustainable practices, which further drives demand for such solutions.        │\n",
       "│               │        │ Therefore, this startup idea does satisfy the requirement of having the potential to   │\n",
       "│               │        │ attract a large user base.                                                             │\n",
       "│               │        │                                                                                        │\n",
       "└───────────────┴────────┴────────────────────────────────────────────────────────────────────────────────────────┘\n",
       "</pre>\n"
      ],
      "text/plain": [
       "┏━━━━━━━━━━━━━━━┳━━━━━━━━┳━━━━━━━━━━━━━━━━━━━━━━━━━━━━━━━━━━━━━━━━━━━━━━━━━━━━━━━━━━━━━━━━━━━━━━━━━━━━━━━━━━━━━━━━┓\n",
       "┃\u001b[1;35m \u001b[0m\u001b[1;35mRequirement  \u001b[0m\u001b[1;35m \u001b[0m┃\u001b[1;35m \u001b[0m\u001b[1;35mPoints\u001b[0m\u001b[1;35m \u001b[0m┃\u001b[1;35m \u001b[0m\u001b[1;35mIssue                                                                                 \u001b[0m\u001b[1;35m \u001b[0m┃\n",
       "┡━━━━━━━━━━━━━━━╇━━━━━━━━╇━━━━━━━━━━━━━━━━━━━━━━━━━━━━━━━━━━━━━━━━━━━━━━━━━━━━━━━━━━━━━━━━━━━━━━━━━━━━━━━━━━━━━━━━┩\n",
       "│ clear_idea    │ 10     │ The idea 'Sustainable Packaging Solutions' is a concept rather than a fully developed  │\n",
       "│               │        │ business plan. It lacks details on execution, market analysis, competitive             │\n",
       "│               │        │ differentiation, financial projections, and other critical elements required to        │\n",
       "│               │        │ satisfy the requirement for a startup business idea.                                   │\n",
       "│               │        │                                                                                        │\n",
       "│ user_benefits │ 10     │ Sustainable Packaging Solutions would benefit various user types. For consumers, it    │\n",
       "│               │        │ offers the peace of mind that they are purchasing products that are environmentally    │\n",
       "│               │        │ friendly. For businesses, it aligns with corporate social responsibility goals and can │\n",
       "│               │        │ improve brand image while potentially reducing packaging costs in the long term.       │\n",
       "│               │        │ Governments and communities benefit from reduced environmental impact and potential    │\n",
       "│               │        │ waste management cost savings. This idea does satisfy the requirement as it presents   │\n",
       "│               │        │ clear benefits to different user types.                                                │\n",
       "│               │        │                                                                                        │\n",
       "│ new_users     │ 10     │ The idea of Sustainable Packaging Solutions is likely to attract a large number of new │\n",
       "│               │        │ users because of the growing global concern for the environment and the increasing     │\n",
       "│               │        │ demand for eco-friendly products. Consumers and businesses are actively seeking ways   │\n",
       "│               │        │ to reduce their carbon footprint and environmental impact, which makes sustainable     │\n",
       "│               │        │ packaging an attractive option. Moreover, regulations and policies are increasingly    │\n",
       "│               │        │ favoring sustainable practices, which further drives demand for such solutions.        │\n",
       "│               │        │ Therefore, this startup idea does satisfy the requirement of having the potential to   │\n",
       "│               │        │ attract a large user base.                                                             │\n",
       "│               │        │                                                                                        │\n",
       "└───────────────┴────────┴────────────────────────────────────────────────────────────────────────────────────────┘\n"
      ]
     },
     "metadata": {},
     "output_type": "display_data"
    },
    {
     "name": "stdout",
     "output_type": "stream",
     "text": [
      "Idea:  Sustainable Packaging Solutions\n",
      "Persona:  You are a venture capital investor.\n",
      "Total points earned:  20\n"
     ]
    },
    {
     "data": {
      "text/html": [
       "<pre style=\"white-space:pre;overflow-x:auto;line-height:normal;font-family:Menlo,'DejaVu Sans Mono',consolas,'Courier New',monospace\">┏━━━━━━━━━━━━━━━┳━━━━━━━━┳━━━━━━━━━━━━━━━━━━━━━━━━━━━━━━━━━━━━━━━━━━━━━━━━━━━━━━━━━━━━━━━━━━━━━━━━━━━━━━━━━━━━━━━━┓\n",
       "┃<span style=\"color: #800080; text-decoration-color: #800080; font-weight: bold\"> Requirement   </span>┃<span style=\"color: #800080; text-decoration-color: #800080; font-weight: bold\"> Points </span>┃<span style=\"color: #800080; text-decoration-color: #800080; font-weight: bold\"> Issue                                                                                  </span>┃\n",
       "┡━━━━━━━━━━━━━━━╇━━━━━━━━╇━━━━━━━━━━━━━━━━━━━━━━━━━━━━━━━━━━━━━━━━━━━━━━━━━━━━━━━━━━━━━━━━━━━━━━━━━━━━━━━━━━━━━━━━┩\n",
       "│ clear_idea    │ 10     │ The idea 'Sustainable Packaging Solutions' is a concept rather than a fully developed  │\n",
       "│               │        │ business plan. It requires more detail to satisfy the requirement for a startup        │\n",
       "│               │        │ business proposal, such as market analysis, business model, revenue streams,           │\n",
       "│               │        │ competitive advantage, and execution strategy.                                         │\n",
       "│               │        │                                                                                        │\n",
       "│ user_benefits │ 10     │ Sustainable Packaging Solutions as a startup business idea indeed has obvious user     │\n",
       "│               │        │ benefits. For consumers, it offers the peace of mind that comes with purchasing        │\n",
       "│               │        │ products that have a reduced environmental impact. For businesses, it provides a way   │\n",
       "│               │        │ to meet increasing consumer demand for eco-friendly products, potentially reducing     │\n",
       "│               │        │ packaging costs in the long term, and staying ahead of regulatory trends favoring      │\n",
       "│               │        │ sustainability. Moreover, it can enhance brand image and reputation among              │\n",
       "│               │        │ environmentally conscious customers. This idea satisfies the requirement of having     │\n",
       "│               │        │ obvious user benefits.                                                                 │\n",
       "│               │        │                                                                                        │\n",
       "│ new_users     │ 10     │ Sustainable Packaging Solutions are increasingly in demand due to a growing global     │\n",
       "│               │        │ emphasis on environmental responsibility and the reduction of waste. Consumers and     │\n",
       "│               │        │ businesses alike are seeking ways to minimize their ecological footprint, leading to a │\n",
       "│               │        │ higher likelihood of attracting a large number of new users who are environmentally    │\n",
       "│               │        │ conscious or required to comply with sustainability regulations.                       │\n",
       "│               │        │                                                                                        │\n",
       "└───────────────┴────────┴────────────────────────────────────────────────────────────────────────────────────────┘\n",
       "</pre>\n"
      ],
      "text/plain": [
       "┏━━━━━━━━━━━━━━━┳━━━━━━━━┳━━━━━━━━━━━━━━━━━━━━━━━━━━━━━━━━━━━━━━━━━━━━━━━━━━━━━━━━━━━━━━━━━━━━━━━━━━━━━━━━━━━━━━━━┓\n",
       "┃\u001b[1;35m \u001b[0m\u001b[1;35mRequirement  \u001b[0m\u001b[1;35m \u001b[0m┃\u001b[1;35m \u001b[0m\u001b[1;35mPoints\u001b[0m\u001b[1;35m \u001b[0m┃\u001b[1;35m \u001b[0m\u001b[1;35mIssue                                                                                 \u001b[0m\u001b[1;35m \u001b[0m┃\n",
       "┡━━━━━━━━━━━━━━━╇━━━━━━━━╇━━━━━━━━━━━━━━━━━━━━━━━━━━━━━━━━━━━━━━━━━━━━━━━━━━━━━━━━━━━━━━━━━━━━━━━━━━━━━━━━━━━━━━━━┩\n",
       "│ clear_idea    │ 10     │ The idea 'Sustainable Packaging Solutions' is a concept rather than a fully developed  │\n",
       "│               │        │ business plan. It requires more detail to satisfy the requirement for a startup        │\n",
       "│               │        │ business proposal, such as market analysis, business model, revenue streams,           │\n",
       "│               │        │ competitive advantage, and execution strategy.                                         │\n",
       "│               │        │                                                                                        │\n",
       "│ user_benefits │ 10     │ Sustainable Packaging Solutions as a startup business idea indeed has obvious user     │\n",
       "│               │        │ benefits. For consumers, it offers the peace of mind that comes with purchasing        │\n",
       "│               │        │ products that have a reduced environmental impact. For businesses, it provides a way   │\n",
       "│               │        │ to meet increasing consumer demand for eco-friendly products, potentially reducing     │\n",
       "│               │        │ packaging costs in the long term, and staying ahead of regulatory trends favoring      │\n",
       "│               │        │ sustainability. Moreover, it can enhance brand image and reputation among              │\n",
       "│               │        │ environmentally conscious customers. This idea satisfies the requirement of having     │\n",
       "│               │        │ obvious user benefits.                                                                 │\n",
       "│               │        │                                                                                        │\n",
       "│ new_users     │ 10     │ Sustainable Packaging Solutions are increasingly in demand due to a growing global     │\n",
       "│               │        │ emphasis on environmental responsibility and the reduction of waste. Consumers and     │\n",
       "│               │        │ businesses alike are seeking ways to minimize their ecological footprint, leading to a │\n",
       "│               │        │ higher likelihood of attracting a large number of new users who are environmentally    │\n",
       "│               │        │ conscious or required to comply with sustainability regulations.                       │\n",
       "│               │        │                                                                                        │\n",
       "└───────────────┴────────┴────────────────────────────────────────────────────────────────────────────────────────┘\n"
      ]
     },
     "metadata": {},
     "output_type": "display_data"
    },
    {
     "name": "stdout",
     "output_type": "stream",
     "text": [
      "Idea:  Sustainable Packaging Solutions\n",
      "Persona:  You are an employee at a startup.\n",
      "Total points earned:  30\n"
     ]
    },
    {
     "data": {
      "text/html": [
       "<pre style=\"white-space:pre;overflow-x:auto;line-height:normal;font-family:Menlo,'DejaVu Sans Mono',consolas,'Courier New',monospace\">┏━━━━━━━━━━━━━━━┳━━━━━━━━┳━━━━━━━━━━━━━━━━━━━━━━━━━━━━━━━━━━━━━━━━━━━━━━━━━━━━━━━━━━━━━━━━━━━━━━━━━━━━━━━━━━━━━━━━┓\n",
       "┃<span style=\"color: #800080; text-decoration-color: #800080; font-weight: bold\"> Requirement   </span>┃<span style=\"color: #800080; text-decoration-color: #800080; font-weight: bold\"> Points </span>┃<span style=\"color: #800080; text-decoration-color: #800080; font-weight: bold\"> Issue                                                                                  </span>┃\n",
       "┡━━━━━━━━━━━━━━━╇━━━━━━━━╇━━━━━━━━━━━━━━━━━━━━━━━━━━━━━━━━━━━━━━━━━━━━━━━━━━━━━━━━━━━━━━━━━━━━━━━━━━━━━━━━━━━━━━━━┩\n",
       "│ clear_idea    │ 10     │ The idea for a startup business focused on Sustainable Packaging Solutions is clear    │\n",
       "│               │        │ and addresses a specific market need for environmentally friendly packaging options.   │\n",
       "│               │        │                                                                                        │\n",
       "│ user_benefits │ 10     │ Sustainable Packaging Solutions as a startup business idea does indeed have obvious    │\n",
       "│               │        │ user benefits. For consumers, it provides an eco-friendly option that aligns with      │\n",
       "│               │        │ increasing environmental awareness and personal values towards sustainability. For     │\n",
       "│               │        │ businesses, it meets the growing demand for green products, potentially reducing their │\n",
       "│               │        │ carbon footprint and improving their brand image. It also helps comply with            │\n",
       "│               │        │ environmental regulations and can lead to cost savings in the long term through        │\n",
       "│               │        │ materials efficiency and waste reduction. Therefore, this idea satisfies the           │\n",
       "│               │        │ requirement as it offers clear benefits to different user types.                       │\n",
       "│               │        │                                                                                        │\n",
       "│ new_users     │ 10     │ The idea of Sustainable Packaging Solutions is likely to attract a large number of new │\n",
       "│               │        │ users because there is a growing global concern for the environment and an increasing  │\n",
       "│               │        │ demand for eco-friendly products. Consumers and businesses are actively looking for    │\n",
       "│               │        │ ways to reduce their carbon footprint and environmental impact, which includes         │\n",
       "│               │        │ shifting to sustainable packaging options. Additionally, regulations and policies are  │\n",
       "│               │        │ increasingly favoring sustainable practices, which further encourages the adoption of  │\n",
       "│               │        │ such solutions. Thus, this idea satisfies the requirement of attracting a large user   │\n",
       "│               │        │ base.                                                                                  │\n",
       "│               │        │                                                                                        │\n",
       "└───────────────┴────────┴────────────────────────────────────────────────────────────────────────────────────────┘\n",
       "</pre>\n"
      ],
      "text/plain": [
       "┏━━━━━━━━━━━━━━━┳━━━━━━━━┳━━━━━━━━━━━━━━━━━━━━━━━━━━━━━━━━━━━━━━━━━━━━━━━━━━━━━━━━━━━━━━━━━━━━━━━━━━━━━━━━━━━━━━━━┓\n",
       "┃\u001b[1;35m \u001b[0m\u001b[1;35mRequirement  \u001b[0m\u001b[1;35m \u001b[0m┃\u001b[1;35m \u001b[0m\u001b[1;35mPoints\u001b[0m\u001b[1;35m \u001b[0m┃\u001b[1;35m \u001b[0m\u001b[1;35mIssue                                                                                 \u001b[0m\u001b[1;35m \u001b[0m┃\n",
       "┡━━━━━━━━━━━━━━━╇━━━━━━━━╇━━━━━━━━━━━━━━━━━━━━━━━━━━━━━━━━━━━━━━━━━━━━━━━━━━━━━━━━━━━━━━━━━━━━━━━━━━━━━━━━━━━━━━━━┩\n",
       "│ clear_idea    │ 10     │ The idea for a startup business focused on Sustainable Packaging Solutions is clear    │\n",
       "│               │        │ and addresses a specific market need for environmentally friendly packaging options.   │\n",
       "│               │        │                                                                                        │\n",
       "│ user_benefits │ 10     │ Sustainable Packaging Solutions as a startup business idea does indeed have obvious    │\n",
       "│               │        │ user benefits. For consumers, it provides an eco-friendly option that aligns with      │\n",
       "│               │        │ increasing environmental awareness and personal values towards sustainability. For     │\n",
       "│               │        │ businesses, it meets the growing demand for green products, potentially reducing their │\n",
       "│               │        │ carbon footprint and improving their brand image. It also helps comply with            │\n",
       "│               │        │ environmental regulations and can lead to cost savings in the long term through        │\n",
       "│               │        │ materials efficiency and waste reduction. Therefore, this idea satisfies the           │\n",
       "│               │        │ requirement as it offers clear benefits to different user types.                       │\n",
       "│               │        │                                                                                        │\n",
       "│ new_users     │ 10     │ The idea of Sustainable Packaging Solutions is likely to attract a large number of new │\n",
       "│               │        │ users because there is a growing global concern for the environment and an increasing  │\n",
       "│               │        │ demand for eco-friendly products. Consumers and businesses are actively looking for    │\n",
       "│               │        │ ways to reduce their carbon footprint and environmental impact, which includes         │\n",
       "│               │        │ shifting to sustainable packaging options. Additionally, regulations and policies are  │\n",
       "│               │        │ increasingly favoring sustainable practices, which further encourages the adoption of  │\n",
       "│               │        │ such solutions. Thus, this idea satisfies the requirement of attracting a large user   │\n",
       "│               │        │ base.                                                                                  │\n",
       "│               │        │                                                                                        │\n",
       "└───────────────┴────────┴────────────────────────────────────────────────────────────────────────────────────────┘\n"
      ]
     },
     "metadata": {},
     "output_type": "display_data"
    },
    {
     "name": "stdout",
     "output_type": "stream",
     "text": [
      "Idea:  AI-powered Personal Health Assistant\n",
      "Persona:  You are a business analyst.\n",
      "Total points earned:  30\n"
     ]
    },
    {
     "data": {
      "text/html": [
       "<pre style=\"white-space:pre;overflow-x:auto;line-height:normal;font-family:Menlo,'DejaVu Sans Mono',consolas,'Courier New',monospace\">┏━━━━━━━━━━━━━━━┳━━━━━━━━┳━━━━━━━━━━━━━━━━━━━━━━━━━━━━━━━━━━━━━━━━━━━━━━━━━━━━━━━━━━━━━━━━━━━━━━━━━━━━━━━━━━━━━━━━┓\n",
       "┃<span style=\"color: #800080; text-decoration-color: #800080; font-weight: bold\"> Requirement   </span>┃<span style=\"color: #800080; text-decoration-color: #800080; font-weight: bold\"> Points </span>┃<span style=\"color: #800080; text-decoration-color: #800080; font-weight: bold\"> Issue                                                                                  </span>┃\n",
       "┡━━━━━━━━━━━━━━━╇━━━━━━━━╇━━━━━━━━━━━━━━━━━━━━━━━━━━━━━━━━━━━━━━━━━━━━━━━━━━━━━━━━━━━━━━━━━━━━━━━━━━━━━━━━━━━━━━━━┩\n",
       "│ clear_idea    │ 10     │ The idea of an AI-powered Personal Health Assistant is clear and presents a specific   │\n",
       "│               │        │ concept, which is the use of artificial intelligence to aid in personal health         │\n",
       "│               │        │ management.                                                                            │\n",
       "│               │        │                                                                                        │\n",
       "│ user_benefits │ 10     │ An AI-powered Personal Health Assistant would provide numerous benefits for different  │\n",
       "│               │        │ user types. For individuals, it could offer personalized health recommendations, track │\n",
       "│               │        │ fitness and dietary habits, and remind users to take medication, thereby promoting a   │\n",
       "│               │        │ healthier lifestyle and potentially reducing medical costs. For healthcare providers,  │\n",
       "│               │        │ it could streamline patient data analysis, improve patient engagement, and assist in   │\n",
       "│               │        │ early detection of health issues, leading to better patient outcomes. For employers,   │\n",
       "│               │        │ it could enhance employee wellness programs, reduce absenteeism, and lower             │\n",
       "│               │        │ healthcare-related costs. This idea satisfies the requirement as it presents clear     │\n",
       "│               │        │ user benefits for a diverse set of users.                                              │\n",
       "│               │        │                                                                                        │\n",
       "│ new_users     │ 10     │ An AI-powered Personal Health Assistant addresses a growing demand for personalized,   │\n",
       "│               │        │ accessible, and efficient healthcare solutions. With the increasing focus on health    │\n",
       "│               │        │ and wellness, alongside the advancements in AI technology, such a platform could offer │\n",
       "│               │        │ real-time health monitoring, personalized advice, and easy access to medical           │\n",
       "│               │        │ information, which are highly valued by users. This convenience and personalization    │\n",
       "│               │        │ are likely to attract a large number of new users, satisfying the requirement.         │\n",
       "│               │        │                                                                                        │\n",
       "└───────────────┴────────┴────────────────────────────────────────────────────────────────────────────────────────┘\n",
       "</pre>\n"
      ],
      "text/plain": [
       "┏━━━━━━━━━━━━━━━┳━━━━━━━━┳━━━━━━━━━━━━━━━━━━━━━━━━━━━━━━━━━━━━━━━━━━━━━━━━━━━━━━━━━━━━━━━━━━━━━━━━━━━━━━━━━━━━━━━━┓\n",
       "┃\u001b[1;35m \u001b[0m\u001b[1;35mRequirement  \u001b[0m\u001b[1;35m \u001b[0m┃\u001b[1;35m \u001b[0m\u001b[1;35mPoints\u001b[0m\u001b[1;35m \u001b[0m┃\u001b[1;35m \u001b[0m\u001b[1;35mIssue                                                                                 \u001b[0m\u001b[1;35m \u001b[0m┃\n",
       "┡━━━━━━━━━━━━━━━╇━━━━━━━━╇━━━━━━━━━━━━━━━━━━━━━━━━━━━━━━━━━━━━━━━━━━━━━━━━━━━━━━━━━━━━━━━━━━━━━━━━━━━━━━━━━━━━━━━━┩\n",
       "│ clear_idea    │ 10     │ The idea of an AI-powered Personal Health Assistant is clear and presents a specific   │\n",
       "│               │        │ concept, which is the use of artificial intelligence to aid in personal health         │\n",
       "│               │        │ management.                                                                            │\n",
       "│               │        │                                                                                        │\n",
       "│ user_benefits │ 10     │ An AI-powered Personal Health Assistant would provide numerous benefits for different  │\n",
       "│               │        │ user types. For individuals, it could offer personalized health recommendations, track │\n",
       "│               │        │ fitness and dietary habits, and remind users to take medication, thereby promoting a   │\n",
       "│               │        │ healthier lifestyle and potentially reducing medical costs. For healthcare providers,  │\n",
       "│               │        │ it could streamline patient data analysis, improve patient engagement, and assist in   │\n",
       "│               │        │ early detection of health issues, leading to better patient outcomes. For employers,   │\n",
       "│               │        │ it could enhance employee wellness programs, reduce absenteeism, and lower             │\n",
       "│               │        │ healthcare-related costs. This idea satisfies the requirement as it presents clear     │\n",
       "│               │        │ user benefits for a diverse set of users.                                              │\n",
       "│               │        │                                                                                        │\n",
       "│ new_users     │ 10     │ An AI-powered Personal Health Assistant addresses a growing demand for personalized,   │\n",
       "│               │        │ accessible, and efficient healthcare solutions. With the increasing focus on health    │\n",
       "│               │        │ and wellness, alongside the advancements in AI technology, such a platform could offer │\n",
       "│               │        │ real-time health monitoring, personalized advice, and easy access to medical           │\n",
       "│               │        │ information, which are highly valued by users. This convenience and personalization    │\n",
       "│               │        │ are likely to attract a large number of new users, satisfying the requirement.         │\n",
       "│               │        │                                                                                        │\n",
       "└───────────────┴────────┴────────────────────────────────────────────────────────────────────────────────────────┘\n"
      ]
     },
     "metadata": {},
     "output_type": "display_data"
    },
    {
     "name": "stdout",
     "output_type": "stream",
     "text": [
      "Idea:  AI-powered Personal Health Assistant\n",
      "Persona:  You are a venture capital investor.\n",
      "Total points earned:  20\n"
     ]
    },
    {
     "data": {
      "text/html": [
       "<pre style=\"white-space:pre;overflow-x:auto;line-height:normal;font-family:Menlo,'DejaVu Sans Mono',consolas,'Courier New',monospace\">┏━━━━━━━━━━━━━━━┳━━━━━━━━┳━━━━━━━━━━━━━━━━━━━━━━━━━━━━━━━━━━━━━━━━━━━━━━━━━━━━━━━━━━━━━━━━━━━━━━━━━━━━━━━━━━━━━━━━┓\n",
       "┃<span style=\"color: #800080; text-decoration-color: #800080; font-weight: bold\"> Requirement   </span>┃<span style=\"color: #800080; text-decoration-color: #800080; font-weight: bold\"> Points </span>┃<span style=\"color: #800080; text-decoration-color: #800080; font-weight: bold\"> Issue                                                                                  </span>┃\n",
       "┡━━━━━━━━━━━━━━━╇━━━━━━━━╇━━━━━━━━━━━━━━━━━━━━━━━━━━━━━━━━━━━━━━━━━━━━━━━━━━━━━━━━━━━━━━━━━━━━━━━━━━━━━━━━━━━━━━━━┩\n",
       "│ clear_idea    │ 10     │ The idea of an AI-powered Personal Health Assistant is a concept with potential, but   │\n",
       "│               │        │ the description provided is too vague to satisfy the requirement for a clear and       │\n",
       "│               │        │ well-written idea. It lacks details on functionality, target market, business model,   │\n",
       "│               │        │ competitive advantage, and how it differentiates from existing solutions.              │\n",
       "│               │        │                                                                                        │\n",
       "│ user_benefits │ 10     │ An AI-powered Personal Health Assistant would offer numerous benefits to different     │\n",
       "│               │        │ user types. For the general user, it could provide personalized health monitoring,     │\n",
       "│               │        │ reminders for medication, appointments, and exercise, dietary recommendations, and     │\n",
       "│               │        │ even mental health support. For healthcare professionals, it could aid in patient      │\n",
       "│               │        │ management, data analysis, and predictive healthcare insights. For the elderly or      │\n",
       "│               │        │ those with chronic conditions, it could offer continuous support and monitoring, thus  │\n",
       "│               │        │ enhancing their quality of life. The idea satisfies the requirement of having obvious  │\n",
       "│               │        │ user benefits.                                                                         │\n",
       "│               │        │                                                                                        │\n",
       "│ new_users     │ 10     │ An AI-powered Personal Health Assistant is likely to attract a large number of new     │\n",
       "│               │        │ users due to the increasing demand for personalized healthcare and the growing         │\n",
       "│               │        │ interest in health technology. The convenience of having a virtual assistant for       │\n",
       "│               │        │ health-related advice and monitoring can appeal to a wide audience, including          │\n",
       "│               │        │ tech-savvy individuals, people with chronic conditions, and those looking to improve   │\n",
       "│               │        │ their overall health and wellness.                                                     │\n",
       "│               │        │                                                                                        │\n",
       "└───────────────┴────────┴────────────────────────────────────────────────────────────────────────────────────────┘\n",
       "</pre>\n"
      ],
      "text/plain": [
       "┏━━━━━━━━━━━━━━━┳━━━━━━━━┳━━━━━━━━━━━━━━━━━━━━━━━━━━━━━━━━━━━━━━━━━━━━━━━━━━━━━━━━━━━━━━━━━━━━━━━━━━━━━━━━━━━━━━━━┓\n",
       "┃\u001b[1;35m \u001b[0m\u001b[1;35mRequirement  \u001b[0m\u001b[1;35m \u001b[0m┃\u001b[1;35m \u001b[0m\u001b[1;35mPoints\u001b[0m\u001b[1;35m \u001b[0m┃\u001b[1;35m \u001b[0m\u001b[1;35mIssue                                                                                 \u001b[0m\u001b[1;35m \u001b[0m┃\n",
       "┡━━━━━━━━━━━━━━━╇━━━━━━━━╇━━━━━━━━━━━━━━━━━━━━━━━━━━━━━━━━━━━━━━━━━━━━━━━━━━━━━━━━━━━━━━━━━━━━━━━━━━━━━━━━━━━━━━━━┩\n",
       "│ clear_idea    │ 10     │ The idea of an AI-powered Personal Health Assistant is a concept with potential, but   │\n",
       "│               │        │ the description provided is too vague to satisfy the requirement for a clear and       │\n",
       "│               │        │ well-written idea. It lacks details on functionality, target market, business model,   │\n",
       "│               │        │ competitive advantage, and how it differentiates from existing solutions.              │\n",
       "│               │        │                                                                                        │\n",
       "│ user_benefits │ 10     │ An AI-powered Personal Health Assistant would offer numerous benefits to different     │\n",
       "│               │        │ user types. For the general user, it could provide personalized health monitoring,     │\n",
       "│               │        │ reminders for medication, appointments, and exercise, dietary recommendations, and     │\n",
       "│               │        │ even mental health support. For healthcare professionals, it could aid in patient      │\n",
       "│               │        │ management, data analysis, and predictive healthcare insights. For the elderly or      │\n",
       "│               │        │ those with chronic conditions, it could offer continuous support and monitoring, thus  │\n",
       "│               │        │ enhancing their quality of life. The idea satisfies the requirement of having obvious  │\n",
       "│               │        │ user benefits.                                                                         │\n",
       "│               │        │                                                                                        │\n",
       "│ new_users     │ 10     │ An AI-powered Personal Health Assistant is likely to attract a large number of new     │\n",
       "│               │        │ users due to the increasing demand for personalized healthcare and the growing         │\n",
       "│               │        │ interest in health technology. The convenience of having a virtual assistant for       │\n",
       "│               │        │ health-related advice and monitoring can appeal to a wide audience, including          │\n",
       "│               │        │ tech-savvy individuals, people with chronic conditions, and those looking to improve   │\n",
       "│               │        │ their overall health and wellness.                                                     │\n",
       "│               │        │                                                                                        │\n",
       "└───────────────┴────────┴────────────────────────────────────────────────────────────────────────────────────────┘\n"
      ]
     },
     "metadata": {},
     "output_type": "display_data"
    },
    {
     "name": "stdout",
     "output_type": "stream",
     "text": [
      "Idea:  AI-powered Personal Health Assistant\n",
      "Persona:  You are an employee at a startup.\n",
      "Total points earned:  30\n"
     ]
    },
    {
     "data": {
      "text/html": [
       "<pre style=\"white-space:pre;overflow-x:auto;line-height:normal;font-family:Menlo,'DejaVu Sans Mono',consolas,'Courier New',monospace\">┏━━━━━━━━━━━━━━━┳━━━━━━━━┳━━━━━━━━━━━━━━━━━━━━━━━━━━━━━━━━━━━━━━━━━━━━━━━━━━━━━━━━━━━━━━━━━━━━━━━━━━━━━━━━━━━━━━━━┓\n",
       "┃<span style=\"color: #800080; text-decoration-color: #800080; font-weight: bold\"> Requirement   </span>┃<span style=\"color: #800080; text-decoration-color: #800080; font-weight: bold\"> Points </span>┃<span style=\"color: #800080; text-decoration-color: #800080; font-weight: bold\"> Issue                                                                                  </span>┃\n",
       "┡━━━━━━━━━━━━━━━╇━━━━━━━━╇━━━━━━━━━━━━━━━━━━━━━━━━━━━━━━━━━━━━━━━━━━━━━━━━━━━━━━━━━━━━━━━━━━━━━━━━━━━━━━━━━━━━━━━━┩\n",
       "│ clear_idea    │ 10     │ The idea of an AI-powered Personal Health Assistant is clear and presents a            │\n",
       "│               │        │ well-defined concept for a startup business.                                           │\n",
       "│               │        │                                                                                        │\n",
       "│ user_benefits │ 10     │ The idea of an AI-powered Personal Health Assistant offers various benefits for        │\n",
       "│               │        │ different user types. For the general user, it can provide personalized health         │\n",
       "│               │        │ recommendations, track fitness goals, and offer dietary advice. For patients with      │\n",
       "│               │        │ chronic conditions, it can assist with medication management, symptom tracking, and    │\n",
       "│               │        │ provide reminders for appointments. Healthcare providers can benefit from the AI's     │\n",
       "│               │        │ data analysis to better understand patient needs and tailor care accordingly. The      │\n",
       "│               │        │ elderly population can use it for daily health monitoring and getting assistance in    │\n",
       "│               │        │ case of emergencies. The idea certainly satisfies the requirement as it presents clear │\n",
       "│               │        │ advantages for a wide range of users.                                                  │\n",
       "│               │        │                                                                                        │\n",
       "│ new_users     │ 10     │ An AI-powered Personal Health Assistant addresses a growing demand for personalized,   │\n",
       "│               │        │ accessible, and intelligent healthcare solutions. With the increasing interest in      │\n",
       "│               │        │ health and wellness, alongside the advancements in AI technology, such a service would │\n",
       "│               │        │ offer convenience, tailored health advice, and continuous support, which are           │\n",
       "│               │        │ attractive features to a broad user base. This aligns with the requirement as it has a │\n",
       "│               │        │ strong potential to attract a large number of new users.                               │\n",
       "│               │        │                                                                                        │\n",
       "└───────────────┴────────┴────────────────────────────────────────────────────────────────────────────────────────┘\n",
       "</pre>\n"
      ],
      "text/plain": [
       "┏━━━━━━━━━━━━━━━┳━━━━━━━━┳━━━━━━━━━━━━━━━━━━━━━━━━━━━━━━━━━━━━━━━━━━━━━━━━━━━━━━━━━━━━━━━━━━━━━━━━━━━━━━━━━━━━━━━━┓\n",
       "┃\u001b[1;35m \u001b[0m\u001b[1;35mRequirement  \u001b[0m\u001b[1;35m \u001b[0m┃\u001b[1;35m \u001b[0m\u001b[1;35mPoints\u001b[0m\u001b[1;35m \u001b[0m┃\u001b[1;35m \u001b[0m\u001b[1;35mIssue                                                                                 \u001b[0m\u001b[1;35m \u001b[0m┃\n",
       "┡━━━━━━━━━━━━━━━╇━━━━━━━━╇━━━━━━━━━━━━━━━━━━━━━━━━━━━━━━━━━━━━━━━━━━━━━━━━━━━━━━━━━━━━━━━━━━━━━━━━━━━━━━━━━━━━━━━━┩\n",
       "│ clear_idea    │ 10     │ The idea of an AI-powered Personal Health Assistant is clear and presents a            │\n",
       "│               │        │ well-defined concept for a startup business.                                           │\n",
       "│               │        │                                                                                        │\n",
       "│ user_benefits │ 10     │ The idea of an AI-powered Personal Health Assistant offers various benefits for        │\n",
       "│               │        │ different user types. For the general user, it can provide personalized health         │\n",
       "│               │        │ recommendations, track fitness goals, and offer dietary advice. For patients with      │\n",
       "│               │        │ chronic conditions, it can assist with medication management, symptom tracking, and    │\n",
       "│               │        │ provide reminders for appointments. Healthcare providers can benefit from the AI's     │\n",
       "│               │        │ data analysis to better understand patient needs and tailor care accordingly. The      │\n",
       "│               │        │ elderly population can use it for daily health monitoring and getting assistance in    │\n",
       "│               │        │ case of emergencies. The idea certainly satisfies the requirement as it presents clear │\n",
       "│               │        │ advantages for a wide range of users.                                                  │\n",
       "│               │        │                                                                                        │\n",
       "│ new_users     │ 10     │ An AI-powered Personal Health Assistant addresses a growing demand for personalized,   │\n",
       "│               │        │ accessible, and intelligent healthcare solutions. With the increasing interest in      │\n",
       "│               │        │ health and wellness, alongside the advancements in AI technology, such a service would │\n",
       "│               │        │ offer convenience, tailored health advice, and continuous support, which are           │\n",
       "│               │        │ attractive features to a broad user base. This aligns with the requirement as it has a │\n",
       "│               │        │ strong potential to attract a large number of new users.                               │\n",
       "│               │        │                                                                                        │\n",
       "└───────────────┴────────┴────────────────────────────────────────────────────────────────────────────────────────┘\n"
      ]
     },
     "metadata": {},
     "output_type": "display_data"
    },
    {
     "name": "stdout",
     "output_type": "stream",
     "text": [
      "Idea:  Mobile Electric Vehicle Charging Service\n",
      "Persona:  You are a business analyst.\n",
      "Total points earned:  30\n"
     ]
    },
    {
     "data": {
      "text/html": [
       "<pre style=\"white-space:pre;overflow-x:auto;line-height:normal;font-family:Menlo,'DejaVu Sans Mono',consolas,'Courier New',monospace\">┏━━━━━━━━━━━━━━━┳━━━━━━━━┳━━━━━━━━━━━━━━━━━━━━━━━━━━━━━━━━━━━━━━━━━━━━━━━━━━━━━━━━━━━━━━━━━━━━━━━━━━━━━━━━━━━━━━━━┓\n",
       "┃<span style=\"color: #800080; text-decoration-color: #800080; font-weight: bold\"> Requirement   </span>┃<span style=\"color: #800080; text-decoration-color: #800080; font-weight: bold\"> Points </span>┃<span style=\"color: #800080; text-decoration-color: #800080; font-weight: bold\"> Issue                                                                                  </span>┃\n",
       "┡━━━━━━━━━━━━━━━╇━━━━━━━━╇━━━━━━━━━━━━━━━━━━━━━━━━━━━━━━━━━━━━━━━━━━━━━━━━━━━━━━━━━━━━━━━━━━━━━━━━━━━━━━━━━━━━━━━━┩\n",
       "│ clear_idea    │ 10     │ The idea for a Mobile Electric Vehicle Charging Service is clear and addresses a       │\n",
       "│               │        │ growing need as the market for electric vehicles expands. It could offer a convenient  │\n",
       "│               │        │ solution for EV drivers, especially in areas where charging stations are scarce.       │\n",
       "│               │        │                                                                                        │\n",
       "│ user_benefits │ 10     │ The Mobile Electric Vehicle Charging Service idea does satisfy the requirement of      │\n",
       "│               │        │ having obvious user benefits. For EV owners, it offers convenience by providing        │\n",
       "│               │        │ on-demand charging at their location, reducing the need for planning around fixed      │\n",
       "│               │        │ charging stations. For businesses, it could provide an additional service to offer     │\n",
       "│               │        │ their customers or employees. For the service provider, it represents a business       │\n",
       "│               │        │ opportunity in a growing market of electric vehicles.                                  │\n",
       "│               │        │                                                                                        │\n",
       "│ new_users     │ 10     │ The idea of a Mobile Electric Vehicle Charging Service is likely to attract a large    │\n",
       "│               │        │ number of new users due to the increasing adoption of electric vehicles (EVs) and the  │\n",
       "│               │        │ need for convenient charging solutions. As the number of EVs on the road grows,        │\n",
       "│               │        │ drivers will seek out flexible and accessible charging options, particularly in areas  │\n",
       "│               │        │ where stationary charging infrastructure is insufficient or when they are on long      │\n",
       "│               │        │ trips away from home. A mobile service can alleviate range anxiety and offer a         │\n",
       "│               │        │ valuable solution for EV drivers, thus satisfying the requirement.                     │\n",
       "│               │        │                                                                                        │\n",
       "└───────────────┴────────┴────────────────────────────────────────────────────────────────────────────────────────┘\n",
       "</pre>\n"
      ],
      "text/plain": [
       "┏━━━━━━━━━━━━━━━┳━━━━━━━━┳━━━━━━━━━━━━━━━━━━━━━━━━━━━━━━━━━━━━━━━━━━━━━━━━━━━━━━━━━━━━━━━━━━━━━━━━━━━━━━━━━━━━━━━━┓\n",
       "┃\u001b[1;35m \u001b[0m\u001b[1;35mRequirement  \u001b[0m\u001b[1;35m \u001b[0m┃\u001b[1;35m \u001b[0m\u001b[1;35mPoints\u001b[0m\u001b[1;35m \u001b[0m┃\u001b[1;35m \u001b[0m\u001b[1;35mIssue                                                                                 \u001b[0m\u001b[1;35m \u001b[0m┃\n",
       "┡━━━━━━━━━━━━━━━╇━━━━━━━━╇━━━━━━━━━━━━━━━━━━━━━━━━━━━━━━━━━━━━━━━━━━━━━━━━━━━━━━━━━━━━━━━━━━━━━━━━━━━━━━━━━━━━━━━━┩\n",
       "│ clear_idea    │ 10     │ The idea for a Mobile Electric Vehicle Charging Service is clear and addresses a       │\n",
       "│               │        │ growing need as the market for electric vehicles expands. It could offer a convenient  │\n",
       "│               │        │ solution for EV drivers, especially in areas where charging stations are scarce.       │\n",
       "│               │        │                                                                                        │\n",
       "│ user_benefits │ 10     │ The Mobile Electric Vehicle Charging Service idea does satisfy the requirement of      │\n",
       "│               │        │ having obvious user benefits. For EV owners, it offers convenience by providing        │\n",
       "│               │        │ on-demand charging at their location, reducing the need for planning around fixed      │\n",
       "│               │        │ charging stations. For businesses, it could provide an additional service to offer     │\n",
       "│               │        │ their customers or employees. For the service provider, it represents a business       │\n",
       "│               │        │ opportunity in a growing market of electric vehicles.                                  │\n",
       "│               │        │                                                                                        │\n",
       "│ new_users     │ 10     │ The idea of a Mobile Electric Vehicle Charging Service is likely to attract a large    │\n",
       "│               │        │ number of new users due to the increasing adoption of electric vehicles (EVs) and the  │\n",
       "│               │        │ need for convenient charging solutions. As the number of EVs on the road grows,        │\n",
       "│               │        │ drivers will seek out flexible and accessible charging options, particularly in areas  │\n",
       "│               │        │ where stationary charging infrastructure is insufficient or when they are on long      │\n",
       "│               │        │ trips away from home. A mobile service can alleviate range anxiety and offer a         │\n",
       "│               │        │ valuable solution for EV drivers, thus satisfying the requirement.                     │\n",
       "│               │        │                                                                                        │\n",
       "└───────────────┴────────┴────────────────────────────────────────────────────────────────────────────────────────┘\n"
      ]
     },
     "metadata": {},
     "output_type": "display_data"
    },
    {
     "name": "stdout",
     "output_type": "stream",
     "text": [
      "Idea:  Mobile Electric Vehicle Charging Service\n",
      "Persona:  You are a venture capital investor.\n",
      "Total points earned:  30\n"
     ]
    },
    {
     "data": {
      "text/html": [
       "<pre style=\"white-space:pre;overflow-x:auto;line-height:normal;font-family:Menlo,'DejaVu Sans Mono',consolas,'Courier New',monospace\">┏━━━━━━━━━━━━━━━┳━━━━━━━━┳━━━━━━━━━━━━━━━━━━━━━━━━━━━━━━━━━━━━━━━━━━━━━━━━━━━━━━━━━━━━━━━━━━━━━━━━━━━━━━━━━━━━━━━━┓\n",
       "┃<span style=\"color: #800080; text-decoration-color: #800080; font-weight: bold\"> Requirement   </span>┃<span style=\"color: #800080; text-decoration-color: #800080; font-weight: bold\"> Points </span>┃<span style=\"color: #800080; text-decoration-color: #800080; font-weight: bold\"> Issue                                                                                  </span>┃\n",
       "┡━━━━━━━━━━━━━━━╇━━━━━━━━╇━━━━━━━━━━━━━━━━━━━━━━━━━━━━━━━━━━━━━━━━━━━━━━━━━━━━━━━━━━━━━━━━━━━━━━━━━━━━━━━━━━━━━━━━┩\n",
       "│ clear_idea    │ 10     │ The idea is indeed clear and well-written. It presents a straightforward concept that  │\n",
       "│               │        │ can be easily understood.                                                              │\n",
       "│               │        │                                                                                        │\n",
       "│ user_benefits │ 10     │ The idea of a Mobile Electric Vehicle Charging Service indeed presents obvious user    │\n",
       "│               │        │ benefits. For EV drivers, it offers convenience and accessibility, reducing range      │\n",
       "│               │        │ anxiety and the need for extensive infrastructure. For businesses, it could drive      │\n",
       "│               │        │ customer traffic and enhance corporate sustainability efforts. The service can also    │\n",
       "│               │        │ support emergency charging needs. Therefore, it satisfies the requirement of having    │\n",
       "│               │        │ obvious user benefits.                                                                 │\n",
       "│               │        │                                                                                        │\n",
       "│ new_users     │ 10     │ The Mobile Electric Vehicle Charging Service is a timely business idea that aligns     │\n",
       "│               │        │ with the growing adoption of electric vehicles (EVs). As the number of EVs on the road │\n",
       "│               │        │ increases, the demand for convenient charging solutions will rise. This service would  │\n",
       "│               │        │ cater to EV owners who may find themselves in need of a charge without access to a     │\n",
       "│               │        │ stationary charging station or for those who prefer the convenience of on-demand       │\n",
       "│               │        │ charging. It addresses a real concern regarding the current infrastructure limitations │\n",
       "│               │        │ and range anxiety among EV users. Therefore, it has the potential to attract a large   │\n",
       "│               │        │ number of new users who are looking for flexible and accessible charging options.      │\n",
       "│               │        │                                                                                        │\n",
       "└───────────────┴────────┴────────────────────────────────────────────────────────────────────────────────────────┘\n",
       "</pre>\n"
      ],
      "text/plain": [
       "┏━━━━━━━━━━━━━━━┳━━━━━━━━┳━━━━━━━━━━━━━━━━━━━━━━━━━━━━━━━━━━━━━━━━━━━━━━━━━━━━━━━━━━━━━━━━━━━━━━━━━━━━━━━━━━━━━━━━┓\n",
       "┃\u001b[1;35m \u001b[0m\u001b[1;35mRequirement  \u001b[0m\u001b[1;35m \u001b[0m┃\u001b[1;35m \u001b[0m\u001b[1;35mPoints\u001b[0m\u001b[1;35m \u001b[0m┃\u001b[1;35m \u001b[0m\u001b[1;35mIssue                                                                                 \u001b[0m\u001b[1;35m \u001b[0m┃\n",
       "┡━━━━━━━━━━━━━━━╇━━━━━━━━╇━━━━━━━━━━━━━━━━━━━━━━━━━━━━━━━━━━━━━━━━━━━━━━━━━━━━━━━━━━━━━━━━━━━━━━━━━━━━━━━━━━━━━━━━┩\n",
       "│ clear_idea    │ 10     │ The idea is indeed clear and well-written. It presents a straightforward concept that  │\n",
       "│               │        │ can be easily understood.                                                              │\n",
       "│               │        │                                                                                        │\n",
       "│ user_benefits │ 10     │ The idea of a Mobile Electric Vehicle Charging Service indeed presents obvious user    │\n",
       "│               │        │ benefits. For EV drivers, it offers convenience and accessibility, reducing range      │\n",
       "│               │        │ anxiety and the need for extensive infrastructure. For businesses, it could drive      │\n",
       "│               │        │ customer traffic and enhance corporate sustainability efforts. The service can also    │\n",
       "│               │        │ support emergency charging needs. Therefore, it satisfies the requirement of having    │\n",
       "│               │        │ obvious user benefits.                                                                 │\n",
       "│               │        │                                                                                        │\n",
       "│ new_users     │ 10     │ The Mobile Electric Vehicle Charging Service is a timely business idea that aligns     │\n",
       "│               │        │ with the growing adoption of electric vehicles (EVs). As the number of EVs on the road │\n",
       "│               │        │ increases, the demand for convenient charging solutions will rise. This service would  │\n",
       "│               │        │ cater to EV owners who may find themselves in need of a charge without access to a     │\n",
       "│               │        │ stationary charging station or for those who prefer the convenience of on-demand       │\n",
       "│               │        │ charging. It addresses a real concern regarding the current infrastructure limitations │\n",
       "│               │        │ and range anxiety among EV users. Therefore, it has the potential to attract a large   │\n",
       "│               │        │ number of new users who are looking for flexible and accessible charging options.      │\n",
       "│               │        │                                                                                        │\n",
       "└───────────────┴────────┴────────────────────────────────────────────────────────────────────────────────────────┘\n"
      ]
     },
     "metadata": {},
     "output_type": "display_data"
    },
    {
     "name": "stdout",
     "output_type": "stream",
     "text": [
      "Idea:  Mobile Electric Vehicle Charging Service\n",
      "Persona:  You are an employee at a startup.\n",
      "Total points earned:  30\n"
     ]
    },
    {
     "data": {
      "text/html": [
       "<pre style=\"white-space:pre;overflow-x:auto;line-height:normal;font-family:Menlo,'DejaVu Sans Mono',consolas,'Courier New',monospace\">┏━━━━━━━━━━━━━━━┳━━━━━━━━┳━━━━━━━━━━━━━━━━━━━━━━━━━━━━━━━━━━━━━━━━━━━━━━━━━━━━━━━━━━━━━━━━━━━━━━━━━━━━━━━━━━━━━━━━┓\n",
       "┃<span style=\"color: #800080; text-decoration-color: #800080; font-weight: bold\"> Requirement   </span>┃<span style=\"color: #800080; text-decoration-color: #800080; font-weight: bold\"> Points </span>┃<span style=\"color: #800080; text-decoration-color: #800080; font-weight: bold\"> Issue                                                                                  </span>┃\n",
       "┡━━━━━━━━━━━━━━━╇━━━━━━━━╇━━━━━━━━━━━━━━━━━━━━━━━━━━━━━━━━━━━━━━━━━━━━━━━━━━━━━━━━━━━━━━━━━━━━━━━━━━━━━━━━━━━━━━━━┩\n",
       "│ clear_idea    │ 10     │ The idea is indeed clear and well-written, describing a service that provides electric │\n",
       "│               │        │ vehicle charging in a mobile, accessible manner.                                       │\n",
       "│               │        │                                                                                        │\n",
       "│ user_benefits │ 10     │ The idea of a Mobile Electric Vehicle Charging Service does indeed offer obvious user  │\n",
       "│               │        │ benefits. For EV drivers, it provides convenience and peace of mind, knowing they can  │\n",
       "│               │        │ get a charge when and where they need it, without having to search for a fixed         │\n",
       "│               │        │ charging station. This is particularly beneficial for drivers who may have forgotten   │\n",
       "│               │        │ to charge their vehicle, those who are on long trips, or when existing charging        │\n",
       "│               │        │ infrastructure is insufficient or occupied. For businesses, it could reduce the need   │\n",
       "│               │        │ for extensive charging infrastructure and offer a new service to customers or          │\n",
       "│               │        │ employees. It could also open up opportunities for roadside assistance companies to    │\n",
       "│               │        │ expand their services. Therefore, this idea satisfies the requirement of having        │\n",
       "│               │        │ obvious user benefits.                                                                 │\n",
       "│               │        │                                                                                        │\n",
       "│ new_users     │ 10     │ The idea of a Mobile Electric Vehicle Charging Service is likely to attract a large    │\n",
       "│               │        │ number of new users due to the increasing adoption of electric vehicles (EVs) and the  │\n",
       "│               │        │ need for convenient charging solutions. As EV ownership grows, the demand for          │\n",
       "│               │        │ accessible charging infrastructure, especially for those without the ability to charge │\n",
       "│               │        │ at home or for those on long trips, also rises. A mobile service that can come to the  │\n",
       "│               │        │ user's location to charge their vehicle can fill a significant gap in the market,      │\n",
       "│               │        │ offering convenience and alleviating range anxiety.                                    │\n",
       "│               │        │                                                                                        │\n",
       "└───────────────┴────────┴────────────────────────────────────────────────────────────────────────────────────────┘\n",
       "</pre>\n"
      ],
      "text/plain": [
       "┏━━━━━━━━━━━━━━━┳━━━━━━━━┳━━━━━━━━━━━━━━━━━━━━━━━━━━━━━━━━━━━━━━━━━━━━━━━━━━━━━━━━━━━━━━━━━━━━━━━━━━━━━━━━━━━━━━━━┓\n",
       "┃\u001b[1;35m \u001b[0m\u001b[1;35mRequirement  \u001b[0m\u001b[1;35m \u001b[0m┃\u001b[1;35m \u001b[0m\u001b[1;35mPoints\u001b[0m\u001b[1;35m \u001b[0m┃\u001b[1;35m \u001b[0m\u001b[1;35mIssue                                                                                 \u001b[0m\u001b[1;35m \u001b[0m┃\n",
       "┡━━━━━━━━━━━━━━━╇━━━━━━━━╇━━━━━━━━━━━━━━━━━━━━━━━━━━━━━━━━━━━━━━━━━━━━━━━━━━━━━━━━━━━━━━━━━━━━━━━━━━━━━━━━━━━━━━━━┩\n",
       "│ clear_idea    │ 10     │ The idea is indeed clear and well-written, describing a service that provides electric │\n",
       "│               │        │ vehicle charging in a mobile, accessible manner.                                       │\n",
       "│               │        │                                                                                        │\n",
       "│ user_benefits │ 10     │ The idea of a Mobile Electric Vehicle Charging Service does indeed offer obvious user  │\n",
       "│               │        │ benefits. For EV drivers, it provides convenience and peace of mind, knowing they can  │\n",
       "│               │        │ get a charge when and where they need it, without having to search for a fixed         │\n",
       "│               │        │ charging station. This is particularly beneficial for drivers who may have forgotten   │\n",
       "│               │        │ to charge their vehicle, those who are on long trips, or when existing charging        │\n",
       "│               │        │ infrastructure is insufficient or occupied. For businesses, it could reduce the need   │\n",
       "│               │        │ for extensive charging infrastructure and offer a new service to customers or          │\n",
       "│               │        │ employees. It could also open up opportunities for roadside assistance companies to    │\n",
       "│               │        │ expand their services. Therefore, this idea satisfies the requirement of having        │\n",
       "│               │        │ obvious user benefits.                                                                 │\n",
       "│               │        │                                                                                        │\n",
       "│ new_users     │ 10     │ The idea of a Mobile Electric Vehicle Charging Service is likely to attract a large    │\n",
       "│               │        │ number of new users due to the increasing adoption of electric vehicles (EVs) and the  │\n",
       "│               │        │ need for convenient charging solutions. As EV ownership grows, the demand for          │\n",
       "│               │        │ accessible charging infrastructure, especially for those without the ability to charge │\n",
       "│               │        │ at home or for those on long trips, also rises. A mobile service that can come to the  │\n",
       "│               │        │ user's location to charge their vehicle can fill a significant gap in the market,      │\n",
       "│               │        │ offering convenience and alleviating range anxiety.                                    │\n",
       "│               │        │                                                                                        │\n",
       "└───────────────┴────────┴────────────────────────────────────────────────────────────────────────────────────────┘\n"
      ]
     },
     "metadata": {},
     "output_type": "display_data"
    },
    {
     "name": "stdout",
     "output_type": "stream",
     "text": [
      "Idea:  Virtual Reality Travel Experiences\n",
      "Persona:  You are a business analyst.\n",
      "Total points earned:  30\n"
     ]
    },
    {
     "data": {
      "text/html": [
       "<pre style=\"white-space:pre;overflow-x:auto;line-height:normal;font-family:Menlo,'DejaVu Sans Mono',consolas,'Courier New',monospace\">┏━━━━━━━━━━━━━━━┳━━━━━━━━┳━━━━━━━━━━━━━━━━━━━━━━━━━━━━━━━━━━━━━━━━━━━━━━━━━━━━━━━━━━━━━━━━━━━━━━━━━━━━━━━━━━━━━━━━┓\n",
       "┃<span style=\"color: #800080; text-decoration-color: #800080; font-weight: bold\"> Requirement   </span>┃<span style=\"color: #800080; text-decoration-color: #800080; font-weight: bold\"> Points </span>┃<span style=\"color: #800080; text-decoration-color: #800080; font-weight: bold\"> Issue                                                                                  </span>┃\n",
       "┡━━━━━━━━━━━━━━━╇━━━━━━━━╇━━━━━━━━━━━━━━━━━━━━━━━━━━━━━━━━━━━━━━━━━━━━━━━━━━━━━━━━━━━━━━━━━━━━━━━━━━━━━━━━━━━━━━━━┩\n",
       "│ clear_idea    │ 10     │ The idea of Virtual Reality Travel Experiences is clear and well-written. It suggests  │\n",
       "│               │        │ a service that provides travel experiences using virtual reality technology.           │\n",
       "│               │        │                                                                                        │\n",
       "│ user_benefits │ 10     │ Virtual Reality Travel Experiences offer a range of benefits for different user types. │\n",
       "│               │        │ For the casual traveler, it provides an affordable and convenient way to explore new   │\n",
       "│               │        │ destinations without the cost and time associated with traditional travel. For those   │\n",
       "│               │        │ with mobility issues or disabilities, it offers a way to experience the world that     │\n",
       "│               │        │ might otherwise be inaccessible. For education and training purposes, it can be a      │\n",
       "│               │        │ valuable tool to immerse students or professionals in real-world environments without  │\n",
       "│               │        │ leaving the classroom or office. For the environmentally conscious, it provides a way  │\n",
       "│               │        │ to explore without contributing to carbon emissions associated with travel. The idea   │\n",
       "│               │        │ satisfies the requirement as it presents clear benefits to a diverse user base.        │\n",
       "│               │        │                                                                                        │\n",
       "│ new_users     │ 10     │ Virtual Reality Travel Experiences can potentially attract a large number of new users │\n",
       "│               │        │ due to several reasons. Firstly, VR technology has become more accessible and          │\n",
       "│               │        │ affordable, allowing more consumers to try out VR experiences. Secondly, there is a    │\n",
       "│               │        │ growing interest in immersive experiences, especially in the context of travel, where  │\n",
       "│               │        │ users can explore new destinations or revisit favorite places without the constraints  │\n",
       "│               │        │ of time, budget, or physical limitations. Additionally, the current global situation   │\n",
       "│               │        │ with the pandemic has increased the demand for virtual travel and remote tourism,      │\n",
       "│               │        │ making it a timely venture. Therefore, the idea satisfies the requirement of           │\n",
       "│               │        │ attracting a large number of new users.                                                │\n",
       "│               │        │                                                                                        │\n",
       "└───────────────┴────────┴────────────────────────────────────────────────────────────────────────────────────────┘\n",
       "</pre>\n"
      ],
      "text/plain": [
       "┏━━━━━━━━━━━━━━━┳━━━━━━━━┳━━━━━━━━━━━━━━━━━━━━━━━━━━━━━━━━━━━━━━━━━━━━━━━━━━━━━━━━━━━━━━━━━━━━━━━━━━━━━━━━━━━━━━━━┓\n",
       "┃\u001b[1;35m \u001b[0m\u001b[1;35mRequirement  \u001b[0m\u001b[1;35m \u001b[0m┃\u001b[1;35m \u001b[0m\u001b[1;35mPoints\u001b[0m\u001b[1;35m \u001b[0m┃\u001b[1;35m \u001b[0m\u001b[1;35mIssue                                                                                 \u001b[0m\u001b[1;35m \u001b[0m┃\n",
       "┡━━━━━━━━━━━━━━━╇━━━━━━━━╇━━━━━━━━━━━━━━━━━━━━━━━━━━━━━━━━━━━━━━━━━━━━━━━━━━━━━━━━━━━━━━━━━━━━━━━━━━━━━━━━━━━━━━━━┩\n",
       "│ clear_idea    │ 10     │ The idea of Virtual Reality Travel Experiences is clear and well-written. It suggests  │\n",
       "│               │        │ a service that provides travel experiences using virtual reality technology.           │\n",
       "│               │        │                                                                                        │\n",
       "│ user_benefits │ 10     │ Virtual Reality Travel Experiences offer a range of benefits for different user types. │\n",
       "│               │        │ For the casual traveler, it provides an affordable and convenient way to explore new   │\n",
       "│               │        │ destinations without the cost and time associated with traditional travel. For those   │\n",
       "│               │        │ with mobility issues or disabilities, it offers a way to experience the world that     │\n",
       "│               │        │ might otherwise be inaccessible. For education and training purposes, it can be a      │\n",
       "│               │        │ valuable tool to immerse students or professionals in real-world environments without  │\n",
       "│               │        │ leaving the classroom or office. For the environmentally conscious, it provides a way  │\n",
       "│               │        │ to explore without contributing to carbon emissions associated with travel. The idea   │\n",
       "│               │        │ satisfies the requirement as it presents clear benefits to a diverse user base.        │\n",
       "│               │        │                                                                                        │\n",
       "│ new_users     │ 10     │ Virtual Reality Travel Experiences can potentially attract a large number of new users │\n",
       "│               │        │ due to several reasons. Firstly, VR technology has become more accessible and          │\n",
       "│               │        │ affordable, allowing more consumers to try out VR experiences. Secondly, there is a    │\n",
       "│               │        │ growing interest in immersive experiences, especially in the context of travel, where  │\n",
       "│               │        │ users can explore new destinations or revisit favorite places without the constraints  │\n",
       "│               │        │ of time, budget, or physical limitations. Additionally, the current global situation   │\n",
       "│               │        │ with the pandemic has increased the demand for virtual travel and remote tourism,      │\n",
       "│               │        │ making it a timely venture. Therefore, the idea satisfies the requirement of           │\n",
       "│               │        │ attracting a large number of new users.                                                │\n",
       "│               │        │                                                                                        │\n",
       "└───────────────┴────────┴────────────────────────────────────────────────────────────────────────────────────────┘\n"
      ]
     },
     "metadata": {},
     "output_type": "display_data"
    },
    {
     "name": "stdout",
     "output_type": "stream",
     "text": [
      "Idea:  Virtual Reality Travel Experiences\n",
      "Persona:  You are a venture capital investor.\n",
      "Total points earned:  30\n"
     ]
    },
    {
     "data": {
      "text/html": [
       "<pre style=\"white-space:pre;overflow-x:auto;line-height:normal;font-family:Menlo,'DejaVu Sans Mono',consolas,'Courier New',monospace\">┏━━━━━━━━━━━━━━━┳━━━━━━━━┳━━━━━━━━━━━━━━━━━━━━━━━━━━━━━━━━━━━━━━━━━━━━━━━━━━━━━━━━━━━━━━━━━━━━━━━━━━━━━━━━━━━━━━━━┓\n",
       "┃<span style=\"color: #800080; text-decoration-color: #800080; font-weight: bold\"> Requirement   </span>┃<span style=\"color: #800080; text-decoration-color: #800080; font-weight: bold\"> Points </span>┃<span style=\"color: #800080; text-decoration-color: #800080; font-weight: bold\"> Issue                                                                                  </span>┃\n",
       "┡━━━━━━━━━━━━━━━╇━━━━━━━━╇━━━━━━━━━━━━━━━━━━━━━━━━━━━━━━━━━━━━━━━━━━━━━━━━━━━━━━━━━━━━━━━━━━━━━━━━━━━━━━━━━━━━━━━━┩\n",
       "│ clear_idea    │ 10     │ The idea is clear and well-written, providing a straightforward concept of Virtual     │\n",
       "│               │        │ Reality Travel Experiences.                                                            │\n",
       "│               │        │                                                                                        │\n",
       "│ user_benefits │ 10     │ The idea of Virtual Reality Travel Experiences offers numerous benefits for various    │\n",
       "│               │        │ user types. For the casual traveler, it provides an affordable and convenient way to   │\n",
       "│               │        │ explore new destinations without the need for travel expenses or time off work.        │\n",
       "│               │        │ Adventure seekers can sample extreme environments or activities they may not be able   │\n",
       "│               │        │ to access otherwise. Those with physical limitations or health concerns can experience │\n",
       "│               │        │ the joy of travel without the physical strain. Additionally, educators can use these   │\n",
       "│               │        │ experiences as immersive teaching tools, and businesses can offer virtual tours of     │\n",
       "│               │        │ their facilities to clients. The idea does seem to satisfy the requirement of having   │\n",
       "│               │        │ obvious user benefits.                                                                 │\n",
       "│               │        │                                                                                        │\n",
       "│ new_users     │ 10     │ Virtual Reality Travel Experiences have the potential to attract a large number of new │\n",
       "│               │        │ users due to several factors. Firstly, VR technology has become more accessible and    │\n",
       "│               │        │ affordable, allowing more consumers to try VR experiences. Secondly, the desire for    │\n",
       "│               │        │ travel is universal, but it can be restricted by factors such as cost, physical        │\n",
       "│               │        │ limitations, and time constraints. VR travel can provide an immersive experience       │\n",
       "│               │        │ without these barriers. Additionally, the ongoing improvements in VR technology        │\n",
       "│               │        │ continue to make virtual experiences more realistic and engaging, which can appeal to  │\n",
       "│               │        │ a broad audience, including gamers, travelers, and education sectors. Therefore, the   │\n",
       "│               │        │ idea satisfies the requirement of having the potential to attract a large number of    │\n",
       "│               │        │ new users.                                                                             │\n",
       "│               │        │                                                                                        │\n",
       "└───────────────┴────────┴────────────────────────────────────────────────────────────────────────────────────────┘\n",
       "</pre>\n"
      ],
      "text/plain": [
       "┏━━━━━━━━━━━━━━━┳━━━━━━━━┳━━━━━━━━━━━━━━━━━━━━━━━━━━━━━━━━━━━━━━━━━━━━━━━━━━━━━━━━━━━━━━━━━━━━━━━━━━━━━━━━━━━━━━━━┓\n",
       "┃\u001b[1;35m \u001b[0m\u001b[1;35mRequirement  \u001b[0m\u001b[1;35m \u001b[0m┃\u001b[1;35m \u001b[0m\u001b[1;35mPoints\u001b[0m\u001b[1;35m \u001b[0m┃\u001b[1;35m \u001b[0m\u001b[1;35mIssue                                                                                 \u001b[0m\u001b[1;35m \u001b[0m┃\n",
       "┡━━━━━━━━━━━━━━━╇━━━━━━━━╇━━━━━━━━━━━━━━━━━━━━━━━━━━━━━━━━━━━━━━━━━━━━━━━━━━━━━━━━━━━━━━━━━━━━━━━━━━━━━━━━━━━━━━━━┩\n",
       "│ clear_idea    │ 10     │ The idea is clear and well-written, providing a straightforward concept of Virtual     │\n",
       "│               │        │ Reality Travel Experiences.                                                            │\n",
       "│               │        │                                                                                        │\n",
       "│ user_benefits │ 10     │ The idea of Virtual Reality Travel Experiences offers numerous benefits for various    │\n",
       "│               │        │ user types. For the casual traveler, it provides an affordable and convenient way to   │\n",
       "│               │        │ explore new destinations without the need for travel expenses or time off work.        │\n",
       "│               │        │ Adventure seekers can sample extreme environments or activities they may not be able   │\n",
       "│               │        │ to access otherwise. Those with physical limitations or health concerns can experience │\n",
       "│               │        │ the joy of travel without the physical strain. Additionally, educators can use these   │\n",
       "│               │        │ experiences as immersive teaching tools, and businesses can offer virtual tours of     │\n",
       "│               │        │ their facilities to clients. The idea does seem to satisfy the requirement of having   │\n",
       "│               │        │ obvious user benefits.                                                                 │\n",
       "│               │        │                                                                                        │\n",
       "│ new_users     │ 10     │ Virtual Reality Travel Experiences have the potential to attract a large number of new │\n",
       "│               │        │ users due to several factors. Firstly, VR technology has become more accessible and    │\n",
       "│               │        │ affordable, allowing more consumers to try VR experiences. Secondly, the desire for    │\n",
       "│               │        │ travel is universal, but it can be restricted by factors such as cost, physical        │\n",
       "│               │        │ limitations, and time constraints. VR travel can provide an immersive experience       │\n",
       "│               │        │ without these barriers. Additionally, the ongoing improvements in VR technology        │\n",
       "│               │        │ continue to make virtual experiences more realistic and engaging, which can appeal to  │\n",
       "│               │        │ a broad audience, including gamers, travelers, and education sectors. Therefore, the   │\n",
       "│               │        │ idea satisfies the requirement of having the potential to attract a large number of    │\n",
       "│               │        │ new users.                                                                             │\n",
       "│               │        │                                                                                        │\n",
       "└───────────────┴────────┴────────────────────────────────────────────────────────────────────────────────────────┘\n"
      ]
     },
     "metadata": {},
     "output_type": "display_data"
    },
    {
     "name": "stdout",
     "output_type": "stream",
     "text": [
      "Idea:  Virtual Reality Travel Experiences\n",
      "Persona:  You are an employee at a startup.\n",
      "Total points earned:  30\n"
     ]
    },
    {
     "data": {
      "text/html": [
       "<pre style=\"white-space:pre;overflow-x:auto;line-height:normal;font-family:Menlo,'DejaVu Sans Mono',consolas,'Courier New',monospace\">┏━━━━━━━━━━━━━━━┳━━━━━━━━┳━━━━━━━━━━━━━━━━━━━━━━━━━━━━━━━━━━━━━━━━━━━━━━━━━━━━━━━━━━━━━━━━━━━━━━━━━━━━━━━━━━━━━━━━┓\n",
       "┃<span style=\"color: #800080; text-decoration-color: #800080; font-weight: bold\"> Requirement   </span>┃<span style=\"color: #800080; text-decoration-color: #800080; font-weight: bold\"> Points </span>┃<span style=\"color: #800080; text-decoration-color: #800080; font-weight: bold\"> Issue                                                                                  </span>┃\n",
       "┡━━━━━━━━━━━━━━━╇━━━━━━━━╇━━━━━━━━━━━━━━━━━━━━━━━━━━━━━━━━━━━━━━━━━━━━━━━━━━━━━━━━━━━━━━━━━━━━━━━━━━━━━━━━━━━━━━━━┩\n",
       "│ clear_idea    │ 10     │ The idea of Virtual Reality Travel Experiences is clear and has potential in the       │\n",
       "│               │        │ market, especially for those who cannot travel due to financial, physical, or time     │\n",
       "│               │        │ constraints.                                                                           │\n",
       "│               │        │                                                                                        │\n",
       "│ user_benefits │ 10     │ Virtual Reality Travel Experiences can provide numerous benefits to different user     │\n",
       "│               │        │ types. For example, travelers can explore destinations before they visit, people with  │\n",
       "│               │        │ mobility issues can experience places they can't easily travel to, and students can    │\n",
       "│               │        │ learn about different cultures and environments in an immersive way. It can also be a  │\n",
       "│               │        │ cost-effective solution for those who cannot afford to travel. Therefore, this idea    │\n",
       "│               │        │ does satisfy the requirement of having obvious user benefits.                          │\n",
       "│               │        │                                                                                        │\n",
       "│ new_users     │ 10     │ Virtual Reality Travel Experiences can potentially attract a large number of new users │\n",
       "│               │        │ due to the increasing interest in VR technology and its ability to simulate immersive  │\n",
       "│               │        │ environments. It caters to those who cannot travel due to financial, time, or physical │\n",
       "│               │        │ constraints, and appeals to tech enthusiasts and adventure seekers looking for new     │\n",
       "│               │        │ experiences. Additionally, during times when travel is restricted, such as during a    │\n",
       "│               │        │ pandemic, this service would provide a valuable alternative to traditional travel.     │\n",
       "│               │        │                                                                                        │\n",
       "└───────────────┴────────┴────────────────────────────────────────────────────────────────────────────────────────┘\n",
       "</pre>\n"
      ],
      "text/plain": [
       "┏━━━━━━━━━━━━━━━┳━━━━━━━━┳━━━━━━━━━━━━━━━━━━━━━━━━━━━━━━━━━━━━━━━━━━━━━━━━━━━━━━━━━━━━━━━━━━━━━━━━━━━━━━━━━━━━━━━━┓\n",
       "┃\u001b[1;35m \u001b[0m\u001b[1;35mRequirement  \u001b[0m\u001b[1;35m \u001b[0m┃\u001b[1;35m \u001b[0m\u001b[1;35mPoints\u001b[0m\u001b[1;35m \u001b[0m┃\u001b[1;35m \u001b[0m\u001b[1;35mIssue                                                                                 \u001b[0m\u001b[1;35m \u001b[0m┃\n",
       "┡━━━━━━━━━━━━━━━╇━━━━━━━━╇━━━━━━━━━━━━━━━━━━━━━━━━━━━━━━━━━━━━━━━━━━━━━━━━━━━━━━━━━━━━━━━━━━━━━━━━━━━━━━━━━━━━━━━━┩\n",
       "│ clear_idea    │ 10     │ The idea of Virtual Reality Travel Experiences is clear and has potential in the       │\n",
       "│               │        │ market, especially for those who cannot travel due to financial, physical, or time     │\n",
       "│               │        │ constraints.                                                                           │\n",
       "│               │        │                                                                                        │\n",
       "│ user_benefits │ 10     │ Virtual Reality Travel Experiences can provide numerous benefits to different user     │\n",
       "│               │        │ types. For example, travelers can explore destinations before they visit, people with  │\n",
       "│               │        │ mobility issues can experience places they can't easily travel to, and students can    │\n",
       "│               │        │ learn about different cultures and environments in an immersive way. It can also be a  │\n",
       "│               │        │ cost-effective solution for those who cannot afford to travel. Therefore, this idea    │\n",
       "│               │        │ does satisfy the requirement of having obvious user benefits.                          │\n",
       "│               │        │                                                                                        │\n",
       "│ new_users     │ 10     │ Virtual Reality Travel Experiences can potentially attract a large number of new users │\n",
       "│               │        │ due to the increasing interest in VR technology and its ability to simulate immersive  │\n",
       "│               │        │ environments. It caters to those who cannot travel due to financial, time, or physical │\n",
       "│               │        │ constraints, and appeals to tech enthusiasts and adventure seekers looking for new     │\n",
       "│               │        │ experiences. Additionally, during times when travel is restricted, such as during a    │\n",
       "│               │        │ pandemic, this service would provide a valuable alternative to traditional travel.     │\n",
       "│               │        │                                                                                        │\n",
       "└───────────────┴────────┴────────────────────────────────────────────────────────────────────────────────────────┘\n"
      ]
     },
     "metadata": {},
     "output_type": "display_data"
    },
    {
     "name": "stdout",
     "output_type": "stream",
     "text": [
      "Idea:  Smart Urban Farming Systems\n",
      "Persona:  You are a business analyst.\n",
      "Total points earned:  20\n"
     ]
    },
    {
     "data": {
      "text/html": [
       "<pre style=\"white-space:pre;overflow-x:auto;line-height:normal;font-family:Menlo,'DejaVu Sans Mono',consolas,'Courier New',monospace\">┏━━━━━━━━━━━━━━━┳━━━━━━━━┳━━━━━━━━━━━━━━━━━━━━━━━━━━━━━━━━━━━━━━━━━━━━━━━━━━━━━━━━━━━━━━━━━━━━━━━━━━━━━━━━━━━━━━━━┓\n",
       "┃<span style=\"color: #800080; text-decoration-color: #800080; font-weight: bold\"> Requirement   </span>┃<span style=\"color: #800080; text-decoration-color: #800080; font-weight: bold\"> Points </span>┃<span style=\"color: #800080; text-decoration-color: #800080; font-weight: bold\"> Issue                                                                                  </span>┃\n",
       "┡━━━━━━━━━━━━━━━╇━━━━━━━━╇━━━━━━━━━━━━━━━━━━━━━━━━━━━━━━━━━━━━━━━━━━━━━━━━━━━━━━━━━━━━━━━━━━━━━━━━━━━━━━━━━━━━━━━━┩\n",
       "│ clear_idea    │ 10     │ The statement 'Smart Urban Farming Systems' is a concept rather than a fully developed │\n",
       "│               │        │ idea. It lacks details on the business model, target market, competitive advantage,    │\n",
       "│               │        │ and operational plan that would be necessary to evaluate it as a startup business      │\n",
       "│               │        │ idea.                                                                                  │\n",
       "│               │        │                                                                                        │\n",
       "│ user_benefits │ 10     │ Smart Urban Farming Systems offer a variety of benefits for different user types. For  │\n",
       "│               │        │ individual consumers, these systems can provide fresh, locally-grown produce with a    │\n",
       "│               │        │ smaller carbon footprint due to reduced transportation needs. It also allows consumers │\n",
       "│               │        │ to have more control over their food sources, potentially leading to healthier eating  │\n",
       "│               │        │ habits. For businesses such as restaurants, having access to fresh ingredients that    │\n",
       "│               │        │ can be grown on-site or nearby can enhance food quality and allow for menu innovation. │\n",
       "│               │        │ Furthermore, urban farming systems can contribute to the sustainability efforts of a   │\n",
       "│               │        │ city, reducing urban heat islands and improving air quality. Educational institutions  │\n",
       "│               │        │ can use these systems as a tool for hands-on learning about sustainable agriculture,   │\n",
       "│               │        │ biology, and ecology. Therefore, the idea satisfies the requirement as it presents     │\n",
       "│               │        │ clear benefits to various user types.                                                  │\n",
       "│               │        │                                                                                        │\n",
       "│ new_users     │ 10     │ Smart Urban Farming Systems are likely to attract a large number of new users due to   │\n",
       "│               │        │ the growing interest in sustainability, local food production, and technology          │\n",
       "│               │        │ integration in agriculture. Urban farming meets the demand for fresh, local produce in │\n",
       "│               │        │ city environments where traditional farming is not possible. Smart systems add value   │\n",
       "│               │        │ by optimizing resources, improving crop yields, and simplifying the management of      │\n",
       "│               │        │ urban farms, making it an appealing solution for modern consumers and aspiring urban   │\n",
       "│               │        │ farmers.                                                                               │\n",
       "│               │        │                                                                                        │\n",
       "└───────────────┴────────┴────────────────────────────────────────────────────────────────────────────────────────┘\n",
       "</pre>\n"
      ],
      "text/plain": [
       "┏━━━━━━━━━━━━━━━┳━━━━━━━━┳━━━━━━━━━━━━━━━━━━━━━━━━━━━━━━━━━━━━━━━━━━━━━━━━━━━━━━━━━━━━━━━━━━━━━━━━━━━━━━━━━━━━━━━━┓\n",
       "┃\u001b[1;35m \u001b[0m\u001b[1;35mRequirement  \u001b[0m\u001b[1;35m \u001b[0m┃\u001b[1;35m \u001b[0m\u001b[1;35mPoints\u001b[0m\u001b[1;35m \u001b[0m┃\u001b[1;35m \u001b[0m\u001b[1;35mIssue                                                                                 \u001b[0m\u001b[1;35m \u001b[0m┃\n",
       "┡━━━━━━━━━━━━━━━╇━━━━━━━━╇━━━━━━━━━━━━━━━━━━━━━━━━━━━━━━━━━━━━━━━━━━━━━━━━━━━━━━━━━━━━━━━━━━━━━━━━━━━━━━━━━━━━━━━━┩\n",
       "│ clear_idea    │ 10     │ The statement 'Smart Urban Farming Systems' is a concept rather than a fully developed │\n",
       "│               │        │ idea. It lacks details on the business model, target market, competitive advantage,    │\n",
       "│               │        │ and operational plan that would be necessary to evaluate it as a startup business      │\n",
       "│               │        │ idea.                                                                                  │\n",
       "│               │        │                                                                                        │\n",
       "│ user_benefits │ 10     │ Smart Urban Farming Systems offer a variety of benefits for different user types. For  │\n",
       "│               │        │ individual consumers, these systems can provide fresh, locally-grown produce with a    │\n",
       "│               │        │ smaller carbon footprint due to reduced transportation needs. It also allows consumers │\n",
       "│               │        │ to have more control over their food sources, potentially leading to healthier eating  │\n",
       "│               │        │ habits. For businesses such as restaurants, having access to fresh ingredients that    │\n",
       "│               │        │ can be grown on-site or nearby can enhance food quality and allow for menu innovation. │\n",
       "│               │        │ Furthermore, urban farming systems can contribute to the sustainability efforts of a   │\n",
       "│               │        │ city, reducing urban heat islands and improving air quality. Educational institutions  │\n",
       "│               │        │ can use these systems as a tool for hands-on learning about sustainable agriculture,   │\n",
       "│               │        │ biology, and ecology. Therefore, the idea satisfies the requirement as it presents     │\n",
       "│               │        │ clear benefits to various user types.                                                  │\n",
       "│               │        │                                                                                        │\n",
       "│ new_users     │ 10     │ Smart Urban Farming Systems are likely to attract a large number of new users due to   │\n",
       "│               │        │ the growing interest in sustainability, local food production, and technology          │\n",
       "│               │        │ integration in agriculture. Urban farming meets the demand for fresh, local produce in │\n",
       "│               │        │ city environments where traditional farming is not possible. Smart systems add value   │\n",
       "│               │        │ by optimizing resources, improving crop yields, and simplifying the management of      │\n",
       "│               │        │ urban farms, making it an appealing solution for modern consumers and aspiring urban   │\n",
       "│               │        │ farmers.                                                                               │\n",
       "│               │        │                                                                                        │\n",
       "└───────────────┴────────┴────────────────────────────────────────────────────────────────────────────────────────┘\n"
      ]
     },
     "metadata": {},
     "output_type": "display_data"
    },
    {
     "name": "stdout",
     "output_type": "stream",
     "text": [
      "Idea:  Smart Urban Farming Systems\n",
      "Persona:  You are a venture capital investor.\n",
      "Total points earned:  20\n"
     ]
    },
    {
     "data": {
      "text/html": [
       "<pre style=\"white-space:pre;overflow-x:auto;line-height:normal;font-family:Menlo,'DejaVu Sans Mono',consolas,'Courier New',monospace\">┏━━━━━━━━━━━━━━━┳━━━━━━━━┳━━━━━━━━━━━━━━━━━━━━━━━━━━━━━━━━━━━━━━━━━━━━━━━━━━━━━━━━━━━━━━━━━━━━━━━━━━━━━━━━━━━━━━━━┓\n",
       "┃<span style=\"color: #800080; text-decoration-color: #800080; font-weight: bold\"> Requirement   </span>┃<span style=\"color: #800080; text-decoration-color: #800080; font-weight: bold\"> Points </span>┃<span style=\"color: #800080; text-decoration-color: #800080; font-weight: bold\"> Issue                                                                                  </span>┃\n",
       "┡━━━━━━━━━━━━━━━╇━━━━━━━━╇━━━━━━━━━━━━━━━━━━━━━━━━━━━━━━━━━━━━━━━━━━━━━━━━━━━━━━━━━━━━━━━━━━━━━━━━━━━━━━━━━━━━━━━━┩\n",
       "│ clear_idea    │ 10     │ The idea of 'Smart Urban Farming Systems' is mentioned, but there is no detailed       │\n",
       "│               │        │ description or business plan provided to assess whether it satisfies the requirement   │\n",
       "│               │        │ for a startup business proposal.                                                       │\n",
       "│               │        │                                                                                        │\n",
       "│ user_benefits │ 10     │ Smart Urban Farming Systems offer a range of benefits for different user types. For    │\n",
       "│               │        │ individual consumers, they provide access to fresh, locally-grown produce and the      │\n",
       "│               │        │ opportunity for personal involvement in food production. For businesses, such as       │\n",
       "│               │        │ restaurants and grocery stores, they offer a steady supply of fresh ingredients with   │\n",
       "│               │        │ reduced transportation costs and carbon footprint. For cities, these systems can       │\n",
       "│               │        │ contribute to sustainability goals, green space management, and local job creation.    │\n",
       "│               │        │ The idea does satisfy the requirement as it presents clear user benefits for a diverse │\n",
       "│               │        │ group of stakeholders.                                                                 │\n",
       "│               │        │                                                                                        │\n",
       "│ new_users     │ 10     │ Smart Urban Farming Systems could potentially attract a large number of new users due  │\n",
       "│               │        │ to increasing interest in sustainability, local food production, and innovative        │\n",
       "│               │        │ agricultural technology. Urban areas have limited space, and smart systems could       │\n",
       "│               │        │ optimize the use of vertical and indoor spaces for farming. Additionally, as           │\n",
       "│               │        │ populations become more aware of the environmental impact of traditional farming, the  │\n",
       "│               │        │ demand for locally grown, sustainable produce is likely to increase. This startup idea │\n",
       "│               │        │ aligns with these trends and could satisfy the requirement by leveraging technology to │\n",
       "│               │        │ meet the growing demand for efficient urban agriculture solutions.                     │\n",
       "│               │        │                                                                                        │\n",
       "└───────────────┴────────┴────────────────────────────────────────────────────────────────────────────────────────┘\n",
       "</pre>\n"
      ],
      "text/plain": [
       "┏━━━━━━━━━━━━━━━┳━━━━━━━━┳━━━━━━━━━━━━━━━━━━━━━━━━━━━━━━━━━━━━━━━━━━━━━━━━━━━━━━━━━━━━━━━━━━━━━━━━━━━━━━━━━━━━━━━━┓\n",
       "┃\u001b[1;35m \u001b[0m\u001b[1;35mRequirement  \u001b[0m\u001b[1;35m \u001b[0m┃\u001b[1;35m \u001b[0m\u001b[1;35mPoints\u001b[0m\u001b[1;35m \u001b[0m┃\u001b[1;35m \u001b[0m\u001b[1;35mIssue                                                                                 \u001b[0m\u001b[1;35m \u001b[0m┃\n",
       "┡━━━━━━━━━━━━━━━╇━━━━━━━━╇━━━━━━━━━━━━━━━━━━━━━━━━━━━━━━━━━━━━━━━━━━━━━━━━━━━━━━━━━━━━━━━━━━━━━━━━━━━━━━━━━━━━━━━━┩\n",
       "│ clear_idea    │ 10     │ The idea of 'Smart Urban Farming Systems' is mentioned, but there is no detailed       │\n",
       "│               │        │ description or business plan provided to assess whether it satisfies the requirement   │\n",
       "│               │        │ for a startup business proposal.                                                       │\n",
       "│               │        │                                                                                        │\n",
       "│ user_benefits │ 10     │ Smart Urban Farming Systems offer a range of benefits for different user types. For    │\n",
       "│               │        │ individual consumers, they provide access to fresh, locally-grown produce and the      │\n",
       "│               │        │ opportunity for personal involvement in food production. For businesses, such as       │\n",
       "│               │        │ restaurants and grocery stores, they offer a steady supply of fresh ingredients with   │\n",
       "│               │        │ reduced transportation costs and carbon footprint. For cities, these systems can       │\n",
       "│               │        │ contribute to sustainability goals, green space management, and local job creation.    │\n",
       "│               │        │ The idea does satisfy the requirement as it presents clear user benefits for a diverse │\n",
       "│               │        │ group of stakeholders.                                                                 │\n",
       "│               │        │                                                                                        │\n",
       "│ new_users     │ 10     │ Smart Urban Farming Systems could potentially attract a large number of new users due  │\n",
       "│               │        │ to increasing interest in sustainability, local food production, and innovative        │\n",
       "│               │        │ agricultural technology. Urban areas have limited space, and smart systems could       │\n",
       "│               │        │ optimize the use of vertical and indoor spaces for farming. Additionally, as           │\n",
       "│               │        │ populations become more aware of the environmental impact of traditional farming, the  │\n",
       "│               │        │ demand for locally grown, sustainable produce is likely to increase. This startup idea │\n",
       "│               │        │ aligns with these trends and could satisfy the requirement by leveraging technology to │\n",
       "│               │        │ meet the growing demand for efficient urban agriculture solutions.                     │\n",
       "│               │        │                                                                                        │\n",
       "└───────────────┴────────┴────────────────────────────────────────────────────────────────────────────────────────┘\n"
      ]
     },
     "metadata": {},
     "output_type": "display_data"
    },
    {
     "name": "stdout",
     "output_type": "stream",
     "text": [
      "Idea:  Smart Urban Farming Systems\n",
      "Persona:  You are an employee at a startup.\n",
      "Total points earned:  20\n"
     ]
    },
    {
     "data": {
      "text/html": [
       "<pre style=\"white-space:pre;overflow-x:auto;line-height:normal;font-family:Menlo,'DejaVu Sans Mono',consolas,'Courier New',monospace\">┏━━━━━━━━━━━━━━━┳━━━━━━━━┳━━━━━━━━━━━━━━━━━━━━━━━━━━━━━━━━━━━━━━━━━━━━━━━━━━━━━━━━━━━━━━━━━━━━━━━━━━━━━━━━━━━━━━━━┓\n",
       "┃<span style=\"color: #800080; text-decoration-color: #800080; font-weight: bold\"> Requirement   </span>┃<span style=\"color: #800080; text-decoration-color: #800080; font-weight: bold\"> Points </span>┃<span style=\"color: #800080; text-decoration-color: #800080; font-weight: bold\"> Issue                                                                                  </span>┃\n",
       "┡━━━━━━━━━━━━━━━╇━━━━━━━━╇━━━━━━━━━━━━━━━━━━━━━━━━━━━━━━━━━━━━━━━━━━━━━━━━━━━━━━━━━━━━━━━━━━━━━━━━━━━━━━━━━━━━━━━━┩\n",
       "│ clear_idea    │ 10     │ The idea 'Smart Urban Farming Systems' is mentioned but not described in detail,       │\n",
       "│               │        │ therefore it does not satisfy the requirement for being clear and well-written.        │\n",
       "│               │        │                                                                                        │\n",
       "│ user_benefits │ 10     │ Smart Urban Farming Systems would provide multiple benefits for different user types.  │\n",
       "│               │        │ For individual consumers, it offers access to fresh, locally grown produce, and the    │\n",
       "│               │        │ satisfaction of participating in sustainable practices. For businesses, it could mean  │\n",
       "│               │        │ a reliable source of fresh ingredients, potential cost savings, and the ability to     │\n",
       "│               │        │ market themselves as environmentally friendly. For cities and communities, it can lead │\n",
       "│               │        │ to greener urban areas, improved local food security, and potential economic           │\n",
       "│               │        │ development through new green jobs. Therefore, the idea does satisfy the requirement   │\n",
       "│               │        │ of having obvious user benefits.                                                       │\n",
       "│               │        │                                                                                        │\n",
       "│ new_users     │ 10     │ Smart Urban Farming Systems could attract a large number of new users due to the       │\n",
       "│               │        │ growing interest in sustainability, local food production, and technology integration  │\n",
       "│               │        │ in daily life. It addresses the increasing demand for fresh, organic produce and the   │\n",
       "│               │        │ desire to reduce the carbon footprint associated with traditional agriculture. By      │\n",
       "│               │        │ leveraging technology for efficient use of space and resources, such systems can       │\n",
       "│               │        │ appeal to city dwellers, environmentally conscious consumers, and those interested in  │\n",
       "│               │        │ modern farming techniques.                                                             │\n",
       "│               │        │                                                                                        │\n",
       "└───────────────┴────────┴────────────────────────────────────────────────────────────────────────────────────────┘\n",
       "</pre>\n"
      ],
      "text/plain": [
       "┏━━━━━━━━━━━━━━━┳━━━━━━━━┳━━━━━━━━━━━━━━━━━━━━━━━━━━━━━━━━━━━━━━━━━━━━━━━━━━━━━━━━━━━━━━━━━━━━━━━━━━━━━━━━━━━━━━━━┓\n",
       "┃\u001b[1;35m \u001b[0m\u001b[1;35mRequirement  \u001b[0m\u001b[1;35m \u001b[0m┃\u001b[1;35m \u001b[0m\u001b[1;35mPoints\u001b[0m\u001b[1;35m \u001b[0m┃\u001b[1;35m \u001b[0m\u001b[1;35mIssue                                                                                 \u001b[0m\u001b[1;35m \u001b[0m┃\n",
       "┡━━━━━━━━━━━━━━━╇━━━━━━━━╇━━━━━━━━━━━━━━━━━━━━━━━━━━━━━━━━━━━━━━━━━━━━━━━━━━━━━━━━━━━━━━━━━━━━━━━━━━━━━━━━━━━━━━━━┩\n",
       "│ clear_idea    │ 10     │ The idea 'Smart Urban Farming Systems' is mentioned but not described in detail,       │\n",
       "│               │        │ therefore it does not satisfy the requirement for being clear and well-written.        │\n",
       "│               │        │                                                                                        │\n",
       "│ user_benefits │ 10     │ Smart Urban Farming Systems would provide multiple benefits for different user types.  │\n",
       "│               │        │ For individual consumers, it offers access to fresh, locally grown produce, and the    │\n",
       "│               │        │ satisfaction of participating in sustainable practices. For businesses, it could mean  │\n",
       "│               │        │ a reliable source of fresh ingredients, potential cost savings, and the ability to     │\n",
       "│               │        │ market themselves as environmentally friendly. For cities and communities, it can lead │\n",
       "│               │        │ to greener urban areas, improved local food security, and potential economic           │\n",
       "│               │        │ development through new green jobs. Therefore, the idea does satisfy the requirement   │\n",
       "│               │        │ of having obvious user benefits.                                                       │\n",
       "│               │        │                                                                                        │\n",
       "│ new_users     │ 10     │ Smart Urban Farming Systems could attract a large number of new users due to the       │\n",
       "│               │        │ growing interest in sustainability, local food production, and technology integration  │\n",
       "│               │        │ in daily life. It addresses the increasing demand for fresh, organic produce and the   │\n",
       "│               │        │ desire to reduce the carbon footprint associated with traditional agriculture. By      │\n",
       "│               │        │ leveraging technology for efficient use of space and resources, such systems can       │\n",
       "│               │        │ appeal to city dwellers, environmentally conscious consumers, and those interested in  │\n",
       "│               │        │ modern farming techniques.                                                             │\n",
       "│               │        │                                                                                        │\n",
       "└───────────────┴────────┴────────────────────────────────────────────────────────────────────────────────────────┘\n"
      ]
     },
     "metadata": {},
     "output_type": "display_data"
    }
   ],
   "source": [
    "personas = [\n",
    "    \"You are a business analyst.\",\n",
    "    \"You are a venture capital investor.\",\n",
    "    \"You are an employee at a startup.\"\n",
    "]\n",
    "\n",
    "agents = [Agent(traits = {\"persona\":p} ) for p in personas]\n",
    "\n",
    "scenarios = [Scenario({\"type\":\"startup\", \"idea\":i}) for i in ideas]\n",
    "\n",
    "results = survey.by(scenarios).by(agents).run(progress_bar=True)\n",
    "\n",
    "for i in ideas:\n",
    "    for p in personas:\n",
    "        print(\"Idea: \", i)\n",
    "        print(\"Persona: \", p)\n",
    "        g = Gradesheet(results.filter(\"scenario.idea == '\" + i + \"' and agent.persona == '\" + p + \"'\")[0], requirements)\n",
    "        print(\"Total points earned: \", g.grade())\n",
    "        g.sheet()"
   ]
  }
 ],
 "metadata": {
  "deepnote_execution_queue": [],
  "deepnote_notebook_id": "7d8f8c29964c4e3eafa7491e3894f4fe",
  "kernelspec": {
   "display_name": "Python 3 (ipykernel)",
   "language": "python",
   "name": "python3"
  },
  "language_info": {
   "codemirror_mode": {
    "name": "ipython",
    "version": 3
   },
   "file_extension": ".py",
   "mimetype": "text/x-python",
   "name": "python",
   "nbconvert_exporter": "python",
   "pygments_lexer": "ipython3",
   "version": "3.11.7"
  }
 },
 "nbformat": 4,
 "nbformat_minor": 4
}
