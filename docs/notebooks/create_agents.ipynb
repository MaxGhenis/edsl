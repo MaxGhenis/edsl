{
 "cells": [
  {
   "cell_type": "markdown",
   "metadata": {
    "cell_id": "09b37ad7e58b4491b53a2e52d62ad5fd",
    "deepnote_cell_type": "markdown"
   },
   "source": [
    "# Creating Agents\n",
    "This notebook contains code for creating AI agents in `edsl`. It shows how to create `Agent` and `AgentList` objects with names, personas and other traits, and administer questions and surveys to them using large language models."
   ]
  },
  {
   "cell_type": "markdown",
   "metadata": {},
   "source": [
    "[![Open In Colab](https://colab.research.google.com/assets/colab-badge.svg)](https://colab.research.google.com/github/expectedparrot/edsl/blob/main/examples/create_agents.ipynb)"
   ]
  },
  {
   "cell_type": "code",
   "execution_count": 1,
   "metadata": {
    "cell_id": "989fd08328354d81b0b7a2fa4ee09b63",
    "deepnote_cell_type": "code"
   },
   "outputs": [],
   "source": [
    "# Install the edsl package \n",
    "# ! pip install edsl"
   ]
  },
  {
   "cell_type": "code",
   "execution_count": 2,
   "metadata": {
    "cell_id": "2dc84a41c29441289428c9b795cf3d34",
    "deepnote_cell_type": "code",
    "deepnote_to_be_reexecuted": false,
    "execution_millis": 83,
    "execution_start": 1709253534814,
    "source_hash": null
   },
   "outputs": [],
   "source": [
    "# Import the Agent class\n",
    "from edsl import Agent"
   ]
  },
  {
   "cell_type": "markdown",
   "metadata": {
    "cell_id": "d0b2deefedfa4e8388bfc86cf075bece",
    "deepnote_cell_type": "markdown"
   },
   "source": [
    "## Example agent\n",
    "Here we use the `.example()` method to create an example agent and see that it takes a dictionary of traits as arguments:"
   ]
  },
  {
   "cell_type": "code",
   "execution_count": 3,
   "metadata": {
    "cell_id": "037ba25de5754a289d51465c1e183859",
    "deepnote_cell_type": "code",
    "deepnote_to_be_reexecuted": false,
    "execution_millis": 90,
    "execution_start": 1709253546459,
    "source_hash": null
   },
   "outputs": [
    {
     "data": {
      "text/plain": [
       "Agent(traits = {'age': 22, 'hair': 'brown', 'height': 5.5})"
      ]
     },
     "execution_count": 3,
     "metadata": {},
     "output_type": "execute_result"
    }
   ],
   "source": [
    "Agent.example()"
   ]
  },
  {
   "cell_type": "markdown",
   "metadata": {
    "cell_id": "441a958386fc41eba5e6ee9413e20d92",
    "deepnote_cell_type": "markdown"
   },
   "source": [
    "## Agent personas\n",
    "We can construct a simple persona and assign it to an agent:"
   ]
  },
  {
   "cell_type": "code",
   "execution_count": 4,
   "metadata": {
    "cell_id": "306c045878a24e8299c1bf45fec15103",
    "deepnote_cell_type": "code",
    "deepnote_to_be_reexecuted": false,
    "execution_millis": 90,
    "execution_start": 1709253724705,
    "source_hash": null
   },
   "outputs": [],
   "source": [
    "agent = Agent(traits = {\"persona\": \"You are a middle-aged mom.\"})"
   ]
  },
  {
   "cell_type": "markdown",
   "metadata": {
    "cell_id": "1aa4f614096a420b8e2e3b38bba9cc69",
    "deepnote_cell_type": "markdown"
   },
   "source": [
    "## Agent names\n",
    "We can optionally give our agent a name for easy reference:"
   ]
  },
  {
   "cell_type": "code",
   "execution_count": 5,
   "metadata": {
    "cell_id": "369f5c14f158437ab7a4991ac040460a",
    "deepnote_cell_type": "code",
    "deepnote_to_be_reexecuted": false,
    "execution_millis": 38,
    "execution_start": 1709253726241,
    "source_hash": null
   },
   "outputs": [],
   "source": [
    "agent = Agent(name = \"Robin\", traits = {\"persona\": \"You are a middle-aged mom.\"})"
   ]
  },
  {
   "cell_type": "markdown",
   "metadata": {
    "cell_id": "b160988224fc47d3a1ecaaf947564d86",
    "deepnote_cell_type": "markdown"
   },
   "source": [
    "## Agent panels\n",
    "We can create panels of agents for lists of traits that we want represented individually:"
   ]
  },
  {
   "cell_type": "code",
   "execution_count": 6,
   "metadata": {},
   "outputs": [],
   "source": [
    "locations = [\"Massachusetts\", \"California\"]\n",
    "ages = [45, 55]"
   ]
  },
  {
   "cell_type": "code",
   "execution_count": 7,
   "metadata": {
    "cell_id": "b420d349cfbe46518c72a7f1a9ce0d4f",
    "deepnote_cell_type": "code",
    "deepnote_to_be_reexecuted": false,
    "execution_millis": 68,
    "execution_start": 1709253888411,
    "source_hash": null
   },
   "outputs": [
    {
     "data": {
      "text/plain": [
       "[Agent(traits = {'persona': 'You are a middle-aged mom.', 'location': 'Massachusetts', 'age': 45}),\n",
       " Agent(traits = {'persona': 'You are a middle-aged mom.', 'location': 'California', 'age': 45}),\n",
       " Agent(traits = {'persona': 'You are a middle-aged mom.', 'location': 'Massachusetts', 'age': 55}),\n",
       " Agent(traits = {'persona': 'You are a middle-aged mom.', 'location': 'California', 'age': 55})]"
      ]
     },
     "execution_count": 7,
     "metadata": {},
     "output_type": "execute_result"
    }
   ],
   "source": [
    "agents = [Agent(traits = {\n",
    "    \"persona\": \"You are a middle-aged mom.\", \n",
    "    \"location\": location,\n",
    "    \"age\": age\n",
    "}) for age in ages for location in locations]\n",
    "\n",
    "agents"
   ]
  },
  {
   "cell_type": "markdown",
   "metadata": {
    "cell_id": "5b74248baf394d27b5bceda6557490a8",
    "deepnote_cell_type": "markdown"
   },
   "source": [
    "## AgentList\n",
    "`AgentList` also lets us create panels efficiently:"
   ]
  },
  {
   "cell_type": "code",
   "execution_count": 8,
   "metadata": {
    "cell_id": "d764cfc45aa446c78ce628e578235c8b",
    "deepnote_cell_type": "code",
    "deepnote_to_be_reexecuted": false,
    "execution_millis": 43,
    "execution_start": 1709254109013,
    "source_hash": null
   },
   "outputs": [],
   "source": [
    "from edsl import AgentList"
   ]
  },
  {
   "cell_type": "code",
   "execution_count": 9,
   "metadata": {
    "cell_id": "54a822323e1d465ca7f2bafb5cff9e90",
    "deepnote_cell_type": "code",
    "deepnote_to_be_reexecuted": false,
    "execution_millis": 52,
    "execution_start": 1709255050621,
    "source_hash": null
   },
   "outputs": [],
   "source": [
    "ages = [25, 75]\n",
    "occupations = [\"engineer\", \"novelist\"]\n",
    "agent_traits = [{\"age\":age, \"occupation\":occupation} for age in ages for occupation in occupations]"
   ]
  },
  {
   "cell_type": "code",
   "execution_count": 10,
   "metadata": {
    "cell_id": "e9a110ea585c46268c42b167af0495f4",
    "deepnote_cell_type": "code",
    "deepnote_to_be_reexecuted": false,
    "execution_millis": 76,
    "execution_start": 1709255052357,
    "source_hash": null
   },
   "outputs": [],
   "source": [
    "agent_list = AgentList([Agent(traits = traits, name = f\"Agent_{index}\") for index, traits in enumerate(agent_traits)])"
   ]
  },
  {
   "cell_type": "code",
   "execution_count": 11,
   "metadata": {
    "cell_id": "eb922cbef240435189746b1ca3495737",
    "deepnote_cell_type": "code",
    "deepnote_to_be_reexecuted": false,
    "execution_millis": 120,
    "execution_start": 1709255053715,
    "source_hash": null
   },
   "outputs": [
    {
     "data": {
      "text/plain": [
       "AgentList([Agent(name = 'Agent_0', traits = {'age': 25, 'occupation': 'engineer'}),\n",
       "           Agent(name = 'Agent_1', traits = {'age': 25, 'occupation': 'novelist'}),\n",
       "           Agent(name = 'Agent_2', traits = {'age': 75, 'occupation': 'engineer'}),\n",
       "           Agent(name = 'Agent_3', traits = {'age': 75, 'occupation': 'novelist'})])"
      ]
     },
     "execution_count": 11,
     "metadata": {},
     "output_type": "execute_result"
    }
   ],
   "source": [
    "agent_list"
   ]
  },
  {
   "cell_type": "markdown",
   "metadata": {
    "cell_id": "50db021e5caa4d448bc82f2ecda08b70",
    "deepnote_cell_type": "markdown"
   },
   "source": [
    "## Administering questions to agents\n",
    "We use the `by()` method to administer questions to agents, individually or collectively. Here we create a question, administer it to the agent panel created above and then inspect the results.\n",
    "\n",
    "Read more about creating different <a href=\"https://docs.expectedparrot.com/en/latest/questions.html#\">Question Types</a> and <a href=\"https://docs.expectedparrot.com/en/latest/surveys.html#\">Surveys</a>."
   ]
  },
  {
   "cell_type": "code",
   "execution_count": 12,
   "metadata": {
    "cell_id": "ab797f4584f04d8487a12da485556e58",
    "deepnote_cell_type": "code",
    "deepnote_to_be_reexecuted": false,
    "execution_millis": 4627,
    "execution_start": 1709255061690,
    "source_hash": null
   },
   "outputs": [],
   "source": [
    "from edsl.questions import QuestionFreeText\n",
    "\n",
    "q = QuestionFreeText(\n",
    "    question_name = \"experience\",\n",
    "    question_text = \"How have you experienced developments in artificial intelligence?\"\n",
    ")\n",
    "\n",
    "result = q.by(agent_list).run()"
   ]
  },
  {
   "cell_type": "code",
   "execution_count": 13,
   "metadata": {
    "cell_id": "bcb1e99351c24adea28d0fe0d2d8f471",
    "deepnote_cell_type": "code",
    "deepnote_to_be_reexecuted": false,
    "execution_millis": 182,
    "execution_start": 1709255074655,
    "source_hash": null
   },
   "outputs": [
    {
     "data": {
      "text/html": [
       "<pre style=\"white-space:pre;overflow-x:auto;line-height:normal;font-family:Menlo,'DejaVu Sans Mono',consolas,'Courier New',monospace\">┏━━━━━━━┳━━━━━━━━━━━━━┳━━━━━━━━━━━━━━━━━━━━━━━━━━━━━━━━━━━━━━━━━━━━━━━━━━━━━━━━━━━━━━━━━━━━━━━━━━━━━━━━━━━━━━━━━━━┓\n",
       "┃<span style=\"color: #800080; text-decoration-color: #800080; font-weight: bold\"> agent </span>┃<span style=\"color: #800080; text-decoration-color: #800080; font-weight: bold\"> agent       </span>┃<span style=\"color: #800080; text-decoration-color: #800080; font-weight: bold\"> answer                                                                                    </span>┃\n",
       "┃<span style=\"color: #800080; text-decoration-color: #800080; font-weight: bold\"> .age  </span>┃<span style=\"color: #800080; text-decoration-color: #800080; font-weight: bold\"> .occupation </span>┃<span style=\"color: #800080; text-decoration-color: #800080; font-weight: bold\"> .experience                                                                               </span>┃\n",
       "┡━━━━━━━╇━━━━━━━━━━━━━╇━━━━━━━━━━━━━━━━━━━━━━━━━━━━━━━━━━━━━━━━━━━━━━━━━━━━━━━━━━━━━━━━━━━━━━━━━━━━━━━━━━━━━━━━━━━┩\n",
       "│<span style=\"color: #7f7f7f; text-decoration-color: #7f7f7f\"> 25    </span>│<span style=\"color: #7f7f7f; text-decoration-color: #7f7f7f\"> engineer    </span>│<span style=\"color: #7f7f7f; text-decoration-color: #7f7f7f\"> Throughout my career as an engineer, I've witnessed significant advancements in           </span>│\n",
       "│<span style=\"color: #7f7f7f; text-decoration-color: #7f7f7f\">       </span>│<span style=\"color: #7f7f7f; text-decoration-color: #7f7f7f\">             </span>│<span style=\"color: #7f7f7f; text-decoration-color: #7f7f7f\"> artificial intelligence that have impacted both my professional and personal life. In the </span>│\n",
       "│<span style=\"color: #7f7f7f; text-decoration-color: #7f7f7f\">       </span>│<span style=\"color: #7f7f7f; text-decoration-color: #7f7f7f\">             </span>│<span style=\"color: #7f7f7f; text-decoration-color: #7f7f7f\"> workplace, I've seen AI being integrated into various systems and processes, enhancing    </span>│\n",
       "│<span style=\"color: #7f7f7f; text-decoration-color: #7f7f7f\">       </span>│<span style=\"color: #7f7f7f; text-decoration-color: #7f7f7f\">             </span>│<span style=\"color: #7f7f7f; text-decoration-color: #7f7f7f\"> efficiency and enabling us to solve complex problems more effectively. For instance, we   </span>│\n",
       "│<span style=\"color: #7f7f7f; text-decoration-color: #7f7f7f\">       </span>│<span style=\"color: #7f7f7f; text-decoration-color: #7f7f7f\">             </span>│<span style=\"color: #7f7f7f; text-decoration-color: #7f7f7f\"> now use machine learning algorithms to predict equipment failures and optimize            </span>│\n",
       "│<span style=\"color: #7f7f7f; text-decoration-color: #7f7f7f\">       </span>│<span style=\"color: #7f7f7f; text-decoration-color: #7f7f7f\">             </span>│<span style=\"color: #7f7f7f; text-decoration-color: #7f7f7f\"> maintenance schedules. Personally, I've experienced AI through smart home devices,        </span>│\n",
       "│<span style=\"color: #7f7f7f; text-decoration-color: #7f7f7f\">       </span>│<span style=\"color: #7f7f7f; text-decoration-color: #7f7f7f\">             </span>│<span style=\"color: #7f7f7f; text-decoration-color: #7f7f7f\"> virtual assistants, and even in the way social media platforms curate content. The        </span>│\n",
       "│<span style=\"color: #7f7f7f; text-decoration-color: #7f7f7f\">       </span>│<span style=\"color: #7f7f7f; text-decoration-color: #7f7f7f\">             </span>│<span style=\"color: #7f7f7f; text-decoration-color: #7f7f7f\"> evolution of AI has been rapid and transformative, and it continues to shape the way we   </span>│\n",
       "│<span style=\"color: #7f7f7f; text-decoration-color: #7f7f7f\">       </span>│<span style=\"color: #7f7f7f; text-decoration-color: #7f7f7f\">             </span>│<span style=\"color: #7f7f7f; text-decoration-color: #7f7f7f\"> interact with technology.                                                                 </span>│\n",
       "├───────┼─────────────┼───────────────────────────────────────────────────────────────────────────────────────────┤\n",
       "│<span style=\"color: #7f7f7f; text-decoration-color: #7f7f7f\"> 25    </span>│<span style=\"color: #7f7f7f; text-decoration-color: #7f7f7f\"> novelist    </span>│<span style=\"color: #7f7f7f; text-decoration-color: #7f7f7f\"> As a novelist, I've experienced developments in artificial intelligence primarily through </span>│\n",
       "│<span style=\"color: #7f7f7f; text-decoration-color: #7f7f7f\">       </span>│<span style=\"color: #7f7f7f; text-decoration-color: #7f7f7f\">             </span>│<span style=\"color: #7f7f7f; text-decoration-color: #7f7f7f\"> their impact on the creative industries. AI has become a tool for generating ideas,       </span>│\n",
       "│<span style=\"color: #7f7f7f; text-decoration-color: #7f7f7f\">       </span>│<span style=\"color: #7f7f7f; text-decoration-color: #7f7f7f\">             </span>│<span style=\"color: #7f7f7f; text-decoration-color: #7f7f7f\"> assisting with language processing, and even suggesting plot developments. I've also seen </span>│\n",
       "│<span style=\"color: #7f7f7f; text-decoration-color: #7f7f7f\">       </span>│<span style=\"color: #7f7f7f; text-decoration-color: #7f7f7f\">             </span>│<span style=\"color: #7f7f7f; text-decoration-color: #7f7f7f\"> AI being used to create more interactive and personalized storytelling experiences for    </span>│\n",
       "│<span style=\"color: #7f7f7f; text-decoration-color: #7f7f7f\">       </span>│<span style=\"color: #7f7f7f; text-decoration-color: #7f7f7f\">             </span>│<span style=\"color: #7f7f7f; text-decoration-color: #7f7f7f\"> readers. Additionally, AI-driven platforms have helped with market analysis, identifying  </span>│\n",
       "│<span style=\"color: #7f7f7f; text-decoration-color: #7f7f7f\">       </span>│<span style=\"color: #7f7f7f; text-decoration-color: #7f7f7f\">             </span>│<span style=\"color: #7f7f7f; text-decoration-color: #7f7f7f\"> reader preferences, and even in the editing process of manuscripts by suggesting          </span>│\n",
       "│<span style=\"color: #7f7f7f; text-decoration-color: #7f7f7f\">       </span>│<span style=\"color: #7f7f7f; text-decoration-color: #7f7f7f\">             </span>│<span style=\"color: #7f7f7f; text-decoration-color: #7f7f7f\"> grammatical corrections and stylistic improvements. It's both an exciting and daunting    </span>│\n",
       "│<span style=\"color: #7f7f7f; text-decoration-color: #7f7f7f\">       </span>│<span style=\"color: #7f7f7f; text-decoration-color: #7f7f7f\">             </span>│<span style=\"color: #7f7f7f; text-decoration-color: #7f7f7f\"> time to be a writer with the rise of AI.                                                  </span>│\n",
       "├───────┼─────────────┼───────────────────────────────────────────────────────────────────────────────────────────┤\n",
       "│<span style=\"color: #7f7f7f; text-decoration-color: #7f7f7f\"> 75    </span>│<span style=\"color: #7f7f7f; text-decoration-color: #7f7f7f\"> engineer    </span>│<span style=\"color: #7f7f7f; text-decoration-color: #7f7f7f\"> Throughout my career as an engineer, I've witnessed a remarkable evolution in artificial  </span>│\n",
       "│<span style=\"color: #7f7f7f; text-decoration-color: #7f7f7f\">       </span>│<span style=\"color: #7f7f7f; text-decoration-color: #7f7f7f\">             </span>│<span style=\"color: #7f7f7f; text-decoration-color: #7f7f7f\"> intelligence. It began with simple algorithms and rule-based systems that could perform   </span>│\n",
       "│<span style=\"color: #7f7f7f; text-decoration-color: #7f7f7f\">       </span>│<span style=\"color: #7f7f7f; text-decoration-color: #7f7f7f\">             </span>│<span style=\"color: #7f7f7f; text-decoration-color: #7f7f7f\"> basic tasks. Over the years, AI has grown exponentially more complex, integrating machine </span>│\n",
       "│<span style=\"color: #7f7f7f; text-decoration-color: #7f7f7f\">       </span>│<span style=\"color: #7f7f7f; text-decoration-color: #7f7f7f\">             </span>│<span style=\"color: #7f7f7f; text-decoration-color: #7f7f7f\"> learning and deep learning, which has allowed systems to learn from data, identify        </span>│\n",
       "│<span style=\"color: #7f7f7f; text-decoration-color: #7f7f7f\">       </span>│<span style=\"color: #7f7f7f; text-decoration-color: #7f7f7f\">             </span>│<span style=\"color: #7f7f7f; text-decoration-color: #7f7f7f\"> patterns, and make decisions with minimal human intervention. I've seen AI applications   </span>│\n",
       "│<span style=\"color: #7f7f7f; text-decoration-color: #7f7f7f\">       </span>│<span style=\"color: #7f7f7f; text-decoration-color: #7f7f7f\">             </span>│<span style=\"color: #7f7f7f; text-decoration-color: #7f7f7f\"> expand from theoretical research into practical uses in various industries, including     </span>│\n",
       "│<span style=\"color: #7f7f7f; text-decoration-color: #7f7f7f\">       </span>│<span style=\"color: #7f7f7f; text-decoration-color: #7f7f7f\">             </span>│<span style=\"color: #7f7f7f; text-decoration-color: #7f7f7f\"> manufacturing, healthcare, and transportation. The sophistication of natural language     </span>│\n",
       "│<span style=\"color: #7f7f7f; text-decoration-color: #7f7f7f\">       </span>│<span style=\"color: #7f7f7f; text-decoration-color: #7f7f7f\">             </span>│<span style=\"color: #7f7f7f; text-decoration-color: #7f7f7f\"> processing and robotics has particularly impressed me, as they've become capable of       </span>│\n",
       "│<span style=\"color: #7f7f7f; text-decoration-color: #7f7f7f\">       </span>│<span style=\"color: #7f7f7f; text-decoration-color: #7f7f7f\">             </span>│<span style=\"color: #7f7f7f; text-decoration-color: #7f7f7f\"> understanding and interacting in ways that were once purely science fiction.              </span>│\n",
       "├───────┼─────────────┼───────────────────────────────────────────────────────────────────────────────────────────┤\n",
       "│<span style=\"color: #7f7f7f; text-decoration-color: #7f7f7f\"> 75    </span>│<span style=\"color: #7f7f7f; text-decoration-color: #7f7f7f\"> novelist    </span>│<span style=\"color: #7f7f7f; text-decoration-color: #7f7f7f\"> Over the years, I've witnessed remarkable advancements in artificial intelligence that    </span>│\n",
       "│<span style=\"color: #7f7f7f; text-decoration-color: #7f7f7f\">       </span>│<span style=\"color: #7f7f7f; text-decoration-color: #7f7f7f\">             </span>│<span style=\"color: #7f7f7f; text-decoration-color: #7f7f7f\"> have truly changed the landscape of technology and creativity. When I first began         </span>│\n",
       "│<span style=\"color: #7f7f7f; text-decoration-color: #7f7f7f\">       </span>│<span style=\"color: #7f7f7f; text-decoration-color: #7f7f7f\">             </span>│<span style=\"color: #7f7f7f; text-decoration-color: #7f7f7f\"> writing, typewriters and then word processors were the height of technology. Now, AI can  </span>│\n",
       "│<span style=\"color: #7f7f7f; text-decoration-color: #7f7f7f\">       </span>│<span style=\"color: #7f7f7f; text-decoration-color: #7f7f7f\">             </span>│<span style=\"color: #7f7f7f; text-decoration-color: #7f7f7f\"> assist in writing, provide feedback, and even generate creative content, which is both    </span>│\n",
       "│<span style=\"color: #7f7f7f; text-decoration-color: #7f7f7f\">       </span>│<span style=\"color: #7f7f7f; text-decoration-color: #7f7f7f\">             </span>│<span style=\"color: #7f7f7f; text-decoration-color: #7f7f7f\"> inspiring and a bit daunting. The way AI can analyze data and predict trends is also      </span>│\n",
       "│<span style=\"color: #7f7f7f; text-decoration-color: #7f7f7f\">       </span>│<span style=\"color: #7f7f7f; text-decoration-color: #7f7f7f\">             </span>│<span style=\"color: #7f7f7f; text-decoration-color: #7f7f7f\"> astonishing, influencing how narratives can be tailored to audiences. The development of  </span>│\n",
       "│<span style=\"color: #7f7f7f; text-decoration-color: #7f7f7f\">       </span>│<span style=\"color: #7f7f7f; text-decoration-color: #7f7f7f\">             </span>│<span style=\"color: #7f7f7f; text-decoration-color: #7f7f7f\"> AI characters and virtual worlds has opened new avenues for storytelling, allowing        </span>│\n",
       "│<span style=\"color: #7f7f7f; text-decoration-color: #7f7f7f\">       </span>│<span style=\"color: #7f7f7f; text-decoration-color: #7f7f7f\">             </span>│<span style=\"color: #7f7f7f; text-decoration-color: #7f7f7f\"> readers to immerse themselves in stories in ways I never imagined when I started my       </span>│\n",
       "│<span style=\"color: #7f7f7f; text-decoration-color: #7f7f7f\">       </span>│<span style=\"color: #7f7f7f; text-decoration-color: #7f7f7f\">             </span>│<span style=\"color: #7f7f7f; text-decoration-color: #7f7f7f\"> career. It's been a fascinating journey to see these technologies evolve and become tools </span>│\n",
       "│<span style=\"color: #7f7f7f; text-decoration-color: #7f7f7f\">       </span>│<span style=\"color: #7f7f7f; text-decoration-color: #7f7f7f\">             </span>│<span style=\"color: #7f7f7f; text-decoration-color: #7f7f7f\"> that I, as a novelist, can use to enhance my craft.                                       </span>│\n",
       "└───────┴─────────────┴───────────────────────────────────────────────────────────────────────────────────────────┘\n",
       "</pre>\n"
      ],
      "text/plain": [
       "┏━━━━━━━┳━━━━━━━━━━━━━┳━━━━━━━━━━━━━━━━━━━━━━━━━━━━━━━━━━━━━━━━━━━━━━━━━━━━━━━━━━━━━━━━━━━━━━━━━━━━━━━━━━━━━━━━━━━┓\n",
       "┃\u001b[1;35m \u001b[0m\u001b[1;35magent\u001b[0m\u001b[1;35m \u001b[0m┃\u001b[1;35m \u001b[0m\u001b[1;35magent      \u001b[0m\u001b[1;35m \u001b[0m┃\u001b[1;35m \u001b[0m\u001b[1;35manswer                                                                                   \u001b[0m\u001b[1;35m \u001b[0m┃\n",
       "┃\u001b[1;35m \u001b[0m\u001b[1;35m.age \u001b[0m\u001b[1;35m \u001b[0m┃\u001b[1;35m \u001b[0m\u001b[1;35m.occupation\u001b[0m\u001b[1;35m \u001b[0m┃\u001b[1;35m \u001b[0m\u001b[1;35m.experience                                                                              \u001b[0m\u001b[1;35m \u001b[0m┃\n",
       "┡━━━━━━━╇━━━━━━━━━━━━━╇━━━━━━━━━━━━━━━━━━━━━━━━━━━━━━━━━━━━━━━━━━━━━━━━━━━━━━━━━━━━━━━━━━━━━━━━━━━━━━━━━━━━━━━━━━━┩\n",
       "│\u001b[2m \u001b[0m\u001b[2m25   \u001b[0m\u001b[2m \u001b[0m│\u001b[2m \u001b[0m\u001b[2mengineer   \u001b[0m\u001b[2m \u001b[0m│\u001b[2m \u001b[0m\u001b[2mThroughout my career as an engineer, I've witnessed significant advancements in          \u001b[0m\u001b[2m \u001b[0m│\n",
       "│\u001b[2m       \u001b[0m│\u001b[2m             \u001b[0m│\u001b[2m \u001b[0m\u001b[2martificial intelligence that have impacted both my professional and personal life. In the\u001b[0m\u001b[2m \u001b[0m│\n",
       "│\u001b[2m       \u001b[0m│\u001b[2m             \u001b[0m│\u001b[2m \u001b[0m\u001b[2mworkplace, I've seen AI being integrated into various systems and processes, enhancing   \u001b[0m\u001b[2m \u001b[0m│\n",
       "│\u001b[2m       \u001b[0m│\u001b[2m             \u001b[0m│\u001b[2m \u001b[0m\u001b[2mefficiency and enabling us to solve complex problems more effectively. For instance, we  \u001b[0m\u001b[2m \u001b[0m│\n",
       "│\u001b[2m       \u001b[0m│\u001b[2m             \u001b[0m│\u001b[2m \u001b[0m\u001b[2mnow use machine learning algorithms to predict equipment failures and optimize           \u001b[0m\u001b[2m \u001b[0m│\n",
       "│\u001b[2m       \u001b[0m│\u001b[2m             \u001b[0m│\u001b[2m \u001b[0m\u001b[2mmaintenance schedules. Personally, I've experienced AI through smart home devices,       \u001b[0m\u001b[2m \u001b[0m│\n",
       "│\u001b[2m       \u001b[0m│\u001b[2m             \u001b[0m│\u001b[2m \u001b[0m\u001b[2mvirtual assistants, and even in the way social media platforms curate content. The       \u001b[0m\u001b[2m \u001b[0m│\n",
       "│\u001b[2m       \u001b[0m│\u001b[2m             \u001b[0m│\u001b[2m \u001b[0m\u001b[2mevolution of AI has been rapid and transformative, and it continues to shape the way we  \u001b[0m\u001b[2m \u001b[0m│\n",
       "│\u001b[2m       \u001b[0m│\u001b[2m             \u001b[0m│\u001b[2m \u001b[0m\u001b[2minteract with technology.                                                                \u001b[0m\u001b[2m \u001b[0m│\n",
       "├───────┼─────────────┼───────────────────────────────────────────────────────────────────────────────────────────┤\n",
       "│\u001b[2m \u001b[0m\u001b[2m25   \u001b[0m\u001b[2m \u001b[0m│\u001b[2m \u001b[0m\u001b[2mnovelist   \u001b[0m\u001b[2m \u001b[0m│\u001b[2m \u001b[0m\u001b[2mAs a novelist, I've experienced developments in artificial intelligence primarily through\u001b[0m\u001b[2m \u001b[0m│\n",
       "│\u001b[2m       \u001b[0m│\u001b[2m             \u001b[0m│\u001b[2m \u001b[0m\u001b[2mtheir impact on the creative industries. AI has become a tool for generating ideas,      \u001b[0m\u001b[2m \u001b[0m│\n",
       "│\u001b[2m       \u001b[0m│\u001b[2m             \u001b[0m│\u001b[2m \u001b[0m\u001b[2massisting with language processing, and even suggesting plot developments. I've also seen\u001b[0m\u001b[2m \u001b[0m│\n",
       "│\u001b[2m       \u001b[0m│\u001b[2m             \u001b[0m│\u001b[2m \u001b[0m\u001b[2mAI being used to create more interactive and personalized storytelling experiences for   \u001b[0m\u001b[2m \u001b[0m│\n",
       "│\u001b[2m       \u001b[0m│\u001b[2m             \u001b[0m│\u001b[2m \u001b[0m\u001b[2mreaders. Additionally, AI-driven platforms have helped with market analysis, identifying \u001b[0m\u001b[2m \u001b[0m│\n",
       "│\u001b[2m       \u001b[0m│\u001b[2m             \u001b[0m│\u001b[2m \u001b[0m\u001b[2mreader preferences, and even in the editing process of manuscripts by suggesting         \u001b[0m\u001b[2m \u001b[0m│\n",
       "│\u001b[2m       \u001b[0m│\u001b[2m             \u001b[0m│\u001b[2m \u001b[0m\u001b[2mgrammatical corrections and stylistic improvements. It's both an exciting and daunting   \u001b[0m\u001b[2m \u001b[0m│\n",
       "│\u001b[2m       \u001b[0m│\u001b[2m             \u001b[0m│\u001b[2m \u001b[0m\u001b[2mtime to be a writer with the rise of AI.                                                 \u001b[0m\u001b[2m \u001b[0m│\n",
       "├───────┼─────────────┼───────────────────────────────────────────────────────────────────────────────────────────┤\n",
       "│\u001b[2m \u001b[0m\u001b[2m75   \u001b[0m\u001b[2m \u001b[0m│\u001b[2m \u001b[0m\u001b[2mengineer   \u001b[0m\u001b[2m \u001b[0m│\u001b[2m \u001b[0m\u001b[2mThroughout my career as an engineer, I've witnessed a remarkable evolution in artificial \u001b[0m\u001b[2m \u001b[0m│\n",
       "│\u001b[2m       \u001b[0m│\u001b[2m             \u001b[0m│\u001b[2m \u001b[0m\u001b[2mintelligence. It began with simple algorithms and rule-based systems that could perform  \u001b[0m\u001b[2m \u001b[0m│\n",
       "│\u001b[2m       \u001b[0m│\u001b[2m             \u001b[0m│\u001b[2m \u001b[0m\u001b[2mbasic tasks. Over the years, AI has grown exponentially more complex, integrating machine\u001b[0m\u001b[2m \u001b[0m│\n",
       "│\u001b[2m       \u001b[0m│\u001b[2m             \u001b[0m│\u001b[2m \u001b[0m\u001b[2mlearning and deep learning, which has allowed systems to learn from data, identify       \u001b[0m\u001b[2m \u001b[0m│\n",
       "│\u001b[2m       \u001b[0m│\u001b[2m             \u001b[0m│\u001b[2m \u001b[0m\u001b[2mpatterns, and make decisions with minimal human intervention. I've seen AI applications  \u001b[0m\u001b[2m \u001b[0m│\n",
       "│\u001b[2m       \u001b[0m│\u001b[2m             \u001b[0m│\u001b[2m \u001b[0m\u001b[2mexpand from theoretical research into practical uses in various industries, including    \u001b[0m\u001b[2m \u001b[0m│\n",
       "│\u001b[2m       \u001b[0m│\u001b[2m             \u001b[0m│\u001b[2m \u001b[0m\u001b[2mmanufacturing, healthcare, and transportation. The sophistication of natural language    \u001b[0m\u001b[2m \u001b[0m│\n",
       "│\u001b[2m       \u001b[0m│\u001b[2m             \u001b[0m│\u001b[2m \u001b[0m\u001b[2mprocessing and robotics has particularly impressed me, as they've become capable of      \u001b[0m\u001b[2m \u001b[0m│\n",
       "│\u001b[2m       \u001b[0m│\u001b[2m             \u001b[0m│\u001b[2m \u001b[0m\u001b[2munderstanding and interacting in ways that were once purely science fiction.             \u001b[0m\u001b[2m \u001b[0m│\n",
       "├───────┼─────────────┼───────────────────────────────────────────────────────────────────────────────────────────┤\n",
       "│\u001b[2m \u001b[0m\u001b[2m75   \u001b[0m\u001b[2m \u001b[0m│\u001b[2m \u001b[0m\u001b[2mnovelist   \u001b[0m\u001b[2m \u001b[0m│\u001b[2m \u001b[0m\u001b[2mOver the years, I've witnessed remarkable advancements in artificial intelligence that   \u001b[0m\u001b[2m \u001b[0m│\n",
       "│\u001b[2m       \u001b[0m│\u001b[2m             \u001b[0m│\u001b[2m \u001b[0m\u001b[2mhave truly changed the landscape of technology and creativity. When I first began        \u001b[0m\u001b[2m \u001b[0m│\n",
       "│\u001b[2m       \u001b[0m│\u001b[2m             \u001b[0m│\u001b[2m \u001b[0m\u001b[2mwriting, typewriters and then word processors were the height of technology. Now, AI can \u001b[0m\u001b[2m \u001b[0m│\n",
       "│\u001b[2m       \u001b[0m│\u001b[2m             \u001b[0m│\u001b[2m \u001b[0m\u001b[2massist in writing, provide feedback, and even generate creative content, which is both   \u001b[0m\u001b[2m \u001b[0m│\n",
       "│\u001b[2m       \u001b[0m│\u001b[2m             \u001b[0m│\u001b[2m \u001b[0m\u001b[2minspiring and a bit daunting. The way AI can analyze data and predict trends is also     \u001b[0m\u001b[2m \u001b[0m│\n",
       "│\u001b[2m       \u001b[0m│\u001b[2m             \u001b[0m│\u001b[2m \u001b[0m\u001b[2mastonishing, influencing how narratives can be tailored to audiences. The development of \u001b[0m\u001b[2m \u001b[0m│\n",
       "│\u001b[2m       \u001b[0m│\u001b[2m             \u001b[0m│\u001b[2m \u001b[0m\u001b[2mAI characters and virtual worlds has opened new avenues for storytelling, allowing       \u001b[0m\u001b[2m \u001b[0m│\n",
       "│\u001b[2m       \u001b[0m│\u001b[2m             \u001b[0m│\u001b[2m \u001b[0m\u001b[2mreaders to immerse themselves in stories in ways I never imagined when I started my      \u001b[0m\u001b[2m \u001b[0m│\n",
       "│\u001b[2m       \u001b[0m│\u001b[2m             \u001b[0m│\u001b[2m \u001b[0m\u001b[2mcareer. It's been a fascinating journey to see these technologies evolve and become tools\u001b[0m\u001b[2m \u001b[0m│\n",
       "│\u001b[2m       \u001b[0m│\u001b[2m             \u001b[0m│\u001b[2m \u001b[0m\u001b[2mthat I, as a novelist, can use to enhance my craft.                                      \u001b[0m\u001b[2m \u001b[0m│\n",
       "└───────┴─────────────┴───────────────────────────────────────────────────────────────────────────────────────────┘\n"
      ]
     },
     "metadata": {},
     "output_type": "display_data"
    }
   ],
   "source": [
    "result.select(\"age\", \"occupation\", \"experience\").print()"
   ]
  },
  {
   "cell_type": "markdown",
   "metadata": {
    "cell_id": "057690405b0844bebfae34c4a52dd28e",
    "deepnote_cell_type": "markdown"
   },
   "source": [
    "---\n",
    "<p style=\"font-size: 14px;\">Copyright © 2024 Expected Parrot, Inc. All rights reserved.   <a href=\"www.expectedparrot.com\" style=\"color:#130061\">www.expectedparrot.com</a></p>"
   ]
  }
 ],
 "metadata": {
  "deepnote_execution_queue": [],
  "deepnote_notebook_id": "7b70a3e973754f18b791250db5bd7933",
  "deepnote_persisted_session": {
   "createdAt": "2024-03-01T02:04:44.169Z"
  },
  "kernelspec": {
   "display_name": "Python 3 (ipykernel)",
   "language": "python",
   "name": "python3"
  },
  "language_info": {
   "codemirror_mode": {
    "name": "ipython",
    "version": 3
   },
   "file_extension": ".py",
   "mimetype": "text/x-python",
   "name": "python",
   "nbconvert_exporter": "python",
   "pygments_lexer": "ipython3",
   "version": "3.11.7"
  }
 },
 "nbformat": 4,
 "nbformat_minor": 4
}
