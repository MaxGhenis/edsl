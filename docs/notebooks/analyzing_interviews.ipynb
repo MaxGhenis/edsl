{
 "cells": [
  {
   "cell_type": "markdown",
   "id": "0ba1995f-ef02-4bc8-85ee-3477269cfd5d",
   "metadata": {
    "editable": true,
    "slideshow": {
     "slide_type": ""
    },
    "tags": []
   },
   "source": [
    "# Analyzing interviews\n",
    "This notebook provides sample [EDSL](https://docs.expectedparrot.com/) code for using a language model to analyze themes and other qualitative content in interviews. The task is designed as a survey about a set of interview transcripts that is answered by a language model, generating responses in the form of a summary dataset.\n",
    "\n",
    "[EDSL is an open-source library](https://github.com/expectedparrot/edsl) for simulating surveys, experiments and other research with AI agents and large language models. \n",
    "Before running the code below, please ensure that you have [installed the EDSL library](https://docs.expectedparrot.com/en/latest/installation.html) and either [activated remote inference](https://docs.expectedparrot.com/en/latest/remote_inference.html) from your [Coop account](https://docs.expectedparrot.com/en/latest/coop.html) or [stored API keys](https://docs.expectedparrot.com/en/latest/api_keys.html) for the language models that you want to use with EDSL. Please also see our [documentation page](https://docs.expectedparrot.com/) for tips and tutorials on getting started using EDSL."
   ]
  },
  {
   "cell_type": "markdown",
   "id": "f32750af-d7dc-4d3e-8005-7f4f8b1d9f72",
   "metadata": {
    "editable": true,
    "slideshow": {
     "slide_type": ""
    },
    "tags": []
   },
   "source": [
    "## Example\n",
    "Say we have a set of exit interview transcripts:"
   ]
  },
  {
   "cell_type": "code",
   "execution_count": 1,
   "id": "0c868e83-5596-4ee9-9756-eda3062fdd33",
   "metadata": {
    "editable": true,
    "slideshow": {
     "slide_type": ""
    },
    "tags": []
   },
   "outputs": [],
   "source": [
    "exit_interviews = {\n",
    "    \"id\": [\n",
    "        1, 2, 3, 4, 5, 6, 7, 8, 9, 10,\n",
    "        11, 12, 13, 14, 15, 16, 17, 18, 19, 20\n",
    "    ],\n",
    "    \"transcript\": [\n",
    "        \"HR Manager: Thank you for meeting with me today. What prompted you to start looking for a new job? Employee: I felt the career advancement opportunities here were quite limited, which has led me to look for roles where I can climb the ladder more quickly.\",\n",
    "        \"HR Manager: We're sorry to see you go. Could you share how you felt about the team dynamics here? Employee: The team was fantastic, very supportive. However, the work-life balance was lacking, which is why I've decided to move on.\",\n",
    "        \"HR Manager: As you leave, what improvements would you suggest for our company? Employee: I think the company could improve its remote work policies to offer more flexibility, which is crucial nowadays.\",\n",
    "        \"HR Manager: Can you describe your satisfaction with your role and responsibilities? Employee: Initially, I was satisfied, but over time, I felt my skills were underutilized, which has led to a decrease in my job satisfaction.\",\n",
    "        \"HR Manager: What's the main reason for leaving the company? Employee: I'm looking for new challenges and a change of environment to spark my creativity again, which I felt was stagnating here.\",\n",
    "        \"HR Manager: How do you feel about the management style at our company? Employee: The management style is a bit too micromanaging for me, which sometimes hampers my ability to work effectively.\",\n",
    "        \"HR Manager: What could have been done differently to improve your experience with us? Employee: More recognition and rewards would have been appreciated. I often felt that my hard work went unnoticed.\",\n",
    "        \"HR Manager: What did you appreciate the most during your time here? Employee: I really appreciated the learning opportunities and professional development workshops offered by the company.\",\n",
    "        \"HR Manager: Do you feel the company's policies supported your work and personal growth? Employee: To some extent, yes, but I believe the policies on performance evaluations could be more transparent.\",\n",
    "        \"HR Manager: Is there anything else you'd like to add about how the company could improve? Employee: I think the company would benefit from more open communication between different departments to streamline projects.\",\n",
    "        \"HR Manager: How did you find our company culture? Employee: The culture is good, very collaborative, but it could be less competitive to reduce stress among team members.\",\n",
    "        \"HR Manager: Did the company's vision align with your professional goals? Employee: Initially, it did, but as the company shifted focus, I found it less aligned with my career aspirations.\",\n",
    "        \"HR Manager: Were there any policies that you found particularly beneficial or restrictive? Employee: The education reimbursement policy was beneficial, but the travel policies were a bit restrictive and outdated.\",\n",
    "        \"HR Manager: What are your thoughts on the company's diversity and inclusion efforts? Employee: It's commendable but could definitely be pushed further to create a more inclusive environment.\",\n",
    "        \"HR Manager: Can you elaborate on why you feel the need to move on? Employee: I'm seeking a role that offers a higher level of responsibility and more direct impact on strategic decisions.\",\n",
    "        \"HR Manager: What feedback do you have about our HR policies? Employee: The HR policies are thorough, but sometimes they are too rigid, which can make adapting to unforeseen circumstances difficult.\",\n",
    "        \"HR Manager: How would you describe your overall job satisfaction here? Employee: My job satisfaction was high for the most part, but there were instances where I felt more support from management could have improved my experience.\",\n",
    "        \"HR Manager: Did you feel that your achievements were recognized appropriately? Employee: Not always, which is why I think an improved feedback system could help employees feel more valued.\",\n",
    "        \"HR Manager: What could we do to retain talent like yourself? Employee: Offering competitive salaries and clearer paths for advancement might help retain employees who are seeking growth.\",\n",
    "        \"HR Manager: Thank you for your honesty. We'll certainly take your feedback into consideration to improve. Employee: Thank you, I hope my feedback helps in making this a better workplace.\"\n",
    "    ]\n",
    "}"
   ]
  },
  {
   "cell_type": "markdown",
   "id": "b86f60cb-f95f-47c4-acb0-35e833d2d39b",
   "metadata": {
    "editable": true,
    "slideshow": {
     "slide_type": ""
    },
    "tags": []
   },
   "source": [
    "We want to summarize and quantify the themes and other qualitative content in the interviews. Simple word searches will not suffice, and we do not have bandwidth do this task manually. \n",
    "\n",
    "EDSL provides a time- and expense-saving alternative solution: we can use an AI agent to read the transcripts, identify the things that we want to extract from or know about the interviews, and then summarize and quantifying them across the interviews. \n",
    "\n",
    "## Designing an AI agent\n",
    "We start by creating an `Agent` and passing it `traits` that are relevant to the task. We can also include any special instructions:"
   ]
  },
  {
   "cell_type": "code",
   "execution_count": 2,
   "id": "874756ef-9605-4dde-b3ba-12834a5f9f42",
   "metadata": {
    "editable": true,
    "slideshow": {
     "slide_type": ""
    },
    "tags": []
   },
   "outputs": [],
   "source": [
    "from edsl import Agent\n",
    "\n",
    "agent = Agent(\n",
    "    traits = {\"persona\": \"You are an experienced human resources manager at a software company.\"}, \n",
    "    instruction = \"You are reviewing employee exit interviews to identify key themes and topics.\"\n",
    ")"
   ]
  },
  {
   "cell_type": "markdown",
   "id": "cde2d60a-2b48-4f6d-86f1-9b305ad84afa",
   "metadata": {
    "editable": true,
    "slideshow": {
     "slide_type": ""
    },
    "tags": []
   },
   "source": [
    "## Creating questions about the interviews\n",
    "Next we create questions about the transcripts for the agent to answer. EDSL comes with a [variety of standard question types](https://docs.expectedparrot.com/en/latest/questions.html) that we can choose from based on the form of the response that we want the model to return (multiple choice, free text, numerical, linear scale, etc.). Here we use free text questions to allow the agent to return unstructured responses. We can use a `{{ placeholder }}` for a transcript in each question text in order to re-run it for each transcript:"
   ]
  },
  {
   "cell_type": "code",
   "execution_count": 3,
   "id": "27c1b5fd-430b-499c-a47f-cf53671073e1",
   "metadata": {
    "editable": true,
    "slideshow": {
     "slide_type": ""
    },
    "tags": []
   },
   "outputs": [],
   "source": [
    "from edsl import QuestionFreeText\n",
    "\n",
    "q_reasons = QuestionFreeText(\n",
    "    question_name = \"reasons\",\n",
    "    question_text = \"Identify the interviewee's reasons for leaving: {{ scenario.transcript }}\"\n",
    ")\n",
    "\n",
    "q_policies = QuestionFreeText(\n",
    "    question_name = \"policies\",\n",
    "    question_text = \"Identify any feedback on company policies from the interviewee: {{ scenario.transcript }}\"\n",
    ")\n",
    "\n",
    "q_suggestions = QuestionFreeText(\n",
    "    question_name = \"suggestions\",\n",
    "    question_text = \"Identify any suggestions for improvements from the interviewee: {{ scenario.transcript }}\"\n",
    ")"
   ]
  },
  {
   "cell_type": "markdown",
   "id": "618a357c-051b-4dc3-adc8-7d2a917cb9b8",
   "metadata": {
    "editable": true,
    "slideshow": {
     "slide_type": ""
    },
    "tags": []
   },
   "source": [
    "## Combining questions into a survey\n",
    "We combine the questions into a `Survey` to administer them all together:"
   ]
  },
  {
   "cell_type": "code",
   "execution_count": 4,
   "id": "346cffcc-e64f-4fbb-88a4-ee9761b8bd1f",
   "metadata": {
    "editable": true,
    "slideshow": {
     "slide_type": ""
    },
    "tags": []
   },
   "outputs": [],
   "source": [
    "from edsl import Survey\n",
    "\n",
    "survey = Survey([q_reasons, \n",
    "                 q_policies, \n",
    "                 q_suggestions])\n",
    "\n",
    "# survey.show_flow()"
   ]
  },
  {
   "cell_type": "markdown",
   "id": "fae5b801-1cd5-4750-a749-044f08766ae0",
   "metadata": {
    "editable": true,
    "slideshow": {
     "slide_type": ""
    },
    "tags": []
   },
   "source": [
    "## Creating scenarios of the questions\n",
    "Next we create a `Scenario` for each transcript that we will add to the survey when we run it:"
   ]
  },
  {
   "cell_type": "code",
   "execution_count": 5,
   "id": "44cbe9ad-8931-4b4a-9b04-ab97832569d0",
   "metadata": {
    "editable": true,
    "slideshow": {
     "slide_type": ""
    },
    "tags": []
   },
   "outputs": [],
   "source": [
    "from edsl import ScenarioList\n",
    "\n",
    "scenarios = ScenarioList.from_nested_dict(exit_interviews)"
   ]
  },
  {
   "cell_type": "code",
   "execution_count": 6,
   "id": "1ffcb31a-e730-4f8e-9ec0-b67d17cfcdee",
   "metadata": {
    "editable": true,
    "slideshow": {
     "slide_type": ""
    },
    "tags": []
   },
   "outputs": [
    {
     "data": {
      "text/html": [
       "<p><a href='https://docs.expectedparrot.com/en/latest/scenarios.html#scenariolist'>ScenarioList</a> scenarios: 20; keys: ['transcript', 'id'];</p>\n",
       "            <div style=\"max-height: 500px; overflow-y: auto;\">\n",
       "                <style type=\"text/css\">\n",
       "#T_f7595_row0_col0 {\n",
       "  text-align: left;\n",
       "  background-color: #fff7fb;\n",
       "  color: #000000;\n",
       "}\n",
       "#T_f7595_row0_col1, #T_f7595_row1_col1, #T_f7595_row2_col1, #T_f7595_row3_col1, #T_f7595_row4_col1, #T_f7595_row5_col1, #T_f7595_row6_col1, #T_f7595_row7_col1, #T_f7595_row8_col1, #T_f7595_row9_col1, #T_f7595_row10_col1, #T_f7595_row11_col1, #T_f7595_row12_col1, #T_f7595_row13_col1, #T_f7595_row14_col1, #T_f7595_row15_col1, #T_f7595_row16_col1, #T_f7595_row17_col1, #T_f7595_row18_col1, #T_f7595_row19_col1 {\n",
       "  text-align: left;\n",
       "}\n",
       "#T_f7595_row1_col0 {\n",
       "  text-align: left;\n",
       "  background-color: #f7f0f7;\n",
       "  color: #000000;\n",
       "}\n",
       "#T_f7595_row2_col0 {\n",
       "  text-align: left;\n",
       "  background-color: #f0eaf4;\n",
       "  color: #000000;\n",
       "}\n",
       "#T_f7595_row3_col0 {\n",
       "  text-align: left;\n",
       "  background-color: #e5e1ef;\n",
       "  color: #000000;\n",
       "}\n",
       "#T_f7595_row4_col0 {\n",
       "  text-align: left;\n",
       "  background-color: #d9d8ea;\n",
       "  color: #000000;\n",
       "}\n",
       "#T_f7595_row5_col0 {\n",
       "  text-align: left;\n",
       "  background-color: #cccfe5;\n",
       "  color: #000000;\n",
       "}\n",
       "#T_f7595_row6_col0 {\n",
       "  text-align: left;\n",
       "  background-color: #bbc7e0;\n",
       "  color: #000000;\n",
       "}\n",
       "#T_f7595_row7_col0 {\n",
       "  text-align: left;\n",
       "  background-color: #a8bedc;\n",
       "  color: #000000;\n",
       "}\n",
       "#T_f7595_row8_col0 {\n",
       "  text-align: left;\n",
       "  background-color: #94b6d7;\n",
       "  color: #000000;\n",
       "}\n",
       "#T_f7595_row9_col0 {\n",
       "  text-align: left;\n",
       "  background-color: #7eadd1;\n",
       "  color: #f1f1f1;\n",
       "}\n",
       "#T_f7595_row10_col0 {\n",
       "  text-align: left;\n",
       "  background-color: #67a4cc;\n",
       "  color: #f1f1f1;\n",
       "}\n",
       "#T_f7595_row11_col0 {\n",
       "  text-align: left;\n",
       "  background-color: #4c99c5;\n",
       "  color: #f1f1f1;\n",
       "}\n",
       "#T_f7595_row12_col0 {\n",
       "  text-align: left;\n",
       "  background-color: #348ebf;\n",
       "  color: #f1f1f1;\n",
       "}\n",
       "#T_f7595_row13_col0 {\n",
       "  text-align: left;\n",
       "  background-color: #1e80b8;\n",
       "  color: #f1f1f1;\n",
       "}\n",
       "#T_f7595_row14_col0 {\n",
       "  text-align: left;\n",
       "  background-color: #0a73b2;\n",
       "  color: #f1f1f1;\n",
       "}\n",
       "#T_f7595_row15_col0 {\n",
       "  text-align: left;\n",
       "  background-color: #0569a4;\n",
       "  color: #f1f1f1;\n",
       "}\n",
       "#T_f7595_row16_col0 {\n",
       "  text-align: left;\n",
       "  background-color: #046096;\n",
       "  color: #f1f1f1;\n",
       "}\n",
       "#T_f7595_row17_col0 {\n",
       "  text-align: left;\n",
       "  background-color: #045483;\n",
       "  color: #f1f1f1;\n",
       "}\n",
       "#T_f7595_row18_col0 {\n",
       "  text-align: left;\n",
       "  background-color: #03466e;\n",
       "  color: #f1f1f1;\n",
       "}\n",
       "#T_f7595_row19_col0 {\n",
       "  text-align: left;\n",
       "  background-color: #023858;\n",
       "  color: #f1f1f1;\n",
       "}\n",
       "</style>\n",
       "<table id=\"T_f7595\">\n",
       "  <thead>\n",
       "    <tr>\n",
       "      <th class=\"blank level0\" >&nbsp;</th>\n",
       "      <th id=\"T_f7595_level0_col0\" class=\"col_heading level0 col0\" >id</th>\n",
       "      <th id=\"T_f7595_level0_col1\" class=\"col_heading level0 col1\" >transcript</th>\n",
       "    </tr>\n",
       "  </thead>\n",
       "  <tbody>\n",
       "    <tr>\n",
       "      <th id=\"T_f7595_level0_row0\" class=\"row_heading level0 row0\" >0</th>\n",
       "      <td id=\"T_f7595_row0_col0\" class=\"data row0 col0\" >1</td>\n",
       "      <td id=\"T_f7595_row0_col1\" class=\"data row0 col1\" >HR Manager: Thank you for meeting with me today. What prompted you to start looking for a new job? Employee: I felt the career advancement opportunities here were quite limited, which has led me to look for roles where I can climb the ladder more quickly.</td>\n",
       "    </tr>\n",
       "    <tr>\n",
       "      <th id=\"T_f7595_level0_row1\" class=\"row_heading level0 row1\" >1</th>\n",
       "      <td id=\"T_f7595_row1_col0\" class=\"data row1 col0\" >2</td>\n",
       "      <td id=\"T_f7595_row1_col1\" class=\"data row1 col1\" >HR Manager: We're sorry to see you go. Could you share how you felt about the team dynamics here? Employee: The team was fantastic, very supportive. However, the work-life balance was lacking, which is why I've decided to move on.</td>\n",
       "    </tr>\n",
       "    <tr>\n",
       "      <th id=\"T_f7595_level0_row2\" class=\"row_heading level0 row2\" >2</th>\n",
       "      <td id=\"T_f7595_row2_col0\" class=\"data row2 col0\" >3</td>\n",
       "      <td id=\"T_f7595_row2_col1\" class=\"data row2 col1\" >HR Manager: As you leave, what improvements would you suggest for our company? Employee: I think the company could improve its remote work policies to offer more flexibility, which is crucial nowadays.</td>\n",
       "    </tr>\n",
       "    <tr>\n",
       "      <th id=\"T_f7595_level0_row3\" class=\"row_heading level0 row3\" >3</th>\n",
       "      <td id=\"T_f7595_row3_col0\" class=\"data row3 col0\" >4</td>\n",
       "      <td id=\"T_f7595_row3_col1\" class=\"data row3 col1\" >HR Manager: Can you describe your satisfaction with your role and responsibilities? Employee: Initially, I was satisfied, but over time, I felt my skills were underutilized, which has led to a decrease in my job satisfaction.</td>\n",
       "    </tr>\n",
       "    <tr>\n",
       "      <th id=\"T_f7595_level0_row4\" class=\"row_heading level0 row4\" >4</th>\n",
       "      <td id=\"T_f7595_row4_col0\" class=\"data row4 col0\" >5</td>\n",
       "      <td id=\"T_f7595_row4_col1\" class=\"data row4 col1\" >HR Manager: What's the main reason for leaving the company? Employee: I'm looking for new challenges and a change of environment to spark my creativity again, which I felt was stagnating here.</td>\n",
       "    </tr>\n",
       "    <tr>\n",
       "      <th id=\"T_f7595_level0_row5\" class=\"row_heading level0 row5\" >5</th>\n",
       "      <td id=\"T_f7595_row5_col0\" class=\"data row5 col0\" >6</td>\n",
       "      <td id=\"T_f7595_row5_col1\" class=\"data row5 col1\" >HR Manager: How do you feel about the management style at our company? Employee: The management style is a bit too micromanaging for me, which sometimes hampers my ability to work effectively.</td>\n",
       "    </tr>\n",
       "    <tr>\n",
       "      <th id=\"T_f7595_level0_row6\" class=\"row_heading level0 row6\" >6</th>\n",
       "      <td id=\"T_f7595_row6_col0\" class=\"data row6 col0\" >7</td>\n",
       "      <td id=\"T_f7595_row6_col1\" class=\"data row6 col1\" >HR Manager: What could have been done differently to improve your experience with us? Employee: More recognition and rewards would have been appreciated. I often felt that my hard work went unnoticed.</td>\n",
       "    </tr>\n",
       "    <tr>\n",
       "      <th id=\"T_f7595_level0_row7\" class=\"row_heading level0 row7\" >7</th>\n",
       "      <td id=\"T_f7595_row7_col0\" class=\"data row7 col0\" >8</td>\n",
       "      <td id=\"T_f7595_row7_col1\" class=\"data row7 col1\" >HR Manager: What did you appreciate the most during your time here? Employee: I really appreciated the learning opportunities and professional development workshops offered by the company.</td>\n",
       "    </tr>\n",
       "    <tr>\n",
       "      <th id=\"T_f7595_level0_row8\" class=\"row_heading level0 row8\" >8</th>\n",
       "      <td id=\"T_f7595_row8_col0\" class=\"data row8 col0\" >9</td>\n",
       "      <td id=\"T_f7595_row8_col1\" class=\"data row8 col1\" >HR Manager: Do you feel the company's policies supported your work and personal growth? Employee: To some extent, yes, but I believe the policies on performance evaluations could be more transparent.</td>\n",
       "    </tr>\n",
       "    <tr>\n",
       "      <th id=\"T_f7595_level0_row9\" class=\"row_heading level0 row9\" >9</th>\n",
       "      <td id=\"T_f7595_row9_col0\" class=\"data row9 col0\" >10</td>\n",
       "      <td id=\"T_f7595_row9_col1\" class=\"data row9 col1\" >HR Manager: Is there anything else you'd like to add about how the company could improve? Employee: I think the company would benefit from more open communication between different departments to streamline projects.</td>\n",
       "    </tr>\n",
       "    <tr>\n",
       "      <th id=\"T_f7595_level0_row10\" class=\"row_heading level0 row10\" >10</th>\n",
       "      <td id=\"T_f7595_row10_col0\" class=\"data row10 col0\" >11</td>\n",
       "      <td id=\"T_f7595_row10_col1\" class=\"data row10 col1\" >HR Manager: How did you find our company culture? Employee: The culture is good, very collaborative, but it could be less competitive to reduce stress among team members.</td>\n",
       "    </tr>\n",
       "    <tr>\n",
       "      <th id=\"T_f7595_level0_row11\" class=\"row_heading level0 row11\" >11</th>\n",
       "      <td id=\"T_f7595_row11_col0\" class=\"data row11 col0\" >12</td>\n",
       "      <td id=\"T_f7595_row11_col1\" class=\"data row11 col1\" >HR Manager: Did the company's vision align with your professional goals? Employee: Initially, it did, but as the company shifted focus, I found it less aligned with my career aspirations.</td>\n",
       "    </tr>\n",
       "    <tr>\n",
       "      <th id=\"T_f7595_level0_row12\" class=\"row_heading level0 row12\" >12</th>\n",
       "      <td id=\"T_f7595_row12_col0\" class=\"data row12 col0\" >13</td>\n",
       "      <td id=\"T_f7595_row12_col1\" class=\"data row12 col1\" >HR Manager: Were there any policies that you found particularly beneficial or restrictive? Employee: The education reimbursement policy was beneficial, but the travel policies were a bit restrictive and outdated.</td>\n",
       "    </tr>\n",
       "    <tr>\n",
       "      <th id=\"T_f7595_level0_row13\" class=\"row_heading level0 row13\" >13</th>\n",
       "      <td id=\"T_f7595_row13_col0\" class=\"data row13 col0\" >14</td>\n",
       "      <td id=\"T_f7595_row13_col1\" class=\"data row13 col1\" >HR Manager: What are your thoughts on the company's diversity and inclusion efforts? Employee: It's commendable but could definitely be pushed further to create a more inclusive environment.</td>\n",
       "    </tr>\n",
       "    <tr>\n",
       "      <th id=\"T_f7595_level0_row14\" class=\"row_heading level0 row14\" >14</th>\n",
       "      <td id=\"T_f7595_row14_col0\" class=\"data row14 col0\" >15</td>\n",
       "      <td id=\"T_f7595_row14_col1\" class=\"data row14 col1\" >HR Manager: Can you elaborate on why you feel the need to move on? Employee: I'm seeking a role that offers a higher level of responsibility and more direct impact on strategic decisions.</td>\n",
       "    </tr>\n",
       "    <tr>\n",
       "      <th id=\"T_f7595_level0_row15\" class=\"row_heading level0 row15\" >15</th>\n",
       "      <td id=\"T_f7595_row15_col0\" class=\"data row15 col0\" >16</td>\n",
       "      <td id=\"T_f7595_row15_col1\" class=\"data row15 col1\" >HR Manager: What feedback do you have about our HR policies? Employee: The HR policies are thorough, but sometimes they are too rigid, which can make adapting to unforeseen circumstances difficult.</td>\n",
       "    </tr>\n",
       "    <tr>\n",
       "      <th id=\"T_f7595_level0_row16\" class=\"row_heading level0 row16\" >16</th>\n",
       "      <td id=\"T_f7595_row16_col0\" class=\"data row16 col0\" >17</td>\n",
       "      <td id=\"T_f7595_row16_col1\" class=\"data row16 col1\" >HR Manager: How would you describe your overall job satisfaction here? Employee: My job satisfaction was high for the most part, but there were instances where I felt more support from management could have improved my experience.</td>\n",
       "    </tr>\n",
       "    <tr>\n",
       "      <th id=\"T_f7595_level0_row17\" class=\"row_heading level0 row17\" >17</th>\n",
       "      <td id=\"T_f7595_row17_col0\" class=\"data row17 col0\" >18</td>\n",
       "      <td id=\"T_f7595_row17_col1\" class=\"data row17 col1\" >HR Manager: Did you feel that your achievements were recognized appropriately? Employee: Not always, which is why I think an improved feedback system could help employees feel more valued.</td>\n",
       "    </tr>\n",
       "    <tr>\n",
       "      <th id=\"T_f7595_level0_row18\" class=\"row_heading level0 row18\" >18</th>\n",
       "      <td id=\"T_f7595_row18_col0\" class=\"data row18 col0\" >19</td>\n",
       "      <td id=\"T_f7595_row18_col1\" class=\"data row18 col1\" >HR Manager: What could we do to retain talent like yourself? Employee: Offering competitive salaries and clearer paths for advancement might help retain employees who are seeking growth.</td>\n",
       "    </tr>\n",
       "    <tr>\n",
       "      <th id=\"T_f7595_level0_row19\" class=\"row_heading level0 row19\" >19</th>\n",
       "      <td id=\"T_f7595_row19_col0\" class=\"data row19 col0\" >20</td>\n",
       "      <td id=\"T_f7595_row19_col1\" class=\"data row19 col1\" >HR Manager: Thank you for your honesty. We'll certainly take your feedback into consideration to improve. Employee: Thank you, I hope my feedback helps in making this a better workplace.</td>\n",
       "    </tr>\n",
       "  </tbody>\n",
       "</table>\n",
       "\n",
       "            </div>\n",
       "            "
      ],
      "text/plain": [
       "ScenarioList([Scenario({'id': 1, 'transcript': 'HR Manager: Thank you for meeting with me today. What prompted you to start looking for a new job? Employee: I felt the career advancement opportunities here were quite limited, which has led me to look for roles where I can climb the ladder more quickly.'}), Scenario({'id': 2, 'transcript': \"HR Manager: We're sorry to see you go. Could you share how you felt about the team dynamics here? Employee: The team was fantastic, very supportive. However, the work-life balance was lacking, which is why I've decided to move on.\"}), Scenario({'id': 3, 'transcript': 'HR Manager: As you leave, what improvements would you suggest for our company? Employee: I think the company could improve its remote work policies to offer more flexibility, which is crucial nowadays.'}), Scenario({'id': 4, 'transcript': 'HR Manager: Can you describe your satisfaction with your role and responsibilities? Employee: Initially, I was satisfied, but over time, I felt my skills were underutilized, which has led to a decrease in my job satisfaction.'}), Scenario({'id': 5, 'transcript': \"HR Manager: What's the main reason for leaving the company? Employee: I'm looking for new challenges and a change of environment to spark my creativity again, which I felt was stagnating here.\"}), Scenario({'id': 6, 'transcript': 'HR Manager: How do you feel about the management style at our company? Employee: The management style is a bit too micromanaging for me, which sometimes hampers my ability to work effectively.'}), Scenario({'id': 7, 'transcript': 'HR Manager: What could have been done differently to improve your experience with us? Employee: More recognition and rewards would have been appreciated. I often felt that my hard work went unnoticed.'}), Scenario({'id': 8, 'transcript': 'HR Manager: What did you appreciate the most during your time here? Employee: I really appreciated the learning opportunities and professional development workshops offered by the company.'}), Scenario({'id': 9, 'transcript': \"HR Manager: Do you feel the company's policies supported your work and personal growth? Employee: To some extent, yes, but I believe the policies on performance evaluations could be more transparent.\"}), Scenario({'id': 10, 'transcript': \"HR Manager: Is there anything else you'd like to add about how the company could improve? Employee: I think the company would benefit from more open communication between different departments to streamline projects.\"}), Scenario({'id': 11, 'transcript': 'HR Manager: How did you find our company culture? Employee: The culture is good, very collaborative, but it could be less competitive to reduce stress among team members.'}), Scenario({'id': 12, 'transcript': \"HR Manager: Did the company's vision align with your professional goals? Employee: Initially, it did, but as the company shifted focus, I found it less aligned with my career aspirations.\"}), Scenario({'id': 13, 'transcript': 'HR Manager: Were there any policies that you found particularly beneficial or restrictive? Employee: The education reimbursement policy was beneficial, but the travel policies were a bit restrictive and outdated.'}), Scenario({'id': 14, 'transcript': \"HR Manager: What are your thoughts on the company's diversity and inclusion efforts? Employee: It's commendable but could definitely be pushed further to create a more inclusive environment.\"}), Scenario({'id': 15, 'transcript': \"HR Manager: Can you elaborate on why you feel the need to move on? Employee: I'm seeking a role that offers a higher level of responsibility and more direct impact on strategic decisions.\"}), Scenario({'id': 16, 'transcript': 'HR Manager: What feedback do you have about our HR policies? Employee: The HR policies are thorough, but sometimes they are too rigid, which can make adapting to unforeseen circumstances difficult.'}), Scenario({'id': 17, 'transcript': 'HR Manager: How would you describe your overall job satisfaction here? Employee: My job satisfaction was high for the most part, but there were instances where I felt more support from management could have improved my experience.'}), Scenario({'id': 18, 'transcript': 'HR Manager: Did you feel that your achievements were recognized appropriately? Employee: Not always, which is why I think an improved feedback system could help employees feel more valued.'}), Scenario({'id': 19, 'transcript': 'HR Manager: What could we do to retain talent like yourself? Employee: Offering competitive salaries and clearer paths for advancement might help retain employees who are seeking growth.'}), Scenario({'id': 20, 'transcript': \"HR Manager: Thank you for your honesty. We'll certainly take your feedback into consideration to improve. Employee: Thank you, I hope my feedback helps in making this a better workplace.\"})])"
      ]
     },
     "execution_count": 6,
     "metadata": {},
     "output_type": "execute_result"
    }
   ],
   "source": [
    "scenarios"
   ]
  },
  {
   "cell_type": "markdown",
   "id": "2b9ef4bb-8eda-41e0-9940-96227334d25c",
   "metadata": {
    "editable": true,
    "slideshow": {
     "slide_type": ""
    },
    "tags": []
   },
   "source": [
    "## Selecting a language model\n",
    "EDSL works with many popular models. We can run `Model.available()` to see a current list of available models, and then create `Model` objects for the ones that we want to use. Here we select GPT 4o:"
   ]
  },
  {
   "cell_type": "code",
   "execution_count": 7,
   "id": "4a61c32b-dc4e-47fb-8124-ded94a3aa133",
   "metadata": {
    "editable": true,
    "slideshow": {
     "slide_type": ""
    },
    "tags": []
   },
   "outputs": [],
   "source": [
    "from edsl import Model"
   ]
  },
  {
   "cell_type": "code",
   "execution_count": 8,
   "id": "ffe03eca-651d-44cd-a9e6-2e746655ae83",
   "metadata": {
    "editable": true,
    "slideshow": {
     "slide_type": ""
    },
    "tags": []
   },
   "outputs": [],
   "source": [
    "# Model.available()"
   ]
  },
  {
   "cell_type": "code",
   "execution_count": 9,
   "id": "1a55cb03-ce87-4db1-8b7d-f44c91360e7e",
   "metadata": {
    "editable": true,
    "slideshow": {
     "slide_type": ""
    },
    "tags": []
   },
   "outputs": [],
   "source": [
    "model = Model(\"gpt-4o\", service_name = \"openai\")"
   ]
  },
  {
   "cell_type": "markdown",
   "id": "9cbae13e-d0a4-4d0a-b154-8deec10dc33b",
   "metadata": {
    "editable": true,
    "slideshow": {
     "slide_type": ""
    },
    "tags": []
   },
   "source": [
    "## Generating responses\n",
    "We prompt the agent to answer the survey by adding the scenarios, agent and model and then calling the `run()` method. This generates a dataset of `Results` that includes information about the agent, model, scenarios, questions and answers:"
   ]
  },
  {
   "cell_type": "code",
   "execution_count": 10,
   "id": "4d851e35-7d31-43ac-bda1-2d4f6c7930f5",
   "metadata": {
    "editable": true,
    "slideshow": {
     "slide_type": ""
    },
    "tags": []
   },
   "outputs": [],
   "source": [
    "results = survey.by(scenarios).by(agent).by(model).run(verbose=False)"
   ]
  },
  {
   "cell_type": "markdown",
   "id": "0e274ad3-dd71-4c3e-85ed-f6b228463376",
   "metadata": {
    "editable": true,
    "slideshow": {
     "slide_type": ""
    },
    "tags": []
   },
   "source": [
    "## Accessing results\n",
    "EDSL comes with built-in methods for analyzing results in datasets, data tables, dataframes, SQL queries, and other formats. Here we select the responses for a few of the transcripts to display in a table:"
   ]
  },
  {
   "cell_type": "code",
   "execution_count": 11,
   "id": "e946fa4e-5fee-48b2-bbe4-8296057a4436",
   "metadata": {
    "editable": true,
    "slideshow": {
     "slide_type": ""
    },
    "tags": []
   },
   "outputs": [
    {
     "data": {
      "text/html": [
       "\n",
       "            <div style=\"max-height: 500px; overflow-y: auto;\">\n",
       "                <style type=\"text/css\">\n",
       "#T_b4186_row0_col0 {\n",
       "  text-align: left;\n",
       "  background-color: #fff7fb;\n",
       "  color: #000000;\n",
       "}\n",
       "#T_b4186_row0_col1, #T_b4186_row0_col2, #T_b4186_row0_col3, #T_b4186_row1_col1, #T_b4186_row1_col2, #T_b4186_row1_col3, #T_b4186_row2_col1, #T_b4186_row2_col2, #T_b4186_row2_col3, #T_b4186_row3_col1, #T_b4186_row3_col2, #T_b4186_row3_col3, #T_b4186_row4_col1, #T_b4186_row4_col2, #T_b4186_row4_col3 {\n",
       "  text-align: left;\n",
       "}\n",
       "#T_b4186_row1_col0 {\n",
       "  text-align: left;\n",
       "  background-color: #e8e4f0;\n",
       "  color: #000000;\n",
       "}\n",
       "#T_b4186_row2_col0 {\n",
       "  text-align: left;\n",
       "  background-color: #d9d8ea;\n",
       "  color: #000000;\n",
       "}\n",
       "#T_b4186_row3_col0 {\n",
       "  text-align: left;\n",
       "  background-color: #1379b5;\n",
       "  color: #f1f1f1;\n",
       "}\n",
       "#T_b4186_row4_col0 {\n",
       "  text-align: left;\n",
       "  background-color: #023858;\n",
       "  color: #f1f1f1;\n",
       "}\n",
       "</style>\n",
       "<table id=\"T_b4186\">\n",
       "  <thead>\n",
       "    <tr>\n",
       "      <th class=\"blank level0\" >&nbsp;</th>\n",
       "      <th id=\"T_b4186_level0_col0\" class=\"col_heading level0 col0\" >scenario.id</th>\n",
       "      <th id=\"T_b4186_level0_col1\" class=\"col_heading level0 col1\" >answer.reasons</th>\n",
       "      <th id=\"T_b4186_level0_col2\" class=\"col_heading level0 col2\" >answer.policies</th>\n",
       "      <th id=\"T_b4186_level0_col3\" class=\"col_heading level0 col3\" >answer.suggestions</th>\n",
       "    </tr>\n",
       "  </thead>\n",
       "  <tbody>\n",
       "    <tr>\n",
       "      <th id=\"T_b4186_level0_row0\" class=\"row_heading level0 row0\" >0</th>\n",
       "      <td id=\"T_b4186_row0_col0\" class=\"data row0 col0\" >3</td>\n",
       "      <td id=\"T_b4186_row0_col1\" class=\"data row0 col1\" >The interviewee's reason for leaving appears to be related to a lack of flexibility in the company's remote work policies. They suggest that enhancing these policies to offer more flexibility could be an improvement, indicating that the current level of flexibility may not meet their needs or expectations.</td>\n",
       "      <td id=\"T_b4186_row0_col2\" class=\"data row0 col2\" >The feedback from the interviewee suggests that the company could improve its remote work policies by offering more flexibility. This indicates that the current policies may be too rigid or not accommodating enough to meet the needs of employees who value or require flexible work arrangements. As an HR manager, you might consider reviewing the existing remote work policies to identify areas where greater flexibility can be introduced, such as flexible hours, hybrid work options, or more supportive infrastructure for remote work.</td>\n",
       "      <td id=\"T_b4186_row0_col3\" class=\"data row0 col3\" >The employee suggested that the company should improve its remote work policies to offer more flexibility. This indicates that the current policies may not be meeting the needs or expectations of employees, and enhancing flexibility could be an important step in aligning with modern workforce trends and improving overall employee satisfaction.</td>\n",
       "    </tr>\n",
       "    <tr>\n",
       "      <th id=\"T_b4186_level0_row1\" class=\"row_heading level0 row1\" >1</th>\n",
       "      <td id=\"T_b4186_row1_col0\" class=\"data row1 col0\" >5</td>\n",
       "      <td id=\"T_b4186_row1_col1\" class=\"data row1 col1\" >The interviewee's reasons for leaving are the desire for new challenges and a change of environment to reignite their creativity, which they felt was stagnating in their current role.</td>\n",
       "      <td id=\"T_b4186_row1_col2\" class=\"data row1 col2\" >The interviewee's response does not directly mention any specific company policies. However, the desire for new challenges and a change of environment could imply that current company policies or practices may not be fostering enough opportunities for creativity or professional growth. This feedback suggests that the company might benefit from reviewing its policies related to career development, innovation, and employee engagement to ensure they are effectively supporting employees' creative and professional aspirations.</td>\n",
       "      <td id=\"T_b4186_row1_col3\" class=\"data row1 col3\" >Based on the employee's response, a suggestion for improvement could be to provide more opportunities for creative challenges and varied projects within the company. This could involve implementing initiatives such as cross-departmental projects, innovation workshops, or a program allowing employees to rotate roles or departments temporarily. Such measures could help prevent stagnation and keep employees engaged and creatively stimulated. Additionally, fostering a work environment that encourages innovation and new ideas might help retain talent looking for dynamic and challenging work.</td>\n",
       "    </tr>\n",
       "    <tr>\n",
       "      <th id=\"T_b4186_level0_row2\" class=\"row_heading level0 row2\" >2</th>\n",
       "      <td id=\"T_b4186_row2_col0\" class=\"data row2 col0\" >6</td>\n",
       "      <td id=\"T_b4186_row2_col1\" class=\"data row2 col1\" >The interviewee is leaving due to dissatisfaction with the management style at the company. They perceive the management style as too micromanaging, which they feel hampers their ability to work effectively. This suggests that the employee values autonomy and may be seeking a work environment that offers more freedom and trust in their ability to manage their tasks.</td>\n",
       "      <td id=\"T_b4186_row2_col2\" class=\"data row2 col2\" >The feedback provided by the employee indirectly touches on company policies related to management style. The employee perceives the management style as micromanaging, which suggests that there may be policies or practices in place that encourage or allow for close oversight and control by managers. This feedback indicates a potential area for the company to review and possibly adjust its management practices or policies to promote a more flexible and empowering work environment.</td>\n",
       "      <td id=\"T_b4186_row2_col3\" class=\"data row2 col3\" >The suggestion for improvement from the interviewee is to reduce the level of micromanagement. This could involve providing employees with more autonomy and trust in their roles, allowing them to work more effectively without feeling overly supervised.</td>\n",
       "    </tr>\n",
       "    <tr>\n",
       "      <th id=\"T_b4186_level0_row3\" class=\"row_heading level0 row3\" >3</th>\n",
       "      <td id=\"T_b4186_row3_col0\" class=\"data row3 col0\" >13</td>\n",
       "      <td id=\"T_b4186_row3_col1\" class=\"data row3 col1\" >The interviewee's reasons for leaving, based on their response, include finding the travel policies restrictive and outdated. While they appreciated the education reimbursement policy, it seems that the restrictive nature of the travel policies may have contributed to their decision to leave.</td>\n",
       "      <td id=\"T_b4186_row3_col2\" class=\"data row3 col2\" >The feedback from the interviewee highlights two main points regarding company policies:\n",
       "\n",
       "1. **Beneficial Policy**: The employee found the education reimbursement policy to be beneficial. This suggests that the policy was appreciated and likely supported their professional development or educational pursuits.\n",
       "\n",
       "2. **Restrictive Policy**: The employee mentioned that the travel policies were restrictive and outdated. This indicates that the current travel policies may not align well with the needs or expectations of employees, potentially hindering their ability to perform tasks that require travel effectively.\n",
       "\n",
       "This feedback suggests a need to review and possibly update the travel policies to better accommodate current employee needs and industry standards, while maintaining the positive aspects of the education reimbursement policy.</td>\n",
       "      <td id=\"T_b4186_row3_col3\" class=\"data row3 col3\" >The interviewee suggested improvements regarding the company's travel policies, describing them as restrictive and outdated. This feedback indicates a need to review and potentially update these policies to better align with current industry standards and employee needs.</td>\n",
       "    </tr>\n",
       "    <tr>\n",
       "      <th id=\"T_b4186_level0_row4\" class=\"row_heading level0 row4\" >4</th>\n",
       "      <td id=\"T_b4186_row4_col0\" class=\"data row4 col0\" >17</td>\n",
       "      <td id=\"T_b4186_row4_col1\" class=\"data row4 col1\" >The interviewee's reasons for leaving, based on their response, include a lack of sufficient support from management. While they generally had high job satisfaction, the instances where they felt unsupported by management contributed to their decision to leave.</td>\n",
       "      <td id=\"T_b4186_row4_col2\" class=\"data row4 col2\" >The interviewee's feedback does not directly address specific company policies. However, there is an implicit suggestion that company policies related to management support and employee-manager interactions could be improved. This feedback indicates a potential area for reviewing and enhancing management training or support policies to ensure employees feel adequately supported in their roles.</td>\n",
       "      <td id=\"T_b4186_row4_col3\" class=\"data row4 col3\" >The key suggestion for improvement from the interviewee is the need for increased support from management. This implies that enhancing managerial support could potentially improve employee job satisfaction.</td>\n",
       "    </tr>\n",
       "  </tbody>\n",
       "</table>\n",
       "\n",
       "            </div>\n",
       "            "
      ],
      "text/plain": [
       "Dataset([{'scenario.id': [3, 5, 6, 13, 17]}, {'answer.reasons': [\"The interviewee's reason for leaving appears to be related to a lack of flexibility in the company's remote work policies. They suggest that enhancing these policies to offer more flexibility could be an improvement, indicating that the current level of flexibility may not meet their needs or expectations.\", \"The interviewee's reasons for leaving are the desire for new challenges and a change of environment to reignite their creativity, which they felt was stagnating in their current role.\", 'The interviewee is leaving due to dissatisfaction with the management style at the company. They perceive the management style as too micromanaging, which they feel hampers their ability to work effectively. This suggests that the employee values autonomy and may be seeking a work environment that offers more freedom and trust in their ability to manage their tasks.', \"The interviewee's reasons for leaving, based on their response, include finding the travel policies restrictive and outdated. While they appreciated the education reimbursement policy, it seems that the restrictive nature of the travel policies may have contributed to their decision to leave.\", \"The interviewee's reasons for leaving, based on their response, include a lack of sufficient support from management. While they generally had high job satisfaction, the instances where they felt unsupported by management contributed to their decision to leave.\"]}, {'answer.policies': ['The feedback from the interviewee suggests that the company could improve its remote work policies by offering more flexibility. This indicates that the current policies may be too rigid or not accommodating enough to meet the needs of employees who value or require flexible work arrangements. As an HR manager, you might consider reviewing the existing remote work policies to identify areas where greater flexibility can be introduced, such as flexible hours, hybrid work options, or more supportive infrastructure for remote work.', \"The interviewee's response does not directly mention any specific company policies. However, the desire for new challenges and a change of environment could imply that current company policies or practices may not be fostering enough opportunities for creativity or professional growth. This feedback suggests that the company might benefit from reviewing its policies related to career development, innovation, and employee engagement to ensure they are effectively supporting employees' creative and professional aspirations.\", 'The feedback provided by the employee indirectly touches on company policies related to management style. The employee perceives the management style as micromanaging, which suggests that there may be policies or practices in place that encourage or allow for close oversight and control by managers. This feedback indicates a potential area for the company to review and possibly adjust its management practices or policies to promote a more flexible and empowering work environment.', 'The feedback from the interviewee highlights two main points regarding company policies:\\n\\n1. **Beneficial Policy**: The employee found the education reimbursement policy to be beneficial. This suggests that the policy was appreciated and likely supported their professional development or educational pursuits.\\n\\n2. **Restrictive Policy**: The employee mentioned that the travel policies were restrictive and outdated. This indicates that the current travel policies may not align well with the needs or expectations of employees, potentially hindering their ability to perform tasks that require travel effectively.\\n\\nThis feedback suggests a need to review and possibly update the travel policies to better accommodate current employee needs and industry standards, while maintaining the positive aspects of the education reimbursement policy.', \"The interviewee's feedback does not directly address specific company policies. However, there is an implicit suggestion that company policies related to management support and employee-manager interactions could be improved. This feedback indicates a potential area for reviewing and enhancing management training or support policies to ensure employees feel adequately supported in their roles.\"]}, {'answer.suggestions': ['The employee suggested that the company should improve its remote work policies to offer more flexibility. This indicates that the current policies may not be meeting the needs or expectations of employees, and enhancing flexibility could be an important step in aligning with modern workforce trends and improving overall employee satisfaction.', \"Based on the employee's response, a suggestion for improvement could be to provide more opportunities for creative challenges and varied projects within the company. This could involve implementing initiatives such as cross-departmental projects, innovation workshops, or a program allowing employees to rotate roles or departments temporarily. Such measures could help prevent stagnation and keep employees engaged and creatively stimulated. Additionally, fostering a work environment that encourages innovation and new ideas might help retain talent looking for dynamic and challenging work.\", 'The suggestion for improvement from the interviewee is to reduce the level of micromanagement. This could involve providing employees with more autonomy and trust in their roles, allowing them to work more effectively without feeling overly supervised.', \"The interviewee suggested improvements regarding the company's travel policies, describing them as restrictive and outdated. This feedback indicates a need to review and potentially update these policies to better align with current industry standards and employee needs.\", 'The key suggestion for improvement from the interviewee is the need for increased support from management. This implies that enhancing managerial support could potentially improve employee job satisfaction.']}])"
      ]
     },
     "execution_count": 11,
     "metadata": {},
     "output_type": "execute_result"
    }
   ],
   "source": [
    "(\n",
    "    results\n",
    "    .sample(5)\n",
    "    .sort_by(\"id\")\n",
    "    .select(\"id\", \"reasons\", \"policies\", \"suggestions\")\n",
    ")"
   ]
  },
  {
   "cell_type": "markdown",
   "id": "b2aa190e-b191-4e07-9ad6-eb5bfc5ea39c",
   "metadata": {
    "editable": true,
    "slideshow": {
     "slide_type": ""
    },
    "tags": []
   },
   "source": [
    "## Quantifying themes\n",
    "We now want to quantify the responses to our original questions. One way to do this is to have an agent review all the responses to each question, create comprehensive lists of themes/topics, and then use the lists as answer options for checkbox versions of the origin questions where the agent is prompted to select the themes/topics in each transcript, generating a summary dataset.\n",
    "\n",
    "We start by creating a general question prompting an agent to review a set of responses for a question and generate a condensed list of the themes/topics in the responses:"
   ]
  },
  {
   "cell_type": "code",
   "execution_count": 12,
   "id": "5df41dba-d376-4e08-805d-f9c0dec2fb71",
   "metadata": {
    "editable": true,
    "slideshow": {
     "slide_type": ""
    },
    "tags": []
   },
   "outputs": [],
   "source": [
    "from edsl import QuestionList\n",
    "\n",
    "q_themes = QuestionList(\n",
    "    question_name = \"themes\",\n",
    "    question_text = \"\"\"\n",
    "    Consider the following question that was used to review a set of employee exit interview\n",
    "    transcripts, together with the set of responses to the question for the transcripts. \n",
    "    Draft a list of the key themes/topics in the responses that can be used to quantify them  \n",
    "    across the transcripts. \n",
    "    Question: {{ scenario.original_question }} \n",
    "    Responses: {{ scenario.responses }}\n",
    "    \"\"\",\n",
    "    max_list_items = 10\n",
    ")"
   ]
  },
  {
   "cell_type": "markdown",
   "id": "fab21cc5-355c-4ccd-900d-02d1bf9ddf26",
   "metadata": {
    "editable": true,
    "slideshow": {
     "slide_type": ""
    },
    "tags": []
   },
   "source": [
    "This question will be parameterized with the original questions and responses that we now want to quantify. This is made easy with a method for transforming survey results into scenarios for new questions:"
   ]
  },
  {
   "cell_type": "code",
   "execution_count": 13,
   "id": "78a30091-cc43-4916-90ca-2a53f753236a",
   "metadata": {
    "editable": true,
    "slideshow": {
     "slide_type": ""
    },
    "tags": []
   },
   "outputs": [
    {
     "data": {
      "text/plain": [
       "['reasons', 'policies', 'suggestions']"
      ]
     },
     "execution_count": 13,
     "metadata": {},
     "output_type": "execute_result"
    }
   ],
   "source": [
    "survey.question_names"
   ]
  },
  {
   "cell_type": "code",
   "execution_count": 14,
   "id": "076bf3f0-c8fd-4ed2-85e7-4992942805b1",
   "metadata": {
    "editable": true,
    "slideshow": {
     "slide_type": ""
    },
    "tags": []
   },
   "outputs": [],
   "source": [
    "from edsl import ScenarioList, Scenario\n",
    "\n",
    "response_scenarios = []\n",
    "\n",
    "for question_name in survey.question_names:\n",
    "    question_text = results.select(f\"question_text.{question_name}_question_text\").first()\n",
    "    responses = results.select(f\"{question_name}\").to_list(flatten=True)\n",
    "    response_scenarios.append(\n",
    "        Scenario(\n",
    "            {\n",
    "                \"question_name\": question_name,\n",
    "                \"original_question\": question_text,\n",
    "                \"responses\": responses\n",
    "            }\n",
    "        )\n",
    "    )\n",
    "\n",
    "response_scenarios = ScenarioList(response_scenarios)"
   ]
  },
  {
   "cell_type": "markdown",
   "id": "15c6dd0e-a14a-4cd9-9358-919f5d5c7b3c",
   "metadata": {
    "editable": true,
    "slideshow": {
     "slide_type": ""
    },
    "tags": []
   },
   "source": [
    "The braces `{{` `}}` in the original question text will be automatically changed to `<<` `>>` when the question is used as a scenario value; we can also do this explicitly:"
   ]
  },
  {
   "cell_type": "code",
   "execution_count": 15,
   "id": "fb945dec-e5d1-4300-b7d2-bd3b53cca3c9",
   "metadata": {
    "editable": true,
    "slideshow": {
     "slide_type": ""
    },
    "tags": []
   },
   "outputs": [],
   "source": [
    "themes_results = q_themes.by(response_scenarios).run(verbose = False)"
   ]
  },
  {
   "cell_type": "code",
   "execution_count": 16,
   "id": "fdcc7e36-5f82-44d8-a8f0-464171e6f55f",
   "metadata": {
    "editable": true,
    "slideshow": {
     "slide_type": ""
    },
    "tags": []
   },
   "outputs": [
    {
     "data": {
      "text/html": [
       "\n",
       "            <div style=\"max-height: 500px; overflow-y: auto;\">\n",
       "                <style type=\"text/css\">\n",
       "#T_a0f2a_row0_col0, #T_a0f2a_row0_col1, #T_a0f2a_row0_col2, #T_a0f2a_row1_col0, #T_a0f2a_row1_col1, #T_a0f2a_row1_col2, #T_a0f2a_row2_col0, #T_a0f2a_row2_col1, #T_a0f2a_row2_col2 {\n",
       "  text-align: left;\n",
       "}\n",
       "</style>\n",
       "<table id=\"T_a0f2a\">\n",
       "  <thead>\n",
       "    <tr>\n",
       "      <th class=\"blank level0\" >&nbsp;</th>\n",
       "      <th id=\"T_a0f2a_level0_col0\" class=\"col_heading level0 col0\" >scenario.question_name</th>\n",
       "      <th id=\"T_a0f2a_level0_col1\" class=\"col_heading level0 col1\" >scenario.original_question</th>\n",
       "      <th id=\"T_a0f2a_level0_col2\" class=\"col_heading level0 col2\" >answer.themes</th>\n",
       "    </tr>\n",
       "  </thead>\n",
       "  <tbody>\n",
       "    <tr>\n",
       "      <th id=\"T_a0f2a_level0_row0\" class=\"row_heading level0 row0\" >0</th>\n",
       "      <td id=\"T_a0f2a_row0_col0\" class=\"data row0 col0\" >reasons</td>\n",
       "      <td id=\"T_a0f2a_row0_col1\" class=\"data row0 col1\" >Identify the interviewee's reasons for leaving: {{ scenario.transcript }}</td>\n",
       "      <td id=\"T_a0f2a_row0_col2\" class=\"data row0 col2\" >['Lack of career advancement opportunities', 'Work-life balance issues', 'Inflexible remote work policies', 'Underutilization of skills', 'Desire for new challenges', 'Dissatisfaction with management style', 'Lack of recognition and rewards', 'Concerns about company policies', 'Communication and collaboration issues', 'Misalignment with company vision']</td>\n",
       "    </tr>\n",
       "    <tr>\n",
       "      <th id=\"T_a0f2a_level0_row1\" class=\"row_heading level0 row1\" >1</th>\n",
       "      <td id=\"T_a0f2a_row1_col0\" class=\"data row1 col0\" >policies</td>\n",
       "      <td id=\"T_a0f2a_row1_col1\" class=\"data row1 col1\" >Identify any feedback on company policies from the interviewee: {{ scenario.transcript }}</td>\n",
       "      <td id=\"T_a0f2a_row1_col2\" class=\"data row1 col2\" >['Career Advancement Opportunities', 'Work-Life Balance', 'Remote Work Flexibility', 'Skill Utilization', 'Management Style', 'Employee Recognition', 'Inter-Departmental Communication', 'Diversity and Inclusion', 'Compensation and Salaries', 'Performance Evaluation Transparency']</td>\n",
       "    </tr>\n",
       "    <tr>\n",
       "      <th id=\"T_a0f2a_level0_row2\" class=\"row_heading level0 row2\" >2</th>\n",
       "      <td id=\"T_a0f2a_row2_col0\" class=\"data row2 col0\" >suggestions</td>\n",
       "      <td id=\"T_a0f2a_row2_col1\" class=\"data row2 col1\" >Identify any suggestions for improvements from the interviewee: {{ scenario.transcript }}</td>\n",
       "      <td id=\"T_a0f2a_row2_col2\" class=\"data row2 col2\" >['Career Advancement Opportunities', 'Work-Life Balance', 'Remote Work Flexibility', 'Utilization of Skills', 'Creative Challenges and Projects', 'Recognition and Rewards', 'Performance Evaluation Transparency', 'Inter-Departmental Communication', 'Diversity and Inclusion', 'Management Support']</td>\n",
       "    </tr>\n",
       "  </tbody>\n",
       "</table>\n",
       "\n",
       "            </div>\n",
       "            "
      ],
      "text/plain": [
       "Dataset([{'scenario.question_name': ['reasons', 'policies', 'suggestions']}, {'scenario.original_question': [\"Identify the interviewee's reasons for leaving: {{ scenario.transcript }}\", 'Identify any feedback on company policies from the interviewee: {{ scenario.transcript }}', 'Identify any suggestions for improvements from the interviewee: {{ scenario.transcript }}']}, {'answer.themes': [['Lack of career advancement opportunities', 'Work-life balance issues', 'Inflexible remote work policies', 'Underutilization of skills', 'Desire for new challenges', 'Dissatisfaction with management style', 'Lack of recognition and rewards', 'Concerns about company policies', 'Communication and collaboration issues', 'Misalignment with company vision'], ['Career Advancement Opportunities', 'Work-Life Balance', 'Remote Work Flexibility', 'Skill Utilization', 'Management Style', 'Employee Recognition', 'Inter-Departmental Communication', 'Diversity and Inclusion', 'Compensation and Salaries', 'Performance Evaluation Transparency'], ['Career Advancement Opportunities', 'Work-Life Balance', 'Remote Work Flexibility', 'Utilization of Skills', 'Creative Challenges and Projects', 'Recognition and Rewards', 'Performance Evaluation Transparency', 'Inter-Departmental Communication', 'Diversity and Inclusion', 'Management Support']]}])"
      ]
     },
     "execution_count": 16,
     "metadata": {},
     "output_type": "execute_result"
    }
   ],
   "source": [
    "themes_results.select(\"question_name\", \"original_question\", \"themes\")"
   ]
  },
  {
   "cell_type": "markdown",
   "id": "727b7fc4-1a89-42aa-acf7-a4b47046f9aa",
   "metadata": {
    "editable": true,
    "slideshow": {
     "slide_type": ""
    },
    "tags": []
   },
   "source": [
    "Now we can use the lists of themes/topics to rerun the original questions as checkbox questions:"
   ]
  },
  {
   "cell_type": "code",
   "execution_count": 17,
   "id": "08623541-554a-4930-bec6-19557dd877a9",
   "metadata": {
    "editable": true,
    "slideshow": {
     "slide_type": ""
    },
    "tags": []
   },
   "outputs": [],
   "source": [
    "from edsl import QuestionCheckBox\n",
    "\n",
    "q_reasons_options = QuestionCheckBox(\n",
    "    question_name = \"reasons_options\",\n",
    "    question_text = \"Identify the interviewee's reasons for leaving: {{ scenario.transcript }}\",\n",
    "    question_options = themes_results.filter(\"question_name == 'reasons'\").select(\"themes\").first() + [\"None of these\"]\n",
    ")\n",
    "\n",
    "q_policies_options = QuestionCheckBox(\n",
    "    question_name = \"policies_options\",\n",
    "    question_text = \"Identify any feedback on company policies from the interviewee: {{ scenario.transcript }}\",\n",
    "    question_options = themes_results.filter(\"question_name == 'policies'\").select(\"themes\").first() + [\"None of these\"]\n",
    ")\n",
    "\n",
    "q_suggestions_options = QuestionCheckBox(\n",
    "    question_name = \"suggestions_options\",\n",
    "    question_text = \"Identify any suggestions for improvements from the interviewee: {{ scenario.transcript }}\",\n",
    "    question_options = themes_results.filter(\"question_name == 'suggestions'\").select(\"themes\").first() + [\"None of these\"]\n",
    ")\n",
    "options_survey = Survey([q_reasons_options, q_policies_options, q_suggestions_options])\n",
    "# options_survey.show_flow()"
   ]
  },
  {
   "cell_type": "code",
   "execution_count": 18,
   "id": "667fe3ce-d78c-489a-b8ed-23ce93f6d09d",
   "metadata": {
    "editable": true,
    "slideshow": {
     "slide_type": ""
    },
    "tags": []
   },
   "outputs": [],
   "source": [
    "scenarios = ScenarioList.from_nested_dict(exit_interviews) # same as above"
   ]
  },
  {
   "cell_type": "code",
   "execution_count": 19,
   "id": "b665b207-5731-4740-b755-63f3f64c8309",
   "metadata": {
    "editable": true,
    "slideshow": {
     "slide_type": ""
    },
    "tags": []
   },
   "outputs": [],
   "source": [
    "options_results = options_survey.by(scenarios).run(verbose = False)"
   ]
  },
  {
   "cell_type": "code",
   "execution_count": 20,
   "id": "177216e4-d755-49b3-ac18-6438c79e0262",
   "metadata": {
    "editable": true,
    "slideshow": {
     "slide_type": ""
    },
    "tags": []
   },
   "outputs": [
    {
     "data": {
      "text/html": [
       "\n",
       "            <div style=\"max-height: 500px; overflow-y: auto;\">\n",
       "                <style type=\"text/css\">\n",
       "#T_4f1ca_row0_col0, #T_4f1ca_row0_col1, #T_4f1ca_row0_col2, #T_4f1ca_row1_col0, #T_4f1ca_row1_col1, #T_4f1ca_row1_col2, #T_4f1ca_row2_col0, #T_4f1ca_row2_col1, #T_4f1ca_row2_col2, #T_4f1ca_row3_col0, #T_4f1ca_row3_col1, #T_4f1ca_row3_col2, #T_4f1ca_row4_col0, #T_4f1ca_row4_col1, #T_4f1ca_row4_col2 {\n",
       "  text-align: left;\n",
       "}\n",
       "</style>\n",
       "<table id=\"T_4f1ca\">\n",
       "  <thead>\n",
       "    <tr>\n",
       "      <th class=\"blank level0\" >&nbsp;</th>\n",
       "      <th id=\"T_4f1ca_level0_col0\" class=\"col_heading level0 col0\" >answer.reasons_options</th>\n",
       "      <th id=\"T_4f1ca_level0_col1\" class=\"col_heading level0 col1\" >answer.policies_options</th>\n",
       "      <th id=\"T_4f1ca_level0_col2\" class=\"col_heading level0 col2\" >answer.suggestions_options</th>\n",
       "    </tr>\n",
       "  </thead>\n",
       "  <tbody>\n",
       "    <tr>\n",
       "      <th id=\"T_4f1ca_level0_row0\" class=\"row_heading level0 row0\" >0</th>\n",
       "      <td id=\"T_4f1ca_row0_col0\" class=\"data row0 col0\" >['None of these']</td>\n",
       "      <td id=\"T_4f1ca_row0_col1\" class=\"data row0 col1\" >['Career Advancement Opportunities']</td>\n",
       "      <td id=\"T_4f1ca_row0_col2\" class=\"data row0 col2\" >['None of these']</td>\n",
       "    </tr>\n",
       "    <tr>\n",
       "      <th id=\"T_4f1ca_level0_row1\" class=\"row_heading level0 row1\" >1</th>\n",
       "      <td id=\"T_4f1ca_row1_col0\" class=\"data row1 col0\" >['None of these']</td>\n",
       "      <td id=\"T_4f1ca_row1_col1\" class=\"data row1 col1\" >['None of these']</td>\n",
       "      <td id=\"T_4f1ca_row1_col2\" class=\"data row1 col2\" >['None of these']</td>\n",
       "    </tr>\n",
       "    <tr>\n",
       "      <th id=\"T_4f1ca_level0_row2\" class=\"row_heading level0 row2\" >2</th>\n",
       "      <td id=\"T_4f1ca_row2_col0\" class=\"data row2 col0\" >['Underutilization of skills']</td>\n",
       "      <td id=\"T_4f1ca_row2_col1\" class=\"data row2 col1\" >['Skill Utilization']</td>\n",
       "      <td id=\"T_4f1ca_row2_col2\" class=\"data row2 col2\" >['Utilization of Skills']</td>\n",
       "    </tr>\n",
       "    <tr>\n",
       "      <th id=\"T_4f1ca_level0_row3\" class=\"row_heading level0 row3\" >3</th>\n",
       "      <td id=\"T_4f1ca_row3_col0\" class=\"data row3 col0\" >['Communication and collaboration issues']</td>\n",
       "      <td id=\"T_4f1ca_row3_col1\" class=\"data row3 col1\" >['Inter-Departmental Communication']</td>\n",
       "      <td id=\"T_4f1ca_row3_col2\" class=\"data row3 col2\" >['Inter-Departmental Communication']</td>\n",
       "    </tr>\n",
       "    <tr>\n",
       "      <th id=\"T_4f1ca_level0_row4\" class=\"row_heading level0 row4\" >4</th>\n",
       "      <td id=\"T_4f1ca_row4_col0\" class=\"data row4 col0\" >['Lack of recognition and rewards']</td>\n",
       "      <td id=\"T_4f1ca_row4_col1\" class=\"data row4 col1\" >['Employee Recognition']</td>\n",
       "      <td id=\"T_4f1ca_row4_col2\" class=\"data row4 col2\" >['Recognition and Rewards', 'Performance Evaluation Transparency']</td>\n",
       "    </tr>\n",
       "  </tbody>\n",
       "</table>\n",
       "\n",
       "            </div>\n",
       "            "
      ],
      "text/plain": [
       "Dataset([{'answer.reasons_options': [['None of these'], ['None of these'], ['Underutilization of skills'], ['Communication and collaboration issues'], ['Lack of recognition and rewards']]}, {'answer.policies_options': [['Career Advancement Opportunities'], ['None of these'], ['Skill Utilization'], ['Inter-Departmental Communication'], ['Employee Recognition']]}, {'answer.suggestions_options': [['None of these'], ['None of these'], ['Utilization of Skills'], ['Inter-Departmental Communication'], ['Recognition and Rewards', 'Performance Evaluation Transparency']]}])"
      ]
     },
     "execution_count": 20,
     "metadata": {},
     "output_type": "execute_result"
    }
   ],
   "source": [
    "(\n",
    "    options_results\n",
    "    .sample(5)\n",
    "    .select(\"reasons_options\", \"policies_options\", \"suggestions_options\")\n",
    ")"
   ]
  },
  {
   "cell_type": "markdown",
   "id": "061390ad-8a61-4b6f-b62a-8addc8168fcc",
   "metadata": {
    "editable": true,
    "slideshow": {
     "slide_type": ""
    },
    "tags": []
   },
   "source": [
    "## We can tally up themes by question\n",
    "Note that EDSL has extensive commands for re-shaping results objects returns from a survey."
   ]
  },
  {
   "cell_type": "code",
   "execution_count": 21,
   "id": "7c761760",
   "metadata": {
    "editable": true,
    "slideshow": {
     "slide_type": ""
    },
    "tags": []
   },
   "outputs": [
    {
     "data": {
      "text/html": [
       "\n",
       "            <div style=\"max-height: 500px; overflow-y: auto;\">\n",
       "                <style type=\"text/css\">\n",
       "#T_eb6fd_row0_col0, #T_eb6fd_row0_col1, #T_eb6fd_row1_col0, #T_eb6fd_row1_col1, #T_eb6fd_row2_col0, #T_eb6fd_row2_col1, #T_eb6fd_row3_col0, #T_eb6fd_row3_col1, #T_eb6fd_row4_col0, #T_eb6fd_row4_col1, #T_eb6fd_row5_col0, #T_eb6fd_row5_col1, #T_eb6fd_row6_col0, #T_eb6fd_row6_col1, #T_eb6fd_row7_col0, #T_eb6fd_row7_col1, #T_eb6fd_row8_col0, #T_eb6fd_row8_col1, #T_eb6fd_row9_col0, #T_eb6fd_row9_col1, #T_eb6fd_row10_col0, #T_eb6fd_row10_col1, #T_eb6fd_row11_col0, #T_eb6fd_row11_col1, #T_eb6fd_row12_col0, #T_eb6fd_row12_col1, #T_eb6fd_row13_col0, #T_eb6fd_row13_col1, #T_eb6fd_row14_col0, #T_eb6fd_row14_col1, #T_eb6fd_row15_col0, #T_eb6fd_row15_col1, #T_eb6fd_row16_col0, #T_eb6fd_row16_col1, #T_eb6fd_row17_col0, #T_eb6fd_row17_col1, #T_eb6fd_row18_col0, #T_eb6fd_row18_col1, #T_eb6fd_row19_col0, #T_eb6fd_row19_col1, #T_eb6fd_row20_col0, #T_eb6fd_row20_col1, #T_eb6fd_row21_col0, #T_eb6fd_row21_col1, #T_eb6fd_row22_col0, #T_eb6fd_row22_col1, #T_eb6fd_row23_col0, #T_eb6fd_row23_col1, #T_eb6fd_row24_col0, #T_eb6fd_row24_col1, #T_eb6fd_row25_col0, #T_eb6fd_row25_col1, #T_eb6fd_row26_col0, #T_eb6fd_row26_col1, #T_eb6fd_row27_col0, #T_eb6fd_row27_col1, #T_eb6fd_row28_col0, #T_eb6fd_row28_col1, #T_eb6fd_row29_col0, #T_eb6fd_row29_col1, #T_eb6fd_row30_col0, #T_eb6fd_row30_col1, #T_eb6fd_row31_col0, #T_eb6fd_row31_col1, #T_eb6fd_row32_col0, #T_eb6fd_row32_col1 {\n",
       "  text-align: left;\n",
       "}\n",
       "#T_eb6fd_row0_col2, #T_eb6fd_row22_col2 {\n",
       "  text-align: left;\n",
       "  background-color: #023858;\n",
       "  color: #f1f1f1;\n",
       "}\n",
       "#T_eb6fd_row1_col2, #T_eb6fd_row23_col2 {\n",
       "  text-align: left;\n",
       "  background-color: #0567a2;\n",
       "  color: #f1f1f1;\n",
       "}\n",
       "#T_eb6fd_row2_col2, #T_eb6fd_row13_col2, #T_eb6fd_row14_col2, #T_eb6fd_row24_col2 {\n",
       "  text-align: left;\n",
       "  background-color: #9cb9d9;\n",
       "  color: #000000;\n",
       "}\n",
       "#T_eb6fd_row3_col2, #T_eb6fd_row4_col2, #T_eb6fd_row15_col2, #T_eb6fd_row16_col2, #T_eb6fd_row17_col2, #T_eb6fd_row25_col2, #T_eb6fd_row26_col2, #T_eb6fd_row27_col2, #T_eb6fd_row28_col2 {\n",
       "  text-align: left;\n",
       "  background-color: #dbdaeb;\n",
       "  color: #000000;\n",
       "}\n",
       "#T_eb6fd_row5_col2, #T_eb6fd_row6_col2, #T_eb6fd_row7_col2, #T_eb6fd_row8_col2, #T_eb6fd_row9_col2, #T_eb6fd_row10_col2, #T_eb6fd_row18_col2, #T_eb6fd_row19_col2, #T_eb6fd_row20_col2, #T_eb6fd_row21_col2, #T_eb6fd_row29_col2, #T_eb6fd_row30_col2, #T_eb6fd_row31_col2, #T_eb6fd_row32_col2 {\n",
       "  text-align: left;\n",
       "  background-color: #fff7fb;\n",
       "  color: #000000;\n",
       "}\n",
       "#T_eb6fd_row11_col2, #T_eb6fd_row12_col2 {\n",
       "  text-align: left;\n",
       "  background-color: #4295c3;\n",
       "  color: #f1f1f1;\n",
       "}\n",
       "</style>\n",
       "<table id=\"T_eb6fd\">\n",
       "  <thead>\n",
       "    <tr>\n",
       "      <th class=\"blank level0\" >&nbsp;</th>\n",
       "      <th id=\"T_eb6fd_level0_col0\" class=\"col_heading level0 col0\" >key</th>\n",
       "      <th id=\"T_eb6fd_level0_col1\" class=\"col_heading level0 col1\" >value</th>\n",
       "      <th id=\"T_eb6fd_level0_col2\" class=\"col_heading level0 col2\" >num_mentions</th>\n",
       "    </tr>\n",
       "  </thead>\n",
       "  <tbody>\n",
       "    <tr>\n",
       "      <th id=\"T_eb6fd_level0_row0\" class=\"row_heading level0 row0\" >0</th>\n",
       "      <td id=\"T_eb6fd_row0_col0\" class=\"data row0 col0\" >answer.policies_options</td>\n",
       "      <td id=\"T_eb6fd_row0_col1\" class=\"data row0 col1\" >None of these</td>\n",
       "      <td id=\"T_eb6fd_row0_col2\" class=\"data row0 col2\" >6</td>\n",
       "    </tr>\n",
       "    <tr>\n",
       "      <th id=\"T_eb6fd_level0_row1\" class=\"row_heading level0 row1\" >1</th>\n",
       "      <td id=\"T_eb6fd_row1_col0\" class=\"data row1 col0\" >answer.policies_options</td>\n",
       "      <td id=\"T_eb6fd_row1_col1\" class=\"data row1 col1\" >Career Advancement Opportunities</td>\n",
       "      <td id=\"T_eb6fd_row1_col2\" class=\"data row1 col2\" >5</td>\n",
       "    </tr>\n",
       "    <tr>\n",
       "      <th id=\"T_eb6fd_level0_row2\" class=\"row_heading level0 row2\" >2</th>\n",
       "      <td id=\"T_eb6fd_row2_col0\" class=\"data row2 col0\" >answer.policies_options</td>\n",
       "      <td id=\"T_eb6fd_row2_col1\" class=\"data row2 col1\" >Skill Utilization</td>\n",
       "      <td id=\"T_eb6fd_row2_col2\" class=\"data row2 col2\" >3</td>\n",
       "    </tr>\n",
       "    <tr>\n",
       "      <th id=\"T_eb6fd_level0_row3\" class=\"row_heading level0 row3\" >3</th>\n",
       "      <td id=\"T_eb6fd_row3_col0\" class=\"data row3 col0\" >answer.policies_options</td>\n",
       "      <td id=\"T_eb6fd_row3_col1\" class=\"data row3 col1\" >Management Style</td>\n",
       "      <td id=\"T_eb6fd_row3_col2\" class=\"data row3 col2\" >2</td>\n",
       "    </tr>\n",
       "    <tr>\n",
       "      <th id=\"T_eb6fd_level0_row4\" class=\"row_heading level0 row4\" >4</th>\n",
       "      <td id=\"T_eb6fd_row4_col0\" class=\"data row4 col0\" >answer.policies_options</td>\n",
       "      <td id=\"T_eb6fd_row4_col1\" class=\"data row4 col1\" >Employee Recognition</td>\n",
       "      <td id=\"T_eb6fd_row4_col2\" class=\"data row4 col2\" >2</td>\n",
       "    </tr>\n",
       "    <tr>\n",
       "      <th id=\"T_eb6fd_level0_row5\" class=\"row_heading level0 row5\" >5</th>\n",
       "      <td id=\"T_eb6fd_row5_col0\" class=\"data row5 col0\" >answer.policies_options</td>\n",
       "      <td id=\"T_eb6fd_row5_col1\" class=\"data row5 col1\" >Work-Life Balance</td>\n",
       "      <td id=\"T_eb6fd_row5_col2\" class=\"data row5 col2\" >1</td>\n",
       "    </tr>\n",
       "    <tr>\n",
       "      <th id=\"T_eb6fd_level0_row6\" class=\"row_heading level0 row6\" >6</th>\n",
       "      <td id=\"T_eb6fd_row6_col0\" class=\"data row6 col0\" >answer.policies_options</td>\n",
       "      <td id=\"T_eb6fd_row6_col1\" class=\"data row6 col1\" >Remote Work Flexibility</td>\n",
       "      <td id=\"T_eb6fd_row6_col2\" class=\"data row6 col2\" >1</td>\n",
       "    </tr>\n",
       "    <tr>\n",
       "      <th id=\"T_eb6fd_level0_row7\" class=\"row_heading level0 row7\" >7</th>\n",
       "      <td id=\"T_eb6fd_row7_col0\" class=\"data row7 col0\" >answer.policies_options</td>\n",
       "      <td id=\"T_eb6fd_row7_col1\" class=\"data row7 col1\" >Performance Evaluation Transparency</td>\n",
       "      <td id=\"T_eb6fd_row7_col2\" class=\"data row7 col2\" >1</td>\n",
       "    </tr>\n",
       "    <tr>\n",
       "      <th id=\"T_eb6fd_level0_row8\" class=\"row_heading level0 row8\" >8</th>\n",
       "      <td id=\"T_eb6fd_row8_col0\" class=\"data row8 col0\" >answer.policies_options</td>\n",
       "      <td id=\"T_eb6fd_row8_col1\" class=\"data row8 col1\" >Inter-Departmental Communication</td>\n",
       "      <td id=\"T_eb6fd_row8_col2\" class=\"data row8 col2\" >1</td>\n",
       "    </tr>\n",
       "    <tr>\n",
       "      <th id=\"T_eb6fd_level0_row9\" class=\"row_heading level0 row9\" >9</th>\n",
       "      <td id=\"T_eb6fd_row9_col0\" class=\"data row9 col0\" >answer.policies_options</td>\n",
       "      <td id=\"T_eb6fd_row9_col1\" class=\"data row9 col1\" >Diversity and Inclusion</td>\n",
       "      <td id=\"T_eb6fd_row9_col2\" class=\"data row9 col2\" >1</td>\n",
       "    </tr>\n",
       "    <tr>\n",
       "      <th id=\"T_eb6fd_level0_row10\" class=\"row_heading level0 row10\" >10</th>\n",
       "      <td id=\"T_eb6fd_row10_col0\" class=\"data row10 col0\" >answer.policies_options</td>\n",
       "      <td id=\"T_eb6fd_row10_col1\" class=\"data row10 col1\" >Compensation and Salaries</td>\n",
       "      <td id=\"T_eb6fd_row10_col2\" class=\"data row10 col2\" >1</td>\n",
       "    </tr>\n",
       "    <tr>\n",
       "      <th id=\"T_eb6fd_level0_row11\" class=\"row_heading level0 row11\" >11</th>\n",
       "      <td id=\"T_eb6fd_row11_col0\" class=\"data row11 col0\" >answer.reasons_options</td>\n",
       "      <td id=\"T_eb6fd_row11_col1\" class=\"data row11 col1\" >None of these</td>\n",
       "      <td id=\"T_eb6fd_row11_col2\" class=\"data row11 col2\" >4</td>\n",
       "    </tr>\n",
       "    <tr>\n",
       "      <th id=\"T_eb6fd_level0_row12\" class=\"row_heading level0 row12\" >12</th>\n",
       "      <td id=\"T_eb6fd_row12_col0\" class=\"data row12 col0\" >answer.reasons_options</td>\n",
       "      <td id=\"T_eb6fd_row12_col1\" class=\"data row12 col1\" >Concerns about company policies</td>\n",
       "      <td id=\"T_eb6fd_row12_col2\" class=\"data row12 col2\" >4</td>\n",
       "    </tr>\n",
       "    <tr>\n",
       "      <th id=\"T_eb6fd_level0_row13\" class=\"row_heading level0 row13\" >13</th>\n",
       "      <td id=\"T_eb6fd_row13_col0\" class=\"data row13 col0\" >answer.reasons_options</td>\n",
       "      <td id=\"T_eb6fd_row13_col1\" class=\"data row13 col1\" >Lack of recognition and rewards</td>\n",
       "      <td id=\"T_eb6fd_row13_col2\" class=\"data row13 col2\" >3</td>\n",
       "    </tr>\n",
       "    <tr>\n",
       "      <th id=\"T_eb6fd_level0_row14\" class=\"row_heading level0 row14\" >14</th>\n",
       "      <td id=\"T_eb6fd_row14_col0\" class=\"data row14 col0\" >answer.reasons_options</td>\n",
       "      <td id=\"T_eb6fd_row14_col1\" class=\"data row14 col1\" >Lack of career advancement opportunities</td>\n",
       "      <td id=\"T_eb6fd_row14_col2\" class=\"data row14 col2\" >3</td>\n",
       "    </tr>\n",
       "    <tr>\n",
       "      <th id=\"T_eb6fd_level0_row15\" class=\"row_heading level0 row15\" >15</th>\n",
       "      <td id=\"T_eb6fd_row15_col0\" class=\"data row15 col0\" >answer.reasons_options</td>\n",
       "      <td id=\"T_eb6fd_row15_col1\" class=\"data row15 col1\" >Misalignment with company vision</td>\n",
       "      <td id=\"T_eb6fd_row15_col2\" class=\"data row15 col2\" >2</td>\n",
       "    </tr>\n",
       "    <tr>\n",
       "      <th id=\"T_eb6fd_level0_row16\" class=\"row_heading level0 row16\" >16</th>\n",
       "      <td id=\"T_eb6fd_row16_col0\" class=\"data row16 col0\" >answer.reasons_options</td>\n",
       "      <td id=\"T_eb6fd_row16_col1\" class=\"data row16 col1\" >Dissatisfaction with management style</td>\n",
       "      <td id=\"T_eb6fd_row16_col2\" class=\"data row16 col2\" >2</td>\n",
       "    </tr>\n",
       "    <tr>\n",
       "      <th id=\"T_eb6fd_level0_row17\" class=\"row_heading level0 row17\" >17</th>\n",
       "      <td id=\"T_eb6fd_row17_col0\" class=\"data row17 col0\" >answer.reasons_options</td>\n",
       "      <td id=\"T_eb6fd_row17_col1\" class=\"data row17 col1\" >Desire for new challenges</td>\n",
       "      <td id=\"T_eb6fd_row17_col2\" class=\"data row17 col2\" >2</td>\n",
       "    </tr>\n",
       "    <tr>\n",
       "      <th id=\"T_eb6fd_level0_row18\" class=\"row_heading level0 row18\" >18</th>\n",
       "      <td id=\"T_eb6fd_row18_col0\" class=\"data row18 col0\" >answer.reasons_options</td>\n",
       "      <td id=\"T_eb6fd_row18_col1\" class=\"data row18 col1\" >Work-life balance issues</td>\n",
       "      <td id=\"T_eb6fd_row18_col2\" class=\"data row18 col2\" >1</td>\n",
       "    </tr>\n",
       "    <tr>\n",
       "      <th id=\"T_eb6fd_level0_row19\" class=\"row_heading level0 row19\" >19</th>\n",
       "      <td id=\"T_eb6fd_row19_col0\" class=\"data row19 col0\" >answer.reasons_options</td>\n",
       "      <td id=\"T_eb6fd_row19_col1\" class=\"data row19 col1\" >Underutilization of skills</td>\n",
       "      <td id=\"T_eb6fd_row19_col2\" class=\"data row19 col2\" >1</td>\n",
       "    </tr>\n",
       "    <tr>\n",
       "      <th id=\"T_eb6fd_level0_row20\" class=\"row_heading level0 row20\" >20</th>\n",
       "      <td id=\"T_eb6fd_row20_col0\" class=\"data row20 col0\" >answer.reasons_options</td>\n",
       "      <td id=\"T_eb6fd_row20_col1\" class=\"data row20 col1\" >Inflexible remote work policies</td>\n",
       "      <td id=\"T_eb6fd_row20_col2\" class=\"data row20 col2\" >1</td>\n",
       "    </tr>\n",
       "    <tr>\n",
       "      <th id=\"T_eb6fd_level0_row21\" class=\"row_heading level0 row21\" >21</th>\n",
       "      <td id=\"T_eb6fd_row21_col0\" class=\"data row21 col0\" >answer.reasons_options</td>\n",
       "      <td id=\"T_eb6fd_row21_col1\" class=\"data row21 col1\" >Communication and collaboration issues</td>\n",
       "      <td id=\"T_eb6fd_row21_col2\" class=\"data row21 col2\" >1</td>\n",
       "    </tr>\n",
       "    <tr>\n",
       "      <th id=\"T_eb6fd_level0_row22\" class=\"row_heading level0 row22\" >22</th>\n",
       "      <td id=\"T_eb6fd_row22_col0\" class=\"data row22 col0\" >answer.suggestions_options</td>\n",
       "      <td id=\"T_eb6fd_row22_col1\" class=\"data row22 col1\" >None of these</td>\n",
       "      <td id=\"T_eb6fd_row22_col2\" class=\"data row22 col2\" >6</td>\n",
       "    </tr>\n",
       "    <tr>\n",
       "      <th id=\"T_eb6fd_level0_row23\" class=\"row_heading level0 row23\" >23</th>\n",
       "      <td id=\"T_eb6fd_row23_col0\" class=\"data row23 col0\" >answer.suggestions_options</td>\n",
       "      <td id=\"T_eb6fd_row23_col1\" class=\"data row23 col1\" >Career Advancement Opportunities</td>\n",
       "      <td id=\"T_eb6fd_row23_col2\" class=\"data row23 col2\" >5</td>\n",
       "    </tr>\n",
       "    <tr>\n",
       "      <th id=\"T_eb6fd_level0_row24\" class=\"row_heading level0 row24\" >24</th>\n",
       "      <td id=\"T_eb6fd_row24_col0\" class=\"data row24 col0\" >answer.suggestions_options</td>\n",
       "      <td id=\"T_eb6fd_row24_col1\" class=\"data row24 col1\" >Utilization of Skills</td>\n",
       "      <td id=\"T_eb6fd_row24_col2\" class=\"data row24 col2\" >3</td>\n",
       "    </tr>\n",
       "    <tr>\n",
       "      <th id=\"T_eb6fd_level0_row25\" class=\"row_heading level0 row25\" >25</th>\n",
       "      <td id=\"T_eb6fd_row25_col0\" class=\"data row25 col0\" >answer.suggestions_options</td>\n",
       "      <td id=\"T_eb6fd_row25_col1\" class=\"data row25 col1\" >Recognition and Rewards</td>\n",
       "      <td id=\"T_eb6fd_row25_col2\" class=\"data row25 col2\" >2</td>\n",
       "    </tr>\n",
       "    <tr>\n",
       "      <th id=\"T_eb6fd_level0_row26\" class=\"row_heading level0 row26\" >26</th>\n",
       "      <td id=\"T_eb6fd_row26_col0\" class=\"data row26 col0\" >answer.suggestions_options</td>\n",
       "      <td id=\"T_eb6fd_row26_col1\" class=\"data row26 col1\" >Performance Evaluation Transparency</td>\n",
       "      <td id=\"T_eb6fd_row26_col2\" class=\"data row26 col2\" >2</td>\n",
       "    </tr>\n",
       "    <tr>\n",
       "      <th id=\"T_eb6fd_level0_row27\" class=\"row_heading level0 row27\" >27</th>\n",
       "      <td id=\"T_eb6fd_row27_col0\" class=\"data row27 col0\" >answer.suggestions_options</td>\n",
       "      <td id=\"T_eb6fd_row27_col1\" class=\"data row27 col1\" >Management Support</td>\n",
       "      <td id=\"T_eb6fd_row27_col2\" class=\"data row27 col2\" >2</td>\n",
       "    </tr>\n",
       "    <tr>\n",
       "      <th id=\"T_eb6fd_level0_row28\" class=\"row_heading level0 row28\" >28</th>\n",
       "      <td id=\"T_eb6fd_row28_col0\" class=\"data row28 col0\" >answer.suggestions_options</td>\n",
       "      <td id=\"T_eb6fd_row28_col1\" class=\"data row28 col1\" >Creative Challenges and Projects</td>\n",
       "      <td id=\"T_eb6fd_row28_col2\" class=\"data row28 col2\" >2</td>\n",
       "    </tr>\n",
       "    <tr>\n",
       "      <th id=\"T_eb6fd_level0_row29\" class=\"row_heading level0 row29\" >29</th>\n",
       "      <td id=\"T_eb6fd_row29_col0\" class=\"data row29 col0\" >answer.suggestions_options</td>\n",
       "      <td id=\"T_eb6fd_row29_col1\" class=\"data row29 col1\" >Work-Life Balance</td>\n",
       "      <td id=\"T_eb6fd_row29_col2\" class=\"data row29 col2\" >1</td>\n",
       "    </tr>\n",
       "    <tr>\n",
       "      <th id=\"T_eb6fd_level0_row30\" class=\"row_heading level0 row30\" >30</th>\n",
       "      <td id=\"T_eb6fd_row30_col0\" class=\"data row30 col0\" >answer.suggestions_options</td>\n",
       "      <td id=\"T_eb6fd_row30_col1\" class=\"data row30 col1\" >Remote Work Flexibility</td>\n",
       "      <td id=\"T_eb6fd_row30_col2\" class=\"data row30 col2\" >1</td>\n",
       "    </tr>\n",
       "    <tr>\n",
       "      <th id=\"T_eb6fd_level0_row31\" class=\"row_heading level0 row31\" >31</th>\n",
       "      <td id=\"T_eb6fd_row31_col0\" class=\"data row31 col0\" >answer.suggestions_options</td>\n",
       "      <td id=\"T_eb6fd_row31_col1\" class=\"data row31 col1\" >Inter-Departmental Communication</td>\n",
       "      <td id=\"T_eb6fd_row31_col2\" class=\"data row31 col2\" >1</td>\n",
       "    </tr>\n",
       "    <tr>\n",
       "      <th id=\"T_eb6fd_level0_row32\" class=\"row_heading level0 row32\" >32</th>\n",
       "      <td id=\"T_eb6fd_row32_col0\" class=\"data row32 col0\" >answer.suggestions_options</td>\n",
       "      <td id=\"T_eb6fd_row32_col1\" class=\"data row32 col1\" >Diversity and Inclusion</td>\n",
       "      <td id=\"T_eb6fd_row32_col2\" class=\"data row32 col2\" >1</td>\n",
       "    </tr>\n",
       "  </tbody>\n",
       "</table>\n",
       "\n",
       "            </div>\n",
       "            "
      ],
      "text/plain": [
       "Dataset([{'key': ['answer.policies_options', 'answer.policies_options', 'answer.policies_options', 'answer.policies_options', 'answer.policies_options', 'answer.policies_options', 'answer.policies_options', 'answer.policies_options', 'answer.policies_options', 'answer.policies_options', 'answer.policies_options', 'answer.reasons_options', 'answer.reasons_options', 'answer.reasons_options', 'answer.reasons_options', 'answer.reasons_options', 'answer.reasons_options', 'answer.reasons_options', 'answer.reasons_options', 'answer.reasons_options', 'answer.reasons_options', 'answer.reasons_options', 'answer.suggestions_options', 'answer.suggestions_options', 'answer.suggestions_options', 'answer.suggestions_options', 'answer.suggestions_options', 'answer.suggestions_options', 'answer.suggestions_options', 'answer.suggestions_options', 'answer.suggestions_options', 'answer.suggestions_options', 'answer.suggestions_options']}, {'value': ['None of these', 'Career Advancement Opportunities', 'Skill Utilization', 'Management Style', 'Employee Recognition', 'Work-Life Balance', 'Remote Work Flexibility', 'Performance Evaluation Transparency', 'Inter-Departmental Communication', 'Diversity and Inclusion', 'Compensation and Salaries', 'None of these', 'Concerns about company policies', 'Lack of recognition and rewards', 'Lack of career advancement opportunities', 'Misalignment with company vision', 'Dissatisfaction with management style', 'Desire for new challenges', 'Work-life balance issues', 'Underutilization of skills', 'Inflexible remote work policies', 'Communication and collaboration issues', 'None of these', 'Career Advancement Opportunities', 'Utilization of Skills', 'Recognition and Rewards', 'Performance Evaluation Transparency', 'Management Support', 'Creative Challenges and Projects', 'Work-Life Balance', 'Remote Work Flexibility', 'Inter-Departmental Communication', 'Diversity and Inclusion']}, {'num_mentions': [6, 5, 3, 2, 2, 1, 1, 1, 1, 1, 1, 4, 4, 3, 3, 2, 2, 2, 1, 1, 1, 1, 6, 5, 3, 2, 2, 2, 2, 1, 1, 1, 1]}])"
      ]
     },
     "execution_count": 21,
     "metadata": {},
     "output_type": "execute_result"
    }
   ],
   "source": [
    "(options_results\n",
    " .select(\"reasons_options\", \"policies_options\", \"suggestions_options\")\n",
    " .long() # get all the answers in one column called 'value'\n",
    " .expand(\"value\") # expand the list of responses\n",
    " .sql(\"\"\"\n",
    "select key, value, count(*) as num_mentions \n",
    "from self group by key, value \n",
    "order by key, num_mentions desc\"\"\")\n",
    ")"
   ]
  },
  {
   "cell_type": "markdown",
   "id": "e5782bc0-9640-4f54-addf-6737377b2e84",
   "metadata": {
    "editable": true,
    "slideshow": {
     "slide_type": ""
    },
    "tags": []
   },
   "source": [
    "## Visualizaing the data\n",
    "We can also reshape with SQL and plot our data by passing ggplot2 code. "
   ]
  },
  {
   "cell_type": "code",
   "execution_count": 22,
   "id": "32d51398-f82a-49f5-9f29-1efb3b5fbec4",
   "metadata": {
    "editable": true,
    "slideshow": {
     "slide_type": ""
    },
    "tags": []
   },
   "outputs": [
    {
     "data": {
      "text/html": [
       "<?xml version='1.0' encoding='UTF-8' ?>\n",
       "<svg xmlns='http://www.w3.org/2000/svg' xmlns:xlink='http://www.w3.org/1999/xlink' class='svglite' width='432.00pt' height='432.00pt' viewBox='0 0 432.00 432.00'>\n",
       "<defs>\n",
       "  <style type='text/css'><![CDATA[\n",
       "    .svglite line, .svglite polyline, .svglite polygon, .svglite path, .svglite rect, .svglite circle {\n",
       "      fill: none;\n",
       "      stroke: #000000;\n",
       "      stroke-linecap: round;\n",
       "      stroke-linejoin: round;\n",
       "      stroke-miterlimit: 10.00;\n",
       "    }\n",
       "    .svglite text {\n",
       "      white-space: pre;\n",
       "    }\n",
       "  ]]></style>\n",
       "</defs>\n",
       "<rect width='100%' height='100%' style='stroke: none; fill: #FFFFFF;'/>\n",
       "<defs>\n",
       "  <clipPath id='cpMC4wMHw0MzIuMDB8MC4wMHw0MzIuMDA='>\n",
       "    <rect x='0.00' y='0.00' width='432.00' height='432.00' />\n",
       "  </clipPath>\n",
       "</defs>\n",
       "<g clip-path='url(#cpMC4wMHw0MzIuMDB8MC4wMHw0MzIuMDA=)'>\n",
       "<rect x='0.000000000000032' y='0.000000000000057' width='432.00' height='432.00' style='stroke-width: 1.07; stroke: #FFFFFF; fill: #FFFFFF;' />\n",
       "</g>\n",
       "<defs>\n",
       "  <clipPath id='cpMTg3LjM0fDQyNi41MnwyMi41MHwxMzMuNDI='>\n",
       "    <rect x='187.34' y='22.50' width='239.18' height='110.92' />\n",
       "  </clipPath>\n",
       "</defs>\n",
       "<g clip-path='url(#cpMTg3LjM0fDQyNi41MnwyMi41MHwxMzMuNDI=)'>\n",
       "<rect x='187.34' y='22.50' width='239.18' height='110.92' style='stroke-width: 1.07; stroke: none; fill: #EBEBEB;' />\n",
       "<polyline points='198.21,133.42 198.21,22.50 ' style='stroke-width: 0.53; stroke: #FFFFFF; stroke-linecap: butt;' />\n",
       "<polyline points='285.19,133.42 285.19,22.50 ' style='stroke-width: 0.53; stroke: #FFFFFF; stroke-linecap: butt;' />\n",
       "<polyline points='372.16,133.42 372.16,22.50 ' style='stroke-width: 0.53; stroke: #FFFFFF; stroke-linecap: butt;' />\n",
       "<polyline points='187.34,127.48 426.52,127.48 ' style='stroke-width: 1.07; stroke: #FFFFFF; stroke-linecap: butt;' />\n",
       "<polyline points='187.34,117.58 426.52,117.58 ' style='stroke-width: 1.07; stroke: #FFFFFF; stroke-linecap: butt;' />\n",
       "<polyline points='187.34,107.67 426.52,107.67 ' style='stroke-width: 1.07; stroke: #FFFFFF; stroke-linecap: butt;' />\n",
       "<polyline points='187.34,97.77 426.52,97.77 ' style='stroke-width: 1.07; stroke: #FFFFFF; stroke-linecap: butt;' />\n",
       "<polyline points='187.34,87.87 426.52,87.87 ' style='stroke-width: 1.07; stroke: #FFFFFF; stroke-linecap: butt;' />\n",
       "<polyline points='187.34,77.96 426.52,77.96 ' style='stroke-width: 1.07; stroke: #FFFFFF; stroke-linecap: butt;' />\n",
       "<polyline points='187.34,68.06 426.52,68.06 ' style='stroke-width: 1.07; stroke: #FFFFFF; stroke-linecap: butt;' />\n",
       "<polyline points='187.34,58.16 426.52,58.16 ' style='stroke-width: 1.07; stroke: #FFFFFF; stroke-linecap: butt;' />\n",
       "<polyline points='187.34,48.25 426.52,48.25 ' style='stroke-width: 1.07; stroke: #FFFFFF; stroke-linecap: butt;' />\n",
       "<polyline points='187.34,38.35 426.52,38.35 ' style='stroke-width: 1.07; stroke: #FFFFFF; stroke-linecap: butt;' />\n",
       "<polyline points='187.34,28.45 426.52,28.45 ' style='stroke-width: 1.07; stroke: #FFFFFF; stroke-linecap: butt;' />\n",
       "<polyline points='241.70,133.42 241.70,22.50 ' style='stroke-width: 1.07; stroke: #FFFFFF; stroke-linecap: butt;' />\n",
       "<polyline points='328.67,133.42 328.67,22.50 ' style='stroke-width: 1.07; stroke: #FFFFFF; stroke-linecap: butt;' />\n",
       "<polyline points='415.65,133.42 415.65,22.50 ' style='stroke-width: 1.07; stroke: #FFFFFF; stroke-linecap: butt;' />\n",
       "<circle cx='415.65' cy='28.45' r='1.95' style='stroke-width: 0.71; fill: #000000;' />\n",
       "<circle cx='372.16' cy='38.35' r='1.95' style='stroke-width: 0.71; fill: #000000;' />\n",
       "<circle cx='285.19' cy='48.25' r='1.95' style='stroke-width: 0.71; fill: #000000;' />\n",
       "<circle cx='241.70' cy='58.16' r='1.95' style='stroke-width: 0.71; fill: #000000;' />\n",
       "<circle cx='241.70' cy='68.06' r='1.95' style='stroke-width: 0.71; fill: #000000;' />\n",
       "<circle cx='198.21' cy='87.87' r='1.95' style='stroke-width: 0.71; fill: #000000;' />\n",
       "<circle cx='198.21' cy='97.77' r='1.95' style='stroke-width: 0.71; fill: #000000;' />\n",
       "<circle cx='198.21' cy='77.96' r='1.95' style='stroke-width: 0.71; fill: #000000;' />\n",
       "<circle cx='198.21' cy='107.67' r='1.95' style='stroke-width: 0.71; fill: #000000;' />\n",
       "<circle cx='198.21' cy='117.58' r='1.95' style='stroke-width: 0.71; fill: #000000;' />\n",
       "<circle cx='198.21' cy='127.48' r='1.95' style='stroke-width: 0.71; fill: #000000;' />\n",
       "</g>\n",
       "<g clip-path='url(#cpMC4wMHw0MzIuMDB8MC4wMHw0MzIuMDA=)'>\n",
       "</g>\n",
       "<defs>\n",
       "  <clipPath id='cpMTg3LjM0fDQyNi41MnwxNTUuOTN8MjY2Ljg0'>\n",
       "    <rect x='187.34' y='155.93' width='239.18' height='110.92' />\n",
       "  </clipPath>\n",
       "</defs>\n",
       "<g clip-path='url(#cpMTg3LjM0fDQyNi41MnwxNTUuOTN8MjY2Ljg0)'>\n",
       "<rect x='187.34' y='155.93' width='239.18' height='110.92' style='stroke-width: 1.07; stroke: none; fill: #EBEBEB;' />\n",
       "<polyline points='198.21,266.84 198.21,155.93 ' style='stroke-width: 0.53; stroke: #FFFFFF; stroke-linecap: butt;' />\n",
       "<polyline points='285.19,266.84 285.19,155.93 ' style='stroke-width: 0.53; stroke: #FFFFFF; stroke-linecap: butt;' />\n",
       "<polyline points='372.16,266.84 372.16,155.93 ' style='stroke-width: 0.53; stroke: #FFFFFF; stroke-linecap: butt;' />\n",
       "<polyline points='187.34,260.90 426.52,260.90 ' style='stroke-width: 1.07; stroke: #FFFFFF; stroke-linecap: butt;' />\n",
       "<polyline points='187.34,251.00 426.52,251.00 ' style='stroke-width: 1.07; stroke: #FFFFFF; stroke-linecap: butt;' />\n",
       "<polyline points='187.34,241.10 426.52,241.10 ' style='stroke-width: 1.07; stroke: #FFFFFF; stroke-linecap: butt;' />\n",
       "<polyline points='187.34,231.19 426.52,231.19 ' style='stroke-width: 1.07; stroke: #FFFFFF; stroke-linecap: butt;' />\n",
       "<polyline points='187.34,221.29 426.52,221.29 ' style='stroke-width: 1.07; stroke: #FFFFFF; stroke-linecap: butt;' />\n",
       "<polyline points='187.34,211.39 426.52,211.39 ' style='stroke-width: 1.07; stroke: #FFFFFF; stroke-linecap: butt;' />\n",
       "<polyline points='187.34,201.48 426.52,201.48 ' style='stroke-width: 1.07; stroke: #FFFFFF; stroke-linecap: butt;' />\n",
       "<polyline points='187.34,191.58 426.52,191.58 ' style='stroke-width: 1.07; stroke: #FFFFFF; stroke-linecap: butt;' />\n",
       "<polyline points='187.34,181.68 426.52,181.68 ' style='stroke-width: 1.07; stroke: #FFFFFF; stroke-linecap: butt;' />\n",
       "<polyline points='187.34,171.77 426.52,171.77 ' style='stroke-width: 1.07; stroke: #FFFFFF; stroke-linecap: butt;' />\n",
       "<polyline points='187.34,161.87 426.52,161.87 ' style='stroke-width: 1.07; stroke: #FFFFFF; stroke-linecap: butt;' />\n",
       "<polyline points='241.70,266.84 241.70,155.93 ' style='stroke-width: 1.07; stroke: #FFFFFF; stroke-linecap: butt;' />\n",
       "<polyline points='328.67,266.84 328.67,155.93 ' style='stroke-width: 1.07; stroke: #FFFFFF; stroke-linecap: butt;' />\n",
       "<polyline points='415.65,266.84 415.65,155.93 ' style='stroke-width: 1.07; stroke: #FFFFFF; stroke-linecap: butt;' />\n",
       "<circle cx='328.67' cy='161.87' r='1.95' style='stroke-width: 0.71; fill: #000000;' />\n",
       "<circle cx='328.67' cy='171.77' r='1.95' style='stroke-width: 0.71; fill: #000000;' />\n",
       "<circle cx='285.19' cy='181.68' r='1.95' style='stroke-width: 0.71; fill: #000000;' />\n",
       "<circle cx='285.19' cy='191.58' r='1.95' style='stroke-width: 0.71; fill: #000000;' />\n",
       "<circle cx='241.70' cy='201.48' r='1.95' style='stroke-width: 0.71; fill: #000000;' />\n",
       "<circle cx='241.70' cy='211.39' r='1.95' style='stroke-width: 0.71; fill: #000000;' />\n",
       "<circle cx='241.70' cy='221.29' r='1.95' style='stroke-width: 0.71; fill: #000000;' />\n",
       "<circle cx='198.21' cy='231.19' r='1.95' style='stroke-width: 0.71; fill: #000000;' />\n",
       "<circle cx='198.21' cy='241.10' r='1.95' style='stroke-width: 0.71; fill: #000000;' />\n",
       "<circle cx='198.21' cy='251.00' r='1.95' style='stroke-width: 0.71; fill: #000000;' />\n",
       "<circle cx='198.21' cy='260.90' r='1.95' style='stroke-width: 0.71; fill: #000000;' />\n",
       "</g>\n",
       "<g clip-path='url(#cpMC4wMHw0MzIuMDB8MC4wMHw0MzIuMDA=)'>\n",
       "</g>\n",
       "<defs>\n",
       "  <clipPath id='cpMTg3LjM0fDQyNi41MnwyODkuMzV8NDAwLjI3'>\n",
       "    <rect x='187.34' y='289.35' width='239.18' height='110.92' />\n",
       "  </clipPath>\n",
       "</defs>\n",
       "<g clip-path='url(#cpMTg3LjM0fDQyNi41MnwyODkuMzV8NDAwLjI3)'>\n",
       "<rect x='187.34' y='289.35' width='239.18' height='110.92' style='stroke-width: 1.07; stroke: none; fill: #EBEBEB;' />\n",
       "<polyline points='198.21,400.27 198.21,289.35 ' style='stroke-width: 0.53; stroke: #FFFFFF; stroke-linecap: butt;' />\n",
       "<polyline points='285.19,400.27 285.19,289.35 ' style='stroke-width: 0.53; stroke: #FFFFFF; stroke-linecap: butt;' />\n",
       "<polyline points='372.16,400.27 372.16,289.35 ' style='stroke-width: 0.53; stroke: #FFFFFF; stroke-linecap: butt;' />\n",
       "<polyline points='187.34,394.32 426.52,394.32 ' style='stroke-width: 1.07; stroke: #FFFFFF; stroke-linecap: butt;' />\n",
       "<polyline points='187.34,384.42 426.52,384.42 ' style='stroke-width: 1.07; stroke: #FFFFFF; stroke-linecap: butt;' />\n",
       "<polyline points='187.34,374.52 426.52,374.52 ' style='stroke-width: 1.07; stroke: #FFFFFF; stroke-linecap: butt;' />\n",
       "<polyline points='187.34,364.61 426.52,364.61 ' style='stroke-width: 1.07; stroke: #FFFFFF; stroke-linecap: butt;' />\n",
       "<polyline points='187.34,354.71 426.52,354.71 ' style='stroke-width: 1.07; stroke: #FFFFFF; stroke-linecap: butt;' />\n",
       "<polyline points='187.34,344.81 426.52,344.81 ' style='stroke-width: 1.07; stroke: #FFFFFF; stroke-linecap: butt;' />\n",
       "<polyline points='187.34,334.90 426.52,334.90 ' style='stroke-width: 1.07; stroke: #FFFFFF; stroke-linecap: butt;' />\n",
       "<polyline points='187.34,325.00 426.52,325.00 ' style='stroke-width: 1.07; stroke: #FFFFFF; stroke-linecap: butt;' />\n",
       "<polyline points='187.34,315.10 426.52,315.10 ' style='stroke-width: 1.07; stroke: #FFFFFF; stroke-linecap: butt;' />\n",
       "<polyline points='187.34,305.19 426.52,305.19 ' style='stroke-width: 1.07; stroke: #FFFFFF; stroke-linecap: butt;' />\n",
       "<polyline points='187.34,295.29 426.52,295.29 ' style='stroke-width: 1.07; stroke: #FFFFFF; stroke-linecap: butt;' />\n",
       "<polyline points='241.70,400.27 241.70,289.35 ' style='stroke-width: 1.07; stroke: #FFFFFF; stroke-linecap: butt;' />\n",
       "<polyline points='328.67,400.27 328.67,289.35 ' style='stroke-width: 1.07; stroke: #FFFFFF; stroke-linecap: butt;' />\n",
       "<polyline points='415.65,400.27 415.65,289.35 ' style='stroke-width: 1.07; stroke: #FFFFFF; stroke-linecap: butt;' />\n",
       "<circle cx='415.65' cy='295.29' r='1.95' style='stroke-width: 0.71; fill: #000000;' />\n",
       "<circle cx='372.16' cy='305.19' r='1.95' style='stroke-width: 0.71; fill: #000000;' />\n",
       "<circle cx='285.19' cy='315.10' r='1.95' style='stroke-width: 0.71; fill: #000000;' />\n",
       "<circle cx='241.70' cy='325.00' r='1.95' style='stroke-width: 0.71; fill: #000000;' />\n",
       "<circle cx='241.70' cy='354.71' r='1.95' style='stroke-width: 0.71; fill: #000000;' />\n",
       "<circle cx='241.70' cy='334.90' r='1.95' style='stroke-width: 0.71; fill: #000000;' />\n",
       "<circle cx='241.70' cy='344.81' r='1.95' style='stroke-width: 0.71; fill: #000000;' />\n",
       "<circle cx='198.21' cy='364.61' r='1.95' style='stroke-width: 0.71; fill: #000000;' />\n",
       "<circle cx='198.21' cy='374.52' r='1.95' style='stroke-width: 0.71; fill: #000000;' />\n",
       "<circle cx='198.21' cy='384.42' r='1.95' style='stroke-width: 0.71; fill: #000000;' />\n",
       "<circle cx='198.21' cy='394.32' r='1.95' style='stroke-width: 0.71; fill: #000000;' />\n",
       "</g>\n",
       "<g clip-path='url(#cpMC4wMHw0MzIuMDB8MC4wMHw0MzIuMDA=)'>\n",
       "</g>\n",
       "<defs>\n",
       "  <clipPath id='cpMTg3LjM0fDQyNi41MnwyNzIuMzJ8Mjg5LjM1'>\n",
       "    <rect x='187.34' y='272.32' width='239.18' height='17.03' />\n",
       "  </clipPath>\n",
       "</defs>\n",
       "<g clip-path='url(#cpMTg3LjM0fDQyNi41MnwyNzIuMzJ8Mjg5LjM1)'>\n",
       "<rect x='187.34' y='272.32' width='239.18' height='17.03' style='stroke-width: 1.07; stroke: none; fill: #D9D9D9;' />\n",
       "<text x='306.93' y='283.99' text-anchor='middle' style='font-size: 8.80px;fill: #1A1A1A; font-family: \"Arial\";' textLength='111.05px' lengthAdjust='spacingAndGlyphs'>answer.suggestions_options</text>\n",
       "</g>\n",
       "<g clip-path='url(#cpMC4wMHw0MzIuMDB8MC4wMHw0MzIuMDA=)'>\n",
       "</g>\n",
       "<defs>\n",
       "  <clipPath id='cpMTg3LjM0fDQyNi41MnwxMzguOTB8MTU1Ljkz'>\n",
       "    <rect x='187.34' y='138.90' width='239.18' height='17.03' />\n",
       "  </clipPath>\n",
       "</defs>\n",
       "<g clip-path='url(#cpMTg3LjM0fDQyNi41MnwxMzguOTB8MTU1Ljkz)'>\n",
       "<rect x='187.34' y='138.90' width='239.18' height='17.03' style='stroke-width: 1.07; stroke: none; fill: #D9D9D9;' />\n",
       "<text x='306.93' y='150.57' text-anchor='middle' style='font-size: 8.80px;fill: #1A1A1A; font-family: \"Arial\";' textLength='95.39px' lengthAdjust='spacingAndGlyphs'>answer.reasons_options</text>\n",
       "</g>\n",
       "<g clip-path='url(#cpMC4wMHw0MzIuMDB8MC4wMHw0MzIuMDA=)'>\n",
       "</g>\n",
       "<defs>\n",
       "  <clipPath id='cpMTg3LjM0fDQyNi41Mnw1LjQ4fDIyLjUw'>\n",
       "    <rect x='187.34' y='5.48' width='239.18' height='17.03' />\n",
       "  </clipPath>\n",
       "</defs>\n",
       "<g clip-path='url(#cpMTg3LjM0fDQyNi41Mnw1LjQ4fDIyLjUw)'>\n",
       "<rect x='187.34' y='5.48' width='239.18' height='17.03' style='stroke-width: 1.07; stroke: none; fill: #D9D9D9;' />\n",
       "<text x='306.93' y='17.15' text-anchor='middle' style='font-size: 8.80px;fill: #1A1A1A; font-family: \"Arial\";' textLength='93.42px' lengthAdjust='spacingAndGlyphs'>answer.policies_options</text>\n",
       "</g>\n",
       "<g clip-path='url(#cpMC4wMHw0MzIuMDB8MC4wMHw0MzIuMDA=)'>\n",
       "<polyline points='241.70,403.01 241.70,400.27 ' style='stroke-width: 1.07; stroke: #333333; stroke-linecap: butt;' />\n",
       "<polyline points='328.67,403.01 328.67,400.27 ' style='stroke-width: 1.07; stroke: #333333; stroke-linecap: butt;' />\n",
       "<polyline points='415.65,403.01 415.65,400.27 ' style='stroke-width: 1.07; stroke: #333333; stroke-linecap: butt;' />\n",
       "<text x='241.70' y='411.50' text-anchor='middle' style='font-size: 8.80px;fill: #4D4D4D; font-family: \"Arial\";' textLength='4.90px' lengthAdjust='spacingAndGlyphs'>2</text>\n",
       "<text x='328.67' y='411.50' text-anchor='middle' style='font-size: 8.80px;fill: #4D4D4D; font-family: \"Arial\";' textLength='4.90px' lengthAdjust='spacingAndGlyphs'>4</text>\n",
       "<text x='415.65' y='411.50' text-anchor='middle' style='font-size: 8.80px;fill: #4D4D4D; font-family: \"Arial\";' textLength='4.90px' lengthAdjust='spacingAndGlyphs'>6</text>\n",
       "<text x='182.41' y='130.63' text-anchor='end' style='font-size: 8.80px;fill: #4D4D4D; font-family: \"Arial\";' textLength='108.10px' lengthAdjust='spacingAndGlyphs'>Compensation and Salaries</text>\n",
       "<text x='182.41' y='120.73' text-anchor='end' style='font-size: 8.80px;fill: #4D4D4D; font-family: \"Arial\";' textLength='88.01px' lengthAdjust='spacingAndGlyphs'>Diversity and Inclusion</text>\n",
       "<text x='182.41' y='110.83' text-anchor='end' style='font-size: 8.80px;fill: #4D4D4D; font-family: \"Arial\";' textLength='136.92px' lengthAdjust='spacingAndGlyphs'>Inter-Departmental Communication</text>\n",
       "<text x='182.41' y='100.92' text-anchor='end' style='font-size: 8.80px;fill: #4D4D4D; font-family: \"Arial\";' textLength='92.38px' lengthAdjust='spacingAndGlyphs'>Remote Work Flexibility</text>\n",
       "<text x='182.41' y='91.02' text-anchor='end' style='font-size: 8.80px;fill: #4D4D4D; font-family: \"Arial\";' textLength='71.88px' lengthAdjust='spacingAndGlyphs'>Work-Life Balance</text>\n",
       "<text x='182.41' y='81.12' text-anchor='end' style='font-size: 8.80px;fill: #4D4D4D; font-family: \"Arial\";' textLength='150.16px' lengthAdjust='spacingAndGlyphs'>Performance Evaluation Transparency</text>\n",
       "<text x='182.41' y='71.21' text-anchor='end' style='font-size: 8.80px;fill: #4D4D4D; font-family: \"Arial\";' textLength='88.04px' lengthAdjust='spacingAndGlyphs'>Employee Recognition</text>\n",
       "<text x='182.41' y='61.31' text-anchor='end' style='font-size: 8.80px;fill: #4D4D4D; font-family: \"Arial\";' textLength='73.37px' lengthAdjust='spacingAndGlyphs'>Management Style</text>\n",
       "<text x='182.41' y='51.41' text-anchor='end' style='font-size: 8.80px;fill: #4D4D4D; font-family: \"Arial\";' textLength='56.69px' lengthAdjust='spacingAndGlyphs'>Skill Utilization</text>\n",
       "<text x='182.41' y='41.50' text-anchor='end' style='font-size: 8.80px;fill: #4D4D4D; font-family: \"Arial\";' textLength='137.92px' lengthAdjust='spacingAndGlyphs'>Career Advancement Opportunities</text>\n",
       "<text x='182.41' y='31.60' text-anchor='end' style='font-size: 8.80px;fill: #4D4D4D; font-family: \"Arial\";' textLength='54.78px' lengthAdjust='spacingAndGlyphs'>None of these</text>\n",
       "<polyline points='184.60,127.48 187.34,127.48 ' style='stroke-width: 1.07; stroke: #333333; stroke-linecap: butt;' />\n",
       "<polyline points='184.60,117.58 187.34,117.58 ' style='stroke-width: 1.07; stroke: #333333; stroke-linecap: butt;' />\n",
       "<polyline points='184.60,107.67 187.34,107.67 ' style='stroke-width: 1.07; stroke: #333333; stroke-linecap: butt;' />\n",
       "<polyline points='184.60,97.77 187.34,97.77 ' style='stroke-width: 1.07; stroke: #333333; stroke-linecap: butt;' />\n",
       "<polyline points='184.60,87.87 187.34,87.87 ' style='stroke-width: 1.07; stroke: #333333; stroke-linecap: butt;' />\n",
       "<polyline points='184.60,77.96 187.34,77.96 ' style='stroke-width: 1.07; stroke: #333333; stroke-linecap: butt;' />\n",
       "<polyline points='184.60,68.06 187.34,68.06 ' style='stroke-width: 1.07; stroke: #333333; stroke-linecap: butt;' />\n",
       "<polyline points='184.60,58.16 187.34,58.16 ' style='stroke-width: 1.07; stroke: #333333; stroke-linecap: butt;' />\n",
       "<polyline points='184.60,48.25 187.34,48.25 ' style='stroke-width: 1.07; stroke: #333333; stroke-linecap: butt;' />\n",
       "<polyline points='184.60,38.35 187.34,38.35 ' style='stroke-width: 1.07; stroke: #333333; stroke-linecap: butt;' />\n",
       "<polyline points='184.60,28.45 187.34,28.45 ' style='stroke-width: 1.07; stroke: #333333; stroke-linecap: butt;' />\n",
       "<text x='182.41' y='264.06' text-anchor='end' style='font-size: 8.80px;fill: #4D4D4D; font-family: \"Arial\";' textLength='157.98px' lengthAdjust='spacingAndGlyphs'>Communication and collaboration issues</text>\n",
       "<text x='182.41' y='254.15' text-anchor='end' style='font-size: 8.80px;fill: #4D4D4D; font-family: \"Arial\";' textLength='117.35px' lengthAdjust='spacingAndGlyphs'>Inflexible remote work policies</text>\n",
       "<text x='182.41' y='244.25' text-anchor='end' style='font-size: 8.80px;fill: #4D4D4D; font-family: \"Arial\";' textLength='91.91px' lengthAdjust='spacingAndGlyphs'>Underutilization of skills</text>\n",
       "<text x='182.41' y='234.35' text-anchor='end' style='font-size: 8.80px;fill: #4D4D4D; font-family: \"Arial\";' textLength='95.35px' lengthAdjust='spacingAndGlyphs'>Work-life balance issues</text>\n",
       "<text x='182.41' y='224.44' text-anchor='end' style='font-size: 8.80px;fill: #4D4D4D; font-family: \"Arial\";' textLength='101.23px' lengthAdjust='spacingAndGlyphs'>Desire for new challenges</text>\n",
       "<text x='182.41' y='214.54' text-anchor='end' style='font-size: 8.80px;fill: #4D4D4D; font-family: \"Arial\";' textLength='149.13px' lengthAdjust='spacingAndGlyphs'>Dissatisfaction with management style</text>\n",
       "<text x='182.41' y='204.64' text-anchor='end' style='font-size: 8.80px;fill: #4D4D4D; font-family: \"Arial\";' textLength='133.00px' lengthAdjust='spacingAndGlyphs'>Misalignment with company vision</text>\n",
       "<text x='182.41' y='194.73' text-anchor='end' style='font-size: 8.80px;fill: #4D4D4D; font-family: \"Arial\";' textLength='163.86px' lengthAdjust='spacingAndGlyphs'>Lack of career advancement opportunities</text>\n",
       "<text x='182.41' y='184.83' text-anchor='end' style='font-size: 8.80px;fill: #4D4D4D; font-family: \"Arial\";' textLength='124.73px' lengthAdjust='spacingAndGlyphs'>Lack of recognition and rewards</text>\n",
       "<text x='182.41' y='174.93' text-anchor='end' style='font-size: 8.80px;fill: #4D4D4D; font-family: \"Arial\";' textLength='132.06px' lengthAdjust='spacingAndGlyphs'>Concerns about company policies</text>\n",
       "<text x='182.41' y='165.02' text-anchor='end' style='font-size: 8.80px;fill: #4D4D4D; font-family: \"Arial\";' textLength='54.78px' lengthAdjust='spacingAndGlyphs'>None of these</text>\n",
       "<polyline points='184.60,260.90 187.34,260.90 ' style='stroke-width: 1.07; stroke: #333333; stroke-linecap: butt;' />\n",
       "<polyline points='184.60,251.00 187.34,251.00 ' style='stroke-width: 1.07; stroke: #333333; stroke-linecap: butt;' />\n",
       "<polyline points='184.60,241.10 187.34,241.10 ' style='stroke-width: 1.07; stroke: #333333; stroke-linecap: butt;' />\n",
       "<polyline points='184.60,231.19 187.34,231.19 ' style='stroke-width: 1.07; stroke: #333333; stroke-linecap: butt;' />\n",
       "<polyline points='184.60,221.29 187.34,221.29 ' style='stroke-width: 1.07; stroke: #333333; stroke-linecap: butt;' />\n",
       "<polyline points='184.60,211.39 187.34,211.39 ' style='stroke-width: 1.07; stroke: #333333; stroke-linecap: butt;' />\n",
       "<polyline points='184.60,201.48 187.34,201.48 ' style='stroke-width: 1.07; stroke: #333333; stroke-linecap: butt;' />\n",
       "<polyline points='184.60,191.58 187.34,191.58 ' style='stroke-width: 1.07; stroke: #333333; stroke-linecap: butt;' />\n",
       "<polyline points='184.60,181.68 187.34,181.68 ' style='stroke-width: 1.07; stroke: #333333; stroke-linecap: butt;' />\n",
       "<polyline points='184.60,171.77 187.34,171.77 ' style='stroke-width: 1.07; stroke: #333333; stroke-linecap: butt;' />\n",
       "<polyline points='184.60,161.87 187.34,161.87 ' style='stroke-width: 1.07; stroke: #333333; stroke-linecap: butt;' />\n",
       "<text x='182.41' y='397.48' text-anchor='end' style='font-size: 8.80px;fill: #4D4D4D; font-family: \"Arial\";' textLength='88.01px' lengthAdjust='spacingAndGlyphs'>Diversity and Inclusion</text>\n",
       "<text x='182.41' y='387.57' text-anchor='end' style='font-size: 8.80px;fill: #4D4D4D; font-family: \"Arial\";' textLength='136.92px' lengthAdjust='spacingAndGlyphs'>Inter-Departmental Communication</text>\n",
       "<text x='182.41' y='377.67' text-anchor='end' style='font-size: 8.80px;fill: #4D4D4D; font-family: \"Arial\";' textLength='92.38px' lengthAdjust='spacingAndGlyphs'>Remote Work Flexibility</text>\n",
       "<text x='182.41' y='367.77' text-anchor='end' style='font-size: 8.80px;fill: #4D4D4D; font-family: \"Arial\";' textLength='71.88px' lengthAdjust='spacingAndGlyphs'>Work-Life Balance</text>\n",
       "<text x='182.41' y='357.86' text-anchor='end' style='font-size: 8.80px;fill: #4D4D4D; font-family: \"Arial\";' textLength='150.16px' lengthAdjust='spacingAndGlyphs'>Performance Evaluation Transparency</text>\n",
       "<text x='182.41' y='347.96' text-anchor='end' style='font-size: 8.80px;fill: #4D4D4D; font-family: \"Arial\";' textLength='130.58px' lengthAdjust='spacingAndGlyphs'>Creative Challenges and Projects</text>\n",
       "<text x='182.41' y='338.06' text-anchor='end' style='font-size: 8.80px;fill: #4D4D4D; font-family: \"Arial\";' textLength='84.64px' lengthAdjust='spacingAndGlyphs'>Management Support</text>\n",
       "<text x='182.41' y='328.15' text-anchor='end' style='font-size: 8.80px;fill: #4D4D4D; font-family: \"Arial\";' textLength='100.76px' lengthAdjust='spacingAndGlyphs'>Recognition and Rewards</text>\n",
       "<text x='182.41' y='318.25' text-anchor='end' style='font-size: 8.80px;fill: #4D4D4D; font-family: \"Arial\";' textLength='70.86px' lengthAdjust='spacingAndGlyphs'>Utilization of Skills</text>\n",
       "<text x='182.41' y='308.35' text-anchor='end' style='font-size: 8.80px;fill: #4D4D4D; font-family: \"Arial\";' textLength='137.92px' lengthAdjust='spacingAndGlyphs'>Career Advancement Opportunities</text>\n",
       "<text x='182.41' y='298.44' text-anchor='end' style='font-size: 8.80px;fill: #4D4D4D; font-family: \"Arial\";' textLength='54.78px' lengthAdjust='spacingAndGlyphs'>None of these</text>\n",
       "<polyline points='184.60,394.32 187.34,394.32 ' style='stroke-width: 1.07; stroke: #333333; stroke-linecap: butt;' />\n",
       "<polyline points='184.60,384.42 187.34,384.42 ' style='stroke-width: 1.07; stroke: #333333; stroke-linecap: butt;' />\n",
       "<polyline points='184.60,374.52 187.34,374.52 ' style='stroke-width: 1.07; stroke: #333333; stroke-linecap: butt;' />\n",
       "<polyline points='184.60,364.61 187.34,364.61 ' style='stroke-width: 1.07; stroke: #333333; stroke-linecap: butt;' />\n",
       "<polyline points='184.60,354.71 187.34,354.71 ' style='stroke-width: 1.07; stroke: #333333; stroke-linecap: butt;' />\n",
       "<polyline points='184.60,344.81 187.34,344.81 ' style='stroke-width: 1.07; stroke: #333333; stroke-linecap: butt;' />\n",
       "<polyline points='184.60,334.90 187.34,334.90 ' style='stroke-width: 1.07; stroke: #333333; stroke-linecap: butt;' />\n",
       "<polyline points='184.60,325.00 187.34,325.00 ' style='stroke-width: 1.07; stroke: #333333; stroke-linecap: butt;' />\n",
       "<polyline points='184.60,315.10 187.34,315.10 ' style='stroke-width: 1.07; stroke: #333333; stroke-linecap: butt;' />\n",
       "<polyline points='184.60,305.19 187.34,305.19 ' style='stroke-width: 1.07; stroke: #333333; stroke-linecap: butt;' />\n",
       "<polyline points='184.60,295.29 187.34,295.29 ' style='stroke-width: 1.07; stroke: #333333; stroke-linecap: butt;' />\n",
       "<text x='306.93' y='424.09' text-anchor='middle' style='font-size: 11.00px; font-family: \"Arial\";' textLength='72.17px' lengthAdjust='spacingAndGlyphs'>num_mentions</text>\n",
       "<text transform='translate(13.37,211.39) rotate(-90)' text-anchor='middle' style='font-size: 11.00px; font-family: \"Arial\";' textLength='147.38px' lengthAdjust='spacingAndGlyphs'>reorder(value, num_mentions)</text>\n",
       "</g>\n",
       "</svg>\n"
      ],
      "text/plain": [
       "<edsl.results.ResultsGGMixin.GGPlot at 0x30b009a50>"
      ]
     },
     "execution_count": 22,
     "metadata": {},
     "output_type": "execute_result"
    }
   ],
   "source": [
    "(options_results\n",
    " .select(\"reasons_options\", \"policies_options\", \"suggestions_options\")\n",
    " .long() # get all the answers in one column called 'value'\n",
    " .expand(\"value\") # expand the list of responses\n",
    " .ggplot2(\n",
    "     \"\"\"ggplot(data = self) + \n",
    "     geom_point(aes(x = reorder(value, num_mentions), y = num_mentions)) + \n",
    "     facet_wrap(~key, ncol = 1, scales = 'free_y') + coord_flip()\"\"\", \n",
    "     sql = \"\"\"\n",
    "select key, value, count(*) as num_mentions \n",
    "from self group by key, value \n",
    "order by key, num_mentions desc\"\"\", height = 6)\n",
    ")"
   ]
  },
  {
   "cell_type": "markdown",
   "id": "89a59bc6-39ca-4198-b7d7-989c4e0fe40d",
   "metadata": {
    "editable": true,
    "slideshow": {
     "slide_type": ""
    },
    "tags": []
   },
   "source": [
    "## Posting to the Coop\n",
    "The [Coop](https://www.expectedparrot.com/content/explore) is a platform for creating, storing and sharing LLM-based research.\n",
    "It is fully integrated with EDSL and accessible from your workspace or Coop account page.\n",
    "Learn more about [creating an account](https://www.expectedparrot.com/login) and [using the Coop](https://docs.expectedparrot.com/en/latest/coop.html).\n",
    "\n",
    "Here we post this notebook:"
   ]
  },
  {
   "cell_type": "code",
   "execution_count": 23,
   "id": "24c5198e-a993-42b2-8e71-67cea078c1ab",
   "metadata": {
    "editable": true,
    "slideshow": {
     "slide_type": ""
    },
    "tags": [
     "skip-execution"
    ]
   },
   "outputs": [],
   "source": [
    "from edsl import Notebook\n",
    "\n",
    "nb = Notebook(path = \"analyzing_interviews.ipynb\")\n",
    "\n",
    "if refresh := False:\n",
    "    nb.push(\n",
    "        description = \"Example code for analyzing interview transcripts\", \n",
    "        alias = \"analyze-interview-transcripts-notebook\",\n",
    "        visibility = \"public\"\n",
    "    )\n",
    "else:\n",
    "    nb.patch(\"https://www.expectedparrot.com/content/RobinHorton/analyze-interview-transcripts-notebook\", value = nb)"
   ]
  }
 ],
 "metadata": {
  "kernelspec": {
   "display_name": "Python 3 (ipykernel)",
   "language": "python",
   "name": "python3"
  },
  "language_info": {
   "codemirror_mode": {
    "name": "ipython",
    "version": 3
   },
   "file_extension": ".py",
   "mimetype": "text/x-python",
   "name": "python",
   "nbconvert_exporter": "python",
   "pygments_lexer": "ipython3",
   "version": "3.11.7"
  }
 },
 "nbformat": 4,
 "nbformat_minor": 5
}
