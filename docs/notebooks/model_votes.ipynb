{
 "cells": [
  {
   "cell_type": "markdown",
   "metadata": {
    "cell_id": "d4d5c2583fc14fdb895e689f40ba6737",
    "deepnote_cell_type": "markdown"
   },
   "source": [
    "# Comparing model responses\n",
    "This notebook provides sample [EDSL](https://docs.expectedparrot.com/en/latest/) code for comparing content created by different language models and examining how models rate their own content versus content created by other models. \n",
    "\n",
    "In a series of steps we use surveys to prompt models to generate some content and then evaluate each piece of content, and then analyze the results as datasets.\n",
    "\n",
    "Before running this notebook please see details on [installing EDSL](https://docs.expectedparrot.com/en/latest/installation.html) and [getting started](https://docs.expectedparrot.com/en/latest/tutorial_getting_started.html) using the library."
   ]
  },
  {
   "cell_type": "code",
   "execution_count": 1,
   "metadata": {
    "cell_id": "83ac608cf73d49f2a35d9cf45c2b7c75",
    "deepnote_cell_type": "code"
   },
   "outputs": [],
   "source": [
    "# ! pip install edsl"
   ]
  },
  {
   "cell_type": "markdown",
   "metadata": {},
   "source": [
    "## Generating content\n",
    "We start by constructing a question that will prompt a language model to generate some content. EDSL comes with a variety of standard question types (multiple choice, free text, etc.) that we can select based on the desired format of the response. See [examples of all question types](https://docs.expectedparrot.com/en/latest/questions.html#question-type-classes). Here we use `QuestionFreeText` to generate some text:"
   ]
  },
  {
   "cell_type": "code",
   "execution_count": 2,
   "metadata": {
    "cell_id": "1325605571cc41a194255b80b2fb2f87",
    "deepnote_cell_type": "code"
   },
   "outputs": [],
   "source": [
    "from edsl.questions import QuestionFreeText\n",
    "\n",
    "q_content = QuestionFreeText(\n",
    "    question_name = \"content\",\n",
    "    question_text = \"Draft a sentence summarizing best practices for conducting research with large language models.\"\n",
    ")"
   ]
  },
  {
   "cell_type": "markdown",
   "metadata": {},
   "source": [
    "## Selecting language models\n",
    "Next we can select language models to answer the question. We can check a current list of available models:"
   ]
  },
  {
   "cell_type": "code",
   "execution_count": 3,
   "metadata": {
    "cell_id": "4fa4d5aa948642b1972b84993e35f685",
    "deepnote_cell_type": "code",
    "deepnote_to_be_reexecuted": false,
    "execution_millis": 205,
    "execution_start": 1709310900433,
    "source_hash": null
   },
   "outputs": [
    {
     "data": {
      "text/plain": [
       "[['01-ai/Yi-34B-Chat', 'deep_infra', 0],\n",
       " ['Austism/chronos-hermes-13b-v2', 'deep_infra', 1],\n",
       " ['Gryphe/MythoMax-L2-13b', 'deep_infra', 2],\n",
       " ['Gryphe/MythoMax-L2-13b-turbo', 'deep_infra', 3],\n",
       " ['HuggingFaceH4/zephyr-orpo-141b-A35b-v0.1', 'deep_infra', 4],\n",
       " ['Phind/Phind-CodeLlama-34B-v2', 'deep_infra', 5],\n",
       " ['bigcode/starcoder2-15b', 'deep_infra', 6],\n",
       " ['bigcode/starcoder2-15b-instruct-v0.1', 'deep_infra', 7],\n",
       " ['claude-3-haiku-20240307', 'anthropic', 8],\n",
       " ['claude-3-opus-20240229', 'anthropic', 9],\n",
       " ['claude-3-sonnet-20240229', 'anthropic', 10],\n",
       " ['codellama/CodeLlama-34b-Instruct-hf', 'deep_infra', 11],\n",
       " ['codellama/CodeLlama-70b-Instruct-hf', 'deep_infra', 12],\n",
       " ['cognitivecomputations/dolphin-2.6-mixtral-8x7b', 'deep_infra', 13],\n",
       " ['databricks/dbrx-instruct', 'deep_infra', 14],\n",
       " ['deepinfra/airoboros-70b', 'deep_infra', 15],\n",
       " ['gemini-pro', 'google', 16],\n",
       " ['google/codegemma-7b-it', 'deep_infra', 17],\n",
       " ['google/gemma-1.1-7b-it', 'deep_infra', 18],\n",
       " ['gpt-3.5-turbo', 'openai', 19],\n",
       " ['gpt-3.5-turbo-0125', 'openai', 20],\n",
       " ['gpt-3.5-turbo-0301', 'openai', 21],\n",
       " ['gpt-3.5-turbo-0613', 'openai', 22],\n",
       " ['gpt-3.5-turbo-1106', 'openai', 23],\n",
       " ['gpt-3.5-turbo-16k', 'openai', 24],\n",
       " ['gpt-3.5-turbo-16k-0613', 'openai', 25],\n",
       " ['gpt-3.5-turbo-instruct', 'openai', 26],\n",
       " ['gpt-3.5-turbo-instruct-0914', 'openai', 27],\n",
       " ['gpt-4', 'openai', 28],\n",
       " ['gpt-4-0125-preview', 'openai', 29],\n",
       " ['gpt-4-0613', 'openai', 30],\n",
       " ['gpt-4-1106-preview', 'openai', 31],\n",
       " ['gpt-4-1106-vision-preview', 'openai', 32],\n",
       " ['gpt-4-turbo', 'openai', 33],\n",
       " ['gpt-4-turbo-2024-04-09', 'openai', 34],\n",
       " ['gpt-4-turbo-preview', 'openai', 35],\n",
       " ['gpt-4-vision-preview', 'openai', 36],\n",
       " ['gpt-4o', 'openai', 37],\n",
       " ['gpt-4o-2024-05-13', 'openai', 38],\n",
       " ['lizpreciatior/lzlv_70b_fp16_hf', 'deep_infra', 39],\n",
       " ['llava-hf/llava-1.5-7b-hf', 'deep_infra', 40],\n",
       " ['meta-llama/Llama-2-13b-chat-hf', 'deep_infra', 41],\n",
       " ['meta-llama/Llama-2-70b-chat-hf', 'deep_infra', 42],\n",
       " ['meta-llama/Llama-2-7b-chat-hf', 'deep_infra', 43],\n",
       " ['meta-llama/Meta-Llama-3-70B-Instruct', 'deep_infra', 44],\n",
       " ['meta-llama/Meta-Llama-3-8B-Instruct', 'deep_infra', 45],\n",
       " ['microsoft/WizardLM-2-7B', 'deep_infra', 46],\n",
       " ['microsoft/WizardLM-2-8x22B', 'deep_infra', 47],\n",
       " ['mistralai/Mistral-7B-Instruct-v0.1', 'deep_infra', 48],\n",
       " ['mistralai/Mistral-7B-Instruct-v0.2', 'deep_infra', 49],\n",
       " ['mistralai/Mixtral-8x22B-Instruct-v0.1', 'deep_infra', 50],\n",
       " ['mistralai/Mixtral-8x22B-v0.1', 'deep_infra', 51],\n",
       " ['mistralai/Mixtral-8x7B-Instruct-v0.1', 'deep_infra', 52],\n",
       " ['openchat/openchat_3.5', 'deep_infra', 53]]"
      ]
     },
     "execution_count": 3,
     "metadata": {},
     "output_type": "execute_result"
    }
   ],
   "source": [
    "from edsl import Model\n",
    "\n",
    "Model.available() "
   ]
  },
  {
   "cell_type": "markdown",
   "metadata": {
    "cell_id": "cc1f7bddab344d378e8ce81dfea70a69",
    "deepnote_cell_type": "markdown"
   },
   "source": [
    "We select models to use by creating `Model` objects that we add to our question when we run it. (If we do not specify a model, GPT 4 preview will be used by default.) Here we select 4 models to use with our question:"
   ]
  },
  {
   "cell_type": "code",
   "execution_count": 4,
   "metadata": {
    "cell_id": "747d40bea4eb41b5a89d8b374216837e",
    "deepnote_cell_type": "code"
   },
   "outputs": [],
   "source": [
    "models = [Model(m) for m in ('gpt-3.5-turbo',\n",
    "                             'gpt-4',\n",
    "                             'gpt-4o',\n",
    "                             'gemini-pro',\n",
    "                             'claude-3-sonnet-20240229')]"
   ]
  },
  {
   "cell_type": "markdown",
   "metadata": {},
   "source": [
    "## Generating responses\n",
    "We generate responses to questions by passing them to a `Survey` object, adding the models, and then calling the `run` method. This produces a `Results` object with a `Result` for set of responses:"
   ]
  },
  {
   "cell_type": "code",
   "execution_count": 5,
   "metadata": {
    "cell_id": "724ca2c7a38f4164a225ed4a8dcc2b1f",
    "deepnote_cell_type": "code"
   },
   "outputs": [],
   "source": [
    "from edsl import Survey \n",
    "\n",
    "# Pass a list of one ore more questions to be administered together in the survey \n",
    "survey = Survey([q_content]) \n",
    "\n",
    "# Run the survey with the models\n",
    "results = survey.by(models).run()"
   ]
  },
  {
   "cell_type": "markdown",
   "metadata": {},
   "source": [
    "The results include information about all the components of the response that we can analyze. We can see a list of these components:"
   ]
  },
  {
   "cell_type": "code",
   "execution_count": 6,
   "metadata": {},
   "outputs": [
    {
     "data": {
      "text/plain": [
       "['agent.agent_instruction',\n",
       " 'agent.agent_name',\n",
       " 'answer.content',\n",
       " 'iteration.iteration',\n",
       " 'model.frequency_penalty',\n",
       " 'model.logprobs',\n",
       " 'model.maxOutputTokens',\n",
       " 'model.max_tokens',\n",
       " 'model.model',\n",
       " 'model.presence_penalty',\n",
       " 'model.stopSequences',\n",
       " 'model.temperature',\n",
       " 'model.topK',\n",
       " 'model.topP',\n",
       " 'model.top_logprobs',\n",
       " 'model.top_p',\n",
       " 'prompt.content_system_prompt',\n",
       " 'prompt.content_user_prompt',\n",
       " 'question_options.content_question_options',\n",
       " 'question_text.content_question_text',\n",
       " 'question_type.content_question_type',\n",
       " 'raw_model_response.content_raw_model_response']"
      ]
     },
     "execution_count": 6,
     "metadata": {},
     "output_type": "execute_result"
    }
   ],
   "source": [
    "results.columns"
   ]
  },
  {
   "cell_type": "markdown",
   "metadata": {},
   "source": [
    "## Working with results\n",
    "EDSL comes with [built-in methods for analyzing results](https://docs.expectedparrot.com/en/latest/results.html) in data tables, dataframes and other formats. For example, we can select and print individual components in a table:"
   ]
  },
  {
   "cell_type": "code",
   "execution_count": 7,
   "metadata": {
    "cell_id": "c68d3be8bada402ea17184b978abfa70",
    "deepnote_cell_type": "code"
   },
   "outputs": [
    {
     "data": {
      "text/html": [
       "<pre style=\"white-space:pre;overflow-x:auto;line-height:normal;font-family:Menlo,'DejaVu Sans Mono',consolas,'Courier New',monospace\">┏━━━━━━━━━━━━━━━━━━━━━━━━━━┳━━━━━━━━━━━━━━━━━━━━━━━━━━━━━━━━━━━━━━━━━━━━━━━━━━━━━━━━━━━━━━━━━━━━━━━━━━━━━━━━━━━━━━┓\n",
       "┃<span style=\"color: #800080; text-decoration-color: #800080; font-weight: bold\"> model                    </span>┃<span style=\"color: #800080; text-decoration-color: #800080; font-weight: bold\"> answer                                                                               </span>┃\n",
       "┃<span style=\"color: #800080; text-decoration-color: #800080; font-weight: bold\"> .model                   </span>┃<span style=\"color: #800080; text-decoration-color: #800080; font-weight: bold\"> .content                                                                             </span>┃\n",
       "┡━━━━━━━━━━━━━━━━━━━━━━━━━━╇━━━━━━━━━━━━━━━━━━━━━━━━━━━━━━━━━━━━━━━━━━━━━━━━━━━━━━━━━━━━━━━━━━━━━━━━━━━━━━━━━━━━━━┩\n",
       "│<span style=\"color: #7f7f7f; text-decoration-color: #7f7f7f\"> gpt-3.5-turbo            </span>│<span style=\"color: #7f7f7f; text-decoration-color: #7f7f7f\"> When conducting research with large language models, it is important to clearly      </span>│\n",
       "│<span style=\"color: #7f7f7f; text-decoration-color: #7f7f7f\">                          </span>│<span style=\"color: #7f7f7f; text-decoration-color: #7f7f7f\"> define research goals, use diverse datasets for training, evaluate model performance </span>│\n",
       "│<span style=\"color: #7f7f7f; text-decoration-color: #7f7f7f\">                          </span>│<span style=\"color: #7f7f7f; text-decoration-color: #7f7f7f\"> across various metrics, and ensure ethical considerations are addressed throughout   </span>│\n",
       "│<span style=\"color: #7f7f7f; text-decoration-color: #7f7f7f\">                          </span>│<span style=\"color: #7f7f7f; text-decoration-color: #7f7f7f\"> the research process.                                                                </span>│\n",
       "├──────────────────────────┼──────────────────────────────────────────────────────────────────────────────────────┤\n",
       "│<span style=\"color: #7f7f7f; text-decoration-color: #7f7f7f\"> gpt-4                    </span>│<span style=\"color: #7f7f7f; text-decoration-color: #7f7f7f\"> Best practices for conducting research with large language models include ensuring   </span>│\n",
       "│<span style=\"color: #7f7f7f; text-decoration-color: #7f7f7f\">                          </span>│<span style=\"color: #7f7f7f; text-decoration-color: #7f7f7f\"> data quality and diversity, understanding model limitations, applying appropriate    </span>│\n",
       "│<span style=\"color: #7f7f7f; text-decoration-color: #7f7f7f\">                          </span>│<span style=\"color: #7f7f7f; text-decoration-color: #7f7f7f\"> evaluation metrics, ethical considerations, and ongoing monitoring for model         </span>│\n",
       "│<span style=\"color: #7f7f7f; text-decoration-color: #7f7f7f\">                          </span>│<span style=\"color: #7f7f7f; text-decoration-color: #7f7f7f\"> performance and bias mitigation.                                                     </span>│\n",
       "├──────────────────────────┼──────────────────────────────────────────────────────────────────────────────────────┤\n",
       "│<span style=\"color: #7f7f7f; text-decoration-color: #7f7f7f\"> gpt-4o                   </span>│<span style=\"color: #7f7f7f; text-decoration-color: #7f7f7f\"> Best practices for conducting research with large language models include ensuring   </span>│\n",
       "│<span style=\"color: #7f7f7f; text-decoration-color: #7f7f7f\">                          </span>│<span style=\"color: #7f7f7f; text-decoration-color: #7f7f7f\"> data privacy, maintaining transparency in methodology, validating results through    </span>│\n",
       "│<span style=\"color: #7f7f7f; text-decoration-color: #7f7f7f\">                          </span>│<span style=\"color: #7f7f7f; text-decoration-color: #7f7f7f\"> peer review, and considering ethical implications of the research outcomes.          </span>│\n",
       "├──────────────────────────┼──────────────────────────────────────────────────────────────────────────────────────┤\n",
       "│<span style=\"color: #7f7f7f; text-decoration-color: #7f7f7f\"> gemini-pro               </span>│<span style=\"color: #7f7f7f; text-decoration-color: #7f7f7f\"> When conducting research with large language models, it's important to use diverse   </span>│\n",
       "│<span style=\"color: #7f7f7f; text-decoration-color: #7f7f7f\">                          </span>│<span style=\"color: #7f7f7f; text-decoration-color: #7f7f7f\"> and representative datasets, carefully evaluate model outputs, and consider          </span>│\n",
       "│<span style=\"color: #7f7f7f; text-decoration-color: #7f7f7f\">                          </span>│<span style=\"color: #7f7f7f; text-decoration-color: #7f7f7f\"> potential biases and limitations.                                                    </span>│\n",
       "├──────────────────────────┼──────────────────────────────────────────────────────────────────────────────────────┤\n",
       "│<span style=\"color: #7f7f7f; text-decoration-color: #7f7f7f\"> claude-3-sonnet-20240229 </span>│<span style=\"color: #7f7f7f; text-decoration-color: #7f7f7f\"> When conducting research with large language models, it is important to carefully    </span>│\n",
       "│<span style=\"color: #7f7f7f; text-decoration-color: #7f7f7f\">                          </span>│<span style=\"color: #7f7f7f; text-decoration-color: #7f7f7f\"> curate the training data to avoid biases, establish clear guidelines for responsible </span>│\n",
       "│<span style=\"color: #7f7f7f; text-decoration-color: #7f7f7f\">                          </span>│<span style=\"color: #7f7f7f; text-decoration-color: #7f7f7f\"> and ethical use, rigorously evaluate the model's outputs for accuracy and potential  </span>│\n",
       "│<span style=\"color: #7f7f7f; text-decoration-color: #7f7f7f\">                          </span>│<span style=\"color: #7f7f7f; text-decoration-color: #7f7f7f\"> harms, and transparently communicate the model's capabilities and limitations.       </span>│\n",
       "└──────────────────────────┴──────────────────────────────────────────────────────────────────────────────────────┘\n",
       "</pre>\n"
      ],
      "text/plain": [
       "┏━━━━━━━━━━━━━━━━━━━━━━━━━━┳━━━━━━━━━━━━━━━━━━━━━━━━━━━━━━━━━━━━━━━━━━━━━━━━━━━━━━━━━━━━━━━━━━━━━━━━━━━━━━━━━━━━━━┓\n",
       "┃\u001b[1;35m \u001b[0m\u001b[1;35mmodel                   \u001b[0m\u001b[1;35m \u001b[0m┃\u001b[1;35m \u001b[0m\u001b[1;35manswer                                                                              \u001b[0m\u001b[1;35m \u001b[0m┃\n",
       "┃\u001b[1;35m \u001b[0m\u001b[1;35m.model                  \u001b[0m\u001b[1;35m \u001b[0m┃\u001b[1;35m \u001b[0m\u001b[1;35m.content                                                                            \u001b[0m\u001b[1;35m \u001b[0m┃\n",
       "┡━━━━━━━━━━━━━━━━━━━━━━━━━━╇━━━━━━━━━━━━━━━━━━━━━━━━━━━━━━━━━━━━━━━━━━━━━━━━━━━━━━━━━━━━━━━━━━━━━━━━━━━━━━━━━━━━━━┩\n",
       "│\u001b[2m \u001b[0m\u001b[2mgpt-3.5-turbo           \u001b[0m\u001b[2m \u001b[0m│\u001b[2m \u001b[0m\u001b[2mWhen conducting research with large language models, it is important to clearly     \u001b[0m\u001b[2m \u001b[0m│\n",
       "│\u001b[2m                          \u001b[0m│\u001b[2m \u001b[0m\u001b[2mdefine research goals, use diverse datasets for training, evaluate model performance\u001b[0m\u001b[2m \u001b[0m│\n",
       "│\u001b[2m                          \u001b[0m│\u001b[2m \u001b[0m\u001b[2macross various metrics, and ensure ethical considerations are addressed throughout  \u001b[0m\u001b[2m \u001b[0m│\n",
       "│\u001b[2m                          \u001b[0m│\u001b[2m \u001b[0m\u001b[2mthe research process.                                                               \u001b[0m\u001b[2m \u001b[0m│\n",
       "├──────────────────────────┼──────────────────────────────────────────────────────────────────────────────────────┤\n",
       "│\u001b[2m \u001b[0m\u001b[2mgpt-4                   \u001b[0m\u001b[2m \u001b[0m│\u001b[2m \u001b[0m\u001b[2mBest practices for conducting research with large language models include ensuring  \u001b[0m\u001b[2m \u001b[0m│\n",
       "│\u001b[2m                          \u001b[0m│\u001b[2m \u001b[0m\u001b[2mdata quality and diversity, understanding model limitations, applying appropriate   \u001b[0m\u001b[2m \u001b[0m│\n",
       "│\u001b[2m                          \u001b[0m│\u001b[2m \u001b[0m\u001b[2mevaluation metrics, ethical considerations, and ongoing monitoring for model        \u001b[0m\u001b[2m \u001b[0m│\n",
       "│\u001b[2m                          \u001b[0m│\u001b[2m \u001b[0m\u001b[2mperformance and bias mitigation.                                                    \u001b[0m\u001b[2m \u001b[0m│\n",
       "├──────────────────────────┼──────────────────────────────────────────────────────────────────────────────────────┤\n",
       "│\u001b[2m \u001b[0m\u001b[2mgpt-4o                  \u001b[0m\u001b[2m \u001b[0m│\u001b[2m \u001b[0m\u001b[2mBest practices for conducting research with large language models include ensuring  \u001b[0m\u001b[2m \u001b[0m│\n",
       "│\u001b[2m                          \u001b[0m│\u001b[2m \u001b[0m\u001b[2mdata privacy, maintaining transparency in methodology, validating results through   \u001b[0m\u001b[2m \u001b[0m│\n",
       "│\u001b[2m                          \u001b[0m│\u001b[2m \u001b[0m\u001b[2mpeer review, and considering ethical implications of the research outcomes.         \u001b[0m\u001b[2m \u001b[0m│\n",
       "├──────────────────────────┼──────────────────────────────────────────────────────────────────────────────────────┤\n",
       "│\u001b[2m \u001b[0m\u001b[2mgemini-pro              \u001b[0m\u001b[2m \u001b[0m│\u001b[2m \u001b[0m\u001b[2mWhen conducting research with large language models, it's important to use diverse  \u001b[0m\u001b[2m \u001b[0m│\n",
       "│\u001b[2m                          \u001b[0m│\u001b[2m \u001b[0m\u001b[2mand representative datasets, carefully evaluate model outputs, and consider         \u001b[0m\u001b[2m \u001b[0m│\n",
       "│\u001b[2m                          \u001b[0m│\u001b[2m \u001b[0m\u001b[2mpotential biases and limitations.                                                   \u001b[0m\u001b[2m \u001b[0m│\n",
       "├──────────────────────────┼──────────────────────────────────────────────────────────────────────────────────────┤\n",
       "│\u001b[2m \u001b[0m\u001b[2mclaude-3-sonnet-20240229\u001b[0m\u001b[2m \u001b[0m│\u001b[2m \u001b[0m\u001b[2mWhen conducting research with large language models, it is important to carefully   \u001b[0m\u001b[2m \u001b[0m│\n",
       "│\u001b[2m                          \u001b[0m│\u001b[2m \u001b[0m\u001b[2mcurate the training data to avoid biases, establish clear guidelines for responsible\u001b[0m\u001b[2m \u001b[0m│\n",
       "│\u001b[2m                          \u001b[0m│\u001b[2m \u001b[0m\u001b[2mand ethical use, rigorously evaluate the model's outputs for accuracy and potential \u001b[0m\u001b[2m \u001b[0m│\n",
       "│\u001b[2m                          \u001b[0m│\u001b[2m \u001b[0m\u001b[2mharms, and transparently communicate the model's capabilities and limitations.      \u001b[0m\u001b[2m \u001b[0m│\n",
       "└──────────────────────────┴──────────────────────────────────────────────────────────────────────────────────────┘\n"
      ]
     },
     "metadata": {},
     "output_type": "display_data"
    }
   ],
   "source": [
    "results.select(\"model\", \"content\").print(format=\"rich\")"
   ]
  },
  {
   "cell_type": "markdown",
   "metadata": {},
   "source": [
    "Here we access them as a dataframe:"
   ]
  },
  {
   "cell_type": "code",
   "execution_count": 8,
   "metadata": {},
   "outputs": [
    {
     "data": {
      "text/html": [
       "<div>\n",
       "<style scoped>\n",
       "    .dataframe tbody tr th:only-of-type {\n",
       "        vertical-align: middle;\n",
       "    }\n",
       "\n",
       "    .dataframe tbody tr th {\n",
       "        vertical-align: top;\n",
       "    }\n",
       "\n",
       "    .dataframe thead th {\n",
       "        text-align: right;\n",
       "    }\n",
       "</style>\n",
       "<table border=\"1\" class=\"dataframe\">\n",
       "  <thead>\n",
       "    <tr style=\"text-align: right;\">\n",
       "      <th></th>\n",
       "      <th>model</th>\n",
       "      <th>content</th>\n",
       "    </tr>\n",
       "  </thead>\n",
       "  <tbody>\n",
       "    <tr>\n",
       "      <th>0</th>\n",
       "      <td>gpt-3.5-turbo</td>\n",
       "      <td>When conducting research with large language m...</td>\n",
       "    </tr>\n",
       "    <tr>\n",
       "      <th>1</th>\n",
       "      <td>gpt-4</td>\n",
       "      <td>Best practices for conducting research with la...</td>\n",
       "    </tr>\n",
       "    <tr>\n",
       "      <th>2</th>\n",
       "      <td>gpt-4o</td>\n",
       "      <td>Best practices for conducting research with la...</td>\n",
       "    </tr>\n",
       "    <tr>\n",
       "      <th>3</th>\n",
       "      <td>gemini-pro</td>\n",
       "      <td>When conducting research with large language m...</td>\n",
       "    </tr>\n",
       "    <tr>\n",
       "      <th>4</th>\n",
       "      <td>claude-3-sonnet-20240229</td>\n",
       "      <td>When conducting research with large language m...</td>\n",
       "    </tr>\n",
       "  </tbody>\n",
       "</table>\n",
       "</div>"
      ],
      "text/plain": [
       "                      model                                            content\n",
       "0             gpt-3.5-turbo  When conducting research with large language m...\n",
       "1                     gpt-4  Best practices for conducting research with la...\n",
       "2                    gpt-4o  Best practices for conducting research with la...\n",
       "3                gemini-pro  When conducting research with large language m...\n",
       "4  claude-3-sonnet-20240229  When conducting research with large language m..."
      ]
     },
     "execution_count": 8,
     "metadata": {},
     "output_type": "execute_result"
    }
   ],
   "source": [
    "df_model_content = results.to_pandas(remove_prefix=True)[[\"model\", \"content\"]]\n",
    "df_model_content"
   ]
  },
  {
   "cell_type": "markdown",
   "metadata": {},
   "source": [
    "## Evaluating models\n",
    "We can use the models' responses as options to a new question prompting the models to select the best response. Here we isolate the responses to the original question:"
   ]
  },
  {
   "cell_type": "code",
   "execution_count": 9,
   "metadata": {},
   "outputs": [
    {
     "data": {
      "text/plain": [
       "['When conducting research with large language models, it is important to clearly define research goals, use diverse datasets for training, evaluate model performance across various metrics, and ensure ethical considerations are addressed throughout the research process.',\n",
       " 'Best practices for conducting research with large language models include ensuring data quality and diversity, understanding model limitations, applying appropriate evaluation metrics, ethical considerations, and ongoing monitoring for model performance and bias mitigation.',\n",
       " 'Best practices for conducting research with large language models include ensuring data privacy, maintaining transparency in methodology, validating results through peer review, and considering ethical implications of the research outcomes.',\n",
       " \"When conducting research with large language models, it's important to use diverse and representative datasets, carefully evaluate model outputs, and consider potential biases and limitations.\",\n",
       " \"When conducting research with large language models, it is important to carefully curate the training data to avoid biases, establish clear guidelines for responsible and ethical use, rigorously evaluate the model's outputs for accuracy and potential harms, and transparently communicate the model's capabilities and limitations.\"]"
      ]
     },
     "execution_count": 9,
     "metadata": {},
     "output_type": "execute_result"
    }
   ],
   "source": [
    "content_options = results.select(\"content\").to_list()\n",
    "content_options"
   ]
  },
  {
   "cell_type": "markdown",
   "metadata": {},
   "source": [
    "And here we use them as `question_options` to a new question prompting the models to vote:"
   ]
  },
  {
   "cell_type": "code",
   "execution_count": 10,
   "metadata": {},
   "outputs": [],
   "source": [
    "from edsl.questions import QuestionMultipleChoice\n",
    "\n",
    "q_best = QuestionMultipleChoice(\n",
    "    question_name = \"best\",\n",
    "    question_text = \"\"\"Select the best response to this prompt:\n",
    "    'Draft a sentence summarizing best practices for conducting research with large language models'\"\"\",\n",
    "    question_options = content_options\n",
    ")"
   ]
  },
  {
   "cell_type": "code",
   "execution_count": 11,
   "metadata": {},
   "outputs": [],
   "source": [
    "best_results = q_best.by(models).run()"
   ]
  },
  {
   "cell_type": "code",
   "execution_count": 12,
   "metadata": {},
   "outputs": [
    {
     "data": {
      "text/html": [
       "<pre style=\"white-space:pre;overflow-x:auto;line-height:normal;font-family:Menlo,'DejaVu Sans Mono',consolas,'Courier New',monospace\">┏━━━━━━━━━━━━━━━━━━━━━━━━━━┳━━━━━━━━━━━━━━━━━━━━━━━━━━━━━━━━━━━━━━━━━━━━━━━━━━━━━━━━━━━━━━━━━━━━━━━━━━━━━━━━━━━━━━┓\n",
       "┃<span style=\"color: #800080; text-decoration-color: #800080; font-weight: bold\"> model                    </span>┃<span style=\"color: #800080; text-decoration-color: #800080; font-weight: bold\"> answer                                                                               </span>┃\n",
       "┃<span style=\"color: #800080; text-decoration-color: #800080; font-weight: bold\"> .model                   </span>┃<span style=\"color: #800080; text-decoration-color: #800080; font-weight: bold\"> .best                                                                                </span>┃\n",
       "┡━━━━━━━━━━━━━━━━━━━━━━━━━━╇━━━━━━━━━━━━━━━━━━━━━━━━━━━━━━━━━━━━━━━━━━━━━━━━━━━━━━━━━━━━━━━━━━━━━━━━━━━━━━━━━━━━━━┩\n",
       "│<span style=\"color: #7f7f7f; text-decoration-color: #7f7f7f\"> gpt-3.5-turbo            </span>│<span style=\"color: #7f7f7f; text-decoration-color: #7f7f7f\"> When conducting research with large language models, it is important to carefully    </span>│\n",
       "│<span style=\"color: #7f7f7f; text-decoration-color: #7f7f7f\">                          </span>│<span style=\"color: #7f7f7f; text-decoration-color: #7f7f7f\"> curate the training data to avoid biases, establish clear guidelines for responsible </span>│\n",
       "│<span style=\"color: #7f7f7f; text-decoration-color: #7f7f7f\">                          </span>│<span style=\"color: #7f7f7f; text-decoration-color: #7f7f7f\"> and ethical use, rigorously evaluate the model's outputs for accuracy and potential  </span>│\n",
       "│<span style=\"color: #7f7f7f; text-decoration-color: #7f7f7f\">                          </span>│<span style=\"color: #7f7f7f; text-decoration-color: #7f7f7f\"> harms, and transparently communicate the model's capabilities and limitations.       </span>│\n",
       "├──────────────────────────┼──────────────────────────────────────────────────────────────────────────────────────┤\n",
       "│<span style=\"color: #7f7f7f; text-decoration-color: #7f7f7f\"> gpt-4                    </span>│<span style=\"color: #7f7f7f; text-decoration-color: #7f7f7f\"> Best practices for conducting research with large language models include ensuring   </span>│\n",
       "│<span style=\"color: #7f7f7f; text-decoration-color: #7f7f7f\">                          </span>│<span style=\"color: #7f7f7f; text-decoration-color: #7f7f7f\"> data quality and diversity, understanding model limitations, applying appropriate    </span>│\n",
       "│<span style=\"color: #7f7f7f; text-decoration-color: #7f7f7f\">                          </span>│<span style=\"color: #7f7f7f; text-decoration-color: #7f7f7f\"> evaluation metrics, ethical considerations, and ongoing monitoring for model         </span>│\n",
       "│<span style=\"color: #7f7f7f; text-decoration-color: #7f7f7f\">                          </span>│<span style=\"color: #7f7f7f; text-decoration-color: #7f7f7f\"> performance and bias mitigation.                                                     </span>│\n",
       "├──────────────────────────┼──────────────────────────────────────────────────────────────────────────────────────┤\n",
       "│<span style=\"color: #7f7f7f; text-decoration-color: #7f7f7f\"> gpt-4o                   </span>│<span style=\"color: #7f7f7f; text-decoration-color: #7f7f7f\"> Best practices for conducting research with large language models include ensuring   </span>│\n",
       "│<span style=\"color: #7f7f7f; text-decoration-color: #7f7f7f\">                          </span>│<span style=\"color: #7f7f7f; text-decoration-color: #7f7f7f\"> data quality and diversity, understanding model limitations, applying appropriate    </span>│\n",
       "│<span style=\"color: #7f7f7f; text-decoration-color: #7f7f7f\">                          </span>│<span style=\"color: #7f7f7f; text-decoration-color: #7f7f7f\"> evaluation metrics, ethical considerations, and ongoing monitoring for model         </span>│\n",
       "│<span style=\"color: #7f7f7f; text-decoration-color: #7f7f7f\">                          </span>│<span style=\"color: #7f7f7f; text-decoration-color: #7f7f7f\"> performance and bias mitigation.                                                     </span>│\n",
       "├──────────────────────────┼──────────────────────────────────────────────────────────────────────────────────────┤\n",
       "│<span style=\"color: #7f7f7f; text-decoration-color: #7f7f7f\"> gemini-pro               </span>│<span style=\"color: #7f7f7f; text-decoration-color: #7f7f7f\"> When conducting research with large language models, it is important to clearly      </span>│\n",
       "│<span style=\"color: #7f7f7f; text-decoration-color: #7f7f7f\">                          </span>│<span style=\"color: #7f7f7f; text-decoration-color: #7f7f7f\"> define research goals, use diverse datasets for training, evaluate model performance </span>│\n",
       "│<span style=\"color: #7f7f7f; text-decoration-color: #7f7f7f\">                          </span>│<span style=\"color: #7f7f7f; text-decoration-color: #7f7f7f\"> across various metrics, and ensure ethical considerations are addressed throughout   </span>│\n",
       "│<span style=\"color: #7f7f7f; text-decoration-color: #7f7f7f\">                          </span>│<span style=\"color: #7f7f7f; text-decoration-color: #7f7f7f\"> the research process.                                                                </span>│\n",
       "├──────────────────────────┼──────────────────────────────────────────────────────────────────────────────────────┤\n",
       "│<span style=\"color: #7f7f7f; text-decoration-color: #7f7f7f\"> claude-3-sonnet-20240229 </span>│<span style=\"color: #7f7f7f; text-decoration-color: #7f7f7f\"> When conducting research with large language models, it is important to carefully    </span>│\n",
       "│<span style=\"color: #7f7f7f; text-decoration-color: #7f7f7f\">                          </span>│<span style=\"color: #7f7f7f; text-decoration-color: #7f7f7f\"> curate the training data to avoid biases, establish clear guidelines for responsible </span>│\n",
       "│<span style=\"color: #7f7f7f; text-decoration-color: #7f7f7f\">                          </span>│<span style=\"color: #7f7f7f; text-decoration-color: #7f7f7f\"> and ethical use, rigorously evaluate the model's outputs for accuracy and potential  </span>│\n",
       "│<span style=\"color: #7f7f7f; text-decoration-color: #7f7f7f\">                          </span>│<span style=\"color: #7f7f7f; text-decoration-color: #7f7f7f\"> harms, and transparently communicate the model's capabilities and limitations.       </span>│\n",
       "└──────────────────────────┴──────────────────────────────────────────────────────────────────────────────────────┘\n",
       "</pre>\n"
      ],
      "text/plain": [
       "┏━━━━━━━━━━━━━━━━━━━━━━━━━━┳━━━━━━━━━━━━━━━━━━━━━━━━━━━━━━━━━━━━━━━━━━━━━━━━━━━━━━━━━━━━━━━━━━━━━━━━━━━━━━━━━━━━━━┓\n",
       "┃\u001b[1;35m \u001b[0m\u001b[1;35mmodel                   \u001b[0m\u001b[1;35m \u001b[0m┃\u001b[1;35m \u001b[0m\u001b[1;35manswer                                                                              \u001b[0m\u001b[1;35m \u001b[0m┃\n",
       "┃\u001b[1;35m \u001b[0m\u001b[1;35m.model                  \u001b[0m\u001b[1;35m \u001b[0m┃\u001b[1;35m \u001b[0m\u001b[1;35m.best                                                                               \u001b[0m\u001b[1;35m \u001b[0m┃\n",
       "┡━━━━━━━━━━━━━━━━━━━━━━━━━━╇━━━━━━━━━━━━━━━━━━━━━━━━━━━━━━━━━━━━━━━━━━━━━━━━━━━━━━━━━━━━━━━━━━━━━━━━━━━━━━━━━━━━━━┩\n",
       "│\u001b[2m \u001b[0m\u001b[2mgpt-3.5-turbo           \u001b[0m\u001b[2m \u001b[0m│\u001b[2m \u001b[0m\u001b[2mWhen conducting research with large language models, it is important to carefully   \u001b[0m\u001b[2m \u001b[0m│\n",
       "│\u001b[2m                          \u001b[0m│\u001b[2m \u001b[0m\u001b[2mcurate the training data to avoid biases, establish clear guidelines for responsible\u001b[0m\u001b[2m \u001b[0m│\n",
       "│\u001b[2m                          \u001b[0m│\u001b[2m \u001b[0m\u001b[2mand ethical use, rigorously evaluate the model's outputs for accuracy and potential \u001b[0m\u001b[2m \u001b[0m│\n",
       "│\u001b[2m                          \u001b[0m│\u001b[2m \u001b[0m\u001b[2mharms, and transparently communicate the model's capabilities and limitations.      \u001b[0m\u001b[2m \u001b[0m│\n",
       "├──────────────────────────┼──────────────────────────────────────────────────────────────────────────────────────┤\n",
       "│\u001b[2m \u001b[0m\u001b[2mgpt-4                   \u001b[0m\u001b[2m \u001b[0m│\u001b[2m \u001b[0m\u001b[2mBest practices for conducting research with large language models include ensuring  \u001b[0m\u001b[2m \u001b[0m│\n",
       "│\u001b[2m                          \u001b[0m│\u001b[2m \u001b[0m\u001b[2mdata quality and diversity, understanding model limitations, applying appropriate   \u001b[0m\u001b[2m \u001b[0m│\n",
       "│\u001b[2m                          \u001b[0m│\u001b[2m \u001b[0m\u001b[2mevaluation metrics, ethical considerations, and ongoing monitoring for model        \u001b[0m\u001b[2m \u001b[0m│\n",
       "│\u001b[2m                          \u001b[0m│\u001b[2m \u001b[0m\u001b[2mperformance and bias mitigation.                                                    \u001b[0m\u001b[2m \u001b[0m│\n",
       "├──────────────────────────┼──────────────────────────────────────────────────────────────────────────────────────┤\n",
       "│\u001b[2m \u001b[0m\u001b[2mgpt-4o                  \u001b[0m\u001b[2m \u001b[0m│\u001b[2m \u001b[0m\u001b[2mBest practices for conducting research with large language models include ensuring  \u001b[0m\u001b[2m \u001b[0m│\n",
       "│\u001b[2m                          \u001b[0m│\u001b[2m \u001b[0m\u001b[2mdata quality and diversity, understanding model limitations, applying appropriate   \u001b[0m\u001b[2m \u001b[0m│\n",
       "│\u001b[2m                          \u001b[0m│\u001b[2m \u001b[0m\u001b[2mevaluation metrics, ethical considerations, and ongoing monitoring for model        \u001b[0m\u001b[2m \u001b[0m│\n",
       "│\u001b[2m                          \u001b[0m│\u001b[2m \u001b[0m\u001b[2mperformance and bias mitigation.                                                    \u001b[0m\u001b[2m \u001b[0m│\n",
       "├──────────────────────────┼──────────────────────────────────────────────────────────────────────────────────────┤\n",
       "│\u001b[2m \u001b[0m\u001b[2mgemini-pro              \u001b[0m\u001b[2m \u001b[0m│\u001b[2m \u001b[0m\u001b[2mWhen conducting research with large language models, it is important to clearly     \u001b[0m\u001b[2m \u001b[0m│\n",
       "│\u001b[2m                          \u001b[0m│\u001b[2m \u001b[0m\u001b[2mdefine research goals, use diverse datasets for training, evaluate model performance\u001b[0m\u001b[2m \u001b[0m│\n",
       "│\u001b[2m                          \u001b[0m│\u001b[2m \u001b[0m\u001b[2macross various metrics, and ensure ethical considerations are addressed throughout  \u001b[0m\u001b[2m \u001b[0m│\n",
       "│\u001b[2m                          \u001b[0m│\u001b[2m \u001b[0m\u001b[2mthe research process.                                                               \u001b[0m\u001b[2m \u001b[0m│\n",
       "├──────────────────────────┼──────────────────────────────────────────────────────────────────────────────────────┤\n",
       "│\u001b[2m \u001b[0m\u001b[2mclaude-3-sonnet-20240229\u001b[0m\u001b[2m \u001b[0m│\u001b[2m \u001b[0m\u001b[2mWhen conducting research with large language models, it is important to carefully   \u001b[0m\u001b[2m \u001b[0m│\n",
       "│\u001b[2m                          \u001b[0m│\u001b[2m \u001b[0m\u001b[2mcurate the training data to avoid biases, establish clear guidelines for responsible\u001b[0m\u001b[2m \u001b[0m│\n",
       "│\u001b[2m                          \u001b[0m│\u001b[2m \u001b[0m\u001b[2mand ethical use, rigorously evaluate the model's outputs for accuracy and potential \u001b[0m\u001b[2m \u001b[0m│\n",
       "│\u001b[2m                          \u001b[0m│\u001b[2m \u001b[0m\u001b[2mharms, and transparently communicate the model's capabilities and limitations.      \u001b[0m\u001b[2m \u001b[0m│\n",
       "└──────────────────────────┴──────────────────────────────────────────────────────────────────────────────────────┘\n"
      ]
     },
     "metadata": {},
     "output_type": "display_data"
    }
   ],
   "source": [
    "best_results.select(\"model\", \"best\").print(format=\"rich\")"
   ]
  },
  {
   "cell_type": "markdown",
   "metadata": {},
   "source": [
    "## Analyzing results\n",
    "Here we merge our results datasets to get a quick tally of votes for each model's content:"
   ]
  },
  {
   "cell_type": "code",
   "execution_count": 13,
   "metadata": {},
   "outputs": [
    {
     "data": {
      "text/html": [
       "<div>\n",
       "<style scoped>\n",
       "    .dataframe tbody tr th:only-of-type {\n",
       "        vertical-align: middle;\n",
       "    }\n",
       "\n",
       "    .dataframe tbody tr th {\n",
       "        vertical-align: top;\n",
       "    }\n",
       "\n",
       "    .dataframe thead th {\n",
       "        text-align: right;\n",
       "    }\n",
       "</style>\n",
       "<table border=\"1\" class=\"dataframe\">\n",
       "  <thead>\n",
       "    <tr style=\"text-align: right;\">\n",
       "      <th></th>\n",
       "      <th>model</th>\n",
       "      <th>best</th>\n",
       "    </tr>\n",
       "  </thead>\n",
       "  <tbody>\n",
       "    <tr>\n",
       "      <th>0</th>\n",
       "      <td>gpt-3.5-turbo</td>\n",
       "      <td>When conducting research with large language m...</td>\n",
       "    </tr>\n",
       "    <tr>\n",
       "      <th>1</th>\n",
       "      <td>gpt-4</td>\n",
       "      <td>Best practices for conducting research with la...</td>\n",
       "    </tr>\n",
       "    <tr>\n",
       "      <th>2</th>\n",
       "      <td>gpt-4o</td>\n",
       "      <td>Best practices for conducting research with la...</td>\n",
       "    </tr>\n",
       "    <tr>\n",
       "      <th>3</th>\n",
       "      <td>gemini-pro</td>\n",
       "      <td>When conducting research with large language m...</td>\n",
       "    </tr>\n",
       "    <tr>\n",
       "      <th>4</th>\n",
       "      <td>claude-3-sonnet-20240229</td>\n",
       "      <td>When conducting research with large language m...</td>\n",
       "    </tr>\n",
       "  </tbody>\n",
       "</table>\n",
       "</div>"
      ],
      "text/plain": [
       "                      model                                               best\n",
       "0             gpt-3.5-turbo  When conducting research with large language m...\n",
       "1                     gpt-4  Best practices for conducting research with la...\n",
       "2                    gpt-4o  Best practices for conducting research with la...\n",
       "3                gemini-pro  When conducting research with large language m...\n",
       "4  claude-3-sonnet-20240229  When conducting research with large language m..."
      ]
     },
     "execution_count": 13,
     "metadata": {},
     "output_type": "execute_result"
    }
   ],
   "source": [
    "df_best_content = best_results.to_pandas(remove_prefix=True)\n",
    "df_best_content = df_best_content[[\"model\", \"best\"]]\n",
    "df_best_content"
   ]
  },
  {
   "cell_type": "markdown",
   "metadata": {},
   "source": [
    "We can merge these new results to see which models did best:"
   ]
  },
  {
   "cell_type": "code",
   "execution_count": 14,
   "metadata": {},
   "outputs": [
    {
     "name": "stdout",
     "output_type": "stream",
     "text": [
      "                      Model                                     Voters  Votes\n",
      "0  claude-3-sonnet-20240229  [gpt-3.5-turbo, claude-3-sonnet-20240229]      2\n",
      "3                     gpt-4                            [gpt-4, gpt-4o]      2\n",
      "2             gpt-3.5-turbo                               [gemini-pro]      1\n",
      "1                gemini-pro                                         []      0\n",
      "4                    gpt-4o                                         []      0\n"
     ]
    }
   ],
   "source": [
    "df_merged = df_model_content.merge(df_best_content, left_on='content', right_on='best', how='outer')\n",
    "\n",
    "df_aggregated = df_merged.groupby(df_merged['model_x']).agg({\n",
    "    'model_y': lambda x: list(x.dropna()),  \n",
    "}).reset_index()\n",
    "\n",
    "df_aggregated['Votes'] = df_aggregated['model_y'].apply(len)\n",
    "df_aggregated.columns = ['Model', 'Voters', 'Votes']\n",
    "df_aggregated = df_aggregated.sort_values(by='Votes', ascending=False)\n",
    "\n",
    "print(df_aggregated)"
   ]
  },
  {
   "cell_type": "code",
   "execution_count": 15,
   "metadata": {},
   "outputs": [
    {
     "data": {
      "image/png": "[encoded data removed]",
      "text/plain": [
       "<Figure size 1000x600 with 1 Axes>"
      ]
     },
     "metadata": {},
     "output_type": "display_data"
    }
   ],
   "source": [
    "import matplotlib.pyplot as plt\n",
    "import pandas as pd\n",
    "import matplotlib.ticker as ticker\n",
    "\n",
    "plt.figure(figsize=(10, 6))  \n",
    "colors = ['green', 'red', 'blue', 'yellow', 'turquoise']  \n",
    "plt.bar(df_aggregated['Model'], df_aggregated['Votes'], color=colors)  \n",
    "plt.xlabel('Model')  \n",
    "plt.ylabel('Votes')  \n",
    "plt.title('Votes by model')  \n",
    "x_positions = range(len(df_aggregated['Model']))  \n",
    "plt.xticks(x_positions, [label.upper() for label in df_aggregated['Model']], rotation=0)  \n",
    "plt.gca().yaxis.set_major_locator(ticker.MaxNLocator(integer=True))\n",
    "\n",
    "plt.show()"
   ]
  }
 ],
 "metadata": {
  "deepnote_execution_queue": [],
  "deepnote_notebook_id": "6d1e666ba52649708894044c2a755567",
  "deepnote_persisted_session": {
   "createdAt": "2024-03-01T17:07:23.650Z"
  },
  "kernelspec": {
   "display_name": "Python 3 (ipykernel)",
   "language": "python",
   "name": "python3"
  },
  "language_info": {
   "codemirror_mode": {
    "name": "ipython",
    "version": 3
   },
   "file_extension": ".py",
   "mimetype": "text/x-python",
   "name": "python",
   "nbconvert_exporter": "python",
   "pygments_lexer": "ipython3",
   "version": "3.11.7"
  }
 },
 "nbformat": 4,
 "nbformat_minor": 4
}
