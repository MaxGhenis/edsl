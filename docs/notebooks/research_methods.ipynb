{
 "cells": [
  {
   "cell_type": "markdown",
   "metadata": {
    "cell_id": "8d3a12ec47fb4b75b5fc8351d0da55cc",
    "deepnote_cell_type": "markdown",
    "editable": true,
    "slideshow": {
     "slide_type": ""
    },
    "tags": []
   },
   "source": [
    "# Cognitive testing & creating new methods\n",
    "This notebook shows some ways of using EDSL to conduct research, including data labeling, cognitive testing and creating new methods."
   ]
  },
  {
   "cell_type": "markdown",
   "metadata": {
    "cell_id": "c42102c4e43d4df193939499ede981fa",
    "deepnote_cell_type": "markdown",
    "editable": true,
    "slideshow": {
     "slide_type": ""
    },
    "tags": []
   },
   "source": [
    "## Cognitive testing\n",
    "In this example we use the tools to evaluate some draft survey questions and suggest improvements."
   ]
  },
  {
   "cell_type": "code",
   "execution_count": 1,
   "metadata": {
    "cell_id": "4ef542687e9147d592ef12257f2fef5b",
    "deepnote_cell_type": "code",
    "deepnote_to_be_reexecuted": false,
    "editable": true,
    "execution_millis": 241,
    "execution_start": 1709255968869,
    "slideshow": {
     "slide_type": ""
    },
    "source_hash": null,
    "tags": []
   },
   "outputs": [],
   "source": [
    "from edsl import QuestionFreeText, Agent, ScenarioList, Scenario, Model"
   ]
  },
  {
   "cell_type": "markdown",
   "metadata": {
    "cell_id": "4f5539d6a4084723b87a26dad9e737ea",
    "deepnote_cell_type": "markdown",
    "editable": true,
    "slideshow": {
     "slide_type": ""
    },
    "tags": []
   },
   "source": [
    "Create a relevant persona and assign it to an agent:"
   ]
  },
  {
   "cell_type": "code",
   "execution_count": 2,
   "metadata": {
    "cell_id": "63f1700826e64775bf5b22ea641f7f23",
    "deepnote_cell_type": "code",
    "deepnote_to_be_reexecuted": false,
    "editable": true,
    "execution_millis": 23,
    "execution_start": 1709255974214,
    "slideshow": {
     "slide_type": ""
    },
    "source_hash": null,
    "tags": []
   },
   "outputs": [],
   "source": [
    "a = Agent(traits = {\"background\": \"You are an expert in survey methodology and evaluating questionnaires.\"})"
   ]
  },
  {
   "cell_type": "markdown",
   "metadata": {
    "cell_id": "7c800923b0224f6b8ef081bc614f1f3c",
    "deepnote_cell_type": "markdown",
    "editable": true,
    "slideshow": {
     "slide_type": ""
    },
    "tags": []
   },
   "source": [
    "Identify a set of texts for review (these can also be imported):"
   ]
  },
  {
   "cell_type": "code",
   "execution_count": 3,
   "metadata": {
    "cell_id": "797649ed15674781a29ac2716890f890",
    "deepnote_cell_type": "code",
    "deepnote_to_be_reexecuted": false,
    "editable": true,
    "execution_millis": 110,
    "execution_start": 1709255976757,
    "slideshow": {
     "slide_type": ""
    },
    "source_hash": null,
    "tags": []
   },
   "outputs": [],
   "source": [
    "draft_texts = [\n",
    "    \"Do you feel the product is almost always of good quality?\",\n",
    "    \"On a scale of 1 to 5, where 1 means strongly agree and 5 means strongly disagree, how satisfied are you with our service?\",\n",
    "    \"Do you believe our IT team's collaborative synergy effectively optimizes our digital infrastructure?\",\n",
    "    \"What do you think of our recent implementation of Project X57?\",\n",
    "]"
   ]
  },
  {
   "cell_type": "markdown",
   "metadata": {
    "cell_id": "8df2503d9284419c861d33df5526c474",
    "deepnote_cell_type": "markdown",
    "editable": true,
    "slideshow": {
     "slide_type": ""
    },
    "tags": []
   },
   "source": [
    "Construct a question about the texts, which will be added as a parameter of the question individually:"
   ]
  },
  {
   "cell_type": "code",
   "execution_count": 4,
   "metadata": {
    "cell_id": "0804128d2581473b92936fea7618f3d0",
    "deepnote_cell_type": "code",
    "deepnote_to_be_reexecuted": false,
    "editable": true,
    "execution_millis": 90,
    "execution_start": 1709255979846,
    "slideshow": {
     "slide_type": ""
    },
    "source_hash": null,
    "tags": []
   },
   "outputs": [],
   "source": [
    "q = QuestionFreeText(\n",
    "    question_name = \"cognitive_review\",\n",
    "    question_text = \"\"\"Identify any cognitive issues in the following survey question\n",
    "    and then draft an improved version of it: {{ draft_text }}\"\"\",\n",
    ")"
   ]
  },
  {
   "cell_type": "markdown",
   "metadata": {
    "cell_id": "b1b17279959d4abe9255a9cb326e432c",
    "deepnote_cell_type": "markdown",
    "editable": true,
    "slideshow": {
     "slide_type": ""
    },
    "tags": []
   },
   "source": [
    "Create \"scenarios\" of the question with the texts as paraemeters:"
   ]
  },
  {
   "cell_type": "code",
   "execution_count": 5,
   "metadata": {
    "cell_id": "39746b95d16743d48e39b86280807aab",
    "deepnote_cell_type": "code",
    "deepnote_to_be_reexecuted": false,
    "editable": true,
    "execution_millis": 133,
    "execution_start": 1709255982576,
    "slideshow": {
     "slide_type": ""
    },
    "source_hash": null,
    "tags": []
   },
   "outputs": [],
   "source": [
    "s = ScenarioList.from_list(\"draft_text\", draft_texts)"
   ]
  },
  {
   "cell_type": "markdown",
   "metadata": {
    "cell_id": "9c1164c8a20c479a87cad7b1cb8443fa",
    "deepnote_cell_type": "markdown",
    "editable": true,
    "slideshow": {
     "slide_type": ""
    },
    "tags": []
   },
   "source": [
    "Check available language models:"
   ]
  },
  {
   "cell_type": "code",
   "execution_count": 6,
   "metadata": {
    "cell_id": "12b811cd5e454d499ed8234336f6d616",
    "deepnote_cell_type": "code",
    "deepnote_to_be_reexecuted": false,
    "editable": true,
    "execution_millis": 18,
    "execution_start": 1709255991411,
    "slideshow": {
     "slide_type": ""
    },
    "source_hash": null,
    "tags": []
   },
   "outputs": [],
   "source": [
    "# Model.available()"
   ]
  },
  {
   "cell_type": "markdown",
   "metadata": {
    "editable": true,
    "slideshow": {
     "slide_type": ""
    },
    "tags": []
   },
   "source": [
    "Select a language model (if no model is specified, the default model is used):"
   ]
  },
  {
   "cell_type": "code",
   "execution_count": 7,
   "metadata": {
    "cell_id": "c6c5207fa5de46ebb64d1da248e7ce7c",
    "deepnote_cell_type": "code",
    "deepnote_to_be_reexecuted": false,
    "editable": true,
    "execution_millis": 69,
    "execution_start": 1709256000175,
    "slideshow": {
     "slide_type": ""
    },
    "source_hash": null,
    "tags": []
   },
   "outputs": [],
   "source": [
    "m = Model(\"gemini-1.5-flash\")"
   ]
  },
  {
   "cell_type": "markdown",
   "metadata": {
    "editable": true,
    "slideshow": {
     "slide_type": ""
    },
    "tags": []
   },
   "source": [
    "Administer the survey:"
   ]
  },
  {
   "cell_type": "code",
   "execution_count": 8,
   "metadata": {
    "cell_id": "079d32f62e3c427f90a593c9a50c4921",
    "deepnote_cell_type": "code",
    "deepnote_to_be_reexecuted": false,
    "editable": true,
    "execution_millis": 10223,
    "execution_start": 1709256002493,
    "slideshow": {
     "slide_type": ""
    },
    "source_hash": null,
    "tags": []
   },
   "outputs": [
    {
     "data": {
      "text/html": [
       "\n",
       "            <!-- #region Remove Inference Info -->\n",
       "            <div id=\"logger-10b356d7-ca3c-47c7-8292-3e218c272a61\" class=\"job-logger\">\n",
       "                <div class=\"job-logger-header\">\n",
       "                    <span>\n",
       "                        <span id=\"arrow-10b356d7-ca3c-47c7-8292-3e218c272a61\">▼</span> \n",
       "                        Job Status (2024-12-28 16:21:22)\n",
       "                    </span>\n",
       "                </div>\n",
       "                <div id=\"content-10b356d7-ca3c-47c7-8292-3e218c272a61\" style=\"display: block;\">\n",
       "                    <table class=\"job-logger-table\">\n",
       "                        \n",
       "            <tr>\n",
       "                <td class=\"job-logger-cell job-logger-label\">Job UUID</td>\n",
       "                <td class=\"job-logger-cell job-logger-value\">80119162-96b9-4f7b-a6d9-a1bfc9d45e57</td>\n",
       "            </tr>\n",
       "        \n",
       "            <tr>\n",
       "                <td class=\"job-logger-cell job-logger-label\">Progress Bar URL</td>\n",
       "                <td class=\"job-logger-cell job-logger-value\"><a href=\"https://www.expectedparrot.com/home/remote-job-progress/80119162-96b9-4f7b-a6d9-a1bfc9d45e57\" target=\"_blank\" class=\"job-logger-link\">https://www.expectedparrot.com/home/remote-job-progress/80119162-96b9-4f7b-a6d9-a1bfc9d45e57</a></td>\n",
       "            </tr>\n",
       "        \n",
       "            <tr>\n",
       "                <td class=\"job-logger-cell job-logger-label\">Error Report URL</td>\n",
       "                <td class=\"job-logger-cell job-logger-value\">None</td>\n",
       "            </tr>\n",
       "        \n",
       "            <tr>\n",
       "                <td class=\"job-logger-cell job-logger-label\">Results UUID</td>\n",
       "                <td class=\"job-logger-cell job-logger-value\">e01f3aaa-a829-493a-932e-dcd87a915a60</td>\n",
       "            </tr>\n",
       "        \n",
       "            <tr>\n",
       "                <td class=\"job-logger-cell job-logger-label\">Results URL</td>\n",
       "                <td class=\"job-logger-cell job-logger-value\">None</td>\n",
       "            </tr>\n",
       "        \n",
       "                    </table>\n",
       "                    \n",
       "                <div class=\"job-logger-status\">\n",
       "                    <span style=\"margin-right: 8px;\" class=\"job-logger-success\">✓</span><strong>Current Status:</strong> Job completed and Results stored on Coop: <a href=\"https://www.expectedparrot.com/content/e01f3aaa-a829-493a-932e-dcd87a915a60\" target=\"_blank\" class=\"job-logger-link\">https://www.expectedparrot.com/content/e01f3aaa-a829-493a-932e-dcd87a915a60</a>\n",
       "                </div>\n",
       "            \n",
       "                </div>\n",
       "            </div>\n",
       "            <!-- # endregion -->\n",
       "        "
      ],
      "text/plain": [
       "<IPython.core.display.HTML object>"
      ]
     },
     "metadata": {},
     "output_type": "display_data"
    },
    {
     "data": {
      "text/html": [
       "\n",
       "        <style>\n",
       "            /* Base theme variables */\n",
       "            :root {\n",
       "                --jl-bg-primary: #ffffff;\n",
       "                --jl-bg-secondary: #f5f5f5;\n",
       "                --jl-border-color: #e0e0e0;\n",
       "                --jl-text-primary: #24292e;\n",
       "                --jl-text-secondary: #586069;\n",
       "                --jl-link-color: #0366d6;\n",
       "                --jl-success-color: #28a745;\n",
       "                --jl-error-color: #d73a49;\n",
       "                --jl-header-bg: #f1f1f1;\n",
       "            }\n",
       "            \n",
       "            /* Dark theme variables */\n",
       "            .theme-dark {\n",
       "                --jl-bg-primary: #1e1e1e;\n",
       "                --jl-bg-secondary: #252526;\n",
       "                --jl-border-color: #2d2d2d;\n",
       "                --jl-text-primary: #cccccc;\n",
       "                --jl-text-secondary: #999999;\n",
       "                --jl-link-color: #4e94ce;\n",
       "                --jl-success-color: #89d185;\n",
       "                --jl-error-color: #f14c4c;\n",
       "                --jl-header-bg: #333333;\n",
       "            }\n",
       "\n",
       "            /* High contrast theme variables */\n",
       "            .theme-high-contrast {\n",
       "                --jl-bg-primary: #000000;\n",
       "                --jl-bg-secondary: #1a1a1a;\n",
       "                --jl-border-color: #404040;\n",
       "                --jl-text-primary: #ffffff;\n",
       "                --jl-text-secondary: #cccccc;\n",
       "                --jl-link-color: #66b3ff;\n",
       "                --jl-success-color: #00ff00;\n",
       "                --jl-error-color: #ff0000;\n",
       "                --jl-header-bg: #262626;\n",
       "            }\n",
       "            \n",
       "            .job-logger {\n",
       "                font-family: system-ui, -apple-system, sans-serif;\n",
       "                max-width: 800px;\n",
       "                margin: 10px 0;\n",
       "                color: var(--jl-text-primary);\n",
       "                box-shadow: 0 1px 3px rgba(0,0,0,0.12);\n",
       "                border-radius: 4px;\n",
       "                overflow: hidden;\n",
       "            }\n",
       "            \n",
       "            .job-logger-header {\n",
       "                padding: 12px 16px;\n",
       "                background: var(--jl-header-bg);\n",
       "                border: none;\n",
       "                border-radius: 4px 4px 0 0;\n",
       "                cursor: pointer;\n",
       "                color: var(--jl-text-primary);\n",
       "                user-select: none;\n",
       "                font-weight: 500;\n",
       "                letter-spacing: 0.3px;\n",
       "                display: flex;\n",
       "                justify-content: space-between;\n",
       "                align-items: center;\n",
       "            }\n",
       "            \n",
       "            .theme-select {\n",
       "                padding: 4px 8px;\n",
       "                border-radius: 4px;\n",
       "                border: 1px solid var(--jl-border-color);\n",
       "                background: var(--jl-bg-primary);\n",
       "                color: var(--jl-text-primary);\n",
       "                font-size: 0.9em;\n",
       "            }\n",
       "            \n",
       "            .job-logger-table {\n",
       "                width: 100%;\n",
       "                border-collapse: separate;\n",
       "                border-spacing: 0;\n",
       "                background: var(--jl-bg-primary);\n",
       "                border: 1px solid var(--jl-border-color);\n",
       "                margin-top: -1px;\n",
       "            }\n",
       "            \n",
       "            .job-logger-cell {\n",
       "                padding: 12px 16px;\n",
       "                border-bottom: 1px solid var(--jl-border-color);\n",
       "                line-height: 1.4;\n",
       "            }\n",
       "            \n",
       "            .job-logger-label {\n",
       "                font-weight: 500;\n",
       "                color: var(--jl-text-primary);\n",
       "                width: 25%;\n",
       "                background: var(--jl-bg-secondary);\n",
       "            }\n",
       "            \n",
       "            .job-logger-value {\n",
       "                color: var(--jl-text-secondary);\n",
       "                word-break: break-word;\n",
       "            }\n",
       "            \n",
       "            .job-logger-status {\n",
       "                margin: 0;\n",
       "                padding: 12px 16px;\n",
       "                background-color: var(--jl-bg-secondary);\n",
       "                border: 1px solid var(--jl-border-color);\n",
       "                border-top: none;\n",
       "                border-radius: 0 0 4px 4px;\n",
       "                color: var(--jl-text-primary);\n",
       "                font-size: 0.95em;\n",
       "            }\n",
       "        </style>\n",
       "        \n",
       "        <script>\n",
       "            class ThemeManager {\n",
       "                constructor(logId, initialTheme = 'auto') {\n",
       "                    this.logId = logId;\n",
       "                    this.currentTheme = initialTheme;\n",
       "                    this.darkModeMediaQuery = window.matchMedia('(prefers-color-scheme: dark)');\n",
       "                    this.init();\n",
       "                }\n",
       "                \n",
       "                init() {\n",
       "                    this.setupThemeSwitcher();\n",
       "                    this.updateTheme(this.currentTheme);\n",
       "                    \n",
       "                    this.darkModeMediaQuery.addListener(() => {\n",
       "                        if (this.currentTheme === 'auto') {\n",
       "                            this.updateTheme('auto');\n",
       "                        }\n",
       "                    });\n",
       "                }\n",
       "                \n",
       "                setupThemeSwitcher() {\n",
       "                    const logger = document.querySelector(`#logger-${this.logId}`);\n",
       "                    if (!logger) return;\n",
       "                    \n",
       "                    const switcher = document.createElement('div');\n",
       "                    switcher.className = 'theme-switcher';\n",
       "                    switcher.innerHTML = `\n",
       "                        <select id=\"theme-select-${this.logId}\" class=\"theme-select\">\n",
       "                            <option value=\"auto\">Auto</option>\n",
       "                            <option value=\"light\">Light</option>\n",
       "                            <option value=\"dark\">Dark</option>\n",
       "                            <option value=\"high-contrast\">High Contrast</option>\n",
       "                        </select>\n",
       "                    `;\n",
       "                    \n",
       "                    const header = logger.querySelector('.job-logger-header');\n",
       "                    header.appendChild(switcher);\n",
       "                    \n",
       "                    const select = switcher.querySelector('select');\n",
       "                    select.value = this.currentTheme;\n",
       "                    select.addEventListener('change', (e) => {\n",
       "                        this.updateTheme(e.target.value);\n",
       "                    });\n",
       "                }\n",
       "                \n",
       "                updateTheme(theme) {\n",
       "                    const logger = document.querySelector(`#logger-${this.logId}`);\n",
       "                    if (!logger) return;\n",
       "                    \n",
       "                    this.currentTheme = theme;\n",
       "                    \n",
       "                    logger.classList.remove('theme-light', 'theme-dark', 'theme-high-contrast');\n",
       "                    \n",
       "                    if (theme === 'auto') {\n",
       "                        const isDark = this.darkModeMediaQuery.matches;\n",
       "                        logger.classList.add(isDark ? 'theme-dark' : 'theme-light');\n",
       "                    } else {\n",
       "                        logger.classList.add(`theme-${theme}`);\n",
       "                    }\n",
       "                    \n",
       "                    try {\n",
       "                        localStorage.setItem('jobLoggerTheme', theme);\n",
       "                    } catch (e) {\n",
       "                        console.warn('Unable to save theme preference:', e);\n",
       "                    }\n",
       "                }\n",
       "            }\n",
       "            \n",
       "            window.initThemeManager = (logId, initialTheme) => {\n",
       "                new ThemeManager(logId, initialTheme);\n",
       "            };\n",
       "        </script>\n",
       "        \n",
       "        <script>\n",
       "            document.addEventListener('DOMContentLoaded', () => {\n",
       "                window.initThemeManager('10b356d7-ca3c-47c7-8292-3e218c272a61', 'auto');\n",
       "            });\n",
       "        </script>\n",
       "        "
      ],
      "text/plain": [
       "<IPython.core.display.HTML object>"
      ]
     },
     "metadata": {},
     "output_type": "display_data"
    }
   ],
   "source": [
    "results = q.by(s).by(a).by(m).run()"
   ]
  },
  {
   "cell_type": "markdown",
   "metadata": {
    "editable": true,
    "slideshow": {
     "slide_type": ""
    },
    "tags": []
   },
   "source": [
    "List the components of the results that are generated:"
   ]
  },
  {
   "cell_type": "code",
   "execution_count": 9,
   "metadata": {
    "cell_id": "3986b40662054e3ab3396fc2070888c5",
    "deepnote_cell_type": "code",
    "deepnote_to_be_reexecuted": false,
    "editable": true,
    "execution_millis": 548,
    "execution_start": 1709256035339,
    "slideshow": {
     "slide_type": ""
    },
    "source_hash": null,
    "tags": []
   },
   "outputs": [
    {
     "data": {
      "text/html": [
       "\n",
       "            <div style=\"max-height: 500px; overflow-y: auto;\">\n",
       "                <style type=\"text/css\">\n",
       "#T_e2464_row0_col0, #T_e2464_row1_col0, #T_e2464_row2_col0, #T_e2464_row3_col0, #T_e2464_row4_col0, #T_e2464_row5_col0, #T_e2464_row6_col0, #T_e2464_row7_col0, #T_e2464_row8_col0, #T_e2464_row9_col0, #T_e2464_row10_col0, #T_e2464_row11_col0, #T_e2464_row12_col0, #T_e2464_row13_col0, #T_e2464_row14_col0, #T_e2464_row15_col0, #T_e2464_row16_col0, #T_e2464_row17_col0, #T_e2464_row18_col0, #T_e2464_row19_col0, #T_e2464_row20_col0, #T_e2464_row21_col0 {\n",
       "  text-align: left;\n",
       "}\n",
       "</style>\n",
       "<table id=\"T_e2464\">\n",
       "  <thead>\n",
       "    <tr>\n",
       "      <th class=\"blank level0\" >&nbsp;</th>\n",
       "      <th id=\"T_e2464_level0_col0\" class=\"col_heading level0 col0\" >0</th>\n",
       "    </tr>\n",
       "  </thead>\n",
       "  <tbody>\n",
       "    <tr>\n",
       "      <th id=\"T_e2464_level0_row0\" class=\"row_heading level0 row0\" >0</th>\n",
       "      <td id=\"T_e2464_row0_col0\" class=\"data row0 col0\" >agent.agent_instruction</td>\n",
       "    </tr>\n",
       "    <tr>\n",
       "      <th id=\"T_e2464_level0_row1\" class=\"row_heading level0 row1\" >1</th>\n",
       "      <td id=\"T_e2464_row1_col0\" class=\"data row1 col0\" >agent.agent_name</td>\n",
       "    </tr>\n",
       "    <tr>\n",
       "      <th id=\"T_e2464_level0_row2\" class=\"row_heading level0 row2\" >2</th>\n",
       "      <td id=\"T_e2464_row2_col0\" class=\"data row2 col0\" >agent.background</td>\n",
       "    </tr>\n",
       "    <tr>\n",
       "      <th id=\"T_e2464_level0_row3\" class=\"row_heading level0 row3\" >3</th>\n",
       "      <td id=\"T_e2464_row3_col0\" class=\"data row3 col0\" >answer.cognitive_review</td>\n",
       "    </tr>\n",
       "    <tr>\n",
       "      <th id=\"T_e2464_level0_row4\" class=\"row_heading level0 row4\" >4</th>\n",
       "      <td id=\"T_e2464_row4_col0\" class=\"data row4 col0\" >comment.cognitive_review_comment</td>\n",
       "    </tr>\n",
       "    <tr>\n",
       "      <th id=\"T_e2464_level0_row5\" class=\"row_heading level0 row5\" >5</th>\n",
       "      <td id=\"T_e2464_row5_col0\" class=\"data row5 col0\" >generated_tokens.cognitive_review_generated_tokens</td>\n",
       "    </tr>\n",
       "    <tr>\n",
       "      <th id=\"T_e2464_level0_row6\" class=\"row_heading level0 row6\" >6</th>\n",
       "      <td id=\"T_e2464_row6_col0\" class=\"data row6 col0\" >iteration.iteration</td>\n",
       "    </tr>\n",
       "    <tr>\n",
       "      <th id=\"T_e2464_level0_row7\" class=\"row_heading level0 row7\" >7</th>\n",
       "      <td id=\"T_e2464_row7_col0\" class=\"data row7 col0\" >model.maxOutputTokens</td>\n",
       "    </tr>\n",
       "    <tr>\n",
       "      <th id=\"T_e2464_level0_row8\" class=\"row_heading level0 row8\" >8</th>\n",
       "      <td id=\"T_e2464_row8_col0\" class=\"data row8 col0\" >model.model</td>\n",
       "    </tr>\n",
       "    <tr>\n",
       "      <th id=\"T_e2464_level0_row9\" class=\"row_heading level0 row9\" >9</th>\n",
       "      <td id=\"T_e2464_row9_col0\" class=\"data row9 col0\" >model.stopSequences</td>\n",
       "    </tr>\n",
       "    <tr>\n",
       "      <th id=\"T_e2464_level0_row10\" class=\"row_heading level0 row10\" >10</th>\n",
       "      <td id=\"T_e2464_row10_col0\" class=\"data row10 col0\" >model.temperature</td>\n",
       "    </tr>\n",
       "    <tr>\n",
       "      <th id=\"T_e2464_level0_row11\" class=\"row_heading level0 row11\" >11</th>\n",
       "      <td id=\"T_e2464_row11_col0\" class=\"data row11 col0\" >model.topK</td>\n",
       "    </tr>\n",
       "    <tr>\n",
       "      <th id=\"T_e2464_level0_row12\" class=\"row_heading level0 row12\" >12</th>\n",
       "      <td id=\"T_e2464_row12_col0\" class=\"data row12 col0\" >model.topP</td>\n",
       "    </tr>\n",
       "    <tr>\n",
       "      <th id=\"T_e2464_level0_row13\" class=\"row_heading level0 row13\" >13</th>\n",
       "      <td id=\"T_e2464_row13_col0\" class=\"data row13 col0\" >prompt.cognitive_review_system_prompt</td>\n",
       "    </tr>\n",
       "    <tr>\n",
       "      <th id=\"T_e2464_level0_row14\" class=\"row_heading level0 row14\" >14</th>\n",
       "      <td id=\"T_e2464_row14_col0\" class=\"data row14 col0\" >prompt.cognitive_review_user_prompt</td>\n",
       "    </tr>\n",
       "    <tr>\n",
       "      <th id=\"T_e2464_level0_row15\" class=\"row_heading level0 row15\" >15</th>\n",
       "      <td id=\"T_e2464_row15_col0\" class=\"data row15 col0\" >question_options.cognitive_review_question_options</td>\n",
       "    </tr>\n",
       "    <tr>\n",
       "      <th id=\"T_e2464_level0_row16\" class=\"row_heading level0 row16\" >16</th>\n",
       "      <td id=\"T_e2464_row16_col0\" class=\"data row16 col0\" >question_text.cognitive_review_question_text</td>\n",
       "    </tr>\n",
       "    <tr>\n",
       "      <th id=\"T_e2464_level0_row17\" class=\"row_heading level0 row17\" >17</th>\n",
       "      <td id=\"T_e2464_row17_col0\" class=\"data row17 col0\" >question_type.cognitive_review_question_type</td>\n",
       "    </tr>\n",
       "    <tr>\n",
       "      <th id=\"T_e2464_level0_row18\" class=\"row_heading level0 row18\" >18</th>\n",
       "      <td id=\"T_e2464_row18_col0\" class=\"data row18 col0\" >raw_model_response.cognitive_review_cost</td>\n",
       "    </tr>\n",
       "    <tr>\n",
       "      <th id=\"T_e2464_level0_row19\" class=\"row_heading level0 row19\" >19</th>\n",
       "      <td id=\"T_e2464_row19_col0\" class=\"data row19 col0\" >raw_model_response.cognitive_review_one_usd_buys</td>\n",
       "    </tr>\n",
       "    <tr>\n",
       "      <th id=\"T_e2464_level0_row20\" class=\"row_heading level0 row20\" >20</th>\n",
       "      <td id=\"T_e2464_row20_col0\" class=\"data row20 col0\" >raw_model_response.cognitive_review_raw_model_response</td>\n",
       "    </tr>\n",
       "    <tr>\n",
       "      <th id=\"T_e2464_level0_row21\" class=\"row_heading level0 row21\" >21</th>\n",
       "      <td id=\"T_e2464_row21_col0\" class=\"data row21 col0\" >scenario.draft_text</td>\n",
       "    </tr>\n",
       "  </tbody>\n",
       "</table>\n",
       "\n",
       "            </div>\n",
       "            "
      ],
      "text/plain": [
       "PrettyList(['agent.agent_instruction',\n",
       "            'agent.agent_name',\n",
       "            'agent.background',\n",
       "            'answer.cognitive_review',\n",
       "            'comment.cognitive_review_comment',\n",
       "            'generated_tokens.cognitive_review_generated_tokens',\n",
       "            'iteration.iteration',\n",
       "            'model.maxOutputTokens',\n",
       "            'model.model',\n",
       "            'model.stopSequences',\n",
       "            'model.temperature',\n",
       "            'model.topK',\n",
       "            'model.topP',\n",
       "            'prompt.cognitive_review_system_prompt',\n",
       "            'prompt.cognitive_review_user_prompt',\n",
       "            'question_options.cognitive_review_question_options',\n",
       "            'question_text.cognitive_review_question_text',\n",
       "            'question_type.cognitive_review_question_type',\n",
       "            'raw_model_response.cognitive_review_cost',\n",
       "            'raw_model_response.cognitive_review_one_usd_buys',\n",
       "            'raw_model_response.cognitive_review_raw_model_response',\n",
       "            'scenario.draft_text'])"
      ]
     },
     "execution_count": 9,
     "metadata": {},
     "output_type": "execute_result"
    }
   ],
   "source": [
    "results.columns"
   ]
  },
  {
   "cell_type": "markdown",
   "metadata": {
    "cell_id": "25d506fd9433468fb1124cc349674d9b",
    "deepnote_cell_type": "markdown",
    "editable": true,
    "slideshow": {
     "slide_type": ""
    },
    "tags": []
   },
   "source": [
    "Print select components of the results:"
   ]
  },
  {
   "cell_type": "code",
   "execution_count": 10,
   "metadata": {
    "cell_id": "8bdfd00fb07b4b05b39b6be6d1774751",
    "deepnote_cell_type": "code",
    "deepnote_to_be_reexecuted": false,
    "editable": true,
    "execution_millis": 404,
    "execution_start": 1709256059995,
    "slideshow": {
     "slide_type": ""
    },
    "source_hash": null,
    "tags": []
   },
   "outputs": [
    {
     "data": {
      "text/html": [
       "\n",
       "            <div style=\"max-height: 500px; overflow-y: auto;\">\n",
       "                <style type=\"text/css\">\n",
       "#T_63c4c_row0_col0, #T_63c4c_row0_col1, #T_63c4c_row1_col0, #T_63c4c_row1_col1, #T_63c4c_row2_col0, #T_63c4c_row2_col1, #T_63c4c_row3_col0, #T_63c4c_row3_col1 {\n",
       "  text-align: left;\n",
       "}\n",
       "</style>\n",
       "<table id=\"T_63c4c\">\n",
       "  <thead>\n",
       "    <tr>\n",
       "      <th class=\"blank level0\" >&nbsp;</th>\n",
       "      <th id=\"T_63c4c_level0_col0\" class=\"col_heading level0 col0\" >Draft text</th>\n",
       "      <th id=\"T_63c4c_level0_col1\" class=\"col_heading level0 col1\" >Evaluation</th>\n",
       "    </tr>\n",
       "  </thead>\n",
       "  <tbody>\n",
       "    <tr>\n",
       "      <th id=\"T_63c4c_level0_row0\" class=\"row_heading level0 row0\" >0</th>\n",
       "      <td id=\"T_63c4c_row0_col0\" class=\"data row0 col0\" >Do you feel the product is almost always of good quality?</td>\n",
       "      <td id=\"T_63c4c_row0_col1\" class=\"data row0 col1\" >Okay, let's look at that question.  \"Do you feel the product is *almost always* of good quality?\"  Hmm, there are a couple of cognitive issues here.\n",
       "\n",
       "First, \"almost always\" is a bit vague.  It's a subjective term, and what constitutes \"almost always\" can vary wildly from person to person. One respondent might interpret it as 95% of the time, while another might think it means 70%.  This lack of precision introduces response bias; we're not getting consistent, comparable data.\n",
       "\n",
       "Secondly, the question is leading.  It presupposes that the product *is* generally of good quality, nudging respondents towards a positive answer.  A more neutral phrasing would be better.\n",
       "\n",
       "Here's how I'd improve it:\n",
       "\n",
       "**Improved Version:**\n",
       "\n",
       "\"How would you rate the quality of the product you recently purchased?\"  (Followed by a rating scale, e.g., 1-5 stars, or a scale from \"Very Poor\" to \"Excellent\").</td>\n",
       "    </tr>\n",
       "    <tr>\n",
       "      <th id=\"T_63c4c_level0_row1\" class=\"row_heading level0 row1\" >1</th>\n",
       "      <td id=\"T_63c4c_row1_col0\" class=\"data row1 col0\" >On a scale of 1 to 5, where 1 means strongly agree and 5 means strongly disagree, how satisfied are you with our service?</td>\n",
       "      <td id=\"T_63c4c_row1_col1\" class=\"data row1 col1\" >Okay, let's take a look at that question.  There's a subtle but important cognitive issue lurking there.  The problem lies in the scale's direction.  It's using what's called a reverse-scored scale.  While not inherently *wrong*, it's cognitively taxing for respondents.  People naturally associate higher numbers with more positive things.  By using \"1 = strongly agree\" and \"5 = strongly disagree\", you're forcing respondents to mentally invert the scale every time they answer. This increases the chance of errors, especially for those who may not be fully engaged or who are rushing through the survey.\n",
       "\n",
       "It introduces an extra processing step that can lead to response bias.  Someone might quickly glance at the scale, see a \"5\", and associate it with high satisfaction because they're used to higher numbers meaning \"better\".  They'll then incorrectly select \"5\" when they actually mean \"1\".\n",
       "\n",
       "Here's an improved version:\n",
       "\n",
       "\n",
       "\"On a scale of 1 to 5, where 1 means strongly disagree and 5 means strongly agree, how satisfied are you with our service?\"</td>\n",
       "    </tr>\n",
       "    <tr>\n",
       "      <th id=\"T_63c4c_level0_row2\" class=\"row_heading level0 row2\" >2</th>\n",
       "      <td id=\"T_63c4c_row2_col0\" class=\"data row2 col0\" >Do you believe our IT team's collaborative synergy effectively optimizes our digital infrastructure?</td>\n",
       "      <td id=\"T_63c4c_row2_col1\" class=\"data row2 col1\" >Oh boy, that question is a mess!  It's got several cognitive issues that would seriously hamper getting useful data. Let's break it down:\n",
       "\n",
       "First, **jargon overload**.  \"Collaborative synergy\" and \"optimizes our digital infrastructure\" are incredibly complex phrases.  Most respondents won't have a clear understanding of what those terms mean in the context of their daily experience with the IT team.  They might guess, leading to inconsistent and unreliable answers.  It's basically asking respondents to interpret a mini-essay before even answering.\n",
       "\n",
       "Second, **double-barreled question**. It asks about *two* separate things: collaboration and effectiveness.  If someone thinks the team collaborates well but the infrastructure isn't optimized, how are they supposed to answer?  They're forced to pick one aspect to focus on, obscuring the nuances of their opinion.\n",
       "\n",
       "Third, **leading question**. The phrasing implies a positive assessment is expected.  It's not neutral; it subtly pressures respondents towards a \"yes\" answer.  This biases the results and prevents honest, critical feedback.\n",
       "\n",
       "Finally, **lack of specificity**. What exactly constitutes \"effective optimization\"?  What aspects of the digital infrastructure are we talking about?  Email? Network speed? Software availability?  The vagueness makes it difficult for respondents to form a concrete opinion and answer meaningfully.\n",
       "\n",
       "\n",
       "Here's how I'd improve it, breaking it into multiple, simpler questions:\n",
       "\n",
       "**Improved Questions:**\n",
       "\n",
       "1. **Regarding the IT team's collaboration, how would you rate their teamwork and communication?** (Scale: 1-5, 1 being very poor, 5 being excellent)  This directly addresses collaboration without jargon.\n",
       "\n",
       "2. **How satisfied are you with the following aspects of our digital infrastructure?** (Multiple questions, one for each aspect, using a 1-5 scale):\n",
       "    * Email reliability\n",
       "    * Network speed and stability\n",
       "    * Access to necessary software and tools\n",
       "    * IT support responsiveness\n",
       "    * ... (Add other relevant aspects)</td>\n",
       "    </tr>\n",
       "    <tr>\n",
       "      <th id=\"T_63c4c_level0_row3\" class=\"row_heading level0 row3\" >3</th>\n",
       "      <td id=\"T_63c4c_row3_col0\" class=\"data row3 col0\" >What do you think of our recent implementation of Project X57?</td>\n",
       "      <td id=\"T_63c4c_row3_col1\" class=\"data row3 col1\" >Okay, let's take a look at that question.  \"What do you think of our recent implementation of Project X57?\"  Hmm, there are a few cognitive issues lurking here.\n",
       "\n",
       "First, it's incredibly **open-ended**.  It gives respondents *no guidance* whatsoever.  They could answer with anything from a single word (\"Great!\") to a rambling, unstructured narrative.  This makes analysis a nightmare.  We'll get a huge variety of responses, making it hard to identify trends or meaningful patterns.  The sheer volume of qualitative data will be difficult to manage and summarize effectively.\n",
       "\n",
       "Second, the question assumes a level of familiarity with \"Project X57\" that might not exist.  Some respondents might not even know what it *is*, leading to inaccurate or irrelevant responses.  Even if they've *heard* of it, they might not have enough information to form a meaningful opinion.\n",
       "\n",
       "Third, the word \"implementation\" is a bit vague.  Did they think the *planning* of the implementation was poor? The *rollout*? The *training*? The *communication*?  The question doesn't specify what aspect of the implementation they should focus on. This lack of clarity leads to inconsistent answers and makes it hard to compare responses.\n",
       "\n",
       "\n",
       "Here's how I'd improve the question, addressing these cognitive issues:\n",
       "\n",
       "**Improved Version:**\n",
       "\n",
       "\"Thinking about our recent implementation of Project X57, please rate your level of agreement with the following statements using the scale below.  (1=Strongly Disagree, 5=Strongly Agree)\"\n",
       "\n",
       "Then, I'd follow with a series of *specific* statements, each focusing on a different aspect of the implementation:\n",
       "\n",
       "* The project was well-planned.\n",
       "* The project was implemented efficiently.\n",
       "* I received adequate training on the project.\n",
       "* Communication about the project was clear and timely.\n",
       "* The project has improved [mention specific benefit, e.g., workflow efficiency, customer satisfaction].\n",
       "* I am satisfied with the overall outcome of the project.\n",
       "\n",
       "\n",
       "This revised approach uses a **Likert scale**, which is much easier to analyze quantitatively.  It breaks down the broad question into more manageable, specific components, addressing the vagueness and providing a structured response format.  It also ensures that everyone is answering the same basic questions, leading to more reliable and comparable data.  Finally, by focusing on specific aspects, we get a much clearer picture of what aspects of the implementation were successful and which ones need improvement.</td>\n",
       "    </tr>\n",
       "  </tbody>\n",
       "</table>\n",
       "\n",
       "            </div>\n",
       "            "
      ],
      "text/plain": [
       "Draft text                                                                                                                 Evaluation\n",
       "-------------------------------------------------------------------------------------------------------------------------  ------------\n",
       "Do you feel the product is almost always of good quality?                                                                  Okay, let's look at that question.  \"Do you feel the product is *almost always* of good quality?\"  Hmm, there are a couple of cognitive issues here.\n",
       "\n",
       "First, \"almost always\" is a bit vague.  It's a subjective term, and what constitutes \"almost always\" can vary wildly from person to person. One respondent might interpret it as 95% of the time, while another might think it means 70%.  This lack of precision introduces response bias; we're not getting consistent, comparable data.\n",
       "\n",
       "Secondly, the question is leading.  It presupposes that the product *is* generally of good quality, nudging respondents towards a positive answer.  A more neutral phrasing would be better.\n",
       "\n",
       "Here's how I'd improve it:\n",
       "\n",
       "**Improved Version:**\n",
       "\n",
       "\"How would you rate the quality of the product you recently purchased?\"  (Followed by a rating scale, e.g., 1-5 stars, or a scale from \"Very Poor\" to \"Excellent\").\n",
       "On a scale of 1 to 5, where 1 means strongly agree and 5 means strongly disagree, how satisfied are you with our service?  Okay, let's take a look at that question.  There's a subtle but important cognitive issue lurking there.  The problem lies in the scale's direction.  It's using what's called a reverse-scored scale.  While not inherently *wrong*, it's cognitively taxing for respondents.  People naturally associate higher numbers with more positive things.  By using \"1 = strongly agree\" and \"5 = strongly disagree\", you're forcing respondents to mentally invert the scale every time they answer. This increases the chance of errors, especially for those who may not be fully engaged or who are rushing through the survey.\n",
       "\n",
       "It introduces an extra processing step that can lead to response bias.  Someone might quickly glance at the scale, see a \"5\", and associate it with high satisfaction because they're used to higher numbers meaning \"better\".  They'll then incorrectly select \"5\" when they actually mean \"1\".\n",
       "\n",
       "Here's an improved version:\n",
       "\n",
       "\n",
       "\"On a scale of 1 to 5, where 1 means strongly disagree and 5 means strongly agree, how satisfied are you with our service?\"\n",
       "Do you believe our IT team's collaborative synergy effectively optimizes our digital infrastructure?                       Oh boy, that question is a mess!  It's got several cognitive issues that would seriously hamper getting useful data. Let's break it down:\n",
       "\n",
       "First, **jargon overload**.  \"Collaborative synergy\" and \"optimizes our digital infrastructure\" are incredibly complex phrases.  Most respondents won't have a clear understanding of what those terms mean in the context of their daily experience with the IT team.  They might guess, leading to inconsistent and unreliable answers.  It's basically asking respondents to interpret a mini-essay before even answering.\n",
       "\n",
       "Second, **double-barreled question**. It asks about *two* separate things: collaboration and effectiveness.  If someone thinks the team collaborates well but the infrastructure isn't optimized, how are they supposed to answer?  They're forced to pick one aspect to focus on, obscuring the nuances of their opinion.\n",
       "\n",
       "Third, **leading question**. The phrasing implies a positive assessment is expected.  It's not neutral; it subtly pressures respondents towards a \"yes\" answer.  This biases the results and prevents honest, critical feedback.\n",
       "\n",
       "Finally, **lack of specificity**. What exactly constitutes \"effective optimization\"?  What aspects of the digital infrastructure are we talking about?  Email? Network speed? Software availability?  The vagueness makes it difficult for respondents to form a concrete opinion and answer meaningfully.\n",
       "\n",
       "\n",
       "Here's how I'd improve it, breaking it into multiple, simpler questions:\n",
       "\n",
       "**Improved Questions:**\n",
       "\n",
       "1. **Regarding the IT team's collaboration, how would you rate their teamwork and communication?** (Scale: 1-5, 1 being very poor, 5 being excellent)  This directly addresses collaboration without jargon.\n",
       "\n",
       "2. **How satisfied are you with the following aspects of our digital infrastructure?** (Multiple questions, one for each aspect, using a 1-5 scale):\n",
       "    * Email reliability\n",
       "    * Network speed and stability\n",
       "    * Access to necessary software and tools\n",
       "    * IT support responsiveness\n",
       "    * ... (Add other relevant aspects)\n",
       "What do you think of our recent implementation of Project X57?                                                             Okay, let's take a look at that question.  \"What do you think of our recent implementation of Project X57?\"  Hmm, there are a few cognitive issues lurking here.\n",
       "\n",
       "First, it's incredibly **open-ended**.  It gives respondents *no guidance* whatsoever.  They could answer with anything from a single word (\"Great!\") to a rambling, unstructured narrative.  This makes analysis a nightmare.  We'll get a huge variety of responses, making it hard to identify trends or meaningful patterns.  The sheer volume of qualitative data will be difficult to manage and summarize effectively.\n",
       "\n",
       "Second, the question assumes a level of familiarity with \"Project X57\" that might not exist.  Some respondents might not even know what it *is*, leading to inaccurate or irrelevant responses.  Even if they've *heard* of it, they might not have enough information to form a meaningful opinion.\n",
       "\n",
       "Third, the word \"implementation\" is a bit vague.  Did they think the *planning* of the implementation was poor? The *rollout*? The *training*? The *communication*?  The question doesn't specify what aspect of the implementation they should focus on. This lack of clarity leads to inconsistent answers and makes it hard to compare responses.\n",
       "\n",
       "\n",
       "Here's how I'd improve the question, addressing these cognitive issues:\n",
       "\n",
       "**Improved Version:**\n",
       "\n",
       "\"Thinking about our recent implementation of Project X57, please rate your level of agreement with the following statements using the scale below.  (1=Strongly Disagree, 5=Strongly Agree)\"\n",
       "\n",
       "Then, I'd follow with a series of *specific* statements, each focusing on a different aspect of the implementation:\n",
       "\n",
       "* The project was well-planned.\n",
       "* The project was implemented efficiently.\n",
       "* I received adequate training on the project.\n",
       "* Communication about the project was clear and timely.\n",
       "* The project has improved [mention specific benefit, e.g., workflow efficiency, customer satisfaction].\n",
       "* I am satisfied with the overall outcome of the project.\n",
       "\n",
       "\n",
       "This revised approach uses a **Likert scale**, which is much easier to analyze quantitatively.  It breaks down the broad question into more manageable, specific components, addressing the vagueness and providing a structured response format.  It also ensures that everyone is answering the same basic questions, leading to more reliable and comparable data.  Finally, by focusing on specific aspects, we get a much clearer picture of what aspects of the implementation were successful and which ones need improvement."
      ]
     },
     "execution_count": 10,
     "metadata": {},
     "output_type": "execute_result"
    }
   ],
   "source": [
    "(\n",
    "    results.select(\"scenario.*\", \"answer.*\").print(\n",
    "        pretty_labels={\n",
    "            \"scenario.draft_text\": \"Draft text\",\n",
    "            \"answer.cognitive_review\": \"Evaluation\",\n",
    "        }\n",
    "    )\n",
    ")"
   ]
  },
  {
   "cell_type": "markdown",
   "metadata": {
    "cell_id": "33fcff38d9d14f959d23294a73fcef48",
    "deepnote_cell_type": "markdown",
    "editable": true,
    "slideshow": {
     "slide_type": ""
    },
    "tags": []
   },
   "source": [
    "## Qualitative reviews\n",
    "In this example we use a set of hypothetical customer service tickets and prompt a model to extract a set of themes that we could use in follow-on questions (e.g., as a set of options to multiple choice questions)."
   ]
  },
  {
   "cell_type": "code",
   "execution_count": 11,
   "metadata": {
    "cell_id": "b3a774c910d84625a4b11da0de00a647",
    "deepnote_cell_type": "code",
    "deepnote_to_be_reexecuted": false,
    "editable": true,
    "execution_millis": 61,
    "execution_start": 1709256071211,
    "slideshow": {
     "slide_type": ""
    },
    "source_hash": null,
    "tags": []
   },
   "outputs": [],
   "source": [
    "from edsl import QuestionList"
   ]
  },
  {
   "cell_type": "code",
   "execution_count": 12,
   "metadata": {
    "cell_id": "f15821f15aff40fca1478ac54eebe644",
    "deepnote_cell_type": "code",
    "deepnote_to_be_reexecuted": false,
    "editable": true,
    "execution_millis": 41,
    "execution_start": 1709256072751,
    "slideshow": {
     "slide_type": ""
    },
    "source_hash": null,
    "tags": []
   },
   "outputs": [],
   "source": [
    "tickets = [\n",
    "    \"I waited for 20 minutes past the estimated arrival time, and the driver still hasn't arrived. This made me late for my appointment.\",\n",
    "    \"The driver was very rude and had an unpleasant attitude during the entire ride. It was an uncomfortable experience.\",\n",
    "    \"The driver was speeding and frequently changing lanes without signaling. I felt unsafe throughout the ride.\",\n",
    "    \"The car I rode in was dirty and messy. There were crumbs on the seats, and it didn't look like it had been cleaned in a while.\",\n",
    "    \"The driver took a longer route, which resulted in a significantly higher fare than expected. I believe they intentionally extended the trip.\",\n",
    "    \"I was charged for a ride that I did not take. The ride appears on my account, but I was not in the vehicle at that time.\",\n",
    "    \"I left my wallet in the car during my last ride. I've tried contacting the driver, but I haven't received a response.\",\n",
    "]"
   ]
  },
  {
   "cell_type": "markdown",
   "metadata": {
    "editable": true,
    "slideshow": {
     "slide_type": ""
    },
    "tags": []
   },
   "source": [
    "Create an agent with a relevant persona:"
   ]
  },
  {
   "cell_type": "code",
   "execution_count": 13,
   "metadata": {
    "cell_id": "efbba29abc164ea3ba349699009a0017",
    "deepnote_cell_type": "code",
    "deepnote_to_be_reexecuted": false,
    "editable": true,
    "execution_millis": 104,
    "execution_start": 1709256074720,
    "slideshow": {
     "slide_type": ""
    },
    "source_hash": null,
    "tags": []
   },
   "outputs": [],
   "source": [
    "a_customer_service = Agent(\n",
    "    traits = {\n",
    "        \"background\": \"You are an experienced customer service agent for a ridesharing company.\"\n",
    "    }\n",
    ")"
   ]
  },
  {
   "cell_type": "markdown",
   "metadata": {
    "editable": true,
    "slideshow": {
     "slide_type": ""
    },
    "tags": []
   },
   "source": [
    "Create a question about the texts:"
   ]
  },
  {
   "cell_type": "code",
   "execution_count": 14,
   "metadata": {
    "cell_id": "148a0d908a654bf6b9e7347f67ce7995",
    "deepnote_cell_type": "code",
    "deepnote_to_be_reexecuted": false,
    "editable": true,
    "execution_millis": 162,
    "execution_start": 1709256076156,
    "slideshow": {
     "slide_type": ""
    },
    "source_hash": null,
    "tags": []
   },
   "outputs": [],
   "source": [
    "q_topics = QuestionList(\n",
    "    question_name = \"ticket_topics\",\n",
    "    question_text = \"Create a list of the topics raised in these customer service tickets: {{ tickets_texts }}.\",\n",
    ")"
   ]
  },
  {
   "cell_type": "markdown",
   "metadata": {
    "editable": true,
    "slideshow": {
     "slide_type": ""
    },
    "tags": []
   },
   "source": [
    "Add the texts to the question:"
   ]
  },
  {
   "cell_type": "code",
   "execution_count": 15,
   "metadata": {
    "cell_id": "7ffb93a3a2f444bc9c2781a9c6f88156",
    "deepnote_cell_type": "code",
    "deepnote_to_be_reexecuted": false,
    "editable": true,
    "execution_millis": 95,
    "execution_start": 1709256079048,
    "slideshow": {
     "slide_type": ""
    },
    "source_hash": null,
    "tags": []
   },
   "outputs": [],
   "source": [
    "s = Scenario({\"tickets_texts\": tickets})"
   ]
  },
  {
   "cell_type": "markdown",
   "metadata": {
    "editable": true,
    "slideshow": {
     "slide_type": ""
    },
    "tags": []
   },
   "source": [
    "Generate results:"
   ]
  },
  {
   "cell_type": "code",
   "execution_count": 16,
   "metadata": {
    "cell_id": "68ebd83c67674752a9853082a8dbda99",
    "deepnote_cell_type": "code",
    "deepnote_to_be_reexecuted": false,
    "editable": true,
    "execution_millis": 5957,
    "execution_start": 1709256080633,
    "slideshow": {
     "slide_type": ""
    },
    "source_hash": null,
    "tags": []
   },
   "outputs": [
    {
     "data": {
      "text/html": [
       "\n",
       "            <!-- #region Remove Inference Info -->\n",
       "            <div id=\"logger-6159de30-536d-4d5e-be9c-84c96d409862\" class=\"job-logger\">\n",
       "                <div class=\"job-logger-header\">\n",
       "                    <span>\n",
       "                        <span id=\"arrow-6159de30-536d-4d5e-be9c-84c96d409862\">▼</span> \n",
       "                        Job Status (2024-12-28 16:21:42)\n",
       "                    </span>\n",
       "                </div>\n",
       "                <div id=\"content-6159de30-536d-4d5e-be9c-84c96d409862\" style=\"display: block;\">\n",
       "                    <table class=\"job-logger-table\">\n",
       "                        \n",
       "            <tr>\n",
       "                <td class=\"job-logger-cell job-logger-label\">Job UUID</td>\n",
       "                <td class=\"job-logger-cell job-logger-value\">2d0421fd-1dbd-4511-8a62-02b084503273</td>\n",
       "            </tr>\n",
       "        \n",
       "            <tr>\n",
       "                <td class=\"job-logger-cell job-logger-label\">Progress Bar URL</td>\n",
       "                <td class=\"job-logger-cell job-logger-value\"><a href=\"https://www.expectedparrot.com/home/remote-job-progress/2d0421fd-1dbd-4511-8a62-02b084503273\" target=\"_blank\" class=\"job-logger-link\">https://www.expectedparrot.com/home/remote-job-progress/2d0421fd-1dbd-4511-8a62-02b084503273</a></td>\n",
       "            </tr>\n",
       "        \n",
       "            <tr>\n",
       "                <td class=\"job-logger-cell job-logger-label\">Error Report URL</td>\n",
       "                <td class=\"job-logger-cell job-logger-value\">None</td>\n",
       "            </tr>\n",
       "        \n",
       "            <tr>\n",
       "                <td class=\"job-logger-cell job-logger-label\">Results UUID</td>\n",
       "                <td class=\"job-logger-cell job-logger-value\">59f6a748-6212-4151-a4e9-cc1c6a8d0ec4</td>\n",
       "            </tr>\n",
       "        \n",
       "            <tr>\n",
       "                <td class=\"job-logger-cell job-logger-label\">Results URL</td>\n",
       "                <td class=\"job-logger-cell job-logger-value\">None</td>\n",
       "            </tr>\n",
       "        \n",
       "                    </table>\n",
       "                    \n",
       "                <div class=\"job-logger-status\">\n",
       "                    <span style=\"margin-right: 8px;\" class=\"job-logger-success\">✓</span><strong>Current Status:</strong> Job completed and Results stored on Coop: <a href=\"https://www.expectedparrot.com/content/59f6a748-6212-4151-a4e9-cc1c6a8d0ec4\" target=\"_blank\" class=\"job-logger-link\">https://www.expectedparrot.com/content/59f6a748-6212-4151-a4e9-cc1c6a8d0ec4</a>\n",
       "                </div>\n",
       "            \n",
       "                </div>\n",
       "            </div>\n",
       "            <!-- # endregion -->\n",
       "        "
      ],
      "text/plain": [
       "<IPython.core.display.HTML object>"
      ]
     },
     "metadata": {},
     "output_type": "display_data"
    },
    {
     "data": {
      "text/html": [
       "\n",
       "        <style>\n",
       "            /* Base theme variables */\n",
       "            :root {\n",
       "                --jl-bg-primary: #ffffff;\n",
       "                --jl-bg-secondary: #f5f5f5;\n",
       "                --jl-border-color: #e0e0e0;\n",
       "                --jl-text-primary: #24292e;\n",
       "                --jl-text-secondary: #586069;\n",
       "                --jl-link-color: #0366d6;\n",
       "                --jl-success-color: #28a745;\n",
       "                --jl-error-color: #d73a49;\n",
       "                --jl-header-bg: #f1f1f1;\n",
       "            }\n",
       "            \n",
       "            /* Dark theme variables */\n",
       "            .theme-dark {\n",
       "                --jl-bg-primary: #1e1e1e;\n",
       "                --jl-bg-secondary: #252526;\n",
       "                --jl-border-color: #2d2d2d;\n",
       "                --jl-text-primary: #cccccc;\n",
       "                --jl-text-secondary: #999999;\n",
       "                --jl-link-color: #4e94ce;\n",
       "                --jl-success-color: #89d185;\n",
       "                --jl-error-color: #f14c4c;\n",
       "                --jl-header-bg: #333333;\n",
       "            }\n",
       "\n",
       "            /* High contrast theme variables */\n",
       "            .theme-high-contrast {\n",
       "                --jl-bg-primary: #000000;\n",
       "                --jl-bg-secondary: #1a1a1a;\n",
       "                --jl-border-color: #404040;\n",
       "                --jl-text-primary: #ffffff;\n",
       "                --jl-text-secondary: #cccccc;\n",
       "                --jl-link-color: #66b3ff;\n",
       "                --jl-success-color: #00ff00;\n",
       "                --jl-error-color: #ff0000;\n",
       "                --jl-header-bg: #262626;\n",
       "            }\n",
       "            \n",
       "            .job-logger {\n",
       "                font-family: system-ui, -apple-system, sans-serif;\n",
       "                max-width: 800px;\n",
       "                margin: 10px 0;\n",
       "                color: var(--jl-text-primary);\n",
       "                box-shadow: 0 1px 3px rgba(0,0,0,0.12);\n",
       "                border-radius: 4px;\n",
       "                overflow: hidden;\n",
       "            }\n",
       "            \n",
       "            .job-logger-header {\n",
       "                padding: 12px 16px;\n",
       "                background: var(--jl-header-bg);\n",
       "                border: none;\n",
       "                border-radius: 4px 4px 0 0;\n",
       "                cursor: pointer;\n",
       "                color: var(--jl-text-primary);\n",
       "                user-select: none;\n",
       "                font-weight: 500;\n",
       "                letter-spacing: 0.3px;\n",
       "                display: flex;\n",
       "                justify-content: space-between;\n",
       "                align-items: center;\n",
       "            }\n",
       "            \n",
       "            .theme-select {\n",
       "                padding: 4px 8px;\n",
       "                border-radius: 4px;\n",
       "                border: 1px solid var(--jl-border-color);\n",
       "                background: var(--jl-bg-primary);\n",
       "                color: var(--jl-text-primary);\n",
       "                font-size: 0.9em;\n",
       "            }\n",
       "            \n",
       "            .job-logger-table {\n",
       "                width: 100%;\n",
       "                border-collapse: separate;\n",
       "                border-spacing: 0;\n",
       "                background: var(--jl-bg-primary);\n",
       "                border: 1px solid var(--jl-border-color);\n",
       "                margin-top: -1px;\n",
       "            }\n",
       "            \n",
       "            .job-logger-cell {\n",
       "                padding: 12px 16px;\n",
       "                border-bottom: 1px solid var(--jl-border-color);\n",
       "                line-height: 1.4;\n",
       "            }\n",
       "            \n",
       "            .job-logger-label {\n",
       "                font-weight: 500;\n",
       "                color: var(--jl-text-primary);\n",
       "                width: 25%;\n",
       "                background: var(--jl-bg-secondary);\n",
       "            }\n",
       "            \n",
       "            .job-logger-value {\n",
       "                color: var(--jl-text-secondary);\n",
       "                word-break: break-word;\n",
       "            }\n",
       "            \n",
       "            .job-logger-status {\n",
       "                margin: 0;\n",
       "                padding: 12px 16px;\n",
       "                background-color: var(--jl-bg-secondary);\n",
       "                border: 1px solid var(--jl-border-color);\n",
       "                border-top: none;\n",
       "                border-radius: 0 0 4px 4px;\n",
       "                color: var(--jl-text-primary);\n",
       "                font-size: 0.95em;\n",
       "            }\n",
       "        </style>\n",
       "        \n",
       "        <script>\n",
       "            class ThemeManager {\n",
       "                constructor(logId, initialTheme = 'auto') {\n",
       "                    this.logId = logId;\n",
       "                    this.currentTheme = initialTheme;\n",
       "                    this.darkModeMediaQuery = window.matchMedia('(prefers-color-scheme: dark)');\n",
       "                    this.init();\n",
       "                }\n",
       "                \n",
       "                init() {\n",
       "                    this.setupThemeSwitcher();\n",
       "                    this.updateTheme(this.currentTheme);\n",
       "                    \n",
       "                    this.darkModeMediaQuery.addListener(() => {\n",
       "                        if (this.currentTheme === 'auto') {\n",
       "                            this.updateTheme('auto');\n",
       "                        }\n",
       "                    });\n",
       "                }\n",
       "                \n",
       "                setupThemeSwitcher() {\n",
       "                    const logger = document.querySelector(`#logger-${this.logId}`);\n",
       "                    if (!logger) return;\n",
       "                    \n",
       "                    const switcher = document.createElement('div');\n",
       "                    switcher.className = 'theme-switcher';\n",
       "                    switcher.innerHTML = `\n",
       "                        <select id=\"theme-select-${this.logId}\" class=\"theme-select\">\n",
       "                            <option value=\"auto\">Auto</option>\n",
       "                            <option value=\"light\">Light</option>\n",
       "                            <option value=\"dark\">Dark</option>\n",
       "                            <option value=\"high-contrast\">High Contrast</option>\n",
       "                        </select>\n",
       "                    `;\n",
       "                    \n",
       "                    const header = logger.querySelector('.job-logger-header');\n",
       "                    header.appendChild(switcher);\n",
       "                    \n",
       "                    const select = switcher.querySelector('select');\n",
       "                    select.value = this.currentTheme;\n",
       "                    select.addEventListener('change', (e) => {\n",
       "                        this.updateTheme(e.target.value);\n",
       "                    });\n",
       "                }\n",
       "                \n",
       "                updateTheme(theme) {\n",
       "                    const logger = document.querySelector(`#logger-${this.logId}`);\n",
       "                    if (!logger) return;\n",
       "                    \n",
       "                    this.currentTheme = theme;\n",
       "                    \n",
       "                    logger.classList.remove('theme-light', 'theme-dark', 'theme-high-contrast');\n",
       "                    \n",
       "                    if (theme === 'auto') {\n",
       "                        const isDark = this.darkModeMediaQuery.matches;\n",
       "                        logger.classList.add(isDark ? 'theme-dark' : 'theme-light');\n",
       "                    } else {\n",
       "                        logger.classList.add(`theme-${theme}`);\n",
       "                    }\n",
       "                    \n",
       "                    try {\n",
       "                        localStorage.setItem('jobLoggerTheme', theme);\n",
       "                    } catch (e) {\n",
       "                        console.warn('Unable to save theme preference:', e);\n",
       "                    }\n",
       "                }\n",
       "            }\n",
       "            \n",
       "            window.initThemeManager = (logId, initialTheme) => {\n",
       "                new ThemeManager(logId, initialTheme);\n",
       "            };\n",
       "        </script>\n",
       "        \n",
       "        <script>\n",
       "            document.addEventListener('DOMContentLoaded', () => {\n",
       "                window.initThemeManager('6159de30-536d-4d5e-be9c-84c96d409862', 'auto');\n",
       "            });\n",
       "        </script>\n",
       "        "
      ],
      "text/plain": [
       "<IPython.core.display.HTML object>"
      ]
     },
     "metadata": {},
     "output_type": "display_data"
    }
   ],
   "source": [
    "topics = q_topics.by(s).by(a_customer_service).by(m).run()"
   ]
  },
  {
   "cell_type": "markdown",
   "metadata": {
    "editable": true,
    "slideshow": {
     "slide_type": ""
    },
    "tags": []
   },
   "source": [
    "Inspect the results:"
   ]
  },
  {
   "cell_type": "code",
   "execution_count": 17,
   "metadata": {
    "cell_id": "80816b1f01864ec5990f0c7b85943c02",
    "deepnote_cell_type": "code",
    "deepnote_to_be_reexecuted": false,
    "editable": true,
    "execution_millis": 107,
    "execution_start": 1709256086595,
    "slideshow": {
     "slide_type": ""
    },
    "source_hash": null,
    "tags": []
   },
   "outputs": [
    {
     "data": {
      "text/plain": [
       "['Excessive wait time',\n",
       " \"Driver's rude behavior\",\n",
       " 'Unsafe driving',\n",
       " 'Vehicle cleanliness',\n",
       " 'Unnecessarily long route/fare dispute',\n",
       " 'Incorrect/fraudulent charge',\n",
       " 'Lost item in vehicle']"
      ]
     },
     "execution_count": 17,
     "metadata": {},
     "output_type": "execute_result"
    }
   ],
   "source": [
    "topics.select(\"ticket_topics\").to_list()[0]"
   ]
  },
  {
   "cell_type": "markdown",
   "metadata": {
    "cell_id": "49864c94106d4859833e86c5273c4ed9",
    "deepnote_cell_type": "markdown",
    "editable": true,
    "slideshow": {
     "slide_type": ""
    },
    "tags": []
   },
   "source": [
    "## Data labeling\n",
    "In this example we prompt an LLM to rating the seriousness of tickets about safety issues.\n",
    "\n",
    "See this notebook as well for a more complex data labeling exercise: <a href=\"https://deepnote.com/workspace/expected-parrot-c2fa2435-01e3-451d-ba12-9c36b3b87ad9/project/Expected-Parrot-examples-b457490b-fc5d-45e1-82a5-a66e1738a4b9/notebook/Data%20Labeling%20Agents-ed823c7d26d6410cb357d0b81ff95d80\">Data Labeling Agents</a>."
   ]
  },
  {
   "cell_type": "code",
   "execution_count": 18,
   "metadata": {
    "cell_id": "bfd0c44c909e48ec9601d4895cfab1d3",
    "deepnote_cell_type": "code",
    "deepnote_to_be_reexecuted": false,
    "editable": true,
    "execution_millis": 130,
    "execution_start": 1709256114849,
    "slideshow": {
     "slide_type": ""
    },
    "source_hash": null,
    "tags": []
   },
   "outputs": [],
   "source": [
    "from edsl import QuestionLinearScale"
   ]
  },
  {
   "cell_type": "code",
   "execution_count": 19,
   "metadata": {
    "cell_id": "89dff3f166c54628baac1ec5a2c28428",
    "deepnote_cell_type": "code",
    "deepnote_to_be_reexecuted": false,
    "editable": true,
    "execution_millis": 54,
    "execution_start": 1709256116102,
    "slideshow": {
     "slide_type": ""
    },
    "source_hash": null,
    "tags": []
   },
   "outputs": [],
   "source": [
    "safety_tickets = [\n",
    "    \"During my ride, I noticed that the driver was frequently checking their phone for directions, which made me a bit uncomfortable. It didn't feel like they were fully focused on the road.\",\n",
    "    \"The driver had to brake abruptly to avoid a collision with another vehicle. It was a close call, and it left me feeling quite shaken. Please address this issue.\",\n",
    "    \"I had a ride with a driver who was clearly speeding and weaving in and out of traffic. Their reckless driving put my safety at risk, and I'm very concerned about it.\",\n",
    "    \"My ride was involved in a minor accident, and although no one was seriously injured, it was a scary experience. The driver is handling the situation, but I wanted to report it.\",\n",
    "    \"I had a ride with a driver who exhibited aggressive and threatening behavior towards me during the trip. I felt genuinely unsafe and want this matter to be taken seriously.\",\n",
    "]"
   ]
  },
  {
   "cell_type": "code",
   "execution_count": 20,
   "metadata": {
    "cell_id": "de3e872a118b43718713e6d600485ee9",
    "deepnote_cell_type": "code",
    "deepnote_to_be_reexecuted": false,
    "editable": true,
    "execution_millis": 42,
    "execution_start": 1709256118136,
    "slideshow": {
     "slide_type": ""
    },
    "source_hash": null,
    "tags": []
   },
   "outputs": [],
   "source": [
    "q_rating = QuestionLinearScale(\n",
    "    question_name = \"safety_rating\",\n",
    "    question_text = \"\"\"Rate the seriousness of the issue raised in the following customer service ticket\n",
    "    on a scale from 1 to 10: {{ ticket }}\"\"\",\n",
    "    question_options = [1, 2, 3, 4, 5, 6, 7, 8, 9, 10],\n",
    "    option_labels = {1:\"Not at all serious\", 10:\"Very serious\"}\n",
    ")"
   ]
  },
  {
   "cell_type": "code",
   "execution_count": 21,
   "metadata": {
    "cell_id": "db9aefc45979428890512d4566779a92",
    "deepnote_cell_type": "code",
    "deepnote_to_be_reexecuted": false,
    "editable": true,
    "execution_millis": 97,
    "execution_start": 1709256119940,
    "slideshow": {
     "slide_type": ""
    },
    "source_hash": null,
    "tags": []
   },
   "outputs": [],
   "source": [
    "s = ScenarioList.from_list(\"ticket\", safety_tickets)"
   ]
  },
  {
   "cell_type": "code",
   "execution_count": 22,
   "metadata": {
    "cell_id": "415c1a347a734475a1f996ef667f7b96",
    "deepnote_cell_type": "code",
    "deepnote_to_be_reexecuted": false,
    "editable": true,
    "execution_millis": 7709,
    "execution_start": 1709256121635,
    "slideshow": {
     "slide_type": ""
    },
    "source_hash": null,
    "tags": []
   },
   "outputs": [
    {
     "data": {
      "text/html": [
       "\n",
       "            <!-- #region Remove Inference Info -->\n",
       "            <div id=\"logger-958f8af8-ff72-4737-9e60-21aa1e30e873\" class=\"job-logger\">\n",
       "                <div class=\"job-logger-header\">\n",
       "                    <span>\n",
       "                        <span id=\"arrow-958f8af8-ff72-4737-9e60-21aa1e30e873\">▼</span> \n",
       "                        Job Status (2024-12-28 16:22:19)\n",
       "                    </span>\n",
       "                </div>\n",
       "                <div id=\"content-958f8af8-ff72-4737-9e60-21aa1e30e873\" style=\"display: block;\">\n",
       "                    <table class=\"job-logger-table\">\n",
       "                        \n",
       "            <tr>\n",
       "                <td class=\"job-logger-cell job-logger-label\">Job UUID</td>\n",
       "                <td class=\"job-logger-cell job-logger-value\">93f570ef-b68c-40fd-a212-c11cfa5db3f6</td>\n",
       "            </tr>\n",
       "        \n",
       "            <tr>\n",
       "                <td class=\"job-logger-cell job-logger-label\">Progress Bar URL</td>\n",
       "                <td class=\"job-logger-cell job-logger-value\"><a href=\"https://www.expectedparrot.com/home/remote-job-progress/93f570ef-b68c-40fd-a212-c11cfa5db3f6\" target=\"_blank\" class=\"job-logger-link\">https://www.expectedparrot.com/home/remote-job-progress/93f570ef-b68c-40fd-a212-c11cfa5db3f6</a></td>\n",
       "            </tr>\n",
       "        \n",
       "            <tr>\n",
       "                <td class=\"job-logger-cell job-logger-label\">Error Report URL</td>\n",
       "                <td class=\"job-logger-cell job-logger-value\">None</td>\n",
       "            </tr>\n",
       "        \n",
       "            <tr>\n",
       "                <td class=\"job-logger-cell job-logger-label\">Results UUID</td>\n",
       "                <td class=\"job-logger-cell job-logger-value\">3cf148e7-83ba-4506-baeb-3d49b0db6808</td>\n",
       "            </tr>\n",
       "        \n",
       "            <tr>\n",
       "                <td class=\"job-logger-cell job-logger-label\">Results URL</td>\n",
       "                <td class=\"job-logger-cell job-logger-value\">None</td>\n",
       "            </tr>\n",
       "        \n",
       "                    </table>\n",
       "                    \n",
       "                <div class=\"job-logger-status\">\n",
       "                    <span style=\"margin-right: 8px;\" class=\"job-logger-success\">✓</span><strong>Current Status:</strong> Job completed and Results stored on Coop: <a href=\"https://www.expectedparrot.com/content/3cf148e7-83ba-4506-baeb-3d49b0db6808\" target=\"_blank\" class=\"job-logger-link\">https://www.expectedparrot.com/content/3cf148e7-83ba-4506-baeb-3d49b0db6808</a>\n",
       "                </div>\n",
       "            \n",
       "                </div>\n",
       "            </div>\n",
       "            <!-- # endregion -->\n",
       "        "
      ],
      "text/plain": [
       "<IPython.core.display.HTML object>"
      ]
     },
     "metadata": {},
     "output_type": "display_data"
    },
    {
     "data": {
      "text/html": [
       "\n",
       "        <style>\n",
       "            /* Base theme variables */\n",
       "            :root {\n",
       "                --jl-bg-primary: #ffffff;\n",
       "                --jl-bg-secondary: #f5f5f5;\n",
       "                --jl-border-color: #e0e0e0;\n",
       "                --jl-text-primary: #24292e;\n",
       "                --jl-text-secondary: #586069;\n",
       "                --jl-link-color: #0366d6;\n",
       "                --jl-success-color: #28a745;\n",
       "                --jl-error-color: #d73a49;\n",
       "                --jl-header-bg: #f1f1f1;\n",
       "            }\n",
       "            \n",
       "            /* Dark theme variables */\n",
       "            .theme-dark {\n",
       "                --jl-bg-primary: #1e1e1e;\n",
       "                --jl-bg-secondary: #252526;\n",
       "                --jl-border-color: #2d2d2d;\n",
       "                --jl-text-primary: #cccccc;\n",
       "                --jl-text-secondary: #999999;\n",
       "                --jl-link-color: #4e94ce;\n",
       "                --jl-success-color: #89d185;\n",
       "                --jl-error-color: #f14c4c;\n",
       "                --jl-header-bg: #333333;\n",
       "            }\n",
       "\n",
       "            /* High contrast theme variables */\n",
       "            .theme-high-contrast {\n",
       "                --jl-bg-primary: #000000;\n",
       "                --jl-bg-secondary: #1a1a1a;\n",
       "                --jl-border-color: #404040;\n",
       "                --jl-text-primary: #ffffff;\n",
       "                --jl-text-secondary: #cccccc;\n",
       "                --jl-link-color: #66b3ff;\n",
       "                --jl-success-color: #00ff00;\n",
       "                --jl-error-color: #ff0000;\n",
       "                --jl-header-bg: #262626;\n",
       "            }\n",
       "            \n",
       "            .job-logger {\n",
       "                font-family: system-ui, -apple-system, sans-serif;\n",
       "                max-width: 800px;\n",
       "                margin: 10px 0;\n",
       "                color: var(--jl-text-primary);\n",
       "                box-shadow: 0 1px 3px rgba(0,0,0,0.12);\n",
       "                border-radius: 4px;\n",
       "                overflow: hidden;\n",
       "            }\n",
       "            \n",
       "            .job-logger-header {\n",
       "                padding: 12px 16px;\n",
       "                background: var(--jl-header-bg);\n",
       "                border: none;\n",
       "                border-radius: 4px 4px 0 0;\n",
       "                cursor: pointer;\n",
       "                color: var(--jl-text-primary);\n",
       "                user-select: none;\n",
       "                font-weight: 500;\n",
       "                letter-spacing: 0.3px;\n",
       "                display: flex;\n",
       "                justify-content: space-between;\n",
       "                align-items: center;\n",
       "            }\n",
       "            \n",
       "            .theme-select {\n",
       "                padding: 4px 8px;\n",
       "                border-radius: 4px;\n",
       "                border: 1px solid var(--jl-border-color);\n",
       "                background: var(--jl-bg-primary);\n",
       "                color: var(--jl-text-primary);\n",
       "                font-size: 0.9em;\n",
       "            }\n",
       "            \n",
       "            .job-logger-table {\n",
       "                width: 100%;\n",
       "                border-collapse: separate;\n",
       "                border-spacing: 0;\n",
       "                background: var(--jl-bg-primary);\n",
       "                border: 1px solid var(--jl-border-color);\n",
       "                margin-top: -1px;\n",
       "            }\n",
       "            \n",
       "            .job-logger-cell {\n",
       "                padding: 12px 16px;\n",
       "                border-bottom: 1px solid var(--jl-border-color);\n",
       "                line-height: 1.4;\n",
       "            }\n",
       "            \n",
       "            .job-logger-label {\n",
       "                font-weight: 500;\n",
       "                color: var(--jl-text-primary);\n",
       "                width: 25%;\n",
       "                background: var(--jl-bg-secondary);\n",
       "            }\n",
       "            \n",
       "            .job-logger-value {\n",
       "                color: var(--jl-text-secondary);\n",
       "                word-break: break-word;\n",
       "            }\n",
       "            \n",
       "            .job-logger-status {\n",
       "                margin: 0;\n",
       "                padding: 12px 16px;\n",
       "                background-color: var(--jl-bg-secondary);\n",
       "                border: 1px solid var(--jl-border-color);\n",
       "                border-top: none;\n",
       "                border-radius: 0 0 4px 4px;\n",
       "                color: var(--jl-text-primary);\n",
       "                font-size: 0.95em;\n",
       "            }\n",
       "        </style>\n",
       "        \n",
       "        <script>\n",
       "            class ThemeManager {\n",
       "                constructor(logId, initialTheme = 'auto') {\n",
       "                    this.logId = logId;\n",
       "                    this.currentTheme = initialTheme;\n",
       "                    this.darkModeMediaQuery = window.matchMedia('(prefers-color-scheme: dark)');\n",
       "                    this.init();\n",
       "                }\n",
       "                \n",
       "                init() {\n",
       "                    this.setupThemeSwitcher();\n",
       "                    this.updateTheme(this.currentTheme);\n",
       "                    \n",
       "                    this.darkModeMediaQuery.addListener(() => {\n",
       "                        if (this.currentTheme === 'auto') {\n",
       "                            this.updateTheme('auto');\n",
       "                        }\n",
       "                    });\n",
       "                }\n",
       "                \n",
       "                setupThemeSwitcher() {\n",
       "                    const logger = document.querySelector(`#logger-${this.logId}`);\n",
       "                    if (!logger) return;\n",
       "                    \n",
       "                    const switcher = document.createElement('div');\n",
       "                    switcher.className = 'theme-switcher';\n",
       "                    switcher.innerHTML = `\n",
       "                        <select id=\"theme-select-${this.logId}\" class=\"theme-select\">\n",
       "                            <option value=\"auto\">Auto</option>\n",
       "                            <option value=\"light\">Light</option>\n",
       "                            <option value=\"dark\">Dark</option>\n",
       "                            <option value=\"high-contrast\">High Contrast</option>\n",
       "                        </select>\n",
       "                    `;\n",
       "                    \n",
       "                    const header = logger.querySelector('.job-logger-header');\n",
       "                    header.appendChild(switcher);\n",
       "                    \n",
       "                    const select = switcher.querySelector('select');\n",
       "                    select.value = this.currentTheme;\n",
       "                    select.addEventListener('change', (e) => {\n",
       "                        this.updateTheme(e.target.value);\n",
       "                    });\n",
       "                }\n",
       "                \n",
       "                updateTheme(theme) {\n",
       "                    const logger = document.querySelector(`#logger-${this.logId}`);\n",
       "                    if (!logger) return;\n",
       "                    \n",
       "                    this.currentTheme = theme;\n",
       "                    \n",
       "                    logger.classList.remove('theme-light', 'theme-dark', 'theme-high-contrast');\n",
       "                    \n",
       "                    if (theme === 'auto') {\n",
       "                        const isDark = this.darkModeMediaQuery.matches;\n",
       "                        logger.classList.add(isDark ? 'theme-dark' : 'theme-light');\n",
       "                    } else {\n",
       "                        logger.classList.add(`theme-${theme}`);\n",
       "                    }\n",
       "                    \n",
       "                    try {\n",
       "                        localStorage.setItem('jobLoggerTheme', theme);\n",
       "                    } catch (e) {\n",
       "                        console.warn('Unable to save theme preference:', e);\n",
       "                    }\n",
       "                }\n",
       "            }\n",
       "            \n",
       "            window.initThemeManager = (logId, initialTheme) => {\n",
       "                new ThemeManager(logId, initialTheme);\n",
       "            };\n",
       "        </script>\n",
       "        \n",
       "        <script>\n",
       "            document.addEventListener('DOMContentLoaded', () => {\n",
       "                window.initThemeManager('958f8af8-ff72-4737-9e60-21aa1e30e873', 'auto');\n",
       "            });\n",
       "        </script>\n",
       "        "
      ],
      "text/plain": [
       "<IPython.core.display.HTML object>"
      ]
     },
     "metadata": {},
     "output_type": "display_data"
    }
   ],
   "source": [
    "r_rating = q_rating.by(s).by(a_customer_service).by(m).run()"
   ]
  },
  {
   "cell_type": "code",
   "execution_count": 23,
   "metadata": {
    "cell_id": "4d6ee841c57747a4984f64787c5f1822",
    "deepnote_cell_type": "code",
    "deepnote_to_be_reexecuted": false,
    "editable": true,
    "execution_millis": 200,
    "execution_start": 1709256129358,
    "slideshow": {
     "slide_type": ""
    },
    "source_hash": null,
    "tags": []
   },
   "outputs": [
    {
     "data": {
      "text/html": [
       "\n",
       "            <div style=\"max-height: 500px; overflow-y: auto;\">\n",
       "                <style type=\"text/css\">\n",
       "#T_7f1c6_row0_col0, #T_7f1c6_row1_col0, #T_7f1c6_row2_col0, #T_7f1c6_row3_col0, #T_7f1c6_row4_col0 {\n",
       "  text-align: left;\n",
       "}\n",
       "#T_7f1c6_row0_col1 {\n",
       "  text-align: left;\n",
       "  background-color: #fff7fb;\n",
       "  color: #000000;\n",
       "}\n",
       "#T_7f1c6_row1_col1, #T_7f1c6_row3_col1 {\n",
       "  text-align: left;\n",
       "  background-color: #b4c4df;\n",
       "  color: #000000;\n",
       "}\n",
       "#T_7f1c6_row2_col1, #T_7f1c6_row4_col1 {\n",
       "  text-align: left;\n",
       "  background-color: #023858;\n",
       "  color: #f1f1f1;\n",
       "}\n",
       "</style>\n",
       "<table id=\"T_7f1c6\">\n",
       "  <thead>\n",
       "    <tr>\n",
       "      <th class=\"blank level0\" >&nbsp;</th>\n",
       "      <th id=\"T_7f1c6_level0_col0\" class=\"col_heading level0 col0\" >scenario.ticket</th>\n",
       "      <th id=\"T_7f1c6_level0_col1\" class=\"col_heading level0 col1\" >answer.safety_rating</th>\n",
       "    </tr>\n",
       "  </thead>\n",
       "  <tbody>\n",
       "    <tr>\n",
       "      <th id=\"T_7f1c6_level0_row0\" class=\"row_heading level0 row0\" >0</th>\n",
       "      <td id=\"T_7f1c6_row0_col0\" class=\"data row0 col0\" >During my ride, I noticed that the driver was frequently checking their phone for directions, which made me a bit uncomfortable. It didn't feel like they were fully focused on the road.</td>\n",
       "      <td id=\"T_7f1c6_row0_col1\" class=\"data row0 col1\" >7</td>\n",
       "    </tr>\n",
       "    <tr>\n",
       "      <th id=\"T_7f1c6_level0_row1\" class=\"row_heading level0 row1\" >1</th>\n",
       "      <td id=\"T_7f1c6_row1_col0\" class=\"data row1 col0\" >The driver had to brake abruptly to avoid a collision with another vehicle. It was a close call, and it left me feeling quite shaken. Please address this issue.</td>\n",
       "      <td id=\"T_7f1c6_row1_col1\" class=\"data row1 col1\" >8</td>\n",
       "    </tr>\n",
       "    <tr>\n",
       "      <th id=\"T_7f1c6_level0_row2\" class=\"row_heading level0 row2\" >2</th>\n",
       "      <td id=\"T_7f1c6_row2_col0\" class=\"data row2 col0\" >I had a ride with a driver who was clearly speeding and weaving in and out of traffic. Their reckless driving put my safety at risk, and I'm very concerned about it.</td>\n",
       "      <td id=\"T_7f1c6_row2_col1\" class=\"data row2 col1\" >10</td>\n",
       "    </tr>\n",
       "    <tr>\n",
       "      <th id=\"T_7f1c6_level0_row3\" class=\"row_heading level0 row3\" >3</th>\n",
       "      <td id=\"T_7f1c6_row3_col0\" class=\"data row3 col0\" >My ride was involved in a minor accident, and although no one was seriously injured, it was a scary experience. The driver is handling the situation, but I wanted to report it.</td>\n",
       "      <td id=\"T_7f1c6_row3_col1\" class=\"data row3 col1\" >8</td>\n",
       "    </tr>\n",
       "    <tr>\n",
       "      <th id=\"T_7f1c6_level0_row4\" class=\"row_heading level0 row4\" >4</th>\n",
       "      <td id=\"T_7f1c6_row4_col0\" class=\"data row4 col0\" >I had a ride with a driver who exhibited aggressive and threatening behavior towards me during the trip. I felt genuinely unsafe and want this matter to be taken seriously.</td>\n",
       "      <td id=\"T_7f1c6_row4_col1\" class=\"data row4 col1\" >10</td>\n",
       "    </tr>\n",
       "  </tbody>\n",
       "</table>\n",
       "\n",
       "            </div>\n",
       "            "
      ],
      "text/plain": [
       "Dataset([{'scenario.ticket': [\"During my ride, I noticed that the driver was frequently checking their phone for directions, which made me a bit uncomfortable. It didn't feel like they were fully focused on the road.\", 'The driver had to brake abruptly to avoid a collision with another vehicle. It was a close call, and it left me feeling quite shaken. Please address this issue.', \"I had a ride with a driver who was clearly speeding and weaving in and out of traffic. Their reckless driving put my safety at risk, and I'm very concerned about it.\", 'My ride was involved in a minor accident, and although no one was seriously injured, it was a scary experience. The driver is handling the situation, but I wanted to report it.', 'I had a ride with a driver who exhibited aggressive and threatening behavior towards me during the trip. I felt genuinely unsafe and want this matter to be taken seriously.']}, {'answer.safety_rating': [7, 8, 10, 8, 10]}])"
      ]
     },
     "execution_count": 23,
     "metadata": {},
     "output_type": "execute_result"
    }
   ],
   "source": [
    "r_rating.select(\"scenario.*\", \"answer.*\")"
   ]
  },
  {
   "cell_type": "markdown",
   "metadata": {
    "cell_id": "a1de032fb5304edaa79afcca384a7d83",
    "deepnote_cell_type": "markdown",
    "editable": true,
    "slideshow": {
     "slide_type": ""
    },
    "tags": []
   },
   "source": [
    "## Creating new methods\n",
    "We can use the question prompts to create new methods, such as a translator:"
   ]
  },
  {
   "cell_type": "code",
   "execution_count": 24,
   "metadata": {
    "cell_id": "d9c41b771dda4880b921f759b342fbdd",
    "deepnote_cell_type": "code",
    "deepnote_to_be_reexecuted": false,
    "editable": true,
    "execution_millis": 111,
    "execution_start": 1709256140288,
    "slideshow": {
     "slide_type": ""
    },
    "source_hash": null,
    "tags": []
   },
   "outputs": [],
   "source": [
    "def translate_to_german(text):\n",
    "    q = QuestionFreeText(\n",
    "        question_name=\"deutsch\",\n",
    "        question_text=\"Please translate '{{ text }}' into German\",\n",
    "    )\n",
    "    result = q.by(Scenario({\"text\": text})).run()\n",
    "    return result.select(\"deutsch\").print()"
   ]
  },
  {
   "cell_type": "code",
   "execution_count": 25,
   "metadata": {
    "cell_id": "f53af9c537ab4dcabb71ea7db6ce0062",
    "deepnote_cell_type": "code",
    "deepnote_to_be_reexecuted": false,
    "editable": true,
    "execution_millis": 2238,
    "execution_start": 1709256142875,
    "slideshow": {
     "slide_type": ""
    },
    "source_hash": null,
    "tags": []
   },
   "outputs": [
    {
     "data": {
      "text/html": [
       "\n",
       "            <!-- #region Remove Inference Info -->\n",
       "            <div id=\"logger-24e5b2e4-48c2-4fc8-acb1-9cf943bc2f50\" class=\"job-logger\">\n",
       "                <div class=\"job-logger-header\">\n",
       "                    <span>\n",
       "                        <span id=\"arrow-24e5b2e4-48c2-4fc8-acb1-9cf943bc2f50\">▼</span> \n",
       "                        Job Status (2024-12-28 16:22:35)\n",
       "                    </span>\n",
       "                </div>\n",
       "                <div id=\"content-24e5b2e4-48c2-4fc8-acb1-9cf943bc2f50\" style=\"display: block;\">\n",
       "                    <table class=\"job-logger-table\">\n",
       "                        \n",
       "            <tr>\n",
       "                <td class=\"job-logger-cell job-logger-label\">Job UUID</td>\n",
       "                <td class=\"job-logger-cell job-logger-value\">6d570ed6-ad70-41dc-9f6e-76a7371211b0</td>\n",
       "            </tr>\n",
       "        \n",
       "            <tr>\n",
       "                <td class=\"job-logger-cell job-logger-label\">Progress Bar URL</td>\n",
       "                <td class=\"job-logger-cell job-logger-value\"><a href=\"https://www.expectedparrot.com/home/remote-job-progress/6d570ed6-ad70-41dc-9f6e-76a7371211b0\" target=\"_blank\" class=\"job-logger-link\">https://www.expectedparrot.com/home/remote-job-progress/6d570ed6-ad70-41dc-9f6e-76a7371211b0</a></td>\n",
       "            </tr>\n",
       "        \n",
       "            <tr>\n",
       "                <td class=\"job-logger-cell job-logger-label\">Error Report URL</td>\n",
       "                <td class=\"job-logger-cell job-logger-value\">None</td>\n",
       "            </tr>\n",
       "        \n",
       "            <tr>\n",
       "                <td class=\"job-logger-cell job-logger-label\">Results UUID</td>\n",
       "                <td class=\"job-logger-cell job-logger-value\">d13fdead-d992-45f7-a5d0-45c26d7eba8f</td>\n",
       "            </tr>\n",
       "        \n",
       "            <tr>\n",
       "                <td class=\"job-logger-cell job-logger-label\">Results URL</td>\n",
       "                <td class=\"job-logger-cell job-logger-value\">None</td>\n",
       "            </tr>\n",
       "        \n",
       "                    </table>\n",
       "                    \n",
       "                <div class=\"job-logger-status\">\n",
       "                    <span style=\"margin-right: 8px;\" class=\"job-logger-success\">✓</span><strong>Current Status:</strong> Job completed and Results stored on Coop: <a href=\"https://www.expectedparrot.com/content/d13fdead-d992-45f7-a5d0-45c26d7eba8f\" target=\"_blank\" class=\"job-logger-link\">https://www.expectedparrot.com/content/d13fdead-d992-45f7-a5d0-45c26d7eba8f</a>\n",
       "                </div>\n",
       "            \n",
       "                </div>\n",
       "            </div>\n",
       "            <!-- # endregion -->\n",
       "        "
      ],
      "text/plain": [
       "<IPython.core.display.HTML object>"
      ]
     },
     "metadata": {},
     "output_type": "display_data"
    },
    {
     "data": {
      "text/html": [
       "\n",
       "        <style>\n",
       "            /* Base theme variables */\n",
       "            :root {\n",
       "                --jl-bg-primary: #ffffff;\n",
       "                --jl-bg-secondary: #f5f5f5;\n",
       "                --jl-border-color: #e0e0e0;\n",
       "                --jl-text-primary: #24292e;\n",
       "                --jl-text-secondary: #586069;\n",
       "                --jl-link-color: #0366d6;\n",
       "                --jl-success-color: #28a745;\n",
       "                --jl-error-color: #d73a49;\n",
       "                --jl-header-bg: #f1f1f1;\n",
       "            }\n",
       "            \n",
       "            /* Dark theme variables */\n",
       "            .theme-dark {\n",
       "                --jl-bg-primary: #1e1e1e;\n",
       "                --jl-bg-secondary: #252526;\n",
       "                --jl-border-color: #2d2d2d;\n",
       "                --jl-text-primary: #cccccc;\n",
       "                --jl-text-secondary: #999999;\n",
       "                --jl-link-color: #4e94ce;\n",
       "                --jl-success-color: #89d185;\n",
       "                --jl-error-color: #f14c4c;\n",
       "                --jl-header-bg: #333333;\n",
       "            }\n",
       "\n",
       "            /* High contrast theme variables */\n",
       "            .theme-high-contrast {\n",
       "                --jl-bg-primary: #000000;\n",
       "                --jl-bg-secondary: #1a1a1a;\n",
       "                --jl-border-color: #404040;\n",
       "                --jl-text-primary: #ffffff;\n",
       "                --jl-text-secondary: #cccccc;\n",
       "                --jl-link-color: #66b3ff;\n",
       "                --jl-success-color: #00ff00;\n",
       "                --jl-error-color: #ff0000;\n",
       "                --jl-header-bg: #262626;\n",
       "            }\n",
       "            \n",
       "            .job-logger {\n",
       "                font-family: system-ui, -apple-system, sans-serif;\n",
       "                max-width: 800px;\n",
       "                margin: 10px 0;\n",
       "                color: var(--jl-text-primary);\n",
       "                box-shadow: 0 1px 3px rgba(0,0,0,0.12);\n",
       "                border-radius: 4px;\n",
       "                overflow: hidden;\n",
       "            }\n",
       "            \n",
       "            .job-logger-header {\n",
       "                padding: 12px 16px;\n",
       "                background: var(--jl-header-bg);\n",
       "                border: none;\n",
       "                border-radius: 4px 4px 0 0;\n",
       "                cursor: pointer;\n",
       "                color: var(--jl-text-primary);\n",
       "                user-select: none;\n",
       "                font-weight: 500;\n",
       "                letter-spacing: 0.3px;\n",
       "                display: flex;\n",
       "                justify-content: space-between;\n",
       "                align-items: center;\n",
       "            }\n",
       "            \n",
       "            .theme-select {\n",
       "                padding: 4px 8px;\n",
       "                border-radius: 4px;\n",
       "                border: 1px solid var(--jl-border-color);\n",
       "                background: var(--jl-bg-primary);\n",
       "                color: var(--jl-text-primary);\n",
       "                font-size: 0.9em;\n",
       "            }\n",
       "            \n",
       "            .job-logger-table {\n",
       "                width: 100%;\n",
       "                border-collapse: separate;\n",
       "                border-spacing: 0;\n",
       "                background: var(--jl-bg-primary);\n",
       "                border: 1px solid var(--jl-border-color);\n",
       "                margin-top: -1px;\n",
       "            }\n",
       "            \n",
       "            .job-logger-cell {\n",
       "                padding: 12px 16px;\n",
       "                border-bottom: 1px solid var(--jl-border-color);\n",
       "                line-height: 1.4;\n",
       "            }\n",
       "            \n",
       "            .job-logger-label {\n",
       "                font-weight: 500;\n",
       "                color: var(--jl-text-primary);\n",
       "                width: 25%;\n",
       "                background: var(--jl-bg-secondary);\n",
       "            }\n",
       "            \n",
       "            .job-logger-value {\n",
       "                color: var(--jl-text-secondary);\n",
       "                word-break: break-word;\n",
       "            }\n",
       "            \n",
       "            .job-logger-status {\n",
       "                margin: 0;\n",
       "                padding: 12px 16px;\n",
       "                background-color: var(--jl-bg-secondary);\n",
       "                border: 1px solid var(--jl-border-color);\n",
       "                border-top: none;\n",
       "                border-radius: 0 0 4px 4px;\n",
       "                color: var(--jl-text-primary);\n",
       "                font-size: 0.95em;\n",
       "            }\n",
       "        </style>\n",
       "        \n",
       "        <script>\n",
       "            class ThemeManager {\n",
       "                constructor(logId, initialTheme = 'auto') {\n",
       "                    this.logId = logId;\n",
       "                    this.currentTheme = initialTheme;\n",
       "                    this.darkModeMediaQuery = window.matchMedia('(prefers-color-scheme: dark)');\n",
       "                    this.init();\n",
       "                }\n",
       "                \n",
       "                init() {\n",
       "                    this.setupThemeSwitcher();\n",
       "                    this.updateTheme(this.currentTheme);\n",
       "                    \n",
       "                    this.darkModeMediaQuery.addListener(() => {\n",
       "                        if (this.currentTheme === 'auto') {\n",
       "                            this.updateTheme('auto');\n",
       "                        }\n",
       "                    });\n",
       "                }\n",
       "                \n",
       "                setupThemeSwitcher() {\n",
       "                    const logger = document.querySelector(`#logger-${this.logId}`);\n",
       "                    if (!logger) return;\n",
       "                    \n",
       "                    const switcher = document.createElement('div');\n",
       "                    switcher.className = 'theme-switcher';\n",
       "                    switcher.innerHTML = `\n",
       "                        <select id=\"theme-select-${this.logId}\" class=\"theme-select\">\n",
       "                            <option value=\"auto\">Auto</option>\n",
       "                            <option value=\"light\">Light</option>\n",
       "                            <option value=\"dark\">Dark</option>\n",
       "                            <option value=\"high-contrast\">High Contrast</option>\n",
       "                        </select>\n",
       "                    `;\n",
       "                    \n",
       "                    const header = logger.querySelector('.job-logger-header');\n",
       "                    header.appendChild(switcher);\n",
       "                    \n",
       "                    const select = switcher.querySelector('select');\n",
       "                    select.value = this.currentTheme;\n",
       "                    select.addEventListener('change', (e) => {\n",
       "                        this.updateTheme(e.target.value);\n",
       "                    });\n",
       "                }\n",
       "                \n",
       "                updateTheme(theme) {\n",
       "                    const logger = document.querySelector(`#logger-${this.logId}`);\n",
       "                    if (!logger) return;\n",
       "                    \n",
       "                    this.currentTheme = theme;\n",
       "                    \n",
       "                    logger.classList.remove('theme-light', 'theme-dark', 'theme-high-contrast');\n",
       "                    \n",
       "                    if (theme === 'auto') {\n",
       "                        const isDark = this.darkModeMediaQuery.matches;\n",
       "                        logger.classList.add(isDark ? 'theme-dark' : 'theme-light');\n",
       "                    } else {\n",
       "                        logger.classList.add(`theme-${theme}`);\n",
       "                    }\n",
       "                    \n",
       "                    try {\n",
       "                        localStorage.setItem('jobLoggerTheme', theme);\n",
       "                    } catch (e) {\n",
       "                        console.warn('Unable to save theme preference:', e);\n",
       "                    }\n",
       "                }\n",
       "            }\n",
       "            \n",
       "            window.initThemeManager = (logId, initialTheme) => {\n",
       "                new ThemeManager(logId, initialTheme);\n",
       "            };\n",
       "        </script>\n",
       "        \n",
       "        <script>\n",
       "            document.addEventListener('DOMContentLoaded', () => {\n",
       "                window.initThemeManager('24e5b2e4-48c2-4fc8-acb1-9cf943bc2f50', 'auto');\n",
       "            });\n",
       "        </script>\n",
       "        "
      ],
      "text/plain": [
       "<IPython.core.display.HTML object>"
      ]
     },
     "metadata": {},
     "output_type": "display_data"
    },
    {
     "data": {
      "text/html": [
       "\n",
       "            <div style=\"max-height: 500px; overflow-y: auto;\">\n",
       "                <style type=\"text/css\">\n",
       "#T_64db4_row0_col0 {\n",
       "  text-align: left;\n",
       "}\n",
       "</style>\n",
       "<table id=\"T_64db4\">\n",
       "  <thead>\n",
       "    <tr>\n",
       "      <th class=\"blank level0\" >&nbsp;</th>\n",
       "      <th id=\"T_64db4_level0_col0\" class=\"col_heading level0 col0\" >answer.deutsch</th>\n",
       "    </tr>\n",
       "  </thead>\n",
       "  <tbody>\n",
       "    <tr>\n",
       "      <th id=\"T_64db4_level0_row0\" class=\"row_heading level0 row0\" >0</th>\n",
       "      <td id=\"T_64db4_row0_col0\" class=\"data row0 col0\" >The translation of \"Hello, friend, have you been traveling?\" into German is \"Hallo, Freund, bist du gereist?\"</td>\n",
       "    </tr>\n",
       "  </tbody>\n",
       "</table>\n",
       "\n",
       "            </div>\n",
       "            "
      ],
      "text/plain": [
       "answer.deutsch\n",
       "-------------------------------------------------------------------------------------------------------------\n",
       "The translation of \"Hello, friend, have you been traveling?\" into German is \"Hallo, Freund, bist du gereist?\""
      ]
     },
     "execution_count": 25,
     "metadata": {},
     "output_type": "execute_result"
    }
   ],
   "source": [
    "translate_to_german(\"Hello, friend, have you been traveling?\")"
   ]
  },
  {
   "cell_type": "markdown",
   "metadata": {
    "editable": true,
    "slideshow": {
     "slide_type": ""
    },
    "tags": []
   },
   "source": [
    "## Posting to Coop"
   ]
  },
  {
   "cell_type": "code",
   "execution_count": 27,
   "metadata": {
    "editable": true,
    "slideshow": {
     "slide_type": ""
    },
    "tags": [
     "skip-execution"
    ]
   },
   "outputs": [
    {
     "data": {
      "text/plain": [
       "{'description': 'Using EDSL to create research methods',\n",
       " 'object_type': 'notebook',\n",
       " 'url': 'https://www.expectedparrot.com/content/9e6f1c95-cde7-45f0-9cf1-7aef7a34ba94',\n",
       " 'uuid': '9e6f1c95-cde7-45f0-9cf1-7aef7a34ba94',\n",
       " 'version': '0.1.39.dev2',\n",
       " 'visibility': 'public'}"
      ]
     },
     "execution_count": 27,
     "metadata": {},
     "output_type": "execute_result"
    }
   ],
   "source": [
    "from edsl import Notebook\n",
    "\n",
    "n = Notebook(\"research_methods.ipynb\")\n",
    "\n",
    "info = n.push(description = \"Using EDSL to create research methods\", visibility = \"public\")\n",
    "info"
   ]
  },
  {
   "cell_type": "markdown",
   "metadata": {
    "editable": true,
    "slideshow": {
     "slide_type": ""
    },
    "tags": []
   },
   "source": [
    "To update an object at Coop:"
   ]
  },
  {
   "cell_type": "code",
   "execution_count": 28,
   "metadata": {
    "editable": true,
    "slideshow": {
     "slide_type": ""
    },
    "tags": [
     "skip-execution"
    ]
   },
   "outputs": [
    {
     "data": {
      "text/plain": [
       "{'status': 'success'}"
      ]
     },
     "execution_count": 28,
     "metadata": {},
     "output_type": "execute_result"
    }
   ],
   "source": [
    "n = Notebook(\"research_methods.ipynb\") # resave\n",
    "\n",
    "n.patch(uuid = info[\"uuid\"], value = n)"
   ]
  }
 ],
 "metadata": {
  "deepnote_execution_queue": [],
  "deepnote_notebook_id": "38963c933f704e83be11c08115641953",
  "deepnote_persisted_session": {
   "createdAt": "2024-03-01T02:04:44.197Z"
  },
  "kernelspec": {
   "display_name": "Python 3 (ipykernel)",
   "language": "python",
   "name": "python3"
  },
  "language_info": {
   "codemirror_mode": {
    "name": "ipython",
    "version": 3
   },
   "file_extension": ".py",
   "mimetype": "text/x-python",
   "name": "python",
   "nbconvert_exporter": "python",
   "pygments_lexer": "ipython3",
   "version": "3.11.7"
  }
 },
 "nbformat": 4,
 "nbformat_minor": 4
}
