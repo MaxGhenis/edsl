{
 "cells": [
  {
   "cell_type": "markdown",
   "metadata": {},
   "source": [
    "# QuestionMultipleChoiceWithOther Example\n",
    "\n",
    "This notebook demonstrates the use of the `QuestionMultipleChoiceWithOther` question type, which extends the standard `QuestionMultipleChoice` to include an \"Other\" option that allows respondents to provide a custom response."
   ]
  },
  {
   "cell_type": "code",
   "execution_count": 1,
   "metadata": {},
   "outputs": [],
   "source": [
    "import edsl\n",
    "from edsl import QuestionMultipleChoiceWithOther\n",
    "from edsl import Model"
   ]
  },
  {
   "cell_type": "markdown",
   "metadata": {},
   "source": [
    "## Basic Usage\n",
    "\n",
    "Let's create a simple question asking about favorite colors, with an \"Other\" option for colors not listed."
   ]
  },
  {
   "cell_type": "code",
   "execution_count": 2,
   "metadata": {},
   "outputs": [
    {
     "name": "stdout",
     "output_type": "stream",
     "text": [
      "Question('multiple_choice_with_other', question_name = \"\"\"favorite_color\"\"\", question_text = \"\"\"What is your favorite color?\"\"\", question_options = ['Red', 'Blue', 'Green', 'Yellow'])\n"
     ]
    }
   ],
   "source": [
    "color_question = QuestionMultipleChoiceWithOther(\n",
    "    question_name=\"favorite_color\",\n",
    "    question_text=\"What is your favorite color?\",\n",
    "    question_options=[\"Red\", \"Blue\", \"Green\", \"Yellow\"],\n",
    "    other_option_text=\"Other (please specify)\"\n",
    ")\n",
    "\n",
    "print(color_question)"
   ]
  },
  {
   "cell_type": "markdown",
   "metadata": {},
   "source": [
    "## Running the Question\n",
    "\n",
    "Let's run this question with a model and see how it responds."
   ]
  },
  {
   "cell_type": "code",
   "execution_count": 4,
   "metadata": {},
   "outputs": [
    {
     "data": {
      "text/html": [
       "\n",
       "            <div style=\"max-height: 500px; overflow-y: auto;\">\n",
       "                <style type=\"text/css\">\n",
       "#T_b2fc4_row0_col0 {\n",
       "  text-align: left;\n",
       "  white-space: pre-wrap;\n",
       "  max-width: 300px;\n",
       "  word-wrap: break-word;\n",
       "}\n",
       "</style>\n",
       "<table id=\"T_b2fc4\">\n",
       "  <thead>\n",
       "    <tr>\n",
       "      <th class=\"blank level0\" >&nbsp;</th>\n",
       "      <th id=\"T_b2fc4_level0_col0\" class=\"col_heading level0 col0\" >answer.favorite_color</th>\n",
       "    </tr>\n",
       "  </thead>\n",
       "  <tbody>\n",
       "    <tr>\n",
       "      <th id=\"T_b2fc4_level0_row0\" class=\"row_heading level0 row0\" >0</th>\n",
       "      <td id=\"T_b2fc4_row0_col0\" class=\"data row0 col0\" >Red</td>\n",
       "    </tr>\n",
       "  </tbody>\n",
       "</table>\n",
       "\n",
       "            </div>\n",
       "            "
      ],
      "text/plain": [
       "Dataset([{'answer.favorite_color': ['Red']}])"
      ]
     },
     "execution_count": 4,
     "metadata": {},
     "output_type": "execute_result"
    }
   ],
   "source": [
    "model = Model(\"test\", canned_response = \"Red\")\n",
    "result = color_question.by(model).run(disable_remote_inference = True)\n",
    "result.select(\"answer.*\")"
   ]
  },
  {
   "cell_type": "markdown",
   "metadata": {},
   "source": [
    "## Customizing the Other Option\n",
    "\n",
    "You can customize the text for the \"Other\" option and provide specific instructions on how to use it."
   ]
  },
  {
   "cell_type": "code",
   "execution_count": null,
   "metadata": {},
   "outputs": [
    {
     "data": {
      "text/html": [
       "\n",
       "            <div style=\"max-height: 500px; overflow-y: auto;\">\n",
       "                <style type=\"text/css\">\n",
       "#T_de38a_row0_col0 {\n",
       "  text-align: left;\n",
       "  white-space: pre-wrap;\n",
       "  max-width: 300px;\n",
       "  word-wrap: break-word;\n",
       "}\n",
       "</style>\n",
       "<table id=\"T_de38a\">\n",
       "  <thead>\n",
       "    <tr>\n",
       "      <th class=\"blank level0\" >&nbsp;</th>\n",
       "      <th id=\"T_de38a_level0_col0\" class=\"col_heading level0 col0\" >answer.favorite_pet</th>\n",
       "    </tr>\n",
       "  </thead>\n",
       "  <tbody>\n",
       "    <tr>\n",
       "      <th id=\"T_de38a_level0_row0\" class=\"row_heading level0 row0\" >0</th>\n",
       "      <td id=\"T_de38a_row0_col0\" class=\"data row0 col0\" >Alligator</td>\n",
       "    </tr>\n",
       "  </tbody>\n",
       "</table>\n",
       "\n",
       "            </div>\n",
       "            "
      ],
      "text/plain": [
       "Dataset([{'answer.favorite_pet': ['Alligator']}])"
      ]
     },
     "execution_count": 6,
     "metadata": {},
     "output_type": "execute_result"
    }
   ],
   "source": [
    "model = Model(\"test\", canned_response = \"Alligator\")\n",
    "\n",
    "pet_question = QuestionMultipleChoiceWithOther(\n",
    "    question_name=\"favorite_pet\",\n",
    "    question_text=\"What kind of pet do you have?\",\n",
    "    question_options=[\"Dog\", \"Cat\", \"Fish\", \"Bird\"],\n",
    "    other_option_text=\"Different pet\",\n",
    "    other_instructions=\"If you have a pet not listed in the options, specify what kind of pet you have.\"\n",
    ")\n",
    "\n",
    "result = pet_question.by(model).run(disable_remote_inference = True)\n",
    "result.select('answer.*')"
   ]
  },
  {
   "cell_type": "code",
   "execution_count": null,
   "metadata": {},
   "outputs": [],
   "source": []
  }
 ],
 "metadata": {
  "kernelspec": {
   "display_name": "edsl-EZo3_VAr-py3.11",
   "language": "python",
   "name": "python3"
  },
  "language_info": {
   "codemirror_mode": {
    "name": "ipython",
    "version": 3
   },
   "file_extension": ".py",
   "mimetype": "text/x-python",
   "name": "python",
   "nbconvert_exporter": "python",
   "pygments_lexer": "ipython3",
   "version": "3.11.0"
  }
 },
 "nbformat": 4,
 "nbformat_minor": 4
}
