{
 "cells": [
  {
   "cell_type": "markdown",
   "metadata": {},
   "source": [
    "# QuestionMultipleChoiceWithOther Example\n",
    "\n",
    "This notebook demonstrates the use of the `QuestionMultipleChoiceWithOther` question type, which extends the standard `QuestionMultipleChoice` to include an \"Other\" option that allows respondents to provide a custom response."
   ]
  },
  {
   "cell_type": "code",
   "execution_count": null,
   "metadata": {},
   "source": [
    "import edsl\n",
    "from edsl import QuestionMultipleChoiceWithOther\n",
    "from edsl.language_models import Model"
   ]
  },
  {
   "cell_type": "markdown",
   "metadata": {},
   "source": [
    "## Basic Usage\n",
    "\n",
    "Let's create a simple question asking about favorite colors, with an \"Other\" option for colors not listed."
   ]
  },
  {
   "cell_type": "code",
   "execution_count": null,
   "metadata": {},
   "source": [
    "color_question = QuestionMultipleChoiceWithOther(\n",
    "    question_name=\"favorite_color\",\n",
    "    question_text=\"What is your favorite color?\",\n",
    "    question_options=[\"Red\", \"Blue\", \"Green\", \"Yellow\"],\n",
    "    other_option_text=\"Other (please specify)\"\n",
    ")\n",
    "\n",
    "print(color_question)"
   ]
  },
  {
   "cell_type": "markdown",
   "metadata": {},
   "source": [
    "## Running the Question\n",
    "\n",
    "Let's run this question with a model and see how it responds."
   ]
  },
  {
   "cell_type": "code",
   "execution_count": null,
   "metadata": {},
   "source": [
    "model = Model()\n",
    "result = color_question.by(model).run()\n",
    "print(f\"Answer: {result.answer}\")\n",
    "if hasattr(result, 'other_text') and result.other_text:\n",
    "    print(f\"Other text: {result.other_text}\")\n",
    "if result.comment:\n",
    "    print(f\"Comment: {result.comment}\")"
   ]
  },
  {
   "cell_type": "markdown",
   "metadata": {},
   "source": [
    "## Customizing the Other Option\n",
    "\n",
    "You can customize the text for the \"Other\" option and provide specific instructions on how to use it."
   ]
  },
  {
   "cell_type": "code",
   "execution_count": null,
   "metadata": {},
   "source": [
    "pet_question = QuestionMultipleChoiceWithOther(\n",
    "    question_name=\"favorite_pet\",\n",
    "    question_text=\"What kind of pet do you have?\",\n",
    "    question_options=[\"Dog\", \"Cat\", \"Fish\", \"Bird\"],\n",
    "    other_option_text=\"Different pet\",\n",
    "    other_instructions=\"If you have a pet not listed in the options, select 'Different pet' and specify what kind of pet you have.\"\n",
    ")\n",
    "\n",
    "result = pet_question.by(model).run()\n",
    "print(f\"Answer: {result.answer}\")\n",
    "if hasattr(result, 'other_text') and result.other_text:\n",
    "    print(f\"Other text: {result.other_text}\")\n",
    "if result.comment:\n",
    "    print(f\"Comment: {result.comment}\")"
   ]
  },
  {
   "cell_type": "markdown",
   "metadata": {},
   "source": [
    "## Using with Surveys\n",
    "\n",
    "The `QuestionMultipleChoiceWithOther` can be used in surveys just like any other question type."
   ]
  },
  {
   "cell_type": "code",
   "execution_count": null,
   "metadata": {},
   "source": [
    "from edsl import Survey\n",
    "\n",
    "survey = Survey()\n",
    "survey.add_question(color_question)\n",
    "survey.add_question(pet_question)\n",
    "\n",
    "results = survey.by(model).run()\n",
    "results.head()"
   ]
  },
  {
   "cell_type": "markdown",
   "metadata": {},
   "source": [
    "## Additional Features\n",
    "\n",
    "All features of the regular `QuestionMultipleChoice` are available, such as using codes for answers."
   ]
  },
  {
   "cell_type": "code",
   "execution_count": null,
   "metadata": {},
   "source": [
    "coded_question = QuestionMultipleChoiceWithOther(\n",
    "    question_name=\"transportation\",\n",
    "    question_text=\"How do you usually commute to work?\",\n",
    "    question_options=[\"Car\", \"Public transportation\", \"Bicycle\", \"Walking\"],\n",
    "    other_option_text=\"Other method\",\n",
    "    use_code=True\n",
    ")\n",
    "\n",
    "result = coded_question.by(model).run()\n",
    "print(f\"Answer code: {result.answer}\")\n",
    "print(f\"Answer text: {coded_question.question_options[result.answer] if result.answer < len(coded_question.question_options) else 'Other method'}\")\n",
    "if hasattr(result, 'other_text') and result.other_text:\n",
    "    print(f\"Other text: {result.other_text}\")"
   ]
  }
 ],
 "metadata": {
  "kernelspec": {
   "display_name": "Python 3",
   "language": "python",
   "name": "python3"
  },
  "language_info": {
   "codemirror_mode": {
    "name": "ipython",
    "version": 3
   },
   "file_extension": ".py",
   "mimetype": "text/x-python",
   "name": "python",
   "nbconvert_exporter": "python",
   "pygments_lexer": "ipython3",
   "version": "3.11.0"
  }
 },
 "nbformat": 4,
 "nbformat_minor": 4
}