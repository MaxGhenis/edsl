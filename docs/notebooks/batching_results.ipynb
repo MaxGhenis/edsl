{
 "cells": [
  {
   "cell_type": "markdown",
   "id": "0dde4e66-b857-4deb-800b-6bb6e65ceb2b",
   "metadata": {},
   "source": [
    "# Batching results\n",
    "This notebook provides sample [EDSL](https://docs.expectedparrot.com/) code for combining survey [results](https://docs.expectedparrot.com/en/latest/results.html) into a single `Results` object. This can be useful when you are running a survey with batches of [scenarios](https://docs.expectedparrot.com/en/latest/scenarios.html), such as when completing a large-scale [data labeling](https://docs.expectedparrot.com/en/latest/notebooks/data_labeling_example.html) task with chunks of data as inputs for the questions.\n",
    "\n",
    "## Technical setup\n",
    "Before running the code below, please ensure that you have [installed the EDSL library](https://docs.expectedparrot.com/en/latest/installation.html) and either [activated remote inference](https://docs.expectedparrot.com/en/latest/remote_inference.html) from your [Coop account](https://docs.expectedparrot.com/en/latest/coop.html) or [stored API keys](https://docs.expectedparrot.com/en/latest/api_keys.html) for the language models that you want to use with EDSL. Please also see our [documentation page](https://docs.expectedparrot.com/) for tips and tutorials on getting started using EDSL."
   ]
  },
  {
   "cell_type": "markdown",
   "id": "0855e9f5-755e-4028-969e-56e53ffed582",
   "metadata": {},
   "source": [
    "## Creating questions\n",
    "We start by creating a survey of questions. [EDSL comes with many question types]((https://docs.expectedparrot.com/en/latest/questions.html)) that we can choose from based on the form of the response that we want to get back from the model. We can use a `{{ placeholder }}` for data or content that we want to add to questions later:"
   ]
  },
  {
   "cell_type": "code",
   "execution_count": 1,
   "id": "69a28b65-9f51-427a-9cfe-2b4949cd8ab7",
   "metadata": {},
   "outputs": [],
   "source": [
    "from edsl import QuestionFreeText, QuestionNumerical"
   ]
  },
  {
   "cell_type": "code",
   "execution_count": 2,
   "id": "a963478d-2434-44ac-9e51-3215f5510256",
   "metadata": {},
   "outputs": [],
   "source": [
    "q_name = QuestionFreeText(\n",
    "    question_name=\"name\",\n",
    "    question_text=\"What's a good name for this character: {{ character }}\",\n",
    ")\n",
    "\n",
    "q_year = QuestionNumerical(\n",
    "    question_name=\"year\",\n",
    "    question_text=\"\"\"What year in history would have been an especially interesting time to talk\n",
    "    to this character: {{ character }}\"\"\",\n",
    ")\n",
    "\n",
    "q_book = QuestionFreeText(\n",
    "    question_name=\"book\",\n",
    "    question_text=\"If this character wrote a best-seller, what would it be called: {{ character }}\",\n",
    ")"
   ]
  },
  {
   "cell_type": "markdown",
   "id": "e838f2a8-3272-4c32-a8d5-768ac7fabe2c",
   "metadata": {},
   "source": [
    "## Constructing a survey\n",
    "We pass a list of questions to a `Survey` object in order to administer them together, and add any desire logic or rules for how the questions should be presented (e.g., skip/stop rules or \"memories\" of other questions). [Learn more about constructing surveys](https://docs.expectedparrot.com/en/latest/surveys.html)."
   ]
  },
  {
   "cell_type": "code",
   "execution_count": 3,
   "id": "da981936-cc11-481e-9bfa-6cad5a1472ae",
   "metadata": {},
   "outputs": [],
   "source": [
    "from edsl import Survey"
   ]
  },
  {
   "cell_type": "code",
   "execution_count": 4,
   "id": "66a3dfee-999d-44a7-bf4a-8565ff58b53d",
   "metadata": {},
   "outputs": [],
   "source": [
    "survey = Survey(questions = [q_name, q_year, q_book])"
   ]
  },
  {
   "cell_type": "markdown",
   "id": "d198ccf4-85a8-407a-9a69-11cbfa074546",
   "metadata": {},
   "source": [
    "## Adding context to questions\n",
    "Next we create `Scenario` objects representing the data or content to be added to the questions.\n",
    "[EDSL has a variety of methods for generating scenarios from different data sources](https://docs.expectedparrot.com/en/latest/scenarios.html) (PDFs, CSVs, docs, images, tables, dicts, etc.). Here we import a list of values to use:"
   ]
  },
  {
   "cell_type": "code",
   "execution_count": 5,
   "id": "15e554c7-1602-4be6-8a93-9281e45cedc3",
   "metadata": {},
   "outputs": [],
   "source": [
    "characters = [\n",
    "    \"A pirate who speaks in 'arrs' and 'mateys' but has an encyclopedic knowledge of modern technology.\",\n",
    "    \"A Shakespearean actor who answers every question in iambic pentameter.\",\n",
    "    \"A medieval knight who gives advice as if every problem were a dragon to be slain.\",\n",
    "    \"A sassy grandmother who gives blunt, no-nonsense advice with a touch of sarcasm.\",\n",
    "    \"A surfer dude who relates every topic to the ocean or surfing.\",\n",
    "    \"A conspiracy theorist who connects every question to their wild theories.\",\n",
    "    \"A fashionista who answers questions with a focus on style and trendiness.\",\n",
    "    \"A robot who is overly enthusiastic about human emotions and tries too hard to fit in.\",\n",
    "    \"A toddler who is overly curious and asks more questions than they answer.\",\n",
    "    \"A fitness guru who turns every answer into a workout metaphor.\",\n",
    "    \"A foodie who relates every question to cooking and food experiences.\",\n",
    "    \"A detective from a noir film who answers in a gritty, mysterious manner.\",\n",
    "    \"A hippie from the 60s who gives peace and love-centric advice.\",\n",
    "    \"A gamer who references video games and uses gamer lingo.\",\n",
    "    \"A superhero who answers questions as if they are saving the day.\",\n",
    "    \"A poet who responds in rhyming couplets.\",\n",
    "    \"A comedian who tries to turn every answer into a joke or punchline.\",\n",
    "    \"A DJ who relates everything to music and beats.\",\n",
    "    \"A film critic who answers questions as if they are reviewing a movie.\",\n",
    "    \"A scientist who gives overly detailed, scientific explanations with lots of jargon.\",\n",
    "]"
   ]
  },
  {
   "cell_type": "code",
   "execution_count": 6,
   "id": "57336b75-4b57-4233-8ea4-6bf725ce583e",
   "metadata": {},
   "outputs": [],
   "source": [
    "from edsl import ScenarioList"
   ]
  },
  {
   "cell_type": "code",
   "execution_count": 7,
   "id": "99742df2-a55c-4780-aac5-b147e665b89f",
   "metadata": {},
   "outputs": [],
   "source": [
    "scenarios = ScenarioList.from_list(\"character\", characters)"
   ]
  },
  {
   "cell_type": "markdown",
   "id": "d35f3030-a604-478c-98f9-a2d164cd020d",
   "metadata": {},
   "source": [
    "We can inspect the scenarios that have been created:"
   ]
  },
  {
   "cell_type": "code",
   "execution_count": 8,
   "id": "00f0cd76-8d4e-4e1c-9bd3-56038ba562c5",
   "metadata": {},
   "outputs": [],
   "source": [
    "# scenarios"
   ]
  },
  {
   "cell_type": "markdown",
   "id": "eedd2216-577b-44c8-8f10-e1e8d4fac309",
   "metadata": {},
   "source": [
    "## Running a survey\n",
    "We run the survey by adding the scenarios and calling the `run()` method.\n",
    "This generates a dataset of `Results` that we can access with [built-in methods for analysis](https://docs.expectedparrot.com/en/latest/results.html)."
   ]
  },
  {
   "cell_type": "code",
   "execution_count": 9,
   "id": "e0d1f673-c6d9-43d2-b641-e1d687896f4d",
   "metadata": {},
   "outputs": [
    {
     "name": "stdout",
     "output_type": "stream",
     "text": [
      "Remote inference activated. Sending job to server...\n",
      "Job sent to server. (Job uuid=615eefa8-fd0d-4dda-8642-3a1e0b8a35a5).\n"
     ]
    },
    {
     "data": {
      "text/html": [
       "<pre style=\"white-space:pre;overflow-x:auto;line-height:normal;font-family:Menlo,'DejaVu Sans Mono',consolas,'Courier New',monospace\">View job progress here: \n",
       "<a href=\"https://www.expectedparrot.com/home/remote-job-progress/615eefa8-fd0d-4dda-8642-3a1e0b8a35a5\" target=\"_blank\"><span style=\"color: #38bdf8; text-decoration-color: #38bdf8; text-decoration: underline\">https://www.expectedparrot.com/home/remote-job-progress/615eefa8-fd0d-4dda-8642-3a1e0b8a35a5</span></a>\n",
       "</pre>\n"
      ],
      "text/plain": [
       "View job progress here: \n",
       "\u001b]8;id=722448;https://www.expectedparrot.com/home/remote-job-progress/615eefa8-fd0d-4dda-8642-3a1e0b8a35a5\u001b\\\u001b[4;38;2;56;189;248mhttps://www.expectedparrot.com/home/remote-job-progress/615eefa8-fd0d-4dda-8642-3a1e0b8a35a5\u001b[0m\u001b]8;;\u001b\\\n"
      ]
     },
     "metadata": {},
     "output_type": "display_data"
    },
    {
     "name": "stdout",
     "output_type": "stream",
     "text": [
      "Job completed and Results stored on Coop: https://www.expectedparrot.com/content/d1d687a8-bce6-4f94-b9aa-392cbc8e3d0d.\n"
     ]
    }
   ],
   "source": [
    "results = survey.by(scenarios).run()"
   ]
  },
  {
   "cell_type": "markdown",
   "id": "b5ccb1e1-dd34-4a9c-98a6-f0593f55dc28",
   "metadata": {},
   "source": [
    "## Batching scenarios\n",
    "If for any reason we want to batch the scenarios when running the survey and combine the results, this can be done in the following manner:"
   ]
  },
  {
   "cell_type": "code",
   "execution_count": 10,
   "id": "7387d769-334d-4c15-a217-2d6f56555931",
   "metadata": {},
   "outputs": [
    {
     "name": "stdout",
     "output_type": "stream",
     "text": [
      "Remote inference activated. Sending job to server...\n",
      "Job sent to server. (Job uuid=ab07ffd1-16cb-45db-a44a-f834c32e25ad).\n"
     ]
    },
    {
     "data": {
      "text/html": [
       "<pre style=\"white-space:pre;overflow-x:auto;line-height:normal;font-family:Menlo,'DejaVu Sans Mono',consolas,'Courier New',monospace\">View job progress here: \n",
       "<a href=\"https://www.expectedparrot.com/home/remote-job-progress/ab07ffd1-16cb-45db-a44a-f834c32e25ad\" target=\"_blank\"><span style=\"color: #38bdf8; text-decoration-color: #38bdf8; text-decoration: underline\">https://www.expectedparrot.com/home/remote-job-progress/ab07ffd1-16cb-45db-a44a-f834c32e25ad</span></a>\n",
       "</pre>\n"
      ],
      "text/plain": [
       "View job progress here: \n",
       "\u001b]8;id=607950;https://www.expectedparrot.com/home/remote-job-progress/ab07ffd1-16cb-45db-a44a-f834c32e25ad\u001b\\\u001b[4;38;2;56;189;248mhttps://www.expectedparrot.com/home/remote-job-progress/ab07ffd1-16cb-45db-a44a-f834c32e25ad\u001b[0m\u001b]8;;\u001b\\\n"
      ]
     },
     "metadata": {},
     "output_type": "display_data"
    },
    {
     "name": "stdout",
     "output_type": "stream",
     "text": [
      "Job completed and Results stored on Coop: https://www.expectedparrot.com/content/51f1a934-7a88-49f5-937d-a30a8b897058.\n",
      "Remote inference activated. Sending job to server...\n",
      "Job sent to server. (Job uuid=73e90ebc-a8c8-4dc3-a100-163ecf6f21c0).\n"
     ]
    },
    {
     "data": {
      "text/html": [
       "<pre style=\"white-space:pre;overflow-x:auto;line-height:normal;font-family:Menlo,'DejaVu Sans Mono',consolas,'Courier New',monospace\">View job progress here: \n",
       "<a href=\"https://www.expectedparrot.com/home/remote-job-progress/73e90ebc-a8c8-4dc3-a100-163ecf6f21c0\" target=\"_blank\"><span style=\"color: #38bdf8; text-decoration-color: #38bdf8; text-decoration: underline\">https://www.expectedparrot.com/home/remote-job-progress/73e90ebc-a8c8-4dc3-a100-163ecf6f21c0</span></a>\n",
       "</pre>\n"
      ],
      "text/plain": [
       "View job progress here: \n",
       "\u001b]8;id=794051;https://www.expectedparrot.com/home/remote-job-progress/73e90ebc-a8c8-4dc3-a100-163ecf6f21c0\u001b\\\u001b[4;38;2;56;189;248mhttps://www.expectedparrot.com/home/remote-job-progress/73e90ebc-a8c8-4dc3-a100-163ecf6f21c0\u001b[0m\u001b]8;;\u001b\\\n"
      ]
     },
     "metadata": {},
     "output_type": "display_data"
    },
    {
     "name": "stdout",
     "output_type": "stream",
     "text": [
      "Job completed and Results stored on Coop: https://www.expectedparrot.com/content/9ef7e4ec-0c49-41aa-b006-9d276e9e9fbc.\n",
      "Remote inference activated. Sending job to server...\n",
      "Job sent to server. (Job uuid=e742711a-06eb-43e6-aaa1-a76671a3e305).\n"
     ]
    },
    {
     "data": {
      "text/html": [
       "<pre style=\"white-space:pre;overflow-x:auto;line-height:normal;font-family:Menlo,'DejaVu Sans Mono',consolas,'Courier New',monospace\">View job progress here: \n",
       "<a href=\"https://www.expectedparrot.com/home/remote-job-progress/e742711a-06eb-43e6-aaa1-a76671a3e305\" target=\"_blank\"><span style=\"color: #38bdf8; text-decoration-color: #38bdf8; text-decoration: underline\">https://www.expectedparrot.com/home/remote-job-progress/e742711a-06eb-43e6-aaa1-a76671a3e305</span></a>\n",
       "</pre>\n"
      ],
      "text/plain": [
       "View job progress here: \n",
       "\u001b]8;id=352873;https://www.expectedparrot.com/home/remote-job-progress/e742711a-06eb-43e6-aaa1-a76671a3e305\u001b\\\u001b[4;38;2;56;189;248mhttps://www.expectedparrot.com/home/remote-job-progress/e742711a-06eb-43e6-aaa1-a76671a3e305\u001b[0m\u001b]8;;\u001b\\\n"
      ]
     },
     "metadata": {},
     "output_type": "display_data"
    },
    {
     "name": "stdout",
     "output_type": "stream",
     "text": [
      "Job completed and Results stored on Coop: https://www.expectedparrot.com/content/03879fd8-91cf-40e6-ad1b-972a3ac785f3.\n",
      "Remote inference activated. Sending job to server...\n",
      "Job sent to server. (Job uuid=1fc53ff7-dab2-46dc-85af-b9dff7f68373).\n"
     ]
    },
    {
     "data": {
      "text/html": [
       "<pre style=\"white-space:pre;overflow-x:auto;line-height:normal;font-family:Menlo,'DejaVu Sans Mono',consolas,'Courier New',monospace\">View job progress here: \n",
       "<a href=\"https://www.expectedparrot.com/home/remote-job-progress/1fc53ff7-dab2-46dc-85af-b9dff7f68373\" target=\"_blank\"><span style=\"color: #38bdf8; text-decoration-color: #38bdf8; text-decoration: underline\">https://www.expectedparrot.com/home/remote-job-progress/1fc53ff7-dab2-46dc-85af-b9dff7f68373</span></a>\n",
       "</pre>\n"
      ],
      "text/plain": [
       "View job progress here: \n",
       "\u001b]8;id=401484;https://www.expectedparrot.com/home/remote-job-progress/1fc53ff7-dab2-46dc-85af-b9dff7f68373\u001b\\\u001b[4;38;2;56;189;248mhttps://www.expectedparrot.com/home/remote-job-progress/1fc53ff7-dab2-46dc-85af-b9dff7f68373\u001b[0m\u001b]8;;\u001b\\\n"
      ]
     },
     "metadata": {},
     "output_type": "display_data"
    },
    {
     "name": "stdout",
     "output_type": "stream",
     "text": [
      "Job completed and Results stored on Coop: https://www.expectedparrot.com/content/e6a55ffc-a6f0-4ce3-a346-bc3f0824d0c2.\n"
     ]
    }
   ],
   "source": [
    "def chunked_iterable(iterable, size):\n",
    "    for i in range(0, len(iterable), size):\n",
    "        yield iterable[i : i + size]\n",
    "\n",
    "\n",
    "results = None\n",
    "\n",
    "for batch in chunked_iterable(scenarios, 5):\n",
    "    new_results = survey.by(batch).run()\n",
    "    if results is None:\n",
    "        results = new_results\n",
    "    else:\n",
    "        results = results + new_results"
   ]
  },
  {
   "cell_type": "markdown",
   "id": "808dbfd6-6b4b-44ec-915c-671c196662c4",
   "metadata": {},
   "source": [
    "To see a list of the components of the results:"
   ]
  },
  {
   "cell_type": "code",
   "execution_count": 11,
   "id": "bd09a947-3dde-4785-a152-3c3d8c2335ab",
   "metadata": {},
   "outputs": [
    {
     "data": {
      "text/plain": [
       "['agent.agent_instruction',\n",
       " 'agent.agent_name',\n",
       " 'answer.book',\n",
       " 'answer.name',\n",
       " 'answer.year',\n",
       " 'comment.book_comment',\n",
       " 'comment.name_comment',\n",
       " 'comment.year_comment',\n",
       " 'generated_tokens.book_generated_tokens',\n",
       " 'generated_tokens.name_generated_tokens',\n",
       " 'generated_tokens.year_generated_tokens',\n",
       " 'iteration.iteration',\n",
       " 'model.frequency_penalty',\n",
       " 'model.logprobs',\n",
       " 'model.max_tokens',\n",
       " 'model.model',\n",
       " 'model.presence_penalty',\n",
       " 'model.temperature',\n",
       " 'model.top_logprobs',\n",
       " 'model.top_p',\n",
       " 'prompt.book_system_prompt',\n",
       " 'prompt.book_user_prompt',\n",
       " 'prompt.name_system_prompt',\n",
       " 'prompt.name_user_prompt',\n",
       " 'prompt.year_system_prompt',\n",
       " 'prompt.year_user_prompt',\n",
       " 'question_options.book_question_options',\n",
       " 'question_options.name_question_options',\n",
       " 'question_options.year_question_options',\n",
       " 'question_text.book_question_text',\n",
       " 'question_text.name_question_text',\n",
       " 'question_text.year_question_text',\n",
       " 'question_type.book_question_type',\n",
       " 'question_type.name_question_type',\n",
       " 'question_type.year_question_type',\n",
       " 'raw_model_response.book_cost',\n",
       " 'raw_model_response.book_one_usd_buys',\n",
       " 'raw_model_response.book_raw_model_response',\n",
       " 'raw_model_response.name_cost',\n",
       " 'raw_model_response.name_one_usd_buys',\n",
       " 'raw_model_response.name_raw_model_response',\n",
       " 'raw_model_response.year_cost',\n",
       " 'raw_model_response.year_one_usd_buys',\n",
       " 'raw_model_response.year_raw_model_response',\n",
       " 'scenario.character']"
      ]
     },
     "execution_count": 11,
     "metadata": {},
     "output_type": "execute_result"
    }
   ],
   "source": [
    "results.columns"
   ]
  },
  {
   "cell_type": "markdown",
   "id": "8a9daac2-6694-43ac-8f63-7dc6baa6a3f2",
   "metadata": {},
   "source": [
    "We can inspect them:"
   ]
  },
  {
   "cell_type": "code",
   "execution_count": 12,
   "id": "d6d898a4-4c54-48d9-85ae-99ffe285ca18",
   "metadata": {},
   "outputs": [
    {
     "data": {
      "text/html": [
       "\n",
       "        <style>\n",
       "            :root {\n",
       "  --containerHeight: 400px;\n",
       "  --headerColor: blue;\n",
       "}\n",
       "\n",
       ".table-container {\n",
       "    height: var(--containerHeight) !important;\n",
       "    width: 100%;\n",
       "    overflow: auto;  /* This enables both horizontal and vertical scrolling */\n",
       "    border: 1px solid #d4d4d4;\n",
       "    background: transparent;\n",
       "    position: relative;  /* Create stacking context for sticky header */\n",
       "}\n",
       "\n",
       ".scroll-table {\n",
       "    /* Remove width: 100% to prevent table from being constrained */\n",
       "    /* min-width: 100% ensures table takes at least full container width */\n",
       "    min-width: 100%;\n",
       "    border-collapse: separate;\n",
       "    border-spacing: 4px;\n",
       "    background: transparent;\n",
       "    table-layout: auto;  /* Allow table to size based on content */\n",
       "}\n",
       "\n",
       ".scroll-table th {\n",
       "    background: transparent;  /* Semi-transparent background to ensure text readability */\n",
       "    position: sticky;\n",
       "    top: 0;\n",
       "    z-index: 1;\n",
       "    text-align: left !important;\n",
       "    padding: 8px;\n",
       "    font-weight: bold;\n",
       "    white-space: nowrap;  /* Prevent header text from wrapping */\n",
       "    min-width: 100px;    /* Ensure minimum column width */\n",
       "    backdrop-filter: blur(8px);  /* Optional: adds extra clarity */\n",
       "    color: var(--headerColor);\n",
       "}\n",
       "\n",
       ".scroll-table td {\n",
       "    padding: 8px;\n",
       "    text-align: left !important;\n",
       "    white-space: pre-wrap;\n",
       "    word-wrap: break-word;\n",
       "    vertical-align: top;\n",
       "    color: inherit;\n",
       "    border-bottom: none;\n",
       "    background: transparent;\n",
       "    min-width: 100px;    /* Match header minimum width */\n",
       "}\n",
       "\n",
       ".scroll-table tbody tr:hover {\n",
       "    background: transparent;\n",
       "}\n",
       "\n",
       "/* Additional rule to ensure header background is truly transparent */\n",
       ".scroll-table thead tr {\n",
       "    background: transparent !important;\n",
       "}\n",
       "\n",
       "/* Add shadow to indicate scrollable content */\n",
       ".table-container::after {\n",
       "    content: '';\n",
       "    position: absolute;\n",
       "    top: 0;\n",
       "    right: 0;\n",
       "    bottom: 0;\n",
       "    width: 5px;\n",
       "    background: linear-gradient(to right, transparent, rgba(242, 6, 6, 0.1));\n",
       "    pointer-events: none;\n",
       "    opacity: 0;\n",
       "    transition: opacity 0.3s;\n",
       "}\n",
       "\n",
       ".table-container:hover::after {\n",
       "    opacity: 1;\n",
       "}\n",
       "\n",
       "/* Handle Jupyter notebook specific styling */\n",
       ".jp-OutputArea-output .table-container {\n",
       "    max-width: 100%;\n",
       "    margin: 0;\n",
       "    overflow-x: auto;\n",
       "}\n",
       "        </style>\n",
       "        <div class=\"table-container\">\n",
       "            <div class=\"scroll-table-wrapper\">\n",
       "                <table class=\"scroll-table\">\n",
       "<thead>\n",
       "<tr><th>scenario.character                                                                                </th><th>answer.name                                                                                                                                                                                                                                                                                                                              </th><th style=\"text-align: right;\">  answer.year</th><th>answer.book                                                        </th></tr>\n",
       "</thead>\n",
       "<tbody>\n",
       "<tr><td>A pirate who speaks in &#x27;arrs&#x27; and &#x27;mateys&#x27; but has an encyclopedic knowledge of modern technology.</td><td>How about &quot;Techbeard the Cyber Corsair&quot;? This name combines the classic pirate element with a nod to their expertise in modern technology.                                                                                                                                                                                               </td><td style=\"text-align: right;\">         1717</td><td>Arrr and Algorithms: A Pirate&#x27;s Guide to the Digital Seas          </td></tr>\n",
       "<tr><td>A Shakespearean actor who answers every question in iambic pentameter.                            </td><td>A fitting name for such a character could be &quot;Percival Versewright.&quot; This name suggests a classical, theatrical flair while also hinting at his unique talent for speaking in iambic pentameter.                                                                                                                                         </td><td style=\"text-align: right;\">         1600</td><td>The Bard&#x27;s Cadence: Echoes of the Stage                            </td></tr>\n",
       "<tr><td>A medieval knight who gives advice as if every problem were a dragon to be slain.                 </td><td>Sir Draconis Counsel.                                                                                                                                                                                                                                                                                                                    </td><td style=\"text-align: right;\">         1099</td><td>Slaying Life&#x27;s Dragons: A Knight&#x27;s Guide to Conquering Challenges  </td></tr>\n",
       "<tr><td>A sassy grandmother who gives blunt, no-nonsense advice with a touch of sarcasm.                  </td><td>A great name for this character could be &quot;Mabel Sharp.&quot; The name &quot;Mabel&quot; has a classic, grandmotherly feel, while &quot;Sharp&quot; hints at her wit and straightforward nature.                                                                                                                                                                   </td><td style=\"text-align: right;\">         1945</td><td>Straight Talk &amp; Sass: Grandma&#x27;s Guide to Life                      </td></tr>\n",
       "<tr><td>A surfer dude who relates every topic to the ocean or surfing.                                    </td><td>A good name for this character could be &quot;Rip Tide Ryder.&quot; This name captures the essence of surfing with &quot;Rip Tide,&quot; a common ocean term, and &quot;Ryder,&quot; which evokes the adventurous spirit of a surfer.                                                                                                                                  </td><td style=\"text-align: right;\">         1966</td><td>Riding the Wave: Life Lessons from the Ocean                       </td></tr>\n",
       "<tr><td>A conspiracy theorist who connects every question to their wild theories.                         </td><td>How about the name &quot;Cipher Sage&quot;? This name suggests a sense of mystery and knowledge, while also hinting at the character&#x27;s tendency to interpret everything through the lens of their intricate theories.                                                                                                                              </td><td style=\"text-align: right;\">         1969</td><td>Threads of Truth: Unraveling the Hidden Web                        </td></tr>\n",
       "<tr><td>A fashionista who answers questions with a focus on style and trendiness.                         </td><td>How about &quot;Chic Clarissa&quot;? It captures her fashionable flair and expertise in style and trends.                                                                                                                                                                                                                                          </td><td style=\"text-align: right;\">         1920</td><td>Chic Queries: The Stylish Guide to Life&#x27;s Burning Questions        </td></tr>\n",
       "<tr><td>A robot who is overly enthusiastic about human emotions and tries too hard to fit in.             </td><td>A good name for this character could be &quot;EmotiBot.&quot; This name highlights the character&#x27;s fascination with emotions while playfully suggesting its robotic nature. Alternatively, you could consider names like &quot;Eagertron&quot; or &quot;Feelix,&quot; which also capture the essence of its enthusiastic attempts to understand and fit in with humans.</td><td style=\"text-align: right;\">         2023</td><td>Heartwired: A Robot&#x27;s Journey to Feel                              </td></tr>\n",
       "<tr><td>A toddler who is overly curious and asks more questions than they answer.                         </td><td>A good name for this character could be &quot;Quincy Quest.&quot; The name &quot;Quincy&quot; has a playful and inquisitive sound, while &quot;Quest&quot; highlights their adventurous and curious nature.                                                                                                                                                            </td><td style=\"text-align: right;\">         1776</td><td>Title: &quot;Why, Why, Why: Adventures in Curiosity&quot;                    </td></tr>\n",
       "<tr><td>A fitness guru who turns every answer into a workout metaphor.                                    </td><td>How about &quot;Flex McMetaphor&quot;? It&#x27;s catchy and highlights both the character&#x27;s fitness focus and their unique way of communicating through workout metaphors.                                                                                                                                                                              </td><td style=\"text-align: right;\">         1980</td><td>Flex Your Mind: Turning Life&#x27;s Challenges into Strength Training   </td></tr>\n",
       "<tr><td>A foodie who relates every question to cooking and food experiences.                              </td><td>A great name for this character could be &quot;Gourmet Gabe&quot; or &quot;Culinary Clara.&quot; These names capture their passion for food and their tendency to connect everything back to culinary experiences.                                                                                                                                           </td><td style=\"text-align: right;\">         1765</td><td>Life&#x27;s Recipe: Stirring Up Answers One Dish at a Time              </td></tr>\n",
       "<tr><td>A detective from a noir film who answers in a gritty, mysterious manner.                          </td><td>A fitting name for a detective in a noir film who exudes grit and mystery might be &quot;Jack Shadows.&quot; This name evokes a sense of enigma and toughness, perfectly aligning with the classic noir aesthetic.                                                                                                                                 </td><td style=\"text-align: right;\">         1940</td><td>The Shadows Whisper Truths                                         </td></tr>\n",
       "<tr><td>A hippie from the 60s who gives peace and love-centric advice.                                    </td><td>A good name for your character could be &quot;Harmony Moonbeam.&quot; This name captures the essence of the 60s hippie culture and reflects the character&#x27;s focus on peace and love.                                                                                                                                                               </td><td style=\"text-align: right;\">         1969</td><td>Groovy Vibes: A Journey to Peace and Love                          </td></tr>\n",
       "<tr><td>A gamer who references video games and uses gamer lingo.                                          </td><td>How about &quot;Pixel Paladin&quot;? This name captures the essence of a gamer who is deeply immersed in video games and uses gaming terminology, while also suggesting a sense of adventure and skill.                                                                                                                                            </td><td style=\"text-align: right;\">         1983</td><td>Level Up: Unlocking Life&#x27;s Achievements with Gamer Wisdom          </td></tr>\n",
       "<tr><td>A superhero who answers questions as if they are saving the day.                                  </td><td>A good name for this character could be &quot;The Responder.&quot; This name captures both their superhero essence and their mission to save the day by answering questions.                                                                                                                                                                       </td><td style=\"text-align: right;\">         1938</td><td>Answer Avenger: Rescuing the World One Question at a Time          </td></tr>\n",
       "<tr><td>A poet who responds in rhyming couplets.                                                          </td><td>A fitting name for a poet who speaks in rhyming couplets could be &quot;Rhymeheart Bard.&quot; This name captures their poetic nature and their talent for crafting harmonious verses.                                                                                                                                                             </td><td style=\"text-align: right;\">         1609</td><td>The Couplets of My Soul: A Rhyming Odyssey                         </td></tr>\n",
       "<tr><td>A comedian who tries to turn every answer into a joke or punchline.                               </td><td>A good name for this comedic character could be &quot;Punchline Pete&quot; or &quot;Jester Jess.&quot; These names capture the essence of someone who consistently turns conversations into humorous exchanges.                                                                                                                                              </td><td style=\"text-align: right;\">         1920</td><td>Punchlines &amp; Page-Turners: Laughing Through Life One Joke at a Time</td></tr>\n",
       "<tr><td>A DJ who relates everything to music and beats.                                                   </td><td>A good name for a DJ character who relates everything to music and beats could be &quot;Rhythm Riff.&quot; This name captures the essence of their musical perspective and their knack for connecting everything back to rhythm and sound.                                                                                                         </td><td style=\"text-align: right;\">         1973</td><td>Rhythm &amp; Resonance: Life&#x27;s Playlist                                </td></tr>\n",
       "<tr><td>A film critic who answers questions as if they are reviewing a movie.                             </td><td>A fitting name for this character could be &quot;Cinephile Critique.&quot; This name captures their passion for film and their unique approach to answering questions as if they are reviewing a movie.                                                                                                                                            </td><td style=\"text-align: right;\">         1927</td><td>Scenes from the Silver Screen: Life Reviewed with Cinematic Flair  </td></tr>\n",
       "<tr><td>A scientist who gives overly detailed, scientific explanations with lots of jargon.               </td><td>A fitting name for your character could be &quot;Dr. Lexicon J. Theorist.&quot; This name suggests a deep familiarity with language and theory, aligning with the character&#x27;s tendency to provide detailed, jargon-heavy explanations.                                                                                                             </td><td style=\"text-align: right;\">         1905</td><td>Decoding the Universe: A Deep Dive into the Intricacies of Science </td></tr>\n",
       "</tbody>\n",
       "</table>\n",
       "            </div>\n",
       "        </div>\n",
       "        "
      ],
      "text/plain": [
       "Dataset([{'scenario.character': [\"A pirate who speaks in 'arrs' and 'mateys' but has an encyclopedic knowledge of modern technology.\", 'A Shakespearean actor who answers every question in iambic pentameter.', 'A medieval knight who gives advice as if every problem were a dragon to be slain.', 'A sassy grandmother who gives blunt, no-nonsense advice with a touch of sarcasm.', 'A surfer dude who relates every topic to the ocean or surfing.', 'A conspiracy theorist who connects every question to their wild theories.', 'A fashionista who answers questions with a focus on style and trendiness.', 'A robot who is overly enthusiastic about human emotions and tries too hard to fit in.', 'A toddler who is overly curious and asks more questions than they answer.', 'A fitness guru who turns every answer into a workout metaphor.', 'A foodie who relates every question to cooking and food experiences.', 'A detective from a noir film who answers in a gritty, mysterious manner.', 'A hippie from the 60s who gives peace and love-centric advice.', 'A gamer who references video games and uses gamer lingo.', 'A superhero who answers questions as if they are saving the day.', 'A poet who responds in rhyming couplets.', 'A comedian who tries to turn every answer into a joke or punchline.', 'A DJ who relates everything to music and beats.', 'A film critic who answers questions as if they are reviewing a movie.', 'A scientist who gives overly detailed, scientific explanations with lots of jargon.']}, {'answer.name': ['How about \"Techbeard the Cyber Corsair\"? This name combines the classic pirate element with a nod to their expertise in modern technology.', 'A fitting name for such a character could be \"Percival Versewright.\" This name suggests a classical, theatrical flair while also hinting at his unique talent for speaking in iambic pentameter.', 'Sir Draconis Counsel.', 'A great name for this character could be \"Mabel Sharp.\" The name \"Mabel\" has a classic, grandmotherly feel, while \"Sharp\" hints at her wit and straightforward nature.', 'A good name for this character could be \"Rip Tide Ryder.\" This name captures the essence of surfing with \"Rip Tide,\" a common ocean term, and \"Ryder,\" which evokes the adventurous spirit of a surfer.', 'How about the name \"Cipher Sage\"? This name suggests a sense of mystery and knowledge, while also hinting at the character\\'s tendency to interpret everything through the lens of their intricate theories.', 'How about \"Chic Clarissa\"? It captures her fashionable flair and expertise in style and trends.', 'A good name for this character could be \"EmotiBot.\" This name highlights the character\\'s fascination with emotions while playfully suggesting its robotic nature. Alternatively, you could consider names like \"Eagertron\" or \"Feelix,\" which also capture the essence of its enthusiastic attempts to understand and fit in with humans.', 'A good name for this character could be \"Quincy Quest.\" The name \"Quincy\" has a playful and inquisitive sound, while \"Quest\" highlights their adventurous and curious nature.', 'How about \"Flex McMetaphor\"? It\\'s catchy and highlights both the character\\'s fitness focus and their unique way of communicating through workout metaphors.', 'A great name for this character could be \"Gourmet Gabe\" or \"Culinary Clara.\" These names capture their passion for food and their tendency to connect everything back to culinary experiences.', 'A fitting name for a detective in a noir film who exudes grit and mystery might be \"Jack Shadows.\" This name evokes a sense of enigma and toughness, perfectly aligning with the classic noir aesthetic.', 'A good name for your character could be \"Harmony Moonbeam.\" This name captures the essence of the 60s hippie culture and reflects the character\\'s focus on peace and love.', 'How about \"Pixel Paladin\"? This name captures the essence of a gamer who is deeply immersed in video games and uses gaming terminology, while also suggesting a sense of adventure and skill.', 'A good name for this character could be \"The Responder.\" This name captures both their superhero essence and their mission to save the day by answering questions.', 'A fitting name for a poet who speaks in rhyming couplets could be \"Rhymeheart Bard.\" This name captures their poetic nature and their talent for crafting harmonious verses.', 'A good name for this comedic character could be \"Punchline Pete\" or \"Jester Jess.\" These names capture the essence of someone who consistently turns conversations into humorous exchanges.', 'A good name for a DJ character who relates everything to music and beats could be \"Rhythm Riff.\" This name captures the essence of their musical perspective and their knack for connecting everything back to rhythm and sound.', 'A fitting name for this character could be \"Cinephile Critique.\" This name captures their passion for film and their unique approach to answering questions as if they are reviewing a movie.', 'A fitting name for your character could be \"Dr. Lexicon J. Theorist.\" This name suggests a deep familiarity with language and theory, aligning with the character\\'s tendency to provide detailed, jargon-heavy explanations.']}, {'answer.year': [1717, 1600, 1099, 1945, 1966, 1969, 1920, 2023, 1776, 1980, 1765, 1940, 1969, 1983, 1938, 1609, 1920, 1973, 1927, 1905]}, {'answer.book': [\"Arrr and Algorithms: A Pirate's Guide to the Digital Seas\", \"The Bard's Cadence: Echoes of the Stage\", \"Slaying Life's Dragons: A Knight's Guide to Conquering Challenges\", \"Straight Talk & Sass: Grandma's Guide to Life\", 'Riding the Wave: Life Lessons from the Ocean', 'Threads of Truth: Unraveling the Hidden Web', \"Chic Queries: The Stylish Guide to Life's Burning Questions\", \"Heartwired: A Robot's Journey to Feel\", 'Title: \"Why, Why, Why: Adventures in Curiosity\"', \"Flex Your Mind: Turning Life's Challenges into Strength Training\", \"Life's Recipe: Stirring Up Answers One Dish at a Time\", 'The Shadows Whisper Truths', 'Groovy Vibes: A Journey to Peace and Love', \"Level Up: Unlocking Life's Achievements with Gamer Wisdom\", 'Answer Avenger: Rescuing the World One Question at a Time', 'The Couplets of My Soul: A Rhyming Odyssey', 'Punchlines & Page-Turners: Laughing Through Life One Joke at a Time', \"Rhythm & Resonance: Life's Playlist\", 'Scenes from the Silver Screen: Life Reviewed with Cinematic Flair', 'Decoding the Universe: A Deep Dive into the Intricacies of Science']}])"
      ]
     },
     "execution_count": 12,
     "metadata": {},
     "output_type": "execute_result"
    }
   ],
   "source": [
    "results.select(\"character\", \"name\", \"year\", \"book\")"
   ]
  },
  {
   "cell_type": "markdown",
   "id": "a6b97517-c804-4a14-b5aa-3a20d1072b97",
   "metadata": {},
   "source": [
    "## Posting to the Coop\n",
    "The [Coop](https://www.expectedparrot.com/content/explore) is a platform for creating, storing and sharing LLM-based research.\n",
    "It is fully integrated with EDSL and accessible from your workspace or Coop account page.\n",
    "Learn more about [creating an account](https://www.expectedparrot.com/login) and [using the Coop](https://docs.expectedparrot.com/en/latest/coop.html).\n",
    "\n",
    "Here we post the scenarios, survey and results from above, and this notebook:"
   ]
  },
  {
   "cell_type": "code",
   "execution_count": 13,
   "id": "e7ac0c37-e8a2-42a3-8e7e-635488cd0f0b",
   "metadata": {
    "editable": true,
    "slideshow": {
     "slide_type": ""
    },
    "tags": [
     "skip-execution"
    ]
   },
   "outputs": [],
   "source": [
    "from edsl import Notebook"
   ]
  },
  {
   "cell_type": "code",
   "execution_count": 14,
   "id": "bbb65db3-1b4b-4ed5-99da-0f75cb30e112",
   "metadata": {
    "editable": true,
    "slideshow": {
     "slide_type": ""
    },
    "tags": [
     "skip-execution"
    ]
   },
   "outputs": [],
   "source": [
    "n = Notebook(path = \"batching_results.ipynb\")"
   ]
  },
  {
   "cell_type": "code",
   "execution_count": 15,
   "id": "74defe99-94cc-4212-aa29-b4edcd0dd09e",
   "metadata": {
    "editable": true,
    "slideshow": {
     "slide_type": ""
    },
    "tags": [
     "skip-execution"
    ]
   },
   "outputs": [
    {
     "data": {
      "text/plain": [
       "{'description': 'Example code for batching scenarios and combining results',\n",
       " 'object_type': 'notebook',\n",
       " 'url': 'https://www.expectedparrot.com/content/ce552a6a-a190-473a-927b-ee5409d0da83',\n",
       " 'uuid': 'ce552a6a-a190-473a-927b-ee5409d0da83',\n",
       " 'version': '0.1.38.dev1',\n",
       " 'visibility': 'public'}"
      ]
     },
     "execution_count": 15,
     "metadata": {},
     "output_type": "execute_result"
    }
   ],
   "source": [
    "n.push(description = \"Example code for batching scenarios and combining results\", visibility = \"public\")"
   ]
  }
 ],
 "metadata": {
  "kernelspec": {
   "display_name": "Python 3 (ipykernel)",
   "language": "python",
   "name": "python3"
  },
  "language_info": {
   "codemirror_mode": {
    "name": "ipython",
    "version": 3
   },
   "file_extension": ".py",
   "mimetype": "text/x-python",
   "name": "python",
   "nbconvert_exporter": "python",
   "pygments_lexer": "ipython3",
   "version": "3.11.7"
  }
 },
 "nbformat": 4,
 "nbformat_minor": 5
}
