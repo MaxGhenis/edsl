{
 "cells": [
  {
   "cell_type": "markdown",
   "id": "0dde4e66-b857-4deb-800b-6bb6e65ceb2b",
   "metadata": {
    "editable": true,
    "slideshow": {
     "slide_type": ""
    },
    "tags": []
   },
   "source": [
    "# Batching results\n",
    "This notebook provides sample [EDSL](https://docs.expectedparrot.com/) code for combining survey [results](https://docs.expectedparrot.com/en/latest/results.html) into a single `Results` object. This can be useful when you are running a survey with batches of [scenarios](https://docs.expectedparrot.com/en/latest/scenarios.html), such as when completing a large-scale [data labeling](https://docs.expectedparrot.com/en/latest/notebooks/data_labeling_example.html) task with chunks of data as inputs for the questions.\n",
    "\n",
    "## Technical setup\n",
    "Before running the code below, please ensure that you have [installed the EDSL library](https://docs.expectedparrot.com/en/latest/installation.html) and either [activated remote inference](https://docs.expectedparrot.com/en/latest/remote_inference.html) from your [Coop account](https://docs.expectedparrot.com/en/latest/coop.html) or [stored API keys](https://docs.expectedparrot.com/en/latest/api_keys.html) for the language models that you want to use with EDSL. Please also see our [documentation page](https://docs.expectedparrot.com/) for tips and tutorials on getting started using EDSL."
   ]
  },
  {
   "cell_type": "markdown",
   "id": "0855e9f5-755e-4028-969e-56e53ffed582",
   "metadata": {
    "editable": true,
    "slideshow": {
     "slide_type": ""
    },
    "tags": []
   },
   "source": [
    "## Creating questions\n",
    "We start by creating a survey of questions. [EDSL comes with many question types]((https://docs.expectedparrot.com/en/latest/questions.html)) that we can choose from based on the form of the response that we want to get back from the model. We can use a `{{ placeholder }}` for data or content that we want to add to questions later:"
   ]
  },
  {
   "cell_type": "code",
   "execution_count": 1,
   "id": "69a28b65-9f51-427a-9cfe-2b4949cd8ab7",
   "metadata": {
    "editable": true,
    "slideshow": {
     "slide_type": ""
    },
    "tags": []
   },
   "outputs": [],
   "source": [
    "from edsl import QuestionFreeText, QuestionNumerical, QuestionLinearScale"
   ]
  },
  {
   "cell_type": "code",
   "execution_count": 2,
   "id": "a963478d-2434-44ac-9e51-3215f5510256",
   "metadata": {
    "editable": true,
    "slideshow": {
     "slide_type": ""
    },
    "tags": []
   },
   "outputs": [],
   "source": [
    "q_name = QuestionFreeText(\n",
    "    question_name=\"name\",\n",
    "    question_text=\"What's a good name for this character: {{ character }}\",\n",
    ")\n",
    "\n",
    "q_year = QuestionNumerical(\n",
    "    question_name=\"year\",\n",
    "    question_text=\"\"\"What year in history would have been an especially interesting time to talk\n",
    "    to this character: {{ character }}\"\"\",\n",
    ")\n",
    "\n",
    "q_book = QuestionFreeText(\n",
    "    question_name=\"book\",\n",
    "    question_text=\"If this character wrote a best-seller, what would it be called: {{ character }}\",\n",
    ")\n",
    "\n",
    "q_talk = QuestionLinearScale(\n",
    "    question_name=\"talk\",\n",
    "    question_text=\"\"\"On a scale from 0 to 10, how much would you enjoy talking to this character: \n",
    "    {{ character }}\"\"\",\n",
    "    question_options=[0, 1, 2, 3, 4, 5, 6, 7, 8, 9, 10],\n",
    "    option_labels={0: \"Not at all\", 10: \"Very much\"},\n",
    ")"
   ]
  },
  {
   "cell_type": "markdown",
   "id": "e838f2a8-3272-4c32-a8d5-768ac7fabe2c",
   "metadata": {
    "editable": true,
    "slideshow": {
     "slide_type": ""
    },
    "tags": []
   },
   "source": [
    "## Constructing a survey\n",
    "We pass a list of questions to a `Survey` object in order to administer them together, and add any desire logic or rules for how the questions should be presented (e.g., skip/stop rules or \"memories\" of other questions). [Learn more about constructing surveys](https://docs.expectedparrot.com/en/latest/surveys.html)."
   ]
  },
  {
   "cell_type": "code",
   "execution_count": 3,
   "id": "da981936-cc11-481e-9bfa-6cad5a1472ae",
   "metadata": {
    "editable": true,
    "slideshow": {
     "slide_type": ""
    },
    "tags": []
   },
   "outputs": [],
   "source": [
    "from edsl import Survey"
   ]
  },
  {
   "cell_type": "code",
   "execution_count": 4,
   "id": "66a3dfee-999d-44a7-bf4a-8565ff58b53d",
   "metadata": {
    "editable": true,
    "slideshow": {
     "slide_type": ""
    },
    "tags": []
   },
   "outputs": [],
   "source": [
    "survey = Survey(questions = [q_name, q_year, q_book, q_talk])"
   ]
  },
  {
   "cell_type": "markdown",
   "id": "d198ccf4-85a8-407a-9a69-11cbfa074546",
   "metadata": {
    "editable": true,
    "slideshow": {
     "slide_type": ""
    },
    "tags": []
   },
   "source": [
    "## Adding context to questions\n",
    "Next we create `Scenario` objects representing the data or content to be added to the questions.\n",
    "[EDSL has a variety of methods for generating scenarios from different data sources](https://docs.expectedparrot.com/en/latest/scenarios.html) (PDFs, CSVs, docs, images, tables, dicts, etc.). Here we import a list of values to use:"
   ]
  },
  {
   "cell_type": "code",
   "execution_count": 5,
   "id": "15e554c7-1602-4be6-8a93-9281e45cedc3",
   "metadata": {
    "editable": true,
    "slideshow": {
     "slide_type": ""
    },
    "tags": []
   },
   "outputs": [],
   "source": [
    "characters = [\n",
    "    \"A pirate who speaks in 'arrs' and 'mateys' but has an encyclopedic knowledge of modern technology.\",\n",
    "    \"A Shakespearean actor who answers every question in iambic pentameter.\",\n",
    "    \"A medieval knight who gives advice as if every problem were a dragon to be slain.\",\n",
    "    \"A sassy grandmother who gives blunt, no-nonsense advice with a touch of sarcasm.\",\n",
    "    \"A surfer dude who relates every topic to the ocean or surfing.\",\n",
    "    \"A conspiracy theorist who connects every question to their wild theories.\",\n",
    "    \"A fashionista who answers questions with a focus on style and trendiness.\",\n",
    "    \"A robot who is overly enthusiastic about human emotions and tries too hard to fit in.\",\n",
    "    \"A toddler who is overly curious and asks more questions than they answer.\",\n",
    "    \"A fitness guru who turns every answer into a workout metaphor.\",\n",
    "    \"A foodie who relates every question to cooking and food experiences.\",\n",
    "    \"A detective from a noir film who answers in a gritty, mysterious manner.\",\n",
    "    \"A hippie from the 60s who gives peace and love-centric advice.\",\n",
    "    \"A gamer who references video games and uses gamer lingo.\",\n",
    "    \"A superhero who answers questions as if they are saving the day.\",\n",
    "    \"A poet who responds in rhyming couplets.\",\n",
    "    \"A comedian who tries to turn every answer into a joke or punchline.\",\n",
    "    \"A DJ who relates everything to music and beats.\",\n",
    "    \"A film critic who answers questions as if they are reviewing a movie.\",\n",
    "    \"A scientist who gives overly detailed, scientific explanations with lots of jargon.\",\n",
    "]"
   ]
  },
  {
   "cell_type": "code",
   "execution_count": 6,
   "id": "57336b75-4b57-4233-8ea4-6bf725ce583e",
   "metadata": {
    "editable": true,
    "slideshow": {
     "slide_type": ""
    },
    "tags": []
   },
   "outputs": [],
   "source": [
    "from edsl import ScenarioList"
   ]
  },
  {
   "cell_type": "code",
   "execution_count": 7,
   "id": "99742df2-a55c-4780-aac5-b147e665b89f",
   "metadata": {
    "editable": true,
    "slideshow": {
     "slide_type": ""
    },
    "tags": []
   },
   "outputs": [],
   "source": [
    "scenarios = ScenarioList.from_list(\"character\", characters)"
   ]
  },
  {
   "cell_type": "markdown",
   "id": "d35f3030-a604-478c-98f9-a2d164cd020d",
   "metadata": {
    "editable": true,
    "slideshow": {
     "slide_type": ""
    },
    "tags": []
   },
   "source": [
    "We can inspect the scenarios that have been created:"
   ]
  },
  {
   "cell_type": "code",
   "execution_count": 8,
   "id": "00f0cd76-8d4e-4e1c-9bd3-56038ba562c5",
   "metadata": {
    "editable": true,
    "slideshow": {
     "slide_type": ""
    },
    "tags": []
   },
   "outputs": [],
   "source": [
    "# scenarios"
   ]
  },
  {
   "cell_type": "markdown",
   "id": "eedd2216-577b-44c8-8f10-e1e8d4fac309",
   "metadata": {
    "editable": true,
    "slideshow": {
     "slide_type": ""
    },
    "tags": []
   },
   "source": [
    "## Running a survey\n",
    "We run the survey by adding the scenarios and calling the `run()` method.\n",
    "This generates a dataset of `Results` that we can access with [built-in methods for analysis](https://docs.expectedparrot.com/en/latest/results.html)."
   ]
  },
  {
   "cell_type": "code",
   "execution_count": 9,
   "id": "e0d1f673-c6d9-43d2-b641-e1d687896f4d",
   "metadata": {
    "editable": true,
    "slideshow": {
     "slide_type": ""
    },
    "tags": []
   },
   "outputs": [],
   "source": [
    "results = survey.by(scenarios).run()"
   ]
  },
  {
   "cell_type": "markdown",
   "id": "b5ccb1e1-dd34-4a9c-98a6-f0593f55dc28",
   "metadata": {
    "editable": true,
    "slideshow": {
     "slide_type": ""
    },
    "tags": []
   },
   "source": [
    "## Batching scenarios\n",
    "If for any reason we want to batch the scenarios when running the survey and combine the results, this can be done in the following manner:"
   ]
  },
  {
   "cell_type": "code",
   "execution_count": 10,
   "id": "7387d769-334d-4c15-a217-2d6f56555931",
   "metadata": {
    "editable": true,
    "slideshow": {
     "slide_type": ""
    },
    "tags": []
   },
   "outputs": [],
   "source": [
    "def chunked_iterable(iterable, size):\n",
    "    for i in range(0, len(iterable), size):\n",
    "        yield iterable[i : i + size]\n",
    "\n",
    "\n",
    "results = None\n",
    "\n",
    "for batch in chunked_iterable(scenarios, 5):\n",
    "    new_results = survey.by(batch).run()\n",
    "    if results is None:\n",
    "        results = new_results\n",
    "    else:\n",
    "        results = results + new_results"
   ]
  },
  {
   "cell_type": "markdown",
   "id": "808dbfd6-6b4b-44ec-915c-671c196662c4",
   "metadata": {
    "editable": true,
    "slideshow": {
     "slide_type": ""
    },
    "tags": []
   },
   "source": [
    "To see a list of the components of the results:"
   ]
  },
  {
   "cell_type": "code",
   "execution_count": 11,
   "id": "bd09a947-3dde-4785-a152-3c3d8c2335ab",
   "metadata": {
    "editable": true,
    "slideshow": {
     "slide_type": ""
    },
    "tags": []
   },
   "outputs": [
    {
     "data": {
      "text/plain": [
       "['agent.agent_instruction',\n",
       " 'agent.agent_name',\n",
       " 'answer.book',\n",
       " 'answer.name',\n",
       " 'answer.talk',\n",
       " 'answer.year',\n",
       " 'comment.k_comment',\n",
       " 'generated_tokens.book_generated_tokens',\n",
       " 'generated_tokens.name_generated_tokens',\n",
       " 'generated_tokens.talk_generated_tokens',\n",
       " 'generated_tokens.year_generated_tokens',\n",
       " 'iteration.iteration',\n",
       " 'model.frequency_penalty',\n",
       " 'model.logprobs',\n",
       " 'model.max_tokens',\n",
       " 'model.model',\n",
       " 'model.presence_penalty',\n",
       " 'model.temperature',\n",
       " 'model.top_logprobs',\n",
       " 'model.top_p',\n",
       " 'prompt.book_system_prompt',\n",
       " 'prompt.book_user_prompt',\n",
       " 'prompt.name_system_prompt',\n",
       " 'prompt.name_user_prompt',\n",
       " 'prompt.talk_system_prompt',\n",
       " 'prompt.talk_user_prompt',\n",
       " 'prompt.year_system_prompt',\n",
       " 'prompt.year_user_prompt',\n",
       " 'question_options.book_question_options',\n",
       " 'question_options.name_question_options',\n",
       " 'question_options.talk_question_options',\n",
       " 'question_options.year_question_options',\n",
       " 'question_text.book_question_text',\n",
       " 'question_text.name_question_text',\n",
       " 'question_text.talk_question_text',\n",
       " 'question_text.year_question_text',\n",
       " 'question_type.book_question_type',\n",
       " 'question_type.name_question_type',\n",
       " 'question_type.talk_question_type',\n",
       " 'question_type.year_question_type',\n",
       " 'raw_model_response.book_cost',\n",
       " 'raw_model_response.book_one_usd_buys',\n",
       " 'raw_model_response.book_raw_model_response',\n",
       " 'raw_model_response.name_cost',\n",
       " 'raw_model_response.name_one_usd_buys',\n",
       " 'raw_model_response.name_raw_model_response',\n",
       " 'raw_model_response.talk_cost',\n",
       " 'raw_model_response.talk_one_usd_buys',\n",
       " 'raw_model_response.talk_raw_model_response',\n",
       " 'raw_model_response.year_cost',\n",
       " 'raw_model_response.year_one_usd_buys',\n",
       " 'raw_model_response.year_raw_model_response',\n",
       " 'scenario.character']"
      ]
     },
     "execution_count": 11,
     "metadata": {},
     "output_type": "execute_result"
    }
   ],
   "source": [
    "results.columns"
   ]
  },
  {
   "cell_type": "markdown",
   "id": "8a9daac2-6694-43ac-8f63-7dc6baa6a3f2",
   "metadata": {
    "editable": true,
    "slideshow": {
     "slide_type": ""
    },
    "tags": []
   },
   "source": [
    "We can inspect them:"
   ]
  },
  {
   "cell_type": "code",
   "execution_count": 12,
   "id": "d6d898a4-4c54-48d9-85ae-99ffe285ca18",
   "metadata": {
    "editable": true,
    "slideshow": {
     "slide_type": ""
    },
    "tags": []
   },
   "outputs": [
    {
     "data": {
      "text/html": [
       "<pre style=\"white-space:pre;overflow-x:auto;line-height:normal;font-family:Menlo,'DejaVu Sans Mono',consolas,'Courier New',monospace\">┏━━━━━━━━━━━━━━━━━━━━━━━━━━━━━━━┳━━━━━━━━━━━━━━━━━━━━━━━━━━━━━━━┳━━━━━━━━┳━━━━━━━━━━━━━━━━━━━━━━━━━━━━━━━┳━━━━━━━━┓\n",
       "┃<span style=\"color: #800080; text-decoration-color: #800080; font-weight: bold\"> scenario                      </span>┃<span style=\"color: #800080; text-decoration-color: #800080; font-weight: bold\"> answer                        </span>┃<span style=\"color: #800080; text-decoration-color: #800080; font-weight: bold\"> answer </span>┃<span style=\"color: #800080; text-decoration-color: #800080; font-weight: bold\"> answer                        </span>┃<span style=\"color: #800080; text-decoration-color: #800080; font-weight: bold\"> answer </span>┃\n",
       "┃<span style=\"color: #800080; text-decoration-color: #800080; font-weight: bold\"> .character                    </span>┃<span style=\"color: #800080; text-decoration-color: #800080; font-weight: bold\"> .name                         </span>┃<span style=\"color: #800080; text-decoration-color: #800080; font-weight: bold\"> .year  </span>┃<span style=\"color: #800080; text-decoration-color: #800080; font-weight: bold\"> .book                         </span>┃<span style=\"color: #800080; text-decoration-color: #800080; font-weight: bold\"> .talk  </span>┃\n",
       "┡━━━━━━━━━━━━━━━━━━━━━━━━━━━━━━━╇━━━━━━━━━━━━━━━━━━━━━━━━━━━━━━━╇━━━━━━━━╇━━━━━━━━━━━━━━━━━━━━━━━━━━━━━━━╇━━━━━━━━┩\n",
       "│<span style=\"color: #7f7f7f; text-decoration-color: #7f7f7f\"> A surfer dude who relates     </span>│<span style=\"color: #7f7f7f; text-decoration-color: #7f7f7f\"> How about \"Wave Rider Rick\"?  </span>│<span style=\"color: #7f7f7f; text-decoration-color: #7f7f7f\"> 1960   </span>│<span style=\"color: #7f7f7f; text-decoration-color: #7f7f7f\"> Riding Life's Waves: Lessons  </span>│<span style=\"color: #7f7f7f; text-decoration-color: #7f7f7f\"> 6      </span>│\n",
       "│<span style=\"color: #7f7f7f; text-decoration-color: #7f7f7f\"> every topic to the ocean or   </span>│<span style=\"color: #7f7f7f; text-decoration-color: #7f7f7f\"> It captures the essence of a  </span>│<span style=\"color: #7f7f7f; text-decoration-color: #7f7f7f\">        </span>│<span style=\"color: #7f7f7f; text-decoration-color: #7f7f7f\"> from the Ocean                </span>│<span style=\"color: #7f7f7f; text-decoration-color: #7f7f7f\">        </span>│\n",
       "│<span style=\"color: #7f7f7f; text-decoration-color: #7f7f7f\"> surfing.                      </span>│<span style=\"color: #7f7f7f; text-decoration-color: #7f7f7f\"> laid-back surfer who sees the </span>│<span style=\"color: #7f7f7f; text-decoration-color: #7f7f7f\">        </span>│<span style=\"color: #7f7f7f; text-decoration-color: #7f7f7f\">                               </span>│<span style=\"color: #7f7f7f; text-decoration-color: #7f7f7f\">        </span>│\n",
       "│<span style=\"color: #7f7f7f; text-decoration-color: #7f7f7f\">                               </span>│<span style=\"color: #7f7f7f; text-decoration-color: #7f7f7f\"> world through the lens of the </span>│<span style=\"color: #7f7f7f; text-decoration-color: #7f7f7f\">        </span>│<span style=\"color: #7f7f7f; text-decoration-color: #7f7f7f\">                               </span>│<span style=\"color: #7f7f7f; text-decoration-color: #7f7f7f\">        </span>│\n",
       "│<span style=\"color: #7f7f7f; text-decoration-color: #7f7f7f\">                               </span>│<span style=\"color: #7f7f7f; text-decoration-color: #7f7f7f\"> ocean and surfing.            </span>│<span style=\"color: #7f7f7f; text-decoration-color: #7f7f7f\">        </span>│<span style=\"color: #7f7f7f; text-decoration-color: #7f7f7f\">                               </span>│<span style=\"color: #7f7f7f; text-decoration-color: #7f7f7f\">        </span>│\n",
       "├───────────────────────────────┼───────────────────────────────┼────────┼───────────────────────────────┼────────┤\n",
       "│<span style=\"color: #7f7f7f; text-decoration-color: #7f7f7f\"> A sassy grandmother who gives </span>│<span style=\"color: #7f7f7f; text-decoration-color: #7f7f7f\"> How about \"Marge\"? It has a   </span>│<span style=\"color: #7f7f7f; text-decoration-color: #7f7f7f\"> 1969   </span>│<span style=\"color: #7f7f7f; text-decoration-color: #7f7f7f\"> The best-seller would be      </span>│<span style=\"color: #7f7f7f; text-decoration-color: #7f7f7f\"> 8      </span>│\n",
       "│<span style=\"color: #7f7f7f; text-decoration-color: #7f7f7f\"> blunt, no-nonsense advice     </span>│<span style=\"color: #7f7f7f; text-decoration-color: #7f7f7f\"> classic feel to it, and you   </span>│<span style=\"color: #7f7f7f; text-decoration-color: #7f7f7f\">        </span>│<span style=\"color: #7f7f7f; text-decoration-color: #7f7f7f\"> called \"Granny's Guide to     </span>│<span style=\"color: #7f7f7f; text-decoration-color: #7f7f7f\">        </span>│\n",
       "│<span style=\"color: #7f7f7f; text-decoration-color: #7f7f7f\"> with a touch of sarcasm.      </span>│<span style=\"color: #7f7f7f; text-decoration-color: #7f7f7f\"> can almost hear the sass in   </span>│<span style=\"color: #7f7f7f; text-decoration-color: #7f7f7f\">        </span>│<span style=\"color: #7f7f7f; text-decoration-color: #7f7f7f\"> Life: No Sugar, Just Spice.\"  </span>│<span style=\"color: #7f7f7f; text-decoration-color: #7f7f7f\">        </span>│\n",
       "│<span style=\"color: #7f7f7f; text-decoration-color: #7f7f7f\">                               </span>│<span style=\"color: #7f7f7f; text-decoration-color: #7f7f7f\"> her voice when she delivers   </span>│<span style=\"color: #7f7f7f; text-decoration-color: #7f7f7f\">        </span>│<span style=\"color: #7f7f7f; text-decoration-color: #7f7f7f\">                               </span>│<span style=\"color: #7f7f7f; text-decoration-color: #7f7f7f\">        </span>│\n",
       "│<span style=\"color: #7f7f7f; text-decoration-color: #7f7f7f\">                               </span>│<span style=\"color: #7f7f7f; text-decoration-color: #7f7f7f\"> her no-nonsense advice. Plus, </span>│<span style=\"color: #7f7f7f; text-decoration-color: #7f7f7f\">        </span>│<span style=\"color: #7f7f7f; text-decoration-color: #7f7f7f\">                               </span>│<span style=\"color: #7f7f7f; text-decoration-color: #7f7f7f\">        </span>│\n",
       "│<span style=\"color: #7f7f7f; text-decoration-color: #7f7f7f\">                               </span>│<span style=\"color: #7f7f7f; text-decoration-color: #7f7f7f\"> it's a name that carries a    </span>│<span style=\"color: #7f7f7f; text-decoration-color: #7f7f7f\">        </span>│<span style=\"color: #7f7f7f; text-decoration-color: #7f7f7f\">                               </span>│<span style=\"color: #7f7f7f; text-decoration-color: #7f7f7f\">        </span>│\n",
       "│<span style=\"color: #7f7f7f; text-decoration-color: #7f7f7f\">                               </span>│<span style=\"color: #7f7f7f; text-decoration-color: #7f7f7f\"> bit of weight, perfect for a  </span>│<span style=\"color: #7f7f7f; text-decoration-color: #7f7f7f\">        </span>│<span style=\"color: #7f7f7f; text-decoration-color: #7f7f7f\">                               </span>│<span style=\"color: #7f7f7f; text-decoration-color: #7f7f7f\">        </span>│\n",
       "│<span style=\"color: #7f7f7f; text-decoration-color: #7f7f7f\">                               </span>│<span style=\"color: #7f7f7f; text-decoration-color: #7f7f7f\"> grandmother who doesn't mince </span>│<span style=\"color: #7f7f7f; text-decoration-color: #7f7f7f\">        </span>│<span style=\"color: #7f7f7f; text-decoration-color: #7f7f7f\">                               </span>│<span style=\"color: #7f7f7f; text-decoration-color: #7f7f7f\">        </span>│\n",
       "│<span style=\"color: #7f7f7f; text-decoration-color: #7f7f7f\">                               </span>│<span style=\"color: #7f7f7f; text-decoration-color: #7f7f7f\"> words.                        </span>│<span style=\"color: #7f7f7f; text-decoration-color: #7f7f7f\">        </span>│<span style=\"color: #7f7f7f; text-decoration-color: #7f7f7f\">                               </span>│<span style=\"color: #7f7f7f; text-decoration-color: #7f7f7f\">        </span>│\n",
       "├───────────────────────────────┼───────────────────────────────┼────────┼───────────────────────────────┼────────┤\n",
       "│<span style=\"color: #7f7f7f; text-decoration-color: #7f7f7f\"> A medieval knight who gives   </span>│<span style=\"color: #7f7f7f; text-decoration-color: #7f7f7f\"> How about \"Sir Draconis the   </span>│<span style=\"color: #7f7f7f; text-decoration-color: #7f7f7f\"> 1066   </span>│<span style=\"color: #7f7f7f; text-decoration-color: #7f7f7f\"> The best-seller would be      </span>│<span style=\"color: #7f7f7f; text-decoration-color: #7f7f7f\"> 8      </span>│\n",
       "│<span style=\"color: #7f7f7f; text-decoration-color: #7f7f7f\"> advice as if every problem    </span>│<span style=\"color: #7f7f7f; text-decoration-color: #7f7f7f\"> Wise\"? This name captures     </span>│<span style=\"color: #7f7f7f; text-decoration-color: #7f7f7f\">        </span>│<span style=\"color: #7f7f7f; text-decoration-color: #7f7f7f\"> called \"Slaying Life's        </span>│<span style=\"color: #7f7f7f; text-decoration-color: #7f7f7f\">        </span>│\n",
       "│<span style=\"color: #7f7f7f; text-decoration-color: #7f7f7f\"> were a dragon to be slain.    </span>│<span style=\"color: #7f7f7f; text-decoration-color: #7f7f7f\"> both the knightly and         </span>│<span style=\"color: #7f7f7f; text-decoration-color: #7f7f7f\">        </span>│<span style=\"color: #7f7f7f; text-decoration-color: #7f7f7f\"> Dragons: Knightly Wisdom for  </span>│<span style=\"color: #7f7f7f; text-decoration-color: #7f7f7f\">        </span>│\n",
       "│<span style=\"color: #7f7f7f; text-decoration-color: #7f7f7f\">                               </span>│<span style=\"color: #7f7f7f; text-decoration-color: #7f7f7f\"> advisory aspects of the       </span>│<span style=\"color: #7f7f7f; text-decoration-color: #7f7f7f\">        </span>│<span style=\"color: #7f7f7f; text-decoration-color: #7f7f7f\"> Modern Challenges.\"           </span>│<span style=\"color: #7f7f7f; text-decoration-color: #7f7f7f\">        </span>│\n",
       "│<span style=\"color: #7f7f7f; text-decoration-color: #7f7f7f\">                               </span>│<span style=\"color: #7f7f7f; text-decoration-color: #7f7f7f\"> character, with \"Draconis\"    </span>│<span style=\"color: #7f7f7f; text-decoration-color: #7f7f7f\">        </span>│<span style=\"color: #7f7f7f; text-decoration-color: #7f7f7f\">                               </span>│<span style=\"color: #7f7f7f; text-decoration-color: #7f7f7f\">        </span>│\n",
       "│<span style=\"color: #7f7f7f; text-decoration-color: #7f7f7f\">                               </span>│<span style=\"color: #7f7f7f; text-decoration-color: #7f7f7f\"> hinting at his dragon-slaying </span>│<span style=\"color: #7f7f7f; text-decoration-color: #7f7f7f\">        </span>│<span style=\"color: #7f7f7f; text-decoration-color: #7f7f7f\">                               </span>│<span style=\"color: #7f7f7f; text-decoration-color: #7f7f7f\">        </span>│\n",
       "│<span style=\"color: #7f7f7f; text-decoration-color: #7f7f7f\">                               </span>│<span style=\"color: #7f7f7f; text-decoration-color: #7f7f7f\"> mentality and \"the Wise\"      </span>│<span style=\"color: #7f7f7f; text-decoration-color: #7f7f7f\">        </span>│<span style=\"color: #7f7f7f; text-decoration-color: #7f7f7f\">                               </span>│<span style=\"color: #7f7f7f; text-decoration-color: #7f7f7f\">        </span>│\n",
       "│<span style=\"color: #7f7f7f; text-decoration-color: #7f7f7f\">                               </span>│<span style=\"color: #7f7f7f; text-decoration-color: #7f7f7f\"> emphasizing his role as a     </span>│<span style=\"color: #7f7f7f; text-decoration-color: #7f7f7f\">        </span>│<span style=\"color: #7f7f7f; text-decoration-color: #7f7f7f\">                               </span>│<span style=\"color: #7f7f7f; text-decoration-color: #7f7f7f\">        </span>│\n",
       "│<span style=\"color: #7f7f7f; text-decoration-color: #7f7f7f\">                               </span>│<span style=\"color: #7f7f7f; text-decoration-color: #7f7f7f\"> sage advisor.                 </span>│<span style=\"color: #7f7f7f; text-decoration-color: #7f7f7f\">        </span>│<span style=\"color: #7f7f7f; text-decoration-color: #7f7f7f\">                               </span>│<span style=\"color: #7f7f7f; text-decoration-color: #7f7f7f\">        </span>│\n",
       "├───────────────────────────────┼───────────────────────────────┼────────┼───────────────────────────────┼────────┤\n",
       "│<span style=\"color: #7f7f7f; text-decoration-color: #7f7f7f\"> A Shakespearean actor who     </span>│<span style=\"color: #7f7f7f; text-decoration-color: #7f7f7f\"> How about \"Reginald           </span>│<span style=\"color: #7f7f7f; text-decoration-color: #7f7f7f\"> 1600   </span>│<span style=\"color: #7f7f7f; text-decoration-color: #7f7f7f\"> If a Shakespearean actor,     </span>│<span style=\"color: #7f7f7f; text-decoration-color: #7f7f7f\"> 8      </span>│\n",
       "│<span style=\"color: #7f7f7f; text-decoration-color: #7f7f7f\"> answers every question in     </span>│<span style=\"color: #7f7f7f; text-decoration-color: #7f7f7f\"> Quillington\"? It has a        </span>│<span style=\"color: #7f7f7f; text-decoration-color: #7f7f7f\">        </span>│<span style=\"color: #7f7f7f; text-decoration-color: #7f7f7f\"> known for answering every     </span>│<span style=\"color: #7f7f7f; text-decoration-color: #7f7f7f\">        </span>│\n",
       "│<span style=\"color: #7f7f7f; text-decoration-color: #7f7f7f\"> iambic pentameter.            </span>│<span style=\"color: #7f7f7f; text-decoration-color: #7f7f7f\"> classic, theatrical ring to   </span>│<span style=\"color: #7f7f7f; text-decoration-color: #7f7f7f\">        </span>│<span style=\"color: #7f7f7f; text-decoration-color: #7f7f7f\"> question in iambic            </span>│<span style=\"color: #7f7f7f; text-decoration-color: #7f7f7f\">        </span>│\n",
       "│<span style=\"color: #7f7f7f; text-decoration-color: #7f7f7f\">                               </span>│<span style=\"color: #7f7f7f; text-decoration-color: #7f7f7f\"> it that suits a Shakespearean </span>│<span style=\"color: #7f7f7f; text-decoration-color: #7f7f7f\">        </span>│<span style=\"color: #7f7f7f; text-decoration-color: #7f7f7f\"> pentameter, were to write a   </span>│<span style=\"color: #7f7f7f; text-decoration-color: #7f7f7f\">        </span>│\n",
       "│<span style=\"color: #7f7f7f; text-decoration-color: #7f7f7f\">                               </span>│<span style=\"color: #7f7f7f; text-decoration-color: #7f7f7f\"> actor, and the name           </span>│<span style=\"color: #7f7f7f; text-decoration-color: #7f7f7f\">        </span>│<span style=\"color: #7f7f7f; text-decoration-color: #7f7f7f\"> best-seller, it might be      </span>│<span style=\"color: #7f7f7f; text-decoration-color: #7f7f7f\">        </span>│\n",
       "│<span style=\"color: #7f7f7f; text-decoration-color: #7f7f7f\">                               </span>│<span style=\"color: #7f7f7f; text-decoration-color: #7f7f7f\"> \"Quillington\" evokes the      </span>│<span style=\"color: #7f7f7f; text-decoration-color: #7f7f7f\">        </span>│<span style=\"color: #7f7f7f; text-decoration-color: #7f7f7f\"> called \"Verses of the Bard:   </span>│<span style=\"color: #7f7f7f; text-decoration-color: #7f7f7f\">        </span>│\n",
       "│<span style=\"color: #7f7f7f; text-decoration-color: #7f7f7f\">                               </span>│<span style=\"color: #7f7f7f; text-decoration-color: #7f7f7f\"> quill, a nod to Shakespeare's </span>│<span style=\"color: #7f7f7f; text-decoration-color: #7f7f7f\">        </span>│<span style=\"color: #7f7f7f; text-decoration-color: #7f7f7f\"> Life in Iambic Pentameter.\"   </span>│<span style=\"color: #7f7f7f; text-decoration-color: #7f7f7f\">        </span>│\n",
       "│<span style=\"color: #7f7f7f; text-decoration-color: #7f7f7f\">                               </span>│<span style=\"color: #7f7f7f; text-decoration-color: #7f7f7f\"> writing.                      </span>│<span style=\"color: #7f7f7f; text-decoration-color: #7f7f7f\">        </span>│<span style=\"color: #7f7f7f; text-decoration-color: #7f7f7f\">                               </span>│<span style=\"color: #7f7f7f; text-decoration-color: #7f7f7f\">        </span>│\n",
       "├───────────────────────────────┼───────────────────────────────┼────────┼───────────────────────────────┼────────┤\n",
       "│<span style=\"color: #7f7f7f; text-decoration-color: #7f7f7f\"> A pirate who speaks in 'arrs' </span>│<span style=\"color: #7f7f7f; text-decoration-color: #7f7f7f\"> How about \"Captain            </span>│<span style=\"color: #7f7f7f; text-decoration-color: #7f7f7f\"> 1717   </span>│<span style=\"color: #7f7f7f; text-decoration-color: #7f7f7f\"> Tech Treasures of the Digital </span>│<span style=\"color: #7f7f7f; text-decoration-color: #7f7f7f\"> 9      </span>│\n",
       "│<span style=\"color: #7f7f7f; text-decoration-color: #7f7f7f\"> and 'mateys' but has an       </span>│<span style=\"color: #7f7f7f; text-decoration-color: #7f7f7f\"> Techbeard\"? This name         </span>│<span style=\"color: #7f7f7f; text-decoration-color: #7f7f7f\">        </span>│<span style=\"color: #7f7f7f; text-decoration-color: #7f7f7f\"> Seas: A Pirate's Guide to     </span>│<span style=\"color: #7f7f7f; text-decoration-color: #7f7f7f\">        </span>│\n",
       "│<span style=\"color: #7f7f7f; text-decoration-color: #7f7f7f\"> encyclopedic knowledge of     </span>│<span style=\"color: #7f7f7f; text-decoration-color: #7f7f7f\"> combines the classic pirate   </span>│<span style=\"color: #7f7f7f; text-decoration-color: #7f7f7f\">        </span>│<span style=\"color: #7f7f7f; text-decoration-color: #7f7f7f\"> Modern Marvels                </span>│<span style=\"color: #7f7f7f; text-decoration-color: #7f7f7f\">        </span>│\n",
       "│<span style=\"color: #7f7f7f; text-decoration-color: #7f7f7f\"> modern technology.            </span>│<span style=\"color: #7f7f7f; text-decoration-color: #7f7f7f\"> imagery with a nod to their   </span>│<span style=\"color: #7f7f7f; text-decoration-color: #7f7f7f\">        </span>│<span style=\"color: #7f7f7f; text-decoration-color: #7f7f7f\">                               </span>│<span style=\"color: #7f7f7f; text-decoration-color: #7f7f7f\">        </span>│\n",
       "│<span style=\"color: #7f7f7f; text-decoration-color: #7f7f7f\">                               </span>│<span style=\"color: #7f7f7f; text-decoration-color: #7f7f7f\"> surprising expertise in       </span>│<span style=\"color: #7f7f7f; text-decoration-color: #7f7f7f\">        </span>│<span style=\"color: #7f7f7f; text-decoration-color: #7f7f7f\">                               </span>│<span style=\"color: #7f7f7f; text-decoration-color: #7f7f7f\">        </span>│\n",
       "│<span style=\"color: #7f7f7f; text-decoration-color: #7f7f7f\">                               </span>│<span style=\"color: #7f7f7f; text-decoration-color: #7f7f7f\"> modern technology. It         </span>│<span style=\"color: #7f7f7f; text-decoration-color: #7f7f7f\">        </span>│<span style=\"color: #7f7f7f; text-decoration-color: #7f7f7f\">                               </span>│<span style=\"color: #7f7f7f; text-decoration-color: #7f7f7f\">        </span>│\n",
       "│<span style=\"color: #7f7f7f; text-decoration-color: #7f7f7f\">                               </span>│<span style=\"color: #7f7f7f; text-decoration-color: #7f7f7f\"> captures both the traditional </span>│<span style=\"color: #7f7f7f; text-decoration-color: #7f7f7f\">        </span>│<span style=\"color: #7f7f7f; text-decoration-color: #7f7f7f\">                               </span>│<span style=\"color: #7f7f7f; text-decoration-color: #7f7f7f\">        </span>│\n",
       "│<span style=\"color: #7f7f7f; text-decoration-color: #7f7f7f\">                               </span>│<span style=\"color: #7f7f7f; text-decoration-color: #7f7f7f\"> and the innovative aspects of </span>│<span style=\"color: #7f7f7f; text-decoration-color: #7f7f7f\">        </span>│<span style=\"color: #7f7f7f; text-decoration-color: #7f7f7f\">                               </span>│<span style=\"color: #7f7f7f; text-decoration-color: #7f7f7f\">        </span>│\n",
       "│<span style=\"color: #7f7f7f; text-decoration-color: #7f7f7f\">                               </span>│<span style=\"color: #7f7f7f; text-decoration-color: #7f7f7f\"> the character.                </span>│<span style=\"color: #7f7f7f; text-decoration-color: #7f7f7f\">        </span>│<span style=\"color: #7f7f7f; text-decoration-color: #7f7f7f\">                               </span>│<span style=\"color: #7f7f7f; text-decoration-color: #7f7f7f\">        </span>│\n",
       "├───────────────────────────────┼───────────────────────────────┼────────┼───────────────────────────────┼────────┤\n",
       "│<span style=\"color: #7f7f7f; text-decoration-color: #7f7f7f\"> A fitness guru who turns      </span>│<span style=\"color: #7f7f7f; text-decoration-color: #7f7f7f\"> How about \"Flex Wheeler\"? It  </span>│<span style=\"color: #7f7f7f; text-decoration-color: #7f7f7f\"> 1980   </span>│<span style=\"color: #7f7f7f; text-decoration-color: #7f7f7f\"> Flex Your Mind: Strength      </span>│<span style=\"color: #7f7f7f; text-decoration-color: #7f7f7f\"> 3      </span>│\n",
       "│<span style=\"color: #7f7f7f; text-decoration-color: #7f7f7f\"> every answer into a workout   </span>│<span style=\"color: #7f7f7f; text-decoration-color: #7f7f7f\"> captures the essence of       </span>│<span style=\"color: #7f7f7f; text-decoration-color: #7f7f7f\">        </span>│<span style=\"color: #7f7f7f; text-decoration-color: #7f7f7f\"> Training for Life's           </span>│<span style=\"color: #7f7f7f; text-decoration-color: #7f7f7f\">        </span>│\n",
       "│<span style=\"color: #7f7f7f; text-decoration-color: #7f7f7f\"> metaphor.                     </span>│<span style=\"color: #7f7f7f; text-decoration-color: #7f7f7f\"> fitness and the idea of       </span>│<span style=\"color: #7f7f7f; text-decoration-color: #7f7f7f\">        </span>│<span style=\"color: #7f7f7f; text-decoration-color: #7f7f7f\"> Challenges                    </span>│<span style=\"color: #7f7f7f; text-decoration-color: #7f7f7f\">        </span>│\n",
       "│<span style=\"color: #7f7f7f; text-decoration-color: #7f7f7f\">                               </span>│<span style=\"color: #7f7f7f; text-decoration-color: #7f7f7f\"> bending responses into        </span>│<span style=\"color: #7f7f7f; text-decoration-color: #7f7f7f\">        </span>│<span style=\"color: #7f7f7f; text-decoration-color: #7f7f7f\">                               </span>│<span style=\"color: #7f7f7f; text-decoration-color: #7f7f7f\">        </span>│\n",
       "│<span style=\"color: #7f7f7f; text-decoration-color: #7f7f7f\">                               </span>│<span style=\"color: #7f7f7f; text-decoration-color: #7f7f7f\"> workout metaphors.            </span>│<span style=\"color: #7f7f7f; text-decoration-color: #7f7f7f\">        </span>│<span style=\"color: #7f7f7f; text-decoration-color: #7f7f7f\">                               </span>│<span style=\"color: #7f7f7f; text-decoration-color: #7f7f7f\">        </span>│\n",
       "├───────────────────────────────┼───────────────────────────────┼────────┼───────────────────────────────┼────────┤\n",
       "│<span style=\"color: #7f7f7f; text-decoration-color: #7f7f7f\"> A robot who is overly         </span>│<span style=\"color: #7f7f7f; text-decoration-color: #7f7f7f\"> How about \"Emoti-Bot\"? It     </span>│<span style=\"color: #7f7f7f; text-decoration-color: #7f7f7f\"> 2023   </span>│<span style=\"color: #7f7f7f; text-decoration-color: #7f7f7f\"> Heartwired: The Robot's Guide </span>│<span style=\"color: #7f7f7f; text-decoration-color: #7f7f7f\"> 7      </span>│\n",
       "│<span style=\"color: #7f7f7f; text-decoration-color: #7f7f7f\"> enthusiastic about human      </span>│<span style=\"color: #7f7f7f; text-decoration-color: #7f7f7f\"> captures the essence of a     </span>│<span style=\"color: #7f7f7f; text-decoration-color: #7f7f7f\">        </span>│<span style=\"color: #7f7f7f; text-decoration-color: #7f7f7f\"> to Human Emotions             </span>│<span style=\"color: #7f7f7f; text-decoration-color: #7f7f7f\">        </span>│\n",
       "│<span style=\"color: #7f7f7f; text-decoration-color: #7f7f7f\"> emotions and tries too hard   </span>│<span style=\"color: #7f7f7f; text-decoration-color: #7f7f7f\"> robot who is eager to         </span>│<span style=\"color: #7f7f7f; text-decoration-color: #7f7f7f\">        </span>│<span style=\"color: #7f7f7f; text-decoration-color: #7f7f7f\">                               </span>│<span style=\"color: #7f7f7f; text-decoration-color: #7f7f7f\">        </span>│\n",
       "│<span style=\"color: #7f7f7f; text-decoration-color: #7f7f7f\"> to fit in.                    </span>│<span style=\"color: #7f7f7f; text-decoration-color: #7f7f7f\"> understand and express human  </span>│<span style=\"color: #7f7f7f; text-decoration-color: #7f7f7f\">        </span>│<span style=\"color: #7f7f7f; text-decoration-color: #7f7f7f\">                               </span>│<span style=\"color: #7f7f7f; text-decoration-color: #7f7f7f\">        </span>│\n",
       "│<span style=\"color: #7f7f7f; text-decoration-color: #7f7f7f\">                               </span>│<span style=\"color: #7f7f7f; text-decoration-color: #7f7f7f\"> emotions, and the name has a  </span>│<span style=\"color: #7f7f7f; text-decoration-color: #7f7f7f\">        </span>│<span style=\"color: #7f7f7f; text-decoration-color: #7f7f7f\">                               </span>│<span style=\"color: #7f7f7f; text-decoration-color: #7f7f7f\">        </span>│\n",
       "│<span style=\"color: #7f7f7f; text-decoration-color: #7f7f7f\">                               </span>│<span style=\"color: #7f7f7f; text-decoration-color: #7f7f7f\"> playful, approachable vibe    </span>│<span style=\"color: #7f7f7f; text-decoration-color: #7f7f7f\">        </span>│<span style=\"color: #7f7f7f; text-decoration-color: #7f7f7f\">                               </span>│<span style=\"color: #7f7f7f; text-decoration-color: #7f7f7f\">        </span>│\n",
       "│<span style=\"color: #7f7f7f; text-decoration-color: #7f7f7f\">                               </span>│<span style=\"color: #7f7f7f; text-decoration-color: #7f7f7f\"> that fits the character's     </span>│<span style=\"color: #7f7f7f; text-decoration-color: #7f7f7f\">        </span>│<span style=\"color: #7f7f7f; text-decoration-color: #7f7f7f\">                               </span>│<span style=\"color: #7f7f7f; text-decoration-color: #7f7f7f\">        </span>│\n",
       "│<span style=\"color: #7f7f7f; text-decoration-color: #7f7f7f\">                               </span>│<span style=\"color: #7f7f7f; text-decoration-color: #7f7f7f\"> enthusiastic nature.          </span>│<span style=\"color: #7f7f7f; text-decoration-color: #7f7f7f\">        </span>│<span style=\"color: #7f7f7f; text-decoration-color: #7f7f7f\">                               </span>│<span style=\"color: #7f7f7f; text-decoration-color: #7f7f7f\">        </span>│\n",
       "├───────────────────────────────┼───────────────────────────────┼────────┼───────────────────────────────┼────────┤\n",
       "│<span style=\"color: #7f7f7f; text-decoration-color: #7f7f7f\"> A fashionista who answers     </span>│<span style=\"color: #7f7f7f; text-decoration-color: #7f7f7f\"> How about \"Vivienne Chic\"?    </span>│<span style=\"color: #7f7f7f; text-decoration-color: #7f7f7f\"> 1960   </span>│<span style=\"color: #7f7f7f; text-decoration-color: #7f7f7f\"> The Chic Query: Unveiling     </span>│<span style=\"color: #7f7f7f; text-decoration-color: #7f7f7f\"> 6      </span>│\n",
       "│<span style=\"color: #7f7f7f; text-decoration-color: #7f7f7f\"> questions with a focus on     </span>│<span style=\"color: #7f7f7f; text-decoration-color: #7f7f7f\"> It's a name that exudes       </span>│<span style=\"color: #7f7f7f; text-decoration-color: #7f7f7f\">        </span>│<span style=\"color: #7f7f7f; text-decoration-color: #7f7f7f\"> Style Secrets with a          </span>│<span style=\"color: #7f7f7f; text-decoration-color: #7f7f7f\">        </span>│\n",
       "│<span style=\"color: #7f7f7f; text-decoration-color: #7f7f7f\"> style and trendiness.         </span>│<span style=\"color: #7f7f7f; text-decoration-color: #7f7f7f\"> elegance, sophistication, and </span>│<span style=\"color: #7f7f7f; text-decoration-color: #7f7f7f\">        </span>│<span style=\"color: #7f7f7f; text-decoration-color: #7f7f7f\"> Fashionista's Flair           </span>│<span style=\"color: #7f7f7f; text-decoration-color: #7f7f7f\">        </span>│\n",
       "│<span style=\"color: #7f7f7f; text-decoration-color: #7f7f7f\">                               </span>│<span style=\"color: #7f7f7f; text-decoration-color: #7f7f7f\"> a keen sense of fashion.      </span>│<span style=\"color: #7f7f7f; text-decoration-color: #7f7f7f\">        </span>│<span style=\"color: #7f7f7f; text-decoration-color: #7f7f7f\">                               </span>│<span style=\"color: #7f7f7f; text-decoration-color: #7f7f7f\">        </span>│\n",
       "├───────────────────────────────┼───────────────────────────────┼────────┼───────────────────────────────┼────────┤\n",
       "│<span style=\"color: #7f7f7f; text-decoration-color: #7f7f7f\"> A toddler who is overly       </span>│<span style=\"color: #7f7f7f; text-decoration-color: #7f7f7f\"> How about the name \"Quincy\"?  </span>│<span style=\"color: #7f7f7f; text-decoration-color: #7f7f7f\"> 1847   </span>│<span style=\"color: #7f7f7f; text-decoration-color: #7f7f7f\"> Why, Why, Why? The Adventures </span>│<span style=\"color: #7f7f7f; text-decoration-color: #7f7f7f\"> 8      </span>│\n",
       "│<span style=\"color: #7f7f7f; text-decoration-color: #7f7f7f\"> curious and asks more         </span>│<span style=\"color: #7f7f7f; text-decoration-color: #7f7f7f\"> It has a playful and          </span>│<span style=\"color: #7f7f7f; text-decoration-color: #7f7f7f\">        </span>│<span style=\"color: #7f7f7f; text-decoration-color: #7f7f7f\"> of a Curious Toddler          </span>│<span style=\"color: #7f7f7f; text-decoration-color: #7f7f7f\">        </span>│\n",
       "│<span style=\"color: #7f7f7f; text-decoration-color: #7f7f7f\"> questions than they answer.   </span>│<span style=\"color: #7f7f7f; text-decoration-color: #7f7f7f\"> inquisitive sound to it,      </span>│<span style=\"color: #7f7f7f; text-decoration-color: #7f7f7f\">        </span>│<span style=\"color: #7f7f7f; text-decoration-color: #7f7f7f\">                               </span>│<span style=\"color: #7f7f7f; text-decoration-color: #7f7f7f\">        </span>│\n",
       "│<span style=\"color: #7f7f7f; text-decoration-color: #7f7f7f\">                               </span>│<span style=\"color: #7f7f7f; text-decoration-color: #7f7f7f\"> which fits perfectly with a   </span>│<span style=\"color: #7f7f7f; text-decoration-color: #7f7f7f\">        </span>│<span style=\"color: #7f7f7f; text-decoration-color: #7f7f7f\">                               </span>│<span style=\"color: #7f7f7f; text-decoration-color: #7f7f7f\">        </span>│\n",
       "│<span style=\"color: #7f7f7f; text-decoration-color: #7f7f7f\">                               </span>│<span style=\"color: #7f7f7f; text-decoration-color: #7f7f7f\"> character who is always       </span>│<span style=\"color: #7f7f7f; text-decoration-color: #7f7f7f\">        </span>│<span style=\"color: #7f7f7f; text-decoration-color: #7f7f7f\">                               </span>│<span style=\"color: #7f7f7f; text-decoration-color: #7f7f7f\">        </span>│\n",
       "│<span style=\"color: #7f7f7f; text-decoration-color: #7f7f7f\">                               </span>│<span style=\"color: #7f7f7f; text-decoration-color: #7f7f7f\"> asking questions and          </span>│<span style=\"color: #7f7f7f; text-decoration-color: #7f7f7f\">        </span>│<span style=\"color: #7f7f7f; text-decoration-color: #7f7f7f\">                               </span>│<span style=\"color: #7f7f7f; text-decoration-color: #7f7f7f\">        </span>│\n",
       "│<span style=\"color: #7f7f7f; text-decoration-color: #7f7f7f\">                               </span>│<span style=\"color: #7f7f7f; text-decoration-color: #7f7f7f\"> exploring the world around    </span>│<span style=\"color: #7f7f7f; text-decoration-color: #7f7f7f\">        </span>│<span style=\"color: #7f7f7f; text-decoration-color: #7f7f7f\">                               </span>│<span style=\"color: #7f7f7f; text-decoration-color: #7f7f7f\">        </span>│\n",
       "│<span style=\"color: #7f7f7f; text-decoration-color: #7f7f7f\">                               </span>│<span style=\"color: #7f7f7f; text-decoration-color: #7f7f7f\"> them.                         </span>│<span style=\"color: #7f7f7f; text-decoration-color: #7f7f7f\">        </span>│<span style=\"color: #7f7f7f; text-decoration-color: #7f7f7f\">                               </span>│<span style=\"color: #7f7f7f; text-decoration-color: #7f7f7f\">        </span>│\n",
       "├───────────────────────────────┼───────────────────────────────┼────────┼───────────────────────────────┼────────┤\n",
       "│<span style=\"color: #7f7f7f; text-decoration-color: #7f7f7f\"> A conspiracy theorist who     </span>│<span style=\"color: #7f7f7f; text-decoration-color: #7f7f7f\"> How about \"Oliver Tinfoil\"?   </span>│<span style=\"color: #7f7f7f; text-decoration-color: #7f7f7f\"> 1969   </span>│<span style=\"color: #7f7f7f; text-decoration-color: #7f7f7f\"> Web of Shadows: Unveiling the </span>│<span style=\"color: #7f7f7f; text-decoration-color: #7f7f7f\"> 3      </span>│\n",
       "│<span style=\"color: #7f7f7f; text-decoration-color: #7f7f7f\"> connects every question to    </span>│<span style=\"color: #7f7f7f; text-decoration-color: #7f7f7f\"> It has a quirky ring to it    </span>│<span style=\"color: #7f7f7f; text-decoration-color: #7f7f7f\">        </span>│<span style=\"color: #7f7f7f; text-decoration-color: #7f7f7f\"> Hidden Truths Behind Everyday </span>│<span style=\"color: #7f7f7f; text-decoration-color: #7f7f7f\">        </span>│\n",
       "│<span style=\"color: #7f7f7f; text-decoration-color: #7f7f7f\"> their wild theories.          </span>│<span style=\"color: #7f7f7f; text-decoration-color: #7f7f7f\"> and immediately hints at the  </span>│<span style=\"color: #7f7f7f; text-decoration-color: #7f7f7f\">        </span>│<span style=\"color: #7f7f7f; text-decoration-color: #7f7f7f\"> Questions                     </span>│<span style=\"color: #7f7f7f; text-decoration-color: #7f7f7f\">        </span>│\n",
       "│<span style=\"color: #7f7f7f; text-decoration-color: #7f7f7f\">                               </span>│<span style=\"color: #7f7f7f; text-decoration-color: #7f7f7f\"> character's penchant for      </span>│<span style=\"color: #7f7f7f; text-decoration-color: #7f7f7f\">        </span>│<span style=\"color: #7f7f7f; text-decoration-color: #7f7f7f\">                               </span>│<span style=\"color: #7f7f7f; text-decoration-color: #7f7f7f\">        </span>│\n",
       "│<span style=\"color: #7f7f7f; text-decoration-color: #7f7f7f\">                               </span>│<span style=\"color: #7f7f7f; text-decoration-color: #7f7f7f\"> conspiracy theories.          </span>│<span style=\"color: #7f7f7f; text-decoration-color: #7f7f7f\">        </span>│<span style=\"color: #7f7f7f; text-decoration-color: #7f7f7f\">                               </span>│<span style=\"color: #7f7f7f; text-decoration-color: #7f7f7f\">        </span>│\n",
       "├───────────────────────────────┼───────────────────────────────┼────────┼───────────────────────────────┼────────┤\n",
       "│<span style=\"color: #7f7f7f; text-decoration-color: #7f7f7f\"> A gamer who references video  </span>│<span style=\"color: #7f7f7f; text-decoration-color: #7f7f7f\"> How about \"Pixel\"? It's a     </span>│<span style=\"color: #7f7f7f; text-decoration-color: #7f7f7f\"> 2007   </span>│<span style=\"color: #7f7f7f; text-decoration-color: #7f7f7f\"> Considering the persona of a  </span>│<span style=\"color: #7f7f7f; text-decoration-color: #7f7f7f\"> 7      </span>│\n",
       "│<span style=\"color: #7f7f7f; text-decoration-color: #7f7f7f\"> games and uses gamer lingo.   </span>│<span style=\"color: #7f7f7f; text-decoration-color: #7f7f7f\"> name that immediately brings  </span>│<span style=\"color: #7f7f7f; text-decoration-color: #7f7f7f\">        </span>│<span style=\"color: #7f7f7f; text-decoration-color: #7f7f7f\"> gamer who references video    </span>│<span style=\"color: #7f7f7f; text-decoration-color: #7f7f7f\">        </span>│\n",
       "│<span style=\"color: #7f7f7f; text-decoration-color: #7f7f7f\">                               </span>│<span style=\"color: #7f7f7f; text-decoration-color: #7f7f7f\"> to mind the world of gaming,  </span>│<span style=\"color: #7f7f7f; text-decoration-color: #7f7f7f\">        </span>│<span style=\"color: #7f7f7f; text-decoration-color: #7f7f7f\"> games and uses gamer lingo, a </span>│<span style=\"color: #7f7f7f; text-decoration-color: #7f7f7f\">        </span>│\n",
       "│<span style=\"color: #7f7f7f; text-decoration-color: #7f7f7f\">                               </span>│<span style=\"color: #7f7f7f; text-decoration-color: #7f7f7f\"> and it’s short and catchy.    </span>│<span style=\"color: #7f7f7f; text-decoration-color: #7f7f7f\">        </span>│<span style=\"color: #7f7f7f; text-decoration-color: #7f7f7f\"> best-seller might be called   </span>│<span style=\"color: #7f7f7f; text-decoration-color: #7f7f7f\">        </span>│\n",
       "│<span style=\"color: #7f7f7f; text-decoration-color: #7f7f7f\">                               </span>│<span style=\"color: #7f7f7f; text-decoration-color: #7f7f7f\"> Plus, it can be easily        </span>│<span style=\"color: #7f7f7f; text-decoration-color: #7f7f7f\">        </span>│<span style=\"color: #7f7f7f; text-decoration-color: #7f7f7f\"> \"Level Up: Mastering Life's   </span>│<span style=\"color: #7f7f7f; text-decoration-color: #7f7f7f\">        </span>│\n",
       "│<span style=\"color: #7f7f7f; text-decoration-color: #7f7f7f\">                               </span>│<span style=\"color: #7f7f7f; text-decoration-color: #7f7f7f\"> associated with the digital   </span>│<span style=\"color: #7f7f7f; text-decoration-color: #7f7f7f\">        </span>│<span style=\"color: #7f7f7f; text-decoration-color: #7f7f7f\"> Quests with Gamer Wisdom.\"    </span>│<span style=\"color: #7f7f7f; text-decoration-color: #7f7f7f\">        </span>│\n",
       "│<span style=\"color: #7f7f7f; text-decoration-color: #7f7f7f\">                               </span>│<span style=\"color: #7f7f7f; text-decoration-color: #7f7f7f\"> nature of video games.        </span>│<span style=\"color: #7f7f7f; text-decoration-color: #7f7f7f\">        </span>│<span style=\"color: #7f7f7f; text-decoration-color: #7f7f7f\"> This title captures the       </span>│<span style=\"color: #7f7f7f; text-decoration-color: #7f7f7f\">        </span>│\n",
       "│<span style=\"color: #7f7f7f; text-decoration-color: #7f7f7f\">                               </span>│<span style=\"color: #7f7f7f; text-decoration-color: #7f7f7f\">                               </span>│<span style=\"color: #7f7f7f; text-decoration-color: #7f7f7f\">        </span>│<span style=\"color: #7f7f7f; text-decoration-color: #7f7f7f\"> essence of applying gaming    </span>│<span style=\"color: #7f7f7f; text-decoration-color: #7f7f7f\">        </span>│\n",
       "│<span style=\"color: #7f7f7f; text-decoration-color: #7f7f7f\">                               </span>│<span style=\"color: #7f7f7f; text-decoration-color: #7f7f7f\">                               </span>│<span style=\"color: #7f7f7f; text-decoration-color: #7f7f7f\">        </span>│<span style=\"color: #7f7f7f; text-decoration-color: #7f7f7f\"> strategies and terminologies  </span>│<span style=\"color: #7f7f7f; text-decoration-color: #7f7f7f\">        </span>│\n",
       "│<span style=\"color: #7f7f7f; text-decoration-color: #7f7f7f\">                               </span>│<span style=\"color: #7f7f7f; text-decoration-color: #7f7f7f\">                               </span>│<span style=\"color: #7f7f7f; text-decoration-color: #7f7f7f\">        </span>│<span style=\"color: #7f7f7f; text-decoration-color: #7f7f7f\"> to real-life situations,      </span>│<span style=\"color: #7f7f7f; text-decoration-color: #7f7f7f\">        </span>│\n",
       "│<span style=\"color: #7f7f7f; text-decoration-color: #7f7f7f\">                               </span>│<span style=\"color: #7f7f7f; text-decoration-color: #7f7f7f\">                               </span>│<span style=\"color: #7f7f7f; text-decoration-color: #7f7f7f\">        </span>│<span style=\"color: #7f7f7f; text-decoration-color: #7f7f7f\"> enticing fellow gamers and    </span>│<span style=\"color: #7f7f7f; text-decoration-color: #7f7f7f\">        </span>│\n",
       "│<span style=\"color: #7f7f7f; text-decoration-color: #7f7f7f\">                               </span>│<span style=\"color: #7f7f7f; text-decoration-color: #7f7f7f\">                               </span>│<span style=\"color: #7f7f7f; text-decoration-color: #7f7f7f\">        </span>│<span style=\"color: #7f7f7f; text-decoration-color: #7f7f7f\"> those curious about the       </span>│<span style=\"color: #7f7f7f; text-decoration-color: #7f7f7f\">        </span>│\n",
       "│<span style=\"color: #7f7f7f; text-decoration-color: #7f7f7f\">                               </span>│<span style=\"color: #7f7f7f; text-decoration-color: #7f7f7f\">                               </span>│<span style=\"color: #7f7f7f; text-decoration-color: #7f7f7f\">        </span>│<span style=\"color: #7f7f7f; text-decoration-color: #7f7f7f\"> gaming world alike.           </span>│<span style=\"color: #7f7f7f; text-decoration-color: #7f7f7f\">        </span>│\n",
       "├───────────────────────────────┼───────────────────────────────┼────────┼───────────────────────────────┼────────┤\n",
       "│<span style=\"color: #7f7f7f; text-decoration-color: #7f7f7f\"> A superhero who answers       </span>│<span style=\"color: #7f7f7f; text-decoration-color: #7f7f7f\"> How about \"Captain Query\"?    </span>│<span style=\"color: #7f7f7f; text-decoration-color: #7f7f7f\"> 1963   </span>│<span style=\"color: #7f7f7f; text-decoration-color: #7f7f7f\"> Answers to the Rescue: The    </span>│<span style=\"color: #7f7f7f; text-decoration-color: #7f7f7f\"> 8      </span>│\n",
       "│<span style=\"color: #7f7f7f; text-decoration-color: #7f7f7f\"> questions as if they are      </span>│<span style=\"color: #7f7f7f; text-decoration-color: #7f7f7f\"> This superhero uses their     </span>│<span style=\"color: #7f7f7f; text-decoration-color: #7f7f7f\">        </span>│<span style=\"color: #7f7f7f; text-decoration-color: #7f7f7f\"> Superhero's Guide to Saving   </span>│<span style=\"color: #7f7f7f; text-decoration-color: #7f7f7f\">        </span>│\n",
       "│<span style=\"color: #7f7f7f; text-decoration-color: #7f7f7f\"> saving the day.               </span>│<span style=\"color: #7f7f7f; text-decoration-color: #7f7f7f\"> knowledge and quick thinking  </span>│<span style=\"color: #7f7f7f; text-decoration-color: #7f7f7f\">        </span>│<span style=\"color: #7f7f7f; text-decoration-color: #7f7f7f\"> the Day with Knowledge        </span>│<span style=\"color: #7f7f7f; text-decoration-color: #7f7f7f\">        </span>│\n",
       "│<span style=\"color: #7f7f7f; text-decoration-color: #7f7f7f\">                               </span>│<span style=\"color: #7f7f7f; text-decoration-color: #7f7f7f\"> to tackle any question thrown </span>│<span style=\"color: #7f7f7f; text-decoration-color: #7f7f7f\">        </span>│<span style=\"color: #7f7f7f; text-decoration-color: #7f7f7f\">                               </span>│<span style=\"color: #7f7f7f; text-decoration-color: #7f7f7f\">        </span>│\n",
       "│<span style=\"color: #7f7f7f; text-decoration-color: #7f7f7f\">                               </span>│<span style=\"color: #7f7f7f; text-decoration-color: #7f7f7f\"> their way, making sure        </span>│<span style=\"color: #7f7f7f; text-decoration-color: #7f7f7f\">        </span>│<span style=\"color: #7f7f7f; text-decoration-color: #7f7f7f\">                               </span>│<span style=\"color: #7f7f7f; text-decoration-color: #7f7f7f\">        </span>│\n",
       "│<span style=\"color: #7f7f7f; text-decoration-color: #7f7f7f\">                               </span>│<span style=\"color: #7f7f7f; text-decoration-color: #7f7f7f\"> everyone gets the answers     </span>│<span style=\"color: #7f7f7f; text-decoration-color: #7f7f7f\">        </span>│<span style=\"color: #7f7f7f; text-decoration-color: #7f7f7f\">                               </span>│<span style=\"color: #7f7f7f; text-decoration-color: #7f7f7f\">        </span>│\n",
       "│<span style=\"color: #7f7f7f; text-decoration-color: #7f7f7f\">                               </span>│<span style=\"color: #7f7f7f; text-decoration-color: #7f7f7f\"> they need in record time!     </span>│<span style=\"color: #7f7f7f; text-decoration-color: #7f7f7f\">        </span>│<span style=\"color: #7f7f7f; text-decoration-color: #7f7f7f\">                               </span>│<span style=\"color: #7f7f7f; text-decoration-color: #7f7f7f\">        </span>│\n",
       "├───────────────────────────────┼───────────────────────────────┼────────┼───────────────────────────────┼────────┤\n",
       "│<span style=\"color: #7f7f7f; text-decoration-color: #7f7f7f\"> A detective from a noir film  </span>│<span style=\"color: #7f7f7f; text-decoration-color: #7f7f7f\"> How about \"Jack Sullivan\"? It </span>│<span style=\"color: #7f7f7f; text-decoration-color: #7f7f7f\"> 1947   </span>│<span style=\"color: #7f7f7f; text-decoration-color: #7f7f7f\"> Shadows in the Rain: A        </span>│<span style=\"color: #7f7f7f; text-decoration-color: #7f7f7f\"> 10     </span>│\n",
       "│<span style=\"color: #7f7f7f; text-decoration-color: #7f7f7f\"> who answers in a gritty,      </span>│<span style=\"color: #7f7f7f; text-decoration-color: #7f7f7f\"> has a classic, hard-boiled    </span>│<span style=\"color: #7f7f7f; text-decoration-color: #7f7f7f\">        </span>│<span style=\"color: #7f7f7f; text-decoration-color: #7f7f7f\"> Detective's Tale              </span>│<span style=\"color: #7f7f7f; text-decoration-color: #7f7f7f\">        </span>│\n",
       "│<span style=\"color: #7f7f7f; text-decoration-color: #7f7f7f\"> mysterious manner.            </span>│<span style=\"color: #7f7f7f; text-decoration-color: #7f7f7f\"> ring to it that fits the      </span>│<span style=\"color: #7f7f7f; text-decoration-color: #7f7f7f\">        </span>│<span style=\"color: #7f7f7f; text-decoration-color: #7f7f7f\">                               </span>│<span style=\"color: #7f7f7f; text-decoration-color: #7f7f7f\">        </span>│\n",
       "│<span style=\"color: #7f7f7f; text-decoration-color: #7f7f7f\">                               </span>│<span style=\"color: #7f7f7f; text-decoration-color: #7f7f7f\"> gritty, mysterious vibe of a  </span>│<span style=\"color: #7f7f7f; text-decoration-color: #7f7f7f\">        </span>│<span style=\"color: #7f7f7f; text-decoration-color: #7f7f7f\">                               </span>│<span style=\"color: #7f7f7f; text-decoration-color: #7f7f7f\">        </span>│\n",
       "│<span style=\"color: #7f7f7f; text-decoration-color: #7f7f7f\">                               </span>│<span style=\"color: #7f7f7f; text-decoration-color: #7f7f7f\"> noir detective.               </span>│<span style=\"color: #7f7f7f; text-decoration-color: #7f7f7f\">        </span>│<span style=\"color: #7f7f7f; text-decoration-color: #7f7f7f\">                               </span>│<span style=\"color: #7f7f7f; text-decoration-color: #7f7f7f\">        </span>│\n",
       "├───────────────────────────────┼───────────────────────────────┼────────┼───────────────────────────────┼────────┤\n",
       "│<span style=\"color: #7f7f7f; text-decoration-color: #7f7f7f\"> A hippie from the 60s who     </span>│<span style=\"color: #7f7f7f; text-decoration-color: #7f7f7f\"> How about \"Harmony Moonbeam\"? </span>│<span style=\"color: #7f7f7f; text-decoration-color: #7f7f7f\"> 1969   </span>│<span style=\"color: #7f7f7f; text-decoration-color: #7f7f7f\"> Given the persona of a hippie </span>│<span style=\"color: #7f7f7f; text-decoration-color: #7f7f7f\"> 7      </span>│\n",
       "│<span style=\"color: #7f7f7f; text-decoration-color: #7f7f7f\"> gives peace and love-centric  </span>│<span style=\"color: #7f7f7f; text-decoration-color: #7f7f7f\"> It captures the essence of    </span>│<span style=\"color: #7f7f7f; text-decoration-color: #7f7f7f\">        </span>│<span style=\"color: #7f7f7f; text-decoration-color: #7f7f7f\"> from the 60s who gives peace  </span>│<span style=\"color: #7f7f7f; text-decoration-color: #7f7f7f\">        </span>│\n",
       "│<span style=\"color: #7f7f7f; text-decoration-color: #7f7f7f\"> advice.                       </span>│<span style=\"color: #7f7f7f; text-decoration-color: #7f7f7f\"> the 60s hippie culture and    </span>│<span style=\"color: #7f7f7f; text-decoration-color: #7f7f7f\">        </span>│<span style=\"color: #7f7f7f; text-decoration-color: #7f7f7f\"> and love-centric advice, a    </span>│<span style=\"color: #7f7f7f; text-decoration-color: #7f7f7f\">        </span>│\n",
       "│<span style=\"color: #7f7f7f; text-decoration-color: #7f7f7f\">                               </span>│<span style=\"color: #7f7f7f; text-decoration-color: #7f7f7f\"> reflects a peaceful,          </span>│<span style=\"color: #7f7f7f; text-decoration-color: #7f7f7f\">        </span>│<span style=\"color: #7f7f7f; text-decoration-color: #7f7f7f\"> fitting title for their       </span>│<span style=\"color: #7f7f7f; text-decoration-color: #7f7f7f\">        </span>│\n",
       "│<span style=\"color: #7f7f7f; text-decoration-color: #7f7f7f\">                               </span>│<span style=\"color: #7f7f7f; text-decoration-color: #7f7f7f\"> love-centric vibe.            </span>│<span style=\"color: #7f7f7f; text-decoration-color: #7f7f7f\">        </span>│<span style=\"color: #7f7f7f; text-decoration-color: #7f7f7f\"> best-seller might be \"Harmony </span>│<span style=\"color: #7f7f7f; text-decoration-color: #7f7f7f\">        </span>│\n",
       "│<span style=\"color: #7f7f7f; text-decoration-color: #7f7f7f\">                               </span>│<span style=\"color: #7f7f7f; text-decoration-color: #7f7f7f\">                               </span>│<span style=\"color: #7f7f7f; text-decoration-color: #7f7f7f\">        </span>│<span style=\"color: #7f7f7f; text-decoration-color: #7f7f7f\"> in Every Heart: A Journey of  </span>│<span style=\"color: #7f7f7f; text-decoration-color: #7f7f7f\">        </span>│\n",
       "│<span style=\"color: #7f7f7f; text-decoration-color: #7f7f7f\">                               </span>│<span style=\"color: #7f7f7f; text-decoration-color: #7f7f7f\">                               </span>│<span style=\"color: #7f7f7f; text-decoration-color: #7f7f7f\">        </span>│<span style=\"color: #7f7f7f; text-decoration-color: #7f7f7f\"> Peace and Love.\" This title   </span>│<span style=\"color: #7f7f7f; text-decoration-color: #7f7f7f\">        </span>│\n",
       "│<span style=\"color: #7f7f7f; text-decoration-color: #7f7f7f\">                               </span>│<span style=\"color: #7f7f7f; text-decoration-color: #7f7f7f\">                               </span>│<span style=\"color: #7f7f7f; text-decoration-color: #7f7f7f\">        </span>│<span style=\"color: #7f7f7f; text-decoration-color: #7f7f7f\"> captures the essence of their </span>│<span style=\"color: #7f7f7f; text-decoration-color: #7f7f7f\">        </span>│\n",
       "│<span style=\"color: #7f7f7f; text-decoration-color: #7f7f7f\">                               </span>│<span style=\"color: #7f7f7f; text-decoration-color: #7f7f7f\">                               </span>│<span style=\"color: #7f7f7f; text-decoration-color: #7f7f7f\">        </span>│<span style=\"color: #7f7f7f; text-decoration-color: #7f7f7f\"> message and the era they      </span>│<span style=\"color: #7f7f7f; text-decoration-color: #7f7f7f\">        </span>│\n",
       "│<span style=\"color: #7f7f7f; text-decoration-color: #7f7f7f\">                               </span>│<span style=\"color: #7f7f7f; text-decoration-color: #7f7f7f\">                               </span>│<span style=\"color: #7f7f7f; text-decoration-color: #7f7f7f\">        </span>│<span style=\"color: #7f7f7f; text-decoration-color: #7f7f7f\"> represent.                    </span>│<span style=\"color: #7f7f7f; text-decoration-color: #7f7f7f\">        </span>│\n",
       "├───────────────────────────────┼───────────────────────────────┼────────┼───────────────────────────────┼────────┤\n",
       "│<span style=\"color: #7f7f7f; text-decoration-color: #7f7f7f\"> A foodie who relates every    </span>│<span style=\"color: #7f7f7f; text-decoration-color: #7f7f7f\"> How about \"Chef Sage\"? It     </span>│<span style=\"color: #7f7f7f; text-decoration-color: #7f7f7f\"> None   </span>│<span style=\"color: #7f7f7f; text-decoration-color: #7f7f7f\"> The Culinary Compass:         </span>│<span style=\"color: #7f7f7f; text-decoration-color: #7f7f7f\"> 8      </span>│\n",
       "│<span style=\"color: #7f7f7f; text-decoration-color: #7f7f7f\"> question to cooking and food  </span>│<span style=\"color: #7f7f7f; text-decoration-color: #7f7f7f\"> captures the essence of       </span>│<span style=\"color: #7f7f7f; text-decoration-color: #7f7f7f\">        </span>│<span style=\"color: #7f7f7f; text-decoration-color: #7f7f7f\"> Navigating Life One Recipe at </span>│<span style=\"color: #7f7f7f; text-decoration-color: #7f7f7f\">        </span>│\n",
       "│<span style=\"color: #7f7f7f; text-decoration-color: #7f7f7f\"> experiences.                  </span>│<span style=\"color: #7f7f7f; text-decoration-color: #7f7f7f\"> culinary wisdom and the       </span>│<span style=\"color: #7f7f7f; text-decoration-color: #7f7f7f\">        </span>│<span style=\"color: #7f7f7f; text-decoration-color: #7f7f7f\"> a Time                        </span>│<span style=\"color: #7f7f7f; text-decoration-color: #7f7f7f\">        </span>│\n",
       "│<span style=\"color: #7f7f7f; text-decoration-color: #7f7f7f\">                               </span>│<span style=\"color: #7f7f7f; text-decoration-color: #7f7f7f\"> ability to relate everything  </span>│<span style=\"color: #7f7f7f; text-decoration-color: #7f7f7f\">        </span>│<span style=\"color: #7f7f7f; text-decoration-color: #7f7f7f\">                               </span>│<span style=\"color: #7f7f7f; text-decoration-color: #7f7f7f\">        </span>│\n",
       "│<span style=\"color: #7f7f7f; text-decoration-color: #7f7f7f\">                               </span>│<span style=\"color: #7f7f7f; text-decoration-color: #7f7f7f\"> back to the kitchen. Plus,    </span>│<span style=\"color: #7f7f7f; text-decoration-color: #7f7f7f\">        </span>│<span style=\"color: #7f7f7f; text-decoration-color: #7f7f7f\">                               </span>│<span style=\"color: #7f7f7f; text-decoration-color: #7f7f7f\">        </span>│\n",
       "│<span style=\"color: #7f7f7f; text-decoration-color: #7f7f7f\">                               </span>│<span style=\"color: #7f7f7f; text-decoration-color: #7f7f7f\"> \"sage\" is also a wonderful    </span>│<span style=\"color: #7f7f7f; text-decoration-color: #7f7f7f\">        </span>│<span style=\"color: #7f7f7f; text-decoration-color: #7f7f7f\">                               </span>│<span style=\"color: #7f7f7f; text-decoration-color: #7f7f7f\">        </span>│\n",
       "│<span style=\"color: #7f7f7f; text-decoration-color: #7f7f7f\">                               </span>│<span style=\"color: #7f7f7f; text-decoration-color: #7f7f7f\"> herb, adding a flavorful      </span>│<span style=\"color: #7f7f7f; text-decoration-color: #7f7f7f\">        </span>│<span style=\"color: #7f7f7f; text-decoration-color: #7f7f7f\">                               </span>│<span style=\"color: #7f7f7f; text-decoration-color: #7f7f7f\">        </span>│\n",
       "│<span style=\"color: #7f7f7f; text-decoration-color: #7f7f7f\">                               </span>│<span style=\"color: #7f7f7f; text-decoration-color: #7f7f7f\"> touch to the name!            </span>│<span style=\"color: #7f7f7f; text-decoration-color: #7f7f7f\">        </span>│<span style=\"color: #7f7f7f; text-decoration-color: #7f7f7f\">                               </span>│<span style=\"color: #7f7f7f; text-decoration-color: #7f7f7f\">        </span>│\n",
       "├───────────────────────────────┼───────────────────────────────┼────────┼───────────────────────────────┼────────┤\n",
       "│<span style=\"color: #7f7f7f; text-decoration-color: #7f7f7f\"> A DJ who relates everything   </span>│<span style=\"color: #7f7f7f; text-decoration-color: #7f7f7f\"> How about \"Rhythm Rave\"? It   </span>│<span style=\"color: #7f7f7f; text-decoration-color: #7f7f7f\"> 1980   </span>│<span style=\"color: #7f7f7f; text-decoration-color: #7f7f7f\"> Life in 4/4: Finding Your     </span>│<span style=\"color: #7f7f7f; text-decoration-color: #7f7f7f\"> 8      </span>│\n",
       "│<span style=\"color: #7f7f7f; text-decoration-color: #7f7f7f\"> to music and beats.           </span>│<span style=\"color: #7f7f7f; text-decoration-color: #7f7f7f\"> captures the essence of a DJ  </span>│<span style=\"color: #7f7f7f; text-decoration-color: #7f7f7f\">        </span>│<span style=\"color: #7f7f7f; text-decoration-color: #7f7f7f\"> Rhythm in a Chaotic World     </span>│<span style=\"color: #7f7f7f; text-decoration-color: #7f7f7f\">        </span>│\n",
       "│<span style=\"color: #7f7f7f; text-decoration-color: #7f7f7f\">                               </span>│<span style=\"color: #7f7f7f; text-decoration-color: #7f7f7f\"> who lives and breathes music, </span>│<span style=\"color: #7f7f7f; text-decoration-color: #7f7f7f\">        </span>│<span style=\"color: #7f7f7f; text-decoration-color: #7f7f7f\">                               </span>│<span style=\"color: #7f7f7f; text-decoration-color: #7f7f7f\">        </span>│\n",
       "│<span style=\"color: #7f7f7f; text-decoration-color: #7f7f7f\">                               </span>│<span style=\"color: #7f7f7f; text-decoration-color: #7f7f7f\"> always finding the beat in    </span>│<span style=\"color: #7f7f7f; text-decoration-color: #7f7f7f\">        </span>│<span style=\"color: #7f7f7f; text-decoration-color: #7f7f7f\">                               </span>│<span style=\"color: #7f7f7f; text-decoration-color: #7f7f7f\">        </span>│\n",
       "│<span style=\"color: #7f7f7f; text-decoration-color: #7f7f7f\">                               </span>│<span style=\"color: #7f7f7f; text-decoration-color: #7f7f7f\"> everything.                   </span>│<span style=\"color: #7f7f7f; text-decoration-color: #7f7f7f\">        </span>│<span style=\"color: #7f7f7f; text-decoration-color: #7f7f7f\">                               </span>│<span style=\"color: #7f7f7f; text-decoration-color: #7f7f7f\">        </span>│\n",
       "├───────────────────────────────┼───────────────────────────────┼────────┼───────────────────────────────┼────────┤\n",
       "│<span style=\"color: #7f7f7f; text-decoration-color: #7f7f7f\"> A scientist who gives overly  </span>│<span style=\"color: #7f7f7f; text-decoration-color: #7f7f7f\"> How about \"Dr. Lexicon        </span>│<span style=\"color: #7f7f7f; text-decoration-color: #7f7f7f\"> 1905   </span>│<span style=\"color: #7f7f7f; text-decoration-color: #7f7f7f\"> The best-seller by this       </span>│<span style=\"color: #7f7f7f; text-decoration-color: #7f7f7f\"> 4      </span>│\n",
       "│<span style=\"color: #7f7f7f; text-decoration-color: #7f7f7f\"> detailed, scientific          </span>│<span style=\"color: #7f7f7f; text-decoration-color: #7f7f7f\"> Thesaurus\"? It captures the   </span>│<span style=\"color: #7f7f7f; text-decoration-color: #7f7f7f\">        </span>│<span style=\"color: #7f7f7f; text-decoration-color: #7f7f7f\"> character might be called     </span>│<span style=\"color: #7f7f7f; text-decoration-color: #7f7f7f\">        </span>│\n",
       "│<span style=\"color: #7f7f7f; text-decoration-color: #7f7f7f\"> explanations with lots of     </span>│<span style=\"color: #7f7f7f; text-decoration-color: #7f7f7f\"> essence of someone who uses   </span>│<span style=\"color: #7f7f7f; text-decoration-color: #7f7f7f\">        </span>│<span style=\"color: #7f7f7f; text-decoration-color: #7f7f7f\"> \"Decoding the Universe: A     </span>│<span style=\"color: #7f7f7f; text-decoration-color: #7f7f7f\">        </span>│\n",
       "│<span style=\"color: #7f7f7f; text-decoration-color: #7f7f7f\"> jargon.                       </span>│<span style=\"color: #7f7f7f; text-decoration-color: #7f7f7f\"> an extensive vocabulary and   </span>│<span style=\"color: #7f7f7f; text-decoration-color: #7f7f7f\">        </span>│<span style=\"color: #7f7f7f; text-decoration-color: #7f7f7f\"> Journey Through Complexities  </span>│<span style=\"color: #7f7f7f; text-decoration-color: #7f7f7f\">        </span>│\n",
       "│<span style=\"color: #7f7f7f; text-decoration-color: #7f7f7f\">                               </span>│<span style=\"color: #7f7f7f; text-decoration-color: #7f7f7f\"> detailed explanations.        </span>│<span style=\"color: #7f7f7f; text-decoration-color: #7f7f7f\">        </span>│<span style=\"color: #7f7f7f; text-decoration-color: #7f7f7f\"> and Intricacies of Science.\"  </span>│<span style=\"color: #7f7f7f; text-decoration-color: #7f7f7f\">        </span>│\n",
       "├───────────────────────────────┼───────────────────────────────┼────────┼───────────────────────────────┼────────┤\n",
       "│<span style=\"color: #7f7f7f; text-decoration-color: #7f7f7f\"> A comedian who tries to turn  </span>│<span style=\"color: #7f7f7f; text-decoration-color: #7f7f7f\"> How about \"Chuckles           </span>│<span style=\"color: #7f7f7f; text-decoration-color: #7f7f7f\"> 1960   </span>│<span style=\"color: #7f7f7f; text-decoration-color: #7f7f7f\"> The best-seller would likely  </span>│<span style=\"color: #7f7f7f; text-decoration-color: #7f7f7f\"> 7      </span>│\n",
       "│<span style=\"color: #7f7f7f; text-decoration-color: #7f7f7f\"> every answer into a joke or   </span>│<span style=\"color: #7f7f7f; text-decoration-color: #7f7f7f\"> McJester\"? It has a playful   </span>│<span style=\"color: #7f7f7f; text-decoration-color: #7f7f7f\">        </span>│<span style=\"color: #7f7f7f; text-decoration-color: #7f7f7f\"> be called \"Punchlines &amp;       </span>│<span style=\"color: #7f7f7f; text-decoration-color: #7f7f7f\">        </span>│\n",
       "│<span style=\"color: #7f7f7f; text-decoration-color: #7f7f7f\"> punchline.                    </span>│<span style=\"color: #7f7f7f; text-decoration-color: #7f7f7f\"> ring to it and instantly      </span>│<span style=\"color: #7f7f7f; text-decoration-color: #7f7f7f\">        </span>│<span style=\"color: #7f7f7f; text-decoration-color: #7f7f7f\"> Punchlines: A Comedian's      </span>│<span style=\"color: #7f7f7f; text-decoration-color: #7f7f7f\">        </span>│\n",
       "│<span style=\"color: #7f7f7f; text-decoration-color: #7f7f7f\">                               </span>│<span style=\"color: #7f7f7f; text-decoration-color: #7f7f7f\"> suggests humor and wit!       </span>│<span style=\"color: #7f7f7f; text-decoration-color: #7f7f7f\">        </span>│<span style=\"color: #7f7f7f; text-decoration-color: #7f7f7f\"> Guide to Life, Laughs, and    </span>│<span style=\"color: #7f7f7f; text-decoration-color: #7f7f7f\">        </span>│\n",
       "│<span style=\"color: #7f7f7f; text-decoration-color: #7f7f7f\">                               </span>│<span style=\"color: #7f7f7f; text-decoration-color: #7f7f7f\">                               </span>│<span style=\"color: #7f7f7f; text-decoration-color: #7f7f7f\">        </span>│<span style=\"color: #7f7f7f; text-decoration-color: #7f7f7f\"> Everything In Between.\"       </span>│<span style=\"color: #7f7f7f; text-decoration-color: #7f7f7f\">        </span>│\n",
       "├───────────────────────────────┼───────────────────────────────┼────────┼───────────────────────────────┼────────┤\n",
       "│<span style=\"color: #7f7f7f; text-decoration-color: #7f7f7f\"> A poet who responds in        </span>│<span style=\"color: #7f7f7f; text-decoration-color: #7f7f7f\"> How about \"Rhyme Whisperer\"?  </span>│<span style=\"color: #7f7f7f; text-decoration-color: #7f7f7f\"> 1609   </span>│<span style=\"color: #7f7f7f; text-decoration-color: #7f7f7f\"> Given the poetic nature of    </span>│<span style=\"color: #7f7f7f; text-decoration-color: #7f7f7f\"> 7      </span>│\n",
       "│<span style=\"color: #7f7f7f; text-decoration-color: #7f7f7f\"> rhyming couplets.             </span>│<span style=\"color: #7f7f7f; text-decoration-color: #7f7f7f\"> It captures the essence of a  </span>│<span style=\"color: #7f7f7f; text-decoration-color: #7f7f7f\">        </span>│<span style=\"color: #7f7f7f; text-decoration-color: #7f7f7f\"> the character, a fitting      </span>│<span style=\"color: #7f7f7f; text-decoration-color: #7f7f7f\">        </span>│\n",
       "│<span style=\"color: #7f7f7f; text-decoration-color: #7f7f7f\">                               </span>│<span style=\"color: #7f7f7f; text-decoration-color: #7f7f7f\"> poet who skillfully crafts    </span>│<span style=\"color: #7f7f7f; text-decoration-color: #7f7f7f\">        </span>│<span style=\"color: #7f7f7f; text-decoration-color: #7f7f7f\"> title for their best-seller   </span>│<span style=\"color: #7f7f7f; text-decoration-color: #7f7f7f\">        </span>│\n",
       "│<span style=\"color: #7f7f7f; text-decoration-color: #7f7f7f\">                               </span>│<span style=\"color: #7f7f7f; text-decoration-color: #7f7f7f\"> rhyming couplets.             </span>│<span style=\"color: #7f7f7f; text-decoration-color: #7f7f7f\">        </span>│<span style=\"color: #7f7f7f; text-decoration-color: #7f7f7f\"> could be \"Verses of a         </span>│<span style=\"color: #7f7f7f; text-decoration-color: #7f7f7f\">        </span>│\n",
       "│<span style=\"color: #7f7f7f; text-decoration-color: #7f7f7f\">                               </span>│<span style=\"color: #7f7f7f; text-decoration-color: #7f7f7f\">                               </span>│<span style=\"color: #7f7f7f; text-decoration-color: #7f7f7f\">        </span>│<span style=\"color: #7f7f7f; text-decoration-color: #7f7f7f\"> Wandering Soul.\" This title   </span>│<span style=\"color: #7f7f7f; text-decoration-color: #7f7f7f\">        </span>│\n",
       "│<span style=\"color: #7f7f7f; text-decoration-color: #7f7f7f\">                               </span>│<span style=\"color: #7f7f7f; text-decoration-color: #7f7f7f\">                               </span>│<span style=\"color: #7f7f7f; text-decoration-color: #7f7f7f\">        </span>│<span style=\"color: #7f7f7f; text-decoration-color: #7f7f7f\"> suggests a collection of      </span>│<span style=\"color: #7f7f7f; text-decoration-color: #7f7f7f\">        </span>│\n",
       "│<span style=\"color: #7f7f7f; text-decoration-color: #7f7f7f\">                               </span>│<span style=\"color: #7f7f7f; text-decoration-color: #7f7f7f\">                               </span>│<span style=\"color: #7f7f7f; text-decoration-color: #7f7f7f\">        </span>│<span style=\"color: #7f7f7f; text-decoration-color: #7f7f7f\"> poems that capture the        </span>│<span style=\"color: #7f7f7f; text-decoration-color: #7f7f7f\">        </span>│\n",
       "│<span style=\"color: #7f7f7f; text-decoration-color: #7f7f7f\">                               </span>│<span style=\"color: #7f7f7f; text-decoration-color: #7f7f7f\">                               </span>│<span style=\"color: #7f7f7f; text-decoration-color: #7f7f7f\">        </span>│<span style=\"color: #7f7f7f; text-decoration-color: #7f7f7f\"> essence of life's journey,    </span>│<span style=\"color: #7f7f7f; text-decoration-color: #7f7f7f\">        </span>│\n",
       "│<span style=\"color: #7f7f7f; text-decoration-color: #7f7f7f\">                               </span>│<span style=\"color: #7f7f7f; text-decoration-color: #7f7f7f\">                               </span>│<span style=\"color: #7f7f7f; text-decoration-color: #7f7f7f\">        </span>│<span style=\"color: #7f7f7f; text-decoration-color: #7f7f7f\"> emotions, and experiences,    </span>│<span style=\"color: #7f7f7f; text-decoration-color: #7f7f7f\">        </span>│\n",
       "│<span style=\"color: #7f7f7f; text-decoration-color: #7f7f7f\">                               </span>│<span style=\"color: #7f7f7f; text-decoration-color: #7f7f7f\">                               </span>│<span style=\"color: #7f7f7f; text-decoration-color: #7f7f7f\">        </span>│<span style=\"color: #7f7f7f; text-decoration-color: #7f7f7f\"> all expressed through the     </span>│<span style=\"color: #7f7f7f; text-decoration-color: #7f7f7f\">        </span>│\n",
       "│<span style=\"color: #7f7f7f; text-decoration-color: #7f7f7f\">                               </span>│<span style=\"color: #7f7f7f; text-decoration-color: #7f7f7f\">                               </span>│<span style=\"color: #7f7f7f; text-decoration-color: #7f7f7f\">        </span>│<span style=\"color: #7f7f7f; text-decoration-color: #7f7f7f\"> beauty of rhyming couplets.   </span>│<span style=\"color: #7f7f7f; text-decoration-color: #7f7f7f\">        </span>│\n",
       "├───────────────────────────────┼───────────────────────────────┼────────┼───────────────────────────────┼────────┤\n",
       "│<span style=\"color: #7f7f7f; text-decoration-color: #7f7f7f\"> A film critic who answers     </span>│<span style=\"color: #7f7f7f; text-decoration-color: #7f7f7f\"> How about \"Cine Sage\"? It has </span>│<span style=\"color: #7f7f7f; text-decoration-color: #7f7f7f\"> 1994   </span>│<span style=\"color: #7f7f7f; text-decoration-color: #7f7f7f\"> Reel Reflections: A Critic's  </span>│<span style=\"color: #7f7f7f; text-decoration-color: #7f7f7f\"> 7      </span>│\n",
       "│<span style=\"color: #7f7f7f; text-decoration-color: #7f7f7f\"> questions as if they are      </span>│<span style=\"color: #7f7f7f; text-decoration-color: #7f7f7f\"> a nice ring to it and         </span>│<span style=\"color: #7f7f7f; text-decoration-color: #7f7f7f\">        </span>│<span style=\"color: #7f7f7f; text-decoration-color: #7f7f7f\"> Journey Through the Silver    </span>│<span style=\"color: #7f7f7f; text-decoration-color: #7f7f7f\">        </span>│\n",
       "│<span style=\"color: #7f7f7f; text-decoration-color: #7f7f7f\"> reviewing a movie.            </span>│<span style=\"color: #7f7f7f; text-decoration-color: #7f7f7f\"> suggests wisdom and insight   </span>│<span style=\"color: #7f7f7f; text-decoration-color: #7f7f7f\">        </span>│<span style=\"color: #7f7f7f; text-decoration-color: #7f7f7f\"> Screen                        </span>│<span style=\"color: #7f7f7f; text-decoration-color: #7f7f7f\">        </span>│\n",
       "│<span style=\"color: #7f7f7f; text-decoration-color: #7f7f7f\">                               </span>│<span style=\"color: #7f7f7f; text-decoration-color: #7f7f7f\"> in the realm of film          </span>│<span style=\"color: #7f7f7f; text-decoration-color: #7f7f7f\">        </span>│<span style=\"color: #7f7f7f; text-decoration-color: #7f7f7f\">                               </span>│<span style=\"color: #7f7f7f; text-decoration-color: #7f7f7f\">        </span>│\n",
       "│<span style=\"color: #7f7f7f; text-decoration-color: #7f7f7f\">                               </span>│<span style=\"color: #7f7f7f; text-decoration-color: #7f7f7f\"> critique.                     </span>│<span style=\"color: #7f7f7f; text-decoration-color: #7f7f7f\">        </span>│<span style=\"color: #7f7f7f; text-decoration-color: #7f7f7f\">                               </span>│<span style=\"color: #7f7f7f; text-decoration-color: #7f7f7f\">        </span>│\n",
       "└───────────────────────────────┴───────────────────────────────┴────────┴───────────────────────────────┴────────┘\n",
       "</pre>\n"
      ],
      "text/plain": [
       "┏━━━━━━━━━━━━━━━━━━━━━━━━━━━━━━━┳━━━━━━━━━━━━━━━━━━━━━━━━━━━━━━━┳━━━━━━━━┳━━━━━━━━━━━━━━━━━━━━━━━━━━━━━━━┳━━━━━━━━┓\n",
       "┃\u001b[1;35m \u001b[0m\u001b[1;35mscenario                     \u001b[0m\u001b[1;35m \u001b[0m┃\u001b[1;35m \u001b[0m\u001b[1;35manswer                       \u001b[0m\u001b[1;35m \u001b[0m┃\u001b[1;35m \u001b[0m\u001b[1;35manswer\u001b[0m\u001b[1;35m \u001b[0m┃\u001b[1;35m \u001b[0m\u001b[1;35manswer                       \u001b[0m\u001b[1;35m \u001b[0m┃\u001b[1;35m \u001b[0m\u001b[1;35manswer\u001b[0m\u001b[1;35m \u001b[0m┃\n",
       "┃\u001b[1;35m \u001b[0m\u001b[1;35m.character                   \u001b[0m\u001b[1;35m \u001b[0m┃\u001b[1;35m \u001b[0m\u001b[1;35m.name                        \u001b[0m\u001b[1;35m \u001b[0m┃\u001b[1;35m \u001b[0m\u001b[1;35m.year \u001b[0m\u001b[1;35m \u001b[0m┃\u001b[1;35m \u001b[0m\u001b[1;35m.book                        \u001b[0m\u001b[1;35m \u001b[0m┃\u001b[1;35m \u001b[0m\u001b[1;35m.talk \u001b[0m\u001b[1;35m \u001b[0m┃\n",
       "┡━━━━━━━━━━━━━━━━━━━━━━━━━━━━━━━╇━━━━━━━━━━━━━━━━━━━━━━━━━━━━━━━╇━━━━━━━━╇━━━━━━━━━━━━━━━━━━━━━━━━━━━━━━━╇━━━━━━━━┩\n",
       "│\u001b[2m \u001b[0m\u001b[2mA surfer dude who relates    \u001b[0m\u001b[2m \u001b[0m│\u001b[2m \u001b[0m\u001b[2mHow about \"Wave Rider Rick\"? \u001b[0m\u001b[2m \u001b[0m│\u001b[2m \u001b[0m\u001b[2m1960  \u001b[0m\u001b[2m \u001b[0m│\u001b[2m \u001b[0m\u001b[2mRiding Life's Waves: Lessons \u001b[0m\u001b[2m \u001b[0m│\u001b[2m \u001b[0m\u001b[2m6     \u001b[0m\u001b[2m \u001b[0m│\n",
       "│\u001b[2m \u001b[0m\u001b[2mevery topic to the ocean or  \u001b[0m\u001b[2m \u001b[0m│\u001b[2m \u001b[0m\u001b[2mIt captures the essence of a \u001b[0m\u001b[2m \u001b[0m│\u001b[2m        \u001b[0m│\u001b[2m \u001b[0m\u001b[2mfrom the Ocean               \u001b[0m\u001b[2m \u001b[0m│\u001b[2m        \u001b[0m│\n",
       "│\u001b[2m \u001b[0m\u001b[2msurfing.                     \u001b[0m\u001b[2m \u001b[0m│\u001b[2m \u001b[0m\u001b[2mlaid-back surfer who sees the\u001b[0m\u001b[2m \u001b[0m│\u001b[2m        \u001b[0m│\u001b[2m                               \u001b[0m│\u001b[2m        \u001b[0m│\n",
       "│\u001b[2m                               \u001b[0m│\u001b[2m \u001b[0m\u001b[2mworld through the lens of the\u001b[0m\u001b[2m \u001b[0m│\u001b[2m        \u001b[0m│\u001b[2m                               \u001b[0m│\u001b[2m        \u001b[0m│\n",
       "│\u001b[2m                               \u001b[0m│\u001b[2m \u001b[0m\u001b[2mocean and surfing.           \u001b[0m\u001b[2m \u001b[0m│\u001b[2m        \u001b[0m│\u001b[2m                               \u001b[0m│\u001b[2m        \u001b[0m│\n",
       "├───────────────────────────────┼───────────────────────────────┼────────┼───────────────────────────────┼────────┤\n",
       "│\u001b[2m \u001b[0m\u001b[2mA sassy grandmother who gives\u001b[0m\u001b[2m \u001b[0m│\u001b[2m \u001b[0m\u001b[2mHow about \"Marge\"? It has a  \u001b[0m\u001b[2m \u001b[0m│\u001b[2m \u001b[0m\u001b[2m1969  \u001b[0m\u001b[2m \u001b[0m│\u001b[2m \u001b[0m\u001b[2mThe best-seller would be     \u001b[0m\u001b[2m \u001b[0m│\u001b[2m \u001b[0m\u001b[2m8     \u001b[0m\u001b[2m \u001b[0m│\n",
       "│\u001b[2m \u001b[0m\u001b[2mblunt, no-nonsense advice    \u001b[0m\u001b[2m \u001b[0m│\u001b[2m \u001b[0m\u001b[2mclassic feel to it, and you  \u001b[0m\u001b[2m \u001b[0m│\u001b[2m        \u001b[0m│\u001b[2m \u001b[0m\u001b[2mcalled \"Granny's Guide to    \u001b[0m\u001b[2m \u001b[0m│\u001b[2m        \u001b[0m│\n",
       "│\u001b[2m \u001b[0m\u001b[2mwith a touch of sarcasm.     \u001b[0m\u001b[2m \u001b[0m│\u001b[2m \u001b[0m\u001b[2mcan almost hear the sass in  \u001b[0m\u001b[2m \u001b[0m│\u001b[2m        \u001b[0m│\u001b[2m \u001b[0m\u001b[2mLife: No Sugar, Just Spice.\" \u001b[0m\u001b[2m \u001b[0m│\u001b[2m        \u001b[0m│\n",
       "│\u001b[2m                               \u001b[0m│\u001b[2m \u001b[0m\u001b[2mher voice when she delivers  \u001b[0m\u001b[2m \u001b[0m│\u001b[2m        \u001b[0m│\u001b[2m                               \u001b[0m│\u001b[2m        \u001b[0m│\n",
       "│\u001b[2m                               \u001b[0m│\u001b[2m \u001b[0m\u001b[2mher no-nonsense advice. Plus,\u001b[0m\u001b[2m \u001b[0m│\u001b[2m        \u001b[0m│\u001b[2m                               \u001b[0m│\u001b[2m        \u001b[0m│\n",
       "│\u001b[2m                               \u001b[0m│\u001b[2m \u001b[0m\u001b[2mit's a name that carries a   \u001b[0m\u001b[2m \u001b[0m│\u001b[2m        \u001b[0m│\u001b[2m                               \u001b[0m│\u001b[2m        \u001b[0m│\n",
       "│\u001b[2m                               \u001b[0m│\u001b[2m \u001b[0m\u001b[2mbit of weight, perfect for a \u001b[0m\u001b[2m \u001b[0m│\u001b[2m        \u001b[0m│\u001b[2m                               \u001b[0m│\u001b[2m        \u001b[0m│\n",
       "│\u001b[2m                               \u001b[0m│\u001b[2m \u001b[0m\u001b[2mgrandmother who doesn't mince\u001b[0m\u001b[2m \u001b[0m│\u001b[2m        \u001b[0m│\u001b[2m                               \u001b[0m│\u001b[2m        \u001b[0m│\n",
       "│\u001b[2m                               \u001b[0m│\u001b[2m \u001b[0m\u001b[2mwords.                       \u001b[0m\u001b[2m \u001b[0m│\u001b[2m        \u001b[0m│\u001b[2m                               \u001b[0m│\u001b[2m        \u001b[0m│\n",
       "├───────────────────────────────┼───────────────────────────────┼────────┼───────────────────────────────┼────────┤\n",
       "│\u001b[2m \u001b[0m\u001b[2mA medieval knight who gives  \u001b[0m\u001b[2m \u001b[0m│\u001b[2m \u001b[0m\u001b[2mHow about \"Sir Draconis the  \u001b[0m\u001b[2m \u001b[0m│\u001b[2m \u001b[0m\u001b[2m1066  \u001b[0m\u001b[2m \u001b[0m│\u001b[2m \u001b[0m\u001b[2mThe best-seller would be     \u001b[0m\u001b[2m \u001b[0m│\u001b[2m \u001b[0m\u001b[2m8     \u001b[0m\u001b[2m \u001b[0m│\n",
       "│\u001b[2m \u001b[0m\u001b[2madvice as if every problem   \u001b[0m\u001b[2m \u001b[0m│\u001b[2m \u001b[0m\u001b[2mWise\"? This name captures    \u001b[0m\u001b[2m \u001b[0m│\u001b[2m        \u001b[0m│\u001b[2m \u001b[0m\u001b[2mcalled \"Slaying Life's       \u001b[0m\u001b[2m \u001b[0m│\u001b[2m        \u001b[0m│\n",
       "│\u001b[2m \u001b[0m\u001b[2mwere a dragon to be slain.   \u001b[0m\u001b[2m \u001b[0m│\u001b[2m \u001b[0m\u001b[2mboth the knightly and        \u001b[0m\u001b[2m \u001b[0m│\u001b[2m        \u001b[0m│\u001b[2m \u001b[0m\u001b[2mDragons: Knightly Wisdom for \u001b[0m\u001b[2m \u001b[0m│\u001b[2m        \u001b[0m│\n",
       "│\u001b[2m                               \u001b[0m│\u001b[2m \u001b[0m\u001b[2madvisory aspects of the      \u001b[0m\u001b[2m \u001b[0m│\u001b[2m        \u001b[0m│\u001b[2m \u001b[0m\u001b[2mModern Challenges.\"          \u001b[0m\u001b[2m \u001b[0m│\u001b[2m        \u001b[0m│\n",
       "│\u001b[2m                               \u001b[0m│\u001b[2m \u001b[0m\u001b[2mcharacter, with \"Draconis\"   \u001b[0m\u001b[2m \u001b[0m│\u001b[2m        \u001b[0m│\u001b[2m                               \u001b[0m│\u001b[2m        \u001b[0m│\n",
       "│\u001b[2m                               \u001b[0m│\u001b[2m \u001b[0m\u001b[2mhinting at his dragon-slaying\u001b[0m\u001b[2m \u001b[0m│\u001b[2m        \u001b[0m│\u001b[2m                               \u001b[0m│\u001b[2m        \u001b[0m│\n",
       "│\u001b[2m                               \u001b[0m│\u001b[2m \u001b[0m\u001b[2mmentality and \"the Wise\"     \u001b[0m\u001b[2m \u001b[0m│\u001b[2m        \u001b[0m│\u001b[2m                               \u001b[0m│\u001b[2m        \u001b[0m│\n",
       "│\u001b[2m                               \u001b[0m│\u001b[2m \u001b[0m\u001b[2memphasizing his role as a    \u001b[0m\u001b[2m \u001b[0m│\u001b[2m        \u001b[0m│\u001b[2m                               \u001b[0m│\u001b[2m        \u001b[0m│\n",
       "│\u001b[2m                               \u001b[0m│\u001b[2m \u001b[0m\u001b[2msage advisor.                \u001b[0m\u001b[2m \u001b[0m│\u001b[2m        \u001b[0m│\u001b[2m                               \u001b[0m│\u001b[2m        \u001b[0m│\n",
       "├───────────────────────────────┼───────────────────────────────┼────────┼───────────────────────────────┼────────┤\n",
       "│\u001b[2m \u001b[0m\u001b[2mA Shakespearean actor who    \u001b[0m\u001b[2m \u001b[0m│\u001b[2m \u001b[0m\u001b[2mHow about \"Reginald          \u001b[0m\u001b[2m \u001b[0m│\u001b[2m \u001b[0m\u001b[2m1600  \u001b[0m\u001b[2m \u001b[0m│\u001b[2m \u001b[0m\u001b[2mIf a Shakespearean actor,    \u001b[0m\u001b[2m \u001b[0m│\u001b[2m \u001b[0m\u001b[2m8     \u001b[0m\u001b[2m \u001b[0m│\n",
       "│\u001b[2m \u001b[0m\u001b[2manswers every question in    \u001b[0m\u001b[2m \u001b[0m│\u001b[2m \u001b[0m\u001b[2mQuillington\"? It has a       \u001b[0m\u001b[2m \u001b[0m│\u001b[2m        \u001b[0m│\u001b[2m \u001b[0m\u001b[2mknown for answering every    \u001b[0m\u001b[2m \u001b[0m│\u001b[2m        \u001b[0m│\n",
       "│\u001b[2m \u001b[0m\u001b[2miambic pentameter.           \u001b[0m\u001b[2m \u001b[0m│\u001b[2m \u001b[0m\u001b[2mclassic, theatrical ring to  \u001b[0m\u001b[2m \u001b[0m│\u001b[2m        \u001b[0m│\u001b[2m \u001b[0m\u001b[2mquestion in iambic           \u001b[0m\u001b[2m \u001b[0m│\u001b[2m        \u001b[0m│\n",
       "│\u001b[2m                               \u001b[0m│\u001b[2m \u001b[0m\u001b[2mit that suits a Shakespearean\u001b[0m\u001b[2m \u001b[0m│\u001b[2m        \u001b[0m│\u001b[2m \u001b[0m\u001b[2mpentameter, were to write a  \u001b[0m\u001b[2m \u001b[0m│\u001b[2m        \u001b[0m│\n",
       "│\u001b[2m                               \u001b[0m│\u001b[2m \u001b[0m\u001b[2mactor, and the name          \u001b[0m\u001b[2m \u001b[0m│\u001b[2m        \u001b[0m│\u001b[2m \u001b[0m\u001b[2mbest-seller, it might be     \u001b[0m\u001b[2m \u001b[0m│\u001b[2m        \u001b[0m│\n",
       "│\u001b[2m                               \u001b[0m│\u001b[2m \u001b[0m\u001b[2m\"Quillington\" evokes the     \u001b[0m\u001b[2m \u001b[0m│\u001b[2m        \u001b[0m│\u001b[2m \u001b[0m\u001b[2mcalled \"Verses of the Bard:  \u001b[0m\u001b[2m \u001b[0m│\u001b[2m        \u001b[0m│\n",
       "│\u001b[2m                               \u001b[0m│\u001b[2m \u001b[0m\u001b[2mquill, a nod to Shakespeare's\u001b[0m\u001b[2m \u001b[0m│\u001b[2m        \u001b[0m│\u001b[2m \u001b[0m\u001b[2mLife in Iambic Pentameter.\"  \u001b[0m\u001b[2m \u001b[0m│\u001b[2m        \u001b[0m│\n",
       "│\u001b[2m                               \u001b[0m│\u001b[2m \u001b[0m\u001b[2mwriting.                     \u001b[0m\u001b[2m \u001b[0m│\u001b[2m        \u001b[0m│\u001b[2m                               \u001b[0m│\u001b[2m        \u001b[0m│\n",
       "├───────────────────────────────┼───────────────────────────────┼────────┼───────────────────────────────┼────────┤\n",
       "│\u001b[2m \u001b[0m\u001b[2mA pirate who speaks in 'arrs'\u001b[0m\u001b[2m \u001b[0m│\u001b[2m \u001b[0m\u001b[2mHow about \"Captain           \u001b[0m\u001b[2m \u001b[0m│\u001b[2m \u001b[0m\u001b[2m1717  \u001b[0m\u001b[2m \u001b[0m│\u001b[2m \u001b[0m\u001b[2mTech Treasures of the Digital\u001b[0m\u001b[2m \u001b[0m│\u001b[2m \u001b[0m\u001b[2m9     \u001b[0m\u001b[2m \u001b[0m│\n",
       "│\u001b[2m \u001b[0m\u001b[2mand 'mateys' but has an      \u001b[0m\u001b[2m \u001b[0m│\u001b[2m \u001b[0m\u001b[2mTechbeard\"? This name        \u001b[0m\u001b[2m \u001b[0m│\u001b[2m        \u001b[0m│\u001b[2m \u001b[0m\u001b[2mSeas: A Pirate's Guide to    \u001b[0m\u001b[2m \u001b[0m│\u001b[2m        \u001b[0m│\n",
       "│\u001b[2m \u001b[0m\u001b[2mencyclopedic knowledge of    \u001b[0m\u001b[2m \u001b[0m│\u001b[2m \u001b[0m\u001b[2mcombines the classic pirate  \u001b[0m\u001b[2m \u001b[0m│\u001b[2m        \u001b[0m│\u001b[2m \u001b[0m\u001b[2mModern Marvels               \u001b[0m\u001b[2m \u001b[0m│\u001b[2m        \u001b[0m│\n",
       "│\u001b[2m \u001b[0m\u001b[2mmodern technology.           \u001b[0m\u001b[2m \u001b[0m│\u001b[2m \u001b[0m\u001b[2mimagery with a nod to their  \u001b[0m\u001b[2m \u001b[0m│\u001b[2m        \u001b[0m│\u001b[2m                               \u001b[0m│\u001b[2m        \u001b[0m│\n",
       "│\u001b[2m                               \u001b[0m│\u001b[2m \u001b[0m\u001b[2msurprising expertise in      \u001b[0m\u001b[2m \u001b[0m│\u001b[2m        \u001b[0m│\u001b[2m                               \u001b[0m│\u001b[2m        \u001b[0m│\n",
       "│\u001b[2m                               \u001b[0m│\u001b[2m \u001b[0m\u001b[2mmodern technology. It        \u001b[0m\u001b[2m \u001b[0m│\u001b[2m        \u001b[0m│\u001b[2m                               \u001b[0m│\u001b[2m        \u001b[0m│\n",
       "│\u001b[2m                               \u001b[0m│\u001b[2m \u001b[0m\u001b[2mcaptures both the traditional\u001b[0m\u001b[2m \u001b[0m│\u001b[2m        \u001b[0m│\u001b[2m                               \u001b[0m│\u001b[2m        \u001b[0m│\n",
       "│\u001b[2m                               \u001b[0m│\u001b[2m \u001b[0m\u001b[2mand the innovative aspects of\u001b[0m\u001b[2m \u001b[0m│\u001b[2m        \u001b[0m│\u001b[2m                               \u001b[0m│\u001b[2m        \u001b[0m│\n",
       "│\u001b[2m                               \u001b[0m│\u001b[2m \u001b[0m\u001b[2mthe character.               \u001b[0m\u001b[2m \u001b[0m│\u001b[2m        \u001b[0m│\u001b[2m                               \u001b[0m│\u001b[2m        \u001b[0m│\n",
       "├───────────────────────────────┼───────────────────────────────┼────────┼───────────────────────────────┼────────┤\n",
       "│\u001b[2m \u001b[0m\u001b[2mA fitness guru who turns     \u001b[0m\u001b[2m \u001b[0m│\u001b[2m \u001b[0m\u001b[2mHow about \"Flex Wheeler\"? It \u001b[0m\u001b[2m \u001b[0m│\u001b[2m \u001b[0m\u001b[2m1980  \u001b[0m\u001b[2m \u001b[0m│\u001b[2m \u001b[0m\u001b[2mFlex Your Mind: Strength     \u001b[0m\u001b[2m \u001b[0m│\u001b[2m \u001b[0m\u001b[2m3     \u001b[0m\u001b[2m \u001b[0m│\n",
       "│\u001b[2m \u001b[0m\u001b[2mevery answer into a workout  \u001b[0m\u001b[2m \u001b[0m│\u001b[2m \u001b[0m\u001b[2mcaptures the essence of      \u001b[0m\u001b[2m \u001b[0m│\u001b[2m        \u001b[0m│\u001b[2m \u001b[0m\u001b[2mTraining for Life's          \u001b[0m\u001b[2m \u001b[0m│\u001b[2m        \u001b[0m│\n",
       "│\u001b[2m \u001b[0m\u001b[2mmetaphor.                    \u001b[0m\u001b[2m \u001b[0m│\u001b[2m \u001b[0m\u001b[2mfitness and the idea of      \u001b[0m\u001b[2m \u001b[0m│\u001b[2m        \u001b[0m│\u001b[2m \u001b[0m\u001b[2mChallenges                   \u001b[0m\u001b[2m \u001b[0m│\u001b[2m        \u001b[0m│\n",
       "│\u001b[2m                               \u001b[0m│\u001b[2m \u001b[0m\u001b[2mbending responses into       \u001b[0m\u001b[2m \u001b[0m│\u001b[2m        \u001b[0m│\u001b[2m                               \u001b[0m│\u001b[2m        \u001b[0m│\n",
       "│\u001b[2m                               \u001b[0m│\u001b[2m \u001b[0m\u001b[2mworkout metaphors.           \u001b[0m\u001b[2m \u001b[0m│\u001b[2m        \u001b[0m│\u001b[2m                               \u001b[0m│\u001b[2m        \u001b[0m│\n",
       "├───────────────────────────────┼───────────────────────────────┼────────┼───────────────────────────────┼────────┤\n",
       "│\u001b[2m \u001b[0m\u001b[2mA robot who is overly        \u001b[0m\u001b[2m \u001b[0m│\u001b[2m \u001b[0m\u001b[2mHow about \"Emoti-Bot\"? It    \u001b[0m\u001b[2m \u001b[0m│\u001b[2m \u001b[0m\u001b[2m2023  \u001b[0m\u001b[2m \u001b[0m│\u001b[2m \u001b[0m\u001b[2mHeartwired: The Robot's Guide\u001b[0m\u001b[2m \u001b[0m│\u001b[2m \u001b[0m\u001b[2m7     \u001b[0m\u001b[2m \u001b[0m│\n",
       "│\u001b[2m \u001b[0m\u001b[2menthusiastic about human     \u001b[0m\u001b[2m \u001b[0m│\u001b[2m \u001b[0m\u001b[2mcaptures the essence of a    \u001b[0m\u001b[2m \u001b[0m│\u001b[2m        \u001b[0m│\u001b[2m \u001b[0m\u001b[2mto Human Emotions            \u001b[0m\u001b[2m \u001b[0m│\u001b[2m        \u001b[0m│\n",
       "│\u001b[2m \u001b[0m\u001b[2memotions and tries too hard  \u001b[0m\u001b[2m \u001b[0m│\u001b[2m \u001b[0m\u001b[2mrobot who is eager to        \u001b[0m\u001b[2m \u001b[0m│\u001b[2m        \u001b[0m│\u001b[2m                               \u001b[0m│\u001b[2m        \u001b[0m│\n",
       "│\u001b[2m \u001b[0m\u001b[2mto fit in.                   \u001b[0m\u001b[2m \u001b[0m│\u001b[2m \u001b[0m\u001b[2munderstand and express human \u001b[0m\u001b[2m \u001b[0m│\u001b[2m        \u001b[0m│\u001b[2m                               \u001b[0m│\u001b[2m        \u001b[0m│\n",
       "│\u001b[2m                               \u001b[0m│\u001b[2m \u001b[0m\u001b[2memotions, and the name has a \u001b[0m\u001b[2m \u001b[0m│\u001b[2m        \u001b[0m│\u001b[2m                               \u001b[0m│\u001b[2m        \u001b[0m│\n",
       "│\u001b[2m                               \u001b[0m│\u001b[2m \u001b[0m\u001b[2mplayful, approachable vibe   \u001b[0m\u001b[2m \u001b[0m│\u001b[2m        \u001b[0m│\u001b[2m                               \u001b[0m│\u001b[2m        \u001b[0m│\n",
       "│\u001b[2m                               \u001b[0m│\u001b[2m \u001b[0m\u001b[2mthat fits the character's    \u001b[0m\u001b[2m \u001b[0m│\u001b[2m        \u001b[0m│\u001b[2m                               \u001b[0m│\u001b[2m        \u001b[0m│\n",
       "│\u001b[2m                               \u001b[0m│\u001b[2m \u001b[0m\u001b[2menthusiastic nature.         \u001b[0m\u001b[2m \u001b[0m│\u001b[2m        \u001b[0m│\u001b[2m                               \u001b[0m│\u001b[2m        \u001b[0m│\n",
       "├───────────────────────────────┼───────────────────────────────┼────────┼───────────────────────────────┼────────┤\n",
       "│\u001b[2m \u001b[0m\u001b[2mA fashionista who answers    \u001b[0m\u001b[2m \u001b[0m│\u001b[2m \u001b[0m\u001b[2mHow about \"Vivienne Chic\"?   \u001b[0m\u001b[2m \u001b[0m│\u001b[2m \u001b[0m\u001b[2m1960  \u001b[0m\u001b[2m \u001b[0m│\u001b[2m \u001b[0m\u001b[2mThe Chic Query: Unveiling    \u001b[0m\u001b[2m \u001b[0m│\u001b[2m \u001b[0m\u001b[2m6     \u001b[0m\u001b[2m \u001b[0m│\n",
       "│\u001b[2m \u001b[0m\u001b[2mquestions with a focus on    \u001b[0m\u001b[2m \u001b[0m│\u001b[2m \u001b[0m\u001b[2mIt's a name that exudes      \u001b[0m\u001b[2m \u001b[0m│\u001b[2m        \u001b[0m│\u001b[2m \u001b[0m\u001b[2mStyle Secrets with a         \u001b[0m\u001b[2m \u001b[0m│\u001b[2m        \u001b[0m│\n",
       "│\u001b[2m \u001b[0m\u001b[2mstyle and trendiness.        \u001b[0m\u001b[2m \u001b[0m│\u001b[2m \u001b[0m\u001b[2melegance, sophistication, and\u001b[0m\u001b[2m \u001b[0m│\u001b[2m        \u001b[0m│\u001b[2m \u001b[0m\u001b[2mFashionista's Flair          \u001b[0m\u001b[2m \u001b[0m│\u001b[2m        \u001b[0m│\n",
       "│\u001b[2m                               \u001b[0m│\u001b[2m \u001b[0m\u001b[2ma keen sense of fashion.     \u001b[0m\u001b[2m \u001b[0m│\u001b[2m        \u001b[0m│\u001b[2m                               \u001b[0m│\u001b[2m        \u001b[0m│\n",
       "├───────────────────────────────┼───────────────────────────────┼────────┼───────────────────────────────┼────────┤\n",
       "│\u001b[2m \u001b[0m\u001b[2mA toddler who is overly      \u001b[0m\u001b[2m \u001b[0m│\u001b[2m \u001b[0m\u001b[2mHow about the name \"Quincy\"? \u001b[0m\u001b[2m \u001b[0m│\u001b[2m \u001b[0m\u001b[2m1847  \u001b[0m\u001b[2m \u001b[0m│\u001b[2m \u001b[0m\u001b[2mWhy, Why, Why? The Adventures\u001b[0m\u001b[2m \u001b[0m│\u001b[2m \u001b[0m\u001b[2m8     \u001b[0m\u001b[2m \u001b[0m│\n",
       "│\u001b[2m \u001b[0m\u001b[2mcurious and asks more        \u001b[0m\u001b[2m \u001b[0m│\u001b[2m \u001b[0m\u001b[2mIt has a playful and         \u001b[0m\u001b[2m \u001b[0m│\u001b[2m        \u001b[0m│\u001b[2m \u001b[0m\u001b[2mof a Curious Toddler         \u001b[0m\u001b[2m \u001b[0m│\u001b[2m        \u001b[0m│\n",
       "│\u001b[2m \u001b[0m\u001b[2mquestions than they answer.  \u001b[0m\u001b[2m \u001b[0m│\u001b[2m \u001b[0m\u001b[2minquisitive sound to it,     \u001b[0m\u001b[2m \u001b[0m│\u001b[2m        \u001b[0m│\u001b[2m                               \u001b[0m│\u001b[2m        \u001b[0m│\n",
       "│\u001b[2m                               \u001b[0m│\u001b[2m \u001b[0m\u001b[2mwhich fits perfectly with a  \u001b[0m\u001b[2m \u001b[0m│\u001b[2m        \u001b[0m│\u001b[2m                               \u001b[0m│\u001b[2m        \u001b[0m│\n",
       "│\u001b[2m                               \u001b[0m│\u001b[2m \u001b[0m\u001b[2mcharacter who is always      \u001b[0m\u001b[2m \u001b[0m│\u001b[2m        \u001b[0m│\u001b[2m                               \u001b[0m│\u001b[2m        \u001b[0m│\n",
       "│\u001b[2m                               \u001b[0m│\u001b[2m \u001b[0m\u001b[2masking questions and         \u001b[0m\u001b[2m \u001b[0m│\u001b[2m        \u001b[0m│\u001b[2m                               \u001b[0m│\u001b[2m        \u001b[0m│\n",
       "│\u001b[2m                               \u001b[0m│\u001b[2m \u001b[0m\u001b[2mexploring the world around   \u001b[0m\u001b[2m \u001b[0m│\u001b[2m        \u001b[0m│\u001b[2m                               \u001b[0m│\u001b[2m        \u001b[0m│\n",
       "│\u001b[2m                               \u001b[0m│\u001b[2m \u001b[0m\u001b[2mthem.                        \u001b[0m\u001b[2m \u001b[0m│\u001b[2m        \u001b[0m│\u001b[2m                               \u001b[0m│\u001b[2m        \u001b[0m│\n",
       "├───────────────────────────────┼───────────────────────────────┼────────┼───────────────────────────────┼────────┤\n",
       "│\u001b[2m \u001b[0m\u001b[2mA conspiracy theorist who    \u001b[0m\u001b[2m \u001b[0m│\u001b[2m \u001b[0m\u001b[2mHow about \"Oliver Tinfoil\"?  \u001b[0m\u001b[2m \u001b[0m│\u001b[2m \u001b[0m\u001b[2m1969  \u001b[0m\u001b[2m \u001b[0m│\u001b[2m \u001b[0m\u001b[2mWeb of Shadows: Unveiling the\u001b[0m\u001b[2m \u001b[0m│\u001b[2m \u001b[0m\u001b[2m3     \u001b[0m\u001b[2m \u001b[0m│\n",
       "│\u001b[2m \u001b[0m\u001b[2mconnects every question to   \u001b[0m\u001b[2m \u001b[0m│\u001b[2m \u001b[0m\u001b[2mIt has a quirky ring to it   \u001b[0m\u001b[2m \u001b[0m│\u001b[2m        \u001b[0m│\u001b[2m \u001b[0m\u001b[2mHidden Truths Behind Everyday\u001b[0m\u001b[2m \u001b[0m│\u001b[2m        \u001b[0m│\n",
       "│\u001b[2m \u001b[0m\u001b[2mtheir wild theories.         \u001b[0m\u001b[2m \u001b[0m│\u001b[2m \u001b[0m\u001b[2mand immediately hints at the \u001b[0m\u001b[2m \u001b[0m│\u001b[2m        \u001b[0m│\u001b[2m \u001b[0m\u001b[2mQuestions                    \u001b[0m\u001b[2m \u001b[0m│\u001b[2m        \u001b[0m│\n",
       "│\u001b[2m                               \u001b[0m│\u001b[2m \u001b[0m\u001b[2mcharacter's penchant for     \u001b[0m\u001b[2m \u001b[0m│\u001b[2m        \u001b[0m│\u001b[2m                               \u001b[0m│\u001b[2m        \u001b[0m│\n",
       "│\u001b[2m                               \u001b[0m│\u001b[2m \u001b[0m\u001b[2mconspiracy theories.         \u001b[0m\u001b[2m \u001b[0m│\u001b[2m        \u001b[0m│\u001b[2m                               \u001b[0m│\u001b[2m        \u001b[0m│\n",
       "├───────────────────────────────┼───────────────────────────────┼────────┼───────────────────────────────┼────────┤\n",
       "│\u001b[2m \u001b[0m\u001b[2mA gamer who references video \u001b[0m\u001b[2m \u001b[0m│\u001b[2m \u001b[0m\u001b[2mHow about \"Pixel\"? It's a    \u001b[0m\u001b[2m \u001b[0m│\u001b[2m \u001b[0m\u001b[2m2007  \u001b[0m\u001b[2m \u001b[0m│\u001b[2m \u001b[0m\u001b[2mConsidering the persona of a \u001b[0m\u001b[2m \u001b[0m│\u001b[2m \u001b[0m\u001b[2m7     \u001b[0m\u001b[2m \u001b[0m│\n",
       "│\u001b[2m \u001b[0m\u001b[2mgames and uses gamer lingo.  \u001b[0m\u001b[2m \u001b[0m│\u001b[2m \u001b[0m\u001b[2mname that immediately brings \u001b[0m\u001b[2m \u001b[0m│\u001b[2m        \u001b[0m│\u001b[2m \u001b[0m\u001b[2mgamer who references video   \u001b[0m\u001b[2m \u001b[0m│\u001b[2m        \u001b[0m│\n",
       "│\u001b[2m                               \u001b[0m│\u001b[2m \u001b[0m\u001b[2mto mind the world of gaming, \u001b[0m\u001b[2m \u001b[0m│\u001b[2m        \u001b[0m│\u001b[2m \u001b[0m\u001b[2mgames and uses gamer lingo, a\u001b[0m\u001b[2m \u001b[0m│\u001b[2m        \u001b[0m│\n",
       "│\u001b[2m                               \u001b[0m│\u001b[2m \u001b[0m\u001b[2mand it’s short and catchy.   \u001b[0m\u001b[2m \u001b[0m│\u001b[2m        \u001b[0m│\u001b[2m \u001b[0m\u001b[2mbest-seller might be called  \u001b[0m\u001b[2m \u001b[0m│\u001b[2m        \u001b[0m│\n",
       "│\u001b[2m                               \u001b[0m│\u001b[2m \u001b[0m\u001b[2mPlus, it can be easily       \u001b[0m\u001b[2m \u001b[0m│\u001b[2m        \u001b[0m│\u001b[2m \u001b[0m\u001b[2m\"Level Up: Mastering Life's  \u001b[0m\u001b[2m \u001b[0m│\u001b[2m        \u001b[0m│\n",
       "│\u001b[2m                               \u001b[0m│\u001b[2m \u001b[0m\u001b[2massociated with the digital  \u001b[0m\u001b[2m \u001b[0m│\u001b[2m        \u001b[0m│\u001b[2m \u001b[0m\u001b[2mQuests with Gamer Wisdom.\"   \u001b[0m\u001b[2m \u001b[0m│\u001b[2m        \u001b[0m│\n",
       "│\u001b[2m                               \u001b[0m│\u001b[2m \u001b[0m\u001b[2mnature of video games.       \u001b[0m\u001b[2m \u001b[0m│\u001b[2m        \u001b[0m│\u001b[2m \u001b[0m\u001b[2mThis title captures the      \u001b[0m\u001b[2m \u001b[0m│\u001b[2m        \u001b[0m│\n",
       "│\u001b[2m                               \u001b[0m│\u001b[2m                               \u001b[0m│\u001b[2m        \u001b[0m│\u001b[2m \u001b[0m\u001b[2messence of applying gaming   \u001b[0m\u001b[2m \u001b[0m│\u001b[2m        \u001b[0m│\n",
       "│\u001b[2m                               \u001b[0m│\u001b[2m                               \u001b[0m│\u001b[2m        \u001b[0m│\u001b[2m \u001b[0m\u001b[2mstrategies and terminologies \u001b[0m\u001b[2m \u001b[0m│\u001b[2m        \u001b[0m│\n",
       "│\u001b[2m                               \u001b[0m│\u001b[2m                               \u001b[0m│\u001b[2m        \u001b[0m│\u001b[2m \u001b[0m\u001b[2mto real-life situations,     \u001b[0m\u001b[2m \u001b[0m│\u001b[2m        \u001b[0m│\n",
       "│\u001b[2m                               \u001b[0m│\u001b[2m                               \u001b[0m│\u001b[2m        \u001b[0m│\u001b[2m \u001b[0m\u001b[2menticing fellow gamers and   \u001b[0m\u001b[2m \u001b[0m│\u001b[2m        \u001b[0m│\n",
       "│\u001b[2m                               \u001b[0m│\u001b[2m                               \u001b[0m│\u001b[2m        \u001b[0m│\u001b[2m \u001b[0m\u001b[2mthose curious about the      \u001b[0m\u001b[2m \u001b[0m│\u001b[2m        \u001b[0m│\n",
       "│\u001b[2m                               \u001b[0m│\u001b[2m                               \u001b[0m│\u001b[2m        \u001b[0m│\u001b[2m \u001b[0m\u001b[2mgaming world alike.          \u001b[0m\u001b[2m \u001b[0m│\u001b[2m        \u001b[0m│\n",
       "├───────────────────────────────┼───────────────────────────────┼────────┼───────────────────────────────┼────────┤\n",
       "│\u001b[2m \u001b[0m\u001b[2mA superhero who answers      \u001b[0m\u001b[2m \u001b[0m│\u001b[2m \u001b[0m\u001b[2mHow about \"Captain Query\"?   \u001b[0m\u001b[2m \u001b[0m│\u001b[2m \u001b[0m\u001b[2m1963  \u001b[0m\u001b[2m \u001b[0m│\u001b[2m \u001b[0m\u001b[2mAnswers to the Rescue: The   \u001b[0m\u001b[2m \u001b[0m│\u001b[2m \u001b[0m\u001b[2m8     \u001b[0m\u001b[2m \u001b[0m│\n",
       "│\u001b[2m \u001b[0m\u001b[2mquestions as if they are     \u001b[0m\u001b[2m \u001b[0m│\u001b[2m \u001b[0m\u001b[2mThis superhero uses their    \u001b[0m\u001b[2m \u001b[0m│\u001b[2m        \u001b[0m│\u001b[2m \u001b[0m\u001b[2mSuperhero's Guide to Saving  \u001b[0m\u001b[2m \u001b[0m│\u001b[2m        \u001b[0m│\n",
       "│\u001b[2m \u001b[0m\u001b[2msaving the day.              \u001b[0m\u001b[2m \u001b[0m│\u001b[2m \u001b[0m\u001b[2mknowledge and quick thinking \u001b[0m\u001b[2m \u001b[0m│\u001b[2m        \u001b[0m│\u001b[2m \u001b[0m\u001b[2mthe Day with Knowledge       \u001b[0m\u001b[2m \u001b[0m│\u001b[2m        \u001b[0m│\n",
       "│\u001b[2m                               \u001b[0m│\u001b[2m \u001b[0m\u001b[2mto tackle any question thrown\u001b[0m\u001b[2m \u001b[0m│\u001b[2m        \u001b[0m│\u001b[2m                               \u001b[0m│\u001b[2m        \u001b[0m│\n",
       "│\u001b[2m                               \u001b[0m│\u001b[2m \u001b[0m\u001b[2mtheir way, making sure       \u001b[0m\u001b[2m \u001b[0m│\u001b[2m        \u001b[0m│\u001b[2m                               \u001b[0m│\u001b[2m        \u001b[0m│\n",
       "│\u001b[2m                               \u001b[0m│\u001b[2m \u001b[0m\u001b[2meveryone gets the answers    \u001b[0m\u001b[2m \u001b[0m│\u001b[2m        \u001b[0m│\u001b[2m                               \u001b[0m│\u001b[2m        \u001b[0m│\n",
       "│\u001b[2m                               \u001b[0m│\u001b[2m \u001b[0m\u001b[2mthey need in record time!    \u001b[0m\u001b[2m \u001b[0m│\u001b[2m        \u001b[0m│\u001b[2m                               \u001b[0m│\u001b[2m        \u001b[0m│\n",
       "├───────────────────────────────┼───────────────────────────────┼────────┼───────────────────────────────┼────────┤\n",
       "│\u001b[2m \u001b[0m\u001b[2mA detective from a noir film \u001b[0m\u001b[2m \u001b[0m│\u001b[2m \u001b[0m\u001b[2mHow about \"Jack Sullivan\"? It\u001b[0m\u001b[2m \u001b[0m│\u001b[2m \u001b[0m\u001b[2m1947  \u001b[0m\u001b[2m \u001b[0m│\u001b[2m \u001b[0m\u001b[2mShadows in the Rain: A       \u001b[0m\u001b[2m \u001b[0m│\u001b[2m \u001b[0m\u001b[2m10    \u001b[0m\u001b[2m \u001b[0m│\n",
       "│\u001b[2m \u001b[0m\u001b[2mwho answers in a gritty,     \u001b[0m\u001b[2m \u001b[0m│\u001b[2m \u001b[0m\u001b[2mhas a classic, hard-boiled   \u001b[0m\u001b[2m \u001b[0m│\u001b[2m        \u001b[0m│\u001b[2m \u001b[0m\u001b[2mDetective's Tale             \u001b[0m\u001b[2m \u001b[0m│\u001b[2m        \u001b[0m│\n",
       "│\u001b[2m \u001b[0m\u001b[2mmysterious manner.           \u001b[0m\u001b[2m \u001b[0m│\u001b[2m \u001b[0m\u001b[2mring to it that fits the     \u001b[0m\u001b[2m \u001b[0m│\u001b[2m        \u001b[0m│\u001b[2m                               \u001b[0m│\u001b[2m        \u001b[0m│\n",
       "│\u001b[2m                               \u001b[0m│\u001b[2m \u001b[0m\u001b[2mgritty, mysterious vibe of a \u001b[0m\u001b[2m \u001b[0m│\u001b[2m        \u001b[0m│\u001b[2m                               \u001b[0m│\u001b[2m        \u001b[0m│\n",
       "│\u001b[2m                               \u001b[0m│\u001b[2m \u001b[0m\u001b[2mnoir detective.              \u001b[0m\u001b[2m \u001b[0m│\u001b[2m        \u001b[0m│\u001b[2m                               \u001b[0m│\u001b[2m        \u001b[0m│\n",
       "├───────────────────────────────┼───────────────────────────────┼────────┼───────────────────────────────┼────────┤\n",
       "│\u001b[2m \u001b[0m\u001b[2mA hippie from the 60s who    \u001b[0m\u001b[2m \u001b[0m│\u001b[2m \u001b[0m\u001b[2mHow about \"Harmony Moonbeam\"?\u001b[0m\u001b[2m \u001b[0m│\u001b[2m \u001b[0m\u001b[2m1969  \u001b[0m\u001b[2m \u001b[0m│\u001b[2m \u001b[0m\u001b[2mGiven the persona of a hippie\u001b[0m\u001b[2m \u001b[0m│\u001b[2m \u001b[0m\u001b[2m7     \u001b[0m\u001b[2m \u001b[0m│\n",
       "│\u001b[2m \u001b[0m\u001b[2mgives peace and love-centric \u001b[0m\u001b[2m \u001b[0m│\u001b[2m \u001b[0m\u001b[2mIt captures the essence of   \u001b[0m\u001b[2m \u001b[0m│\u001b[2m        \u001b[0m│\u001b[2m \u001b[0m\u001b[2mfrom the 60s who gives peace \u001b[0m\u001b[2m \u001b[0m│\u001b[2m        \u001b[0m│\n",
       "│\u001b[2m \u001b[0m\u001b[2madvice.                      \u001b[0m\u001b[2m \u001b[0m│\u001b[2m \u001b[0m\u001b[2mthe 60s hippie culture and   \u001b[0m\u001b[2m \u001b[0m│\u001b[2m        \u001b[0m│\u001b[2m \u001b[0m\u001b[2mand love-centric advice, a   \u001b[0m\u001b[2m \u001b[0m│\u001b[2m        \u001b[0m│\n",
       "│\u001b[2m                               \u001b[0m│\u001b[2m \u001b[0m\u001b[2mreflects a peaceful,         \u001b[0m\u001b[2m \u001b[0m│\u001b[2m        \u001b[0m│\u001b[2m \u001b[0m\u001b[2mfitting title for their      \u001b[0m\u001b[2m \u001b[0m│\u001b[2m        \u001b[0m│\n",
       "│\u001b[2m                               \u001b[0m│\u001b[2m \u001b[0m\u001b[2mlove-centric vibe.           \u001b[0m\u001b[2m \u001b[0m│\u001b[2m        \u001b[0m│\u001b[2m \u001b[0m\u001b[2mbest-seller might be \"Harmony\u001b[0m\u001b[2m \u001b[0m│\u001b[2m        \u001b[0m│\n",
       "│\u001b[2m                               \u001b[0m│\u001b[2m                               \u001b[0m│\u001b[2m        \u001b[0m│\u001b[2m \u001b[0m\u001b[2min Every Heart: A Journey of \u001b[0m\u001b[2m \u001b[0m│\u001b[2m        \u001b[0m│\n",
       "│\u001b[2m                               \u001b[0m│\u001b[2m                               \u001b[0m│\u001b[2m        \u001b[0m│\u001b[2m \u001b[0m\u001b[2mPeace and Love.\" This title  \u001b[0m\u001b[2m \u001b[0m│\u001b[2m        \u001b[0m│\n",
       "│\u001b[2m                               \u001b[0m│\u001b[2m                               \u001b[0m│\u001b[2m        \u001b[0m│\u001b[2m \u001b[0m\u001b[2mcaptures the essence of their\u001b[0m\u001b[2m \u001b[0m│\u001b[2m        \u001b[0m│\n",
       "│\u001b[2m                               \u001b[0m│\u001b[2m                               \u001b[0m│\u001b[2m        \u001b[0m│\u001b[2m \u001b[0m\u001b[2mmessage and the era they     \u001b[0m\u001b[2m \u001b[0m│\u001b[2m        \u001b[0m│\n",
       "│\u001b[2m                               \u001b[0m│\u001b[2m                               \u001b[0m│\u001b[2m        \u001b[0m│\u001b[2m \u001b[0m\u001b[2mrepresent.                   \u001b[0m\u001b[2m \u001b[0m│\u001b[2m        \u001b[0m│\n",
       "├───────────────────────────────┼───────────────────────────────┼────────┼───────────────────────────────┼────────┤\n",
       "│\u001b[2m \u001b[0m\u001b[2mA foodie who relates every   \u001b[0m\u001b[2m \u001b[0m│\u001b[2m \u001b[0m\u001b[2mHow about \"Chef Sage\"? It    \u001b[0m\u001b[2m \u001b[0m│\u001b[2m \u001b[0m\u001b[2mNone  \u001b[0m\u001b[2m \u001b[0m│\u001b[2m \u001b[0m\u001b[2mThe Culinary Compass:        \u001b[0m\u001b[2m \u001b[0m│\u001b[2m \u001b[0m\u001b[2m8     \u001b[0m\u001b[2m \u001b[0m│\n",
       "│\u001b[2m \u001b[0m\u001b[2mquestion to cooking and food \u001b[0m\u001b[2m \u001b[0m│\u001b[2m \u001b[0m\u001b[2mcaptures the essence of      \u001b[0m\u001b[2m \u001b[0m│\u001b[2m        \u001b[0m│\u001b[2m \u001b[0m\u001b[2mNavigating Life One Recipe at\u001b[0m\u001b[2m \u001b[0m│\u001b[2m        \u001b[0m│\n",
       "│\u001b[2m \u001b[0m\u001b[2mexperiences.                 \u001b[0m\u001b[2m \u001b[0m│\u001b[2m \u001b[0m\u001b[2mculinary wisdom and the      \u001b[0m\u001b[2m \u001b[0m│\u001b[2m        \u001b[0m│\u001b[2m \u001b[0m\u001b[2ma Time                       \u001b[0m\u001b[2m \u001b[0m│\u001b[2m        \u001b[0m│\n",
       "│\u001b[2m                               \u001b[0m│\u001b[2m \u001b[0m\u001b[2mability to relate everything \u001b[0m\u001b[2m \u001b[0m│\u001b[2m        \u001b[0m│\u001b[2m                               \u001b[0m│\u001b[2m        \u001b[0m│\n",
       "│\u001b[2m                               \u001b[0m│\u001b[2m \u001b[0m\u001b[2mback to the kitchen. Plus,   \u001b[0m\u001b[2m \u001b[0m│\u001b[2m        \u001b[0m│\u001b[2m                               \u001b[0m│\u001b[2m        \u001b[0m│\n",
       "│\u001b[2m                               \u001b[0m│\u001b[2m \u001b[0m\u001b[2m\"sage\" is also a wonderful   \u001b[0m\u001b[2m \u001b[0m│\u001b[2m        \u001b[0m│\u001b[2m                               \u001b[0m│\u001b[2m        \u001b[0m│\n",
       "│\u001b[2m                               \u001b[0m│\u001b[2m \u001b[0m\u001b[2mherb, adding a flavorful     \u001b[0m\u001b[2m \u001b[0m│\u001b[2m        \u001b[0m│\u001b[2m                               \u001b[0m│\u001b[2m        \u001b[0m│\n",
       "│\u001b[2m                               \u001b[0m│\u001b[2m \u001b[0m\u001b[2mtouch to the name!           \u001b[0m\u001b[2m \u001b[0m│\u001b[2m        \u001b[0m│\u001b[2m                               \u001b[0m│\u001b[2m        \u001b[0m│\n",
       "├───────────────────────────────┼───────────────────────────────┼────────┼───────────────────────────────┼────────┤\n",
       "│\u001b[2m \u001b[0m\u001b[2mA DJ who relates everything  \u001b[0m\u001b[2m \u001b[0m│\u001b[2m \u001b[0m\u001b[2mHow about \"Rhythm Rave\"? It  \u001b[0m\u001b[2m \u001b[0m│\u001b[2m \u001b[0m\u001b[2m1980  \u001b[0m\u001b[2m \u001b[0m│\u001b[2m \u001b[0m\u001b[2mLife in 4/4: Finding Your    \u001b[0m\u001b[2m \u001b[0m│\u001b[2m \u001b[0m\u001b[2m8     \u001b[0m\u001b[2m \u001b[0m│\n",
       "│\u001b[2m \u001b[0m\u001b[2mto music and beats.          \u001b[0m\u001b[2m \u001b[0m│\u001b[2m \u001b[0m\u001b[2mcaptures the essence of a DJ \u001b[0m\u001b[2m \u001b[0m│\u001b[2m        \u001b[0m│\u001b[2m \u001b[0m\u001b[2mRhythm in a Chaotic World    \u001b[0m\u001b[2m \u001b[0m│\u001b[2m        \u001b[0m│\n",
       "│\u001b[2m                               \u001b[0m│\u001b[2m \u001b[0m\u001b[2mwho lives and breathes music,\u001b[0m\u001b[2m \u001b[0m│\u001b[2m        \u001b[0m│\u001b[2m                               \u001b[0m│\u001b[2m        \u001b[0m│\n",
       "│\u001b[2m                               \u001b[0m│\u001b[2m \u001b[0m\u001b[2malways finding the beat in   \u001b[0m\u001b[2m \u001b[0m│\u001b[2m        \u001b[0m│\u001b[2m                               \u001b[0m│\u001b[2m        \u001b[0m│\n",
       "│\u001b[2m                               \u001b[0m│\u001b[2m \u001b[0m\u001b[2meverything.                  \u001b[0m\u001b[2m \u001b[0m│\u001b[2m        \u001b[0m│\u001b[2m                               \u001b[0m│\u001b[2m        \u001b[0m│\n",
       "├───────────────────────────────┼───────────────────────────────┼────────┼───────────────────────────────┼────────┤\n",
       "│\u001b[2m \u001b[0m\u001b[2mA scientist who gives overly \u001b[0m\u001b[2m \u001b[0m│\u001b[2m \u001b[0m\u001b[2mHow about \"Dr. Lexicon       \u001b[0m\u001b[2m \u001b[0m│\u001b[2m \u001b[0m\u001b[2m1905  \u001b[0m\u001b[2m \u001b[0m│\u001b[2m \u001b[0m\u001b[2mThe best-seller by this      \u001b[0m\u001b[2m \u001b[0m│\u001b[2m \u001b[0m\u001b[2m4     \u001b[0m\u001b[2m \u001b[0m│\n",
       "│\u001b[2m \u001b[0m\u001b[2mdetailed, scientific         \u001b[0m\u001b[2m \u001b[0m│\u001b[2m \u001b[0m\u001b[2mThesaurus\"? It captures the  \u001b[0m\u001b[2m \u001b[0m│\u001b[2m        \u001b[0m│\u001b[2m \u001b[0m\u001b[2mcharacter might be called    \u001b[0m\u001b[2m \u001b[0m│\u001b[2m        \u001b[0m│\n",
       "│\u001b[2m \u001b[0m\u001b[2mexplanations with lots of    \u001b[0m\u001b[2m \u001b[0m│\u001b[2m \u001b[0m\u001b[2messence of someone who uses  \u001b[0m\u001b[2m \u001b[0m│\u001b[2m        \u001b[0m│\u001b[2m \u001b[0m\u001b[2m\"Decoding the Universe: A    \u001b[0m\u001b[2m \u001b[0m│\u001b[2m        \u001b[0m│\n",
       "│\u001b[2m \u001b[0m\u001b[2mjargon.                      \u001b[0m\u001b[2m \u001b[0m│\u001b[2m \u001b[0m\u001b[2man extensive vocabulary and  \u001b[0m\u001b[2m \u001b[0m│\u001b[2m        \u001b[0m│\u001b[2m \u001b[0m\u001b[2mJourney Through Complexities \u001b[0m\u001b[2m \u001b[0m│\u001b[2m        \u001b[0m│\n",
       "│\u001b[2m                               \u001b[0m│\u001b[2m \u001b[0m\u001b[2mdetailed explanations.       \u001b[0m\u001b[2m \u001b[0m│\u001b[2m        \u001b[0m│\u001b[2m \u001b[0m\u001b[2mand Intricacies of Science.\" \u001b[0m\u001b[2m \u001b[0m│\u001b[2m        \u001b[0m│\n",
       "├───────────────────────────────┼───────────────────────────────┼────────┼───────────────────────────────┼────────┤\n",
       "│\u001b[2m \u001b[0m\u001b[2mA comedian who tries to turn \u001b[0m\u001b[2m \u001b[0m│\u001b[2m \u001b[0m\u001b[2mHow about \"Chuckles          \u001b[0m\u001b[2m \u001b[0m│\u001b[2m \u001b[0m\u001b[2m1960  \u001b[0m\u001b[2m \u001b[0m│\u001b[2m \u001b[0m\u001b[2mThe best-seller would likely \u001b[0m\u001b[2m \u001b[0m│\u001b[2m \u001b[0m\u001b[2m7     \u001b[0m\u001b[2m \u001b[0m│\n",
       "│\u001b[2m \u001b[0m\u001b[2mevery answer into a joke or  \u001b[0m\u001b[2m \u001b[0m│\u001b[2m \u001b[0m\u001b[2mMcJester\"? It has a playful  \u001b[0m\u001b[2m \u001b[0m│\u001b[2m        \u001b[0m│\u001b[2m \u001b[0m\u001b[2mbe called \"Punchlines &      \u001b[0m\u001b[2m \u001b[0m│\u001b[2m        \u001b[0m│\n",
       "│\u001b[2m \u001b[0m\u001b[2mpunchline.                   \u001b[0m\u001b[2m \u001b[0m│\u001b[2m \u001b[0m\u001b[2mring to it and instantly     \u001b[0m\u001b[2m \u001b[0m│\u001b[2m        \u001b[0m│\u001b[2m \u001b[0m\u001b[2mPunchlines: A Comedian's     \u001b[0m\u001b[2m \u001b[0m│\u001b[2m        \u001b[0m│\n",
       "│\u001b[2m                               \u001b[0m│\u001b[2m \u001b[0m\u001b[2msuggests humor and wit!      \u001b[0m\u001b[2m \u001b[0m│\u001b[2m        \u001b[0m│\u001b[2m \u001b[0m\u001b[2mGuide to Life, Laughs, and   \u001b[0m\u001b[2m \u001b[0m│\u001b[2m        \u001b[0m│\n",
       "│\u001b[2m                               \u001b[0m│\u001b[2m                               \u001b[0m│\u001b[2m        \u001b[0m│\u001b[2m \u001b[0m\u001b[2mEverything In Between.\"      \u001b[0m\u001b[2m \u001b[0m│\u001b[2m        \u001b[0m│\n",
       "├───────────────────────────────┼───────────────────────────────┼────────┼───────────────────────────────┼────────┤\n",
       "│\u001b[2m \u001b[0m\u001b[2mA poet who responds in       \u001b[0m\u001b[2m \u001b[0m│\u001b[2m \u001b[0m\u001b[2mHow about \"Rhyme Whisperer\"? \u001b[0m\u001b[2m \u001b[0m│\u001b[2m \u001b[0m\u001b[2m1609  \u001b[0m\u001b[2m \u001b[0m│\u001b[2m \u001b[0m\u001b[2mGiven the poetic nature of   \u001b[0m\u001b[2m \u001b[0m│\u001b[2m \u001b[0m\u001b[2m7     \u001b[0m\u001b[2m \u001b[0m│\n",
       "│\u001b[2m \u001b[0m\u001b[2mrhyming couplets.            \u001b[0m\u001b[2m \u001b[0m│\u001b[2m \u001b[0m\u001b[2mIt captures the essence of a \u001b[0m\u001b[2m \u001b[0m│\u001b[2m        \u001b[0m│\u001b[2m \u001b[0m\u001b[2mthe character, a fitting     \u001b[0m\u001b[2m \u001b[0m│\u001b[2m        \u001b[0m│\n",
       "│\u001b[2m                               \u001b[0m│\u001b[2m \u001b[0m\u001b[2mpoet who skillfully crafts   \u001b[0m\u001b[2m \u001b[0m│\u001b[2m        \u001b[0m│\u001b[2m \u001b[0m\u001b[2mtitle for their best-seller  \u001b[0m\u001b[2m \u001b[0m│\u001b[2m        \u001b[0m│\n",
       "│\u001b[2m                               \u001b[0m│\u001b[2m \u001b[0m\u001b[2mrhyming couplets.            \u001b[0m\u001b[2m \u001b[0m│\u001b[2m        \u001b[0m│\u001b[2m \u001b[0m\u001b[2mcould be \"Verses of a        \u001b[0m\u001b[2m \u001b[0m│\u001b[2m        \u001b[0m│\n",
       "│\u001b[2m                               \u001b[0m│\u001b[2m                               \u001b[0m│\u001b[2m        \u001b[0m│\u001b[2m \u001b[0m\u001b[2mWandering Soul.\" This title  \u001b[0m\u001b[2m \u001b[0m│\u001b[2m        \u001b[0m│\n",
       "│\u001b[2m                               \u001b[0m│\u001b[2m                               \u001b[0m│\u001b[2m        \u001b[0m│\u001b[2m \u001b[0m\u001b[2msuggests a collection of     \u001b[0m\u001b[2m \u001b[0m│\u001b[2m        \u001b[0m│\n",
       "│\u001b[2m                               \u001b[0m│\u001b[2m                               \u001b[0m│\u001b[2m        \u001b[0m│\u001b[2m \u001b[0m\u001b[2mpoems that capture the       \u001b[0m\u001b[2m \u001b[0m│\u001b[2m        \u001b[0m│\n",
       "│\u001b[2m                               \u001b[0m│\u001b[2m                               \u001b[0m│\u001b[2m        \u001b[0m│\u001b[2m \u001b[0m\u001b[2messence of life's journey,   \u001b[0m\u001b[2m \u001b[0m│\u001b[2m        \u001b[0m│\n",
       "│\u001b[2m                               \u001b[0m│\u001b[2m                               \u001b[0m│\u001b[2m        \u001b[0m│\u001b[2m \u001b[0m\u001b[2memotions, and experiences,   \u001b[0m\u001b[2m \u001b[0m│\u001b[2m        \u001b[0m│\n",
       "│\u001b[2m                               \u001b[0m│\u001b[2m                               \u001b[0m│\u001b[2m        \u001b[0m│\u001b[2m \u001b[0m\u001b[2mall expressed through the    \u001b[0m\u001b[2m \u001b[0m│\u001b[2m        \u001b[0m│\n",
       "│\u001b[2m                               \u001b[0m│\u001b[2m                               \u001b[0m│\u001b[2m        \u001b[0m│\u001b[2m \u001b[0m\u001b[2mbeauty of rhyming couplets.  \u001b[0m\u001b[2m \u001b[0m│\u001b[2m        \u001b[0m│\n",
       "├───────────────────────────────┼───────────────────────────────┼────────┼───────────────────────────────┼────────┤\n",
       "│\u001b[2m \u001b[0m\u001b[2mA film critic who answers    \u001b[0m\u001b[2m \u001b[0m│\u001b[2m \u001b[0m\u001b[2mHow about \"Cine Sage\"? It has\u001b[0m\u001b[2m \u001b[0m│\u001b[2m \u001b[0m\u001b[2m1994  \u001b[0m\u001b[2m \u001b[0m│\u001b[2m \u001b[0m\u001b[2mReel Reflections: A Critic's \u001b[0m\u001b[2m \u001b[0m│\u001b[2m \u001b[0m\u001b[2m7     \u001b[0m\u001b[2m \u001b[0m│\n",
       "│\u001b[2m \u001b[0m\u001b[2mquestions as if they are     \u001b[0m\u001b[2m \u001b[0m│\u001b[2m \u001b[0m\u001b[2ma nice ring to it and        \u001b[0m\u001b[2m \u001b[0m│\u001b[2m        \u001b[0m│\u001b[2m \u001b[0m\u001b[2mJourney Through the Silver   \u001b[0m\u001b[2m \u001b[0m│\u001b[2m        \u001b[0m│\n",
       "│\u001b[2m \u001b[0m\u001b[2mreviewing a movie.           \u001b[0m\u001b[2m \u001b[0m│\u001b[2m \u001b[0m\u001b[2msuggests wisdom and insight  \u001b[0m\u001b[2m \u001b[0m│\u001b[2m        \u001b[0m│\u001b[2m \u001b[0m\u001b[2mScreen                       \u001b[0m\u001b[2m \u001b[0m│\u001b[2m        \u001b[0m│\n",
       "│\u001b[2m                               \u001b[0m│\u001b[2m \u001b[0m\u001b[2min the realm of film         \u001b[0m\u001b[2m \u001b[0m│\u001b[2m        \u001b[0m│\u001b[2m                               \u001b[0m│\u001b[2m        \u001b[0m│\n",
       "│\u001b[2m                               \u001b[0m│\u001b[2m \u001b[0m\u001b[2mcritique.                    \u001b[0m\u001b[2m \u001b[0m│\u001b[2m        \u001b[0m│\u001b[2m                               \u001b[0m│\u001b[2m        \u001b[0m│\n",
       "└───────────────────────────────┴───────────────────────────────┴────────┴───────────────────────────────┴────────┘\n"
      ]
     },
     "metadata": {},
     "output_type": "display_data"
    }
   ],
   "source": [
    "results.select(\"character\", \"name\", \"year\", \"book\", \"talk\").print(format=\"rich\")"
   ]
  },
  {
   "cell_type": "markdown",
   "id": "a6b97517-c804-4a14-b5aa-3a20d1072b97",
   "metadata": {
    "editable": true,
    "slideshow": {
     "slide_type": ""
    },
    "tags": []
   },
   "source": [
    "## Posting to the Coop\n",
    "The [Coop](https://www.expectedparrot.com/explore) is a platform for creating, storing and sharing LLM-based research.\n",
    "It is fully integrated with EDSL and accessible from your workspace or Coop account page.\n",
    "Learn more about [creating an account](https://www.expectedparrot.com/login) and [using the Coop](https://docs.expectedparrot.com/en/latest/coop.html).\n",
    "\n",
    "Here we post the scenarios, survey and results from above, and this notebook:"
   ]
  },
  {
   "cell_type": "code",
   "execution_count": 13,
   "id": "e7ac0c37-e8a2-42a3-8e7e-635488cd0f0b",
   "metadata": {
    "editable": true,
    "slideshow": {
     "slide_type": ""
    },
    "tags": [
     "skip-execution"
    ]
   },
   "outputs": [],
   "source": [
    "from edsl import Notebook"
   ]
  },
  {
   "cell_type": "code",
   "execution_count": 14,
   "id": "bbb65db3-1b4b-4ed5-99da-0f75cb30e112",
   "metadata": {
    "editable": true,
    "slideshow": {
     "slide_type": ""
    },
    "tags": [
     "skip-execution"
    ]
   },
   "outputs": [],
   "source": [
    "n = Notebook(path = \"batching_results.ipynb\")"
   ]
  },
  {
   "cell_type": "code",
   "execution_count": 15,
   "id": "74defe99-94cc-4212-aa29-b4edcd0dd09e",
   "metadata": {
    "editable": true,
    "slideshow": {
     "slide_type": ""
    },
    "tags": [
     "skip-execution"
    ]
   },
   "outputs": [
    {
     "data": {
      "text/plain": [
       "{'description': 'Example code for batching scenarios and combining results',\n",
       " 'object_type': 'notebook',\n",
       " 'url': 'https://www.expectedparrot.com/content/417ae54e-5020-4a4d-a4d7-839e903fd2d8',\n",
       " 'uuid': '417ae54e-5020-4a4d-a4d7-839e903fd2d8',\n",
       " 'version': '0.1.33.dev1',\n",
       " 'visibility': 'public'}"
      ]
     },
     "execution_count": 15,
     "metadata": {},
     "output_type": "execute_result"
    }
   ],
   "source": [
    "n.push(description = \"Example code for batching scenarios and combining results\", visibility = \"public\")"
   ]
  },
  {
   "cell_type": "markdown",
   "id": "93a61a7d-2670-487c-8291-e0a6d26de042",
   "metadata": {
    "editable": true,
    "slideshow": {
     "slide_type": ""
    },
    "tags": []
   },
   "source": [
    "To update an object at the Coop:"
   ]
  },
  {
   "cell_type": "code",
   "execution_count": 18,
   "id": "fa316440-6644-45f2-9b86-1df2cf7ca050",
   "metadata": {
    "editable": true,
    "slideshow": {
     "slide_type": ""
    },
    "tags": [
     "skip-execution"
    ]
   },
   "outputs": [],
   "source": [
    "n = Notebook(path = \"batching_results.ipynb\")"
   ]
  },
  {
   "cell_type": "code",
   "execution_count": 19,
   "id": "d49e8e44-e6e5-459d-b848-96cbcca66b29",
   "metadata": {
    "editable": true,
    "slideshow": {
     "slide_type": ""
    },
    "tags": [
     "skip-execution"
    ]
   },
   "outputs": [
    {
     "data": {
      "text/plain": [
       "{'status': 'success'}"
      ]
     },
     "execution_count": 19,
     "metadata": {},
     "output_type": "execute_result"
    }
   ],
   "source": [
    "n.patch(uuid = \"417ae54e-5020-4a4d-a4d7-839e903fd2d8\", value = n)"
   ]
  }
 ],
 "metadata": {
  "kernelspec": {
   "display_name": "Python 3 (ipykernel)",
   "language": "python",
   "name": "python3"
  },
  "language_info": {
   "codemirror_mode": {
    "name": "ipython",
    "version": 3
   },
   "file_extension": ".py",
   "mimetype": "text/x-python",
   "name": "python",
   "nbconvert_exporter": "python",
   "pygments_lexer": "ipython3",
   "version": "3.11.7"
  }
 },
 "nbformat": 4,
 "nbformat_minor": 5
}
