{
 "cells": [
  {
   "cell_type": "markdown",
   "id": "7e592f2d-8b8e-496a-9e3b-0a74c009e738",
   "metadata": {
    "editable": true,
    "slideshow": {
     "slide_type": ""
    },
    "tags": []
   },
   "source": [
    "# Updating agent traits\n",
    "This notebook demonstrates how to update an agent's traits with new answers to questions using the `add traits()` and `to_agent_list()` methods.\n",
    "\n",
    "Learn more about designing and using AI agents with surveys in the [documentation](https://docs.expectedparrot.com/en/latest/agents.html)."
   ]
  },
  {
   "cell_type": "markdown",
   "id": "fc7e0d3e-18b6-4207-bf75-01ff964ea010",
   "metadata": {
    "editable": true,
    "slideshow": {
     "slide_type": ""
    },
    "tags": []
   },
   "source": [
    "## Updating a single agent\n",
    "We start by creating an agent and using it with a survey:"
   ]
  },
  {
   "cell_type": "code",
   "execution_count": 1,
   "id": "879ad718-62f6-4b28-91b4-0c896e38a201",
   "metadata": {
    "editable": true,
    "slideshow": {
     "slide_type": ""
    },
    "tags": []
   },
   "outputs": [],
   "source": [
    "from edsl import Agent, QuestionFreeText, QuestionMultipleChoice, Survey"
   ]
  },
  {
   "cell_type": "code",
   "execution_count": 2,
   "id": "aeec1bb5-f837-4c2d-b0c1-4e1437e050c1",
   "metadata": {
    "editable": true,
    "slideshow": {
     "slide_type": ""
    },
    "tags": []
   },
   "outputs": [],
   "source": [
    "agent = Agent(\n",
    "    name = \"college student\",\n",
    "    traits = {\n",
    "        \"persona\": \"You are a sophomore at a community college in upstate New York.\",\n",
    "        \"year\": \"sophomore\",\n",
    "        \"school\": \"community college\",\n",
    "        \"major\": \"biology\",\n",
    "        \"state\": \"New York\"\n",
    "    }\n",
    ")"
   ]
  },
  {
   "cell_type": "code",
   "execution_count": 3,
   "id": "37a76271-7867-4ae2-83d7-757a642ad350",
   "metadata": {
    "editable": true,
    "slideshow": {
     "slide_type": ""
    },
    "tags": []
   },
   "outputs": [],
   "source": [
    "q1 = QuestionFreeText(\n",
    "    question_name = \"career_interests\",\n",
    "    question_text = \"What are your career interests?\"\n",
    ")\n",
    "\n",
    "q2 = QuestionMultipleChoice(\n",
    "    question_name = \"attend_grad_school\",\n",
    "    question_text = \"Do you plan to attend grad school?\",\n",
    "    question_options = [\"Yes\", \"No\", \"Undecided\"]\n",
    ")\n",
    "\n",
    "survey = Survey([q1, q2])"
   ]
  },
  {
   "cell_type": "code",
   "execution_count": 4,
   "id": "96e0bdd7-bdd8-401e-9fd5-a4698449109c",
   "metadata": {
    "editable": true,
    "slideshow": {
     "slide_type": ""
    },
    "tags": []
   },
   "outputs": [
    {
     "data": {
      "text/html": [
       "\n",
       "            <div style=\"border: 1px solid #ccc; margin: 10px 0; max-width: 800px;\">\n",
       "                <div onclick=\"document.getElementById('content-f76c16ea-48eb-406d-b308-88661b76c34f').style.display = document.getElementById('content-f76c16ea-48eb-406d-b308-88661b76c34f').style.display === 'none' ? 'block' : 'none';\n",
       "                             document.getElementById('arrow-f76c16ea-48eb-406d-b308-88661b76c34f').innerHTML = document.getElementById('content-f76c16ea-48eb-406d-b308-88661b76c34f').style.display === 'none' ? '▶' : '▼';\"\n",
       "                     style=\"padding: 10px; background: #f5f5f5; cursor: pointer;\">\n",
       "                    <span id=\"arrow-f76c16ea-48eb-406d-b308-88661b76c34f\">▼</span> Remote Job Log (2024-12-14 10:24:19)\n",
       "                </div>\n",
       "                <div id=\"content-f76c16ea-48eb-406d-b308-88661b76c34f\" style=\"padding: 10px; display: block;\">\n",
       "                    <div style=\"border-left: 3px solid #3b82f6; padding: 5px 10px; margin: 5px 0;\">Remote inference activated. Sending job to server...</div>\n",
       "<div style=\"border-left: 3px solid #3b82f6; padding: 5px 10px; margin: 5px 0;\">Your survey is running at the Expected Parrot server...</div>\n",
       "<div style=\"border-left: 3px solid #3b82f6; padding: 5px 10px; margin: 5px 0;\">Job sent to server. (Job uuid=8c8a74c1-59ef-4989-9abb-f82c5cc5fd18).</div>\n",
       "<div style=\"border-left: 3px solid #3b82f6; padding: 5px 10px; margin: 5px 0;\">Job details are available at your Coop account <a href=\"https://www.expectedparrot.com/home/remote-inferencehttps://www.expectedparrot.com/home/remote-inference\" target=\"_blank\" style=\"color: #3b82f6; text-decoration: underline;\">https://www.expectedparrot.com/home/remote-inferencehttps://www.expectedparrot.com/home/remote-inference</a></div>\n",
       "<div style=\"border-left: 3px solid #3b82f6; padding: 5px 10px; margin: 5px 0;\">View job progress here: <a href=\"https://www.expectedparrot.com/home/remote-job-progress/8c8a74c1-59ef-4989-9abb-f82c5cc5fd18\" target=\"_blank\" style=\"color: #3b82f6; text-decoration: underline;\">https://www.expectedparrot.com/home/remote-job-progress/8c8a74c1-59ef-4989-9abb-f82c5cc5fd18</a></div>\n",
       "<div style=\"border-left: 3px solid #3b82f6; padding: 5px 10px; margin: 5px 0;\">Job status: queued - last update: 2024-12-14 10:24:02 AM</div>\n",
       "<div style=\"border-left: 3px solid #3b82f6; padding: 5px 10px; margin: 5px 0;\">Job status: running - last update: 2024-12-14 10:24:09 AM</div>\n",
       "<div style=\"border-left: 3px solid #3b82f6; padding: 5px 10px; margin: 5px 0;\">Job status: running - last update: 2024-12-14 10:24:13 AM</div>\n",
       "<div style=\"border-left: 3px solid #22c55e; padding: 5px 10px; margin: 5px 0;\">Job completed and Results stored on Coop: <a href=\"https://www.expectedparrot.com/content/8087c204-6cda-4a60-a75e-6fa28d48eb03\" target=\"_blank\" style=\"color: #3b82f6; text-decoration: underline;\">https://www.expectedparrot.com/content/8087c204-6cda-4a60-a75e-6fa28d48eb03</a></div>\n",
       "                </div>\n",
       "            </div>\n",
       "        "
      ],
      "text/plain": [
       "<IPython.core.display.HTML object>"
      ]
     },
     "metadata": {},
     "output_type": "display_data"
    }
   ],
   "source": [
    "results = survey.by(agent).run()"
   ]
  },
  {
   "cell_type": "code",
   "execution_count": 5,
   "id": "90bdaf6f-5e62-4da9-9bb9-c82d1ccdb2bf",
   "metadata": {
    "editable": true,
    "slideshow": {
     "slide_type": ""
    },
    "tags": []
   },
   "outputs": [
    {
     "data": {
      "text/html": [
       "\n",
       "        <style>\n",
       "            :root {\n",
       "  --containerHeight: 100px;\n",
       "  --headerColor: blue;\n",
       "}\n",
       "\n",
       ".table-container {\n",
       "    height: var(--containerHeight) !important;\n",
       "    width: 100%;\n",
       "    overflow: auto;  /* This enables both horizontal and vertical scrolling */\n",
       "    border: 1px solid #d4d4d4;\n",
       "    background: transparent;\n",
       "    position: relative;  /* Create stacking context for sticky header */\n",
       "}\n",
       "\n",
       ".scroll-table {\n",
       "    /* Remove width: 100% to prevent table from being constrained */\n",
       "    /* min-width: 100% ensures table takes at least full container width */\n",
       "    min-width: 100%;\n",
       "    border-collapse: separate;\n",
       "    border-spacing: 4px;\n",
       "    background: transparent;\n",
       "    table-layout: auto;  /* Allow table to size based on content */\n",
       "}\n",
       "\n",
       ".scroll-table th {\n",
       "    background: transparent;  /* Semi-transparent background to ensure text readability */\n",
       "    position: sticky;\n",
       "    top: 0;\n",
       "    z-index: 1;\n",
       "    text-align: left !important;\n",
       "    padding: 8px;\n",
       "    font-weight: bold;\n",
       "    white-space: nowrap;  /* Prevent header text from wrapping */\n",
       "    min-width: 100px;    /* Ensure minimum column width */\n",
       "    backdrop-filter: blur(8px);  /* Optional: adds extra clarity */\n",
       "    color: var(--headerColor);\n",
       "}\n",
       "\n",
       ".scroll-table td {\n",
       "    padding: 8px;\n",
       "    text-align: left !important;\n",
       "    white-space: pre-wrap;\n",
       "    word-wrap: break-word;\n",
       "    vertical-align: top;\n",
       "    color: inherit;\n",
       "    border-bottom: none;\n",
       "    background: transparent;\n",
       "    min-width: 100px;    /* Match header minimum width */\n",
       "}\n",
       "\n",
       ".scroll-table tbody tr:hover {\n",
       "    background: transparent;\n",
       "}\n",
       "\n",
       "/* Additional rule to ensure header background is truly transparent */\n",
       ".scroll-table thead tr {\n",
       "    background: transparent !important;\n",
       "}\n",
       "\n",
       "/* Add shadow to indicate scrollable content */\n",
       ".table-container::after {\n",
       "    content: '';\n",
       "    position: absolute;\n",
       "    top: 0;\n",
       "    right: 0;\n",
       "    bottom: 0;\n",
       "    width: 5px;\n",
       "    background: linear-gradient(to right, transparent, rgba(242, 6, 6, 0.1));\n",
       "    pointer-events: none;\n",
       "    opacity: 0;\n",
       "    transition: opacity 0.3s;\n",
       "}\n",
       "\n",
       ".table-container:hover::after {\n",
       "    opacity: 1;\n",
       "}\n",
       "\n",
       "/* Handle Jupyter notebook specific styling */\n",
       ".jp-OutputArea-output .table-container {\n",
       "    max-width: 100%;\n",
       "    margin: 0;\n",
       "    overflow-x: auto;\n",
       "}\n",
       "        </style>\n",
       "        <div class=\"table-container\">\n",
       "            <div class=\"scroll-table-wrapper\">\n",
       "                <table class=\"scroll-table\">\n",
       "<thead>\n",
       "<tr><th>answer.career_interests                                                                                                                                                                                                                                                                                                                           </th><th>answer.attend_grad_school  </th></tr>\n",
       "</thead>\n",
       "<tbody>\n",
       "<tr><td>I&#x27;m majoring in biology, so I&#x27;m really interested in exploring careers related to that field. I&#x27;m considering options like research, environmental science, or possibly healthcare. I&#x27;m still figuring it out, but I&#x27;m excited about the possibilities and want to find something that combines my love for science with making a positive impact.</td><td>Undecided                  </td></tr>\n",
       "</tbody>\n",
       "</table>\n",
       "            </div>\n",
       "        </div>\n",
       "        "
      ],
      "text/plain": [
       "Dataset([{'answer.career_interests': [\"I'm majoring in biology, so I'm really interested in exploring careers related to that field. I'm considering options like research, environmental science, or possibly healthcare. I'm still figuring it out, but I'm excited about the possibilities and want to find something that combines my love for science with making a positive impact.\"]}, {'answer.attend_grad_school': ['Undecided']}])"
      ]
     },
     "execution_count": 5,
     "metadata": {},
     "output_type": "execute_result"
    }
   ],
   "source": [
    "results.select(\"career_interests\", \"attend_grad_school\")"
   ]
  },
  {
   "cell_type": "markdown",
   "id": "89867d01-ec96-444a-b984-5d96cf6f60fd",
   "metadata": {
    "editable": true,
    "slideshow": {
     "slide_type": ""
    },
    "tags": []
   },
   "source": [
    "### Creating a new agent with original and new traits\n",
    "Here we use the `to_agent_list()` method to create a new agent that has both the original traits and new traits for the survey responses:"
   ]
  },
  {
   "cell_type": "code",
   "execution_count": 6,
   "id": "250e9c37-9532-460c-ac17-5957427af472",
   "metadata": {
    "editable": true,
    "slideshow": {
     "slide_type": ""
    },
    "tags": []
   },
   "outputs": [],
   "source": [
    "new_agent = results.select(\"persona\", \"year\", \"school\", \"major\", \"state\", \"career_interests\", \"attend_grad_school\").to_agent_list()[0]"
   ]
  },
  {
   "cell_type": "code",
   "execution_count": 7,
   "id": "3b18880c-ecdc-4b67-8e45-fc96099c85f2",
   "metadata": {
    "editable": true,
    "slideshow": {
     "slide_type": ""
    },
    "tags": []
   },
   "outputs": [
    {
     "data": {
      "text/plain": [
       "edsl.agents.Agent.Agent"
      ]
     },
     "execution_count": 7,
     "metadata": {},
     "output_type": "execute_result"
    }
   ],
   "source": [
    "type(new_agent)"
   ]
  },
  {
   "cell_type": "code",
   "execution_count": 8,
   "id": "3f54421b-4d43-4d3c-a099-b6530c467526",
   "metadata": {
    "editable": true,
    "slideshow": {
     "slide_type": ""
    },
    "tags": []
   },
   "outputs": [
    {
     "data": {
      "text/html": [
       "<p><a href='https://docs.expectedparrot.com/en/latest/agents.html'>Agent</a></p>\n",
       "        <style>\n",
       "            :root {\n",
       "  --containerHeight: 260px;\n",
       "  --headerColor: blue;\n",
       "}\n",
       "\n",
       ".table-container {\n",
       "    height: var(--containerHeight) !important;\n",
       "    width: 100%;\n",
       "    overflow: auto;  /* This enables both horizontal and vertical scrolling */\n",
       "    border: 1px solid #d4d4d4;\n",
       "    background: transparent;\n",
       "    position: relative;  /* Create stacking context for sticky header */\n",
       "}\n",
       "\n",
       ".scroll-table {\n",
       "    /* Remove width: 100% to prevent table from being constrained */\n",
       "    /* min-width: 100% ensures table takes at least full container width */\n",
       "    min-width: 100%;\n",
       "    border-collapse: separate;\n",
       "    border-spacing: 4px;\n",
       "    background: transparent;\n",
       "    table-layout: auto;  /* Allow table to size based on content */\n",
       "}\n",
       "\n",
       ".scroll-table th {\n",
       "    background: transparent;  /* Semi-transparent background to ensure text readability */\n",
       "    position: sticky;\n",
       "    top: 0;\n",
       "    z-index: 1;\n",
       "    text-align: left !important;\n",
       "    padding: 8px;\n",
       "    font-weight: bold;\n",
       "    white-space: nowrap;  /* Prevent header text from wrapping */\n",
       "    min-width: 100px;    /* Ensure minimum column width */\n",
       "    backdrop-filter: blur(8px);  /* Optional: adds extra clarity */\n",
       "    color: var(--headerColor);\n",
       "}\n",
       "\n",
       ".scroll-table td {\n",
       "    padding: 8px;\n",
       "    text-align: left !important;\n",
       "    white-space: pre-wrap;\n",
       "    word-wrap: break-word;\n",
       "    vertical-align: top;\n",
       "    color: inherit;\n",
       "    border-bottom: none;\n",
       "    background: transparent;\n",
       "    min-width: 100px;    /* Match header minimum width */\n",
       "}\n",
       "\n",
       ".scroll-table tbody tr:hover {\n",
       "    background: transparent;\n",
       "}\n",
       "\n",
       "/* Additional rule to ensure header background is truly transparent */\n",
       ".scroll-table thead tr {\n",
       "    background: transparent !important;\n",
       "}\n",
       "\n",
       "/* Add shadow to indicate scrollable content */\n",
       ".table-container::after {\n",
       "    content: '';\n",
       "    position: absolute;\n",
       "    top: 0;\n",
       "    right: 0;\n",
       "    bottom: 0;\n",
       "    width: 5px;\n",
       "    background: linear-gradient(to right, transparent, rgba(242, 6, 6, 0.1));\n",
       "    pointer-events: none;\n",
       "    opacity: 0;\n",
       "    transition: opacity 0.3s;\n",
       "}\n",
       "\n",
       ".table-container:hover::after {\n",
       "    opacity: 1;\n",
       "}\n",
       "\n",
       "/* Handle Jupyter notebook specific styling */\n",
       ".jp-OutputArea-output .table-container {\n",
       "    max-width: 100%;\n",
       "    margin: 0;\n",
       "    overflow-x: auto;\n",
       "}\n",
       "        </style>\n",
       "        <div class=\"table-container\">\n",
       "            <div class=\"scroll-table-wrapper\">\n",
       "                <table class=\"scroll-table\">\n",
       "<thead>\n",
       "<tr><th>key                      </th><th>value                                                                                                                                                                                                                                                                                                                                             </th></tr>\n",
       "</thead>\n",
       "<tbody>\n",
       "<tr><td>traits:persona           </td><td>You are a sophomore at a community college in upstate New York.                                                                                                                                                                                                                                                                                   </td></tr>\n",
       "<tr><td>traits:year              </td><td>sophomore                                                                                                                                                                                                                                                                                                                                         </td></tr>\n",
       "<tr><td>traits:school            </td><td>community college                                                                                                                                                                                                                                                                                                                                 </td></tr>\n",
       "<tr><td>traits:major             </td><td>biology                                                                                                                                                                                                                                                                                                                                           </td></tr>\n",
       "<tr><td>traits:state             </td><td>New York                                                                                                                                                                                                                                                                                                                                          </td></tr>\n",
       "<tr><td>traits:career_interests  </td><td>I&#x27;m majoring in biology, so I&#x27;m really interested in exploring careers related to that field. I&#x27;m considering options like research, environmental science, or possibly healthcare. I&#x27;m still figuring it out, but I&#x27;m excited about the possibilities and want to find something that combines my love for science with making a positive impact.</td></tr>\n",
       "<tr><td>traits:attend_grad_school</td><td>Undecided                                                                                                                                                                                                                                                                                                                                         </td></tr>\n",
       "</tbody>\n",
       "</table>\n",
       "            </div>\n",
       "        </div>\n",
       "        "
      ],
      "text/plain": [
       "Agent(traits = {'persona': 'You are a sophomore at a community college in upstate New York.', 'year': 'sophomore', 'school': 'community college', 'major': 'biology', 'state': 'New York', 'career_interests': \"I'm majoring in biology, so I'm really interested in exploring careers related to that field. I'm considering options like research, environmental science, or possibly healthcare. I'm still figuring it out, but I'm excited about the possibilities and want to find something that combines my love for science with making a positive impact.\", 'attend_grad_school': 'Undecided'})"
      ]
     },
     "execution_count": 8,
     "metadata": {},
     "output_type": "execute_result"
    }
   ],
   "source": [
    "new_agent"
   ]
  },
  {
   "cell_type": "markdown",
   "id": "e16655d0-c36b-44c4-a924-50a79ff41955",
   "metadata": {
    "editable": true,
    "slideshow": {
     "slide_type": ""
    },
    "tags": []
   },
   "source": [
    "### Updating an existing agent\n",
    "Here we use the `add_traits()` method to add the agent's answers to its existing traits:"
   ]
  },
  {
   "cell_type": "code",
   "execution_count": 9,
   "id": "9730a487-fd24-4783-8ad6-b009c54384fa",
   "metadata": {
    "editable": true,
    "slideshow": {
     "slide_type": ""
    },
    "tags": []
   },
   "outputs": [
    {
     "data": {
      "text/plain": [
       "\"I'm majoring in biology, so I'm really interested in exploring careers related to that field. I'm considering options like research, environmental science, or possibly healthcare. I'm still figuring it out, but I'm excited about the possibilities and want to find something that combines my love for science with making a positive impact.\""
      ]
     },
     "execution_count": 9,
     "metadata": {},
     "output_type": "execute_result"
    }
   ],
   "source": [
    "career_interests = results.select(\"career_interests\").to_list()[0] # there is only 1 answer\n",
    "career_interests"
   ]
  },
  {
   "cell_type": "code",
   "execution_count": 10,
   "id": "4f0e77e2-6390-42d7-a7b1-ea02b6cc1ef9",
   "metadata": {
    "editable": true,
    "slideshow": {
     "slide_type": ""
    },
    "tags": []
   },
   "outputs": [
    {
     "data": {
      "text/plain": [
       "'Undecided'"
      ]
     },
     "execution_count": 10,
     "metadata": {},
     "output_type": "execute_result"
    }
   ],
   "source": [
    "attend_grad_school = results.select(\"attend_grad_school\").to_list()[0]\n",
    "attend_grad_school"
   ]
  },
  {
   "cell_type": "code",
   "execution_count": 11,
   "id": "7605a222-c957-4ab0-8efd-4fda8bfec184",
   "metadata": {
    "editable": true,
    "slideshow": {
     "slide_type": ""
    },
    "tags": []
   },
   "outputs": [
    {
     "data": {
      "text/html": [
       "<p><a href='https://docs.expectedparrot.com/en/latest/agents.html'>Agent</a></p>\n",
       "        <style>\n",
       "            :root {\n",
       "  --containerHeight: 230px;\n",
       "  --headerColor: blue;\n",
       "}\n",
       "\n",
       ".table-container {\n",
       "    height: var(--containerHeight) !important;\n",
       "    width: 100%;\n",
       "    overflow: auto;  /* This enables both horizontal and vertical scrolling */\n",
       "    border: 1px solid #d4d4d4;\n",
       "    background: transparent;\n",
       "    position: relative;  /* Create stacking context for sticky header */\n",
       "}\n",
       "\n",
       ".scroll-table {\n",
       "    /* Remove width: 100% to prevent table from being constrained */\n",
       "    /* min-width: 100% ensures table takes at least full container width */\n",
       "    min-width: 100%;\n",
       "    border-collapse: separate;\n",
       "    border-spacing: 4px;\n",
       "    background: transparent;\n",
       "    table-layout: auto;  /* Allow table to size based on content */\n",
       "}\n",
       "\n",
       ".scroll-table th {\n",
       "    background: transparent;  /* Semi-transparent background to ensure text readability */\n",
       "    position: sticky;\n",
       "    top: 0;\n",
       "    z-index: 1;\n",
       "    text-align: left !important;\n",
       "    padding: 8px;\n",
       "    font-weight: bold;\n",
       "    white-space: nowrap;  /* Prevent header text from wrapping */\n",
       "    min-width: 100px;    /* Ensure minimum column width */\n",
       "    backdrop-filter: blur(8px);  /* Optional: adds extra clarity */\n",
       "    color: var(--headerColor);\n",
       "}\n",
       "\n",
       ".scroll-table td {\n",
       "    padding: 8px;\n",
       "    text-align: left !important;\n",
       "    white-space: pre-wrap;\n",
       "    word-wrap: break-word;\n",
       "    vertical-align: top;\n",
       "    color: inherit;\n",
       "    border-bottom: none;\n",
       "    background: transparent;\n",
       "    min-width: 100px;    /* Match header minimum width */\n",
       "}\n",
       "\n",
       ".scroll-table tbody tr:hover {\n",
       "    background: transparent;\n",
       "}\n",
       "\n",
       "/* Additional rule to ensure header background is truly transparent */\n",
       ".scroll-table thead tr {\n",
       "    background: transparent !important;\n",
       "}\n",
       "\n",
       "/* Add shadow to indicate scrollable content */\n",
       ".table-container::after {\n",
       "    content: '';\n",
       "    position: absolute;\n",
       "    top: 0;\n",
       "    right: 0;\n",
       "    bottom: 0;\n",
       "    width: 5px;\n",
       "    background: linear-gradient(to right, transparent, rgba(242, 6, 6, 0.1));\n",
       "    pointer-events: none;\n",
       "    opacity: 0;\n",
       "    transition: opacity 0.3s;\n",
       "}\n",
       "\n",
       ".table-container:hover::after {\n",
       "    opacity: 1;\n",
       "}\n",
       "\n",
       "/* Handle Jupyter notebook specific styling */\n",
       ".jp-OutputArea-output .table-container {\n",
       "    max-width: 100%;\n",
       "    margin: 0;\n",
       "    overflow-x: auto;\n",
       "}\n",
       "        </style>\n",
       "        <div class=\"table-container\">\n",
       "            <div class=\"scroll-table-wrapper\">\n",
       "                <table class=\"scroll-table\">\n",
       "<thead>\n",
       "<tr><th>key           </th><th>value                                                          </th></tr>\n",
       "</thead>\n",
       "<tbody>\n",
       "<tr><td>name          </td><td>college student                                                </td></tr>\n",
       "<tr><td>traits:persona</td><td>You are a sophomore at a community college in upstate New York.</td></tr>\n",
       "<tr><td>traits:year   </td><td>sophomore                                                      </td></tr>\n",
       "<tr><td>traits:school </td><td>community college                                              </td></tr>\n",
       "<tr><td>traits:major  </td><td>biology                                                        </td></tr>\n",
       "<tr><td>traits:state  </td><td>New York                                                       </td></tr>\n",
       "</tbody>\n",
       "</table>\n",
       "            </div>\n",
       "        </div>\n",
       "        "
      ],
      "text/plain": [
       "Agent(name = \"\"\"college student\"\"\", traits = {'persona': 'You are a sophomore at a community college in upstate New York.', 'year': 'sophomore', 'school': 'community college', 'major': 'biology', 'state': 'New York'})"
      ]
     },
     "execution_count": 11,
     "metadata": {},
     "output_type": "execute_result"
    }
   ],
   "source": [
    "agent.add_trait({\n",
    "    \"career_interests\": career_interests,\n",
    "    \"attend_grad_school\": attend_grad_school\n",
    "})\n",
    "agent"
   ]
  },
  {
   "cell_type": "markdown",
   "id": "4ebeec8b-48c0-481e-821f-b6f2c532f419",
   "metadata": {
    "editable": true,
    "slideshow": {
     "slide_type": ""
    },
    "tags": []
   },
   "source": [
    "## Updating an agent list\n",
    "Here we update a list of agents all at once:"
   ]
  },
  {
   "cell_type": "code",
   "execution_count": 12,
   "id": "a9b68b16-d16c-40fd-b8bc-56c164477eed",
   "metadata": {
    "editable": true,
    "slideshow": {
     "slide_type": ""
    },
    "tags": []
   },
   "outputs": [],
   "source": [
    "from edsl import AgentList"
   ]
  },
  {
   "cell_type": "code",
   "execution_count": 13,
   "id": "f897bd3a-e074-471e-8dca-ff04a256e753",
   "metadata": {
    "editable": true,
    "slideshow": {
     "slide_type": ""
    },
    "tags": []
   },
   "outputs": [],
   "source": [
    "agents = AgentList(\n",
    "    Agent(traits = {\"persona\":p}) for p in [\"School principal\", \"Nurse\"] \n",
    ")"
   ]
  },
  {
   "cell_type": "code",
   "execution_count": 14,
   "id": "c363d4c3-33e4-48a3-9340-c37e975f6c85",
   "metadata": {
    "editable": true,
    "slideshow": {
     "slide_type": ""
    },
    "tags": []
   },
   "outputs": [],
   "source": [
    "q1 = QuestionFreeText(\n",
    "    question_name = \"ideal_vacation\",\n",
    "    question_text = \"Describe your ideal vacation.\"\n",
    ")\n",
    "\n",
    "q2 = QuestionMultipleChoice(\n",
    "    question_name = \"commute\",\n",
    "    question_text = \"How do you typically commute to work?\",\n",
    "    question_options = [\"Car\", \"Bus\", \"Train\", \"Bike\", \"Walk\", \"Other\"]\n",
    ")\n",
    "\n",
    "survey = Survey([q1, q2])"
   ]
  },
  {
   "cell_type": "code",
   "execution_count": 15,
   "id": "ce2cff35-1dfe-4bd8-829d-27cff44a7e49",
   "metadata": {
    "editable": true,
    "slideshow": {
     "slide_type": ""
    },
    "tags": []
   },
   "outputs": [
    {
     "data": {
      "text/html": [
       "\n",
       "            <div style=\"border: 1px solid #ccc; margin: 10px 0; max-width: 800px;\">\n",
       "                <div onclick=\"document.getElementById('content-91c0ce44-5ea5-4ade-9af6-d26cf4ce8b87').style.display = document.getElementById('content-91c0ce44-5ea5-4ade-9af6-d26cf4ce8b87').style.display === 'none' ? 'block' : 'none';\n",
       "                             document.getElementById('arrow-91c0ce44-5ea5-4ade-9af6-d26cf4ce8b87').innerHTML = document.getElementById('content-91c0ce44-5ea5-4ade-9af6-d26cf4ce8b87').style.display === 'none' ? '▶' : '▼';\"\n",
       "                     style=\"padding: 10px; background: #f5f5f5; cursor: pointer;\">\n",
       "                    <span id=\"arrow-91c0ce44-5ea5-4ade-9af6-d26cf4ce8b87\">▼</span> Remote Job Log (2024-12-14 10:24:42)\n",
       "                </div>\n",
       "                <div id=\"content-91c0ce44-5ea5-4ade-9af6-d26cf4ce8b87\" style=\"padding: 10px; display: block;\">\n",
       "                    <div style=\"border-left: 3px solid #3b82f6; padding: 5px 10px; margin: 5px 0;\">Remote inference activated. Sending job to server...</div>\n",
       "<div style=\"border-left: 3px solid #3b82f6; padding: 5px 10px; margin: 5px 0;\">Your survey is running at the Expected Parrot server...</div>\n",
       "<div style=\"border-left: 3px solid #3b82f6; padding: 5px 10px; margin: 5px 0;\">Job sent to server. (Job uuid=b69a6d33-52aa-4d35-9668-5d9ddfe9a8eb).</div>\n",
       "<div style=\"border-left: 3px solid #3b82f6; padding: 5px 10px; margin: 5px 0;\">Job details are available at your Coop account <a href=\"https://www.expectedparrot.com/home/remote-inferencehttps://www.expectedparrot.com/home/remote-inference\" target=\"_blank\" style=\"color: #3b82f6; text-decoration: underline;\">https://www.expectedparrot.com/home/remote-inferencehttps://www.expectedparrot.com/home/remote-inference</a></div>\n",
       "<div style=\"border-left: 3px solid #3b82f6; padding: 5px 10px; margin: 5px 0;\">View job progress here: <a href=\"https://www.expectedparrot.com/home/remote-job-progress/b69a6d33-52aa-4d35-9668-5d9ddfe9a8eb\" target=\"_blank\" style=\"color: #3b82f6; text-decoration: underline;\">https://www.expectedparrot.com/home/remote-job-progress/b69a6d33-52aa-4d35-9668-5d9ddfe9a8eb</a></div>\n",
       "<div style=\"border-left: 3px solid #3b82f6; padding: 5px 10px; margin: 5px 0;\">Job status: queued - last update: 2024-12-14 10:24:21 AM</div>\n",
       "<div style=\"border-left: 3px solid #3b82f6; padding: 5px 10px; margin: 5px 0;\">Job status: running - last update: 2024-12-14 10:24:26 AM</div>\n",
       "<div style=\"border-left: 3px solid #3b82f6; padding: 5px 10px; margin: 5px 0;\">Job status: running - last update: 2024-12-14 10:24:31 AM</div>\n",
       "<div style=\"border-left: 3px solid #22c55e; padding: 5px 10px; margin: 5px 0;\">Job completed and Results stored on Coop: <a href=\"https://www.expectedparrot.com/content/7ac690a4-6841-4184-b5f4-4b8d813a084a\" target=\"_blank\" style=\"color: #3b82f6; text-decoration: underline;\">https://www.expectedparrot.com/content/7ac690a4-6841-4184-b5f4-4b8d813a084a</a></div>\n",
       "                </div>\n",
       "            </div>\n",
       "        "
      ],
      "text/plain": [
       "<IPython.core.display.HTML object>"
      ]
     },
     "metadata": {},
     "output_type": "display_data"
    }
   ],
   "source": [
    "results = survey.by(agents).run()"
   ]
  },
  {
   "cell_type": "code",
   "execution_count": 16,
   "id": "fb063783-425e-457f-bf5f-66a728624527",
   "metadata": {
    "editable": true,
    "slideshow": {
     "slide_type": ""
    },
    "tags": []
   },
   "outputs": [
    {
     "data": {
      "text/html": [
       "\n",
       "        <style>\n",
       "            :root {\n",
       "  --containerHeight: 110px;\n",
       "  --headerColor: blue;\n",
       "}\n",
       "\n",
       ".table-container {\n",
       "    height: var(--containerHeight) !important;\n",
       "    width: 100%;\n",
       "    overflow: auto;  /* This enables both horizontal and vertical scrolling */\n",
       "    border: 1px solid #d4d4d4;\n",
       "    background: transparent;\n",
       "    position: relative;  /* Create stacking context for sticky header */\n",
       "}\n",
       "\n",
       ".scroll-table {\n",
       "    /* Remove width: 100% to prevent table from being constrained */\n",
       "    /* min-width: 100% ensures table takes at least full container width */\n",
       "    min-width: 100%;\n",
       "    border-collapse: separate;\n",
       "    border-spacing: 4px;\n",
       "    background: transparent;\n",
       "    table-layout: auto;  /* Allow table to size based on content */\n",
       "}\n",
       "\n",
       ".scroll-table th {\n",
       "    background: transparent;  /* Semi-transparent background to ensure text readability */\n",
       "    position: sticky;\n",
       "    top: 0;\n",
       "    z-index: 1;\n",
       "    text-align: left !important;\n",
       "    padding: 8px;\n",
       "    font-weight: bold;\n",
       "    white-space: nowrap;  /* Prevent header text from wrapping */\n",
       "    min-width: 100px;    /* Ensure minimum column width */\n",
       "    backdrop-filter: blur(8px);  /* Optional: adds extra clarity */\n",
       "    color: var(--headerColor);\n",
       "}\n",
       "\n",
       ".scroll-table td {\n",
       "    padding: 8px;\n",
       "    text-align: left !important;\n",
       "    white-space: pre-wrap;\n",
       "    word-wrap: break-word;\n",
       "    vertical-align: top;\n",
       "    color: inherit;\n",
       "    border-bottom: none;\n",
       "    background: transparent;\n",
       "    min-width: 100px;    /* Match header minimum width */\n",
       "}\n",
       "\n",
       ".scroll-table tbody tr:hover {\n",
       "    background: transparent;\n",
       "}\n",
       "\n",
       "/* Additional rule to ensure header background is truly transparent */\n",
       ".scroll-table thead tr {\n",
       "    background: transparent !important;\n",
       "}\n",
       "\n",
       "/* Add shadow to indicate scrollable content */\n",
       ".table-container::after {\n",
       "    content: '';\n",
       "    position: absolute;\n",
       "    top: 0;\n",
       "    right: 0;\n",
       "    bottom: 0;\n",
       "    width: 5px;\n",
       "    background: linear-gradient(to right, transparent, rgba(242, 6, 6, 0.1));\n",
       "    pointer-events: none;\n",
       "    opacity: 0;\n",
       "    transition: opacity 0.3s;\n",
       "}\n",
       "\n",
       ".table-container:hover::after {\n",
       "    opacity: 1;\n",
       "}\n",
       "\n",
       "/* Handle Jupyter notebook specific styling */\n",
       ".jp-OutputArea-output .table-container {\n",
       "    max-width: 100%;\n",
       "    margin: 0;\n",
       "    overflow-x: auto;\n",
       "}\n",
       "        </style>\n",
       "        <div class=\"table-container\">\n",
       "            <div class=\"scroll-table-wrapper\">\n",
       "                <table class=\"scroll-table\">\n",
       "<thead>\n",
       "<tr><th>agent.persona   </th><th>answer.ideal_vacation                                                                                                                                                                                                                                                                                                                                                                                                                                                                                                                                                                                              </th><th>answer.commute  </th></tr>\n",
       "</thead>\n",
       "<tbody>\n",
       "<tr><td>School principal</td><td>As a school principal, my ideal vacation would be a perfect blend of relaxation and inspiration. I would love to visit a serene location, perhaps a quiet coastal town or a picturesque mountain retreat, where I can unwind and recharge. Mornings would be spent enjoying a good book with a cup of coffee, while afternoons could involve exploring local culture or nature trails. I&#x27;d also appreciate the opportunity to visit educational landmarks or museums to gather new ideas and perspectives that I can bring back to the school. Ultimately, it would be a balance of rest, reflection, and learning.</td><td>Car             </td></tr>\n",
       "<tr><td>Nurse           </td><td>As a nurse, my ideal vacation would be a place where I can completely unwind and recharge. I imagine a serene beach destination with soft sand and gentle waves. I&#x27;d love to have a cozy beachside bungalow where I can relax with a good book. It would be great to have access to a spa for some much-needed pampering and perhaps a yoga class by the ocean to help de-stress. I also enjoy trying new cuisines, so exploring local restaurants would be a must. Most importantly, it would be a place where I can disconnect from the hustle and bustle and focus on self-care and rejuvenation.               </td><td>Car             </td></tr>\n",
       "</tbody>\n",
       "</table>\n",
       "            </div>\n",
       "        </div>\n",
       "        "
      ],
      "text/plain": [
       "Dataset([{'agent.persona': ['School principal', 'Nurse']}, {'answer.ideal_vacation': [\"As a school principal, my ideal vacation would be a perfect blend of relaxation and inspiration. I would love to visit a serene location, perhaps a quiet coastal town or a picturesque mountain retreat, where I can unwind and recharge. Mornings would be spent enjoying a good book with a cup of coffee, while afternoons could involve exploring local culture or nature trails. I'd also appreciate the opportunity to visit educational landmarks or museums to gather new ideas and perspectives that I can bring back to the school. Ultimately, it would be a balance of rest, reflection, and learning.\", \"As a nurse, my ideal vacation would be a place where I can completely unwind and recharge. I imagine a serene beach destination with soft sand and gentle waves. I'd love to have a cozy beachside bungalow where I can relax with a good book. It would be great to have access to a spa for some much-needed pampering and perhaps a yoga class by the ocean to help de-stress. I also enjoy trying new cuisines, so exploring local restaurants would be a must. Most importantly, it would be a place where I can disconnect from the hustle and bustle and focus on self-care and rejuvenation.\"]}, {'answer.commute': ['Car', 'Car']}])"
      ]
     },
     "execution_count": 16,
     "metadata": {},
     "output_type": "execute_result"
    }
   ],
   "source": [
    "results.select(\"persona\", \"ideal_vacation\", \"commute\")"
   ]
  },
  {
   "cell_type": "code",
   "execution_count": 17,
   "id": "7cf7dfee-add6-4e0d-8963-878de15d94e8",
   "metadata": {
    "editable": true,
    "slideshow": {
     "slide_type": ""
    },
    "tags": []
   },
   "outputs": [],
   "source": [
    "new_agents = results.select(\"persona\", \"ideal_vacation\", \"commute\").to_agent_list()"
   ]
  },
  {
   "cell_type": "code",
   "execution_count": 18,
   "id": "9849b253-2219-4eaa-9b3b-e359e4fd694b",
   "metadata": {
    "editable": true,
    "slideshow": {
     "slide_type": ""
    },
    "tags": []
   },
   "outputs": [
    {
     "data": {
      "text/plain": [
       "edsl.agents.AgentList.AgentList"
      ]
     },
     "execution_count": 18,
     "metadata": {},
     "output_type": "execute_result"
    }
   ],
   "source": [
    "type(new_agents)"
   ]
  },
  {
   "cell_type": "code",
   "execution_count": 19,
   "id": "c2dcea59-6dd9-4925-a312-ec05144e6785",
   "metadata": {
    "editable": true,
    "slideshow": {
     "slide_type": ""
    },
    "tags": []
   },
   "outputs": [
    {
     "data": {
      "text/html": [
       "<p><a href='https://docs.expectedparrot.com/en/latest/agents.html#agentlist-class'>AgentList</a> agents: 2;</p>\n",
       "        <style>\n",
       "            :root {\n",
       "  --containerHeight: 110px;\n",
       "  --headerColor: blue;\n",
       "}\n",
       "\n",
       ".table-container {\n",
       "    height: var(--containerHeight) !important;\n",
       "    width: 100%;\n",
       "    overflow: auto;  /* This enables both horizontal and vertical scrolling */\n",
       "    border: 1px solid #d4d4d4;\n",
       "    background: transparent;\n",
       "    position: relative;  /* Create stacking context for sticky header */\n",
       "}\n",
       "\n",
       ".scroll-table {\n",
       "    /* Remove width: 100% to prevent table from being constrained */\n",
       "    /* min-width: 100% ensures table takes at least full container width */\n",
       "    min-width: 100%;\n",
       "    border-collapse: separate;\n",
       "    border-spacing: 4px;\n",
       "    background: transparent;\n",
       "    table-layout: auto;  /* Allow table to size based on content */\n",
       "}\n",
       "\n",
       ".scroll-table th {\n",
       "    background: transparent;  /* Semi-transparent background to ensure text readability */\n",
       "    position: sticky;\n",
       "    top: 0;\n",
       "    z-index: 1;\n",
       "    text-align: left !important;\n",
       "    padding: 8px;\n",
       "    font-weight: bold;\n",
       "    white-space: nowrap;  /* Prevent header text from wrapping */\n",
       "    min-width: 100px;    /* Ensure minimum column width */\n",
       "    backdrop-filter: blur(8px);  /* Optional: adds extra clarity */\n",
       "    color: var(--headerColor);\n",
       "}\n",
       "\n",
       ".scroll-table td {\n",
       "    padding: 8px;\n",
       "    text-align: left !important;\n",
       "    white-space: pre-wrap;\n",
       "    word-wrap: break-word;\n",
       "    vertical-align: top;\n",
       "    color: inherit;\n",
       "    border-bottom: none;\n",
       "    background: transparent;\n",
       "    min-width: 100px;    /* Match header minimum width */\n",
       "}\n",
       "\n",
       ".scroll-table tbody tr:hover {\n",
       "    background: transparent;\n",
       "}\n",
       "\n",
       "/* Additional rule to ensure header background is truly transparent */\n",
       ".scroll-table thead tr {\n",
       "    background: transparent !important;\n",
       "}\n",
       "\n",
       "/* Add shadow to indicate scrollable content */\n",
       ".table-container::after {\n",
       "    content: '';\n",
       "    position: absolute;\n",
       "    top: 0;\n",
       "    right: 0;\n",
       "    bottom: 0;\n",
       "    width: 5px;\n",
       "    background: linear-gradient(to right, transparent, rgba(242, 6, 6, 0.1));\n",
       "    pointer-events: none;\n",
       "    opacity: 0;\n",
       "    transition: opacity 0.3s;\n",
       "}\n",
       "\n",
       ".table-container:hover::after {\n",
       "    opacity: 1;\n",
       "}\n",
       "\n",
       "/* Handle Jupyter notebook specific styling */\n",
       ".jp-OutputArea-output .table-container {\n",
       "    max-width: 100%;\n",
       "    margin: 0;\n",
       "    overflow-x: auto;\n",
       "}\n",
       "        </style>\n",
       "        <div class=\"table-container\">\n",
       "            <div class=\"scroll-table-wrapper\">\n",
       "                <table class=\"scroll-table\">\n",
       "<thead>\n",
       "<tr><th>commute  </th><th>persona         </th><th>ideal_vacation                                                                                                                                                                                                                                                                                                                                                                                                                                                                                                                                                                                                     </th></tr>\n",
       "</thead>\n",
       "<tbody>\n",
       "<tr><td>Car      </td><td>School principal</td><td>As a school principal, my ideal vacation would be a perfect blend of relaxation and inspiration. I would love to visit a serene location, perhaps a quiet coastal town or a picturesque mountain retreat, where I can unwind and recharge. Mornings would be spent enjoying a good book with a cup of coffee, while afternoons could involve exploring local culture or nature trails. I&#x27;d also appreciate the opportunity to visit educational landmarks or museums to gather new ideas and perspectives that I can bring back to the school. Ultimately, it would be a balance of rest, reflection, and learning.</td></tr>\n",
       "<tr><td>Car      </td><td>Nurse           </td><td>As a nurse, my ideal vacation would be a place where I can completely unwind and recharge. I imagine a serene beach destination with soft sand and gentle waves. I&#x27;d love to have a cozy beachside bungalow where I can relax with a good book. It would be great to have access to a spa for some much-needed pampering and perhaps a yoga class by the ocean to help de-stress. I also enjoy trying new cuisines, so exploring local restaurants would be a must. Most importantly, it would be a place where I can disconnect from the hustle and bustle and focus on self-care and rejuvenation.               </td></tr>\n",
       "</tbody>\n",
       "</table>\n",
       "            </div>\n",
       "        </div>\n",
       "        "
      ],
      "text/plain": [
       "AgentList([Agent(traits = {'persona': 'School principal', 'ideal_vacation': \"As a school principal, my ideal vacation would be a perfect blend of relaxation and inspiration. I would love to visit a serene location, perhaps a quiet coastal town or a picturesque mountain retreat, where I can unwind and recharge. Mornings would be spent enjoying a good book with a cup of coffee, while afternoons could involve exploring local culture or nature trails. I'd also appreciate the opportunity to visit educational landmarks or museums to gather new ideas and perspectives that I can bring back to the school. Ultimately, it would be a balance of rest, reflection, and learning.\", 'commute': 'Car'}), Agent(traits = {'persona': 'Nurse', 'ideal_vacation': \"As a nurse, my ideal vacation would be a place where I can completely unwind and recharge. I imagine a serene beach destination with soft sand and gentle waves. I'd love to have a cozy beachside bungalow where I can relax with a good book. It would be great to have access to a spa for some much-needed pampering and perhaps a yoga class by the ocean to help de-stress. I also enjoy trying new cuisines, so exploring local restaurants would be a must. Most importantly, it would be a place where I can disconnect from the hustle and bustle and focus on self-care and rejuvenation.\", 'commute': 'Car'})])"
      ]
     },
     "execution_count": 19,
     "metadata": {},
     "output_type": "execute_result"
    }
   ],
   "source": [
    "new_agents"
   ]
  },
  {
   "cell_type": "markdown",
   "id": "878e8b3e-74f5-4be8-a820-5e0bc7b01d23",
   "metadata": {
    "editable": true,
    "slideshow": {
     "slide_type": ""
    },
    "tags": []
   },
   "source": [
    "## Posting to the Coop"
   ]
  },
  {
   "cell_type": "code",
   "execution_count": 20,
   "id": "de34b035-9639-4ca2-b706-6e3751de4446",
   "metadata": {
    "editable": true,
    "slideshow": {
     "slide_type": ""
    },
    "tags": [
     "skip-execution"
    ]
   },
   "outputs": [],
   "source": [
    "from edsl import Notebook"
   ]
  },
  {
   "cell_type": "code",
   "execution_count": 21,
   "id": "b3fc1b81-8da0-41fb-b648-b66023cd95fa",
   "metadata": {
    "editable": true,
    "slideshow": {
     "slide_type": ""
    },
    "tags": [
     "skip-execution"
    ]
   },
   "outputs": [],
   "source": [
    "n = Notebook(path = \"updating_agents.ipynb\")"
   ]
  },
  {
   "cell_type": "code",
   "execution_count": 22,
   "id": "81f82829-4ed9-42ee-b446-841e91eab012",
   "metadata": {
    "editable": true,
    "slideshow": {
     "slide_type": ""
    },
    "tags": [
     "skip-execution"
    ]
   },
   "outputs": [
    {
     "data": {
      "text/plain": [
       "{'description': 'Updating agent traits with new answers',\n",
       " 'object_type': 'notebook',\n",
       " 'url': 'https://www.expectedparrot.com/content/96979a08-f272-4fcf-86af-1b070104c535',\n",
       " 'uuid': '96979a08-f272-4fcf-86af-1b070104c535',\n",
       " 'version': '0.1.39.dev1',\n",
       " 'visibility': 'public'}"
      ]
     },
     "execution_count": 22,
     "metadata": {},
     "output_type": "execute_result"
    }
   ],
   "source": [
    "info = n.push(description = \"Updating agent traits with new answers\", visibility = \"public\")\n",
    "info"
   ]
  },
  {
   "cell_type": "markdown",
   "id": "4cb2bebd-19cb-4ab7-bd52-8ae2ac3328e8",
   "metadata": {
    "editable": true,
    "slideshow": {
     "slide_type": ""
    },
    "tags": []
   },
   "source": [
    "Updating an object at Coop:"
   ]
  },
  {
   "cell_type": "code",
   "execution_count": 23,
   "id": "a6551715-f53e-4e93-9a3d-cb6d50e3cf43",
   "metadata": {
    "editable": true,
    "slideshow": {
     "slide_type": ""
    },
    "tags": [
     "skip-execution"
    ]
   },
   "outputs": [],
   "source": [
    "n = Notebook(path = \"updating_agents.ipynb\") # resave"
   ]
  },
  {
   "cell_type": "code",
   "execution_count": 24,
   "id": "ef8a2c52-1fd9-4f5b-bb4d-e683076f1605",
   "metadata": {
    "editable": true,
    "slideshow": {
     "slide_type": ""
    },
    "tags": [
     "skip-execution"
    ]
   },
   "outputs": [
    {
     "data": {
      "text/plain": [
       "{'status': 'success'}"
      ]
     },
     "execution_count": 24,
     "metadata": {},
     "output_type": "execute_result"
    }
   ],
   "source": [
    "n.patch(uuid = info[\"uuid\"], value = n)"
   ]
  }
 ],
 "metadata": {
  "kernelspec": {
   "display_name": "Python 3 (ipykernel)",
   "language": "python",
   "name": "python3"
  },
  "language_info": {
   "codemirror_mode": {
    "name": "ipython",
    "version": 3
   },
   "file_extension": ".py",
   "mimetype": "text/x-python",
   "name": "python",
   "nbconvert_exporter": "python",
   "pygments_lexer": "ipython3",
   "version": "3.11.7"
  }
 },
 "nbformat": 4,
 "nbformat_minor": 5
}
