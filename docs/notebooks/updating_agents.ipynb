{
 "cells": [
  {
   "cell_type": "markdown",
   "id": "7e592f2d-8b8e-496a-9e3b-0a74c009e738",
   "metadata": {},
   "source": [
    "# Updating agent traits\n",
    "This notebook demonstrates how to update an agent's traits with new answers to questions using the `add traits()` and `to_agent_list()` methods.\n",
    "\n",
    "Learn more about designing and using AI agents with surveys in the [documentation](https://docs.expectedparrot.com/en/latest/agents.html)."
   ]
  },
  {
   "cell_type": "markdown",
   "id": "fc7e0d3e-18b6-4207-bf75-01ff964ea010",
   "metadata": {},
   "source": [
    "## Updating a single agent\n",
    "We start by creating an agent and using it with a survey:"
   ]
  },
  {
   "cell_type": "code",
   "execution_count": 2,
   "id": "879ad718-62f6-4b28-91b4-0c896e38a201",
   "metadata": {},
   "outputs": [],
   "source": [
    "from edsl import Agent, QuestionFreeText, QuestionMultipleChoice, Survey"
   ]
  },
  {
   "cell_type": "code",
   "execution_count": 3,
   "id": "aeec1bb5-f837-4c2d-b0c1-4e1437e050c1",
   "metadata": {},
   "outputs": [],
   "source": [
    "agent = Agent(\n",
    "    name = \"college student\",\n",
    "    traits = {\n",
    "        \"persona\": \"You are a sophomore at a community college in upstate New York.\",\n",
    "        \"year\": \"sophomore\",\n",
    "        \"school\": \"community college\",\n",
    "        \"major\": \"biology\",\n",
    "        \"state\": \"New York\"\n",
    "    }\n",
    ")"
   ]
  },
  {
   "cell_type": "code",
   "execution_count": 4,
   "id": "37a76271-7867-4ae2-83d7-757a642ad350",
   "metadata": {},
   "outputs": [],
   "source": [
    "q1 = QuestionFreeText(\n",
    "    question_name = \"career_interests\",\n",
    "    question_text = \"What are your career interests?\"\n",
    ")\n",
    "\n",
    "q2 = QuestionMultipleChoice(\n",
    "    question_name = \"attend_grad_school\",\n",
    "    question_text = \"Do you plan to attend grad school?\",\n",
    "    question_options = [\"Yes\", \"No\", \"Undecided\"]\n",
    ")\n",
    "\n",
    "survey = Survey([q1, q2])"
   ]
  },
  {
   "cell_type": "code",
   "execution_count": 5,
   "id": "96e0bdd7-bdd8-401e-9fd5-a4698449109c",
   "metadata": {},
   "outputs": [
    {
     "name": "stdout",
     "output_type": "stream",
     "text": [
      "Job sent to server. (Job uuid=b9139966-653c-4526-ad42-f829d8ddb0d0).\n",
      "Job completed and Results stored on Coop: https://www.expectedparrot.com/content/0039b65f-d25c-4b73-9e79-b160c7105a70.\n"
     ]
    }
   ],
   "source": [
    "results = survey.by(agent).run()"
   ]
  },
  {
   "cell_type": "code",
   "execution_count": 6,
   "id": "90bdaf6f-5e62-4da9-9bb9-c82d1ccdb2bf",
   "metadata": {},
   "outputs": [
    {
     "data": {
      "text/html": [
       "<pre style=\"white-space:pre;overflow-x:auto;line-height:normal;font-family:Menlo,'DejaVu Sans Mono',consolas,'Courier New',monospace\">┏━━━━━━━━━━━━━━━━━━━━━━━━━━━━━━━━━━━━━━━━━━━━━━━━━━━━━━━━━━━━━━━━━━━━━━━━━━━━━━━━━━━━━━━━━━━┳━━━━━━━━━━━━━━━━━━━━━┓\n",
       "┃<span style=\"color: #800080; text-decoration-color: #800080; font-weight: bold\"> answer                                                                                    </span>┃<span style=\"color: #800080; text-decoration-color: #800080; font-weight: bold\"> answer              </span>┃\n",
       "┃<span style=\"color: #800080; text-decoration-color: #800080; font-weight: bold\"> .career_interests                                                                         </span>┃<span style=\"color: #800080; text-decoration-color: #800080; font-weight: bold\"> .attend_grad_school </span>┃\n",
       "┡━━━━━━━━━━━━━━━━━━━━━━━━━━━━━━━━━━━━━━━━━━━━━━━━━━━━━━━━━━━━━━━━━━━━━━━━━━━━━━━━━━━━━━━━━━━╇━━━━━━━━━━━━━━━━━━━━━┩\n",
       "│<span style=\"color: #7f7f7f; text-decoration-color: #7f7f7f\"> I'm majoring in biology, so I'm really interested in careers related to that field. Right </span>│<span style=\"color: #7f7f7f; text-decoration-color: #7f7f7f\"> Undecided           </span>│\n",
       "│<span style=\"color: #7f7f7f; text-decoration-color: #7f7f7f\"> now, I'm considering options like working in environmental science, conservation, or      </span>│<span style=\"color: #7f7f7f; text-decoration-color: #7f7f7f\">                     </span>│\n",
       "│<span style=\"color: #7f7f7f; text-decoration-color: #7f7f7f\"> maybe even going into healthcare. I'm still exploring, but I definitely want to do        </span>│<span style=\"color: #7f7f7f; text-decoration-color: #7f7f7f\">                     </span>│\n",
       "│<span style=\"color: #7f7f7f; text-decoration-color: #7f7f7f\"> something where I can make a positive impact on the environment or people's health.       </span>│<span style=\"color: #7f7f7f; text-decoration-color: #7f7f7f\">                     </span>│\n",
       "└───────────────────────────────────────────────────────────────────────────────────────────┴─────────────────────┘\n",
       "</pre>\n"
      ],
      "text/plain": [
       "┏━━━━━━━━━━━━━━━━━━━━━━━━━━━━━━━━━━━━━━━━━━━━━━━━━━━━━━━━━━━━━━━━━━━━━━━━━━━━━━━━━━━━━━━━━━━┳━━━━━━━━━━━━━━━━━━━━━┓\n",
       "┃\u001b[1;35m \u001b[0m\u001b[1;35manswer                                                                                   \u001b[0m\u001b[1;35m \u001b[0m┃\u001b[1;35m \u001b[0m\u001b[1;35manswer             \u001b[0m\u001b[1;35m \u001b[0m┃\n",
       "┃\u001b[1;35m \u001b[0m\u001b[1;35m.career_interests                                                                        \u001b[0m\u001b[1;35m \u001b[0m┃\u001b[1;35m \u001b[0m\u001b[1;35m.attend_grad_school\u001b[0m\u001b[1;35m \u001b[0m┃\n",
       "┡━━━━━━━━━━━━━━━━━━━━━━━━━━━━━━━━━━━━━━━━━━━━━━━━━━━━━━━━━━━━━━━━━━━━━━━━━━━━━━━━━━━━━━━━━━━╇━━━━━━━━━━━━━━━━━━━━━┩\n",
       "│\u001b[2m \u001b[0m\u001b[2mI'm majoring in biology, so I'm really interested in careers related to that field. Right\u001b[0m\u001b[2m \u001b[0m│\u001b[2m \u001b[0m\u001b[2mUndecided          \u001b[0m\u001b[2m \u001b[0m│\n",
       "│\u001b[2m \u001b[0m\u001b[2mnow, I'm considering options like working in environmental science, conservation, or     \u001b[0m\u001b[2m \u001b[0m│\u001b[2m                     \u001b[0m│\n",
       "│\u001b[2m \u001b[0m\u001b[2mmaybe even going into healthcare. I'm still exploring, but I definitely want to do       \u001b[0m\u001b[2m \u001b[0m│\u001b[2m                     \u001b[0m│\n",
       "│\u001b[2m \u001b[0m\u001b[2msomething where I can make a positive impact on the environment or people's health.      \u001b[0m\u001b[2m \u001b[0m│\u001b[2m                     \u001b[0m│\n",
       "└───────────────────────────────────────────────────────────────────────────────────────────┴─────────────────────┘\n"
      ]
     },
     "metadata": {},
     "output_type": "display_data"
    }
   ],
   "source": [
    "results.select(\"career_interests\", \"attend_grad_school\").print(format=\"rich\")"
   ]
  },
  {
   "cell_type": "markdown",
   "id": "89867d01-ec96-444a-b984-5d96cf6f60fd",
   "metadata": {},
   "source": [
    "### Creating a new agent with original and new traits\n",
    "Here we use the `to_agent_list()` method to create a new agent that has both the original traits and new traits for the survey responses:"
   ]
  },
  {
   "cell_type": "code",
   "execution_count": 7,
   "id": "250e9c37-9532-460c-ac17-5957427af472",
   "metadata": {},
   "outputs": [],
   "source": [
    "new_agent = results.select(\"persona\", \"year\", \"school\", \"major\", \"state\", \"career_interests\", \"attend_grad_school\").to_agent_list()[0]"
   ]
  },
  {
   "cell_type": "code",
   "execution_count": 8,
   "id": "3b18880c-ecdc-4b67-8e45-fc96099c85f2",
   "metadata": {},
   "outputs": [
    {
     "data": {
      "text/plain": [
       "edsl.agents.Agent.Agent"
      ]
     },
     "execution_count": 8,
     "metadata": {},
     "output_type": "execute_result"
    }
   ],
   "source": [
    "type(new_agent)"
   ]
  },
  {
   "cell_type": "code",
   "execution_count": 9,
   "id": "3f54421b-4d43-4d3c-a099-b6530c467526",
   "metadata": {},
   "outputs": [
    {
     "data": {
      "text/html": [
       "<div class=\"highlight\"><pre><span></span><span class=\"p\">{</span>\n",
       "<span class=\"w\">    </span><span class=\"nt\">&quot;traits&quot;</span><span class=\"p\">:</span><span class=\"w\"> </span><span class=\"p\">{</span>\n",
       "<span class=\"w\">        </span><span class=\"nt\">&quot;persona&quot;</span><span class=\"p\">:</span><span class=\"w\"> </span><span class=\"s2\">&quot;You are a sophomore at a community college in upstate New York.&quot;</span><span class=\"p\">,</span>\n",
       "<span class=\"w\">        </span><span class=\"nt\">&quot;year&quot;</span><span class=\"p\">:</span><span class=\"w\"> </span><span class=\"s2\">&quot;sophomore&quot;</span><span class=\"p\">,</span>\n",
       "<span class=\"w\">        </span><span class=\"nt\">&quot;school&quot;</span><span class=\"p\">:</span><span class=\"w\"> </span><span class=\"s2\">&quot;community college&quot;</span><span class=\"p\">,</span>\n",
       "<span class=\"w\">        </span><span class=\"nt\">&quot;major&quot;</span><span class=\"p\">:</span><span class=\"w\"> </span><span class=\"s2\">&quot;biology&quot;</span><span class=\"p\">,</span>\n",
       "<span class=\"w\">        </span><span class=\"nt\">&quot;state&quot;</span><span class=\"p\">:</span><span class=\"w\"> </span><span class=\"s2\">&quot;New York&quot;</span><span class=\"p\">,</span>\n",
       "<span class=\"w\">        </span><span class=\"nt\">&quot;career_interests&quot;</span><span class=\"p\">:</span><span class=\"w\"> </span><span class=\"s2\">&quot;I&#39;m majoring in biology, so I&#39;m really interested in careers related to that field. Right now, I&#39;m considering options like working in environmental science, conservation, or maybe even going into healthcare. I&#39;m still exploring, but I definitely want to do something where I can make a positive impact on the environment or people&#39;s health.&quot;</span><span class=\"p\">,</span>\n",
       "<span class=\"w\">        </span><span class=\"nt\">&quot;attend_grad_school&quot;</span><span class=\"p\">:</span><span class=\"w\"> </span><span class=\"s2\">&quot;Undecided&quot;</span>\n",
       "<span class=\"w\">    </span><span class=\"p\">}</span>\n",
       "<span class=\"p\">}</span>\n",
       "</pre></div>\n"
      ],
      "text/plain": [
       "Agent(traits = {'persona': 'You are a sophomore at a community college in upstate New York.', 'year': 'sophomore', 'school': 'community college', 'major': 'biology', 'state': 'New York', 'career_interests': \"I'm majoring in biology, so I'm really interested in careers related to that field. Right now, I'm considering options like working in environmental science, conservation, or maybe even going into healthcare. I'm still exploring, but I definitely want to do something where I can make a positive impact on the environment or people's health.\", 'attend_grad_school': 'Undecided'})"
      ]
     },
     "execution_count": 9,
     "metadata": {},
     "output_type": "execute_result"
    }
   ],
   "source": [
    "new_agent"
   ]
  },
  {
   "cell_type": "markdown",
   "id": "e16655d0-c36b-44c4-a924-50a79ff41955",
   "metadata": {},
   "source": [
    "### Updating an existing agent\n",
    "Here we use the `add_traits()` method to add the agent's answers to its existing traits:"
   ]
  },
  {
   "cell_type": "code",
   "execution_count": 10,
   "id": "9730a487-fd24-4783-8ad6-b009c54384fa",
   "metadata": {},
   "outputs": [
    {
     "data": {
      "text/plain": [
       "\"I'm majoring in biology, so I'm really interested in careers related to that field. Right now, I'm considering options like working in environmental science, conservation, or maybe even going into healthcare. I'm still exploring, but I definitely want to do something where I can make a positive impact on the environment or people's health.\""
      ]
     },
     "execution_count": 10,
     "metadata": {},
     "output_type": "execute_result"
    }
   ],
   "source": [
    "career_interests = results.select(\"career_interests\").to_list()[0] # there is only 1 answer\n",
    "career_interests"
   ]
  },
  {
   "cell_type": "code",
   "execution_count": 11,
   "id": "4f0e77e2-6390-42d7-a7b1-ea02b6cc1ef9",
   "metadata": {},
   "outputs": [
    {
     "data": {
      "text/plain": [
       "'Undecided'"
      ]
     },
     "execution_count": 11,
     "metadata": {},
     "output_type": "execute_result"
    }
   ],
   "source": [
    "attend_grad_school = results.select(\"attend_grad_school\").to_list()[0]\n",
    "attend_grad_school"
   ]
  },
  {
   "cell_type": "code",
   "execution_count": 12,
   "id": "7605a222-c957-4ab0-8efd-4fda8bfec184",
   "metadata": {},
   "outputs": [
    {
     "data": {
      "text/html": [
       "<div class=\"highlight\"><pre><span></span><span class=\"p\">{</span>\n",
       "<span class=\"w\">    </span><span class=\"nt\">&quot;name&quot;</span><span class=\"p\">:</span><span class=\"w\"> </span><span class=\"s2\">&quot;college student&quot;</span><span class=\"p\">,</span>\n",
       "<span class=\"w\">    </span><span class=\"nt\">&quot;traits&quot;</span><span class=\"p\">:</span><span class=\"w\"> </span><span class=\"p\">{</span>\n",
       "<span class=\"w\">        </span><span class=\"nt\">&quot;persona&quot;</span><span class=\"p\">:</span><span class=\"w\"> </span><span class=\"s2\">&quot;You are a sophomore at a community college in upstate New York.&quot;</span><span class=\"p\">,</span>\n",
       "<span class=\"w\">        </span><span class=\"nt\">&quot;year&quot;</span><span class=\"p\">:</span><span class=\"w\"> </span><span class=\"s2\">&quot;sophomore&quot;</span><span class=\"p\">,</span>\n",
       "<span class=\"w\">        </span><span class=\"nt\">&quot;school&quot;</span><span class=\"p\">:</span><span class=\"w\"> </span><span class=\"s2\">&quot;community college&quot;</span><span class=\"p\">,</span>\n",
       "<span class=\"w\">        </span><span class=\"nt\">&quot;major&quot;</span><span class=\"p\">:</span><span class=\"w\"> </span><span class=\"s2\">&quot;biology&quot;</span><span class=\"p\">,</span>\n",
       "<span class=\"w\">        </span><span class=\"nt\">&quot;state&quot;</span><span class=\"p\">:</span><span class=\"w\"> </span><span class=\"s2\">&quot;New York&quot;</span><span class=\"p\">,</span>\n",
       "<span class=\"w\">        </span><span class=\"nt\">&quot;career_interests&quot;</span><span class=\"p\">:</span><span class=\"w\"> </span><span class=\"s2\">&quot;I&#39;m majoring in biology, so I&#39;m really interested in careers related to that field. Right now, I&#39;m considering options like working in environmental science, conservation, or maybe even going into healthcare. I&#39;m still exploring, but I definitely want to do something where I can make a positive impact on the environment or people&#39;s health.&quot;</span><span class=\"p\">,</span>\n",
       "<span class=\"w\">        </span><span class=\"nt\">&quot;attend_grad_school&quot;</span><span class=\"p\">:</span><span class=\"w\"> </span><span class=\"s2\">&quot;Undecided&quot;</span>\n",
       "<span class=\"w\">    </span><span class=\"p\">}</span>\n",
       "<span class=\"p\">}</span>\n",
       "</pre></div>\n"
      ],
      "text/plain": [
       "Agent(name = \"\"\"college student\"\"\", traits = {'persona': 'You are a sophomore at a community college in upstate New York.', 'year': 'sophomore', 'school': 'community college', 'major': 'biology', 'state': 'New York', 'career_interests': \"I'm majoring in biology, so I'm really interested in careers related to that field. Right now, I'm considering options like working in environmental science, conservation, or maybe even going into healthcare. I'm still exploring, but I definitely want to do something where I can make a positive impact on the environment or people's health.\", 'attend_grad_school': 'Undecided'})"
      ]
     },
     "execution_count": 12,
     "metadata": {},
     "output_type": "execute_result"
    }
   ],
   "source": [
    "agent.add_trait({\n",
    "    \"career_interests\": career_interests,\n",
    "    \"attend_grad_school\": attend_grad_school\n",
    "})\n",
    "agent"
   ]
  },
  {
   "cell_type": "markdown",
   "id": "4ebeec8b-48c0-481e-821f-b6f2c532f419",
   "metadata": {},
   "source": [
    "## Updating an agent list\n",
    "Here we update a list of agents all at once:"
   ]
  },
  {
   "cell_type": "code",
   "execution_count": 13,
   "id": "a9b68b16-d16c-40fd-b8bc-56c164477eed",
   "metadata": {},
   "outputs": [],
   "source": [
    "from edsl import AgentList"
   ]
  },
  {
   "cell_type": "code",
   "execution_count": 14,
   "id": "f897bd3a-e074-471e-8dca-ff04a256e753",
   "metadata": {},
   "outputs": [],
   "source": [
    "agents = AgentList(\n",
    "    Agent(traits = {\"persona\":p}) for p in [\"School principal\", \"Nurse\"] \n",
    ")"
   ]
  },
  {
   "cell_type": "code",
   "execution_count": 15,
   "id": "c363d4c3-33e4-48a3-9340-c37e975f6c85",
   "metadata": {},
   "outputs": [],
   "source": [
    "q1 = QuestionFreeText(\n",
    "    question_name = \"ideal_vacation\",\n",
    "    question_text = \"Describe your ideal vacation.\"\n",
    ")\n",
    "\n",
    "q2 = QuestionMultipleChoice(\n",
    "    question_name = \"commute\",\n",
    "    question_text = \"How do you typically commute to work?\",\n",
    "    question_options = [\"Car\", \"Bus\", \"Train\", \"Bike\", \"Walk\", \"Other\"]\n",
    ")\n",
    "\n",
    "survey = Survey([q1, q2])"
   ]
  },
  {
   "cell_type": "code",
   "execution_count": 16,
   "id": "ce2cff35-1dfe-4bd8-829d-27cff44a7e49",
   "metadata": {},
   "outputs": [
    {
     "name": "stdout",
     "output_type": "stream",
     "text": [
      "Job sent to server. (Job uuid=13db7cb7-2520-4e1d-b808-bdfdb7c3d2e7).\n",
      "Job completed and Results stored on Coop: https://www.expectedparrot.com/content/df6b8426-24c5-46c5-8eea-512366e73356.\n"
     ]
    }
   ],
   "source": [
    "results = survey.by(agents).run()"
   ]
  },
  {
   "cell_type": "code",
   "execution_count": 17,
   "id": "fb063783-425e-457f-bf5f-66a728624527",
   "metadata": {},
   "outputs": [
    {
     "data": {
      "text/html": [
       "<pre style=\"white-space:pre;overflow-x:auto;line-height:normal;font-family:Menlo,'DejaVu Sans Mono',consolas,'Courier New',monospace\">┏━━━━━━━━━━━━━━━━━━┳━━━━━━━━━━━━━━━━━━━━━━━━━━━━━━━━━━━━━━━━━━━━━━━━━━━━━━━━━━━━━━━━━━━━━━━━━━━━━━━━━━━┳━━━━━━━━━━┓\n",
       "┃<span style=\"color: #800080; text-decoration-color: #800080; font-weight: bold\"> agent            </span>┃<span style=\"color: #800080; text-decoration-color: #800080; font-weight: bold\"> answer                                                                            </span>┃<span style=\"color: #800080; text-decoration-color: #800080; font-weight: bold\"> answer   </span>┃\n",
       "┃<span style=\"color: #800080; text-decoration-color: #800080; font-weight: bold\"> .persona         </span>┃<span style=\"color: #800080; text-decoration-color: #800080; font-weight: bold\"> .ideal_vacation                                                                   </span>┃<span style=\"color: #800080; text-decoration-color: #800080; font-weight: bold\"> .commute </span>┃\n",
       "┡━━━━━━━━━━━━━━━━━━╇━━━━━━━━━━━━━━━━━━━━━━━━━━━━━━━━━━━━━━━━━━━━━━━━━━━━━━━━━━━━━━━━━━━━━━━━━━━━━━━━━━━╇━━━━━━━━━━┩\n",
       "│<span style=\"color: #7f7f7f; text-decoration-color: #7f7f7f\"> School principal </span>│<span style=\"color: #7f7f7f; text-decoration-color: #7f7f7f\"> As a school principal, my ideal vacation would be a mix of relaxation and         </span>│<span style=\"color: #7f7f7f; text-decoration-color: #7f7f7f\"> Car      </span>│\n",
       "│<span style=\"color: #7f7f7f; text-decoration-color: #7f7f7f\">                  </span>│<span style=\"color: #7f7f7f; text-decoration-color: #7f7f7f\"> inspiration. I'd love to visit a quiet coastal town where I can unwind and        </span>│<span style=\"color: #7f7f7f; text-decoration-color: #7f7f7f\">          </span>│\n",
       "│<span style=\"color: #7f7f7f; text-decoration-color: #7f7f7f\">                  </span>│<span style=\"color: #7f7f7f; text-decoration-color: #7f7f7f\"> recharge. Mornings would be spent walking along the beach, enjoying the fresh air </span>│<span style=\"color: #7f7f7f; text-decoration-color: #7f7f7f\">          </span>│\n",
       "│<span style=\"color: #7f7f7f; text-decoration-color: #7f7f7f\">                  </span>│<span style=\"color: #7f7f7f; text-decoration-color: #7f7f7f\"> and the sound of the waves. I'd also take some time to visit local schools or     </span>│<span style=\"color: #7f7f7f; text-decoration-color: #7f7f7f\">          </span>│\n",
       "│<span style=\"color: #7f7f7f; text-decoration-color: #7f7f7f\">                  </span>│<span style=\"color: #7f7f7f; text-decoration-color: #7f7f7f\"> educational centers to see how they operate and perhaps gather new ideas to bring </span>│<span style=\"color: #7f7f7f; text-decoration-color: #7f7f7f\">          </span>│\n",
       "│<span style=\"color: #7f7f7f; text-decoration-color: #7f7f7f\">                  </span>│<span style=\"color: #7f7f7f; text-decoration-color: #7f7f7f\"> back to my own school. In the evenings, I'd enjoy reading a good book or having a </span>│<span style=\"color: #7f7f7f; text-decoration-color: #7f7f7f\">          </span>│\n",
       "│<span style=\"color: #7f7f7f; text-decoration-color: #7f7f7f\">                  </span>│<span style=\"color: #7f7f7f; text-decoration-color: #7f7f7f\"> nice dinner with fresh, local cuisine. It's important for me to return from       </span>│<span style=\"color: #7f7f7f; text-decoration-color: #7f7f7f\">          </span>│\n",
       "│<span style=\"color: #7f7f7f; text-decoration-color: #7f7f7f\">                  </span>│<span style=\"color: #7f7f7f; text-decoration-color: #7f7f7f\"> vacation feeling rejuvenated and ready to support my students and staff.          </span>│<span style=\"color: #7f7f7f; text-decoration-color: #7f7f7f\">          </span>│\n",
       "├──────────────────┼───────────────────────────────────────────────────────────────────────────────────┼──────────┤\n",
       "│<span style=\"color: #7f7f7f; text-decoration-color: #7f7f7f\"> Nurse            </span>│<span style=\"color: #7f7f7f; text-decoration-color: #7f7f7f\"> As a nurse, my ideal vacation would be somewhere peaceful and rejuvenating, where </span>│<span style=\"color: #7f7f7f; text-decoration-color: #7f7f7f\"> Car      </span>│\n",
       "│<span style=\"color: #7f7f7f; text-decoration-color: #7f7f7f\">                  </span>│<span style=\"color: #7f7f7f; text-decoration-color: #7f7f7f\"> I can truly unwind and recharge. I'd love to visit a serene beachside location,   </span>│<span style=\"color: #7f7f7f; text-decoration-color: #7f7f7f\">          </span>│\n",
       "│<span style=\"color: #7f7f7f; text-decoration-color: #7f7f7f\">                  </span>│<span style=\"color: #7f7f7f; text-decoration-color: #7f7f7f\"> perhaps in the Caribbean or the Maldives, where I can enjoy the sound of the      </span>│<span style=\"color: #7f7f7f; text-decoration-color: #7f7f7f\">          </span>│\n",
       "│<span style=\"color: #7f7f7f; text-decoration-color: #7f7f7f\">                  </span>│<span style=\"color: #7f7f7f; text-decoration-color: #7f7f7f\"> waves and the warmth of the sun. I would spend my days reading a good book,       </span>│<span style=\"color: #7f7f7f; text-decoration-color: #7f7f7f\">          </span>│\n",
       "│<span style=\"color: #7f7f7f; text-decoration-color: #7f7f7f\">                  </span>│<span style=\"color: #7f7f7f; text-decoration-color: #7f7f7f\"> taking leisurely walks along the shore, and maybe indulging in some yoga or       </span>│<span style=\"color: #7f7f7f; text-decoration-color: #7f7f7f\">          </span>│\n",
       "│<span style=\"color: #7f7f7f; text-decoration-color: #7f7f7f\">                  </span>│<span style=\"color: #7f7f7f; text-decoration-color: #7f7f7f\"> meditation sessions to relax my mind and body. A spa day would definitely be on   </span>│<span style=\"color: #7f7f7f; text-decoration-color: #7f7f7f\">          </span>│\n",
       "│<span style=\"color: #7f7f7f; text-decoration-color: #7f7f7f\">                  </span>│<span style=\"color: #7f7f7f; text-decoration-color: #7f7f7f\"> the agenda to pamper myself. I'd also love to try some local cuisine and maybe    </span>│<span style=\"color: #7f7f7f; text-decoration-color: #7f7f7f\">          </span>│\n",
       "│<span style=\"color: #7f7f7f; text-decoration-color: #7f7f7f\">                  </span>│<span style=\"color: #7f7f7f; text-decoration-color: #7f7f7f\"> even take a cooking class to learn a new dish. Most importantly, it would be a    </span>│<span style=\"color: #7f7f7f; text-decoration-color: #7f7f7f\">          </span>│\n",
       "│<span style=\"color: #7f7f7f; text-decoration-color: #7f7f7f\">                  </span>│<span style=\"color: #7f7f7f; text-decoration-color: #7f7f7f\"> time to disconnect from the hustle and bustle of everyday life and focus on       </span>│<span style=\"color: #7f7f7f; text-decoration-color: #7f7f7f\">          </span>│\n",
       "│<span style=\"color: #7f7f7f; text-decoration-color: #7f7f7f\">                  </span>│<span style=\"color: #7f7f7f; text-decoration-color: #7f7f7f\"> self-care and relaxation.                                                         </span>│<span style=\"color: #7f7f7f; text-decoration-color: #7f7f7f\">          </span>│\n",
       "└──────────────────┴───────────────────────────────────────────────────────────────────────────────────┴──────────┘\n",
       "</pre>\n"
      ],
      "text/plain": [
       "┏━━━━━━━━━━━━━━━━━━┳━━━━━━━━━━━━━━━━━━━━━━━━━━━━━━━━━━━━━━━━━━━━━━━━━━━━━━━━━━━━━━━━━━━━━━━━━━━━━━━━━━━┳━━━━━━━━━━┓\n",
       "┃\u001b[1;35m \u001b[0m\u001b[1;35magent           \u001b[0m\u001b[1;35m \u001b[0m┃\u001b[1;35m \u001b[0m\u001b[1;35manswer                                                                           \u001b[0m\u001b[1;35m \u001b[0m┃\u001b[1;35m \u001b[0m\u001b[1;35manswer  \u001b[0m\u001b[1;35m \u001b[0m┃\n",
       "┃\u001b[1;35m \u001b[0m\u001b[1;35m.persona        \u001b[0m\u001b[1;35m \u001b[0m┃\u001b[1;35m \u001b[0m\u001b[1;35m.ideal_vacation                                                                  \u001b[0m\u001b[1;35m \u001b[0m┃\u001b[1;35m \u001b[0m\u001b[1;35m.commute\u001b[0m\u001b[1;35m \u001b[0m┃\n",
       "┡━━━━━━━━━━━━━━━━━━╇━━━━━━━━━━━━━━━━━━━━━━━━━━━━━━━━━━━━━━━━━━━━━━━━━━━━━━━━━━━━━━━━━━━━━━━━━━━━━━━━━━━╇━━━━━━━━━━┩\n",
       "│\u001b[2m \u001b[0m\u001b[2mSchool principal\u001b[0m\u001b[2m \u001b[0m│\u001b[2m \u001b[0m\u001b[2mAs a school principal, my ideal vacation would be a mix of relaxation and        \u001b[0m\u001b[2m \u001b[0m│\u001b[2m \u001b[0m\u001b[2mCar     \u001b[0m\u001b[2m \u001b[0m│\n",
       "│\u001b[2m                  \u001b[0m│\u001b[2m \u001b[0m\u001b[2minspiration. I'd love to visit a quiet coastal town where I can unwind and       \u001b[0m\u001b[2m \u001b[0m│\u001b[2m          \u001b[0m│\n",
       "│\u001b[2m                  \u001b[0m│\u001b[2m \u001b[0m\u001b[2mrecharge. Mornings would be spent walking along the beach, enjoying the fresh air\u001b[0m\u001b[2m \u001b[0m│\u001b[2m          \u001b[0m│\n",
       "│\u001b[2m                  \u001b[0m│\u001b[2m \u001b[0m\u001b[2mand the sound of the waves. I'd also take some time to visit local schools or    \u001b[0m\u001b[2m \u001b[0m│\u001b[2m          \u001b[0m│\n",
       "│\u001b[2m                  \u001b[0m│\u001b[2m \u001b[0m\u001b[2meducational centers to see how they operate and perhaps gather new ideas to bring\u001b[0m\u001b[2m \u001b[0m│\u001b[2m          \u001b[0m│\n",
       "│\u001b[2m                  \u001b[0m│\u001b[2m \u001b[0m\u001b[2mback to my own school. In the evenings, I'd enjoy reading a good book or having a\u001b[0m\u001b[2m \u001b[0m│\u001b[2m          \u001b[0m│\n",
       "│\u001b[2m                  \u001b[0m│\u001b[2m \u001b[0m\u001b[2mnice dinner with fresh, local cuisine. It's important for me to return from      \u001b[0m\u001b[2m \u001b[0m│\u001b[2m          \u001b[0m│\n",
       "│\u001b[2m                  \u001b[0m│\u001b[2m \u001b[0m\u001b[2mvacation feeling rejuvenated and ready to support my students and staff.         \u001b[0m\u001b[2m \u001b[0m│\u001b[2m          \u001b[0m│\n",
       "├──────────────────┼───────────────────────────────────────────────────────────────────────────────────┼──────────┤\n",
       "│\u001b[2m \u001b[0m\u001b[2mNurse           \u001b[0m\u001b[2m \u001b[0m│\u001b[2m \u001b[0m\u001b[2mAs a nurse, my ideal vacation would be somewhere peaceful and rejuvenating, where\u001b[0m\u001b[2m \u001b[0m│\u001b[2m \u001b[0m\u001b[2mCar     \u001b[0m\u001b[2m \u001b[0m│\n",
       "│\u001b[2m                  \u001b[0m│\u001b[2m \u001b[0m\u001b[2mI can truly unwind and recharge. I'd love to visit a serene beachside location,  \u001b[0m\u001b[2m \u001b[0m│\u001b[2m          \u001b[0m│\n",
       "│\u001b[2m                  \u001b[0m│\u001b[2m \u001b[0m\u001b[2mperhaps in the Caribbean or the Maldives, where I can enjoy the sound of the     \u001b[0m\u001b[2m \u001b[0m│\u001b[2m          \u001b[0m│\n",
       "│\u001b[2m                  \u001b[0m│\u001b[2m \u001b[0m\u001b[2mwaves and the warmth of the sun. I would spend my days reading a good book,      \u001b[0m\u001b[2m \u001b[0m│\u001b[2m          \u001b[0m│\n",
       "│\u001b[2m                  \u001b[0m│\u001b[2m \u001b[0m\u001b[2mtaking leisurely walks along the shore, and maybe indulging in some yoga or      \u001b[0m\u001b[2m \u001b[0m│\u001b[2m          \u001b[0m│\n",
       "│\u001b[2m                  \u001b[0m│\u001b[2m \u001b[0m\u001b[2mmeditation sessions to relax my mind and body. A spa day would definitely be on  \u001b[0m\u001b[2m \u001b[0m│\u001b[2m          \u001b[0m│\n",
       "│\u001b[2m                  \u001b[0m│\u001b[2m \u001b[0m\u001b[2mthe agenda to pamper myself. I'd also love to try some local cuisine and maybe   \u001b[0m\u001b[2m \u001b[0m│\u001b[2m          \u001b[0m│\n",
       "│\u001b[2m                  \u001b[0m│\u001b[2m \u001b[0m\u001b[2meven take a cooking class to learn a new dish. Most importantly, it would be a   \u001b[0m\u001b[2m \u001b[0m│\u001b[2m          \u001b[0m│\n",
       "│\u001b[2m                  \u001b[0m│\u001b[2m \u001b[0m\u001b[2mtime to disconnect from the hustle and bustle of everyday life and focus on      \u001b[0m\u001b[2m \u001b[0m│\u001b[2m          \u001b[0m│\n",
       "│\u001b[2m                  \u001b[0m│\u001b[2m \u001b[0m\u001b[2mself-care and relaxation.                                                        \u001b[0m\u001b[2m \u001b[0m│\u001b[2m          \u001b[0m│\n",
       "└──────────────────┴───────────────────────────────────────────────────────────────────────────────────┴──────────┘\n"
      ]
     },
     "metadata": {},
     "output_type": "display_data"
    }
   ],
   "source": [
    "results.select(\"persona\", \"ideal_vacation\", \"commute\").print(format=\"rich\")"
   ]
  },
  {
   "cell_type": "code",
   "execution_count": 18,
   "id": "7cf7dfee-add6-4e0d-8963-878de15d94e8",
   "metadata": {},
   "outputs": [],
   "source": [
    "new_agents = results.select(\"persona\", \"ideal_vacation\", \"commute\").to_agent_list()"
   ]
  },
  {
   "cell_type": "code",
   "execution_count": 19,
   "id": "9849b253-2219-4eaa-9b3b-e359e4fd694b",
   "metadata": {},
   "outputs": [
    {
     "data": {
      "text/plain": [
       "edsl.agents.AgentList.AgentList"
      ]
     },
     "execution_count": 19,
     "metadata": {},
     "output_type": "execute_result"
    }
   ],
   "source": [
    "type(new_agents)"
   ]
  },
  {
   "cell_type": "code",
   "execution_count": 20,
   "id": "c2dcea59-6dd9-4925-a312-ec05144e6785",
   "metadata": {},
   "outputs": [
    {
     "data": {
      "text/html": [
       "<div class=\"highlight\"><pre><span></span><span class=\"p\">[</span>\n",
       "<span class=\"w\">    </span><span class=\"p\">{</span>\n",
       "<span class=\"w\">        </span><span class=\"nt\">&quot;traits&quot;</span><span class=\"p\">:</span><span class=\"w\"> </span><span class=\"p\">{</span>\n",
       "<span class=\"w\">            </span><span class=\"nt\">&quot;persona&quot;</span><span class=\"p\">:</span><span class=\"w\"> </span><span class=\"s2\">&quot;School principal&quot;</span><span class=\"p\">,</span>\n",
       "<span class=\"w\">            </span><span class=\"nt\">&quot;ideal_vacation&quot;</span><span class=\"p\">:</span><span class=\"w\"> </span><span class=\"s2\">&quot;As a school principal, my ideal vacation would be a mix of relaxation and inspiration. I&#39;d love to visit a quiet coastal town where I can unwind and recharge. Mornings would be spent walking along the beach, enjoying the fresh air and the sound of the waves. I&#39;d also take some time to visit local schools or educational centers to see how they operate and perhaps gather new ideas to bring back to my own school. In the evenings, I&#39;d enjoy reading a good book or having a nice dinner with fresh, local cuisine. It&#39;s important for me to return from vacation feeling rejuvenated and ready to support my students and staff.&quot;</span><span class=\"p\">,</span>\n",
       "<span class=\"w\">            </span><span class=\"nt\">&quot;commute&quot;</span><span class=\"p\">:</span><span class=\"w\"> </span><span class=\"s2\">&quot;Car&quot;</span>\n",
       "<span class=\"w\">        </span><span class=\"p\">},</span>\n",
       "<span class=\"w\">        </span><span class=\"nt\">&quot;edsl_version&quot;</span><span class=\"p\">:</span><span class=\"w\"> </span><span class=\"s2\">&quot;0.1.36.dev1&quot;</span><span class=\"p\">,</span>\n",
       "<span class=\"w\">        </span><span class=\"nt\">&quot;edsl_class_name&quot;</span><span class=\"p\">:</span><span class=\"w\"> </span><span class=\"s2\">&quot;Agent&quot;</span>\n",
       "<span class=\"w\">    </span><span class=\"p\">},</span>\n",
       "<span class=\"w\">    </span><span class=\"p\">{</span>\n",
       "<span class=\"w\">        </span><span class=\"nt\">&quot;traits&quot;</span><span class=\"p\">:</span><span class=\"w\"> </span><span class=\"p\">{</span>\n",
       "<span class=\"w\">            </span><span class=\"nt\">&quot;persona&quot;</span><span class=\"p\">:</span><span class=\"w\"> </span><span class=\"s2\">&quot;Nurse&quot;</span><span class=\"p\">,</span>\n",
       "<span class=\"w\">            </span><span class=\"nt\">&quot;ideal_vacation&quot;</span><span class=\"p\">:</span><span class=\"w\"> </span><span class=\"s2\">&quot;As a nurse, my ideal vacation would be somewhere peaceful and rejuvenating, where I can truly unwind and recharge. I&#39;d love to visit a serene beachside location, perhaps in the Caribbean or the Maldives, where I can enjoy the sound of the waves and the warmth of the sun. I would spend my days reading a good book, taking leisurely walks along the shore, and maybe indulging in some yoga or meditation sessions to relax my mind and body. A spa day would definitely be on the agenda to pamper myself. I&#39;d also love to try some local cuisine and maybe even take a cooking class to learn a new dish. Most importantly, it would be a time to disconnect from the hustle and bustle of everyday life and focus on self-care and relaxation.&quot;</span><span class=\"p\">,</span>\n",
       "<span class=\"w\">            </span><span class=\"nt\">&quot;commute&quot;</span><span class=\"p\">:</span><span class=\"w\"> </span><span class=\"s2\">&quot;Car&quot;</span>\n",
       "<span class=\"w\">        </span><span class=\"p\">},</span>\n",
       "<span class=\"w\">        </span><span class=\"nt\">&quot;edsl_version&quot;</span><span class=\"p\">:</span><span class=\"w\"> </span><span class=\"s2\">&quot;0.1.36.dev1&quot;</span><span class=\"p\">,</span>\n",
       "<span class=\"w\">        </span><span class=\"nt\">&quot;edsl_class_name&quot;</span><span class=\"p\">:</span><span class=\"w\"> </span><span class=\"s2\">&quot;Agent&quot;</span>\n",
       "<span class=\"w\">    </span><span class=\"p\">}</span>\n",
       "<span class=\"p\">]</span>\n",
       "</pre></div>\n"
      ],
      "text/plain": [
       "AgentList([Agent(traits = {'persona': 'School principal', 'ideal_vacation': \"As a school principal, my ideal vacation would be a mix of relaxation and inspiration. I'd love to visit a quiet coastal town where I can unwind and recharge. Mornings would be spent walking along the beach, enjoying the fresh air and the sound of the waves. I'd also take some time to visit local schools or educational centers to see how they operate and perhaps gather new ideas to bring back to my own school. In the evenings, I'd enjoy reading a good book or having a nice dinner with fresh, local cuisine. It's important for me to return from vacation feeling rejuvenated and ready to support my students and staff.\", 'commute': 'Car'}), Agent(traits = {'persona': 'Nurse', 'ideal_vacation': \"As a nurse, my ideal vacation would be somewhere peaceful and rejuvenating, where I can truly unwind and recharge. I'd love to visit a serene beachside location, perhaps in the Caribbean or the Maldives, where I can enjoy the sound of the waves and the warmth of the sun. I would spend my days reading a good book, taking leisurely walks along the shore, and maybe indulging in some yoga or meditation sessions to relax my mind and body. A spa day would definitely be on the agenda to pamper myself. I'd also love to try some local cuisine and maybe even take a cooking class to learn a new dish. Most importantly, it would be a time to disconnect from the hustle and bustle of everyday life and focus on self-care and relaxation.\", 'commute': 'Car'})])"
      ]
     },
     "execution_count": 20,
     "metadata": {},
     "output_type": "execute_result"
    }
   ],
   "source": [
    "new_agents"
   ]
  },
  {
   "cell_type": "markdown",
   "id": "878e8b3e-74f5-4be8-a820-5e0bc7b01d23",
   "metadata": {},
   "source": [
    "## Posting to the Coop"
   ]
  },
  {
   "cell_type": "code",
   "execution_count": 21,
   "id": "de34b035-9639-4ca2-b706-6e3751de4446",
   "metadata": {
    "editable": true,
    "slideshow": {
     "slide_type": ""
    },
    "tags": [
     "skip-execution"
    ]
   },
   "outputs": [],
   "source": [
    "from edsl import Notebook"
   ]
  },
  {
   "cell_type": "code",
   "execution_count": 22,
   "id": "b3fc1b81-8da0-41fb-b648-b66023cd95fa",
   "metadata": {
    "editable": true,
    "slideshow": {
     "slide_type": ""
    },
    "tags": [
     "skip-execution"
    ]
   },
   "outputs": [],
   "source": [
    "n = Notebook(path = \"updating_agents.ipynb\")"
   ]
  },
  {
   "cell_type": "code",
   "execution_count": 23,
   "id": "81f82829-4ed9-42ee-b446-841e91eab012",
   "metadata": {
    "editable": true,
    "slideshow": {
     "slide_type": ""
    },
    "tags": [
     "skip-execution"
    ]
   },
   "outputs": [
    {
     "data": {
      "text/plain": [
       "{'description': 'Updating agent traits with new answers',\n",
       " 'object_type': 'notebook',\n",
       " 'url': 'https://www.expectedparrot.com/content/af74189c-0f7a-4324-86f1-aeeeb34cfabe',\n",
       " 'uuid': 'af74189c-0f7a-4324-86f1-aeeeb34cfabe',\n",
       " 'version': '0.1.36.dev1',\n",
       " 'visibility': 'public'}"
      ]
     },
     "execution_count": 23,
     "metadata": {},
     "output_type": "execute_result"
    }
   ],
   "source": [
    "n.push(description = \"Updating agent traits with new answers\", visibility = \"public\")"
   ]
  }
 ],
 "metadata": {
  "kernelspec": {
   "display_name": "Python 3 (ipykernel)",
   "language": "python",
   "name": "python3"
  },
  "language_info": {
   "codemirror_mode": {
    "name": "ipython",
    "version": 3
   },
   "file_extension": ".py",
   "mimetype": "text/x-python",
   "name": "python",
   "nbconvert_exporter": "python",
   "pygments_lexer": "ipython3",
   "version": "3.11.7"
  }
 },
 "nbformat": 4,
 "nbformat_minor": 5
}
