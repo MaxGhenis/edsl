{
 "cells": [
  {
   "cell_type": "markdown",
   "id": "7e592f2d-8b8e-496a-9e3b-0a74c009e738",
   "metadata": {
    "editable": true,
    "slideshow": {
     "slide_type": ""
    },
    "tags": []
   },
   "source": [
    "# Updating agent traits\n",
    "This notebook demonstrates how to update an agent's traits with new answers to questions using the `add traits()` and `to_agent_list()` methods.\n",
    "\n",
    "Learn more about designing and using AI agents with surveys in the [documentation](https://docs.expectedparrot.com/en/latest/agents.html)."
   ]
  },
  {
   "cell_type": "markdown",
   "id": "fc7e0d3e-18b6-4207-bf75-01ff964ea010",
   "metadata": {
    "editable": true,
    "slideshow": {
     "slide_type": ""
    },
    "tags": []
   },
   "source": [
    "## Updating a single agent\n",
    "We start by creating an agent and using it with a survey:"
   ]
  },
  {
   "cell_type": "code",
   "execution_count": 1,
   "id": "879ad718-62f6-4b28-91b4-0c896e38a201",
   "metadata": {
    "editable": true,
    "slideshow": {
     "slide_type": ""
    },
    "tags": []
   },
   "outputs": [],
   "source": [
    "from edsl import Agent, QuestionFreeText, QuestionMultipleChoice, Survey"
   ]
  },
  {
   "cell_type": "code",
   "execution_count": 2,
   "id": "aeec1bb5-f837-4c2d-b0c1-4e1437e050c1",
   "metadata": {
    "editable": true,
    "slideshow": {
     "slide_type": ""
    },
    "tags": []
   },
   "outputs": [],
   "source": [
    "agent = Agent(\n",
    "    name = \"college student\",\n",
    "    traits = {\n",
    "        \"persona\": \"You are a sophomore at a community college in upstate New York.\",\n",
    "        \"year\": \"sophomore\",\n",
    "        \"school\": \"community college\",\n",
    "        \"major\": \"biology\",\n",
    "        \"state\": \"New York\"\n",
    "    }\n",
    ")"
   ]
  },
  {
   "cell_type": "code",
   "execution_count": 3,
   "id": "37a76271-7867-4ae2-83d7-757a642ad350",
   "metadata": {
    "editable": true,
    "slideshow": {
     "slide_type": ""
    },
    "tags": []
   },
   "outputs": [],
   "source": [
    "q1 = QuestionFreeText(\n",
    "    question_name = \"career_interests\",\n",
    "    question_text = \"What are your career interests?\"\n",
    ")\n",
    "\n",
    "q2 = QuestionMultipleChoice(\n",
    "    question_name = \"attend_grad_school\",\n",
    "    question_text = \"Do you plan to attend grad school?\",\n",
    "    question_options = [\"Yes\", \"No\", \"Undecided\"]\n",
    ")\n",
    "\n",
    "survey = Survey([q1, q2])"
   ]
  },
  {
   "cell_type": "code",
   "execution_count": 4,
   "id": "96e0bdd7-bdd8-401e-9fd5-a4698449109c",
   "metadata": {
    "editable": true,
    "slideshow": {
     "slide_type": ""
    },
    "tags": []
   },
   "outputs": [
    {
     "data": {
      "text/html": [
       "\n",
       "            <!-- #region Remove Inference Info -->\n",
       "            <div id=\"logger-0dc1becf-463e-4bf3-ae1e-f97c2eedb227\" class=\"job-logger\">\n",
       "                <div class=\"job-logger-header\">\n",
       "                    <span>\n",
       "                        <span id=\"arrow-0dc1becf-463e-4bf3-ae1e-f97c2eedb227\">▼</span> \n",
       "                        Job Status (2024-12-28 13:55:21)\n",
       "                    </span>\n",
       "                </div>\n",
       "                <div id=\"content-0dc1becf-463e-4bf3-ae1e-f97c2eedb227\" style=\"display: block;\">\n",
       "                    <table class=\"job-logger-table\">\n",
       "                        \n",
       "            <tr>\n",
       "                <td class=\"job-logger-cell job-logger-label\">Job UUID</td>\n",
       "                <td class=\"job-logger-cell job-logger-value\">b503195a-655b-4505-b3eb-8515d16deca3</td>\n",
       "            </tr>\n",
       "        \n",
       "            <tr>\n",
       "                <td class=\"job-logger-cell job-logger-label\">Progress Bar URL</td>\n",
       "                <td class=\"job-logger-cell job-logger-value\"><a href=\"https://www.expectedparrot.com/home/remote-job-progress/b503195a-655b-4505-b3eb-8515d16deca3\" target=\"_blank\" class=\"job-logger-link\">https://www.expectedparrot.com/home/remote-job-progress/b503195a-655b-4505-b3eb-8515d16deca3</a></td>\n",
       "            </tr>\n",
       "        \n",
       "            <tr>\n",
       "                <td class=\"job-logger-cell job-logger-label\">Error Report URL</td>\n",
       "                <td class=\"job-logger-cell job-logger-value\">None</td>\n",
       "            </tr>\n",
       "        \n",
       "            <tr>\n",
       "                <td class=\"job-logger-cell job-logger-label\">Results UUID</td>\n",
       "                <td class=\"job-logger-cell job-logger-value\">c6cb908c-b729-4247-aa9d-15f15877c72f</td>\n",
       "            </tr>\n",
       "        \n",
       "            <tr>\n",
       "                <td class=\"job-logger-cell job-logger-label\">Results URL</td>\n",
       "                <td class=\"job-logger-cell job-logger-value\">None</td>\n",
       "            </tr>\n",
       "        \n",
       "                    </table>\n",
       "                    \n",
       "                <div class=\"job-logger-status\">\n",
       "                    <span style=\"margin-right: 8px;\" class=\"job-logger-success\">✓</span><strong>Current Status:</strong> Job completed and Results stored on Coop: <a href=\"https://www.expectedparrot.com/content/c6cb908c-b729-4247-aa9d-15f15877c72f\" target=\"_blank\" class=\"job-logger-link\">https://www.expectedparrot.com/content/c6cb908c-b729-4247-aa9d-15f15877c72f</a>\n",
       "                </div>\n",
       "            \n",
       "                </div>\n",
       "            </div>\n",
       "            <!-- # endregion -->\n",
       "        "
      ],
      "text/plain": [
       "<IPython.core.display.HTML object>"
      ]
     },
     "metadata": {},
     "output_type": "display_data"
    },
    {
     "data": {
      "text/html": [
       "\n",
       "        <style>\n",
       "            /* Base theme variables */\n",
       "            :root {\n",
       "                --jl-bg-primary: #ffffff;\n",
       "                --jl-bg-secondary: #f5f5f5;\n",
       "                --jl-border-color: #e0e0e0;\n",
       "                --jl-text-primary: #24292e;\n",
       "                --jl-text-secondary: #586069;\n",
       "                --jl-link-color: #0366d6;\n",
       "                --jl-success-color: #28a745;\n",
       "                --jl-error-color: #d73a49;\n",
       "                --jl-header-bg: #f1f1f1;\n",
       "            }\n",
       "            \n",
       "            /* Dark theme variables */\n",
       "            .theme-dark {\n",
       "                --jl-bg-primary: #1e1e1e;\n",
       "                --jl-bg-secondary: #252526;\n",
       "                --jl-border-color: #2d2d2d;\n",
       "                --jl-text-primary: #cccccc;\n",
       "                --jl-text-secondary: #999999;\n",
       "                --jl-link-color: #4e94ce;\n",
       "                --jl-success-color: #89d185;\n",
       "                --jl-error-color: #f14c4c;\n",
       "                --jl-header-bg: #333333;\n",
       "            }\n",
       "\n",
       "            /* High contrast theme variables */\n",
       "            .theme-high-contrast {\n",
       "                --jl-bg-primary: #000000;\n",
       "                --jl-bg-secondary: #1a1a1a;\n",
       "                --jl-border-color: #404040;\n",
       "                --jl-text-primary: #ffffff;\n",
       "                --jl-text-secondary: #cccccc;\n",
       "                --jl-link-color: #66b3ff;\n",
       "                --jl-success-color: #00ff00;\n",
       "                --jl-error-color: #ff0000;\n",
       "                --jl-header-bg: #262626;\n",
       "            }\n",
       "            \n",
       "            .job-logger {\n",
       "                font-family: system-ui, -apple-system, sans-serif;\n",
       "                max-width: 800px;\n",
       "                margin: 10px 0;\n",
       "                color: var(--jl-text-primary);\n",
       "                box-shadow: 0 1px 3px rgba(0,0,0,0.12);\n",
       "                border-radius: 4px;\n",
       "                overflow: hidden;\n",
       "            }\n",
       "            \n",
       "            .job-logger-header {\n",
       "                padding: 12px 16px;\n",
       "                background: var(--jl-header-bg);\n",
       "                border: none;\n",
       "                border-radius: 4px 4px 0 0;\n",
       "                cursor: pointer;\n",
       "                color: var(--jl-text-primary);\n",
       "                user-select: none;\n",
       "                font-weight: 500;\n",
       "                letter-spacing: 0.3px;\n",
       "                display: flex;\n",
       "                justify-content: space-between;\n",
       "                align-items: center;\n",
       "            }\n",
       "            \n",
       "            .theme-select {\n",
       "                padding: 4px 8px;\n",
       "                border-radius: 4px;\n",
       "                border: 1px solid var(--jl-border-color);\n",
       "                background: var(--jl-bg-primary);\n",
       "                color: var(--jl-text-primary);\n",
       "                font-size: 0.9em;\n",
       "            }\n",
       "            \n",
       "            .job-logger-table {\n",
       "                width: 100%;\n",
       "                border-collapse: separate;\n",
       "                border-spacing: 0;\n",
       "                background: var(--jl-bg-primary);\n",
       "                border: 1px solid var(--jl-border-color);\n",
       "                margin-top: -1px;\n",
       "            }\n",
       "            \n",
       "            .job-logger-cell {\n",
       "                padding: 12px 16px;\n",
       "                border-bottom: 1px solid var(--jl-border-color);\n",
       "                line-height: 1.4;\n",
       "            }\n",
       "            \n",
       "            .job-logger-label {\n",
       "                font-weight: 500;\n",
       "                color: var(--jl-text-primary);\n",
       "                width: 25%;\n",
       "                background: var(--jl-bg-secondary);\n",
       "            }\n",
       "            \n",
       "            .job-logger-value {\n",
       "                color: var(--jl-text-secondary);\n",
       "                word-break: break-word;\n",
       "            }\n",
       "            \n",
       "            .job-logger-status {\n",
       "                margin: 0;\n",
       "                padding: 12px 16px;\n",
       "                background-color: var(--jl-bg-secondary);\n",
       "                border: 1px solid var(--jl-border-color);\n",
       "                border-top: none;\n",
       "                border-radius: 0 0 4px 4px;\n",
       "                color: var(--jl-text-primary);\n",
       "                font-size: 0.95em;\n",
       "            }\n",
       "        </style>\n",
       "        \n",
       "        <script>\n",
       "            class ThemeManager {\n",
       "                constructor(logId, initialTheme = 'auto') {\n",
       "                    this.logId = logId;\n",
       "                    this.currentTheme = initialTheme;\n",
       "                    this.darkModeMediaQuery = window.matchMedia('(prefers-color-scheme: dark)');\n",
       "                    this.init();\n",
       "                }\n",
       "                \n",
       "                init() {\n",
       "                    this.setupThemeSwitcher();\n",
       "                    this.updateTheme(this.currentTheme);\n",
       "                    \n",
       "                    this.darkModeMediaQuery.addListener(() => {\n",
       "                        if (this.currentTheme === 'auto') {\n",
       "                            this.updateTheme('auto');\n",
       "                        }\n",
       "                    });\n",
       "                }\n",
       "                \n",
       "                setupThemeSwitcher() {\n",
       "                    const logger = document.querySelector(`#logger-${this.logId}`);\n",
       "                    if (!logger) return;\n",
       "                    \n",
       "                    const switcher = document.createElement('div');\n",
       "                    switcher.className = 'theme-switcher';\n",
       "                    switcher.innerHTML = `\n",
       "                        <select id=\"theme-select-${this.logId}\" class=\"theme-select\">\n",
       "                            <option value=\"auto\">Auto</option>\n",
       "                            <option value=\"light\">Light</option>\n",
       "                            <option value=\"dark\">Dark</option>\n",
       "                            <option value=\"high-contrast\">High Contrast</option>\n",
       "                        </select>\n",
       "                    `;\n",
       "                    \n",
       "                    const header = logger.querySelector('.job-logger-header');\n",
       "                    header.appendChild(switcher);\n",
       "                    \n",
       "                    const select = switcher.querySelector('select');\n",
       "                    select.value = this.currentTheme;\n",
       "                    select.addEventListener('change', (e) => {\n",
       "                        this.updateTheme(e.target.value);\n",
       "                    });\n",
       "                }\n",
       "                \n",
       "                updateTheme(theme) {\n",
       "                    const logger = document.querySelector(`#logger-${this.logId}`);\n",
       "                    if (!logger) return;\n",
       "                    \n",
       "                    this.currentTheme = theme;\n",
       "                    \n",
       "                    logger.classList.remove('theme-light', 'theme-dark', 'theme-high-contrast');\n",
       "                    \n",
       "                    if (theme === 'auto') {\n",
       "                        const isDark = this.darkModeMediaQuery.matches;\n",
       "                        logger.classList.add(isDark ? 'theme-dark' : 'theme-light');\n",
       "                    } else {\n",
       "                        logger.classList.add(`theme-${theme}`);\n",
       "                    }\n",
       "                    \n",
       "                    try {\n",
       "                        localStorage.setItem('jobLoggerTheme', theme);\n",
       "                    } catch (e) {\n",
       "                        console.warn('Unable to save theme preference:', e);\n",
       "                    }\n",
       "                }\n",
       "            }\n",
       "            \n",
       "            window.initThemeManager = (logId, initialTheme) => {\n",
       "                new ThemeManager(logId, initialTheme);\n",
       "            };\n",
       "        </script>\n",
       "        \n",
       "        <script>\n",
       "            document.addEventListener('DOMContentLoaded', () => {\n",
       "                window.initThemeManager('0dc1becf-463e-4bf3-ae1e-f97c2eedb227', 'auto');\n",
       "            });\n",
       "        </script>\n",
       "        "
      ],
      "text/plain": [
       "<IPython.core.display.HTML object>"
      ]
     },
     "metadata": {},
     "output_type": "display_data"
    }
   ],
   "source": [
    "results = survey.by(agent).run()"
   ]
  },
  {
   "cell_type": "code",
   "execution_count": 5,
   "id": "90bdaf6f-5e62-4da9-9bb9-c82d1ccdb2bf",
   "metadata": {
    "editable": true,
    "slideshow": {
     "slide_type": ""
    },
    "tags": []
   },
   "outputs": [
    {
     "data": {
      "text/html": [
       "\n",
       "            <div style=\"max-height: 500px; overflow-y: auto;\">\n",
       "                <style type=\"text/css\">\n",
       "#T_95c57_row0_col0, #T_95c57_row0_col1 {\n",
       "  text-align: left;\n",
       "}\n",
       "</style>\n",
       "<table id=\"T_95c57\">\n",
       "  <thead>\n",
       "    <tr>\n",
       "      <th class=\"blank level0\" >&nbsp;</th>\n",
       "      <th id=\"T_95c57_level0_col0\" class=\"col_heading level0 col0\" >answer.career_interests</th>\n",
       "      <th id=\"T_95c57_level0_col1\" class=\"col_heading level0 col1\" >answer.attend_grad_school</th>\n",
       "    </tr>\n",
       "  </thead>\n",
       "  <tbody>\n",
       "    <tr>\n",
       "      <th id=\"T_95c57_level0_row0\" class=\"row_heading level0 row0\" >0</th>\n",
       "      <td id=\"T_95c57_row0_col0\" class=\"data row0 col0\" >I'm majoring in biology, so I'm really interested in exploring careers related to that field. I'm considering options like research, environmental science, or possibly healthcare. I'm still figuring it out, but I'm excited about the possibilities and want to find something that combines my love for science with making a positive impact.</td>\n",
       "      <td id=\"T_95c57_row0_col1\" class=\"data row0 col1\" >Undecided</td>\n",
       "    </tr>\n",
       "  </tbody>\n",
       "</table>\n",
       "\n",
       "            </div>\n",
       "            "
      ],
      "text/plain": [
       "Dataset([{'answer.career_interests': [\"I'm majoring in biology, so I'm really interested in exploring careers related to that field. I'm considering options like research, environmental science, or possibly healthcare. I'm still figuring it out, but I'm excited about the possibilities and want to find something that combines my love for science with making a positive impact.\"]}, {'answer.attend_grad_school': ['Undecided']}])"
      ]
     },
     "execution_count": 5,
     "metadata": {},
     "output_type": "execute_result"
    }
   ],
   "source": [
    "results.select(\"career_interests\", \"attend_grad_school\")"
   ]
  },
  {
   "cell_type": "markdown",
   "id": "89867d01-ec96-444a-b984-5d96cf6f60fd",
   "metadata": {
    "editable": true,
    "slideshow": {
     "slide_type": ""
    },
    "tags": []
   },
   "source": [
    "### Creating a new agent with original and new traits\n",
    "Here we use the `to_agent_list()` method to create a new agent that has both the original traits and new traits for the survey responses:"
   ]
  },
  {
   "cell_type": "code",
   "execution_count": 6,
   "id": "250e9c37-9532-460c-ac17-5957427af472",
   "metadata": {
    "editable": true,
    "slideshow": {
     "slide_type": ""
    },
    "tags": []
   },
   "outputs": [],
   "source": [
    "new_agent = results.select(\"persona\", \"year\", \"school\", \"major\", \"state\", \"career_interests\", \"attend_grad_school\").to_agent_list()[0]"
   ]
  },
  {
   "cell_type": "code",
   "execution_count": 7,
   "id": "3b18880c-ecdc-4b67-8e45-fc96099c85f2",
   "metadata": {
    "editable": true,
    "slideshow": {
     "slide_type": ""
    },
    "tags": []
   },
   "outputs": [
    {
     "data": {
      "text/plain": [
       "edsl.agents.Agent.Agent"
      ]
     },
     "execution_count": 7,
     "metadata": {},
     "output_type": "execute_result"
    }
   ],
   "source": [
    "type(new_agent)"
   ]
  },
  {
   "cell_type": "code",
   "execution_count": 8,
   "id": "3f54421b-4d43-4d3c-a099-b6530c467526",
   "metadata": {
    "editable": true,
    "slideshow": {
     "slide_type": ""
    },
    "tags": []
   },
   "outputs": [
    {
     "data": {
      "text/html": [
       "<p><a href='https://docs.expectedparrot.com/en/latest/agents.html'>Agent</a></p>\n",
       "            <div style=\"max-height: 500px; overflow-y: auto;\">\n",
       "                <style type=\"text/css\">\n",
       "#T_04bb6_row0_col0, #T_04bb6_row0_col1, #T_04bb6_row1_col0, #T_04bb6_row1_col1, #T_04bb6_row2_col0, #T_04bb6_row2_col1, #T_04bb6_row3_col0, #T_04bb6_row3_col1, #T_04bb6_row4_col0, #T_04bb6_row4_col1, #T_04bb6_row5_col0, #T_04bb6_row5_col1, #T_04bb6_row6_col0, #T_04bb6_row6_col1 {\n",
       "  text-align: left;\n",
       "}\n",
       "</style>\n",
       "<table id=\"T_04bb6\">\n",
       "  <thead>\n",
       "    <tr>\n",
       "      <th class=\"blank level0\" >&nbsp;</th>\n",
       "      <th id=\"T_04bb6_level0_col0\" class=\"col_heading level0 col0\" >key</th>\n",
       "      <th id=\"T_04bb6_level0_col1\" class=\"col_heading level0 col1\" >value</th>\n",
       "    </tr>\n",
       "  </thead>\n",
       "  <tbody>\n",
       "    <tr>\n",
       "      <th id=\"T_04bb6_level0_row0\" class=\"row_heading level0 row0\" >0</th>\n",
       "      <td id=\"T_04bb6_row0_col0\" class=\"data row0 col0\" >traits:persona</td>\n",
       "      <td id=\"T_04bb6_row0_col1\" class=\"data row0 col1\" >You are a sophomore at a community college in upstate New York.</td>\n",
       "    </tr>\n",
       "    <tr>\n",
       "      <th id=\"T_04bb6_level0_row1\" class=\"row_heading level0 row1\" >1</th>\n",
       "      <td id=\"T_04bb6_row1_col0\" class=\"data row1 col0\" >traits:year</td>\n",
       "      <td id=\"T_04bb6_row1_col1\" class=\"data row1 col1\" >sophomore</td>\n",
       "    </tr>\n",
       "    <tr>\n",
       "      <th id=\"T_04bb6_level0_row2\" class=\"row_heading level0 row2\" >2</th>\n",
       "      <td id=\"T_04bb6_row2_col0\" class=\"data row2 col0\" >traits:school</td>\n",
       "      <td id=\"T_04bb6_row2_col1\" class=\"data row2 col1\" >community college</td>\n",
       "    </tr>\n",
       "    <tr>\n",
       "      <th id=\"T_04bb6_level0_row3\" class=\"row_heading level0 row3\" >3</th>\n",
       "      <td id=\"T_04bb6_row3_col0\" class=\"data row3 col0\" >traits:major</td>\n",
       "      <td id=\"T_04bb6_row3_col1\" class=\"data row3 col1\" >biology</td>\n",
       "    </tr>\n",
       "    <tr>\n",
       "      <th id=\"T_04bb6_level0_row4\" class=\"row_heading level0 row4\" >4</th>\n",
       "      <td id=\"T_04bb6_row4_col0\" class=\"data row4 col0\" >traits:state</td>\n",
       "      <td id=\"T_04bb6_row4_col1\" class=\"data row4 col1\" >New York</td>\n",
       "    </tr>\n",
       "    <tr>\n",
       "      <th id=\"T_04bb6_level0_row5\" class=\"row_heading level0 row5\" >5</th>\n",
       "      <td id=\"T_04bb6_row5_col0\" class=\"data row5 col0\" >traits:career_interests</td>\n",
       "      <td id=\"T_04bb6_row5_col1\" class=\"data row5 col1\" >I'm majoring in biology, so I'm really interested in exploring careers related to that field. I'm considering options like research, environmental science, or possibly healthcare. I'm still figuring it out, but I'm excited about the possibilities and want to find something that combines my love for science with making a positive impact.</td>\n",
       "    </tr>\n",
       "    <tr>\n",
       "      <th id=\"T_04bb6_level0_row6\" class=\"row_heading level0 row6\" >6</th>\n",
       "      <td id=\"T_04bb6_row6_col0\" class=\"data row6 col0\" >traits:attend_grad_school</td>\n",
       "      <td id=\"T_04bb6_row6_col1\" class=\"data row6 col1\" >Undecided</td>\n",
       "    </tr>\n",
       "  </tbody>\n",
       "</table>\n",
       "\n",
       "            </div>\n",
       "            "
      ],
      "text/plain": [
       "Agent(traits = {'persona': 'You are a sophomore at a community college in upstate New York.', 'year': 'sophomore', 'school': 'community college', 'major': 'biology', 'state': 'New York', 'career_interests': \"I'm majoring in biology, so I'm really interested in exploring careers related to that field. I'm considering options like research, environmental science, or possibly healthcare. I'm still figuring it out, but I'm excited about the possibilities and want to find something that combines my love for science with making a positive impact.\", 'attend_grad_school': 'Undecided'})"
      ]
     },
     "execution_count": 8,
     "metadata": {},
     "output_type": "execute_result"
    }
   ],
   "source": [
    "new_agent"
   ]
  },
  {
   "cell_type": "markdown",
   "id": "e16655d0-c36b-44c4-a924-50a79ff41955",
   "metadata": {
    "editable": true,
    "slideshow": {
     "slide_type": ""
    },
    "tags": []
   },
   "source": [
    "### Updating an existing agent\n",
    "Here we use the `add_traits()` method to add the agent's answers to its existing traits:"
   ]
  },
  {
   "cell_type": "code",
   "execution_count": 9,
   "id": "9730a487-fd24-4783-8ad6-b009c54384fa",
   "metadata": {
    "editable": true,
    "slideshow": {
     "slide_type": ""
    },
    "tags": []
   },
   "outputs": [
    {
     "data": {
      "text/plain": [
       "\"I'm majoring in biology, so I'm really interested in exploring careers related to that field. I'm considering options like research, environmental science, or possibly healthcare. I'm still figuring it out, but I'm excited about the possibilities and want to find something that combines my love for science with making a positive impact.\""
      ]
     },
     "execution_count": 9,
     "metadata": {},
     "output_type": "execute_result"
    }
   ],
   "source": [
    "career_interests = results.select(\"career_interests\").to_list()[0] # there is only 1 answer\n",
    "career_interests"
   ]
  },
  {
   "cell_type": "code",
   "execution_count": 10,
   "id": "4f0e77e2-6390-42d7-a7b1-ea02b6cc1ef9",
   "metadata": {
    "editable": true,
    "slideshow": {
     "slide_type": ""
    },
    "tags": []
   },
   "outputs": [
    {
     "data": {
      "text/plain": [
       "'Undecided'"
      ]
     },
     "execution_count": 10,
     "metadata": {},
     "output_type": "execute_result"
    }
   ],
   "source": [
    "attend_grad_school = results.select(\"attend_grad_school\").to_list()[0]\n",
    "attend_grad_school"
   ]
  },
  {
   "cell_type": "code",
   "execution_count": 11,
   "id": "7605a222-c957-4ab0-8efd-4fda8bfec184",
   "metadata": {
    "editable": true,
    "slideshow": {
     "slide_type": ""
    },
    "tags": []
   },
   "outputs": [
    {
     "data": {
      "text/html": [
       "<p><a href='https://docs.expectedparrot.com/en/latest/agents.html'>Agent</a></p>\n",
       "            <div style=\"max-height: 500px; overflow-y: auto;\">\n",
       "                <style type=\"text/css\">\n",
       "#T_b8c45_row0_col0, #T_b8c45_row0_col1, #T_b8c45_row1_col0, #T_b8c45_row1_col1, #T_b8c45_row2_col0, #T_b8c45_row2_col1, #T_b8c45_row3_col0, #T_b8c45_row3_col1, #T_b8c45_row4_col0, #T_b8c45_row4_col1, #T_b8c45_row5_col0, #T_b8c45_row5_col1 {\n",
       "  text-align: left;\n",
       "}\n",
       "</style>\n",
       "<table id=\"T_b8c45\">\n",
       "  <thead>\n",
       "    <tr>\n",
       "      <th class=\"blank level0\" >&nbsp;</th>\n",
       "      <th id=\"T_b8c45_level0_col0\" class=\"col_heading level0 col0\" >key</th>\n",
       "      <th id=\"T_b8c45_level0_col1\" class=\"col_heading level0 col1\" >value</th>\n",
       "    </tr>\n",
       "  </thead>\n",
       "  <tbody>\n",
       "    <tr>\n",
       "      <th id=\"T_b8c45_level0_row0\" class=\"row_heading level0 row0\" >0</th>\n",
       "      <td id=\"T_b8c45_row0_col0\" class=\"data row0 col0\" >traits:persona</td>\n",
       "      <td id=\"T_b8c45_row0_col1\" class=\"data row0 col1\" >You are a sophomore at a community college in upstate New York.</td>\n",
       "    </tr>\n",
       "    <tr>\n",
       "      <th id=\"T_b8c45_level0_row1\" class=\"row_heading level0 row1\" >1</th>\n",
       "      <td id=\"T_b8c45_row1_col0\" class=\"data row1 col0\" >traits:year</td>\n",
       "      <td id=\"T_b8c45_row1_col1\" class=\"data row1 col1\" >sophomore</td>\n",
       "    </tr>\n",
       "    <tr>\n",
       "      <th id=\"T_b8c45_level0_row2\" class=\"row_heading level0 row2\" >2</th>\n",
       "      <td id=\"T_b8c45_row2_col0\" class=\"data row2 col0\" >traits:school</td>\n",
       "      <td id=\"T_b8c45_row2_col1\" class=\"data row2 col1\" >community college</td>\n",
       "    </tr>\n",
       "    <tr>\n",
       "      <th id=\"T_b8c45_level0_row3\" class=\"row_heading level0 row3\" >3</th>\n",
       "      <td id=\"T_b8c45_row3_col0\" class=\"data row3 col0\" >traits:major</td>\n",
       "      <td id=\"T_b8c45_row3_col1\" class=\"data row3 col1\" >biology</td>\n",
       "    </tr>\n",
       "    <tr>\n",
       "      <th id=\"T_b8c45_level0_row4\" class=\"row_heading level0 row4\" >4</th>\n",
       "      <td id=\"T_b8c45_row4_col0\" class=\"data row4 col0\" >traits:state</td>\n",
       "      <td id=\"T_b8c45_row4_col1\" class=\"data row4 col1\" >New York</td>\n",
       "    </tr>\n",
       "    <tr>\n",
       "      <th id=\"T_b8c45_level0_row5\" class=\"row_heading level0 row5\" >5</th>\n",
       "      <td id=\"T_b8c45_row5_col0\" class=\"data row5 col0\" >name</td>\n",
       "      <td id=\"T_b8c45_row5_col1\" class=\"data row5 col1\" >college student</td>\n",
       "    </tr>\n",
       "  </tbody>\n",
       "</table>\n",
       "\n",
       "            </div>\n",
       "            "
      ],
      "text/plain": [
       "Agent(name = \"\"\"college student\"\"\", traits = {'persona': 'You are a sophomore at a community college in upstate New York.', 'year': 'sophomore', 'school': 'community college', 'major': 'biology', 'state': 'New York'})"
      ]
     },
     "execution_count": 11,
     "metadata": {},
     "output_type": "execute_result"
    }
   ],
   "source": [
    "agent.add_trait({\n",
    "    \"career_interests\": career_interests,\n",
    "    \"attend_grad_school\": attend_grad_school\n",
    "})\n",
    "agent"
   ]
  },
  {
   "cell_type": "markdown",
   "id": "4ebeec8b-48c0-481e-821f-b6f2c532f419",
   "metadata": {
    "editable": true,
    "slideshow": {
     "slide_type": ""
    },
    "tags": []
   },
   "source": [
    "## Updating an agent list\n",
    "Here we update a list of agents all at once:"
   ]
  },
  {
   "cell_type": "code",
   "execution_count": 12,
   "id": "a9b68b16-d16c-40fd-b8bc-56c164477eed",
   "metadata": {
    "editable": true,
    "slideshow": {
     "slide_type": ""
    },
    "tags": []
   },
   "outputs": [],
   "source": [
    "from edsl import AgentList"
   ]
  },
  {
   "cell_type": "code",
   "execution_count": 13,
   "id": "f897bd3a-e074-471e-8dca-ff04a256e753",
   "metadata": {
    "editable": true,
    "slideshow": {
     "slide_type": ""
    },
    "tags": []
   },
   "outputs": [],
   "source": [
    "agents = AgentList(\n",
    "    Agent(traits = {\"persona\":p}) for p in [\"School principal\", \"Nurse\"] \n",
    ")"
   ]
  },
  {
   "cell_type": "code",
   "execution_count": 14,
   "id": "c363d4c3-33e4-48a3-9340-c37e975f6c85",
   "metadata": {
    "editable": true,
    "slideshow": {
     "slide_type": ""
    },
    "tags": []
   },
   "outputs": [],
   "source": [
    "q1 = QuestionFreeText(\n",
    "    question_name = \"ideal_vacation\",\n",
    "    question_text = \"Describe your ideal vacation.\"\n",
    ")\n",
    "\n",
    "q2 = QuestionMultipleChoice(\n",
    "    question_name = \"commute\",\n",
    "    question_text = \"How do you typically commute to work?\",\n",
    "    question_options = [\"Car\", \"Bus\", \"Train\", \"Bike\", \"Walk\", \"Other\"]\n",
    ")\n",
    "\n",
    "survey = Survey([q1, q2])"
   ]
  },
  {
   "cell_type": "code",
   "execution_count": 15,
   "id": "ce2cff35-1dfe-4bd8-829d-27cff44a7e49",
   "metadata": {
    "editable": true,
    "slideshow": {
     "slide_type": ""
    },
    "tags": []
   },
   "outputs": [
    {
     "data": {
      "text/html": [
       "\n",
       "            <!-- #region Remove Inference Info -->\n",
       "            <div id=\"logger-46f1adf6-eecd-4a88-953f-c4f7139f86d1\" class=\"job-logger\">\n",
       "                <div class=\"job-logger-header\">\n",
       "                    <span>\n",
       "                        <span id=\"arrow-46f1adf6-eecd-4a88-953f-c4f7139f86d1\">▼</span> \n",
       "                        Job Status (2024-12-28 13:55:35)\n",
       "                    </span>\n",
       "                </div>\n",
       "                <div id=\"content-46f1adf6-eecd-4a88-953f-c4f7139f86d1\" style=\"display: block;\">\n",
       "                    <table class=\"job-logger-table\">\n",
       "                        \n",
       "            <tr>\n",
       "                <td class=\"job-logger-cell job-logger-label\">Job UUID</td>\n",
       "                <td class=\"job-logger-cell job-logger-value\">ba4bbc9d-681d-4fd7-a6cb-5055db1874d4</td>\n",
       "            </tr>\n",
       "        \n",
       "            <tr>\n",
       "                <td class=\"job-logger-cell job-logger-label\">Progress Bar URL</td>\n",
       "                <td class=\"job-logger-cell job-logger-value\"><a href=\"https://www.expectedparrot.com/home/remote-job-progress/ba4bbc9d-681d-4fd7-a6cb-5055db1874d4\" target=\"_blank\" class=\"job-logger-link\">https://www.expectedparrot.com/home/remote-job-progress/ba4bbc9d-681d-4fd7-a6cb-5055db1874d4</a></td>\n",
       "            </tr>\n",
       "        \n",
       "            <tr>\n",
       "                <td class=\"job-logger-cell job-logger-label\">Error Report URL</td>\n",
       "                <td class=\"job-logger-cell job-logger-value\">None</td>\n",
       "            </tr>\n",
       "        \n",
       "            <tr>\n",
       "                <td class=\"job-logger-cell job-logger-label\">Results UUID</td>\n",
       "                <td class=\"job-logger-cell job-logger-value\">9c7579b3-0865-476a-8b42-87d97f072457</td>\n",
       "            </tr>\n",
       "        \n",
       "            <tr>\n",
       "                <td class=\"job-logger-cell job-logger-label\">Results URL</td>\n",
       "                <td class=\"job-logger-cell job-logger-value\">None</td>\n",
       "            </tr>\n",
       "        \n",
       "                    </table>\n",
       "                    \n",
       "                <div class=\"job-logger-status\">\n",
       "                    <span style=\"margin-right: 8px;\" class=\"job-logger-success\">✓</span><strong>Current Status:</strong> Job completed and Results stored on Coop: <a href=\"https://www.expectedparrot.com/content/9c7579b3-0865-476a-8b42-87d97f072457\" target=\"_blank\" class=\"job-logger-link\">https://www.expectedparrot.com/content/9c7579b3-0865-476a-8b42-87d97f072457</a>\n",
       "                </div>\n",
       "            \n",
       "                </div>\n",
       "            </div>\n",
       "            <!-- # endregion -->\n",
       "        "
      ],
      "text/plain": [
       "<IPython.core.display.HTML object>"
      ]
     },
     "metadata": {},
     "output_type": "display_data"
    },
    {
     "data": {
      "text/html": [
       "\n",
       "        <style>\n",
       "            /* Base theme variables */\n",
       "            :root {\n",
       "                --jl-bg-primary: #ffffff;\n",
       "                --jl-bg-secondary: #f5f5f5;\n",
       "                --jl-border-color: #e0e0e0;\n",
       "                --jl-text-primary: #24292e;\n",
       "                --jl-text-secondary: #586069;\n",
       "                --jl-link-color: #0366d6;\n",
       "                --jl-success-color: #28a745;\n",
       "                --jl-error-color: #d73a49;\n",
       "                --jl-header-bg: #f1f1f1;\n",
       "            }\n",
       "            \n",
       "            /* Dark theme variables */\n",
       "            .theme-dark {\n",
       "                --jl-bg-primary: #1e1e1e;\n",
       "                --jl-bg-secondary: #252526;\n",
       "                --jl-border-color: #2d2d2d;\n",
       "                --jl-text-primary: #cccccc;\n",
       "                --jl-text-secondary: #999999;\n",
       "                --jl-link-color: #4e94ce;\n",
       "                --jl-success-color: #89d185;\n",
       "                --jl-error-color: #f14c4c;\n",
       "                --jl-header-bg: #333333;\n",
       "            }\n",
       "\n",
       "            /* High contrast theme variables */\n",
       "            .theme-high-contrast {\n",
       "                --jl-bg-primary: #000000;\n",
       "                --jl-bg-secondary: #1a1a1a;\n",
       "                --jl-border-color: #404040;\n",
       "                --jl-text-primary: #ffffff;\n",
       "                --jl-text-secondary: #cccccc;\n",
       "                --jl-link-color: #66b3ff;\n",
       "                --jl-success-color: #00ff00;\n",
       "                --jl-error-color: #ff0000;\n",
       "                --jl-header-bg: #262626;\n",
       "            }\n",
       "            \n",
       "            .job-logger {\n",
       "                font-family: system-ui, -apple-system, sans-serif;\n",
       "                max-width: 800px;\n",
       "                margin: 10px 0;\n",
       "                color: var(--jl-text-primary);\n",
       "                box-shadow: 0 1px 3px rgba(0,0,0,0.12);\n",
       "                border-radius: 4px;\n",
       "                overflow: hidden;\n",
       "            }\n",
       "            \n",
       "            .job-logger-header {\n",
       "                padding: 12px 16px;\n",
       "                background: var(--jl-header-bg);\n",
       "                border: none;\n",
       "                border-radius: 4px 4px 0 0;\n",
       "                cursor: pointer;\n",
       "                color: var(--jl-text-primary);\n",
       "                user-select: none;\n",
       "                font-weight: 500;\n",
       "                letter-spacing: 0.3px;\n",
       "                display: flex;\n",
       "                justify-content: space-between;\n",
       "                align-items: center;\n",
       "            }\n",
       "            \n",
       "            .theme-select {\n",
       "                padding: 4px 8px;\n",
       "                border-radius: 4px;\n",
       "                border: 1px solid var(--jl-border-color);\n",
       "                background: var(--jl-bg-primary);\n",
       "                color: var(--jl-text-primary);\n",
       "                font-size: 0.9em;\n",
       "            }\n",
       "            \n",
       "            .job-logger-table {\n",
       "                width: 100%;\n",
       "                border-collapse: separate;\n",
       "                border-spacing: 0;\n",
       "                background: var(--jl-bg-primary);\n",
       "                border: 1px solid var(--jl-border-color);\n",
       "                margin-top: -1px;\n",
       "            }\n",
       "            \n",
       "            .job-logger-cell {\n",
       "                padding: 12px 16px;\n",
       "                border-bottom: 1px solid var(--jl-border-color);\n",
       "                line-height: 1.4;\n",
       "            }\n",
       "            \n",
       "            .job-logger-label {\n",
       "                font-weight: 500;\n",
       "                color: var(--jl-text-primary);\n",
       "                width: 25%;\n",
       "                background: var(--jl-bg-secondary);\n",
       "            }\n",
       "            \n",
       "            .job-logger-value {\n",
       "                color: var(--jl-text-secondary);\n",
       "                word-break: break-word;\n",
       "            }\n",
       "            \n",
       "            .job-logger-status {\n",
       "                margin: 0;\n",
       "                padding: 12px 16px;\n",
       "                background-color: var(--jl-bg-secondary);\n",
       "                border: 1px solid var(--jl-border-color);\n",
       "                border-top: none;\n",
       "                border-radius: 0 0 4px 4px;\n",
       "                color: var(--jl-text-primary);\n",
       "                font-size: 0.95em;\n",
       "            }\n",
       "        </style>\n",
       "        \n",
       "        <script>\n",
       "            class ThemeManager {\n",
       "                constructor(logId, initialTheme = 'auto') {\n",
       "                    this.logId = logId;\n",
       "                    this.currentTheme = initialTheme;\n",
       "                    this.darkModeMediaQuery = window.matchMedia('(prefers-color-scheme: dark)');\n",
       "                    this.init();\n",
       "                }\n",
       "                \n",
       "                init() {\n",
       "                    this.setupThemeSwitcher();\n",
       "                    this.updateTheme(this.currentTheme);\n",
       "                    \n",
       "                    this.darkModeMediaQuery.addListener(() => {\n",
       "                        if (this.currentTheme === 'auto') {\n",
       "                            this.updateTheme('auto');\n",
       "                        }\n",
       "                    });\n",
       "                }\n",
       "                \n",
       "                setupThemeSwitcher() {\n",
       "                    const logger = document.querySelector(`#logger-${this.logId}`);\n",
       "                    if (!logger) return;\n",
       "                    \n",
       "                    const switcher = document.createElement('div');\n",
       "                    switcher.className = 'theme-switcher';\n",
       "                    switcher.innerHTML = `\n",
       "                        <select id=\"theme-select-${this.logId}\" class=\"theme-select\">\n",
       "                            <option value=\"auto\">Auto</option>\n",
       "                            <option value=\"light\">Light</option>\n",
       "                            <option value=\"dark\">Dark</option>\n",
       "                            <option value=\"high-contrast\">High Contrast</option>\n",
       "                        </select>\n",
       "                    `;\n",
       "                    \n",
       "                    const header = logger.querySelector('.job-logger-header');\n",
       "                    header.appendChild(switcher);\n",
       "                    \n",
       "                    const select = switcher.querySelector('select');\n",
       "                    select.value = this.currentTheme;\n",
       "                    select.addEventListener('change', (e) => {\n",
       "                        this.updateTheme(e.target.value);\n",
       "                    });\n",
       "                }\n",
       "                \n",
       "                updateTheme(theme) {\n",
       "                    const logger = document.querySelector(`#logger-${this.logId}`);\n",
       "                    if (!logger) return;\n",
       "                    \n",
       "                    this.currentTheme = theme;\n",
       "                    \n",
       "                    logger.classList.remove('theme-light', 'theme-dark', 'theme-high-contrast');\n",
       "                    \n",
       "                    if (theme === 'auto') {\n",
       "                        const isDark = this.darkModeMediaQuery.matches;\n",
       "                        logger.classList.add(isDark ? 'theme-dark' : 'theme-light');\n",
       "                    } else {\n",
       "                        logger.classList.add(`theme-${theme}`);\n",
       "                    }\n",
       "                    \n",
       "                    try {\n",
       "                        localStorage.setItem('jobLoggerTheme', theme);\n",
       "                    } catch (e) {\n",
       "                        console.warn('Unable to save theme preference:', e);\n",
       "                    }\n",
       "                }\n",
       "            }\n",
       "            \n",
       "            window.initThemeManager = (logId, initialTheme) => {\n",
       "                new ThemeManager(logId, initialTheme);\n",
       "            };\n",
       "        </script>\n",
       "        \n",
       "        <script>\n",
       "            document.addEventListener('DOMContentLoaded', () => {\n",
       "                window.initThemeManager('46f1adf6-eecd-4a88-953f-c4f7139f86d1', 'auto');\n",
       "            });\n",
       "        </script>\n",
       "        "
      ],
      "text/plain": [
       "<IPython.core.display.HTML object>"
      ]
     },
     "metadata": {},
     "output_type": "display_data"
    }
   ],
   "source": [
    "results = survey.by(agents).run()"
   ]
  },
  {
   "cell_type": "code",
   "execution_count": 16,
   "id": "fb063783-425e-457f-bf5f-66a728624527",
   "metadata": {
    "editable": true,
    "slideshow": {
     "slide_type": ""
    },
    "tags": []
   },
   "outputs": [
    {
     "data": {
      "text/html": [
       "\n",
       "            <div style=\"max-height: 500px; overflow-y: auto;\">\n",
       "                <style type=\"text/css\">\n",
       "#T_295aa_row0_col0, #T_295aa_row0_col1, #T_295aa_row0_col2, #T_295aa_row1_col0, #T_295aa_row1_col1, #T_295aa_row1_col2 {\n",
       "  text-align: left;\n",
       "}\n",
       "</style>\n",
       "<table id=\"T_295aa\">\n",
       "  <thead>\n",
       "    <tr>\n",
       "      <th class=\"blank level0\" >&nbsp;</th>\n",
       "      <th id=\"T_295aa_level0_col0\" class=\"col_heading level0 col0\" >agent.persona</th>\n",
       "      <th id=\"T_295aa_level0_col1\" class=\"col_heading level0 col1\" >answer.ideal_vacation</th>\n",
       "      <th id=\"T_295aa_level0_col2\" class=\"col_heading level0 col2\" >answer.commute</th>\n",
       "    </tr>\n",
       "  </thead>\n",
       "  <tbody>\n",
       "    <tr>\n",
       "      <th id=\"T_295aa_level0_row0\" class=\"row_heading level0 row0\" >0</th>\n",
       "      <td id=\"T_295aa_row0_col0\" class=\"data row0 col0\" >School principal</td>\n",
       "      <td id=\"T_295aa_row0_col1\" class=\"data row0 col1\" >As a school principal, my ideal vacation would be a perfect blend of relaxation and inspiration. I would love to visit a serene location, perhaps a quiet coastal town or a picturesque mountain retreat, where I can unwind and recharge. Mornings would be spent enjoying a good book with a cup of coffee, while afternoons could involve exploring local culture or nature trails. I'd also appreciate the opportunity to visit educational landmarks or museums to gather new ideas and perspectives that I can bring back to the school. Ultimately, it would be a balance of rest, reflection, and learning.</td>\n",
       "      <td id=\"T_295aa_row0_col2\" class=\"data row0 col2\" >Car</td>\n",
       "    </tr>\n",
       "    <tr>\n",
       "      <th id=\"T_295aa_level0_row1\" class=\"row_heading level0 row1\" >1</th>\n",
       "      <td id=\"T_295aa_row1_col0\" class=\"data row1 col0\" >Nurse</td>\n",
       "      <td id=\"T_295aa_row1_col1\" class=\"data row1 col1\" >As a nurse, my ideal vacation would be a place where I can completely unwind and recharge. I imagine a serene beach destination with soft sand and gentle waves. I'd love to have a cozy beachside bungalow where I can relax with a good book. It would be great to have access to a spa for some much-needed pampering and perhaps a yoga class by the ocean to help de-stress. I also enjoy trying new cuisines, so exploring local restaurants would be a must. Most importantly, it would be a place where I can disconnect from the hustle and bustle and focus on self-care and rejuvenation.</td>\n",
       "      <td id=\"T_295aa_row1_col2\" class=\"data row1 col2\" >Car</td>\n",
       "    </tr>\n",
       "  </tbody>\n",
       "</table>\n",
       "\n",
       "            </div>\n",
       "            "
      ],
      "text/plain": [
       "Dataset([{'agent.persona': ['School principal', 'Nurse']}, {'answer.ideal_vacation': [\"As a school principal, my ideal vacation would be a perfect blend of relaxation and inspiration. I would love to visit a serene location, perhaps a quiet coastal town or a picturesque mountain retreat, where I can unwind and recharge. Mornings would be spent enjoying a good book with a cup of coffee, while afternoons could involve exploring local culture or nature trails. I'd also appreciate the opportunity to visit educational landmarks or museums to gather new ideas and perspectives that I can bring back to the school. Ultimately, it would be a balance of rest, reflection, and learning.\", \"As a nurse, my ideal vacation would be a place where I can completely unwind and recharge. I imagine a serene beach destination with soft sand and gentle waves. I'd love to have a cozy beachside bungalow where I can relax with a good book. It would be great to have access to a spa for some much-needed pampering and perhaps a yoga class by the ocean to help de-stress. I also enjoy trying new cuisines, so exploring local restaurants would be a must. Most importantly, it would be a place where I can disconnect from the hustle and bustle and focus on self-care and rejuvenation.\"]}, {'answer.commute': ['Car', 'Car']}])"
      ]
     },
     "execution_count": 16,
     "metadata": {},
     "output_type": "execute_result"
    }
   ],
   "source": [
    "results.select(\"persona\", \"ideal_vacation\", \"commute\")"
   ]
  },
  {
   "cell_type": "code",
   "execution_count": 17,
   "id": "7cf7dfee-add6-4e0d-8963-878de15d94e8",
   "metadata": {
    "editable": true,
    "slideshow": {
     "slide_type": ""
    },
    "tags": []
   },
   "outputs": [],
   "source": [
    "new_agents = results.select(\"persona\", \"ideal_vacation\", \"commute\").to_agent_list()"
   ]
  },
  {
   "cell_type": "code",
   "execution_count": 18,
   "id": "9849b253-2219-4eaa-9b3b-e359e4fd694b",
   "metadata": {
    "editable": true,
    "slideshow": {
     "slide_type": ""
    },
    "tags": []
   },
   "outputs": [
    {
     "data": {
      "text/plain": [
       "edsl.agents.AgentList.AgentList"
      ]
     },
     "execution_count": 18,
     "metadata": {},
     "output_type": "execute_result"
    }
   ],
   "source": [
    "type(new_agents)"
   ]
  },
  {
   "cell_type": "code",
   "execution_count": 19,
   "id": "c2dcea59-6dd9-4925-a312-ec05144e6785",
   "metadata": {
    "editable": true,
    "slideshow": {
     "slide_type": ""
    },
    "tags": []
   },
   "outputs": [
    {
     "data": {
      "text/html": [
       "<p><a href='https://docs.expectedparrot.com/en/latest/agents.html#agentlist-class'>AgentList</a> agents: 2;</p>\n",
       "            <div style=\"max-height: 500px; overflow-y: auto;\">\n",
       "                <style type=\"text/css\">\n",
       "#T_4cc6f_row0_col0, #T_4cc6f_row0_col1, #T_4cc6f_row0_col2, #T_4cc6f_row1_col0, #T_4cc6f_row1_col1, #T_4cc6f_row1_col2 {\n",
       "  text-align: left;\n",
       "}\n",
       "</style>\n",
       "<table id=\"T_4cc6f\">\n",
       "  <thead>\n",
       "    <tr>\n",
       "      <th class=\"blank level0\" >&nbsp;</th>\n",
       "      <th id=\"T_4cc6f_level0_col0\" class=\"col_heading level0 col0\" >persona</th>\n",
       "      <th id=\"T_4cc6f_level0_col1\" class=\"col_heading level0 col1\" >ideal_vacation</th>\n",
       "      <th id=\"T_4cc6f_level0_col2\" class=\"col_heading level0 col2\" >commute</th>\n",
       "    </tr>\n",
       "  </thead>\n",
       "  <tbody>\n",
       "    <tr>\n",
       "      <th id=\"T_4cc6f_level0_row0\" class=\"row_heading level0 row0\" >0</th>\n",
       "      <td id=\"T_4cc6f_row0_col0\" class=\"data row0 col0\" >School principal</td>\n",
       "      <td id=\"T_4cc6f_row0_col1\" class=\"data row0 col1\" >As a school principal, my ideal vacation would be a perfect blend of relaxation and inspiration. I would love to visit a serene location, perhaps a quiet coastal town or a picturesque mountain retreat, where I can unwind and recharge. Mornings would be spent enjoying a good book with a cup of coffee, while afternoons could involve exploring local culture or nature trails. I'd also appreciate the opportunity to visit educational landmarks or museums to gather new ideas and perspectives that I can bring back to the school. Ultimately, it would be a balance of rest, reflection, and learning.</td>\n",
       "      <td id=\"T_4cc6f_row0_col2\" class=\"data row0 col2\" >Car</td>\n",
       "    </tr>\n",
       "    <tr>\n",
       "      <th id=\"T_4cc6f_level0_row1\" class=\"row_heading level0 row1\" >1</th>\n",
       "      <td id=\"T_4cc6f_row1_col0\" class=\"data row1 col0\" >Nurse</td>\n",
       "      <td id=\"T_4cc6f_row1_col1\" class=\"data row1 col1\" >As a nurse, my ideal vacation would be a place where I can completely unwind and recharge. I imagine a serene beach destination with soft sand and gentle waves. I'd love to have a cozy beachside bungalow where I can relax with a good book. It would be great to have access to a spa for some much-needed pampering and perhaps a yoga class by the ocean to help de-stress. I also enjoy trying new cuisines, so exploring local restaurants would be a must. Most importantly, it would be a place where I can disconnect from the hustle and bustle and focus on self-care and rejuvenation.</td>\n",
       "      <td id=\"T_4cc6f_row1_col2\" class=\"data row1 col2\" >Car</td>\n",
       "    </tr>\n",
       "  </tbody>\n",
       "</table>\n",
       "\n",
       "            </div>\n",
       "            "
      ],
      "text/plain": [
       "AgentList([Agent(traits = {'persona': 'School principal', 'ideal_vacation': \"As a school principal, my ideal vacation would be a perfect blend of relaxation and inspiration. I would love to visit a serene location, perhaps a quiet coastal town or a picturesque mountain retreat, where I can unwind and recharge. Mornings would be spent enjoying a good book with a cup of coffee, while afternoons could involve exploring local culture or nature trails. I'd also appreciate the opportunity to visit educational landmarks or museums to gather new ideas and perspectives that I can bring back to the school. Ultimately, it would be a balance of rest, reflection, and learning.\", 'commute': 'Car'}), Agent(traits = {'persona': 'Nurse', 'ideal_vacation': \"As a nurse, my ideal vacation would be a place where I can completely unwind and recharge. I imagine a serene beach destination with soft sand and gentle waves. I'd love to have a cozy beachside bungalow where I can relax with a good book. It would be great to have access to a spa for some much-needed pampering and perhaps a yoga class by the ocean to help de-stress. I also enjoy trying new cuisines, so exploring local restaurants would be a must. Most importantly, it would be a place where I can disconnect from the hustle and bustle and focus on self-care and rejuvenation.\", 'commute': 'Car'})])"
      ]
     },
     "execution_count": 19,
     "metadata": {},
     "output_type": "execute_result"
    }
   ],
   "source": [
    "new_agents"
   ]
  },
  {
   "cell_type": "markdown",
   "id": "878e8b3e-74f5-4be8-a820-5e0bc7b01d23",
   "metadata": {
    "editable": true,
    "slideshow": {
     "slide_type": ""
    },
    "tags": []
   },
   "source": [
    "## Posting to the Coop"
   ]
  },
  {
   "cell_type": "code",
   "execution_count": 20,
   "id": "de34b035-9639-4ca2-b706-6e3751de4446",
   "metadata": {
    "editable": true,
    "slideshow": {
     "slide_type": ""
    },
    "tags": [
     "skip-execution"
    ]
   },
   "outputs": [],
   "source": [
    "from edsl import Notebook"
   ]
  },
  {
   "cell_type": "code",
   "execution_count": 21,
   "id": "b3fc1b81-8da0-41fb-b648-b66023cd95fa",
   "metadata": {
    "editable": true,
    "slideshow": {
     "slide_type": ""
    },
    "tags": [
     "skip-execution"
    ]
   },
   "outputs": [],
   "source": [
    "n = Notebook(path = \"updating_agents.ipynb\")"
   ]
  },
  {
   "cell_type": "code",
   "execution_count": 22,
   "id": "81f82829-4ed9-42ee-b446-841e91eab012",
   "metadata": {
    "editable": true,
    "slideshow": {
     "slide_type": ""
    },
    "tags": [
     "skip-execution"
    ]
   },
   "outputs": [
    {
     "data": {
      "text/plain": [
       "{'description': 'Updating agent traits with new answers',\n",
       " 'object_type': 'notebook',\n",
       " 'url': 'https://www.expectedparrot.com/content/bff4a18d-ac66-428f-9983-fad79d2e590f',\n",
       " 'uuid': 'bff4a18d-ac66-428f-9983-fad79d2e590f',\n",
       " 'version': '0.1.39.dev2',\n",
       " 'visibility': 'public'}"
      ]
     },
     "execution_count": 22,
     "metadata": {},
     "output_type": "execute_result"
    }
   ],
   "source": [
    "info = n.push(description = \"Updating agent traits with new answers\", visibility = \"public\")\n",
    "info"
   ]
  },
  {
   "cell_type": "markdown",
   "id": "4cb2bebd-19cb-4ab7-bd52-8ae2ac3328e8",
   "metadata": {
    "editable": true,
    "slideshow": {
     "slide_type": ""
    },
    "tags": []
   },
   "source": [
    "Updating an object at Coop:"
   ]
  },
  {
   "cell_type": "code",
   "execution_count": 23,
   "id": "a6551715-f53e-4e93-9a3d-cb6d50e3cf43",
   "metadata": {
    "editable": true,
    "slideshow": {
     "slide_type": ""
    },
    "tags": [
     "skip-execution"
    ]
   },
   "outputs": [],
   "source": [
    "n = Notebook(path = \"updating_agents.ipynb\") # resave"
   ]
  },
  {
   "cell_type": "code",
   "execution_count": 24,
   "id": "ef8a2c52-1fd9-4f5b-bb4d-e683076f1605",
   "metadata": {
    "editable": true,
    "slideshow": {
     "slide_type": ""
    },
    "tags": [
     "skip-execution"
    ]
   },
   "outputs": [
    {
     "data": {
      "text/plain": [
       "{'status': 'success'}"
      ]
     },
     "execution_count": 24,
     "metadata": {},
     "output_type": "execute_result"
    }
   ],
   "source": [
    "n.patch(uuid = info[\"uuid\"], value = n)"
   ]
  }
 ],
 "metadata": {
  "kernelspec": {
   "display_name": "Python 3 (ipykernel)",
   "language": "python",
   "name": "python3"
  },
  "language_info": {
   "codemirror_mode": {
    "name": "ipython",
    "version": 3
   },
   "file_extension": ".py",
   "mimetype": "text/x-python",
   "name": "python",
   "nbconvert_exporter": "python",
   "pygments_lexer": "ipython3",
   "version": "3.11.7"
  }
 },
 "nbformat": 4,
 "nbformat_minor": 5
}
