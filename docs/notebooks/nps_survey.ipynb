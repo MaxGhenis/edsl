{
 "cells": [
  {
   "cell_type": "markdown",
   "id": "1438e73c-0fff-4437-9d6a-97629366516e",
   "metadata": {
    "editable": true,
    "slideshow": {
     "slide_type": ""
    },
    "tags": []
   },
   "source": [
    "# NPS survey in EDSL\n",
    "This notebook provides sample [EDSL](https://github.com/expectedparrot/edsl) code for simulating a Net Promoter Score (NPS) survey with AI agents and large language models.\n",
    "In the steps below we show how to construct an EDSL survey, create personas for AI agents to answer the questions, and then administer the survey to them. \n",
    "We also demonstrate some built-in [methods for inspecting and analyzing the dataset of results](https://docs.expectedparrot.com/en/latest/results.html) that is generated when an EDSL survey is run.\n",
    "\n",
    "The following questions are used in the sample survey:\n",
    "\n",
    "***On a scale from 0-10, how likely are you to recommend our company to a friend or colleague?*** <br>\n",
    "*(0=Not at all likely, 10=Very likely)* <br>\n",
    "*Please tell us why you gave a rating.*\n",
    "\n",
    "***How satisfied are you with the following experience with our company?*** <br>\n",
    "*Product quality* <br>\n",
    "*Customer support* <br>\n",
    "*Purchasing experience* <br>\n",
    "\n",
    "***Is there anything specific that our company can do to improve your experience?***\n",
    "\n",
    "## Technical setup\n",
    "Before running the code below, ensure that you have (1) [installed the EDSL library](https://docs.expectedparrot.com/en/latest/installation.html) and (2) created a [Coop account](https://docs.expectedparrot.com/en/latest/coop.html) to activate [remote inference](https://docs.expectedparrot.com/en/latest/remote_inference.html) or stored your own [API keys for language models](https://docs.expectedparrot.com/en/latest/api_keys.html) that you want to use with EDSL. Please also see our [tutorials and documentation page](https://docs.expectedparrot.com/en/latest/index.html) on getting started using the EDSL library."
   ]
  },
  {
   "cell_type": "markdown",
   "id": "ea750f2a-e968-4835-8d4e-3c0c936c8e83",
   "metadata": {
    "editable": true,
    "slideshow": {
     "slide_type": ""
    },
    "tags": []
   },
   "source": [
    "## Constructing questions\n",
    "We start by selecting appropriate question types for the above questions. [EDSL comes with a variety of common question types](https://docs.expectedparrot.com/en/latest/questions.html) that we can choose from based on the form of the response that we want to get back from the model. The first quesiton is linear scale; we import the class type and then construct a question in the relevant template:"
   ]
  },
  {
   "cell_type": "code",
   "execution_count": 1,
   "id": "a07a6196-7db4-4fcc-bec2-4707ad63b5a7",
   "metadata": {
    "editable": true,
    "slideshow": {
     "slide_type": ""
    },
    "tags": []
   },
   "outputs": [],
   "source": [
    "from edsl import QuestionLinearScale"
   ]
  },
  {
   "cell_type": "code",
   "execution_count": 2,
   "id": "f2440e38-4c62-47eb-ac8a-0570c684fdb0",
   "metadata": {
    "editable": true,
    "slideshow": {
     "slide_type": ""
    },
    "tags": []
   },
   "outputs": [],
   "source": [
    "q_recommend = QuestionLinearScale(\n",
    "    question_name = \"recommend\",\n",
    "    question_text = \"On a scale from 0-10, how likely are you to recommend our company to a friend or colleague?\",\n",
    "    question_options = [0, 1, 2, 3, 4, 5, 6, 7, 8, 9, 10],\n",
    "    option_labels = {0:\"Not at all likely\", 10:\"Very likely\"}\n",
    ")"
   ]
  },
  {
   "cell_type": "markdown",
   "id": "ba83db0c-b745-4490-8f52-51a35cd9facb",
   "metadata": {
    "editable": true,
    "slideshow": {
     "slide_type": ""
    },
    "tags": []
   },
   "source": [
    "Each question type other than free text automatically includes a \"comment\" field for the model to provide commentary on its response to the main question. When we run the survey, we can check that it has effectively captured the follow-on question from above--*Please tell us why you gave a rating*--and modify or add questions as needed.\n",
    "\n",
    "For the next question, we use a `{{ placeholder }}` for an \"experience\" that we will insert when repeating the base question:"
   ]
  },
  {
   "cell_type": "code",
   "execution_count": 3,
   "id": "e1a00011-0edb-46d9-ab80-aa2b4b980830",
   "metadata": {
    "editable": true,
    "slideshow": {
     "slide_type": ""
    },
    "tags": []
   },
   "outputs": [],
   "source": [
    "from edsl import QuestionMultipleChoice"
   ]
  },
  {
   "cell_type": "code",
   "execution_count": 4,
   "id": "4db814cc-8b3e-464a-8708-6eb562e4f473",
   "metadata": {
    "editable": true,
    "slideshow": {
     "slide_type": ""
    },
    "tags": []
   },
   "outputs": [],
   "source": [
    "q_satisfied = QuestionMultipleChoice(\n",
    "    question_name = \"satisfied\",\n",
    "    question_text = \"How satisfied are you with the following experience with our company: {{ experience }}\",\n",
    "    question_options = [\n",
    "        \"Extremely satisfied\",\n",
    "        \"Moderately satisfied\",\n",
    "        \"Neither satisfied nor dissatisfied\",\n",
    "        \"Moderately dissatisfied\",\n",
    "        \"Extremely dissatisfied\"\n",
    "    ]\n",
    ")"
   ]
  },
  {
   "cell_type": "markdown",
   "id": "d6f90a40-c4ac-49bc-8883-ecab1387eb4a",
   "metadata": {
    "editable": true,
    "slideshow": {
     "slide_type": ""
    },
    "tags": []
   },
   "source": [
    "The third question is a simple free text question that we can choose whether to administer once or individually for each \"experience\" question. In the steps that follow we show how to apply survey logic to achieve this effect:"
   ]
  },
  {
   "cell_type": "code",
   "execution_count": 5,
   "id": "b1880b4f-0234-42fd-a569-0af0024afe76",
   "metadata": {
    "editable": true,
    "slideshow": {
     "slide_type": ""
    },
    "tags": []
   },
   "outputs": [],
   "source": [
    "from edsl import QuestionFreeText"
   ]
  },
  {
   "cell_type": "code",
   "execution_count": 6,
   "id": "944d6f72-8591-4f6f-91de-d53d8c3de777",
   "metadata": {
    "editable": true,
    "slideshow": {
     "slide_type": ""
    },
    "tags": []
   },
   "outputs": [],
   "source": [
    "q_improve = QuestionFreeText(\n",
    "    question_name = \"improve\",\n",
    "    question_text = \"Is there anything specific that our company can do to improve your experience?\"\n",
    ")"
   ]
  },
  {
   "cell_type": "markdown",
   "id": "07b6d574-899f-497e-b68f-ce3c638bbf05",
   "metadata": {
    "editable": true,
    "slideshow": {
     "slide_type": ""
    },
    "tags": []
   },
   "source": [
    "## Creating variants of questions with scenarios\n",
    "Next we want to create a version of the \"satisfied\" question for each \"experience\". This can be done with `Scenario` objects--dictionaries of key/value pairs representing the content to be added to questions. Scenarios can be automatically generated from a variety of data sources (PDFs, CSVs, images, tables, etc.). Here we have import a simple list:"
   ]
  },
  {
   "cell_type": "code",
   "execution_count": 7,
   "id": "7b4e439f-a8d1-433c-a88b-50e56812c767",
   "metadata": {
    "editable": true,
    "slideshow": {
     "slide_type": ""
    },
    "tags": []
   },
   "outputs": [],
   "source": [
    "from edsl import ScenarioList, Scenario"
   ]
  },
  {
   "cell_type": "code",
   "execution_count": 8,
   "id": "4e9993b5-f04f-4c11-b2ac-61fb80a19633",
   "metadata": {
    "editable": true,
    "slideshow": {
     "slide_type": ""
    },
    "tags": []
   },
   "outputs": [],
   "source": [
    "experiences = [\"Product quality\", \"Customer support\", \"Purchasing experience\"]\n",
    "\n",
    "s = ScenarioList(\n",
    "    Scenario({\"experience\":e}) for e in experiences\n",
    ")"
   ]
  },
  {
   "cell_type": "markdown",
   "id": "2a2f7d01-d1c4-4759-8e95-58f48be866ca",
   "metadata": {
    "editable": true,
    "slideshow": {
     "slide_type": ""
    },
    "tags": []
   },
   "source": [
    "We could also use a specific method for creating scenarios from a list:"
   ]
  },
  {
   "cell_type": "code",
   "execution_count": 9,
   "id": "826ced15-27a5-48e6-bd58-4cc5c5557622",
   "metadata": {
    "editable": true,
    "slideshow": {
     "slide_type": ""
    },
    "tags": []
   },
   "outputs": [],
   "source": [
    "s = ScenarioList.from_list(\"experience\", experiences)"
   ]
  },
  {
   "cell_type": "markdown",
   "id": "13712e1d-fa38-4e57-9e90-79d82302c671",
   "metadata": {
    "editable": true,
    "slideshow": {
     "slide_type": ""
    },
    "tags": []
   },
   "source": [
    "We can check the scenarios that have been created:"
   ]
  },
  {
   "cell_type": "code",
   "execution_count": 10,
   "id": "96d4246e-ff51-42b9-a1e6-138683d115be",
   "metadata": {
    "editable": true,
    "slideshow": {
     "slide_type": ""
    },
    "tags": []
   },
   "outputs": [
    {
     "data": {
      "text/html": [
       "<p><a href='https://docs.expectedparrot.com/en/latest/scenarios.html#scenariolist'>ScenarioList</a> scenarios: 3; keys: ['experience'];</p>\n",
       "            <div style=\"max-height: 500px; overflow-y: auto;\">\n",
       "                <style type=\"text/css\">\n",
       "#T_7141d_row0_col0, #T_7141d_row1_col0, #T_7141d_row2_col0 {\n",
       "  text-align: left;\n",
       "}\n",
       "</style>\n",
       "<table id=\"T_7141d\">\n",
       "  <thead>\n",
       "    <tr>\n",
       "      <th class=\"blank level0\" >&nbsp;</th>\n",
       "      <th id=\"T_7141d_level0_col0\" class=\"col_heading level0 col0\" >experience</th>\n",
       "    </tr>\n",
       "  </thead>\n",
       "  <tbody>\n",
       "    <tr>\n",
       "      <th id=\"T_7141d_level0_row0\" class=\"row_heading level0 row0\" >0</th>\n",
       "      <td id=\"T_7141d_row0_col0\" class=\"data row0 col0\" >Product quality</td>\n",
       "    </tr>\n",
       "    <tr>\n",
       "      <th id=\"T_7141d_level0_row1\" class=\"row_heading level0 row1\" >1</th>\n",
       "      <td id=\"T_7141d_row1_col0\" class=\"data row1 col0\" >Customer support</td>\n",
       "    </tr>\n",
       "    <tr>\n",
       "      <th id=\"T_7141d_level0_row2\" class=\"row_heading level0 row2\" >2</th>\n",
       "      <td id=\"T_7141d_row2_col0\" class=\"data row2 col0\" >Purchasing experience</td>\n",
       "    </tr>\n",
       "  </tbody>\n",
       "</table>\n",
       "\n",
       "            </div>\n",
       "            "
      ],
      "text/plain": [
       "ScenarioList([Scenario({'experience': 'Product quality'}), Scenario({'experience': 'Customer support'}), Scenario({'experience': 'Purchasing experience'})])"
      ]
     },
     "execution_count": 10,
     "metadata": {},
     "output_type": "execute_result"
    }
   ],
   "source": [
    "s"
   ]
  },
  {
   "cell_type": "markdown",
   "id": "e88affac-b8be-480e-805c-fd2f5af903c3",
   "metadata": {
    "editable": true,
    "slideshow": {
     "slide_type": ""
    },
    "tags": []
   },
   "source": [
    "To create the question variants, we pass the scenario list to the question `loop()` method, which returns a list of new questions.\n",
    "We can see that each question has a new unique name and a question text with the placeholder replaced with an experience:"
   ]
  },
  {
   "cell_type": "code",
   "execution_count": 11,
   "id": "1bd9ea3d-e0fd-4b1a-9fb0-86a0c5bebbbe",
   "metadata": {
    "editable": true,
    "slideshow": {
     "slide_type": ""
    },
    "tags": []
   },
   "outputs": [
    {
     "data": {
      "text/plain": [
       "[Question('multiple_choice', question_name = \"\"\"satisfied_0\"\"\", question_text = \"\"\"How satisfied are you with the following experience with our company: Product quality\"\"\", question_options = ['Extremely satisfied', 'Moderately satisfied', 'Neither satisfied nor dissatisfied', 'Moderately dissatisfied', 'Extremely dissatisfied']),\n",
       " Question('multiple_choice', question_name = \"\"\"satisfied_1\"\"\", question_text = \"\"\"How satisfied are you with the following experience with our company: Customer support\"\"\", question_options = ['Extremely satisfied', 'Moderately satisfied', 'Neither satisfied nor dissatisfied', 'Moderately dissatisfied', 'Extremely dissatisfied']),\n",
       " Question('multiple_choice', question_name = \"\"\"satisfied_2\"\"\", question_text = \"\"\"How satisfied are you with the following experience with our company: Purchasing experience\"\"\", question_options = ['Extremely satisfied', 'Moderately satisfied', 'Neither satisfied nor dissatisfied', 'Moderately dissatisfied', 'Extremely dissatisfied'])]"
      ]
     },
     "execution_count": 11,
     "metadata": {},
     "output_type": "execute_result"
    }
   ],
   "source": [
    "satisfied_questions = q_satisfied.loop(s)\n",
    "satisfied_questions"
   ]
  },
  {
   "cell_type": "markdown",
   "id": "d7a273eb-21b7-4d03-afea-823a702880da",
   "metadata": {
    "editable": true,
    "slideshow": {
     "slide_type": ""
    },
    "tags": []
   },
   "source": [
    "We can also use the `loop()` method to create copies of the \"improve\" question in order to present it as a follow-up question to each of the \"satisfied\" questions that have been parameterized with experiences. Here, we're simply duplicating the base question without a scenario `{{ placeholder }}` because we will instead add a \"memory\" of the relevant \"satisfied\" question when administering each copy of it:"
   ]
  },
  {
   "cell_type": "code",
   "execution_count": 12,
   "id": "5711bd9d-8fc1-4b01-8a3a-f7e5e86a020f",
   "metadata": {
    "editable": true,
    "slideshow": {
     "slide_type": ""
    },
    "tags": []
   },
   "outputs": [
    {
     "data": {
      "text/plain": [
       "[Question('free_text', question_name = \"\"\"improve_0\"\"\", question_text = \"\"\"Is there anything specific that our company can do to improve your experience?\"\"\"),\n",
       " Question('free_text', question_name = \"\"\"improve_1\"\"\", question_text = \"\"\"Is there anything specific that our company can do to improve your experience?\"\"\"),\n",
       " Question('free_text', question_name = \"\"\"improve_2\"\"\", question_text = \"\"\"Is there anything specific that our company can do to improve your experience?\"\"\")]"
      ]
     },
     "execution_count": 12,
     "metadata": {},
     "output_type": "execute_result"
    }
   ],
   "source": [
    "improve_questions = q_improve.loop(s)\n",
    "improve_questions"
   ]
  },
  {
   "cell_type": "markdown",
   "id": "467bdb55-5a66-4a9a-b400-6241779713ce",
   "metadata": {
    "editable": true,
    "slideshow": {
     "slide_type": ""
    },
    "tags": []
   },
   "source": [
    "## Creating a survey\n",
    "Next we pass a list of all the questions to a `Survey` in order to administer them together:"
   ]
  },
  {
   "cell_type": "code",
   "execution_count": 13,
   "id": "fbbb695c-73e4-4401-b727-e9bc5bd3602f",
   "metadata": {
    "editable": true,
    "slideshow": {
     "slide_type": ""
    },
    "tags": []
   },
   "outputs": [],
   "source": [
    "questions = [q_recommend] + satisfied_questions + improve_questions"
   ]
  },
  {
   "cell_type": "code",
   "execution_count": 14,
   "id": "0435ef1b-435e-4d2d-9420-095a8984fad4",
   "metadata": {
    "editable": true,
    "slideshow": {
     "slide_type": ""
    },
    "tags": []
   },
   "outputs": [],
   "source": [
    "from edsl import Survey"
   ]
  },
  {
   "cell_type": "code",
   "execution_count": 15,
   "id": "780d7304-9427-44fe-9b86-50181cdfc2e2",
   "metadata": {
    "editable": true,
    "slideshow": {
     "slide_type": ""
    },
    "tags": []
   },
   "outputs": [],
   "source": [
    "survey = Survey(questions)"
   ]
  },
  {
   "cell_type": "markdown",
   "id": "c2df0c00-6dce-461e-afa0-4f755f65d161",
   "metadata": {
    "editable": true,
    "slideshow": {
     "slide_type": ""
    },
    "tags": []
   },
   "source": [
    "## Adding survey logic \n",
    "In the next step we add logic to the survey specifying that each \"improve\" question should include a \"memory\" of a \"satisfied\" question (the question and answer that was provided):"
   ]
  },
  {
   "cell_type": "code",
   "execution_count": 16,
   "id": "89d4165e-b63a-47a0-b04e-8d7e9ebd64c4",
   "metadata": {
    "editable": true,
    "slideshow": {
     "slide_type": ""
    },
    "tags": []
   },
   "outputs": [],
   "source": [
    "for i in range(len(s)):\n",
    "    survey = survey.add_targeted_memory(f\"improve_{i}\", f\"satisfied_{i}\")"
   ]
  },
  {
   "cell_type": "markdown",
   "id": "f12844b0-2d8b-4f0d-b3f0-1148fa9ea97f",
   "metadata": {
    "editable": true,
    "slideshow": {
     "slide_type": ""
    },
    "tags": []
   },
   "source": [
    "We can inspect the survey details:"
   ]
  },
  {
   "cell_type": "code",
   "execution_count": 17,
   "id": "48aeba75-f5ed-45f6-89f5-ab5100eba8da",
   "metadata": {
    "editable": true,
    "slideshow": {
     "slide_type": ""
    },
    "tags": []
   },
   "outputs": [
    {
     "data": {
      "text/html": [
       "<p><a href='https://docs.expectedparrot.com/en/latest/surveys.html'>Survey</a> # questions: 7; question_name list: ['recommend', 'satisfied_0', 'satisfied_1', 'satisfied_2', 'improve_0', 'improve_1', 'improve_2'];</p>\n",
       "            <div style=\"max-height: 500px; overflow-y: auto;\">\n",
       "                <style type=\"text/css\">\n",
       "#T_5ab22_row0_col0, #T_5ab22_row0_col1, #T_5ab22_row0_col2, #T_5ab22_row0_col3, #T_5ab22_row0_col4, #T_5ab22_row1_col0, #T_5ab22_row1_col1, #T_5ab22_row1_col2, #T_5ab22_row1_col3, #T_5ab22_row1_col4, #T_5ab22_row2_col0, #T_5ab22_row2_col1, #T_5ab22_row2_col2, #T_5ab22_row2_col3, #T_5ab22_row2_col4, #T_5ab22_row3_col0, #T_5ab22_row3_col1, #T_5ab22_row3_col2, #T_5ab22_row3_col3, #T_5ab22_row3_col4, #T_5ab22_row4_col0, #T_5ab22_row4_col1, #T_5ab22_row4_col2, #T_5ab22_row4_col3, #T_5ab22_row4_col4, #T_5ab22_row5_col0, #T_5ab22_row5_col1, #T_5ab22_row5_col2, #T_5ab22_row5_col3, #T_5ab22_row5_col4, #T_5ab22_row6_col0, #T_5ab22_row6_col1, #T_5ab22_row6_col2, #T_5ab22_row6_col3, #T_5ab22_row6_col4 {\n",
       "  text-align: left;\n",
       "}\n",
       "</style>\n",
       "<table id=\"T_5ab22\">\n",
       "  <thead>\n",
       "    <tr>\n",
       "      <th class=\"blank level0\" >&nbsp;</th>\n",
       "      <th id=\"T_5ab22_level0_col0\" class=\"col_heading level0 col0\" >question_name</th>\n",
       "      <th id=\"T_5ab22_level0_col1\" class=\"col_heading level0 col1\" >question_text</th>\n",
       "      <th id=\"T_5ab22_level0_col2\" class=\"col_heading level0 col2\" >option_labels</th>\n",
       "      <th id=\"T_5ab22_level0_col3\" class=\"col_heading level0 col3\" >question_type</th>\n",
       "      <th id=\"T_5ab22_level0_col4\" class=\"col_heading level0 col4\" >question_options</th>\n",
       "    </tr>\n",
       "  </thead>\n",
       "  <tbody>\n",
       "    <tr>\n",
       "      <th id=\"T_5ab22_level0_row0\" class=\"row_heading level0 row0\" >0</th>\n",
       "      <td id=\"T_5ab22_row0_col0\" class=\"data row0 col0\" >recommend</td>\n",
       "      <td id=\"T_5ab22_row0_col1\" class=\"data row0 col1\" >On a scale from 0-10, how likely are you to recommend our company to a friend or colleague?</td>\n",
       "      <td id=\"T_5ab22_row0_col2\" class=\"data row0 col2\" >{0: 'Not at all likely', 10: 'Very likely'}</td>\n",
       "      <td id=\"T_5ab22_row0_col3\" class=\"data row0 col3\" >linear_scale</td>\n",
       "      <td id=\"T_5ab22_row0_col4\" class=\"data row0 col4\" >[0, 1, 2, 3, 4, 5, 6, 7, 8, 9, 10]</td>\n",
       "    </tr>\n",
       "    <tr>\n",
       "      <th id=\"T_5ab22_level0_row1\" class=\"row_heading level0 row1\" >1</th>\n",
       "      <td id=\"T_5ab22_row1_col0\" class=\"data row1 col0\" >satisfied_0</td>\n",
       "      <td id=\"T_5ab22_row1_col1\" class=\"data row1 col1\" >How satisfied are you with the following experience with our company: Product quality</td>\n",
       "      <td id=\"T_5ab22_row1_col2\" class=\"data row1 col2\" >nan</td>\n",
       "      <td id=\"T_5ab22_row1_col3\" class=\"data row1 col3\" >multiple_choice</td>\n",
       "      <td id=\"T_5ab22_row1_col4\" class=\"data row1 col4\" >['Extremely satisfied', 'Moderately satisfied', 'Neither satisfied nor dissatisfied', 'Moderately dissatisfied', 'Extremely dissatisfied']</td>\n",
       "    </tr>\n",
       "    <tr>\n",
       "      <th id=\"T_5ab22_level0_row2\" class=\"row_heading level0 row2\" >2</th>\n",
       "      <td id=\"T_5ab22_row2_col0\" class=\"data row2 col0\" >satisfied_1</td>\n",
       "      <td id=\"T_5ab22_row2_col1\" class=\"data row2 col1\" >How satisfied are you with the following experience with our company: Customer support</td>\n",
       "      <td id=\"T_5ab22_row2_col2\" class=\"data row2 col2\" >nan</td>\n",
       "      <td id=\"T_5ab22_row2_col3\" class=\"data row2 col3\" >multiple_choice</td>\n",
       "      <td id=\"T_5ab22_row2_col4\" class=\"data row2 col4\" >['Extremely satisfied', 'Moderately satisfied', 'Neither satisfied nor dissatisfied', 'Moderately dissatisfied', 'Extremely dissatisfied']</td>\n",
       "    </tr>\n",
       "    <tr>\n",
       "      <th id=\"T_5ab22_level0_row3\" class=\"row_heading level0 row3\" >3</th>\n",
       "      <td id=\"T_5ab22_row3_col0\" class=\"data row3 col0\" >satisfied_2</td>\n",
       "      <td id=\"T_5ab22_row3_col1\" class=\"data row3 col1\" >How satisfied are you with the following experience with our company: Purchasing experience</td>\n",
       "      <td id=\"T_5ab22_row3_col2\" class=\"data row3 col2\" >nan</td>\n",
       "      <td id=\"T_5ab22_row3_col3\" class=\"data row3 col3\" >multiple_choice</td>\n",
       "      <td id=\"T_5ab22_row3_col4\" class=\"data row3 col4\" >['Extremely satisfied', 'Moderately satisfied', 'Neither satisfied nor dissatisfied', 'Moderately dissatisfied', 'Extremely dissatisfied']</td>\n",
       "    </tr>\n",
       "    <tr>\n",
       "      <th id=\"T_5ab22_level0_row4\" class=\"row_heading level0 row4\" >4</th>\n",
       "      <td id=\"T_5ab22_row4_col0\" class=\"data row4 col0\" >improve_0</td>\n",
       "      <td id=\"T_5ab22_row4_col1\" class=\"data row4 col1\" >Is there anything specific that our company can do to improve your experience?</td>\n",
       "      <td id=\"T_5ab22_row4_col2\" class=\"data row4 col2\" >nan</td>\n",
       "      <td id=\"T_5ab22_row4_col3\" class=\"data row4 col3\" >free_text</td>\n",
       "      <td id=\"T_5ab22_row4_col4\" class=\"data row4 col4\" >nan</td>\n",
       "    </tr>\n",
       "    <tr>\n",
       "      <th id=\"T_5ab22_level0_row5\" class=\"row_heading level0 row5\" >5</th>\n",
       "      <td id=\"T_5ab22_row5_col0\" class=\"data row5 col0\" >improve_1</td>\n",
       "      <td id=\"T_5ab22_row5_col1\" class=\"data row5 col1\" >Is there anything specific that our company can do to improve your experience?</td>\n",
       "      <td id=\"T_5ab22_row5_col2\" class=\"data row5 col2\" >nan</td>\n",
       "      <td id=\"T_5ab22_row5_col3\" class=\"data row5 col3\" >free_text</td>\n",
       "      <td id=\"T_5ab22_row5_col4\" class=\"data row5 col4\" >nan</td>\n",
       "    </tr>\n",
       "    <tr>\n",
       "      <th id=\"T_5ab22_level0_row6\" class=\"row_heading level0 row6\" >6</th>\n",
       "      <td id=\"T_5ab22_row6_col0\" class=\"data row6 col0\" >improve_2</td>\n",
       "      <td id=\"T_5ab22_row6_col1\" class=\"data row6 col1\" >Is there anything specific that our company can do to improve your experience?</td>\n",
       "      <td id=\"T_5ab22_row6_col2\" class=\"data row6 col2\" >nan</td>\n",
       "      <td id=\"T_5ab22_row6_col3\" class=\"data row6 col3\" >free_text</td>\n",
       "      <td id=\"T_5ab22_row6_col4\" class=\"data row6 col4\" >nan</td>\n",
       "    </tr>\n",
       "  </tbody>\n",
       "</table>\n",
       "\n",
       "            </div>\n",
       "            "
      ],
      "text/plain": [
       "Survey(questions=[Question('linear_scale', question_name = \"\"\"recommend\"\"\", question_text = \"\"\"On a scale from 0-10, how likely are you to recommend our company to a friend or colleague?\"\"\", question_options = [0, 1, 2, 3, 4, 5, 6, 7, 8, 9, 10], option_labels = {0: 'Not at all likely', 10: 'Very likely'}), Question('multiple_choice', question_name = \"\"\"satisfied_0\"\"\", question_text = \"\"\"How satisfied are you with the following experience with our company: Product quality\"\"\", question_options = ['Extremely satisfied', 'Moderately satisfied', 'Neither satisfied nor dissatisfied', 'Moderately dissatisfied', 'Extremely dissatisfied']), Question('multiple_choice', question_name = \"\"\"satisfied_1\"\"\", question_text = \"\"\"How satisfied are you with the following experience with our company: Customer support\"\"\", question_options = ['Extremely satisfied', 'Moderately satisfied', 'Neither satisfied nor dissatisfied', 'Moderately dissatisfied', 'Extremely dissatisfied']), Question('multiple_choice', question_name = \"\"\"satisfied_2\"\"\", question_text = \"\"\"How satisfied are you with the following experience with our company: Purchasing experience\"\"\", question_options = ['Extremely satisfied', 'Moderately satisfied', 'Neither satisfied nor dissatisfied', 'Moderately dissatisfied', 'Extremely dissatisfied']), Question('free_text', question_name = \"\"\"improve_0\"\"\", question_text = \"\"\"Is there anything specific that our company can do to improve your experience?\"\"\"), Question('free_text', question_name = \"\"\"improve_1\"\"\", question_text = \"\"\"Is there anything specific that our company can do to improve your experience?\"\"\"), Question('free_text', question_name = \"\"\"improve_2\"\"\", question_text = \"\"\"Is there anything specific that our company can do to improve your experience?\"\"\")], memory_plan={'improve_0': Memory(prior_questions=['satisfied_0']), 'improve_1': Memory(prior_questions=['satisfied_1']), 'improve_2': Memory(prior_questions=['satisfied_2'])}, rule_collection=RuleCollection(rules=[Rule(current_q=0, expression=\"True\", next_q=1, priority=-1, question_name_to_index={'recommend': 0}, before_rule=False), Rule(current_q=1, expression=\"True\", next_q=2, priority=-1, question_name_to_index={'recommend': 0, 'satisfied_0': 1}, before_rule=False), Rule(current_q=2, expression=\"True\", next_q=3, priority=-1, question_name_to_index={'recommend': 0, 'satisfied_0': 1, 'satisfied_1': 2}, before_rule=False), Rule(current_q=3, expression=\"True\", next_q=4, priority=-1, question_name_to_index={'recommend': 0, 'satisfied_0': 1, 'satisfied_1': 2, 'satisfied_2': 3}, before_rule=False), Rule(current_q=4, expression=\"True\", next_q=5, priority=-1, question_name_to_index={'recommend': 0, 'satisfied_0': 1, 'satisfied_1': 2, 'satisfied_2': 3, 'improve_0': 4}, before_rule=False), Rule(current_q=5, expression=\"True\", next_q=6, priority=-1, question_name_to_index={'recommend': 0, 'satisfied_0': 1, 'satisfied_1': 2, 'satisfied_2': 3, 'improve_0': 4, 'improve_1': 5}, before_rule=False), Rule(current_q=6, expression=\"True\", next_q=7, priority=-1, question_name_to_index={'recommend': 0, 'satisfied_0': 1, 'satisfied_1': 2, 'satisfied_2': 3, 'improve_0': 4, 'improve_1': 5, 'improve_2': 6}, before_rule=False)], num_questions=7), question_groups={}, questions_to_randomize=[])"
      ]
     },
     "execution_count": 17,
     "metadata": {},
     "output_type": "execute_result"
    }
   ],
   "source": [
    "survey"
   ]
  },
  {
   "cell_type": "markdown",
   "id": "ab8cb570-7adc-4859-96cf-7e08a6b0e720",
   "metadata": {
    "editable": true,
    "slideshow": {
     "slide_type": ""
    },
    "tags": []
   },
   "source": [
    "## AI agent personas\n",
    "EDSL comes with a variety of methods for [designing AI agents to answer surveys](https://docs.expectedparrot.com/en/latest/agents.html).\n",
    "An `Agent` is constructed by passing a dictionary of relevant `traits` with optional additional `instructions` for the language model to reference in generating responses for the agent.\n",
    "Agents can be constructed from a variety of data sources, including existing survey data (e.g., a dataset of responses that were provided to some other questions). \n",
    "We can also use an EDSL question to draft some personas for agents. Here, we ask for a list of them:"
   ]
  },
  {
   "cell_type": "code",
   "execution_count": 18,
   "id": "fdb41d96-8dcc-4c0a-8026-7e73bbf7b781",
   "metadata": {
    "editable": true,
    "slideshow": {
     "slide_type": ""
    },
    "tags": []
   },
   "outputs": [],
   "source": [
    "from edsl import QuestionList"
   ]
  },
  {
   "cell_type": "code",
   "execution_count": 19,
   "id": "cfef7dca-7cf7-4a5a-92c0-a3818c931b37",
   "metadata": {
    "editable": true,
    "slideshow": {
     "slide_type": ""
    },
    "tags": []
   },
   "outputs": [],
   "source": [
    "q_personas = QuestionList(\n",
    "    question_name = \"personas\",\n",
    "    question_text = \"Draft 5 personas for diverse customers of landscaping business with varying satisfaction levels.\"\n",
    ")"
   ]
  },
  {
   "cell_type": "markdown",
   "id": "f44ed685-13ad-4f83-b099-3d833cad8daa",
   "metadata": {
    "editable": true,
    "slideshow": {
     "slide_type": ""
    },
    "tags": []
   },
   "source": [
    "We can run this question alone and extract the response list (more on working with results below):"
   ]
  },
  {
   "cell_type": "code",
   "execution_count": 20,
   "id": "ec121942-b3ed-4e9a-9ccb-6cf454aeb083",
   "metadata": {
    "editable": true,
    "slideshow": {
     "slide_type": ""
    },
    "tags": []
   },
   "outputs": [
    {
     "data": {
      "text/html": [
       "\n",
       "            <!-- #region Remove Inference Info -->\n",
       "            <div id=\"logger-b9eaa96d-903b-46ea-b268-678bf868b6df\" class=\"job-logger\">\n",
       "                <div class=\"job-logger-header\">\n",
       "                    <span>\n",
       "                        <span id=\"arrow-b9eaa96d-903b-46ea-b268-678bf868b6df\">▼</span> \n",
       "                        Job Status (2024-12-28 15:44:51)\n",
       "                    </span>\n",
       "                </div>\n",
       "                <div id=\"content-b9eaa96d-903b-46ea-b268-678bf868b6df\" style=\"display: block;\">\n",
       "                    <table class=\"job-logger-table\">\n",
       "                        \n",
       "            <tr>\n",
       "                <td class=\"job-logger-cell job-logger-label\">Job UUID</td>\n",
       "                <td class=\"job-logger-cell job-logger-value\">e11fda90-5a22-4af9-bdfd-8b9235594184</td>\n",
       "            </tr>\n",
       "        \n",
       "            <tr>\n",
       "                <td class=\"job-logger-cell job-logger-label\">Progress Bar URL</td>\n",
       "                <td class=\"job-logger-cell job-logger-value\"><a href=\"https://www.expectedparrot.com/home/remote-job-progress/e11fda90-5a22-4af9-bdfd-8b9235594184\" target=\"_blank\" class=\"job-logger-link\">https://www.expectedparrot.com/home/remote-job-progress/e11fda90-5a22-4af9-bdfd-8b9235594184</a></td>\n",
       "            </tr>\n",
       "        \n",
       "            <tr>\n",
       "                <td class=\"job-logger-cell job-logger-label\">Error Report URL</td>\n",
       "                <td class=\"job-logger-cell job-logger-value\">None</td>\n",
       "            </tr>\n",
       "        \n",
       "            <tr>\n",
       "                <td class=\"job-logger-cell job-logger-label\">Results UUID</td>\n",
       "                <td class=\"job-logger-cell job-logger-value\">ccf837e8-b1d3-4ae1-b783-806a293247e4</td>\n",
       "            </tr>\n",
       "        \n",
       "            <tr>\n",
       "                <td class=\"job-logger-cell job-logger-label\">Results URL</td>\n",
       "                <td class=\"job-logger-cell job-logger-value\">None</td>\n",
       "            </tr>\n",
       "        \n",
       "                    </table>\n",
       "                    \n",
       "                <div class=\"job-logger-status\">\n",
       "                    <span style=\"margin-right: 8px;\" class=\"job-logger-success\">✓</span><strong>Current Status:</strong> Job completed and Results stored on Coop: <a href=\"https://www.expectedparrot.com/content/ccf837e8-b1d3-4ae1-b783-806a293247e4\" target=\"_blank\" class=\"job-logger-link\">https://www.expectedparrot.com/content/ccf837e8-b1d3-4ae1-b783-806a293247e4</a>\n",
       "                </div>\n",
       "            \n",
       "                </div>\n",
       "            </div>\n",
       "            <!-- # endregion -->\n",
       "        "
      ],
      "text/plain": [
       "<IPython.core.display.HTML object>"
      ]
     },
     "metadata": {},
     "output_type": "display_data"
    },
    {
     "data": {
      "text/html": [
       "\n",
       "        <style>\n",
       "            /* Base theme variables */\n",
       "            :root {\n",
       "                --jl-bg-primary: #ffffff;\n",
       "                --jl-bg-secondary: #f5f5f5;\n",
       "                --jl-border-color: #e0e0e0;\n",
       "                --jl-text-primary: #24292e;\n",
       "                --jl-text-secondary: #586069;\n",
       "                --jl-link-color: #0366d6;\n",
       "                --jl-success-color: #28a745;\n",
       "                --jl-error-color: #d73a49;\n",
       "                --jl-header-bg: #f1f1f1;\n",
       "            }\n",
       "            \n",
       "            /* Dark theme variables */\n",
       "            .theme-dark {\n",
       "                --jl-bg-primary: #1e1e1e;\n",
       "                --jl-bg-secondary: #252526;\n",
       "                --jl-border-color: #2d2d2d;\n",
       "                --jl-text-primary: #cccccc;\n",
       "                --jl-text-secondary: #999999;\n",
       "                --jl-link-color: #4e94ce;\n",
       "                --jl-success-color: #89d185;\n",
       "                --jl-error-color: #f14c4c;\n",
       "                --jl-header-bg: #333333;\n",
       "            }\n",
       "\n",
       "            /* High contrast theme variables */\n",
       "            .theme-high-contrast {\n",
       "                --jl-bg-primary: #000000;\n",
       "                --jl-bg-secondary: #1a1a1a;\n",
       "                --jl-border-color: #404040;\n",
       "                --jl-text-primary: #ffffff;\n",
       "                --jl-text-secondary: #cccccc;\n",
       "                --jl-link-color: #66b3ff;\n",
       "                --jl-success-color: #00ff00;\n",
       "                --jl-error-color: #ff0000;\n",
       "                --jl-header-bg: #262626;\n",
       "            }\n",
       "            \n",
       "            .job-logger {\n",
       "                font-family: system-ui, -apple-system, sans-serif;\n",
       "                max-width: 800px;\n",
       "                margin: 10px 0;\n",
       "                color: var(--jl-text-primary);\n",
       "                box-shadow: 0 1px 3px rgba(0,0,0,0.12);\n",
       "                border-radius: 4px;\n",
       "                overflow: hidden;\n",
       "            }\n",
       "            \n",
       "            .job-logger-header {\n",
       "                padding: 12px 16px;\n",
       "                background: var(--jl-header-bg);\n",
       "                border: none;\n",
       "                border-radius: 4px 4px 0 0;\n",
       "                cursor: pointer;\n",
       "                color: var(--jl-text-primary);\n",
       "                user-select: none;\n",
       "                font-weight: 500;\n",
       "                letter-spacing: 0.3px;\n",
       "                display: flex;\n",
       "                justify-content: space-between;\n",
       "                align-items: center;\n",
       "            }\n",
       "            \n",
       "            .theme-select {\n",
       "                padding: 4px 8px;\n",
       "                border-radius: 4px;\n",
       "                border: 1px solid var(--jl-border-color);\n",
       "                background: var(--jl-bg-primary);\n",
       "                color: var(--jl-text-primary);\n",
       "                font-size: 0.9em;\n",
       "            }\n",
       "            \n",
       "            .job-logger-table {\n",
       "                width: 100%;\n",
       "                border-collapse: separate;\n",
       "                border-spacing: 0;\n",
       "                background: var(--jl-bg-primary);\n",
       "                border: 1px solid var(--jl-border-color);\n",
       "                margin-top: -1px;\n",
       "            }\n",
       "            \n",
       "            .job-logger-cell {\n",
       "                padding: 12px 16px;\n",
       "                border-bottom: 1px solid var(--jl-border-color);\n",
       "                line-height: 1.4;\n",
       "            }\n",
       "            \n",
       "            .job-logger-label {\n",
       "                font-weight: 500;\n",
       "                color: var(--jl-text-primary);\n",
       "                width: 25%;\n",
       "                background: var(--jl-bg-secondary);\n",
       "            }\n",
       "            \n",
       "            .job-logger-value {\n",
       "                color: var(--jl-text-secondary);\n",
       "                word-break: break-word;\n",
       "            }\n",
       "            \n",
       "            .job-logger-status {\n",
       "                margin: 0;\n",
       "                padding: 12px 16px;\n",
       "                background-color: var(--jl-bg-secondary);\n",
       "                border: 1px solid var(--jl-border-color);\n",
       "                border-top: none;\n",
       "                border-radius: 0 0 4px 4px;\n",
       "                color: var(--jl-text-primary);\n",
       "                font-size: 0.95em;\n",
       "            }\n",
       "        </style>\n",
       "        \n",
       "        <script>\n",
       "            class ThemeManager {\n",
       "                constructor(logId, initialTheme = 'auto') {\n",
       "                    this.logId = logId;\n",
       "                    this.currentTheme = initialTheme;\n",
       "                    this.darkModeMediaQuery = window.matchMedia('(prefers-color-scheme: dark)');\n",
       "                    this.init();\n",
       "                }\n",
       "                \n",
       "                init() {\n",
       "                    this.setupThemeSwitcher();\n",
       "                    this.updateTheme(this.currentTheme);\n",
       "                    \n",
       "                    this.darkModeMediaQuery.addListener(() => {\n",
       "                        if (this.currentTheme === 'auto') {\n",
       "                            this.updateTheme('auto');\n",
       "                        }\n",
       "                    });\n",
       "                }\n",
       "                \n",
       "                setupThemeSwitcher() {\n",
       "                    const logger = document.querySelector(`#logger-${this.logId}`);\n",
       "                    if (!logger) return;\n",
       "                    \n",
       "                    const switcher = document.createElement('div');\n",
       "                    switcher.className = 'theme-switcher';\n",
       "                    switcher.innerHTML = `\n",
       "                        <select id=\"theme-select-${this.logId}\" class=\"theme-select\">\n",
       "                            <option value=\"auto\">Auto</option>\n",
       "                            <option value=\"light\">Light</option>\n",
       "                            <option value=\"dark\">Dark</option>\n",
       "                            <option value=\"high-contrast\">High Contrast</option>\n",
       "                        </select>\n",
       "                    `;\n",
       "                    \n",
       "                    const header = logger.querySelector('.job-logger-header');\n",
       "                    header.appendChild(switcher);\n",
       "                    \n",
       "                    const select = switcher.querySelector('select');\n",
       "                    select.value = this.currentTheme;\n",
       "                    select.addEventListener('change', (e) => {\n",
       "                        this.updateTheme(e.target.value);\n",
       "                    });\n",
       "                }\n",
       "                \n",
       "                updateTheme(theme) {\n",
       "                    const logger = document.querySelector(`#logger-${this.logId}`);\n",
       "                    if (!logger) return;\n",
       "                    \n",
       "                    this.currentTheme = theme;\n",
       "                    \n",
       "                    logger.classList.remove('theme-light', 'theme-dark', 'theme-high-contrast');\n",
       "                    \n",
       "                    if (theme === 'auto') {\n",
       "                        const isDark = this.darkModeMediaQuery.matches;\n",
       "                        logger.classList.add(isDark ? 'theme-dark' : 'theme-light');\n",
       "                    } else {\n",
       "                        logger.classList.add(`theme-${theme}`);\n",
       "                    }\n",
       "                    \n",
       "                    try {\n",
       "                        localStorage.setItem('jobLoggerTheme', theme);\n",
       "                    } catch (e) {\n",
       "                        console.warn('Unable to save theme preference:', e);\n",
       "                    }\n",
       "                }\n",
       "            }\n",
       "            \n",
       "            window.initThemeManager = (logId, initialTheme) => {\n",
       "                new ThemeManager(logId, initialTheme);\n",
       "            };\n",
       "        </script>\n",
       "        \n",
       "        <script>\n",
       "            document.addEventListener('DOMContentLoaded', () => {\n",
       "                window.initThemeManager('b9eaa96d-903b-46ea-b268-678bf868b6df', 'auto');\n",
       "            });\n",
       "        </script>\n",
       "        "
      ],
      "text/plain": [
       "<IPython.core.display.HTML object>"
      ]
     },
     "metadata": {},
     "output_type": "display_data"
    },
    {
     "data": {
      "text/plain": [
       "['John, a retired veteran who loves his garden and is highly satisfied with the personalized service',\n",
       " 'Emily, a busy professional who is moderately satisfied but wishes for more eco-friendly options',\n",
       " 'Raj, a young tech entrepreneur who is dissatisfied due to inconsistent appointment scheduling',\n",
       " 'Maria, a single mother who is very satisfied with the affordable pricing and flexible payment plans',\n",
       " 'Grace, an elderly woman who is dissatisfied because of slow response times to her queries']"
      ]
     },
     "execution_count": 20,
     "metadata": {},
     "output_type": "execute_result"
    }
   ],
   "source": [
    "personas = q_personas.run().select(\"personas\").to_list()[0]\n",
    "personas"
   ]
  },
  {
   "cell_type": "markdown",
   "id": "3ea26286-26de-42a8-b0fb-af698a7235df",
   "metadata": {
    "editable": true,
    "slideshow": {
     "slide_type": ""
    },
    "tags": []
   },
   "source": [
    "Next we pass the personas to create a set of agents:"
   ]
  },
  {
   "cell_type": "code",
   "execution_count": 21,
   "id": "14143f43-55c9-4317-a251-7ab9beb0de14",
   "metadata": {
    "editable": true,
    "slideshow": {
     "slide_type": ""
    },
    "tags": []
   },
   "outputs": [],
   "source": [
    "from edsl import AgentList, Agent"
   ]
  },
  {
   "cell_type": "code",
   "execution_count": 22,
   "id": "9f2d8fa1-7f9d-4e3a-9fc1-916c0e4ef498",
   "metadata": {
    "editable": true,
    "slideshow": {
     "slide_type": ""
    },
    "tags": []
   },
   "outputs": [],
   "source": [
    "a = AgentList(\n",
    "    Agent(traits = {\"persona\":p}) for p in personas\n",
    ")"
   ]
  },
  {
   "cell_type": "markdown",
   "id": "580c7bb2-ba95-41af-bd53-583e02f0cf28",
   "metadata": {
    "editable": true,
    "slideshow": {
     "slide_type": ""
    },
    "tags": []
   },
   "source": [
    "## Selecting language models\n",
    "EDSL works with many popular large language models that we can select to use with a survey.\n",
    "To see a list of available models:"
   ]
  },
  {
   "cell_type": "code",
   "execution_count": 23,
   "id": "c0feba37-6f94-419d-af3b-29bc38244660",
   "metadata": {
    "editable": true,
    "slideshow": {
     "slide_type": ""
    },
    "tags": []
   },
   "outputs": [],
   "source": [
    "from edsl import Model"
   ]
  },
  {
   "cell_type": "code",
   "execution_count": 24,
   "id": "faea801d-423d-436f-934a-2f21b881951f",
   "metadata": {
    "editable": true,
    "slideshow": {
     "slide_type": ""
    },
    "tags": []
   },
   "outputs": [],
   "source": [
    "# Model.available()"
   ]
  },
  {
   "cell_type": "markdown",
   "id": "4e431f7e-6a0b-4cf2-aaba-2a6ea2a8d20f",
   "metadata": {
    "editable": true,
    "slideshow": {
     "slide_type": ""
    },
    "tags": []
   },
   "source": [
    "To select a model to use with a survey we pass a model name to a `Model`:"
   ]
  },
  {
   "cell_type": "code",
   "execution_count": 25,
   "id": "a47dbc95-8186-4aac-93a4-06177576a934",
   "metadata": {
    "editable": true,
    "slideshow": {
     "slide_type": ""
    },
    "tags": []
   },
   "outputs": [],
   "source": [
    "m = Model(\"gemini-1.5-flash\")"
   ]
  },
  {
   "cell_type": "markdown",
   "id": "46465cb7-e4b9-45b9-91d3-cf6222bfc003",
   "metadata": {
    "editable": true,
    "slideshow": {
     "slide_type": ""
    },
    "tags": []
   },
   "source": [
    "If we want to compare responses for several models, we can use a `ModelList` instead:"
   ]
  },
  {
   "cell_type": "code",
   "execution_count": 26,
   "id": "a665f4b4-59d3-4d44-b7c6-3395e46fde39",
   "metadata": {
    "editable": true,
    "slideshow": {
     "slide_type": ""
    },
    "tags": []
   },
   "outputs": [],
   "source": [
    "from edsl import ModelList"
   ]
  },
  {
   "cell_type": "code",
   "execution_count": 27,
   "id": "e5bbc158-a444-4b41-8079-d9dc5fe4942b",
   "metadata": {
    "editable": true,
    "slideshow": {
     "slide_type": ""
    },
    "tags": []
   },
   "outputs": [],
   "source": [
    "m = ModelList(\n",
    "    Model(model) for model in [\"gemini-1.5-flash\", \"gpt-4o\"]\n",
    ")"
   ]
  },
  {
   "cell_type": "markdown",
   "id": "f35861cb-a0f3-4686-831b-2e47761a863f",
   "metadata": {
    "editable": true,
    "slideshow": {
     "slide_type": ""
    },
    "tags": []
   },
   "source": [
    "Note: If no model is specified when running a survey, the default model GPT-4o is used (as above when we generated personas)."
   ]
  },
  {
   "cell_type": "markdown",
   "id": "1a6285a5-6ee2-4081-a13c-287f0e715e04",
   "metadata": {
    "editable": true,
    "slideshow": {
     "slide_type": ""
    },
    "tags": []
   },
   "source": [
    "## Running a survey\n",
    "We administer the survey by adding the agents and models with the `by()` method and then calling the `run()` method:"
   ]
  },
  {
   "cell_type": "code",
   "execution_count": 28,
   "id": "55d58687-36c5-4c9b-a63a-ec3d265ff8fd",
   "metadata": {
    "editable": true,
    "slideshow": {
     "slide_type": ""
    },
    "tags": []
   },
   "outputs": [
    {
     "data": {
      "text/html": [
       "\n",
       "            <!-- #region Remove Inference Info -->\n",
       "            <div id=\"logger-ac97a1a3-3395-4a97-939b-ff9459f8eb8f\" class=\"job-logger\">\n",
       "                <div class=\"job-logger-header\">\n",
       "                    <span>\n",
       "                        <span id=\"arrow-ac97a1a3-3395-4a97-939b-ff9459f8eb8f\">▼</span> \n",
       "                        Job Status (2024-12-28 15:47:52)\n",
       "                    </span>\n",
       "                </div>\n",
       "                <div id=\"content-ac97a1a3-3395-4a97-939b-ff9459f8eb8f\" style=\"display: block;\">\n",
       "                    <table class=\"job-logger-table\">\n",
       "                        \n",
       "            <tr>\n",
       "                <td class=\"job-logger-cell job-logger-label\">Job UUID</td>\n",
       "                <td class=\"job-logger-cell job-logger-value\">99b2b457-d27f-4ff5-9b1c-aea15eea2167</td>\n",
       "            </tr>\n",
       "        \n",
       "            <tr>\n",
       "                <td class=\"job-logger-cell job-logger-label\">Progress Bar URL</td>\n",
       "                <td class=\"job-logger-cell job-logger-value\"><a href=\"https://www.expectedparrot.com/home/remote-job-progress/99b2b457-d27f-4ff5-9b1c-aea15eea2167\" target=\"_blank\" class=\"job-logger-link\">https://www.expectedparrot.com/home/remote-job-progress/99b2b457-d27f-4ff5-9b1c-aea15eea2167</a></td>\n",
       "            </tr>\n",
       "        \n",
       "            <tr>\n",
       "                <td class=\"job-logger-cell job-logger-label\">Error Report URL</td>\n",
       "                <td class=\"job-logger-cell job-logger-value\">None</td>\n",
       "            </tr>\n",
       "        \n",
       "            <tr>\n",
       "                <td class=\"job-logger-cell job-logger-label\">Results UUID</td>\n",
       "                <td class=\"job-logger-cell job-logger-value\">7777e1b5-4832-47bb-b69e-dd98440fd05f</td>\n",
       "            </tr>\n",
       "        \n",
       "            <tr>\n",
       "                <td class=\"job-logger-cell job-logger-label\">Results URL</td>\n",
       "                <td class=\"job-logger-cell job-logger-value\">None</td>\n",
       "            </tr>\n",
       "        \n",
       "                    </table>\n",
       "                    \n",
       "                <div class=\"job-logger-status\">\n",
       "                    <span style=\"margin-right: 8px;\" class=\"job-logger-success\">✓</span><strong>Current Status:</strong> Job completed and Results stored on Coop: <a href=\"https://www.expectedparrot.com/content/7777e1b5-4832-47bb-b69e-dd98440fd05f\" target=\"_blank\" class=\"job-logger-link\">https://www.expectedparrot.com/content/7777e1b5-4832-47bb-b69e-dd98440fd05f</a>\n",
       "                </div>\n",
       "            \n",
       "                </div>\n",
       "            </div>\n",
       "            <!-- # endregion -->\n",
       "        "
      ],
      "text/plain": [
       "<IPython.core.display.HTML object>"
      ]
     },
     "metadata": {},
     "output_type": "display_data"
    },
    {
     "data": {
      "text/html": [
       "\n",
       "        <style>\n",
       "            /* Base theme variables */\n",
       "            :root {\n",
       "                --jl-bg-primary: #ffffff;\n",
       "                --jl-bg-secondary: #f5f5f5;\n",
       "                --jl-border-color: #e0e0e0;\n",
       "                --jl-text-primary: #24292e;\n",
       "                --jl-text-secondary: #586069;\n",
       "                --jl-link-color: #0366d6;\n",
       "                --jl-success-color: #28a745;\n",
       "                --jl-error-color: #d73a49;\n",
       "                --jl-header-bg: #f1f1f1;\n",
       "            }\n",
       "            \n",
       "            /* Dark theme variables */\n",
       "            .theme-dark {\n",
       "                --jl-bg-primary: #1e1e1e;\n",
       "                --jl-bg-secondary: #252526;\n",
       "                --jl-border-color: #2d2d2d;\n",
       "                --jl-text-primary: #cccccc;\n",
       "                --jl-text-secondary: #999999;\n",
       "                --jl-link-color: #4e94ce;\n",
       "                --jl-success-color: #89d185;\n",
       "                --jl-error-color: #f14c4c;\n",
       "                --jl-header-bg: #333333;\n",
       "            }\n",
       "\n",
       "            /* High contrast theme variables */\n",
       "            .theme-high-contrast {\n",
       "                --jl-bg-primary: #000000;\n",
       "                --jl-bg-secondary: #1a1a1a;\n",
       "                --jl-border-color: #404040;\n",
       "                --jl-text-primary: #ffffff;\n",
       "                --jl-text-secondary: #cccccc;\n",
       "                --jl-link-color: #66b3ff;\n",
       "                --jl-success-color: #00ff00;\n",
       "                --jl-error-color: #ff0000;\n",
       "                --jl-header-bg: #262626;\n",
       "            }\n",
       "            \n",
       "            .job-logger {\n",
       "                font-family: system-ui, -apple-system, sans-serif;\n",
       "                max-width: 800px;\n",
       "                margin: 10px 0;\n",
       "                color: var(--jl-text-primary);\n",
       "                box-shadow: 0 1px 3px rgba(0,0,0,0.12);\n",
       "                border-radius: 4px;\n",
       "                overflow: hidden;\n",
       "            }\n",
       "            \n",
       "            .job-logger-header {\n",
       "                padding: 12px 16px;\n",
       "                background: var(--jl-header-bg);\n",
       "                border: none;\n",
       "                border-radius: 4px 4px 0 0;\n",
       "                cursor: pointer;\n",
       "                color: var(--jl-text-primary);\n",
       "                user-select: none;\n",
       "                font-weight: 500;\n",
       "                letter-spacing: 0.3px;\n",
       "                display: flex;\n",
       "                justify-content: space-between;\n",
       "                align-items: center;\n",
       "            }\n",
       "            \n",
       "            .theme-select {\n",
       "                padding: 4px 8px;\n",
       "                border-radius: 4px;\n",
       "                border: 1px solid var(--jl-border-color);\n",
       "                background: var(--jl-bg-primary);\n",
       "                color: var(--jl-text-primary);\n",
       "                font-size: 0.9em;\n",
       "            }\n",
       "            \n",
       "            .job-logger-table {\n",
       "                width: 100%;\n",
       "                border-collapse: separate;\n",
       "                border-spacing: 0;\n",
       "                background: var(--jl-bg-primary);\n",
       "                border: 1px solid var(--jl-border-color);\n",
       "                margin-top: -1px;\n",
       "            }\n",
       "            \n",
       "            .job-logger-cell {\n",
       "                padding: 12px 16px;\n",
       "                border-bottom: 1px solid var(--jl-border-color);\n",
       "                line-height: 1.4;\n",
       "            }\n",
       "            \n",
       "            .job-logger-label {\n",
       "                font-weight: 500;\n",
       "                color: var(--jl-text-primary);\n",
       "                width: 25%;\n",
       "                background: var(--jl-bg-secondary);\n",
       "            }\n",
       "            \n",
       "            .job-logger-value {\n",
       "                color: var(--jl-text-secondary);\n",
       "                word-break: break-word;\n",
       "            }\n",
       "            \n",
       "            .job-logger-status {\n",
       "                margin: 0;\n",
       "                padding: 12px 16px;\n",
       "                background-color: var(--jl-bg-secondary);\n",
       "                border: 1px solid var(--jl-border-color);\n",
       "                border-top: none;\n",
       "                border-radius: 0 0 4px 4px;\n",
       "                color: var(--jl-text-primary);\n",
       "                font-size: 0.95em;\n",
       "            }\n",
       "        </style>\n",
       "        \n",
       "        <script>\n",
       "            class ThemeManager {\n",
       "                constructor(logId, initialTheme = 'auto') {\n",
       "                    this.logId = logId;\n",
       "                    this.currentTheme = initialTheme;\n",
       "                    this.darkModeMediaQuery = window.matchMedia('(prefers-color-scheme: dark)');\n",
       "                    this.init();\n",
       "                }\n",
       "                \n",
       "                init() {\n",
       "                    this.setupThemeSwitcher();\n",
       "                    this.updateTheme(this.currentTheme);\n",
       "                    \n",
       "                    this.darkModeMediaQuery.addListener(() => {\n",
       "                        if (this.currentTheme === 'auto') {\n",
       "                            this.updateTheme('auto');\n",
       "                        }\n",
       "                    });\n",
       "                }\n",
       "                \n",
       "                setupThemeSwitcher() {\n",
       "                    const logger = document.querySelector(`#logger-${this.logId}`);\n",
       "                    if (!logger) return;\n",
       "                    \n",
       "                    const switcher = document.createElement('div');\n",
       "                    switcher.className = 'theme-switcher';\n",
       "                    switcher.innerHTML = `\n",
       "                        <select id=\"theme-select-${this.logId}\" class=\"theme-select\">\n",
       "                            <option value=\"auto\">Auto</option>\n",
       "                            <option value=\"light\">Light</option>\n",
       "                            <option value=\"dark\">Dark</option>\n",
       "                            <option value=\"high-contrast\">High Contrast</option>\n",
       "                        </select>\n",
       "                    `;\n",
       "                    \n",
       "                    const header = logger.querySelector('.job-logger-header');\n",
       "                    header.appendChild(switcher);\n",
       "                    \n",
       "                    const select = switcher.querySelector('select');\n",
       "                    select.value = this.currentTheme;\n",
       "                    select.addEventListener('change', (e) => {\n",
       "                        this.updateTheme(e.target.value);\n",
       "                    });\n",
       "                }\n",
       "                \n",
       "                updateTheme(theme) {\n",
       "                    const logger = document.querySelector(`#logger-${this.logId}`);\n",
       "                    if (!logger) return;\n",
       "                    \n",
       "                    this.currentTheme = theme;\n",
       "                    \n",
       "                    logger.classList.remove('theme-light', 'theme-dark', 'theme-high-contrast');\n",
       "                    \n",
       "                    if (theme === 'auto') {\n",
       "                        const isDark = this.darkModeMediaQuery.matches;\n",
       "                        logger.classList.add(isDark ? 'theme-dark' : 'theme-light');\n",
       "                    } else {\n",
       "                        logger.classList.add(`theme-${theme}`);\n",
       "                    }\n",
       "                    \n",
       "                    try {\n",
       "                        localStorage.setItem('jobLoggerTheme', theme);\n",
       "                    } catch (e) {\n",
       "                        console.warn('Unable to save theme preference:', e);\n",
       "                    }\n",
       "                }\n",
       "            }\n",
       "            \n",
       "            window.initThemeManager = (logId, initialTheme) => {\n",
       "                new ThemeManager(logId, initialTheme);\n",
       "            };\n",
       "        </script>\n",
       "        \n",
       "        <script>\n",
       "            document.addEventListener('DOMContentLoaded', () => {\n",
       "                window.initThemeManager('ac97a1a3-3395-4a97-939b-ff9459f8eb8f', 'auto');\n",
       "            });\n",
       "        </script>\n",
       "        "
      ],
      "text/plain": [
       "<IPython.core.display.HTML object>"
      ]
     },
     "metadata": {},
     "output_type": "display_data"
    }
   ],
   "source": [
    "results = survey.by(a).by(m).run()"
   ]
  },
  {
   "cell_type": "markdown",
   "id": "77d2e183-d127-46f1-977f-7e37a86e2bd6",
   "metadata": {
    "editable": true,
    "slideshow": {
     "slide_type": ""
    },
    "tags": []
   },
   "source": [
    "This generates a dataset of `Results` that includes a response for each agent/model that was used. \n",
    "We can access the results with [built-in methods for analysis](https://docs.expectedparrot.com/en/latest/results.html).\n",
    "To see a list of all the components of the results:"
   ]
  },
  {
   "cell_type": "code",
   "execution_count": 29,
   "id": "228928cf-abb0-411f-a232-05a2e5e25c55",
   "metadata": {
    "editable": true,
    "slideshow": {
     "slide_type": ""
    },
    "tags": []
   },
   "outputs": [
    {
     "data": {
      "text/html": [
       "\n",
       "            <div style=\"max-height: 500px; overflow-y: auto;\">\n",
       "                <style type=\"text/css\">\n",
       "#T_268d0_row0_col0, #T_268d0_row1_col0, #T_268d0_row2_col0, #T_268d0_row3_col0, #T_268d0_row4_col0, #T_268d0_row5_col0, #T_268d0_row6_col0, #T_268d0_row7_col0, #T_268d0_row8_col0, #T_268d0_row9_col0, #T_268d0_row10_col0, #T_268d0_row11_col0, #T_268d0_row12_col0, #T_268d0_row13_col0, #T_268d0_row14_col0, #T_268d0_row15_col0, #T_268d0_row16_col0, #T_268d0_row17_col0, #T_268d0_row18_col0, #T_268d0_row19_col0, #T_268d0_row20_col0, #T_268d0_row21_col0, #T_268d0_row22_col0, #T_268d0_row23_col0, #T_268d0_row24_col0, #T_268d0_row25_col0, #T_268d0_row26_col0, #T_268d0_row27_col0, #T_268d0_row28_col0, #T_268d0_row29_col0, #T_268d0_row30_col0, #T_268d0_row31_col0, #T_268d0_row32_col0, #T_268d0_row33_col0, #T_268d0_row34_col0, #T_268d0_row35_col0, #T_268d0_row36_col0, #T_268d0_row37_col0, #T_268d0_row38_col0, #T_268d0_row39_col0, #T_268d0_row40_col0, #T_268d0_row41_col0, #T_268d0_row42_col0, #T_268d0_row43_col0, #T_268d0_row44_col0, #T_268d0_row45_col0, #T_268d0_row46_col0, #T_268d0_row47_col0, #T_268d0_row48_col0, #T_268d0_row49_col0, #T_268d0_row50_col0, #T_268d0_row51_col0, #T_268d0_row52_col0, #T_268d0_row53_col0, #T_268d0_row54_col0, #T_268d0_row55_col0, #T_268d0_row56_col0, #T_268d0_row57_col0, #T_268d0_row58_col0, #T_268d0_row59_col0, #T_268d0_row60_col0, #T_268d0_row61_col0, #T_268d0_row62_col0, #T_268d0_row63_col0, #T_268d0_row64_col0, #T_268d0_row65_col0, #T_268d0_row66_col0, #T_268d0_row67_col0, #T_268d0_row68_col0, #T_268d0_row69_col0, #T_268d0_row70_col0, #T_268d0_row71_col0, #T_268d0_row72_col0, #T_268d0_row73_col0, #T_268d0_row74_col0, #T_268d0_row75_col0, #T_268d0_row76_col0, #T_268d0_row77_col0, #T_268d0_row78_col0, #T_268d0_row79_col0, #T_268d0_row80_col0, #T_268d0_row81_col0, #T_268d0_row82_col0, #T_268d0_row83_col0, #T_268d0_row84_col0, #T_268d0_row85_col0, #T_268d0_row86_col0, #T_268d0_row87_col0, #T_268d0_row88_col0, #T_268d0_row89_col0, #T_268d0_row90_col0, #T_268d0_row91_col0, #T_268d0_row92_col0 {\n",
       "  text-align: left;\n",
       "}\n",
       "</style>\n",
       "<table id=\"T_268d0\">\n",
       "  <thead>\n",
       "    <tr>\n",
       "      <th class=\"blank level0\" >&nbsp;</th>\n",
       "      <th id=\"T_268d0_level0_col0\" class=\"col_heading level0 col0\" >0</th>\n",
       "    </tr>\n",
       "  </thead>\n",
       "  <tbody>\n",
       "    <tr>\n",
       "      <th id=\"T_268d0_level0_row0\" class=\"row_heading level0 row0\" >0</th>\n",
       "      <td id=\"T_268d0_row0_col0\" class=\"data row0 col0\" >agent.agent_instruction</td>\n",
       "    </tr>\n",
       "    <tr>\n",
       "      <th id=\"T_268d0_level0_row1\" class=\"row_heading level0 row1\" >1</th>\n",
       "      <td id=\"T_268d0_row1_col0\" class=\"data row1 col0\" >agent.agent_name</td>\n",
       "    </tr>\n",
       "    <tr>\n",
       "      <th id=\"T_268d0_level0_row2\" class=\"row_heading level0 row2\" >2</th>\n",
       "      <td id=\"T_268d0_row2_col0\" class=\"data row2 col0\" >agent.persona</td>\n",
       "    </tr>\n",
       "    <tr>\n",
       "      <th id=\"T_268d0_level0_row3\" class=\"row_heading level0 row3\" >3</th>\n",
       "      <td id=\"T_268d0_row3_col0\" class=\"data row3 col0\" >answer.improve_0</td>\n",
       "    </tr>\n",
       "    <tr>\n",
       "      <th id=\"T_268d0_level0_row4\" class=\"row_heading level0 row4\" >4</th>\n",
       "      <td id=\"T_268d0_row4_col0\" class=\"data row4 col0\" >answer.improve_1</td>\n",
       "    </tr>\n",
       "    <tr>\n",
       "      <th id=\"T_268d0_level0_row5\" class=\"row_heading level0 row5\" >5</th>\n",
       "      <td id=\"T_268d0_row5_col0\" class=\"data row5 col0\" >answer.improve_2</td>\n",
       "    </tr>\n",
       "    <tr>\n",
       "      <th id=\"T_268d0_level0_row6\" class=\"row_heading level0 row6\" >6</th>\n",
       "      <td id=\"T_268d0_row6_col0\" class=\"data row6 col0\" >answer.recommend</td>\n",
       "    </tr>\n",
       "    <tr>\n",
       "      <th id=\"T_268d0_level0_row7\" class=\"row_heading level0 row7\" >7</th>\n",
       "      <td id=\"T_268d0_row7_col0\" class=\"data row7 col0\" >answer.satisfied_0</td>\n",
       "    </tr>\n",
       "    <tr>\n",
       "      <th id=\"T_268d0_level0_row8\" class=\"row_heading level0 row8\" >8</th>\n",
       "      <td id=\"T_268d0_row8_col0\" class=\"data row8 col0\" >answer.satisfied_1</td>\n",
       "    </tr>\n",
       "    <tr>\n",
       "      <th id=\"T_268d0_level0_row9\" class=\"row_heading level0 row9\" >9</th>\n",
       "      <td id=\"T_268d0_row9_col0\" class=\"data row9 col0\" >answer.satisfied_2</td>\n",
       "    </tr>\n",
       "    <tr>\n",
       "      <th id=\"T_268d0_level0_row10\" class=\"row_heading level0 row10\" >10</th>\n",
       "      <td id=\"T_268d0_row10_col0\" class=\"data row10 col0\" >comment.improve_0_comment</td>\n",
       "    </tr>\n",
       "    <tr>\n",
       "      <th id=\"T_268d0_level0_row11\" class=\"row_heading level0 row11\" >11</th>\n",
       "      <td id=\"T_268d0_row11_col0\" class=\"data row11 col0\" >comment.improve_1_comment</td>\n",
       "    </tr>\n",
       "    <tr>\n",
       "      <th id=\"T_268d0_level0_row12\" class=\"row_heading level0 row12\" >12</th>\n",
       "      <td id=\"T_268d0_row12_col0\" class=\"data row12 col0\" >comment.improve_2_comment</td>\n",
       "    </tr>\n",
       "    <tr>\n",
       "      <th id=\"T_268d0_level0_row13\" class=\"row_heading level0 row13\" >13</th>\n",
       "      <td id=\"T_268d0_row13_col0\" class=\"data row13 col0\" >comment.recommend_comment</td>\n",
       "    </tr>\n",
       "    <tr>\n",
       "      <th id=\"T_268d0_level0_row14\" class=\"row_heading level0 row14\" >14</th>\n",
       "      <td id=\"T_268d0_row14_col0\" class=\"data row14 col0\" >comment.satisfied_0_comment</td>\n",
       "    </tr>\n",
       "    <tr>\n",
       "      <th id=\"T_268d0_level0_row15\" class=\"row_heading level0 row15\" >15</th>\n",
       "      <td id=\"T_268d0_row15_col0\" class=\"data row15 col0\" >comment.satisfied_1_comment</td>\n",
       "    </tr>\n",
       "    <tr>\n",
       "      <th id=\"T_268d0_level0_row16\" class=\"row_heading level0 row16\" >16</th>\n",
       "      <td id=\"T_268d0_row16_col0\" class=\"data row16 col0\" >comment.satisfied_2_comment</td>\n",
       "    </tr>\n",
       "    <tr>\n",
       "      <th id=\"T_268d0_level0_row17\" class=\"row_heading level0 row17\" >17</th>\n",
       "      <td id=\"T_268d0_row17_col0\" class=\"data row17 col0\" >generated_tokens.improve_0_generated_tokens</td>\n",
       "    </tr>\n",
       "    <tr>\n",
       "      <th id=\"T_268d0_level0_row18\" class=\"row_heading level0 row18\" >18</th>\n",
       "      <td id=\"T_268d0_row18_col0\" class=\"data row18 col0\" >generated_tokens.improve_1_generated_tokens</td>\n",
       "    </tr>\n",
       "    <tr>\n",
       "      <th id=\"T_268d0_level0_row19\" class=\"row_heading level0 row19\" >19</th>\n",
       "      <td id=\"T_268d0_row19_col0\" class=\"data row19 col0\" >generated_tokens.improve_2_generated_tokens</td>\n",
       "    </tr>\n",
       "    <tr>\n",
       "      <th id=\"T_268d0_level0_row20\" class=\"row_heading level0 row20\" >20</th>\n",
       "      <td id=\"T_268d0_row20_col0\" class=\"data row20 col0\" >generated_tokens.recommend_generated_tokens</td>\n",
       "    </tr>\n",
       "    <tr>\n",
       "      <th id=\"T_268d0_level0_row21\" class=\"row_heading level0 row21\" >21</th>\n",
       "      <td id=\"T_268d0_row21_col0\" class=\"data row21 col0\" >generated_tokens.satisfied_0_generated_tokens</td>\n",
       "    </tr>\n",
       "    <tr>\n",
       "      <th id=\"T_268d0_level0_row22\" class=\"row_heading level0 row22\" >22</th>\n",
       "      <td id=\"T_268d0_row22_col0\" class=\"data row22 col0\" >generated_tokens.satisfied_1_generated_tokens</td>\n",
       "    </tr>\n",
       "    <tr>\n",
       "      <th id=\"T_268d0_level0_row23\" class=\"row_heading level0 row23\" >23</th>\n",
       "      <td id=\"T_268d0_row23_col0\" class=\"data row23 col0\" >generated_tokens.satisfied_2_generated_tokens</td>\n",
       "    </tr>\n",
       "    <tr>\n",
       "      <th id=\"T_268d0_level0_row24\" class=\"row_heading level0 row24\" >24</th>\n",
       "      <td id=\"T_268d0_row24_col0\" class=\"data row24 col0\" >iteration.iteration</td>\n",
       "    </tr>\n",
       "    <tr>\n",
       "      <th id=\"T_268d0_level0_row25\" class=\"row_heading level0 row25\" >25</th>\n",
       "      <td id=\"T_268d0_row25_col0\" class=\"data row25 col0\" >model.frequency_penalty</td>\n",
       "    </tr>\n",
       "    <tr>\n",
       "      <th id=\"T_268d0_level0_row26\" class=\"row_heading level0 row26\" >26</th>\n",
       "      <td id=\"T_268d0_row26_col0\" class=\"data row26 col0\" >model.logprobs</td>\n",
       "    </tr>\n",
       "    <tr>\n",
       "      <th id=\"T_268d0_level0_row27\" class=\"row_heading level0 row27\" >27</th>\n",
       "      <td id=\"T_268d0_row27_col0\" class=\"data row27 col0\" >model.maxOutputTokens</td>\n",
       "    </tr>\n",
       "    <tr>\n",
       "      <th id=\"T_268d0_level0_row28\" class=\"row_heading level0 row28\" >28</th>\n",
       "      <td id=\"T_268d0_row28_col0\" class=\"data row28 col0\" >model.max_tokens</td>\n",
       "    </tr>\n",
       "    <tr>\n",
       "      <th id=\"T_268d0_level0_row29\" class=\"row_heading level0 row29\" >29</th>\n",
       "      <td id=\"T_268d0_row29_col0\" class=\"data row29 col0\" >model.model</td>\n",
       "    </tr>\n",
       "    <tr>\n",
       "      <th id=\"T_268d0_level0_row30\" class=\"row_heading level0 row30\" >30</th>\n",
       "      <td id=\"T_268d0_row30_col0\" class=\"data row30 col0\" >model.presence_penalty</td>\n",
       "    </tr>\n",
       "    <tr>\n",
       "      <th id=\"T_268d0_level0_row31\" class=\"row_heading level0 row31\" >31</th>\n",
       "      <td id=\"T_268d0_row31_col0\" class=\"data row31 col0\" >model.stopSequences</td>\n",
       "    </tr>\n",
       "    <tr>\n",
       "      <th id=\"T_268d0_level0_row32\" class=\"row_heading level0 row32\" >32</th>\n",
       "      <td id=\"T_268d0_row32_col0\" class=\"data row32 col0\" >model.temperature</td>\n",
       "    </tr>\n",
       "    <tr>\n",
       "      <th id=\"T_268d0_level0_row33\" class=\"row_heading level0 row33\" >33</th>\n",
       "      <td id=\"T_268d0_row33_col0\" class=\"data row33 col0\" >model.topK</td>\n",
       "    </tr>\n",
       "    <tr>\n",
       "      <th id=\"T_268d0_level0_row34\" class=\"row_heading level0 row34\" >34</th>\n",
       "      <td id=\"T_268d0_row34_col0\" class=\"data row34 col0\" >model.topP</td>\n",
       "    </tr>\n",
       "    <tr>\n",
       "      <th id=\"T_268d0_level0_row35\" class=\"row_heading level0 row35\" >35</th>\n",
       "      <td id=\"T_268d0_row35_col0\" class=\"data row35 col0\" >model.top_logprobs</td>\n",
       "    </tr>\n",
       "    <tr>\n",
       "      <th id=\"T_268d0_level0_row36\" class=\"row_heading level0 row36\" >36</th>\n",
       "      <td id=\"T_268d0_row36_col0\" class=\"data row36 col0\" >model.top_p</td>\n",
       "    </tr>\n",
       "    <tr>\n",
       "      <th id=\"T_268d0_level0_row37\" class=\"row_heading level0 row37\" >37</th>\n",
       "      <td id=\"T_268d0_row37_col0\" class=\"data row37 col0\" >prompt.improve_0_system_prompt</td>\n",
       "    </tr>\n",
       "    <tr>\n",
       "      <th id=\"T_268d0_level0_row38\" class=\"row_heading level0 row38\" >38</th>\n",
       "      <td id=\"T_268d0_row38_col0\" class=\"data row38 col0\" >prompt.improve_0_user_prompt</td>\n",
       "    </tr>\n",
       "    <tr>\n",
       "      <th id=\"T_268d0_level0_row39\" class=\"row_heading level0 row39\" >39</th>\n",
       "      <td id=\"T_268d0_row39_col0\" class=\"data row39 col0\" >prompt.improve_1_system_prompt</td>\n",
       "    </tr>\n",
       "    <tr>\n",
       "      <th id=\"T_268d0_level0_row40\" class=\"row_heading level0 row40\" >40</th>\n",
       "      <td id=\"T_268d0_row40_col0\" class=\"data row40 col0\" >prompt.improve_1_user_prompt</td>\n",
       "    </tr>\n",
       "    <tr>\n",
       "      <th id=\"T_268d0_level0_row41\" class=\"row_heading level0 row41\" >41</th>\n",
       "      <td id=\"T_268d0_row41_col0\" class=\"data row41 col0\" >prompt.improve_2_system_prompt</td>\n",
       "    </tr>\n",
       "    <tr>\n",
       "      <th id=\"T_268d0_level0_row42\" class=\"row_heading level0 row42\" >42</th>\n",
       "      <td id=\"T_268d0_row42_col0\" class=\"data row42 col0\" >prompt.improve_2_user_prompt</td>\n",
       "    </tr>\n",
       "    <tr>\n",
       "      <th id=\"T_268d0_level0_row43\" class=\"row_heading level0 row43\" >43</th>\n",
       "      <td id=\"T_268d0_row43_col0\" class=\"data row43 col0\" >prompt.recommend_system_prompt</td>\n",
       "    </tr>\n",
       "    <tr>\n",
       "      <th id=\"T_268d0_level0_row44\" class=\"row_heading level0 row44\" >44</th>\n",
       "      <td id=\"T_268d0_row44_col0\" class=\"data row44 col0\" >prompt.recommend_user_prompt</td>\n",
       "    </tr>\n",
       "    <tr>\n",
       "      <th id=\"T_268d0_level0_row45\" class=\"row_heading level0 row45\" >45</th>\n",
       "      <td id=\"T_268d0_row45_col0\" class=\"data row45 col0\" >prompt.satisfied_0_system_prompt</td>\n",
       "    </tr>\n",
       "    <tr>\n",
       "      <th id=\"T_268d0_level0_row46\" class=\"row_heading level0 row46\" >46</th>\n",
       "      <td id=\"T_268d0_row46_col0\" class=\"data row46 col0\" >prompt.satisfied_0_user_prompt</td>\n",
       "    </tr>\n",
       "    <tr>\n",
       "      <th id=\"T_268d0_level0_row47\" class=\"row_heading level0 row47\" >47</th>\n",
       "      <td id=\"T_268d0_row47_col0\" class=\"data row47 col0\" >prompt.satisfied_1_system_prompt</td>\n",
       "    </tr>\n",
       "    <tr>\n",
       "      <th id=\"T_268d0_level0_row48\" class=\"row_heading level0 row48\" >48</th>\n",
       "      <td id=\"T_268d0_row48_col0\" class=\"data row48 col0\" >prompt.satisfied_1_user_prompt</td>\n",
       "    </tr>\n",
       "    <tr>\n",
       "      <th id=\"T_268d0_level0_row49\" class=\"row_heading level0 row49\" >49</th>\n",
       "      <td id=\"T_268d0_row49_col0\" class=\"data row49 col0\" >prompt.satisfied_2_system_prompt</td>\n",
       "    </tr>\n",
       "    <tr>\n",
       "      <th id=\"T_268d0_level0_row50\" class=\"row_heading level0 row50\" >50</th>\n",
       "      <td id=\"T_268d0_row50_col0\" class=\"data row50 col0\" >prompt.satisfied_2_user_prompt</td>\n",
       "    </tr>\n",
       "    <tr>\n",
       "      <th id=\"T_268d0_level0_row51\" class=\"row_heading level0 row51\" >51</th>\n",
       "      <td id=\"T_268d0_row51_col0\" class=\"data row51 col0\" >question_options.improve_0_question_options</td>\n",
       "    </tr>\n",
       "    <tr>\n",
       "      <th id=\"T_268d0_level0_row52\" class=\"row_heading level0 row52\" >52</th>\n",
       "      <td id=\"T_268d0_row52_col0\" class=\"data row52 col0\" >question_options.improve_1_question_options</td>\n",
       "    </tr>\n",
       "    <tr>\n",
       "      <th id=\"T_268d0_level0_row53\" class=\"row_heading level0 row53\" >53</th>\n",
       "      <td id=\"T_268d0_row53_col0\" class=\"data row53 col0\" >question_options.improve_2_question_options</td>\n",
       "    </tr>\n",
       "    <tr>\n",
       "      <th id=\"T_268d0_level0_row54\" class=\"row_heading level0 row54\" >54</th>\n",
       "      <td id=\"T_268d0_row54_col0\" class=\"data row54 col0\" >question_options.recommend_question_options</td>\n",
       "    </tr>\n",
       "    <tr>\n",
       "      <th id=\"T_268d0_level0_row55\" class=\"row_heading level0 row55\" >55</th>\n",
       "      <td id=\"T_268d0_row55_col0\" class=\"data row55 col0\" >question_options.satisfied_0_question_options</td>\n",
       "    </tr>\n",
       "    <tr>\n",
       "      <th id=\"T_268d0_level0_row56\" class=\"row_heading level0 row56\" >56</th>\n",
       "      <td id=\"T_268d0_row56_col0\" class=\"data row56 col0\" >question_options.satisfied_1_question_options</td>\n",
       "    </tr>\n",
       "    <tr>\n",
       "      <th id=\"T_268d0_level0_row57\" class=\"row_heading level0 row57\" >57</th>\n",
       "      <td id=\"T_268d0_row57_col0\" class=\"data row57 col0\" >question_options.satisfied_2_question_options</td>\n",
       "    </tr>\n",
       "    <tr>\n",
       "      <th id=\"T_268d0_level0_row58\" class=\"row_heading level0 row58\" >58</th>\n",
       "      <td id=\"T_268d0_row58_col0\" class=\"data row58 col0\" >question_text.improve_0_question_text</td>\n",
       "    </tr>\n",
       "    <tr>\n",
       "      <th id=\"T_268d0_level0_row59\" class=\"row_heading level0 row59\" >59</th>\n",
       "      <td id=\"T_268d0_row59_col0\" class=\"data row59 col0\" >question_text.improve_1_question_text</td>\n",
       "    </tr>\n",
       "    <tr>\n",
       "      <th id=\"T_268d0_level0_row60\" class=\"row_heading level0 row60\" >60</th>\n",
       "      <td id=\"T_268d0_row60_col0\" class=\"data row60 col0\" >question_text.improve_2_question_text</td>\n",
       "    </tr>\n",
       "    <tr>\n",
       "      <th id=\"T_268d0_level0_row61\" class=\"row_heading level0 row61\" >61</th>\n",
       "      <td id=\"T_268d0_row61_col0\" class=\"data row61 col0\" >question_text.recommend_question_text</td>\n",
       "    </tr>\n",
       "    <tr>\n",
       "      <th id=\"T_268d0_level0_row62\" class=\"row_heading level0 row62\" >62</th>\n",
       "      <td id=\"T_268d0_row62_col0\" class=\"data row62 col0\" >question_text.satisfied_0_question_text</td>\n",
       "    </tr>\n",
       "    <tr>\n",
       "      <th id=\"T_268d0_level0_row63\" class=\"row_heading level0 row63\" >63</th>\n",
       "      <td id=\"T_268d0_row63_col0\" class=\"data row63 col0\" >question_text.satisfied_1_question_text</td>\n",
       "    </tr>\n",
       "    <tr>\n",
       "      <th id=\"T_268d0_level0_row64\" class=\"row_heading level0 row64\" >64</th>\n",
       "      <td id=\"T_268d0_row64_col0\" class=\"data row64 col0\" >question_text.satisfied_2_question_text</td>\n",
       "    </tr>\n",
       "    <tr>\n",
       "      <th id=\"T_268d0_level0_row65\" class=\"row_heading level0 row65\" >65</th>\n",
       "      <td id=\"T_268d0_row65_col0\" class=\"data row65 col0\" >question_type.improve_0_question_type</td>\n",
       "    </tr>\n",
       "    <tr>\n",
       "      <th id=\"T_268d0_level0_row66\" class=\"row_heading level0 row66\" >66</th>\n",
       "      <td id=\"T_268d0_row66_col0\" class=\"data row66 col0\" >question_type.improve_1_question_type</td>\n",
       "    </tr>\n",
       "    <tr>\n",
       "      <th id=\"T_268d0_level0_row67\" class=\"row_heading level0 row67\" >67</th>\n",
       "      <td id=\"T_268d0_row67_col0\" class=\"data row67 col0\" >question_type.improve_2_question_type</td>\n",
       "    </tr>\n",
       "    <tr>\n",
       "      <th id=\"T_268d0_level0_row68\" class=\"row_heading level0 row68\" >68</th>\n",
       "      <td id=\"T_268d0_row68_col0\" class=\"data row68 col0\" >question_type.recommend_question_type</td>\n",
       "    </tr>\n",
       "    <tr>\n",
       "      <th id=\"T_268d0_level0_row69\" class=\"row_heading level0 row69\" >69</th>\n",
       "      <td id=\"T_268d0_row69_col0\" class=\"data row69 col0\" >question_type.satisfied_0_question_type</td>\n",
       "    </tr>\n",
       "    <tr>\n",
       "      <th id=\"T_268d0_level0_row70\" class=\"row_heading level0 row70\" >70</th>\n",
       "      <td id=\"T_268d0_row70_col0\" class=\"data row70 col0\" >question_type.satisfied_1_question_type</td>\n",
       "    </tr>\n",
       "    <tr>\n",
       "      <th id=\"T_268d0_level0_row71\" class=\"row_heading level0 row71\" >71</th>\n",
       "      <td id=\"T_268d0_row71_col0\" class=\"data row71 col0\" >question_type.satisfied_2_question_type</td>\n",
       "    </tr>\n",
       "    <tr>\n",
       "      <th id=\"T_268d0_level0_row72\" class=\"row_heading level0 row72\" >72</th>\n",
       "      <td id=\"T_268d0_row72_col0\" class=\"data row72 col0\" >raw_model_response.improve_0_cost</td>\n",
       "    </tr>\n",
       "    <tr>\n",
       "      <th id=\"T_268d0_level0_row73\" class=\"row_heading level0 row73\" >73</th>\n",
       "      <td id=\"T_268d0_row73_col0\" class=\"data row73 col0\" >raw_model_response.improve_0_one_usd_buys</td>\n",
       "    </tr>\n",
       "    <tr>\n",
       "      <th id=\"T_268d0_level0_row74\" class=\"row_heading level0 row74\" >74</th>\n",
       "      <td id=\"T_268d0_row74_col0\" class=\"data row74 col0\" >raw_model_response.improve_0_raw_model_response</td>\n",
       "    </tr>\n",
       "    <tr>\n",
       "      <th id=\"T_268d0_level0_row75\" class=\"row_heading level0 row75\" >75</th>\n",
       "      <td id=\"T_268d0_row75_col0\" class=\"data row75 col0\" >raw_model_response.improve_1_cost</td>\n",
       "    </tr>\n",
       "    <tr>\n",
       "      <th id=\"T_268d0_level0_row76\" class=\"row_heading level0 row76\" >76</th>\n",
       "      <td id=\"T_268d0_row76_col0\" class=\"data row76 col0\" >raw_model_response.improve_1_one_usd_buys</td>\n",
       "    </tr>\n",
       "    <tr>\n",
       "      <th id=\"T_268d0_level0_row77\" class=\"row_heading level0 row77\" >77</th>\n",
       "      <td id=\"T_268d0_row77_col0\" class=\"data row77 col0\" >raw_model_response.improve_1_raw_model_response</td>\n",
       "    </tr>\n",
       "    <tr>\n",
       "      <th id=\"T_268d0_level0_row78\" class=\"row_heading level0 row78\" >78</th>\n",
       "      <td id=\"T_268d0_row78_col0\" class=\"data row78 col0\" >raw_model_response.improve_2_cost</td>\n",
       "    </tr>\n",
       "    <tr>\n",
       "      <th id=\"T_268d0_level0_row79\" class=\"row_heading level0 row79\" >79</th>\n",
       "      <td id=\"T_268d0_row79_col0\" class=\"data row79 col0\" >raw_model_response.improve_2_one_usd_buys</td>\n",
       "    </tr>\n",
       "    <tr>\n",
       "      <th id=\"T_268d0_level0_row80\" class=\"row_heading level0 row80\" >80</th>\n",
       "      <td id=\"T_268d0_row80_col0\" class=\"data row80 col0\" >raw_model_response.improve_2_raw_model_response</td>\n",
       "    </tr>\n",
       "    <tr>\n",
       "      <th id=\"T_268d0_level0_row81\" class=\"row_heading level0 row81\" >81</th>\n",
       "      <td id=\"T_268d0_row81_col0\" class=\"data row81 col0\" >raw_model_response.recommend_cost</td>\n",
       "    </tr>\n",
       "    <tr>\n",
       "      <th id=\"T_268d0_level0_row82\" class=\"row_heading level0 row82\" >82</th>\n",
       "      <td id=\"T_268d0_row82_col0\" class=\"data row82 col0\" >raw_model_response.recommend_one_usd_buys</td>\n",
       "    </tr>\n",
       "    <tr>\n",
       "      <th id=\"T_268d0_level0_row83\" class=\"row_heading level0 row83\" >83</th>\n",
       "      <td id=\"T_268d0_row83_col0\" class=\"data row83 col0\" >raw_model_response.recommend_raw_model_response</td>\n",
       "    </tr>\n",
       "    <tr>\n",
       "      <th id=\"T_268d0_level0_row84\" class=\"row_heading level0 row84\" >84</th>\n",
       "      <td id=\"T_268d0_row84_col0\" class=\"data row84 col0\" >raw_model_response.satisfied_0_cost</td>\n",
       "    </tr>\n",
       "    <tr>\n",
       "      <th id=\"T_268d0_level0_row85\" class=\"row_heading level0 row85\" >85</th>\n",
       "      <td id=\"T_268d0_row85_col0\" class=\"data row85 col0\" >raw_model_response.satisfied_0_one_usd_buys</td>\n",
       "    </tr>\n",
       "    <tr>\n",
       "      <th id=\"T_268d0_level0_row86\" class=\"row_heading level0 row86\" >86</th>\n",
       "      <td id=\"T_268d0_row86_col0\" class=\"data row86 col0\" >raw_model_response.satisfied_0_raw_model_response</td>\n",
       "    </tr>\n",
       "    <tr>\n",
       "      <th id=\"T_268d0_level0_row87\" class=\"row_heading level0 row87\" >87</th>\n",
       "      <td id=\"T_268d0_row87_col0\" class=\"data row87 col0\" >raw_model_response.satisfied_1_cost</td>\n",
       "    </tr>\n",
       "    <tr>\n",
       "      <th id=\"T_268d0_level0_row88\" class=\"row_heading level0 row88\" >88</th>\n",
       "      <td id=\"T_268d0_row88_col0\" class=\"data row88 col0\" >raw_model_response.satisfied_1_one_usd_buys</td>\n",
       "    </tr>\n",
       "    <tr>\n",
       "      <th id=\"T_268d0_level0_row89\" class=\"row_heading level0 row89\" >89</th>\n",
       "      <td id=\"T_268d0_row89_col0\" class=\"data row89 col0\" >raw_model_response.satisfied_1_raw_model_response</td>\n",
       "    </tr>\n",
       "    <tr>\n",
       "      <th id=\"T_268d0_level0_row90\" class=\"row_heading level0 row90\" >90</th>\n",
       "      <td id=\"T_268d0_row90_col0\" class=\"data row90 col0\" >raw_model_response.satisfied_2_cost</td>\n",
       "    </tr>\n",
       "    <tr>\n",
       "      <th id=\"T_268d0_level0_row91\" class=\"row_heading level0 row91\" >91</th>\n",
       "      <td id=\"T_268d0_row91_col0\" class=\"data row91 col0\" >raw_model_response.satisfied_2_one_usd_buys</td>\n",
       "    </tr>\n",
       "    <tr>\n",
       "      <th id=\"T_268d0_level0_row92\" class=\"row_heading level0 row92\" >92</th>\n",
       "      <td id=\"T_268d0_row92_col0\" class=\"data row92 col0\" >raw_model_response.satisfied_2_raw_model_response</td>\n",
       "    </tr>\n",
       "  </tbody>\n",
       "</table>\n",
       "\n",
       "            </div>\n",
       "            "
      ],
      "text/plain": [
       "PrettyList(['agent.agent_instruction',\n",
       "            'agent.agent_name',\n",
       "            'agent.persona',\n",
       "            'answer.improve_0',\n",
       "            'answer.improve_1',\n",
       "            'answer.improve_2',\n",
       "            'answer.recommend',\n",
       "            'answer.satisfied_0',\n",
       "            'answer.satisfied_1',\n",
       "            'answer.satisfied_2',\n",
       "            'comment.improve_0_comment',\n",
       "            'comment.improve_1_comment',\n",
       "            'comment.improve_2_comment',\n",
       "            'comment.recommend_comment',\n",
       "            'comment.satisfied_0_comment',\n",
       "            'comment.satisfied_1_comment',\n",
       "            'comment.satisfied_2_comment',\n",
       "            'generated_tokens.improve_0_generated_tokens',\n",
       "            'generated_tokens.improve_1_generated_tokens',\n",
       "            'generated_tokens.improve_2_generated_tokens',\n",
       "            'generated_tokens.recommend_generated_tokens',\n",
       "            'generated_tokens.satisfied_0_generated_tokens',\n",
       "            'generated_tokens.satisfied_1_generated_tokens',\n",
       "            'generated_tokens.satisfied_2_generated_tokens',\n",
       "            'iteration.iteration',\n",
       "            'model.frequency_penalty',\n",
       "            'model.logprobs',\n",
       "            'model.maxOutputTokens',\n",
       "            'model.max_tokens',\n",
       "            'model.model',\n",
       "            'model.presence_penalty',\n",
       "            'model.stopSequences',\n",
       "            'model.temperature',\n",
       "            'model.topK',\n",
       "            'model.topP',\n",
       "            'model.top_logprobs',\n",
       "            'model.top_p',\n",
       "            'prompt.improve_0_system_prompt',\n",
       "            'prompt.improve_0_user_prompt',\n",
       "            'prompt.improve_1_system_prompt',\n",
       "            'prompt.improve_1_user_prompt',\n",
       "            'prompt.improve_2_system_prompt',\n",
       "            'prompt.improve_2_user_prompt',\n",
       "            'prompt.recommend_system_prompt',\n",
       "            'prompt.recommend_user_prompt',\n",
       "            'prompt.satisfied_0_system_prompt',\n",
       "            'prompt.satisfied_0_user_prompt',\n",
       "            'prompt.satisfied_1_system_prompt',\n",
       "            'prompt.satisfied_1_user_prompt',\n",
       "            'prompt.satisfied_2_system_prompt',\n",
       "            'prompt.satisfied_2_user_prompt',\n",
       "            'question_options.improve_0_question_options',\n",
       "            'question_options.improve_1_question_options',\n",
       "            'question_options.improve_2_question_options',\n",
       "            'question_options.recommend_question_options',\n",
       "            'question_options.satisfied_0_question_options',\n",
       "            'question_options.satisfied_1_question_options',\n",
       "            'question_options.satisfied_2_question_options',\n",
       "            'question_text.improve_0_question_text',\n",
       "            'question_text.improve_1_question_text',\n",
       "            'question_text.improve_2_question_text',\n",
       "            'question_text.recommend_question_text',\n",
       "            'question_text.satisfied_0_question_text',\n",
       "            'question_text.satisfied_1_question_text',\n",
       "            'question_text.satisfied_2_question_text',\n",
       "            'question_type.improve_0_question_type',\n",
       "            'question_type.improve_1_question_type',\n",
       "            'question_type.improve_2_question_type',\n",
       "            'question_type.recommend_question_type',\n",
       "            'question_type.satisfied_0_question_type',\n",
       "            'question_type.satisfied_1_question_type',\n",
       "            'question_type.satisfied_2_question_type',\n",
       "            'raw_model_response.improve_0_cost',\n",
       "            'raw_model_response.improve_0_one_usd_buys',\n",
       "            'raw_model_response.improve_0_raw_model_response',\n",
       "            'raw_model_response.improve_1_cost',\n",
       "            'raw_model_response.improve_1_one_usd_buys',\n",
       "            'raw_model_response.improve_1_raw_model_response',\n",
       "            'raw_model_response.improve_2_cost',\n",
       "            'raw_model_response.improve_2_one_usd_buys',\n",
       "            'raw_model_response.improve_2_raw_model_response',\n",
       "            'raw_model_response.recommend_cost',\n",
       "            'raw_model_response.recommend_one_usd_buys',\n",
       "            'raw_model_response.recommend_raw_model_response',\n",
       "            'raw_model_response.satisfied_0_cost',\n",
       "            'raw_model_response.satisfied_0_one_usd_buys',\n",
       "            'raw_model_response.satisfied_0_raw_model_response',\n",
       "            'raw_model_response.satisfied_1_cost',\n",
       "            'raw_model_response.satisfied_1_one_usd_buys',\n",
       "            'raw_model_response.satisfied_1_raw_model_response',\n",
       "            'raw_model_response.satisfied_2_cost',\n",
       "            'raw_model_response.satisfied_2_one_usd_buys',\n",
       "            'raw_model_response.satisfied_2_raw_model_response'])"
      ]
     },
     "execution_count": 29,
     "metadata": {},
     "output_type": "execute_result"
    }
   ],
   "source": [
    "results.columns"
   ]
  },
  {
   "cell_type": "markdown",
   "id": "1eecb71f-e3b3-44c0-8a8d-bdf83664f5f1",
   "metadata": {
    "editable": true,
    "slideshow": {
     "slide_type": ""
    },
    "tags": []
   },
   "source": [
    "For example, we can filter, sort and display columns of results in a table:"
   ]
  },
  {
   "cell_type": "code",
   "execution_count": 31,
   "id": "aa966334-0736-4876-bfd8-a3f854f19d0b",
   "metadata": {
    "editable": true,
    "slideshow": {
     "slide_type": ""
    },
    "tags": []
   },
   "outputs": [
    {
     "data": {
      "text/html": [
       "\n",
       "            <div style=\"max-height: 500px; overflow-y: auto;\">\n",
       "                <style type=\"text/css\">\n",
       "#T_f2b5d_row0_col0, #T_f2b5d_row0_col1, #T_f2b5d_row0_col3, #T_f2b5d_row1_col0, #T_f2b5d_row1_col1, #T_f2b5d_row1_col3, #T_f2b5d_row2_col0, #T_f2b5d_row2_col1, #T_f2b5d_row2_col3, #T_f2b5d_row3_col0, #T_f2b5d_row3_col1, #T_f2b5d_row3_col3, #T_f2b5d_row4_col0, #T_f2b5d_row4_col1, #T_f2b5d_row4_col3 {\n",
       "  text-align: left;\n",
       "}\n",
       "#T_f2b5d_row0_col2, #T_f2b5d_row1_col2 {\n",
       "  text-align: left;\n",
       "  background-color: #023858;\n",
       "  color: #f1f1f1;\n",
       "}\n",
       "#T_f2b5d_row2_col2 {\n",
       "  text-align: left;\n",
       "  background-color: #358fc0;\n",
       "  color: #f1f1f1;\n",
       "}\n",
       "#T_f2b5d_row3_col2 {\n",
       "  text-align: left;\n",
       "  background-color: #ece7f2;\n",
       "  color: #000000;\n",
       "}\n",
       "#T_f2b5d_row4_col2 {\n",
       "  text-align: left;\n",
       "  background-color: #fff7fb;\n",
       "  color: #000000;\n",
       "}\n",
       "</style>\n",
       "<table id=\"T_f2b5d\">\n",
       "  <thead>\n",
       "    <tr>\n",
       "      <th class=\"blank level0\" >&nbsp;</th>\n",
       "      <th id=\"T_f2b5d_level0_col0\" class=\"col_heading level0 col0\" >model.model</th>\n",
       "      <th id=\"T_f2b5d_level0_col1\" class=\"col_heading level0 col1\" >agent.persona</th>\n",
       "      <th id=\"T_f2b5d_level0_col2\" class=\"col_heading level0 col2\" >answer.recommend</th>\n",
       "      <th id=\"T_f2b5d_level0_col3\" class=\"col_heading level0 col3\" >comment.recommend_comment</th>\n",
       "    </tr>\n",
       "  </thead>\n",
       "  <tbody>\n",
       "    <tr>\n",
       "      <th id=\"T_f2b5d_level0_row0\" class=\"row_heading level0 row0\" >0</th>\n",
       "      <td id=\"T_f2b5d_row0_col0\" class=\"data row0 col0\" >gemini-1.5-flash</td>\n",
       "      <td id=\"T_f2b5d_row0_col1\" class=\"data row0 col1\" >John, a retired veteran who loves his garden and is highly satisfied with the personalized service</td>\n",
       "      <td id=\"T_f2b5d_row0_col2\" class=\"data row0 col2\" >10</td>\n",
       "      <td id=\"T_f2b5d_row0_col3\" class=\"data row0 col3\" >Honestly, I've been so pleased with the personalized attention I've received.  It's a breath of fresh air compared to the usual impersonal corporate stuff.  Wouldn't hesitate to recommend you to anyone.</td>\n",
       "    </tr>\n",
       "    <tr>\n",
       "      <th id=\"T_f2b5d_level0_row1\" class=\"row_heading level0 row1\" >1</th>\n",
       "      <td id=\"T_f2b5d_row1_col0\" class=\"data row1 col0\" >gemini-1.5-flash</td>\n",
       "      <td id=\"T_f2b5d_row1_col1\" class=\"data row1 col1\" >Maria, a single mother who is very satisfied with the affordable pricing and flexible payment plans</td>\n",
       "      <td id=\"T_f2b5d_row1_col2\" class=\"data row1 col2\" >10</td>\n",
       "      <td id=\"T_f2b5d_row1_col3\" class=\"data row1 col3\" >Honestly, I'd give you guys a 10 out of 10!  As a single mom, being able to afford things and having flexible payment options is a lifesaver.  I really appreciate it.</td>\n",
       "    </tr>\n",
       "    <tr>\n",
       "      <th id=\"T_f2b5d_level0_row2\" class=\"row_heading level0 row2\" >2</th>\n",
       "      <td id=\"T_f2b5d_row2_col0\" class=\"data row2 col0\" >gemini-1.5-flash</td>\n",
       "      <td id=\"T_f2b5d_row2_col1\" class=\"data row2 col1\" >Emily, a busy professional who is moderately satisfied but wishes for more eco-friendly options</td>\n",
       "      <td id=\"T_f2b5d_row2_col2\" class=\"data row2 col2\" >7</td>\n",
       "      <td id=\"T_f2b5d_row2_col3\" class=\"data row2 col3\" >Honestly, I've been pretty happy with your services so far.  They've gotten the job done, but I do wish there were more sustainable options available.  That's my main hesitation.</td>\n",
       "    </tr>\n",
       "    <tr>\n",
       "      <th id=\"T_f2b5d_level0_row3\" class=\"row_heading level0 row3\" >3</th>\n",
       "      <td id=\"T_f2b5d_row3_col0\" class=\"data row3 col0\" >gemini-1.5-flash</td>\n",
       "      <td id=\"T_f2b5d_row3_col1\" class=\"data row3 col1\" >Raj, a young tech entrepreneur who is dissatisfied due to inconsistent appointment scheduling</td>\n",
       "      <td id=\"T_f2b5d_row3_col2\" class=\"data row3 col2\" >3</td>\n",
       "      <td id=\"T_f2b5d_row3_col3\" class=\"data row3 col3\" >Honestly, the constant rescheduling is driving me crazy.  I *want* to like your company – the product itself is great – but the unreliable appointments are a huge negative.  It's just too much hassle.</td>\n",
       "    </tr>\n",
       "    <tr>\n",
       "      <th id=\"T_f2b5d_level0_row4\" class=\"row_heading level0 row4\" >4</th>\n",
       "      <td id=\"T_f2b5d_row4_col0\" class=\"data row4 col0\" >gemini-1.5-flash</td>\n",
       "      <td id=\"T_f2b5d_row4_col1\" class=\"data row4 col1\" >Grace, an elderly woman who is dissatisfied because of slow response times to her queries</td>\n",
       "      <td id=\"T_f2b5d_row4_col2\" class=\"data row4 col2\" >2</td>\n",
       "      <td id=\"T_f2b5d_row4_col3\" class=\"data row4 col3\" >Honestly, I'm finding it terribly difficult to even get a simple question answered.  The wait times are just inexcusable.  I'm not sure I'd want to put a friend through that.</td>\n",
       "    </tr>\n",
       "  </tbody>\n",
       "</table>\n",
       "\n",
       "            </div>\n",
       "            "
      ],
      "text/plain": [
       "Dataset([{'model.model': ['gemini-1.5-flash', 'gemini-1.5-flash', 'gemini-1.5-flash', 'gemini-1.5-flash', 'gemini-1.5-flash']}, {'agent.persona': ['John, a retired veteran who loves his garden and is highly satisfied with the personalized service', 'Maria, a single mother who is very satisfied with the affordable pricing and flexible payment plans', 'Emily, a busy professional who is moderately satisfied but wishes for more eco-friendly options', 'Raj, a young tech entrepreneur who is dissatisfied due to inconsistent appointment scheduling', 'Grace, an elderly woman who is dissatisfied because of slow response times to her queries']}, {'answer.recommend': [10, 10, 7, 3, 2]}, {'comment.recommend_comment': [\"Honestly, I've been so pleased with the personalized attention I've received.  It's a breath of fresh air compared to the usual impersonal corporate stuff.  Wouldn't hesitate to recommend you to anyone.\", \"Honestly, I'd give you guys a 10 out of 10!  As a single mom, being able to afford things and having flexible payment options is a lifesaver.  I really appreciate it.\", \"Honestly, I've been pretty happy with your services so far.  They've gotten the job done, but I do wish there were more sustainable options available.  That's my main hesitation.\", \"Honestly, the constant rescheduling is driving me crazy.  I *want* to like your company – the product itself is great – but the unreliable appointments are a huge negative.  It's just too much hassle.\", \"Honestly, I'm finding it terribly difficult to even get a simple question answered.  The wait times are just inexcusable.  I'm not sure I'd want to put a friend through that.\"]}])"
      ]
     },
     "execution_count": 31,
     "metadata": {},
     "output_type": "execute_result"
    }
   ],
   "source": [
    "(\n",
    "    results\n",
    "    .filter(\"model.model == 'gemini-1.5-flash'\")\n",
    "    .sort_by(\"recommend\", reverse=True)\n",
    "    .select(\"model\",\"persona\",\"recommend\", \"recommend_comment\")\n",
    ")"
   ]
  },
  {
   "cell_type": "code",
   "execution_count": 32,
   "id": "4d050e1f-d498-40a8-8993-b42411b7efd5",
   "metadata": {
    "editable": true,
    "slideshow": {
     "slide_type": ""
    },
    "tags": []
   },
   "outputs": [
    {
     "data": {
      "text/html": [
       "\n",
       "            <div style=\"max-height: 500px; overflow-y: auto;\">\n",
       "                <style type=\"text/css\">\n",
       "#T_3eb85_row0_col0, #T_3eb85_row0_col1, #T_3eb85_row0_col2, #T_3eb85_row1_col0, #T_3eb85_row1_col1, #T_3eb85_row1_col2, #T_3eb85_row2_col0, #T_3eb85_row2_col1, #T_3eb85_row2_col2, #T_3eb85_row3_col0, #T_3eb85_row3_col1, #T_3eb85_row3_col2, #T_3eb85_row4_col0, #T_3eb85_row4_col1, #T_3eb85_row4_col2 {\n",
       "  text-align: left;\n",
       "}\n",
       "</style>\n",
       "<table id=\"T_3eb85\">\n",
       "  <thead>\n",
       "    <tr>\n",
       "      <th class=\"blank level0\" >&nbsp;</th>\n",
       "      <th id=\"T_3eb85_level0_col0\" class=\"col_heading level0 col0\" >answer.satisfied_0</th>\n",
       "      <th id=\"T_3eb85_level0_col1\" class=\"col_heading level0 col1\" >comment.satisfied_0_comment</th>\n",
       "      <th id=\"T_3eb85_level0_col2\" class=\"col_heading level0 col2\" >answer.improve_0</th>\n",
       "    </tr>\n",
       "  </thead>\n",
       "  <tbody>\n",
       "    <tr>\n",
       "      <th id=\"T_3eb85_level0_row0\" class=\"row_heading level0 row0\" >0</th>\n",
       "      <td id=\"T_3eb85_row0_col0\" class=\"data row0 col0\" >Extremely satisfied</td>\n",
       "      <td id=\"T_3eb85_row0_col1\" class=\"data row0 col1\" >My tomatoes have never been so plump and juicy!  The quality of your gardening supplies is top-notch, just like the personalized service I received.</td>\n",
       "      <td id=\"T_3eb85_row0_col2\" class=\"data row0 col2\" >Well, honestly,  I'm just about as happy as a clam in my garden!  The product quality was top-notch, no complaints there at all.  You guys really went above and beyond.  If I had to nitpick – and I'm really stretching here – maybe a little more detail in the initial instructions could have saved me a phone call. But that's a minor thing.  The personalized service I received made all the difference.  I felt like a valued customer, not just another number. That's what keeps me coming back, you know?  So, keep doing what you're doing!</td>\n",
       "    </tr>\n",
       "    <tr>\n",
       "      <th id=\"T_3eb85_level0_row1\" class=\"row_heading level0 row1\" >1</th>\n",
       "      <td id=\"T_3eb85_row1_col0\" class=\"data row1 col0\" >Extremely satisfied</td>\n",
       "      <td id=\"T_3eb85_row1_col1\" class=\"data row1 col1\" >Honestly, for the price, the quality is amazing!  I'm a single mom, so budgeting is everything, and I've never felt like I'm sacrificing quality for affordability.</td>\n",
       "      <td id=\"T_3eb85_row1_col2\" class=\"data row1 col2\" >Honestly?  Keeping things affordable and flexible is the biggest thing for me.  As a single mom, every penny counts.  So, if you could keep those payment plans as straightforward and easy to understand as they are now, that would be amazing.  I've never had any trouble, and that peace of mind is worth a lot.  Beyond that, I'm really happy with everything!</td>\n",
       "    </tr>\n",
       "    <tr>\n",
       "      <th id=\"T_3eb85_level0_row2\" class=\"row_heading level0 row2\" >2</th>\n",
       "      <td id=\"T_3eb85_row2_col0\" class=\"data row2 col0\" >Moderately dissatisfied</td>\n",
       "      <td id=\"T_3eb85_row2_col1\" class=\"data row2 col1\" >Honestly, the product itself is okay, but the constant rescheduling of appointments to discuss features and address bugs is a huge headache.  It impacts my ability to plan, and that frustration bleeds over into how I feel about the product as a whole.</td>\n",
       "      <td id=\"T_3eb85_row2_col2\" class=\"data row2 col2\" >Ugh, look, the product itself is okay, I'll give you that.  It's not *bad*, but it's not amazing either.  The *real* problem is scheduling.  Seriously, it's a nightmare.  One minute I'm getting an email saying my appointment's confirmed, the next it's been rescheduled, then cancelled, then rescheduled again... it's a chaotic mess.  I'm constantly having to rearrange my whole day because of your scheduling inconsistencies.  If you could just get that sorted – make the scheduling process reliable and actually *stick* to the appointments – that would drastically improve my experience.  That's way more important to me than minor tweaks to the product itself.</td>\n",
       "    </tr>\n",
       "    <tr>\n",
       "      <th id=\"T_3eb85_level0_row3\" class=\"row_heading level0 row3\" >3</th>\n",
       "      <td id=\"T_3eb85_row3_col0\" class=\"data row3 col0\" >Moderately dissatisfied</td>\n",
       "      <td id=\"T_3eb85_row3_col1\" class=\"data row3 col1\" >Honestly, the product itself is alright, but it took them *forever* to even get it to me.  That's what really soured the experience.</td>\n",
       "      <td id=\"T_3eb85_row3_col2\" class=\"data row3 col2\" >Oh, honey,  \"moderately dissatisfied\" is putting it mildly when it comes to the product quality.  Frankly, I've had to wait *ages* for even the simplest of issues to be addressed.  What I really need is faster response times.  I'm not asking for miracles, just a bit of promptness.  If a problem arises, I shouldn't have to wait weeks, or even days, to get a response.  A simple acknowledgment that my query has been received would be a start!  Then, a reasonable timeframe for a solution, not this endless waiting game.  Is that too much to ask?</td>\n",
       "    </tr>\n",
       "    <tr>\n",
       "      <th id=\"T_3eb85_level0_row4\" class=\"row_heading level0 row4\" >4</th>\n",
       "      <td id=\"T_3eb85_row4_col0\" class=\"data row4 col0\" >Moderately satisfied</td>\n",
       "      <td id=\"T_3eb85_row4_col1\" class=\"data row4 col1\" >The product quality is okay; it does what it's supposed to.  But I wish there were more sustainable options available.  I'm always looking for ways to reduce my environmental impact, and that's a factor I consider when making purchases.</td>\n",
       "      <td id=\"T_3eb85_row4_col2\" class=\"data row4 col2\" >Honestly?  I'm pretty happy with the product quality,  but I'd love to see you guys offer more sustainable packaging options.  It's something I'm increasingly thinking about, and it would really make a difference for me.  Little things, like less plastic or recycled materials, would go a long way.  I know it's probably a bigger undertaking, but it's something I'd really appreciate.</td>\n",
       "    </tr>\n",
       "  </tbody>\n",
       "</table>\n",
       "\n",
       "            </div>\n",
       "            "
      ],
      "text/plain": [
       "Dataset([{'answer.satisfied_0': ['Extremely satisfied', 'Extremely satisfied', 'Moderately dissatisfied', 'Moderately dissatisfied', 'Moderately satisfied']}, {'comment.satisfied_0_comment': ['My tomatoes have never been so plump and juicy!  The quality of your gardening supplies is top-notch, just like the personalized service I received.', \"Honestly, for the price, the quality is amazing!  I'm a single mom, so budgeting is everything, and I've never felt like I'm sacrificing quality for affordability.\", 'Honestly, the product itself is okay, but the constant rescheduling of appointments to discuss features and address bugs is a huge headache.  It impacts my ability to plan, and that frustration bleeds over into how I feel about the product as a whole.', \"Honestly, the product itself is alright, but it took them *forever* to even get it to me.  That's what really soured the experience.\", \"The product quality is okay; it does what it's supposed to.  But I wish there were more sustainable options available.  I'm always looking for ways to reduce my environmental impact, and that's a factor I consider when making purchases.\"]}, {'answer.improve_0': [\"Well, honestly,  I'm just about as happy as a clam in my garden!  The product quality was top-notch, no complaints there at all.  You guys really went above and beyond.  If I had to nitpick – and I'm really stretching here – maybe a little more detail in the initial instructions could have saved me a phone call. But that's a minor thing.  The personalized service I received made all the difference.  I felt like a valued customer, not just another number. That's what keeps me coming back, you know?  So, keep doing what you're doing!\", \"Honestly?  Keeping things affordable and flexible is the biggest thing for me.  As a single mom, every penny counts.  So, if you could keep those payment plans as straightforward and easy to understand as they are now, that would be amazing.  I've never had any trouble, and that peace of mind is worth a lot.  Beyond that, I'm really happy with everything!\", \"Ugh, look, the product itself is okay, I'll give you that.  It's not *bad*, but it's not amazing either.  The *real* problem is scheduling.  Seriously, it's a nightmare.  One minute I'm getting an email saying my appointment's confirmed, the next it's been rescheduled, then cancelled, then rescheduled again... it's a chaotic mess.  I'm constantly having to rearrange my whole day because of your scheduling inconsistencies.  If you could just get that sorted – make the scheduling process reliable and actually *stick* to the appointments – that would drastically improve my experience.  That's way more important to me than minor tweaks to the product itself.\", 'Oh, honey,  \"moderately dissatisfied\" is putting it mildly when it comes to the product quality.  Frankly, I\\'ve had to wait *ages* for even the simplest of issues to be addressed.  What I really need is faster response times.  I\\'m not asking for miracles, just a bit of promptness.  If a problem arises, I shouldn\\'t have to wait weeks, or even days, to get a response.  A simple acknowledgment that my query has been received would be a start!  Then, a reasonable timeframe for a solution, not this endless waiting game.  Is that too much to ask?', \"Honestly?  I'm pretty happy with the product quality,  but I'd love to see you guys offer more sustainable packaging options.  It's something I'm increasingly thinking about, and it would really make a difference for me.  Little things, like less plastic or recycled materials, would go a long way.  I know it's probably a bigger undertaking, but it's something I'd really appreciate.\"]}])"
      ]
     },
     "execution_count": 32,
     "metadata": {},
     "output_type": "execute_result"
    }
   ],
   "source": [
    "(\n",
    "    results\n",
    "    .filter(\"model.model == 'gemini-1.5-flash'\")\n",
    "    .sort_by(\"satisfied_0\")\n",
    "    .select(\"satisfied_0\", \"satisfied_0_comment\", \"improve_0\")\n",
    ")"
   ]
  },
  {
   "cell_type": "code",
   "execution_count": 33,
   "id": "e6980c54-b58d-474d-a64c-c7506894778d",
   "metadata": {
    "editable": true,
    "slideshow": {
     "slide_type": ""
    },
    "tags": []
   },
   "outputs": [
    {
     "data": {
      "text/html": [
       "\n",
       "            <div style=\"max-height: 500px; overflow-y: auto;\">\n",
       "                <style type=\"text/css\">\n",
       "#T_e3534_row0_col0, #T_e3534_row0_col1, #T_e3534_row0_col2, #T_e3534_row1_col0, #T_e3534_row1_col1, #T_e3534_row1_col2, #T_e3534_row2_col0, #T_e3534_row2_col1, #T_e3534_row2_col2, #T_e3534_row3_col0, #T_e3534_row3_col1, #T_e3534_row3_col2, #T_e3534_row4_col0, #T_e3534_row4_col1, #T_e3534_row4_col2 {\n",
       "  text-align: left;\n",
       "}\n",
       "</style>\n",
       "<table id=\"T_e3534\">\n",
       "  <thead>\n",
       "    <tr>\n",
       "      <th class=\"blank level0\" >&nbsp;</th>\n",
       "      <th id=\"T_e3534_level0_col0\" class=\"col_heading level0 col0\" >Customer service: satisfaction</th>\n",
       "      <th id=\"T_e3534_level0_col1\" class=\"col_heading level0 col1\" >Customer service: comment</th>\n",
       "      <th id=\"T_e3534_level0_col2\" class=\"col_heading level0 col2\" >Customer service: improvements</th>\n",
       "    </tr>\n",
       "  </thead>\n",
       "  <tbody>\n",
       "    <tr>\n",
       "      <th id=\"T_e3534_level0_row0\" class=\"row_heading level0 row0\" >0</th>\n",
       "      <td id=\"T_e3534_row0_col0\" class=\"data row0 col0\" >Extremely satisfied</td>\n",
       "      <td id=\"T_e3534_row0_col1\" class=\"data row0 col1\" >Honestly, I've been a customer for years, and the personalized service I've received, especially from customer support, has been top-notch.  They always go the extra mile, and it's a breath of fresh air in this day and age.  Makes a fella feel appreciated, you know?</td>\n",
       "      <td id=\"T_e3534_row0_col2\" class=\"data row0 col2\" >Well, now that's a thoughtful question.  Honestly, I've been so pleased with the personalized attention I've received.  It's a breath of fresh air, you know?  In this day and age, it feels like you're dealing with robots half the time.  So, to be perfectly frank, I can't think of anything specific you need to *improve*.</td>\n",
       "    </tr>\n",
       "    <tr>\n",
       "      <th id=\"T_e3534_level0_row1\" class=\"row_heading level0 row1\" >1</th>\n",
       "      <td id=\"T_e3534_row1_col0\" class=\"data row1 col0\" >Moderately satisfied</td>\n",
       "      <td id=\"T_e3534_row1_col1\" class=\"data row1 col1\" >Honestly, the customer support was fine.  They resolved my issue, but it took a few tries and a bit longer than I'd have liked.  I wish they had more eco-friendly options for contacting them, like email instead of just phone.</td>\n",
       "      <td id=\"T_e3534_row1_col2\" class=\"data row1 col2\" >Honestly?  It's a bit of a mixed bag.  Your customer support was alright – helpful enough when I needed it, but it wasn't exactly *amazing*.  What would really bump things up for me would be more eco-conscious options.  I'm always looking for companies that are doing their part for the environment, and that includes things like packaging, shipping methods, and even the overall sustainability of your products.  If you could offer more choices in that area, it would definitely make me a much happier customer.  I know it's a big ask, but it's something I'm increasingly prioritizing.</td>\n",
       "    </tr>\n",
       "    <tr>\n",
       "      <th id=\"T_e3534_level0_row2\" class=\"row_heading level0 row2\" >2</th>\n",
       "      <td id=\"T_e3534_row2_col0\" class=\"data row2 col0\" >Moderately dissatisfied</td>\n",
       "      <td id=\"T_e3534_row2_col1\" class=\"data row2 col1\" >Ugh, honestly, the appointment scheduling was a nightmare.  I had to reschedule twice because of conflicts, and the whole process felt clunky and unprofessional.  It's a shame, because the actual support I *did* get was pretty good.  But the scheduling hassle really soured the whole experience.</td>\n",
       "      <td id=\"T_e3534_row2_col2\" class=\"data row2 col2\" >Ugh, honestly?  The biggest thing is the scheduling.  It's a nightmare.  I've had appointments moved, cancelled, rescheduled... it's a total mess.  I understand things happen, but the lack of consistency and the way it's handled is incredibly frustrating.  If you could improve the reliability of appointments and maybe offer more options – like different time slots, or even a wider range of days – that would make a huge difference.  I spend way too much time just trying to *get* an appointment, let alone actually *using* your customer support.  That's time I could be spending on, you know, *actually running my business*.</td>\n",
       "    </tr>\n",
       "    <tr>\n",
       "      <th id=\"T_e3534_level0_row3\" class=\"row_heading level0 row3\" >3</th>\n",
       "      <td id=\"T_e3534_row3_col0\" class=\"data row3 col0\" >Extremely satisfied</td>\n",
       "      <td id=\"T_e3534_row3_col1\" class=\"data row3 col1\" >Honestly, as a single mom, I'm always juggling so much.  The customer support team was incredibly understanding and helpful –  they really went above and beyond to work with my schedule and payment plan.  I can't say enough good things!</td>\n",
       "      <td id=\"T_e3534_row3_col2\" class=\"data row3 col2\" >Honestly?  Keeping things affordable and flexible is the biggest thing.  As a single mom, every penny counts, and knowing I can adjust my payments if something unexpected comes up... that's a lifesaver.  So, maybe just keeping a close eye on those things and making sure those options remain available would be amazing.  I don't need anything fancy, just reliable and budget-friendly.</td>\n",
       "    </tr>\n",
       "    <tr>\n",
       "      <th id=\"T_e3534_level0_row4\" class=\"row_heading level0 row4\" >4</th>\n",
       "      <td id=\"T_e3534_row4_col0\" class=\"data row4 col0\" >Extremely dissatisfied</td>\n",
       "      <td id=\"T_e3534_row4_col1\" class=\"data row4 col1\" >Honestly, the wait times were atrocious.  I spent more time on hold than I did actually talking to someone!  It's simply unacceptable.</td>\n",
       "      <td id=\"T_e3534_row4_col2\" class=\"data row4 col2\" >Oh, honey,  \"improve my experience\"?  Where do I even begin?  \"Extremely dissatisfied\" doesn't even begin to cover it.  I've been waiting for ages – *ages* – for simple answers.  I'm talking days, sometimes weeks, for a response to an email!  Days!  I'm not asking for the moon, just a prompt and courteous reply.</td>\n",
       "    </tr>\n",
       "  </tbody>\n",
       "</table>\n",
       "\n",
       "            </div>\n",
       "            "
      ],
      "text/plain": [
       "Customer service: satisfaction    Customer service: comment                                                                                                                                                                                                                                                                                Customer service: improvements\n",
       "--------------------------------  -------------------------------------------------------------------------------------------------------------------------------------------------------------------------------------------------------------------------------------------------------------------------------------------------------  ---------------------------------------------------------------------------------------------------------------------------------------------------------------------------------------------------------------------------------------------------------------------------------------------------------------------------------------------------------------------------------------------------------------------------------------------------------------------------------------------------------------------------------------------------------------------------------------------------------------------------------------------------\n",
       "Extremely satisfied               Honestly, I've been a customer for years, and the personalized service I've received, especially from customer support, has been top-notch.  They always go the extra mile, and it's a breath of fresh air in this day and age.  Makes a fella feel appreciated, you know?                               Well, now that's a thoughtful question.  Honestly, I've been so pleased with the personalized attention I've received.  It's a breath of fresh air, you know?  In this day and age, it feels like you're dealing with robots half the time.  So, to be perfectly frank, I can't think of anything specific you need to *improve*.\n",
       "Moderately satisfied              Honestly, the customer support was fine.  They resolved my issue, but it took a few tries and a bit longer than I'd have liked.  I wish they had more eco-friendly options for contacting them, like email instead of just phone.                                                                        Honestly?  It's a bit of a mixed bag.  Your customer support was alright – helpful enough when I needed it, but it wasn't exactly *amazing*.  What would really bump things up for me would be more eco-conscious options.  I'm always looking for companies that are doing their part for the environment, and that includes things like packaging, shipping methods, and even the overall sustainability of your products.  If you could offer more choices in that area, it would definitely make me a much happier customer.  I know it's a big ask, but it's something I'm increasingly prioritizing.\n",
       "Moderately dissatisfied           Ugh, honestly, the appointment scheduling was a nightmare.  I had to reschedule twice because of conflicts, and the whole process felt clunky and unprofessional.  It's a shame, because the actual support I *did* get was pretty good.  But the scheduling hassle really soured the whole experience.  Ugh, honestly?  The biggest thing is the scheduling.  It's a nightmare.  I've had appointments moved, cancelled, rescheduled... it's a total mess.  I understand things happen, but the lack of consistency and the way it's handled is incredibly frustrating.  If you could improve the reliability of appointments and maybe offer more options – like different time slots, or even a wider range of days – that would make a huge difference.  I spend way too much time just trying to *get* an appointment, let alone actually *using* your customer support.  That's time I could be spending on, you know, *actually running my business*.\n",
       "Extremely satisfied               Honestly, as a single mom, I'm always juggling so much.  The customer support team was incredibly understanding and helpful –  they really went above and beyond to work with my schedule and payment plan.  I can't say enough good things!                                                             Honestly?  Keeping things affordable and flexible is the biggest thing.  As a single mom, every penny counts, and knowing I can adjust my payments if something unexpected comes up... that's a lifesaver.  So, maybe just keeping a close eye on those things and making sure those options remain available would be amazing.  I don't need anything fancy, just reliable and budget-friendly.\n",
       "Extremely dissatisfied            Honestly, the wait times were atrocious.  I spent more time on hold than I did actually talking to someone!  It's simply unacceptable.                                                                                                                                                                   Oh, honey,  \"improve my experience\"?  Where do I even begin?  \"Extremely dissatisfied\" doesn't even begin to cover it.  I've been waiting for ages – *ages* – for simple answers.  I'm talking days, sometimes weeks, for a response to an email!  Days!  I'm not asking for the moon, just a prompt and courteous reply."
      ]
     },
     "execution_count": 33,
     "metadata": {},
     "output_type": "execute_result"
    }
   ],
   "source": [
    "(\n",
    "    results\n",
    "    .filter(\"model.model == 'gemini-1.5-flash'\")\n",
    "    .select(\"satisfied_1\", \"satisfied_1_comment\", \"improve_1\")\n",
    "    .print(pretty_labels = {\n",
    "        \"answer.satisfied_1\": \"Customer service: satisfaction\",\n",
    "        \"comment.satisfied_1_comment\": \"Customer service: comment\",\n",
    "        \"answer.improve_1\": \"Customer service: improvements\"\n",
    "    })\n",
    ")"
   ]
  },
  {
   "cell_type": "markdown",
   "id": "09e8fd7a-5b38-49ef-9efd-4f5a667a2419",
   "metadata": {
    "editable": true,
    "slideshow": {
     "slide_type": ""
    },
    "tags": []
   },
   "source": [
    "## Posting to the Coop\n",
    "The Coop is a platform for creating, storing and sharing LLM-based research.\n",
    "It is fully integrated with EDSL, allowing you to access objects from your workspace or Coop account interface.\n",
    "[Learn more about creating an account and using the Coop](https://docs.expectedparrot.com/en/latest/coop.html).\n",
    "Here we post the survey and results publicly:"
   ]
  },
  {
   "cell_type": "code",
   "execution_count": 34,
   "id": "2eac16e0-b753-4140-ace1-c2be293bc8cb",
   "metadata": {
    "editable": true,
    "slideshow": {
     "slide_type": ""
    },
    "tags": [
     "skip-execution"
    ]
   },
   "outputs": [
    {
     "data": {
      "text/plain": [
       "{'description': 'Example NPS survey',\n",
       " 'object_type': 'survey',\n",
       " 'url': 'https://www.expectedparrot.com/content/a9cfac3d-3d7f-414e-b58d-f245f714ecaf',\n",
       " 'uuid': 'a9cfac3d-3d7f-414e-b58d-f245f714ecaf',\n",
       " 'version': '0.1.39.dev2',\n",
       " 'visibility': 'public'}"
      ]
     },
     "execution_count": 34,
     "metadata": {},
     "output_type": "execute_result"
    }
   ],
   "source": [
    "survey.push(description = \"Example NPS survey\", visibility = \"public\")"
   ]
  },
  {
   "cell_type": "markdown",
   "id": "a64a493c-5411-4573-87f2-2a2ab76957e5",
   "metadata": {
    "editable": true,
    "slideshow": {
     "slide_type": ""
    },
    "tags": []
   },
   "source": [
    "We can also post a notebook, such as this one:"
   ]
  },
  {
   "cell_type": "code",
   "execution_count": 35,
   "id": "7784e69b-66ae-4411-b04d-a18bc5ceb0c1",
   "metadata": {
    "editable": true,
    "slideshow": {
     "slide_type": ""
    },
    "tags": [
     "skip-execution"
    ]
   },
   "outputs": [],
   "source": [
    "from edsl import Notebook"
   ]
  },
  {
   "cell_type": "code",
   "execution_count": 36,
   "id": "e52b8469-0f97-4b45-b40d-e054ed1e12fc",
   "metadata": {
    "editable": true,
    "slideshow": {
     "slide_type": ""
    },
    "tags": [
     "skip-execution"
    ]
   },
   "outputs": [],
   "source": [
    "n = Notebook(path = \"nps_survey.ipynb\")"
   ]
  },
  {
   "cell_type": "code",
   "execution_count": 37,
   "id": "9ff2d838-8cdf-45c7-86a1-15c9039c5dc6",
   "metadata": {
    "editable": true,
    "slideshow": {
     "slide_type": ""
    },
    "tags": [
     "skip-execution"
    ]
   },
   "outputs": [
    {
     "data": {
      "text/plain": [
       "{'description': 'Notebook for simulating an NPS survey',\n",
       " 'object_type': 'notebook',\n",
       " 'url': 'https://www.expectedparrot.com/content/de151af7-d9a2-40fd-9e74-198a32ca94da',\n",
       " 'uuid': 'de151af7-d9a2-40fd-9e74-198a32ca94da',\n",
       " 'version': '0.1.39.dev2',\n",
       " 'visibility': 'unlisted'}"
      ]
     },
     "execution_count": 37,
     "metadata": {},
     "output_type": "execute_result"
    }
   ],
   "source": [
    "info = n.push(description = \"Notebook for simulating an NPS survey\")\n",
    "info"
   ]
  },
  {
   "cell_type": "markdown",
   "id": "9a183046-f290-40aa-8c82-881def48935e",
   "metadata": {
    "editable": true,
    "slideshow": {
     "slide_type": ""
    },
    "tags": []
   },
   "source": [
    "To update an object at the Coop:"
   ]
  },
  {
   "cell_type": "code",
   "execution_count": 38,
   "id": "41bf9e0c-6f02-4652-974d-6f0288c11af7",
   "metadata": {
    "editable": true,
    "slideshow": {
     "slide_type": ""
    },
    "tags": [
     "skip-execution"
    ]
   },
   "outputs": [],
   "source": [
    "n = Notebook(path = \"nps_survey.ipynb\") # resave"
   ]
  },
  {
   "cell_type": "code",
   "execution_count": 39,
   "id": "5641f25a-156d-4de6-8453-7e7564648551",
   "metadata": {
    "editable": true,
    "slideshow": {
     "slide_type": ""
    },
    "tags": [
     "skip-execution"
    ]
   },
   "outputs": [
    {
     "data": {
      "text/plain": [
       "{'status': 'success'}"
      ]
     },
     "execution_count": 39,
     "metadata": {},
     "output_type": "execute_result"
    }
   ],
   "source": [
    "n.patch(uuid = info[\"uuid\"], visibility = \"public\", value = n)"
   ]
  }
 ],
 "metadata": {
  "kernelspec": {
   "display_name": "Python 3 (ipykernel)",
   "language": "python",
   "name": "python3"
  },
  "language_info": {
   "codemirror_mode": {
    "name": "ipython",
    "version": 3
   },
   "file_extension": ".py",
   "mimetype": "text/x-python",
   "name": "python",
   "nbconvert_exporter": "python",
   "pygments_lexer": "ipython3",
   "version": "3.11.7"
  }
 },
 "nbformat": 4,
 "nbformat_minor": 5
}
