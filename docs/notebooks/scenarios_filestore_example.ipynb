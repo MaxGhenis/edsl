{
 "cells": [
  {
   "cell_type": "markdown",
   "id": "6557e99a-2dbb-4e81-aa96-2c3d963c65f5",
   "metadata": {
    "editable": true,
    "slideshow": {
     "slide_type": ""
    },
    "tags": []
   },
   "source": [
    "# Using data with surveys: FileStore\n",
    "This notebook provides example [EDSL](https://github.com/expectedparrot/edsl) code for methods for using data with an EDSL survey.\n",
    "In the steps below we show how to use the [FileStore](https://docs.expectedparrot.com/en/latest/filestore.html) module to upload, share and retrieve data files at the [Coop](https://docs.expectedparrot.com/en/latest/coop.html), and then create [Scenario](https://docs.expectedparrot.com/en/latest/scenarios.html) objects for the data to use it with a survey.\n",
    "\n",
    "[EDSL is an open-source library](https://github.com/expectedparrot/edsl) for simulating surveys, experiments and other research with AI agents and large language models. \n",
    "Before running the code below, please ensure that you have [installed the EDSL library](https://docs.expectedparrot.com/en/latest/installation.html) and either [activated remote inference](https://docs.expectedparrot.com/en/latest/remote_inference.html) from your [Coop account](https://docs.expectedparrot.com/en/latest/coop.html) or [stored API keys](https://docs.expectedparrot.com/en/latest/api_keys.html) for the language models that you want to use with EDSL. Please also see our [documentation page](https://docs.expectedparrot.com/) for tips and tutorials on getting started using EDSL."
   ]
  },
  {
   "cell_type": "markdown",
   "id": "cb603e1d-9b28-41e1-ad04-0dc2ea5f5b41",
   "metadata": {
    "editable": true,
    "slideshow": {
     "slide_type": ""
    },
    "tags": []
   },
   "source": [
    "## What is a *Scenario*?\n",
    "A `Scenario` is a dictionary of one or more key/value pairs representing data or content to be added to questions; a `ScenarioList` is a list of *Scenario* objects. \n",
    "Scenario keys are used as question parameters that get replaced with the values when the scenarios are added to the questions, allowing you to create variants of questions efficiently. Learn more about creating and working with scenarios [here](https://docs.expectedparrot.com/en/latest/scenarios.html) and [here](https://docs.expectedparrot.com/en/latest/notebooks/question_loop_scenarios.html)."
   ]
  },
  {
   "cell_type": "markdown",
   "id": "35a21a95-d1e9-4ce9-b427-c72184e3f552",
   "metadata": {
    "editable": true,
    "slideshow": {
     "slide_type": ""
    },
    "tags": []
   },
   "source": [
    "## What is the *Coop*?\n",
    "[Coop](https://docs.expectedparrot.com/en/latest/coop.html) is a platform for creating, storing and sharing LLM-based research. \n",
    "It is fully integrated with EDSL, allowing you to post, download and update objects directly from your workspace and at the [Coop web app](https://www.expectedparrot.com/login). \n",
    "The Coop also provides access to features for working with EDSL remotely at the Expected Parrot server. \n",
    "Learn more about these features in the [remote inference](https://docs.expectedparrot.com/en/latest/remote_inference.html) and [remote caching](https://docs.expectedparrot.com/en/latest/remote_caching.html) sections of the [documentation page](https://docs.expectedparrot.com/)."
   ]
  },
  {
   "cell_type": "markdown",
   "id": "bdb593cf-304f-4a74-8669-41227d465b9e",
   "metadata": {
    "editable": true,
    "slideshow": {
     "slide_type": ""
    },
    "tags": []
   },
   "source": [
    "## What is FileStore?\n",
    "`FileStore` is a [module for storing and sharing data files at the Coop](https://docs.expectedparrot.com/en/latest/filestore.html) to use in EDSL projects, such as survey data, PDFs, CSVs or images. \n",
    "In particular, it is designed for storing files to be used as as scenarios, and allows you to include code for easily retrieving and processing the files in your EDSL project, as we do in the examples below!"
   ]
  },
  {
   "cell_type": "markdown",
   "id": "66424931-600e-464a-95ed-059ddee64881",
   "metadata": {
    "editable": true,
    "slideshow": {
     "slide_type": ""
    },
    "tags": []
   },
   "source": [
    "## Example\n",
    "In the example below we create scenarios for some data (a table at a Wikipedia page) and inspect them. Then we store the scenarios as a CSV and post it to Coop using FileStore. Then we retrieve the file and recreate the scenarios, and use them in a survey. We also post the survey, results and this notebook to Coop for reference.\n",
    "\n",
    "We start by creating importing the tools that we will use:"
   ]
  },
  {
   "cell_type": "code",
   "execution_count": 1,
   "id": "c8a34852-9ba2-41de-985a-d21c2524e9af",
   "metadata": {
    "editable": true,
    "slideshow": {
     "slide_type": ""
    },
    "tags": []
   },
   "outputs": [],
   "source": [
    "from edsl import ScenarioList, Scenario, FileStore"
   ]
  },
  {
   "cell_type": "markdown",
   "id": "9a9bb7ad-2c7f-4f42-a8e3-d1b91e76f736",
   "metadata": {
    "editable": true,
    "slideshow": {
     "slide_type": ""
    },
    "tags": []
   },
   "source": [
    "### Creating a scenario list for a Wikipedia table\n",
    "EDSL comes with many methods for automatically [generating scenarios for various data sources](https://docs.expectedparrot.com/en/latest/scenarios.html), such as PDFs, CSVs, docs, images, lists, dicts, etc.\n",
    "Here we use a method to automatically [create a scenario list for a Wikipedia table](https://docs.expectedparrot.com/en/latest/notebooks/scenario_list_wikipedia.html), passing the URL and the number of the table on the page:"
   ]
  },
  {
   "cell_type": "code",
   "execution_count": 2,
   "id": "3c02ee41-abae-4dbd-b6cb-54831b20c5e5",
   "metadata": {
    "editable": true,
    "slideshow": {
     "slide_type": ""
    },
    "tags": []
   },
   "outputs": [],
   "source": [
    "s = ScenarioList.from_wikipedia(\"https://en.wikipedia.org/wiki/List_of_Billboard_Hot_100_number-one_singles_of_the_1980s\",5)"
   ]
  },
  {
   "cell_type": "markdown",
   "id": "c656c3de-7435-41d3-8321-91027b3b1a2d",
   "metadata": {
    "editable": true,
    "slideshow": {
     "slide_type": ""
    },
    "tags": []
   },
   "source": [
    "We can inspect the scenario list that has been created:"
   ]
  },
  {
   "cell_type": "code",
   "execution_count": 3,
   "id": "6b5465c9-bf43-4c4f-ac43-df7606b9f692",
   "metadata": {
    "editable": true,
    "slideshow": {
     "slide_type": ""
    },
    "tags": []
   },
   "outputs": [
    {
     "data": {
      "text/html": [
       "<p><a href='https://docs.expectedparrot.com/en/latest/scenarios.html#scenariolist'>ScenarioList</a> scenarios: 14; keys: ['Artist(s)', 'Song', 'Weeks at number one'];</p>\n",
       "            <div style=\"max-height: 500px; overflow-y: auto;\">\n",
       "                <style type=\"text/css\">\n",
       "#T_71752_row0_col0 {\n",
       "  text-align: left;\n",
       "  background-color: #023858;\n",
       "  color: #f1f1f1;\n",
       "}\n",
       "#T_71752_row0_col1, #T_71752_row0_col2, #T_71752_row1_col1, #T_71752_row1_col2, #T_71752_row2_col1, #T_71752_row2_col2, #T_71752_row3_col1, #T_71752_row3_col2, #T_71752_row4_col1, #T_71752_row4_col2, #T_71752_row5_col1, #T_71752_row5_col2, #T_71752_row6_col1, #T_71752_row6_col2, #T_71752_row7_col1, #T_71752_row7_col2, #T_71752_row8_col1, #T_71752_row8_col2, #T_71752_row9_col1, #T_71752_row9_col2, #T_71752_row10_col1, #T_71752_row10_col2, #T_71752_row11_col1, #T_71752_row11_col2, #T_71752_row12_col1, #T_71752_row12_col2, #T_71752_row13_col1, #T_71752_row13_col2 {\n",
       "  text-align: left;\n",
       "}\n",
       "#T_71752_row1_col0, #T_71752_row2_col0 {\n",
       "  text-align: left;\n",
       "  background-color: #056faf;\n",
       "  color: #f1f1f1;\n",
       "}\n",
       "#T_71752_row3_col0 {\n",
       "  text-align: left;\n",
       "  background-color: #73a9cf;\n",
       "  color: #f1f1f1;\n",
       "}\n",
       "#T_71752_row4_col0, #T_71752_row5_col0, #T_71752_row6_col0 {\n",
       "  text-align: left;\n",
       "  background-color: #d0d1e6;\n",
       "  color: #000000;\n",
       "}\n",
       "#T_71752_row7_col0, #T_71752_row8_col0, #T_71752_row9_col0, #T_71752_row10_col0, #T_71752_row11_col0, #T_71752_row12_col0, #T_71752_row13_col0 {\n",
       "  text-align: left;\n",
       "  background-color: #fff7fb;\n",
       "  color: #000000;\n",
       "}\n",
       "</style>\n",
       "<table id=\"T_71752\">\n",
       "  <thead>\n",
       "    <tr>\n",
       "      <th class=\"blank level0\" >&nbsp;</th>\n",
       "      <th id=\"T_71752_level0_col0\" class=\"col_heading level0 col0\" >Weeks at number one</th>\n",
       "      <th id=\"T_71752_level0_col1\" class=\"col_heading level0 col1\" >Song</th>\n",
       "      <th id=\"T_71752_level0_col2\" class=\"col_heading level0 col2\" >Artist(s)</th>\n",
       "    </tr>\n",
       "  </thead>\n",
       "  <tbody>\n",
       "    <tr>\n",
       "      <th id=\"T_71752_level0_row0\" class=\"row_heading level0 row0\" >0</th>\n",
       "      <td id=\"T_71752_row0_col0\" class=\"data row0 col0\" >10</td>\n",
       "      <td id=\"T_71752_row0_col1\" class=\"data row0 col1\" >\"Physical\"</td>\n",
       "      <td id=\"T_71752_row0_col2\" class=\"data row0 col2\" >Olivia Newton-John</td>\n",
       "    </tr>\n",
       "    <tr>\n",
       "      <th id=\"T_71752_level0_row1\" class=\"row_heading level0 row1\" >1</th>\n",
       "      <td id=\"T_71752_row1_col0\" class=\"data row1 col0\" >9</td>\n",
       "      <td id=\"T_71752_row1_col1\" class=\"data row1 col1\" >\"Bette Davis Eyes\"</td>\n",
       "      <td id=\"T_71752_row1_col2\" class=\"data row1 col2\" >Kim Carnes</td>\n",
       "    </tr>\n",
       "    <tr>\n",
       "      <th id=\"T_71752_level0_row2\" class=\"row_heading level0 row2\" >2</th>\n",
       "      <td id=\"T_71752_row2_col0\" class=\"data row2 col0\" >9</td>\n",
       "      <td id=\"T_71752_row2_col1\" class=\"data row2 col1\" >\"Endless Love\"</td>\n",
       "      <td id=\"T_71752_row2_col2\" class=\"data row2 col2\" >Diana Ross and Lionel Richie</td>\n",
       "    </tr>\n",
       "    <tr>\n",
       "      <th id=\"T_71752_level0_row3\" class=\"row_heading level0 row3\" >3</th>\n",
       "      <td id=\"T_71752_row3_col0\" class=\"data row3 col0\" >8</td>\n",
       "      <td id=\"T_71752_row3_col1\" class=\"data row3 col1\" >\"Every Breath You Take\"</td>\n",
       "      <td id=\"T_71752_row3_col2\" class=\"data row3 col2\" >The Police</td>\n",
       "    </tr>\n",
       "    <tr>\n",
       "      <th id=\"T_71752_level0_row4\" class=\"row_heading level0 row4\" >4</th>\n",
       "      <td id=\"T_71752_row4_col0\" class=\"data row4 col0\" >7</td>\n",
       "      <td id=\"T_71752_row4_col1\" class=\"data row4 col1\" >\"I Love Rock 'n' Roll\"</td>\n",
       "      <td id=\"T_71752_row4_col2\" class=\"data row4 col2\" >Joan Jett and the Blackhearts</td>\n",
       "    </tr>\n",
       "    <tr>\n",
       "      <th id=\"T_71752_level0_row5\" class=\"row_heading level0 row5\" >5</th>\n",
       "      <td id=\"T_71752_row5_col0\" class=\"data row5 col0\" >7</td>\n",
       "      <td id=\"T_71752_row5_col1\" class=\"data row5 col1\" >\"Ebony and Ivory\"</td>\n",
       "      <td id=\"T_71752_row5_col2\" class=\"data row5 col2\" >Paul McCartney and Stevie Wonder</td>\n",
       "    </tr>\n",
       "    <tr>\n",
       "      <th id=\"T_71752_level0_row6\" class=\"row_heading level0 row6\" >6</th>\n",
       "      <td id=\"T_71752_row6_col0\" class=\"data row6 col0\" >7</td>\n",
       "      <td id=\"T_71752_row6_col1\" class=\"data row6 col1\" >\"Billie Jean\"</td>\n",
       "      <td id=\"T_71752_row6_col2\" class=\"data row6 col2\" >Michael Jackson</td>\n",
       "    </tr>\n",
       "    <tr>\n",
       "      <th id=\"T_71752_level0_row7\" class=\"row_heading level0 row7\" >7</th>\n",
       "      <td id=\"T_71752_row7_col0\" class=\"data row7 col0\" >6</td>\n",
       "      <td id=\"T_71752_row7_col1\" class=\"data row7 col1\" >\"Call Me\"</td>\n",
       "      <td id=\"T_71752_row7_col2\" class=\"data row7 col2\" >Blondie</td>\n",
       "    </tr>\n",
       "    <tr>\n",
       "      <th id=\"T_71752_level0_row8\" class=\"row_heading level0 row8\" >8</th>\n",
       "      <td id=\"T_71752_row8_col0\" class=\"data row8 col0\" >6</td>\n",
       "      <td id=\"T_71752_row8_col1\" class=\"data row8 col1\" >\"Lady\"</td>\n",
       "      <td id=\"T_71752_row8_col2\" class=\"data row8 col2\" >Kenny Rogers</td>\n",
       "    </tr>\n",
       "    <tr>\n",
       "      <th id=\"T_71752_level0_row9\" class=\"row_heading level0 row9\" >9</th>\n",
       "      <td id=\"T_71752_row9_col0\" class=\"data row9 col0\" >6</td>\n",
       "      <td id=\"T_71752_row9_col1\" class=\"data row9 col1\" >\"Centerfold\"</td>\n",
       "      <td id=\"T_71752_row9_col2\" class=\"data row9 col2\" >The J. Geils Band</td>\n",
       "    </tr>\n",
       "    <tr>\n",
       "      <th id=\"T_71752_level0_row10\" class=\"row_heading level0 row10\" >10</th>\n",
       "      <td id=\"T_71752_row10_col0\" class=\"data row10 col0\" >6</td>\n",
       "      <td id=\"T_71752_row10_col1\" class=\"data row10 col1\" >\"Eye of the Tiger\"</td>\n",
       "      <td id=\"T_71752_row10_col2\" class=\"data row10 col2\" >Survivor</td>\n",
       "    </tr>\n",
       "    <tr>\n",
       "      <th id=\"T_71752_level0_row11\" class=\"row_heading level0 row11\" >11</th>\n",
       "      <td id=\"T_71752_row11_col0\" class=\"data row11 col0\" >6</td>\n",
       "      <td id=\"T_71752_row11_col1\" class=\"data row11 col1\" >\"Flashdance... What a Feeling\"</td>\n",
       "      <td id=\"T_71752_row11_col2\" class=\"data row11 col2\" >Irene Cara</td>\n",
       "    </tr>\n",
       "    <tr>\n",
       "      <th id=\"T_71752_level0_row12\" class=\"row_heading level0 row12\" >12</th>\n",
       "      <td id=\"T_71752_row12_col0\" class=\"data row12 col0\" >6</td>\n",
       "      <td id=\"T_71752_row12_col1\" class=\"data row12 col1\" >\"Say, Say, Say\"</td>\n",
       "      <td id=\"T_71752_row12_col2\" class=\"data row12 col2\" >Paul McCartney and Michael Jackson</td>\n",
       "    </tr>\n",
       "    <tr>\n",
       "      <th id=\"T_71752_level0_row13\" class=\"row_heading level0 row13\" >13</th>\n",
       "      <td id=\"T_71752_row13_col0\" class=\"data row13 col0\" >6</td>\n",
       "      <td id=\"T_71752_row13_col1\" class=\"data row13 col1\" >\"Like a Virgin\"</td>\n",
       "      <td id=\"T_71752_row13_col2\" class=\"data row13 col2\" >Madonna</td>\n",
       "    </tr>\n",
       "  </tbody>\n",
       "</table>\n",
       "\n",
       "            </div>\n",
       "            "
      ],
      "text/plain": [
       "ScenarioList([Scenario({'Weeks at number one': 10, 'Song': '\"Physical\"', 'Artist(s)': 'Olivia Newton-John'}), Scenario({'Weeks at number one': 9, 'Song': '\"Bette Davis Eyes\"', 'Artist(s)': 'Kim Carnes'}), Scenario({'Weeks at number one': 9, 'Song': '\"Endless Love\"', 'Artist(s)': 'Diana Ross and Lionel Richie'}), Scenario({'Weeks at number one': 8, 'Song': '\"Every Breath You Take\"', 'Artist(s)': 'The Police'}), Scenario({'Weeks at number one': 7, 'Song': '\"I Love Rock \\'n\\' Roll\"', 'Artist(s)': 'Joan Jett and the Blackhearts'}), Scenario({'Weeks at number one': 7, 'Song': '\"Ebony and Ivory\"', 'Artist(s)': 'Paul McCartney and Stevie Wonder'}), Scenario({'Weeks at number one': 7, 'Song': '\"Billie Jean\"', 'Artist(s)': 'Michael Jackson'}), Scenario({'Weeks at number one': 6, 'Song': '\"Call Me\"', 'Artist(s)': 'Blondie'}), Scenario({'Weeks at number one': 6, 'Song': '\"Lady\"', 'Artist(s)': 'Kenny Rogers'}), Scenario({'Weeks at number one': 6, 'Song': '\"Centerfold\"', 'Artist(s)': 'The J. Geils Band'}), Scenario({'Weeks at number one': 6, 'Song': '\"Eye of the Tiger\"', 'Artist(s)': 'Survivor'}), Scenario({'Weeks at number one': 6, 'Song': '\"Flashdance... What a Feeling\"', 'Artist(s)': 'Irene Cara'}), Scenario({'Weeks at number one': 6, 'Song': '\"Say, Say, Say\"', 'Artist(s)': 'Paul McCartney and Michael Jackson'}), Scenario({'Weeks at number one': 6, 'Song': '\"Like a Virgin\"', 'Artist(s)': 'Madonna'})])"
      ]
     },
     "execution_count": 3,
     "metadata": {},
     "output_type": "execute_result"
    }
   ],
   "source": [
    "s"
   ]
  },
  {
   "cell_type": "markdown",
   "id": "ec95f521-c55f-4d61-9224-6b53d8da96f4",
   "metadata": {
    "editable": true,
    "slideshow": {
     "slide_type": ""
    },
    "tags": []
   },
   "source": [
    "We can rename the keys for convenience:"
   ]
  },
  {
   "cell_type": "code",
   "execution_count": 4,
   "id": "fe51f914-a778-4935-a6b6-a535d963eef8",
   "metadata": {
    "editable": true,
    "slideshow": {
     "slide_type": ""
    },
    "tags": []
   },
   "outputs": [
    {
     "data": {
      "text/plain": [
       "{'Artist(s)', 'Song', 'Weeks at number one'}"
      ]
     },
     "execution_count": 4,
     "metadata": {},
     "output_type": "execute_result"
    }
   ],
   "source": [
    "s.parameters"
   ]
  },
  {
   "cell_type": "code",
   "execution_count": 5,
   "id": "1f5f33e3-6463-45af-b60f-8a5f9ff766a0",
   "metadata": {
    "editable": true,
    "slideshow": {
     "slide_type": ""
    },
    "tags": []
   },
   "outputs": [],
   "source": [
    "s = s.rename({'Artist(s)':\"artists\", 'Song':\"song\", 'Weeks at number one':\"weeks\"})"
   ]
  },
  {
   "cell_type": "code",
   "execution_count": 6,
   "id": "ae9b0342-e44a-431c-a710-f3414d82de3d",
   "metadata": {
    "editable": true,
    "slideshow": {
     "slide_type": ""
    },
    "tags": []
   },
   "outputs": [
    {
     "data": {
      "text/html": [
       "<p><a href='https://docs.expectedparrot.com/en/latest/scenarios.html#scenariolist'>ScenarioList</a> scenarios: 14; keys: ['artists', 'song', 'weeks'];</p>\n",
       "            <div style=\"max-height: 500px; overflow-y: auto;\">\n",
       "                <style type=\"text/css\">\n",
       "#T_99352_row0_col0 {\n",
       "  text-align: left;\n",
       "  background-color: #023858;\n",
       "  color: #f1f1f1;\n",
       "}\n",
       "#T_99352_row0_col1, #T_99352_row0_col2, #T_99352_row1_col1, #T_99352_row1_col2, #T_99352_row2_col1, #T_99352_row2_col2, #T_99352_row3_col1, #T_99352_row3_col2, #T_99352_row4_col1, #T_99352_row4_col2, #T_99352_row5_col1, #T_99352_row5_col2, #T_99352_row6_col1, #T_99352_row6_col2, #T_99352_row7_col1, #T_99352_row7_col2, #T_99352_row8_col1, #T_99352_row8_col2, #T_99352_row9_col1, #T_99352_row9_col2, #T_99352_row10_col1, #T_99352_row10_col2, #T_99352_row11_col1, #T_99352_row11_col2, #T_99352_row12_col1, #T_99352_row12_col2, #T_99352_row13_col1, #T_99352_row13_col2 {\n",
       "  text-align: left;\n",
       "}\n",
       "#T_99352_row1_col0, #T_99352_row2_col0 {\n",
       "  text-align: left;\n",
       "  background-color: #056faf;\n",
       "  color: #f1f1f1;\n",
       "}\n",
       "#T_99352_row3_col0 {\n",
       "  text-align: left;\n",
       "  background-color: #73a9cf;\n",
       "  color: #f1f1f1;\n",
       "}\n",
       "#T_99352_row4_col0, #T_99352_row5_col0, #T_99352_row6_col0 {\n",
       "  text-align: left;\n",
       "  background-color: #d0d1e6;\n",
       "  color: #000000;\n",
       "}\n",
       "#T_99352_row7_col0, #T_99352_row8_col0, #T_99352_row9_col0, #T_99352_row10_col0, #T_99352_row11_col0, #T_99352_row12_col0, #T_99352_row13_col0 {\n",
       "  text-align: left;\n",
       "  background-color: #fff7fb;\n",
       "  color: #000000;\n",
       "}\n",
       "</style>\n",
       "<table id=\"T_99352\">\n",
       "  <thead>\n",
       "    <tr>\n",
       "      <th class=\"blank level0\" >&nbsp;</th>\n",
       "      <th id=\"T_99352_level0_col0\" class=\"col_heading level0 col0\" >weeks</th>\n",
       "      <th id=\"T_99352_level0_col1\" class=\"col_heading level0 col1\" >song</th>\n",
       "      <th id=\"T_99352_level0_col2\" class=\"col_heading level0 col2\" >artists</th>\n",
       "    </tr>\n",
       "  </thead>\n",
       "  <tbody>\n",
       "    <tr>\n",
       "      <th id=\"T_99352_level0_row0\" class=\"row_heading level0 row0\" >0</th>\n",
       "      <td id=\"T_99352_row0_col0\" class=\"data row0 col0\" >10</td>\n",
       "      <td id=\"T_99352_row0_col1\" class=\"data row0 col1\" >\"Physical\"</td>\n",
       "      <td id=\"T_99352_row0_col2\" class=\"data row0 col2\" >Olivia Newton-John</td>\n",
       "    </tr>\n",
       "    <tr>\n",
       "      <th id=\"T_99352_level0_row1\" class=\"row_heading level0 row1\" >1</th>\n",
       "      <td id=\"T_99352_row1_col0\" class=\"data row1 col0\" >9</td>\n",
       "      <td id=\"T_99352_row1_col1\" class=\"data row1 col1\" >\"Bette Davis Eyes\"</td>\n",
       "      <td id=\"T_99352_row1_col2\" class=\"data row1 col2\" >Kim Carnes</td>\n",
       "    </tr>\n",
       "    <tr>\n",
       "      <th id=\"T_99352_level0_row2\" class=\"row_heading level0 row2\" >2</th>\n",
       "      <td id=\"T_99352_row2_col0\" class=\"data row2 col0\" >9</td>\n",
       "      <td id=\"T_99352_row2_col1\" class=\"data row2 col1\" >\"Endless Love\"</td>\n",
       "      <td id=\"T_99352_row2_col2\" class=\"data row2 col2\" >Diana Ross and Lionel Richie</td>\n",
       "    </tr>\n",
       "    <tr>\n",
       "      <th id=\"T_99352_level0_row3\" class=\"row_heading level0 row3\" >3</th>\n",
       "      <td id=\"T_99352_row3_col0\" class=\"data row3 col0\" >8</td>\n",
       "      <td id=\"T_99352_row3_col1\" class=\"data row3 col1\" >\"Every Breath You Take\"</td>\n",
       "      <td id=\"T_99352_row3_col2\" class=\"data row3 col2\" >The Police</td>\n",
       "    </tr>\n",
       "    <tr>\n",
       "      <th id=\"T_99352_level0_row4\" class=\"row_heading level0 row4\" >4</th>\n",
       "      <td id=\"T_99352_row4_col0\" class=\"data row4 col0\" >7</td>\n",
       "      <td id=\"T_99352_row4_col1\" class=\"data row4 col1\" >\"I Love Rock 'n' Roll\"</td>\n",
       "      <td id=\"T_99352_row4_col2\" class=\"data row4 col2\" >Joan Jett and the Blackhearts</td>\n",
       "    </tr>\n",
       "    <tr>\n",
       "      <th id=\"T_99352_level0_row5\" class=\"row_heading level0 row5\" >5</th>\n",
       "      <td id=\"T_99352_row5_col0\" class=\"data row5 col0\" >7</td>\n",
       "      <td id=\"T_99352_row5_col1\" class=\"data row5 col1\" >\"Ebony and Ivory\"</td>\n",
       "      <td id=\"T_99352_row5_col2\" class=\"data row5 col2\" >Paul McCartney and Stevie Wonder</td>\n",
       "    </tr>\n",
       "    <tr>\n",
       "      <th id=\"T_99352_level0_row6\" class=\"row_heading level0 row6\" >6</th>\n",
       "      <td id=\"T_99352_row6_col0\" class=\"data row6 col0\" >7</td>\n",
       "      <td id=\"T_99352_row6_col1\" class=\"data row6 col1\" >\"Billie Jean\"</td>\n",
       "      <td id=\"T_99352_row6_col2\" class=\"data row6 col2\" >Michael Jackson</td>\n",
       "    </tr>\n",
       "    <tr>\n",
       "      <th id=\"T_99352_level0_row7\" class=\"row_heading level0 row7\" >7</th>\n",
       "      <td id=\"T_99352_row7_col0\" class=\"data row7 col0\" >6</td>\n",
       "      <td id=\"T_99352_row7_col1\" class=\"data row7 col1\" >\"Call Me\"</td>\n",
       "      <td id=\"T_99352_row7_col2\" class=\"data row7 col2\" >Blondie</td>\n",
       "    </tr>\n",
       "    <tr>\n",
       "      <th id=\"T_99352_level0_row8\" class=\"row_heading level0 row8\" >8</th>\n",
       "      <td id=\"T_99352_row8_col0\" class=\"data row8 col0\" >6</td>\n",
       "      <td id=\"T_99352_row8_col1\" class=\"data row8 col1\" >\"Lady\"</td>\n",
       "      <td id=\"T_99352_row8_col2\" class=\"data row8 col2\" >Kenny Rogers</td>\n",
       "    </tr>\n",
       "    <tr>\n",
       "      <th id=\"T_99352_level0_row9\" class=\"row_heading level0 row9\" >9</th>\n",
       "      <td id=\"T_99352_row9_col0\" class=\"data row9 col0\" >6</td>\n",
       "      <td id=\"T_99352_row9_col1\" class=\"data row9 col1\" >\"Centerfold\"</td>\n",
       "      <td id=\"T_99352_row9_col2\" class=\"data row9 col2\" >The J. Geils Band</td>\n",
       "    </tr>\n",
       "    <tr>\n",
       "      <th id=\"T_99352_level0_row10\" class=\"row_heading level0 row10\" >10</th>\n",
       "      <td id=\"T_99352_row10_col0\" class=\"data row10 col0\" >6</td>\n",
       "      <td id=\"T_99352_row10_col1\" class=\"data row10 col1\" >\"Eye of the Tiger\"</td>\n",
       "      <td id=\"T_99352_row10_col2\" class=\"data row10 col2\" >Survivor</td>\n",
       "    </tr>\n",
       "    <tr>\n",
       "      <th id=\"T_99352_level0_row11\" class=\"row_heading level0 row11\" >11</th>\n",
       "      <td id=\"T_99352_row11_col0\" class=\"data row11 col0\" >6</td>\n",
       "      <td id=\"T_99352_row11_col1\" class=\"data row11 col1\" >\"Flashdance... What a Feeling\"</td>\n",
       "      <td id=\"T_99352_row11_col2\" class=\"data row11 col2\" >Irene Cara</td>\n",
       "    </tr>\n",
       "    <tr>\n",
       "      <th id=\"T_99352_level0_row12\" class=\"row_heading level0 row12\" >12</th>\n",
       "      <td id=\"T_99352_row12_col0\" class=\"data row12 col0\" >6</td>\n",
       "      <td id=\"T_99352_row12_col1\" class=\"data row12 col1\" >\"Say, Say, Say\"</td>\n",
       "      <td id=\"T_99352_row12_col2\" class=\"data row12 col2\" >Paul McCartney and Michael Jackson</td>\n",
       "    </tr>\n",
       "    <tr>\n",
       "      <th id=\"T_99352_level0_row13\" class=\"row_heading level0 row13\" >13</th>\n",
       "      <td id=\"T_99352_row13_col0\" class=\"data row13 col0\" >6</td>\n",
       "      <td id=\"T_99352_row13_col1\" class=\"data row13 col1\" >\"Like a Virgin\"</td>\n",
       "      <td id=\"T_99352_row13_col2\" class=\"data row13 col2\" >Madonna</td>\n",
       "    </tr>\n",
       "  </tbody>\n",
       "</table>\n",
       "\n",
       "            </div>\n",
       "            "
      ],
      "text/plain": [
       "ScenarioList([Scenario({'weeks': 10, 'song': '\"Physical\"', 'artists': 'Olivia Newton-John'}), Scenario({'weeks': 9, 'song': '\"Bette Davis Eyes\"', 'artists': 'Kim Carnes'}), Scenario({'weeks': 9, 'song': '\"Endless Love\"', 'artists': 'Diana Ross and Lionel Richie'}), Scenario({'weeks': 8, 'song': '\"Every Breath You Take\"', 'artists': 'The Police'}), Scenario({'weeks': 7, 'song': '\"I Love Rock \\'n\\' Roll\"', 'artists': 'Joan Jett and the Blackhearts'}), Scenario({'weeks': 7, 'song': '\"Ebony and Ivory\"', 'artists': 'Paul McCartney and Stevie Wonder'}), Scenario({'weeks': 7, 'song': '\"Billie Jean\"', 'artists': 'Michael Jackson'}), Scenario({'weeks': 6, 'song': '\"Call Me\"', 'artists': 'Blondie'}), Scenario({'weeks': 6, 'song': '\"Lady\"', 'artists': 'Kenny Rogers'}), Scenario({'weeks': 6, 'song': '\"Centerfold\"', 'artists': 'The J. Geils Band'}), Scenario({'weeks': 6, 'song': '\"Eye of the Tiger\"', 'artists': 'Survivor'}), Scenario({'weeks': 6, 'song': '\"Flashdance... What a Feeling\"', 'artists': 'Irene Cara'}), Scenario({'weeks': 6, 'song': '\"Say, Say, Say\"', 'artists': 'Paul McCartney and Michael Jackson'}), Scenario({'weeks': 6, 'song': '\"Like a Virgin\"', 'artists': 'Madonna'})])"
      ]
     },
     "execution_count": 6,
     "metadata": {},
     "output_type": "execute_result"
    }
   ],
   "source": [
    "s"
   ]
  },
  {
   "cell_type": "markdown",
   "id": "f3091277-b4a8-4c02-85ea-f4ca14a78420",
   "metadata": {
    "editable": true,
    "slideshow": {
     "slide_type": ""
    },
    "tags": []
   },
   "source": [
    "We can save the scenarios to a CSV:"
   ]
  },
  {
   "cell_type": "code",
   "execution_count": 7,
   "id": "1d5ad700-75b6-4383-9ac0-882f3d4e2379",
   "metadata": {
    "editable": true,
    "slideshow": {
     "slide_type": ""
    },
    "tags": []
   },
   "outputs": [
    {
     "data": {
      "text/html": [
       "<p><a href='https://docs.expectedparrot.com/en/latest/filestore.html'>FileStore</a></p>\n",
       "            <div style=\"max-height: 500px; overflow-y: auto;\">\n",
       "                <style type=\"text/css\">\n",
       "#T_6df37_row0_col0, #T_6df37_row0_col1, #T_6df37_row1_col0, #T_6df37_row1_col1, #T_6df37_row2_col0, #T_6df37_row2_col1, #T_6df37_row3_col0, #T_6df37_row3_col1, #T_6df37_row4_col0, #T_6df37_row4_col1, #T_6df37_row5_col0, #T_6df37_row5_col1 {\n",
       "  text-align: left;\n",
       "}\n",
       "</style>\n",
       "<table id=\"T_6df37\">\n",
       "  <thead>\n",
       "    <tr>\n",
       "      <th class=\"blank level0\" >&nbsp;</th>\n",
       "      <th id=\"T_6df37_level0_col0\" class=\"col_heading level0 col0\" >key</th>\n",
       "      <th id=\"T_6df37_level0_col1\" class=\"col_heading level0 col1\" >value</th>\n",
       "    </tr>\n",
       "  </thead>\n",
       "  <tbody>\n",
       "    <tr>\n",
       "      <th id=\"T_6df37_level0_row0\" class=\"row_heading level0 row0\" >0</th>\n",
       "      <td id=\"T_6df37_row0_col0\" class=\"data row0 col0\" >path</td>\n",
       "      <td id=\"T_6df37_row0_col1\" class=\"data row0 col1\" >billboard_100_1980s.csv</td>\n",
       "    </tr>\n",
       "    <tr>\n",
       "      <th id=\"T_6df37_level0_row1\" class=\"row_heading level0 row1\" >1</th>\n",
       "      <td id=\"T_6df37_row1_col0\" class=\"data row1 col0\" >base64_string</td>\n",
       "      <td id=\"T_6df37_row1_col1\" class=\"data row1 col1\" >d2Vla3Msc29uZyxhcnRpc3RzDQoxMCwiIiJQaHlzaWNhbCIiIixPbGl2aWEgTmV3dG9uLUpvaG4NCjksIiIiQmV0dGUgRGF2aXMgRXllcyIiIixLaW0gQ2FybmVzDQo5LCIiIkVuZGxlc3MgTG92ZSIiIixEaWFuYSBSb3NzIGFuZCBMaW9uZWwgUmljaGllDQo4LCIiIkV2ZXJ5IEJyZWF0aCBZb3UgVGFrZSIiIixUaGUgUG9saWNlDQo3LCIiIkkgTG92ZSBSb2NrICduJyBSb2xsIiIiLEpvYW4gSmV0dCBhbmQgdGhlIEJsYWNraGVhcnRzDQo3LCIiIkVib255IGFuZCBJdm9yeSIiIixQYXVsIE1jQ2FydG5leSBhbmQgU3RldmllIFdvbmRlcg0KNywiIiJCaWxsaWUgSmVhbiIiIixNaWNoYWVsIEphY2tzb24NCjYsIiIiQ2FsbCBNZSIiIixCbG9uZGllDQo2LCIiIkxhZHkiIiIsS2VubnkgUm9nZXJzDQo2LCIiIkNlbnRlcmZvbGQiIiIsVGhlIEouIEdlaWxzIEJhbmQNCjYsIiIiRXllIG9mIHRoZSBUaWdlciIiIixTdXJ2aXZvcg0KNiwiIiJGbGFzaGRhbmNlLi4uIFdoYXQgYSBGZWVsaW5nIiIiLElyZW5lIENhcmENCjYsIiIiU2F5LCBTYXksIFNheSIiIixQYXVsIE1jQ2FydG5leSBhbmQgTWljaGFlbCBKYWNrc29uDQo2LCIiIkxpa2UgYSBWaXJnaW4iIiIsTWFkb25uYQ0K</td>\n",
       "    </tr>\n",
       "    <tr>\n",
       "      <th id=\"T_6df37_level0_row2\" class=\"row_heading level0 row2\" >2</th>\n",
       "      <td id=\"T_6df37_row2_col0\" class=\"data row2 col0\" >binary</td>\n",
       "      <td id=\"T_6df37_row2_col1\" class=\"data row2 col1\" >False</td>\n",
       "    </tr>\n",
       "    <tr>\n",
       "      <th id=\"T_6df37_level0_row3\" class=\"row_heading level0 row3\" >3</th>\n",
       "      <td id=\"T_6df37_row3_col0\" class=\"data row3 col0\" >suffix</td>\n",
       "      <td id=\"T_6df37_row3_col1\" class=\"data row3 col1\" >csv</td>\n",
       "    </tr>\n",
       "    <tr>\n",
       "      <th id=\"T_6df37_level0_row4\" class=\"row_heading level0 row4\" >4</th>\n",
       "      <td id=\"T_6df37_row4_col0\" class=\"data row4 col0\" >mime_type</td>\n",
       "      <td id=\"T_6df37_row4_col1\" class=\"data row4 col1\" >text/csv</td>\n",
       "    </tr>\n",
       "    <tr>\n",
       "      <th id=\"T_6df37_level0_row5\" class=\"row_heading level0 row5\" >5</th>\n",
       "      <td id=\"T_6df37_row5_col0\" class=\"data row5 col0\" >extracted_text</td>\n",
       "      <td id=\"T_6df37_row5_col1\" class=\"data row5 col1\" >weeks,song,artists\r\n",
       "10,\"\"\"Physical\"\"\",Olivia Newton-John\r\n",
       "9,\"\"\"Bette Davis Eyes\"\"\",Kim Carnes\r\n",
       "9,\"\"\"Endless Love\"\"\",Diana Ross and Lionel Richie\r\n",
       "8,\"\"\"Every Breath You Take\"\"\",The Police\r\n",
       "7,\"\"\"I Love Rock 'n' Roll\"\"\",Joan Jett and the Blackhearts\r\n",
       "7,\"\"\"Ebony and Ivory\"\"\",Paul McCartney and Stevie Wonder\r\n",
       "7,\"\"\"Billie Jean\"\"\",Michael Jackson\r\n",
       "6,\"\"\"Call Me\"\"\",Blondie\r\n",
       "6,\"\"\"Lady\"\"\",Kenny Rogers\r\n",
       "6,\"\"\"Centerfold\"\"\",The J. Geils Band\r\n",
       "6,\"\"\"Eye of the Tiger\"\"\",Survivor\r\n",
       "6,\"\"\"Flashdance... What a Feeling\"\"\",Irene Cara\r\n",
       "6,\"\"\"Say, Say, Say\"\"\",Paul McCartney and Michael Jackson\r\n",
       "6,\"\"\"Like a Virgin\"\"\",Madonna\r\n",
       "</td>\n",
       "    </tr>\n",
       "  </tbody>\n",
       "</table>\n",
       "\n",
       "            </div>\n",
       "            <br>\n",
       "        <a download=\"billboard_100_1980s.csv\" \n",
       "           href=\"data:text/csv;base64,d2Vla3Msc29uZyxhcnRpc3RzDQoxMCwiIiJQaHlzaWNhbCIiIixPbGl2aWEgTmV3dG9uLUpvaG4NCjksIiIiQmV0dGUgRGF2aXMgRXllcyIiIixLaW0gQ2FybmVzDQo5LCIiIkVuZGxlc3MgTG92ZSIiIixEaWFuYSBSb3NzIGFuZCBMaW9uZWwgUmljaGllDQo4LCIiIkV2ZXJ5IEJyZWF0aCBZb3UgVGFrZSIiIixUaGUgUG9saWNlDQo3LCIiIkkgTG92ZSBSb2NrICduJyBSb2xsIiIiLEpvYW4gSmV0dCBhbmQgdGhlIEJsYWNraGVhcnRzDQo3LCIiIkVib255IGFuZCBJdm9yeSIiIixQYXVsIE1jQ2FydG5leSBhbmQgU3RldmllIFdvbmRlcg0KNywiIiJCaWxsaWUgSmVhbiIiIixNaWNoYWVsIEphY2tzb24NCjYsIiIiQ2FsbCBNZSIiIixCbG9uZGllDQo2LCIiIkxhZHkiIiIsS2VubnkgUm9nZXJzDQo2LCIiIkNlbnRlcmZvbGQiIiIsVGhlIEouIEdlaWxzIEJhbmQNCjYsIiIiRXllIG9mIHRoZSBUaWdlciIiIixTdXJ2aXZvcg0KNiwiIiJGbGFzaGRhbmNlLi4uIFdoYXQgYSBGZWVsaW5nIiIiLElyZW5lIENhcmENCjYsIiIiU2F5LCBTYXksIFNheSIiIixQYXVsIE1jQ2FydG5leSBhbmQgTWljaGFlbCBKYWNrc29uDQo2LCIiIkxpa2UgYSBWaXJnaW4iIiIsTWFkb25uYQ0K\" \n",
       "           style=\"background-color: #4CAF50; color: white; padding: 10px 20px; text-decoration: none; border-radius: 4px; display: inline-block; margin: 10px 0; font-family: sans-serif; cursor: pointer\">\n",
       "            Download billboard_100_1980s.csv\n",
       "        </a>\n",
       "        "
      ],
      "text/plain": [
       "FileStore(path='billboa...980s.csv', base64_string='d2Vla3M...b25uYQ0K', binary=False, suffix='csv', mime_type='text/csv', external_locations={}, extracted_text='weeks,s...onna\\r\\n')"
      ]
     },
     "execution_count": 7,
     "metadata": {},
     "output_type": "execute_result"
    }
   ],
   "source": [
    "s.to_csv(\"billboard_100_1980s.csv\")"
   ]
  },
  {
   "cell_type": "markdown",
   "id": "445931be-d370-48fd-9a7f-386fbfea1861",
   "metadata": {
    "editable": true,
    "slideshow": {
     "slide_type": ""
    },
    "tags": []
   },
   "source": [
    "### Posting data to Coop \n",
    "Here we post the CSV to Coop using `FileStore` (note that the file type is automatically inferred):"
   ]
  },
  {
   "cell_type": "code",
   "execution_count": 8,
   "id": "56c7a3ed-3bb7-48f5-9fa5-a3d8352149bc",
   "metadata": {
    "editable": true,
    "slideshow": {
     "slide_type": ""
    },
    "tags": [
     "skip-execution"
    ]
   },
   "outputs": [],
   "source": [
    "fs = FileStore(\"billboard_100_1980s.csv\")"
   ]
  },
  {
   "cell_type": "markdown",
   "id": "9b145a60-a712-4577-8a01-59158aa4983e",
   "metadata": {
    "editable": true,
    "slideshow": {
     "slide_type": ""
    },
    "tags": []
   },
   "source": [
    "We can post a `FileStore` object to the Coop by calling the `push()` method on it.\n",
    "We can optionally pass a `description` and a `visibility` setting - *public*, *unlisted* (by default) or *private*:"
   ]
  },
  {
   "cell_type": "code",
   "execution_count": 9,
   "id": "bc8224ee-c998-4595-8aca-76714edbe09e",
   "metadata": {
    "editable": true,
    "slideshow": {
     "slide_type": ""
    },
    "tags": [
     "skip-execution"
    ]
   },
   "outputs": [],
   "source": [
    "info = fs.push(description = \"Wikipedia: List of Billboard Hot 100 number-one singles of the 1980s\", visibility = \"public\")"
   ]
  },
  {
   "cell_type": "markdown",
   "id": "c09c446a-d958-401e-8612-121c8f9f9f09",
   "metadata": {
    "editable": true,
    "slideshow": {
     "slide_type": ""
    },
    "tags": []
   },
   "source": [
    "We can print the details of the posted object, including the URL and Coop uuid that we will need to retrieve it later:"
   ]
  },
  {
   "cell_type": "code",
   "execution_count": 10,
   "id": "3cf2980f-83ec-45d0-88ae-a419cd2ebf9d",
   "metadata": {
    "editable": true,
    "slideshow": {
     "slide_type": ""
    },
    "tags": [
     "skip-execution"
    ]
   },
   "outputs": [
    {
     "data": {
      "text/plain": [
       "{'description': 'Wikipedia: List of Billboard Hot 100 number-one singles of the 1980s',\n",
       " 'object_type': 'scenario',\n",
       " 'url': 'https://www.expectedparrot.com/content/2a77004a-c6d0-4767-ba18-9c0e24469d0b',\n",
       " 'uuid': '2a77004a-c6d0-4767-ba18-9c0e24469d0b',\n",
       " 'version': '0.1.39.dev2',\n",
       " 'visibility': 'public'}"
      ]
     },
     "execution_count": 10,
     "metadata": {},
     "output_type": "execute_result"
    }
   ],
   "source": [
    "info"
   ]
  },
  {
   "cell_type": "markdown",
   "id": "174fd745-c357-47c7-8560-c3b174fd5959",
   "metadata": {
    "editable": true,
    "slideshow": {
     "slide_type": ""
    },
    "tags": []
   },
   "source": [
    "### Retrieving a file and recreating scenarios\n",
    "Here we retrieve the file and recreate scenarios:"
   ]
  },
  {
   "cell_type": "code",
   "execution_count": 11,
   "id": "2f6da4cd-0b65-421f-a5fb-086acf54ad1c",
   "metadata": {
    "editable": true,
    "slideshow": {
     "slide_type": ""
    },
    "tags": [
     "skip-execution"
    ]
   },
   "outputs": [
    {
     "data": {
      "text/plain": [
       "'2a77004a-c6d0-4767-ba18-9c0e24469d0b'"
      ]
     },
     "execution_count": 11,
     "metadata": {},
     "output_type": "execute_result"
    }
   ],
   "source": [
    "uuid = info[\"uuid\"]\n",
    "uuid"
   ]
  },
  {
   "cell_type": "code",
   "execution_count": 12,
   "id": "b15c5108-6166-4ca4-b244-ddb7b3d6246f",
   "metadata": {
    "editable": true,
    "slideshow": {
     "slide_type": ""
    },
    "tags": [
     "skip-execution"
    ]
   },
   "outputs": [],
   "source": [
    "csv_file = FileStore.pull(uuid=uuid)"
   ]
  },
  {
   "cell_type": "code",
   "execution_count": 13,
   "id": "e435ef56-1fc7-4f6a-8252-a788f779aeb4",
   "metadata": {
    "editable": true,
    "slideshow": {
     "slide_type": ""
    },
    "tags": [
     "skip-execution"
    ]
   },
   "outputs": [],
   "source": [
    "s = ScenarioList.from_csv(csv_file.to_tempfile())"
   ]
  },
  {
   "cell_type": "code",
   "execution_count": 14,
   "id": "d8910b50-f627-455c-9b3e-1cada77def69",
   "metadata": {
    "editable": true,
    "slideshow": {
     "slide_type": ""
    },
    "tags": [
     "skip-execution"
    ]
   },
   "outputs": [
    {
     "data": {
      "text/html": [
       "<p><a href='https://docs.expectedparrot.com/en/latest/scenarios.html#scenariolist'>ScenarioList</a> scenarios: 14; keys: ['artists', 'song', 'weeks'];</p>\n",
       "            <div style=\"max-height: 500px; overflow-y: auto;\">\n",
       "                <style type=\"text/css\">\n",
       "#T_fac01_row0_col0 {\n",
       "  text-align: left;\n",
       "  background-color: #023858;\n",
       "  color: #f1f1f1;\n",
       "}\n",
       "#T_fac01_row0_col1, #T_fac01_row0_col2, #T_fac01_row1_col1, #T_fac01_row1_col2, #T_fac01_row2_col1, #T_fac01_row2_col2, #T_fac01_row3_col1, #T_fac01_row3_col2, #T_fac01_row4_col1, #T_fac01_row4_col2, #T_fac01_row5_col1, #T_fac01_row5_col2, #T_fac01_row6_col1, #T_fac01_row6_col2, #T_fac01_row7_col1, #T_fac01_row7_col2, #T_fac01_row8_col1, #T_fac01_row8_col2, #T_fac01_row9_col1, #T_fac01_row9_col2, #T_fac01_row10_col1, #T_fac01_row10_col2, #T_fac01_row11_col1, #T_fac01_row11_col2, #T_fac01_row12_col1, #T_fac01_row12_col2, #T_fac01_row13_col1, #T_fac01_row13_col2 {\n",
       "  text-align: left;\n",
       "}\n",
       "#T_fac01_row1_col0, #T_fac01_row2_col0 {\n",
       "  text-align: left;\n",
       "  background-color: #056faf;\n",
       "  color: #f1f1f1;\n",
       "}\n",
       "#T_fac01_row3_col0 {\n",
       "  text-align: left;\n",
       "  background-color: #73a9cf;\n",
       "  color: #f1f1f1;\n",
       "}\n",
       "#T_fac01_row4_col0, #T_fac01_row5_col0, #T_fac01_row6_col0 {\n",
       "  text-align: left;\n",
       "  background-color: #d0d1e6;\n",
       "  color: #000000;\n",
       "}\n",
       "#T_fac01_row7_col0, #T_fac01_row8_col0, #T_fac01_row9_col0, #T_fac01_row10_col0, #T_fac01_row11_col0, #T_fac01_row12_col0, #T_fac01_row13_col0 {\n",
       "  text-align: left;\n",
       "  background-color: #fff7fb;\n",
       "  color: #000000;\n",
       "}\n",
       "</style>\n",
       "<table id=\"T_fac01\">\n",
       "  <thead>\n",
       "    <tr>\n",
       "      <th class=\"blank level0\" >&nbsp;</th>\n",
       "      <th id=\"T_fac01_level0_col0\" class=\"col_heading level0 col0\" >weeks</th>\n",
       "      <th id=\"T_fac01_level0_col1\" class=\"col_heading level0 col1\" >song</th>\n",
       "      <th id=\"T_fac01_level0_col2\" class=\"col_heading level0 col2\" >artists</th>\n",
       "    </tr>\n",
       "  </thead>\n",
       "  <tbody>\n",
       "    <tr>\n",
       "      <th id=\"T_fac01_level0_row0\" class=\"row_heading level0 row0\" >0</th>\n",
       "      <td id=\"T_fac01_row0_col0\" class=\"data row0 col0\" >10</td>\n",
       "      <td id=\"T_fac01_row0_col1\" class=\"data row0 col1\" >\"Physical\"</td>\n",
       "      <td id=\"T_fac01_row0_col2\" class=\"data row0 col2\" >Olivia Newton-John</td>\n",
       "    </tr>\n",
       "    <tr>\n",
       "      <th id=\"T_fac01_level0_row1\" class=\"row_heading level0 row1\" >1</th>\n",
       "      <td id=\"T_fac01_row1_col0\" class=\"data row1 col0\" >9</td>\n",
       "      <td id=\"T_fac01_row1_col1\" class=\"data row1 col1\" >\"Bette Davis Eyes\"</td>\n",
       "      <td id=\"T_fac01_row1_col2\" class=\"data row1 col2\" >Kim Carnes</td>\n",
       "    </tr>\n",
       "    <tr>\n",
       "      <th id=\"T_fac01_level0_row2\" class=\"row_heading level0 row2\" >2</th>\n",
       "      <td id=\"T_fac01_row2_col0\" class=\"data row2 col0\" >9</td>\n",
       "      <td id=\"T_fac01_row2_col1\" class=\"data row2 col1\" >\"Endless Love\"</td>\n",
       "      <td id=\"T_fac01_row2_col2\" class=\"data row2 col2\" >Diana Ross and Lionel Richie</td>\n",
       "    </tr>\n",
       "    <tr>\n",
       "      <th id=\"T_fac01_level0_row3\" class=\"row_heading level0 row3\" >3</th>\n",
       "      <td id=\"T_fac01_row3_col0\" class=\"data row3 col0\" >8</td>\n",
       "      <td id=\"T_fac01_row3_col1\" class=\"data row3 col1\" >\"Every Breath You Take\"</td>\n",
       "      <td id=\"T_fac01_row3_col2\" class=\"data row3 col2\" >The Police</td>\n",
       "    </tr>\n",
       "    <tr>\n",
       "      <th id=\"T_fac01_level0_row4\" class=\"row_heading level0 row4\" >4</th>\n",
       "      <td id=\"T_fac01_row4_col0\" class=\"data row4 col0\" >7</td>\n",
       "      <td id=\"T_fac01_row4_col1\" class=\"data row4 col1\" >\"I Love Rock 'n' Roll\"</td>\n",
       "      <td id=\"T_fac01_row4_col2\" class=\"data row4 col2\" >Joan Jett and the Blackhearts</td>\n",
       "    </tr>\n",
       "    <tr>\n",
       "      <th id=\"T_fac01_level0_row5\" class=\"row_heading level0 row5\" >5</th>\n",
       "      <td id=\"T_fac01_row5_col0\" class=\"data row5 col0\" >7</td>\n",
       "      <td id=\"T_fac01_row5_col1\" class=\"data row5 col1\" >\"Ebony and Ivory\"</td>\n",
       "      <td id=\"T_fac01_row5_col2\" class=\"data row5 col2\" >Paul McCartney and Stevie Wonder</td>\n",
       "    </tr>\n",
       "    <tr>\n",
       "      <th id=\"T_fac01_level0_row6\" class=\"row_heading level0 row6\" >6</th>\n",
       "      <td id=\"T_fac01_row6_col0\" class=\"data row6 col0\" >7</td>\n",
       "      <td id=\"T_fac01_row6_col1\" class=\"data row6 col1\" >\"Billie Jean\"</td>\n",
       "      <td id=\"T_fac01_row6_col2\" class=\"data row6 col2\" >Michael Jackson</td>\n",
       "    </tr>\n",
       "    <tr>\n",
       "      <th id=\"T_fac01_level0_row7\" class=\"row_heading level0 row7\" >7</th>\n",
       "      <td id=\"T_fac01_row7_col0\" class=\"data row7 col0\" >6</td>\n",
       "      <td id=\"T_fac01_row7_col1\" class=\"data row7 col1\" >\"Call Me\"</td>\n",
       "      <td id=\"T_fac01_row7_col2\" class=\"data row7 col2\" >Blondie</td>\n",
       "    </tr>\n",
       "    <tr>\n",
       "      <th id=\"T_fac01_level0_row8\" class=\"row_heading level0 row8\" >8</th>\n",
       "      <td id=\"T_fac01_row8_col0\" class=\"data row8 col0\" >6</td>\n",
       "      <td id=\"T_fac01_row8_col1\" class=\"data row8 col1\" >\"Lady\"</td>\n",
       "      <td id=\"T_fac01_row8_col2\" class=\"data row8 col2\" >Kenny Rogers</td>\n",
       "    </tr>\n",
       "    <tr>\n",
       "      <th id=\"T_fac01_level0_row9\" class=\"row_heading level0 row9\" >9</th>\n",
       "      <td id=\"T_fac01_row9_col0\" class=\"data row9 col0\" >6</td>\n",
       "      <td id=\"T_fac01_row9_col1\" class=\"data row9 col1\" >\"Centerfold\"</td>\n",
       "      <td id=\"T_fac01_row9_col2\" class=\"data row9 col2\" >The J. Geils Band</td>\n",
       "    </tr>\n",
       "    <tr>\n",
       "      <th id=\"T_fac01_level0_row10\" class=\"row_heading level0 row10\" >10</th>\n",
       "      <td id=\"T_fac01_row10_col0\" class=\"data row10 col0\" >6</td>\n",
       "      <td id=\"T_fac01_row10_col1\" class=\"data row10 col1\" >\"Eye of the Tiger\"</td>\n",
       "      <td id=\"T_fac01_row10_col2\" class=\"data row10 col2\" >Survivor</td>\n",
       "    </tr>\n",
       "    <tr>\n",
       "      <th id=\"T_fac01_level0_row11\" class=\"row_heading level0 row11\" >11</th>\n",
       "      <td id=\"T_fac01_row11_col0\" class=\"data row11 col0\" >6</td>\n",
       "      <td id=\"T_fac01_row11_col1\" class=\"data row11 col1\" >\"Flashdance... What a Feeling\"</td>\n",
       "      <td id=\"T_fac01_row11_col2\" class=\"data row11 col2\" >Irene Cara</td>\n",
       "    </tr>\n",
       "    <tr>\n",
       "      <th id=\"T_fac01_level0_row12\" class=\"row_heading level0 row12\" >12</th>\n",
       "      <td id=\"T_fac01_row12_col0\" class=\"data row12 col0\" >6</td>\n",
       "      <td id=\"T_fac01_row12_col1\" class=\"data row12 col1\" >\"Say, Say, Say\"</td>\n",
       "      <td id=\"T_fac01_row12_col2\" class=\"data row12 col2\" >Paul McCartney and Michael Jackson</td>\n",
       "    </tr>\n",
       "    <tr>\n",
       "      <th id=\"T_fac01_level0_row13\" class=\"row_heading level0 row13\" >13</th>\n",
       "      <td id=\"T_fac01_row13_col0\" class=\"data row13 col0\" >6</td>\n",
       "      <td id=\"T_fac01_row13_col1\" class=\"data row13 col1\" >\"Like a Virgin\"</td>\n",
       "      <td id=\"T_fac01_row13_col2\" class=\"data row13 col2\" >Madonna</td>\n",
       "    </tr>\n",
       "  </tbody>\n",
       "</table>\n",
       "\n",
       "            </div>\n",
       "            "
      ],
      "text/plain": [
       "ScenarioList([Scenario({'weeks': '10', 'song': '\"Physical\"', 'artists': 'Olivia Newton-John'}), Scenario({'weeks': '9', 'song': '\"Bette Davis Eyes\"', 'artists': 'Kim Carnes'}), Scenario({'weeks': '9', 'song': '\"Endless Love\"', 'artists': 'Diana Ross and Lionel Richie'}), Scenario({'weeks': '8', 'song': '\"Every Breath You Take\"', 'artists': 'The Police'}), Scenario({'weeks': '7', 'song': '\"I Love Rock \\'n\\' Roll\"', 'artists': 'Joan Jett and the Blackhearts'}), Scenario({'weeks': '7', 'song': '\"Ebony and Ivory\"', 'artists': 'Paul McCartney and Stevie Wonder'}), Scenario({'weeks': '7', 'song': '\"Billie Jean\"', 'artists': 'Michael Jackson'}), Scenario({'weeks': '6', 'song': '\"Call Me\"', 'artists': 'Blondie'}), Scenario({'weeks': '6', 'song': '\"Lady\"', 'artists': 'Kenny Rogers'}), Scenario({'weeks': '6', 'song': '\"Centerfold\"', 'artists': 'The J. Geils Band'}), Scenario({'weeks': '6', 'song': '\"Eye of the Tiger\"', 'artists': 'Survivor'}), Scenario({'weeks': '6', 'song': '\"Flashdance... What a Feeling\"', 'artists': 'Irene Cara'}), Scenario({'weeks': '6', 'song': '\"Say, Say, Say\"', 'artists': 'Paul McCartney and Michael Jackson'}), Scenario({'weeks': '6', 'song': '\"Like a Virgin\"', 'artists': 'Madonna'})])"
      ]
     },
     "execution_count": 14,
     "metadata": {},
     "output_type": "execute_result"
    }
   ],
   "source": [
    "s"
   ]
  },
  {
   "cell_type": "markdown",
   "id": "dae17cb1-8b12-46b0-a953-aa6f53a3c5f8",
   "metadata": {
    "editable": true,
    "slideshow": {
     "slide_type": ""
    },
    "tags": []
   },
   "source": [
    "### Using scenarios in a survey\n",
    "We can use the scenarios with a survey by creating placeholders in the questions for the scenario keys, and adding the scenarios to the survey when we run it:"
   ]
  },
  {
   "cell_type": "code",
   "execution_count": 15,
   "id": "700d81c8-5a66-4a98-94c1-2b3c23632963",
   "metadata": {
    "editable": true,
    "slideshow": {
     "slide_type": ""
    },
    "tags": [
     "skip-execution"
    ]
   },
   "outputs": [
    {
     "data": {
      "text/html": [
       "\n",
       "            <!-- #region Remove Inference Info -->\n",
       "            <div id=\"logger-d20b0786-63b1-4b6d-8682-d0097efa7fe2\" class=\"job-logger\">\n",
       "                <div class=\"job-logger-header\">\n",
       "                    <span>\n",
       "                        <span id=\"arrow-d20b0786-63b1-4b6d-8682-d0097efa7fe2\">▼</span> \n",
       "                        Job Status (2024-12-28 14:52:16)\n",
       "                    </span>\n",
       "                </div>\n",
       "                <div id=\"content-d20b0786-63b1-4b6d-8682-d0097efa7fe2\" style=\"display: block;\">\n",
       "                    <table class=\"job-logger-table\">\n",
       "                        \n",
       "            <tr>\n",
       "                <td class=\"job-logger-cell job-logger-label\">Job UUID</td>\n",
       "                <td class=\"job-logger-cell job-logger-value\">0c644984-42b7-40a8-a07f-eb75685db41a</td>\n",
       "            </tr>\n",
       "        \n",
       "            <tr>\n",
       "                <td class=\"job-logger-cell job-logger-label\">Progress Bar URL</td>\n",
       "                <td class=\"job-logger-cell job-logger-value\"><a href=\"https://www.expectedparrot.com/home/remote-job-progress/0c644984-42b7-40a8-a07f-eb75685db41a\" target=\"_blank\" class=\"job-logger-link\">https://www.expectedparrot.com/home/remote-job-progress/0c644984-42b7-40a8-a07f-eb75685db41a</a></td>\n",
       "            </tr>\n",
       "        \n",
       "            <tr>\n",
       "                <td class=\"job-logger-cell job-logger-label\">Error Report URL</td>\n",
       "                <td class=\"job-logger-cell job-logger-value\">None</td>\n",
       "            </tr>\n",
       "        \n",
       "            <tr>\n",
       "                <td class=\"job-logger-cell job-logger-label\">Results UUID</td>\n",
       "                <td class=\"job-logger-cell job-logger-value\">607e4d0d-d7d8-4928-a1b9-34e9cd41fb9f</td>\n",
       "            </tr>\n",
       "        \n",
       "            <tr>\n",
       "                <td class=\"job-logger-cell job-logger-label\">Results URL</td>\n",
       "                <td class=\"job-logger-cell job-logger-value\">None</td>\n",
       "            </tr>\n",
       "        \n",
       "                    </table>\n",
       "                    \n",
       "                <div class=\"job-logger-status\">\n",
       "                    <span style=\"margin-right: 8px;\" class=\"job-logger-success\">✓</span><strong>Current Status:</strong> Job completed and Results stored on Coop: <a href=\"https://www.expectedparrot.com/content/607e4d0d-d7d8-4928-a1b9-34e9cd41fb9f\" target=\"_blank\" class=\"job-logger-link\">https://www.expectedparrot.com/content/607e4d0d-d7d8-4928-a1b9-34e9cd41fb9f</a>\n",
       "                </div>\n",
       "            \n",
       "                </div>\n",
       "            </div>\n",
       "            <!-- # endregion -->\n",
       "        "
      ],
      "text/plain": [
       "<IPython.core.display.HTML object>"
      ]
     },
     "metadata": {},
     "output_type": "display_data"
    },
    {
     "data": {
      "text/html": [
       "\n",
       "        <style>\n",
       "            /* Base theme variables */\n",
       "            :root {\n",
       "                --jl-bg-primary: #ffffff;\n",
       "                --jl-bg-secondary: #f5f5f5;\n",
       "                --jl-border-color: #e0e0e0;\n",
       "                --jl-text-primary: #24292e;\n",
       "                --jl-text-secondary: #586069;\n",
       "                --jl-link-color: #0366d6;\n",
       "                --jl-success-color: #28a745;\n",
       "                --jl-error-color: #d73a49;\n",
       "                --jl-header-bg: #f1f1f1;\n",
       "            }\n",
       "            \n",
       "            /* Dark theme variables */\n",
       "            .theme-dark {\n",
       "                --jl-bg-primary: #1e1e1e;\n",
       "                --jl-bg-secondary: #252526;\n",
       "                --jl-border-color: #2d2d2d;\n",
       "                --jl-text-primary: #cccccc;\n",
       "                --jl-text-secondary: #999999;\n",
       "                --jl-link-color: #4e94ce;\n",
       "                --jl-success-color: #89d185;\n",
       "                --jl-error-color: #f14c4c;\n",
       "                --jl-header-bg: #333333;\n",
       "            }\n",
       "\n",
       "            /* High contrast theme variables */\n",
       "            .theme-high-contrast {\n",
       "                --jl-bg-primary: #000000;\n",
       "                --jl-bg-secondary: #1a1a1a;\n",
       "                --jl-border-color: #404040;\n",
       "                --jl-text-primary: #ffffff;\n",
       "                --jl-text-secondary: #cccccc;\n",
       "                --jl-link-color: #66b3ff;\n",
       "                --jl-success-color: #00ff00;\n",
       "                --jl-error-color: #ff0000;\n",
       "                --jl-header-bg: #262626;\n",
       "            }\n",
       "            \n",
       "            .job-logger {\n",
       "                font-family: system-ui, -apple-system, sans-serif;\n",
       "                max-width: 800px;\n",
       "                margin: 10px 0;\n",
       "                color: var(--jl-text-primary);\n",
       "                box-shadow: 0 1px 3px rgba(0,0,0,0.12);\n",
       "                border-radius: 4px;\n",
       "                overflow: hidden;\n",
       "            }\n",
       "            \n",
       "            .job-logger-header {\n",
       "                padding: 12px 16px;\n",
       "                background: var(--jl-header-bg);\n",
       "                border: none;\n",
       "                border-radius: 4px 4px 0 0;\n",
       "                cursor: pointer;\n",
       "                color: var(--jl-text-primary);\n",
       "                user-select: none;\n",
       "                font-weight: 500;\n",
       "                letter-spacing: 0.3px;\n",
       "                display: flex;\n",
       "                justify-content: space-between;\n",
       "                align-items: center;\n",
       "            }\n",
       "            \n",
       "            .theme-select {\n",
       "                padding: 4px 8px;\n",
       "                border-radius: 4px;\n",
       "                border: 1px solid var(--jl-border-color);\n",
       "                background: var(--jl-bg-primary);\n",
       "                color: var(--jl-text-primary);\n",
       "                font-size: 0.9em;\n",
       "            }\n",
       "            \n",
       "            .job-logger-table {\n",
       "                width: 100%;\n",
       "                border-collapse: separate;\n",
       "                border-spacing: 0;\n",
       "                background: var(--jl-bg-primary);\n",
       "                border: 1px solid var(--jl-border-color);\n",
       "                margin-top: -1px;\n",
       "            }\n",
       "            \n",
       "            .job-logger-cell {\n",
       "                padding: 12px 16px;\n",
       "                border-bottom: 1px solid var(--jl-border-color);\n",
       "                line-height: 1.4;\n",
       "            }\n",
       "            \n",
       "            .job-logger-label {\n",
       "                font-weight: 500;\n",
       "                color: var(--jl-text-primary);\n",
       "                width: 25%;\n",
       "                background: var(--jl-bg-secondary);\n",
       "            }\n",
       "            \n",
       "            .job-logger-value {\n",
       "                color: var(--jl-text-secondary);\n",
       "                word-break: break-word;\n",
       "            }\n",
       "            \n",
       "            .job-logger-status {\n",
       "                margin: 0;\n",
       "                padding: 12px 16px;\n",
       "                background-color: var(--jl-bg-secondary);\n",
       "                border: 1px solid var(--jl-border-color);\n",
       "                border-top: none;\n",
       "                border-radius: 0 0 4px 4px;\n",
       "                color: var(--jl-text-primary);\n",
       "                font-size: 0.95em;\n",
       "            }\n",
       "        </style>\n",
       "        \n",
       "        <script>\n",
       "            class ThemeManager {\n",
       "                constructor(logId, initialTheme = 'auto') {\n",
       "                    this.logId = logId;\n",
       "                    this.currentTheme = initialTheme;\n",
       "                    this.darkModeMediaQuery = window.matchMedia('(prefers-color-scheme: dark)');\n",
       "                    this.init();\n",
       "                }\n",
       "                \n",
       "                init() {\n",
       "                    this.setupThemeSwitcher();\n",
       "                    this.updateTheme(this.currentTheme);\n",
       "                    \n",
       "                    this.darkModeMediaQuery.addListener(() => {\n",
       "                        if (this.currentTheme === 'auto') {\n",
       "                            this.updateTheme('auto');\n",
       "                        }\n",
       "                    });\n",
       "                }\n",
       "                \n",
       "                setupThemeSwitcher() {\n",
       "                    const logger = document.querySelector(`#logger-${this.logId}`);\n",
       "                    if (!logger) return;\n",
       "                    \n",
       "                    const switcher = document.createElement('div');\n",
       "                    switcher.className = 'theme-switcher';\n",
       "                    switcher.innerHTML = `\n",
       "                        <select id=\"theme-select-${this.logId}\" class=\"theme-select\">\n",
       "                            <option value=\"auto\">Auto</option>\n",
       "                            <option value=\"light\">Light</option>\n",
       "                            <option value=\"dark\">Dark</option>\n",
       "                            <option value=\"high-contrast\">High Contrast</option>\n",
       "                        </select>\n",
       "                    `;\n",
       "                    \n",
       "                    const header = logger.querySelector('.job-logger-header');\n",
       "                    header.appendChild(switcher);\n",
       "                    \n",
       "                    const select = switcher.querySelector('select');\n",
       "                    select.value = this.currentTheme;\n",
       "                    select.addEventListener('change', (e) => {\n",
       "                        this.updateTheme(e.target.value);\n",
       "                    });\n",
       "                }\n",
       "                \n",
       "                updateTheme(theme) {\n",
       "                    const logger = document.querySelector(`#logger-${this.logId}`);\n",
       "                    if (!logger) return;\n",
       "                    \n",
       "                    this.currentTheme = theme;\n",
       "                    \n",
       "                    logger.classList.remove('theme-light', 'theme-dark', 'theme-high-contrast');\n",
       "                    \n",
       "                    if (theme === 'auto') {\n",
       "                        const isDark = this.darkModeMediaQuery.matches;\n",
       "                        logger.classList.add(isDark ? 'theme-dark' : 'theme-light');\n",
       "                    } else {\n",
       "                        logger.classList.add(`theme-${theme}`);\n",
       "                    }\n",
       "                    \n",
       "                    try {\n",
       "                        localStorage.setItem('jobLoggerTheme', theme);\n",
       "                    } catch (e) {\n",
       "                        console.warn('Unable to save theme preference:', e);\n",
       "                    }\n",
       "                }\n",
       "            }\n",
       "            \n",
       "            window.initThemeManager = (logId, initialTheme) => {\n",
       "                new ThemeManager(logId, initialTheme);\n",
       "            };\n",
       "        </script>\n",
       "        \n",
       "        <script>\n",
       "            document.addEventListener('DOMContentLoaded', () => {\n",
       "                window.initThemeManager('d20b0786-63b1-4b6d-8682-d0097efa7fe2', 'auto');\n",
       "            });\n",
       "        </script>\n",
       "        "
      ],
      "text/plain": [
       "<IPython.core.display.HTML object>"
      ]
     },
     "metadata": {},
     "output_type": "display_data"
    }
   ],
   "source": [
    "from edsl import QuestionFreeText, QuestionMultipleChoice, QuestionCheckBox, QuestionList, Survey\n",
    "\n",
    "q1 = QuestionFreeText(\n",
    "    question_name = \"topic\",\n",
    "    question_text = \"What is the topic of the song {{ song }} by {{ artists }}?\"\n",
    ")\n",
    "\n",
    "q2 = QuestionMultipleChoice(\n",
    "    question_name = \"sentiment\",\n",
    "    question_text = \"What is the sentiment of the song {{ song }} by {{ artists }}?\",\n",
    "    question_options = [\n",
    "        \"Happy\",\n",
    "        \"Sad\",\n",
    "        \"Angry\",\n",
    "        \"Romantic\",\n",
    "        \"Nostalgic\",\n",
    "        \"Empowering\",\n",
    "        \"Melancholic\",\n",
    "        \"Hopeful\"\n",
    "    ]\n",
    ")\n",
    "\n",
    "q3 = QuestionCheckBox(\n",
    "    question_name = \"themes\",\n",
    "    question_text = \"What themes are present in the song {{ song }} by {{ artists }}?\",\n",
    "    question_options = [\n",
    "        \"Love\",\n",
    "        \"Loss\",\n",
    "        \"Struggle\",\n",
    "        \"Celebration\",\n",
    "        \"Social issues\",\n",
    "        \"Other\"\n",
    "    ]\n",
    ")\n",
    "\n",
    "q4 = QuestionList(\n",
    "    question_name = \"other_themes\",\n",
    "    question_text = \"What other themes are present?\"\n",
    ")\n",
    "\n",
    "survey = (\n",
    "    Survey(questions = [q1, q2, q3, q4])\n",
    "    .add_targeted_memory(q4, q3)\n",
    "    .add_stop_rule(q3, \"'Other' not in themes\")\n",
    ")\n",
    "\n",
    "results = survey.by(s).run()"
   ]
  },
  {
   "cell_type": "markdown",
   "id": "18f04c0b-253b-41a4-9eac-53e815e5487e",
   "metadata": {
    "editable": true,
    "slideshow": {
     "slide_type": ""
    },
    "tags": []
   },
   "source": [
    "We can filter, sort, select and print any components of the results that are generated. \n",
    "Note that the results include columns for all scenario keys, whether used in question texts or not:"
   ]
  },
  {
   "cell_type": "code",
   "execution_count": 16,
   "id": "3e5530bf-867e-4ab9-9b19-e93b504f8021",
   "metadata": {
    "editable": true,
    "slideshow": {
     "slide_type": ""
    },
    "tags": [
     "skip-execution"
    ]
   },
   "outputs": [
    {
     "data": {
      "text/html": [
       "\n",
       "            <div style=\"max-height: 500px; overflow-y: auto;\">\n",
       "                <style type=\"text/css\">\n",
       "#T_fc0bc_row0_col0, #T_fc0bc_row0_col1, #T_fc0bc_row0_col2, #T_fc0bc_row1_col0, #T_fc0bc_row1_col1, #T_fc0bc_row1_col2, #T_fc0bc_row2_col0, #T_fc0bc_row2_col1, #T_fc0bc_row2_col2, #T_fc0bc_row3_col0, #T_fc0bc_row3_col1, #T_fc0bc_row3_col2, #T_fc0bc_row4_col0, #T_fc0bc_row4_col1, #T_fc0bc_row4_col2, #T_fc0bc_row5_col0, #T_fc0bc_row5_col1, #T_fc0bc_row5_col2, #T_fc0bc_row6_col0, #T_fc0bc_row6_col1, #T_fc0bc_row6_col2, #T_fc0bc_row7_col0, #T_fc0bc_row7_col1, #T_fc0bc_row7_col2, #T_fc0bc_row8_col0, #T_fc0bc_row8_col1, #T_fc0bc_row8_col2, #T_fc0bc_row9_col0, #T_fc0bc_row9_col1, #T_fc0bc_row9_col2, #T_fc0bc_row10_col0, #T_fc0bc_row10_col1, #T_fc0bc_row10_col2, #T_fc0bc_row11_col0, #T_fc0bc_row11_col1, #T_fc0bc_row11_col2, #T_fc0bc_row12_col0, #T_fc0bc_row12_col1, #T_fc0bc_row12_col2, #T_fc0bc_row13_col0, #T_fc0bc_row13_col1, #T_fc0bc_row13_col2 {\n",
       "  text-align: left;\n",
       "}\n",
       "</style>\n",
       "<table id=\"T_fc0bc\">\n",
       "  <thead>\n",
       "    <tr>\n",
       "      <th class=\"blank level0\" >&nbsp;</th>\n",
       "      <th id=\"T_fc0bc_level0_col0\" class=\"col_heading level0 col0\" >scenario.song</th>\n",
       "      <th id=\"T_fc0bc_level0_col1\" class=\"col_heading level0 col1\" >scenario.artists</th>\n",
       "      <th id=\"T_fc0bc_level0_col2\" class=\"col_heading level0 col2\" >answer.topic</th>\n",
       "    </tr>\n",
       "  </thead>\n",
       "  <tbody>\n",
       "    <tr>\n",
       "      <th id=\"T_fc0bc_level0_row0\" class=\"row_heading level0 row0\" >0</th>\n",
       "      <td id=\"T_fc0bc_row0_col0\" class=\"data row0 col0\" >\"Bette Davis Eyes\"</td>\n",
       "      <td id=\"T_fc0bc_row0_col1\" class=\"data row0 col1\" >Kim Carnes</td>\n",
       "      <td id=\"T_fc0bc_row0_col2\" class=\"data row0 col2\" >The song \"Bette Davis Eyes\" by Kim Carnes is about a woman who is captivating and alluring, with a mysterious and seductive charm reminiscent of the iconic actress Bette Davis. The lyrics describe how this woman has an intense and mesmerizing presence, with a certain allure that draws people in, much like Bette Davis was known for her distinctive eyes and strong screen presence. The song highlights her ability to enchant and manipulate those around her with her charisma and enigmatic personality.</td>\n",
       "    </tr>\n",
       "    <tr>\n",
       "      <th id=\"T_fc0bc_level0_row1\" class=\"row_heading level0 row1\" >1</th>\n",
       "      <td id=\"T_fc0bc_row1_col0\" class=\"data row1 col0\" >\"Billie Jean\"</td>\n",
       "      <td id=\"T_fc0bc_row1_col1\" class=\"data row1 col1\" >Michael Jackson</td>\n",
       "      <td id=\"T_fc0bc_row1_col2\" class=\"data row1 col2\" >The song \"Billie Jean\" by Michael Jackson is about a man who is confronted by a woman named Billie Jean who claims that he is the father of her son. The lyrics describe his denial of her allegations and his insistence that she is lying. The song explores themes of false accusations, the burden of fame, and the impact of rumors on personal life.</td>\n",
       "    </tr>\n",
       "    <tr>\n",
       "      <th id=\"T_fc0bc_level0_row2\" class=\"row_heading level0 row2\" >2</th>\n",
       "      <td id=\"T_fc0bc_row2_col0\" class=\"data row2 col0\" >\"Call Me\"</td>\n",
       "      <td id=\"T_fc0bc_row2_col1\" class=\"data row2 col1\" >Blondie</td>\n",
       "      <td id=\"T_fc0bc_row2_col2\" class=\"data row2 col2\" >The song \"Call Me\" by Blondie is about a person expressing their desire for a romantic connection and availability to a potential lover. The lyrics convey a sense of urgency and excitement, inviting the other person to reach out and make contact at any time. The song captures the thrill and anticipation of new love, emphasizing themes of passion and longing.</td>\n",
       "    </tr>\n",
       "    <tr>\n",
       "      <th id=\"T_fc0bc_level0_row3\" class=\"row_heading level0 row3\" >3</th>\n",
       "      <td id=\"T_fc0bc_row3_col0\" class=\"data row3 col0\" >\"Centerfold\"</td>\n",
       "      <td id=\"T_fc0bc_row3_col1\" class=\"data row3 col1\" >The J. Geils Band</td>\n",
       "      <td id=\"T_fc0bc_row3_col2\" class=\"data row3 col2\" >The song \"Centerfold\" by The J. Geils Band is about a man who discovers that a former crush from his school days has become a model featured in a men's magazine. The lyrics express his surprise and mixed emotions as he grapples with the contrast between his innocent memories of her and her new, more provocative public image.</td>\n",
       "    </tr>\n",
       "    <tr>\n",
       "      <th id=\"T_fc0bc_level0_row4\" class=\"row_heading level0 row4\" >4</th>\n",
       "      <td id=\"T_fc0bc_row4_col0\" class=\"data row4 col0\" >\"Ebony and Ivory\"</td>\n",
       "      <td id=\"T_fc0bc_row4_col1\" class=\"data row4 col1\" >Paul McCartney and Stevie Wonder</td>\n",
       "      <td id=\"T_fc0bc_row4_col2\" class=\"data row4 col2\" >The song \"Ebony and Ivory\" by Paul McCartney and Stevie Wonder addresses themes of racial harmony and unity. It uses the metaphor of piano keys—ebony (black) and ivory (white)—to symbolize how different races can coexist peacefully and complement each other, just as the keys work together to create beautiful music.</td>\n",
       "    </tr>\n",
       "    <tr>\n",
       "      <th id=\"T_fc0bc_level0_row5\" class=\"row_heading level0 row5\" >5</th>\n",
       "      <td id=\"T_fc0bc_row5_col0\" class=\"data row5 col0\" >\"Endless Love\"</td>\n",
       "      <td id=\"T_fc0bc_row5_col1\" class=\"data row5 col1\" >Diana Ross and Lionel Richie</td>\n",
       "      <td id=\"T_fc0bc_row5_col2\" class=\"data row5 col2\" >The song \"Endless Love\" by Diana Ross and Lionel Richie is about a deep, romantic love between two people. The lyrics express a commitment to loving each other endlessly and highlight the emotional connection and devotion they share. It's often considered a classic love song and is frequently played at weddings and romantic occasions.</td>\n",
       "    </tr>\n",
       "    <tr>\n",
       "      <th id=\"T_fc0bc_level0_row6\" class=\"row_heading level0 row6\" >6</th>\n",
       "      <td id=\"T_fc0bc_row6_col0\" class=\"data row6 col0\" >\"Every Breath You Take\"</td>\n",
       "      <td id=\"T_fc0bc_row6_col1\" class=\"data row6 col1\" >The Police</td>\n",
       "      <td id=\"T_fc0bc_row6_col2\" class=\"data row6 col2\" >The song \"Every Breath You Take\" by The Police is often interpreted as being about obsession and surveillance. While it is frequently perceived as a romantic song, the lyrics actually convey a sense of possessiveness and control, with the narrator closely watching and monitoring every move of the person they are addressing. This underlying theme of obsession contrasts with the song's soothing melody, creating an intriguing dynamic.</td>\n",
       "    </tr>\n",
       "    <tr>\n",
       "      <th id=\"T_fc0bc_level0_row7\" class=\"row_heading level0 row7\" >7</th>\n",
       "      <td id=\"T_fc0bc_row7_col0\" class=\"data row7 col0\" >\"Eye of the Tiger\"</td>\n",
       "      <td id=\"T_fc0bc_row7_col1\" class=\"data row7 col1\" >Survivor</td>\n",
       "      <td id=\"T_fc0bc_row7_col2\" class=\"data row7 col2\" >The song \"Eye of the Tiger\" by Survivor is about perseverance, determination, and fighting spirit. It was famously used as the theme song for the movie \"Rocky III.\" The lyrics emphasize staying focused, facing challenges head-on, and having the willpower to overcome obstacles, embodying the mindset of a fighter who is ready to face any opponent.</td>\n",
       "    </tr>\n",
       "    <tr>\n",
       "      <th id=\"T_fc0bc_level0_row8\" class=\"row_heading level0 row8\" >8</th>\n",
       "      <td id=\"T_fc0bc_row8_col0\" class=\"data row8 col0\" >\"Flashdance... What a Feeling\"</td>\n",
       "      <td id=\"T_fc0bc_row8_col1\" class=\"data row8 col1\" >Irene Cara</td>\n",
       "      <td id=\"T_fc0bc_row8_col2\" class=\"data row8 col2\" >The song \"Flashdance... What a Feeling\" by Irene Cara is primarily about empowerment, self-expression, and the joy of pursuing one's dreams. It captures the emotions of determination and exhilaration that come with following one's passion and overcoming obstacles. The song was famously featured in the 1983 film \"Flashdance,\" where it underscored themes of ambition and the pursuit of artistic fulfillment.</td>\n",
       "    </tr>\n",
       "    <tr>\n",
       "      <th id=\"T_fc0bc_level0_row9\" class=\"row_heading level0 row9\" >9</th>\n",
       "      <td id=\"T_fc0bc_row9_col0\" class=\"data row9 col0\" >\"I Love Rock 'n' Roll\"</td>\n",
       "      <td id=\"T_fc0bc_row9_col1\" class=\"data row9 col1\" >Joan Jett and the Blackhearts</td>\n",
       "      <td id=\"T_fc0bc_row9_col2\" class=\"data row9 col2\" >The song \"I Love Rock 'n' Roll\" by Joan Jett and the Blackhearts is about the excitement and passion for rock and roll music. The lyrics describe a person encountering someone attractive at a jukebox, bonding over their shared love for rock music, and suggesting they spend more time together listening to it. The song captures the rebellious and energetic spirit of rock and roll.</td>\n",
       "    </tr>\n",
       "    <tr>\n",
       "      <th id=\"T_fc0bc_level0_row10\" class=\"row_heading level0 row10\" >10</th>\n",
       "      <td id=\"T_fc0bc_row10_col0\" class=\"data row10 col0\" >\"Lady\"</td>\n",
       "      <td id=\"T_fc0bc_row10_col1\" class=\"data row10 col1\" >Kenny Rogers</td>\n",
       "      <td id=\"T_fc0bc_row10_col2\" class=\"data row10 col2\" >The song \"Lady\" by Kenny Rogers is a romantic ballad that expresses deep love and admiration. The lyrics convey a heartfelt message from a man to the woman he loves, emphasizing her importance in his life and his devotion to her. The song highlights themes of love, appreciation, and emotional connection.</td>\n",
       "    </tr>\n",
       "    <tr>\n",
       "      <th id=\"T_fc0bc_level0_row11\" class=\"row_heading level0 row11\" >11</th>\n",
       "      <td id=\"T_fc0bc_row11_col0\" class=\"data row11 col0\" >\"Like a Virgin\"</td>\n",
       "      <td id=\"T_fc0bc_row11_col1\" class=\"data row11 col1\" >Madonna</td>\n",
       "      <td id=\"T_fc0bc_row11_col2\" class=\"data row11 col2\" >The song \"Like a Virgin\" by Madonna is primarily about the feeling of renewal and experiencing something as if it were for the first time. It conveys themes of love and emotional rebirth, using the metaphor of virginity to describe the fresh and transformative nature of a new romantic relationship. The song captures the excitement and vulnerability that can come with falling in love again after past experiences.</td>\n",
       "    </tr>\n",
       "    <tr>\n",
       "      <th id=\"T_fc0bc_level0_row12\" class=\"row_heading level0 row12\" >12</th>\n",
       "      <td id=\"T_fc0bc_row12_col0\" class=\"data row12 col0\" >\"Physical\"</td>\n",
       "      <td id=\"T_fc0bc_row12_col1\" class=\"data row12 col1\" >Olivia Newton-John</td>\n",
       "      <td id=\"T_fc0bc_row12_col2\" class=\"data row12 col2\" >The song \"Physical\" by Olivia Newton-John, released in 1981, is primarily about physical attraction and desire. The lyrics suggest a playful and flirtatious approach to romance, emphasizing the singer's interest in taking a relationship to a more intimate, physical level. The song's upbeat tempo and catchy melody, along with its suggestive lyrics, contributed to its popularity and the somewhat controversial reception it received at the time of its release.</td>\n",
       "    </tr>\n",
       "    <tr>\n",
       "      <th id=\"T_fc0bc_level0_row13\" class=\"row_heading level0 row13\" >13</th>\n",
       "      <td id=\"T_fc0bc_row13_col0\" class=\"data row13 col0\" >\"Say, Say, Say\"</td>\n",
       "      <td id=\"T_fc0bc_row13_col1\" class=\"data row13 col1\" >Paul McCartney and Michael Jackson</td>\n",
       "      <td id=\"T_fc0bc_row13_col2\" class=\"data row13 col2\" >The song \"Say, Say, Say\" by Paul McCartney and Michael Jackson is about a person pleading with their lover to reciprocate their feelings and to communicate openly. The lyrics express themes of love, longing, and the desire for emotional connection. The song captures the emotional struggle of wanting reassurance and clarity in a romantic relationship.</td>\n",
       "    </tr>\n",
       "  </tbody>\n",
       "</table>\n",
       "\n",
       "            </div>\n",
       "            "
      ],
      "text/plain": [
       "Dataset([{'scenario.song': ['\"Bette Davis Eyes\"', '\"Billie Jean\"', '\"Call Me\"', '\"Centerfold\"', '\"Ebony and Ivory\"', '\"Endless Love\"', '\"Every Breath You Take\"', '\"Eye of the Tiger\"', '\"Flashdance... What a Feeling\"', '\"I Love Rock \\'n\\' Roll\"', '\"Lady\"', '\"Like a Virgin\"', '\"Physical\"', '\"Say, Say, Say\"']}, {'scenario.artists': ['Kim Carnes', 'Michael Jackson', 'Blondie', 'The J. Geils Band', 'Paul McCartney and Stevie Wonder', 'Diana Ross and Lionel Richie', 'The Police', 'Survivor', 'Irene Cara', 'Joan Jett and the Blackhearts', 'Kenny Rogers', 'Madonna', 'Olivia Newton-John', 'Paul McCartney and Michael Jackson']}, {'answer.topic': ['The song \"Bette Davis Eyes\" by Kim Carnes is about a woman who is captivating and alluring, with a mysterious and seductive charm reminiscent of the iconic actress Bette Davis. The lyrics describe how this woman has an intense and mesmerizing presence, with a certain allure that draws people in, much like Bette Davis was known for her distinctive eyes and strong screen presence. The song highlights her ability to enchant and manipulate those around her with her charisma and enigmatic personality.', 'The song \"Billie Jean\" by Michael Jackson is about a man who is confronted by a woman named Billie Jean who claims that he is the father of her son. The lyrics describe his denial of her allegations and his insistence that she is lying. The song explores themes of false accusations, the burden of fame, and the impact of rumors on personal life.', 'The song \"Call Me\" by Blondie is about a person expressing their desire for a romantic connection and availability to a potential lover. The lyrics convey a sense of urgency and excitement, inviting the other person to reach out and make contact at any time. The song captures the thrill and anticipation of new love, emphasizing themes of passion and longing.', 'The song \"Centerfold\" by The J. Geils Band is about a man who discovers that a former crush from his school days has become a model featured in a men\\'s magazine. The lyrics express his surprise and mixed emotions as he grapples with the contrast between his innocent memories of her and her new, more provocative public image.', 'The song \"Ebony and Ivory\" by Paul McCartney and Stevie Wonder addresses themes of racial harmony and unity. It uses the metaphor of piano keys—ebony (black) and ivory (white)—to symbolize how different races can coexist peacefully and complement each other, just as the keys work together to create beautiful music.', 'The song \"Endless Love\" by Diana Ross and Lionel Richie is about a deep, romantic love between two people. The lyrics express a commitment to loving each other endlessly and highlight the emotional connection and devotion they share. It\\'s often considered a classic love song and is frequently played at weddings and romantic occasions.', 'The song \"Every Breath You Take\" by The Police is often interpreted as being about obsession and surveillance. While it is frequently perceived as a romantic song, the lyrics actually convey a sense of possessiveness and control, with the narrator closely watching and monitoring every move of the person they are addressing. This underlying theme of obsession contrasts with the song\\'s soothing melody, creating an intriguing dynamic.', 'The song \"Eye of the Tiger\" by Survivor is about perseverance, determination, and fighting spirit. It was famously used as the theme song for the movie \"Rocky III.\" The lyrics emphasize staying focused, facing challenges head-on, and having the willpower to overcome obstacles, embodying the mindset of a fighter who is ready to face any opponent.', 'The song \"Flashdance... What a Feeling\" by Irene Cara is primarily about empowerment, self-expression, and the joy of pursuing one\\'s dreams. It captures the emotions of determination and exhilaration that come with following one\\'s passion and overcoming obstacles. The song was famously featured in the 1983 film \"Flashdance,\" where it underscored themes of ambition and the pursuit of artistic fulfillment.', 'The song \"I Love Rock \\'n\\' Roll\" by Joan Jett and the Blackhearts is about the excitement and passion for rock and roll music. The lyrics describe a person encountering someone attractive at a jukebox, bonding over their shared love for rock music, and suggesting they spend more time together listening to it. The song captures the rebellious and energetic spirit of rock and roll.', 'The song \"Lady\" by Kenny Rogers is a romantic ballad that expresses deep love and admiration. The lyrics convey a heartfelt message from a man to the woman he loves, emphasizing her importance in his life and his devotion to her. The song highlights themes of love, appreciation, and emotional connection.', 'The song \"Like a Virgin\" by Madonna is primarily about the feeling of renewal and experiencing something as if it were for the first time. It conveys themes of love and emotional rebirth, using the metaphor of virginity to describe the fresh and transformative nature of a new romantic relationship. The song captures the excitement and vulnerability that can come with falling in love again after past experiences.', 'The song \"Physical\" by Olivia Newton-John, released in 1981, is primarily about physical attraction and desire. The lyrics suggest a playful and flirtatious approach to romance, emphasizing the singer\\'s interest in taking a relationship to a more intimate, physical level. The song\\'s upbeat tempo and catchy melody, along with its suggestive lyrics, contributed to its popularity and the somewhat controversial reception it received at the time of its release.', 'The song \"Say, Say, Say\" by Paul McCartney and Michael Jackson is about a person pleading with their lover to reciprocate their feelings and to communicate openly. The lyrics express themes of love, longing, and the desire for emotional connection. The song captures the emotional struggle of wanting reassurance and clarity in a romantic relationship.']}])"
      ]
     },
     "execution_count": 16,
     "metadata": {},
     "output_type": "execute_result"
    }
   ],
   "source": [
    "results.sort_by(\"song\").select(\"song\", \"artists\", \"topic\")"
   ]
  },
  {
   "cell_type": "code",
   "execution_count": 17,
   "id": "7d568fed-cd4b-4d1b-a35b-fcb01f028a2e",
   "metadata": {
    "editable": true,
    "slideshow": {
     "slide_type": ""
    },
    "tags": [
     "skip-execution"
    ]
   },
   "outputs": [
    {
     "data": {
      "text/html": [
       "\n",
       "            <div style=\"max-height: 500px; overflow-y: auto;\">\n",
       "                <style type=\"text/css\">\n",
       "#T_1dcb7_row0_col0 {\n",
       "  text-align: left;\n",
       "  background-color: #023858;\n",
       "  color: #f1f1f1;\n",
       "}\n",
       "#T_1dcb7_row0_col1, #T_1dcb7_row0_col2, #T_1dcb7_row0_col3, #T_1dcb7_row0_col4, #T_1dcb7_row0_col5, #T_1dcb7_row1_col1, #T_1dcb7_row1_col2, #T_1dcb7_row1_col3, #T_1dcb7_row1_col4, #T_1dcb7_row1_col5, #T_1dcb7_row2_col1, #T_1dcb7_row2_col2, #T_1dcb7_row2_col3, #T_1dcb7_row2_col4, #T_1dcb7_row2_col5, #T_1dcb7_row3_col1, #T_1dcb7_row3_col2, #T_1dcb7_row3_col3, #T_1dcb7_row3_col4, #T_1dcb7_row3_col5, #T_1dcb7_row4_col1, #T_1dcb7_row4_col2, #T_1dcb7_row4_col3, #T_1dcb7_row4_col4, #T_1dcb7_row4_col5, #T_1dcb7_row5_col1, #T_1dcb7_row5_col2, #T_1dcb7_row5_col3, #T_1dcb7_row5_col4, #T_1dcb7_row5_col5, #T_1dcb7_row6_col1, #T_1dcb7_row6_col2, #T_1dcb7_row6_col3, #T_1dcb7_row6_col4, #T_1dcb7_row6_col5, #T_1dcb7_row7_col1, #T_1dcb7_row7_col2, #T_1dcb7_row7_col3, #T_1dcb7_row7_col4, #T_1dcb7_row7_col5, #T_1dcb7_row8_col1, #T_1dcb7_row8_col2, #T_1dcb7_row8_col3, #T_1dcb7_row8_col4, #T_1dcb7_row8_col5, #T_1dcb7_row9_col1, #T_1dcb7_row9_col2, #T_1dcb7_row9_col3, #T_1dcb7_row9_col4, #T_1dcb7_row9_col5, #T_1dcb7_row10_col1, #T_1dcb7_row10_col2, #T_1dcb7_row10_col3, #T_1dcb7_row10_col4, #T_1dcb7_row10_col5, #T_1dcb7_row11_col1, #T_1dcb7_row11_col2, #T_1dcb7_row11_col3, #T_1dcb7_row11_col4, #T_1dcb7_row11_col5, #T_1dcb7_row12_col1, #T_1dcb7_row12_col2, #T_1dcb7_row12_col3, #T_1dcb7_row12_col4, #T_1dcb7_row12_col5, #T_1dcb7_row13_col1, #T_1dcb7_row13_col2, #T_1dcb7_row13_col3, #T_1dcb7_row13_col4, #T_1dcb7_row13_col5 {\n",
       "  text-align: left;\n",
       "}\n",
       "#T_1dcb7_row1_col0, #T_1dcb7_row2_col0 {\n",
       "  text-align: left;\n",
       "  background-color: #056faf;\n",
       "  color: #f1f1f1;\n",
       "}\n",
       "#T_1dcb7_row3_col0 {\n",
       "  text-align: left;\n",
       "  background-color: #73a9cf;\n",
       "  color: #f1f1f1;\n",
       "}\n",
       "#T_1dcb7_row4_col0, #T_1dcb7_row5_col0, #T_1dcb7_row6_col0 {\n",
       "  text-align: left;\n",
       "  background-color: #d0d1e6;\n",
       "  color: #000000;\n",
       "}\n",
       "#T_1dcb7_row7_col0, #T_1dcb7_row8_col0, #T_1dcb7_row9_col0, #T_1dcb7_row10_col0, #T_1dcb7_row11_col0, #T_1dcb7_row12_col0, #T_1dcb7_row13_col0 {\n",
       "  text-align: left;\n",
       "  background-color: #fff7fb;\n",
       "  color: #000000;\n",
       "}\n",
       "</style>\n",
       "<table id=\"T_1dcb7\">\n",
       "  <thead>\n",
       "    <tr>\n",
       "      <th class=\"blank level0\" >&nbsp;</th>\n",
       "      <th id=\"T_1dcb7_level0_col0\" class=\"col_heading level0 col0\" >scenario.weeks</th>\n",
       "      <th id=\"T_1dcb7_level0_col1\" class=\"col_heading level0 col1\" >scenario.song</th>\n",
       "      <th id=\"T_1dcb7_level0_col2\" class=\"col_heading level0 col2\" >scenario.artists</th>\n",
       "      <th id=\"T_1dcb7_level0_col3\" class=\"col_heading level0 col3\" >answer.sentiment</th>\n",
       "      <th id=\"T_1dcb7_level0_col4\" class=\"col_heading level0 col4\" >answer.themes</th>\n",
       "      <th id=\"T_1dcb7_level0_col5\" class=\"col_heading level0 col5\" >answer.other_themes</th>\n",
       "    </tr>\n",
       "  </thead>\n",
       "  <tbody>\n",
       "    <tr>\n",
       "      <th id=\"T_1dcb7_level0_row0\" class=\"row_heading level0 row0\" >0</th>\n",
       "      <td id=\"T_1dcb7_row0_col0\" class=\"data row0 col0\" >10</td>\n",
       "      <td id=\"T_1dcb7_row0_col1\" class=\"data row0 col1\" >\"Physical\"</td>\n",
       "      <td id=\"T_1dcb7_row0_col2\" class=\"data row0 col2\" >Olivia Newton-John</td>\n",
       "      <td id=\"T_1dcb7_row0_col3\" class=\"data row0 col3\" >Empowering</td>\n",
       "      <td id=\"T_1dcb7_row0_col4\" class=\"data row0 col4\" >['Love', 'Celebration', 'Other']</td>\n",
       "      <td id=\"T_1dcb7_row0_col5\" class=\"data row0 col5\" >['Empowerment', 'Desire', 'Self-expression']</td>\n",
       "    </tr>\n",
       "    <tr>\n",
       "      <th id=\"T_1dcb7_level0_row1\" class=\"row_heading level0 row1\" >1</th>\n",
       "      <td id=\"T_1dcb7_row1_col0\" class=\"data row1 col0\" >9</td>\n",
       "      <td id=\"T_1dcb7_row1_col1\" class=\"data row1 col1\" >\"Bette Davis Eyes\"</td>\n",
       "      <td id=\"T_1dcb7_row1_col2\" class=\"data row1 col2\" >Kim Carnes</td>\n",
       "      <td id=\"T_1dcb7_row1_col3\" class=\"data row1 col3\" >Nostalgic</td>\n",
       "      <td id=\"T_1dcb7_row1_col4\" class=\"data row1 col4\" >['Love', 'Other']</td>\n",
       "      <td id=\"T_1dcb7_row1_col5\" class=\"data row1 col5\" >['Nostalgia', 'Admiration', 'Femininity']</td>\n",
       "    </tr>\n",
       "    <tr>\n",
       "      <th id=\"T_1dcb7_level0_row2\" class=\"row_heading level0 row2\" >2</th>\n",
       "      <td id=\"T_1dcb7_row2_col0\" class=\"data row2 col0\" >9</td>\n",
       "      <td id=\"T_1dcb7_row2_col1\" class=\"data row2 col1\" >\"Endless Love\"</td>\n",
       "      <td id=\"T_1dcb7_row2_col2\" class=\"data row2 col2\" >Diana Ross and Lionel Richie</td>\n",
       "      <td id=\"T_1dcb7_row2_col3\" class=\"data row2 col3\" >Romantic</td>\n",
       "      <td id=\"T_1dcb7_row2_col4\" class=\"data row2 col4\" >['Love', 'Celebration']</td>\n",
       "      <td id=\"T_1dcb7_row2_col5\" class=\"data row2 col5\" >nan</td>\n",
       "    </tr>\n",
       "    <tr>\n",
       "      <th id=\"T_1dcb7_level0_row3\" class=\"row_heading level0 row3\" >3</th>\n",
       "      <td id=\"T_1dcb7_row3_col0\" class=\"data row3 col0\" >8</td>\n",
       "      <td id=\"T_1dcb7_row3_col1\" class=\"data row3 col1\" >\"Every Breath You Take\"</td>\n",
       "      <td id=\"T_1dcb7_row3_col2\" class=\"data row3 col2\" >The Police</td>\n",
       "      <td id=\"T_1dcb7_row3_col3\" class=\"data row3 col3\" >Melancholic</td>\n",
       "      <td id=\"T_1dcb7_row3_col4\" class=\"data row3 col4\" >['Love', 'Loss', 'Other']</td>\n",
       "      <td id=\"T_1dcb7_row3_col5\" class=\"data row3 col5\" >['Obsession', 'Control', 'Surveillance']</td>\n",
       "    </tr>\n",
       "    <tr>\n",
       "      <th id=\"T_1dcb7_level0_row4\" class=\"row_heading level0 row4\" >4</th>\n",
       "      <td id=\"T_1dcb7_row4_col0\" class=\"data row4 col0\" >7</td>\n",
       "      <td id=\"T_1dcb7_row4_col1\" class=\"data row4 col1\" >\"I Love Rock 'n' Roll\"</td>\n",
       "      <td id=\"T_1dcb7_row4_col2\" class=\"data row4 col2\" >Joan Jett and the Blackhearts</td>\n",
       "      <td id=\"T_1dcb7_row4_col3\" class=\"data row4 col3\" >Empowering</td>\n",
       "      <td id=\"T_1dcb7_row4_col4\" class=\"data row4 col4\" >['Love', 'Celebration', 'Other']</td>\n",
       "      <td id=\"T_1dcb7_row4_col5\" class=\"data row4 col5\" >['Rebellion', 'Nostalgia', 'Youth', 'Empowerment']</td>\n",
       "    </tr>\n",
       "    <tr>\n",
       "      <th id=\"T_1dcb7_level0_row5\" class=\"row_heading level0 row5\" >5</th>\n",
       "      <td id=\"T_1dcb7_row5_col0\" class=\"data row5 col0\" >7</td>\n",
       "      <td id=\"T_1dcb7_row5_col1\" class=\"data row5 col1\" >\"Ebony and Ivory\"</td>\n",
       "      <td id=\"T_1dcb7_row5_col2\" class=\"data row5 col2\" >Paul McCartney and Stevie Wonder</td>\n",
       "      <td id=\"T_1dcb7_row5_col3\" class=\"data row5 col3\" >Hopeful</td>\n",
       "      <td id=\"T_1dcb7_row5_col4\" class=\"data row5 col4\" >['Love', 'Social issues']</td>\n",
       "      <td id=\"T_1dcb7_row5_col5\" class=\"data row5 col5\" >nan</td>\n",
       "    </tr>\n",
       "    <tr>\n",
       "      <th id=\"T_1dcb7_level0_row6\" class=\"row_heading level0 row6\" >6</th>\n",
       "      <td id=\"T_1dcb7_row6_col0\" class=\"data row6 col0\" >7</td>\n",
       "      <td id=\"T_1dcb7_row6_col1\" class=\"data row6 col1\" >\"Billie Jean\"</td>\n",
       "      <td id=\"T_1dcb7_row6_col2\" class=\"data row6 col2\" >Michael Jackson</td>\n",
       "      <td id=\"T_1dcb7_row6_col3\" class=\"data row6 col3\" >Melancholic</td>\n",
       "      <td id=\"T_1dcb7_row6_col4\" class=\"data row6 col4\" >['Loss', 'Struggle', 'Other']</td>\n",
       "      <td id=\"T_1dcb7_row6_col5\" class=\"data row6 col5\" >['Identity', 'Fame', 'Deception', 'Paranoia']</td>\n",
       "    </tr>\n",
       "    <tr>\n",
       "      <th id=\"T_1dcb7_level0_row7\" class=\"row_heading level0 row7\" >7</th>\n",
       "      <td id=\"T_1dcb7_row7_col0\" class=\"data row7 col0\" >6</td>\n",
       "      <td id=\"T_1dcb7_row7_col1\" class=\"data row7 col1\" >\"Call Me\"</td>\n",
       "      <td id=\"T_1dcb7_row7_col2\" class=\"data row7 col2\" >Blondie</td>\n",
       "      <td id=\"T_1dcb7_row7_col3\" class=\"data row7 col3\" >Empowering</td>\n",
       "      <td id=\"T_1dcb7_row7_col4\" class=\"data row7 col4\" >['Love', 'Celebration']</td>\n",
       "      <td id=\"T_1dcb7_row7_col5\" class=\"data row7 col5\" >nan</td>\n",
       "    </tr>\n",
       "    <tr>\n",
       "      <th id=\"T_1dcb7_level0_row8\" class=\"row_heading level0 row8\" >8</th>\n",
       "      <td id=\"T_1dcb7_row8_col0\" class=\"data row8 col0\" >6</td>\n",
       "      <td id=\"T_1dcb7_row8_col1\" class=\"data row8 col1\" >\"Lady\"</td>\n",
       "      <td id=\"T_1dcb7_row8_col2\" class=\"data row8 col2\" >Kenny Rogers</td>\n",
       "      <td id=\"T_1dcb7_row8_col3\" class=\"data row8 col3\" >Romantic</td>\n",
       "      <td id=\"T_1dcb7_row8_col4\" class=\"data row8 col4\" >['Love']</td>\n",
       "      <td id=\"T_1dcb7_row8_col5\" class=\"data row8 col5\" >nan</td>\n",
       "    </tr>\n",
       "    <tr>\n",
       "      <th id=\"T_1dcb7_level0_row9\" class=\"row_heading level0 row9\" >9</th>\n",
       "      <td id=\"T_1dcb7_row9_col0\" class=\"data row9 col0\" >6</td>\n",
       "      <td id=\"T_1dcb7_row9_col1\" class=\"data row9 col1\" >\"Centerfold\"</td>\n",
       "      <td id=\"T_1dcb7_row9_col2\" class=\"data row9 col2\" >The J. Geils Band</td>\n",
       "      <td id=\"T_1dcb7_row9_col3\" class=\"data row9 col3\" >Nostalgic</td>\n",
       "      <td id=\"T_1dcb7_row9_col4\" class=\"data row9 col4\" >['Love', 'Loss', 'Other']</td>\n",
       "      <td id=\"T_1dcb7_row9_col5\" class=\"data row9 col5\" >['Nostalgia', 'Innocence', 'Surprise']</td>\n",
       "    </tr>\n",
       "    <tr>\n",
       "      <th id=\"T_1dcb7_level0_row10\" class=\"row_heading level0 row10\" >10</th>\n",
       "      <td id=\"T_1dcb7_row10_col0\" class=\"data row10 col0\" >6</td>\n",
       "      <td id=\"T_1dcb7_row10_col1\" class=\"data row10 col1\" >\"Eye of the Tiger\"</td>\n",
       "      <td id=\"T_1dcb7_row10_col2\" class=\"data row10 col2\" >Survivor</td>\n",
       "      <td id=\"T_1dcb7_row10_col3\" class=\"data row10 col3\" >Empowering</td>\n",
       "      <td id=\"T_1dcb7_row10_col4\" class=\"data row10 col4\" >['Struggle']</td>\n",
       "      <td id=\"T_1dcb7_row10_col5\" class=\"data row10 col5\" >nan</td>\n",
       "    </tr>\n",
       "    <tr>\n",
       "      <th id=\"T_1dcb7_level0_row11\" class=\"row_heading level0 row11\" >11</th>\n",
       "      <td id=\"T_1dcb7_row11_col0\" class=\"data row11 col0\" >6</td>\n",
       "      <td id=\"T_1dcb7_row11_col1\" class=\"data row11 col1\" >\"Flashdance... What a Feeling\"</td>\n",
       "      <td id=\"T_1dcb7_row11_col2\" class=\"data row11 col2\" >Irene Cara</td>\n",
       "      <td id=\"T_1dcb7_row11_col3\" class=\"data row11 col3\" >Empowering</td>\n",
       "      <td id=\"T_1dcb7_row11_col4\" class=\"data row11 col4\" >['Struggle', 'Celebration']</td>\n",
       "      <td id=\"T_1dcb7_row11_col5\" class=\"data row11 col5\" >nan</td>\n",
       "    </tr>\n",
       "    <tr>\n",
       "      <th id=\"T_1dcb7_level0_row12\" class=\"row_heading level0 row12\" >12</th>\n",
       "      <td id=\"T_1dcb7_row12_col0\" class=\"data row12 col0\" >6</td>\n",
       "      <td id=\"T_1dcb7_row12_col1\" class=\"data row12 col1\" >\"Say, Say, Say\"</td>\n",
       "      <td id=\"T_1dcb7_row12_col2\" class=\"data row12 col2\" >Paul McCartney and Michael Jackson</td>\n",
       "      <td id=\"T_1dcb7_row12_col3\" class=\"data row12 col3\" >Romantic</td>\n",
       "      <td id=\"T_1dcb7_row12_col4\" class=\"data row12 col4\" >['Love', 'Struggle']</td>\n",
       "      <td id=\"T_1dcb7_row12_col5\" class=\"data row12 col5\" >nan</td>\n",
       "    </tr>\n",
       "    <tr>\n",
       "      <th id=\"T_1dcb7_level0_row13\" class=\"row_heading level0 row13\" >13</th>\n",
       "      <td id=\"T_1dcb7_row13_col0\" class=\"data row13 col0\" >6</td>\n",
       "      <td id=\"T_1dcb7_row13_col1\" class=\"data row13 col1\" >\"Like a Virgin\"</td>\n",
       "      <td id=\"T_1dcb7_row13_col2\" class=\"data row13 col2\" >Madonna</td>\n",
       "      <td id=\"T_1dcb7_row13_col3\" class=\"data row13 col3\" >Romantic</td>\n",
       "      <td id=\"T_1dcb7_row13_col4\" class=\"data row13 col4\" >['Love', 'Celebration']</td>\n",
       "      <td id=\"T_1dcb7_row13_col5\" class=\"data row13 col5\" >nan</td>\n",
       "    </tr>\n",
       "  </tbody>\n",
       "</table>\n",
       "\n",
       "            </div>\n",
       "            "
      ],
      "text/plain": [
       "Dataset([{'scenario.weeks': ['10', '9', '9', '8', '7', '7', '7', '6', '6', '6', '6', '6', '6', '6']}, {'scenario.song': ['\"Physical\"', '\"Bette Davis Eyes\"', '\"Endless Love\"', '\"Every Breath You Take\"', '\"I Love Rock \\'n\\' Roll\"', '\"Ebony and Ivory\"', '\"Billie Jean\"', '\"Call Me\"', '\"Lady\"', '\"Centerfold\"', '\"Eye of the Tiger\"', '\"Flashdance... What a Feeling\"', '\"Say, Say, Say\"', '\"Like a Virgin\"']}, {'scenario.artists': ['Olivia Newton-John', 'Kim Carnes', 'Diana Ross and Lionel Richie', 'The Police', 'Joan Jett and the Blackhearts', 'Paul McCartney and Stevie Wonder', 'Michael Jackson', 'Blondie', 'Kenny Rogers', 'The J. Geils Band', 'Survivor', 'Irene Cara', 'Paul McCartney and Michael Jackson', 'Madonna']}, {'answer.sentiment': ['Empowering', 'Nostalgic', 'Romantic', 'Melancholic', 'Empowering', 'Hopeful', 'Melancholic', 'Empowering', 'Romantic', 'Nostalgic', 'Empowering', 'Empowering', 'Romantic', 'Romantic']}, {'answer.themes': [['Love', 'Celebration', 'Other'], ['Love', 'Other'], ['Love', 'Celebration'], ['Love', 'Loss', 'Other'], ['Love', 'Celebration', 'Other'], ['Love', 'Social issues'], ['Loss', 'Struggle', 'Other'], ['Love', 'Celebration'], ['Love'], ['Love', 'Loss', 'Other'], ['Struggle'], ['Struggle', 'Celebration'], ['Love', 'Struggle'], ['Love', 'Celebration']]}, {'answer.other_themes': [['Empowerment', 'Desire', 'Self-expression'], ['Nostalgia', 'Admiration', 'Femininity'], None, ['Obsession', 'Control', 'Surveillance'], ['Rebellion', 'Nostalgia', 'Youth', 'Empowerment'], None, ['Identity', 'Fame', 'Deception', 'Paranoia'], None, None, ['Nostalgia', 'Innocence', 'Surprise'], None, None, None, None]}])"
      ]
     },
     "execution_count": 17,
     "metadata": {},
     "output_type": "execute_result"
    }
   ],
   "source": [
    "results.sort_by(\"weeks\", reverse=True).select(\"weeks\", \"song\", \"artists\", \"sentiment\", \"themes\", \"other_themes\")"
   ]
  },
  {
   "cell_type": "markdown",
   "id": "0fdb9da9-ddb7-495d-bb1a-7e42962c5916",
   "metadata": {
    "editable": true,
    "slideshow": {
     "slide_type": ""
    },
    "tags": []
   },
   "source": [
    "### Posting a notebook to the Coop\n",
    "Here we post the contents of this notebook to the Coop for anyone to access:"
   ]
  },
  {
   "cell_type": "code",
   "execution_count": 18,
   "id": "026de29e-1ed9-4f4d-bb72-480949dd5346",
   "metadata": {
    "editable": true,
    "slideshow": {
     "slide_type": ""
    },
    "tags": [
     "skip-execution"
    ]
   },
   "outputs": [],
   "source": [
    "from edsl import Notebook"
   ]
  },
  {
   "cell_type": "code",
   "execution_count": 19,
   "id": "93af6dcf-1ad1-447c-9c59-066f60383a0c",
   "metadata": {
    "editable": true,
    "slideshow": {
     "slide_type": ""
    },
    "tags": [
     "skip-execution"
    ]
   },
   "outputs": [],
   "source": [
    "n = Notebook(path = \"scenarios_filestore_example.ipynb\")"
   ]
  },
  {
   "cell_type": "code",
   "execution_count": 20,
   "id": "cebfa0b1-ea20-41dd-aa83-bbbd4d626f1c",
   "metadata": {
    "editable": true,
    "slideshow": {
     "slide_type": ""
    },
    "tags": [
     "skip-execution"
    ]
   },
   "outputs": [
    {
     "data": {
      "text/plain": [
       "{'description': 'Example code for using data files for scenarios via file store and Coop',\n",
       " 'object_type': 'notebook',\n",
       " 'url': 'https://www.expectedparrot.com/content/a2a438b6-8c0f-4ff5-a3d5-cbee2bf20661',\n",
       " 'uuid': 'a2a438b6-8c0f-4ff5-a3d5-cbee2bf20661',\n",
       " 'version': '0.1.39.dev2',\n",
       " 'visibility': 'public'}"
      ]
     },
     "execution_count": 20,
     "metadata": {},
     "output_type": "execute_result"
    }
   ],
   "source": [
    "n.push(description = \"Example code for using data files for scenarios via file store and Coop\", visibility = \"public\")"
   ]
  },
  {
   "cell_type": "markdown",
   "id": "f1060fe4-7ca2-4afe-85ed-e639da7f4c40",
   "metadata": {
    "editable": true,
    "slideshow": {
     "slide_type": ""
    },
    "tags": []
   },
   "source": [
    "To update an object:"
   ]
  },
  {
   "cell_type": "code",
   "execution_count": 21,
   "id": "e738ec8d-1c5c-4407-bb28-70b8355bb1ab",
   "metadata": {
    "editable": true,
    "slideshow": {
     "slide_type": ""
    },
    "tags": [
     "skip-execution"
    ]
   },
   "outputs": [],
   "source": [
    "n = Notebook(path = \"scenarios_filestore_example.ipynb\") # resave"
   ]
  },
  {
   "cell_type": "code",
   "execution_count": 22,
   "id": "775845a7-1145-4e55-bacd-1d0698c72b1a",
   "metadata": {
    "editable": true,
    "slideshow": {
     "slide_type": ""
    },
    "tags": [
     "skip-execution"
    ]
   },
   "outputs": [
    {
     "data": {
      "text/plain": [
       "{'status': 'success'}"
      ]
     },
     "execution_count": 22,
     "metadata": {},
     "output_type": "execute_result"
    }
   ],
   "source": [
    "n.patch(uuid = \"a2a438b6-8c0f-4ff5-a3d5-cbee2bf20661\", value = n)"
   ]
  }
 ],
 "metadata": {
  "kernelspec": {
   "display_name": "Python 3 (ipykernel)",
   "language": "python",
   "name": "python3"
  },
  "language_info": {
   "codemirror_mode": {
    "name": "ipython",
    "version": 3
   },
   "file_extension": ".py",
   "mimetype": "text/x-python",
   "name": "python",
   "nbconvert_exporter": "python",
   "pygments_lexer": "ipython3",
   "version": "3.11.7"
  }
 },
 "nbformat": 4,
 "nbformat_minor": 5
}
