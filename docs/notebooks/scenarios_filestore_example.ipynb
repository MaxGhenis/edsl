{
 "cells": [
  {
   "cell_type": "markdown",
   "id": "6557e99a-2dbb-4e81-aa96-2c3d963c65f5",
   "metadata": {
    "editable": true,
    "slideshow": {
     "slide_type": ""
    },
    "tags": []
   },
   "source": [
    "# Using data with surveys: FileStore\n",
    "This notebook provides example [EDSL](https://github.com/expectedparrot/edsl) code for methods for using data with an EDSL survey.\n",
    "In the steps below we show how to use the [*FileStore*](https://docs.expectedparrot.com/en/latest/filestore.html) module to upload, share and retrieve data files at the [*Coop*](https://docs.expectedparrot.com/en/latest/coop.html), and then create [*Scenario*](https://docs.expectedparrot.com/en/latest/scenarios.html) objects for the data to use it with a survey.\n",
    "\n",
    "[EDSL is an open-source library](https://github.com/expectedparrot/edsl) for simulating surveys, experiments and other research with AI agents and large language models. \n",
    "Before running the code below, please ensure that you have [installed the EDSL library](https://docs.expectedparrot.com/en/latest/installation.html) and either [activated remote inference](https://docs.expectedparrot.com/en/latest/remote_inference.html) from your [Coop account](https://docs.expectedparrot.com/en/latest/coop.html) or [stored API keys](https://docs.expectedparrot.com/en/latest/api_keys.html) for the language models that you want to use with EDSL. Please also see our [documentation page](https://docs.expectedparrot.com/) for tips and tutorials on getting started using EDSL."
   ]
  },
  {
   "cell_type": "markdown",
   "id": "cb603e1d-9b28-41e1-ad04-0dc2ea5f5b41",
   "metadata": {
    "editable": true,
    "slideshow": {
     "slide_type": ""
    },
    "tags": []
   },
   "source": [
    "## What is a *Scenario*?\n",
    "A *Scenario* is a dictionary of one or more key/value pairs representing data or content to be added to questions; a *ScenarioList* is a list of *Scenario* objects. \n",
    "Scenario keys are used as question parameters that get replaced with the values when the scenarios are added to the questions, allowing you to create variants of questions efficiently. Learn more about creating and working with scenarios [here](https://docs.expectedparrot.com/en/latest/scenarios.html) and [here](https://docs.expectedparrot.com/en/latest/notebooks/question_loop_scenarios.html)."
   ]
  },
  {
   "cell_type": "markdown",
   "id": "35a21a95-d1e9-4ce9-b427-c72184e3f552",
   "metadata": {
    "editable": true,
    "slideshow": {
     "slide_type": ""
    },
    "tags": []
   },
   "source": [
    "## What is the *Coop*?\n",
    "[Coop](https://docs.expectedparrot.com/en/latest/coop.html) is a platform for creating, storing and sharing LLM-based research. \n",
    "It is fully integrated with EDSL, allowing you to post, download and update objects directly from your workspace and at the [Coop web app](https://www.expectedparrot.com/login). \n",
    "The Coop also provides access to features for working with EDSL remotely at the Expected Parrot server. \n",
    "Learn more about these features in the [remote inference](https://docs.expectedparrot.com/en/latest/remote_inference.html) and [remote caching](https://docs.expectedparrot.com/en/latest/remote_caching.html) sections of the [documentation page](https://docs.expectedparrot.com/)."
   ]
  },
  {
   "cell_type": "markdown",
   "id": "bdb593cf-304f-4a74-8669-41227d465b9e",
   "metadata": {
    "editable": true,
    "slideshow": {
     "slide_type": ""
    },
    "tags": []
   },
   "source": [
    "## What is *FileStore*?\n",
    "*FileStore* is a [module for storing and sharing data files at the Coop](https://docs.expectedparrot.com/en/latest/filestore.html) to use in EDSL projects, such as survey data, PDFs, CSVs or images. \n",
    "In particular, it is designed for storing files to be used as as scenarios, and allows you to include code for easily retrieving and processing the files in your EDSL project, as we do in the examples below!"
   ]
  },
  {
   "cell_type": "markdown",
   "id": "66424931-600e-464a-95ed-059ddee64881",
   "metadata": {
    "editable": true,
    "slideshow": {
     "slide_type": ""
    },
    "tags": []
   },
   "source": [
    "## Example\n",
    "In the example below we create scenarios for some data (a table at a Wikipedia page) and inspect them. Then we store the scenarios as a CSV and post it to the Coop using the file store. Then we retrieve the file and recreate the scenarios, and use them in a survey. We also post the survey, results and this notebook to the Coop for reference.\n",
    "\n",
    "We start by creating importing the tools that we will use:"
   ]
  },
  {
   "cell_type": "code",
   "execution_count": 1,
   "id": "c8a34852-9ba2-41de-985a-d21c2524e9af",
   "metadata": {
    "editable": true,
    "slideshow": {
     "slide_type": ""
    },
    "tags": []
   },
   "outputs": [],
   "source": [
    "from edsl import ScenarioList, Scenario\n",
    "from edsl.scenarios.FileStore import CSVFileStore"
   ]
  },
  {
   "cell_type": "markdown",
   "id": "9a9bb7ad-2c7f-4f42-a8e3-d1b91e76f736",
   "metadata": {
    "editable": true,
    "slideshow": {
     "slide_type": ""
    },
    "tags": []
   },
   "source": [
    "### Creating a scenario list for a Wikipedia table\n",
    "EDSL comes with many methods for automatically [generating scenarios for various data sources](https://docs.expectedparrot.com/en/latest/scenarios.html), such as PDFs, CSVs, docs, images, lists, dicts, etc.\n",
    "Here we use a method to automatically [create a scenario list for a Wikipedia table](https://docs.expectedparrot.com/en/latest/notebooks/scenario_list_wikipedia.html), passing the URL and the number of the table on the page:"
   ]
  },
  {
   "cell_type": "code",
   "execution_count": 2,
   "id": "3c02ee41-abae-4dbd-b6cb-54831b20c5e5",
   "metadata": {
    "editable": true,
    "slideshow": {
     "slide_type": ""
    },
    "tags": []
   },
   "outputs": [],
   "source": [
    "s = ScenarioList.from_wikipedia(\"https://en.wikipedia.org/wiki/List_of_Billboard_Hot_100_number-one_singles_of_the_1980s\",5)"
   ]
  },
  {
   "cell_type": "markdown",
   "id": "c656c3de-7435-41d3-8321-91027b3b1a2d",
   "metadata": {
    "editable": true,
    "slideshow": {
     "slide_type": ""
    },
    "tags": []
   },
   "source": [
    "We can inspect the scenario list that has been created:"
   ]
  },
  {
   "cell_type": "code",
   "execution_count": 3,
   "id": "6b5465c9-bf43-4c4f-ac43-df7606b9f692",
   "metadata": {
    "editable": true,
    "slideshow": {
     "slide_type": ""
    },
    "tags": []
   },
   "outputs": [
    {
     "data": {
      "text/html": [
       "<pre style=\"white-space:pre;overflow-x:auto;line-height:normal;font-family:Menlo,'DejaVu Sans Mono',consolas,'Courier New',monospace\">┏━━━━━━━━━━━━━━━━━━━━━┳━━━━━━━━━━━━━━━━━━━━━━━━━━━━━━━━┳━━━━━━━━━━━━━━━━━━━━━━━━━━━━━━━━━━━━┓\n",
       "┃<span style=\"color: #800080; text-decoration-color: #800080; font-weight: bold\"> Weeks at number one </span>┃<span style=\"color: #800080; text-decoration-color: #800080; font-weight: bold\"> Song                           </span>┃<span style=\"color: #800080; text-decoration-color: #800080; font-weight: bold\"> Artist(s)                          </span>┃\n",
       "┡━━━━━━━━━━━━━━━━━━━━━╇━━━━━━━━━━━━━━━━━━━━━━━━━━━━━━━━╇━━━━━━━━━━━━━━━━━━━━━━━━━━━━━━━━━━━━┩\n",
       "│<span style=\"color: #7f7f7f; text-decoration-color: #7f7f7f\"> 10                  </span>│<span style=\"color: #7f7f7f; text-decoration-color: #7f7f7f\"> \"Physical\"                     </span>│<span style=\"color: #7f7f7f; text-decoration-color: #7f7f7f\"> Olivia Newton-John                 </span>│\n",
       "├─────────────────────┼────────────────────────────────┼────────────────────────────────────┤\n",
       "│<span style=\"color: #7f7f7f; text-decoration-color: #7f7f7f\"> 9                   </span>│<span style=\"color: #7f7f7f; text-decoration-color: #7f7f7f\"> \"Bette Davis Eyes\"             </span>│<span style=\"color: #7f7f7f; text-decoration-color: #7f7f7f\"> Kim Carnes                         </span>│\n",
       "├─────────────────────┼────────────────────────────────┼────────────────────────────────────┤\n",
       "│<span style=\"color: #7f7f7f; text-decoration-color: #7f7f7f\"> 9                   </span>│<span style=\"color: #7f7f7f; text-decoration-color: #7f7f7f\"> \"Endless Love\"                 </span>│<span style=\"color: #7f7f7f; text-decoration-color: #7f7f7f\"> Diana Ross and Lionel Richie       </span>│\n",
       "├─────────────────────┼────────────────────────────────┼────────────────────────────────────┤\n",
       "│<span style=\"color: #7f7f7f; text-decoration-color: #7f7f7f\"> 8                   </span>│<span style=\"color: #7f7f7f; text-decoration-color: #7f7f7f\"> \"Every Breath You Take\"        </span>│<span style=\"color: #7f7f7f; text-decoration-color: #7f7f7f\"> The Police                         </span>│\n",
       "├─────────────────────┼────────────────────────────────┼────────────────────────────────────┤\n",
       "│<span style=\"color: #7f7f7f; text-decoration-color: #7f7f7f\"> 7                   </span>│<span style=\"color: #7f7f7f; text-decoration-color: #7f7f7f\"> \"I Love Rock 'n' Roll\"         </span>│<span style=\"color: #7f7f7f; text-decoration-color: #7f7f7f\"> Joan Jett and the Blackhearts      </span>│\n",
       "├─────────────────────┼────────────────────────────────┼────────────────────────────────────┤\n",
       "│<span style=\"color: #7f7f7f; text-decoration-color: #7f7f7f\"> 7                   </span>│<span style=\"color: #7f7f7f; text-decoration-color: #7f7f7f\"> \"Ebony and Ivory\"              </span>│<span style=\"color: #7f7f7f; text-decoration-color: #7f7f7f\"> Paul McCartney and Stevie Wonder   </span>│\n",
       "├─────────────────────┼────────────────────────────────┼────────────────────────────────────┤\n",
       "│<span style=\"color: #7f7f7f; text-decoration-color: #7f7f7f\"> 7                   </span>│<span style=\"color: #7f7f7f; text-decoration-color: #7f7f7f\"> \"Billie Jean\"                  </span>│<span style=\"color: #7f7f7f; text-decoration-color: #7f7f7f\"> Michael Jackson                    </span>│\n",
       "├─────────────────────┼────────────────────────────────┼────────────────────────────────────┤\n",
       "│<span style=\"color: #7f7f7f; text-decoration-color: #7f7f7f\"> 6                   </span>│<span style=\"color: #7f7f7f; text-decoration-color: #7f7f7f\"> \"Call Me\"                      </span>│<span style=\"color: #7f7f7f; text-decoration-color: #7f7f7f\"> Blondie                            </span>│\n",
       "├─────────────────────┼────────────────────────────────┼────────────────────────────────────┤\n",
       "│<span style=\"color: #7f7f7f; text-decoration-color: #7f7f7f\"> 6                   </span>│<span style=\"color: #7f7f7f; text-decoration-color: #7f7f7f\"> \"Lady\"                         </span>│<span style=\"color: #7f7f7f; text-decoration-color: #7f7f7f\"> Kenny Rogers                       </span>│\n",
       "├─────────────────────┼────────────────────────────────┼────────────────────────────────────┤\n",
       "│<span style=\"color: #7f7f7f; text-decoration-color: #7f7f7f\"> 6                   </span>│<span style=\"color: #7f7f7f; text-decoration-color: #7f7f7f\"> \"Centerfold\"                   </span>│<span style=\"color: #7f7f7f; text-decoration-color: #7f7f7f\"> The J. Geils Band                  </span>│\n",
       "├─────────────────────┼────────────────────────────────┼────────────────────────────────────┤\n",
       "│<span style=\"color: #7f7f7f; text-decoration-color: #7f7f7f\"> 6                   </span>│<span style=\"color: #7f7f7f; text-decoration-color: #7f7f7f\"> \"Eye of the Tiger\"             </span>│<span style=\"color: #7f7f7f; text-decoration-color: #7f7f7f\"> Survivor                           </span>│\n",
       "├─────────────────────┼────────────────────────────────┼────────────────────────────────────┤\n",
       "│<span style=\"color: #7f7f7f; text-decoration-color: #7f7f7f\"> 6                   </span>│<span style=\"color: #7f7f7f; text-decoration-color: #7f7f7f\"> \"Flashdance... What a Feeling\" </span>│<span style=\"color: #7f7f7f; text-decoration-color: #7f7f7f\"> Irene Cara                         </span>│\n",
       "├─────────────────────┼────────────────────────────────┼────────────────────────────────────┤\n",
       "│<span style=\"color: #7f7f7f; text-decoration-color: #7f7f7f\"> 6                   </span>│<span style=\"color: #7f7f7f; text-decoration-color: #7f7f7f\"> \"Say, Say, Say\"                </span>│<span style=\"color: #7f7f7f; text-decoration-color: #7f7f7f\"> Paul McCartney and Michael Jackson </span>│\n",
       "├─────────────────────┼────────────────────────────────┼────────────────────────────────────┤\n",
       "│<span style=\"color: #7f7f7f; text-decoration-color: #7f7f7f\"> 6                   </span>│<span style=\"color: #7f7f7f; text-decoration-color: #7f7f7f\"> \"Like a Virgin\"                </span>│<span style=\"color: #7f7f7f; text-decoration-color: #7f7f7f\"> Madonna                            </span>│\n",
       "└─────────────────────┴────────────────────────────────┴────────────────────────────────────┘\n",
       "</pre>\n"
      ],
      "text/plain": [
       "┏━━━━━━━━━━━━━━━━━━━━━┳━━━━━━━━━━━━━━━━━━━━━━━━━━━━━━━━┳━━━━━━━━━━━━━━━━━━━━━━━━━━━━━━━━━━━━┓\n",
       "┃\u001b[1;35m \u001b[0m\u001b[1;35mWeeks at number one\u001b[0m\u001b[1;35m \u001b[0m┃\u001b[1;35m \u001b[0m\u001b[1;35mSong                          \u001b[0m\u001b[1;35m \u001b[0m┃\u001b[1;35m \u001b[0m\u001b[1;35mArtist(s)                         \u001b[0m\u001b[1;35m \u001b[0m┃\n",
       "┡━━━━━━━━━━━━━━━━━━━━━╇━━━━━━━━━━━━━━━━━━━━━━━━━━━━━━━━╇━━━━━━━━━━━━━━━━━━━━━━━━━━━━━━━━━━━━┩\n",
       "│\u001b[2m \u001b[0m\u001b[2m10                 \u001b[0m\u001b[2m \u001b[0m│\u001b[2m \u001b[0m\u001b[2m\"Physical\"                    \u001b[0m\u001b[2m \u001b[0m│\u001b[2m \u001b[0m\u001b[2mOlivia Newton-John                \u001b[0m\u001b[2m \u001b[0m│\n",
       "├─────────────────────┼────────────────────────────────┼────────────────────────────────────┤\n",
       "│\u001b[2m \u001b[0m\u001b[2m9                  \u001b[0m\u001b[2m \u001b[0m│\u001b[2m \u001b[0m\u001b[2m\"Bette Davis Eyes\"            \u001b[0m\u001b[2m \u001b[0m│\u001b[2m \u001b[0m\u001b[2mKim Carnes                        \u001b[0m\u001b[2m \u001b[0m│\n",
       "├─────────────────────┼────────────────────────────────┼────────────────────────────────────┤\n",
       "│\u001b[2m \u001b[0m\u001b[2m9                  \u001b[0m\u001b[2m \u001b[0m│\u001b[2m \u001b[0m\u001b[2m\"Endless Love\"                \u001b[0m\u001b[2m \u001b[0m│\u001b[2m \u001b[0m\u001b[2mDiana Ross and Lionel Richie      \u001b[0m\u001b[2m \u001b[0m│\n",
       "├─────────────────────┼────────────────────────────────┼────────────────────────────────────┤\n",
       "│\u001b[2m \u001b[0m\u001b[2m8                  \u001b[0m\u001b[2m \u001b[0m│\u001b[2m \u001b[0m\u001b[2m\"Every Breath You Take\"       \u001b[0m\u001b[2m \u001b[0m│\u001b[2m \u001b[0m\u001b[2mThe Police                        \u001b[0m\u001b[2m \u001b[0m│\n",
       "├─────────────────────┼────────────────────────────────┼────────────────────────────────────┤\n",
       "│\u001b[2m \u001b[0m\u001b[2m7                  \u001b[0m\u001b[2m \u001b[0m│\u001b[2m \u001b[0m\u001b[2m\"I Love Rock 'n' Roll\"        \u001b[0m\u001b[2m \u001b[0m│\u001b[2m \u001b[0m\u001b[2mJoan Jett and the Blackhearts     \u001b[0m\u001b[2m \u001b[0m│\n",
       "├─────────────────────┼────────────────────────────────┼────────────────────────────────────┤\n",
       "│\u001b[2m \u001b[0m\u001b[2m7                  \u001b[0m\u001b[2m \u001b[0m│\u001b[2m \u001b[0m\u001b[2m\"Ebony and Ivory\"             \u001b[0m\u001b[2m \u001b[0m│\u001b[2m \u001b[0m\u001b[2mPaul McCartney and Stevie Wonder  \u001b[0m\u001b[2m \u001b[0m│\n",
       "├─────────────────────┼────────────────────────────────┼────────────────────────────────────┤\n",
       "│\u001b[2m \u001b[0m\u001b[2m7                  \u001b[0m\u001b[2m \u001b[0m│\u001b[2m \u001b[0m\u001b[2m\"Billie Jean\"                 \u001b[0m\u001b[2m \u001b[0m│\u001b[2m \u001b[0m\u001b[2mMichael Jackson                   \u001b[0m\u001b[2m \u001b[0m│\n",
       "├─────────────────────┼────────────────────────────────┼────────────────────────────────────┤\n",
       "│\u001b[2m \u001b[0m\u001b[2m6                  \u001b[0m\u001b[2m \u001b[0m│\u001b[2m \u001b[0m\u001b[2m\"Call Me\"                     \u001b[0m\u001b[2m \u001b[0m│\u001b[2m \u001b[0m\u001b[2mBlondie                           \u001b[0m\u001b[2m \u001b[0m│\n",
       "├─────────────────────┼────────────────────────────────┼────────────────────────────────────┤\n",
       "│\u001b[2m \u001b[0m\u001b[2m6                  \u001b[0m\u001b[2m \u001b[0m│\u001b[2m \u001b[0m\u001b[2m\"Lady\"                        \u001b[0m\u001b[2m \u001b[0m│\u001b[2m \u001b[0m\u001b[2mKenny Rogers                      \u001b[0m\u001b[2m \u001b[0m│\n",
       "├─────────────────────┼────────────────────────────────┼────────────────────────────────────┤\n",
       "│\u001b[2m \u001b[0m\u001b[2m6                  \u001b[0m\u001b[2m \u001b[0m│\u001b[2m \u001b[0m\u001b[2m\"Centerfold\"                  \u001b[0m\u001b[2m \u001b[0m│\u001b[2m \u001b[0m\u001b[2mThe J. Geils Band                 \u001b[0m\u001b[2m \u001b[0m│\n",
       "├─────────────────────┼────────────────────────────────┼────────────────────────────────────┤\n",
       "│\u001b[2m \u001b[0m\u001b[2m6                  \u001b[0m\u001b[2m \u001b[0m│\u001b[2m \u001b[0m\u001b[2m\"Eye of the Tiger\"            \u001b[0m\u001b[2m \u001b[0m│\u001b[2m \u001b[0m\u001b[2mSurvivor                          \u001b[0m\u001b[2m \u001b[0m│\n",
       "├─────────────────────┼────────────────────────────────┼────────────────────────────────────┤\n",
       "│\u001b[2m \u001b[0m\u001b[2m6                  \u001b[0m\u001b[2m \u001b[0m│\u001b[2m \u001b[0m\u001b[2m\"Flashdance... What a Feeling\"\u001b[0m\u001b[2m \u001b[0m│\u001b[2m \u001b[0m\u001b[2mIrene Cara                        \u001b[0m\u001b[2m \u001b[0m│\n",
       "├─────────────────────┼────────────────────────────────┼────────────────────────────────────┤\n",
       "│\u001b[2m \u001b[0m\u001b[2m6                  \u001b[0m\u001b[2m \u001b[0m│\u001b[2m \u001b[0m\u001b[2m\"Say, Say, Say\"               \u001b[0m\u001b[2m \u001b[0m│\u001b[2m \u001b[0m\u001b[2mPaul McCartney and Michael Jackson\u001b[0m\u001b[2m \u001b[0m│\n",
       "├─────────────────────┼────────────────────────────────┼────────────────────────────────────┤\n",
       "│\u001b[2m \u001b[0m\u001b[2m6                  \u001b[0m\u001b[2m \u001b[0m│\u001b[2m \u001b[0m\u001b[2m\"Like a Virgin\"               \u001b[0m\u001b[2m \u001b[0m│\u001b[2m \u001b[0m\u001b[2mMadonna                           \u001b[0m\u001b[2m \u001b[0m│\n",
       "└─────────────────────┴────────────────────────────────┴────────────────────────────────────┘\n"
      ]
     },
     "metadata": {},
     "output_type": "display_data"
    }
   ],
   "source": [
    "s.print(format=\"rich\")"
   ]
  },
  {
   "cell_type": "markdown",
   "id": "ec95f521-c55f-4d61-9224-6b53d8da96f4",
   "metadata": {
    "editable": true,
    "slideshow": {
     "slide_type": ""
    },
    "tags": []
   },
   "source": [
    "We can rename the keys for convenience:"
   ]
  },
  {
   "cell_type": "code",
   "execution_count": 4,
   "id": "fe51f914-a778-4935-a6b6-a535d963eef8",
   "metadata": {
    "editable": true,
    "slideshow": {
     "slide_type": ""
    },
    "tags": []
   },
   "outputs": [
    {
     "data": {
      "text/plain": [
       "{'Artist(s)', 'Song', 'Weeks at number one'}"
      ]
     },
     "execution_count": 4,
     "metadata": {},
     "output_type": "execute_result"
    }
   ],
   "source": [
    "s.parameters"
   ]
  },
  {
   "cell_type": "code",
   "execution_count": 5,
   "id": "1f5f33e3-6463-45af-b60f-8a5f9ff766a0",
   "metadata": {
    "editable": true,
    "slideshow": {
     "slide_type": ""
    },
    "tags": []
   },
   "outputs": [],
   "source": [
    "s = s.rename({'Artist(s)':\"artists\", 'Song':\"song\", 'Weeks at number one':\"weeks\"})"
   ]
  },
  {
   "cell_type": "code",
   "execution_count": 6,
   "id": "ae9b0342-e44a-431c-a710-f3414d82de3d",
   "metadata": {
    "editable": true,
    "slideshow": {
     "slide_type": ""
    },
    "tags": []
   },
   "outputs": [
    {
     "data": {
      "text/html": [
       "<pre style=\"white-space:pre;overflow-x:auto;line-height:normal;font-family:Menlo,'DejaVu Sans Mono',consolas,'Courier New',monospace\">┏━━━━━━━┳━━━━━━━━━━━━━━━━━━━━━━━━━━━━━━━━┳━━━━━━━━━━━━━━━━━━━━━━━━━━━━━━━━━━━━┓\n",
       "┃<span style=\"color: #800080; text-decoration-color: #800080; font-weight: bold\"> weeks </span>┃<span style=\"color: #800080; text-decoration-color: #800080; font-weight: bold\"> song                           </span>┃<span style=\"color: #800080; text-decoration-color: #800080; font-weight: bold\"> artists                            </span>┃\n",
       "┡━━━━━━━╇━━━━━━━━━━━━━━━━━━━━━━━━━━━━━━━━╇━━━━━━━━━━━━━━━━━━━━━━━━━━━━━━━━━━━━┩\n",
       "│<span style=\"color: #7f7f7f; text-decoration-color: #7f7f7f\"> 10    </span>│<span style=\"color: #7f7f7f; text-decoration-color: #7f7f7f\"> \"Physical\"                     </span>│<span style=\"color: #7f7f7f; text-decoration-color: #7f7f7f\"> Olivia Newton-John                 </span>│\n",
       "├───────┼────────────────────────────────┼────────────────────────────────────┤\n",
       "│<span style=\"color: #7f7f7f; text-decoration-color: #7f7f7f\"> 9     </span>│<span style=\"color: #7f7f7f; text-decoration-color: #7f7f7f\"> \"Bette Davis Eyes\"             </span>│<span style=\"color: #7f7f7f; text-decoration-color: #7f7f7f\"> Kim Carnes                         </span>│\n",
       "├───────┼────────────────────────────────┼────────────────────────────────────┤\n",
       "│<span style=\"color: #7f7f7f; text-decoration-color: #7f7f7f\"> 9     </span>│<span style=\"color: #7f7f7f; text-decoration-color: #7f7f7f\"> \"Endless Love\"                 </span>│<span style=\"color: #7f7f7f; text-decoration-color: #7f7f7f\"> Diana Ross and Lionel Richie       </span>│\n",
       "├───────┼────────────────────────────────┼────────────────────────────────────┤\n",
       "│<span style=\"color: #7f7f7f; text-decoration-color: #7f7f7f\"> 8     </span>│<span style=\"color: #7f7f7f; text-decoration-color: #7f7f7f\"> \"Every Breath You Take\"        </span>│<span style=\"color: #7f7f7f; text-decoration-color: #7f7f7f\"> The Police                         </span>│\n",
       "├───────┼────────────────────────────────┼────────────────────────────────────┤\n",
       "│<span style=\"color: #7f7f7f; text-decoration-color: #7f7f7f\"> 7     </span>│<span style=\"color: #7f7f7f; text-decoration-color: #7f7f7f\"> \"I Love Rock 'n' Roll\"         </span>│<span style=\"color: #7f7f7f; text-decoration-color: #7f7f7f\"> Joan Jett and the Blackhearts      </span>│\n",
       "├───────┼────────────────────────────────┼────────────────────────────────────┤\n",
       "│<span style=\"color: #7f7f7f; text-decoration-color: #7f7f7f\"> 7     </span>│<span style=\"color: #7f7f7f; text-decoration-color: #7f7f7f\"> \"Ebony and Ivory\"              </span>│<span style=\"color: #7f7f7f; text-decoration-color: #7f7f7f\"> Paul McCartney and Stevie Wonder   </span>│\n",
       "├───────┼────────────────────────────────┼────────────────────────────────────┤\n",
       "│<span style=\"color: #7f7f7f; text-decoration-color: #7f7f7f\"> 7     </span>│<span style=\"color: #7f7f7f; text-decoration-color: #7f7f7f\"> \"Billie Jean\"                  </span>│<span style=\"color: #7f7f7f; text-decoration-color: #7f7f7f\"> Michael Jackson                    </span>│\n",
       "├───────┼────────────────────────────────┼────────────────────────────────────┤\n",
       "│<span style=\"color: #7f7f7f; text-decoration-color: #7f7f7f\"> 6     </span>│<span style=\"color: #7f7f7f; text-decoration-color: #7f7f7f\"> \"Call Me\"                      </span>│<span style=\"color: #7f7f7f; text-decoration-color: #7f7f7f\"> Blondie                            </span>│\n",
       "├───────┼────────────────────────────────┼────────────────────────────────────┤\n",
       "│<span style=\"color: #7f7f7f; text-decoration-color: #7f7f7f\"> 6     </span>│<span style=\"color: #7f7f7f; text-decoration-color: #7f7f7f\"> \"Lady\"                         </span>│<span style=\"color: #7f7f7f; text-decoration-color: #7f7f7f\"> Kenny Rogers                       </span>│\n",
       "├───────┼────────────────────────────────┼────────────────────────────────────┤\n",
       "│<span style=\"color: #7f7f7f; text-decoration-color: #7f7f7f\"> 6     </span>│<span style=\"color: #7f7f7f; text-decoration-color: #7f7f7f\"> \"Centerfold\"                   </span>│<span style=\"color: #7f7f7f; text-decoration-color: #7f7f7f\"> The J. Geils Band                  </span>│\n",
       "├───────┼────────────────────────────────┼────────────────────────────────────┤\n",
       "│<span style=\"color: #7f7f7f; text-decoration-color: #7f7f7f\"> 6     </span>│<span style=\"color: #7f7f7f; text-decoration-color: #7f7f7f\"> \"Eye of the Tiger\"             </span>│<span style=\"color: #7f7f7f; text-decoration-color: #7f7f7f\"> Survivor                           </span>│\n",
       "├───────┼────────────────────────────────┼────────────────────────────────────┤\n",
       "│<span style=\"color: #7f7f7f; text-decoration-color: #7f7f7f\"> 6     </span>│<span style=\"color: #7f7f7f; text-decoration-color: #7f7f7f\"> \"Flashdance... What a Feeling\" </span>│<span style=\"color: #7f7f7f; text-decoration-color: #7f7f7f\"> Irene Cara                         </span>│\n",
       "├───────┼────────────────────────────────┼────────────────────────────────────┤\n",
       "│<span style=\"color: #7f7f7f; text-decoration-color: #7f7f7f\"> 6     </span>│<span style=\"color: #7f7f7f; text-decoration-color: #7f7f7f\"> \"Say, Say, Say\"                </span>│<span style=\"color: #7f7f7f; text-decoration-color: #7f7f7f\"> Paul McCartney and Michael Jackson </span>│\n",
       "├───────┼────────────────────────────────┼────────────────────────────────────┤\n",
       "│<span style=\"color: #7f7f7f; text-decoration-color: #7f7f7f\"> 6     </span>│<span style=\"color: #7f7f7f; text-decoration-color: #7f7f7f\"> \"Like a Virgin\"                </span>│<span style=\"color: #7f7f7f; text-decoration-color: #7f7f7f\"> Madonna                            </span>│\n",
       "└───────┴────────────────────────────────┴────────────────────────────────────┘\n",
       "</pre>\n"
      ],
      "text/plain": [
       "┏━━━━━━━┳━━━━━━━━━━━━━━━━━━━━━━━━━━━━━━━━┳━━━━━━━━━━━━━━━━━━━━━━━━━━━━━━━━━━━━┓\n",
       "┃\u001b[1;35m \u001b[0m\u001b[1;35mweeks\u001b[0m\u001b[1;35m \u001b[0m┃\u001b[1;35m \u001b[0m\u001b[1;35msong                          \u001b[0m\u001b[1;35m \u001b[0m┃\u001b[1;35m \u001b[0m\u001b[1;35martists                           \u001b[0m\u001b[1;35m \u001b[0m┃\n",
       "┡━━━━━━━╇━━━━━━━━━━━━━━━━━━━━━━━━━━━━━━━━╇━━━━━━━━━━━━━━━━━━━━━━━━━━━━━━━━━━━━┩\n",
       "│\u001b[2m \u001b[0m\u001b[2m10   \u001b[0m\u001b[2m \u001b[0m│\u001b[2m \u001b[0m\u001b[2m\"Physical\"                    \u001b[0m\u001b[2m \u001b[0m│\u001b[2m \u001b[0m\u001b[2mOlivia Newton-John                \u001b[0m\u001b[2m \u001b[0m│\n",
       "├───────┼────────────────────────────────┼────────────────────────────────────┤\n",
       "│\u001b[2m \u001b[0m\u001b[2m9    \u001b[0m\u001b[2m \u001b[0m│\u001b[2m \u001b[0m\u001b[2m\"Bette Davis Eyes\"            \u001b[0m\u001b[2m \u001b[0m│\u001b[2m \u001b[0m\u001b[2mKim Carnes                        \u001b[0m\u001b[2m \u001b[0m│\n",
       "├───────┼────────────────────────────────┼────────────────────────────────────┤\n",
       "│\u001b[2m \u001b[0m\u001b[2m9    \u001b[0m\u001b[2m \u001b[0m│\u001b[2m \u001b[0m\u001b[2m\"Endless Love\"                \u001b[0m\u001b[2m \u001b[0m│\u001b[2m \u001b[0m\u001b[2mDiana Ross and Lionel Richie      \u001b[0m\u001b[2m \u001b[0m│\n",
       "├───────┼────────────────────────────────┼────────────────────────────────────┤\n",
       "│\u001b[2m \u001b[0m\u001b[2m8    \u001b[0m\u001b[2m \u001b[0m│\u001b[2m \u001b[0m\u001b[2m\"Every Breath You Take\"       \u001b[0m\u001b[2m \u001b[0m│\u001b[2m \u001b[0m\u001b[2mThe Police                        \u001b[0m\u001b[2m \u001b[0m│\n",
       "├───────┼────────────────────────────────┼────────────────────────────────────┤\n",
       "│\u001b[2m \u001b[0m\u001b[2m7    \u001b[0m\u001b[2m \u001b[0m│\u001b[2m \u001b[0m\u001b[2m\"I Love Rock 'n' Roll\"        \u001b[0m\u001b[2m \u001b[0m│\u001b[2m \u001b[0m\u001b[2mJoan Jett and the Blackhearts     \u001b[0m\u001b[2m \u001b[0m│\n",
       "├───────┼────────────────────────────────┼────────────────────────────────────┤\n",
       "│\u001b[2m \u001b[0m\u001b[2m7    \u001b[0m\u001b[2m \u001b[0m│\u001b[2m \u001b[0m\u001b[2m\"Ebony and Ivory\"             \u001b[0m\u001b[2m \u001b[0m│\u001b[2m \u001b[0m\u001b[2mPaul McCartney and Stevie Wonder  \u001b[0m\u001b[2m \u001b[0m│\n",
       "├───────┼────────────────────────────────┼────────────────────────────────────┤\n",
       "│\u001b[2m \u001b[0m\u001b[2m7    \u001b[0m\u001b[2m \u001b[0m│\u001b[2m \u001b[0m\u001b[2m\"Billie Jean\"                 \u001b[0m\u001b[2m \u001b[0m│\u001b[2m \u001b[0m\u001b[2mMichael Jackson                   \u001b[0m\u001b[2m \u001b[0m│\n",
       "├───────┼────────────────────────────────┼────────────────────────────────────┤\n",
       "│\u001b[2m \u001b[0m\u001b[2m6    \u001b[0m\u001b[2m \u001b[0m│\u001b[2m \u001b[0m\u001b[2m\"Call Me\"                     \u001b[0m\u001b[2m \u001b[0m│\u001b[2m \u001b[0m\u001b[2mBlondie                           \u001b[0m\u001b[2m \u001b[0m│\n",
       "├───────┼────────────────────────────────┼────────────────────────────────────┤\n",
       "│\u001b[2m \u001b[0m\u001b[2m6    \u001b[0m\u001b[2m \u001b[0m│\u001b[2m \u001b[0m\u001b[2m\"Lady\"                        \u001b[0m\u001b[2m \u001b[0m│\u001b[2m \u001b[0m\u001b[2mKenny Rogers                      \u001b[0m\u001b[2m \u001b[0m│\n",
       "├───────┼────────────────────────────────┼────────────────────────────────────┤\n",
       "│\u001b[2m \u001b[0m\u001b[2m6    \u001b[0m\u001b[2m \u001b[0m│\u001b[2m \u001b[0m\u001b[2m\"Centerfold\"                  \u001b[0m\u001b[2m \u001b[0m│\u001b[2m \u001b[0m\u001b[2mThe J. Geils Band                 \u001b[0m\u001b[2m \u001b[0m│\n",
       "├───────┼────────────────────────────────┼────────────────────────────────────┤\n",
       "│\u001b[2m \u001b[0m\u001b[2m6    \u001b[0m\u001b[2m \u001b[0m│\u001b[2m \u001b[0m\u001b[2m\"Eye of the Tiger\"            \u001b[0m\u001b[2m \u001b[0m│\u001b[2m \u001b[0m\u001b[2mSurvivor                          \u001b[0m\u001b[2m \u001b[0m│\n",
       "├───────┼────────────────────────────────┼────────────────────────────────────┤\n",
       "│\u001b[2m \u001b[0m\u001b[2m6    \u001b[0m\u001b[2m \u001b[0m│\u001b[2m \u001b[0m\u001b[2m\"Flashdance... What a Feeling\"\u001b[0m\u001b[2m \u001b[0m│\u001b[2m \u001b[0m\u001b[2mIrene Cara                        \u001b[0m\u001b[2m \u001b[0m│\n",
       "├───────┼────────────────────────────────┼────────────────────────────────────┤\n",
       "│\u001b[2m \u001b[0m\u001b[2m6    \u001b[0m\u001b[2m \u001b[0m│\u001b[2m \u001b[0m\u001b[2m\"Say, Say, Say\"               \u001b[0m\u001b[2m \u001b[0m│\u001b[2m \u001b[0m\u001b[2mPaul McCartney and Michael Jackson\u001b[0m\u001b[2m \u001b[0m│\n",
       "├───────┼────────────────────────────────┼────────────────────────────────────┤\n",
       "│\u001b[2m \u001b[0m\u001b[2m6    \u001b[0m\u001b[2m \u001b[0m│\u001b[2m \u001b[0m\u001b[2m\"Like a Virgin\"               \u001b[0m\u001b[2m \u001b[0m│\u001b[2m \u001b[0m\u001b[2mMadonna                           \u001b[0m\u001b[2m \u001b[0m│\n",
       "└───────┴────────────────────────────────┴────────────────────────────────────┘\n"
      ]
     },
     "metadata": {},
     "output_type": "display_data"
    }
   ],
   "source": [
    "s.print(format=\"rich\")"
   ]
  },
  {
   "cell_type": "markdown",
   "id": "f3091277-b4a8-4c02-85ea-f4ca14a78420",
   "metadata": {
    "editable": true,
    "slideshow": {
     "slide_type": ""
    },
    "tags": []
   },
   "source": [
    "We can save the scenarios to a CSV:"
   ]
  },
  {
   "cell_type": "code",
   "execution_count": 7,
   "id": "1d5ad700-75b6-4383-9ac0-882f3d4e2379",
   "metadata": {
    "editable": true,
    "slideshow": {
     "slide_type": ""
    },
    "tags": []
   },
   "outputs": [],
   "source": [
    "s.to_csv(\"billboard_100_1980s.csv\")"
   ]
  },
  {
   "cell_type": "markdown",
   "id": "445931be-d370-48fd-9a7f-386fbfea1861",
   "metadata": {
    "editable": true,
    "slideshow": {
     "slide_type": ""
    },
    "tags": []
   },
   "source": [
    "### Storing data at the Coop using the file store\n",
    "Here we use the CSV file store to store the file that we just created:"
   ]
  },
  {
   "cell_type": "code",
   "execution_count": 8,
   "id": "56c7a3ed-3bb7-48f5-9fa5-a3d8352149bc",
   "metadata": {
    "editable": true,
    "slideshow": {
     "slide_type": ""
    },
    "tags": [
     "skip-execution"
    ]
   },
   "outputs": [],
   "source": [
    "fs = CSVFileStore(\"billboard_100_1980s.csv\")"
   ]
  },
  {
   "cell_type": "markdown",
   "id": "9b145a60-a712-4577-8a01-59158aa4983e",
   "metadata": {
    "editable": true,
    "slideshow": {
     "slide_type": ""
    },
    "tags": []
   },
   "source": [
    "We can post a `FileStore` object to the Coop by calling the `push()` method on it.\n",
    "We can optionally pass a `description` and a `visibility` setting - *public*, *unlisted* (by default) or *private*:"
   ]
  },
  {
   "cell_type": "code",
   "execution_count": 9,
   "id": "bc8224ee-c998-4595-8aca-76714edbe09e",
   "metadata": {
    "editable": true,
    "slideshow": {
     "slide_type": ""
    },
    "tags": [
     "skip-execution"
    ]
   },
   "outputs": [],
   "source": [
    "info = fs.push(description = \"Wikipedia: List of Billboard Hot 100 number-one singles of the 1980s\")"
   ]
  },
  {
   "cell_type": "markdown",
   "id": "c09c446a-d958-401e-8612-121c8f9f9f09",
   "metadata": {
    "editable": true,
    "slideshow": {
     "slide_type": ""
    },
    "tags": []
   },
   "source": [
    "We can print the details of the posted object, including the URL and Coop uuid that we will need to retrieve it later:"
   ]
  },
  {
   "cell_type": "code",
   "execution_count": 10,
   "id": "3cf2980f-83ec-45d0-88ae-a419cd2ebf9d",
   "metadata": {
    "editable": true,
    "slideshow": {
     "slide_type": ""
    },
    "tags": [
     "skip-execution"
    ]
   },
   "outputs": [
    {
     "data": {
      "text/plain": [
       "{'description': 'Wikipedia: List of Billboard Hot 100 number-one singles of the 1980s',\n",
       " 'object_type': 'scenario',\n",
       " 'url': 'https://www.expectedparrot.com/content/bcfcf540-ee57-46f5-b8a3-5aa7eda5b64d',\n",
       " 'uuid': 'bcfcf540-ee57-46f5-b8a3-5aa7eda5b64d',\n",
       " 'version': '0.1.37.dev1',\n",
       " 'visibility': 'unlisted'}"
      ]
     },
     "execution_count": 10,
     "metadata": {},
     "output_type": "execute_result"
    }
   ],
   "source": [
    "info"
   ]
  },
  {
   "cell_type": "markdown",
   "id": "174fd745-c357-47c7-8560-c3b174fd5959",
   "metadata": {
    "editable": true,
    "slideshow": {
     "slide_type": ""
    },
    "tags": []
   },
   "source": [
    "### Retrieving a file and recreating scenarios\n",
    "Here we retrieve the file from the file store and recreate scenarios:"
   ]
  },
  {
   "cell_type": "code",
   "execution_count": 11,
   "id": "2f6da4cd-0b65-421f-a5fb-086acf54ad1c",
   "metadata": {
    "editable": true,
    "slideshow": {
     "slide_type": ""
    },
    "tags": [
     "skip-execution"
    ]
   },
   "outputs": [
    {
     "data": {
      "text/plain": [
       "'bcfcf540-ee57-46f5-b8a3-5aa7eda5b64d'"
      ]
     },
     "execution_count": 11,
     "metadata": {},
     "output_type": "execute_result"
    }
   ],
   "source": [
    "uuid = info[\"uuid\"]\n",
    "uuid"
   ]
  },
  {
   "cell_type": "code",
   "execution_count": 12,
   "id": "b15c5108-6166-4ca4-b244-ddb7b3d6246f",
   "metadata": {
    "editable": true,
    "slideshow": {
     "slide_type": ""
    },
    "tags": [
     "skip-execution"
    ]
   },
   "outputs": [],
   "source": [
    "csv_file = CSVFileStore.pull(uuid=uuid, expected_parrot_url=\"https://www.expectedparrot.com\")"
   ]
  },
  {
   "cell_type": "code",
   "execution_count": 13,
   "id": "e435ef56-1fc7-4f6a-8252-a788f779aeb4",
   "metadata": {
    "editable": true,
    "slideshow": {
     "slide_type": ""
    },
    "tags": [
     "skip-execution"
    ]
   },
   "outputs": [],
   "source": [
    "s = ScenarioList.from_csv(csv_file.to_tempfile())"
   ]
  },
  {
   "cell_type": "code",
   "execution_count": 14,
   "id": "d8910b50-f627-455c-9b3e-1cada77def69",
   "metadata": {
    "editable": true,
    "slideshow": {
     "slide_type": ""
    },
    "tags": [
     "skip-execution"
    ]
   },
   "outputs": [
    {
     "data": {
      "text/html": [
       "<pre style=\"white-space:pre;overflow-x:auto;line-height:normal;font-family:Menlo,'DejaVu Sans Mono',consolas,'Courier New',monospace\">┏━━━━━━━┳━━━━━━━━━━━━━━━━━━━━━━━━━━━━━━━━┳━━━━━━━━━━━━━━━━━━━━━━━━━━━━━━━━━━━━┓\n",
       "┃<span style=\"color: #800080; text-decoration-color: #800080; font-weight: bold\"> weeks </span>┃<span style=\"color: #800080; text-decoration-color: #800080; font-weight: bold\"> song                           </span>┃<span style=\"color: #800080; text-decoration-color: #800080; font-weight: bold\"> artists                            </span>┃\n",
       "┡━━━━━━━╇━━━━━━━━━━━━━━━━━━━━━━━━━━━━━━━━╇━━━━━━━━━━━━━━━━━━━━━━━━━━━━━━━━━━━━┩\n",
       "│<span style=\"color: #7f7f7f; text-decoration-color: #7f7f7f\"> 10    </span>│<span style=\"color: #7f7f7f; text-decoration-color: #7f7f7f\"> \"Physical\"                     </span>│<span style=\"color: #7f7f7f; text-decoration-color: #7f7f7f\"> Olivia Newton-John                 </span>│\n",
       "├───────┼────────────────────────────────┼────────────────────────────────────┤\n",
       "│<span style=\"color: #7f7f7f; text-decoration-color: #7f7f7f\"> 9     </span>│<span style=\"color: #7f7f7f; text-decoration-color: #7f7f7f\"> \"Bette Davis Eyes\"             </span>│<span style=\"color: #7f7f7f; text-decoration-color: #7f7f7f\"> Kim Carnes                         </span>│\n",
       "├───────┼────────────────────────────────┼────────────────────────────────────┤\n",
       "│<span style=\"color: #7f7f7f; text-decoration-color: #7f7f7f\"> 9     </span>│<span style=\"color: #7f7f7f; text-decoration-color: #7f7f7f\"> \"Endless Love\"                 </span>│<span style=\"color: #7f7f7f; text-decoration-color: #7f7f7f\"> Diana Ross and Lionel Richie       </span>│\n",
       "├───────┼────────────────────────────────┼────────────────────────────────────┤\n",
       "│<span style=\"color: #7f7f7f; text-decoration-color: #7f7f7f\"> 8     </span>│<span style=\"color: #7f7f7f; text-decoration-color: #7f7f7f\"> \"Every Breath You Take\"        </span>│<span style=\"color: #7f7f7f; text-decoration-color: #7f7f7f\"> The Police                         </span>│\n",
       "├───────┼────────────────────────────────┼────────────────────────────────────┤\n",
       "│<span style=\"color: #7f7f7f; text-decoration-color: #7f7f7f\"> 7     </span>│<span style=\"color: #7f7f7f; text-decoration-color: #7f7f7f\"> \"I Love Rock 'n' Roll\"         </span>│<span style=\"color: #7f7f7f; text-decoration-color: #7f7f7f\"> Joan Jett and the Blackhearts      </span>│\n",
       "├───────┼────────────────────────────────┼────────────────────────────────────┤\n",
       "│<span style=\"color: #7f7f7f; text-decoration-color: #7f7f7f\"> 7     </span>│<span style=\"color: #7f7f7f; text-decoration-color: #7f7f7f\"> \"Ebony and Ivory\"              </span>│<span style=\"color: #7f7f7f; text-decoration-color: #7f7f7f\"> Paul McCartney and Stevie Wonder   </span>│\n",
       "├───────┼────────────────────────────────┼────────────────────────────────────┤\n",
       "│<span style=\"color: #7f7f7f; text-decoration-color: #7f7f7f\"> 7     </span>│<span style=\"color: #7f7f7f; text-decoration-color: #7f7f7f\"> \"Billie Jean\"                  </span>│<span style=\"color: #7f7f7f; text-decoration-color: #7f7f7f\"> Michael Jackson                    </span>│\n",
       "├───────┼────────────────────────────────┼────────────────────────────────────┤\n",
       "│<span style=\"color: #7f7f7f; text-decoration-color: #7f7f7f\"> 6     </span>│<span style=\"color: #7f7f7f; text-decoration-color: #7f7f7f\"> \"Call Me\"                      </span>│<span style=\"color: #7f7f7f; text-decoration-color: #7f7f7f\"> Blondie                            </span>│\n",
       "├───────┼────────────────────────────────┼────────────────────────────────────┤\n",
       "│<span style=\"color: #7f7f7f; text-decoration-color: #7f7f7f\"> 6     </span>│<span style=\"color: #7f7f7f; text-decoration-color: #7f7f7f\"> \"Lady\"                         </span>│<span style=\"color: #7f7f7f; text-decoration-color: #7f7f7f\"> Kenny Rogers                       </span>│\n",
       "├───────┼────────────────────────────────┼────────────────────────────────────┤\n",
       "│<span style=\"color: #7f7f7f; text-decoration-color: #7f7f7f\"> 6     </span>│<span style=\"color: #7f7f7f; text-decoration-color: #7f7f7f\"> \"Centerfold\"                   </span>│<span style=\"color: #7f7f7f; text-decoration-color: #7f7f7f\"> The J. Geils Band                  </span>│\n",
       "├───────┼────────────────────────────────┼────────────────────────────────────┤\n",
       "│<span style=\"color: #7f7f7f; text-decoration-color: #7f7f7f\"> 6     </span>│<span style=\"color: #7f7f7f; text-decoration-color: #7f7f7f\"> \"Eye of the Tiger\"             </span>│<span style=\"color: #7f7f7f; text-decoration-color: #7f7f7f\"> Survivor                           </span>│\n",
       "├───────┼────────────────────────────────┼────────────────────────────────────┤\n",
       "│<span style=\"color: #7f7f7f; text-decoration-color: #7f7f7f\"> 6     </span>│<span style=\"color: #7f7f7f; text-decoration-color: #7f7f7f\"> \"Flashdance... What a Feeling\" </span>│<span style=\"color: #7f7f7f; text-decoration-color: #7f7f7f\"> Irene Cara                         </span>│\n",
       "├───────┼────────────────────────────────┼────────────────────────────────────┤\n",
       "│<span style=\"color: #7f7f7f; text-decoration-color: #7f7f7f\"> 6     </span>│<span style=\"color: #7f7f7f; text-decoration-color: #7f7f7f\"> \"Say, Say, Say\"                </span>│<span style=\"color: #7f7f7f; text-decoration-color: #7f7f7f\"> Paul McCartney and Michael Jackson </span>│\n",
       "├───────┼────────────────────────────────┼────────────────────────────────────┤\n",
       "│<span style=\"color: #7f7f7f; text-decoration-color: #7f7f7f\"> 6     </span>│<span style=\"color: #7f7f7f; text-decoration-color: #7f7f7f\"> \"Like a Virgin\"                </span>│<span style=\"color: #7f7f7f; text-decoration-color: #7f7f7f\"> Madonna                            </span>│\n",
       "└───────┴────────────────────────────────┴────────────────────────────────────┘\n",
       "</pre>\n"
      ],
      "text/plain": [
       "┏━━━━━━━┳━━━━━━━━━━━━━━━━━━━━━━━━━━━━━━━━┳━━━━━━━━━━━━━━━━━━━━━━━━━━━━━━━━━━━━┓\n",
       "┃\u001b[1;35m \u001b[0m\u001b[1;35mweeks\u001b[0m\u001b[1;35m \u001b[0m┃\u001b[1;35m \u001b[0m\u001b[1;35msong                          \u001b[0m\u001b[1;35m \u001b[0m┃\u001b[1;35m \u001b[0m\u001b[1;35martists                           \u001b[0m\u001b[1;35m \u001b[0m┃\n",
       "┡━━━━━━━╇━━━━━━━━━━━━━━━━━━━━━━━━━━━━━━━━╇━━━━━━━━━━━━━━━━━━━━━━━━━━━━━━━━━━━━┩\n",
       "│\u001b[2m \u001b[0m\u001b[2m10   \u001b[0m\u001b[2m \u001b[0m│\u001b[2m \u001b[0m\u001b[2m\"Physical\"                    \u001b[0m\u001b[2m \u001b[0m│\u001b[2m \u001b[0m\u001b[2mOlivia Newton-John                \u001b[0m\u001b[2m \u001b[0m│\n",
       "├───────┼────────────────────────────────┼────────────────────────────────────┤\n",
       "│\u001b[2m \u001b[0m\u001b[2m9    \u001b[0m\u001b[2m \u001b[0m│\u001b[2m \u001b[0m\u001b[2m\"Bette Davis Eyes\"            \u001b[0m\u001b[2m \u001b[0m│\u001b[2m \u001b[0m\u001b[2mKim Carnes                        \u001b[0m\u001b[2m \u001b[0m│\n",
       "├───────┼────────────────────────────────┼────────────────────────────────────┤\n",
       "│\u001b[2m \u001b[0m\u001b[2m9    \u001b[0m\u001b[2m \u001b[0m│\u001b[2m \u001b[0m\u001b[2m\"Endless Love\"                \u001b[0m\u001b[2m \u001b[0m│\u001b[2m \u001b[0m\u001b[2mDiana Ross and Lionel Richie      \u001b[0m\u001b[2m \u001b[0m│\n",
       "├───────┼────────────────────────────────┼────────────────────────────────────┤\n",
       "│\u001b[2m \u001b[0m\u001b[2m8    \u001b[0m\u001b[2m \u001b[0m│\u001b[2m \u001b[0m\u001b[2m\"Every Breath You Take\"       \u001b[0m\u001b[2m \u001b[0m│\u001b[2m \u001b[0m\u001b[2mThe Police                        \u001b[0m\u001b[2m \u001b[0m│\n",
       "├───────┼────────────────────────────────┼────────────────────────────────────┤\n",
       "│\u001b[2m \u001b[0m\u001b[2m7    \u001b[0m\u001b[2m \u001b[0m│\u001b[2m \u001b[0m\u001b[2m\"I Love Rock 'n' Roll\"        \u001b[0m\u001b[2m \u001b[0m│\u001b[2m \u001b[0m\u001b[2mJoan Jett and the Blackhearts     \u001b[0m\u001b[2m \u001b[0m│\n",
       "├───────┼────────────────────────────────┼────────────────────────────────────┤\n",
       "│\u001b[2m \u001b[0m\u001b[2m7    \u001b[0m\u001b[2m \u001b[0m│\u001b[2m \u001b[0m\u001b[2m\"Ebony and Ivory\"             \u001b[0m\u001b[2m \u001b[0m│\u001b[2m \u001b[0m\u001b[2mPaul McCartney and Stevie Wonder  \u001b[0m\u001b[2m \u001b[0m│\n",
       "├───────┼────────────────────────────────┼────────────────────────────────────┤\n",
       "│\u001b[2m \u001b[0m\u001b[2m7    \u001b[0m\u001b[2m \u001b[0m│\u001b[2m \u001b[0m\u001b[2m\"Billie Jean\"                 \u001b[0m\u001b[2m \u001b[0m│\u001b[2m \u001b[0m\u001b[2mMichael Jackson                   \u001b[0m\u001b[2m \u001b[0m│\n",
       "├───────┼────────────────────────────────┼────────────────────────────────────┤\n",
       "│\u001b[2m \u001b[0m\u001b[2m6    \u001b[0m\u001b[2m \u001b[0m│\u001b[2m \u001b[0m\u001b[2m\"Call Me\"                     \u001b[0m\u001b[2m \u001b[0m│\u001b[2m \u001b[0m\u001b[2mBlondie                           \u001b[0m\u001b[2m \u001b[0m│\n",
       "├───────┼────────────────────────────────┼────────────────────────────────────┤\n",
       "│\u001b[2m \u001b[0m\u001b[2m6    \u001b[0m\u001b[2m \u001b[0m│\u001b[2m \u001b[0m\u001b[2m\"Lady\"                        \u001b[0m\u001b[2m \u001b[0m│\u001b[2m \u001b[0m\u001b[2mKenny Rogers                      \u001b[0m\u001b[2m \u001b[0m│\n",
       "├───────┼────────────────────────────────┼────────────────────────────────────┤\n",
       "│\u001b[2m \u001b[0m\u001b[2m6    \u001b[0m\u001b[2m \u001b[0m│\u001b[2m \u001b[0m\u001b[2m\"Centerfold\"                  \u001b[0m\u001b[2m \u001b[0m│\u001b[2m \u001b[0m\u001b[2mThe J. Geils Band                 \u001b[0m\u001b[2m \u001b[0m│\n",
       "├───────┼────────────────────────────────┼────────────────────────────────────┤\n",
       "│\u001b[2m \u001b[0m\u001b[2m6    \u001b[0m\u001b[2m \u001b[0m│\u001b[2m \u001b[0m\u001b[2m\"Eye of the Tiger\"            \u001b[0m\u001b[2m \u001b[0m│\u001b[2m \u001b[0m\u001b[2mSurvivor                          \u001b[0m\u001b[2m \u001b[0m│\n",
       "├───────┼────────────────────────────────┼────────────────────────────────────┤\n",
       "│\u001b[2m \u001b[0m\u001b[2m6    \u001b[0m\u001b[2m \u001b[0m│\u001b[2m \u001b[0m\u001b[2m\"Flashdance... What a Feeling\"\u001b[0m\u001b[2m \u001b[0m│\u001b[2m \u001b[0m\u001b[2mIrene Cara                        \u001b[0m\u001b[2m \u001b[0m│\n",
       "├───────┼────────────────────────────────┼────────────────────────────────────┤\n",
       "│\u001b[2m \u001b[0m\u001b[2m6    \u001b[0m\u001b[2m \u001b[0m│\u001b[2m \u001b[0m\u001b[2m\"Say, Say, Say\"               \u001b[0m\u001b[2m \u001b[0m│\u001b[2m \u001b[0m\u001b[2mPaul McCartney and Michael Jackson\u001b[0m\u001b[2m \u001b[0m│\n",
       "├───────┼────────────────────────────────┼────────────────────────────────────┤\n",
       "│\u001b[2m \u001b[0m\u001b[2m6    \u001b[0m\u001b[2m \u001b[0m│\u001b[2m \u001b[0m\u001b[2m\"Like a Virgin\"               \u001b[0m\u001b[2m \u001b[0m│\u001b[2m \u001b[0m\u001b[2mMadonna                           \u001b[0m\u001b[2m \u001b[0m│\n",
       "└───────┴────────────────────────────────┴────────────────────────────────────┘\n"
      ]
     },
     "metadata": {},
     "output_type": "display_data"
    }
   ],
   "source": [
    "s.print(format=\"rich\")"
   ]
  },
  {
   "cell_type": "markdown",
   "id": "dae17cb1-8b12-46b0-a953-aa6f53a3c5f8",
   "metadata": {
    "editable": true,
    "slideshow": {
     "slide_type": ""
    },
    "tags": []
   },
   "source": [
    "### Using scenarios in a survey\n",
    "We can use the scenarios with a survey by creating placeholders in the questions for the scenario keys, and adding the scenarios to the survey when we run it:"
   ]
  },
  {
   "cell_type": "code",
   "execution_count": 15,
   "id": "700d81c8-5a66-4a98-94c1-2b3c23632963",
   "metadata": {
    "editable": true,
    "slideshow": {
     "slide_type": ""
    },
    "tags": [
     "skip-execution"
    ]
   },
   "outputs": [],
   "source": [
    "from edsl import QuestionFreeText, QuestionMultipleChoice, QuestionCheckBox, QuestionList, Survey\n",
    "\n",
    "q1 = QuestionFreeText(\n",
    "    question_name = \"topic\",\n",
    "    question_text = \"What is the topic of the song {{ song }} by {{ artists }}?\"\n",
    ")\n",
    "\n",
    "q2 = QuestionMultipleChoice(\n",
    "    question_name = \"sentiment\",\n",
    "    question_text = \"What is the sentiment of the song {{ song }} by {{ artists }}?\",\n",
    "    question_options = [\n",
    "        \"Happy\",\n",
    "        \"Sad\",\n",
    "        \"Angry\",\n",
    "        \"Romantic\",\n",
    "        \"Nostalgic\",\n",
    "        \"Empowering\",\n",
    "        \"Melancholic\",\n",
    "        \"Hopeful\"\n",
    "    ]\n",
    ")\n",
    "\n",
    "q3 = QuestionCheckBox(\n",
    "    question_name = \"themes\",\n",
    "    question_text = \"What themes are present in the song {{ song }} by {{ artists }}?\",\n",
    "    question_options = [\n",
    "        \"Love\",\n",
    "        \"Loss\",\n",
    "        \"Struggle\",\n",
    "        \"Celebration\",\n",
    "        \"Social issues\",\n",
    "        \"Other\"\n",
    "    ]\n",
    ")\n",
    "\n",
    "q4 = QuestionList(\n",
    "    question_name = \"other_themes\",\n",
    "    question_text = \"What other themes are present?\"\n",
    ")\n",
    "\n",
    "survey = (\n",
    "    Survey(questions = [q1, q2, q3, q4])\n",
    "    .add_targeted_memory(q4, q3)\n",
    "    .add_stop_rule(q3, \"'Other' not in themes\")\n",
    ")\n",
    "\n",
    "results = survey.by(s).run()"
   ]
  },
  {
   "cell_type": "markdown",
   "id": "18f04c0b-253b-41a4-9eac-53e815e5487e",
   "metadata": {
    "editable": true,
    "slideshow": {
     "slide_type": ""
    },
    "tags": []
   },
   "source": [
    "We can filter, sort, select and print any components of the results that are generated. \n",
    "Note that the results include columns for all scenario keys, whether used in question texts or not:"
   ]
  },
  {
   "cell_type": "code",
   "execution_count": 16,
   "id": "3e5530bf-867e-4ab9-9b19-e93b504f8021",
   "metadata": {
    "editable": true,
    "slideshow": {
     "slide_type": ""
    },
    "tags": [
     "skip-execution"
    ]
   },
   "outputs": [
    {
     "data": {
      "text/html": [
       "<pre style=\"white-space:pre;overflow-x:auto;line-height:normal;font-family:Menlo,'DejaVu Sans Mono',consolas,'Courier New',monospace\">┏━━━━━━━━━━━━━━━━━━━━━━━━━━━━━━━━┳━━━━━━━━━━━━━━━━━━━━━━━━━━━━━━━━━━━━┳━━━━━━━━━━━━━━━━━━━━━━━━━━━━━━━━━━━━━━━━━━━┓\n",
       "┃<span style=\"color: #800080; text-decoration-color: #800080; font-weight: bold\"> scenario                       </span>┃<span style=\"color: #800080; text-decoration-color: #800080; font-weight: bold\"> scenario                           </span>┃<span style=\"color: #800080; text-decoration-color: #800080; font-weight: bold\"> answer                                    </span>┃\n",
       "┃<span style=\"color: #800080; text-decoration-color: #800080; font-weight: bold\"> .song                          </span>┃<span style=\"color: #800080; text-decoration-color: #800080; font-weight: bold\"> .artists                           </span>┃<span style=\"color: #800080; text-decoration-color: #800080; font-weight: bold\"> .topic                                    </span>┃\n",
       "┡━━━━━━━━━━━━━━━━━━━━━━━━━━━━━━━━╇━━━━━━━━━━━━━━━━━━━━━━━━━━━━━━━━━━━━╇━━━━━━━━━━━━━━━━━━━━━━━━━━━━━━━━━━━━━━━━━━━┩\n",
       "│<span style=\"color: #7f7f7f; text-decoration-color: #7f7f7f\"> \"Bette Davis Eyes\"             </span>│<span style=\"color: #7f7f7f; text-decoration-color: #7f7f7f\"> Kim Carnes                         </span>│<span style=\"color: #7f7f7f; text-decoration-color: #7f7f7f\"> The song \"Bette Davis Eyes\" by Kim Carnes </span>│\n",
       "│<span style=\"color: #7f7f7f; text-decoration-color: #7f7f7f\">                                </span>│<span style=\"color: #7f7f7f; text-decoration-color: #7f7f7f\">                                    </span>│<span style=\"color: #7f7f7f; text-decoration-color: #7f7f7f\"> is about a woman who is captivating and   </span>│\n",
       "│<span style=\"color: #7f7f7f; text-decoration-color: #7f7f7f\">                                </span>│<span style=\"color: #7f7f7f; text-decoration-color: #7f7f7f\">                                    </span>│<span style=\"color: #7f7f7f; text-decoration-color: #7f7f7f\"> alluring, with a mysterious and seductive </span>│\n",
       "│<span style=\"color: #7f7f7f; text-decoration-color: #7f7f7f\">                                </span>│<span style=\"color: #7f7f7f; text-decoration-color: #7f7f7f\">                                    </span>│<span style=\"color: #7f7f7f; text-decoration-color: #7f7f7f\"> charm reminiscent of the iconic actress   </span>│\n",
       "│<span style=\"color: #7f7f7f; text-decoration-color: #7f7f7f\">                                </span>│<span style=\"color: #7f7f7f; text-decoration-color: #7f7f7f\">                                    </span>│<span style=\"color: #7f7f7f; text-decoration-color: #7f7f7f\"> Bette Davis. The lyrics describe how this </span>│\n",
       "│<span style=\"color: #7f7f7f; text-decoration-color: #7f7f7f\">                                </span>│<span style=\"color: #7f7f7f; text-decoration-color: #7f7f7f\">                                    </span>│<span style=\"color: #7f7f7f; text-decoration-color: #7f7f7f\"> woman has an intense and mesmerizing      </span>│\n",
       "│<span style=\"color: #7f7f7f; text-decoration-color: #7f7f7f\">                                </span>│<span style=\"color: #7f7f7f; text-decoration-color: #7f7f7f\">                                    </span>│<span style=\"color: #7f7f7f; text-decoration-color: #7f7f7f\"> presence, with a certain allure that      </span>│\n",
       "│<span style=\"color: #7f7f7f; text-decoration-color: #7f7f7f\">                                </span>│<span style=\"color: #7f7f7f; text-decoration-color: #7f7f7f\">                                    </span>│<span style=\"color: #7f7f7f; text-decoration-color: #7f7f7f\"> draws people in, much like Bette Davis    </span>│\n",
       "│<span style=\"color: #7f7f7f; text-decoration-color: #7f7f7f\">                                </span>│<span style=\"color: #7f7f7f; text-decoration-color: #7f7f7f\">                                    </span>│<span style=\"color: #7f7f7f; text-decoration-color: #7f7f7f\"> was known for her distinctive eyes and    </span>│\n",
       "│<span style=\"color: #7f7f7f; text-decoration-color: #7f7f7f\">                                </span>│<span style=\"color: #7f7f7f; text-decoration-color: #7f7f7f\">                                    </span>│<span style=\"color: #7f7f7f; text-decoration-color: #7f7f7f\"> strong screen presence. The song          </span>│\n",
       "│<span style=\"color: #7f7f7f; text-decoration-color: #7f7f7f\">                                </span>│<span style=\"color: #7f7f7f; text-decoration-color: #7f7f7f\">                                    </span>│<span style=\"color: #7f7f7f; text-decoration-color: #7f7f7f\"> highlights her ability to enchant and     </span>│\n",
       "│<span style=\"color: #7f7f7f; text-decoration-color: #7f7f7f\">                                </span>│<span style=\"color: #7f7f7f; text-decoration-color: #7f7f7f\">                                    </span>│<span style=\"color: #7f7f7f; text-decoration-color: #7f7f7f\"> manipulate those around her with her      </span>│\n",
       "│<span style=\"color: #7f7f7f; text-decoration-color: #7f7f7f\">                                </span>│<span style=\"color: #7f7f7f; text-decoration-color: #7f7f7f\">                                    </span>│<span style=\"color: #7f7f7f; text-decoration-color: #7f7f7f\"> charisma and enigmatic personality.       </span>│\n",
       "├────────────────────────────────┼────────────────────────────────────┼───────────────────────────────────────────┤\n",
       "│<span style=\"color: #7f7f7f; text-decoration-color: #7f7f7f\"> \"Billie Jean\"                  </span>│<span style=\"color: #7f7f7f; text-decoration-color: #7f7f7f\"> Michael Jackson                    </span>│<span style=\"color: #7f7f7f; text-decoration-color: #7f7f7f\"> The song \"Billie Jean\" by Michael Jackson </span>│\n",
       "│<span style=\"color: #7f7f7f; text-decoration-color: #7f7f7f\">                                </span>│<span style=\"color: #7f7f7f; text-decoration-color: #7f7f7f\">                                    </span>│<span style=\"color: #7f7f7f; text-decoration-color: #7f7f7f\"> is about a man who is confronted by a     </span>│\n",
       "│<span style=\"color: #7f7f7f; text-decoration-color: #7f7f7f\">                                </span>│<span style=\"color: #7f7f7f; text-decoration-color: #7f7f7f\">                                    </span>│<span style=\"color: #7f7f7f; text-decoration-color: #7f7f7f\"> woman named Billie Jean who claims that   </span>│\n",
       "│<span style=\"color: #7f7f7f; text-decoration-color: #7f7f7f\">                                </span>│<span style=\"color: #7f7f7f; text-decoration-color: #7f7f7f\">                                    </span>│<span style=\"color: #7f7f7f; text-decoration-color: #7f7f7f\"> he is the father of her son. The lyrics   </span>│\n",
       "│<span style=\"color: #7f7f7f; text-decoration-color: #7f7f7f\">                                </span>│<span style=\"color: #7f7f7f; text-decoration-color: #7f7f7f\">                                    </span>│<span style=\"color: #7f7f7f; text-decoration-color: #7f7f7f\"> describe his denial of her allegations    </span>│\n",
       "│<span style=\"color: #7f7f7f; text-decoration-color: #7f7f7f\">                                </span>│<span style=\"color: #7f7f7f; text-decoration-color: #7f7f7f\">                                    </span>│<span style=\"color: #7f7f7f; text-decoration-color: #7f7f7f\"> and his insistence that she is lying. The </span>│\n",
       "│<span style=\"color: #7f7f7f; text-decoration-color: #7f7f7f\">                                </span>│<span style=\"color: #7f7f7f; text-decoration-color: #7f7f7f\">                                    </span>│<span style=\"color: #7f7f7f; text-decoration-color: #7f7f7f\"> song explores themes of false             </span>│\n",
       "│<span style=\"color: #7f7f7f; text-decoration-color: #7f7f7f\">                                </span>│<span style=\"color: #7f7f7f; text-decoration-color: #7f7f7f\">                                    </span>│<span style=\"color: #7f7f7f; text-decoration-color: #7f7f7f\"> accusations, the burden of fame, and the  </span>│\n",
       "│<span style=\"color: #7f7f7f; text-decoration-color: #7f7f7f\">                                </span>│<span style=\"color: #7f7f7f; text-decoration-color: #7f7f7f\">                                    </span>│<span style=\"color: #7f7f7f; text-decoration-color: #7f7f7f\"> impact of rumors on personal life.        </span>│\n",
       "├────────────────────────────────┼────────────────────────────────────┼───────────────────────────────────────────┤\n",
       "│<span style=\"color: #7f7f7f; text-decoration-color: #7f7f7f\"> \"Call Me\"                      </span>│<span style=\"color: #7f7f7f; text-decoration-color: #7f7f7f\"> Blondie                            </span>│<span style=\"color: #7f7f7f; text-decoration-color: #7f7f7f\"> The song \"Call Me\" by Blondie is about a  </span>│\n",
       "│<span style=\"color: #7f7f7f; text-decoration-color: #7f7f7f\">                                </span>│<span style=\"color: #7f7f7f; text-decoration-color: #7f7f7f\">                                    </span>│<span style=\"color: #7f7f7f; text-decoration-color: #7f7f7f\"> person expressing their desire for a      </span>│\n",
       "│<span style=\"color: #7f7f7f; text-decoration-color: #7f7f7f\">                                </span>│<span style=\"color: #7f7f7f; text-decoration-color: #7f7f7f\">                                    </span>│<span style=\"color: #7f7f7f; text-decoration-color: #7f7f7f\"> romantic connection and availability to a </span>│\n",
       "│<span style=\"color: #7f7f7f; text-decoration-color: #7f7f7f\">                                </span>│<span style=\"color: #7f7f7f; text-decoration-color: #7f7f7f\">                                    </span>│<span style=\"color: #7f7f7f; text-decoration-color: #7f7f7f\"> potential lover. The lyrics convey a      </span>│\n",
       "│<span style=\"color: #7f7f7f; text-decoration-color: #7f7f7f\">                                </span>│<span style=\"color: #7f7f7f; text-decoration-color: #7f7f7f\">                                    </span>│<span style=\"color: #7f7f7f; text-decoration-color: #7f7f7f\"> sense of urgency and excitement, inviting </span>│\n",
       "│<span style=\"color: #7f7f7f; text-decoration-color: #7f7f7f\">                                </span>│<span style=\"color: #7f7f7f; text-decoration-color: #7f7f7f\">                                    </span>│<span style=\"color: #7f7f7f; text-decoration-color: #7f7f7f\"> the other person to reach out and make    </span>│\n",
       "│<span style=\"color: #7f7f7f; text-decoration-color: #7f7f7f\">                                </span>│<span style=\"color: #7f7f7f; text-decoration-color: #7f7f7f\">                                    </span>│<span style=\"color: #7f7f7f; text-decoration-color: #7f7f7f\"> contact at any time. The song captures    </span>│\n",
       "│<span style=\"color: #7f7f7f; text-decoration-color: #7f7f7f\">                                </span>│<span style=\"color: #7f7f7f; text-decoration-color: #7f7f7f\">                                    </span>│<span style=\"color: #7f7f7f; text-decoration-color: #7f7f7f\"> the thrill and anticipation of new love,  </span>│\n",
       "│<span style=\"color: #7f7f7f; text-decoration-color: #7f7f7f\">                                </span>│<span style=\"color: #7f7f7f; text-decoration-color: #7f7f7f\">                                    </span>│<span style=\"color: #7f7f7f; text-decoration-color: #7f7f7f\"> emphasizing themes of passion and         </span>│\n",
       "│<span style=\"color: #7f7f7f; text-decoration-color: #7f7f7f\">                                </span>│<span style=\"color: #7f7f7f; text-decoration-color: #7f7f7f\">                                    </span>│<span style=\"color: #7f7f7f; text-decoration-color: #7f7f7f\"> longing.                                  </span>│\n",
       "├────────────────────────────────┼────────────────────────────────────┼───────────────────────────────────────────┤\n",
       "│<span style=\"color: #7f7f7f; text-decoration-color: #7f7f7f\"> \"Centerfold\"                   </span>│<span style=\"color: #7f7f7f; text-decoration-color: #7f7f7f\"> The J. Geils Band                  </span>│<span style=\"color: #7f7f7f; text-decoration-color: #7f7f7f\"> The song \"Centerfold\" by The J. Geils     </span>│\n",
       "│<span style=\"color: #7f7f7f; text-decoration-color: #7f7f7f\">                                </span>│<span style=\"color: #7f7f7f; text-decoration-color: #7f7f7f\">                                    </span>│<span style=\"color: #7f7f7f; text-decoration-color: #7f7f7f\"> Band is about a man who discovers that a  </span>│\n",
       "│<span style=\"color: #7f7f7f; text-decoration-color: #7f7f7f\">                                </span>│<span style=\"color: #7f7f7f; text-decoration-color: #7f7f7f\">                                    </span>│<span style=\"color: #7f7f7f; text-decoration-color: #7f7f7f\"> former crush from his school days has     </span>│\n",
       "│<span style=\"color: #7f7f7f; text-decoration-color: #7f7f7f\">                                </span>│<span style=\"color: #7f7f7f; text-decoration-color: #7f7f7f\">                                    </span>│<span style=\"color: #7f7f7f; text-decoration-color: #7f7f7f\"> become a model featured in a men's        </span>│\n",
       "│<span style=\"color: #7f7f7f; text-decoration-color: #7f7f7f\">                                </span>│<span style=\"color: #7f7f7f; text-decoration-color: #7f7f7f\">                                    </span>│<span style=\"color: #7f7f7f; text-decoration-color: #7f7f7f\"> magazine. The lyrics express his surprise </span>│\n",
       "│<span style=\"color: #7f7f7f; text-decoration-color: #7f7f7f\">                                </span>│<span style=\"color: #7f7f7f; text-decoration-color: #7f7f7f\">                                    </span>│<span style=\"color: #7f7f7f; text-decoration-color: #7f7f7f\"> and mixed emotions as he grapples with    </span>│\n",
       "│<span style=\"color: #7f7f7f; text-decoration-color: #7f7f7f\">                                </span>│<span style=\"color: #7f7f7f; text-decoration-color: #7f7f7f\">                                    </span>│<span style=\"color: #7f7f7f; text-decoration-color: #7f7f7f\"> the contrast between his innocent         </span>│\n",
       "│<span style=\"color: #7f7f7f; text-decoration-color: #7f7f7f\">                                </span>│<span style=\"color: #7f7f7f; text-decoration-color: #7f7f7f\">                                    </span>│<span style=\"color: #7f7f7f; text-decoration-color: #7f7f7f\"> memories of her and her new, more         </span>│\n",
       "│<span style=\"color: #7f7f7f; text-decoration-color: #7f7f7f\">                                </span>│<span style=\"color: #7f7f7f; text-decoration-color: #7f7f7f\">                                    </span>│<span style=\"color: #7f7f7f; text-decoration-color: #7f7f7f\"> provocative public image.                 </span>│\n",
       "├────────────────────────────────┼────────────────────────────────────┼───────────────────────────────────────────┤\n",
       "│<span style=\"color: #7f7f7f; text-decoration-color: #7f7f7f\"> \"Ebony and Ivory\"              </span>│<span style=\"color: #7f7f7f; text-decoration-color: #7f7f7f\"> Paul McCartney and Stevie Wonder   </span>│<span style=\"color: #7f7f7f; text-decoration-color: #7f7f7f\"> The song \"Ebony and Ivory\" by Paul        </span>│\n",
       "│<span style=\"color: #7f7f7f; text-decoration-color: #7f7f7f\">                                </span>│<span style=\"color: #7f7f7f; text-decoration-color: #7f7f7f\">                                    </span>│<span style=\"color: #7f7f7f; text-decoration-color: #7f7f7f\"> McCartney and Stevie Wonder addresses     </span>│\n",
       "│<span style=\"color: #7f7f7f; text-decoration-color: #7f7f7f\">                                </span>│<span style=\"color: #7f7f7f; text-decoration-color: #7f7f7f\">                                    </span>│<span style=\"color: #7f7f7f; text-decoration-color: #7f7f7f\"> themes of racial harmony and unity. It    </span>│\n",
       "│<span style=\"color: #7f7f7f; text-decoration-color: #7f7f7f\">                                </span>│<span style=\"color: #7f7f7f; text-decoration-color: #7f7f7f\">                                    </span>│<span style=\"color: #7f7f7f; text-decoration-color: #7f7f7f\"> uses the metaphor of piano keys—ebony     </span>│\n",
       "│<span style=\"color: #7f7f7f; text-decoration-color: #7f7f7f\">                                </span>│<span style=\"color: #7f7f7f; text-decoration-color: #7f7f7f\">                                    </span>│<span style=\"color: #7f7f7f; text-decoration-color: #7f7f7f\"> (black) and ivory (white)—to symbolize    </span>│\n",
       "│<span style=\"color: #7f7f7f; text-decoration-color: #7f7f7f\">                                </span>│<span style=\"color: #7f7f7f; text-decoration-color: #7f7f7f\">                                    </span>│<span style=\"color: #7f7f7f; text-decoration-color: #7f7f7f\"> how different races can coexist           </span>│\n",
       "│<span style=\"color: #7f7f7f; text-decoration-color: #7f7f7f\">                                </span>│<span style=\"color: #7f7f7f; text-decoration-color: #7f7f7f\">                                    </span>│<span style=\"color: #7f7f7f; text-decoration-color: #7f7f7f\"> peacefully and complement each other,     </span>│\n",
       "│<span style=\"color: #7f7f7f; text-decoration-color: #7f7f7f\">                                </span>│<span style=\"color: #7f7f7f; text-decoration-color: #7f7f7f\">                                    </span>│<span style=\"color: #7f7f7f; text-decoration-color: #7f7f7f\"> just as the keys work together to create  </span>│\n",
       "│<span style=\"color: #7f7f7f; text-decoration-color: #7f7f7f\">                                </span>│<span style=\"color: #7f7f7f; text-decoration-color: #7f7f7f\">                                    </span>│<span style=\"color: #7f7f7f; text-decoration-color: #7f7f7f\"> beautiful music.                          </span>│\n",
       "├────────────────────────────────┼────────────────────────────────────┼───────────────────────────────────────────┤\n",
       "│<span style=\"color: #7f7f7f; text-decoration-color: #7f7f7f\"> \"Endless Love\"                 </span>│<span style=\"color: #7f7f7f; text-decoration-color: #7f7f7f\"> Diana Ross and Lionel Richie       </span>│<span style=\"color: #7f7f7f; text-decoration-color: #7f7f7f\"> The song \"Endless Love\" by Diana Ross and </span>│\n",
       "│<span style=\"color: #7f7f7f; text-decoration-color: #7f7f7f\">                                </span>│<span style=\"color: #7f7f7f; text-decoration-color: #7f7f7f\">                                    </span>│<span style=\"color: #7f7f7f; text-decoration-color: #7f7f7f\"> Lionel Richie is about a deep, romantic   </span>│\n",
       "│<span style=\"color: #7f7f7f; text-decoration-color: #7f7f7f\">                                </span>│<span style=\"color: #7f7f7f; text-decoration-color: #7f7f7f\">                                    </span>│<span style=\"color: #7f7f7f; text-decoration-color: #7f7f7f\"> love between two people. The lyrics       </span>│\n",
       "│<span style=\"color: #7f7f7f; text-decoration-color: #7f7f7f\">                                </span>│<span style=\"color: #7f7f7f; text-decoration-color: #7f7f7f\">                                    </span>│<span style=\"color: #7f7f7f; text-decoration-color: #7f7f7f\"> express a commitment to loving each other </span>│\n",
       "│<span style=\"color: #7f7f7f; text-decoration-color: #7f7f7f\">                                </span>│<span style=\"color: #7f7f7f; text-decoration-color: #7f7f7f\">                                    </span>│<span style=\"color: #7f7f7f; text-decoration-color: #7f7f7f\"> endlessly and highlight the emotional     </span>│\n",
       "│<span style=\"color: #7f7f7f; text-decoration-color: #7f7f7f\">                                </span>│<span style=\"color: #7f7f7f; text-decoration-color: #7f7f7f\">                                    </span>│<span style=\"color: #7f7f7f; text-decoration-color: #7f7f7f\"> connection and devotion they share. It's  </span>│\n",
       "│<span style=\"color: #7f7f7f; text-decoration-color: #7f7f7f\">                                </span>│<span style=\"color: #7f7f7f; text-decoration-color: #7f7f7f\">                                    </span>│<span style=\"color: #7f7f7f; text-decoration-color: #7f7f7f\"> often considered a classic love song and  </span>│\n",
       "│<span style=\"color: #7f7f7f; text-decoration-color: #7f7f7f\">                                </span>│<span style=\"color: #7f7f7f; text-decoration-color: #7f7f7f\">                                    </span>│<span style=\"color: #7f7f7f; text-decoration-color: #7f7f7f\"> is frequently played at weddings and      </span>│\n",
       "│<span style=\"color: #7f7f7f; text-decoration-color: #7f7f7f\">                                </span>│<span style=\"color: #7f7f7f; text-decoration-color: #7f7f7f\">                                    </span>│<span style=\"color: #7f7f7f; text-decoration-color: #7f7f7f\"> romantic occasions.                       </span>│\n",
       "├────────────────────────────────┼────────────────────────────────────┼───────────────────────────────────────────┤\n",
       "│<span style=\"color: #7f7f7f; text-decoration-color: #7f7f7f\"> \"Every Breath You Take\"        </span>│<span style=\"color: #7f7f7f; text-decoration-color: #7f7f7f\"> The Police                         </span>│<span style=\"color: #7f7f7f; text-decoration-color: #7f7f7f\"> The song \"Every Breath You Take\" by The   </span>│\n",
       "│<span style=\"color: #7f7f7f; text-decoration-color: #7f7f7f\">                                </span>│<span style=\"color: #7f7f7f; text-decoration-color: #7f7f7f\">                                    </span>│<span style=\"color: #7f7f7f; text-decoration-color: #7f7f7f\"> Police is often interpreted as being      </span>│\n",
       "│<span style=\"color: #7f7f7f; text-decoration-color: #7f7f7f\">                                </span>│<span style=\"color: #7f7f7f; text-decoration-color: #7f7f7f\">                                    </span>│<span style=\"color: #7f7f7f; text-decoration-color: #7f7f7f\"> about obsession and surveillance. While   </span>│\n",
       "│<span style=\"color: #7f7f7f; text-decoration-color: #7f7f7f\">                                </span>│<span style=\"color: #7f7f7f; text-decoration-color: #7f7f7f\">                                    </span>│<span style=\"color: #7f7f7f; text-decoration-color: #7f7f7f\"> it is frequently perceived as a romantic  </span>│\n",
       "│<span style=\"color: #7f7f7f; text-decoration-color: #7f7f7f\">                                </span>│<span style=\"color: #7f7f7f; text-decoration-color: #7f7f7f\">                                    </span>│<span style=\"color: #7f7f7f; text-decoration-color: #7f7f7f\"> song, the lyrics actually convey a sense  </span>│\n",
       "│<span style=\"color: #7f7f7f; text-decoration-color: #7f7f7f\">                                </span>│<span style=\"color: #7f7f7f; text-decoration-color: #7f7f7f\">                                    </span>│<span style=\"color: #7f7f7f; text-decoration-color: #7f7f7f\"> of possessiveness and control, with the   </span>│\n",
       "│<span style=\"color: #7f7f7f; text-decoration-color: #7f7f7f\">                                </span>│<span style=\"color: #7f7f7f; text-decoration-color: #7f7f7f\">                                    </span>│<span style=\"color: #7f7f7f; text-decoration-color: #7f7f7f\"> narrator closely watching and monitoring  </span>│\n",
       "│<span style=\"color: #7f7f7f; text-decoration-color: #7f7f7f\">                                </span>│<span style=\"color: #7f7f7f; text-decoration-color: #7f7f7f\">                                    </span>│<span style=\"color: #7f7f7f; text-decoration-color: #7f7f7f\"> every move of the person they are         </span>│\n",
       "│<span style=\"color: #7f7f7f; text-decoration-color: #7f7f7f\">                                </span>│<span style=\"color: #7f7f7f; text-decoration-color: #7f7f7f\">                                    </span>│<span style=\"color: #7f7f7f; text-decoration-color: #7f7f7f\"> addressing. This underlying theme of      </span>│\n",
       "│<span style=\"color: #7f7f7f; text-decoration-color: #7f7f7f\">                                </span>│<span style=\"color: #7f7f7f; text-decoration-color: #7f7f7f\">                                    </span>│<span style=\"color: #7f7f7f; text-decoration-color: #7f7f7f\"> obsession contrasts with the song's       </span>│\n",
       "│<span style=\"color: #7f7f7f; text-decoration-color: #7f7f7f\">                                </span>│<span style=\"color: #7f7f7f; text-decoration-color: #7f7f7f\">                                    </span>│<span style=\"color: #7f7f7f; text-decoration-color: #7f7f7f\"> soothing melody, creating an intriguing   </span>│\n",
       "│<span style=\"color: #7f7f7f; text-decoration-color: #7f7f7f\">                                </span>│<span style=\"color: #7f7f7f; text-decoration-color: #7f7f7f\">                                    </span>│<span style=\"color: #7f7f7f; text-decoration-color: #7f7f7f\"> dynamic.                                  </span>│\n",
       "├────────────────────────────────┼────────────────────────────────────┼───────────────────────────────────────────┤\n",
       "│<span style=\"color: #7f7f7f; text-decoration-color: #7f7f7f\"> \"Eye of the Tiger\"             </span>│<span style=\"color: #7f7f7f; text-decoration-color: #7f7f7f\"> Survivor                           </span>│<span style=\"color: #7f7f7f; text-decoration-color: #7f7f7f\"> The song \"Eye of the Tiger\" by Survivor   </span>│\n",
       "│<span style=\"color: #7f7f7f; text-decoration-color: #7f7f7f\">                                </span>│<span style=\"color: #7f7f7f; text-decoration-color: #7f7f7f\">                                    </span>│<span style=\"color: #7f7f7f; text-decoration-color: #7f7f7f\"> is about perseverance, determination, and </span>│\n",
       "│<span style=\"color: #7f7f7f; text-decoration-color: #7f7f7f\">                                </span>│<span style=\"color: #7f7f7f; text-decoration-color: #7f7f7f\">                                    </span>│<span style=\"color: #7f7f7f; text-decoration-color: #7f7f7f\"> fighting spirit. It was famously used as  </span>│\n",
       "│<span style=\"color: #7f7f7f; text-decoration-color: #7f7f7f\">                                </span>│<span style=\"color: #7f7f7f; text-decoration-color: #7f7f7f\">                                    </span>│<span style=\"color: #7f7f7f; text-decoration-color: #7f7f7f\"> the theme song for the movie \"Rocky III.\" </span>│\n",
       "│<span style=\"color: #7f7f7f; text-decoration-color: #7f7f7f\">                                </span>│<span style=\"color: #7f7f7f; text-decoration-color: #7f7f7f\">                                    </span>│<span style=\"color: #7f7f7f; text-decoration-color: #7f7f7f\"> The lyrics emphasize staying focused,     </span>│\n",
       "│<span style=\"color: #7f7f7f; text-decoration-color: #7f7f7f\">                                </span>│<span style=\"color: #7f7f7f; text-decoration-color: #7f7f7f\">                                    </span>│<span style=\"color: #7f7f7f; text-decoration-color: #7f7f7f\"> facing challenges head-on, and having the </span>│\n",
       "│<span style=\"color: #7f7f7f; text-decoration-color: #7f7f7f\">                                </span>│<span style=\"color: #7f7f7f; text-decoration-color: #7f7f7f\">                                    </span>│<span style=\"color: #7f7f7f; text-decoration-color: #7f7f7f\"> willpower to overcome obstacles,          </span>│\n",
       "│<span style=\"color: #7f7f7f; text-decoration-color: #7f7f7f\">                                </span>│<span style=\"color: #7f7f7f; text-decoration-color: #7f7f7f\">                                    </span>│<span style=\"color: #7f7f7f; text-decoration-color: #7f7f7f\"> embodying the mindset of a fighter who is </span>│\n",
       "│<span style=\"color: #7f7f7f; text-decoration-color: #7f7f7f\">                                </span>│<span style=\"color: #7f7f7f; text-decoration-color: #7f7f7f\">                                    </span>│<span style=\"color: #7f7f7f; text-decoration-color: #7f7f7f\"> ready to face any opponent.               </span>│\n",
       "├────────────────────────────────┼────────────────────────────────────┼───────────────────────────────────────────┤\n",
       "│<span style=\"color: #7f7f7f; text-decoration-color: #7f7f7f\"> \"Flashdance... What a Feeling\" </span>│<span style=\"color: #7f7f7f; text-decoration-color: #7f7f7f\"> Irene Cara                         </span>│<span style=\"color: #7f7f7f; text-decoration-color: #7f7f7f\"> The song \"Flashdance... What a Feeling\"   </span>│\n",
       "│<span style=\"color: #7f7f7f; text-decoration-color: #7f7f7f\">                                </span>│<span style=\"color: #7f7f7f; text-decoration-color: #7f7f7f\">                                    </span>│<span style=\"color: #7f7f7f; text-decoration-color: #7f7f7f\"> by Irene Cara is primarily about          </span>│\n",
       "│<span style=\"color: #7f7f7f; text-decoration-color: #7f7f7f\">                                </span>│<span style=\"color: #7f7f7f; text-decoration-color: #7f7f7f\">                                    </span>│<span style=\"color: #7f7f7f; text-decoration-color: #7f7f7f\"> empowerment, self-expression, and the joy </span>│\n",
       "│<span style=\"color: #7f7f7f; text-decoration-color: #7f7f7f\">                                </span>│<span style=\"color: #7f7f7f; text-decoration-color: #7f7f7f\">                                    </span>│<span style=\"color: #7f7f7f; text-decoration-color: #7f7f7f\"> of pursuing one's dreams. It captures the </span>│\n",
       "│<span style=\"color: #7f7f7f; text-decoration-color: #7f7f7f\">                                </span>│<span style=\"color: #7f7f7f; text-decoration-color: #7f7f7f\">                                    </span>│<span style=\"color: #7f7f7f; text-decoration-color: #7f7f7f\"> emotions of determination and             </span>│\n",
       "│<span style=\"color: #7f7f7f; text-decoration-color: #7f7f7f\">                                </span>│<span style=\"color: #7f7f7f; text-decoration-color: #7f7f7f\">                                    </span>│<span style=\"color: #7f7f7f; text-decoration-color: #7f7f7f\"> exhilaration that come with following     </span>│\n",
       "│<span style=\"color: #7f7f7f; text-decoration-color: #7f7f7f\">                                </span>│<span style=\"color: #7f7f7f; text-decoration-color: #7f7f7f\">                                    </span>│<span style=\"color: #7f7f7f; text-decoration-color: #7f7f7f\"> one's passion and overcoming obstacles.   </span>│\n",
       "│<span style=\"color: #7f7f7f; text-decoration-color: #7f7f7f\">                                </span>│<span style=\"color: #7f7f7f; text-decoration-color: #7f7f7f\">                                    </span>│<span style=\"color: #7f7f7f; text-decoration-color: #7f7f7f\"> The song was famously featured in the     </span>│\n",
       "│<span style=\"color: #7f7f7f; text-decoration-color: #7f7f7f\">                                </span>│<span style=\"color: #7f7f7f; text-decoration-color: #7f7f7f\">                                    </span>│<span style=\"color: #7f7f7f; text-decoration-color: #7f7f7f\"> 1983 film \"Flashdance,\" where it          </span>│\n",
       "│<span style=\"color: #7f7f7f; text-decoration-color: #7f7f7f\">                                </span>│<span style=\"color: #7f7f7f; text-decoration-color: #7f7f7f\">                                    </span>│<span style=\"color: #7f7f7f; text-decoration-color: #7f7f7f\"> underscored themes of ambition and the    </span>│\n",
       "│<span style=\"color: #7f7f7f; text-decoration-color: #7f7f7f\">                                </span>│<span style=\"color: #7f7f7f; text-decoration-color: #7f7f7f\">                                    </span>│<span style=\"color: #7f7f7f; text-decoration-color: #7f7f7f\"> pursuit of artistic fulfillment.          </span>│\n",
       "├────────────────────────────────┼────────────────────────────────────┼───────────────────────────────────────────┤\n",
       "│<span style=\"color: #7f7f7f; text-decoration-color: #7f7f7f\"> \"I Love Rock 'n' Roll\"         </span>│<span style=\"color: #7f7f7f; text-decoration-color: #7f7f7f\"> Joan Jett and the Blackhearts      </span>│<span style=\"color: #7f7f7f; text-decoration-color: #7f7f7f\"> The song \"I Love Rock 'n' Roll\" by Joan   </span>│\n",
       "│<span style=\"color: #7f7f7f; text-decoration-color: #7f7f7f\">                                </span>│<span style=\"color: #7f7f7f; text-decoration-color: #7f7f7f\">                                    </span>│<span style=\"color: #7f7f7f; text-decoration-color: #7f7f7f\"> Jett and the Blackhearts is about the     </span>│\n",
       "│<span style=\"color: #7f7f7f; text-decoration-color: #7f7f7f\">                                </span>│<span style=\"color: #7f7f7f; text-decoration-color: #7f7f7f\">                                    </span>│<span style=\"color: #7f7f7f; text-decoration-color: #7f7f7f\"> excitement and passion for rock and roll  </span>│\n",
       "│<span style=\"color: #7f7f7f; text-decoration-color: #7f7f7f\">                                </span>│<span style=\"color: #7f7f7f; text-decoration-color: #7f7f7f\">                                    </span>│<span style=\"color: #7f7f7f; text-decoration-color: #7f7f7f\"> music. The lyrics describe a person       </span>│\n",
       "│<span style=\"color: #7f7f7f; text-decoration-color: #7f7f7f\">                                </span>│<span style=\"color: #7f7f7f; text-decoration-color: #7f7f7f\">                                    </span>│<span style=\"color: #7f7f7f; text-decoration-color: #7f7f7f\"> encountering someone attractive at a      </span>│\n",
       "│<span style=\"color: #7f7f7f; text-decoration-color: #7f7f7f\">                                </span>│<span style=\"color: #7f7f7f; text-decoration-color: #7f7f7f\">                                    </span>│<span style=\"color: #7f7f7f; text-decoration-color: #7f7f7f\"> jukebox, bonding over their shared love   </span>│\n",
       "│<span style=\"color: #7f7f7f; text-decoration-color: #7f7f7f\">                                </span>│<span style=\"color: #7f7f7f; text-decoration-color: #7f7f7f\">                                    </span>│<span style=\"color: #7f7f7f; text-decoration-color: #7f7f7f\"> for rock music, and suggesting they spend </span>│\n",
       "│<span style=\"color: #7f7f7f; text-decoration-color: #7f7f7f\">                                </span>│<span style=\"color: #7f7f7f; text-decoration-color: #7f7f7f\">                                    </span>│<span style=\"color: #7f7f7f; text-decoration-color: #7f7f7f\"> more time together listening to it. The   </span>│\n",
       "│<span style=\"color: #7f7f7f; text-decoration-color: #7f7f7f\">                                </span>│<span style=\"color: #7f7f7f; text-decoration-color: #7f7f7f\">                                    </span>│<span style=\"color: #7f7f7f; text-decoration-color: #7f7f7f\"> song captures the rebellious and          </span>│\n",
       "│<span style=\"color: #7f7f7f; text-decoration-color: #7f7f7f\">                                </span>│<span style=\"color: #7f7f7f; text-decoration-color: #7f7f7f\">                                    </span>│<span style=\"color: #7f7f7f; text-decoration-color: #7f7f7f\"> energetic spirit of rock and roll.        </span>│\n",
       "├────────────────────────────────┼────────────────────────────────────┼───────────────────────────────────────────┤\n",
       "│<span style=\"color: #7f7f7f; text-decoration-color: #7f7f7f\"> \"Lady\"                         </span>│<span style=\"color: #7f7f7f; text-decoration-color: #7f7f7f\"> Kenny Rogers                       </span>│<span style=\"color: #7f7f7f; text-decoration-color: #7f7f7f\"> The song \"Lady\" by Kenny Rogers is a      </span>│\n",
       "│<span style=\"color: #7f7f7f; text-decoration-color: #7f7f7f\">                                </span>│<span style=\"color: #7f7f7f; text-decoration-color: #7f7f7f\">                                    </span>│<span style=\"color: #7f7f7f; text-decoration-color: #7f7f7f\"> romantic ballad that expresses deep love  </span>│\n",
       "│<span style=\"color: #7f7f7f; text-decoration-color: #7f7f7f\">                                </span>│<span style=\"color: #7f7f7f; text-decoration-color: #7f7f7f\">                                    </span>│<span style=\"color: #7f7f7f; text-decoration-color: #7f7f7f\"> and admiration. The lyrics convey a       </span>│\n",
       "│<span style=\"color: #7f7f7f; text-decoration-color: #7f7f7f\">                                </span>│<span style=\"color: #7f7f7f; text-decoration-color: #7f7f7f\">                                    </span>│<span style=\"color: #7f7f7f; text-decoration-color: #7f7f7f\"> heartfelt message from a man to the woman </span>│\n",
       "│<span style=\"color: #7f7f7f; text-decoration-color: #7f7f7f\">                                </span>│<span style=\"color: #7f7f7f; text-decoration-color: #7f7f7f\">                                    </span>│<span style=\"color: #7f7f7f; text-decoration-color: #7f7f7f\"> he loves, emphasizing her importance in   </span>│\n",
       "│<span style=\"color: #7f7f7f; text-decoration-color: #7f7f7f\">                                </span>│<span style=\"color: #7f7f7f; text-decoration-color: #7f7f7f\">                                    </span>│<span style=\"color: #7f7f7f; text-decoration-color: #7f7f7f\"> his life and his devotion to her. The     </span>│\n",
       "│<span style=\"color: #7f7f7f; text-decoration-color: #7f7f7f\">                                </span>│<span style=\"color: #7f7f7f; text-decoration-color: #7f7f7f\">                                    </span>│<span style=\"color: #7f7f7f; text-decoration-color: #7f7f7f\"> song highlights themes of love,           </span>│\n",
       "│<span style=\"color: #7f7f7f; text-decoration-color: #7f7f7f\">                                </span>│<span style=\"color: #7f7f7f; text-decoration-color: #7f7f7f\">                                    </span>│<span style=\"color: #7f7f7f; text-decoration-color: #7f7f7f\"> appreciation, and emotional connection.   </span>│\n",
       "├────────────────────────────────┼────────────────────────────────────┼───────────────────────────────────────────┤\n",
       "│<span style=\"color: #7f7f7f; text-decoration-color: #7f7f7f\"> \"Like a Virgin\"                </span>│<span style=\"color: #7f7f7f; text-decoration-color: #7f7f7f\"> Madonna                            </span>│<span style=\"color: #7f7f7f; text-decoration-color: #7f7f7f\"> The song \"Like a Virgin\" by Madonna is    </span>│\n",
       "│<span style=\"color: #7f7f7f; text-decoration-color: #7f7f7f\">                                </span>│<span style=\"color: #7f7f7f; text-decoration-color: #7f7f7f\">                                    </span>│<span style=\"color: #7f7f7f; text-decoration-color: #7f7f7f\"> primarily about the feeling of renewal    </span>│\n",
       "│<span style=\"color: #7f7f7f; text-decoration-color: #7f7f7f\">                                </span>│<span style=\"color: #7f7f7f; text-decoration-color: #7f7f7f\">                                    </span>│<span style=\"color: #7f7f7f; text-decoration-color: #7f7f7f\"> and experiencing something as if it were  </span>│\n",
       "│<span style=\"color: #7f7f7f; text-decoration-color: #7f7f7f\">                                </span>│<span style=\"color: #7f7f7f; text-decoration-color: #7f7f7f\">                                    </span>│<span style=\"color: #7f7f7f; text-decoration-color: #7f7f7f\"> for the first time. It conveys themes of  </span>│\n",
       "│<span style=\"color: #7f7f7f; text-decoration-color: #7f7f7f\">                                </span>│<span style=\"color: #7f7f7f; text-decoration-color: #7f7f7f\">                                    </span>│<span style=\"color: #7f7f7f; text-decoration-color: #7f7f7f\"> love and emotional rebirth, using the     </span>│\n",
       "│<span style=\"color: #7f7f7f; text-decoration-color: #7f7f7f\">                                </span>│<span style=\"color: #7f7f7f; text-decoration-color: #7f7f7f\">                                    </span>│<span style=\"color: #7f7f7f; text-decoration-color: #7f7f7f\"> metaphor of virginity to describe the     </span>│\n",
       "│<span style=\"color: #7f7f7f; text-decoration-color: #7f7f7f\">                                </span>│<span style=\"color: #7f7f7f; text-decoration-color: #7f7f7f\">                                    </span>│<span style=\"color: #7f7f7f; text-decoration-color: #7f7f7f\"> fresh and transformative nature of a new  </span>│\n",
       "│<span style=\"color: #7f7f7f; text-decoration-color: #7f7f7f\">                                </span>│<span style=\"color: #7f7f7f; text-decoration-color: #7f7f7f\">                                    </span>│<span style=\"color: #7f7f7f; text-decoration-color: #7f7f7f\"> romantic relationship. The song captures  </span>│\n",
       "│<span style=\"color: #7f7f7f; text-decoration-color: #7f7f7f\">                                </span>│<span style=\"color: #7f7f7f; text-decoration-color: #7f7f7f\">                                    </span>│<span style=\"color: #7f7f7f; text-decoration-color: #7f7f7f\"> the excitement and vulnerability that can </span>│\n",
       "│<span style=\"color: #7f7f7f; text-decoration-color: #7f7f7f\">                                </span>│<span style=\"color: #7f7f7f; text-decoration-color: #7f7f7f\">                                    </span>│<span style=\"color: #7f7f7f; text-decoration-color: #7f7f7f\"> come with falling in love again after     </span>│\n",
       "│<span style=\"color: #7f7f7f; text-decoration-color: #7f7f7f\">                                </span>│<span style=\"color: #7f7f7f; text-decoration-color: #7f7f7f\">                                    </span>│<span style=\"color: #7f7f7f; text-decoration-color: #7f7f7f\"> past experiences.                         </span>│\n",
       "├────────────────────────────────┼────────────────────────────────────┼───────────────────────────────────────────┤\n",
       "│<span style=\"color: #7f7f7f; text-decoration-color: #7f7f7f\"> \"Physical\"                     </span>│<span style=\"color: #7f7f7f; text-decoration-color: #7f7f7f\"> Olivia Newton-John                 </span>│<span style=\"color: #7f7f7f; text-decoration-color: #7f7f7f\"> The song \"Physical\" by Olivia             </span>│\n",
       "│<span style=\"color: #7f7f7f; text-decoration-color: #7f7f7f\">                                </span>│<span style=\"color: #7f7f7f; text-decoration-color: #7f7f7f\">                                    </span>│<span style=\"color: #7f7f7f; text-decoration-color: #7f7f7f\"> Newton-John, released in 1981, is         </span>│\n",
       "│<span style=\"color: #7f7f7f; text-decoration-color: #7f7f7f\">                                </span>│<span style=\"color: #7f7f7f; text-decoration-color: #7f7f7f\">                                    </span>│<span style=\"color: #7f7f7f; text-decoration-color: #7f7f7f\"> primarily about physical attraction and   </span>│\n",
       "│<span style=\"color: #7f7f7f; text-decoration-color: #7f7f7f\">                                </span>│<span style=\"color: #7f7f7f; text-decoration-color: #7f7f7f\">                                    </span>│<span style=\"color: #7f7f7f; text-decoration-color: #7f7f7f\"> desire. The lyrics suggest a playful and  </span>│\n",
       "│<span style=\"color: #7f7f7f; text-decoration-color: #7f7f7f\">                                </span>│<span style=\"color: #7f7f7f; text-decoration-color: #7f7f7f\">                                    </span>│<span style=\"color: #7f7f7f; text-decoration-color: #7f7f7f\"> flirtatious approach to romance,          </span>│\n",
       "│<span style=\"color: #7f7f7f; text-decoration-color: #7f7f7f\">                                </span>│<span style=\"color: #7f7f7f; text-decoration-color: #7f7f7f\">                                    </span>│<span style=\"color: #7f7f7f; text-decoration-color: #7f7f7f\"> emphasizing the singer's interest in      </span>│\n",
       "│<span style=\"color: #7f7f7f; text-decoration-color: #7f7f7f\">                                </span>│<span style=\"color: #7f7f7f; text-decoration-color: #7f7f7f\">                                    </span>│<span style=\"color: #7f7f7f; text-decoration-color: #7f7f7f\"> taking a relationship to a more intimate, </span>│\n",
       "│<span style=\"color: #7f7f7f; text-decoration-color: #7f7f7f\">                                </span>│<span style=\"color: #7f7f7f; text-decoration-color: #7f7f7f\">                                    </span>│<span style=\"color: #7f7f7f; text-decoration-color: #7f7f7f\"> physical level. The song's upbeat tempo   </span>│\n",
       "│<span style=\"color: #7f7f7f; text-decoration-color: #7f7f7f\">                                </span>│<span style=\"color: #7f7f7f; text-decoration-color: #7f7f7f\">                                    </span>│<span style=\"color: #7f7f7f; text-decoration-color: #7f7f7f\"> and catchy melody, along with its         </span>│\n",
       "│<span style=\"color: #7f7f7f; text-decoration-color: #7f7f7f\">                                </span>│<span style=\"color: #7f7f7f; text-decoration-color: #7f7f7f\">                                    </span>│<span style=\"color: #7f7f7f; text-decoration-color: #7f7f7f\"> suggestive lyrics, contributed to its     </span>│\n",
       "│<span style=\"color: #7f7f7f; text-decoration-color: #7f7f7f\">                                </span>│<span style=\"color: #7f7f7f; text-decoration-color: #7f7f7f\">                                    </span>│<span style=\"color: #7f7f7f; text-decoration-color: #7f7f7f\"> popularity and the somewhat controversial </span>│\n",
       "│<span style=\"color: #7f7f7f; text-decoration-color: #7f7f7f\">                                </span>│<span style=\"color: #7f7f7f; text-decoration-color: #7f7f7f\">                                    </span>│<span style=\"color: #7f7f7f; text-decoration-color: #7f7f7f\"> reception it received at the time of its  </span>│\n",
       "│<span style=\"color: #7f7f7f; text-decoration-color: #7f7f7f\">                                </span>│<span style=\"color: #7f7f7f; text-decoration-color: #7f7f7f\">                                    </span>│<span style=\"color: #7f7f7f; text-decoration-color: #7f7f7f\"> release.                                  </span>│\n",
       "├────────────────────────────────┼────────────────────────────────────┼───────────────────────────────────────────┤\n",
       "│<span style=\"color: #7f7f7f; text-decoration-color: #7f7f7f\"> \"Say, Say, Say\"                </span>│<span style=\"color: #7f7f7f; text-decoration-color: #7f7f7f\"> Paul McCartney and Michael Jackson </span>│<span style=\"color: #7f7f7f; text-decoration-color: #7f7f7f\"> The song \"Say, Say, Say\" by Paul          </span>│\n",
       "│<span style=\"color: #7f7f7f; text-decoration-color: #7f7f7f\">                                </span>│<span style=\"color: #7f7f7f; text-decoration-color: #7f7f7f\">                                    </span>│<span style=\"color: #7f7f7f; text-decoration-color: #7f7f7f\"> McCartney and Michael Jackson is about a  </span>│\n",
       "│<span style=\"color: #7f7f7f; text-decoration-color: #7f7f7f\">                                </span>│<span style=\"color: #7f7f7f; text-decoration-color: #7f7f7f\">                                    </span>│<span style=\"color: #7f7f7f; text-decoration-color: #7f7f7f\"> person pleading with their lover to       </span>│\n",
       "│<span style=\"color: #7f7f7f; text-decoration-color: #7f7f7f\">                                </span>│<span style=\"color: #7f7f7f; text-decoration-color: #7f7f7f\">                                    </span>│<span style=\"color: #7f7f7f; text-decoration-color: #7f7f7f\"> reciprocate their feelings and to         </span>│\n",
       "│<span style=\"color: #7f7f7f; text-decoration-color: #7f7f7f\">                                </span>│<span style=\"color: #7f7f7f; text-decoration-color: #7f7f7f\">                                    </span>│<span style=\"color: #7f7f7f; text-decoration-color: #7f7f7f\"> communicate openly. The lyrics express    </span>│\n",
       "│<span style=\"color: #7f7f7f; text-decoration-color: #7f7f7f\">                                </span>│<span style=\"color: #7f7f7f; text-decoration-color: #7f7f7f\">                                    </span>│<span style=\"color: #7f7f7f; text-decoration-color: #7f7f7f\"> themes of love, longing, and the desire   </span>│\n",
       "│<span style=\"color: #7f7f7f; text-decoration-color: #7f7f7f\">                                </span>│<span style=\"color: #7f7f7f; text-decoration-color: #7f7f7f\">                                    </span>│<span style=\"color: #7f7f7f; text-decoration-color: #7f7f7f\"> for emotional connection. The song        </span>│\n",
       "│<span style=\"color: #7f7f7f; text-decoration-color: #7f7f7f\">                                </span>│<span style=\"color: #7f7f7f; text-decoration-color: #7f7f7f\">                                    </span>│<span style=\"color: #7f7f7f; text-decoration-color: #7f7f7f\"> captures the emotional struggle of        </span>│\n",
       "│<span style=\"color: #7f7f7f; text-decoration-color: #7f7f7f\">                                </span>│<span style=\"color: #7f7f7f; text-decoration-color: #7f7f7f\">                                    </span>│<span style=\"color: #7f7f7f; text-decoration-color: #7f7f7f\"> wanting reassurance and clarity in a      </span>│\n",
       "│<span style=\"color: #7f7f7f; text-decoration-color: #7f7f7f\">                                </span>│<span style=\"color: #7f7f7f; text-decoration-color: #7f7f7f\">                                    </span>│<span style=\"color: #7f7f7f; text-decoration-color: #7f7f7f\"> romantic relationship.                    </span>│\n",
       "└────────────────────────────────┴────────────────────────────────────┴───────────────────────────────────────────┘\n",
       "</pre>\n"
      ],
      "text/plain": [
       "┏━━━━━━━━━━━━━━━━━━━━━━━━━━━━━━━━┳━━━━━━━━━━━━━━━━━━━━━━━━━━━━━━━━━━━━┳━━━━━━━━━━━━━━━━━━━━━━━━━━━━━━━━━━━━━━━━━━━┓\n",
       "┃\u001b[1;35m \u001b[0m\u001b[1;35mscenario                      \u001b[0m\u001b[1;35m \u001b[0m┃\u001b[1;35m \u001b[0m\u001b[1;35mscenario                          \u001b[0m\u001b[1;35m \u001b[0m┃\u001b[1;35m \u001b[0m\u001b[1;35manswer                                   \u001b[0m\u001b[1;35m \u001b[0m┃\n",
       "┃\u001b[1;35m \u001b[0m\u001b[1;35m.song                         \u001b[0m\u001b[1;35m \u001b[0m┃\u001b[1;35m \u001b[0m\u001b[1;35m.artists                          \u001b[0m\u001b[1;35m \u001b[0m┃\u001b[1;35m \u001b[0m\u001b[1;35m.topic                                   \u001b[0m\u001b[1;35m \u001b[0m┃\n",
       "┡━━━━━━━━━━━━━━━━━━━━━━━━━━━━━━━━╇━━━━━━━━━━━━━━━━━━━━━━━━━━━━━━━━━━━━╇━━━━━━━━━━━━━━━━━━━━━━━━━━━━━━━━━━━━━━━━━━━┩\n",
       "│\u001b[2m \u001b[0m\u001b[2m\"Bette Davis Eyes\"            \u001b[0m\u001b[2m \u001b[0m│\u001b[2m \u001b[0m\u001b[2mKim Carnes                        \u001b[0m\u001b[2m \u001b[0m│\u001b[2m \u001b[0m\u001b[2mThe song \"Bette Davis Eyes\" by Kim Carnes\u001b[0m\u001b[2m \u001b[0m│\n",
       "│\u001b[2m                                \u001b[0m│\u001b[2m                                    \u001b[0m│\u001b[2m \u001b[0m\u001b[2mis about a woman who is captivating and  \u001b[0m\u001b[2m \u001b[0m│\n",
       "│\u001b[2m                                \u001b[0m│\u001b[2m                                    \u001b[0m│\u001b[2m \u001b[0m\u001b[2malluring, with a mysterious and seductive\u001b[0m\u001b[2m \u001b[0m│\n",
       "│\u001b[2m                                \u001b[0m│\u001b[2m                                    \u001b[0m│\u001b[2m \u001b[0m\u001b[2mcharm reminiscent of the iconic actress  \u001b[0m\u001b[2m \u001b[0m│\n",
       "│\u001b[2m                                \u001b[0m│\u001b[2m                                    \u001b[0m│\u001b[2m \u001b[0m\u001b[2mBette Davis. The lyrics describe how this\u001b[0m\u001b[2m \u001b[0m│\n",
       "│\u001b[2m                                \u001b[0m│\u001b[2m                                    \u001b[0m│\u001b[2m \u001b[0m\u001b[2mwoman has an intense and mesmerizing     \u001b[0m\u001b[2m \u001b[0m│\n",
       "│\u001b[2m                                \u001b[0m│\u001b[2m                                    \u001b[0m│\u001b[2m \u001b[0m\u001b[2mpresence, with a certain allure that     \u001b[0m\u001b[2m \u001b[0m│\n",
       "│\u001b[2m                                \u001b[0m│\u001b[2m                                    \u001b[0m│\u001b[2m \u001b[0m\u001b[2mdraws people in, much like Bette Davis   \u001b[0m\u001b[2m \u001b[0m│\n",
       "│\u001b[2m                                \u001b[0m│\u001b[2m                                    \u001b[0m│\u001b[2m \u001b[0m\u001b[2mwas known for her distinctive eyes and   \u001b[0m\u001b[2m \u001b[0m│\n",
       "│\u001b[2m                                \u001b[0m│\u001b[2m                                    \u001b[0m│\u001b[2m \u001b[0m\u001b[2mstrong screen presence. The song         \u001b[0m\u001b[2m \u001b[0m│\n",
       "│\u001b[2m                                \u001b[0m│\u001b[2m                                    \u001b[0m│\u001b[2m \u001b[0m\u001b[2mhighlights her ability to enchant and    \u001b[0m\u001b[2m \u001b[0m│\n",
       "│\u001b[2m                                \u001b[0m│\u001b[2m                                    \u001b[0m│\u001b[2m \u001b[0m\u001b[2mmanipulate those around her with her     \u001b[0m\u001b[2m \u001b[0m│\n",
       "│\u001b[2m                                \u001b[0m│\u001b[2m                                    \u001b[0m│\u001b[2m \u001b[0m\u001b[2mcharisma and enigmatic personality.      \u001b[0m\u001b[2m \u001b[0m│\n",
       "├────────────────────────────────┼────────────────────────────────────┼───────────────────────────────────────────┤\n",
       "│\u001b[2m \u001b[0m\u001b[2m\"Billie Jean\"                 \u001b[0m\u001b[2m \u001b[0m│\u001b[2m \u001b[0m\u001b[2mMichael Jackson                   \u001b[0m\u001b[2m \u001b[0m│\u001b[2m \u001b[0m\u001b[2mThe song \"Billie Jean\" by Michael Jackson\u001b[0m\u001b[2m \u001b[0m│\n",
       "│\u001b[2m                                \u001b[0m│\u001b[2m                                    \u001b[0m│\u001b[2m \u001b[0m\u001b[2mis about a man who is confronted by a    \u001b[0m\u001b[2m \u001b[0m│\n",
       "│\u001b[2m                                \u001b[0m│\u001b[2m                                    \u001b[0m│\u001b[2m \u001b[0m\u001b[2mwoman named Billie Jean who claims that  \u001b[0m\u001b[2m \u001b[0m│\n",
       "│\u001b[2m                                \u001b[0m│\u001b[2m                                    \u001b[0m│\u001b[2m \u001b[0m\u001b[2mhe is the father of her son. The lyrics  \u001b[0m\u001b[2m \u001b[0m│\n",
       "│\u001b[2m                                \u001b[0m│\u001b[2m                                    \u001b[0m│\u001b[2m \u001b[0m\u001b[2mdescribe his denial of her allegations   \u001b[0m\u001b[2m \u001b[0m│\n",
       "│\u001b[2m                                \u001b[0m│\u001b[2m                                    \u001b[0m│\u001b[2m \u001b[0m\u001b[2mand his insistence that she is lying. The\u001b[0m\u001b[2m \u001b[0m│\n",
       "│\u001b[2m                                \u001b[0m│\u001b[2m                                    \u001b[0m│\u001b[2m \u001b[0m\u001b[2msong explores themes of false            \u001b[0m\u001b[2m \u001b[0m│\n",
       "│\u001b[2m                                \u001b[0m│\u001b[2m                                    \u001b[0m│\u001b[2m \u001b[0m\u001b[2maccusations, the burden of fame, and the \u001b[0m\u001b[2m \u001b[0m│\n",
       "│\u001b[2m                                \u001b[0m│\u001b[2m                                    \u001b[0m│\u001b[2m \u001b[0m\u001b[2mimpact of rumors on personal life.       \u001b[0m\u001b[2m \u001b[0m│\n",
       "├────────────────────────────────┼────────────────────────────────────┼───────────────────────────────────────────┤\n",
       "│\u001b[2m \u001b[0m\u001b[2m\"Call Me\"                     \u001b[0m\u001b[2m \u001b[0m│\u001b[2m \u001b[0m\u001b[2mBlondie                           \u001b[0m\u001b[2m \u001b[0m│\u001b[2m \u001b[0m\u001b[2mThe song \"Call Me\" by Blondie is about a \u001b[0m\u001b[2m \u001b[0m│\n",
       "│\u001b[2m                                \u001b[0m│\u001b[2m                                    \u001b[0m│\u001b[2m \u001b[0m\u001b[2mperson expressing their desire for a     \u001b[0m\u001b[2m \u001b[0m│\n",
       "│\u001b[2m                                \u001b[0m│\u001b[2m                                    \u001b[0m│\u001b[2m \u001b[0m\u001b[2mromantic connection and availability to a\u001b[0m\u001b[2m \u001b[0m│\n",
       "│\u001b[2m                                \u001b[0m│\u001b[2m                                    \u001b[0m│\u001b[2m \u001b[0m\u001b[2mpotential lover. The lyrics convey a     \u001b[0m\u001b[2m \u001b[0m│\n",
       "│\u001b[2m                                \u001b[0m│\u001b[2m                                    \u001b[0m│\u001b[2m \u001b[0m\u001b[2msense of urgency and excitement, inviting\u001b[0m\u001b[2m \u001b[0m│\n",
       "│\u001b[2m                                \u001b[0m│\u001b[2m                                    \u001b[0m│\u001b[2m \u001b[0m\u001b[2mthe other person to reach out and make   \u001b[0m\u001b[2m \u001b[0m│\n",
       "│\u001b[2m                                \u001b[0m│\u001b[2m                                    \u001b[0m│\u001b[2m \u001b[0m\u001b[2mcontact at any time. The song captures   \u001b[0m\u001b[2m \u001b[0m│\n",
       "│\u001b[2m                                \u001b[0m│\u001b[2m                                    \u001b[0m│\u001b[2m \u001b[0m\u001b[2mthe thrill and anticipation of new love, \u001b[0m\u001b[2m \u001b[0m│\n",
       "│\u001b[2m                                \u001b[0m│\u001b[2m                                    \u001b[0m│\u001b[2m \u001b[0m\u001b[2memphasizing themes of passion and        \u001b[0m\u001b[2m \u001b[0m│\n",
       "│\u001b[2m                                \u001b[0m│\u001b[2m                                    \u001b[0m│\u001b[2m \u001b[0m\u001b[2mlonging.                                 \u001b[0m\u001b[2m \u001b[0m│\n",
       "├────────────────────────────────┼────────────────────────────────────┼───────────────────────────────────────────┤\n",
       "│\u001b[2m \u001b[0m\u001b[2m\"Centerfold\"                  \u001b[0m\u001b[2m \u001b[0m│\u001b[2m \u001b[0m\u001b[2mThe J. Geils Band                 \u001b[0m\u001b[2m \u001b[0m│\u001b[2m \u001b[0m\u001b[2mThe song \"Centerfold\" by The J. Geils    \u001b[0m\u001b[2m \u001b[0m│\n",
       "│\u001b[2m                                \u001b[0m│\u001b[2m                                    \u001b[0m│\u001b[2m \u001b[0m\u001b[2mBand is about a man who discovers that a \u001b[0m\u001b[2m \u001b[0m│\n",
       "│\u001b[2m                                \u001b[0m│\u001b[2m                                    \u001b[0m│\u001b[2m \u001b[0m\u001b[2mformer crush from his school days has    \u001b[0m\u001b[2m \u001b[0m│\n",
       "│\u001b[2m                                \u001b[0m│\u001b[2m                                    \u001b[0m│\u001b[2m \u001b[0m\u001b[2mbecome a model featured in a men's       \u001b[0m\u001b[2m \u001b[0m│\n",
       "│\u001b[2m                                \u001b[0m│\u001b[2m                                    \u001b[0m│\u001b[2m \u001b[0m\u001b[2mmagazine. The lyrics express his surprise\u001b[0m\u001b[2m \u001b[0m│\n",
       "│\u001b[2m                                \u001b[0m│\u001b[2m                                    \u001b[0m│\u001b[2m \u001b[0m\u001b[2mand mixed emotions as he grapples with   \u001b[0m\u001b[2m \u001b[0m│\n",
       "│\u001b[2m                                \u001b[0m│\u001b[2m                                    \u001b[0m│\u001b[2m \u001b[0m\u001b[2mthe contrast between his innocent        \u001b[0m\u001b[2m \u001b[0m│\n",
       "│\u001b[2m                                \u001b[0m│\u001b[2m                                    \u001b[0m│\u001b[2m \u001b[0m\u001b[2mmemories of her and her new, more        \u001b[0m\u001b[2m \u001b[0m│\n",
       "│\u001b[2m                                \u001b[0m│\u001b[2m                                    \u001b[0m│\u001b[2m \u001b[0m\u001b[2mprovocative public image.                \u001b[0m\u001b[2m \u001b[0m│\n",
       "├────────────────────────────────┼────────────────────────────────────┼───────────────────────────────────────────┤\n",
       "│\u001b[2m \u001b[0m\u001b[2m\"Ebony and Ivory\"             \u001b[0m\u001b[2m \u001b[0m│\u001b[2m \u001b[0m\u001b[2mPaul McCartney and Stevie Wonder  \u001b[0m\u001b[2m \u001b[0m│\u001b[2m \u001b[0m\u001b[2mThe song \"Ebony and Ivory\" by Paul       \u001b[0m\u001b[2m \u001b[0m│\n",
       "│\u001b[2m                                \u001b[0m│\u001b[2m                                    \u001b[0m│\u001b[2m \u001b[0m\u001b[2mMcCartney and Stevie Wonder addresses    \u001b[0m\u001b[2m \u001b[0m│\n",
       "│\u001b[2m                                \u001b[0m│\u001b[2m                                    \u001b[0m│\u001b[2m \u001b[0m\u001b[2mthemes of racial harmony and unity. It   \u001b[0m\u001b[2m \u001b[0m│\n",
       "│\u001b[2m                                \u001b[0m│\u001b[2m                                    \u001b[0m│\u001b[2m \u001b[0m\u001b[2muses the metaphor of piano keys—ebony    \u001b[0m\u001b[2m \u001b[0m│\n",
       "│\u001b[2m                                \u001b[0m│\u001b[2m                                    \u001b[0m│\u001b[2m \u001b[0m\u001b[2m(black) and ivory (white)—to symbolize   \u001b[0m\u001b[2m \u001b[0m│\n",
       "│\u001b[2m                                \u001b[0m│\u001b[2m                                    \u001b[0m│\u001b[2m \u001b[0m\u001b[2mhow different races can coexist          \u001b[0m\u001b[2m \u001b[0m│\n",
       "│\u001b[2m                                \u001b[0m│\u001b[2m                                    \u001b[0m│\u001b[2m \u001b[0m\u001b[2mpeacefully and complement each other,    \u001b[0m\u001b[2m \u001b[0m│\n",
       "│\u001b[2m                                \u001b[0m│\u001b[2m                                    \u001b[0m│\u001b[2m \u001b[0m\u001b[2mjust as the keys work together to create \u001b[0m\u001b[2m \u001b[0m│\n",
       "│\u001b[2m                                \u001b[0m│\u001b[2m                                    \u001b[0m│\u001b[2m \u001b[0m\u001b[2mbeautiful music.                         \u001b[0m\u001b[2m \u001b[0m│\n",
       "├────────────────────────────────┼────────────────────────────────────┼───────────────────────────────────────────┤\n",
       "│\u001b[2m \u001b[0m\u001b[2m\"Endless Love\"                \u001b[0m\u001b[2m \u001b[0m│\u001b[2m \u001b[0m\u001b[2mDiana Ross and Lionel Richie      \u001b[0m\u001b[2m \u001b[0m│\u001b[2m \u001b[0m\u001b[2mThe song \"Endless Love\" by Diana Ross and\u001b[0m\u001b[2m \u001b[0m│\n",
       "│\u001b[2m                                \u001b[0m│\u001b[2m                                    \u001b[0m│\u001b[2m \u001b[0m\u001b[2mLionel Richie is about a deep, romantic  \u001b[0m\u001b[2m \u001b[0m│\n",
       "│\u001b[2m                                \u001b[0m│\u001b[2m                                    \u001b[0m│\u001b[2m \u001b[0m\u001b[2mlove between two people. The lyrics      \u001b[0m\u001b[2m \u001b[0m│\n",
       "│\u001b[2m                                \u001b[0m│\u001b[2m                                    \u001b[0m│\u001b[2m \u001b[0m\u001b[2mexpress a commitment to loving each other\u001b[0m\u001b[2m \u001b[0m│\n",
       "│\u001b[2m                                \u001b[0m│\u001b[2m                                    \u001b[0m│\u001b[2m \u001b[0m\u001b[2mendlessly and highlight the emotional    \u001b[0m\u001b[2m \u001b[0m│\n",
       "│\u001b[2m                                \u001b[0m│\u001b[2m                                    \u001b[0m│\u001b[2m \u001b[0m\u001b[2mconnection and devotion they share. It's \u001b[0m\u001b[2m \u001b[0m│\n",
       "│\u001b[2m                                \u001b[0m│\u001b[2m                                    \u001b[0m│\u001b[2m \u001b[0m\u001b[2moften considered a classic love song and \u001b[0m\u001b[2m \u001b[0m│\n",
       "│\u001b[2m                                \u001b[0m│\u001b[2m                                    \u001b[0m│\u001b[2m \u001b[0m\u001b[2mis frequently played at weddings and     \u001b[0m\u001b[2m \u001b[0m│\n",
       "│\u001b[2m                                \u001b[0m│\u001b[2m                                    \u001b[0m│\u001b[2m \u001b[0m\u001b[2mromantic occasions.                      \u001b[0m\u001b[2m \u001b[0m│\n",
       "├────────────────────────────────┼────────────────────────────────────┼───────────────────────────────────────────┤\n",
       "│\u001b[2m \u001b[0m\u001b[2m\"Every Breath You Take\"       \u001b[0m\u001b[2m \u001b[0m│\u001b[2m \u001b[0m\u001b[2mThe Police                        \u001b[0m\u001b[2m \u001b[0m│\u001b[2m \u001b[0m\u001b[2mThe song \"Every Breath You Take\" by The  \u001b[0m\u001b[2m \u001b[0m│\n",
       "│\u001b[2m                                \u001b[0m│\u001b[2m                                    \u001b[0m│\u001b[2m \u001b[0m\u001b[2mPolice is often interpreted as being     \u001b[0m\u001b[2m \u001b[0m│\n",
       "│\u001b[2m                                \u001b[0m│\u001b[2m                                    \u001b[0m│\u001b[2m \u001b[0m\u001b[2mabout obsession and surveillance. While  \u001b[0m\u001b[2m \u001b[0m│\n",
       "│\u001b[2m                                \u001b[0m│\u001b[2m                                    \u001b[0m│\u001b[2m \u001b[0m\u001b[2mit is frequently perceived as a romantic \u001b[0m\u001b[2m \u001b[0m│\n",
       "│\u001b[2m                                \u001b[0m│\u001b[2m                                    \u001b[0m│\u001b[2m \u001b[0m\u001b[2msong, the lyrics actually convey a sense \u001b[0m\u001b[2m \u001b[0m│\n",
       "│\u001b[2m                                \u001b[0m│\u001b[2m                                    \u001b[0m│\u001b[2m \u001b[0m\u001b[2mof possessiveness and control, with the  \u001b[0m\u001b[2m \u001b[0m│\n",
       "│\u001b[2m                                \u001b[0m│\u001b[2m                                    \u001b[0m│\u001b[2m \u001b[0m\u001b[2mnarrator closely watching and monitoring \u001b[0m\u001b[2m \u001b[0m│\n",
       "│\u001b[2m                                \u001b[0m│\u001b[2m                                    \u001b[0m│\u001b[2m \u001b[0m\u001b[2mevery move of the person they are        \u001b[0m\u001b[2m \u001b[0m│\n",
       "│\u001b[2m                                \u001b[0m│\u001b[2m                                    \u001b[0m│\u001b[2m \u001b[0m\u001b[2maddressing. This underlying theme of     \u001b[0m\u001b[2m \u001b[0m│\n",
       "│\u001b[2m                                \u001b[0m│\u001b[2m                                    \u001b[0m│\u001b[2m \u001b[0m\u001b[2mobsession contrasts with the song's      \u001b[0m\u001b[2m \u001b[0m│\n",
       "│\u001b[2m                                \u001b[0m│\u001b[2m                                    \u001b[0m│\u001b[2m \u001b[0m\u001b[2msoothing melody, creating an intriguing  \u001b[0m\u001b[2m \u001b[0m│\n",
       "│\u001b[2m                                \u001b[0m│\u001b[2m                                    \u001b[0m│\u001b[2m \u001b[0m\u001b[2mdynamic.                                 \u001b[0m\u001b[2m \u001b[0m│\n",
       "├────────────────────────────────┼────────────────────────────────────┼───────────────────────────────────────────┤\n",
       "│\u001b[2m \u001b[0m\u001b[2m\"Eye of the Tiger\"            \u001b[0m\u001b[2m \u001b[0m│\u001b[2m \u001b[0m\u001b[2mSurvivor                          \u001b[0m\u001b[2m \u001b[0m│\u001b[2m \u001b[0m\u001b[2mThe song \"Eye of the Tiger\" by Survivor  \u001b[0m\u001b[2m \u001b[0m│\n",
       "│\u001b[2m                                \u001b[0m│\u001b[2m                                    \u001b[0m│\u001b[2m \u001b[0m\u001b[2mis about perseverance, determination, and\u001b[0m\u001b[2m \u001b[0m│\n",
       "│\u001b[2m                                \u001b[0m│\u001b[2m                                    \u001b[0m│\u001b[2m \u001b[0m\u001b[2mfighting spirit. It was famously used as \u001b[0m\u001b[2m \u001b[0m│\n",
       "│\u001b[2m                                \u001b[0m│\u001b[2m                                    \u001b[0m│\u001b[2m \u001b[0m\u001b[2mthe theme song for the movie \"Rocky III.\"\u001b[0m\u001b[2m \u001b[0m│\n",
       "│\u001b[2m                                \u001b[0m│\u001b[2m                                    \u001b[0m│\u001b[2m \u001b[0m\u001b[2mThe lyrics emphasize staying focused,    \u001b[0m\u001b[2m \u001b[0m│\n",
       "│\u001b[2m                                \u001b[0m│\u001b[2m                                    \u001b[0m│\u001b[2m \u001b[0m\u001b[2mfacing challenges head-on, and having the\u001b[0m\u001b[2m \u001b[0m│\n",
       "│\u001b[2m                                \u001b[0m│\u001b[2m                                    \u001b[0m│\u001b[2m \u001b[0m\u001b[2mwillpower to overcome obstacles,         \u001b[0m\u001b[2m \u001b[0m│\n",
       "│\u001b[2m                                \u001b[0m│\u001b[2m                                    \u001b[0m│\u001b[2m \u001b[0m\u001b[2membodying the mindset of a fighter who is\u001b[0m\u001b[2m \u001b[0m│\n",
       "│\u001b[2m                                \u001b[0m│\u001b[2m                                    \u001b[0m│\u001b[2m \u001b[0m\u001b[2mready to face any opponent.              \u001b[0m\u001b[2m \u001b[0m│\n",
       "├────────────────────────────────┼────────────────────────────────────┼───────────────────────────────────────────┤\n",
       "│\u001b[2m \u001b[0m\u001b[2m\"Flashdance... What a Feeling\"\u001b[0m\u001b[2m \u001b[0m│\u001b[2m \u001b[0m\u001b[2mIrene Cara                        \u001b[0m\u001b[2m \u001b[0m│\u001b[2m \u001b[0m\u001b[2mThe song \"Flashdance... What a Feeling\"  \u001b[0m\u001b[2m \u001b[0m│\n",
       "│\u001b[2m                                \u001b[0m│\u001b[2m                                    \u001b[0m│\u001b[2m \u001b[0m\u001b[2mby Irene Cara is primarily about         \u001b[0m\u001b[2m \u001b[0m│\n",
       "│\u001b[2m                                \u001b[0m│\u001b[2m                                    \u001b[0m│\u001b[2m \u001b[0m\u001b[2mempowerment, self-expression, and the joy\u001b[0m\u001b[2m \u001b[0m│\n",
       "│\u001b[2m                                \u001b[0m│\u001b[2m                                    \u001b[0m│\u001b[2m \u001b[0m\u001b[2mof pursuing one's dreams. It captures the\u001b[0m\u001b[2m \u001b[0m│\n",
       "│\u001b[2m                                \u001b[0m│\u001b[2m                                    \u001b[0m│\u001b[2m \u001b[0m\u001b[2memotions of determination and            \u001b[0m\u001b[2m \u001b[0m│\n",
       "│\u001b[2m                                \u001b[0m│\u001b[2m                                    \u001b[0m│\u001b[2m \u001b[0m\u001b[2mexhilaration that come with following    \u001b[0m\u001b[2m \u001b[0m│\n",
       "│\u001b[2m                                \u001b[0m│\u001b[2m                                    \u001b[0m│\u001b[2m \u001b[0m\u001b[2mone's passion and overcoming obstacles.  \u001b[0m\u001b[2m \u001b[0m│\n",
       "│\u001b[2m                                \u001b[0m│\u001b[2m                                    \u001b[0m│\u001b[2m \u001b[0m\u001b[2mThe song was famously featured in the    \u001b[0m\u001b[2m \u001b[0m│\n",
       "│\u001b[2m                                \u001b[0m│\u001b[2m                                    \u001b[0m│\u001b[2m \u001b[0m\u001b[2m1983 film \"Flashdance,\" where it         \u001b[0m\u001b[2m \u001b[0m│\n",
       "│\u001b[2m                                \u001b[0m│\u001b[2m                                    \u001b[0m│\u001b[2m \u001b[0m\u001b[2munderscored themes of ambition and the   \u001b[0m\u001b[2m \u001b[0m│\n",
       "│\u001b[2m                                \u001b[0m│\u001b[2m                                    \u001b[0m│\u001b[2m \u001b[0m\u001b[2mpursuit of artistic fulfillment.         \u001b[0m\u001b[2m \u001b[0m│\n",
       "├────────────────────────────────┼────────────────────────────────────┼───────────────────────────────────────────┤\n",
       "│\u001b[2m \u001b[0m\u001b[2m\"I Love Rock 'n' Roll\"        \u001b[0m\u001b[2m \u001b[0m│\u001b[2m \u001b[0m\u001b[2mJoan Jett and the Blackhearts     \u001b[0m\u001b[2m \u001b[0m│\u001b[2m \u001b[0m\u001b[2mThe song \"I Love Rock 'n' Roll\" by Joan  \u001b[0m\u001b[2m \u001b[0m│\n",
       "│\u001b[2m                                \u001b[0m│\u001b[2m                                    \u001b[0m│\u001b[2m \u001b[0m\u001b[2mJett and the Blackhearts is about the    \u001b[0m\u001b[2m \u001b[0m│\n",
       "│\u001b[2m                                \u001b[0m│\u001b[2m                                    \u001b[0m│\u001b[2m \u001b[0m\u001b[2mexcitement and passion for rock and roll \u001b[0m\u001b[2m \u001b[0m│\n",
       "│\u001b[2m                                \u001b[0m│\u001b[2m                                    \u001b[0m│\u001b[2m \u001b[0m\u001b[2mmusic. The lyrics describe a person      \u001b[0m\u001b[2m \u001b[0m│\n",
       "│\u001b[2m                                \u001b[0m│\u001b[2m                                    \u001b[0m│\u001b[2m \u001b[0m\u001b[2mencountering someone attractive at a     \u001b[0m\u001b[2m \u001b[0m│\n",
       "│\u001b[2m                                \u001b[0m│\u001b[2m                                    \u001b[0m│\u001b[2m \u001b[0m\u001b[2mjukebox, bonding over their shared love  \u001b[0m\u001b[2m \u001b[0m│\n",
       "│\u001b[2m                                \u001b[0m│\u001b[2m                                    \u001b[0m│\u001b[2m \u001b[0m\u001b[2mfor rock music, and suggesting they spend\u001b[0m\u001b[2m \u001b[0m│\n",
       "│\u001b[2m                                \u001b[0m│\u001b[2m                                    \u001b[0m│\u001b[2m \u001b[0m\u001b[2mmore time together listening to it. The  \u001b[0m\u001b[2m \u001b[0m│\n",
       "│\u001b[2m                                \u001b[0m│\u001b[2m                                    \u001b[0m│\u001b[2m \u001b[0m\u001b[2msong captures the rebellious and         \u001b[0m\u001b[2m \u001b[0m│\n",
       "│\u001b[2m                                \u001b[0m│\u001b[2m                                    \u001b[0m│\u001b[2m \u001b[0m\u001b[2menergetic spirit of rock and roll.       \u001b[0m\u001b[2m \u001b[0m│\n",
       "├────────────────────────────────┼────────────────────────────────────┼───────────────────────────────────────────┤\n",
       "│\u001b[2m \u001b[0m\u001b[2m\"Lady\"                        \u001b[0m\u001b[2m \u001b[0m│\u001b[2m \u001b[0m\u001b[2mKenny Rogers                      \u001b[0m\u001b[2m \u001b[0m│\u001b[2m \u001b[0m\u001b[2mThe song \"Lady\" by Kenny Rogers is a     \u001b[0m\u001b[2m \u001b[0m│\n",
       "│\u001b[2m                                \u001b[0m│\u001b[2m                                    \u001b[0m│\u001b[2m \u001b[0m\u001b[2mromantic ballad that expresses deep love \u001b[0m\u001b[2m \u001b[0m│\n",
       "│\u001b[2m                                \u001b[0m│\u001b[2m                                    \u001b[0m│\u001b[2m \u001b[0m\u001b[2mand admiration. The lyrics convey a      \u001b[0m\u001b[2m \u001b[0m│\n",
       "│\u001b[2m                                \u001b[0m│\u001b[2m                                    \u001b[0m│\u001b[2m \u001b[0m\u001b[2mheartfelt message from a man to the woman\u001b[0m\u001b[2m \u001b[0m│\n",
       "│\u001b[2m                                \u001b[0m│\u001b[2m                                    \u001b[0m│\u001b[2m \u001b[0m\u001b[2mhe loves, emphasizing her importance in  \u001b[0m\u001b[2m \u001b[0m│\n",
       "│\u001b[2m                                \u001b[0m│\u001b[2m                                    \u001b[0m│\u001b[2m \u001b[0m\u001b[2mhis life and his devotion to her. The    \u001b[0m\u001b[2m \u001b[0m│\n",
       "│\u001b[2m                                \u001b[0m│\u001b[2m                                    \u001b[0m│\u001b[2m \u001b[0m\u001b[2msong highlights themes of love,          \u001b[0m\u001b[2m \u001b[0m│\n",
       "│\u001b[2m                                \u001b[0m│\u001b[2m                                    \u001b[0m│\u001b[2m \u001b[0m\u001b[2mappreciation, and emotional connection.  \u001b[0m\u001b[2m \u001b[0m│\n",
       "├────────────────────────────────┼────────────────────────────────────┼───────────────────────────────────────────┤\n",
       "│\u001b[2m \u001b[0m\u001b[2m\"Like a Virgin\"               \u001b[0m\u001b[2m \u001b[0m│\u001b[2m \u001b[0m\u001b[2mMadonna                           \u001b[0m\u001b[2m \u001b[0m│\u001b[2m \u001b[0m\u001b[2mThe song \"Like a Virgin\" by Madonna is   \u001b[0m\u001b[2m \u001b[0m│\n",
       "│\u001b[2m                                \u001b[0m│\u001b[2m                                    \u001b[0m│\u001b[2m \u001b[0m\u001b[2mprimarily about the feeling of renewal   \u001b[0m\u001b[2m \u001b[0m│\n",
       "│\u001b[2m                                \u001b[0m│\u001b[2m                                    \u001b[0m│\u001b[2m \u001b[0m\u001b[2mand experiencing something as if it were \u001b[0m\u001b[2m \u001b[0m│\n",
       "│\u001b[2m                                \u001b[0m│\u001b[2m                                    \u001b[0m│\u001b[2m \u001b[0m\u001b[2mfor the first time. It conveys themes of \u001b[0m\u001b[2m \u001b[0m│\n",
       "│\u001b[2m                                \u001b[0m│\u001b[2m                                    \u001b[0m│\u001b[2m \u001b[0m\u001b[2mlove and emotional rebirth, using the    \u001b[0m\u001b[2m \u001b[0m│\n",
       "│\u001b[2m                                \u001b[0m│\u001b[2m                                    \u001b[0m│\u001b[2m \u001b[0m\u001b[2mmetaphor of virginity to describe the    \u001b[0m\u001b[2m \u001b[0m│\n",
       "│\u001b[2m                                \u001b[0m│\u001b[2m                                    \u001b[0m│\u001b[2m \u001b[0m\u001b[2mfresh and transformative nature of a new \u001b[0m\u001b[2m \u001b[0m│\n",
       "│\u001b[2m                                \u001b[0m│\u001b[2m                                    \u001b[0m│\u001b[2m \u001b[0m\u001b[2mromantic relationship. The song captures \u001b[0m\u001b[2m \u001b[0m│\n",
       "│\u001b[2m                                \u001b[0m│\u001b[2m                                    \u001b[0m│\u001b[2m \u001b[0m\u001b[2mthe excitement and vulnerability that can\u001b[0m\u001b[2m \u001b[0m│\n",
       "│\u001b[2m                                \u001b[0m│\u001b[2m                                    \u001b[0m│\u001b[2m \u001b[0m\u001b[2mcome with falling in love again after    \u001b[0m\u001b[2m \u001b[0m│\n",
       "│\u001b[2m                                \u001b[0m│\u001b[2m                                    \u001b[0m│\u001b[2m \u001b[0m\u001b[2mpast experiences.                        \u001b[0m\u001b[2m \u001b[0m│\n",
       "├────────────────────────────────┼────────────────────────────────────┼───────────────────────────────────────────┤\n",
       "│\u001b[2m \u001b[0m\u001b[2m\"Physical\"                    \u001b[0m\u001b[2m \u001b[0m│\u001b[2m \u001b[0m\u001b[2mOlivia Newton-John                \u001b[0m\u001b[2m \u001b[0m│\u001b[2m \u001b[0m\u001b[2mThe song \"Physical\" by Olivia            \u001b[0m\u001b[2m \u001b[0m│\n",
       "│\u001b[2m                                \u001b[0m│\u001b[2m                                    \u001b[0m│\u001b[2m \u001b[0m\u001b[2mNewton-John, released in 1981, is        \u001b[0m\u001b[2m \u001b[0m│\n",
       "│\u001b[2m                                \u001b[0m│\u001b[2m                                    \u001b[0m│\u001b[2m \u001b[0m\u001b[2mprimarily about physical attraction and  \u001b[0m\u001b[2m \u001b[0m│\n",
       "│\u001b[2m                                \u001b[0m│\u001b[2m                                    \u001b[0m│\u001b[2m \u001b[0m\u001b[2mdesire. The lyrics suggest a playful and \u001b[0m\u001b[2m \u001b[0m│\n",
       "│\u001b[2m                                \u001b[0m│\u001b[2m                                    \u001b[0m│\u001b[2m \u001b[0m\u001b[2mflirtatious approach to romance,         \u001b[0m\u001b[2m \u001b[0m│\n",
       "│\u001b[2m                                \u001b[0m│\u001b[2m                                    \u001b[0m│\u001b[2m \u001b[0m\u001b[2memphasizing the singer's interest in     \u001b[0m\u001b[2m \u001b[0m│\n",
       "│\u001b[2m                                \u001b[0m│\u001b[2m                                    \u001b[0m│\u001b[2m \u001b[0m\u001b[2mtaking a relationship to a more intimate,\u001b[0m\u001b[2m \u001b[0m│\n",
       "│\u001b[2m                                \u001b[0m│\u001b[2m                                    \u001b[0m│\u001b[2m \u001b[0m\u001b[2mphysical level. The song's upbeat tempo  \u001b[0m\u001b[2m \u001b[0m│\n",
       "│\u001b[2m                                \u001b[0m│\u001b[2m                                    \u001b[0m│\u001b[2m \u001b[0m\u001b[2mand catchy melody, along with its        \u001b[0m\u001b[2m \u001b[0m│\n",
       "│\u001b[2m                                \u001b[0m│\u001b[2m                                    \u001b[0m│\u001b[2m \u001b[0m\u001b[2msuggestive lyrics, contributed to its    \u001b[0m\u001b[2m \u001b[0m│\n",
       "│\u001b[2m                                \u001b[0m│\u001b[2m                                    \u001b[0m│\u001b[2m \u001b[0m\u001b[2mpopularity and the somewhat controversial\u001b[0m\u001b[2m \u001b[0m│\n",
       "│\u001b[2m                                \u001b[0m│\u001b[2m                                    \u001b[0m│\u001b[2m \u001b[0m\u001b[2mreception it received at the time of its \u001b[0m\u001b[2m \u001b[0m│\n",
       "│\u001b[2m                                \u001b[0m│\u001b[2m                                    \u001b[0m│\u001b[2m \u001b[0m\u001b[2mrelease.                                 \u001b[0m\u001b[2m \u001b[0m│\n",
       "├────────────────────────────────┼────────────────────────────────────┼───────────────────────────────────────────┤\n",
       "│\u001b[2m \u001b[0m\u001b[2m\"Say, Say, Say\"               \u001b[0m\u001b[2m \u001b[0m│\u001b[2m \u001b[0m\u001b[2mPaul McCartney and Michael Jackson\u001b[0m\u001b[2m \u001b[0m│\u001b[2m \u001b[0m\u001b[2mThe song \"Say, Say, Say\" by Paul         \u001b[0m\u001b[2m \u001b[0m│\n",
       "│\u001b[2m                                \u001b[0m│\u001b[2m                                    \u001b[0m│\u001b[2m \u001b[0m\u001b[2mMcCartney and Michael Jackson is about a \u001b[0m\u001b[2m \u001b[0m│\n",
       "│\u001b[2m                                \u001b[0m│\u001b[2m                                    \u001b[0m│\u001b[2m \u001b[0m\u001b[2mperson pleading with their lover to      \u001b[0m\u001b[2m \u001b[0m│\n",
       "│\u001b[2m                                \u001b[0m│\u001b[2m                                    \u001b[0m│\u001b[2m \u001b[0m\u001b[2mreciprocate their feelings and to        \u001b[0m\u001b[2m \u001b[0m│\n",
       "│\u001b[2m                                \u001b[0m│\u001b[2m                                    \u001b[0m│\u001b[2m \u001b[0m\u001b[2mcommunicate openly. The lyrics express   \u001b[0m\u001b[2m \u001b[0m│\n",
       "│\u001b[2m                                \u001b[0m│\u001b[2m                                    \u001b[0m│\u001b[2m \u001b[0m\u001b[2mthemes of love, longing, and the desire  \u001b[0m\u001b[2m \u001b[0m│\n",
       "│\u001b[2m                                \u001b[0m│\u001b[2m                                    \u001b[0m│\u001b[2m \u001b[0m\u001b[2mfor emotional connection. The song       \u001b[0m\u001b[2m \u001b[0m│\n",
       "│\u001b[2m                                \u001b[0m│\u001b[2m                                    \u001b[0m│\u001b[2m \u001b[0m\u001b[2mcaptures the emotional struggle of       \u001b[0m\u001b[2m \u001b[0m│\n",
       "│\u001b[2m                                \u001b[0m│\u001b[2m                                    \u001b[0m│\u001b[2m \u001b[0m\u001b[2mwanting reassurance and clarity in a     \u001b[0m\u001b[2m \u001b[0m│\n",
       "│\u001b[2m                                \u001b[0m│\u001b[2m                                    \u001b[0m│\u001b[2m \u001b[0m\u001b[2mromantic relationship.                   \u001b[0m\u001b[2m \u001b[0m│\n",
       "└────────────────────────────────┴────────────────────────────────────┴───────────────────────────────────────────┘\n"
      ]
     },
     "metadata": {},
     "output_type": "display_data"
    }
   ],
   "source": [
    "results.sort_by(\"song\").select(\"song\", \"artists\", \"topic\").print(format=\"rich\")"
   ]
  },
  {
   "cell_type": "code",
   "execution_count": 17,
   "id": "7d568fed-cd4b-4d1b-a35b-fcb01f028a2e",
   "metadata": {
    "editable": true,
    "slideshow": {
     "slide_type": ""
    },
    "tags": [
     "skip-execution"
    ]
   },
   "outputs": [
    {
     "data": {
      "text/html": [
       "<pre style=\"white-space:pre;overflow-x:auto;line-height:normal;font-family:Menlo,'DejaVu Sans Mono',consolas,'Courier New',monospace\">┏━━━━━━━━━━┳━━━━━━━━━━━━━━━━━━━━━┳━━━━━━━━━━━━━━━━━━━━━┳━━━━━━━━━━━━━┳━━━━━━━━━━━━━━━━━━━━━━┳━━━━━━━━━━━━━━━━━━━━━┓\n",
       "┃<span style=\"color: #800080; text-decoration-color: #800080; font-weight: bold\"> scenario </span>┃<span style=\"color: #800080; text-decoration-color: #800080; font-weight: bold\"> scenario            </span>┃<span style=\"color: #800080; text-decoration-color: #800080; font-weight: bold\"> scenario            </span>┃<span style=\"color: #800080; text-decoration-color: #800080; font-weight: bold\"> answer      </span>┃<span style=\"color: #800080; text-decoration-color: #800080; font-weight: bold\"> answer               </span>┃<span style=\"color: #800080; text-decoration-color: #800080; font-weight: bold\"> answer              </span>┃\n",
       "┃<span style=\"color: #800080; text-decoration-color: #800080; font-weight: bold\"> .weeks   </span>┃<span style=\"color: #800080; text-decoration-color: #800080; font-weight: bold\"> .song               </span>┃<span style=\"color: #800080; text-decoration-color: #800080; font-weight: bold\"> .artists            </span>┃<span style=\"color: #800080; text-decoration-color: #800080; font-weight: bold\"> .sentiment  </span>┃<span style=\"color: #800080; text-decoration-color: #800080; font-weight: bold\"> .themes              </span>┃<span style=\"color: #800080; text-decoration-color: #800080; font-weight: bold\"> .other_themes       </span>┃\n",
       "┡━━━━━━━━━━╇━━━━━━━━━━━━━━━━━━━━━╇━━━━━━━━━━━━━━━━━━━━━╇━━━━━━━━━━━━━╇━━━━━━━━━━━━━━━━━━━━━━╇━━━━━━━━━━━━━━━━━━━━━┩\n",
       "│<span style=\"color: #7f7f7f; text-decoration-color: #7f7f7f\"> 10       </span>│<span style=\"color: #7f7f7f; text-decoration-color: #7f7f7f\"> \"Physical\"          </span>│<span style=\"color: #7f7f7f; text-decoration-color: #7f7f7f\"> Olivia Newton-John  </span>│<span style=\"color: #7f7f7f; text-decoration-color: #7f7f7f\"> Empowering  </span>│<span style=\"color: #7f7f7f; text-decoration-color: #7f7f7f\"> ['Love',             </span>│<span style=\"color: #7f7f7f; text-decoration-color: #7f7f7f\"> ['Empowerment',     </span>│\n",
       "│<span style=\"color: #7f7f7f; text-decoration-color: #7f7f7f\">          </span>│<span style=\"color: #7f7f7f; text-decoration-color: #7f7f7f\">                     </span>│<span style=\"color: #7f7f7f; text-decoration-color: #7f7f7f\">                     </span>│<span style=\"color: #7f7f7f; text-decoration-color: #7f7f7f\">             </span>│<span style=\"color: #7f7f7f; text-decoration-color: #7f7f7f\"> 'Celebration',       </span>│<span style=\"color: #7f7f7f; text-decoration-color: #7f7f7f\"> 'Desire',           </span>│\n",
       "│<span style=\"color: #7f7f7f; text-decoration-color: #7f7f7f\">          </span>│<span style=\"color: #7f7f7f; text-decoration-color: #7f7f7f\">                     </span>│<span style=\"color: #7f7f7f; text-decoration-color: #7f7f7f\">                     </span>│<span style=\"color: #7f7f7f; text-decoration-color: #7f7f7f\">             </span>│<span style=\"color: #7f7f7f; text-decoration-color: #7f7f7f\"> 'Other']             </span>│<span style=\"color: #7f7f7f; text-decoration-color: #7f7f7f\"> 'Self-expression']  </span>│\n",
       "├──────────┼─────────────────────┼─────────────────────┼─────────────┼──────────────────────┼─────────────────────┤\n",
       "│<span style=\"color: #7f7f7f; text-decoration-color: #7f7f7f\"> 9        </span>│<span style=\"color: #7f7f7f; text-decoration-color: #7f7f7f\"> \"Bette Davis Eyes\"  </span>│<span style=\"color: #7f7f7f; text-decoration-color: #7f7f7f\"> Kim Carnes          </span>│<span style=\"color: #7f7f7f; text-decoration-color: #7f7f7f\"> Nostalgic   </span>│<span style=\"color: #7f7f7f; text-decoration-color: #7f7f7f\"> ['Love', 'Other']    </span>│<span style=\"color: #7f7f7f; text-decoration-color: #7f7f7f\"> ['Nostalgia',       </span>│\n",
       "│<span style=\"color: #7f7f7f; text-decoration-color: #7f7f7f\">          </span>│<span style=\"color: #7f7f7f; text-decoration-color: #7f7f7f\">                     </span>│<span style=\"color: #7f7f7f; text-decoration-color: #7f7f7f\">                     </span>│<span style=\"color: #7f7f7f; text-decoration-color: #7f7f7f\">             </span>│<span style=\"color: #7f7f7f; text-decoration-color: #7f7f7f\">                      </span>│<span style=\"color: #7f7f7f; text-decoration-color: #7f7f7f\"> 'Admiration',       </span>│\n",
       "│<span style=\"color: #7f7f7f; text-decoration-color: #7f7f7f\">          </span>│<span style=\"color: #7f7f7f; text-decoration-color: #7f7f7f\">                     </span>│<span style=\"color: #7f7f7f; text-decoration-color: #7f7f7f\">                     </span>│<span style=\"color: #7f7f7f; text-decoration-color: #7f7f7f\">             </span>│<span style=\"color: #7f7f7f; text-decoration-color: #7f7f7f\">                      </span>│<span style=\"color: #7f7f7f; text-decoration-color: #7f7f7f\"> 'Femininity']       </span>│\n",
       "├──────────┼─────────────────────┼─────────────────────┼─────────────┼──────────────────────┼─────────────────────┤\n",
       "│<span style=\"color: #7f7f7f; text-decoration-color: #7f7f7f\"> 9        </span>│<span style=\"color: #7f7f7f; text-decoration-color: #7f7f7f\"> \"Endless Love\"      </span>│<span style=\"color: #7f7f7f; text-decoration-color: #7f7f7f\"> Diana Ross and      </span>│<span style=\"color: #7f7f7f; text-decoration-color: #7f7f7f\"> Romantic    </span>│<span style=\"color: #7f7f7f; text-decoration-color: #7f7f7f\"> ['Love',             </span>│<span style=\"color: #7f7f7f; text-decoration-color: #7f7f7f\"> None                </span>│\n",
       "│<span style=\"color: #7f7f7f; text-decoration-color: #7f7f7f\">          </span>│<span style=\"color: #7f7f7f; text-decoration-color: #7f7f7f\">                     </span>│<span style=\"color: #7f7f7f; text-decoration-color: #7f7f7f\"> Lionel Richie       </span>│<span style=\"color: #7f7f7f; text-decoration-color: #7f7f7f\">             </span>│<span style=\"color: #7f7f7f; text-decoration-color: #7f7f7f\"> 'Celebration']       </span>│<span style=\"color: #7f7f7f; text-decoration-color: #7f7f7f\">                     </span>│\n",
       "├──────────┼─────────────────────┼─────────────────────┼─────────────┼──────────────────────┼─────────────────────┤\n",
       "│<span style=\"color: #7f7f7f; text-decoration-color: #7f7f7f\"> 8        </span>│<span style=\"color: #7f7f7f; text-decoration-color: #7f7f7f\"> \"Every Breath You   </span>│<span style=\"color: #7f7f7f; text-decoration-color: #7f7f7f\"> The Police          </span>│<span style=\"color: #7f7f7f; text-decoration-color: #7f7f7f\"> Melancholic </span>│<span style=\"color: #7f7f7f; text-decoration-color: #7f7f7f\"> ['Love', 'Loss',     </span>│<span style=\"color: #7f7f7f; text-decoration-color: #7f7f7f\"> ['Obsession',       </span>│\n",
       "│<span style=\"color: #7f7f7f; text-decoration-color: #7f7f7f\">          </span>│<span style=\"color: #7f7f7f; text-decoration-color: #7f7f7f\"> Take\"               </span>│<span style=\"color: #7f7f7f; text-decoration-color: #7f7f7f\">                     </span>│<span style=\"color: #7f7f7f; text-decoration-color: #7f7f7f\">             </span>│<span style=\"color: #7f7f7f; text-decoration-color: #7f7f7f\"> 'Other']             </span>│<span style=\"color: #7f7f7f; text-decoration-color: #7f7f7f\"> 'Control',          </span>│\n",
       "│<span style=\"color: #7f7f7f; text-decoration-color: #7f7f7f\">          </span>│<span style=\"color: #7f7f7f; text-decoration-color: #7f7f7f\">                     </span>│<span style=\"color: #7f7f7f; text-decoration-color: #7f7f7f\">                     </span>│<span style=\"color: #7f7f7f; text-decoration-color: #7f7f7f\">             </span>│<span style=\"color: #7f7f7f; text-decoration-color: #7f7f7f\">                      </span>│<span style=\"color: #7f7f7f; text-decoration-color: #7f7f7f\"> 'Surveillance']     </span>│\n",
       "├──────────┼─────────────────────┼─────────────────────┼─────────────┼──────────────────────┼─────────────────────┤\n",
       "│<span style=\"color: #7f7f7f; text-decoration-color: #7f7f7f\"> 7        </span>│<span style=\"color: #7f7f7f; text-decoration-color: #7f7f7f\"> \"I Love Rock 'n'    </span>│<span style=\"color: #7f7f7f; text-decoration-color: #7f7f7f\"> Joan Jett and the   </span>│<span style=\"color: #7f7f7f; text-decoration-color: #7f7f7f\"> Empowering  </span>│<span style=\"color: #7f7f7f; text-decoration-color: #7f7f7f\"> ['Love',             </span>│<span style=\"color: #7f7f7f; text-decoration-color: #7f7f7f\"> ['Rebellion',       </span>│\n",
       "│<span style=\"color: #7f7f7f; text-decoration-color: #7f7f7f\">          </span>│<span style=\"color: #7f7f7f; text-decoration-color: #7f7f7f\"> Roll\"               </span>│<span style=\"color: #7f7f7f; text-decoration-color: #7f7f7f\"> Blackhearts         </span>│<span style=\"color: #7f7f7f; text-decoration-color: #7f7f7f\">             </span>│<span style=\"color: #7f7f7f; text-decoration-color: #7f7f7f\"> 'Celebration',       </span>│<span style=\"color: #7f7f7f; text-decoration-color: #7f7f7f\"> 'Nostalgia',        </span>│\n",
       "│<span style=\"color: #7f7f7f; text-decoration-color: #7f7f7f\">          </span>│<span style=\"color: #7f7f7f; text-decoration-color: #7f7f7f\">                     </span>│<span style=\"color: #7f7f7f; text-decoration-color: #7f7f7f\">                     </span>│<span style=\"color: #7f7f7f; text-decoration-color: #7f7f7f\">             </span>│<span style=\"color: #7f7f7f; text-decoration-color: #7f7f7f\"> 'Other']             </span>│<span style=\"color: #7f7f7f; text-decoration-color: #7f7f7f\"> 'Youth',            </span>│\n",
       "│<span style=\"color: #7f7f7f; text-decoration-color: #7f7f7f\">          </span>│<span style=\"color: #7f7f7f; text-decoration-color: #7f7f7f\">                     </span>│<span style=\"color: #7f7f7f; text-decoration-color: #7f7f7f\">                     </span>│<span style=\"color: #7f7f7f; text-decoration-color: #7f7f7f\">             </span>│<span style=\"color: #7f7f7f; text-decoration-color: #7f7f7f\">                      </span>│<span style=\"color: #7f7f7f; text-decoration-color: #7f7f7f\"> 'Empowerment']      </span>│\n",
       "├──────────┼─────────────────────┼─────────────────────┼─────────────┼──────────────────────┼─────────────────────┤\n",
       "│<span style=\"color: #7f7f7f; text-decoration-color: #7f7f7f\"> 7        </span>│<span style=\"color: #7f7f7f; text-decoration-color: #7f7f7f\"> \"Ebony and Ivory\"   </span>│<span style=\"color: #7f7f7f; text-decoration-color: #7f7f7f\"> Paul McCartney and  </span>│<span style=\"color: #7f7f7f; text-decoration-color: #7f7f7f\"> Hopeful     </span>│<span style=\"color: #7f7f7f; text-decoration-color: #7f7f7f\"> ['Love', 'Social     </span>│<span style=\"color: #7f7f7f; text-decoration-color: #7f7f7f\"> None                </span>│\n",
       "│<span style=\"color: #7f7f7f; text-decoration-color: #7f7f7f\">          </span>│<span style=\"color: #7f7f7f; text-decoration-color: #7f7f7f\">                     </span>│<span style=\"color: #7f7f7f; text-decoration-color: #7f7f7f\"> Stevie Wonder       </span>│<span style=\"color: #7f7f7f; text-decoration-color: #7f7f7f\">             </span>│<span style=\"color: #7f7f7f; text-decoration-color: #7f7f7f\"> issues']             </span>│<span style=\"color: #7f7f7f; text-decoration-color: #7f7f7f\">                     </span>│\n",
       "├──────────┼─────────────────────┼─────────────────────┼─────────────┼──────────────────────┼─────────────────────┤\n",
       "│<span style=\"color: #7f7f7f; text-decoration-color: #7f7f7f\"> 7        </span>│<span style=\"color: #7f7f7f; text-decoration-color: #7f7f7f\"> \"Billie Jean\"       </span>│<span style=\"color: #7f7f7f; text-decoration-color: #7f7f7f\"> Michael Jackson     </span>│<span style=\"color: #7f7f7f; text-decoration-color: #7f7f7f\"> Melancholic </span>│<span style=\"color: #7f7f7f; text-decoration-color: #7f7f7f\"> ['Loss', 'Struggle', </span>│<span style=\"color: #7f7f7f; text-decoration-color: #7f7f7f\"> ['Identity',        </span>│\n",
       "│<span style=\"color: #7f7f7f; text-decoration-color: #7f7f7f\">          </span>│<span style=\"color: #7f7f7f; text-decoration-color: #7f7f7f\">                     </span>│<span style=\"color: #7f7f7f; text-decoration-color: #7f7f7f\">                     </span>│<span style=\"color: #7f7f7f; text-decoration-color: #7f7f7f\">             </span>│<span style=\"color: #7f7f7f; text-decoration-color: #7f7f7f\"> 'Other']             </span>│<span style=\"color: #7f7f7f; text-decoration-color: #7f7f7f\"> 'Fame',             </span>│\n",
       "│<span style=\"color: #7f7f7f; text-decoration-color: #7f7f7f\">          </span>│<span style=\"color: #7f7f7f; text-decoration-color: #7f7f7f\">                     </span>│<span style=\"color: #7f7f7f; text-decoration-color: #7f7f7f\">                     </span>│<span style=\"color: #7f7f7f; text-decoration-color: #7f7f7f\">             </span>│<span style=\"color: #7f7f7f; text-decoration-color: #7f7f7f\">                      </span>│<span style=\"color: #7f7f7f; text-decoration-color: #7f7f7f\"> 'Deception',        </span>│\n",
       "│<span style=\"color: #7f7f7f; text-decoration-color: #7f7f7f\">          </span>│<span style=\"color: #7f7f7f; text-decoration-color: #7f7f7f\">                     </span>│<span style=\"color: #7f7f7f; text-decoration-color: #7f7f7f\">                     </span>│<span style=\"color: #7f7f7f; text-decoration-color: #7f7f7f\">             </span>│<span style=\"color: #7f7f7f; text-decoration-color: #7f7f7f\">                      </span>│<span style=\"color: #7f7f7f; text-decoration-color: #7f7f7f\"> 'Paranoia']         </span>│\n",
       "├──────────┼─────────────────────┼─────────────────────┼─────────────┼──────────────────────┼─────────────────────┤\n",
       "│<span style=\"color: #7f7f7f; text-decoration-color: #7f7f7f\"> 6        </span>│<span style=\"color: #7f7f7f; text-decoration-color: #7f7f7f\"> \"Call Me\"           </span>│<span style=\"color: #7f7f7f; text-decoration-color: #7f7f7f\"> Blondie             </span>│<span style=\"color: #7f7f7f; text-decoration-color: #7f7f7f\"> Empowering  </span>│<span style=\"color: #7f7f7f; text-decoration-color: #7f7f7f\"> ['Love',             </span>│<span style=\"color: #7f7f7f; text-decoration-color: #7f7f7f\"> None                </span>│\n",
       "│<span style=\"color: #7f7f7f; text-decoration-color: #7f7f7f\">          </span>│<span style=\"color: #7f7f7f; text-decoration-color: #7f7f7f\">                     </span>│<span style=\"color: #7f7f7f; text-decoration-color: #7f7f7f\">                     </span>│<span style=\"color: #7f7f7f; text-decoration-color: #7f7f7f\">             </span>│<span style=\"color: #7f7f7f; text-decoration-color: #7f7f7f\"> 'Celebration']       </span>│<span style=\"color: #7f7f7f; text-decoration-color: #7f7f7f\">                     </span>│\n",
       "├──────────┼─────────────────────┼─────────────────────┼─────────────┼──────────────────────┼─────────────────────┤\n",
       "│<span style=\"color: #7f7f7f; text-decoration-color: #7f7f7f\"> 6        </span>│<span style=\"color: #7f7f7f; text-decoration-color: #7f7f7f\"> \"Lady\"              </span>│<span style=\"color: #7f7f7f; text-decoration-color: #7f7f7f\"> Kenny Rogers        </span>│<span style=\"color: #7f7f7f; text-decoration-color: #7f7f7f\"> Romantic    </span>│<span style=\"color: #7f7f7f; text-decoration-color: #7f7f7f\"> ['Love']             </span>│<span style=\"color: #7f7f7f; text-decoration-color: #7f7f7f\"> None                </span>│\n",
       "├──────────┼─────────────────────┼─────────────────────┼─────────────┼──────────────────────┼─────────────────────┤\n",
       "│<span style=\"color: #7f7f7f; text-decoration-color: #7f7f7f\"> 6        </span>│<span style=\"color: #7f7f7f; text-decoration-color: #7f7f7f\"> \"Centerfold\"        </span>│<span style=\"color: #7f7f7f; text-decoration-color: #7f7f7f\"> The J. Geils Band   </span>│<span style=\"color: #7f7f7f; text-decoration-color: #7f7f7f\"> Nostalgic   </span>│<span style=\"color: #7f7f7f; text-decoration-color: #7f7f7f\"> ['Love', 'Loss',     </span>│<span style=\"color: #7f7f7f; text-decoration-color: #7f7f7f\"> ['Nostalgia',       </span>│\n",
       "│<span style=\"color: #7f7f7f; text-decoration-color: #7f7f7f\">          </span>│<span style=\"color: #7f7f7f; text-decoration-color: #7f7f7f\">                     </span>│<span style=\"color: #7f7f7f; text-decoration-color: #7f7f7f\">                     </span>│<span style=\"color: #7f7f7f; text-decoration-color: #7f7f7f\">             </span>│<span style=\"color: #7f7f7f; text-decoration-color: #7f7f7f\"> 'Other']             </span>│<span style=\"color: #7f7f7f; text-decoration-color: #7f7f7f\"> 'Innocence',        </span>│\n",
       "│<span style=\"color: #7f7f7f; text-decoration-color: #7f7f7f\">          </span>│<span style=\"color: #7f7f7f; text-decoration-color: #7f7f7f\">                     </span>│<span style=\"color: #7f7f7f; text-decoration-color: #7f7f7f\">                     </span>│<span style=\"color: #7f7f7f; text-decoration-color: #7f7f7f\">             </span>│<span style=\"color: #7f7f7f; text-decoration-color: #7f7f7f\">                      </span>│<span style=\"color: #7f7f7f; text-decoration-color: #7f7f7f\"> 'Surprise']         </span>│\n",
       "├──────────┼─────────────────────┼─────────────────────┼─────────────┼──────────────────────┼─────────────────────┤\n",
       "│<span style=\"color: #7f7f7f; text-decoration-color: #7f7f7f\"> 6        </span>│<span style=\"color: #7f7f7f; text-decoration-color: #7f7f7f\"> \"Eye of the Tiger\"  </span>│<span style=\"color: #7f7f7f; text-decoration-color: #7f7f7f\"> Survivor            </span>│<span style=\"color: #7f7f7f; text-decoration-color: #7f7f7f\"> Empowering  </span>│<span style=\"color: #7f7f7f; text-decoration-color: #7f7f7f\"> ['Struggle']         </span>│<span style=\"color: #7f7f7f; text-decoration-color: #7f7f7f\"> None                </span>│\n",
       "├──────────┼─────────────────────┼─────────────────────┼─────────────┼──────────────────────┼─────────────────────┤\n",
       "│<span style=\"color: #7f7f7f; text-decoration-color: #7f7f7f\"> 6        </span>│<span style=\"color: #7f7f7f; text-decoration-color: #7f7f7f\"> \"Flashdance... What </span>│<span style=\"color: #7f7f7f; text-decoration-color: #7f7f7f\"> Irene Cara          </span>│<span style=\"color: #7f7f7f; text-decoration-color: #7f7f7f\"> Empowering  </span>│<span style=\"color: #7f7f7f; text-decoration-color: #7f7f7f\"> ['Struggle',         </span>│<span style=\"color: #7f7f7f; text-decoration-color: #7f7f7f\"> None                </span>│\n",
       "│<span style=\"color: #7f7f7f; text-decoration-color: #7f7f7f\">          </span>│<span style=\"color: #7f7f7f; text-decoration-color: #7f7f7f\"> a Feeling\"          </span>│<span style=\"color: #7f7f7f; text-decoration-color: #7f7f7f\">                     </span>│<span style=\"color: #7f7f7f; text-decoration-color: #7f7f7f\">             </span>│<span style=\"color: #7f7f7f; text-decoration-color: #7f7f7f\"> 'Celebration']       </span>│<span style=\"color: #7f7f7f; text-decoration-color: #7f7f7f\">                     </span>│\n",
       "├──────────┼─────────────────────┼─────────────────────┼─────────────┼──────────────────────┼─────────────────────┤\n",
       "│<span style=\"color: #7f7f7f; text-decoration-color: #7f7f7f\"> 6        </span>│<span style=\"color: #7f7f7f; text-decoration-color: #7f7f7f\"> \"Say, Say, Say\"     </span>│<span style=\"color: #7f7f7f; text-decoration-color: #7f7f7f\"> Paul McCartney and  </span>│<span style=\"color: #7f7f7f; text-decoration-color: #7f7f7f\"> Romantic    </span>│<span style=\"color: #7f7f7f; text-decoration-color: #7f7f7f\"> ['Love', 'Struggle'] </span>│<span style=\"color: #7f7f7f; text-decoration-color: #7f7f7f\"> None                </span>│\n",
       "│<span style=\"color: #7f7f7f; text-decoration-color: #7f7f7f\">          </span>│<span style=\"color: #7f7f7f; text-decoration-color: #7f7f7f\">                     </span>│<span style=\"color: #7f7f7f; text-decoration-color: #7f7f7f\"> Michael Jackson     </span>│<span style=\"color: #7f7f7f; text-decoration-color: #7f7f7f\">             </span>│<span style=\"color: #7f7f7f; text-decoration-color: #7f7f7f\">                      </span>│<span style=\"color: #7f7f7f; text-decoration-color: #7f7f7f\">                     </span>│\n",
       "├──────────┼─────────────────────┼─────────────────────┼─────────────┼──────────────────────┼─────────────────────┤\n",
       "│<span style=\"color: #7f7f7f; text-decoration-color: #7f7f7f\"> 6        </span>│<span style=\"color: #7f7f7f; text-decoration-color: #7f7f7f\"> \"Like a Virgin\"     </span>│<span style=\"color: #7f7f7f; text-decoration-color: #7f7f7f\"> Madonna             </span>│<span style=\"color: #7f7f7f; text-decoration-color: #7f7f7f\"> Romantic    </span>│<span style=\"color: #7f7f7f; text-decoration-color: #7f7f7f\"> ['Love',             </span>│<span style=\"color: #7f7f7f; text-decoration-color: #7f7f7f\"> None                </span>│\n",
       "│<span style=\"color: #7f7f7f; text-decoration-color: #7f7f7f\">          </span>│<span style=\"color: #7f7f7f; text-decoration-color: #7f7f7f\">                     </span>│<span style=\"color: #7f7f7f; text-decoration-color: #7f7f7f\">                     </span>│<span style=\"color: #7f7f7f; text-decoration-color: #7f7f7f\">             </span>│<span style=\"color: #7f7f7f; text-decoration-color: #7f7f7f\"> 'Celebration']       </span>│<span style=\"color: #7f7f7f; text-decoration-color: #7f7f7f\">                     </span>│\n",
       "└──────────┴─────────────────────┴─────────────────────┴─────────────┴──────────────────────┴─────────────────────┘\n",
       "</pre>\n"
      ],
      "text/plain": [
       "┏━━━━━━━━━━┳━━━━━━━━━━━━━━━━━━━━━┳━━━━━━━━━━━━━━━━━━━━━┳━━━━━━━━━━━━━┳━━━━━━━━━━━━━━━━━━━━━━┳━━━━━━━━━━━━━━━━━━━━━┓\n",
       "┃\u001b[1;35m \u001b[0m\u001b[1;35mscenario\u001b[0m\u001b[1;35m \u001b[0m┃\u001b[1;35m \u001b[0m\u001b[1;35mscenario           \u001b[0m\u001b[1;35m \u001b[0m┃\u001b[1;35m \u001b[0m\u001b[1;35mscenario           \u001b[0m\u001b[1;35m \u001b[0m┃\u001b[1;35m \u001b[0m\u001b[1;35manswer     \u001b[0m\u001b[1;35m \u001b[0m┃\u001b[1;35m \u001b[0m\u001b[1;35manswer              \u001b[0m\u001b[1;35m \u001b[0m┃\u001b[1;35m \u001b[0m\u001b[1;35manswer             \u001b[0m\u001b[1;35m \u001b[0m┃\n",
       "┃\u001b[1;35m \u001b[0m\u001b[1;35m.weeks  \u001b[0m\u001b[1;35m \u001b[0m┃\u001b[1;35m \u001b[0m\u001b[1;35m.song              \u001b[0m\u001b[1;35m \u001b[0m┃\u001b[1;35m \u001b[0m\u001b[1;35m.artists           \u001b[0m\u001b[1;35m \u001b[0m┃\u001b[1;35m \u001b[0m\u001b[1;35m.sentiment \u001b[0m\u001b[1;35m \u001b[0m┃\u001b[1;35m \u001b[0m\u001b[1;35m.themes             \u001b[0m\u001b[1;35m \u001b[0m┃\u001b[1;35m \u001b[0m\u001b[1;35m.other_themes      \u001b[0m\u001b[1;35m \u001b[0m┃\n",
       "┡━━━━━━━━━━╇━━━━━━━━━━━━━━━━━━━━━╇━━━━━━━━━━━━━━━━━━━━━╇━━━━━━━━━━━━━╇━━━━━━━━━━━━━━━━━━━━━━╇━━━━━━━━━━━━━━━━━━━━━┩\n",
       "│\u001b[2m \u001b[0m\u001b[2m10      \u001b[0m\u001b[2m \u001b[0m│\u001b[2m \u001b[0m\u001b[2m\"Physical\"         \u001b[0m\u001b[2m \u001b[0m│\u001b[2m \u001b[0m\u001b[2mOlivia Newton-John \u001b[0m\u001b[2m \u001b[0m│\u001b[2m \u001b[0m\u001b[2mEmpowering \u001b[0m\u001b[2m \u001b[0m│\u001b[2m \u001b[0m\u001b[2m['Love',            \u001b[0m\u001b[2m \u001b[0m│\u001b[2m \u001b[0m\u001b[2m['Empowerment',    \u001b[0m\u001b[2m \u001b[0m│\n",
       "│\u001b[2m          \u001b[0m│\u001b[2m                     \u001b[0m│\u001b[2m                     \u001b[0m│\u001b[2m             \u001b[0m│\u001b[2m \u001b[0m\u001b[2m'Celebration',      \u001b[0m\u001b[2m \u001b[0m│\u001b[2m \u001b[0m\u001b[2m'Desire',          \u001b[0m\u001b[2m \u001b[0m│\n",
       "│\u001b[2m          \u001b[0m│\u001b[2m                     \u001b[0m│\u001b[2m                     \u001b[0m│\u001b[2m             \u001b[0m│\u001b[2m \u001b[0m\u001b[2m'Other']            \u001b[0m\u001b[2m \u001b[0m│\u001b[2m \u001b[0m\u001b[2m'Self-expression'] \u001b[0m\u001b[2m \u001b[0m│\n",
       "├──────────┼─────────────────────┼─────────────────────┼─────────────┼──────────────────────┼─────────────────────┤\n",
       "│\u001b[2m \u001b[0m\u001b[2m9       \u001b[0m\u001b[2m \u001b[0m│\u001b[2m \u001b[0m\u001b[2m\"Bette Davis Eyes\" \u001b[0m\u001b[2m \u001b[0m│\u001b[2m \u001b[0m\u001b[2mKim Carnes         \u001b[0m\u001b[2m \u001b[0m│\u001b[2m \u001b[0m\u001b[2mNostalgic  \u001b[0m\u001b[2m \u001b[0m│\u001b[2m \u001b[0m\u001b[2m['Love', 'Other']   \u001b[0m\u001b[2m \u001b[0m│\u001b[2m \u001b[0m\u001b[2m['Nostalgia',      \u001b[0m\u001b[2m \u001b[0m│\n",
       "│\u001b[2m          \u001b[0m│\u001b[2m                     \u001b[0m│\u001b[2m                     \u001b[0m│\u001b[2m             \u001b[0m│\u001b[2m                      \u001b[0m│\u001b[2m \u001b[0m\u001b[2m'Admiration',      \u001b[0m\u001b[2m \u001b[0m│\n",
       "│\u001b[2m          \u001b[0m│\u001b[2m                     \u001b[0m│\u001b[2m                     \u001b[0m│\u001b[2m             \u001b[0m│\u001b[2m                      \u001b[0m│\u001b[2m \u001b[0m\u001b[2m'Femininity']      \u001b[0m\u001b[2m \u001b[0m│\n",
       "├──────────┼─────────────────────┼─────────────────────┼─────────────┼──────────────────────┼─────────────────────┤\n",
       "│\u001b[2m \u001b[0m\u001b[2m9       \u001b[0m\u001b[2m \u001b[0m│\u001b[2m \u001b[0m\u001b[2m\"Endless Love\"     \u001b[0m\u001b[2m \u001b[0m│\u001b[2m \u001b[0m\u001b[2mDiana Ross and     \u001b[0m\u001b[2m \u001b[0m│\u001b[2m \u001b[0m\u001b[2mRomantic   \u001b[0m\u001b[2m \u001b[0m│\u001b[2m \u001b[0m\u001b[2m['Love',            \u001b[0m\u001b[2m \u001b[0m│\u001b[2m \u001b[0m\u001b[2mNone               \u001b[0m\u001b[2m \u001b[0m│\n",
       "│\u001b[2m          \u001b[0m│\u001b[2m                     \u001b[0m│\u001b[2m \u001b[0m\u001b[2mLionel Richie      \u001b[0m\u001b[2m \u001b[0m│\u001b[2m             \u001b[0m│\u001b[2m \u001b[0m\u001b[2m'Celebration']      \u001b[0m\u001b[2m \u001b[0m│\u001b[2m                     \u001b[0m│\n",
       "├──────────┼─────────────────────┼─────────────────────┼─────────────┼──────────────────────┼─────────────────────┤\n",
       "│\u001b[2m \u001b[0m\u001b[2m8       \u001b[0m\u001b[2m \u001b[0m│\u001b[2m \u001b[0m\u001b[2m\"Every Breath You  \u001b[0m\u001b[2m \u001b[0m│\u001b[2m \u001b[0m\u001b[2mThe Police         \u001b[0m\u001b[2m \u001b[0m│\u001b[2m \u001b[0m\u001b[2mMelancholic\u001b[0m\u001b[2m \u001b[0m│\u001b[2m \u001b[0m\u001b[2m['Love', 'Loss',    \u001b[0m\u001b[2m \u001b[0m│\u001b[2m \u001b[0m\u001b[2m['Obsession',      \u001b[0m\u001b[2m \u001b[0m│\n",
       "│\u001b[2m          \u001b[0m│\u001b[2m \u001b[0m\u001b[2mTake\"              \u001b[0m\u001b[2m \u001b[0m│\u001b[2m                     \u001b[0m│\u001b[2m             \u001b[0m│\u001b[2m \u001b[0m\u001b[2m'Other']            \u001b[0m\u001b[2m \u001b[0m│\u001b[2m \u001b[0m\u001b[2m'Control',         \u001b[0m\u001b[2m \u001b[0m│\n",
       "│\u001b[2m          \u001b[0m│\u001b[2m                     \u001b[0m│\u001b[2m                     \u001b[0m│\u001b[2m             \u001b[0m│\u001b[2m                      \u001b[0m│\u001b[2m \u001b[0m\u001b[2m'Surveillance']    \u001b[0m\u001b[2m \u001b[0m│\n",
       "├──────────┼─────────────────────┼─────────────────────┼─────────────┼──────────────────────┼─────────────────────┤\n",
       "│\u001b[2m \u001b[0m\u001b[2m7       \u001b[0m\u001b[2m \u001b[0m│\u001b[2m \u001b[0m\u001b[2m\"I Love Rock 'n'   \u001b[0m\u001b[2m \u001b[0m│\u001b[2m \u001b[0m\u001b[2mJoan Jett and the  \u001b[0m\u001b[2m \u001b[0m│\u001b[2m \u001b[0m\u001b[2mEmpowering \u001b[0m\u001b[2m \u001b[0m│\u001b[2m \u001b[0m\u001b[2m['Love',            \u001b[0m\u001b[2m \u001b[0m│\u001b[2m \u001b[0m\u001b[2m['Rebellion',      \u001b[0m\u001b[2m \u001b[0m│\n",
       "│\u001b[2m          \u001b[0m│\u001b[2m \u001b[0m\u001b[2mRoll\"              \u001b[0m\u001b[2m \u001b[0m│\u001b[2m \u001b[0m\u001b[2mBlackhearts        \u001b[0m\u001b[2m \u001b[0m│\u001b[2m             \u001b[0m│\u001b[2m \u001b[0m\u001b[2m'Celebration',      \u001b[0m\u001b[2m \u001b[0m│\u001b[2m \u001b[0m\u001b[2m'Nostalgia',       \u001b[0m\u001b[2m \u001b[0m│\n",
       "│\u001b[2m          \u001b[0m│\u001b[2m                     \u001b[0m│\u001b[2m                     \u001b[0m│\u001b[2m             \u001b[0m│\u001b[2m \u001b[0m\u001b[2m'Other']            \u001b[0m\u001b[2m \u001b[0m│\u001b[2m \u001b[0m\u001b[2m'Youth',           \u001b[0m\u001b[2m \u001b[0m│\n",
       "│\u001b[2m          \u001b[0m│\u001b[2m                     \u001b[0m│\u001b[2m                     \u001b[0m│\u001b[2m             \u001b[0m│\u001b[2m                      \u001b[0m│\u001b[2m \u001b[0m\u001b[2m'Empowerment']     \u001b[0m\u001b[2m \u001b[0m│\n",
       "├──────────┼─────────────────────┼─────────────────────┼─────────────┼──────────────────────┼─────────────────────┤\n",
       "│\u001b[2m \u001b[0m\u001b[2m7       \u001b[0m\u001b[2m \u001b[0m│\u001b[2m \u001b[0m\u001b[2m\"Ebony and Ivory\"  \u001b[0m\u001b[2m \u001b[0m│\u001b[2m \u001b[0m\u001b[2mPaul McCartney and \u001b[0m\u001b[2m \u001b[0m│\u001b[2m \u001b[0m\u001b[2mHopeful    \u001b[0m\u001b[2m \u001b[0m│\u001b[2m \u001b[0m\u001b[2m['Love', 'Social    \u001b[0m\u001b[2m \u001b[0m│\u001b[2m \u001b[0m\u001b[2mNone               \u001b[0m\u001b[2m \u001b[0m│\n",
       "│\u001b[2m          \u001b[0m│\u001b[2m                     \u001b[0m│\u001b[2m \u001b[0m\u001b[2mStevie Wonder      \u001b[0m\u001b[2m \u001b[0m│\u001b[2m             \u001b[0m│\u001b[2m \u001b[0m\u001b[2missues']            \u001b[0m\u001b[2m \u001b[0m│\u001b[2m                     \u001b[0m│\n",
       "├──────────┼─────────────────────┼─────────────────────┼─────────────┼──────────────────────┼─────────────────────┤\n",
       "│\u001b[2m \u001b[0m\u001b[2m7       \u001b[0m\u001b[2m \u001b[0m│\u001b[2m \u001b[0m\u001b[2m\"Billie Jean\"      \u001b[0m\u001b[2m \u001b[0m│\u001b[2m \u001b[0m\u001b[2mMichael Jackson    \u001b[0m\u001b[2m \u001b[0m│\u001b[2m \u001b[0m\u001b[2mMelancholic\u001b[0m\u001b[2m \u001b[0m│\u001b[2m \u001b[0m\u001b[2m['Loss', 'Struggle',\u001b[0m\u001b[2m \u001b[0m│\u001b[2m \u001b[0m\u001b[2m['Identity',       \u001b[0m\u001b[2m \u001b[0m│\n",
       "│\u001b[2m          \u001b[0m│\u001b[2m                     \u001b[0m│\u001b[2m                     \u001b[0m│\u001b[2m             \u001b[0m│\u001b[2m \u001b[0m\u001b[2m'Other']            \u001b[0m\u001b[2m \u001b[0m│\u001b[2m \u001b[0m\u001b[2m'Fame',            \u001b[0m\u001b[2m \u001b[0m│\n",
       "│\u001b[2m          \u001b[0m│\u001b[2m                     \u001b[0m│\u001b[2m                     \u001b[0m│\u001b[2m             \u001b[0m│\u001b[2m                      \u001b[0m│\u001b[2m \u001b[0m\u001b[2m'Deception',       \u001b[0m\u001b[2m \u001b[0m│\n",
       "│\u001b[2m          \u001b[0m│\u001b[2m                     \u001b[0m│\u001b[2m                     \u001b[0m│\u001b[2m             \u001b[0m│\u001b[2m                      \u001b[0m│\u001b[2m \u001b[0m\u001b[2m'Paranoia']        \u001b[0m\u001b[2m \u001b[0m│\n",
       "├──────────┼─────────────────────┼─────────────────────┼─────────────┼──────────────────────┼─────────────────────┤\n",
       "│\u001b[2m \u001b[0m\u001b[2m6       \u001b[0m\u001b[2m \u001b[0m│\u001b[2m \u001b[0m\u001b[2m\"Call Me\"          \u001b[0m\u001b[2m \u001b[0m│\u001b[2m \u001b[0m\u001b[2mBlondie            \u001b[0m\u001b[2m \u001b[0m│\u001b[2m \u001b[0m\u001b[2mEmpowering \u001b[0m\u001b[2m \u001b[0m│\u001b[2m \u001b[0m\u001b[2m['Love',            \u001b[0m\u001b[2m \u001b[0m│\u001b[2m \u001b[0m\u001b[2mNone               \u001b[0m\u001b[2m \u001b[0m│\n",
       "│\u001b[2m          \u001b[0m│\u001b[2m                     \u001b[0m│\u001b[2m                     \u001b[0m│\u001b[2m             \u001b[0m│\u001b[2m \u001b[0m\u001b[2m'Celebration']      \u001b[0m\u001b[2m \u001b[0m│\u001b[2m                     \u001b[0m│\n",
       "├──────────┼─────────────────────┼─────────────────────┼─────────────┼──────────────────────┼─────────────────────┤\n",
       "│\u001b[2m \u001b[0m\u001b[2m6       \u001b[0m\u001b[2m \u001b[0m│\u001b[2m \u001b[0m\u001b[2m\"Lady\"             \u001b[0m\u001b[2m \u001b[0m│\u001b[2m \u001b[0m\u001b[2mKenny Rogers       \u001b[0m\u001b[2m \u001b[0m│\u001b[2m \u001b[0m\u001b[2mRomantic   \u001b[0m\u001b[2m \u001b[0m│\u001b[2m \u001b[0m\u001b[2m['Love']            \u001b[0m\u001b[2m \u001b[0m│\u001b[2m \u001b[0m\u001b[2mNone               \u001b[0m\u001b[2m \u001b[0m│\n",
       "├──────────┼─────────────────────┼─────────────────────┼─────────────┼──────────────────────┼─────────────────────┤\n",
       "│\u001b[2m \u001b[0m\u001b[2m6       \u001b[0m\u001b[2m \u001b[0m│\u001b[2m \u001b[0m\u001b[2m\"Centerfold\"       \u001b[0m\u001b[2m \u001b[0m│\u001b[2m \u001b[0m\u001b[2mThe J. Geils Band  \u001b[0m\u001b[2m \u001b[0m│\u001b[2m \u001b[0m\u001b[2mNostalgic  \u001b[0m\u001b[2m \u001b[0m│\u001b[2m \u001b[0m\u001b[2m['Love', 'Loss',    \u001b[0m\u001b[2m \u001b[0m│\u001b[2m \u001b[0m\u001b[2m['Nostalgia',      \u001b[0m\u001b[2m \u001b[0m│\n",
       "│\u001b[2m          \u001b[0m│\u001b[2m                     \u001b[0m│\u001b[2m                     \u001b[0m│\u001b[2m             \u001b[0m│\u001b[2m \u001b[0m\u001b[2m'Other']            \u001b[0m\u001b[2m \u001b[0m│\u001b[2m \u001b[0m\u001b[2m'Innocence',       \u001b[0m\u001b[2m \u001b[0m│\n",
       "│\u001b[2m          \u001b[0m│\u001b[2m                     \u001b[0m│\u001b[2m                     \u001b[0m│\u001b[2m             \u001b[0m│\u001b[2m                      \u001b[0m│\u001b[2m \u001b[0m\u001b[2m'Surprise']        \u001b[0m\u001b[2m \u001b[0m│\n",
       "├──────────┼─────────────────────┼─────────────────────┼─────────────┼──────────────────────┼─────────────────────┤\n",
       "│\u001b[2m \u001b[0m\u001b[2m6       \u001b[0m\u001b[2m \u001b[0m│\u001b[2m \u001b[0m\u001b[2m\"Eye of the Tiger\" \u001b[0m\u001b[2m \u001b[0m│\u001b[2m \u001b[0m\u001b[2mSurvivor           \u001b[0m\u001b[2m \u001b[0m│\u001b[2m \u001b[0m\u001b[2mEmpowering \u001b[0m\u001b[2m \u001b[0m│\u001b[2m \u001b[0m\u001b[2m['Struggle']        \u001b[0m\u001b[2m \u001b[0m│\u001b[2m \u001b[0m\u001b[2mNone               \u001b[0m\u001b[2m \u001b[0m│\n",
       "├──────────┼─────────────────────┼─────────────────────┼─────────────┼──────────────────────┼─────────────────────┤\n",
       "│\u001b[2m \u001b[0m\u001b[2m6       \u001b[0m\u001b[2m \u001b[0m│\u001b[2m \u001b[0m\u001b[2m\"Flashdance... What\u001b[0m\u001b[2m \u001b[0m│\u001b[2m \u001b[0m\u001b[2mIrene Cara         \u001b[0m\u001b[2m \u001b[0m│\u001b[2m \u001b[0m\u001b[2mEmpowering \u001b[0m\u001b[2m \u001b[0m│\u001b[2m \u001b[0m\u001b[2m['Struggle',        \u001b[0m\u001b[2m \u001b[0m│\u001b[2m \u001b[0m\u001b[2mNone               \u001b[0m\u001b[2m \u001b[0m│\n",
       "│\u001b[2m          \u001b[0m│\u001b[2m \u001b[0m\u001b[2ma Feeling\"         \u001b[0m\u001b[2m \u001b[0m│\u001b[2m                     \u001b[0m│\u001b[2m             \u001b[0m│\u001b[2m \u001b[0m\u001b[2m'Celebration']      \u001b[0m\u001b[2m \u001b[0m│\u001b[2m                     \u001b[0m│\n",
       "├──────────┼─────────────────────┼─────────────────────┼─────────────┼──────────────────────┼─────────────────────┤\n",
       "│\u001b[2m \u001b[0m\u001b[2m6       \u001b[0m\u001b[2m \u001b[0m│\u001b[2m \u001b[0m\u001b[2m\"Say, Say, Say\"    \u001b[0m\u001b[2m \u001b[0m│\u001b[2m \u001b[0m\u001b[2mPaul McCartney and \u001b[0m\u001b[2m \u001b[0m│\u001b[2m \u001b[0m\u001b[2mRomantic   \u001b[0m\u001b[2m \u001b[0m│\u001b[2m \u001b[0m\u001b[2m['Love', 'Struggle']\u001b[0m\u001b[2m \u001b[0m│\u001b[2m \u001b[0m\u001b[2mNone               \u001b[0m\u001b[2m \u001b[0m│\n",
       "│\u001b[2m          \u001b[0m│\u001b[2m                     \u001b[0m│\u001b[2m \u001b[0m\u001b[2mMichael Jackson    \u001b[0m\u001b[2m \u001b[0m│\u001b[2m             \u001b[0m│\u001b[2m                      \u001b[0m│\u001b[2m                     \u001b[0m│\n",
       "├──────────┼─────────────────────┼─────────────────────┼─────────────┼──────────────────────┼─────────────────────┤\n",
       "│\u001b[2m \u001b[0m\u001b[2m6       \u001b[0m\u001b[2m \u001b[0m│\u001b[2m \u001b[0m\u001b[2m\"Like a Virgin\"    \u001b[0m\u001b[2m \u001b[0m│\u001b[2m \u001b[0m\u001b[2mMadonna            \u001b[0m\u001b[2m \u001b[0m│\u001b[2m \u001b[0m\u001b[2mRomantic   \u001b[0m\u001b[2m \u001b[0m│\u001b[2m \u001b[0m\u001b[2m['Love',            \u001b[0m\u001b[2m \u001b[0m│\u001b[2m \u001b[0m\u001b[2mNone               \u001b[0m\u001b[2m \u001b[0m│\n",
       "│\u001b[2m          \u001b[0m│\u001b[2m                     \u001b[0m│\u001b[2m                     \u001b[0m│\u001b[2m             \u001b[0m│\u001b[2m \u001b[0m\u001b[2m'Celebration']      \u001b[0m\u001b[2m \u001b[0m│\u001b[2m                     \u001b[0m│\n",
       "└──────────┴─────────────────────┴─────────────────────┴─────────────┴──────────────────────┴─────────────────────┘\n"
      ]
     },
     "metadata": {},
     "output_type": "display_data"
    }
   ],
   "source": [
    "results.sort_by(\"weeks\", reverse=True).select(\"weeks\", \"song\", \"artists\", \"sentiment\", \"themes\", \"other_themes\").print(format=\"rich\")"
   ]
  },
  {
   "cell_type": "markdown",
   "id": "0fdb9da9-ddb7-495d-bb1a-7e42962c5916",
   "metadata": {
    "editable": true,
    "slideshow": {
     "slide_type": ""
    },
    "tags": []
   },
   "source": [
    "### Posting a notebook to the Coop\n",
    "Here we post the contents of this notebook to the Coop for anyone to access:"
   ]
  },
  {
   "cell_type": "code",
   "execution_count": 18,
   "id": "026de29e-1ed9-4f4d-bb72-480949dd5346",
   "metadata": {
    "editable": true,
    "slideshow": {
     "slide_type": ""
    },
    "tags": [
     "skip-execution"
    ]
   },
   "outputs": [],
   "source": [
    "from edsl import Notebook"
   ]
  },
  {
   "cell_type": "code",
   "execution_count": 19,
   "id": "4293fd0c-d7ab-4b0b-b604-e3fadb965033",
   "metadata": {
    "editable": true,
    "slideshow": {
     "slide_type": ""
    },
    "tags": [
     "skip-execution"
    ]
   },
   "outputs": [],
   "source": [
    "n = Notebook(path = \"scenarios_filestore_example.ipynb\")"
   ]
  },
  {
   "cell_type": "code",
   "execution_count": 20,
   "id": "b7698b07-9e43-4beb-abc5-c9764750eabf",
   "metadata": {
    "editable": true,
    "slideshow": {
     "slide_type": ""
    },
    "tags": [
     "skip-execution"
    ]
   },
   "outputs": [
    {
     "data": {
      "text/plain": [
       "{'description': 'Example code for using data files for scenarios via file store and Coop',\n",
       " 'object_type': 'notebook',\n",
       " 'url': 'https://www.expectedparrot.com/content/e28e5502-523b-4d50-ba14-90018e74d081',\n",
       " 'uuid': 'e28e5502-523b-4d50-ba14-90018e74d081',\n",
       " 'version': '0.1.37.dev1',\n",
       " 'visibility': 'public'}"
      ]
     },
     "execution_count": 20,
     "metadata": {},
     "output_type": "execute_result"
    }
   ],
   "source": [
    "n.push(description = \"Example code for using data files for scenarios via file store and Coop\", visibility = \"public\")"
   ]
  },
  {
   "cell_type": "markdown",
   "id": "f1060fe4-7ca2-4afe-85ed-e639da7f4c40",
   "metadata": {
    "editable": true,
    "slideshow": {
     "slide_type": ""
    },
    "tags": []
   },
   "source": [
    "To update an object:"
   ]
  },
  {
   "cell_type": "code",
   "execution_count": 21,
   "id": "15ba638f-eb63-4d70-a6fa-c43aa486bdb1",
   "metadata": {
    "editable": true,
    "slideshow": {
     "slide_type": ""
    },
    "tags": [
     "skip-execution"
    ]
   },
   "outputs": [],
   "source": [
    "n = Notebook(path = \"scenarios_filestore_example.ipynb\") # resave"
   ]
  },
  {
   "cell_type": "code",
   "execution_count": 22,
   "id": "29ba613e-7245-4500-bbd0-8f138e973953",
   "metadata": {
    "editable": true,
    "slideshow": {
     "slide_type": ""
    },
    "tags": [
     "skip-execution"
    ]
   },
   "outputs": [
    {
     "data": {
      "text/plain": [
       "{'status': 'success'}"
      ]
     },
     "execution_count": 22,
     "metadata": {},
     "output_type": "execute_result"
    }
   ],
   "source": [
    "n.patch(uuid = \"0b0c86b4-7629-428c-8346-03d69a6a76f9\", value = n)"
   ]
  }
 ],
 "metadata": {
  "kernelspec": {
   "display_name": "Python 3 (ipykernel)",
   "language": "python",
   "name": "python3"
  },
  "language_info": {
   "codemirror_mode": {
    "name": "ipython",
    "version": 3
   },
   "file_extension": ".py",
   "mimetype": "text/x-python",
   "name": "python",
   "nbconvert_exporter": "python",
   "pygments_lexer": "ipython3",
   "version": "3.11.7"
  }
 },
 "nbformat": 4,
 "nbformat_minor": 5
}
