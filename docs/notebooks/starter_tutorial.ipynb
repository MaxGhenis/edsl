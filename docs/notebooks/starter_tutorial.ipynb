{
 "cells": [
  {
   "cell_type": "markdown",
   "id": "c20e93c0-943f-46fb-8382-ca6f1eb48810",
   "metadata": {
    "editable": true,
    "slideshow": {
     "slide_type": ""
    },
    "tags": []
   },
   "source": [
    "# Starter Tutorial\n",
    "This tutorial provides example code for basic features of [EDSL, an open-source Python library](https://pypi.org/project/edsl/) for simulating surveys, experiments and other research using AI agents and large language models.\n",
    "\n",
    "In the steps below we show how to construct and run a simple question in EDSL, and then how to design more complex surveys with AI agents and different language models.\n",
    "We also demonstrate methods for applying logic and rules to surveys, piping answers and adding data to questions, and analyzing survey results as datasets.\n",
    "\n",
    "## Technical setup\n",
    "Before running the code below, please ensure that you have completed technical steps for using EDSL:\n",
    "\n",
    "* **Download the EDSL package.** See [installation](https://docs.expectedparrot.com/en/latest/installation.html) instructions and options.\n",
    "* *Optional:* **Create a Coop account.** [Coop](https://docs.expectedparrot.com/en/latest/coop.html) is a platform for creating, storing and sharing AI-based research. [Create an account](https://www.expectedparrot.com/login) to share your EDSL surveys, results, notebooks and other work, and access special features such as hybrid human-AI surveys.\n",
    "* **Choose how to manage API keys for language models.** Decide whether you want to [manage your own API keys](https://docs.expectedparrot.com/en/latest/api_keys.html) for language models or activate [remote inference](https://docs.expectedparrot.com/en/latest/remote_inference.html) to use your Expected Parrot API key to securely access all available models at once.\n",
    "\n",
    "If you encounter any issues or have questions, please email us at info@expectedparrot.com or post a question at our [Discord channel](https://discord.com/invite/mxAYkjfy9m)."
   ]
  },
  {
   "cell_type": "markdown",
   "id": "40633ca6-c73d-4ad4-aadb-82914e74f7d8",
   "metadata": {},
   "source": [
    "## Example: Running a simple question\n",
    "EDSL comes with a [variety of question types](https://docs.expectedparrot.com/en/latest/questions.html) that we can choose from based on the form of the response that we want to get back from a model.\n",
    "To see a list of all question types:"
   ]
  },
  {
   "cell_type": "code",
   "execution_count": 1,
   "id": "b6f61057-dc99-4952-bb43-ad8563118d72",
   "metadata": {},
   "outputs": [
    {
     "name": "stdout",
     "output_type": "stream",
     "text": [
      "Variables from CSS: {'--containerHeight'}\n",
      "Formatted parameters: {'--containerHeight'}\n"
     ]
    },
    {
     "data": {
      "text/html": [
       "\n",
       "        <style>\n",
       "            :root {\n",
       "  --containerHeight: 410px;\n",
       "}\n",
       "\n",
       ".table-container {\n",
       "    height: var(--containerHeight);/*4000px */\n",
       "    width: 100%;\n",
       "    overflow: auto;  /* This enables both horizontal and vertical scrolling */\n",
       "    border: 1px solid #d4d4d4;\n",
       "    background: transparent;\n",
       "    position: relative;  /* Create stacking context for sticky header */\n",
       "}\n",
       "\n",
       ".scroll-table {\n",
       "    /* Remove width: 100% to prevent table from being constrained */\n",
       "    /* min-width: 100% ensures table takes at least full container width */\n",
       "    min-width: 100%;\n",
       "    border-collapse: separate;\n",
       "    border-spacing: 4px;\n",
       "    background: transparent;\n",
       "    table-layout: auto;  /* Allow table to size based on content */\n",
       "}\n",
       "\n",
       ".scroll-table th {\n",
       "    background: transparent;  /* Semi-transparent background to ensure text readability */\n",
       "    position: sticky;\n",
       "    top: 0;\n",
       "    z-index: 1;\n",
       "    text-align: left !important;\n",
       "    padding: 8px;\n",
       "    font-weight: bold;\n",
       "    white-space: nowrap;  /* Prevent header text from wrapping */\n",
       "    min-width: 100px;    /* Ensure minimum column width */\n",
       "    backdrop-filter: blur(8px);  /* Optional: adds extra clarity */\n",
       "}\n",
       "\n",
       ".scroll-table td {\n",
       "    padding: 8px;\n",
       "    text-align: left !important;\n",
       "    white-space: pre-wrap;\n",
       "    word-wrap: break-word;\n",
       "    vertical-align: top;\n",
       "    color: inherit;\n",
       "    border-bottom: none;\n",
       "    background: transparent;\n",
       "    min-width: 100px;    /* Match header minimum width */\n",
       "}\n",
       "\n",
       ".scroll-table tbody tr:hover {\n",
       "    background: transparent;\n",
       "}\n",
       "\n",
       "/* Additional rule to ensure header background is truly transparent */\n",
       ".scroll-table thead tr {\n",
       "    background: transparent !important;\n",
       "}\n",
       "\n",
       "/* Add shadow to indicate scrollable content */\n",
       ".table-container::after {\n",
       "    content: '';\n",
       "    position: absolute;\n",
       "    top: 0;\n",
       "    right: 0;\n",
       "    bottom: 0;\n",
       "    width: 5px;\n",
       "    background: linear-gradient(to right, transparent, rgba(242, 6, 6, 0.1));\n",
       "    pointer-events: none;\n",
       "    opacity: 0;\n",
       "    transition: opacity 0.3s;\n",
       "}\n",
       "\n",
       ".table-container:hover::after {\n",
       "    opacity: 1;\n",
       "}\n",
       "\n",
       "/* Handle Jupyter notebook specific styling */\n",
       ".jp-OutputArea-output .table-container {\n",
       "    max-width: 100%;\n",
       "    margin: 0;\n",
       "    overflow-x: auto;\n",
       "}\n",
       "        </style>\n",
       "        <div class=\"table-container\">\n",
       "            <div class=\"scroll-table-wrapper\">\n",
       "                <table class=\"scroll-table\">\n",
       "<thead>\n",
       "<tr><th>question_type  </th><th>question_class        </th><th>example_question                                                                                                                                                                                                                                                                                                                </th></tr>\n",
       "</thead>\n",
       "<tbody>\n",
       "<tr><td>checkbox       </td><td>QuestionCheckBox      </td><td>Question(&#x27;checkbox&#x27;, question_name = &quot;&quot;&quot;never_eat&quot;&quot;&quot;, question_text = &quot;&quot;&quot;Which of the following foods would you eat if you had to?&quot;&quot;&quot;, min_selections = 2, max_selections = 5, question_options = [&#x27;soggy meatpie&#x27;, &#x27;rare snails&#x27;, &#x27;mouldy bread&#x27;, &#x27;panda milk custard&#x27;, &#x27;McDonalds&#x27;], include_comment = False, use_code = True)</td></tr>\n",
       "<tr><td>extract        </td><td>QuestionExtract       </td><td>Question(&#x27;extract&#x27;, question_name = &quot;&quot;&quot;extract_name&quot;&quot;&quot;, question_text = &quot;&quot;&quot;My name is Moby Dick. I have a PhD in astrology, but I&#x27;m actually a truck driver&quot;&quot;&quot;, answer_template = {&#x27;name&#x27;: &#x27;John Doe&#x27;, &#x27;profession&#x27;: &#x27;Carpenter&#x27;})                                                                                              </td></tr>\n",
       "<tr><td>free_text      </td><td>QuestionFreeText      </td><td>Question(&#x27;free_text&#x27;, question_name = &quot;&quot;&quot;how_are_you&quot;&quot;&quot;, question_text = &quot;&quot;&quot;How are you?&quot;&quot;&quot;)                                                                                                                                                                                                                                    </td></tr>\n",
       "<tr><td>functional     </td><td>QuestionFunctional    </td><td>Question(&#x27;functional&#x27;, question_name = &quot;&quot;&quot;sum_and_multiply&quot;&quot;&quot;, question_text = &quot;&quot;&quot;Calculate the sum of the list and multiply it by the agent trait multiplier.&quot;&quot;&quot;)                                                                                                                                                              </td></tr>\n",
       "<tr><td>likert_five    </td><td>QuestionLikertFive    </td><td>Question(&#x27;likert_five&#x27;, question_name = &quot;&quot;&quot;happy_raining&quot;&quot;&quot;, question_text = &quot;&quot;&quot;I&#x27;m only happy when it rains.&quot;&quot;&quot;, question_options = [&#x27;Strongly disagree&#x27;, &#x27;Disagree&#x27;, &#x27;Neutral&#x27;, &#x27;Agree&#x27;, &#x27;Strongly agree&#x27;])                                                                                                                   </td></tr>\n",
       "<tr><td>linear_scale   </td><td>QuestionLinearScale   </td><td>Question(&#x27;linear_scale&#x27;, question_name = &quot;&quot;&quot;ice_cream&quot;&quot;&quot;, question_text = &quot;&quot;&quot;How much do you like ice cream?&quot;&quot;&quot;, question_options = [1, 2, 3, 4, 5], option_labels = {1: &#x27;I hate it&#x27;, 5: &#x27;I love it&#x27;})                                                                                                                          </td></tr>\n",
       "<tr><td>list           </td><td>QuestionList          </td><td>Question(&#x27;list&#x27;, question_name = &quot;&quot;&quot;list_of_foods&quot;&quot;&quot;, question_text = &quot;&quot;&quot;What are your favorite foods?&quot;&quot;&quot;, max_list_items = None)                                                                                                                                                                                               </td></tr>\n",
       "<tr><td>multiple_choice</td><td>QuestionMultipleChoice</td><td>Question(&#x27;multiple_choice&#x27;, question_name = &quot;&quot;&quot;how_feeling&quot;&quot;&quot;, question_text = &quot;&quot;&quot;How are you?&quot;&quot;&quot;, question_options = [&#x27;Good&#x27;, &#x27;Great&#x27;, &#x27;OK&#x27;, &#x27;Bad&#x27;], include_comment = False)                                                                                                                                                  </td></tr>\n",
       "<tr><td>numerical      </td><td>QuestionNumerical     </td><td>Question(&#x27;numerical&#x27;, question_name = &quot;&quot;&quot;age&quot;&quot;&quot;, question_text = &quot;&quot;&quot;You are a 45 year old man. How old are you in years?&quot;&quot;&quot;, min_value = 0, max_value = 86.7, include_comment = False)                                                                                                                                          </td></tr>\n",
       "<tr><td>rank           </td><td>QuestionRank          </td><td>Question(&#x27;rank&#x27;, question_name = &quot;&quot;&quot;rank_foods&quot;&quot;&quot;, question_text = &quot;&quot;&quot;Rank your favorite foods.&quot;&quot;&quot;, question_options = [&#x27;Pizza&#x27;, &#x27;Pasta&#x27;, &#x27;Salad&#x27;, &#x27;Soup&#x27;], num_selections = 2)                                                                                                                                                 </td></tr>\n",
       "<tr><td>top_k          </td><td>QuestionTopK          </td><td>Question(&#x27;top_k&#x27;, question_name = &quot;&quot;&quot;two_fruits&quot;&quot;&quot;, question_text = &quot;&quot;&quot;Which of the following fruits do you prefer?&quot;&quot;&quot;, min_selections = 2, max_selections = 2, question_options = [&#x27;apple&#x27;, &#x27;banana&#x27;, &#x27;carrot&#x27;, &#x27;durian&#x27;], use_code = True)                                                                                    </td></tr>\n",
       "<tr><td>yes_no         </td><td>QuestionYesNo         </td><td>Question(&#x27;yes_no&#x27;, question_name = &quot;&quot;&quot;is_it_equal&quot;&quot;&quot;, question_text = &quot;&quot;&quot;Is 5 + 5 equal to 11?&quot;&quot;&quot;, question_options = [&#x27;No&#x27;, &#x27;Yes&#x27;])                                                                                                                                                                                            </td></tr>\n",
       "</tbody>\n",
       "</table>\n",
       "            </div>\n",
       "        </div>\n",
       "        "
      ],
      "text/plain": [
       "Dataset([{'question_type': ['checkbox', 'extract', 'free_text', 'functional', 'likert_five', 'linear_scale', 'list', 'multiple_choice', 'numerical', 'rank', 'top_k', 'yes_no']}, {'question_class': ['QuestionCheckBox', 'QuestionExtract', 'QuestionFreeText', 'QuestionFunctional', 'QuestionLikertFive', 'QuestionLinearScale', 'QuestionList', 'QuestionMultipleChoice', 'QuestionNumerical', 'QuestionRank', 'QuestionTopK', 'QuestionYesNo']}, {'example_question': ['Question(\\'checkbox\\', question_name = \"\"\"never_eat\"\"\", question_text = \"\"\"Which of the following foods would you eat if you had to?\"\"\", min_selections = 2, max_selections = 5, question_options = [\\'soggy meatpie\\', \\'rare snails\\', \\'mouldy bread\\', \\'panda milk custard\\', \\'McDonalds\\'], include_comment = False, use_code = True)', 'Question(\\'extract\\', question_name = \"\"\"extract_name\"\"\", question_text = \"\"\"My name is Moby Dick. I have a PhD in astrology, but I\\'m actually a truck driver\"\"\", answer_template = {\\'name\\': \\'John Doe\\', \\'profession\\': \\'Carpenter\\'})', 'Question(\\'free_text\\', question_name = \"\"\"how_are_you\"\"\", question_text = \"\"\"How are you?\"\"\")', 'Question(\\'functional\\', question_name = \"\"\"sum_and_multiply\"\"\", question_text = \"\"\"Calculate the sum of the list and multiply it by the agent trait multiplier.\"\"\")', 'Question(\\'likert_five\\', question_name = \"\"\"happy_raining\"\"\", question_text = \"\"\"I\\'m only happy when it rains.\"\"\", question_options = [\\'Strongly disagree\\', \\'Disagree\\', \\'Neutral\\', \\'Agree\\', \\'Strongly agree\\'])', 'Question(\\'linear_scale\\', question_name = \"\"\"ice_cream\"\"\", question_text = \"\"\"How much do you like ice cream?\"\"\", question_options = [1, 2, 3, 4, 5], option_labels = {1: \\'I hate it\\', 5: \\'I love it\\'})', 'Question(\\'list\\', question_name = \"\"\"list_of_foods\"\"\", question_text = \"\"\"What are your favorite foods?\"\"\", max_list_items = None)', 'Question(\\'multiple_choice\\', question_name = \"\"\"how_feeling\"\"\", question_text = \"\"\"How are you?\"\"\", question_options = [\\'Good\\', \\'Great\\', \\'OK\\', \\'Bad\\'], include_comment = False)', 'Question(\\'numerical\\', question_name = \"\"\"age\"\"\", question_text = \"\"\"You are a 45 year old man. How old are you in years?\"\"\", min_value = 0, max_value = 86.7, include_comment = False)', 'Question(\\'rank\\', question_name = \"\"\"rank_foods\"\"\", question_text = \"\"\"Rank your favorite foods.\"\"\", question_options = [\\'Pizza\\', \\'Pasta\\', \\'Salad\\', \\'Soup\\'], num_selections = 2)', 'Question(\\'top_k\\', question_name = \"\"\"two_fruits\"\"\", question_text = \"\"\"Which of the following fruits do you prefer?\"\"\", min_selections = 2, max_selections = 2, question_options = [\\'apple\\', \\'banana\\', \\'carrot\\', \\'durian\\'], use_code = True)', 'Question(\\'yes_no\\', question_name = \"\"\"is_it_equal\"\"\", question_text = \"\"\"Is 5 + 5 equal to 11?\"\"\", question_options = [\\'No\\', \\'Yes\\'])']}])"
      ]
     },
     "execution_count": 1,
     "metadata": {},
     "output_type": "execute_result"
    }
   ],
   "source": [
    "from edsl import Question\n",
    "\n",
    "Question.available()"
   ]
  },
  {
   "cell_type": "markdown",
   "id": "185af5d1-beba-40cd-8c29-2a212fcc4e5a",
   "metadata": {},
   "source": [
    "We can see the components of a particular question type by importing the question type class and calling the `example` method on it:"
   ]
  },
  {
   "cell_type": "code",
   "execution_count": 2,
   "id": "572f6614-de5b-44a1-a5fc-81eba360282f",
   "metadata": {},
   "outputs": [
    {
     "data": {
      "text/html": [
       "<table>\n",
       "<thead>\n",
       "<tr><th>keys            </th><th>values                        </th></tr>\n",
       "</thead>\n",
       "<tbody>\n",
       "<tr><td>question_name   </td><td>how_feeling                   </td></tr>\n",
       "<tr><td>question_text   </td><td>How are you?                  </td></tr>\n",
       "<tr><td>question_options</td><td>[&#x27;Good&#x27;, &#x27;Great&#x27;, &#x27;OK&#x27;, &#x27;Bad&#x27;]</td></tr>\n",
       "<tr><td>include_comment </td><td>False                         </td></tr>\n",
       "<tr><td>question_type   </td><td>multiple_choice               </td></tr>\n",
       "</tbody>\n",
       "</table>"
      ],
      "text/plain": [
       "Question('multiple_choice', question_name = \"\"\"how_feeling\"\"\", question_text = \"\"\"How are you?\"\"\", question_options = ['Good', 'Great', 'OK', 'Bad'], include_comment = False)"
      ]
     },
     "execution_count": 2,
     "metadata": {},
     "output_type": "execute_result"
    }
   ],
   "source": [
    "from edsl import (\n",
    "    # QuestionCheckBox,\n",
    "    # QuestionExtract,\n",
    "    # QuestionFreeText,\n",
    "    # QuestionFunctional,\n",
    "    # QuestionLikertFive,\n",
    "    # QuestionLinearScale,\n",
    "    # QuestionList,\n",
    "    QuestionMultipleChoice,\n",
    "    # QuestionNumerical,\n",
    "    # QuestionRank,\n",
    "    # QuestionTopK,\n",
    "    # QuestionYesNo\n",
    ")\n",
    "\n",
    "q = QuestionMultipleChoice.example() # substitute any question type class name\n",
    "q"
   ]
  },
  {
   "cell_type": "markdown",
   "id": "34704ae3-b643-4a6e-a721-b6208c19adda",
   "metadata": {},
   "source": [
    "Here we create a simple multiple choice question:"
   ]
  },
  {
   "cell_type": "code",
   "execution_count": 3,
   "id": "baa14cb3-d81f-47dc-96c8-90fba2a1460a",
   "metadata": {},
   "outputs": [],
   "source": [
    "from edsl import QuestionMultipleChoice\n",
    "\n",
    "q = QuestionMultipleChoice(\n",
    "    question_name = \"smallest_prime\",\n",
    "    question_text = \"Which is the smallest prime number?\",\n",
    "    question_options = [0, 1, 2, 3]\n",
    ")"
   ]
  },
  {
   "cell_type": "markdown",
   "id": "235fc4a0-0cd4-4930-92b9-e39734a70a2c",
   "metadata": {},
   "source": [
    "We can administer it to a language model by calling the `run` method:"
   ]
  },
  {
   "cell_type": "code",
   "execution_count": 5,
   "id": "883a4e22-9e58-4a78-872d-4c71ef705fab",
   "metadata": {},
   "outputs": [
    {
     "name": "stdout",
     "output_type": "stream",
     "text": [
      "Warning: Found unused parameters: {'--containerHeight'}\n"
     ]
    },
    {
     "data": {
      "text/html": [
       "\n",
       "        <style>\n",
       "            :root {\n",
       "  --headerColor: blue;\n",
       "}\n",
       "\n",
       ".table-container {\n",
       "    height: 400px;\n",
       "    width: 100%;\n",
       "    overflow: auto;  /* This enables both horizontal and vertical scrolling */\n",
       "    border: 1px solid #d4d4d4;\n",
       "    background: transparent;\n",
       "    position: relative;  /* Create stacking context for sticky header */\n",
       "}\n",
       "\n",
       ".scroll-table {\n",
       "    /* Remove width: 100% to prevent table from being constrained */\n",
       "    /* min-width: 100% ensures table takes at least full container width */\n",
       "    min-width: 100%;\n",
       "    border-collapse: separate;\n",
       "    border-spacing: 4px;\n",
       "    background: transparent;\n",
       "    table-layout: auto;  /* Allow table to size based on content */\n",
       "}\n",
       "\n",
       ".scroll-table th {\n",
       "    background: transparent;  /* Semi-transparent background to ensure text readability */\n",
       "    position: sticky;\n",
       "    top: 0;\n",
       "    z-index: 1;\n",
       "    text-align: left !important;\n",
       "    padding: 8px;\n",
       "    font-weight: bold;\n",
       "    white-space: nowrap;  /* Prevent header text from wrapping */\n",
       "    min-width: 100px;    /* Ensure minimum column width */\n",
       "    backdrop-filter: blur(8px);  /* Optional: adds extra clarity */\n",
       "    color: var(--headerColor);\n",
       "}\n",
       "\n",
       ".scroll-table td {\n",
       "    padding: 8px;\n",
       "    text-align: left !important;\n",
       "    white-space: pre-wrap;\n",
       "    word-wrap: break-word;\n",
       "    vertical-align: top;\n",
       "    color: inherit;\n",
       "    border-bottom: none;\n",
       "    background: transparent;\n",
       "    min-width: 100px;    /* Match header minimum width */\n",
       "}\n",
       "\n",
       ".scroll-table tbody tr:hover {\n",
       "    background: transparent;\n",
       "}\n",
       "\n",
       "/* Additional rule to ensure header background is truly transparent */\n",
       ".scroll-table thead tr {\n",
       "    background: transparent !important;\n",
       "}\n",
       "\n",
       "/* Add shadow to indicate scrollable content */\n",
       ".table-container::after {\n",
       "    content: '';\n",
       "    position: absolute;\n",
       "    top: 0;\n",
       "    right: 0;\n",
       "    bottom: 0;\n",
       "    width: 5px;\n",
       "    background: linear-gradient(to right, transparent, rgba(242, 6, 6, 0.1));\n",
       "    pointer-events: none;\n",
       "    opacity: 0;\n",
       "    transition: opacity 0.3s;\n",
       "}\n",
       "\n",
       ".table-container:hover::after {\n",
       "    opacity: 1;\n",
       "}\n",
       "\n",
       "/* Handle Jupyter notebook specific styling */\n",
       ".jp-OutputArea-output .table-container {\n",
       "    max-width: 100%;\n",
       "    margin: 0;\n",
       "    overflow-x: auto;\n",
       "}\n",
       "        </style>\n",
       "        <div class=\"table-container\">\n",
       "            <div class=\"scroll-table-wrapper\">\n",
       "                <table class=\"scroll-table\">\n",
       "<thead>\n",
       "<tr><th>how_feeling_yesterday  </th><th>how_feeling  </th><th>period   </th><th>status  </th><th>agent_name  </th><th>agent_instruction                                                          </th><th>logprobs  </th><th style=\"text-align: right;\">  top_logprobs</th><th style=\"text-align: right;\">  frequency_penalty</th><th>model  </th><th style=\"text-align: right;\">  max_tokens</th><th style=\"text-align: right;\">  presence_penalty</th><th style=\"text-align: right;\">  top_p</th><th style=\"text-align: right;\">  temperature</th><th>how_feeling_user_prompt  </th><th>how_feeling_yesterday_user_prompt  </th><th>how_feeling_yesterday_system_prompt  </th><th>how_feeling_system_prompt  </th><th>how_feeling_cost  </th><th>how_feeling_one_usd_buys  </th><th>how_feeling_raw_model_response  </th><th>how_feeling_yesterday_cost  </th><th>how_feeling_yesterday_one_usd_buys  </th><th>how_feeling_yesterday_raw_model_response  </th><th style=\"text-align: right;\">  iteration</th><th>how_feeling_yesterday_question_text         </th><th>how_feeling_question_text     </th><th>how_feeling_yesterday_question_options  </th><th>how_feeling_question_options       </th><th>how_feeling_question_type  </th><th>how_feeling_yesterday_question_type  </th><th>how_feeling_comment                         </th><th>how_feeling_yesterday_comment               </th><th>how_feeling_generated_tokens  </th><th>how_feeling_yesterday_generated_tokens  </th></tr>\n",
       "</thead>\n",
       "<tbody>\n",
       "<tr><td>Great                  </td><td>OK           </td><td>morning  </td><td>Joyful  </td><td>Agent_2     </td><td>You are answering questions as if you were a human. Do not break character.</td><td>False     </td><td style=\"text-align: right;\">             3</td><td style=\"text-align: right;\">                  0</td><td>gpt-4o </td><td style=\"text-align: right;\">        1000</td><td style=\"text-align: right;\">                 0</td><td style=\"text-align: right;\">      1</td><td style=\"text-align: right;\">          0.5</td><td>NA                       </td><td>NA                                 </td><td>NA                                   </td><td>NA                         </td><td>                  </td><td>NA                        </td><td>Not Applicable                  </td><td>                            </td><td>NA                                  </td><td>Not Applicable                            </td><td style=\"text-align: right;\">          0</td><td>How were you feeling yesterday {{ period }}?</td><td>How are you this {{ period }}?</td><td>[&#x27;Good&#x27;, &#x27;Great&#x27;, &#x27;OK&#x27;, &#x27;Terrible&#x27;]     </td><td>[&#x27;Good&#x27;, &#x27;Great&#x27;, &#x27;OK&#x27;, &#x27;Terrible&#x27;]</td><td>multiple_choice            </td><td>multiple_choice                      </td><td>This is a real survey response from a human.</td><td>This is a real survey response from a human.</td><td>Not Applicable                </td><td>Not Applicable                          </td></tr>\n",
       "<tr><td>Good                   </td><td>Great        </td><td>afternoon</td><td>Joyful  </td><td>Agent_2     </td><td>You are answering questions as if you were a human. Do not break character.</td><td>False     </td><td style=\"text-align: right;\">             3</td><td style=\"text-align: right;\">                  0</td><td>gpt-4o </td><td style=\"text-align: right;\">        1000</td><td style=\"text-align: right;\">                 0</td><td style=\"text-align: right;\">      1</td><td style=\"text-align: right;\">          0.5</td><td>NA                       </td><td>NA                                 </td><td>NA                                   </td><td>NA                         </td><td>                  </td><td>NA                        </td><td>Not Applicable                  </td><td>                            </td><td>NA                                  </td><td>Not Applicable                            </td><td style=\"text-align: right;\">          0</td><td>How were you feeling yesterday {{ period }}?</td><td>How are you this {{ period }}?</td><td>[&#x27;Good&#x27;, &#x27;Great&#x27;, &#x27;OK&#x27;, &#x27;Terrible&#x27;]     </td><td>[&#x27;Good&#x27;, &#x27;Great&#x27;, &#x27;OK&#x27;, &#x27;Terrible&#x27;]</td><td>multiple_choice            </td><td>multiple_choice                      </td><td>This is a real survey response from a human.</td><td>This is a real survey response from a human.</td><td>Not Applicable                </td><td>Not Applicable                          </td></tr>\n",
       "<tr><td>OK                     </td><td>Terrible     </td><td>morning  </td><td>Sad     </td><td>Agent_3     </td><td>You are answering questions as if you were a human. Do not break character.</td><td>False     </td><td style=\"text-align: right;\">             3</td><td style=\"text-align: right;\">                  0</td><td>gpt-4o </td><td style=\"text-align: right;\">        1000</td><td style=\"text-align: right;\">                 0</td><td style=\"text-align: right;\">      1</td><td style=\"text-align: right;\">          0.5</td><td>NA                       </td><td>NA                                 </td><td>NA                                   </td><td>NA                         </td><td>                  </td><td>NA                        </td><td>Not Applicable                  </td><td>                            </td><td>NA                                  </td><td>Not Applicable                            </td><td style=\"text-align: right;\">          0</td><td>How were you feeling yesterday {{ period }}?</td><td>How are you this {{ period }}?</td><td>[&#x27;Good&#x27;, &#x27;Great&#x27;, &#x27;OK&#x27;, &#x27;Terrible&#x27;]     </td><td>[&#x27;Good&#x27;, &#x27;Great&#x27;, &#x27;OK&#x27;, &#x27;Terrible&#x27;]</td><td>multiple_choice            </td><td>multiple_choice                      </td><td>This is a real survey response from a human.</td><td>This is a real survey response from a human.</td><td>Not Applicable                </td><td>Not Applicable                          </td></tr>\n",
       "<tr><td>Terrible               </td><td>OK           </td><td>afternoon</td><td>Sad     </td><td>Agent_3     </td><td>You are answering questions as if you were a human. Do not break character.</td><td>False     </td><td style=\"text-align: right;\">             3</td><td style=\"text-align: right;\">                  0</td><td>gpt-4o </td><td style=\"text-align: right;\">        1000</td><td style=\"text-align: right;\">                 0</td><td style=\"text-align: right;\">      1</td><td style=\"text-align: right;\">          0.5</td><td>NA                       </td><td>NA                                 </td><td>NA                                   </td><td>NA                         </td><td>                  </td><td>NA                        </td><td>Not Applicable                  </td><td>                            </td><td>NA                                  </td><td>Not Applicable                            </td><td style=\"text-align: right;\">          0</td><td>How were you feeling yesterday {{ period }}?</td><td>How are you this {{ period }}?</td><td>[&#x27;Good&#x27;, &#x27;Great&#x27;, &#x27;OK&#x27;, &#x27;Terrible&#x27;]     </td><td>[&#x27;Good&#x27;, &#x27;Great&#x27;, &#x27;OK&#x27;, &#x27;Terrible&#x27;]</td><td>multiple_choice            </td><td>multiple_choice                      </td><td>This is a real survey response from a human.</td><td>This is a real survey response from a human.</td><td>Not Applicable                </td><td>Not Applicable                          </td></tr>\n",
       "</tbody>\n",
       "</table>\n",
       "            </div>\n",
       "        </div>\n",
       "        "
      ],
      "text/plain": [
       "how_feeling_yesterday    how_feeling    period     status    agent_name    agent_instruction                                                            logprobs      top_logprobs    frequency_penalty  model      max_tokens    presence_penalty    top_p    temperature  how_feeling_user_prompt    how_feeling_yesterday_user_prompt    how_feeling_yesterday_system_prompt    how_feeling_system_prompt    how_feeling_cost    how_feeling_one_usd_buys    how_feeling_raw_model_response    how_feeling_yesterday_cost    how_feeling_yesterday_one_usd_buys    how_feeling_yesterday_raw_model_response      iteration  how_feeling_yesterday_question_text           how_feeling_question_text       how_feeling_yesterday_question_options    how_feeling_question_options         how_feeling_question_type    how_feeling_yesterday_question_type    how_feeling_comment                           how_feeling_yesterday_comment                 how_feeling_generated_tokens    how_feeling_yesterday_generated_tokens\n",
       "-----------------------  -------------  ---------  --------  ------------  ---------------------------------------------------------------------------  ----------  --------------  -------------------  -------  ------------  ------------------  -------  -------------  -------------------------  -----------------------------------  -------------------------------------  ---------------------------  ------------------  --------------------------  --------------------------------  ----------------------------  ------------------------------------  ------------------------------------------  -----------  --------------------------------------------  ------------------------------  ----------------------------------------  -----------------------------------  ---------------------------  -------------------------------------  --------------------------------------------  --------------------------------------------  ------------------------------  ----------------------------------------\n",
       "Great                    OK             morning    Joyful    Agent_2       You are answering questions as if you were a human. Do not break character.  False                    3                    0  gpt-4o           1000                   0        1            0.5  NA                         NA                                   NA                                     NA                                               NA                          Not Applicable                                                  NA                                    Not Applicable                                        0  How were you feeling yesterday {{ period }}?  How are you this {{ period }}?  ['Good', 'Great', 'OK', 'Terrible']       ['Good', 'Great', 'OK', 'Terrible']  multiple_choice              multiple_choice                        This is a real survey response from a human.  This is a real survey response from a human.  Not Applicable                  Not Applicable\n",
       "Good                     Great          afternoon  Joyful    Agent_2       You are answering questions as if you were a human. Do not break character.  False                    3                    0  gpt-4o           1000                   0        1            0.5  NA                         NA                                   NA                                     NA                                               NA                          Not Applicable                                                  NA                                    Not Applicable                                        0  How were you feeling yesterday {{ period }}?  How are you this {{ period }}?  ['Good', 'Great', 'OK', 'Terrible']       ['Good', 'Great', 'OK', 'Terrible']  multiple_choice              multiple_choice                        This is a real survey response from a human.  This is a real survey response from a human.  Not Applicable                  Not Applicable\n",
       "OK                       Terrible       morning    Sad       Agent_3       You are answering questions as if you were a human. Do not break character.  False                    3                    0  gpt-4o           1000                   0        1            0.5  NA                         NA                                   NA                                     NA                                               NA                          Not Applicable                                                  NA                                    Not Applicable                                        0  How were you feeling yesterday {{ period }}?  How are you this {{ period }}?  ['Good', 'Great', 'OK', 'Terrible']       ['Good', 'Great', 'OK', 'Terrible']  multiple_choice              multiple_choice                        This is a real survey response from a human.  This is a real survey response from a human.  Not Applicable                  Not Applicable\n",
       "Terrible                 OK             afternoon  Sad       Agent_3       You are answering questions as if you were a human. Do not break character.  False                    3                    0  gpt-4o           1000                   0        1            0.5  NA                         NA                                   NA                                     NA                                               NA                          Not Applicable                                                  NA                                    Not Applicable                                        0  How were you feeling yesterday {{ period }}?  How are you this {{ period }}?  ['Good', 'Great', 'OK', 'Terrible']       ['Good', 'Great', 'OK', 'Terrible']  multiple_choice              multiple_choice                        This is a real survey response from a human.  This is a real survey response from a human.  Not Applicable                  Not Applicable"
      ]
     },
     "execution_count": 5,
     "metadata": {},
     "output_type": "execute_result"
    }
   ],
   "source": [
    "from edsl import Results\n",
    "Results.example().table()"
   ]
  },
  {
   "cell_type": "code",
   "execution_count": 4,
   "id": "b314a755-4209-4223-9b99-041ef2774871",
   "metadata": {},
   "outputs": [
    {
     "name": "stdout",
     "output_type": "stream",
     "text": [
      "Remote inference activated. Sending job to server...\n",
      "Job sent to server. (Job uuid=e7a24e03-8b77-4b1f-95a9-e168206c2d22).\n",
      "Job completed and Results stored on Coop: https://www.expectedparrot.com/content/a484a0fd-a180-4ea9-8f0b-bbe362628022.\n"
     ]
    }
   ],
   "source": [
    "results = q.run()"
   ]
  },
  {
   "cell_type": "markdown",
   "id": "9c9e78cb-54f2-4227-b69c-c916b3222b8d",
   "metadata": {},
   "source": [
    "This generates a dataset of `Results` that we can readily access with [built-in methods for analysis](https://docs.expectedparrot.com/en/latest/results.html). \n",
    "Here we inspect the response, together with the model that was used and the model's \"comment\" about its response--a field that is automatically added to all question types other than free text:"
   ]
  },
  {
   "cell_type": "code",
   "execution_count": 5,
   "id": "cce12c20-180a-46ed-bc54-4305999eeeb0",
   "metadata": {},
   "outputs": [
    {
     "data": {
      "text/html": [
       "\n",
       "        <style>\n",
       "            .table-container {\n",
       "    height: var(--container-height);\n",
       "    width: 100%;\n",
       "    overflow: auto;  /* This enables both horizontal and vertical scrolling */\n",
       "    border: 1px solid #d4d4d4;\n",
       "    background: transparent;\n",
       "    position: relative;  /* Create stacking context for sticky header */\n",
       "}\n",
       "\n",
       ".scroll-table {\n",
       "    /* Remove width: 100% to prevent table from being constrained */\n",
       "    /* min-width: 100% ensures table takes at least full container width */\n",
       "    min-width: 100%;\n",
       "    border-collapse: separate;\n",
       "    border-spacing: 4px;\n",
       "    background: transparent;\n",
       "    table-layout: auto;  /* Allow table to size based on content */\n",
       "}\n",
       "\n",
       ".scroll-table th {\n",
       "    /* background: var(--jp-cell-editor-background, var(--vscode-editor-background)) !important */\n",
       "    background: transparent;  /* Semi-transparent background to ensure text readability */\n",
       "    position: sticky;\n",
       "    top: 0;\n",
       "    z-index: 1;\n",
       "    text-align: left !important;\n",
       "    padding: 8px;\n",
       "    font-weight: bold;\n",
       "    white-space: nowrap;  /* Prevent header text from wrapping */\n",
       "    min-width: 100px;    /* Ensure minimum column width */\n",
       "    backdrop-filter: blur(8px);  /* Optional: adds extra clarity */\n",
       "}\n",
       "\n",
       ".scroll-table td {\n",
       "    padding: 8px;\n",
       "    text-align: left !important;\n",
       "    white-space: pre-wrap;\n",
       "    word-wrap: break-word;\n",
       "    vertical-align: top;\n",
       "    color: inherit;\n",
       "    border-bottom: none;\n",
       "    background: transparent;\n",
       "    min-width: 100px;    /* Match header minimum width */\n",
       "}\n",
       "\n",
       ".scroll-table tbody tr:hover {\n",
       "    background: transparent;\n",
       "}\n",
       "\n",
       "/* Additional rule to ensure header background is truly transparent */\n",
       ".scroll-table thead tr {\n",
       "    background: transparent !important;\n",
       "}\n",
       "\n",
       "/* Add shadow to indicate scrollable content */\n",
       ".table-container::after {\n",
       "    content: '';\n",
       "    position: absolute;\n",
       "    top: 0;\n",
       "    right: 0;\n",
       "    bottom: 0;\n",
       "    width: 5px;\n",
       "    background: linear-gradient(to right, transparent, rgba(242, 6, 6, 0.1));\n",
       "    pointer-events: none;\n",
       "    opacity: 0;\n",
       "    transition: opacity 0.3s;\n",
       "}\n",
       "\n",
       ".table-container:hover::after {\n",
       "    opacity: 1;\n",
       "}\n",
       "\n",
       "/* Handle Jupyter notebook specific styling */\n",
       ".jp-OutputArea-output .table-container {\n",
       "    max-width: 100%;\n",
       "    margin: 0;\n",
       "    overflow-x: auto;\n",
       "}\n",
       "        </style>\n",
       "        <div class=\"table-container\" style=\"--container-height: 80px;\">\n",
       "            <div class=\"scroll-table-wrapper\">\n",
       "                <table class=\"scroll-table\">\n",
       "<thead>\n",
       "<tr><th>model.model  </th><th style=\"text-align: right;\">  answer.smallest_prime</th><th>comment.smallest_prime_comment                                                                          </th></tr>\n",
       "</thead>\n",
       "<tbody>\n",
       "<tr><td>gpt-4o       </td><td style=\"text-align: right;\">                      2</td><td>2 is the smallest prime number because it is greater than 1 and has no divisors other than 1 and itself.</td></tr>\n",
       "</tbody>\n",
       "</table>\n",
       "            </div>\n",
       "        </div>\n",
       "        "
      ],
      "text/plain": [
       "model.model      answer.smallest_prime  comment.smallest_prime_comment\n",
       "-------------  -----------------------  --------------------------------------------------------------------------------------------------------\n",
       "gpt-4o                               2  2 is the smallest prime number because it is greater than 1 and has no divisors other than 1 and itself."
      ]
     },
     "execution_count": 5,
     "metadata": {},
     "output_type": "execute_result"
    }
   ],
   "source": [
    "results.select(\"model\", \"smallest_prime\", \"smallest_prime_comment\").print(format=\"rich\")"
   ]
  },
  {
   "cell_type": "markdown",
   "id": "bbb61d06-ad9f-42c5-856b-2a6000989eb4",
   "metadata": {},
   "source": [
    "The `Results` also include information about the question, model parameters, prompts, generated tokens and raw responses. \n",
    "To see a list of all the components:"
   ]
  },
  {
   "cell_type": "code",
   "execution_count": 6,
   "id": "34340f65-9453-46a2-a0de-92e7c2d52a80",
   "metadata": {},
   "outputs": [
    {
     "data": {
      "text/plain": [
       "['agent.agent_instruction',\n",
       " 'agent.agent_name',\n",
       " 'answer.smallest_prime',\n",
       " 'comment.smallest_prime_comment',\n",
       " 'generated_tokens.smallest_prime_generated_tokens',\n",
       " 'iteration.iteration',\n",
       " 'model.frequency_penalty',\n",
       " 'model.logprobs',\n",
       " 'model.max_tokens',\n",
       " 'model.model',\n",
       " 'model.presence_penalty',\n",
       " 'model.temperature',\n",
       " 'model.top_logprobs',\n",
       " 'model.top_p',\n",
       " 'prompt.smallest_prime_system_prompt',\n",
       " 'prompt.smallest_prime_user_prompt',\n",
       " 'question_options.smallest_prime_question_options',\n",
       " 'question_text.smallest_prime_question_text',\n",
       " 'question_type.smallest_prime_question_type',\n",
       " 'raw_model_response.smallest_prime_cost',\n",
       " 'raw_model_response.smallest_prime_one_usd_buys',\n",
       " 'raw_model_response.smallest_prime_raw_model_response']"
      ]
     },
     "execution_count": 6,
     "metadata": {},
     "output_type": "execute_result"
    }
   ],
   "source": [
    "results.columns"
   ]
  },
  {
   "cell_type": "markdown",
   "id": "9cfe1860-7f6d-4b5e-932c-4f02a096d54f",
   "metadata": {},
   "source": [
    "## Example: Conducting a survey with agents and models\n",
    "In the next example we construct a more complex survey consisting of multiple questions, and design personas for AI agents to answer it.\n",
    "Then we select specific language models to generate the answers.\n",
    "\n",
    "We start by creating questions in different types and passing them to a `Survey`:"
   ]
  },
  {
   "cell_type": "code",
   "execution_count": 2,
   "id": "a3d7bec4-7f00-4007-af7b-86cd93b89e5f",
   "metadata": {
    "editable": true,
    "slideshow": {
     "slide_type": ""
    },
    "tags": []
   },
   "outputs": [],
   "source": [
    "from edsl import QuestionLinearScale, QuestionFreeText\n",
    "\n",
    "q_enjoy = QuestionLinearScale(\n",
    "    question_name = \"enjoy\",\n",
    "    question_text = \"On a scale from 1 to 5, how much do you enjoy reading?\",\n",
    "    question_options = [1, 2, 3, 4, 5],\n",
    "    option_labels = {1:\"Not at all\", 5:\"Very much\"}\n",
    ")\n",
    "\n",
    "q_favorite_place = QuestionFreeText(\n",
    "    question_name = \"favorite_place\",\n",
    "    question_text = \"Describe your favorite place for reading.\"\n",
    ")"
   ]
  },
  {
   "cell_type": "markdown",
   "id": "69ff6781-b491-4439-b84a-30bf50cdd47d",
   "metadata": {},
   "source": [
    "We construct a `Survey` by passing a list of questions:"
   ]
  },
  {
   "cell_type": "code",
   "execution_count": 3,
   "id": "3f1d6f80-1fab-4754-b4a6-f9599accfdeb",
   "metadata": {},
   "outputs": [],
   "source": [
    "from edsl import Survey\n",
    "\n",
    "survey = Survey(questions = [q_enjoy, q_favorite_place])"
   ]
  },
  {
   "cell_type": "markdown",
   "id": "01320feb-86ad-43ad-a6a0-b2b94482dff5",
   "metadata": {
    "editable": true,
    "slideshow": {
     "slide_type": ""
    },
    "tags": []
   },
   "source": [
    "### Agents\n",
    "An important feature of EDSL is the ability to create AI agents to answer questions.\n",
    "This is done by passing dictionaries of relevant \"traits\" to `Agent` objects that are used by language models to generate responses.\n",
    "Learn more about [designing agents](https://docs.expectedparrot.com/en/latest/agents.html).\n",
    "\n",
    "Here we construct several simple agent personas to use with our survey:"
   ]
  },
  {
   "cell_type": "code",
   "execution_count": 9,
   "id": "a8125cd8-f320-4dcd-8dd2-4a1a3fd5fd9a",
   "metadata": {},
   "outputs": [],
   "source": [
    "from edsl import AgentList, Agent\n",
    "\n",
    "agents = AgentList(\n",
    "    Agent(traits = {\"persona\":p}) for p in [\"artist\", \"mechanic\", \"sailor\"]\n",
    ")"
   ]
  },
  {
   "cell_type": "markdown",
   "id": "36c2db76-390e-4ac2-aef8-443ca07ababb",
   "metadata": {},
   "source": [
    "### Language models\n",
    "EDSL works with many popular large language models that we can select to use with a survey.\n",
    "This makes it easy to compare responses among models in the results that are generated.\n",
    "\n",
    "To see a current list of available models:"
   ]
  },
  {
   "cell_type": "code",
   "execution_count": 10,
   "id": "a55a4dd2-a7b7-4156-9c51-140ed7de15db",
   "metadata": {},
   "outputs": [],
   "source": [
    "from edsl import Model\n",
    "\n",
    "# Model.available() # uncomment this code and run it to see the full list of currently available models"
   ]
  },
  {
   "cell_type": "markdown",
   "id": "08673ee4-bf36-4277-88ca-820b8bd4ef69",
   "metadata": {},
   "source": [
    "To check the default model that will be used if no models are specified for a survey (e.g., as in the first example above):"
   ]
  },
  {
   "cell_type": "code",
   "execution_count": 11,
   "id": "800defdb-8d50-4dfe-ab01-f2e2ea8c02bf",
   "metadata": {},
   "outputs": [
    {
     "data": {
      "text/html": [
       "<pre><table>\n",
       "<thead>\n",
       "<tr><th>keys             </th><th>values  </th></tr>\n",
       "</thead>\n",
       "<tbody>\n",
       "<tr><td>model            </td><td>gpt-4o  </td></tr>\n",
       "<tr><td>temperature      </td><td>0.5     </td></tr>\n",
       "<tr><td>max_tokens       </td><td>1000    </td></tr>\n",
       "<tr><td>top_p            </td><td>1       </td></tr>\n",
       "<tr><td>frequency_penalty</td><td>0       </td></tr>\n",
       "<tr><td>presence_penalty </td><td>0       </td></tr>\n",
       "<tr><td>logprobs         </td><td>False   </td></tr>\n",
       "<tr><td>top_logprobs     </td><td>3       </td></tr>\n",
       "</tbody>\n",
       "</table></pre>"
      ],
      "text/plain": [
       "Model(model_name = 'gpt-4o', temperature = 0.5, max_tokens = 1000, top_p = 1, frequency_penalty = 0, presence_penalty = 0, logprobs = False, top_logprobs = 3)"
      ]
     },
     "execution_count": 11,
     "metadata": {},
     "output_type": "execute_result"
    }
   ],
   "source": [
    "Model()"
   ]
  },
  {
   "cell_type": "markdown",
   "id": "d2746b46-e526-45c0-a67d-cea66f19545d",
   "metadata": {},
   "source": [
    "(Note that the output may be different if the default model has changed since this page was last updated.)\n",
    "\n",
    "Here we select some models to use with our survey:"
   ]
  },
  {
   "cell_type": "code",
   "execution_count": 12,
   "id": "d64a20a2-3bd5-4db1-a469-711d222b3b4e",
   "metadata": {},
   "outputs": [],
   "source": [
    "from edsl import ModelList, Model\n",
    "\n",
    "models = ModelList(\n",
    "    Model(m) for m in [\"gpt-4o\", \"gemini-pro\"]\n",
    ")"
   ]
  },
  {
   "cell_type": "markdown",
   "id": "b55a23f1-405c-4554-b739-b64591566f0c",
   "metadata": {},
   "source": [
    "### Running a survey\n",
    "We add agents and models to a survey using the `by` method.\n",
    "Then we administer a survey the same way that we do an individual question, by calling the `run` method on it:"
   ]
  },
  {
   "cell_type": "code",
   "execution_count": 13,
   "id": "da64a02c-b17e-4067-92b1-3ab330f9f214",
   "metadata": {},
   "outputs": [
    {
     "name": "stdout",
     "output_type": "stream",
     "text": [
      "Remote inference activated. Sending job to server...\n",
      "Job sent to server. (Job uuid=075f3ea4-3757-4768-8c41-29849db55f6e).\n",
      "Job completed and Results stored on Coop: https://www.expectedparrot.com/content/68a06028-f623-4ab5-bcb2-e451044d8b9b.\n"
     ]
    }
   ],
   "source": [
    "results = survey.by(agents).by(models).run()"
   ]
  },
  {
   "cell_type": "code",
   "execution_count": 14,
   "id": "4dd3b76e-2c9a-4129-8927-f27f50dea1e0",
   "metadata": {},
   "outputs": [
    {
     "data": {
      "text/html": [
       "\n",
       "        <style>\n",
       "            .table-container {\n",
       "    height: var(--container-height);\n",
       "    width: 100%;\n",
       "    overflow: auto;  /* This enables both horizontal and vertical scrolling */\n",
       "    border: 1px solid #d4d4d4;\n",
       "    background: transparent;\n",
       "    position: relative;  /* Create stacking context for sticky header */\n",
       "}\n",
       "\n",
       ".scroll-table {\n",
       "    /* Remove width: 100% to prevent table from being constrained */\n",
       "    /* min-width: 100% ensures table takes at least full container width */\n",
       "    min-width: 100%;\n",
       "    border-collapse: separate;\n",
       "    border-spacing: 4px;\n",
       "    background: transparent;\n",
       "    table-layout: auto;  /* Allow table to size based on content */\n",
       "}\n",
       "\n",
       ".scroll-table th {\n",
       "    /* background: var(--jp-cell-editor-background, var(--vscode-editor-background)) !important */\n",
       "    background: transparent;  /* Semi-transparent background to ensure text readability */\n",
       "    position: sticky;\n",
       "    top: 0;\n",
       "    z-index: 1;\n",
       "    text-align: left !important;\n",
       "    padding: 8px;\n",
       "    font-weight: bold;\n",
       "    white-space: nowrap;  /* Prevent header text from wrapping */\n",
       "    min-width: 100px;    /* Ensure minimum column width */\n",
       "    backdrop-filter: blur(8px);  /* Optional: adds extra clarity */\n",
       "}\n",
       "\n",
       ".scroll-table td {\n",
       "    padding: 8px;\n",
       "    text-align: left !important;\n",
       "    white-space: pre-wrap;\n",
       "    word-wrap: break-word;\n",
       "    vertical-align: top;\n",
       "    color: inherit;\n",
       "    border-bottom: none;\n",
       "    background: transparent;\n",
       "    min-width: 100px;    /* Match header minimum width */\n",
       "}\n",
       "\n",
       ".scroll-table tbody tr:hover {\n",
       "    background: transparent;\n",
       "}\n",
       "\n",
       "/* Additional rule to ensure header background is truly transparent */\n",
       ".scroll-table thead tr {\n",
       "    background: transparent !important;\n",
       "}\n",
       "\n",
       "/* Add shadow to indicate scrollable content */\n",
       ".table-container::after {\n",
       "    content: '';\n",
       "    position: absolute;\n",
       "    top: 0;\n",
       "    right: 0;\n",
       "    bottom: 0;\n",
       "    width: 5px;\n",
       "    background: linear-gradient(to right, transparent, rgba(242, 6, 6, 0.1));\n",
       "    pointer-events: none;\n",
       "    opacity: 0;\n",
       "    transition: opacity 0.3s;\n",
       "}\n",
       "\n",
       ".table-container:hover::after {\n",
       "    opacity: 1;\n",
       "}\n",
       "\n",
       "/* Handle Jupyter notebook specific styling */\n",
       ".jp-OutputArea-output .table-container {\n",
       "    max-width: 100%;\n",
       "    margin: 0;\n",
       "    overflow-x: auto;\n",
       "}\n",
       "        </style>\n",
       "        <div class=\"table-container\" style=\"--container-height: 230px;\">\n",
       "            <div class=\"scroll-table-wrapper\">\n",
       "                <table class=\"scroll-table\">\n",
       "<thead>\n",
       "<tr><th>model.model  </th><th>agent.persona  </th><th style=\"text-align: right;\">  answer.enjoy</th><th>answer.favorite_place                                                                                                                                                                                                                                                                                                                                                                                                                                                                                                                                                                                                                                                             </th></tr>\n",
       "</thead>\n",
       "<tbody>\n",
       "<tr><td>gemini-pro   </td><td>artist         </td><td style=\"text-align: right;\">             5</td><td>In the hushed embrace of my cozy reading nook, I find solace and inspiration. It&#x27;s a haven tucked away in the corner of my home, a sanctuary where words dance and imagination takes flight.\n",
       "\n",
       "The walls are adorned with shelves that overflow with literary treasures, each spine a promise of adventure or enlightenment. A plush armchair, upholstered in soft velvet, invites me to sink into its depths and lose myself in the pages. A warm glow emanates from a vintage lamp, casting a gentle light that illuminates the words and creates a sense of intimacy.\n",
       "\n",
       "The window offers a panoramic view of the bustling city below, but the noise and chaos seem to fade away as I immerse myself in the written world. The gentle breeze carries the scent of blooming jasmine, adding a touch of sweetness to the atmosphere.\n",
       "\n",
       "In this serene retreat, I am free to escape the mundane and embark on extraordinary journeys. I become a fearless explorer, traversing uncharted territories; a passionate lover, experiencing the depths of human emotion; a wise sage, contemplating the mysteries of existence.\n",
       "\n",
       "Time seems to stand still within these hallowed walls. I can spend hours lost in the labyrinth of words, my mind wandering freely through the landscapes of fiction and the corridors of history. The worries of the world melt away, replaced by a sense of tranquility and wonder.                                                                                                                                                                                                                                                                                                                                                                                                                                                                                                                                                                                                                                                                                   </td></tr>\n",
       "<tr><td>gpt-4o       </td><td>artist         </td><td style=\"text-align: right;\">             5</td><td>My favorite place for reading is a cozy nook in my art studio. It&#x27;s tucked away in a corner with a large window that lets in plenty of natural light, perfect for painting and reading alike. I&#x27;ve filled it with soft cushions and a plush throw, making it an inviting retreat. Surrounding me are my easels and canvases, which add a sense of inspiration and creativity to the space. The walls are lined with bookshelves, filled with art books and novels, providing endless options for my reading adventures. There&#x27;s something magical about being enveloped by art while diving into the pages of a good book.                                                        </td></tr>\n",
       "<tr><td>gemini-pro   </td><td>mechanic       </td><td style=\"text-align: right;\">             5</td><td>In the hushed sanctuary of my cozy reading nook, where the world fades away and the pages come alive, I find my solace.\n",
       "\n",
       "Nestled in a secluded corner of my home, this haven is a symphony of comfort and tranquility. A plush armchair, upholstered in soft velvet, envelops me like a warm embrace. Its ample cushions cradle my weary body, inviting me to sink into a world of literary escapism.\n",
       "\n",
       "The walls are adorned with floor-to-ceiling bookshelves, their spines a vibrant tapestry of colors and textures. They hold the treasures of my literary adventures, from classic novels to contemporary thrillers. The gentle glow of a reading lamp casts a warm amber light over the pages, illuminating the words that transport me to distant lands and forgotten times.\n",
       "\n",
       "A soft throw blanket, woven with intricate patterns, lies draped over the armchair. Its cozy warmth invites me to curl up and lose myself in the written word. The air is filled with the faint scent of lavender, its calming aroma soothing my mind and preparing it for the journey ahead.\n",
       "\n",
       "Outside the window, the world unfolds in a gentle rhythm. Birdsong fills the air, creating a serene soundtrack to my reading experience. The lush greenery of the garden offers a glimpse of nature&#x27;s beauty, reminding me of the wonders that exist beyond the pages.\n",
       "\n",
       "In this sanctuary, time seems to slow down. The worries of the world melt away as I immerse myself in the stories that unfold before my eyes. The characters become my companions, their triumphs and tribulations stirring emotions within me. The pages turn effortlessly, each one a gateway to a new realm of imagination.                                                                                                                                                                                                                                                                                                                                                                                                                                                                                                                                                                                                                                                                                   </td></tr>\n",
       "<tr><td>gpt-4o       </td><td>mechanic       </td><td style=\"text-align: right;\">             2</td><td>As a mechanic, my favorite place for reading is right in the comfort of my garage. There&#x27;s something about the smell of motor oil and the sound of tools clinking that gets me in the zone. I&#x27;ve got a little corner set up with a sturdy workbench that doubles as a reading nook. I keep a couple of car manuals, repair guides, and the occasional novel stacked up there. The lighting&#x27;s good, and when the garage door is open, I get a nice breeze coming through. It&#x27;s the perfect spot to unwind after a day of working on cars, with a cup of coffee in hand and maybe some classic rock playing in the background.                                                      </td></tr>\n",
       "<tr><td>gemini-pro   </td><td>sailor         </td><td style=\"text-align: right;\">             5</td><td>In the heart of my cozy abode, where tranquility reigns and inspiration flows, lies my sanctuary for literary immersion—a haven where I lose myself in the boundless realms of the written word.\n",
       "\n",
       "As I step into this sacred space, my senses are enveloped in a symphony of comfort and calm. The walls are adorned with bookshelves that tower over me like wise old guardians, their spines whispering secrets of untold tales. The air is filled with a faint scent of vanilla and old paper, evoking a sense of nostalgia and anticipation.\n",
       "\n",
       "At the heart of this sanctuary sits an oversized armchair, upholstered in plush velvet. Its deep cushions embrace me like a warm hug, inviting me to sink into its depths and surrender to the world of imagination. A soft blanket draped over the armrest provides an extra layer of coziness, enveloping me in a cocoon of comfort.\n",
       "\n",
       "A large window frames the far wall, offering a breathtaking view of the garden beyond. As I read, my gaze often wanders to the vibrant blooms and rustling leaves, their beauty providing a soothing backdrop to my literary adventures. The gentle breeze carries the sweet fragrance of jasmine and lavender, mingling with the scent of the books to create an intoxicating aroma that stimulates my senses and enhances my reading experience.\n",
       "\n",
       "In this sanctuary, time seems to slow down as I become immersed in the pages of my chosen book. The outside world fades away, leaving only the characters, their stories, and the boundless possibilities that unfold within the covers. I am transported to distant lands, introduced to fascinating characters, and challenged by thought-provoking ideas.\n",
       "\n",
       "As I turn the pages, the words dance before my eyes, painting vivid images in my mind. I laugh with the characters, weep with them, and feel their triumphs and heartbreaks as if they were my own. The act of reading becomes a transformative experience, enriching my imagination, expanding my knowledge, and connecting me to the human experience in all its complexity and beauty.                                                                                                                                                                                                                                                                                                                                                                                                                                                                                                                                                                                                                                                                                   </td></tr>\n",
       "<tr><td>gpt-4o       </td><td>sailor         </td><td style=\"text-align: right;\">             4</td><td>Ah, my favorite place for reading has to be aboard a ship, out on the open sea. There&#x27;s nothing quite like the gentle sway of the vessel and the sound of waves lapping against the hull to set the perfect backdrop for diving into a good book. I love settling into a cozy nook on the deck, where I can feel the salty breeze on my face and catch the occasional call of a seagull. Sometimes I&#x27;ll find a quiet spot in the galley or the captain&#x27;s quarters if the weather&#x27;s a bit rough. The ocean&#x27;s vastness makes any story feel grander, and there&#x27;s a certain peace in knowing that while you&#x27;re lost in a book, you&#x27;re also part of an endless adventure on the water.</td></tr>\n",
       "</tbody>\n",
       "</table>\n",
       "            </div>\n",
       "        </div>\n",
       "        "
      ],
      "text/plain": [
       "model.model    agent.persona      answer.enjoy  answer.favorite_place\n",
       "-------------  ---------------  --------------  ----------------------------------------------------------------------------------------------------------------------------------------------------------------------------------------------------------------------------------------------------------------------------------------------------------------------------------------------------------------------------------------------------------------------------------------------------------------------------------------------------------------------------------------------------------------------------------------------------------------------------------------------------------------------------------\n",
       "gemini-pro     artist                        5  In the hushed embrace of my cozy reading nook, I find solace and inspiration. It's a haven tucked away in the corner of my home, a sanctuary where words dance and imagination takes flight.\n",
       "\n",
       "                                                The walls are adorned with shelves that overflow with literary treasures, each spine a promise of adventure or enlightenment. A plush armchair, upholstered in soft velvet, invites me to sink into its depths and lose myself in the pages. A warm glow emanates from a vintage lamp, casting a gentle light that illuminates the words and creates a sense of intimacy.\n",
       "\n",
       "                                                The window offers a panoramic view of the bustling city below, but the noise and chaos seem to fade away as I immerse myself in the written world. The gentle breeze carries the scent of blooming jasmine, adding a touch of sweetness to the atmosphere.\n",
       "\n",
       "                                                In this serene retreat, I am free to escape the mundane and embark on extraordinary journeys. I become a fearless explorer, traversing uncharted territories; a passionate lover, experiencing the depths of human emotion; a wise sage, contemplating the mysteries of existence.\n",
       "\n",
       "                                                Time seems to stand still within these hallowed walls. I can spend hours lost in the labyrinth of words, my mind wandering freely through the landscapes of fiction and the corridors of history. The worries of the world melt away, replaced by a sense of tranquility and wonder.\n",
       "gpt-4o         artist                        5  My favorite place for reading is a cozy nook in my art studio. It's tucked away in a corner with a large window that lets in plenty of natural light, perfect for painting and reading alike. I've filled it with soft cushions and a plush throw, making it an inviting retreat. Surrounding me are my easels and canvases, which add a sense of inspiration and creativity to the space. The walls are lined with bookshelves, filled with art books and novels, providing endless options for my reading adventures. There's something magical about being enveloped by art while diving into the pages of a good book.\n",
       "gemini-pro     mechanic                      5  In the hushed sanctuary of my cozy reading nook, where the world fades away and the pages come alive, I find my solace.\n",
       "\n",
       "                                                Nestled in a secluded corner of my home, this haven is a symphony of comfort and tranquility. A plush armchair, upholstered in soft velvet, envelops me like a warm embrace. Its ample cushions cradle my weary body, inviting me to sink into a world of literary escapism.\n",
       "\n",
       "                                                The walls are adorned with floor-to-ceiling bookshelves, their spines a vibrant tapestry of colors and textures. They hold the treasures of my literary adventures, from classic novels to contemporary thrillers. The gentle glow of a reading lamp casts a warm amber light over the pages, illuminating the words that transport me to distant lands and forgotten times.\n",
       "\n",
       "                                                A soft throw blanket, woven with intricate patterns, lies draped over the armchair. Its cozy warmth invites me to curl up and lose myself in the written word. The air is filled with the faint scent of lavender, its calming aroma soothing my mind and preparing it for the journey ahead.\n",
       "\n",
       "                                                Outside the window, the world unfolds in a gentle rhythm. Birdsong fills the air, creating a serene soundtrack to my reading experience. The lush greenery of the garden offers a glimpse of nature's beauty, reminding me of the wonders that exist beyond the pages.\n",
       "\n",
       "                                                In this sanctuary, time seems to slow down. The worries of the world melt away as I immerse myself in the stories that unfold before my eyes. The characters become my companions, their triumphs and tribulations stirring emotions within me. The pages turn effortlessly, each one a gateway to a new realm of imagination.\n",
       "gpt-4o         mechanic                      2  As a mechanic, my favorite place for reading is right in the comfort of my garage. There's something about the smell of motor oil and the sound of tools clinking that gets me in the zone. I've got a little corner set up with a sturdy workbench that doubles as a reading nook. I keep a couple of car manuals, repair guides, and the occasional novel stacked up there. The lighting's good, and when the garage door is open, I get a nice breeze coming through. It's the perfect spot to unwind after a day of working on cars, with a cup of coffee in hand and maybe some classic rock playing in the background.\n",
       "gemini-pro     sailor                        5  In the heart of my cozy abode, where tranquility reigns and inspiration flows, lies my sanctuary for literary immersion—a haven where I lose myself in the boundless realms of the written word.\n",
       "\n",
       "                                                As I step into this sacred space, my senses are enveloped in a symphony of comfort and calm. The walls are adorned with bookshelves that tower over me like wise old guardians, their spines whispering secrets of untold tales. The air is filled with a faint scent of vanilla and old paper, evoking a sense of nostalgia and anticipation.\n",
       "\n",
       "                                                At the heart of this sanctuary sits an oversized armchair, upholstered in plush velvet. Its deep cushions embrace me like a warm hug, inviting me to sink into its depths and surrender to the world of imagination. A soft blanket draped over the armrest provides an extra layer of coziness, enveloping me in a cocoon of comfort.\n",
       "\n",
       "                                                A large window frames the far wall, offering a breathtaking view of the garden beyond. As I read, my gaze often wanders to the vibrant blooms and rustling leaves, their beauty providing a soothing backdrop to my literary adventures. The gentle breeze carries the sweet fragrance of jasmine and lavender, mingling with the scent of the books to create an intoxicating aroma that stimulates my senses and enhances my reading experience.\n",
       "\n",
       "                                                In this sanctuary, time seems to slow down as I become immersed in the pages of my chosen book. The outside world fades away, leaving only the characters, their stories, and the boundless possibilities that unfold within the covers. I am transported to distant lands, introduced to fascinating characters, and challenged by thought-provoking ideas.\n",
       "\n",
       "                                                As I turn the pages, the words dance before my eyes, painting vivid images in my mind. I laugh with the characters, weep with them, and feel their triumphs and heartbreaks as if they were my own. The act of reading becomes a transformative experience, enriching my imagination, expanding my knowledge, and connecting me to the human experience in all its complexity and beauty.\n",
       "gpt-4o         sailor                        4  Ah, my favorite place for reading has to be aboard a ship, out on the open sea. There's nothing quite like the gentle sway of the vessel and the sound of waves lapping against the hull to set the perfect backdrop for diving into a good book. I love settling into a cozy nook on the deck, where I can feel the salty breeze on my face and catch the occasional call of a seagull. Sometimes I'll find a quiet spot in the galley or the captain's quarters if the weather's a bit rough. The ocean's vastness makes any story feel grander, and there's a certain peace in knowing that while you're lost in a book, you're also part of an endless adventure on the water."
      ]
     },
     "execution_count": 14,
     "metadata": {},
     "output_type": "execute_result"
    }
   ],
   "source": [
    "(\n",
    "    results\n",
    "    .sort_by(\"persona\", \"model\")\n",
    "    .select(\"model\", \"persona\", \"enjoy\", \"favorite_place\")\n",
    "    .print(format=\"rich\")\n",
    ")"
   ]
  },
  {
   "cell_type": "markdown",
   "id": "1bf4939d-06f8-4b15-98eb-2bd17728d29d",
   "metadata": {},
   "source": [
    "## Example: Adding context to questions\n",
    "EDSL provides a variety of ways to add data or content to survey questions. \n",
    "These methods include:\n",
    "\n",
    "* [Piping](https://docs.expectedparrot.com/en/latest/surveys.html#id2) answers to questions into follow-on questions\n",
    "* [Adding \"memory\"](https://docs.expectedparrot.com/en/latest/surveys.html#question-memory) of prior questions and answers in a survey when presenting other questions to a model\n",
    "* [Parameterizing questions with data](https://docs.expectedparrot.com/en/latest/scenarios.html), e.g., content from PDFs, CSVs, docs, images or other sources that you want to add to questions"
   ]
  },
  {
   "cell_type": "markdown",
   "id": "fa54fa90-7246-4963-9590-7e112e89c23e",
   "metadata": {},
   "source": [
    "### Piping question answers\n",
    "Here we demonstrate how to pipe the answer to a question into the text of another question.\n",
    "This is done by using a placeholder `{{ <question_name>.answer }}` in the text of the follow-on question where the answer to the prior question is to be inserted when the survey is run.\n",
    "This causes the questions to be administered in the required order (survey questions are administered asynchronously by default).\n",
    "Learn more about [piping question answers](https://docs.expectedparrot.com/en/latest/surveys.html#id2).\n",
    "\n",
    "Here we insert the answer to a numerical question into the text of a follow-on yes/no question:"
   ]
  },
  {
   "cell_type": "code",
   "execution_count": 15,
   "id": "db74b5b9-1523-4d6a-ac8f-5ccb65589922",
   "metadata": {},
   "outputs": [
    {
     "name": "stdout",
     "output_type": "stream",
     "text": [
      "Remote inference activated. Sending job to server...\n",
      "Job sent to server. (Job uuid=99be6f3a-f117-4fa2-8f9a-248e5c927a4a).\n",
      "Job completed and Results stored on Coop: https://www.expectedparrot.com/content/c7881430-cd05-4726-82f1-fecb9fb32fd9.\n"
     ]
    }
   ],
   "source": [
    "from edsl import QuestionNumerical, QuestionYesNo, Survey\n",
    "\n",
    "q1 = QuestionNumerical(\n",
    "    question_name = \"random_number\",\n",
    "    question_text = \"Pick a random number between 1 and 1,000.\"\n",
    ")\n",
    "\n",
    "q2 = QuestionYesNo(\n",
    "    question_name = \"prime\",\n",
    "    question_text = \"Is this a prime number: {{ random_number.answer }}\"\n",
    ")\n",
    "\n",
    "survey = Survey([q1, q2])\n",
    "\n",
    "results = survey.run()"
   ]
  },
  {
   "cell_type": "markdown",
   "id": "65f7ecb9-dc91-4df0-ade7-0498db29aeeb",
   "metadata": {},
   "source": [
    "We can check the `user_prompt` for the `prime` question to verify that that the answer to the `random_number` question was piped into it:"
   ]
  },
  {
   "cell_type": "code",
   "execution_count": 16,
   "id": "c8aceca7-cfe4-4683-a101-40e280a536c7",
   "metadata": {},
   "outputs": [
    {
     "data": {
      "text/html": [
       "\n",
       "        <style>\n",
       "            .table-container {\n",
       "    height: var(--container-height);\n",
       "    width: 100%;\n",
       "    overflow: auto;  /* This enables both horizontal and vertical scrolling */\n",
       "    border: 1px solid #d4d4d4;\n",
       "    background: transparent;\n",
       "    position: relative;  /* Create stacking context for sticky header */\n",
       "}\n",
       "\n",
       ".scroll-table {\n",
       "    /* Remove width: 100% to prevent table from being constrained */\n",
       "    /* min-width: 100% ensures table takes at least full container width */\n",
       "    min-width: 100%;\n",
       "    border-collapse: separate;\n",
       "    border-spacing: 4px;\n",
       "    background: transparent;\n",
       "    table-layout: auto;  /* Allow table to size based on content */\n",
       "}\n",
       "\n",
       ".scroll-table th {\n",
       "    /* background: var(--jp-cell-editor-background, var(--vscode-editor-background)) !important */\n",
       "    background: transparent;  /* Semi-transparent background to ensure text readability */\n",
       "    position: sticky;\n",
       "    top: 0;\n",
       "    z-index: 1;\n",
       "    text-align: left !important;\n",
       "    padding: 8px;\n",
       "    font-weight: bold;\n",
       "    white-space: nowrap;  /* Prevent header text from wrapping */\n",
       "    min-width: 100px;    /* Ensure minimum column width */\n",
       "    backdrop-filter: blur(8px);  /* Optional: adds extra clarity */\n",
       "}\n",
       "\n",
       ".scroll-table td {\n",
       "    padding: 8px;\n",
       "    text-align: left !important;\n",
       "    white-space: pre-wrap;\n",
       "    word-wrap: break-word;\n",
       "    vertical-align: top;\n",
       "    color: inherit;\n",
       "    border-bottom: none;\n",
       "    background: transparent;\n",
       "    min-width: 100px;    /* Match header minimum width */\n",
       "}\n",
       "\n",
       ".scroll-table tbody tr:hover {\n",
       "    background: transparent;\n",
       "}\n",
       "\n",
       "/* Additional rule to ensure header background is truly transparent */\n",
       ".scroll-table thead tr {\n",
       "    background: transparent !important;\n",
       "}\n",
       "\n",
       "/* Add shadow to indicate scrollable content */\n",
       ".table-container::after {\n",
       "    content: '';\n",
       "    position: absolute;\n",
       "    top: 0;\n",
       "    right: 0;\n",
       "    bottom: 0;\n",
       "    width: 5px;\n",
       "    background: linear-gradient(to right, transparent, rgba(242, 6, 6, 0.1));\n",
       "    pointer-events: none;\n",
       "    opacity: 0;\n",
       "    transition: opacity 0.3s;\n",
       "}\n",
       "\n",
       ".table-container:hover::after {\n",
       "    opacity: 1;\n",
       "}\n",
       "\n",
       "/* Handle Jupyter notebook specific styling */\n",
       ".jp-OutputArea-output .table-container {\n",
       "    max-width: 100%;\n",
       "    margin: 0;\n",
       "    overflow-x: auto;\n",
       "}\n",
       "        </style>\n",
       "        <div class=\"table-container\" style=\"--container-height: 80px;\">\n",
       "            <div class=\"scroll-table-wrapper\">\n",
       "                <table class=\"scroll-table\">\n",
       "<thead>\n",
       "<tr><th style=\"text-align: right;\">  answer.random_number</th><th>prompt.prime_user_prompt  </th><th>answer.prime  </th><th>comment.prime_comment                                                                </th></tr>\n",
       "</thead>\n",
       "<tbody>\n",
       "<tr><td style=\"text-align: right;\">                   487</td><td>Is this a prime number: 487\n",
       "\n",
       "    \n",
       "No\n",
       "    \n",
       "Yes\n",
       "    \n",
       "\n",
       "Only 1 option may be selected.\n",
       "Please respond with just your answer. \n",
       "\n",
       "\n",
       "After the answer, you can put a comment explaining your response.                           </td><td>No            </td><td>487 is not a prime number because it can be divided by 1, 487, and also by 19 and 25.</td></tr>\n",
       "</tbody>\n",
       "</table>\n",
       "            </div>\n",
       "        </div>\n",
       "        "
      ],
      "text/plain": [
       "  answer.random_number  prompt.prime_user_prompt                                           answer.prime    comment.prime_comment\n",
       "----------------------  -----------------------------------------------------------------  --------------  -------------------------------------------------------------------------------------\n",
       "                   487  Is this a prime number: 487                                        No              487 is not a prime number because it can be divided by 1, 487, and also by 19 and 25.\n",
       "\n",
       "\n",
       "                        No\n",
       "\n",
       "                        Yes\n",
       "\n",
       "\n",
       "                        Only 1 option may be selected.\n",
       "                        Please respond with just your answer.\n",
       "\n",
       "\n",
       "                        After the answer, you can put a comment explaining your response."
      ]
     },
     "execution_count": 16,
     "metadata": {},
     "output_type": "execute_result"
    }
   ],
   "source": [
    "results.select(\"random_number\", \"prime_user_prompt\", \"prime\", \"prime_comment\").print(format=\"rich\")"
   ]
  },
  {
   "cell_type": "markdown",
   "id": "0f9736aa-fda5-4eed-8917-ea0cbc723d5f",
   "metadata": {},
   "source": [
    "### Adding \"memory\" of questions and answers\n",
    "Here we instead add a \"memory\" of the first question and answer to the context of the second question.\n",
    "This is done by calling a memory rule and identifying the question(s) to add.\n",
    "Instead of just the answer, information about the full question and answer are presented with the follow-on question text, and no placeholder is used.\n",
    "Learn more about [question memory rules](https://docs.expectedparrot.com/en/latest/surveys.html#survey-rules-logic).\n",
    "\n",
    "Here we demonstrate the `add_targeted_memory` method (we could also use `set_full_memory_mode` or other memory rules):"
   ]
  },
  {
   "cell_type": "code",
   "execution_count": 17,
   "id": "618109ac-ac2b-4989-82f9-25270b1426cb",
   "metadata": {},
   "outputs": [
    {
     "name": "stdout",
     "output_type": "stream",
     "text": [
      "Remote inference activated. Sending job to server...\n",
      "Job sent to server. (Job uuid=633a3546-6708-48d6-8971-fbf9e6a6e18b).\n",
      "Job completed and Results stored on Coop: https://www.expectedparrot.com/content/71d9fdb8-d0ac-49db-b497-e47b182acb24.\n"
     ]
    }
   ],
   "source": [
    "from edsl import QuestionNumerical, QuestionYesNo, Survey\n",
    "\n",
    "q1 = QuestionNumerical(\n",
    "    question_name = \"random_number\",\n",
    "    question_text = \"Pick a random number between 1 and 1,000.\"\n",
    ")\n",
    "\n",
    "q2 = QuestionYesNo(\n",
    "    question_name = \"prime\",\n",
    "    question_text = \"Is the number you picked a prime number?\"\n",
    ")\n",
    "\n",
    "survey = Survey([q1, q2]).add_targeted_memory(q2, q1)\n",
    "\n",
    "results = survey.run()"
   ]
  },
  {
   "cell_type": "markdown",
   "id": "b90b324e-0bee-459d-8b1b-9d554ec44ec3",
   "metadata": {},
   "source": [
    "We can again use the `user_prompt` to verify the context that was added to the follow-on question:"
   ]
  },
  {
   "cell_type": "code",
   "execution_count": 3,
   "id": "4c6f348e-4c89-46db-a6f6-26389246f69b",
   "metadata": {},
   "outputs": [
    {
     "data": {
      "text/html": [
       "\n",
       "        <style>\n",
       "            .table-container {\n",
       "    height: 4000px;\n",
       "    width: 100%;\n",
       "    overflow: auto;  /* This enables both horizontal and vertical scrolling */\n",
       "    border: 1px solid #d4d4d4;\n",
       "    background: transparent;\n",
       "    position: relative;  /* Create stacking context for sticky header */\n",
       "}\n",
       "\n",
       ".scroll-table {\n",
       "    /* Remove width: 100% to prevent table from being constrained */\n",
       "    /* min-width: 100% ensures table takes at least full container width */\n",
       "    min-width: 100%;\n",
       "    border-collapse: separate;\n",
       "    border-spacing: 4px;\n",
       "    background: transparent;\n",
       "    table-layout: auto;  /* Allow table to size based on content */\n",
       "}\n",
       "\n",
       ".scroll-table th {\n",
       "    /* background: var(--jp-cell-editor-background, var(--vscode-editor-background)) !important */\n",
       "    background: transparent;  /* Semi-transparent background to ensure text readability */\n",
       "    position: sticky;\n",
       "    top: 0;\n",
       "    z-index: 1;\n",
       "    text-align: left !important;\n",
       "    padding: 8px;\n",
       "    font-weight: bold;\n",
       "    white-space: nowrap;  /* Prevent header text from wrapping */\n",
       "    min-width: 100px;    /* Ensure minimum column width */\n",
       "    backdrop-filter: blur(8px);  /* Optional: adds extra clarity */\n",
       "}\n",
       "\n",
       ".scroll-table td {\n",
       "    padding: 8px;\n",
       "    text-align: left !important;\n",
       "    white-space: pre-wrap;\n",
       "    word-wrap: break-word;\n",
       "    vertical-align: top;\n",
       "    color: inherit;\n",
       "    border-bottom: none;\n",
       "    background: transparent;\n",
       "    min-width: 100px;    /* Match header minimum width */\n",
       "}\n",
       "\n",
       ".scroll-table tbody tr:hover {\n",
       "    background: transparent;\n",
       "}\n",
       "\n",
       "/* Additional rule to ensure header background is truly transparent */\n",
       ".scroll-table thead tr {\n",
       "    background: transparent !important;\n",
       "}\n",
       "\n",
       "/* Add shadow to indicate scrollable content */\n",
       ".table-container::after {\n",
       "    content: '';\n",
       "    position: absolute;\n",
       "    top: 0;\n",
       "    right: 0;\n",
       "    bottom: 0;\n",
       "    width: 5px;\n",
       "    background: linear-gradient(to right, transparent, rgba(242, 6, 6, 0.1));\n",
       "    pointer-events: none;\n",
       "    opacity: 0;\n",
       "    transition: opacity 0.3s;\n",
       "}\n",
       "\n",
       ".table-container:hover::after {\n",
       "    opacity: 1;\n",
       "}\n",
       "\n",
       "/* Handle Jupyter notebook specific styling */\n",
       ".jp-OutputArea-output .table-container {\n",
       "    max-width: 100%;\n",
       "    margin: 0;\n",
       "    overflow-x: auto;\n",
       "}\n",
       "        </style>\n",
       "        <div class=\"table-container\">\n",
       "            <div class=\"scroll-table-wrapper\">\n",
       "                <table class=\"scroll-table\">\n",
       "<thead>\n",
       "<tr><th style=\"text-align: right;\">  row</th><th>key                     </th><th>value                                                                    </th></tr>\n",
       "</thead>\n",
       "<tbody>\n",
       "<tr><td style=\"text-align: right;\">    0</td><td>answer.random_number    </td><td>487                                                                      </td></tr>\n",
       "<tr><td style=\"text-align: right;\">    0</td><td>prompt.prime_user_prompt</td><td>Is the number you picked a prime number?\n",
       "\n",
       "    \n",
       "No\n",
       "    \n",
       "Yes\n",
       "    \n",
       "\n",
       "Only 1 option may be selected.\n",
       "Please respond with just your answer. \n",
       "\n",
       "\n",
       "After the answer, you can put a comment explaining your response. \n",
       "        Before the question you are now answering, you already answered the following question(s):\n",
       "        \tQuestion: Pick a random number between 1 and 1,000.\n",
       "\tAnswer: 487                                                                          </td></tr>\n",
       "<tr><td style=\"text-align: right;\">    0</td><td>answer.prime            </td><td>Yes                                                                      </td></tr>\n",
       "<tr><td style=\"text-align: right;\">    0</td><td>comment.prime_comment   </td><td>487 is a prime number because it has no divisors other than 1 and itself.</td></tr>\n",
       "</tbody>\n",
       "</table>\n",
       "            </div>\n",
       "        </div>\n",
       "        "
      ],
      "text/plain": [
       "  row  key                       value\n",
       "-----  ------------------------  --------------------------------------------------------------------------------------------------\n",
       "    0  answer.random_number      487\n",
       "    0  prompt.prime_user_prompt  Is the number you picked a prime number?\n",
       "\n",
       "\n",
       "                                 No\n",
       "\n",
       "                                 Yes\n",
       "\n",
       "\n",
       "                                 Only 1 option may be selected.\n",
       "                                 Please respond with just your answer.\n",
       "\n",
       "\n",
       "                                 After the answer, you can put a comment explaining your response.\n",
       "                                         Before the question you are now answering, you already answered the following question(s):\n",
       "                                         \tQuestion: Pick a random number between 1 and 1,000.\n",
       "                                 \tAnswer: 487\n",
       "    0  answer.prime              Yes\n",
       "    0  comment.prime_comment     487 is a prime number because it has no divisors other than 1 and itself."
      ]
     },
     "execution_count": 3,
     "metadata": {},
     "output_type": "execute_result"
    }
   ],
   "source": [
    "from edsl import Results \n",
    "results = Results.pull(\"71d9fdb8-d0ac-49db-b497-e47b182acb24\")\n",
    "results.select(\"random_number\", \"prime_user_prompt\", \"prime\", \"prime_comment\").table().long()"
   ]
  },
  {
   "cell_type": "markdown",
   "id": "817b9ad5-f511-4bb3-845c-9623897f90bc",
   "metadata": {},
   "source": [
    "*Related topic: Learn more about exploring and simulating \"randomness\" with AI agents and LLMs in [this notebook](https://docs.expectedparrot.com/en/latest/notebooks/random_numbers.html).*"
   ]
  },
  {
   "cell_type": "markdown",
   "id": "3d45e671-d63c-43bf-9a69-210aa171fa48",
   "metadata": {},
   "source": [
    "## Scenarios\n",
    "We can also add external data or content to survey questions.\n",
    "This can be useful when you want to efficiently create and administer multiple versions of questions at once, e.g., for conducting data labeling tasks.\n",
    "This is done by creating `Scenario` dictionaries for the data or content to be used with a survey, where the keys match `{{ placeholder }}` names used in question texts (or question options) and the values are the content to be added.\n",
    "Scenarios can also be used to [add metadata to survey results](https://docs.expectedparrot.com/en/latest/notebooks/adding_metadata.html), e.g., data sources or other information that you may want to include in the results for reference but not necessarily include in question texts.\n",
    "\n",
    "In the next example we revise the prior survey questions about reading to take a parameter for other activities that we may want to add to the questions, and create simple scenarios for some activities.\n",
    "EDSL provides methods for automatically generating scenarios from a variety of data sources, including PDFs, CSVs, docs, images, tables and dicts. \n",
    "We use the `from_list` method to convert a list of activities into scenarios.\n",
    "\n",
    "Then we demonstrate how to use scenarios to create multiple versions of our questions either (i) when constructing a survey or (ii) when running it:\n",
    "\n",
    "* In the latter case, the `by` method is used to add scenarios to a survey of questions with placeholders at the time that it is run (the same way that agents and models are added to a survey). This adds a `scenario` column to the results with a row for each answer to each question for each scenario.\n",
    "* In the former case, the `loop` method is used to create a list of versions of a question with the scenarios already added to it; when the questions are passed to a survey and it is run, the results include columns for each individual question; there is no `scenario` column and a single row for each agent's answers to all the questions.\n",
    "\n",
    "Learn more about [using scenarios](https://docs.expectedparrot.com/en/latest/scenarios.html).\n",
    "\n",
    "Here we create scenarios for a simple list of activities:"
   ]
  },
  {
   "cell_type": "code",
   "execution_count": 4,
   "id": "0ca889fe-9dfd-4ef4-b324-16493b3e1603",
   "metadata": {},
   "outputs": [],
   "source": [
    "from edsl import ScenarioList, Scenario\n",
    "\n",
    "scenarios = ScenarioList.from_list(\"activity\", [\"reading\", \"running\", \"relaxing\"])"
   ]
  },
  {
   "cell_type": "markdown",
   "id": "3a8c2951-93e3-4b40-83d0-d319ec14803a",
   "metadata": {},
   "source": [
    "### Adding scenarios using the `by` method\n",
    "Here we add the scenarios to the survey when we run it, together with any desired agents and models:"
   ]
  },
  {
   "cell_type": "code",
   "execution_count": 7,
   "id": "b0e3e7b3-36b3-4db6-b8fb-6f9abfbd3211",
   "metadata": {},
   "outputs": [],
   "source": [
    "from edsl import QuestionLinearScale, QuestionFreeText, Survey\n",
    "\n",
    "q_enjoy = QuestionLinearScale(\n",
    "    question_name = \"enjoy\",\n",
    "    question_text = \"On a scale from 1 to 5, how much do you enjoy {{ activity }}?\",\n",
    "    question_options = [1, 2, 3, 4, 5],\n",
    "    option_labels = {1:\"Not at all\", 5:\"Very much\"}\n",
    ")\n",
    "\n",
    "q_favorite_place = QuestionFreeText(\n",
    "    question_name = \"favorite_place\",\n",
    "    question_text = \"In a brief sentence, describe your favorite place for {{ activity }}.\"\n",
    ")\n",
    "\n",
    "survey = Survey([q_enjoy, q_favorite_place])"
   ]
  },
  {
   "cell_type": "code",
   "execution_count": 6,
   "id": "17b10a27-e227-4502-b4c3-74e10e54a1a8",
   "metadata": {},
   "outputs": [
    {
     "ename": "NameError",
     "evalue": "name 'agents' is not defined",
     "output_type": "error",
     "traceback": [
      "\u001b[0;31m---------------------------------------------------------------------------\u001b[0m",
      "\u001b[0;31mNameError\u001b[0m                                 Traceback (most recent call last)",
      "Cell \u001b[0;32mIn[6], line 1\u001b[0m\n\u001b[0;32m----> 1\u001b[0m results \u001b[38;5;241m=\u001b[39m survey\u001b[38;5;241m.\u001b[39mby(scenarios)\u001b[38;5;241m.\u001b[39mby(\u001b[43magents\u001b[49m)\u001b[38;5;241m.\u001b[39mby(models)\u001b[38;5;241m.\u001b[39mrun()\n",
      "\u001b[0;31mNameError\u001b[0m: name 'agents' is not defined"
     ]
    }
   ],
   "source": [
    "results = survey.by(scenarios).by(agents).by(models).run()"
   ]
  },
  {
   "cell_type": "code",
   "execution_count": 22,
   "id": "2f842a00-0069-43e6-ab2a-8dab6acf9909",
   "metadata": {},
   "outputs": [
    {
     "data": {
      "text/html": [
       "\n",
       "        <style>\n",
       "            .table-container {\n",
       "    height: var(--container-height);\n",
       "    width: 100%;\n",
       "    overflow: auto;  /* This enables both horizontal and vertical scrolling */\n",
       "    border: 1px solid #d4d4d4;\n",
       "    background: transparent;\n",
       "    position: relative;  /* Create stacking context for sticky header */\n",
       "}\n",
       "\n",
       ".scroll-table {\n",
       "    /* Remove width: 100% to prevent table from being constrained */\n",
       "    /* min-width: 100% ensures table takes at least full container width */\n",
       "    min-width: 100%;\n",
       "    border-collapse: separate;\n",
       "    border-spacing: 4px;\n",
       "    background: transparent;\n",
       "    table-layout: auto;  /* Allow table to size based on content */\n",
       "}\n",
       "\n",
       ".scroll-table th {\n",
       "    /* background: var(--jp-cell-editor-background, var(--vscode-editor-background)) !important */\n",
       "    background: transparent;  /* Semi-transparent background to ensure text readability */\n",
       "    position: sticky;\n",
       "    top: 0;\n",
       "    z-index: 1;\n",
       "    text-align: left !important;\n",
       "    padding: 8px;\n",
       "    font-weight: bold;\n",
       "    white-space: nowrap;  /* Prevent header text from wrapping */\n",
       "    min-width: 100px;    /* Ensure minimum column width */\n",
       "    backdrop-filter: blur(8px);  /* Optional: adds extra clarity */\n",
       "}\n",
       "\n",
       ".scroll-table td {\n",
       "    padding: 8px;\n",
       "    text-align: left !important;\n",
       "    white-space: pre-wrap;\n",
       "    word-wrap: break-word;\n",
       "    vertical-align: top;\n",
       "    color: inherit;\n",
       "    border-bottom: none;\n",
       "    background: transparent;\n",
       "    min-width: 100px;    /* Match header minimum width */\n",
       "}\n",
       "\n",
       ".scroll-table tbody tr:hover {\n",
       "    background: transparent;\n",
       "}\n",
       "\n",
       "/* Additional rule to ensure header background is truly transparent */\n",
       ".scroll-table thead tr {\n",
       "    background: transparent !important;\n",
       "}\n",
       "\n",
       "/* Add shadow to indicate scrollable content */\n",
       ".table-container::after {\n",
       "    content: '';\n",
       "    position: absolute;\n",
       "    top: 0;\n",
       "    right: 0;\n",
       "    bottom: 0;\n",
       "    width: 5px;\n",
       "    background: linear-gradient(to right, transparent, rgba(242, 6, 6, 0.1));\n",
       "    pointer-events: none;\n",
       "    opacity: 0;\n",
       "    transition: opacity 0.3s;\n",
       "}\n",
       "\n",
       ".table-container:hover::after {\n",
       "    opacity: 1;\n",
       "}\n",
       "\n",
       "/* Handle Jupyter notebook specific styling */\n",
       ".jp-OutputArea-output .table-container {\n",
       "    max-width: 100%;\n",
       "    margin: 0;\n",
       "    overflow-x: auto;\n",
       "}\n",
       "        </style>\n",
       "        <div class=\"table-container\" style=\"--container-height: 320px;\">\n",
       "            <div class=\"scroll-table-wrapper\">\n",
       "                <table class=\"scroll-table\">\n",
       "<thead>\n",
       "<tr><th>scenario.activity  </th><th>agent.persona  </th><th style=\"text-align: right;\">  answer.enjoy</th><th>answer.favorite_place                                                                                                                                                           </th></tr>\n",
       "</thead>\n",
       "<tbody>\n",
       "<tr><td>reading            </td><td>artist         </td><td style=\"text-align: right;\">             5</td><td>My favorite place for reading is a cozy nook by a large window, where natural light spills over the pages and the outside world becomes a gentle backdrop to the stories within.</td></tr>\n",
       "<tr><td>reading            </td><td>mechanic       </td><td style=\"text-align: right;\">             2</td><td>My favorite place for reading is in the garage, surrounded by the comforting smell of oil and metal, with the sound of a ticking engine cooling down nearby.                    </td></tr>\n",
       "<tr><td>reading            </td><td>sailor         </td><td style=\"text-align: right;\">             4</td><td>My favorite place for reading is on the deck of a ship, with the salty breeze in my hair and the sound of waves as my background music.                                         </td></tr>\n",
       "<tr><td>relaxing           </td><td>artist         </td><td style=\"text-align: right;\">             4</td><td>My favorite place for relaxing is a quiet art studio filled with natural light, where I can paint and let my creativity flow freely.                                            </td></tr>\n",
       "<tr><td>relaxing           </td><td>mechanic       </td><td style=\"text-align: right;\">             3</td><td>My favorite place for relaxing is in my garage, tinkering with an old car, where the smell of oil and the hum of machinery help me unwind.                                      </td></tr>\n",
       "<tr><td>relaxing           </td><td>sailor         </td><td style=\"text-align: right;\">             4</td><td>My favorite place for relaxing is a secluded beach with the gentle sound of waves lapping against the shore and a salty breeze in the air.                                      </td></tr>\n",
       "<tr><td>running            </td><td>artist         </td><td style=\"text-align: right;\">             2</td><td>My favorite place for running is a secluded forest trail where the canopy of trees creates a natural gallery of light and shadow, inspiring each stride.                        </td></tr>\n",
       "<tr><td>running            </td><td>mechanic       </td><td style=\"text-align: right;\">             2</td><td>My favorite place for running is a quiet trail through the woods, where the air is fresh and the ground is soft underfoot.                                                      </td></tr>\n",
       "<tr><td>running            </td><td>sailor         </td><td style=\"text-align: right;\">             2</td><td>Ah, the deck of a ship at dawn, with the salty breeze in my face and the endless horizon stretching ahead.                                                                      </td></tr>\n",
       "</tbody>\n",
       "</table>\n",
       "            </div>\n",
       "        </div>\n",
       "        "
      ],
      "text/plain": [
       "scenario.activity    agent.persona      answer.enjoy  answer.favorite_place\n",
       "-------------------  ---------------  --------------  --------------------------------------------------------------------------------------------------------------------------------------------------------------------------------\n",
       "reading              artist                        5  My favorite place for reading is a cozy nook by a large window, where natural light spills over the pages and the outside world becomes a gentle backdrop to the stories within.\n",
       "reading              mechanic                      2  My favorite place for reading is in the garage, surrounded by the comforting smell of oil and metal, with the sound of a ticking engine cooling down nearby.\n",
       "reading              sailor                        4  My favorite place for reading is on the deck of a ship, with the salty breeze in my hair and the sound of waves as my background music.\n",
       "relaxing             artist                        4  My favorite place for relaxing is a quiet art studio filled with natural light, where I can paint and let my creativity flow freely.\n",
       "relaxing             mechanic                      3  My favorite place for relaxing is in my garage, tinkering with an old car, where the smell of oil and the hum of machinery help me unwind.\n",
       "relaxing             sailor                        4  My favorite place for relaxing is a secluded beach with the gentle sound of waves lapping against the shore and a salty breeze in the air.\n",
       "running              artist                        2  My favorite place for running is a secluded forest trail where the canopy of trees creates a natural gallery of light and shadow, inspiring each stride.\n",
       "running              mechanic                      2  My favorite place for running is a quiet trail through the woods, where the air is fresh and the ground is soft underfoot.\n",
       "running              sailor                        2  Ah, the deck of a ship at dawn, with the salty breeze in my face and the endless horizon stretching ahead."
      ]
     },
     "execution_count": 22,
     "metadata": {},
     "output_type": "execute_result"
    }
   ],
   "source": [
    "(\n",
    "    results\n",
    "    .filter(\"model.model == 'gpt-4o'\")\n",
    "    .sort_by(\"activity\", \"persona\")\n",
    "    .select(\"activity\", \"persona\", \"enjoy\", \"favorite_place\")\n",
    "    .print(format=\"rich\")\n",
    ")"
   ]
  },
  {
   "cell_type": "markdown",
   "id": "93e7d9fc-1aff-4ecc-af53-de85a5846f2f",
   "metadata": {},
   "source": [
    "### Adding scenarios using the `loop` method\n",
    "Here we add scenarios to questions when constructing a survey, as opposed to when running it.\n",
    "When we run the survey the results will include columns for each question and no `scenario` field. \n",
    "Note that we can also optionally use the scenario key in the question names (they are otherwise incremented by default):"
   ]
  },
  {
   "cell_type": "code",
   "execution_count": 23,
   "id": "07b02a99-069f-4207-a6bc-6755705ea1a3",
   "metadata": {},
   "outputs": [],
   "source": [
    "from edsl import QuestionLinearScale, QuestionFreeText\n",
    "\n",
    "q_enjoy = QuestionLinearScale(\n",
    "    question_name = \"enjoy_{{ activity }}\", # optional use of scenario key\n",
    "    question_text = \"On a scale from 1 to 5, how much do you enjoy {{ activity }}?\",\n",
    "    question_options = [1, 2, 3, 4, 5],\n",
    "    option_labels = {1:\"Not at all\", 5:\"Very much\"}\n",
    ")\n",
    "\n",
    "q_favorite_place = QuestionFreeText(\n",
    "    question_name = \"favorite_place_{{ activity }}\", # optional use of scenario key\n",
    "    question_text = \"In a brief sentence, describe your favorite place for {{ activity }}.\"\n",
    ")"
   ]
  },
  {
   "cell_type": "markdown",
   "id": "aa44ae7d-864d-4e6a-a5fc-e311e573f17b",
   "metadata": {},
   "source": [
    "Looping the scenarios to create lists of questions:"
   ]
  },
  {
   "cell_type": "code",
   "execution_count": 24,
   "id": "df69c2a7-e8a2-4d59-bc66-ef82efee7464",
   "metadata": {},
   "outputs": [
    {
     "data": {
      "text/plain": [
       "[Question('linear_scale', question_name = \"\"\"enjoy_reading\"\"\", question_text = \"\"\"On a scale from 1 to 5, how much do you enjoy reading?\"\"\", question_options = [1, 2, 3, 4, 5], option_labels = {1: 'Not at all', 5: 'Very much'}),\n",
       " Question('linear_scale', question_name = \"\"\"enjoy_running\"\"\", question_text = \"\"\"On a scale from 1 to 5, how much do you enjoy running?\"\"\", question_options = [1, 2, 3, 4, 5], option_labels = {1: 'Not at all', 5: 'Very much'}),\n",
       " Question('linear_scale', question_name = \"\"\"enjoy_relaxing\"\"\", question_text = \"\"\"On a scale from 1 to 5, how much do you enjoy relaxing?\"\"\", question_options = [1, 2, 3, 4, 5], option_labels = {1: 'Not at all', 5: 'Very much'})]"
      ]
     },
     "execution_count": 24,
     "metadata": {},
     "output_type": "execute_result"
    }
   ],
   "source": [
    "enjoy_questions = q_enjoy.loop(scenarios)\n",
    "enjoy_questions"
   ]
  },
  {
   "cell_type": "code",
   "execution_count": 25,
   "id": "93a5ad41-5e63-42b4-8ee8-a0591b67f897",
   "metadata": {},
   "outputs": [
    {
     "data": {
      "text/plain": [
       "[Question('free_text', question_name = \"\"\"favorite_place_reading\"\"\", question_text = \"\"\"In a brief sentence, describe your favorite place for reading.\"\"\"),\n",
       " Question('free_text', question_name = \"\"\"favorite_place_running\"\"\", question_text = \"\"\"In a brief sentence, describe your favorite place for running.\"\"\"),\n",
       " Question('free_text', question_name = \"\"\"favorite_place_relaxing\"\"\", question_text = \"\"\"In a brief sentence, describe your favorite place for relaxing.\"\"\")]"
      ]
     },
     "execution_count": 25,
     "metadata": {},
     "output_type": "execute_result"
    }
   ],
   "source": [
    "favorite_place_questions = q_favorite_place.loop(scenarios)\n",
    "favorite_place_questions"
   ]
  },
  {
   "cell_type": "markdown",
   "id": "b9d6310b-bef0-4ec1-8d4b-da04e4228797",
   "metadata": {},
   "source": [
    "Combining the questions in a survey:"
   ]
  },
  {
   "cell_type": "code",
   "execution_count": 26,
   "id": "db84d7a5-31c8-4e54-a1a0-7b3400677fd7",
   "metadata": {},
   "outputs": [],
   "source": [
    "survey = Survey(questions = enjoy_questions + favorite_place_questions)"
   ]
  },
  {
   "cell_type": "code",
   "execution_count": 27,
   "id": "efab32a1-fe39-4593-bf65-f7cf83d56d31",
   "metadata": {},
   "outputs": [
    {
     "name": "stdout",
     "output_type": "stream",
     "text": [
      "Remote inference activated. Sending job to server...\n",
      "Job sent to server. (Job uuid=c7f73663-e239-4f10-9932-9c5b10f7c91f).\n",
      "Job completed and Results stored on Coop: https://www.expectedparrot.com/content/5a788299-26af-430b-bed4-64116d688a05.\n"
     ]
    }
   ],
   "source": [
    "results = survey.by(agents).by(models).run()"
   ]
  },
  {
   "cell_type": "code",
   "execution_count": 28,
   "id": "9c75551c-2e77-49e1-94c6-bec7b3f34db5",
   "metadata": {},
   "outputs": [],
   "source": [
    "# results.columns # see that there are additional question fields and no scenario field"
   ]
  },
  {
   "cell_type": "code",
   "execution_count": 29,
   "id": "a9dd31a1-e28c-435c-bc36-f236c3435993",
   "metadata": {},
   "outputs": [
    {
     "data": {
      "text/html": [
       "\n",
       "        <style>\n",
       "            .table-container {\n",
       "    height: var(--container-height);\n",
       "    width: 100%;\n",
       "    overflow: auto;  /* This enables both horizontal and vertical scrolling */\n",
       "    border: 1px solid #d4d4d4;\n",
       "    background: transparent;\n",
       "    position: relative;  /* Create stacking context for sticky header */\n",
       "}\n",
       "\n",
       ".scroll-table {\n",
       "    /* Remove width: 100% to prevent table from being constrained */\n",
       "    /* min-width: 100% ensures table takes at least full container width */\n",
       "    min-width: 100%;\n",
       "    border-collapse: separate;\n",
       "    border-spacing: 4px;\n",
       "    background: transparent;\n",
       "    table-layout: auto;  /* Allow table to size based on content */\n",
       "}\n",
       "\n",
       ".scroll-table th {\n",
       "    /* background: var(--jp-cell-editor-background, var(--vscode-editor-background)) !important */\n",
       "    background: transparent;  /* Semi-transparent background to ensure text readability */\n",
       "    position: sticky;\n",
       "    top: 0;\n",
       "    z-index: 1;\n",
       "    text-align: left !important;\n",
       "    padding: 8px;\n",
       "    font-weight: bold;\n",
       "    white-space: nowrap;  /* Prevent header text from wrapping */\n",
       "    min-width: 100px;    /* Ensure minimum column width */\n",
       "    backdrop-filter: blur(8px);  /* Optional: adds extra clarity */\n",
       "}\n",
       "\n",
       ".scroll-table td {\n",
       "    padding: 8px;\n",
       "    text-align: left !important;\n",
       "    white-space: pre-wrap;\n",
       "    word-wrap: break-word;\n",
       "    vertical-align: top;\n",
       "    color: inherit;\n",
       "    border-bottom: none;\n",
       "    background: transparent;\n",
       "    min-width: 100px;    /* Match header minimum width */\n",
       "}\n",
       "\n",
       ".scroll-table tbody tr:hover {\n",
       "    background: transparent;\n",
       "}\n",
       "\n",
       "/* Additional rule to ensure header background is truly transparent */\n",
       ".scroll-table thead tr {\n",
       "    background: transparent !important;\n",
       "}\n",
       "\n",
       "/* Add shadow to indicate scrollable content */\n",
       ".table-container::after {\n",
       "    content: '';\n",
       "    position: absolute;\n",
       "    top: 0;\n",
       "    right: 0;\n",
       "    bottom: 0;\n",
       "    width: 5px;\n",
       "    background: linear-gradient(to right, transparent, rgba(242, 6, 6, 0.1));\n",
       "    pointer-events: none;\n",
       "    opacity: 0;\n",
       "    transition: opacity 0.3s;\n",
       "}\n",
       "\n",
       ".table-container:hover::after {\n",
       "    opacity: 1;\n",
       "}\n",
       "\n",
       "/* Handle Jupyter notebook specific styling */\n",
       ".jp-OutputArea-output .table-container {\n",
       "    max-width: 100%;\n",
       "    margin: 0;\n",
       "    overflow-x: auto;\n",
       "}\n",
       "        </style>\n",
       "        <div class=\"table-container\" style=\"--container-height: 140px;\">\n",
       "            <div class=\"scroll-table-wrapper\">\n",
       "                <table class=\"scroll-table\">\n",
       "<thead>\n",
       "<tr><th>agent.persona  </th><th style=\"text-align: right;\">  answer.enjoy_reading</th><th style=\"text-align: right;\">  answer.enjoy_running</th><th style=\"text-align: right;\">  answer.enjoy_relaxing</th><th>answer.favorite_place_reading                                                                                                                                                   </th><th>answer.favorite_place_running                                                                                                                           </th><th>answer.favorite_place_relaxing                                                                                                            </th></tr>\n",
       "</thead>\n",
       "<tbody>\n",
       "<tr><td>artist         </td><td style=\"text-align: right;\">                     5</td><td style=\"text-align: right;\">                     2</td><td style=\"text-align: right;\">                      4</td><td>My favorite place for reading is a cozy nook by a large window, where natural light spills over the pages and the outside world becomes a gentle backdrop to the stories within.</td><td>My favorite place for running is a secluded forest trail where the canopy of trees creates a natural gallery of light and shadow, inspiring each stride.</td><td>My favorite place for relaxing is a quiet art studio filled with natural light, where I can paint and let my creativity flow freely.      </td></tr>\n",
       "<tr><td>mechanic       </td><td style=\"text-align: right;\">                     2</td><td style=\"text-align: right;\">                     2</td><td style=\"text-align: right;\">                      3</td><td>My favorite place for reading is in the garage, surrounded by the comforting smell of oil and metal, with the sound of a ticking engine cooling down nearby.                    </td><td>My favorite place for running is a quiet trail through the woods, where the air is fresh and the ground is soft underfoot.                              </td><td>My favorite place for relaxing is in my garage, tinkering with an old car, where the smell of oil and the hum of machinery help me unwind.</td></tr>\n",
       "<tr><td>sailor         </td><td style=\"text-align: right;\">                     4</td><td style=\"text-align: right;\">                     2</td><td style=\"text-align: right;\">                      4</td><td>My favorite place for reading is on the deck of a ship, with the salty breeze in my hair and the sound of waves as my background music.                                         </td><td>Ah, the deck of a ship at dawn, with the salty breeze in my face and the endless horizon stretching ahead.                                              </td><td>My favorite place for relaxing is a secluded beach with the gentle sound of waves lapping against the shore and a salty breeze in the air.</td></tr>\n",
       "</tbody>\n",
       "</table>\n",
       "            </div>\n",
       "        </div>\n",
       "        "
      ],
      "text/plain": [
       "agent.persona      answer.enjoy_reading    answer.enjoy_running    answer.enjoy_relaxing  answer.favorite_place_reading                                                                                                                                                     answer.favorite_place_running                                                                                                                             answer.favorite_place_relaxing\n",
       "---------------  ----------------------  ----------------------  -----------------------  --------------------------------------------------------------------------------------------------------------------------------------------------------------------------------  --------------------------------------------------------------------------------------------------------------------------------------------------------  ------------------------------------------------------------------------------------------------------------------------------------------\n",
       "artist                                5                       2                        4  My favorite place for reading is a cozy nook by a large window, where natural light spills over the pages and the outside world becomes a gentle backdrop to the stories within.  My favorite place for running is a secluded forest trail where the canopy of trees creates a natural gallery of light and shadow, inspiring each stride.  My favorite place for relaxing is a quiet art studio filled with natural light, where I can paint and let my creativity flow freely.\n",
       "mechanic                              2                       2                        3  My favorite place for reading is in the garage, surrounded by the comforting smell of oil and metal, with the sound of a ticking engine cooling down nearby.                      My favorite place for running is a quiet trail through the woods, where the air is fresh and the ground is soft underfoot.                                My favorite place for relaxing is in my garage, tinkering with an old car, where the smell of oil and the hum of machinery help me unwind.\n",
       "sailor                                4                       2                        4  My favorite place for reading is on the deck of a ship, with the salty breeze in my hair and the sound of waves as my background music.                                           Ah, the deck of a ship at dawn, with the salty breeze in my face and the endless horizon stretching ahead.                                                My favorite place for relaxing is a secluded beach with the gentle sound of waves lapping against the shore and a salty breeze in the air."
      ]
     },
     "execution_count": 29,
     "metadata": {},
     "output_type": "execute_result"
    }
   ],
   "source": [
    "(\n",
    "    results\n",
    "    .filter(\"model.model == 'gpt-4o'\")\n",
    "    .sort_by(\"persona\")\n",
    "    .select(\"persona\", \"enjoy_reading\", \"enjoy_running\", \"enjoy_relaxing\", \"favorite_place_reading\", \"favorite_place_running\", \"favorite_place_relaxing\")\n",
    "    .print(format=\"rich\")\n",
    ")"
   ]
  },
  {
   "cell_type": "markdown",
   "id": "71f74b3a-7253-4798-9638-82ac925db122",
   "metadata": {
    "editable": true,
    "slideshow": {
     "slide_type": ""
    },
    "tags": []
   },
   "source": [
    "## Exploring `Results`\n",
    "EDSL comes with [built-in methods for analyzing and visualizing survey results](https://docs.expectedparrot.com/en/latest/language_models.html). \n",
    "For example, you can call the `to_pandas` method to convert results into a dataframe:"
   ]
  },
  {
   "cell_type": "code",
   "execution_count": 30,
   "id": "1ab2cc32-015c-49bc-8e53-cc1c70f6d783",
   "metadata": {
    "editable": true,
    "slideshow": {
     "slide_type": ""
    },
    "tags": []
   },
   "outputs": [
    {
     "data": {
      "text/html": [
       "<div>\n",
       "<style scoped>\n",
       "    .dataframe tbody tr th:only-of-type {\n",
       "        vertical-align: middle;\n",
       "    }\n",
       "\n",
       "    .dataframe tbody tr th {\n",
       "        vertical-align: top;\n",
       "    }\n",
       "\n",
       "    .dataframe thead th {\n",
       "        text-align: right;\n",
       "    }\n",
       "</style>\n",
       "<table border=\"1\" class=\"dataframe\">\n",
       "  <thead>\n",
       "    <tr style=\"text-align: right;\">\n",
       "      <th></th>\n",
       "      <th>enjoy_relaxing</th>\n",
       "      <th>favorite_place_running</th>\n",
       "      <th>favorite_place_relaxing</th>\n",
       "      <th>enjoy_reading</th>\n",
       "      <th>favorite_place_reading</th>\n",
       "      <th>enjoy_running</th>\n",
       "      <th>persona</th>\n",
       "      <th>agent_name</th>\n",
       "      <th>agent_instruction</th>\n",
       "      <th>top_p</th>\n",
       "      <th>...</th>\n",
       "      <th>favorite_place_running_comment</th>\n",
       "      <th>enjoy_relaxing_comment</th>\n",
       "      <th>favorite_place_relaxing_comment</th>\n",
       "      <th>enjoy_reading_comment</th>\n",
       "      <th>favorite_place_reading_generated_tokens</th>\n",
       "      <th>enjoy_relaxing_generated_tokens</th>\n",
       "      <th>enjoy_running_generated_tokens</th>\n",
       "      <th>favorite_place_running_generated_tokens</th>\n",
       "      <th>favorite_place_relaxing_generated_tokens</th>\n",
       "      <th>enjoy_reading_generated_tokens</th>\n",
       "    </tr>\n",
       "  </thead>\n",
       "  <tbody>\n",
       "    <tr>\n",
       "      <th>0</th>\n",
       "      <td>4</td>\n",
       "      <td>My favorite place for running is a secluded fo...</td>\n",
       "      <td>My favorite place for relaxing is a quiet art ...</td>\n",
       "      <td>5</td>\n",
       "      <td>My favorite place for reading is a cozy nook b...</td>\n",
       "      <td>2</td>\n",
       "      <td>artist</td>\n",
       "      <td>Agent_27</td>\n",
       "      <td>You are answering questions as if you were a h...</td>\n",
       "      <td>1.0</td>\n",
       "      <td>...</td>\n",
       "      <td>NaN</td>\n",
       "      <td>As an artist, I find relaxation essential for ...</td>\n",
       "      <td>NaN</td>\n",
       "      <td>Reading fuels my creativity and imagination, p...</td>\n",
       "      <td>My favorite place for reading is a cozy nook b...</td>\n",
       "      <td>4  \\nAs an artist, I find relaxation essential...</td>\n",
       "      <td>2  \\nRunning isn't really my thing; I'd rather...</td>\n",
       "      <td>My favorite place for running is a secluded fo...</td>\n",
       "      <td>My favorite place for relaxing is a quiet art ...</td>\n",
       "      <td>5  \\nReading fuels my creativity and imaginati...</td>\n",
       "    </tr>\n",
       "    <tr>\n",
       "      <th>1</th>\n",
       "      <td>5</td>\n",
       "      <td>My favorite place for running is the nearby pa...</td>\n",
       "      <td>My favorite place to relax is my cozy reading ...</td>\n",
       "      <td>5</td>\n",
       "      <td>My favorite place to read is nestled in a cozy...</td>\n",
       "      <td>5</td>\n",
       "      <td>artist</td>\n",
       "      <td>Agent_28</td>\n",
       "      <td>You are answering questions as if you were a h...</td>\n",
       "      <td>NaN</td>\n",
       "      <td>...</td>\n",
       "      <td>NaN</td>\n",
       "      <td>I enjoy relaxing very much because it gives me...</td>\n",
       "      <td>NaN</td>\n",
       "      <td>I enjoy reading very much because it allows me...</td>\n",
       "      <td>My favorite place to read is nestled in a cozy...</td>\n",
       "      <td>5\\n\\nI enjoy relaxing very much because it giv...</td>\n",
       "      <td>5\\n\\nI enjoy running because it is a great way...</td>\n",
       "      <td>My favorite place for running is the nearby pa...</td>\n",
       "      <td>My favorite place to relax is my cozy reading ...</td>\n",
       "      <td>5\\n\\nI enjoy reading very much because it allo...</td>\n",
       "    </tr>\n",
       "    <tr>\n",
       "      <th>2</th>\n",
       "      <td>3</td>\n",
       "      <td>My favorite place for running is a quiet trail...</td>\n",
       "      <td>My favorite place for relaxing is in my garage...</td>\n",
       "      <td>2</td>\n",
       "      <td>My favorite place for reading is in the garage...</td>\n",
       "      <td>2</td>\n",
       "      <td>mechanic</td>\n",
       "      <td>Agent_29</td>\n",
       "      <td>You are answering questions as if you were a h...</td>\n",
       "      <td>1.0</td>\n",
       "      <td>...</td>\n",
       "      <td>NaN</td>\n",
       "      <td>I enjoy relaxing, but I often find myself tink...</td>\n",
       "      <td>NaN</td>\n",
       "      <td>I don't get much time to read books since I'm ...</td>\n",
       "      <td>My favorite place for reading is in the garage...</td>\n",
       "      <td>3  \\nI enjoy relaxing, but I often find myself...</td>\n",
       "      <td>2  \\nRunning isn't really my thing. I prefer g...</td>\n",
       "      <td>My favorite place for running is a quiet trail...</td>\n",
       "      <td>My favorite place for relaxing is in my garage...</td>\n",
       "      <td>2  \\nI don't get much time to read books since...</td>\n",
       "    </tr>\n",
       "    <tr>\n",
       "      <th>3</th>\n",
       "      <td>5</td>\n",
       "      <td>My favorite running spot is the winding trail ...</td>\n",
       "      <td>My favorite place for relaxing is a secluded b...</td>\n",
       "      <td>5</td>\n",
       "      <td>My favorite place for reading is a cozy corner...</td>\n",
       "      <td>3</td>\n",
       "      <td>mechanic</td>\n",
       "      <td>Agent_30</td>\n",
       "      <td>You are answering questions as if you were a h...</td>\n",
       "      <td>NaN</td>\n",
       "      <td>...</td>\n",
       "      <td>NaN</td>\n",
       "      <td>I enjoy relaxing very much because it allows m...</td>\n",
       "      <td>NaN</td>\n",
       "      <td>I enjoy reading because it allows me to escape...</td>\n",
       "      <td>My favorite place for reading is a cozy corner...</td>\n",
       "      <td>5\\n\\nI enjoy relaxing very much because it all...</td>\n",
       "      <td>3\\n\\nI enjoy running because it is a great way...</td>\n",
       "      <td>My favorite running spot is the winding trail ...</td>\n",
       "      <td>My favorite place for relaxing is a secluded b...</td>\n",
       "      <td>5\\n\\nI enjoy reading because it allows me to e...</td>\n",
       "    </tr>\n",
       "    <tr>\n",
       "      <th>4</th>\n",
       "      <td>4</td>\n",
       "      <td>Ah, the deck of a ship at dawn, with the salty...</td>\n",
       "      <td>My favorite place for relaxing is a secluded b...</td>\n",
       "      <td>4</td>\n",
       "      <td>My favorite place for reading is on the deck o...</td>\n",
       "      <td>2</td>\n",
       "      <td>sailor</td>\n",
       "      <td>Agent_31</td>\n",
       "      <td>You are answering questions as if you were a h...</td>\n",
       "      <td>1.0</td>\n",
       "      <td>...</td>\n",
       "      <td>NaN</td>\n",
       "      <td>As a sailor, I enjoy the calm moments when the...</td>\n",
       "      <td>NaN</td>\n",
       "      <td>I enjoy reading quite a bit, especially tales ...</td>\n",
       "      <td>My favorite place for reading is on the deck o...</td>\n",
       "      <td>4  \\nAs a sailor, I enjoy the calm moments whe...</td>\n",
       "      <td>2  \\nRunning on land isn't my favorite, but gi...</td>\n",
       "      <td>Ah, the deck of a ship at dawn, with the salty...</td>\n",
       "      <td>My favorite place for relaxing is a secluded b...</td>\n",
       "      <td>4  \\nI enjoy reading quite a bit, especially t...</td>\n",
       "    </tr>\n",
       "    <tr>\n",
       "      <th>5</th>\n",
       "      <td>5</td>\n",
       "      <td>My favorite place for running is the scenic wa...</td>\n",
       "      <td>My favorite place for relaxing is a cozy nook ...</td>\n",
       "      <td>5</td>\n",
       "      <td>Nestled in a cozy corner of my home, surrounde...</td>\n",
       "      <td>5</td>\n",
       "      <td>sailor</td>\n",
       "      <td>Agent_32</td>\n",
       "      <td>You are answering questions as if you were a h...</td>\n",
       "      <td>NaN</td>\n",
       "      <td>...</td>\n",
       "      <td>NaN</td>\n",
       "      <td>Relaxing is one of my favorite things to do. I...</td>\n",
       "      <td>NaN</td>\n",
       "      <td>I enjoy reading because it allows me to learn ...</td>\n",
       "      <td>Nestled in a cozy corner of my home, surrounde...</td>\n",
       "      <td>5\\n\\nRelaxing is one of my favorite things to ...</td>\n",
       "      <td>5\\n\\nI enjoy running because it's a great way ...</td>\n",
       "      <td>My favorite place for running is the scenic wa...</td>\n",
       "      <td>My favorite place for relaxing is a cozy nook ...</td>\n",
       "      <td>5\\n\\nI enjoy reading because it allows me to l...</td>\n",
       "    </tr>\n",
       "  </tbody>\n",
       "</table>\n",
       "<p>6 rows × 82 columns</p>\n",
       "</div>"
      ],
      "text/plain": [
       "   enjoy_relaxing                             favorite_place_running  \\\n",
       "0               4  My favorite place for running is a secluded fo...   \n",
       "1               5  My favorite place for running is the nearby pa...   \n",
       "2               3  My favorite place for running is a quiet trail...   \n",
       "3               5  My favorite running spot is the winding trail ...   \n",
       "4               4  Ah, the deck of a ship at dawn, with the salty...   \n",
       "5               5  My favorite place for running is the scenic wa...   \n",
       "\n",
       "                             favorite_place_relaxing  enjoy_reading  \\\n",
       "0  My favorite place for relaxing is a quiet art ...              5   \n",
       "1  My favorite place to relax is my cozy reading ...              5   \n",
       "2  My favorite place for relaxing is in my garage...              2   \n",
       "3  My favorite place for relaxing is a secluded b...              5   \n",
       "4  My favorite place for relaxing is a secluded b...              4   \n",
       "5  My favorite place for relaxing is a cozy nook ...              5   \n",
       "\n",
       "                              favorite_place_reading  enjoy_running   persona  \\\n",
       "0  My favorite place for reading is a cozy nook b...              2    artist   \n",
       "1  My favorite place to read is nestled in a cozy...              5    artist   \n",
       "2  My favorite place for reading is in the garage...              2  mechanic   \n",
       "3  My favorite place for reading is a cozy corner...              3  mechanic   \n",
       "4  My favorite place for reading is on the deck o...              2    sailor   \n",
       "5  Nestled in a cozy corner of my home, surrounde...              5    sailor   \n",
       "\n",
       "  agent_name                                  agent_instruction  top_p  ...  \\\n",
       "0   Agent_27  You are answering questions as if you were a h...    1.0  ...   \n",
       "1   Agent_28  You are answering questions as if you were a h...    NaN  ...   \n",
       "2   Agent_29  You are answering questions as if you were a h...    1.0  ...   \n",
       "3   Agent_30  You are answering questions as if you were a h...    NaN  ...   \n",
       "4   Agent_31  You are answering questions as if you were a h...    1.0  ...   \n",
       "5   Agent_32  You are answering questions as if you were a h...    NaN  ...   \n",
       "\n",
       "   favorite_place_running_comment  \\\n",
       "0                             NaN   \n",
       "1                             NaN   \n",
       "2                             NaN   \n",
       "3                             NaN   \n",
       "4                             NaN   \n",
       "5                             NaN   \n",
       "\n",
       "                              enjoy_relaxing_comment  \\\n",
       "0  As an artist, I find relaxation essential for ...   \n",
       "1  I enjoy relaxing very much because it gives me...   \n",
       "2  I enjoy relaxing, but I often find myself tink...   \n",
       "3  I enjoy relaxing very much because it allows m...   \n",
       "4  As a sailor, I enjoy the calm moments when the...   \n",
       "5  Relaxing is one of my favorite things to do. I...   \n",
       "\n",
       "   favorite_place_relaxing_comment  \\\n",
       "0                              NaN   \n",
       "1                              NaN   \n",
       "2                              NaN   \n",
       "3                              NaN   \n",
       "4                              NaN   \n",
       "5                              NaN   \n",
       "\n",
       "                               enjoy_reading_comment  \\\n",
       "0  Reading fuels my creativity and imagination, p...   \n",
       "1  I enjoy reading very much because it allows me...   \n",
       "2  I don't get much time to read books since I'm ...   \n",
       "3  I enjoy reading because it allows me to escape...   \n",
       "4  I enjoy reading quite a bit, especially tales ...   \n",
       "5  I enjoy reading because it allows me to learn ...   \n",
       "\n",
       "             favorite_place_reading_generated_tokens  \\\n",
       "0  My favorite place for reading is a cozy nook b...   \n",
       "1  My favorite place to read is nestled in a cozy...   \n",
       "2  My favorite place for reading is in the garage...   \n",
       "3  My favorite place for reading is a cozy corner...   \n",
       "4  My favorite place for reading is on the deck o...   \n",
       "5  Nestled in a cozy corner of my home, surrounde...   \n",
       "\n",
       "                     enjoy_relaxing_generated_tokens  \\\n",
       "0  4  \\nAs an artist, I find relaxation essential...   \n",
       "1  5\\n\\nI enjoy relaxing very much because it giv...   \n",
       "2  3  \\nI enjoy relaxing, but I often find myself...   \n",
       "3  5\\n\\nI enjoy relaxing very much because it all...   \n",
       "4  4  \\nAs a sailor, I enjoy the calm moments whe...   \n",
       "5  5\\n\\nRelaxing is one of my favorite things to ...   \n",
       "\n",
       "                      enjoy_running_generated_tokens  \\\n",
       "0  2  \\nRunning isn't really my thing; I'd rather...   \n",
       "1  5\\n\\nI enjoy running because it is a great way...   \n",
       "2  2  \\nRunning isn't really my thing. I prefer g...   \n",
       "3  3\\n\\nI enjoy running because it is a great way...   \n",
       "4  2  \\nRunning on land isn't my favorite, but gi...   \n",
       "5  5\\n\\nI enjoy running because it's a great way ...   \n",
       "\n",
       "             favorite_place_running_generated_tokens  \\\n",
       "0  My favorite place for running is a secluded fo...   \n",
       "1  My favorite place for running is the nearby pa...   \n",
       "2  My favorite place for running is a quiet trail...   \n",
       "3  My favorite running spot is the winding trail ...   \n",
       "4  Ah, the deck of a ship at dawn, with the salty...   \n",
       "5  My favorite place for running is the scenic wa...   \n",
       "\n",
       "            favorite_place_relaxing_generated_tokens  \\\n",
       "0  My favorite place for relaxing is a quiet art ...   \n",
       "1  My favorite place to relax is my cozy reading ...   \n",
       "2  My favorite place for relaxing is in my garage...   \n",
       "3  My favorite place for relaxing is a secluded b...   \n",
       "4  My favorite place for relaxing is a secluded b...   \n",
       "5  My favorite place for relaxing is a cozy nook ...   \n",
       "\n",
       "                      enjoy_reading_generated_tokens  \n",
       "0  5  \\nReading fuels my creativity and imaginati...  \n",
       "1  5\\n\\nI enjoy reading very much because it allo...  \n",
       "2  2  \\nI don't get much time to read books since...  \n",
       "3  5\\n\\nI enjoy reading because it allows me to e...  \n",
       "4  4  \\nI enjoy reading quite a bit, especially t...  \n",
       "5  5\\n\\nI enjoy reading because it allows me to l...  \n",
       "\n",
       "[6 rows x 82 columns]"
      ]
     },
     "execution_count": 30,
     "metadata": {},
     "output_type": "execute_result"
    }
   ],
   "source": [
    "df = results.to_pandas(remove_prefix=True)\n",
    "df"
   ]
  },
  {
   "cell_type": "markdown",
   "id": "5e783239-1b4c-44d2-8f1f-ef56a62bd25c",
   "metadata": {
    "editable": true,
    "slideshow": {
     "slide_type": ""
    },
    "tags": []
   },
   "source": [
    "The `Results` object also supports SQL-like queries with the the `sql` method:"
   ]
  },
  {
   "cell_type": "code",
   "execution_count": 31,
   "id": "8bdca6c4-0ef6-4daa-ae4f-8b9bdd4a9043",
   "metadata": {
    "editable": true,
    "slideshow": {
     "slide_type": ""
    },
    "tags": []
   },
   "outputs": [
    {
     "data": {
      "text/html": [
       "<div>\n",
       "<style scoped>\n",
       "    .dataframe tbody tr th:only-of-type {\n",
       "        vertical-align: middle;\n",
       "    }\n",
       "\n",
       "    .dataframe tbody tr th {\n",
       "        vertical-align: top;\n",
       "    }\n",
       "\n",
       "    .dataframe thead th {\n",
       "        text-align: right;\n",
       "    }\n",
       "</style>\n",
       "<table border=\"1\" class=\"dataframe\">\n",
       "  <thead>\n",
       "    <tr style=\"text-align: right;\">\n",
       "      <th></th>\n",
       "      <th>model</th>\n",
       "      <th>persona</th>\n",
       "      <th>enjoy_reading</th>\n",
       "      <th>favorite_place_reading</th>\n",
       "    </tr>\n",
       "  </thead>\n",
       "  <tbody>\n",
       "    <tr>\n",
       "      <th>0</th>\n",
       "      <td>gemini-pro</td>\n",
       "      <td>artist</td>\n",
       "      <td>5</td>\n",
       "      <td>My favorite place to read is nestled in a cozy...</td>\n",
       "    </tr>\n",
       "    <tr>\n",
       "      <th>1</th>\n",
       "      <td>gemini-pro</td>\n",
       "      <td>mechanic</td>\n",
       "      <td>5</td>\n",
       "      <td>My favorite place for reading is a cozy corner...</td>\n",
       "    </tr>\n",
       "    <tr>\n",
       "      <th>2</th>\n",
       "      <td>gemini-pro</td>\n",
       "      <td>sailor</td>\n",
       "      <td>5</td>\n",
       "      <td>Nestled in a cozy corner of my home, surrounde...</td>\n",
       "    </tr>\n",
       "    <tr>\n",
       "      <th>3</th>\n",
       "      <td>gpt-4o</td>\n",
       "      <td>artist</td>\n",
       "      <td>5</td>\n",
       "      <td>My favorite place for reading is a cozy nook b...</td>\n",
       "    </tr>\n",
       "    <tr>\n",
       "      <th>4</th>\n",
       "      <td>gpt-4o</td>\n",
       "      <td>mechanic</td>\n",
       "      <td>2</td>\n",
       "      <td>My favorite place for reading is in the garage...</td>\n",
       "    </tr>\n",
       "    <tr>\n",
       "      <th>5</th>\n",
       "      <td>gpt-4o</td>\n",
       "      <td>sailor</td>\n",
       "      <td>4</td>\n",
       "      <td>My favorite place for reading is on the deck o...</td>\n",
       "    </tr>\n",
       "  </tbody>\n",
       "</table>\n",
       "</div>"
      ],
      "text/plain": [
       "        model   persona  enjoy_reading  \\\n",
       "0  gemini-pro    artist              5   \n",
       "1  gemini-pro  mechanic              5   \n",
       "2  gemini-pro    sailor              5   \n",
       "3      gpt-4o    artist              5   \n",
       "4      gpt-4o  mechanic              2   \n",
       "5      gpt-4o    sailor              4   \n",
       "\n",
       "                              favorite_place_reading  \n",
       "0  My favorite place to read is nestled in a cozy...  \n",
       "1  My favorite place for reading is a cozy corner...  \n",
       "2  Nestled in a cozy corner of my home, surrounde...  \n",
       "3  My favorite place for reading is a cozy nook b...  \n",
       "4  My favorite place for reading is in the garage...  \n",
       "5  My favorite place for reading is on the deck o...  "
      ]
     },
     "execution_count": 31,
     "metadata": {},
     "output_type": "execute_result"
    }
   ],
   "source": [
    "results.sql(\"\"\"\n",
    "select model, persona, enjoy_reading, favorite_place_reading\n",
    "from self\n",
    "order by 1,2,3\n",
    "\"\"\", shape=\"wide\")"
   ]
  },
  {
   "cell_type": "markdown",
   "id": "e526c294-d9f9-43a1-bc9a-16c635c5f2df",
   "metadata": {
    "editable": true,
    "slideshow": {
     "slide_type": ""
    },
    "tags": []
   },
   "source": [
    "## Posting to the Coop\n",
    "The [Coop](https://www.expectedparrot.com/content/explore) is a platform for creating, storing and sharing LLM-based research.\n",
    "It is fully integrated with EDSL and accessible from your workspace or Coop account page.\n",
    "Learn more about [creating an account](https://www.expectedparrot.com/login) and [using the Coop](https://docs.expectedparrot.com/en/latest/coop.html).\n",
    "\n",
    "We can post any EDSL object to the Coop by call the `push` method on it, optionally passing a `description` and `visibility` status:"
   ]
  },
  {
   "cell_type": "code",
   "execution_count": 32,
   "id": "a6f9233b-5ddc-4850-8ec9-6dd2d6647ecc",
   "metadata": {
    "editable": true,
    "slideshow": {
     "slide_type": ""
    },
    "tags": [
     "skip-execution"
    ]
   },
   "outputs": [
    {
     "data": {
      "text/plain": [
       "{'description': 'Starter tutorial sample survey results',\n",
       " 'object_type': 'results',\n",
       " 'url': 'https://www.expectedparrot.com/content/92950b65-4415-45a6-b835-8a94efc7eba2',\n",
       " 'uuid': '92950b65-4415-45a6-b835-8a94efc7eba2',\n",
       " 'version': '0.1.38.dev1',\n",
       " 'visibility': 'public'}"
      ]
     },
     "execution_count": 32,
     "metadata": {},
     "output_type": "execute_result"
    }
   ],
   "source": [
    "results.push(description = \"Starter tutorial sample survey results\", visibility=\"public\")"
   ]
  },
  {
   "cell_type": "markdown",
   "id": "f8002060-2836-4fdd-bfa4-9d011fd84de8",
   "metadata": {
    "editable": true,
    "slideshow": {
     "slide_type": ""
    },
    "tags": []
   },
   "source": [
    "We can also post this notebook:"
   ]
  },
  {
   "cell_type": "code",
   "execution_count": 33,
   "id": "257c7a6e-a7e8-4b15-9936-afa18c623b21",
   "metadata": {
    "editable": true,
    "slideshow": {
     "slide_type": ""
    },
    "tags": [
     "skip-execution"
    ]
   },
   "outputs": [
    {
     "data": {
      "text/plain": [
       "{'description': 'Starter Tutorial',\n",
       " 'object_type': 'notebook',\n",
       " 'url': 'https://www.expectedparrot.com/content/046bcbce-1cdc-4199-a686-7252d90458d8',\n",
       " 'uuid': '046bcbce-1cdc-4199-a686-7252d90458d8',\n",
       " 'version': '0.1.38.dev1',\n",
       " 'visibility': 'public'}"
      ]
     },
     "execution_count": 33,
     "metadata": {},
     "output_type": "execute_result"
    }
   ],
   "source": [
    "from edsl import Notebook\n",
    "\n",
    "notebook = Notebook(path=\"starter_tutorial.ipynb\")\n",
    "\n",
    "notebook.push(description=\"Starter Tutorial\", visibility=\"public\")"
   ]
  },
  {
   "cell_type": "markdown",
   "id": "67e90364-e9f3-483d-b301-4ab5178dd151",
   "metadata": {},
   "source": [
    "To update an object:"
   ]
  },
  {
   "cell_type": "code",
   "execution_count": 34,
   "id": "ec894b67-3433-4912-9060-56993a2549d1",
   "metadata": {
    "editable": true,
    "slideshow": {
     "slide_type": ""
    },
    "tags": [
     "skip-execution"
    ]
   },
   "outputs": [
    {
     "ename": "CoopServerResponseError",
     "evalue": "Not authorized to update this object.",
     "output_type": "error",
     "traceback": [
      "\u001b[0;31m---------------------------------------------------------------------------\u001b[0m",
      "\u001b[0;31mCoopServerResponseError\u001b[0m                   Traceback (most recent call last)",
      "Cell \u001b[0;32mIn[34], line 3\u001b[0m\n\u001b[1;32m      1\u001b[0m notebook \u001b[38;5;241m=\u001b[39m Notebook(path\u001b[38;5;241m=\u001b[39m\u001b[38;5;124m\"\u001b[39m\u001b[38;5;124mstarter_tutorial.ipynb\u001b[39m\u001b[38;5;124m\"\u001b[39m) \u001b[38;5;66;03m# resave\u001b[39;00m\n\u001b[0;32m----> 3\u001b[0m \u001b[43mnotebook\u001b[49m\u001b[38;5;241;43m.\u001b[39;49m\u001b[43mpatch\u001b[49m\u001b[43m(\u001b[49m\u001b[43muuid\u001b[49m\u001b[43m \u001b[49m\u001b[38;5;241;43m=\u001b[39;49m\u001b[43m \u001b[49m\u001b[38;5;124;43m\"\u001b[39;49m\u001b[38;5;124;43m2d0c7905-933c-441a-8203-741d9dd942c9\u001b[39;49m\u001b[38;5;124;43m\"\u001b[39;49m\u001b[43m,\u001b[49m\u001b[43m \u001b[49m\u001b[43mvalue\u001b[49m\u001b[43m \u001b[49m\u001b[38;5;241;43m=\u001b[39;49m\u001b[43m \u001b[49m\u001b[43mnotebook\u001b[49m\u001b[43m)\u001b[49m\n",
      "File \u001b[0;32m~/tools/edsl/edsl/Base.py:110\u001b[0m, in \u001b[0;36mPersistenceMixin.patch\u001b[0;34m(cls, uuid, url, description, value, visibility)\u001b[0m\n\u001b[1;32m    107\u001b[0m \u001b[38;5;28;01mfrom\u001b[39;00m \u001b[38;5;21;01medsl\u001b[39;00m\u001b[38;5;21;01m.\u001b[39;00m\u001b[38;5;21;01mcoop\u001b[39;00m \u001b[38;5;28;01mimport\u001b[39;00m Coop\n\u001b[1;32m    109\u001b[0m coop \u001b[38;5;241m=\u001b[39m Coop()\n\u001b[0;32m--> 110\u001b[0m \u001b[38;5;28;01mreturn\u001b[39;00m \u001b[43mcoop\u001b[49m\u001b[38;5;241;43m.\u001b[39;49m\u001b[43mpatch\u001b[49m\u001b[43m(\u001b[49m\u001b[43muuid\u001b[49m\u001b[43m,\u001b[49m\u001b[43m \u001b[49m\u001b[43murl\u001b[49m\u001b[43m,\u001b[49m\u001b[43m \u001b[49m\u001b[43mdescription\u001b[49m\u001b[43m,\u001b[49m\u001b[43m \u001b[49m\u001b[43mvalue\u001b[49m\u001b[43m,\u001b[49m\u001b[43m \u001b[49m\u001b[43mvisibility\u001b[49m\u001b[43m)\u001b[49m\n",
      "File \u001b[0;32m~/tools/edsl/edsl/coop/coop.py:403\u001b[0m, in \u001b[0;36mCoop.patch\u001b[0;34m(self, uuid, url, description, value, visibility)\u001b[0m\n\u001b[1;32m    385\u001b[0m uuid \u001b[38;5;241m=\u001b[39m \u001b[38;5;28mself\u001b[39m\u001b[38;5;241m.\u001b[39m_resolve_uuid(uuid, url)\n\u001b[1;32m    386\u001b[0m response \u001b[38;5;241m=\u001b[39m \u001b[38;5;28mself\u001b[39m\u001b[38;5;241m.\u001b[39m_send_server_request(\n\u001b[1;32m    387\u001b[0m     uri\u001b[38;5;241m=\u001b[39m\u001b[38;5;124mf\u001b[39m\u001b[38;5;124m\"\u001b[39m\u001b[38;5;124mapi/v0/object\u001b[39m\u001b[38;5;124m\"\u001b[39m,\n\u001b[1;32m    388\u001b[0m     method\u001b[38;5;241m=\u001b[39m\u001b[38;5;124m\"\u001b[39m\u001b[38;5;124mPATCH\u001b[39m\u001b[38;5;124m\"\u001b[39m,\n\u001b[0;32m   (...)\u001b[0m\n\u001b[1;32m    401\u001b[0m     },\n\u001b[1;32m    402\u001b[0m )\n\u001b[0;32m--> 403\u001b[0m \u001b[38;5;28;43mself\u001b[39;49m\u001b[38;5;241;43m.\u001b[39;49m\u001b[43m_resolve_server_response\u001b[49m\u001b[43m(\u001b[49m\u001b[43mresponse\u001b[49m\u001b[43m)\u001b[49m\n\u001b[1;32m    404\u001b[0m \u001b[38;5;28;01mreturn\u001b[39;00m response\u001b[38;5;241m.\u001b[39mjson()\n",
      "File \u001b[0;32m~/tools/edsl/edsl/coop/coop.py:185\u001b[0m, in \u001b[0;36mCoop._resolve_server_response\u001b[0;34m(self, response, check_api_key)\u001b[0m\n\u001b[1;32m    182\u001b[0m     \u001b[38;5;28mprint\u001b[39m(message)\n\u001b[1;32m    183\u001b[0m     message \u001b[38;5;241m=\u001b[39m \u001b[38;5;124m\"\u001b[39m\u001b[38;5;124mPlease provide an Expected Parrot API key.\u001b[39m\u001b[38;5;124m\"\u001b[39m\n\u001b[0;32m--> 185\u001b[0m \u001b[38;5;28;01mraise\u001b[39;00m CoopServerResponseError(message)\n",
      "\u001b[0;31mCoopServerResponseError\u001b[0m: Not authorized to update this object."
     ]
    }
   ],
   "source": [
    "notebook = Notebook(path=\"starter_tutorial.ipynb\") # resave\n",
    "\n",
    "notebook.patch(uuid = \"2d0c7905-933c-441a-8203-741d9dd942c9\", value = notebook)"
   ]
  }
 ],
 "metadata": {
  "kernelspec": {
   "display_name": "Python 3 (ipykernel)",
   "language": "python",
   "name": "python3"
  },
  "language_info": {
   "codemirror_mode": {
    "name": "ipython",
    "version": 3
   },
   "file_extension": ".py",
   "mimetype": "text/x-python",
   "name": "python",
   "nbconvert_exporter": "python",
   "pygments_lexer": "ipython3",
   "version": "3.10.15"
  }
 },
 "nbformat": 4,
 "nbformat_minor": 5
}
