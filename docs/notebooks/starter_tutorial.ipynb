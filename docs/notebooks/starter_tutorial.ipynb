{
 "cells": [
  {
   "cell_type": "markdown",
   "id": "c20e93c0-943f-46fb-8382-ca6f1eb48810",
   "metadata": {
    "editable": true,
    "slideshow": {
     "slide_type": ""
    },
    "tags": []
   },
   "source": [
    "# Starter Tutorial\n",
    "This tutorial demonstrates basic steps for conducting an AI-powered survey using EDSL. \n",
    "\n",
    "## Prerequisites\n",
    "Before running the code below, ensure that you have already completed technical setup:\n",
    "\n",
    "- Download the EDSL package. See [Installation](https://docs.expectedparrot.com/en/latest/installation.html) instructions.\n",
    "\n",
    "- Create a [Coop](https://docs.expectedparrot.com/en/latest/coop.html) account and activate [Remote Inference](https://docs.expectedparrot.com/en/latest/remote_inference.html) or store your own [API Keys](https://docs.expectedparrot.com/en/latest/api_keys.html) for language models that you plan to use locally.\n",
    "\n",
    "If you encounter any issues or have questions, please email us at info@expectedparrot.com or post a question at our [Discord channel](https://discord.com/invite/mxAYkjfy9m).\n",
    "\n",
    "## Conducting an AI-powered survey\n",
    "In the steps below we show how to create and run a simple question in EDSL. \n",
    "Then we show how to design a more complex survey with AI agents and different language models.\n",
    "\n",
    "### Run a simple question\n",
    "In this first example we create a simple multiple choice question, administer it to a language model and inspect the response:"
   ]
  },
  {
   "cell_type": "code",
   "execution_count": 1,
   "id": "b789e7f1-47fb-4a04-977b-ad2b9c647ec0",
   "metadata": {
    "editable": true,
    "slideshow": {
     "slide_type": ""
    },
    "tags": []
   },
   "outputs": [
    {
     "data": {
      "text/html": [
       "<pre style=\"white-space:pre;overflow-x:auto;line-height:normal;font-family:Menlo,'DejaVu Sans Mono',consolas,'Courier New',monospace\">┏━━━━━━━━━━━━━━━━━━━┓\n",
       "┃<span style=\"color: #800080; text-decoration-color: #800080; font-weight: bold\"> answer            </span>┃\n",
       "┃<span style=\"color: #800080; text-decoration-color: #800080; font-weight: bold\"> .example_question </span>┃\n",
       "┡━━━━━━━━━━━━━━━━━━━┩\n",
       "│<span style=\"color: #7f7f7f; text-decoration-color: #7f7f7f\"> Good              </span>│\n",
       "└───────────────────┘\n",
       "</pre>\n"
      ],
      "text/plain": [
       "┏━━━━━━━━━━━━━━━━━━━┓\n",
       "┃\u001b[1;35m \u001b[0m\u001b[1;35manswer           \u001b[0m\u001b[1;35m \u001b[0m┃\n",
       "┃\u001b[1;35m \u001b[0m\u001b[1;35m.example_question\u001b[0m\u001b[1;35m \u001b[0m┃\n",
       "┡━━━━━━━━━━━━━━━━━━━┩\n",
       "│\u001b[2m \u001b[0m\u001b[2mGood             \u001b[0m\u001b[2m \u001b[0m│\n",
       "└───────────────────┘\n"
      ]
     },
     "metadata": {},
     "output_type": "display_data"
    }
   ],
   "source": [
    "# Import a question type\n",
    "from edsl import QuestionMultipleChoice\n",
    "\n",
    "# Construct a question in the question type template\n",
    "q = QuestionMultipleChoice(\n",
    "    question_name = \"example_question\",\n",
    "    question_text = \"How do you feel today?\",\n",
    "    question_options = [\"Bad\", \"OK\", \"Good\"]\n",
    ")\n",
    "\n",
    "# Run it with the default language model\n",
    "results = q.run()\n",
    "\n",
    "# Inspect the results\n",
    "results.select(\"example_question\").print(format=\"rich\")"
   ]
  },
  {
   "cell_type": "markdown",
   "id": "049e55d5-9a05-461a-8f0c-df74c0297cbc",
   "metadata": {
    "editable": true,
    "slideshow": {
     "slide_type": ""
    },
    "tags": []
   },
   "source": [
    "*Note:* The default language model at the time this notebook was last updated was gpt-4o; you will need an API key for OpenAI to use this model and run this example locally.\n",
    "See instructions on storing your [API Keys](https://docs.expectedparrot.com/en/latest/api_keys.html). \n",
    "Alternatively, you can activate [Remote Inference](https://docs.expectedparrot.com/en/latest/remote_inference.html) at your [Coop](https://docs.expectedparrot.com/en/latest/coop.html) account to run the example on the Expected Parrot server.\n",
    "\n",
    "### Conduct a survey with agents and models\n",
    "In this next example we create a survey of multiple questions, design personas for AI agents to answer the questions and select the language models that we want to generate the responses.\n",
    "We also show how to parameterize questions with context or data to administer different versions of the questions efficiently.\n",
    "This can be useful for comparing responses for different data, agents and models, and performing data labeling tasks.\n",
    "\n",
    "We also show how to filter, sort, select and print components of the dataset of results.\n",
    "\n",
    "#### Question types\n",
    "To see examples of all EDSL question types, run:"
   ]
  },
  {
   "cell_type": "code",
   "execution_count": 2,
   "id": "0edf99ba-c301-48c9-9a08-016751153ebb",
   "metadata": {
    "editable": true,
    "slideshow": {
     "slide_type": ""
    },
    "tags": []
   },
   "outputs": [
    {
     "data": {
      "text/plain": [
       "['checkbox',\n",
       " 'extract',\n",
       " 'free_text',\n",
       " 'functional',\n",
       " 'likert_five',\n",
       " 'linear_scale',\n",
       " 'list',\n",
       " 'multiple_choice',\n",
       " 'numerical',\n",
       " 'rank',\n",
       " 'top_k',\n",
       " 'yes_no']"
      ]
     },
     "execution_count": 2,
     "metadata": {},
     "output_type": "execute_result"
    }
   ],
   "source": [
    "from edsl import Question\n",
    "\n",
    "Question.available()"
   ]
  },
  {
   "cell_type": "markdown",
   "id": "3a96bd0b-4762-4e03-a47e-01dfe661cee9",
   "metadata": {
    "editable": true,
    "slideshow": {
     "slide_type": ""
    },
    "tags": []
   },
   "source": [
    "#### Language models\n",
    "Newly released language models are automatically added to EDSL when they become available. \n",
    "To see a current list of available models, run:"
   ]
  },
  {
   "cell_type": "code",
   "execution_count": 3,
   "id": "3b775586-8240-4519-aefd-72deeae26a98",
   "metadata": {
    "editable": true,
    "slideshow": {
     "slide_type": ""
    },
    "tags": []
   },
   "outputs": [],
   "source": [
    "from edsl import Model\n",
    "\n",
    "# Model.available() # uncomment this line and run it"
   ]
  },
  {
   "cell_type": "markdown",
   "id": "391a62e9-ce89-40f3-b43a-bea3d7b8782c",
   "metadata": {},
   "source": [
    "To confirm the current default model:"
   ]
  },
  {
   "cell_type": "code",
   "execution_count": 4,
   "id": "847fd577-078a-4502-8112-97ee3699cd11",
   "metadata": {},
   "outputs": [],
   "source": [
    "# Model() # uncomment this line and run it"
   ]
  },
  {
   "cell_type": "markdown",
   "id": "4eecad61-9e6d-4b7e-9a70-0bf5546e2f49",
   "metadata": {},
   "source": [
    "#### Example survey"
   ]
  },
  {
   "cell_type": "code",
   "execution_count": 5,
   "id": "17cc2398-55be-4865-88f0-e66104c115a2",
   "metadata": {
    "editable": true,
    "slideshow": {
     "slide_type": ""
    },
    "tags": []
   },
   "outputs": [
    {
     "data": {
      "text/html": [
       "<pre style=\"white-space:pre;overflow-x:auto;line-height:normal;font-family:Menlo,'DejaVu Sans Mono',consolas,'Courier New',monospace\">┏━━━━━━━━━━━━━━━━━━━━━━━━━━━━┳━━━━━━━━━━┳━━━━━━━━━━━━━━━┳━━━━━━━━━━━━━━━━━━━━━━━━━━━━━━━━━━━━━━━━━━━━━━━━━┳━━━━━━━┓\n",
       "┃<span style=\"color: #800080; text-decoration-color: #800080; font-weight: bold\"> Model                      </span>┃<span style=\"color: #800080; text-decoration-color: #800080; font-weight: bold\"> Activity </span>┃<span style=\"color: #800080; text-decoration-color: #800080; font-weight: bold\"> Agent persona </span>┃<span style=\"color: #800080; text-decoration-color: #800080; font-weight: bold\"> Recent                                          </span>┃<span style=\"color: #800080; text-decoration-color: #800080; font-weight: bold\"> Enjoy </span>┃\n",
       "┡━━━━━━━━━━━━━━━━━━━━━━━━━━━━╇━━━━━━━━━━╇━━━━━━━━━━━━━━━╇━━━━━━━━━━━━━━━━━━━━━━━━━━━━━━━━━━━━━━━━━━━━━━━━━╇━━━━━━━┩\n",
       "│<span style=\"color: #7f7f7f; text-decoration-color: #7f7f7f\"> claude-3-5-sonnet-20240620 </span>│<span style=\"color: #7f7f7f; text-decoration-color: #7f7f7f\"> reading  </span>│<span style=\"color: #7f7f7f; text-decoration-color: #7f7f7f\"> chef          </span>│<span style=\"color: #7f7f7f; text-decoration-color: #7f7f7f\"> As a chef, I'm always reading cookbooks,        </span>│<span style=\"color: #7f7f7f; text-decoration-color: #7f7f7f\"> 3     </span>│\n",
       "│<span style=\"color: #7f7f7f; text-decoration-color: #7f7f7f\">                            </span>│<span style=\"color: #7f7f7f; text-decoration-color: #7f7f7f\">          </span>│<span style=\"color: #7f7f7f; text-decoration-color: #7f7f7f\">               </span>│<span style=\"color: #7f7f7f; text-decoration-color: #7f7f7f\"> culinary magazines, and food blogs to stay      </span>│<span style=\"color: #7f7f7f; text-decoration-color: #7f7f7f\">       </span>│\n",
       "│<span style=\"color: #7f7f7f; text-decoration-color: #7f7f7f\">                            </span>│<span style=\"color: #7f7f7f; text-decoration-color: #7f7f7f\">          </span>│<span style=\"color: #7f7f7f; text-decoration-color: #7f7f7f\">               </span>│<span style=\"color: #7f7f7f; text-decoration-color: #7f7f7f\"> up-to-date with the latest trends and           </span>│<span style=\"color: #7f7f7f; text-decoration-color: #7f7f7f\">       </span>│\n",
       "│<span style=\"color: #7f7f7f; text-decoration-color: #7f7f7f\">                            </span>│<span style=\"color: #7f7f7f; text-decoration-color: #7f7f7f\">          </span>│<span style=\"color: #7f7f7f; text-decoration-color: #7f7f7f\">               </span>│<span style=\"color: #7f7f7f; text-decoration-color: #7f7f7f\"> techniques in the culinary world. Just          </span>│<span style=\"color: #7f7f7f; text-decoration-color: #7f7f7f\">       </span>│\n",
       "│<span style=\"color: #7f7f7f; text-decoration-color: #7f7f7f\">                            </span>│<span style=\"color: #7f7f7f; text-decoration-color: #7f7f7f\">          </span>│<span style=\"color: #7f7f7f; text-decoration-color: #7f7f7f\">               </span>│<span style=\"color: #7f7f7f; text-decoration-color: #7f7f7f\"> yesterday, I was poring over a new cookbook     </span>│<span style=\"color: #7f7f7f; text-decoration-color: #7f7f7f\">       </span>│\n",
       "│<span style=\"color: #7f7f7f; text-decoration-color: #7f7f7f\">                            </span>│<span style=\"color: #7f7f7f; text-decoration-color: #7f7f7f\">          </span>│<span style=\"color: #7f7f7f; text-decoration-color: #7f7f7f\">               </span>│<span style=\"color: #7f7f7f; text-decoration-color: #7f7f7f\"> featuring modern interpretations of classic     </span>│<span style=\"color: #7f7f7f; text-decoration-color: #7f7f7f\">       </span>│\n",
       "│<span style=\"color: #7f7f7f; text-decoration-color: #7f7f7f\">                            </span>│<span style=\"color: #7f7f7f; text-decoration-color: #7f7f7f\">          </span>│<span style=\"color: #7f7f7f; text-decoration-color: #7f7f7f\">               </span>│<span style=\"color: #7f7f7f; text-decoration-color: #7f7f7f\"> French cuisine. I was particularly interested   </span>│<span style=\"color: #7f7f7f; text-decoration-color: #7f7f7f\">       </span>│\n",
       "│<span style=\"color: #7f7f7f; text-decoration-color: #7f7f7f\">                            </span>│<span style=\"color: #7f7f7f; text-decoration-color: #7f7f7f\">          </span>│<span style=\"color: #7f7f7f; text-decoration-color: #7f7f7f\">               </span>│<span style=\"color: #7f7f7f; text-decoration-color: #7f7f7f\"> in a section on innovative sauces and           </span>│<span style=\"color: #7f7f7f; text-decoration-color: #7f7f7f\">       </span>│\n",
       "│<span style=\"color: #7f7f7f; text-decoration-color: #7f7f7f\">                            </span>│<span style=\"color: #7f7f7f; text-decoration-color: #7f7f7f\">          </span>│<span style=\"color: #7f7f7f; text-decoration-color: #7f7f7f\">               </span>│<span style=\"color: #7f7f7f; text-decoration-color: #7f7f7f\"> reductions. Reading about food is an essential  </span>│<span style=\"color: #7f7f7f; text-decoration-color: #7f7f7f\">       </span>│\n",
       "│<span style=\"color: #7f7f7f; text-decoration-color: #7f7f7f\">                            </span>│<span style=\"color: #7f7f7f; text-decoration-color: #7f7f7f\">          </span>│<span style=\"color: #7f7f7f; text-decoration-color: #7f7f7f\">               </span>│<span style=\"color: #7f7f7f; text-decoration-color: #7f7f7f\"> part of my professional development and helps   </span>│<span style=\"color: #7f7f7f; text-decoration-color: #7f7f7f\">       </span>│\n",
       "│<span style=\"color: #7f7f7f; text-decoration-color: #7f7f7f\">                            </span>│<span style=\"color: #7f7f7f; text-decoration-color: #7f7f7f\">          </span>│<span style=\"color: #7f7f7f; text-decoration-color: #7f7f7f\">               </span>│<span style=\"color: #7f7f7f; text-decoration-color: #7f7f7f\"> inspire new ideas for my own cooking. It's not  </span>│<span style=\"color: #7f7f7f; text-decoration-color: #7f7f7f\">       </span>│\n",
       "│<span style=\"color: #7f7f7f; text-decoration-color: #7f7f7f\">                            </span>│<span style=\"color: #7f7f7f; text-decoration-color: #7f7f7f\">          </span>│<span style=\"color: #7f7f7f; text-decoration-color: #7f7f7f\">               </span>│<span style=\"color: #7f7f7f; text-decoration-color: #7f7f7f\"> just about recipes, but also understanding      </span>│<span style=\"color: #7f7f7f; text-decoration-color: #7f7f7f\">       </span>│\n",
       "│<span style=\"color: #7f7f7f; text-decoration-color: #7f7f7f\">                            </span>│<span style=\"color: #7f7f7f; text-decoration-color: #7f7f7f\">          </span>│<span style=\"color: #7f7f7f; text-decoration-color: #7f7f7f\">               </span>│<span style=\"color: #7f7f7f; text-decoration-color: #7f7f7f\"> flavor combinations, plating techniques, and    </span>│<span style=\"color: #7f7f7f; text-decoration-color: #7f7f7f\">       </span>│\n",
       "│<span style=\"color: #7f7f7f; text-decoration-color: #7f7f7f\">                            </span>│<span style=\"color: #7f7f7f; text-decoration-color: #7f7f7f\">          </span>│<span style=\"color: #7f7f7f; text-decoration-color: #7f7f7f\">               </span>│<span style=\"color: #7f7f7f; text-decoration-color: #7f7f7f\"> the cultural significance of different dishes.  </span>│<span style=\"color: #7f7f7f; text-decoration-color: #7f7f7f\">       </span>│\n",
       "├────────────────────────────┼──────────┼───────────────┼─────────────────────────────────────────────────┼───────┤\n",
       "│<span style=\"color: #7f7f7f; text-decoration-color: #7f7f7f\"> gpt-4o                     </span>│<span style=\"color: #7f7f7f; text-decoration-color: #7f7f7f\"> reading  </span>│<span style=\"color: #7f7f7f; text-decoration-color: #7f7f7f\"> chef          </span>│<span style=\"color: #7f7f7f; text-decoration-color: #7f7f7f\"> The most recent time I was reading, I was       </span>│<span style=\"color: #7f7f7f; text-decoration-color: #7f7f7f\"> 4     </span>│\n",
       "│<span style=\"color: #7f7f7f; text-decoration-color: #7f7f7f\">                            </span>│<span style=\"color: #7f7f7f; text-decoration-color: #7f7f7f\">          </span>│<span style=\"color: #7f7f7f; text-decoration-color: #7f7f7f\">               </span>│<span style=\"color: #7f7f7f; text-decoration-color: #7f7f7f\"> flipping through a cookbook that focuses on     </span>│<span style=\"color: #7f7f7f; text-decoration-color: #7f7f7f\">       </span>│\n",
       "│<span style=\"color: #7f7f7f; text-decoration-color: #7f7f7f\">                            </span>│<span style=\"color: #7f7f7f; text-decoration-color: #7f7f7f\">          </span>│<span style=\"color: #7f7f7f; text-decoration-color: #7f7f7f\">               </span>│<span style=\"color: #7f7f7f; text-decoration-color: #7f7f7f\"> Mediterranean cuisine. I was particularly       </span>│<span style=\"color: #7f7f7f; text-decoration-color: #7f7f7f\">       </span>│\n",
       "│<span style=\"color: #7f7f7f; text-decoration-color: #7f7f7f\">                            </span>│<span style=\"color: #7f7f7f; text-decoration-color: #7f7f7f\">          </span>│<span style=\"color: #7f7f7f; text-decoration-color: #7f7f7f\">               </span>│<span style=\"color: #7f7f7f; text-decoration-color: #7f7f7f\"> interested in a recipe for a traditional Greek  </span>│<span style=\"color: #7f7f7f; text-decoration-color: #7f7f7f\">       </span>│\n",
       "│<span style=\"color: #7f7f7f; text-decoration-color: #7f7f7f\">                            </span>│<span style=\"color: #7f7f7f; text-decoration-color: #7f7f7f\">          </span>│<span style=\"color: #7f7f7f; text-decoration-color: #7f7f7f\">               </span>│<span style=\"color: #7f7f7f; text-decoration-color: #7f7f7f\"> moussaka. The layers of eggplant, seasoned      </span>│<span style=\"color: #7f7f7f; text-decoration-color: #7f7f7f\">       </span>│\n",
       "│<span style=\"color: #7f7f7f; text-decoration-color: #7f7f7f\">                            </span>│<span style=\"color: #7f7f7f; text-decoration-color: #7f7f7f\">          </span>│<span style=\"color: #7f7f7f; text-decoration-color: #7f7f7f\">               </span>│<span style=\"color: #7f7f7f; text-decoration-color: #7f7f7f\"> ground meat, and creamy béchamel sauce sounded  </span>│<span style=\"color: #7f7f7f; text-decoration-color: #7f7f7f\">       </span>│\n",
       "│<span style=\"color: #7f7f7f; text-decoration-color: #7f7f7f\">                            </span>│<span style=\"color: #7f7f7f; text-decoration-color: #7f7f7f\">          </span>│<span style=\"color: #7f7f7f; text-decoration-color: #7f7f7f\">               </span>│<span style=\"color: #7f7f7f; text-decoration-color: #7f7f7f\"> divine. I was taking notes on the different     </span>│<span style=\"color: #7f7f7f; text-decoration-color: #7f7f7f\">       </span>│\n",
       "│<span style=\"color: #7f7f7f; text-decoration-color: #7f7f7f\">                            </span>│<span style=\"color: #7f7f7f; text-decoration-color: #7f7f7f\">          </span>│<span style=\"color: #7f7f7f; text-decoration-color: #7f7f7f\">               </span>│<span style=\"color: #7f7f7f; text-decoration-color: #7f7f7f\"> spices and techniques used, thinking about how  </span>│<span style=\"color: #7f7f7f; text-decoration-color: #7f7f7f\">       </span>│\n",
       "│<span style=\"color: #7f7f7f; text-decoration-color: #7f7f7f\">                            </span>│<span style=\"color: #7f7f7f; text-decoration-color: #7f7f7f\">          </span>│<span style=\"color: #7f7f7f; text-decoration-color: #7f7f7f\">               </span>│<span style=\"color: #7f7f7f; text-decoration-color: #7f7f7f\"> I could incorporate some of those flavors into  </span>│<span style=\"color: #7f7f7f; text-decoration-color: #7f7f7f\">       </span>│\n",
       "│<span style=\"color: #7f7f7f; text-decoration-color: #7f7f7f\">                            </span>│<span style=\"color: #7f7f7f; text-decoration-color: #7f7f7f\">          </span>│<span style=\"color: #7f7f7f; text-decoration-color: #7f7f7f\">               </span>│<span style=\"color: #7f7f7f; text-decoration-color: #7f7f7f\"> my own dishes. It was a delightful and          </span>│<span style=\"color: #7f7f7f; text-decoration-color: #7f7f7f\">       </span>│\n",
       "│<span style=\"color: #7f7f7f; text-decoration-color: #7f7f7f\">                            </span>│<span style=\"color: #7f7f7f; text-decoration-color: #7f7f7f\">          </span>│<span style=\"color: #7f7f7f; text-decoration-color: #7f7f7f\">               </span>│<span style=\"color: #7f7f7f; text-decoration-color: #7f7f7f\"> inspiring read!                                 </span>│<span style=\"color: #7f7f7f; text-decoration-color: #7f7f7f\">       </span>│\n",
       "└────────────────────────────┴──────────┴───────────────┴─────────────────────────────────────────────────┴───────┘\n",
       "</pre>\n"
      ],
      "text/plain": [
       "┏━━━━━━━━━━━━━━━━━━━━━━━━━━━━┳━━━━━━━━━━┳━━━━━━━━━━━━━━━┳━━━━━━━━━━━━━━━━━━━━━━━━━━━━━━━━━━━━━━━━━━━━━━━━━┳━━━━━━━┓\n",
       "┃\u001b[1;35m \u001b[0m\u001b[1;35mModel                     \u001b[0m\u001b[1;35m \u001b[0m┃\u001b[1;35m \u001b[0m\u001b[1;35mActivity\u001b[0m\u001b[1;35m \u001b[0m┃\u001b[1;35m \u001b[0m\u001b[1;35mAgent persona\u001b[0m\u001b[1;35m \u001b[0m┃\u001b[1;35m \u001b[0m\u001b[1;35mRecent                                         \u001b[0m\u001b[1;35m \u001b[0m┃\u001b[1;35m \u001b[0m\u001b[1;35mEnjoy\u001b[0m\u001b[1;35m \u001b[0m┃\n",
       "┡━━━━━━━━━━━━━━━━━━━━━━━━━━━━╇━━━━━━━━━━╇━━━━━━━━━━━━━━━╇━━━━━━━━━━━━━━━━━━━━━━━━━━━━━━━━━━━━━━━━━━━━━━━━━╇━━━━━━━┩\n",
       "│\u001b[2m \u001b[0m\u001b[2mclaude-3-5-sonnet-20240620\u001b[0m\u001b[2m \u001b[0m│\u001b[2m \u001b[0m\u001b[2mreading \u001b[0m\u001b[2m \u001b[0m│\u001b[2m \u001b[0m\u001b[2mchef         \u001b[0m\u001b[2m \u001b[0m│\u001b[2m \u001b[0m\u001b[2mAs a chef, I'm always reading cookbooks,       \u001b[0m\u001b[2m \u001b[0m│\u001b[2m \u001b[0m\u001b[2m3    \u001b[0m\u001b[2m \u001b[0m│\n",
       "│\u001b[2m                            \u001b[0m│\u001b[2m          \u001b[0m│\u001b[2m               \u001b[0m│\u001b[2m \u001b[0m\u001b[2mculinary magazines, and food blogs to stay     \u001b[0m\u001b[2m \u001b[0m│\u001b[2m       \u001b[0m│\n",
       "│\u001b[2m                            \u001b[0m│\u001b[2m          \u001b[0m│\u001b[2m               \u001b[0m│\u001b[2m \u001b[0m\u001b[2mup-to-date with the latest trends and          \u001b[0m\u001b[2m \u001b[0m│\u001b[2m       \u001b[0m│\n",
       "│\u001b[2m                            \u001b[0m│\u001b[2m          \u001b[0m│\u001b[2m               \u001b[0m│\u001b[2m \u001b[0m\u001b[2mtechniques in the culinary world. Just         \u001b[0m\u001b[2m \u001b[0m│\u001b[2m       \u001b[0m│\n",
       "│\u001b[2m                            \u001b[0m│\u001b[2m          \u001b[0m│\u001b[2m               \u001b[0m│\u001b[2m \u001b[0m\u001b[2myesterday, I was poring over a new cookbook    \u001b[0m\u001b[2m \u001b[0m│\u001b[2m       \u001b[0m│\n",
       "│\u001b[2m                            \u001b[0m│\u001b[2m          \u001b[0m│\u001b[2m               \u001b[0m│\u001b[2m \u001b[0m\u001b[2mfeaturing modern interpretations of classic    \u001b[0m\u001b[2m \u001b[0m│\u001b[2m       \u001b[0m│\n",
       "│\u001b[2m                            \u001b[0m│\u001b[2m          \u001b[0m│\u001b[2m               \u001b[0m│\u001b[2m \u001b[0m\u001b[2mFrench cuisine. I was particularly interested  \u001b[0m\u001b[2m \u001b[0m│\u001b[2m       \u001b[0m│\n",
       "│\u001b[2m                            \u001b[0m│\u001b[2m          \u001b[0m│\u001b[2m               \u001b[0m│\u001b[2m \u001b[0m\u001b[2min a section on innovative sauces and          \u001b[0m\u001b[2m \u001b[0m│\u001b[2m       \u001b[0m│\n",
       "│\u001b[2m                            \u001b[0m│\u001b[2m          \u001b[0m│\u001b[2m               \u001b[0m│\u001b[2m \u001b[0m\u001b[2mreductions. Reading about food is an essential \u001b[0m\u001b[2m \u001b[0m│\u001b[2m       \u001b[0m│\n",
       "│\u001b[2m                            \u001b[0m│\u001b[2m          \u001b[0m│\u001b[2m               \u001b[0m│\u001b[2m \u001b[0m\u001b[2mpart of my professional development and helps  \u001b[0m\u001b[2m \u001b[0m│\u001b[2m       \u001b[0m│\n",
       "│\u001b[2m                            \u001b[0m│\u001b[2m          \u001b[0m│\u001b[2m               \u001b[0m│\u001b[2m \u001b[0m\u001b[2minspire new ideas for my own cooking. It's not \u001b[0m\u001b[2m \u001b[0m│\u001b[2m       \u001b[0m│\n",
       "│\u001b[2m                            \u001b[0m│\u001b[2m          \u001b[0m│\u001b[2m               \u001b[0m│\u001b[2m \u001b[0m\u001b[2mjust about recipes, but also understanding     \u001b[0m\u001b[2m \u001b[0m│\u001b[2m       \u001b[0m│\n",
       "│\u001b[2m                            \u001b[0m│\u001b[2m          \u001b[0m│\u001b[2m               \u001b[0m│\u001b[2m \u001b[0m\u001b[2mflavor combinations, plating techniques, and   \u001b[0m\u001b[2m \u001b[0m│\u001b[2m       \u001b[0m│\n",
       "│\u001b[2m                            \u001b[0m│\u001b[2m          \u001b[0m│\u001b[2m               \u001b[0m│\u001b[2m \u001b[0m\u001b[2mthe cultural significance of different dishes. \u001b[0m\u001b[2m \u001b[0m│\u001b[2m       \u001b[0m│\n",
       "├────────────────────────────┼──────────┼───────────────┼─────────────────────────────────────────────────┼───────┤\n",
       "│\u001b[2m \u001b[0m\u001b[2mgpt-4o                    \u001b[0m\u001b[2m \u001b[0m│\u001b[2m \u001b[0m\u001b[2mreading \u001b[0m\u001b[2m \u001b[0m│\u001b[2m \u001b[0m\u001b[2mchef         \u001b[0m\u001b[2m \u001b[0m│\u001b[2m \u001b[0m\u001b[2mThe most recent time I was reading, I was      \u001b[0m\u001b[2m \u001b[0m│\u001b[2m \u001b[0m\u001b[2m4    \u001b[0m\u001b[2m \u001b[0m│\n",
       "│\u001b[2m                            \u001b[0m│\u001b[2m          \u001b[0m│\u001b[2m               \u001b[0m│\u001b[2m \u001b[0m\u001b[2mflipping through a cookbook that focuses on    \u001b[0m\u001b[2m \u001b[0m│\u001b[2m       \u001b[0m│\n",
       "│\u001b[2m                            \u001b[0m│\u001b[2m          \u001b[0m│\u001b[2m               \u001b[0m│\u001b[2m \u001b[0m\u001b[2mMediterranean cuisine. I was particularly      \u001b[0m\u001b[2m \u001b[0m│\u001b[2m       \u001b[0m│\n",
       "│\u001b[2m                            \u001b[0m│\u001b[2m          \u001b[0m│\u001b[2m               \u001b[0m│\u001b[2m \u001b[0m\u001b[2minterested in a recipe for a traditional Greek \u001b[0m\u001b[2m \u001b[0m│\u001b[2m       \u001b[0m│\n",
       "│\u001b[2m                            \u001b[0m│\u001b[2m          \u001b[0m│\u001b[2m               \u001b[0m│\u001b[2m \u001b[0m\u001b[2mmoussaka. The layers of eggplant, seasoned     \u001b[0m\u001b[2m \u001b[0m│\u001b[2m       \u001b[0m│\n",
       "│\u001b[2m                            \u001b[0m│\u001b[2m          \u001b[0m│\u001b[2m               \u001b[0m│\u001b[2m \u001b[0m\u001b[2mground meat, and creamy béchamel sauce sounded \u001b[0m\u001b[2m \u001b[0m│\u001b[2m       \u001b[0m│\n",
       "│\u001b[2m                            \u001b[0m│\u001b[2m          \u001b[0m│\u001b[2m               \u001b[0m│\u001b[2m \u001b[0m\u001b[2mdivine. I was taking notes on the different    \u001b[0m\u001b[2m \u001b[0m│\u001b[2m       \u001b[0m│\n",
       "│\u001b[2m                            \u001b[0m│\u001b[2m          \u001b[0m│\u001b[2m               \u001b[0m│\u001b[2m \u001b[0m\u001b[2mspices and techniques used, thinking about how \u001b[0m\u001b[2m \u001b[0m│\u001b[2m       \u001b[0m│\n",
       "│\u001b[2m                            \u001b[0m│\u001b[2m          \u001b[0m│\u001b[2m               \u001b[0m│\u001b[2m \u001b[0m\u001b[2mI could incorporate some of those flavors into \u001b[0m\u001b[2m \u001b[0m│\u001b[2m       \u001b[0m│\n",
       "│\u001b[2m                            \u001b[0m│\u001b[2m          \u001b[0m│\u001b[2m               \u001b[0m│\u001b[2m \u001b[0m\u001b[2mmy own dishes. It was a delightful and         \u001b[0m\u001b[2m \u001b[0m│\u001b[2m       \u001b[0m│\n",
       "│\u001b[2m                            \u001b[0m│\u001b[2m          \u001b[0m│\u001b[2m               \u001b[0m│\u001b[2m \u001b[0m\u001b[2minspiring read!                                \u001b[0m\u001b[2m \u001b[0m│\u001b[2m       \u001b[0m│\n",
       "└────────────────────────────┴──────────┴───────────────┴─────────────────────────────────────────────────┴───────┘\n"
      ]
     },
     "metadata": {},
     "output_type": "display_data"
    }
   ],
   "source": [
    "# Import question types and survey components\n",
    "from edsl import (\n",
    "    QuestionLinearScale, QuestionFreeText, Survey,\n",
    "    ScenarioList, Scenario, \n",
    "    AgentList, Agent, \n",
    "    ModelList, Model,\n",
    "    Cache\n",
    ")\n",
    "\n",
    "# Construct questions\n",
    "q1 = QuestionLinearScale(\n",
    "    question_name = \"enjoy\",\n",
    "    question_text = \"On a scale from 1 to 5, how much do you enjoy {{ activity }}?\",\n",
    "    question_options = [1,2,3,4,5],\n",
    "    option_labels = {1:\"Not at all\", 5:\"Very much\"}\n",
    ")\n",
    "\n",
    "q2 = QuestionFreeText(\n",
    "    question_name = \"recent\",\n",
    "    question_text = \"Describe the most recent time you were {{ activity }}.\"\n",
    ")\n",
    "\n",
    "# Combine questions in a survey\n",
    "survey = Survey(questions = [q1, q2])\n",
    "\n",
    "# Add data to questions using scenarios\n",
    "activities = [\"exercising\", \"reading\", \"cooking\"]\n",
    "\n",
    "scenarios = ScenarioList(\n",
    "    Scenario({\"activity\": a}) for a in activities\n",
    ")\n",
    "\n",
    "# Create personas for AI agents to answer the questions\n",
    "personas = [\"athlete\", \"student\", \"chef\"]\n",
    "\n",
    "agents = AgentList(\n",
    "    Agent(traits = {\"persona\": p}) for p in personas\n",
    ")\n",
    "\n",
    "# Select language models to generate responses\n",
    "models = ModelList(\n",
    "    Model(m) for m in [\"gpt-4o\", \"claude-3-5-sonnet-20240620\"]\n",
    ")\n",
    "\n",
    "# Run the survey with the scenarios, agents and models\n",
    "results = survey.by(scenarios).by(agents).by(models).run()\n",
    "\n",
    "# Filter, sort, select and print components of the results to inspect\n",
    "(\n",
    "    results\n",
    "    .filter(\"activity == 'reading' and persona == 'chef'\")\n",
    "    .sort_by(\"model\")\n",
    "    .select(\"model\", \"activity\", \"persona\", \"answer.*\")\n",
    "    .print(format=\"rich\",\n",
    "            pretty_labels = ({\n",
    "                \"model.model\":\"Model\",\n",
    "                \"scenario.activity\":\"Activity\",\n",
    "                \"agent.persona\":\"Agent persona\",\n",
    "                \"answer.enjoy\":\"Enjoy\",\n",
    "                \"answer.recent\":\"Recent\"\n",
    "            })\n",
    "        )\n",
    ")"
   ]
  },
  {
   "cell_type": "markdown",
   "id": "71f74b3a-7253-4798-9638-82ac925db122",
   "metadata": {
    "editable": true,
    "slideshow": {
     "slide_type": ""
    },
    "tags": []
   },
   "source": [
    "### Exploring your results\n",
    "EDSL comes with built-in methods for analyzing and visualizing your results. \n",
    "For example, you can access results as a Pandas dataframe:"
   ]
  },
  {
   "cell_type": "code",
   "execution_count": 6,
   "id": "1ab2cc32-015c-49bc-8e53-cc1c70f6d783",
   "metadata": {
    "editable": true,
    "slideshow": {
     "slide_type": ""
    },
    "tags": []
   },
   "outputs": [
    {
     "data": {
      "text/html": [
       "<div>\n",
       "<style scoped>\n",
       "    .dataframe tbody tr th:only-of-type {\n",
       "        vertical-align: middle;\n",
       "    }\n",
       "\n",
       "    .dataframe tbody tr th {\n",
       "        vertical-align: top;\n",
       "    }\n",
       "\n",
       "    .dataframe thead th {\n",
       "        text-align: right;\n",
       "    }\n",
       "</style>\n",
       "<table border=\"1\" class=\"dataframe\">\n",
       "  <thead>\n",
       "    <tr style=\"text-align: right;\">\n",
       "      <th></th>\n",
       "      <th>model</th>\n",
       "      <th>activity</th>\n",
       "      <th>persona</th>\n",
       "      <th>recent</th>\n",
       "      <th>enjoy</th>\n",
       "    </tr>\n",
       "  </thead>\n",
       "  <tbody>\n",
       "    <tr>\n",
       "      <th>0</th>\n",
       "      <td>claude-3-5-sonnet-20240620</td>\n",
       "      <td>cooking</td>\n",
       "      <td>athlete</td>\n",
       "      <td>I apologize, but as an athlete, I don't typica...</td>\n",
       "      <td>2</td>\n",
       "    </tr>\n",
       "    <tr>\n",
       "      <th>1</th>\n",
       "      <td>claude-3-5-sonnet-20240620</td>\n",
       "      <td>cooking</td>\n",
       "      <td>chef</td>\n",
       "      <td>As a chef, I'm always cooking, but let me tell...</td>\n",
       "      <td>5</td>\n",
       "    </tr>\n",
       "    <tr>\n",
       "      <th>2</th>\n",
       "      <td>claude-3-5-sonnet-20240620</td>\n",
       "      <td>cooking</td>\n",
       "      <td>student</td>\n",
       "      <td>As a student, I recently cooked a simple meal ...</td>\n",
       "      <td>3</td>\n",
       "    </tr>\n",
       "    <tr>\n",
       "      <th>3</th>\n",
       "      <td>claude-3-5-sonnet-20240620</td>\n",
       "      <td>exercising</td>\n",
       "      <td>athlete</td>\n",
       "      <td>As an athlete, I'm constantly training and exe...</td>\n",
       "      <td>5</td>\n",
       "    </tr>\n",
       "    <tr>\n",
       "      <th>4</th>\n",
       "      <td>claude-3-5-sonnet-20240620</td>\n",
       "      <td>exercising</td>\n",
       "      <td>chef</td>\n",
       "      <td>I apologize, but as a chef, I don't have perso...</td>\n",
       "      <td>3</td>\n",
       "    </tr>\n",
       "    <tr>\n",
       "      <th>5</th>\n",
       "      <td>claude-3-5-sonnet-20240620</td>\n",
       "      <td>exercising</td>\n",
       "      <td>student</td>\n",
       "      <td>As a student, the most recent time I exercised...</td>\n",
       "      <td>3</td>\n",
       "    </tr>\n",
       "    <tr>\n",
       "      <th>6</th>\n",
       "      <td>claude-3-5-sonnet-20240620</td>\n",
       "      <td>reading</td>\n",
       "      <td>athlete</td>\n",
       "      <td>As an athlete, I don't spend a ton of time rea...</td>\n",
       "      <td>2</td>\n",
       "    </tr>\n",
       "    <tr>\n",
       "      <th>7</th>\n",
       "      <td>claude-3-5-sonnet-20240620</td>\n",
       "      <td>reading</td>\n",
       "      <td>chef</td>\n",
       "      <td>As a chef, I'm always reading cookbooks, culin...</td>\n",
       "      <td>3</td>\n",
       "    </tr>\n",
       "    <tr>\n",
       "      <th>8</th>\n",
       "      <td>claude-3-5-sonnet-20240620</td>\n",
       "      <td>reading</td>\n",
       "      <td>student</td>\n",
       "      <td>As a student, I was actually reading just last...</td>\n",
       "      <td>4</td>\n",
       "    </tr>\n",
       "    <tr>\n",
       "      <th>9</th>\n",
       "      <td>gpt-4o</td>\n",
       "      <td>cooking</td>\n",
       "      <td>athlete</td>\n",
       "      <td>Sure! The most recent time I was cooking, I de...</td>\n",
       "      <td>3</td>\n",
       "    </tr>\n",
       "    <tr>\n",
       "      <th>10</th>\n",
       "      <td>gpt-4o</td>\n",
       "      <td>cooking</td>\n",
       "      <td>chef</td>\n",
       "      <td>Ah, the most recent time I was cooking, I was ...</td>\n",
       "      <td>5</td>\n",
       "    </tr>\n",
       "    <tr>\n",
       "      <th>11</th>\n",
       "      <td>gpt-4o</td>\n",
       "      <td>cooking</td>\n",
       "      <td>student</td>\n",
       "      <td>Sure! The most recent time I was cooking was l...</td>\n",
       "      <td>3</td>\n",
       "    </tr>\n",
       "    <tr>\n",
       "      <th>12</th>\n",
       "      <td>gpt-4o</td>\n",
       "      <td>exercising</td>\n",
       "      <td>athlete</td>\n",
       "      <td>Sure! Just yesterday, I went for a long run in...</td>\n",
       "      <td>5</td>\n",
       "    </tr>\n",
       "    <tr>\n",
       "      <th>13</th>\n",
       "      <td>gpt-4o</td>\n",
       "      <td>exercising</td>\n",
       "      <td>chef</td>\n",
       "      <td>The most recent time I was exercising, I went ...</td>\n",
       "      <td>3</td>\n",
       "    </tr>\n",
       "    <tr>\n",
       "      <th>14</th>\n",
       "      <td>gpt-4o</td>\n",
       "      <td>exercising</td>\n",
       "      <td>student</td>\n",
       "      <td>Sure! The most recent time I was exercising wa...</td>\n",
       "      <td>4</td>\n",
       "    </tr>\n",
       "    <tr>\n",
       "      <th>15</th>\n",
       "      <td>gpt-4o</td>\n",
       "      <td>reading</td>\n",
       "      <td>athlete</td>\n",
       "      <td>The most recent time I was reading was actuall...</td>\n",
       "      <td>3</td>\n",
       "    </tr>\n",
       "    <tr>\n",
       "      <th>16</th>\n",
       "      <td>gpt-4o</td>\n",
       "      <td>reading</td>\n",
       "      <td>chef</td>\n",
       "      <td>The most recent time I was reading, I was flip...</td>\n",
       "      <td>4</td>\n",
       "    </tr>\n",
       "    <tr>\n",
       "      <th>17</th>\n",
       "      <td>gpt-4o</td>\n",
       "      <td>reading</td>\n",
       "      <td>student</td>\n",
       "      <td>Sure! The most recent time I was reading was j...</td>\n",
       "      <td>4</td>\n",
       "    </tr>\n",
       "  </tbody>\n",
       "</table>\n",
       "</div>"
      ],
      "text/plain": [
       "                         model    activity  persona  \\\n",
       "0   claude-3-5-sonnet-20240620     cooking  athlete   \n",
       "1   claude-3-5-sonnet-20240620     cooking     chef   \n",
       "2   claude-3-5-sonnet-20240620     cooking  student   \n",
       "3   claude-3-5-sonnet-20240620  exercising  athlete   \n",
       "4   claude-3-5-sonnet-20240620  exercising     chef   \n",
       "5   claude-3-5-sonnet-20240620  exercising  student   \n",
       "6   claude-3-5-sonnet-20240620     reading  athlete   \n",
       "7   claude-3-5-sonnet-20240620     reading     chef   \n",
       "8   claude-3-5-sonnet-20240620     reading  student   \n",
       "9                       gpt-4o     cooking  athlete   \n",
       "10                      gpt-4o     cooking     chef   \n",
       "11                      gpt-4o     cooking  student   \n",
       "12                      gpt-4o  exercising  athlete   \n",
       "13                      gpt-4o  exercising     chef   \n",
       "14                      gpt-4o  exercising  student   \n",
       "15                      gpt-4o     reading  athlete   \n",
       "16                      gpt-4o     reading     chef   \n",
       "17                      gpt-4o     reading  student   \n",
       "\n",
       "                                               recent  enjoy  \n",
       "0   I apologize, but as an athlete, I don't typica...      2  \n",
       "1   As a chef, I'm always cooking, but let me tell...      5  \n",
       "2   As a student, I recently cooked a simple meal ...      3  \n",
       "3   As an athlete, I'm constantly training and exe...      5  \n",
       "4   I apologize, but as a chef, I don't have perso...      3  \n",
       "5   As a student, the most recent time I exercised...      3  \n",
       "6   As an athlete, I don't spend a ton of time rea...      2  \n",
       "7   As a chef, I'm always reading cookbooks, culin...      3  \n",
       "8   As a student, I was actually reading just last...      4  \n",
       "9   Sure! The most recent time I was cooking, I de...      3  \n",
       "10  Ah, the most recent time I was cooking, I was ...      5  \n",
       "11  Sure! The most recent time I was cooking was l...      3  \n",
       "12  Sure! Just yesterday, I went for a long run in...      5  \n",
       "13  The most recent time I was exercising, I went ...      3  \n",
       "14  Sure! The most recent time I was exercising wa...      4  \n",
       "15  The most recent time I was reading was actuall...      3  \n",
       "16  The most recent time I was reading, I was flip...      4  \n",
       "17  Sure! The most recent time I was reading was j...      4  "
      ]
     },
     "execution_count": 6,
     "metadata": {},
     "output_type": "execute_result"
    }
   ],
   "source": [
    "# Convert the Results object to a pandas dataframe\n",
    "(\n",
    "    results\n",
    "     .sort_by(\"model\", \"activity\", \"persona\")\n",
    "     .select(\"model\", \"activity\", \"persona\", \"recent\", \"enjoy\")\n",
    "     .to_pandas(remove_prefix=True)\n",
    ")"
   ]
  },
  {
   "cell_type": "markdown",
   "id": "20fcbb92-859b-4b9f-8bb5-ad5fc8fcc422",
   "metadata": {
    "editable": true,
    "slideshow": {
     "slide_type": ""
    },
    "tags": []
   },
   "source": [
    "The `columns` method will display a list of all the components of your results, which you can then `select` and `print` to show them:"
   ]
  },
  {
   "cell_type": "code",
   "execution_count": 7,
   "id": "7c3f63d0-bc79-4caf-991e-69b92ff29b69",
   "metadata": {
    "editable": true,
    "slideshow": {
     "slide_type": ""
    },
    "tags": []
   },
   "outputs": [
    {
     "data": {
      "text/plain": [
       "['agent.agent_instruction',\n",
       " 'agent.agent_name',\n",
       " 'agent.persona',\n",
       " 'answer.enjoy',\n",
       " 'answer.recent',\n",
       " 'comment.enjoy_comment',\n",
       " 'comment.recent_comment',\n",
       " 'generated_tokens.enjoy_generated_tokens',\n",
       " 'generated_tokens.recent_generated_tokens',\n",
       " 'iteration.iteration',\n",
       " 'model.frequency_penalty',\n",
       " 'model.logprobs',\n",
       " 'model.max_tokens',\n",
       " 'model.model',\n",
       " 'model.presence_penalty',\n",
       " 'model.temperature',\n",
       " 'model.top_logprobs',\n",
       " 'model.top_p',\n",
       " 'prompt.enjoy_system_prompt',\n",
       " 'prompt.enjoy_user_prompt',\n",
       " 'prompt.recent_system_prompt',\n",
       " 'prompt.recent_user_prompt',\n",
       " 'question_options.enjoy_question_options',\n",
       " 'question_options.recent_question_options',\n",
       " 'question_text.enjoy_question_text',\n",
       " 'question_text.recent_question_text',\n",
       " 'question_type.enjoy_question_type',\n",
       " 'question_type.recent_question_type',\n",
       " 'raw_model_response.enjoy_cost',\n",
       " 'raw_model_response.enjoy_one_usd_buys',\n",
       " 'raw_model_response.enjoy_raw_model_response',\n",
       " 'raw_model_response.recent_cost',\n",
       " 'raw_model_response.recent_one_usd_buys',\n",
       " 'raw_model_response.recent_raw_model_response',\n",
       " 'scenario.activity']"
      ]
     },
     "execution_count": 7,
     "metadata": {},
     "output_type": "execute_result"
    }
   ],
   "source": [
    "results.columns"
   ]
  },
  {
   "cell_type": "markdown",
   "id": "5e783239-1b4c-44d2-8f1f-ef56a62bd25c",
   "metadata": {
    "editable": true,
    "slideshow": {
     "slide_type": ""
    },
    "tags": []
   },
   "source": [
    "The `Results` object also supports SQL-like queries:"
   ]
  },
  {
   "cell_type": "code",
   "execution_count": 8,
   "id": "8bdca6c4-0ef6-4daa-ae4f-8b9bdd4a9043",
   "metadata": {
    "editable": true,
    "slideshow": {
     "slide_type": ""
    },
    "tags": []
   },
   "outputs": [
    {
     "data": {
      "text/html": [
       "<div>\n",
       "<style scoped>\n",
       "    .dataframe tbody tr th:only-of-type {\n",
       "        vertical-align: middle;\n",
       "    }\n",
       "\n",
       "    .dataframe tbody tr th {\n",
       "        vertical-align: top;\n",
       "    }\n",
       "\n",
       "    .dataframe thead th {\n",
       "        text-align: right;\n",
       "    }\n",
       "</style>\n",
       "<table border=\"1\" class=\"dataframe\">\n",
       "  <thead>\n",
       "    <tr style=\"text-align: right;\">\n",
       "      <th></th>\n",
       "      <th>model</th>\n",
       "      <th>activity</th>\n",
       "      <th>persona</th>\n",
       "      <th>recent</th>\n",
       "      <th>enjoy</th>\n",
       "    </tr>\n",
       "  </thead>\n",
       "  <tbody>\n",
       "    <tr>\n",
       "      <th>0</th>\n",
       "      <td>claude-3-5-sonnet-20240620</td>\n",
       "      <td>cooking</td>\n",
       "      <td>athlete</td>\n",
       "      <td>I apologize, but as an athlete, I don't typica...</td>\n",
       "      <td>2</td>\n",
       "    </tr>\n",
       "    <tr>\n",
       "      <th>1</th>\n",
       "      <td>claude-3-5-sonnet-20240620</td>\n",
       "      <td>cooking</td>\n",
       "      <td>chef</td>\n",
       "      <td>As a chef, I'm always cooking, but let me tell...</td>\n",
       "      <td>5</td>\n",
       "    </tr>\n",
       "    <tr>\n",
       "      <th>2</th>\n",
       "      <td>claude-3-5-sonnet-20240620</td>\n",
       "      <td>cooking</td>\n",
       "      <td>student</td>\n",
       "      <td>As a student, I recently cooked a simple meal ...</td>\n",
       "      <td>3</td>\n",
       "    </tr>\n",
       "    <tr>\n",
       "      <th>3</th>\n",
       "      <td>claude-3-5-sonnet-20240620</td>\n",
       "      <td>exercising</td>\n",
       "      <td>athlete</td>\n",
       "      <td>As an athlete, I'm constantly training and exe...</td>\n",
       "      <td>5</td>\n",
       "    </tr>\n",
       "    <tr>\n",
       "      <th>4</th>\n",
       "      <td>claude-3-5-sonnet-20240620</td>\n",
       "      <td>exercising</td>\n",
       "      <td>chef</td>\n",
       "      <td>I apologize, but as a chef, I don't have perso...</td>\n",
       "      <td>3</td>\n",
       "    </tr>\n",
       "    <tr>\n",
       "      <th>5</th>\n",
       "      <td>claude-3-5-sonnet-20240620</td>\n",
       "      <td>exercising</td>\n",
       "      <td>student</td>\n",
       "      <td>As a student, the most recent time I exercised...</td>\n",
       "      <td>3</td>\n",
       "    </tr>\n",
       "    <tr>\n",
       "      <th>6</th>\n",
       "      <td>claude-3-5-sonnet-20240620</td>\n",
       "      <td>reading</td>\n",
       "      <td>athlete</td>\n",
       "      <td>As an athlete, I don't spend a ton of time rea...</td>\n",
       "      <td>2</td>\n",
       "    </tr>\n",
       "    <tr>\n",
       "      <th>7</th>\n",
       "      <td>claude-3-5-sonnet-20240620</td>\n",
       "      <td>reading</td>\n",
       "      <td>chef</td>\n",
       "      <td>As a chef, I'm always reading cookbooks, culin...</td>\n",
       "      <td>3</td>\n",
       "    </tr>\n",
       "    <tr>\n",
       "      <th>8</th>\n",
       "      <td>claude-3-5-sonnet-20240620</td>\n",
       "      <td>reading</td>\n",
       "      <td>student</td>\n",
       "      <td>As a student, I was actually reading just last...</td>\n",
       "      <td>4</td>\n",
       "    </tr>\n",
       "    <tr>\n",
       "      <th>9</th>\n",
       "      <td>gpt-4o</td>\n",
       "      <td>cooking</td>\n",
       "      <td>athlete</td>\n",
       "      <td>Sure! The most recent time I was cooking, I de...</td>\n",
       "      <td>3</td>\n",
       "    </tr>\n",
       "    <tr>\n",
       "      <th>10</th>\n",
       "      <td>gpt-4o</td>\n",
       "      <td>cooking</td>\n",
       "      <td>chef</td>\n",
       "      <td>Ah, the most recent time I was cooking, I was ...</td>\n",
       "      <td>5</td>\n",
       "    </tr>\n",
       "    <tr>\n",
       "      <th>11</th>\n",
       "      <td>gpt-4o</td>\n",
       "      <td>cooking</td>\n",
       "      <td>student</td>\n",
       "      <td>Sure! The most recent time I was cooking was l...</td>\n",
       "      <td>3</td>\n",
       "    </tr>\n",
       "    <tr>\n",
       "      <th>12</th>\n",
       "      <td>gpt-4o</td>\n",
       "      <td>exercising</td>\n",
       "      <td>athlete</td>\n",
       "      <td>Sure! Just yesterday, I went for a long run in...</td>\n",
       "      <td>5</td>\n",
       "    </tr>\n",
       "    <tr>\n",
       "      <th>13</th>\n",
       "      <td>gpt-4o</td>\n",
       "      <td>exercising</td>\n",
       "      <td>chef</td>\n",
       "      <td>The most recent time I was exercising, I went ...</td>\n",
       "      <td>3</td>\n",
       "    </tr>\n",
       "    <tr>\n",
       "      <th>14</th>\n",
       "      <td>gpt-4o</td>\n",
       "      <td>exercising</td>\n",
       "      <td>student</td>\n",
       "      <td>Sure! The most recent time I was exercising wa...</td>\n",
       "      <td>4</td>\n",
       "    </tr>\n",
       "    <tr>\n",
       "      <th>15</th>\n",
       "      <td>gpt-4o</td>\n",
       "      <td>reading</td>\n",
       "      <td>athlete</td>\n",
       "      <td>The most recent time I was reading was actuall...</td>\n",
       "      <td>3</td>\n",
       "    </tr>\n",
       "    <tr>\n",
       "      <th>16</th>\n",
       "      <td>gpt-4o</td>\n",
       "      <td>reading</td>\n",
       "      <td>chef</td>\n",
       "      <td>The most recent time I was reading, I was flip...</td>\n",
       "      <td>4</td>\n",
       "    </tr>\n",
       "    <tr>\n",
       "      <th>17</th>\n",
       "      <td>gpt-4o</td>\n",
       "      <td>reading</td>\n",
       "      <td>student</td>\n",
       "      <td>Sure! The most recent time I was reading was j...</td>\n",
       "      <td>4</td>\n",
       "    </tr>\n",
       "  </tbody>\n",
       "</table>\n",
       "</div>"
      ],
      "text/plain": [
       "                         model    activity  persona  \\\n",
       "0   claude-3-5-sonnet-20240620     cooking  athlete   \n",
       "1   claude-3-5-sonnet-20240620     cooking     chef   \n",
       "2   claude-3-5-sonnet-20240620     cooking  student   \n",
       "3   claude-3-5-sonnet-20240620  exercising  athlete   \n",
       "4   claude-3-5-sonnet-20240620  exercising     chef   \n",
       "5   claude-3-5-sonnet-20240620  exercising  student   \n",
       "6   claude-3-5-sonnet-20240620     reading  athlete   \n",
       "7   claude-3-5-sonnet-20240620     reading     chef   \n",
       "8   claude-3-5-sonnet-20240620     reading  student   \n",
       "9                       gpt-4o     cooking  athlete   \n",
       "10                      gpt-4o     cooking     chef   \n",
       "11                      gpt-4o     cooking  student   \n",
       "12                      gpt-4o  exercising  athlete   \n",
       "13                      gpt-4o  exercising     chef   \n",
       "14                      gpt-4o  exercising  student   \n",
       "15                      gpt-4o     reading  athlete   \n",
       "16                      gpt-4o     reading     chef   \n",
       "17                      gpt-4o     reading  student   \n",
       "\n",
       "                                               recent  enjoy  \n",
       "0   I apologize, but as an athlete, I don't typica...      2  \n",
       "1   As a chef, I'm always cooking, but let me tell...      5  \n",
       "2   As a student, I recently cooked a simple meal ...      3  \n",
       "3   As an athlete, I'm constantly training and exe...      5  \n",
       "4   I apologize, but as a chef, I don't have perso...      3  \n",
       "5   As a student, the most recent time I exercised...      3  \n",
       "6   As an athlete, I don't spend a ton of time rea...      2  \n",
       "7   As a chef, I'm always reading cookbooks, culin...      3  \n",
       "8   As a student, I was actually reading just last...      4  \n",
       "9   Sure! The most recent time I was cooking, I de...      3  \n",
       "10  Ah, the most recent time I was cooking, I was ...      5  \n",
       "11  Sure! The most recent time I was cooking was l...      3  \n",
       "12  Sure! Just yesterday, I went for a long run in...      5  \n",
       "13  The most recent time I was exercising, I went ...      3  \n",
       "14  Sure! The most recent time I was exercising wa...      4  \n",
       "15  The most recent time I was reading was actuall...      3  \n",
       "16  The most recent time I was reading, I was flip...      4  \n",
       "17  Sure! The most recent time I was reading was j...      4  "
      ]
     },
     "execution_count": 8,
     "metadata": {},
     "output_type": "execute_result"
    }
   ],
   "source": [
    "# Execute an SQL-like query on the results\n",
    "results.sql(\"\"\"\n",
    "select model, activity, persona, recent, enjoy \n",
    "from self\n",
    "order by 1,2,3\n",
    "\"\"\", shape=\"wide\")"
   ]
  },
  {
   "cell_type": "markdown",
   "id": "e526c294-d9f9-43a1-bc9a-16c635c5f2df",
   "metadata": {
    "editable": true,
    "slideshow": {
     "slide_type": ""
    },
    "tags": []
   },
   "source": [
    "Learn more about working with results in the [Results](https://docs.expectedparrot.com/en/latest/results.html) section.\n",
    "\n",
    "## Posting content at the Coop\n",
    "To post an object (here, our results):"
   ]
  },
  {
   "cell_type": "code",
   "execution_count": 9,
   "id": "a6f9233b-5ddc-4850-8ec9-6dd2d6647ecc",
   "metadata": {
    "editable": true,
    "slideshow": {
     "slide_type": ""
    },
    "tags": [
     "skip-execution"
    ]
   },
   "outputs": [
    {
     "data": {
      "text/plain": [
       "{'description': None,\n",
       " 'object_type': 'results',\n",
       " 'url': 'https://www.expectedparrot.com/content/f674ba78-17d5-4628-9b57-ec7c5a96718c',\n",
       " 'uuid': 'f674ba78-17d5-4628-9b57-ec7c5a96718c',\n",
       " 'version': '0.1.33.dev1',\n",
       " 'visibility': 'public'}"
      ]
     },
     "execution_count": 9,
     "metadata": {},
     "output_type": "execute_result"
    }
   ],
   "source": [
    "results.push(visibility=\"public\")"
   ]
  },
  {
   "cell_type": "markdown",
   "id": "f8002060-2836-4fdd-bfa4-9d011fd84de8",
   "metadata": {},
   "source": [
    "Posting this notebook:"
   ]
  },
  {
   "cell_type": "code",
   "execution_count": 10,
   "id": "257c7a6e-a7e8-4b15-9936-afa18c623b21",
   "metadata": {
    "editable": true,
    "slideshow": {
     "slide_type": ""
    },
    "tags": [
     "skip-execution"
    ]
   },
   "outputs": [
    {
     "data": {
      "text/plain": [
       "{'description': 'Starter Tutorial',\n",
       " 'object_type': 'notebook',\n",
       " 'url': 'https://www.expectedparrot.com/content/d11a525e-d454-4eb1-bd96-0ab9d771249e',\n",
       " 'uuid': 'd11a525e-d454-4eb1-bd96-0ab9d771249e',\n",
       " 'version': '0.1.33.dev1',\n",
       " 'visibility': 'public'}"
      ]
     },
     "execution_count": 10,
     "metadata": {},
     "output_type": "execute_result"
    }
   ],
   "source": [
    "from edsl import Notebook\n",
    "\n",
    "notebook = Notebook(path=\"starter_tutorial.ipynb\")\n",
    "\n",
    "notebook.push(description=\"Starter Tutorial\", visibility=\"public\")"
   ]
  }
 ],
 "metadata": {
  "kernelspec": {
   "display_name": "Python 3 (ipykernel)",
   "language": "python",
   "name": "python3"
  },
  "language_info": {
   "codemirror_mode": {
    "name": "ipython",
    "version": 3
   },
   "file_extension": ".py",
   "mimetype": "text/x-python",
   "name": "python",
   "nbconvert_exporter": "python",
   "pygments_lexer": "ipython3",
   "version": "3.11.7"
  }
 },
 "nbformat": 4,
 "nbformat_minor": 5
}
