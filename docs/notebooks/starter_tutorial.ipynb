{
 "cells": [
  {
   "cell_type": "markdown",
   "id": "c20e93c0-943f-46fb-8382-ca6f1eb48810",
   "metadata": {
    "editable": true,
    "slideshow": {
     "slide_type": ""
    },
    "tags": []
   },
   "source": [
    "# Starter Tutorial\n",
    "This tutorial provides example code for basic features of EDSL, an open-source Python library for simulating surveys, experiments and other research using AI agents and large language models. EDSL is available under the MIT License at [PyPI](https://pypi.org/project/edsl/) and [GitHub](https://github.com/expectedparrot/edsl). \n",
    "\n",
    "In the steps below we show how to construct and run a simple question in EDSL, and then how to design more complex surveys with AI agents and different language models.\n",
    "We also demonstrate methods for applying logic and rules to surveys, piping answers, adding data to questions, and analyzing survey results as datasets.\n",
    "\n",
    "Please also see our [documentation page](https://docs.expectedparrot.com) for more details on each of the topics covered in this notebook.\n",
    "\n",
    "## Technical setup\n",
    "Before running the code below, please ensure that you have completed the steps for installing EDSL and storing API keys for language models:\n",
    "\n",
    "1. **Download EDSL:**\n",
    "   See [instructions](https://docs.expectedparrot.com/en/latest/installation.html).\n",
    "2. **Store API keys:**\n",
    "   Choose whether to [manage your own API keys](https://docs.expectedparrot.com/en/latest/api_keys.html) for language models or activate [remote inference](https://docs.expectedparrot.com/en/latest/remote_inference.html) to access all available models and run surveys at the Expected Parrot server.\n",
    "\n",
    "## Coop\n",
    "[Coop](https://docs.expectedparrot.com/en/latest/coop.html) is a platform for creating, storing and sharing AI-based research. It is fully integrated with EDSL, allowing you to post, download and update objects directly from your workspace or at the Coop web app. [Create an account](https://www.expectedparrot.com/login) to share your EDSL surveys, results, agents, notebooks and other content and get to access special features, including an interface for launching hybrid human-AI surveys.\n",
    "\n",
    "If you encounter any issues or have questions, please email us at info@expectedparrot.com or post a question at our [Discord channel](https://discord.com/invite/mxAYkjfy9m)."
   ]
  },
  {
   "cell_type": "markdown",
   "id": "40633ca6-c73d-4ad4-aadb-82914e74f7d8",
   "metadata": {},
   "source": [
    "## Example: Running a simple question\n",
    "EDSL comes with a [variety of question types](https://docs.expectedparrot.com/en/latest/questions.html) that we can choose from based on the form of the response that we want to get back from a model.\n",
    "To see a list of all question types:"
   ]
  },
  {
   "cell_type": "code",
   "execution_count": 1,
   "id": "b6f61057-dc99-4952-bb43-ad8563118d72",
   "metadata": {},
   "outputs": [
    {
     "data": {
      "text/html": [
       "\n",
       "        <style>\n",
       "            :root {\n",
       "  --containerHeight: auto;\n",
       "  --headerColor: blue;\n",
       "}\n",
       "\n",
       ".table-container {\n",
       "    height: var(--containerHeight) !important;\n",
       "    width: 100%;\n",
       "    overflow: auto;  /* This enables both horizontal and vertical scrolling */\n",
       "    border: 1px solid #d4d4d4;\n",
       "    background: transparent;\n",
       "    position: relative;  /* Create stacking context for sticky header */\n",
       "}\n",
       "\n",
       ".scroll-table {\n",
       "    /* Remove width: 100% to prevent table from being constrained */\n",
       "    /* min-width: 100% ensures table takes at least full container width */\n",
       "    min-width: 100%;\n",
       "    border-collapse: separate;\n",
       "    border-spacing: 4px;\n",
       "    background: transparent;\n",
       "    table-layout: auto;  /* Allow table to size based on content */\n",
       "}\n",
       "\n",
       ".scroll-table th {\n",
       "    background: transparent;  /* Semi-transparent background to ensure text readability */\n",
       "    position: sticky;\n",
       "    top: 0;\n",
       "    z-index: 1;\n",
       "    text-align: left !important;\n",
       "    padding: 8px;\n",
       "    font-weight: bold;\n",
       "    white-space: nowrap;  /* Prevent header text from wrapping */\n",
       "    min-width: 100px;    /* Ensure minimum column width */\n",
       "    backdrop-filter: blur(8px);  /* Optional: adds extra clarity */\n",
       "    color: var(--headerColor);\n",
       "}\n",
       "\n",
       ".scroll-table td {\n",
       "    padding: 8px;\n",
       "    text-align: left !important;\n",
       "    white-space: pre-wrap;\n",
       "    word-wrap: break-word;\n",
       "    vertical-align: top;\n",
       "    color: inherit;\n",
       "    border-bottom: none;\n",
       "    background: transparent;\n",
       "    min-width: 100px;    /* Match header minimum width */\n",
       "}\n",
       "\n",
       ".scroll-table tbody tr:hover {\n",
       "    background: transparent;\n",
       "}\n",
       "\n",
       "/* Additional rule to ensure header background is truly transparent */\n",
       ".scroll-table thead tr {\n",
       "    background: transparent !important;\n",
       "}\n",
       "\n",
       "/* Add shadow to indicate scrollable content */\n",
       ".table-container::after {\n",
       "    content: '';\n",
       "    position: absolute;\n",
       "    top: 0;\n",
       "    right: 0;\n",
       "    bottom: 0;\n",
       "    width: 5px;\n",
       "    background: linear-gradient(to right, transparent, rgba(242, 6, 6, 0.1));\n",
       "    pointer-events: none;\n",
       "    opacity: 0;\n",
       "    transition: opacity 0.3s;\n",
       "}\n",
       "\n",
       ".table-container:hover::after {\n",
       "    opacity: 1;\n",
       "}\n",
       "\n",
       "/* Handle Jupyter notebook specific styling */\n",
       ".jp-OutputArea-output .table-container {\n",
       "    max-width: 100%;\n",
       "    margin: 0;\n",
       "    overflow-x: auto;\n",
       "}\n",
       "        </style>\n",
       "        <div class=\"table-container\">\n",
       "            <div class=\"scroll-table-wrapper\">\n",
       "                <table class=\"scroll-table\">\n",
       "<thead>\n",
       "<tr><th>question_type  </th><th>question_class        </th><th>example_question                                                                                                                                                                                                                                                                                                                </th></tr>\n",
       "</thead>\n",
       "<tbody>\n",
       "<tr><td>checkbox       </td><td>QuestionCheckBox      </td><td>Question(&#x27;checkbox&#x27;, question_name = &quot;&quot;&quot;never_eat&quot;&quot;&quot;, question_text = &quot;&quot;&quot;Which of the following foods would you eat if you had to?&quot;&quot;&quot;, min_selections = 2, max_selections = 5, question_options = [&#x27;soggy meatpie&#x27;, &#x27;rare snails&#x27;, &#x27;mouldy bread&#x27;, &#x27;panda milk custard&#x27;, &#x27;McDonalds&#x27;], include_comment = False, use_code = True)</td></tr>\n",
       "<tr><td>extract        </td><td>QuestionExtract       </td><td>Question(&#x27;extract&#x27;, question_name = &quot;&quot;&quot;extract_name&quot;&quot;&quot;, question_text = &quot;&quot;&quot;My name is Moby Dick. I have a PhD in astrology, but I&#x27;m actually a truck driver&quot;&quot;&quot;, answer_template = {&#x27;name&#x27;: &#x27;John Doe&#x27;, &#x27;profession&#x27;: &#x27;Carpenter&#x27;})                                                                                              </td></tr>\n",
       "<tr><td>free_text      </td><td>QuestionFreeText      </td><td>Question(&#x27;free_text&#x27;, question_name = &quot;&quot;&quot;how_are_you&quot;&quot;&quot;, question_text = &quot;&quot;&quot;How are you?&quot;&quot;&quot;)                                                                                                                                                                                                                                    </td></tr>\n",
       "<tr><td>functional     </td><td>QuestionFunctional    </td><td>Question(&#x27;functional&#x27;, question_name = &quot;&quot;&quot;sum_and_multiply&quot;&quot;&quot;, question_text = &quot;&quot;&quot;Calculate the sum of the list and multiply it by the agent trait multiplier.&quot;&quot;&quot;)                                                                                                                                                              </td></tr>\n",
       "<tr><td>likert_five    </td><td>QuestionLikertFive    </td><td>Question(&#x27;likert_five&#x27;, question_name = &quot;&quot;&quot;happy_raining&quot;&quot;&quot;, question_text = &quot;&quot;&quot;I&#x27;m only happy when it rains.&quot;&quot;&quot;, question_options = [&#x27;Strongly disagree&#x27;, &#x27;Disagree&#x27;, &#x27;Neutral&#x27;, &#x27;Agree&#x27;, &#x27;Strongly agree&#x27;])                                                                                                                   </td></tr>\n",
       "<tr><td>linear_scale   </td><td>QuestionLinearScale   </td><td>Question(&#x27;linear_scale&#x27;, question_name = &quot;&quot;&quot;ice_cream&quot;&quot;&quot;, question_text = &quot;&quot;&quot;How much do you like ice cream?&quot;&quot;&quot;, question_options = [1, 2, 3, 4, 5], option_labels = {1: &#x27;I hate it&#x27;, 5: &#x27;I love it&#x27;})                                                                                                                          </td></tr>\n",
       "<tr><td>list           </td><td>QuestionList          </td><td>Question(&#x27;list&#x27;, question_name = &quot;&quot;&quot;list_of_foods&quot;&quot;&quot;, question_text = &quot;&quot;&quot;What are your favorite foods?&quot;&quot;&quot;, max_list_items = None)                                                                                                                                                                                               </td></tr>\n",
       "<tr><td>multiple_choice</td><td>QuestionMultipleChoice</td><td>Question(&#x27;multiple_choice&#x27;, question_name = &quot;&quot;&quot;how_feeling&quot;&quot;&quot;, question_text = &quot;&quot;&quot;How are you?&quot;&quot;&quot;, question_options = [&#x27;Good&#x27;, &#x27;Great&#x27;, &#x27;OK&#x27;, &#x27;Bad&#x27;], include_comment = False)                                                                                                                                                  </td></tr>\n",
       "<tr><td>numerical      </td><td>QuestionNumerical     </td><td>Question(&#x27;numerical&#x27;, question_name = &quot;&quot;&quot;age&quot;&quot;&quot;, question_text = &quot;&quot;&quot;You are a 45 year old man. How old are you in years?&quot;&quot;&quot;, min_value = 0, max_value = 86.7, include_comment = False)                                                                                                                                          </td></tr>\n",
       "<tr><td>rank           </td><td>QuestionRank          </td><td>Question(&#x27;rank&#x27;, question_name = &quot;&quot;&quot;rank_foods&quot;&quot;&quot;, question_text = &quot;&quot;&quot;Rank your favorite foods.&quot;&quot;&quot;, question_options = [&#x27;Pizza&#x27;, &#x27;Pasta&#x27;, &#x27;Salad&#x27;, &#x27;Soup&#x27;], num_selections = 2)                                                                                                                                                 </td></tr>\n",
       "<tr><td>top_k          </td><td>QuestionTopK          </td><td>Question(&#x27;top_k&#x27;, question_name = &quot;&quot;&quot;two_fruits&quot;&quot;&quot;, question_text = &quot;&quot;&quot;Which of the following fruits do you prefer?&quot;&quot;&quot;, min_selections = 2, max_selections = 2, question_options = [&#x27;apple&#x27;, &#x27;banana&#x27;, &#x27;carrot&#x27;, &#x27;durian&#x27;], use_code = True)                                                                                    </td></tr>\n",
       "<tr><td>yes_no         </td><td>QuestionYesNo         </td><td>Question(&#x27;yes_no&#x27;, question_name = &quot;&quot;&quot;is_it_equal&quot;&quot;&quot;, question_text = &quot;&quot;&quot;Is 5 + 5 equal to 11?&quot;&quot;&quot;, question_options = [&#x27;No&#x27;, &#x27;Yes&#x27;])                                                                                                                                                                                            </td></tr>\n",
       "</tbody>\n",
       "</table>\n",
       "            </div>\n",
       "        </div>\n",
       "        "
      ],
      "text/plain": [
       "Dataset([{'question_type': ['checkbox', 'extract', 'free_text', 'functional', 'likert_five', 'linear_scale', 'list', 'multiple_choice', 'numerical', 'rank', 'top_k', 'yes_no']}, {'question_class': ['QuestionCheckBox', 'QuestionExtract', 'QuestionFreeText', 'QuestionFunctional', 'QuestionLikertFive', 'QuestionLinearScale', 'QuestionList', 'QuestionMultipleChoice', 'QuestionNumerical', 'QuestionRank', 'QuestionTopK', 'QuestionYesNo']}, {'example_question': ['Question(\\'checkbox\\', question_name = \"\"\"never_eat\"\"\", question_text = \"\"\"Which of the following foods would you eat if you had to?\"\"\", min_selections = 2, max_selections = 5, question_options = [\\'soggy meatpie\\', \\'rare snails\\', \\'mouldy bread\\', \\'panda milk custard\\', \\'McDonalds\\'], include_comment = False, use_code = True)', 'Question(\\'extract\\', question_name = \"\"\"extract_name\"\"\", question_text = \"\"\"My name is Moby Dick. I have a PhD in astrology, but I\\'m actually a truck driver\"\"\", answer_template = {\\'name\\': \\'John Doe\\', \\'profession\\': \\'Carpenter\\'})', 'Question(\\'free_text\\', question_name = \"\"\"how_are_you\"\"\", question_text = \"\"\"How are you?\"\"\")', 'Question(\\'functional\\', question_name = \"\"\"sum_and_multiply\"\"\", question_text = \"\"\"Calculate the sum of the list and multiply it by the agent trait multiplier.\"\"\")', 'Question(\\'likert_five\\', question_name = \"\"\"happy_raining\"\"\", question_text = \"\"\"I\\'m only happy when it rains.\"\"\", question_options = [\\'Strongly disagree\\', \\'Disagree\\', \\'Neutral\\', \\'Agree\\', \\'Strongly agree\\'])', 'Question(\\'linear_scale\\', question_name = \"\"\"ice_cream\"\"\", question_text = \"\"\"How much do you like ice cream?\"\"\", question_options = [1, 2, 3, 4, 5], option_labels = {1: \\'I hate it\\', 5: \\'I love it\\'})', 'Question(\\'list\\', question_name = \"\"\"list_of_foods\"\"\", question_text = \"\"\"What are your favorite foods?\"\"\", max_list_items = None)', 'Question(\\'multiple_choice\\', question_name = \"\"\"how_feeling\"\"\", question_text = \"\"\"How are you?\"\"\", question_options = [\\'Good\\', \\'Great\\', \\'OK\\', \\'Bad\\'], include_comment = False)', 'Question(\\'numerical\\', question_name = \"\"\"age\"\"\", question_text = \"\"\"You are a 45 year old man. How old are you in years?\"\"\", min_value = 0, max_value = 86.7, include_comment = False)', 'Question(\\'rank\\', question_name = \"\"\"rank_foods\"\"\", question_text = \"\"\"Rank your favorite foods.\"\"\", question_options = [\\'Pizza\\', \\'Pasta\\', \\'Salad\\', \\'Soup\\'], num_selections = 2)', 'Question(\\'top_k\\', question_name = \"\"\"two_fruits\"\"\", question_text = \"\"\"Which of the following fruits do you prefer?\"\"\", min_selections = 2, max_selections = 2, question_options = [\\'apple\\', \\'banana\\', \\'carrot\\', \\'durian\\'], use_code = True)', 'Question(\\'yes_no\\', question_name = \"\"\"is_it_equal\"\"\", question_text = \"\"\"Is 5 + 5 equal to 11?\"\"\", question_options = [\\'No\\', \\'Yes\\'])']}])"
      ]
     },
     "execution_count": 1,
     "metadata": {},
     "output_type": "execute_result"
    }
   ],
   "source": [
    "from edsl import Question\n",
    "\n",
    "Question.available()"
   ]
  },
  {
   "cell_type": "markdown",
   "id": "185af5d1-beba-40cd-8c29-2a212fcc4e5a",
   "metadata": {},
   "source": [
    "We can see the components of a particular question type by importing the question type class and calling the `example` method on it:"
   ]
  },
  {
   "cell_type": "code",
   "execution_count": 2,
   "id": "572f6614-de5b-44a1-a5fc-81eba360282f",
   "metadata": {},
   "outputs": [
    {
     "data": {
      "text/html": [
       "<table>\n",
       "<thead>\n",
       "<tr><th>keys            </th><th>values                        </th></tr>\n",
       "</thead>\n",
       "<tbody>\n",
       "<tr><td>question_name   </td><td>how_feeling                   </td></tr>\n",
       "<tr><td>question_text   </td><td>How are you?                  </td></tr>\n",
       "<tr><td>question_options</td><td>[&#x27;Good&#x27;, &#x27;Great&#x27;, &#x27;OK&#x27;, &#x27;Bad&#x27;]</td></tr>\n",
       "<tr><td>include_comment </td><td>False                         </td></tr>\n",
       "<tr><td>question_type   </td><td>multiple_choice               </td></tr>\n",
       "</tbody>\n",
       "</table>"
      ],
      "text/plain": [
       "Question('multiple_choice', question_name = \"\"\"how_feeling\"\"\", question_text = \"\"\"How are you?\"\"\", question_options = ['Good', 'Great', 'OK', 'Bad'], include_comment = False)"
      ]
     },
     "execution_count": 2,
     "metadata": {},
     "output_type": "execute_result"
    }
   ],
   "source": [
    "from edsl import (\n",
    "    # QuestionCheckBox,\n",
    "    # QuestionExtract,\n",
    "    # QuestionFreeText,\n",
    "    # QuestionFunctional,\n",
    "    # QuestionLikertFive,\n",
    "    # QuestionLinearScale,\n",
    "    # QuestionList,\n",
    "    QuestionMultipleChoice,\n",
    "    # QuestionNumerical,\n",
    "    # QuestionRank,\n",
    "    # QuestionTopK,\n",
    "    # QuestionYesNo\n",
    ")\n",
    "\n",
    "q = QuestionMultipleChoice.example() # substitute any question type class name\n",
    "q"
   ]
  },
  {
   "cell_type": "markdown",
   "id": "34704ae3-b643-4a6e-a721-b6208c19adda",
   "metadata": {},
   "source": [
    "Here we create a simple multiple choice question:"
   ]
  },
  {
   "cell_type": "code",
   "execution_count": 3,
   "id": "baa14cb3-d81f-47dc-96c8-90fba2a1460a",
   "metadata": {},
   "outputs": [],
   "source": [
    "from edsl import QuestionMultipleChoice\n",
    "\n",
    "q = QuestionMultipleChoice(\n",
    "    question_name = \"smallest_prime\",\n",
    "    question_text = \"Which is the smallest prime number?\",\n",
    "    question_options = [0, 1, 2, 3]\n",
    ")"
   ]
  },
  {
   "cell_type": "markdown",
   "id": "235fc4a0-0cd4-4930-92b9-e39734a70a2c",
   "metadata": {},
   "source": [
    "We can administer it to a language model by calling the `run` method. Here, we run it remotely at the Expected Parrot server. This requires activating remote inference at your Coop account and [storing your Expected Parrot API key](https://docs.expectedparrot.com/en/latest/api_keys.html). Note that the results are stored at an unlisted Coop page by default. We could also set the visibility to `public` or `private` when we run it or update the object, or at the Coop web app. The job details only accessible to the user:"
   ]
  },
  {
   "cell_type": "code",
   "execution_count": 4,
   "id": "b314a755-4209-4223-9b99-041ef2774871",
   "metadata": {},
   "outputs": [
    {
     "name": "stdout",
     "output_type": "stream",
     "text": [
      "Remote inference activated. Sending job to server...\n",
      "Job sent to server. (Job uuid=089db8bc-ad56-4432-a33e-b1b873519bef).\n"
     ]
    },
    {
     "data": {
      "text/html": [
       "<pre style=\"white-space:pre;overflow-x:auto;line-height:normal;font-family:Menlo,'DejaVu Sans Mono',consolas,'Courier New',monospace\">View job progress here: \n",
       "<a href=\"https://www.expectedparrot.com/home/remote-job-progress/089db8bc-ad56-4432-a33e-b1b873519bef\" target=\"_blank\"><span style=\"color: #38bdf8; text-decoration-color: #38bdf8; text-decoration: underline\">https://www.expectedparrot.com/home/remote-job-progress/089db8bc-ad56-4432-a33e-b1b873519bef</span></a>\n",
       "</pre>\n"
      ],
      "text/plain": [
       "View job progress here: \n",
       "\u001b]8;id=323099;https://www.expectedparrot.com/home/remote-job-progress/089db8bc-ad56-4432-a33e-b1b873519bef\u001b\\\u001b[4;38;2;56;189;248mhttps://www.expectedparrot.com/home/remote-job-progress/089db8bc-ad56-4432-a33e-b1b873519bef\u001b[0m\u001b]8;;\u001b\\\n"
      ]
     },
     "metadata": {},
     "output_type": "display_data"
    },
    {
     "name": "stdout",
     "output_type": "stream",
     "text": [
      "Job completed and Results stored on Coop: https://www.expectedparrot.com/content/fd0f1c64-637f-4bc2-a870-6a356dcbe4c6.\n"
     ]
    }
   ],
   "source": [
    "results = q.run()"
   ]
  },
  {
   "cell_type": "markdown",
   "id": "9c9e78cb-54f2-4227-b69c-c916b3222b8d",
   "metadata": {},
   "source": [
    "### Inspecting results\n",
    "This generates a dataset of `Results` that we can readily access with [built-in methods for analysis](https://docs.expectedparrot.com/en/latest/results.html). \n",
    "Here we inspect the response, together with the model that was used and the model's \"comment\" about its response--a field that is automatically added to all question types other than free text:"
   ]
  },
  {
   "cell_type": "code",
   "execution_count": 5,
   "id": "cce12c20-180a-46ed-bc54-4305999eeeb0",
   "metadata": {},
   "outputs": [
    {
     "data": {
      "text/html": [
       "\n",
       "        <style>\n",
       "            :root {\n",
       "  --containerHeight: 200px;\n",
       "  --headerColor: blue;\n",
       "}\n",
       "\n",
       ".table-container {\n",
       "    height: var(--containerHeight) !important;\n",
       "    width: 100%;\n",
       "    overflow: auto;  /* This enables both horizontal and vertical scrolling */\n",
       "    border: 1px solid #d4d4d4;\n",
       "    background: transparent;\n",
       "    position: relative;  /* Create stacking context for sticky header */\n",
       "}\n",
       "\n",
       ".scroll-table {\n",
       "    /* Remove width: 100% to prevent table from being constrained */\n",
       "    /* min-width: 100% ensures table takes at least full container width */\n",
       "    min-width: 100%;\n",
       "    border-collapse: separate;\n",
       "    border-spacing: 4px;\n",
       "    background: transparent;\n",
       "    table-layout: auto;  /* Allow table to size based on content */\n",
       "}\n",
       "\n",
       ".scroll-table th {\n",
       "    background: transparent;  /* Semi-transparent background to ensure text readability */\n",
       "    position: sticky;\n",
       "    top: 0;\n",
       "    z-index: 1;\n",
       "    text-align: left !important;\n",
       "    padding: 8px;\n",
       "    font-weight: bold;\n",
       "    white-space: nowrap;  /* Prevent header text from wrapping */\n",
       "    min-width: 100px;    /* Ensure minimum column width */\n",
       "    backdrop-filter: blur(8px);  /* Optional: adds extra clarity */\n",
       "    color: var(--headerColor);\n",
       "}\n",
       "\n",
       ".scroll-table td {\n",
       "    padding: 8px;\n",
       "    text-align: left !important;\n",
       "    white-space: pre-wrap;\n",
       "    word-wrap: break-word;\n",
       "    vertical-align: top;\n",
       "    color: inherit;\n",
       "    border-bottom: none;\n",
       "    background: transparent;\n",
       "    min-width: 100px;    /* Match header minimum width */\n",
       "}\n",
       "\n",
       ".scroll-table tbody tr:hover {\n",
       "    background: transparent;\n",
       "}\n",
       "\n",
       "/* Additional rule to ensure header background is truly transparent */\n",
       ".scroll-table thead tr {\n",
       "    background: transparent !important;\n",
       "}\n",
       "\n",
       "/* Add shadow to indicate scrollable content */\n",
       ".table-container::after {\n",
       "    content: '';\n",
       "    position: absolute;\n",
       "    top: 0;\n",
       "    right: 0;\n",
       "    bottom: 0;\n",
       "    width: 5px;\n",
       "    background: linear-gradient(to right, transparent, rgba(242, 6, 6, 0.1));\n",
       "    pointer-events: none;\n",
       "    opacity: 0;\n",
       "    transition: opacity 0.3s;\n",
       "}\n",
       "\n",
       ".table-container:hover::after {\n",
       "    opacity: 1;\n",
       "}\n",
       "\n",
       "/* Handle Jupyter notebook specific styling */\n",
       ".jp-OutputArea-output .table-container {\n",
       "    max-width: 100%;\n",
       "    margin: 0;\n",
       "    overflow-x: auto;\n",
       "}\n",
       "        </style>\n",
       "        <div class=\"table-container\">\n",
       "            <div class=\"scroll-table-wrapper\">\n",
       "                <table class=\"scroll-table\">\n",
       "<thead>\n",
       "<tr><th>model.model  </th><th style=\"text-align: right;\">  answer.smallest_prime</th><th>comment.smallest_prime_comment                                                                                          </th></tr>\n",
       "</thead>\n",
       "<tbody>\n",
       "<tr><td>gpt-4o       </td><td style=\"text-align: right;\">                      2</td><td>2 is the smallest prime number because it is the only even number greater than 1 that is divisible only by 1 and itself.</td></tr>\n",
       "</tbody>\n",
       "</table>\n",
       "            </div>\n",
       "        </div>\n",
       "        "
      ],
      "text/plain": [
       "Dataset([{'model.model': ['gpt-4o']}, {'answer.smallest_prime': [2]}, {'comment.smallest_prime_comment': ['2 is the smallest prime number because it is the only even number greater than 1 that is divisible only by 1 and itself.']}])"
      ]
     },
     "execution_count": 5,
     "metadata": {},
     "output_type": "execute_result"
    }
   ],
   "source": [
    "results.select(\"model\", \"smallest_prime\", \"smallest_prime_comment\")"
   ]
  },
  {
   "cell_type": "markdown",
   "id": "bbb61d06-ad9f-42c5-856b-2a6000989eb4",
   "metadata": {},
   "source": [
    "The `Results` also include information about the question, model parameters, prompts, generated tokens and raw responses. \n",
    "To see a list of all the components:"
   ]
  },
  {
   "cell_type": "code",
   "execution_count": 6,
   "id": "34340f65-9453-46a2-a0de-92e7c2d52a80",
   "metadata": {},
   "outputs": [
    {
     "data": {
      "text/plain": [
       "['agent.agent_instruction',\n",
       " 'agent.agent_name',\n",
       " 'answer.smallest_prime',\n",
       " 'comment.smallest_prime_comment',\n",
       " 'generated_tokens.smallest_prime_generated_tokens',\n",
       " 'iteration.iteration',\n",
       " 'model.frequency_penalty',\n",
       " 'model.logprobs',\n",
       " 'model.max_tokens',\n",
       " 'model.model',\n",
       " 'model.presence_penalty',\n",
       " 'model.temperature',\n",
       " 'model.top_logprobs',\n",
       " 'model.top_p',\n",
       " 'prompt.smallest_prime_system_prompt',\n",
       " 'prompt.smallest_prime_user_prompt',\n",
       " 'question_options.smallest_prime_question_options',\n",
       " 'question_text.smallest_prime_question_text',\n",
       " 'question_type.smallest_prime_question_type',\n",
       " 'raw_model_response.smallest_prime_cost',\n",
       " 'raw_model_response.smallest_prime_one_usd_buys',\n",
       " 'raw_model_response.smallest_prime_raw_model_response']"
      ]
     },
     "execution_count": 6,
     "metadata": {},
     "output_type": "execute_result"
    }
   ],
   "source": [
    "results.columns"
   ]
  },
  {
   "cell_type": "markdown",
   "id": "9cfe1860-7f6d-4b5e-932c-4f02a096d54f",
   "metadata": {},
   "source": [
    "## Example: Conducting a survey with agents and models\n",
    "In the next example we construct a more complex survey consisting of multiple questions, and design personas for AI agents to answer it.\n",
    "Then we select specific language models to generate the answers.\n",
    "\n",
    "We start by creating questions in different types and passing them to a `Survey`:"
   ]
  },
  {
   "cell_type": "code",
   "execution_count": 7,
   "id": "a3d7bec4-7f00-4007-af7b-86cd93b89e5f",
   "metadata": {
    "editable": true,
    "slideshow": {
     "slide_type": ""
    },
    "tags": []
   },
   "outputs": [],
   "source": [
    "from edsl import QuestionLinearScale, QuestionFreeText\n",
    "\n",
    "q_enjoy = QuestionLinearScale(\n",
    "    question_name = \"enjoy\",\n",
    "    question_text = \"On a scale from 1 to 5, how much do you enjoy reading?\",\n",
    "    question_options = [1, 2, 3, 4, 5],\n",
    "    option_labels = {1:\"Not at all\", 5:\"Very much\"}\n",
    ")\n",
    "\n",
    "q_favorite_place = QuestionFreeText(\n",
    "    question_name = \"favorite_place\",\n",
    "    question_text = \"Describe your favorite place for reading.\"\n",
    ")"
   ]
  },
  {
   "cell_type": "markdown",
   "id": "69ff6781-b491-4439-b84a-30bf50cdd47d",
   "metadata": {},
   "source": [
    "We construct a `Survey` by passing a list of questions:"
   ]
  },
  {
   "cell_type": "code",
   "execution_count": 8,
   "id": "3f1d6f80-1fab-4754-b4a6-f9599accfdeb",
   "metadata": {},
   "outputs": [],
   "source": [
    "from edsl import Survey\n",
    "\n",
    "survey = Survey(questions = [q_enjoy, q_favorite_place])"
   ]
  },
  {
   "cell_type": "markdown",
   "id": "01320feb-86ad-43ad-a6a0-b2b94482dff5",
   "metadata": {
    "editable": true,
    "slideshow": {
     "slide_type": ""
    },
    "tags": []
   },
   "source": [
    "### Agents\n",
    "An important feature of EDSL is the ability to create AI agents to answer questions.\n",
    "This is done by passing dictionaries of relevant \"traits\" to `Agent` objects that are used by language models to generate responses.\n",
    "Learn more about [designing agents](https://docs.expectedparrot.com/en/latest/agents.html).\n",
    "\n",
    "Here we construct several simple agent personas to use with our survey:"
   ]
  },
  {
   "cell_type": "code",
   "execution_count": 9,
   "id": "a8125cd8-f320-4dcd-8dd2-4a1a3fd5fd9a",
   "metadata": {},
   "outputs": [],
   "source": [
    "from edsl import AgentList, Agent\n",
    "\n",
    "agents = AgentList(\n",
    "    Agent(traits = {\"persona\":p}) for p in [\"artist\", \"mechanic\", \"sailor\"]\n",
    ")"
   ]
  },
  {
   "cell_type": "markdown",
   "id": "36c2db76-390e-4ac2-aef8-443ca07ababb",
   "metadata": {},
   "source": [
    "### Language models\n",
    "EDSL works with many popular large language models that we can select to use with a survey.\n",
    "This makes it easy to compare responses among models in the results that are generated.\n",
    "\n",
    "To see a current list of available models:"
   ]
  },
  {
   "cell_type": "code",
   "execution_count": 10,
   "id": "a55a4dd2-a7b7-4156-9c51-140ed7de15db",
   "metadata": {},
   "outputs": [],
   "source": [
    "from edsl import Model\n",
    "\n",
    "# Model.available() # uncomment this code and run it to see the full list of currently available models"
   ]
  },
  {
   "cell_type": "markdown",
   "id": "08673ee4-bf36-4277-88ca-820b8bd4ef69",
   "metadata": {},
   "source": [
    "To check the default model that will be used if no models are specified for a survey (e.g., as in the first example above):"
   ]
  },
  {
   "cell_type": "code",
   "execution_count": 11,
   "id": "800defdb-8d50-4dfe-ab01-f2e2ea8c02bf",
   "metadata": {},
   "outputs": [
    {
     "data": {
      "text/html": [
       "<pre><table>\n",
       "<thead>\n",
       "<tr><th>keys             </th><th>values  </th></tr>\n",
       "</thead>\n",
       "<tbody>\n",
       "<tr><td>model            </td><td>gpt-4o  </td></tr>\n",
       "<tr><td>temperature      </td><td>0.5     </td></tr>\n",
       "<tr><td>max_tokens       </td><td>1000    </td></tr>\n",
       "<tr><td>top_p            </td><td>1       </td></tr>\n",
       "<tr><td>frequency_penalty</td><td>0       </td></tr>\n",
       "<tr><td>presence_penalty </td><td>0       </td></tr>\n",
       "<tr><td>logprobs         </td><td>False   </td></tr>\n",
       "<tr><td>top_logprobs     </td><td>3       </td></tr>\n",
       "</tbody>\n",
       "</table></pre>"
      ],
      "text/plain": [
       "Model(model_name = 'gpt-4o', temperature = 0.5, max_tokens = 1000, top_p = 1, frequency_penalty = 0, presence_penalty = 0, logprobs = False, top_logprobs = 3)"
      ]
     },
     "execution_count": 11,
     "metadata": {},
     "output_type": "execute_result"
    }
   ],
   "source": [
    "Model()"
   ]
  },
  {
   "cell_type": "markdown",
   "id": "d2746b46-e526-45c0-a67d-cea66f19545d",
   "metadata": {},
   "source": [
    "(Note that the output may be different if the default model has changed since this page was last updated.)\n",
    "\n",
    "Here we select some models to use with our survey:"
   ]
  },
  {
   "cell_type": "code",
   "execution_count": 12,
   "id": "d64a20a2-3bd5-4db1-a469-711d222b3b4e",
   "metadata": {},
   "outputs": [],
   "source": [
    "from edsl import ModelList, Model\n",
    "\n",
    "models = ModelList(\n",
    "    Model(m) for m in [\"gpt-4o\", \"gemini-pro\"]\n",
    ")"
   ]
  },
  {
   "cell_type": "markdown",
   "id": "b55a23f1-405c-4554-b739-b64591566f0c",
   "metadata": {},
   "source": [
    "### Running a survey\n",
    "We add agents and models to a survey using the `by` method.\n",
    "Then we administer a survey the same way that we do an individual question, by calling the `run` method on it:"
   ]
  },
  {
   "cell_type": "code",
   "execution_count": 13,
   "id": "da64a02c-b17e-4067-92b1-3ab330f9f214",
   "metadata": {},
   "outputs": [
    {
     "name": "stdout",
     "output_type": "stream",
     "text": [
      "Remote inference activated. Sending job to server...\n",
      "Job sent to server. (Job uuid=430d8544-9dfd-4b1c-8b85-48374cc1ca31).\n"
     ]
    },
    {
     "data": {
      "text/html": [
       "<pre style=\"white-space:pre;overflow-x:auto;line-height:normal;font-family:Menlo,'DejaVu Sans Mono',consolas,'Courier New',monospace\">View job progress here: \n",
       "<a href=\"https://www.expectedparrot.com/home/remote-job-progress/430d8544-9dfd-4b1c-8b85-48374cc1ca31\" target=\"_blank\"><span style=\"color: #38bdf8; text-decoration-color: #38bdf8; text-decoration: underline\">https://www.expectedparrot.com/home/remote-job-progress/430d8544-9dfd-4b1c-8b85-48374cc1ca31</span></a>\n",
       "</pre>\n"
      ],
      "text/plain": [
       "View job progress here: \n",
       "\u001b]8;id=186915;https://www.expectedparrot.com/home/remote-job-progress/430d8544-9dfd-4b1c-8b85-48374cc1ca31\u001b\\\u001b[4;38;2;56;189;248mhttps://www.expectedparrot.com/home/remote-job-progress/430d8544-9dfd-4b1c-8b85-48374cc1ca31\u001b[0m\u001b]8;;\u001b\\\n"
      ]
     },
     "metadata": {},
     "output_type": "display_data"
    },
    {
     "name": "stdout",
     "output_type": "stream",
     "text": [
      "Job completed and Results stored on Coop: https://www.expectedparrot.com/content/b41ff331-4034-4a73-a52c-c05a7f56854c.\n"
     ]
    }
   ],
   "source": [
    "results = survey.by(agents).by(models).run()"
   ]
  },
  {
   "cell_type": "code",
   "execution_count": 14,
   "id": "4dd3b76e-2c9a-4129-8927-f27f50dea1e0",
   "metadata": {},
   "outputs": [
    {
     "data": {
      "text/html": [
       "\n",
       "        <style>\n",
       "            :root {\n",
       "  --containerHeight: 230px;\n",
       "  --headerColor: blue;\n",
       "}\n",
       "\n",
       ".table-container {\n",
       "    height: var(--containerHeight) !important;\n",
       "    width: 100%;\n",
       "    overflow: auto;  /* This enables both horizontal and vertical scrolling */\n",
       "    border: 1px solid #d4d4d4;\n",
       "    background: transparent;\n",
       "    position: relative;  /* Create stacking context for sticky header */\n",
       "}\n",
       "\n",
       ".scroll-table {\n",
       "    /* Remove width: 100% to prevent table from being constrained */\n",
       "    /* min-width: 100% ensures table takes at least full container width */\n",
       "    min-width: 100%;\n",
       "    border-collapse: separate;\n",
       "    border-spacing: 4px;\n",
       "    background: transparent;\n",
       "    table-layout: auto;  /* Allow table to size based on content */\n",
       "}\n",
       "\n",
       ".scroll-table th {\n",
       "    background: transparent;  /* Semi-transparent background to ensure text readability */\n",
       "    position: sticky;\n",
       "    top: 0;\n",
       "    z-index: 1;\n",
       "    text-align: left !important;\n",
       "    padding: 8px;\n",
       "    font-weight: bold;\n",
       "    white-space: nowrap;  /* Prevent header text from wrapping */\n",
       "    min-width: 100px;    /* Ensure minimum column width */\n",
       "    backdrop-filter: blur(8px);  /* Optional: adds extra clarity */\n",
       "    color: var(--headerColor);\n",
       "}\n",
       "\n",
       ".scroll-table td {\n",
       "    padding: 8px;\n",
       "    text-align: left !important;\n",
       "    white-space: pre-wrap;\n",
       "    word-wrap: break-word;\n",
       "    vertical-align: top;\n",
       "    color: inherit;\n",
       "    border-bottom: none;\n",
       "    background: transparent;\n",
       "    min-width: 100px;    /* Match header minimum width */\n",
       "}\n",
       "\n",
       ".scroll-table tbody tr:hover {\n",
       "    background: transparent;\n",
       "}\n",
       "\n",
       "/* Additional rule to ensure header background is truly transparent */\n",
       ".scroll-table thead tr {\n",
       "    background: transparent !important;\n",
       "}\n",
       "\n",
       "/* Add shadow to indicate scrollable content */\n",
       ".table-container::after {\n",
       "    content: '';\n",
       "    position: absolute;\n",
       "    top: 0;\n",
       "    right: 0;\n",
       "    bottom: 0;\n",
       "    width: 5px;\n",
       "    background: linear-gradient(to right, transparent, rgba(242, 6, 6, 0.1));\n",
       "    pointer-events: none;\n",
       "    opacity: 0;\n",
       "    transition: opacity 0.3s;\n",
       "}\n",
       "\n",
       ".table-container:hover::after {\n",
       "    opacity: 1;\n",
       "}\n",
       "\n",
       "/* Handle Jupyter notebook specific styling */\n",
       ".jp-OutputArea-output .table-container {\n",
       "    max-width: 100%;\n",
       "    margin: 0;\n",
       "    overflow-x: auto;\n",
       "}\n",
       "        </style>\n",
       "        <div class=\"table-container\">\n",
       "            <div class=\"scroll-table-wrapper\">\n",
       "                <table class=\"scroll-table\">\n",
       "<thead>\n",
       "<tr><th>model.model  </th><th>agent.persona  </th><th style=\"text-align: right;\">  answer.enjoy</th><th>answer.favorite_place                                                                                                                                                                                                                                                                                                                                                                                                                                                                                                                                                                                                                 </th></tr>\n",
       "</thead>\n",
       "<tbody>\n",
       "<tr><td>gemini-pro   </td><td>artist         </td><td style=\"text-align: right;\">             5</td><td>Nestled amidst the verdant embrace of a sprawling park, my favorite reading sanctuary unfolds as a secluded haven where tranquility reigns supreme.\n",
       "\n",
       "Beneath the towering canopy of ancient oak trees, a quaint bench beckons, its weathered surface inviting me to sink into its embrace. As I settle in, the gentle rustling of leaves overhead creates a soothing symphony that calms my mind and prepares me for the literary journey ahead.\n",
       "\n",
       "The air is fragrant with the sweet scent of blooming wildflowers, carried by a soft breeze that whispers secrets through the trees. The vibrant hues of nature paint the canvas around me, inspiring a sense of wonder and connection to the world.\n",
       "\n",
       "As I open the pages of my chosen book, the outside world fades into oblivion. The words dance before my eyes, inviting me into realms unknown. The characters become my companions, their stories unfolding before me like a captivating tapestry.\n",
       "\n",
       "Time seems to stand still in this idyllic setting. The worries of the day dissolve as I immerse myself in the written word. The worries of the day dissolve as I immerse myself in the written word. The worries of the day dissolve as I immerse myself in the written word.\n",
       "\n",
       "As the sun begins its descent, casting long shadows across the park, I close my book and savor the lingering glow of the day. The world around me has transformed into a magical realm, where the boundaries between reality and imagination blur.                                                                                                                                                                                                                                                                                                                                                                                                                                                                                                                                                                                                                                       </td></tr>\n",
       "<tr><td>gpt-4o       </td><td>artist         </td><td style=\"text-align: right;\">             4</td><td>My favorite place for reading is a cozy nook by a large window in my art studio. The natural light that streams in during the day is perfect for both reading and painting. I have a comfortable armchair draped with a colorful throw, and a small wooden side table where I keep a steaming cup of herbal tea. The walls are adorned with my paintings, which add a touch of inspiration and creativity to the atmosphere. It&#x27;s a quiet, peaceful space where I can lose myself in a good book or simply gaze out at the changing scenery outside.                                                                                  </td></tr>\n",
       "<tr><td>gemini-pro   </td><td>mechanic       </td><td style=\"text-align: right;\">             5</td><td>In the heart of my cozy abode, where solitude and inspiration intertwine, lies my sanctuary of literary bliss—my reading nook. Bathed in the warm glow of a vintage lamp, it beckons me with its allure, a haven where I can escape into the realms of imagination.\n",
       "\n",
       "The walls are adorned with shelves brimming with an eclectic collection of books, their spines whispering tales of adventure, romance, and wisdom. The air is infused with the faint scent of paper and ink, a symphony that awakens my senses. A plush armchair, upholstered in soft velvet, invites me to sink into its embrace, enveloping me in a cocoon of comfort.\n",
       "\n",
       "A large window frames the verdant garden outside, offering a tranquil view of nature&#x27;s artistry. As I turn the pages, the rustling of leaves and the chirping of birds create a soothing soundtrack that enhances my reading experience. The gentle breeze carries the sweet fragrance of blooming flowers, mingling with the scent of freshly brewed coffee on my side table.\n",
       "\n",
       "In this tranquil haven, I am free to lose myself in the written word. Time seems to stand still as I journey through distant lands, unravel mysteries, and explore the depths of human emotion. The characters become my companions, their struggles and triumphs mirroring my own.                                                                                                                                                                                                                                                                                                                                                                                                                                                                                                                                                                                                                                       </td></tr>\n",
       "<tr><td>gpt-4o       </td><td>mechanic       </td><td style=\"text-align: right;\">             2</td><td>As a mechanic, my favorite place for reading might not be what you&#x27;d expect. I enjoy reading in my garage, surrounded by the hum of engines and the smell of oil. There&#x27;s something comforting about being in my element, with tools and parts all around me. I usually set up a small corner with a sturdy chair and a good lamp, so I can dive into a book during my breaks. Whether it&#x27;s a manual on the latest automotive technology or a novel to unwind, the garage is my go-to spot.                                                                                                                                           </td></tr>\n",
       "<tr><td>gemini-pro   </td><td>sailor         </td><td style=\"text-align: right;\">             5</td><td>Amidst the bustling city&#x27;s cacophony, I seek solace in a sanctuary of tranquility—my favorite reading nook.\n",
       "\n",
       "Nestled in a cozy corner of my apartment, it is an oasis of serenity. The soft glow of a vintage lamp illuminates a comfortable armchair, its plush cushions inviting me to sink into its embrace. A large window frames a vibrant cityscape, providing a backdrop of constant movement and life. Yet, within this cozy haven, I find stillness and escape.\n",
       "\n",
       "The walls are adorned with an eclectic collection of artwork, each piece evoking a different memory or inspiration. A vibrant abstract painting captures the essence of a stormy sea, while a delicate watercolor depicts the serene beauty of a mountain meadow. These visual cues transport me to distant realms, setting the stage for literary adventures.\n",
       "\n",
       "The air is scented with the faint aroma of freshly brewed coffee and the subtle fragrance of old books. The gentle hum of the city outside fades into a distant murmur, creating an atmosphere conducive to deep contemplation and immersion.\n",
       "\n",
       "As I settle into my armchair, I reach for a book. Its pages hold the promise of countless worlds to explore, characters to meet, and lessons to learn. The weight of the book in my hands feels both comforting and exhilarating, a tangible connection to the boundless possibilities within its covers.\n",
       "\n",
       "With each turn of the page, I am transported to different times and places. I witness the rise and fall of empires, the triumphs and tragedies of human lives, and the wonders of the natural world. The words dance before my eyes, painting vivid images in my mind. I become lost in the stories, my own worries and concerns fading away.                                                                                                                                                                                                                                                                                                                                                                                                                                                                                                                                                                                                                                       </td></tr>\n",
       "<tr><td>gpt-4o       </td><td>sailor         </td><td style=\"text-align: right;\">             3</td><td>Ah, my favorite place for reading has to be the deck of a ship, with the vast ocean stretching out endlessly before me. There&#x27;s something about the gentle rocking of the waves and the salty sea breeze that makes any book come alive. I love settling into a sturdy deck chair, perhaps with a mug of strong coffee or a tot of rum by my side, and losing myself in a tale while the sun sets on the horizon, painting the sky with colors that even the best of stories can&#x27;t quite capture. The sound of the water lapping against the hull provides a soothing background, making it the perfect spot to dive into a good book.</td></tr>\n",
       "</tbody>\n",
       "</table>\n",
       "            </div>\n",
       "        </div>\n",
       "        "
      ],
      "text/plain": [
       "Dataset([{'model.model': ['gemini-pro', 'gpt-4o', 'gemini-pro', 'gpt-4o', 'gemini-pro', 'gpt-4o']}, {'agent.persona': ['artist', 'artist', 'mechanic', 'mechanic', 'sailor', 'sailor']}, {'answer.enjoy': [5, 4, 5, 2, 5, 3]}, {'answer.favorite_place': ['Nestled amidst the verdant embrace of a sprawling park, my favorite reading sanctuary unfolds as a secluded haven where tranquility reigns supreme.\\n\\nBeneath the towering canopy of ancient oak trees, a quaint bench beckons, its weathered surface inviting me to sink into its embrace. As I settle in, the gentle rustling of leaves overhead creates a soothing symphony that calms my mind and prepares me for the literary journey ahead.\\n\\nThe air is fragrant with the sweet scent of blooming wildflowers, carried by a soft breeze that whispers secrets through the trees. The vibrant hues of nature paint the canvas around me, inspiring a sense of wonder and connection to the world.\\n\\nAs I open the pages of my chosen book, the outside world fades into oblivion. The words dance before my eyes, inviting me into realms unknown. The characters become my companions, their stories unfolding before me like a captivating tapestry.\\n\\nTime seems to stand still in this idyllic setting. The worries of the day dissolve as I immerse myself in the written word. The worries of the day dissolve as I immerse myself in the written word. The worries of the day dissolve as I immerse myself in the written word.\\n\\nAs the sun begins its descent, casting long shadows across the park, I close my book and savor the lingering glow of the day. The world around me has transformed into a magical realm, where the boundaries between reality and imagination blur.', \"My favorite place for reading is a cozy nook by a large window in my art studio. The natural light that streams in during the day is perfect for both reading and painting. I have a comfortable armchair draped with a colorful throw, and a small wooden side table where I keep a steaming cup of herbal tea. The walls are adorned with my paintings, which add a touch of inspiration and creativity to the atmosphere. It's a quiet, peaceful space where I can lose myself in a good book or simply gaze out at the changing scenery outside.\", \"In the heart of my cozy abode, where solitude and inspiration intertwine, lies my sanctuary of literary bliss—my reading nook. Bathed in the warm glow of a vintage lamp, it beckons me with its allure, a haven where I can escape into the realms of imagination.\\n\\nThe walls are adorned with shelves brimming with an eclectic collection of books, their spines whispering tales of adventure, romance, and wisdom. The air is infused with the faint scent of paper and ink, a symphony that awakens my senses. A plush armchair, upholstered in soft velvet, invites me to sink into its embrace, enveloping me in a cocoon of comfort.\\n\\nA large window frames the verdant garden outside, offering a tranquil view of nature's artistry. As I turn the pages, the rustling of leaves and the chirping of birds create a soothing soundtrack that enhances my reading experience. The gentle breeze carries the sweet fragrance of blooming flowers, mingling with the scent of freshly brewed coffee on my side table.\\n\\nIn this tranquil haven, I am free to lose myself in the written word. Time seems to stand still as I journey through distant lands, unravel mysteries, and explore the depths of human emotion. The characters become my companions, their struggles and triumphs mirroring my own.\", \"As a mechanic, my favorite place for reading might not be what you'd expect. I enjoy reading in my garage, surrounded by the hum of engines and the smell of oil. There's something comforting about being in my element, with tools and parts all around me. I usually set up a small corner with a sturdy chair and a good lamp, so I can dive into a book during my breaks. Whether it's a manual on the latest automotive technology or a novel to unwind, the garage is my go-to spot.\", \"Amidst the bustling city's cacophony, I seek solace in a sanctuary of tranquility—my favorite reading nook.\\n\\nNestled in a cozy corner of my apartment, it is an oasis of serenity. The soft glow of a vintage lamp illuminates a comfortable armchair, its plush cushions inviting me to sink into its embrace. A large window frames a vibrant cityscape, providing a backdrop of constant movement and life. Yet, within this cozy haven, I find stillness and escape.\\n\\nThe walls are adorned with an eclectic collection of artwork, each piece evoking a different memory or inspiration. A vibrant abstract painting captures the essence of a stormy sea, while a delicate watercolor depicts the serene beauty of a mountain meadow. These visual cues transport me to distant realms, setting the stage for literary adventures.\\n\\nThe air is scented with the faint aroma of freshly brewed coffee and the subtle fragrance of old books. The gentle hum of the city outside fades into a distant murmur, creating an atmosphere conducive to deep contemplation and immersion.\\n\\nAs I settle into my armchair, I reach for a book. Its pages hold the promise of countless worlds to explore, characters to meet, and lessons to learn. The weight of the book in my hands feels both comforting and exhilarating, a tangible connection to the boundless possibilities within its covers.\\n\\nWith each turn of the page, I am transported to different times and places. I witness the rise and fall of empires, the triumphs and tragedies of human lives, and the wonders of the natural world. The words dance before my eyes, painting vivid images in my mind. I become lost in the stories, my own worries and concerns fading away.\", \"Ah, my favorite place for reading has to be the deck of a ship, with the vast ocean stretching out endlessly before me. There's something about the gentle rocking of the waves and the salty sea breeze that makes any book come alive. I love settling into a sturdy deck chair, perhaps with a mug of strong coffee or a tot of rum by my side, and losing myself in a tale while the sun sets on the horizon, painting the sky with colors that even the best of stories can't quite capture. The sound of the water lapping against the hull provides a soothing background, making it the perfect spot to dive into a good book.\"]}])"
      ]
     },
     "execution_count": 14,
     "metadata": {},
     "output_type": "execute_result"
    }
   ],
   "source": [
    "(\n",
    "    results\n",
    "    .sort_by(\"persona\", \"model\")\n",
    "    .select(\"model\", \"persona\", \"enjoy\", \"favorite_place\")\n",
    ")"
   ]
  },
  {
   "cell_type": "markdown",
   "id": "1bf4939d-06f8-4b15-98eb-2bd17728d29d",
   "metadata": {},
   "source": [
    "## Example: Adding context to questions\n",
    "EDSL provides a variety of ways to add data or content to survey questions. \n",
    "These methods include:\n",
    "\n",
    "* [Piping](https://docs.expectedparrot.com/en/latest/surveys.html#id2) answers to questions into follow-on questions\n",
    "* [Adding \"memory\"](https://docs.expectedparrot.com/en/latest/surveys.html#question-memory) of prior questions and answers in a survey when presenting other questions to a model\n",
    "* [Parameterizing questions with data](https://docs.expectedparrot.com/en/latest/scenarios.html), e.g., content from PDFs, CSVs, docs, images or other sources that you want to add to questions"
   ]
  },
  {
   "cell_type": "markdown",
   "id": "fa54fa90-7246-4963-9590-7e112e89c23e",
   "metadata": {},
   "source": [
    "### Piping question answers\n",
    "Here we demonstrate how to pipe the answer to a question into the text of another question.\n",
    "This is done by using a placeholder `{{ <question_name>.answer }}` in the text of the follow-on question where the answer to the prior question is to be inserted when the survey is run.\n",
    "This causes the questions to be administered in the required order (survey questions are administered asynchronously by default).\n",
    "Learn more about [piping question answers](https://docs.expectedparrot.com/en/latest/surveys.html#id2).\n",
    "\n",
    "Here we insert the answer to a numerical question into the text of a follow-on yes/no question:"
   ]
  },
  {
   "cell_type": "code",
   "execution_count": 15,
   "id": "db74b5b9-1523-4d6a-ac8f-5ccb65589922",
   "metadata": {},
   "outputs": [
    {
     "name": "stdout",
     "output_type": "stream",
     "text": [
      "Remote inference activated. Sending job to server...\n",
      "Job sent to server. (Job uuid=504ab811-03cd-4efc-92b3-dfa10519d1a2).\n"
     ]
    },
    {
     "data": {
      "text/html": [
       "<pre style=\"white-space:pre;overflow-x:auto;line-height:normal;font-family:Menlo,'DejaVu Sans Mono',consolas,'Courier New',monospace\">View job progress here: \n",
       "<a href=\"https://www.expectedparrot.com/home/remote-job-progress/504ab811-03cd-4efc-92b3-dfa10519d1a2\" target=\"_blank\"><span style=\"color: #38bdf8; text-decoration-color: #38bdf8; text-decoration: underline\">https://www.expectedparrot.com/home/remote-job-progress/504ab811-03cd-4efc-92b3-dfa10519d1a2</span></a>\n",
       "</pre>\n"
      ],
      "text/plain": [
       "View job progress here: \n",
       "\u001b]8;id=553897;https://www.expectedparrot.com/home/remote-job-progress/504ab811-03cd-4efc-92b3-dfa10519d1a2\u001b\\\u001b[4;38;2;56;189;248mhttps://www.expectedparrot.com/home/remote-job-progress/504ab811-03cd-4efc-92b3-dfa10519d1a2\u001b[0m\u001b]8;;\u001b\\\n"
      ]
     },
     "metadata": {},
     "output_type": "display_data"
    },
    {
     "name": "stdout",
     "output_type": "stream",
     "text": [
      "Job completed and Results stored on Coop: https://www.expectedparrot.com/content/5c0b56cd-efd6-4f53-b231-eda6b2ca632c.\n"
     ]
    }
   ],
   "source": [
    "from edsl import QuestionNumerical, QuestionYesNo, Survey\n",
    "\n",
    "q1 = QuestionNumerical(\n",
    "    question_name = \"random_number\",\n",
    "    question_text = \"Pick a random number between 1 and 1,000.\"\n",
    ")\n",
    "\n",
    "q2 = QuestionYesNo(\n",
    "    question_name = \"prime\",\n",
    "    question_text = \"Is this a prime number: {{ random_number.answer }}\"\n",
    ")\n",
    "\n",
    "survey = Survey([q1, q2])\n",
    "\n",
    "results = survey.run()"
   ]
  },
  {
   "cell_type": "markdown",
   "id": "65f7ecb9-dc91-4df0-ade7-0498db29aeeb",
   "metadata": {},
   "source": [
    "We can check the `user_prompt` for the `prime` question to verify that that the answer to the `random_number` question was piped into it:"
   ]
  },
  {
   "cell_type": "code",
   "execution_count": 16,
   "id": "c8aceca7-cfe4-4683-a101-40e280a536c7",
   "metadata": {},
   "outputs": [
    {
     "data": {
      "text/html": [
       "\n",
       "        <style>\n",
       "            :root {\n",
       "  --containerHeight: 200px;\n",
       "  --headerColor: blue;\n",
       "}\n",
       "\n",
       ".table-container {\n",
       "    height: var(--containerHeight) !important;\n",
       "    width: 100%;\n",
       "    overflow: auto;  /* This enables both horizontal and vertical scrolling */\n",
       "    border: 1px solid #d4d4d4;\n",
       "    background: transparent;\n",
       "    position: relative;  /* Create stacking context for sticky header */\n",
       "}\n",
       "\n",
       ".scroll-table {\n",
       "    /* Remove width: 100% to prevent table from being constrained */\n",
       "    /* min-width: 100% ensures table takes at least full container width */\n",
       "    min-width: 100%;\n",
       "    border-collapse: separate;\n",
       "    border-spacing: 4px;\n",
       "    background: transparent;\n",
       "    table-layout: auto;  /* Allow table to size based on content */\n",
       "}\n",
       "\n",
       ".scroll-table th {\n",
       "    background: transparent;  /* Semi-transparent background to ensure text readability */\n",
       "    position: sticky;\n",
       "    top: 0;\n",
       "    z-index: 1;\n",
       "    text-align: left !important;\n",
       "    padding: 8px;\n",
       "    font-weight: bold;\n",
       "    white-space: nowrap;  /* Prevent header text from wrapping */\n",
       "    min-width: 100px;    /* Ensure minimum column width */\n",
       "    backdrop-filter: blur(8px);  /* Optional: adds extra clarity */\n",
       "    color: var(--headerColor);\n",
       "}\n",
       "\n",
       ".scroll-table td {\n",
       "    padding: 8px;\n",
       "    text-align: left !important;\n",
       "    white-space: pre-wrap;\n",
       "    word-wrap: break-word;\n",
       "    vertical-align: top;\n",
       "    color: inherit;\n",
       "    border-bottom: none;\n",
       "    background: transparent;\n",
       "    min-width: 100px;    /* Match header minimum width */\n",
       "}\n",
       "\n",
       ".scroll-table tbody tr:hover {\n",
       "    background: transparent;\n",
       "}\n",
       "\n",
       "/* Additional rule to ensure header background is truly transparent */\n",
       ".scroll-table thead tr {\n",
       "    background: transparent !important;\n",
       "}\n",
       "\n",
       "/* Add shadow to indicate scrollable content */\n",
       ".table-container::after {\n",
       "    content: '';\n",
       "    position: absolute;\n",
       "    top: 0;\n",
       "    right: 0;\n",
       "    bottom: 0;\n",
       "    width: 5px;\n",
       "    background: linear-gradient(to right, transparent, rgba(242, 6, 6, 0.1));\n",
       "    pointer-events: none;\n",
       "    opacity: 0;\n",
       "    transition: opacity 0.3s;\n",
       "}\n",
       "\n",
       ".table-container:hover::after {\n",
       "    opacity: 1;\n",
       "}\n",
       "\n",
       "/* Handle Jupyter notebook specific styling */\n",
       ".jp-OutputArea-output .table-container {\n",
       "    max-width: 100%;\n",
       "    margin: 0;\n",
       "    overflow-x: auto;\n",
       "}\n",
       "        </style>\n",
       "        <div class=\"table-container\">\n",
       "            <div class=\"scroll-table-wrapper\">\n",
       "                <table class=\"scroll-table\">\n",
       "<thead>\n",
       "<tr><th style=\"text-align: right;\">  answer.random_number</th><th>prompt.prime_user_prompt  </th><th>answer.prime  </th><th>comment.prime_comment                                                                       </th></tr>\n",
       "</thead>\n",
       "<tbody>\n",
       "<tr><td style=\"text-align: right;\">                   487</td><td>Is this a prime number: 487\n",
       "\n",
       "    \n",
       "No\n",
       "    \n",
       "Yes\n",
       "    \n",
       "\n",
       "Only 1 option may be selected.\n",
       "Please respond with just your answer. \n",
       "\n",
       "\n",
       "After the answer, you can put a comment explaining your response.                           </td><td>No            </td><td>487 is not a prime number because it can be divided evenly by 1, 487, and also by 19 and 25.</td></tr>\n",
       "</tbody>\n",
       "</table>\n",
       "            </div>\n",
       "        </div>\n",
       "        "
      ],
      "text/plain": [
       "Dataset([{'answer.random_number': [487]}, {'prompt.prime_user_prompt': [Prompt(text=\"\"\"\n",
       "Is this a prime number: 487\n",
       "\n",
       "    \n",
       "No\n",
       "    \n",
       "Yes\n",
       "    \n",
       "\n",
       "Only 1 option may be selected.\n",
       "Please respond with just your answer. \n",
       "\n",
       "\n",
       "After the answer, you can put a comment explaining your response.\"\"\")]}, {'answer.prime': ['No']}, {'comment.prime_comment': ['487 is not a prime number because it can be divided evenly by 1, 487, and also by 19 and 25.']}])"
      ]
     },
     "execution_count": 16,
     "metadata": {},
     "output_type": "execute_result"
    }
   ],
   "source": [
    "results.select(\"random_number\", \"prime_user_prompt\", \"prime\", \"prime_comment\")"
   ]
  },
  {
   "cell_type": "markdown",
   "id": "0f9736aa-fda5-4eed-8917-ea0cbc723d5f",
   "metadata": {},
   "source": [
    "### Adding \"memory\" of questions and answers\n",
    "Here we instead add a \"memory\" of the first question and answer to the context of the second question.\n",
    "This is done by calling a memory rule and identifying the question(s) to add.\n",
    "Instead of just the answer, information about the full question and answer are presented with the follow-on question text, and no placeholder is used.\n",
    "Learn more about [question memory rules](https://docs.expectedparrot.com/en/latest/surveys.html#survey-rules-logic).\n",
    "\n",
    "Here we demonstrate the `add_targeted_memory` method (we could also use `set_full_memory_mode` or other memory rules):"
   ]
  },
  {
   "cell_type": "code",
   "execution_count": 17,
   "id": "618109ac-ac2b-4989-82f9-25270b1426cb",
   "metadata": {},
   "outputs": [
    {
     "name": "stdout",
     "output_type": "stream",
     "text": [
      "Remote inference activated. Sending job to server...\n",
      "Job sent to server. (Job uuid=53f0473f-4d6a-4173-9aea-68517638dc89).\n"
     ]
    },
    {
     "data": {
      "text/html": [
       "<pre style=\"white-space:pre;overflow-x:auto;line-height:normal;font-family:Menlo,'DejaVu Sans Mono',consolas,'Courier New',monospace\">View job progress here: \n",
       "<a href=\"https://www.expectedparrot.com/home/remote-job-progress/53f0473f-4d6a-4173-9aea-68517638dc89\" target=\"_blank\"><span style=\"color: #38bdf8; text-decoration-color: #38bdf8; text-decoration: underline\">https://www.expectedparrot.com/home/remote-job-progress/53f0473f-4d6a-4173-9aea-68517638dc89</span></a>\n",
       "</pre>\n"
      ],
      "text/plain": [
       "View job progress here: \n",
       "\u001b]8;id=734601;https://www.expectedparrot.com/home/remote-job-progress/53f0473f-4d6a-4173-9aea-68517638dc89\u001b\\\u001b[4;38;2;56;189;248mhttps://www.expectedparrot.com/home/remote-job-progress/53f0473f-4d6a-4173-9aea-68517638dc89\u001b[0m\u001b]8;;\u001b\\\n"
      ]
     },
     "metadata": {},
     "output_type": "display_data"
    },
    {
     "name": "stdout",
     "output_type": "stream",
     "text": [
      "Job completed and Results stored on Coop: https://www.expectedparrot.com/content/5ec878f3-5178-4e6b-ae03-b678a835dc39.\n"
     ]
    }
   ],
   "source": [
    "from edsl import QuestionNumerical, QuestionYesNo, Survey\n",
    "\n",
    "q1 = QuestionNumerical(\n",
    "    question_name = \"random_number\",\n",
    "    question_text = \"Pick a random number between 1 and 1,000.\"\n",
    ")\n",
    "\n",
    "q2 = QuestionYesNo(\n",
    "    question_name = \"prime\",\n",
    "    question_text = \"Is the number you picked a prime number?\"\n",
    ")\n",
    "\n",
    "survey = Survey([q1, q2]).add_targeted_memory(q2, q1)\n",
    "\n",
    "results = survey.run()"
   ]
  },
  {
   "cell_type": "markdown",
   "id": "b90b324e-0bee-459d-8b1b-9d554ec44ec3",
   "metadata": {},
   "source": [
    "We can again use the `user_prompt` to verify the context that was added to the follow-on question. To view the results in a long table, we can call the `table()` and `long()` methods to modify the default table view:"
   ]
  },
  {
   "cell_type": "code",
   "execution_count": 18,
   "id": "4c6f348e-4c89-46db-a6f6-26389246f69b",
   "metadata": {},
   "outputs": [
    {
     "data": {
      "text/html": [
       "\n",
       "        <style>\n",
       "            :root {\n",
       "  --containerHeight: 200px;\n",
       "  --headerColor: blue;\n",
       "}\n",
       "\n",
       ".table-container {\n",
       "    height: var(--containerHeight) !important;\n",
       "    width: 100%;\n",
       "    overflow: auto;  /* This enables both horizontal and vertical scrolling */\n",
       "    border: 1px solid #d4d4d4;\n",
       "    background: transparent;\n",
       "    position: relative;  /* Create stacking context for sticky header */\n",
       "}\n",
       "\n",
       ".scroll-table {\n",
       "    /* Remove width: 100% to prevent table from being constrained */\n",
       "    /* min-width: 100% ensures table takes at least full container width */\n",
       "    min-width: 100%;\n",
       "    border-collapse: separate;\n",
       "    border-spacing: 4px;\n",
       "    background: transparent;\n",
       "    table-layout: auto;  /* Allow table to size based on content */\n",
       "}\n",
       "\n",
       ".scroll-table th {\n",
       "    background: transparent;  /* Semi-transparent background to ensure text readability */\n",
       "    position: sticky;\n",
       "    top: 0;\n",
       "    z-index: 1;\n",
       "    text-align: left !important;\n",
       "    padding: 8px;\n",
       "    font-weight: bold;\n",
       "    white-space: nowrap;  /* Prevent header text from wrapping */\n",
       "    min-width: 100px;    /* Ensure minimum column width */\n",
       "    backdrop-filter: blur(8px);  /* Optional: adds extra clarity */\n",
       "    color: var(--headerColor);\n",
       "}\n",
       "\n",
       ".scroll-table td {\n",
       "    padding: 8px;\n",
       "    text-align: left !important;\n",
       "    white-space: pre-wrap;\n",
       "    word-wrap: break-word;\n",
       "    vertical-align: top;\n",
       "    color: inherit;\n",
       "    border-bottom: none;\n",
       "    background: transparent;\n",
       "    min-width: 100px;    /* Match header minimum width */\n",
       "}\n",
       "\n",
       ".scroll-table tbody tr:hover {\n",
       "    background: transparent;\n",
       "}\n",
       "\n",
       "/* Additional rule to ensure header background is truly transparent */\n",
       ".scroll-table thead tr {\n",
       "    background: transparent !important;\n",
       "}\n",
       "\n",
       "/* Add shadow to indicate scrollable content */\n",
       ".table-container::after {\n",
       "    content: '';\n",
       "    position: absolute;\n",
       "    top: 0;\n",
       "    right: 0;\n",
       "    bottom: 0;\n",
       "    width: 5px;\n",
       "    background: linear-gradient(to right, transparent, rgba(242, 6, 6, 0.1));\n",
       "    pointer-events: none;\n",
       "    opacity: 0;\n",
       "    transition: opacity 0.3s;\n",
       "}\n",
       "\n",
       ".table-container:hover::after {\n",
       "    opacity: 1;\n",
       "}\n",
       "\n",
       "/* Handle Jupyter notebook specific styling */\n",
       ".jp-OutputArea-output .table-container {\n",
       "    max-width: 100%;\n",
       "    margin: 0;\n",
       "    overflow-x: auto;\n",
       "}\n",
       "        </style>\n",
       "        <div class=\"table-container\">\n",
       "            <div class=\"scroll-table-wrapper\">\n",
       "                <table class=\"scroll-table\">\n",
       "<thead>\n",
       "<tr><th style=\"text-align: right;\">  row</th><th>key                     </th><th>value                                                                    </th></tr>\n",
       "</thead>\n",
       "<tbody>\n",
       "<tr><td style=\"text-align: right;\">    0</td><td>answer.random_number    </td><td>487                                                                      </td></tr>\n",
       "<tr><td style=\"text-align: right;\">    0</td><td>prompt.prime_user_prompt</td><td>Is the number you picked a prime number?\n",
       "\n",
       "    \n",
       "No\n",
       "    \n",
       "Yes\n",
       "    \n",
       "\n",
       "Only 1 option may be selected.\n",
       "Please respond with just your answer. \n",
       "\n",
       "\n",
       "After the answer, you can put a comment explaining your response. \n",
       "        Before the question you are now answering, you already answered the following question(s):\n",
       "        \tQuestion: Pick a random number between 1 and 1,000.\n",
       "\tAnswer: 487                                                                          </td></tr>\n",
       "<tr><td style=\"text-align: right;\">    0</td><td>answer.prime            </td><td>Yes                                                                      </td></tr>\n",
       "<tr><td style=\"text-align: right;\">    0</td><td>comment.prime_comment   </td><td>487 is a prime number because it has no divisors other than 1 and itself.</td></tr>\n",
       "</tbody>\n",
       "</table>\n",
       "            </div>\n",
       "        </div>\n",
       "        "
      ],
      "text/plain": [
       "  row  key                       value\n",
       "-----  ------------------------  --------------------------------------------------------------------------------------------------\n",
       "    0  answer.random_number      487\n",
       "    0  prompt.prime_user_prompt  Is the number you picked a prime number?\n",
       "\n",
       "\n",
       "                                 No\n",
       "\n",
       "                                 Yes\n",
       "\n",
       "\n",
       "                                 Only 1 option may be selected.\n",
       "                                 Please respond with just your answer.\n",
       "\n",
       "\n",
       "                                 After the answer, you can put a comment explaining your response.\n",
       "                                         Before the question you are now answering, you already answered the following question(s):\n",
       "                                         \tQuestion: Pick a random number between 1 and 1,000.\n",
       "                                 \tAnswer: 487\n",
       "    0  answer.prime              Yes\n",
       "    0  comment.prime_comment     487 is a prime number because it has no divisors other than 1 and itself."
      ]
     },
     "execution_count": 18,
     "metadata": {},
     "output_type": "execute_result"
    }
   ],
   "source": [
    "results.select(\"random_number\", \"prime_user_prompt\", \"prime\", \"prime_comment\").table().long()"
   ]
  },
  {
   "cell_type": "markdown",
   "id": "817b9ad5-f511-4bb3-845c-9623897f90bc",
   "metadata": {},
   "source": [
    "*Related topic: Learn more about exploring and simulating \"randomness\" with AI agents and LLMs in [this notebook](https://docs.expectedparrot.com/en/latest/notebooks/random_numbers.html).*"
   ]
  },
  {
   "cell_type": "markdown",
   "id": "3d45e671-d63c-43bf-9a69-210aa171fa48",
   "metadata": {},
   "source": [
    "## Scenarios\n",
    "We can also add external data or content to survey questions.\n",
    "This can be useful when you want to efficiently create and administer multiple versions of questions at once, e.g., for conducting data labeling tasks.\n",
    "This is done by creating `Scenario` dictionaries for the data or content to be used with a survey, where the keys match `{{ placeholder }}` names used in question texts (or question options) and the values are the content to be added.\n",
    "Scenarios can also be used to [add metadata to survey results](https://docs.expectedparrot.com/en/latest/notebooks/adding_metadata.html), e.g., data sources or other information that you may want to include in the results for reference but not necessarily include in question texts.\n",
    "\n",
    "In the next example we revise the prior survey questions about reading to take a parameter for other activities that we may want to add to the questions, and create simple scenarios for some activities.\n",
    "EDSL provides methods for automatically generating scenarios from a variety of data sources, including PDFs, CSVs, docs, images, tables and dicts. \n",
    "We use the `from_list` method to convert a list of activities into scenarios.\n",
    "\n",
    "Then we demonstrate how to use scenarios to create multiple versions of our questions either (i) when constructing a survey or (ii) when running it:\n",
    "\n",
    "* In the latter case, the `by` method is used to add scenarios to a survey of questions with placeholders at the time that it is run (the same way that agents and models are added to a survey). This adds a `scenario` column to the results with a row for each answer to each question for each scenario.\n",
    "* In the former case, the `loop` method is used to create a list of versions of a question with the scenarios already added to it; when the questions are passed to a survey and it is run, the results include columns for each individual question; there is no `scenario` column and a single row for each agent's answers to all the questions.\n",
    "\n",
    "Learn more about [using scenarios](https://docs.expectedparrot.com/en/latest/scenarios.html).\n",
    "\n",
    "Here we create scenarios for a simple list of activities:"
   ]
  },
  {
   "cell_type": "code",
   "execution_count": 19,
   "id": "0ca889fe-9dfd-4ef4-b324-16493b3e1603",
   "metadata": {},
   "outputs": [],
   "source": [
    "from edsl import ScenarioList, Scenario\n",
    "\n",
    "scenarios = ScenarioList.from_list(\"activity\", [\"reading\", \"running\", \"relaxing\"])"
   ]
  },
  {
   "cell_type": "markdown",
   "id": "3a8c2951-93e3-4b40-83d0-d319ec14803a",
   "metadata": {},
   "source": [
    "### Adding scenarios using the `by` method\n",
    "Here we add the scenarios to the survey when we run it, together with any desired agents and models:"
   ]
  },
  {
   "cell_type": "code",
   "execution_count": 20,
   "id": "b0e3e7b3-36b3-4db6-b8fb-6f9abfbd3211",
   "metadata": {},
   "outputs": [],
   "source": [
    "from edsl import QuestionLinearScale, QuestionFreeText, Survey\n",
    "\n",
    "q_enjoy = QuestionLinearScale(\n",
    "    question_name = \"enjoy\",\n",
    "    question_text = \"On a scale from 1 to 5, how much do you enjoy {{ activity }}?\",\n",
    "    question_options = [1, 2, 3, 4, 5],\n",
    "    option_labels = {1:\"Not at all\", 5:\"Very much\"}\n",
    ")\n",
    "\n",
    "q_favorite_place = QuestionFreeText(\n",
    "    question_name = \"favorite_place\",\n",
    "    question_text = \"In a brief sentence, describe your favorite place for {{ activity }}.\"\n",
    ")\n",
    "\n",
    "survey = Survey([q_enjoy, q_favorite_place])"
   ]
  },
  {
   "cell_type": "code",
   "execution_count": 21,
   "id": "17b10a27-e227-4502-b4c3-74e10e54a1a8",
   "metadata": {},
   "outputs": [
    {
     "name": "stdout",
     "output_type": "stream",
     "text": [
      "Remote inference activated. Sending job to server...\n",
      "Job sent to server. (Job uuid=3370d439-0402-4a5d-8c94-5ff688ac7c31).\n"
     ]
    },
    {
     "data": {
      "text/html": [
       "<pre style=\"white-space:pre;overflow-x:auto;line-height:normal;font-family:Menlo,'DejaVu Sans Mono',consolas,'Courier New',monospace\">View job progress here: \n",
       "<a href=\"https://www.expectedparrot.com/home/remote-job-progress/3370d439-0402-4a5d-8c94-5ff688ac7c31\" target=\"_blank\"><span style=\"color: #38bdf8; text-decoration-color: #38bdf8; text-decoration: underline\">https://www.expectedparrot.com/home/remote-job-progress/3370d439-0402-4a5d-8c94-5ff688ac7c31</span></a>\n",
       "</pre>\n"
      ],
      "text/plain": [
       "View job progress here: \n",
       "\u001b]8;id=85128;https://www.expectedparrot.com/home/remote-job-progress/3370d439-0402-4a5d-8c94-5ff688ac7c31\u001b\\\u001b[4;38;2;56;189;248mhttps://www.expectedparrot.com/home/remote-job-progress/3370d439-0402-4a5d-8c94-5ff688ac7c31\u001b[0m\u001b]8;;\u001b\\\n"
      ]
     },
     "metadata": {},
     "output_type": "display_data"
    },
    {
     "name": "stdout",
     "output_type": "stream",
     "text": [
      "Job completed and Results stored on Coop: https://www.expectedparrot.com/content/02215eb0-3dd4-4975-900a-98a7b42734d2.\n"
     ]
    }
   ],
   "source": [
    "results = survey.by(scenarios).by(agents).by(models).run()"
   ]
  },
  {
   "cell_type": "code",
   "execution_count": 22,
   "id": "2f842a00-0069-43e6-ab2a-8dab6acf9909",
   "metadata": {},
   "outputs": [
    {
     "data": {
      "text/html": [
       "\n",
       "        <style>\n",
       "            :root {\n",
       "  --containerHeight: 320px;\n",
       "  --headerColor: blue;\n",
       "}\n",
       "\n",
       ".table-container {\n",
       "    height: var(--containerHeight) !important;\n",
       "    width: 100%;\n",
       "    overflow: auto;  /* This enables both horizontal and vertical scrolling */\n",
       "    border: 1px solid #d4d4d4;\n",
       "    background: transparent;\n",
       "    position: relative;  /* Create stacking context for sticky header */\n",
       "}\n",
       "\n",
       ".scroll-table {\n",
       "    /* Remove width: 100% to prevent table from being constrained */\n",
       "    /* min-width: 100% ensures table takes at least full container width */\n",
       "    min-width: 100%;\n",
       "    border-collapse: separate;\n",
       "    border-spacing: 4px;\n",
       "    background: transparent;\n",
       "    table-layout: auto;  /* Allow table to size based on content */\n",
       "}\n",
       "\n",
       ".scroll-table th {\n",
       "    background: transparent;  /* Semi-transparent background to ensure text readability */\n",
       "    position: sticky;\n",
       "    top: 0;\n",
       "    z-index: 1;\n",
       "    text-align: left !important;\n",
       "    padding: 8px;\n",
       "    font-weight: bold;\n",
       "    white-space: nowrap;  /* Prevent header text from wrapping */\n",
       "    min-width: 100px;    /* Ensure minimum column width */\n",
       "    backdrop-filter: blur(8px);  /* Optional: adds extra clarity */\n",
       "    color: var(--headerColor);\n",
       "}\n",
       "\n",
       ".scroll-table td {\n",
       "    padding: 8px;\n",
       "    text-align: left !important;\n",
       "    white-space: pre-wrap;\n",
       "    word-wrap: break-word;\n",
       "    vertical-align: top;\n",
       "    color: inherit;\n",
       "    border-bottom: none;\n",
       "    background: transparent;\n",
       "    min-width: 100px;    /* Match header minimum width */\n",
       "}\n",
       "\n",
       ".scroll-table tbody tr:hover {\n",
       "    background: transparent;\n",
       "}\n",
       "\n",
       "/* Additional rule to ensure header background is truly transparent */\n",
       ".scroll-table thead tr {\n",
       "    background: transparent !important;\n",
       "}\n",
       "\n",
       "/* Add shadow to indicate scrollable content */\n",
       ".table-container::after {\n",
       "    content: '';\n",
       "    position: absolute;\n",
       "    top: 0;\n",
       "    right: 0;\n",
       "    bottom: 0;\n",
       "    width: 5px;\n",
       "    background: linear-gradient(to right, transparent, rgba(242, 6, 6, 0.1));\n",
       "    pointer-events: none;\n",
       "    opacity: 0;\n",
       "    transition: opacity 0.3s;\n",
       "}\n",
       "\n",
       ".table-container:hover::after {\n",
       "    opacity: 1;\n",
       "}\n",
       "\n",
       "/* Handle Jupyter notebook specific styling */\n",
       ".jp-OutputArea-output .table-container {\n",
       "    max-width: 100%;\n",
       "    margin: 0;\n",
       "    overflow-x: auto;\n",
       "}\n",
       "        </style>\n",
       "        <div class=\"table-container\">\n",
       "            <div class=\"scroll-table-wrapper\">\n",
       "                <table class=\"scroll-table\">\n",
       "<thead>\n",
       "<tr><th>scenario.activity  </th><th>agent.persona  </th><th style=\"text-align: right;\">  answer.enjoy</th><th>answer.favorite_place                                                                                                                                                                      </th></tr>\n",
       "</thead>\n",
       "<tbody>\n",
       "<tr><td>reading            </td><td>artist         </td><td style=\"text-align: right;\">             4</td><td>My favorite place for reading is a cozy nook by a large window, where the natural light spills over the pages, surrounded by plants and the gentle hum of city life outside.               </td></tr>\n",
       "<tr><td>reading            </td><td>mechanic       </td><td style=\"text-align: right;\">             2</td><td>My favorite place for reading is in my garage, surrounded by the hum of engines and the scent of motor oil, where I can escape into a good book during breaks.                             </td></tr>\n",
       "<tr><td>reading            </td><td>sailor         </td><td style=\"text-align: right;\">             3</td><td>Ah, my favorite place for reading is out on the deck of a ship, with the salty sea breeze in my hair and the gentle rocking of the waves beneath me.                                       </td></tr>\n",
       "<tr><td>relaxing           </td><td>artist         </td><td style=\"text-align: right;\">             4</td><td>My favorite place for relaxing is a sun-dappled studio filled with the scent of fresh paint and the gentle hum of creativity.                                                              </td></tr>\n",
       "<tr><td>relaxing           </td><td>mechanic       </td><td style=\"text-align: right;\">             3</td><td>My favorite place for relaxing is in my garage, tinkering with an old engine, where the hum of tools and the smell of grease help me unwind.                                               </td></tr>\n",
       "<tr><td>relaxing           </td><td>sailor         </td><td style=\"text-align: right;\">             3</td><td>There&#x27;s nothing quite like the gentle sway of a hammock on the deck of a ship, with the sound of the ocean waves lapping against the hull and the salty breeze in the air.                 </td></tr>\n",
       "<tr><td>running            </td><td>artist         </td><td style=\"text-align: right;\">             2</td><td>My favorite place for running is a winding forest trail where the sunlight filters through the leaves, creating a dappled pattern on the ground.                                           </td></tr>\n",
       "<tr><td>running            </td><td>mechanic       </td><td style=\"text-align: right;\">             1</td><td>My favorite place for running is a quiet trail through the woods, where the fresh air and natural surroundings make each step feel refreshing.                                             </td></tr>\n",
       "<tr><td>running            </td><td>sailor         </td><td style=\"text-align: right;\">             2</td><td>Ah, my favorite place for running is along the rugged coastline, where the salty sea breeze fills the air and the waves crash against the rocks, reminding me of the vastness of the ocean.</td></tr>\n",
       "</tbody>\n",
       "</table>\n",
       "            </div>\n",
       "        </div>\n",
       "        "
      ],
      "text/plain": [
       "Dataset([{'scenario.activity': ['reading', 'reading', 'reading', 'relaxing', 'relaxing', 'relaxing', 'running', 'running', 'running']}, {'agent.persona': ['artist', 'mechanic', 'sailor', 'artist', 'mechanic', 'sailor', 'artist', 'mechanic', 'sailor']}, {'answer.enjoy': [4, 2, 3, 4, 3, 3, 2, 1, 2]}, {'answer.favorite_place': ['My favorite place for reading is a cozy nook by a large window, where the natural light spills over the pages, surrounded by plants and the gentle hum of city life outside.', 'My favorite place for reading is in my garage, surrounded by the hum of engines and the scent of motor oil, where I can escape into a good book during breaks.', 'Ah, my favorite place for reading is out on the deck of a ship, with the salty sea breeze in my hair and the gentle rocking of the waves beneath me.', 'My favorite place for relaxing is a sun-dappled studio filled with the scent of fresh paint and the gentle hum of creativity.', 'My favorite place for relaxing is in my garage, tinkering with an old engine, where the hum of tools and the smell of grease help me unwind.', \"There's nothing quite like the gentle sway of a hammock on the deck of a ship, with the sound of the ocean waves lapping against the hull and the salty breeze in the air.\", 'My favorite place for running is a winding forest trail where the sunlight filters through the leaves, creating a dappled pattern on the ground.', 'My favorite place for running is a quiet trail through the woods, where the fresh air and natural surroundings make each step feel refreshing.', 'Ah, my favorite place for running is along the rugged coastline, where the salty sea breeze fills the air and the waves crash against the rocks, reminding me of the vastness of the ocean.']}])"
      ]
     },
     "execution_count": 22,
     "metadata": {},
     "output_type": "execute_result"
    }
   ],
   "source": [
    "(\n",
    "    results\n",
    "    .filter(\"model.model == 'gpt-4o'\")\n",
    "    .sort_by(\"activity\", \"persona\")\n",
    "    .select(\"activity\", \"persona\", \"enjoy\", \"favorite_place\")\n",
    ")"
   ]
  },
  {
   "cell_type": "markdown",
   "id": "93e7d9fc-1aff-4ecc-af53-de85a5846f2f",
   "metadata": {},
   "source": [
    "### Adding scenarios using the `loop` method\n",
    "Here we add scenarios to questions when constructing a survey, as opposed to when running it.\n",
    "When we run the survey the results will include columns for each question and no `scenario` field. \n",
    "Note that we can also optionally use the scenario key in the question names (they are otherwise incremented by default):"
   ]
  },
  {
   "cell_type": "code",
   "execution_count": 23,
   "id": "07b02a99-069f-4207-a6bc-6755705ea1a3",
   "metadata": {},
   "outputs": [],
   "source": [
    "from edsl import QuestionLinearScale, QuestionFreeText\n",
    "\n",
    "q_enjoy = QuestionLinearScale(\n",
    "    question_name = \"enjoy_{{ activity }}\", # optional use of scenario key\n",
    "    question_text = \"On a scale from 1 to 5, how much do you enjoy {{ activity }}?\",\n",
    "    question_options = [1, 2, 3, 4, 5],\n",
    "    option_labels = {1:\"Not at all\", 5:\"Very much\"}\n",
    ")\n",
    "\n",
    "q_favorite_place = QuestionFreeText(\n",
    "    question_name = \"favorite_place_{{ activity }}\", # optional use of scenario key\n",
    "    question_text = \"In a brief sentence, describe your favorite place for {{ activity }}.\"\n",
    ")"
   ]
  },
  {
   "cell_type": "markdown",
   "id": "aa44ae7d-864d-4e6a-a5fc-e311e573f17b",
   "metadata": {},
   "source": [
    "Looping the scenarios to create lists of questions:"
   ]
  },
  {
   "cell_type": "code",
   "execution_count": 24,
   "id": "df69c2a7-e8a2-4d59-bc66-ef82efee7464",
   "metadata": {},
   "outputs": [
    {
     "data": {
      "text/plain": [
       "[Question('linear_scale', question_name = \"\"\"enjoy_reading\"\"\", question_text = \"\"\"On a scale from 1 to 5, how much do you enjoy reading?\"\"\", question_options = [1, 2, 3, 4, 5], option_labels = {1: 'Not at all', 5: 'Very much'}),\n",
       " Question('linear_scale', question_name = \"\"\"enjoy_running\"\"\", question_text = \"\"\"On a scale from 1 to 5, how much do you enjoy running?\"\"\", question_options = [1, 2, 3, 4, 5], option_labels = {1: 'Not at all', 5: 'Very much'}),\n",
       " Question('linear_scale', question_name = \"\"\"enjoy_relaxing\"\"\", question_text = \"\"\"On a scale from 1 to 5, how much do you enjoy relaxing?\"\"\", question_options = [1, 2, 3, 4, 5], option_labels = {1: 'Not at all', 5: 'Very much'})]"
      ]
     },
     "execution_count": 24,
     "metadata": {},
     "output_type": "execute_result"
    }
   ],
   "source": [
    "enjoy_questions = q_enjoy.loop(scenarios)\n",
    "enjoy_questions"
   ]
  },
  {
   "cell_type": "code",
   "execution_count": 25,
   "id": "93a5ad41-5e63-42b4-8ee8-a0591b67f897",
   "metadata": {},
   "outputs": [
    {
     "data": {
      "text/plain": [
       "[Question('free_text', question_name = \"\"\"favorite_place_reading\"\"\", question_text = \"\"\"In a brief sentence, describe your favorite place for reading.\"\"\"),\n",
       " Question('free_text', question_name = \"\"\"favorite_place_running\"\"\", question_text = \"\"\"In a brief sentence, describe your favorite place for running.\"\"\"),\n",
       " Question('free_text', question_name = \"\"\"favorite_place_relaxing\"\"\", question_text = \"\"\"In a brief sentence, describe your favorite place for relaxing.\"\"\")]"
      ]
     },
     "execution_count": 25,
     "metadata": {},
     "output_type": "execute_result"
    }
   ],
   "source": [
    "favorite_place_questions = q_favorite_place.loop(scenarios)\n",
    "favorite_place_questions"
   ]
  },
  {
   "cell_type": "markdown",
   "id": "b9d6310b-bef0-4ec1-8d4b-da04e4228797",
   "metadata": {},
   "source": [
    "Combining the questions in a survey:"
   ]
  },
  {
   "cell_type": "code",
   "execution_count": 26,
   "id": "db84d7a5-31c8-4e54-a1a0-7b3400677fd7",
   "metadata": {},
   "outputs": [],
   "source": [
    "survey = Survey(questions = enjoy_questions + favorite_place_questions)"
   ]
  },
  {
   "cell_type": "code",
   "execution_count": 27,
   "id": "efab32a1-fe39-4593-bf65-f7cf83d56d31",
   "metadata": {},
   "outputs": [
    {
     "name": "stdout",
     "output_type": "stream",
     "text": [
      "Remote inference activated. Sending job to server...\n",
      "Job sent to server. (Job uuid=39cb23f6-2ffe-418b-8f0c-80bd5eaf8ce2).\n"
     ]
    },
    {
     "data": {
      "text/html": [
       "<pre style=\"white-space:pre;overflow-x:auto;line-height:normal;font-family:Menlo,'DejaVu Sans Mono',consolas,'Courier New',monospace\">View job progress here: \n",
       "<a href=\"https://www.expectedparrot.com/home/remote-job-progress/39cb23f6-2ffe-418b-8f0c-80bd5eaf8ce2\" target=\"_blank\"><span style=\"color: #38bdf8; text-decoration-color: #38bdf8; text-decoration: underline\">https://www.expectedparrot.com/home/remote-job-progress/39cb23f6-2ffe-418b-8f0c-80bd5eaf8ce2</span></a>\n",
       "</pre>\n"
      ],
      "text/plain": [
       "View job progress here: \n",
       "\u001b]8;id=23706;https://www.expectedparrot.com/home/remote-job-progress/39cb23f6-2ffe-418b-8f0c-80bd5eaf8ce2\u001b\\\u001b[4;38;2;56;189;248mhttps://www.expectedparrot.com/home/remote-job-progress/39cb23f6-2ffe-418b-8f0c-80bd5eaf8ce2\u001b[0m\u001b]8;;\u001b\\\n"
      ]
     },
     "metadata": {},
     "output_type": "display_data"
    },
    {
     "name": "stdout",
     "output_type": "stream",
     "text": [
      "Job completed and Results stored on Coop: https://www.expectedparrot.com/content/38eef408-71ef-4e92-b53d-0c941304213b.\n"
     ]
    }
   ],
   "source": [
    "results = survey.by(agents).by(models).run()"
   ]
  },
  {
   "cell_type": "markdown",
   "id": "3aeb465f-2484-4b19-b09d-dbc159ce1142",
   "metadata": {},
   "source": [
    "We can see that there are additional question fields and no \"scenario\" field:"
   ]
  },
  {
   "cell_type": "code",
   "execution_count": 28,
   "id": "9c75551c-2e77-49e1-94c6-bec7b3f34db5",
   "metadata": {},
   "outputs": [
    {
     "data": {
      "text/plain": [
       "['agent.agent_instruction',\n",
       " 'agent.agent_name',\n",
       " 'agent.persona',\n",
       " 'answer.enjoy_reading',\n",
       " 'answer.enjoy_relaxing',\n",
       " 'answer.enjoy_running',\n",
       " 'answer.favorite_place_reading',\n",
       " 'answer.favorite_place_relaxing',\n",
       " 'answer.favorite_place_running',\n",
       " 'comment.enjoy_reading_comment',\n",
       " 'comment.enjoy_relaxing_comment',\n",
       " 'comment.enjoy_running_comment',\n",
       " 'comment.favorite_place_reading_comment',\n",
       " 'comment.favorite_place_relaxing_comment',\n",
       " 'comment.favorite_place_running_comment',\n",
       " 'generated_tokens.enjoy_reading_generated_tokens',\n",
       " 'generated_tokens.enjoy_relaxing_generated_tokens',\n",
       " 'generated_tokens.enjoy_running_generated_tokens',\n",
       " 'generated_tokens.favorite_place_reading_generated_tokens',\n",
       " 'generated_tokens.favorite_place_relaxing_generated_tokens',\n",
       " 'generated_tokens.favorite_place_running_generated_tokens',\n",
       " 'iteration.iteration',\n",
       " 'model.frequency_penalty',\n",
       " 'model.logprobs',\n",
       " 'model.maxOutputTokens',\n",
       " 'model.max_tokens',\n",
       " 'model.model',\n",
       " 'model.presence_penalty',\n",
       " 'model.stopSequences',\n",
       " 'model.temperature',\n",
       " 'model.topK',\n",
       " 'model.topP',\n",
       " 'model.top_logprobs',\n",
       " 'model.top_p',\n",
       " 'prompt.enjoy_reading_system_prompt',\n",
       " 'prompt.enjoy_reading_user_prompt',\n",
       " 'prompt.enjoy_relaxing_system_prompt',\n",
       " 'prompt.enjoy_relaxing_user_prompt',\n",
       " 'prompt.enjoy_running_system_prompt',\n",
       " 'prompt.enjoy_running_user_prompt',\n",
       " 'prompt.favorite_place_reading_system_prompt',\n",
       " 'prompt.favorite_place_reading_user_prompt',\n",
       " 'prompt.favorite_place_relaxing_system_prompt',\n",
       " 'prompt.favorite_place_relaxing_user_prompt',\n",
       " 'prompt.favorite_place_running_system_prompt',\n",
       " 'prompt.favorite_place_running_user_prompt',\n",
       " 'question_options.enjoy_reading_question_options',\n",
       " 'question_options.enjoy_relaxing_question_options',\n",
       " 'question_options.enjoy_running_question_options',\n",
       " 'question_options.favorite_place_reading_question_options',\n",
       " 'question_options.favorite_place_relaxing_question_options',\n",
       " 'question_options.favorite_place_running_question_options',\n",
       " 'question_text.enjoy_reading_question_text',\n",
       " 'question_text.enjoy_relaxing_question_text',\n",
       " 'question_text.enjoy_running_question_text',\n",
       " 'question_text.favorite_place_reading_question_text',\n",
       " 'question_text.favorite_place_relaxing_question_text',\n",
       " 'question_text.favorite_place_running_question_text',\n",
       " 'question_type.enjoy_reading_question_type',\n",
       " 'question_type.enjoy_relaxing_question_type',\n",
       " 'question_type.enjoy_running_question_type',\n",
       " 'question_type.favorite_place_reading_question_type',\n",
       " 'question_type.favorite_place_relaxing_question_type',\n",
       " 'question_type.favorite_place_running_question_type',\n",
       " 'raw_model_response.enjoy_reading_cost',\n",
       " 'raw_model_response.enjoy_reading_one_usd_buys',\n",
       " 'raw_model_response.enjoy_reading_raw_model_response',\n",
       " 'raw_model_response.enjoy_relaxing_cost',\n",
       " 'raw_model_response.enjoy_relaxing_one_usd_buys',\n",
       " 'raw_model_response.enjoy_relaxing_raw_model_response',\n",
       " 'raw_model_response.enjoy_running_cost',\n",
       " 'raw_model_response.enjoy_running_one_usd_buys',\n",
       " 'raw_model_response.enjoy_running_raw_model_response',\n",
       " 'raw_model_response.favorite_place_reading_cost',\n",
       " 'raw_model_response.favorite_place_reading_one_usd_buys',\n",
       " 'raw_model_response.favorite_place_reading_raw_model_response',\n",
       " 'raw_model_response.favorite_place_relaxing_cost',\n",
       " 'raw_model_response.favorite_place_relaxing_one_usd_buys',\n",
       " 'raw_model_response.favorite_place_relaxing_raw_model_response',\n",
       " 'raw_model_response.favorite_place_running_cost',\n",
       " 'raw_model_response.favorite_place_running_one_usd_buys',\n",
       " 'raw_model_response.favorite_place_running_raw_model_response']"
      ]
     },
     "execution_count": 28,
     "metadata": {},
     "output_type": "execute_result"
    }
   ],
   "source": [
    "results.columns "
   ]
  },
  {
   "cell_type": "code",
   "execution_count": 29,
   "id": "a9dd31a1-e28c-435c-bc36-f236c3435993",
   "metadata": {},
   "outputs": [
    {
     "data": {
      "text/html": [
       "\n",
       "        <style>\n",
       "            :root {\n",
       "  --containerHeight: 200px;\n",
       "  --headerColor: blue;\n",
       "}\n",
       "\n",
       ".table-container {\n",
       "    height: var(--containerHeight) !important;\n",
       "    width: 100%;\n",
       "    overflow: auto;  /* This enables both horizontal and vertical scrolling */\n",
       "    border: 1px solid #d4d4d4;\n",
       "    background: transparent;\n",
       "    position: relative;  /* Create stacking context for sticky header */\n",
       "}\n",
       "\n",
       ".scroll-table {\n",
       "    /* Remove width: 100% to prevent table from being constrained */\n",
       "    /* min-width: 100% ensures table takes at least full container width */\n",
       "    min-width: 100%;\n",
       "    border-collapse: separate;\n",
       "    border-spacing: 4px;\n",
       "    background: transparent;\n",
       "    table-layout: auto;  /* Allow table to size based on content */\n",
       "}\n",
       "\n",
       ".scroll-table th {\n",
       "    background: transparent;  /* Semi-transparent background to ensure text readability */\n",
       "    position: sticky;\n",
       "    top: 0;\n",
       "    z-index: 1;\n",
       "    text-align: left !important;\n",
       "    padding: 8px;\n",
       "    font-weight: bold;\n",
       "    white-space: nowrap;  /* Prevent header text from wrapping */\n",
       "    min-width: 100px;    /* Ensure minimum column width */\n",
       "    backdrop-filter: blur(8px);  /* Optional: adds extra clarity */\n",
       "    color: var(--headerColor);\n",
       "}\n",
       "\n",
       ".scroll-table td {\n",
       "    padding: 8px;\n",
       "    text-align: left !important;\n",
       "    white-space: pre-wrap;\n",
       "    word-wrap: break-word;\n",
       "    vertical-align: top;\n",
       "    color: inherit;\n",
       "    border-bottom: none;\n",
       "    background: transparent;\n",
       "    min-width: 100px;    /* Match header minimum width */\n",
       "}\n",
       "\n",
       ".scroll-table tbody tr:hover {\n",
       "    background: transparent;\n",
       "}\n",
       "\n",
       "/* Additional rule to ensure header background is truly transparent */\n",
       ".scroll-table thead tr {\n",
       "    background: transparent !important;\n",
       "}\n",
       "\n",
       "/* Add shadow to indicate scrollable content */\n",
       ".table-container::after {\n",
       "    content: '';\n",
       "    position: absolute;\n",
       "    top: 0;\n",
       "    right: 0;\n",
       "    bottom: 0;\n",
       "    width: 5px;\n",
       "    background: linear-gradient(to right, transparent, rgba(242, 6, 6, 0.1));\n",
       "    pointer-events: none;\n",
       "    opacity: 0;\n",
       "    transition: opacity 0.3s;\n",
       "}\n",
       "\n",
       ".table-container:hover::after {\n",
       "    opacity: 1;\n",
       "}\n",
       "\n",
       "/* Handle Jupyter notebook specific styling */\n",
       ".jp-OutputArea-output .table-container {\n",
       "    max-width: 100%;\n",
       "    margin: 0;\n",
       "    overflow-x: auto;\n",
       "}\n",
       "        </style>\n",
       "        <div class=\"table-container\">\n",
       "            <div class=\"scroll-table-wrapper\">\n",
       "                <table class=\"scroll-table\">\n",
       "<thead>\n",
       "<tr><th>agent.persona  </th><th style=\"text-align: right;\">  answer.enjoy_reading</th><th style=\"text-align: right;\">  answer.enjoy_running</th><th style=\"text-align: right;\">  answer.enjoy_relaxing</th><th>answer.favorite_place_reading                                                                                                                                               </th><th>answer.favorite_place_running                                                                                                                                                              </th><th>answer.favorite_place_relaxing                                                                                                                                            </th></tr>\n",
       "</thead>\n",
       "<tbody>\n",
       "<tr><td>artist         </td><td style=\"text-align: right;\">                     4</td><td style=\"text-align: right;\">                     2</td><td style=\"text-align: right;\">                      4</td><td>My favorite place for reading is a cozy nook by a large window, where the natural light spills over the pages, surrounded by plants and the gentle hum of city life outside.</td><td>My favorite place for running is a winding forest trail where the sunlight filters through the leaves, creating a dappled pattern on the ground.                                           </td><td>My favorite place for relaxing is a sun-dappled studio filled with the scent of fresh paint and the gentle hum of creativity.                                             </td></tr>\n",
       "<tr><td>mechanic       </td><td style=\"text-align: right;\">                     2</td><td style=\"text-align: right;\">                     1</td><td style=\"text-align: right;\">                      3</td><td>My favorite place for reading is in my garage, surrounded by the hum of engines and the scent of motor oil, where I can escape into a good book during breaks.              </td><td>My favorite place for running is a quiet trail through the woods, where the fresh air and natural surroundings make each step feel refreshing.                                             </td><td>My favorite place for relaxing is in my garage, tinkering with an old engine, where the hum of tools and the smell of grease help me unwind.                              </td></tr>\n",
       "<tr><td>sailor         </td><td style=\"text-align: right;\">                     3</td><td style=\"text-align: right;\">                     2</td><td style=\"text-align: right;\">                      3</td><td>Ah, my favorite place for reading is out on the deck of a ship, with the salty sea breeze in my hair and the gentle rocking of the waves beneath me.                        </td><td>Ah, my favorite place for running is along the rugged coastline, where the salty sea breeze fills the air and the waves crash against the rocks, reminding me of the vastness of the ocean.</td><td>There&#x27;s nothing quite like the gentle sway of a hammock on the deck of a ship, with the sound of the ocean waves lapping against the hull and the salty breeze in the air.</td></tr>\n",
       "</tbody>\n",
       "</table>\n",
       "            </div>\n",
       "        </div>\n",
       "        "
      ],
      "text/plain": [
       "Dataset([{'agent.persona': ['artist', 'mechanic', 'sailor']}, {'answer.enjoy_reading': [4, 2, 3]}, {'answer.enjoy_running': [2, 1, 2]}, {'answer.enjoy_relaxing': [4, 3, 3]}, {'answer.favorite_place_reading': ['My favorite place for reading is a cozy nook by a large window, where the natural light spills over the pages, surrounded by plants and the gentle hum of city life outside.', 'My favorite place for reading is in my garage, surrounded by the hum of engines and the scent of motor oil, where I can escape into a good book during breaks.', 'Ah, my favorite place for reading is out on the deck of a ship, with the salty sea breeze in my hair and the gentle rocking of the waves beneath me.']}, {'answer.favorite_place_running': ['My favorite place for running is a winding forest trail where the sunlight filters through the leaves, creating a dappled pattern on the ground.', 'My favorite place for running is a quiet trail through the woods, where the fresh air and natural surroundings make each step feel refreshing.', 'Ah, my favorite place for running is along the rugged coastline, where the salty sea breeze fills the air and the waves crash against the rocks, reminding me of the vastness of the ocean.']}, {'answer.favorite_place_relaxing': ['My favorite place for relaxing is a sun-dappled studio filled with the scent of fresh paint and the gentle hum of creativity.', 'My favorite place for relaxing is in my garage, tinkering with an old engine, where the hum of tools and the smell of grease help me unwind.', \"There's nothing quite like the gentle sway of a hammock on the deck of a ship, with the sound of the ocean waves lapping against the hull and the salty breeze in the air.\"]}])"
      ]
     },
     "execution_count": 29,
     "metadata": {},
     "output_type": "execute_result"
    }
   ],
   "source": [
    "(\n",
    "    results\n",
    "    .filter(\"model.model == 'gpt-4o'\")\n",
    "    .sort_by(\"persona\")\n",
    "    .select(\"persona\", \"enjoy_reading\", \"enjoy_running\", \"enjoy_relaxing\", \"favorite_place_reading\", \"favorite_place_running\", \"favorite_place_relaxing\")\n",
    ")"
   ]
  },
  {
   "cell_type": "markdown",
   "id": "71f74b3a-7253-4798-9638-82ac925db122",
   "metadata": {
    "editable": true,
    "slideshow": {
     "slide_type": ""
    },
    "tags": []
   },
   "source": [
    "## Exploring `Results`\n",
    "EDSL comes with [built-in methods for analyzing and visualizing survey results](https://docs.expectedparrot.com/en/latest/language_models.html). \n",
    "For example, you can call the `to_pandas` method to convert results into a dataframe:"
   ]
  },
  {
   "cell_type": "code",
   "execution_count": 30,
   "id": "1ab2cc32-015c-49bc-8e53-cc1c70f6d783",
   "metadata": {
    "editable": true,
    "slideshow": {
     "slide_type": ""
    },
    "tags": []
   },
   "outputs": [
    {
     "data": {
      "text/html": [
       "<div>\n",
       "<style scoped>\n",
       "    .dataframe tbody tr th:only-of-type {\n",
       "        vertical-align: middle;\n",
       "    }\n",
       "\n",
       "    .dataframe tbody tr th {\n",
       "        vertical-align: top;\n",
       "    }\n",
       "\n",
       "    .dataframe thead th {\n",
       "        text-align: right;\n",
       "    }\n",
       "</style>\n",
       "<table border=\"1\" class=\"dataframe\">\n",
       "  <thead>\n",
       "    <tr style=\"text-align: right;\">\n",
       "      <th></th>\n",
       "      <th>enjoy_reading</th>\n",
       "      <th>enjoy_running</th>\n",
       "      <th>favorite_place_relaxing</th>\n",
       "      <th>favorite_place_running</th>\n",
       "      <th>favorite_place_reading</th>\n",
       "      <th>enjoy_relaxing</th>\n",
       "      <th>agent_instruction</th>\n",
       "      <th>agent_name</th>\n",
       "      <th>persona</th>\n",
       "      <th>max_tokens</th>\n",
       "      <th>...</th>\n",
       "      <th>favorite_place_running_comment</th>\n",
       "      <th>enjoy_relaxing_comment</th>\n",
       "      <th>favorite_place_relaxing_comment</th>\n",
       "      <th>favorite_place_reading_comment</th>\n",
       "      <th>favorite_place_relaxing_generated_tokens</th>\n",
       "      <th>enjoy_reading_generated_tokens</th>\n",
       "      <th>enjoy_relaxing_generated_tokens</th>\n",
       "      <th>enjoy_running_generated_tokens</th>\n",
       "      <th>favorite_place_running_generated_tokens</th>\n",
       "      <th>favorite_place_reading_generated_tokens</th>\n",
       "    </tr>\n",
       "  </thead>\n",
       "  <tbody>\n",
       "    <tr>\n",
       "      <th>0</th>\n",
       "      <td>4</td>\n",
       "      <td>2</td>\n",
       "      <td>My favorite place for relaxing is a sun-dapple...</td>\n",
       "      <td>My favorite place for running is a winding for...</td>\n",
       "      <td>My favorite place for reading is a cozy nook b...</td>\n",
       "      <td>4</td>\n",
       "      <td>You are answering questions as if you were a h...</td>\n",
       "      <td>Agent_27</td>\n",
       "      <td>artist</td>\n",
       "      <td>1000.0</td>\n",
       "      <td>...</td>\n",
       "      <td>NaN</td>\n",
       "      <td>Relaxation is essential for creativity. It all...</td>\n",
       "      <td>NaN</td>\n",
       "      <td>NaN</td>\n",
       "      <td>My favorite place for relaxing is a sun-dapple...</td>\n",
       "      <td>4  \\nI find reading to be a great source of in...</td>\n",
       "      <td>4  \\nRelaxation is essential for creativity. I...</td>\n",
       "      <td>2  \\nRunning isn't really my thing; I'd rather...</td>\n",
       "      <td>My favorite place for running is a winding for...</td>\n",
       "      <td>My favorite place for reading is a cozy nook b...</td>\n",
       "    </tr>\n",
       "    <tr>\n",
       "      <th>1</th>\n",
       "      <td>5</td>\n",
       "      <td>5</td>\n",
       "      <td>My favorite place for relaxation is a cozy cor...</td>\n",
       "      <td>My favorite place for running is a scenic trai...</td>\n",
       "      <td>My favorite place for reading is a cozy nook i...</td>\n",
       "      <td>5</td>\n",
       "      <td>You are answering questions as if you were a h...</td>\n",
       "      <td>Agent_28</td>\n",
       "      <td>artist</td>\n",
       "      <td>NaN</td>\n",
       "      <td>...</td>\n",
       "      <td>NaN</td>\n",
       "      <td>I enjoy relaxing very much because it helps me...</td>\n",
       "      <td>NaN</td>\n",
       "      <td>NaN</td>\n",
       "      <td>My favorite place for relaxation is a cozy cor...</td>\n",
       "      <td>5\\n\\nI enjoy reading very much because it allo...</td>\n",
       "      <td>5\\n\\nI enjoy relaxing very much because it hel...</td>\n",
       "      <td>5\\n\\nI enjoy the feeling of accomplishment I g...</td>\n",
       "      <td>My favorite place for running is a scenic trai...</td>\n",
       "      <td>My favorite place for reading is a cozy nook i...</td>\n",
       "    </tr>\n",
       "    <tr>\n",
       "      <th>2</th>\n",
       "      <td>2</td>\n",
       "      <td>1</td>\n",
       "      <td>My favorite place for relaxing is in my garage...</td>\n",
       "      <td>My favorite place for running is a quiet trail...</td>\n",
       "      <td>My favorite place for reading is in my garage,...</td>\n",
       "      <td>3</td>\n",
       "      <td>You are answering questions as if you were a h...</td>\n",
       "      <td>Agent_29</td>\n",
       "      <td>mechanic</td>\n",
       "      <td>1000.0</td>\n",
       "      <td>...</td>\n",
       "      <td>NaN</td>\n",
       "      <td>As a mechanic, I enjoy relaxing after a hard d...</td>\n",
       "      <td>NaN</td>\n",
       "      <td>NaN</td>\n",
       "      <td>My favorite place for relaxing is in my garage...</td>\n",
       "      <td>2  \\nI enjoy reading technical manuals and gui...</td>\n",
       "      <td>3  \\nAs a mechanic, I enjoy relaxing after a h...</td>\n",
       "      <td>1  \\nI'd much rather be under the hood of a ca...</td>\n",
       "      <td>My favorite place for running is a quiet trail...</td>\n",
       "      <td>My favorite place for reading is in my garage,...</td>\n",
       "    </tr>\n",
       "    <tr>\n",
       "      <th>3</th>\n",
       "      <td>5</td>\n",
       "      <td>5</td>\n",
       "      <td>My favorite place for relaxing is a secluded b...</td>\n",
       "      <td>My favorite place for running is a scenic trai...</td>\n",
       "      <td>Nestled amidst cozy cushions and the gentle gl...</td>\n",
       "      <td>5</td>\n",
       "      <td>You are answering questions as if you were a h...</td>\n",
       "      <td>Agent_30</td>\n",
       "      <td>mechanic</td>\n",
       "      <td>NaN</td>\n",
       "      <td>...</td>\n",
       "      <td>NaN</td>\n",
       "      <td>I truly enjoy relaxing because it allows me to...</td>\n",
       "      <td>NaN</td>\n",
       "      <td>NaN</td>\n",
       "      <td>My favorite place for relaxing is a secluded b...</td>\n",
       "      <td>5\\n\\nI enjoy reading because it allows me to e...</td>\n",
       "      <td>5\\n\\nI truly enjoy relaxing because it allows ...</td>\n",
       "      <td>5\\n\\nI love the feeling of accomplishment I ge...</td>\n",
       "      <td>My favorite place for running is a scenic trai...</td>\n",
       "      <td>Nestled amidst cozy cushions and the gentle gl...</td>\n",
       "    </tr>\n",
       "    <tr>\n",
       "      <th>4</th>\n",
       "      <td>3</td>\n",
       "      <td>2</td>\n",
       "      <td>There's nothing quite like the gentle sway of ...</td>\n",
       "      <td>Ah, my favorite place for running is along the...</td>\n",
       "      <td>Ah, my favorite place for reading is out on th...</td>\n",
       "      <td>3</td>\n",
       "      <td>You are answering questions as if you were a h...</td>\n",
       "      <td>Agent_31</td>\n",
       "      <td>sailor</td>\n",
       "      <td>1000.0</td>\n",
       "      <td>...</td>\n",
       "      <td>NaN</td>\n",
       "      <td>As a sailor, I enjoy relaxing when the sea is ...</td>\n",
       "      <td>NaN</td>\n",
       "      <td>NaN</td>\n",
       "      <td>There's nothing quite like the gentle sway of ...</td>\n",
       "      <td>3  \\nReading is a fine way to pass the time wh...</td>\n",
       "      <td>3  \\nAs a sailor, I enjoy relaxing when the se...</td>\n",
       "      <td>2  \\nRunning on land ain't my favorite, but ru...</td>\n",
       "      <td>Ah, my favorite place for running is along the...</td>\n",
       "      <td>Ah, my favorite place for reading is out on th...</td>\n",
       "    </tr>\n",
       "    <tr>\n",
       "      <th>5</th>\n",
       "      <td>5</td>\n",
       "      <td>5</td>\n",
       "      <td>My favorite place for relaxation is a secluded...</td>\n",
       "      <td>My favorite place for running is a scenic trai...</td>\n",
       "      <td>My favorite place for reading is nestled in a ...</td>\n",
       "      <td>5</td>\n",
       "      <td>You are answering questions as if you were a h...</td>\n",
       "      <td>Agent_32</td>\n",
       "      <td>sailor</td>\n",
       "      <td>NaN</td>\n",
       "      <td>...</td>\n",
       "      <td>NaN</td>\n",
       "      <td>I enjoy relaxing very much because it allows m...</td>\n",
       "      <td>NaN</td>\n",
       "      <td>NaN</td>\n",
       "      <td>My favorite place for relaxation is a secluded...</td>\n",
       "      <td>5\\n\\nI enjoy reading very much because it allo...</td>\n",
       "      <td>5\\n\\nI enjoy relaxing very much because it all...</td>\n",
       "      <td>5\\n\\nI love the feeling of accomplishment I ge...</td>\n",
       "      <td>My favorite place for running is a scenic trai...</td>\n",
       "      <td>My favorite place for reading is nestled in a ...</td>\n",
       "    </tr>\n",
       "  </tbody>\n",
       "</table>\n",
       "<p>6 rows × 82 columns</p>\n",
       "</div>"
      ],
      "text/plain": [
       "   enjoy_reading  enjoy_running  \\\n",
       "0              4              2   \n",
       "1              5              5   \n",
       "2              2              1   \n",
       "3              5              5   \n",
       "4              3              2   \n",
       "5              5              5   \n",
       "\n",
       "                             favorite_place_relaxing  \\\n",
       "0  My favorite place for relaxing is a sun-dapple...   \n",
       "1  My favorite place for relaxation is a cozy cor...   \n",
       "2  My favorite place for relaxing is in my garage...   \n",
       "3  My favorite place for relaxing is a secluded b...   \n",
       "4  There's nothing quite like the gentle sway of ...   \n",
       "5  My favorite place for relaxation is a secluded...   \n",
       "\n",
       "                              favorite_place_running  \\\n",
       "0  My favorite place for running is a winding for...   \n",
       "1  My favorite place for running is a scenic trai...   \n",
       "2  My favorite place for running is a quiet trail...   \n",
       "3  My favorite place for running is a scenic trai...   \n",
       "4  Ah, my favorite place for running is along the...   \n",
       "5  My favorite place for running is a scenic trai...   \n",
       "\n",
       "                              favorite_place_reading  enjoy_relaxing  \\\n",
       "0  My favorite place for reading is a cozy nook b...               4   \n",
       "1  My favorite place for reading is a cozy nook i...               5   \n",
       "2  My favorite place for reading is in my garage,...               3   \n",
       "3  Nestled amidst cozy cushions and the gentle gl...               5   \n",
       "4  Ah, my favorite place for reading is out on th...               3   \n",
       "5  My favorite place for reading is nestled in a ...               5   \n",
       "\n",
       "                                   agent_instruction agent_name   persona  \\\n",
       "0  You are answering questions as if you were a h...   Agent_27    artist   \n",
       "1  You are answering questions as if you were a h...   Agent_28    artist   \n",
       "2  You are answering questions as if you were a h...   Agent_29  mechanic   \n",
       "3  You are answering questions as if you were a h...   Agent_30  mechanic   \n",
       "4  You are answering questions as if you were a h...   Agent_31    sailor   \n",
       "5  You are answering questions as if you were a h...   Agent_32    sailor   \n",
       "\n",
       "   max_tokens  ...  favorite_place_running_comment  \\\n",
       "0      1000.0  ...                             NaN   \n",
       "1         NaN  ...                             NaN   \n",
       "2      1000.0  ...                             NaN   \n",
       "3         NaN  ...                             NaN   \n",
       "4      1000.0  ...                             NaN   \n",
       "5         NaN  ...                             NaN   \n",
       "\n",
       "                              enjoy_relaxing_comment  \\\n",
       "0  Relaxation is essential for creativity. It all...   \n",
       "1  I enjoy relaxing very much because it helps me...   \n",
       "2  As a mechanic, I enjoy relaxing after a hard d...   \n",
       "3  I truly enjoy relaxing because it allows me to...   \n",
       "4  As a sailor, I enjoy relaxing when the sea is ...   \n",
       "5  I enjoy relaxing very much because it allows m...   \n",
       "\n",
       "   favorite_place_relaxing_comment favorite_place_reading_comment  \\\n",
       "0                              NaN                            NaN   \n",
       "1                              NaN                            NaN   \n",
       "2                              NaN                            NaN   \n",
       "3                              NaN                            NaN   \n",
       "4                              NaN                            NaN   \n",
       "5                              NaN                            NaN   \n",
       "\n",
       "            favorite_place_relaxing_generated_tokens  \\\n",
       "0  My favorite place for relaxing is a sun-dapple...   \n",
       "1  My favorite place for relaxation is a cozy cor...   \n",
       "2  My favorite place for relaxing is in my garage...   \n",
       "3  My favorite place for relaxing is a secluded b...   \n",
       "4  There's nothing quite like the gentle sway of ...   \n",
       "5  My favorite place for relaxation is a secluded...   \n",
       "\n",
       "                      enjoy_reading_generated_tokens  \\\n",
       "0  4  \\nI find reading to be a great source of in...   \n",
       "1  5\\n\\nI enjoy reading very much because it allo...   \n",
       "2  2  \\nI enjoy reading technical manuals and gui...   \n",
       "3  5\\n\\nI enjoy reading because it allows me to e...   \n",
       "4  3  \\nReading is a fine way to pass the time wh...   \n",
       "5  5\\n\\nI enjoy reading very much because it allo...   \n",
       "\n",
       "                     enjoy_relaxing_generated_tokens  \\\n",
       "0  4  \\nRelaxation is essential for creativity. I...   \n",
       "1  5\\n\\nI enjoy relaxing very much because it hel...   \n",
       "2  3  \\nAs a mechanic, I enjoy relaxing after a h...   \n",
       "3  5\\n\\nI truly enjoy relaxing because it allows ...   \n",
       "4  3  \\nAs a sailor, I enjoy relaxing when the se...   \n",
       "5  5\\n\\nI enjoy relaxing very much because it all...   \n",
       "\n",
       "                      enjoy_running_generated_tokens  \\\n",
       "0  2  \\nRunning isn't really my thing; I'd rather...   \n",
       "1  5\\n\\nI enjoy the feeling of accomplishment I g...   \n",
       "2  1  \\nI'd much rather be under the hood of a ca...   \n",
       "3  5\\n\\nI love the feeling of accomplishment I ge...   \n",
       "4  2  \\nRunning on land ain't my favorite, but ru...   \n",
       "5  5\\n\\nI love the feeling of accomplishment I ge...   \n",
       "\n",
       "             favorite_place_running_generated_tokens  \\\n",
       "0  My favorite place for running is a winding for...   \n",
       "1  My favorite place for running is a scenic trai...   \n",
       "2  My favorite place for running is a quiet trail...   \n",
       "3  My favorite place for running is a scenic trai...   \n",
       "4  Ah, my favorite place for running is along the...   \n",
       "5  My favorite place for running is a scenic trai...   \n",
       "\n",
       "             favorite_place_reading_generated_tokens  \n",
       "0  My favorite place for reading is a cozy nook b...  \n",
       "1  My favorite place for reading is a cozy nook i...  \n",
       "2  My favorite place for reading is in my garage,...  \n",
       "3  Nestled amidst cozy cushions and the gentle gl...  \n",
       "4  Ah, my favorite place for reading is out on th...  \n",
       "5  My favorite place for reading is nestled in a ...  \n",
       "\n",
       "[6 rows x 82 columns]"
      ]
     },
     "execution_count": 30,
     "metadata": {},
     "output_type": "execute_result"
    }
   ],
   "source": [
    "df = results.to_pandas(remove_prefix=True)\n",
    "df"
   ]
  },
  {
   "cell_type": "markdown",
   "id": "5e783239-1b4c-44d2-8f1f-ef56a62bd25c",
   "metadata": {
    "editable": true,
    "slideshow": {
     "slide_type": ""
    },
    "tags": []
   },
   "source": [
    "The `Results` object also supports SQL-like queries with the the `sql` method:"
   ]
  },
  {
   "cell_type": "code",
   "execution_count": 31,
   "id": "8bdca6c4-0ef6-4daa-ae4f-8b9bdd4a9043",
   "metadata": {
    "editable": true,
    "slideshow": {
     "slide_type": ""
    },
    "tags": []
   },
   "outputs": [
    {
     "data": {
      "text/html": [
       "<div>\n",
       "<style scoped>\n",
       "    .dataframe tbody tr th:only-of-type {\n",
       "        vertical-align: middle;\n",
       "    }\n",
       "\n",
       "    .dataframe tbody tr th {\n",
       "        vertical-align: top;\n",
       "    }\n",
       "\n",
       "    .dataframe thead th {\n",
       "        text-align: right;\n",
       "    }\n",
       "</style>\n",
       "<table border=\"1\" class=\"dataframe\">\n",
       "  <thead>\n",
       "    <tr style=\"text-align: right;\">\n",
       "      <th></th>\n",
       "      <th>model</th>\n",
       "      <th>persona</th>\n",
       "      <th>enjoy_reading</th>\n",
       "      <th>favorite_place_reading</th>\n",
       "    </tr>\n",
       "  </thead>\n",
       "  <tbody>\n",
       "    <tr>\n",
       "      <th>0</th>\n",
       "      <td>gemini-pro</td>\n",
       "      <td>artist</td>\n",
       "      <td>5</td>\n",
       "      <td>My favorite place for reading is a cozy nook i...</td>\n",
       "    </tr>\n",
       "    <tr>\n",
       "      <th>1</th>\n",
       "      <td>gemini-pro</td>\n",
       "      <td>mechanic</td>\n",
       "      <td>5</td>\n",
       "      <td>Nestled amidst cozy cushions and the gentle gl...</td>\n",
       "    </tr>\n",
       "    <tr>\n",
       "      <th>2</th>\n",
       "      <td>gemini-pro</td>\n",
       "      <td>sailor</td>\n",
       "      <td>5</td>\n",
       "      <td>My favorite place for reading is nestled in a ...</td>\n",
       "    </tr>\n",
       "    <tr>\n",
       "      <th>3</th>\n",
       "      <td>gpt-4o</td>\n",
       "      <td>artist</td>\n",
       "      <td>4</td>\n",
       "      <td>My favorite place for reading is a cozy nook b...</td>\n",
       "    </tr>\n",
       "    <tr>\n",
       "      <th>4</th>\n",
       "      <td>gpt-4o</td>\n",
       "      <td>mechanic</td>\n",
       "      <td>2</td>\n",
       "      <td>My favorite place for reading is in my garage,...</td>\n",
       "    </tr>\n",
       "    <tr>\n",
       "      <th>5</th>\n",
       "      <td>gpt-4o</td>\n",
       "      <td>sailor</td>\n",
       "      <td>3</td>\n",
       "      <td>Ah, my favorite place for reading is out on th...</td>\n",
       "    </tr>\n",
       "  </tbody>\n",
       "</table>\n",
       "</div>"
      ],
      "text/plain": [
       "        model   persona  enjoy_reading  \\\n",
       "0  gemini-pro    artist              5   \n",
       "1  gemini-pro  mechanic              5   \n",
       "2  gemini-pro    sailor              5   \n",
       "3      gpt-4o    artist              4   \n",
       "4      gpt-4o  mechanic              2   \n",
       "5      gpt-4o    sailor              3   \n",
       "\n",
       "                              favorite_place_reading  \n",
       "0  My favorite place for reading is a cozy nook i...  \n",
       "1  Nestled amidst cozy cushions and the gentle gl...  \n",
       "2  My favorite place for reading is nestled in a ...  \n",
       "3  My favorite place for reading is a cozy nook b...  \n",
       "4  My favorite place for reading is in my garage,...  \n",
       "5  Ah, my favorite place for reading is out on th...  "
      ]
     },
     "execution_count": 31,
     "metadata": {},
     "output_type": "execute_result"
    }
   ],
   "source": [
    "results.sql(\"\"\"\n",
    "select model, persona, enjoy_reading, favorite_place_reading\n",
    "from self\n",
    "order by 1,2,3\n",
    "\"\"\", shape=\"wide\")"
   ]
  },
  {
   "cell_type": "markdown",
   "id": "e526c294-d9f9-43a1-bc9a-16c635c5f2df",
   "metadata": {
    "editable": true,
    "slideshow": {
     "slide_type": ""
    },
    "tags": []
   },
   "source": [
    "## Posting to the Coop\n",
    "The [Coop](https://www.expectedparrot.com/content/explore) is a platform for creating, storing and sharing LLM-based research.\n",
    "It is fully integrated with EDSL and accessible from your workspace or Coop account page.\n",
    "Learn more about [creating an account](https://www.expectedparrot.com/login) and [using the Coop](https://docs.expectedparrot.com/en/latest/coop.html).\n",
    "\n",
    "We can post any EDSL object to the Coop by call the `push` method on it, optionally passing a `description` and `visibility` status:"
   ]
  },
  {
   "cell_type": "code",
   "execution_count": 32,
   "id": "a6f9233b-5ddc-4850-8ec9-6dd2d6647ecc",
   "metadata": {
    "editable": true,
    "slideshow": {
     "slide_type": ""
    },
    "tags": [
     "skip-execution"
    ]
   },
   "outputs": [
    {
     "data": {
      "text/plain": [
       "{'description': 'Starter tutorial sample survey results',\n",
       " 'object_type': 'results',\n",
       " 'url': 'https://www.expectedparrot.com/content/4ec94be1-2a1a-42bb-a463-9f171341ac30',\n",
       " 'uuid': '4ec94be1-2a1a-42bb-a463-9f171341ac30',\n",
       " 'version': '0.1.38.dev1',\n",
       " 'visibility': 'public'}"
      ]
     },
     "execution_count": 32,
     "metadata": {},
     "output_type": "execute_result"
    }
   ],
   "source": [
    "results.push(description = \"Starter tutorial sample survey results\", visibility=\"public\")"
   ]
  },
  {
   "cell_type": "markdown",
   "id": "f8002060-2836-4fdd-bfa4-9d011fd84de8",
   "metadata": {
    "editable": true,
    "slideshow": {
     "slide_type": ""
    },
    "tags": []
   },
   "source": [
    "We can also post this notebook:"
   ]
  },
  {
   "cell_type": "code",
   "execution_count": 33,
   "id": "257c7a6e-a7e8-4b15-9936-afa18c623b21",
   "metadata": {
    "editable": true,
    "slideshow": {
     "slide_type": ""
    },
    "tags": [
     "skip-execution"
    ]
   },
   "outputs": [
    {
     "data": {
      "text/plain": [
       "{'description': 'Starter Tutorial',\n",
       " 'object_type': 'notebook',\n",
       " 'url': 'https://www.expectedparrot.com/content/10cf9d12-4077-4b5c-b0d7-1de3350d9905',\n",
       " 'uuid': '10cf9d12-4077-4b5c-b0d7-1de3350d9905',\n",
       " 'version': '0.1.38.dev1',\n",
       " 'visibility': 'public'}"
      ]
     },
     "execution_count": 33,
     "metadata": {},
     "output_type": "execute_result"
    }
   ],
   "source": [
    "from edsl import Notebook\n",
    "\n",
    "notebook = Notebook(path=\"starter_tutorial.ipynb\")\n",
    "\n",
    "n = notebook.push(description=\"Starter Tutorial\", visibility=\"public\")\n",
    "n"
   ]
  },
  {
   "cell_type": "markdown",
   "id": "67e90364-e9f3-483d-b301-4ab5178dd151",
   "metadata": {},
   "source": [
    "To update an object:"
   ]
  },
  {
   "cell_type": "code",
   "execution_count": 34,
   "id": "feb20537-4eee-4413-8e75-b807bae56e10",
   "metadata": {},
   "outputs": [
    {
     "data": {
      "text/plain": [
       "'10cf9d12-4077-4b5c-b0d7-1de3350d9905'"
      ]
     },
     "execution_count": 34,
     "metadata": {},
     "output_type": "execute_result"
    }
   ],
   "source": [
    "uuid = n[\"uuid\"]\n",
    "uuid"
   ]
  },
  {
   "cell_type": "code",
   "execution_count": 35,
   "id": "ec894b67-3433-4912-9060-56993a2549d1",
   "metadata": {
    "editable": true,
    "slideshow": {
     "slide_type": ""
    },
    "tags": [
     "skip-execution"
    ]
   },
   "outputs": [
    {
     "data": {
      "text/plain": [
       "{'status': 'success'}"
      ]
     },
     "execution_count": 35,
     "metadata": {},
     "output_type": "execute_result"
    }
   ],
   "source": [
    "notebook = Notebook(path=\"starter_tutorial.ipynb\") # resave\n",
    "\n",
    "notebook.patch(uuid = uuid, value = notebook)"
   ]
  }
 ],
 "metadata": {
  "kernelspec": {
   "display_name": "Python 3 (ipykernel)",
   "language": "python",
   "name": "python3"
  },
  "language_info": {
   "codemirror_mode": {
    "name": "ipython",
    "version": 3
   },
   "file_extension": ".py",
   "mimetype": "text/x-python",
   "name": "python",
   "nbconvert_exporter": "python",
   "pygments_lexer": "ipython3",
   "version": "3.11.7"
  }
 },
 "nbformat": 4,
 "nbformat_minor": 5
}
