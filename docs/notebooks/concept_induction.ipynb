{
 "cells": [
  {
   "cell_type": "markdown",
   "id": "e267b645-5929-4b8b-bb94-2f15228efc77",
   "metadata": {
    "editable": true,
    "slideshow": {
     "slide_type": ""
    },
    "tags": []
   },
   "source": [
    "# Concept induction\n",
    "This notebook offers sample [EDSL](https://docs.expectedparrot.com) code for using language models to identify concepts in unstructured texts, then generate criteria for the concepts, and then apply the criteria to evaluate the texts.\n",
    "\n",
    "This idea is inspired by the recent paper: [Concept Induction: Analyzing Unstructured Text with High-Level Concepts Using LLooM](https://hci.stanford.edu/publications/2024/Lam_LLooM_CHI24.pdf)\n",
    "\n",
    "## Technical setup\n",
    "Before running the code below, please ensure that you have [installed the EDSL library](https://docs.expectedparrot.com/en/latest/installation.html) and either [activated remote inference](https://docs.expectedparrot.com/en/latest/remote_inference.html) from your [Coop account](https://docs.expectedparrot.com/en/latest/coop.html) or [stored API keys](https://docs.expectedparrot.com/en/latest/api_keys.html) for the language models that you want to use with EDSL. Please also see our [documentation page](https://docs.expectedparrot.com/) for tips and tutorials on getting started using EDSL."
   ]
  },
  {
   "cell_type": "markdown",
   "id": "d1f85f22-297e-4e61-ada4-c28e3ffceffd",
   "metadata": {
    "editable": true,
    "slideshow": {
     "slide_type": ""
    },
    "tags": []
   },
   "source": [
    "## Identify concepts\n",
    "We start by creating a general question prompting the respondent (a language model) to identify concepts in a given text.\n",
    "\n",
    "EDSL comes with a variety of [question types](https://docs.expectedparrot.com/en/latest/questions.html) that we can choose from based on the form of the response that we want to get back from the model. `QuestionList` may be appropriate where we want the response to be formatted as a list of strings:"
   ]
  },
  {
   "cell_type": "code",
   "execution_count": 1,
   "id": "cd9d6fb3-a438-4612-ad64-eec8ddd8781e",
   "metadata": {
    "editable": true,
    "slideshow": {
     "slide_type": ""
    },
    "tags": []
   },
   "outputs": [],
   "source": [
    "from edsl import QuestionList\n",
    "\n",
    "q_concepts = QuestionList(\n",
    "    question_name=\"concepts\",\n",
    "    question_text=\"Identify the key concepts in the following text: {{ text }}\",\n",
    "    # max_list_items = # Optional\n",
    ")"
   ]
  },
  {
   "cell_type": "markdown",
   "id": "a1765671-99fb-4968-96da-bf7fd7dae52d",
   "metadata": {
    "editable": true,
    "slideshow": {
     "slide_type": ""
    },
    "tags": []
   },
   "source": [
    "We might also want to ask some other questions about our data at the same time (a data labeling task). For example:"
   ]
  },
  {
   "cell_type": "code",
   "execution_count": 2,
   "id": "42c8112e-3461-421b-b506-3221895a4079",
   "metadata": {
    "editable": true,
    "slideshow": {
     "slide_type": ""
    },
    "tags": []
   },
   "outputs": [],
   "source": [
    "from edsl import QuestionMultipleChoice\n",
    "\n",
    "q_sentiment = QuestionMultipleChoice(\n",
    "    question_name=\"sentiment\",\n",
    "    question_text=\"Identify the sentiment of this text: {{ text }}\",\n",
    "    question_options=[\"Negative\", \"Neutral\", \"Positive\"],\n",
    ")"
   ]
  },
  {
   "cell_type": "markdown",
   "id": "2bb43199-b610-46ab-b2eb-beb465ce2862",
   "metadata": {
    "editable": true,
    "slideshow": {
     "slide_type": ""
    },
    "tags": []
   },
   "source": [
    "We parameterize the questions in order to run them for each of our texts. This is done with `Scenario` objects that we create for our data (here, some recent tweets by Pres. Biden):"
   ]
  },
  {
   "cell_type": "code",
   "execution_count": 3,
   "id": "3ccd07bc-b658-434f-9689-2d08396c1080",
   "metadata": {
    "editable": true,
    "slideshow": {
     "slide_type": ""
    },
    "tags": []
   },
   "outputs": [
    {
     "data": {
      "text/plain": [
       "10"
      ]
     },
     "execution_count": 3,
     "metadata": {},
     "output_type": "execute_result"
    }
   ],
   "source": [
    "# Replace with your data\n",
    "texts = [  # POTUS recent tweets\n",
    "    \"Tune in as I deliver the keynote address at the U.S. Holocaust Memorial Museum’s Annual Days of Remembrance ceremony in Washington, D.C.\",\n",
    "    \"We’re a nation of immigrants. A nation of dreamers. And as Cinco de Mayo represents, a nation of freedom.\",\n",
    "    \"Medicare is stronger and Social Security remains strong. My economic plan has helped extend Medicare solvency by a decade. And I am committed to extending Social Security solvency by making the rich pay their fair share.\",\n",
    "    \"Today, the Army Black Knights are taking home West Point’s 10th Commander-in-Chief Trophy. They should be proud. I’m proud of them too – not for the wins, but because after every game they hang up their uniforms and put on another: one representing the United States.\",\n",
    "    \"This Holocaust Remembrance Day, we mourn the six million Jews who were killed by the Nazis during one of the darkest chapters in human history. And we recommit to heeding the lessons of the Shoah and realizing the responsibility of 'Never Again.'\",\n",
    "    \"The recipients of the Presidential Medal of Freedom haven't just kept faith in freedom. They kept all of America's faith in a better tomorrow.\",\n",
    "    \"Like Jill says, 'Teaching isn’t just a job. It’s a calling.' She knows that in her bones, and I know every educator who joined us at the White House for the first-ever Teacher State Dinner lives out that truth every day.\",\n",
    "    \"Jill and I send warm wishes to Orthodox Christian communities around the world as they celebrate Easter. May the Lord bless and keep you this Easter Sunday and in the year ahead.\",\n",
    "    \"Dreamers are our loved ones, nurses, teachers, and small business owners – they deserve the promise of health care just like all of us. Today, my Administration is making that real by expanding affordable health coverage through the Affordable Care Act to DACA recipients.\",\n",
    "    \"With today’s report of 175,000 new jobs, the American comeback continues. Congressional Republicans are fighting to cut taxes for billionaires and let special interests rip folks off, I'm focused on job creation and building an economy that works for the families I grew up with.\",\n",
    "]\n",
    "len(texts)"
   ]
  },
  {
   "cell_type": "code",
   "execution_count": 4,
   "id": "92e1ee90-8f1e-41eb-a3aa-3487ec8360e4",
   "metadata": {
    "editable": true,
    "slideshow": {
     "slide_type": ""
    },
    "tags": []
   },
   "outputs": [
    {
     "data": {
      "text/html": [
       "<p><a href='https://docs.expectedparrot.com/en/latest/scenarios.html#scenariolist'>ScenarioList</a> scenarios: 10; keys: ['text'];</p>\n",
       "        <style>\n",
       "            :root {\n",
       "  --containerHeight: 350px;\n",
       "  --headerColor: blue;\n",
       "}\n",
       "\n",
       ".table-container {\n",
       "    height: var(--containerHeight) !important;\n",
       "    width: 100%;\n",
       "    overflow: auto;  /* This enables both horizontal and vertical scrolling */\n",
       "    border: 1px solid #d4d4d4;\n",
       "    background: transparent;\n",
       "    position: relative;  /* Create stacking context for sticky header */\n",
       "}\n",
       "\n",
       ".scroll-table {\n",
       "    /* Remove width: 100% to prevent table from being constrained */\n",
       "    /* min-width: 100% ensures table takes at least full container width */\n",
       "    min-width: 100%;\n",
       "    border-collapse: separate;\n",
       "    border-spacing: 4px;\n",
       "    background: transparent;\n",
       "    table-layout: auto;  /* Allow table to size based on content */\n",
       "}\n",
       "\n",
       ".scroll-table th {\n",
       "    background: transparent;  /* Semi-transparent background to ensure text readability */\n",
       "    position: sticky;\n",
       "    top: 0;\n",
       "    z-index: 1;\n",
       "    text-align: left !important;\n",
       "    padding: 8px;\n",
       "    font-weight: bold;\n",
       "    white-space: nowrap;  /* Prevent header text from wrapping */\n",
       "    min-width: 100px;    /* Ensure minimum column width */\n",
       "    backdrop-filter: blur(8px);  /* Optional: adds extra clarity */\n",
       "    color: var(--headerColor);\n",
       "}\n",
       "\n",
       ".scroll-table td {\n",
       "    padding: 8px;\n",
       "    text-align: left !important;\n",
       "    white-space: pre-wrap;\n",
       "    word-wrap: break-word;\n",
       "    vertical-align: top;\n",
       "    color: inherit;\n",
       "    border-bottom: none;\n",
       "    background: transparent;\n",
       "    min-width: 100px;    /* Match header minimum width */\n",
       "}\n",
       "\n",
       ".scroll-table tbody tr:hover {\n",
       "    background: transparent;\n",
       "}\n",
       "\n",
       "/* Additional rule to ensure header background is truly transparent */\n",
       ".scroll-table thead tr {\n",
       "    background: transparent !important;\n",
       "}\n",
       "\n",
       "/* Add shadow to indicate scrollable content */\n",
       ".table-container::after {\n",
       "    content: '';\n",
       "    position: absolute;\n",
       "    top: 0;\n",
       "    right: 0;\n",
       "    bottom: 0;\n",
       "    width: 5px;\n",
       "    background: linear-gradient(to right, transparent, rgba(242, 6, 6, 0.1));\n",
       "    pointer-events: none;\n",
       "    opacity: 0;\n",
       "    transition: opacity 0.3s;\n",
       "}\n",
       "\n",
       ".table-container:hover::after {\n",
       "    opacity: 1;\n",
       "}\n",
       "\n",
       "/* Handle Jupyter notebook specific styling */\n",
       ".jp-OutputArea-output .table-container {\n",
       "    max-width: 100%;\n",
       "    margin: 0;\n",
       "    overflow-x: auto;\n",
       "}\n",
       "        </style>\n",
       "        <div class=\"table-container\">\n",
       "            <div class=\"scroll-table-wrapper\">\n",
       "                <table class=\"scroll-table\">\n",
       "<thead>\n",
       "<tr><th>text                                                                                                                                                                                                                                                                                   </th></tr>\n",
       "</thead>\n",
       "<tbody>\n",
       "<tr><td>Tune in as I deliver the keynote address at the U.S. Holocaust Memorial Museum’s Annual Days of Remembrance ceremony in Washington, D.C.                                                                                                                                               </td></tr>\n",
       "<tr><td>We’re a nation of immigrants. A nation of dreamers. And as Cinco de Mayo represents, a nation of freedom.                                                                                                                                                                              </td></tr>\n",
       "<tr><td>Medicare is stronger and Social Security remains strong. My economic plan has helped extend Medicare solvency by a decade. And I am committed to extending Social Security solvency by making the rich pay their fair share.                                                           </td></tr>\n",
       "<tr><td>Today, the Army Black Knights are taking home West Point’s 10th Commander-in-Chief Trophy. They should be proud. I’m proud of them too – not for the wins, but because after every game they hang up their uniforms and put on another: one representing the United States.            </td></tr>\n",
       "<tr><td>This Holocaust Remembrance Day, we mourn the six million Jews who were killed by the Nazis during one of the darkest chapters in human history. And we recommit to heeding the lessons of the Shoah and realizing the responsibility of &#x27;Never Again.&#x27;                                 </td></tr>\n",
       "<tr><td>The recipients of the Presidential Medal of Freedom haven&#x27;t just kept faith in freedom. They kept all of America&#x27;s faith in a better tomorrow.                                                                                                                                         </td></tr>\n",
       "<tr><td>Like Jill says, &#x27;Teaching isn’t just a job. It’s a calling.&#x27; She knows that in her bones, and I know every educator who joined us at the White House for the first-ever Teacher State Dinner lives out that truth every day.                                                           </td></tr>\n",
       "<tr><td>Jill and I send warm wishes to Orthodox Christian communities around the world as they celebrate Easter. May the Lord bless and keep you this Easter Sunday and in the year ahead.                                                                                                     </td></tr>\n",
       "<tr><td>Dreamers are our loved ones, nurses, teachers, and small business owners – they deserve the promise of health care just like all of us. Today, my Administration is making that real by expanding affordable health coverage through the Affordable Care Act to DACA recipients.       </td></tr>\n",
       "<tr><td>With today’s report of 175,000 new jobs, the American comeback continues. Congressional Republicans are fighting to cut taxes for billionaires and let special interests rip folks off, I&#x27;m focused on job creation and building an economy that works for the families I grew up with.</td></tr>\n",
       "</tbody>\n",
       "</table>\n",
       "            </div>\n",
       "        </div>\n",
       "        "
      ],
      "text/plain": [
       "ScenarioList([Scenario({'text': 'Tune in as I deliver the keynote address at the U.S. Holocaust Memorial Museum’s Annual Days of Remembrance ceremony in Washington, D.C.'}), Scenario({'text': 'We’re a nation of immigrants. A nation of dreamers. And as Cinco de Mayo represents, a nation of freedom.'}), Scenario({'text': 'Medicare is stronger and Social Security remains strong. My economic plan has helped extend Medicare solvency by a decade. And I am committed to extending Social Security solvency by making the rich pay their fair share.'}), Scenario({'text': 'Today, the Army Black Knights are taking home West Point’s 10th Commander-in-Chief Trophy. They should be proud. I’m proud of them too – not for the wins, but because after every game they hang up their uniforms and put on another: one representing the United States.'}), Scenario({'text': \"This Holocaust Remembrance Day, we mourn the six million Jews who were killed by the Nazis during one of the darkest chapters in human history. And we recommit to heeding the lessons of the Shoah and realizing the responsibility of 'Never Again.'\"}), Scenario({'text': \"The recipients of the Presidential Medal of Freedom haven't just kept faith in freedom. They kept all of America's faith in a better tomorrow.\"}), Scenario({'text': \"Like Jill says, 'Teaching isn’t just a job. It’s a calling.' She knows that in her bones, and I know every educator who joined us at the White House for the first-ever Teacher State Dinner lives out that truth every day.\"}), Scenario({'text': 'Jill and I send warm wishes to Orthodox Christian communities around the world as they celebrate Easter. May the Lord bless and keep you this Easter Sunday and in the year ahead.'}), Scenario({'text': 'Dreamers are our loved ones, nurses, teachers, and small business owners – they deserve the promise of health care just like all of us. Today, my Administration is making that real by expanding affordable health coverage through the Affordable Care Act to DACA recipients.'}), Scenario({'text': \"With today’s report of 175,000 new jobs, the American comeback continues. Congressional Republicans are fighting to cut taxes for billionaires and let special interests rip folks off, I'm focused on job creation and building an economy that works for the families I grew up with.\"})])"
      ]
     },
     "execution_count": 4,
     "metadata": {},
     "output_type": "execute_result"
    }
   ],
   "source": [
    "from edsl import ScenarioList\n",
    "\n",
    "scenarios = ScenarioList.from_list(\"text\", texts)\n",
    "scenarios"
   ]
  },
  {
   "cell_type": "markdown",
   "id": "054c28bf-d4b9-45bd-8a74-090f78a0e8a6",
   "metadata": {
    "editable": true,
    "slideshow": {
     "slide_type": ""
    },
    "tags": []
   },
   "source": [
    "Next we combine the questions into a survey in order to administer them together (asynchronously by default, or according to any skip/stop rules or other logic that we want to add--learn more about `Survey` methods in our [documentation](https://docs.expectedparrot.com/en/latest/surveys.html)):"
   ]
  },
  {
   "cell_type": "code",
   "execution_count": 5,
   "id": "98df3e57-e0bb-4612-9f00-4d9b63a28c43",
   "metadata": {
    "editable": true,
    "slideshow": {
     "slide_type": ""
    },
    "tags": []
   },
   "outputs": [],
   "source": [
    "from edsl import Survey\n",
    "\n",
    "survey = Survey(questions=[q_concepts, q_sentiment])"
   ]
  },
  {
   "cell_type": "markdown",
   "id": "dcd603f0-1bc2-4e71-a23b-e5b45d7ba4e2",
   "metadata": {
    "editable": true,
    "slideshow": {
     "slide_type": ""
    },
    "tags": []
   },
   "source": [
    "We add the scenarios to the survey and then run it to generate a dataset of results:"
   ]
  },
  {
   "cell_type": "code",
   "execution_count": 6,
   "id": "8a5eaf93-f0eb-46a4-8cd1-f5afa8f7f335",
   "metadata": {
    "editable": true,
    "slideshow": {
     "slide_type": ""
    },
    "tags": []
   },
   "outputs": [
    {
     "data": {
      "text/html": [
       "\n",
       "            <div style=\"border: 1px solid #ccc; margin: 10px 0; max-width: 800px;\">\n",
       "                <div onclick=\"document.getElementById('content-49634582-ee29-484f-8d2a-60ea7d8cb83a').style.display = document.getElementById('content-49634582-ee29-484f-8d2a-60ea7d8cb83a').style.display === 'none' ? 'block' : 'none';\n",
       "                             document.getElementById('arrow-49634582-ee29-484f-8d2a-60ea7d8cb83a').innerHTML = document.getElementById('content-49634582-ee29-484f-8d2a-60ea7d8cb83a').style.display === 'none' ? '▶' : '▼';\"\n",
       "                     style=\"padding: 10px; background: #f5f5f5; cursor: pointer;\">\n",
       "                    <span id=\"arrow-49634582-ee29-484f-8d2a-60ea7d8cb83a\">▼</span> Remote Job Log (2024-12-14 10:17:42)\n",
       "                </div>\n",
       "                <div id=\"content-49634582-ee29-484f-8d2a-60ea7d8cb83a\" style=\"padding: 10px; display: block;\">\n",
       "                    <div style=\"border-left: 3px solid #3b82f6; padding: 5px 10px; margin: 5px 0;\">Remote inference activated. Sending job to server...</div>\n",
       "<div style=\"border-left: 3px solid #3b82f6; padding: 5px 10px; margin: 5px 0;\">Your survey is running at the Expected Parrot server...</div>\n",
       "<div style=\"border-left: 3px solid #3b82f6; padding: 5px 10px; margin: 5px 0;\">Job sent to server. (Job uuid=4ffe3597-09b1-4fdc-92fb-d64a8da65f8c).</div>\n",
       "<div style=\"border-left: 3px solid #3b82f6; padding: 5px 10px; margin: 5px 0;\">Job details are available at your Coop account <a href=\"https://www.expectedparrot.com/home/remote-inferencehttps://www.expectedparrot.com/home/remote-inference\" target=\"_blank\" style=\"color: #3b82f6; text-decoration: underline;\">https://www.expectedparrot.com/home/remote-inferencehttps://www.expectedparrot.com/home/remote-inference</a></div>\n",
       "<div style=\"border-left: 3px solid #3b82f6; padding: 5px 10px; margin: 5px 0;\">View job progress here: <a href=\"https://www.expectedparrot.com/home/remote-job-progress/4ffe3597-09b1-4fdc-92fb-d64a8da65f8c\" target=\"_blank\" style=\"color: #3b82f6; text-decoration: underline;\">https://www.expectedparrot.com/home/remote-job-progress/4ffe3597-09b1-4fdc-92fb-d64a8da65f8c</a></div>\n",
       "<div style=\"border-left: 3px solid #3b82f6; padding: 5px 10px; margin: 5px 0;\">Job status: queued - last update: 2024-12-14 10:17:25 AM</div>\n",
       "<div style=\"border-left: 3px solid #3b82f6; padding: 5px 10px; margin: 5px 0;\">Job status: running - last update: 2024-12-14 10:17:28 AM</div>\n",
       "<div style=\"border-left: 3px solid #3b82f6; padding: 5px 10px; margin: 5px 0;\">Job status: running - last update: 2024-12-14 10:17:32 AM</div>\n",
       "<div style=\"border-left: 3px solid #3b82f6; padding: 5px 10px; margin: 5px 0;\">Job status: running - last update: 2024-12-14 10:17:35 AM</div>\n",
       "<div style=\"border-left: 3px solid #3b82f6; padding: 5px 10px; margin: 5px 0;\">Job status: running - last update: 2024-12-14 10:17:38 AM</div>\n",
       "<div style=\"border-left: 3px solid #22c55e; padding: 5px 10px; margin: 5px 0;\">Job completed and Results stored on Coop: <a href=\"https://www.expectedparrot.com/content/4a5a35a1-987b-4958-a230-1eeffa2e4244\" target=\"_blank\" style=\"color: #3b82f6; text-decoration: underline;\">https://www.expectedparrot.com/content/4a5a35a1-987b-4958-a230-1eeffa2e4244</a></div>\n",
       "                </div>\n",
       "            </div>\n",
       "        "
      ],
      "text/plain": [
       "<IPython.core.display.HTML object>"
      ]
     },
     "metadata": {},
     "output_type": "display_data"
    }
   ],
   "source": [
    "results = survey.by(scenarios).run()"
   ]
  },
  {
   "cell_type": "markdown",
   "id": "e294ff21-7271-4657-bae3-b5a1c108f000",
   "metadata": {
    "editable": true,
    "slideshow": {
     "slide_type": ""
    },
    "tags": []
   },
   "source": [
    "EDSL comes with [built-in methods](https://docs.expectedparrot.com/en/latest/results.html) for working with results</a> in a variety of forms (data tables, SQL queries, dataframes, JSON, CSV). We can call the `columns` method to see a list of all the components that we can analyze:"
   ]
  },
  {
   "cell_type": "code",
   "execution_count": 7,
   "id": "e441d2a9-1886-43c2-9da9-486888e69dd1",
   "metadata": {
    "editable": true,
    "slideshow": {
     "slide_type": ""
    },
    "tags": []
   },
   "outputs": [
    {
     "data": {
      "text/html": [
       "\n",
       "        <style>\n",
       "            :root {\n",
       "  --containerHeight: 400px;\n",
       "  --headerColor: blue;\n",
       "}\n",
       "\n",
       ".table-container {\n",
       "    height: var(--containerHeight) !important;\n",
       "    width: 100%;\n",
       "    overflow: auto;  /* This enables both horizontal and vertical scrolling */\n",
       "    border: 1px solid #d4d4d4;\n",
       "    background: transparent;\n",
       "    position: relative;  /* Create stacking context for sticky header */\n",
       "}\n",
       "\n",
       ".scroll-table {\n",
       "    /* Remove width: 100% to prevent table from being constrained */\n",
       "    /* min-width: 100% ensures table takes at least full container width */\n",
       "    min-width: 100%;\n",
       "    border-collapse: separate;\n",
       "    border-spacing: 4px;\n",
       "    background: transparent;\n",
       "    table-layout: auto;  /* Allow table to size based on content */\n",
       "}\n",
       "\n",
       ".scroll-table th {\n",
       "    background: transparent;  /* Semi-transparent background to ensure text readability */\n",
       "    position: sticky;\n",
       "    top: 0;\n",
       "    z-index: 1;\n",
       "    text-align: left !important;\n",
       "    padding: 8px;\n",
       "    font-weight: bold;\n",
       "    white-space: nowrap;  /* Prevent header text from wrapping */\n",
       "    min-width: 100px;    /* Ensure minimum column width */\n",
       "    backdrop-filter: blur(8px);  /* Optional: adds extra clarity */\n",
       "    color: var(--headerColor);\n",
       "}\n",
       "\n",
       ".scroll-table td {\n",
       "    padding: 8px;\n",
       "    text-align: left !important;\n",
       "    white-space: pre-wrap;\n",
       "    word-wrap: break-word;\n",
       "    vertical-align: top;\n",
       "    color: inherit;\n",
       "    border-bottom: none;\n",
       "    background: transparent;\n",
       "    min-width: 100px;    /* Match header minimum width */\n",
       "}\n",
       "\n",
       ".scroll-table tbody tr:hover {\n",
       "    background: transparent;\n",
       "}\n",
       "\n",
       "/* Additional rule to ensure header background is truly transparent */\n",
       ".scroll-table thead tr {\n",
       "    background: transparent !important;\n",
       "}\n",
       "\n",
       "/* Add shadow to indicate scrollable content */\n",
       ".table-container::after {\n",
       "    content: '';\n",
       "    position: absolute;\n",
       "    top: 0;\n",
       "    right: 0;\n",
       "    bottom: 0;\n",
       "    width: 5px;\n",
       "    background: linear-gradient(to right, transparent, rgba(242, 6, 6, 0.1));\n",
       "    pointer-events: none;\n",
       "    opacity: 0;\n",
       "    transition: opacity 0.3s;\n",
       "}\n",
       "\n",
       ".table-container:hover::after {\n",
       "    opacity: 1;\n",
       "}\n",
       "\n",
       "/* Handle Jupyter notebook specific styling */\n",
       ".jp-OutputArea-output .table-container {\n",
       "    max-width: 100%;\n",
       "    margin: 0;\n",
       "    overflow-x: auto;\n",
       "}\n",
       "        </style>\n",
       "        <div class=\"table-container\">\n",
       "            <div class=\"scroll-table-wrapper\">\n",
       "                <table class=\"scroll-table\">\n",
       "<thead>\n",
       "<tr><th>0                                              </th></tr>\n",
       "</thead>\n",
       "<tbody>\n",
       "<tr><td>agent.agent_instruction                        </td></tr>\n",
       "<tr><td>agent.agent_name                               </td></tr>\n",
       "<tr><td>answer.concepts                                </td></tr>\n",
       "<tr><td>answer.sentiment                               </td></tr>\n",
       "<tr><td>comment.concepts_comment                       </td></tr>\n",
       "<tr><td>comment.sentiment_comment                      </td></tr>\n",
       "<tr><td>generated_tokens.concepts_generated_tokens     </td></tr>\n",
       "<tr><td>generated_tokens.sentiment_generated_tokens    </td></tr>\n",
       "<tr><td>iteration.iteration                            </td></tr>\n",
       "<tr><td>model.frequency_penalty                        </td></tr>\n",
       "<tr><td>model.logprobs                                 </td></tr>\n",
       "<tr><td>model.max_tokens                               </td></tr>\n",
       "<tr><td>model.model                                    </td></tr>\n",
       "<tr><td>model.presence_penalty                         </td></tr>\n",
       "<tr><td>model.temperature                              </td></tr>\n",
       "<tr><td>model.top_logprobs                             </td></tr>\n",
       "<tr><td>model.top_p                                    </td></tr>\n",
       "<tr><td>prompt.concepts_system_prompt                  </td></tr>\n",
       "<tr><td>prompt.concepts_user_prompt                    </td></tr>\n",
       "<tr><td>prompt.sentiment_system_prompt                 </td></tr>\n",
       "<tr><td>prompt.sentiment_user_prompt                   </td></tr>\n",
       "<tr><td>question_options.concepts_question_options     </td></tr>\n",
       "<tr><td>question_options.sentiment_question_options    </td></tr>\n",
       "<tr><td>question_text.concepts_question_text           </td></tr>\n",
       "<tr><td>question_text.sentiment_question_text          </td></tr>\n",
       "<tr><td>question_type.concepts_question_type           </td></tr>\n",
       "<tr><td>question_type.sentiment_question_type          </td></tr>\n",
       "<tr><td>raw_model_response.concepts_cost               </td></tr>\n",
       "<tr><td>raw_model_response.concepts_one_usd_buys       </td></tr>\n",
       "<tr><td>raw_model_response.concepts_raw_model_response </td></tr>\n",
       "<tr><td>raw_model_response.sentiment_cost              </td></tr>\n",
       "<tr><td>raw_model_response.sentiment_one_usd_buys      </td></tr>\n",
       "<tr><td>raw_model_response.sentiment_raw_model_response</td></tr>\n",
       "<tr><td>scenario.text                                  </td></tr>\n",
       "</tbody>\n",
       "</table>\n",
       "            </div>\n",
       "        </div>\n",
       "        "
      ],
      "text/plain": [
       "PrettyList(['agent.agent_instruction',\n",
       "            'agent.agent_name',\n",
       "            'answer.concepts',\n",
       "            'answer.sentiment',\n",
       "            'comment.concepts_comment',\n",
       "            'comment.sentiment_comment',\n",
       "            'generated_tokens.concepts_generated_tokens',\n",
       "            'generated_tokens.sentiment_generated_tokens',\n",
       "            'iteration.iteration',\n",
       "            'model.frequency_penalty',\n",
       "            'model.logprobs',\n",
       "            'model.max_tokens',\n",
       "            'model.model',\n",
       "            'model.presence_penalty',\n",
       "            'model.temperature',\n",
       "            'model.top_logprobs',\n",
       "            'model.top_p',\n",
       "            'prompt.concepts_system_prompt',\n",
       "            'prompt.concepts_user_prompt',\n",
       "            'prompt.sentiment_system_prompt',\n",
       "            'prompt.sentiment_user_prompt',\n",
       "            'question_options.concepts_question_options',\n",
       "            'question_options.sentiment_question_options',\n",
       "            'question_text.concepts_question_text',\n",
       "            'question_text.sentiment_question_text',\n",
       "            'question_type.concepts_question_type',\n",
       "            'question_type.sentiment_question_type',\n",
       "            'raw_model_response.concepts_cost',\n",
       "            'raw_model_response.concepts_one_usd_buys',\n",
       "            'raw_model_response.concepts_raw_model_response',\n",
       "            'raw_model_response.sentiment_cost',\n",
       "            'raw_model_response.sentiment_one_usd_buys',\n",
       "            'raw_model_response.sentiment_raw_model_response',\n",
       "            'scenario.text'])"
      ]
     },
     "execution_count": 7,
     "metadata": {},
     "output_type": "execute_result"
    }
   ],
   "source": [
    "results.columns"
   ]
  },
  {
   "cell_type": "markdown",
   "id": "7d03ca57-a616-43d7-a500-7969288fc70c",
   "metadata": {
    "editable": true,
    "slideshow": {
     "slide_type": ""
    },
    "tags": []
   },
   "source": [
    "We can select and print specific components to inspect in a table:"
   ]
  },
  {
   "cell_type": "code",
   "execution_count": 8,
   "id": "6fe9f5af-f06c-47c4-a9fe-abddbda62c9a",
   "metadata": {
    "editable": true,
    "slideshow": {
     "slide_type": ""
    },
    "tags": []
   },
   "outputs": [
    {
     "data": {
      "text/html": [
       "\n",
       "        <style>\n",
       "            :root {\n",
       "  --containerHeight: 350px;\n",
       "  --headerColor: blue;\n",
       "}\n",
       "\n",
       ".table-container {\n",
       "    height: var(--containerHeight) !important;\n",
       "    width: 100%;\n",
       "    overflow: auto;  /* This enables both horizontal and vertical scrolling */\n",
       "    border: 1px solid #d4d4d4;\n",
       "    background: transparent;\n",
       "    position: relative;  /* Create stacking context for sticky header */\n",
       "}\n",
       "\n",
       ".scroll-table {\n",
       "    /* Remove width: 100% to prevent table from being constrained */\n",
       "    /* min-width: 100% ensures table takes at least full container width */\n",
       "    min-width: 100%;\n",
       "    border-collapse: separate;\n",
       "    border-spacing: 4px;\n",
       "    background: transparent;\n",
       "    table-layout: auto;  /* Allow table to size based on content */\n",
       "}\n",
       "\n",
       ".scroll-table th {\n",
       "    background: transparent;  /* Semi-transparent background to ensure text readability */\n",
       "    position: sticky;\n",
       "    top: 0;\n",
       "    z-index: 1;\n",
       "    text-align: left !important;\n",
       "    padding: 8px;\n",
       "    font-weight: bold;\n",
       "    white-space: nowrap;  /* Prevent header text from wrapping */\n",
       "    min-width: 100px;    /* Ensure minimum column width */\n",
       "    backdrop-filter: blur(8px);  /* Optional: adds extra clarity */\n",
       "    color: var(--headerColor);\n",
       "}\n",
       "\n",
       ".scroll-table td {\n",
       "    padding: 8px;\n",
       "    text-align: left !important;\n",
       "    white-space: pre-wrap;\n",
       "    word-wrap: break-word;\n",
       "    vertical-align: top;\n",
       "    color: inherit;\n",
       "    border-bottom: none;\n",
       "    background: transparent;\n",
       "    min-width: 100px;    /* Match header minimum width */\n",
       "}\n",
       "\n",
       ".scroll-table tbody tr:hover {\n",
       "    background: transparent;\n",
       "}\n",
       "\n",
       "/* Additional rule to ensure header background is truly transparent */\n",
       ".scroll-table thead tr {\n",
       "    background: transparent !important;\n",
       "}\n",
       "\n",
       "/* Add shadow to indicate scrollable content */\n",
       ".table-container::after {\n",
       "    content: '';\n",
       "    position: absolute;\n",
       "    top: 0;\n",
       "    right: 0;\n",
       "    bottom: 0;\n",
       "    width: 5px;\n",
       "    background: linear-gradient(to right, transparent, rgba(242, 6, 6, 0.1));\n",
       "    pointer-events: none;\n",
       "    opacity: 0;\n",
       "    transition: opacity 0.3s;\n",
       "}\n",
       "\n",
       ".table-container:hover::after {\n",
       "    opacity: 1;\n",
       "}\n",
       "\n",
       "/* Handle Jupyter notebook specific styling */\n",
       ".jp-OutputArea-output .table-container {\n",
       "    max-width: 100%;\n",
       "    margin: 0;\n",
       "    overflow-x: auto;\n",
       "}\n",
       "        </style>\n",
       "        <div class=\"table-container\">\n",
       "            <div class=\"scroll-table-wrapper\">\n",
       "                <table class=\"scroll-table\">\n",
       "<thead>\n",
       "<tr><th>scenario.text                                                                                                                                                                                                                                                                          </th><th>answer.concepts                                                                                                                                           </th><th>answer.sentiment  </th></tr>\n",
       "</thead>\n",
       "<tbody>\n",
       "<tr><td>Tune in as I deliver the keynote address at the U.S. Holocaust Memorial Museum’s Annual Days of Remembrance ceremony in Washington, D.C.                                                                                                                                               </td><td>[&#x27;keynote address&#x27;, &#x27;U.S. Holocaust Memorial Museum&#x27;, &#x27;Annual Days of Remembrance&#x27;, &#x27;Washington, D.C.&#x27;]                                                   </td><td>Neutral           </td></tr>\n",
       "<tr><td>We’re a nation of immigrants. A nation of dreamers. And as Cinco de Mayo represents, a nation of freedom.                                                                                                                                                                              </td><td>[&#x27;nation of immigrants&#x27;, &#x27;nation of dreamers&#x27;, &#x27;Cinco de Mayo&#x27;, &#x27;nation of freedom&#x27;]                                                                      </td><td>Positive          </td></tr>\n",
       "<tr><td>Medicare is stronger and Social Security remains strong. My economic plan has helped extend Medicare solvency by a decade. And I am committed to extending Social Security solvency by making the rich pay their fair share.                                                           </td><td>[&#x27;Medicare&#x27;, &#x27;Social Security&#x27;, &#x27;economic plan&#x27;, &#x27;solvency&#x27;, &#x27;rich pay their fair share&#x27;]                                                                 </td><td>Positive          </td></tr>\n",
       "<tr><td>Today, the Army Black Knights are taking home West Point’s 10th Commander-in-Chief Trophy. They should be proud. I’m proud of them too – not for the wins, but because after every game they hang up their uniforms and put on another: one representing the United States.            </td><td>[&#x27;Army Black Knights&#x27;, &#x27;West Point&#x27;, &#x27;10th Commander-in-Chief Trophy&#x27;, &#x27;United States&#x27;]                                                                   </td><td>Positive          </td></tr>\n",
       "<tr><td>This Holocaust Remembrance Day, we mourn the six million Jews who were killed by the Nazis during one of the darkest chapters in human history. And we recommit to heeding the lessons of the Shoah and realizing the responsibility of &#x27;Never Again.&#x27;                                 </td><td>[&#x27;Holocaust Remembrance Day&#x27;, &#x27;six million Jews&#x27;, &#x27;Nazis&#x27;, &#x27;darkest chapters in human history&#x27;, &#x27;lessons of the Shoah&#x27;, &quot;responsibility of &#x27;Never Again&#x27;&quot;]</td><td>Neutral           </td></tr>\n",
       "<tr><td>The recipients of the Presidential Medal of Freedom haven&#x27;t just kept faith in freedom. They kept all of America&#x27;s faith in a better tomorrow.                                                                                                                                         </td><td>[&#x27;Presidential Medal of Freedom&#x27;, &#x27;freedom&#x27;, &quot;America&#x27;s faith&quot;, &#x27;better tomorrow&#x27;]                                                                        </td><td>Positive          </td></tr>\n",
       "<tr><td>Like Jill says, &#x27;Teaching isn’t just a job. It’s a calling.&#x27; She knows that in her bones, and I know every educator who joined us at the White House for the first-ever Teacher State Dinner lives out that truth every day.                                                           </td><td>[&#x27;Teaching as a calling&#x27;, &#x27;Educators&#x27;, &#x27;Teacher State Dinner&#x27;, &#x27;White House&#x27;]                                                                             </td><td>Positive          </td></tr>\n",
       "<tr><td>Jill and I send warm wishes to Orthodox Christian communities around the world as they celebrate Easter. May the Lord bless and keep you this Easter Sunday and in the year ahead.                                                                                                     </td><td>[&#x27;Jill&#x27;, &#x27;Orthodox Christian communities&#x27;, &#x27;Easter&#x27;, &#x27;Lord&#x27;, &#x27;blessings&#x27;, &#x27;year ahead&#x27;]                                                                   </td><td>Positive          </td></tr>\n",
       "<tr><td>Dreamers are our loved ones, nurses, teachers, and small business owners – they deserve the promise of health care just like all of us. Today, my Administration is making that real by expanding affordable health coverage through the Affordable Care Act to DACA recipients.       </td><td>[&#x27;Dreamers&#x27;, &#x27;health care&#x27;, &#x27;Affordable Care Act&#x27;, &#x27;DACA recipients&#x27;, &#x27;affordable health coverage&#x27;]                                                       </td><td>Positive          </td></tr>\n",
       "<tr><td>With today’s report of 175,000 new jobs, the American comeback continues. Congressional Republicans are fighting to cut taxes for billionaires and let special interests rip folks off, I&#x27;m focused on job creation and building an economy that works for the families I grew up with.</td><td>[&#x27;New Jobs&#x27;, &#x27;American Comeback&#x27;, &#x27;Congressional Republicans&#x27;, &#x27;Tax Cuts&#x27;, &#x27;Special Interests&#x27;, &#x27;Job Creation&#x27;, &#x27;Economy for Families&#x27;]                   </td><td>Positive          </td></tr>\n",
       "</tbody>\n",
       "</table>\n",
       "            </div>\n",
       "        </div>\n",
       "        "
      ],
      "text/plain": [
       "Dataset([{'scenario.text': ['Tune in as I deliver the keynote address at the U.S. Holocaust Memorial Museum’s Annual Days of Remembrance ceremony in Washington, D.C.', 'We’re a nation of immigrants. A nation of dreamers. And as Cinco de Mayo represents, a nation of freedom.', 'Medicare is stronger and Social Security remains strong. My economic plan has helped extend Medicare solvency by a decade. And I am committed to extending Social Security solvency by making the rich pay their fair share.', 'Today, the Army Black Knights are taking home West Point’s 10th Commander-in-Chief Trophy. They should be proud. I’m proud of them too – not for the wins, but because after every game they hang up their uniforms and put on another: one representing the United States.', \"This Holocaust Remembrance Day, we mourn the six million Jews who were killed by the Nazis during one of the darkest chapters in human history. And we recommit to heeding the lessons of the Shoah and realizing the responsibility of 'Never Again.'\", \"The recipients of the Presidential Medal of Freedom haven't just kept faith in freedom. They kept all of America's faith in a better tomorrow.\", \"Like Jill says, 'Teaching isn’t just a job. It’s a calling.' She knows that in her bones, and I know every educator who joined us at the White House for the first-ever Teacher State Dinner lives out that truth every day.\", 'Jill and I send warm wishes to Orthodox Christian communities around the world as they celebrate Easter. May the Lord bless and keep you this Easter Sunday and in the year ahead.', 'Dreamers are our loved ones, nurses, teachers, and small business owners – they deserve the promise of health care just like all of us. Today, my Administration is making that real by expanding affordable health coverage through the Affordable Care Act to DACA recipients.', \"With today’s report of 175,000 new jobs, the American comeback continues. Congressional Republicans are fighting to cut taxes for billionaires and let special interests rip folks off, I'm focused on job creation and building an economy that works for the families I grew up with.\"]}, {'answer.concepts': [['keynote address', 'U.S. Holocaust Memorial Museum', 'Annual Days of Remembrance', 'Washington, D.C.'], ['nation of immigrants', 'nation of dreamers', 'Cinco de Mayo', 'nation of freedom'], ['Medicare', 'Social Security', 'economic plan', 'solvency', 'rich pay their fair share'], ['Army Black Knights', 'West Point', '10th Commander-in-Chief Trophy', 'United States'], ['Holocaust Remembrance Day', 'six million Jews', 'Nazis', 'darkest chapters in human history', 'lessons of the Shoah', \"responsibility of 'Never Again'\"], ['Presidential Medal of Freedom', 'freedom', \"America's faith\", 'better tomorrow'], ['Teaching as a calling', 'Educators', 'Teacher State Dinner', 'White House'], ['Jill', 'Orthodox Christian communities', 'Easter', 'Lord', 'blessings', 'year ahead'], ['Dreamers', 'health care', 'Affordable Care Act', 'DACA recipients', 'affordable health coverage'], ['New Jobs', 'American Comeback', 'Congressional Republicans', 'Tax Cuts', 'Special Interests', 'Job Creation', 'Economy for Families']]}, {'answer.sentiment': ['Neutral', 'Positive', 'Positive', 'Positive', 'Neutral', 'Positive', 'Positive', 'Positive', 'Positive', 'Positive']}])"
      ]
     },
     "execution_count": 8,
     "metadata": {},
     "output_type": "execute_result"
    }
   ],
   "source": [
    "results.select(\"text\", \"concepts\", \"sentiment\")"
   ]
  },
  {
   "cell_type": "markdown",
   "id": "5e1abcd5-4e84-438b-b7aa-d06608c1b463",
   "metadata": {
    "editable": true,
    "slideshow": {
     "slide_type": ""
    },
    "tags": []
   },
   "source": [
    "If our concepts lists are too long, we can run another question prompting a model to condense it. We can specify the number of concepts that we want to get:"
   ]
  },
  {
   "cell_type": "code",
   "execution_count": 9,
   "id": "8d9918dc-0096-4e51-b2ff-0d11d766511c",
   "metadata": {
    "editable": true,
    "slideshow": {
     "slide_type": ""
    },
    "tags": []
   },
   "outputs": [
    {
     "data": {
      "text/html": [
       "\n",
       "        <style>\n",
       "            :root {\n",
       "  --containerHeight: 400px;\n",
       "  --headerColor: blue;\n",
       "}\n",
       "\n",
       ".table-container {\n",
       "    height: var(--containerHeight) !important;\n",
       "    width: 100%;\n",
       "    overflow: auto;  /* This enables both horizontal and vertical scrolling */\n",
       "    border: 1px solid #d4d4d4;\n",
       "    background: transparent;\n",
       "    position: relative;  /* Create stacking context for sticky header */\n",
       "}\n",
       "\n",
       ".scroll-table {\n",
       "    /* Remove width: 100% to prevent table from being constrained */\n",
       "    /* min-width: 100% ensures table takes at least full container width */\n",
       "    min-width: 100%;\n",
       "    border-collapse: separate;\n",
       "    border-spacing: 4px;\n",
       "    background: transparent;\n",
       "    table-layout: auto;  /* Allow table to size based on content */\n",
       "}\n",
       "\n",
       ".scroll-table th {\n",
       "    background: transparent;  /* Semi-transparent background to ensure text readability */\n",
       "    position: sticky;\n",
       "    top: 0;\n",
       "    z-index: 1;\n",
       "    text-align: left !important;\n",
       "    padding: 8px;\n",
       "    font-weight: bold;\n",
       "    white-space: nowrap;  /* Prevent header text from wrapping */\n",
       "    min-width: 100px;    /* Ensure minimum column width */\n",
       "    backdrop-filter: blur(8px);  /* Optional: adds extra clarity */\n",
       "    color: var(--headerColor);\n",
       "}\n",
       "\n",
       ".scroll-table td {\n",
       "    padding: 8px;\n",
       "    text-align: left !important;\n",
       "    white-space: pre-wrap;\n",
       "    word-wrap: break-word;\n",
       "    vertical-align: top;\n",
       "    color: inherit;\n",
       "    border-bottom: none;\n",
       "    background: transparent;\n",
       "    min-width: 100px;    /* Match header minimum width */\n",
       "}\n",
       "\n",
       ".scroll-table tbody tr:hover {\n",
       "    background: transparent;\n",
       "}\n",
       "\n",
       "/* Additional rule to ensure header background is truly transparent */\n",
       ".scroll-table thead tr {\n",
       "    background: transparent !important;\n",
       "}\n",
       "\n",
       "/* Add shadow to indicate scrollable content */\n",
       ".table-container::after {\n",
       "    content: '';\n",
       "    position: absolute;\n",
       "    top: 0;\n",
       "    right: 0;\n",
       "    bottom: 0;\n",
       "    width: 5px;\n",
       "    background: linear-gradient(to right, transparent, rgba(242, 6, 6, 0.1));\n",
       "    pointer-events: none;\n",
       "    opacity: 0;\n",
       "    transition: opacity 0.3s;\n",
       "}\n",
       "\n",
       ".table-container:hover::after {\n",
       "    opacity: 1;\n",
       "}\n",
       "\n",
       "/* Handle Jupyter notebook specific styling */\n",
       ".jp-OutputArea-output .table-container {\n",
       "    max-width: 100%;\n",
       "    margin: 0;\n",
       "    overflow-x: auto;\n",
       "}\n",
       "        </style>\n",
       "        <div class=\"table-container\">\n",
       "            <div class=\"scroll-table-wrapper\">\n",
       "                <table class=\"scroll-table\">\n",
       "<thead>\n",
       "<tr><th>0                                </th></tr>\n",
       "</thead>\n",
       "<tbody>\n",
       "<tr><td>keynote address                  </td></tr>\n",
       "<tr><td>U.S. Holocaust Memorial Museum   </td></tr>\n",
       "<tr><td>Annual Days of Remembrance       </td></tr>\n",
       "<tr><td>Washington, D.C.                 </td></tr>\n",
       "<tr><td>nation of immigrants             </td></tr>\n",
       "<tr><td>nation of dreamers               </td></tr>\n",
       "<tr><td>Cinco de Mayo                    </td></tr>\n",
       "<tr><td>nation of freedom                </td></tr>\n",
       "<tr><td>Medicare                         </td></tr>\n",
       "<tr><td>Social Security                  </td></tr>\n",
       "<tr><td>economic plan                    </td></tr>\n",
       "<tr><td>solvency                         </td></tr>\n",
       "<tr><td>rich pay their fair share        </td></tr>\n",
       "<tr><td>Army Black Knights               </td></tr>\n",
       "<tr><td>West Point                       </td></tr>\n",
       "<tr><td>10th Commander-in-Chief Trophy   </td></tr>\n",
       "<tr><td>United States                    </td></tr>\n",
       "<tr><td>Holocaust Remembrance Day        </td></tr>\n",
       "<tr><td>six million Jews                 </td></tr>\n",
       "<tr><td>Nazis                            </td></tr>\n",
       "<tr><td>darkest chapters in human history</td></tr>\n",
       "<tr><td>lessons of the Shoah             </td></tr>\n",
       "<tr><td>responsibility of &#x27;Never Again&#x27;  </td></tr>\n",
       "<tr><td>Presidential Medal of Freedom    </td></tr>\n",
       "<tr><td>freedom                          </td></tr>\n",
       "<tr><td>America&#x27;s faith                  </td></tr>\n",
       "<tr><td>better tomorrow                  </td></tr>\n",
       "<tr><td>Teaching as a calling            </td></tr>\n",
       "<tr><td>Educators                        </td></tr>\n",
       "<tr><td>Teacher State Dinner             </td></tr>\n",
       "<tr><td>White House                      </td></tr>\n",
       "<tr><td>Jill                             </td></tr>\n",
       "<tr><td>Orthodox Christian communities   </td></tr>\n",
       "<tr><td>Easter                           </td></tr>\n",
       "<tr><td>Lord                             </td></tr>\n",
       "<tr><td>blessings                        </td></tr>\n",
       "<tr><td>year ahead                       </td></tr>\n",
       "<tr><td>Dreamers                         </td></tr>\n",
       "<tr><td>health care                      </td></tr>\n",
       "<tr><td>Affordable Care Act              </td></tr>\n",
       "<tr><td>DACA recipients                  </td></tr>\n",
       "<tr><td>affordable health coverage       </td></tr>\n",
       "<tr><td>New Jobs                         </td></tr>\n",
       "<tr><td>American Comeback                </td></tr>\n",
       "<tr><td>Congressional Republicans        </td></tr>\n",
       "<tr><td>Tax Cuts                         </td></tr>\n",
       "<tr><td>Special Interests                </td></tr>\n",
       "<tr><td>Job Creation                     </td></tr>\n",
       "<tr><td>Economy for Families             </td></tr>\n",
       "</tbody>\n",
       "</table>\n",
       "            </div>\n",
       "        </div>\n",
       "        "
      ],
      "text/plain": [
       "PrettyList(['keynote address',\n",
       "            'U.S. Holocaust Memorial Museum',\n",
       "            'Annual Days of Remembrance',\n",
       "            'Washington, D.C.',\n",
       "            'nation of immigrants',\n",
       "            'nation of dreamers',\n",
       "            'Cinco de Mayo',\n",
       "            'nation of freedom',\n",
       "            'Medicare',\n",
       "            'Social Security',\n",
       "            'economic plan',\n",
       "            'solvency',\n",
       "            'rich pay their fair share',\n",
       "            'Army Black Knights',\n",
       "            'West Point',\n",
       "            '10th Commander-in-Chief Trophy',\n",
       "            'United States',\n",
       "            'Holocaust Remembrance Day',\n",
       "            'six million Jews',\n",
       "            'Nazis',\n",
       "            'darkest chapters in human history',\n",
       "            'lessons of the Shoah',\n",
       "            \"responsibility of 'Never Again'\",\n",
       "            'Presidential Medal of Freedom',\n",
       "            'freedom',\n",
       "            \"America's faith\",\n",
       "            'better tomorrow',\n",
       "            'Teaching as a calling',\n",
       "            'Educators',\n",
       "            'Teacher State Dinner',\n",
       "            'White House',\n",
       "            'Jill',\n",
       "            'Orthodox Christian communities',\n",
       "            'Easter',\n",
       "            'Lord',\n",
       "            'blessings',\n",
       "            'year ahead',\n",
       "            'Dreamers',\n",
       "            'health care',\n",
       "            'Affordable Care Act',\n",
       "            'DACA recipients',\n",
       "            'affordable health coverage',\n",
       "            'New Jobs',\n",
       "            'American Comeback',\n",
       "            'Congressional Republicans',\n",
       "            'Tax Cuts',\n",
       "            'Special Interests',\n",
       "            'Job Creation',\n",
       "            'Economy for Families'])"
      ]
     },
     "execution_count": 9,
     "metadata": {},
     "output_type": "execute_result"
    }
   ],
   "source": [
    "# Flattening our list of lists for all the texts to use in a follow-on question:\n",
    "concepts_list = results.select(\"concepts\").to_list(flatten=True)\n",
    "concepts_list"
   ]
  },
  {
   "cell_type": "code",
   "execution_count": 10,
   "id": "dfdc75b6-96ca-4150-88ff-efffa5ba0001",
   "metadata": {
    "editable": true,
    "slideshow": {
     "slide_type": ""
    },
    "tags": []
   },
   "outputs": [],
   "source": [
    "q_condense = QuestionList(\n",
    "    question_name=\"condense\",\n",
    "    question_text=\"Return a condensed list of the following list of concepts: \"\n",
    "    + \", \".join(concepts_list),\n",
    "    max_list_items=10,\n",
    ")"
   ]
  },
  {
   "cell_type": "markdown",
   "id": "5925616e-a982-4100-a258-c1f5e12b1ef6",
   "metadata": {
    "editable": true,
    "slideshow": {
     "slide_type": ""
    },
    "tags": []
   },
   "source": [
    "Note that we can call the `run()` method on either a survey of questions or an individual question:"
   ]
  },
  {
   "cell_type": "code",
   "execution_count": 11,
   "id": "c64b8d8a-9ce3-4611-9622-059e03a6644d",
   "metadata": {
    "editable": true,
    "slideshow": {
     "slide_type": ""
    },
    "tags": []
   },
   "outputs": [
    {
     "data": {
      "text/html": [
       "\n",
       "            <div style=\"border: 1px solid #ccc; margin: 10px 0; max-width: 800px;\">\n",
       "                <div onclick=\"document.getElementById('content-5a9a0f47-e9d6-4406-bd15-75c2e9002c48').style.display = document.getElementById('content-5a9a0f47-e9d6-4406-bd15-75c2e9002c48').style.display === 'none' ? 'block' : 'none';\n",
       "                             document.getElementById('arrow-5a9a0f47-e9d6-4406-bd15-75c2e9002c48').innerHTML = document.getElementById('content-5a9a0f47-e9d6-4406-bd15-75c2e9002c48').style.display === 'none' ? '▶' : '▼';\"\n",
       "                     style=\"padding: 10px; background: #f5f5f5; cursor: pointer;\">\n",
       "                    <span id=\"arrow-5a9a0f47-e9d6-4406-bd15-75c2e9002c48\">▼</span> Remote Job Log (2024-12-14 10:19:00)\n",
       "                </div>\n",
       "                <div id=\"content-5a9a0f47-e9d6-4406-bd15-75c2e9002c48\" style=\"padding: 10px; display: block;\">\n",
       "                    <div style=\"border-left: 3px solid #3b82f6; padding: 5px 10px; margin: 5px 0;\">Remote inference activated. Sending job to server...</div>\n",
       "<div style=\"border-left: 3px solid #3b82f6; padding: 5px 10px; margin: 5px 0;\">Your survey is running at the Expected Parrot server...</div>\n",
       "<div style=\"border-left: 3px solid #3b82f6; padding: 5px 10px; margin: 5px 0;\">Job sent to server. (Job uuid=7a32a73e-c461-473b-848c-0257b7cafe32).</div>\n",
       "<div style=\"border-left: 3px solid #3b82f6; padding: 5px 10px; margin: 5px 0;\">Job details are available at your Coop account <a href=\"https://www.expectedparrot.com/home/remote-inferencehttps://www.expectedparrot.com/home/remote-inference\" target=\"_blank\" style=\"color: #3b82f6; text-decoration: underline;\">https://www.expectedparrot.com/home/remote-inferencehttps://www.expectedparrot.com/home/remote-inference</a></div>\n",
       "<div style=\"border-left: 3px solid #3b82f6; padding: 5px 10px; margin: 5px 0;\">View job progress here: <a href=\"https://www.expectedparrot.com/home/remote-job-progress/7a32a73e-c461-473b-848c-0257b7cafe32\" target=\"_blank\" style=\"color: #3b82f6; text-decoration: underline;\">https://www.expectedparrot.com/home/remote-job-progress/7a32a73e-c461-473b-848c-0257b7cafe32</a></div>\n",
       "<div style=\"border-left: 3px solid #3b82f6; padding: 5px 10px; margin: 5px 0;\">Job status: running - last update: 2024-12-14 10:18:47 AM</div>\n",
       "<div style=\"border-left: 3px solid #3b82f6; padding: 5px 10px; margin: 5px 0;\">Job status: running - last update: 2024-12-14 10:18:50 AM</div>\n",
       "<div style=\"border-left: 3px solid #3b82f6; padding: 5px 10px; margin: 5px 0;\">Job status: running - last update: 2024-12-14 10:18:53 AM</div>\n",
       "<div style=\"border-left: 3px solid #3b82f6; padding: 5px 10px; margin: 5px 0;\">Job status: running - last update: 2024-12-14 10:18:57 AM</div>\n",
       "<div style=\"border-left: 3px solid #22c55e; padding: 5px 10px; margin: 5px 0;\">Job completed and Results stored on Coop: <a href=\"https://www.expectedparrot.com/content/9569227d-e3d9-419a-b11b-59e0ff011daf\" target=\"_blank\" style=\"color: #3b82f6; text-decoration: underline;\">https://www.expectedparrot.com/content/9569227d-e3d9-419a-b11b-59e0ff011daf</a></div>\n",
       "                </div>\n",
       "            </div>\n",
       "        "
      ],
      "text/plain": [
       "<IPython.core.display.HTML object>"
      ]
     },
     "metadata": {},
     "output_type": "display_data"
    }
   ],
   "source": [
    "results = q_condense.run()"
   ]
  },
  {
   "cell_type": "code",
   "execution_count": 12,
   "id": "68b7717a-d62a-43e2-83a7-efbf76fd400d",
   "metadata": {
    "editable": true,
    "slideshow": {
     "slide_type": ""
    },
    "tags": []
   },
   "outputs": [
    {
     "data": {
      "text/html": [
       "\n",
       "        <style>\n",
       "            :root {\n",
       "  --containerHeight: 100px;\n",
       "  --headerColor: blue;\n",
       "}\n",
       "\n",
       ".table-container {\n",
       "    height: var(--containerHeight) !important;\n",
       "    width: 100%;\n",
       "    overflow: auto;  /* This enables both horizontal and vertical scrolling */\n",
       "    border: 1px solid #d4d4d4;\n",
       "    background: transparent;\n",
       "    position: relative;  /* Create stacking context for sticky header */\n",
       "}\n",
       "\n",
       ".scroll-table {\n",
       "    /* Remove width: 100% to prevent table from being constrained */\n",
       "    /* min-width: 100% ensures table takes at least full container width */\n",
       "    min-width: 100%;\n",
       "    border-collapse: separate;\n",
       "    border-spacing: 4px;\n",
       "    background: transparent;\n",
       "    table-layout: auto;  /* Allow table to size based on content */\n",
       "}\n",
       "\n",
       ".scroll-table th {\n",
       "    background: transparent;  /* Semi-transparent background to ensure text readability */\n",
       "    position: sticky;\n",
       "    top: 0;\n",
       "    z-index: 1;\n",
       "    text-align: left !important;\n",
       "    padding: 8px;\n",
       "    font-weight: bold;\n",
       "    white-space: nowrap;  /* Prevent header text from wrapping */\n",
       "    min-width: 100px;    /* Ensure minimum column width */\n",
       "    backdrop-filter: blur(8px);  /* Optional: adds extra clarity */\n",
       "    color: var(--headerColor);\n",
       "}\n",
       "\n",
       ".scroll-table td {\n",
       "    padding: 8px;\n",
       "    text-align: left !important;\n",
       "    white-space: pre-wrap;\n",
       "    word-wrap: break-word;\n",
       "    vertical-align: top;\n",
       "    color: inherit;\n",
       "    border-bottom: none;\n",
       "    background: transparent;\n",
       "    min-width: 100px;    /* Match header minimum width */\n",
       "}\n",
       "\n",
       ".scroll-table tbody tr:hover {\n",
       "    background: transparent;\n",
       "}\n",
       "\n",
       "/* Additional rule to ensure header background is truly transparent */\n",
       ".scroll-table thead tr {\n",
       "    background: transparent !important;\n",
       "}\n",
       "\n",
       "/* Add shadow to indicate scrollable content */\n",
       ".table-container::after {\n",
       "    content: '';\n",
       "    position: absolute;\n",
       "    top: 0;\n",
       "    right: 0;\n",
       "    bottom: 0;\n",
       "    width: 5px;\n",
       "    background: linear-gradient(to right, transparent, rgba(242, 6, 6, 0.1));\n",
       "    pointer-events: none;\n",
       "    opacity: 0;\n",
       "    transition: opacity 0.3s;\n",
       "}\n",
       "\n",
       ".table-container:hover::after {\n",
       "    opacity: 1;\n",
       "}\n",
       "\n",
       "/* Handle Jupyter notebook specific styling */\n",
       ".jp-OutputArea-output .table-container {\n",
       "    max-width: 100%;\n",
       "    margin: 0;\n",
       "    overflow-x: auto;\n",
       "}\n",
       "        </style>\n",
       "        <div class=\"table-container\">\n",
       "            <div class=\"scroll-table-wrapper\">\n",
       "                <table class=\"scroll-table\">\n",
       "<thead>\n",
       "<tr><th>answer.condense                                                                                                                                                                                                                            </th></tr>\n",
       "</thead>\n",
       "<tbody>\n",
       "<tr><td>[&#x27;Holocaust Remembrance&#x27;, &#x27;Nation of Immigrants&#x27;, &#x27;Economic Plan&#x27;, &#x27;U.S. Military&#x27;, &#x27;Freedom and Democracy&#x27;, &#x27;Education and Teaching&#x27;, &#x27;Health Care&#x27;, &#x27;Immigration and Dreamers&#x27;, &#x27;American Economy&#x27;, &#x27;Religious and Cultural Observances&#x27;]</td></tr>\n",
       "</tbody>\n",
       "</table>\n",
       "            </div>\n",
       "        </div>\n",
       "        "
      ],
      "text/plain": [
       "Dataset([{'answer.condense': [['Holocaust Remembrance', 'Nation of Immigrants', 'Economic Plan', 'U.S. Military', 'Freedom and Democracy', 'Education and Teaching', 'Health Care', 'Immigration and Dreamers', 'American Economy', 'Religious and Cultural Observances']]}])"
      ]
     },
     "execution_count": 12,
     "metadata": {},
     "output_type": "execute_result"
    }
   ],
   "source": [
    "results.select(\"condense\")"
   ]
  },
  {
   "cell_type": "markdown",
   "id": "2ea27147-7051-4341-b6db-45d40f5cad5d",
   "metadata": {
    "editable": true,
    "slideshow": {
     "slide_type": ""
    },
    "tags": []
   },
   "source": [
    "## Identify criteria for each concept\n",
    "Similar to our first step, next we can run a question prompting the model to generate criteria for each concept. We could use `QuestionFreeText` to generate criteria in an unstructured narrative:"
   ]
  },
  {
   "cell_type": "code",
   "execution_count": 13,
   "id": "7888e26a-a4a5-487f-b26f-c0eb7e170b91",
   "metadata": {
    "editable": true,
    "slideshow": {
     "slide_type": ""
    },
    "tags": []
   },
   "outputs": [],
   "source": [
    "from edsl import QuestionFreeText\n",
    "\n",
    "q_criteria = QuestionFreeText(\n",
    "    question_name=\"criteria\",\n",
    "    question_text=\"\"\"Describe key criteria for determining whether a text is primarily about the \n",
    "    following concept: {{ concept }}\"\"\",\n",
    ")"
   ]
  },
  {
   "cell_type": "markdown",
   "id": "e923ce4b-7201-423f-a706-73f863eaf272",
   "metadata": {
    "editable": true,
    "slideshow": {
     "slide_type": ""
    },
    "tags": []
   },
   "source": [
    "For this question, the scenarios are the concepts that we generated:"
   ]
  },
  {
   "cell_type": "code",
   "execution_count": 14,
   "id": "ac9c51cc-08a5-478f-8082-ba28f994d1c1",
   "metadata": {
    "editable": true,
    "slideshow": {
     "slide_type": ""
    },
    "tags": []
   },
   "outputs": [
    {
     "data": {
      "text/html": [
       "<p><a href='https://docs.expectedparrot.com/en/latest/scenarios.html#scenariolist'>ScenarioList</a> scenarios: 10; keys: ['concept'];</p>\n",
       "        <style>\n",
       "            :root {\n",
       "  --containerHeight: 350px;\n",
       "  --headerColor: blue;\n",
       "}\n",
       "\n",
       ".table-container {\n",
       "    height: var(--containerHeight) !important;\n",
       "    width: 100%;\n",
       "    overflow: auto;  /* This enables both horizontal and vertical scrolling */\n",
       "    border: 1px solid #d4d4d4;\n",
       "    background: transparent;\n",
       "    position: relative;  /* Create stacking context for sticky header */\n",
       "}\n",
       "\n",
       ".scroll-table {\n",
       "    /* Remove width: 100% to prevent table from being constrained */\n",
       "    /* min-width: 100% ensures table takes at least full container width */\n",
       "    min-width: 100%;\n",
       "    border-collapse: separate;\n",
       "    border-spacing: 4px;\n",
       "    background: transparent;\n",
       "    table-layout: auto;  /* Allow table to size based on content */\n",
       "}\n",
       "\n",
       ".scroll-table th {\n",
       "    background: transparent;  /* Semi-transparent background to ensure text readability */\n",
       "    position: sticky;\n",
       "    top: 0;\n",
       "    z-index: 1;\n",
       "    text-align: left !important;\n",
       "    padding: 8px;\n",
       "    font-weight: bold;\n",
       "    white-space: nowrap;  /* Prevent header text from wrapping */\n",
       "    min-width: 100px;    /* Ensure minimum column width */\n",
       "    backdrop-filter: blur(8px);  /* Optional: adds extra clarity */\n",
       "    color: var(--headerColor);\n",
       "}\n",
       "\n",
       ".scroll-table td {\n",
       "    padding: 8px;\n",
       "    text-align: left !important;\n",
       "    white-space: pre-wrap;\n",
       "    word-wrap: break-word;\n",
       "    vertical-align: top;\n",
       "    color: inherit;\n",
       "    border-bottom: none;\n",
       "    background: transparent;\n",
       "    min-width: 100px;    /* Match header minimum width */\n",
       "}\n",
       "\n",
       ".scroll-table tbody tr:hover {\n",
       "    background: transparent;\n",
       "}\n",
       "\n",
       "/* Additional rule to ensure header background is truly transparent */\n",
       ".scroll-table thead tr {\n",
       "    background: transparent !important;\n",
       "}\n",
       "\n",
       "/* Add shadow to indicate scrollable content */\n",
       ".table-container::after {\n",
       "    content: '';\n",
       "    position: absolute;\n",
       "    top: 0;\n",
       "    right: 0;\n",
       "    bottom: 0;\n",
       "    width: 5px;\n",
       "    background: linear-gradient(to right, transparent, rgba(242, 6, 6, 0.1));\n",
       "    pointer-events: none;\n",
       "    opacity: 0;\n",
       "    transition: opacity 0.3s;\n",
       "}\n",
       "\n",
       ".table-container:hover::after {\n",
       "    opacity: 1;\n",
       "}\n",
       "\n",
       "/* Handle Jupyter notebook specific styling */\n",
       ".jp-OutputArea-output .table-container {\n",
       "    max-width: 100%;\n",
       "    margin: 0;\n",
       "    overflow-x: auto;\n",
       "}\n",
       "        </style>\n",
       "        <div class=\"table-container\">\n",
       "            <div class=\"scroll-table-wrapper\">\n",
       "                <table class=\"scroll-table\">\n",
       "<thead>\n",
       "<tr><th>concept                           </th></tr>\n",
       "</thead>\n",
       "<tbody>\n",
       "<tr><td>Holocaust Remembrance             </td></tr>\n",
       "<tr><td>Nation of Immigrants              </td></tr>\n",
       "<tr><td>Economic Plan                     </td></tr>\n",
       "<tr><td>U.S. Military                     </td></tr>\n",
       "<tr><td>Freedom and Democracy             </td></tr>\n",
       "<tr><td>Education and Teaching            </td></tr>\n",
       "<tr><td>Health Care                       </td></tr>\n",
       "<tr><td>Immigration and Dreamers          </td></tr>\n",
       "<tr><td>American Economy                  </td></tr>\n",
       "<tr><td>Religious and Cultural Observances</td></tr>\n",
       "</tbody>\n",
       "</table>\n",
       "            </div>\n",
       "        </div>\n",
       "        "
      ],
      "text/plain": [
       "ScenarioList([Scenario({'concept': 'Holocaust Remembrance'}), Scenario({'concept': 'Nation of Immigrants'}), Scenario({'concept': 'Economic Plan'}), Scenario({'concept': 'U.S. Military'}), Scenario({'concept': 'Freedom and Democracy'}), Scenario({'concept': 'Education and Teaching'}), Scenario({'concept': 'Health Care'}), Scenario({'concept': 'Immigration and Dreamers'}), Scenario({'concept': 'American Economy'}), Scenario({'concept': 'Religious and Cultural Observances'})])"
      ]
     },
     "execution_count": 14,
     "metadata": {},
     "output_type": "execute_result"
    }
   ],
   "source": [
    "condensed_concepts_list = results.select(\"condense\").to_list(flatten=True)\n",
    "\n",
    "scenarios = ScenarioList.from_list(\"concept\", condensed_concepts_list)\n",
    "scenarios"
   ]
  },
  {
   "cell_type": "code",
   "execution_count": 15,
   "id": "c31d5d9e-e3f7-4031-b496-caf5dc0b9d04",
   "metadata": {
    "editable": true,
    "slideshow": {
     "slide_type": ""
    },
    "tags": []
   },
   "outputs": [
    {
     "data": {
      "text/html": [
       "\n",
       "            <div style=\"border: 1px solid #ccc; margin: 10px 0; max-width: 800px;\">\n",
       "                <div onclick=\"document.getElementById('content-6611c051-9361-4960-a246-7473660847be').style.display = document.getElementById('content-6611c051-9361-4960-a246-7473660847be').style.display === 'none' ? 'block' : 'none';\n",
       "                             document.getElementById('arrow-6611c051-9361-4960-a246-7473660847be').innerHTML = document.getElementById('content-6611c051-9361-4960-a246-7473660847be').style.display === 'none' ? '▶' : '▼';\"\n",
       "                     style=\"padding: 10px; background: #f5f5f5; cursor: pointer;\">\n",
       "                    <span id=\"arrow-6611c051-9361-4960-a246-7473660847be\">▼</span> Remote Job Log (2024-12-14 10:19:43)\n",
       "                </div>\n",
       "                <div id=\"content-6611c051-9361-4960-a246-7473660847be\" style=\"padding: 10px; display: block;\">\n",
       "                    <div style=\"border-left: 3px solid #3b82f6; padding: 5px 10px; margin: 5px 0;\">Remote inference activated. Sending job to server...</div>\n",
       "<div style=\"border-left: 3px solid #3b82f6; padding: 5px 10px; margin: 5px 0;\">Your survey is running at the Expected Parrot server...</div>\n",
       "<div style=\"border-left: 3px solid #3b82f6; padding: 5px 10px; margin: 5px 0;\">Job sent to server. (Job uuid=16be9e9d-4b5f-4bc8-9b96-cda2ce4ea6bd).</div>\n",
       "<div style=\"border-left: 3px solid #3b82f6; padding: 5px 10px; margin: 5px 0;\">Job details are available at your Coop account <a href=\"https://www.expectedparrot.com/home/remote-inferencehttps://www.expectedparrot.com/home/remote-inference\" target=\"_blank\" style=\"color: #3b82f6; text-decoration: underline;\">https://www.expectedparrot.com/home/remote-inferencehttps://www.expectedparrot.com/home/remote-inference</a></div>\n",
       "<div style=\"border-left: 3px solid #3b82f6; padding: 5px 10px; margin: 5px 0;\">View job progress here: <a href=\"https://www.expectedparrot.com/home/remote-job-progress/16be9e9d-4b5f-4bc8-9b96-cda2ce4ea6bd\" target=\"_blank\" style=\"color: #3b82f6; text-decoration: underline;\">https://www.expectedparrot.com/home/remote-job-progress/16be9e9d-4b5f-4bc8-9b96-cda2ce4ea6bd</a></div>\n",
       "<div style=\"border-left: 3px solid #3b82f6; padding: 5px 10px; margin: 5px 0;\">Job status: queued - last update: 2024-12-14 10:19:17 AM</div>\n",
       "<div style=\"border-left: 3px solid #3b82f6; padding: 5px 10px; margin: 5px 0;\">Job status: queued - last update: 2024-12-14 10:19:20 AM</div>\n",
       "<div style=\"border-left: 3px solid #3b82f6; padding: 5px 10px; margin: 5px 0;\">Job status: running - last update: 2024-12-14 10:19:23 AM</div>\n",
       "<div style=\"border-left: 3px solid #3b82f6; padding: 5px 10px; margin: 5px 0;\">Job status: running - last update: 2024-12-14 10:19:27 AM</div>\n",
       "<div style=\"border-left: 3px solid #3b82f6; padding: 5px 10px; margin: 5px 0;\">Job status: running - last update: 2024-12-14 10:19:30 AM</div>\n",
       "<div style=\"border-left: 3px solid #3b82f6; padding: 5px 10px; margin: 5px 0;\">Job status: running - last update: 2024-12-14 10:19:33 AM</div>\n",
       "<div style=\"border-left: 3px solid #3b82f6; padding: 5px 10px; margin: 5px 0;\">Job status: running - last update: 2024-12-14 10:19:36 AM</div>\n",
       "<div style=\"border-left: 3px solid #3b82f6; padding: 5px 10px; margin: 5px 0;\">Job status: running - last update: 2024-12-14 10:19:40 AM</div>\n",
       "<div style=\"border-left: 3px solid #22c55e; padding: 5px 10px; margin: 5px 0;\">Job completed and Results stored on Coop: <a href=\"https://www.expectedparrot.com/content/2aabf1db-d339-47d8-8542-1d4139b71bd5\" target=\"_blank\" style=\"color: #3b82f6; text-decoration: underline;\">https://www.expectedparrot.com/content/2aabf1db-d339-47d8-8542-1d4139b71bd5</a></div>\n",
       "                </div>\n",
       "            </div>\n",
       "        "
      ],
      "text/plain": [
       "<IPython.core.display.HTML object>"
      ]
     },
     "metadata": {},
     "output_type": "display_data"
    }
   ],
   "source": [
    "results = q_criteria.by(scenarios).run()"
   ]
  },
  {
   "cell_type": "code",
   "execution_count": 16,
   "id": "73ec1f46-0314-492c-aefa-ffceb1fab326",
   "metadata": {
    "editable": true,
    "slideshow": {
     "slide_type": ""
    },
    "tags": []
   },
   "outputs": [
    {
     "data": {
      "text/html": [
       "\n",
       "        <style>\n",
       "            :root {\n",
       "  --containerHeight: 350px;\n",
       "  --headerColor: blue;\n",
       "}\n",
       "\n",
       ".table-container {\n",
       "    height: var(--containerHeight) !important;\n",
       "    width: 100%;\n",
       "    overflow: auto;  /* This enables both horizontal and vertical scrolling */\n",
       "    border: 1px solid #d4d4d4;\n",
       "    background: transparent;\n",
       "    position: relative;  /* Create stacking context for sticky header */\n",
       "}\n",
       "\n",
       ".scroll-table {\n",
       "    /* Remove width: 100% to prevent table from being constrained */\n",
       "    /* min-width: 100% ensures table takes at least full container width */\n",
       "    min-width: 100%;\n",
       "    border-collapse: separate;\n",
       "    border-spacing: 4px;\n",
       "    background: transparent;\n",
       "    table-layout: auto;  /* Allow table to size based on content */\n",
       "}\n",
       "\n",
       ".scroll-table th {\n",
       "    background: transparent;  /* Semi-transparent background to ensure text readability */\n",
       "    position: sticky;\n",
       "    top: 0;\n",
       "    z-index: 1;\n",
       "    text-align: left !important;\n",
       "    padding: 8px;\n",
       "    font-weight: bold;\n",
       "    white-space: nowrap;  /* Prevent header text from wrapping */\n",
       "    min-width: 100px;    /* Ensure minimum column width */\n",
       "    backdrop-filter: blur(8px);  /* Optional: adds extra clarity */\n",
       "    color: var(--headerColor);\n",
       "}\n",
       "\n",
       ".scroll-table td {\n",
       "    padding: 8px;\n",
       "    text-align: left !important;\n",
       "    white-space: pre-wrap;\n",
       "    word-wrap: break-word;\n",
       "    vertical-align: top;\n",
       "    color: inherit;\n",
       "    border-bottom: none;\n",
       "    background: transparent;\n",
       "    min-width: 100px;    /* Match header minimum width */\n",
       "}\n",
       "\n",
       ".scroll-table tbody tr:hover {\n",
       "    background: transparent;\n",
       "}\n",
       "\n",
       "/* Additional rule to ensure header background is truly transparent */\n",
       ".scroll-table thead tr {\n",
       "    background: transparent !important;\n",
       "}\n",
       "\n",
       "/* Add shadow to indicate scrollable content */\n",
       ".table-container::after {\n",
       "    content: '';\n",
       "    position: absolute;\n",
       "    top: 0;\n",
       "    right: 0;\n",
       "    bottom: 0;\n",
       "    width: 5px;\n",
       "    background: linear-gradient(to right, transparent, rgba(242, 6, 6, 0.1));\n",
       "    pointer-events: none;\n",
       "    opacity: 0;\n",
       "    transition: opacity 0.3s;\n",
       "}\n",
       "\n",
       ".table-container:hover::after {\n",
       "    opacity: 1;\n",
       "}\n",
       "\n",
       "/* Handle Jupyter notebook specific styling */\n",
       ".jp-OutputArea-output .table-container {\n",
       "    max-width: 100%;\n",
       "    margin: 0;\n",
       "    overflow-x: auto;\n",
       "}\n",
       "        </style>\n",
       "        <div class=\"table-container\">\n",
       "            <div class=\"scroll-table-wrapper\">\n",
       "                <table class=\"scroll-table\">\n",
       "<thead>\n",
       "<tr><th>scenario.concept                  </th><th>answer.criteria  </th></tr>\n",
       "</thead>\n",
       "<tbody>\n",
       "<tr><td>Holocaust Remembrance             </td><td>Determining whether a text is primarily about Holocaust Remembrance involves evaluating several key criteria:\n",
       "\n",
       "1. **Subject Matter**: The text should focus on the Holocaust, discussing its historical events, impact, and the importance of remembering it. This includes narratives about survivors, victims, and the atrocities committed during this period.\n",
       "\n",
       "2. **Purpose and Intent**: The text should aim to honor and remember the victims and survivors of the Holocaust. It may emphasize the importance of memory in preventing future genocides or discuss the moral and ethical lessons learned from the Holocaust.\n",
       "\n",
       "3. **Commemorative Elements**: The text might describe or promote activities and events related to Holocaust remembrance, such as memorial services, educational programs, museum exhibits, or Holocaust Remembrance Day (Yom HaShoah).\n",
       "\n",
       "4. **Educational Focus**: The text should aim to educate readers about the Holocaust, its history, and its lasting impact. This might include discussions on the significance of teaching the Holocaust in schools and how it is remembered in different cultures and countries.\n",
       "\n",
       "5. **Reflective and Emotional Tone**: The text often carries a reflective and solemn tone, highlighting personal stories, reflections, and testimonies from survivors, as well as the emotional and psychological impact of the Holocaust on individuals and communities.\n",
       "\n",
       "6. **Use of Symbolic Language**: The text may use language and symbols commonly associated with Holocaust remembrance, such as references to concentration camps, the Star of David, or iconic phrases like &quot;Never Again.&quot;\n",
       "\n",
       "7. **Historical Context**: The text should provide historical context about the Holocaust, including dates, locations, key figures, and events that are central to understanding the significance of remembrance.\n",
       "\n",
       "8. **Call to Action**: The text may include a call to action, urging readers to participate in remembrance activities, combat Holocaust denial, or support Holocaust education and awareness initiatives.                  </td></tr>\n",
       "<tr><td>Nation of Immigrants              </td><td>Determining whether a text is primarily about the concept of a &quot;Nation of Immigrants&quot; involves analyzing several key criteria:\n",
       "\n",
       "1. **Historical Context**: The text should discuss the historical aspects of immigration, such as waves of immigration, key events, and policies that have shaped the nation. It might reference specific periods of significant immigration and how these have influenced the nation&#x27;s development.\n",
       "\n",
       "2. **Cultural Diversity**: The text should emphasize the cultural diversity brought about by immigration, detailing how various immigrant groups have contributed to the cultural, social, and economic fabric of the nation. It might explore the blending of traditions, languages, and customs.\n",
       "\n",
       "3. **Economic Impact**: A focus on the economic contributions of immigrants, such as labor market influences, entrepreneurship, and innovation, is often central to this concept. The text might analyze how immigrants have driven economic growth and filled critical roles in various industries.\n",
       "\n",
       "4. **Policy and Legislation**: The text should cover immigration policies and legislation, discussing how laws have evolved to manage immigration and the impact of these policies on the nation. It might include debates over immigration reform and border control.\n",
       "\n",
       "5. **Identity and National Narrative**: The text should engage with the idea of national identity, exploring how the concept of being a &quot;Nation of Immigrants&quot; is woven into the national narrative and identity. It might discuss public perception and the symbolic significance of immigration in shaping the nation&#x27;s self-image.\n",
       "\n",
       "6. **Challenges and Controversies**: The text might address challenges and controversies related to immigration, such as integration, social tensions, or political debates. It could explore opposing viewpoints and the complexities of immigration in the national discourse.\n",
       "\n",
       "7. **Personal Stories and Experiences**: The inclusion of personal narratives or case studies of immigrants can be a key indicator. These stories illustrate the human aspect of immigration and its impact on individuals and communities.\n",
       "\n",
       "8. **Comparative Analysis**: The text might compare the nation with others in terms of immigration patterns, policies, and cultural integration, highlighting what makes the nation&#x27;s experience unique.                  </td></tr>\n",
       "<tr><td>Economic Plan                     </td><td>Determining whether a text is primarily about an &quot;Economic Plan&quot; involves evaluating several key criteria. Here&#x27;s a breakdown of these criteria:\n",
       "\n",
       "1. **Purpose and Goals**: The text should clearly outline specific economic objectives or goals. This could include targets for growth, employment, inflation, or fiscal balance. The presence of specific, measurable outcomes related to the economy is a strong indicator.\n",
       "\n",
       "2. **Strategies and Policies**: Look for detailed descriptions of strategies or policies designed to achieve the stated economic goals. This might include tax reforms, monetary policy adjustments, investment in infrastructure, or trade policies.\n",
       "\n",
       "3. **Scope and Framework**: The text should define the scope of the economic plan, including the sectors of the economy it addresses (e.g., agriculture, industry, services) and the time frame over which it aims to operate (short-term, medium-term, long-term).\n",
       "\n",
       "4. **Stakeholder Involvement**: An economic plan often involves various stakeholders, including government entities, private sector participants, and possibly international organizations. The text should mention who is responsible for implementation and who the plan affects.\n",
       "\n",
       "5. **Financial Projections and Resources**: The text should include financial projections, such as budget allocations, expected revenues, or investment levels. It may also discuss the resources required and how they will be mobilized.\n",
       "\n",
       "6. **Challenges and Risks**: A comprehensive economic plan will typically address potential challenges and risks, along with contingency measures or risk management strategies.\n",
       "\n",
       "7. **Evaluation and Monitoring**: The text might outline mechanisms for evaluating the plan&#x27;s progress and effectiveness, including key performance indicators or regular review processes.\n",
       "\n",
       "8. **Contextual Background**: The text should provide a background on the current economic situation, explaining why the plan is necessary. It might reference existing economic conditions, historical data, or comparative analysis with other economies.\n",
       "\n",
       "9. **Language and Terminology**: The use of specific economic terminology and jargon is a strong indicator. Terms like &quot;fiscal policy,&quot; &quot;GDP growth,&quot; &quot;monetary tightening,&quot; or &quot;structural reform&quot; suggest a focus on economic planning.\n",
       "\n",
       "10. **Intended Audience**: Consider who the text is aimed at. An economic plan is often directed at policymakers, economists, investors, or the general public to inform or persuade them about the proposed economic direction.                  </td></tr>\n",
       "<tr><td>U.S. Military                     </td><td>Determining whether a text is primarily about the U.S. Military involves evaluating several key criteria:\n",
       "\n",
       "1. **Subject Matter**: The text should predominantly focus on topics directly related to the U.S. Military, such as its branches (Army, Navy, Air Force, Marine Corps, Space Force, and Coast Guard), operations, missions, or roles.\n",
       "\n",
       "2. **Terminology**: The use of specific military terminology, jargon, or acronyms commonly associated with the U.S. Military can indicate that the text is centered on this subject.\n",
       "\n",
       "3. **Personnel and Leadership**: Discussions about military personnel, including soldiers, officers, and leadership figures like the Secretary of Defense or Joint Chiefs of Staff, often signify a focus on the U.S. Military.\n",
       "\n",
       "4. **Historical Context**: The text may cover historical events, conflicts, or wars involving the U.S. Military, such as World War II, the Vietnam War, or the War on Terror.\n",
       "\n",
       "5. **Policy and Strategy**: Analysis or discussion of U.S. defense policies, military strategies, budget allocations, or legislative actions related to military operations can be a strong indicator.\n",
       "\n",
       "6. **Geopolitical Role**: The text might explore the U.S. Military&#x27;s role in international relations, alliances (e.g., NATO), or its presence and activities in various regions around the world.\n",
       "\n",
       "7. **Technology and Equipment**: Coverage of military technology, weaponry, equipment, or advancements specific to the U.S. Military can also highlight the primary focus.\n",
       "\n",
       "8. **Training and Exercises**: Descriptions of military training programs, exercises, or readiness assessments specific to U.S. forces.\n",
       "\n",
       "9. **Cultural and Social Impact**: Discussions about the cultural, social, or economic impact of the U.S. Military on American society or its influence abroad.\n",
       "\n",
       "10. **Legal and Ethical Issues**: Examination of legal, ethical, or human rights issues involving the U.S. Military, such as military justice, rules of engagement, or treatment of veterans.                  </td></tr>\n",
       "<tr><td>Freedom and Democracy             </td><td>Determining whether a text is primarily about the concept of &quot;Freedom and Democracy&quot; involves analyzing several key criteria. Here are some factors to consider:\n",
       "\n",
       "1. **Core Themes and Topics**:\n",
       "   - **Freedom**: Look for discussions on individual liberties, civil rights, autonomy, freedom of speech, religion, and expression. The text may explore the balance between freedom and security or the impact of freedom on personal and societal levels.\n",
       "   - **Democracy**: Check for references to democratic principles such as popular sovereignty, electoral processes, political participation, equality, and representation. The text might cover democratic institutions, governance, and the rule of law.\n",
       "\n",
       "2. **Language and Terminology**:\n",
       "   - Identify specific language that emphasizes freedom and democratic values, such as “liberty,” “rights,” “justice,” “equality,” “participation,” “elections,” “representation,” and “government by the people.”\n",
       "\n",
       "3. **Purpose and Intent**:\n",
       "   - Determine whether the text aims to promote, defend, critique, or analyze freedom and democracy. The intent might be to advocate for democratic reforms, highlight threats to freedom, or explore historical or philosophical perspectives on these concepts.\n",
       "\n",
       "4. **Context and Setting**:\n",
       "   - Consider the historical, political, or cultural context in which the text is situated. Texts set in democratic societies or those undergoing democratic transitions are more likely to focus on these themes. Similarly, discussions about authoritarian regimes may highlight the absence or suppression of freedom and democracy.\n",
       "\n",
       "5. **Key Arguments and Perspectives**:\n",
       "   - Analyze the main arguments or perspectives presented. Texts focusing on the benefits, challenges, or evolution of freedom and democracy often provide detailed analysis or critique of these concepts.\n",
       "\n",
       "6. **Examples and Case Studies**:\n",
       "   - Look for examples or case studies that illustrate democratic practices or the exercise of freedom. These could include historical events, political movements, or significant legal cases related to civil liberties.\n",
       "\n",
       "7. **Audience and Impact**:\n",
       "   - Consider who the intended audience is and what impact the text seeks to have. Texts aimed at policymakers, activists, or educators might prioritize themes of freedom and democracy to inspire action or inform policy.\n",
       "\n",
       "8. **Comparative Analysis**:\n",
       "   - If the text compares different political systems or ideologies, assess whether it contrasts democratic systems with non-democratic ones, highlighting the differences in freedom and governance.                  </td></tr>\n",
       "<tr><td>Education and Teaching            </td><td>When determining whether a text is primarily about Education and Teaching, consider the following key criteria:\n",
       "\n",
       "1. **Subject Matter**: The text should focus on topics related to education systems, teaching methods, learning theories, curriculum development, educational policies, or classroom management. It might also discuss specific subjects taught in schools or universities.\n",
       "\n",
       "2. **Audience**: The intended audience often includes educators, students, policymakers, or individuals interested in educational theory and practice. Texts aimed at parents or guardians about educational involvement may also fit this category.\n",
       "\n",
       "3. **Purpose**: The primary purpose of the text should be to inform, educate, or provide insights into educational practices, challenges, innovations, or reforms. It may aim to improve teaching effectiveness or student learning outcomes.\n",
       "\n",
       "4. **Setting**: References to educational settings such as schools, universities, online learning platforms, or training centers can indicate a focus on education and teaching.\n",
       "\n",
       "5. **Language and Terminology**: The use of specialized language and terminology related to pedagogy, such as &quot;curriculum,&quot; &quot;assessment,&quot; &quot;pedagogical strategies,&quot; or &quot;learning outcomes,&quot; suggests an educational focus.\n",
       "\n",
       "6. **Discussion of Roles**: The text may discuss the roles of teachers, educators, administrators, or students, highlighting their experiences, responsibilities, or challenges within the educational context.\n",
       "\n",
       "7. **Case Studies or Examples**: It might include case studies, examples, or anecdotes from educational environments, illustrating teaching techniques or learning experiences.\n",
       "\n",
       "8. **Research and Data**: The presence of educational research, data, or statistics that support discussions on educational trends, student performance, or teaching efficacy can indicate a primary focus on this field.\n",
       "\n",
       "9. **Historical or Cultural Context**: Some texts might explore the history of education, cultural influences on teaching practices, or comparative education studies.\n",
       "\n",
       "10. **Policy and Reform**: Discussions on educational policy, reform initiatives, funding, or legislation are strong indicators of a focus on education and teaching.                  </td></tr>\n",
       "<tr><td>Health Care                       </td><td>Determining whether a text is primarily about health care involves analyzing several key criteria. Here are some important factors to consider:\n",
       "\n",
       "1. **Topic and Content**: The central theme of the text should revolve around health care-related subjects. This includes discussions on medical services, health care systems, patient care, public health, health policies, and medical research.\n",
       "\n",
       "2. **Terminology and Language**: The text should include terminology specific to health care, such as &quot;medical treatment,&quot; &quot;health insurance,&quot; &quot;patient care,&quot; &quot;clinical practice,&quot; &quot;healthcare providers,&quot; &quot;hospitals,&quot; and &quot;public health.&quot;\n",
       "\n",
       "3. **Stakeholders and Entities**: The text should mention key stakeholders in the health care sector, such as doctors, nurses, patients, health care organizations, insurance companies, and government health agencies.\n",
       "\n",
       "4. **Issues and Challenges**: The text should address current issues, challenges, or debates within the health care sector, such as access to care, health care costs, quality of care, health care reform, and technological advancements in medicine.\n",
       "\n",
       "5. **Purpose and Intent**: The intent of the text should be to inform, analyze, or discuss aspects of health care. This could be through providing information, proposing solutions, or critiquing existing systems.\n",
       "\n",
       "6. **Scope and Relevance**: The scope of the text should be relevant to health care, whether it’s a broad overview or a specific focus on a particular aspect of health care, such as mental health services, preventive care, or health care legislation.\n",
       "\n",
       "7. **Data and Evidence**: The text should utilize data, statistics, or research findings related to health care, such as health outcomes, patient demographics, or economic impacts of health policies.\n",
       "\n",
       "8. **Context and Setting**: The context or setting of the text should be related to health care environments, such as hospitals, clinics, health departments, or health-related conferences and events.                  </td></tr>\n",
       "<tr><td>Immigration and Dreamers          </td><td>Determining whether a text is primarily about &quot;Immigration and Dreamers&quot; involves analyzing the content for several key criteria:\n",
       "\n",
       "1. **Focus on Immigration Policies**: The text should discuss immigration laws, policies, or reforms, especially those related to undocumented immigrants and pathways to citizenship.\n",
       "\n",
       "2. **Mention of Dreamers**: The text should explicitly reference &quot;Dreamers,&quot; a term commonly used to describe young undocumented immigrants who were brought to the United States as children and are eligible for the Deferred Action for Childhood Arrivals (DACA) program.\n",
       "\n",
       "3. **Discussion of DACA**: The text should address the DACA program, its implications, legal challenges, or changes in policy affecting Dreamers.\n",
       "\n",
       "4. **Personal Stories or Case Studies**: The text may include personal narratives or case studies of Dreamers, highlighting their experiences, challenges, and contributions to society.\n",
       "\n",
       "5. **Socioeconomic Impact**: The text might explore the impact of immigration and Dreamers on the economy, education, and social services.\n",
       "\n",
       "6. **Advocacy and Activism**: The text could cover advocacy efforts, protests, or movements supporting Dreamers and comprehensive immigration reform.\n",
       "\n",
       "7. **Legal and Political Context**: The text may provide analysis or commentary on the legal and political landscape surrounding immigration and Dreamers, including court rulings or legislative proposals.\n",
       "\n",
       "8. **Cultural and Social Integration**: The text might discuss issues related to the cultural assimilation, identity, and social integration of Dreamers and immigrant communities.                  </td></tr>\n",
       "<tr><td>American Economy                  </td><td>To determine whether a text is primarily about the American economy, you should look for several key criteria that indicate the text&#x27;s focus on this specific topic:\n",
       "\n",
       "1. **Focus on Economic Indicators**: The text should discuss economic indicators such as GDP growth, unemployment rates, inflation, trade balances, consumer spending, and other metrics that measure the economic health of the United States.\n",
       "\n",
       "2. **Discussion of Economic Policies**: Look for analysis or discussion of U.S. government policies that impact the economy, such as fiscal policy (taxation and government spending), monetary policy (Federal Reserve actions), and regulatory changes.\n",
       "\n",
       "3. **Sector Analysis**: The text should cover major sectors of the American economy, such as manufacturing, technology, services, agriculture, and energy, and how these sectors contribute to overall economic performance.\n",
       "\n",
       "4. **Historical Context**: There may be references to historical economic events or trends that have shaped the current state of the American economy, such as the Great Depression, the 2008 financial crisis, or the COVID-19 pandemic.\n",
       "\n",
       "5. **Comparison with Other Economies**: The text might compare the American economy with other national economies, discussing its relative strengths, weaknesses, and global competitiveness.\n",
       "\n",
       "6. **Impact of International Trade**: Discussions about trade policies, tariffs, trade agreements, and their impact on the U.S. economy are critical indicators that the text is focused on the American economy.\n",
       "\n",
       "7. **Labor Market Analysis**: Examination of employment trends, wage growth, labor force participation, and job creation in the United States can signal a focus on the American economy.\n",
       "\n",
       "8. **Investment and Financial Markets**: Analysis of the U.S. stock market, bond market, and investment trends, including foreign investment in the U.S., can also indicate a focus on the American economy.\n",
       "\n",
       "9. **Socioeconomic Issues**: The text may address socioeconomic issues such as income inequality, poverty rates, and their implications for economic growth and stability in the United States.\n",
       "\n",
       "10. **Expert Opinions and Forecasts**: Inclusion of expert analyses, economic forecasts, and opinions from economists and policymakers about the future trajectory of the American economy.                  </td></tr>\n",
       "<tr><td>Religious and Cultural Observances</td><td>When determining whether a text is primarily about Religious and Cultural Observances, consider the following key criteria:\n",
       "\n",
       "1. **Subject Matter**: The text should focus on specific religious or cultural events, rituals, ceremonies, or practices. This can include descriptions of holidays, festivals, rites of passage, or other significant observances within a particular religious or cultural tradition.\n",
       "\n",
       "2. **Terminology and Language**: Look for the use of language and terminology specific to religious or cultural practices. This might include references to sacred texts, religious figures, cultural symbols, or traditional practices.\n",
       "\n",
       "3. **Purpose and Function**: The text should explore the purpose or function of the observances, such as their role in community building, spiritual fulfillment, cultural identity, or moral instruction.\n",
       "\n",
       "4. **Historical and Cultural Context**: The text may provide historical background or cultural context that explains the origins or significance of the observance. This can include discussions of how these practices have evolved over time or their impact on society.\n",
       "\n",
       "5. **Participants and Practices**: The text should detail who participates in these observances and how they are practiced. This can involve descriptions of rituals, customs, attire, food, music, or other elements that are integral to the observance.\n",
       "\n",
       "6. **Impact and Significance**: Consider whether the text discusses the impact of these observances on individuals and communities, including their spiritual, cultural, or social significance.\n",
       "\n",
       "7. **Comparative Analysis**: The text might compare different religious or cultural observances, highlighting similarities and differences in practices, beliefs, or significance across cultures or religions.\n",
       "\n",
       "8. **Narratives and Stories**: The inclusion of narratives or stories related to religious or cultural observances can indicate that the text is focused on this concept, particularly if these stories are used to illustrate the meaning or importance of the observance.                  </td></tr>\n",
       "</tbody>\n",
       "</table>\n",
       "            </div>\n",
       "        </div>\n",
       "        "
      ],
      "text/plain": [
       "Dataset([{'scenario.concept': ['Holocaust Remembrance', 'Nation of Immigrants', 'Economic Plan', 'U.S. Military', 'Freedom and Democracy', 'Education and Teaching', 'Health Care', 'Immigration and Dreamers', 'American Economy', 'Religious and Cultural Observances']}, {'answer.criteria': ['Determining whether a text is primarily about Holocaust Remembrance involves evaluating several key criteria:\\n\\n1. **Subject Matter**: The text should focus on the Holocaust, discussing its historical events, impact, and the importance of remembering it. This includes narratives about survivors, victims, and the atrocities committed during this period.\\n\\n2. **Purpose and Intent**: The text should aim to honor and remember the victims and survivors of the Holocaust. It may emphasize the importance of memory in preventing future genocides or discuss the moral and ethical lessons learned from the Holocaust.\\n\\n3. **Commemorative Elements**: The text might describe or promote activities and events related to Holocaust remembrance, such as memorial services, educational programs, museum exhibits, or Holocaust Remembrance Day (Yom HaShoah).\\n\\n4. **Educational Focus**: The text should aim to educate readers about the Holocaust, its history, and its lasting impact. This might include discussions on the significance of teaching the Holocaust in schools and how it is remembered in different cultures and countries.\\n\\n5. **Reflective and Emotional Tone**: The text often carries a reflective and solemn tone, highlighting personal stories, reflections, and testimonies from survivors, as well as the emotional and psychological impact of the Holocaust on individuals and communities.\\n\\n6. **Use of Symbolic Language**: The text may use language and symbols commonly associated with Holocaust remembrance, such as references to concentration camps, the Star of David, or iconic phrases like \"Never Again.\"\\n\\n7. **Historical Context**: The text should provide historical context about the Holocaust, including dates, locations, key figures, and events that are central to understanding the significance of remembrance.\\n\\n8. **Call to Action**: The text may include a call to action, urging readers to participate in remembrance activities, combat Holocaust denial, or support Holocaust education and awareness initiatives.', 'Determining whether a text is primarily about the concept of a \"Nation of Immigrants\" involves analyzing several key criteria:\\n\\n1. **Historical Context**: The text should discuss the historical aspects of immigration, such as waves of immigration, key events, and policies that have shaped the nation. It might reference specific periods of significant immigration and how these have influenced the nation\\'s development.\\n\\n2. **Cultural Diversity**: The text should emphasize the cultural diversity brought about by immigration, detailing how various immigrant groups have contributed to the cultural, social, and economic fabric of the nation. It might explore the blending of traditions, languages, and customs.\\n\\n3. **Economic Impact**: A focus on the economic contributions of immigrants, such as labor market influences, entrepreneurship, and innovation, is often central to this concept. The text might analyze how immigrants have driven economic growth and filled critical roles in various industries.\\n\\n4. **Policy and Legislation**: The text should cover immigration policies and legislation, discussing how laws have evolved to manage immigration and the impact of these policies on the nation. It might include debates over immigration reform and border control.\\n\\n5. **Identity and National Narrative**: The text should engage with the idea of national identity, exploring how the concept of being a \"Nation of Immigrants\" is woven into the national narrative and identity. It might discuss public perception and the symbolic significance of immigration in shaping the nation\\'s self-image.\\n\\n6. **Challenges and Controversies**: The text might address challenges and controversies related to immigration, such as integration, social tensions, or political debates. It could explore opposing viewpoints and the complexities of immigration in the national discourse.\\n\\n7. **Personal Stories and Experiences**: The inclusion of personal narratives or case studies of immigrants can be a key indicator. These stories illustrate the human aspect of immigration and its impact on individuals and communities.\\n\\n8. **Comparative Analysis**: The text might compare the nation with others in terms of immigration patterns, policies, and cultural integration, highlighting what makes the nation\\'s experience unique.', 'Determining whether a text is primarily about an \"Economic Plan\" involves evaluating several key criteria. Here\\'s a breakdown of these criteria:\\n\\n1. **Purpose and Goals**: The text should clearly outline specific economic objectives or goals. This could include targets for growth, employment, inflation, or fiscal balance. The presence of specific, measurable outcomes related to the economy is a strong indicator.\\n\\n2. **Strategies and Policies**: Look for detailed descriptions of strategies or policies designed to achieve the stated economic goals. This might include tax reforms, monetary policy adjustments, investment in infrastructure, or trade policies.\\n\\n3. **Scope and Framework**: The text should define the scope of the economic plan, including the sectors of the economy it addresses (e.g., agriculture, industry, services) and the time frame over which it aims to operate (short-term, medium-term, long-term).\\n\\n4. **Stakeholder Involvement**: An economic plan often involves various stakeholders, including government entities, private sector participants, and possibly international organizations. The text should mention who is responsible for implementation and who the plan affects.\\n\\n5. **Financial Projections and Resources**: The text should include financial projections, such as budget allocations, expected revenues, or investment levels. It may also discuss the resources required and how they will be mobilized.\\n\\n6. **Challenges and Risks**: A comprehensive economic plan will typically address potential challenges and risks, along with contingency measures or risk management strategies.\\n\\n7. **Evaluation and Monitoring**: The text might outline mechanisms for evaluating the plan\\'s progress and effectiveness, including key performance indicators or regular review processes.\\n\\n8. **Contextual Background**: The text should provide a background on the current economic situation, explaining why the plan is necessary. It might reference existing economic conditions, historical data, or comparative analysis with other economies.\\n\\n9. **Language and Terminology**: The use of specific economic terminology and jargon is a strong indicator. Terms like \"fiscal policy,\" \"GDP growth,\" \"monetary tightening,\" or \"structural reform\" suggest a focus on economic planning.\\n\\n10. **Intended Audience**: Consider who the text is aimed at. An economic plan is often directed at policymakers, economists, investors, or the general public to inform or persuade them about the proposed economic direction.', \"Determining whether a text is primarily about the U.S. Military involves evaluating several key criteria:\\n\\n1. **Subject Matter**: The text should predominantly focus on topics directly related to the U.S. Military, such as its branches (Army, Navy, Air Force, Marine Corps, Space Force, and Coast Guard), operations, missions, or roles.\\n\\n2. **Terminology**: The use of specific military terminology, jargon, or acronyms commonly associated with the U.S. Military can indicate that the text is centered on this subject.\\n\\n3. **Personnel and Leadership**: Discussions about military personnel, including soldiers, officers, and leadership figures like the Secretary of Defense or Joint Chiefs of Staff, often signify a focus on the U.S. Military.\\n\\n4. **Historical Context**: The text may cover historical events, conflicts, or wars involving the U.S. Military, such as World War II, the Vietnam War, or the War on Terror.\\n\\n5. **Policy and Strategy**: Analysis or discussion of U.S. defense policies, military strategies, budget allocations, or legislative actions related to military operations can be a strong indicator.\\n\\n6. **Geopolitical Role**: The text might explore the U.S. Military's role in international relations, alliances (e.g., NATO), or its presence and activities in various regions around the world.\\n\\n7. **Technology and Equipment**: Coverage of military technology, weaponry, equipment, or advancements specific to the U.S. Military can also highlight the primary focus.\\n\\n8. **Training and Exercises**: Descriptions of military training programs, exercises, or readiness assessments specific to U.S. forces.\\n\\n9. **Cultural and Social Impact**: Discussions about the cultural, social, or economic impact of the U.S. Military on American society or its influence abroad.\\n\\n10. **Legal and Ethical Issues**: Examination of legal, ethical, or human rights issues involving the U.S. Military, such as military justice, rules of engagement, or treatment of veterans.\", 'Determining whether a text is primarily about the concept of \"Freedom and Democracy\" involves analyzing several key criteria. Here are some factors to consider:\\n\\n1. **Core Themes and Topics**:\\n   - **Freedom**: Look for discussions on individual liberties, civil rights, autonomy, freedom of speech, religion, and expression. The text may explore the balance between freedom and security or the impact of freedom on personal and societal levels.\\n   - **Democracy**: Check for references to democratic principles such as popular sovereignty, electoral processes, political participation, equality, and representation. The text might cover democratic institutions, governance, and the rule of law.\\n\\n2. **Language and Terminology**:\\n   - Identify specific language that emphasizes freedom and democratic values, such as “liberty,” “rights,” “justice,” “equality,” “participation,” “elections,” “representation,” and “government by the people.”\\n\\n3. **Purpose and Intent**:\\n   - Determine whether the text aims to promote, defend, critique, or analyze freedom and democracy. The intent might be to advocate for democratic reforms, highlight threats to freedom, or explore historical or philosophical perspectives on these concepts.\\n\\n4. **Context and Setting**:\\n   - Consider the historical, political, or cultural context in which the text is situated. Texts set in democratic societies or those undergoing democratic transitions are more likely to focus on these themes. Similarly, discussions about authoritarian regimes may highlight the absence or suppression of freedom and democracy.\\n\\n5. **Key Arguments and Perspectives**:\\n   - Analyze the main arguments or perspectives presented. Texts focusing on the benefits, challenges, or evolution of freedom and democracy often provide detailed analysis or critique of these concepts.\\n\\n6. **Examples and Case Studies**:\\n   - Look for examples or case studies that illustrate democratic practices or the exercise of freedom. These could include historical events, political movements, or significant legal cases related to civil liberties.\\n\\n7. **Audience and Impact**:\\n   - Consider who the intended audience is and what impact the text seeks to have. Texts aimed at policymakers, activists, or educators might prioritize themes of freedom and democracy to inspire action or inform policy.\\n\\n8. **Comparative Analysis**:\\n   - If the text compares different political systems or ideologies, assess whether it contrasts democratic systems with non-democratic ones, highlighting the differences in freedom and governance.', 'When determining whether a text is primarily about Education and Teaching, consider the following key criteria:\\n\\n1. **Subject Matter**: The text should focus on topics related to education systems, teaching methods, learning theories, curriculum development, educational policies, or classroom management. It might also discuss specific subjects taught in schools or universities.\\n\\n2. **Audience**: The intended audience often includes educators, students, policymakers, or individuals interested in educational theory and practice. Texts aimed at parents or guardians about educational involvement may also fit this category.\\n\\n3. **Purpose**: The primary purpose of the text should be to inform, educate, or provide insights into educational practices, challenges, innovations, or reforms. It may aim to improve teaching effectiveness or student learning outcomes.\\n\\n4. **Setting**: References to educational settings such as schools, universities, online learning platforms, or training centers can indicate a focus on education and teaching.\\n\\n5. **Language and Terminology**: The use of specialized language and terminology related to pedagogy, such as \"curriculum,\" \"assessment,\" \"pedagogical strategies,\" or \"learning outcomes,\" suggests an educational focus.\\n\\n6. **Discussion of Roles**: The text may discuss the roles of teachers, educators, administrators, or students, highlighting their experiences, responsibilities, or challenges within the educational context.\\n\\n7. **Case Studies or Examples**: It might include case studies, examples, or anecdotes from educational environments, illustrating teaching techniques or learning experiences.\\n\\n8. **Research and Data**: The presence of educational research, data, or statistics that support discussions on educational trends, student performance, or teaching efficacy can indicate a primary focus on this field.\\n\\n9. **Historical or Cultural Context**: Some texts might explore the history of education, cultural influences on teaching practices, or comparative education studies.\\n\\n10. **Policy and Reform**: Discussions on educational policy, reform initiatives, funding, or legislation are strong indicators of a focus on education and teaching.', 'Determining whether a text is primarily about health care involves analyzing several key criteria. Here are some important factors to consider:\\n\\n1. **Topic and Content**: The central theme of the text should revolve around health care-related subjects. This includes discussions on medical services, health care systems, patient care, public health, health policies, and medical research.\\n\\n2. **Terminology and Language**: The text should include terminology specific to health care, such as \"medical treatment,\" \"health insurance,\" \"patient care,\" \"clinical practice,\" \"healthcare providers,\" \"hospitals,\" and \"public health.\"\\n\\n3. **Stakeholders and Entities**: The text should mention key stakeholders in the health care sector, such as doctors, nurses, patients, health care organizations, insurance companies, and government health agencies.\\n\\n4. **Issues and Challenges**: The text should address current issues, challenges, or debates within the health care sector, such as access to care, health care costs, quality of care, health care reform, and technological advancements in medicine.\\n\\n5. **Purpose and Intent**: The intent of the text should be to inform, analyze, or discuss aspects of health care. This could be through providing information, proposing solutions, or critiquing existing systems.\\n\\n6. **Scope and Relevance**: The scope of the text should be relevant to health care, whether it’s a broad overview or a specific focus on a particular aspect of health care, such as mental health services, preventive care, or health care legislation.\\n\\n7. **Data and Evidence**: The text should utilize data, statistics, or research findings related to health care, such as health outcomes, patient demographics, or economic impacts of health policies.\\n\\n8. **Context and Setting**: The context or setting of the text should be related to health care environments, such as hospitals, clinics, health departments, or health-related conferences and events.', 'Determining whether a text is primarily about \"Immigration and Dreamers\" involves analyzing the content for several key criteria:\\n\\n1. **Focus on Immigration Policies**: The text should discuss immigration laws, policies, or reforms, especially those related to undocumented immigrants and pathways to citizenship.\\n\\n2. **Mention of Dreamers**: The text should explicitly reference \"Dreamers,\" a term commonly used to describe young undocumented immigrants who were brought to the United States as children and are eligible for the Deferred Action for Childhood Arrivals (DACA) program.\\n\\n3. **Discussion of DACA**: The text should address the DACA program, its implications, legal challenges, or changes in policy affecting Dreamers.\\n\\n4. **Personal Stories or Case Studies**: The text may include personal narratives or case studies of Dreamers, highlighting their experiences, challenges, and contributions to society.\\n\\n5. **Socioeconomic Impact**: The text might explore the impact of immigration and Dreamers on the economy, education, and social services.\\n\\n6. **Advocacy and Activism**: The text could cover advocacy efforts, protests, or movements supporting Dreamers and comprehensive immigration reform.\\n\\n7. **Legal and Political Context**: The text may provide analysis or commentary on the legal and political landscape surrounding immigration and Dreamers, including court rulings or legislative proposals.\\n\\n8. **Cultural and Social Integration**: The text might discuss issues related to the cultural assimilation, identity, and social integration of Dreamers and immigrant communities.', \"To determine whether a text is primarily about the American economy, you should look for several key criteria that indicate the text's focus on this specific topic:\\n\\n1. **Focus on Economic Indicators**: The text should discuss economic indicators such as GDP growth, unemployment rates, inflation, trade balances, consumer spending, and other metrics that measure the economic health of the United States.\\n\\n2. **Discussion of Economic Policies**: Look for analysis or discussion of U.S. government policies that impact the economy, such as fiscal policy (taxation and government spending), monetary policy (Federal Reserve actions), and regulatory changes.\\n\\n3. **Sector Analysis**: The text should cover major sectors of the American economy, such as manufacturing, technology, services, agriculture, and energy, and how these sectors contribute to overall economic performance.\\n\\n4. **Historical Context**: There may be references to historical economic events or trends that have shaped the current state of the American economy, such as the Great Depression, the 2008 financial crisis, or the COVID-19 pandemic.\\n\\n5. **Comparison with Other Economies**: The text might compare the American economy with other national economies, discussing its relative strengths, weaknesses, and global competitiveness.\\n\\n6. **Impact of International Trade**: Discussions about trade policies, tariffs, trade agreements, and their impact on the U.S. economy are critical indicators that the text is focused on the American economy.\\n\\n7. **Labor Market Analysis**: Examination of employment trends, wage growth, labor force participation, and job creation in the United States can signal a focus on the American economy.\\n\\n8. **Investment and Financial Markets**: Analysis of the U.S. stock market, bond market, and investment trends, including foreign investment in the U.S., can also indicate a focus on the American economy.\\n\\n9. **Socioeconomic Issues**: The text may address socioeconomic issues such as income inequality, poverty rates, and their implications for economic growth and stability in the United States.\\n\\n10. **Expert Opinions and Forecasts**: Inclusion of expert analyses, economic forecasts, and opinions from economists and policymakers about the future trajectory of the American economy.\", 'When determining whether a text is primarily about Religious and Cultural Observances, consider the following key criteria:\\n\\n1. **Subject Matter**: The text should focus on specific religious or cultural events, rituals, ceremonies, or practices. This can include descriptions of holidays, festivals, rites of passage, or other significant observances within a particular religious or cultural tradition.\\n\\n2. **Terminology and Language**: Look for the use of language and terminology specific to religious or cultural practices. This might include references to sacred texts, religious figures, cultural symbols, or traditional practices.\\n\\n3. **Purpose and Function**: The text should explore the purpose or function of the observances, such as their role in community building, spiritual fulfillment, cultural identity, or moral instruction.\\n\\n4. **Historical and Cultural Context**: The text may provide historical background or cultural context that explains the origins or significance of the observance. This can include discussions of how these practices have evolved over time or their impact on society.\\n\\n5. **Participants and Practices**: The text should detail who participates in these observances and how they are practiced. This can involve descriptions of rituals, customs, attire, food, music, or other elements that are integral to the observance.\\n\\n6. **Impact and Significance**: Consider whether the text discusses the impact of these observances on individuals and communities, including their spiritual, cultural, or social significance.\\n\\n7. **Comparative Analysis**: The text might compare different religious or cultural observances, highlighting similarities and differences in practices, beliefs, or significance across cultures or religions.\\n\\n8. **Narratives and Stories**: The inclusion of narratives or stories related to religious or cultural observances can indicate that the text is focused on this concept, particularly if these stories are used to illustrate the meaning or importance of the observance.']}])"
      ]
     },
     "execution_count": 16,
     "metadata": {},
     "output_type": "execute_result"
    }
   ],
   "source": [
    "results.select(\"concept\", \"criteria\")"
   ]
  },
  {
   "cell_type": "markdown",
   "id": "bac4f9a8-a33e-4e5b-8a0a-1724289c442f",
   "metadata": {
    "editable": true,
    "slideshow": {
     "slide_type": ""
    },
    "tags": []
   },
   "source": [
    "## Identify the concepts in each text and evaluate based on the criteria\n",
    "Finally, we can use the concepts and the criteria to run another question where we prompt the model to evaulate each text. Question types `QuestionLinearScale`, `QuestionRank` or `QuestionNumerical` may be appropriate where we want to return a score:"
   ]
  },
  {
   "cell_type": "code",
   "execution_count": 17,
   "id": "4d63330d-9014-48e2-98b1-75d3a58eed1c",
   "metadata": {
    "editable": true,
    "slideshow": {
     "slide_type": ""
    },
    "tags": []
   },
   "outputs": [],
   "source": [
    "from edsl import QuestionLinearScale\n",
    "\n",
    "q_score = QuestionLinearScale(\n",
    "    question_name=\"score\",\n",
    "    question_text=\"\"\"Consider the following concept and criteria for determining whether \n",
    "    a given text addresses this concept. Then score how well the following text satisfies\n",
    "    the criteria for the concept.\n",
    "    Concept: {{ concept }}\n",
    "    Criteria: {{ criteria }}\n",
    "    Text: {{ text }}\"\"\",\n",
    "    question_options=[0, 1, 2, 3, 4, 5, 6, 7, 8, 9, 10],\n",
    "    option_labels={0: \"Not at all\", 10: \"Very well\"},  # Optional\n",
    ")"
   ]
  },
  {
   "cell_type": "markdown",
   "id": "375e4826-8e3f-4ba2-b4da-e67607bd5bfa",
   "metadata": {
    "editable": true,
    "slideshow": {
     "slide_type": ""
    },
    "tags": []
   },
   "source": [
    "Here we want to use both the texts and the concepts and corresponding criteria together as scenarios of the question:"
   ]
  },
  {
   "cell_type": "code",
   "execution_count": 18,
   "id": "583506b3-0b7d-4051-bfc6-ebcbf605865c",
   "metadata": {
    "editable": true,
    "slideshow": {
     "slide_type": ""
    },
    "tags": []
   },
   "outputs": [
    {
     "data": {
      "text/plain": [
       "10"
      ]
     },
     "execution_count": 18,
     "metadata": {},
     "output_type": "execute_result"
    }
   ],
   "source": [
    "concepts_criteria = [\n",
    "    list(pair)\n",
    "    for pair in zip(\n",
    "        results.select(\"concept\").to_list(), results.select(\"criteria\").to_list()\n",
    "    )\n",
    "]\n",
    "len(concepts_criteria)"
   ]
  },
  {
   "cell_type": "code",
   "execution_count": 19,
   "id": "5d096830-b6ba-41bf-a829-00368bce4b64",
   "metadata": {
    "editable": true,
    "slideshow": {
     "slide_type": ""
    },
    "tags": []
   },
   "outputs": [],
   "source": [
    "from edsl import ScenarioList, Scenario\n",
    "\n",
    "scenarios = ScenarioList(\n",
    "    Scenario({\"text\": text, \"concept\": concept, \"criteria\": criteria})\n",
    "    for text in texts\n",
    "    for [concept, criteria] in concepts_criteria\n",
    ")"
   ]
  },
  {
   "cell_type": "code",
   "execution_count": 20,
   "id": "d0fb785c-95f9-4514-8f26-37e93e0f8137",
   "metadata": {
    "editable": true,
    "slideshow": {
     "slide_type": ""
    },
    "tags": []
   },
   "outputs": [
    {
     "data": {
      "text/html": [
       "\n",
       "            <div style=\"border: 1px solid #ccc; margin: 10px 0; max-width: 800px;\">\n",
       "                <div onclick=\"document.getElementById('content-34f2fe16-bc62-4137-82c4-19ba0c3eadbe').style.display = document.getElementById('content-34f2fe16-bc62-4137-82c4-19ba0c3eadbe').style.display === 'none' ? 'block' : 'none';\n",
       "                             document.getElementById('arrow-34f2fe16-bc62-4137-82c4-19ba0c3eadbe').innerHTML = document.getElementById('content-34f2fe16-bc62-4137-82c4-19ba0c3eadbe').style.display === 'none' ? '▶' : '▼';\"\n",
       "                     style=\"padding: 10px; background: #f5f5f5; cursor: pointer;\">\n",
       "                    <span id=\"arrow-34f2fe16-bc62-4137-82c4-19ba0c3eadbe\">▼</span> Remote Job Log (2024-12-14 10:20:27)\n",
       "                </div>\n",
       "                <div id=\"content-34f2fe16-bc62-4137-82c4-19ba0c3eadbe\" style=\"padding: 10px; display: block;\">\n",
       "                    <div style=\"border-left: 3px solid #3b82f6; padding: 5px 10px; margin: 5px 0;\">Remote inference activated. Sending job to server...</div>\n",
       "<div style=\"border-left: 3px solid #3b82f6; padding: 5px 10px; margin: 5px 0;\">Your survey is running at the Expected Parrot server...</div>\n",
       "<div style=\"border-left: 3px solid #3b82f6; padding: 5px 10px; margin: 5px 0;\">Job sent to server. (Job uuid=9d10477f-7bb1-438c-860b-023e5bd42d75).</div>\n",
       "<div style=\"border-left: 3px solid #3b82f6; padding: 5px 10px; margin: 5px 0;\">Job details are available at your Coop account <a href=\"https://www.expectedparrot.com/home/remote-inferencehttps://www.expectedparrot.com/home/remote-inference\" target=\"_blank\" style=\"color: #3b82f6; text-decoration: underline;\">https://www.expectedparrot.com/home/remote-inferencehttps://www.expectedparrot.com/home/remote-inference</a></div>\n",
       "<div style=\"border-left: 3px solid #3b82f6; padding: 5px 10px; margin: 5px 0;\">View job progress here: <a href=\"https://www.expectedparrot.com/home/remote-job-progress/9d10477f-7bb1-438c-860b-023e5bd42d75\" target=\"_blank\" style=\"color: #3b82f6; text-decoration: underline;\">https://www.expectedparrot.com/home/remote-job-progress/9d10477f-7bb1-438c-860b-023e5bd42d75</a></div>\n",
       "<div style=\"border-left: 3px solid #3b82f6; padding: 5px 10px; margin: 5px 0;\">Job status: queued - last update: 2024-12-14 10:20:02 AM</div>\n",
       "<div style=\"border-left: 3px solid #3b82f6; padding: 5px 10px; margin: 5px 0;\">Job status: queued - last update: 2024-12-14 10:20:06 AM</div>\n",
       "<div style=\"border-left: 3px solid #3b82f6; padding: 5px 10px; margin: 5px 0;\">Job status: running - last update: 2024-12-14 10:20:09 AM</div>\n",
       "<div style=\"border-left: 3px solid #3b82f6; padding: 5px 10px; margin: 5px 0;\">Job status: running - last update: 2024-12-14 10:20:13 AM</div>\n",
       "<div style=\"border-left: 3px solid #3b82f6; padding: 5px 10px; margin: 5px 0;\">Job status: running - last update: 2024-12-14 10:20:16 AM</div>\n",
       "<div style=\"border-left: 3px solid #3b82f6; padding: 5px 10px; margin: 5px 0;\">Job status: running - last update: 2024-12-14 10:20:19 AM</div>\n",
       "<div style=\"border-left: 3px solid #3b82f6; padding: 5px 10px; margin: 5px 0;\">Job status: running - last update: 2024-12-14 10:20:23 AM</div>\n",
       "<div style=\"border-left: 3px solid #22c55e; padding: 5px 10px; margin: 5px 0;\">Job completed and Results stored on Coop: <a href=\"https://www.expectedparrot.com/content/be6244c4-920f-4d67-8353-5e4de151e38f\" target=\"_blank\" style=\"color: #3b82f6; text-decoration: underline;\">https://www.expectedparrot.com/content/be6244c4-920f-4d67-8353-5e4de151e38f</a></div>\n",
       "                </div>\n",
       "            </div>\n",
       "        "
      ],
      "text/plain": [
       "<IPython.core.display.HTML object>"
      ]
     },
     "metadata": {},
     "output_type": "display_data"
    }
   ],
   "source": [
    "results = q_score.by(scenarios).run()"
   ]
  },
  {
   "cell_type": "markdown",
   "id": "f6a68701-36b5-4be2-a0df-3977e152c1c7",
   "metadata": {
    "editable": true,
    "slideshow": {
     "slide_type": ""
    },
    "tags": []
   },
   "source": [
    "We can filter the results based on the responses--e.g., here we just show the non-zero scores:"
   ]
  },
  {
   "cell_type": "code",
   "execution_count": 21,
   "id": "930dd52e-8701-4a54-b8e4-004480887d10",
   "metadata": {
    "editable": true,
    "slideshow": {
     "slide_type": ""
    },
    "tags": []
   },
   "outputs": [
    {
     "data": {
      "text/html": [
       "\n",
       "        <style>\n",
       "            :root {\n",
       "  --containerHeight: 400px;\n",
       "  --headerColor: blue;\n",
       "}\n",
       "\n",
       ".table-container {\n",
       "    height: var(--containerHeight) !important;\n",
       "    width: 100%;\n",
       "    overflow: auto;  /* This enables both horizontal and vertical scrolling */\n",
       "    border: 1px solid #d4d4d4;\n",
       "    background: transparent;\n",
       "    position: relative;  /* Create stacking context for sticky header */\n",
       "}\n",
       "\n",
       ".scroll-table {\n",
       "    /* Remove width: 100% to prevent table from being constrained */\n",
       "    /* min-width: 100% ensures table takes at least full container width */\n",
       "    min-width: 100%;\n",
       "    border-collapse: separate;\n",
       "    border-spacing: 4px;\n",
       "    background: transparent;\n",
       "    table-layout: auto;  /* Allow table to size based on content */\n",
       "}\n",
       "\n",
       ".scroll-table th {\n",
       "    background: transparent;  /* Semi-transparent background to ensure text readability */\n",
       "    position: sticky;\n",
       "    top: 0;\n",
       "    z-index: 1;\n",
       "    text-align: left !important;\n",
       "    padding: 8px;\n",
       "    font-weight: bold;\n",
       "    white-space: nowrap;  /* Prevent header text from wrapping */\n",
       "    min-width: 100px;    /* Ensure minimum column width */\n",
       "    backdrop-filter: blur(8px);  /* Optional: adds extra clarity */\n",
       "    color: var(--headerColor);\n",
       "}\n",
       "\n",
       ".scroll-table td {\n",
       "    padding: 8px;\n",
       "    text-align: left !important;\n",
       "    white-space: pre-wrap;\n",
       "    word-wrap: break-word;\n",
       "    vertical-align: top;\n",
       "    color: inherit;\n",
       "    border-bottom: none;\n",
       "    background: transparent;\n",
       "    min-width: 100px;    /* Match header minimum width */\n",
       "}\n",
       "\n",
       ".scroll-table tbody tr:hover {\n",
       "    background: transparent;\n",
       "}\n",
       "\n",
       "/* Additional rule to ensure header background is truly transparent */\n",
       ".scroll-table thead tr {\n",
       "    background: transparent !important;\n",
       "}\n",
       "\n",
       "/* Add shadow to indicate scrollable content */\n",
       ".table-container::after {\n",
       "    content: '';\n",
       "    position: absolute;\n",
       "    top: 0;\n",
       "    right: 0;\n",
       "    bottom: 0;\n",
       "    width: 5px;\n",
       "    background: linear-gradient(to right, transparent, rgba(242, 6, 6, 0.1));\n",
       "    pointer-events: none;\n",
       "    opacity: 0;\n",
       "    transition: opacity 0.3s;\n",
       "}\n",
       "\n",
       ".table-container:hover::after {\n",
       "    opacity: 1;\n",
       "}\n",
       "\n",
       "/* Handle Jupyter notebook specific styling */\n",
       ".jp-OutputArea-output .table-container {\n",
       "    max-width: 100%;\n",
       "    margin: 0;\n",
       "    overflow-x: auto;\n",
       "}\n",
       "        </style>\n",
       "        <div class=\"table-container\">\n",
       "            <div class=\"scroll-table-wrapper\">\n",
       "                <table class=\"scroll-table\">\n",
       "<thead>\n",
       "<tr><th>scenario.text                                                                                                                                                                                                                                                                          </th><th>scenario.concept                  </th><th style=\"text-align: right;\">  answer.score</th></tr>\n",
       "</thead>\n",
       "<tbody>\n",
       "<tr><td>Tune in as I deliver the keynote address at the U.S. Holocaust Memorial Museum’s Annual Days of Remembrance ceremony in Washington, D.C.                                                                                                                                               </td><td>Holocaust Remembrance             </td><td style=\"text-align: right;\">             5</td></tr>\n",
       "<tr><td>Tune in as I deliver the keynote address at the U.S. Holocaust Memorial Museum’s Annual Days of Remembrance ceremony in Washington, D.C.                                                                                                                                               </td><td>Holocaust Remembrance             </td><td style=\"text-align: right;\">             5</td></tr>\n",
       "<tr><td>Tune in as I deliver the keynote address at the U.S. Holocaust Memorial Museum’s Annual Days of Remembrance ceremony in Washington, D.C.                                                                                                                                               </td><td>Freedom and Democracy             </td><td style=\"text-align: right;\">             1</td></tr>\n",
       "<tr><td>Tune in as I deliver the keynote address at the U.S. Holocaust Memorial Museum’s Annual Days of Remembrance ceremony in Washington, D.C.                                                                                                                                               </td><td>Freedom and Democracy             </td><td style=\"text-align: right;\">             1</td></tr>\n",
       "<tr><td>Tune in as I deliver the keynote address at the U.S. Holocaust Memorial Museum’s Annual Days of Remembrance ceremony in Washington, D.C.                                                                                                                                               </td><td>Religious and Cultural Observances</td><td style=\"text-align: right;\">             3</td></tr>\n",
       "<tr><td>Tune in as I deliver the keynote address at the U.S. Holocaust Memorial Museum’s Annual Days of Remembrance ceremony in Washington, D.C.                                                                                                                                               </td><td>Religious and Cultural Observances</td><td style=\"text-align: right;\">             3</td></tr>\n",
       "<tr><td>We’re a nation of immigrants. A nation of dreamers. And as Cinco de Mayo represents, a nation of freedom.                                                                                                                                                                              </td><td>Nation of Immigrants              </td><td style=\"text-align: right;\">             1</td></tr>\n",
       "<tr><td>We’re a nation of immigrants. A nation of dreamers. And as Cinco de Mayo represents, a nation of freedom.                                                                                                                                                                              </td><td>Freedom and Democracy             </td><td style=\"text-align: right;\">             2</td></tr>\n",
       "<tr><td>We’re a nation of immigrants. A nation of dreamers. And as Cinco de Mayo represents, a nation of freedom.                                                                                                                                                                              </td><td>Freedom and Democracy             </td><td style=\"text-align: right;\">             2</td></tr>\n",
       "<tr><td>We’re a nation of immigrants. A nation of dreamers. And as Cinco de Mayo represents, a nation of freedom.                                                                                                                                                                              </td><td>Immigration and Dreamers          </td><td style=\"text-align: right;\">             1</td></tr>\n",
       "<tr><td>We’re a nation of immigrants. A nation of dreamers. And as Cinco de Mayo represents, a nation of freedom.                                                                                                                                                                              </td><td>Immigration and Dreamers          </td><td style=\"text-align: right;\">             1</td></tr>\n",
       "<tr><td>We’re a nation of immigrants. A nation of dreamers. And as Cinco de Mayo represents, a nation of freedom.                                                                                                                                                                              </td><td>Religious and Cultural Observances</td><td style=\"text-align: right;\">             1</td></tr>\n",
       "<tr><td>Medicare is stronger and Social Security remains strong. My economic plan has helped extend Medicare solvency by a decade. And I am committed to extending Social Security solvency by making the rich pay their fair share.                                                           </td><td>Economic Plan                     </td><td style=\"text-align: right;\">             3</td></tr>\n",
       "<tr><td>Medicare is stronger and Social Security remains strong. My economic plan has helped extend Medicare solvency by a decade. And I am committed to extending Social Security solvency by making the rich pay their fair share.                                                           </td><td>Economic Plan                     </td><td style=\"text-align: right;\">             3</td></tr>\n",
       "<tr><td>Medicare is stronger and Social Security remains strong. My economic plan has helped extend Medicare solvency by a decade. And I am committed to extending Social Security solvency by making the rich pay their fair share.                                                           </td><td>Freedom and Democracy             </td><td style=\"text-align: right;\">             1</td></tr>\n",
       "<tr><td>Medicare is stronger and Social Security remains strong. My economic plan has helped extend Medicare solvency by a decade. And I am committed to extending Social Security solvency by making the rich pay their fair share.                                                           </td><td>Health Care                       </td><td style=\"text-align: right;\">             3</td></tr>\n",
       "<tr><td>Medicare is stronger and Social Security remains strong. My economic plan has helped extend Medicare solvency by a decade. And I am committed to extending Social Security solvency by making the rich pay their fair share.                                                           </td><td>Health Care                       </td><td style=\"text-align: right;\">             3</td></tr>\n",
       "<tr><td>Medicare is stronger and Social Security remains strong. My economic plan has helped extend Medicare solvency by a decade. And I am committed to extending Social Security solvency by making the rich pay their fair share.                                                           </td><td>American Economy                  </td><td style=\"text-align: right;\">             1</td></tr>\n",
       "<tr><td>Today, the Army Black Knights are taking home West Point’s 10th Commander-in-Chief Trophy. They should be proud. I’m proud of them too – not for the wins, but because after every game they hang up their uniforms and put on another: one representing the United States.            </td><td>U.S. Military                     </td><td style=\"text-align: right;\">             3</td></tr>\n",
       "<tr><td>This Holocaust Remembrance Day, we mourn the six million Jews who were killed by the Nazis during one of the darkest chapters in human history. And we recommit to heeding the lessons of the Shoah and realizing the responsibility of &#x27;Never Again.&#x27;                                 </td><td>Holocaust Remembrance             </td><td style=\"text-align: right;\">             7</td></tr>\n",
       "<tr><td>This Holocaust Remembrance Day, we mourn the six million Jews who were killed by the Nazis during one of the darkest chapters in human history. And we recommit to heeding the lessons of the Shoah and realizing the responsibility of &#x27;Never Again.&#x27;                                 </td><td>Holocaust Remembrance             </td><td style=\"text-align: right;\">             7</td></tr>\n",
       "<tr><td>This Holocaust Remembrance Day, we mourn the six million Jews who were killed by the Nazis during one of the darkest chapters in human history. And we recommit to heeding the lessons of the Shoah and realizing the responsibility of &#x27;Never Again.&#x27;                                 </td><td>Freedom and Democracy             </td><td style=\"text-align: right;\">             1</td></tr>\n",
       "<tr><td>This Holocaust Remembrance Day, we mourn the six million Jews who were killed by the Nazis during one of the darkest chapters in human history. And we recommit to heeding the lessons of the Shoah and realizing the responsibility of &#x27;Never Again.&#x27;                                 </td><td>Religious and Cultural Observances</td><td style=\"text-align: right;\">             3</td></tr>\n",
       "<tr><td>This Holocaust Remembrance Day, we mourn the six million Jews who were killed by the Nazis during one of the darkest chapters in human history. And we recommit to heeding the lessons of the Shoah and realizing the responsibility of &#x27;Never Again.&#x27;                                 </td><td>Religious and Cultural Observances</td><td style=\"text-align: right;\">             3</td></tr>\n",
       "<tr><td>The recipients of the Presidential Medal of Freedom haven&#x27;t just kept faith in freedom. They kept all of America&#x27;s faith in a better tomorrow.                                                                                                                                         </td><td>Freedom and Democracy             </td><td style=\"text-align: right;\">             3</td></tr>\n",
       "<tr><td>The recipients of the Presidential Medal of Freedom haven&#x27;t just kept faith in freedom. They kept all of America&#x27;s faith in a better tomorrow.                                                                                                                                         </td><td>Freedom and Democracy             </td><td style=\"text-align: right;\">             3</td></tr>\n",
       "<tr><td>Like Jill says, &#x27;Teaching isn’t just a job. It’s a calling.&#x27; She knows that in her bones, and I know every educator who joined us at the White House for the first-ever Teacher State Dinner lives out that truth every day.                                                           </td><td>Education and Teaching            </td><td style=\"text-align: right;\">             2</td></tr>\n",
       "<tr><td>Jill and I send warm wishes to Orthodox Christian communities around the world as they celebrate Easter. May the Lord bless and keep you this Easter Sunday and in the year ahead.                                                                                                     </td><td>Religious and Cultural Observances</td><td style=\"text-align: right;\">             1</td></tr>\n",
       "<tr><td>Dreamers are our loved ones, nurses, teachers, and small business owners – they deserve the promise of health care just like all of us. Today, my Administration is making that real by expanding affordable health coverage through the Affordable Care Act to DACA recipients.       </td><td>Nation of Immigrants              </td><td style=\"text-align: right;\">             3</td></tr>\n",
       "<tr><td>Dreamers are our loved ones, nurses, teachers, and small business owners – they deserve the promise of health care just like all of us. Today, my Administration is making that real by expanding affordable health coverage through the Affordable Care Act to DACA recipients.       </td><td>Nation of Immigrants              </td><td style=\"text-align: right;\">             3</td></tr>\n",
       "<tr><td>Dreamers are our loved ones, nurses, teachers, and small business owners – they deserve the promise of health care just like all of us. Today, my Administration is making that real by expanding affordable health coverage through the Affordable Care Act to DACA recipients.       </td><td>Freedom and Democracy             </td><td style=\"text-align: right;\">             1</td></tr>\n",
       "<tr><td>Dreamers are our loved ones, nurses, teachers, and small business owners – they deserve the promise of health care just like all of us. Today, my Administration is making that real by expanding affordable health coverage through the Affordable Care Act to DACA recipients.       </td><td>Health Care                       </td><td style=\"text-align: right;\">             5</td></tr>\n",
       "<tr><td>Dreamers are our loved ones, nurses, teachers, and small business owners – they deserve the promise of health care just like all of us. Today, my Administration is making that real by expanding affordable health coverage through the Affordable Care Act to DACA recipients.       </td><td>Health Care                       </td><td style=\"text-align: right;\">             5</td></tr>\n",
       "<tr><td>Dreamers are our loved ones, nurses, teachers, and small business owners – they deserve the promise of health care just like all of us. Today, my Administration is making that real by expanding affordable health coverage through the Affordable Care Act to DACA recipients.       </td><td>Immigration and Dreamers          </td><td style=\"text-align: right;\">             5</td></tr>\n",
       "<tr><td>Dreamers are our loved ones, nurses, teachers, and small business owners – they deserve the promise of health care just like all of us. Today, my Administration is making that real by expanding affordable health coverage through the Affordable Care Act to DACA recipients.       </td><td>Immigration and Dreamers          </td><td style=\"text-align: right;\">             5</td></tr>\n",
       "<tr><td>With today’s report of 175,000 new jobs, the American comeback continues. Congressional Republicans are fighting to cut taxes for billionaires and let special interests rip folks off, I&#x27;m focused on job creation and building an economy that works for the families I grew up with.</td><td>Economic Plan                     </td><td style=\"text-align: right;\">             1</td></tr>\n",
       "<tr><td>With today’s report of 175,000 new jobs, the American comeback continues. Congressional Republicans are fighting to cut taxes for billionaires and let special interests rip folks off, I&#x27;m focused on job creation and building an economy that works for the families I grew up with.</td><td>Freedom and Democracy             </td><td style=\"text-align: right;\">             1</td></tr>\n",
       "<tr><td>With today’s report of 175,000 new jobs, the American comeback continues. Congressional Republicans are fighting to cut taxes for billionaires and let special interests rip folks off, I&#x27;m focused on job creation and building an economy that works for the families I grew up with.</td><td>American Economy                  </td><td style=\"text-align: right;\">             3</td></tr>\n",
       "<tr><td>With today’s report of 175,000 new jobs, the American comeback continues. Congressional Republicans are fighting to cut taxes for billionaires and let special interests rip folks off, I&#x27;m focused on job creation and building an economy that works for the families I grew up with.</td><td>American Economy                  </td><td style=\"text-align: right;\">             3</td></tr>\n",
       "</tbody>\n",
       "</table>\n",
       "            </div>\n",
       "        </div>\n",
       "        "
      ],
      "text/plain": [
       "Dataset([{'scenario.text': ['Tune in as I deliver the keynote address at the U.S. Holocaust Memorial Museum’s Annual Days of Remembrance ceremony in Washington, D.C.', 'Tune in as I deliver the keynote address at the U.S. Holocaust Memorial Museum’s Annual Days of Remembrance ceremony in Washington, D.C.', 'Tune in as I deliver the keynote address at the U.S. Holocaust Memorial Museum’s Annual Days of Remembrance ceremony in Washington, D.C.', 'Tune in as I deliver the keynote address at the U.S. Holocaust Memorial Museum’s Annual Days of Remembrance ceremony in Washington, D.C.', 'Tune in as I deliver the keynote address at the U.S. Holocaust Memorial Museum’s Annual Days of Remembrance ceremony in Washington, D.C.', 'Tune in as I deliver the keynote address at the U.S. Holocaust Memorial Museum’s Annual Days of Remembrance ceremony in Washington, D.C.', 'We’re a nation of immigrants. A nation of dreamers. And as Cinco de Mayo represents, a nation of freedom.', 'We’re a nation of immigrants. A nation of dreamers. And as Cinco de Mayo represents, a nation of freedom.', 'We’re a nation of immigrants. A nation of dreamers. And as Cinco de Mayo represents, a nation of freedom.', 'We’re a nation of immigrants. A nation of dreamers. And as Cinco de Mayo represents, a nation of freedom.', 'We’re a nation of immigrants. A nation of dreamers. And as Cinco de Mayo represents, a nation of freedom.', 'We’re a nation of immigrants. A nation of dreamers. And as Cinco de Mayo represents, a nation of freedom.', 'Medicare is stronger and Social Security remains strong. My economic plan has helped extend Medicare solvency by a decade. And I am committed to extending Social Security solvency by making the rich pay their fair share.', 'Medicare is stronger and Social Security remains strong. My economic plan has helped extend Medicare solvency by a decade. And I am committed to extending Social Security solvency by making the rich pay their fair share.', 'Medicare is stronger and Social Security remains strong. My economic plan has helped extend Medicare solvency by a decade. And I am committed to extending Social Security solvency by making the rich pay their fair share.', 'Medicare is stronger and Social Security remains strong. My economic plan has helped extend Medicare solvency by a decade. And I am committed to extending Social Security solvency by making the rich pay their fair share.', 'Medicare is stronger and Social Security remains strong. My economic plan has helped extend Medicare solvency by a decade. And I am committed to extending Social Security solvency by making the rich pay their fair share.', 'Medicare is stronger and Social Security remains strong. My economic plan has helped extend Medicare solvency by a decade. And I am committed to extending Social Security solvency by making the rich pay their fair share.', 'Today, the Army Black Knights are taking home West Point’s 10th Commander-in-Chief Trophy. They should be proud. I’m proud of them too – not for the wins, but because after every game they hang up their uniforms and put on another: one representing the United States.', \"This Holocaust Remembrance Day, we mourn the six million Jews who were killed by the Nazis during one of the darkest chapters in human history. And we recommit to heeding the lessons of the Shoah and realizing the responsibility of 'Never Again.'\", \"This Holocaust Remembrance Day, we mourn the six million Jews who were killed by the Nazis during one of the darkest chapters in human history. And we recommit to heeding the lessons of the Shoah and realizing the responsibility of 'Never Again.'\", \"This Holocaust Remembrance Day, we mourn the six million Jews who were killed by the Nazis during one of the darkest chapters in human history. And we recommit to heeding the lessons of the Shoah and realizing the responsibility of 'Never Again.'\", \"This Holocaust Remembrance Day, we mourn the six million Jews who were killed by the Nazis during one of the darkest chapters in human history. And we recommit to heeding the lessons of the Shoah and realizing the responsibility of 'Never Again.'\", \"This Holocaust Remembrance Day, we mourn the six million Jews who were killed by the Nazis during one of the darkest chapters in human history. And we recommit to heeding the lessons of the Shoah and realizing the responsibility of 'Never Again.'\", \"The recipients of the Presidential Medal of Freedom haven't just kept faith in freedom. They kept all of America's faith in a better tomorrow.\", \"The recipients of the Presidential Medal of Freedom haven't just kept faith in freedom. They kept all of America's faith in a better tomorrow.\", \"Like Jill says, 'Teaching isn’t just a job. It’s a calling.' She knows that in her bones, and I know every educator who joined us at the White House for the first-ever Teacher State Dinner lives out that truth every day.\", 'Jill and I send warm wishes to Orthodox Christian communities around the world as they celebrate Easter. May the Lord bless and keep you this Easter Sunday and in the year ahead.', 'Dreamers are our loved ones, nurses, teachers, and small business owners – they deserve the promise of health care just like all of us. Today, my Administration is making that real by expanding affordable health coverage through the Affordable Care Act to DACA recipients.', 'Dreamers are our loved ones, nurses, teachers, and small business owners – they deserve the promise of health care just like all of us. Today, my Administration is making that real by expanding affordable health coverage through the Affordable Care Act to DACA recipients.', 'Dreamers are our loved ones, nurses, teachers, and small business owners – they deserve the promise of health care just like all of us. Today, my Administration is making that real by expanding affordable health coverage through the Affordable Care Act to DACA recipients.', 'Dreamers are our loved ones, nurses, teachers, and small business owners – they deserve the promise of health care just like all of us. Today, my Administration is making that real by expanding affordable health coverage through the Affordable Care Act to DACA recipients.', 'Dreamers are our loved ones, nurses, teachers, and small business owners – they deserve the promise of health care just like all of us. Today, my Administration is making that real by expanding affordable health coverage through the Affordable Care Act to DACA recipients.', 'Dreamers are our loved ones, nurses, teachers, and small business owners – they deserve the promise of health care just like all of us. Today, my Administration is making that real by expanding affordable health coverage through the Affordable Care Act to DACA recipients.', 'Dreamers are our loved ones, nurses, teachers, and small business owners – they deserve the promise of health care just like all of us. Today, my Administration is making that real by expanding affordable health coverage through the Affordable Care Act to DACA recipients.', \"With today’s report of 175,000 new jobs, the American comeback continues. Congressional Republicans are fighting to cut taxes for billionaires and let special interests rip folks off, I'm focused on job creation and building an economy that works for the families I grew up with.\", \"With today’s report of 175,000 new jobs, the American comeback continues. Congressional Republicans are fighting to cut taxes for billionaires and let special interests rip folks off, I'm focused on job creation and building an economy that works for the families I grew up with.\", \"With today’s report of 175,000 new jobs, the American comeback continues. Congressional Republicans are fighting to cut taxes for billionaires and let special interests rip folks off, I'm focused on job creation and building an economy that works for the families I grew up with.\", \"With today’s report of 175,000 new jobs, the American comeback continues. Congressional Republicans are fighting to cut taxes for billionaires and let special interests rip folks off, I'm focused on job creation and building an economy that works for the families I grew up with.\"]}, {'scenario.concept': ['Holocaust Remembrance', 'Holocaust Remembrance', 'Freedom and Democracy', 'Freedom and Democracy', 'Religious and Cultural Observances', 'Religious and Cultural Observances', 'Nation of Immigrants', 'Freedom and Democracy', 'Freedom and Democracy', 'Immigration and Dreamers', 'Immigration and Dreamers', 'Religious and Cultural Observances', 'Economic Plan', 'Economic Plan', 'Freedom and Democracy', 'Health Care', 'Health Care', 'American Economy', 'U.S. Military', 'Holocaust Remembrance', 'Holocaust Remembrance', 'Freedom and Democracy', 'Religious and Cultural Observances', 'Religious and Cultural Observances', 'Freedom and Democracy', 'Freedom and Democracy', 'Education and Teaching', 'Religious and Cultural Observances', 'Nation of Immigrants', 'Nation of Immigrants', 'Freedom and Democracy', 'Health Care', 'Health Care', 'Immigration and Dreamers', 'Immigration and Dreamers', 'Economic Plan', 'Freedom and Democracy', 'American Economy', 'American Economy']}, {'answer.score': [5, 5, 1, 1, 3, 3, 1, 2, 2, 1, 1, 1, 3, 3, 1, 3, 3, 1, 3, 7, 7, 1, 3, 3, 3, 3, 2, 1, 3, 3, 1, 5, 5, 5, 5, 1, 1, 3, 3]}])"
      ]
     },
     "execution_count": 21,
     "metadata": {},
     "output_type": "execute_result"
    }
   ],
   "source": [
    "(\n",
    "    results.filter(\"score > 0\")\n",
    "    .select(\"text\", \"concept\", \"score\")\n",
    ")"
   ]
  },
  {
   "cell_type": "markdown",
   "id": "e2006a94-66cd-4924-b82c-7bbf3d3829c9",
   "metadata": {
    "editable": true,
    "slideshow": {
     "slide_type": ""
    },
    "tags": []
   },
   "source": [
    "## Posting to the Coop\n",
    "The [Coop](https://www.expectedparrot.com/content/explore) is a platform for creating, storing and sharing LLM-based research.\n",
    "It is fully integrated with EDSL and accessible from your workspace or Coop account page.\n",
    "Learn more about [creating an account](https://www.expectedparrot.com/login) and [using the Coop](https://docs.expectedparrot.com/en/latest/coop.html).\n",
    "\n",
    "Here we post the scenarios, survey and results from above, and this notebook:"
   ]
  },
  {
   "cell_type": "code",
   "execution_count": 22,
   "id": "2e02dfeb-2cf6-4396-b174-064b4b81d70f",
   "metadata": {
    "editable": true,
    "slideshow": {
     "slide_type": ""
    },
    "tags": [
     "skip-execution"
    ]
   },
   "outputs": [
    {
     "data": {
      "text/plain": [
       "{'description': 'Example scenarios',\n",
       " 'object_type': 'scenario_list',\n",
       " 'url': 'https://www.expectedparrot.com/content/81641a37-dc54-4413-845b-0443e1bb5f99',\n",
       " 'uuid': '81641a37-dc54-4413-845b-0443e1bb5f99',\n",
       " 'version': '0.1.39.dev1',\n",
       " 'visibility': 'public'}"
      ]
     },
     "execution_count": 22,
     "metadata": {},
     "output_type": "execute_result"
    }
   ],
   "source": [
    "scenarios.push(description = \"Example scenarios\", visibility = \"public\")"
   ]
  },
  {
   "cell_type": "code",
   "execution_count": 23,
   "id": "31f8ccc0-f3e2-4e12-ac7e-2cae6d1fdd89",
   "metadata": {
    "editable": true,
    "slideshow": {
     "slide_type": ""
    },
    "tags": [
     "skip-execution"
    ]
   },
   "outputs": [
    {
     "data": {
      "text/plain": [
       "{'description': 'Example survey',\n",
       " 'object_type': 'survey',\n",
       " 'url': 'https://www.expectedparrot.com/content/069c9b88-12c3-4f1c-8ff3-cb6219d36243',\n",
       " 'uuid': '069c9b88-12c3-4f1c-8ff3-cb6219d36243',\n",
       " 'version': '0.1.39.dev1',\n",
       " 'visibility': 'public'}"
      ]
     },
     "execution_count": 23,
     "metadata": {},
     "output_type": "execute_result"
    }
   ],
   "source": [
    "survey.push(description = \"Example survey\", visibility = \"public\")"
   ]
  },
  {
   "cell_type": "code",
   "execution_count": 24,
   "id": "48bc3869-9452-4fe5-bb47-910eb114fac4",
   "metadata": {
    "editable": true,
    "slideshow": {
     "slide_type": ""
    },
    "tags": [
     "skip-execution"
    ]
   },
   "outputs": [
    {
     "data": {
      "text/plain": [
       "{'description': 'Example results',\n",
       " 'object_type': 'results',\n",
       " 'url': 'https://www.expectedparrot.com/content/7b2978ea-1a9e-43b2-9c78-f0714c89ad97',\n",
       " 'uuid': '7b2978ea-1a9e-43b2-9c78-f0714c89ad97',\n",
       " 'version': '0.1.39.dev1',\n",
       " 'visibility': 'public'}"
      ]
     },
     "execution_count": 24,
     "metadata": {},
     "output_type": "execute_result"
    }
   ],
   "source": [
    "results.push(description = \"Example results\", visibility = \"public\")"
   ]
  },
  {
   "cell_type": "markdown",
   "id": "bcbd9e37-abca-41f8-859d-67dc2ec1176d",
   "metadata": {
    "editable": true,
    "slideshow": {
     "slide_type": ""
    },
    "tags": []
   },
   "source": [
    "We can also post this notebook:"
   ]
  },
  {
   "cell_type": "code",
   "execution_count": 25,
   "id": "907c4366-108d-4cee-987e-2f96904b7c54",
   "metadata": {
    "editable": true,
    "slideshow": {
     "slide_type": ""
    },
    "tags": [
     "skip-execution"
    ]
   },
   "outputs": [],
   "source": [
    "from edsl import Notebook"
   ]
  },
  {
   "cell_type": "code",
   "execution_count": 27,
   "id": "3acdd8b4-2063-4715-9082-68c0e20913b7",
   "metadata": {
    "editable": true,
    "slideshow": {
     "slide_type": ""
    },
    "tags": [
     "skip-execution"
    ]
   },
   "outputs": [],
   "source": [
    "n = Notebook(path = \"concept_induction.ipynb\")"
   ]
  },
  {
   "cell_type": "code",
   "execution_count": 28,
   "id": "cd10ba73-6ed6-4126-8f8b-7824f0b4cb52",
   "metadata": {
    "editable": true,
    "slideshow": {
     "slide_type": ""
    },
    "tags": [
     "skip-execution"
    ]
   },
   "outputs": [
    {
     "data": {
      "text/plain": [
       "{'description': 'Example code for concept induction',\n",
       " 'object_type': 'notebook',\n",
       " 'url': 'https://www.expectedparrot.com/content/6d261050-b51b-49fa-98cc-df714ddfbec2',\n",
       " 'uuid': '6d261050-b51b-49fa-98cc-df714ddfbec2',\n",
       " 'version': '0.1.39.dev1',\n",
       " 'visibility': 'public'}"
      ]
     },
     "execution_count": 28,
     "metadata": {},
     "output_type": "execute_result"
    }
   ],
   "source": [
    "info = n.push(description = \"Example code for concept induction\", visibility = \"public\")\n",
    "info"
   ]
  },
  {
   "cell_type": "markdown",
   "id": "f653f592-c57f-44f0-a3fa-dbd35cb6e712",
   "metadata": {
    "editable": true,
    "slideshow": {
     "slide_type": ""
    },
    "tags": []
   },
   "source": [
    "To update an object at the Coop:"
   ]
  },
  {
   "cell_type": "code",
   "execution_count": 33,
   "id": "e880055c-d11a-49d8-b39a-99f170a7500e",
   "metadata": {
    "editable": true,
    "slideshow": {
     "slide_type": ""
    },
    "tags": [
     "skip-execution"
    ]
   },
   "outputs": [],
   "source": [
    "n = Notebook(path = \"concept_induction.ipynb\") # resave it"
   ]
  },
  {
   "cell_type": "code",
   "execution_count": 34,
   "id": "5416f4d7-bfb6-4aee-8070-d986beae7a38",
   "metadata": {
    "editable": true,
    "slideshow": {
     "slide_type": ""
    },
    "tags": [
     "skip-execution"
    ]
   },
   "outputs": [
    {
     "data": {
      "text/plain": [
       "{'status': 'success'}"
      ]
     },
     "execution_count": 34,
     "metadata": {},
     "output_type": "execute_result"
    }
   ],
   "source": [
    "n.patch(uuid = info[\"uuid\"], value = n)"
   ]
  }
 ],
 "metadata": {
  "kernelspec": {
   "display_name": "Python 3 (ipykernel)",
   "language": "python",
   "name": "python3"
  },
  "language_info": {
   "codemirror_mode": {
    "name": "ipython",
    "version": 3
   },
   "file_extension": ".py",
   "mimetype": "text/x-python",
   "name": "python",
   "nbconvert_exporter": "python",
   "pygments_lexer": "ipython3",
   "version": "3.11.7"
  }
 },
 "nbformat": 4,
 "nbformat_minor": 5
}
