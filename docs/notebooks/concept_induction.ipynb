{
 "cells": [
  {
   "cell_type": "markdown",
   "id": "e267b645-5929-4b8b-bb94-2f15228efc77",
   "metadata": {},
   "source": [
    "# Concept induction\n",
    "This notebook offers sample EDSL code for using language models to identify concepts in unstructured texts, then generate criteria for the concepts, and then apply the criteria to evaluate the texts.\n",
    "\n",
    "This idea is inspired by the recent paper <a href=\"https://hci.stanford.edu/publications/2024/Lam_LLooM_CHI24.pdf\">Concept Induction: Analyzing Unstructured Text with High-Level Concepts Using LLooM</a>.\n",
    "\n",
    "<a href=\"https://docs.expectedparrot.com/en/latest/\">EDSL</a> is an open-source library for simulating surveys and experiments with AI agents and language models. Please see our <a href=\"https://docs.expectedparrot.com/en/latest/\">documentation</a> for instructions on installing the package and <a href=\"https://discord.com/invite/mxAYkjfy9m\">join our Discord</a> to ask questions and chat with other researchers!"
   ]
  },
  {
   "cell_type": "markdown",
   "id": "d1f85f22-297e-4e61-ada4-c28e3ffceffd",
   "metadata": {},
   "source": [
    "## Identify concepts\n",
    "We start by creating a general question prompting the respondent (a language model) to identify concepts in a given text.\n",
    "\n",
    "EDSL comes with a variety of <a href=\"https://docs.expectedparrot.com/en/latest/questions.html\">question types</a> that we can choose from based on the form of the response that we want to get back from the model. `QuestionList` may be appropriate where we want the response to be formatted as a list of strings:"
   ]
  },
  {
   "cell_type": "code",
   "execution_count": 1,
   "id": "cd9d6fb3-a438-4612-ad64-eec8ddd8781e",
   "metadata": {},
   "outputs": [],
   "source": [
    "from edsl.questions import QuestionList\n",
    "\n",
    "q_concepts = QuestionList(\n",
    "    question_name = \"concepts\",\n",
    "    question_text = \"Identify the key concepts in the following text: {{ text }}\",\n",
    "    # max_list_items = # Optional \n",
    ")"
   ]
  },
  {
   "cell_type": "markdown",
   "id": "a1765671-99fb-4968-96da-bf7fd7dae52d",
   "metadata": {},
   "source": [
    "We might also want to ask some other questions about our data at the same time (a data labeling task). For example:"
   ]
  },
  {
   "cell_type": "code",
   "execution_count": 2,
   "id": "42c8112e-3461-421b-b506-3221895a4079",
   "metadata": {},
   "outputs": [],
   "source": [
    "from edsl.questions import QuestionMultipleChoice\n",
    "\n",
    "q_sentiment = QuestionMultipleChoice(\n",
    "    question_name = \"sentiment\",\n",
    "    question_text = \"Identify the sentiment of this text: {{ text }}\",\n",
    "    question_options = [\"Negative\", \"Neutral\", \"Positive\"]\n",
    ")"
   ]
  },
  {
   "cell_type": "markdown",
   "id": "2bb43199-b610-46ab-b2eb-beb465ce2862",
   "metadata": {},
   "source": [
    "We parameterize the questions in order to run them for each of our texts. This is done with `Scenario` objects that we create for our data (here, some recent tweets by Pres. Biden):"
   ]
  },
  {
   "cell_type": "code",
   "execution_count": 3,
   "id": "3ccd07bc-b658-434f-9689-2d08396c1080",
   "metadata": {},
   "outputs": [
    {
     "data": {
      "text/plain": [
       "10"
      ]
     },
     "execution_count": 3,
     "metadata": {},
     "output_type": "execute_result"
    }
   ],
   "source": [
    "# Replace with your data\n",
    "texts = [ # POTUS recent tweets\n",
    "    \"Tune in as I deliver the keynote address at the U.S. Holocaust Memorial Museum’s Annual Days of Remembrance ceremony in Washington, D.C.\",\n",
    "    \"We’re a nation of immigrants. A nation of dreamers. And as Cinco de Mayo represents, a nation of freedom.\",\n",
    "    \"Medicare is stronger and Social Security remains strong. My economic plan has helped extend Medicare solvency by a decade. And I am committed to extending Social Security solvency by making the rich pay their fair share.\",\n",
    "    \"Today, the Army Black Knights are taking home West Point’s 10th Commander-in-Chief Trophy. They should be proud. I’m proud of them too – not for the wins, but because after every game they hang up their uniforms and put on another: one representing the United States.\",\n",
    "    \"This Holocaust Remembrance Day, we mourn the six million Jews who were killed by the Nazis during one of the darkest chapters in human history. And we recommit to heeding the lessons of the Shoah and realizing the responsibility of 'Never Again.'\",\n",
    "    \"The recipients of the Presidential Medal of Freedom haven't just kept faith in freedom. They kept all of America's faith in a better tomorrow.\",\n",
    "    \"Like Jill says, 'Teaching isn’t just a job. It’s a calling.' She knows that in her bones, and I know every educator who joined us at the White House for the first-ever Teacher State Dinner lives out that truth every day.\",\n",
    "    \"Jill and I send warm wishes to Orthodox Christian communities around the world as they celebrate Easter. May the Lord bless and keep you this Easter Sunday and in the year ahead.\",\n",
    "    \"Dreamers are our loved ones, nurses, teachers, and small business owners – they deserve the promise of health care just like all of us. Today, my Administration is making that real by expanding affordable health coverage through the Affordable Care Act to DACA recipients.\",\n",
    "    \"With today’s report of 175,000 new jobs, the American comeback continues. Congressional Republicans are fighting to cut taxes for billionaires and let special interests rip folks off, I'm focused on job creation and building an economy that works for the families I grew up with.\"\n",
    "]\n",
    "len(texts)"
   ]
  },
  {
   "cell_type": "code",
   "execution_count": 4,
   "id": "92e1ee90-8f1e-41eb-a3aa-3487ec8360e4",
   "metadata": {},
   "outputs": [],
   "source": [
    "from edsl import Scenario\n",
    "\n",
    "scenarios = [Scenario({\"text\": text}) for text in texts]"
   ]
  },
  {
   "cell_type": "markdown",
   "id": "054c28bf-d4b9-45bd-8a74-090f78a0e8a6",
   "metadata": {},
   "source": [
    "Next we combine the questions into a survey in order to administer them together (asynchronously by default, or according to any skip/stop rules or other logic that we want to add--learn more about `Survey` methods in our <a href=\"https://docs.expectedparrot.com/en/latest/surveys.html\">documentation</a>):"
   ]
  },
  {
   "cell_type": "code",
   "execution_count": 5,
   "id": "98df3e57-e0bb-4612-9f00-4d9b63a28c43",
   "metadata": {},
   "outputs": [],
   "source": [
    "from edsl import Survey\n",
    "\n",
    "survey = Survey(questions = [q_concepts, q_sentiment])"
   ]
  },
  {
   "cell_type": "markdown",
   "id": "dcd603f0-1bc2-4e71-a23b-e5b45d7ba4e2",
   "metadata": {},
   "source": [
    "We add the scenarios to the survey and then run it to generate a dataset of results:"
   ]
  },
  {
   "cell_type": "code",
   "execution_count": 6,
   "id": "8a5eaf93-f0eb-46a4-8cd1-f5afa8f7f335",
   "metadata": {},
   "outputs": [],
   "source": [
    "results = survey.by(scenarios).run()"
   ]
  },
  {
   "cell_type": "markdown",
   "id": "e294ff21-7271-4657-bae3-b5a1c108f000",
   "metadata": {},
   "source": [
    "EDSL comes with <a href=\"https://docs.expectedparrot.com/en/latest/results.html\">built-in methods for working with results</a> in a variety of forms (data tables, SQL queries, dataframes, JSON, CSV). We can call the `columns` method to see a list of all the components that we can analyze:"
   ]
  },
  {
   "cell_type": "code",
   "execution_count": 7,
   "id": "e441d2a9-1886-43c2-9da9-486888e69dd1",
   "metadata": {},
   "outputs": [
    {
     "data": {
      "text/plain": [
       "['agent.agent_name',\n",
       " 'answer.concepts',\n",
       " 'answer.sentiment',\n",
       " 'comment.concepts_comment',\n",
       " 'comment.sentiment_comment',\n",
       " 'iteration.iteration',\n",
       " 'model.frequency_penalty',\n",
       " 'model.logprobs',\n",
       " 'model.max_tokens',\n",
       " 'model.model',\n",
       " 'model.presence_penalty',\n",
       " 'model.temperature',\n",
       " 'model.top_logprobs',\n",
       " 'model.top_p',\n",
       " 'prompt.concepts_system_prompt',\n",
       " 'prompt.concepts_user_prompt',\n",
       " 'prompt.sentiment_system_prompt',\n",
       " 'prompt.sentiment_user_prompt',\n",
       " 'question_options.concepts_question_options',\n",
       " 'question_options.sentiment_question_options',\n",
       " 'question_text.concepts_question_text',\n",
       " 'question_text.sentiment_question_text',\n",
       " 'question_type.concepts_question_type',\n",
       " 'question_type.sentiment_question_type',\n",
       " 'raw_model_response.concepts_raw_model_response',\n",
       " 'raw_model_response.sentiment_raw_model_response',\n",
       " 'scenario.text']"
      ]
     },
     "execution_count": 7,
     "metadata": {},
     "output_type": "execute_result"
    }
   ],
   "source": [
    "results.columns"
   ]
  },
  {
   "cell_type": "markdown",
   "id": "7d03ca57-a616-43d7-a500-7969288fc70c",
   "metadata": {},
   "source": [
    "We can select and print specific components to inspect in a table:"
   ]
  },
  {
   "cell_type": "code",
   "execution_count": 8,
   "id": "6fe9f5af-f06c-47c4-a9fe-abddbda62c9a",
   "metadata": {},
   "outputs": [
    {
     "data": {
      "text/html": [
       "<pre style=\"white-space:pre;overflow-x:auto;line-height:normal;font-family:Menlo,'DejaVu Sans Mono',consolas,'Courier New',monospace\">┏━━━━━━━━━━━━━━━━━━━━━━━━━━━━━━━━━━━━━━━━━━━━━━━━━┳━━━━━━━━━━━━━━━━━━━━━━━━━━━━━━━━━━━━━━━━━━━━━━━━━━┳━━━━━━━━━━━━┓\n",
       "┃<span style=\"color: #800080; text-decoration-color: #800080; font-weight: bold\"> scenario                                        </span>┃<span style=\"color: #800080; text-decoration-color: #800080; font-weight: bold\"> answer                                           </span>┃<span style=\"color: #800080; text-decoration-color: #800080; font-weight: bold\"> answer     </span>┃\n",
       "┃<span style=\"color: #800080; text-decoration-color: #800080; font-weight: bold\"> .text                                           </span>┃<span style=\"color: #800080; text-decoration-color: #800080; font-weight: bold\"> .concepts                                        </span>┃<span style=\"color: #800080; text-decoration-color: #800080; font-weight: bold\"> .sentiment </span>┃\n",
       "┡━━━━━━━━━━━━━━━━━━━━━━━━━━━━━━━━━━━━━━━━━━━━━━━━━╇━━━━━━━━━━━━━━━━━━━━━━━━━━━━━━━━━━━━━━━━━━━━━━━━━━╇━━━━━━━━━━━━┩\n",
       "│<span style=\"color: #7f7f7f; text-decoration-color: #7f7f7f\"> Jill and I send warm wishes to Orthodox         </span>│<span style=\"color: #7f7f7f; text-decoration-color: #7f7f7f\"> ['Jill', 'warm wishes', 'Orthodox Christian      </span>│<span style=\"color: #7f7f7f; text-decoration-color: #7f7f7f\"> Positive   </span>│\n",
       "│<span style=\"color: #7f7f7f; text-decoration-color: #7f7f7f\"> Christian communities around the world as they  </span>│<span style=\"color: #7f7f7f; text-decoration-color: #7f7f7f\"> communities', 'celebrate', 'Easter', 'May the    </span>│<span style=\"color: #7f7f7f; text-decoration-color: #7f7f7f\">            </span>│\n",
       "│<span style=\"color: #7f7f7f; text-decoration-color: #7f7f7f\"> celebrate Easter. May the Lord bless and keep   </span>│<span style=\"color: #7f7f7f; text-decoration-color: #7f7f7f\"> Lord bless and keep you', 'Easter Sunday', 'year </span>│<span style=\"color: #7f7f7f; text-decoration-color: #7f7f7f\">            </span>│\n",
       "│<span style=\"color: #7f7f7f; text-decoration-color: #7f7f7f\"> you this Easter Sunday and in the year ahead.   </span>│<span style=\"color: #7f7f7f; text-decoration-color: #7f7f7f\"> ahead']                                          </span>│<span style=\"color: #7f7f7f; text-decoration-color: #7f7f7f\">            </span>│\n",
       "├─────────────────────────────────────────────────┼──────────────────────────────────────────────────┼────────────┤\n",
       "│<span style=\"color: #7f7f7f; text-decoration-color: #7f7f7f\"> We’re a nation of immigrants. A nation of       </span>│<span style=\"color: #7f7f7f; text-decoration-color: #7f7f7f\"> ['nation of immigrants', 'nation of dreamers',   </span>│<span style=\"color: #7f7f7f; text-decoration-color: #7f7f7f\"> Positive   </span>│\n",
       "│<span style=\"color: #7f7f7f; text-decoration-color: #7f7f7f\"> dreamers. And as Cinco de Mayo represents, a    </span>│<span style=\"color: #7f7f7f; text-decoration-color: #7f7f7f\"> 'Cinco de Mayo', 'nation of freedom']            </span>│<span style=\"color: #7f7f7f; text-decoration-color: #7f7f7f\">            </span>│\n",
       "│<span style=\"color: #7f7f7f; text-decoration-color: #7f7f7f\"> nation of freedom.                              </span>│<span style=\"color: #7f7f7f; text-decoration-color: #7f7f7f\">                                                  </span>│<span style=\"color: #7f7f7f; text-decoration-color: #7f7f7f\">            </span>│\n",
       "├─────────────────────────────────────────────────┼──────────────────────────────────────────────────┼────────────┤\n",
       "│<span style=\"color: #7f7f7f; text-decoration-color: #7f7f7f\"> Dreamers are our loved ones, nurses, teachers,  </span>│<span style=\"color: #7f7f7f; text-decoration-color: #7f7f7f\"> ['Dreamers', 'loved ones', 'nurses', 'teachers', </span>│<span style=\"color: #7f7f7f; text-decoration-color: #7f7f7f\"> Positive   </span>│\n",
       "│<span style=\"color: #7f7f7f; text-decoration-color: #7f7f7f\"> and small business owners – they deserve the    </span>│<span style=\"color: #7f7f7f; text-decoration-color: #7f7f7f\"> 'small business owners', 'health care',          </span>│<span style=\"color: #7f7f7f; text-decoration-color: #7f7f7f\">            </span>│\n",
       "│<span style=\"color: #7f7f7f; text-decoration-color: #7f7f7f\"> promise of health care just like all of us.     </span>│<span style=\"color: #7f7f7f; text-decoration-color: #7f7f7f\"> 'promise', 'Affordable Care Act', 'DACA          </span>│<span style=\"color: #7f7f7f; text-decoration-color: #7f7f7f\">            </span>│\n",
       "│<span style=\"color: #7f7f7f; text-decoration-color: #7f7f7f\"> Today, my Administration is making that real by </span>│<span style=\"color: #7f7f7f; text-decoration-color: #7f7f7f\"> recipients', 'expanding', 'affordable health     </span>│<span style=\"color: #7f7f7f; text-decoration-color: #7f7f7f\">            </span>│\n",
       "│<span style=\"color: #7f7f7f; text-decoration-color: #7f7f7f\"> expanding affordable health coverage through    </span>│<span style=\"color: #7f7f7f; text-decoration-color: #7f7f7f\"> coverage', 'Administration']                     </span>│<span style=\"color: #7f7f7f; text-decoration-color: #7f7f7f\">            </span>│\n",
       "│<span style=\"color: #7f7f7f; text-decoration-color: #7f7f7f\"> the Affordable Care Act to DACA recipients.     </span>│<span style=\"color: #7f7f7f; text-decoration-color: #7f7f7f\">                                                  </span>│<span style=\"color: #7f7f7f; text-decoration-color: #7f7f7f\">            </span>│\n",
       "├─────────────────────────────────────────────────┼──────────────────────────────────────────────────┼────────────┤\n",
       "│<span style=\"color: #7f7f7f; text-decoration-color: #7f7f7f\"> Like Jill says, 'Teaching isn’t just a job.     </span>│<span style=\"color: #7f7f7f; text-decoration-color: #7f7f7f\"> ['Teaching', 'calling', 'in her bones',          </span>│<span style=\"color: #7f7f7f; text-decoration-color: #7f7f7f\"> Positive   </span>│\n",
       "│<span style=\"color: #7f7f7f; text-decoration-color: #7f7f7f\"> It’s a calling.' She knows that in her bones,   </span>│<span style=\"color: #7f7f7f; text-decoration-color: #7f7f7f\"> 'educator', 'White House', 'Teacher State        </span>│<span style=\"color: #7f7f7f; text-decoration-color: #7f7f7f\">            </span>│\n",
       "│<span style=\"color: #7f7f7f; text-decoration-color: #7f7f7f\"> and I know every educator who joined us at the  </span>│<span style=\"color: #7f7f7f; text-decoration-color: #7f7f7f\"> Dinner', 'lives out that truth']                 </span>│<span style=\"color: #7f7f7f; text-decoration-color: #7f7f7f\">            </span>│\n",
       "│<span style=\"color: #7f7f7f; text-decoration-color: #7f7f7f\"> White House for the first-ever Teacher State    </span>│<span style=\"color: #7f7f7f; text-decoration-color: #7f7f7f\">                                                  </span>│<span style=\"color: #7f7f7f; text-decoration-color: #7f7f7f\">            </span>│\n",
       "│<span style=\"color: #7f7f7f; text-decoration-color: #7f7f7f\"> Dinner lives out that truth every day.          </span>│<span style=\"color: #7f7f7f; text-decoration-color: #7f7f7f\">                                                  </span>│<span style=\"color: #7f7f7f; text-decoration-color: #7f7f7f\">            </span>│\n",
       "├─────────────────────────────────────────────────┼──────────────────────────────────────────────────┼────────────┤\n",
       "│<span style=\"color: #7f7f7f; text-decoration-color: #7f7f7f\"> The recipients of the Presidential Medal of     </span>│<span style=\"color: #7f7f7f; text-decoration-color: #7f7f7f\"> ['recipients', 'Presidential Medal of Freedom',  </span>│<span style=\"color: #7f7f7f; text-decoration-color: #7f7f7f\"> Positive   </span>│\n",
       "│<span style=\"color: #7f7f7f; text-decoration-color: #7f7f7f\"> Freedom haven't just kept faith in freedom.     </span>│<span style=\"color: #7f7f7f; text-decoration-color: #7f7f7f\"> 'faith in freedom', \"America's faith\", 'better   </span>│<span style=\"color: #7f7f7f; text-decoration-color: #7f7f7f\">            </span>│\n",
       "│<span style=\"color: #7f7f7f; text-decoration-color: #7f7f7f\"> They kept all of America's faith in a better    </span>│<span style=\"color: #7f7f7f; text-decoration-color: #7f7f7f\"> tomorrow']                                       </span>│<span style=\"color: #7f7f7f; text-decoration-color: #7f7f7f\">            </span>│\n",
       "│<span style=\"color: #7f7f7f; text-decoration-color: #7f7f7f\"> tomorrow.                                       </span>│<span style=\"color: #7f7f7f; text-decoration-color: #7f7f7f\">                                                  </span>│<span style=\"color: #7f7f7f; text-decoration-color: #7f7f7f\">            </span>│\n",
       "├─────────────────────────────────────────────────┼──────────────────────────────────────────────────┼────────────┤\n",
       "│<span style=\"color: #7f7f7f; text-decoration-color: #7f7f7f\"> Medicare is stronger and Social Security        </span>│<span style=\"color: #7f7f7f; text-decoration-color: #7f7f7f\"> ['Medicare', 'Social Security', 'economic plan', </span>│<span style=\"color: #7f7f7f; text-decoration-color: #7f7f7f\"> Positive   </span>│\n",
       "│<span style=\"color: #7f7f7f; text-decoration-color: #7f7f7f\"> remains strong. My economic plan has helped     </span>│<span style=\"color: #7f7f7f; text-decoration-color: #7f7f7f\"> 'Medicare solvency', 'decade', 'extending Social </span>│<span style=\"color: #7f7f7f; text-decoration-color: #7f7f7f\">            </span>│\n",
       "│<span style=\"color: #7f7f7f; text-decoration-color: #7f7f7f\"> extend Medicare solvency by a decade. And I am  </span>│<span style=\"color: #7f7f7f; text-decoration-color: #7f7f7f\"> Security solvency', 'rich', 'fair share']        </span>│<span style=\"color: #7f7f7f; text-decoration-color: #7f7f7f\">            </span>│\n",
       "│<span style=\"color: #7f7f7f; text-decoration-color: #7f7f7f\"> committed to extending Social Security solvency </span>│<span style=\"color: #7f7f7f; text-decoration-color: #7f7f7f\">                                                  </span>│<span style=\"color: #7f7f7f; text-decoration-color: #7f7f7f\">            </span>│\n",
       "│<span style=\"color: #7f7f7f; text-decoration-color: #7f7f7f\"> by making the rich pay their fair share.        </span>│<span style=\"color: #7f7f7f; text-decoration-color: #7f7f7f\">                                                  </span>│<span style=\"color: #7f7f7f; text-decoration-color: #7f7f7f\">            </span>│\n",
       "├─────────────────────────────────────────────────┼──────────────────────────────────────────────────┼────────────┤\n",
       "│<span style=\"color: #7f7f7f; text-decoration-color: #7f7f7f\"> Today, the Army Black Knights are taking home   </span>│<span style=\"color: #7f7f7f; text-decoration-color: #7f7f7f\"> ['Army Black Knights', 'West Point', '10th       </span>│<span style=\"color: #7f7f7f; text-decoration-color: #7f7f7f\"> Positive   </span>│\n",
       "│<span style=\"color: #7f7f7f; text-decoration-color: #7f7f7f\"> West Point’s 10th Commander-in-Chief Trophy.    </span>│<span style=\"color: #7f7f7f; text-decoration-color: #7f7f7f\"> Commander-in-Chief Trophy', 'proud', 'uniforms', </span>│<span style=\"color: #7f7f7f; text-decoration-color: #7f7f7f\">            </span>│\n",
       "│<span style=\"color: #7f7f7f; text-decoration-color: #7f7f7f\"> They should be proud. I’m proud of them too –   </span>│<span style=\"color: #7f7f7f; text-decoration-color: #7f7f7f\"> 'representing the United States']                </span>│<span style=\"color: #7f7f7f; text-decoration-color: #7f7f7f\">            </span>│\n",
       "│<span style=\"color: #7f7f7f; text-decoration-color: #7f7f7f\"> not for the wins, but because after every game  </span>│<span style=\"color: #7f7f7f; text-decoration-color: #7f7f7f\">                                                  </span>│<span style=\"color: #7f7f7f; text-decoration-color: #7f7f7f\">            </span>│\n",
       "│<span style=\"color: #7f7f7f; text-decoration-color: #7f7f7f\"> they hang up their uniforms and put on another: </span>│<span style=\"color: #7f7f7f; text-decoration-color: #7f7f7f\">                                                  </span>│<span style=\"color: #7f7f7f; text-decoration-color: #7f7f7f\">            </span>│\n",
       "│<span style=\"color: #7f7f7f; text-decoration-color: #7f7f7f\"> one representing the United States.             </span>│<span style=\"color: #7f7f7f; text-decoration-color: #7f7f7f\">                                                  </span>│<span style=\"color: #7f7f7f; text-decoration-color: #7f7f7f\">            </span>│\n",
       "├─────────────────────────────────────────────────┼──────────────────────────────────────────────────┼────────────┤\n",
       "│<span style=\"color: #7f7f7f; text-decoration-color: #7f7f7f\"> With today’s report of 175,000 new jobs, the    </span>│<span style=\"color: #7f7f7f; text-decoration-color: #7f7f7f\"> ['report', '175,000 new jobs', 'American         </span>│<span style=\"color: #7f7f7f; text-decoration-color: #7f7f7f\"> Positive   </span>│\n",
       "│<span style=\"color: #7f7f7f; text-decoration-color: #7f7f7f\"> American comeback continues. Congressional      </span>│<span style=\"color: #7f7f7f; text-decoration-color: #7f7f7f\"> comeback', 'Congressional Republicans', 'cut     </span>│<span style=\"color: #7f7f7f; text-decoration-color: #7f7f7f\">            </span>│\n",
       "│<span style=\"color: #7f7f7f; text-decoration-color: #7f7f7f\"> Republicans are fighting to cut taxes for       </span>│<span style=\"color: #7f7f7f; text-decoration-color: #7f7f7f\"> taxes', 'billionaires', 'special interests',     </span>│<span style=\"color: #7f7f7f; text-decoration-color: #7f7f7f\">            </span>│\n",
       "│<span style=\"color: #7f7f7f; text-decoration-color: #7f7f7f\"> billionaires and let special interests rip      </span>│<span style=\"color: #7f7f7f; text-decoration-color: #7f7f7f\"> 'rip folks off', 'job creation', 'building an    </span>│<span style=\"color: #7f7f7f; text-decoration-color: #7f7f7f\">            </span>│\n",
       "│<span style=\"color: #7f7f7f; text-decoration-color: #7f7f7f\"> folks off, I'm focused on job creation and      </span>│<span style=\"color: #7f7f7f; text-decoration-color: #7f7f7f\"> economy', 'works for the families', 'grew up     </span>│<span style=\"color: #7f7f7f; text-decoration-color: #7f7f7f\">            </span>│\n",
       "│<span style=\"color: #7f7f7f; text-decoration-color: #7f7f7f\"> building an economy that works for the families </span>│<span style=\"color: #7f7f7f; text-decoration-color: #7f7f7f\"> with']                                           </span>│<span style=\"color: #7f7f7f; text-decoration-color: #7f7f7f\">            </span>│\n",
       "│<span style=\"color: #7f7f7f; text-decoration-color: #7f7f7f\"> I grew up with.                                 </span>│<span style=\"color: #7f7f7f; text-decoration-color: #7f7f7f\">                                                  </span>│<span style=\"color: #7f7f7f; text-decoration-color: #7f7f7f\">            </span>│\n",
       "├─────────────────────────────────────────────────┼──────────────────────────────────────────────────┼────────────┤\n",
       "│<span style=\"color: #7f7f7f; text-decoration-color: #7f7f7f\"> Tune in as I deliver the keynote address at the </span>│<span style=\"color: #7f7f7f; text-decoration-color: #7f7f7f\"> ['keynote address', 'U.S. Holocaust Memorial     </span>│<span style=\"color: #7f7f7f; text-decoration-color: #7f7f7f\"> Neutral    </span>│\n",
       "│<span style=\"color: #7f7f7f; text-decoration-color: #7f7f7f\"> U.S. Holocaust Memorial Museum’s Annual Days of </span>│<span style=\"color: #7f7f7f; text-decoration-color: #7f7f7f\"> Museum', 'Annual Days of Remembrance ceremony',  </span>│<span style=\"color: #7f7f7f; text-decoration-color: #7f7f7f\">            </span>│\n",
       "│<span style=\"color: #7f7f7f; text-decoration-color: #7f7f7f\"> Remembrance ceremony in Washington, D.C.        </span>│<span style=\"color: #7f7f7f; text-decoration-color: #7f7f7f\"> 'Washington, D.C.']                              </span>│<span style=\"color: #7f7f7f; text-decoration-color: #7f7f7f\">            </span>│\n",
       "├─────────────────────────────────────────────────┼──────────────────────────────────────────────────┼────────────┤\n",
       "│<span style=\"color: #7f7f7f; text-decoration-color: #7f7f7f\"> This Holocaust Remembrance Day, we mourn the    </span>│<span style=\"color: #7f7f7f; text-decoration-color: #7f7f7f\"> ['Holocaust Remembrance Day', 'mourn', 'six      </span>│<span style=\"color: #7f7f7f; text-decoration-color: #7f7f7f\"> Negative   </span>│\n",
       "│<span style=\"color: #7f7f7f; text-decoration-color: #7f7f7f\"> six million Jews who were killed by the Nazis   </span>│<span style=\"color: #7f7f7f; text-decoration-color: #7f7f7f\"> million Jews', 'killed', 'Nazis', 'darkest       </span>│<span style=\"color: #7f7f7f; text-decoration-color: #7f7f7f\">            </span>│\n",
       "│<span style=\"color: #7f7f7f; text-decoration-color: #7f7f7f\"> during one of the darkest chapters in human     </span>│<span style=\"color: #7f7f7f; text-decoration-color: #7f7f7f\"> chapters in human history', 'heed', 'lessons',   </span>│<span style=\"color: #7f7f7f; text-decoration-color: #7f7f7f\">            </span>│\n",
       "│<span style=\"color: #7f7f7f; text-decoration-color: #7f7f7f\"> history. And we recommit to heeding the lessons </span>│<span style=\"color: #7f7f7f; text-decoration-color: #7f7f7f\"> 'Shoah', 'responsibility', \"'Never Again'\"]      </span>│<span style=\"color: #7f7f7f; text-decoration-color: #7f7f7f\">            </span>│\n",
       "│<span style=\"color: #7f7f7f; text-decoration-color: #7f7f7f\"> of the Shoah and realizing the responsibility   </span>│<span style=\"color: #7f7f7f; text-decoration-color: #7f7f7f\">                                                  </span>│<span style=\"color: #7f7f7f; text-decoration-color: #7f7f7f\">            </span>│\n",
       "│<span style=\"color: #7f7f7f; text-decoration-color: #7f7f7f\"> of 'Never Again.'                               </span>│<span style=\"color: #7f7f7f; text-decoration-color: #7f7f7f\">                                                  </span>│<span style=\"color: #7f7f7f; text-decoration-color: #7f7f7f\">            </span>│\n",
       "└─────────────────────────────────────────────────┴──────────────────────────────────────────────────┴────────────┘\n",
       "</pre>\n"
      ],
      "text/plain": [
       "┏━━━━━━━━━━━━━━━━━━━━━━━━━━━━━━━━━━━━━━━━━━━━━━━━━┳━━━━━━━━━━━━━━━━━━━━━━━━━━━━━━━━━━━━━━━━━━━━━━━━━━┳━━━━━━━━━━━━┓\n",
       "┃\u001b[1;35m \u001b[0m\u001b[1;35mscenario                                       \u001b[0m\u001b[1;35m \u001b[0m┃\u001b[1;35m \u001b[0m\u001b[1;35manswer                                          \u001b[0m\u001b[1;35m \u001b[0m┃\u001b[1;35m \u001b[0m\u001b[1;35manswer    \u001b[0m\u001b[1;35m \u001b[0m┃\n",
       "┃\u001b[1;35m \u001b[0m\u001b[1;35m.text                                          \u001b[0m\u001b[1;35m \u001b[0m┃\u001b[1;35m \u001b[0m\u001b[1;35m.concepts                                       \u001b[0m\u001b[1;35m \u001b[0m┃\u001b[1;35m \u001b[0m\u001b[1;35m.sentiment\u001b[0m\u001b[1;35m \u001b[0m┃\n",
       "┡━━━━━━━━━━━━━━━━━━━━━━━━━━━━━━━━━━━━━━━━━━━━━━━━━╇━━━━━━━━━━━━━━━━━━━━━━━━━━━━━━━━━━━━━━━━━━━━━━━━━━╇━━━━━━━━━━━━┩\n",
       "│\u001b[2m \u001b[0m\u001b[2mJill and I send warm wishes to Orthodox        \u001b[0m\u001b[2m \u001b[0m│\u001b[2m \u001b[0m\u001b[2m['Jill', 'warm wishes', 'Orthodox Christian     \u001b[0m\u001b[2m \u001b[0m│\u001b[2m \u001b[0m\u001b[2mPositive  \u001b[0m\u001b[2m \u001b[0m│\n",
       "│\u001b[2m \u001b[0m\u001b[2mChristian communities around the world as they \u001b[0m\u001b[2m \u001b[0m│\u001b[2m \u001b[0m\u001b[2mcommunities', 'celebrate', 'Easter', 'May the   \u001b[0m\u001b[2m \u001b[0m│\u001b[2m            \u001b[0m│\n",
       "│\u001b[2m \u001b[0m\u001b[2mcelebrate Easter. May the Lord bless and keep  \u001b[0m\u001b[2m \u001b[0m│\u001b[2m \u001b[0m\u001b[2mLord bless and keep you', 'Easter Sunday', 'year\u001b[0m\u001b[2m \u001b[0m│\u001b[2m            \u001b[0m│\n",
       "│\u001b[2m \u001b[0m\u001b[2myou this Easter Sunday and in the year ahead.  \u001b[0m\u001b[2m \u001b[0m│\u001b[2m \u001b[0m\u001b[2mahead']                                         \u001b[0m\u001b[2m \u001b[0m│\u001b[2m            \u001b[0m│\n",
       "├─────────────────────────────────────────────────┼──────────────────────────────────────────────────┼────────────┤\n",
       "│\u001b[2m \u001b[0m\u001b[2mWe’re a nation of immigrants. A nation of      \u001b[0m\u001b[2m \u001b[0m│\u001b[2m \u001b[0m\u001b[2m['nation of immigrants', 'nation of dreamers',  \u001b[0m\u001b[2m \u001b[0m│\u001b[2m \u001b[0m\u001b[2mPositive  \u001b[0m\u001b[2m \u001b[0m│\n",
       "│\u001b[2m \u001b[0m\u001b[2mdreamers. And as Cinco de Mayo represents, a   \u001b[0m\u001b[2m \u001b[0m│\u001b[2m \u001b[0m\u001b[2m'Cinco de Mayo', 'nation of freedom']           \u001b[0m\u001b[2m \u001b[0m│\u001b[2m            \u001b[0m│\n",
       "│\u001b[2m \u001b[0m\u001b[2mnation of freedom.                             \u001b[0m\u001b[2m \u001b[0m│\u001b[2m                                                  \u001b[0m│\u001b[2m            \u001b[0m│\n",
       "├─────────────────────────────────────────────────┼──────────────────────────────────────────────────┼────────────┤\n",
       "│\u001b[2m \u001b[0m\u001b[2mDreamers are our loved ones, nurses, teachers, \u001b[0m\u001b[2m \u001b[0m│\u001b[2m \u001b[0m\u001b[2m['Dreamers', 'loved ones', 'nurses', 'teachers',\u001b[0m\u001b[2m \u001b[0m│\u001b[2m \u001b[0m\u001b[2mPositive  \u001b[0m\u001b[2m \u001b[0m│\n",
       "│\u001b[2m \u001b[0m\u001b[2mand small business owners – they deserve the   \u001b[0m\u001b[2m \u001b[0m│\u001b[2m \u001b[0m\u001b[2m'small business owners', 'health care',         \u001b[0m\u001b[2m \u001b[0m│\u001b[2m            \u001b[0m│\n",
       "│\u001b[2m \u001b[0m\u001b[2mpromise of health care just like all of us.    \u001b[0m\u001b[2m \u001b[0m│\u001b[2m \u001b[0m\u001b[2m'promise', 'Affordable Care Act', 'DACA         \u001b[0m\u001b[2m \u001b[0m│\u001b[2m            \u001b[0m│\n",
       "│\u001b[2m \u001b[0m\u001b[2mToday, my Administration is making that real by\u001b[0m\u001b[2m \u001b[0m│\u001b[2m \u001b[0m\u001b[2mrecipients', 'expanding', 'affordable health    \u001b[0m\u001b[2m \u001b[0m│\u001b[2m            \u001b[0m│\n",
       "│\u001b[2m \u001b[0m\u001b[2mexpanding affordable health coverage through   \u001b[0m\u001b[2m \u001b[0m│\u001b[2m \u001b[0m\u001b[2mcoverage', 'Administration']                    \u001b[0m\u001b[2m \u001b[0m│\u001b[2m            \u001b[0m│\n",
       "│\u001b[2m \u001b[0m\u001b[2mthe Affordable Care Act to DACA recipients.    \u001b[0m\u001b[2m \u001b[0m│\u001b[2m                                                  \u001b[0m│\u001b[2m            \u001b[0m│\n",
       "├─────────────────────────────────────────────────┼──────────────────────────────────────────────────┼────────────┤\n",
       "│\u001b[2m \u001b[0m\u001b[2mLike Jill says, 'Teaching isn’t just a job.    \u001b[0m\u001b[2m \u001b[0m│\u001b[2m \u001b[0m\u001b[2m['Teaching', 'calling', 'in her bones',         \u001b[0m\u001b[2m \u001b[0m│\u001b[2m \u001b[0m\u001b[2mPositive  \u001b[0m\u001b[2m \u001b[0m│\n",
       "│\u001b[2m \u001b[0m\u001b[2mIt’s a calling.' She knows that in her bones,  \u001b[0m\u001b[2m \u001b[0m│\u001b[2m \u001b[0m\u001b[2m'educator', 'White House', 'Teacher State       \u001b[0m\u001b[2m \u001b[0m│\u001b[2m            \u001b[0m│\n",
       "│\u001b[2m \u001b[0m\u001b[2mand I know every educator who joined us at the \u001b[0m\u001b[2m \u001b[0m│\u001b[2m \u001b[0m\u001b[2mDinner', 'lives out that truth']                \u001b[0m\u001b[2m \u001b[0m│\u001b[2m            \u001b[0m│\n",
       "│\u001b[2m \u001b[0m\u001b[2mWhite House for the first-ever Teacher State   \u001b[0m\u001b[2m \u001b[0m│\u001b[2m                                                  \u001b[0m│\u001b[2m            \u001b[0m│\n",
       "│\u001b[2m \u001b[0m\u001b[2mDinner lives out that truth every day.         \u001b[0m\u001b[2m \u001b[0m│\u001b[2m                                                  \u001b[0m│\u001b[2m            \u001b[0m│\n",
       "├─────────────────────────────────────────────────┼──────────────────────────────────────────────────┼────────────┤\n",
       "│\u001b[2m \u001b[0m\u001b[2mThe recipients of the Presidential Medal of    \u001b[0m\u001b[2m \u001b[0m│\u001b[2m \u001b[0m\u001b[2m['recipients', 'Presidential Medal of Freedom', \u001b[0m\u001b[2m \u001b[0m│\u001b[2m \u001b[0m\u001b[2mPositive  \u001b[0m\u001b[2m \u001b[0m│\n",
       "│\u001b[2m \u001b[0m\u001b[2mFreedom haven't just kept faith in freedom.    \u001b[0m\u001b[2m \u001b[0m│\u001b[2m \u001b[0m\u001b[2m'faith in freedom', \"America's faith\", 'better  \u001b[0m\u001b[2m \u001b[0m│\u001b[2m            \u001b[0m│\n",
       "│\u001b[2m \u001b[0m\u001b[2mThey kept all of America's faith in a better   \u001b[0m\u001b[2m \u001b[0m│\u001b[2m \u001b[0m\u001b[2mtomorrow']                                      \u001b[0m\u001b[2m \u001b[0m│\u001b[2m            \u001b[0m│\n",
       "│\u001b[2m \u001b[0m\u001b[2mtomorrow.                                      \u001b[0m\u001b[2m \u001b[0m│\u001b[2m                                                  \u001b[0m│\u001b[2m            \u001b[0m│\n",
       "├─────────────────────────────────────────────────┼──────────────────────────────────────────────────┼────────────┤\n",
       "│\u001b[2m \u001b[0m\u001b[2mMedicare is stronger and Social Security       \u001b[0m\u001b[2m \u001b[0m│\u001b[2m \u001b[0m\u001b[2m['Medicare', 'Social Security', 'economic plan',\u001b[0m\u001b[2m \u001b[0m│\u001b[2m \u001b[0m\u001b[2mPositive  \u001b[0m\u001b[2m \u001b[0m│\n",
       "│\u001b[2m \u001b[0m\u001b[2mremains strong. My economic plan has helped    \u001b[0m\u001b[2m \u001b[0m│\u001b[2m \u001b[0m\u001b[2m'Medicare solvency', 'decade', 'extending Social\u001b[0m\u001b[2m \u001b[0m│\u001b[2m            \u001b[0m│\n",
       "│\u001b[2m \u001b[0m\u001b[2mextend Medicare solvency by a decade. And I am \u001b[0m\u001b[2m \u001b[0m│\u001b[2m \u001b[0m\u001b[2mSecurity solvency', 'rich', 'fair share']       \u001b[0m\u001b[2m \u001b[0m│\u001b[2m            \u001b[0m│\n",
       "│\u001b[2m \u001b[0m\u001b[2mcommitted to extending Social Security solvency\u001b[0m\u001b[2m \u001b[0m│\u001b[2m                                                  \u001b[0m│\u001b[2m            \u001b[0m│\n",
       "│\u001b[2m \u001b[0m\u001b[2mby making the rich pay their fair share.       \u001b[0m\u001b[2m \u001b[0m│\u001b[2m                                                  \u001b[0m│\u001b[2m            \u001b[0m│\n",
       "├─────────────────────────────────────────────────┼──────────────────────────────────────────────────┼────────────┤\n",
       "│\u001b[2m \u001b[0m\u001b[2mToday, the Army Black Knights are taking home  \u001b[0m\u001b[2m \u001b[0m│\u001b[2m \u001b[0m\u001b[2m['Army Black Knights', 'West Point', '10th      \u001b[0m\u001b[2m \u001b[0m│\u001b[2m \u001b[0m\u001b[2mPositive  \u001b[0m\u001b[2m \u001b[0m│\n",
       "│\u001b[2m \u001b[0m\u001b[2mWest Point’s 10th Commander-in-Chief Trophy.   \u001b[0m\u001b[2m \u001b[0m│\u001b[2m \u001b[0m\u001b[2mCommander-in-Chief Trophy', 'proud', 'uniforms',\u001b[0m\u001b[2m \u001b[0m│\u001b[2m            \u001b[0m│\n",
       "│\u001b[2m \u001b[0m\u001b[2mThey should be proud. I’m proud of them too –  \u001b[0m\u001b[2m \u001b[0m│\u001b[2m \u001b[0m\u001b[2m'representing the United States']               \u001b[0m\u001b[2m \u001b[0m│\u001b[2m            \u001b[0m│\n",
       "│\u001b[2m \u001b[0m\u001b[2mnot for the wins, but because after every game \u001b[0m\u001b[2m \u001b[0m│\u001b[2m                                                  \u001b[0m│\u001b[2m            \u001b[0m│\n",
       "│\u001b[2m \u001b[0m\u001b[2mthey hang up their uniforms and put on another:\u001b[0m\u001b[2m \u001b[0m│\u001b[2m                                                  \u001b[0m│\u001b[2m            \u001b[0m│\n",
       "│\u001b[2m \u001b[0m\u001b[2mone representing the United States.            \u001b[0m\u001b[2m \u001b[0m│\u001b[2m                                                  \u001b[0m│\u001b[2m            \u001b[0m│\n",
       "├─────────────────────────────────────────────────┼──────────────────────────────────────────────────┼────────────┤\n",
       "│\u001b[2m \u001b[0m\u001b[2mWith today’s report of 175,000 new jobs, the   \u001b[0m\u001b[2m \u001b[0m│\u001b[2m \u001b[0m\u001b[2m['report', '175,000 new jobs', 'American        \u001b[0m\u001b[2m \u001b[0m│\u001b[2m \u001b[0m\u001b[2mPositive  \u001b[0m\u001b[2m \u001b[0m│\n",
       "│\u001b[2m \u001b[0m\u001b[2mAmerican comeback continues. Congressional     \u001b[0m\u001b[2m \u001b[0m│\u001b[2m \u001b[0m\u001b[2mcomeback', 'Congressional Republicans', 'cut    \u001b[0m\u001b[2m \u001b[0m│\u001b[2m            \u001b[0m│\n",
       "│\u001b[2m \u001b[0m\u001b[2mRepublicans are fighting to cut taxes for      \u001b[0m\u001b[2m \u001b[0m│\u001b[2m \u001b[0m\u001b[2mtaxes', 'billionaires', 'special interests',    \u001b[0m\u001b[2m \u001b[0m│\u001b[2m            \u001b[0m│\n",
       "│\u001b[2m \u001b[0m\u001b[2mbillionaires and let special interests rip     \u001b[0m\u001b[2m \u001b[0m│\u001b[2m \u001b[0m\u001b[2m'rip folks off', 'job creation', 'building an   \u001b[0m\u001b[2m \u001b[0m│\u001b[2m            \u001b[0m│\n",
       "│\u001b[2m \u001b[0m\u001b[2mfolks off, I'm focused on job creation and     \u001b[0m\u001b[2m \u001b[0m│\u001b[2m \u001b[0m\u001b[2meconomy', 'works for the families', 'grew up    \u001b[0m\u001b[2m \u001b[0m│\u001b[2m            \u001b[0m│\n",
       "│\u001b[2m \u001b[0m\u001b[2mbuilding an economy that works for the families\u001b[0m\u001b[2m \u001b[0m│\u001b[2m \u001b[0m\u001b[2mwith']                                          \u001b[0m\u001b[2m \u001b[0m│\u001b[2m            \u001b[0m│\n",
       "│\u001b[2m \u001b[0m\u001b[2mI grew up with.                                \u001b[0m\u001b[2m \u001b[0m│\u001b[2m                                                  \u001b[0m│\u001b[2m            \u001b[0m│\n",
       "├─────────────────────────────────────────────────┼──────────────────────────────────────────────────┼────────────┤\n",
       "│\u001b[2m \u001b[0m\u001b[2mTune in as I deliver the keynote address at the\u001b[0m\u001b[2m \u001b[0m│\u001b[2m \u001b[0m\u001b[2m['keynote address', 'U.S. Holocaust Memorial    \u001b[0m\u001b[2m \u001b[0m│\u001b[2m \u001b[0m\u001b[2mNeutral   \u001b[0m\u001b[2m \u001b[0m│\n",
       "│\u001b[2m \u001b[0m\u001b[2mU.S. Holocaust Memorial Museum’s Annual Days of\u001b[0m\u001b[2m \u001b[0m│\u001b[2m \u001b[0m\u001b[2mMuseum', 'Annual Days of Remembrance ceremony', \u001b[0m\u001b[2m \u001b[0m│\u001b[2m            \u001b[0m│\n",
       "│\u001b[2m \u001b[0m\u001b[2mRemembrance ceremony in Washington, D.C.       \u001b[0m\u001b[2m \u001b[0m│\u001b[2m \u001b[0m\u001b[2m'Washington, D.C.']                             \u001b[0m\u001b[2m \u001b[0m│\u001b[2m            \u001b[0m│\n",
       "├─────────────────────────────────────────────────┼──────────────────────────────────────────────────┼────────────┤\n",
       "│\u001b[2m \u001b[0m\u001b[2mThis Holocaust Remembrance Day, we mourn the   \u001b[0m\u001b[2m \u001b[0m│\u001b[2m \u001b[0m\u001b[2m['Holocaust Remembrance Day', 'mourn', 'six     \u001b[0m\u001b[2m \u001b[0m│\u001b[2m \u001b[0m\u001b[2mNegative  \u001b[0m\u001b[2m \u001b[0m│\n",
       "│\u001b[2m \u001b[0m\u001b[2msix million Jews who were killed by the Nazis  \u001b[0m\u001b[2m \u001b[0m│\u001b[2m \u001b[0m\u001b[2mmillion Jews', 'killed', 'Nazis', 'darkest      \u001b[0m\u001b[2m \u001b[0m│\u001b[2m            \u001b[0m│\n",
       "│\u001b[2m \u001b[0m\u001b[2mduring one of the darkest chapters in human    \u001b[0m\u001b[2m \u001b[0m│\u001b[2m \u001b[0m\u001b[2mchapters in human history', 'heed', 'lessons',  \u001b[0m\u001b[2m \u001b[0m│\u001b[2m            \u001b[0m│\n",
       "│\u001b[2m \u001b[0m\u001b[2mhistory. And we recommit to heeding the lessons\u001b[0m\u001b[2m \u001b[0m│\u001b[2m \u001b[0m\u001b[2m'Shoah', 'responsibility', \"'Never Again'\"]     \u001b[0m\u001b[2m \u001b[0m│\u001b[2m            \u001b[0m│\n",
       "│\u001b[2m \u001b[0m\u001b[2mof the Shoah and realizing the responsibility  \u001b[0m\u001b[2m \u001b[0m│\u001b[2m                                                  \u001b[0m│\u001b[2m            \u001b[0m│\n",
       "│\u001b[2m \u001b[0m\u001b[2mof 'Never Again.'                              \u001b[0m\u001b[2m \u001b[0m│\u001b[2m                                                  \u001b[0m│\u001b[2m            \u001b[0m│\n",
       "└─────────────────────────────────────────────────┴──────────────────────────────────────────────────┴────────────┘\n"
      ]
     },
     "metadata": {},
     "output_type": "display_data"
    }
   ],
   "source": [
    "results.select(\"text\", \"concepts\", \"sentiment\").print(format=\"rich\")"
   ]
  },
  {
   "cell_type": "markdown",
   "id": "5e1abcd5-4e84-438b-b7aa-d06608c1b463",
   "metadata": {},
   "source": [
    "If our concepts lists are too long, we can run another question prompting a model to condense it. We can specify the number of concepts that we want to get:"
   ]
  },
  {
   "cell_type": "code",
   "execution_count": 9,
   "id": "8d9918dc-0096-4e51-b2ff-0d11d766511c",
   "metadata": {},
   "outputs": [],
   "source": [
    "# Flattening our list of lists for all the texts to use in a follow-on question:\n",
    "concepts_list = results.select(\"concepts\").to_list(flatten=True)\n",
    "# concepts_list"
   ]
  },
  {
   "cell_type": "code",
   "execution_count": 10,
   "id": "dfdc75b6-96ca-4150-88ff-efffa5ba0001",
   "metadata": {},
   "outputs": [],
   "source": [
    "q_condense = QuestionList(\n",
    "    question_name = \"condense\",\n",
    "    question_text = \"Return a condensed list of the following list of concepts: \" + \", \".join(concepts_list),\n",
    "    max_list_items = 10\n",
    ")"
   ]
  },
  {
   "cell_type": "markdown",
   "id": "5925616e-a982-4100-a258-c1f5e12b1ef6",
   "metadata": {},
   "source": [
    "Note that we can call the `run()` method on either a survey of questions or an individual question:"
   ]
  },
  {
   "cell_type": "code",
   "execution_count": 11,
   "id": "c64b8d8a-9ce3-4611-9622-059e03a6644d",
   "metadata": {},
   "outputs": [],
   "source": [
    "results = q_condense.run()"
   ]
  },
  {
   "cell_type": "code",
   "execution_count": 12,
   "id": "68b7717a-d62a-43e2-83a7-efbf76fd400d",
   "metadata": {},
   "outputs": [
    {
     "data": {
      "text/html": [
       "<pre style=\"white-space:pre;overflow-x:auto;line-height:normal;font-family:Menlo,'DejaVu Sans Mono',consolas,'Courier New',monospace\">┏━━━━━━━━━━━━━━━━━━━━━━━━━━━━━━━━━━━━━━━━━━━━━━━━━━━━━━━━━━━━━━━━━━━━━━━━━━━━━━━━━━━━━━━━━━━━━━━━━━━━━━━━━━━━━━━━━┓\n",
       "┃<span style=\"color: #800080; text-decoration-color: #800080; font-weight: bold\"> answer                                                                                                          </span>┃\n",
       "┃<span style=\"color: #800080; text-decoration-color: #800080; font-weight: bold\"> .condense                                                                                                       </span>┃\n",
       "┡━━━━━━━━━━━━━━━━━━━━━━━━━━━━━━━━━━━━━━━━━━━━━━━━━━━━━━━━━━━━━━━━━━━━━━━━━━━━━━━━━━━━━━━━━━━━━━━━━━━━━━━━━━━━━━━━━┩\n",
       "│<span style=\"color: #7f7f7f; text-decoration-color: #7f7f7f\"> ['Easter celebrations', 'Cinco de Mayo', 'Affordable Care Act expansion', 'Teaching as a calling',              </span>│\n",
       "│<span style=\"color: #7f7f7f; text-decoration-color: #7f7f7f\"> 'Presidential Medal of Freedom', 'Medicare and Social Security plans', 'Economic fairness', 'Army Black Knights </span>│\n",
       "│<span style=\"color: #7f7f7f; text-decoration-color: #7f7f7f\"> achievement', 'American job growth', 'Holocaust Remembrance']                                                   </span>│\n",
       "└─────────────────────────────────────────────────────────────────────────────────────────────────────────────────┘\n",
       "</pre>\n"
      ],
      "text/plain": [
       "┏━━━━━━━━━━━━━━━━━━━━━━━━━━━━━━━━━━━━━━━━━━━━━━━━━━━━━━━━━━━━━━━━━━━━━━━━━━━━━━━━━━━━━━━━━━━━━━━━━━━━━━━━━━━━━━━━━┓\n",
       "┃\u001b[1;35m \u001b[0m\u001b[1;35manswer                                                                                                         \u001b[0m\u001b[1;35m \u001b[0m┃\n",
       "┃\u001b[1;35m \u001b[0m\u001b[1;35m.condense                                                                                                      \u001b[0m\u001b[1;35m \u001b[0m┃\n",
       "┡━━━━━━━━━━━━━━━━━━━━━━━━━━━━━━━━━━━━━━━━━━━━━━━━━━━━━━━━━━━━━━━━━━━━━━━━━━━━━━━━━━━━━━━━━━━━━━━━━━━━━━━━━━━━━━━━━┩\n",
       "│\u001b[2m \u001b[0m\u001b[2m['Easter celebrations', 'Cinco de Mayo', 'Affordable Care Act expansion', 'Teaching as a calling',             \u001b[0m\u001b[2m \u001b[0m│\n",
       "│\u001b[2m \u001b[0m\u001b[2m'Presidential Medal of Freedom', 'Medicare and Social Security plans', 'Economic fairness', 'Army Black Knights\u001b[0m\u001b[2m \u001b[0m│\n",
       "│\u001b[2m \u001b[0m\u001b[2machievement', 'American job growth', 'Holocaust Remembrance']                                                  \u001b[0m\u001b[2m \u001b[0m│\n",
       "└─────────────────────────────────────────────────────────────────────────────────────────────────────────────────┘\n"
      ]
     },
     "metadata": {},
     "output_type": "display_data"
    }
   ],
   "source": [
    "results.select(\"condense\").print(format=\"rich\")"
   ]
  },
  {
   "cell_type": "markdown",
   "id": "2ea27147-7051-4341-b6db-45d40f5cad5d",
   "metadata": {},
   "source": [
    "## Identify criteria for each concept\n",
    "Similar to our first step, next we can run a question prompting the model to generate criteria for each concept. We could use `QuestionFreeText` to generate criteria in an unstructured narrative:"
   ]
  },
  {
   "cell_type": "code",
   "execution_count": 13,
   "id": "7888e26a-a4a5-487f-b26f-c0eb7e170b91",
   "metadata": {},
   "outputs": [],
   "source": [
    "from edsl.questions import QuestionFreeText\n",
    "\n",
    "q_criteria = QuestionFreeText(\n",
    "    question_name = \"criteria\",\n",
    "    question_text = \"\"\"Describe key criteria for determining whether a text is primarily about the \n",
    "    following concept: {{ concept }}\"\"\"\n",
    ")"
   ]
  },
  {
   "cell_type": "markdown",
   "id": "e923ce4b-7201-423f-a706-73f863eaf272",
   "metadata": {},
   "source": [
    "For this question, the scenarios are the concepts that we generated:"
   ]
  },
  {
   "cell_type": "code",
   "execution_count": 14,
   "id": "ac9c51cc-08a5-478f-8082-ba28f994d1c1",
   "metadata": {},
   "outputs": [
    {
     "data": {
      "text/plain": [
       "[Scenario({'concept': 'Easter celebrations'}),\n",
       " Scenario({'concept': 'Cinco de Mayo'}),\n",
       " Scenario({'concept': 'Affordable Care Act expansion'}),\n",
       " Scenario({'concept': 'Teaching as a calling'}),\n",
       " Scenario({'concept': 'Presidential Medal of Freedom'}),\n",
       " Scenario({'concept': 'Medicare and Social Security plans'}),\n",
       " Scenario({'concept': 'Economic fairness'}),\n",
       " Scenario({'concept': 'Army Black Knights achievement'}),\n",
       " Scenario({'concept': 'American job growth'}),\n",
       " Scenario({'concept': 'Holocaust Remembrance'})]"
      ]
     },
     "execution_count": 14,
     "metadata": {},
     "output_type": "execute_result"
    }
   ],
   "source": [
    "condensed_concepts_list = results.select(\"condense\").to_list(flatten=True)\n",
    "\n",
    "scenarios = [Scenario({\"concept\": concept}) for concept in condensed_concepts_list]\n",
    "scenarios"
   ]
  },
  {
   "cell_type": "code",
   "execution_count": 15,
   "id": "c31d5d9e-e3f7-4031-b496-caf5dc0b9d04",
   "metadata": {},
   "outputs": [
    {
     "name": "stdout",
     "output_type": "stream",
     "text": [
      "Exceptions were raised in the following interviews: Exceptions were raised in the following interviews: [8].\n",
      "The object results.task_history contains the exceptions.             \n",
      "Exceptions are also available in the global variable 'edsl_runner_exceptions'\"\n",
      "Run \"edsl_runner_exceptions.show_exceptions()\" to see them.\n",
      "\n"
     ]
    }
   ],
   "source": [
    "results = q_criteria.by(scenarios).run()"
   ]
  },
  {
   "cell_type": "code",
   "execution_count": 16,
   "id": "73ec1f46-0314-492c-aefa-ffceb1fab326",
   "metadata": {},
   "outputs": [
    {
     "data": {
      "text/html": [
       "<pre style=\"white-space:pre;overflow-x:auto;line-height:normal;font-family:Menlo,'DejaVu Sans Mono',consolas,'Courier New',monospace\">┏━━━━━━━━━━━━━━━━━━━━━━━━━━━━━━━━━━━━┳━━━━━━━━━━━━━━━━━━━━━━━━━━━━━━━━━━━━━━━━━━━━━━━━━━━━━━━━━━━━━━━━━━━━━━━━━━━━┓\n",
       "┃<span style=\"color: #800080; text-decoration-color: #800080; font-weight: bold\"> scenario                           </span>┃<span style=\"color: #800080; text-decoration-color: #800080; font-weight: bold\"> answer                                                                     </span>┃\n",
       "┃<span style=\"color: #800080; text-decoration-color: #800080; font-weight: bold\"> .concept                           </span>┃<span style=\"color: #800080; text-decoration-color: #800080; font-weight: bold\"> .criteria                                                                  </span>┃\n",
       "┡━━━━━━━━━━━━━━━━━━━━━━━━━━━━━━━━━━━━╇━━━━━━━━━━━━━━━━━━━━━━━━━━━━━━━━━━━━━━━━━━━━━━━━━━━━━━━━━━━━━━━━━━━━━━━━━━━━┩\n",
       "│<span style=\"color: #7f7f7f; text-decoration-color: #7f7f7f\"> Easter celebrations                </span>│<span style=\"color: #7f7f7f; text-decoration-color: #7f7f7f\"> To determine if a text is primarily about Easter celebrations, key         </span>│\n",
       "│<span style=\"color: #7f7f7f; text-decoration-color: #7f7f7f\">                                    </span>│<span style=\"color: #7f7f7f; text-decoration-color: #7f7f7f\"> criteria would include the presence of specific terms and themes related   </span>│\n",
       "│<span style=\"color: #7f7f7f; text-decoration-color: #7f7f7f\">                                    </span>│<span style=\"color: #7f7f7f; text-decoration-color: #7f7f7f\"> to Easter, such as 'Easter Sunday', 'Easter eggs', 'Easter bunny',         </span>│\n",
       "│<span style=\"color: #7f7f7f; text-decoration-color: #7f7f7f\">                                    </span>│<span style=\"color: #7f7f7f; text-decoration-color: #7f7f7f\"> 'resurrection', 'church services', and 'family gatherings'. The text       </span>│\n",
       "│<span style=\"color: #7f7f7f; text-decoration-color: #7f7f7f\">                                    </span>│<span style=\"color: #7f7f7f; text-decoration-color: #7f7f7f\"> should focus on activities associated with the holiday, such as egg hunts, </span>│\n",
       "│<span style=\"color: #7f7f7f; text-decoration-color: #7f7f7f\">                                    </span>│<span style=\"color: #7f7f7f; text-decoration-color: #7f7f7f\"> special meals, or religious services. References to the historical and     </span>│\n",
       "│<span style=\"color: #7f7f7f; text-decoration-color: #7f7f7f\">                                    </span>│<span style=\"color: #7f7f7f; text-decoration-color: #7f7f7f\"> cultural significance of Easter, as well as descriptions of traditional    </span>│\n",
       "│<span style=\"color: #7f7f7f; text-decoration-color: #7f7f7f\">                                    </span>│<span style=\"color: #7f7f7f; text-decoration-color: #7f7f7f\"> customs and practices, would also indicate that the text is centered on    </span>│\n",
       "│<span style=\"color: #7f7f7f; text-decoration-color: #7f7f7f\">                                    </span>│<span style=\"color: #7f7f7f; text-decoration-color: #7f7f7f\"> Easter celebrations.                                                       </span>│\n",
       "├────────────────────────────────────┼────────────────────────────────────────────────────────────────────────────┤\n",
       "│<span style=\"color: #7f7f7f; text-decoration-color: #7f7f7f\"> Cinco de Mayo                      </span>│<span style=\"color: #7f7f7f; text-decoration-color: #7f7f7f\"> Key criteria for determining whether a text is primarily about Cinco de    </span>│\n",
       "│<span style=\"color: #7f7f7f; text-decoration-color: #7f7f7f\">                                    </span>│<span style=\"color: #7f7f7f; text-decoration-color: #7f7f7f\"> Mayo would include the presence of specific references to the holiday's    </span>│\n",
       "│<span style=\"color: #7f7f7f; text-decoration-color: #7f7f7f\">                                    </span>│<span style=\"color: #7f7f7f; text-decoration-color: #7f7f7f\"> name 'Cinco de Mayo', its historical significance such as the Battle of    </span>│\n",
       "│<span style=\"color: #7f7f7f; text-decoration-color: #7f7f7f\">                                    </span>│<span style=\"color: #7f7f7f; text-decoration-color: #7f7f7f\"> Puebla and the victory of Mexican forces over the French army on May 5,    </span>│\n",
       "│<span style=\"color: #7f7f7f; text-decoration-color: #7f7f7f\">                                    </span>│<span style=\"color: #7f7f7f; text-decoration-color: #7f7f7f\"> 1862, cultural celebrations associated with the day including parades,     </span>│\n",
       "│<span style=\"color: #7f7f7f; text-decoration-color: #7f7f7f\">                                    </span>│<span style=\"color: #7f7f7f; text-decoration-color: #7f7f7f\"> food, music, and dance, especially Mexican traditions, the mention of its  </span>│\n",
       "│<span style=\"color: #7f7f7f; text-decoration-color: #7f7f7f\">                                    </span>│<span style=\"color: #7f7f7f; text-decoration-color: #7f7f7f\"> celebration primarily in Mexico and the United States, and discussions     </span>│\n",
       "│<span style=\"color: #7f7f7f; text-decoration-color: #7f7f7f\">                                    </span>│<span style=\"color: #7f7f7f; text-decoration-color: #7f7f7f\"> about the common misconceptions of it being Mexico's Independence Day. The </span>│\n",
       "│<span style=\"color: #7f7f7f; text-decoration-color: #7f7f7f\">                                    </span>│<span style=\"color: #7f7f7f; text-decoration-color: #7f7f7f\"> text should focus on these aspects to be considered primarily about Cinco  </span>│\n",
       "│<span style=\"color: #7f7f7f; text-decoration-color: #7f7f7f\">                                    </span>│<span style=\"color: #7f7f7f; text-decoration-color: #7f7f7f\"> de Mayo.                                                                   </span>│\n",
       "├────────────────────────────────────┼────────────────────────────────────────────────────────────────────────────┤\n",
       "│<span style=\"color: #7f7f7f; text-decoration-color: #7f7f7f\"> Presidential Medal of Freedom      </span>│<span style=\"color: #7f7f7f; text-decoration-color: #7f7f7f\"> To determine if a text is primarily about the Presidential Medal of        </span>│\n",
       "│<span style=\"color: #7f7f7f; text-decoration-color: #7f7f7f\">                                    </span>│<span style=\"color: #7f7f7f; text-decoration-color: #7f7f7f\"> Freedom, key criteria would include: 1) Mention of the award by name, 2)   </span>│\n",
       "│<span style=\"color: #7f7f7f; text-decoration-color: #7f7f7f\">                                    </span>│<span style=\"color: #7f7f7f; text-decoration-color: #7f7f7f\"> Discussion of its significance as the highest civilian award in the United </span>│\n",
       "│<span style=\"color: #7f7f7f; text-decoration-color: #7f7f7f\">                                    </span>│<span style=\"color: #7f7f7f; text-decoration-color: #7f7f7f\"> States, 3) Reference to notable recipients or specific award ceremonies,   </span>│\n",
       "│<span style=\"color: #7f7f7f; text-decoration-color: #7f7f7f\">                                    </span>│<span style=\"color: #7f7f7f; text-decoration-color: #7f7f7f\"> 4) Description of the criteria for selection or the selection process, 5)  </span>│\n",
       "│<span style=\"color: #7f7f7f; text-decoration-color: #7f7f7f\">                                    </span>│<span style=\"color: #7f7f7f; text-decoration-color: #7f7f7f\"> Context about the history or background of the medal, 6) Mention of the    </span>│\n",
       "│<span style=\"color: #7f7f7f; text-decoration-color: #7f7f7f\">                                    </span>│<span style=\"color: #7f7f7f; text-decoration-color: #7f7f7f\"> President's role in awarding the medal, and 7) Exploration of the impact   </span>│\n",
       "│<span style=\"color: #7f7f7f; text-decoration-color: #7f7f7f\">                                    </span>│<span style=\"color: #7f7f7f; text-decoration-color: #7f7f7f\"> or importance of the medal in recognizing exceptional contributions to     </span>│\n",
       "│<span style=\"color: #7f7f7f; text-decoration-color: #7f7f7f\">                                    </span>│<span style=\"color: #7f7f7f; text-decoration-color: #7f7f7f\"> society.                                                                   </span>│\n",
       "├────────────────────────────────────┼────────────────────────────────────────────────────────────────────────────┤\n",
       "│<span style=\"color: #7f7f7f; text-decoration-color: #7f7f7f\"> Medicare and Social Security plans </span>│<span style=\"color: #7f7f7f; text-decoration-color: #7f7f7f\"> To determine if a text is primarily about Medicare and Social Security     </span>│\n",
       "│<span style=\"color: #7f7f7f; text-decoration-color: #7f7f7f\">                                    </span>│<span style=\"color: #7f7f7f; text-decoration-color: #7f7f7f\"> plans, one would look for key criteria such as the presence of terms and   </span>│\n",
       "│<span style=\"color: #7f7f7f; text-decoration-color: #7f7f7f\">                                    </span>│<span style=\"color: #7f7f7f; text-decoration-color: #7f7f7f\"> discussions related to health insurance for seniors and disabled           </span>│\n",
       "│<span style=\"color: #7f7f7f; text-decoration-color: #7f7f7f\">                                    </span>│<span style=\"color: #7f7f7f; text-decoration-color: #7f7f7f\"> individuals (Medicare), as well as the federal program providing           </span>│\n",
       "│<span style=\"color: #7f7f7f; text-decoration-color: #7f7f7f\">                                    </span>│<span style=\"color: #7f7f7f; text-decoration-color: #7f7f7f\"> retirement, disability, and survivors benefits (Social Security). The text </span>│\n",
       "│<span style=\"color: #7f7f7f; text-decoration-color: #7f7f7f\">                                    </span>│<span style=\"color: #7f7f7f; text-decoration-color: #7f7f7f\"> should contain information on eligibility, benefits, policy changes,       </span>│\n",
       "│<span style=\"color: #7f7f7f; text-decoration-color: #7f7f7f\">                                    </span>│<span style=\"color: #7f7f7f; text-decoration-color: #7f7f7f\"> funding, and legislative aspects of these programs. Additionally, the text </span>│\n",
       "│<span style=\"color: #7f7f7f; text-decoration-color: #7f7f7f\">                                    </span>│<span style=\"color: #7f7f7f; text-decoration-color: #7f7f7f\"> might discuss the historical context, current debates, challenges, and     </span>│\n",
       "│<span style=\"color: #7f7f7f; text-decoration-color: #7f7f7f\">                                    </span>│<span style=\"color: #7f7f7f; text-decoration-color: #7f7f7f\"> proposed reforms surrounding Medicare and Social Security. The focus       </span>│\n",
       "│<span style=\"color: #7f7f7f; text-decoration-color: #7f7f7f\">                                    </span>│<span style=\"color: #7f7f7f; text-decoration-color: #7f7f7f\"> should be on the structure, administration, and impact of these plans on   </span>│\n",
       "│<span style=\"color: #7f7f7f; text-decoration-color: #7f7f7f\">                                    </span>│<span style=\"color: #7f7f7f; text-decoration-color: #7f7f7f\"> individuals and society.                                                   </span>│\n",
       "├────────────────────────────────────┼────────────────────────────────────────────────────────────────────────────┤\n",
       "│<span style=\"color: #7f7f7f; text-decoration-color: #7f7f7f\"> Army Black Knights achievement     </span>│<span style=\"color: #7f7f7f; text-decoration-color: #7f7f7f\"> To determine whether a text is primarily about the 'Army Black Knights     </span>│\n",
       "│<span style=\"color: #7f7f7f; text-decoration-color: #7f7f7f\">                                    </span>│<span style=\"color: #7f7f7f; text-decoration-color: #7f7f7f\"> achievement,' one would look for several key criteria within the text.     </span>│\n",
       "│<span style=\"color: #7f7f7f; text-decoration-color: #7f7f7f\">                                    </span>│<span style=\"color: #7f7f7f; text-decoration-color: #7f7f7f\"> These criteria include a focus on accomplishments and milestones achieved  </span>│\n",
       "│<span style=\"color: #7f7f7f; text-decoration-color: #7f7f7f\">                                    </span>│<span style=\"color: #7f7f7f; text-decoration-color: #7f7f7f\"> by the Army Black Knights, which is the name of the sports teams at the    </span>│\n",
       "│<span style=\"color: #7f7f7f; text-decoration-color: #7f7f7f\">                                    </span>│<span style=\"color: #7f7f7f; text-decoration-color: #7f7f7f\"> United States Military Academy at West Point, New York. The text should    </span>│\n",
       "│<span style=\"color: #7f7f7f; text-decoration-color: #7f7f7f\">                                    </span>│<span style=\"color: #7f7f7f; text-decoration-color: #7f7f7f\"> mention specific sports such as football, basketball, or any other sports  </span>│\n",
       "│<span style=\"color: #7f7f7f; text-decoration-color: #7f7f7f\">                                    </span>│<span style=\"color: #7f7f7f; text-decoration-color: #7f7f7f\"> in which the Army Black Knights compete. It should detail achievements     </span>│\n",
       "│<span style=\"color: #7f7f7f; text-decoration-color: #7f7f7f\">                                    </span>│<span style=\"color: #7f7f7f; text-decoration-color: #7f7f7f\"> such as winning records, championship titles, bowl games, notable          </span>│\n",
       "│<span style=\"color: #7f7f7f; text-decoration-color: #7f7f7f\">                                    </span>│<span style=\"color: #7f7f7f; text-decoration-color: #7f7f7f\"> competitions, individual player honors, or historical successes.           </span>│\n",
       "│<span style=\"color: #7f7f7f; text-decoration-color: #7f7f7f\">                                    </span>│<span style=\"color: #7f7f7f; text-decoration-color: #7f7f7f\"> Recognition by external bodies, such as NCAA awards, would also be         </span>│\n",
       "│<span style=\"color: #7f7f7f; text-decoration-color: #7f7f7f\">                                    </span>│<span style=\"color: #7f7f7f; text-decoration-color: #7f7f7f\"> relevant. Additionally, the text might discuss the impact of these         </span>│\n",
       "│<span style=\"color: #7f7f7f; text-decoration-color: #7f7f7f\">                                    </span>│<span style=\"color: #7f7f7f; text-decoration-color: #7f7f7f\"> achievements on the academy, the military community, or the broader domain </span>│\n",
       "│<span style=\"color: #7f7f7f; text-decoration-color: #7f7f7f\">                                    </span>│<span style=\"color: #7f7f7f; text-decoration-color: #7f7f7f\"> of collegiate sports. The presence of dates, statistics, and records would </span>│\n",
       "│<span style=\"color: #7f7f7f; text-decoration-color: #7f7f7f\">                                    </span>│<span style=\"color: #7f7f7f; text-decoration-color: #7f7f7f\"> support the focus on achievements. The overall narrative should celebrate  </span>│\n",
       "│<span style=\"color: #7f7f7f; text-decoration-color: #7f7f7f\">                                    </span>│<span style=\"color: #7f7f7f; text-decoration-color: #7f7f7f\"> or analyze the successes of the Army Black Knights, making their           </span>│\n",
       "│<span style=\"color: #7f7f7f; text-decoration-color: #7f7f7f\">                                    </span>│<span style=\"color: #7f7f7f; text-decoration-color: #7f7f7f\"> accomplishments the central theme of the text.                             </span>│\n",
       "├────────────────────────────────────┼────────────────────────────────────────────────────────────────────────────┤\n",
       "│<span style=\"color: #7f7f7f; text-decoration-color: #7f7f7f\"> Holocaust Remembrance              </span>│<span style=\"color: #7f7f7f; text-decoration-color: #7f7f7f\"> To determine if a text is primarily about Holocaust Remembrance, one would </span>│\n",
       "│<span style=\"color: #7f7f7f; text-decoration-color: #7f7f7f\">                                    </span>│<span style=\"color: #7f7f7f; text-decoration-color: #7f7f7f\"> look for several key criteria. Firstly, the text would likely mention      </span>│\n",
       "│<span style=\"color: #7f7f7f; text-decoration-color: #7f7f7f\">                                    </span>│<span style=\"color: #7f7f7f; text-decoration-color: #7f7f7f\"> specific events related to the Holocaust, such as the systematic           </span>│\n",
       "│<span style=\"color: #7f7f7f; text-decoration-color: #7f7f7f\">                                    </span>│<span style=\"color: #7f7f7f; text-decoration-color: #7f7f7f\"> persecution and annihilation of six million Jews by the Nazi regime.       </span>│\n",
       "│<span style=\"color: #7f7f7f; text-decoration-color: #7f7f7f\">                                    </span>│<span style=\"color: #7f7f7f; text-decoration-color: #7f7f7f\"> Secondly, it would discuss acts of commemoration, such as memorial         </span>│\n",
       "│<span style=\"color: #7f7f7f; text-decoration-color: #7f7f7f\">                                    </span>│<span style=\"color: #7f7f7f; text-decoration-color: #7f7f7f\"> services, educational programs, and moments of silence. Thirdly, the text  </span>│\n",
       "│<span style=\"color: #7f7f7f; text-decoration-color: #7f7f7f\">                                    </span>│<span style=\"color: #7f7f7f; text-decoration-color: #7f7f7f\"> might reference symbols and observances associated with Holocaust          </span>│\n",
       "│<span style=\"color: #7f7f7f; text-decoration-color: #7f7f7f\">                                    </span>│<span style=\"color: #7f7f7f; text-decoration-color: #7f7f7f\"> Remembrance, like the date of International Holocaust Remembrance Day      </span>│\n",
       "│<span style=\"color: #7f7f7f; text-decoration-color: #7f7f7f\">                                    </span>│<span style=\"color: #7f7f7f; text-decoration-color: #7f7f7f\"> (January 27th), the lighting of candles, or the reading of names of        </span>│\n",
       "│<span style=\"color: #7f7f7f; text-decoration-color: #7f7f7f\">                                    </span>│<span style=\"color: #7f7f7f; text-decoration-color: #7f7f7f\"> victims. Additionally, discussions of the importance of remembering the    </span>│\n",
       "│<span style=\"color: #7f7f7f; text-decoration-color: #7f7f7f\">                                    </span>│<span style=\"color: #7f7f7f; text-decoration-color: #7f7f7f\"> Holocaust to prevent future genocides, the role of survivors' testimonies, </span>│\n",
       "│<span style=\"color: #7f7f7f; text-decoration-color: #7f7f7f\">                                    </span>│<span style=\"color: #7f7f7f; text-decoration-color: #7f7f7f\"> and the moral lessons learned from this dark period in history would be    </span>│\n",
       "│<span style=\"color: #7f7f7f; text-decoration-color: #7f7f7f\">                                    </span>│<span style=\"color: #7f7f7f; text-decoration-color: #7f7f7f\"> indicative of the text's focus on Holocaust Remembrance.                   </span>│\n",
       "├────────────────────────────────────┼────────────────────────────────────────────────────────────────────────────┤\n",
       "│<span style=\"color: #7f7f7f; text-decoration-color: #7f7f7f\"> Teaching as a calling              </span>│<span style=\"color: #7f7f7f; text-decoration-color: #7f7f7f\"> To determine whether a text is primarily about 'Teaching as a calling',    </span>│\n",
       "│<span style=\"color: #7f7f7f; text-decoration-color: #7f7f7f\">                                    </span>│<span style=\"color: #7f7f7f; text-decoration-color: #7f7f7f\"> key criteria would include: the presence of language that emphasizes       </span>│\n",
       "│<span style=\"color: #7f7f7f; text-decoration-color: #7f7f7f\">                                    </span>│<span style=\"color: #7f7f7f; text-decoration-color: #7f7f7f\"> teaching as a vocation or mission rather than just a job; discussions or   </span>│\n",
       "│<span style=\"color: #7f7f7f; text-decoration-color: #7f7f7f\">                                    </span>│<span style=\"color: #7f7f7f; text-decoration-color: #7f7f7f\"> narratives that focus on the intrinsic rewards of teaching, such as the    </span>│\n",
       "│<span style=\"color: #7f7f7f; text-decoration-color: #7f7f7f\">                                    </span>│<span style=\"color: #7f7f7f; text-decoration-color: #7f7f7f\"> joy of contributing to students' growth or the passion for sharing         </span>│\n",
       "│<span style=\"color: #7f7f7f; text-decoration-color: #7f7f7f\">                                    </span>│<span style=\"color: #7f7f7f; text-decoration-color: #7f7f7f\"> knowledge; testimonials or stories from educators who express a deep,      </span>│\n",
       "│<span style=\"color: #7f7f7f; text-decoration-color: #7f7f7f\">                                    </span>│<span style=\"color: #7f7f7f; text-decoration-color: #7f7f7f\"> personal connection to their profession; exploration of the                </span>│\n",
       "│<span style=\"color: #7f7f7f; text-decoration-color: #7f7f7f\">                                    </span>│<span style=\"color: #7f7f7f; text-decoration-color: #7f7f7f\"> characteristics that make someone a natural teacher, such as empathy,      </span>│\n",
       "│<span style=\"color: #7f7f7f; text-decoration-color: #7f7f7f\">                                    </span>│<span style=\"color: #7f7f7f; text-decoration-color: #7f7f7f\"> patience, and a love of learning; and an examination of the societal and   </span>│\n",
       "│<span style=\"color: #7f7f7f; text-decoration-color: #7f7f7f\">                                    </span>│<span style=\"color: #7f7f7f; text-decoration-color: #7f7f7f\"> cultural value placed on teaching as a noble and essential role.           </span>│\n",
       "├────────────────────────────────────┼────────────────────────────────────────────────────────────────────────────┤\n",
       "│<span style=\"color: #7f7f7f; text-decoration-color: #7f7f7f\"> Affordable Care Act expansion      </span>│<span style=\"color: #7f7f7f; text-decoration-color: #7f7f7f\"> To determine whether a text is primarily about the Affordable Care Act     </span>│\n",
       "│<span style=\"color: #7f7f7f; text-decoration-color: #7f7f7f\">                                    </span>│<span style=\"color: #7f7f7f; text-decoration-color: #7f7f7f\"> (ACA) expansion, one should look for key criteria such as: explicit        </span>│\n",
       "│<span style=\"color: #7f7f7f; text-decoration-color: #7f7f7f\">                                    </span>│<span style=\"color: #7f7f7f; text-decoration-color: #7f7f7f\"> mention of the ACA expansion or its common synonyms (like Obamacare        </span>│\n",
       "│<span style=\"color: #7f7f7f; text-decoration-color: #7f7f7f\">                                    </span>│<span style=\"color: #7f7f7f; text-decoration-color: #7f7f7f\"> expansion); discussion of the increase in the number of individuals        </span>│\n",
       "│<span style=\"color: #7f7f7f; text-decoration-color: #7f7f7f\">                                    </span>│<span style=\"color: #7f7f7f; text-decoration-color: #7f7f7f\"> covered by health insurance through the ACA; details on the extension of   </span>│\n",
       "│<span style=\"color: #7f7f7f; text-decoration-color: #7f7f7f\">                                    </span>│<span style=\"color: #7f7f7f; text-decoration-color: #7f7f7f\"> Medicaid coverage or changes in subsidies that make insurance more         </span>│\n",
       "│<span style=\"color: #7f7f7f; text-decoration-color: #7f7f7f\">                                    </span>│<span style=\"color: #7f7f7f; text-decoration-color: #7f7f7f\"> affordable; analysis of the impact of the expansion on different           </span>│\n",
       "│<span style=\"color: #7f7f7f; text-decoration-color: #7f7f7f\">                                    </span>│<span style=\"color: #7f7f7f; text-decoration-color: #7f7f7f\"> population groups; and references to legislative actions or court          </span>│\n",
       "│<span style=\"color: #7f7f7f; text-decoration-color: #7f7f7f\">                                    </span>│<span style=\"color: #7f7f7f; text-decoration-color: #7f7f7f\"> decisions related to the expansion of the ACA. The presence of these       </span>│\n",
       "│<span style=\"color: #7f7f7f; text-decoration-color: #7f7f7f\">                                    </span>│<span style=\"color: #7f7f7f; text-decoration-color: #7f7f7f\"> elements would indicate that the text's primary focus is on the Affordable </span>│\n",
       "│<span style=\"color: #7f7f7f; text-decoration-color: #7f7f7f\">                                    </span>│<span style=\"color: #7f7f7f; text-decoration-color: #7f7f7f\"> Care Act expansion.                                                        </span>│\n",
       "├────────────────────────────────────┼────────────────────────────────────────────────────────────────────────────┤\n",
       "│<span style=\"color: #7f7f7f; text-decoration-color: #7f7f7f\"> Economic fairness                  </span>│<span style=\"color: #7f7f7f; text-decoration-color: #7f7f7f\"> To determine whether a text is primarily about economic fairness, one      </span>│\n",
       "│<span style=\"color: #7f7f7f; text-decoration-color: #7f7f7f\">                                    </span>│<span style=\"color: #7f7f7f; text-decoration-color: #7f7f7f\"> would look for several key criteria. Firstly, the text should discuss the  </span>│\n",
       "│<span style=\"color: #7f7f7f; text-decoration-color: #7f7f7f\">                                    </span>│<span style=\"color: #7f7f7f; text-decoration-color: #7f7f7f\"> equitable distribution of wealth and resources within a society,           </span>│\n",
       "│<span style=\"color: #7f7f7f; text-decoration-color: #7f7f7f\">                                    </span>│<span style=\"color: #7f7f7f; text-decoration-color: #7f7f7f\"> addressing issues such as income inequality, poverty, and access to        </span>│\n",
       "│<span style=\"color: #7f7f7f; text-decoration-color: #7f7f7f\">                                    </span>│<span style=\"color: #7f7f7f; text-decoration-color: #7f7f7f\"> opportunities. It might also explore the fairness of economic systems and  </span>│\n",
       "│<span style=\"color: #7f7f7f; text-decoration-color: #7f7f7f\">                                    </span>│<span style=\"color: #7f7f7f; text-decoration-color: #7f7f7f\"> policies, including taxation, wages, social welfare, and public services.  </span>│\n",
       "│<span style=\"color: #7f7f7f; text-decoration-color: #7f7f7f\">                                    </span>│<span style=\"color: #7f7f7f; text-decoration-color: #7f7f7f\"> Additionally, the text may analyze the impact of economic fairness on      </span>│\n",
       "│<span style=\"color: #7f7f7f; text-decoration-color: #7f7f7f\">                                    </span>│<span style=\"color: #7f7f7f; text-decoration-color: #7f7f7f\"> different demographics, considering factors such as race, gender, and      </span>│\n",
       "│<span style=\"color: #7f7f7f; text-decoration-color: #7f7f7f\">                                    </span>│<span style=\"color: #7f7f7f; text-decoration-color: #7f7f7f\"> class. Furthermore, it may evaluate historical and contemporary examples   </span>│\n",
       "│<span style=\"color: #7f7f7f; text-decoration-color: #7f7f7f\">                                    </span>│<span style=\"color: #7f7f7f; text-decoration-color: #7f7f7f\"> of economic justice or injustice and propose solutions or reforms aimed at </span>│\n",
       "│<span style=\"color: #7f7f7f; text-decoration-color: #7f7f7f\">                                    </span>│<span style=\"color: #7f7f7f; text-decoration-color: #7f7f7f\"> achieving greater economic equity. Lastly, the text should use terminology </span>│\n",
       "│<span style=\"color: #7f7f7f; text-decoration-color: #7f7f7f\">                                    </span>│<span style=\"color: #7f7f7f; text-decoration-color: #7f7f7f\"> and frameworks associated with economic theory, social justice, and        </span>│\n",
       "│<span style=\"color: #7f7f7f; text-decoration-color: #7f7f7f\">                                    </span>│<span style=\"color: #7f7f7f; text-decoration-color: #7f7f7f\"> ethical considerations related to the distribution of economic benefits    </span>│\n",
       "│<span style=\"color: #7f7f7f; text-decoration-color: #7f7f7f\">                                    </span>│<span style=\"color: #7f7f7f; text-decoration-color: #7f7f7f\"> and burdens.                                                               </span>│\n",
       "├────────────────────────────────────┼────────────────────────────────────────────────────────────────────────────┤\n",
       "│<span style=\"color: #7f7f7f; text-decoration-color: #7f7f7f\"> American job growth                </span>│<span style=\"color: #7f7f7f; text-decoration-color: #7f7f7f\"> None                                                                       </span>│\n",
       "└────────────────────────────────────┴────────────────────────────────────────────────────────────────────────────┘\n",
       "</pre>\n"
      ],
      "text/plain": [
       "┏━━━━━━━━━━━━━━━━━━━━━━━━━━━━━━━━━━━━┳━━━━━━━━━━━━━━━━━━━━━━━━━━━━━━━━━━━━━━━━━━━━━━━━━━━━━━━━━━━━━━━━━━━━━━━━━━━━┓\n",
       "┃\u001b[1;35m \u001b[0m\u001b[1;35mscenario                          \u001b[0m\u001b[1;35m \u001b[0m┃\u001b[1;35m \u001b[0m\u001b[1;35manswer                                                                    \u001b[0m\u001b[1;35m \u001b[0m┃\n",
       "┃\u001b[1;35m \u001b[0m\u001b[1;35m.concept                          \u001b[0m\u001b[1;35m \u001b[0m┃\u001b[1;35m \u001b[0m\u001b[1;35m.criteria                                                                 \u001b[0m\u001b[1;35m \u001b[0m┃\n",
       "┡━━━━━━━━━━━━━━━━━━━━━━━━━━━━━━━━━━━━╇━━━━━━━━━━━━━━━━━━━━━━━━━━━━━━━━━━━━━━━━━━━━━━━━━━━━━━━━━━━━━━━━━━━━━━━━━━━━┩\n",
       "│\u001b[2m \u001b[0m\u001b[2mEaster celebrations               \u001b[0m\u001b[2m \u001b[0m│\u001b[2m \u001b[0m\u001b[2mTo determine if a text is primarily about Easter celebrations, key        \u001b[0m\u001b[2m \u001b[0m│\n",
       "│\u001b[2m                                    \u001b[0m│\u001b[2m \u001b[0m\u001b[2mcriteria would include the presence of specific terms and themes related  \u001b[0m\u001b[2m \u001b[0m│\n",
       "│\u001b[2m                                    \u001b[0m│\u001b[2m \u001b[0m\u001b[2mto Easter, such as 'Easter Sunday', 'Easter eggs', 'Easter bunny',        \u001b[0m\u001b[2m \u001b[0m│\n",
       "│\u001b[2m                                    \u001b[0m│\u001b[2m \u001b[0m\u001b[2m'resurrection', 'church services', and 'family gatherings'. The text      \u001b[0m\u001b[2m \u001b[0m│\n",
       "│\u001b[2m                                    \u001b[0m│\u001b[2m \u001b[0m\u001b[2mshould focus on activities associated with the holiday, such as egg hunts,\u001b[0m\u001b[2m \u001b[0m│\n",
       "│\u001b[2m                                    \u001b[0m│\u001b[2m \u001b[0m\u001b[2mspecial meals, or religious services. References to the historical and    \u001b[0m\u001b[2m \u001b[0m│\n",
       "│\u001b[2m                                    \u001b[0m│\u001b[2m \u001b[0m\u001b[2mcultural significance of Easter, as well as descriptions of traditional   \u001b[0m\u001b[2m \u001b[0m│\n",
       "│\u001b[2m                                    \u001b[0m│\u001b[2m \u001b[0m\u001b[2mcustoms and practices, would also indicate that the text is centered on   \u001b[0m\u001b[2m \u001b[0m│\n",
       "│\u001b[2m                                    \u001b[0m│\u001b[2m \u001b[0m\u001b[2mEaster celebrations.                                                      \u001b[0m\u001b[2m \u001b[0m│\n",
       "├────────────────────────────────────┼────────────────────────────────────────────────────────────────────────────┤\n",
       "│\u001b[2m \u001b[0m\u001b[2mCinco de Mayo                     \u001b[0m\u001b[2m \u001b[0m│\u001b[2m \u001b[0m\u001b[2mKey criteria for determining whether a text is primarily about Cinco de   \u001b[0m\u001b[2m \u001b[0m│\n",
       "│\u001b[2m                                    \u001b[0m│\u001b[2m \u001b[0m\u001b[2mMayo would include the presence of specific references to the holiday's   \u001b[0m\u001b[2m \u001b[0m│\n",
       "│\u001b[2m                                    \u001b[0m│\u001b[2m \u001b[0m\u001b[2mname 'Cinco de Mayo', its historical significance such as the Battle of   \u001b[0m\u001b[2m \u001b[0m│\n",
       "│\u001b[2m                                    \u001b[0m│\u001b[2m \u001b[0m\u001b[2mPuebla and the victory of Mexican forces over the French army on May 5,   \u001b[0m\u001b[2m \u001b[0m│\n",
       "│\u001b[2m                                    \u001b[0m│\u001b[2m \u001b[0m\u001b[2m1862, cultural celebrations associated with the day including parades,    \u001b[0m\u001b[2m \u001b[0m│\n",
       "│\u001b[2m                                    \u001b[0m│\u001b[2m \u001b[0m\u001b[2mfood, music, and dance, especially Mexican traditions, the mention of its \u001b[0m\u001b[2m \u001b[0m│\n",
       "│\u001b[2m                                    \u001b[0m│\u001b[2m \u001b[0m\u001b[2mcelebration primarily in Mexico and the United States, and discussions    \u001b[0m\u001b[2m \u001b[0m│\n",
       "│\u001b[2m                                    \u001b[0m│\u001b[2m \u001b[0m\u001b[2mabout the common misconceptions of it being Mexico's Independence Day. The\u001b[0m\u001b[2m \u001b[0m│\n",
       "│\u001b[2m                                    \u001b[0m│\u001b[2m \u001b[0m\u001b[2mtext should focus on these aspects to be considered primarily about Cinco \u001b[0m\u001b[2m \u001b[0m│\n",
       "│\u001b[2m                                    \u001b[0m│\u001b[2m \u001b[0m\u001b[2mde Mayo.                                                                  \u001b[0m\u001b[2m \u001b[0m│\n",
       "├────────────────────────────────────┼────────────────────────────────────────────────────────────────────────────┤\n",
       "│\u001b[2m \u001b[0m\u001b[2mPresidential Medal of Freedom     \u001b[0m\u001b[2m \u001b[0m│\u001b[2m \u001b[0m\u001b[2mTo determine if a text is primarily about the Presidential Medal of       \u001b[0m\u001b[2m \u001b[0m│\n",
       "│\u001b[2m                                    \u001b[0m│\u001b[2m \u001b[0m\u001b[2mFreedom, key criteria would include: 1) Mention of the award by name, 2)  \u001b[0m\u001b[2m \u001b[0m│\n",
       "│\u001b[2m                                    \u001b[0m│\u001b[2m \u001b[0m\u001b[2mDiscussion of its significance as the highest civilian award in the United\u001b[0m\u001b[2m \u001b[0m│\n",
       "│\u001b[2m                                    \u001b[0m│\u001b[2m \u001b[0m\u001b[2mStates, 3) Reference to notable recipients or specific award ceremonies,  \u001b[0m\u001b[2m \u001b[0m│\n",
       "│\u001b[2m                                    \u001b[0m│\u001b[2m \u001b[0m\u001b[2m4) Description of the criteria for selection or the selection process, 5) \u001b[0m\u001b[2m \u001b[0m│\n",
       "│\u001b[2m                                    \u001b[0m│\u001b[2m \u001b[0m\u001b[2mContext about the history or background of the medal, 6) Mention of the   \u001b[0m\u001b[2m \u001b[0m│\n",
       "│\u001b[2m                                    \u001b[0m│\u001b[2m \u001b[0m\u001b[2mPresident's role in awarding the medal, and 7) Exploration of the impact  \u001b[0m\u001b[2m \u001b[0m│\n",
       "│\u001b[2m                                    \u001b[0m│\u001b[2m \u001b[0m\u001b[2mor importance of the medal in recognizing exceptional contributions to    \u001b[0m\u001b[2m \u001b[0m│\n",
       "│\u001b[2m                                    \u001b[0m│\u001b[2m \u001b[0m\u001b[2msociety.                                                                  \u001b[0m\u001b[2m \u001b[0m│\n",
       "├────────────────────────────────────┼────────────────────────────────────────────────────────────────────────────┤\n",
       "│\u001b[2m \u001b[0m\u001b[2mMedicare and Social Security plans\u001b[0m\u001b[2m \u001b[0m│\u001b[2m \u001b[0m\u001b[2mTo determine if a text is primarily about Medicare and Social Security    \u001b[0m\u001b[2m \u001b[0m│\n",
       "│\u001b[2m                                    \u001b[0m│\u001b[2m \u001b[0m\u001b[2mplans, one would look for key criteria such as the presence of terms and  \u001b[0m\u001b[2m \u001b[0m│\n",
       "│\u001b[2m                                    \u001b[0m│\u001b[2m \u001b[0m\u001b[2mdiscussions related to health insurance for seniors and disabled          \u001b[0m\u001b[2m \u001b[0m│\n",
       "│\u001b[2m                                    \u001b[0m│\u001b[2m \u001b[0m\u001b[2mindividuals (Medicare), as well as the federal program providing          \u001b[0m\u001b[2m \u001b[0m│\n",
       "│\u001b[2m                                    \u001b[0m│\u001b[2m \u001b[0m\u001b[2mretirement, disability, and survivors benefits (Social Security). The text\u001b[0m\u001b[2m \u001b[0m│\n",
       "│\u001b[2m                                    \u001b[0m│\u001b[2m \u001b[0m\u001b[2mshould contain information on eligibility, benefits, policy changes,      \u001b[0m\u001b[2m \u001b[0m│\n",
       "│\u001b[2m                                    \u001b[0m│\u001b[2m \u001b[0m\u001b[2mfunding, and legislative aspects of these programs. Additionally, the text\u001b[0m\u001b[2m \u001b[0m│\n",
       "│\u001b[2m                                    \u001b[0m│\u001b[2m \u001b[0m\u001b[2mmight discuss the historical context, current debates, challenges, and    \u001b[0m\u001b[2m \u001b[0m│\n",
       "│\u001b[2m                                    \u001b[0m│\u001b[2m \u001b[0m\u001b[2mproposed reforms surrounding Medicare and Social Security. The focus      \u001b[0m\u001b[2m \u001b[0m│\n",
       "│\u001b[2m                                    \u001b[0m│\u001b[2m \u001b[0m\u001b[2mshould be on the structure, administration, and impact of these plans on  \u001b[0m\u001b[2m \u001b[0m│\n",
       "│\u001b[2m                                    \u001b[0m│\u001b[2m \u001b[0m\u001b[2mindividuals and society.                                                  \u001b[0m\u001b[2m \u001b[0m│\n",
       "├────────────────────────────────────┼────────────────────────────────────────────────────────────────────────────┤\n",
       "│\u001b[2m \u001b[0m\u001b[2mArmy Black Knights achievement    \u001b[0m\u001b[2m \u001b[0m│\u001b[2m \u001b[0m\u001b[2mTo determine whether a text is primarily about the 'Army Black Knights    \u001b[0m\u001b[2m \u001b[0m│\n",
       "│\u001b[2m                                    \u001b[0m│\u001b[2m \u001b[0m\u001b[2machievement,' one would look for several key criteria within the text.    \u001b[0m\u001b[2m \u001b[0m│\n",
       "│\u001b[2m                                    \u001b[0m│\u001b[2m \u001b[0m\u001b[2mThese criteria include a focus on accomplishments and milestones achieved \u001b[0m\u001b[2m \u001b[0m│\n",
       "│\u001b[2m                                    \u001b[0m│\u001b[2m \u001b[0m\u001b[2mby the Army Black Knights, which is the name of the sports teams at the   \u001b[0m\u001b[2m \u001b[0m│\n",
       "│\u001b[2m                                    \u001b[0m│\u001b[2m \u001b[0m\u001b[2mUnited States Military Academy at West Point, New York. The text should   \u001b[0m\u001b[2m \u001b[0m│\n",
       "│\u001b[2m                                    \u001b[0m│\u001b[2m \u001b[0m\u001b[2mmention specific sports such as football, basketball, or any other sports \u001b[0m\u001b[2m \u001b[0m│\n",
       "│\u001b[2m                                    \u001b[0m│\u001b[2m \u001b[0m\u001b[2min which the Army Black Knights compete. It should detail achievements    \u001b[0m\u001b[2m \u001b[0m│\n",
       "│\u001b[2m                                    \u001b[0m│\u001b[2m \u001b[0m\u001b[2msuch as winning records, championship titles, bowl games, notable         \u001b[0m\u001b[2m \u001b[0m│\n",
       "│\u001b[2m                                    \u001b[0m│\u001b[2m \u001b[0m\u001b[2mcompetitions, individual player honors, or historical successes.          \u001b[0m\u001b[2m \u001b[0m│\n",
       "│\u001b[2m                                    \u001b[0m│\u001b[2m \u001b[0m\u001b[2mRecognition by external bodies, such as NCAA awards, would also be        \u001b[0m\u001b[2m \u001b[0m│\n",
       "│\u001b[2m                                    \u001b[0m│\u001b[2m \u001b[0m\u001b[2mrelevant. Additionally, the text might discuss the impact of these        \u001b[0m\u001b[2m \u001b[0m│\n",
       "│\u001b[2m                                    \u001b[0m│\u001b[2m \u001b[0m\u001b[2machievements on the academy, the military community, or the broader domain\u001b[0m\u001b[2m \u001b[0m│\n",
       "│\u001b[2m                                    \u001b[0m│\u001b[2m \u001b[0m\u001b[2mof collegiate sports. The presence of dates, statistics, and records would\u001b[0m\u001b[2m \u001b[0m│\n",
       "│\u001b[2m                                    \u001b[0m│\u001b[2m \u001b[0m\u001b[2msupport the focus on achievements. The overall narrative should celebrate \u001b[0m\u001b[2m \u001b[0m│\n",
       "│\u001b[2m                                    \u001b[0m│\u001b[2m \u001b[0m\u001b[2mor analyze the successes of the Army Black Knights, making their          \u001b[0m\u001b[2m \u001b[0m│\n",
       "│\u001b[2m                                    \u001b[0m│\u001b[2m \u001b[0m\u001b[2maccomplishments the central theme of the text.                            \u001b[0m\u001b[2m \u001b[0m│\n",
       "├────────────────────────────────────┼────────────────────────────────────────────────────────────────────────────┤\n",
       "│\u001b[2m \u001b[0m\u001b[2mHolocaust Remembrance             \u001b[0m\u001b[2m \u001b[0m│\u001b[2m \u001b[0m\u001b[2mTo determine if a text is primarily about Holocaust Remembrance, one would\u001b[0m\u001b[2m \u001b[0m│\n",
       "│\u001b[2m                                    \u001b[0m│\u001b[2m \u001b[0m\u001b[2mlook for several key criteria. Firstly, the text would likely mention     \u001b[0m\u001b[2m \u001b[0m│\n",
       "│\u001b[2m                                    \u001b[0m│\u001b[2m \u001b[0m\u001b[2mspecific events related to the Holocaust, such as the systematic          \u001b[0m\u001b[2m \u001b[0m│\n",
       "│\u001b[2m                                    \u001b[0m│\u001b[2m \u001b[0m\u001b[2mpersecution and annihilation of six million Jews by the Nazi regime.      \u001b[0m\u001b[2m \u001b[0m│\n",
       "│\u001b[2m                                    \u001b[0m│\u001b[2m \u001b[0m\u001b[2mSecondly, it would discuss acts of commemoration, such as memorial        \u001b[0m\u001b[2m \u001b[0m│\n",
       "│\u001b[2m                                    \u001b[0m│\u001b[2m \u001b[0m\u001b[2mservices, educational programs, and moments of silence. Thirdly, the text \u001b[0m\u001b[2m \u001b[0m│\n",
       "│\u001b[2m                                    \u001b[0m│\u001b[2m \u001b[0m\u001b[2mmight reference symbols and observances associated with Holocaust         \u001b[0m\u001b[2m \u001b[0m│\n",
       "│\u001b[2m                                    \u001b[0m│\u001b[2m \u001b[0m\u001b[2mRemembrance, like the date of International Holocaust Remembrance Day     \u001b[0m\u001b[2m \u001b[0m│\n",
       "│\u001b[2m                                    \u001b[0m│\u001b[2m \u001b[0m\u001b[2m(January 27th), the lighting of candles, or the reading of names of       \u001b[0m\u001b[2m \u001b[0m│\n",
       "│\u001b[2m                                    \u001b[0m│\u001b[2m \u001b[0m\u001b[2mvictims. Additionally, discussions of the importance of remembering the   \u001b[0m\u001b[2m \u001b[0m│\n",
       "│\u001b[2m                                    \u001b[0m│\u001b[2m \u001b[0m\u001b[2mHolocaust to prevent future genocides, the role of survivors' testimonies,\u001b[0m\u001b[2m \u001b[0m│\n",
       "│\u001b[2m                                    \u001b[0m│\u001b[2m \u001b[0m\u001b[2mand the moral lessons learned from this dark period in history would be   \u001b[0m\u001b[2m \u001b[0m│\n",
       "│\u001b[2m                                    \u001b[0m│\u001b[2m \u001b[0m\u001b[2mindicative of the text's focus on Holocaust Remembrance.                  \u001b[0m\u001b[2m \u001b[0m│\n",
       "├────────────────────────────────────┼────────────────────────────────────────────────────────────────────────────┤\n",
       "│\u001b[2m \u001b[0m\u001b[2mTeaching as a calling             \u001b[0m\u001b[2m \u001b[0m│\u001b[2m \u001b[0m\u001b[2mTo determine whether a text is primarily about 'Teaching as a calling',   \u001b[0m\u001b[2m \u001b[0m│\n",
       "│\u001b[2m                                    \u001b[0m│\u001b[2m \u001b[0m\u001b[2mkey criteria would include: the presence of language that emphasizes      \u001b[0m\u001b[2m \u001b[0m│\n",
       "│\u001b[2m                                    \u001b[0m│\u001b[2m \u001b[0m\u001b[2mteaching as a vocation or mission rather than just a job; discussions or  \u001b[0m\u001b[2m \u001b[0m│\n",
       "│\u001b[2m                                    \u001b[0m│\u001b[2m \u001b[0m\u001b[2mnarratives that focus on the intrinsic rewards of teaching, such as the   \u001b[0m\u001b[2m \u001b[0m│\n",
       "│\u001b[2m                                    \u001b[0m│\u001b[2m \u001b[0m\u001b[2mjoy of contributing to students' growth or the passion for sharing        \u001b[0m\u001b[2m \u001b[0m│\n",
       "│\u001b[2m                                    \u001b[0m│\u001b[2m \u001b[0m\u001b[2mknowledge; testimonials or stories from educators who express a deep,     \u001b[0m\u001b[2m \u001b[0m│\n",
       "│\u001b[2m                                    \u001b[0m│\u001b[2m \u001b[0m\u001b[2mpersonal connection to their profession; exploration of the               \u001b[0m\u001b[2m \u001b[0m│\n",
       "│\u001b[2m                                    \u001b[0m│\u001b[2m \u001b[0m\u001b[2mcharacteristics that make someone a natural teacher, such as empathy,     \u001b[0m\u001b[2m \u001b[0m│\n",
       "│\u001b[2m                                    \u001b[0m│\u001b[2m \u001b[0m\u001b[2mpatience, and a love of learning; and an examination of the societal and  \u001b[0m\u001b[2m \u001b[0m│\n",
       "│\u001b[2m                                    \u001b[0m│\u001b[2m \u001b[0m\u001b[2mcultural value placed on teaching as a noble and essential role.          \u001b[0m\u001b[2m \u001b[0m│\n",
       "├────────────────────────────────────┼────────────────────────────────────────────────────────────────────────────┤\n",
       "│\u001b[2m \u001b[0m\u001b[2mAffordable Care Act expansion     \u001b[0m\u001b[2m \u001b[0m│\u001b[2m \u001b[0m\u001b[2mTo determine whether a text is primarily about the Affordable Care Act    \u001b[0m\u001b[2m \u001b[0m│\n",
       "│\u001b[2m                                    \u001b[0m│\u001b[2m \u001b[0m\u001b[2m(ACA) expansion, one should look for key criteria such as: explicit       \u001b[0m\u001b[2m \u001b[0m│\n",
       "│\u001b[2m                                    \u001b[0m│\u001b[2m \u001b[0m\u001b[2mmention of the ACA expansion or its common synonyms (like Obamacare       \u001b[0m\u001b[2m \u001b[0m│\n",
       "│\u001b[2m                                    \u001b[0m│\u001b[2m \u001b[0m\u001b[2mexpansion); discussion of the increase in the number of individuals       \u001b[0m\u001b[2m \u001b[0m│\n",
       "│\u001b[2m                                    \u001b[0m│\u001b[2m \u001b[0m\u001b[2mcovered by health insurance through the ACA; details on the extension of  \u001b[0m\u001b[2m \u001b[0m│\n",
       "│\u001b[2m                                    \u001b[0m│\u001b[2m \u001b[0m\u001b[2mMedicaid coverage or changes in subsidies that make insurance more        \u001b[0m\u001b[2m \u001b[0m│\n",
       "│\u001b[2m                                    \u001b[0m│\u001b[2m \u001b[0m\u001b[2maffordable; analysis of the impact of the expansion on different          \u001b[0m\u001b[2m \u001b[0m│\n",
       "│\u001b[2m                                    \u001b[0m│\u001b[2m \u001b[0m\u001b[2mpopulation groups; and references to legislative actions or court         \u001b[0m\u001b[2m \u001b[0m│\n",
       "│\u001b[2m                                    \u001b[0m│\u001b[2m \u001b[0m\u001b[2mdecisions related to the expansion of the ACA. The presence of these      \u001b[0m\u001b[2m \u001b[0m│\n",
       "│\u001b[2m                                    \u001b[0m│\u001b[2m \u001b[0m\u001b[2melements would indicate that the text's primary focus is on the Affordable\u001b[0m\u001b[2m \u001b[0m│\n",
       "│\u001b[2m                                    \u001b[0m│\u001b[2m \u001b[0m\u001b[2mCare Act expansion.                                                       \u001b[0m\u001b[2m \u001b[0m│\n",
       "├────────────────────────────────────┼────────────────────────────────────────────────────────────────────────────┤\n",
       "│\u001b[2m \u001b[0m\u001b[2mEconomic fairness                 \u001b[0m\u001b[2m \u001b[0m│\u001b[2m \u001b[0m\u001b[2mTo determine whether a text is primarily about economic fairness, one     \u001b[0m\u001b[2m \u001b[0m│\n",
       "│\u001b[2m                                    \u001b[0m│\u001b[2m \u001b[0m\u001b[2mwould look for several key criteria. Firstly, the text should discuss the \u001b[0m\u001b[2m \u001b[0m│\n",
       "│\u001b[2m                                    \u001b[0m│\u001b[2m \u001b[0m\u001b[2mequitable distribution of wealth and resources within a society,          \u001b[0m\u001b[2m \u001b[0m│\n",
       "│\u001b[2m                                    \u001b[0m│\u001b[2m \u001b[0m\u001b[2maddressing issues such as income inequality, poverty, and access to       \u001b[0m\u001b[2m \u001b[0m│\n",
       "│\u001b[2m                                    \u001b[0m│\u001b[2m \u001b[0m\u001b[2mopportunities. It might also explore the fairness of economic systems and \u001b[0m\u001b[2m \u001b[0m│\n",
       "│\u001b[2m                                    \u001b[0m│\u001b[2m \u001b[0m\u001b[2mpolicies, including taxation, wages, social welfare, and public services. \u001b[0m\u001b[2m \u001b[0m│\n",
       "│\u001b[2m                                    \u001b[0m│\u001b[2m \u001b[0m\u001b[2mAdditionally, the text may analyze the impact of economic fairness on     \u001b[0m\u001b[2m \u001b[0m│\n",
       "│\u001b[2m                                    \u001b[0m│\u001b[2m \u001b[0m\u001b[2mdifferent demographics, considering factors such as race, gender, and     \u001b[0m\u001b[2m \u001b[0m│\n",
       "│\u001b[2m                                    \u001b[0m│\u001b[2m \u001b[0m\u001b[2mclass. Furthermore, it may evaluate historical and contemporary examples  \u001b[0m\u001b[2m \u001b[0m│\n",
       "│\u001b[2m                                    \u001b[0m│\u001b[2m \u001b[0m\u001b[2mof economic justice or injustice and propose solutions or reforms aimed at\u001b[0m\u001b[2m \u001b[0m│\n",
       "│\u001b[2m                                    \u001b[0m│\u001b[2m \u001b[0m\u001b[2machieving greater economic equity. Lastly, the text should use terminology\u001b[0m\u001b[2m \u001b[0m│\n",
       "│\u001b[2m                                    \u001b[0m│\u001b[2m \u001b[0m\u001b[2mand frameworks associated with economic theory, social justice, and       \u001b[0m\u001b[2m \u001b[0m│\n",
       "│\u001b[2m                                    \u001b[0m│\u001b[2m \u001b[0m\u001b[2methical considerations related to the distribution of economic benefits   \u001b[0m\u001b[2m \u001b[0m│\n",
       "│\u001b[2m                                    \u001b[0m│\u001b[2m \u001b[0m\u001b[2mand burdens.                                                              \u001b[0m\u001b[2m \u001b[0m│\n",
       "├────────────────────────────────────┼────────────────────────────────────────────────────────────────────────────┤\n",
       "│\u001b[2m \u001b[0m\u001b[2mAmerican job growth               \u001b[0m\u001b[2m \u001b[0m│\u001b[2m \u001b[0m\u001b[2mNone                                                                      \u001b[0m\u001b[2m \u001b[0m│\n",
       "└────────────────────────────────────┴────────────────────────────────────────────────────────────────────────────┘\n"
      ]
     },
     "metadata": {},
     "output_type": "display_data"
    }
   ],
   "source": [
    "results.select(\"concept\", \"criteria\").print(format=\"rich\")"
   ]
  },
  {
   "cell_type": "markdown",
   "id": "bac4f9a8-a33e-4e5b-8a0a-1724289c442f",
   "metadata": {},
   "source": [
    "## Identify the concepts in each text and evaluate based on the criteria\n",
    "Finally, we can use the concepts and the criteria to run another question where we prompt the model to evaulate each text. Question types `QuestionLinearScale`, `QuestionRank` or `QuestionNumerical` may be appropriate where we want to return a score:"
   ]
  },
  {
   "cell_type": "code",
   "execution_count": 17,
   "id": "4d63330d-9014-48e2-98b1-75d3a58eed1c",
   "metadata": {},
   "outputs": [],
   "source": [
    "from edsl.questions import QuestionLinearScale\n",
    "\n",
    "q_score = QuestionLinearScale(\n",
    "    question_name = \"score\",\n",
    "    question_text = \"\"\"Consider the following concept and criteria for determining whether \n",
    "    a given text addresses this concept. Then score how well the following text satisfies\n",
    "    the criteria for the concept.\n",
    "    Concept: {{ concept }}\n",
    "    Criteria: {{ criteria }}\n",
    "    Text: {{ text }}\"\"\",\n",
    "    question_options = [0,1,2,3,4,5,6,7,8,9,10],\n",
    "    option_labels = {0: \"Not at all\", 10: \"Very well\"} # Optional \n",
    ")"
   ]
  },
  {
   "cell_type": "markdown",
   "id": "375e4826-8e3f-4ba2-b4da-e67607bd5bfa",
   "metadata": {},
   "source": [
    "Here we want to use both the texts and the concepts and corresponding criteria together as scenarios of the question:"
   ]
  },
  {
   "cell_type": "code",
   "execution_count": 18,
   "id": "583506b3-0b7d-4051-bfc6-ebcbf605865c",
   "metadata": {},
   "outputs": [
    {
     "data": {
      "text/plain": [
       "10"
      ]
     },
     "execution_count": 18,
     "metadata": {},
     "output_type": "execute_result"
    }
   ],
   "source": [
    "concepts_criteria = [list(pair) for pair in zip(results.select(\"concept\").to_list(), results.select(\"criteria\").to_list())]\n",
    "len(concepts_criteria)"
   ]
  },
  {
   "cell_type": "code",
   "execution_count": 19,
   "id": "5d096830-b6ba-41bf-a829-00368bce4b64",
   "metadata": {},
   "outputs": [
    {
     "data": {
      "text/plain": [
       "100"
      ]
     },
     "execution_count": 19,
     "metadata": {},
     "output_type": "execute_result"
    }
   ],
   "source": [
    "scenarios = [Scenario({\"text\": text, \"concept\": concept, \"criteria\": criteria}) \n",
    "             for text in texts \n",
    "             for [concept, criteria] in concepts_criteria]\n",
    "len(scenarios)"
   ]
  },
  {
   "cell_type": "code",
   "execution_count": 20,
   "id": "d0fb785c-95f9-4514-8f26-37e93e0f8137",
   "metadata": {},
   "outputs": [],
   "source": [
    "results = q_score.by(scenarios).run()"
   ]
  },
  {
   "cell_type": "markdown",
   "id": "f6a68701-36b5-4be2-a0df-3977e152c1c7",
   "metadata": {},
   "source": [
    "We can filter the results based on the responses--e.g., here we just show the non-zero scores:"
   ]
  },
  {
   "cell_type": "code",
   "execution_count": 21,
   "id": "930dd52e-8701-4a54-b8e4-004480887d10",
   "metadata": {},
   "outputs": [
    {
     "data": {
      "text/html": [
       "<pre style=\"white-space:pre;overflow-x:auto;line-height:normal;font-family:Menlo,'DejaVu Sans Mono',consolas,'Courier New',monospace\">┏━━━━━━━━━━━━━━━━━━━━━━━━━━━━━━━━━━━━━━━━━━━━━━━━━━━━━━━━━━━━━━━━━━━┳━━━━━━━━━━━━━━━━━━━━━━━━━━━━━━━━━━━━┳━━━━━━━━┓\n",
       "┃<span style=\"color: #800080; text-decoration-color: #800080; font-weight: bold\"> scenario                                                          </span>┃<span style=\"color: #800080; text-decoration-color: #800080; font-weight: bold\"> scenario                           </span>┃<span style=\"color: #800080; text-decoration-color: #800080; font-weight: bold\"> answer </span>┃\n",
       "┃<span style=\"color: #800080; text-decoration-color: #800080; font-weight: bold\"> .text                                                             </span>┃<span style=\"color: #800080; text-decoration-color: #800080; font-weight: bold\"> .concept                           </span>┃<span style=\"color: #800080; text-decoration-color: #800080; font-weight: bold\"> .score </span>┃\n",
       "┡━━━━━━━━━━━━━━━━━━━━━━━━━━━━━━━━━━━━━━━━━━━━━━━━━━━━━━━━━━━━━━━━━━━╇━━━━━━━━━━━━━━━━━━━━━━━━━━━━━━━━━━━━╇━━━━━━━━┩\n",
       "│<span style=\"color: #7f7f7f; text-decoration-color: #7f7f7f\"> Tune in as I deliver the keynote address at the U.S. Holocaust    </span>│<span style=\"color: #7f7f7f; text-decoration-color: #7f7f7f\"> Holocaust Remembrance              </span>│<span style=\"color: #7f7f7f; text-decoration-color: #7f7f7f\"> 6      </span>│\n",
       "│<span style=\"color: #7f7f7f; text-decoration-color: #7f7f7f\"> Memorial Museum’s Annual Days of Remembrance ceremony in          </span>│<span style=\"color: #7f7f7f; text-decoration-color: #7f7f7f\">                                    </span>│<span style=\"color: #7f7f7f; text-decoration-color: #7f7f7f\">        </span>│\n",
       "│<span style=\"color: #7f7f7f; text-decoration-color: #7f7f7f\"> Washington, D.C.                                                  </span>│<span style=\"color: #7f7f7f; text-decoration-color: #7f7f7f\">                                    </span>│<span style=\"color: #7f7f7f; text-decoration-color: #7f7f7f\">        </span>│\n",
       "├───────────────────────────────────────────────────────────────────┼────────────────────────────────────┼────────┤\n",
       "│<span style=\"color: #7f7f7f; text-decoration-color: #7f7f7f\"> We’re a nation of immigrants. A nation of dreamers. And as Cinco  </span>│<span style=\"color: #7f7f7f; text-decoration-color: #7f7f7f\"> Cinco de Mayo                      </span>│<span style=\"color: #7f7f7f; text-decoration-color: #7f7f7f\"> 1      </span>│\n",
       "│<span style=\"color: #7f7f7f; text-decoration-color: #7f7f7f\"> de Mayo represents, a nation of freedom.                          </span>│<span style=\"color: #7f7f7f; text-decoration-color: #7f7f7f\">                                    </span>│<span style=\"color: #7f7f7f; text-decoration-color: #7f7f7f\">        </span>│\n",
       "├───────────────────────────────────────────────────────────────────┼────────────────────────────────────┼────────┤\n",
       "│<span style=\"color: #7f7f7f; text-decoration-color: #7f7f7f\"> Medicare is stronger and Social Security remains strong. My       </span>│<span style=\"color: #7f7f7f; text-decoration-color: #7f7f7f\"> Medicare and Social Security plans </span>│<span style=\"color: #7f7f7f; text-decoration-color: #7f7f7f\"> 4      </span>│\n",
       "│<span style=\"color: #7f7f7f; text-decoration-color: #7f7f7f\"> economic plan has helped extend Medicare solvency by a decade.    </span>│<span style=\"color: #7f7f7f; text-decoration-color: #7f7f7f\">                                    </span>│<span style=\"color: #7f7f7f; text-decoration-color: #7f7f7f\">        </span>│\n",
       "│<span style=\"color: #7f7f7f; text-decoration-color: #7f7f7f\"> And I am committed to extending Social Security solvency by       </span>│<span style=\"color: #7f7f7f; text-decoration-color: #7f7f7f\">                                    </span>│<span style=\"color: #7f7f7f; text-decoration-color: #7f7f7f\">        </span>│\n",
       "│<span style=\"color: #7f7f7f; text-decoration-color: #7f7f7f\"> making the rich pay their fair share.                             </span>│<span style=\"color: #7f7f7f; text-decoration-color: #7f7f7f\">                                    </span>│<span style=\"color: #7f7f7f; text-decoration-color: #7f7f7f\">        </span>│\n",
       "├───────────────────────────────────────────────────────────────────┼────────────────────────────────────┼────────┤\n",
       "│<span style=\"color: #7f7f7f; text-decoration-color: #7f7f7f\"> Today, the Army Black Knights are taking home West Point’s 10th   </span>│<span style=\"color: #7f7f7f; text-decoration-color: #7f7f7f\"> Army Black Knights achievement     </span>│<span style=\"color: #7f7f7f; text-decoration-color: #7f7f7f\"> 7      </span>│\n",
       "│<span style=\"color: #7f7f7f; text-decoration-color: #7f7f7f\"> Commander-in-Chief Trophy. They should be proud. I’m proud of     </span>│<span style=\"color: #7f7f7f; text-decoration-color: #7f7f7f\">                                    </span>│<span style=\"color: #7f7f7f; text-decoration-color: #7f7f7f\">        </span>│\n",
       "│<span style=\"color: #7f7f7f; text-decoration-color: #7f7f7f\"> them too – not for the wins, but because after every game they    </span>│<span style=\"color: #7f7f7f; text-decoration-color: #7f7f7f\">                                    </span>│<span style=\"color: #7f7f7f; text-decoration-color: #7f7f7f\">        </span>│\n",
       "│<span style=\"color: #7f7f7f; text-decoration-color: #7f7f7f\"> hang up their uniforms and put on another: one representing the   </span>│<span style=\"color: #7f7f7f; text-decoration-color: #7f7f7f\">                                    </span>│<span style=\"color: #7f7f7f; text-decoration-color: #7f7f7f\">        </span>│\n",
       "│<span style=\"color: #7f7f7f; text-decoration-color: #7f7f7f\"> United States.                                                    </span>│<span style=\"color: #7f7f7f; text-decoration-color: #7f7f7f\">                                    </span>│<span style=\"color: #7f7f7f; text-decoration-color: #7f7f7f\">        </span>│\n",
       "├───────────────────────────────────────────────────────────────────┼────────────────────────────────────┼────────┤\n",
       "│<span style=\"color: #7f7f7f; text-decoration-color: #7f7f7f\"> This Holocaust Remembrance Day, we mourn the six million Jews who </span>│<span style=\"color: #7f7f7f; text-decoration-color: #7f7f7f\"> Holocaust Remembrance              </span>│<span style=\"color: #7f7f7f; text-decoration-color: #7f7f7f\"> 8      </span>│\n",
       "│<span style=\"color: #7f7f7f; text-decoration-color: #7f7f7f\"> were killed by the Nazis during one of the darkest chapters in    </span>│<span style=\"color: #7f7f7f; text-decoration-color: #7f7f7f\">                                    </span>│<span style=\"color: #7f7f7f; text-decoration-color: #7f7f7f\">        </span>│\n",
       "│<span style=\"color: #7f7f7f; text-decoration-color: #7f7f7f\"> human history. And we recommit to heeding the lessons of the      </span>│<span style=\"color: #7f7f7f; text-decoration-color: #7f7f7f\">                                    </span>│<span style=\"color: #7f7f7f; text-decoration-color: #7f7f7f\">        </span>│\n",
       "│<span style=\"color: #7f7f7f; text-decoration-color: #7f7f7f\"> Shoah and realizing the responsibility of 'Never Again.'          </span>│<span style=\"color: #7f7f7f; text-decoration-color: #7f7f7f\">                                    </span>│<span style=\"color: #7f7f7f; text-decoration-color: #7f7f7f\">        </span>│\n",
       "├───────────────────────────────────────────────────────────────────┼────────────────────────────────────┼────────┤\n",
       "│<span style=\"color: #7f7f7f; text-decoration-color: #7f7f7f\"> The recipients of the Presidential Medal of Freedom haven't just  </span>│<span style=\"color: #7f7f7f; text-decoration-color: #7f7f7f\"> Presidential Medal of Freedom      </span>│<span style=\"color: #7f7f7f; text-decoration-color: #7f7f7f\"> 1      </span>│\n",
       "│<span style=\"color: #7f7f7f; text-decoration-color: #7f7f7f\"> kept faith in freedom. They kept all of America's faith in a      </span>│<span style=\"color: #7f7f7f; text-decoration-color: #7f7f7f\">                                    </span>│<span style=\"color: #7f7f7f; text-decoration-color: #7f7f7f\">        </span>│\n",
       "│<span style=\"color: #7f7f7f; text-decoration-color: #7f7f7f\"> better tomorrow.                                                  </span>│<span style=\"color: #7f7f7f; text-decoration-color: #7f7f7f\">                                    </span>│<span style=\"color: #7f7f7f; text-decoration-color: #7f7f7f\">        </span>│\n",
       "├───────────────────────────────────────────────────────────────────┼────────────────────────────────────┼────────┤\n",
       "│<span style=\"color: #7f7f7f; text-decoration-color: #7f7f7f\"> Jill and I send warm wishes to Orthodox Christian communities     </span>│<span style=\"color: #7f7f7f; text-decoration-color: #7f7f7f\"> Easter celebrations                </span>│<span style=\"color: #7f7f7f; text-decoration-color: #7f7f7f\"> 2      </span>│\n",
       "│<span style=\"color: #7f7f7f; text-decoration-color: #7f7f7f\"> around the world as they celebrate Easter. May the Lord bless and </span>│<span style=\"color: #7f7f7f; text-decoration-color: #7f7f7f\">                                    </span>│<span style=\"color: #7f7f7f; text-decoration-color: #7f7f7f\">        </span>│\n",
       "│<span style=\"color: #7f7f7f; text-decoration-color: #7f7f7f\"> keep you this Easter Sunday and in the year ahead.                </span>│<span style=\"color: #7f7f7f; text-decoration-color: #7f7f7f\">                                    </span>│<span style=\"color: #7f7f7f; text-decoration-color: #7f7f7f\">        </span>│\n",
       "├───────────────────────────────────────────────────────────────────┼────────────────────────────────────┼────────┤\n",
       "│<span style=\"color: #7f7f7f; text-decoration-color: #7f7f7f\"> Like Jill says, 'Teaching isn’t just a job. It’s a calling.' She  </span>│<span style=\"color: #7f7f7f; text-decoration-color: #7f7f7f\"> Teaching as a calling              </span>│<span style=\"color: #7f7f7f; text-decoration-color: #7f7f7f\"> 7      </span>│\n",
       "│<span style=\"color: #7f7f7f; text-decoration-color: #7f7f7f\"> knows that in her bones, and I know every educator who joined us  </span>│<span style=\"color: #7f7f7f; text-decoration-color: #7f7f7f\">                                    </span>│<span style=\"color: #7f7f7f; text-decoration-color: #7f7f7f\">        </span>│\n",
       "│<span style=\"color: #7f7f7f; text-decoration-color: #7f7f7f\"> at the White House for the first-ever Teacher State Dinner lives  </span>│<span style=\"color: #7f7f7f; text-decoration-color: #7f7f7f\">                                    </span>│<span style=\"color: #7f7f7f; text-decoration-color: #7f7f7f\">        </span>│\n",
       "│<span style=\"color: #7f7f7f; text-decoration-color: #7f7f7f\"> out that truth every day.                                         </span>│<span style=\"color: #7f7f7f; text-decoration-color: #7f7f7f\">                                    </span>│<span style=\"color: #7f7f7f; text-decoration-color: #7f7f7f\">        </span>│\n",
       "├───────────────────────────────────────────────────────────────────┼────────────────────────────────────┼────────┤\n",
       "│<span style=\"color: #7f7f7f; text-decoration-color: #7f7f7f\"> With today’s report of 175,000 new jobs, the American comeback    </span>│<span style=\"color: #7f7f7f; text-decoration-color: #7f7f7f\"> American job growth                </span>│<span style=\"color: #7f7f7f; text-decoration-color: #7f7f7f\"> 7      </span>│\n",
       "│<span style=\"color: #7f7f7f; text-decoration-color: #7f7f7f\"> continues. Congressional Republicans are fighting to cut taxes    </span>│<span style=\"color: #7f7f7f; text-decoration-color: #7f7f7f\">                                    </span>│<span style=\"color: #7f7f7f; text-decoration-color: #7f7f7f\">        </span>│\n",
       "│<span style=\"color: #7f7f7f; text-decoration-color: #7f7f7f\"> for billionaires and let special interests rip folks off, I'm     </span>│<span style=\"color: #7f7f7f; text-decoration-color: #7f7f7f\">                                    </span>│<span style=\"color: #7f7f7f; text-decoration-color: #7f7f7f\">        </span>│\n",
       "│<span style=\"color: #7f7f7f; text-decoration-color: #7f7f7f\"> focused on job creation and building an economy that works for    </span>│<span style=\"color: #7f7f7f; text-decoration-color: #7f7f7f\">                                    </span>│<span style=\"color: #7f7f7f; text-decoration-color: #7f7f7f\">        </span>│\n",
       "│<span style=\"color: #7f7f7f; text-decoration-color: #7f7f7f\"> the families I grew up with.                                      </span>│<span style=\"color: #7f7f7f; text-decoration-color: #7f7f7f\">                                    </span>│<span style=\"color: #7f7f7f; text-decoration-color: #7f7f7f\">        </span>│\n",
       "├───────────────────────────────────────────────────────────────────┼────────────────────────────────────┼────────┤\n",
       "│<span style=\"color: #7f7f7f; text-decoration-color: #7f7f7f\"> With today’s report of 175,000 new jobs, the American comeback    </span>│<span style=\"color: #7f7f7f; text-decoration-color: #7f7f7f\"> Economic fairness                  </span>│<span style=\"color: #7f7f7f; text-decoration-color: #7f7f7f\"> 3      </span>│\n",
       "│<span style=\"color: #7f7f7f; text-decoration-color: #7f7f7f\"> continues. Congressional Republicans are fighting to cut taxes    </span>│<span style=\"color: #7f7f7f; text-decoration-color: #7f7f7f\">                                    </span>│<span style=\"color: #7f7f7f; text-decoration-color: #7f7f7f\">        </span>│\n",
       "│<span style=\"color: #7f7f7f; text-decoration-color: #7f7f7f\"> for billionaires and let special interests rip folks off, I'm     </span>│<span style=\"color: #7f7f7f; text-decoration-color: #7f7f7f\">                                    </span>│<span style=\"color: #7f7f7f; text-decoration-color: #7f7f7f\">        </span>│\n",
       "│<span style=\"color: #7f7f7f; text-decoration-color: #7f7f7f\"> focused on job creation and building an economy that works for    </span>│<span style=\"color: #7f7f7f; text-decoration-color: #7f7f7f\">                                    </span>│<span style=\"color: #7f7f7f; text-decoration-color: #7f7f7f\">        </span>│\n",
       "│<span style=\"color: #7f7f7f; text-decoration-color: #7f7f7f\"> the families I grew up with.                                      </span>│<span style=\"color: #7f7f7f; text-decoration-color: #7f7f7f\">                                    </span>│<span style=\"color: #7f7f7f; text-decoration-color: #7f7f7f\">        </span>│\n",
       "├───────────────────────────────────────────────────────────────────┼────────────────────────────────────┼────────┤\n",
       "│<span style=\"color: #7f7f7f; text-decoration-color: #7f7f7f\"> Medicare is stronger and Social Security remains strong. My       </span>│<span style=\"color: #7f7f7f; text-decoration-color: #7f7f7f\"> Economic fairness                  </span>│<span style=\"color: #7f7f7f; text-decoration-color: #7f7f7f\"> 4      </span>│\n",
       "│<span style=\"color: #7f7f7f; text-decoration-color: #7f7f7f\"> economic plan has helped extend Medicare solvency by a decade.    </span>│<span style=\"color: #7f7f7f; text-decoration-color: #7f7f7f\">                                    </span>│<span style=\"color: #7f7f7f; text-decoration-color: #7f7f7f\">        </span>│\n",
       "│<span style=\"color: #7f7f7f; text-decoration-color: #7f7f7f\"> And I am committed to extending Social Security solvency by       </span>│<span style=\"color: #7f7f7f; text-decoration-color: #7f7f7f\">                                    </span>│<span style=\"color: #7f7f7f; text-decoration-color: #7f7f7f\">        </span>│\n",
       "│<span style=\"color: #7f7f7f; text-decoration-color: #7f7f7f\"> making the rich pay their fair share.                             </span>│<span style=\"color: #7f7f7f; text-decoration-color: #7f7f7f\">                                    </span>│<span style=\"color: #7f7f7f; text-decoration-color: #7f7f7f\">        </span>│\n",
       "├───────────────────────────────────────────────────────────────────┼────────────────────────────────────┼────────┤\n",
       "│<span style=\"color: #7f7f7f; text-decoration-color: #7f7f7f\"> Dreamers are our loved ones, nurses, teachers, and small business </span>│<span style=\"color: #7f7f7f; text-decoration-color: #7f7f7f\"> Affordable Care Act expansion      </span>│<span style=\"color: #7f7f7f; text-decoration-color: #7f7f7f\"> 5      </span>│\n",
       "│<span style=\"color: #7f7f7f; text-decoration-color: #7f7f7f\"> owners – they deserve the promise of health care just like all of </span>│<span style=\"color: #7f7f7f; text-decoration-color: #7f7f7f\">                                    </span>│<span style=\"color: #7f7f7f; text-decoration-color: #7f7f7f\">        </span>│\n",
       "│<span style=\"color: #7f7f7f; text-decoration-color: #7f7f7f\"> us. Today, my Administration is making that real by expanding     </span>│<span style=\"color: #7f7f7f; text-decoration-color: #7f7f7f\">                                    </span>│<span style=\"color: #7f7f7f; text-decoration-color: #7f7f7f\">        </span>│\n",
       "│<span style=\"color: #7f7f7f; text-decoration-color: #7f7f7f\"> affordable health coverage through the Affordable Care Act to     </span>│<span style=\"color: #7f7f7f; text-decoration-color: #7f7f7f\">                                    </span>│<span style=\"color: #7f7f7f; text-decoration-color: #7f7f7f\">        </span>│\n",
       "│<span style=\"color: #7f7f7f; text-decoration-color: #7f7f7f\"> DACA recipients.                                                  </span>│<span style=\"color: #7f7f7f; text-decoration-color: #7f7f7f\">                                    </span>│<span style=\"color: #7f7f7f; text-decoration-color: #7f7f7f\">        </span>│\n",
       "├───────────────────────────────────────────────────────────────────┼────────────────────────────────────┼────────┤\n",
       "│<span style=\"color: #7f7f7f; text-decoration-color: #7f7f7f\"> Dreamers are our loved ones, nurses, teachers, and small business </span>│<span style=\"color: #7f7f7f; text-decoration-color: #7f7f7f\"> Economic fairness                  </span>│<span style=\"color: #7f7f7f; text-decoration-color: #7f7f7f\"> 2      </span>│\n",
       "│<span style=\"color: #7f7f7f; text-decoration-color: #7f7f7f\"> owners – they deserve the promise of health care just like all of </span>│<span style=\"color: #7f7f7f; text-decoration-color: #7f7f7f\">                                    </span>│<span style=\"color: #7f7f7f; text-decoration-color: #7f7f7f\">        </span>│\n",
       "│<span style=\"color: #7f7f7f; text-decoration-color: #7f7f7f\"> us. Today, my Administration is making that real by expanding     </span>│<span style=\"color: #7f7f7f; text-decoration-color: #7f7f7f\">                                    </span>│<span style=\"color: #7f7f7f; text-decoration-color: #7f7f7f\">        </span>│\n",
       "│<span style=\"color: #7f7f7f; text-decoration-color: #7f7f7f\"> affordable health coverage through the Affordable Care Act to     </span>│<span style=\"color: #7f7f7f; text-decoration-color: #7f7f7f\">                                    </span>│<span style=\"color: #7f7f7f; text-decoration-color: #7f7f7f\">        </span>│\n",
       "│<span style=\"color: #7f7f7f; text-decoration-color: #7f7f7f\"> DACA recipients.                                                  </span>│<span style=\"color: #7f7f7f; text-decoration-color: #7f7f7f\">                                    </span>│<span style=\"color: #7f7f7f; text-decoration-color: #7f7f7f\">        </span>│\n",
       "└───────────────────────────────────────────────────────────────────┴────────────────────────────────────┴────────┘\n",
       "</pre>\n"
      ],
      "text/plain": [
       "┏━━━━━━━━━━━━━━━━━━━━━━━━━━━━━━━━━━━━━━━━━━━━━━━━━━━━━━━━━━━━━━━━━━━┳━━━━━━━━━━━━━━━━━━━━━━━━━━━━━━━━━━━━┳━━━━━━━━┓\n",
       "┃\u001b[1;35m \u001b[0m\u001b[1;35mscenario                                                         \u001b[0m\u001b[1;35m \u001b[0m┃\u001b[1;35m \u001b[0m\u001b[1;35mscenario                          \u001b[0m\u001b[1;35m \u001b[0m┃\u001b[1;35m \u001b[0m\u001b[1;35manswer\u001b[0m\u001b[1;35m \u001b[0m┃\n",
       "┃\u001b[1;35m \u001b[0m\u001b[1;35m.text                                                            \u001b[0m\u001b[1;35m \u001b[0m┃\u001b[1;35m \u001b[0m\u001b[1;35m.concept                          \u001b[0m\u001b[1;35m \u001b[0m┃\u001b[1;35m \u001b[0m\u001b[1;35m.score\u001b[0m\u001b[1;35m \u001b[0m┃\n",
       "┡━━━━━━━━━━━━━━━━━━━━━━━━━━━━━━━━━━━━━━━━━━━━━━━━━━━━━━━━━━━━━━━━━━━╇━━━━━━━━━━━━━━━━━━━━━━━━━━━━━━━━━━━━╇━━━━━━━━┩\n",
       "│\u001b[2m \u001b[0m\u001b[2mTune in as I deliver the keynote address at the U.S. Holocaust   \u001b[0m\u001b[2m \u001b[0m│\u001b[2m \u001b[0m\u001b[2mHolocaust Remembrance             \u001b[0m\u001b[2m \u001b[0m│\u001b[2m \u001b[0m\u001b[2m6     \u001b[0m\u001b[2m \u001b[0m│\n",
       "│\u001b[2m \u001b[0m\u001b[2mMemorial Museum’s Annual Days of Remembrance ceremony in         \u001b[0m\u001b[2m \u001b[0m│\u001b[2m                                    \u001b[0m│\u001b[2m        \u001b[0m│\n",
       "│\u001b[2m \u001b[0m\u001b[2mWashington, D.C.                                                 \u001b[0m\u001b[2m \u001b[0m│\u001b[2m                                    \u001b[0m│\u001b[2m        \u001b[0m│\n",
       "├───────────────────────────────────────────────────────────────────┼────────────────────────────────────┼────────┤\n",
       "│\u001b[2m \u001b[0m\u001b[2mWe’re a nation of immigrants. A nation of dreamers. And as Cinco \u001b[0m\u001b[2m \u001b[0m│\u001b[2m \u001b[0m\u001b[2mCinco de Mayo                     \u001b[0m\u001b[2m \u001b[0m│\u001b[2m \u001b[0m\u001b[2m1     \u001b[0m\u001b[2m \u001b[0m│\n",
       "│\u001b[2m \u001b[0m\u001b[2mde Mayo represents, a nation of freedom.                         \u001b[0m\u001b[2m \u001b[0m│\u001b[2m                                    \u001b[0m│\u001b[2m        \u001b[0m│\n",
       "├───────────────────────────────────────────────────────────────────┼────────────────────────────────────┼────────┤\n",
       "│\u001b[2m \u001b[0m\u001b[2mMedicare is stronger and Social Security remains strong. My      \u001b[0m\u001b[2m \u001b[0m│\u001b[2m \u001b[0m\u001b[2mMedicare and Social Security plans\u001b[0m\u001b[2m \u001b[0m│\u001b[2m \u001b[0m\u001b[2m4     \u001b[0m\u001b[2m \u001b[0m│\n",
       "│\u001b[2m \u001b[0m\u001b[2meconomic plan has helped extend Medicare solvency by a decade.   \u001b[0m\u001b[2m \u001b[0m│\u001b[2m                                    \u001b[0m│\u001b[2m        \u001b[0m│\n",
       "│\u001b[2m \u001b[0m\u001b[2mAnd I am committed to extending Social Security solvency by      \u001b[0m\u001b[2m \u001b[0m│\u001b[2m                                    \u001b[0m│\u001b[2m        \u001b[0m│\n",
       "│\u001b[2m \u001b[0m\u001b[2mmaking the rich pay their fair share.                            \u001b[0m\u001b[2m \u001b[0m│\u001b[2m                                    \u001b[0m│\u001b[2m        \u001b[0m│\n",
       "├───────────────────────────────────────────────────────────────────┼────────────────────────────────────┼────────┤\n",
       "│\u001b[2m \u001b[0m\u001b[2mToday, the Army Black Knights are taking home West Point’s 10th  \u001b[0m\u001b[2m \u001b[0m│\u001b[2m \u001b[0m\u001b[2mArmy Black Knights achievement    \u001b[0m\u001b[2m \u001b[0m│\u001b[2m \u001b[0m\u001b[2m7     \u001b[0m\u001b[2m \u001b[0m│\n",
       "│\u001b[2m \u001b[0m\u001b[2mCommander-in-Chief Trophy. They should be proud. I’m proud of    \u001b[0m\u001b[2m \u001b[0m│\u001b[2m                                    \u001b[0m│\u001b[2m        \u001b[0m│\n",
       "│\u001b[2m \u001b[0m\u001b[2mthem too – not for the wins, but because after every game they   \u001b[0m\u001b[2m \u001b[0m│\u001b[2m                                    \u001b[0m│\u001b[2m        \u001b[0m│\n",
       "│\u001b[2m \u001b[0m\u001b[2mhang up their uniforms and put on another: one representing the  \u001b[0m\u001b[2m \u001b[0m│\u001b[2m                                    \u001b[0m│\u001b[2m        \u001b[0m│\n",
       "│\u001b[2m \u001b[0m\u001b[2mUnited States.                                                   \u001b[0m\u001b[2m \u001b[0m│\u001b[2m                                    \u001b[0m│\u001b[2m        \u001b[0m│\n",
       "├───────────────────────────────────────────────────────────────────┼────────────────────────────────────┼────────┤\n",
       "│\u001b[2m \u001b[0m\u001b[2mThis Holocaust Remembrance Day, we mourn the six million Jews who\u001b[0m\u001b[2m \u001b[0m│\u001b[2m \u001b[0m\u001b[2mHolocaust Remembrance             \u001b[0m\u001b[2m \u001b[0m│\u001b[2m \u001b[0m\u001b[2m8     \u001b[0m\u001b[2m \u001b[0m│\n",
       "│\u001b[2m \u001b[0m\u001b[2mwere killed by the Nazis during one of the darkest chapters in   \u001b[0m\u001b[2m \u001b[0m│\u001b[2m                                    \u001b[0m│\u001b[2m        \u001b[0m│\n",
       "│\u001b[2m \u001b[0m\u001b[2mhuman history. And we recommit to heeding the lessons of the     \u001b[0m\u001b[2m \u001b[0m│\u001b[2m                                    \u001b[0m│\u001b[2m        \u001b[0m│\n",
       "│\u001b[2m \u001b[0m\u001b[2mShoah and realizing the responsibility of 'Never Again.'         \u001b[0m\u001b[2m \u001b[0m│\u001b[2m                                    \u001b[0m│\u001b[2m        \u001b[0m│\n",
       "├───────────────────────────────────────────────────────────────────┼────────────────────────────────────┼────────┤\n",
       "│\u001b[2m \u001b[0m\u001b[2mThe recipients of the Presidential Medal of Freedom haven't just \u001b[0m\u001b[2m \u001b[0m│\u001b[2m \u001b[0m\u001b[2mPresidential Medal of Freedom     \u001b[0m\u001b[2m \u001b[0m│\u001b[2m \u001b[0m\u001b[2m1     \u001b[0m\u001b[2m \u001b[0m│\n",
       "│\u001b[2m \u001b[0m\u001b[2mkept faith in freedom. They kept all of America's faith in a     \u001b[0m\u001b[2m \u001b[0m│\u001b[2m                                    \u001b[0m│\u001b[2m        \u001b[0m│\n",
       "│\u001b[2m \u001b[0m\u001b[2mbetter tomorrow.                                                 \u001b[0m\u001b[2m \u001b[0m│\u001b[2m                                    \u001b[0m│\u001b[2m        \u001b[0m│\n",
       "├───────────────────────────────────────────────────────────────────┼────────────────────────────────────┼────────┤\n",
       "│\u001b[2m \u001b[0m\u001b[2mJill and I send warm wishes to Orthodox Christian communities    \u001b[0m\u001b[2m \u001b[0m│\u001b[2m \u001b[0m\u001b[2mEaster celebrations               \u001b[0m\u001b[2m \u001b[0m│\u001b[2m \u001b[0m\u001b[2m2     \u001b[0m\u001b[2m \u001b[0m│\n",
       "│\u001b[2m \u001b[0m\u001b[2maround the world as they celebrate Easter. May the Lord bless and\u001b[0m\u001b[2m \u001b[0m│\u001b[2m                                    \u001b[0m│\u001b[2m        \u001b[0m│\n",
       "│\u001b[2m \u001b[0m\u001b[2mkeep you this Easter Sunday and in the year ahead.               \u001b[0m\u001b[2m \u001b[0m│\u001b[2m                                    \u001b[0m│\u001b[2m        \u001b[0m│\n",
       "├───────────────────────────────────────────────────────────────────┼────────────────────────────────────┼────────┤\n",
       "│\u001b[2m \u001b[0m\u001b[2mLike Jill says, 'Teaching isn’t just a job. It’s a calling.' She \u001b[0m\u001b[2m \u001b[0m│\u001b[2m \u001b[0m\u001b[2mTeaching as a calling             \u001b[0m\u001b[2m \u001b[0m│\u001b[2m \u001b[0m\u001b[2m7     \u001b[0m\u001b[2m \u001b[0m│\n",
       "│\u001b[2m \u001b[0m\u001b[2mknows that in her bones, and I know every educator who joined us \u001b[0m\u001b[2m \u001b[0m│\u001b[2m                                    \u001b[0m│\u001b[2m        \u001b[0m│\n",
       "│\u001b[2m \u001b[0m\u001b[2mat the White House for the first-ever Teacher State Dinner lives \u001b[0m\u001b[2m \u001b[0m│\u001b[2m                                    \u001b[0m│\u001b[2m        \u001b[0m│\n",
       "│\u001b[2m \u001b[0m\u001b[2mout that truth every day.                                        \u001b[0m\u001b[2m \u001b[0m│\u001b[2m                                    \u001b[0m│\u001b[2m        \u001b[0m│\n",
       "├───────────────────────────────────────────────────────────────────┼────────────────────────────────────┼────────┤\n",
       "│\u001b[2m \u001b[0m\u001b[2mWith today’s report of 175,000 new jobs, the American comeback   \u001b[0m\u001b[2m \u001b[0m│\u001b[2m \u001b[0m\u001b[2mAmerican job growth               \u001b[0m\u001b[2m \u001b[0m│\u001b[2m \u001b[0m\u001b[2m7     \u001b[0m\u001b[2m \u001b[0m│\n",
       "│\u001b[2m \u001b[0m\u001b[2mcontinues. Congressional Republicans are fighting to cut taxes   \u001b[0m\u001b[2m \u001b[0m│\u001b[2m                                    \u001b[0m│\u001b[2m        \u001b[0m│\n",
       "│\u001b[2m \u001b[0m\u001b[2mfor billionaires and let special interests rip folks off, I'm    \u001b[0m\u001b[2m \u001b[0m│\u001b[2m                                    \u001b[0m│\u001b[2m        \u001b[0m│\n",
       "│\u001b[2m \u001b[0m\u001b[2mfocused on job creation and building an economy that works for   \u001b[0m\u001b[2m \u001b[0m│\u001b[2m                                    \u001b[0m│\u001b[2m        \u001b[0m│\n",
       "│\u001b[2m \u001b[0m\u001b[2mthe families I grew up with.                                     \u001b[0m\u001b[2m \u001b[0m│\u001b[2m                                    \u001b[0m│\u001b[2m        \u001b[0m│\n",
       "├───────────────────────────────────────────────────────────────────┼────────────────────────────────────┼────────┤\n",
       "│\u001b[2m \u001b[0m\u001b[2mWith today’s report of 175,000 new jobs, the American comeback   \u001b[0m\u001b[2m \u001b[0m│\u001b[2m \u001b[0m\u001b[2mEconomic fairness                 \u001b[0m\u001b[2m \u001b[0m│\u001b[2m \u001b[0m\u001b[2m3     \u001b[0m\u001b[2m \u001b[0m│\n",
       "│\u001b[2m \u001b[0m\u001b[2mcontinues. Congressional Republicans are fighting to cut taxes   \u001b[0m\u001b[2m \u001b[0m│\u001b[2m                                    \u001b[0m│\u001b[2m        \u001b[0m│\n",
       "│\u001b[2m \u001b[0m\u001b[2mfor billionaires and let special interests rip folks off, I'm    \u001b[0m\u001b[2m \u001b[0m│\u001b[2m                                    \u001b[0m│\u001b[2m        \u001b[0m│\n",
       "│\u001b[2m \u001b[0m\u001b[2mfocused on job creation and building an economy that works for   \u001b[0m\u001b[2m \u001b[0m│\u001b[2m                                    \u001b[0m│\u001b[2m        \u001b[0m│\n",
       "│\u001b[2m \u001b[0m\u001b[2mthe families I grew up with.                                     \u001b[0m\u001b[2m \u001b[0m│\u001b[2m                                    \u001b[0m│\u001b[2m        \u001b[0m│\n",
       "├───────────────────────────────────────────────────────────────────┼────────────────────────────────────┼────────┤\n",
       "│\u001b[2m \u001b[0m\u001b[2mMedicare is stronger and Social Security remains strong. My      \u001b[0m\u001b[2m \u001b[0m│\u001b[2m \u001b[0m\u001b[2mEconomic fairness                 \u001b[0m\u001b[2m \u001b[0m│\u001b[2m \u001b[0m\u001b[2m4     \u001b[0m\u001b[2m \u001b[0m│\n",
       "│\u001b[2m \u001b[0m\u001b[2meconomic plan has helped extend Medicare solvency by a decade.   \u001b[0m\u001b[2m \u001b[0m│\u001b[2m                                    \u001b[0m│\u001b[2m        \u001b[0m│\n",
       "│\u001b[2m \u001b[0m\u001b[2mAnd I am committed to extending Social Security solvency by      \u001b[0m\u001b[2m \u001b[0m│\u001b[2m                                    \u001b[0m│\u001b[2m        \u001b[0m│\n",
       "│\u001b[2m \u001b[0m\u001b[2mmaking the rich pay their fair share.                            \u001b[0m\u001b[2m \u001b[0m│\u001b[2m                                    \u001b[0m│\u001b[2m        \u001b[0m│\n",
       "├───────────────────────────────────────────────────────────────────┼────────────────────────────────────┼────────┤\n",
       "│\u001b[2m \u001b[0m\u001b[2mDreamers are our loved ones, nurses, teachers, and small business\u001b[0m\u001b[2m \u001b[0m│\u001b[2m \u001b[0m\u001b[2mAffordable Care Act expansion     \u001b[0m\u001b[2m \u001b[0m│\u001b[2m \u001b[0m\u001b[2m5     \u001b[0m\u001b[2m \u001b[0m│\n",
       "│\u001b[2m \u001b[0m\u001b[2mowners – they deserve the promise of health care just like all of\u001b[0m\u001b[2m \u001b[0m│\u001b[2m                                    \u001b[0m│\u001b[2m        \u001b[0m│\n",
       "│\u001b[2m \u001b[0m\u001b[2mus. Today, my Administration is making that real by expanding    \u001b[0m\u001b[2m \u001b[0m│\u001b[2m                                    \u001b[0m│\u001b[2m        \u001b[0m│\n",
       "│\u001b[2m \u001b[0m\u001b[2maffordable health coverage through the Affordable Care Act to    \u001b[0m\u001b[2m \u001b[0m│\u001b[2m                                    \u001b[0m│\u001b[2m        \u001b[0m│\n",
       "│\u001b[2m \u001b[0m\u001b[2mDACA recipients.                                                 \u001b[0m\u001b[2m \u001b[0m│\u001b[2m                                    \u001b[0m│\u001b[2m        \u001b[0m│\n",
       "├───────────────────────────────────────────────────────────────────┼────────────────────────────────────┼────────┤\n",
       "│\u001b[2m \u001b[0m\u001b[2mDreamers are our loved ones, nurses, teachers, and small business\u001b[0m\u001b[2m \u001b[0m│\u001b[2m \u001b[0m\u001b[2mEconomic fairness                 \u001b[0m\u001b[2m \u001b[0m│\u001b[2m \u001b[0m\u001b[2m2     \u001b[0m\u001b[2m \u001b[0m│\n",
       "│\u001b[2m \u001b[0m\u001b[2mowners – they deserve the promise of health care just like all of\u001b[0m\u001b[2m \u001b[0m│\u001b[2m                                    \u001b[0m│\u001b[2m        \u001b[0m│\n",
       "│\u001b[2m \u001b[0m\u001b[2mus. Today, my Administration is making that real by expanding    \u001b[0m\u001b[2m \u001b[0m│\u001b[2m                                    \u001b[0m│\u001b[2m        \u001b[0m│\n",
       "│\u001b[2m \u001b[0m\u001b[2maffordable health coverage through the Affordable Care Act to    \u001b[0m\u001b[2m \u001b[0m│\u001b[2m                                    \u001b[0m│\u001b[2m        \u001b[0m│\n",
       "│\u001b[2m \u001b[0m\u001b[2mDACA recipients.                                                 \u001b[0m\u001b[2m \u001b[0m│\u001b[2m                                    \u001b[0m│\u001b[2m        \u001b[0m│\n",
       "└───────────────────────────────────────────────────────────────────┴────────────────────────────────────┴────────┘\n"
      ]
     },
     "metadata": {},
     "output_type": "display_data"
    }
   ],
   "source": [
    "(results\n",
    " .filter(\"int(score) > 0\")\n",
    " .select(\"text\", \"concept\", \"score\")\n",
    " .print(format=\"rich\")\n",
    ")"
   ]
  },
  {
   "cell_type": "markdown",
   "id": "e108e2aa-bdcb-4606-a8dc-5952ab12ccca",
   "metadata": {},
   "source": [
    "Please see our <a href=\"https://docs.expectedparrot.com/en/latest/index.html\">documentation page</a> for templates for other use cases and examples and <a href=\"https://discord.com/invite/mxAYkjfy9m\">join our Discord</a> to ask questions and chat with other researchers!"
   ]
  }
 ],
 "metadata": {
  "kernelspec": {
   "display_name": "Python 3 (ipykernel)",
   "language": "python",
   "name": "python3"
  },
  "language_info": {
   "codemirror_mode": {
    "name": "ipython",
    "version": 3
   },
   "file_extension": ".py",
   "mimetype": "text/x-python",
   "name": "python",
   "nbconvert_exporter": "python",
   "pygments_lexer": "ipython3",
   "version": "3.11.7"
  }
 },
 "nbformat": 4,
 "nbformat_minor": 5
}
