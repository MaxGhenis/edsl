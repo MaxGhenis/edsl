{
 "cells": [
  {
   "cell_type": "markdown",
   "id": "e267b645-5929-4b8b-bb94-2f15228efc77",
   "metadata": {},
   "source": [
    "# Concept induction\n",
    "This notebook offers sample EDSL code for using language models to identify concepts in unstructured texts, then generate criteria for the concepts, and then apply the criteria to evaluate the texts.\n",
    "\n",
    "This idea is inspired by the recent paper <a href=\"https://hci.stanford.edu/publications/2024/Lam_LLooM_CHI24.pdf\">Concept Induction: Analyzing Unstructured Text with High-Level Concepts Using LLooM</a>.\n",
    "\n",
    "<a href=\"https://docs.expectedparrot.com/en/latest/\">EDSL</a> is an open-source library for simulating surveys and experiments with AI agents and language models. Please see our <a href=\"https://docs.expectedparrot.com/en/latest/\">documentation</a> for instructions on installing the package and <a href=\"https://discord.com/invite/mxAYkjfy9m\">join our Discord</a> to ask questions and chat with other researchers!"
   ]
  },
  {
   "cell_type": "markdown",
   "id": "d1f85f22-297e-4e61-ada4-c28e3ffceffd",
   "metadata": {},
   "source": [
    "## Identify concepts\n",
    "We start by creating a general question prompting the respondent (a language model) to identify concepts in a given text that we will add later.\n",
    "\n",
    "EDSL comes with a variety of <a href=\"https://docs.expectedparrot.com/en/latest/questions.html\">question types</a> that we can choose from based on the form of the response that we want to get back from the model. `QuestionList` may be appropriate where we want the response to be formatted as a list of strings:"
   ]
  },
  {
   "cell_type": "code",
   "execution_count": 1,
   "id": "cd9d6fb3-a438-4612-ad64-eec8ddd8781e",
   "metadata": {},
   "outputs": [],
   "source": [
    "from edsl.questions import QuestionList\n",
    "\n",
    "q_concepts = QuestionList(\n",
    "    question_name = \"concepts\",\n",
    "    question_text = \"Identify the key concepts in the following text: {{ text }}\",\n",
    "    # max_list_items = # Optional \n",
    ")"
   ]
  },
  {
   "cell_type": "markdown",
   "id": "a1765671-99fb-4968-96da-bf7fd7dae52d",
   "metadata": {},
   "source": [
    "We might want to ask some other questions about our data at the same time (a data labeling task). For example:"
   ]
  },
  {
   "cell_type": "code",
   "execution_count": 2,
   "id": "42c8112e-3461-421b-b506-3221895a4079",
   "metadata": {},
   "outputs": [],
   "source": [
    "from edsl.questions import QuestionMultipleChoice\n",
    "\n",
    "q_sentiment = QuestionMultipleChoice(\n",
    "    question_name = \"sentiment\",\n",
    "    question_text = \"What is the sentiment of this text: {{ text }}?\",\n",
    "    question_options = [\"Negative\", \"Neutral\", \"Positive\"]\n",
    ")"
   ]
  },
  {
   "cell_type": "markdown",
   "id": "2bb43199-b610-46ab-b2eb-beb465ce2862",
   "metadata": {},
   "source": [
    "Then we parameterize the questions in order to run them for each of our texts. This is done with \"scenario\" objects that we create for our data (here, some recent tweets by Pres. Biden):"
   ]
  },
  {
   "cell_type": "code",
   "execution_count": 3,
   "id": "3ccd07bc-b658-434f-9689-2d08396c1080",
   "metadata": {},
   "outputs": [
    {
     "data": {
      "text/plain": [
       "10"
      ]
     },
     "execution_count": 3,
     "metadata": {},
     "output_type": "execute_result"
    }
   ],
   "source": [
    "# Replace with your data\n",
    "texts = [ # POTUS recent tweets\n",
    "    \"Tune in as I deliver the keynote address at the U.S. Holocaust Memorial Museum’s Annual Days of Remembrance ceremony in Washington, D.C.\",\n",
    "    \"We’re a nation of immigrants. A nation of dreamers. And as Cinco de Mayo represents, a nation of freedom.\",\n",
    "    \"Medicare is stronger and Social Security remains strong. My economic plan has helped extend Medicare solvency by a decade. And I am committed to extending Social Security solvency by making the rich pay their fair share.\",\n",
    "    \"Today, the Army Black Knights are taking home West Point’s 10th Commander-in-Chief Trophy. They should be proud. I’m proud of them too – not for the wins, but because after every game they hang up their uniforms and put on another: one representing the United States.\",\n",
    "    \"This Holocaust Remembrance Day, we mourn the six million Jews who were killed by the Nazis during one of the darkest chapters in human history. And we recommit to heeding the lessons of the Shoah and realizing the responsibility of 'Never Again.'\",\n",
    "    \"The recipients of the Presidential Medal of Freedom haven't just kept faith in freedom. They kept all of America's faith in a better tomorrow.\",\n",
    "    \"Like Jill says, 'Teaching isn’t just a job. It’s a calling.' She knows that in her bones, and I know every educator who joined us at the White House for the first-ever Teacher State Dinner lives out that truth every day.\",\n",
    "    \"Jill and I send warm wishes to Orthodox Christian communities around the world as they celebrate Easter. May the Lord bless and keep you this Easter Sunday and in the year ahead.\",\n",
    "    \"Dreamers are our loved ones, nurses, teachers, and small business owners – they deserve the promise of health care just like all of us. Today, my Administration is making that real by expanding affordable health coverage through the Affordable Care Act to DACA recipients.\",\n",
    "    \"With today’s report of 175,000 new jobs, the American comeback continues. Congressional Republicans are fighting to cut taxes for billionaires and let special interests rip folks off, I'm focused on job creation and building an economy that works for the families I grew up with.\"\n",
    "]\n",
    "len(texts)"
   ]
  },
  {
   "cell_type": "code",
   "execution_count": 4,
   "id": "92e1ee90-8f1e-41eb-a3aa-3487ec8360e4",
   "metadata": {},
   "outputs": [],
   "source": [
    "from edsl import Scenario\n",
    "\n",
    "scenarios = [Scenario({\"text\": text}) for text in texts]"
   ]
  },
  {
   "cell_type": "markdown",
   "id": "054c28bf-d4b9-45bd-8a74-090f78a0e8a6",
   "metadata": {},
   "source": [
    "Next we combine the questions into a survey in order to administer them together:"
   ]
  },
  {
   "cell_type": "code",
   "execution_count": 5,
   "id": "98df3e57-e0bb-4612-9f00-4d9b63a28c43",
   "metadata": {},
   "outputs": [],
   "source": [
    "from edsl import Survey\n",
    "\n",
    "survey = Survey(questions = [q_concepts, q_sentiment])"
   ]
  },
  {
   "cell_type": "markdown",
   "id": "dcd603f0-1bc2-4e71-a23b-e5b45d7ba4e2",
   "metadata": {},
   "source": [
    "We add the scenarios to the survey and then run it to generate a dataset of results:"
   ]
  },
  {
   "cell_type": "code",
   "execution_count": 6,
   "id": "8a5eaf93-f0eb-46a4-8cd1-f5afa8f7f335",
   "metadata": {},
   "outputs": [],
   "source": [
    "results = survey.by(scenarios).run()"
   ]
  },
  {
   "cell_type": "markdown",
   "id": "e294ff21-7271-4657-bae3-b5a1c108f000",
   "metadata": {},
   "source": [
    "EDSL comes with built-in methods for working with results in a variety of forms (data tables, SQL queries, dataframes, JSON, CSV). We can call the `columns` method to see a list of all the components that we can analyze:"
   ]
  },
  {
   "cell_type": "code",
   "execution_count": 7,
   "id": "e441d2a9-1886-43c2-9da9-486888e69dd1",
   "metadata": {},
   "outputs": [
    {
     "data": {
      "text/plain": [
       "['agent.agent_name',\n",
       " 'answer.concepts',\n",
       " 'answer.sentiment',\n",
       " 'comment.concepts_comment',\n",
       " 'comment.sentiment_comment',\n",
       " 'iteration.iteration',\n",
       " 'model.frequency_penalty',\n",
       " 'model.logprobs',\n",
       " 'model.max_tokens',\n",
       " 'model.model',\n",
       " 'model.presence_penalty',\n",
       " 'model.temperature',\n",
       " 'model.top_logprobs',\n",
       " 'model.top_p',\n",
       " 'prompt.concepts_system_prompt',\n",
       " 'prompt.concepts_user_prompt',\n",
       " 'prompt.sentiment_system_prompt',\n",
       " 'prompt.sentiment_user_prompt',\n",
       " 'question_options.concepts_question_options',\n",
       " 'question_options.sentiment_question_options',\n",
       " 'question_text.concepts_question_text',\n",
       " 'question_text.sentiment_question_text',\n",
       " 'question_type.concepts_question_type',\n",
       " 'question_type.sentiment_question_type',\n",
       " 'raw_model_response.concepts_raw_model_response',\n",
       " 'raw_model_response.sentiment_raw_model_response',\n",
       " 'scenario.text']"
      ]
     },
     "execution_count": 7,
     "metadata": {},
     "output_type": "execute_result"
    }
   ],
   "source": [
    "results.columns"
   ]
  },
  {
   "cell_type": "markdown",
   "id": "7d03ca57-a616-43d7-a500-7969288fc70c",
   "metadata": {},
   "source": [
    "We can select and print specific components to inspect:"
   ]
  },
  {
   "cell_type": "code",
   "execution_count": 8,
   "id": "6fe9f5af-f06c-47c4-a9fe-abddbda62c9a",
   "metadata": {},
   "outputs": [
    {
     "data": {
      "text/html": [
       "<pre style=\"white-space:pre;overflow-x:auto;line-height:normal;font-family:Menlo,'DejaVu Sans Mono',consolas,'Courier New',monospace\">┏━━━━━━━━━━━━━━━━━━━━━━━━━━━━━━━━━━━━━━━━━━━━━━━━━┳━━━━━━━━━━━━━━━━━━━━━━━━━━━━━━━━━━━━━━━━━━━━━━━━━━┳━━━━━━━━━━━━┓\n",
       "┃<span style=\"color: #800080; text-decoration-color: #800080; font-weight: bold\"> scenario                                        </span>┃<span style=\"color: #800080; text-decoration-color: #800080; font-weight: bold\"> answer                                           </span>┃<span style=\"color: #800080; text-decoration-color: #800080; font-weight: bold\"> answer     </span>┃\n",
       "┃<span style=\"color: #800080; text-decoration-color: #800080; font-weight: bold\"> .text                                           </span>┃<span style=\"color: #800080; text-decoration-color: #800080; font-weight: bold\"> .concepts                                        </span>┃<span style=\"color: #800080; text-decoration-color: #800080; font-weight: bold\"> .sentiment </span>┃\n",
       "┡━━━━━━━━━━━━━━━━━━━━━━━━━━━━━━━━━━━━━━━━━━━━━━━━━╇━━━━━━━━━━━━━━━━━━━━━━━━━━━━━━━━━━━━━━━━━━━━━━━━━━╇━━━━━━━━━━━━┩\n",
       "│<span style=\"color: #7f7f7f; text-decoration-color: #7f7f7f\"> Tune in as I deliver the keynote address at the </span>│<span style=\"color: #7f7f7f; text-decoration-color: #7f7f7f\"> ['keynote address', 'U.S. Holocaust Memorial     </span>│<span style=\"color: #7f7f7f; text-decoration-color: #7f7f7f\"> Neutral    </span>│\n",
       "│<span style=\"color: #7f7f7f; text-decoration-color: #7f7f7f\"> U.S. Holocaust Memorial Museum’s Annual Days of </span>│<span style=\"color: #7f7f7f; text-decoration-color: #7f7f7f\"> Museum', 'Annual Days of Remembrance ceremony',  </span>│<span style=\"color: #7f7f7f; text-decoration-color: #7f7f7f\">            </span>│\n",
       "│<span style=\"color: #7f7f7f; text-decoration-color: #7f7f7f\"> Remembrance ceremony in Washington, D.C.        </span>│<span style=\"color: #7f7f7f; text-decoration-color: #7f7f7f\"> 'Washington, D.C.']                              </span>│<span style=\"color: #7f7f7f; text-decoration-color: #7f7f7f\">            </span>│\n",
       "├─────────────────────────────────────────────────┼──────────────────────────────────────────────────┼────────────┤\n",
       "│<span style=\"color: #7f7f7f; text-decoration-color: #7f7f7f\"> We’re a nation of immigrants. A nation of       </span>│<span style=\"color: #7f7f7f; text-decoration-color: #7f7f7f\"> ['nation of immigrants', 'nation of dreamers',   </span>│<span style=\"color: #7f7f7f; text-decoration-color: #7f7f7f\"> Positive   </span>│\n",
       "│<span style=\"color: #7f7f7f; text-decoration-color: #7f7f7f\"> dreamers. And as Cinco de Mayo represents, a    </span>│<span style=\"color: #7f7f7f; text-decoration-color: #7f7f7f\"> 'Cinco de Mayo', 'nation of freedom']            </span>│<span style=\"color: #7f7f7f; text-decoration-color: #7f7f7f\">            </span>│\n",
       "│<span style=\"color: #7f7f7f; text-decoration-color: #7f7f7f\"> nation of freedom.                              </span>│<span style=\"color: #7f7f7f; text-decoration-color: #7f7f7f\">                                                  </span>│<span style=\"color: #7f7f7f; text-decoration-color: #7f7f7f\">            </span>│\n",
       "├─────────────────────────────────────────────────┼──────────────────────────────────────────────────┼────────────┤\n",
       "│<span style=\"color: #7f7f7f; text-decoration-color: #7f7f7f\"> Medicare is stronger and Social Security        </span>│<span style=\"color: #7f7f7f; text-decoration-color: #7f7f7f\"> ['Medicare', 'Social Security', 'economic plan', </span>│<span style=\"color: #7f7f7f; text-decoration-color: #7f7f7f\"> Positive   </span>│\n",
       "│<span style=\"color: #7f7f7f; text-decoration-color: #7f7f7f\"> remains strong. My economic plan has helped     </span>│<span style=\"color: #7f7f7f; text-decoration-color: #7f7f7f\"> 'Medicare solvency', 'decade', 'extending Social </span>│<span style=\"color: #7f7f7f; text-decoration-color: #7f7f7f\">            </span>│\n",
       "│<span style=\"color: #7f7f7f; text-decoration-color: #7f7f7f\"> extend Medicare solvency by a decade. And I am  </span>│<span style=\"color: #7f7f7f; text-decoration-color: #7f7f7f\"> Security solvency', 'rich', 'fair share']        </span>│<span style=\"color: #7f7f7f; text-decoration-color: #7f7f7f\">            </span>│\n",
       "│<span style=\"color: #7f7f7f; text-decoration-color: #7f7f7f\"> committed to extending Social Security solvency </span>│<span style=\"color: #7f7f7f; text-decoration-color: #7f7f7f\">                                                  </span>│<span style=\"color: #7f7f7f; text-decoration-color: #7f7f7f\">            </span>│\n",
       "│<span style=\"color: #7f7f7f; text-decoration-color: #7f7f7f\"> by making the rich pay their fair share.        </span>│<span style=\"color: #7f7f7f; text-decoration-color: #7f7f7f\">                                                  </span>│<span style=\"color: #7f7f7f; text-decoration-color: #7f7f7f\">            </span>│\n",
       "├─────────────────────────────────────────────────┼──────────────────────────────────────────────────┼────────────┤\n",
       "│<span style=\"color: #7f7f7f; text-decoration-color: #7f7f7f\"> Today, the Army Black Knights are taking home   </span>│<span style=\"color: #7f7f7f; text-decoration-color: #7f7f7f\"> ['Army Black Knights', 'West Point', '10th       </span>│<span style=\"color: #7f7f7f; text-decoration-color: #7f7f7f\"> Positive   </span>│\n",
       "│<span style=\"color: #7f7f7f; text-decoration-color: #7f7f7f\"> West Point’s 10th Commander-in-Chief Trophy.    </span>│<span style=\"color: #7f7f7f; text-decoration-color: #7f7f7f\"> Commander-in-Chief Trophy', 'proud', 'uniforms', </span>│<span style=\"color: #7f7f7f; text-decoration-color: #7f7f7f\">            </span>│\n",
       "│<span style=\"color: #7f7f7f; text-decoration-color: #7f7f7f\"> They should be proud. I’m proud of them too –   </span>│<span style=\"color: #7f7f7f; text-decoration-color: #7f7f7f\"> 'representing the United States']                </span>│<span style=\"color: #7f7f7f; text-decoration-color: #7f7f7f\">            </span>│\n",
       "│<span style=\"color: #7f7f7f; text-decoration-color: #7f7f7f\"> not for the wins, but because after every game  </span>│<span style=\"color: #7f7f7f; text-decoration-color: #7f7f7f\">                                                  </span>│<span style=\"color: #7f7f7f; text-decoration-color: #7f7f7f\">            </span>│\n",
       "│<span style=\"color: #7f7f7f; text-decoration-color: #7f7f7f\"> they hang up their uniforms and put on another: </span>│<span style=\"color: #7f7f7f; text-decoration-color: #7f7f7f\">                                                  </span>│<span style=\"color: #7f7f7f; text-decoration-color: #7f7f7f\">            </span>│\n",
       "│<span style=\"color: #7f7f7f; text-decoration-color: #7f7f7f\"> one representing the United States.             </span>│<span style=\"color: #7f7f7f; text-decoration-color: #7f7f7f\">                                                  </span>│<span style=\"color: #7f7f7f; text-decoration-color: #7f7f7f\">            </span>│\n",
       "├─────────────────────────────────────────────────┼──────────────────────────────────────────────────┼────────────┤\n",
       "│<span style=\"color: #7f7f7f; text-decoration-color: #7f7f7f\"> This Holocaust Remembrance Day, we mourn the    </span>│<span style=\"color: #7f7f7f; text-decoration-color: #7f7f7f\"> ['Holocaust Remembrance Day', 'mourn', 'six      </span>│<span style=\"color: #7f7f7f; text-decoration-color: #7f7f7f\"> Negative   </span>│\n",
       "│<span style=\"color: #7f7f7f; text-decoration-color: #7f7f7f\"> six million Jews who were killed by the Nazis   </span>│<span style=\"color: #7f7f7f; text-decoration-color: #7f7f7f\"> million Jews', 'killed', 'Nazis', 'darkest       </span>│<span style=\"color: #7f7f7f; text-decoration-color: #7f7f7f\">            </span>│\n",
       "│<span style=\"color: #7f7f7f; text-decoration-color: #7f7f7f\"> during one of the darkest chapters in human     </span>│<span style=\"color: #7f7f7f; text-decoration-color: #7f7f7f\"> chapters in human history', 'heed', 'lessons',   </span>│<span style=\"color: #7f7f7f; text-decoration-color: #7f7f7f\">            </span>│\n",
       "│<span style=\"color: #7f7f7f; text-decoration-color: #7f7f7f\"> history. And we recommit to heeding the lessons </span>│<span style=\"color: #7f7f7f; text-decoration-color: #7f7f7f\"> 'Shoah', 'responsibility', \"'Never Again'\"]      </span>│<span style=\"color: #7f7f7f; text-decoration-color: #7f7f7f\">            </span>│\n",
       "│<span style=\"color: #7f7f7f; text-decoration-color: #7f7f7f\"> of the Shoah and realizing the responsibility   </span>│<span style=\"color: #7f7f7f; text-decoration-color: #7f7f7f\">                                                  </span>│<span style=\"color: #7f7f7f; text-decoration-color: #7f7f7f\">            </span>│\n",
       "│<span style=\"color: #7f7f7f; text-decoration-color: #7f7f7f\"> of 'Never Again.'                               </span>│<span style=\"color: #7f7f7f; text-decoration-color: #7f7f7f\">                                                  </span>│<span style=\"color: #7f7f7f; text-decoration-color: #7f7f7f\">            </span>│\n",
       "├─────────────────────────────────────────────────┼──────────────────────────────────────────────────┼────────────┤\n",
       "│<span style=\"color: #7f7f7f; text-decoration-color: #7f7f7f\"> The recipients of the Presidential Medal of     </span>│<span style=\"color: #7f7f7f; text-decoration-color: #7f7f7f\"> ['recipients', 'Presidential Medal of Freedom',  </span>│<span style=\"color: #7f7f7f; text-decoration-color: #7f7f7f\"> Positive   </span>│\n",
       "│<span style=\"color: #7f7f7f; text-decoration-color: #7f7f7f\"> Freedom haven't just kept faith in freedom.     </span>│<span style=\"color: #7f7f7f; text-decoration-color: #7f7f7f\"> 'faith in freedom', \"America's faith\", 'better   </span>│<span style=\"color: #7f7f7f; text-decoration-color: #7f7f7f\">            </span>│\n",
       "│<span style=\"color: #7f7f7f; text-decoration-color: #7f7f7f\"> They kept all of America's faith in a better    </span>│<span style=\"color: #7f7f7f; text-decoration-color: #7f7f7f\"> tomorrow']                                       </span>│<span style=\"color: #7f7f7f; text-decoration-color: #7f7f7f\">            </span>│\n",
       "│<span style=\"color: #7f7f7f; text-decoration-color: #7f7f7f\"> tomorrow.                                       </span>│<span style=\"color: #7f7f7f; text-decoration-color: #7f7f7f\">                                                  </span>│<span style=\"color: #7f7f7f; text-decoration-color: #7f7f7f\">            </span>│\n",
       "├─────────────────────────────────────────────────┼──────────────────────────────────────────────────┼────────────┤\n",
       "│<span style=\"color: #7f7f7f; text-decoration-color: #7f7f7f\"> Like Jill says, 'Teaching isn’t just a job.     </span>│<span style=\"color: #7f7f7f; text-decoration-color: #7f7f7f\"> ['Teaching', 'calling', 'in her bones',          </span>│<span style=\"color: #7f7f7f; text-decoration-color: #7f7f7f\"> Positive   </span>│\n",
       "│<span style=\"color: #7f7f7f; text-decoration-color: #7f7f7f\"> It’s a calling.' She knows that in her bones,   </span>│<span style=\"color: #7f7f7f; text-decoration-color: #7f7f7f\"> 'educator', 'White House', 'Teacher State        </span>│<span style=\"color: #7f7f7f; text-decoration-color: #7f7f7f\">            </span>│\n",
       "│<span style=\"color: #7f7f7f; text-decoration-color: #7f7f7f\"> and I know every educator who joined us at the  </span>│<span style=\"color: #7f7f7f; text-decoration-color: #7f7f7f\"> Dinner', 'lives out that truth']                 </span>│<span style=\"color: #7f7f7f; text-decoration-color: #7f7f7f\">            </span>│\n",
       "│<span style=\"color: #7f7f7f; text-decoration-color: #7f7f7f\"> White House for the first-ever Teacher State    </span>│<span style=\"color: #7f7f7f; text-decoration-color: #7f7f7f\">                                                  </span>│<span style=\"color: #7f7f7f; text-decoration-color: #7f7f7f\">            </span>│\n",
       "│<span style=\"color: #7f7f7f; text-decoration-color: #7f7f7f\"> Dinner lives out that truth every day.          </span>│<span style=\"color: #7f7f7f; text-decoration-color: #7f7f7f\">                                                  </span>│<span style=\"color: #7f7f7f; text-decoration-color: #7f7f7f\">            </span>│\n",
       "├─────────────────────────────────────────────────┼──────────────────────────────────────────────────┼────────────┤\n",
       "│<span style=\"color: #7f7f7f; text-decoration-color: #7f7f7f\"> Jill and I send warm wishes to Orthodox         </span>│<span style=\"color: #7f7f7f; text-decoration-color: #7f7f7f\"> ['Jill', 'warm wishes', 'Orthodox Christian      </span>│<span style=\"color: #7f7f7f; text-decoration-color: #7f7f7f\"> Positive   </span>│\n",
       "│<span style=\"color: #7f7f7f; text-decoration-color: #7f7f7f\"> Christian communities around the world as they  </span>│<span style=\"color: #7f7f7f; text-decoration-color: #7f7f7f\"> communities', 'celebrate', 'Easter', 'May the    </span>│<span style=\"color: #7f7f7f; text-decoration-color: #7f7f7f\">            </span>│\n",
       "│<span style=\"color: #7f7f7f; text-decoration-color: #7f7f7f\"> celebrate Easter. May the Lord bless and keep   </span>│<span style=\"color: #7f7f7f; text-decoration-color: #7f7f7f\"> Lord bless and keep you', 'Easter Sunday', 'year </span>│<span style=\"color: #7f7f7f; text-decoration-color: #7f7f7f\">            </span>│\n",
       "│<span style=\"color: #7f7f7f; text-decoration-color: #7f7f7f\"> you this Easter Sunday and in the year ahead.   </span>│<span style=\"color: #7f7f7f; text-decoration-color: #7f7f7f\"> ahead']                                          </span>│<span style=\"color: #7f7f7f; text-decoration-color: #7f7f7f\">            </span>│\n",
       "├─────────────────────────────────────────────────┼──────────────────────────────────────────────────┼────────────┤\n",
       "│<span style=\"color: #7f7f7f; text-decoration-color: #7f7f7f\"> Dreamers are our loved ones, nurses, teachers,  </span>│<span style=\"color: #7f7f7f; text-decoration-color: #7f7f7f\"> ['Dreamers', 'loved ones', 'nurses', 'teachers', </span>│<span style=\"color: #7f7f7f; text-decoration-color: #7f7f7f\"> Positive   </span>│\n",
       "│<span style=\"color: #7f7f7f; text-decoration-color: #7f7f7f\"> and small business owners – they deserve the    </span>│<span style=\"color: #7f7f7f; text-decoration-color: #7f7f7f\"> 'small business owners', 'health care',          </span>│<span style=\"color: #7f7f7f; text-decoration-color: #7f7f7f\">            </span>│\n",
       "│<span style=\"color: #7f7f7f; text-decoration-color: #7f7f7f\"> promise of health care just like all of us.     </span>│<span style=\"color: #7f7f7f; text-decoration-color: #7f7f7f\"> 'promise', 'Affordable Care Act', 'DACA          </span>│<span style=\"color: #7f7f7f; text-decoration-color: #7f7f7f\">            </span>│\n",
       "│<span style=\"color: #7f7f7f; text-decoration-color: #7f7f7f\"> Today, my Administration is making that real by </span>│<span style=\"color: #7f7f7f; text-decoration-color: #7f7f7f\"> recipients', 'expanding', 'affordable health     </span>│<span style=\"color: #7f7f7f; text-decoration-color: #7f7f7f\">            </span>│\n",
       "│<span style=\"color: #7f7f7f; text-decoration-color: #7f7f7f\"> expanding affordable health coverage through    </span>│<span style=\"color: #7f7f7f; text-decoration-color: #7f7f7f\"> coverage', 'Administration']                     </span>│<span style=\"color: #7f7f7f; text-decoration-color: #7f7f7f\">            </span>│\n",
       "│<span style=\"color: #7f7f7f; text-decoration-color: #7f7f7f\"> the Affordable Care Act to DACA recipients.     </span>│<span style=\"color: #7f7f7f; text-decoration-color: #7f7f7f\">                                                  </span>│<span style=\"color: #7f7f7f; text-decoration-color: #7f7f7f\">            </span>│\n",
       "├─────────────────────────────────────────────────┼──────────────────────────────────────────────────┼────────────┤\n",
       "│<span style=\"color: #7f7f7f; text-decoration-color: #7f7f7f\"> With today’s report of 175,000 new jobs, the    </span>│<span style=\"color: #7f7f7f; text-decoration-color: #7f7f7f\"> ['report', '175,000 new jobs', 'American         </span>│<span style=\"color: #7f7f7f; text-decoration-color: #7f7f7f\"> Positive   </span>│\n",
       "│<span style=\"color: #7f7f7f; text-decoration-color: #7f7f7f\"> American comeback continues. Congressional      </span>│<span style=\"color: #7f7f7f; text-decoration-color: #7f7f7f\"> comeback', 'Congressional Republicans', 'cut     </span>│<span style=\"color: #7f7f7f; text-decoration-color: #7f7f7f\">            </span>│\n",
       "│<span style=\"color: #7f7f7f; text-decoration-color: #7f7f7f\"> Republicans are fighting to cut taxes for       </span>│<span style=\"color: #7f7f7f; text-decoration-color: #7f7f7f\"> taxes', 'billionaires', 'special interests',     </span>│<span style=\"color: #7f7f7f; text-decoration-color: #7f7f7f\">            </span>│\n",
       "│<span style=\"color: #7f7f7f; text-decoration-color: #7f7f7f\"> billionaires and let special interests rip      </span>│<span style=\"color: #7f7f7f; text-decoration-color: #7f7f7f\"> 'rip folks off', 'job creation', 'building an    </span>│<span style=\"color: #7f7f7f; text-decoration-color: #7f7f7f\">            </span>│\n",
       "│<span style=\"color: #7f7f7f; text-decoration-color: #7f7f7f\"> folks off, I'm focused on job creation and      </span>│<span style=\"color: #7f7f7f; text-decoration-color: #7f7f7f\"> economy', 'works for the families', 'grew up     </span>│<span style=\"color: #7f7f7f; text-decoration-color: #7f7f7f\">            </span>│\n",
       "│<span style=\"color: #7f7f7f; text-decoration-color: #7f7f7f\"> building an economy that works for the families </span>│<span style=\"color: #7f7f7f; text-decoration-color: #7f7f7f\"> with']                                           </span>│<span style=\"color: #7f7f7f; text-decoration-color: #7f7f7f\">            </span>│\n",
       "│<span style=\"color: #7f7f7f; text-decoration-color: #7f7f7f\"> I grew up with.                                 </span>│<span style=\"color: #7f7f7f; text-decoration-color: #7f7f7f\">                                                  </span>│<span style=\"color: #7f7f7f; text-decoration-color: #7f7f7f\">            </span>│\n",
       "└─────────────────────────────────────────────────┴──────────────────────────────────────────────────┴────────────┘\n",
       "</pre>\n"
      ],
      "text/plain": [
       "┏━━━━━━━━━━━━━━━━━━━━━━━━━━━━━━━━━━━━━━━━━━━━━━━━━┳━━━━━━━━━━━━━━━━━━━━━━━━━━━━━━━━━━━━━━━━━━━━━━━━━━┳━━━━━━━━━━━━┓\n",
       "┃\u001b[1;35m \u001b[0m\u001b[1;35mscenario                                       \u001b[0m\u001b[1;35m \u001b[0m┃\u001b[1;35m \u001b[0m\u001b[1;35manswer                                          \u001b[0m\u001b[1;35m \u001b[0m┃\u001b[1;35m \u001b[0m\u001b[1;35manswer    \u001b[0m\u001b[1;35m \u001b[0m┃\n",
       "┃\u001b[1;35m \u001b[0m\u001b[1;35m.text                                          \u001b[0m\u001b[1;35m \u001b[0m┃\u001b[1;35m \u001b[0m\u001b[1;35m.concepts                                       \u001b[0m\u001b[1;35m \u001b[0m┃\u001b[1;35m \u001b[0m\u001b[1;35m.sentiment\u001b[0m\u001b[1;35m \u001b[0m┃\n",
       "┡━━━━━━━━━━━━━━━━━━━━━━━━━━━━━━━━━━━━━━━━━━━━━━━━━╇━━━━━━━━━━━━━━━━━━━━━━━━━━━━━━━━━━━━━━━━━━━━━━━━━━╇━━━━━━━━━━━━┩\n",
       "│\u001b[2m \u001b[0m\u001b[2mTune in as I deliver the keynote address at the\u001b[0m\u001b[2m \u001b[0m│\u001b[2m \u001b[0m\u001b[2m['keynote address', 'U.S. Holocaust Memorial    \u001b[0m\u001b[2m \u001b[0m│\u001b[2m \u001b[0m\u001b[2mNeutral   \u001b[0m\u001b[2m \u001b[0m│\n",
       "│\u001b[2m \u001b[0m\u001b[2mU.S. Holocaust Memorial Museum’s Annual Days of\u001b[0m\u001b[2m \u001b[0m│\u001b[2m \u001b[0m\u001b[2mMuseum', 'Annual Days of Remembrance ceremony', \u001b[0m\u001b[2m \u001b[0m│\u001b[2m            \u001b[0m│\n",
       "│\u001b[2m \u001b[0m\u001b[2mRemembrance ceremony in Washington, D.C.       \u001b[0m\u001b[2m \u001b[0m│\u001b[2m \u001b[0m\u001b[2m'Washington, D.C.']                             \u001b[0m\u001b[2m \u001b[0m│\u001b[2m            \u001b[0m│\n",
       "├─────────────────────────────────────────────────┼──────────────────────────────────────────────────┼────────────┤\n",
       "│\u001b[2m \u001b[0m\u001b[2mWe’re a nation of immigrants. A nation of      \u001b[0m\u001b[2m \u001b[0m│\u001b[2m \u001b[0m\u001b[2m['nation of immigrants', 'nation of dreamers',  \u001b[0m\u001b[2m \u001b[0m│\u001b[2m \u001b[0m\u001b[2mPositive  \u001b[0m\u001b[2m \u001b[0m│\n",
       "│\u001b[2m \u001b[0m\u001b[2mdreamers. And as Cinco de Mayo represents, a   \u001b[0m\u001b[2m \u001b[0m│\u001b[2m \u001b[0m\u001b[2m'Cinco de Mayo', 'nation of freedom']           \u001b[0m\u001b[2m \u001b[0m│\u001b[2m            \u001b[0m│\n",
       "│\u001b[2m \u001b[0m\u001b[2mnation of freedom.                             \u001b[0m\u001b[2m \u001b[0m│\u001b[2m                                                  \u001b[0m│\u001b[2m            \u001b[0m│\n",
       "├─────────────────────────────────────────────────┼──────────────────────────────────────────────────┼────────────┤\n",
       "│\u001b[2m \u001b[0m\u001b[2mMedicare is stronger and Social Security       \u001b[0m\u001b[2m \u001b[0m│\u001b[2m \u001b[0m\u001b[2m['Medicare', 'Social Security', 'economic plan',\u001b[0m\u001b[2m \u001b[0m│\u001b[2m \u001b[0m\u001b[2mPositive  \u001b[0m\u001b[2m \u001b[0m│\n",
       "│\u001b[2m \u001b[0m\u001b[2mremains strong. My economic plan has helped    \u001b[0m\u001b[2m \u001b[0m│\u001b[2m \u001b[0m\u001b[2m'Medicare solvency', 'decade', 'extending Social\u001b[0m\u001b[2m \u001b[0m│\u001b[2m            \u001b[0m│\n",
       "│\u001b[2m \u001b[0m\u001b[2mextend Medicare solvency by a decade. And I am \u001b[0m\u001b[2m \u001b[0m│\u001b[2m \u001b[0m\u001b[2mSecurity solvency', 'rich', 'fair share']       \u001b[0m\u001b[2m \u001b[0m│\u001b[2m            \u001b[0m│\n",
       "│\u001b[2m \u001b[0m\u001b[2mcommitted to extending Social Security solvency\u001b[0m\u001b[2m \u001b[0m│\u001b[2m                                                  \u001b[0m│\u001b[2m            \u001b[0m│\n",
       "│\u001b[2m \u001b[0m\u001b[2mby making the rich pay their fair share.       \u001b[0m\u001b[2m \u001b[0m│\u001b[2m                                                  \u001b[0m│\u001b[2m            \u001b[0m│\n",
       "├─────────────────────────────────────────────────┼──────────────────────────────────────────────────┼────────────┤\n",
       "│\u001b[2m \u001b[0m\u001b[2mToday, the Army Black Knights are taking home  \u001b[0m\u001b[2m \u001b[0m│\u001b[2m \u001b[0m\u001b[2m['Army Black Knights', 'West Point', '10th      \u001b[0m\u001b[2m \u001b[0m│\u001b[2m \u001b[0m\u001b[2mPositive  \u001b[0m\u001b[2m \u001b[0m│\n",
       "│\u001b[2m \u001b[0m\u001b[2mWest Point’s 10th Commander-in-Chief Trophy.   \u001b[0m\u001b[2m \u001b[0m│\u001b[2m \u001b[0m\u001b[2mCommander-in-Chief Trophy', 'proud', 'uniforms',\u001b[0m\u001b[2m \u001b[0m│\u001b[2m            \u001b[0m│\n",
       "│\u001b[2m \u001b[0m\u001b[2mThey should be proud. I’m proud of them too –  \u001b[0m\u001b[2m \u001b[0m│\u001b[2m \u001b[0m\u001b[2m'representing the United States']               \u001b[0m\u001b[2m \u001b[0m│\u001b[2m            \u001b[0m│\n",
       "│\u001b[2m \u001b[0m\u001b[2mnot for the wins, but because after every game \u001b[0m\u001b[2m \u001b[0m│\u001b[2m                                                  \u001b[0m│\u001b[2m            \u001b[0m│\n",
       "│\u001b[2m \u001b[0m\u001b[2mthey hang up their uniforms and put on another:\u001b[0m\u001b[2m \u001b[0m│\u001b[2m                                                  \u001b[0m│\u001b[2m            \u001b[0m│\n",
       "│\u001b[2m \u001b[0m\u001b[2mone representing the United States.            \u001b[0m\u001b[2m \u001b[0m│\u001b[2m                                                  \u001b[0m│\u001b[2m            \u001b[0m│\n",
       "├─────────────────────────────────────────────────┼──────────────────────────────────────────────────┼────────────┤\n",
       "│\u001b[2m \u001b[0m\u001b[2mThis Holocaust Remembrance Day, we mourn the   \u001b[0m\u001b[2m \u001b[0m│\u001b[2m \u001b[0m\u001b[2m['Holocaust Remembrance Day', 'mourn', 'six     \u001b[0m\u001b[2m \u001b[0m│\u001b[2m \u001b[0m\u001b[2mNegative  \u001b[0m\u001b[2m \u001b[0m│\n",
       "│\u001b[2m \u001b[0m\u001b[2msix million Jews who were killed by the Nazis  \u001b[0m\u001b[2m \u001b[0m│\u001b[2m \u001b[0m\u001b[2mmillion Jews', 'killed', 'Nazis', 'darkest      \u001b[0m\u001b[2m \u001b[0m│\u001b[2m            \u001b[0m│\n",
       "│\u001b[2m \u001b[0m\u001b[2mduring one of the darkest chapters in human    \u001b[0m\u001b[2m \u001b[0m│\u001b[2m \u001b[0m\u001b[2mchapters in human history', 'heed', 'lessons',  \u001b[0m\u001b[2m \u001b[0m│\u001b[2m            \u001b[0m│\n",
       "│\u001b[2m \u001b[0m\u001b[2mhistory. And we recommit to heeding the lessons\u001b[0m\u001b[2m \u001b[0m│\u001b[2m \u001b[0m\u001b[2m'Shoah', 'responsibility', \"'Never Again'\"]     \u001b[0m\u001b[2m \u001b[0m│\u001b[2m            \u001b[0m│\n",
       "│\u001b[2m \u001b[0m\u001b[2mof the Shoah and realizing the responsibility  \u001b[0m\u001b[2m \u001b[0m│\u001b[2m                                                  \u001b[0m│\u001b[2m            \u001b[0m│\n",
       "│\u001b[2m \u001b[0m\u001b[2mof 'Never Again.'                              \u001b[0m\u001b[2m \u001b[0m│\u001b[2m                                                  \u001b[0m│\u001b[2m            \u001b[0m│\n",
       "├─────────────────────────────────────────────────┼──────────────────────────────────────────────────┼────────────┤\n",
       "│\u001b[2m \u001b[0m\u001b[2mThe recipients of the Presidential Medal of    \u001b[0m\u001b[2m \u001b[0m│\u001b[2m \u001b[0m\u001b[2m['recipients', 'Presidential Medal of Freedom', \u001b[0m\u001b[2m \u001b[0m│\u001b[2m \u001b[0m\u001b[2mPositive  \u001b[0m\u001b[2m \u001b[0m│\n",
       "│\u001b[2m \u001b[0m\u001b[2mFreedom haven't just kept faith in freedom.    \u001b[0m\u001b[2m \u001b[0m│\u001b[2m \u001b[0m\u001b[2m'faith in freedom', \"America's faith\", 'better  \u001b[0m\u001b[2m \u001b[0m│\u001b[2m            \u001b[0m│\n",
       "│\u001b[2m \u001b[0m\u001b[2mThey kept all of America's faith in a better   \u001b[0m\u001b[2m \u001b[0m│\u001b[2m \u001b[0m\u001b[2mtomorrow']                                      \u001b[0m\u001b[2m \u001b[0m│\u001b[2m            \u001b[0m│\n",
       "│\u001b[2m \u001b[0m\u001b[2mtomorrow.                                      \u001b[0m\u001b[2m \u001b[0m│\u001b[2m                                                  \u001b[0m│\u001b[2m            \u001b[0m│\n",
       "├─────────────────────────────────────────────────┼──────────────────────────────────────────────────┼────────────┤\n",
       "│\u001b[2m \u001b[0m\u001b[2mLike Jill says, 'Teaching isn’t just a job.    \u001b[0m\u001b[2m \u001b[0m│\u001b[2m \u001b[0m\u001b[2m['Teaching', 'calling', 'in her bones',         \u001b[0m\u001b[2m \u001b[0m│\u001b[2m \u001b[0m\u001b[2mPositive  \u001b[0m\u001b[2m \u001b[0m│\n",
       "│\u001b[2m \u001b[0m\u001b[2mIt’s a calling.' She knows that in her bones,  \u001b[0m\u001b[2m \u001b[0m│\u001b[2m \u001b[0m\u001b[2m'educator', 'White House', 'Teacher State       \u001b[0m\u001b[2m \u001b[0m│\u001b[2m            \u001b[0m│\n",
       "│\u001b[2m \u001b[0m\u001b[2mand I know every educator who joined us at the \u001b[0m\u001b[2m \u001b[0m│\u001b[2m \u001b[0m\u001b[2mDinner', 'lives out that truth']                \u001b[0m\u001b[2m \u001b[0m│\u001b[2m            \u001b[0m│\n",
       "│\u001b[2m \u001b[0m\u001b[2mWhite House for the first-ever Teacher State   \u001b[0m\u001b[2m \u001b[0m│\u001b[2m                                                  \u001b[0m│\u001b[2m            \u001b[0m│\n",
       "│\u001b[2m \u001b[0m\u001b[2mDinner lives out that truth every day.         \u001b[0m\u001b[2m \u001b[0m│\u001b[2m                                                  \u001b[0m│\u001b[2m            \u001b[0m│\n",
       "├─────────────────────────────────────────────────┼──────────────────────────────────────────────────┼────────────┤\n",
       "│\u001b[2m \u001b[0m\u001b[2mJill and I send warm wishes to Orthodox        \u001b[0m\u001b[2m \u001b[0m│\u001b[2m \u001b[0m\u001b[2m['Jill', 'warm wishes', 'Orthodox Christian     \u001b[0m\u001b[2m \u001b[0m│\u001b[2m \u001b[0m\u001b[2mPositive  \u001b[0m\u001b[2m \u001b[0m│\n",
       "│\u001b[2m \u001b[0m\u001b[2mChristian communities around the world as they \u001b[0m\u001b[2m \u001b[0m│\u001b[2m \u001b[0m\u001b[2mcommunities', 'celebrate', 'Easter', 'May the   \u001b[0m\u001b[2m \u001b[0m│\u001b[2m            \u001b[0m│\n",
       "│\u001b[2m \u001b[0m\u001b[2mcelebrate Easter. May the Lord bless and keep  \u001b[0m\u001b[2m \u001b[0m│\u001b[2m \u001b[0m\u001b[2mLord bless and keep you', 'Easter Sunday', 'year\u001b[0m\u001b[2m \u001b[0m│\u001b[2m            \u001b[0m│\n",
       "│\u001b[2m \u001b[0m\u001b[2myou this Easter Sunday and in the year ahead.  \u001b[0m\u001b[2m \u001b[0m│\u001b[2m \u001b[0m\u001b[2mahead']                                         \u001b[0m\u001b[2m \u001b[0m│\u001b[2m            \u001b[0m│\n",
       "├─────────────────────────────────────────────────┼──────────────────────────────────────────────────┼────────────┤\n",
       "│\u001b[2m \u001b[0m\u001b[2mDreamers are our loved ones, nurses, teachers, \u001b[0m\u001b[2m \u001b[0m│\u001b[2m \u001b[0m\u001b[2m['Dreamers', 'loved ones', 'nurses', 'teachers',\u001b[0m\u001b[2m \u001b[0m│\u001b[2m \u001b[0m\u001b[2mPositive  \u001b[0m\u001b[2m \u001b[0m│\n",
       "│\u001b[2m \u001b[0m\u001b[2mand small business owners – they deserve the   \u001b[0m\u001b[2m \u001b[0m│\u001b[2m \u001b[0m\u001b[2m'small business owners', 'health care',         \u001b[0m\u001b[2m \u001b[0m│\u001b[2m            \u001b[0m│\n",
       "│\u001b[2m \u001b[0m\u001b[2mpromise of health care just like all of us.    \u001b[0m\u001b[2m \u001b[0m│\u001b[2m \u001b[0m\u001b[2m'promise', 'Affordable Care Act', 'DACA         \u001b[0m\u001b[2m \u001b[0m│\u001b[2m            \u001b[0m│\n",
       "│\u001b[2m \u001b[0m\u001b[2mToday, my Administration is making that real by\u001b[0m\u001b[2m \u001b[0m│\u001b[2m \u001b[0m\u001b[2mrecipients', 'expanding', 'affordable health    \u001b[0m\u001b[2m \u001b[0m│\u001b[2m            \u001b[0m│\n",
       "│\u001b[2m \u001b[0m\u001b[2mexpanding affordable health coverage through   \u001b[0m\u001b[2m \u001b[0m│\u001b[2m \u001b[0m\u001b[2mcoverage', 'Administration']                    \u001b[0m\u001b[2m \u001b[0m│\u001b[2m            \u001b[0m│\n",
       "│\u001b[2m \u001b[0m\u001b[2mthe Affordable Care Act to DACA recipients.    \u001b[0m\u001b[2m \u001b[0m│\u001b[2m                                                  \u001b[0m│\u001b[2m            \u001b[0m│\n",
       "├─────────────────────────────────────────────────┼──────────────────────────────────────────────────┼────────────┤\n",
       "│\u001b[2m \u001b[0m\u001b[2mWith today’s report of 175,000 new jobs, the   \u001b[0m\u001b[2m \u001b[0m│\u001b[2m \u001b[0m\u001b[2m['report', '175,000 new jobs', 'American        \u001b[0m\u001b[2m \u001b[0m│\u001b[2m \u001b[0m\u001b[2mPositive  \u001b[0m\u001b[2m \u001b[0m│\n",
       "│\u001b[2m \u001b[0m\u001b[2mAmerican comeback continues. Congressional     \u001b[0m\u001b[2m \u001b[0m│\u001b[2m \u001b[0m\u001b[2mcomeback', 'Congressional Republicans', 'cut    \u001b[0m\u001b[2m \u001b[0m│\u001b[2m            \u001b[0m│\n",
       "│\u001b[2m \u001b[0m\u001b[2mRepublicans are fighting to cut taxes for      \u001b[0m\u001b[2m \u001b[0m│\u001b[2m \u001b[0m\u001b[2mtaxes', 'billionaires', 'special interests',    \u001b[0m\u001b[2m \u001b[0m│\u001b[2m            \u001b[0m│\n",
       "│\u001b[2m \u001b[0m\u001b[2mbillionaires and let special interests rip     \u001b[0m\u001b[2m \u001b[0m│\u001b[2m \u001b[0m\u001b[2m'rip folks off', 'job creation', 'building an   \u001b[0m\u001b[2m \u001b[0m│\u001b[2m            \u001b[0m│\n",
       "│\u001b[2m \u001b[0m\u001b[2mfolks off, I'm focused on job creation and     \u001b[0m\u001b[2m \u001b[0m│\u001b[2m \u001b[0m\u001b[2meconomy', 'works for the families', 'grew up    \u001b[0m\u001b[2m \u001b[0m│\u001b[2m            \u001b[0m│\n",
       "│\u001b[2m \u001b[0m\u001b[2mbuilding an economy that works for the families\u001b[0m\u001b[2m \u001b[0m│\u001b[2m \u001b[0m\u001b[2mwith']                                          \u001b[0m\u001b[2m \u001b[0m│\u001b[2m            \u001b[0m│\n",
       "│\u001b[2m \u001b[0m\u001b[2mI grew up with.                                \u001b[0m\u001b[2m \u001b[0m│\u001b[2m                                                  \u001b[0m│\u001b[2m            \u001b[0m│\n",
       "└─────────────────────────────────────────────────┴──────────────────────────────────────────────────┴────────────┘\n"
      ]
     },
     "metadata": {},
     "output_type": "display_data"
    }
   ],
   "source": [
    "results.select(\"text\", \"concepts\", \"sentiment\").print(format=\"rich\")"
   ]
  },
  {
   "cell_type": "markdown",
   "id": "5e1abcd5-4e84-438b-b7aa-d06608c1b463",
   "metadata": {},
   "source": [
    "If our concepts lists are too long, we can run another question prompting a model to condense it. We can specify the number of concepts that we want to get:"
   ]
  },
  {
   "cell_type": "code",
   "execution_count": 9,
   "id": "8d9918dc-0096-4e51-b2ff-0d11d766511c",
   "metadata": {},
   "outputs": [],
   "source": [
    "# Flattening our list of lists for all the texts to use in a follow-on question:\n",
    "concepts_list = results.select(\"concepts\").to_list(flatten=True)\n",
    "# concepts_list"
   ]
  },
  {
   "cell_type": "code",
   "execution_count": 10,
   "id": "dfdc75b6-96ca-4150-88ff-efffa5ba0001",
   "metadata": {},
   "outputs": [],
   "source": [
    "q_condense = QuestionList(\n",
    "    question_name = \"condense\",\n",
    "    question_text = \"Return a condensed list of the following list of concepts: \" + \", \".join(concepts_list),\n",
    "    max_list_items = 10\n",
    ")"
   ]
  },
  {
   "cell_type": "markdown",
   "id": "5925616e-a982-4100-a258-c1f5e12b1ef6",
   "metadata": {},
   "source": [
    "Note that we can call the `run()` method on either a survey of questions or an individual question:"
   ]
  },
  {
   "cell_type": "code",
   "execution_count": 11,
   "id": "c64b8d8a-9ce3-4611-9622-059e03a6644d",
   "metadata": {},
   "outputs": [],
   "source": [
    "results = q_condense.run()"
   ]
  },
  {
   "cell_type": "code",
   "execution_count": 12,
   "id": "68b7717a-d62a-43e2-83a7-efbf76fd400d",
   "metadata": {},
   "outputs": [
    {
     "data": {
      "text/html": [
       "<pre style=\"white-space:pre;overflow-x:auto;line-height:normal;font-family:Menlo,'DejaVu Sans Mono',consolas,'Courier New',monospace\">┏━━━━━━━━━━━━━━━━━━━━━━━━━━━━━━━━━━━━━━━━━━━━━━━━━━━━━━━━━━━━━━━━━━━━━━━━━━━━━━━━━━━━━━━━━━━━━━━━━━━━━━━━━━━━━━━━━┓\n",
       "┃<span style=\"color: #800080; text-decoration-color: #800080; font-weight: bold\"> answer                                                                                                          </span>┃\n",
       "┃<span style=\"color: #800080; text-decoration-color: #800080; font-weight: bold\"> .condense                                                                                                       </span>┃\n",
       "┡━━━━━━━━━━━━━━━━━━━━━━━━━━━━━━━━━━━━━━━━━━━━━━━━━━━━━━━━━━━━━━━━━━━━━━━━━━━━━━━━━━━━━━━━━━━━━━━━━━━━━━━━━━━━━━━━━┩\n",
       "│<span style=\"color: #7f7f7f; text-decoration-color: #7f7f7f\"> ['Holocaust Remembrance', 'Medicare and Social Security', 'Economic and Tax Plans', 'Military and National      </span>│\n",
       "│<span style=\"color: #7f7f7f; text-decoration-color: #7f7f7f\"> Service', 'Educational Commitment', 'Cultural Celebrations', 'Healthcare Initiatives', 'Employment Growth',     </span>│\n",
       "│<span style=\"color: #7f7f7f; text-decoration-color: #7f7f7f\"> 'Presidential Honors', 'National Messages']                                                                     </span>│\n",
       "└─────────────────────────────────────────────────────────────────────────────────────────────────────────────────┘\n",
       "</pre>\n"
      ],
      "text/plain": [
       "┏━━━━━━━━━━━━━━━━━━━━━━━━━━━━━━━━━━━━━━━━━━━━━━━━━━━━━━━━━━━━━━━━━━━━━━━━━━━━━━━━━━━━━━━━━━━━━━━━━━━━━━━━━━━━━━━━━┓\n",
       "┃\u001b[1;35m \u001b[0m\u001b[1;35manswer                                                                                                         \u001b[0m\u001b[1;35m \u001b[0m┃\n",
       "┃\u001b[1;35m \u001b[0m\u001b[1;35m.condense                                                                                                      \u001b[0m\u001b[1;35m \u001b[0m┃\n",
       "┡━━━━━━━━━━━━━━━━━━━━━━━━━━━━━━━━━━━━━━━━━━━━━━━━━━━━━━━━━━━━━━━━━━━━━━━━━━━━━━━━━━━━━━━━━━━━━━━━━━━━━━━━━━━━━━━━━┩\n",
       "│\u001b[2m \u001b[0m\u001b[2m['Holocaust Remembrance', 'Medicare and Social Security', 'Economic and Tax Plans', 'Military and National     \u001b[0m\u001b[2m \u001b[0m│\n",
       "│\u001b[2m \u001b[0m\u001b[2mService', 'Educational Commitment', 'Cultural Celebrations', 'Healthcare Initiatives', 'Employment Growth',    \u001b[0m\u001b[2m \u001b[0m│\n",
       "│\u001b[2m \u001b[0m\u001b[2m'Presidential Honors', 'National Messages']                                                                    \u001b[0m\u001b[2m \u001b[0m│\n",
       "└─────────────────────────────────────────────────────────────────────────────────────────────────────────────────┘\n"
      ]
     },
     "metadata": {},
     "output_type": "display_data"
    }
   ],
   "source": [
    "results.select(\"condense\").print(format=\"rich\")"
   ]
  },
  {
   "cell_type": "markdown",
   "id": "2ea27147-7051-4341-b6db-45d40f5cad5d",
   "metadata": {},
   "source": [
    "## Identify criteria for each concept\n",
    "Similar to our first step, next we can run a question prompting the model to generate criteria for each concept. We could use `QuestionFreeText` generate these criteria in an unstructured narrative:"
   ]
  },
  {
   "cell_type": "code",
   "execution_count": 13,
   "id": "7888e26a-a4a5-487f-b26f-c0eb7e170b91",
   "metadata": {},
   "outputs": [],
   "source": [
    "from edsl.questions import QuestionFreeText\n",
    "\n",
    "q_criteria = QuestionFreeText(\n",
    "    question_name = \"criteria\",\n",
    "    question_text = \"\"\"Describe key criteria for determining whether a text is primarily about the \n",
    "    following concept: {{ concept }}\"\"\"\n",
    ")"
   ]
  },
  {
   "cell_type": "markdown",
   "id": "e923ce4b-7201-423f-a706-73f863eaf272",
   "metadata": {},
   "source": [
    "For this question, the scenarios are the concepts that we generated:"
   ]
  },
  {
   "cell_type": "code",
   "execution_count": 14,
   "id": "ac9c51cc-08a5-478f-8082-ba28f994d1c1",
   "metadata": {},
   "outputs": [
    {
     "data": {
      "text/plain": [
       "[Scenario({'concept': 'Holocaust Remembrance'}),\n",
       " Scenario({'concept': 'Medicare and Social Security'}),\n",
       " Scenario({'concept': 'Economic and Tax Plans'}),\n",
       " Scenario({'concept': 'Military and National Service'}),\n",
       " Scenario({'concept': 'Educational Commitment'}),\n",
       " Scenario({'concept': 'Cultural Celebrations'}),\n",
       " Scenario({'concept': 'Healthcare Initiatives'}),\n",
       " Scenario({'concept': 'Employment Growth'}),\n",
       " Scenario({'concept': 'Presidential Honors'}),\n",
       " Scenario({'concept': 'National Messages'})]"
      ]
     },
     "execution_count": 14,
     "metadata": {},
     "output_type": "execute_result"
    }
   ],
   "source": [
    "condensed_concepts_list = results.select(\"condense\").to_list(flatten=True)\n",
    "\n",
    "scenarios = [Scenario({\"concept\": concept}) for concept in condensed_concepts_list]\n",
    "scenarios"
   ]
  },
  {
   "cell_type": "code",
   "execution_count": 15,
   "id": "c31d5d9e-e3f7-4031-b496-caf5dc0b9d04",
   "metadata": {},
   "outputs": [],
   "source": [
    "results = q_criteria.by(scenarios).run()"
   ]
  },
  {
   "cell_type": "code",
   "execution_count": 16,
   "id": "73ec1f46-0314-492c-aefa-ffceb1fab326",
   "metadata": {},
   "outputs": [
    {
     "data": {
      "text/html": [
       "<pre style=\"white-space:pre;overflow-x:auto;line-height:normal;font-family:Menlo,'DejaVu Sans Mono',consolas,'Courier New',monospace\">┏━━━━━━━━━━━━━━━━━━━━━━━━━━━━━━━┳━━━━━━━━━━━━━━━━━━━━━━━━━━━━━━━━━━━━━━━━━━━━━━━━━━━━━━━━━━━━━━━━━━━━━━━━━━━━━━━━━┓\n",
       "┃<span style=\"color: #800080; text-decoration-color: #800080; font-weight: bold\"> scenario                      </span>┃<span style=\"color: #800080; text-decoration-color: #800080; font-weight: bold\"> answer                                                                          </span>┃\n",
       "┃<span style=\"color: #800080; text-decoration-color: #800080; font-weight: bold\"> .concept                      </span>┃<span style=\"color: #800080; text-decoration-color: #800080; font-weight: bold\"> .criteria                                                                       </span>┃\n",
       "┡━━━━━━━━━━━━━━━━━━━━━━━━━━━━━━━╇━━━━━━━━━━━━━━━━━━━━━━━━━━━━━━━━━━━━━━━━━━━━━━━━━━━━━━━━━━━━━━━━━━━━━━━━━━━━━━━━━┩\n",
       "│<span style=\"color: #7f7f7f; text-decoration-color: #7f7f7f\"> Holocaust Remembrance         </span>│<span style=\"color: #7f7f7f; text-decoration-color: #7f7f7f\"> To determine if a text is primarily about Holocaust Remembrance, one would look </span>│\n",
       "│<span style=\"color: #7f7f7f; text-decoration-color: #7f7f7f\">                               </span>│<span style=\"color: #7f7f7f; text-decoration-color: #7f7f7f\"> for several key criteria. Firstly, the text would likely mention specific       </span>│\n",
       "│<span style=\"color: #7f7f7f; text-decoration-color: #7f7f7f\">                               </span>│<span style=\"color: #7f7f7f; text-decoration-color: #7f7f7f\"> events related to the Holocaust, such as the systematic persecution and         </span>│\n",
       "│<span style=\"color: #7f7f7f; text-decoration-color: #7f7f7f\">                               </span>│<span style=\"color: #7f7f7f; text-decoration-color: #7f7f7f\"> annihilation of six million Jews by the Nazi regime. Secondly, it would discuss </span>│\n",
       "│<span style=\"color: #7f7f7f; text-decoration-color: #7f7f7f\">                               </span>│<span style=\"color: #7f7f7f; text-decoration-color: #7f7f7f\"> acts of commemoration, such as memorial services, educational programs, and     </span>│\n",
       "│<span style=\"color: #7f7f7f; text-decoration-color: #7f7f7f\">                               </span>│<span style=\"color: #7f7f7f; text-decoration-color: #7f7f7f\"> moments of silence. Thirdly, the text might reference symbols and observances   </span>│\n",
       "│<span style=\"color: #7f7f7f; text-decoration-color: #7f7f7f\">                               </span>│<span style=\"color: #7f7f7f; text-decoration-color: #7f7f7f\"> associated with Holocaust Remembrance, like the date of International Holocaust </span>│\n",
       "│<span style=\"color: #7f7f7f; text-decoration-color: #7f7f7f\">                               </span>│<span style=\"color: #7f7f7f; text-decoration-color: #7f7f7f\"> Remembrance Day (January 27th), the lighting of candles, or the reading of      </span>│\n",
       "│<span style=\"color: #7f7f7f; text-decoration-color: #7f7f7f\">                               </span>│<span style=\"color: #7f7f7f; text-decoration-color: #7f7f7f\"> names of victims. Additionally, discussions of the importance of remembering    </span>│\n",
       "│<span style=\"color: #7f7f7f; text-decoration-color: #7f7f7f\">                               </span>│<span style=\"color: #7f7f7f; text-decoration-color: #7f7f7f\"> the Holocaust to prevent future genocides, the role of survivors' testimonies,  </span>│\n",
       "│<span style=\"color: #7f7f7f; text-decoration-color: #7f7f7f\">                               </span>│<span style=\"color: #7f7f7f; text-decoration-color: #7f7f7f\"> and the moral lessons learned from this dark period in history would be         </span>│\n",
       "│<span style=\"color: #7f7f7f; text-decoration-color: #7f7f7f\">                               </span>│<span style=\"color: #7f7f7f; text-decoration-color: #7f7f7f\"> indicative of the text's focus on Holocaust Remembrance.                        </span>│\n",
       "├───────────────────────────────┼─────────────────────────────────────────────────────────────────────────────────┤\n",
       "│<span style=\"color: #7f7f7f; text-decoration-color: #7f7f7f\"> Medicare and Social Security  </span>│<span style=\"color: #7f7f7f; text-decoration-color: #7f7f7f\"> To determine if a text is primarily about Medicare and Social Security, one     </span>│\n",
       "│<span style=\"color: #7f7f7f; text-decoration-color: #7f7f7f\">                               </span>│<span style=\"color: #7f7f7f; text-decoration-color: #7f7f7f\"> should look for the following key criteria: the presence of specific            </span>│\n",
       "│<span style=\"color: #7f7f7f; text-decoration-color: #7f7f7f\">                               </span>│<span style=\"color: #7f7f7f; text-decoration-color: #7f7f7f\"> terminology related to Medicare (such as 'Part A', 'Part B', 'prescription drug </span>│\n",
       "│<span style=\"color: #7f7f7f; text-decoration-color: #7f7f7f\">                               </span>│<span style=\"color: #7f7f7f; text-decoration-color: #7f7f7f\"> coverage', 'Medicare Advantage', 'Centers for Medicare &amp; Medicaid Services')    </span>│\n",
       "│<span style=\"color: #7f7f7f; text-decoration-color: #7f7f7f\">                               </span>│<span style=\"color: #7f7f7f; text-decoration-color: #7f7f7f\"> and Social Security ('Social Security benefits', 'retirement benefits',         </span>│\n",
       "│<span style=\"color: #7f7f7f; text-decoration-color: #7f7f7f\">                               </span>│<span style=\"color: #7f7f7f; text-decoration-color: #7f7f7f\"> 'disability benefits', 'SSA', 'FICA'); a focus on the policies, regulations,    </span>│\n",
       "│<span style=\"color: #7f7f7f; text-decoration-color: #7f7f7f\">                               </span>│<span style=\"color: #7f7f7f; text-decoration-color: #7f7f7f\"> reforms, and management of these programs; discussion of the impact on and      </span>│\n",
       "│<span style=\"color: #7f7f7f; text-decoration-color: #7f7f7f\">                               </span>│<span style=\"color: #7f7f7f; text-decoration-color: #7f7f7f\"> eligibility criteria for beneficiaries; analysis of funding, sustainability,    </span>│\n",
       "│<span style=\"color: #7f7f7f; text-decoration-color: #7f7f7f\">                               </span>│<span style=\"color: #7f7f7f; text-decoration-color: #7f7f7f\"> and financial aspects of the programs; and the inclusion of historical context  </span>│\n",
       "│<span style=\"color: #7f7f7f; text-decoration-color: #7f7f7f\">                               </span>│<span style=\"color: #7f7f7f; text-decoration-color: #7f7f7f\"> and future projections related to Medicare and Social Security. If the majority </span>│\n",
       "│<span style=\"color: #7f7f7f; text-decoration-color: #7f7f7f\">                               </span>│<span style=\"color: #7f7f7f; text-decoration-color: #7f7f7f\"> of these elements are present, it's likely that the text is primarily concerned </span>│\n",
       "│<span style=\"color: #7f7f7f; text-decoration-color: #7f7f7f\">                               </span>│<span style=\"color: #7f7f7f; text-decoration-color: #7f7f7f\"> with these topics.                                                              </span>│\n",
       "├───────────────────────────────┼─────────────────────────────────────────────────────────────────────────────────┤\n",
       "│<span style=\"color: #7f7f7f; text-decoration-color: #7f7f7f\"> Economic and Tax Plans        </span>│<span style=\"color: #7f7f7f; text-decoration-color: #7f7f7f\"> To determine whether a text is primarily about Economic and Tax Plans, key      </span>│\n",
       "│<span style=\"color: #7f7f7f; text-decoration-color: #7f7f7f\">                               </span>│<span style=\"color: #7f7f7f; text-decoration-color: #7f7f7f\"> criteria would include the presence of discussions or information on fiscal     </span>│\n",
       "│<span style=\"color: #7f7f7f; text-decoration-color: #7f7f7f\">                               </span>│<span style=\"color: #7f7f7f; text-decoration-color: #7f7f7f\"> policies, government budget allocations, taxation strategies, proposed changes  </span>│\n",
       "│<span style=\"color: #7f7f7f; text-decoration-color: #7f7f7f\">                               </span>│<span style=\"color: #7f7f7f; text-decoration-color: #7f7f7f\"> to tax laws, economic growth initiatives, financial regulations, and investment </span>│\n",
       "│<span style=\"color: #7f7f7f; text-decoration-color: #7f7f7f\">                               </span>│<span style=\"color: #7f7f7f; text-decoration-color: #7f7f7f\"> incentives. The text should focus on how these plans aim to influence the       </span>│\n",
       "│<span style=\"color: #7f7f7f; text-decoration-color: #7f7f7f\">                               </span>│<span style=\"color: #7f7f7f; text-decoration-color: #7f7f7f\"> economy, affect individuals and businesses, and the projected outcomes of their </span>│\n",
       "│<span style=\"color: #7f7f7f; text-decoration-color: #7f7f7f\">                               </span>│<span style=\"color: #7f7f7f; text-decoration-color: #7f7f7f\"> implementation. Additionally, it may include analyses of the potential impacts  </span>│\n",
       "│<span style=\"color: #7f7f7f; text-decoration-color: #7f7f7f\">                               </span>│<span style=\"color: #7f7f7f; text-decoration-color: #7f7f7f\"> on revenue generation, wealth distribution, job creation, and overall economic  </span>│\n",
       "│<span style=\"color: #7f7f7f; text-decoration-color: #7f7f7f\">                               </span>│<span style=\"color: #7f7f7f; text-decoration-color: #7f7f7f\"> stability.                                                                      </span>│\n",
       "├───────────────────────────────┼─────────────────────────────────────────────────────────────────────────────────┤\n",
       "│<span style=\"color: #7f7f7f; text-decoration-color: #7f7f7f\"> Military and National Service </span>│<span style=\"color: #7f7f7f; text-decoration-color: #7f7f7f\"> To determine if a text is primarily about Military and National Service, one    </span>│\n",
       "│<span style=\"color: #7f7f7f; text-decoration-color: #7f7f7f\">                               </span>│<span style=\"color: #7f7f7f; text-decoration-color: #7f7f7f\"> should look for the prevalence of certain key criteria within the text. These   </span>│\n",
       "│<span style=\"color: #7f7f7f; text-decoration-color: #7f7f7f\">                               </span>│<span style=\"color: #7f7f7f; text-decoration-color: #7f7f7f\"> criteria include the discussion of armed forces, such as the army, navy, air    </span>│\n",
       "│<span style=\"color: #7f7f7f; text-decoration-color: #7f7f7f\">                               </span>│<span style=\"color: #7f7f7f; text-decoration-color: #7f7f7f\"> force, marines, or coast guard; the mention of conscription or draft processes; </span>│\n",
       "│<span style=\"color: #7f7f7f; text-decoration-color: #7f7f7f\">                               </span>│<span style=\"color: #7f7f7f; text-decoration-color: #7f7f7f\"> topics related to voluntary enlistment; descriptions of military training and   </span>│\n",
       "│<span style=\"color: #7f7f7f; text-decoration-color: #7f7f7f\">                               </span>│<span style=\"color: #7f7f7f; text-decoration-color: #7f7f7f\"> duties; discussions about military policies, strategies, or history; references </span>│\n",
       "│<span style=\"color: #7f7f7f; text-decoration-color: #7f7f7f\">                               </span>│<span style=\"color: #7f7f7f; text-decoration-color: #7f7f7f\"> to national defense; the role of the military in international relations and    </span>│\n",
       "│<span style=\"color: #7f7f7f; text-decoration-color: #7f7f7f\">                               </span>│<span style=\"color: #7f7f7f; text-decoration-color: #7f7f7f\"> peacekeeping; veterans' affairs; and the societal and cultural impacts of       </span>│\n",
       "│<span style=\"color: #7f7f7f; text-decoration-color: #7f7f7f\">                               </span>│<span style=\"color: #7f7f7f; text-decoration-color: #7f7f7f\"> military service. If these elements are central to the narrative or argument of </span>│\n",
       "│<span style=\"color: #7f7f7f; text-decoration-color: #7f7f7f\">                               </span>│<span style=\"color: #7f7f7f; text-decoration-color: #7f7f7f\"> the text, it is likely focused on Military and National Service.                </span>│\n",
       "├───────────────────────────────┼─────────────────────────────────────────────────────────────────────────────────┤\n",
       "│<span style=\"color: #7f7f7f; text-decoration-color: #7f7f7f\"> Educational Commitment        </span>│<span style=\"color: #7f7f7f; text-decoration-color: #7f7f7f\"> To determine whether a text is primarily about 'Educational Commitment,' one    </span>│\n",
       "│<span style=\"color: #7f7f7f; text-decoration-color: #7f7f7f\">                               </span>│<span style=\"color: #7f7f7f; text-decoration-color: #7f7f7f\"> would look for several key criteria within the text. These criteria include an  </span>│\n",
       "│<span style=\"color: #7f7f7f; text-decoration-color: #7f7f7f\">                               </span>│<span style=\"color: #7f7f7f; text-decoration-color: #7f7f7f\"> emphasis on the importance of education, a focus on dedicating resources (time, </span>│\n",
       "│<span style=\"color: #7f7f7f; text-decoration-color: #7f7f7f\">                               </span>│<span style=\"color: #7f7f7f; text-decoration-color: #7f7f7f\"> money, effort) to learning and teaching, discussions about policies or          </span>│\n",
       "│<span style=\"color: #7f7f7f; text-decoration-color: #7f7f7f\">                               </span>│<span style=\"color: #7f7f7f; text-decoration-color: #7f7f7f\"> practices that support sustained educational efforts, examples of individuals   </span>│\n",
       "│<span style=\"color: #7f7f7f; text-decoration-color: #7f7f7f\">                               </span>│<span style=\"color: #7f7f7f; text-decoration-color: #7f7f7f\"> or institutions demonstrating a strong dedication to education, and an          </span>│\n",
       "│<span style=\"color: #7f7f7f; text-decoration-color: #7f7f7f\">                               </span>│<span style=\"color: #7f7f7f; text-decoration-color: #7f7f7f\"> exploration of the outcomes or benefits of being committed to education.        </span>│\n",
       "│<span style=\"color: #7f7f7f; text-decoration-color: #7f7f7f\">                               </span>│<span style=\"color: #7f7f7f; text-decoration-color: #7f7f7f\"> Additionally, the text might address challenges to educational commitment and   </span>│\n",
       "│<span style=\"color: #7f7f7f; text-decoration-color: #7f7f7f\">                               </span>│<span style=\"color: #7f7f7f; text-decoration-color: #7f7f7f\"> strategies to overcome them. The presence of these elements would suggest that  </span>│\n",
       "│<span style=\"color: #7f7f7f; text-decoration-color: #7f7f7f\">                               </span>│<span style=\"color: #7f7f7f; text-decoration-color: #7f7f7f\"> the text's central theme is educational commitment.                             </span>│\n",
       "├───────────────────────────────┼─────────────────────────────────────────────────────────────────────────────────┤\n",
       "│<span style=\"color: #7f7f7f; text-decoration-color: #7f7f7f\"> Cultural Celebrations         </span>│<span style=\"color: #7f7f7f; text-decoration-color: #7f7f7f\"> To determine whether a text is primarily about cultural celebrations, the key   </span>│\n",
       "│<span style=\"color: #7f7f7f; text-decoration-color: #7f7f7f\">                               </span>│<span style=\"color: #7f7f7f; text-decoration-color: #7f7f7f\"> criteria would include: (1) explicit mention of specific cultural celebrations, </span>│\n",
       "│<span style=\"color: #7f7f7f; text-decoration-color: #7f7f7f\">                               </span>│<span style=\"color: #7f7f7f; text-decoration-color: #7f7f7f\"> such as festivals, holidays, or rituals; (2) descriptions of cultural           </span>│\n",
       "│<span style=\"color: #7f7f7f; text-decoration-color: #7f7f7f\">                               </span>│<span style=\"color: #7f7f7f; text-decoration-color: #7f7f7f\"> practices, traditions, or customs related to celebratory events; (3) references </span>│\n",
       "│<span style=\"color: #7f7f7f; text-decoration-color: #7f7f7f\">                               </span>│<span style=\"color: #7f7f7f; text-decoration-color: #7f7f7f\"> to the cultural significance or historical background of such celebrations; (4) </span>│\n",
       "│<span style=\"color: #7f7f7f; text-decoration-color: #7f7f7f\">                               </span>│<span style=\"color: #7f7f7f; text-decoration-color: #7f7f7f\"> inclusion of personal or collective experiences associated with the             </span>│\n",
       "│<span style=\"color: #7f7f7f; text-decoration-color: #7f7f7f\">                               </span>│<span style=\"color: #7f7f7f; text-decoration-color: #7f7f7f\"> celebration; (5) discussion of the impact of the celebrations on community      </span>│\n",
       "│<span style=\"color: #7f7f7f; text-decoration-color: #7f7f7f\">                               </span>│<span style=\"color: #7f7f7f; text-decoration-color: #7f7f7f\"> cohesion, identity, or social relationships; and (6) any visual or textual      </span>│\n",
       "│<span style=\"color: #7f7f7f; text-decoration-color: #7f7f7f\">                               </span>│<span style=\"color: #7f7f7f; text-decoration-color: #7f7f7f\"> elements that depict or symbolize celebratory activities, such as images of     </span>│\n",
       "│<span style=\"color: #7f7f7f; text-decoration-color: #7f7f7f\">                               </span>│<span style=\"color: #7f7f7f; text-decoration-color: #7f7f7f\"> dancing, feasting, or traditional attire. The presence of these elements would  </span>│\n",
       "│<span style=\"color: #7f7f7f; text-decoration-color: #7f7f7f\">                               </span>│<span style=\"color: #7f7f7f; text-decoration-color: #7f7f7f\"> suggest that the text's primary focus is on cultural celebrations.              </span>│\n",
       "├───────────────────────────────┼─────────────────────────────────────────────────────────────────────────────────┤\n",
       "│<span style=\"color: #7f7f7f; text-decoration-color: #7f7f7f\"> Healthcare Initiatives        </span>│<span style=\"color: #7f7f7f; text-decoration-color: #7f7f7f\"> To determine whether a text is primarily about healthcare initiatives, key      </span>│\n",
       "│<span style=\"color: #7f7f7f; text-decoration-color: #7f7f7f\">                               </span>│<span style=\"color: #7f7f7f; text-decoration-color: #7f7f7f\"> criteria include the presence of themes such as policy proposals,               </span>│\n",
       "│<span style=\"color: #7f7f7f; text-decoration-color: #7f7f7f\">                               </span>│<span style=\"color: #7f7f7f; text-decoration-color: #7f7f7f\"> implementation strategies, or evaluations of programs aimed at improving health </span>│\n",
       "│<span style=\"color: #7f7f7f; text-decoration-color: #7f7f7f\">                               </span>│<span style=\"color: #7f7f7f; text-decoration-color: #7f7f7f\"> outcomes. The text should discuss the planning, funding, or execution of        </span>│\n",
       "│<span style=\"color: #7f7f7f; text-decoration-color: #7f7f7f\">                               </span>│<span style=\"color: #7f7f7f; text-decoration-color: #7f7f7f\"> actions taken by governments, organizations, or communities to promote health   </span>│\n",
       "│<span style=\"color: #7f7f7f; text-decoration-color: #7f7f7f\">                               </span>│<span style=\"color: #7f7f7f; text-decoration-color: #7f7f7f\"> and well-being. Additionally, it may mention specific healthcare goals, such as </span>│\n",
       "│<span style=\"color: #7f7f7f; text-decoration-color: #7f7f7f\">                               </span>│<span style=\"color: #7f7f7f; text-decoration-color: #7f7f7f\"> increasing access to care, enhancing the quality of services, or addressing     </span>│\n",
       "│<span style=\"color: #7f7f7f; text-decoration-color: #7f7f7f\">                               </span>│<span style=\"color: #7f7f7f; text-decoration-color: #7f7f7f\"> public health challenges. The text should also outline the roles of various     </span>│\n",
       "│<span style=\"color: #7f7f7f; text-decoration-color: #7f7f7f\">                               </span>│<span style=\"color: #7f7f7f; text-decoration-color: #7f7f7f\"> stakeholders, such as healthcare providers, patients, policymakers, and         </span>│\n",
       "│<span style=\"color: #7f7f7f; text-decoration-color: #7f7f7f\">                               </span>│<span style=\"color: #7f7f7f; text-decoration-color: #7f7f7f\"> insurers, and may include data or case studies supporting the effectiveness of  </span>│\n",
       "│<span style=\"color: #7f7f7f; text-decoration-color: #7f7f7f\">                               </span>│<span style=\"color: #7f7f7f; text-decoration-color: #7f7f7f\"> these initiatives.                                                              </span>│\n",
       "├───────────────────────────────┼─────────────────────────────────────────────────────────────────────────────────┤\n",
       "│<span style=\"color: #7f7f7f; text-decoration-color: #7f7f7f\"> Employment Growth             </span>│<span style=\"color: #7f7f7f; text-decoration-color: #7f7f7f\"> To determine whether a text is primarily about employment growth, one should    </span>│\n",
       "│<span style=\"color: #7f7f7f; text-decoration-color: #7f7f7f\">                               </span>│<span style=\"color: #7f7f7f; text-decoration-color: #7f7f7f\"> look for several key criteria within the content. These include a focus on      </span>│\n",
       "│<span style=\"color: #7f7f7f; text-decoration-color: #7f7f7f\">                               </span>│<span style=\"color: #7f7f7f; text-decoration-color: #7f7f7f\"> changes in the number of jobs over a period of time, discussion of factors      </span>│\n",
       "│<span style=\"color: #7f7f7f; text-decoration-color: #7f7f7f\">                               </span>│<span style=\"color: #7f7f7f; text-decoration-color: #7f7f7f\"> influencing job creation such as economic policies, industry trends, or         </span>│\n",
       "│<span style=\"color: #7f7f7f; text-decoration-color: #7f7f7f\">                               </span>│<span style=\"color: #7f7f7f; text-decoration-color: #7f7f7f\"> technological advancements. The text should also analyze the impact of          </span>│\n",
       "│<span style=\"color: #7f7f7f; text-decoration-color: #7f7f7f\">                               </span>│<span style=\"color: #7f7f7f; text-decoration-color: #7f7f7f\"> employment growth on the economy, including effects on GDP, wages, and          </span>│\n",
       "│<span style=\"color: #7f7f7f; text-decoration-color: #7f7f7f\">                               </span>│<span style=\"color: #7f7f7f; text-decoration-color: #7f7f7f\"> unemployment rates. Additionally, the text might explore demographic and        </span>│\n",
       "│<span style=\"color: #7f7f7f; text-decoration-color: #7f7f7f\">                               </span>│<span style=\"color: #7f7f7f; text-decoration-color: #7f7f7f\"> geographic trends in the labor market, and projections for future job growth.   </span>│\n",
       "│<span style=\"color: #7f7f7f; text-decoration-color: #7f7f7f\">                               </span>│<span style=\"color: #7f7f7f; text-decoration-color: #7f7f7f\"> There may also be references to statistical data and reports from reputable     </span>│\n",
       "│<span style=\"color: #7f7f7f; text-decoration-color: #7f7f7f\">                               </span>│<span style=\"color: #7f7f7f; text-decoration-color: #7f7f7f\"> sources like government agencies or economic research institutions that support </span>│\n",
       "│<span style=\"color: #7f7f7f; text-decoration-color: #7f7f7f\">                               </span>│<span style=\"color: #7f7f7f; text-decoration-color: #7f7f7f\"> the discussion about employment growth.                                         </span>│\n",
       "├───────────────────────────────┼─────────────────────────────────────────────────────────────────────────────────┤\n",
       "│<span style=\"color: #7f7f7f; text-decoration-color: #7f7f7f\"> Presidential Honors           </span>│<span style=\"color: #7f7f7f; text-decoration-color: #7f7f7f\"> To determine if a text is primarily about Presidential Honors, key criteria     </span>│\n",
       "│<span style=\"color: #7f7f7f; text-decoration-color: #7f7f7f\">                               </span>│<span style=\"color: #7f7f7f; text-decoration-color: #7f7f7f\"> would include: the mention of specific awards or decorations conferred by a     </span>│\n",
       "│<span style=\"color: #7f7f7f; text-decoration-color: #7f7f7f\">                               </span>│<span style=\"color: #7f7f7f; text-decoration-color: #7f7f7f\"> president, such as the Presidential Medal of Freedom or the Presidential        </span>│\n",
       "│<span style=\"color: #7f7f7f; text-decoration-color: #7f7f7f\">                               </span>│<span style=\"color: #7f7f7f; text-decoration-color: #7f7f7f\"> Citizens Medal; discussion of the criteria for selection or the process of      </span>│\n",
       "│<span style=\"color: #7f7f7f; text-decoration-color: #7f7f7f\">                               </span>│<span style=\"color: #7f7f7f; text-decoration-color: #7f7f7f\"> awarding these honors; profiles or stories of individuals who have received     </span>│\n",
       "│<span style=\"color: #7f7f7f; text-decoration-color: #7f7f7f\">                               </span>│<span style=\"color: #7f7f7f; text-decoration-color: #7f7f7f\"> such honors; historical context or significance of the honors; and the          </span>│\n",
       "│<span style=\"color: #7f7f7f; text-decoration-color: #7f7f7f\">                               </span>│<span style=\"color: #7f7f7f; text-decoration-color: #7f7f7f\"> involvement of the president or the presidential administration in the          </span>│\n",
       "│<span style=\"color: #7f7f7f; text-decoration-color: #7f7f7f\">                               </span>│<span style=\"color: #7f7f7f; text-decoration-color: #7f7f7f\"> conferment process. Additionally, the text should focus on the impact or        </span>│\n",
       "│<span style=\"color: #7f7f7f; text-decoration-color: #7f7f7f\">                               </span>│<span style=\"color: #7f7f7f; text-decoration-color: #7f7f7f\"> importance of these honors in recognizing individual achievements or            </span>│\n",
       "│<span style=\"color: #7f7f7f; text-decoration-color: #7f7f7f\">                               </span>│<span style=\"color: #7f7f7f; text-decoration-color: #7f7f7f\"> contributions to society.                                                       </span>│\n",
       "├───────────────────────────────┼─────────────────────────────────────────────────────────────────────────────────┤\n",
       "│<span style=\"color: #7f7f7f; text-decoration-color: #7f7f7f\"> National Messages             </span>│<span style=\"color: #7f7f7f; text-decoration-color: #7f7f7f\"> To determine whether a text is primarily about 'National Messages', one should  </span>│\n",
       "│<span style=\"color: #7f7f7f; text-decoration-color: #7f7f7f\">                               </span>│<span style=\"color: #7f7f7f; text-decoration-color: #7f7f7f\"> look for several key criteria. Firstly, the text should originate from a        </span>│\n",
       "│<span style=\"color: #7f7f7f; text-decoration-color: #7f7f7f\">                               </span>│<span style=\"color: #7f7f7f; text-decoration-color: #7f7f7f\"> national leader or a governmental authority. Secondly, it should address the    </span>│\n",
       "│<span style=\"color: #7f7f7f; text-decoration-color: #7f7f7f\">                               </span>│<span style=\"color: #7f7f7f; text-decoration-color: #7f7f7f\"> citizens of a particular country or the international community on behalf of    </span>│\n",
       "│<span style=\"color: #7f7f7f; text-decoration-color: #7f7f7f\">                               </span>│<span style=\"color: #7f7f7f; text-decoration-color: #7f7f7f\"> that country. Thirdly, the content should pertain to topics of national         </span>│\n",
       "│<span style=\"color: #7f7f7f; text-decoration-color: #7f7f7f\">                               </span>│<span style=\"color: #7f7f7f; text-decoration-color: #7f7f7f\"> importance or interest such as policy announcements, legislative changes,       </span>│\n",
       "│<span style=\"color: #7f7f7f; text-decoration-color: #7f7f7f\">                               </span>│<span style=\"color: #7f7f7f; text-decoration-color: #7f7f7f\"> national emergencies, or patriotic appeals. Lastly, the tone is often formal    </span>│\n",
       "│<span style=\"color: #7f7f7f; text-decoration-color: #7f7f7f\">                               </span>│<span style=\"color: #7f7f7f; text-decoration-color: #7f7f7f\"> and seeks to unify or inform the audience regarding the nation's stance,        </span>│\n",
       "│<span style=\"color: #7f7f7f; text-decoration-color: #7f7f7f\">                               </span>│<span style=\"color: #7f7f7f; text-decoration-color: #7f7f7f\"> direction, or values.                                                           </span>│\n",
       "└───────────────────────────────┴─────────────────────────────────────────────────────────────────────────────────┘\n",
       "</pre>\n"
      ],
      "text/plain": [
       "┏━━━━━━━━━━━━━━━━━━━━━━━━━━━━━━━┳━━━━━━━━━━━━━━━━━━━━━━━━━━━━━━━━━━━━━━━━━━━━━━━━━━━━━━━━━━━━━━━━━━━━━━━━━━━━━━━━━┓\n",
       "┃\u001b[1;35m \u001b[0m\u001b[1;35mscenario                     \u001b[0m\u001b[1;35m \u001b[0m┃\u001b[1;35m \u001b[0m\u001b[1;35manswer                                                                         \u001b[0m\u001b[1;35m \u001b[0m┃\n",
       "┃\u001b[1;35m \u001b[0m\u001b[1;35m.concept                     \u001b[0m\u001b[1;35m \u001b[0m┃\u001b[1;35m \u001b[0m\u001b[1;35m.criteria                                                                      \u001b[0m\u001b[1;35m \u001b[0m┃\n",
       "┡━━━━━━━━━━━━━━━━━━━━━━━━━━━━━━━╇━━━━━━━━━━━━━━━━━━━━━━━━━━━━━━━━━━━━━━━━━━━━━━━━━━━━━━━━━━━━━━━━━━━━━━━━━━━━━━━━━┩\n",
       "│\u001b[2m \u001b[0m\u001b[2mHolocaust Remembrance        \u001b[0m\u001b[2m \u001b[0m│\u001b[2m \u001b[0m\u001b[2mTo determine if a text is primarily about Holocaust Remembrance, one would look\u001b[0m\u001b[2m \u001b[0m│\n",
       "│\u001b[2m                               \u001b[0m│\u001b[2m \u001b[0m\u001b[2mfor several key criteria. Firstly, the text would likely mention specific      \u001b[0m\u001b[2m \u001b[0m│\n",
       "│\u001b[2m                               \u001b[0m│\u001b[2m \u001b[0m\u001b[2mevents related to the Holocaust, such as the systematic persecution and        \u001b[0m\u001b[2m \u001b[0m│\n",
       "│\u001b[2m                               \u001b[0m│\u001b[2m \u001b[0m\u001b[2mannihilation of six million Jews by the Nazi regime. Secondly, it would discuss\u001b[0m\u001b[2m \u001b[0m│\n",
       "│\u001b[2m                               \u001b[0m│\u001b[2m \u001b[0m\u001b[2macts of commemoration, such as memorial services, educational programs, and    \u001b[0m\u001b[2m \u001b[0m│\n",
       "│\u001b[2m                               \u001b[0m│\u001b[2m \u001b[0m\u001b[2mmoments of silence. Thirdly, the text might reference symbols and observances  \u001b[0m\u001b[2m \u001b[0m│\n",
       "│\u001b[2m                               \u001b[0m│\u001b[2m \u001b[0m\u001b[2massociated with Holocaust Remembrance, like the date of International Holocaust\u001b[0m\u001b[2m \u001b[0m│\n",
       "│\u001b[2m                               \u001b[0m│\u001b[2m \u001b[0m\u001b[2mRemembrance Day (January 27th), the lighting of candles, or the reading of     \u001b[0m\u001b[2m \u001b[0m│\n",
       "│\u001b[2m                               \u001b[0m│\u001b[2m \u001b[0m\u001b[2mnames of victims. Additionally, discussions of the importance of remembering   \u001b[0m\u001b[2m \u001b[0m│\n",
       "│\u001b[2m                               \u001b[0m│\u001b[2m \u001b[0m\u001b[2mthe Holocaust to prevent future genocides, the role of survivors' testimonies, \u001b[0m\u001b[2m \u001b[0m│\n",
       "│\u001b[2m                               \u001b[0m│\u001b[2m \u001b[0m\u001b[2mand the moral lessons learned from this dark period in history would be        \u001b[0m\u001b[2m \u001b[0m│\n",
       "│\u001b[2m                               \u001b[0m│\u001b[2m \u001b[0m\u001b[2mindicative of the text's focus on Holocaust Remembrance.                       \u001b[0m\u001b[2m \u001b[0m│\n",
       "├───────────────────────────────┼─────────────────────────────────────────────────────────────────────────────────┤\n",
       "│\u001b[2m \u001b[0m\u001b[2mMedicare and Social Security \u001b[0m\u001b[2m \u001b[0m│\u001b[2m \u001b[0m\u001b[2mTo determine if a text is primarily about Medicare and Social Security, one    \u001b[0m\u001b[2m \u001b[0m│\n",
       "│\u001b[2m                               \u001b[0m│\u001b[2m \u001b[0m\u001b[2mshould look for the following key criteria: the presence of specific           \u001b[0m\u001b[2m \u001b[0m│\n",
       "│\u001b[2m                               \u001b[0m│\u001b[2m \u001b[0m\u001b[2mterminology related to Medicare (such as 'Part A', 'Part B', 'prescription drug\u001b[0m\u001b[2m \u001b[0m│\n",
       "│\u001b[2m                               \u001b[0m│\u001b[2m \u001b[0m\u001b[2mcoverage', 'Medicare Advantage', 'Centers for Medicare & Medicaid Services')   \u001b[0m\u001b[2m \u001b[0m│\n",
       "│\u001b[2m                               \u001b[0m│\u001b[2m \u001b[0m\u001b[2mand Social Security ('Social Security benefits', 'retirement benefits',        \u001b[0m\u001b[2m \u001b[0m│\n",
       "│\u001b[2m                               \u001b[0m│\u001b[2m \u001b[0m\u001b[2m'disability benefits', 'SSA', 'FICA'); a focus on the policies, regulations,   \u001b[0m\u001b[2m \u001b[0m│\n",
       "│\u001b[2m                               \u001b[0m│\u001b[2m \u001b[0m\u001b[2mreforms, and management of these programs; discussion of the impact on and     \u001b[0m\u001b[2m \u001b[0m│\n",
       "│\u001b[2m                               \u001b[0m│\u001b[2m \u001b[0m\u001b[2meligibility criteria for beneficiaries; analysis of funding, sustainability,   \u001b[0m\u001b[2m \u001b[0m│\n",
       "│\u001b[2m                               \u001b[0m│\u001b[2m \u001b[0m\u001b[2mand financial aspects of the programs; and the inclusion of historical context \u001b[0m\u001b[2m \u001b[0m│\n",
       "│\u001b[2m                               \u001b[0m│\u001b[2m \u001b[0m\u001b[2mand future projections related to Medicare and Social Security. If the majority\u001b[0m\u001b[2m \u001b[0m│\n",
       "│\u001b[2m                               \u001b[0m│\u001b[2m \u001b[0m\u001b[2mof these elements are present, it's likely that the text is primarily concerned\u001b[0m\u001b[2m \u001b[0m│\n",
       "│\u001b[2m                               \u001b[0m│\u001b[2m \u001b[0m\u001b[2mwith these topics.                                                             \u001b[0m\u001b[2m \u001b[0m│\n",
       "├───────────────────────────────┼─────────────────────────────────────────────────────────────────────────────────┤\n",
       "│\u001b[2m \u001b[0m\u001b[2mEconomic and Tax Plans       \u001b[0m\u001b[2m \u001b[0m│\u001b[2m \u001b[0m\u001b[2mTo determine whether a text is primarily about Economic and Tax Plans, key     \u001b[0m\u001b[2m \u001b[0m│\n",
       "│\u001b[2m                               \u001b[0m│\u001b[2m \u001b[0m\u001b[2mcriteria would include the presence of discussions or information on fiscal    \u001b[0m\u001b[2m \u001b[0m│\n",
       "│\u001b[2m                               \u001b[0m│\u001b[2m \u001b[0m\u001b[2mpolicies, government budget allocations, taxation strategies, proposed changes \u001b[0m\u001b[2m \u001b[0m│\n",
       "│\u001b[2m                               \u001b[0m│\u001b[2m \u001b[0m\u001b[2mto tax laws, economic growth initiatives, financial regulations, and investment\u001b[0m\u001b[2m \u001b[0m│\n",
       "│\u001b[2m                               \u001b[0m│\u001b[2m \u001b[0m\u001b[2mincentives. The text should focus on how these plans aim to influence the      \u001b[0m\u001b[2m \u001b[0m│\n",
       "│\u001b[2m                               \u001b[0m│\u001b[2m \u001b[0m\u001b[2meconomy, affect individuals and businesses, and the projected outcomes of their\u001b[0m\u001b[2m \u001b[0m│\n",
       "│\u001b[2m                               \u001b[0m│\u001b[2m \u001b[0m\u001b[2mimplementation. Additionally, it may include analyses of the potential impacts \u001b[0m\u001b[2m \u001b[0m│\n",
       "│\u001b[2m                               \u001b[0m│\u001b[2m \u001b[0m\u001b[2mon revenue generation, wealth distribution, job creation, and overall economic \u001b[0m\u001b[2m \u001b[0m│\n",
       "│\u001b[2m                               \u001b[0m│\u001b[2m \u001b[0m\u001b[2mstability.                                                                     \u001b[0m\u001b[2m \u001b[0m│\n",
       "├───────────────────────────────┼─────────────────────────────────────────────────────────────────────────────────┤\n",
       "│\u001b[2m \u001b[0m\u001b[2mMilitary and National Service\u001b[0m\u001b[2m \u001b[0m│\u001b[2m \u001b[0m\u001b[2mTo determine if a text is primarily about Military and National Service, one   \u001b[0m\u001b[2m \u001b[0m│\n",
       "│\u001b[2m                               \u001b[0m│\u001b[2m \u001b[0m\u001b[2mshould look for the prevalence of certain key criteria within the text. These  \u001b[0m\u001b[2m \u001b[0m│\n",
       "│\u001b[2m                               \u001b[0m│\u001b[2m \u001b[0m\u001b[2mcriteria include the discussion of armed forces, such as the army, navy, air   \u001b[0m\u001b[2m \u001b[0m│\n",
       "│\u001b[2m                               \u001b[0m│\u001b[2m \u001b[0m\u001b[2mforce, marines, or coast guard; the mention of conscription or draft processes;\u001b[0m\u001b[2m \u001b[0m│\n",
       "│\u001b[2m                               \u001b[0m│\u001b[2m \u001b[0m\u001b[2mtopics related to voluntary enlistment; descriptions of military training and  \u001b[0m\u001b[2m \u001b[0m│\n",
       "│\u001b[2m                               \u001b[0m│\u001b[2m \u001b[0m\u001b[2mduties; discussions about military policies, strategies, or history; references\u001b[0m\u001b[2m \u001b[0m│\n",
       "│\u001b[2m                               \u001b[0m│\u001b[2m \u001b[0m\u001b[2mto national defense; the role of the military in international relations and   \u001b[0m\u001b[2m \u001b[0m│\n",
       "│\u001b[2m                               \u001b[0m│\u001b[2m \u001b[0m\u001b[2mpeacekeeping; veterans' affairs; and the societal and cultural impacts of      \u001b[0m\u001b[2m \u001b[0m│\n",
       "│\u001b[2m                               \u001b[0m│\u001b[2m \u001b[0m\u001b[2mmilitary service. If these elements are central to the narrative or argument of\u001b[0m\u001b[2m \u001b[0m│\n",
       "│\u001b[2m                               \u001b[0m│\u001b[2m \u001b[0m\u001b[2mthe text, it is likely focused on Military and National Service.               \u001b[0m\u001b[2m \u001b[0m│\n",
       "├───────────────────────────────┼─────────────────────────────────────────────────────────────────────────────────┤\n",
       "│\u001b[2m \u001b[0m\u001b[2mEducational Commitment       \u001b[0m\u001b[2m \u001b[0m│\u001b[2m \u001b[0m\u001b[2mTo determine whether a text is primarily about 'Educational Commitment,' one   \u001b[0m\u001b[2m \u001b[0m│\n",
       "│\u001b[2m                               \u001b[0m│\u001b[2m \u001b[0m\u001b[2mwould look for several key criteria within the text. These criteria include an \u001b[0m\u001b[2m \u001b[0m│\n",
       "│\u001b[2m                               \u001b[0m│\u001b[2m \u001b[0m\u001b[2memphasis on the importance of education, a focus on dedicating resources (time,\u001b[0m\u001b[2m \u001b[0m│\n",
       "│\u001b[2m                               \u001b[0m│\u001b[2m \u001b[0m\u001b[2mmoney, effort) to learning and teaching, discussions about policies or         \u001b[0m\u001b[2m \u001b[0m│\n",
       "│\u001b[2m                               \u001b[0m│\u001b[2m \u001b[0m\u001b[2mpractices that support sustained educational efforts, examples of individuals  \u001b[0m\u001b[2m \u001b[0m│\n",
       "│\u001b[2m                               \u001b[0m│\u001b[2m \u001b[0m\u001b[2mor institutions demonstrating a strong dedication to education, and an         \u001b[0m\u001b[2m \u001b[0m│\n",
       "│\u001b[2m                               \u001b[0m│\u001b[2m \u001b[0m\u001b[2mexploration of the outcomes or benefits of being committed to education.       \u001b[0m\u001b[2m \u001b[0m│\n",
       "│\u001b[2m                               \u001b[0m│\u001b[2m \u001b[0m\u001b[2mAdditionally, the text might address challenges to educational commitment and  \u001b[0m\u001b[2m \u001b[0m│\n",
       "│\u001b[2m                               \u001b[0m│\u001b[2m \u001b[0m\u001b[2mstrategies to overcome them. The presence of these elements would suggest that \u001b[0m\u001b[2m \u001b[0m│\n",
       "│\u001b[2m                               \u001b[0m│\u001b[2m \u001b[0m\u001b[2mthe text's central theme is educational commitment.                            \u001b[0m\u001b[2m \u001b[0m│\n",
       "├───────────────────────────────┼─────────────────────────────────────────────────────────────────────────────────┤\n",
       "│\u001b[2m \u001b[0m\u001b[2mCultural Celebrations        \u001b[0m\u001b[2m \u001b[0m│\u001b[2m \u001b[0m\u001b[2mTo determine whether a text is primarily about cultural celebrations, the key  \u001b[0m\u001b[2m \u001b[0m│\n",
       "│\u001b[2m                               \u001b[0m│\u001b[2m \u001b[0m\u001b[2mcriteria would include: (1) explicit mention of specific cultural celebrations,\u001b[0m\u001b[2m \u001b[0m│\n",
       "│\u001b[2m                               \u001b[0m│\u001b[2m \u001b[0m\u001b[2msuch as festivals, holidays, or rituals; (2) descriptions of cultural          \u001b[0m\u001b[2m \u001b[0m│\n",
       "│\u001b[2m                               \u001b[0m│\u001b[2m \u001b[0m\u001b[2mpractices, traditions, or customs related to celebratory events; (3) references\u001b[0m\u001b[2m \u001b[0m│\n",
       "│\u001b[2m                               \u001b[0m│\u001b[2m \u001b[0m\u001b[2mto the cultural significance or historical background of such celebrations; (4)\u001b[0m\u001b[2m \u001b[0m│\n",
       "│\u001b[2m                               \u001b[0m│\u001b[2m \u001b[0m\u001b[2minclusion of personal or collective experiences associated with the            \u001b[0m\u001b[2m \u001b[0m│\n",
       "│\u001b[2m                               \u001b[0m│\u001b[2m \u001b[0m\u001b[2mcelebration; (5) discussion of the impact of the celebrations on community     \u001b[0m\u001b[2m \u001b[0m│\n",
       "│\u001b[2m                               \u001b[0m│\u001b[2m \u001b[0m\u001b[2mcohesion, identity, or social relationships; and (6) any visual or textual     \u001b[0m\u001b[2m \u001b[0m│\n",
       "│\u001b[2m                               \u001b[0m│\u001b[2m \u001b[0m\u001b[2melements that depict or symbolize celebratory activities, such as images of    \u001b[0m\u001b[2m \u001b[0m│\n",
       "│\u001b[2m                               \u001b[0m│\u001b[2m \u001b[0m\u001b[2mdancing, feasting, or traditional attire. The presence of these elements would \u001b[0m\u001b[2m \u001b[0m│\n",
       "│\u001b[2m                               \u001b[0m│\u001b[2m \u001b[0m\u001b[2msuggest that the text's primary focus is on cultural celebrations.             \u001b[0m\u001b[2m \u001b[0m│\n",
       "├───────────────────────────────┼─────────────────────────────────────────────────────────────────────────────────┤\n",
       "│\u001b[2m \u001b[0m\u001b[2mHealthcare Initiatives       \u001b[0m\u001b[2m \u001b[0m│\u001b[2m \u001b[0m\u001b[2mTo determine whether a text is primarily about healthcare initiatives, key     \u001b[0m\u001b[2m \u001b[0m│\n",
       "│\u001b[2m                               \u001b[0m│\u001b[2m \u001b[0m\u001b[2mcriteria include the presence of themes such as policy proposals,              \u001b[0m\u001b[2m \u001b[0m│\n",
       "│\u001b[2m                               \u001b[0m│\u001b[2m \u001b[0m\u001b[2mimplementation strategies, or evaluations of programs aimed at improving health\u001b[0m\u001b[2m \u001b[0m│\n",
       "│\u001b[2m                               \u001b[0m│\u001b[2m \u001b[0m\u001b[2moutcomes. The text should discuss the planning, funding, or execution of       \u001b[0m\u001b[2m \u001b[0m│\n",
       "│\u001b[2m                               \u001b[0m│\u001b[2m \u001b[0m\u001b[2mactions taken by governments, organizations, or communities to promote health  \u001b[0m\u001b[2m \u001b[0m│\n",
       "│\u001b[2m                               \u001b[0m│\u001b[2m \u001b[0m\u001b[2mand well-being. Additionally, it may mention specific healthcare goals, such as\u001b[0m\u001b[2m \u001b[0m│\n",
       "│\u001b[2m                               \u001b[0m│\u001b[2m \u001b[0m\u001b[2mincreasing access to care, enhancing the quality of services, or addressing    \u001b[0m\u001b[2m \u001b[0m│\n",
       "│\u001b[2m                               \u001b[0m│\u001b[2m \u001b[0m\u001b[2mpublic health challenges. The text should also outline the roles of various    \u001b[0m\u001b[2m \u001b[0m│\n",
       "│\u001b[2m                               \u001b[0m│\u001b[2m \u001b[0m\u001b[2mstakeholders, such as healthcare providers, patients, policymakers, and        \u001b[0m\u001b[2m \u001b[0m│\n",
       "│\u001b[2m                               \u001b[0m│\u001b[2m \u001b[0m\u001b[2minsurers, and may include data or case studies supporting the effectiveness of \u001b[0m\u001b[2m \u001b[0m│\n",
       "│\u001b[2m                               \u001b[0m│\u001b[2m \u001b[0m\u001b[2mthese initiatives.                                                             \u001b[0m\u001b[2m \u001b[0m│\n",
       "├───────────────────────────────┼─────────────────────────────────────────────────────────────────────────────────┤\n",
       "│\u001b[2m \u001b[0m\u001b[2mEmployment Growth            \u001b[0m\u001b[2m \u001b[0m│\u001b[2m \u001b[0m\u001b[2mTo determine whether a text is primarily about employment growth, one should   \u001b[0m\u001b[2m \u001b[0m│\n",
       "│\u001b[2m                               \u001b[0m│\u001b[2m \u001b[0m\u001b[2mlook for several key criteria within the content. These include a focus on     \u001b[0m\u001b[2m \u001b[0m│\n",
       "│\u001b[2m                               \u001b[0m│\u001b[2m \u001b[0m\u001b[2mchanges in the number of jobs over a period of time, discussion of factors     \u001b[0m\u001b[2m \u001b[0m│\n",
       "│\u001b[2m                               \u001b[0m│\u001b[2m \u001b[0m\u001b[2minfluencing job creation such as economic policies, industry trends, or        \u001b[0m\u001b[2m \u001b[0m│\n",
       "│\u001b[2m                               \u001b[0m│\u001b[2m \u001b[0m\u001b[2mtechnological advancements. The text should also analyze the impact of         \u001b[0m\u001b[2m \u001b[0m│\n",
       "│\u001b[2m                               \u001b[0m│\u001b[2m \u001b[0m\u001b[2memployment growth on the economy, including effects on GDP, wages, and         \u001b[0m\u001b[2m \u001b[0m│\n",
       "│\u001b[2m                               \u001b[0m│\u001b[2m \u001b[0m\u001b[2munemployment rates. Additionally, the text might explore demographic and       \u001b[0m\u001b[2m \u001b[0m│\n",
       "│\u001b[2m                               \u001b[0m│\u001b[2m \u001b[0m\u001b[2mgeographic trends in the labor market, and projections for future job growth.  \u001b[0m\u001b[2m \u001b[0m│\n",
       "│\u001b[2m                               \u001b[0m│\u001b[2m \u001b[0m\u001b[2mThere may also be references to statistical data and reports from reputable    \u001b[0m\u001b[2m \u001b[0m│\n",
       "│\u001b[2m                               \u001b[0m│\u001b[2m \u001b[0m\u001b[2msources like government agencies or economic research institutions that support\u001b[0m\u001b[2m \u001b[0m│\n",
       "│\u001b[2m                               \u001b[0m│\u001b[2m \u001b[0m\u001b[2mthe discussion about employment growth.                                        \u001b[0m\u001b[2m \u001b[0m│\n",
       "├───────────────────────────────┼─────────────────────────────────────────────────────────────────────────────────┤\n",
       "│\u001b[2m \u001b[0m\u001b[2mPresidential Honors          \u001b[0m\u001b[2m \u001b[0m│\u001b[2m \u001b[0m\u001b[2mTo determine if a text is primarily about Presidential Honors, key criteria    \u001b[0m\u001b[2m \u001b[0m│\n",
       "│\u001b[2m                               \u001b[0m│\u001b[2m \u001b[0m\u001b[2mwould include: the mention of specific awards or decorations conferred by a    \u001b[0m\u001b[2m \u001b[0m│\n",
       "│\u001b[2m                               \u001b[0m│\u001b[2m \u001b[0m\u001b[2mpresident, such as the Presidential Medal of Freedom or the Presidential       \u001b[0m\u001b[2m \u001b[0m│\n",
       "│\u001b[2m                               \u001b[0m│\u001b[2m \u001b[0m\u001b[2mCitizens Medal; discussion of the criteria for selection or the process of     \u001b[0m\u001b[2m \u001b[0m│\n",
       "│\u001b[2m                               \u001b[0m│\u001b[2m \u001b[0m\u001b[2mawarding these honors; profiles or stories of individuals who have received    \u001b[0m\u001b[2m \u001b[0m│\n",
       "│\u001b[2m                               \u001b[0m│\u001b[2m \u001b[0m\u001b[2msuch honors; historical context or significance of the honors; and the         \u001b[0m\u001b[2m \u001b[0m│\n",
       "│\u001b[2m                               \u001b[0m│\u001b[2m \u001b[0m\u001b[2minvolvement of the president or the presidential administration in the         \u001b[0m\u001b[2m \u001b[0m│\n",
       "│\u001b[2m                               \u001b[0m│\u001b[2m \u001b[0m\u001b[2mconferment process. Additionally, the text should focus on the impact or       \u001b[0m\u001b[2m \u001b[0m│\n",
       "│\u001b[2m                               \u001b[0m│\u001b[2m \u001b[0m\u001b[2mimportance of these honors in recognizing individual achievements or           \u001b[0m\u001b[2m \u001b[0m│\n",
       "│\u001b[2m                               \u001b[0m│\u001b[2m \u001b[0m\u001b[2mcontributions to society.                                                      \u001b[0m\u001b[2m \u001b[0m│\n",
       "├───────────────────────────────┼─────────────────────────────────────────────────────────────────────────────────┤\n",
       "│\u001b[2m \u001b[0m\u001b[2mNational Messages            \u001b[0m\u001b[2m \u001b[0m│\u001b[2m \u001b[0m\u001b[2mTo determine whether a text is primarily about 'National Messages', one should \u001b[0m\u001b[2m \u001b[0m│\n",
       "│\u001b[2m                               \u001b[0m│\u001b[2m \u001b[0m\u001b[2mlook for several key criteria. Firstly, the text should originate from a       \u001b[0m\u001b[2m \u001b[0m│\n",
       "│\u001b[2m                               \u001b[0m│\u001b[2m \u001b[0m\u001b[2mnational leader or a governmental authority. Secondly, it should address the   \u001b[0m\u001b[2m \u001b[0m│\n",
       "│\u001b[2m                               \u001b[0m│\u001b[2m \u001b[0m\u001b[2mcitizens of a particular country or the international community on behalf of   \u001b[0m\u001b[2m \u001b[0m│\n",
       "│\u001b[2m                               \u001b[0m│\u001b[2m \u001b[0m\u001b[2mthat country. Thirdly, the content should pertain to topics of national        \u001b[0m\u001b[2m \u001b[0m│\n",
       "│\u001b[2m                               \u001b[0m│\u001b[2m \u001b[0m\u001b[2mimportance or interest such as policy announcements, legislative changes,      \u001b[0m\u001b[2m \u001b[0m│\n",
       "│\u001b[2m                               \u001b[0m│\u001b[2m \u001b[0m\u001b[2mnational emergencies, or patriotic appeals. Lastly, the tone is often formal   \u001b[0m\u001b[2m \u001b[0m│\n",
       "│\u001b[2m                               \u001b[0m│\u001b[2m \u001b[0m\u001b[2mand seeks to unify or inform the audience regarding the nation's stance,       \u001b[0m\u001b[2m \u001b[0m│\n",
       "│\u001b[2m                               \u001b[0m│\u001b[2m \u001b[0m\u001b[2mdirection, or values.                                                          \u001b[0m\u001b[2m \u001b[0m│\n",
       "└───────────────────────────────┴─────────────────────────────────────────────────────────────────────────────────┘\n"
      ]
     },
     "metadata": {},
     "output_type": "display_data"
    }
   ],
   "source": [
    "results.select(\"concept\", \"criteria\").print(format=\"rich\")"
   ]
  },
  {
   "cell_type": "markdown",
   "id": "bac4f9a8-a33e-4e5b-8a0a-1724289c442f",
   "metadata": {},
   "source": [
    "## Identify the concepts in each text and evaluate based on the criteria\n",
    "Finally, we can use the concepts and the criteria to run another question where we prompt the model to evaulate each text. Question types `QuestionLinearScale`, `QuestionRank` or `QuestionNumerical` may be appropriate where we want to return a score:"
   ]
  },
  {
   "cell_type": "code",
   "execution_count": 17,
   "id": "4d63330d-9014-48e2-98b1-75d3a58eed1c",
   "metadata": {},
   "outputs": [],
   "source": [
    "from edsl.questions import QuestionLinearScale\n",
    "\n",
    "q_score = QuestionLinearScale(\n",
    "    question_name = \"score\",\n",
    "    question_text = \"\"\"Consider the following concept and criteria for determining whether \n",
    "    a given text addresses this concept. Then score how well the following text satisfies\n",
    "    the criteria for the concept.\n",
    "    Concept: {{ concept }}\n",
    "    Criteria: {{ criteria }}\n",
    "    Text: {{ text }}\"\"\",\n",
    "    question_options = [0,1,2,3,4,5,6,7,8,9,10],\n",
    "    option_labels = {0: \"Not at all\", 10: \"Very well\"} # Optional \n",
    ")"
   ]
  },
  {
   "cell_type": "markdown",
   "id": "375e4826-8e3f-4ba2-b4da-e67607bd5bfa",
   "metadata": {},
   "source": [
    "Here we want to use both the texts and the concepts and corresponding criteria together as scenarios of the question:"
   ]
  },
  {
   "cell_type": "code",
   "execution_count": 18,
   "id": "583506b3-0b7d-4051-bfc6-ebcbf605865c",
   "metadata": {},
   "outputs": [
    {
     "data": {
      "text/plain": [
       "10"
      ]
     },
     "execution_count": 18,
     "metadata": {},
     "output_type": "execute_result"
    }
   ],
   "source": [
    "concepts_criteria = [list(pair) for pair in zip(results.select(\"concept\").to_list(), results.select(\"criteria\").to_list())]\n",
    "len(concepts_criteria)"
   ]
  },
  {
   "cell_type": "code",
   "execution_count": 19,
   "id": "5d096830-b6ba-41bf-a829-00368bce4b64",
   "metadata": {},
   "outputs": [
    {
     "data": {
      "text/plain": [
       "100"
      ]
     },
     "execution_count": 19,
     "metadata": {},
     "output_type": "execute_result"
    }
   ],
   "source": [
    "scenarios = [Scenario({\"text\": text, \"concept\": concept, \"criteria\": criteria}) \n",
    "             for text in texts \n",
    "             for [concept, criteria] in concepts_criteria]\n",
    "len(scenarios)"
   ]
  },
  {
   "cell_type": "code",
   "execution_count": 20,
   "id": "d0fb785c-95f9-4514-8f26-37e93e0f8137",
   "metadata": {},
   "outputs": [],
   "source": [
    "results = q_score.by(scenarios).run()"
   ]
  },
  {
   "cell_type": "markdown",
   "id": "f6a68701-36b5-4be2-a0df-3977e152c1c7",
   "metadata": {},
   "source": [
    "We can filter the results based on the responses--e.g., here we just show the non-zero scores:"
   ]
  },
  {
   "cell_type": "code",
   "execution_count": 21,
   "id": "930dd52e-8701-4a54-b8e4-004480887d10",
   "metadata": {},
   "outputs": [
    {
     "data": {
      "text/html": [
       "<pre style=\"white-space:pre;overflow-x:auto;line-height:normal;font-family:Menlo,'DejaVu Sans Mono',consolas,'Courier New',monospace\">┏━━━━━━━━━━━━━━━━━━━━━━━━━━━━━━━━━━━━━━━━━━━━━━━━━━━━━━━━━━━━━━━━━━━━━━━━┳━━━━━━━━━━━━━━━━━━━━━━━━━━━━━━━┳━━━━━━━━┓\n",
       "┃<span style=\"color: #800080; text-decoration-color: #800080; font-weight: bold\"> scenario                                                               </span>┃<span style=\"color: #800080; text-decoration-color: #800080; font-weight: bold\"> scenario                      </span>┃<span style=\"color: #800080; text-decoration-color: #800080; font-weight: bold\"> answer </span>┃\n",
       "┃<span style=\"color: #800080; text-decoration-color: #800080; font-weight: bold\"> .text                                                                  </span>┃<span style=\"color: #800080; text-decoration-color: #800080; font-weight: bold\"> .concept                      </span>┃<span style=\"color: #800080; text-decoration-color: #800080; font-weight: bold\"> .score </span>┃\n",
       "┡━━━━━━━━━━━━━━━━━━━━━━━━━━━━━━━━━━━━━━━━━━━━━━━━━━━━━━━━━━━━━━━━━━━━━━━━╇━━━━━━━━━━━━━━━━━━━━━━━━━━━━━━━╇━━━━━━━━┩\n",
       "│<span style=\"color: #7f7f7f; text-decoration-color: #7f7f7f\"> Tune in as I deliver the keynote address at the U.S. Holocaust         </span>│<span style=\"color: #7f7f7f; text-decoration-color: #7f7f7f\"> Holocaust Remembrance         </span>│<span style=\"color: #7f7f7f; text-decoration-color: #7f7f7f\"> 6      </span>│\n",
       "│<span style=\"color: #7f7f7f; text-decoration-color: #7f7f7f\"> Memorial Museum’s Annual Days of Remembrance ceremony in Washington,   </span>│<span style=\"color: #7f7f7f; text-decoration-color: #7f7f7f\">                               </span>│<span style=\"color: #7f7f7f; text-decoration-color: #7f7f7f\">        </span>│\n",
       "│<span style=\"color: #7f7f7f; text-decoration-color: #7f7f7f\"> D.C.                                                                   </span>│<span style=\"color: #7f7f7f; text-decoration-color: #7f7f7f\">                               </span>│<span style=\"color: #7f7f7f; text-decoration-color: #7f7f7f\">        </span>│\n",
       "├────────────────────────────────────────────────────────────────────────┼───────────────────────────────┼────────┤\n",
       "│<span style=\"color: #7f7f7f; text-decoration-color: #7f7f7f\"> Tune in as I deliver the keynote address at the U.S. Holocaust         </span>│<span style=\"color: #7f7f7f; text-decoration-color: #7f7f7f\"> National Messages             </span>│<span style=\"color: #7f7f7f; text-decoration-color: #7f7f7f\"> 1      </span>│\n",
       "│<span style=\"color: #7f7f7f; text-decoration-color: #7f7f7f\"> Memorial Museum’s Annual Days of Remembrance ceremony in Washington,   </span>│<span style=\"color: #7f7f7f; text-decoration-color: #7f7f7f\">                               </span>│<span style=\"color: #7f7f7f; text-decoration-color: #7f7f7f\">        </span>│\n",
       "│<span style=\"color: #7f7f7f; text-decoration-color: #7f7f7f\"> D.C.                                                                   </span>│<span style=\"color: #7f7f7f; text-decoration-color: #7f7f7f\">                               </span>│<span style=\"color: #7f7f7f; text-decoration-color: #7f7f7f\">        </span>│\n",
       "├────────────────────────────────────────────────────────────────────────┼───────────────────────────────┼────────┤\n",
       "│<span style=\"color: #7f7f7f; text-decoration-color: #7f7f7f\"> We’re a nation of immigrants. A nation of dreamers. And as Cinco de    </span>│<span style=\"color: #7f7f7f; text-decoration-color: #7f7f7f\"> Cultural Celebrations         </span>│<span style=\"color: #7f7f7f; text-decoration-color: #7f7f7f\"> 2      </span>│\n",
       "│<span style=\"color: #7f7f7f; text-decoration-color: #7f7f7f\"> Mayo represents, a nation of freedom.                                  </span>│<span style=\"color: #7f7f7f; text-decoration-color: #7f7f7f\">                               </span>│<span style=\"color: #7f7f7f; text-decoration-color: #7f7f7f\">        </span>│\n",
       "├────────────────────────────────────────────────────────────────────────┼───────────────────────────────┼────────┤\n",
       "│<span style=\"color: #7f7f7f; text-decoration-color: #7f7f7f\"> We’re a nation of immigrants. A nation of dreamers. And as Cinco de    </span>│<span style=\"color: #7f7f7f; text-decoration-color: #7f7f7f\"> National Messages             </span>│<span style=\"color: #7f7f7f; text-decoration-color: #7f7f7f\"> 2      </span>│\n",
       "│<span style=\"color: #7f7f7f; text-decoration-color: #7f7f7f\"> Mayo represents, a nation of freedom.                                  </span>│<span style=\"color: #7f7f7f; text-decoration-color: #7f7f7f\">                               </span>│<span style=\"color: #7f7f7f; text-decoration-color: #7f7f7f\">        </span>│\n",
       "├────────────────────────────────────────────────────────────────────────┼───────────────────────────────┼────────┤\n",
       "│<span style=\"color: #7f7f7f; text-decoration-color: #7f7f7f\"> Medicare is stronger and Social Security remains strong. My economic   </span>│<span style=\"color: #7f7f7f; text-decoration-color: #7f7f7f\"> Medicare and Social Security  </span>│<span style=\"color: #7f7f7f; text-decoration-color: #7f7f7f\"> 3      </span>│\n",
       "│<span style=\"color: #7f7f7f; text-decoration-color: #7f7f7f\"> plan has helped extend Medicare solvency by a decade. And I am         </span>│<span style=\"color: #7f7f7f; text-decoration-color: #7f7f7f\">                               </span>│<span style=\"color: #7f7f7f; text-decoration-color: #7f7f7f\">        </span>│\n",
       "│<span style=\"color: #7f7f7f; text-decoration-color: #7f7f7f\"> committed to extending Social Security solvency by making the rich pay </span>│<span style=\"color: #7f7f7f; text-decoration-color: #7f7f7f\">                               </span>│<span style=\"color: #7f7f7f; text-decoration-color: #7f7f7f\">        </span>│\n",
       "│<span style=\"color: #7f7f7f; text-decoration-color: #7f7f7f\"> their fair share.                                                      </span>│<span style=\"color: #7f7f7f; text-decoration-color: #7f7f7f\">                               </span>│<span style=\"color: #7f7f7f; text-decoration-color: #7f7f7f\">        </span>│\n",
       "├────────────────────────────────────────────────────────────────────────┼───────────────────────────────┼────────┤\n",
       "│<span style=\"color: #7f7f7f; text-decoration-color: #7f7f7f\"> Medicare is stronger and Social Security remains strong. My economic   </span>│<span style=\"color: #7f7f7f; text-decoration-color: #7f7f7f\"> Economic and Tax Plans        </span>│<span style=\"color: #7f7f7f; text-decoration-color: #7f7f7f\"> 4      </span>│\n",
       "│<span style=\"color: #7f7f7f; text-decoration-color: #7f7f7f\"> plan has helped extend Medicare solvency by a decade. And I am         </span>│<span style=\"color: #7f7f7f; text-decoration-color: #7f7f7f\">                               </span>│<span style=\"color: #7f7f7f; text-decoration-color: #7f7f7f\">        </span>│\n",
       "│<span style=\"color: #7f7f7f; text-decoration-color: #7f7f7f\"> committed to extending Social Security solvency by making the rich pay </span>│<span style=\"color: #7f7f7f; text-decoration-color: #7f7f7f\">                               </span>│<span style=\"color: #7f7f7f; text-decoration-color: #7f7f7f\">        </span>│\n",
       "│<span style=\"color: #7f7f7f; text-decoration-color: #7f7f7f\"> their fair share.                                                      </span>│<span style=\"color: #7f7f7f; text-decoration-color: #7f7f7f\">                               </span>│<span style=\"color: #7f7f7f; text-decoration-color: #7f7f7f\">        </span>│\n",
       "├────────────────────────────────────────────────────────────────────────┼───────────────────────────────┼────────┤\n",
       "│<span style=\"color: #7f7f7f; text-decoration-color: #7f7f7f\"> Medicare is stronger and Social Security remains strong. My economic   </span>│<span style=\"color: #7f7f7f; text-decoration-color: #7f7f7f\"> Healthcare Initiatives        </span>│<span style=\"color: #7f7f7f; text-decoration-color: #7f7f7f\"> 3      </span>│\n",
       "│<span style=\"color: #7f7f7f; text-decoration-color: #7f7f7f\"> plan has helped extend Medicare solvency by a decade. And I am         </span>│<span style=\"color: #7f7f7f; text-decoration-color: #7f7f7f\">                               </span>│<span style=\"color: #7f7f7f; text-decoration-color: #7f7f7f\">        </span>│\n",
       "│<span style=\"color: #7f7f7f; text-decoration-color: #7f7f7f\"> committed to extending Social Security solvency by making the rich pay </span>│<span style=\"color: #7f7f7f; text-decoration-color: #7f7f7f\">                               </span>│<span style=\"color: #7f7f7f; text-decoration-color: #7f7f7f\">        </span>│\n",
       "│<span style=\"color: #7f7f7f; text-decoration-color: #7f7f7f\"> their fair share.                                                      </span>│<span style=\"color: #7f7f7f; text-decoration-color: #7f7f7f\">                               </span>│<span style=\"color: #7f7f7f; text-decoration-color: #7f7f7f\">        </span>│\n",
       "├────────────────────────────────────────────────────────────────────────┼───────────────────────────────┼────────┤\n",
       "│<span style=\"color: #7f7f7f; text-decoration-color: #7f7f7f\"> Medicare is stronger and Social Security remains strong. My economic   </span>│<span style=\"color: #7f7f7f; text-decoration-color: #7f7f7f\"> National Messages             </span>│<span style=\"color: #7f7f7f; text-decoration-color: #7f7f7f\"> 8      </span>│\n",
       "│<span style=\"color: #7f7f7f; text-decoration-color: #7f7f7f\"> plan has helped extend Medicare solvency by a decade. And I am         </span>│<span style=\"color: #7f7f7f; text-decoration-color: #7f7f7f\">                               </span>│<span style=\"color: #7f7f7f; text-decoration-color: #7f7f7f\">        </span>│\n",
       "│<span style=\"color: #7f7f7f; text-decoration-color: #7f7f7f\"> committed to extending Social Security solvency by making the rich pay </span>│<span style=\"color: #7f7f7f; text-decoration-color: #7f7f7f\">                               </span>│<span style=\"color: #7f7f7f; text-decoration-color: #7f7f7f\">        </span>│\n",
       "│<span style=\"color: #7f7f7f; text-decoration-color: #7f7f7f\"> their fair share.                                                      </span>│<span style=\"color: #7f7f7f; text-decoration-color: #7f7f7f\">                               </span>│<span style=\"color: #7f7f7f; text-decoration-color: #7f7f7f\">        </span>│\n",
       "├────────────────────────────────────────────────────────────────────────┼───────────────────────────────┼────────┤\n",
       "│<span style=\"color: #7f7f7f; text-decoration-color: #7f7f7f\"> Today, the Army Black Knights are taking home West Point’s 10th        </span>│<span style=\"color: #7f7f7f; text-decoration-color: #7f7f7f\"> Military and National Service </span>│<span style=\"color: #7f7f7f; text-decoration-color: #7f7f7f\"> 4      </span>│\n",
       "│<span style=\"color: #7f7f7f; text-decoration-color: #7f7f7f\"> Commander-in-Chief Trophy. They should be proud. I’m proud of them too </span>│<span style=\"color: #7f7f7f; text-decoration-color: #7f7f7f\">                               </span>│<span style=\"color: #7f7f7f; text-decoration-color: #7f7f7f\">        </span>│\n",
       "│<span style=\"color: #7f7f7f; text-decoration-color: #7f7f7f\"> – not for the wins, but because after every game they hang up their    </span>│<span style=\"color: #7f7f7f; text-decoration-color: #7f7f7f\">                               </span>│<span style=\"color: #7f7f7f; text-decoration-color: #7f7f7f\">        </span>│\n",
       "│<span style=\"color: #7f7f7f; text-decoration-color: #7f7f7f\"> uniforms and put on another: one representing the United States.       </span>│<span style=\"color: #7f7f7f; text-decoration-color: #7f7f7f\">                               </span>│<span style=\"color: #7f7f7f; text-decoration-color: #7f7f7f\">        </span>│\n",
       "├────────────────────────────────────────────────────────────────────────┼───────────────────────────────┼────────┤\n",
       "│<span style=\"color: #7f7f7f; text-decoration-color: #7f7f7f\"> Today, the Army Black Knights are taking home West Point’s 10th        </span>│<span style=\"color: #7f7f7f; text-decoration-color: #7f7f7f\"> National Messages             </span>│<span style=\"color: #7f7f7f; text-decoration-color: #7f7f7f\"> 1      </span>│\n",
       "│<span style=\"color: #7f7f7f; text-decoration-color: #7f7f7f\"> Commander-in-Chief Trophy. They should be proud. I’m proud of them too </span>│<span style=\"color: #7f7f7f; text-decoration-color: #7f7f7f\">                               </span>│<span style=\"color: #7f7f7f; text-decoration-color: #7f7f7f\">        </span>│\n",
       "│<span style=\"color: #7f7f7f; text-decoration-color: #7f7f7f\"> – not for the wins, but because after every game they hang up their    </span>│<span style=\"color: #7f7f7f; text-decoration-color: #7f7f7f\">                               </span>│<span style=\"color: #7f7f7f; text-decoration-color: #7f7f7f\">        </span>│\n",
       "│<span style=\"color: #7f7f7f; text-decoration-color: #7f7f7f\"> uniforms and put on another: one representing the United States.       </span>│<span style=\"color: #7f7f7f; text-decoration-color: #7f7f7f\">                               </span>│<span style=\"color: #7f7f7f; text-decoration-color: #7f7f7f\">        </span>│\n",
       "├────────────────────────────────────────────────────────────────────────┼───────────────────────────────┼────────┤\n",
       "│<span style=\"color: #7f7f7f; text-decoration-color: #7f7f7f\"> This Holocaust Remembrance Day, we mourn the six million Jews who were </span>│<span style=\"color: #7f7f7f; text-decoration-color: #7f7f7f\"> Holocaust Remembrance         </span>│<span style=\"color: #7f7f7f; text-decoration-color: #7f7f7f\"> 8      </span>│\n",
       "│<span style=\"color: #7f7f7f; text-decoration-color: #7f7f7f\"> killed by the Nazis during one of the darkest chapters in human        </span>│<span style=\"color: #7f7f7f; text-decoration-color: #7f7f7f\">                               </span>│<span style=\"color: #7f7f7f; text-decoration-color: #7f7f7f\">        </span>│\n",
       "│<span style=\"color: #7f7f7f; text-decoration-color: #7f7f7f\"> history. And we recommit to heeding the lessons of the Shoah and       </span>│<span style=\"color: #7f7f7f; text-decoration-color: #7f7f7f\">                               </span>│<span style=\"color: #7f7f7f; text-decoration-color: #7f7f7f\">        </span>│\n",
       "│<span style=\"color: #7f7f7f; text-decoration-color: #7f7f7f\"> realizing the responsibility of 'Never Again.'                         </span>│<span style=\"color: #7f7f7f; text-decoration-color: #7f7f7f\">                               </span>│<span style=\"color: #7f7f7f; text-decoration-color: #7f7f7f\">        </span>│\n",
       "├────────────────────────────────────────────────────────────────────────┼───────────────────────────────┼────────┤\n",
       "│<span style=\"color: #7f7f7f; text-decoration-color: #7f7f7f\"> This Holocaust Remembrance Day, we mourn the six million Jews who were </span>│<span style=\"color: #7f7f7f; text-decoration-color: #7f7f7f\"> National Messages             </span>│<span style=\"color: #7f7f7f; text-decoration-color: #7f7f7f\"> 7      </span>│\n",
       "│<span style=\"color: #7f7f7f; text-decoration-color: #7f7f7f\"> killed by the Nazis during one of the darkest chapters in human        </span>│<span style=\"color: #7f7f7f; text-decoration-color: #7f7f7f\">                               </span>│<span style=\"color: #7f7f7f; text-decoration-color: #7f7f7f\">        </span>│\n",
       "│<span style=\"color: #7f7f7f; text-decoration-color: #7f7f7f\"> history. And we recommit to heeding the lessons of the Shoah and       </span>│<span style=\"color: #7f7f7f; text-decoration-color: #7f7f7f\">                               </span>│<span style=\"color: #7f7f7f; text-decoration-color: #7f7f7f\">        </span>│\n",
       "│<span style=\"color: #7f7f7f; text-decoration-color: #7f7f7f\"> realizing the responsibility of 'Never Again.'                         </span>│<span style=\"color: #7f7f7f; text-decoration-color: #7f7f7f\">                               </span>│<span style=\"color: #7f7f7f; text-decoration-color: #7f7f7f\">        </span>│\n",
       "├────────────────────────────────────────────────────────────────────────┼───────────────────────────────┼────────┤\n",
       "│<span style=\"color: #7f7f7f; text-decoration-color: #7f7f7f\"> The recipients of the Presidential Medal of Freedom haven't just kept  </span>│<span style=\"color: #7f7f7f; text-decoration-color: #7f7f7f\"> Presidential Honors           </span>│<span style=\"color: #7f7f7f; text-decoration-color: #7f7f7f\"> 3      </span>│\n",
       "│<span style=\"color: #7f7f7f; text-decoration-color: #7f7f7f\"> faith in freedom. They kept all of America's faith in a better         </span>│<span style=\"color: #7f7f7f; text-decoration-color: #7f7f7f\">                               </span>│<span style=\"color: #7f7f7f; text-decoration-color: #7f7f7f\">        </span>│\n",
       "│<span style=\"color: #7f7f7f; text-decoration-color: #7f7f7f\"> tomorrow.                                                              </span>│<span style=\"color: #7f7f7f; text-decoration-color: #7f7f7f\">                               </span>│<span style=\"color: #7f7f7f; text-decoration-color: #7f7f7f\">        </span>│\n",
       "├────────────────────────────────────────────────────────────────────────┼───────────────────────────────┼────────┤\n",
       "│<span style=\"color: #7f7f7f; text-decoration-color: #7f7f7f\"> The recipients of the Presidential Medal of Freedom haven't just kept  </span>│<span style=\"color: #7f7f7f; text-decoration-color: #7f7f7f\"> National Messages             </span>│<span style=\"color: #7f7f7f; text-decoration-color: #7f7f7f\"> 3      </span>│\n",
       "│<span style=\"color: #7f7f7f; text-decoration-color: #7f7f7f\"> faith in freedom. They kept all of America's faith in a better         </span>│<span style=\"color: #7f7f7f; text-decoration-color: #7f7f7f\">                               </span>│<span style=\"color: #7f7f7f; text-decoration-color: #7f7f7f\">        </span>│\n",
       "│<span style=\"color: #7f7f7f; text-decoration-color: #7f7f7f\"> tomorrow.                                                              </span>│<span style=\"color: #7f7f7f; text-decoration-color: #7f7f7f\">                               </span>│<span style=\"color: #7f7f7f; text-decoration-color: #7f7f7f\">        </span>│\n",
       "├────────────────────────────────────────────────────────────────────────┼───────────────────────────────┼────────┤\n",
       "│<span style=\"color: #7f7f7f; text-decoration-color: #7f7f7f\"> Like Jill says, 'Teaching isn’t just a job. It’s a calling.' She knows </span>│<span style=\"color: #7f7f7f; text-decoration-color: #7f7f7f\"> Educational Commitment        </span>│<span style=\"color: #7f7f7f; text-decoration-color: #7f7f7f\"> 4      </span>│\n",
       "│<span style=\"color: #7f7f7f; text-decoration-color: #7f7f7f\"> that in her bones, and I know every educator who joined us at the      </span>│<span style=\"color: #7f7f7f; text-decoration-color: #7f7f7f\">                               </span>│<span style=\"color: #7f7f7f; text-decoration-color: #7f7f7f\">        </span>│\n",
       "│<span style=\"color: #7f7f7f; text-decoration-color: #7f7f7f\"> White House for the first-ever Teacher State Dinner lives out that     </span>│<span style=\"color: #7f7f7f; text-decoration-color: #7f7f7f\">                               </span>│<span style=\"color: #7f7f7f; text-decoration-color: #7f7f7f\">        </span>│\n",
       "│<span style=\"color: #7f7f7f; text-decoration-color: #7f7f7f\"> truth every day.                                                       </span>│<span style=\"color: #7f7f7f; text-decoration-color: #7f7f7f\">                               </span>│<span style=\"color: #7f7f7f; text-decoration-color: #7f7f7f\">        </span>│\n",
       "├────────────────────────────────────────────────────────────────────────┼───────────────────────────────┼────────┤\n",
       "│<span style=\"color: #7f7f7f; text-decoration-color: #7f7f7f\"> Like Jill says, 'Teaching isn’t just a job. It’s a calling.' She knows </span>│<span style=\"color: #7f7f7f; text-decoration-color: #7f7f7f\"> National Messages             </span>│<span style=\"color: #7f7f7f; text-decoration-color: #7f7f7f\"> 1      </span>│\n",
       "│<span style=\"color: #7f7f7f; text-decoration-color: #7f7f7f\"> that in her bones, and I know every educator who joined us at the      </span>│<span style=\"color: #7f7f7f; text-decoration-color: #7f7f7f\">                               </span>│<span style=\"color: #7f7f7f; text-decoration-color: #7f7f7f\">        </span>│\n",
       "│<span style=\"color: #7f7f7f; text-decoration-color: #7f7f7f\"> White House for the first-ever Teacher State Dinner lives out that     </span>│<span style=\"color: #7f7f7f; text-decoration-color: #7f7f7f\">                               </span>│<span style=\"color: #7f7f7f; text-decoration-color: #7f7f7f\">        </span>│\n",
       "│<span style=\"color: #7f7f7f; text-decoration-color: #7f7f7f\"> truth every day.                                                       </span>│<span style=\"color: #7f7f7f; text-decoration-color: #7f7f7f\">                               </span>│<span style=\"color: #7f7f7f; text-decoration-color: #7f7f7f\">        </span>│\n",
       "├────────────────────────────────────────────────────────────────────────┼───────────────────────────────┼────────┤\n",
       "│<span style=\"color: #7f7f7f; text-decoration-color: #7f7f7f\"> Jill and I send warm wishes to Orthodox Christian communities around   </span>│<span style=\"color: #7f7f7f; text-decoration-color: #7f7f7f\"> National Messages             </span>│<span style=\"color: #7f7f7f; text-decoration-color: #7f7f7f\"> 4      </span>│\n",
       "│<span style=\"color: #7f7f7f; text-decoration-color: #7f7f7f\"> the world as they celebrate Easter. May the Lord bless and keep you    </span>│<span style=\"color: #7f7f7f; text-decoration-color: #7f7f7f\">                               </span>│<span style=\"color: #7f7f7f; text-decoration-color: #7f7f7f\">        </span>│\n",
       "│<span style=\"color: #7f7f7f; text-decoration-color: #7f7f7f\"> this Easter Sunday and in the year ahead.                              </span>│<span style=\"color: #7f7f7f; text-decoration-color: #7f7f7f\">                               </span>│<span style=\"color: #7f7f7f; text-decoration-color: #7f7f7f\">        </span>│\n",
       "├────────────────────────────────────────────────────────────────────────┼───────────────────────────────┼────────┤\n",
       "│<span style=\"color: #7f7f7f; text-decoration-color: #7f7f7f\"> Jill and I send warm wishes to Orthodox Christian communities around   </span>│<span style=\"color: #7f7f7f; text-decoration-color: #7f7f7f\"> Cultural Celebrations         </span>│<span style=\"color: #7f7f7f; text-decoration-color: #7f7f7f\"> 3      </span>│\n",
       "│<span style=\"color: #7f7f7f; text-decoration-color: #7f7f7f\"> the world as they celebrate Easter. May the Lord bless and keep you    </span>│<span style=\"color: #7f7f7f; text-decoration-color: #7f7f7f\">                               </span>│<span style=\"color: #7f7f7f; text-decoration-color: #7f7f7f\">        </span>│\n",
       "│<span style=\"color: #7f7f7f; text-decoration-color: #7f7f7f\"> this Easter Sunday and in the year ahead.                              </span>│<span style=\"color: #7f7f7f; text-decoration-color: #7f7f7f\">                               </span>│<span style=\"color: #7f7f7f; text-decoration-color: #7f7f7f\">        </span>│\n",
       "├────────────────────────────────────────────────────────────────────────┼───────────────────────────────┼────────┤\n",
       "│<span style=\"color: #7f7f7f; text-decoration-color: #7f7f7f\"> Dreamers are our loved ones, nurses, teachers, and small business      </span>│<span style=\"color: #7f7f7f; text-decoration-color: #7f7f7f\"> Economic and Tax Plans        </span>│<span style=\"color: #7f7f7f; text-decoration-color: #7f7f7f\"> 1      </span>│\n",
       "│<span style=\"color: #7f7f7f; text-decoration-color: #7f7f7f\"> owners – they deserve the promise of health care just like all of us.  </span>│<span style=\"color: #7f7f7f; text-decoration-color: #7f7f7f\">                               </span>│<span style=\"color: #7f7f7f; text-decoration-color: #7f7f7f\">        </span>│\n",
       "│<span style=\"color: #7f7f7f; text-decoration-color: #7f7f7f\"> Today, my Administration is making that real by expanding affordable   </span>│<span style=\"color: #7f7f7f; text-decoration-color: #7f7f7f\">                               </span>│<span style=\"color: #7f7f7f; text-decoration-color: #7f7f7f\">        </span>│\n",
       "│<span style=\"color: #7f7f7f; text-decoration-color: #7f7f7f\"> health coverage through the Affordable Care Act to DACA recipients.    </span>│<span style=\"color: #7f7f7f; text-decoration-color: #7f7f7f\">                               </span>│<span style=\"color: #7f7f7f; text-decoration-color: #7f7f7f\">        </span>│\n",
       "├────────────────────────────────────────────────────────────────────────┼───────────────────────────────┼────────┤\n",
       "│<span style=\"color: #7f7f7f; text-decoration-color: #7f7f7f\"> Dreamers are our loved ones, nurses, teachers, and small business      </span>│<span style=\"color: #7f7f7f; text-decoration-color: #7f7f7f\"> Healthcare Initiatives        </span>│<span style=\"color: #7f7f7f; text-decoration-color: #7f7f7f\"> 7      </span>│\n",
       "│<span style=\"color: #7f7f7f; text-decoration-color: #7f7f7f\"> owners – they deserve the promise of health care just like all of us.  </span>│<span style=\"color: #7f7f7f; text-decoration-color: #7f7f7f\">                               </span>│<span style=\"color: #7f7f7f; text-decoration-color: #7f7f7f\">        </span>│\n",
       "│<span style=\"color: #7f7f7f; text-decoration-color: #7f7f7f\"> Today, my Administration is making that real by expanding affordable   </span>│<span style=\"color: #7f7f7f; text-decoration-color: #7f7f7f\">                               </span>│<span style=\"color: #7f7f7f; text-decoration-color: #7f7f7f\">        </span>│\n",
       "│<span style=\"color: #7f7f7f; text-decoration-color: #7f7f7f\"> health coverage through the Affordable Care Act to DACA recipients.    </span>│<span style=\"color: #7f7f7f; text-decoration-color: #7f7f7f\">                               </span>│<span style=\"color: #7f7f7f; text-decoration-color: #7f7f7f\">        </span>│\n",
       "├────────────────────────────────────────────────────────────────────────┼───────────────────────────────┼────────┤\n",
       "│<span style=\"color: #7f7f7f; text-decoration-color: #7f7f7f\"> Dreamers are our loved ones, nurses, teachers, and small business      </span>│<span style=\"color: #7f7f7f; text-decoration-color: #7f7f7f\"> National Messages             </span>│<span style=\"color: #7f7f7f; text-decoration-color: #7f7f7f\"> 8      </span>│\n",
       "│<span style=\"color: #7f7f7f; text-decoration-color: #7f7f7f\"> owners – they deserve the promise of health care just like all of us.  </span>│<span style=\"color: #7f7f7f; text-decoration-color: #7f7f7f\">                               </span>│<span style=\"color: #7f7f7f; text-decoration-color: #7f7f7f\">        </span>│\n",
       "│<span style=\"color: #7f7f7f; text-decoration-color: #7f7f7f\"> Today, my Administration is making that real by expanding affordable   </span>│<span style=\"color: #7f7f7f; text-decoration-color: #7f7f7f\">                               </span>│<span style=\"color: #7f7f7f; text-decoration-color: #7f7f7f\">        </span>│\n",
       "│<span style=\"color: #7f7f7f; text-decoration-color: #7f7f7f\"> health coverage through the Affordable Care Act to DACA recipients.    </span>│<span style=\"color: #7f7f7f; text-decoration-color: #7f7f7f\">                               </span>│<span style=\"color: #7f7f7f; text-decoration-color: #7f7f7f\">        </span>│\n",
       "├────────────────────────────────────────────────────────────────────────┼───────────────────────────────┼────────┤\n",
       "│<span style=\"color: #7f7f7f; text-decoration-color: #7f7f7f\"> With today’s report of 175,000 new jobs, the American comeback         </span>│<span style=\"color: #7f7f7f; text-decoration-color: #7f7f7f\"> Economic and Tax Plans        </span>│<span style=\"color: #7f7f7f; text-decoration-color: #7f7f7f\"> 3      </span>│\n",
       "│<span style=\"color: #7f7f7f; text-decoration-color: #7f7f7f\"> continues. Congressional Republicans are fighting to cut taxes for     </span>│<span style=\"color: #7f7f7f; text-decoration-color: #7f7f7f\">                               </span>│<span style=\"color: #7f7f7f; text-decoration-color: #7f7f7f\">        </span>│\n",
       "│<span style=\"color: #7f7f7f; text-decoration-color: #7f7f7f\"> billionaires and let special interests rip folks off, I'm focused on   </span>│<span style=\"color: #7f7f7f; text-decoration-color: #7f7f7f\">                               </span>│<span style=\"color: #7f7f7f; text-decoration-color: #7f7f7f\">        </span>│\n",
       "│<span style=\"color: #7f7f7f; text-decoration-color: #7f7f7f\"> job creation and building an economy that works for the families I     </span>│<span style=\"color: #7f7f7f; text-decoration-color: #7f7f7f\">                               </span>│<span style=\"color: #7f7f7f; text-decoration-color: #7f7f7f\">        </span>│\n",
       "│<span style=\"color: #7f7f7f; text-decoration-color: #7f7f7f\"> grew up with.                                                          </span>│<span style=\"color: #7f7f7f; text-decoration-color: #7f7f7f\">                               </span>│<span style=\"color: #7f7f7f; text-decoration-color: #7f7f7f\">        </span>│\n",
       "├────────────────────────────────────────────────────────────────────────┼───────────────────────────────┼────────┤\n",
       "│<span style=\"color: #7f7f7f; text-decoration-color: #7f7f7f\"> With today’s report of 175,000 new jobs, the American comeback         </span>│<span style=\"color: #7f7f7f; text-decoration-color: #7f7f7f\"> Employment Growth             </span>│<span style=\"color: #7f7f7f; text-decoration-color: #7f7f7f\"> 2      </span>│\n",
       "│<span style=\"color: #7f7f7f; text-decoration-color: #7f7f7f\"> continues. Congressional Republicans are fighting to cut taxes for     </span>│<span style=\"color: #7f7f7f; text-decoration-color: #7f7f7f\">                               </span>│<span style=\"color: #7f7f7f; text-decoration-color: #7f7f7f\">        </span>│\n",
       "│<span style=\"color: #7f7f7f; text-decoration-color: #7f7f7f\"> billionaires and let special interests rip folks off, I'm focused on   </span>│<span style=\"color: #7f7f7f; text-decoration-color: #7f7f7f\">                               </span>│<span style=\"color: #7f7f7f; text-decoration-color: #7f7f7f\">        </span>│\n",
       "│<span style=\"color: #7f7f7f; text-decoration-color: #7f7f7f\"> job creation and building an economy that works for the families I     </span>│<span style=\"color: #7f7f7f; text-decoration-color: #7f7f7f\">                               </span>│<span style=\"color: #7f7f7f; text-decoration-color: #7f7f7f\">        </span>│\n",
       "│<span style=\"color: #7f7f7f; text-decoration-color: #7f7f7f\"> grew up with.                                                          </span>│<span style=\"color: #7f7f7f; text-decoration-color: #7f7f7f\">                               </span>│<span style=\"color: #7f7f7f; text-decoration-color: #7f7f7f\">        </span>│\n",
       "├────────────────────────────────────────────────────────────────────────┼───────────────────────────────┼────────┤\n",
       "│<span style=\"color: #7f7f7f; text-decoration-color: #7f7f7f\"> With today’s report of 175,000 new jobs, the American comeback         </span>│<span style=\"color: #7f7f7f; text-decoration-color: #7f7f7f\"> National Messages             </span>│<span style=\"color: #7f7f7f; text-decoration-color: #7f7f7f\"> 3      </span>│\n",
       "│<span style=\"color: #7f7f7f; text-decoration-color: #7f7f7f\"> continues. Congressional Republicans are fighting to cut taxes for     </span>│<span style=\"color: #7f7f7f; text-decoration-color: #7f7f7f\">                               </span>│<span style=\"color: #7f7f7f; text-decoration-color: #7f7f7f\">        </span>│\n",
       "│<span style=\"color: #7f7f7f; text-decoration-color: #7f7f7f\"> billionaires and let special interests rip folks off, I'm focused on   </span>│<span style=\"color: #7f7f7f; text-decoration-color: #7f7f7f\">                               </span>│<span style=\"color: #7f7f7f; text-decoration-color: #7f7f7f\">        </span>│\n",
       "│<span style=\"color: #7f7f7f; text-decoration-color: #7f7f7f\"> job creation and building an economy that works for the families I     </span>│<span style=\"color: #7f7f7f; text-decoration-color: #7f7f7f\">                               </span>│<span style=\"color: #7f7f7f; text-decoration-color: #7f7f7f\">        </span>│\n",
       "│<span style=\"color: #7f7f7f; text-decoration-color: #7f7f7f\"> grew up with.                                                          </span>│<span style=\"color: #7f7f7f; text-decoration-color: #7f7f7f\">                               </span>│<span style=\"color: #7f7f7f; text-decoration-color: #7f7f7f\">        </span>│\n",
       "└────────────────────────────────────────────────────────────────────────┴───────────────────────────────┴────────┘\n",
       "</pre>\n"
      ],
      "text/plain": [
       "┏━━━━━━━━━━━━━━━━━━━━━━━━━━━━━━━━━━━━━━━━━━━━━━━━━━━━━━━━━━━━━━━━━━━━━━━━┳━━━━━━━━━━━━━━━━━━━━━━━━━━━━━━━┳━━━━━━━━┓\n",
       "┃\u001b[1;35m \u001b[0m\u001b[1;35mscenario                                                              \u001b[0m\u001b[1;35m \u001b[0m┃\u001b[1;35m \u001b[0m\u001b[1;35mscenario                     \u001b[0m\u001b[1;35m \u001b[0m┃\u001b[1;35m \u001b[0m\u001b[1;35manswer\u001b[0m\u001b[1;35m \u001b[0m┃\n",
       "┃\u001b[1;35m \u001b[0m\u001b[1;35m.text                                                                 \u001b[0m\u001b[1;35m \u001b[0m┃\u001b[1;35m \u001b[0m\u001b[1;35m.concept                     \u001b[0m\u001b[1;35m \u001b[0m┃\u001b[1;35m \u001b[0m\u001b[1;35m.score\u001b[0m\u001b[1;35m \u001b[0m┃\n",
       "┡━━━━━━━━━━━━━━━━━━━━━━━━━━━━━━━━━━━━━━━━━━━━━━━━━━━━━━━━━━━━━━━━━━━━━━━━╇━━━━━━━━━━━━━━━━━━━━━━━━━━━━━━━╇━━━━━━━━┩\n",
       "│\u001b[2m \u001b[0m\u001b[2mTune in as I deliver the keynote address at the U.S. Holocaust        \u001b[0m\u001b[2m \u001b[0m│\u001b[2m \u001b[0m\u001b[2mHolocaust Remembrance        \u001b[0m\u001b[2m \u001b[0m│\u001b[2m \u001b[0m\u001b[2m6     \u001b[0m\u001b[2m \u001b[0m│\n",
       "│\u001b[2m \u001b[0m\u001b[2mMemorial Museum’s Annual Days of Remembrance ceremony in Washington,  \u001b[0m\u001b[2m \u001b[0m│\u001b[2m                               \u001b[0m│\u001b[2m        \u001b[0m│\n",
       "│\u001b[2m \u001b[0m\u001b[2mD.C.                                                                  \u001b[0m\u001b[2m \u001b[0m│\u001b[2m                               \u001b[0m│\u001b[2m        \u001b[0m│\n",
       "├────────────────────────────────────────────────────────────────────────┼───────────────────────────────┼────────┤\n",
       "│\u001b[2m \u001b[0m\u001b[2mTune in as I deliver the keynote address at the U.S. Holocaust        \u001b[0m\u001b[2m \u001b[0m│\u001b[2m \u001b[0m\u001b[2mNational Messages            \u001b[0m\u001b[2m \u001b[0m│\u001b[2m \u001b[0m\u001b[2m1     \u001b[0m\u001b[2m \u001b[0m│\n",
       "│\u001b[2m \u001b[0m\u001b[2mMemorial Museum’s Annual Days of Remembrance ceremony in Washington,  \u001b[0m\u001b[2m \u001b[0m│\u001b[2m                               \u001b[0m│\u001b[2m        \u001b[0m│\n",
       "│\u001b[2m \u001b[0m\u001b[2mD.C.                                                                  \u001b[0m\u001b[2m \u001b[0m│\u001b[2m                               \u001b[0m│\u001b[2m        \u001b[0m│\n",
       "├────────────────────────────────────────────────────────────────────────┼───────────────────────────────┼────────┤\n",
       "│\u001b[2m \u001b[0m\u001b[2mWe’re a nation of immigrants. A nation of dreamers. And as Cinco de   \u001b[0m\u001b[2m \u001b[0m│\u001b[2m \u001b[0m\u001b[2mCultural Celebrations        \u001b[0m\u001b[2m \u001b[0m│\u001b[2m \u001b[0m\u001b[2m2     \u001b[0m\u001b[2m \u001b[0m│\n",
       "│\u001b[2m \u001b[0m\u001b[2mMayo represents, a nation of freedom.                                 \u001b[0m\u001b[2m \u001b[0m│\u001b[2m                               \u001b[0m│\u001b[2m        \u001b[0m│\n",
       "├────────────────────────────────────────────────────────────────────────┼───────────────────────────────┼────────┤\n",
       "│\u001b[2m \u001b[0m\u001b[2mWe’re a nation of immigrants. A nation of dreamers. And as Cinco de   \u001b[0m\u001b[2m \u001b[0m│\u001b[2m \u001b[0m\u001b[2mNational Messages            \u001b[0m\u001b[2m \u001b[0m│\u001b[2m \u001b[0m\u001b[2m2     \u001b[0m\u001b[2m \u001b[0m│\n",
       "│\u001b[2m \u001b[0m\u001b[2mMayo represents, a nation of freedom.                                 \u001b[0m\u001b[2m \u001b[0m│\u001b[2m                               \u001b[0m│\u001b[2m        \u001b[0m│\n",
       "├────────────────────────────────────────────────────────────────────────┼───────────────────────────────┼────────┤\n",
       "│\u001b[2m \u001b[0m\u001b[2mMedicare is stronger and Social Security remains strong. My economic  \u001b[0m\u001b[2m \u001b[0m│\u001b[2m \u001b[0m\u001b[2mMedicare and Social Security \u001b[0m\u001b[2m \u001b[0m│\u001b[2m \u001b[0m\u001b[2m3     \u001b[0m\u001b[2m \u001b[0m│\n",
       "│\u001b[2m \u001b[0m\u001b[2mplan has helped extend Medicare solvency by a decade. And I am        \u001b[0m\u001b[2m \u001b[0m│\u001b[2m                               \u001b[0m│\u001b[2m        \u001b[0m│\n",
       "│\u001b[2m \u001b[0m\u001b[2mcommitted to extending Social Security solvency by making the rich pay\u001b[0m\u001b[2m \u001b[0m│\u001b[2m                               \u001b[0m│\u001b[2m        \u001b[0m│\n",
       "│\u001b[2m \u001b[0m\u001b[2mtheir fair share.                                                     \u001b[0m\u001b[2m \u001b[0m│\u001b[2m                               \u001b[0m│\u001b[2m        \u001b[0m│\n",
       "├────────────────────────────────────────────────────────────────────────┼───────────────────────────────┼────────┤\n",
       "│\u001b[2m \u001b[0m\u001b[2mMedicare is stronger and Social Security remains strong. My economic  \u001b[0m\u001b[2m \u001b[0m│\u001b[2m \u001b[0m\u001b[2mEconomic and Tax Plans       \u001b[0m\u001b[2m \u001b[0m│\u001b[2m \u001b[0m\u001b[2m4     \u001b[0m\u001b[2m \u001b[0m│\n",
       "│\u001b[2m \u001b[0m\u001b[2mplan has helped extend Medicare solvency by a decade. And I am        \u001b[0m\u001b[2m \u001b[0m│\u001b[2m                               \u001b[0m│\u001b[2m        \u001b[0m│\n",
       "│\u001b[2m \u001b[0m\u001b[2mcommitted to extending Social Security solvency by making the rich pay\u001b[0m\u001b[2m \u001b[0m│\u001b[2m                               \u001b[0m│\u001b[2m        \u001b[0m│\n",
       "│\u001b[2m \u001b[0m\u001b[2mtheir fair share.                                                     \u001b[0m\u001b[2m \u001b[0m│\u001b[2m                               \u001b[0m│\u001b[2m        \u001b[0m│\n",
       "├────────────────────────────────────────────────────────────────────────┼───────────────────────────────┼────────┤\n",
       "│\u001b[2m \u001b[0m\u001b[2mMedicare is stronger and Social Security remains strong. My economic  \u001b[0m\u001b[2m \u001b[0m│\u001b[2m \u001b[0m\u001b[2mHealthcare Initiatives       \u001b[0m\u001b[2m \u001b[0m│\u001b[2m \u001b[0m\u001b[2m3     \u001b[0m\u001b[2m \u001b[0m│\n",
       "│\u001b[2m \u001b[0m\u001b[2mplan has helped extend Medicare solvency by a decade. And I am        \u001b[0m\u001b[2m \u001b[0m│\u001b[2m                               \u001b[0m│\u001b[2m        \u001b[0m│\n",
       "│\u001b[2m \u001b[0m\u001b[2mcommitted to extending Social Security solvency by making the rich pay\u001b[0m\u001b[2m \u001b[0m│\u001b[2m                               \u001b[0m│\u001b[2m        \u001b[0m│\n",
       "│\u001b[2m \u001b[0m\u001b[2mtheir fair share.                                                     \u001b[0m\u001b[2m \u001b[0m│\u001b[2m                               \u001b[0m│\u001b[2m        \u001b[0m│\n",
       "├────────────────────────────────────────────────────────────────────────┼───────────────────────────────┼────────┤\n",
       "│\u001b[2m \u001b[0m\u001b[2mMedicare is stronger and Social Security remains strong. My economic  \u001b[0m\u001b[2m \u001b[0m│\u001b[2m \u001b[0m\u001b[2mNational Messages            \u001b[0m\u001b[2m \u001b[0m│\u001b[2m \u001b[0m\u001b[2m8     \u001b[0m\u001b[2m \u001b[0m│\n",
       "│\u001b[2m \u001b[0m\u001b[2mplan has helped extend Medicare solvency by a decade. And I am        \u001b[0m\u001b[2m \u001b[0m│\u001b[2m                               \u001b[0m│\u001b[2m        \u001b[0m│\n",
       "│\u001b[2m \u001b[0m\u001b[2mcommitted to extending Social Security solvency by making the rich pay\u001b[0m\u001b[2m \u001b[0m│\u001b[2m                               \u001b[0m│\u001b[2m        \u001b[0m│\n",
       "│\u001b[2m \u001b[0m\u001b[2mtheir fair share.                                                     \u001b[0m\u001b[2m \u001b[0m│\u001b[2m                               \u001b[0m│\u001b[2m        \u001b[0m│\n",
       "├────────────────────────────────────────────────────────────────────────┼───────────────────────────────┼────────┤\n",
       "│\u001b[2m \u001b[0m\u001b[2mToday, the Army Black Knights are taking home West Point’s 10th       \u001b[0m\u001b[2m \u001b[0m│\u001b[2m \u001b[0m\u001b[2mMilitary and National Service\u001b[0m\u001b[2m \u001b[0m│\u001b[2m \u001b[0m\u001b[2m4     \u001b[0m\u001b[2m \u001b[0m│\n",
       "│\u001b[2m \u001b[0m\u001b[2mCommander-in-Chief Trophy. They should be proud. I’m proud of them too\u001b[0m\u001b[2m \u001b[0m│\u001b[2m                               \u001b[0m│\u001b[2m        \u001b[0m│\n",
       "│\u001b[2m \u001b[0m\u001b[2m– not for the wins, but because after every game they hang up their   \u001b[0m\u001b[2m \u001b[0m│\u001b[2m                               \u001b[0m│\u001b[2m        \u001b[0m│\n",
       "│\u001b[2m \u001b[0m\u001b[2muniforms and put on another: one representing the United States.      \u001b[0m\u001b[2m \u001b[0m│\u001b[2m                               \u001b[0m│\u001b[2m        \u001b[0m│\n",
       "├────────────────────────────────────────────────────────────────────────┼───────────────────────────────┼────────┤\n",
       "│\u001b[2m \u001b[0m\u001b[2mToday, the Army Black Knights are taking home West Point’s 10th       \u001b[0m\u001b[2m \u001b[0m│\u001b[2m \u001b[0m\u001b[2mNational Messages            \u001b[0m\u001b[2m \u001b[0m│\u001b[2m \u001b[0m\u001b[2m1     \u001b[0m\u001b[2m \u001b[0m│\n",
       "│\u001b[2m \u001b[0m\u001b[2mCommander-in-Chief Trophy. They should be proud. I’m proud of them too\u001b[0m\u001b[2m \u001b[0m│\u001b[2m                               \u001b[0m│\u001b[2m        \u001b[0m│\n",
       "│\u001b[2m \u001b[0m\u001b[2m– not for the wins, but because after every game they hang up their   \u001b[0m\u001b[2m \u001b[0m│\u001b[2m                               \u001b[0m│\u001b[2m        \u001b[0m│\n",
       "│\u001b[2m \u001b[0m\u001b[2muniforms and put on another: one representing the United States.      \u001b[0m\u001b[2m \u001b[0m│\u001b[2m                               \u001b[0m│\u001b[2m        \u001b[0m│\n",
       "├────────────────────────────────────────────────────────────────────────┼───────────────────────────────┼────────┤\n",
       "│\u001b[2m \u001b[0m\u001b[2mThis Holocaust Remembrance Day, we mourn the six million Jews who were\u001b[0m\u001b[2m \u001b[0m│\u001b[2m \u001b[0m\u001b[2mHolocaust Remembrance        \u001b[0m\u001b[2m \u001b[0m│\u001b[2m \u001b[0m\u001b[2m8     \u001b[0m\u001b[2m \u001b[0m│\n",
       "│\u001b[2m \u001b[0m\u001b[2mkilled by the Nazis during one of the darkest chapters in human       \u001b[0m\u001b[2m \u001b[0m│\u001b[2m                               \u001b[0m│\u001b[2m        \u001b[0m│\n",
       "│\u001b[2m \u001b[0m\u001b[2mhistory. And we recommit to heeding the lessons of the Shoah and      \u001b[0m\u001b[2m \u001b[0m│\u001b[2m                               \u001b[0m│\u001b[2m        \u001b[0m│\n",
       "│\u001b[2m \u001b[0m\u001b[2mrealizing the responsibility of 'Never Again.'                        \u001b[0m\u001b[2m \u001b[0m│\u001b[2m                               \u001b[0m│\u001b[2m        \u001b[0m│\n",
       "├────────────────────────────────────────────────────────────────────────┼───────────────────────────────┼────────┤\n",
       "│\u001b[2m \u001b[0m\u001b[2mThis Holocaust Remembrance Day, we mourn the six million Jews who were\u001b[0m\u001b[2m \u001b[0m│\u001b[2m \u001b[0m\u001b[2mNational Messages            \u001b[0m\u001b[2m \u001b[0m│\u001b[2m \u001b[0m\u001b[2m7     \u001b[0m\u001b[2m \u001b[0m│\n",
       "│\u001b[2m \u001b[0m\u001b[2mkilled by the Nazis during one of the darkest chapters in human       \u001b[0m\u001b[2m \u001b[0m│\u001b[2m                               \u001b[0m│\u001b[2m        \u001b[0m│\n",
       "│\u001b[2m \u001b[0m\u001b[2mhistory. And we recommit to heeding the lessons of the Shoah and      \u001b[0m\u001b[2m \u001b[0m│\u001b[2m                               \u001b[0m│\u001b[2m        \u001b[0m│\n",
       "│\u001b[2m \u001b[0m\u001b[2mrealizing the responsibility of 'Never Again.'                        \u001b[0m\u001b[2m \u001b[0m│\u001b[2m                               \u001b[0m│\u001b[2m        \u001b[0m│\n",
       "├────────────────────────────────────────────────────────────────────────┼───────────────────────────────┼────────┤\n",
       "│\u001b[2m \u001b[0m\u001b[2mThe recipients of the Presidential Medal of Freedom haven't just kept \u001b[0m\u001b[2m \u001b[0m│\u001b[2m \u001b[0m\u001b[2mPresidential Honors          \u001b[0m\u001b[2m \u001b[0m│\u001b[2m \u001b[0m\u001b[2m3     \u001b[0m\u001b[2m \u001b[0m│\n",
       "│\u001b[2m \u001b[0m\u001b[2mfaith in freedom. They kept all of America's faith in a better        \u001b[0m\u001b[2m \u001b[0m│\u001b[2m                               \u001b[0m│\u001b[2m        \u001b[0m│\n",
       "│\u001b[2m \u001b[0m\u001b[2mtomorrow.                                                             \u001b[0m\u001b[2m \u001b[0m│\u001b[2m                               \u001b[0m│\u001b[2m        \u001b[0m│\n",
       "├────────────────────────────────────────────────────────────────────────┼───────────────────────────────┼────────┤\n",
       "│\u001b[2m \u001b[0m\u001b[2mThe recipients of the Presidential Medal of Freedom haven't just kept \u001b[0m\u001b[2m \u001b[0m│\u001b[2m \u001b[0m\u001b[2mNational Messages            \u001b[0m\u001b[2m \u001b[0m│\u001b[2m \u001b[0m\u001b[2m3     \u001b[0m\u001b[2m \u001b[0m│\n",
       "│\u001b[2m \u001b[0m\u001b[2mfaith in freedom. They kept all of America's faith in a better        \u001b[0m\u001b[2m \u001b[0m│\u001b[2m                               \u001b[0m│\u001b[2m        \u001b[0m│\n",
       "│\u001b[2m \u001b[0m\u001b[2mtomorrow.                                                             \u001b[0m\u001b[2m \u001b[0m│\u001b[2m                               \u001b[0m│\u001b[2m        \u001b[0m│\n",
       "├────────────────────────────────────────────────────────────────────────┼───────────────────────────────┼────────┤\n",
       "│\u001b[2m \u001b[0m\u001b[2mLike Jill says, 'Teaching isn’t just a job. It’s a calling.' She knows\u001b[0m\u001b[2m \u001b[0m│\u001b[2m \u001b[0m\u001b[2mEducational Commitment       \u001b[0m\u001b[2m \u001b[0m│\u001b[2m \u001b[0m\u001b[2m4     \u001b[0m\u001b[2m \u001b[0m│\n",
       "│\u001b[2m \u001b[0m\u001b[2mthat in her bones, and I know every educator who joined us at the     \u001b[0m\u001b[2m \u001b[0m│\u001b[2m                               \u001b[0m│\u001b[2m        \u001b[0m│\n",
       "│\u001b[2m \u001b[0m\u001b[2mWhite House for the first-ever Teacher State Dinner lives out that    \u001b[0m\u001b[2m \u001b[0m│\u001b[2m                               \u001b[0m│\u001b[2m        \u001b[0m│\n",
       "│\u001b[2m \u001b[0m\u001b[2mtruth every day.                                                      \u001b[0m\u001b[2m \u001b[0m│\u001b[2m                               \u001b[0m│\u001b[2m        \u001b[0m│\n",
       "├────────────────────────────────────────────────────────────────────────┼───────────────────────────────┼────────┤\n",
       "│\u001b[2m \u001b[0m\u001b[2mLike Jill says, 'Teaching isn’t just a job. It’s a calling.' She knows\u001b[0m\u001b[2m \u001b[0m│\u001b[2m \u001b[0m\u001b[2mNational Messages            \u001b[0m\u001b[2m \u001b[0m│\u001b[2m \u001b[0m\u001b[2m1     \u001b[0m\u001b[2m \u001b[0m│\n",
       "│\u001b[2m \u001b[0m\u001b[2mthat in her bones, and I know every educator who joined us at the     \u001b[0m\u001b[2m \u001b[0m│\u001b[2m                               \u001b[0m│\u001b[2m        \u001b[0m│\n",
       "│\u001b[2m \u001b[0m\u001b[2mWhite House for the first-ever Teacher State Dinner lives out that    \u001b[0m\u001b[2m \u001b[0m│\u001b[2m                               \u001b[0m│\u001b[2m        \u001b[0m│\n",
       "│\u001b[2m \u001b[0m\u001b[2mtruth every day.                                                      \u001b[0m\u001b[2m \u001b[0m│\u001b[2m                               \u001b[0m│\u001b[2m        \u001b[0m│\n",
       "├────────────────────────────────────────────────────────────────────────┼───────────────────────────────┼────────┤\n",
       "│\u001b[2m \u001b[0m\u001b[2mJill and I send warm wishes to Orthodox Christian communities around  \u001b[0m\u001b[2m \u001b[0m│\u001b[2m \u001b[0m\u001b[2mNational Messages            \u001b[0m\u001b[2m \u001b[0m│\u001b[2m \u001b[0m\u001b[2m4     \u001b[0m\u001b[2m \u001b[0m│\n",
       "│\u001b[2m \u001b[0m\u001b[2mthe world as they celebrate Easter. May the Lord bless and keep you   \u001b[0m\u001b[2m \u001b[0m│\u001b[2m                               \u001b[0m│\u001b[2m        \u001b[0m│\n",
       "│\u001b[2m \u001b[0m\u001b[2mthis Easter Sunday and in the year ahead.                             \u001b[0m\u001b[2m \u001b[0m│\u001b[2m                               \u001b[0m│\u001b[2m        \u001b[0m│\n",
       "├────────────────────────────────────────────────────────────────────────┼───────────────────────────────┼────────┤\n",
       "│\u001b[2m \u001b[0m\u001b[2mJill and I send warm wishes to Orthodox Christian communities around  \u001b[0m\u001b[2m \u001b[0m│\u001b[2m \u001b[0m\u001b[2mCultural Celebrations        \u001b[0m\u001b[2m \u001b[0m│\u001b[2m \u001b[0m\u001b[2m3     \u001b[0m\u001b[2m \u001b[0m│\n",
       "│\u001b[2m \u001b[0m\u001b[2mthe world as they celebrate Easter. May the Lord bless and keep you   \u001b[0m\u001b[2m \u001b[0m│\u001b[2m                               \u001b[0m│\u001b[2m        \u001b[0m│\n",
       "│\u001b[2m \u001b[0m\u001b[2mthis Easter Sunday and in the year ahead.                             \u001b[0m\u001b[2m \u001b[0m│\u001b[2m                               \u001b[0m│\u001b[2m        \u001b[0m│\n",
       "├────────────────────────────────────────────────────────────────────────┼───────────────────────────────┼────────┤\n",
       "│\u001b[2m \u001b[0m\u001b[2mDreamers are our loved ones, nurses, teachers, and small business     \u001b[0m\u001b[2m \u001b[0m│\u001b[2m \u001b[0m\u001b[2mEconomic and Tax Plans       \u001b[0m\u001b[2m \u001b[0m│\u001b[2m \u001b[0m\u001b[2m1     \u001b[0m\u001b[2m \u001b[0m│\n",
       "│\u001b[2m \u001b[0m\u001b[2mowners – they deserve the promise of health care just like all of us. \u001b[0m\u001b[2m \u001b[0m│\u001b[2m                               \u001b[0m│\u001b[2m        \u001b[0m│\n",
       "│\u001b[2m \u001b[0m\u001b[2mToday, my Administration is making that real by expanding affordable  \u001b[0m\u001b[2m \u001b[0m│\u001b[2m                               \u001b[0m│\u001b[2m        \u001b[0m│\n",
       "│\u001b[2m \u001b[0m\u001b[2mhealth coverage through the Affordable Care Act to DACA recipients.   \u001b[0m\u001b[2m \u001b[0m│\u001b[2m                               \u001b[0m│\u001b[2m        \u001b[0m│\n",
       "├────────────────────────────────────────────────────────────────────────┼───────────────────────────────┼────────┤\n",
       "│\u001b[2m \u001b[0m\u001b[2mDreamers are our loved ones, nurses, teachers, and small business     \u001b[0m\u001b[2m \u001b[0m│\u001b[2m \u001b[0m\u001b[2mHealthcare Initiatives       \u001b[0m\u001b[2m \u001b[0m│\u001b[2m \u001b[0m\u001b[2m7     \u001b[0m\u001b[2m \u001b[0m│\n",
       "│\u001b[2m \u001b[0m\u001b[2mowners – they deserve the promise of health care just like all of us. \u001b[0m\u001b[2m \u001b[0m│\u001b[2m                               \u001b[0m│\u001b[2m        \u001b[0m│\n",
       "│\u001b[2m \u001b[0m\u001b[2mToday, my Administration is making that real by expanding affordable  \u001b[0m\u001b[2m \u001b[0m│\u001b[2m                               \u001b[0m│\u001b[2m        \u001b[0m│\n",
       "│\u001b[2m \u001b[0m\u001b[2mhealth coverage through the Affordable Care Act to DACA recipients.   \u001b[0m\u001b[2m \u001b[0m│\u001b[2m                               \u001b[0m│\u001b[2m        \u001b[0m│\n",
       "├────────────────────────────────────────────────────────────────────────┼───────────────────────────────┼────────┤\n",
       "│\u001b[2m \u001b[0m\u001b[2mDreamers are our loved ones, nurses, teachers, and small business     \u001b[0m\u001b[2m \u001b[0m│\u001b[2m \u001b[0m\u001b[2mNational Messages            \u001b[0m\u001b[2m \u001b[0m│\u001b[2m \u001b[0m\u001b[2m8     \u001b[0m\u001b[2m \u001b[0m│\n",
       "│\u001b[2m \u001b[0m\u001b[2mowners – they deserve the promise of health care just like all of us. \u001b[0m\u001b[2m \u001b[0m│\u001b[2m                               \u001b[0m│\u001b[2m        \u001b[0m│\n",
       "│\u001b[2m \u001b[0m\u001b[2mToday, my Administration is making that real by expanding affordable  \u001b[0m\u001b[2m \u001b[0m│\u001b[2m                               \u001b[0m│\u001b[2m        \u001b[0m│\n",
       "│\u001b[2m \u001b[0m\u001b[2mhealth coverage through the Affordable Care Act to DACA recipients.   \u001b[0m\u001b[2m \u001b[0m│\u001b[2m                               \u001b[0m│\u001b[2m        \u001b[0m│\n",
       "├────────────────────────────────────────────────────────────────────────┼───────────────────────────────┼────────┤\n",
       "│\u001b[2m \u001b[0m\u001b[2mWith today’s report of 175,000 new jobs, the American comeback        \u001b[0m\u001b[2m \u001b[0m│\u001b[2m \u001b[0m\u001b[2mEconomic and Tax Plans       \u001b[0m\u001b[2m \u001b[0m│\u001b[2m \u001b[0m\u001b[2m3     \u001b[0m\u001b[2m \u001b[0m│\n",
       "│\u001b[2m \u001b[0m\u001b[2mcontinues. Congressional Republicans are fighting to cut taxes for    \u001b[0m\u001b[2m \u001b[0m│\u001b[2m                               \u001b[0m│\u001b[2m        \u001b[0m│\n",
       "│\u001b[2m \u001b[0m\u001b[2mbillionaires and let special interests rip folks off, I'm focused on  \u001b[0m\u001b[2m \u001b[0m│\u001b[2m                               \u001b[0m│\u001b[2m        \u001b[0m│\n",
       "│\u001b[2m \u001b[0m\u001b[2mjob creation and building an economy that works for the families I    \u001b[0m\u001b[2m \u001b[0m│\u001b[2m                               \u001b[0m│\u001b[2m        \u001b[0m│\n",
       "│\u001b[2m \u001b[0m\u001b[2mgrew up with.                                                         \u001b[0m\u001b[2m \u001b[0m│\u001b[2m                               \u001b[0m│\u001b[2m        \u001b[0m│\n",
       "├────────────────────────────────────────────────────────────────────────┼───────────────────────────────┼────────┤\n",
       "│\u001b[2m \u001b[0m\u001b[2mWith today’s report of 175,000 new jobs, the American comeback        \u001b[0m\u001b[2m \u001b[0m│\u001b[2m \u001b[0m\u001b[2mEmployment Growth            \u001b[0m\u001b[2m \u001b[0m│\u001b[2m \u001b[0m\u001b[2m2     \u001b[0m\u001b[2m \u001b[0m│\n",
       "│\u001b[2m \u001b[0m\u001b[2mcontinues. Congressional Republicans are fighting to cut taxes for    \u001b[0m\u001b[2m \u001b[0m│\u001b[2m                               \u001b[0m│\u001b[2m        \u001b[0m│\n",
       "│\u001b[2m \u001b[0m\u001b[2mbillionaires and let special interests rip folks off, I'm focused on  \u001b[0m\u001b[2m \u001b[0m│\u001b[2m                               \u001b[0m│\u001b[2m        \u001b[0m│\n",
       "│\u001b[2m \u001b[0m\u001b[2mjob creation and building an economy that works for the families I    \u001b[0m\u001b[2m \u001b[0m│\u001b[2m                               \u001b[0m│\u001b[2m        \u001b[0m│\n",
       "│\u001b[2m \u001b[0m\u001b[2mgrew up with.                                                         \u001b[0m\u001b[2m \u001b[0m│\u001b[2m                               \u001b[0m│\u001b[2m        \u001b[0m│\n",
       "├────────────────────────────────────────────────────────────────────────┼───────────────────────────────┼────────┤\n",
       "│\u001b[2m \u001b[0m\u001b[2mWith today’s report of 175,000 new jobs, the American comeback        \u001b[0m\u001b[2m \u001b[0m│\u001b[2m \u001b[0m\u001b[2mNational Messages            \u001b[0m\u001b[2m \u001b[0m│\u001b[2m \u001b[0m\u001b[2m3     \u001b[0m\u001b[2m \u001b[0m│\n",
       "│\u001b[2m \u001b[0m\u001b[2mcontinues. Congressional Republicans are fighting to cut taxes for    \u001b[0m\u001b[2m \u001b[0m│\u001b[2m                               \u001b[0m│\u001b[2m        \u001b[0m│\n",
       "│\u001b[2m \u001b[0m\u001b[2mbillionaires and let special interests rip folks off, I'm focused on  \u001b[0m\u001b[2m \u001b[0m│\u001b[2m                               \u001b[0m│\u001b[2m        \u001b[0m│\n",
       "│\u001b[2m \u001b[0m\u001b[2mjob creation and building an economy that works for the families I    \u001b[0m\u001b[2m \u001b[0m│\u001b[2m                               \u001b[0m│\u001b[2m        \u001b[0m│\n",
       "│\u001b[2m \u001b[0m\u001b[2mgrew up with.                                                         \u001b[0m\u001b[2m \u001b[0m│\u001b[2m                               \u001b[0m│\u001b[2m        \u001b[0m│\n",
       "└────────────────────────────────────────────────────────────────────────┴───────────────────────────────┴────────┘\n"
      ]
     },
     "metadata": {},
     "output_type": "display_data"
    }
   ],
   "source": [
    "(results\n",
    " .filter(\"int(score) > 0\")\n",
    " .select(\"text\", \"concept\", \"score\")\n",
    " .print(format=\"rich\")\n",
    ")"
   ]
  },
  {
   "cell_type": "markdown",
   "id": "e108e2aa-bdcb-4606-a8dc-5952ab12ccca",
   "metadata": {},
   "source": [
    "Please see our <a href=\"https://docs.expectedparrot.com/en/latest/index.html\">documentation page</a> for templates for other use cases and examples and <a href=\"https://discord.com/invite/mxAYkjfy9m\">join our Discord</a> to ask questions and chat with other researchers!"
   ]
  }
 ],
 "metadata": {
  "kernelspec": {
   "display_name": "Python 3 (ipykernel)",
   "language": "python",
   "name": "python3"
  },
  "language_info": {
   "codemirror_mode": {
    "name": "ipython",
    "version": 3
   },
   "file_extension": ".py",
   "mimetype": "text/x-python",
   "name": "python",
   "nbconvert_exporter": "python",
   "pygments_lexer": "ipython3",
   "version": "3.11.7"
  }
 },
 "nbformat": 4,
 "nbformat_minor": 5
}
