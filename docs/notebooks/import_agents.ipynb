{
 "cells": [
  {
   "cell_type": "markdown",
   "id": "dfa03b9e-9655-4c4f-a7e0-43cd5487b5e4",
   "metadata": {
    "editable": true,
    "slideshow": {
     "slide_type": ""
    },
    "tags": []
   },
   "source": [
    "# Importing agents\n",
    "This notebook provides sample EDSL code for simulating surveys with agent personas imported from [Persona Hub](https://github.com/tencent-ailab/persona-hub), an open-source repository provided by [Hugging Face](https://huggingface.co/datasets/proj-persona/PersonaHub).\n",
    "\n",
    "[EDSL](https://github.com/expectedparrot/edsl) is an open-source library for simulating surveys, experiments and other research with AI agents and large language models. \n",
    "Before running the code below, please ensure that you have [installed the EDSL library](https://docs.expectedparrot.com/en/latest/installation.html) and either [activated remote inference](https://docs.expectedparrot.com/en/latest/remote_inference.html) from your [Coop account](https://docs.expectedparrot.com/en/latest/coop.html) or [stored API keys](https://docs.expectedparrot.com/en/latest/api_keys.html) for the language models that you want to use with EDSL. Please also see our [documentation page](https://docs.expectedparrot.com/) for tips and tutorials on getting started using EDSL."
   ]
  },
  {
   "cell_type": "markdown",
   "id": "69f3f75c-6908-42d2-a78b-377e1f829c54",
   "metadata": {
    "editable": true,
    "slideshow": {
     "slide_type": ""
    },
    "tags": []
   },
   "source": [
    "### Importing the data\n",
    "Persona Hub: https://github.com/tencent-ailab/persona-hub"
   ]
  },
  {
   "cell_type": "code",
   "execution_count": 1,
   "id": "cb73e351-e150-4dbe-916e-98fcf2a6673f",
   "metadata": {
    "editable": true,
    "slideshow": {
     "slide_type": ""
    },
    "tags": []
   },
   "outputs": [],
   "source": [
    "from datasets import load_dataset\n",
    "\n",
    "ds = load_dataset(\"proj-persona/PersonaHub\", \"instruction\")"
   ]
  },
  {
   "cell_type": "markdown",
   "id": "a4f5cfeb-4944-4045-bf5d-bae52c65a980",
   "metadata": {
    "editable": true,
    "slideshow": {
     "slide_type": ""
    },
    "tags": []
   },
   "source": [
    "### Selecting data\n",
    "Here we select some personas to use."
   ]
  },
  {
   "cell_type": "code",
   "execution_count": 2,
   "id": "acc2abf9-bd3c-49a1-becb-f3c188f49e1b",
   "metadata": {
    "editable": true,
    "slideshow": {
     "slide_type": ""
    },
    "tags": []
   },
   "outputs": [
    {
     "data": {
      "text/plain": [
       "['A theater manager or events coordinator interested in understanding the operational aspects, facilities, and programming of performing arts centers, such as the Broward Center.',\n",
       " 'An urban planner looking to understand the distribution and organization of public services in the Halifax Regional Municipality.',\n",
       " \"A high school literature teacher looking for supplementary materials to enrich their curriculum and provide students with a deeper understanding of their state's cultural heritage.\",\n",
       " 'A science fiction writer, exploring the use of secret trials as a theme in stories that examine surveillance, privacy, and power dynamics in society.',\n",
       " 'A financial analyst specializing in Asian markets and wealthy individuals, interested in tracking the investments and philanthropic activities of billionaires like Gerald Chan.',\n",
       " 'A high school physics teacher who enjoys applying physics concepts to various sports, curious about the effects of water resistance and body positioning in Paralympic swimming.',\n",
       " 'A high school physical education teacher seeking to incorporate Paralympic history and achievements into the curriculum to inspire and educate students about inclusivity in sports.',\n",
       " 'A high school history teacher creating lesson plans on South American civilizations and their regional diversity.',\n",
       " 'A cultural anthropologist studying the representation and adaptation of traditional folklore in contemporary media, particularly in television and film.',\n",
       " 'A high school earth science teacher looking for real-world examples to explain climate zones, soil types, and human-environment interactions.']"
      ]
     },
     "execution_count": 2,
     "metadata": {},
     "output_type": "execute_result"
    }
   ],
   "source": [
    "num_agents = 10\n",
    "\n",
    "personas_list = ds['train']['input persona'][:num_agents]\n",
    "personas_list"
   ]
  },
  {
   "cell_type": "markdown",
   "id": "0588622b-c598-4314-9b14-a9e468fdbb5a",
   "metadata": {
    "editable": true,
    "slideshow": {
     "slide_type": ""
    },
    "tags": []
   },
   "source": [
    "### Creating agents\n",
    "We create an agent in EDSL by passing a dictionary of `traits` (such as a persona) to an `Agent` object.\n",
    "Here we use a method for generating a set of agents from a list of traits at once (a list of the personas).\n",
    "Learn more about [designing agents in EDSL](https://docs.expectedparrot.com/en/latest/agents.html)."
   ]
  },
  {
   "cell_type": "code",
   "execution_count": 3,
   "id": "9cd9b291-8c36-47b8-a0b4-534f5a9b827c",
   "metadata": {
    "editable": true,
    "slideshow": {
     "slide_type": ""
    },
    "tags": []
   },
   "outputs": [],
   "source": [
    "from edsl import AgentList\n",
    "\n",
    "agents = AgentList.from_list(\"persona\", personas_list)"
   ]
  },
  {
   "cell_type": "markdown",
   "id": "ce2457ba-2734-47de-bfd0-1cd8bb718aae",
   "metadata": {
    "editable": true,
    "slideshow": {
     "slide_type": ""
    },
    "tags": []
   },
   "source": [
    "### Using agents to answer a survey\n",
    "Here we construct some questions and administer them to the agents.\n",
    "EDSL comes with many [common question types](https://docs.expectedparrot.com/en/latest/questions.html) that we can choose from based on the form of the response that we want to get back from a model.\n",
    "Learn more about [constructing surveys](https://docs.expectedparrot.com/en/latest/surveys.html) with different question types, logic and rules."
   ]
  },
  {
   "cell_type": "code",
   "execution_count": 4,
   "id": "13366568-fba7-4479-ab57-577d5ebfd192",
   "metadata": {
    "editable": true,
    "slideshow": {
     "slide_type": ""
    },
    "tags": []
   },
   "outputs": [],
   "source": [
    "from edsl import QuestionMultipleChoice, QuestionLinearScale, Survey\n",
    "\n",
    "q1 = QuestionMultipleChoice(\n",
    "    question_name = \"preferred_mode_commute\",\n",
    "    question_text = \"What is your preferred mode of commuting to work?\",\n",
    "    question_options = [ \"Car\", \"Public transportation\", \"Bike\", \"Walk\", \"Work from home\", \"Other\" ] \n",
    ")\n",
    "\n",
    "q2 = QuestionLinearScale(\n",
    "    question_name = \"work_from_home\",\n",
    "    question_text = \"On a scale from 1 to 5, how easy is it for you to work from home?\",\n",
    "    question_options = [1,2,3,4,5],\n",
    "    option_labels = {1:\"Not at all easy\", 5:\"Very easy\"}\n",
    ")\n",
    "\n",
    "survey = Survey([q1, q2])"
   ]
  },
  {
   "cell_type": "markdown",
   "id": "1be8cc3b-76d0-4c69-b734-9243e58a98ab",
   "metadata": {
    "editable": true,
    "slideshow": {
     "slide_type": ""
    },
    "tags": []
   },
   "source": [
    "### Selecting language models\n",
    "EDSL works with many popular language models that we can select to generate the responses for the agents.\n",
    "\n",
    "To see a list of all services:"
   ]
  },
  {
   "cell_type": "code",
   "execution_count": 5,
   "id": "6f5cd071-1d7e-4e4c-8cf2-3b75a1e788a5",
   "metadata": {
    "editable": true,
    "slideshow": {
     "slide_type": ""
    },
    "tags": []
   },
   "outputs": [
    {
     "data": {
      "text/html": [
       "\n",
       "            <div style=\"max-height: 500px; overflow-y: auto;\">\n",
       "                <style type=\"text/css\">\n",
       "#T_4501a_row0_col0, #T_4501a_row0_col1, #T_4501a_row1_col0, #T_4501a_row1_col1, #T_4501a_row2_col0, #T_4501a_row2_col1, #T_4501a_row3_col0, #T_4501a_row3_col1, #T_4501a_row4_col0, #T_4501a_row4_col1, #T_4501a_row5_col0, #T_4501a_row5_col1, #T_4501a_row6_col0, #T_4501a_row6_col1, #T_4501a_row7_col0, #T_4501a_row7_col1, #T_4501a_row8_col0, #T_4501a_row8_col1, #T_4501a_row9_col0, #T_4501a_row9_col1, #T_4501a_row10_col0, #T_4501a_row10_col1, #T_4501a_row11_col0, #T_4501a_row11_col1 {\n",
       "  text-align: left;\n",
       "}\n",
       "</style>\n",
       "<table id=\"T_4501a\">\n",
       "  <thead>\n",
       "    <tr>\n",
       "      <th class=\"blank level0\" >&nbsp;</th>\n",
       "      <th id=\"T_4501a_level0_col0\" class=\"col_heading level0 col0\" >Service Name</th>\n",
       "      <th id=\"T_4501a_level0_col1\" class=\"col_heading level0 col1\" >Local key?</th>\n",
       "    </tr>\n",
       "  </thead>\n",
       "  <tbody>\n",
       "    <tr>\n",
       "      <th id=\"T_4501a_level0_row0\" class=\"row_heading level0 row0\" >0</th>\n",
       "      <td id=\"T_4501a_row0_col0\" class=\"data row0 col0\" >openai</td>\n",
       "      <td id=\"T_4501a_row0_col1\" class=\"data row0 col1\" > </td>\n",
       "    </tr>\n",
       "    <tr>\n",
       "      <th id=\"T_4501a_level0_row1\" class=\"row_heading level0 row1\" >1</th>\n",
       "      <td id=\"T_4501a_row1_col0\" class=\"data row1 col0\" >anthropic</td>\n",
       "      <td id=\"T_4501a_row1_col1\" class=\"data row1 col1\" > </td>\n",
       "    </tr>\n",
       "    <tr>\n",
       "      <th id=\"T_4501a_level0_row2\" class=\"row_heading level0 row2\" >2</th>\n",
       "      <td id=\"T_4501a_row2_col0\" class=\"data row2 col0\" >deep_infra</td>\n",
       "      <td id=\"T_4501a_row2_col1\" class=\"data row2 col1\" > </td>\n",
       "    </tr>\n",
       "    <tr>\n",
       "      <th id=\"T_4501a_level0_row3\" class=\"row_heading level0 row3\" >3</th>\n",
       "      <td id=\"T_4501a_row3_col0\" class=\"data row3 col0\" >google</td>\n",
       "      <td id=\"T_4501a_row3_col1\" class=\"data row3 col1\" >yes</td>\n",
       "    </tr>\n",
       "    <tr>\n",
       "      <th id=\"T_4501a_level0_row4\" class=\"row_heading level0 row4\" >4</th>\n",
       "      <td id=\"T_4501a_row4_col0\" class=\"data row4 col0\" >groq</td>\n",
       "      <td id=\"T_4501a_row4_col1\" class=\"data row4 col1\" > </td>\n",
       "    </tr>\n",
       "    <tr>\n",
       "      <th id=\"T_4501a_level0_row5\" class=\"row_heading level0 row5\" >5</th>\n",
       "      <td id=\"T_4501a_row5_col0\" class=\"data row5 col0\" >bedrock</td>\n",
       "      <td id=\"T_4501a_row5_col1\" class=\"data row5 col1\" > </td>\n",
       "    </tr>\n",
       "    <tr>\n",
       "      <th id=\"T_4501a_level0_row6\" class=\"row_heading level0 row6\" >6</th>\n",
       "      <td id=\"T_4501a_row6_col0\" class=\"data row6 col0\" >azure</td>\n",
       "      <td id=\"T_4501a_row6_col1\" class=\"data row6 col1\" > </td>\n",
       "    </tr>\n",
       "    <tr>\n",
       "      <th id=\"T_4501a_level0_row7\" class=\"row_heading level0 row7\" >7</th>\n",
       "      <td id=\"T_4501a_row7_col0\" class=\"data row7 col0\" >ollama</td>\n",
       "      <td id=\"T_4501a_row7_col1\" class=\"data row7 col1\" > </td>\n",
       "    </tr>\n",
       "    <tr>\n",
       "      <th id=\"T_4501a_level0_row8\" class=\"row_heading level0 row8\" >8</th>\n",
       "      <td id=\"T_4501a_row8_col0\" class=\"data row8 col0\" >test</td>\n",
       "      <td id=\"T_4501a_row8_col1\" class=\"data row8 col1\" >yes</td>\n",
       "    </tr>\n",
       "    <tr>\n",
       "      <th id=\"T_4501a_level0_row9\" class=\"row_heading level0 row9\" >9</th>\n",
       "      <td id=\"T_4501a_row9_col0\" class=\"data row9 col0\" >together</td>\n",
       "      <td id=\"T_4501a_row9_col1\" class=\"data row9 col1\" > </td>\n",
       "    </tr>\n",
       "    <tr>\n",
       "      <th id=\"T_4501a_level0_row10\" class=\"row_heading level0 row10\" >10</th>\n",
       "      <td id=\"T_4501a_row10_col0\" class=\"data row10 col0\" >perplexity</td>\n",
       "      <td id=\"T_4501a_row10_col1\" class=\"data row10 col1\" > </td>\n",
       "    </tr>\n",
       "    <tr>\n",
       "      <th id=\"T_4501a_level0_row11\" class=\"row_heading level0 row11\" >11</th>\n",
       "      <td id=\"T_4501a_row11_col0\" class=\"data row11 col0\" >mistral</td>\n",
       "      <td id=\"T_4501a_row11_col1\" class=\"data row11 col1\" > </td>\n",
       "    </tr>\n",
       "  </tbody>\n",
       "</table>\n",
       "\n",
       "            </div>\n",
       "            "
      ],
      "text/plain": [
       "PrettyList([('openai', ' '),\n",
       "            ('anthropic', ' '),\n",
       "            ('deep_infra', ' '),\n",
       "            ('google', 'yes'),\n",
       "            ('groq', ' '),\n",
       "            ('bedrock', ' '),\n",
       "            ('azure', ' '),\n",
       "            ('ollama', ' '),\n",
       "            ('test', 'yes'),\n",
       "            ('together', ' '),\n",
       "            ('perplexity', ' '),\n",
       "            ('mistral', ' ')])"
      ]
     },
     "execution_count": 5,
     "metadata": {},
     "output_type": "execute_result"
    }
   ],
   "source": [
    "from edsl import Model\n",
    "\n",
    "Model.services()"
   ]
  },
  {
   "cell_type": "markdown",
   "id": "00f093ed-3ba9-4aa5-a5d2-a9ae3b2e62b9",
   "metadata": {
    "editable": true,
    "slideshow": {
     "slide_type": ""
    },
    "tags": []
   },
   "source": [
    "To see a list of all available models:"
   ]
  },
  {
   "cell_type": "code",
   "execution_count": 6,
   "id": "f509e8a0-bbb9-4242-a836-6ad9246536ff",
   "metadata": {
    "editable": true,
    "slideshow": {
     "slide_type": ""
    },
    "tags": []
   },
   "outputs": [],
   "source": [
    "# Model.available()"
   ]
  },
  {
   "cell_type": "markdown",
   "id": "e306ddfb-8299-48d3-a1fa-b2c6c9c0eb5f",
   "metadata": {
    "editable": true,
    "slideshow": {
     "slide_type": ""
    },
    "tags": []
   },
   "source": [
    "To select models to use with a survey:"
   ]
  },
  {
   "cell_type": "code",
   "execution_count": 7,
   "id": "af431de0-bcfb-4f92-9b5d-8eb367987a5c",
   "metadata": {
    "editable": true,
    "slideshow": {
     "slide_type": ""
    },
    "tags": []
   },
   "outputs": [],
   "source": [
    "from edsl import ModelList, Model\n",
    "\n",
    "models = ModelList(\n",
    "    Model(m) for m in [\"gemini-1.5-flash\", \"gpt-4o\"]\n",
    ")"
   ]
  },
  {
   "cell_type": "markdown",
   "id": "6f6f7f72-fa28-403a-b652-d25ec83b683b",
   "metadata": {
    "editable": true,
    "slideshow": {
     "slide_type": ""
    },
    "tags": []
   },
   "source": [
    "We run a survey by adding the agents and models, and then calling the `run()` method.\n",
    "This generates a formatted dataset of `Results`:"
   ]
  },
  {
   "cell_type": "code",
   "execution_count": 8,
   "id": "69247b52-f8a2-4cb6-a9e0-e44d3429bb54",
   "metadata": {
    "editable": true,
    "slideshow": {
     "slide_type": ""
    },
    "tags": []
   },
   "outputs": [
    {
     "data": {
      "text/html": [
       "\n",
       "            <!-- #region Remove Inference Info -->\n",
       "            <div id=\"logger-90a122f7-efff-49a9-b710-bc790196a584\" class=\"job-logger\">\n",
       "                <div class=\"job-logger-header\">\n",
       "                    <span>\n",
       "                        <span id=\"arrow-90a122f7-efff-49a9-b710-bc790196a584\">▼</span> \n",
       "                        Job Status (2024-12-28 15:38:52)\n",
       "                    </span>\n",
       "                </div>\n",
       "                <div id=\"content-90a122f7-efff-49a9-b710-bc790196a584\" style=\"display: block;\">\n",
       "                    <table class=\"job-logger-table\">\n",
       "                        \n",
       "            <tr>\n",
       "                <td class=\"job-logger-cell job-logger-label\">Job UUID</td>\n",
       "                <td class=\"job-logger-cell job-logger-value\">b4c400b7-00e5-459e-b6e0-52be4cf4b768</td>\n",
       "            </tr>\n",
       "        \n",
       "            <tr>\n",
       "                <td class=\"job-logger-cell job-logger-label\">Progress Bar URL</td>\n",
       "                <td class=\"job-logger-cell job-logger-value\"><a href=\"https://www.expectedparrot.com/home/remote-job-progress/b4c400b7-00e5-459e-b6e0-52be4cf4b768\" target=\"_blank\" class=\"job-logger-link\">https://www.expectedparrot.com/home/remote-job-progress/b4c400b7-00e5-459e-b6e0-52be4cf4b768</a></td>\n",
       "            </tr>\n",
       "        \n",
       "            <tr>\n",
       "                <td class=\"job-logger-cell job-logger-label\">Error Report URL</td>\n",
       "                <td class=\"job-logger-cell job-logger-value\">None</td>\n",
       "            </tr>\n",
       "        \n",
       "            <tr>\n",
       "                <td class=\"job-logger-cell job-logger-label\">Results UUID</td>\n",
       "                <td class=\"job-logger-cell job-logger-value\">a27aed2d-3a12-498b-b8ed-4f535481cd2c</td>\n",
       "            </tr>\n",
       "        \n",
       "            <tr>\n",
       "                <td class=\"job-logger-cell job-logger-label\">Results URL</td>\n",
       "                <td class=\"job-logger-cell job-logger-value\">None</td>\n",
       "            </tr>\n",
       "        \n",
       "                    </table>\n",
       "                    \n",
       "                <div class=\"job-logger-status\">\n",
       "                    <span style=\"margin-right: 8px;\" class=\"job-logger-success\">✓</span><strong>Current Status:</strong> Job completed and Results stored on Coop: <a href=\"https://www.expectedparrot.com/content/a27aed2d-3a12-498b-b8ed-4f535481cd2c\" target=\"_blank\" class=\"job-logger-link\">https://www.expectedparrot.com/content/a27aed2d-3a12-498b-b8ed-4f535481cd2c</a>\n",
       "                </div>\n",
       "            \n",
       "                </div>\n",
       "            </div>\n",
       "            <!-- # endregion -->\n",
       "        "
      ],
      "text/plain": [
       "<IPython.core.display.HTML object>"
      ]
     },
     "metadata": {},
     "output_type": "display_data"
    },
    {
     "data": {
      "text/html": [
       "\n",
       "        <style>\n",
       "            /* Base theme variables */\n",
       "            :root {\n",
       "                --jl-bg-primary: #ffffff;\n",
       "                --jl-bg-secondary: #f5f5f5;\n",
       "                --jl-border-color: #e0e0e0;\n",
       "                --jl-text-primary: #24292e;\n",
       "                --jl-text-secondary: #586069;\n",
       "                --jl-link-color: #0366d6;\n",
       "                --jl-success-color: #28a745;\n",
       "                --jl-error-color: #d73a49;\n",
       "                --jl-header-bg: #f1f1f1;\n",
       "            }\n",
       "            \n",
       "            /* Dark theme variables */\n",
       "            .theme-dark {\n",
       "                --jl-bg-primary: #1e1e1e;\n",
       "                --jl-bg-secondary: #252526;\n",
       "                --jl-border-color: #2d2d2d;\n",
       "                --jl-text-primary: #cccccc;\n",
       "                --jl-text-secondary: #999999;\n",
       "                --jl-link-color: #4e94ce;\n",
       "                --jl-success-color: #89d185;\n",
       "                --jl-error-color: #f14c4c;\n",
       "                --jl-header-bg: #333333;\n",
       "            }\n",
       "\n",
       "            /* High contrast theme variables */\n",
       "            .theme-high-contrast {\n",
       "                --jl-bg-primary: #000000;\n",
       "                --jl-bg-secondary: #1a1a1a;\n",
       "                --jl-border-color: #404040;\n",
       "                --jl-text-primary: #ffffff;\n",
       "                --jl-text-secondary: #cccccc;\n",
       "                --jl-link-color: #66b3ff;\n",
       "                --jl-success-color: #00ff00;\n",
       "                --jl-error-color: #ff0000;\n",
       "                --jl-header-bg: #262626;\n",
       "            }\n",
       "            \n",
       "            .job-logger {\n",
       "                font-family: system-ui, -apple-system, sans-serif;\n",
       "                max-width: 800px;\n",
       "                margin: 10px 0;\n",
       "                color: var(--jl-text-primary);\n",
       "                box-shadow: 0 1px 3px rgba(0,0,0,0.12);\n",
       "                border-radius: 4px;\n",
       "                overflow: hidden;\n",
       "            }\n",
       "            \n",
       "            .job-logger-header {\n",
       "                padding: 12px 16px;\n",
       "                background: var(--jl-header-bg);\n",
       "                border: none;\n",
       "                border-radius: 4px 4px 0 0;\n",
       "                cursor: pointer;\n",
       "                color: var(--jl-text-primary);\n",
       "                user-select: none;\n",
       "                font-weight: 500;\n",
       "                letter-spacing: 0.3px;\n",
       "                display: flex;\n",
       "                justify-content: space-between;\n",
       "                align-items: center;\n",
       "            }\n",
       "            \n",
       "            .theme-select {\n",
       "                padding: 4px 8px;\n",
       "                border-radius: 4px;\n",
       "                border: 1px solid var(--jl-border-color);\n",
       "                background: var(--jl-bg-primary);\n",
       "                color: var(--jl-text-primary);\n",
       "                font-size: 0.9em;\n",
       "            }\n",
       "            \n",
       "            .job-logger-table {\n",
       "                width: 100%;\n",
       "                border-collapse: separate;\n",
       "                border-spacing: 0;\n",
       "                background: var(--jl-bg-primary);\n",
       "                border: 1px solid var(--jl-border-color);\n",
       "                margin-top: -1px;\n",
       "            }\n",
       "            \n",
       "            .job-logger-cell {\n",
       "                padding: 12px 16px;\n",
       "                border-bottom: 1px solid var(--jl-border-color);\n",
       "                line-height: 1.4;\n",
       "            }\n",
       "            \n",
       "            .job-logger-label {\n",
       "                font-weight: 500;\n",
       "                color: var(--jl-text-primary);\n",
       "                width: 25%;\n",
       "                background: var(--jl-bg-secondary);\n",
       "            }\n",
       "            \n",
       "            .job-logger-value {\n",
       "                color: var(--jl-text-secondary);\n",
       "                word-break: break-word;\n",
       "            }\n",
       "            \n",
       "            .job-logger-status {\n",
       "                margin: 0;\n",
       "                padding: 12px 16px;\n",
       "                background-color: var(--jl-bg-secondary);\n",
       "                border: 1px solid var(--jl-border-color);\n",
       "                border-top: none;\n",
       "                border-radius: 0 0 4px 4px;\n",
       "                color: var(--jl-text-primary);\n",
       "                font-size: 0.95em;\n",
       "            }\n",
       "        </style>\n",
       "        \n",
       "        <script>\n",
       "            class ThemeManager {\n",
       "                constructor(logId, initialTheme = 'auto') {\n",
       "                    this.logId = logId;\n",
       "                    this.currentTheme = initialTheme;\n",
       "                    this.darkModeMediaQuery = window.matchMedia('(prefers-color-scheme: dark)');\n",
       "                    this.init();\n",
       "                }\n",
       "                \n",
       "                init() {\n",
       "                    this.setupThemeSwitcher();\n",
       "                    this.updateTheme(this.currentTheme);\n",
       "                    \n",
       "                    this.darkModeMediaQuery.addListener(() => {\n",
       "                        if (this.currentTheme === 'auto') {\n",
       "                            this.updateTheme('auto');\n",
       "                        }\n",
       "                    });\n",
       "                }\n",
       "                \n",
       "                setupThemeSwitcher() {\n",
       "                    const logger = document.querySelector(`#logger-${this.logId}`);\n",
       "                    if (!logger) return;\n",
       "                    \n",
       "                    const switcher = document.createElement('div');\n",
       "                    switcher.className = 'theme-switcher';\n",
       "                    switcher.innerHTML = `\n",
       "                        <select id=\"theme-select-${this.logId}\" class=\"theme-select\">\n",
       "                            <option value=\"auto\">Auto</option>\n",
       "                            <option value=\"light\">Light</option>\n",
       "                            <option value=\"dark\">Dark</option>\n",
       "                            <option value=\"high-contrast\">High Contrast</option>\n",
       "                        </select>\n",
       "                    `;\n",
       "                    \n",
       "                    const header = logger.querySelector('.job-logger-header');\n",
       "                    header.appendChild(switcher);\n",
       "                    \n",
       "                    const select = switcher.querySelector('select');\n",
       "                    select.value = this.currentTheme;\n",
       "                    select.addEventListener('change', (e) => {\n",
       "                        this.updateTheme(e.target.value);\n",
       "                    });\n",
       "                }\n",
       "                \n",
       "                updateTheme(theme) {\n",
       "                    const logger = document.querySelector(`#logger-${this.logId}`);\n",
       "                    if (!logger) return;\n",
       "                    \n",
       "                    this.currentTheme = theme;\n",
       "                    \n",
       "                    logger.classList.remove('theme-light', 'theme-dark', 'theme-high-contrast');\n",
       "                    \n",
       "                    if (theme === 'auto') {\n",
       "                        const isDark = this.darkModeMediaQuery.matches;\n",
       "                        logger.classList.add(isDark ? 'theme-dark' : 'theme-light');\n",
       "                    } else {\n",
       "                        logger.classList.add(`theme-${theme}`);\n",
       "                    }\n",
       "                    \n",
       "                    try {\n",
       "                        localStorage.setItem('jobLoggerTheme', theme);\n",
       "                    } catch (e) {\n",
       "                        console.warn('Unable to save theme preference:', e);\n",
       "                    }\n",
       "                }\n",
       "            }\n",
       "            \n",
       "            window.initThemeManager = (logId, initialTheme) => {\n",
       "                new ThemeManager(logId, initialTheme);\n",
       "            };\n",
       "        </script>\n",
       "        \n",
       "        <script>\n",
       "            document.addEventListener('DOMContentLoaded', () => {\n",
       "                window.initThemeManager('90a122f7-efff-49a9-b710-bc790196a584', 'auto');\n",
       "            });\n",
       "        </script>\n",
       "        "
      ],
      "text/plain": [
       "<IPython.core.display.HTML object>"
      ]
     },
     "metadata": {},
     "output_type": "display_data"
    }
   ],
   "source": [
    "results = survey.by(agents).by(models).run()"
   ]
  },
  {
   "cell_type": "markdown",
   "id": "0dbbf5dc-fbf8-425f-b7e0-7546ef1957f2",
   "metadata": {
    "editable": true,
    "slideshow": {
     "slide_type": ""
    },
    "tags": []
   },
   "source": [
    "### Analyzing results\n",
    "EDSL comes with [built-in methods for analysis](https://docs.expectedparrot.com/en/latest/results.html).\n",
    "Here we inspect the responses in a table:"
   ]
  },
  {
   "cell_type": "code",
   "execution_count": 9,
   "id": "930a6316-7b15-4a9a-927f-514cd81ce859",
   "metadata": {
    "editable": true,
    "slideshow": {
     "slide_type": ""
    },
    "tags": []
   },
   "outputs": [
    {
     "data": {
      "text/html": [
       "\n",
       "            <div style=\"max-height: 500px; overflow-y: auto;\">\n",
       "                <style type=\"text/css\">\n",
       "#T_50946_row0_col0, #T_50946_row0_col1, #T_50946_row0_col2, #T_50946_row1_col0, #T_50946_row1_col1, #T_50946_row1_col2, #T_50946_row2_col0, #T_50946_row2_col1, #T_50946_row2_col2, #T_50946_row3_col0, #T_50946_row3_col1, #T_50946_row3_col2, #T_50946_row4_col0, #T_50946_row4_col1, #T_50946_row4_col2, #T_50946_row5_col0, #T_50946_row5_col1, #T_50946_row5_col2, #T_50946_row6_col0, #T_50946_row6_col1, #T_50946_row6_col2, #T_50946_row7_col0, #T_50946_row7_col1, #T_50946_row7_col2, #T_50946_row8_col0, #T_50946_row8_col1, #T_50946_row8_col2, #T_50946_row9_col0, #T_50946_row9_col1, #T_50946_row9_col2, #T_50946_row10_col0, #T_50946_row10_col1, #T_50946_row10_col2, #T_50946_row11_col0, #T_50946_row11_col1, #T_50946_row11_col2, #T_50946_row12_col0, #T_50946_row12_col1, #T_50946_row12_col2, #T_50946_row13_col0, #T_50946_row13_col1, #T_50946_row13_col2, #T_50946_row14_col0, #T_50946_row14_col1, #T_50946_row14_col2, #T_50946_row15_col0, #T_50946_row15_col1, #T_50946_row15_col2, #T_50946_row16_col0, #T_50946_row16_col1, #T_50946_row16_col2, #T_50946_row17_col0, #T_50946_row17_col1, #T_50946_row17_col2, #T_50946_row18_col0, #T_50946_row18_col1, #T_50946_row18_col2, #T_50946_row19_col0, #T_50946_row19_col1, #T_50946_row19_col2 {\n",
       "  text-align: left;\n",
       "}\n",
       "#T_50946_row0_col3, #T_50946_row12_col3, #T_50946_row13_col3 {\n",
       "  text-align: left;\n",
       "  background-color: #fff7fb;\n",
       "  color: #000000;\n",
       "}\n",
       "#T_50946_row1_col3, #T_50946_row4_col3, #T_50946_row19_col3 {\n",
       "  text-align: left;\n",
       "  background-color: #d0d1e6;\n",
       "  color: #000000;\n",
       "}\n",
       "#T_50946_row2_col3, #T_50946_row5_col3, #T_50946_row10_col3, #T_50946_row11_col3, #T_50946_row14_col3, #T_50946_row15_col3, #T_50946_row16_col3, #T_50946_row18_col3 {\n",
       "  text-align: left;\n",
       "  background-color: #73a9cf;\n",
       "  color: #f1f1f1;\n",
       "}\n",
       "#T_50946_row3_col3, #T_50946_row7_col3 {\n",
       "  text-align: left;\n",
       "  background-color: #023858;\n",
       "  color: #f1f1f1;\n",
       "}\n",
       "#T_50946_row6_col3, #T_50946_row8_col3, #T_50946_row9_col3, #T_50946_row17_col3 {\n",
       "  text-align: left;\n",
       "  background-color: #056faf;\n",
       "  color: #f1f1f1;\n",
       "}\n",
       "</style>\n",
       "<table id=\"T_50946\">\n",
       "  <thead>\n",
       "    <tr>\n",
       "      <th class=\"blank level0\" >&nbsp;</th>\n",
       "      <th id=\"T_50946_level0_col0\" class=\"col_heading level0 col0\" >model.model</th>\n",
       "      <th id=\"T_50946_level0_col1\" class=\"col_heading level0 col1\" >agent.persona</th>\n",
       "      <th id=\"T_50946_level0_col2\" class=\"col_heading level0 col2\" >answer.preferred_mode_commute</th>\n",
       "      <th id=\"T_50946_level0_col3\" class=\"col_heading level0 col3\" >answer.work_from_home</th>\n",
       "    </tr>\n",
       "  </thead>\n",
       "  <tbody>\n",
       "    <tr>\n",
       "      <th id=\"T_50946_level0_row0\" class=\"row_heading level0 row0\" >0</th>\n",
       "      <td id=\"T_50946_row0_col0\" class=\"data row0 col0\" >gemini-1.5-flash</td>\n",
       "      <td id=\"T_50946_row0_col1\" class=\"data row0 col1\" >A theater manager or events coordinator interested in understanding the operational aspects, facilities, and programming of performing arts centers, such as the Broward Center.</td>\n",
       "      <td id=\"T_50946_row0_col2\" class=\"data row0 col2\" >Car</td>\n",
       "      <td id=\"T_50946_row0_col3\" class=\"data row0 col3\" >1</td>\n",
       "    </tr>\n",
       "    <tr>\n",
       "      <th id=\"T_50946_level0_row1\" class=\"row_heading level0 row1\" >1</th>\n",
       "      <td id=\"T_50946_row1_col0\" class=\"data row1 col0\" >gpt-4o</td>\n",
       "      <td id=\"T_50946_row1_col1\" class=\"data row1 col1\" >A theater manager or events coordinator interested in understanding the operational aspects, facilities, and programming of performing arts centers, such as the Broward Center.</td>\n",
       "      <td id=\"T_50946_row1_col2\" class=\"data row1 col2\" >Car</td>\n",
       "      <td id=\"T_50946_row1_col3\" class=\"data row1 col3\" >2</td>\n",
       "    </tr>\n",
       "    <tr>\n",
       "      <th id=\"T_50946_level0_row2\" class=\"row_heading level0 row2\" >2</th>\n",
       "      <td id=\"T_50946_row2_col0\" class=\"data row2 col0\" >gemini-1.5-flash</td>\n",
       "      <td id=\"T_50946_row2_col1\" class=\"data row2 col1\" >An urban planner looking to understand the distribution and organization of public services in the Halifax Regional Municipality.</td>\n",
       "      <td id=\"T_50946_row2_col2\" class=\"data row2 col2\" >Public transportation</td>\n",
       "      <td id=\"T_50946_row2_col3\" class=\"data row2 col3\" >3</td>\n",
       "    </tr>\n",
       "    <tr>\n",
       "      <th id=\"T_50946_level0_row3\" class=\"row_heading level0 row3\" >3</th>\n",
       "      <td id=\"T_50946_row3_col0\" class=\"data row3 col0\" >gpt-4o</td>\n",
       "      <td id=\"T_50946_row3_col1\" class=\"data row3 col1\" >An urban planner looking to understand the distribution and organization of public services in the Halifax Regional Municipality.</td>\n",
       "      <td id=\"T_50946_row3_col2\" class=\"data row3 col2\" >Public transportation</td>\n",
       "      <td id=\"T_50946_row3_col3\" class=\"data row3 col3\" >5</td>\n",
       "    </tr>\n",
       "    <tr>\n",
       "      <th id=\"T_50946_level0_row4\" class=\"row_heading level0 row4\" >4</th>\n",
       "      <td id=\"T_50946_row4_col0\" class=\"data row4 col0\" >gemini-1.5-flash</td>\n",
       "      <td id=\"T_50946_row4_col1\" class=\"data row4 col1\" >A high school literature teacher looking for supplementary materials to enrich their curriculum and provide students with a deeper understanding of their state's cultural heritage.</td>\n",
       "      <td id=\"T_50946_row4_col2\" class=\"data row4 col2\" >Car</td>\n",
       "      <td id=\"T_50946_row4_col3\" class=\"data row4 col3\" >2</td>\n",
       "    </tr>\n",
       "    <tr>\n",
       "      <th id=\"T_50946_level0_row5\" class=\"row_heading level0 row5\" >5</th>\n",
       "      <td id=\"T_50946_row5_col0\" class=\"data row5 col0\" >gpt-4o</td>\n",
       "      <td id=\"T_50946_row5_col1\" class=\"data row5 col1\" >A high school literature teacher looking for supplementary materials to enrich their curriculum and provide students with a deeper understanding of their state's cultural heritage.</td>\n",
       "      <td id=\"T_50946_row5_col2\" class=\"data row5 col2\" >Car</td>\n",
       "      <td id=\"T_50946_row5_col3\" class=\"data row5 col3\" >3</td>\n",
       "    </tr>\n",
       "    <tr>\n",
       "      <th id=\"T_50946_level0_row6\" class=\"row_heading level0 row6\" >6</th>\n",
       "      <td id=\"T_50946_row6_col0\" class=\"data row6 col0\" >gemini-1.5-flash</td>\n",
       "      <td id=\"T_50946_row6_col1\" class=\"data row6 col1\" >A science fiction writer, exploring the use of secret trials as a theme in stories that examine surveillance, privacy, and power dynamics in society.</td>\n",
       "      <td id=\"T_50946_row6_col2\" class=\"data row6 col2\" >Work from home</td>\n",
       "      <td id=\"T_50946_row6_col3\" class=\"data row6 col3\" >4</td>\n",
       "    </tr>\n",
       "    <tr>\n",
       "      <th id=\"T_50946_level0_row7\" class=\"row_heading level0 row7\" >7</th>\n",
       "      <td id=\"T_50946_row7_col0\" class=\"data row7 col0\" >gpt-4o</td>\n",
       "      <td id=\"T_50946_row7_col1\" class=\"data row7 col1\" >A science fiction writer, exploring the use of secret trials as a theme in stories that examine surveillance, privacy, and power dynamics in society.</td>\n",
       "      <td id=\"T_50946_row7_col2\" class=\"data row7 col2\" >Work from home</td>\n",
       "      <td id=\"T_50946_row7_col3\" class=\"data row7 col3\" >5</td>\n",
       "    </tr>\n",
       "    <tr>\n",
       "      <th id=\"T_50946_level0_row8\" class=\"row_heading level0 row8\" >8</th>\n",
       "      <td id=\"T_50946_row8_col0\" class=\"data row8 col0\" >gemini-1.5-flash</td>\n",
       "      <td id=\"T_50946_row8_col1\" class=\"data row8 col1\" >A financial analyst specializing in Asian markets and wealthy individuals, interested in tracking the investments and philanthropic activities of billionaires like Gerald Chan.</td>\n",
       "      <td id=\"T_50946_row8_col2\" class=\"data row8 col2\" >Work from home</td>\n",
       "      <td id=\"T_50946_row8_col3\" class=\"data row8 col3\" >4</td>\n",
       "    </tr>\n",
       "    <tr>\n",
       "      <th id=\"T_50946_level0_row9\" class=\"row_heading level0 row9\" >9</th>\n",
       "      <td id=\"T_50946_row9_col0\" class=\"data row9 col0\" >gpt-4o</td>\n",
       "      <td id=\"T_50946_row9_col1\" class=\"data row9 col1\" >A financial analyst specializing in Asian markets and wealthy individuals, interested in tracking the investments and philanthropic activities of billionaires like Gerald Chan.</td>\n",
       "      <td id=\"T_50946_row9_col2\" class=\"data row9 col2\" >Work from home</td>\n",
       "      <td id=\"T_50946_row9_col3\" class=\"data row9 col3\" >4</td>\n",
       "    </tr>\n",
       "    <tr>\n",
       "      <th id=\"T_50946_level0_row10\" class=\"row_heading level0 row10\" >10</th>\n",
       "      <td id=\"T_50946_row10_col0\" class=\"data row10 col0\" >gemini-1.5-flash</td>\n",
       "      <td id=\"T_50946_row10_col1\" class=\"data row10 col1\" >A high school physics teacher who enjoys applying physics concepts to various sports, curious about the effects of water resistance and body positioning in Paralympic swimming.</td>\n",
       "      <td id=\"T_50946_row10_col2\" class=\"data row10 col2\" >Bike</td>\n",
       "      <td id=\"T_50946_row10_col3\" class=\"data row10 col3\" >3</td>\n",
       "    </tr>\n",
       "    <tr>\n",
       "      <th id=\"T_50946_level0_row11\" class=\"row_heading level0 row11\" >11</th>\n",
       "      <td id=\"T_50946_row11_col0\" class=\"data row11 col0\" >gpt-4o</td>\n",
       "      <td id=\"T_50946_row11_col1\" class=\"data row11 col1\" >A high school physics teacher who enjoys applying physics concepts to various sports, curious about the effects of water resistance and body positioning in Paralympic swimming.</td>\n",
       "      <td id=\"T_50946_row11_col2\" class=\"data row11 col2\" >Bike</td>\n",
       "      <td id=\"T_50946_row11_col3\" class=\"data row11 col3\" >3</td>\n",
       "    </tr>\n",
       "    <tr>\n",
       "      <th id=\"T_50946_level0_row12\" class=\"row_heading level0 row12\" >12</th>\n",
       "      <td id=\"T_50946_row12_col0\" class=\"data row12 col0\" >gemini-1.5-flash</td>\n",
       "      <td id=\"T_50946_row12_col1\" class=\"data row12 col1\" >A high school physical education teacher seeking to incorporate Paralympic history and achievements into the curriculum to inspire and educate students about inclusivity in sports.</td>\n",
       "      <td id=\"T_50946_row12_col2\" class=\"data row12 col2\" >Bike</td>\n",
       "      <td id=\"T_50946_row12_col3\" class=\"data row12 col3\" >1</td>\n",
       "    </tr>\n",
       "    <tr>\n",
       "      <th id=\"T_50946_level0_row13\" class=\"row_heading level0 row13\" >13</th>\n",
       "      <td id=\"T_50946_row13_col0\" class=\"data row13 col0\" >gpt-4o</td>\n",
       "      <td id=\"T_50946_row13_col1\" class=\"data row13 col1\" >A high school physical education teacher seeking to incorporate Paralympic history and achievements into the curriculum to inspire and educate students about inclusivity in sports.</td>\n",
       "      <td id=\"T_50946_row13_col2\" class=\"data row13 col2\" >Bike</td>\n",
       "      <td id=\"T_50946_row13_col3\" class=\"data row13 col3\" >1</td>\n",
       "    </tr>\n",
       "    <tr>\n",
       "      <th id=\"T_50946_level0_row14\" class=\"row_heading level0 row14\" >14</th>\n",
       "      <td id=\"T_50946_row14_col0\" class=\"data row14 col0\" >gemini-1.5-flash</td>\n",
       "      <td id=\"T_50946_row14_col1\" class=\"data row14 col1\" >A high school history teacher creating lesson plans on South American civilizations and their regional diversity.</td>\n",
       "      <td id=\"T_50946_row14_col2\" class=\"data row14 col2\" >Car</td>\n",
       "      <td id=\"T_50946_row14_col3\" class=\"data row14 col3\" >3</td>\n",
       "    </tr>\n",
       "    <tr>\n",
       "      <th id=\"T_50946_level0_row15\" class=\"row_heading level0 row15\" >15</th>\n",
       "      <td id=\"T_50946_row15_col0\" class=\"data row15 col0\" >gpt-4o</td>\n",
       "      <td id=\"T_50946_row15_col1\" class=\"data row15 col1\" >A high school history teacher creating lesson plans on South American civilizations and their regional diversity.</td>\n",
       "      <td id=\"T_50946_row15_col2\" class=\"data row15 col2\" >Car</td>\n",
       "      <td id=\"T_50946_row15_col3\" class=\"data row15 col3\" >3</td>\n",
       "    </tr>\n",
       "    <tr>\n",
       "      <th id=\"T_50946_level0_row16\" class=\"row_heading level0 row16\" >16</th>\n",
       "      <td id=\"T_50946_row16_col0\" class=\"data row16 col0\" >gemini-1.5-flash</td>\n",
       "      <td id=\"T_50946_row16_col1\" class=\"data row16 col1\" >A cultural anthropologist studying the representation and adaptation of traditional folklore in contemporary media, particularly in television and film.</td>\n",
       "      <td id=\"T_50946_row16_col2\" class=\"data row16 col2\" >Work from home</td>\n",
       "      <td id=\"T_50946_row16_col3\" class=\"data row16 col3\" >3</td>\n",
       "    </tr>\n",
       "    <tr>\n",
       "      <th id=\"T_50946_level0_row17\" class=\"row_heading level0 row17\" >17</th>\n",
       "      <td id=\"T_50946_row17_col0\" class=\"data row17 col0\" >gpt-4o</td>\n",
       "      <td id=\"T_50946_row17_col1\" class=\"data row17 col1\" >A cultural anthropologist studying the representation and adaptation of traditional folklore in contemporary media, particularly in television and film.</td>\n",
       "      <td id=\"T_50946_row17_col2\" class=\"data row17 col2\" >Work from home</td>\n",
       "      <td id=\"T_50946_row17_col3\" class=\"data row17 col3\" >4</td>\n",
       "    </tr>\n",
       "    <tr>\n",
       "      <th id=\"T_50946_level0_row18\" class=\"row_heading level0 row18\" >18</th>\n",
       "      <td id=\"T_50946_row18_col0\" class=\"data row18 col0\" >gemini-1.5-flash</td>\n",
       "      <td id=\"T_50946_row18_col1\" class=\"data row18 col1\" >A high school earth science teacher looking for real-world examples to explain climate zones, soil types, and human-environment interactions.</td>\n",
       "      <td id=\"T_50946_row18_col2\" class=\"data row18 col2\" >Car</td>\n",
       "      <td id=\"T_50946_row18_col3\" class=\"data row18 col3\" >3</td>\n",
       "    </tr>\n",
       "    <tr>\n",
       "      <th id=\"T_50946_level0_row19\" class=\"row_heading level0 row19\" >19</th>\n",
       "      <td id=\"T_50946_row19_col0\" class=\"data row19 col0\" >gpt-4o</td>\n",
       "      <td id=\"T_50946_row19_col1\" class=\"data row19 col1\" >A high school earth science teacher looking for real-world examples to explain climate zones, soil types, and human-environment interactions.</td>\n",
       "      <td id=\"T_50946_row19_col2\" class=\"data row19 col2\" >Car</td>\n",
       "      <td id=\"T_50946_row19_col3\" class=\"data row19 col3\" >2</td>\n",
       "    </tr>\n",
       "  </tbody>\n",
       "</table>\n",
       "\n",
       "            </div>\n",
       "            "
      ],
      "text/plain": [
       "Dataset([{'model.model': ['gemini-1.5-flash', 'gpt-4o', 'gemini-1.5-flash', 'gpt-4o', 'gemini-1.5-flash', 'gpt-4o', 'gemini-1.5-flash', 'gpt-4o', 'gemini-1.5-flash', 'gpt-4o', 'gemini-1.5-flash', 'gpt-4o', 'gemini-1.5-flash', 'gpt-4o', 'gemini-1.5-flash', 'gpt-4o', 'gemini-1.5-flash', 'gpt-4o', 'gemini-1.5-flash', 'gpt-4o']}, {'agent.persona': ['A theater manager or events coordinator interested in understanding the operational aspects, facilities, and programming of performing arts centers, such as the Broward Center.', 'A theater manager or events coordinator interested in understanding the operational aspects, facilities, and programming of performing arts centers, such as the Broward Center.', 'An urban planner looking to understand the distribution and organization of public services in the Halifax Regional Municipality.', 'An urban planner looking to understand the distribution and organization of public services in the Halifax Regional Municipality.', \"A high school literature teacher looking for supplementary materials to enrich their curriculum and provide students with a deeper understanding of their state's cultural heritage.\", \"A high school literature teacher looking for supplementary materials to enrich their curriculum and provide students with a deeper understanding of their state's cultural heritage.\", 'A science fiction writer, exploring the use of secret trials as a theme in stories that examine surveillance, privacy, and power dynamics in society.', 'A science fiction writer, exploring the use of secret trials as a theme in stories that examine surveillance, privacy, and power dynamics in society.', 'A financial analyst specializing in Asian markets and wealthy individuals, interested in tracking the investments and philanthropic activities of billionaires like Gerald Chan.', 'A financial analyst specializing in Asian markets and wealthy individuals, interested in tracking the investments and philanthropic activities of billionaires like Gerald Chan.', 'A high school physics teacher who enjoys applying physics concepts to various sports, curious about the effects of water resistance and body positioning in Paralympic swimming.', 'A high school physics teacher who enjoys applying physics concepts to various sports, curious about the effects of water resistance and body positioning in Paralympic swimming.', 'A high school physical education teacher seeking to incorporate Paralympic history and achievements into the curriculum to inspire and educate students about inclusivity in sports.', 'A high school physical education teacher seeking to incorporate Paralympic history and achievements into the curriculum to inspire and educate students about inclusivity in sports.', 'A high school history teacher creating lesson plans on South American civilizations and their regional diversity.', 'A high school history teacher creating lesson plans on South American civilizations and their regional diversity.', 'A cultural anthropologist studying the representation and adaptation of traditional folklore in contemporary media, particularly in television and film.', 'A cultural anthropologist studying the representation and adaptation of traditional folklore in contemporary media, particularly in television and film.', 'A high school earth science teacher looking for real-world examples to explain climate zones, soil types, and human-environment interactions.', 'A high school earth science teacher looking for real-world examples to explain climate zones, soil types, and human-environment interactions.']}, {'answer.preferred_mode_commute': ['Car', 'Car', 'Public transportation', 'Public transportation', 'Car', 'Car', 'Work from home', 'Work from home', 'Work from home', 'Work from home', 'Bike', 'Bike', 'Bike', 'Bike', 'Car', 'Car', 'Work from home', 'Work from home', 'Car', 'Car']}, {'answer.work_from_home': [1, 2, 3, 5, 2, 3, 4, 5, 4, 4, 3, 3, 1, 1, 3, 3, 3, 4, 3, 2]}])"
      ]
     },
     "execution_count": 9,
     "metadata": {},
     "output_type": "execute_result"
    }
   ],
   "source": [
    "results.select(\"model\", \"persona\", \"preferred_mode_commute\", \"work_from_home\")"
   ]
  },
  {
   "cell_type": "markdown",
   "id": "e2fc6367-9370-450e-a6b7-b15f6907bfb2",
   "metadata": {
    "editable": true,
    "slideshow": {
     "slide_type": ""
    },
    "tags": []
   },
   "source": [
    "### Constructing traits\n",
    "In comparing model responses it can be convenient to include shortnames for traits in addition to narrative personas--e.g., just the name of the agent's occupation, age, etc. Here we run a question to extract the occupation from each persona in order to store it as a separate `trait` of each agent. We use `Scenario` objects to represent the data (personas) that we add to the question when we run it. [Learn more about using scenarios](https://docs.expectedparrot.com/en/latest/scenarios.html) to parameterize questions with data and context."
   ]
  },
  {
   "cell_type": "code",
   "execution_count": 10,
   "id": "ae397e67-ed35-4f5d-9d58-20e89b1151f8",
   "metadata": {
    "editable": true,
    "slideshow": {
     "slide_type": ""
    },
    "tags": []
   },
   "outputs": [],
   "source": [
    "from edsl import QuestionExtract\n",
    "\n",
    "q = QuestionExtract(\n",
    "    question_name = \"occupation\",\n",
    "    question_text = \"{{ persona }}\",\n",
    "    answer_template = {\"occupation\":\"artist\"} \n",
    ")"
   ]
  },
  {
   "cell_type": "markdown",
   "id": "9fbc2fbe-64c7-4dec-8a7d-5f7ded6c960b",
   "metadata": {
    "editable": true,
    "slideshow": {
     "slide_type": ""
    },
    "tags": []
   },
   "source": [
    "Creating scenarios for the personas in order to add them to the question:"
   ]
  },
  {
   "cell_type": "code",
   "execution_count": 11,
   "id": "5728dcf0-49da-45a0-b892-05f48b63efb5",
   "metadata": {
    "editable": true,
    "slideshow": {
     "slide_type": ""
    },
    "tags": []
   },
   "outputs": [],
   "source": [
    "from edsl import ScenarioList\n",
    "\n",
    "scenarios = ScenarioList.from_list(\"persona\", personas_list)"
   ]
  },
  {
   "cell_type": "code",
   "execution_count": 12,
   "id": "4cf7023f-6ab8-4c1e-b1af-1a311ac8c3dd",
   "metadata": {
    "editable": true,
    "slideshow": {
     "slide_type": ""
    },
    "tags": []
   },
   "outputs": [
    {
     "data": {
      "text/html": [
       "\n",
       "            <!-- #region Remove Inference Info -->\n",
       "            <div id=\"logger-278d3a4a-b183-45b8-8e91-382a5f62360b\" class=\"job-logger\">\n",
       "                <div class=\"job-logger-header\">\n",
       "                    <span>\n",
       "                        <span id=\"arrow-278d3a4a-b183-45b8-8e91-382a5f62360b\">▼</span> \n",
       "                        Job Status (2024-12-28 15:39:07)\n",
       "                    </span>\n",
       "                </div>\n",
       "                <div id=\"content-278d3a4a-b183-45b8-8e91-382a5f62360b\" style=\"display: block;\">\n",
       "                    <table class=\"job-logger-table\">\n",
       "                        \n",
       "            <tr>\n",
       "                <td class=\"job-logger-cell job-logger-label\">Job UUID</td>\n",
       "                <td class=\"job-logger-cell job-logger-value\">858fc593-e0ce-4d62-96ca-e677308bba90</td>\n",
       "            </tr>\n",
       "        \n",
       "            <tr>\n",
       "                <td class=\"job-logger-cell job-logger-label\">Progress Bar URL</td>\n",
       "                <td class=\"job-logger-cell job-logger-value\"><a href=\"https://www.expectedparrot.com/home/remote-job-progress/858fc593-e0ce-4d62-96ca-e677308bba90\" target=\"_blank\" class=\"job-logger-link\">https://www.expectedparrot.com/home/remote-job-progress/858fc593-e0ce-4d62-96ca-e677308bba90</a></td>\n",
       "            </tr>\n",
       "        \n",
       "            <tr>\n",
       "                <td class=\"job-logger-cell job-logger-label\">Error Report URL</td>\n",
       "                <td class=\"job-logger-cell job-logger-value\">None</td>\n",
       "            </tr>\n",
       "        \n",
       "            <tr>\n",
       "                <td class=\"job-logger-cell job-logger-label\">Results UUID</td>\n",
       "                <td class=\"job-logger-cell job-logger-value\">af4fa01b-48b1-43ee-a366-d4524dba8fc8</td>\n",
       "            </tr>\n",
       "        \n",
       "            <tr>\n",
       "                <td class=\"job-logger-cell job-logger-label\">Results URL</td>\n",
       "                <td class=\"job-logger-cell job-logger-value\">None</td>\n",
       "            </tr>\n",
       "        \n",
       "                    </table>\n",
       "                    \n",
       "                <div class=\"job-logger-status\">\n",
       "                    <span style=\"margin-right: 8px;\" class=\"job-logger-success\">✓</span><strong>Current Status:</strong> Job completed and Results stored on Coop: <a href=\"https://www.expectedparrot.com/content/af4fa01b-48b1-43ee-a366-d4524dba8fc8\" target=\"_blank\" class=\"job-logger-link\">https://www.expectedparrot.com/content/af4fa01b-48b1-43ee-a366-d4524dba8fc8</a>\n",
       "                </div>\n",
       "            \n",
       "                </div>\n",
       "            </div>\n",
       "            <!-- # endregion -->\n",
       "        "
      ],
      "text/plain": [
       "<IPython.core.display.HTML object>"
      ]
     },
     "metadata": {},
     "output_type": "display_data"
    },
    {
     "data": {
      "text/html": [
       "\n",
       "        <style>\n",
       "            /* Base theme variables */\n",
       "            :root {\n",
       "                --jl-bg-primary: #ffffff;\n",
       "                --jl-bg-secondary: #f5f5f5;\n",
       "                --jl-border-color: #e0e0e0;\n",
       "                --jl-text-primary: #24292e;\n",
       "                --jl-text-secondary: #586069;\n",
       "                --jl-link-color: #0366d6;\n",
       "                --jl-success-color: #28a745;\n",
       "                --jl-error-color: #d73a49;\n",
       "                --jl-header-bg: #f1f1f1;\n",
       "            }\n",
       "            \n",
       "            /* Dark theme variables */\n",
       "            .theme-dark {\n",
       "                --jl-bg-primary: #1e1e1e;\n",
       "                --jl-bg-secondary: #252526;\n",
       "                --jl-border-color: #2d2d2d;\n",
       "                --jl-text-primary: #cccccc;\n",
       "                --jl-text-secondary: #999999;\n",
       "                --jl-link-color: #4e94ce;\n",
       "                --jl-success-color: #89d185;\n",
       "                --jl-error-color: #f14c4c;\n",
       "                --jl-header-bg: #333333;\n",
       "            }\n",
       "\n",
       "            /* High contrast theme variables */\n",
       "            .theme-high-contrast {\n",
       "                --jl-bg-primary: #000000;\n",
       "                --jl-bg-secondary: #1a1a1a;\n",
       "                --jl-border-color: #404040;\n",
       "                --jl-text-primary: #ffffff;\n",
       "                --jl-text-secondary: #cccccc;\n",
       "                --jl-link-color: #66b3ff;\n",
       "                --jl-success-color: #00ff00;\n",
       "                --jl-error-color: #ff0000;\n",
       "                --jl-header-bg: #262626;\n",
       "            }\n",
       "            \n",
       "            .job-logger {\n",
       "                font-family: system-ui, -apple-system, sans-serif;\n",
       "                max-width: 800px;\n",
       "                margin: 10px 0;\n",
       "                color: var(--jl-text-primary);\n",
       "                box-shadow: 0 1px 3px rgba(0,0,0,0.12);\n",
       "                border-radius: 4px;\n",
       "                overflow: hidden;\n",
       "            }\n",
       "            \n",
       "            .job-logger-header {\n",
       "                padding: 12px 16px;\n",
       "                background: var(--jl-header-bg);\n",
       "                border: none;\n",
       "                border-radius: 4px 4px 0 0;\n",
       "                cursor: pointer;\n",
       "                color: var(--jl-text-primary);\n",
       "                user-select: none;\n",
       "                font-weight: 500;\n",
       "                letter-spacing: 0.3px;\n",
       "                display: flex;\n",
       "                justify-content: space-between;\n",
       "                align-items: center;\n",
       "            }\n",
       "            \n",
       "            .theme-select {\n",
       "                padding: 4px 8px;\n",
       "                border-radius: 4px;\n",
       "                border: 1px solid var(--jl-border-color);\n",
       "                background: var(--jl-bg-primary);\n",
       "                color: var(--jl-text-primary);\n",
       "                font-size: 0.9em;\n",
       "            }\n",
       "            \n",
       "            .job-logger-table {\n",
       "                width: 100%;\n",
       "                border-collapse: separate;\n",
       "                border-spacing: 0;\n",
       "                background: var(--jl-bg-primary);\n",
       "                border: 1px solid var(--jl-border-color);\n",
       "                margin-top: -1px;\n",
       "            }\n",
       "            \n",
       "            .job-logger-cell {\n",
       "                padding: 12px 16px;\n",
       "                border-bottom: 1px solid var(--jl-border-color);\n",
       "                line-height: 1.4;\n",
       "            }\n",
       "            \n",
       "            .job-logger-label {\n",
       "                font-weight: 500;\n",
       "                color: var(--jl-text-primary);\n",
       "                width: 25%;\n",
       "                background: var(--jl-bg-secondary);\n",
       "            }\n",
       "            \n",
       "            .job-logger-value {\n",
       "                color: var(--jl-text-secondary);\n",
       "                word-break: break-word;\n",
       "            }\n",
       "            \n",
       "            .job-logger-status {\n",
       "                margin: 0;\n",
       "                padding: 12px 16px;\n",
       "                background-color: var(--jl-bg-secondary);\n",
       "                border: 1px solid var(--jl-border-color);\n",
       "                border-top: none;\n",
       "                border-radius: 0 0 4px 4px;\n",
       "                color: var(--jl-text-primary);\n",
       "                font-size: 0.95em;\n",
       "            }\n",
       "        </style>\n",
       "        \n",
       "        <script>\n",
       "            class ThemeManager {\n",
       "                constructor(logId, initialTheme = 'auto') {\n",
       "                    this.logId = logId;\n",
       "                    this.currentTheme = initialTheme;\n",
       "                    this.darkModeMediaQuery = window.matchMedia('(prefers-color-scheme: dark)');\n",
       "                    this.init();\n",
       "                }\n",
       "                \n",
       "                init() {\n",
       "                    this.setupThemeSwitcher();\n",
       "                    this.updateTheme(this.currentTheme);\n",
       "                    \n",
       "                    this.darkModeMediaQuery.addListener(() => {\n",
       "                        if (this.currentTheme === 'auto') {\n",
       "                            this.updateTheme('auto');\n",
       "                        }\n",
       "                    });\n",
       "                }\n",
       "                \n",
       "                setupThemeSwitcher() {\n",
       "                    const logger = document.querySelector(`#logger-${this.logId}`);\n",
       "                    if (!logger) return;\n",
       "                    \n",
       "                    const switcher = document.createElement('div');\n",
       "                    switcher.className = 'theme-switcher';\n",
       "                    switcher.innerHTML = `\n",
       "                        <select id=\"theme-select-${this.logId}\" class=\"theme-select\">\n",
       "                            <option value=\"auto\">Auto</option>\n",
       "                            <option value=\"light\">Light</option>\n",
       "                            <option value=\"dark\">Dark</option>\n",
       "                            <option value=\"high-contrast\">High Contrast</option>\n",
       "                        </select>\n",
       "                    `;\n",
       "                    \n",
       "                    const header = logger.querySelector('.job-logger-header');\n",
       "                    header.appendChild(switcher);\n",
       "                    \n",
       "                    const select = switcher.querySelector('select');\n",
       "                    select.value = this.currentTheme;\n",
       "                    select.addEventListener('change', (e) => {\n",
       "                        this.updateTheme(e.target.value);\n",
       "                    });\n",
       "                }\n",
       "                \n",
       "                updateTheme(theme) {\n",
       "                    const logger = document.querySelector(`#logger-${this.logId}`);\n",
       "                    if (!logger) return;\n",
       "                    \n",
       "                    this.currentTheme = theme;\n",
       "                    \n",
       "                    logger.classList.remove('theme-light', 'theme-dark', 'theme-high-contrast');\n",
       "                    \n",
       "                    if (theme === 'auto') {\n",
       "                        const isDark = this.darkModeMediaQuery.matches;\n",
       "                        logger.classList.add(isDark ? 'theme-dark' : 'theme-light');\n",
       "                    } else {\n",
       "                        logger.classList.add(`theme-${theme}`);\n",
       "                    }\n",
       "                    \n",
       "                    try {\n",
       "                        localStorage.setItem('jobLoggerTheme', theme);\n",
       "                    } catch (e) {\n",
       "                        console.warn('Unable to save theme preference:', e);\n",
       "                    }\n",
       "                }\n",
       "            }\n",
       "            \n",
       "            window.initThemeManager = (logId, initialTheme) => {\n",
       "                new ThemeManager(logId, initialTheme);\n",
       "            };\n",
       "        </script>\n",
       "        \n",
       "        <script>\n",
       "            document.addEventListener('DOMContentLoaded', () => {\n",
       "                window.initThemeManager('278d3a4a-b183-45b8-8e91-382a5f62360b', 'auto');\n",
       "            });\n",
       "        </script>\n",
       "        "
      ],
      "text/plain": [
       "<IPython.core.display.HTML object>"
      ]
     },
     "metadata": {},
     "output_type": "display_data"
    }
   ],
   "source": [
    "results = q.by(scenarios).run()"
   ]
  },
  {
   "cell_type": "code",
   "execution_count": 13,
   "id": "a32a97e9-7061-436d-8a49-5479b758a9e0",
   "metadata": {
    "editable": true,
    "slideshow": {
     "slide_type": ""
    },
    "tags": []
   },
   "outputs": [
    {
     "data": {
      "text/html": [
       "\n",
       "            <div style=\"max-height: 500px; overflow-y: auto;\">\n",
       "                <style type=\"text/css\">\n",
       "#T_f6304_row0_col0, #T_f6304_row0_col1, #T_f6304_row1_col0, #T_f6304_row1_col1, #T_f6304_row2_col0, #T_f6304_row2_col1, #T_f6304_row3_col0, #T_f6304_row3_col1, #T_f6304_row4_col0, #T_f6304_row4_col1, #T_f6304_row5_col0, #T_f6304_row5_col1, #T_f6304_row6_col0, #T_f6304_row6_col1, #T_f6304_row7_col0, #T_f6304_row7_col1, #T_f6304_row8_col0, #T_f6304_row8_col1, #T_f6304_row9_col0, #T_f6304_row9_col1 {\n",
       "  text-align: left;\n",
       "}\n",
       "</style>\n",
       "<table id=\"T_f6304\">\n",
       "  <thead>\n",
       "    <tr>\n",
       "      <th class=\"blank level0\" >&nbsp;</th>\n",
       "      <th id=\"T_f6304_level0_col0\" class=\"col_heading level0 col0\" >scenario.persona</th>\n",
       "      <th id=\"T_f6304_level0_col1\" class=\"col_heading level0 col1\" >answer.occupation</th>\n",
       "    </tr>\n",
       "  </thead>\n",
       "  <tbody>\n",
       "    <tr>\n",
       "      <th id=\"T_f6304_level0_row0\" class=\"row_heading level0 row0\" >0</th>\n",
       "      <td id=\"T_f6304_row0_col0\" class=\"data row0 col0\" >A theater manager or events coordinator interested in understanding the operational aspects, facilities, and programming of performing arts centers, such as the Broward Center.</td>\n",
       "      <td id=\"T_f6304_row0_col1\" class=\"data row0 col1\" >{'occupation': 'theater manager or events coordinator'}</td>\n",
       "    </tr>\n",
       "    <tr>\n",
       "      <th id=\"T_f6304_level0_row1\" class=\"row_heading level0 row1\" >1</th>\n",
       "      <td id=\"T_f6304_row1_col0\" class=\"data row1 col0\" >An urban planner looking to understand the distribution and organization of public services in the Halifax Regional Municipality.</td>\n",
       "      <td id=\"T_f6304_row1_col1\" class=\"data row1 col1\" >{'occupation': 'urban planner'}</td>\n",
       "    </tr>\n",
       "    <tr>\n",
       "      <th id=\"T_f6304_level0_row2\" class=\"row_heading level0 row2\" >2</th>\n",
       "      <td id=\"T_f6304_row2_col0\" class=\"data row2 col0\" >A high school literature teacher looking for supplementary materials to enrich their curriculum and provide students with a deeper understanding of their state's cultural heritage.</td>\n",
       "      <td id=\"T_f6304_row2_col1\" class=\"data row2 col1\" >{'occupation': 'high school literature teacher'}</td>\n",
       "    </tr>\n",
       "    <tr>\n",
       "      <th id=\"T_f6304_level0_row3\" class=\"row_heading level0 row3\" >3</th>\n",
       "      <td id=\"T_f6304_row3_col0\" class=\"data row3 col0\" >A science fiction writer, exploring the use of secret trials as a theme in stories that examine surveillance, privacy, and power dynamics in society.</td>\n",
       "      <td id=\"T_f6304_row3_col1\" class=\"data row3 col1\" >{'occupation': 'science fiction writer'}</td>\n",
       "    </tr>\n",
       "    <tr>\n",
       "      <th id=\"T_f6304_level0_row4\" class=\"row_heading level0 row4\" >4</th>\n",
       "      <td id=\"T_f6304_row4_col0\" class=\"data row4 col0\" >A financial analyst specializing in Asian markets and wealthy individuals, interested in tracking the investments and philanthropic activities of billionaires like Gerald Chan.</td>\n",
       "      <td id=\"T_f6304_row4_col1\" class=\"data row4 col1\" >{'occupation': 'financial analyst'}</td>\n",
       "    </tr>\n",
       "    <tr>\n",
       "      <th id=\"T_f6304_level0_row5\" class=\"row_heading level0 row5\" >5</th>\n",
       "      <td id=\"T_f6304_row5_col0\" class=\"data row5 col0\" >A high school physics teacher who enjoys applying physics concepts to various sports, curious about the effects of water resistance and body positioning in Paralympic swimming.</td>\n",
       "      <td id=\"T_f6304_row5_col1\" class=\"data row5 col1\" >{'occupation': 'high school physics teacher'}</td>\n",
       "    </tr>\n",
       "    <tr>\n",
       "      <th id=\"T_f6304_level0_row6\" class=\"row_heading level0 row6\" >6</th>\n",
       "      <td id=\"T_f6304_row6_col0\" class=\"data row6 col0\" >A high school physical education teacher seeking to incorporate Paralympic history and achievements into the curriculum to inspire and educate students about inclusivity in sports.</td>\n",
       "      <td id=\"T_f6304_row6_col1\" class=\"data row6 col1\" >{'occupation': 'physical education teacher'}</td>\n",
       "    </tr>\n",
       "    <tr>\n",
       "      <th id=\"T_f6304_level0_row7\" class=\"row_heading level0 row7\" >7</th>\n",
       "      <td id=\"T_f6304_row7_col0\" class=\"data row7 col0\" >A high school history teacher creating lesson plans on South American civilizations and their regional diversity.</td>\n",
       "      <td id=\"T_f6304_row7_col1\" class=\"data row7 col1\" >{'occupation': 'high school history teacher'}</td>\n",
       "    </tr>\n",
       "    <tr>\n",
       "      <th id=\"T_f6304_level0_row8\" class=\"row_heading level0 row8\" >8</th>\n",
       "      <td id=\"T_f6304_row8_col0\" class=\"data row8 col0\" >A cultural anthropologist studying the representation and adaptation of traditional folklore in contemporary media, particularly in television and film.</td>\n",
       "      <td id=\"T_f6304_row8_col1\" class=\"data row8 col1\" >{'occupation': 'cultural anthropologist'}</td>\n",
       "    </tr>\n",
       "    <tr>\n",
       "      <th id=\"T_f6304_level0_row9\" class=\"row_heading level0 row9\" >9</th>\n",
       "      <td id=\"T_f6304_row9_col0\" class=\"data row9 col0\" >A high school earth science teacher looking for real-world examples to explain climate zones, soil types, and human-environment interactions.</td>\n",
       "      <td id=\"T_f6304_row9_col1\" class=\"data row9 col1\" >{'occupation': 'high school earth science teacher'}</td>\n",
       "    </tr>\n",
       "  </tbody>\n",
       "</table>\n",
       "\n",
       "            </div>\n",
       "            "
      ],
      "text/plain": [
       "Dataset([{'scenario.persona': ['A theater manager or events coordinator interested in understanding the operational aspects, facilities, and programming of performing arts centers, such as the Broward Center.', 'An urban planner looking to understand the distribution and organization of public services in the Halifax Regional Municipality.', \"A high school literature teacher looking for supplementary materials to enrich their curriculum and provide students with a deeper understanding of their state's cultural heritage.\", 'A science fiction writer, exploring the use of secret trials as a theme in stories that examine surveillance, privacy, and power dynamics in society.', 'A financial analyst specializing in Asian markets and wealthy individuals, interested in tracking the investments and philanthropic activities of billionaires like Gerald Chan.', 'A high school physics teacher who enjoys applying physics concepts to various sports, curious about the effects of water resistance and body positioning in Paralympic swimming.', 'A high school physical education teacher seeking to incorporate Paralympic history and achievements into the curriculum to inspire and educate students about inclusivity in sports.', 'A high school history teacher creating lesson plans on South American civilizations and their regional diversity.', 'A cultural anthropologist studying the representation and adaptation of traditional folklore in contemporary media, particularly in television and film.', 'A high school earth science teacher looking for real-world examples to explain climate zones, soil types, and human-environment interactions.']}, {'answer.occupation': [{'occupation': 'theater manager or events coordinator'}, {'occupation': 'urban planner'}, {'occupation': 'high school literature teacher'}, {'occupation': 'science fiction writer'}, {'occupation': 'financial analyst'}, {'occupation': 'high school physics teacher'}, {'occupation': 'physical education teacher'}, {'occupation': 'high school history teacher'}, {'occupation': 'cultural anthropologist'}, {'occupation': 'high school earth science teacher'}]}])"
      ]
     },
     "execution_count": 13,
     "metadata": {},
     "output_type": "execute_result"
    }
   ],
   "source": [
    "results.select(\"persona\", \"occupation\")"
   ]
  },
  {
   "cell_type": "markdown",
   "id": "df63f2e6-1410-4431-af36-0dec6be935ea",
   "metadata": {
    "editable": true,
    "slideshow": {
     "slide_type": ""
    },
    "tags": []
   },
   "source": [
    "### Designing agents\n",
    "Here we recreate agents with both the personas and occupations as traits:"
   ]
  },
  {
   "cell_type": "code",
   "execution_count": 14,
   "id": "793c7c08-8541-4d08-ab13-f9bae09d0f44",
   "metadata": {
    "editable": true,
    "slideshow": {
     "slide_type": ""
    },
    "tags": []
   },
   "outputs": [
    {
     "data": {
      "text/plain": [
       "['theater manager or events coordinator',\n",
       " 'urban planner',\n",
       " 'high school literature teacher',\n",
       " 'science fiction writer',\n",
       " 'financial analyst',\n",
       " 'high school physics teacher',\n",
       " 'physical education teacher',\n",
       " 'high school history teacher',\n",
       " 'cultural anthropologist',\n",
       " 'high school earth science teacher']"
      ]
     },
     "execution_count": 14,
     "metadata": {},
     "output_type": "execute_result"
    }
   ],
   "source": [
    "occupations_list = [o['occupation'] for o in results.select(\"occupation\").to_list()]\n",
    "occupations_list"
   ]
  },
  {
   "cell_type": "code",
   "execution_count": 15,
   "id": "852185c0-e314-4a17-8758-ccf81f267af7",
   "metadata": {
    "editable": true,
    "slideshow": {
     "slide_type": ""
    },
    "tags": []
   },
   "outputs": [],
   "source": [
    "t = list(zip(personas_list, occupations_list))"
   ]
  },
  {
   "cell_type": "code",
   "execution_count": 16,
   "id": "5871d656-1b84-412b-b8fd-780b714a99e7",
   "metadata": {
    "editable": true,
    "slideshow": {
     "slide_type": ""
    },
    "tags": []
   },
   "outputs": [],
   "source": [
    "from edsl import AgentList, Agent\n",
    "\n",
    "agents = AgentList(\n",
    "    Agent(traits = {\"persona\":p, \"occupation\":o}) for p,o in t\n",
    ")"
   ]
  },
  {
   "cell_type": "markdown",
   "id": "54673d68-5167-4e42-8f77-e1eff1b5d48c",
   "metadata": {
    "editable": true,
    "slideshow": {
     "slide_type": ""
    },
    "tags": []
   },
   "source": [
    "### Running a survey\n",
    "Here we rerun the survey and then filter and sort results by agent traits:"
   ]
  },
  {
   "cell_type": "code",
   "execution_count": 17,
   "id": "67197072-2914-4de4-b104-f4633358dfb0",
   "metadata": {
    "editable": true,
    "slideshow": {
     "slide_type": ""
    },
    "tags": []
   },
   "outputs": [
    {
     "data": {
      "text/html": [
       "\n",
       "            <!-- #region Remove Inference Info -->\n",
       "            <div id=\"logger-c2055bc1-ec34-4214-ac7d-f615e0b85522\" class=\"job-logger\">\n",
       "                <div class=\"job-logger-header\">\n",
       "                    <span>\n",
       "                        <span id=\"arrow-c2055bc1-ec34-4214-ac7d-f615e0b85522\">▼</span> \n",
       "                        Job Status (2024-12-28 15:40:42)\n",
       "                    </span>\n",
       "                </div>\n",
       "                <div id=\"content-c2055bc1-ec34-4214-ac7d-f615e0b85522\" style=\"display: block;\">\n",
       "                    <table class=\"job-logger-table\">\n",
       "                        \n",
       "            <tr>\n",
       "                <td class=\"job-logger-cell job-logger-label\">Job UUID</td>\n",
       "                <td class=\"job-logger-cell job-logger-value\">0f8f7520-7e9f-4629-be34-84e5b02b2987</td>\n",
       "            </tr>\n",
       "        \n",
       "            <tr>\n",
       "                <td class=\"job-logger-cell job-logger-label\">Progress Bar URL</td>\n",
       "                <td class=\"job-logger-cell job-logger-value\"><a href=\"https://www.expectedparrot.com/home/remote-job-progress/0f8f7520-7e9f-4629-be34-84e5b02b2987\" target=\"_blank\" class=\"job-logger-link\">https://www.expectedparrot.com/home/remote-job-progress/0f8f7520-7e9f-4629-be34-84e5b02b2987</a></td>\n",
       "            </tr>\n",
       "        \n",
       "            <tr>\n",
       "                <td class=\"job-logger-cell job-logger-label\">Error Report URL</td>\n",
       "                <td class=\"job-logger-cell job-logger-value\">None</td>\n",
       "            </tr>\n",
       "        \n",
       "            <tr>\n",
       "                <td class=\"job-logger-cell job-logger-label\">Results UUID</td>\n",
       "                <td class=\"job-logger-cell job-logger-value\">786310af-1506-4541-9ffd-35ace5439e52</td>\n",
       "            </tr>\n",
       "        \n",
       "            <tr>\n",
       "                <td class=\"job-logger-cell job-logger-label\">Results URL</td>\n",
       "                <td class=\"job-logger-cell job-logger-value\">None</td>\n",
       "            </tr>\n",
       "        \n",
       "                    </table>\n",
       "                    \n",
       "                <div class=\"job-logger-status\">\n",
       "                    <span style=\"margin-right: 8px;\" class=\"job-logger-success\">✓</span><strong>Current Status:</strong> Job completed and Results stored on Coop: <a href=\"https://www.expectedparrot.com/content/786310af-1506-4541-9ffd-35ace5439e52\" target=\"_blank\" class=\"job-logger-link\">https://www.expectedparrot.com/content/786310af-1506-4541-9ffd-35ace5439e52</a>\n",
       "                </div>\n",
       "            \n",
       "                </div>\n",
       "            </div>\n",
       "            <!-- # endregion -->\n",
       "        "
      ],
      "text/plain": [
       "<IPython.core.display.HTML object>"
      ]
     },
     "metadata": {},
     "output_type": "display_data"
    },
    {
     "data": {
      "text/html": [
       "\n",
       "        <style>\n",
       "            /* Base theme variables */\n",
       "            :root {\n",
       "                --jl-bg-primary: #ffffff;\n",
       "                --jl-bg-secondary: #f5f5f5;\n",
       "                --jl-border-color: #e0e0e0;\n",
       "                --jl-text-primary: #24292e;\n",
       "                --jl-text-secondary: #586069;\n",
       "                --jl-link-color: #0366d6;\n",
       "                --jl-success-color: #28a745;\n",
       "                --jl-error-color: #d73a49;\n",
       "                --jl-header-bg: #f1f1f1;\n",
       "            }\n",
       "            \n",
       "            /* Dark theme variables */\n",
       "            .theme-dark {\n",
       "                --jl-bg-primary: #1e1e1e;\n",
       "                --jl-bg-secondary: #252526;\n",
       "                --jl-border-color: #2d2d2d;\n",
       "                --jl-text-primary: #cccccc;\n",
       "                --jl-text-secondary: #999999;\n",
       "                --jl-link-color: #4e94ce;\n",
       "                --jl-success-color: #89d185;\n",
       "                --jl-error-color: #f14c4c;\n",
       "                --jl-header-bg: #333333;\n",
       "            }\n",
       "\n",
       "            /* High contrast theme variables */\n",
       "            .theme-high-contrast {\n",
       "                --jl-bg-primary: #000000;\n",
       "                --jl-bg-secondary: #1a1a1a;\n",
       "                --jl-border-color: #404040;\n",
       "                --jl-text-primary: #ffffff;\n",
       "                --jl-text-secondary: #cccccc;\n",
       "                --jl-link-color: #66b3ff;\n",
       "                --jl-success-color: #00ff00;\n",
       "                --jl-error-color: #ff0000;\n",
       "                --jl-header-bg: #262626;\n",
       "            }\n",
       "            \n",
       "            .job-logger {\n",
       "                font-family: system-ui, -apple-system, sans-serif;\n",
       "                max-width: 800px;\n",
       "                margin: 10px 0;\n",
       "                color: var(--jl-text-primary);\n",
       "                box-shadow: 0 1px 3px rgba(0,0,0,0.12);\n",
       "                border-radius: 4px;\n",
       "                overflow: hidden;\n",
       "            }\n",
       "            \n",
       "            .job-logger-header {\n",
       "                padding: 12px 16px;\n",
       "                background: var(--jl-header-bg);\n",
       "                border: none;\n",
       "                border-radius: 4px 4px 0 0;\n",
       "                cursor: pointer;\n",
       "                color: var(--jl-text-primary);\n",
       "                user-select: none;\n",
       "                font-weight: 500;\n",
       "                letter-spacing: 0.3px;\n",
       "                display: flex;\n",
       "                justify-content: space-between;\n",
       "                align-items: center;\n",
       "            }\n",
       "            \n",
       "            .theme-select {\n",
       "                padding: 4px 8px;\n",
       "                border-radius: 4px;\n",
       "                border: 1px solid var(--jl-border-color);\n",
       "                background: var(--jl-bg-primary);\n",
       "                color: var(--jl-text-primary);\n",
       "                font-size: 0.9em;\n",
       "            }\n",
       "            \n",
       "            .job-logger-table {\n",
       "                width: 100%;\n",
       "                border-collapse: separate;\n",
       "                border-spacing: 0;\n",
       "                background: var(--jl-bg-primary);\n",
       "                border: 1px solid var(--jl-border-color);\n",
       "                margin-top: -1px;\n",
       "            }\n",
       "            \n",
       "            .job-logger-cell {\n",
       "                padding: 12px 16px;\n",
       "                border-bottom: 1px solid var(--jl-border-color);\n",
       "                line-height: 1.4;\n",
       "            }\n",
       "            \n",
       "            .job-logger-label {\n",
       "                font-weight: 500;\n",
       "                color: var(--jl-text-primary);\n",
       "                width: 25%;\n",
       "                background: var(--jl-bg-secondary);\n",
       "            }\n",
       "            \n",
       "            .job-logger-value {\n",
       "                color: var(--jl-text-secondary);\n",
       "                word-break: break-word;\n",
       "            }\n",
       "            \n",
       "            .job-logger-status {\n",
       "                margin: 0;\n",
       "                padding: 12px 16px;\n",
       "                background-color: var(--jl-bg-secondary);\n",
       "                border: 1px solid var(--jl-border-color);\n",
       "                border-top: none;\n",
       "                border-radius: 0 0 4px 4px;\n",
       "                color: var(--jl-text-primary);\n",
       "                font-size: 0.95em;\n",
       "            }\n",
       "        </style>\n",
       "        \n",
       "        <script>\n",
       "            class ThemeManager {\n",
       "                constructor(logId, initialTheme = 'auto') {\n",
       "                    this.logId = logId;\n",
       "                    this.currentTheme = initialTheme;\n",
       "                    this.darkModeMediaQuery = window.matchMedia('(prefers-color-scheme: dark)');\n",
       "                    this.init();\n",
       "                }\n",
       "                \n",
       "                init() {\n",
       "                    this.setupThemeSwitcher();\n",
       "                    this.updateTheme(this.currentTheme);\n",
       "                    \n",
       "                    this.darkModeMediaQuery.addListener(() => {\n",
       "                        if (this.currentTheme === 'auto') {\n",
       "                            this.updateTheme('auto');\n",
       "                        }\n",
       "                    });\n",
       "                }\n",
       "                \n",
       "                setupThemeSwitcher() {\n",
       "                    const logger = document.querySelector(`#logger-${this.logId}`);\n",
       "                    if (!logger) return;\n",
       "                    \n",
       "                    const switcher = document.createElement('div');\n",
       "                    switcher.className = 'theme-switcher';\n",
       "                    switcher.innerHTML = `\n",
       "                        <select id=\"theme-select-${this.logId}\" class=\"theme-select\">\n",
       "                            <option value=\"auto\">Auto</option>\n",
       "                            <option value=\"light\">Light</option>\n",
       "                            <option value=\"dark\">Dark</option>\n",
       "                            <option value=\"high-contrast\">High Contrast</option>\n",
       "                        </select>\n",
       "                    `;\n",
       "                    \n",
       "                    const header = logger.querySelector('.job-logger-header');\n",
       "                    header.appendChild(switcher);\n",
       "                    \n",
       "                    const select = switcher.querySelector('select');\n",
       "                    select.value = this.currentTheme;\n",
       "                    select.addEventListener('change', (e) => {\n",
       "                        this.updateTheme(e.target.value);\n",
       "                    });\n",
       "                }\n",
       "                \n",
       "                updateTheme(theme) {\n",
       "                    const logger = document.querySelector(`#logger-${this.logId}`);\n",
       "                    if (!logger) return;\n",
       "                    \n",
       "                    this.currentTheme = theme;\n",
       "                    \n",
       "                    logger.classList.remove('theme-light', 'theme-dark', 'theme-high-contrast');\n",
       "                    \n",
       "                    if (theme === 'auto') {\n",
       "                        const isDark = this.darkModeMediaQuery.matches;\n",
       "                        logger.classList.add(isDark ? 'theme-dark' : 'theme-light');\n",
       "                    } else {\n",
       "                        logger.classList.add(`theme-${theme}`);\n",
       "                    }\n",
       "                    \n",
       "                    try {\n",
       "                        localStorage.setItem('jobLoggerTheme', theme);\n",
       "                    } catch (e) {\n",
       "                        console.warn('Unable to save theme preference:', e);\n",
       "                    }\n",
       "                }\n",
       "            }\n",
       "            \n",
       "            window.initThemeManager = (logId, initialTheme) => {\n",
       "                new ThemeManager(logId, initialTheme);\n",
       "            };\n",
       "        </script>\n",
       "        \n",
       "        <script>\n",
       "            document.addEventListener('DOMContentLoaded', () => {\n",
       "                window.initThemeManager('c2055bc1-ec34-4214-ac7d-f615e0b85522', 'auto');\n",
       "            });\n",
       "        </script>\n",
       "        "
      ],
      "text/plain": [
       "<IPython.core.display.HTML object>"
      ]
     },
     "metadata": {},
     "output_type": "display_data"
    }
   ],
   "source": [
    "results = survey.by(agents).by(models).run()"
   ]
  },
  {
   "cell_type": "code",
   "execution_count": 18,
   "id": "146b105e-0fdc-49b8-b706-424a53eaeaa9",
   "metadata": {
    "editable": true,
    "slideshow": {
     "slide_type": ""
    },
    "tags": []
   },
   "outputs": [
    {
     "data": {
      "text/html": [
       "\n",
       "            <div style=\"max-height: 500px; overflow-y: auto;\">\n",
       "                <style type=\"text/css\">\n",
       "#T_2ffe1_row0_col0, #T_2ffe1_row0_col1, #T_2ffe1_row0_col2, #T_2ffe1_row1_col0, #T_2ffe1_row1_col1, #T_2ffe1_row1_col2, #T_2ffe1_row2_col0, #T_2ffe1_row2_col1, #T_2ffe1_row2_col2, #T_2ffe1_row3_col0, #T_2ffe1_row3_col1, #T_2ffe1_row3_col2, #T_2ffe1_row4_col0, #T_2ffe1_row4_col1, #T_2ffe1_row4_col2, #T_2ffe1_row5_col0, #T_2ffe1_row5_col1, #T_2ffe1_row5_col2, #T_2ffe1_row6_col0, #T_2ffe1_row6_col1, #T_2ffe1_row6_col2, #T_2ffe1_row7_col0, #T_2ffe1_row7_col1, #T_2ffe1_row7_col2, #T_2ffe1_row8_col0, #T_2ffe1_row8_col1, #T_2ffe1_row8_col2, #T_2ffe1_row9_col0, #T_2ffe1_row9_col1, #T_2ffe1_row9_col2 {\n",
       "  text-align: left;\n",
       "}\n",
       "#T_2ffe1_row0_col3, #T_2ffe1_row1_col3 {\n",
       "  text-align: left;\n",
       "  background-color: #023858;\n",
       "  color: #f1f1f1;\n",
       "}\n",
       "#T_2ffe1_row2_col3, #T_2ffe1_row3_col3 {\n",
       "  text-align: left;\n",
       "  background-color: #056faf;\n",
       "  color: #f1f1f1;\n",
       "}\n",
       "#T_2ffe1_row4_col3, #T_2ffe1_row5_col3, #T_2ffe1_row6_col3 {\n",
       "  text-align: left;\n",
       "  background-color: #73a9cf;\n",
       "  color: #f1f1f1;\n",
       "}\n",
       "#T_2ffe1_row7_col3, #T_2ffe1_row8_col3 {\n",
       "  text-align: left;\n",
       "  background-color: #d0d1e6;\n",
       "  color: #000000;\n",
       "}\n",
       "#T_2ffe1_row9_col3 {\n",
       "  text-align: left;\n",
       "  background-color: #fff7fb;\n",
       "  color: #000000;\n",
       "}\n",
       "</style>\n",
       "<table id=\"T_2ffe1\">\n",
       "  <thead>\n",
       "    <tr>\n",
       "      <th class=\"blank level0\" >&nbsp;</th>\n",
       "      <th id=\"T_2ffe1_level0_col0\" class=\"col_heading level0 col0\" >model.model</th>\n",
       "      <th id=\"T_2ffe1_level0_col1\" class=\"col_heading level0 col1\" >agent.occupation</th>\n",
       "      <th id=\"T_2ffe1_level0_col2\" class=\"col_heading level0 col2\" >answer.preferred_mode_commute</th>\n",
       "      <th id=\"T_2ffe1_level0_col3\" class=\"col_heading level0 col3\" >answer.work_from_home</th>\n",
       "    </tr>\n",
       "  </thead>\n",
       "  <tbody>\n",
       "    <tr>\n",
       "      <th id=\"T_2ffe1_level0_row0\" class=\"row_heading level0 row0\" >0</th>\n",
       "      <td id=\"T_2ffe1_row0_col0\" class=\"data row0 col0\" >gpt-4o</td>\n",
       "      <td id=\"T_2ffe1_row0_col1\" class=\"data row0 col1\" >science fiction writer</td>\n",
       "      <td id=\"T_2ffe1_row0_col2\" class=\"data row0 col2\" >Work from home</td>\n",
       "      <td id=\"T_2ffe1_row0_col3\" class=\"data row0 col3\" >5</td>\n",
       "    </tr>\n",
       "    <tr>\n",
       "      <th id=\"T_2ffe1_level0_row1\" class=\"row_heading level0 row1\" >1</th>\n",
       "      <td id=\"T_2ffe1_row1_col0\" class=\"data row1 col0\" >gpt-4o</td>\n",
       "      <td id=\"T_2ffe1_row1_col1\" class=\"data row1 col1\" >financial analyst</td>\n",
       "      <td id=\"T_2ffe1_row1_col2\" class=\"data row1 col2\" >Work from home</td>\n",
       "      <td id=\"T_2ffe1_row1_col3\" class=\"data row1 col3\" >5</td>\n",
       "    </tr>\n",
       "    <tr>\n",
       "      <th id=\"T_2ffe1_level0_row2\" class=\"row_heading level0 row2\" >2</th>\n",
       "      <td id=\"T_2ffe1_row2_col0\" class=\"data row2 col0\" >gpt-4o</td>\n",
       "      <td id=\"T_2ffe1_row2_col1\" class=\"data row2 col1\" >urban planner</td>\n",
       "      <td id=\"T_2ffe1_row2_col2\" class=\"data row2 col2\" >Bike</td>\n",
       "      <td id=\"T_2ffe1_row2_col3\" class=\"data row2 col3\" >4</td>\n",
       "    </tr>\n",
       "    <tr>\n",
       "      <th id=\"T_2ffe1_level0_row3\" class=\"row_heading level0 row3\" >3</th>\n",
       "      <td id=\"T_2ffe1_row3_col0\" class=\"data row3 col0\" >gpt-4o</td>\n",
       "      <td id=\"T_2ffe1_row3_col1\" class=\"data row3 col1\" >cultural anthropologist</td>\n",
       "      <td id=\"T_2ffe1_row3_col2\" class=\"data row3 col2\" >Public transportation</td>\n",
       "      <td id=\"T_2ffe1_row3_col3\" class=\"data row3 col3\" >4</td>\n",
       "    </tr>\n",
       "    <tr>\n",
       "      <th id=\"T_2ffe1_level0_row4\" class=\"row_heading level0 row4\" >4</th>\n",
       "      <td id=\"T_2ffe1_row4_col0\" class=\"data row4 col0\" >gpt-4o</td>\n",
       "      <td id=\"T_2ffe1_row4_col1\" class=\"data row4 col1\" >high school literature teacher</td>\n",
       "      <td id=\"T_2ffe1_row4_col2\" class=\"data row4 col2\" >Car</td>\n",
       "      <td id=\"T_2ffe1_row4_col3\" class=\"data row4 col3\" >3</td>\n",
       "    </tr>\n",
       "    <tr>\n",
       "      <th id=\"T_2ffe1_level0_row5\" class=\"row_heading level0 row5\" >5</th>\n",
       "      <td id=\"T_2ffe1_row5_col0\" class=\"data row5 col0\" >gpt-4o</td>\n",
       "      <td id=\"T_2ffe1_row5_col1\" class=\"data row5 col1\" >high school physics teacher</td>\n",
       "      <td id=\"T_2ffe1_row5_col2\" class=\"data row5 col2\" >Bike</td>\n",
       "      <td id=\"T_2ffe1_row5_col3\" class=\"data row5 col3\" >3</td>\n",
       "    </tr>\n",
       "    <tr>\n",
       "      <th id=\"T_2ffe1_level0_row6\" class=\"row_heading level0 row6\" >6</th>\n",
       "      <td id=\"T_2ffe1_row6_col0\" class=\"data row6 col0\" >gpt-4o</td>\n",
       "      <td id=\"T_2ffe1_row6_col1\" class=\"data row6 col1\" >high school history teacher</td>\n",
       "      <td id=\"T_2ffe1_row6_col2\" class=\"data row6 col2\" >Car</td>\n",
       "      <td id=\"T_2ffe1_row6_col3\" class=\"data row6 col3\" >3</td>\n",
       "    </tr>\n",
       "    <tr>\n",
       "      <th id=\"T_2ffe1_level0_row7\" class=\"row_heading level0 row7\" >7</th>\n",
       "      <td id=\"T_2ffe1_row7_col0\" class=\"data row7 col0\" >gpt-4o</td>\n",
       "      <td id=\"T_2ffe1_row7_col1\" class=\"data row7 col1\" >theater manager or events coordinator</td>\n",
       "      <td id=\"T_2ffe1_row7_col2\" class=\"data row7 col2\" >Car</td>\n",
       "      <td id=\"T_2ffe1_row7_col3\" class=\"data row7 col3\" >2</td>\n",
       "    </tr>\n",
       "    <tr>\n",
       "      <th id=\"T_2ffe1_level0_row8\" class=\"row_heading level0 row8\" >8</th>\n",
       "      <td id=\"T_2ffe1_row8_col0\" class=\"data row8 col0\" >gpt-4o</td>\n",
       "      <td id=\"T_2ffe1_row8_col1\" class=\"data row8 col1\" >high school earth science teacher</td>\n",
       "      <td id=\"T_2ffe1_row8_col2\" class=\"data row8 col2\" >Car</td>\n",
       "      <td id=\"T_2ffe1_row8_col3\" class=\"data row8 col3\" >2</td>\n",
       "    </tr>\n",
       "    <tr>\n",
       "      <th id=\"T_2ffe1_level0_row9\" class=\"row_heading level0 row9\" >9</th>\n",
       "      <td id=\"T_2ffe1_row9_col0\" class=\"data row9 col0\" >gpt-4o</td>\n",
       "      <td id=\"T_2ffe1_row9_col1\" class=\"data row9 col1\" >physical education teacher</td>\n",
       "      <td id=\"T_2ffe1_row9_col2\" class=\"data row9 col2\" >Bike</td>\n",
       "      <td id=\"T_2ffe1_row9_col3\" class=\"data row9 col3\" >1</td>\n",
       "    </tr>\n",
       "  </tbody>\n",
       "</table>\n",
       "\n",
       "            </div>\n",
       "            "
      ],
      "text/plain": [
       "Dataset([{'model.model': ['gpt-4o', 'gpt-4o', 'gpt-4o', 'gpt-4o', 'gpt-4o', 'gpt-4o', 'gpt-4o', 'gpt-4o', 'gpt-4o', 'gpt-4o']}, {'agent.occupation': ['science fiction writer', 'financial analyst', 'urban planner', 'cultural anthropologist', 'high school literature teacher', 'high school physics teacher', 'high school history teacher', 'theater manager or events coordinator', 'high school earth science teacher', 'physical education teacher']}, {'answer.preferred_mode_commute': ['Work from home', 'Work from home', 'Bike', 'Public transportation', 'Car', 'Bike', 'Car', 'Car', 'Car', 'Bike']}, {'answer.work_from_home': [5, 5, 4, 4, 3, 3, 3, 2, 2, 1]}])"
      ]
     },
     "execution_count": 18,
     "metadata": {},
     "output_type": "execute_result"
    }
   ],
   "source": [
    "(\n",
    "    results\n",
    "    .filter(\"model.model == 'gpt-4o'\")\n",
    "    .sort_by(\"work_from_home\", reverse=True)\n",
    "    .select(\"model\", \"occupation\", \"preferred_mode_commute\", \"work_from_home\")\n",
    ")"
   ]
  },
  {
   "cell_type": "markdown",
   "id": "e810f8ff-fb8d-4b5b-bf91-98e89c6824ea",
   "metadata": {
    "editable": true,
    "slideshow": {
     "slide_type": ""
    },
    "tags": []
   },
   "source": [
    "### Posting to the Coop\n",
    "The [Coop](https://www.expectedparrot.com/content/explore) is a platform for creating, storing and sharing LLM-based research.\n",
    "It is fully integrated with EDSL and accessible from your workspace or Coop account page.\n",
    "Learn more about [creating an account](https://www.expectedparrot.com/login) and [using the Coop](https://docs.expectedparrot.com/en/latest/coop.html).\n",
    "\n",
    "Here we demonstrate how to post this notebook:"
   ]
  },
  {
   "cell_type": "code",
   "execution_count": 19,
   "id": "25efb9ff-49ce-4f52-b84e-05fd7b349e5b",
   "metadata": {
    "editable": true,
    "slideshow": {
     "slide_type": ""
    },
    "tags": [
     "skip-execution"
    ]
   },
   "outputs": [],
   "source": [
    "from edsl import Notebook"
   ]
  },
  {
   "cell_type": "code",
   "execution_count": 20,
   "id": "9bf16347-c268-4904-b7c6-bef0e7d33a6e",
   "metadata": {
    "editable": true,
    "slideshow": {
     "slide_type": ""
    },
    "tags": [
     "skip-execution"
    ]
   },
   "outputs": [],
   "source": [
    "n = Notebook(path = \"import_agents.ipynb\")"
   ]
  },
  {
   "cell_type": "code",
   "execution_count": 21,
   "id": "5ca9d27f-9925-41b3-9688-4104402841b6",
   "metadata": {
    "editable": true,
    "slideshow": {
     "slide_type": ""
    },
    "tags": [
     "skip-execution"
    ]
   },
   "outputs": [
    {
     "data": {
      "text/plain": [
       "{'description': 'Importing agents',\n",
       " 'object_type': 'notebook',\n",
       " 'url': 'https://www.expectedparrot.com/content/e0f3c111-328e-417b-b2ad-aec527adad49',\n",
       " 'uuid': 'e0f3c111-328e-417b-b2ad-aec527adad49',\n",
       " 'version': '0.1.39.dev2',\n",
       " 'visibility': 'public'}"
      ]
     },
     "execution_count": 21,
     "metadata": {},
     "output_type": "execute_result"
    }
   ],
   "source": [
    "info = n.push(description = \"Importing agents\", visibility = \"public\")\n",
    "info"
   ]
  },
  {
   "cell_type": "markdown",
   "id": "f372cfb2-08c4-4cc3-aafe-c61ab228cb6d",
   "metadata": {
    "editable": true,
    "slideshow": {
     "slide_type": ""
    },
    "tags": []
   },
   "source": [
    "To update a notebook:"
   ]
  },
  {
   "cell_type": "code",
   "execution_count": 22,
   "id": "42120fde-c3ee-4e59-a482-fb4832a696d8",
   "metadata": {
    "editable": true,
    "slideshow": {
     "slide_type": ""
    },
    "tags": [
     "skip-execution"
    ]
   },
   "outputs": [
    {
     "data": {
      "text/plain": [
       "{'status': 'success'}"
      ]
     },
     "execution_count": 22,
     "metadata": {},
     "output_type": "execute_result"
    }
   ],
   "source": [
    "n = Notebook(path = \"import_agents.ipynb\") # resave\n",
    "\n",
    "n.patch(uuid = info[\"uuid\"], value = n)"
   ]
  }
 ],
 "metadata": {
  "kernelspec": {
   "display_name": "Python 3 (ipykernel)",
   "language": "python",
   "name": "python3"
  },
  "language_info": {
   "codemirror_mode": {
    "name": "ipython",
    "version": 3
   },
   "file_extension": ".py",
   "mimetype": "text/x-python",
   "name": "python",
   "nbconvert_exporter": "python",
   "pygments_lexer": "ipython3",
   "version": "3.11.7"
  }
 },
 "nbformat": 4,
 "nbformat_minor": 5
}
