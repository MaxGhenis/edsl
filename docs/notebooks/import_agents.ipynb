{
 "cells": [
  {
   "cell_type": "markdown",
   "id": "dfa03b9e-9655-4c4f-a7e0-43cd5487b5e4",
   "metadata": {
    "editable": true,
    "slideshow": {
     "slide_type": ""
    },
    "tags": []
   },
   "source": [
    "# Importing agents\n",
    "This notebook provides sample EDSL code for simulating surveys with agent personas imported from [Persona Hub](https://github.com/tencent-ailab/persona-hub), an open-source repository provided by [Hugging Face](https://huggingface.co/datasets/proj-persona/PersonaHub).\n",
    "\n",
    "[EDSL](https://github.com/expectedparrot/edsl) is an open-source library for simulating surveys, experiments and other research with AI agents and large language models. \n",
    "Before running the code below, please ensure that you have [installed the EDSL library](https://docs.expectedparrot.com/en/latest/installation.html) and either [activated remote inference](https://docs.expectedparrot.com/en/latest/remote_inference.html) from your [Coop account](https://docs.expectedparrot.com/en/latest/coop.html) or [stored API keys](https://docs.expectedparrot.com/en/latest/api_keys.html) for the language models that you want to use with EDSL. Please also see our [documentation page](https://docs.expectedparrot.com/) for tips and tutorials on getting started using EDSL."
   ]
  },
  {
   "cell_type": "markdown",
   "id": "69f3f75c-6908-42d2-a78b-377e1f829c54",
   "metadata": {
    "editable": true,
    "slideshow": {
     "slide_type": ""
    },
    "tags": []
   },
   "source": [
    "### Importing the data\n",
    "Persona Hub: https://github.com/tencent-ailab/persona-hub"
   ]
  },
  {
   "cell_type": "code",
   "execution_count": 1,
   "id": "8b5647b0-2349-4b67-8679-cffab2d083ce",
   "metadata": {
    "editable": true,
    "slideshow": {
     "slide_type": ""
    },
    "tags": []
   },
   "outputs": [],
   "source": [
    "# pip install datasets"
   ]
  },
  {
   "cell_type": "code",
   "execution_count": 2,
   "id": "cb73e351-e150-4dbe-916e-98fcf2a6673f",
   "metadata": {
    "editable": true,
    "slideshow": {
     "slide_type": ""
    },
    "tags": []
   },
   "outputs": [
    {
     "data": {
      "application/vnd.jupyter.widget-view+json": {
       "model_id": "6dcb6224a010453293bf75b407171c6b",
       "version_major": 2,
       "version_minor": 0
      },
      "text/plain": [
       "README.md:   0%|          | 0.00/4.88k [00:00<?, ?B/s]"
      ]
     },
     "metadata": {},
     "output_type": "display_data"
    },
    {
     "data": {
      "application/vnd.jupyter.widget-view+json": {
       "model_id": "ce546a3d072045569e08d0ba2b92d7ad",
       "version_major": 2,
       "version_minor": 0
      },
      "text/plain": [
       "Generating train split: 0 examples [00:00, ? examples/s]"
      ]
     },
     "metadata": {},
     "output_type": "display_data"
    }
   ],
   "source": [
    "from datasets import load_dataset\n",
    "\n",
    "ds = load_dataset(\"proj-persona/PersonaHub\", \"instruction\")"
   ]
  },
  {
   "cell_type": "markdown",
   "id": "a4f5cfeb-4944-4045-bf5d-bae52c65a980",
   "metadata": {
    "editable": true,
    "slideshow": {
     "slide_type": ""
    },
    "tags": []
   },
   "source": [
    "### Selecting data\n",
    "Here we select some personas to use."
   ]
  },
  {
   "cell_type": "code",
   "execution_count": 3,
   "id": "acc2abf9-bd3c-49a1-becb-f3c188f49e1b",
   "metadata": {
    "editable": true,
    "slideshow": {
     "slide_type": ""
    },
    "tags": []
   },
   "outputs": [
    {
     "data": {
      "text/plain": [
       "['A theater manager or events coordinator interested in understanding the operational aspects, facilities, and programming of performing arts centers, such as the Broward Center.',\n",
       " 'An urban planner looking to understand the distribution and organization of public services in the Halifax Regional Municipality.',\n",
       " \"A high school literature teacher looking for supplementary materials to enrich their curriculum and provide students with a deeper understanding of their state's cultural heritage.\",\n",
       " 'A science fiction writer, exploring the use of secret trials as a theme in stories that examine surveillance, privacy, and power dynamics in society.',\n",
       " 'A financial analyst specializing in Asian markets and wealthy individuals, interested in tracking the investments and philanthropic activities of billionaires like Gerald Chan.',\n",
       " 'A high school physics teacher who enjoys applying physics concepts to various sports, curious about the effects of water resistance and body positioning in Paralympic swimming.',\n",
       " 'A high school physical education teacher seeking to incorporate Paralympic history and achievements into the curriculum to inspire and educate students about inclusivity in sports.',\n",
       " 'A high school history teacher creating lesson plans on South American civilizations and their regional diversity.',\n",
       " 'A cultural anthropologist studying the representation and adaptation of traditional folklore in contemporary media, particularly in television and film.',\n",
       " 'A high school earth science teacher looking for real-world examples to explain climate zones, soil types, and human-environment interactions.']"
      ]
     },
     "execution_count": 3,
     "metadata": {},
     "output_type": "execute_result"
    }
   ],
   "source": [
    "num_agents = 10\n",
    "\n",
    "personas_list = ds['train']['input persona'][:num_agents]\n",
    "personas_list"
   ]
  },
  {
   "cell_type": "markdown",
   "id": "0588622b-c598-4314-9b14-a9e468fdbb5a",
   "metadata": {
    "editable": true,
    "slideshow": {
     "slide_type": ""
    },
    "tags": []
   },
   "source": [
    "### Creating agents\n",
    "We create an agent in EDSL by passing a dictionary of `traits` (such as a persona) to an `Agent` object.\n",
    "Here we use a method for generating a set of agents from a list of traits at once (a list of the personas).\n",
    "Learn more about [designing agents in EDSL](https://docs.expectedparrot.com/en/latest/agents.html)."
   ]
  },
  {
   "cell_type": "code",
   "execution_count": 4,
   "id": "9cd9b291-8c36-47b8-a0b4-534f5a9b827c",
   "metadata": {
    "editable": true,
    "slideshow": {
     "slide_type": ""
    },
    "tags": []
   },
   "outputs": [],
   "source": [
    "from edsl import AgentList\n",
    "\n",
    "agents = AgentList.from_list(\"persona\", personas_list)"
   ]
  },
  {
   "cell_type": "markdown",
   "id": "ce2457ba-2734-47de-bfd0-1cd8bb718aae",
   "metadata": {
    "editable": true,
    "slideshow": {
     "slide_type": ""
    },
    "tags": []
   },
   "source": [
    "### Using agents to answer a survey\n",
    "Here we construct some questions and administer them to the agents.\n",
    "EDSL comes with many [common question types](https://docs.expectedparrot.com/en/latest/questions.html) that we can choose from based on the form of the response that we want to get back from a model.\n",
    "Learn more about [constructing surveys](https://docs.expectedparrot.com/en/latest/surveys.html) with different question types, logic and rules."
   ]
  },
  {
   "cell_type": "code",
   "execution_count": 5,
   "id": "13366568-fba7-4479-ab57-577d5ebfd192",
   "metadata": {
    "editable": true,
    "slideshow": {
     "slide_type": ""
    },
    "tags": []
   },
   "outputs": [],
   "source": [
    "from edsl import QuestionMultipleChoice, QuestionLinearScale, Survey\n",
    "\n",
    "q1 = QuestionMultipleChoice(\n",
    "    question_name = \"preferred_mode_commute\",\n",
    "    question_text = \"What is your preferred mode of commuting to work?\",\n",
    "    question_options = [ \"Car\", \"Public transportation\", \"Bike\", \"Walk\", \"Work from home\", \"Other\" ] \n",
    ")\n",
    "\n",
    "q2 = QuestionLinearScale(\n",
    "    question_name = \"work_from_home\",\n",
    "    question_text = \"On a scale from 1 to 5, how easy is it for you to work from home?\",\n",
    "    question_options = [1,2,3,4,5],\n",
    "    option_labels = {1:\"Not at all easy\", 5:\"Very easy\"}\n",
    ")\n",
    "\n",
    "survey = Survey([q1, q2])"
   ]
  },
  {
   "cell_type": "markdown",
   "id": "1be8cc3b-76d0-4c69-b734-9243e58a98ab",
   "metadata": {
    "editable": true,
    "slideshow": {
     "slide_type": ""
    },
    "tags": []
   },
   "source": [
    "### Selecting language models\n",
    "EDSL works with many popular language models that we can select to generate the responses for the agents.\n",
    "\n",
    "To see a list of all services:"
   ]
  },
  {
   "cell_type": "code",
   "execution_count": 6,
   "id": "6f5cd071-1d7e-4e4c-8cf2-3b75a1e788a5",
   "metadata": {
    "editable": true,
    "slideshow": {
     "slide_type": ""
    },
    "tags": []
   },
   "outputs": [
    {
     "data": {
      "text/html": [
       "\n",
       "            <div style=\"max-height: 500px; overflow-y: auto;\">\n",
       "                <style type=\"text/css\">\n",
       "#T_1ff26_row0_col0, #T_1ff26_row1_col0, #T_1ff26_row2_col0, #T_1ff26_row3_col0, #T_1ff26_row4_col0, #T_1ff26_row5_col0, #T_1ff26_row6_col0, #T_1ff26_row7_col0, #T_1ff26_row8_col0, #T_1ff26_row9_col0, #T_1ff26_row10_col0, #T_1ff26_row11_col0, #T_1ff26_row12_col0 {\n",
       "  text-align: left;\n",
       "}\n",
       "</style>\n",
       "<table id=\"T_1ff26\">\n",
       "  <thead>\n",
       "    <tr>\n",
       "      <th class=\"blank level0\" >&nbsp;</th>\n",
       "      <th id=\"T_1ff26_level0_col0\" class=\"col_heading level0 col0\" >Service Name</th>\n",
       "    </tr>\n",
       "  </thead>\n",
       "  <tbody>\n",
       "    <tr>\n",
       "      <th id=\"T_1ff26_level0_row0\" class=\"row_heading level0 row0\" >0</th>\n",
       "      <td id=\"T_1ff26_row0_col0\" class=\"data row0 col0\" >anthropic</td>\n",
       "    </tr>\n",
       "    <tr>\n",
       "      <th id=\"T_1ff26_level0_row1\" class=\"row_heading level0 row1\" >1</th>\n",
       "      <td id=\"T_1ff26_row1_col0\" class=\"data row1 col0\" >azure</td>\n",
       "    </tr>\n",
       "    <tr>\n",
       "      <th id=\"T_1ff26_level0_row2\" class=\"row_heading level0 row2\" >2</th>\n",
       "      <td id=\"T_1ff26_row2_col0\" class=\"data row2 col0\" >bedrock</td>\n",
       "    </tr>\n",
       "    <tr>\n",
       "      <th id=\"T_1ff26_level0_row3\" class=\"row_heading level0 row3\" >3</th>\n",
       "      <td id=\"T_1ff26_row3_col0\" class=\"data row3 col0\" >deep_infra</td>\n",
       "    </tr>\n",
       "    <tr>\n",
       "      <th id=\"T_1ff26_level0_row4\" class=\"row_heading level0 row4\" >4</th>\n",
       "      <td id=\"T_1ff26_row4_col0\" class=\"data row4 col0\" >deepseek</td>\n",
       "    </tr>\n",
       "    <tr>\n",
       "      <th id=\"T_1ff26_level0_row5\" class=\"row_heading level0 row5\" >5</th>\n",
       "      <td id=\"T_1ff26_row5_col0\" class=\"data row5 col0\" >google</td>\n",
       "    </tr>\n",
       "    <tr>\n",
       "      <th id=\"T_1ff26_level0_row6\" class=\"row_heading level0 row6\" >6</th>\n",
       "      <td id=\"T_1ff26_row6_col0\" class=\"data row6 col0\" >groq</td>\n",
       "    </tr>\n",
       "    <tr>\n",
       "      <th id=\"T_1ff26_level0_row7\" class=\"row_heading level0 row7\" >7</th>\n",
       "      <td id=\"T_1ff26_row7_col0\" class=\"data row7 col0\" >mistral</td>\n",
       "    </tr>\n",
       "    <tr>\n",
       "      <th id=\"T_1ff26_level0_row8\" class=\"row_heading level0 row8\" >8</th>\n",
       "      <td id=\"T_1ff26_row8_col0\" class=\"data row8 col0\" >ollama</td>\n",
       "    </tr>\n",
       "    <tr>\n",
       "      <th id=\"T_1ff26_level0_row9\" class=\"row_heading level0 row9\" >9</th>\n",
       "      <td id=\"T_1ff26_row9_col0\" class=\"data row9 col0\" >openai</td>\n",
       "    </tr>\n",
       "    <tr>\n",
       "      <th id=\"T_1ff26_level0_row10\" class=\"row_heading level0 row10\" >10</th>\n",
       "      <td id=\"T_1ff26_row10_col0\" class=\"data row10 col0\" >perplexity</td>\n",
       "    </tr>\n",
       "    <tr>\n",
       "      <th id=\"T_1ff26_level0_row11\" class=\"row_heading level0 row11\" >11</th>\n",
       "      <td id=\"T_1ff26_row11_col0\" class=\"data row11 col0\" >together</td>\n",
       "    </tr>\n",
       "    <tr>\n",
       "      <th id=\"T_1ff26_level0_row12\" class=\"row_heading level0 row12\" >12</th>\n",
       "      <td id=\"T_1ff26_row12_col0\" class=\"data row12 col0\" >xai</td>\n",
       "    </tr>\n",
       "  </tbody>\n",
       "</table>\n",
       "\n",
       "            </div>\n",
       "            "
      ],
      "text/plain": [
       "PrettyList([['anthropic'],\n",
       "            ['azure'],\n",
       "            ['bedrock'],\n",
       "            ['deep_infra'],\n",
       "            ['deepseek'],\n",
       "            ['google'],\n",
       "            ['groq'],\n",
       "            ['mistral'],\n",
       "            ['ollama'],\n",
       "            ['openai'],\n",
       "            ['perplexity'],\n",
       "            ['together'],\n",
       "            ['xai']])"
      ]
     },
     "execution_count": 6,
     "metadata": {},
     "output_type": "execute_result"
    }
   ],
   "source": [
    "from edsl import Model\n",
    "\n",
    "Model.services()"
   ]
  },
  {
   "cell_type": "markdown",
   "id": "00f093ed-3ba9-4aa5-a5d2-a9ae3b2e62b9",
   "metadata": {
    "editable": true,
    "slideshow": {
     "slide_type": ""
    },
    "tags": []
   },
   "source": [
    "To see a list of all available models:"
   ]
  },
  {
   "cell_type": "code",
   "execution_count": 7,
   "id": "f509e8a0-bbb9-4242-a836-6ad9246536ff",
   "metadata": {
    "editable": true,
    "slideshow": {
     "slide_type": ""
    },
    "tags": []
   },
   "outputs": [],
   "source": [
    "# Model.available()"
   ]
  },
  {
   "cell_type": "markdown",
   "id": "e306ddfb-8299-48d3-a1fa-b2c6c9c0eb5f",
   "metadata": {
    "editable": true,
    "slideshow": {
     "slide_type": ""
    },
    "tags": []
   },
   "source": [
    "To select models to use with a survey:"
   ]
  },
  {
   "cell_type": "code",
   "execution_count": 8,
   "id": "af431de0-bcfb-4f92-9b5d-8eb367987a5c",
   "metadata": {
    "editable": true,
    "slideshow": {
     "slide_type": ""
    },
    "tags": []
   },
   "outputs": [],
   "source": [
    "from edsl import ModelList, Model\n",
    "\n",
    "models = ModelList(\n",
    "    Model(m) for m in [\"gemini-1.5-flash\", \"gpt-4o\"]\n",
    ")"
   ]
  },
  {
   "cell_type": "markdown",
   "id": "6f6f7f72-fa28-403a-b652-d25ec83b683b",
   "metadata": {
    "editable": true,
    "slideshow": {
     "slide_type": ""
    },
    "tags": []
   },
   "source": [
    "We run a survey by adding the agents and models, and then calling the `run()` method.\n",
    "This generates a formatted dataset of `Results`:"
   ]
  },
  {
   "cell_type": "code",
   "execution_count": 9,
   "id": "69247b52-f8a2-4cb6-a9e0-e44d3429bb54",
   "metadata": {
    "editable": true,
    "slideshow": {
     "slide_type": ""
    },
    "tags": []
   },
   "outputs": [
    {
     "data": {
      "text/html": [
       "\n",
       "            <!-- #region Remove Inference Info -->\n",
       "            <div id=\"logger-5a5f5a11-52d0-4d59-b279-f0c352220349\" class=\"job-logger\">\n",
       "                <div class=\"job-logger-header\">\n",
       "                    <span>\n",
       "                        <span id=\"arrow-5a5f5a11-52d0-4d59-b279-f0c352220349\">▼</span> \n",
       "                        Job Status (2025-03-03 10:41:36)\n",
       "                    </span>\n",
       "                </div>\n",
       "                <div id=\"content-5a5f5a11-52d0-4d59-b279-f0c352220349\" style=\"display: block;\">\n",
       "                    <table class=\"job-logger-table\">\n",
       "                        \n",
       "            <tr>\n",
       "                <td class=\"job-logger-cell job-logger-label\">Job UUID</td>\n",
       "                <td class=\"job-logger-cell job-logger-value\">9478009b-a7b3-4718-a878-13e283629e1d</td>\n",
       "            </tr>\n",
       "        \n",
       "            <tr>\n",
       "                <td class=\"job-logger-cell job-logger-label\">Progress Bar URL</td>\n",
       "                <td class=\"job-logger-cell job-logger-value\"><a href=\"https://www.expectedparrot.com/home/remote-job-progress/9478009b-a7b3-4718-a878-13e283629e1d\" target=\"_blank\" class=\"job-logger-link\">https://www.expectedparrot.com/home/remote-job-progress/9478009b-a7b3-4718-a878-13e283629e1d</a></td>\n",
       "            </tr>\n",
       "        \n",
       "            <tr>\n",
       "                <td class=\"job-logger-cell job-logger-label\">Exceptions Report URL</td>\n",
       "                <td class=\"job-logger-cell job-logger-value\">None</td>\n",
       "            </tr>\n",
       "        \n",
       "            <tr>\n",
       "                <td class=\"job-logger-cell job-logger-label\">Results UUID</td>\n",
       "                <td class=\"job-logger-cell job-logger-value\">c8823538-48ac-44d0-a025-9833e66be403</td>\n",
       "            </tr>\n",
       "        \n",
       "            <tr>\n",
       "                <td class=\"job-logger-cell job-logger-label\">Results URL</td>\n",
       "                <td class=\"job-logger-cell job-logger-value\"><a href=\"https://www.expectedparrot.com/content/c8823538-48ac-44d0-a025-9833e66be403\" target=\"_blank\" class=\"job-logger-link\">https://www.expectedparrot.com/content/c8823538-48ac-44d0-a025-9833e66be403</a></td>\n",
       "            </tr>\n",
       "        \n",
       "                    </table>\n",
       "                    \n",
       "                <div class=\"job-logger-status\">\n",
       "                    <span style=\"margin-right: 8px;\" class=\"job-logger-success\">✓</span><strong>Current Status:</strong> Job completed and Results stored on Coop: <a href=\"https://www.expectedparrot.com/content/c8823538-48ac-44d0-a025-9833e66be403\" target=\"_blank\" class=\"job-logger-link\">https://www.expectedparrot.com/content/c8823538-48ac-44d0-a025-9833e66be403</a>\n",
       "                </div>\n",
       "            \n",
       "                </div>\n",
       "            </div>\n",
       "            <!-- # endregion -->\n",
       "        "
      ],
      "text/plain": [
       "<IPython.core.display.HTML object>"
      ]
     },
     "metadata": {},
     "output_type": "display_data"
    },
    {
     "data": {
      "text/html": [
       "\n",
       "        <style>\n",
       "            /* Base theme variables */\n",
       "            :root {\n",
       "                --jl-bg-primary: #ffffff;\n",
       "                --jl-bg-secondary: #f5f5f5;\n",
       "                --jl-border-color: #e0e0e0;\n",
       "                --jl-text-primary: #24292e;\n",
       "                --jl-text-secondary: #586069;\n",
       "                --jl-link-color: #0366d6;\n",
       "                --jl-success-color: #28a745;\n",
       "                --jl-error-color: #d73a49;\n",
       "                --jl-header-bg: #f1f1f1;\n",
       "            }\n",
       "            \n",
       "            /* Dark theme variables */\n",
       "            .theme-dark {\n",
       "                --jl-bg-primary: #1e1e1e;\n",
       "                --jl-bg-secondary: #252526;\n",
       "                --jl-border-color: #2d2d2d;\n",
       "                --jl-text-primary: #cccccc;\n",
       "                --jl-text-secondary: #999999;\n",
       "                --jl-link-color: #4e94ce;\n",
       "                --jl-success-color: #89d185;\n",
       "                --jl-error-color: #f14c4c;\n",
       "                --jl-header-bg: #333333;\n",
       "            }\n",
       "\n",
       "            /* High contrast theme variables */\n",
       "            .theme-high-contrast {\n",
       "                --jl-bg-primary: #000000;\n",
       "                --jl-bg-secondary: #1a1a1a;\n",
       "                --jl-border-color: #404040;\n",
       "                --jl-text-primary: #ffffff;\n",
       "                --jl-text-secondary: #cccccc;\n",
       "                --jl-link-color: #66b3ff;\n",
       "                --jl-success-color: #00ff00;\n",
       "                --jl-error-color: #ff0000;\n",
       "                --jl-header-bg: #262626;\n",
       "            }\n",
       "            \n",
       "            .job-logger {\n",
       "                font-family: system-ui, -apple-system, sans-serif;\n",
       "                max-width: 800px;\n",
       "                margin: 10px 0;\n",
       "                color: var(--jl-text-primary);\n",
       "                box-shadow: 0 1px 3px rgba(0,0,0,0.12);\n",
       "                border-radius: 4px;\n",
       "                overflow: hidden;\n",
       "            }\n",
       "            \n",
       "            .job-logger-header {\n",
       "                padding: 12px 16px;\n",
       "                background: var(--jl-header-bg);\n",
       "                border: none;\n",
       "                border-radius: 4px 4px 0 0;\n",
       "                cursor: pointer;\n",
       "                color: var(--jl-text-primary);\n",
       "                user-select: none;\n",
       "                font-weight: 500;\n",
       "                letter-spacing: 0.3px;\n",
       "                display: flex;\n",
       "                justify-content: space-between;\n",
       "                align-items: center;\n",
       "            }\n",
       "            \n",
       "            .theme-select {\n",
       "                padding: 4px 8px;\n",
       "                border-radius: 4px;\n",
       "                border: 1px solid var(--jl-border-color);\n",
       "                background: var(--jl-bg-primary);\n",
       "                color: var(--jl-text-primary);\n",
       "                font-size: 0.9em;\n",
       "            }\n",
       "            \n",
       "            .job-logger-table {\n",
       "                width: 100%;\n",
       "                border-collapse: separate;\n",
       "                border-spacing: 0;\n",
       "                background: var(--jl-bg-primary);\n",
       "                border: 1px solid var(--jl-border-color);\n",
       "                margin-top: -1px;\n",
       "            }\n",
       "            \n",
       "            .job-logger-cell {\n",
       "                padding: 12px 16px;\n",
       "                border-bottom: 1px solid var(--jl-border-color);\n",
       "                line-height: 1.4;\n",
       "            }\n",
       "            \n",
       "            .job-logger-label {\n",
       "                font-weight: 500;\n",
       "                color: var(--jl-text-primary);\n",
       "                width: 25%;\n",
       "                background: var(--jl-bg-secondary);\n",
       "            }\n",
       "            \n",
       "            .job-logger-value {\n",
       "                color: var(--jl-text-secondary);\n",
       "                word-break: break-word;\n",
       "            }\n",
       "            \n",
       "            .job-logger-status {\n",
       "                margin: 0;\n",
       "                padding: 12px 16px;\n",
       "                background-color: var(--jl-bg-secondary);\n",
       "                border: 1px solid var(--jl-border-color);\n",
       "                border-top: none;\n",
       "                border-radius: 0 0 4px 4px;\n",
       "                color: var(--jl-text-primary);\n",
       "                font-size: 0.95em;\n",
       "            }\n",
       "        </style>\n",
       "        \n",
       "        <script>\n",
       "            class ThemeManager {\n",
       "                constructor(logId, initialTheme = 'auto') {\n",
       "                    this.logId = logId;\n",
       "                    this.currentTheme = initialTheme;\n",
       "                    this.darkModeMediaQuery = window.matchMedia('(prefers-color-scheme: dark)');\n",
       "                    this.init();\n",
       "                }\n",
       "                \n",
       "                init() {\n",
       "                    this.setupThemeSwitcher();\n",
       "                    this.updateTheme(this.currentTheme);\n",
       "                    \n",
       "                    this.darkModeMediaQuery.addListener(() => {\n",
       "                        if (this.currentTheme === 'auto') {\n",
       "                            this.updateTheme('auto');\n",
       "                        }\n",
       "                    });\n",
       "                }\n",
       "                \n",
       "                setupThemeSwitcher() {\n",
       "                    const logger = document.querySelector(`#logger-${this.logId}`);\n",
       "                    if (!logger) return;\n",
       "                    \n",
       "                    const switcher = document.createElement('div');\n",
       "                    switcher.className = 'theme-switcher';\n",
       "                    switcher.innerHTML = `\n",
       "                        <select id=\"theme-select-${this.logId}\" class=\"theme-select\">\n",
       "                            <option value=\"auto\">Auto</option>\n",
       "                            <option value=\"light\">Light</option>\n",
       "                            <option value=\"dark\">Dark</option>\n",
       "                            <option value=\"high-contrast\">High Contrast</option>\n",
       "                        </select>\n",
       "                    `;\n",
       "                    \n",
       "                    const header = logger.querySelector('.job-logger-header');\n",
       "                    header.appendChild(switcher);\n",
       "                    \n",
       "                    const select = switcher.querySelector('select');\n",
       "                    select.value = this.currentTheme;\n",
       "                    select.addEventListener('change', (e) => {\n",
       "                        this.updateTheme(e.target.value);\n",
       "                    });\n",
       "                }\n",
       "                \n",
       "                updateTheme(theme) {\n",
       "                    const logger = document.querySelector(`#logger-${this.logId}`);\n",
       "                    if (!logger) return;\n",
       "                    \n",
       "                    this.currentTheme = theme;\n",
       "                    \n",
       "                    logger.classList.remove('theme-light', 'theme-dark', 'theme-high-contrast');\n",
       "                    \n",
       "                    if (theme === 'auto') {\n",
       "                        const isDark = this.darkModeMediaQuery.matches;\n",
       "                        logger.classList.add(isDark ? 'theme-dark' : 'theme-light');\n",
       "                    } else {\n",
       "                        logger.classList.add(`theme-${theme}`);\n",
       "                    }\n",
       "                    \n",
       "                    try {\n",
       "                        localStorage.setItem('jobLoggerTheme', theme);\n",
       "                    } catch (e) {\n",
       "                        console.warn('Unable to save theme preference:', e);\n",
       "                    }\n",
       "                }\n",
       "            }\n",
       "            \n",
       "            window.initThemeManager = (logId, initialTheme) => {\n",
       "                new ThemeManager(logId, initialTheme);\n",
       "            };\n",
       "        </script>\n",
       "        \n",
       "        <script>\n",
       "            document.addEventListener('DOMContentLoaded', () => {\n",
       "                window.initThemeManager('5a5f5a11-52d0-4d59-b279-f0c352220349', 'auto');\n",
       "            });\n",
       "        </script>\n",
       "        "
      ],
      "text/plain": [
       "<IPython.core.display.HTML object>"
      ]
     },
     "metadata": {},
     "output_type": "display_data"
    }
   ],
   "source": [
    "results = survey.by(agents).by(models).run()"
   ]
  },
  {
   "cell_type": "markdown",
   "id": "0dbbf5dc-fbf8-425f-b7e0-7546ef1957f2",
   "metadata": {
    "editable": true,
    "slideshow": {
     "slide_type": ""
    },
    "tags": []
   },
   "source": [
    "### Analyzing results\n",
    "EDSL comes with [built-in methods for analysis](https://docs.expectedparrot.com/en/latest/results.html).\n",
    "Here we inspect the responses in a table:"
   ]
  },
  {
   "cell_type": "code",
   "execution_count": 10,
   "id": "930a6316-7b15-4a9a-927f-514cd81ce859",
   "metadata": {
    "editable": true,
    "slideshow": {
     "slide_type": ""
    },
    "tags": []
   },
   "outputs": [
    {
     "data": {
      "text/html": [
       "\n",
       "            <div style=\"max-height: 500px; overflow-y: auto;\">\n",
       "                <style type=\"text/css\">\n",
       "#T_768bb_row0_col0, #T_768bb_row0_col1, #T_768bb_row0_col2, #T_768bb_row1_col0, #T_768bb_row1_col1, #T_768bb_row1_col2, #T_768bb_row2_col0, #T_768bb_row2_col1, #T_768bb_row2_col2, #T_768bb_row3_col0, #T_768bb_row3_col1, #T_768bb_row3_col2, #T_768bb_row4_col0, #T_768bb_row4_col1, #T_768bb_row4_col2, #T_768bb_row5_col0, #T_768bb_row5_col1, #T_768bb_row5_col2, #T_768bb_row6_col0, #T_768bb_row6_col1, #T_768bb_row6_col2, #T_768bb_row7_col0, #T_768bb_row7_col1, #T_768bb_row7_col2, #T_768bb_row8_col0, #T_768bb_row8_col1, #T_768bb_row8_col2, #T_768bb_row9_col0, #T_768bb_row9_col1, #T_768bb_row9_col2, #T_768bb_row10_col0, #T_768bb_row10_col1, #T_768bb_row10_col2, #T_768bb_row11_col0, #T_768bb_row11_col1, #T_768bb_row11_col2, #T_768bb_row12_col0, #T_768bb_row12_col1, #T_768bb_row12_col2, #T_768bb_row13_col0, #T_768bb_row13_col1, #T_768bb_row13_col2, #T_768bb_row14_col0, #T_768bb_row14_col1, #T_768bb_row14_col2, #T_768bb_row15_col0, #T_768bb_row15_col1, #T_768bb_row15_col2, #T_768bb_row16_col0, #T_768bb_row16_col1, #T_768bb_row16_col2, #T_768bb_row17_col0, #T_768bb_row17_col1, #T_768bb_row17_col2, #T_768bb_row18_col0, #T_768bb_row18_col1, #T_768bb_row18_col2, #T_768bb_row19_col0, #T_768bb_row19_col1, #T_768bb_row19_col2 {\n",
       "  text-align: left;\n",
       "}\n",
       "#T_768bb_row0_col3, #T_768bb_row12_col3, #T_768bb_row13_col3 {\n",
       "  text-align: left;\n",
       "  background-color: #fff7fb;\n",
       "  color: #000000;\n",
       "}\n",
       "#T_768bb_row1_col3, #T_768bb_row11_col3, #T_768bb_row18_col3 {\n",
       "  text-align: left;\n",
       "  background-color: #d0d1e6;\n",
       "  color: #000000;\n",
       "}\n",
       "#T_768bb_row2_col3, #T_768bb_row4_col3, #T_768bb_row5_col3, #T_768bb_row10_col3, #T_768bb_row14_col3, #T_768bb_row19_col3 {\n",
       "  text-align: left;\n",
       "  background-color: #73a9cf;\n",
       "  color: #f1f1f1;\n",
       "}\n",
       "#T_768bb_row3_col3, #T_768bb_row8_col3, #T_768bb_row15_col3, #T_768bb_row16_col3, #T_768bb_row17_col3 {\n",
       "  text-align: left;\n",
       "  background-color: #056faf;\n",
       "  color: #f1f1f1;\n",
       "}\n",
       "#T_768bb_row6_col3, #T_768bb_row7_col3, #T_768bb_row9_col3 {\n",
       "  text-align: left;\n",
       "  background-color: #023858;\n",
       "  color: #f1f1f1;\n",
       "}\n",
       "</style>\n",
       "<table id=\"T_768bb\">\n",
       "  <thead>\n",
       "    <tr>\n",
       "      <th class=\"blank level0\" >&nbsp;</th>\n",
       "      <th id=\"T_768bb_level0_col0\" class=\"col_heading level0 col0\" >model.model</th>\n",
       "      <th id=\"T_768bb_level0_col1\" class=\"col_heading level0 col1\" >agent.persona</th>\n",
       "      <th id=\"T_768bb_level0_col2\" class=\"col_heading level0 col2\" >answer.preferred_mode_commute</th>\n",
       "      <th id=\"T_768bb_level0_col3\" class=\"col_heading level0 col3\" >answer.work_from_home</th>\n",
       "    </tr>\n",
       "  </thead>\n",
       "  <tbody>\n",
       "    <tr>\n",
       "      <th id=\"T_768bb_level0_row0\" class=\"row_heading level0 row0\" >0</th>\n",
       "      <td id=\"T_768bb_row0_col0\" class=\"data row0 col0\" >gemini-1.5-flash</td>\n",
       "      <td id=\"T_768bb_row0_col1\" class=\"data row0 col1\" >A theater manager or events coordinator interested in understanding the operational aspects, facilities, and programming of performing arts centers, such as the Broward Center.</td>\n",
       "      <td id=\"T_768bb_row0_col2\" class=\"data row0 col2\" >Car</td>\n",
       "      <td id=\"T_768bb_row0_col3\" class=\"data row0 col3\" >1</td>\n",
       "    </tr>\n",
       "    <tr>\n",
       "      <th id=\"T_768bb_level0_row1\" class=\"row_heading level0 row1\" >1</th>\n",
       "      <td id=\"T_768bb_row1_col0\" class=\"data row1 col0\" >gpt-4o</td>\n",
       "      <td id=\"T_768bb_row1_col1\" class=\"data row1 col1\" >A theater manager or events coordinator interested in understanding the operational aspects, facilities, and programming of performing arts centers, such as the Broward Center.</td>\n",
       "      <td id=\"T_768bb_row1_col2\" class=\"data row1 col2\" >Car</td>\n",
       "      <td id=\"T_768bb_row1_col3\" class=\"data row1 col3\" >2</td>\n",
       "    </tr>\n",
       "    <tr>\n",
       "      <th id=\"T_768bb_level0_row2\" class=\"row_heading level0 row2\" >2</th>\n",
       "      <td id=\"T_768bb_row2_col0\" class=\"data row2 col0\" >gemini-1.5-flash</td>\n",
       "      <td id=\"T_768bb_row2_col1\" class=\"data row2 col1\" >An urban planner looking to understand the distribution and organization of public services in the Halifax Regional Municipality.</td>\n",
       "      <td id=\"T_768bb_row2_col2\" class=\"data row2 col2\" >Public transportation</td>\n",
       "      <td id=\"T_768bb_row2_col3\" class=\"data row2 col3\" >3</td>\n",
       "    </tr>\n",
       "    <tr>\n",
       "      <th id=\"T_768bb_level0_row3\" class=\"row_heading level0 row3\" >3</th>\n",
       "      <td id=\"T_768bb_row3_col0\" class=\"data row3 col0\" >gpt-4o</td>\n",
       "      <td id=\"T_768bb_row3_col1\" class=\"data row3 col1\" >An urban planner looking to understand the distribution and organization of public services in the Halifax Regional Municipality.</td>\n",
       "      <td id=\"T_768bb_row3_col2\" class=\"data row3 col2\" >Public transportation</td>\n",
       "      <td id=\"T_768bb_row3_col3\" class=\"data row3 col3\" >4</td>\n",
       "    </tr>\n",
       "    <tr>\n",
       "      <th id=\"T_768bb_level0_row4\" class=\"row_heading level0 row4\" >4</th>\n",
       "      <td id=\"T_768bb_row4_col0\" class=\"data row4 col0\" >gemini-1.5-flash</td>\n",
       "      <td id=\"T_768bb_row4_col1\" class=\"data row4 col1\" >A high school literature teacher looking for supplementary materials to enrich their curriculum and provide students with a deeper understanding of their state's cultural heritage.</td>\n",
       "      <td id=\"T_768bb_row4_col2\" class=\"data row4 col2\" >Car</td>\n",
       "      <td id=\"T_768bb_row4_col3\" class=\"data row4 col3\" >3</td>\n",
       "    </tr>\n",
       "    <tr>\n",
       "      <th id=\"T_768bb_level0_row5\" class=\"row_heading level0 row5\" >5</th>\n",
       "      <td id=\"T_768bb_row5_col0\" class=\"data row5 col0\" >gpt-4o</td>\n",
       "      <td id=\"T_768bb_row5_col1\" class=\"data row5 col1\" >A high school literature teacher looking for supplementary materials to enrich their curriculum and provide students with a deeper understanding of their state's cultural heritage.</td>\n",
       "      <td id=\"T_768bb_row5_col2\" class=\"data row5 col2\" >Car</td>\n",
       "      <td id=\"T_768bb_row5_col3\" class=\"data row5 col3\" >3</td>\n",
       "    </tr>\n",
       "    <tr>\n",
       "      <th id=\"T_768bb_level0_row6\" class=\"row_heading level0 row6\" >6</th>\n",
       "      <td id=\"T_768bb_row6_col0\" class=\"data row6 col0\" >gemini-1.5-flash</td>\n",
       "      <td id=\"T_768bb_row6_col1\" class=\"data row6 col1\" >A science fiction writer, exploring the use of secret trials as a theme in stories that examine surveillance, privacy, and power dynamics in society.</td>\n",
       "      <td id=\"T_768bb_row6_col2\" class=\"data row6 col2\" >Work from home</td>\n",
       "      <td id=\"T_768bb_row6_col3\" class=\"data row6 col3\" >5</td>\n",
       "    </tr>\n",
       "    <tr>\n",
       "      <th id=\"T_768bb_level0_row7\" class=\"row_heading level0 row7\" >7</th>\n",
       "      <td id=\"T_768bb_row7_col0\" class=\"data row7 col0\" >gpt-4o</td>\n",
       "      <td id=\"T_768bb_row7_col1\" class=\"data row7 col1\" >A science fiction writer, exploring the use of secret trials as a theme in stories that examine surveillance, privacy, and power dynamics in society.</td>\n",
       "      <td id=\"T_768bb_row7_col2\" class=\"data row7 col2\" >Work from home</td>\n",
       "      <td id=\"T_768bb_row7_col3\" class=\"data row7 col3\" >5</td>\n",
       "    </tr>\n",
       "    <tr>\n",
       "      <th id=\"T_768bb_level0_row8\" class=\"row_heading level0 row8\" >8</th>\n",
       "      <td id=\"T_768bb_row8_col0\" class=\"data row8 col0\" >gemini-1.5-flash</td>\n",
       "      <td id=\"T_768bb_row8_col1\" class=\"data row8 col1\" >A financial analyst specializing in Asian markets and wealthy individuals, interested in tracking the investments and philanthropic activities of billionaires like Gerald Chan.</td>\n",
       "      <td id=\"T_768bb_row8_col2\" class=\"data row8 col2\" >Work from home</td>\n",
       "      <td id=\"T_768bb_row8_col3\" class=\"data row8 col3\" >4</td>\n",
       "    </tr>\n",
       "    <tr>\n",
       "      <th id=\"T_768bb_level0_row9\" class=\"row_heading level0 row9\" >9</th>\n",
       "      <td id=\"T_768bb_row9_col0\" class=\"data row9 col0\" >gpt-4o</td>\n",
       "      <td id=\"T_768bb_row9_col1\" class=\"data row9 col1\" >A financial analyst specializing in Asian markets and wealthy individuals, interested in tracking the investments and philanthropic activities of billionaires like Gerald Chan.</td>\n",
       "      <td id=\"T_768bb_row9_col2\" class=\"data row9 col2\" >Work from home</td>\n",
       "      <td id=\"T_768bb_row9_col3\" class=\"data row9 col3\" >5</td>\n",
       "    </tr>\n",
       "    <tr>\n",
       "      <th id=\"T_768bb_level0_row10\" class=\"row_heading level0 row10\" >10</th>\n",
       "      <td id=\"T_768bb_row10_col0\" class=\"data row10 col0\" >gemini-1.5-flash</td>\n",
       "      <td id=\"T_768bb_row10_col1\" class=\"data row10 col1\" >A high school physics teacher who enjoys applying physics concepts to various sports, curious about the effects of water resistance and body positioning in Paralympic swimming.</td>\n",
       "      <td id=\"T_768bb_row10_col2\" class=\"data row10 col2\" >Car</td>\n",
       "      <td id=\"T_768bb_row10_col3\" class=\"data row10 col3\" >3</td>\n",
       "    </tr>\n",
       "    <tr>\n",
       "      <th id=\"T_768bb_level0_row11\" class=\"row_heading level0 row11\" >11</th>\n",
       "      <td id=\"T_768bb_row11_col0\" class=\"data row11 col0\" >gpt-4o</td>\n",
       "      <td id=\"T_768bb_row11_col1\" class=\"data row11 col1\" >A high school physics teacher who enjoys applying physics concepts to various sports, curious about the effects of water resistance and body positioning in Paralympic swimming.</td>\n",
       "      <td id=\"T_768bb_row11_col2\" class=\"data row11 col2\" >Bike</td>\n",
       "      <td id=\"T_768bb_row11_col3\" class=\"data row11 col3\" >2</td>\n",
       "    </tr>\n",
       "    <tr>\n",
       "      <th id=\"T_768bb_level0_row12\" class=\"row_heading level0 row12\" >12</th>\n",
       "      <td id=\"T_768bb_row12_col0\" class=\"data row12 col0\" >gemini-1.5-flash</td>\n",
       "      <td id=\"T_768bb_row12_col1\" class=\"data row12 col1\" >A high school physical education teacher seeking to incorporate Paralympic history and achievements into the curriculum to inspire and educate students about inclusivity in sports.</td>\n",
       "      <td id=\"T_768bb_row12_col2\" class=\"data row12 col2\" >Car</td>\n",
       "      <td id=\"T_768bb_row12_col3\" class=\"data row12 col3\" >1</td>\n",
       "    </tr>\n",
       "    <tr>\n",
       "      <th id=\"T_768bb_level0_row13\" class=\"row_heading level0 row13\" >13</th>\n",
       "      <td id=\"T_768bb_row13_col0\" class=\"data row13 col0\" >gpt-4o</td>\n",
       "      <td id=\"T_768bb_row13_col1\" class=\"data row13 col1\" >A high school physical education teacher seeking to incorporate Paralympic history and achievements into the curriculum to inspire and educate students about inclusivity in sports.</td>\n",
       "      <td id=\"T_768bb_row13_col2\" class=\"data row13 col2\" >Bike</td>\n",
       "      <td id=\"T_768bb_row13_col3\" class=\"data row13 col3\" >1</td>\n",
       "    </tr>\n",
       "    <tr>\n",
       "      <th id=\"T_768bb_level0_row14\" class=\"row_heading level0 row14\" >14</th>\n",
       "      <td id=\"T_768bb_row14_col0\" class=\"data row14 col0\" >gemini-1.5-flash</td>\n",
       "      <td id=\"T_768bb_row14_col1\" class=\"data row14 col1\" >A high school history teacher creating lesson plans on South American civilizations and their regional diversity.</td>\n",
       "      <td id=\"T_768bb_row14_col2\" class=\"data row14 col2\" >Car</td>\n",
       "      <td id=\"T_768bb_row14_col3\" class=\"data row14 col3\" >3</td>\n",
       "    </tr>\n",
       "    <tr>\n",
       "      <th id=\"T_768bb_level0_row15\" class=\"row_heading level0 row15\" >15</th>\n",
       "      <td id=\"T_768bb_row15_col0\" class=\"data row15 col0\" >gpt-4o</td>\n",
       "      <td id=\"T_768bb_row15_col1\" class=\"data row15 col1\" >A high school history teacher creating lesson plans on South American civilizations and their regional diversity.</td>\n",
       "      <td id=\"T_768bb_row15_col2\" class=\"data row15 col2\" >Car</td>\n",
       "      <td id=\"T_768bb_row15_col3\" class=\"data row15 col3\" >4</td>\n",
       "    </tr>\n",
       "    <tr>\n",
       "      <th id=\"T_768bb_level0_row16\" class=\"row_heading level0 row16\" >16</th>\n",
       "      <td id=\"T_768bb_row16_col0\" class=\"data row16 col0\" >gemini-1.5-flash</td>\n",
       "      <td id=\"T_768bb_row16_col1\" class=\"data row16 col1\" >A cultural anthropologist studying the representation and adaptation of traditional folklore in contemporary media, particularly in television and film.</td>\n",
       "      <td id=\"T_768bb_row16_col2\" class=\"data row16 col2\" >Work from home</td>\n",
       "      <td id=\"T_768bb_row16_col3\" class=\"data row16 col3\" >4</td>\n",
       "    </tr>\n",
       "    <tr>\n",
       "      <th id=\"T_768bb_level0_row17\" class=\"row_heading level0 row17\" >17</th>\n",
       "      <td id=\"T_768bb_row17_col0\" class=\"data row17 col0\" >gpt-4o</td>\n",
       "      <td id=\"T_768bb_row17_col1\" class=\"data row17 col1\" >A cultural anthropologist studying the representation and adaptation of traditional folklore in contemporary media, particularly in television and film.</td>\n",
       "      <td id=\"T_768bb_row17_col2\" class=\"data row17 col2\" >Work from home</td>\n",
       "      <td id=\"T_768bb_row17_col3\" class=\"data row17 col3\" >4</td>\n",
       "    </tr>\n",
       "    <tr>\n",
       "      <th id=\"T_768bb_level0_row18\" class=\"row_heading level0 row18\" >18</th>\n",
       "      <td id=\"T_768bb_row18_col0\" class=\"data row18 col0\" >gemini-1.5-flash</td>\n",
       "      <td id=\"T_768bb_row18_col1\" class=\"data row18 col1\" >A high school earth science teacher looking for real-world examples to explain climate zones, soil types, and human-environment interactions.</td>\n",
       "      <td id=\"T_768bb_row18_col2\" class=\"data row18 col2\" >Car</td>\n",
       "      <td id=\"T_768bb_row18_col3\" class=\"data row18 col3\" >2</td>\n",
       "    </tr>\n",
       "    <tr>\n",
       "      <th id=\"T_768bb_level0_row19\" class=\"row_heading level0 row19\" >19</th>\n",
       "      <td id=\"T_768bb_row19_col0\" class=\"data row19 col0\" >gpt-4o</td>\n",
       "      <td id=\"T_768bb_row19_col1\" class=\"data row19 col1\" >A high school earth science teacher looking for real-world examples to explain climate zones, soil types, and human-environment interactions.</td>\n",
       "      <td id=\"T_768bb_row19_col2\" class=\"data row19 col2\" >Car</td>\n",
       "      <td id=\"T_768bb_row19_col3\" class=\"data row19 col3\" >3</td>\n",
       "    </tr>\n",
       "  </tbody>\n",
       "</table>\n",
       "\n",
       "            </div>\n",
       "            "
      ],
      "text/plain": [
       "Dataset([{'model.model': ['gemini-1.5-flash', 'gpt-4o', 'gemini-1.5-flash', 'gpt-4o', 'gemini-1.5-flash', 'gpt-4o', 'gemini-1.5-flash', 'gpt-4o', 'gemini-1.5-flash', 'gpt-4o', 'gemini-1.5-flash', 'gpt-4o', 'gemini-1.5-flash', 'gpt-4o', 'gemini-1.5-flash', 'gpt-4o', 'gemini-1.5-flash', 'gpt-4o', 'gemini-1.5-flash', 'gpt-4o']}, {'agent.persona': ['A theater manager or events coordinator interested in understanding the operational aspects, facilities, and programming of performing arts centers, such as the Broward Center.', 'A theater manager or events coordinator interested in understanding the operational aspects, facilities, and programming of performing arts centers, such as the Broward Center.', 'An urban planner looking to understand the distribution and organization of public services in the Halifax Regional Municipality.', 'An urban planner looking to understand the distribution and organization of public services in the Halifax Regional Municipality.', \"A high school literature teacher looking for supplementary materials to enrich their curriculum and provide students with a deeper understanding of their state's cultural heritage.\", \"A high school literature teacher looking for supplementary materials to enrich their curriculum and provide students with a deeper understanding of their state's cultural heritage.\", 'A science fiction writer, exploring the use of secret trials as a theme in stories that examine surveillance, privacy, and power dynamics in society.', 'A science fiction writer, exploring the use of secret trials as a theme in stories that examine surveillance, privacy, and power dynamics in society.', 'A financial analyst specializing in Asian markets and wealthy individuals, interested in tracking the investments and philanthropic activities of billionaires like Gerald Chan.', 'A financial analyst specializing in Asian markets and wealthy individuals, interested in tracking the investments and philanthropic activities of billionaires like Gerald Chan.', 'A high school physics teacher who enjoys applying physics concepts to various sports, curious about the effects of water resistance and body positioning in Paralympic swimming.', 'A high school physics teacher who enjoys applying physics concepts to various sports, curious about the effects of water resistance and body positioning in Paralympic swimming.', 'A high school physical education teacher seeking to incorporate Paralympic history and achievements into the curriculum to inspire and educate students about inclusivity in sports.', 'A high school physical education teacher seeking to incorporate Paralympic history and achievements into the curriculum to inspire and educate students about inclusivity in sports.', 'A high school history teacher creating lesson plans on South American civilizations and their regional diversity.', 'A high school history teacher creating lesson plans on South American civilizations and their regional diversity.', 'A cultural anthropologist studying the representation and adaptation of traditional folklore in contemporary media, particularly in television and film.', 'A cultural anthropologist studying the representation and adaptation of traditional folklore in contemporary media, particularly in television and film.', 'A high school earth science teacher looking for real-world examples to explain climate zones, soil types, and human-environment interactions.', 'A high school earth science teacher looking for real-world examples to explain climate zones, soil types, and human-environment interactions.']}, {'answer.preferred_mode_commute': ['Car', 'Car', 'Public transportation', 'Public transportation', 'Car', 'Car', 'Work from home', 'Work from home', 'Work from home', 'Work from home', 'Car', 'Bike', 'Car', 'Bike', 'Car', 'Car', 'Work from home', 'Work from home', 'Car', 'Car']}, {'answer.work_from_home': [1, 2, 3, 4, 3, 3, 5, 5, 4, 5, 3, 2, 1, 1, 3, 4, 4, 4, 2, 3]}])"
      ]
     },
     "execution_count": 10,
     "metadata": {},
     "output_type": "execute_result"
    }
   ],
   "source": [
    "results.select(\"model\", \"persona\", \"preferred_mode_commute\", \"work_from_home\")"
   ]
  },
  {
   "cell_type": "markdown",
   "id": "e2fc6367-9370-450e-a6b7-b15f6907bfb2",
   "metadata": {
    "editable": true,
    "slideshow": {
     "slide_type": ""
    },
    "tags": []
   },
   "source": [
    "### Constructing traits\n",
    "In comparing model responses it can be convenient to include shortnames for traits in addition to narrative personas--e.g., just the name of the agent's occupation, age, etc. Here we run a question to extract the occupation from each persona in order to store it as a separate `trait` of each agent. We use `Scenario` objects to represent the data (personas) that we add to the question when we run it. [Learn more about using scenarios](https://docs.expectedparrot.com/en/latest/scenarios.html) to parameterize questions with data and context."
   ]
  },
  {
   "cell_type": "code",
   "execution_count": 11,
   "id": "ae397e67-ed35-4f5d-9d58-20e89b1151f8",
   "metadata": {
    "editable": true,
    "slideshow": {
     "slide_type": ""
    },
    "tags": []
   },
   "outputs": [],
   "source": [
    "from edsl import QuestionExtract\n",
    "\n",
    "q = QuestionExtract(\n",
    "    question_name = \"occupation\",\n",
    "    question_text = \"{{ scenario.persona }}\",\n",
    "    answer_template = {\"occupation\":\"artist\"} \n",
    ")"
   ]
  },
  {
   "cell_type": "markdown",
   "id": "9fbc2fbe-64c7-4dec-8a7d-5f7ded6c960b",
   "metadata": {
    "editable": true,
    "slideshow": {
     "slide_type": ""
    },
    "tags": []
   },
   "source": [
    "Creating scenarios for the personas in order to add them to the question:"
   ]
  },
  {
   "cell_type": "code",
   "execution_count": 12,
   "id": "5728dcf0-49da-45a0-b892-05f48b63efb5",
   "metadata": {
    "editable": true,
    "slideshow": {
     "slide_type": ""
    },
    "tags": []
   },
   "outputs": [],
   "source": [
    "from edsl import ScenarioList\n",
    "\n",
    "scenarios = ScenarioList.from_list(\"persona\", personas_list)"
   ]
  },
  {
   "cell_type": "code",
   "execution_count": 13,
   "id": "4cf7023f-6ab8-4c1e-b1af-1a311ac8c3dd",
   "metadata": {
    "editable": true,
    "slideshow": {
     "slide_type": ""
    },
    "tags": []
   },
   "outputs": [
    {
     "data": {
      "text/html": [
       "\n",
       "            <!-- #region Remove Inference Info -->\n",
       "            <div id=\"logger-e8d3315a-8509-4b37-927b-e26227dd6ebe\" class=\"job-logger\">\n",
       "                <div class=\"job-logger-header\">\n",
       "                    <span>\n",
       "                        <span id=\"arrow-e8d3315a-8509-4b37-927b-e26227dd6ebe\">▼</span> \n",
       "                        Job Status (2025-03-03 10:41:46)\n",
       "                    </span>\n",
       "                </div>\n",
       "                <div id=\"content-e8d3315a-8509-4b37-927b-e26227dd6ebe\" style=\"display: block;\">\n",
       "                    <table class=\"job-logger-table\">\n",
       "                        \n",
       "            <tr>\n",
       "                <td class=\"job-logger-cell job-logger-label\">Job UUID</td>\n",
       "                <td class=\"job-logger-cell job-logger-value\">c56acffd-137d-4800-9b1f-ad42e4f1a603</td>\n",
       "            </tr>\n",
       "        \n",
       "            <tr>\n",
       "                <td class=\"job-logger-cell job-logger-label\">Progress Bar URL</td>\n",
       "                <td class=\"job-logger-cell job-logger-value\"><a href=\"https://www.expectedparrot.com/home/remote-job-progress/c56acffd-137d-4800-9b1f-ad42e4f1a603\" target=\"_blank\" class=\"job-logger-link\">https://www.expectedparrot.com/home/remote-job-progress/c56acffd-137d-4800-9b1f-ad42e4f1a603</a></td>\n",
       "            </tr>\n",
       "        \n",
       "            <tr>\n",
       "                <td class=\"job-logger-cell job-logger-label\">Exceptions Report URL</td>\n",
       "                <td class=\"job-logger-cell job-logger-value\">None</td>\n",
       "            </tr>\n",
       "        \n",
       "            <tr>\n",
       "                <td class=\"job-logger-cell job-logger-label\">Results UUID</td>\n",
       "                <td class=\"job-logger-cell job-logger-value\">9f136a82-8ae5-4648-a14e-eab2d5ab1ebc</td>\n",
       "            </tr>\n",
       "        \n",
       "            <tr>\n",
       "                <td class=\"job-logger-cell job-logger-label\">Results URL</td>\n",
       "                <td class=\"job-logger-cell job-logger-value\"><a href=\"https://www.expectedparrot.com/content/9f136a82-8ae5-4648-a14e-eab2d5ab1ebc\" target=\"_blank\" class=\"job-logger-link\">https://www.expectedparrot.com/content/9f136a82-8ae5-4648-a14e-eab2d5ab1ebc</a></td>\n",
       "            </tr>\n",
       "        \n",
       "                    </table>\n",
       "                    \n",
       "                <div class=\"job-logger-status\">\n",
       "                    <span style=\"margin-right: 8px;\" class=\"job-logger-success\">✓</span><strong>Current Status:</strong> Job completed and Results stored on Coop: <a href=\"https://www.expectedparrot.com/content/9f136a82-8ae5-4648-a14e-eab2d5ab1ebc\" target=\"_blank\" class=\"job-logger-link\">https://www.expectedparrot.com/content/9f136a82-8ae5-4648-a14e-eab2d5ab1ebc</a>\n",
       "                </div>\n",
       "            \n",
       "                </div>\n",
       "            </div>\n",
       "            <!-- # endregion -->\n",
       "        "
      ],
      "text/plain": [
       "<IPython.core.display.HTML object>"
      ]
     },
     "metadata": {},
     "output_type": "display_data"
    },
    {
     "data": {
      "text/html": [
       "\n",
       "        <style>\n",
       "            /* Base theme variables */\n",
       "            :root {\n",
       "                --jl-bg-primary: #ffffff;\n",
       "                --jl-bg-secondary: #f5f5f5;\n",
       "                --jl-border-color: #e0e0e0;\n",
       "                --jl-text-primary: #24292e;\n",
       "                --jl-text-secondary: #586069;\n",
       "                --jl-link-color: #0366d6;\n",
       "                --jl-success-color: #28a745;\n",
       "                --jl-error-color: #d73a49;\n",
       "                --jl-header-bg: #f1f1f1;\n",
       "            }\n",
       "            \n",
       "            /* Dark theme variables */\n",
       "            .theme-dark {\n",
       "                --jl-bg-primary: #1e1e1e;\n",
       "                --jl-bg-secondary: #252526;\n",
       "                --jl-border-color: #2d2d2d;\n",
       "                --jl-text-primary: #cccccc;\n",
       "                --jl-text-secondary: #999999;\n",
       "                --jl-link-color: #4e94ce;\n",
       "                --jl-success-color: #89d185;\n",
       "                --jl-error-color: #f14c4c;\n",
       "                --jl-header-bg: #333333;\n",
       "            }\n",
       "\n",
       "            /* High contrast theme variables */\n",
       "            .theme-high-contrast {\n",
       "                --jl-bg-primary: #000000;\n",
       "                --jl-bg-secondary: #1a1a1a;\n",
       "                --jl-border-color: #404040;\n",
       "                --jl-text-primary: #ffffff;\n",
       "                --jl-text-secondary: #cccccc;\n",
       "                --jl-link-color: #66b3ff;\n",
       "                --jl-success-color: #00ff00;\n",
       "                --jl-error-color: #ff0000;\n",
       "                --jl-header-bg: #262626;\n",
       "            }\n",
       "            \n",
       "            .job-logger {\n",
       "                font-family: system-ui, -apple-system, sans-serif;\n",
       "                max-width: 800px;\n",
       "                margin: 10px 0;\n",
       "                color: var(--jl-text-primary);\n",
       "                box-shadow: 0 1px 3px rgba(0,0,0,0.12);\n",
       "                border-radius: 4px;\n",
       "                overflow: hidden;\n",
       "            }\n",
       "            \n",
       "            .job-logger-header {\n",
       "                padding: 12px 16px;\n",
       "                background: var(--jl-header-bg);\n",
       "                border: none;\n",
       "                border-radius: 4px 4px 0 0;\n",
       "                cursor: pointer;\n",
       "                color: var(--jl-text-primary);\n",
       "                user-select: none;\n",
       "                font-weight: 500;\n",
       "                letter-spacing: 0.3px;\n",
       "                display: flex;\n",
       "                justify-content: space-between;\n",
       "                align-items: center;\n",
       "            }\n",
       "            \n",
       "            .theme-select {\n",
       "                padding: 4px 8px;\n",
       "                border-radius: 4px;\n",
       "                border: 1px solid var(--jl-border-color);\n",
       "                background: var(--jl-bg-primary);\n",
       "                color: var(--jl-text-primary);\n",
       "                font-size: 0.9em;\n",
       "            }\n",
       "            \n",
       "            .job-logger-table {\n",
       "                width: 100%;\n",
       "                border-collapse: separate;\n",
       "                border-spacing: 0;\n",
       "                background: var(--jl-bg-primary);\n",
       "                border: 1px solid var(--jl-border-color);\n",
       "                margin-top: -1px;\n",
       "            }\n",
       "            \n",
       "            .job-logger-cell {\n",
       "                padding: 12px 16px;\n",
       "                border-bottom: 1px solid var(--jl-border-color);\n",
       "                line-height: 1.4;\n",
       "            }\n",
       "            \n",
       "            .job-logger-label {\n",
       "                font-weight: 500;\n",
       "                color: var(--jl-text-primary);\n",
       "                width: 25%;\n",
       "                background: var(--jl-bg-secondary);\n",
       "            }\n",
       "            \n",
       "            .job-logger-value {\n",
       "                color: var(--jl-text-secondary);\n",
       "                word-break: break-word;\n",
       "            }\n",
       "            \n",
       "            .job-logger-status {\n",
       "                margin: 0;\n",
       "                padding: 12px 16px;\n",
       "                background-color: var(--jl-bg-secondary);\n",
       "                border: 1px solid var(--jl-border-color);\n",
       "                border-top: none;\n",
       "                border-radius: 0 0 4px 4px;\n",
       "                color: var(--jl-text-primary);\n",
       "                font-size: 0.95em;\n",
       "            }\n",
       "        </style>\n",
       "        \n",
       "        <script>\n",
       "            class ThemeManager {\n",
       "                constructor(logId, initialTheme = 'auto') {\n",
       "                    this.logId = logId;\n",
       "                    this.currentTheme = initialTheme;\n",
       "                    this.darkModeMediaQuery = window.matchMedia('(prefers-color-scheme: dark)');\n",
       "                    this.init();\n",
       "                }\n",
       "                \n",
       "                init() {\n",
       "                    this.setupThemeSwitcher();\n",
       "                    this.updateTheme(this.currentTheme);\n",
       "                    \n",
       "                    this.darkModeMediaQuery.addListener(() => {\n",
       "                        if (this.currentTheme === 'auto') {\n",
       "                            this.updateTheme('auto');\n",
       "                        }\n",
       "                    });\n",
       "                }\n",
       "                \n",
       "                setupThemeSwitcher() {\n",
       "                    const logger = document.querySelector(`#logger-${this.logId}`);\n",
       "                    if (!logger) return;\n",
       "                    \n",
       "                    const switcher = document.createElement('div');\n",
       "                    switcher.className = 'theme-switcher';\n",
       "                    switcher.innerHTML = `\n",
       "                        <select id=\"theme-select-${this.logId}\" class=\"theme-select\">\n",
       "                            <option value=\"auto\">Auto</option>\n",
       "                            <option value=\"light\">Light</option>\n",
       "                            <option value=\"dark\">Dark</option>\n",
       "                            <option value=\"high-contrast\">High Contrast</option>\n",
       "                        </select>\n",
       "                    `;\n",
       "                    \n",
       "                    const header = logger.querySelector('.job-logger-header');\n",
       "                    header.appendChild(switcher);\n",
       "                    \n",
       "                    const select = switcher.querySelector('select');\n",
       "                    select.value = this.currentTheme;\n",
       "                    select.addEventListener('change', (e) => {\n",
       "                        this.updateTheme(e.target.value);\n",
       "                    });\n",
       "                }\n",
       "                \n",
       "                updateTheme(theme) {\n",
       "                    const logger = document.querySelector(`#logger-${this.logId}`);\n",
       "                    if (!logger) return;\n",
       "                    \n",
       "                    this.currentTheme = theme;\n",
       "                    \n",
       "                    logger.classList.remove('theme-light', 'theme-dark', 'theme-high-contrast');\n",
       "                    \n",
       "                    if (theme === 'auto') {\n",
       "                        const isDark = this.darkModeMediaQuery.matches;\n",
       "                        logger.classList.add(isDark ? 'theme-dark' : 'theme-light');\n",
       "                    } else {\n",
       "                        logger.classList.add(`theme-${theme}`);\n",
       "                    }\n",
       "                    \n",
       "                    try {\n",
       "                        localStorage.setItem('jobLoggerTheme', theme);\n",
       "                    } catch (e) {\n",
       "                        console.warn('Unable to save theme preference:', e);\n",
       "                    }\n",
       "                }\n",
       "            }\n",
       "            \n",
       "            window.initThemeManager = (logId, initialTheme) => {\n",
       "                new ThemeManager(logId, initialTheme);\n",
       "            };\n",
       "        </script>\n",
       "        \n",
       "        <script>\n",
       "            document.addEventListener('DOMContentLoaded', () => {\n",
       "                window.initThemeManager('e8d3315a-8509-4b37-927b-e26227dd6ebe', 'auto');\n",
       "            });\n",
       "        </script>\n",
       "        "
      ],
      "text/plain": [
       "<IPython.core.display.HTML object>"
      ]
     },
     "metadata": {},
     "output_type": "display_data"
    }
   ],
   "source": [
    "results = q.by(scenarios).run()"
   ]
  },
  {
   "cell_type": "code",
   "execution_count": 14,
   "id": "a32a97e9-7061-436d-8a49-5479b758a9e0",
   "metadata": {
    "editable": true,
    "slideshow": {
     "slide_type": ""
    },
    "tags": []
   },
   "outputs": [
    {
     "data": {
      "text/html": [
       "\n",
       "            <div style=\"max-height: 500px; overflow-y: auto;\">\n",
       "                <style type=\"text/css\">\n",
       "#T_af1ea_row0_col0, #T_af1ea_row0_col1, #T_af1ea_row1_col0, #T_af1ea_row1_col1, #T_af1ea_row2_col0, #T_af1ea_row2_col1, #T_af1ea_row3_col0, #T_af1ea_row3_col1, #T_af1ea_row4_col0, #T_af1ea_row4_col1, #T_af1ea_row5_col0, #T_af1ea_row5_col1, #T_af1ea_row6_col0, #T_af1ea_row6_col1, #T_af1ea_row7_col0, #T_af1ea_row7_col1, #T_af1ea_row8_col0, #T_af1ea_row8_col1, #T_af1ea_row9_col0, #T_af1ea_row9_col1 {\n",
       "  text-align: left;\n",
       "}\n",
       "</style>\n",
       "<table id=\"T_af1ea\">\n",
       "  <thead>\n",
       "    <tr>\n",
       "      <th class=\"blank level0\" >&nbsp;</th>\n",
       "      <th id=\"T_af1ea_level0_col0\" class=\"col_heading level0 col0\" >scenario.persona</th>\n",
       "      <th id=\"T_af1ea_level0_col1\" class=\"col_heading level0 col1\" >answer.occupation</th>\n",
       "    </tr>\n",
       "  </thead>\n",
       "  <tbody>\n",
       "    <tr>\n",
       "      <th id=\"T_af1ea_level0_row0\" class=\"row_heading level0 row0\" >0</th>\n",
       "      <td id=\"T_af1ea_row0_col0\" class=\"data row0 col0\" >A theater manager or events coordinator interested in understanding the operational aspects, facilities, and programming of performing arts centers, such as the Broward Center.</td>\n",
       "      <td id=\"T_af1ea_row0_col1\" class=\"data row0 col1\" >{'occupation': 'theater manager or events coordinator'}</td>\n",
       "    </tr>\n",
       "    <tr>\n",
       "      <th id=\"T_af1ea_level0_row1\" class=\"row_heading level0 row1\" >1</th>\n",
       "      <td id=\"T_af1ea_row1_col0\" class=\"data row1 col0\" >An urban planner looking to understand the distribution and organization of public services in the Halifax Regional Municipality.</td>\n",
       "      <td id=\"T_af1ea_row1_col1\" class=\"data row1 col1\" >{'occupation': 'urban planner'}</td>\n",
       "    </tr>\n",
       "    <tr>\n",
       "      <th id=\"T_af1ea_level0_row2\" class=\"row_heading level0 row2\" >2</th>\n",
       "      <td id=\"T_af1ea_row2_col0\" class=\"data row2 col0\" >A high school literature teacher looking for supplementary materials to enrich their curriculum and provide students with a deeper understanding of their state's cultural heritage.</td>\n",
       "      <td id=\"T_af1ea_row2_col1\" class=\"data row2 col1\" >{'occupation': 'high school literature teacher'}</td>\n",
       "    </tr>\n",
       "    <tr>\n",
       "      <th id=\"T_af1ea_level0_row3\" class=\"row_heading level0 row3\" >3</th>\n",
       "      <td id=\"T_af1ea_row3_col0\" class=\"data row3 col0\" >A science fiction writer, exploring the use of secret trials as a theme in stories that examine surveillance, privacy, and power dynamics in society.</td>\n",
       "      <td id=\"T_af1ea_row3_col1\" class=\"data row3 col1\" >{'occupation': 'science fiction writer'}</td>\n",
       "    </tr>\n",
       "    <tr>\n",
       "      <th id=\"T_af1ea_level0_row4\" class=\"row_heading level0 row4\" >4</th>\n",
       "      <td id=\"T_af1ea_row4_col0\" class=\"data row4 col0\" >A financial analyst specializing in Asian markets and wealthy individuals, interested in tracking the investments and philanthropic activities of billionaires like Gerald Chan.</td>\n",
       "      <td id=\"T_af1ea_row4_col1\" class=\"data row4 col1\" >{'occupation': 'financial analyst'}</td>\n",
       "    </tr>\n",
       "    <tr>\n",
       "      <th id=\"T_af1ea_level0_row5\" class=\"row_heading level0 row5\" >5</th>\n",
       "      <td id=\"T_af1ea_row5_col0\" class=\"data row5 col0\" >A high school physics teacher who enjoys applying physics concepts to various sports, curious about the effects of water resistance and body positioning in Paralympic swimming.</td>\n",
       "      <td id=\"T_af1ea_row5_col1\" class=\"data row5 col1\" >{'occupation': 'high school physics teacher'}</td>\n",
       "    </tr>\n",
       "    <tr>\n",
       "      <th id=\"T_af1ea_level0_row6\" class=\"row_heading level0 row6\" >6</th>\n",
       "      <td id=\"T_af1ea_row6_col0\" class=\"data row6 col0\" >A high school physical education teacher seeking to incorporate Paralympic history and achievements into the curriculum to inspire and educate students about inclusivity in sports.</td>\n",
       "      <td id=\"T_af1ea_row6_col1\" class=\"data row6 col1\" >{'occupation': 'high school physical education teacher'}</td>\n",
       "    </tr>\n",
       "    <tr>\n",
       "      <th id=\"T_af1ea_level0_row7\" class=\"row_heading level0 row7\" >7</th>\n",
       "      <td id=\"T_af1ea_row7_col0\" class=\"data row7 col0\" >A high school history teacher creating lesson plans on South American civilizations and their regional diversity.</td>\n",
       "      <td id=\"T_af1ea_row7_col1\" class=\"data row7 col1\" >{'occupation': 'high school history teacher'}</td>\n",
       "    </tr>\n",
       "    <tr>\n",
       "      <th id=\"T_af1ea_level0_row8\" class=\"row_heading level0 row8\" >8</th>\n",
       "      <td id=\"T_af1ea_row8_col0\" class=\"data row8 col0\" >A cultural anthropologist studying the representation and adaptation of traditional folklore in contemporary media, particularly in television and film.</td>\n",
       "      <td id=\"T_af1ea_row8_col1\" class=\"data row8 col1\" >{'occupation': 'cultural anthropologist'}</td>\n",
       "    </tr>\n",
       "    <tr>\n",
       "      <th id=\"T_af1ea_level0_row9\" class=\"row_heading level0 row9\" >9</th>\n",
       "      <td id=\"T_af1ea_row9_col0\" class=\"data row9 col0\" >A high school earth science teacher looking for real-world examples to explain climate zones, soil types, and human-environment interactions.</td>\n",
       "      <td id=\"T_af1ea_row9_col1\" class=\"data row9 col1\" >{'occupation': 'high school earth science teacher'}</td>\n",
       "    </tr>\n",
       "  </tbody>\n",
       "</table>\n",
       "\n",
       "            </div>\n",
       "            "
      ],
      "text/plain": [
       "Dataset([{'scenario.persona': ['A theater manager or events coordinator interested in understanding the operational aspects, facilities, and programming of performing arts centers, such as the Broward Center.', 'An urban planner looking to understand the distribution and organization of public services in the Halifax Regional Municipality.', \"A high school literature teacher looking for supplementary materials to enrich their curriculum and provide students with a deeper understanding of their state's cultural heritage.\", 'A science fiction writer, exploring the use of secret trials as a theme in stories that examine surveillance, privacy, and power dynamics in society.', 'A financial analyst specializing in Asian markets and wealthy individuals, interested in tracking the investments and philanthropic activities of billionaires like Gerald Chan.', 'A high school physics teacher who enjoys applying physics concepts to various sports, curious about the effects of water resistance and body positioning in Paralympic swimming.', 'A high school physical education teacher seeking to incorporate Paralympic history and achievements into the curriculum to inspire and educate students about inclusivity in sports.', 'A high school history teacher creating lesson plans on South American civilizations and their regional diversity.', 'A cultural anthropologist studying the representation and adaptation of traditional folklore in contemporary media, particularly in television and film.', 'A high school earth science teacher looking for real-world examples to explain climate zones, soil types, and human-environment interactions.']}, {'answer.occupation': [{'occupation': 'theater manager or events coordinator'}, {'occupation': 'urban planner'}, {'occupation': 'high school literature teacher'}, {'occupation': 'science fiction writer'}, {'occupation': 'financial analyst'}, {'occupation': 'high school physics teacher'}, {'occupation': 'high school physical education teacher'}, {'occupation': 'high school history teacher'}, {'occupation': 'cultural anthropologist'}, {'occupation': 'high school earth science teacher'}]}])"
      ]
     },
     "execution_count": 14,
     "metadata": {},
     "output_type": "execute_result"
    }
   ],
   "source": [
    "results.select(\"persona\", \"occupation\")"
   ]
  },
  {
   "cell_type": "markdown",
   "id": "df63f2e6-1410-4431-af36-0dec6be935ea",
   "metadata": {
    "editable": true,
    "slideshow": {
     "slide_type": ""
    },
    "tags": []
   },
   "source": [
    "### Designing agents\n",
    "Here we recreate agents with both the personas and occupations as traits:"
   ]
  },
  {
   "cell_type": "code",
   "execution_count": 15,
   "id": "793c7c08-8541-4d08-ab13-f9bae09d0f44",
   "metadata": {
    "editable": true,
    "slideshow": {
     "slide_type": ""
    },
    "tags": []
   },
   "outputs": [
    {
     "data": {
      "text/plain": [
       "['theater manager or events coordinator',\n",
       " 'urban planner',\n",
       " 'high school literature teacher',\n",
       " 'science fiction writer',\n",
       " 'financial analyst',\n",
       " 'high school physics teacher',\n",
       " 'high school physical education teacher',\n",
       " 'high school history teacher',\n",
       " 'cultural anthropologist',\n",
       " 'high school earth science teacher']"
      ]
     },
     "execution_count": 15,
     "metadata": {},
     "output_type": "execute_result"
    }
   ],
   "source": [
    "occupations_list = [o['occupation'] for o in results.select(\"occupation\").to_list()]\n",
    "occupations_list"
   ]
  },
  {
   "cell_type": "code",
   "execution_count": 16,
   "id": "852185c0-e314-4a17-8758-ccf81f267af7",
   "metadata": {
    "editable": true,
    "slideshow": {
     "slide_type": ""
    },
    "tags": []
   },
   "outputs": [],
   "source": [
    "t = list(zip(personas_list, occupations_list))"
   ]
  },
  {
   "cell_type": "code",
   "execution_count": 17,
   "id": "5871d656-1b84-412b-b8fd-780b714a99e7",
   "metadata": {
    "editable": true,
    "slideshow": {
     "slide_type": ""
    },
    "tags": []
   },
   "outputs": [],
   "source": [
    "from edsl import AgentList, Agent\n",
    "\n",
    "agents = AgentList(\n",
    "    Agent(traits = {\"persona\":p, \"occupation\":o}) for p,o in t\n",
    ")"
   ]
  },
  {
   "cell_type": "markdown",
   "id": "54673d68-5167-4e42-8f77-e1eff1b5d48c",
   "metadata": {
    "editable": true,
    "slideshow": {
     "slide_type": ""
    },
    "tags": []
   },
   "source": [
    "### Running a survey\n",
    "Here we rerun the survey and then filter and sort results by agent traits:"
   ]
  },
  {
   "cell_type": "code",
   "execution_count": 18,
   "id": "67197072-2914-4de4-b104-f4633358dfb0",
   "metadata": {
    "editable": true,
    "slideshow": {
     "slide_type": ""
    },
    "tags": []
   },
   "outputs": [
    {
     "data": {
      "text/html": [
       "\n",
       "            <!-- #region Remove Inference Info -->\n",
       "            <div id=\"logger-8fadb495-0344-4942-8054-92db2bb23fd5\" class=\"job-logger\">\n",
       "                <div class=\"job-logger-header\">\n",
       "                    <span>\n",
       "                        <span id=\"arrow-8fadb495-0344-4942-8054-92db2bb23fd5\">▼</span> \n",
       "                        Job Status (2025-03-03 10:42:08)\n",
       "                    </span>\n",
       "                </div>\n",
       "                <div id=\"content-8fadb495-0344-4942-8054-92db2bb23fd5\" style=\"display: block;\">\n",
       "                    <table class=\"job-logger-table\">\n",
       "                        \n",
       "            <tr>\n",
       "                <td class=\"job-logger-cell job-logger-label\">Job UUID</td>\n",
       "                <td class=\"job-logger-cell job-logger-value\">c5e74cf4-e020-4a5d-9ad7-abbc3aee5f12</td>\n",
       "            </tr>\n",
       "        \n",
       "            <tr>\n",
       "                <td class=\"job-logger-cell job-logger-label\">Progress Bar URL</td>\n",
       "                <td class=\"job-logger-cell job-logger-value\"><a href=\"https://www.expectedparrot.com/home/remote-job-progress/c5e74cf4-e020-4a5d-9ad7-abbc3aee5f12\" target=\"_blank\" class=\"job-logger-link\">https://www.expectedparrot.com/home/remote-job-progress/c5e74cf4-e020-4a5d-9ad7-abbc3aee5f12</a></td>\n",
       "            </tr>\n",
       "        \n",
       "            <tr>\n",
       "                <td class=\"job-logger-cell job-logger-label\">Exceptions Report URL</td>\n",
       "                <td class=\"job-logger-cell job-logger-value\">None</td>\n",
       "            </tr>\n",
       "        \n",
       "            <tr>\n",
       "                <td class=\"job-logger-cell job-logger-label\">Results UUID</td>\n",
       "                <td class=\"job-logger-cell job-logger-value\">c6c0bbf1-804a-4057-b60c-7284fab3b105</td>\n",
       "            </tr>\n",
       "        \n",
       "            <tr>\n",
       "                <td class=\"job-logger-cell job-logger-label\">Results URL</td>\n",
       "                <td class=\"job-logger-cell job-logger-value\"><a href=\"https://www.expectedparrot.com/content/c6c0bbf1-804a-4057-b60c-7284fab3b105\" target=\"_blank\" class=\"job-logger-link\">https://www.expectedparrot.com/content/c6c0bbf1-804a-4057-b60c-7284fab3b105</a></td>\n",
       "            </tr>\n",
       "        \n",
       "                    </table>\n",
       "                    \n",
       "                <div class=\"job-logger-status\">\n",
       "                    <span style=\"margin-right: 8px;\" class=\"job-logger-success\">✓</span><strong>Current Status:</strong> Job completed and Results stored on Coop: <a href=\"https://www.expectedparrot.com/content/c6c0bbf1-804a-4057-b60c-7284fab3b105\" target=\"_blank\" class=\"job-logger-link\">https://www.expectedparrot.com/content/c6c0bbf1-804a-4057-b60c-7284fab3b105</a>\n",
       "                </div>\n",
       "            \n",
       "                </div>\n",
       "            </div>\n",
       "            <!-- # endregion -->\n",
       "        "
      ],
      "text/plain": [
       "<IPython.core.display.HTML object>"
      ]
     },
     "metadata": {},
     "output_type": "display_data"
    },
    {
     "data": {
      "text/html": [
       "\n",
       "        <style>\n",
       "            /* Base theme variables */\n",
       "            :root {\n",
       "                --jl-bg-primary: #ffffff;\n",
       "                --jl-bg-secondary: #f5f5f5;\n",
       "                --jl-border-color: #e0e0e0;\n",
       "                --jl-text-primary: #24292e;\n",
       "                --jl-text-secondary: #586069;\n",
       "                --jl-link-color: #0366d6;\n",
       "                --jl-success-color: #28a745;\n",
       "                --jl-error-color: #d73a49;\n",
       "                --jl-header-bg: #f1f1f1;\n",
       "            }\n",
       "            \n",
       "            /* Dark theme variables */\n",
       "            .theme-dark {\n",
       "                --jl-bg-primary: #1e1e1e;\n",
       "                --jl-bg-secondary: #252526;\n",
       "                --jl-border-color: #2d2d2d;\n",
       "                --jl-text-primary: #cccccc;\n",
       "                --jl-text-secondary: #999999;\n",
       "                --jl-link-color: #4e94ce;\n",
       "                --jl-success-color: #89d185;\n",
       "                --jl-error-color: #f14c4c;\n",
       "                --jl-header-bg: #333333;\n",
       "            }\n",
       "\n",
       "            /* High contrast theme variables */\n",
       "            .theme-high-contrast {\n",
       "                --jl-bg-primary: #000000;\n",
       "                --jl-bg-secondary: #1a1a1a;\n",
       "                --jl-border-color: #404040;\n",
       "                --jl-text-primary: #ffffff;\n",
       "                --jl-text-secondary: #cccccc;\n",
       "                --jl-link-color: #66b3ff;\n",
       "                --jl-success-color: #00ff00;\n",
       "                --jl-error-color: #ff0000;\n",
       "                --jl-header-bg: #262626;\n",
       "            }\n",
       "            \n",
       "            .job-logger {\n",
       "                font-family: system-ui, -apple-system, sans-serif;\n",
       "                max-width: 800px;\n",
       "                margin: 10px 0;\n",
       "                color: var(--jl-text-primary);\n",
       "                box-shadow: 0 1px 3px rgba(0,0,0,0.12);\n",
       "                border-radius: 4px;\n",
       "                overflow: hidden;\n",
       "            }\n",
       "            \n",
       "            .job-logger-header {\n",
       "                padding: 12px 16px;\n",
       "                background: var(--jl-header-bg);\n",
       "                border: none;\n",
       "                border-radius: 4px 4px 0 0;\n",
       "                cursor: pointer;\n",
       "                color: var(--jl-text-primary);\n",
       "                user-select: none;\n",
       "                font-weight: 500;\n",
       "                letter-spacing: 0.3px;\n",
       "                display: flex;\n",
       "                justify-content: space-between;\n",
       "                align-items: center;\n",
       "            }\n",
       "            \n",
       "            .theme-select {\n",
       "                padding: 4px 8px;\n",
       "                border-radius: 4px;\n",
       "                border: 1px solid var(--jl-border-color);\n",
       "                background: var(--jl-bg-primary);\n",
       "                color: var(--jl-text-primary);\n",
       "                font-size: 0.9em;\n",
       "            }\n",
       "            \n",
       "            .job-logger-table {\n",
       "                width: 100%;\n",
       "                border-collapse: separate;\n",
       "                border-spacing: 0;\n",
       "                background: var(--jl-bg-primary);\n",
       "                border: 1px solid var(--jl-border-color);\n",
       "                margin-top: -1px;\n",
       "            }\n",
       "            \n",
       "            .job-logger-cell {\n",
       "                padding: 12px 16px;\n",
       "                border-bottom: 1px solid var(--jl-border-color);\n",
       "                line-height: 1.4;\n",
       "            }\n",
       "            \n",
       "            .job-logger-label {\n",
       "                font-weight: 500;\n",
       "                color: var(--jl-text-primary);\n",
       "                width: 25%;\n",
       "                background: var(--jl-bg-secondary);\n",
       "            }\n",
       "            \n",
       "            .job-logger-value {\n",
       "                color: var(--jl-text-secondary);\n",
       "                word-break: break-word;\n",
       "            }\n",
       "            \n",
       "            .job-logger-status {\n",
       "                margin: 0;\n",
       "                padding: 12px 16px;\n",
       "                background-color: var(--jl-bg-secondary);\n",
       "                border: 1px solid var(--jl-border-color);\n",
       "                border-top: none;\n",
       "                border-radius: 0 0 4px 4px;\n",
       "                color: var(--jl-text-primary);\n",
       "                font-size: 0.95em;\n",
       "            }\n",
       "        </style>\n",
       "        \n",
       "        <script>\n",
       "            class ThemeManager {\n",
       "                constructor(logId, initialTheme = 'auto') {\n",
       "                    this.logId = logId;\n",
       "                    this.currentTheme = initialTheme;\n",
       "                    this.darkModeMediaQuery = window.matchMedia('(prefers-color-scheme: dark)');\n",
       "                    this.init();\n",
       "                }\n",
       "                \n",
       "                init() {\n",
       "                    this.setupThemeSwitcher();\n",
       "                    this.updateTheme(this.currentTheme);\n",
       "                    \n",
       "                    this.darkModeMediaQuery.addListener(() => {\n",
       "                        if (this.currentTheme === 'auto') {\n",
       "                            this.updateTheme('auto');\n",
       "                        }\n",
       "                    });\n",
       "                }\n",
       "                \n",
       "                setupThemeSwitcher() {\n",
       "                    const logger = document.querySelector(`#logger-${this.logId}`);\n",
       "                    if (!logger) return;\n",
       "                    \n",
       "                    const switcher = document.createElement('div');\n",
       "                    switcher.className = 'theme-switcher';\n",
       "                    switcher.innerHTML = `\n",
       "                        <select id=\"theme-select-${this.logId}\" class=\"theme-select\">\n",
       "                            <option value=\"auto\">Auto</option>\n",
       "                            <option value=\"light\">Light</option>\n",
       "                            <option value=\"dark\">Dark</option>\n",
       "                            <option value=\"high-contrast\">High Contrast</option>\n",
       "                        </select>\n",
       "                    `;\n",
       "                    \n",
       "                    const header = logger.querySelector('.job-logger-header');\n",
       "                    header.appendChild(switcher);\n",
       "                    \n",
       "                    const select = switcher.querySelector('select');\n",
       "                    select.value = this.currentTheme;\n",
       "                    select.addEventListener('change', (e) => {\n",
       "                        this.updateTheme(e.target.value);\n",
       "                    });\n",
       "                }\n",
       "                \n",
       "                updateTheme(theme) {\n",
       "                    const logger = document.querySelector(`#logger-${this.logId}`);\n",
       "                    if (!logger) return;\n",
       "                    \n",
       "                    this.currentTheme = theme;\n",
       "                    \n",
       "                    logger.classList.remove('theme-light', 'theme-dark', 'theme-high-contrast');\n",
       "                    \n",
       "                    if (theme === 'auto') {\n",
       "                        const isDark = this.darkModeMediaQuery.matches;\n",
       "                        logger.classList.add(isDark ? 'theme-dark' : 'theme-light');\n",
       "                    } else {\n",
       "                        logger.classList.add(`theme-${theme}`);\n",
       "                    }\n",
       "                    \n",
       "                    try {\n",
       "                        localStorage.setItem('jobLoggerTheme', theme);\n",
       "                    } catch (e) {\n",
       "                        console.warn('Unable to save theme preference:', e);\n",
       "                    }\n",
       "                }\n",
       "            }\n",
       "            \n",
       "            window.initThemeManager = (logId, initialTheme) => {\n",
       "                new ThemeManager(logId, initialTheme);\n",
       "            };\n",
       "        </script>\n",
       "        \n",
       "        <script>\n",
       "            document.addEventListener('DOMContentLoaded', () => {\n",
       "                window.initThemeManager('8fadb495-0344-4942-8054-92db2bb23fd5', 'auto');\n",
       "            });\n",
       "        </script>\n",
       "        "
      ],
      "text/plain": [
       "<IPython.core.display.HTML object>"
      ]
     },
     "metadata": {},
     "output_type": "display_data"
    }
   ],
   "source": [
    "results = survey.by(agents).by(models).run()"
   ]
  },
  {
   "cell_type": "code",
   "execution_count": 19,
   "id": "146b105e-0fdc-49b8-b706-424a53eaeaa9",
   "metadata": {
    "editable": true,
    "slideshow": {
     "slide_type": ""
    },
    "tags": []
   },
   "outputs": [
    {
     "data": {
      "text/html": [
       "\n",
       "            <div style=\"max-height: 500px; overflow-y: auto;\">\n",
       "                <style type=\"text/css\">\n",
       "#T_433c9_row0_col0, #T_433c9_row0_col1, #T_433c9_row0_col2, #T_433c9_row1_col0, #T_433c9_row1_col1, #T_433c9_row1_col2, #T_433c9_row2_col0, #T_433c9_row2_col1, #T_433c9_row2_col2, #T_433c9_row3_col0, #T_433c9_row3_col1, #T_433c9_row3_col2, #T_433c9_row4_col0, #T_433c9_row4_col1, #T_433c9_row4_col2, #T_433c9_row5_col0, #T_433c9_row5_col1, #T_433c9_row5_col2, #T_433c9_row6_col0, #T_433c9_row6_col1, #T_433c9_row6_col2, #T_433c9_row7_col0, #T_433c9_row7_col1, #T_433c9_row7_col2, #T_433c9_row8_col0, #T_433c9_row8_col1, #T_433c9_row8_col2, #T_433c9_row9_col0, #T_433c9_row9_col1, #T_433c9_row9_col2 {\n",
       "  text-align: left;\n",
       "}\n",
       "#T_433c9_row0_col3, #T_433c9_row1_col3, #T_433c9_row2_col3 {\n",
       "  text-align: left;\n",
       "  background-color: #023858;\n",
       "  color: #f1f1f1;\n",
       "}\n",
       "#T_433c9_row3_col3 {\n",
       "  text-align: left;\n",
       "  background-color: #056faf;\n",
       "  color: #f1f1f1;\n",
       "}\n",
       "#T_433c9_row4_col3, #T_433c9_row5_col3, #T_433c9_row6_col3, #T_433c9_row7_col3 {\n",
       "  text-align: left;\n",
       "  background-color: #73a9cf;\n",
       "  color: #f1f1f1;\n",
       "}\n",
       "#T_433c9_row8_col3 {\n",
       "  text-align: left;\n",
       "  background-color: #d0d1e6;\n",
       "  color: #000000;\n",
       "}\n",
       "#T_433c9_row9_col3 {\n",
       "  text-align: left;\n",
       "  background-color: #fff7fb;\n",
       "  color: #000000;\n",
       "}\n",
       "</style>\n",
       "<table id=\"T_433c9\">\n",
       "  <thead>\n",
       "    <tr>\n",
       "      <th class=\"blank level0\" >&nbsp;</th>\n",
       "      <th id=\"T_433c9_level0_col0\" class=\"col_heading level0 col0\" >model.model</th>\n",
       "      <th id=\"T_433c9_level0_col1\" class=\"col_heading level0 col1\" >agent.occupation</th>\n",
       "      <th id=\"T_433c9_level0_col2\" class=\"col_heading level0 col2\" >answer.preferred_mode_commute</th>\n",
       "      <th id=\"T_433c9_level0_col3\" class=\"col_heading level0 col3\" >answer.work_from_home</th>\n",
       "    </tr>\n",
       "  </thead>\n",
       "  <tbody>\n",
       "    <tr>\n",
       "      <th id=\"T_433c9_level0_row0\" class=\"row_heading level0 row0\" >0</th>\n",
       "      <td id=\"T_433c9_row0_col0\" class=\"data row0 col0\" >gpt-4o</td>\n",
       "      <td id=\"T_433c9_row0_col1\" class=\"data row0 col1\" >science fiction writer</td>\n",
       "      <td id=\"T_433c9_row0_col2\" class=\"data row0 col2\" >Work from home</td>\n",
       "      <td id=\"T_433c9_row0_col3\" class=\"data row0 col3\" >5</td>\n",
       "    </tr>\n",
       "    <tr>\n",
       "      <th id=\"T_433c9_level0_row1\" class=\"row_heading level0 row1\" >1</th>\n",
       "      <td id=\"T_433c9_row1_col0\" class=\"data row1 col0\" >gpt-4o</td>\n",
       "      <td id=\"T_433c9_row1_col1\" class=\"data row1 col1\" >financial analyst</td>\n",
       "      <td id=\"T_433c9_row1_col2\" class=\"data row1 col2\" >Work from home</td>\n",
       "      <td id=\"T_433c9_row1_col3\" class=\"data row1 col3\" >5</td>\n",
       "    </tr>\n",
       "    <tr>\n",
       "      <th id=\"T_433c9_level0_row2\" class=\"row_heading level0 row2\" >2</th>\n",
       "      <td id=\"T_433c9_row2_col0\" class=\"data row2 col0\" >gpt-4o</td>\n",
       "      <td id=\"T_433c9_row2_col1\" class=\"data row2 col1\" >cultural anthropologist</td>\n",
       "      <td id=\"T_433c9_row2_col2\" class=\"data row2 col2\" >Work from home</td>\n",
       "      <td id=\"T_433c9_row2_col3\" class=\"data row2 col3\" >5</td>\n",
       "    </tr>\n",
       "    <tr>\n",
       "      <th id=\"T_433c9_level0_row3\" class=\"row_heading level0 row3\" >3</th>\n",
       "      <td id=\"T_433c9_row3_col0\" class=\"data row3 col0\" >gpt-4o</td>\n",
       "      <td id=\"T_433c9_row3_col1\" class=\"data row3 col1\" >urban planner</td>\n",
       "      <td id=\"T_433c9_row3_col2\" class=\"data row3 col2\" >Public transportation</td>\n",
       "      <td id=\"T_433c9_row3_col3\" class=\"data row3 col3\" >4</td>\n",
       "    </tr>\n",
       "    <tr>\n",
       "      <th id=\"T_433c9_level0_row4\" class=\"row_heading level0 row4\" >4</th>\n",
       "      <td id=\"T_433c9_row4_col0\" class=\"data row4 col0\" >gpt-4o</td>\n",
       "      <td id=\"T_433c9_row4_col1\" class=\"data row4 col1\" >high school literature teacher</td>\n",
       "      <td id=\"T_433c9_row4_col2\" class=\"data row4 col2\" >Car</td>\n",
       "      <td id=\"T_433c9_row4_col3\" class=\"data row4 col3\" >3</td>\n",
       "    </tr>\n",
       "    <tr>\n",
       "      <th id=\"T_433c9_level0_row5\" class=\"row_heading level0 row5\" >5</th>\n",
       "      <td id=\"T_433c9_row5_col0\" class=\"data row5 col0\" >gpt-4o</td>\n",
       "      <td id=\"T_433c9_row5_col1\" class=\"data row5 col1\" >high school physics teacher</td>\n",
       "      <td id=\"T_433c9_row5_col2\" class=\"data row5 col2\" >Bike</td>\n",
       "      <td id=\"T_433c9_row5_col3\" class=\"data row5 col3\" >3</td>\n",
       "    </tr>\n",
       "    <tr>\n",
       "      <th id=\"T_433c9_level0_row6\" class=\"row_heading level0 row6\" >6</th>\n",
       "      <td id=\"T_433c9_row6_col0\" class=\"data row6 col0\" >gpt-4o</td>\n",
       "      <td id=\"T_433c9_row6_col1\" class=\"data row6 col1\" >high school history teacher</td>\n",
       "      <td id=\"T_433c9_row6_col2\" class=\"data row6 col2\" >Car</td>\n",
       "      <td id=\"T_433c9_row6_col3\" class=\"data row6 col3\" >3</td>\n",
       "    </tr>\n",
       "    <tr>\n",
       "      <th id=\"T_433c9_level0_row7\" class=\"row_heading level0 row7\" >7</th>\n",
       "      <td id=\"T_433c9_row7_col0\" class=\"data row7 col0\" >gpt-4o</td>\n",
       "      <td id=\"T_433c9_row7_col1\" class=\"data row7 col1\" >high school earth science teacher</td>\n",
       "      <td id=\"T_433c9_row7_col2\" class=\"data row7 col2\" >Car</td>\n",
       "      <td id=\"T_433c9_row7_col3\" class=\"data row7 col3\" >3</td>\n",
       "    </tr>\n",
       "    <tr>\n",
       "      <th id=\"T_433c9_level0_row8\" class=\"row_heading level0 row8\" >8</th>\n",
       "      <td id=\"T_433c9_row8_col0\" class=\"data row8 col0\" >gpt-4o</td>\n",
       "      <td id=\"T_433c9_row8_col1\" class=\"data row8 col1\" >theater manager or events coordinator</td>\n",
       "      <td id=\"T_433c9_row8_col2\" class=\"data row8 col2\" >Car</td>\n",
       "      <td id=\"T_433c9_row8_col3\" class=\"data row8 col3\" >2</td>\n",
       "    </tr>\n",
       "    <tr>\n",
       "      <th id=\"T_433c9_level0_row9\" class=\"row_heading level0 row9\" >9</th>\n",
       "      <td id=\"T_433c9_row9_col0\" class=\"data row9 col0\" >gpt-4o</td>\n",
       "      <td id=\"T_433c9_row9_col1\" class=\"data row9 col1\" >high school physical education teacher</td>\n",
       "      <td id=\"T_433c9_row9_col2\" class=\"data row9 col2\" >Bike</td>\n",
       "      <td id=\"T_433c9_row9_col3\" class=\"data row9 col3\" >1</td>\n",
       "    </tr>\n",
       "  </tbody>\n",
       "</table>\n",
       "\n",
       "            </div>\n",
       "            "
      ],
      "text/plain": [
       "Dataset([{'model.model': ['gpt-4o', 'gpt-4o', 'gpt-4o', 'gpt-4o', 'gpt-4o', 'gpt-4o', 'gpt-4o', 'gpt-4o', 'gpt-4o', 'gpt-4o']}, {'agent.occupation': ['science fiction writer', 'financial analyst', 'cultural anthropologist', 'urban planner', 'high school literature teacher', 'high school physics teacher', 'high school history teacher', 'high school earth science teacher', 'theater manager or events coordinator', 'high school physical education teacher']}, {'answer.preferred_mode_commute': ['Work from home', 'Work from home', 'Work from home', 'Public transportation', 'Car', 'Bike', 'Car', 'Car', 'Car', 'Bike']}, {'answer.work_from_home': [5, 5, 5, 4, 3, 3, 3, 3, 2, 1]}])"
      ]
     },
     "execution_count": 19,
     "metadata": {},
     "output_type": "execute_result"
    }
   ],
   "source": [
    "(\n",
    "    results\n",
    "    .filter(\"model.model == 'gpt-4o'\")\n",
    "    .sort_by(\"work_from_home\", reverse=True)\n",
    "    .select(\"model\", \"occupation\", \"preferred_mode_commute\", \"work_from_home\")\n",
    ")"
   ]
  },
  {
   "cell_type": "markdown",
   "id": "e810f8ff-fb8d-4b5b-bf91-98e89c6824ea",
   "metadata": {
    "editable": true,
    "slideshow": {
     "slide_type": ""
    },
    "tags": []
   },
   "source": [
    "### Posting to the Coop\n",
    "The [Coop](https://www.expectedparrot.com/content/explore) is a platform for creating, storing and sharing LLM-based research.\n",
    "It is fully integrated with EDSL and accessible from your workspace or Coop account page.\n",
    "Learn more about [creating an account](https://www.expectedparrot.com/login) and [using the Coop](https://docs.expectedparrot.com/en/latest/coop.html).\n",
    "\n",
    "Here we demonstrate how to post this notebook:"
   ]
  },
  {
   "cell_type": "code",
   "execution_count": 20,
   "id": "40813371-c739-424a-b065-6767f003df0e",
   "metadata": {
    "editable": true,
    "slideshow": {
     "slide_type": ""
    },
    "tags": [
     "skip-execution"
    ]
   },
   "outputs": [],
   "source": [
    "from edsl import Notebook\n",
    "\n",
    "nb = Notebook(path = \"import_agents.ipynb\")\n",
    "\n",
    "if refresh := False:\n",
    "    nb.push(\n",
    "        description = \"Importing agents\", \n",
    "        alias = \"importing-agents-notebook\",\n",
    "        visibility = \"public\"\n",
    "    )\n",
    "else:\n",
    "    nb.patch('e0f3c111-328e-417b-b2ad-aec527adad49', value = nb)"
   ]
  }
 ],
 "metadata": {
  "kernelspec": {
   "display_name": "Python 3 (ipykernel)",
   "language": "python",
   "name": "python3"
  },
  "language_info": {
   "codemirror_mode": {
    "name": "ipython",
    "version": 3
   },
   "file_extension": ".py",
   "mimetype": "text/x-python",
   "name": "python",
   "nbconvert_exporter": "python",
   "pygments_lexer": "ipython3",
   "version": "3.11.7"
  }
 },
 "nbformat": 4,
 "nbformat_minor": 5
}
