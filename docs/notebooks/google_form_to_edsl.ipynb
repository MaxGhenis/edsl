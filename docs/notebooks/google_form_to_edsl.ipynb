{
 "cells": [
  {
   "cell_type": "markdown",
   "id": "33936f01-90de-46c6-ac5f-9c914e8b0bee",
   "metadata": {},
   "source": [
    "# Google Form -> EDSL\n",
    "This notebook provides example code for using EDSL to reformat non-EDSL survey questions in [EDSL](https://docs.expectedparrot.com).\n",
    "\n",
    "Learn more about using EDSL to simulate surveys, experiments and market research with AI agents and large language models."
   ]
  },
  {
   "cell_type": "markdown",
   "id": "1a36717a-507c-4be7-818c-433eb700f0e6",
   "metadata": {},
   "source": [
    "## Designing the task as an EDSL question\n",
    "We start by creating a question that will prompt a language model to extract questions from the text of a survey form and reformat them as EDSL questions. EDSL comes with many common question types that we can choose from based on the form of the response that we want to get back from the model (multiple choice, checkbox, free text, linear scale, etc.). [Learn more about EDSL question types](https://docs.expectedparrot.com/en/latest/questions.html).\n",
    "\n",
    "Here we use question type `QuestionList` in order to return the reformatted questions as a list that we can then pass to a `Survey`. We can use a `{{ placeholder }}` for the text that we want to add to the question, in order to reuse it with different survey forms:"
   ]
  },
  {
   "cell_type": "code",
   "execution_count": 1,
   "id": "816ddd37-d539-46e8-8eb3-f0e58e4b4049",
   "metadata": {},
   "outputs": [],
   "source": [
    "from edsl import QuestionList"
   ]
  },
  {
   "cell_type": "code",
   "execution_count": 2,
   "id": "8f86caea-ed24-4e7c-aea9-ad7ade839cd0",
   "metadata": {},
   "outputs": [],
   "source": [
    "q = QuestionList(\n",
    "    question_name=\"reformat_edsl\",\n",
    "    question_text=\"\"\"\n",
    "    You are being asked to extract and reformat questions in a survey form.\n",
    "    \n",
    "    Each question should be reformatted as a dictionary that contains:\n",
    "    - key: \"question_type\", value: \"multiple_choice\", \"checkbox\", \"linear_scale\", \"numerical\", or \"free_text\"\n",
    "    - key: \"question_name\", value: a unique Python identifier\n",
    "    - key: \"question_text\", value: a string containing the question\n",
    "    - key: \"question_options\", value: a list of unique answer option strings (required for all types except \"free_text\").\n",
    "    For \"linear_scale\" type questions:\n",
    "    - \"question_options\" must be a list of integers.\n",
    "    - The dictionary can include an optional key: \"option_labels\", value: a dictionary integer keys and corresponding labels as values.\n",
    "\n",
    "    Return the question dictionaries in a list.\n",
    "    Here is the text of the survey form containing the questions for you to extract and reformat: {{ text }}\n",
    "    \"\"\"\n",
    ")"
   ]
  },
  {
   "cell_type": "markdown",
   "id": "bf741303-d0fa-4171-b4c3-56c3909d76e0",
   "metadata": {},
   "source": [
    "## Adding content to questions\n",
    "Next we create `Scenario` objects for the text or other content that we want to add to the question. This allows us to efficiently administer multiple versions of the question at once. [Learn more about using scenarios](https://docs.expectedparrot.com/en/latest/scenarios.html) to scale data labeling and other tasks.\n",
    "\n",
    "Here we create a single scenario for a [Google Form](https://forms.gle/iye2i8KSWQ3xKCKs7) seeking feedback on [remote inference](https://docs.expectedparrot.com/en/latest/remote_inference.html) -- features for running EDSL surveys remotely on the Expected Parrot server, as we do in this notebook):"
   ]
  },
  {
   "cell_type": "code",
   "execution_count": 3,
   "id": "fed84497-c161-48f1-95ec-773c41eabd12",
   "metadata": {},
   "outputs": [],
   "source": [
    "from edsl import Scenario"
   ]
  },
  {
   "cell_type": "code",
   "execution_count": 4,
   "id": "d91887a9-32a6-4440-933c-849a4e581afb",
   "metadata": {},
   "outputs": [
    {
     "data": {
      "text/html": [
       "<div class=\"highlight\"><pre><span></span><span class=\"p\">{</span>\n",
       "<span class=\"w\">    </span><span class=\"nt\">&quot;filename&quot;</span><span class=\"p\">:</span><span class=\"w\"> </span><span class=\"s2\">&quot;google_form_remote_inference.pdf&quot;</span><span class=\"p\">,</span>\n",
       "<span class=\"w\">    </span><span class=\"nt\">&quot;text&quot;</span><span class=\"p\">:</span><span class=\"w\"> </span><span class=\"s2\">&quot;Feedback on remote inference\\n\\nPlease let us know about your experience using remote inference to run your EDSL surveys!\\n\\n1.\\nEmail *\\n\\nFirst learned about remote inference\\n\\n2.\\n\\nHow did you first learn about the option to use remote inference with EDSL surveys?\\u00a0\\n\\nMark only one oval.\\n\\nDiscord\\nSkip to question 4\\n\\nX/Twitter\\nSkip to question 4\\n\\nEDSL documentation\\nSkip to question 4\\n\\nCoop notebook/example\\nSkip to question 4\\n\\nNone of these\\n\\nFirst learned about remote inference\\n\\n3.\\n\\nPlease describe how you first learned about the option to use remote inference with\\nEDSL surveys.\\n\\nSurveys run with remote inference\\n\\n4.\\n\\nHow many different EDSL surveys have you tried running with remote inference?\\n\\nMark only one oval.\\n\\nNone\\nSkip to question 6\\n\\n1-10\\n\\nMore than 10\\n\\nOverall experience\\n\\n5.\\n\\nOverall, how has your experience with remote inference been?\\n\\nMark only one oval.\\n\\nTerrible\\n\\nOk\\n\\nGood\\n\\nGreat\\n\\nCost estimate\\n\\n6.\\n\\nHow important is it to you to get an accurate estimate of the credits required to run\\nyour survey?\\n\\nMark only one oval.\\n\\n1\\n2\\n3\\n4\\n5\\n\\nNot important\\n\\nVery important\\n\\nDocumentation\\n\\n7.\\n\\nHave you read or used the documentation page on remote inference?\\u00a0\\n(https://docs.expectedparrot.com/en/latest/remote_inference.html)\\n\\nMark only one oval.\\n\\nYes\\n\\nNo\\nSkip to question 10\\n\\nDocumentation\\n\\n8.\\n\\nHow useful was the documentation page on remote inference?\\u00a0\\n\\nMark only one oval.\\n\\nNot useful\\n\\nSomewhat useful\\n\\nVery useful\\n\\n9.\\n\\nHow clear / easy to follow was the documentation page on remote inference?\\u00a0\\n\\nMark only one oval.\\n\\nNot clear\\n\\nSomewhat clear\\n\\nVery clear\\n\\nImprovements\\n\\n10.\\n\\nWhat is confusing or unclear about remote inference?\\n\\n11.\\n\\nHow can we make remote inference more useful to you?\\n\\nThis content is neither created nor endorsed by Google.\\n\\n\\u00a0Forms\\n\\n&quot;</span>\n",
       "<span class=\"p\">}</span>\n",
       "</pre></div>\n"
      ],
      "text/plain": [
       "Scenario({'filename': 'google_form_remote_inference.pdf', 'text': 'Feedback on remote inference\\n\\nPlease let us know about your experience using remote inference to run your EDSL surveys!\\n\\n1.\\nEmail *\\n\\nFirst learned about remote inference\\n\\n2.\\n\\nHow did you first learn about the option to use remote inference with EDSL surveys?\\xa0\\n\\nMark only one oval.\\n\\nDiscord\\nSkip to question 4\\n\\nX/Twitter\\nSkip to question 4\\n\\nEDSL documentation\\nSkip to question 4\\n\\nCoop notebook/example\\nSkip to question 4\\n\\nNone of these\\n\\nFirst learned about remote inference\\n\\n3.\\n\\nPlease describe how you first learned about the option to use remote inference with\\nEDSL surveys.\\n\\nSurveys run with remote inference\\n\\n4.\\n\\nHow many different EDSL surveys have you tried running with remote inference?\\n\\nMark only one oval.\\n\\nNone\\nSkip to question 6\\n\\n1-10\\n\\nMore than 10\\n\\nOverall experience\\n\\n5.\\n\\nOverall, how has your experience with remote inference been?\\n\\nMark only one oval.\\n\\nTerrible\\n\\nOk\\n\\nGood\\n\\nGreat\\n\\nCost estimate\\n\\n6.\\n\\nHow important is it to you to get an accurate estimate of the credits required to run\\nyour survey?\\n\\nMark only one oval.\\n\\n1\\n2\\n3\\n4\\n5\\n\\nNot important\\n\\nVery important\\n\\nDocumentation\\n\\n7.\\n\\nHave you read or used the documentation page on remote inference?\\xa0\\n(https://docs.expectedparrot.com/en/latest/remote_inference.html)\\n\\nMark only one oval.\\n\\nYes\\n\\nNo\\nSkip to question 10\\n\\nDocumentation\\n\\n8.\\n\\nHow useful was the documentation page on remote inference?\\xa0\\n\\nMark only one oval.\\n\\nNot useful\\n\\nSomewhat useful\\n\\nVery useful\\n\\n9.\\n\\nHow clear / easy to follow was the documentation page on remote inference?\\xa0\\n\\nMark only one oval.\\n\\nNot clear\\n\\nSomewhat clear\\n\\nVery clear\\n\\nImprovements\\n\\n10.\\n\\nWhat is confusing or unclear about remote inference?\\n\\n11.\\n\\nHow can we make remote inference more useful to you?\\n\\nThis content is neither created nor endorsed by Google.\\n\\n\\xa0Forms\\n\\n'})"
      ]
     },
     "execution_count": 4,
     "metadata": {},
     "output_type": "execute_result"
    }
   ],
   "source": [
    "s_pdf = Scenario.from_pdf(\"google_form_remote_inference.pdf\") # https://forms.gle/iye2i8KSWQ3xKCKs7\n",
    "s_pdf"
   ]
  },
  {
   "cell_type": "markdown",
   "id": "d3c78a4e-b126-4d9b-b833-21bc65b5723c",
   "metadata": {},
   "source": [
    "## Selecting language models\n",
    "EDSL works with many popular language models that we can select to use in generating survey responses. You can provide your own API keys for models or activate remote inference to run surveys at the Expected Parrot server with any available models. [Learn more about working with language models](https://docs.expectedparrot.com/en/latest/language_models.html) and using [remote inference](https://docs.expectedparrot.com/en/latest/remote_inference.html).\n",
    "\n",
    "Here we select a model to add to the survey when we run it:"
   ]
  },
  {
   "cell_type": "code",
   "execution_count": 5,
   "id": "17945959-7ed9-490f-9568-af775b8cd6e3",
   "metadata": {},
   "outputs": [],
   "source": [
    "from edsl import ModelList, Model"
   ]
  },
  {
   "cell_type": "markdown",
   "id": "e32650fd-789e-478c-b3b8-80434bcb69eb",
   "metadata": {},
   "source": [
    "To see a list of all available models:"
   ]
  },
  {
   "cell_type": "code",
   "execution_count": 6,
   "id": "5ad9c07f-1bcc-4486-9418-d71136c38d60",
   "metadata": {},
   "outputs": [],
   "source": [
    "# Model.available()"
   ]
  },
  {
   "cell_type": "code",
   "execution_count": 7,
   "id": "e9beaf6f-26da-4b2b-8353-65d292e167fc",
   "metadata": {},
   "outputs": [],
   "source": [
    "model = Model(\"claude-3-5-sonnet-20240620\")"
   ]
  },
  {
   "cell_type": "markdown",
   "id": "96b0d8f7-f848-460b-a0c5-f380c1837d8b",
   "metadata": {},
   "source": [
    "## Running a survey\n",
    "Next we add the scenario and model to the survey and run. This generates a dataset of `Results` that we can access with built-in methods for analysis. [Learn more about working with results](https://docs.expectedparrot.com/en/latest/results.html)."
   ]
  },
  {
   "cell_type": "code",
   "execution_count": 8,
   "id": "0b2de31c-8ddc-481e-86f3-df5895cfc724",
   "metadata": {},
   "outputs": [
    {
     "name": "stdout",
     "output_type": "stream",
     "text": [
      "Remote inference started (Job uuid=d296fc7f-bc9d-4542-be17-7614b23796d8).\n",
      "Job completed and Results stored on Coop (Results uuid=6326186e-d02c-4bf0-bcef-01a648a9ad32).\n"
     ]
    }
   ],
   "source": [
    "results = q.by(s_pdf).by(model).run()"
   ]
  },
  {
   "cell_type": "markdown",
   "id": "bfeb7d14-ddc6-45d7-8817-c9a4500545ba",
   "metadata": {},
   "source": [
    "## Viewing results at the Coop\n",
    "The `job` and `results` uuids indicate that remote inference is activated, and are the unique identifiers for inspecting and modifying the objects at the [Coop](https://www.expectedparrot.com/explore): a new platform for creating, storing and sharing LLM-based research using EDSL. [Learn more about using the Coop](https://docs.expectedparrot.com/en/latest/coop.html).\n",
    "\n",
    "The results can be viewed at: https://www.expectedparrot.com/content/6326186e-d02c-4bf0-bcef-01a648a9ad32"
   ]
  },
  {
   "cell_type": "markdown",
   "id": "ce2452f3-f350-4992-bf71-21a877877cd1",
   "metadata": {},
   "source": [
    "## Creating an EDSL survey\n",
    "Now we `select` the list of reformatted questions from the results, create `Question` objects for them, and then pass them to a `Survey` object:"
   ]
  },
  {
   "cell_type": "code",
   "execution_count": 9,
   "id": "51f10da1-dcc3-44c2-a41f-f6fb074673b2",
   "metadata": {},
   "outputs": [
    {
     "data": {
      "text/plain": [
       "[{'question_type': 'free_text',\n",
       "  'question_name': 'email',\n",
       "  'question_text': 'Email'},\n",
       " {'question_type': 'multiple_choice',\n",
       "  'question_name': 'first_learned_about_remote_inference',\n",
       "  'question_text': 'How did you first learn about the option to use remote inference with EDSL surveys?',\n",
       "  'question_options': ['Discord',\n",
       "   'X/Twitter',\n",
       "   'EDSL documentation',\n",
       "   'Coop notebook/example',\n",
       "   'None of these']},\n",
       " {'question_type': 'free_text',\n",
       "  'question_name': 'describe_first_learned_about_remote_inference',\n",
       "  'question_text': 'Please describe how you first learned about the option to use remote inference with EDSL surveys.'},\n",
       " {'question_type': 'multiple_choice',\n",
       "  'question_name': 'number_of_surveys_run',\n",
       "  'question_text': 'How many different EDSL surveys have you tried running with remote inference?',\n",
       "  'question_options': ['None', '1-10', 'More than 10']},\n",
       " {'question_type': 'multiple_choice',\n",
       "  'question_name': 'overall_experience',\n",
       "  'question_text': 'Overall, how has your experience with remote inference been?',\n",
       "  'question_options': ['Terrible', 'Ok', 'Good', 'Great']},\n",
       " {'question_type': 'linear_scale',\n",
       "  'question_name': 'importance_of_cost_estimate',\n",
       "  'question_text': 'How important is it to you to get an accurate estimate of the credits required to run your survey?',\n",
       "  'question_options': [1, 2, 3, 4, 5],\n",
       "  'option_labels': {'1': 'Not important', '5': 'Very important'}},\n",
       " {'question_type': 'multiple_choice',\n",
       "  'question_name': 'read_documentation',\n",
       "  'question_text': 'Have you read or used the documentation page on remote inference? (https://docs.expectedparrot.com/en/latest/remote_inference.html)',\n",
       "  'question_options': ['Yes', 'No']},\n",
       " {'question_type': 'multiple_choice',\n",
       "  'question_name': 'documentation_usefulness',\n",
       "  'question_text': 'How useful was the documentation page on remote inference?',\n",
       "  'question_options': ['Not useful', 'Somewhat useful', 'Very useful']},\n",
       " {'question_type': 'multiple_choice',\n",
       "  'question_name': 'documentation_clarity',\n",
       "  'question_text': 'How clear / easy to follow was the documentation page on remote inference?',\n",
       "  'question_options': ['Not clear', 'Somewhat clear', 'Very clear']},\n",
       " {'question_type': 'free_text',\n",
       "  'question_name': 'confusing_aspects',\n",
       "  'question_text': 'What is confusing or unclear about remote inference?'},\n",
       " {'question_type': 'free_text',\n",
       "  'question_name': 'improvement_suggestions',\n",
       "  'question_text': 'How can we make remote inference more useful to you?'}]"
      ]
     },
     "execution_count": 9,
     "metadata": {},
     "output_type": "execute_result"
    }
   ],
   "source": [
    "questions_list = results.select(\"reformat_edsl\").to_list()[0]\n",
    "questions_list"
   ]
  },
  {
   "cell_type": "markdown",
   "id": "be703192-1f43-4785-8e47-3f4a04dd6227",
   "metadata": {},
   "source": [
    "Creating EDSL questions:"
   ]
  },
  {
   "cell_type": "code",
   "execution_count": 10,
   "id": "ce5b5d82-ee79-46c9-8697-a6a2030082f1",
   "metadata": {},
   "outputs": [],
   "source": [
    "from edsl import Question"
   ]
  },
  {
   "cell_type": "code",
   "execution_count": 11,
   "id": "8038c111-9473-4713-abbc-7937db8f703d",
   "metadata": {},
   "outputs": [
    {
     "data": {
      "text/plain": [
       "[Question('free_text', question_name = \"\"\"email\"\"\", question_text = \"\"\"Email\"\"\"),\n",
       " Question('multiple_choice', question_name = \"\"\"first_learned_about_remote_inference\"\"\", question_text = \"\"\"How did you first learn about the option to use remote inference with EDSL surveys?\"\"\", question_options = ['Discord', 'X/Twitter', 'EDSL documentation', 'Coop notebook/example', 'None of these']),\n",
       " Question('free_text', question_name = \"\"\"describe_first_learned_about_remote_inference\"\"\", question_text = \"\"\"Please describe how you first learned about the option to use remote inference with EDSL surveys.\"\"\"),\n",
       " Question('multiple_choice', question_name = \"\"\"number_of_surveys_run\"\"\", question_text = \"\"\"How many different EDSL surveys have you tried running with remote inference?\"\"\", question_options = ['None', '1-10', 'More than 10']),\n",
       " Question('multiple_choice', question_name = \"\"\"overall_experience\"\"\", question_text = \"\"\"Overall, how has your experience with remote inference been?\"\"\", question_options = ['Terrible', 'Ok', 'Good', 'Great']),\n",
       " Question('linear_scale', question_name = \"\"\"importance_of_cost_estimate\"\"\", question_text = \"\"\"How important is it to you to get an accurate estimate of the credits required to run your survey?\"\"\", question_options = [1, 2, 3, 4, 5], option_labels = {1: 'Not important', 5: 'Very important'}),\n",
       " Question('multiple_choice', question_name = \"\"\"read_documentation\"\"\", question_text = \"\"\"Have you read or used the documentation page on remote inference? (https://docs.expectedparrot.com/en/latest/remote_inference.html)\"\"\", question_options = ['Yes', 'No']),\n",
       " Question('multiple_choice', question_name = \"\"\"documentation_usefulness\"\"\", question_text = \"\"\"How useful was the documentation page on remote inference?\"\"\", question_options = ['Not useful', 'Somewhat useful', 'Very useful']),\n",
       " Question('multiple_choice', question_name = \"\"\"documentation_clarity\"\"\", question_text = \"\"\"How clear / easy to follow was the documentation page on remote inference?\"\"\", question_options = ['Not clear', 'Somewhat clear', 'Very clear']),\n",
       " Question('free_text', question_name = \"\"\"confusing_aspects\"\"\", question_text = \"\"\"What is confusing or unclear about remote inference?\"\"\"),\n",
       " Question('free_text', question_name = \"\"\"improvement_suggestions\"\"\", question_text = \"\"\"How can we make remote inference more useful to you?\"\"\")]"
      ]
     },
     "execution_count": 11,
     "metadata": {},
     "output_type": "execute_result"
    }
   ],
   "source": [
    "questions = [Question(**d) for d in questions_list]\n",
    "questions"
   ]
  },
  {
   "cell_type": "markdown",
   "id": "e3c4762c-f3db-427b-a551-f7c7e4e912a5",
   "metadata": {},
   "source": [
    "Passing the questions to a new survey:"
   ]
  },
  {
   "cell_type": "code",
   "execution_count": 12,
   "id": "9c7a3fd0-f877-4558-9afe-811453fbd98e",
   "metadata": {},
   "outputs": [],
   "source": [
    "from edsl import Survey"
   ]
  },
  {
   "cell_type": "code",
   "execution_count": 13,
   "id": "49bf59cf-a503-45aa-b7f6-3cb1baac2b66",
   "metadata": {},
   "outputs": [],
   "source": [
    "survey = Survey(questions)\n",
    "# survey"
   ]
  },
  {
   "cell_type": "markdown",
   "id": "2c86464a-a236-4f8d-96cd-489ba3194bc2",
   "metadata": {},
   "source": [
    "## Survey rules & logic\n",
    "We can add skip/stop or other logic as desired (even if not allowed in the original survey -- e.g., Google Forms allows skip rules for multiple choice questions only). [Learn about adding rules to EDSL surveys](https://docs.expectedparrot.com/en/latest/surveys.html)."
   ]
  },
  {
   "cell_type": "code",
   "execution_count": 14,
   "id": "c1f77797-427d-482a-82f8-45543ea82362",
   "metadata": {},
   "outputs": [],
   "source": [
    "survey = (survey\n",
    "          .add_skip_rule(\"overall_experience\", \"surveys_run_with_remote_inference == 'No'\")\n",
    "          .add_skip_rule(\"documentation_usefulness\", \"seen_documentation == 'No'\")\n",
    "          .add_skip_rule(\"documentation_clarity\", \"seen_documentation == 'No'\")\n",
    "         )"
   ]
  },
  {
   "cell_type": "markdown",
   "id": "24459754-cafc-487e-8887-7e2b2262351e",
   "metadata": {},
   "source": [
    "## Posting content to the Coop\n",
    "The results of our `reformat_edsl` question were automatically posted to the Coop using remote inference. We can post the new survey to the Coop as well:"
   ]
  },
  {
   "cell_type": "code",
   "execution_count": 15,
   "id": "4c83a101-91bd-4855-b2ab-e2bb9adaf91f",
   "metadata": {},
   "outputs": [
    {
     "data": {
      "text/plain": [
       "{'description': 'Google Form reformatted in EDSL: Feedback on remote inference',\n",
       " 'object_type': 'survey',\n",
       " 'url': 'https://www.expectedparrot.com/content/caef1dcf-1f85-401f-8e16-bda040185e3b',\n",
       " 'uuid': 'caef1dcf-1f85-401f-8e16-bda040185e3b',\n",
       " 'version': '0.1.33.dev1',\n",
       " 'visibility': 'public'}"
      ]
     },
     "execution_count": 15,
     "metadata": {},
     "output_type": "execute_result"
    }
   ],
   "source": [
    "survey.push(description = \"Google Form reformatted in EDSL: Feedback on remote inference\", visibility = \"public\")"
   ]
  },
  {
   "cell_type": "markdown",
   "id": "9e791e76-07e2-414f-9c81-c3f851a12026",
   "metadata": {},
   "source": [
    "We can also post this notebook:"
   ]
  },
  {
   "cell_type": "code",
   "execution_count": 16,
   "id": "e5fc5def-e2b4-4dfb-a462-0d28bcf53de2",
   "metadata": {},
   "outputs": [],
   "source": [
    "from edsl import Notebook"
   ]
  },
  {
   "cell_type": "code",
   "execution_count": 17,
   "id": "777e35bd-3d2e-4056-8611-8317f5149e7c",
   "metadata": {},
   "outputs": [],
   "source": [
    "n = Notebook(path = \"google_form_to_edsl.ipynb\")"
   ]
  },
  {
   "cell_type": "code",
   "execution_count": 18,
   "id": "c72d6058-c536-4796-9a46-08cedaf3553d",
   "metadata": {},
   "outputs": [
    {
     "data": {
      "text/plain": [
       "{'description': 'Example code for reformatting Google Form questions in EDSL',\n",
       " 'object_type': 'notebook',\n",
       " 'url': 'https://www.expectedparrot.com/content/ffc53ff9-dad3-4c9f-aea7-68576247a923',\n",
       " 'uuid': 'ffc53ff9-dad3-4c9f-aea7-68576247a923',\n",
       " 'version': '0.1.33.dev1',\n",
       " 'visibility': 'public'}"
      ]
     },
     "execution_count": 18,
     "metadata": {},
     "output_type": "execute_result"
    }
   ],
   "source": [
    "n.push(description = \"Example code for reformatting Google Form questions in EDSL\", visibility = \"public\")"
   ]
  },
  {
   "cell_type": "code",
   "execution_count": null,
   "id": "2fd4a788-9b2c-425f-a880-d05ebc0d8c9b",
   "metadata": {},
   "outputs": [],
   "source": []
  }
 ],
 "metadata": {
  "kernelspec": {
   "display_name": "Python 3 (ipykernel)",
   "language": "python",
   "name": "python3"
  },
  "language_info": {
   "codemirror_mode": {
    "name": "ipython",
    "version": 3
   },
   "file_extension": ".py",
   "mimetype": "text/x-python",
   "name": "python",
   "nbconvert_exporter": "python",
   "pygments_lexer": "ipython3",
   "version": "3.11.7"
  }
 },
 "nbformat": 4,
 "nbformat_minor": 5
}
