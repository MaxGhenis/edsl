{
 "cells": [
  {
   "cell_type": "markdown",
   "id": "33936f01-90de-46c6-ac5f-9c914e8b0bee",
   "metadata": {
    "editable": true,
    "slideshow": {
     "slide_type": ""
    },
    "tags": []
   },
   "source": [
    "# Google Form -> EDSL\n",
    "This notebook provides example EDSL code for converting a non-EDSL survey into in an EDSL survey. This can be useful for accessing EDSL's built-in methods for analyzing survey data, and extending it with responses simulated with AI agents and diverse large language models.\n",
    "\n",
    "[EDSL is an open-source library](https://github.com/expectedparrot/edsl) for simulating surveys, experiments and other research with AI agents and large language models. \n",
    "Before running the code below, please ensure that you have [installed the EDSL library](https://docs.expectedparrot.com/en/latest/installation.html) and either [activated remote inference](https://docs.expectedparrot.com/en/latest/remote_inference.html) from your [Coop account](https://docs.expectedparrot.com/en/latest/coop.html) or [stored API keys](https://docs.expectedparrot.com/en/latest/api_keys.html) for the language models that you want to use with EDSL. Please also see our [documentation page](https://docs.expectedparrot.com/) for tips and tutorials on getting started using EDSL."
   ]
  },
  {
   "cell_type": "markdown",
   "id": "1a36717a-507c-4be7-818c-433eb700f0e6",
   "metadata": {
    "editable": true,
    "slideshow": {
     "slide_type": ""
    },
    "tags": []
   },
   "source": [
    "## Designing the task as an EDSL survey\n",
    "We design the task as an EDSL survey *about* the survey to be converted: a series of questions prompting a language model to read and reformat the contents of a given survey. The formatted responses of the language model are readily usable components of a new EDSL survey that can be administered to AI agents and/or human audiences.\n",
    "\n",
    "## Creating a meta-survey\n",
    "We start by selecting appropriate question types for reformatting the contents of a given survey.\n",
    "[EDSL comes with many common question types](https://docs.expectedparrot.com/en/latest/questions.html) that we can choose from based on the form of the response that we want to get back from a model: multiple choice, checkbox, free text, linear scale, etc.\n",
    "\n",
    "Here we use `QuestionList` to return information about all the questions in the survey at once, as a list. We create a sequence of questions, using the response to one question as an input to the next question. This step-wise approach can improve performance by allowing a model to focus on distinct tasks, and also allow us to pinpoint modifications to instructions as needed (some models will perform better and need fewer instructions than others). Note that we use a `{{ placeholder }}` for the text of the survey to be reformatted that we want to add to the initial question, which allows us to reuse it with other content (e.g., another survey):"
   ]
  },
  {
   "cell_type": "code",
   "execution_count": 1,
   "id": "816ddd37-d539-46e8-8eb3-f0e58e4b4049",
   "metadata": {
    "editable": true,
    "slideshow": {
     "slide_type": ""
    },
    "tags": []
   },
   "outputs": [],
   "source": [
    "from edsl import QuestionList"
   ]
  },
  {
   "cell_type": "markdown",
   "id": "566465cf-8907-4117-a3c5-213d9f683202",
   "metadata": {
    "editable": true,
    "slideshow": {
     "slide_type": ""
    },
    "tags": []
   },
   "source": [
    "First we ask the model to return just the questions from the survey:"
   ]
  },
  {
   "cell_type": "code",
   "execution_count": 2,
   "id": "8f86caea-ed24-4e7c-aea9-ad7ade839cd0",
   "metadata": {
    "editable": true,
    "slideshow": {
     "slide_type": ""
    },
    "tags": []
   },
   "outputs": [],
   "source": [
    "q1 = QuestionList(\n",
    "    question_name=\"q_text\",\n",
    "    question_text=\"\"\"\n",
    "    You are being asked to extract questions from the text of a survey.\n",
    "    Read the text and then return a list of all the questions in the \n",
    "    order that you find them. Return only the list of questions.\n",
    "    Survey: {{ text }}\n",
    "    \"\"\"\n",
    ")"
   ]
  },
  {
   "cell_type": "markdown",
   "id": "ef381e80-c47b-4a34-bc8a-8ef994bb8e03",
   "metadata": {
    "editable": true,
    "slideshow": {
     "slide_type": ""
    },
    "tags": []
   },
   "source": [
    "Next we ask the model to format the questions as dictionaries, and specify the question text and type:"
   ]
  },
  {
   "cell_type": "code",
   "execution_count": 3,
   "id": "21ebdc5b-c80c-4a82-90a8-74ebaa90f1ad",
   "metadata": {
    "editable": true,
    "slideshow": {
     "slide_type": ""
    },
    "tags": []
   },
   "outputs": [],
   "source": [
    "q2 = QuestionList(\n",
    "    question_name=\"q_type\",\n",
    "    question_text=\"\"\"\n",
    "    Now create a dictionary for each question, using keys 'question_text' and 'question_type'.\n",
    "    The value for 'question_text' is the question text you already identified.\n",
    "    The value for 'question_type' should be the most appropriate of the following types:\n",
    "    'multiple_choice', 'checkbox', 'linear_scale' or 'free_text'.\n",
    "    Return only the list of dictionaries you have created, with the 2 key/value pairs for each question.\n",
    "    \"\"\"\n",
    ")"
   ]
  },
  {
   "cell_type": "markdown",
   "id": "62bf3358-50da-42b6-ae60-e8bf5c9ae5f5",
   "metadata": {
    "editable": true,
    "slideshow": {
     "slide_type": ""
    },
    "tags": []
   },
   "source": [
    "Next we ask the model to add the question options (if any):"
   ]
  },
  {
   "cell_type": "code",
   "execution_count": 4,
   "id": "a4f81338-17e3-45b6-af49-0b2380905b11",
   "metadata": {
    "editable": true,
    "slideshow": {
     "slide_type": ""
    },
    "tags": []
   },
   "outputs": [],
   "source": [
    "q3 = QuestionList(\n",
    "    question_name=\"q_options\",\n",
    "    question_text=\"\"\"\n",
    "    Now add a key 'question_options' to each dictionary for all questions that are not free text,\n",
    "    with a value that is a list of the answer options for the question.\n",
    "    Preserve any integer options as integers, not strings.\n",
    "    If there are labels for linear scale answer options then add another key 'option_labels'\n",
    "    with a value that is a dictionary: the keys are the relevant integers and the values are the labels.\n",
    "    Return only the list of dictionaries you have created with all relevant key/value pairs for each question.\n",
    "    \"\"\"\n",
    ")"
   ]
  },
  {
   "cell_type": "markdown",
   "id": "31148c07-8d9e-4812-83ba-711799cdc342",
   "metadata": {
    "editable": true,
    "slideshow": {
     "slide_type": ""
    },
    "tags": []
   },
   "source": [
    "Finally, we ask the model to give each question a name:"
   ]
  },
  {
   "cell_type": "code",
   "execution_count": 5,
   "id": "0a6d2fc5-acca-4fa0-b590-ad864b11c1a1",
   "metadata": {
    "editable": true,
    "slideshow": {
     "slide_type": ""
    },
    "tags": []
   },
   "outputs": [],
   "source": [
    "q4 = QuestionList(\n",
    "    question_name=\"q_name\",\n",
    "    question_text=\"\"\"\n",
    "    Now add a key 'question_name' to each dictionary.\n",
    "    The value should be a unique short pythonic string.\n",
    "    Return only the list of dictionaries that you have created, \n",
    "    with all the key/value pairs for each question.\n",
    "    \"\"\"\n",
    ")"
   ]
  },
  {
   "cell_type": "markdown",
   "id": "22e56911-be43-4e55-af54-0e68dfc5eeb8",
   "metadata": {
    "editable": true,
    "slideshow": {
     "slide_type": ""
    },
    "tags": []
   },
   "source": [
    "Next we combine the questions into a `Survey` in order to administer them together. \n",
    "We add a \"memory\" of each prior question in the survey so that the model will have the context and its answers on hand when answering each successive question:"
   ]
  },
  {
   "cell_type": "code",
   "execution_count": 6,
   "id": "2cb87dfb-7bb0-4a53-8fff-2e252d1b8c4f",
   "metadata": {
    "editable": true,
    "slideshow": {
     "slide_type": ""
    },
    "tags": []
   },
   "outputs": [],
   "source": [
    "from edsl import Survey"
   ]
  },
  {
   "cell_type": "code",
   "execution_count": 7,
   "id": "c6bd94ea-1834-4f28-9b94-9461348b47de",
   "metadata": {
    "editable": true,
    "slideshow": {
     "slide_type": ""
    },
    "tags": []
   },
   "outputs": [],
   "source": [
    "survey = Survey(questions = [q1, q2, q3, q4]).set_full_memory_mode()"
   ]
  },
  {
   "cell_type": "markdown",
   "id": "b2c3e3b2-cd02-47e9-86b6-d8a22af04b6a",
   "metadata": {
    "editable": true,
    "slideshow": {
     "slide_type": ""
    },
    "tags": []
   },
   "source": [
    "## Adding content to questions\n",
    "Next we create a `Scenario` object for the contents of a (non-EDSL) survey to be inserted in the first question. \n",
    "This allows us to reuse the questions with other content. [Learn more about using scenarios](https://docs.expectedparrot.com/en/latest/scenarios.html) to scale data labeling and other tasks.\n",
    "\n",
    "Here we create a scenario for a [Google Form](https://forms.gle/GufjVVs5PfxUeyoj7) (a customer feedback survey) that we have stored as a publicly-accessible PDF at the [Coop](https://www.expectedparrot.com/explore).\n",
    "\n",
    "Code for posting a PDF to the Coop (rerun with your own file):"
   ]
  },
  {
   "cell_type": "code",
   "execution_count": 8,
   "id": "6599346b-6808-477c-b2ca-72feb25af630",
   "metadata": {
    "editable": true,
    "slideshow": {
     "slide_type": ""
    },
    "tags": []
   },
   "outputs": [
    {
     "data": {
      "text/plain": [
       "{'description': 'File: customer_feedback_survey.pdf',\n",
       " 'object_type': 'scenario',\n",
       " 'url': 'https://www.expectedparrot.com/content/eeb73f0d-c6fd-4e4f-8551-f6ead6d5750d',\n",
       " 'uuid': 'eeb73f0d-c6fd-4e4f-8551-f6ead6d5750d',\n",
       " 'version': '0.1.39.dev2',\n",
       " 'visibility': 'unlisted'}"
      ]
     },
     "execution_count": 8,
     "metadata": {},
     "output_type": "execute_result"
    }
   ],
   "source": [
    "from edsl import FileStore\n",
    "\n",
    "fs = FileStore(\"customer_feedback_survey.pdf\") # file type is automatically inferred\n",
    "info = fs.push()\n",
    "info"
   ]
  },
  {
   "cell_type": "markdown",
   "id": "e5206a14-26e3-43ab-97f9-dad243cf1bf0",
   "metadata": {
    "editable": true,
    "slideshow": {
     "slide_type": ""
    },
    "tags": []
   },
   "source": [
    "Retrieving a file (replace with UUID of any desired object at Coop):"
   ]
  },
  {
   "cell_type": "code",
   "execution_count": 9,
   "id": "f1fbbd79-87c2-4d94-a96c-8781370b9cf9",
   "metadata": {
    "editable": true,
    "slideshow": {
     "slide_type": ""
    },
    "tags": []
   },
   "outputs": [],
   "source": [
    "pdf_file = FileStore.pull(info[\"uuid\"])"
   ]
  },
  {
   "cell_type": "markdown",
   "id": "eee77748-aa62-4daf-b6cc-5910cd2a9e43",
   "metadata": {
    "editable": true,
    "slideshow": {
     "slide_type": ""
    },
    "tags": []
   },
   "source": [
    "Creating a scenario for the content:"
   ]
  },
  {
   "cell_type": "code",
   "execution_count": 10,
   "id": "a4f02c55-43c5-4bea-849c-5d7d8c467c46",
   "metadata": {
    "editable": true,
    "slideshow": {
     "slide_type": ""
    },
    "tags": []
   },
   "outputs": [],
   "source": [
    "from edsl import Scenario"
   ]
  },
  {
   "cell_type": "code",
   "execution_count": 11,
   "id": "a3b5161c-ad77-44a1-a695-c722545a15c6",
   "metadata": {
    "editable": true,
    "slideshow": {
     "slide_type": ""
    },
    "tags": []
   },
   "outputs": [],
   "source": [
    "s = Scenario({\"text\":pdf_file})"
   ]
  },
  {
   "cell_type": "markdown",
   "id": "23fa2e7c-a9b9-4091-9954-cacfc7e57bc0",
   "metadata": {
    "editable": true,
    "slideshow": {
     "slide_type": ""
    },
    "tags": []
   },
   "source": [
    "## Selecting language models\n",
    "EDSL works with many popular language models that we can select to use in generating survey responses. \n",
    "You can provide your own API keys for models or activate remote inference to run surveys at the Expected Parrot server with any available models. \n",
    "[Learn more about working with language models](https://docs.expectedparrot.com/en/latest/language_models.html) and using [remote inference](https://docs.expectedparrot.com/en/latest/remote_inference.html)."
   ]
  },
  {
   "cell_type": "code",
   "execution_count": 12,
   "id": "0317572d-7660-4a97-a212-04a1c0cf5766",
   "metadata": {
    "editable": true,
    "slideshow": {
     "slide_type": ""
    },
    "tags": []
   },
   "outputs": [],
   "source": [
    "from edsl import ModelList, Model"
   ]
  },
  {
   "cell_type": "markdown",
   "id": "7d625b06-79d6-43e7-bff8-6b1d0ac5c786",
   "metadata": {
    "editable": true,
    "slideshow": {
     "slide_type": ""
    },
    "tags": []
   },
   "source": [
    "To see a list of all available models:"
   ]
  },
  {
   "cell_type": "code",
   "execution_count": 13,
   "id": "01956caa-d221-494f-a892-578bdcf91728",
   "metadata": {
    "editable": true,
    "slideshow": {
     "slide_type": ""
    },
    "tags": []
   },
   "outputs": [],
   "source": [
    "# Model.available()"
   ]
  },
  {
   "cell_type": "markdown",
   "id": "84180aba-7725-4597-bc58-cae8db229f6a",
   "metadata": {
    "editable": true,
    "slideshow": {
     "slide_type": ""
    },
    "tags": []
   },
   "source": [
    "Here we select several models to compare their responses:"
   ]
  },
  {
   "cell_type": "code",
   "execution_count": 14,
   "id": "815c976a-2f73-4c65-af21-8b6289bd8c14",
   "metadata": {
    "editable": true,
    "slideshow": {
     "slide_type": ""
    },
    "tags": []
   },
   "outputs": [],
   "source": [
    "models = ModelList(\n",
    "    Model(m) for m in [\"gemini-1.5-flash\", \"gpt-4o\", \"claude-3-5-sonnet-20240620\"]\n",
    ")"
   ]
  },
  {
   "cell_type": "markdown",
   "id": "a03c02b3-656e-47d7-afee-c6128e28335e",
   "metadata": {
    "editable": true,
    "slideshow": {
     "slide_type": ""
    },
    "tags": []
   },
   "source": [
    "## Running a survey\n",
    "Next we add the scenario and models to the survey and run it. \n",
    "This generates a dataset of `Results` that we can access with built-in methods for analysis. \n",
    "[Learn more about working with results](https://docs.expectedparrot.com/en/latest/results.html)."
   ]
  },
  {
   "cell_type": "code",
   "execution_count": 15,
   "id": "2591303e-091a-42c3-8f7c-a85b22b20346",
   "metadata": {
    "editable": true,
    "slideshow": {
     "slide_type": ""
    },
    "tags": []
   },
   "outputs": [
    {
     "data": {
      "text/html": [
       "\n",
       "            <!-- #region Remove Inference Info -->\n",
       "            <div id=\"logger-c6fc0e66-bfa1-4d68-b680-98a4a1b3f837\" class=\"job-logger\">\n",
       "                <div class=\"job-logger-header\">\n",
       "                    <span>\n",
       "                        <span id=\"arrow-c6fc0e66-bfa1-4d68-b680-98a4a1b3f837\">▼</span> \n",
       "                        Job Status (2024-12-28 16:39:55)\n",
       "                    </span>\n",
       "                </div>\n",
       "                <div id=\"content-c6fc0e66-bfa1-4d68-b680-98a4a1b3f837\" style=\"display: block;\">\n",
       "                    <table class=\"job-logger-table\">\n",
       "                        \n",
       "            <tr>\n",
       "                <td class=\"job-logger-cell job-logger-label\">Job UUID</td>\n",
       "                <td class=\"job-logger-cell job-logger-value\">634ad26d-dd10-4d9b-bbbb-3917ec94771b</td>\n",
       "            </tr>\n",
       "        \n",
       "            <tr>\n",
       "                <td class=\"job-logger-cell job-logger-label\">Progress Bar URL</td>\n",
       "                <td class=\"job-logger-cell job-logger-value\"><a href=\"https://www.expectedparrot.com/home/remote-job-progress/634ad26d-dd10-4d9b-bbbb-3917ec94771b\" target=\"_blank\" class=\"job-logger-link\">https://www.expectedparrot.com/home/remote-job-progress/634ad26d-dd10-4d9b-bbbb-3917ec94771b</a></td>\n",
       "            </tr>\n",
       "        \n",
       "            <tr>\n",
       "                <td class=\"job-logger-cell job-logger-label\">Error Report URL</td>\n",
       "                <td class=\"job-logger-cell job-logger-value\"><a href=\"https://www.expectedparrot.com/home/remote-inference/error/8d776101-4b08-460f-8826-8ccab571ffc4\" target=\"_blank\" class=\"job-logger-link\">https://www.expectedparrot.com/home/remote-inference/error/8d776101-4b08-460f-8826-8ccab571ffc4</a></td>\n",
       "            </tr>\n",
       "        \n",
       "            <tr>\n",
       "                <td class=\"job-logger-cell job-logger-label\">Results UUID</td>\n",
       "                <td class=\"job-logger-cell job-logger-value\">dc50baae-a147-4213-abcb-78fab8dea081</td>\n",
       "            </tr>\n",
       "        \n",
       "            <tr>\n",
       "                <td class=\"job-logger-cell job-logger-label\">Results URL</td>\n",
       "                <td class=\"job-logger-cell job-logger-value\">None</td>\n",
       "            </tr>\n",
       "        \n",
       "                    </table>\n",
       "                    \n",
       "                <div class=\"job-logger-status\">\n",
       "                    <span style=\"margin-right: 8px;\" class=\"job-logger-success\">✓</span><strong>Current Status:</strong> Job completed and Results stored on Coop: <a href=\"https://www.expectedparrot.com/content/dc50baae-a147-4213-abcb-78fab8dea081\" target=\"_blank\" class=\"job-logger-link\">https://www.expectedparrot.com/content/dc50baae-a147-4213-abcb-78fab8dea081</a>\n",
       "                </div>\n",
       "            \n",
       "                </div>\n",
       "            </div>\n",
       "            <!-- # endregion -->\n",
       "        "
      ],
      "text/plain": [
       "<IPython.core.display.HTML object>"
      ]
     },
     "metadata": {},
     "output_type": "display_data"
    },
    {
     "data": {
      "text/html": [
       "\n",
       "        <style>\n",
       "            /* Base theme variables */\n",
       "            :root {\n",
       "                --jl-bg-primary: #ffffff;\n",
       "                --jl-bg-secondary: #f5f5f5;\n",
       "                --jl-border-color: #e0e0e0;\n",
       "                --jl-text-primary: #24292e;\n",
       "                --jl-text-secondary: #586069;\n",
       "                --jl-link-color: #0366d6;\n",
       "                --jl-success-color: #28a745;\n",
       "                --jl-error-color: #d73a49;\n",
       "                --jl-header-bg: #f1f1f1;\n",
       "            }\n",
       "            \n",
       "            /* Dark theme variables */\n",
       "            .theme-dark {\n",
       "                --jl-bg-primary: #1e1e1e;\n",
       "                --jl-bg-secondary: #252526;\n",
       "                --jl-border-color: #2d2d2d;\n",
       "                --jl-text-primary: #cccccc;\n",
       "                --jl-text-secondary: #999999;\n",
       "                --jl-link-color: #4e94ce;\n",
       "                --jl-success-color: #89d185;\n",
       "                --jl-error-color: #f14c4c;\n",
       "                --jl-header-bg: #333333;\n",
       "            }\n",
       "\n",
       "            /* High contrast theme variables */\n",
       "            .theme-high-contrast {\n",
       "                --jl-bg-primary: #000000;\n",
       "                --jl-bg-secondary: #1a1a1a;\n",
       "                --jl-border-color: #404040;\n",
       "                --jl-text-primary: #ffffff;\n",
       "                --jl-text-secondary: #cccccc;\n",
       "                --jl-link-color: #66b3ff;\n",
       "                --jl-success-color: #00ff00;\n",
       "                --jl-error-color: #ff0000;\n",
       "                --jl-header-bg: #262626;\n",
       "            }\n",
       "            \n",
       "            .job-logger {\n",
       "                font-family: system-ui, -apple-system, sans-serif;\n",
       "                max-width: 800px;\n",
       "                margin: 10px 0;\n",
       "                color: var(--jl-text-primary);\n",
       "                box-shadow: 0 1px 3px rgba(0,0,0,0.12);\n",
       "                border-radius: 4px;\n",
       "                overflow: hidden;\n",
       "            }\n",
       "            \n",
       "            .job-logger-header {\n",
       "                padding: 12px 16px;\n",
       "                background: var(--jl-header-bg);\n",
       "                border: none;\n",
       "                border-radius: 4px 4px 0 0;\n",
       "                cursor: pointer;\n",
       "                color: var(--jl-text-primary);\n",
       "                user-select: none;\n",
       "                font-weight: 500;\n",
       "                letter-spacing: 0.3px;\n",
       "                display: flex;\n",
       "                justify-content: space-between;\n",
       "                align-items: center;\n",
       "            }\n",
       "            \n",
       "            .theme-select {\n",
       "                padding: 4px 8px;\n",
       "                border-radius: 4px;\n",
       "                border: 1px solid var(--jl-border-color);\n",
       "                background: var(--jl-bg-primary);\n",
       "                color: var(--jl-text-primary);\n",
       "                font-size: 0.9em;\n",
       "            }\n",
       "            \n",
       "            .job-logger-table {\n",
       "                width: 100%;\n",
       "                border-collapse: separate;\n",
       "                border-spacing: 0;\n",
       "                background: var(--jl-bg-primary);\n",
       "                border: 1px solid var(--jl-border-color);\n",
       "                margin-top: -1px;\n",
       "            }\n",
       "            \n",
       "            .job-logger-cell {\n",
       "                padding: 12px 16px;\n",
       "                border-bottom: 1px solid var(--jl-border-color);\n",
       "                line-height: 1.4;\n",
       "            }\n",
       "            \n",
       "            .job-logger-label {\n",
       "                font-weight: 500;\n",
       "                color: var(--jl-text-primary);\n",
       "                width: 25%;\n",
       "                background: var(--jl-bg-secondary);\n",
       "            }\n",
       "            \n",
       "            .job-logger-value {\n",
       "                color: var(--jl-text-secondary);\n",
       "                word-break: break-word;\n",
       "            }\n",
       "            \n",
       "            .job-logger-status {\n",
       "                margin: 0;\n",
       "                padding: 12px 16px;\n",
       "                background-color: var(--jl-bg-secondary);\n",
       "                border: 1px solid var(--jl-border-color);\n",
       "                border-top: none;\n",
       "                border-radius: 0 0 4px 4px;\n",
       "                color: var(--jl-text-primary);\n",
       "                font-size: 0.95em;\n",
       "            }\n",
       "        </style>\n",
       "        \n",
       "        <script>\n",
       "            class ThemeManager {\n",
       "                constructor(logId, initialTheme = 'auto') {\n",
       "                    this.logId = logId;\n",
       "                    this.currentTheme = initialTheme;\n",
       "                    this.darkModeMediaQuery = window.matchMedia('(prefers-color-scheme: dark)');\n",
       "                    this.init();\n",
       "                }\n",
       "                \n",
       "                init() {\n",
       "                    this.setupThemeSwitcher();\n",
       "                    this.updateTheme(this.currentTheme);\n",
       "                    \n",
       "                    this.darkModeMediaQuery.addListener(() => {\n",
       "                        if (this.currentTheme === 'auto') {\n",
       "                            this.updateTheme('auto');\n",
       "                        }\n",
       "                    });\n",
       "                }\n",
       "                \n",
       "                setupThemeSwitcher() {\n",
       "                    const logger = document.querySelector(`#logger-${this.logId}`);\n",
       "                    if (!logger) return;\n",
       "                    \n",
       "                    const switcher = document.createElement('div');\n",
       "                    switcher.className = 'theme-switcher';\n",
       "                    switcher.innerHTML = `\n",
       "                        <select id=\"theme-select-${this.logId}\" class=\"theme-select\">\n",
       "                            <option value=\"auto\">Auto</option>\n",
       "                            <option value=\"light\">Light</option>\n",
       "                            <option value=\"dark\">Dark</option>\n",
       "                            <option value=\"high-contrast\">High Contrast</option>\n",
       "                        </select>\n",
       "                    `;\n",
       "                    \n",
       "                    const header = logger.querySelector('.job-logger-header');\n",
       "                    header.appendChild(switcher);\n",
       "                    \n",
       "                    const select = switcher.querySelector('select');\n",
       "                    select.value = this.currentTheme;\n",
       "                    select.addEventListener('change', (e) => {\n",
       "                        this.updateTheme(e.target.value);\n",
       "                    });\n",
       "                }\n",
       "                \n",
       "                updateTheme(theme) {\n",
       "                    const logger = document.querySelector(`#logger-${this.logId}`);\n",
       "                    if (!logger) return;\n",
       "                    \n",
       "                    this.currentTheme = theme;\n",
       "                    \n",
       "                    logger.classList.remove('theme-light', 'theme-dark', 'theme-high-contrast');\n",
       "                    \n",
       "                    if (theme === 'auto') {\n",
       "                        const isDark = this.darkModeMediaQuery.matches;\n",
       "                        logger.classList.add(isDark ? 'theme-dark' : 'theme-light');\n",
       "                    } else {\n",
       "                        logger.classList.add(`theme-${theme}`);\n",
       "                    }\n",
       "                    \n",
       "                    try {\n",
       "                        localStorage.setItem('jobLoggerTheme', theme);\n",
       "                    } catch (e) {\n",
       "                        console.warn('Unable to save theme preference:', e);\n",
       "                    }\n",
       "                }\n",
       "            }\n",
       "            \n",
       "            window.initThemeManager = (logId, initialTheme) => {\n",
       "                new ThemeManager(logId, initialTheme);\n",
       "            };\n",
       "        </script>\n",
       "        \n",
       "        <script>\n",
       "            document.addEventListener('DOMContentLoaded', () => {\n",
       "                window.initThemeManager('c6fc0e66-bfa1-4d68-b680-98a4a1b3f837', 'auto');\n",
       "            });\n",
       "        </script>\n",
       "        "
      ],
      "text/plain": [
       "<IPython.core.display.HTML object>"
      ]
     },
     "metadata": {},
     "output_type": "display_data"
    }
   ],
   "source": [
    "results = survey.by(s).by(models).run()"
   ]
  },
  {
   "cell_type": "markdown",
   "id": "1fbe592e-083a-4ee4-a6a0-a0af8390e73a",
   "metadata": {
    "editable": true,
    "slideshow": {
     "slide_type": ""
    },
    "tags": []
   },
   "source": [
    "To see a list of all the components of the results that have been generated:"
   ]
  },
  {
   "cell_type": "code",
   "execution_count": 16,
   "id": "0d6a54ec-3f0e-4a96-97e5-dff418da6681",
   "metadata": {
    "editable": true,
    "slideshow": {
     "slide_type": ""
    },
    "tags": []
   },
   "outputs": [
    {
     "data": {
      "text/html": [
       "\n",
       "            <div style=\"max-height: 500px; overflow-y: auto;\">\n",
       "                <style type=\"text/css\">\n",
       "#T_e077a_row0_col0, #T_e077a_row1_col0, #T_e077a_row2_col0, #T_e077a_row3_col0, #T_e077a_row4_col0, #T_e077a_row5_col0, #T_e077a_row6_col0, #T_e077a_row7_col0, #T_e077a_row8_col0, #T_e077a_row9_col0, #T_e077a_row10_col0, #T_e077a_row11_col0, #T_e077a_row12_col0, #T_e077a_row13_col0, #T_e077a_row14_col0, #T_e077a_row15_col0, #T_e077a_row16_col0, #T_e077a_row17_col0, #T_e077a_row18_col0, #T_e077a_row19_col0, #T_e077a_row20_col0, #T_e077a_row21_col0, #T_e077a_row22_col0, #T_e077a_row23_col0, #T_e077a_row24_col0, #T_e077a_row25_col0, #T_e077a_row26_col0, #T_e077a_row27_col0, #T_e077a_row28_col0, #T_e077a_row29_col0, #T_e077a_row30_col0, #T_e077a_row31_col0, #T_e077a_row32_col0, #T_e077a_row33_col0, #T_e077a_row34_col0, #T_e077a_row35_col0, #T_e077a_row36_col0, #T_e077a_row37_col0, #T_e077a_row38_col0, #T_e077a_row39_col0, #T_e077a_row40_col0, #T_e077a_row41_col0, #T_e077a_row42_col0, #T_e077a_row43_col0, #T_e077a_row44_col0, #T_e077a_row45_col0, #T_e077a_row46_col0, #T_e077a_row47_col0, #T_e077a_row48_col0, #T_e077a_row49_col0, #T_e077a_row50_col0, #T_e077a_row51_col0, #T_e077a_row52_col0, #T_e077a_row53_col0, #T_e077a_row54_col0, #T_e077a_row55_col0, #T_e077a_row56_col0, #T_e077a_row57_col0, #T_e077a_row58_col0, #T_e077a_row59_col0 {\n",
       "  text-align: left;\n",
       "}\n",
       "</style>\n",
       "<table id=\"T_e077a\">\n",
       "  <thead>\n",
       "    <tr>\n",
       "      <th class=\"blank level0\" >&nbsp;</th>\n",
       "      <th id=\"T_e077a_level0_col0\" class=\"col_heading level0 col0\" >0</th>\n",
       "    </tr>\n",
       "  </thead>\n",
       "  <tbody>\n",
       "    <tr>\n",
       "      <th id=\"T_e077a_level0_row0\" class=\"row_heading level0 row0\" >0</th>\n",
       "      <td id=\"T_e077a_row0_col0\" class=\"data row0 col0\" >agent.agent_instruction</td>\n",
       "    </tr>\n",
       "    <tr>\n",
       "      <th id=\"T_e077a_level0_row1\" class=\"row_heading level0 row1\" >1</th>\n",
       "      <td id=\"T_e077a_row1_col0\" class=\"data row1 col0\" >agent.agent_name</td>\n",
       "    </tr>\n",
       "    <tr>\n",
       "      <th id=\"T_e077a_level0_row2\" class=\"row_heading level0 row2\" >2</th>\n",
       "      <td id=\"T_e077a_row2_col0\" class=\"data row2 col0\" >answer.q_name</td>\n",
       "    </tr>\n",
       "    <tr>\n",
       "      <th id=\"T_e077a_level0_row3\" class=\"row_heading level0 row3\" >3</th>\n",
       "      <td id=\"T_e077a_row3_col0\" class=\"data row3 col0\" >answer.q_options</td>\n",
       "    </tr>\n",
       "    <tr>\n",
       "      <th id=\"T_e077a_level0_row4\" class=\"row_heading level0 row4\" >4</th>\n",
       "      <td id=\"T_e077a_row4_col0\" class=\"data row4 col0\" >answer.q_text</td>\n",
       "    </tr>\n",
       "    <tr>\n",
       "      <th id=\"T_e077a_level0_row5\" class=\"row_heading level0 row5\" >5</th>\n",
       "      <td id=\"T_e077a_row5_col0\" class=\"data row5 col0\" >answer.q_type</td>\n",
       "    </tr>\n",
       "    <tr>\n",
       "      <th id=\"T_e077a_level0_row6\" class=\"row_heading level0 row6\" >6</th>\n",
       "      <td id=\"T_e077a_row6_col0\" class=\"data row6 col0\" >comment.q_name_comment</td>\n",
       "    </tr>\n",
       "    <tr>\n",
       "      <th id=\"T_e077a_level0_row7\" class=\"row_heading level0 row7\" >7</th>\n",
       "      <td id=\"T_e077a_row7_col0\" class=\"data row7 col0\" >comment.q_options_comment</td>\n",
       "    </tr>\n",
       "    <tr>\n",
       "      <th id=\"T_e077a_level0_row8\" class=\"row_heading level0 row8\" >8</th>\n",
       "      <td id=\"T_e077a_row8_col0\" class=\"data row8 col0\" >comment.q_text_comment</td>\n",
       "    </tr>\n",
       "    <tr>\n",
       "      <th id=\"T_e077a_level0_row9\" class=\"row_heading level0 row9\" >9</th>\n",
       "      <td id=\"T_e077a_row9_col0\" class=\"data row9 col0\" >comment.q_type_comment</td>\n",
       "    </tr>\n",
       "    <tr>\n",
       "      <th id=\"T_e077a_level0_row10\" class=\"row_heading level0 row10\" >10</th>\n",
       "      <td id=\"T_e077a_row10_col0\" class=\"data row10 col0\" >generated_tokens.q_name_generated_tokens</td>\n",
       "    </tr>\n",
       "    <tr>\n",
       "      <th id=\"T_e077a_level0_row11\" class=\"row_heading level0 row11\" >11</th>\n",
       "      <td id=\"T_e077a_row11_col0\" class=\"data row11 col0\" >generated_tokens.q_options_generated_tokens</td>\n",
       "    </tr>\n",
       "    <tr>\n",
       "      <th id=\"T_e077a_level0_row12\" class=\"row_heading level0 row12\" >12</th>\n",
       "      <td id=\"T_e077a_row12_col0\" class=\"data row12 col0\" >generated_tokens.q_text_generated_tokens</td>\n",
       "    </tr>\n",
       "    <tr>\n",
       "      <th id=\"T_e077a_level0_row13\" class=\"row_heading level0 row13\" >13</th>\n",
       "      <td id=\"T_e077a_row13_col0\" class=\"data row13 col0\" >generated_tokens.q_type_generated_tokens</td>\n",
       "    </tr>\n",
       "    <tr>\n",
       "      <th id=\"T_e077a_level0_row14\" class=\"row_heading level0 row14\" >14</th>\n",
       "      <td id=\"T_e077a_row14_col0\" class=\"data row14 col0\" >iteration.iteration</td>\n",
       "    </tr>\n",
       "    <tr>\n",
       "      <th id=\"T_e077a_level0_row15\" class=\"row_heading level0 row15\" >15</th>\n",
       "      <td id=\"T_e077a_row15_col0\" class=\"data row15 col0\" >model.frequency_penalty</td>\n",
       "    </tr>\n",
       "    <tr>\n",
       "      <th id=\"T_e077a_level0_row16\" class=\"row_heading level0 row16\" >16</th>\n",
       "      <td id=\"T_e077a_row16_col0\" class=\"data row16 col0\" >model.logprobs</td>\n",
       "    </tr>\n",
       "    <tr>\n",
       "      <th id=\"T_e077a_level0_row17\" class=\"row_heading level0 row17\" >17</th>\n",
       "      <td id=\"T_e077a_row17_col0\" class=\"data row17 col0\" >model.maxOutputTokens</td>\n",
       "    </tr>\n",
       "    <tr>\n",
       "      <th id=\"T_e077a_level0_row18\" class=\"row_heading level0 row18\" >18</th>\n",
       "      <td id=\"T_e077a_row18_col0\" class=\"data row18 col0\" >model.max_tokens</td>\n",
       "    </tr>\n",
       "    <tr>\n",
       "      <th id=\"T_e077a_level0_row19\" class=\"row_heading level0 row19\" >19</th>\n",
       "      <td id=\"T_e077a_row19_col0\" class=\"data row19 col0\" >model.model</td>\n",
       "    </tr>\n",
       "    <tr>\n",
       "      <th id=\"T_e077a_level0_row20\" class=\"row_heading level0 row20\" >20</th>\n",
       "      <td id=\"T_e077a_row20_col0\" class=\"data row20 col0\" >model.presence_penalty</td>\n",
       "    </tr>\n",
       "    <tr>\n",
       "      <th id=\"T_e077a_level0_row21\" class=\"row_heading level0 row21\" >21</th>\n",
       "      <td id=\"T_e077a_row21_col0\" class=\"data row21 col0\" >model.stopSequences</td>\n",
       "    </tr>\n",
       "    <tr>\n",
       "      <th id=\"T_e077a_level0_row22\" class=\"row_heading level0 row22\" >22</th>\n",
       "      <td id=\"T_e077a_row22_col0\" class=\"data row22 col0\" >model.temperature</td>\n",
       "    </tr>\n",
       "    <tr>\n",
       "      <th id=\"T_e077a_level0_row23\" class=\"row_heading level0 row23\" >23</th>\n",
       "      <td id=\"T_e077a_row23_col0\" class=\"data row23 col0\" >model.topK</td>\n",
       "    </tr>\n",
       "    <tr>\n",
       "      <th id=\"T_e077a_level0_row24\" class=\"row_heading level0 row24\" >24</th>\n",
       "      <td id=\"T_e077a_row24_col0\" class=\"data row24 col0\" >model.topP</td>\n",
       "    </tr>\n",
       "    <tr>\n",
       "      <th id=\"T_e077a_level0_row25\" class=\"row_heading level0 row25\" >25</th>\n",
       "      <td id=\"T_e077a_row25_col0\" class=\"data row25 col0\" >model.top_logprobs</td>\n",
       "    </tr>\n",
       "    <tr>\n",
       "      <th id=\"T_e077a_level0_row26\" class=\"row_heading level0 row26\" >26</th>\n",
       "      <td id=\"T_e077a_row26_col0\" class=\"data row26 col0\" >model.top_p</td>\n",
       "    </tr>\n",
       "    <tr>\n",
       "      <th id=\"T_e077a_level0_row27\" class=\"row_heading level0 row27\" >27</th>\n",
       "      <td id=\"T_e077a_row27_col0\" class=\"data row27 col0\" >prompt.q_name_system_prompt</td>\n",
       "    </tr>\n",
       "    <tr>\n",
       "      <th id=\"T_e077a_level0_row28\" class=\"row_heading level0 row28\" >28</th>\n",
       "      <td id=\"T_e077a_row28_col0\" class=\"data row28 col0\" >prompt.q_name_user_prompt</td>\n",
       "    </tr>\n",
       "    <tr>\n",
       "      <th id=\"T_e077a_level0_row29\" class=\"row_heading level0 row29\" >29</th>\n",
       "      <td id=\"T_e077a_row29_col0\" class=\"data row29 col0\" >prompt.q_options_system_prompt</td>\n",
       "    </tr>\n",
       "    <tr>\n",
       "      <th id=\"T_e077a_level0_row30\" class=\"row_heading level0 row30\" >30</th>\n",
       "      <td id=\"T_e077a_row30_col0\" class=\"data row30 col0\" >prompt.q_options_user_prompt</td>\n",
       "    </tr>\n",
       "    <tr>\n",
       "      <th id=\"T_e077a_level0_row31\" class=\"row_heading level0 row31\" >31</th>\n",
       "      <td id=\"T_e077a_row31_col0\" class=\"data row31 col0\" >prompt.q_text_system_prompt</td>\n",
       "    </tr>\n",
       "    <tr>\n",
       "      <th id=\"T_e077a_level0_row32\" class=\"row_heading level0 row32\" >32</th>\n",
       "      <td id=\"T_e077a_row32_col0\" class=\"data row32 col0\" >prompt.q_text_user_prompt</td>\n",
       "    </tr>\n",
       "    <tr>\n",
       "      <th id=\"T_e077a_level0_row33\" class=\"row_heading level0 row33\" >33</th>\n",
       "      <td id=\"T_e077a_row33_col0\" class=\"data row33 col0\" >prompt.q_type_system_prompt</td>\n",
       "    </tr>\n",
       "    <tr>\n",
       "      <th id=\"T_e077a_level0_row34\" class=\"row_heading level0 row34\" >34</th>\n",
       "      <td id=\"T_e077a_row34_col0\" class=\"data row34 col0\" >prompt.q_type_user_prompt</td>\n",
       "    </tr>\n",
       "    <tr>\n",
       "      <th id=\"T_e077a_level0_row35\" class=\"row_heading level0 row35\" >35</th>\n",
       "      <td id=\"T_e077a_row35_col0\" class=\"data row35 col0\" >question_options.q_name_question_options</td>\n",
       "    </tr>\n",
       "    <tr>\n",
       "      <th id=\"T_e077a_level0_row36\" class=\"row_heading level0 row36\" >36</th>\n",
       "      <td id=\"T_e077a_row36_col0\" class=\"data row36 col0\" >question_options.q_options_question_options</td>\n",
       "    </tr>\n",
       "    <tr>\n",
       "      <th id=\"T_e077a_level0_row37\" class=\"row_heading level0 row37\" >37</th>\n",
       "      <td id=\"T_e077a_row37_col0\" class=\"data row37 col0\" >question_options.q_text_question_options</td>\n",
       "    </tr>\n",
       "    <tr>\n",
       "      <th id=\"T_e077a_level0_row38\" class=\"row_heading level0 row38\" >38</th>\n",
       "      <td id=\"T_e077a_row38_col0\" class=\"data row38 col0\" >question_options.q_type_question_options</td>\n",
       "    </tr>\n",
       "    <tr>\n",
       "      <th id=\"T_e077a_level0_row39\" class=\"row_heading level0 row39\" >39</th>\n",
       "      <td id=\"T_e077a_row39_col0\" class=\"data row39 col0\" >question_text.q_name_question_text</td>\n",
       "    </tr>\n",
       "    <tr>\n",
       "      <th id=\"T_e077a_level0_row40\" class=\"row_heading level0 row40\" >40</th>\n",
       "      <td id=\"T_e077a_row40_col0\" class=\"data row40 col0\" >question_text.q_options_question_text</td>\n",
       "    </tr>\n",
       "    <tr>\n",
       "      <th id=\"T_e077a_level0_row41\" class=\"row_heading level0 row41\" >41</th>\n",
       "      <td id=\"T_e077a_row41_col0\" class=\"data row41 col0\" >question_text.q_text_question_text</td>\n",
       "    </tr>\n",
       "    <tr>\n",
       "      <th id=\"T_e077a_level0_row42\" class=\"row_heading level0 row42\" >42</th>\n",
       "      <td id=\"T_e077a_row42_col0\" class=\"data row42 col0\" >question_text.q_type_question_text</td>\n",
       "    </tr>\n",
       "    <tr>\n",
       "      <th id=\"T_e077a_level0_row43\" class=\"row_heading level0 row43\" >43</th>\n",
       "      <td id=\"T_e077a_row43_col0\" class=\"data row43 col0\" >question_type.q_name_question_type</td>\n",
       "    </tr>\n",
       "    <tr>\n",
       "      <th id=\"T_e077a_level0_row44\" class=\"row_heading level0 row44\" >44</th>\n",
       "      <td id=\"T_e077a_row44_col0\" class=\"data row44 col0\" >question_type.q_options_question_type</td>\n",
       "    </tr>\n",
       "    <tr>\n",
       "      <th id=\"T_e077a_level0_row45\" class=\"row_heading level0 row45\" >45</th>\n",
       "      <td id=\"T_e077a_row45_col0\" class=\"data row45 col0\" >question_type.q_text_question_type</td>\n",
       "    </tr>\n",
       "    <tr>\n",
       "      <th id=\"T_e077a_level0_row46\" class=\"row_heading level0 row46\" >46</th>\n",
       "      <td id=\"T_e077a_row46_col0\" class=\"data row46 col0\" >question_type.q_type_question_type</td>\n",
       "    </tr>\n",
       "    <tr>\n",
       "      <th id=\"T_e077a_level0_row47\" class=\"row_heading level0 row47\" >47</th>\n",
       "      <td id=\"T_e077a_row47_col0\" class=\"data row47 col0\" >raw_model_response.q_name_cost</td>\n",
       "    </tr>\n",
       "    <tr>\n",
       "      <th id=\"T_e077a_level0_row48\" class=\"row_heading level0 row48\" >48</th>\n",
       "      <td id=\"T_e077a_row48_col0\" class=\"data row48 col0\" >raw_model_response.q_name_one_usd_buys</td>\n",
       "    </tr>\n",
       "    <tr>\n",
       "      <th id=\"T_e077a_level0_row49\" class=\"row_heading level0 row49\" >49</th>\n",
       "      <td id=\"T_e077a_row49_col0\" class=\"data row49 col0\" >raw_model_response.q_name_raw_model_response</td>\n",
       "    </tr>\n",
       "    <tr>\n",
       "      <th id=\"T_e077a_level0_row50\" class=\"row_heading level0 row50\" >50</th>\n",
       "      <td id=\"T_e077a_row50_col0\" class=\"data row50 col0\" >raw_model_response.q_options_cost</td>\n",
       "    </tr>\n",
       "    <tr>\n",
       "      <th id=\"T_e077a_level0_row51\" class=\"row_heading level0 row51\" >51</th>\n",
       "      <td id=\"T_e077a_row51_col0\" class=\"data row51 col0\" >raw_model_response.q_options_one_usd_buys</td>\n",
       "    </tr>\n",
       "    <tr>\n",
       "      <th id=\"T_e077a_level0_row52\" class=\"row_heading level0 row52\" >52</th>\n",
       "      <td id=\"T_e077a_row52_col0\" class=\"data row52 col0\" >raw_model_response.q_options_raw_model_response</td>\n",
       "    </tr>\n",
       "    <tr>\n",
       "      <th id=\"T_e077a_level0_row53\" class=\"row_heading level0 row53\" >53</th>\n",
       "      <td id=\"T_e077a_row53_col0\" class=\"data row53 col0\" >raw_model_response.q_text_cost</td>\n",
       "    </tr>\n",
       "    <tr>\n",
       "      <th id=\"T_e077a_level0_row54\" class=\"row_heading level0 row54\" >54</th>\n",
       "      <td id=\"T_e077a_row54_col0\" class=\"data row54 col0\" >raw_model_response.q_text_one_usd_buys</td>\n",
       "    </tr>\n",
       "    <tr>\n",
       "      <th id=\"T_e077a_level0_row55\" class=\"row_heading level0 row55\" >55</th>\n",
       "      <td id=\"T_e077a_row55_col0\" class=\"data row55 col0\" >raw_model_response.q_text_raw_model_response</td>\n",
       "    </tr>\n",
       "    <tr>\n",
       "      <th id=\"T_e077a_level0_row56\" class=\"row_heading level0 row56\" >56</th>\n",
       "      <td id=\"T_e077a_row56_col0\" class=\"data row56 col0\" >raw_model_response.q_type_cost</td>\n",
       "    </tr>\n",
       "    <tr>\n",
       "      <th id=\"T_e077a_level0_row57\" class=\"row_heading level0 row57\" >57</th>\n",
       "      <td id=\"T_e077a_row57_col0\" class=\"data row57 col0\" >raw_model_response.q_type_one_usd_buys</td>\n",
       "    </tr>\n",
       "    <tr>\n",
       "      <th id=\"T_e077a_level0_row58\" class=\"row_heading level0 row58\" >58</th>\n",
       "      <td id=\"T_e077a_row58_col0\" class=\"data row58 col0\" >raw_model_response.q_type_raw_model_response</td>\n",
       "    </tr>\n",
       "    <tr>\n",
       "      <th id=\"T_e077a_level0_row59\" class=\"row_heading level0 row59\" >59</th>\n",
       "      <td id=\"T_e077a_row59_col0\" class=\"data row59 col0\" >scenario.text</td>\n",
       "    </tr>\n",
       "  </tbody>\n",
       "</table>\n",
       "\n",
       "            </div>\n",
       "            "
      ],
      "text/plain": [
       "PrettyList(['agent.agent_instruction',\n",
       "            'agent.agent_name',\n",
       "            'answer.q_name',\n",
       "            'answer.q_options',\n",
       "            'answer.q_text',\n",
       "            'answer.q_type',\n",
       "            'comment.q_name_comment',\n",
       "            'comment.q_options_comment',\n",
       "            'comment.q_text_comment',\n",
       "            'comment.q_type_comment',\n",
       "            'generated_tokens.q_name_generated_tokens',\n",
       "            'generated_tokens.q_options_generated_tokens',\n",
       "            'generated_tokens.q_text_generated_tokens',\n",
       "            'generated_tokens.q_type_generated_tokens',\n",
       "            'iteration.iteration',\n",
       "            'model.frequency_penalty',\n",
       "            'model.logprobs',\n",
       "            'model.maxOutputTokens',\n",
       "            'model.max_tokens',\n",
       "            'model.model',\n",
       "            'model.presence_penalty',\n",
       "            'model.stopSequences',\n",
       "            'model.temperature',\n",
       "            'model.topK',\n",
       "            'model.topP',\n",
       "            'model.top_logprobs',\n",
       "            'model.top_p',\n",
       "            'prompt.q_name_system_prompt',\n",
       "            'prompt.q_name_user_prompt',\n",
       "            'prompt.q_options_system_prompt',\n",
       "            'prompt.q_options_user_prompt',\n",
       "            'prompt.q_text_system_prompt',\n",
       "            'prompt.q_text_user_prompt',\n",
       "            'prompt.q_type_system_prompt',\n",
       "            'prompt.q_type_user_prompt',\n",
       "            'question_options.q_name_question_options',\n",
       "            'question_options.q_options_question_options',\n",
       "            'question_options.q_text_question_options',\n",
       "            'question_options.q_type_question_options',\n",
       "            'question_text.q_name_question_text',\n",
       "            'question_text.q_options_question_text',\n",
       "            'question_text.q_text_question_text',\n",
       "            'question_text.q_type_question_text',\n",
       "            'question_type.q_name_question_type',\n",
       "            'question_type.q_options_question_type',\n",
       "            'question_type.q_text_question_type',\n",
       "            'question_type.q_type_question_type',\n",
       "            'raw_model_response.q_name_cost',\n",
       "            'raw_model_response.q_name_one_usd_buys',\n",
       "            'raw_model_response.q_name_raw_model_response',\n",
       "            'raw_model_response.q_options_cost',\n",
       "            'raw_model_response.q_options_one_usd_buys',\n",
       "            'raw_model_response.q_options_raw_model_response',\n",
       "            'raw_model_response.q_text_cost',\n",
       "            'raw_model_response.q_text_one_usd_buys',\n",
       "            'raw_model_response.q_text_raw_model_response',\n",
       "            'raw_model_response.q_type_cost',\n",
       "            'raw_model_response.q_type_one_usd_buys',\n",
       "            'raw_model_response.q_type_raw_model_response',\n",
       "            'scenario.text'])"
      ]
     },
     "execution_count": 16,
     "metadata": {},
     "output_type": "execute_result"
    }
   ],
   "source": [
    "results.columns"
   ]
  },
  {
   "cell_type": "markdown",
   "id": "9b02aff0-4468-4608-83c7-344fd04316ac",
   "metadata": {
    "editable": true,
    "slideshow": {
     "slide_type": ""
    },
    "tags": []
   },
   "source": [
    "We can filter, sort, select and print components in a table:"
   ]
  },
  {
   "cell_type": "code",
   "execution_count": 17,
   "id": "9ecdef95-0947-4795-a1e7-6abc91e9ff0e",
   "metadata": {
    "editable": true,
    "slideshow": {
     "slide_type": ""
    },
    "tags": []
   },
   "outputs": [
    {
     "data": {
      "text/html": [
       "\n",
       "            <div style=\"max-height: 500px; overflow-y: auto;\">\n",
       "                <style type=\"text/css\">\n",
       "#T_b66db_row0_col0, #T_b66db_row0_col1, #T_b66db_row1_col0, #T_b66db_row1_col1, #T_b66db_row2_col0, #T_b66db_row2_col1 {\n",
       "  text-align: left;\n",
       "}\n",
       "</style>\n",
       "<table id=\"T_b66db\">\n",
       "  <thead>\n",
       "    <tr>\n",
       "      <th class=\"blank level0\" >&nbsp;</th>\n",
       "      <th id=\"T_b66db_level0_col0\" class=\"col_heading level0 col0\" >model.model</th>\n",
       "      <th id=\"T_b66db_level0_col1\" class=\"col_heading level0 col1\" >answer.q_name</th>\n",
       "    </tr>\n",
       "  </thead>\n",
       "  <tbody>\n",
       "    <tr>\n",
       "      <th id=\"T_b66db_level0_row0\" class=\"row_heading level0 row0\" >0</th>\n",
       "      <td id=\"T_b66db_row0_col0\" class=\"data row0 col0\" >claude-3-5-sonnet-20240620</td>\n",
       "      <td id=\"T_b66db_row0_col1\" class=\"data row0 col1\" >[{'question_text': 'How many times have you visited our website in the past month?', 'question_type': 'multiple_choice', 'question_options': [0, 1, 2, 3, 4, '5 or more'], 'question_name': 'visit_frequency'}, {'question_text': 'How easy was it to find the information you were looking for?', 'question_type': 'linear_scale', 'question_options': [1, 2, 3, 4, 5], 'option_labels': {'1': 'Very difficult', '5': 'Very easy'}, 'question_name': 'info_findability'}, {'question_text': 'How would you rate the overall design and layout of our website?', 'question_type': 'linear_scale', 'question_options': [1, 2, 3, 4, 5], 'option_labels': {'1': 'Poor', '5': 'Excellent'}, 'question_name': 'design_rating'}, {'question_text': 'Did you encounter any technical issues while using our website?', 'question_type': 'multiple_choice', 'question_options': ['Yes', 'No'], 'question_name': 'technical_issues'}, {'question_text': 'How likely are you to recommend our website to others?', 'question_type': 'linear_scale', 'question_options': [0, 1, 2, 3, 4, 5, 6, 7, 8, 9, 10], 'option_labels': {'0': 'Not at all likely', '10': 'Extremely likely'}, 'question_name': 'recommendation_likelihood'}, {'question_text': 'What is your primary reason for visiting our website?', 'question_type': 'multiple_choice', 'question_options': ['Information seeking', 'Product purchase', 'Customer support', 'General browsing', 'Other'], 'question_name': 'visit_reason'}, {'question_text': 'How satisfied are you with the content available on our website?', 'question_type': 'linear_scale', 'question_options': [1, 2, 3, 4, 5], 'option_labels': {'1': 'Very dissatisfied', '5': 'Very satisfied'}, 'question_name': 'content_satisfaction'}, {'question_text': \"How does our website compare to similar websites you've used?\", 'question_type': 'multiple_choice', 'question_options': ['Much worse', 'Somewhat worse', 'About the same', 'Somewhat better', 'Much better'], 'question_name': 'website_comparison'}, {'question_text': 'What additional features or information would you like to see on our website?', 'question_type': 'free_text', 'question_name': 'desired_features'}, {'question_text': 'Do you have any other comments or suggestions for improving our website?', 'question_type': 'free_text', 'question_name': 'additional_feedback'}]</td>\n",
       "    </tr>\n",
       "    <tr>\n",
       "      <th id=\"T_b66db_level0_row1\" class=\"row_heading level0 row1\" >1</th>\n",
       "      <td id=\"T_b66db_row1_col0\" class=\"data row1 col0\" >gemini-1.5-flash</td>\n",
       "      <td id=\"T_b66db_row1_col1\" class=\"data row1 col1\" >[{'question_text': 'Email', 'question_type': 'free_text', 'question_name': 'email'}, {'question_text': 'How did you first hear about our company?', 'question_type': 'free_text', 'question_name': 'hear_about'}, {'question_text': 'Which of the following services have you used?', 'question_type': 'checkbox', 'question_options': ['service1', 'service2', 'service3'], 'question_name': 'used_services'}, {'question_text': 'On a scale from 1 to 5, how satisfied are you with our customer service?', 'question_type': 'linear_scale', 'question_options': [1, 2, 3, 4, 5], 'option_labels': {'1': 'Very dissatisfied', '2': 'Dissatisfied', '3': 'Neutral', '4': 'Satisfied', '5': 'Very satisfied'}, 'question_name': 'customer_satisfaction'}, {'question_text': 'How many times have you purchased from us in the past year?', 'question_type': 'free_text', 'question_name': 'purchase_frequency'}, {'question_text': 'Please provide any additional comments or suggestions you have.', 'question_type': 'free_text', 'question_name': 'comments'}]</td>\n",
       "    </tr>\n",
       "    <tr>\n",
       "      <th id=\"T_b66db_level0_row2\" class=\"row_heading level0 row2\" >2</th>\n",
       "      <td id=\"T_b66db_row2_col0\" class=\"data row2 col0\" >gpt-4o</td>\n",
       "      <td id=\"T_b66db_row2_col1\" class=\"data row2 col1\" >nan</td>\n",
       "    </tr>\n",
       "  </tbody>\n",
       "</table>\n",
       "\n",
       "            </div>\n",
       "            "
      ],
      "text/plain": [
       "Dataset([{'model.model': ['claude-3-5-sonnet-20240620', 'gemini-1.5-flash', 'gpt-4o']}, {'answer.q_name': [[{'question_text': 'How many times have you visited our website in the past month?', 'question_type': 'multiple_choice', 'question_options': [0, 1, 2, 3, 4, '5 or more'], 'question_name': 'visit_frequency'}, {'question_text': 'How easy was it to find the information you were looking for?', 'question_type': 'linear_scale', 'question_options': [1, 2, 3, 4, 5], 'option_labels': {'1': 'Very difficult', '5': 'Very easy'}, 'question_name': 'info_findability'}, {'question_text': 'How would you rate the overall design and layout of our website?', 'question_type': 'linear_scale', 'question_options': [1, 2, 3, 4, 5], 'option_labels': {'1': 'Poor', '5': 'Excellent'}, 'question_name': 'design_rating'}, {'question_text': 'Did you encounter any technical issues while using our website?', 'question_type': 'multiple_choice', 'question_options': ['Yes', 'No'], 'question_name': 'technical_issues'}, {'question_text': 'How likely are you to recommend our website to others?', 'question_type': 'linear_scale', 'question_options': [0, 1, 2, 3, 4, 5, 6, 7, 8, 9, 10], 'option_labels': {'0': 'Not at all likely', '10': 'Extremely likely'}, 'question_name': 'recommendation_likelihood'}, {'question_text': 'What is your primary reason for visiting our website?', 'question_type': 'multiple_choice', 'question_options': ['Information seeking', 'Product purchase', 'Customer support', 'General browsing', 'Other'], 'question_name': 'visit_reason'}, {'question_text': 'How satisfied are you with the content available on our website?', 'question_type': 'linear_scale', 'question_options': [1, 2, 3, 4, 5], 'option_labels': {'1': 'Very dissatisfied', '5': 'Very satisfied'}, 'question_name': 'content_satisfaction'}, {'question_text': \"How does our website compare to similar websites you've used?\", 'question_type': 'multiple_choice', 'question_options': ['Much worse', 'Somewhat worse', 'About the same', 'Somewhat better', 'Much better'], 'question_name': 'website_comparison'}, {'question_text': 'What additional features or information would you like to see on our website?', 'question_type': 'free_text', 'question_name': 'desired_features'}, {'question_text': 'Do you have any other comments or suggestions for improving our website?', 'question_type': 'free_text', 'question_name': 'additional_feedback'}], [{'question_text': 'Email', 'question_type': 'free_text', 'question_name': 'email'}, {'question_text': 'How did you first hear about our company?', 'question_type': 'free_text', 'question_name': 'hear_about'}, {'question_text': 'Which of the following services have you used?', 'question_type': 'checkbox', 'question_options': ['service1', 'service2', 'service3'], 'question_name': 'used_services'}, {'question_text': 'On a scale from 1 to 5, how satisfied are you with our customer service?', 'question_type': 'linear_scale', 'question_options': [1, 2, 3, 4, 5], 'option_labels': {'1': 'Very dissatisfied', '2': 'Dissatisfied', '3': 'Neutral', '4': 'Satisfied', '5': 'Very satisfied'}, 'question_name': 'customer_satisfaction'}, {'question_text': 'How many times have you purchased from us in the past year?', 'question_type': 'free_text', 'question_name': 'purchase_frequency'}, {'question_text': 'Please provide any additional comments or suggestions you have.', 'question_type': 'free_text', 'question_name': 'comments'}], None]}])"
      ]
     },
     "execution_count": 17,
     "metadata": {},
     "output_type": "execute_result"
    }
   ],
   "source": [
    "(\n",
    "    results\n",
    "    .sort_by(\"model\")\n",
    "    .select(\"model\", \"q_name\") #\"q_text\", \"q_type\", \"q_options\", \"q_name\")\n",
    ")"
   ]
  },
  {
   "cell_type": "markdown",
   "id": "97cbe822-ac2c-4b90-91ba-2767aff197ae",
   "metadata": {
    "editable": true,
    "slideshow": {
     "slide_type": ""
    },
    "tags": []
   },
   "source": [
    "## Creating a new EDSL survey\n",
    "Now we can construct a new EDSL survey with the reformatted components of the original survey.\n",
    "This is done by creating `Question` objects with the question components, passing them to a new `Survey`, and then optionally designing and assigning AI agents to answer the survey.\n",
    "\n",
    "Here we select one of the model's responses to use:"
   ]
  },
  {
   "cell_type": "code",
   "execution_count": 18,
   "id": "592ffa06-b794-47b1-b696-c4d2921d61a8",
   "metadata": {
    "editable": true,
    "slideshow": {
     "slide_type": ""
    },
    "tags": []
   },
   "outputs": [],
   "source": [
    "from edsl import Question"
   ]
  },
  {
   "cell_type": "code",
   "execution_count": 19,
   "id": "0d2988ef-6892-47fb-951f-1cbb0ef1c5ea",
   "metadata": {
    "editable": true,
    "slideshow": {
     "slide_type": ""
    },
    "tags": []
   },
   "outputs": [
    {
     "data": {
      "text/plain": [
       "[{'question_text': 'How many times have you visited our website in the past month?',\n",
       "  'question_type': 'multiple_choice',\n",
       "  'question_options': [0, 1, 2, 3, 4, '5 or more'],\n",
       "  'question_name': 'visit_frequency'},\n",
       " {'question_text': 'How easy was it to find the information you were looking for?',\n",
       "  'question_type': 'linear_scale',\n",
       "  'question_options': [1, 2, 3, 4, 5],\n",
       "  'option_labels': {'1': 'Very difficult', '5': 'Very easy'},\n",
       "  'question_name': 'info_findability'},\n",
       " {'question_text': 'How would you rate the overall design and layout of our website?',\n",
       "  'question_type': 'linear_scale',\n",
       "  'question_options': [1, 2, 3, 4, 5],\n",
       "  'option_labels': {'1': 'Poor', '5': 'Excellent'},\n",
       "  'question_name': 'design_rating'},\n",
       " {'question_text': 'Did you encounter any technical issues while using our website?',\n",
       "  'question_type': 'multiple_choice',\n",
       "  'question_options': ['Yes', 'No'],\n",
       "  'question_name': 'technical_issues'},\n",
       " {'question_text': 'How likely are you to recommend our website to others?',\n",
       "  'question_type': 'linear_scale',\n",
       "  'question_options': [0, 1, 2, 3, 4, 5, 6, 7, 8, 9, 10],\n",
       "  'option_labels': {'0': 'Not at all likely', '10': 'Extremely likely'},\n",
       "  'question_name': 'recommendation_likelihood'},\n",
       " {'question_text': 'What is your primary reason for visiting our website?',\n",
       "  'question_type': 'multiple_choice',\n",
       "  'question_options': ['Information seeking',\n",
       "   'Product purchase',\n",
       "   'Customer support',\n",
       "   'General browsing',\n",
       "   'Other'],\n",
       "  'question_name': 'visit_reason'},\n",
       " {'question_text': 'How satisfied are you with the content available on our website?',\n",
       "  'question_type': 'linear_scale',\n",
       "  'question_options': [1, 2, 3, 4, 5],\n",
       "  'option_labels': {'1': 'Very dissatisfied', '5': 'Very satisfied'},\n",
       "  'question_name': 'content_satisfaction'},\n",
       " {'question_text': \"How does our website compare to similar websites you've used?\",\n",
       "  'question_type': 'multiple_choice',\n",
       "  'question_options': ['Much worse',\n",
       "   'Somewhat worse',\n",
       "   'About the same',\n",
       "   'Somewhat better',\n",
       "   'Much better'],\n",
       "  'question_name': 'website_comparison'},\n",
       " {'question_text': 'What additional features or information would you like to see on our website?',\n",
       "  'question_type': 'free_text',\n",
       "  'question_name': 'desired_features'},\n",
       " {'question_text': 'Do you have any other comments or suggestions for improving our website?',\n",
       "  'question_type': 'free_text',\n",
       "  'question_name': 'additional_feedback'}]"
      ]
     },
     "execution_count": 19,
     "metadata": {},
     "output_type": "execute_result"
    }
   ],
   "source": [
    "questions_list = results.filter(\"model.model == 'claude-3-5-sonnet-20240620'\").select(\"q_name\").to_list()[0]\n",
    "questions_list"
   ]
  },
  {
   "cell_type": "code",
   "execution_count": 20,
   "id": "42c858f8-baf2-4e7b-898a-b7eb53c38658",
   "metadata": {
    "editable": true,
    "slideshow": {
     "slide_type": ""
    },
    "tags": []
   },
   "outputs": [
    {
     "data": {
      "text/plain": [
       "[Question('multiple_choice', question_name = \"\"\"visit_frequency\"\"\", question_text = \"\"\"How many times have you visited our website in the past month?\"\"\", question_options = [0, 1, 2, 3, 4, '5 or more']),\n",
       " Question('linear_scale', question_name = \"\"\"info_findability\"\"\", question_text = \"\"\"How easy was it to find the information you were looking for?\"\"\", question_options = [1, 2, 3, 4, 5], option_labels = {1: 'Very difficult', 5: 'Very easy'}),\n",
       " Question('linear_scale', question_name = \"\"\"design_rating\"\"\", question_text = \"\"\"How would you rate the overall design and layout of our website?\"\"\", question_options = [1, 2, 3, 4, 5], option_labels = {1: 'Poor', 5: 'Excellent'}),\n",
       " Question('multiple_choice', question_name = \"\"\"technical_issues\"\"\", question_text = \"\"\"Did you encounter any technical issues while using our website?\"\"\", question_options = ['Yes', 'No']),\n",
       " Question('linear_scale', question_name = \"\"\"recommendation_likelihood\"\"\", question_text = \"\"\"How likely are you to recommend our website to others?\"\"\", question_options = [0, 1, 2, 3, 4, 5, 6, 7, 8, 9, 10], option_labels = {0: 'Not at all likely', 10: 'Extremely likely'}),\n",
       " Question('multiple_choice', question_name = \"\"\"visit_reason\"\"\", question_text = \"\"\"What is your primary reason for visiting our website?\"\"\", question_options = ['Information seeking', 'Product purchase', 'Customer support', 'General browsing', 'Other']),\n",
       " Question('linear_scale', question_name = \"\"\"content_satisfaction\"\"\", question_text = \"\"\"How satisfied are you with the content available on our website?\"\"\", question_options = [1, 2, 3, 4, 5], option_labels = {1: 'Very dissatisfied', 5: 'Very satisfied'}),\n",
       " Question('multiple_choice', question_name = \"\"\"website_comparison\"\"\", question_text = \"\"\"How does our website compare to similar websites you've used?\"\"\", question_options = ['Much worse', 'Somewhat worse', 'About the same', 'Somewhat better', 'Much better']),\n",
       " Question('free_text', question_name = \"\"\"desired_features\"\"\", question_text = \"\"\"What additional features or information would you like to see on our website?\"\"\"),\n",
       " Question('free_text', question_name = \"\"\"additional_feedback\"\"\", question_text = \"\"\"Do you have any other comments or suggestions for improving our website?\"\"\")]"
      ]
     },
     "execution_count": 20,
     "metadata": {},
     "output_type": "execute_result"
    }
   ],
   "source": [
    "edsl_questions = [Question(**q) for q in questions_list]\n",
    "edsl_questions"
   ]
  },
  {
   "cell_type": "code",
   "execution_count": 21,
   "id": "e8d2c56a-0227-45ec-892f-c84b03a0cd42",
   "metadata": {
    "editable": true,
    "slideshow": {
     "slide_type": ""
    },
    "tags": []
   },
   "outputs": [],
   "source": [
    "new_survey = Survey(edsl_questions)"
   ]
  },
  {
   "cell_type": "markdown",
   "id": "62adac44-1c6c-406c-bcd5-07ea67cf7774",
   "metadata": {
    "editable": true,
    "slideshow": {
     "slide_type": ""
    },
    "tags": []
   },
   "source": [
    "We can inspect the survey that has been created:"
   ]
  },
  {
   "cell_type": "code",
   "execution_count": 22,
   "id": "e40df545-fcff-44ac-a5c8-0cb0d9ddcb65",
   "metadata": {
    "editable": true,
    "slideshow": {
     "slide_type": ""
    },
    "tags": []
   },
   "outputs": [
    {
     "data": {
      "text/html": [
       "<p><a href='https://docs.expectedparrot.com/en/latest/surveys.html'>Survey</a> # questions: 10; question_name list: ['visit_frequency', 'info_findability', 'design_rating', 'technical_issues', 'recommendation_likelihood', 'visit_reason', 'content_satisfaction', 'website_comparison', 'desired_features', 'additional_feedback'];</p>\n",
       "            <div style=\"max-height: 500px; overflow-y: auto;\">\n",
       "                <style type=\"text/css\">\n",
       "#T_32df2_row0_col0, #T_32df2_row0_col1, #T_32df2_row0_col2, #T_32df2_row0_col3, #T_32df2_row0_col4, #T_32df2_row1_col0, #T_32df2_row1_col1, #T_32df2_row1_col2, #T_32df2_row1_col3, #T_32df2_row1_col4, #T_32df2_row2_col0, #T_32df2_row2_col1, #T_32df2_row2_col2, #T_32df2_row2_col3, #T_32df2_row2_col4, #T_32df2_row3_col0, #T_32df2_row3_col1, #T_32df2_row3_col2, #T_32df2_row3_col3, #T_32df2_row3_col4, #T_32df2_row4_col0, #T_32df2_row4_col1, #T_32df2_row4_col2, #T_32df2_row4_col3, #T_32df2_row4_col4, #T_32df2_row5_col0, #T_32df2_row5_col1, #T_32df2_row5_col2, #T_32df2_row5_col3, #T_32df2_row5_col4, #T_32df2_row6_col0, #T_32df2_row6_col1, #T_32df2_row6_col2, #T_32df2_row6_col3, #T_32df2_row6_col4, #T_32df2_row7_col0, #T_32df2_row7_col1, #T_32df2_row7_col2, #T_32df2_row7_col3, #T_32df2_row7_col4, #T_32df2_row8_col0, #T_32df2_row8_col1, #T_32df2_row8_col2, #T_32df2_row8_col3, #T_32df2_row8_col4, #T_32df2_row9_col0, #T_32df2_row9_col1, #T_32df2_row9_col2, #T_32df2_row9_col3, #T_32df2_row9_col4 {\n",
       "  text-align: left;\n",
       "}\n",
       "</style>\n",
       "<table id=\"T_32df2\">\n",
       "  <thead>\n",
       "    <tr>\n",
       "      <th class=\"blank level0\" >&nbsp;</th>\n",
       "      <th id=\"T_32df2_level0_col0\" class=\"col_heading level0 col0\" >option_labels</th>\n",
       "      <th id=\"T_32df2_level0_col1\" class=\"col_heading level0 col1\" >question_type</th>\n",
       "      <th id=\"T_32df2_level0_col2\" class=\"col_heading level0 col2\" >question_name</th>\n",
       "      <th id=\"T_32df2_level0_col3\" class=\"col_heading level0 col3\" >question_text</th>\n",
       "      <th id=\"T_32df2_level0_col4\" class=\"col_heading level0 col4\" >question_options</th>\n",
       "    </tr>\n",
       "  </thead>\n",
       "  <tbody>\n",
       "    <tr>\n",
       "      <th id=\"T_32df2_level0_row0\" class=\"row_heading level0 row0\" >0</th>\n",
       "      <td id=\"T_32df2_row0_col0\" class=\"data row0 col0\" >nan</td>\n",
       "      <td id=\"T_32df2_row0_col1\" class=\"data row0 col1\" >multiple_choice</td>\n",
       "      <td id=\"T_32df2_row0_col2\" class=\"data row0 col2\" >visit_frequency</td>\n",
       "      <td id=\"T_32df2_row0_col3\" class=\"data row0 col3\" >How many times have you visited our website in the past month?</td>\n",
       "      <td id=\"T_32df2_row0_col4\" class=\"data row0 col4\" >[0, 1, 2, 3, 4, '5 or more']</td>\n",
       "    </tr>\n",
       "    <tr>\n",
       "      <th id=\"T_32df2_level0_row1\" class=\"row_heading level0 row1\" >1</th>\n",
       "      <td id=\"T_32df2_row1_col0\" class=\"data row1 col0\" >{1: 'Very difficult', 5: 'Very easy'}</td>\n",
       "      <td id=\"T_32df2_row1_col1\" class=\"data row1 col1\" >linear_scale</td>\n",
       "      <td id=\"T_32df2_row1_col2\" class=\"data row1 col2\" >info_findability</td>\n",
       "      <td id=\"T_32df2_row1_col3\" class=\"data row1 col3\" >How easy was it to find the information you were looking for?</td>\n",
       "      <td id=\"T_32df2_row1_col4\" class=\"data row1 col4\" >[1, 2, 3, 4, 5]</td>\n",
       "    </tr>\n",
       "    <tr>\n",
       "      <th id=\"T_32df2_level0_row2\" class=\"row_heading level0 row2\" >2</th>\n",
       "      <td id=\"T_32df2_row2_col0\" class=\"data row2 col0\" >{1: 'Poor', 5: 'Excellent'}</td>\n",
       "      <td id=\"T_32df2_row2_col1\" class=\"data row2 col1\" >linear_scale</td>\n",
       "      <td id=\"T_32df2_row2_col2\" class=\"data row2 col2\" >design_rating</td>\n",
       "      <td id=\"T_32df2_row2_col3\" class=\"data row2 col3\" >How would you rate the overall design and layout of our website?</td>\n",
       "      <td id=\"T_32df2_row2_col4\" class=\"data row2 col4\" >[1, 2, 3, 4, 5]</td>\n",
       "    </tr>\n",
       "    <tr>\n",
       "      <th id=\"T_32df2_level0_row3\" class=\"row_heading level0 row3\" >3</th>\n",
       "      <td id=\"T_32df2_row3_col0\" class=\"data row3 col0\" >nan</td>\n",
       "      <td id=\"T_32df2_row3_col1\" class=\"data row3 col1\" >multiple_choice</td>\n",
       "      <td id=\"T_32df2_row3_col2\" class=\"data row3 col2\" >technical_issues</td>\n",
       "      <td id=\"T_32df2_row3_col3\" class=\"data row3 col3\" >Did you encounter any technical issues while using our website?</td>\n",
       "      <td id=\"T_32df2_row3_col4\" class=\"data row3 col4\" >['Yes', 'No']</td>\n",
       "    </tr>\n",
       "    <tr>\n",
       "      <th id=\"T_32df2_level0_row4\" class=\"row_heading level0 row4\" >4</th>\n",
       "      <td id=\"T_32df2_row4_col0\" class=\"data row4 col0\" >{0: 'Not at all likely', 10: 'Extremely likely'}</td>\n",
       "      <td id=\"T_32df2_row4_col1\" class=\"data row4 col1\" >linear_scale</td>\n",
       "      <td id=\"T_32df2_row4_col2\" class=\"data row4 col2\" >recommendation_likelihood</td>\n",
       "      <td id=\"T_32df2_row4_col3\" class=\"data row4 col3\" >How likely are you to recommend our website to others?</td>\n",
       "      <td id=\"T_32df2_row4_col4\" class=\"data row4 col4\" >[0, 1, 2, 3, 4, 5, 6, 7, 8, 9, 10]</td>\n",
       "    </tr>\n",
       "    <tr>\n",
       "      <th id=\"T_32df2_level0_row5\" class=\"row_heading level0 row5\" >5</th>\n",
       "      <td id=\"T_32df2_row5_col0\" class=\"data row5 col0\" >nan</td>\n",
       "      <td id=\"T_32df2_row5_col1\" class=\"data row5 col1\" >multiple_choice</td>\n",
       "      <td id=\"T_32df2_row5_col2\" class=\"data row5 col2\" >visit_reason</td>\n",
       "      <td id=\"T_32df2_row5_col3\" class=\"data row5 col3\" >What is your primary reason for visiting our website?</td>\n",
       "      <td id=\"T_32df2_row5_col4\" class=\"data row5 col4\" >['Information seeking', 'Product purchase', 'Customer support', 'General browsing', 'Other']</td>\n",
       "    </tr>\n",
       "    <tr>\n",
       "      <th id=\"T_32df2_level0_row6\" class=\"row_heading level0 row6\" >6</th>\n",
       "      <td id=\"T_32df2_row6_col0\" class=\"data row6 col0\" >{1: 'Very dissatisfied', 5: 'Very satisfied'}</td>\n",
       "      <td id=\"T_32df2_row6_col1\" class=\"data row6 col1\" >linear_scale</td>\n",
       "      <td id=\"T_32df2_row6_col2\" class=\"data row6 col2\" >content_satisfaction</td>\n",
       "      <td id=\"T_32df2_row6_col3\" class=\"data row6 col3\" >How satisfied are you with the content available on our website?</td>\n",
       "      <td id=\"T_32df2_row6_col4\" class=\"data row6 col4\" >[1, 2, 3, 4, 5]</td>\n",
       "    </tr>\n",
       "    <tr>\n",
       "      <th id=\"T_32df2_level0_row7\" class=\"row_heading level0 row7\" >7</th>\n",
       "      <td id=\"T_32df2_row7_col0\" class=\"data row7 col0\" >nan</td>\n",
       "      <td id=\"T_32df2_row7_col1\" class=\"data row7 col1\" >multiple_choice</td>\n",
       "      <td id=\"T_32df2_row7_col2\" class=\"data row7 col2\" >website_comparison</td>\n",
       "      <td id=\"T_32df2_row7_col3\" class=\"data row7 col3\" >How does our website compare to similar websites you've used?</td>\n",
       "      <td id=\"T_32df2_row7_col4\" class=\"data row7 col4\" >['Much worse', 'Somewhat worse', 'About the same', 'Somewhat better', 'Much better']</td>\n",
       "    </tr>\n",
       "    <tr>\n",
       "      <th id=\"T_32df2_level0_row8\" class=\"row_heading level0 row8\" >8</th>\n",
       "      <td id=\"T_32df2_row8_col0\" class=\"data row8 col0\" >nan</td>\n",
       "      <td id=\"T_32df2_row8_col1\" class=\"data row8 col1\" >free_text</td>\n",
       "      <td id=\"T_32df2_row8_col2\" class=\"data row8 col2\" >desired_features</td>\n",
       "      <td id=\"T_32df2_row8_col3\" class=\"data row8 col3\" >What additional features or information would you like to see on our website?</td>\n",
       "      <td id=\"T_32df2_row8_col4\" class=\"data row8 col4\" >nan</td>\n",
       "    </tr>\n",
       "    <tr>\n",
       "      <th id=\"T_32df2_level0_row9\" class=\"row_heading level0 row9\" >9</th>\n",
       "      <td id=\"T_32df2_row9_col0\" class=\"data row9 col0\" >nan</td>\n",
       "      <td id=\"T_32df2_row9_col1\" class=\"data row9 col1\" >free_text</td>\n",
       "      <td id=\"T_32df2_row9_col2\" class=\"data row9 col2\" >additional_feedback</td>\n",
       "      <td id=\"T_32df2_row9_col3\" class=\"data row9 col3\" >Do you have any other comments or suggestions for improving our website?</td>\n",
       "      <td id=\"T_32df2_row9_col4\" class=\"data row9 col4\" >nan</td>\n",
       "    </tr>\n",
       "  </tbody>\n",
       "</table>\n",
       "\n",
       "            </div>\n",
       "            "
      ],
      "text/plain": [
       "Survey(questions=[Question('multiple_choice', question_name = \"\"\"visit_frequency\"\"\", question_text = \"\"\"How many times have you visited our website in the past month?\"\"\", question_options = [0, 1, 2, 3, 4, '5 or more']), Question('linear_scale', question_name = \"\"\"info_findability\"\"\", question_text = \"\"\"How easy was it to find the information you were looking for?\"\"\", question_options = [1, 2, 3, 4, 5], option_labels = {1: 'Very difficult', 5: 'Very easy'}), Question('linear_scale', question_name = \"\"\"design_rating\"\"\", question_text = \"\"\"How would you rate the overall design and layout of our website?\"\"\", question_options = [1, 2, 3, 4, 5], option_labels = {1: 'Poor', 5: 'Excellent'}), Question('multiple_choice', question_name = \"\"\"technical_issues\"\"\", question_text = \"\"\"Did you encounter any technical issues while using our website?\"\"\", question_options = ['Yes', 'No']), Question('linear_scale', question_name = \"\"\"recommendation_likelihood\"\"\", question_text = \"\"\"How likely are you to recommend our website to others?\"\"\", question_options = [0, 1, 2, 3, 4, 5, 6, 7, 8, 9, 10], option_labels = {0: 'Not at all likely', 10: 'Extremely likely'}), Question('multiple_choice', question_name = \"\"\"visit_reason\"\"\", question_text = \"\"\"What is your primary reason for visiting our website?\"\"\", question_options = ['Information seeking', 'Product purchase', 'Customer support', 'General browsing', 'Other']), Question('linear_scale', question_name = \"\"\"content_satisfaction\"\"\", question_text = \"\"\"How satisfied are you with the content available on our website?\"\"\", question_options = [1, 2, 3, 4, 5], option_labels = {1: 'Very dissatisfied', 5: 'Very satisfied'}), Question('multiple_choice', question_name = \"\"\"website_comparison\"\"\", question_text = \"\"\"How does our website compare to similar websites you've used?\"\"\", question_options = ['Much worse', 'Somewhat worse', 'About the same', 'Somewhat better', 'Much better']), Question('free_text', question_name = \"\"\"desired_features\"\"\", question_text = \"\"\"What additional features or information would you like to see on our website?\"\"\"), Question('free_text', question_name = \"\"\"additional_feedback\"\"\", question_text = \"\"\"Do you have any other comments or suggestions for improving our website?\"\"\")], memory_plan={}, rule_collection=RuleCollection(rules=[Rule(current_q=0, expression=\"True\", next_q=1, priority=-1, question_name_to_index={'visit_frequency': 0}, before_rule=False), Rule(current_q=1, expression=\"True\", next_q=2, priority=-1, question_name_to_index={'visit_frequency': 0, 'info_findability': 1}, before_rule=False), Rule(current_q=2, expression=\"True\", next_q=3, priority=-1, question_name_to_index={'visit_frequency': 0, 'info_findability': 1, 'design_rating': 2}, before_rule=False), Rule(current_q=3, expression=\"True\", next_q=4, priority=-1, question_name_to_index={'visit_frequency': 0, 'info_findability': 1, 'design_rating': 2, 'technical_issues': 3}, before_rule=False), Rule(current_q=4, expression=\"True\", next_q=5, priority=-1, question_name_to_index={'visit_frequency': 0, 'info_findability': 1, 'design_rating': 2, 'technical_issues': 3, 'recommendation_likelihood': 4}, before_rule=False), Rule(current_q=5, expression=\"True\", next_q=6, priority=-1, question_name_to_index={'visit_frequency': 0, 'info_findability': 1, 'design_rating': 2, 'technical_issues': 3, 'recommendation_likelihood': 4, 'visit_reason': 5}, before_rule=False), Rule(current_q=6, expression=\"True\", next_q=7, priority=-1, question_name_to_index={'visit_frequency': 0, 'info_findability': 1, 'design_rating': 2, 'technical_issues': 3, 'recommendation_likelihood': 4, 'visit_reason': 5, 'content_satisfaction': 6}, before_rule=False), Rule(current_q=7, expression=\"True\", next_q=8, priority=-1, question_name_to_index={'visit_frequency': 0, 'info_findability': 1, 'design_rating': 2, 'technical_issues': 3, 'recommendation_likelihood': 4, 'visit_reason': 5, 'content_satisfaction': 6, 'website_comparison': 7}, before_rule=False), Rule(current_q=8, expression=\"True\", next_q=9, priority=-1, question_name_to_index={'visit_frequency': 0, 'info_findability': 1, 'design_rating': 2, 'technical_issues': 3, 'recommendation_likelihood': 4, 'visit_reason': 5, 'content_satisfaction': 6, 'website_comparison': 7, 'desired_features': 8}, before_rule=False), Rule(current_q=9, expression=\"True\", next_q=10, priority=-1, question_name_to_index={'visit_frequency': 0, 'info_findability': 1, 'design_rating': 2, 'technical_issues': 3, 'recommendation_likelihood': 4, 'visit_reason': 5, 'content_satisfaction': 6, 'website_comparison': 7, 'desired_features': 8, 'additional_feedback': 9}, before_rule=False)], num_questions=10), question_groups={}, questions_to_randomize=[])"
      ]
     },
     "execution_count": 22,
     "metadata": {},
     "output_type": "execute_result"
    }
   ],
   "source": [
    "new_survey"
   ]
  },
  {
   "cell_type": "markdown",
   "id": "894c3171-a804-413e-ad62-3d925eafe624",
   "metadata": {
    "editable": true,
    "slideshow": {
     "slide_type": ""
    },
    "tags": []
   },
   "source": [
    "## Designing AI agents\n",
    "EDSL comes with methods for designing AI agent personas for language models to use in answering questions.\n",
    "An `Agent` is created by passing a dictionary of relevant `traits`. It can then be assigned to a survey using the `by()` method when the survey is run (the same as we do with scenarios and models).\n",
    "\n",
    "We can import existing data to create agents representing audiences of interest, or use EDSL to generate personas:"
   ]
  },
  {
   "cell_type": "code",
   "execution_count": 23,
   "id": "caca6f8c-fa1c-4938-8e32-6d4f4b0024f9",
   "metadata": {
    "editable": true,
    "slideshow": {
     "slide_type": ""
    },
    "tags": []
   },
   "outputs": [],
   "source": [
    "q_personas = QuestionList(\n",
    "    question_name=\"personas\",\n",
    "    question_text=\"Draft 5 diverse personas for customers of a landscape business in New England capable of answering a feedback survey.\"\n",
    ")"
   ]
  },
  {
   "cell_type": "markdown",
   "id": "26f154b5-c593-4ef9-afca-8dd61ffe21fc",
   "metadata": {
    "editable": true,
    "slideshow": {
     "slide_type": ""
    },
    "tags": []
   },
   "source": [
    "If we do not specify a model to use in running the question, the default model GPT 4 preview is used:"
   ]
  },
  {
   "cell_type": "code",
   "execution_count": 24,
   "id": "ec819ed1-e9fe-4d71-8763-f47dc48b32d2",
   "metadata": {
    "editable": true,
    "slideshow": {
     "slide_type": ""
    },
    "tags": []
   },
   "outputs": [
    {
     "data": {
      "text/html": [
       "\n",
       "            <!-- #region Remove Inference Info -->\n",
       "            <div id=\"logger-ceb490b9-eaec-4577-95d7-3fcd0a74b29f\" class=\"job-logger\">\n",
       "                <div class=\"job-logger-header\">\n",
       "                    <span>\n",
       "                        <span id=\"arrow-ceb490b9-eaec-4577-95d7-3fcd0a74b29f\">▼</span> \n",
       "                        Job Status (2024-12-28 16:41:50)\n",
       "                    </span>\n",
       "                </div>\n",
       "                <div id=\"content-ceb490b9-eaec-4577-95d7-3fcd0a74b29f\" style=\"display: block;\">\n",
       "                    <table class=\"job-logger-table\">\n",
       "                        \n",
       "            <tr>\n",
       "                <td class=\"job-logger-cell job-logger-label\">Job UUID</td>\n",
       "                <td class=\"job-logger-cell job-logger-value\">924b27e8-246f-4150-aad6-fe330babfb51</td>\n",
       "            </tr>\n",
       "        \n",
       "            <tr>\n",
       "                <td class=\"job-logger-cell job-logger-label\">Progress Bar URL</td>\n",
       "                <td class=\"job-logger-cell job-logger-value\"><a href=\"https://www.expectedparrot.com/home/remote-job-progress/924b27e8-246f-4150-aad6-fe330babfb51\" target=\"_blank\" class=\"job-logger-link\">https://www.expectedparrot.com/home/remote-job-progress/924b27e8-246f-4150-aad6-fe330babfb51</a></td>\n",
       "            </tr>\n",
       "        \n",
       "            <tr>\n",
       "                <td class=\"job-logger-cell job-logger-label\">Error Report URL</td>\n",
       "                <td class=\"job-logger-cell job-logger-value\">None</td>\n",
       "            </tr>\n",
       "        \n",
       "            <tr>\n",
       "                <td class=\"job-logger-cell job-logger-label\">Results UUID</td>\n",
       "                <td class=\"job-logger-cell job-logger-value\">c932353c-a2e8-45e5-9b76-f3b1c48476c9</td>\n",
       "            </tr>\n",
       "        \n",
       "            <tr>\n",
       "                <td class=\"job-logger-cell job-logger-label\">Results URL</td>\n",
       "                <td class=\"job-logger-cell job-logger-value\">None</td>\n",
       "            </tr>\n",
       "        \n",
       "                    </table>\n",
       "                    \n",
       "                <div class=\"job-logger-status\">\n",
       "                    <span style=\"margin-right: 8px;\" class=\"job-logger-success\">✓</span><strong>Current Status:</strong> Job completed and Results stored on Coop: <a href=\"https://www.expectedparrot.com/content/c932353c-a2e8-45e5-9b76-f3b1c48476c9\" target=\"_blank\" class=\"job-logger-link\">https://www.expectedparrot.com/content/c932353c-a2e8-45e5-9b76-f3b1c48476c9</a>\n",
       "                </div>\n",
       "            \n",
       "                </div>\n",
       "            </div>\n",
       "            <!-- # endregion -->\n",
       "        "
      ],
      "text/plain": [
       "<IPython.core.display.HTML object>"
      ]
     },
     "metadata": {},
     "output_type": "display_data"
    },
    {
     "data": {
      "text/html": [
       "\n",
       "        <style>\n",
       "            /* Base theme variables */\n",
       "            :root {\n",
       "                --jl-bg-primary: #ffffff;\n",
       "                --jl-bg-secondary: #f5f5f5;\n",
       "                --jl-border-color: #e0e0e0;\n",
       "                --jl-text-primary: #24292e;\n",
       "                --jl-text-secondary: #586069;\n",
       "                --jl-link-color: #0366d6;\n",
       "                --jl-success-color: #28a745;\n",
       "                --jl-error-color: #d73a49;\n",
       "                --jl-header-bg: #f1f1f1;\n",
       "            }\n",
       "            \n",
       "            /* Dark theme variables */\n",
       "            .theme-dark {\n",
       "                --jl-bg-primary: #1e1e1e;\n",
       "                --jl-bg-secondary: #252526;\n",
       "                --jl-border-color: #2d2d2d;\n",
       "                --jl-text-primary: #cccccc;\n",
       "                --jl-text-secondary: #999999;\n",
       "                --jl-link-color: #4e94ce;\n",
       "                --jl-success-color: #89d185;\n",
       "                --jl-error-color: #f14c4c;\n",
       "                --jl-header-bg: #333333;\n",
       "            }\n",
       "\n",
       "            /* High contrast theme variables */\n",
       "            .theme-high-contrast {\n",
       "                --jl-bg-primary: #000000;\n",
       "                --jl-bg-secondary: #1a1a1a;\n",
       "                --jl-border-color: #404040;\n",
       "                --jl-text-primary: #ffffff;\n",
       "                --jl-text-secondary: #cccccc;\n",
       "                --jl-link-color: #66b3ff;\n",
       "                --jl-success-color: #00ff00;\n",
       "                --jl-error-color: #ff0000;\n",
       "                --jl-header-bg: #262626;\n",
       "            }\n",
       "            \n",
       "            .job-logger {\n",
       "                font-family: system-ui, -apple-system, sans-serif;\n",
       "                max-width: 800px;\n",
       "                margin: 10px 0;\n",
       "                color: var(--jl-text-primary);\n",
       "                box-shadow: 0 1px 3px rgba(0,0,0,0.12);\n",
       "                border-radius: 4px;\n",
       "                overflow: hidden;\n",
       "            }\n",
       "            \n",
       "            .job-logger-header {\n",
       "                padding: 12px 16px;\n",
       "                background: var(--jl-header-bg);\n",
       "                border: none;\n",
       "                border-radius: 4px 4px 0 0;\n",
       "                cursor: pointer;\n",
       "                color: var(--jl-text-primary);\n",
       "                user-select: none;\n",
       "                font-weight: 500;\n",
       "                letter-spacing: 0.3px;\n",
       "                display: flex;\n",
       "                justify-content: space-between;\n",
       "                align-items: center;\n",
       "            }\n",
       "            \n",
       "            .theme-select {\n",
       "                padding: 4px 8px;\n",
       "                border-radius: 4px;\n",
       "                border: 1px solid var(--jl-border-color);\n",
       "                background: var(--jl-bg-primary);\n",
       "                color: var(--jl-text-primary);\n",
       "                font-size: 0.9em;\n",
       "            }\n",
       "            \n",
       "            .job-logger-table {\n",
       "                width: 100%;\n",
       "                border-collapse: separate;\n",
       "                border-spacing: 0;\n",
       "                background: var(--jl-bg-primary);\n",
       "                border: 1px solid var(--jl-border-color);\n",
       "                margin-top: -1px;\n",
       "            }\n",
       "            \n",
       "            .job-logger-cell {\n",
       "                padding: 12px 16px;\n",
       "                border-bottom: 1px solid var(--jl-border-color);\n",
       "                line-height: 1.4;\n",
       "            }\n",
       "            \n",
       "            .job-logger-label {\n",
       "                font-weight: 500;\n",
       "                color: var(--jl-text-primary);\n",
       "                width: 25%;\n",
       "                background: var(--jl-bg-secondary);\n",
       "            }\n",
       "            \n",
       "            .job-logger-value {\n",
       "                color: var(--jl-text-secondary);\n",
       "                word-break: break-word;\n",
       "            }\n",
       "            \n",
       "            .job-logger-status {\n",
       "                margin: 0;\n",
       "                padding: 12px 16px;\n",
       "                background-color: var(--jl-bg-secondary);\n",
       "                border: 1px solid var(--jl-border-color);\n",
       "                border-top: none;\n",
       "                border-radius: 0 0 4px 4px;\n",
       "                color: var(--jl-text-primary);\n",
       "                font-size: 0.95em;\n",
       "            }\n",
       "        </style>\n",
       "        \n",
       "        <script>\n",
       "            class ThemeManager {\n",
       "                constructor(logId, initialTheme = 'auto') {\n",
       "                    this.logId = logId;\n",
       "                    this.currentTheme = initialTheme;\n",
       "                    this.darkModeMediaQuery = window.matchMedia('(prefers-color-scheme: dark)');\n",
       "                    this.init();\n",
       "                }\n",
       "                \n",
       "                init() {\n",
       "                    this.setupThemeSwitcher();\n",
       "                    this.updateTheme(this.currentTheme);\n",
       "                    \n",
       "                    this.darkModeMediaQuery.addListener(() => {\n",
       "                        if (this.currentTheme === 'auto') {\n",
       "                            this.updateTheme('auto');\n",
       "                        }\n",
       "                    });\n",
       "                }\n",
       "                \n",
       "                setupThemeSwitcher() {\n",
       "                    const logger = document.querySelector(`#logger-${this.logId}`);\n",
       "                    if (!logger) return;\n",
       "                    \n",
       "                    const switcher = document.createElement('div');\n",
       "                    switcher.className = 'theme-switcher';\n",
       "                    switcher.innerHTML = `\n",
       "                        <select id=\"theme-select-${this.logId}\" class=\"theme-select\">\n",
       "                            <option value=\"auto\">Auto</option>\n",
       "                            <option value=\"light\">Light</option>\n",
       "                            <option value=\"dark\">Dark</option>\n",
       "                            <option value=\"high-contrast\">High Contrast</option>\n",
       "                        </select>\n",
       "                    `;\n",
       "                    \n",
       "                    const header = logger.querySelector('.job-logger-header');\n",
       "                    header.appendChild(switcher);\n",
       "                    \n",
       "                    const select = switcher.querySelector('select');\n",
       "                    select.value = this.currentTheme;\n",
       "                    select.addEventListener('change', (e) => {\n",
       "                        this.updateTheme(e.target.value);\n",
       "                    });\n",
       "                }\n",
       "                \n",
       "                updateTheme(theme) {\n",
       "                    const logger = document.querySelector(`#logger-${this.logId}`);\n",
       "                    if (!logger) return;\n",
       "                    \n",
       "                    this.currentTheme = theme;\n",
       "                    \n",
       "                    logger.classList.remove('theme-light', 'theme-dark', 'theme-high-contrast');\n",
       "                    \n",
       "                    if (theme === 'auto') {\n",
       "                        const isDark = this.darkModeMediaQuery.matches;\n",
       "                        logger.classList.add(isDark ? 'theme-dark' : 'theme-light');\n",
       "                    } else {\n",
       "                        logger.classList.add(`theme-${theme}`);\n",
       "                    }\n",
       "                    \n",
       "                    try {\n",
       "                        localStorage.setItem('jobLoggerTheme', theme);\n",
       "                    } catch (e) {\n",
       "                        console.warn('Unable to save theme preference:', e);\n",
       "                    }\n",
       "                }\n",
       "            }\n",
       "            \n",
       "            window.initThemeManager = (logId, initialTheme) => {\n",
       "                new ThemeManager(logId, initialTheme);\n",
       "            };\n",
       "        </script>\n",
       "        \n",
       "        <script>\n",
       "            document.addEventListener('DOMContentLoaded', () => {\n",
       "                window.initThemeManager('ceb490b9-eaec-4577-95d7-3fcd0a74b29f', 'auto');\n",
       "            });\n",
       "        </script>\n",
       "        "
      ],
      "text/plain": [
       "<IPython.core.display.HTML object>"
      ]
     },
     "metadata": {},
     "output_type": "display_data"
    },
    {
     "data": {
      "text/plain": [
       "['Retired couple looking to enhance their garden for leisure',\n",
       " 'Young family seeking a safe play area for children',\n",
       " 'Eco-conscious homeowner interested in sustainable landscaping',\n",
       " 'Busy professional wanting low-maintenance yard solutions',\n",
       " 'Small business owner needing attractive commercial property landscaping']"
      ]
     },
     "execution_count": 24,
     "metadata": {},
     "output_type": "execute_result"
    }
   ],
   "source": [
    "personas = q_personas.run().select(\"personas\").to_list()[0]\n",
    "personas"
   ]
  },
  {
   "cell_type": "markdown",
   "id": "7ef32597-d9de-40ff-887f-7f50c27fae83",
   "metadata": {
    "editable": true,
    "slideshow": {
     "slide_type": ""
    },
    "tags": []
   },
   "source": [
    "Note that the personas can be (much) longer and include key/value pairs for any desired traits; we keep it simple here for demonstration purposes.\n",
    "Here we pass the personas to a list of agents and have them answer the survey:"
   ]
  },
  {
   "cell_type": "code",
   "execution_count": 25,
   "id": "8f544d0a-1bc4-43a4-ad28-15a33f5f52c8",
   "metadata": {
    "editable": true,
    "slideshow": {
     "slide_type": ""
    },
    "tags": []
   },
   "outputs": [],
   "source": [
    "from edsl import AgentList, Agent"
   ]
  },
  {
   "cell_type": "code",
   "execution_count": 26,
   "id": "d0ff8a40-0f38-4f93-939d-7091e9e865e1",
   "metadata": {
    "editable": true,
    "slideshow": {
     "slide_type": ""
    },
    "tags": []
   },
   "outputs": [],
   "source": [
    "agents = AgentList(\n",
    "    Agent(\n",
    "        traits = {\"persona\":p},\n",
    "        instruction = \"\"\"\n",
    "        You are answering a customer feedback survey for a landscaping business that you have engaged in the past.\n",
    "        Your answers are completely confidential.\n",
    "        \"\"\"\n",
    "    )\n",
    "    for p in personas\n",
    ")"
   ]
  },
  {
   "cell_type": "code",
   "execution_count": 27,
   "id": "8e7f1d8d-7338-4a49-a240-1a382db3eb95",
   "metadata": {
    "editable": true,
    "slideshow": {
     "slide_type": ""
    },
    "tags": []
   },
   "outputs": [
    {
     "data": {
      "text/html": [
       "\n",
       "            <!-- #region Remove Inference Info -->\n",
       "            <div id=\"logger-a680fafa-4c77-4182-b24a-6d72a54d6fee\" class=\"job-logger\">\n",
       "                <div class=\"job-logger-header\">\n",
       "                    <span>\n",
       "                        <span id=\"arrow-a680fafa-4c77-4182-b24a-6d72a54d6fee\">▼</span> \n",
       "                        Job Status (2024-12-28 16:45:26)\n",
       "                    </span>\n",
       "                </div>\n",
       "                <div id=\"content-a680fafa-4c77-4182-b24a-6d72a54d6fee\" style=\"display: block;\">\n",
       "                    <table class=\"job-logger-table\">\n",
       "                        \n",
       "            <tr>\n",
       "                <td class=\"job-logger-cell job-logger-label\">Job UUID</td>\n",
       "                <td class=\"job-logger-cell job-logger-value\">076e2692-53da-4493-83fa-53ef51e6ea8a</td>\n",
       "            </tr>\n",
       "        \n",
       "            <tr>\n",
       "                <td class=\"job-logger-cell job-logger-label\">Progress Bar URL</td>\n",
       "                <td class=\"job-logger-cell job-logger-value\"><a href=\"https://www.expectedparrot.com/home/remote-job-progress/076e2692-53da-4493-83fa-53ef51e6ea8a\" target=\"_blank\" class=\"job-logger-link\">https://www.expectedparrot.com/home/remote-job-progress/076e2692-53da-4493-83fa-53ef51e6ea8a</a></td>\n",
       "            </tr>\n",
       "        \n",
       "            <tr>\n",
       "                <td class=\"job-logger-cell job-logger-label\">Error Report URL</td>\n",
       "                <td class=\"job-logger-cell job-logger-value\">None</td>\n",
       "            </tr>\n",
       "        \n",
       "            <tr>\n",
       "                <td class=\"job-logger-cell job-logger-label\">Results UUID</td>\n",
       "                <td class=\"job-logger-cell job-logger-value\">24f26640-029f-4d02-ab61-3fd7fa3db457</td>\n",
       "            </tr>\n",
       "        \n",
       "            <tr>\n",
       "                <td class=\"job-logger-cell job-logger-label\">Results URL</td>\n",
       "                <td class=\"job-logger-cell job-logger-value\">None</td>\n",
       "            </tr>\n",
       "        \n",
       "                    </table>\n",
       "                    \n",
       "                <div class=\"job-logger-status\">\n",
       "                    <span style=\"margin-right: 8px;\" class=\"job-logger-success\">✓</span><strong>Current Status:</strong> Job completed and Results stored on Coop: <a href=\"https://www.expectedparrot.com/content/24f26640-029f-4d02-ab61-3fd7fa3db457\" target=\"_blank\" class=\"job-logger-link\">https://www.expectedparrot.com/content/24f26640-029f-4d02-ab61-3fd7fa3db457</a>\n",
       "                </div>\n",
       "            \n",
       "                </div>\n",
       "            </div>\n",
       "            <!-- # endregion -->\n",
       "        "
      ],
      "text/plain": [
       "<IPython.core.display.HTML object>"
      ]
     },
     "metadata": {},
     "output_type": "display_data"
    },
    {
     "data": {
      "text/html": [
       "\n",
       "        <style>\n",
       "            /* Base theme variables */\n",
       "            :root {\n",
       "                --jl-bg-primary: #ffffff;\n",
       "                --jl-bg-secondary: #f5f5f5;\n",
       "                --jl-border-color: #e0e0e0;\n",
       "                --jl-text-primary: #24292e;\n",
       "                --jl-text-secondary: #586069;\n",
       "                --jl-link-color: #0366d6;\n",
       "                --jl-success-color: #28a745;\n",
       "                --jl-error-color: #d73a49;\n",
       "                --jl-header-bg: #f1f1f1;\n",
       "            }\n",
       "            \n",
       "            /* Dark theme variables */\n",
       "            .theme-dark {\n",
       "                --jl-bg-primary: #1e1e1e;\n",
       "                --jl-bg-secondary: #252526;\n",
       "                --jl-border-color: #2d2d2d;\n",
       "                --jl-text-primary: #cccccc;\n",
       "                --jl-text-secondary: #999999;\n",
       "                --jl-link-color: #4e94ce;\n",
       "                --jl-success-color: #89d185;\n",
       "                --jl-error-color: #f14c4c;\n",
       "                --jl-header-bg: #333333;\n",
       "            }\n",
       "\n",
       "            /* High contrast theme variables */\n",
       "            .theme-high-contrast {\n",
       "                --jl-bg-primary: #000000;\n",
       "                --jl-bg-secondary: #1a1a1a;\n",
       "                --jl-border-color: #404040;\n",
       "                --jl-text-primary: #ffffff;\n",
       "                --jl-text-secondary: #cccccc;\n",
       "                --jl-link-color: #66b3ff;\n",
       "                --jl-success-color: #00ff00;\n",
       "                --jl-error-color: #ff0000;\n",
       "                --jl-header-bg: #262626;\n",
       "            }\n",
       "            \n",
       "            .job-logger {\n",
       "                font-family: system-ui, -apple-system, sans-serif;\n",
       "                max-width: 800px;\n",
       "                margin: 10px 0;\n",
       "                color: var(--jl-text-primary);\n",
       "                box-shadow: 0 1px 3px rgba(0,0,0,0.12);\n",
       "                border-radius: 4px;\n",
       "                overflow: hidden;\n",
       "            }\n",
       "            \n",
       "            .job-logger-header {\n",
       "                padding: 12px 16px;\n",
       "                background: var(--jl-header-bg);\n",
       "                border: none;\n",
       "                border-radius: 4px 4px 0 0;\n",
       "                cursor: pointer;\n",
       "                color: var(--jl-text-primary);\n",
       "                user-select: none;\n",
       "                font-weight: 500;\n",
       "                letter-spacing: 0.3px;\n",
       "                display: flex;\n",
       "                justify-content: space-between;\n",
       "                align-items: center;\n",
       "            }\n",
       "            \n",
       "            .theme-select {\n",
       "                padding: 4px 8px;\n",
       "                border-radius: 4px;\n",
       "                border: 1px solid var(--jl-border-color);\n",
       "                background: var(--jl-bg-primary);\n",
       "                color: var(--jl-text-primary);\n",
       "                font-size: 0.9em;\n",
       "            }\n",
       "            \n",
       "            .job-logger-table {\n",
       "                width: 100%;\n",
       "                border-collapse: separate;\n",
       "                border-spacing: 0;\n",
       "                background: var(--jl-bg-primary);\n",
       "                border: 1px solid var(--jl-border-color);\n",
       "                margin-top: -1px;\n",
       "            }\n",
       "            \n",
       "            .job-logger-cell {\n",
       "                padding: 12px 16px;\n",
       "                border-bottom: 1px solid var(--jl-border-color);\n",
       "                line-height: 1.4;\n",
       "            }\n",
       "            \n",
       "            .job-logger-label {\n",
       "                font-weight: 500;\n",
       "                color: var(--jl-text-primary);\n",
       "                width: 25%;\n",
       "                background: var(--jl-bg-secondary);\n",
       "            }\n",
       "            \n",
       "            .job-logger-value {\n",
       "                color: var(--jl-text-secondary);\n",
       "                word-break: break-word;\n",
       "            }\n",
       "            \n",
       "            .job-logger-status {\n",
       "                margin: 0;\n",
       "                padding: 12px 16px;\n",
       "                background-color: var(--jl-bg-secondary);\n",
       "                border: 1px solid var(--jl-border-color);\n",
       "                border-top: none;\n",
       "                border-radius: 0 0 4px 4px;\n",
       "                color: var(--jl-text-primary);\n",
       "                font-size: 0.95em;\n",
       "            }\n",
       "        </style>\n",
       "        \n",
       "        <script>\n",
       "            class ThemeManager {\n",
       "                constructor(logId, initialTheme = 'auto') {\n",
       "                    this.logId = logId;\n",
       "                    this.currentTheme = initialTheme;\n",
       "                    this.darkModeMediaQuery = window.matchMedia('(prefers-color-scheme: dark)');\n",
       "                    this.init();\n",
       "                }\n",
       "                \n",
       "                init() {\n",
       "                    this.setupThemeSwitcher();\n",
       "                    this.updateTheme(this.currentTheme);\n",
       "                    \n",
       "                    this.darkModeMediaQuery.addListener(() => {\n",
       "                        if (this.currentTheme === 'auto') {\n",
       "                            this.updateTheme('auto');\n",
       "                        }\n",
       "                    });\n",
       "                }\n",
       "                \n",
       "                setupThemeSwitcher() {\n",
       "                    const logger = document.querySelector(`#logger-${this.logId}`);\n",
       "                    if (!logger) return;\n",
       "                    \n",
       "                    const switcher = document.createElement('div');\n",
       "                    switcher.className = 'theme-switcher';\n",
       "                    switcher.innerHTML = `\n",
       "                        <select id=\"theme-select-${this.logId}\" class=\"theme-select\">\n",
       "                            <option value=\"auto\">Auto</option>\n",
       "                            <option value=\"light\">Light</option>\n",
       "                            <option value=\"dark\">Dark</option>\n",
       "                            <option value=\"high-contrast\">High Contrast</option>\n",
       "                        </select>\n",
       "                    `;\n",
       "                    \n",
       "                    const header = logger.querySelector('.job-logger-header');\n",
       "                    header.appendChild(switcher);\n",
       "                    \n",
       "                    const select = switcher.querySelector('select');\n",
       "                    select.value = this.currentTheme;\n",
       "                    select.addEventListener('change', (e) => {\n",
       "                        this.updateTheme(e.target.value);\n",
       "                    });\n",
       "                }\n",
       "                \n",
       "                updateTheme(theme) {\n",
       "                    const logger = document.querySelector(`#logger-${this.logId}`);\n",
       "                    if (!logger) return;\n",
       "                    \n",
       "                    this.currentTheme = theme;\n",
       "                    \n",
       "                    logger.classList.remove('theme-light', 'theme-dark', 'theme-high-contrast');\n",
       "                    \n",
       "                    if (theme === 'auto') {\n",
       "                        const isDark = this.darkModeMediaQuery.matches;\n",
       "                        logger.classList.add(isDark ? 'theme-dark' : 'theme-light');\n",
       "                    } else {\n",
       "                        logger.classList.add(`theme-${theme}`);\n",
       "                    }\n",
       "                    \n",
       "                    try {\n",
       "                        localStorage.setItem('jobLoggerTheme', theme);\n",
       "                    } catch (e) {\n",
       "                        console.warn('Unable to save theme preference:', e);\n",
       "                    }\n",
       "                }\n",
       "            }\n",
       "            \n",
       "            window.initThemeManager = (logId, initialTheme) => {\n",
       "                new ThemeManager(logId, initialTheme);\n",
       "            };\n",
       "        </script>\n",
       "        \n",
       "        <script>\n",
       "            document.addEventListener('DOMContentLoaded', () => {\n",
       "                window.initThemeManager('a680fafa-4c77-4182-b24a-6d72a54d6fee', 'auto');\n",
       "            });\n",
       "        </script>\n",
       "        "
      ],
      "text/plain": [
       "<IPython.core.display.HTML object>"
      ]
     },
     "metadata": {},
     "output_type": "display_data"
    }
   ],
   "source": [
    "new_results = new_survey.by(agents).by(models).run()"
   ]
  },
  {
   "cell_type": "code",
   "execution_count": 28,
   "id": "ee57ad05-7d6e-4ef7-a4cb-19200b8cde54",
   "metadata": {
    "editable": true,
    "slideshow": {
     "slide_type": ""
    },
    "tags": []
   },
   "outputs": [
    {
     "data": {
      "text/html": [
       "\n",
       "            <div style=\"max-height: 500px; overflow-y: auto;\">\n",
       "                <style type=\"text/css\">\n",
       "#T_f14a4_row0_col0, #T_f14a4_row0_col1, #T_f14a4_row0_col2, #T_f14a4_row0_col3, #T_f14a4_row0_col5, #T_f14a4_row0_col8, #T_f14a4_row0_col9, #T_f14a4_row1_col0, #T_f14a4_row1_col1, #T_f14a4_row1_col2, #T_f14a4_row1_col3, #T_f14a4_row1_col5, #T_f14a4_row1_col8, #T_f14a4_row1_col9, #T_f14a4_row2_col0, #T_f14a4_row2_col1, #T_f14a4_row2_col2, #T_f14a4_row2_col3, #T_f14a4_row2_col5, #T_f14a4_row2_col8, #T_f14a4_row2_col9, #T_f14a4_row3_col0, #T_f14a4_row3_col1, #T_f14a4_row3_col2, #T_f14a4_row3_col3, #T_f14a4_row3_col5, #T_f14a4_row3_col8, #T_f14a4_row3_col9, #T_f14a4_row4_col0, #T_f14a4_row4_col1, #T_f14a4_row4_col2, #T_f14a4_row4_col3, #T_f14a4_row4_col5, #T_f14a4_row4_col8, #T_f14a4_row4_col9, #T_f14a4_row5_col0, #T_f14a4_row5_col1, #T_f14a4_row5_col2, #T_f14a4_row5_col3, #T_f14a4_row5_col5, #T_f14a4_row5_col8, #T_f14a4_row5_col9, #T_f14a4_row6_col0, #T_f14a4_row6_col1, #T_f14a4_row6_col2, #T_f14a4_row6_col3, #T_f14a4_row6_col5, #T_f14a4_row6_col8, #T_f14a4_row6_col9, #T_f14a4_row7_col0, #T_f14a4_row7_col1, #T_f14a4_row7_col2, #T_f14a4_row7_col3, #T_f14a4_row7_col5, #T_f14a4_row7_col8, #T_f14a4_row7_col9, #T_f14a4_row8_col0, #T_f14a4_row8_col1, #T_f14a4_row8_col2, #T_f14a4_row8_col3, #T_f14a4_row8_col5, #T_f14a4_row8_col8, #T_f14a4_row8_col9, #T_f14a4_row9_col0, #T_f14a4_row9_col1, #T_f14a4_row9_col2, #T_f14a4_row9_col3, #T_f14a4_row9_col5, #T_f14a4_row9_col8, #T_f14a4_row9_col9, #T_f14a4_row10_col0, #T_f14a4_row10_col1, #T_f14a4_row10_col2, #T_f14a4_row10_col3, #T_f14a4_row10_col5, #T_f14a4_row10_col8, #T_f14a4_row10_col9, #T_f14a4_row11_col0, #T_f14a4_row11_col1, #T_f14a4_row11_col2, #T_f14a4_row11_col3, #T_f14a4_row11_col5, #T_f14a4_row11_col8, #T_f14a4_row11_col9, #T_f14a4_row12_col0, #T_f14a4_row12_col1, #T_f14a4_row12_col2, #T_f14a4_row12_col3, #T_f14a4_row12_col5, #T_f14a4_row12_col8, #T_f14a4_row12_col9, #T_f14a4_row13_col0, #T_f14a4_row13_col1, #T_f14a4_row13_col2, #T_f14a4_row13_col3, #T_f14a4_row13_col5, #T_f14a4_row13_col8, #T_f14a4_row13_col9, #T_f14a4_row14_col0, #T_f14a4_row14_col1, #T_f14a4_row14_col2, #T_f14a4_row14_col3, #T_f14a4_row14_col5, #T_f14a4_row14_col8, #T_f14a4_row14_col9 {\n",
       "  text-align: left;\n",
       "}\n",
       "#T_f14a4_row0_col4, #T_f14a4_row0_col7, #T_f14a4_row0_col10, #T_f14a4_row1_col10, #T_f14a4_row1_col11, #T_f14a4_row2_col7, #T_f14a4_row2_col11, #T_f14a4_row3_col7, #T_f14a4_row3_col11, #T_f14a4_row5_col4, #T_f14a4_row5_col7, #T_f14a4_row5_col11, #T_f14a4_row7_col4, #T_f14a4_row7_col11, #T_f14a4_row8_col4, #T_f14a4_row8_col6, #T_f14a4_row8_col7, #T_f14a4_row8_col11, #T_f14a4_row9_col4, #T_f14a4_row9_col6, #T_f14a4_row9_col7, #T_f14a4_row9_col10, #T_f14a4_row9_col11, #T_f14a4_row10_col7, #T_f14a4_row12_col7, #T_f14a4_row13_col7, #T_f14a4_row14_col7 {\n",
       "  text-align: left;\n",
       "  background-color: #fff7fb;\n",
       "  color: #000000;\n",
       "}\n",
       "#T_f14a4_row0_col6, #T_f14a4_row0_col11, #T_f14a4_row1_col6, #T_f14a4_row1_col7, #T_f14a4_row2_col6, #T_f14a4_row2_col10, #T_f14a4_row3_col6, #T_f14a4_row3_col10, #T_f14a4_row4_col6, #T_f14a4_row4_col7, #T_f14a4_row4_col10, #T_f14a4_row4_col11, #T_f14a4_row5_col6, #T_f14a4_row5_col10, #T_f14a4_row6_col6, #T_f14a4_row6_col7, #T_f14a4_row6_col10, #T_f14a4_row6_col11, #T_f14a4_row7_col6, #T_f14a4_row7_col7, #T_f14a4_row7_col10, #T_f14a4_row8_col10, #T_f14a4_row10_col6, #T_f14a4_row10_col10, #T_f14a4_row10_col11, #T_f14a4_row11_col6, #T_f14a4_row11_col7, #T_f14a4_row11_col10, #T_f14a4_row11_col11, #T_f14a4_row12_col4, #T_f14a4_row12_col6, #T_f14a4_row12_col10, #T_f14a4_row12_col11, #T_f14a4_row13_col6, #T_f14a4_row13_col10, #T_f14a4_row13_col11, #T_f14a4_row14_col6, #T_f14a4_row14_col10, #T_f14a4_row14_col11 {\n",
       "  text-align: left;\n",
       "  background-color: #023858;\n",
       "  color: #f1f1f1;\n",
       "}\n",
       "#T_f14a4_row1_col4, #T_f14a4_row2_col4, #T_f14a4_row3_col4, #T_f14a4_row4_col4, #T_f14a4_row6_col4, #T_f14a4_row10_col4, #T_f14a4_row11_col4, #T_f14a4_row13_col4, #T_f14a4_row14_col4 {\n",
       "  text-align: left;\n",
       "  background-color: #73a9cf;\n",
       "  color: #f1f1f1;\n",
       "}\n",
       "</style>\n",
       "<table id=\"T_f14a4\">\n",
       "  <thead>\n",
       "    <tr>\n",
       "      <th class=\"blank level0\" >&nbsp;</th>\n",
       "      <th id=\"T_f14a4_level0_col0\" class=\"col_heading level0 col0\" >model.model</th>\n",
       "      <th id=\"T_f14a4_level0_col1\" class=\"col_heading level0 col1\" >agent.persona</th>\n",
       "      <th id=\"T_f14a4_level0_col2\" class=\"col_heading level0 col2\" >answer.technical_issues</th>\n",
       "      <th id=\"T_f14a4_level0_col3\" class=\"col_heading level0 col3\" >answer.visit_reason</th>\n",
       "      <th id=\"T_f14a4_level0_col4\" class=\"col_heading level0 col4\" >answer.recommendation_likelihood</th>\n",
       "      <th id=\"T_f14a4_level0_col5\" class=\"col_heading level0 col5\" >answer.website_comparison</th>\n",
       "      <th id=\"T_f14a4_level0_col6\" class=\"col_heading level0 col6\" >answer.info_findability</th>\n",
       "      <th id=\"T_f14a4_level0_col7\" class=\"col_heading level0 col7\" >answer.visit_frequency</th>\n",
       "      <th id=\"T_f14a4_level0_col8\" class=\"col_heading level0 col8\" >answer.desired_features</th>\n",
       "      <th id=\"T_f14a4_level0_col9\" class=\"col_heading level0 col9\" >answer.additional_feedback</th>\n",
       "      <th id=\"T_f14a4_level0_col10\" class=\"col_heading level0 col10\" >answer.design_rating</th>\n",
       "      <th id=\"T_f14a4_level0_col11\" class=\"col_heading level0 col11\" >answer.content_satisfaction</th>\n",
       "    </tr>\n",
       "  </thead>\n",
       "  <tbody>\n",
       "    <tr>\n",
       "      <th id=\"T_f14a4_level0_row0\" class=\"row_heading level0 row0\" >0</th>\n",
       "      <td id=\"T_f14a4_row0_col0\" class=\"data row0 col0\" >claude-3-5-sonnet-20240620</td>\n",
       "      <td id=\"T_f14a4_row0_col1\" class=\"data row0 col1\" >Busy professional wanting low-maintenance yard solutions</td>\n",
       "      <td id=\"T_f14a4_row0_col2\" class=\"data row0 col2\" >No</td>\n",
       "      <td id=\"T_f14a4_row0_col3\" class=\"data row0 col3\" >Information seeking</td>\n",
       "      <td id=\"T_f14a4_row0_col4\" class=\"data row0 col4\" >7</td>\n",
       "      <td id=\"T_f14a4_row0_col5\" class=\"data row0 col5\" >Somewhat better</td>\n",
       "      <td id=\"T_f14a4_row0_col6\" class=\"data row0 col6\" >4</td>\n",
       "      <td id=\"T_f14a4_row0_col7\" class=\"data row0 col7\" >1</td>\n",
       "      <td id=\"T_f14a4_row0_col8\" class=\"data row0 col8\" >As a busy professional looking for low-maintenance yard solutions, I would appreciate seeing the following additional features or information on your website:\n",
       "\n",
       "1. A dedicated section for low-maintenance landscaping options and designs.\n",
       "\n",
       "2. Detailed information about drought-resistant and native plants that require minimal care.\n",
       "\n",
       "3. Time estimates for various services, so I can better plan around my busy schedule.\n",
       "\n",
       "4. A gallery of before-and-after photos showcasing low-maintenance yard transformations.\n",
       "\n",
       "5. Maintenance schedules and tips for different types of low-maintenance landscapes.\n",
       "\n",
       "6. Information about automated irrigation systems and smart landscaping technology.\n",
       "\n",
       "7. A blog with quick, easy yard care tips for busy homeowners.\n",
       "\n",
       "8. Pricing guides or packages specifically tailored for low-maintenance options.\n",
       "\n",
       "9. Customer testimonials from other busy professionals who have used your services.\n",
       "\n",
       "10. An easy-to-use online booking system for consultations or services.</td>\n",
       "      <td id=\"T_f14a4_row0_col9\" class=\"data row0 col9\" >As a busy professional, I appreciate websites that are streamlined and easy to navigate. I would suggest making sure your site has clear sections for different services, especially highlighting low-maintenance options. It would be great to see a gallery of before/after photos to quickly visualize potential results. Also, an online scheduling tool for consultations would be very convenient for those of us with packed schedules. Lastly, perhaps include some tips or a blog section about maintaining a beautiful yard with minimal time investment - that kind of content would be really valuable for someone in my position.</td>\n",
       "      <td id=\"T_f14a4_row0_col10\" class=\"data row0 col10\" >3</td>\n",
       "      <td id=\"T_f14a4_row0_col11\" class=\"data row0 col11\" >4</td>\n",
       "    </tr>\n",
       "    <tr>\n",
       "      <th id=\"T_f14a4_level0_row1\" class=\"row_heading level0 row1\" >1</th>\n",
       "      <td id=\"T_f14a4_row1_col0\" class=\"data row1 col0\" >claude-3-5-sonnet-20240620</td>\n",
       "      <td id=\"T_f14a4_row1_col1\" class=\"data row1 col1\" >Eco-conscious homeowner interested in sustainable landscaping</td>\n",
       "      <td id=\"T_f14a4_row1_col2\" class=\"data row1 col2\" >No</td>\n",
       "      <td id=\"T_f14a4_row1_col3\" class=\"data row1 col3\" >Information seeking</td>\n",
       "      <td id=\"T_f14a4_row1_col4\" class=\"data row1 col4\" >8</td>\n",
       "      <td id=\"T_f14a4_row1_col5\" class=\"data row1 col5\" >Somewhat better</td>\n",
       "      <td id=\"T_f14a4_row1_col6\" class=\"data row1 col6\" >4</td>\n",
       "      <td id=\"T_f14a4_row1_col7\" class=\"data row1 col7\" >2</td>\n",
       "      <td id=\"T_f14a4_row1_col8\" class=\"data row1 col8\" >As an eco-conscious homeowner interested in sustainable landscaping, I would love to see the following additional features or information on your website:\n",
       "\n",
       "1. A dedicated section on sustainable landscaping practices and how your company implements them.\n",
       "\n",
       "2. Information about native plant species you use and their benefits for local ecosystems.\n",
       "\n",
       "3. Details on water-saving techniques and drought-resistant landscaping options.\n",
       "\n",
       "4. A showcase of eco-friendly materials used in hardscaping, such as permeable pavers or recycled materials.\n",
       "\n",
       "5. Information on organic lawn care and pest management methods you employ.\n",
       "\n",
       "6. Case studies or before-and-after examples of sustainable landscaping projects you've completed.\n",
       "\n",
       "7. A blog or resources section with tips for homeowners on maintaining an eco-friendly landscape.\n",
       "\n",
       "8. Information about any certifications or partnerships your company has related to environmental stewardship.\n",
       "\n",
       "9. Details on how you minimize waste and practice responsible disposal methods.\n",
       "\n",
       "10. A calculator or tool to help estimate the environmental impact and potential savings of sustainable landscaping choices.</td>\n",
       "      <td id=\"T_f14a4_row1_col9\" class=\"data row1 col9\" >As an eco-conscious homeowner interested in sustainable landscaping, I would suggest adding more content and resources related to environmentally-friendly landscaping practices. It would be great to see:\n",
       "\n",
       "1. A dedicated section on sustainable landscaping techniques, such as xeriscaping, native plant gardening, and water conservation methods.\n",
       "\n",
       "2. Information about organic lawn care and pesticide-free gardening alternatives.\n",
       "\n",
       "3. A guide to selecting native plants that support local ecosystems and require less maintenance.\n",
       "\n",
       "4. Tips for creating wildlife-friendly gardens that attract pollinators and birds.\n",
       "\n",
       "5. Resources on composting and natural soil improvement techniques.\n",
       "\n",
       "6. Showcase examples of successful sustainable landscaping projects you've completed for other clients.\n",
       "\n",
       "7. Information about any eco-friendly certifications or partnerships your company has.\n",
       "\n",
       "8. A blog or articles section with regular updates on sustainable landscaping trends and tips.\n",
       "\n",
       "9. Clear labeling of eco-friendly products and services you offer.\n",
       "\n",
       "10. A calculator or tool to help homeowners estimate water savings or environmental impact of different landscaping choices.</td>\n",
       "      <td id=\"T_f14a4_row1_col10\" class=\"data row1 col10\" >3</td>\n",
       "      <td id=\"T_f14a4_row1_col11\" class=\"data row1 col11\" >3</td>\n",
       "    </tr>\n",
       "    <tr>\n",
       "      <th id=\"T_f14a4_level0_row2\" class=\"row_heading level0 row2\" >2</th>\n",
       "      <td id=\"T_f14a4_row2_col0\" class=\"data row2 col0\" >claude-3-5-sonnet-20240620</td>\n",
       "      <td id=\"T_f14a4_row2_col1\" class=\"data row2 col1\" >Retired couple looking to enhance their garden for leisure</td>\n",
       "      <td id=\"T_f14a4_row2_col2\" class=\"data row2 col2\" >No</td>\n",
       "      <td id=\"T_f14a4_row2_col3\" class=\"data row2 col3\" >Information seeking</td>\n",
       "      <td id=\"T_f14a4_row2_col4\" class=\"data row2 col4\" >8</td>\n",
       "      <td id=\"T_f14a4_row2_col5\" class=\"data row2 col5\" >About the same</td>\n",
       "      <td id=\"T_f14a4_row2_col6\" class=\"data row2 col6\" >4</td>\n",
       "      <td id=\"T_f14a4_row2_col7\" class=\"data row2 col7\" >1</td>\n",
       "      <td id=\"T_f14a4_row2_col8\" class=\"data row2 col8\" >As a retired couple interested in enhancing our garden for leisure, we would appreciate seeing the following additional features or information on your website:\n",
       "\n",
       "1. A gallery of garden designs specifically tailored for retirees or seniors, focusing on low-maintenance options and accessible layouts.\n",
       "\n",
       "2. Information about plants that are easy to care for and suitable for older gardeners who may have limited mobility or energy.\n",
       "\n",
       "3. Tips and advice for creating relaxing seating areas or peaceful nooks within the garden.\n",
       "\n",
       "4. Details about services you offer that cater to older clients, such as raised bed installations or ergonomic tool recommendations.\n",
       "\n",
       "5. Case studies or testimonials from other retired clients, showcasing how you've helped transform their gardens.\n",
       "\n",
       "6. A section on how to attract wildlife like birds and butterflies to create a more vibrant and enjoyable outdoor space.\n",
       "\n",
       "7. Information about water features that are both aesthetically pleasing and low-maintenance.\n",
       "\n",
       "8. Guidance on creating shade in the garden for comfortable outdoor relaxation during warmer months.\n",
       "\n",
       "9. A blog or resources section with articles on gardening for health and well-being, particularly for seniors.\n",
       "\n",
       "10. Clear pricing information or the option to request a quote tailored for retirees' budgets and needs.</td>\n",
       "      <td id=\"T_f14a4_row2_col9\" class=\"data row2 col9\" >As a retired couple interested in enhancing our garden, we found your website to be quite informative overall. However, we do have a few suggestions that might make it even more useful for customers like us:\n",
       "\n",
       "1. It would be helpful to have a section specifically tailored to low-maintenance gardening ideas for seniors or retirees. We're looking for beautiful outdoor spaces that don't require too much physical effort to maintain.\n",
       "\n",
       "2. Perhaps you could include more before-and-after photos of garden transformations. This would give us a better idea of what's possible for our own space.\n",
       "\n",
       "3. A FAQ section addressing common concerns for older homeowners (like accessibility, safety features in garden design, etc.) would be appreciated.\n",
       "\n",
       "4. It might be nice to have a blog or articles section with seasonal gardening tips, especially for our climate zone.\n",
       "\n",
       "5. Lastly, we'd love to see some examples of garden designs that incorporate areas for relaxation and entertaining, as we enjoy spending time outdoors with our friends and family.</td>\n",
       "      <td id=\"T_f14a4_row2_col10\" class=\"data row2 col10\" >4</td>\n",
       "      <td id=\"T_f14a4_row2_col11\" class=\"data row2 col11\" >3</td>\n",
       "    </tr>\n",
       "    <tr>\n",
       "      <th id=\"T_f14a4_level0_row3\" class=\"row_heading level0 row3\" >3</th>\n",
       "      <td id=\"T_f14a4_row3_col0\" class=\"data row3 col0\" >claude-3-5-sonnet-20240620</td>\n",
       "      <td id=\"T_f14a4_row3_col1\" class=\"data row3 col1\" >Small business owner needing attractive commercial property landscaping</td>\n",
       "      <td id=\"T_f14a4_row3_col2\" class=\"data row3 col2\" >No</td>\n",
       "      <td id=\"T_f14a4_row3_col3\" class=\"data row3 col3\" >Information seeking</td>\n",
       "      <td id=\"T_f14a4_row3_col4\" class=\"data row3 col4\" >8</td>\n",
       "      <td id=\"T_f14a4_row3_col5\" class=\"data row3 col5\" >Somewhat better</td>\n",
       "      <td id=\"T_f14a4_row3_col6\" class=\"data row3 col6\" >4</td>\n",
       "      <td id=\"T_f14a4_row3_col7\" class=\"data row3 col7\" >1</td>\n",
       "      <td id=\"T_f14a4_row3_col8\" class=\"data row3 col8\" >As a small business owner looking for commercial property landscaping, I would appreciate seeing the following additional features or information on your website:\n",
       "\n",
       "1. A dedicated section for commercial landscaping services, separate from residential offerings.\n",
       "\n",
       "2. A portfolio or gallery showcasing your previous commercial landscaping projects, ideally categorized by business type (e.g., retail, office parks, industrial).\n",
       "\n",
       "3. Information about sustainable and low-maintenance landscaping options that could help reduce long-term costs.\n",
       "\n",
       "4. Details about your maintenance services and packages for ongoing care of commercial properties.\n",
       "\n",
       "5. Case studies or testimonials specifically from other small business owners or commercial property managers.\n",
       "\n",
       "6. A guide or FAQ section addressing common concerns and questions related to commercial landscaping.\n",
       "\n",
       "7. Information about any eco-friendly practices or certifications your company has.\n",
       "\n",
       "8. An easy-to-use quote request form specifically for commercial projects.\n",
       "\n",
       "9. Details about your licensing, insurance, and any relevant certifications for commercial work.\n",
       "\n",
       "10. A blog or resources section with tips for maintaining curb appeal for businesses and the benefits of professional landscaping for commercial properties.</td>\n",
       "      <td id=\"T_f14a4_row3_col9\" class=\"data row3 col9\" >As a small business owner focused on maintaining an attractive commercial property, I would suggest adding a section to your website specifically tailored to commercial landscaping services. It would be helpful to see examples of your work on other business properties, information about maintenance contracts, and details on how you can enhance curb appeal for commercial clients. Additionally, including case studies or testimonials from other business owners could be valuable. Perhaps you could also add a feature that allows potential clients to easily request a quote or consultation for commercial landscaping projects directly through the website.</td>\n",
       "      <td id=\"T_f14a4_row3_col10\" class=\"data row3 col10\" >4</td>\n",
       "      <td id=\"T_f14a4_row3_col11\" class=\"data row3 col11\" >3</td>\n",
       "    </tr>\n",
       "    <tr>\n",
       "      <th id=\"T_f14a4_level0_row4\" class=\"row_heading level0 row4\" >4</th>\n",
       "      <td id=\"T_f14a4_row4_col0\" class=\"data row4 col0\" >claude-3-5-sonnet-20240620</td>\n",
       "      <td id=\"T_f14a4_row4_col1\" class=\"data row4 col1\" >Young family seeking a safe play area for children</td>\n",
       "      <td id=\"T_f14a4_row4_col2\" class=\"data row4 col2\" >No</td>\n",
       "      <td id=\"T_f14a4_row4_col3\" class=\"data row4 col3\" >Information seeking</td>\n",
       "      <td id=\"T_f14a4_row4_col4\" class=\"data row4 col4\" >8</td>\n",
       "      <td id=\"T_f14a4_row4_col5\" class=\"data row4 col5\" >Somewhat better</td>\n",
       "      <td id=\"T_f14a4_row4_col6\" class=\"data row4 col6\" >4</td>\n",
       "      <td id=\"T_f14a4_row4_col7\" class=\"data row4 col7\" >2</td>\n",
       "      <td id=\"T_f14a4_row4_col8\" class=\"data row4 col8\" >As a young family looking for a safe play area for our children, I would love to see more information on your website about child-friendly landscaping options. Some suggestions:\n",
       "\n",
       "1. A dedicated section on creating safe play areas in yards, including recommended materials for ground cover (like rubber mulch or artificial turf) and safe plant choices.\n",
       "\n",
       "2. Examples or case studies of family-friendly landscape designs you've completed, with before and after photos.\n",
       "\n",
       "3. Information about fencing options to create secure play spaces.\n",
       "\n",
       "4. Details on low-maintenance lawn alternatives that can withstand active play.\n",
       "\n",
       "5. Tips for incorporating fun, natural play elements like stepping stones, small hills, or child-sized hideaways into landscaping.\n",
       "\n",
       "6. A guide on poisonous plants to avoid in family yards.\n",
       "\n",
       "7. Ideas for edible landscaping that's safe for kids, like berry bushes or herb gardens.\n",
       "\n",
       "8. Information on eco-friendly pest control methods safe for children and pets.\n",
       "\n",
       "9. A blog with seasonal tips for maintaining a family-friendly yard.\n",
       "\n",
       "10. A gallery showcasing play equipment integration into landscaping designs.</td>\n",
       "      <td id=\"T_f14a4_row4_col9\" class=\"data row4 col9\" >As a young family looking for a safe play area for our children, I think it would be really helpful if your website had a section specifically focused on child-friendly landscaping options. Maybe you could include photos and descriptions of play areas you've designed, with information about safe materials and plants to use around kids. It would also be great to see some testimonials from other families about how your landscaping has enhanced their outdoor space for children. Additionally, having an easy way to schedule a consultation specifically to discuss child-safe yard designs would be appreciated.</td>\n",
       "      <td id=\"T_f14a4_row4_col10\" class=\"data row4 col10\" >4</td>\n",
       "      <td id=\"T_f14a4_row4_col11\" class=\"data row4 col11\" >4</td>\n",
       "    </tr>\n",
       "    <tr>\n",
       "      <th id=\"T_f14a4_level0_row5\" class=\"row_heading level0 row5\" >5</th>\n",
       "      <td id=\"T_f14a4_row5_col0\" class=\"data row5 col0\" >gemini-1.5-flash</td>\n",
       "      <td id=\"T_f14a4_row5_col1\" class=\"data row5 col1\" >Busy professional wanting low-maintenance yard solutions</td>\n",
       "      <td id=\"T_f14a4_row5_col2\" class=\"data row5 col2\" >No</td>\n",
       "      <td id=\"T_f14a4_row5_col3\" class=\"data row5 col3\" >Information seeking</td>\n",
       "      <td id=\"T_f14a4_row5_col4\" class=\"data row5 col4\" >7</td>\n",
       "      <td id=\"T_f14a4_row5_col5\" class=\"data row5 col5\" >Somewhat better</td>\n",
       "      <td id=\"T_f14a4_row5_col6\" class=\"data row5 col6\" >4</td>\n",
       "      <td id=\"T_f14a4_row5_col7\" class=\"data row5 col7\" >1</td>\n",
       "      <td id=\"T_f14a4_row5_col8\" class=\"data row5 col8\" >I'd appreciate seeing more examples of low-maintenance landscaping designs.  Specifically, I'd like to see photos and descriptions of xeriscaping options, drought-tolerant plants suitable for my region (please specify region options!), and hardscaping ideas that minimize upkeep.  A section dedicated to explaining the long-term cost savings associated with low-maintenance landscaping would also be very helpful.  Finally, a clearer outline of your service packages and pricing, especially those tailored to low-maintenance solutions, would be beneficial.</td>\n",
       "      <td id=\"T_f14a4_row5_col9\" class=\"data row5 col9\" >The website is generally easy to navigate.  However, for a busy professional like myself,  I'd appreciate a more prominent section showcasing low-maintenance landscaping options. Perhaps a dedicated page or filterable options within the services section highlighting drought-tolerant plants, artificial turf, or other solutions requiring minimal upkeep.  A quick visual comparison of these options would also be helpful.</td>\n",
       "      <td id=\"T_f14a4_row5_col10\" class=\"data row5 col10\" >4</td>\n",
       "      <td id=\"T_f14a4_row5_col11\" class=\"data row5 col11\" >3</td>\n",
       "    </tr>\n",
       "    <tr>\n",
       "      <th id=\"T_f14a4_level0_row6\" class=\"row_heading level0 row6\" >6</th>\n",
       "      <td id=\"T_f14a4_row6_col0\" class=\"data row6 col0\" >gemini-1.5-flash</td>\n",
       "      <td id=\"T_f14a4_row6_col1\" class=\"data row6 col1\" >Eco-conscious homeowner interested in sustainable landscaping</td>\n",
       "      <td id=\"T_f14a4_row6_col2\" class=\"data row6 col2\" >No</td>\n",
       "      <td id=\"T_f14a4_row6_col3\" class=\"data row6 col3\" >Information seeking</td>\n",
       "      <td id=\"T_f14a4_row6_col4\" class=\"data row6 col4\" >8</td>\n",
       "      <td id=\"T_f14a4_row6_col5\" class=\"data row6 col5\" >Somewhat better</td>\n",
       "      <td id=\"T_f14a4_row6_col6\" class=\"data row6 col6\" >4</td>\n",
       "      <td id=\"T_f14a4_row6_col7\" class=\"data row6 col7\" >2</td>\n",
       "      <td id=\"T_f14a4_row6_col8\" class=\"data row6 col8\" >I'd love to see more information on your sustainable landscaping practices.  Specifically, details on the types of native plants you use, your water conservation strategies (e.g., drought-tolerant landscaping, greywater systems), and your commitment to reducing pesticide and herbicide use.  Perhaps a case study or photo gallery showcasing completed projects that highlight these eco-friendly aspects would be beneficial.  Also, information on your sourcing of materials – are they locally sourced and sustainably harvested?  Finally, a section dedicated to explaining the long-term environmental benefits of choosing your landscaping services would be very helpful.</td>\n",
       "      <td id=\"T_f14a4_row6_col9\" class=\"data row6 col9\" >Yes, I do.  While the website is visually appealing, I'd love to see more emphasis on your sustainable and eco-friendly practices. Perhaps a dedicated section showcasing your use of native plants, water-wise landscaping techniques, and commitment to reducing your carbon footprint.  Including case studies or before-and-after photos of projects highlighting these aspects would be very persuasive.  Also, a list of the specific certifications or affiliations you hold related to sustainable landscaping would build trust and credibility.  Finally, a blog or resource section with articles on water conservation in landscaping, native plant benefits, or composting would be a great way to engage potential clients who share my values.</td>\n",
       "      <td id=\"T_f14a4_row6_col10\" class=\"data row6 col10\" >4</td>\n",
       "      <td id=\"T_f14a4_row6_col11\" class=\"data row6 col11\" >4</td>\n",
       "    </tr>\n",
       "    <tr>\n",
       "      <th id=\"T_f14a4_level0_row7\" class=\"row_heading level0 row7\" >7</th>\n",
       "      <td id=\"T_f14a4_row7_col0\" class=\"data row7 col0\" >gemini-1.5-flash</td>\n",
       "      <td id=\"T_f14a4_row7_col1\" class=\"data row7 col1\" >Retired couple looking to enhance their garden for leisure</td>\n",
       "      <td id=\"T_f14a4_row7_col2\" class=\"data row7 col2\" >No</td>\n",
       "      <td id=\"T_f14a4_row7_col3\" class=\"data row7 col3\" >Information seeking</td>\n",
       "      <td id=\"T_f14a4_row7_col4\" class=\"data row7 col4\" >7</td>\n",
       "      <td id=\"T_f14a4_row7_col5\" class=\"data row7 col5\" >Somewhat better</td>\n",
       "      <td id=\"T_f14a4_row7_col6\" class=\"data row7 col6\" >4</td>\n",
       "      <td id=\"T_f14a4_row7_col7\" class=\"data row7 col7\" >2</td>\n",
       "      <td id=\"T_f14a4_row7_col8\" class=\"data row7 col8\" >We really enjoyed browsing your website, but a few additions would make it even better for us.  As retired folks, we're particularly interested in:\n",
       "\n",
       "* **More detailed before & after photos:**  Larger, higher-resolution images showing the transformation of different garden styles would be fantastic.  We'd love to see examples of projects similar in scale to ours (perhaps smaller, manageable gardens).\n",
       "\n",
       "* **Client testimonials specifically focused on leisure/relaxation aspects:**  While we appreciate general testimonials, seeing comments from other retirees about how the landscaping improved their enjoyment of their garden would be very persuasive.  Things like \"easy maintenance,\" \"perfect for relaxing,\" or \"great for entertaining grandchildren\" would be particularly relevant.\n",
       "\n",
       "* **A clearer explanation of different maintenance packages:**  We're looking for low-maintenance options, so a breakdown of what's included in each maintenance plan (watering, weeding, pruning frequency, etc.) would be helpful.  Perhaps a visual guide showing the level of maintenance associated with different plant choices.\n",
       "\n",
       "* **A dedicated section on senior-friendly design features:**  This could include information about ergonomic considerations (e.g., comfortable seating areas, accessible pathways), low-maintenance plant selections, and water-wise options.</td>\n",
       "      <td id=\"T_f14a4_row7_col9\" class=\"data row7 col9\" >The website is generally easy to navigate, but I think a dedicated \"Before & After\" gallery showcasing completed projects would be very appealing.  We're retired and spend a lot of time thinking about our garden, so seeing the transformation of similar-sized gardens would be incredibly helpful in visualizing the potential of our own space.  Perhaps even categorizing the galleries by garden style (e.g., cottage garden, modern, etc.) would be beneficial.</td>\n",
       "      <td id=\"T_f14a4_row7_col10\" class=\"data row7 col10\" >4</td>\n",
       "      <td id=\"T_f14a4_row7_col11\" class=\"data row7 col11\" >3</td>\n",
       "    </tr>\n",
       "    <tr>\n",
       "      <th id=\"T_f14a4_level0_row8\" class=\"row_heading level0 row8\" >8</th>\n",
       "      <td id=\"T_f14a4_row8_col0\" class=\"data row8 col0\" >gemini-1.5-flash</td>\n",
       "      <td id=\"T_f14a4_row8_col1\" class=\"data row8 col1\" >Small business owner needing attractive commercial property landscaping</td>\n",
       "      <td id=\"T_f14a4_row8_col2\" class=\"data row8 col2\" >No</td>\n",
       "      <td id=\"T_f14a4_row8_col3\" class=\"data row8 col3\" >Information seeking</td>\n",
       "      <td id=\"T_f14a4_row8_col4\" class=\"data row8 col4\" >7</td>\n",
       "      <td id=\"T_f14a4_row8_col5\" class=\"data row8 col5\" >Somewhat better</td>\n",
       "      <td id=\"T_f14a4_row8_col6\" class=\"data row8 col6\" >3</td>\n",
       "      <td id=\"T_f14a4_row8_col7\" class=\"data row8 col7\" >1</td>\n",
       "      <td id=\"T_f14a4_row8_col8\" class=\"data row8 col8\" >I'd appreciate seeing more detailed examples of commercial landscaping projects, specifically focusing on smaller businesses like mine.  A portfolio with photos showcasing before & after shots, along with a brief description of the client's needs and the solutions implemented would be very helpful.  Also, a section detailing different maintenance packages and their pricing tiers would be beneficial for budgeting purposes.  Finally, client testimonials specifically from other small business owners would add a lot of credibility.</td>\n",
       "      <td id=\"T_f14a4_row8_col9\" class=\"data row8 col9\" >While the website is generally easy to navigate, I think adding a dedicated portfolio section showcasing *commercial* landscaping projects would be beneficial.  Many of the images currently seem residential.  Seeing examples of work similar to what I need (landscaping for a small business) would be very persuasive.  Perhaps categorizing projects by business type (e.g., retail, office, restaurant) would also be helpful.</td>\n",
       "      <td id=\"T_f14a4_row8_col10\" class=\"data row8 col10\" >4</td>\n",
       "      <td id=\"T_f14a4_row8_col11\" class=\"data row8 col11\" >3</td>\n",
       "    </tr>\n",
       "    <tr>\n",
       "      <th id=\"T_f14a4_level0_row9\" class=\"row_heading level0 row9\" >9</th>\n",
       "      <td id=\"T_f14a4_row9_col0\" class=\"data row9 col0\" >gemini-1.5-flash</td>\n",
       "      <td id=\"T_f14a4_row9_col1\" class=\"data row9 col1\" >Young family seeking a safe play area for children</td>\n",
       "      <td id=\"T_f14a4_row9_col2\" class=\"data row9 col2\" >No</td>\n",
       "      <td id=\"T_f14a4_row9_col3\" class=\"data row9 col3\" >Information seeking</td>\n",
       "      <td id=\"T_f14a4_row9_col4\" class=\"data row9 col4\" >7</td>\n",
       "      <td id=\"T_f14a4_row9_col5\" class=\"data row9 col5\" >Somewhat better</td>\n",
       "      <td id=\"T_f14a4_row9_col6\" class=\"data row9 col6\" >3</td>\n",
       "      <td id=\"T_f14a4_row9_col7\" class=\"data row9 col7\" >1</td>\n",
       "      <td id=\"T_f14a4_row9_col8\" class=\"data row9 col8\" >It would be great to see more photos and videos showcasing completed projects, especially those that highlight safe play areas for children.  Things like examples of soft landscaping (to avoid hard falls),  clearly defined play zones separate from other areas, and features like small, contained vegetable gardens that kids could help with would be really appealing.  Maybe even a section with testimonials from families with young children about their positive experiences.  Finally, a clearer breakdown of pricing options and packages tailored to creating child-friendly outdoor spaces would be very helpful.</td>\n",
       "      <td id=\"T_f14a4_row9_col9\" class=\"data row9 col9\" >While the website is easy to navigate,  it would be helpful to have a section dedicated to showcasing projects specifically designed with children's safety in mind.  Perhaps a gallery of play areas, with features highlighted like soft surfaces, age-appropriate equipment, and secure fencing.  This would really help families like ours visualize the possibilities and feel confident in choosing a landscaper who understands our needs.</td>\n",
       "      <td id=\"T_f14a4_row9_col10\" class=\"data row9 col10\" >3</td>\n",
       "      <td id=\"T_f14a4_row9_col11\" class=\"data row9 col11\" >3</td>\n",
       "    </tr>\n",
       "    <tr>\n",
       "      <th id=\"T_f14a4_level0_row10\" class=\"row_heading level0 row10\" >10</th>\n",
       "      <td id=\"T_f14a4_row10_col0\" class=\"data row10 col0\" >gpt-4o</td>\n",
       "      <td id=\"T_f14a4_row10_col1\" class=\"data row10 col1\" >Busy professional wanting low-maintenance yard solutions</td>\n",
       "      <td id=\"T_f14a4_row10_col2\" class=\"data row10 col2\" >No</td>\n",
       "      <td id=\"T_f14a4_row10_col3\" class=\"data row10 col3\" >Information seeking</td>\n",
       "      <td id=\"T_f14a4_row10_col4\" class=\"data row10 col4\" >8</td>\n",
       "      <td id=\"T_f14a4_row10_col5\" class=\"data row10 col5\" >Somewhat better</td>\n",
       "      <td id=\"T_f14a4_row10_col6\" class=\"data row10 col6\" >4</td>\n",
       "      <td id=\"T_f14a4_row10_col7\" class=\"data row10 col7\" >1</td>\n",
       "      <td id=\"T_f14a4_row10_col8\" class=\"data row10 col8\" >As a busy professional looking for low-maintenance yard solutions, I would appreciate seeing more information on your website about low-maintenance landscaping options. It would be helpful to have detailed descriptions of services like drought-resistant plants, automated irrigation systems, and easy-care landscaping designs. Additionally, having a section with estimated costs and maintenance time for different types of projects would be beneficial. A blog or resource section with tips on maintaining a low-maintenance yard would also be a great addition. Lastly, an online tool or quiz to help determine the best low-maintenance options based on my specific needs and environment would be very useful.</td>\n",
       "      <td id=\"T_f14a4_row10_col9\" class=\"data row10 col9\" >I appreciate the overall design of your website, but I think it could be more user-friendly for someone like me who is always on the go. It would be helpful to have a dedicated section for low-maintenance yard solutions, possibly with examples or packages that cater specifically to busy professionals. Additionally, a streamlined process for booking consultations or services online would be great, as it would save me time. A clear FAQ section focused on maintenance tips and service expectations would also be beneficial.</td>\n",
       "      <td id=\"T_f14a4_row10_col10\" class=\"data row10 col10\" >4</td>\n",
       "      <td id=\"T_f14a4_row10_col11\" class=\"data row10 col11\" >4</td>\n",
       "    </tr>\n",
       "    <tr>\n",
       "      <th id=\"T_f14a4_level0_row11\" class=\"row_heading level0 row11\" >11</th>\n",
       "      <td id=\"T_f14a4_row11_col0\" class=\"data row11 col0\" >gpt-4o</td>\n",
       "      <td id=\"T_f14a4_row11_col1\" class=\"data row11 col1\" >Eco-conscious homeowner interested in sustainable landscaping</td>\n",
       "      <td id=\"T_f14a4_row11_col2\" class=\"data row11 col2\" >No</td>\n",
       "      <td id=\"T_f14a4_row11_col3\" class=\"data row11 col3\" >Information seeking</td>\n",
       "      <td id=\"T_f14a4_row11_col4\" class=\"data row11 col4\" >8</td>\n",
       "      <td id=\"T_f14a4_row11_col5\" class=\"data row11 col5\" >Somewhat better</td>\n",
       "      <td id=\"T_f14a4_row11_col6\" class=\"data row11 col6\" >4</td>\n",
       "      <td id=\"T_f14a4_row11_col7\" class=\"data row11 col7\" >2</td>\n",
       "      <td id=\"T_f14a4_row11_col8\" class=\"data row11 col8\" >I would appreciate more information on sustainable landscaping practices and how your services align with those principles. It would be great to see detailed case studies or examples of eco-friendly projects you've completed. Additionally, having a section that highlights native plants and their benefits would be helpful. A blog or resource center with tips on how to maintain a sustainable garden would also be a valuable addition. Finally, a tool or guide for calculating the environmental impact or benefits of different landscaping options could be very informative.</td>\n",
       "      <td id=\"T_f14a4_row11_col9\" class=\"data row11 col9\" >I appreciate the focus on sustainability in your landscaping services, but I think the website could highlight this aspect more prominently. It would be great to see more detailed information about your eco-friendly practices and any certifications or partnerships you have related to sustainable landscaping. Additionally, including a blog or resources section with tips on sustainable gardening and landscaping would be beneficial. This could help customers like me who are interested in eco-conscious practices to make informed decisions. Lastly, ensuring that the website is easy to navigate and mobile-friendly would enhance the overall user experience.</td>\n",
       "      <td id=\"T_f14a4_row11_col10\" class=\"data row11 col10\" >4</td>\n",
       "      <td id=\"T_f14a4_row11_col11\" class=\"data row11 col11\" >4</td>\n",
       "    </tr>\n",
       "    <tr>\n",
       "      <th id=\"T_f14a4_level0_row12\" class=\"row_heading level0 row12\" >12</th>\n",
       "      <td id=\"T_f14a4_row12_col0\" class=\"data row12 col0\" >gpt-4o</td>\n",
       "      <td id=\"T_f14a4_row12_col1\" class=\"data row12 col1\" >Retired couple looking to enhance their garden for leisure</td>\n",
       "      <td id=\"T_f14a4_row12_col2\" class=\"data row12 col2\" >No</td>\n",
       "      <td id=\"T_f14a4_row12_col3\" class=\"data row12 col3\" >Information seeking</td>\n",
       "      <td id=\"T_f14a4_row12_col4\" class=\"data row12 col4\" >9</td>\n",
       "      <td id=\"T_f14a4_row12_col5\" class=\"data row12 col5\" >Somewhat better</td>\n",
       "      <td id=\"T_f14a4_row12_col6\" class=\"data row12 col6\" >4</td>\n",
       "      <td id=\"T_f14a4_row12_col7\" class=\"data row12 col7\" >1</td>\n",
       "      <td id=\"T_f14a4_row12_col8\" class=\"data row12 col8\" >As a retired couple focused on enhancing our garden for leisure, we would appreciate seeing more detailed information on plant care and maintenance tips tailored for different seasons. Additionally, it would be helpful to have a section dedicated to garden design ideas specifically for creating relaxing and leisurely spaces. Virtual garden planning tools or a gallery showcasing before-and-after transformations could also inspire us. Lastly, including a blog or video series featuring expert advice on gardening for retirees would be a wonderful addition.</td>\n",
       "      <td id=\"T_f14a4_row12_col9\" class=\"data row12 col9\" >Overall, we found your website quite user-friendly, but there are a few areas where it could be improved to better cater to customers like us. It would be helpful to have more detailed descriptions and visual examples of the different landscaping styles and services you offer. A section dedicated to garden ideas for leisure, perhaps with tips for retired individuals or those looking to create a relaxing outdoor space, would be a wonderful addition. Additionally, an easy-to-navigate gallery with before-and-after photos of past projects could provide inspiration and confidence in your work. Lastly, ensuring that contact information and service areas are prominently displayed would make it easier for potential clients to reach out.</td>\n",
       "      <td id=\"T_f14a4_row12_col10\" class=\"data row12 col10\" >4</td>\n",
       "      <td id=\"T_f14a4_row12_col11\" class=\"data row12 col11\" >4</td>\n",
       "    </tr>\n",
       "    <tr>\n",
       "      <th id=\"T_f14a4_level0_row13\" class=\"row_heading level0 row13\" >13</th>\n",
       "      <td id=\"T_f14a4_row13_col0\" class=\"data row13 col0\" >gpt-4o</td>\n",
       "      <td id=\"T_f14a4_row13_col1\" class=\"data row13 col1\" >Small business owner needing attractive commercial property landscaping</td>\n",
       "      <td id=\"T_f14a4_row13_col2\" class=\"data row13 col2\" >No</td>\n",
       "      <td id=\"T_f14a4_row13_col3\" class=\"data row13 col3\" >Information seeking</td>\n",
       "      <td id=\"T_f14a4_row13_col4\" class=\"data row13 col4\" >8</td>\n",
       "      <td id=\"T_f14a4_row13_col5\" class=\"data row13 col5\" >Somewhat better</td>\n",
       "      <td id=\"T_f14a4_row13_col6\" class=\"data row13 col6\" >4</td>\n",
       "      <td id=\"T_f14a4_row13_col7\" class=\"data row13 col7\" >1</td>\n",
       "      <td id=\"T_f14a4_row13_col8\" class=\"data row13 col8\" >As a small business owner, I would appreciate seeing more detailed portfolios of past projects, especially those similar to commercial properties. It would also be helpful to have a section dedicated to the types of businesses you've worked with and any specific landscaping solutions tailored for commercial needs. Additionally, a cost estimator tool or a clear breakdown of pricing options would be beneficial for budgeting purposes. Lastly, testimonials from other business clients and a FAQ section addressing common commercial landscaping concerns would be valuable.</td>\n",
       "      <td id=\"T_f14a4_row13_col9\" class=\"data row13 col9\" >I found your website to be quite informative, but there are a few areas where it could be improved for a better user experience. Firstly, having a portfolio section with before-and-after photos of your completed projects would be very helpful to visualize the quality of your work. Additionally, incorporating client testimonials or case studies could provide more insight into the experience and satisfaction of past clients. It would also be beneficial to have a dedicated section that outlines the specific services you offer for commercial properties, as this would help me quickly identify if you cater to my business needs. Lastly, ensuring that the website is mobile-friendly would make it easier to browse on-the-go. Overall, these enhancements could make the website more engaging and informative for potential clients like myself.</td>\n",
       "      <td id=\"T_f14a4_row13_col10\" class=\"data row13 col10\" >4</td>\n",
       "      <td id=\"T_f14a4_row13_col11\" class=\"data row13 col11\" >4</td>\n",
       "    </tr>\n",
       "    <tr>\n",
       "      <th id=\"T_f14a4_level0_row14\" class=\"row_heading level0 row14\" >14</th>\n",
       "      <td id=\"T_f14a4_row14_col0\" class=\"data row14 col0\" >gpt-4o</td>\n",
       "      <td id=\"T_f14a4_row14_col1\" class=\"data row14 col1\" >Young family seeking a safe play area for children</td>\n",
       "      <td id=\"T_f14a4_row14_col2\" class=\"data row14 col2\" >No</td>\n",
       "      <td id=\"T_f14a4_row14_col3\" class=\"data row14 col3\" >Information seeking</td>\n",
       "      <td id=\"T_f14a4_row14_col4\" class=\"data row14 col4\" >8</td>\n",
       "      <td id=\"T_f14a4_row14_col5\" class=\"data row14 col5\" >Somewhat better</td>\n",
       "      <td id=\"T_f14a4_row14_col6\" class=\"data row14 col6\" >4</td>\n",
       "      <td id=\"T_f14a4_row14_col7\" class=\"data row14 col7\" >1</td>\n",
       "      <td id=\"T_f14a4_row14_col8\" class=\"data row14 col8\" >As a young family interested in creating a safe play area for our children, it would be great to see more information on child-friendly landscaping options. Some features that would be helpful include:\n",
       "\n",
       "1. **Safety Tips**: Guidelines on creating safe play areas, including surface materials and plant choices.\n",
       "2. **Design Ideas**: Inspiration galleries specifically for family-friendly yards.\n",
       "3. **Plant Recommendations**: Information on non-toxic plants and trees that are safe for children.\n",
       "4. **Maintenance Advice**: Tips on maintaining a yard that is safe and enjoyable for kids.\n",
       "5. **Interactive Tools**: Virtual design tools to help visualize play areas or garden layouts.\n",
       "6. **Testimonials**: Stories or reviews from other families who have created similar spaces.\n",
       "7. **Expert Blog**: Articles or videos from experts on landscaping for families with young children.</td>\n",
       "      <td id=\"T_f14a4_row14_col9\" class=\"data row14 col9\" >I found your website quite user-friendly, but having a section dedicated to family-friendly landscaping ideas or safety tips for play areas would be really helpful. It would make it easier for families like ours to find relevant information and get inspired for our own projects. Additionally, including more visuals or videos showcasing completed projects could give a better sense of what to expect.</td>\n",
       "      <td id=\"T_f14a4_row14_col10\" class=\"data row14 col10\" >4</td>\n",
       "      <td id=\"T_f14a4_row14_col11\" class=\"data row14 col11\" >4</td>\n",
       "    </tr>\n",
       "  </tbody>\n",
       "</table>\n",
       "\n",
       "            </div>\n",
       "            "
      ],
      "text/plain": [
       "Dataset([{'model.model': ['claude-3-5-sonnet-20240620', 'claude-3-5-sonnet-20240620', 'claude-3-5-sonnet-20240620', 'claude-3-5-sonnet-20240620', 'claude-3-5-sonnet-20240620', 'gemini-1.5-flash', 'gemini-1.5-flash', 'gemini-1.5-flash', 'gemini-1.5-flash', 'gemini-1.5-flash', 'gpt-4o', 'gpt-4o', 'gpt-4o', 'gpt-4o', 'gpt-4o']}, {'agent.persona': ['Busy professional wanting low-maintenance yard solutions', 'Eco-conscious homeowner interested in sustainable landscaping', 'Retired couple looking to enhance their garden for leisure', 'Small business owner needing attractive commercial property landscaping', 'Young family seeking a safe play area for children', 'Busy professional wanting low-maintenance yard solutions', 'Eco-conscious homeowner interested in sustainable landscaping', 'Retired couple looking to enhance their garden for leisure', 'Small business owner needing attractive commercial property landscaping', 'Young family seeking a safe play area for children', 'Busy professional wanting low-maintenance yard solutions', 'Eco-conscious homeowner interested in sustainable landscaping', 'Retired couple looking to enhance their garden for leisure', 'Small business owner needing attractive commercial property landscaping', 'Young family seeking a safe play area for children']}, {'answer.technical_issues': ['No', 'No', 'No', 'No', 'No', 'No', 'No', 'No', 'No', 'No', 'No', 'No', 'No', 'No', 'No']}, {'answer.visit_reason': ['Information seeking', 'Information seeking', 'Information seeking', 'Information seeking', 'Information seeking', 'Information seeking', 'Information seeking', 'Information seeking', 'Information seeking', 'Information seeking', 'Information seeking', 'Information seeking', 'Information seeking', 'Information seeking', 'Information seeking']}, {'answer.recommendation_likelihood': [7, 8, 8, 8, 8, 7, 8, 7, 7, 7, 8, 8, 9, 8, 8]}, {'answer.website_comparison': ['Somewhat better', 'Somewhat better', 'About the same', 'Somewhat better', 'Somewhat better', 'Somewhat better', 'Somewhat better', 'Somewhat better', 'Somewhat better', 'Somewhat better', 'Somewhat better', 'Somewhat better', 'Somewhat better', 'Somewhat better', 'Somewhat better']}, {'answer.info_findability': [4, 4, 4, 4, 4, 4, 4, 4, 3, 3, 4, 4, 4, 4, 4]}, {'answer.visit_frequency': [1, 2, 1, 1, 2, 1, 2, 2, 1, 1, 1, 2, 1, 1, 1]}, {'answer.desired_features': ['As a busy professional looking for low-maintenance yard solutions, I would appreciate seeing the following additional features or information on your website:\\n\\n1. A dedicated section for low-maintenance landscaping options and designs.\\n\\n2. Detailed information about drought-resistant and native plants that require minimal care.\\n\\n3. Time estimates for various services, so I can better plan around my busy schedule.\\n\\n4. A gallery of before-and-after photos showcasing low-maintenance yard transformations.\\n\\n5. Maintenance schedules and tips for different types of low-maintenance landscapes.\\n\\n6. Information about automated irrigation systems and smart landscaping technology.\\n\\n7. A blog with quick, easy yard care tips for busy homeowners.\\n\\n8. Pricing guides or packages specifically tailored for low-maintenance options.\\n\\n9. Customer testimonials from other busy professionals who have used your services.\\n\\n10. An easy-to-use online booking system for consultations or services.', \"As an eco-conscious homeowner interested in sustainable landscaping, I would love to see the following additional features or information on your website:\\n\\n1. A dedicated section on sustainable landscaping practices and how your company implements them.\\n\\n2. Information about native plant species you use and their benefits for local ecosystems.\\n\\n3. Details on water-saving techniques and drought-resistant landscaping options.\\n\\n4. A showcase of eco-friendly materials used in hardscaping, such as permeable pavers or recycled materials.\\n\\n5. Information on organic lawn care and pest management methods you employ.\\n\\n6. Case studies or before-and-after examples of sustainable landscaping projects you've completed.\\n\\n7. A blog or resources section with tips for homeowners on maintaining an eco-friendly landscape.\\n\\n8. Information about any certifications or partnerships your company has related to environmental stewardship.\\n\\n9. Details on how you minimize waste and practice responsible disposal methods.\\n\\n10. A calculator or tool to help estimate the environmental impact and potential savings of sustainable landscaping choices.\", \"As a retired couple interested in enhancing our garden for leisure, we would appreciate seeing the following additional features or information on your website:\\n\\n1. A gallery of garden designs specifically tailored for retirees or seniors, focusing on low-maintenance options and accessible layouts.\\n\\n2. Information about plants that are easy to care for and suitable for older gardeners who may have limited mobility or energy.\\n\\n3. Tips and advice for creating relaxing seating areas or peaceful nooks within the garden.\\n\\n4. Details about services you offer that cater to older clients, such as raised bed installations or ergonomic tool recommendations.\\n\\n5. Case studies or testimonials from other retired clients, showcasing how you've helped transform their gardens.\\n\\n6. A section on how to attract wildlife like birds and butterflies to create a more vibrant and enjoyable outdoor space.\\n\\n7. Information about water features that are both aesthetically pleasing and low-maintenance.\\n\\n8. Guidance on creating shade in the garden for comfortable outdoor relaxation during warmer months.\\n\\n9. A blog or resources section with articles on gardening for health and well-being, particularly for seniors.\\n\\n10. Clear pricing information or the option to request a quote tailored for retirees' budgets and needs.\", 'As a small business owner looking for commercial property landscaping, I would appreciate seeing the following additional features or information on your website:\\n\\n1. A dedicated section for commercial landscaping services, separate from residential offerings.\\n\\n2. A portfolio or gallery showcasing your previous commercial landscaping projects, ideally categorized by business type (e.g., retail, office parks, industrial).\\n\\n3. Information about sustainable and low-maintenance landscaping options that could help reduce long-term costs.\\n\\n4. Details about your maintenance services and packages for ongoing care of commercial properties.\\n\\n5. Case studies or testimonials specifically from other small business owners or commercial property managers.\\n\\n6. A guide or FAQ section addressing common concerns and questions related to commercial landscaping.\\n\\n7. Information about any eco-friendly practices or certifications your company has.\\n\\n8. An easy-to-use quote request form specifically for commercial projects.\\n\\n9. Details about your licensing, insurance, and any relevant certifications for commercial work.\\n\\n10. A blog or resources section with tips for maintaining curb appeal for businesses and the benefits of professional landscaping for commercial properties.', \"As a young family looking for a safe play area for our children, I would love to see more information on your website about child-friendly landscaping options. Some suggestions:\\n\\n1. A dedicated section on creating safe play areas in yards, including recommended materials for ground cover (like rubber mulch or artificial turf) and safe plant choices.\\n\\n2. Examples or case studies of family-friendly landscape designs you've completed, with before and after photos.\\n\\n3. Information about fencing options to create secure play spaces.\\n\\n4. Details on low-maintenance lawn alternatives that can withstand active play.\\n\\n5. Tips for incorporating fun, natural play elements like stepping stones, small hills, or child-sized hideaways into landscaping.\\n\\n6. A guide on poisonous plants to avoid in family yards.\\n\\n7. Ideas for edible landscaping that's safe for kids, like berry bushes or herb gardens.\\n\\n8. Information on eco-friendly pest control methods safe for children and pets.\\n\\n9. A blog with seasonal tips for maintaining a family-friendly yard.\\n\\n10. A gallery showcasing play equipment integration into landscaping designs.\", \"I'd appreciate seeing more examples of low-maintenance landscaping designs.  Specifically, I'd like to see photos and descriptions of xeriscaping options, drought-tolerant plants suitable for my region (please specify region options!), and hardscaping ideas that minimize upkeep.  A section dedicated to explaining the long-term cost savings associated with low-maintenance landscaping would also be very helpful.  Finally, a clearer outline of your service packages and pricing, especially those tailored to low-maintenance solutions, would be beneficial.\", \"I'd love to see more information on your sustainable landscaping practices.  Specifically, details on the types of native plants you use, your water conservation strategies (e.g., drought-tolerant landscaping, greywater systems), and your commitment to reducing pesticide and herbicide use.  Perhaps a case study or photo gallery showcasing completed projects that highlight these eco-friendly aspects would be beneficial.  Also, information on your sourcing of materials – are they locally sourced and sustainably harvested?  Finally, a section dedicated to explaining the long-term environmental benefits of choosing your landscaping services would be very helpful.\", 'We really enjoyed browsing your website, but a few additions would make it even better for us.  As retired folks, we\\'re particularly interested in:\\n\\n* **More detailed before & after photos:**  Larger, higher-resolution images showing the transformation of different garden styles would be fantastic.  We\\'d love to see examples of projects similar in scale to ours (perhaps smaller, manageable gardens).\\n\\n* **Client testimonials specifically focused on leisure/relaxation aspects:**  While we appreciate general testimonials, seeing comments from other retirees about how the landscaping improved their enjoyment of their garden would be very persuasive.  Things like \"easy maintenance,\" \"perfect for relaxing,\" or \"great for entertaining grandchildren\" would be particularly relevant.\\n\\n* **A clearer explanation of different maintenance packages:**  We\\'re looking for low-maintenance options, so a breakdown of what\\'s included in each maintenance plan (watering, weeding, pruning frequency, etc.) would be helpful.  Perhaps a visual guide showing the level of maintenance associated with different plant choices.\\n\\n* **A dedicated section on senior-friendly design features:**  This could include information about ergonomic considerations (e.g., comfortable seating areas, accessible pathways), low-maintenance plant selections, and water-wise options.', \"I'd appreciate seeing more detailed examples of commercial landscaping projects, specifically focusing on smaller businesses like mine.  A portfolio with photos showcasing before & after shots, along with a brief description of the client's needs and the solutions implemented would be very helpful.  Also, a section detailing different maintenance packages and their pricing tiers would be beneficial for budgeting purposes.  Finally, client testimonials specifically from other small business owners would add a lot of credibility.\", 'It would be great to see more photos and videos showcasing completed projects, especially those that highlight safe play areas for children.  Things like examples of soft landscaping (to avoid hard falls),  clearly defined play zones separate from other areas, and features like small, contained vegetable gardens that kids could help with would be really appealing.  Maybe even a section with testimonials from families with young children about their positive experiences.  Finally, a clearer breakdown of pricing options and packages tailored to creating child-friendly outdoor spaces would be very helpful.', 'As a busy professional looking for low-maintenance yard solutions, I would appreciate seeing more information on your website about low-maintenance landscaping options. It would be helpful to have detailed descriptions of services like drought-resistant plants, automated irrigation systems, and easy-care landscaping designs. Additionally, having a section with estimated costs and maintenance time for different types of projects would be beneficial. A blog or resource section with tips on maintaining a low-maintenance yard would also be a great addition. Lastly, an online tool or quiz to help determine the best low-maintenance options based on my specific needs and environment would be very useful.', \"I would appreciate more information on sustainable landscaping practices and how your services align with those principles. It would be great to see detailed case studies or examples of eco-friendly projects you've completed. Additionally, having a section that highlights native plants and their benefits would be helpful. A blog or resource center with tips on how to maintain a sustainable garden would also be a valuable addition. Finally, a tool or guide for calculating the environmental impact or benefits of different landscaping options could be very informative.\", 'As a retired couple focused on enhancing our garden for leisure, we would appreciate seeing more detailed information on plant care and maintenance tips tailored for different seasons. Additionally, it would be helpful to have a section dedicated to garden design ideas specifically for creating relaxing and leisurely spaces. Virtual garden planning tools or a gallery showcasing before-and-after transformations could also inspire us. Lastly, including a blog or video series featuring expert advice on gardening for retirees would be a wonderful addition.', \"As a small business owner, I would appreciate seeing more detailed portfolios of past projects, especially those similar to commercial properties. It would also be helpful to have a section dedicated to the types of businesses you've worked with and any specific landscaping solutions tailored for commercial needs. Additionally, a cost estimator tool or a clear breakdown of pricing options would be beneficial for budgeting purposes. Lastly, testimonials from other business clients and a FAQ section addressing common commercial landscaping concerns would be valuable.\", 'As a young family interested in creating a safe play area for our children, it would be great to see more information on child-friendly landscaping options. Some features that would be helpful include:\\n\\n1. **Safety Tips**: Guidelines on creating safe play areas, including surface materials and plant choices.\\n2. **Design Ideas**: Inspiration galleries specifically for family-friendly yards.\\n3. **Plant Recommendations**: Information on non-toxic plants and trees that are safe for children.\\n4. **Maintenance Advice**: Tips on maintaining a yard that is safe and enjoyable for kids.\\n5. **Interactive Tools**: Virtual design tools to help visualize play areas or garden layouts.\\n6. **Testimonials**: Stories or reviews from other families who have created similar spaces.\\n7. **Expert Blog**: Articles or videos from experts on landscaping for families with young children.']}, {'answer.additional_feedback': ['As a busy professional, I appreciate websites that are streamlined and easy to navigate. I would suggest making sure your site has clear sections for different services, especially highlighting low-maintenance options. It would be great to see a gallery of before/after photos to quickly visualize potential results. Also, an online scheduling tool for consultations would be very convenient for those of us with packed schedules. Lastly, perhaps include some tips or a blog section about maintaining a beautiful yard with minimal time investment - that kind of content would be really valuable for someone in my position.', \"As an eco-conscious homeowner interested in sustainable landscaping, I would suggest adding more content and resources related to environmentally-friendly landscaping practices. It would be great to see:\\n\\n1. A dedicated section on sustainable landscaping techniques, such as xeriscaping, native plant gardening, and water conservation methods.\\n\\n2. Information about organic lawn care and pesticide-free gardening alternatives.\\n\\n3. A guide to selecting native plants that support local ecosystems and require less maintenance.\\n\\n4. Tips for creating wildlife-friendly gardens that attract pollinators and birds.\\n\\n5. Resources on composting and natural soil improvement techniques.\\n\\n6. Showcase examples of successful sustainable landscaping projects you've completed for other clients.\\n\\n7. Information about any eco-friendly certifications or partnerships your company has.\\n\\n8. A blog or articles section with regular updates on sustainable landscaping trends and tips.\\n\\n9. Clear labeling of eco-friendly products and services you offer.\\n\\n10. A calculator or tool to help homeowners estimate water savings or environmental impact of different landscaping choices.\", \"As a retired couple interested in enhancing our garden, we found your website to be quite informative overall. However, we do have a few suggestions that might make it even more useful for customers like us:\\n\\n1. It would be helpful to have a section specifically tailored to low-maintenance gardening ideas for seniors or retirees. We're looking for beautiful outdoor spaces that don't require too much physical effort to maintain.\\n\\n2. Perhaps you could include more before-and-after photos of garden transformations. This would give us a better idea of what's possible for our own space.\\n\\n3. A FAQ section addressing common concerns for older homeowners (like accessibility, safety features in garden design, etc.) would be appreciated.\\n\\n4. It might be nice to have a blog or articles section with seasonal gardening tips, especially for our climate zone.\\n\\n5. Lastly, we'd love to see some examples of garden designs that incorporate areas for relaxation and entertaining, as we enjoy spending time outdoors with our friends and family.\", 'As a small business owner focused on maintaining an attractive commercial property, I would suggest adding a section to your website specifically tailored to commercial landscaping services. It would be helpful to see examples of your work on other business properties, information about maintenance contracts, and details on how you can enhance curb appeal for commercial clients. Additionally, including case studies or testimonials from other business owners could be valuable. Perhaps you could also add a feature that allows potential clients to easily request a quote or consultation for commercial landscaping projects directly through the website.', \"As a young family looking for a safe play area for our children, I think it would be really helpful if your website had a section specifically focused on child-friendly landscaping options. Maybe you could include photos and descriptions of play areas you've designed, with information about safe materials and plants to use around kids. It would also be great to see some testimonials from other families about how your landscaping has enhanced their outdoor space for children. Additionally, having an easy way to schedule a consultation specifically to discuss child-safe yard designs would be appreciated.\", \"The website is generally easy to navigate.  However, for a busy professional like myself,  I'd appreciate a more prominent section showcasing low-maintenance landscaping options. Perhaps a dedicated page or filterable options within the services section highlighting drought-tolerant plants, artificial turf, or other solutions requiring minimal upkeep.  A quick visual comparison of these options would also be helpful.\", \"Yes, I do.  While the website is visually appealing, I'd love to see more emphasis on your sustainable and eco-friendly practices. Perhaps a dedicated section showcasing your use of native plants, water-wise landscaping techniques, and commitment to reducing your carbon footprint.  Including case studies or before-and-after photos of projects highlighting these aspects would be very persuasive.  Also, a list of the specific certifications or affiliations you hold related to sustainable landscaping would build trust and credibility.  Finally, a blog or resource section with articles on water conservation in landscaping, native plant benefits, or composting would be a great way to engage potential clients who share my values.\", 'The website is generally easy to navigate, but I think a dedicated \"Before & After\" gallery showcasing completed projects would be very appealing.  We\\'re retired and spend a lot of time thinking about our garden, so seeing the transformation of similar-sized gardens would be incredibly helpful in visualizing the potential of our own space.  Perhaps even categorizing the galleries by garden style (e.g., cottage garden, modern, etc.) would be beneficial.', 'While the website is generally easy to navigate, I think adding a dedicated portfolio section showcasing *commercial* landscaping projects would be beneficial.  Many of the images currently seem residential.  Seeing examples of work similar to what I need (landscaping for a small business) would be very persuasive.  Perhaps categorizing projects by business type (e.g., retail, office, restaurant) would also be helpful.', \"While the website is easy to navigate,  it would be helpful to have a section dedicated to showcasing projects specifically designed with children's safety in mind.  Perhaps a gallery of play areas, with features highlighted like soft surfaces, age-appropriate equipment, and secure fencing.  This would really help families like ours visualize the possibilities and feel confident in choosing a landscaper who understands our needs.\", 'I appreciate the overall design of your website, but I think it could be more user-friendly for someone like me who is always on the go. It would be helpful to have a dedicated section for low-maintenance yard solutions, possibly with examples or packages that cater specifically to busy professionals. Additionally, a streamlined process for booking consultations or services online would be great, as it would save me time. A clear FAQ section focused on maintenance tips and service expectations would also be beneficial.', 'I appreciate the focus on sustainability in your landscaping services, but I think the website could highlight this aspect more prominently. It would be great to see more detailed information about your eco-friendly practices and any certifications or partnerships you have related to sustainable landscaping. Additionally, including a blog or resources section with tips on sustainable gardening and landscaping would be beneficial. This could help customers like me who are interested in eco-conscious practices to make informed decisions. Lastly, ensuring that the website is easy to navigate and mobile-friendly would enhance the overall user experience.', 'Overall, we found your website quite user-friendly, but there are a few areas where it could be improved to better cater to customers like us. It would be helpful to have more detailed descriptions and visual examples of the different landscaping styles and services you offer. A section dedicated to garden ideas for leisure, perhaps with tips for retired individuals or those looking to create a relaxing outdoor space, would be a wonderful addition. Additionally, an easy-to-navigate gallery with before-and-after photos of past projects could provide inspiration and confidence in your work. Lastly, ensuring that contact information and service areas are prominently displayed would make it easier for potential clients to reach out.', 'I found your website to be quite informative, but there are a few areas where it could be improved for a better user experience. Firstly, having a portfolio section with before-and-after photos of your completed projects would be very helpful to visualize the quality of your work. Additionally, incorporating client testimonials or case studies could provide more insight into the experience and satisfaction of past clients. It would also be beneficial to have a dedicated section that outlines the specific services you offer for commercial properties, as this would help me quickly identify if you cater to my business needs. Lastly, ensuring that the website is mobile-friendly would make it easier to browse on-the-go. Overall, these enhancements could make the website more engaging and informative for potential clients like myself.', 'I found your website quite user-friendly, but having a section dedicated to family-friendly landscaping ideas or safety tips for play areas would be really helpful. It would make it easier for families like ours to find relevant information and get inspired for our own projects. Additionally, including more visuals or videos showcasing completed projects could give a better sense of what to expect.']}, {'answer.design_rating': [3, 3, 4, 4, 4, 4, 4, 4, 4, 3, 4, 4, 4, 4, 4]}, {'answer.content_satisfaction': [4, 3, 3, 3, 4, 3, 4, 3, 3, 3, 4, 4, 4, 4, 4]}])"
      ]
     },
     "execution_count": 28,
     "metadata": {},
     "output_type": "execute_result"
    }
   ],
   "source": [
    "(\n",
    "    new_results\n",
    "    .sort_by(\"model\", \"persona\")\n",
    "    .select(\"model\", \"persona\", \"answer.*\")\n",
    ")"
   ]
  },
  {
   "cell_type": "markdown",
   "id": "c5714be3-830f-4e04-9c0f-887235d8af72",
   "metadata": {
    "editable": true,
    "slideshow": {
     "slide_type": ""
    },
    "tags": []
   },
   "source": [
    "## Posting to the Coop\n",
    "The [Coop](https://www.expectedparrot.com/content/explore) is a platform for creating, storing and sharing LLM-based research.\n",
    "It is fully integrated with EDSL and accessible from your workspace or Coop account page.\n",
    "Learn more about [creating an account](https://www.expectedparrot.com/login) and [using the Coop](https://docs.expectedparrot.com/en/latest/coop.html).\n",
    "\n",
    "Here we demonstrate how to post this notebook:"
   ]
  },
  {
   "cell_type": "code",
   "execution_count": 29,
   "id": "6cb3e7d7-7e92-4405-b6fa-6212ba76bc6a",
   "metadata": {
    "editable": true,
    "slideshow": {
     "slide_type": ""
    },
    "tags": [
     "skip-execution"
    ]
   },
   "outputs": [],
   "source": [
    "from edsl import Notebook"
   ]
  },
  {
   "cell_type": "code",
   "execution_count": 30,
   "id": "39676a06-41ff-4949-9813-7c6d8f08612b",
   "metadata": {
    "editable": true,
    "slideshow": {
     "slide_type": ""
    },
    "tags": [
     "skip-execution"
    ]
   },
   "outputs": [],
   "source": [
    "n = Notebook(path = \"google_form_to_edsl.ipynb\")"
   ]
  },
  {
   "cell_type": "code",
   "execution_count": 31,
   "id": "014000ee-4cd3-481a-aceb-e3562c6e2cfc",
   "metadata": {
    "editable": true,
    "slideshow": {
     "slide_type": ""
    },
    "tags": [
     "skip-execution"
    ]
   },
   "outputs": [
    {
     "data": {
      "text/plain": [
       "{'description': 'Example code for using EDSL to convert a non-EDSL survey into EDSL',\n",
       " 'object_type': 'notebook',\n",
       " 'url': 'https://www.expectedparrot.com/content/3de426ce-e5a4-4434-ad01-3d91eb0e183b',\n",
       " 'uuid': '3de426ce-e5a4-4434-ad01-3d91eb0e183b',\n",
       " 'version': '0.1.39.dev2',\n",
       " 'visibility': 'public'}"
      ]
     },
     "execution_count": 31,
     "metadata": {},
     "output_type": "execute_result"
    }
   ],
   "source": [
    "info = n.push(description = \"Example code for using EDSL to convert a non-EDSL survey into EDSL\", visibility = \"public\")\n",
    "info"
   ]
  },
  {
   "cell_type": "markdown",
   "id": "a1aa5be6-f74e-4d96-93f1-5a0240cb1081",
   "metadata": {
    "editable": true,
    "slideshow": {
     "slide_type": ""
    },
    "tags": []
   },
   "source": [
    "Updating an opject at the Coop:"
   ]
  },
  {
   "cell_type": "code",
   "execution_count": 32,
   "id": "d9ff1b5b-ed42-444f-94ce-22bdd5c19c73",
   "metadata": {
    "editable": true,
    "slideshow": {
     "slide_type": ""
    },
    "tags": [
     "skip-execution"
    ]
   },
   "outputs": [],
   "source": [
    "n = Notebook(path = \"google_form_to_edsl.ipynb\") # resave"
   ]
  },
  {
   "cell_type": "code",
   "execution_count": 33,
   "id": "e53c3b32-1862-45d3-a0a1-edbebd9d3139",
   "metadata": {
    "editable": true,
    "slideshow": {
     "slide_type": ""
    },
    "tags": [
     "skip-execution"
    ]
   },
   "outputs": [
    {
     "data": {
      "text/plain": [
       "{'status': 'success'}"
      ]
     },
     "execution_count": 33,
     "metadata": {},
     "output_type": "execute_result"
    }
   ],
   "source": [
    "n.patch(uuid = info[\"uuid\"], value = n)"
   ]
  }
 ],
 "metadata": {
  "kernelspec": {
   "display_name": "Python 3 (ipykernel)",
   "language": "python",
   "name": "python3"
  },
  "language_info": {
   "codemirror_mode": {
    "name": "ipython",
    "version": 3
   },
   "file_extension": ".py",
   "mimetype": "text/x-python",
   "name": "python",
   "nbconvert_exporter": "python",
   "pygments_lexer": "ipython3",
   "version": "3.11.7"
  }
 },
 "nbformat": 4,
 "nbformat_minor": 5
}
