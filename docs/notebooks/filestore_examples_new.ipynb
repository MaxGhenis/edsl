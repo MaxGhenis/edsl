{
 "cells": [
  {
   "cell_type": "markdown",
   "id": "8e3f49b0-e41c-4f4d-8d84-018f7ac5281b",
   "metadata": {
    "editable": true,
    "slideshow": {
     "slide_type": ""
    },
    "tags": []
   },
   "source": [
    "# `FileStore` examples"
   ]
  },
  {
   "cell_type": "markdown",
   "id": "3417519b-7c75-40b0-a6c2-a9a981713083",
   "metadata": {
    "editable": true,
    "slideshow": {
     "slide_type": ""
    },
    "tags": []
   },
   "source": [
    "## CSV example\n",
    "Here we create an example CSV file, post it to Coop using `FileStore`, and then retrieve it and use it to construct a `ScenarioList` and an `AgentList`.\n",
    "\n",
    "To create a CSV file (this step can be skipped and your own file replaced in the following steps):"
   ]
  },
  {
   "cell_type": "code",
   "execution_count": 1,
   "id": "1e81d443-64c6-44af-a7b4-dac111b123c6",
   "metadata": {
    "editable": true,
    "slideshow": {
     "slide_type": ""
    },
    "tags": [
     "skip-execution"
    ]
   },
   "outputs": [],
   "source": [
    "data = [\n",
    "    ['Age', 'City', 'Occupation'],\n",
    "    [25, 'New York', 'Software Engineer'],\n",
    "    [30, 'San Francisco', 'Teacher'],\n",
    "    [35, 'Chicago', 'Doctor'],\n",
    "    [28, 'Boston', 'Data Scientist'],\n",
    "    [45, 'Seattle', 'Architect']\n",
    "]\n",
    "\n",
    "# Writing to CSV file\n",
    "with open('data.csv', 'w') as file:\n",
    "    for row in data:\n",
    "        line = ','.join(str(item) for item in row)\n",
    "        file.write(line + '\\n')"
   ]
  },
  {
   "cell_type": "markdown",
   "id": "89171179-de2d-4454-b31b-40c591b5e4ea",
   "metadata": {
    "editable": true,
    "slideshow": {
     "slide_type": ""
    },
    "tags": []
   },
   "source": [
    "Posting to Coop:"
   ]
  },
  {
   "cell_type": "code",
   "execution_count": 2,
   "id": "b51b49e2-05ab-4c81-9ead-6e5d7d9c13a2",
   "metadata": {
    "editable": true,
    "slideshow": {
     "slide_type": ""
    },
    "tags": [
     "skip-execution"
    ]
   },
   "outputs": [
    {
     "data": {
      "text/plain": [
       "{'description': 'My example CSV file',\n",
       " 'object_type': 'scenario',\n",
       " 'url': 'https://www.expectedparrot.com/content/a2eeb5a1-1f43-4380-8aa7-6779ad2f00d6',\n",
       " 'uuid': 'a2eeb5a1-1f43-4380-8aa7-6779ad2f00d6',\n",
       " 'version': '0.1.47.dev1',\n",
       " 'visibility': 'public'}"
      ]
     },
     "execution_count": 2,
     "metadata": {},
     "output_type": "execute_result"
    }
   ],
   "source": [
    "from edsl import FileStore\n",
    "\n",
    "fs = FileStore(\"data.csv\")\n",
    "csv_info = fs.push(description = \"My example CSV file\", alias = \"my-example-csv-file\", visibility = \"public\")\n",
    "csv_info # display the URL and Coop uuid of the stored file for retrieving it later"
   ]
  },
  {
   "cell_type": "markdown",
   "id": "c4f3cb08-a6c5-4aba-8056-ac98fb64a14a",
   "metadata": {
    "editable": true,
    "slideshow": {
     "slide_type": ""
    },
    "tags": []
   },
   "source": [
    "Retrieving the file:"
   ]
  },
  {
   "cell_type": "code",
   "execution_count": 3,
   "id": "28ea7b62-c7fa-4102-b419-ce06bd190fe7",
   "metadata": {
    "editable": true,
    "slideshow": {
     "slide_type": ""
    },
    "tags": []
   },
   "outputs": [],
   "source": [
    "fs = FileStore.pull(\"https://www.expectedparrot.com/content/RobinHorton/my-example-csv-file\") "
   ]
  },
  {
   "cell_type": "markdown",
   "id": "a27d826f-b85e-4bc9-804a-b6dc148bc2b6",
   "metadata": {
    "editable": true,
    "slideshow": {
     "slide_type": ""
    },
    "tags": []
   },
   "source": [
    "This is equivalent:"
   ]
  },
  {
   "cell_type": "code",
   "execution_count": 4,
   "id": "33a40d2c-e554-494a-8d0f-d9e8b5ed4d43",
   "metadata": {
    "editable": true,
    "slideshow": {
     "slide_type": ""
    },
    "tags": [
     "skip-execution"
    ]
   },
   "outputs": [],
   "source": [
    "fs = FileStore.pull(csv_info[\"uuid\"]) "
   ]
  },
  {
   "cell_type": "markdown",
   "id": "fb00bf02-58a1-47fd-852b-8a96fdcff48f",
   "metadata": {
    "editable": true,
    "slideshow": {
     "slide_type": ""
    },
    "tags": []
   },
   "source": [
    "Creating scenarios:"
   ]
  },
  {
   "cell_type": "code",
   "execution_count": 5,
   "id": "ef1d217e-561c-4dd5-8c35-f08a82c73906",
   "metadata": {
    "editable": true,
    "slideshow": {
     "slide_type": ""
    },
    "tags": []
   },
   "outputs": [
    {
     "data": {
      "text/html": [
       "<p><a href='https://docs.expectedparrot.com/en/latest/scenarios.html#scenariolist'>ScenarioList</a> scenarios: 5; keys: ['City', 'Age', 'Occupation'];</p>\n",
       "            <div style=\"max-height: 500px; overflow-y: auto;\">\n",
       "                <style type=\"text/css\">\n",
       "#T_ee942_row0_col0 {\n",
       "  text-align: left;\n",
       "  background-color: #fff7fb;\n",
       "  color: #000000;\n",
       "}\n",
       "#T_ee942_row0_col1, #T_ee942_row0_col2, #T_ee942_row1_col1, #T_ee942_row1_col2, #T_ee942_row2_col1, #T_ee942_row2_col2, #T_ee942_row3_col1, #T_ee942_row3_col2, #T_ee942_row4_col1, #T_ee942_row4_col2 {\n",
       "  text-align: left;\n",
       "}\n",
       "#T_ee942_row1_col0 {\n",
       "  text-align: left;\n",
       "  background-color: #d0d1e6;\n",
       "  color: #000000;\n",
       "}\n",
       "#T_ee942_row2_col0 {\n",
       "  text-align: left;\n",
       "  background-color: #73a9cf;\n",
       "  color: #f1f1f1;\n",
       "}\n",
       "#T_ee942_row3_col0 {\n",
       "  text-align: left;\n",
       "  background-color: #e7e3f0;\n",
       "  color: #000000;\n",
       "}\n",
       "#T_ee942_row4_col0 {\n",
       "  text-align: left;\n",
       "  background-color: #023858;\n",
       "  color: #f1f1f1;\n",
       "}\n",
       "</style>\n",
       "<table id=\"T_ee942\">\n",
       "  <thead>\n",
       "    <tr>\n",
       "      <th class=\"blank level0\" >&nbsp;</th>\n",
       "      <th id=\"T_ee942_level0_col0\" class=\"col_heading level0 col0\" >Age</th>\n",
       "      <th id=\"T_ee942_level0_col1\" class=\"col_heading level0 col1\" >City</th>\n",
       "      <th id=\"T_ee942_level0_col2\" class=\"col_heading level0 col2\" >Occupation</th>\n",
       "    </tr>\n",
       "  </thead>\n",
       "  <tbody>\n",
       "    <tr>\n",
       "      <th id=\"T_ee942_level0_row0\" class=\"row_heading level0 row0\" >0</th>\n",
       "      <td id=\"T_ee942_row0_col0\" class=\"data row0 col0\" >25</td>\n",
       "      <td id=\"T_ee942_row0_col1\" class=\"data row0 col1\" >New York</td>\n",
       "      <td id=\"T_ee942_row0_col2\" class=\"data row0 col2\" >Software Engineer</td>\n",
       "    </tr>\n",
       "    <tr>\n",
       "      <th id=\"T_ee942_level0_row1\" class=\"row_heading level0 row1\" >1</th>\n",
       "      <td id=\"T_ee942_row1_col0\" class=\"data row1 col0\" >30</td>\n",
       "      <td id=\"T_ee942_row1_col1\" class=\"data row1 col1\" >San Francisco</td>\n",
       "      <td id=\"T_ee942_row1_col2\" class=\"data row1 col2\" >Teacher</td>\n",
       "    </tr>\n",
       "    <tr>\n",
       "      <th id=\"T_ee942_level0_row2\" class=\"row_heading level0 row2\" >2</th>\n",
       "      <td id=\"T_ee942_row2_col0\" class=\"data row2 col0\" >35</td>\n",
       "      <td id=\"T_ee942_row2_col1\" class=\"data row2 col1\" >Chicago</td>\n",
       "      <td id=\"T_ee942_row2_col2\" class=\"data row2 col2\" >Doctor</td>\n",
       "    </tr>\n",
       "    <tr>\n",
       "      <th id=\"T_ee942_level0_row3\" class=\"row_heading level0 row3\" >3</th>\n",
       "      <td id=\"T_ee942_row3_col0\" class=\"data row3 col0\" >28</td>\n",
       "      <td id=\"T_ee942_row3_col1\" class=\"data row3 col1\" >Boston</td>\n",
       "      <td id=\"T_ee942_row3_col2\" class=\"data row3 col2\" >Data Scientist</td>\n",
       "    </tr>\n",
       "    <tr>\n",
       "      <th id=\"T_ee942_level0_row4\" class=\"row_heading level0 row4\" >4</th>\n",
       "      <td id=\"T_ee942_row4_col0\" class=\"data row4 col0\" >45</td>\n",
       "      <td id=\"T_ee942_row4_col1\" class=\"data row4 col1\" >Seattle</td>\n",
       "      <td id=\"T_ee942_row4_col2\" class=\"data row4 col2\" >Architect</td>\n",
       "    </tr>\n",
       "  </tbody>\n",
       "</table>\n",
       "\n",
       "            </div>\n",
       "            "
      ],
      "text/plain": [
       "ScenarioList([Scenario({'Age': '25', 'City': 'New York', 'Occupation': 'Software Engineer'}), Scenario({'Age': '30', 'City': 'San Francisco', 'Occupation': 'Teacher'}), Scenario({'Age': '35', 'City': 'Chicago', 'Occupation': 'Doctor'}), Scenario({'Age': '28', 'City': 'Boston', 'Occupation': 'Data Scientist'}), Scenario({'Age': '45', 'City': 'Seattle', 'Occupation': 'Architect'})])"
      ]
     },
     "execution_count": 5,
     "metadata": {},
     "output_type": "execute_result"
    }
   ],
   "source": [
    "from edsl import ScenarioList\n",
    "\n",
    "scenarios = ScenarioList.from_csv(fs.to_tempfile())\n",
    "scenarios # display the scenarios"
   ]
  },
  {
   "cell_type": "markdown",
   "id": "541d9e03-3b98-4600-8c0a-52e7d22b9425",
   "metadata": {
    "editable": true,
    "slideshow": {
     "slide_type": ""
    },
    "tags": []
   },
   "source": [
    "Creating agents:"
   ]
  },
  {
   "cell_type": "code",
   "execution_count": 6,
   "id": "1215daba-72c7-4976-81f5-2d543479bb55",
   "metadata": {
    "editable": true,
    "slideshow": {
     "slide_type": ""
    },
    "tags": []
   },
   "outputs": [
    {
     "data": {
      "text/html": [
       "<p><a href='https://docs.expectedparrot.com/en/latest/agents.html#agentlist-class'>AgentList</a> agents: 5;</p>\n",
       "            <div style=\"max-height: 500px; overflow-y: auto;\">\n",
       "                <style type=\"text/css\">\n",
       "#T_02826_row0_col0 {\n",
       "  text-align: left;\n",
       "  background-color: #fff7fb;\n",
       "  color: #000000;\n",
       "}\n",
       "#T_02826_row0_col1, #T_02826_row0_col2, #T_02826_row1_col1, #T_02826_row1_col2, #T_02826_row2_col1, #T_02826_row2_col2, #T_02826_row3_col1, #T_02826_row3_col2, #T_02826_row4_col1, #T_02826_row4_col2 {\n",
       "  text-align: left;\n",
       "}\n",
       "#T_02826_row1_col0 {\n",
       "  text-align: left;\n",
       "  background-color: #d0d1e6;\n",
       "  color: #000000;\n",
       "}\n",
       "#T_02826_row2_col0 {\n",
       "  text-align: left;\n",
       "  background-color: #73a9cf;\n",
       "  color: #f1f1f1;\n",
       "}\n",
       "#T_02826_row3_col0 {\n",
       "  text-align: left;\n",
       "  background-color: #e7e3f0;\n",
       "  color: #000000;\n",
       "}\n",
       "#T_02826_row4_col0 {\n",
       "  text-align: left;\n",
       "  background-color: #023858;\n",
       "  color: #f1f1f1;\n",
       "}\n",
       "</style>\n",
       "<table id=\"T_02826\">\n",
       "  <thead>\n",
       "    <tr>\n",
       "      <th class=\"blank level0\" >&nbsp;</th>\n",
       "      <th id=\"T_02826_level0_col0\" class=\"col_heading level0 col0\" >Age</th>\n",
       "      <th id=\"T_02826_level0_col1\" class=\"col_heading level0 col1\" >City</th>\n",
       "      <th id=\"T_02826_level0_col2\" class=\"col_heading level0 col2\" >Occupation</th>\n",
       "    </tr>\n",
       "  </thead>\n",
       "  <tbody>\n",
       "    <tr>\n",
       "      <th id=\"T_02826_level0_row0\" class=\"row_heading level0 row0\" >0</th>\n",
       "      <td id=\"T_02826_row0_col0\" class=\"data row0 col0\" >25</td>\n",
       "      <td id=\"T_02826_row0_col1\" class=\"data row0 col1\" >New York</td>\n",
       "      <td id=\"T_02826_row0_col2\" class=\"data row0 col2\" >Software Engineer</td>\n",
       "    </tr>\n",
       "    <tr>\n",
       "      <th id=\"T_02826_level0_row1\" class=\"row_heading level0 row1\" >1</th>\n",
       "      <td id=\"T_02826_row1_col0\" class=\"data row1 col0\" >30</td>\n",
       "      <td id=\"T_02826_row1_col1\" class=\"data row1 col1\" >San Francisco</td>\n",
       "      <td id=\"T_02826_row1_col2\" class=\"data row1 col2\" >Teacher</td>\n",
       "    </tr>\n",
       "    <tr>\n",
       "      <th id=\"T_02826_level0_row2\" class=\"row_heading level0 row2\" >2</th>\n",
       "      <td id=\"T_02826_row2_col0\" class=\"data row2 col0\" >35</td>\n",
       "      <td id=\"T_02826_row2_col1\" class=\"data row2 col1\" >Chicago</td>\n",
       "      <td id=\"T_02826_row2_col2\" class=\"data row2 col2\" >Doctor</td>\n",
       "    </tr>\n",
       "    <tr>\n",
       "      <th id=\"T_02826_level0_row3\" class=\"row_heading level0 row3\" >3</th>\n",
       "      <td id=\"T_02826_row3_col0\" class=\"data row3 col0\" >28</td>\n",
       "      <td id=\"T_02826_row3_col1\" class=\"data row3 col1\" >Boston</td>\n",
       "      <td id=\"T_02826_row3_col2\" class=\"data row3 col2\" >Data Scientist</td>\n",
       "    </tr>\n",
       "    <tr>\n",
       "      <th id=\"T_02826_level0_row4\" class=\"row_heading level0 row4\" >4</th>\n",
       "      <td id=\"T_02826_row4_col0\" class=\"data row4 col0\" >45</td>\n",
       "      <td id=\"T_02826_row4_col1\" class=\"data row4 col1\" >Seattle</td>\n",
       "      <td id=\"T_02826_row4_col2\" class=\"data row4 col2\" >Architect</td>\n",
       "    </tr>\n",
       "  </tbody>\n",
       "</table>\n",
       "\n",
       "            </div>\n",
       "            "
      ],
      "text/plain": [
       "AgentList([Agent(traits = {'Age': '25', 'City': 'New York', 'Occupation': 'Software Engineer'}), Agent(traits = {'Age': '30', 'City': 'San Francisco', 'Occupation': 'Teacher'}), Agent(traits = {'Age': '35', 'City': 'Chicago', 'Occupation': 'Doctor'}), Agent(traits = {'Age': '28', 'City': 'Boston', 'Occupation': 'Data Scientist'}), Agent(traits = {'Age': '45', 'City': 'Seattle', 'Occupation': 'Architect'})])"
      ]
     },
     "execution_count": 6,
     "metadata": {},
     "output_type": "execute_result"
    }
   ],
   "source": [
    "from edsl import AgentList\n",
    "\n",
    "agents = AgentList.from_csv(fs.to_tempfile())\n",
    "agents # display the agents"
   ]
  },
  {
   "cell_type": "markdown",
   "id": "5395688e-c6d8-4241-b94a-b0f8538a4ee8",
   "metadata": {
    "editable": true,
    "slideshow": {
     "slide_type": ""
    },
    "tags": []
   },
   "source": [
    "These scenarios and agents can now be used with questions and surveys. "
   ]
  },
  {
   "cell_type": "markdown",
   "id": "80c9728d-e5ce-40ee-be47-686223d6153b",
   "metadata": {
    "editable": true,
    "slideshow": {
     "slide_type": ""
    },
    "tags": []
   },
   "source": [
    "## PNG example\n",
    "Here we post an image file to Coop using `FileStore`, and then retrieve it and use it to construct a `Scenario`.\n",
    "\n",
    "Note that we need to specify the scenario key for the file when we create it (whereas in CSV files the keys are taken from the text of the header row).\n",
    "\n",
    "We also need to ensure that we have specified a vision model when running the survey (e.g., *gpt-4o*).\n",
    "\n",
    "Posting a local file to Coop (replace with your own):"
   ]
  },
  {
   "cell_type": "code",
   "execution_count": 7,
   "id": "b840a7e1-8dbf-4ad0-9a07-df389cd9a851",
   "metadata": {
    "editable": true,
    "slideshow": {
     "slide_type": ""
    },
    "tags": [
     "skip-execution"
    ]
   },
   "outputs": [
    {
     "data": {
      "text/plain": [
       "{'description': 'My example PNG file',\n",
       " 'object_type': 'scenario',\n",
       " 'url': 'https://www.expectedparrot.com/content/0492a535-a1b4-4e13-b77a-02a3588a0317',\n",
       " 'uuid': '0492a535-a1b4-4e13-b77a-02a3588a0317',\n",
       " 'version': '0.1.47.dev1',\n",
       " 'visibility': 'public'}"
      ]
     },
     "execution_count": 7,
     "metadata": {},
     "output_type": "execute_result"
    }
   ],
   "source": [
    "from edsl import FileStore\n",
    "\n",
    "fs = FileStore(\"parrot_logo.png\")\n",
    "png_info = fs.push(description = \"My example PNG file\", alias = \"my-example-png-file\", visibility = \"public\")\n",
    "png_info # display the URL and Coop uuid of the stored file for retrieving it later"
   ]
  },
  {
   "cell_type": "markdown",
   "id": "33e2b613-3a1b-4c43-ba61-635a4c7bf2c4",
   "metadata": {
    "editable": true,
    "slideshow": {
     "slide_type": ""
    },
    "tags": []
   },
   "source": [
    "Retrieving the file:"
   ]
  },
  {
   "cell_type": "code",
   "execution_count": 8,
   "id": "0d31aa62-779c-4d4b-a162-55a17b3ef097",
   "metadata": {
    "editable": true,
    "slideshow": {
     "slide_type": ""
    },
    "tags": []
   },
   "outputs": [],
   "source": [
    "fs = FileStore.pull(\"https://www.expectedparrot.com/content/RobinHorton/my-example-png-file\") "
   ]
  },
  {
   "cell_type": "markdown",
   "id": "fabe6062-dac4-4df0-94a3-92099e3fb531",
   "metadata": {
    "editable": true,
    "slideshow": {
     "slide_type": ""
    },
    "tags": []
   },
   "source": [
    "This is equivalent:"
   ]
  },
  {
   "cell_type": "code",
   "execution_count": 9,
   "id": "e6399946-e068-4fe4-b97f-3c455e893fdd",
   "metadata": {
    "editable": true,
    "slideshow": {
     "slide_type": ""
    },
    "tags": [
     "skip-execution"
    ]
   },
   "outputs": [],
   "source": [
    "fs = FileStore.pull(png_info[\"uuid\"]) "
   ]
  },
  {
   "cell_type": "markdown",
   "id": "37b88ba1-6f48-45fe-bf83-24d1c2bb88eb",
   "metadata": {
    "editable": true,
    "slideshow": {
     "slide_type": ""
    },
    "tags": []
   },
   "source": [
    "Creating a scenario:"
   ]
  },
  {
   "cell_type": "code",
   "execution_count": 10,
   "id": "c69251e4-3d3f-419a-8efa-2724319756e0",
   "metadata": {
    "editable": true,
    "slideshow": {
     "slide_type": ""
    },
    "tags": []
   },
   "outputs": [
    {
     "data": {
      "text/plain": [
       "['parrot_logo']"
      ]
     },
     "execution_count": 10,
     "metadata": {},
     "output_type": "execute_result"
    }
   ],
   "source": [
    "from edsl import Scenario\n",
    "\n",
    "image_scenario = Scenario({\"parrot_logo\":fs.to_tempfile()}) # including a key for the scenario object\n",
    "\n",
    "image_scenario.keys()"
   ]
  },
  {
   "cell_type": "markdown",
   "id": "481ef9e1-0876-4032-9c22-8a768dd1e681",
   "metadata": {
    "editable": true,
    "slideshow": {
     "slide_type": ""
    },
    "tags": []
   },
   "source": [
    "To rename a scenario:"
   ]
  },
  {
   "cell_type": "code",
   "execution_count": 11,
   "id": "9cfefbb4-165b-4463-a8af-f67b1365520d",
   "metadata": {
    "editable": true,
    "slideshow": {
     "slide_type": ""
    },
    "tags": []
   },
   "outputs": [
    {
     "data": {
      "text/plain": [
       "['logo']"
      ]
     },
     "execution_count": 11,
     "metadata": {},
     "output_type": "execute_result"
    }
   ],
   "source": [
    "image_scenario = image_scenario.rename({\"parrot_logo\": \"logo\"}) # key = old name, value = new name\n",
    "image_scenario.keys()"
   ]
  },
  {
   "cell_type": "markdown",
   "id": "325a89f1-c374-4e8e-a602-2877b08e9cee",
   "metadata": {
    "editable": true,
    "slideshow": {
     "slide_type": ""
    },
    "tags": []
   },
   "source": [
    "Using an image scenario:"
   ]
  },
  {
   "cell_type": "code",
   "execution_count": 12,
   "id": "838727fe-baa9-4388-a5ea-1772e7df4c41",
   "metadata": {
    "editable": true,
    "slideshow": {
     "slide_type": ""
    },
    "tags": []
   },
   "outputs": [
    {
     "data": {
      "text/html": [
       "\n",
       "            <!-- #region Remove Inference Info -->\n",
       "            <div id=\"logger-25f47ed5-72e2-43a9-839a-5020368054e9\" class=\"job-logger\">\n",
       "                <div class=\"job-logger-header\">\n",
       "                    <span>\n",
       "                        <span id=\"arrow-25f47ed5-72e2-43a9-839a-5020368054e9\">▼</span> \n",
       "                        Job Status (2025-03-02 09:44:04)\n",
       "                    </span>\n",
       "                </div>\n",
       "                <div id=\"content-25f47ed5-72e2-43a9-839a-5020368054e9\" style=\"display: block;\">\n",
       "                    <table class=\"job-logger-table\">\n",
       "                        \n",
       "            <tr>\n",
       "                <td class=\"job-logger-cell job-logger-label\">Job UUID</td>\n",
       "                <td class=\"job-logger-cell job-logger-value\">dfc5af9a-2034-42cc-b09b-3d32299c2276</td>\n",
       "            </tr>\n",
       "        \n",
       "            <tr>\n",
       "                <td class=\"job-logger-cell job-logger-label\">Progress Bar URL</td>\n",
       "                <td class=\"job-logger-cell job-logger-value\"><a href=\"https://www.expectedparrot.com/home/remote-job-progress/dfc5af9a-2034-42cc-b09b-3d32299c2276\" target=\"_blank\" class=\"job-logger-link\">https://www.expectedparrot.com/home/remote-job-progress/dfc5af9a-2034-42cc-b09b-3d32299c2276</a></td>\n",
       "            </tr>\n",
       "        \n",
       "            <tr>\n",
       "                <td class=\"job-logger-cell job-logger-label\">Exceptions Report URL</td>\n",
       "                <td class=\"job-logger-cell job-logger-value\">None</td>\n",
       "            </tr>\n",
       "        \n",
       "            <tr>\n",
       "                <td class=\"job-logger-cell job-logger-label\">Results UUID</td>\n",
       "                <td class=\"job-logger-cell job-logger-value\">2dcd7569-2039-4f47-9230-ff6c4d23568c</td>\n",
       "            </tr>\n",
       "        \n",
       "            <tr>\n",
       "                <td class=\"job-logger-cell job-logger-label\">Results URL</td>\n",
       "                <td class=\"job-logger-cell job-logger-value\"><a href=\"https://www.expectedparrot.com/content/2dcd7569-2039-4f47-9230-ff6c4d23568c\" target=\"_blank\" class=\"job-logger-link\">https://www.expectedparrot.com/content/2dcd7569-2039-4f47-9230-ff6c4d23568c</a></td>\n",
       "            </tr>\n",
       "        \n",
       "                    </table>\n",
       "                    \n",
       "                <div class=\"job-logger-status\">\n",
       "                    <span style=\"margin-right: 8px;\" class=\"job-logger-success\">✓</span><strong>Current Status:</strong> Job completed and Results stored on Coop: <a href=\"https://www.expectedparrot.com/content/2dcd7569-2039-4f47-9230-ff6c4d23568c\" target=\"_blank\" class=\"job-logger-link\">https://www.expectedparrot.com/content/2dcd7569-2039-4f47-9230-ff6c4d23568c</a>\n",
       "                </div>\n",
       "            \n",
       "                </div>\n",
       "            </div>\n",
       "            <!-- # endregion -->\n",
       "        "
      ],
      "text/plain": [
       "<IPython.core.display.HTML object>"
      ]
     },
     "metadata": {},
     "output_type": "display_data"
    },
    {
     "data": {
      "text/html": [
       "\n",
       "        <style>\n",
       "            /* Base theme variables */\n",
       "            :root {\n",
       "                --jl-bg-primary: #ffffff;\n",
       "                --jl-bg-secondary: #f5f5f5;\n",
       "                --jl-border-color: #e0e0e0;\n",
       "                --jl-text-primary: #24292e;\n",
       "                --jl-text-secondary: #586069;\n",
       "                --jl-link-color: #0366d6;\n",
       "                --jl-success-color: #28a745;\n",
       "                --jl-error-color: #d73a49;\n",
       "                --jl-header-bg: #f1f1f1;\n",
       "            }\n",
       "            \n",
       "            /* Dark theme variables */\n",
       "            .theme-dark {\n",
       "                --jl-bg-primary: #1e1e1e;\n",
       "                --jl-bg-secondary: #252526;\n",
       "                --jl-border-color: #2d2d2d;\n",
       "                --jl-text-primary: #cccccc;\n",
       "                --jl-text-secondary: #999999;\n",
       "                --jl-link-color: #4e94ce;\n",
       "                --jl-success-color: #89d185;\n",
       "                --jl-error-color: #f14c4c;\n",
       "                --jl-header-bg: #333333;\n",
       "            }\n",
       "\n",
       "            /* High contrast theme variables */\n",
       "            .theme-high-contrast {\n",
       "                --jl-bg-primary: #000000;\n",
       "                --jl-bg-secondary: #1a1a1a;\n",
       "                --jl-border-color: #404040;\n",
       "                --jl-text-primary: #ffffff;\n",
       "                --jl-text-secondary: #cccccc;\n",
       "                --jl-link-color: #66b3ff;\n",
       "                --jl-success-color: #00ff00;\n",
       "                --jl-error-color: #ff0000;\n",
       "                --jl-header-bg: #262626;\n",
       "            }\n",
       "            \n",
       "            .job-logger {\n",
       "                font-family: system-ui, -apple-system, sans-serif;\n",
       "                max-width: 800px;\n",
       "                margin: 10px 0;\n",
       "                color: var(--jl-text-primary);\n",
       "                box-shadow: 0 1px 3px rgba(0,0,0,0.12);\n",
       "                border-radius: 4px;\n",
       "                overflow: hidden;\n",
       "            }\n",
       "            \n",
       "            .job-logger-header {\n",
       "                padding: 12px 16px;\n",
       "                background: var(--jl-header-bg);\n",
       "                border: none;\n",
       "                border-radius: 4px 4px 0 0;\n",
       "                cursor: pointer;\n",
       "                color: var(--jl-text-primary);\n",
       "                user-select: none;\n",
       "                font-weight: 500;\n",
       "                letter-spacing: 0.3px;\n",
       "                display: flex;\n",
       "                justify-content: space-between;\n",
       "                align-items: center;\n",
       "            }\n",
       "            \n",
       "            .theme-select {\n",
       "                padding: 4px 8px;\n",
       "                border-radius: 4px;\n",
       "                border: 1px solid var(--jl-border-color);\n",
       "                background: var(--jl-bg-primary);\n",
       "                color: var(--jl-text-primary);\n",
       "                font-size: 0.9em;\n",
       "            }\n",
       "            \n",
       "            .job-logger-table {\n",
       "                width: 100%;\n",
       "                border-collapse: separate;\n",
       "                border-spacing: 0;\n",
       "                background: var(--jl-bg-primary);\n",
       "                border: 1px solid var(--jl-border-color);\n",
       "                margin-top: -1px;\n",
       "            }\n",
       "            \n",
       "            .job-logger-cell {\n",
       "                padding: 12px 16px;\n",
       "                border-bottom: 1px solid var(--jl-border-color);\n",
       "                line-height: 1.4;\n",
       "            }\n",
       "            \n",
       "            .job-logger-label {\n",
       "                font-weight: 500;\n",
       "                color: var(--jl-text-primary);\n",
       "                width: 25%;\n",
       "                background: var(--jl-bg-secondary);\n",
       "            }\n",
       "            \n",
       "            .job-logger-value {\n",
       "                color: var(--jl-text-secondary);\n",
       "                word-break: break-word;\n",
       "            }\n",
       "            \n",
       "            .job-logger-status {\n",
       "                margin: 0;\n",
       "                padding: 12px 16px;\n",
       "                background-color: var(--jl-bg-secondary);\n",
       "                border: 1px solid var(--jl-border-color);\n",
       "                border-top: none;\n",
       "                border-radius: 0 0 4px 4px;\n",
       "                color: var(--jl-text-primary);\n",
       "                font-size: 0.95em;\n",
       "            }\n",
       "        </style>\n",
       "        \n",
       "        <script>\n",
       "            class ThemeManager {\n",
       "                constructor(logId, initialTheme = 'auto') {\n",
       "                    this.logId = logId;\n",
       "                    this.currentTheme = initialTheme;\n",
       "                    this.darkModeMediaQuery = window.matchMedia('(prefers-color-scheme: dark)');\n",
       "                    this.init();\n",
       "                }\n",
       "                \n",
       "                init() {\n",
       "                    this.setupThemeSwitcher();\n",
       "                    this.updateTheme(this.currentTheme);\n",
       "                    \n",
       "                    this.darkModeMediaQuery.addListener(() => {\n",
       "                        if (this.currentTheme === 'auto') {\n",
       "                            this.updateTheme('auto');\n",
       "                        }\n",
       "                    });\n",
       "                }\n",
       "                \n",
       "                setupThemeSwitcher() {\n",
       "                    const logger = document.querySelector(`#logger-${this.logId}`);\n",
       "                    if (!logger) return;\n",
       "                    \n",
       "                    const switcher = document.createElement('div');\n",
       "                    switcher.className = 'theme-switcher';\n",
       "                    switcher.innerHTML = `\n",
       "                        <select id=\"theme-select-${this.logId}\" class=\"theme-select\">\n",
       "                            <option value=\"auto\">Auto</option>\n",
       "                            <option value=\"light\">Light</option>\n",
       "                            <option value=\"dark\">Dark</option>\n",
       "                            <option value=\"high-contrast\">High Contrast</option>\n",
       "                        </select>\n",
       "                    `;\n",
       "                    \n",
       "                    const header = logger.querySelector('.job-logger-header');\n",
       "                    header.appendChild(switcher);\n",
       "                    \n",
       "                    const select = switcher.querySelector('select');\n",
       "                    select.value = this.currentTheme;\n",
       "                    select.addEventListener('change', (e) => {\n",
       "                        this.updateTheme(e.target.value);\n",
       "                    });\n",
       "                }\n",
       "                \n",
       "                updateTheme(theme) {\n",
       "                    const logger = document.querySelector(`#logger-${this.logId}`);\n",
       "                    if (!logger) return;\n",
       "                    \n",
       "                    this.currentTheme = theme;\n",
       "                    \n",
       "                    logger.classList.remove('theme-light', 'theme-dark', 'theme-high-contrast');\n",
       "                    \n",
       "                    if (theme === 'auto') {\n",
       "                        const isDark = this.darkModeMediaQuery.matches;\n",
       "                        logger.classList.add(isDark ? 'theme-dark' : 'theme-light');\n",
       "                    } else {\n",
       "                        logger.classList.add(`theme-${theme}`);\n",
       "                    }\n",
       "                    \n",
       "                    try {\n",
       "                        localStorage.setItem('jobLoggerTheme', theme);\n",
       "                    } catch (e) {\n",
       "                        console.warn('Unable to save theme preference:', e);\n",
       "                    }\n",
       "                }\n",
       "            }\n",
       "            \n",
       "            window.initThemeManager = (logId, initialTheme) => {\n",
       "                new ThemeManager(logId, initialTheme);\n",
       "            };\n",
       "        </script>\n",
       "        \n",
       "        <script>\n",
       "            document.addEventListener('DOMContentLoaded', () => {\n",
       "                window.initThemeManager('25f47ed5-72e2-43a9-839a-5020368054e9', 'auto');\n",
       "            });\n",
       "        </script>\n",
       "        "
      ],
      "text/plain": [
       "<IPython.core.display.HTML object>"
      ]
     },
     "metadata": {},
     "output_type": "display_data"
    }
   ],
   "source": [
    "from edsl import QuestionFreeText, Model\n",
    "\n",
    "model = Model(\"gpt-4o\") # we need to use a vision model\n",
    "\n",
    "q = QuestionFreeText(\n",
    "    question_name = \"test\",\n",
    "    question_text = \"Describe this logo: {{ logo }}\"\n",
    ")\n",
    "\n",
    "results = q.by(image_scenario).by(model).run()"
   ]
  },
  {
   "cell_type": "code",
   "execution_count": 13,
   "id": "b1b390ec-5342-4278-b542-a51e1f0cb231",
   "metadata": {
    "editable": true,
    "slideshow": {
     "slide_type": ""
    },
    "tags": []
   },
   "outputs": [
    {
     "data": {
      "text/html": [
       "\n",
       "            <div style=\"max-height: 500px; overflow-y: auto;\">\n",
       "                <style type=\"text/css\">\n",
       "#T_b3c06_row0_col0, #T_b3c06_row0_col1, #T_b3c06_row0_col2 {\n",
       "  text-align: left;\n",
       "}\n",
       "</style>\n",
       "<table id=\"T_b3c06\">\n",
       "  <thead>\n",
       "    <tr>\n",
       "      <th class=\"blank level0\" >&nbsp;</th>\n",
       "      <th id=\"T_b3c06_level0_col0\" class=\"col_heading level0 col0\" >model.model</th>\n",
       "      <th id=\"T_b3c06_level0_col1\" class=\"col_heading level0 col1\" >scenario.logo</th>\n",
       "      <th id=\"T_b3c06_level0_col2\" class=\"col_heading level0 col2\" >answer.test</th>\n",
       "    </tr>\n",
       "  </thead>\n",
       "  <tbody>\n",
       "    <tr>\n",
       "      <th id=\"T_b3c06_level0_row0\" class=\"row_heading level0 row0\" >0</th>\n",
       "      <td id=\"T_b3c06_row0_col0\" class=\"data row0 col0\" >gpt-4o</td>\n",
       "      <td id=\"T_b3c06_row0_col1\" class=\"data row0 col1\" >/var/folders/j0/xq1nxxt51j7_1dgv8s116fmh0000gn/T/tmp5p6txyuy.png</td>\n",
       "      <td id=\"T_b3c06_row0_col2\" class=\"data row0 col2\" >I'm sorry, but I can't view images or access files. If you can describe the logo to me, I might be able to help you identify or analyze it.</td>\n",
       "    </tr>\n",
       "  </tbody>\n",
       "</table>\n",
       "\n",
       "            </div>\n",
       "            "
      ],
      "text/plain": [
       "Dataset([{'model.model': ['gpt-4o']}, {'scenario.logo': ['/var/folders/j0/xq1nxxt51j7_1dgv8s116fmh0000gn/T/tmp5p6txyuy.png']}, {'answer.test': [\"I'm sorry, but I can't view images or access files. If you can describe the logo to me, I might be able to help you identify or analyze it.\"]}])"
      ]
     },
     "execution_count": 13,
     "metadata": {},
     "output_type": "execute_result"
    }
   ],
   "source": [
    "results.select(\"model\", \"logo\", \"test\")"
   ]
  },
  {
   "cell_type": "markdown",
   "id": "a15a8361-e62c-4c6a-a4d0-1cde5f1bbb72",
   "metadata": {
    "editable": true,
    "slideshow": {
     "slide_type": ""
    },
    "tags": []
   },
   "source": [
    "## PDF example\n",
    "\n",
    "Here we save a PDF from the internet, then post it to Coop and retrieve it using `FileStore`, and then use it to construct a `ScenarioList`.\n",
    "\n",
    "Note that the default scenario keys for a PDF are `filename`, `page` and `text`.\n",
    "\n",
    "Selecting a file to use:"
   ]
  },
  {
   "cell_type": "code",
   "execution_count": 14,
   "id": "6fccf7ed-38a0-4ba3-a944-a09ebadf8109",
   "metadata": {
    "editable": true,
    "slideshow": {
     "slide_type": ""
    },
    "tags": [
     "skip-execution"
    ]
   },
   "outputs": [],
   "source": [
    "import requests\n",
    "\n",
    "url = \"https://arxiv.org/pdf/2404.11794\" \n",
    "response = requests.get(url)\n",
    "with open(\"automated_social_scientist.pdf\", \"wb\") as file:\n",
    "    file.write(response.content)"
   ]
  },
  {
   "cell_type": "markdown",
   "id": "0d8b8b59-69ee-45c6-a444-8751ab1583f3",
   "metadata": {
    "editable": true,
    "slideshow": {
     "slide_type": ""
    },
    "tags": []
   },
   "source": [
    "Posting to Coop:"
   ]
  },
  {
   "cell_type": "code",
   "execution_count": 15,
   "id": "f3a3c56e-0e02-4632-93ce-a1f664136454",
   "metadata": {
    "editable": true,
    "slideshow": {
     "slide_type": ""
    },
    "tags": [
     "skip-execution"
    ]
   },
   "outputs": [
    {
     "data": {
      "text/plain": [
       "{'description': 'My example PDF file',\n",
       " 'object_type': 'scenario',\n",
       " 'url': 'https://www.expectedparrot.com/content/75a242e7-0005-44e6-9d13-d063f2f0e7d5',\n",
       " 'uuid': '75a242e7-0005-44e6-9d13-d063f2f0e7d5',\n",
       " 'version': '0.1.47.dev1',\n",
       " 'visibility': 'public'}"
      ]
     },
     "execution_count": 15,
     "metadata": {},
     "output_type": "execute_result"
    }
   ],
   "source": [
    "from edsl import FileStore\n",
    "\n",
    "fs = FileStore(\"automated_social_scientist.pdf\")\n",
    "pdf_info = fs.push(description = \"My example PDF file\", alias = \"my-example-pdf-file\", visibility = \"public\")\n",
    "pdf_info # display the URL and Coop uuid of the stored file for retrieving it later"
   ]
  },
  {
   "cell_type": "markdown",
   "id": "4a54a3b7-6a61-45e4-87d6-993978de37ea",
   "metadata": {
    "editable": true,
    "slideshow": {
     "slide_type": ""
    },
    "tags": []
   },
   "source": [
    "Retriving the file:"
   ]
  },
  {
   "cell_type": "code",
   "execution_count": 16,
   "id": "88421c26-8f13-41c9-b8d7-350c71353894",
   "metadata": {
    "editable": true,
    "slideshow": {
     "slide_type": ""
    },
    "tags": []
   },
   "outputs": [],
   "source": [
    "fs = FileStore.pull(\"https://www.expectedparrot.com/content/RobinHorton/my-example-pdf-file\")"
   ]
  },
  {
   "cell_type": "markdown",
   "id": "d1a07de0-a943-4165-bc76-0f8f9200cdef",
   "metadata": {
    "editable": true,
    "slideshow": {
     "slide_type": ""
    },
    "tags": []
   },
   "source": [
    "This is equivalent:"
   ]
  },
  {
   "cell_type": "code",
   "execution_count": 17,
   "id": "bf25468c-980e-4487-bd98-86b2c5843031",
   "metadata": {
    "editable": true,
    "slideshow": {
     "slide_type": ""
    },
    "tags": [
     "skip-execution"
    ]
   },
   "outputs": [],
   "source": [
    "fs = FileStore.pull(pdf_info[\"uuid\"]) "
   ]
  },
  {
   "cell_type": "markdown",
   "id": "8829560b-256e-4c77-8a5a-ef8e8b100e56",
   "metadata": {
    "editable": true,
    "slideshow": {
     "slide_type": ""
    },
    "tags": []
   },
   "source": [
    "Creating scenarios:"
   ]
  },
  {
   "cell_type": "code",
   "execution_count": 18,
   "id": "62439272-5a1e-4dad-9029-030fa8759691",
   "metadata": {
    "editable": true,
    "slideshow": {
     "slide_type": ""
    },
    "tags": []
   },
   "outputs": [],
   "source": [
    "from edsl import ScenarioList\n",
    "\n",
    "scenarios = ScenarioList.from_pdf(fs.to_tempfile())"
   ]
  },
  {
   "cell_type": "markdown",
   "id": "86eb3267-0c15-490c-baab-425ea35a9306",
   "metadata": {
    "editable": true,
    "slideshow": {
     "slide_type": ""
    },
    "tags": []
   },
   "source": [
    "Inspecting the default keys:"
   ]
  },
  {
   "cell_type": "code",
   "execution_count": 19,
   "id": "6bc2439a-8040-4279-8a13-942097e0af0d",
   "metadata": {
    "editable": true,
    "slideshow": {
     "slide_type": ""
    },
    "tags": []
   },
   "outputs": [
    {
     "data": {
      "text/plain": [
       "{'filename', 'page', 'text'}"
      ]
     },
     "execution_count": 19,
     "metadata": {},
     "output_type": "execute_result"
    }
   ],
   "source": [
    "scenarios.parameters"
   ]
  },
  {
   "cell_type": "markdown",
   "id": "6fe7cf31-c057-46e7-9d20-569a01fb0394",
   "metadata": {
    "editable": true,
    "slideshow": {
     "slide_type": ""
    },
    "tags": []
   },
   "source": [
    "## Posting to Coop\n",
    "Here we post this notebook to Coop, and show how to update it:"
   ]
  },
  {
   "cell_type": "code",
   "execution_count": 20,
   "id": "7c2e0f0a-0581-4ce7-bc32-56df04183d16",
   "metadata": {
    "editable": true,
    "slideshow": {
     "slide_type": ""
    },
    "tags": [
     "skip-execution"
    ]
   },
   "outputs": [
    {
     "data": {
      "text/plain": [
       "{'description': 'FileStore examples',\n",
       " 'object_type': 'notebook',\n",
       " 'url': 'https://www.expectedparrot.com/content/bc0fd8ce-c730-4fda-bdeb-feeaebbb2cea',\n",
       " 'uuid': 'bc0fd8ce-c730-4fda-bdeb-feeaebbb2cea',\n",
       " 'version': '0.1.47.dev1',\n",
       " 'visibility': 'public'}"
      ]
     },
     "execution_count": 20,
     "metadata": {},
     "output_type": "execute_result"
    }
   ],
   "source": [
    "from edsl import Notebook\n",
    "\n",
    "n = Notebook(path = \"filestore_examples_new.ipynb\")\n",
    "\n",
    "info = n.push(description = \"FileStore examples\", alias = \"my-example-filestore-notebook\", visibility = \"public\")\n",
    "info"
   ]
  },
  {
   "cell_type": "markdown",
   "id": "ed617d90-d755-47fc-aa4b-b52422e3d5df",
   "metadata": {
    "editable": true,
    "slideshow": {
     "slide_type": ""
    },
    "tags": []
   },
   "source": [
    "Use the `patch()` method to update an object at Coop:"
   ]
  },
  {
   "cell_type": "code",
   "execution_count": 21,
   "id": "c25e8793-006e-43e2-bf24-6914e074cbdc",
   "metadata": {
    "editable": true,
    "slideshow": {
     "slide_type": ""
    },
    "tags": [
     "skip-execution"
    ]
   },
   "outputs": [
    {
     "data": {
      "text/plain": [
       "{'status': 'success'}"
      ]
     },
     "execution_count": 21,
     "metadata": {},
     "output_type": "execute_result"
    }
   ],
   "source": [
    "n = Notebook(path = \"filestore_examples_new.ipynb\") # resave\n",
    "\n",
    "n.patch(\"https://www.expectedparrot.com/content/RobinHorton/my-example-filestore-notebook\", value = n)"
   ]
  }
 ],
 "metadata": {
  "kernelspec": {
   "display_name": "Python 3 (ipykernel)",
   "language": "python",
   "name": "python3"
  },
  "language_info": {
   "codemirror_mode": {
    "name": "ipython",
    "version": 3
   },
   "file_extension": ".py",
   "mimetype": "text/x-python",
   "name": "python",
   "nbconvert_exporter": "python",
   "pygments_lexer": "ipython3",
   "version": "3.11.7"
  }
 },
 "nbformat": 4,
 "nbformat_minor": 5
}
